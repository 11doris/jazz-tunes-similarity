{
  "nbformat": 4,
  "nbformat_minor": 0,
  "metadata": {
    "colab": {
      "name": "colab_g_recommender_score",
      "provenance": [],
      "toc_visible": true,
      "authorship_tag": "ABX9TyMvFZX5fZyGaNeP5LxOXtjX",
      "include_colab_link": true
    },
    "kernelspec": {
      "name": "python3",
      "display_name": "Python 3"
    },
    "language_info": {
      "name": "python"
    },
    "accelerator": "TPU",
    "widgets": {
      "application/vnd.jupyter.widget-state+json": {
        "6ba5b4fa74104a7fadf8e50622307083": {
          "model_module": "@jupyter-widgets/controls",
          "model_name": "VBoxModel",
          "model_module_version": "1.5.0",
          "state": {
            "_view_name": "VBoxView",
            "_dom_classes": [],
            "_model_name": "VBoxModel",
            "_view_module": "@jupyter-widgets/controls",
            "_model_module_version": "1.5.0",
            "_view_count": null,
            "_view_module_version": "1.5.0",
            "box_style": "",
            "layout": "IPY_MODEL_5fae15f919d249d38b3fc3dfcbe9467f",
            "_model_module": "@jupyter-widgets/controls",
            "children": [
              "IPY_MODEL_b7d66d72eb20447391f83e731bcdc3a3",
              "IPY_MODEL_a69ab07f28534a93baf8b68234ec78bb"
            ]
          }
        },
        "5fae15f919d249d38b3fc3dfcbe9467f": {
          "model_module": "@jupyter-widgets/base",
          "model_name": "LayoutModel",
          "model_module_version": "1.2.0",
          "state": {
            "_view_name": "LayoutView",
            "grid_template_rows": null,
            "right": null,
            "justify_content": null,
            "_view_module": "@jupyter-widgets/base",
            "overflow": null,
            "_model_module_version": "1.2.0",
            "_view_count": null,
            "flex_flow": null,
            "width": null,
            "min_width": null,
            "border": null,
            "align_items": null,
            "bottom": null,
            "_model_module": "@jupyter-widgets/base",
            "top": null,
            "grid_column": null,
            "overflow_y": null,
            "overflow_x": null,
            "grid_auto_flow": null,
            "grid_area": null,
            "grid_template_columns": null,
            "flex": null,
            "_model_name": "LayoutModel",
            "justify_items": null,
            "grid_row": null,
            "max_height": null,
            "align_content": null,
            "visibility": null,
            "align_self": null,
            "height": null,
            "min_height": null,
            "padding": null,
            "grid_auto_rows": null,
            "grid_gap": null,
            "max_width": null,
            "order": null,
            "_view_module_version": "1.2.0",
            "grid_template_areas": null,
            "object_position": null,
            "object_fit": null,
            "grid_auto_columns": null,
            "margin": null,
            "display": null,
            "left": null
          }
        },
        "b7d66d72eb20447391f83e731bcdc3a3": {
          "model_module": "@jupyter-widgets/controls",
          "model_name": "LabelModel",
          "model_module_version": "1.5.0",
          "state": {
            "_view_name": "LabelView",
            "style": "IPY_MODEL_b840a3d7268e48cbb04d9760a3214ffd",
            "_dom_classes": [],
            "description": "",
            "_model_name": "LabelModel",
            "placeholder": "​",
            "_view_module": "@jupyter-widgets/controls",
            "_model_module_version": "1.5.0",
            "value": " 8.29MB of 8.29MB uploaded (0.00MB deduped)\r",
            "_view_count": null,
            "_view_module_version": "1.5.0",
            "description_tooltip": null,
            "_model_module": "@jupyter-widgets/controls",
            "layout": "IPY_MODEL_28f2b928b8fc4d10bec746f17d8780ce"
          }
        },
        "a69ab07f28534a93baf8b68234ec78bb": {
          "model_module": "@jupyter-widgets/controls",
          "model_name": "FloatProgressModel",
          "model_module_version": "1.5.0",
          "state": {
            "_view_name": "ProgressView",
            "style": "IPY_MODEL_32e6babcc9e247258964cf622b487320",
            "_dom_classes": [],
            "description": "",
            "_model_name": "FloatProgressModel",
            "bar_style": "",
            "max": 1,
            "_view_module": "@jupyter-widgets/controls",
            "_model_module_version": "1.5.0",
            "value": 1,
            "_view_count": null,
            "_view_module_version": "1.5.0",
            "orientation": "horizontal",
            "min": 0,
            "description_tooltip": null,
            "_model_module": "@jupyter-widgets/controls",
            "layout": "IPY_MODEL_e2df49e61a9e467f9252eab146c61057"
          }
        },
        "b840a3d7268e48cbb04d9760a3214ffd": {
          "model_module": "@jupyter-widgets/controls",
          "model_name": "DescriptionStyleModel",
          "model_module_version": "1.5.0",
          "state": {
            "_view_name": "StyleView",
            "_model_name": "DescriptionStyleModel",
            "description_width": "",
            "_view_module": "@jupyter-widgets/base",
            "_model_module_version": "1.5.0",
            "_view_count": null,
            "_view_module_version": "1.2.0",
            "_model_module": "@jupyter-widgets/controls"
          }
        },
        "28f2b928b8fc4d10bec746f17d8780ce": {
          "model_module": "@jupyter-widgets/base",
          "model_name": "LayoutModel",
          "model_module_version": "1.2.0",
          "state": {
            "_view_name": "LayoutView",
            "grid_template_rows": null,
            "right": null,
            "justify_content": null,
            "_view_module": "@jupyter-widgets/base",
            "overflow": null,
            "_model_module_version": "1.2.0",
            "_view_count": null,
            "flex_flow": null,
            "width": null,
            "min_width": null,
            "border": null,
            "align_items": null,
            "bottom": null,
            "_model_module": "@jupyter-widgets/base",
            "top": null,
            "grid_column": null,
            "overflow_y": null,
            "overflow_x": null,
            "grid_auto_flow": null,
            "grid_area": null,
            "grid_template_columns": null,
            "flex": null,
            "_model_name": "LayoutModel",
            "justify_items": null,
            "grid_row": null,
            "max_height": null,
            "align_content": null,
            "visibility": null,
            "align_self": null,
            "height": null,
            "min_height": null,
            "padding": null,
            "grid_auto_rows": null,
            "grid_gap": null,
            "max_width": null,
            "order": null,
            "_view_module_version": "1.2.0",
            "grid_template_areas": null,
            "object_position": null,
            "object_fit": null,
            "grid_auto_columns": null,
            "margin": null,
            "display": null,
            "left": null
          }
        },
        "32e6babcc9e247258964cf622b487320": {
          "model_module": "@jupyter-widgets/controls",
          "model_name": "ProgressStyleModel",
          "model_module_version": "1.5.0",
          "state": {
            "_view_name": "StyleView",
            "_model_name": "ProgressStyleModel",
            "description_width": "",
            "_view_module": "@jupyter-widgets/base",
            "_model_module_version": "1.5.0",
            "_view_count": null,
            "_view_module_version": "1.2.0",
            "bar_color": null,
            "_model_module": "@jupyter-widgets/controls"
          }
        },
        "e2df49e61a9e467f9252eab146c61057": {
          "model_module": "@jupyter-widgets/base",
          "model_name": "LayoutModel",
          "model_module_version": "1.2.0",
          "state": {
            "_view_name": "LayoutView",
            "grid_template_rows": null,
            "right": null,
            "justify_content": null,
            "_view_module": "@jupyter-widgets/base",
            "overflow": null,
            "_model_module_version": "1.2.0",
            "_view_count": null,
            "flex_flow": null,
            "width": null,
            "min_width": null,
            "border": null,
            "align_items": null,
            "bottom": null,
            "_model_module": "@jupyter-widgets/base",
            "top": null,
            "grid_column": null,
            "overflow_y": null,
            "overflow_x": null,
            "grid_auto_flow": null,
            "grid_area": null,
            "grid_template_columns": null,
            "flex": null,
            "_model_name": "LayoutModel",
            "justify_items": null,
            "grid_row": null,
            "max_height": null,
            "align_content": null,
            "visibility": null,
            "align_self": null,
            "height": null,
            "min_height": null,
            "padding": null,
            "grid_auto_rows": null,
            "grid_gap": null,
            "max_width": null,
            "order": null,
            "_view_module_version": "1.2.0",
            "grid_template_areas": null,
            "object_position": null,
            "object_fit": null,
            "grid_auto_columns": null,
            "margin": null,
            "display": null,
            "left": null
          }
        }
      }
    }
  },
  "cells": [
    {
      "cell_type": "markdown",
      "metadata": {
        "id": "view-in-github",
        "colab_type": "text"
      },
      "source": [
        "<a href=\"https://colab.research.google.com/github/11doris/jazz-maestro/blob/colab_word_embeddings/colab_g_recommender_score.ipynb\" target=\"_parent\"><img src=\"https://colab.research.google.com/assets/colab-badge.svg\" alt=\"Open In Colab\"/></a>"
      ]
    },
    {
      "cell_type": "markdown",
      "metadata": {
        "id": "YGhakKpa8Dtf"
      },
      "source": [
        "# Sections as Input"
      ]
    },
    {
      "cell_type": "code",
      "metadata": {
        "colab": {
          "base_uri": "https://localhost:8080/"
        },
        "id": "dm5QehpXxo31",
        "outputId": "0859f980-7704-4686-a317-4586dc70bdc2"
      },
      "source": [
        "pip install wandb"
      ],
      "execution_count": 1,
      "outputs": [
        {
          "output_type": "stream",
          "name": "stdout",
          "text": [
            "Requirement already satisfied: wandb in /usr/local/lib/python3.7/dist-packages (0.12.7)\n",
            "Requirement already satisfied: GitPython>=1.0.0 in /usr/local/lib/python3.7/dist-packages (from wandb) (3.1.24)\n",
            "Requirement already satisfied: six>=1.13.0 in /usr/local/lib/python3.7/dist-packages (from wandb) (1.15.0)\n",
            "Requirement already satisfied: psutil>=5.0.0 in /usr/local/lib/python3.7/dist-packages (from wandb) (5.4.8)\n",
            "Requirement already satisfied: yaspin>=1.0.0 in /usr/local/lib/python3.7/dist-packages (from wandb) (2.1.0)\n",
            "Requirement already satisfied: requests<3,>=2.0.0 in /usr/local/lib/python3.7/dist-packages (from wandb) (2.23.0)\n",
            "Requirement already satisfied: subprocess32>=3.5.3 in /usr/local/lib/python3.7/dist-packages (from wandb) (3.5.4)\n",
            "Requirement already satisfied: docker-pycreds>=0.4.0 in /usr/local/lib/python3.7/dist-packages (from wandb) (0.4.0)\n",
            "Requirement already satisfied: pathtools in /usr/local/lib/python3.7/dist-packages (from wandb) (0.1.2)\n",
            "Requirement already satisfied: PyYAML in /usr/local/lib/python3.7/dist-packages (from wandb) (3.13)\n",
            "Requirement already satisfied: shortuuid>=0.5.0 in /usr/local/lib/python3.7/dist-packages (from wandb) (1.0.8)\n",
            "Requirement already satisfied: Click!=8.0.0,>=7.0 in /usr/local/lib/python3.7/dist-packages (from wandb) (7.1.2)\n",
            "Requirement already satisfied: promise<3,>=2.0 in /usr/local/lib/python3.7/dist-packages (from wandb) (2.3)\n",
            "Requirement already satisfied: sentry-sdk>=1.0.0 in /usr/local/lib/python3.7/dist-packages (from wandb) (1.5.0)\n",
            "Requirement already satisfied: protobuf>=3.12.0 in /usr/local/lib/python3.7/dist-packages (from wandb) (3.17.3)\n",
            "Requirement already satisfied: configparser>=3.8.1 in /usr/local/lib/python3.7/dist-packages (from wandb) (5.1.0)\n",
            "Requirement already satisfied: python-dateutil>=2.6.1 in /usr/local/lib/python3.7/dist-packages (from wandb) (2.8.2)\n",
            "Requirement already satisfied: gitdb<5,>=4.0.1 in /usr/local/lib/python3.7/dist-packages (from GitPython>=1.0.0->wandb) (4.0.9)\n",
            "Requirement already satisfied: typing-extensions>=3.7.4.3 in /usr/local/lib/python3.7/dist-packages (from GitPython>=1.0.0->wandb) (3.10.0.2)\n",
            "Requirement already satisfied: smmap<6,>=3.0.1 in /usr/local/lib/python3.7/dist-packages (from gitdb<5,>=4.0.1->GitPython>=1.0.0->wandb) (5.0.0)\n",
            "Requirement already satisfied: chardet<4,>=3.0.2 in /usr/local/lib/python3.7/dist-packages (from requests<3,>=2.0.0->wandb) (3.0.4)\n",
            "Requirement already satisfied: idna<3,>=2.5 in /usr/local/lib/python3.7/dist-packages (from requests<3,>=2.0.0->wandb) (2.10)\n",
            "Requirement already satisfied: urllib3!=1.25.0,!=1.25.1,<1.26,>=1.21.1 in /usr/local/lib/python3.7/dist-packages (from requests<3,>=2.0.0->wandb) (1.24.3)\n",
            "Requirement already satisfied: certifi>=2017.4.17 in /usr/local/lib/python3.7/dist-packages (from requests<3,>=2.0.0->wandb) (2021.10.8)\n",
            "Requirement already satisfied: termcolor<2.0.0,>=1.1.0 in /usr/local/lib/python3.7/dist-packages (from yaspin>=1.0.0->wandb) (1.1.0)\n"
          ]
        }
      ]
    },
    {
      "cell_type": "code",
      "metadata": {
        "colab": {
          "base_uri": "https://localhost:8080/"
        },
        "id": "HZG8BDT-xrv3",
        "outputId": "f928cd9e-cc61-4aa3-f837-c932bac785be"
      },
      "source": [
        "!wandb login"
      ],
      "execution_count": 2,
      "outputs": [
        {
          "output_type": "stream",
          "name": "stdout",
          "text": [
            "\u001b[34m\u001b[1mwandb\u001b[0m: Currently logged in as: \u001b[33mdoris\u001b[0m (use `wandb login --relogin` to force relogin)\n"
          ]
        }
      ]
    },
    {
      "cell_type": "code",
      "metadata": {
        "id": "WHZBzAXjxz1J"
      },
      "source": [
        "import wandb"
      ],
      "execution_count": 3,
      "outputs": []
    },
    {
      "cell_type": "code",
      "metadata": {
        "colab": {
          "base_uri": "https://localhost:8080/"
        },
        "id": "MUy1ta4_782n",
        "outputId": "5b3169f8-bf78-4b67-ad50-cc9332315bee"
      },
      "source": [
        "!pip uninstall gensim -y"
      ],
      "execution_count": 4,
      "outputs": [
        {
          "output_type": "stream",
          "name": "stdout",
          "text": [
            "Found existing installation: gensim 4.1.2\n",
            "Uninstalling gensim-4.1.2:\n",
            "  Successfully uninstalled gensim-4.1.2\n"
          ]
        }
      ]
    },
    {
      "cell_type": "code",
      "metadata": {
        "colab": {
          "base_uri": "https://localhost:8080/"
        },
        "id": "oAroxmvO8GQj",
        "outputId": "675d6c24-433f-4cd6-bf56-79d0b3bd5726"
      },
      "source": [
        "!pip install gensim"
      ],
      "execution_count": 5,
      "outputs": [
        {
          "output_type": "stream",
          "name": "stdout",
          "text": [
            "Collecting gensim\n",
            "  Using cached gensim-4.1.2-cp37-cp37m-manylinux_2_12_x86_64.manylinux2010_x86_64.whl (24.1 MB)\n",
            "Requirement already satisfied: scipy>=0.18.1 in /usr/local/lib/python3.7/dist-packages (from gensim) (1.4.1)\n",
            "Requirement already satisfied: smart-open>=1.8.1 in /usr/local/lib/python3.7/dist-packages (from gensim) (5.2.1)\n",
            "Requirement already satisfied: numpy>=1.17.0 in /usr/local/lib/python3.7/dist-packages (from gensim) (1.19.5)\n",
            "Installing collected packages: gensim\n",
            "Successfully installed gensim-4.1.2\n"
          ]
        }
      ]
    },
    {
      "cell_type": "code",
      "metadata": {
        "id": "6SZ0zrKX8H-D"
      },
      "source": [
        "import gensim\n",
        "from sklearn.manifold import TSNE\n",
        "import matplotlib.pyplot as plt\n",
        "import pprint\n",
        "import pandas as pd\n",
        "import numpy as np\n",
        "from collections import Counter\n",
        "import plotly.express as px\n",
        "from tqdm import tqdm \n",
        "from gensim.models.doc2vec import Doc2Vec\n",
        "from gensim.models.tfidfmodel import TfidfModel\n",
        "from gensim.models.lsimodel import LsiModel\n",
        "from gensim.models import CoherenceModel\n",
        "from gensim import corpora\n",
        "from gensim import similarities\n",
        "import pickle\n",
        "import os"
      ],
      "execution_count": 6,
      "outputs": []
    },
    {
      "cell_type": "code",
      "metadata": {
        "id": "znWar-PK8KHT"
      },
      "source": [
        "import logging\n",
        "logging.basicConfig(format='%(asctime)s : %(levelname)s : %(message)s', level=logging.INFO)"
      ],
      "execution_count": 7,
      "outputs": []
    },
    {
      "cell_type": "code",
      "metadata": {
        "colab": {
          "base_uri": "https://localhost:8080/"
        },
        "id": "kjCf_Abf8MCc",
        "outputId": "04571ec8-59d6-4d3c-a0c5-57106b8ee5e8"
      },
      "source": [
        "print(gensim.__version__)"
      ],
      "execution_count": 8,
      "outputs": [
        {
          "output_type": "stream",
          "name": "stdout",
          "text": [
            "4.1.2\n"
          ]
        }
      ]
    },
    {
      "cell_type": "code",
      "metadata": {
        "id": "_aEonlx-CT6r"
      },
      "source": [
        "!rm data.csv"
      ],
      "execution_count": 9,
      "outputs": []
    },
    {
      "cell_type": "markdown",
      "metadata": {
        "id": "Nk5pPZqk0Pn7"
      },
      "source": [
        "# Configuration\n"
      ]
    },
    {
      "cell_type": "code",
      "metadata": {
        "id": "wcZ18xhgU7MZ"
      },
      "source": [
        "use_wandb = True"
      ],
      "execution_count": 10,
      "outputs": []
    },
    {
      "cell_type": "code",
      "metadata": {
        "id": "A-AD1gxGLYxp"
      },
      "source": [
        "generate_webapp_data = False"
      ],
      "execution_count": 11,
      "outputs": []
    },
    {
      "cell_type": "code",
      "metadata": {
        "id": "GfQbJQmexlxI"
      },
      "source": [
        "chords_repeated = 'rep' \n",
        "chords_preprocessing = 'rootAndDegreesPlus'"
      ],
      "execution_count": 12,
      "outputs": []
    },
    {
      "cell_type": "code",
      "metadata": {
        "id": "buoyWNl0F48Y"
      },
      "source": [
        "ngrams_for_input = [1,2]"
      ],
      "execution_count": 13,
      "outputs": []
    },
    {
      "cell_type": "code",
      "metadata": {
        "id": "K7qB2_sBvKpB"
      },
      "source": [
        "input_files = {\n",
        "    'sections': {\n",
        "        'rep': {\n",
        "            # M7 and 6 reduced to major triad, m7 reduced to m, dominant 7, m7b5, diminished, and all (b5) left as they are.\n",
        "            'rootAndDegreesPlus': '1BDYukaIj72jmi9PqZVrCAqKbyxg8Z4yq',\n",
        "            'rootAndDegrees7': '',\n",
        "            'rootAndDegreesSimplified': ''\n",
        "        },\n",
        "    },\n",
        "    'tunes': {\n",
        "        'rep': {\n",
        "            'rootAndDegreesPlus': '',\n",
        "            'rootAndDegrees7': '',\n",
        "            'rootAndDegreesSimplified': '',\n",
        "        },\n",
        "        'norep': {\n",
        "            'rootAndDegreesPlus': '',\n",
        "            'rootAndDegrees7': '',\n",
        "            'rootAndDegreesSimplified': '',\n",
        "        }\n",
        "    }\n",
        "}"
      ],
      "execution_count": 14,
      "outputs": []
    },
    {
      "cell_type": "code",
      "metadata": {
        "colab": {
          "base_uri": "https://localhost:8080/"
        },
        "id": "lM6eaQwnyWD3",
        "outputId": "88865a41-24de-4429-b988-8b3cb05e3cb8"
      },
      "source": [
        "tunes_eval_list = [\n",
        "  \"Sweet Sue, Just You [jazz1350]\",\n",
        "  \"These Foolish Things [jazz1350]\", \n",
        "  \"Blue Moon [jazz1350]\",\n",
        "  \"All Of Me [jazz1350]\",\n",
        "  \"All God's Chillun Got Rhythm [jazz1350]\",\n",
        "  \"I Got Rhythm [jazz1350]\",\n",
        "  \"Bye Bye Blackbird [jazz1350]\",\n",
        "  \"Old Fashioned Love [trad]\",\n",
        "  \"Dinah [jazz1350]\",\n",
        "  \"Honeysuckle Rose [jazz1350]\",\n",
        "  \"Misty [jazz1350]\",\n",
        "  \"We'll Be Together Again [jazz1350]\",\n",
        "  \"East Of The Sun [jazz1350]\",\n",
        "  \"Sophisticated Lady [jazz1350]\",\n",
        "  \"Perdido [jazz1350]\",\n",
        "  \"Naima [jazz1350]\",\n",
        "  \"Call Me Irresponsible [jazz1350]\",\n",
        "  \"Corcovado [jazz1350]\",\n",
        "  \"Footprints [jazz1350]\",\n",
        "  \"Giant Steps [jazz1350]\",\n",
        "  \"But Beautiful [jazz1350]\",\n",
        "  \"Rockin' Chair [jazz1350]\",\n",
        "  \"Blood Count [jazz1350]\",\n",
        "  \"After You've Gone [jazz1350]\",\n",
        "]\n",
        "\n",
        "tunes_eval_list = sorted(tunes_eval_list)\n",
        "tunes_eval_list"
      ],
      "execution_count": 15,
      "outputs": [
        {
          "output_type": "execute_result",
          "data": {
            "text/plain": [
              "[\"After You've Gone [jazz1350]\",\n",
              " \"All God's Chillun Got Rhythm [jazz1350]\",\n",
              " 'All Of Me [jazz1350]',\n",
              " 'Blood Count [jazz1350]',\n",
              " 'Blue Moon [jazz1350]',\n",
              " 'But Beautiful [jazz1350]',\n",
              " 'Bye Bye Blackbird [jazz1350]',\n",
              " 'Call Me Irresponsible [jazz1350]',\n",
              " 'Corcovado [jazz1350]',\n",
              " 'Dinah [jazz1350]',\n",
              " 'East Of The Sun [jazz1350]',\n",
              " 'Footprints [jazz1350]',\n",
              " 'Giant Steps [jazz1350]',\n",
              " 'Honeysuckle Rose [jazz1350]',\n",
              " 'I Got Rhythm [jazz1350]',\n",
              " 'Misty [jazz1350]',\n",
              " 'Naima [jazz1350]',\n",
              " 'Old Fashioned Love [trad]',\n",
              " 'Perdido [jazz1350]',\n",
              " \"Rockin' Chair [jazz1350]\",\n",
              " 'Sophisticated Lady [jazz1350]',\n",
              " 'Sweet Sue, Just You [jazz1350]',\n",
              " 'These Foolish Things [jazz1350]',\n",
              " \"We'll Be Together Again [jazz1350]\"]"
            ]
          },
          "metadata": {},
          "execution_count": 15
        }
      ]
    },
    {
      "cell_type": "code",
      "metadata": {
        "id": "uiI0h4ef0PCD",
        "colab": {
          "base_uri": "https://localhost:8080/"
        },
        "outputId": "8c09f6f0-ee41-4386-c570-41f93debd966"
      },
      "source": [
        "contrafacts_1350jazz = {\n",
        "               \"26-2\": \"Confirmation\",\n",
        "               \"52nd Street Theme\": \"I Got Rhythm\",\n",
        "               \"Ablution\": \"All The Things You Are\",\n",
        "               \"Anthropology\": \"I Got Rhythm\",\n",
        "               \"Ballade\": \"As Long As I Live\",\n",
        "               \"Bright Mississippi\": \"Sweet Georgia Brown\",\n",
        "               \"C.T.A.\": \"I Got Rhythm\",\n",
        "               # \"Celia\": \"I Got Rhythm\",\n",
        "               \"Cottontail\": \"I Got Rhythm\",\n",
        "               \"Countdown\": \"Tune Up\",\n",
        "               \"Dewey Square\": \"Oh, Lady Be Good\",\n",
        "               \"Dexterity\": \"I Got Rhythm\",\n",
        "               \"Dig\": \"Sweet Georgia Brown\",\n",
        "               \"Donna Lee\": \"Indiana (Back Home Again In)\",\n",
        "               \"Don't Be That Way\": \"I Got Rhythm\",\n",
        "               #\"Eternal Triangle\": \"I Got Rhythm\",\n",
        "               \"Evidence\": \"Just You, Just Me\",\n",
        "               \"Flintstones\": \"I Got Rhythm\",\n",
        "               \"Four On Six\": \"Summertime\",\n",
        "               \"Freight Train\": \"Blues For Alice\",\n",
        "               \"Good Bait\": \"I Got Rhythm\",\n",
        "               \"Hackensack\": \"Oh, Lady Be Good\",\n",
        "               \"Half Nelson\": \"Lady Bird\",\n",
        "               \"Hot House\": \"What Is This Thing Called Love\",\n",
        "               \"Impressions\": \"So What\",\n",
        "               \"In A Mellow Tone (In A Mellotone)\": \"Rose Room\",\n",
        "               \"In Walked Bud\": \"Blue Skies\",\n",
        "               \"Ko Ko\": \"Cherokee\",\n",
        "               \"Lennie's Pennies\": \"Pennies From Heaven\",   ## Lennie's Pennies is in minor and therefore transposed to Amin... not possible to recognize like that\n",
        "               # \"Let's Call This\": \"Honeysuckle Rose\",\n",
        "               \"Little Rootie Tootie\": \"I Got Rhythm\",\n",
        "               \"Little Willie Leaps\": \"All God's Chillun Got Rhythm\",\n",
        "               \"Lullaby Of Birdland\": \"Love Me Or Leave Me\",\n",
        "               #\"Moose The Mooche\": \"I Got Rhythm\",\n",
        "               \"My Little Suede Shoes\": \"Jeepers Creepers\",\n",
        "               #\"Oleo\": \"I Got Rhythm\",\n",
        "               \"Ornithology\": \"How High The Moon\",\n",
        "               #\"Passport\": \"I Got Rhythm\",\n",
        "               \"Quasimodo (Theme)\": \"Embraceable You\",\n",
        "               #\"Rhythm-a-ning\": \"I Got Rhythm\",\n",
        "               \"Room 608\": \"I Got Rhythm\",\n",
        "               #\"Salt Peanuts\": \"I Got Rhythm\",\n",
        "               \"Satellite\": \"How High The Moon\",\n",
        "               \"Scrapple From The Apple\": \"Honeysuckle Rose\", # A section\n",
        "               \"Scrapple From The Apple\": \"I Got Rhythm\", # B section\n",
        "               #\"Segment\": \"I Got Rhythm\",\n",
        "               #\"Seven Come Eleven\": \"I Got Rhythm\",\n",
        "               #\"Shaw 'Nuff\": \"I Got Rhythm\",\n",
        "               #\"Theme, The\": \"I Got Rhythm\",\n",
        "               \"Tour De Force\": \"Jeepers Creepers\",\n",
        "               \"Wow\": \"You Can Depend On Me\",\n",
        "               \"Yardbird Suite\": \"Rosetta\",\n",
        "\n",
        "               # following tunes are not from wikipedia:\n",
        "               \"Sweet Sue, Just You\": \"Honeysuckle Rose\",  # A section\n",
        "               # \"All Of Me\": \"Pennies From Heaven\", # bars 25-28 of All of Me are same as bars 17-20 of Pennies From Heaven, but different key!\n",
        "               \"Sweet Sue, Just You\": \"Bye Bye Blackbird\", # Bridge same\n",
        "               \"These Foolish Things\": \"Blue Moon\", # first 8 bars same\n",
        "               \"These Foolish Things\": \"More Than You Know\",\n",
        "               \"These Foolish Things\": \"Isn't It A Pity\",\n",
        "               \"These Foolish Things\": \"Soultrain\",\n",
        "               \"These Foolish Things\": \"Why Do I Love You\",\n",
        "               \"Misty\": \"Portrait Of Jennie\",\n",
        "               \"Misty\": \"September In The Rain\",\n",
        "               \"Misty\": \"I May Be Wrong\",                    \n",
        "}\n",
        "\n",
        "\n",
        "contrafacts = {}\n",
        "for key, value in contrafacts_1350jazz.items():\n",
        "  contrafacts[f\"{key} [jazz1350]\"] = f\"{value} [jazz1350]\"\n",
        "\n",
        "contrafacts\n"
      ],
      "execution_count": 16,
      "outputs": [
        {
          "output_type": "execute_result",
          "data": {
            "text/plain": [
              "{'26-2 [jazz1350]': 'Confirmation [jazz1350]',\n",
              " '52nd Street Theme [jazz1350]': 'I Got Rhythm [jazz1350]',\n",
              " 'Ablution [jazz1350]': 'All The Things You Are [jazz1350]',\n",
              " 'Anthropology [jazz1350]': 'I Got Rhythm [jazz1350]',\n",
              " 'Ballade [jazz1350]': 'As Long As I Live [jazz1350]',\n",
              " 'Bright Mississippi [jazz1350]': 'Sweet Georgia Brown [jazz1350]',\n",
              " 'C.T.A. [jazz1350]': 'I Got Rhythm [jazz1350]',\n",
              " 'Cottontail [jazz1350]': 'I Got Rhythm [jazz1350]',\n",
              " 'Countdown [jazz1350]': 'Tune Up [jazz1350]',\n",
              " 'Dewey Square [jazz1350]': 'Oh, Lady Be Good [jazz1350]',\n",
              " 'Dexterity [jazz1350]': 'I Got Rhythm [jazz1350]',\n",
              " 'Dig [jazz1350]': 'Sweet Georgia Brown [jazz1350]',\n",
              " \"Don't Be That Way [jazz1350]\": 'I Got Rhythm [jazz1350]',\n",
              " 'Donna Lee [jazz1350]': 'Indiana (Back Home Again In) [jazz1350]',\n",
              " 'Evidence [jazz1350]': 'Just You, Just Me [jazz1350]',\n",
              " 'Flintstones [jazz1350]': 'I Got Rhythm [jazz1350]',\n",
              " 'Four On Six [jazz1350]': 'Summertime [jazz1350]',\n",
              " 'Freight Train [jazz1350]': 'Blues For Alice [jazz1350]',\n",
              " 'Good Bait [jazz1350]': 'I Got Rhythm [jazz1350]',\n",
              " 'Hackensack [jazz1350]': 'Oh, Lady Be Good [jazz1350]',\n",
              " 'Half Nelson [jazz1350]': 'Lady Bird [jazz1350]',\n",
              " 'Hot House [jazz1350]': 'What Is This Thing Called Love [jazz1350]',\n",
              " 'Impressions [jazz1350]': 'So What [jazz1350]',\n",
              " 'In A Mellow Tone (In A Mellotone) [jazz1350]': 'Rose Room [jazz1350]',\n",
              " 'In Walked Bud [jazz1350]': 'Blue Skies [jazz1350]',\n",
              " 'Ko Ko [jazz1350]': 'Cherokee [jazz1350]',\n",
              " \"Lennie's Pennies [jazz1350]\": 'Pennies From Heaven [jazz1350]',\n",
              " 'Little Rootie Tootie [jazz1350]': 'I Got Rhythm [jazz1350]',\n",
              " 'Little Willie Leaps [jazz1350]': \"All God's Chillun Got Rhythm [jazz1350]\",\n",
              " 'Lullaby Of Birdland [jazz1350]': 'Love Me Or Leave Me [jazz1350]',\n",
              " 'Misty [jazz1350]': 'I May Be Wrong [jazz1350]',\n",
              " 'My Little Suede Shoes [jazz1350]': 'Jeepers Creepers [jazz1350]',\n",
              " 'Ornithology [jazz1350]': 'How High The Moon [jazz1350]',\n",
              " 'Quasimodo (Theme) [jazz1350]': 'Embraceable You [jazz1350]',\n",
              " 'Room 608 [jazz1350]': 'I Got Rhythm [jazz1350]',\n",
              " 'Satellite [jazz1350]': 'How High The Moon [jazz1350]',\n",
              " 'Scrapple From The Apple [jazz1350]': 'I Got Rhythm [jazz1350]',\n",
              " 'Sweet Sue, Just You [jazz1350]': 'Bye Bye Blackbird [jazz1350]',\n",
              " 'These Foolish Things [jazz1350]': 'Why Do I Love You [jazz1350]',\n",
              " 'Tour De Force [jazz1350]': 'Jeepers Creepers [jazz1350]',\n",
              " 'Wow [jazz1350]': 'You Can Depend On Me [jazz1350]',\n",
              " 'Yardbird Suite [jazz1350]': 'Rosetta [jazz1350]'}"
            ]
          },
          "metadata": {},
          "execution_count": 16
        }
      ]
    },
    {
      "cell_type": "markdown",
      "metadata": {
        "id": "gcexO7zK8Pn6"
      },
      "source": [
        "# Initialization\n",
        "\n",
        "## Download the Data"
      ]
    },
    {
      "cell_type": "code",
      "metadata": {
        "id": "JwVJo3Vat8iF"
      },
      "source": [
        "input_data = input_files['sections'][chords_repeated][chords_preprocessing]\n",
        "\n",
        "input_path = f\"https://docs.google.com/uc?export=download&id={input_data}\"\n",
        "data_file_name = 'data.csv'\n"
      ],
      "execution_count": 17,
      "outputs": []
    },
    {
      "cell_type": "code",
      "metadata": {
        "colab": {
          "base_uri": "https://localhost:8080/",
          "height": 36
        },
        "id": "_Dp-fijjB-pU",
        "outputId": "dfb86d50-00c1-4406-b23c-1bcc2aeceaa6"
      },
      "source": [
        "input_path"
      ],
      "execution_count": 18,
      "outputs": [
        {
          "output_type": "execute_result",
          "data": {
            "application/vnd.google.colaboratory.intrinsic+json": {
              "type": "string"
            },
            "text/plain": [
              "'https://docs.google.com/uc?export=download&id=1BDYukaIj72jmi9PqZVrCAqKbyxg8Z4yq'"
            ]
          },
          "metadata": {},
          "execution_count": 18
        }
      ]
    },
    {
      "cell_type": "code",
      "metadata": {
        "colab": {
          "base_uri": "https://localhost:8080/"
        },
        "id": "1ZVAYUH5t9Li",
        "outputId": "93d515d1-1e99-4187-a9aa-7d29fa45ee41"
      },
      "source": [
        "!wget --no-check-certificate \"$input_path\" -O \"$data_file_name\""
      ],
      "execution_count": 19,
      "outputs": [
        {
          "output_type": "stream",
          "name": "stdout",
          "text": [
            "--2021-11-26 22:04:20--  https://docs.google.com/uc?export=download&id=1BDYukaIj72jmi9PqZVrCAqKbyxg8Z4yq\n",
            "Resolving docs.google.com (docs.google.com)... 172.253.119.139, 172.253.119.138, 172.253.119.113, ...\n",
            "Connecting to docs.google.com (docs.google.com)|172.253.119.139|:443... connected.\n",
            "HTTP request sent, awaiting response... 302 Moved Temporarily\n",
            "Location: https://doc-0k-4c-docs.googleusercontent.com/docs/securesc/ha0ro937gcuc7l7deffksulhg5h7mbp1/f29hna8enpura64ea0aivkokl7m7irrt/1637964225000/14329102864480165501/*/1BDYukaIj72jmi9PqZVrCAqKbyxg8Z4yq?e=download [following]\n",
            "Warning: wildcards not supported in HTTP.\n",
            "--2021-11-26 22:04:21--  https://doc-0k-4c-docs.googleusercontent.com/docs/securesc/ha0ro937gcuc7l7deffksulhg5h7mbp1/f29hna8enpura64ea0aivkokl7m7irrt/1637964225000/14329102864480165501/*/1BDYukaIj72jmi9PqZVrCAqKbyxg8Z4yq?e=download\n",
            "Resolving doc-0k-4c-docs.googleusercontent.com (doc-0k-4c-docs.googleusercontent.com)... 172.217.219.132, 2607:f8b0:4001:c13::84\n",
            "Connecting to doc-0k-4c-docs.googleusercontent.com (doc-0k-4c-docs.googleusercontent.com)|172.217.219.132|:443... connected.\n",
            "HTTP request sent, awaiting response... 200 OK\n",
            "Length: 813814 (795K) [text/csv]\n",
            "Saving to: ‘data.csv’\n",
            "\n",
            "data.csv            100%[===================>] 794.74K  --.-KB/s    in 0.007s  \n",
            "\n",
            "2021-11-26 22:04:21 (104 MB/s) - ‘data.csv’ saved [813814/813814]\n",
            "\n"
          ]
        }
      ]
    },
    {
      "cell_type": "markdown",
      "metadata": {
        "id": "Ljs21B7h8YvC"
      },
      "source": [
        "### Read Chords Input Data"
      ]
    },
    {
      "cell_type": "code",
      "metadata": {
        "colab": {
          "base_uri": "https://localhost:8080/",
          "height": 310
        },
        "id": "B7kK418L8aac",
        "outputId": "1410ee56-9c95-4c31-c69d-5c4da3bc13c1"
      },
      "source": [
        "df = pd.read_csv(data_file_name, sep='\\t', index_col=\"id\")\n",
        "df = df.reset_index()\n",
        "df.head(5)"
      ],
      "execution_count": 20,
      "outputs": [
        {
          "output_type": "execute_result",
          "data": {
            "text/html": [
              "<div>\n",
              "<style scoped>\n",
              "    .dataframe tbody tr th:only-of-type {\n",
              "        vertical-align: middle;\n",
              "    }\n",
              "\n",
              "    .dataframe tbody tr th {\n",
              "        vertical-align: top;\n",
              "    }\n",
              "\n",
              "    .dataframe thead th {\n",
              "        text-align: right;\n",
              "    }\n",
              "</style>\n",
              "<table border=\"1\" class=\"dataframe\">\n",
              "  <thead>\n",
              "    <tr style=\"text-align: right;\">\n",
              "      <th></th>\n",
              "      <th>id</th>\n",
              "      <th>file_name</th>\n",
              "      <th>title</th>\n",
              "      <th>title_playlist</th>\n",
              "      <th>tune_mode</th>\n",
              "      <th>tune_id</th>\n",
              "      <th>section_name</th>\n",
              "      <th>section_id</th>\n",
              "      <th>chords</th>\n",
              "    </tr>\n",
              "  </thead>\n",
              "  <tbody>\n",
              "    <tr>\n",
              "      <th>0</th>\n",
              "      <td>0</td>\n",
              "      <td>dataset/jazz1350/26-2.xml</td>\n",
              "      <td>26-2</td>\n",
              "      <td>26-2 [jazz1350]</td>\n",
              "      <td>major</td>\n",
              "      <td>0</td>\n",
              "      <td>A</td>\n",
              "      <td>1</td>\n",
              "      <td>C Eb7 G# B7 E G7 Gm C7 F G#7 C# E7 Am D7 Dm G7</td>\n",
              "    </tr>\n",
              "    <tr>\n",
              "      <th>1</th>\n",
              "      <td>1</td>\n",
              "      <td>dataset/jazz1350/26-2.xml</td>\n",
              "      <td>26-2</td>\n",
              "      <td>26-2 [jazz1350]</td>\n",
              "      <td>major</td>\n",
              "      <td>0</td>\n",
              "      <td>A</td>\n",
              "      <td>2</td>\n",
              "      <td>C Eb7 G# B7 E G7 Gm C7 F Eb7 G# B7 E G7 C</td>\n",
              "    </tr>\n",
              "    <tr>\n",
              "      <th>2</th>\n",
              "      <td>2</td>\n",
              "      <td>dataset/jazz1350/26-2.xml</td>\n",
              "      <td>26-2</td>\n",
              "      <td>26-2 [jazz1350]</td>\n",
              "      <td>major</td>\n",
              "      <td>0</td>\n",
              "      <td>B</td>\n",
              "      <td>3</td>\n",
              "      <td>Gm C7 Bm E7 A C7 F Bbm Eb7 G# Dm G7</td>\n",
              "    </tr>\n",
              "    <tr>\n",
              "      <th>3</th>\n",
              "      <td>3</td>\n",
              "      <td>dataset/jazz1350/26-2.xml</td>\n",
              "      <td>26-2</td>\n",
              "      <td>26-2 [jazz1350]</td>\n",
              "      <td>major</td>\n",
              "      <td>0</td>\n",
              "      <td>A</td>\n",
              "      <td>4</td>\n",
              "      <td>C Eb7 G# B7 E G7 Gm C7 F Eb7 G# B7 E G7 C</td>\n",
              "    </tr>\n",
              "    <tr>\n",
              "      <th>4</th>\n",
              "      <td>4</td>\n",
              "      <td>dataset/jazz1350/500 Miles High.xml</td>\n",
              "      <td>500 Miles High</td>\n",
              "      <td>500 Miles High [jazz1350]</td>\n",
              "      <td>minor</td>\n",
              "      <td>1</td>\n",
              "      <td>NaN</td>\n",
              "      <td>0</td>\n",
              "      <td>Am Am Cm Cm Eb Eb Em7b5 A7 Dm Dm Bm7b5 Bm7b5 B...</td>\n",
              "    </tr>\n",
              "  </tbody>\n",
              "</table>\n",
              "</div>"
            ],
            "text/plain": [
              "   id  ...                                             chords\n",
              "0   0  ...     C Eb7 G# B7 E G7 Gm C7 F G#7 C# E7 Am D7 Dm G7\n",
              "1   1  ...          C Eb7 G# B7 E G7 Gm C7 F Eb7 G# B7 E G7 C\n",
              "2   2  ...                Gm C7 Bm E7 A C7 F Bbm Eb7 G# Dm G7\n",
              "3   3  ...          C Eb7 G# B7 E G7 Gm C7 F Eb7 G# B7 E G7 C\n",
              "4   4  ...  Am Am Cm Cm Eb Eb Em7b5 A7 Dm Dm Bm7b5 Bm7b5 B...\n",
              "\n",
              "[5 rows x 9 columns]"
            ]
          },
          "metadata": {},
          "execution_count": 20
        }
      ]
    },
    {
      "cell_type": "markdown",
      "metadata": {
        "id": "OsPcEFbg8gu6"
      },
      "source": [
        "### Meta Data"
      ]
    },
    {
      "cell_type": "code",
      "metadata": {
        "colab": {
          "base_uri": "https://localhost:8080/",
          "height": 206
        },
        "id": "_62YlEVJXOCL",
        "outputId": "46852fd0-8e2b-491d-c41e-7941bf7f5523"
      },
      "source": [
        "titles = df.loc[:, ['id', 'tune_id', 'section_id', 'section_name', 'title', 'title_playlist', 'tune_mode']]\n",
        "titles[:5]"
      ],
      "execution_count": 21,
      "outputs": [
        {
          "output_type": "execute_result",
          "data": {
            "text/html": [
              "<div>\n",
              "<style scoped>\n",
              "    .dataframe tbody tr th:only-of-type {\n",
              "        vertical-align: middle;\n",
              "    }\n",
              "\n",
              "    .dataframe tbody tr th {\n",
              "        vertical-align: top;\n",
              "    }\n",
              "\n",
              "    .dataframe thead th {\n",
              "        text-align: right;\n",
              "    }\n",
              "</style>\n",
              "<table border=\"1\" class=\"dataframe\">\n",
              "  <thead>\n",
              "    <tr style=\"text-align: right;\">\n",
              "      <th></th>\n",
              "      <th>id</th>\n",
              "      <th>tune_id</th>\n",
              "      <th>section_id</th>\n",
              "      <th>section_name</th>\n",
              "      <th>title</th>\n",
              "      <th>title_playlist</th>\n",
              "      <th>tune_mode</th>\n",
              "    </tr>\n",
              "  </thead>\n",
              "  <tbody>\n",
              "    <tr>\n",
              "      <th>0</th>\n",
              "      <td>0</td>\n",
              "      <td>0</td>\n",
              "      <td>1</td>\n",
              "      <td>A</td>\n",
              "      <td>26-2</td>\n",
              "      <td>26-2 [jazz1350]</td>\n",
              "      <td>major</td>\n",
              "    </tr>\n",
              "    <tr>\n",
              "      <th>1</th>\n",
              "      <td>1</td>\n",
              "      <td>0</td>\n",
              "      <td>2</td>\n",
              "      <td>A</td>\n",
              "      <td>26-2</td>\n",
              "      <td>26-2 [jazz1350]</td>\n",
              "      <td>major</td>\n",
              "    </tr>\n",
              "    <tr>\n",
              "      <th>2</th>\n",
              "      <td>2</td>\n",
              "      <td>0</td>\n",
              "      <td>3</td>\n",
              "      <td>B</td>\n",
              "      <td>26-2</td>\n",
              "      <td>26-2 [jazz1350]</td>\n",
              "      <td>major</td>\n",
              "    </tr>\n",
              "    <tr>\n",
              "      <th>3</th>\n",
              "      <td>3</td>\n",
              "      <td>0</td>\n",
              "      <td>4</td>\n",
              "      <td>A</td>\n",
              "      <td>26-2</td>\n",
              "      <td>26-2 [jazz1350]</td>\n",
              "      <td>major</td>\n",
              "    </tr>\n",
              "    <tr>\n",
              "      <th>4</th>\n",
              "      <td>4</td>\n",
              "      <td>1</td>\n",
              "      <td>0</td>\n",
              "      <td>NaN</td>\n",
              "      <td>500 Miles High</td>\n",
              "      <td>500 Miles High [jazz1350]</td>\n",
              "      <td>minor</td>\n",
              "    </tr>\n",
              "  </tbody>\n",
              "</table>\n",
              "</div>"
            ],
            "text/plain": [
              "   id  tune_id  section_id  ...           title             title_playlist tune_mode\n",
              "0   0        0           1  ...            26-2            26-2 [jazz1350]     major\n",
              "1   1        0           2  ...            26-2            26-2 [jazz1350]     major\n",
              "2   2        0           3  ...            26-2            26-2 [jazz1350]     major\n",
              "3   3        0           4  ...            26-2            26-2 [jazz1350]     major\n",
              "4   4        1           0  ...  500 Miles High  500 Miles High [jazz1350]     minor\n",
              "\n",
              "[5 rows x 7 columns]"
            ]
          },
          "metadata": {},
          "execution_count": 21
        }
      ]
    },
    {
      "cell_type": "code",
      "metadata": {
        "id": "0vEOjvwt8jUu"
      },
      "source": [
        "titles_dict = titles.to_dict()\n",
        "\n",
        "sectionid_to_title = titles_dict['title_playlist']\n",
        "sectionid_to_titleid = titles_dict['tune_id']\n"
      ],
      "execution_count": 22,
      "outputs": []
    },
    {
      "cell_type": "code",
      "metadata": {
        "id": "Om7pbfnNGO_I"
      },
      "source": [
        "tunes = df.loc[:, ['tune_id', 'title_playlist']].drop_duplicates()\n",
        "tunes = tunes.set_index('tune_id').to_dict()\n",
        "titleid_to_title = tunes['title_playlist']"
      ],
      "execution_count": 23,
      "outputs": []
    },
    {
      "cell_type": "code",
      "metadata": {
        "id": "OvLyxrExxvew"
      },
      "source": [
        "title_to_titleid = {v: k for k, v in titleid_to_title.items()}\n"
      ],
      "execution_count": 24,
      "outputs": []
    },
    {
      "cell_type": "code",
      "metadata": {
        "id": "1H72Y3_d8uNu"
      },
      "source": [
        "titles_rows = titles.to_dict(orient='records')\n",
        "sectionid_to_section = []\n",
        "for i, row in enumerate(titles_rows):\n",
        "  name = f\"{row['title']}, section{row['section_id']} ({row['section_name']})\"\n",
        "  sectionid_to_section.append(name)\n",
        "  "
      ],
      "execution_count": 25,
      "outputs": []
    },
    {
      "cell_type": "code",
      "metadata": {
        "id": "HCeGUk818y8V"
      },
      "source": [
        "title_to_sectionid = {}\n",
        "\n",
        "for row in titles.iterrows():\n",
        "  title = row[1]['title_playlist']\n",
        "  if title not in title_to_sectionid:\n",
        "    title_to_sectionid[title] = [row[1]['id']]\n",
        "  else:\n",
        "    title_to_sectionid[title].append(row[1]['id'])"
      ],
      "execution_count": 26,
      "outputs": []
    },
    {
      "cell_type": "markdown",
      "metadata": {
        "id": "GWXGqImnoHdm"
      },
      "source": [
        "### Create Directories on Colab"
      ]
    },
    {
      "cell_type": "code",
      "metadata": {
        "id": "sDWIxDpIoJv1"
      },
      "source": [
        "!rm -R output\n",
        "!mkdir output"
      ],
      "execution_count": 27,
      "outputs": []
    },
    {
      "cell_type": "markdown",
      "metadata": {
        "id": "tHWe1mKVrF8O"
      },
      "source": [
        "### Test Data"
      ]
    },
    {
      "cell_type": "code",
      "metadata": {
        "id": "V0Bg0wJ7sBBk"
      },
      "source": [
        "tunes_eval_list = sorted(tunes_eval_list)"
      ],
      "execution_count": 28,
      "outputs": []
    },
    {
      "cell_type": "code",
      "metadata": {
        "id": "UE0AGDO_rFVo"
      },
      "source": [
        "#contrafacts_test = []\n",
        "#for reference, compare in contrafacts.items():\n",
        "#  contrafacts_test.append([title_to_sectionid[reference], title_to_sectionid[compare]])"
      ],
      "execution_count": 29,
      "outputs": []
    },
    {
      "cell_type": "markdown",
      "metadata": {
        "id": "LvQ60s_owm82"
      },
      "source": [
        "## Initialization for wandb variables"
      ]
    },
    {
      "cell_type": "code",
      "metadata": {
        "id": "fw7FHHXfwagL"
      },
      "source": [
        "recommender_results_cols = ['reference', 'id', 'method', 'similar', 'score_div_max', 'score']\n",
        "recommender_results = pd.DataFrame(columns=recommender_results_cols)"
      ],
      "execution_count": 30,
      "outputs": []
    },
    {
      "cell_type": "code",
      "metadata": {
        "id": "PfvF20G1JZMa"
      },
      "source": [
        "lsi_config = {\n",
        "    'num_topics': 200,\n",
        "}"
      ],
      "execution_count": 31,
      "outputs": []
    },
    {
      "cell_type": "code",
      "metadata": {
        "id": "eW2f6BdAJl01"
      },
      "source": [
        "doc2vec_config = {\n",
        "    'general': {\n",
        "        'chords_preprocessing': chords_preprocessing,\n",
        "        'chords_repeated': chords_repeated,\n",
        "        'document_tags': 'SectionsTunes',\n",
        "    },\n",
        "    'model': {\n",
        "        'dm': 1,\n",
        "        'vector_size': 100,\n",
        "        'window': 4,\n",
        "        'epochs': 40,\n",
        "        #'workers': 1,\n",
        "        'min_count': 1,\n",
        "        'negative': 10,\n",
        "        'sample': 0.001,\n",
        "        'seed': 42\n",
        "    }\n",
        "}"
      ],
      "execution_count": 32,
      "outputs": []
    },
    {
      "cell_type": "code",
      "metadata": {
        "id": "sxdJ97gdx70_",
        "colab": {
          "base_uri": "https://localhost:8080/",
          "height": 53
        },
        "outputId": "cef2a51e-cfcf-4044-e039-898caa73d699"
      },
      "source": [
        "if use_wandb:\n",
        "  wandb.init(\n",
        "        # Set entity to specify your username or team name\n",
        "        # ex: entity=\"carey\",\n",
        "        # Set the project where this run will be logged\n",
        "        project=\"jazztunes\", \n",
        "        \n",
        "        # Track hyperparameters and run metadata\n",
        "        config={\n",
        "            \"input_data\": input_path,\n",
        "            \"ngrams_input\": ngrams_for_input,\n",
        "            \"comparison\": \"sections\",\n",
        "            \"lsi\": lsi_config,\n",
        "            \"doc2vec\": doc2vec_config\n",
        "        }\n",
        "    )"
      ],
      "execution_count": 33,
      "outputs": [
        {
          "output_type": "stream",
          "name": "stderr",
          "text": [
            "\u001b[34m\u001b[1mwandb\u001b[0m: Currently logged in as: \u001b[33mdoris\u001b[0m (use `wandb login --relogin` to force relogin)\n"
          ]
        },
        {
          "output_type": "display_data",
          "data": {
            "text/html": [
              "\n",
              "                    Syncing run <strong><a href=\"https://wandb.ai/doris/jazztunes/runs/32k35ze5\" target=\"_blank\">cerulean-feather-6</a></strong> to <a href=\"https://wandb.ai/doris/jazztunes\" target=\"_blank\">Weights & Biases</a> (<a href=\"https://docs.wandb.com/integrations/jupyter.html\" target=\"_blank\">docs</a>).<br/>\n",
              "\n",
              "                "
            ],
            "text/plain": [
              "<IPython.core.display.HTML object>"
            ]
          },
          "metadata": {}
        }
      ]
    },
    {
      "cell_type": "code",
      "metadata": {
        "id": "xHOY4TKYVN-g"
      },
      "source": [
        "if use_wandb:\n",
        "  artifact = wandb.Artifact('input_data', type='dataset')\n",
        "  artifact.add_file('data.csv')\n",
        "  wandb.log_artifact(artifact)"
      ],
      "execution_count": 34,
      "outputs": []
    },
    {
      "cell_type": "markdown",
      "metadata": {
        "id": "wox-dMcz84Bt"
      },
      "source": [
        "## Helpers functions"
      ]
    },
    {
      "cell_type": "code",
      "metadata": {
        "id": "2964REdr80Gd"
      },
      "source": [
        "def ngrams(tokens, n=2, sep='-'):\n",
        "    return [sep.join(ngram) for ngram in zip(*[tokens[i:] for i in range(n)])]"
      ],
      "execution_count": 35,
      "outputs": []
    },
    {
      "cell_type": "code",
      "metadata": {
        "id": "W42rugQPNYVP"
      },
      "source": [
        "def raw_chords_to_df(tunes):\n",
        "  tunes_chords = [item for tune in tunes for item in tune]\n",
        "  counts = Counter(tunes_chords)\n",
        "  df = pd.DataFrame(counts.items(),\n",
        "                    columns=['chord', 'count']).sort_values(by='count', ascending=False)\n",
        "\n",
        "  return df"
      ],
      "execution_count": 36,
      "outputs": []
    },
    {
      "cell_type": "markdown",
      "metadata": {
        "id": "umfsNtAdF0jM"
      },
      "source": [
        "# Data Preparation"
      ]
    },
    {
      "cell_type": "code",
      "metadata": {
        "id": "dCLwnqoVGcMw"
      },
      "source": [
        "lines = df.loc[:, 'chords'].tolist()\n",
        "data = [line.split(' ') for line in lines]"
      ],
      "execution_count": 37,
      "outputs": []
    },
    {
      "cell_type": "code",
      "metadata": {
        "colab": {
          "base_uri": "https://localhost:8080/"
        },
        "id": "g7SmApW9F3K6",
        "outputId": "46b81336-8dd9-4b1e-e1fe-7204841a06bd"
      },
      "source": [
        "processed_corpus = []\n",
        "for line in data:\n",
        "  tune_n = []\n",
        "  for n in ngrams_for_input:\n",
        "    tune_n.extend(ngrams(line, n=n))\n",
        "  processed_corpus.append(tune_n)\n",
        "\n",
        "for line in processed_corpus[:5]:\n",
        "  print(line)"
      ],
      "execution_count": 38,
      "outputs": [
        {
          "output_type": "stream",
          "name": "stdout",
          "text": [
            "['C', 'Eb7', 'G#', 'B7', 'E', 'G7', 'Gm', 'C7', 'F', 'G#7', 'C#', 'E7', 'Am', 'D7', 'Dm', 'G7', 'C-Eb7', 'Eb7-G#', 'G#-B7', 'B7-E', 'E-G7', 'G7-Gm', 'Gm-C7', 'C7-F', 'F-G#7', 'G#7-C#', 'C#-E7', 'E7-Am', 'Am-D7', 'D7-Dm', 'Dm-G7']\n",
            "['C', 'Eb7', 'G#', 'B7', 'E', 'G7', 'Gm', 'C7', 'F', 'Eb7', 'G#', 'B7', 'E', 'G7', 'C', 'C-Eb7', 'Eb7-G#', 'G#-B7', 'B7-E', 'E-G7', 'G7-Gm', 'Gm-C7', 'C7-F', 'F-Eb7', 'Eb7-G#', 'G#-B7', 'B7-E', 'E-G7', 'G7-C']\n",
            "['Gm', 'C7', 'Bm', 'E7', 'A', 'C7', 'F', 'Bbm', 'Eb7', 'G#', 'Dm', 'G7', 'Gm-C7', 'C7-Bm', 'Bm-E7', 'E7-A', 'A-C7', 'C7-F', 'F-Bbm', 'Bbm-Eb7', 'Eb7-G#', 'G#-Dm', 'Dm-G7']\n",
            "['C', 'Eb7', 'G#', 'B7', 'E', 'G7', 'Gm', 'C7', 'F', 'Eb7', 'G#', 'B7', 'E', 'G7', 'C', 'C-Eb7', 'Eb7-G#', 'G#-B7', 'B7-E', 'E-G7', 'G7-Gm', 'Gm-C7', 'C7-F', 'F-Eb7', 'Eb7-G#', 'G#-B7', 'B7-E', 'E-G7', 'G7-C']\n",
            "['Am', 'Am', 'Cm', 'Cm', 'Eb', 'Eb', 'Em7b5', 'A7', 'Dm', 'Dm', 'Bm7b5', 'Bm7b5', 'Bbm', 'Bbm', 'Fm', 'Fm', 'E7', 'E7', 'Fm', 'Fm', 'C#', 'C#', 'Fm', 'Fm', 'C#', 'C#', 'Am-Am', 'Am-Cm', 'Cm-Cm', 'Cm-Eb', 'Eb-Eb', 'Eb-Em7b5', 'Em7b5-A7', 'A7-Dm', 'Dm-Dm', 'Dm-Bm7b5', 'Bm7b5-Bm7b5', 'Bm7b5-Bbm', 'Bbm-Bbm', 'Bbm-Fm', 'Fm-Fm', 'Fm-E7', 'E7-E7', 'E7-Fm', 'Fm-Fm', 'Fm-C#', 'C#-C#', 'C#-Fm', 'Fm-Fm', 'Fm-C#', 'C#-C#']\n"
          ]
        }
      ]
    },
    {
      "cell_type": "markdown",
      "metadata": {
        "id": "Sri0K2DhNagp"
      },
      "source": [
        "#### Corpus Overview"
      ]
    },
    {
      "cell_type": "code",
      "metadata": {
        "colab": {
          "base_uri": "https://localhost:8080/"
        },
        "id": "X2ZqA7IF4ufg",
        "outputId": "38418a6c-c155-47dc-940d-0f5d03c7a5c3"
      },
      "source": [
        "tokens = [item for l in processed_corpus for item in l]\n",
        "total_tokens = len(tokens)\n",
        "vocab_size = len(set(tokens))\n",
        "vocab_prop = 100*vocab_size/total_tokens\n",
        "\n",
        "print(f\"Total Number of tokens: {total_tokens}\")\n",
        "print(f\"Size of vocabulary: {vocab_size}\")\n",
        "print(f\"Proportion of vocabulary in corpus: {vocab_prop:.02f}%\")"
      ],
      "execution_count": 39,
      "outputs": [
        {
          "output_type": "stream",
          "name": "stdout",
          "text": [
            "Total Number of tokens: 159853\n",
            "Size of vocabulary: 1990\n",
            "Proportion of vocabulary in corpus: 1.24%\n"
          ]
        }
      ]
    },
    {
      "cell_type": "code",
      "metadata": {
        "colab": {
          "base_uri": "https://localhost:8080/",
          "height": 424
        },
        "id": "rULq3jYVNh_x",
        "outputId": "488d131e-f258-4dc5-971e-66461c3ad44a"
      },
      "source": [
        "df_chords = raw_chords_to_df(processed_corpus)\n",
        "df_chords"
      ],
      "execution_count": 40,
      "outputs": [
        {
          "output_type": "execute_result",
          "data": {
            "text/html": [
              "<div>\n",
              "<style scoped>\n",
              "    .dataframe tbody tr th:only-of-type {\n",
              "        vertical-align: middle;\n",
              "    }\n",
              "\n",
              "    .dataframe tbody tr th {\n",
              "        vertical-align: top;\n",
              "    }\n",
              "\n",
              "    .dataframe thead th {\n",
              "        text-align: right;\n",
              "    }\n",
              "</style>\n",
              "<table border=\"1\" class=\"dataframe\">\n",
              "  <thead>\n",
              "    <tr style=\"text-align: right;\">\n",
              "      <th></th>\n",
              "      <th>chord</th>\n",
              "      <th>count</th>\n",
              "    </tr>\n",
              "  </thead>\n",
              "  <tbody>\n",
              "    <tr>\n",
              "      <th>0</th>\n",
              "      <td>C</td>\n",
              "      <td>14387</td>\n",
              "    </tr>\n",
              "    <tr>\n",
              "      <th>5</th>\n",
              "      <td>G7</td>\n",
              "      <td>11144</td>\n",
              "    </tr>\n",
              "    <tr>\n",
              "      <th>14</th>\n",
              "      <td>Dm</td>\n",
              "      <td>7991</td>\n",
              "    </tr>\n",
              "    <tr>\n",
              "      <th>12</th>\n",
              "      <td>Am</td>\n",
              "      <td>5724</td>\n",
              "    </tr>\n",
              "    <tr>\n",
              "      <th>29</th>\n",
              "      <td>Dm-G7</td>\n",
              "      <td>5319</td>\n",
              "    </tr>\n",
              "    <tr>\n",
              "      <th>...</th>\n",
              "      <td>...</td>\n",
              "      <td>...</td>\n",
              "    </tr>\n",
              "    <tr>\n",
              "      <th>511</th>\n",
              "      <td>A7-C#m7b5</td>\n",
              "      <td>1</td>\n",
              "    </tr>\n",
              "    <tr>\n",
              "      <th>1628</th>\n",
              "      <td>B7-Cdim</td>\n",
              "      <td>1</td>\n",
              "    </tr>\n",
              "    <tr>\n",
              "      <th>1627</th>\n",
              "      <td>Am-G#m7b5</td>\n",
              "      <td>1</td>\n",
              "    </tr>\n",
              "    <tr>\n",
              "      <th>1623</th>\n",
              "      <td>C-G#m7b5</td>\n",
              "      <td>1</td>\n",
              "    </tr>\n",
              "    <tr>\n",
              "      <th>1989</th>\n",
              "      <td>E-Adim</td>\n",
              "      <td>1</td>\n",
              "    </tr>\n",
              "  </tbody>\n",
              "</table>\n",
              "<p>1990 rows × 2 columns</p>\n",
              "</div>"
            ],
            "text/plain": [
              "          chord  count\n",
              "0             C  14387\n",
              "5            G7  11144\n",
              "14           Dm   7991\n",
              "12           Am   5724\n",
              "29        Dm-G7   5319\n",
              "...         ...    ...\n",
              "511   A7-C#m7b5      1\n",
              "1628    B7-Cdim      1\n",
              "1627  Am-G#m7b5      1\n",
              "1623   C-G#m7b5      1\n",
              "1989     E-Adim      1\n",
              "\n",
              "[1990 rows x 2 columns]"
            ]
          },
          "metadata": {},
          "execution_count": 40
        }
      ]
    },
    {
      "cell_type": "code",
      "metadata": {
        "colab": {
          "base_uri": "https://localhost:8080/",
          "height": 560
        },
        "id": "G9fknTouNmKm",
        "outputId": "4406b1cf-c775-45d0-99c1-6c1a1609b329"
      },
      "source": [
        "df_chords = pd.DataFrame.from_dict(df_chords)\n",
        "df_chords.sort_values(by=['count'], ascending=False, inplace=True)\n",
        "df_chords_top = df_chords.query('count > 100')\n",
        "\n",
        "fig = px.bar(df_chords_top, x='chord', y='count', log_y=True)\n",
        "fig.update_layout(barmode='stack', xaxis={'categoryorder':'total descending'})\n",
        "fig.show()"
      ],
      "execution_count": 41,
      "outputs": [
        {
          "output_type": "stream",
          "name": "stderr",
          "text": [
            "2021-11-26 22:04:29,002 : INFO : NumExpr defaulting to 2 threads.\n"
          ]
        },
        {
          "output_type": "display_data",
          "data": {
            "text/html": [
              "<html>\n",
              "<head><meta charset=\"utf-8\" /></head>\n",
              "<body>\n",
              "    <div>\n",
              "            <script src=\"https://cdnjs.cloudflare.com/ajax/libs/mathjax/2.7.5/MathJax.js?config=TeX-AMS-MML_SVG\"></script><script type=\"text/javascript\">if (window.MathJax) {MathJax.Hub.Config({SVG: {font: \"STIX-Web\"}});}</script>\n",
              "                <script type=\"text/javascript\">window.PlotlyConfig = {MathJaxConfig: 'local'};</script>\n",
              "        <script src=\"https://cdn.plot.ly/plotly-latest.min.js\"></script>    \n",
              "            <div id=\"07951998-0179-4702-b7d3-8fa00f4bcdf8\" class=\"plotly-graph-div\" style=\"height:525px; width:100%;\"></div>\n",
              "            <script type=\"text/javascript\">\n",
              "                \n",
              "                    window.PLOTLYENV=window.PLOTLYENV || {};\n",
              "                    \n",
              "                if (document.getElementById(\"07951998-0179-4702-b7d3-8fa00f4bcdf8\")) {\n",
              "                    Plotly.newPlot(\n",
              "                        '07951998-0179-4702-b7d3-8fa00f4bcdf8',\n",
              "                        [{\"alignmentgroup\": \"True\", \"hoverlabel\": {\"namelength\": 0}, \"hovertemplate\": \"chord=%{x}<br>count=%{y}\", \"legendgroup\": \"\", \"marker\": {\"color\": \"#636efa\"}, \"name\": \"\", \"offsetgroup\": \"\", \"orientation\": \"v\", \"showlegend\": false, \"textposition\": \"auto\", \"type\": \"bar\", \"x\": [\"C\", \"G7\", \"Dm\", \"Am\", \"Dm-G7\", \"G7-C\", \"A7\", \"D7\", \"F\", \"C-C\", \"C7\", \"E7\", \"Em\", \"A7-Dm\", \"F7\", \"Bb7\", \"Fm\", \"D7-G7\", \"G7-G7\", \"E7-Am\", \"B7\", \"Am-Am\", \"C7-F\", \"Gm\", \"Em-A7\", \"C-G7\", \"Am-D7\", \"A7-D7\", \"G#7\", \"Am-Dm\", \"Bm7b5\", \"C-A7\", \"G\", \"Gm-C7\", \"C-Dm\", \"C-Am\", \"Bm7b5-E7\", \"D7-D7\", \"C-C7\", \"Ebdim\", \"F-F\", \"D7-Dm\", \"C7-C7\", \"Dm-Dm\", \"Eb7\", \"Cm\", \"C-F\", \"F#m7b5\", \"F-C\", \"G#\", \"Bm\", \"Fm-C\", \"C#7\", \"Bb\", \"F-Fm\", \"Em7b5\", \"E\", \"G7-Dm\", \"F#m\", \"Fm-Bb7\", \"F#7\", \"Em7b5-A7\", \"A7-A7\", \"C-F7\", \"Ebdim-Dm\", \"G7-Em\", \"C-E7\", \"Eb\", \"F#dim\", \"E7-A7\", \"C#dim\", \"E7-E7\", \"Ebm\", \"G#7-G7\", \"C#\", \"G7-C7\", \"C-D7\", \"A\", \"Em-Am\", \"B7-Em\", \"Dm7b5\", \"F#m7b5-B7\", \"C-Gm\", \"Bbm\", \"C-C#dim\", \"C-Ebdim\", \"D\", \"C#dim-Dm\", \"Bb7-C\", \"F-F#dim\", \"Bb7-A7\", \"C7-F7\", \"F#dim-C\", \"F-Bb7\", \"F#m-B7\", \"C-Em\", \"C#m\", \"Am-E7\", \"F7-F7\", \"F7-E7\", \"G-C\", \"Dm-Em\", \"Dm7b5-G7\", \"Am-Bm7b5\", \"Bm-E7\", \"F7-Em\", \"Cdim\", \"Ebm-G#7\", \"Bb7-Em\", \"B7-E7\", \"C-B7\", \"Am-F#m7b5\", \"Dm-A7\", \"Cm-F7\", \"C-Bm7b5\", \"B7-E\", \"D7-G\", \"F-G7\", \"F7-C\", \"Dm-Fm\", \"F-Em\", \"B\", \"Em-Ebdim\", \"Eb7-G#\", \"G7-Gm\", \"Dm-C\", \"G#7-Dm\", \"G#m\", \"Bbm-Eb7\", \"C-G\", \"C-Fm\", \"Fm-Fm\", \"Bb7-Eb\", \"Dm-Ebdim\", \"D7-Am\", \"F#\", \"Bb7-Am\", \"Fm-Em\", \"C-Bb7\", \"B7-Bb7\", \"C#7-C\", \"E7-F\", \"Cm-Cm\", \"Em-Em\", \"F-E7\", \"Em-F\", \"F-Dm\", \"C-Cdim\", \"Dm-E7\", \"Dm-Am\", \"G7-Cm\", \"Em-Dm\", \"F7-C7\", \"B7-B7\", \"Dm-Bm7b5\", \"Am-F7\", \"Eb7-D7\", \"Eb7-Dm\", \"F7-Bb7\", \"C-F#m7b5\", \"G7-E7\"], \"xaxis\": \"x\", \"y\": [14387, 11144, 7991, 5724, 5319, 5176, 4467, 3986, 3746, 3566, 3428, 3175, 2710, 2070, 1722, 1639, 1625, 1543, 1508, 1446, 1408, 1385, 1328, 1283, 1260, 1104, 1070, 1054, 975, 926, 922, 918, 890, 883, 873, 844, 818, 790, 746, 697, 680, 647, 637, 636, 622, 606, 604, 554, 533, 519, 511, 508, 498, 494, 481, 480, 474, 470, 453, 444, 443, 440, 440, 429, 428, 425, 413, 407, 406, 391, 388, 375, 365, 350, 342, 336, 331, 329, 326, 324, 316, 313, 313, 305, 302, 293, 293, 292, 291, 282, 281, 276, 274, 272, 271, 269, 266, 265, 260, 250, 247, 241, 236, 225, 225, 217, 214, 210, 209, 206, 200, 196, 194, 183, 182, 181, 181, 180, 180, 178, 176, 173, 172, 169, 166, 164, 159, 159, 158, 152, 151, 150, 149, 149, 147, 144, 140, 140, 135, 132, 130, 129, 128, 127, 122, 121, 120, 119, 119, 116, 115, 113, 112, 112, 108, 106, 103, 102, 102, 102, 101], \"yaxis\": \"y\"}],\n",
              "                        {\"barmode\": \"stack\", \"legend\": {\"tracegroupgap\": 0}, \"margin\": {\"t\": 60}, \"template\": {\"data\": {\"bar\": [{\"error_x\": {\"color\": \"#2a3f5f\"}, \"error_y\": {\"color\": \"#2a3f5f\"}, \"marker\": {\"line\": {\"color\": \"#E5ECF6\", \"width\": 0.5}}, \"type\": \"bar\"}], \"barpolar\": [{\"marker\": {\"line\": {\"color\": \"#E5ECF6\", \"width\": 0.5}}, \"type\": \"barpolar\"}], \"carpet\": [{\"aaxis\": {\"endlinecolor\": \"#2a3f5f\", \"gridcolor\": \"white\", \"linecolor\": \"white\", \"minorgridcolor\": \"white\", \"startlinecolor\": \"#2a3f5f\"}, \"baxis\": {\"endlinecolor\": \"#2a3f5f\", \"gridcolor\": \"white\", \"linecolor\": \"white\", \"minorgridcolor\": \"white\", \"startlinecolor\": \"#2a3f5f\"}, \"type\": \"carpet\"}], \"choropleth\": [{\"colorbar\": {\"outlinewidth\": 0, \"ticks\": \"\"}, \"type\": \"choropleth\"}], \"contour\": [{\"colorbar\": {\"outlinewidth\": 0, \"ticks\": \"\"}, \"colorscale\": [[0.0, \"#0d0887\"], [0.1111111111111111, \"#46039f\"], [0.2222222222222222, \"#7201a8\"], [0.3333333333333333, \"#9c179e\"], [0.4444444444444444, \"#bd3786\"], [0.5555555555555556, \"#d8576b\"], [0.6666666666666666, \"#ed7953\"], [0.7777777777777778, \"#fb9f3a\"], [0.8888888888888888, \"#fdca26\"], [1.0, \"#f0f921\"]], \"type\": \"contour\"}], \"contourcarpet\": [{\"colorbar\": {\"outlinewidth\": 0, \"ticks\": \"\"}, \"type\": \"contourcarpet\"}], \"heatmap\": [{\"colorbar\": {\"outlinewidth\": 0, \"ticks\": \"\"}, \"colorscale\": [[0.0, \"#0d0887\"], [0.1111111111111111, \"#46039f\"], [0.2222222222222222, \"#7201a8\"], [0.3333333333333333, \"#9c179e\"], [0.4444444444444444, \"#bd3786\"], [0.5555555555555556, \"#d8576b\"], [0.6666666666666666, \"#ed7953\"], [0.7777777777777778, \"#fb9f3a\"], [0.8888888888888888, \"#fdca26\"], [1.0, \"#f0f921\"]], \"type\": \"heatmap\"}], \"heatmapgl\": [{\"colorbar\": {\"outlinewidth\": 0, \"ticks\": \"\"}, \"colorscale\": [[0.0, \"#0d0887\"], [0.1111111111111111, \"#46039f\"], [0.2222222222222222, \"#7201a8\"], [0.3333333333333333, \"#9c179e\"], [0.4444444444444444, \"#bd3786\"], [0.5555555555555556, \"#d8576b\"], [0.6666666666666666, \"#ed7953\"], [0.7777777777777778, \"#fb9f3a\"], [0.8888888888888888, \"#fdca26\"], [1.0, \"#f0f921\"]], \"type\": \"heatmapgl\"}], \"histogram\": [{\"marker\": {\"colorbar\": {\"outlinewidth\": 0, \"ticks\": \"\"}}, \"type\": \"histogram\"}], \"histogram2d\": [{\"colorbar\": {\"outlinewidth\": 0, \"ticks\": \"\"}, \"colorscale\": [[0.0, \"#0d0887\"], [0.1111111111111111, \"#46039f\"], [0.2222222222222222, \"#7201a8\"], [0.3333333333333333, \"#9c179e\"], [0.4444444444444444, \"#bd3786\"], [0.5555555555555556, \"#d8576b\"], [0.6666666666666666, \"#ed7953\"], [0.7777777777777778, \"#fb9f3a\"], [0.8888888888888888, \"#fdca26\"], [1.0, \"#f0f921\"]], \"type\": \"histogram2d\"}], \"histogram2dcontour\": [{\"colorbar\": {\"outlinewidth\": 0, \"ticks\": \"\"}, \"colorscale\": [[0.0, \"#0d0887\"], [0.1111111111111111, \"#46039f\"], [0.2222222222222222, \"#7201a8\"], [0.3333333333333333, \"#9c179e\"], [0.4444444444444444, \"#bd3786\"], [0.5555555555555556, \"#d8576b\"], [0.6666666666666666, \"#ed7953\"], [0.7777777777777778, \"#fb9f3a\"], [0.8888888888888888, \"#fdca26\"], [1.0, \"#f0f921\"]], \"type\": \"histogram2dcontour\"}], \"mesh3d\": [{\"colorbar\": {\"outlinewidth\": 0, \"ticks\": \"\"}, \"type\": \"mesh3d\"}], \"parcoords\": [{\"line\": {\"colorbar\": {\"outlinewidth\": 0, \"ticks\": \"\"}}, \"type\": \"parcoords\"}], \"pie\": [{\"automargin\": true, \"type\": \"pie\"}], \"scatter\": [{\"marker\": {\"colorbar\": {\"outlinewidth\": 0, \"ticks\": \"\"}}, \"type\": \"scatter\"}], \"scatter3d\": [{\"line\": {\"colorbar\": {\"outlinewidth\": 0, \"ticks\": \"\"}}, \"marker\": {\"colorbar\": {\"outlinewidth\": 0, \"ticks\": \"\"}}, \"type\": \"scatter3d\"}], \"scattercarpet\": [{\"marker\": {\"colorbar\": {\"outlinewidth\": 0, \"ticks\": \"\"}}, \"type\": \"scattercarpet\"}], \"scattergeo\": [{\"marker\": {\"colorbar\": {\"outlinewidth\": 0, \"ticks\": \"\"}}, \"type\": \"scattergeo\"}], \"scattergl\": [{\"marker\": {\"colorbar\": {\"outlinewidth\": 0, \"ticks\": \"\"}}, \"type\": \"scattergl\"}], \"scattermapbox\": [{\"marker\": {\"colorbar\": {\"outlinewidth\": 0, \"ticks\": \"\"}}, \"type\": \"scattermapbox\"}], \"scatterpolar\": [{\"marker\": {\"colorbar\": {\"outlinewidth\": 0, \"ticks\": \"\"}}, \"type\": \"scatterpolar\"}], \"scatterpolargl\": [{\"marker\": {\"colorbar\": {\"outlinewidth\": 0, \"ticks\": \"\"}}, \"type\": \"scatterpolargl\"}], \"scatterternary\": [{\"marker\": {\"colorbar\": {\"outlinewidth\": 0, \"ticks\": \"\"}}, \"type\": \"scatterternary\"}], \"surface\": [{\"colorbar\": {\"outlinewidth\": 0, \"ticks\": \"\"}, \"colorscale\": [[0.0, \"#0d0887\"], [0.1111111111111111, \"#46039f\"], [0.2222222222222222, \"#7201a8\"], [0.3333333333333333, \"#9c179e\"], [0.4444444444444444, \"#bd3786\"], [0.5555555555555556, \"#d8576b\"], [0.6666666666666666, \"#ed7953\"], [0.7777777777777778, \"#fb9f3a\"], [0.8888888888888888, \"#fdca26\"], [1.0, \"#f0f921\"]], \"type\": \"surface\"}], \"table\": [{\"cells\": {\"fill\": {\"color\": \"#EBF0F8\"}, \"line\": {\"color\": \"white\"}}, \"header\": {\"fill\": {\"color\": \"#C8D4E3\"}, \"line\": {\"color\": \"white\"}}, \"type\": \"table\"}]}, \"layout\": {\"annotationdefaults\": {\"arrowcolor\": \"#2a3f5f\", \"arrowhead\": 0, \"arrowwidth\": 1}, \"coloraxis\": {\"colorbar\": {\"outlinewidth\": 0, \"ticks\": \"\"}}, \"colorscale\": {\"diverging\": [[0, \"#8e0152\"], [0.1, \"#c51b7d\"], [0.2, \"#de77ae\"], [0.3, \"#f1b6da\"], [0.4, \"#fde0ef\"], [0.5, \"#f7f7f7\"], [0.6, \"#e6f5d0\"], [0.7, \"#b8e186\"], [0.8, \"#7fbc41\"], [0.9, \"#4d9221\"], [1, \"#276419\"]], \"sequential\": [[0.0, \"#0d0887\"], [0.1111111111111111, \"#46039f\"], [0.2222222222222222, \"#7201a8\"], [0.3333333333333333, \"#9c179e\"], [0.4444444444444444, \"#bd3786\"], [0.5555555555555556, \"#d8576b\"], [0.6666666666666666, \"#ed7953\"], [0.7777777777777778, \"#fb9f3a\"], [0.8888888888888888, \"#fdca26\"], [1.0, \"#f0f921\"]], \"sequentialminus\": [[0.0, \"#0d0887\"], [0.1111111111111111, \"#46039f\"], [0.2222222222222222, \"#7201a8\"], [0.3333333333333333, \"#9c179e\"], [0.4444444444444444, \"#bd3786\"], [0.5555555555555556, \"#d8576b\"], [0.6666666666666666, \"#ed7953\"], [0.7777777777777778, \"#fb9f3a\"], [0.8888888888888888, \"#fdca26\"], [1.0, \"#f0f921\"]]}, \"colorway\": [\"#636efa\", \"#EF553B\", \"#00cc96\", \"#ab63fa\", \"#FFA15A\", \"#19d3f3\", \"#FF6692\", \"#B6E880\", \"#FF97FF\", \"#FECB52\"], \"font\": {\"color\": \"#2a3f5f\"}, \"geo\": {\"bgcolor\": \"white\", \"lakecolor\": \"white\", \"landcolor\": \"#E5ECF6\", \"showlakes\": true, \"showland\": true, \"subunitcolor\": \"white\"}, \"hoverlabel\": {\"align\": \"left\"}, \"hovermode\": \"closest\", \"mapbox\": {\"style\": \"light\"}, \"paper_bgcolor\": \"white\", \"plot_bgcolor\": \"#E5ECF6\", \"polar\": {\"angularaxis\": {\"gridcolor\": \"white\", \"linecolor\": \"white\", \"ticks\": \"\"}, \"bgcolor\": \"#E5ECF6\", \"radialaxis\": {\"gridcolor\": \"white\", \"linecolor\": \"white\", \"ticks\": \"\"}}, \"scene\": {\"xaxis\": {\"backgroundcolor\": \"#E5ECF6\", \"gridcolor\": \"white\", \"gridwidth\": 2, \"linecolor\": \"white\", \"showbackground\": true, \"ticks\": \"\", \"zerolinecolor\": \"white\"}, \"yaxis\": {\"backgroundcolor\": \"#E5ECF6\", \"gridcolor\": \"white\", \"gridwidth\": 2, \"linecolor\": \"white\", \"showbackground\": true, \"ticks\": \"\", \"zerolinecolor\": \"white\"}, \"zaxis\": {\"backgroundcolor\": \"#E5ECF6\", \"gridcolor\": \"white\", \"gridwidth\": 2, \"linecolor\": \"white\", \"showbackground\": true, \"ticks\": \"\", \"zerolinecolor\": \"white\"}}, \"shapedefaults\": {\"line\": {\"color\": \"#2a3f5f\"}}, \"ternary\": {\"aaxis\": {\"gridcolor\": \"white\", \"linecolor\": \"white\", \"ticks\": \"\"}, \"baxis\": {\"gridcolor\": \"white\", \"linecolor\": \"white\", \"ticks\": \"\"}, \"bgcolor\": \"#E5ECF6\", \"caxis\": {\"gridcolor\": \"white\", \"linecolor\": \"white\", \"ticks\": \"\"}}, \"title\": {\"x\": 0.05}, \"xaxis\": {\"automargin\": true, \"gridcolor\": \"white\", \"linecolor\": \"white\", \"ticks\": \"\", \"title\": {\"standoff\": 15}, \"zerolinecolor\": \"white\", \"zerolinewidth\": 2}, \"yaxis\": {\"automargin\": true, \"gridcolor\": \"white\", \"linecolor\": \"white\", \"ticks\": \"\", \"title\": {\"standoff\": 15}, \"zerolinecolor\": \"white\", \"zerolinewidth\": 2}}}, \"xaxis\": {\"anchor\": \"y\", \"categoryorder\": \"total descending\", \"domain\": [0.0, 1.0], \"title\": {\"text\": \"chord\"}}, \"yaxis\": {\"anchor\": \"x\", \"domain\": [0.0, 1.0], \"title\": {\"text\": \"count\"}, \"type\": \"log\"}},\n",
              "                        {\"responsive\": true}\n",
              "                    ).then(function(){\n",
              "                            \n",
              "var gd = document.getElementById('07951998-0179-4702-b7d3-8fa00f4bcdf8');\n",
              "var x = new MutationObserver(function (mutations, observer) {{\n",
              "        var display = window.getComputedStyle(gd).display;\n",
              "        if (!display || display === 'none') {{\n",
              "            console.log([gd, 'removed!']);\n",
              "            Plotly.purge(gd);\n",
              "            observer.disconnect();\n",
              "        }}\n",
              "}});\n",
              "\n",
              "// Listen for the removal of the full notebook cells\n",
              "var notebookContainer = gd.closest('#notebook-container');\n",
              "if (notebookContainer) {{\n",
              "    x.observe(notebookContainer, {childList: true});\n",
              "}}\n",
              "\n",
              "// Listen for the clearing of the current output cell\n",
              "var outputEl = gd.closest('.output');\n",
              "if (outputEl) {{\n",
              "    x.observe(outputEl, {childList: true});\n",
              "}}\n",
              "\n",
              "                        })\n",
              "                };\n",
              "                \n",
              "            </script>\n",
              "        </div>\n",
              "</body>\n",
              "</html>"
            ]
          },
          "metadata": {}
        }
      ]
    },
    {
      "cell_type": "markdown",
      "metadata": {
        "id": "cG5dtDpkWwLE"
      },
      "source": [
        "Plot Distribution accoring to Zipf's Law\n",
        "\n",
        "source: https://stats.stackexchange.com/questions/331219/characterizing-fitting-word-count-data-into-zipf-power-law-lognormal"
      ]
    },
    {
      "cell_type": "code",
      "metadata": {
        "id": "tazf9QRST5NP"
      },
      "source": [
        "from collections import Counter\n",
        "\n",
        "counter_of_words = df_chords.set_index('chord').to_dict(orient='dict')\n",
        "counter_of_words = Counter(counter_of_words['count'])\n",
        "counter_of_counts = Counter(counter_of_words.values())\n",
        "\n",
        "word_counts = np.array(list(counter_of_counts.keys()))\n",
        "freq_of_word_counts = np.array(list(counter_of_counts.values()))"
      ],
      "execution_count": 42,
      "outputs": []
    },
    {
      "cell_type": "code",
      "metadata": {
        "colab": {
          "base_uri": "https://localhost:8080/",
          "height": 295
        },
        "id": "Jc80DSe7QlkV",
        "outputId": "922683bf-9ce0-4f91-d09a-9c4defacbbf9"
      },
      "source": [
        "plt.scatter(np.log(word_counts), np.log(freq_of_word_counts))\n",
        "plt.xlabel('Log of word frequency')\n",
        "plt.ylabel('Log of number of such words')\n",
        "plt.title('Power law for word frequencies')\n",
        "\n",
        "plt.savefig('plot.png')"
      ],
      "execution_count": 43,
      "outputs": [
        {
          "output_type": "display_data",
          "data": {
            "image/png": "[encoded data removed]",
            "text/plain": [
              "<Figure size 432x288 with 1 Axes>"
            ]
          },
          "metadata": {
            "needs_background": "light"
          }
        }
      ]
    },
    {
      "cell_type": "code",
      "metadata": {
        "colab": {
          "base_uri": "https://localhost:8080/"
        },
        "id": "TRQxnw3XXfit",
        "outputId": "662e11b3-e1f7-4f6f-b8c2-84f5e951fa05"
      },
      "source": [
        "def neg_zipf_likelihood(s):\n",
        "    n = sum(freq_of_word_counts)\n",
        "    # for each word count, find the probability that a random word has such word count\n",
        "    probas = word_counts ** (-s) / np.sum(np.arange(1, n+1) **(-s))\n",
        "    log_likelihood = sum(np.log(probas) * word_counts)\n",
        "    return -log_likelihood\n",
        "\n",
        "from scipy.optimize import minimize_scalar\n",
        "s_best = minimize_scalar(neg_zipf_likelihood, [0.1, 3.0] )\n",
        "print(s_best.x)"
      ],
      "execution_count": 44,
      "outputs": [
        {
          "output_type": "stream",
          "name": "stdout",
          "text": [
            "-152.66397630056264\n"
          ]
        },
        {
          "output_type": "stream",
          "name": "stderr",
          "text": [
            "/usr/local/lib/python3.7/dist-packages/ipykernel_launcher.py:4: RuntimeWarning:\n",
            "\n",
            "overflow encountered in power\n",
            "\n",
            "/usr/local/lib/python3.7/dist-packages/ipykernel_launcher.py:4: RuntimeWarning:\n",
            "\n",
            "invalid value encountered in true_divide\n",
            "\n",
            "/usr/local/lib/python3.7/dist-packages/ipykernel_launcher.py:5: RuntimeWarning:\n",
            "\n",
            "divide by zero encountered in log\n",
            "\n",
            "/usr/local/lib/python3.7/dist-packages/numpy/core/fromnumeric.py:87: RuntimeWarning:\n",
            "\n",
            "overflow encountered in reduce\n",
            "\n"
          ]
        }
      ]
    },
    {
      "cell_type": "code",
      "metadata": {
        "id": "a1IvM4wh7zOv"
      },
      "source": [
        "if use_wandb:\n",
        "  wandb.log(\n",
        "      {\"corpus\": {\n",
        "              \"total_tokens\": total_tokens,\n",
        "              \"vocab_size\": vocab_size,\n",
        "              \"vocab_proportion_in_corpus\": vocab_prop,\n",
        "              \"zipf_plot\": wandb.Image('plot.png'),\n",
        "              }\n",
        "      }\n",
        "  )"
      ],
      "execution_count": 45,
      "outputs": []
    },
    {
      "cell_type": "markdown",
      "metadata": {
        "id": "LeRGFeTn89Uc"
      },
      "source": [
        "# TF-IDF"
      ]
    },
    {
      "cell_type": "code",
      "metadata": {
        "colab": {
          "base_uri": "https://localhost:8080/"
        },
        "id": "pBdUdBNr9Gmu",
        "outputId": "b5224c09-5902-4edd-8062-752378815a5a"
      },
      "source": [
        "dictionary = corpora.Dictionary(processed_corpus)\n",
        "bow_corpus = [dictionary.doc2bow(text) for text in processed_corpus]\n",
        "tfidf = TfidfModel(bow_corpus)"
      ],
      "execution_count": 46,
      "outputs": [
        {
          "output_type": "stream",
          "name": "stderr",
          "text": [
            "2021-11-26 22:04:30,283 : INFO : adding document #0 to Dictionary(0 unique tokens: [])\n",
            "2021-11-26 22:04:30,567 : INFO : built Dictionary(1990 unique tokens: ['Am', 'Am-D7', 'B7', 'B7-E', 'C']...) from 5391 documents (total 159853 corpus positions)\n",
            "2021-11-26 22:04:30,572 : INFO : Dictionary lifecycle event {'msg': \"built Dictionary(1990 unique tokens: ['Am', 'Am-D7', 'B7', 'B7-E', 'C']...) from 5391 documents (total 159853 corpus positions)\", 'datetime': '2021-11-26T22:04:30.571978', 'gensim': '4.1.2', 'python': '3.7.12 (default, Sep 10 2021, 00:21:48) \\n[GCC 7.5.0]', 'platform': 'Linux-5.4.104+-x86_64-with-Ubuntu-18.04-bionic', 'event': 'created'}\n",
            "2021-11-26 22:04:30,735 : INFO : collecting document frequencies\n",
            "2021-11-26 22:04:30,737 : INFO : PROGRESS: processing document #0\n",
            "2021-11-26 22:04:30,778 : INFO : TfidfModel lifecycle event {'msg': 'calculated IDF weights for 5391 documents and 1990 features (98104 matrix non-zeros)', 'datetime': '2021-11-26T22:04:30.778776', 'gensim': '4.1.2', 'python': '3.7.12 (default, Sep 10 2021, 00:21:48) \\n[GCC 7.5.0]', 'platform': 'Linux-5.4.104+-x86_64-with-Ubuntu-18.04-bionic', 'event': 'initialize'}\n"
          ]
        }
      ]
    },
    {
      "cell_type": "code",
      "metadata": {
        "id": "9NK-cuax9Kqk"
      },
      "source": [
        "# dictionary.token2id"
      ],
      "execution_count": 47,
      "outputs": []
    },
    {
      "cell_type": "code",
      "metadata": {
        "id": "til5xlce_y1m"
      },
      "source": [
        "!rm -R index\n",
        "!mkdir index"
      ],
      "execution_count": 48,
      "outputs": []
    },
    {
      "cell_type": "code",
      "metadata": {
        "colab": {
          "base_uri": "https://localhost:8080/"
        },
        "id": "tn_fz2M090IM",
        "outputId": "71c9cc5b-492f-48dd-9d8c-5b06a355507a"
      },
      "source": [
        "# Note: SparseMatrixSimilarity crashes due to lacking memory\n",
        "#from gensim.test.utils import get_tmpfile\n",
        "#index_tmpfile = get_tmpfile(\"index\")\n",
        "#index_tfidf = similarities.Similarity('/content/index/index_tfidf', bow_corpus, num_features=len(dictionary))\n",
        "\n",
        "index_tfidf = similarities.SparseMatrixSimilarity(tfidf[bow_corpus], num_features = len(dictionary))"
      ],
      "execution_count": 49,
      "outputs": [
        {
          "output_type": "stream",
          "name": "stderr",
          "text": [
            "2021-11-26 22:04:31,097 : INFO : creating sparse index\n",
            "2021-11-26 22:04:31,102 : INFO : creating sparse matrix from corpus\n",
            "2021-11-26 22:04:31,107 : INFO : PROGRESS: at document #0\n",
            "2021-11-26 22:04:31,897 : INFO : created <5391x1990 sparse matrix of type '<class 'numpy.float32'>'\n",
            "\twith 98104 stored elements in Compressed Sparse Row format>\n"
          ]
        }
      ]
    },
    {
      "cell_type": "code",
      "metadata": {
        "colab": {
          "base_uri": "https://localhost:8080/"
        },
        "id": "VRSUXNPTewqv",
        "outputId": "342e031d-dee2-4a99-d8e7-441a03775fa5"
      },
      "source": [
        "tfidf.save('/content/index/tfidf.model')  # save model\n",
        "index_tfidf.save('/content/index/tfidf.index') #save index"
      ],
      "execution_count": 50,
      "outputs": [
        {
          "output_type": "stream",
          "name": "stderr",
          "text": [
            "2021-11-26 22:04:31,917 : INFO : TfidfModel lifecycle event {'fname_or_handle': '/content/index/tfidf.model', 'separately': 'None', 'sep_limit': 10485760, 'ignore': frozenset(), 'datetime': '2021-11-26T22:04:31.917691', 'gensim': '4.1.2', 'python': '3.7.12 (default, Sep 10 2021, 00:21:48) \\n[GCC 7.5.0]', 'platform': 'Linux-5.4.104+-x86_64-with-Ubuntu-18.04-bionic', 'event': 'saving'}\n",
            "2021-11-26 22:04:31,931 : INFO : saved /content/index/tfidf.model\n",
            "2021-11-26 22:04:31,933 : INFO : SparseMatrixSimilarity lifecycle event {'fname_or_handle': '/content/index/tfidf.index', 'separately': 'None', 'sep_limit': 10485760, 'ignore': frozenset(), 'datetime': '2021-11-26T22:04:31.933645', 'gensim': '4.1.2', 'python': '3.7.12 (default, Sep 10 2021, 00:21:48) \\n[GCC 7.5.0]', 'platform': 'Linux-5.4.104+-x86_64-with-Ubuntu-18.04-bionic', 'event': 'saving'}\n",
            "2021-11-26 22:04:31,938 : INFO : saved /content/index/tfidf.index\n"
          ]
        }
      ]
    },
    {
      "cell_type": "markdown",
      "metadata": {
        "id": "ZLK0coIu9Tv5"
      },
      "source": [
        "## Tests"
      ]
    },
    {
      "cell_type": "code",
      "metadata": {
        "id": "Fzrj1qxwDpJT"
      },
      "source": [
        "def get_sim_scores(tunes, index, model):\n",
        "\n",
        "    df_sim = pd.DataFrame(columns=['reference_title',\n",
        "                                   'reference_titleid',\n",
        "                                   'similar_title',\n",
        "                                   'similar_titleid',\n",
        "                                   'ref_section', \n",
        "                                   'similar_section', \n",
        "                                   'score', \n",
        "                                  ])\n",
        "\n",
        "    for tune in tunes:\n",
        "      print()\n",
        "      print(\"-\"*50)\n",
        "      for s1 in title_to_sectionid[tune]:\n",
        "      \n",
        "          query = processed_corpus[s1]\n",
        "          query_bow = dictionary.doc2bow(query)\n",
        "\n",
        "          # perform a similarity query against the corpus\n",
        "          similarities = index[model[query_bow]]\n",
        "          sims = sorted(enumerate(similarities), key=lambda item: -item[1])\n",
        "          \n",
        "          print(s1, sectionid_to_section[s1])\n",
        "          n = 0\n",
        "          for s2, s2_score in sims:\n",
        "            \n",
        "            # store the top N best results\n",
        "            if n > 40:\n",
        "                break\n",
        "            # don't count self-similarity between sections of the same tune\n",
        "            if s2 not in title_to_sectionid[tune]:\n",
        "                n += 1\n",
        "            \n",
        "                # print(f\"\\t{s2_score:.3f} {sectionid_to_section[s2]}\")\n",
        "\n",
        "                df_sim.loc[len(df_sim)] = [tune,\n",
        "                                           title_to_titleid[tune],\n",
        "                                           sectionid_to_title[s2],\n",
        "                                           sectionid_to_titleid[s2],\n",
        "                                           sectionid_to_section[s1], \n",
        "                                           sectionid_to_section[s2], \n",
        "                                           s2_score, \n",
        "                                           ]\n",
        "    return df_sim"
      ],
      "execution_count": 51,
      "outputs": []
    },
    {
      "cell_type": "code",
      "metadata": {
        "id": "OZ0YfkIO9g5V"
      },
      "source": [
        "def recommend_tune(df, tune_name):\n",
        "\n",
        "  df_tune = df.query(f'reference_title == \"{tune_name}\"')\n",
        "  ff = df_tune.iloc[:]\n",
        "\n",
        "  # get the maximum similarity score for each section and store in new column\n",
        "  ff['max'] = ff.groupby('ref_section')['score'].transform('max')\n",
        "\n",
        "  # scale the score with the maxmum value of each section\n",
        "  ff['score_div_max'] = ff['score'] / ff['max']\n",
        "\n",
        "  # consider only the top N tunes for each group\n",
        "  ff = ff.sort_values(['ref_section', 'score_div_max'], ascending=[True, False])\n",
        "  result = ff.groupby('ref_section').head(30)\n",
        "  \n",
        "  # if multiple rows from the same similar tune, keep only the similar_title with the highest score_div_max\n",
        "  result = result.groupby('similar_title').max('score_div_max').sort_values('score_div_max', ascending=False)\n",
        "\n",
        "  # add the name of the reference tune\n",
        "  result['reference'] = tune_name\n",
        "  result['reference_titleid'] = title_to_titleid[tune_name]\n",
        "\n",
        "  result = result.reset_index()\n",
        "  result = result.loc[:, ['reference', 'reference_titleid', 'similar_title', 'score', 'max', 'score_div_max']]\n",
        "  result['similar_titleid'] = result['similar_title'].apply(lambda x: title_to_titleid[x])\n",
        "  result = result.reset_index()\n",
        "  return result, ff"
      ],
      "execution_count": 52,
      "outputs": []
    },
    {
      "cell_type": "markdown",
      "metadata": {
        "id": "S4RKQCihX02Q"
      },
      "source": [
        "### Single Tunes"
      ]
    },
    {
      "cell_type": "code",
      "metadata": {
        "colab": {
          "base_uri": "https://localhost:8080/"
        },
        "id": "5Wz4ZQk_EKZy",
        "outputId": "0d5fb240-29b7-49e5-e5fc-e054db1612b5"
      },
      "source": [
        "%%time\n",
        "df_sim = get_sim_scores(tunes_eval_list, index_tfidf, tfidf)\n",
        "\n",
        "# save a copy of the results; all results will be concatenated at the end\n",
        "df_tfidf = df_sim[:]"
      ],
      "execution_count": 53,
      "outputs": [
        {
          "output_type": "stream",
          "name": "stdout",
          "text": [
            "\n",
            "--------------------------------------------------\n",
            "125 After You've Gone, section1 (A)\n",
            "126 After You've Gone, section2 (B)\n",
            "127 After You've Gone, section3 (A)\n",
            "128 After You've Gone, section4 (C)\n",
            "\n",
            "--------------------------------------------------\n",
            "188 All God's Chillun Got Rhythm, section1 (A)\n",
            "189 All God's Chillun Got Rhythm, section2 (B)\n",
            "190 All God's Chillun Got Rhythm, section3 (A)\n",
            "191 All God's Chillun Got Rhythm, section4 (C)\n",
            "\n",
            "--------------------------------------------------\n",
            "198 All Of Me, section1 (A)\n",
            "199 All Of Me, section2 (B)\n",
            "200 All Of Me, section3 (A)\n",
            "201 All Of Me, section4 (C)\n",
            "\n",
            "--------------------------------------------------\n",
            "474 Blood Count, section1 (A)\n",
            "475 Blood Count, section2 (A)\n",
            "476 Blood Count, section3 (B)\n",
            "477 Blood Count, section4 (A)\n",
            "478 Blood Count, section5 (C)\n",
            "\n",
            "--------------------------------------------------\n",
            "496 Blue Moon, section1 (A)\n",
            "497 Blue Moon, section2 (A)\n",
            "498 Blue Moon, section3 (B)\n",
            "499 Blue Moon, section4 (A)\n",
            "\n",
            "--------------------------------------------------\n",
            "626 But Beautiful, section1 (A)\n",
            "627 But Beautiful, section2 (B)\n",
            "628 But Beautiful, section3 (A)\n",
            "629 But Beautiful, section4 (C)\n",
            "\n",
            "--------------------------------------------------\n",
            "653 Bye Bye Blackbird, section1 (A)\n",
            "654 Bye Bye Blackbird, section2 (B)\n",
            "\n",
            "--------------------------------------------------\n",
            "676 Call Me Irresponsible, section1 (A)\n",
            "677 Call Me Irresponsible, section2 (B)\n",
            "678 Call Me Irresponsible, section3 (A)\n",
            "679 Call Me Irresponsible, section4 (B)\n",
            "\n",
            "--------------------------------------------------\n",
            "826 Corcovado, section1 (A)\n",
            "827 Corcovado, section2 (B)\n",
            "828 Corcovado, section3 (A)\n",
            "829 Corcovado, section4 (C)\n",
            "\n",
            "--------------------------------------------------\n",
            "997 Dinah, section1 (A)\n",
            "998 Dinah, section2 (A)\n",
            "999 Dinah, section3 (B)\n",
            "1000 Dinah, section4 (A)\n",
            "\n",
            "--------------------------------------------------\n",
            "1125 East Of The Sun, section1 (A)\n",
            "1126 East Of The Sun, section2 (B)\n",
            "1127 East Of The Sun, section3 (A)\n",
            "1128 East Of The Sun, section4 (C)\n",
            "\n",
            "--------------------------------------------------\n",
            "1287 Footprints, section0 (nan)\n",
            "\n",
            "--------------------------------------------------\n",
            "1379 Giant Steps, section0 (nan)\n",
            "\n",
            "--------------------------------------------------\n",
            "1538 Honeysuckle Rose, section1 (A)\n",
            "1539 Honeysuckle Rose, section2 (A)\n",
            "1540 Honeysuckle Rose, section3 (B)\n",
            "1541 Honeysuckle Rose, section4 (A)\n",
            "\n",
            "--------------------------------------------------\n",
            "1647 I Got Rhythm, section1 (A)\n",
            "1648 I Got Rhythm, section2 (A)\n",
            "1649 I Got Rhythm, section3 (B)\n",
            "1650 I Got Rhythm, section4 (A)\n",
            "\n",
            "--------------------------------------------------\n",
            "2670 Misty, section1 (A)\n",
            "2671 Misty, section2 (A)\n",
            "2672 Misty, section3 (B)\n",
            "2673 Misty, section4 (A)\n",
            "\n",
            "--------------------------------------------------\n",
            "2857 Naima, section1 (A)\n",
            "2858 Naima, section2 (A)\n",
            "2859 Naima, section3 (B)\n",
            "2860 Naima, section4 (A)\n",
            "\n",
            "--------------------------------------------------\n",
            "5044 Old Fashioned Love, section0 (nan)\n",
            "\n",
            "--------------------------------------------------\n",
            "3142 Perdido, section1 (A)\n",
            "3143 Perdido, section2 (A)\n",
            "3144 Perdido, section3 (B)\n",
            "3145 Perdido, section4 (A)\n",
            "\n",
            "--------------------------------------------------\n",
            "3276 Rockin' Chair, section1 (A)\n",
            "3277 Rockin' Chair, section2 (B)\n",
            "3278 Rockin' Chair, section3 (A)\n",
            "\n",
            "--------------------------------------------------\n",
            "3578 Sophisticated Lady, section1 (A)\n",
            "3579 Sophisticated Lady, section2 (A)\n",
            "3580 Sophisticated Lady, section3 (B)\n",
            "3581 Sophisticated Lady, section4 (A)\n",
            "\n",
            "--------------------------------------------------\n",
            "3746 Sweet Sue, Just You, section1 (A)\n",
            "3747 Sweet Sue, Just You, section2 (A)\n",
            "3748 Sweet Sue, Just You, section3 (B)\n",
            "3749 Sweet Sue, Just You, section4 (A)\n",
            "\n",
            "--------------------------------------------------\n",
            "3860 These Foolish Things, section1 (A)\n",
            "3861 These Foolish Things, section2 (A)\n",
            "3862 These Foolish Things, section3 (B)\n",
            "3863 These Foolish Things, section4 (A)\n",
            "\n",
            "--------------------------------------------------\n",
            "4146 We'll Be Together Again, section1 (A)\n",
            "4147 We'll Be Together Again, section2 (A)\n",
            "4148 We'll Be Together Again, section3 (B)\n",
            "4149 We'll Be Together Again, section4 (A)\n",
            "CPU times: user 24.5 s, sys: 403 ms, total: 24.9 s\n",
            "Wall time: 24.8 s\n"
          ]
        }
      ]
    },
    {
      "cell_type": "code",
      "metadata": {
        "colab": {
          "base_uri": "https://localhost:8080/",
          "height": 542
        },
        "id": "yzRuIKVh9c8g",
        "outputId": "273d0843-34be-44b7-ba99-2b10a5b86e93"
      },
      "source": [
        "import plotly.express as px\n",
        "fig = px.histogram(df_sim, x=\"score\", nbins=50, title='Scores for TF-IDF')\n",
        "fig.show()"
      ],
      "execution_count": 54,
      "outputs": [
        {
          "output_type": "display_data",
          "data": {
            "text/html": [
              "<html>\n",
              "<head><meta charset=\"utf-8\" /></head>\n",
              "<body>\n",
              "    <div>\n",
              "            <script src=\"https://cdnjs.cloudflare.com/ajax/libs/mathjax/2.7.5/MathJax.js?config=TeX-AMS-MML_SVG\"></script><script type=\"text/javascript\">if (window.MathJax) {MathJax.Hub.Config({SVG: {font: \"STIX-Web\"}});}</script>\n",
              "                <script type=\"text/javascript\">window.PlotlyConfig = {MathJaxConfig: 'local'};</script>\n",
              "        <script src=\"https://cdn.plot.ly/plotly-latest.min.js\"></script>    \n",
              "            <div id=\"4c07bb93-e028-4f9d-b8be-55382c887c13\" class=\"plotly-graph-div\" style=\"height:525px; width:100%;\"></div>\n",
              "            <script type=\"text/javascript\">\n",
              "                \n",
              "                    window.PLOTLYENV=window.PLOTLYENV || {};\n",
              "                    \n",
              "                if (document.getElementById(\"4c07bb93-e028-4f9d-b8be-55382c887c13\")) {\n",
              "                    Plotly.newPlot(\n",
              "                        '4c07bb93-e028-4f9d-b8be-55382c887c13',\n",
              "                        [{\"alignmentgroup\": \"True\", \"bingroup\": \"x\", \"hoverlabel\": {\"namelength\": 0}, \"hovertemplate\": \"score=%{x}<br>count=%{y}\", \"legendgroup\": \"\", \"marker\": {\"color\": \"#636efa\"}, \"name\": \"\", \"nbinsx\": 50, \"offsetgroup\": \"\", \"orientation\": \"v\", \"showlegend\": false, \"type\": \"histogram\", \"x\": [0.7090745568275452, 0.6826913952827454, 0.6642193794250488, 0.6233511567115784, 0.6164353489875793, 0.6072206497192383, 0.60328209400177, 0.5977472066879272, 0.5833205580711365, 0.5833205580711365, 0.5792747139930725, 0.5752471685409546, 0.565923810005188, 0.551950991153717, 0.5515998601913452, 0.547199010848999, 0.546893298625946, 0.546893298625946, 0.5465227365493774, 0.5392770171165466, 0.525978147983551, 0.519153356552124, 0.5143224596977234, 0.5143224596977234, 0.5060896277427673, 0.5043249726295471, 0.5004313588142395, 0.4970645606517792, 0.4970645606517792, 0.49563440680503845, 0.49494144320487976, 0.4919930696487427, 0.4908227324485779, 0.486247181892395, 0.479239821434021, 0.479239821434021, 0.479239821434021, 0.4783179461956024, 0.47622278332710266, 0.47379225492477417, 0.46881458163261414, 0.7334473729133606, 0.6780229806900024, 0.6780229806900024, 0.6581729054450989, 0.6581729054450989, 0.6485377550125122, 0.6336797475814819, 0.6087161302566528, 0.5973275899887085, 0.5919609069824219, 0.5869520902633667, 0.5869520902633667, 0.5840628743171692, 0.5840628743171692, 0.5832016468048096, 0.5816020369529724, 0.5816020369529724, 0.5716381669044495, 0.5716381669044495, 0.5667580962181091, 0.5657323002815247, 0.5652643442153931, 0.5650559663772583, 0.5590819120407104, 0.5590819120407104, 0.5590819120407104, 0.5583751797676086, 0.553352952003479, 0.5530842542648315, 0.5530842542648315, 0.5530842542648315, 0.5517209768295288, 0.5517209768295288, 0.5517209768295288, 0.5481842160224915, 0.5437712669372559, 0.5437712669372559, 0.5437712669372559, 0.5437712669372559, 0.5422041416168213, 0.5409988760948181, 0.7090745568275452, 0.6826913952827454, 0.6642193794250488, 0.6233511567115784, 0.6164353489875793, 0.6072206497192383, 0.60328209400177, 0.5977472066879272, 0.5833205580711365, 0.5833205580711365, 0.5792747139930725, 0.5752471685409546, 0.565923810005188, 0.551950991153717, 0.5515998601913452, 0.547199010848999, 0.546893298625946, 0.546893298625946, 0.5465227365493774, 0.5392770171165466, 0.525978147983551, 0.519153356552124, 0.5143224596977234, 0.5143224596977234, 0.5060896277427673, 0.5043249726295471, 0.5004313588142395, 0.4970645606517792, 0.4970645606517792, 0.49563440680503845, 0.49494144320487976, 0.4919930696487427, 0.4908227324485779, 0.486247181892395, 0.479239821434021, 0.479239821434021, 0.479239821434021, 0.4783179461956024, 0.47622278332710266, 0.47379225492477417, 0.46881458163261414, 0.5622771978378296, 0.49774399399757385, 0.49282974004745483, 0.4804272949695587, 0.47650396823883057, 0.45844531059265137, 0.4561397433280945, 0.4457947909832001, 0.41915780305862427, 0.41768425703048706, 0.4168933033943176, 0.4099384546279907, 0.4092591404914856, 0.4080173969268799, 0.40760767459869385, 0.4003213047981262, 0.4003213047981262, 0.3997226059436798, 0.39587831497192383, 0.39010247588157654, 0.3869999051094055, 0.38638728857040405, 0.38633525371551514, 0.38523241877555847, 0.38320687413215637, 0.37663015723228455, 0.37586119771003723, 0.3756955564022064, 0.3711453676223755, 0.3629603981971741, 0.3625023365020752, 0.3622409403324127, 0.36221399903297424, 0.3600081503391266, 0.3600081503391266, 0.359601765871048, 0.35737618803977966, 0.3573378026485443, 0.3573378026485443, 0.35393285751342773, 0.3538340628147125, 0.9061146974563599, 0.9061146974563599, 0.853308379650116, 0.8050652742385864, 0.8034722805023193, 0.7816691994667053, 0.7722448110580444, 0.7331789135932922, 0.7331789135932922, 0.715878963470459, 0.715878963470459, 0.7081419825553894, 0.7078802585601807, 0.7051845788955688, 0.7051845788955688, 0.6999287009239197, 0.6872540712356567, 0.6871023774147034, 0.6871023774147034, 0.6871023774147034, 0.6825340986251831, 0.652847409248352, 0.6501343250274658, 0.6496527791023254, 0.6494743227958679, 0.6494437456130981, 0.6494437456130981, 0.6479504704475403, 0.6440452337265015, 0.6422680616378784, 0.6404552459716797, 0.6390873789787292, 0.6374028921127319, 0.6347818374633789, 0.6315184831619263, 0.6304265856742859, 0.6258179545402527, 0.6247774958610535, 0.6242678761482239, 0.6214535236358643, 0.6214535236358643, 0.6932119131088257, 0.6595499515533447, 0.6586284041404724, 0.6411525011062622, 0.6124577522277832, 0.6040477156639099, 0.6012799739837646, 0.6003780364990234, 0.5932271480560303, 0.5894684791564941, 0.589348554611206, 0.5679305791854858, 0.5679305791854858, 0.5669242739677429, 0.5661273002624512, 0.5652480721473694, 0.5595133900642395, 0.557233989238739, 0.556830108165741, 0.5560590624809265, 0.5504432320594788, 0.5500386953353882, 0.5439778566360474, 0.5431013703346252, 0.5385130047798157, 0.5348633527755737, 0.5325415134429932, 0.5205821394920349, 0.5182563066482544, 0.5170426964759827, 0.5166218876838684, 0.5117601156234741, 0.5105457305908203, 0.5087928771972656, 0.505013108253479, 0.5028624534606934, 0.5004141330718994, 0.49570274353027344, 0.4955677092075348, 0.4891516864299774, 0.48899197578430176, 0.9061146974563599, 0.9061146974563599, 0.853308379650116, 0.8050652742385864, 0.8034722805023193, 0.7816691994667053, 0.7722448110580444, 0.7331789135932922, 0.7331789135932922, 0.715878963470459, 0.715878963470459, 0.7081419825553894, 0.7078802585601807, 0.7051845788955688, 0.7051845788955688, 0.6999287009239197, 0.6872540712356567, 0.6871023774147034, 0.6871023774147034, 0.6871023774147034, 0.6825340986251831, 0.652847409248352, 0.6501343250274658, 0.6496527791023254, 0.6494743227958679, 0.6494437456130981, 0.6494437456130981, 0.6479504704475403, 0.6440452337265015, 0.6422680616378784, 0.6404552459716797, 0.6390873789787292, 0.6374028921127319, 0.6347818374633789, 0.6315184831619263, 0.6304265856742859, 0.6258179545402527, 0.6247774958610535, 0.6242678761482239, 0.6214535236358643, 0.6214535236358643, 0.8079332113265991, 0.7568928599357605, 0.718995213508606, 0.66382896900177, 0.6592187881469727, 0.6314301490783691, 0.6235954761505127, 0.6153515577316284, 0.6125265955924988, 0.5842883586883545, 0.5739150643348694, 0.5673470497131348, 0.566928505897522, 0.5602412819862366, 0.551366925239563, 0.5490848422050476, 0.5422042608261108, 0.541657030582428, 0.5217928290367126, 0.5162200331687927, 0.5132719278335571, 0.5114279985427856, 0.5098690390586853, 0.508772611618042, 0.506938099861145, 0.5053139328956604, 0.5045812129974365, 0.4980415403842926, 0.4945729076862335, 0.48621222376823425, 0.48370543122291565, 0.48368754982948303, 0.4818047881126404, 0.4799540638923645, 0.479451060295105, 0.47698476910591125, 0.47623103857040405, 0.4757396876811981, 0.4720173478126526, 0.4710025191307068, 0.4690462648868561, 0.8052868843078613, 0.7989528179168701, 0.7501167058944702, 0.7025409936904907, 0.7025409936904907, 0.7025409936904907, 0.6985653042793274, 0.6922509670257568, 0.6922509670257568, 0.6915632486343384, 0.6826271414756775, 0.6460784077644348, 0.6441953778266907, 0.6421678066253662, 0.6336933970451355, 0.629549503326416, 0.629549503326416, 0.629549503326416, 0.629549503326416, 0.629549503326416, 0.629549503326416, 0.629549503326416, 0.629549503326416, 0.629549503326416, 0.629549503326416, 0.629549503326416, 0.629549503326416, 0.629549503326416, 0.629549503326416, 0.629549503326416, 0.629549503326416, 0.629549503326416, 0.629549503326416, 0.629549503326416, 0.629549503326416, 0.629549503326416, 0.629549503326416, 0.629549503326416, 0.629549503326416, 0.6236394047737122, 0.6236394047737122, 0.8822357654571533, 0.8644736409187317, 0.8644736409187317, 0.8644736409187317, 0.7791066765785217, 0.7681363224983215, 0.7493005990982056, 0.6666203141212463, 0.6442558765411377, 0.6408884525299072, 0.6408884525299072, 0.6215652227401733, 0.6180917620658875, 0.6003221273422241, 0.5984013676643372, 0.5984013676643372, 0.5778490304946899, 0.5771694779396057, 0.5769892930984497, 0.5744834542274475, 0.5712616443634033, 0.5653813481330872, 0.5619544982910156, 0.5594648122787476, 0.5594043731689453, 0.559083104133606, 0.559083104133606, 0.557013988494873, 0.5539745092391968, 0.551291286945343, 0.5459481477737427, 0.5452145338058472, 0.5440975427627563, 0.5429934859275818, 0.5418295860290527, 0.5406314134597778, 0.540091335773468, 0.540091335773468, 0.5392146110534668, 0.5326513051986694, 0.5321835279464722, 0.8052868843078613, 0.7989528179168701, 0.7501167058944702, 0.7025409936904907, 0.7025409936904907, 0.7025409936904907, 0.6985653042793274, 0.6922509670257568, 0.6922509670257568, 0.6915632486343384, 0.6826271414756775, 0.6460784077644348, 0.6441953778266907, 0.6421678066253662, 0.6336933970451355, 0.629549503326416, 0.629549503326416, 0.629549503326416, 0.629549503326416, 0.629549503326416, 0.629549503326416, 0.629549503326416, 0.629549503326416, 0.629549503326416, 0.629549503326416, 0.629549503326416, 0.629549503326416, 0.629549503326416, 0.629549503326416, 0.629549503326416, 0.629549503326416, 0.629549503326416, 0.629549503326416, 0.629549503326416, 0.629549503326416, 0.629549503326416, 0.629549503326416, 0.629549503326416, 0.629549503326416, 0.6236394047737122, 0.6236394047737122, 0.7286597490310669, 0.7152524590492249, 0.7152524590492249, 0.668635904788971, 0.668635904788971, 0.6658910512924194, 0.6395648717880249, 0.6361818313598633, 0.6353793144226074, 0.6331803798675537, 0.6304222941398621, 0.6297093033790588, 0.6114681959152222, 0.6114681959152222, 0.6081075668334961, 0.5922068357467651, 0.5905950665473938, 0.5836567878723145, 0.5730562806129456, 0.5715217590332031, 0.5706057548522949, 0.5684095025062561, 0.5684095025062561, 0.5622299313545227, 0.5622299313545227, 0.5613864660263062, 0.5607736110687256, 0.548663854598999, 0.5451210737228394, 0.5437048673629761, 0.5437048673629761, 0.5421558618545532, 0.5405356884002686, 0.5405356884002686, 0.5369946956634521, 0.535683810710907, 0.5289382934570312, 0.5271244049072266, 0.5265223979949951, 0.5259354710578918, 0.5245486497879028, 0.6151853799819946, 0.6075792908668518, 0.6075792908668518, 0.5645760297775269, 0.5578820705413818, 0.5300441980361938, 0.5203371644020081, 0.5167649984359741, 0.5167649984359741, 0.516400158405304, 0.5141507387161255, 0.5090349912643433, 0.4997251033782959, 0.4401979446411133, 0.4004649221897125, 0.3985479772090912, 0.3797554075717926, 0.3789330720901489, 0.3637440800666809, 0.3627503216266632, 0.3397039771080017, 0.33968308568000793, 0.3385924696922302, 0.3385924696922302, 0.33626413345336914, 0.33106347918510437, 0.32847827672958374, 0.32847827672958374, 0.3266315460205078, 0.3266315460205078, 0.3244478106498718, 0.3147768974304199, 0.31090477108955383, 0.3105565905570984, 0.310468852519989, 0.30958354473114014, 0.30926713347435, 0.304787814617157, 0.30471792817115784, 0.3000538945198059, 0.299621045589447, 0.5602693557739258, 0.4425058960914612, 0.4102177917957306, 0.3921983242034912, 0.39211249351501465, 0.39211249351501465, 0.3654540777206421, 0.362263947725296, 0.358990341424942, 0.3456033170223236, 0.3456033170223236, 0.3381173610687256, 0.33671480417251587, 0.32891860604286194, 0.3281328082084656, 0.3251569867134094, 0.3251569867134094, 0.3251569867134094, 0.3220391273498535, 0.3210753798484802, 0.3209615647792816, 0.31066766381263733, 0.3103303611278534, 0.3103303611278534, 0.3102911412715912, 0.31003063917160034, 0.31003063917160034, 0.3099924325942993, 0.3099924325942993, 0.30958056449890137, 0.30696117877960205, 0.30696117877960205, 0.30395740270614624, 0.30165696144104004, 0.29407715797424316, 0.29127922654151917, 0.29127922654151917, 0.29127922654151917, 0.2883092761039734, 0.28554201126098633, 0.2838960886001587, 0.29344362020492554, 0.2929704189300537, 0.26666027307510376, 0.26666027307510376, 0.24926885962486267, 0.24421271681785583, 0.24421271681785583, 0.24421271681785583, 0.23949359357357025, 0.2320224493741989, 0.22223281860351562, 0.22041358053684235, 0.2185203731060028, 0.2024787813425064, 0.20174621045589447, 0.20003724098205566, 0.19526782631874084, 0.191780686378479, 0.18921177089214325, 0.18266421556472778, 0.18230846524238586, 0.18230846524238586, 0.17616212368011475, 0.17431104183197021, 0.17411255836486816, 0.17273887991905212, 0.1713973581790924, 0.166615292429924, 0.1600765585899353, 0.15935680270195007, 0.15864749252796173, 0.15864749252796173, 0.15812885761260986, 0.15394683182239532, 0.15245047211647034, 0.1522478461265564, 0.15217262506484985, 0.15002867579460144, 0.1483536958694458, 0.14659486711025238, 0.14614853262901306, 0.5602693557739258, 0.4425058960914612, 0.4102177917957306, 0.3921983242034912, 0.39211249351501465, 0.39211249351501465, 0.3654540777206421, 0.362263947725296, 0.358990341424942, 0.3456033170223236, 0.3456033170223236, 0.3381173610687256, 0.33671480417251587, 0.32891860604286194, 0.3281328082084656, 0.3251569867134094, 0.3251569867134094, 0.3251569867134094, 0.3220391273498535, 0.3210753798484802, 0.3209615647792816, 0.31066766381263733, 0.3103303611278534, 0.3103303611278534, 0.3102911412715912, 0.31003063917160034, 0.31003063917160034, 0.3099924325942993, 0.3099924325942993, 0.30958056449890137, 0.30696117877960205, 0.30696117877960205, 0.30395740270614624, 0.30165696144104004, 0.29407715797424316, 0.29127922654151917, 0.29127922654151917, 0.29127922654151917, 0.2883092761039734, 0.28554201126098633, 0.2838960886001587, 0.6844007968902588, 0.5824440121650696, 0.5275053977966309, 0.5192795395851135, 0.5061554908752441, 0.45837077498435974, 0.4549711048603058, 0.44275736808776855, 0.4393923878669739, 0.41372784972190857, 0.4012135863304138, 0.40079358220100403, 0.40079358220100403, 0.39849767088890076, 0.396961510181427, 0.393568754196167, 0.38608628511428833, 0.3739427924156189, 0.3739427924156189, 0.37128037214279175, 0.3663768768310547, 0.3660432696342468, 0.3579050898551941, 0.35335975885391235, 0.34659841656684875, 0.3453127145767212, 0.343982458114624, 0.3394050598144531, 0.3359251618385315, 0.33448752760887146, 0.32255709171295166, 0.32107895612716675, 0.31805363297462463, 0.3180086016654968, 0.315498411655426, 0.315498411655426, 0.30794015526771545, 0.3053682744503021, 0.3033050298690796, 0.3026653528213501, 0.2965759038925171, 0.8123996257781982, 0.7760476469993591, 0.7694379091262817, 0.7694379091262817, 0.7555791139602661, 0.7555791139602661, 0.7555791139602661, 0.7543082237243652, 0.7543082237243652, 0.7329021692276001, 0.7254698872566223, 0.7254698872566223, 0.7110409736633301, 0.7105371356010437, 0.7105371356010437, 0.7049041390419006, 0.7014552354812622, 0.6969456672668457, 0.6957175731658936, 0.6920566558837891, 0.6833277344703674, 0.6809874176979065, 0.6809874176979065, 0.6720923185348511, 0.6618337631225586, 0.6608348488807678, 0.6520126461982727, 0.6515761613845825, 0.6501744985580444, 0.6490163803100586, 0.6377216577529907, 0.6311740875244141, 0.6305673718452454, 0.6224581599235535, 0.6219044923782349, 0.6209179162979126, 0.617281436920166, 0.6073723435401917, 0.6026579737663269, 0.601732611656189, 0.6010855436325073, 0.7313218712806702, 0.6655876636505127, 0.6512545347213745, 0.6448686122894287, 0.5563141107559204, 0.5563141107559204, 0.5499573945999146, 0.5222514867782593, 0.5213955044746399, 0.5213955044746399, 0.5146691799163818, 0.5146691799163818, 0.5134329795837402, 0.512824296951294, 0.512824296951294, 0.512824296951294, 0.5100345015525818, 0.5086162686347961, 0.49788570404052734, 0.49773943424224854, 0.49773943424224854, 0.49336063861846924, 0.49090713262557983, 0.49061381816864014, 0.4876916706562042, 0.48705339431762695, 0.48705339431762695, 0.4829310476779938, 0.48132604360580444, 0.48132604360580444, 0.4757121801376343, 0.47382426261901855, 0.47140932083129883, 0.46596139669418335, 0.46396082639694214, 0.46396082639694214, 0.4623257517814636, 0.4551992416381836, 0.4535840153694153, 0.4492039084434509, 0.4483833909034729, 0.5618022680282593, 0.35093557834625244, 0.35093557834625244, 0.35093557834625244, 0.3463681638240814, 0.32642218470573425, 0.32485854625701904, 0.32485854625701904, 0.32485854625701904, 0.31916338205337524, 0.3190445899963379, 0.3177069127559662, 0.3154139518737793, 0.30036604404449463, 0.299207866191864, 0.2965909242630005, 0.2965909242630005, 0.2965909242630005, 0.293844610452652, 0.29263561964035034, 0.2868257164955139, 0.2796405553817749, 0.2775443494319916, 0.27653685212135315, 0.2763479948043823, 0.2763479948043823, 0.27194973826408386, 0.27194973826408386, 0.27194973826408386, 0.2714775800704956, 0.2703230679035187, 0.26756930351257324, 0.26682206988334656, 0.26682206988334656, 0.2656090259552002, 0.26510685682296753, 0.26510685682296753, 0.26510685682296753, 0.2615898847579956, 0.2614458501338959, 0.2611953914165497, 0.8123996257781982, 0.7760476469993591, 0.7694379091262817, 0.7694379091262817, 0.7555791139602661, 0.7555791139602661, 0.7555791139602661, 0.7543082237243652, 0.7543082237243652, 0.7329021692276001, 0.7254698872566223, 0.7254698872566223, 0.7110409736633301, 0.7105371356010437, 0.7105371356010437, 0.7049041390419006, 0.7014552354812622, 0.6969456672668457, 0.6957175731658936, 0.6920566558837891, 0.6833277344703674, 0.6809874176979065, 0.6809874176979065, 0.6720923185348511, 0.6618337631225586, 0.6608348488807678, 0.6520126461982727, 0.6515761613845825, 0.6501744985580444, 0.6490163803100586, 0.6377216577529907, 0.6311740875244141, 0.6305673718452454, 0.6224581599235535, 0.6219044923782349, 0.6209179162979126, 0.617281436920166, 0.6073723435401917, 0.6026579737663269, 0.601732611656189, 0.6010855436325073, 0.677233099937439, 0.6765023469924927, 0.669378399848938, 0.6549890041351318, 0.6549890041351318, 0.6254434585571289, 0.6067907810211182, 0.5875910520553589, 0.5837576389312744, 0.5778859853744507, 0.5569575428962708, 0.5514047145843506, 0.5459836721420288, 0.5459836721420288, 0.5454084873199463, 0.528275728225708, 0.5177678465843201, 0.5120453238487244, 0.5102963447570801, 0.5029534101486206, 0.5021475553512573, 0.5021475553512573, 0.5021475553512573, 0.5021475553512573, 0.49279212951660156, 0.48294347524642944, 0.48294347524642944, 0.45788174867630005, 0.45517873764038086, 0.4441002905368805, 0.4441002905368805, 0.4441002905368805, 0.44331610202789307, 0.438472181558609, 0.43767842650413513, 0.4342274069786072, 0.4342274069786072, 0.42862921953201294, 0.42781201004981995, 0.4244369864463806, 0.41817042231559753, 0.7726391553878784, 0.7696789503097534, 0.7468326091766357, 0.7468326091766357, 0.7360209226608276, 0.7306416630744934, 0.7306416630744934, 0.6972704529762268, 0.6908783316612244, 0.6875905990600586, 0.6824776530265808, 0.6773890852928162, 0.6766709685325623, 0.6766709685325623, 0.6756284832954407, 0.6756284832954407, 0.6689141392707825, 0.6621373891830444, 0.6581785082817078, 0.6448783278465271, 0.6387507319450378, 0.6302485466003418, 0.6179579496383667, 0.611748218536377, 0.5921317338943481, 0.5921317338943481, 0.5845127105712891, 0.5844188332557678, 0.5811572074890137, 0.5729604363441467, 0.5726054906845093, 0.5643482804298401, 0.5638747215270996, 0.5638747215270996, 0.5621291399002075, 0.5579668879508972, 0.5575839281082153, 0.5488576292991638, 0.5488576292991638, 0.5468422770500183, 0.5468422770500183, 0.677233099937439, 0.6765023469924927, 0.669378399848938, 0.6549890041351318, 0.6549890041351318, 0.6254434585571289, 0.6067907810211182, 0.5875910520553589, 0.5837576389312744, 0.5778859853744507, 0.5569575428962708, 0.5514047145843506, 0.5459836721420288, 0.5459836721420288, 0.5454084873199463, 0.528275728225708, 0.5177678465843201, 0.5120453238487244, 0.5102963447570801, 0.5029534101486206, 0.5021475553512573, 0.5021475553512573, 0.5021475553512573, 0.5021475553512573, 0.49279212951660156, 0.48294347524642944, 0.48294347524642944, 0.45788174867630005, 0.45517873764038086, 0.4441002905368805, 0.4441002905368805, 0.4441002905368805, 0.44331610202789307, 0.438472181558609, 0.43767842650413513, 0.4342274069786072, 0.4342274069786072, 0.42862921953201294, 0.42781201004981995, 0.4244369864463806, 0.41817042231559753, 0.7510051727294922, 0.7244465351104736, 0.6619082689285278, 0.6398696303367615, 0.6398696303367615, 0.6278640031814575, 0.6205651760101318, 0.5965492129325867, 0.5965492129325867, 0.586087703704834, 0.5781541466712952, 0.5733112692832947, 0.5707394480705261, 0.5691629648208618, 0.5655065774917603, 0.5617156028747559, 0.561022937297821, 0.561022937297821, 0.5597314834594727, 0.558108389377594, 0.5520046949386597, 0.5520046949386597, 0.5517696738243103, 0.5517696738243103, 0.5500943064689636, 0.54986971616745, 0.5489553213119507, 0.5488876104354858, 0.5445538759231567, 0.5445221662521362, 0.5312478542327881, 0.5312478542327881, 0.5289968848228455, 0.5239923596382141, 0.5225083827972412, 0.518836259841919, 0.518836259841919, 0.5132165551185608, 0.5086958408355713, 0.5086958408355713, 0.5066714286804199, 0.7492618560791016, 0.7447429895401001, 0.7329051494598389, 0.7205266952514648, 0.7205266952514648, 0.7075504064559937, 0.7075504064559937, 0.7075504064559937, 0.6943530440330505, 0.6903128623962402, 0.6903128623962402, 0.6885890960693359, 0.6715381741523743, 0.6438677906990051, 0.6424262523651123, 0.6282191276550293, 0.6178532838821411, 0.6161054372787476, 0.6160562038421631, 0.6160562038421631, 0.6160562038421631, 0.6133263111114502, 0.6133263111114502, 0.5972751975059509, 0.5971208214759827, 0.5971208214759827, 0.5971208214759827, 0.5960425734519958, 0.5947752594947815, 0.5936664938926697, 0.5928635597229004, 0.586327314376831, 0.5781495571136475, 0.5770210027694702, 0.5725017786026001, 0.5645315051078796, 0.562231183052063, 0.5614800453186035, 0.5614800453186035, 0.5585956573486328, 0.5550224184989929, 0.6569397449493408, 0.6569397449493408, 0.6052754521369934, 0.5489163994789124, 0.5446872711181641, 0.5344740152359009, 0.5203477144241333, 0.5094231963157654, 0.5050913095474243, 0.5050913095474243, 0.4998707175254822, 0.49673622846603394, 0.49526873230934143, 0.4884313941001892, 0.4859834909439087, 0.48325520753860474, 0.46180927753448486, 0.4612610340118408, 0.4612610340118408, 0.46053826808929443, 0.4526502788066864, 0.4525909423828125, 0.4522973597049713, 0.44822242856025696, 0.44802314043045044, 0.4443376660346985, 0.4428521692752838, 0.4356955289840698, 0.4319121837615967, 0.43159812688827515, 0.423554003238678, 0.4205888509750366, 0.41416215896606445, 0.4136834442615509, 0.4136834442615509, 0.41093605756759644, 0.4082412123680115, 0.4082412123680115, 0.4082412123680115, 0.4046306610107422, 0.4018649458885193, 0.7361844778060913, 0.7278649806976318, 0.7143435478210449, 0.7095299959182739, 0.7047138214111328, 0.6863309144973755, 0.6452353000640869, 0.630767285823822, 0.630767285823822, 0.5866649150848389, 0.5445330739021301, 0.5395618677139282, 0.5361598134040833, 0.5361598134040833, 0.5360457897186279, 0.5344205498695374, 0.5338312387466431, 0.5328014492988586, 0.5328014492988586, 0.5287157297134399, 0.5278051495552063, 0.5244015455245972, 0.5244015455245972, 0.5236891508102417, 0.5214830040931702, 0.5214830040931702, 0.519370973110199, 0.519370973110199, 0.5189343690872192, 0.5161493420600891, 0.5138117671012878, 0.5138117671012878, 0.5134096145629883, 0.5043416619300842, 0.5021519064903259, 0.4971557855606079, 0.48822444677352905, 0.4875713288784027, 0.4875713288784027, 0.48029494285583496, 0.4770433306694031, 0.603621244430542, 0.6000910997390747, 0.5851629972457886, 0.5804002285003662, 0.5804002285003662, 0.5602089762687683, 0.5550779700279236, 0.5510070323944092, 0.5380924940109253, 0.5380924940109253, 0.5255159139633179, 0.5187212228775024, 0.5187212228775024, 0.5134326815605164, 0.5104820728302002, 0.5030263662338257, 0.4997257590293884, 0.4885644018650055, 0.4882972836494446, 0.48398736119270325, 0.4691961407661438, 0.46630728244781494, 0.46630728244781494, 0.4659883975982666, 0.4648016393184662, 0.4594375491142273, 0.4551396071910858, 0.4551396071910858, 0.4485219120979309, 0.44660645723342896, 0.4428960084915161, 0.4410783648490906, 0.4389547109603882, 0.4389547109603882, 0.438609778881073, 0.4356330633163452, 0.4338310956954956, 0.4295770227909088, 0.42721760272979736, 0.4245304763317108, 0.42196428775787354, 0.7361844778060913, 0.7278649806976318, 0.7143435478210449, 0.7095299959182739, 0.7047138214111328, 0.6863309144973755, 0.6452353000640869, 0.630767285823822, 0.630767285823822, 0.5866649150848389, 0.5445330739021301, 0.5395618677139282, 0.5361598134040833, 0.5361598134040833, 0.5360457897186279, 0.5344205498695374, 0.5338312387466431, 0.5328014492988586, 0.5328014492988586, 0.5287157297134399, 0.5278051495552063, 0.5244015455245972, 0.5244015455245972, 0.5236891508102417, 0.5214830040931702, 0.5214830040931702, 0.519370973110199, 0.519370973110199, 0.5189343690872192, 0.5161493420600891, 0.5138117671012878, 0.5138117671012878, 0.5134096145629883, 0.5043416619300842, 0.5021519064903259, 0.4971557855606079, 0.48822444677352905, 0.4875713288784027, 0.4875713288784027, 0.48029494285583496, 0.4770433306694031, 0.7226026654243469, 0.7111490964889526, 0.6481586694717407, 0.6481586694717407, 0.6221752762794495, 0.6021960973739624, 0.5887274742126465, 0.5868669748306274, 0.5800487995147705, 0.5730454921722412, 0.5635195374488831, 0.5591573119163513, 0.5500423908233643, 0.5479921698570251, 0.5295910239219666, 0.5165167450904846, 0.5163317322731018, 0.5116177797317505, 0.5116052627563477, 0.5116052627563477, 0.4994017779827118, 0.4974049925804138, 0.49693232774734497, 0.49693232774734497, 0.49493807554244995, 0.48804280161857605, 0.48629093170166016, 0.48629093170166016, 0.48083674907684326, 0.47626304626464844, 0.47245776653289795, 0.47243982553482056, 0.46687155961990356, 0.4578920900821686, 0.4578920900821686, 0.4574897289276123, 0.4533972144126892, 0.4528999328613281, 0.4481002688407898, 0.4430124759674072, 0.44255709648132324, 0.538432240486145, 0.47770586609840393, 0.4483371675014496, 0.38111433386802673, 0.37402448058128357, 0.342665433883667, 0.29970782995224, 0.24569885432720184, 0.24569885432720184, 0.23980745673179626, 0.23743626475334167, 0.2257177233695984, 0.2257177233695984, 0.2257177233695984, 0.22077536582946777, 0.2204791009426117, 0.22039467096328735, 0.2130509316921234, 0.2116362601518631, 0.20979353785514832, 0.20870621502399445, 0.2034023106098175, 0.20148435235023499, 0.19537420570850372, 0.1953696608543396, 0.19308243691921234, 0.190486341714859, 0.18606141209602356, 0.18606141209602356, 0.17991094291210175, 0.17980609834194183, 0.17840728163719177, 0.17429213225841522, 0.1739361584186554, 0.1724431812763214, 0.17230132222175598, 0.1676749885082245, 0.16758939623832703, 0.1648491472005844, 0.16241177916526794, 0.1608118712902069, 0.7841222882270813, 0.6401039958000183, 0.6199616193771362, 0.6057024002075195, 0.5972510576248169, 0.5756512880325317, 0.5449768304824829, 0.5443760752677917, 0.5443760752677917, 0.5161468386650085, 0.5097019672393799, 0.5097019672393799, 0.5085858702659607, 0.5081859827041626, 0.5071887969970703, 0.5071887969970703, 0.49102139472961426, 0.4899437725543976, 0.4838208854198456, 0.48150622844696045, 0.4701958894729614, 0.46989232301712036, 0.46973955631256104, 0.46714890003204346, 0.4667105972766876, 0.464994877576828, 0.461221307516098, 0.451318621635437, 0.449940025806427, 0.4483657479286194, 0.44309544563293457, 0.43990910053253174, 0.43947309255599976, 0.4365463852882385, 0.4322197735309601, 0.43116307258605957, 0.4279364347457886, 0.4272628128528595, 0.4272628128528595, 0.4232485294342041, 0.4210070073604584, 0.538432240486145, 0.47770586609840393, 0.4483371675014496, 0.38111433386802673, 0.37402448058128357, 0.342665433883667, 0.29970782995224, 0.24569885432720184, 0.24569885432720184, 0.23980745673179626, 0.23743626475334167, 0.2257177233695984, 0.2257177233695984, 0.2257177233695984, 0.22077536582946777, 0.2204791009426117, 0.22039467096328735, 0.2130509316921234, 0.2116362601518631, 0.20979353785514832, 0.20870621502399445, 0.2034023106098175, 0.20148435235023499, 0.19537420570850372, 0.1953696608543396, 0.19308243691921234, 0.190486341714859, 0.18606141209602356, 0.18606141209602356, 0.17991094291210175, 0.17980609834194183, 0.17840728163719177, 0.17429213225841522, 0.1739361584186554, 0.1724431812763214, 0.17230132222175598, 0.1676749885082245, 0.16758939623832703, 0.1648491472005844, 0.16241177916526794, 0.1608118712902069, 0.7920584678649902, 0.751801609992981, 0.7100942134857178, 0.6881001591682434, 0.679334282875061, 0.679334282875061, 0.6728976368904114, 0.6650404930114746, 0.6600606441497803, 0.6600606441497803, 0.6522270441055298, 0.6398191452026367, 0.634665846824646, 0.634665846824646, 0.6343405246734619, 0.6342189311981201, 0.6278640031814575, 0.6195361018180847, 0.6139273643493652, 0.611794114112854, 0.6045231819152832, 0.6044365167617798, 0.6017454862594604, 0.5875938534736633, 0.5817691683769226, 0.5681461691856384, 0.5664870142936707, 0.5628525614738464, 0.5609774589538574, 0.5606237649917603, 0.5606237649917603, 0.5601789355278015, 0.5570768117904663, 0.5489892959594727, 0.5489892959594727, 0.5481265187263489, 0.5473639965057373, 0.5455758571624756, 0.5448259115219116, 0.5384975075721741, 0.5382956862449646, 0.8966279029846191, 0.7498219013214111, 0.7498219013214111, 0.7450903058052063, 0.7329478859901428, 0.7329478859901428, 0.7329478859901428, 0.7292231321334839, 0.7292231321334839, 0.7047439217567444, 0.6967861652374268, 0.6967861652374268, 0.6939626932144165, 0.6904081702232361, 0.6904081702232361, 0.6789027452468872, 0.674473762512207, 0.6740109920501709, 0.6696606278419495, 0.6621997356414795, 0.6577506065368652, 0.6498485803604126, 0.6498485803604126, 0.6467629075050354, 0.6440451741218567, 0.6397854685783386, 0.6375594139099121, 0.6289572715759277, 0.6226724982261658, 0.6226724982261658, 0.6222392320632935, 0.6196611523628235, 0.6164699196815491, 0.6127095222473145, 0.6127095222473145, 0.6101772785186768, 0.6088346838951111, 0.6082891225814819, 0.6068177819252014, 0.6067909002304077, 0.6030583381652832, 0.7385052442550659, 0.7376290559768677, 0.7376290559768677, 0.7264828085899353, 0.7264828085899353, 0.7264828085899353, 0.7171222567558289, 0.7171222567558289, 0.6926801204681396, 0.6880838871002197, 0.6880838871002197, 0.6833783388137817, 0.6812000274658203, 0.6812000274658203, 0.6799185276031494, 0.6799185276031494, 0.6731594800949097, 0.670342743396759, 0.6688070297241211, 0.6683825254440308, 0.661905825138092, 0.6526848077774048, 0.6517730951309204, 0.6446101665496826, 0.6440608501434326, 0.6440608501434326, 0.6408677101135254, 0.6386340856552124, 0.6385562419891357, 0.6385562419891357, 0.6352198123931885, 0.6273256540298462, 0.624585747718811, 0.6197049617767334, 0.6190027594566345, 0.613628625869751, 0.6073663234710693, 0.6028690338134766, 0.600155234336853, 0.5989919304847717, 0.5966740846633911, 0.8461307287216187, 0.7855924963951111, 0.7855924963951111, 0.7855924963951111, 0.7855924963951111, 0.7855924963951111, 0.7855924963951111, 0.7855924963951111, 0.777055561542511, 0.777055561542511, 0.777055561542511, 0.7308090329170227, 0.720618486404419, 0.7193325757980347, 0.704816460609436, 0.6963229179382324, 0.6941598653793335, 0.6925873756408691, 0.6897656321525574, 0.6809531450271606, 0.6745431423187256, 0.6694791316986084, 0.6645132303237915, 0.6501924991607666, 0.6501924991607666, 0.6501924991607666, 0.6501924991607666, 0.6501924991607666, 0.6501924991607666, 0.6414164900779724, 0.6414164900779724, 0.6414164900779724, 0.6414164900779724, 0.6414164900779724, 0.6414164900779724, 0.6414164900779724, 0.6414164900779724, 0.6414164900779724, 0.6414164900779724, 0.6414164900779724, 0.6414164900779724, 0.8447778224945068, 0.8447778224945068, 0.839447021484375, 0.8326535224914551, 0.8326535224914551, 0.825766921043396, 0.825766921043396, 0.825766921043396, 0.8215705156326294, 0.8215705156326294, 0.7939913272857666, 0.7850258350372314, 0.7850258350372314, 0.7818447351455688, 0.7679775953292847, 0.7648776173591614, 0.7598878145217896, 0.7593663930892944, 0.7460594177246094, 0.7410467863082886, 0.7403265237808228, 0.7365511059761047, 0.7351540327072144, 0.7321441769599915, 0.7321441769599915, 0.7302005887031555, 0.7286677360534668, 0.725605845451355, 0.7208065986633301, 0.7182986736297607, 0.7111614346504211, 0.7086072564125061, 0.7013294100761414, 0.7013294100761414, 0.7010383605957031, 0.6981338262557983, 0.6945385336875916, 0.6853216886520386, 0.6836336851119995, 0.6744562983512878, 0.6718283891677856, 0.690384030342102, 0.6875172257423401, 0.6841946840286255, 0.6712548136711121, 0.5995731949806213, 0.5895801186561584, 0.5855182409286499, 0.5835558772087097, 0.5674307346343994, 0.5624089241027832, 0.5624089241027832, 0.5608768463134766, 0.5608768463134766, 0.5548698902130127, 0.5478402376174927, 0.546893298625946, 0.546893298625946, 0.5429887771606445, 0.5405685901641846, 0.5381608605384827, 0.5373204946517944, 0.5186399817466736, 0.5168405175209045, 0.5165634155273438, 0.5141871571540833, 0.504940390586853, 0.503372311592102, 0.5024997591972351, 0.5023163557052612, 0.4957295060157776, 0.4949091076850891, 0.49305498600006104, 0.49305498600006104, 0.49075230956077576, 0.4889622926712036, 0.48728981614112854, 0.48370641469955444, 0.4793779253959656, 0.4774775505065918, 0.4686197340488434, 0.467023640871048, 0.8344671726226807, 0.6776367425918579, 0.674565315246582, 0.6352022886276245, 0.602980375289917, 0.5828365683555603, 0.5769205093383789, 0.574993371963501, 0.574993371963501, 0.5661129355430603, 0.5541057586669922, 0.540799617767334, 0.5365961790084839, 0.5334861874580383, 0.5316125750541687, 0.5254425406455994, 0.5094791650772095, 0.5089102983474731, 0.508461058139801, 0.500603437423706, 0.49806296825408936, 0.4917852282524109, 0.49106836318969727, 0.48959028720855713, 0.486103892326355, 0.4820322096347809, 0.4820322096347809, 0.4794553220272064, 0.47923743724823, 0.47865229845046997, 0.47865229845046997, 0.4692179560661316, 0.46836036443710327, 0.4624684154987335, 0.4612922668457031, 0.4602789878845215, 0.45976555347442627, 0.4597090482711792, 0.4595786929130554, 0.45900145173072815, 0.45099782943725586, 0.690384030342102, 0.6875172257423401, 0.6841946840286255, 0.6712548136711121, 0.5995731949806213, 0.5895801186561584, 0.5855182409286499, 0.5835558772087097, 0.5674307346343994, 0.5624089241027832, 0.5624089241027832, 0.5608768463134766, 0.5608768463134766, 0.5548698902130127, 0.5478402376174927, 0.546893298625946, 0.546893298625946, 0.5429887771606445, 0.5405685901641846, 0.5381608605384827, 0.5373204946517944, 0.5186399817466736, 0.5168405175209045, 0.5165634155273438, 0.5141871571540833, 0.504940390586853, 0.503372311592102, 0.5024997591972351, 0.5023163557052612, 0.4957295060157776, 0.4949091076850891, 0.49305498600006104, 0.49305498600006104, 0.49075230956077576, 0.4889622926712036, 0.48728981614112854, 0.48370641469955444, 0.4793779253959656, 0.4774775505065918, 0.4686197340488434, 0.467023640871048, 0.6627528667449951, 0.5863046646118164, 0.5806289911270142, 0.5386301279067993, 0.5286096334457397, 0.5204671025276184, 0.5156661868095398, 0.5131622552871704, 0.4784402549266815, 0.47734570503234863, 0.4732525050640106, 0.4634992182254791, 0.4567497968673706, 0.4522278904914856, 0.44532299041748047, 0.4432169198989868, 0.4408697187900543, 0.43372276425361633, 0.4255741238594055, 0.42383259534835815, 0.4222526550292969, 0.4217279553413391, 0.42014771699905396, 0.416988730430603, 0.416988730430603, 0.416988730430603, 0.4159846305847168, 0.40305250883102417, 0.40132153034210205, 0.4010816812515259, 0.3998241722583771, 0.39784640073776245, 0.39784640073776245, 0.39537036418914795, 0.39520716667175293, 0.39520716667175293, 0.39520716667175293, 0.39193975925445557, 0.39175695180892944, 0.3916974663734436, 0.3916974663734436, 0.8098372220993042, 0.809199869632721, 0.809199869632721, 0.809199869632721, 0.809199869632721, 0.809199869632721, 0.809199869632721, 0.809199869632721, 0.809199869632721, 0.809199869632721, 0.809199869632721, 0.809199869632721, 0.809199869632721, 0.809199869632721, 0.809199869632721, 0.809199869632721, 0.809199869632721, 0.809199869632721, 0.809199869632721, 0.8091050386428833, 0.8091050386428833, 0.8091050386428833, 0.8091050386428833, 0.8091050386428833, 0.8091050386428833, 0.8083036541938782, 0.7932731509208679, 0.779607355594635, 0.779607355594635, 0.779607355594635, 0.7648400068283081, 0.7558791637420654, 0.7558791637420654, 0.7391891479492188, 0.7269860506057739, 0.7269860506057739, 0.7259951829910278, 0.7151089906692505, 0.7137654423713684, 0.7105033993721008, 0.7105033993721008, 0.6583369374275208, 0.6583369374275208, 0.5449597835540771, 0.5172793865203857, 0.5093417167663574, 0.484874963760376, 0.4826076924800873, 0.477448046207428, 0.4741893708705902, 0.46038755774497986, 0.45507219433784485, 0.4438614249229431, 0.4438614249229431, 0.43083372712135315, 0.42749670147895813, 0.42498117685317993, 0.42300906777381897, 0.4140934646129608, 0.4130350947380066, 0.41269421577453613, 0.41269421577453613, 0.3997829556465149, 0.39780306816101074, 0.39761146903038025, 0.39393681287765503, 0.3919229507446289, 0.39121749997138977, 0.39045631885528564, 0.3888988494873047, 0.3888988494873047, 0.3875313401222229, 0.3812026083469391, 0.3812026083469391, 0.3812026083469391, 0.3770338296890259, 0.3731268644332886, 0.372640460729599, 0.36887019872665405, 0.3644753098487854, 0.3640744984149933, 0.3627358675003052, 0.9999999403953552, 0.9999999403953552, 0.8904019594192505, 0.869637668132782, 0.7906599044799805, 0.7852104306221008, 0.7852104306221008, 0.7852104306221008, 0.7816128730773926, 0.7694916129112244, 0.7662282586097717, 0.7662282586097717, 0.7662282586097717, 0.7622175216674805, 0.7471484541893005, 0.7410835027694702, 0.730256199836731, 0.7149690389633179, 0.7071753144264221, 0.7056249976158142, 0.7021241188049316, 0.7021241188049316, 0.7001928687095642, 0.6947745680809021, 0.6902703046798706, 0.6680042147636414, 0.664476215839386, 0.6553806066513062, 0.6553806066513062, 0.644169270992279, 0.6368785500526428, 0.6344255805015564, 0.6344255805015564, 0.6344255805015564, 0.6344255805015564, 0.5938266515731812, 0.5800896883010864, 0.5774080157279968, 0.5648205280303955, 0.5648205280303955, 0.5595365762710571, 1.0, 0.8904019594192505, 0.8904019594192505, 0.8670588731765747, 0.8670588731765747, 0.8670588731765747, 0.8640415668487549, 0.8640415668487549, 0.8640415668487549, 0.8606631755828857, 0.8047164082527161, 0.7905351519584656, 0.7762650847434998, 0.7710605263710022, 0.7688467502593994, 0.7400641441345215, 0.7166971564292908, 0.7166971564292908, 0.7139010429382324, 0.7132357954978943, 0.704842746257782, 0.6906652450561523, 0.6820856332778931, 0.6820856332778931, 0.6820856332778931, 0.678277850151062, 0.678277850151062, 0.66245436668396, 0.66245436668396, 0.66245436668396, 0.6557257771492004, 0.6495442390441895, 0.6432499289512634, 0.6379309892654419, 0.6369582414627075, 0.6369582414627075, 0.6291522979736328, 0.6291522979736328, 0.6046102643013, 0.6008312702178955, 0.6008312702178955, 0.9999998807907104, 0.9999998807907104, 0.9999998807907104, 0.9999998807907104, 0.9999998807907104, 0.9999998807907104, 0.9999998807907104, 0.9999998807907104, 0.9999998807907104, 0.9999998807907104, 0.9314324259757996, 0.8491388559341431, 0.8491388559341431, 0.8491388559341431, 0.8359286189079285, 0.7994291186332703, 0.7778530120849609, 0.7448495626449585, 0.7399433851242065, 0.7399433851242065, 0.7399433851242065, 0.7098726630210876, 0.7090697288513184, 0.6913191080093384, 0.6860024929046631, 0.6837620139122009, 0.6837620139122009, 0.6810764670372009, 0.6809606552124023, 0.6722686886787415, 0.6722686886787415, 0.6572366952896118, 0.6572366952896118, 0.6572366952896118, 0.6572366952896118, 0.6537676453590393, 0.6250685453414917, 0.597529947757721, 0.5839242935180664, 0.5810798406600952, 0.5709819197654724, 0.9999999403953552, 0.9999999403953552, 0.8904019594192505, 0.869637668132782, 0.7906599044799805, 0.7852104306221008, 0.7852104306221008, 0.7852104306221008, 0.7816128730773926, 0.7694916129112244, 0.7662282586097717, 0.7662282586097717, 0.7662282586097717, 0.7622175216674805, 0.7471484541893005, 0.7410835027694702, 0.730256199836731, 0.7149690389633179, 0.7071753144264221, 0.7056249976158142, 0.7021241188049316, 0.7021241188049316, 0.7001928687095642, 0.6947745680809021, 0.6902703046798706, 0.6680042147636414, 0.664476215839386, 0.6553806066513062, 0.6553806066513062, 0.644169270992279, 0.6368785500526428, 0.6344255805015564, 0.6344255805015564, 0.6344255805015564, 0.6344255805015564, 0.5938266515731812, 0.5800896883010864, 0.5774080157279968, 0.5648205280303955, 0.5648205280303955, 0.5595365762710571, 1.0, 0.985459566116333, 0.9154176115989685, 0.6723938584327698, 0.620112955570221, 0.6079292297363281, 0.6079292297363281, 0.582858145236969, 0.5679166913032532, 0.5551515221595764, 0.5496231913566589, 0.5496231913566589, 0.5437827706336975, 0.532907247543335, 0.532907247543335, 0.5327777862548828, 0.5259707570075989, 0.5125124454498291, 0.5125124454498291, 0.5070796608924866, 0.5009791851043701, 0.5009791851043701, 0.5009791851043701, 0.4873984456062317, 0.4869425594806671, 0.4847789704799652, 0.4838283061981201, 0.4838283061981201, 0.4825506806373596, 0.4825506806373596, 0.4825506806373596, 0.4766479730606079, 0.4765698313713074, 0.47557979822158813, 0.4715355634689331, 0.4715355634689331, 0.4715355634689331, 0.4676835536956787, 0.4670809507369995, 0.4667794704437256, 0.46378934383392334, 1.0, 0.985459566116333, 0.9043517112731934, 0.666519045829773, 0.649996817111969, 0.6110211610794067, 0.5808839797973633, 0.575004518032074, 0.575004518032074, 0.5571005940437317, 0.5560400485992432, 0.5560400485992432, 0.5505033731460571, 0.5357520580291748, 0.5357520580291748, 0.5337667465209961, 0.5301619172096252, 0.5190215110778809, 0.5190215110778809, 0.5099764466285706, 0.5090525150299072, 0.5071002840995789, 0.507064163684845, 0.507064163684845, 0.5067237019538879, 0.5052329301834106, 0.5052329301834106, 0.5052329301834106, 0.4997027516365051, 0.4993136525154114, 0.49599188566207886, 0.4935075044631958, 0.4935075044631958, 0.4935075044631958, 0.4889100193977356, 0.4889058470726013, 0.4889058470726013, 0.4889058470726013, 0.48862189054489136, 0.4879104793071747, 0.4862300157546997, 0.9999999403953552, 0.9999999403953552, 0.9999999403953552, 0.9999999403953552, 0.9999999403953552, 0.9999999403953552, 0.9999999403953552, 0.9999999403953552, 0.9999999403953552, 0.9999999403953552, 0.9999999403953552, 0.9999999403953552, 0.9999999403953552, 0.9999999403953552, 0.9999999403953552, 0.9999999403953552, 0.9999999403953552, 0.9999999403953552, 0.9999999403953552, 0.9999999403953552, 0.9999999403953552, 0.9999999403953552, 0.9999999403953552, 0.9273484945297241, 0.9137407541275024, 0.9137407541275024, 0.8842455148696899, 0.8714132308959961, 0.8067934513092041, 0.7892403602600098, 0.7892403602600098, 0.7891927361488342, 0.7555164098739624, 0.7322806119918823, 0.7233740091323853, 0.7116679549217224, 0.7020212411880493, 0.7019990682601929, 0.6937928795814514, 0.6890518665313721, 0.6871176362037659, 1.0, 0.9154176115989685, 0.9043517112731934, 0.6401455402374268, 0.6158547401428223, 0.6107940077781677, 0.6107940077781677, 0.5915927290916443, 0.5781489610671997, 0.5729324221611023, 0.5645915865898132, 0.5645915865898132, 0.5556609034538269, 0.5450540781021118, 0.5424176454544067, 0.542137861251831, 0.542137861251831, 0.5419943928718567, 0.5309842824935913, 0.5309842824935913, 0.5247842073440552, 0.522687554359436, 0.5185732245445251, 0.5142399072647095, 0.5142399072647095, 0.5125011801719666, 0.5125011801719666, 0.5103909373283386, 0.5020468831062317, 0.500688374042511, 0.4993222653865814, 0.4990103244781494, 0.4990103244781494, 0.4973796308040619, 0.4955251216888428, 0.49546319246292114, 0.48915138840675354, 0.48777785897254944, 0.48591485619544983, 0.4850998818874359, 0.4839915633201599, 0.8001559376716614, 0.742278516292572, 0.7406327128410339, 0.7197859287261963, 0.7197859287261963, 0.6938502788543701, 0.6901459097862244, 0.6492636203765869, 0.6356158256530762, 0.6283854246139526, 0.6259532570838928, 0.6155493855476379, 0.6147586703300476, 0.6140832901000977, 0.6070160865783691, 0.6044166684150696, 0.5965544581413269, 0.592222273349762, 0.5911553502082825, 0.5879360437393188, 0.5871164798736572, 0.5852006077766418, 0.5831193923950195, 0.5805492997169495, 0.5804100632667542, 0.5804100632667542, 0.5795113444328308, 0.5795113444328308, 0.5771182179450989, 0.5761977434158325, 0.5648068189620972, 0.5541703104972839, 0.547940194606781, 0.547199010848999, 0.547199010848999, 0.5469210147857666, 0.5469210147857666, 0.5465455651283264, 0.5457713007926941, 0.5455718636512756, 0.5415390133857727, 0.8087652325630188, 0.7819199562072754, 0.7819199562072754, 0.6966655850410461, 0.6733273863792419, 0.6666537523269653, 0.657402753829956, 0.6534161567687988, 0.6471697092056274, 0.6390193700790405, 0.636947512626648, 0.636947512626648, 0.6345982551574707, 0.6341753005981445, 0.63327556848526, 0.6292681097984314, 0.6292681097984314, 0.621188759803772, 0.5994070768356323, 0.5958004593849182, 0.5895715951919556, 0.5880634784698486, 0.5875244736671448, 0.5868483781814575, 0.5841599106788635, 0.5757588148117065, 0.5710304379463196, 0.5672978758811951, 0.5641447305679321, 0.56351238489151, 0.5604252815246582, 0.5588282942771912, 0.5581105947494507, 0.555428683757782, 0.554744303226471, 0.5527270436286926, 0.5515998601913452, 0.5515998601913452, 0.5482255220413208, 0.5481128096580505, 0.5467120409011841, 0.4558334946632385, 0.390105664730072, 0.3804543614387512, 0.3203296661376953, 0.3140539824962616, 0.29892534017562866, 0.28999385237693787, 0.2630700170993805, 0.26221951842308044, 0.25655826926231384, 0.25409817695617676, 0.2529878616333008, 0.25149863958358765, 0.2472127079963684, 0.2472127079963684, 0.24443095922470093, 0.24443095922470093, 0.24403762817382812, 0.2394944131374359, 0.23775899410247803, 0.23252364993095398, 0.23123858869075775, 0.22977614402770996, 0.22864383459091187, 0.22851857542991638, 0.22421018779277802, 0.2189072072505951, 0.21771374344825745, 0.2172996997833252, 0.2151106595993042, 0.2151106595993042, 0.2151106595993042, 0.2150098830461502, 0.2150098830461502, 0.21159353852272034, 0.21018928289413452, 0.20874068140983582, 0.20846545696258545, 0.20846545696258545, 0.20846545696258545, 0.2075575590133667, 0.8288427591323853, 0.8288427591323853, 0.788306713104248, 0.7136536240577698, 0.694091796875, 0.6841873526573181, 0.6652603149414062, 0.6629895567893982, 0.656266450881958, 0.6485491991043091, 0.6253604292869568, 0.6246799230575562, 0.6238661408424377, 0.6238661408424377, 0.6236266493797302, 0.6236266493797302, 0.6201916337013245, 0.6191819310188293, 0.6180697679519653, 0.6165860891342163, 0.6034024953842163, 0.6025863289833069, 0.5994748473167419, 0.5884544849395752, 0.5872963666915894, 0.5828957557678223, 0.5828166007995605, 0.5818755626678467, 0.5775899291038513, 0.5740071535110474, 0.5694468021392822, 0.5694468021392822, 0.5672081708908081, 0.5626240968704224, 0.5610317587852478, 0.5602939128875732, 0.5577690005302429, 0.5556068420410156, 0.5521555542945862, 0.5503535866737366, 0.5468045473098755, 0.30289846658706665, 0.2978437542915344, 0.2763749361038208, 0.2660265564918518, 0.2660265564918518, 0.2660265564918518, 0.2634427547454834, 0.2523723840713501, 0.251248836517334, 0.2501661777496338, 0.2433633953332901, 0.24169306457042694, 0.23731748759746552, 0.23731748759746552, 0.23666158318519592, 0.23655584454536438, 0.23637062311172485, 0.23637062311172485, 0.23632952570915222, 0.23012767732143402, 0.2290939837694168, 0.22660775482654572, 0.22492140531539917, 0.21642723679542542, 0.2136804461479187, 0.21232423186302185, 0.21212220191955566, 0.20385394990444183, 0.203172966837883, 0.203172966837883, 0.203172966837883, 0.20167003571987152, 0.19937819242477417, 0.1925722360610962, 0.19205065071582794, 0.19004671275615692, 0.18932032585144043, 0.1890898495912552, 0.1890898495912552, 0.18798479437828064, 0.18798479437828064, 0.30289846658706665, 0.2978437542915344, 0.2763749361038208, 0.2660265564918518, 0.2660265564918518, 0.2660265564918518, 0.2634427547454834, 0.2523723840713501, 0.251248836517334, 0.2501661777496338, 0.2433633953332901, 0.24169306457042694, 0.23731748759746552, 0.23731748759746552, 0.23666158318519592, 0.23655584454536438, 0.23637062311172485, 0.23637062311172485, 0.23632952570915222, 0.23012767732143402, 0.2290939837694168, 0.22660775482654572, 0.22492140531539917, 0.21642723679542542, 0.2136804461479187, 0.21232423186302185, 0.21212220191955566, 0.20385394990444183, 0.203172966837883, 0.203172966837883, 0.203172966837883, 0.20167003571987152, 0.19937819242477417, 0.1925722360610962, 0.19205065071582794, 0.19004671275615692, 0.18932032585144043, 0.1890898495912552, 0.1890898495912552, 0.18798479437828064, 0.18798479437828064, 0.4729667901992798, 0.4163883328437805, 0.40063580870628357, 0.3531526029109955, 0.3444148898124695, 0.32721030712127686, 0.32090625166893005, 0.3122599720954895, 0.30720826983451843, 0.3064889907836914, 0.298956036567688, 0.2831608057022095, 0.2742510437965393, 0.26771652698516846, 0.2655174136161804, 0.25131794810295105, 0.25009456276893616, 0.24661441147327423, 0.24641190469264984, 0.24500977993011475, 0.24470627307891846, 0.2416372299194336, 0.23865890502929688, 0.238622784614563, 0.23495882749557495, 0.2320820391178131, 0.22543369233608246, 0.22430455684661865, 0.21864931285381317, 0.2108221799135208, 0.21052275598049164, 0.2072780430316925, 0.20725250244140625, 0.20702655613422394, 0.20627142488956451, 0.20272135734558105, 0.20213963091373444, 0.20010189712047577, 0.1956351101398468, 0.1914491206407547, 0.19019575417041779, 0.38176923990249634, 0.35880130529403687, 0.346053808927536, 0.33306992053985596, 0.3223217725753784, 0.3223217725753784, 0.3223217725753784, 0.30580100417137146, 0.2978164553642273, 0.2964697480201721, 0.2940056025981903, 0.2907840609550476, 0.2868342995643616, 0.2868342995643616, 0.286579966545105, 0.2862602770328522, 0.2862379848957062, 0.28306645154953003, 0.28306645154953003, 0.28306645154953003, 0.2798376679420471, 0.2778763473033905, 0.2755822241306305, 0.27103662490844727, 0.27103662490844727, 0.267347514629364, 0.2636336088180542, 0.26190364360809326, 0.2612285912036896, 0.26068639755249023, 0.25697097182273865, 0.2560548484325409, 0.2506871223449707, 0.250527024269104, 0.24616360664367676, 0.24604496359825134, 0.24604496359825134, 0.24604496359825134, 0.24301771819591522, 0.24154114723205566, 0.23803210258483887, 0.8001858592033386, 0.728848397731781, 0.7192613482475281, 0.7012926340103149, 0.6961514353752136, 0.6961514353752136, 0.6841434240341187, 0.681231677532196, 0.6723535060882568, 0.6627649068832397, 0.6611692905426025, 0.6583985686302185, 0.6583985686302185, 0.6572751402854919, 0.6556615829467773, 0.6508438587188721, 0.6508438587188721, 0.6418578624725342, 0.6418578624725342, 0.6379626393318176, 0.6379626393318176, 0.6366994380950928, 0.6358231902122498, 0.6285894513130188, 0.6285154819488525, 0.6285154819488525, 0.6223695278167725, 0.6185994148254395, 0.6139221787452698, 0.6136186718940735, 0.6028522849082947, 0.5976520776748657, 0.5956422090530396, 0.5956422090530396, 0.5945101380348206, 0.5929919481277466, 0.5892096757888794, 0.5818396806716919, 0.5808430910110474, 0.5789539217948914, 0.5785123109817505, 0.9038022756576538, 0.877081036567688, 0.8113013505935669, 0.7645142078399658, 0.7639554738998413, 0.7194476127624512, 0.7027758359909058, 0.6972497701644897, 0.6972497701644897, 0.6754305958747864, 0.6549717783927917, 0.6549717783927917, 0.6497648358345032, 0.630318820476532, 0.6143918037414551, 0.6143918037414551, 0.6126453876495361, 0.6111278533935547, 0.6111278533935547, 0.5979909896850586, 0.5857032537460327, 0.5800787210464478, 0.5800787210464478, 0.5795809030532837, 0.5759772062301636, 0.5756043195724487, 0.5756043195724487, 0.5740289688110352, 0.5652415156364441, 0.5624089241027832, 0.5624089241027832, 0.5597479343414307, 0.5583122372627258, 0.5557721853256226, 0.5489304065704346, 0.5476806163787842, 0.5425793528556824, 0.540772020816803, 0.5340491533279419, 0.5322433710098267, 0.5319957137107849, 0.8700169324874878, 0.8629413843154907, 0.8437811732292175, 0.8153544664382935, 0.7903923988342285, 0.7903923988342285, 0.7613571286201477, 0.7473313808441162, 0.7387717962265015, 0.6892386674880981, 0.662603497505188, 0.6619709730148315, 0.658037543296814, 0.658037543296814, 0.6176472902297974, 0.615702748298645, 0.5974445343017578, 0.597142219543457, 0.5957498550415039, 0.5940290689468384, 0.5940290689468384, 0.5928033590316772, 0.5928033590316772, 0.5818982720375061, 0.5801146030426025, 0.5788638591766357, 0.5765711665153503, 0.5674307346343994, 0.5674307346343994, 0.564223051071167, 0.5636148452758789, 0.5628705024719238, 0.5620214939117432, 0.5620214939117432, 0.5619331002235413, 0.5619331002235413, 0.559242308139801, 0.5561423301696777, 0.5508323907852173, 0.5500817894935608, 0.5497695803642273, 0.9999999403953552, 0.9999999403953552, 0.9999999403953552, 0.9999999403953552, 0.9999999403953552, 0.9999999403953552, 0.9999999403953552, 0.9999999403953552, 0.9999999403953552, 0.9999999403953552, 0.9999999403953552, 0.9999999403953552, 0.9999999403953552, 0.9999999403953552, 0.9999999403953552, 0.9999999403953552, 0.9999999403953552, 0.9999999403953552, 0.9999999403953552, 0.9999999403953552, 0.9999999403953552, 0.9999999403953552, 0.9999999403953552, 0.9273484945297241, 0.9137407541275024, 0.9137407541275024, 0.8842455148696899, 0.8714132308959961, 0.8067934513092041, 0.7892403602600098, 0.7892403602600098, 0.7891927361488342, 0.7555164098739624, 0.7322806119918823, 0.7233740091323853, 0.7116679549217224, 0.7020212411880493, 0.7019990682601929, 0.6937928795814514, 0.6890518665313721, 0.6871176362037659, 0.9038022756576538, 0.877081036567688, 0.8113013505935669, 0.7645142078399658, 0.7639554738998413, 0.7194476127624512, 0.7027758359909058, 0.6972497701644897, 0.6972497701644897, 0.6754305958747864, 0.6549717783927917, 0.6549717783927917, 0.6497648358345032, 0.630318820476532, 0.6143918037414551, 0.6143918037414551, 0.6126453876495361, 0.6111278533935547, 0.6111278533935547, 0.5979909896850586, 0.5857032537460327, 0.5800787210464478, 0.5800787210464478, 0.5795809030532837, 0.5759772062301636, 0.5756043195724487, 0.5756043195724487, 0.5740289688110352, 0.5652415156364441, 0.5624089241027832, 0.5624089241027832, 0.5597479343414307, 0.5583122372627258, 0.5557721853256226, 0.5489304065704346, 0.5476806163787842, 0.5425793528556824, 0.540772020816803, 0.5340491533279419, 0.5322433710098267, 0.5319957137107849, 0.56341552734375, 0.5348633527755737, 0.5331557393074036, 0.5133162140846252, 0.4982755482196808, 0.4901573956012726, 0.4745076298713684, 0.4740811586380005, 0.46778956055641174, 0.467143177986145, 0.46695858240127563, 0.4663861393928528, 0.4626420736312866, 0.45981764793395996, 0.4550161361694336, 0.45293086767196655, 0.45043066143989563, 0.44298675656318665, 0.4406600892543793, 0.436367928981781, 0.4334392845630646, 0.4287338852882385, 0.42202168703079224, 0.4197676181793213, 0.41745519638061523, 0.4173433184623718, 0.4169379472732544, 0.41623449325561523, 0.41504162549972534, 0.414955198764801, 0.414955198764801, 0.41464707255363464, 0.40761321783065796, 0.4060831069946289, 0.4045186936855316, 0.40410828590393066, 0.40352097153663635, 0.4022813141345978, 0.4020805358886719, 0.4020805358886719, 0.40012678503990173, 0.8139619827270508, 0.5784391164779663, 0.5784391164779663, 0.5336032509803772, 0.5314509868621826, 0.5267553329467773, 0.5063381791114807, 0.5007241368293762, 0.48377105593681335, 0.47316819429397583, 0.4692249894142151, 0.4692249894142151, 0.4674973487854004, 0.46424469351768494, 0.4569776654243469, 0.45531588792800903, 0.4483494162559509, 0.44707080721855164, 0.44707080721855164, 0.4412050247192383, 0.4349253177642822, 0.4343103766441345, 0.4280790686607361, 0.4216972589492798, 0.41811469197273254, 0.4153611361980438, 0.4153611361980438, 0.4153611361980438, 0.4061886966228485, 0.4061886966228485, 0.4061886966228485, 0.40516093373298645, 0.404028058052063, 0.3961975574493408, 0.3961975574493408, 0.39388707280158997, 0.3930928111076355, 0.3923460841178894, 0.3908023238182068, 0.3908023238182068, 0.3898048996925354, 0.7884883880615234, 0.7875165343284607, 0.7250702381134033, 0.7226666808128357, 0.707649290561676, 0.7033216953277588, 0.7009313106536865, 0.6638539433479309, 0.6567708253860474, 0.6241602301597595, 0.6241602301597595, 0.6173403263092041, 0.6075782775878906, 0.5985433459281921, 0.5959351658821106, 0.5928409695625305, 0.5913890600204468, 0.5913890600204468, 0.588394284248352, 0.5866062641143799, 0.5842187404632568, 0.5728415846824646, 0.5623148679733276, 0.5623148679733276, 0.561398446559906, 0.5612823963165283, 0.5610731244087219, 0.5610731244087219, 0.5610731244087219, 0.5610731244087219, 0.5553368330001831, 0.5505579710006714, 0.5480878353118896, 0.5402027368545532, 0.5343027710914612, 0.5343027710914612, 0.5322770476341248, 0.5259321331977844, 0.5186484456062317, 0.516061007976532, 0.5154877305030823, 0.6569397449493408, 0.5991068482398987, 0.5802444219589233, 0.5774898529052734, 0.5446634888648987, 0.5321829319000244, 0.530468225479126, 0.5291739106178284, 0.5165798664093018, 0.513489842414856, 0.4885419011116028, 0.4885419011116028, 0.4875938892364502, 0.4875938892364502, 0.4615429937839508, 0.4612760543823242, 0.46071657538414, 0.45926281809806824, 0.45926281809806824, 0.45766258239746094, 0.45766258239746094, 0.45476436614990234, 0.4540615379810333, 0.44781604409217834, 0.44548550248146057, 0.438085675239563, 0.43355053663253784, 0.4247504770755768, 0.42271286249160767, 0.4186075031757355, 0.4150717258453369, 0.41411834955215454, 0.4132397472858429, 0.39795660972595215, 0.39795660972595215, 0.39597299695014954, 0.39597299695014954, 0.39340925216674805, 0.39148247241973877, 0.3904743790626526, 0.38934239745140076, 0.47681868076324463, 0.46573641896247864, 0.45835253596305847, 0.43663668632507324, 0.42527341842651367, 0.42513740062713623, 0.42221516370773315, 0.41157251596450806, 0.4115169644355774, 0.3897072672843933, 0.3897072672843933, 0.3891693949699402, 0.3891693949699402, 0.38379475474357605, 0.3694378137588501, 0.3687804937362671, 0.3686819076538086, 0.3686819076538086, 0.3683364987373352, 0.3638683557510376, 0.36372750997543335, 0.3619920611381531, 0.3619920611381531, 0.3591887354850769, 0.3559897840023041, 0.3545882999897003, 0.35041722655296326, 0.3474857211112976, 0.3370087146759033, 0.33525484800338745, 0.3322971761226654, 0.3322971761226654, 0.33091306686401367, 0.3297169804573059, 0.32832077145576477, 0.31837424635887146, 0.3182149827480316, 0.3182149827480316, 0.31220418214797974, 0.31126728653907776, 0.31063106656074524, 0.5748856663703918, 0.5529873967170715, 0.48415255546569824, 0.4580058455467224, 0.4135158360004425, 0.4056260585784912, 0.3865545690059662, 0.3858798146247864, 0.38170963525772095, 0.37620893120765686, 0.36576932668685913, 0.36052411794662476, 0.3600555956363678, 0.3600555956363678, 0.3442263901233673, 0.30717596411705017, 0.29709774255752563, 0.2931031882762909, 0.29100504517555237, 0.2863095998764038, 0.2863095998764038, 0.2826314866542816, 0.27533504366874695, 0.26982831954956055, 0.2612398564815521, 0.25248458981513977, 0.24962106347084045, 0.24605315923690796, 0.24605315923690796, 0.2450728863477707, 0.2446996569633484, 0.241878479719162, 0.2412559986114502, 0.2412559986114502, 0.24088279902935028, 0.24088279902935028, 0.24088279902935028, 0.23654142022132874, 0.23434816300868988, 0.22765392065048218, 0.22494928538799286, 0.6569397449493408, 0.5991068482398987, 0.5802444219589233, 0.5774898529052734, 0.5446634888648987, 0.5321829319000244, 0.530468225479126, 0.5291739106178284, 0.5165798664093018, 0.513489842414856, 0.4885419011116028, 0.4885419011116028, 0.4875938892364502, 0.4875938892364502, 0.4615429937839508, 0.4612760543823242, 0.46071657538414, 0.45926281809806824, 0.45926281809806824, 0.45766258239746094, 0.45766258239746094, 0.45476436614990234, 0.4540615379810333, 0.44781604409217834, 0.44548550248146057, 0.438085675239563, 0.43355053663253784, 0.4247504770755768, 0.42271286249160767, 0.4186075031757355, 0.4150717258453369, 0.41411834955215454, 0.4132397472858429, 0.39795660972595215, 0.39795660972595215, 0.39597299695014954, 0.39597299695014954, 0.39340925216674805, 0.39148247241973877, 0.3904743790626526, 0.38934239745140076, 0.9688382148742676, 0.9688382148742676, 0.9363052845001221, 0.8945115804672241, 0.889722466468811, 0.8811326026916504, 0.8811326026916504, 0.8795679211616516, 0.8795679211616516, 0.8795679211616516, 0.8693920373916626, 0.8630809783935547, 0.8630809783935547, 0.8630809783935547, 0.8604646921157837, 0.8027790784835815, 0.8027790784835815, 0.8021849989891052, 0.7770406007766724, 0.7770406007766724, 0.7770406007766724, 0.7668816447257996, 0.7668816447257996, 0.7668816447257996, 0.7668816447257996, 0.7668816447257996, 0.7668816447257996, 0.7668816447257996, 0.7661786675453186, 0.7661786675453186, 0.7661786675453186, 0.7634527683258057, 0.7577341198921204, 0.7425391674041748, 0.7425391674041748, 0.7385579943656921, 0.7385579943656921, 0.7312452793121338, 0.7312452793121338, 0.7312452793121338, 0.72841477394104, 0.9688382148742676, 0.9688382148742676, 0.9363052845001221, 0.8945115804672241, 0.889722466468811, 0.8811326026916504, 0.8811326026916504, 0.8795679211616516, 0.8795679211616516, 0.8795679211616516, 0.8693920373916626, 0.8630809783935547, 0.8630809783935547, 0.8630809783935547, 0.8604646921157837, 0.8027790784835815, 0.8027790784835815, 0.8021849989891052, 0.7770406007766724, 0.7770406007766724, 0.7770406007766724, 0.7668816447257996, 0.7668816447257996, 0.7668816447257996, 0.7668816447257996, 0.7668816447257996, 0.7668816447257996, 0.7668816447257996, 0.7661786675453186, 0.7661786675453186, 0.7661786675453186, 0.7634527683258057, 0.7577341198921204, 0.7425391674041748, 0.7425391674041748, 0.7385579943656921, 0.7385579943656921, 0.7312452793121338, 0.7312452793121338, 0.7312452793121338, 0.72841477394104, 0.8408291339874268, 0.503372311592102, 0.503372311592102, 0.47572094202041626, 0.47572094202041626, 0.47080379724502563, 0.470122754573822, 0.45904093980789185, 0.4477255344390869, 0.4477255344390869, 0.3956225514411926, 0.38976404070854187, 0.38725781440734863, 0.3763411045074463, 0.3656523525714874, 0.3656523525714874, 0.3624300956726074, 0.3624300956726074, 0.36131376028060913, 0.35905152559280396, 0.35717493295669556, 0.35505175590515137, 0.35505175590515137, 0.35038429498672485, 0.35038429498672485, 0.3426283597946167, 0.3392983078956604, 0.338674932718277, 0.33688610792160034, 0.33533063530921936, 0.3275110721588135, 0.3268722891807556, 0.3264283537864685, 0.3235744535923004, 0.3217586278915405, 0.3184715211391449, 0.3180062174797058, 0.31584957242012024, 0.30507326126098633, 0.3039984405040741, 0.30248740315437317, 0.9688382148742676, 0.9688382148742676, 0.9363052845001221, 0.8945115804672241, 0.889722466468811, 0.8811326026916504, 0.8811326026916504, 0.8795679211616516, 0.8795679211616516, 0.8795679211616516, 0.8693920373916626, 0.8630809783935547, 0.8630809783935547, 0.8630809783935547, 0.8604646921157837, 0.8027790784835815, 0.8027790784835815, 0.8021849989891052, 0.7770406007766724, 0.7770406007766724, 0.7770406007766724, 0.7668816447257996, 0.7668816447257996, 0.7668816447257996, 0.7668816447257996, 0.7668816447257996, 0.7668816447257996, 0.7668816447257996, 0.7661786675453186, 0.7661786675453186, 0.7661786675453186, 0.7634527683258057, 0.7577341198921204, 0.7425391674041748, 0.7425391674041748, 0.7385579943656921, 0.7385579943656921, 0.7312452793121338, 0.7312452793121338, 0.7312452793121338, 0.72841477394104, 0.7573118209838867, 0.7489049434661865, 0.700458288192749, 0.672394335269928, 0.6612427234649658, 0.6587247252464294, 0.6587247252464294, 0.6484743356704712, 0.6484743356704712, 0.6469762325286865, 0.6469643115997314, 0.6448493599891663, 0.6418337821960449, 0.6418337821960449, 0.6418337821960449, 0.6312885880470276, 0.6312848329544067, 0.6269111633300781, 0.6208521127700806, 0.6208521127700806, 0.6187732219696045, 0.6187732219696045, 0.6157419681549072, 0.6157419681549072, 0.6082339286804199, 0.6055082678794861, 0.6033070683479309, 0.6028082966804504, 0.6016134023666382, 0.6011013984680176, 0.5970230102539062, 0.5929603576660156, 0.581953227519989, 0.581953227519989, 0.5804001092910767, 0.5786940455436707, 0.5717453956604004, 0.5710179805755615, 0.5624879598617554, 0.5624619126319885, 0.5587238669395447, 0.7135134339332581, 0.6868704557418823, 0.6793195009231567, 0.6488701105117798, 0.6154882907867432, 0.5936778783798218, 0.5868701934814453, 0.5759673714637756, 0.5754722356796265, 0.575023353099823, 0.575023353099823, 0.5655705332756042, 0.5655705332756042, 0.5655705332756042, 0.5633155107498169, 0.5633155107498169, 0.5632420182228088, 0.5624656081199646, 0.5623682737350464, 0.5623682737350464, 0.5570770502090454, 0.5555759072303772, 0.5502771735191345, 0.5479140281677246, 0.5448880791664124, 0.5371490120887756, 0.5371490120887756, 0.5357474684715271, 0.5349650382995605, 0.5281473994255066, 0.52545166015625, 0.524941086769104, 0.5225592255592346, 0.5198959112167358, 0.5162583589553833, 0.507482647895813, 0.5073912739753723, 0.5062918066978455, 0.5062918066978455, 0.503261923789978, 0.49811339378356934, 0.71185702085495, 0.5766162872314453, 0.5673723220825195, 0.539250910282135, 0.5347568988800049, 0.5347568988800049, 0.5012028217315674, 0.470013827085495, 0.4344985783100128, 0.4214237332344055, 0.413008451461792, 0.410569965839386, 0.3824096620082855, 0.36758431792259216, 0.36713963747024536, 0.3635799288749695, 0.3591364622116089, 0.3591364622116089, 0.3589180111885071, 0.34386223554611206, 0.33465576171875, 0.3334481120109558, 0.3318134546279907, 0.33007538318634033, 0.3289111256599426, 0.32578611373901367, 0.32097867131233215, 0.3168761730194092, 0.31498387455940247, 0.31406062841415405, 0.31303977966308594, 0.3067609667778015, 0.30609583854675293, 0.3051833212375641, 0.3051833212375641, 0.3051833212375641, 0.3004336655139923, 0.2939430773258209, 0.2928253412246704, 0.2917216420173645, 0.29091155529022217, 0.7793657183647156, 0.7482637166976929, 0.6969605088233948, 0.6904933452606201, 0.6904933452606201, 0.6753745675086975, 0.6714133024215698, 0.6649624109268188, 0.6649624109268188, 0.6610477566719055, 0.6514729857444763, 0.6514729857444763, 0.6491353511810303, 0.6491353511810303, 0.6491353511810303, 0.6491148471832275, 0.6474083662033081, 0.6445437669754028, 0.6418778300285339, 0.6382425427436829, 0.6356643438339233, 0.6309288740158081, 0.6304645538330078, 0.6304102540016174, 0.6255132555961609, 0.6187604665756226, 0.6187604665756226, 0.6132439374923706, 0.604498028755188, 0.6019695997238159, 0.6013408899307251, 0.5964419841766357, 0.5825179815292358, 0.5809962153434753, 0.5809962153434753, 0.5807773470878601, 0.5801163911819458, 0.5765140652656555, 0.5721732974052429, 0.5713474154472351, 0.5702599883079529, 0.35509228706359863, 0.3340606689453125, 0.33306145668029785, 0.3301335871219635, 0.32206398248672485, 0.31826022267341614, 0.3163978159427643, 0.3159707188606262, 0.3077881932258606, 0.3077881932258606, 0.3077881932258606, 0.3043440878391266, 0.30041420459747314, 0.2979190945625305, 0.2970397472381592, 0.29680055379867554, 0.2952367961406708, 0.2940191924571991, 0.2931855618953705, 0.2896101772785187, 0.2896101772785187, 0.28800126910209656, 0.28706783056259155, 0.2869538962841034, 0.2855485677719116, 0.28269529342651367, 0.27724334597587585, 0.2763250470161438, 0.27013498544692993, 0.26751193404197693, 0.267310231924057, 0.2665975093841553, 0.2665975093841553, 0.2659933269023895, 0.2659933269023895, 0.26022404432296753, 0.25991517305374146, 0.25799497961997986, 0.2554560899734497, 0.254684180021286, 0.25035616755485535, 0.36553576588630676, 0.35801225900650024, 0.35431569814682007, 0.3539222478866577, 0.35269901156425476, 0.3512811064720154, 0.35061773657798767, 0.3479822874069214, 0.3408137559890747, 0.3408137559890747, 0.3408137559890747, 0.3314019739627838, 0.32918229699134827, 0.32818734645843506, 0.32638317346572876, 0.325096070766449, 0.325096070766449, 0.3247954845428467, 0.3241904377937317, 0.3234632611274719, 0.3187660574913025, 0.3187660574913025, 0.31824612617492676, 0.31745901703834534, 0.3157202899456024, 0.3142416179180145, 0.31341224908828735, 0.3116540312767029, 0.3071119785308838, 0.3041434586048126, 0.30347466468811035, 0.2954101264476776, 0.2954101264476776, 0.28746649622917175, 0.28506189584732056, 0.2839816212654114, 0.2822154462337494, 0.2787363529205322, 0.2749578058719635, 0.27305614948272705, 0.2718840539455414, 0.6964538097381592, 0.6913484334945679, 0.48007214069366455, 0.46662598848342896, 0.44752347469329834, 0.40308207273483276, 0.38895827531814575, 0.34073132276535034, 0.3347778916358948, 0.3346881568431854, 0.3346881568431854, 0.331373929977417, 0.331373929977417, 0.33128663897514343, 0.3149711787700653, 0.3047948479652405, 0.2900044322013855, 0.28795549273490906, 0.2873547673225403, 0.2873547673225403, 0.2838503122329712, 0.2811221480369568, 0.2805421054363251, 0.2795516848564148, 0.2795516848564148, 0.279293417930603, 0.279293417930603, 0.2656771242618561, 0.26265573501586914, 0.26047247648239136, 0.26047247648239136, 0.2603490352630615, 0.25803112983703613, 0.2570674419403076, 0.2563892900943756, 0.2523902952671051, 0.25236356258392334, 0.2500975728034973, 0.24733664095401764, 0.24423739314079285, 0.2416936755180359, 0.36553576588630676, 0.35801225900650024, 0.35431569814682007, 0.3539222478866577, 0.35269901156425476, 0.3512811064720154, 0.35061773657798767, 0.3479822874069214, 0.3408137559890747, 0.3408137559890747, 0.3408137559890747, 0.3314019739627838, 0.32918229699134827, 0.32818734645843506, 0.32638317346572876, 0.325096070766449, 0.325096070766449, 0.3247954845428467, 0.3241904377937317, 0.3234632611274719, 0.3187660574913025, 0.3187660574913025, 0.31824612617492676, 0.31745901703834534, 0.3157202899456024, 0.3142416179180145, 0.31341224908828735, 0.3116540312767029, 0.3071119785308838, 0.3041434586048126, 0.30347466468811035, 0.2954101264476776, 0.2954101264476776, 0.28746649622917175, 0.28506189584732056, 0.2839816212654114, 0.2822154462337494, 0.2787363529205322, 0.2749578058719635, 0.27305614948272705, 0.2718840539455414], \"xaxis\": \"x\", \"yaxis\": \"y\"}],\n",
              "                        {\"barmode\": \"relative\", \"legend\": {\"tracegroupgap\": 0}, \"template\": {\"data\": {\"bar\": [{\"error_x\": {\"color\": \"#2a3f5f\"}, \"error_y\": {\"color\": \"#2a3f5f\"}, \"marker\": {\"line\": {\"color\": \"#E5ECF6\", \"width\": 0.5}}, \"type\": \"bar\"}], \"barpolar\": [{\"marker\": {\"line\": {\"color\": \"#E5ECF6\", \"width\": 0.5}}, \"type\": \"barpolar\"}], \"carpet\": [{\"aaxis\": {\"endlinecolor\": \"#2a3f5f\", \"gridcolor\": \"white\", \"linecolor\": \"white\", \"minorgridcolor\": \"white\", \"startlinecolor\": \"#2a3f5f\"}, \"baxis\": {\"endlinecolor\": \"#2a3f5f\", \"gridcolor\": \"white\", \"linecolor\": \"white\", \"minorgridcolor\": \"white\", \"startlinecolor\": \"#2a3f5f\"}, \"type\": \"carpet\"}], \"choropleth\": [{\"colorbar\": {\"outlinewidth\": 0, \"ticks\": \"\"}, \"type\": \"choropleth\"}], \"contour\": [{\"colorbar\": {\"outlinewidth\": 0, \"ticks\": \"\"}, \"colorscale\": [[0.0, \"#0d0887\"], [0.1111111111111111, \"#46039f\"], [0.2222222222222222, \"#7201a8\"], [0.3333333333333333, \"#9c179e\"], [0.4444444444444444, \"#bd3786\"], [0.5555555555555556, \"#d8576b\"], [0.6666666666666666, \"#ed7953\"], [0.7777777777777778, \"#fb9f3a\"], [0.8888888888888888, \"#fdca26\"], [1.0, \"#f0f921\"]], \"type\": \"contour\"}], \"contourcarpet\": [{\"colorbar\": {\"outlinewidth\": 0, \"ticks\": \"\"}, \"type\": \"contourcarpet\"}], \"heatmap\": [{\"colorbar\": {\"outlinewidth\": 0, \"ticks\": \"\"}, \"colorscale\": [[0.0, \"#0d0887\"], [0.1111111111111111, \"#46039f\"], [0.2222222222222222, \"#7201a8\"], [0.3333333333333333, \"#9c179e\"], [0.4444444444444444, \"#bd3786\"], [0.5555555555555556, \"#d8576b\"], [0.6666666666666666, \"#ed7953\"], [0.7777777777777778, \"#fb9f3a\"], [0.8888888888888888, \"#fdca26\"], [1.0, \"#f0f921\"]], \"type\": \"heatmap\"}], \"heatmapgl\": [{\"colorbar\": {\"outlinewidth\": 0, \"ticks\": \"\"}, \"colorscale\": [[0.0, \"#0d0887\"], [0.1111111111111111, \"#46039f\"], [0.2222222222222222, \"#7201a8\"], [0.3333333333333333, \"#9c179e\"], [0.4444444444444444, \"#bd3786\"], [0.5555555555555556, \"#d8576b\"], [0.6666666666666666, \"#ed7953\"], [0.7777777777777778, \"#fb9f3a\"], [0.8888888888888888, \"#fdca26\"], [1.0, \"#f0f921\"]], \"type\": \"heatmapgl\"}], \"histogram\": [{\"marker\": {\"colorbar\": {\"outlinewidth\": 0, \"ticks\": \"\"}}, \"type\": \"histogram\"}], \"histogram2d\": [{\"colorbar\": {\"outlinewidth\": 0, \"ticks\": \"\"}, \"colorscale\": [[0.0, \"#0d0887\"], [0.1111111111111111, \"#46039f\"], [0.2222222222222222, \"#7201a8\"], [0.3333333333333333, \"#9c179e\"], [0.4444444444444444, \"#bd3786\"], [0.5555555555555556, \"#d8576b\"], [0.6666666666666666, \"#ed7953\"], [0.7777777777777778, \"#fb9f3a\"], [0.8888888888888888, \"#fdca26\"], [1.0, \"#f0f921\"]], \"type\": \"histogram2d\"}], \"histogram2dcontour\": [{\"colorbar\": {\"outlinewidth\": 0, \"ticks\": \"\"}, \"colorscale\": [[0.0, \"#0d0887\"], [0.1111111111111111, \"#46039f\"], [0.2222222222222222, \"#7201a8\"], [0.3333333333333333, \"#9c179e\"], [0.4444444444444444, \"#bd3786\"], [0.5555555555555556, \"#d8576b\"], [0.6666666666666666, \"#ed7953\"], [0.7777777777777778, \"#fb9f3a\"], [0.8888888888888888, \"#fdca26\"], [1.0, \"#f0f921\"]], \"type\": \"histogram2dcontour\"}], \"mesh3d\": [{\"colorbar\": {\"outlinewidth\": 0, \"ticks\": \"\"}, \"type\": \"mesh3d\"}], \"parcoords\": [{\"line\": {\"colorbar\": {\"outlinewidth\": 0, \"ticks\": \"\"}}, \"type\": \"parcoords\"}], \"pie\": [{\"automargin\": true, \"type\": \"pie\"}], \"scatter\": [{\"marker\": {\"colorbar\": {\"outlinewidth\": 0, \"ticks\": \"\"}}, \"type\": \"scatter\"}], \"scatter3d\": [{\"line\": {\"colorbar\": {\"outlinewidth\": 0, \"ticks\": \"\"}}, \"marker\": {\"colorbar\": {\"outlinewidth\": 0, \"ticks\": \"\"}}, \"type\": \"scatter3d\"}], \"scattercarpet\": [{\"marker\": {\"colorbar\": {\"outlinewidth\": 0, \"ticks\": \"\"}}, \"type\": \"scattercarpet\"}], \"scattergeo\": [{\"marker\": {\"colorbar\": {\"outlinewidth\": 0, \"ticks\": \"\"}}, \"type\": \"scattergeo\"}], \"scattergl\": [{\"marker\": {\"colorbar\": {\"outlinewidth\": 0, \"ticks\": \"\"}}, \"type\": \"scattergl\"}], \"scattermapbox\": [{\"marker\": {\"colorbar\": {\"outlinewidth\": 0, \"ticks\": \"\"}}, \"type\": \"scattermapbox\"}], \"scatterpolar\": [{\"marker\": {\"colorbar\": {\"outlinewidth\": 0, \"ticks\": \"\"}}, \"type\": \"scatterpolar\"}], \"scatterpolargl\": [{\"marker\": {\"colorbar\": {\"outlinewidth\": 0, \"ticks\": \"\"}}, \"type\": \"scatterpolargl\"}], \"scatterternary\": [{\"marker\": {\"colorbar\": {\"outlinewidth\": 0, \"ticks\": \"\"}}, \"type\": \"scatterternary\"}], \"surface\": [{\"colorbar\": {\"outlinewidth\": 0, \"ticks\": \"\"}, \"colorscale\": [[0.0, \"#0d0887\"], [0.1111111111111111, \"#46039f\"], [0.2222222222222222, \"#7201a8\"], [0.3333333333333333, \"#9c179e\"], [0.4444444444444444, \"#bd3786\"], [0.5555555555555556, \"#d8576b\"], [0.6666666666666666, \"#ed7953\"], [0.7777777777777778, \"#fb9f3a\"], [0.8888888888888888, \"#fdca26\"], [1.0, \"#f0f921\"]], \"type\": \"surface\"}], \"table\": [{\"cells\": {\"fill\": {\"color\": \"#EBF0F8\"}, \"line\": {\"color\": \"white\"}}, \"header\": {\"fill\": {\"color\": \"#C8D4E3\"}, \"line\": {\"color\": \"white\"}}, \"type\": \"table\"}]}, \"layout\": {\"annotationdefaults\": {\"arrowcolor\": \"#2a3f5f\", \"arrowhead\": 0, \"arrowwidth\": 1}, \"coloraxis\": {\"colorbar\": {\"outlinewidth\": 0, \"ticks\": \"\"}}, \"colorscale\": {\"diverging\": [[0, \"#8e0152\"], [0.1, \"#c51b7d\"], [0.2, \"#de77ae\"], [0.3, \"#f1b6da\"], [0.4, \"#fde0ef\"], [0.5, \"#f7f7f7\"], [0.6, \"#e6f5d0\"], [0.7, \"#b8e186\"], [0.8, \"#7fbc41\"], [0.9, \"#4d9221\"], [1, \"#276419\"]], \"sequential\": [[0.0, \"#0d0887\"], [0.1111111111111111, \"#46039f\"], [0.2222222222222222, \"#7201a8\"], [0.3333333333333333, \"#9c179e\"], [0.4444444444444444, \"#bd3786\"], [0.5555555555555556, \"#d8576b\"], [0.6666666666666666, \"#ed7953\"], [0.7777777777777778, \"#fb9f3a\"], [0.8888888888888888, \"#fdca26\"], [1.0, \"#f0f921\"]], \"sequentialminus\": [[0.0, \"#0d0887\"], [0.1111111111111111, \"#46039f\"], [0.2222222222222222, \"#7201a8\"], [0.3333333333333333, \"#9c179e\"], [0.4444444444444444, \"#bd3786\"], [0.5555555555555556, \"#d8576b\"], [0.6666666666666666, \"#ed7953\"], [0.7777777777777778, \"#fb9f3a\"], [0.8888888888888888, \"#fdca26\"], [1.0, \"#f0f921\"]]}, \"colorway\": [\"#636efa\", \"#EF553B\", \"#00cc96\", \"#ab63fa\", \"#FFA15A\", \"#19d3f3\", \"#FF6692\", \"#B6E880\", \"#FF97FF\", \"#FECB52\"], \"font\": {\"color\": \"#2a3f5f\"}, \"geo\": {\"bgcolor\": \"white\", \"lakecolor\": \"white\", \"landcolor\": \"#E5ECF6\", \"showlakes\": true, \"showland\": true, \"subunitcolor\": \"white\"}, \"hoverlabel\": {\"align\": \"left\"}, \"hovermode\": \"closest\", \"mapbox\": {\"style\": \"light\"}, \"paper_bgcolor\": \"white\", \"plot_bgcolor\": \"#E5ECF6\", \"polar\": {\"angularaxis\": {\"gridcolor\": \"white\", \"linecolor\": \"white\", \"ticks\": \"\"}, \"bgcolor\": \"#E5ECF6\", \"radialaxis\": {\"gridcolor\": \"white\", \"linecolor\": \"white\", \"ticks\": \"\"}}, \"scene\": {\"xaxis\": {\"backgroundcolor\": \"#E5ECF6\", \"gridcolor\": \"white\", \"gridwidth\": 2, \"linecolor\": \"white\", \"showbackground\": true, \"ticks\": \"\", \"zerolinecolor\": \"white\"}, \"yaxis\": {\"backgroundcolor\": \"#E5ECF6\", \"gridcolor\": \"white\", \"gridwidth\": 2, \"linecolor\": \"white\", \"showbackground\": true, \"ticks\": \"\", \"zerolinecolor\": \"white\"}, \"zaxis\": {\"backgroundcolor\": \"#E5ECF6\", \"gridcolor\": \"white\", \"gridwidth\": 2, \"linecolor\": \"white\", \"showbackground\": true, \"ticks\": \"\", \"zerolinecolor\": \"white\"}}, \"shapedefaults\": {\"line\": {\"color\": \"#2a3f5f\"}}, \"ternary\": {\"aaxis\": {\"gridcolor\": \"white\", \"linecolor\": \"white\", \"ticks\": \"\"}, \"baxis\": {\"gridcolor\": \"white\", \"linecolor\": \"white\", \"ticks\": \"\"}, \"bgcolor\": \"#E5ECF6\", \"caxis\": {\"gridcolor\": \"white\", \"linecolor\": \"white\", \"ticks\": \"\"}}, \"title\": {\"x\": 0.05}, \"xaxis\": {\"automargin\": true, \"gridcolor\": \"white\", \"linecolor\": \"white\", \"ticks\": \"\", \"title\": {\"standoff\": 15}, \"zerolinecolor\": \"white\", \"zerolinewidth\": 2}, \"yaxis\": {\"automargin\": true, \"gridcolor\": \"white\", \"linecolor\": \"white\", \"ticks\": \"\", \"title\": {\"standoff\": 15}, \"zerolinecolor\": \"white\", \"zerolinewidth\": 2}}}, \"title\": {\"text\": \"Scores for TF-IDF\"}, \"xaxis\": {\"anchor\": \"y\", \"domain\": [0.0, 1.0], \"title\": {\"text\": \"score\"}}, \"yaxis\": {\"anchor\": \"x\", \"domain\": [0.0, 1.0], \"title\": {\"text\": \"count\"}}},\n",
              "                        {\"responsive\": true}\n",
              "                    ).then(function(){\n",
              "                            \n",
              "var gd = document.getElementById('4c07bb93-e028-4f9d-b8be-55382c887c13');\n",
              "var x = new MutationObserver(function (mutations, observer) {{\n",
              "        var display = window.getComputedStyle(gd).display;\n",
              "        if (!display || display === 'none') {{\n",
              "            console.log([gd, 'removed!']);\n",
              "            Plotly.purge(gd);\n",
              "            observer.disconnect();\n",
              "        }}\n",
              "}});\n",
              "\n",
              "// Listen for the removal of the full notebook cells\n",
              "var notebookContainer = gd.closest('#notebook-container');\n",
              "if (notebookContainer) {{\n",
              "    x.observe(notebookContainer, {childList: true});\n",
              "}}\n",
              "\n",
              "// Listen for the clearing of the current output cell\n",
              "var outputEl = gd.closest('.output');\n",
              "if (outputEl) {{\n",
              "    x.observe(outputEl, {childList: true});\n",
              "}}\n",
              "\n",
              "                        })\n",
              "                };\n",
              "                \n",
              "            </script>\n",
              "        </div>\n",
              "</body>\n",
              "</html>"
            ]
          },
          "metadata": {}
        }
      ]
    },
    {
      "cell_type": "code",
      "metadata": {
        "id": "QIBvHL1aOnOT"
      },
      "source": [
        "if use_wandb:\n",
        "  wandb.log({\"scores_hist\": fig})"
      ],
      "execution_count": 55,
      "outputs": []
    },
    {
      "cell_type": "code",
      "metadata": {
        "colab": {
          "base_uri": "https://localhost:8080/",
          "height": 293
        },
        "id": "ohaxVQ6d9iiD",
        "outputId": "bad377c8-47df-4e77-a5c3-6064854cad4f"
      },
      "source": [
        "result, details = recommend_tune(df_sim, \"These Foolish Things [jazz1350]\")\n",
        "result.head(5)"
      ],
      "execution_count": 56,
      "outputs": [
        {
          "output_type": "execute_result",
          "data": {
            "text/html": [
              "<div>\n",
              "<style scoped>\n",
              "    .dataframe tbody tr th:only-of-type {\n",
              "        vertical-align: middle;\n",
              "    }\n",
              "\n",
              "    .dataframe tbody tr th {\n",
              "        vertical-align: top;\n",
              "    }\n",
              "\n",
              "    .dataframe thead th {\n",
              "        text-align: right;\n",
              "    }\n",
              "</style>\n",
              "<table border=\"1\" class=\"dataframe\">\n",
              "  <thead>\n",
              "    <tr style=\"text-align: right;\">\n",
              "      <th></th>\n",
              "      <th>index</th>\n",
              "      <th>reference</th>\n",
              "      <th>reference_titleid</th>\n",
              "      <th>similar_title</th>\n",
              "      <th>score</th>\n",
              "      <th>max</th>\n",
              "      <th>score_div_max</th>\n",
              "      <th>similar_titleid</th>\n",
              "    </tr>\n",
              "  </thead>\n",
              "  <tbody>\n",
              "    <tr>\n",
              "      <th>0</th>\n",
              "      <td>0</td>\n",
              "      <td>These Foolish Things [jazz1350]</td>\n",
              "      <td>1168</td>\n",
              "      <td>Mountain Greenery [jazz1350]</td>\n",
              "      <td>0.779366</td>\n",
              "      <td>0.779366</td>\n",
              "      <td>1.000000</td>\n",
              "      <td>833</td>\n",
              "    </tr>\n",
              "    <tr>\n",
              "      <th>1</th>\n",
              "      <td>1</td>\n",
              "      <td>These Foolish Things [jazz1350]</td>\n",
              "      <td>1168</td>\n",
              "      <td>More Than You Know [jazz1350]</td>\n",
              "      <td>0.711857</td>\n",
              "      <td>0.711857</td>\n",
              "      <td>1.000000</td>\n",
              "      <td>829</td>\n",
              "    </tr>\n",
              "    <tr>\n",
              "      <th>2</th>\n",
              "      <td>2</td>\n",
              "      <td>These Foolish Things [jazz1350]</td>\n",
              "      <td>1168</td>\n",
              "      <td>Too Young To Go Steady [jazz1350]</td>\n",
              "      <td>0.713513</td>\n",
              "      <td>0.713513</td>\n",
              "      <td>1.000000</td>\n",
              "      <td>1203</td>\n",
              "    </tr>\n",
              "    <tr>\n",
              "      <th>3</th>\n",
              "      <td>3</td>\n",
              "      <td>These Foolish Things [jazz1350]</td>\n",
              "      <td>1168</td>\n",
              "      <td>Way You Look Tonight, The [jazz1350]</td>\n",
              "      <td>0.748905</td>\n",
              "      <td>0.779366</td>\n",
              "      <td>0.988899</td>\n",
              "      <td>1253</td>\n",
              "    </tr>\n",
              "    <tr>\n",
              "      <th>4</th>\n",
              "      <td>4</td>\n",
              "      <td>These Foolish Things [jazz1350]</td>\n",
              "      <td>1168</td>\n",
              "      <td>This Is All I Ask [jazz1350]</td>\n",
              "      <td>0.679320</td>\n",
              "      <td>0.713513</td>\n",
              "      <td>0.952077</td>\n",
              "      <td>1180</td>\n",
              "    </tr>\n",
              "  </tbody>\n",
              "</table>\n",
              "</div>"
            ],
            "text/plain": [
              "   index                        reference  ...  score_div_max similar_titleid\n",
              "0      0  These Foolish Things [jazz1350]  ...       1.000000             833\n",
              "1      1  These Foolish Things [jazz1350]  ...       1.000000             829\n",
              "2      2  These Foolish Things [jazz1350]  ...       1.000000            1203\n",
              "3      3  These Foolish Things [jazz1350]  ...       0.988899            1253\n",
              "4      4  These Foolish Things [jazz1350]  ...       0.952077            1180\n",
              "\n",
              "[5 rows x 8 columns]"
            ]
          },
          "metadata": {},
          "execution_count": 56
        }
      ]
    },
    {
      "cell_type": "markdown",
      "metadata": {
        "id": "UveSDI6QWALe"
      },
      "source": [
        "Copy results into a dataframe for later logging to W&B"
      ]
    },
    {
      "cell_type": "code",
      "metadata": {
        "id": "AEEqdXBiT5bl"
      },
      "source": [
        "dd = pd.DataFrame(columns = recommender_results_cols)\n",
        "\n",
        "for tune in tunes_eval_list:\n",
        "  result, details = recommend_tune(df_sim, tune)\n",
        "  dd['id'] = result['index']\n",
        "  dd['method'] = 'tfidf'\n",
        "  dd['reference'] = tune\n",
        "  dd['similar'] = result['similar_title']\n",
        "  dd['score_div_max'] = result['score_div_max']\n",
        "  dd['score'] = result['score']\n",
        "\n",
        "recommender_results = recommender_results.append(dd)"
      ],
      "execution_count": 57,
      "outputs": []
    },
    {
      "cell_type": "markdown",
      "metadata": {
        "id": "wqaUEFqxXZYB"
      },
      "source": [
        "### Test Contrafacts"
      ]
    },
    {
      "cell_type": "markdown",
      "metadata": {
        "id": "563ncYqAfIyN"
      },
      "source": [
        "With the model, query the top N highest matches for each section. For a tune, if at least one section receives the recommendation  for the expected title, increase the match counter."
      ]
    },
    {
      "cell_type": "code",
      "metadata": {
        "id": "RVPtraR-hg0G"
      },
      "source": [
        "def test_contrafacts(tunes, index, model, N=15):\n",
        "  matches = 0\n",
        "  number_of_sections = 0\n",
        "  results = {}\n",
        "\n",
        "  for tune, similar_tune in tunes.items():\n",
        "    \n",
        "    # loop over all sections of the tune\n",
        "    section_matches = 0\n",
        "    for s1 in title_to_sectionid[tune]:\n",
        "      query = processed_corpus[s1]\n",
        "      query_bow = dictionary.doc2bow(query)\n",
        "\n",
        "      # perform a similarity query against the corpus\n",
        "      similarities = index[model[query_bow]]\n",
        "      sims = sorted(enumerate(similarities), key=lambda item: -item[1])\n",
        "\n",
        "      # check if the section matches the expected title; consider only the first 15 recommendations\n",
        "      i = 0\n",
        "      for sectionid, value in sims:\n",
        "        if i >= N:\n",
        "          break\n",
        "        i += 1\n",
        "        if sectionid_to_title[sectionid] == similar_tune:\n",
        "          section_matches += 1\n",
        "\n",
        "    # for each title, increase matches if at least one of the section matched the expected title\n",
        "    if section_matches > 0:\n",
        "      matches += 1  \n",
        "      results[tune] = 1\n",
        "    else:\n",
        "      results[tune] = 0\n",
        "  \n",
        "  return matches, results\n"
      ],
      "execution_count": 58,
      "outputs": []
    },
    {
      "cell_type": "code",
      "metadata": {
        "colab": {
          "base_uri": "https://localhost:8080/"
        },
        "id": "Q628rO5DhxWD",
        "outputId": "26e38ae4-346b-4e6c-c241-d65f1412b65a"
      },
      "source": [
        "topN = 15\n",
        "matches, results = test_contrafacts(contrafacts, index_tfidf, tfidf, topN)\n",
        "\n",
        "[print(f\"{val}: {rr}\") for rr, val in results.items()] \n",
        "print() \n",
        "print(f\"Found matches: {matches} out of {len(contrafacts)}: {100*matches/len(contrafacts):.3f}%\")"
      ],
      "execution_count": 59,
      "outputs": [
        {
          "output_type": "stream",
          "name": "stdout",
          "text": [
            "1: 26-2 [jazz1350]\n",
            "0: 52nd Street Theme [jazz1350]\n",
            "1: Ablution [jazz1350]\n",
            "1: Anthropology [jazz1350]\n",
            "0: Ballade [jazz1350]\n",
            "1: Bright Mississippi [jazz1350]\n",
            "1: C.T.A. [jazz1350]\n",
            "1: Cottontail [jazz1350]\n",
            "1: Countdown [jazz1350]\n",
            "0: Dewey Square [jazz1350]\n",
            "1: Dexterity [jazz1350]\n",
            "1: Dig [jazz1350]\n",
            "1: Donna Lee [jazz1350]\n",
            "0: Don't Be That Way [jazz1350]\n",
            "1: Evidence [jazz1350]\n",
            "1: Flintstones [jazz1350]\n",
            "0: Four On Six [jazz1350]\n",
            "1: Freight Train [jazz1350]\n",
            "0: Good Bait [jazz1350]\n",
            "1: Hackensack [jazz1350]\n",
            "1: Half Nelson [jazz1350]\n",
            "1: Hot House [jazz1350]\n",
            "1: Impressions [jazz1350]\n",
            "0: In A Mellow Tone (In A Mellotone) [jazz1350]\n",
            "1: In Walked Bud [jazz1350]\n",
            "1: Ko Ko [jazz1350]\n",
            "0: Lennie's Pennies [jazz1350]\n",
            "0: Little Rootie Tootie [jazz1350]\n",
            "0: Little Willie Leaps [jazz1350]\n",
            "0: Lullaby Of Birdland [jazz1350]\n",
            "0: My Little Suede Shoes [jazz1350]\n",
            "1: Ornithology [jazz1350]\n",
            "0: Quasimodo (Theme) [jazz1350]\n",
            "0: Room 608 [jazz1350]\n",
            "1: Satellite [jazz1350]\n",
            "1: Scrapple From The Apple [jazz1350]\n",
            "1: Tour De Force [jazz1350]\n",
            "1: Wow [jazz1350]\n",
            "1: Yardbird Suite [jazz1350]\n",
            "0: Sweet Sue, Just You [jazz1350]\n",
            "0: These Foolish Things [jazz1350]\n",
            "1: Misty [jazz1350]\n",
            "\n",
            "Found matches: 26 out of 42: 61.905%\n"
          ]
        }
      ]
    },
    {
      "cell_type": "code",
      "metadata": {
        "id": "8lKZukYybvMJ"
      },
      "source": [
        "model_name = 'tfidf'\n",
        "if use_wandb:\n",
        "  wandb.log(\n",
        "      {model_name: {\n",
        "                'contrafacts': {\n",
        "                    'topN': topN,\n",
        "                    'success': matches/len(contrafacts),\n",
        "                    #'results': results\n",
        "                    }\n",
        "                   },\n",
        "       'all_models': {\n",
        "           model_name: wandb.Table(\n",
        "               columns=[\"Title\", \"Match\"],\n",
        "               data=[[key, value] for key, value in results.items()]),\n",
        "       }\n",
        "       })"
      ],
      "execution_count": 60,
      "outputs": []
    },
    {
      "cell_type": "markdown",
      "metadata": {
        "id": "Phw7fBDk0px7"
      },
      "source": [
        "## Store TF-IDF Model to W&B"
      ]
    },
    {
      "cell_type": "code",
      "metadata": {
        "id": "KdYWJX-60pdd"
      },
      "source": [
        "if use_wandb:\n",
        "  model_artifact = wandb.Artifact(\n",
        "      \"model_tfidf\", \n",
        "      type=\"model\",\n",
        "      description=\"TF-IDF Model\",\n",
        "      metadata=\"\")\n",
        "\n",
        "  model_artifact.add_file(\"/content/index/tfidf.model\")\n",
        "  model_artifact.add_file(\"/content/index/tfidf.index\")\n",
        "  wandb.log_artifact(model_artifact)"
      ],
      "execution_count": 61,
      "outputs": []
    },
    {
      "cell_type": "markdown",
      "metadata": {
        "id": "Pj0mpWpahPu1"
      },
      "source": [
        "## Get Recommender Data for WebApp\n",
        "\n"
      ]
    },
    {
      "cell_type": "code",
      "metadata": {
        "id": "buRbSTWehvPP"
      },
      "source": [
        "tune_test = [\"These Foolish Things [jazz1350]\",\n",
        "             \"Misty [jazz1350]\"]"
      ],
      "execution_count": 62,
      "outputs": []
    },
    {
      "cell_type": "code",
      "metadata": {
        "colab": {
          "base_uri": "https://localhost:8080/"
        },
        "id": "kwdXs-pZjKKD",
        "outputId": "c02f5a4b-cf00-4d52-b9d7-824972815d0a"
      },
      "source": [
        "%%time\n",
        "if generate_webapp_data:\n",
        "  _tunes = list(tunes['title_playlist'].values())\n",
        "\n",
        "  df_sim = get_sim_scores(_tunes, index_tfidf, tfidf)\n",
        "\n",
        "  result = None\n",
        "  for tune in _tunes:\n",
        "    tune_result, details = recommend_tune(df_sim, tune)\n",
        "    if result is None:\n",
        "      result = pd.DataFrame(columns=tune_result.columns)\n",
        "    result = result.append(tune_result)\n",
        "\n",
        "  # save to file\n",
        "  result.to_csv('output/recommender_tfidf.csv', sep='\\t', encoding='utf8')\n",
        "\n",
        "  # save to wandb\n",
        "  if use_wandb:\n",
        "    model_artifact = wandb.Artifact(\n",
        "        \"recommender_tfidf\", \n",
        "        type=\"csv\",\n",
        "        description=\"Recommendations for each Tune using TF-IDF Model (csv file)\",\n",
        "        metadata=\"\")\n",
        "\n",
        "    model_artifact.add_file('output/recommender_tfidf.csv')\n",
        "    wandb.log_artifact(model_artifact)"
      ],
      "execution_count": 63,
      "outputs": [
        {
          "output_type": "stream",
          "name": "stdout",
          "text": [
            "CPU times: user 4 µs, sys: 0 ns, total: 4 µs\n",
            "Wall time: 8.34 µs\n"
          ]
        }
      ]
    },
    {
      "cell_type": "code",
      "metadata": {
        "id": "uyJxqE5bnx7V"
      },
      "source": [
        ""
      ],
      "execution_count": 63,
      "outputs": []
    },
    {
      "cell_type": "markdown",
      "metadata": {
        "id": "99xHBRsd--OB"
      },
      "source": [
        "# LSA (Latent Semantic Analysis), aka LSI (Latent Semantic Index) "
      ]
    },
    {
      "cell_type": "code",
      "metadata": {
        "id": "adsW9Uh9_JXs"
      },
      "source": [
        "from collections import defaultdict"
      ],
      "execution_count": 64,
      "outputs": []
    },
    {
      "cell_type": "code",
      "metadata": {
        "colab": {
          "base_uri": "https://localhost:8080/"
        },
        "id": "s3AJZGRD_IHW",
        "outputId": "d0c816ac-4762-4be8-b769-eb080c74e3b2"
      },
      "source": [
        "num_topics = lsi_config['num_topics']\n",
        "\n",
        "# remove words that appear only once\n",
        "frequency = defaultdict(int)\n",
        "for text in processed_corpus:\n",
        "    for token in text:\n",
        "        frequency[token] += 1\n",
        "\n",
        "data = [[token for token in text if frequency[token] > 1] for text in processed_corpus]\n",
        "dictionary = corpora.Dictionary(data)\n",
        "\n",
        "# doc2bow counts the number of occurences of each distinct word,\n",
        "# converts the word to its integer word id and returns the result\n",
        "# as a sparse vector\n",
        "\n",
        "bow_corpus = [dictionary.doc2bow(text) for text in data]\n",
        "lsi = LsiModel(bow_corpus, id2word=dictionary, num_topics=num_topics)  # num_topics can be maximum the size of the number of unique tokens"
      ],
      "execution_count": 65,
      "outputs": [
        {
          "output_type": "stream",
          "name": "stderr",
          "text": [
            "2021-11-26 22:04:59,422 : INFO : adding document #0 to Dictionary(0 unique tokens: [])\n",
            "2021-11-26 22:04:59,671 : INFO : built Dictionary(1536 unique tokens: ['Am', 'Am-D7', 'B7', 'B7-E', 'C']...) from 5391 documents (total 159399 corpus positions)\n",
            "2021-11-26 22:04:59,673 : INFO : Dictionary lifecycle event {'msg': \"built Dictionary(1536 unique tokens: ['Am', 'Am-D7', 'B7', 'B7-E', 'C']...) from 5391 documents (total 159399 corpus positions)\", 'datetime': '2021-11-26T22:04:59.673074', 'gensim': '4.1.2', 'python': '3.7.12 (default, Sep 10 2021, 00:21:48) \\n[GCC 7.5.0]', 'platform': 'Linux-5.4.104+-x86_64-with-Ubuntu-18.04-bionic', 'event': 'created'}\n",
            "2021-11-26 22:04:59,803 : INFO : using serial LSI version on this node\n",
            "2021-11-26 22:04:59,805 : INFO : updating model with new documents\n",
            "2021-11-26 22:04:59,812 : INFO : preparing a new chunk of documents\n",
            "2021-11-26 22:04:59,861 : INFO : using 100 extra samples and 2 power iterations\n",
            "2021-11-26 22:04:59,866 : INFO : 1st phase: constructing (1536, 300) action matrix\n",
            "2021-11-26 22:04:59,994 : INFO : orthonormalizing (1536, 300) action matrix\n",
            "2021-11-26 22:05:00,345 : INFO : 2nd phase: running dense svd on (300, 5391) matrix\n",
            "2021-11-26 22:05:00,841 : INFO : computing the final decomposition\n",
            "2021-11-26 22:05:00,843 : INFO : keeping 200 factors (discarding 1.203% of energy spectrum)\n",
            "2021-11-26 22:05:00,879 : INFO : processed documents up to #5391\n",
            "2021-11-26 22:05:00,882 : INFO : topic #0(439.353): 0.647*\"C\" + 0.462*\"G7\" + 0.261*\"Dm\" + 0.242*\"G7-C\" + 0.196*\"C-C\" + 0.180*\"Dm-G7\" + 0.159*\"D7\" + 0.152*\"A7\" + 0.143*\"F\" + 0.133*\"Am\"\n",
            "2021-11-26 22:05:00,887 : INFO : topic #1(190.196): 0.632*\"Am\" + -0.357*\"C\" + 0.324*\"Dm\" + 0.268*\"E7\" + -0.246*\"C-C\" + 0.220*\"Am-Am\" + 0.194*\"Dm-G7\" + 0.171*\"E7-Am\" + 0.114*\"Em\" + 0.106*\"A7\"\n",
            "2021-11-26 22:05:00,893 : INFO : topic #2(159.826): -0.467*\"Dm\" + 0.440*\"Am\" + -0.395*\"Dm-G7\" + 0.233*\"E7\" + 0.200*\"Am-Am\" + 0.193*\"C\" + 0.184*\"C-C\" + 0.182*\"D7\" + -0.164*\"A7-Dm\" + -0.162*\"Em\"\n",
            "2021-11-26 22:05:00,896 : INFO : topic #3(128.586): 0.492*\"C7\" + 0.386*\"D7\" + -0.331*\"C\" + 0.311*\"G7\" + -0.268*\"C-C\" + -0.211*\"Dm\" + -0.194*\"Am\" + 0.189*\"A7\" + 0.175*\"D7-G7\" + 0.172*\"C7-C7\"\n",
            "2021-11-26 22:05:00,902 : INFO : topic #4(119.643): -0.556*\"C7\" + -0.380*\"F\" + 0.369*\"D7\" + 0.273*\"A7\" + -0.182*\"C7-C7\" + 0.172*\"D7-G7\" + -0.170*\"C7-F\" + 0.162*\"G7\" + 0.155*\"A7-D7\" + 0.134*\"D7-D7\"\n",
            "2021-11-26 22:05:00,904 : INFO : LsiModel lifecycle event {'msg': 'trained LsiModel(num_terms=1536, num_topics=200, decay=1.0, chunksize=20000) in 1.10s', 'datetime': '2021-11-26T22:05:00.904754', 'gensim': '4.1.2', 'python': '3.7.12 (default, Sep 10 2021, 00:21:48) \\n[GCC 7.5.0]', 'platform': 'Linux-5.4.104+-x86_64-with-Ubuntu-18.04-bionic', 'event': 'created'}\n"
          ]
        }
      ]
    },
    {
      "cell_type": "code",
      "metadata": {
        "id": "EvxSQFfBBNMJ",
        "colab": {
          "base_uri": "https://localhost:8080/"
        },
        "outputId": "c3c0628a-fd91-431e-8a6c-6decd8d379cf"
      },
      "source": [
        "index_lsi = similarities.Similarity('/content/index/index_lsi', lsi[bow_corpus], num_features=len(dictionary))"
      ],
      "execution_count": 66,
      "outputs": [
        {
          "output_type": "stream",
          "name": "stderr",
          "text": [
            "2021-11-26 22:05:00,920 : INFO : starting similarity index under /content/index/index_lsi\n"
          ]
        }
      ]
    },
    {
      "cell_type": "code",
      "metadata": {
        "id": "3saA6NY5Tzer"
      },
      "source": [
        "#index_lsi = similarities.SparseMatrixSimilarity(lsi[bow_corpus], num_features = len(dictionary))\n",
        "#index_lsi = similarities.MatrixSimilarity(lsi[bow_corpus])  # transform corpus to LSI space and index it\n"
      ],
      "execution_count": 67,
      "outputs": []
    },
    {
      "cell_type": "code",
      "metadata": {
        "colab": {
          "base_uri": "https://localhost:8080/"
        },
        "id": "F5pbDMVyfEtS",
        "outputId": "8d7d73b4-7bd9-4ee8-e46d-20ee7d4ad305"
      },
      "source": [
        "lsi.save('/content/index/lsi.model')\n",
        "index_lsi.save('/content/index/lsi_matrixsim.index')\n"
      ],
      "execution_count": 68,
      "outputs": [
        {
          "output_type": "stream",
          "name": "stderr",
          "text": [
            "2021-11-26 22:05:03,084 : INFO : Projection lifecycle event {'fname_or_handle': '/content/index/lsi.model.projection', 'separately': 'None', 'sep_limit': 10485760, 'ignore': frozenset(), 'datetime': '2021-11-26T22:05:03.084717', 'gensim': '4.1.2', 'python': '3.7.12 (default, Sep 10 2021, 00:21:48) \\n[GCC 7.5.0]', 'platform': 'Linux-5.4.104+-x86_64-with-Ubuntu-18.04-bionic', 'event': 'saving'}\n",
            "2021-11-26 22:05:03,093 : INFO : saved /content/index/lsi.model.projection\n",
            "2021-11-26 22:05:03,096 : INFO : LsiModel lifecycle event {'fname_or_handle': '/content/index/lsi.model', 'separately': 'None', 'sep_limit': 10485760, 'ignore': ['projection', 'dispatcher'], 'datetime': '2021-11-26T22:05:03.096534', 'gensim': '4.1.2', 'python': '3.7.12 (default, Sep 10 2021, 00:21:48) \\n[GCC 7.5.0]', 'platform': 'Linux-5.4.104+-x86_64-with-Ubuntu-18.04-bionic', 'event': 'saving'}\n",
            "2021-11-26 22:05:03,100 : INFO : not storing attribute projection\n",
            "2021-11-26 22:05:03,103 : INFO : not storing attribute dispatcher\n",
            "2021-11-26 22:05:03,111 : INFO : saved /content/index/lsi.model\n",
            "2021-11-26 22:05:03,114 : INFO : creating sparse index\n",
            "2021-11-26 22:05:03,116 : INFO : creating sparse matrix from corpus\n",
            "2021-11-26 22:05:03,119 : INFO : PROGRESS: at document #0/5391\n",
            "2021-11-26 22:05:05,760 : INFO : created <5391x1536 sparse matrix of type '<class 'numpy.float32'>'\n",
            "\twith 1078200 stored elements in Compressed Sparse Row format>\n",
            "2021-11-26 22:05:05,762 : INFO : creating sparse shard #0\n",
            "2021-11-26 22:05:05,763 : INFO : saving index shard to /content/index/index_lsi.0\n",
            "2021-11-26 22:05:05,775 : INFO : SparseMatrixSimilarity lifecycle event {'fname_or_handle': '/content/index/index_lsi.0', 'separately': 'None', 'sep_limit': 10485760, 'ignore': frozenset(), 'datetime': '2021-11-26T22:05:05.775344', 'gensim': '4.1.2', 'python': '3.7.12 (default, Sep 10 2021, 00:21:48) \\n[GCC 7.5.0]', 'platform': 'Linux-5.4.104+-x86_64-with-Ubuntu-18.04-bionic', 'event': 'saving'}\n",
            "2021-11-26 22:05:05,792 : INFO : saved /content/index/index_lsi.0\n",
            "2021-11-26 22:05:05,794 : INFO : loading SparseMatrixSimilarity object from /content/index/index_lsi.0\n",
            "2021-11-26 22:05:05,803 : INFO : SparseMatrixSimilarity lifecycle event {'fname': '/content/index/index_lsi.0', 'datetime': '2021-11-26T22:05:05.803388', 'gensim': '4.1.2', 'python': '3.7.12 (default, Sep 10 2021, 00:21:48) \\n[GCC 7.5.0]', 'platform': 'Linux-5.4.104+-x86_64-with-Ubuntu-18.04-bionic', 'event': 'loaded'}\n",
            "2021-11-26 22:05:05,821 : INFO : Similarity lifecycle event {'fname_or_handle': '/content/index/lsi_matrixsim.index', 'separately': 'None', 'sep_limit': 10485760, 'ignore': frozenset(), 'datetime': '2021-11-26T22:05:05.821501', 'gensim': '4.1.2', 'python': '3.7.12 (default, Sep 10 2021, 00:21:48) \\n[GCC 7.5.0]', 'platform': 'Linux-5.4.104+-x86_64-with-Ubuntu-18.04-bionic', 'event': 'saving'}\n",
            "2021-11-26 22:05:05,826 : INFO : saved /content/index/lsi_matrixsim.index\n"
          ]
        }
      ]
    },
    {
      "cell_type": "code",
      "metadata": {
        "colab": {
          "base_uri": "https://localhost:8080/"
        },
        "id": "1udPIceqYk6S",
        "outputId": "1b9df4e6-c967-4892-c8d6-7bac2e7bf22f"
      },
      "source": [
        "!ls -la /content/index"
      ],
      "execution_count": 69,
      "outputs": [
        {
          "output_type": "stream",
          "name": "stdout",
          "text": [
            "total 11760\n",
            "drwxr-xr-x 2 root root    4096 Nov 26 22:05 .\n",
            "drwxr-xr-x 1 root root    4096 Nov 26 22:04 ..\n",
            "-rw-r--r-- 1 root root 8648061 Nov 26 22:05 index_lsi.0\n",
            "-rw-r--r-- 1 root root     749 Nov 26 22:05 lsi_matrixsim.index\n",
            "-rw-r--r-- 1 root root   46050 Nov 26 22:05 lsi.model\n",
            "-rw-r--r-- 1 root root 2459891 Nov 26 22:05 lsi.model.projection\n",
            "-rw-r--r-- 1 root root  807293 Nov 26 22:04 tfidf.index\n",
            "-rw-r--r-- 1 root root   54256 Nov 26 22:04 tfidf.model\n"
          ]
        }
      ]
    },
    {
      "cell_type": "markdown",
      "metadata": {
        "id": "u05KD64Ai1uo"
      },
      "source": [
        "## Tests"
      ]
    },
    {
      "cell_type": "markdown",
      "metadata": {
        "id": "pDxTCAGv9MmZ"
      },
      "source": [
        "### Test for single tunes"
      ]
    },
    {
      "cell_type": "code",
      "metadata": {
        "colab": {
          "base_uri": "https://localhost:8080/"
        },
        "id": "khASSJ1eEuf5",
        "outputId": "1b3a5118-dcfc-47f4-8fa6-76b0d3dae90c"
      },
      "source": [
        "%%time\n",
        "df_sim = get_sim_scores(tunes_eval_list, index=index_lsi, model=lsi)\n",
        "\n",
        "# save a copy of the results; all results will be concatenated at the end\n",
        "df_lsi = df_sim[:]"
      ],
      "execution_count": 70,
      "outputs": [
        {
          "output_type": "stream",
          "name": "stdout",
          "text": [
            "\n",
            "--------------------------------------------------\n",
            "125 After You've Gone, section1 (A)\n",
            "126 After You've Gone, section2 (B)\n",
            "127 After You've Gone, section3 (A)\n",
            "128 After You've Gone, section4 (C)\n",
            "\n",
            "--------------------------------------------------\n",
            "188 All God's Chillun Got Rhythm, section1 (A)\n",
            "189 All God's Chillun Got Rhythm, section2 (B)\n",
            "190 All God's Chillun Got Rhythm, section3 (A)\n",
            "191 All God's Chillun Got Rhythm, section4 (C)\n",
            "\n",
            "--------------------------------------------------\n",
            "198 All Of Me, section1 (A)\n",
            "199 All Of Me, section2 (B)\n",
            "200 All Of Me, section3 (A)\n",
            "201 All Of Me, section4 (C)\n",
            "\n",
            "--------------------------------------------------\n",
            "474 Blood Count, section1 (A)\n",
            "475 Blood Count, section2 (A)\n",
            "476 Blood Count, section3 (B)\n",
            "477 Blood Count, section4 (A)\n",
            "478 Blood Count, section5 (C)\n",
            "\n",
            "--------------------------------------------------\n",
            "496 Blue Moon, section1 (A)\n",
            "497 Blue Moon, section2 (A)\n",
            "498 Blue Moon, section3 (B)\n",
            "499 Blue Moon, section4 (A)\n",
            "\n",
            "--------------------------------------------------\n",
            "626 But Beautiful, section1 (A)\n",
            "627 But Beautiful, section2 (B)\n",
            "628 But Beautiful, section3 (A)\n",
            "629 But Beautiful, section4 (C)\n",
            "\n",
            "--------------------------------------------------\n",
            "653 Bye Bye Blackbird, section1 (A)\n",
            "654 Bye Bye Blackbird, section2 (B)\n",
            "\n",
            "--------------------------------------------------\n",
            "676 Call Me Irresponsible, section1 (A)\n",
            "677 Call Me Irresponsible, section2 (B)\n",
            "678 Call Me Irresponsible, section3 (A)\n",
            "679 Call Me Irresponsible, section4 (B)\n",
            "\n",
            "--------------------------------------------------\n",
            "826 Corcovado, section1 (A)\n",
            "827 Corcovado, section2 (B)\n",
            "828 Corcovado, section3 (A)\n",
            "829 Corcovado, section4 (C)\n",
            "\n",
            "--------------------------------------------------\n",
            "997 Dinah, section1 (A)\n",
            "998 Dinah, section2 (A)\n",
            "999 Dinah, section3 (B)\n",
            "1000 Dinah, section4 (A)\n",
            "\n",
            "--------------------------------------------------\n",
            "1125 East Of The Sun, section1 (A)\n",
            "1126 East Of The Sun, section2 (B)\n",
            "1127 East Of The Sun, section3 (A)\n",
            "1128 East Of The Sun, section4 (C)\n",
            "\n",
            "--------------------------------------------------\n",
            "1287 Footprints, section0 (nan)\n",
            "\n",
            "--------------------------------------------------\n",
            "1379 Giant Steps, section0 (nan)\n",
            "\n",
            "--------------------------------------------------\n",
            "1538 Honeysuckle Rose, section1 (A)\n",
            "1539 Honeysuckle Rose, section2 (A)\n",
            "1540 Honeysuckle Rose, section3 (B)\n",
            "1541 Honeysuckle Rose, section4 (A)\n",
            "\n",
            "--------------------------------------------------\n",
            "1647 I Got Rhythm, section1 (A)\n",
            "1648 I Got Rhythm, section2 (A)\n",
            "1649 I Got Rhythm, section3 (B)\n",
            "1650 I Got Rhythm, section4 (A)\n",
            "\n",
            "--------------------------------------------------\n",
            "2670 Misty, section1 (A)\n",
            "2671 Misty, section2 (A)\n",
            "2672 Misty, section3 (B)\n",
            "2673 Misty, section4 (A)\n",
            "\n",
            "--------------------------------------------------\n",
            "2857 Naima, section1 (A)\n",
            "2858 Naima, section2 (A)\n",
            "2859 Naima, section3 (B)\n",
            "2860 Naima, section4 (A)\n",
            "\n",
            "--------------------------------------------------\n",
            "5044 Old Fashioned Love, section0 (nan)\n",
            "\n",
            "--------------------------------------------------\n",
            "3142 Perdido, section1 (A)\n",
            "3143 Perdido, section2 (A)\n",
            "3144 Perdido, section3 (B)\n",
            "3145 Perdido, section4 (A)\n",
            "\n",
            "--------------------------------------------------\n",
            "3276 Rockin' Chair, section1 (A)\n",
            "3277 Rockin' Chair, section2 (B)\n",
            "3278 Rockin' Chair, section3 (A)\n",
            "\n",
            "--------------------------------------------------\n",
            "3578 Sophisticated Lady, section1 (A)\n",
            "3579 Sophisticated Lady, section2 (A)\n",
            "3580 Sophisticated Lady, section3 (B)\n",
            "3581 Sophisticated Lady, section4 (A)\n",
            "\n",
            "--------------------------------------------------\n",
            "3746 Sweet Sue, Just You, section1 (A)\n",
            "3747 Sweet Sue, Just You, section2 (A)\n",
            "3748 Sweet Sue, Just You, section3 (B)\n",
            "3749 Sweet Sue, Just You, section4 (A)\n",
            "\n",
            "--------------------------------------------------\n",
            "3860 These Foolish Things, section1 (A)\n",
            "3861 These Foolish Things, section2 (A)\n",
            "3862 These Foolish Things, section3 (B)\n",
            "3863 These Foolish Things, section4 (A)\n",
            "\n",
            "--------------------------------------------------\n",
            "4146 We'll Be Together Again, section1 (A)\n",
            "4147 We'll Be Together Again, section2 (A)\n",
            "4148 We'll Be Together Again, section3 (B)\n",
            "4149 We'll Be Together Again, section4 (A)\n",
            "CPU times: user 26 s, sys: 429 ms, total: 26.5 s\n",
            "Wall time: 26.3 s\n"
          ]
        }
      ]
    },
    {
      "cell_type": "code",
      "metadata": {
        "colab": {
          "base_uri": "https://localhost:8080/",
          "height": 542
        },
        "id": "X31lkvUsDAsU",
        "outputId": "4d8aa44a-1502-4c21-bd50-9e31f2436bbf"
      },
      "source": [
        "import plotly.express as px\n",
        "fig = px.histogram(df_sim, x=\"score\", nbins=50, title='LSI Scores')\n",
        "fig.show()"
      ],
      "execution_count": 71,
      "outputs": [
        {
          "output_type": "display_data",
          "data": {
            "text/html": [
              "<html>\n",
              "<head><meta charset=\"utf-8\" /></head>\n",
              "<body>\n",
              "    <div>\n",
              "            <script src=\"https://cdnjs.cloudflare.com/ajax/libs/mathjax/2.7.5/MathJax.js?config=TeX-AMS-MML_SVG\"></script><script type=\"text/javascript\">if (window.MathJax) {MathJax.Hub.Config({SVG: {font: \"STIX-Web\"}});}</script>\n",
              "                <script type=\"text/javascript\">window.PlotlyConfig = {MathJaxConfig: 'local'};</script>\n",
              "        <script src=\"https://cdn.plot.ly/plotly-latest.min.js\"></script>    \n",
              "            <div id=\"0c82d819-aaee-4751-985c-d9f52de74a62\" class=\"plotly-graph-div\" style=\"height:525px; width:100%;\"></div>\n",
              "            <script type=\"text/javascript\">\n",
              "                \n",
              "                    window.PLOTLYENV=window.PLOTLYENV || {};\n",
              "                    \n",
              "                if (document.getElementById(\"0c82d819-aaee-4751-985c-d9f52de74a62\")) {\n",
              "                    Plotly.newPlot(\n",
              "                        '0c82d819-aaee-4751-985c-d9f52de74a62',\n",
              "                        [{\"alignmentgroup\": \"True\", \"bingroup\": \"x\", \"hoverlabel\": {\"namelength\": 0}, \"hovertemplate\": \"score=%{x}<br>count=%{y}\", \"legendgroup\": \"\", \"marker\": {\"color\": \"#636efa\"}, \"name\": \"\", \"nbinsx\": 50, \"offsetgroup\": \"\", \"orientation\": \"v\", \"showlegend\": false, \"type\": \"histogram\", \"x\": [0.8036978244781494, 0.8036978244781494, 0.7910686731338501, 0.750389039516449, 0.7282736301422119, 0.7252522110939026, 0.7233164310455322, 0.7231509685516357, 0.7102313041687012, 0.7034474611282349, 0.7016291618347168, 0.7016291618347168, 0.6998568177223206, 0.6969717144966125, 0.6969717144966125, 0.6969717144966125, 0.6954213976860046, 0.6904174089431763, 0.6869009137153625, 0.6849130988121033, 0.6849130988121033, 0.6759635806083679, 0.6754322648048401, 0.6744446158409119, 0.6744446158409119, 0.6654213666915894, 0.6651709675788879, 0.664260983467102, 0.6620134115219116, 0.661207377910614, 0.6607663631439209, 0.6607663631439209, 0.6607663631439209, 0.6531800627708435, 0.6520411968231201, 0.6504290103912354, 0.65019291639328, 0.6458339691162109, 0.6456641554832458, 0.6448907256126404, 0.644619882106781, 0.8754017949104309, 0.8754017949104309, 0.8754017949104309, 0.8736703991889954, 0.8639839291572571, 0.8541162610054016, 0.8541162610054016, 0.8541162610054016, 0.8541162610054016, 0.8505676984786987, 0.8503144383430481, 0.8476357460021973, 0.8473610281944275, 0.8415176868438721, 0.8415176868438721, 0.8415176868438721, 0.8391357660293579, 0.8391357660293579, 0.8388732671737671, 0.8388732671737671, 0.8347959518432617, 0.8344763517379761, 0.8318741321563721, 0.8310585618019104, 0.8294892311096191, 0.8287968635559082, 0.8260003924369812, 0.8260003924369812, 0.8260003924369812, 0.8243033289909363, 0.8212761878967285, 0.8181653022766113, 0.8175938129425049, 0.8166930675506592, 0.8150582313537598, 0.8149856925010681, 0.8145257830619812, 0.8118840456008911, 0.8118840456008911, 0.8115381002426147, 0.8112747669219971, 0.8036978244781494, 0.8036978244781494, 0.7910686731338501, 0.750389039516449, 0.7282736301422119, 0.7252522110939026, 0.7233164310455322, 0.7231509685516357, 0.7102313041687012, 0.7034474611282349, 0.7016291618347168, 0.7016291618347168, 0.6998568177223206, 0.6969717144966125, 0.6969717144966125, 0.6969717144966125, 0.6954213976860046, 0.6904174089431763, 0.6869009137153625, 0.6849130988121033, 0.6849130988121033, 0.6759635806083679, 0.6754322648048401, 0.6744446158409119, 0.6744446158409119, 0.6654213666915894, 0.6651709675788879, 0.664260983467102, 0.6620134115219116, 0.661207377910614, 0.6607663631439209, 0.6607663631439209, 0.6607663631439209, 0.6531800627708435, 0.6520411968231201, 0.6504290103912354, 0.65019291639328, 0.6458339691162109, 0.6456641554832458, 0.6448907256126404, 0.644619882106781, 0.8236392736434937, 0.8168047666549683, 0.7883174419403076, 0.7873268127441406, 0.7860727310180664, 0.782017707824707, 0.7812296748161316, 0.7806355953216553, 0.778188169002533, 0.7744833827018738, 0.7723367214202881, 0.7697535157203674, 0.7696280479431152, 0.7685402631759644, 0.7666985988616943, 0.7643585205078125, 0.7643532752990723, 0.760895848274231, 0.7593849301338196, 0.7581652998924255, 0.7562389373779297, 0.7556554675102234, 0.7552685141563416, 0.7535608410835266, 0.7531355619430542, 0.7530392408370972, 0.7525770664215088, 0.7518752217292786, 0.7515245676040649, 0.7498772740364075, 0.7496762871742249, 0.7492125034332275, 0.7491041421890259, 0.7486112713813782, 0.7486112713813782, 0.7484228610992432, 0.7468494176864624, 0.7455255389213562, 0.7447864413261414, 0.7443428635597229, 0.7440348267555237, 0.954215407371521, 0.9541759490966797, 0.9357115030288696, 0.9278613924980164, 0.9278613924980164, 0.9270445704460144, 0.9266844987869263, 0.9258195757865906, 0.9252732396125793, 0.9197465777397156, 0.9194123148918152, 0.9186099171638489, 0.9168767929077148, 0.9155681133270264, 0.9106873273849487, 0.9102661609649658, 0.9068573117256165, 0.9068573117256165, 0.9025145769119263, 0.9011683464050293, 0.8997787237167358, 0.8979288339614868, 0.8979288339614868, 0.896652340888977, 0.894847571849823, 0.8909419178962708, 0.8891070485115051, 0.8883458971977234, 0.8883458971977234, 0.8879820108413696, 0.8872454762458801, 0.8872454762458801, 0.8870596289634705, 0.8870596289634705, 0.8855037093162537, 0.8845084309577942, 0.883988618850708, 0.8809658288955688, 0.8787909150123596, 0.8765510320663452, 0.8765510320663452, 0.8986639380455017, 0.81446373462677, 0.8068055510520935, 0.8026411533355713, 0.7973777055740356, 0.7952077984809875, 0.792600691318512, 0.7810511589050293, 0.7810511589050293, 0.7778312563896179, 0.7772327065467834, 0.7743809819221497, 0.7741380929946899, 0.7645471096038818, 0.7617216110229492, 0.7605117559432983, 0.7583927512168884, 0.7579875588417053, 0.7579875588417053, 0.7579513788223267, 0.7553486824035645, 0.7536793947219849, 0.7522996664047241, 0.7521795034408569, 0.7452018857002258, 0.744168758392334, 0.743967592716217, 0.7407089471817017, 0.73504239320755, 0.7345607280731201, 0.7326819896697998, 0.7322402596473694, 0.7312563061714172, 0.7309586405754089, 0.730779767036438, 0.7285518050193787, 0.7285518050193787, 0.7270759344100952, 0.7260871529579163, 0.7257870435714722, 0.7239863276481628, 0.954215407371521, 0.9541759490966797, 0.9357115030288696, 0.9278613924980164, 0.9278613924980164, 0.9270445704460144, 0.9266844987869263, 0.9258195757865906, 0.9252732396125793, 0.9197465777397156, 0.9194123148918152, 0.9186099171638489, 0.9168767929077148, 0.9155681133270264, 0.9106873273849487, 0.9102661609649658, 0.9068573117256165, 0.9068573117256165, 0.9025145769119263, 0.9011683464050293, 0.8997787237167358, 0.8979288339614868, 0.8979288339614868, 0.896652340888977, 0.894847571849823, 0.8909419178962708, 0.8891070485115051, 0.8883458971977234, 0.8883458971977234, 0.8879820108413696, 0.8872454762458801, 0.8872454762458801, 0.8870596289634705, 0.8870596289634705, 0.8855037093162537, 0.8845084309577942, 0.883988618850708, 0.8809658288955688, 0.8787909150123596, 0.8765510320663452, 0.8765510320663452, 0.9432129263877869, 0.9358215928077698, 0.9135615229606628, 0.9036493301391602, 0.89942467212677, 0.8942902088165283, 0.8867899179458618, 0.8822187185287476, 0.8797217607498169, 0.8675310611724854, 0.8673010468482971, 0.8641429543495178, 0.8641429543495178, 0.8641429543495178, 0.8636167049407959, 0.8611464500427246, 0.860005795955658, 0.8595505952835083, 0.8579145669937134, 0.8549093008041382, 0.8529816269874573, 0.8478304147720337, 0.8456337451934814, 0.8451453447341919, 0.8446521162986755, 0.8414905071258545, 0.8409619331359863, 0.8396914601325989, 0.8389878273010254, 0.8381813764572144, 0.8379495739936829, 0.8376395106315613, 0.837126612663269, 0.8362259864807129, 0.8359137773513794, 0.8359137773513794, 0.8356333374977112, 0.8356235027313232, 0.8352149724960327, 0.8341792821884155, 0.8332532644271851, 0.8832632899284363, 0.8520891070365906, 0.8481810688972473, 0.8273152112960815, 0.8160009980201721, 0.8160009980201721, 0.8120299577713013, 0.805140495300293, 0.7951774001121521, 0.7808027863502502, 0.7553640604019165, 0.7497292757034302, 0.7488085627555847, 0.7488085627555847, 0.7482468485832214, 0.731375515460968, 0.7310696244239807, 0.7305670380592346, 0.7253134846687317, 0.7242605686187744, 0.7215484976768494, 0.7199850082397461, 0.7199850082397461, 0.7113232016563416, 0.7060989737510681, 0.7028519511222839, 0.7008365392684937, 0.6996434926986694, 0.6993150115013123, 0.6983512043952942, 0.6979929804801941, 0.6976721882820129, 0.696910560131073, 0.6967074275016785, 0.6967074275016785, 0.6967074275016785, 0.6948007941246033, 0.6943203806877136, 0.6908619403839111, 0.689652681350708, 0.689652681350708, 0.9164074659347534, 0.912209689617157, 0.8858897089958191, 0.8777341842651367, 0.8738836646080017, 0.8695229291915894, 0.864221453666687, 0.864221453666687, 0.864221453666687, 0.8593202829360962, 0.8570998311042786, 0.8418033123016357, 0.8307809233665466, 0.8160812258720398, 0.8159412741661072, 0.8029568791389465, 0.7951324582099915, 0.7948327660560608, 0.7891960740089417, 0.7891960740089417, 0.7871925234794617, 0.7859578728675842, 0.7827907204627991, 0.7818710207939148, 0.7810642719268799, 0.7766779661178589, 0.7722442150115967, 0.7652775049209595, 0.7650073170661926, 0.7635131478309631, 0.7611216306686401, 0.7568635940551758, 0.7538893222808838, 0.7538893222808838, 0.7507886290550232, 0.7439097166061401, 0.738470196723938, 0.7380123138427734, 0.7339286208152771, 0.7332452535629272, 0.7311909198760986, 0.8832632899284363, 0.8520891070365906, 0.8481810688972473, 0.8273152112960815, 0.8160009980201721, 0.8160009980201721, 0.8120299577713013, 0.805140495300293, 0.7951774001121521, 0.7808027863502502, 0.7553640604019165, 0.7497292757034302, 0.7488085627555847, 0.7488085627555847, 0.7482468485832214, 0.731375515460968, 0.7310696244239807, 0.7305670380592346, 0.7253134846687317, 0.7242605686187744, 0.7215484976768494, 0.7199850082397461, 0.7199850082397461, 0.7113232016563416, 0.7060989737510681, 0.7028519511222839, 0.7008365392684937, 0.6996434926986694, 0.6993150115013123, 0.6983512043952942, 0.6979929804801941, 0.6976721882820129, 0.696910560131073, 0.6967074275016785, 0.6967074275016785, 0.6967074275016785, 0.6948007941246033, 0.6943203806877136, 0.6908619403839111, 0.689652681350708, 0.689652681350708, 0.9079160690307617, 0.8762757778167725, 0.8582693338394165, 0.8498081564903259, 0.8469168543815613, 0.8434414863586426, 0.8421250581741333, 0.8399417400360107, 0.8378086090087891, 0.8333317041397095, 0.8325204849243164, 0.8315556645393372, 0.8314279913902283, 0.8305290341377258, 0.8288052082061768, 0.8269233107566833, 0.8262751698493958, 0.8262751698493958, 0.8243470191955566, 0.8243470191955566, 0.823297381401062, 0.8227145075798035, 0.8216664791107178, 0.8216664791107178, 0.8204706311225891, 0.8201917409896851, 0.8176395893096924, 0.8148496150970459, 0.8146360516548157, 0.8142504096031189, 0.8142094612121582, 0.8130053281784058, 0.8115922808647156, 0.8098809123039246, 0.809206485748291, 0.8090418577194214, 0.8085579872131348, 0.8075534701347351, 0.8068529963493347, 0.8068529963493347, 0.8042361736297607, 0.7842761874198914, 0.7316271066665649, 0.7316271066665649, 0.6829267144203186, 0.6724916696548462, 0.627392590045929, 0.6241275668144226, 0.6237568855285645, 0.6183943748474121, 0.615559458732605, 0.5661938786506653, 0.5422598719596863, 0.5311073660850525, 0.5304341912269592, 0.5133978128433228, 0.5027946829795837, 0.49828091263771057, 0.4909417927265167, 0.4900856614112854, 0.48692893981933594, 0.47618961334228516, 0.47615623474121094, 0.4659689962863922, 0.4659689962863922, 0.4556273818016052, 0.4548968970775604, 0.4548968970775604, 0.4540577232837677, 0.4497705399990082, 0.44630369544029236, 0.444582462310791, 0.44137847423553467, 0.4344238340854645, 0.4340909719467163, 0.43391546607017517, 0.42526936531066895, 0.4214307367801666, 0.4149220883846283, 0.41320085525512695, 0.4087543785572052, 0.4059094786643982, 0.7633236050605774, 0.7512845396995544, 0.7512845396995544, 0.7512845396995544, 0.7335528135299683, 0.7178599238395691, 0.7159507274627686, 0.7159507274627686, 0.7096291184425354, 0.7096291184425354, 0.7096291184425354, 0.7088522911071777, 0.7088522911071777, 0.7043127417564392, 0.6950176954269409, 0.6950176954269409, 0.6950176954269409, 0.6950176954269409, 0.6950176954269409, 0.6950176954269409, 0.6950176954269409, 0.6897836327552795, 0.6895597577095032, 0.6895597577095032, 0.6895597577095032, 0.689105212688446, 0.6841966509819031, 0.6838949918746948, 0.6825724244117737, 0.682342529296875, 0.6814842820167542, 0.6814842820167542, 0.6782346367835999, 0.6782346367835999, 0.6768932938575745, 0.675602912902832, 0.6743679642677307, 0.6738833785057068, 0.6738833785057068, 0.6738833785057068, 0.668357253074646, 0.686769425868988, 0.6644664406776428, 0.6080265045166016, 0.6035165190696716, 0.5978875756263733, 0.5931304693222046, 0.5889825820922852, 0.5878826975822449, 0.5768895745277405, 0.5685210227966309, 0.5679734945297241, 0.5653257369995117, 0.5653255581855774, 0.5599991679191589, 0.5593212842941284, 0.5555064678192139, 0.5555064678192139, 0.5518630146980286, 0.5459940433502197, 0.5448760390281677, 0.5448760390281677, 0.5448760390281677, 0.544102668762207, 0.5388505458831787, 0.5369200110435486, 0.5310629606246948, 0.5280123353004456, 0.527065098285675, 0.5236572027206421, 0.5236572027206421, 0.5086735486984253, 0.5062463879585266, 0.5062463879585266, 0.50429767370224, 0.50429767370224, 0.50429767370224, 0.5037931203842163, 0.5010651350021362, 0.49907180666923523, 0.4959859549999237, 0.49459555745124817, 0.7633236050605774, 0.7512845396995544, 0.7512845396995544, 0.7512845396995544, 0.7335528135299683, 0.7178599238395691, 0.7159507274627686, 0.7159507274627686, 0.7096291184425354, 0.7096291184425354, 0.7096291184425354, 0.7088522911071777, 0.7088522911071777, 0.7043127417564392, 0.6950176954269409, 0.6950176954269409, 0.6950176954269409, 0.6950176954269409, 0.6950176954269409, 0.6950176954269409, 0.6950176954269409, 0.6897836327552795, 0.6895597577095032, 0.6895597577095032, 0.6895597577095032, 0.689105212688446, 0.6841966509819031, 0.6838949918746948, 0.6825724244117737, 0.682342529296875, 0.6814842820167542, 0.6814842820167542, 0.6782346367835999, 0.6782346367835999, 0.6768932938575745, 0.675602912902832, 0.6743679642677307, 0.6738833785057068, 0.6738833785057068, 0.6738833785057068, 0.668357253074646, 0.8205904364585876, 0.7530893683433533, 0.6437371969223022, 0.618182897567749, 0.6125242710113525, 0.6121805310249329, 0.5849812626838684, 0.5720269680023193, 0.5633540749549866, 0.5618939399719238, 0.5618939399719238, 0.5596264600753784, 0.5449376106262207, 0.533579409122467, 0.5332598686218262, 0.515231192111969, 0.5138680934906006, 0.50661301612854, 0.5024996399879456, 0.49881497025489807, 0.49515780806541443, 0.4933229684829712, 0.4840169847011566, 0.4838595688343048, 0.4834953844547272, 0.4799497723579407, 0.4799497723579407, 0.4799497723579407, 0.47927260398864746, 0.4784142076969147, 0.4751017987728119, 0.4741475582122803, 0.4702388346195221, 0.47000569105148315, 0.46562808752059937, 0.4639711081981659, 0.4619857966899872, 0.4619857966899872, 0.4619857966899872, 0.46162423491477966, 0.4615744352340698, 0.9545875191688538, 0.9466169476509094, 0.9466169476509094, 0.9438157081604004, 0.9438157081604004, 0.9429880976676941, 0.9395237565040588, 0.9395237565040588, 0.938151478767395, 0.9375093579292297, 0.9375093579292297, 0.9355838894844055, 0.9320069551467896, 0.9285678267478943, 0.9261371493339539, 0.9244946837425232, 0.9244946837425232, 0.9244946837425232, 0.9213004112243652, 0.9207361340522766, 0.9207361340522766, 0.9169701337814331, 0.9169038534164429, 0.9134257435798645, 0.9124522805213928, 0.9112288951873779, 0.9112288951873779, 0.9062010645866394, 0.9061185717582703, 0.9047887921333313, 0.9046915173530579, 0.9040708541870117, 0.9033910632133484, 0.9026127457618713, 0.9023118615150452, 0.9021313190460205, 0.9016417264938354, 0.9006959795951843, 0.8988726735115051, 0.8971696496009827, 0.8962237238883972, 0.8985876441001892, 0.8985876441001892, 0.8755595088005066, 0.8755595088005066, 0.8751854300498962, 0.8738194704055786, 0.8670749664306641, 0.8665465712547302, 0.8657999634742737, 0.8621241450309753, 0.8621241450309753, 0.8621241450309753, 0.8590520024299622, 0.8590520024299622, 0.857566237449646, 0.857566237449646, 0.8569951057434082, 0.8568211197853088, 0.8554527759552002, 0.8515051007270813, 0.8506673574447632, 0.8506673574447632, 0.8505184054374695, 0.8497197031974792, 0.8492979407310486, 0.8490134477615356, 0.8487054705619812, 0.8478946089744568, 0.8473098278045654, 0.8468965291976929, 0.8468965291976929, 0.8466352820396423, 0.8453643918037415, 0.8450611233711243, 0.8436366319656372, 0.8436070680618286, 0.8421428203582764, 0.8415535092353821, 0.8402143716812134, 0.8365041613578796, 0.8363454341888428, 0.881399929523468, 0.8700685501098633, 0.8691319823265076, 0.8635844588279724, 0.8574649691581726, 0.8556076288223267, 0.8556076288223267, 0.8537740111351013, 0.8521174788475037, 0.8498309850692749, 0.8477404713630676, 0.8433078527450562, 0.8432300090789795, 0.8432300090789795, 0.8430590033531189, 0.8430089354515076, 0.8404843807220459, 0.8404843807220459, 0.8384425640106201, 0.8360321521759033, 0.8356531858444214, 0.8348891735076904, 0.833823561668396, 0.833823561668396, 0.8327248692512512, 0.8319682478904724, 0.8319012522697449, 0.8293939232826233, 0.8283111453056335, 0.8276397585868835, 0.826298177242279, 0.8247359991073608, 0.8235055804252625, 0.8230119347572327, 0.8230119347572327, 0.8228245377540588, 0.8228245377540588, 0.8224713206291199, 0.8216635584831238, 0.8214412331581116, 0.8209468722343445, 0.9545875191688538, 0.9466169476509094, 0.9466169476509094, 0.9438157081604004, 0.9438157081604004, 0.9429880976676941, 0.9395237565040588, 0.9395237565040588, 0.938151478767395, 0.9375093579292297, 0.9375093579292297, 0.9355838894844055, 0.9320069551467896, 0.9285678267478943, 0.9261371493339539, 0.9244946837425232, 0.9244946837425232, 0.9244946837425232, 0.9213004112243652, 0.9207361340522766, 0.9207361340522766, 0.9169701337814331, 0.9169038534164429, 0.9134257435798645, 0.9124522805213928, 0.9112288951873779, 0.9112288951873779, 0.9062010645866394, 0.9061185717582703, 0.9047887921333313, 0.9046915173530579, 0.9040708541870117, 0.9033910632133484, 0.9026127457618713, 0.9023118615150452, 0.9021313190460205, 0.9016417264938354, 0.9006959795951843, 0.8988726735115051, 0.8971696496009827, 0.8962237238883972, 0.7251023650169373, 0.7235593199729919, 0.7235593199729919, 0.7104041576385498, 0.709736168384552, 0.6919304728507996, 0.6777511239051819, 0.672240674495697, 0.6707963347434998, 0.6707963347434998, 0.6628806591033936, 0.6627269387245178, 0.6605513095855713, 0.6595971584320068, 0.6587944626808167, 0.657653272151947, 0.657653272151947, 0.657430112361908, 0.6533699035644531, 0.6387718319892883, 0.6377145648002625, 0.6352719664573669, 0.6352719664573669, 0.6315964460372925, 0.6315323710441589, 0.6313250064849854, 0.6313250064849854, 0.6313250064849854, 0.6291744112968445, 0.6264804005622864, 0.6242663860321045, 0.623115062713623, 0.6228851675987244, 0.6224871277809143, 0.615276575088501, 0.6150780916213989, 0.614689290523529, 0.6146171689033508, 0.6115527749061584, 0.61137855052948, 0.6071255803108215, 0.9191437363624573, 0.8982076644897461, 0.8908799290657043, 0.8840183615684509, 0.8759456872940063, 0.8702974915504456, 0.8633633852005005, 0.8632820248603821, 0.8623068928718567, 0.8604578971862793, 0.8604578971862793, 0.8554649949073792, 0.8536122441291809, 0.853198766708374, 0.853198766708374, 0.8522219657897949, 0.8522219657897949, 0.8500963449478149, 0.8480631709098816, 0.8478184342384338, 0.8416579365730286, 0.841234564781189, 0.8377786874771118, 0.8377176523208618, 0.8374435305595398, 0.8366168737411499, 0.8364537954330444, 0.8364537954330444, 0.8360991477966309, 0.8360477089881897, 0.8346807360649109, 0.8346807360649109, 0.83282470703125, 0.8307422995567322, 0.8304506540298462, 0.8283947706222534, 0.8280150294303894, 0.8273758888244629, 0.8190935254096985, 0.8190362453460693, 0.8174306750297546, 0.7251023650169373, 0.7235593199729919, 0.7235593199729919, 0.7104041576385498, 0.709736168384552, 0.6919304728507996, 0.6777511239051819, 0.672240674495697, 0.6707963347434998, 0.6707963347434998, 0.6628806591033936, 0.6627269387245178, 0.6605513095855713, 0.6595971584320068, 0.6587944626808167, 0.657653272151947, 0.657653272151947, 0.657430112361908, 0.6533699035644531, 0.6387718319892883, 0.6377145648002625, 0.6352719664573669, 0.6352719664573669, 0.6315964460372925, 0.6315323710441589, 0.6313250064849854, 0.6313250064849854, 0.6313250064849854, 0.6291744112968445, 0.6264804005622864, 0.6242663860321045, 0.623115062713623, 0.6228851675987244, 0.6224871277809143, 0.615276575088501, 0.6150780916213989, 0.614689290523529, 0.6146171689033508, 0.6115527749061584, 0.61137855052948, 0.6071255803108215, 0.8984123468399048, 0.8961336612701416, 0.8766121864318848, 0.8725513815879822, 0.8692631721496582, 0.867611825466156, 0.8665704131126404, 0.8665581941604614, 0.863117516040802, 0.8627731204032898, 0.8581821322441101, 0.8541944622993469, 0.8477439880371094, 0.8409554958343506, 0.8409554958343506, 0.8396692872047424, 0.8396692872047424, 0.8392689824104309, 0.8392689824104309, 0.8389374017715454, 0.8385997414588928, 0.838445246219635, 0.8352175354957581, 0.8302217125892639, 0.8302169442176819, 0.8260653018951416, 0.8245013952255249, 0.8243861794471741, 0.8238122463226318, 0.8238122463226318, 0.8218256831169128, 0.8197874426841736, 0.8175849914550781, 0.8170099854469299, 0.8169940114021301, 0.8161138892173767, 0.8142114281654358, 0.8140710592269897, 0.8140710592269897, 0.8138504028320312, 0.8124847412109375, 0.9454657435417175, 0.945254385471344, 0.9394112825393677, 0.9385001063346863, 0.9382242560386658, 0.9382242560386658, 0.9370139241218567, 0.9345414042472839, 0.9345414042472839, 0.9345414042472839, 0.9317874312400818, 0.9317874312400818, 0.9317874312400818, 0.9306879043579102, 0.929754912853241, 0.927606463432312, 0.9245693683624268, 0.9245693683624268, 0.9239196181297302, 0.9233958125114441, 0.920596718788147, 0.9155904054641724, 0.9133620262145996, 0.9130373001098633, 0.9125762581825256, 0.9125762581825256, 0.9121114015579224, 0.9092563390731812, 0.9092563390731812, 0.9091081023216248, 0.9077943563461304, 0.9077943563461304, 0.9056769013404846, 0.9008894562721252, 0.8993880748748779, 0.8979073166847229, 0.8978652358055115, 0.8966733813285828, 0.8962429761886597, 0.8956575393676758, 0.8946307897567749, 0.9028894305229187, 0.9014666080474854, 0.8921095132827759, 0.8921095132827759, 0.8921095132827759, 0.8862777948379517, 0.8835552930831909, 0.8796132802963257, 0.8796132802963257, 0.8787755370140076, 0.8720134496688843, 0.8716094493865967, 0.8716094493865967, 0.8714938759803772, 0.8690440654754639, 0.8666215538978577, 0.8654146790504456, 0.863705575466156, 0.8634586334228516, 0.8623358011245728, 0.8621687889099121, 0.8595284223556519, 0.8594177961349487, 0.8580594062805176, 0.8569328784942627, 0.8561522960662842, 0.8561522960662842, 0.8556630611419678, 0.8552265763282776, 0.8544791340827942, 0.853750467300415, 0.8532161116600037, 0.8531183004379272, 0.8524092435836792, 0.8522300124168396, 0.8522300124168396, 0.852172315120697, 0.851716160774231, 0.8508189916610718, 0.8499872088432312, 0.8488743305206299, 0.8160009980201721, 0.8160009980201721, 0.7806515097618103, 0.7803829908370972, 0.7778368592262268, 0.7764731645584106, 0.7734275460243225, 0.7677516341209412, 0.7677516341209412, 0.7642189264297485, 0.7586853504180908, 0.7404121160507202, 0.7404121160507202, 0.7302685379981995, 0.7243388295173645, 0.7136214375495911, 0.7119588255882263, 0.7101621627807617, 0.7101621627807617, 0.7083229422569275, 0.7081078290939331, 0.7048804759979248, 0.7036712765693665, 0.7036712765693665, 0.7023579478263855, 0.6988546848297119, 0.6988546848297119, 0.6988546848297119, 0.6965954303741455, 0.6963871121406555, 0.6962781548500061, 0.6957557201385498, 0.6917808055877686, 0.6859657764434814, 0.6857850551605225, 0.6823533773422241, 0.6823533773422241, 0.6815969944000244, 0.6815969944000244, 0.6811112761497498, 0.6802506446838379, 0.8430730700492859, 0.8402970433235168, 0.8289135098457336, 0.8217929005622864, 0.8213730454444885, 0.8202211856842041, 0.8061132431030273, 0.80320143699646, 0.795830488204956, 0.7954553365707397, 0.7909258604049683, 0.7884098291397095, 0.7883131504058838, 0.7883131504058838, 0.7842302322387695, 0.7837055325508118, 0.7823053598403931, 0.7820445895195007, 0.7815516591072083, 0.7815516591072083, 0.7796081900596619, 0.7783649563789368, 0.7752081155776978, 0.7724534273147583, 0.7689666152000427, 0.767851710319519, 0.7675501108169556, 0.7669723033905029, 0.7645121812820435, 0.7627360224723816, 0.7602788209915161, 0.7580668330192566, 0.7565180659294128, 0.7565180659294128, 0.755310595035553, 0.7540011405944824, 0.753233790397644, 0.7531687021255493, 0.7524659037590027, 0.7522202134132385, 0.7514868974685669, 0.8160009980201721, 0.8160009980201721, 0.7806515097618103, 0.7803829908370972, 0.7778368592262268, 0.7764731645584106, 0.7734275460243225, 0.7677516341209412, 0.7677516341209412, 0.7642189264297485, 0.7586853504180908, 0.7404121160507202, 0.7404121160507202, 0.7302685379981995, 0.7243388295173645, 0.7136214375495911, 0.7119588255882263, 0.7101621627807617, 0.7101621627807617, 0.7083229422569275, 0.7081078290939331, 0.7048804759979248, 0.7036712765693665, 0.7036712765693665, 0.7023579478263855, 0.6988546848297119, 0.6988546848297119, 0.6988546848297119, 0.6965954303741455, 0.6963871121406555, 0.6962781548500061, 0.6957557201385498, 0.6917808055877686, 0.6859657764434814, 0.6857850551605225, 0.6823533773422241, 0.6823533773422241, 0.6815969944000244, 0.6815969944000244, 0.6811112761497498, 0.6802506446838379, 0.951691210269928, 0.9216556549072266, 0.9067268371582031, 0.9009729623794556, 0.8970034122467041, 0.8950797319412231, 0.892899751663208, 0.8917315006256104, 0.8807740807533264, 0.8793948292732239, 0.8788310885429382, 0.8768211603164673, 0.8765732049942017, 0.8750064969062805, 0.8699811697006226, 0.8699811697006226, 0.8695700168609619, 0.8678787350654602, 0.8678787350654602, 0.867520809173584, 0.8666505813598633, 0.8658007979393005, 0.8652573823928833, 0.8640246391296387, 0.862621545791626, 0.862621545791626, 0.8621315360069275, 0.8621315360069275, 0.8621315360069275, 0.8611690402030945, 0.8611578345298767, 0.8589885830879211, 0.8587883114814758, 0.8569328784942627, 0.8554708361625671, 0.8536477088928223, 0.8525615930557251, 0.8522911667823792, 0.8486491441726685, 0.8478561043739319, 0.8470939993858337, 0.706733226776123, 0.7011528015136719, 0.6842507719993591, 0.6842507719993591, 0.6703324913978577, 0.6617706418037415, 0.6509273648262024, 0.6452839374542236, 0.6429480910301208, 0.6413634419441223, 0.6356025338172913, 0.6345630288124084, 0.6345630288124084, 0.6278673410415649, 0.6255359649658203, 0.6250535249710083, 0.6165882349014282, 0.614693284034729, 0.609455406665802, 0.609455406665802, 0.6023880243301392, 0.6023880243301392, 0.6023880243301392, 0.5976881980895996, 0.5976881980895996, 0.5939991474151611, 0.5939991474151611, 0.5921148061752319, 0.5910413265228271, 0.5910413265228271, 0.5910413265228271, 0.5891399383544922, 0.5824639797210693, 0.5824639797210693, 0.5792683959007263, 0.5787853002548218, 0.5777924656867981, 0.5733552575111389, 0.5733552575111389, 0.5720906257629395, 0.5708724856376648, 0.8858135938644409, 0.7846797704696655, 0.7512404918670654, 0.7362337708473206, 0.7362337708473206, 0.7187169790267944, 0.7174721956253052, 0.7174721956253052, 0.7107899188995361, 0.7041659951210022, 0.7031375765800476, 0.7015914916992188, 0.7015914916992188, 0.698430061340332, 0.6939513683319092, 0.6841133236885071, 0.6822505593299866, 0.6809256076812744, 0.6809256076812744, 0.6809256076812744, 0.6803158521652222, 0.6751049160957336, 0.6718340516090393, 0.6711534857749939, 0.670814573764801, 0.6656841039657593, 0.6653645038604736, 0.6560884118080139, 0.6545677185058594, 0.6509587168693542, 0.6495431661605835, 0.6479395031929016, 0.6460908055305481, 0.64560467004776, 0.6426709294319153, 0.6425294280052185, 0.6415482759475708, 0.6400783061981201, 0.6389515995979309, 0.6382284164428711, 0.638149082660675, 0.706733226776123, 0.7011528015136719, 0.6842507719993591, 0.6842507719993591, 0.6703324913978577, 0.6617706418037415, 0.6509273648262024, 0.6452839374542236, 0.6429480910301208, 0.6413634419441223, 0.6356025338172913, 0.6345630288124084, 0.6345630288124084, 0.6278673410415649, 0.6255359649658203, 0.6250535249710083, 0.6165882349014282, 0.614693284034729, 0.609455406665802, 0.609455406665802, 0.6023880243301392, 0.6023880243301392, 0.6023880243301392, 0.5976881980895996, 0.5976881980895996, 0.5939991474151611, 0.5939991474151611, 0.5921148061752319, 0.5910413265228271, 0.5910413265228271, 0.5910413265228271, 0.5891399383544922, 0.5824639797210693, 0.5824639797210693, 0.5792683959007263, 0.5787853002548218, 0.5777924656867981, 0.5733552575111389, 0.5733552575111389, 0.5720906257629395, 0.5708724856376648, 0.902313768863678, 0.8876389861106873, 0.8858193755149841, 0.885363757610321, 0.8853596448898315, 0.8729246854782104, 0.8729246854782104, 0.871427059173584, 0.8692731857299805, 0.8692731857299805, 0.8684021830558777, 0.8650003671646118, 0.8597027659416199, 0.8597027659416199, 0.8585407137870789, 0.8584615588188171, 0.8577278256416321, 0.8572389483451843, 0.8541610240936279, 0.8535581827163696, 0.8501156568527222, 0.8477439880371094, 0.8444872498512268, 0.8401123285293579, 0.8392321467399597, 0.8392021656036377, 0.8375958204269409, 0.835565447807312, 0.8351428508758545, 0.8351428508758545, 0.8351428508758545, 0.8337678909301758, 0.8302610516548157, 0.8292921781539917, 0.8282914161682129, 0.8282560706138611, 0.8276181221008301, 0.8270015120506287, 0.8261232376098633, 0.8254881501197815, 0.8245272040367126, 0.9655431509017944, 0.9447877407073975, 0.935768187046051, 0.935768187046051, 0.9291550517082214, 0.9291550517082214, 0.9291550517082214, 0.9289659261703491, 0.9289659261703491, 0.9247556328773499, 0.9242972731590271, 0.9236313104629517, 0.9233186841011047, 0.9210366606712341, 0.9204739928245544, 0.918817937374115, 0.9164205193519592, 0.915560781955719, 0.9151464700698853, 0.9151464700698853, 0.912445604801178, 0.9098291993141174, 0.9098291993141174, 0.9098287224769592, 0.9098277688026428, 0.9055102467536926, 0.9050388336181641, 0.9034640789031982, 0.9023795127868652, 0.9004852175712585, 0.9004852175712585, 0.9004740118980408, 0.8992007374763489, 0.8982205390930176, 0.8980615735054016, 0.8980615735054016, 0.8966937065124512, 0.8962101340293884, 0.8959456086158752, 0.8959456086158752, 0.8957453966140747, 0.9113566875457764, 0.9113566875457764, 0.9113566875457764, 0.9109758734703064, 0.9088978171348572, 0.902083694934845, 0.8943800330162048, 0.8943800330162048, 0.8917328119277954, 0.8915130496025085, 0.887637197971344, 0.8876307010650635, 0.8871257901191711, 0.8871257901191711, 0.8840069770812988, 0.8837002515792847, 0.8836837410926819, 0.8836837410926819, 0.8820935487747192, 0.8816651105880737, 0.8816651105880737, 0.8816179633140564, 0.879523754119873, 0.8786260485649109, 0.8761757016181946, 0.8739051222801208, 0.8715473413467407, 0.8714532852172852, 0.8698538541793823, 0.8697904944419861, 0.8694550395011902, 0.8669881820678711, 0.8665713667869568, 0.8664036989212036, 0.8664036989212036, 0.8651297092437744, 0.8627229332923889, 0.8624431490898132, 0.8607934713363647, 0.8581036925315857, 0.8581036925315857, 0.941044807434082, 0.9049702882766724, 0.8735969066619873, 0.8697414398193359, 0.8598080277442932, 0.8568991422653198, 0.8562560677528381, 0.8532716035842896, 0.8532716035842896, 0.8532716035842896, 0.848628044128418, 0.8476845622062683, 0.8399139642715454, 0.8375478386878967, 0.8369977474212646, 0.8303003907203674, 0.824991762638092, 0.8231710195541382, 0.8228095173835754, 0.8228095173835754, 0.8228095173835754, 0.8228095173835754, 0.8228095173835754, 0.8228095173835754, 0.8228095173835754, 0.8199601769447327, 0.811785101890564, 0.8111628293991089, 0.8075273036956787, 0.8004424571990967, 0.7998285293579102, 0.7988015413284302, 0.7916513681411743, 0.7904887795448303, 0.7892352342605591, 0.7875750660896301, 0.7855673432350159, 0.785086989402771, 0.7809813618659973, 0.7783960700035095, 0.7741310596466064, 0.9504555463790894, 0.9504555463790894, 0.9437255263328552, 0.9437255263328552, 0.9437255263328552, 0.9436104893684387, 0.9435611963272095, 0.9435611963272095, 0.9430609345436096, 0.9430609345436096, 0.9426012635231018, 0.9412376880645752, 0.9392778873443604, 0.9380813837051392, 0.9378530383110046, 0.9355411529541016, 0.9344410300254822, 0.9315664768218994, 0.9299388527870178, 0.9299326539039612, 0.9267171621322632, 0.9265507459640503, 0.9255178570747375, 0.9241387248039246, 0.9240993857383728, 0.9240993857383728, 0.9240715503692627, 0.922311544418335, 0.922311544418335, 0.9215368628501892, 0.9176416397094727, 0.9164515137672424, 0.9146318435668945, 0.9145521521568298, 0.9145521521568298, 0.914188027381897, 0.9121913313865662, 0.9106878638267517, 0.9106709957122803, 0.9102565050125122, 0.9100425839424133, 0.8670473098754883, 0.8470578789710999, 0.8470578789710999, 0.8333282470703125, 0.81464684009552, 0.811013400554657, 0.8051966428756714, 0.8051966428756714, 0.7989689707756042, 0.7968789935112, 0.7856565713882446, 0.7775447368621826, 0.7759096622467041, 0.7756810784339905, 0.771065890789032, 0.7704364657402039, 0.7702500820159912, 0.7702338695526123, 0.7674990296363831, 0.7624788284301758, 0.7624788284301758, 0.7613091468811035, 0.7613091468811035, 0.7613091468811035, 0.7560007572174072, 0.7523486018180847, 0.7493310570716858, 0.7472131252288818, 0.74708491563797, 0.7440081238746643, 0.7440081238746643, 0.7410954236984253, 0.7394727468490601, 0.731000542640686, 0.7293969988822937, 0.7280817031860352, 0.7269503474235535, 0.7260941863059998, 0.7251963019371033, 0.7251963019371033, 0.7217742800712585, 0.9008226990699768, 0.8993932008743286, 0.8962022662162781, 0.8573817014694214, 0.8517812490463257, 0.8498296737670898, 0.8416255116462708, 0.8320069313049316, 0.8319119215011597, 0.8308950066566467, 0.8259336948394775, 0.8258889317512512, 0.8248224258422852, 0.8246505260467529, 0.8231346011161804, 0.8175815343856812, 0.817495584487915, 0.8136366009712219, 0.8112844228744507, 0.8103753328323364, 0.8088736534118652, 0.8082730770111084, 0.8078184723854065, 0.8046273589134216, 0.8043826818466187, 0.8039364218711853, 0.8036253452301025, 0.8030433058738708, 0.8029568791389465, 0.8008818030357361, 0.7983435392379761, 0.7963807582855225, 0.7944965958595276, 0.7907821536064148, 0.78661048412323, 0.7864699959754944, 0.7837203145027161, 0.7833724021911621, 0.7820445895195007, 0.7817519307136536, 0.7799746990203857, 0.8670473098754883, 0.8470578789710999, 0.8470578789710999, 0.8333282470703125, 0.81464684009552, 0.811013400554657, 0.8051966428756714, 0.8051966428756714, 0.7989689707756042, 0.7968789935112, 0.7856565713882446, 0.7775447368621826, 0.7759096622467041, 0.7756810784339905, 0.771065890789032, 0.7704364657402039, 0.7702500820159912, 0.7702338695526123, 0.7674990296363831, 0.7624788284301758, 0.7624788284301758, 0.7613091468811035, 0.7613091468811035, 0.7613091468811035, 0.7560007572174072, 0.7523486018180847, 0.7493310570716858, 0.7472131252288818, 0.74708491563797, 0.7440081238746643, 0.7440081238746643, 0.7410954236984253, 0.7394727468490601, 0.731000542640686, 0.7293969988822937, 0.7280817031860352, 0.7269503474235535, 0.7260941863059998, 0.7251963019371033, 0.7251963019371033, 0.7217742800712585, 0.8193361759185791, 0.8072121143341064, 0.7891817688941956, 0.7858201265335083, 0.7844556570053101, 0.7837492823600769, 0.7786261439323425, 0.771840512752533, 0.7681304216384888, 0.7675527334213257, 0.7631464600563049, 0.7601941823959351, 0.7587066888809204, 0.7570723295211792, 0.7570505738258362, 0.7554484605789185, 0.7533214688301086, 0.751447319984436, 0.7478132247924805, 0.745315670967102, 0.7425234913825989, 0.7420037388801575, 0.7399528622627258, 0.7393447756767273, 0.736484169960022, 0.7360990643501282, 0.7290083169937134, 0.7288807034492493, 0.7288532853126526, 0.7283806800842285, 0.7275432348251343, 0.7267200946807861, 0.7254281044006348, 0.7252786755561829, 0.7252786755561829, 0.7252519130706787, 0.7252519130706787, 0.7193364500999451, 0.7189813852310181, 0.7176285982131958, 0.7176285982131958, 0.9931550025939941, 0.9875522255897522, 0.9845983982086182, 0.9677625298500061, 0.9677625298500061, 0.9677625298500061, 0.9677625298500061, 0.9677625298500061, 0.9677625298500061, 0.9674251079559326, 0.9674251079559326, 0.9674251079559326, 0.9674251079559326, 0.9674251079559326, 0.9674251079559326, 0.9674251079559326, 0.9674251079559326, 0.9674251079559326, 0.9674251079559326, 0.9674251079559326, 0.9674251079559326, 0.9674251079559326, 0.9674251079559326, 0.9674251079559326, 0.9674251079559326, 0.9674251079559326, 0.9674251079559326, 0.9638165831565857, 0.9638165831565857, 0.9567130208015442, 0.9535453915596008, 0.9532657861709595, 0.9531113505363464, 0.9531113505363464, 0.9531113505363464, 0.9530811905860901, 0.9530811905860901, 0.9456075429916382, 0.9456075429916382, 0.9362114667892456, 0.9285978674888611, 0.8636080622673035, 0.781509518623352, 0.781509518623352, 0.7539368271827698, 0.7522793412208557, 0.7371404767036438, 0.7292982935905457, 0.7237126231193542, 0.7237126231193542, 0.7204267382621765, 0.7074812054634094, 0.7046665549278259, 0.695424497127533, 0.6872442960739136, 0.6856618523597717, 0.6809065341949463, 0.678119957447052, 0.6751446723937988, 0.6734520792961121, 0.6734520792961121, 0.6734520792961121, 0.6723355650901794, 0.668543815612793, 0.668543815612793, 0.6645945310592651, 0.6611589789390564, 0.6506251692771912, 0.6502946019172668, 0.6501185894012451, 0.6494035124778748, 0.6474445462226868, 0.6432158350944519, 0.6397607922554016, 0.6387064456939697, 0.638509213924408, 0.6381107568740845, 0.6351104378700256, 0.6351104378700256, 0.6344940662384033, 0.6343284845352173, 0.6343284845352173, 1.0000004768371582, 1.0000004768371582, 0.9534391164779663, 0.9400484561920166, 0.9309914112091064, 0.9174927473068237, 0.9169772267341614, 0.9166197776794434, 0.9164265990257263, 0.9164265990257263, 0.9164265990257263, 0.9140821695327759, 0.9086728692054749, 0.9081358313560486, 0.9070914387702942, 0.9037917256355286, 0.9021090865135193, 0.8957538604736328, 0.8957538604736328, 0.8939449787139893, 0.8939449787139893, 0.8853841423988342, 0.8853841423988342, 0.8853841423988342, 0.8853841423988342, 0.882644534111023, 0.8795487284660339, 0.878632128238678, 0.8784462809562683, 0.8775734305381775, 0.8769951462745667, 0.8769951462745667, 0.8769951462745667, 0.8758160471916199, 0.8728049993515015, 0.8690086007118225, 0.8690086007118225, 0.8666189312934875, 0.8666189312934875, 0.8627001643180847, 0.8627001643180847, 1.000000238418579, 0.9595892429351807, 0.9595892429351807, 0.9595892429351807, 0.9534391164779663, 0.9534391164779663, 0.9521247744560242, 0.9275604486465454, 0.9216688275337219, 0.9185186624526978, 0.9175321459770203, 0.9175321459770203, 0.914767861366272, 0.914767861366272, 0.9145194888114929, 0.9027326107025146, 0.9025645852088928, 0.902073323726654, 0.9008815288543701, 0.8957472443580627, 0.8940995931625366, 0.8940995931625366, 0.8938955664634705, 0.8938955664634705, 0.8933659791946411, 0.8918501734733582, 0.8918501734733582, 0.8912477493286133, 0.8910730481147766, 0.8899394869804382, 0.8899394869804382, 0.889178454875946, 0.8871079087257385, 0.8863208293914795, 0.8847084045410156, 0.8839491605758667, 0.8833892345428467, 0.883194088935852, 0.8805541396141052, 0.8766670823097229, 0.8766670823097229, 0.999999463558197, 0.999999463558197, 0.999999463558197, 0.999999463558197, 0.999999463558197, 0.999999463558197, 0.999999463558197, 0.999999463558197, 0.999999463558197, 0.999999463558197, 0.947310209274292, 0.9186747074127197, 0.9170585870742798, 0.912711501121521, 0.912711501121521, 0.912711501121521, 0.8430882096290588, 0.8210693001747131, 0.8040654063224792, 0.7842317819595337, 0.7759645581245422, 0.768099308013916, 0.7672314047813416, 0.7670911550521851, 0.7670911550521851, 0.7670911550521851, 0.7487908601760864, 0.745082437992096, 0.7426049113273621, 0.7377303242683411, 0.7373743653297424, 0.7355661392211914, 0.7355661392211914, 0.7355661392211914, 0.7355661392211914, 0.7354767918586731, 0.7325494885444641, 0.7282206416130066, 0.7282206416130066, 0.7270994782447815, 0.7267706394195557, 1.0000004768371582, 1.0000004768371582, 0.9534391164779663, 0.9400484561920166, 0.9309914112091064, 0.9174927473068237, 0.9169772267341614, 0.9166197776794434, 0.9164265990257263, 0.9164265990257263, 0.9164265990257263, 0.9140821695327759, 0.9086728692054749, 0.9081358313560486, 0.9070914387702942, 0.9037917256355286, 0.9021090865135193, 0.8957538604736328, 0.8957538604736328, 0.8939449787139893, 0.8939449787139893, 0.8853841423988342, 0.8853841423988342, 0.8853841423988342, 0.8853841423988342, 0.882644534111023, 0.8795487284660339, 0.878632128238678, 0.8784462809562683, 0.8775734305381775, 0.8769951462745667, 0.8769951462745667, 0.8769951462745667, 0.8758160471916199, 0.8728049993515015, 0.8690086007118225, 0.8690086007118225, 0.8666189312934875, 0.8666189312934875, 0.8627001643180847, 0.8627001643180847, 0.9999997615814209, 0.9862945079803467, 0.9434851408004761, 0.8588056564331055, 0.8588056564331055, 0.8585843443870544, 0.8397517204284668, 0.8368287086486816, 0.8365777134895325, 0.8365777134895325, 0.830805242061615, 0.8269087076187134, 0.8232498168945312, 0.8207733035087585, 0.8207733035087585, 0.8158636689186096, 0.8158636689186096, 0.8150973320007324, 0.8145288825035095, 0.8113688826560974, 0.8113688826560974, 0.8113688826560974, 0.81025630235672, 0.81025630235672, 0.8098750114440918, 0.8097389936447144, 0.8055607676506042, 0.8055607676506042, 0.8046715259552002, 0.8042075037956238, 0.8030343651771545, 0.8020780086517334, 0.8005800843238831, 0.8001962900161743, 0.798512876033783, 0.7980184555053711, 0.7953706979751587, 0.7952184081077576, 0.7941972017288208, 0.7936958074569702, 0.7932186126708984, 1.0, 0.9862945079803467, 0.9405273199081421, 0.8605908751487732, 0.8537905812263489, 0.8472704887390137, 0.8448826670646667, 0.8383153676986694, 0.8383153676986694, 0.8364747762680054, 0.8339492082595825, 0.8339492082595825, 0.8312892913818359, 0.831183910369873, 0.831183910369873, 0.8310309648513794, 0.8310309648513794, 0.8260964751243591, 0.8260273337364197, 0.8252034783363342, 0.8252034783363342, 0.8247833251953125, 0.8226462006568909, 0.8226462006568909, 0.8217490911483765, 0.8188887238502502, 0.8186266422271729, 0.8186266422271729, 0.8186266422271729, 0.8177185654640198, 0.8138869404792786, 0.8131338357925415, 0.8123945593833923, 0.812089204788208, 0.8115794062614441, 0.8115794062614441, 0.8114123940467834, 0.8109316229820251, 0.807580292224884, 0.806679904460907, 0.8065957427024841, 0.9999998807907104, 0.9999998807907104, 0.9999998807907104, 0.9999998807907104, 0.9999998807907104, 0.9999998807907104, 0.9999998807907104, 0.9999998807907104, 0.9999998807907104, 0.9999998807907104, 0.9999998807907104, 0.9999998807907104, 0.9999998807907104, 0.9999998807907104, 0.9999998807907104, 0.9999998807907104, 0.9999998807907104, 0.9999998807907104, 0.9999998807907104, 0.9999998807907104, 0.9999998807907104, 0.9999998807907104, 0.9999998807907104, 0.972967803478241, 0.9613728523254395, 0.9613728523254395, 0.9362004399299622, 0.9129226207733154, 0.9062837958335876, 0.8779494762420654, 0.8666660189628601, 0.8643285632133484, 0.8619260787963867, 0.8455942273139954, 0.8380301594734192, 0.8303398489952087, 0.829611599445343, 0.8271430730819702, 0.8260669112205505, 0.8118281960487366, 0.8116471171379089, 0.9999998807907104, 0.9434851408004761, 0.9405273199081421, 0.9071071147918701, 0.9071071147918701, 0.8902333378791809, 0.8876162767410278, 0.8837788701057434, 0.8767561316490173, 0.8767561316490173, 0.8767176270484924, 0.8708304762840271, 0.870400607585907, 0.870400607585907, 0.8650637865066528, 0.8606400489807129, 0.8584194183349609, 0.8571147918701172, 0.8566650748252869, 0.8555000424385071, 0.8555000424385071, 0.8536643385887146, 0.8536643385887146, 0.8523390293121338, 0.8512508869171143, 0.8512508869171143, 0.8499341607093811, 0.8476381897926331, 0.8476381897926331, 0.8476381897926331, 0.8474039435386658, 0.8465844392776489, 0.8464123606681824, 0.8463233113288879, 0.8459651470184326, 0.8449921607971191, 0.8440636992454529, 0.842750072479248, 0.8417471051216125, 0.8406094908714294, 0.8401195406913757, 0.9106928706169128, 0.884456992149353, 0.8708021640777588, 0.8659432530403137, 0.8459126353263855, 0.8454889059066772, 0.8380104303359985, 0.8380104303359985, 0.8378461599349976, 0.830167829990387, 0.8271893262863159, 0.8271628022193909, 0.8248552083969116, 0.8242030143737793, 0.8242030143737793, 0.8233348727226257, 0.822504997253418, 0.8214560151100159, 0.8209594488143921, 0.8194338083267212, 0.818159282207489, 0.8179992437362671, 0.8171154856681824, 0.8171154856681824, 0.8153290152549744, 0.8153290152549744, 0.8146846890449524, 0.8128595352172852, 0.8110212087631226, 0.8110212087631226, 0.8093176484107971, 0.8082921504974365, 0.8082477450370789, 0.8076603412628174, 0.8065601587295532, 0.8065601587295532, 0.805170476436615, 0.8044928908348083, 0.8021101951599121, 0.8013560175895691, 0.8013536930084229, 0.8781576156616211, 0.8552798628807068, 0.8508620262145996, 0.8461229205131531, 0.845173180103302, 0.8450381755828857, 0.8347374200820923, 0.8347374200820923, 0.833316445350647, 0.831912100315094, 0.8263682723045349, 0.8263442516326904, 0.8247760534286499, 0.8240628838539124, 0.8240412473678589, 0.8240412473678589, 0.823907196521759, 0.8233692646026611, 0.823345422744751, 0.8220189809799194, 0.8213071823120117, 0.8213071823120117, 0.8213028311729431, 0.8205605745315552, 0.8195315599441528, 0.8184704184532166, 0.8184142112731934, 0.81767737865448, 0.81767737865448, 0.8167787194252014, 0.8167787194252014, 0.8148117661476135, 0.8145560622215271, 0.8143695592880249, 0.8121824264526367, 0.8121824264526367, 0.8108033537864685, 0.8070847392082214, 0.8032622933387756, 0.801138699054718, 0.801138699054718, 0.7725439667701721, 0.7571637630462646, 0.7474461197853088, 0.7297706604003906, 0.7297706604003906, 0.7297706604003906, 0.7250975370407104, 0.7250975370407104, 0.7250975370407104, 0.7163267731666565, 0.7063988447189331, 0.7020067572593689, 0.6976813673973083, 0.6976813673973083, 0.6943596005439758, 0.6909212470054626, 0.6832448244094849, 0.6816649436950684, 0.6783631443977356, 0.6770001649856567, 0.6750889420509338, 0.6747822165489197, 0.6724348664283752, 0.6716242432594299, 0.6716242432594299, 0.666504979133606, 0.6664314866065979, 0.6661805510520935, 0.6578107476234436, 0.6572372913360596, 0.6566413044929504, 0.6534873843193054, 0.6530561447143555, 0.6530561447143555, 0.6530561447143555, 0.6528613567352295, 0.650067150592804, 0.6493425369262695, 0.648717999458313, 0.6474708318710327, 0.6474708318710327, 0.8959745168685913, 0.893061101436615, 0.8927357196807861, 0.8927357196807861, 0.8874614834785461, 0.8825881481170654, 0.8758754134178162, 0.8757503628730774, 0.8715855479240417, 0.8703731298446655, 0.8698111772537231, 0.8698111772537231, 0.8687440156936646, 0.8654485940933228, 0.8644648194313049, 0.8628888726234436, 0.8623930811882019, 0.8617038726806641, 0.8583405017852783, 0.8583405017852783, 0.8580835461616516, 0.8578738570213318, 0.8547175526618958, 0.8547016382217407, 0.8523765802383423, 0.8476342558860779, 0.8447816371917725, 0.8447816371917725, 0.8445475697517395, 0.8439733982086182, 0.8439733982086182, 0.843457818031311, 0.8411790132522583, 0.8399538397789001, 0.8358154296875, 0.83431077003479, 0.833936870098114, 0.8328113555908203, 0.8328113555908203, 0.8315882086753845, 0.8314228057861328, 0.7097541093826294, 0.6770240068435669, 0.6691205501556396, 0.6629186868667603, 0.6629186868667603, 0.6614552736282349, 0.6614552736282349, 0.6614552736282349, 0.6602901816368103, 0.6602901816368103, 0.6602901816368103, 0.6325456500053406, 0.630370020866394, 0.630370020866394, 0.6086334586143494, 0.6006013751029968, 0.6005598902702332, 0.6005598902702332, 0.5975781679153442, 0.5975781679153442, 0.5975781679153442, 0.5957447290420532, 0.5957447290420532, 0.5936924815177917, 0.5833390355110168, 0.5763813853263855, 0.5738410353660583, 0.5671985149383545, 0.5635524988174438, 0.5633369088172913, 0.5592964887619019, 0.5525688529014587, 0.5492883920669556, 0.5433658957481384, 0.5433658957481384, 0.5433658957481384, 0.5386885404586792, 0.5315549969673157, 0.5315549969673157, 0.5315549969673157, 0.5279161334037781, 0.7097541093826294, 0.6770240068435669, 0.6691205501556396, 0.6629186868667603, 0.6629186868667603, 0.6614552736282349, 0.6614552736282349, 0.6614552736282349, 0.6602901816368103, 0.6602901816368103, 0.6602901816368103, 0.6325456500053406, 0.630370020866394, 0.630370020866394, 0.6086334586143494, 0.6006013751029968, 0.6005598902702332, 0.6005598902702332, 0.5975781679153442, 0.5975781679153442, 0.5975781679153442, 0.5957447290420532, 0.5957447290420532, 0.5936924815177917, 0.5833390355110168, 0.5763813853263855, 0.5738410353660583, 0.5671985149383545, 0.5635524988174438, 0.5633369088172913, 0.5592964887619019, 0.5525688529014587, 0.5492883920669556, 0.5433658957481384, 0.5433658957481384, 0.5433658957481384, 0.5386885404586792, 0.5315549969673157, 0.5315549969673157, 0.5315549969673157, 0.5279161334037781, 0.6708234548568726, 0.6149277687072754, 0.5972597002983093, 0.5899044871330261, 0.575934886932373, 0.568375289440155, 0.5660121440887451, 0.5639468431472778, 0.553621232509613, 0.5494173169136047, 0.5447927117347717, 0.541831374168396, 0.5401683449745178, 0.5217836499214172, 0.521600604057312, 0.5188228487968445, 0.5135974884033203, 0.5128435492515564, 0.5109537243843079, 0.5086055397987366, 0.5062816739082336, 0.49290621280670166, 0.4918205440044403, 0.47863826155662537, 0.47858595848083496, 0.4751509130001068, 0.46851494908332825, 0.46324753761291504, 0.461969792842865, 0.45223912596702576, 0.4510667622089386, 0.4475521147251129, 0.446861207485199, 0.44361060857772827, 0.4434017837047577, 0.4434017837047577, 0.4373212158679962, 0.4372725188732147, 0.4366355240345001, 0.431326687335968, 0.4307963252067566, 0.7575728297233582, 0.7575728297233582, 0.7575728297233582, 0.753419041633606, 0.7340099215507507, 0.7310837507247925, 0.7310837507247925, 0.7310837507247925, 0.7271426320075989, 0.7271426320075989, 0.7271426320075989, 0.71126389503479, 0.7034697532653809, 0.6909622550010681, 0.6908924579620361, 0.6838942766189575, 0.6838942766189575, 0.6831066608428955, 0.6816405057907104, 0.6796318888664246, 0.6792641878128052, 0.6755316257476807, 0.6700055003166199, 0.6698521375656128, 0.6688774824142456, 0.6647915244102478, 0.6647915244102478, 0.6647915244102478, 0.6647915244102478, 0.6618268489837646, 0.6611822843551636, 0.6586388945579529, 0.6575605273246765, 0.6537451148033142, 0.6521484851837158, 0.65029376745224, 0.65029376745224, 0.6489331722259521, 0.6486234664916992, 0.6476514935493469, 0.6475830674171448, 0.9375478029251099, 0.9137736558914185, 0.9113780856132507, 0.9067017436027527, 0.9041213989257812, 0.8997688293457031, 0.8945590257644653, 0.8861123919487, 0.8818530440330505, 0.8762813210487366, 0.8740174770355225, 0.8738999366760254, 0.8729031085968018, 0.8721610307693481, 0.8709045648574829, 0.8700696229934692, 0.8681781888008118, 0.8668372631072998, 0.8668372631072998, 0.8663114905357361, 0.8663114905357361, 0.864600658416748, 0.8636614680290222, 0.8623289465904236, 0.8623289465904236, 0.8572628498077393, 0.8559622764587402, 0.8542988300323486, 0.8532087802886963, 0.8532087802886963, 0.8525822758674622, 0.8525822758674622, 0.8525822758674622, 0.8525822758674622, 0.8508836030960083, 0.8506014347076416, 0.8504977226257324, 0.8504977226257324, 0.8499692678451538, 0.8498618602752686, 0.8498618602752686, 0.9729745984077454, 0.9465469717979431, 0.9401162266731262, 0.9187694191932678, 0.902407169342041, 0.8941015005111694, 0.8941015005111694, 0.8899712562561035, 0.888329803943634, 0.888329803943634, 0.8789021372795105, 0.8789021372795105, 0.8789021372795105, 0.873275637626648, 0.868080735206604, 0.8669496178627014, 0.8651788234710693, 0.8599870800971985, 0.8593524694442749, 0.8588775992393494, 0.8588641285896301, 0.857130765914917, 0.8567396402359009, 0.8565859198570251, 0.8555722236633301, 0.8555722236633301, 0.8538289070129395, 0.8528918027877808, 0.8482828140258789, 0.8482828140258789, 0.8469812273979187, 0.8459337949752808, 0.8453890085220337, 0.8453890085220337, 0.8448789119720459, 0.844125509262085, 0.8431655764579773, 0.842615008354187, 0.8425703048706055, 0.840657114982605, 0.8403979539871216, 0.9564722180366516, 0.9495963454246521, 0.9411641955375671, 0.9386674165725708, 0.9383073449134827, 0.9383073449134827, 0.9367020130157471, 0.9364813566207886, 0.9353173971176147, 0.934838056564331, 0.9321247935295105, 0.9321247935295105, 0.9141579270362854, 0.9127732515335083, 0.9120809435844421, 0.9093396067619324, 0.9086796045303345, 0.9046679139137268, 0.9036054611206055, 0.9036054611206055, 0.9000831246376038, 0.8998060822486877, 0.8996031284332275, 0.8988955020904541, 0.8988549709320068, 0.8988549709320068, 0.8986833691596985, 0.8932477235794067, 0.8923278450965881, 0.8923278450965881, 0.8923278450965881, 0.8922748565673828, 0.8922732472419739, 0.8890185952186584, 0.8863467574119568, 0.8861020803451538, 0.8861020803451538, 0.8861020803451538, 0.8861020803451538, 0.8858562707901001, 0.8853094577789307, 0.9999998807907104, 0.9999998807907104, 0.9999998807907104, 0.9999998807907104, 0.9999998807907104, 0.9999998807907104, 0.9999998807907104, 0.9999998807907104, 0.9999998807907104, 0.9999998807907104, 0.9999998807907104, 0.9999998807907104, 0.9999998807907104, 0.9999998807907104, 0.9999998807907104, 0.9999998807907104, 0.9999998807907104, 0.9999998807907104, 0.9999998807907104, 0.9999998807907104, 0.9999998807907104, 0.9999998807907104, 0.9999998807907104, 0.972967803478241, 0.9613728523254395, 0.9613728523254395, 0.9362004399299622, 0.9129226207733154, 0.9062837958335876, 0.8779494762420654, 0.8666660189628601, 0.8643285632133484, 0.8619260787963867, 0.8455942273139954, 0.8380301594734192, 0.8303398489952087, 0.829611599445343, 0.8271430730819702, 0.8260669112205505, 0.8118281960487366, 0.8116471171379089, 0.9729745984077454, 0.9465469717979431, 0.9401162266731262, 0.9187694191932678, 0.902407169342041, 0.8941015005111694, 0.8941015005111694, 0.8899712562561035, 0.888329803943634, 0.888329803943634, 0.8789021372795105, 0.8789021372795105, 0.8789021372795105, 0.873275637626648, 0.868080735206604, 0.8669496178627014, 0.8651788234710693, 0.8599870800971985, 0.8593524694442749, 0.8588775992393494, 0.8588641285896301, 0.857130765914917, 0.8567396402359009, 0.8565859198570251, 0.8555722236633301, 0.8555722236633301, 0.8538289070129395, 0.8528918027877808, 0.8482828140258789, 0.8482828140258789, 0.8469812273979187, 0.8459337949752808, 0.8453890085220337, 0.8453890085220337, 0.8448789119720459, 0.844125509262085, 0.8431655764579773, 0.842615008354187, 0.8425703048706055, 0.840657114982605, 0.8403979539871216, 0.8633701801300049, 0.8338437080383301, 0.8170576095581055, 0.8105076551437378, 0.8044191002845764, 0.8018266558647156, 0.8014879822731018, 0.8004895448684692, 0.7990082502365112, 0.7955918312072754, 0.7940487861633301, 0.7928646206855774, 0.7900347113609314, 0.7885236144065857, 0.7865659594535828, 0.7861108183860779, 0.7834329605102539, 0.7824269533157349, 0.7806127667427063, 0.7803055644035339, 0.7797555923461914, 0.7797466516494751, 0.7790094614028931, 0.7766309380531311, 0.7749719619750977, 0.7710974216461182, 0.7688527703285217, 0.7686002254486084, 0.7683950662612915, 0.7674245834350586, 0.7673195600509644, 0.7663091421127319, 0.7644851803779602, 0.7644014358520508, 0.7639975547790527, 0.7632136940956116, 0.7626793384552002, 0.7625316977500916, 0.7625086307525635, 0.7602136731147766, 0.7596566677093506, 0.900737464427948, 0.7999315857887268, 0.7604086995124817, 0.7308548092842102, 0.7308548092842102, 0.7082233428955078, 0.7046639919281006, 0.6897798180580139, 0.6897798180580139, 0.6856786608695984, 0.6856786608695984, 0.6739664077758789, 0.6738075613975525, 0.6738075613975525, 0.667219877243042, 0.667219877243042, 0.667219877243042, 0.667219877243042, 0.6658380627632141, 0.6616364121437073, 0.655712902545929, 0.6530517339706421, 0.6530517339706421, 0.6530517339706421, 0.6509082317352295, 0.6509082317352295, 0.6493846774101257, 0.6456218361854553, 0.6391756534576416, 0.6391756534576416, 0.6391756534576416, 0.6387345790863037, 0.6287990212440491, 0.6281857490539551, 0.6250747442245483, 0.6250747442245483, 0.6243518590927124, 0.6213093996047974, 0.6193099021911621, 0.6167480945587158, 0.6142974495887756, 0.9188026785850525, 0.8972423076629639, 0.8966363072395325, 0.8951576948165894, 0.8951576948165894, 0.8855701684951782, 0.8854687809944153, 0.8832255005836487, 0.8749746680259705, 0.8714379072189331, 0.8665950298309326, 0.8640632033348083, 0.8578870892524719, 0.8568727374076843, 0.8568727374076843, 0.8556194305419922, 0.8510428667068481, 0.8499481081962585, 0.8499481081962585, 0.8491151332855225, 0.8490888476371765, 0.8474964499473572, 0.8474964499473572, 0.8461401462554932, 0.8461401462554932, 0.8454963564872742, 0.8413648009300232, 0.8402775526046753, 0.8397307395935059, 0.8389184474945068, 0.8381732702255249, 0.8372178077697754, 0.8359642028808594, 0.8335304260253906, 0.8325494527816772, 0.832188606262207, 0.8318747878074646, 0.8314228057861328, 0.8312182426452637, 0.8303360342979431, 0.8303221464157104, 0.8061487674713135, 0.7836275696754456, 0.7727145552635193, 0.7727145552635193, 0.7693170309066772, 0.7673420906066895, 0.7652745246887207, 0.7605887651443481, 0.7605887651443481, 0.7534720301628113, 0.7530544400215149, 0.7514092922210693, 0.7400062084197998, 0.7365537285804749, 0.7312772870063782, 0.7305927872657776, 0.7300547361373901, 0.7265203595161438, 0.7255343794822693, 0.723490834236145, 0.722991943359375, 0.7222186326980591, 0.7212963104248047, 0.7203118801116943, 0.7198379635810852, 0.719813346862793, 0.7195523977279663, 0.7195523977279663, 0.716764509677887, 0.7163728475570679, 0.716183066368103, 0.7158933877944946, 0.7152318358421326, 0.7146683931350708, 0.7140094041824341, 0.7140094041824341, 0.713679313659668, 0.712159276008606, 0.712159276008606, 0.7081130743026733, 0.7072540521621704, 0.8033453822135925, 0.7797086238861084, 0.7792430520057678, 0.7792430520057678, 0.7747597694396973, 0.771165668964386, 0.771165668964386, 0.769891619682312, 0.7586167454719543, 0.751101553440094, 0.7506141066551208, 0.7459046244621277, 0.7443158030509949, 0.744139552116394, 0.7424731254577637, 0.7370085716247559, 0.7365784049034119, 0.7364597916603088, 0.7347639799118042, 0.7338377833366394, 0.7319719195365906, 0.7300224900245667, 0.7296315431594849, 0.728560745716095, 0.7251003384590149, 0.7194068431854248, 0.7194068431854248, 0.7168891429901123, 0.7167860865592957, 0.7166537642478943, 0.7165777683258057, 0.7141149640083313, 0.7131131291389465, 0.7129738926887512, 0.7113944888114929, 0.7107998132705688, 0.7107998132705688, 0.7101035714149475, 0.7066013813018799, 0.7057148814201355, 0.7056987881660461, 0.8084241151809692, 0.7458487749099731, 0.6677876710891724, 0.6120277643203735, 0.5907439589500427, 0.5463928580284119, 0.5265623927116394, 0.5224798321723938, 0.5072755217552185, 0.5064311027526855, 0.49972888827323914, 0.4967016875743866, 0.4967016875743866, 0.45878246426582336, 0.4568651020526886, 0.4560380280017853, 0.4542483687400818, 0.44588521122932434, 0.4377645254135132, 0.4279649555683136, 0.42679134011268616, 0.42659950256347656, 0.42659950256347656, 0.424649715423584, 0.4239116609096527, 0.4229414761066437, 0.41450461745262146, 0.4144671559333801, 0.4111514091491699, 0.4080943763256073, 0.40527206659317017, 0.3979869782924652, 0.3836119472980499, 0.3746328353881836, 0.36930006742477417, 0.36549311876296997, 0.36454302072525024, 0.36124005913734436, 0.36124005913734436, 0.36062395572662354, 0.35655099153518677, 0.8061487674713135, 0.7836275696754456, 0.7727145552635193, 0.7727145552635193, 0.7693170309066772, 0.7673420906066895, 0.7652745246887207, 0.7605887651443481, 0.7605887651443481, 0.7534720301628113, 0.7530544400215149, 0.7514092922210693, 0.7400062084197998, 0.7365537285804749, 0.7312772870063782, 0.7305927872657776, 0.7300547361373901, 0.7265203595161438, 0.7255343794822693, 0.723490834236145, 0.722991943359375, 0.7222186326980591, 0.7212963104248047, 0.7203118801116943, 0.7198379635810852, 0.719813346862793, 0.7195523977279663, 0.7195523977279663, 0.716764509677887, 0.7163728475570679, 0.716183066368103, 0.7158933877944946, 0.7152318358421326, 0.7146683931350708, 0.7140094041824341, 0.7140094041824341, 0.713679313659668, 0.712159276008606, 0.712159276008606, 0.7081130743026733, 0.7072540521621704, 0.9790974855422974, 0.9751348495483398, 0.9751348495483398, 0.972389817237854, 0.9702276587486267, 0.9702276587486267, 0.9676149487495422, 0.9650301337242126, 0.9626659154891968, 0.9616295695304871, 0.9616295695304871, 0.952365517616272, 0.952365517616272, 0.952365517616272, 0.9520096778869629, 0.9520096778869629, 0.9511178731918335, 0.9511178731918335, 0.9511178731918335, 0.9511090517044067, 0.9511090517044067, 0.9502504467964172, 0.949397623538971, 0.9478272199630737, 0.9478272199630737, 0.9478272199630737, 0.9478272199630737, 0.9462926387786865, 0.9447212219238281, 0.9416500926017761, 0.9406335949897766, 0.9393690228462219, 0.9389563202857971, 0.9384477138519287, 0.9384477138519287, 0.9384477138519287, 0.9380688071250916, 0.9380688071250916, 0.9380688071250916, 0.9346016049385071, 0.9312248826026917, 0.9790974855422974, 0.9751348495483398, 0.9751348495483398, 0.972389817237854, 0.9702276587486267, 0.9702276587486267, 0.9676149487495422, 0.9650301337242126, 0.9626659154891968, 0.9616295695304871, 0.9616295695304871, 0.952365517616272, 0.952365517616272, 0.952365517616272, 0.9520096778869629, 0.9520096778869629, 0.9511178731918335, 0.9511178731918335, 0.9511178731918335, 0.9511090517044067, 0.9511090517044067, 0.9502504467964172, 0.949397623538971, 0.9478272199630737, 0.9478272199630737, 0.9478272199630737, 0.9478272199630737, 0.9462926387786865, 0.9447212219238281, 0.9416500926017761, 0.9406335949897766, 0.9393690228462219, 0.9389563202857971, 0.9384477138519287, 0.9384477138519287, 0.9384477138519287, 0.9380688071250916, 0.9380688071250916, 0.9380688071250916, 0.9346016049385071, 0.9312248826026917, 0.8901403546333313, 0.7674990296363831, 0.7674990296363831, 0.7273250818252563, 0.7273250818252563, 0.7142813801765442, 0.7142813801765442, 0.7138885259628296, 0.7058870196342468, 0.7009807229042053, 0.6741850972175598, 0.673326849937439, 0.673326849937439, 0.6589487791061401, 0.6531893610954285, 0.6400783061981201, 0.6400783061981201, 0.6384868025779724, 0.637130618095398, 0.635215699672699, 0.6341102123260498, 0.6341102123260498, 0.6331135034561157, 0.6279648542404175, 0.6252401471138, 0.6221373677253723, 0.6196976900100708, 0.6196976900100708, 0.6196976900100708, 0.6162854433059692, 0.6133289337158203, 0.6130428910255432, 0.6123712062835693, 0.6074361205101013, 0.6074361205101013, 0.6070140600204468, 0.6053162217140198, 0.6053126454353333, 0.6042361855506897, 0.6009675860404968, 0.5988076329231262, 0.9790974855422974, 0.9751348495483398, 0.9751348495483398, 0.972389817237854, 0.9702276587486267, 0.9702276587486267, 0.9676149487495422, 0.9650301337242126, 0.9626659154891968, 0.9616295695304871, 0.9616295695304871, 0.952365517616272, 0.952365517616272, 0.952365517616272, 0.9520096778869629, 0.9520096778869629, 0.9511178731918335, 0.9511178731918335, 0.9511178731918335, 0.9511090517044067, 0.9511090517044067, 0.9502504467964172, 0.949397623538971, 0.9478272199630737, 0.9478272199630737, 0.9478272199630737, 0.9478272199630737, 0.9462926387786865, 0.9447212219238281, 0.9416500926017761, 0.9406335949897766, 0.9393690228462219, 0.9389563202857971, 0.9384477138519287, 0.9384477138519287, 0.9384477138519287, 0.9380688071250916, 0.9380688071250916, 0.9380688071250916, 0.9346016049385071, 0.9312248826026917, 0.9177151322364807, 0.8925357460975647, 0.8848554491996765, 0.8830148577690125, 0.8779781460762024, 0.874408483505249, 0.873452365398407, 0.8712119460105896, 0.8698548078536987, 0.8669313192367554, 0.8636277318000793, 0.8632981181144714, 0.8631682991981506, 0.8631682991981506, 0.8629906177520752, 0.8629906177520752, 0.8601513504981995, 0.8568299412727356, 0.8565307855606079, 0.8563278317451477, 0.8552250266075134, 0.8551056981086731, 0.8548876643180847, 0.8548876643180847, 0.853495180606842, 0.8530452847480774, 0.8530452847480774, 0.8526180386543274, 0.8526180386543274, 0.8524874448776245, 0.8512700200080872, 0.8504384160041809, 0.8499523997306824, 0.8494881391525269, 0.8493862748146057, 0.8493862748146057, 0.8477452397346497, 0.8472875952720642, 0.846961259841919, 0.846961259841919, 0.8462721705436707, 0.8843317031860352, 0.8703627586364746, 0.8688913583755493, 0.8661577701568604, 0.8651140332221985, 0.8598469495773315, 0.8510007858276367, 0.8508747220039368, 0.8508663177490234, 0.8508663177490234, 0.8500946164131165, 0.8451237678527832, 0.8443643450737, 0.842940092086792, 0.8428975343704224, 0.8427543044090271, 0.8423483967781067, 0.8422948718070984, 0.841496467590332, 0.839496374130249, 0.8386402726173401, 0.8374907970428467, 0.8374907970428467, 0.8374907970428467, 0.8373686671257019, 0.8373686671257019, 0.8371647596359253, 0.8365843892097473, 0.8364158868789673, 0.836020290851593, 0.8359976410865784, 0.834456741809845, 0.834456741809845, 0.8320675492286682, 0.8312971591949463, 0.8284156322479248, 0.8272709250450134, 0.8271093964576721, 0.82623690366745, 0.825359046459198, 0.8248832821846008, 0.8504515290260315, 0.8370930552482605, 0.8308899402618408, 0.8308899402618408, 0.7880279421806335, 0.7831730842590332, 0.7304254770278931, 0.7243818044662476, 0.7233744263648987, 0.722903311252594, 0.7197380065917969, 0.7169103622436523, 0.7100156545639038, 0.7086198329925537, 0.7044858932495117, 0.7040807008743286, 0.6953110098838806, 0.6929614543914795, 0.692236065864563, 0.691123366355896, 0.6908769011497498, 0.6879679560661316, 0.6876195669174194, 0.6814219951629639, 0.67994624376297, 0.6797420382499695, 0.6781738996505737, 0.6736915111541748, 0.6721341013908386, 0.6703340411186218, 0.6635101437568665, 0.6630833745002747, 0.6614213585853577, 0.6554791927337646, 0.6542896628379822, 0.6534773707389832, 0.652631402015686, 0.652631402015686, 0.6456408500671387, 0.6414769887924194, 0.6392182111740112, 0.9308788776397705, 0.9205074906349182, 0.9125671982765198, 0.9037322402000427, 0.9027371406555176, 0.9027371406555176, 0.9010728001594543, 0.9001991748809814, 0.897064745426178, 0.8948237895965576, 0.8915328979492188, 0.8913643956184387, 0.8893293142318726, 0.8893293142318726, 0.8875182867050171, 0.8860024213790894, 0.8851514458656311, 0.8840851187705994, 0.8840851187705994, 0.8817845582962036, 0.8817313313484192, 0.8797029256820679, 0.879628598690033, 0.8791388869285583, 0.8778418302536011, 0.877347469329834, 0.8766871690750122, 0.8760067224502563, 0.8751693964004517, 0.8746857047080994, 0.8737974166870117, 0.8726484775543213, 0.8725683093070984, 0.871722400188446, 0.871722400188446, 0.8712661862373352, 0.8708091974258423, 0.8705968856811523, 0.8697084784507751, 0.8676856160163879, 0.8670384883880615, 0.6998504400253296, 0.6952164769172668, 0.6598554849624634, 0.6594077944755554, 0.6526200771331787, 0.6466779112815857, 0.6461538076400757, 0.6410311460494995, 0.6383401155471802, 0.6383401155471802, 0.6365825533866882, 0.6340945363044739, 0.6339870095252991, 0.6325054168701172, 0.6325054168701172, 0.6324936151504517, 0.6324936151504517, 0.6297977566719055, 0.6297977566719055, 0.628299355506897, 0.6257825493812561, 0.6257825493812561, 0.6257825493812561, 0.6256855726242065, 0.6254029273986816, 0.6253441572189331, 0.6245052814483643, 0.6229674220085144, 0.6229052543640137, 0.6223805546760559, 0.6215409636497498, 0.6206134557723999, 0.6184171438217163, 0.6172249913215637, 0.6138734221458435, 0.6137288808822632, 0.6126430630683899, 0.6111716032028198, 0.6098251342773438, 0.6053705215454102, 0.6039015054702759, 0.7585586905479431, 0.7585586905479431, 0.7065134644508362, 0.6989148259162903, 0.690316379070282, 0.685906708240509, 0.6834476590156555, 0.6821898818016052, 0.6821898818016052, 0.6821898818016052, 0.6803582310676575, 0.6802970767021179, 0.679461658000946, 0.6790004968643188, 0.6790004968643188, 0.6751446723937988, 0.670906662940979, 0.6664571762084961, 0.6626505851745605, 0.6604418158531189, 0.659271776676178, 0.6583456993103027, 0.657982587814331, 0.6555682420730591, 0.6555396914482117, 0.6528109908103943, 0.6528109908103943, 0.6522387862205505, 0.6521240472793579, 0.6511588096618652, 0.6484966278076172, 0.6484966278076172, 0.6480221152305603, 0.6476982831954956, 0.647503674030304, 0.6469268798828125, 0.6464799046516418, 0.6458727717399597, 0.6449858546257019, 0.6447110176086426, 0.6439714431762695, 0.9081854820251465, 0.8899103403091431, 0.8783159852027893, 0.7924110293388367, 0.7488337159156799, 0.7152127027511597, 0.7092105746269226, 0.6852828860282898, 0.6852828860282898, 0.6801260113716125, 0.6725525259971619, 0.6599122285842896, 0.6599122285842896, 0.6179351806640625, 0.6179351806640625, 0.612126350402832, 0.6113914251327515, 0.6113914251327515, 0.5985357165336609, 0.595108687877655, 0.5944756865501404, 0.5944756865501404, 0.5822158455848694, 0.5814881324768066, 0.5802135467529297, 0.578965961933136, 0.5778260827064514, 0.574113130569458, 0.574113130569458, 0.5722503662109375, 0.5685210227966309, 0.5669375658035278, 0.5633600354194641, 0.5627308487892151, 0.5599216818809509, 0.5554441809654236, 0.5548045039176941, 0.5537370443344116, 0.5495620369911194, 0.5489013195037842, 0.5468341708183289, 0.7585586905479431, 0.7585586905479431, 0.7065134644508362, 0.6989148259162903, 0.690316379070282, 0.685906708240509, 0.6834476590156555, 0.6821898818016052, 0.6821898818016052, 0.6821898818016052, 0.6803582310676575, 0.6802970767021179, 0.679461658000946, 0.6790004968643188, 0.6790004968643188, 0.6751446723937988, 0.670906662940979, 0.6664571762084961, 0.6626505851745605, 0.6604418158531189, 0.659271776676178, 0.6583456993103027, 0.657982587814331, 0.6555682420730591, 0.6555396914482117, 0.6528109908103943, 0.6528109908103943, 0.6522387862205505, 0.6521240472793579, 0.6511588096618652, 0.6484966278076172, 0.6484966278076172, 0.6480221152305603, 0.6476982831954956, 0.647503674030304, 0.6469268798828125, 0.6464799046516418, 0.6458727717399597, 0.6449858546257019, 0.6447110176086426, 0.6439714431762695], \"xaxis\": \"x\", \"yaxis\": \"y\"}],\n",
              "                        {\"barmode\": \"relative\", \"legend\": {\"tracegroupgap\": 0}, \"template\": {\"data\": {\"bar\": [{\"error_x\": {\"color\": \"#2a3f5f\"}, \"error_y\": {\"color\": \"#2a3f5f\"}, \"marker\": {\"line\": {\"color\": \"#E5ECF6\", \"width\": 0.5}}, \"type\": \"bar\"}], \"barpolar\": [{\"marker\": {\"line\": {\"color\": \"#E5ECF6\", \"width\": 0.5}}, \"type\": \"barpolar\"}], \"carpet\": [{\"aaxis\": {\"endlinecolor\": \"#2a3f5f\", \"gridcolor\": \"white\", \"linecolor\": \"white\", \"minorgridcolor\": \"white\", \"startlinecolor\": \"#2a3f5f\"}, \"baxis\": {\"endlinecolor\": \"#2a3f5f\", \"gridcolor\": \"white\", \"linecolor\": \"white\", \"minorgridcolor\": \"white\", \"startlinecolor\": \"#2a3f5f\"}, \"type\": \"carpet\"}], \"choropleth\": [{\"colorbar\": {\"outlinewidth\": 0, \"ticks\": \"\"}, \"type\": \"choropleth\"}], \"contour\": [{\"colorbar\": {\"outlinewidth\": 0, \"ticks\": \"\"}, \"colorscale\": [[0.0, \"#0d0887\"], [0.1111111111111111, \"#46039f\"], [0.2222222222222222, \"#7201a8\"], [0.3333333333333333, \"#9c179e\"], [0.4444444444444444, \"#bd3786\"], [0.5555555555555556, \"#d8576b\"], [0.6666666666666666, \"#ed7953\"], [0.7777777777777778, \"#fb9f3a\"], [0.8888888888888888, \"#fdca26\"], [1.0, \"#f0f921\"]], \"type\": \"contour\"}], \"contourcarpet\": [{\"colorbar\": {\"outlinewidth\": 0, \"ticks\": \"\"}, \"type\": \"contourcarpet\"}], \"heatmap\": [{\"colorbar\": {\"outlinewidth\": 0, \"ticks\": \"\"}, \"colorscale\": [[0.0, \"#0d0887\"], [0.1111111111111111, \"#46039f\"], [0.2222222222222222, \"#7201a8\"], [0.3333333333333333, \"#9c179e\"], [0.4444444444444444, \"#bd3786\"], [0.5555555555555556, \"#d8576b\"], [0.6666666666666666, \"#ed7953\"], [0.7777777777777778, \"#fb9f3a\"], [0.8888888888888888, \"#fdca26\"], [1.0, \"#f0f921\"]], \"type\": \"heatmap\"}], \"heatmapgl\": [{\"colorbar\": {\"outlinewidth\": 0, \"ticks\": \"\"}, \"colorscale\": [[0.0, \"#0d0887\"], [0.1111111111111111, \"#46039f\"], [0.2222222222222222, \"#7201a8\"], [0.3333333333333333, \"#9c179e\"], [0.4444444444444444, \"#bd3786\"], [0.5555555555555556, \"#d8576b\"], [0.6666666666666666, \"#ed7953\"], [0.7777777777777778, \"#fb9f3a\"], [0.8888888888888888, \"#fdca26\"], [1.0, \"#f0f921\"]], \"type\": \"heatmapgl\"}], \"histogram\": [{\"marker\": {\"colorbar\": {\"outlinewidth\": 0, \"ticks\": \"\"}}, \"type\": \"histogram\"}], \"histogram2d\": [{\"colorbar\": {\"outlinewidth\": 0, \"ticks\": \"\"}, \"colorscale\": [[0.0, \"#0d0887\"], [0.1111111111111111, \"#46039f\"], [0.2222222222222222, \"#7201a8\"], [0.3333333333333333, \"#9c179e\"], [0.4444444444444444, \"#bd3786\"], [0.5555555555555556, \"#d8576b\"], [0.6666666666666666, \"#ed7953\"], [0.7777777777777778, \"#fb9f3a\"], [0.8888888888888888, \"#fdca26\"], [1.0, \"#f0f921\"]], \"type\": \"histogram2d\"}], \"histogram2dcontour\": [{\"colorbar\": {\"outlinewidth\": 0, \"ticks\": \"\"}, \"colorscale\": [[0.0, \"#0d0887\"], [0.1111111111111111, \"#46039f\"], [0.2222222222222222, \"#7201a8\"], [0.3333333333333333, \"#9c179e\"], [0.4444444444444444, \"#bd3786\"], [0.5555555555555556, \"#d8576b\"], [0.6666666666666666, \"#ed7953\"], [0.7777777777777778, \"#fb9f3a\"], [0.8888888888888888, \"#fdca26\"], [1.0, \"#f0f921\"]], \"type\": \"histogram2dcontour\"}], \"mesh3d\": [{\"colorbar\": {\"outlinewidth\": 0, \"ticks\": \"\"}, \"type\": \"mesh3d\"}], \"parcoords\": [{\"line\": {\"colorbar\": {\"outlinewidth\": 0, \"ticks\": \"\"}}, \"type\": \"parcoords\"}], \"pie\": [{\"automargin\": true, \"type\": \"pie\"}], \"scatter\": [{\"marker\": {\"colorbar\": {\"outlinewidth\": 0, \"ticks\": \"\"}}, \"type\": \"scatter\"}], \"scatter3d\": [{\"line\": {\"colorbar\": {\"outlinewidth\": 0, \"ticks\": \"\"}}, \"marker\": {\"colorbar\": {\"outlinewidth\": 0, \"ticks\": \"\"}}, \"type\": \"scatter3d\"}], \"scattercarpet\": [{\"marker\": {\"colorbar\": {\"outlinewidth\": 0, \"ticks\": \"\"}}, \"type\": \"scattercarpet\"}], \"scattergeo\": [{\"marker\": {\"colorbar\": {\"outlinewidth\": 0, \"ticks\": \"\"}}, \"type\": \"scattergeo\"}], \"scattergl\": [{\"marker\": {\"colorbar\": {\"outlinewidth\": 0, \"ticks\": \"\"}}, \"type\": \"scattergl\"}], \"scattermapbox\": [{\"marker\": {\"colorbar\": {\"outlinewidth\": 0, \"ticks\": \"\"}}, \"type\": \"scattermapbox\"}], \"scatterpolar\": [{\"marker\": {\"colorbar\": {\"outlinewidth\": 0, \"ticks\": \"\"}}, \"type\": \"scatterpolar\"}], \"scatterpolargl\": [{\"marker\": {\"colorbar\": {\"outlinewidth\": 0, \"ticks\": \"\"}}, \"type\": \"scatterpolargl\"}], \"scatterternary\": [{\"marker\": {\"colorbar\": {\"outlinewidth\": 0, \"ticks\": \"\"}}, \"type\": \"scatterternary\"}], \"surface\": [{\"colorbar\": {\"outlinewidth\": 0, \"ticks\": \"\"}, \"colorscale\": [[0.0, \"#0d0887\"], [0.1111111111111111, \"#46039f\"], [0.2222222222222222, \"#7201a8\"], [0.3333333333333333, \"#9c179e\"], [0.4444444444444444, \"#bd3786\"], [0.5555555555555556, \"#d8576b\"], [0.6666666666666666, \"#ed7953\"], [0.7777777777777778, \"#fb9f3a\"], [0.8888888888888888, \"#fdca26\"], [1.0, \"#f0f921\"]], \"type\": \"surface\"}], \"table\": [{\"cells\": {\"fill\": {\"color\": \"#EBF0F8\"}, \"line\": {\"color\": \"white\"}}, \"header\": {\"fill\": {\"color\": \"#C8D4E3\"}, \"line\": {\"color\": \"white\"}}, \"type\": \"table\"}]}, \"layout\": {\"annotationdefaults\": {\"arrowcolor\": \"#2a3f5f\", \"arrowhead\": 0, \"arrowwidth\": 1}, \"coloraxis\": {\"colorbar\": {\"outlinewidth\": 0, \"ticks\": \"\"}}, \"colorscale\": {\"diverging\": [[0, \"#8e0152\"], [0.1, \"#c51b7d\"], [0.2, \"#de77ae\"], [0.3, \"#f1b6da\"], [0.4, \"#fde0ef\"], [0.5, \"#f7f7f7\"], [0.6, \"#e6f5d0\"], [0.7, \"#b8e186\"], [0.8, \"#7fbc41\"], [0.9, \"#4d9221\"], [1, \"#276419\"]], \"sequential\": [[0.0, \"#0d0887\"], [0.1111111111111111, \"#46039f\"], [0.2222222222222222, \"#7201a8\"], [0.3333333333333333, \"#9c179e\"], [0.4444444444444444, \"#bd3786\"], [0.5555555555555556, \"#d8576b\"], [0.6666666666666666, \"#ed7953\"], [0.7777777777777778, \"#fb9f3a\"], [0.8888888888888888, \"#fdca26\"], [1.0, \"#f0f921\"]], \"sequentialminus\": [[0.0, \"#0d0887\"], [0.1111111111111111, \"#46039f\"], [0.2222222222222222, \"#7201a8\"], [0.3333333333333333, \"#9c179e\"], [0.4444444444444444, \"#bd3786\"], [0.5555555555555556, \"#d8576b\"], [0.6666666666666666, \"#ed7953\"], [0.7777777777777778, \"#fb9f3a\"], [0.8888888888888888, \"#fdca26\"], [1.0, \"#f0f921\"]]}, \"colorway\": [\"#636efa\", \"#EF553B\", \"#00cc96\", \"#ab63fa\", \"#FFA15A\", \"#19d3f3\", \"#FF6692\", \"#B6E880\", \"#FF97FF\", \"#FECB52\"], \"font\": {\"color\": \"#2a3f5f\"}, \"geo\": {\"bgcolor\": \"white\", \"lakecolor\": \"white\", \"landcolor\": \"#E5ECF6\", \"showlakes\": true, \"showland\": true, \"subunitcolor\": \"white\"}, \"hoverlabel\": {\"align\": \"left\"}, \"hovermode\": \"closest\", \"mapbox\": {\"style\": \"light\"}, \"paper_bgcolor\": \"white\", \"plot_bgcolor\": \"#E5ECF6\", \"polar\": {\"angularaxis\": {\"gridcolor\": \"white\", \"linecolor\": \"white\", \"ticks\": \"\"}, \"bgcolor\": \"#E5ECF6\", \"radialaxis\": {\"gridcolor\": \"white\", \"linecolor\": \"white\", \"ticks\": \"\"}}, \"scene\": {\"xaxis\": {\"backgroundcolor\": \"#E5ECF6\", \"gridcolor\": \"white\", \"gridwidth\": 2, \"linecolor\": \"white\", \"showbackground\": true, \"ticks\": \"\", \"zerolinecolor\": \"white\"}, \"yaxis\": {\"backgroundcolor\": \"#E5ECF6\", \"gridcolor\": \"white\", \"gridwidth\": 2, \"linecolor\": \"white\", \"showbackground\": true, \"ticks\": \"\", \"zerolinecolor\": \"white\"}, \"zaxis\": {\"backgroundcolor\": \"#E5ECF6\", \"gridcolor\": \"white\", \"gridwidth\": 2, \"linecolor\": \"white\", \"showbackground\": true, \"ticks\": \"\", \"zerolinecolor\": \"white\"}}, \"shapedefaults\": {\"line\": {\"color\": \"#2a3f5f\"}}, \"ternary\": {\"aaxis\": {\"gridcolor\": \"white\", \"linecolor\": \"white\", \"ticks\": \"\"}, \"baxis\": {\"gridcolor\": \"white\", \"linecolor\": \"white\", \"ticks\": \"\"}, \"bgcolor\": \"#E5ECF6\", \"caxis\": {\"gridcolor\": \"white\", \"linecolor\": \"white\", \"ticks\": \"\"}}, \"title\": {\"x\": 0.05}, \"xaxis\": {\"automargin\": true, \"gridcolor\": \"white\", \"linecolor\": \"white\", \"ticks\": \"\", \"title\": {\"standoff\": 15}, \"zerolinecolor\": \"white\", \"zerolinewidth\": 2}, \"yaxis\": {\"automargin\": true, \"gridcolor\": \"white\", \"linecolor\": \"white\", \"ticks\": \"\", \"title\": {\"standoff\": 15}, \"zerolinecolor\": \"white\", \"zerolinewidth\": 2}}}, \"title\": {\"text\": \"LSI Scores\"}, \"xaxis\": {\"anchor\": \"y\", \"domain\": [0.0, 1.0], \"title\": {\"text\": \"score\"}}, \"yaxis\": {\"anchor\": \"x\", \"domain\": [0.0, 1.0], \"title\": {\"text\": \"count\"}}},\n",
              "                        {\"responsive\": true}\n",
              "                    ).then(function(){\n",
              "                            \n",
              "var gd = document.getElementById('0c82d819-aaee-4751-985c-d9f52de74a62');\n",
              "var x = new MutationObserver(function (mutations, observer) {{\n",
              "        var display = window.getComputedStyle(gd).display;\n",
              "        if (!display || display === 'none') {{\n",
              "            console.log([gd, 'removed!']);\n",
              "            Plotly.purge(gd);\n",
              "            observer.disconnect();\n",
              "        }}\n",
              "}});\n",
              "\n",
              "// Listen for the removal of the full notebook cells\n",
              "var notebookContainer = gd.closest('#notebook-container');\n",
              "if (notebookContainer) {{\n",
              "    x.observe(notebookContainer, {childList: true});\n",
              "}}\n",
              "\n",
              "// Listen for the clearing of the current output cell\n",
              "var outputEl = gd.closest('.output');\n",
              "if (outputEl) {{\n",
              "    x.observe(outputEl, {childList: true});\n",
              "}}\n",
              "\n",
              "                        })\n",
              "                };\n",
              "                \n",
              "            </script>\n",
              "        </div>\n",
              "</body>\n",
              "</html>"
            ]
          },
          "metadata": {}
        }
      ]
    },
    {
      "cell_type": "code",
      "metadata": {
        "id": "RX2JvEEGPGgS"
      },
      "source": [
        "if use_wandb:\n",
        "  wandb.log({\"scores_hist\": fig})"
      ],
      "execution_count": 72,
      "outputs": []
    },
    {
      "cell_type": "code",
      "metadata": {
        "colab": {
          "base_uri": "https://localhost:8080/",
          "height": 1000
        },
        "id": "7N81-XfdDFKV",
        "outputId": "35c0b8b8-517c-4419-e266-69021b31761f"
      },
      "source": [
        "result, details = recommend_tune(df_sim, 'These Foolish Things [jazz1350]')\n",
        "result.head(30)"
      ],
      "execution_count": 73,
      "outputs": [
        {
          "output_type": "execute_result",
          "data": {
            "text/html": [
              "<div>\n",
              "<style scoped>\n",
              "    .dataframe tbody tr th:only-of-type {\n",
              "        vertical-align: middle;\n",
              "    }\n",
              "\n",
              "    .dataframe tbody tr th {\n",
              "        vertical-align: top;\n",
              "    }\n",
              "\n",
              "    .dataframe thead th {\n",
              "        text-align: right;\n",
              "    }\n",
              "</style>\n",
              "<table border=\"1\" class=\"dataframe\">\n",
              "  <thead>\n",
              "    <tr style=\"text-align: right;\">\n",
              "      <th></th>\n",
              "      <th>index</th>\n",
              "      <th>reference</th>\n",
              "      <th>reference_titleid</th>\n",
              "      <th>similar_title</th>\n",
              "      <th>score</th>\n",
              "      <th>max</th>\n",
              "      <th>score_div_max</th>\n",
              "      <th>similar_titleid</th>\n",
              "    </tr>\n",
              "  </thead>\n",
              "  <tbody>\n",
              "    <tr>\n",
              "      <th>0</th>\n",
              "      <td>0</td>\n",
              "      <td>These Foolish Things [jazz1350]</td>\n",
              "      <td>1168</td>\n",
              "      <td>Mountain Greenery [jazz1350]</td>\n",
              "      <td>0.900199</td>\n",
              "      <td>0.930879</td>\n",
              "      <td>1.000000</td>\n",
              "      <td>833</td>\n",
              "    </tr>\n",
              "    <tr>\n",
              "      <th>1</th>\n",
              "      <td>1</td>\n",
              "      <td>These Foolish Things [jazz1350]</td>\n",
              "      <td>1168</td>\n",
              "      <td>Way You Look Tonight, The [jazz1350]</td>\n",
              "      <td>0.930879</td>\n",
              "      <td>0.930879</td>\n",
              "      <td>1.000000</td>\n",
              "      <td>1253</td>\n",
              "    </tr>\n",
              "    <tr>\n",
              "      <th>2</th>\n",
              "      <td>2</td>\n",
              "      <td>These Foolish Things [jazz1350]</td>\n",
              "      <td>1168</td>\n",
              "      <td>More Than You Know [jazz1350]</td>\n",
              "      <td>0.850452</td>\n",
              "      <td>0.850452</td>\n",
              "      <td>1.000000</td>\n",
              "      <td>829</td>\n",
              "    </tr>\n",
              "    <tr>\n",
              "      <th>3</th>\n",
              "      <td>3</td>\n",
              "      <td>These Foolish Things [jazz1350]</td>\n",
              "      <td>1168</td>\n",
              "      <td>Party's Over, The [jazz1350]</td>\n",
              "      <td>0.920507</td>\n",
              "      <td>0.930879</td>\n",
              "      <td>0.988859</td>\n",
              "      <td>935</td>\n",
              "    </tr>\n",
              "    <tr>\n",
              "      <th>4</th>\n",
              "      <td>4</td>\n",
              "      <td>These Foolish Things [jazz1350]</td>\n",
              "      <td>1168</td>\n",
              "      <td>Isn't It A Pity [jazz1350]</td>\n",
              "      <td>0.837093</td>\n",
              "      <td>0.884332</td>\n",
              "      <td>0.984292</td>\n",
              "      <td>616</td>\n",
              "    </tr>\n",
              "    <tr>\n",
              "      <th>5</th>\n",
              "      <td>5</td>\n",
              "      <td>These Foolish Things [jazz1350]</td>\n",
              "      <td>1168</td>\n",
              "      <td>I Like The Likes Of You [jazz1350]</td>\n",
              "      <td>0.902737</td>\n",
              "      <td>0.930879</td>\n",
              "      <td>0.982540</td>\n",
              "      <td>516</td>\n",
              "    </tr>\n",
              "    <tr>\n",
              "      <th>6</th>\n",
              "      <td>6</td>\n",
              "      <td>These Foolish Things [jazz1350]</td>\n",
              "      <td>1168</td>\n",
              "      <td>I Won't Dance [jazz1350]</td>\n",
              "      <td>0.894824</td>\n",
              "      <td>0.930879</td>\n",
              "      <td>0.978269</td>\n",
              "      <td>540</td>\n",
              "    </tr>\n",
              "    <tr>\n",
              "      <th>7</th>\n",
              "      <td>7</td>\n",
              "      <td>These Foolish Things [jazz1350]</td>\n",
              "      <td>1168</td>\n",
              "      <td>Rosetta [jazz1350]</td>\n",
              "      <td>0.830890</td>\n",
              "      <td>0.850452</td>\n",
              "      <td>0.976999</td>\n",
              "      <td>996</td>\n",
              "    </tr>\n",
              "    <tr>\n",
              "      <th>8</th>\n",
              "      <td>8</td>\n",
              "      <td>These Foolish Things [jazz1350]</td>\n",
              "      <td>1168</td>\n",
              "      <td>Rosetta [trad]</td>\n",
              "      <td>0.830890</td>\n",
              "      <td>0.850452</td>\n",
              "      <td>0.976999</td>\n",
              "      <td>1676</td>\n",
              "    </tr>\n",
              "    <tr>\n",
              "      <th>9</th>\n",
              "      <td>9</td>\n",
              "      <td>These Foolish Things [jazz1350]</td>\n",
              "      <td>1168</td>\n",
              "      <td>They All Laughed [jazz1350]</td>\n",
              "      <td>0.903732</td>\n",
              "      <td>0.930879</td>\n",
              "      <td>0.970838</td>\n",
              "      <td>1169</td>\n",
              "    </tr>\n",
              "    <tr>\n",
              "      <th>10</th>\n",
              "      <td>10</td>\n",
              "      <td>These Foolish Things [jazz1350]</td>\n",
              "      <td>1168</td>\n",
              "      <td>Heart And Soul [jazz1350]</td>\n",
              "      <td>0.901073</td>\n",
              "      <td>0.930879</td>\n",
              "      <td>0.967981</td>\n",
              "      <td>457</td>\n",
              "    </tr>\n",
              "    <tr>\n",
              "      <th>11</th>\n",
              "      <td>11</td>\n",
              "      <td>These Foolish Things [jazz1350]</td>\n",
              "      <td>1168</td>\n",
              "      <td>And The Angels Sing [jazz1350]</td>\n",
              "      <td>0.897065</td>\n",
              "      <td>0.930879</td>\n",
              "      <td>0.963675</td>\n",
              "      <td>78</td>\n",
              "    </tr>\n",
              "    <tr>\n",
              "      <th>12</th>\n",
              "      <td>12</td>\n",
              "      <td>These Foolish Things [jazz1350]</td>\n",
              "      <td>1168</td>\n",
              "      <td>Too Young To Go Steady [jazz1350]</td>\n",
              "      <td>0.851001</td>\n",
              "      <td>0.884332</td>\n",
              "      <td>0.962309</td>\n",
              "      <td>1203</td>\n",
              "    </tr>\n",
              "    <tr>\n",
              "      <th>13</th>\n",
              "      <td>13</td>\n",
              "      <td>These Foolish Things [jazz1350]</td>\n",
              "      <td>1168</td>\n",
              "      <td>Let's Fall In Love [jazz1350]</td>\n",
              "      <td>0.891364</td>\n",
              "      <td>0.930879</td>\n",
              "      <td>0.962188</td>\n",
              "      <td>708</td>\n",
              "    </tr>\n",
              "    <tr>\n",
              "      <th>14</th>\n",
              "      <td>14</td>\n",
              "      <td>These Foolish Things [jazz1350]</td>\n",
              "      <td>1168</td>\n",
              "      <td>Haunted Heart [jazz1350]</td>\n",
              "      <td>0.850875</td>\n",
              "      <td>0.884332</td>\n",
              "      <td>0.962167</td>\n",
              "      <td>454</td>\n",
              "    </tr>\n",
              "    <tr>\n",
              "      <th>15</th>\n",
              "      <td>15</td>\n",
              "      <td>These Foolish Things [jazz1350]</td>\n",
              "      <td>1168</td>\n",
              "      <td>Wouldn't It Be Loverly [jazz1350]</td>\n",
              "      <td>0.881731</td>\n",
              "      <td>0.930879</td>\n",
              "      <td>0.961285</td>\n",
              "      <td>1301</td>\n",
              "    </tr>\n",
              "    <tr>\n",
              "      <th>16</th>\n",
              "      <td>16</td>\n",
              "      <td>These Foolish Things [jazz1350]</td>\n",
              "      <td>1168</td>\n",
              "      <td>Why Do I Love You [jazz1350]</td>\n",
              "      <td>0.891533</td>\n",
              "      <td>0.930879</td>\n",
              "      <td>0.957732</td>\n",
              "      <td>1286</td>\n",
              "    </tr>\n",
              "    <tr>\n",
              "      <th>17</th>\n",
              "      <td>17</td>\n",
              "      <td>These Foolish Things [jazz1350]</td>\n",
              "      <td>1168</td>\n",
              "      <td>Long Ago And Far Away [jazz1350]</td>\n",
              "      <td>0.889329</td>\n",
              "      <td>0.930879</td>\n",
              "      <td>0.955365</td>\n",
              "      <td>738</td>\n",
              "    </tr>\n",
              "    <tr>\n",
              "      <th>18</th>\n",
              "      <td>18</td>\n",
              "      <td>These Foolish Things [jazz1350]</td>\n",
              "      <td>1168</td>\n",
              "      <td>It's A Lovely Day Today [jazz1350]</td>\n",
              "      <td>0.879139</td>\n",
              "      <td>0.930879</td>\n",
              "      <td>0.954805</td>\n",
              "      <td>632</td>\n",
              "    </tr>\n",
              "    <tr>\n",
              "      <th>19</th>\n",
              "      <td>19</td>\n",
              "      <td>These Foolish Things [jazz1350]</td>\n",
              "      <td>1168</td>\n",
              "      <td>Over The Rainbow (Somewhere) [jazz1350]</td>\n",
              "      <td>0.887518</td>\n",
              "      <td>0.930879</td>\n",
              "      <td>0.953420</td>\n",
              "      <td>928</td>\n",
              "    </tr>\n",
              "    <tr>\n",
              "      <th>20</th>\n",
              "      <td>20</td>\n",
              "      <td>These Foolish Things [jazz1350]</td>\n",
              "      <td>1168</td>\n",
              "      <td>Beyond The Sea [jazz1350]</td>\n",
              "      <td>0.874686</td>\n",
              "      <td>0.930879</td>\n",
              "      <td>0.953194</td>\n",
              "      <td>134</td>\n",
              "    </tr>\n",
              "    <tr>\n",
              "      <th>21</th>\n",
              "      <td>21</td>\n",
              "      <td>These Foolish Things [jazz1350]</td>\n",
              "      <td>1168</td>\n",
              "      <td>People [jazz1350]</td>\n",
              "      <td>0.856830</td>\n",
              "      <td>0.917715</td>\n",
              "      <td>0.953146</td>\n",
              "      <td>948</td>\n",
              "    </tr>\n",
              "    <tr>\n",
              "      <th>22</th>\n",
              "      <td>22</td>\n",
              "      <td>These Foolish Things [jazz1350]</td>\n",
              "      <td>1168</td>\n",
              "      <td>I've Got My Fingers Crossed [trad]</td>\n",
              "      <td>0.855225</td>\n",
              "      <td>0.917715</td>\n",
              "      <td>0.952984</td>\n",
              "      <td>1549</td>\n",
              "    </tr>\n",
              "    <tr>\n",
              "      <th>23</th>\n",
              "      <td>23</td>\n",
              "      <td>These Foolish Things [jazz1350]</td>\n",
              "      <td>1168</td>\n",
              "      <td>Bewitched [jazz1350]</td>\n",
              "      <td>0.877347</td>\n",
              "      <td>0.930879</td>\n",
              "      <td>0.952525</td>\n",
              "      <td>132</td>\n",
              "    </tr>\n",
              "    <tr>\n",
              "      <th>24</th>\n",
              "      <td>24</td>\n",
              "      <td>These Foolish Things [jazz1350]</td>\n",
              "      <td>1168</td>\n",
              "      <td>I Loves You Porgy [jazz1350]</td>\n",
              "      <td>0.842295</td>\n",
              "      <td>0.884332</td>\n",
              "      <td>0.952465</td>\n",
              "      <td>520</td>\n",
              "    </tr>\n",
              "    <tr>\n",
              "      <th>25</th>\n",
              "      <td>25</td>\n",
              "      <td>These Foolish Things [jazz1350]</td>\n",
              "      <td>1168</td>\n",
              "      <td>Dinah [jazz1350]</td>\n",
              "      <td>0.886002</td>\n",
              "      <td>0.930879</td>\n",
              "      <td>0.951791</td>\n",
              "      <td>308</td>\n",
              "    </tr>\n",
              "    <tr>\n",
              "      <th>26</th>\n",
              "      <td>26</td>\n",
              "      <td>These Foolish Things [jazz1350]</td>\n",
              "      <td>1168</td>\n",
              "      <td>Time After Time [jazz1350]</td>\n",
              "      <td>0.841496</td>\n",
              "      <td>0.884332</td>\n",
              "      <td>0.951562</td>\n",
              "      <td>1191</td>\n",
              "    </tr>\n",
              "    <tr>\n",
              "      <th>27</th>\n",
              "      <td>27</td>\n",
              "      <td>These Foolish Things [jazz1350]</td>\n",
              "      <td>1168</td>\n",
              "      <td>Fools Rush In [jazz1350]</td>\n",
              "      <td>0.885151</td>\n",
              "      <td>0.930879</td>\n",
              "      <td>0.950877</td>\n",
              "      <td>391</td>\n",
              "    </tr>\n",
              "    <tr>\n",
              "      <th>28</th>\n",
              "      <td>28</td>\n",
              "      <td>These Foolish Things [jazz1350]</td>\n",
              "      <td>1168</td>\n",
              "      <td>Jeepers Creepers [jazz1350]</td>\n",
              "      <td>0.884085</td>\n",
              "      <td>0.930879</td>\n",
              "      <td>0.949732</td>\n",
              "      <td>651</td>\n",
              "    </tr>\n",
              "    <tr>\n",
              "      <th>29</th>\n",
              "      <td>29</td>\n",
              "      <td>These Foolish Things [jazz1350]</td>\n",
              "      <td>1168</td>\n",
              "      <td>Hundred Years From Today, A [trad]</td>\n",
              "      <td>0.839496</td>\n",
              "      <td>0.884332</td>\n",
              "      <td>0.949300</td>\n",
              "      <td>1514</td>\n",
              "    </tr>\n",
              "  </tbody>\n",
              "</table>\n",
              "</div>"
            ],
            "text/plain": [
              "    index                        reference  ...  score_div_max similar_titleid\n",
              "0       0  These Foolish Things [jazz1350]  ...       1.000000             833\n",
              "1       1  These Foolish Things [jazz1350]  ...       1.000000            1253\n",
              "2       2  These Foolish Things [jazz1350]  ...       1.000000             829\n",
              "3       3  These Foolish Things [jazz1350]  ...       0.988859             935\n",
              "4       4  These Foolish Things [jazz1350]  ...       0.984292             616\n",
              "5       5  These Foolish Things [jazz1350]  ...       0.982540             516\n",
              "6       6  These Foolish Things [jazz1350]  ...       0.978269             540\n",
              "7       7  These Foolish Things [jazz1350]  ...       0.976999             996\n",
              "8       8  These Foolish Things [jazz1350]  ...       0.976999            1676\n",
              "9       9  These Foolish Things [jazz1350]  ...       0.970838            1169\n",
              "10     10  These Foolish Things [jazz1350]  ...       0.967981             457\n",
              "11     11  These Foolish Things [jazz1350]  ...       0.963675              78\n",
              "12     12  These Foolish Things [jazz1350]  ...       0.962309            1203\n",
              "13     13  These Foolish Things [jazz1350]  ...       0.962188             708\n",
              "14     14  These Foolish Things [jazz1350]  ...       0.962167             454\n",
              "15     15  These Foolish Things [jazz1350]  ...       0.961285            1301\n",
              "16     16  These Foolish Things [jazz1350]  ...       0.957732            1286\n",
              "17     17  These Foolish Things [jazz1350]  ...       0.955365             738\n",
              "18     18  These Foolish Things [jazz1350]  ...       0.954805             632\n",
              "19     19  These Foolish Things [jazz1350]  ...       0.953420             928\n",
              "20     20  These Foolish Things [jazz1350]  ...       0.953194             134\n",
              "21     21  These Foolish Things [jazz1350]  ...       0.953146             948\n",
              "22     22  These Foolish Things [jazz1350]  ...       0.952984            1549\n",
              "23     23  These Foolish Things [jazz1350]  ...       0.952525             132\n",
              "24     24  These Foolish Things [jazz1350]  ...       0.952465             520\n",
              "25     25  These Foolish Things [jazz1350]  ...       0.951791             308\n",
              "26     26  These Foolish Things [jazz1350]  ...       0.951562            1191\n",
              "27     27  These Foolish Things [jazz1350]  ...       0.950877             391\n",
              "28     28  These Foolish Things [jazz1350]  ...       0.949732             651\n",
              "29     29  These Foolish Things [jazz1350]  ...       0.949300            1514\n",
              "\n",
              "[30 rows x 8 columns]"
            ]
          },
          "metadata": {},
          "execution_count": 73
        }
      ]
    },
    {
      "cell_type": "code",
      "metadata": {
        "id": "15ZsHOQmyyah"
      },
      "source": [
        "dd = pd.DataFrame(columns = recommender_results_cols)\n",
        "\n",
        "for tune in tunes_eval_list:\n",
        "  result, details = recommend_tune(df_sim, tune)\n",
        "  dd['id'] = result['index']\n",
        "  dd['reference'] = tune\n",
        "  dd['method'] = 'lsi'\n",
        "  dd['similar'] = result['similar_title']\n",
        "  dd['score_div_max'] = result['score_div_max']\n",
        "  dd['score'] = result['score']\n",
        "\n",
        "recommender_results = recommender_results.append(dd)"
      ],
      "execution_count": 74,
      "outputs": []
    },
    {
      "cell_type": "markdown",
      "metadata": {
        "id": "Ojrjp11ni6Pl"
      },
      "source": [
        "### Tests for Contrafacts"
      ]
    },
    {
      "cell_type": "code",
      "metadata": {
        "colab": {
          "base_uri": "https://localhost:8080/"
        },
        "id": "D0_7m1qji6A-",
        "outputId": "59c33e1b-b99f-4c81-ee14-7f91a3aeb85f"
      },
      "source": [
        "topN = 15\n",
        "matches, results = test_contrafacts(contrafacts, index_lsi, lsi, topN)\n",
        "\n",
        "[print(f\"{val}: {rr}\") for rr, val in results.items()] \n",
        "print() \n",
        "print(f\"Found matches: {matches} out of {len(contrafacts)}: {100*matches/len(contrafacts):.3f}%\")"
      ],
      "execution_count": 75,
      "outputs": [
        {
          "output_type": "stream",
          "name": "stdout",
          "text": [
            "1: 26-2 [jazz1350]\n",
            "0: 52nd Street Theme [jazz1350]\n",
            "1: Ablution [jazz1350]\n",
            "1: Anthropology [jazz1350]\n",
            "0: Ballade [jazz1350]\n",
            "1: Bright Mississippi [jazz1350]\n",
            "1: C.T.A. [jazz1350]\n",
            "1: Cottontail [jazz1350]\n",
            "1: Countdown [jazz1350]\n",
            "0: Dewey Square [jazz1350]\n",
            "1: Dexterity [jazz1350]\n",
            "1: Dig [jazz1350]\n",
            "1: Donna Lee [jazz1350]\n",
            "0: Don't Be That Way [jazz1350]\n",
            "1: Evidence [jazz1350]\n",
            "1: Flintstones [jazz1350]\n",
            "0: Four On Six [jazz1350]\n",
            "1: Freight Train [jazz1350]\n",
            "0: Good Bait [jazz1350]\n",
            "1: Hackensack [jazz1350]\n",
            "1: Half Nelson [jazz1350]\n",
            "1: Hot House [jazz1350]\n",
            "1: Impressions [jazz1350]\n",
            "1: In A Mellow Tone (In A Mellotone) [jazz1350]\n",
            "1: In Walked Bud [jazz1350]\n",
            "1: Ko Ko [jazz1350]\n",
            "0: Lennie's Pennies [jazz1350]\n",
            "0: Little Rootie Tootie [jazz1350]\n",
            "0: Little Willie Leaps [jazz1350]\n",
            "0: Lullaby Of Birdland [jazz1350]\n",
            "0: My Little Suede Shoes [jazz1350]\n",
            "1: Ornithology [jazz1350]\n",
            "0: Quasimodo (Theme) [jazz1350]\n",
            "0: Room 608 [jazz1350]\n",
            "1: Satellite [jazz1350]\n",
            "1: Scrapple From The Apple [jazz1350]\n",
            "1: Tour De Force [jazz1350]\n",
            "1: Wow [jazz1350]\n",
            "1: Yardbird Suite [jazz1350]\n",
            "0: Sweet Sue, Just You [jazz1350]\n",
            "1: These Foolish Things [jazz1350]\n",
            "0: Misty [jazz1350]\n",
            "\n",
            "Found matches: 27 out of 42: 64.286%\n"
          ]
        }
      ]
    },
    {
      "cell_type": "code",
      "metadata": {
        "id": "RS7LsLASi5-f"
      },
      "source": [
        "model_name = 'lsi'\n",
        "if use_wandb:\n",
        "  wandb.log(\n",
        "      {model_name: {\n",
        "                'contrafacts': {\n",
        "                    'topN': topN,\n",
        "                    'success': matches/len(contrafacts),\n",
        "                    #'results': results\n",
        "                    }\n",
        "                   },\n",
        "       'all_models': {\n",
        "           model_name: wandb.Table(\n",
        "               columns=[\"Title\", \"Match\"],\n",
        "               data=[[key, value] for key, value in results.items()]),\n",
        "       }\n",
        "       })"
      ],
      "execution_count": 76,
      "outputs": []
    },
    {
      "cell_type": "markdown",
      "metadata": {
        "id": "AjZArSmyooWt"
      },
      "source": [
        "### Get Recommender Data for WebApp"
      ]
    },
    {
      "cell_type": "code",
      "metadata": {
        "colab": {
          "base_uri": "https://localhost:8080/"
        },
        "id": "JOBtj15donxK",
        "outputId": "51fbb07d-533f-46f9-e329-c74321a33a16"
      },
      "source": [
        "%%time\n",
        "if generate_webapp_data:\n",
        "  _tunes = list(tunes['title_playlist'].values())\n",
        "\n",
        "  df_sim = get_sim_scores(_tunes, index=index_lsi, model=lsi)\n",
        "\n",
        "  result = None\n",
        "  for tune in _tunes:\n",
        "    tune_result, details = recommend_tune(df_sim, tune)\n",
        "    if result is None:\n",
        "      result = pd.DataFrame(columns=tune_result.columns)\n",
        "    result = result.append(tune_result)\n",
        "\n",
        "  # save to file\n",
        "  result.to_csv('output/recommender_lsi.csv', sep='\\t', encoding='utf8')\n",
        "\n",
        "  # save to W&B\n",
        "  if use_wandb:\n",
        "    model_artifact = wandb.Artifact(\n",
        "        \"recommender_lsi\", \n",
        "        type=\"csv\",\n",
        "        description=\"Recommendations for each Tune using LSI Model (csv file)\",\n",
        "        metadata=\"\")\n",
        "\n",
        "    model_artifact.add_file('output/recommender_lsi.csv')\n",
        "    wandb.log_artifact(model_artifact)"
      ],
      "execution_count": 77,
      "outputs": [
        {
          "output_type": "stream",
          "name": "stdout",
          "text": [
            "CPU times: user 4 µs, sys: 0 ns, total: 4 µs\n",
            "Wall time: 8.11 µs\n"
          ]
        }
      ]
    },
    {
      "cell_type": "markdown",
      "metadata": {
        "id": "lTQKfd0xQQ65"
      },
      "source": [
        "## Store Model to W&B"
      ]
    },
    {
      "cell_type": "code",
      "metadata": {
        "id": "RfAYF7ArQUXo"
      },
      "source": [
        "if use_wandb:\n",
        "  model_artifact = wandb.Artifact(\n",
        "      \"model_lsi\", \n",
        "      type=\"model\",\n",
        "      description=\"LSI model\",\n",
        "      metadata=\"\")\n",
        "\n",
        "  model_artifact.add_file(\"/content/index/lsi.model\")\n",
        "  model_artifact.add_file(\"/content/index/lsi_matrixsim.index\")\n",
        "  model_artifact.add_file(\"/content/index/lsi.model.projection\")\n",
        "  wandb.log_artifact(model_artifact)"
      ],
      "execution_count": 78,
      "outputs": []
    },
    {
      "cell_type": "markdown",
      "metadata": {
        "id": "asScIocQRMPA"
      },
      "source": [
        "## Determine Number of Topics for LSI Model\n",
        "\n",
        "This sample comes from Datacamp: \n",
        "\n",
        "https://www.datacamp.com/community/tutorials/discovering-hidden-topics-python\n"
      ]
    },
    {
      "cell_type": "markdown",
      "metadata": {
        "id": "1TPNWFEPSxZ-"
      },
      "source": [
        "What is the best way to determine k (number of topics) in topic modeling? Identify the optimum number of topics in the given corpus text is a challenging task. We can use the following options for determining the optimum number of topics:\n",
        "\n",
        "* One way to determine the optimum number of topics is to consider each topic as a cluster and find out the effectiveness of a cluster using the Silhouette coefficient.\n",
        "* Topic coherence measure is a realistic measure for identifying the number of topics.\n",
        "\n",
        "Topic Coherence measure is a widely used metric to evaluate topic models. It uses the latent variable models. Each generated topic has a list of words. In topic coherence measure, you will find average/median of pairwise word similarity scores of the words in a topic. The high value of topic coherence score model will be considered as a good topic model. "
      ]
    },
    {
      "cell_type": "code",
      "metadata": {
        "id": "umpCyQQzRLgv"
      },
      "source": [
        "def prepare_corpus(doc_clean):\n",
        "    \"\"\"\n",
        "    Input  : clean document\n",
        "    Purpose: create term dictionary of our courpus and Converting list of documents (corpus) into Document Term Matrix\n",
        "    Output : term dictionary and Document Term Matrix\n",
        "    \"\"\"\n",
        "    # Creating the term dictionary of our courpus, where every unique term is assigned an index. dictionary = corpora.Dictionary(doc_clean)\n",
        "    dictionary = corpora.Dictionary(doc_clean)\n",
        "    # Converting list of documents (corpus) into Document Term Matrix using dictionary prepared above.\n",
        "    doc_term_matrix = [dictionary.doc2bow(doc) for doc in doc_clean]\n",
        "    # generate LDA model\n",
        "    return dictionary, doc_term_matrix"
      ],
      "execution_count": 79,
      "outputs": []
    },
    {
      "cell_type": "code",
      "metadata": {
        "id": "aS2wxIEERcul"
      },
      "source": [
        "def compute_coherence_values(dictionary, doc_term_matrix, doc_clean, stop, start=2, step=3):\n",
        "    \"\"\"\n",
        "    Input   : dictionary : Gensim dictionary\n",
        "              corpus : Gensim corpus\n",
        "              texts : List of input texts\n",
        "              stop : Max num of topics\n",
        "    purpose : Compute c_v coherence for various number of topics\n",
        "    Output  : model_list : List of LSA topic models\n",
        "              coherence_values : Coherence values corresponding to the LDA model with respective number of topics\n",
        "    \"\"\"\n",
        "    coherence_values = []\n",
        "    model_list = []\n",
        "    for num_topics in range(start, stop, step):\n",
        "        # generate LSA model\n",
        "        model = LsiModel(doc_term_matrix, num_topics=num_topics, id2word = dictionary)  # train model\n",
        "        model_list.append(model)\n",
        "        coherencemodel = CoherenceModel(model=model, texts=doc_clean, dictionary=dictionary, coherence='c_v')\n",
        "        coherence_values.append(coherencemodel.get_coherence())\n",
        "    return model_list, coherence_values"
      ],
      "execution_count": 80,
      "outputs": []
    },
    {
      "cell_type": "code",
      "metadata": {
        "id": "DjyzAzWBRfrH"
      },
      "source": [
        "def plot_graph(doc_clean,start, stop, step):\n",
        "    dictionary, doc_term_matrix = prepare_corpus(doc_clean)\n",
        "    model_list, coherence_values = compute_coherence_values(dictionary, doc_term_matrix,doc_clean,\n",
        "                                                            stop, start, step)\n",
        "    # Show graph\n",
        "    x = range(start, stop, step)\n",
        "    plt.plot(x, coherence_values)\n",
        "    plt.xlabel(\"Number of Topics\")\n",
        "    plt.ylabel(\"Coherence score\")\n",
        "    plt.legend((\"coherence_values\"), loc='best')\n",
        "    plt.show()"
      ],
      "execution_count": 81,
      "outputs": []
    },
    {
      "cell_type": "code",
      "metadata": {
        "id": "qy9ZjdcmRhxs"
      },
      "source": [
        "# evaluate a good number of topics for the LSI Model. This takes some time.\n",
        "\n",
        "if False:\n",
        "\n",
        "  start, stop, step = 1, 500, 10\n",
        "  plot_graph(data, start, stop, step)"
      ],
      "execution_count": 82,
      "outputs": []
    },
    {
      "cell_type": "markdown",
      "metadata": {
        "id": "Qo5NgBHFlqgg"
      },
      "source": [
        "For unigrams, the best number of topics seems to be around 20.\n",
        "\n",
        "For unigrams plus bigrams, the coherence score drops down until 100 and then continuously rises until 500 and continues to rise. Same for bigrams-only."
      ]
    },
    {
      "cell_type": "markdown",
      "metadata": {
        "id": "rF_INicGhXKd"
      },
      "source": [
        "# Doc2Vec"
      ]
    },
    {
      "cell_type": "code",
      "metadata": {
        "id": "wflSccBshkIk"
      },
      "source": [
        "def get_tagged_documents(corpus, tags=None):\n",
        "  if tags == 'SectionsTunes':\n",
        "    print('Tagging input data with both section and tune information.')\n",
        "  else:\n",
        "    print('Tagging input data with section informaiton only.')\n",
        "    \n",
        "  for i, tokens in enumerate(corpus):\n",
        "    if tags == 'SectionsTunes':\n",
        "      yield gensim.models.doc2vec.TaggedDocument(tokens, [i, f'titleid_{sectionid_to_titleid[i]}'])\n",
        "    else:\n",
        "      yield gensim.models.doc2vec.TaggedDocument(tokens, [i])  # diatonic chord distance is a bit better"
      ],
      "execution_count": 83,
      "outputs": []
    },
    {
      "cell_type": "code",
      "metadata": {
        "colab": {
          "base_uri": "https://localhost:8080/"
        },
        "id": "_u0RdBI1kYD9",
        "outputId": "7110b9e6-1ac9-44cd-ad50-fce394f02ad7"
      },
      "source": [
        "train_corpus = list(get_tagged_documents(processed_corpus, doc2vec_config['general']['document_tags']))\n",
        "train_corpus[1000]"
      ],
      "execution_count": 84,
      "outputs": [
        {
          "output_type": "stream",
          "name": "stdout",
          "text": [
            "Tagging input data with both section and tune information.\n"
          ]
        },
        {
          "output_type": "execute_result",
          "data": {
            "text/plain": [
              "TaggedDocument(words=['C', 'Am', 'Dm', 'G7', 'C', 'F', 'C', 'Am', 'Dm', 'G7', 'C', 'Dm', 'G7', 'C-Am', 'Am-Dm', 'Dm-G7', 'G7-C', 'C-F', 'F-C', 'C-Am', 'Am-Dm', 'Dm-G7', 'G7-C', 'C-Dm', 'Dm-G7'], tags=[1000, 'titleid_308'])"
            ]
          },
          "metadata": {},
          "execution_count": 84
        }
      ]
    },
    {
      "cell_type": "code",
      "metadata": {
        "colab": {
          "base_uri": "https://localhost:8080/"
        },
        "id": "M9adPoy9reaw",
        "outputId": "996db211-821e-417a-d206-050d04dada96"
      },
      "source": [
        "import multiprocessing\n",
        "\n",
        "print(f\"CPU Count: {multiprocessing.cpu_count()}\")\n",
        "print(f\"Config:\")\n",
        "print(doc2vec_config['model'])\n",
        "\n",
        "model = Doc2Vec(train_corpus,\n",
        "                **doc2vec_config['model']\n",
        "                )"
      ],
      "execution_count": 85,
      "outputs": [
        {
          "output_type": "stream",
          "name": "stderr",
          "text": [
            "2021-11-26 22:05:36,267 : INFO : collecting all words and their counts\n",
            "2021-11-26 22:05:36,268 : INFO : PROGRESS: at example #0, processed 0 words (0/s), 0 word types, 0 tags\n",
            "2021-11-26 22:05:36,332 : INFO : collected 1990 word types and 7200 unique tags from a corpus of 5391 examples and 159853 words\n",
            "2021-11-26 22:05:36,337 : INFO : Creating a fresh vocabulary\n",
            "2021-11-26 22:05:36,354 : INFO : Doc2Vec lifecycle event {'msg': 'effective_min_count=1 retains 1990 unique words (100.0%% of original 1990, drops 0)', 'datetime': '2021-11-26T22:05:36.353993', 'gensim': '4.1.2', 'python': '3.7.12 (default, Sep 10 2021, 00:21:48) \\n[GCC 7.5.0]', 'platform': 'Linux-5.4.104+-x86_64-with-Ubuntu-18.04-bionic', 'event': 'prepare_vocab'}\n",
            "2021-11-26 22:05:36,356 : INFO : Doc2Vec lifecycle event {'msg': 'effective_min_count=1 leaves 159853 word corpus (100.0%% of original 159853, drops 0)', 'datetime': '2021-11-26T22:05:36.356260', 'gensim': '4.1.2', 'python': '3.7.12 (default, Sep 10 2021, 00:21:48) \\n[GCC 7.5.0]', 'platform': 'Linux-5.4.104+-x86_64-with-Ubuntu-18.04-bionic', 'event': 'prepare_vocab'}\n",
            "2021-11-26 22:05:36,376 : INFO : deleting the raw counts dictionary of 1990 items\n",
            "2021-11-26 22:05:36,378 : INFO : sample=0.001 downsamples 66 most-common words\n",
            "2021-11-26 22:05:36,381 : INFO : Doc2Vec lifecycle event {'msg': 'downsampling leaves estimated 81489.3396584987 word corpus (51.0%% of prior 159853)', 'datetime': '2021-11-26T22:05:36.381485', 'gensim': '4.1.2', 'python': '3.7.12 (default, Sep 10 2021, 00:21:48) \\n[GCC 7.5.0]', 'platform': 'Linux-5.4.104+-x86_64-with-Ubuntu-18.04-bionic', 'event': 'prepare_vocab'}\n",
            "2021-11-26 22:05:36,412 : INFO : estimated required memory for 1990 words and 100 dimensions: 6907000 bytes\n",
            "2021-11-26 22:05:36,415 : INFO : resetting layer weights\n"
          ]
        },
        {
          "output_type": "stream",
          "name": "stdout",
          "text": [
            "CPU Count: 2\n",
            "Config:\n",
            "{'dm': 1, 'vector_size': 100, 'window': 4, 'epochs': 40, 'min_count': 1, 'negative': 10, 'sample': 0.001, 'seed': 42}\n"
          ]
        },
        {
          "output_type": "stream",
          "name": "stderr",
          "text": [
            "2021-11-26 22:05:36,429 : INFO : Doc2Vec lifecycle event {'msg': 'training model with 3 workers on 1990 vocabulary and 100 features, using sg=0 hs=0 sample=0.001 negative=10 window=4 shrink_windows=True', 'datetime': '2021-11-26T22:05:36.429629', 'gensim': '4.1.2', 'python': '3.7.12 (default, Sep 10 2021, 00:21:48) \\n[GCC 7.5.0]', 'platform': 'Linux-5.4.104+-x86_64-with-Ubuntu-18.04-bionic', 'event': 'train'}\n",
            "2021-11-26 22:05:37,283 : INFO : worker thread finished; awaiting finish of 2 more threads\n",
            "2021-11-26 22:05:37,300 : INFO : worker thread finished; awaiting finish of 1 more threads\n",
            "2021-11-26 22:05:37,324 : INFO : worker thread finished; awaiting finish of 0 more threads\n",
            "2021-11-26 22:05:37,326 : INFO : EPOCH - 1 : training on 159853 raw words (92047 effective words) took 0.9s, 104195 effective words/s\n",
            "2021-11-26 22:05:38,337 : INFO : worker thread finished; awaiting finish of 2 more threads\n",
            "2021-11-26 22:05:38,348 : INFO : EPOCH 2 - PROGRESS: at 95.55% examples, 86748 words/s, in_qsize 1, out_qsize 1\n",
            "2021-11-26 22:05:38,352 : INFO : worker thread finished; awaiting finish of 1 more threads\n",
            "2021-11-26 22:05:38,383 : INFO : worker thread finished; awaiting finish of 0 more threads\n",
            "2021-11-26 22:05:38,385 : INFO : EPOCH - 2 : training on 159853 raw words (92411 effective words) took 1.0s, 88406 effective words/s\n",
            "2021-11-26 22:05:39,316 : INFO : worker thread finished; awaiting finish of 2 more threads\n",
            "2021-11-26 22:05:39,335 : INFO : worker thread finished; awaiting finish of 1 more threads\n",
            "2021-11-26 22:05:39,353 : INFO : worker thread finished; awaiting finish of 0 more threads\n",
            "2021-11-26 22:05:39,355 : INFO : EPOCH - 3 : training on 159853 raw words (92288 effective words) took 1.0s, 96582 effective words/s\n",
            "2021-11-26 22:05:40,230 : INFO : worker thread finished; awaiting finish of 2 more threads\n",
            "2021-11-26 22:05:40,249 : INFO : worker thread finished; awaiting finish of 1 more threads\n",
            "2021-11-26 22:05:40,283 : INFO : worker thread finished; awaiting finish of 0 more threads\n",
            "2021-11-26 22:05:40,286 : INFO : EPOCH - 4 : training on 159853 raw words (92512 effective words) took 0.9s, 100517 effective words/s\n",
            "2021-11-26 22:05:41,225 : INFO : worker thread finished; awaiting finish of 2 more threads\n",
            "2021-11-26 22:05:41,235 : INFO : worker thread finished; awaiting finish of 1 more threads\n",
            "2021-11-26 22:05:41,268 : INFO : worker thread finished; awaiting finish of 0 more threads\n",
            "2021-11-26 22:05:41,270 : INFO : EPOCH - 5 : training on 159853 raw words (92237 effective words) took 1.0s, 95331 effective words/s\n",
            "2021-11-26 22:05:42,172 : INFO : worker thread finished; awaiting finish of 2 more threads\n",
            "2021-11-26 22:05:42,188 : INFO : worker thread finished; awaiting finish of 1 more threads\n",
            "2021-11-26 22:05:42,220 : INFO : worker thread finished; awaiting finish of 0 more threads\n",
            "2021-11-26 22:05:42,221 : INFO : EPOCH - 6 : training on 159853 raw words (92318 effective words) took 0.9s, 98841 effective words/s\n",
            "2021-11-26 22:05:43,064 : INFO : worker thread finished; awaiting finish of 2 more threads\n",
            "2021-11-26 22:05:43,082 : INFO : worker thread finished; awaiting finish of 1 more threads\n",
            "2021-11-26 22:05:43,108 : INFO : worker thread finished; awaiting finish of 0 more threads\n",
            "2021-11-26 22:05:43,110 : INFO : EPOCH - 7 : training on 159853 raw words (92566 effective words) took 0.9s, 105270 effective words/s\n",
            "2021-11-26 22:05:43,998 : INFO : worker thread finished; awaiting finish of 2 more threads\n",
            "2021-11-26 22:05:44,025 : INFO : worker thread finished; awaiting finish of 1 more threads\n",
            "2021-11-26 22:05:44,043 : INFO : worker thread finished; awaiting finish of 0 more threads\n",
            "2021-11-26 22:05:44,046 : INFO : EPOCH - 8 : training on 159853 raw words (92327 effective words) took 0.9s, 100342 effective words/s\n",
            "2021-11-26 22:05:44,917 : INFO : worker thread finished; awaiting finish of 2 more threads\n",
            "2021-11-26 22:05:44,919 : INFO : worker thread finished; awaiting finish of 1 more threads\n",
            "2021-11-26 22:05:44,950 : INFO : worker thread finished; awaiting finish of 0 more threads\n",
            "2021-11-26 22:05:44,952 : INFO : EPOCH - 9 : training on 159853 raw words (92217 effective words) took 0.9s, 102997 effective words/s\n",
            "2021-11-26 22:05:45,856 : INFO : worker thread finished; awaiting finish of 2 more threads\n",
            "2021-11-26 22:05:45,862 : INFO : worker thread finished; awaiting finish of 1 more threads\n",
            "2021-11-26 22:05:45,894 : INFO : worker thread finished; awaiting finish of 0 more threads\n",
            "2021-11-26 22:05:45,896 : INFO : EPOCH - 10 : training on 159853 raw words (92168 effective words) took 0.9s, 98666 effective words/s\n",
            "2021-11-26 22:05:46,745 : INFO : worker thread finished; awaiting finish of 2 more threads\n",
            "2021-11-26 22:05:46,756 : INFO : worker thread finished; awaiting finish of 1 more threads\n",
            "2021-11-26 22:05:46,780 : INFO : worker thread finished; awaiting finish of 0 more threads\n",
            "2021-11-26 22:05:46,781 : INFO : EPOCH - 11 : training on 159853 raw words (92417 effective words) took 0.9s, 105749 effective words/s\n",
            "2021-11-26 22:05:47,587 : INFO : worker thread finished; awaiting finish of 2 more threads\n",
            "2021-11-26 22:05:47,601 : INFO : worker thread finished; awaiting finish of 1 more threads\n",
            "2021-11-26 22:05:47,626 : INFO : worker thread finished; awaiting finish of 0 more threads\n",
            "2021-11-26 22:05:47,628 : INFO : EPOCH - 12 : training on 159853 raw words (92423 effective words) took 0.8s, 110983 effective words/s\n",
            "2021-11-26 22:05:48,443 : INFO : worker thread finished; awaiting finish of 2 more threads\n",
            "2021-11-26 22:05:48,475 : INFO : worker thread finished; awaiting finish of 1 more threads\n",
            "2021-11-26 22:05:48,496 : INFO : worker thread finished; awaiting finish of 0 more threads\n",
            "2021-11-26 22:05:48,498 : INFO : EPOCH - 13 : training on 159853 raw words (92303 effective words) took 0.9s, 107348 effective words/s\n",
            "2021-11-26 22:05:49,336 : INFO : worker thread finished; awaiting finish of 2 more threads\n",
            "2021-11-26 22:05:49,344 : INFO : worker thread finished; awaiting finish of 1 more threads\n",
            "2021-11-26 22:05:49,371 : INFO : worker thread finished; awaiting finish of 0 more threads\n",
            "2021-11-26 22:05:49,372 : INFO : EPOCH - 14 : training on 159853 raw words (92394 effective words) took 0.9s, 106820 effective words/s\n",
            "2021-11-26 22:05:50,168 : INFO : worker thread finished; awaiting finish of 2 more threads\n",
            "2021-11-26 22:05:50,175 : INFO : worker thread finished; awaiting finish of 1 more threads\n",
            "2021-11-26 22:05:50,200 : INFO : worker thread finished; awaiting finish of 0 more threads\n",
            "2021-11-26 22:05:50,202 : INFO : EPOCH - 15 : training on 159853 raw words (92319 effective words) took 0.8s, 112752 effective words/s\n",
            "2021-11-26 22:05:51,129 : INFO : worker thread finished; awaiting finish of 2 more threads\n",
            "2021-11-26 22:05:51,143 : INFO : worker thread finished; awaiting finish of 1 more threads\n",
            "2021-11-26 22:05:51,160 : INFO : worker thread finished; awaiting finish of 0 more threads\n",
            "2021-11-26 22:05:51,161 : INFO : EPOCH - 16 : training on 159853 raw words (92479 effective words) took 0.9s, 97560 effective words/s\n",
            "2021-11-26 22:05:52,022 : INFO : worker thread finished; awaiting finish of 2 more threads\n",
            "2021-11-26 22:05:52,039 : INFO : worker thread finished; awaiting finish of 1 more threads\n",
            "2021-11-26 22:05:52,059 : INFO : worker thread finished; awaiting finish of 0 more threads\n",
            "2021-11-26 22:05:52,060 : INFO : EPOCH - 17 : training on 159853 raw words (92192 effective words) took 0.9s, 104234 effective words/s\n",
            "2021-11-26 22:05:52,932 : INFO : worker thread finished; awaiting finish of 2 more threads\n",
            "2021-11-26 22:05:52,941 : INFO : worker thread finished; awaiting finish of 1 more threads\n",
            "2021-11-26 22:05:52,963 : INFO : worker thread finished; awaiting finish of 0 more threads\n",
            "2021-11-26 22:05:52,965 : INFO : EPOCH - 18 : training on 159853 raw words (92370 effective words) took 0.9s, 103488 effective words/s\n",
            "2021-11-26 22:05:53,997 : INFO : EPOCH 19 - PROGRESS: at 90.86% examples, 80783 words/s, in_qsize 2, out_qsize 2\n",
            "2021-11-26 22:05:54,012 : INFO : worker thread finished; awaiting finish of 2 more threads\n",
            "2021-11-26 22:05:54,026 : INFO : worker thread finished; awaiting finish of 1 more threads\n",
            "2021-11-26 22:05:54,047 : INFO : worker thread finished; awaiting finish of 0 more threads\n",
            "2021-11-26 22:05:54,049 : INFO : EPOCH - 19 : training on 159853 raw words (92116 effective words) took 1.1s, 86041 effective words/s\n",
            "2021-11-26 22:05:54,997 : INFO : worker thread finished; awaiting finish of 2 more threads\n",
            "2021-11-26 22:05:55,010 : INFO : worker thread finished; awaiting finish of 1 more threads\n",
            "2021-11-26 22:05:55,051 : INFO : worker thread finished; awaiting finish of 0 more threads\n",
            "2021-11-26 22:05:55,052 : INFO : EPOCH - 20 : training on 159853 raw words (92441 effective words) took 1.0s, 93514 effective words/s\n",
            "2021-11-26 22:05:55,955 : INFO : worker thread finished; awaiting finish of 2 more threads\n",
            "2021-11-26 22:05:55,967 : INFO : worker thread finished; awaiting finish of 1 more threads\n",
            "2021-11-26 22:05:55,990 : INFO : worker thread finished; awaiting finish of 0 more threads\n",
            "2021-11-26 22:05:55,991 : INFO : EPOCH - 21 : training on 159853 raw words (92372 effective words) took 0.9s, 99927 effective words/s\n",
            "2021-11-26 22:05:56,758 : INFO : worker thread finished; awaiting finish of 2 more threads\n",
            "2021-11-26 22:05:56,769 : INFO : worker thread finished; awaiting finish of 1 more threads\n",
            "2021-11-26 22:05:56,800 : INFO : worker thread finished; awaiting finish of 0 more threads\n",
            "2021-11-26 22:05:56,801 : INFO : EPOCH - 22 : training on 159853 raw words (92215 effective words) took 0.8s, 115607 effective words/s\n",
            "2021-11-26 22:05:57,689 : INFO : worker thread finished; awaiting finish of 2 more threads\n",
            "2021-11-26 22:05:57,709 : INFO : worker thread finished; awaiting finish of 1 more threads\n",
            "2021-11-26 22:05:57,733 : INFO : worker thread finished; awaiting finish of 0 more threads\n",
            "2021-11-26 22:05:57,735 : INFO : EPOCH - 23 : training on 159853 raw words (92319 effective words) took 0.9s, 100710 effective words/s\n",
            "2021-11-26 22:05:58,500 : INFO : worker thread finished; awaiting finish of 2 more threads\n",
            "2021-11-26 22:05:58,511 : INFO : worker thread finished; awaiting finish of 1 more threads\n",
            "2021-11-26 22:05:58,537 : INFO : worker thread finished; awaiting finish of 0 more threads\n",
            "2021-11-26 22:05:58,539 : INFO : EPOCH - 24 : training on 159853 raw words (92361 effective words) took 0.8s, 116791 effective words/s\n",
            "2021-11-26 22:05:59,346 : INFO : worker thread finished; awaiting finish of 2 more threads\n",
            "2021-11-26 22:05:59,352 : INFO : worker thread finished; awaiting finish of 1 more threads\n",
            "2021-11-26 22:05:59,379 : INFO : worker thread finished; awaiting finish of 0 more threads\n",
            "2021-11-26 22:05:59,381 : INFO : EPOCH - 25 : training on 159853 raw words (92268 effective words) took 0.8s, 111641 effective words/s\n",
            "2021-11-26 22:06:00,198 : INFO : worker thread finished; awaiting finish of 2 more threads\n",
            "2021-11-26 22:06:00,206 : INFO : worker thread finished; awaiting finish of 1 more threads\n",
            "2021-11-26 22:06:00,231 : INFO : worker thread finished; awaiting finish of 0 more threads\n",
            "2021-11-26 22:06:00,232 : INFO : EPOCH - 26 : training on 159853 raw words (92439 effective words) took 0.8s, 110137 effective words/s\n",
            "2021-11-26 22:06:01,172 : INFO : worker thread finished; awaiting finish of 2 more threads\n",
            "2021-11-26 22:06:01,185 : INFO : worker thread finished; awaiting finish of 1 more threads\n",
            "2021-11-26 22:06:01,208 : INFO : worker thread finished; awaiting finish of 0 more threads\n",
            "2021-11-26 22:06:01,209 : INFO : EPOCH - 27 : training on 159853 raw words (92191 effective words) took 1.0s, 95565 effective words/s\n",
            "2021-11-26 22:06:02,019 : INFO : worker thread finished; awaiting finish of 2 more threads\n",
            "2021-11-26 22:06:02,032 : INFO : worker thread finished; awaiting finish of 1 more threads\n",
            "2021-11-26 22:06:02,057 : INFO : worker thread finished; awaiting finish of 0 more threads\n",
            "2021-11-26 22:06:02,058 : INFO : EPOCH - 28 : training on 159853 raw words (92315 effective words) took 0.8s, 110189 effective words/s\n",
            "2021-11-26 22:06:02,832 : INFO : worker thread finished; awaiting finish of 2 more threads\n",
            "2021-11-26 22:06:02,841 : INFO : worker thread finished; awaiting finish of 1 more threads\n",
            "2021-11-26 22:06:02,865 : INFO : worker thread finished; awaiting finish of 0 more threads\n",
            "2021-11-26 22:06:02,866 : INFO : EPOCH - 29 : training on 159853 raw words (92178 effective words) took 0.8s, 115832 effective words/s\n",
            "2021-11-26 22:06:03,610 : INFO : worker thread finished; awaiting finish of 2 more threads\n",
            "2021-11-26 22:06:03,621 : INFO : worker thread finished; awaiting finish of 1 more threads\n",
            "2021-11-26 22:06:03,639 : INFO : worker thread finished; awaiting finish of 0 more threads\n",
            "2021-11-26 22:06:03,641 : INFO : EPOCH - 30 : training on 159853 raw words (92328 effective words) took 0.8s, 121186 effective words/s\n",
            "2021-11-26 22:06:04,421 : INFO : worker thread finished; awaiting finish of 2 more threads\n",
            "2021-11-26 22:06:04,431 : INFO : worker thread finished; awaiting finish of 1 more threads\n",
            "2021-11-26 22:06:04,459 : INFO : worker thread finished; awaiting finish of 0 more threads\n",
            "2021-11-26 22:06:04,461 : INFO : EPOCH - 31 : training on 159853 raw words (92357 effective words) took 0.8s, 114751 effective words/s\n",
            "2021-11-26 22:06:05,358 : INFO : worker thread finished; awaiting finish of 2 more threads\n",
            "2021-11-26 22:06:05,368 : INFO : worker thread finished; awaiting finish of 1 more threads\n",
            "2021-11-26 22:06:05,390 : INFO : worker thread finished; awaiting finish of 0 more threads\n",
            "2021-11-26 22:06:05,391 : INFO : EPOCH - 32 : training on 159853 raw words (92032 effective words) took 0.9s, 100157 effective words/s\n",
            "2021-11-26 22:06:06,241 : INFO : worker thread finished; awaiting finish of 2 more threads\n",
            "2021-11-26 22:06:06,258 : INFO : worker thread finished; awaiting finish of 1 more threads\n",
            "2021-11-26 22:06:06,282 : INFO : worker thread finished; awaiting finish of 0 more threads\n",
            "2021-11-26 22:06:06,285 : INFO : EPOCH - 33 : training on 159853 raw words (92491 effective words) took 0.9s, 105384 effective words/s\n",
            "2021-11-26 22:06:07,061 : INFO : worker thread finished; awaiting finish of 2 more threads\n",
            "2021-11-26 22:06:07,064 : INFO : worker thread finished; awaiting finish of 1 more threads\n",
            "2021-11-26 22:06:07,100 : INFO : worker thread finished; awaiting finish of 0 more threads\n",
            "2021-11-26 22:06:07,103 : INFO : EPOCH - 34 : training on 159853 raw words (92458 effective words) took 0.8s, 114218 effective words/s\n",
            "2021-11-26 22:06:07,919 : INFO : worker thread finished; awaiting finish of 2 more threads\n",
            "2021-11-26 22:06:07,931 : INFO : worker thread finished; awaiting finish of 1 more threads\n",
            "2021-11-26 22:06:07,957 : INFO : worker thread finished; awaiting finish of 0 more threads\n",
            "2021-11-26 22:06:07,960 : INFO : EPOCH - 35 : training on 159853 raw words (92252 effective words) took 0.8s, 109942 effective words/s\n",
            "2021-11-26 22:06:08,839 : INFO : worker thread finished; awaiting finish of 2 more threads\n",
            "2021-11-26 22:06:08,853 : INFO : worker thread finished; awaiting finish of 1 more threads\n",
            "2021-11-26 22:06:08,871 : INFO : worker thread finished; awaiting finish of 0 more threads\n",
            "2021-11-26 22:06:08,874 : INFO : EPOCH - 36 : training on 159853 raw words (92188 effective words) took 0.9s, 102002 effective words/s\n",
            "2021-11-26 22:06:09,824 : INFO : worker thread finished; awaiting finish of 2 more threads\n",
            "2021-11-26 22:06:09,848 : INFO : worker thread finished; awaiting finish of 1 more threads\n",
            "2021-11-26 22:06:09,868 : INFO : worker thread finished; awaiting finish of 0 more threads\n",
            "2021-11-26 22:06:09,870 : INFO : EPOCH - 37 : training on 159853 raw words (92230 effective words) took 1.0s, 94602 effective words/s\n",
            "2021-11-26 22:06:10,716 : INFO : worker thread finished; awaiting finish of 2 more threads\n",
            "2021-11-26 22:06:10,727 : INFO : worker thread finished; awaiting finish of 1 more threads\n",
            "2021-11-26 22:06:10,748 : INFO : worker thread finished; awaiting finish of 0 more threads\n",
            "2021-11-26 22:06:10,749 : INFO : EPOCH - 38 : training on 159853 raw words (92185 effective words) took 0.9s, 106203 effective words/s\n",
            "2021-11-26 22:06:11,601 : INFO : worker thread finished; awaiting finish of 2 more threads\n",
            "2021-11-26 22:06:11,611 : INFO : worker thread finished; awaiting finish of 1 more threads\n",
            "2021-11-26 22:06:11,637 : INFO : worker thread finished; awaiting finish of 0 more threads\n",
            "2021-11-26 22:06:11,639 : INFO : EPOCH - 39 : training on 159853 raw words (92211 effective words) took 0.9s, 105047 effective words/s\n",
            "2021-11-26 22:06:12,477 : INFO : worker thread finished; awaiting finish of 2 more threads\n",
            "2021-11-26 22:06:12,491 : INFO : worker thread finished; awaiting finish of 1 more threads\n",
            "2021-11-26 22:06:12,517 : INFO : worker thread finished; awaiting finish of 0 more threads\n",
            "2021-11-26 22:06:12,519 : INFO : EPOCH - 40 : training on 159853 raw words (92049 effective words) took 0.9s, 106267 effective words/s\n",
            "2021-11-26 22:06:12,524 : INFO : Doc2Vec lifecycle event {'msg': 'training on 6394120 raw words (3691984 effective words) took 36.1s, 102296 effective words/s', 'datetime': '2021-11-26T22:06:12.524879', 'gensim': '4.1.2', 'python': '3.7.12 (default, Sep 10 2021, 00:21:48) \\n[GCC 7.5.0]', 'platform': 'Linux-5.4.104+-x86_64-with-Ubuntu-18.04-bionic', 'event': 'train'}\n",
            "2021-11-26 22:06:12,526 : INFO : Doc2Vec lifecycle event {'params': 'Doc2Vec(dm/m,d100,n10,w4,s0.001,t3)', 'datetime': '2021-11-26T22:06:12.526893', 'gensim': '4.1.2', 'python': '3.7.12 (default, Sep 10 2021, 00:21:48) \\n[GCC 7.5.0]', 'platform': 'Linux-5.4.104+-x86_64-with-Ubuntu-18.04-bionic', 'event': 'created'}\n"
          ]
        }
      ]
    },
    {
      "cell_type": "code",
      "metadata": {
        "id": "G-cE7gug1Ct5",
        "colab": {
          "base_uri": "https://localhost:8080/"
        },
        "outputId": "60da35f6-aa6e-4c7c-8dc7-e541dc1fb864"
      },
      "source": [
        "if use_wandb:\n",
        "  model_artifact = wandb.Artifact(\n",
        "      \"model_doc2vec\", \n",
        "      type=\"model\",\n",
        "      description=\"Doc2Vec model\",\n",
        "      metadata=\"\")\n",
        "\n",
        "  fname = 'doc2vec.model'\n",
        "  model.save(fname)\n",
        "\n",
        "  model_artifact.add_file(fname)\n",
        "  wandb.log_artifact(model_artifact)"
      ],
      "execution_count": 86,
      "outputs": [
        {
          "output_type": "stream",
          "name": "stderr",
          "text": [
            "2021-11-26 22:06:12,553 : INFO : Doc2Vec lifecycle event {'fname_or_handle': 'doc2vec.model', 'separately': 'None', 'sep_limit': 10485760, 'ignore': frozenset(), 'datetime': '2021-11-26T22:06:12.553608', 'gensim': '4.1.2', 'python': '3.7.12 (default, Sep 10 2021, 00:21:48) \\n[GCC 7.5.0]', 'platform': 'Linux-5.4.104+-x86_64-with-Ubuntu-18.04-bionic', 'event': 'saving'}\n",
            "2021-11-26 22:06:12,556 : INFO : not storing attribute cum_table\n",
            "2021-11-26 22:06:12,585 : INFO : saved doc2vec.model\n"
          ]
        }
      ]
    },
    {
      "cell_type": "markdown",
      "metadata": {
        "id": "jJvq2K93xAO5"
      },
      "source": [
        "### Test the distance between C and the diatonic chords\n",
        "\n",
        "Test if the model can capture that the diatonic chords are closer to the root.\n",
        "\n",
        "Do this only if the input corpus contains the unigrams. "
      ]
    },
    {
      "cell_type": "code",
      "metadata": {
        "id": "cH3TJxCfvoFm",
        "colab": {
          "base_uri": "https://localhost:8080/"
        },
        "outputId": "dcaa1ded-f9f7-4f6d-f068-e30b6e576e40"
      },
      "source": [
        "test_tokens = ['C',\n",
        "              'Dm',\n",
        "              'Em',\n",
        "              'F',\n",
        "              'G7',\n",
        "              'Am',\n",
        "              #'Bm7b5',\n",
        "              'F7',\n",
        "              'D7',\n",
        "              'A7',\n",
        "              'E7',\n",
        "              'B7',\n",
        "              'F#7',\n",
        "               'Cm',\n",
        "               'D']\n",
        "\n",
        "if 1 in ngrams_for_input:\n",
        "  ref = 'C'\n",
        "  for t in test_tokens:\n",
        "    print(f\"{model.wv.similarity(ref, t):.3f}: {ref} <-> {t}\")"
      ],
      "execution_count": 87,
      "outputs": [
        {
          "output_type": "stream",
          "name": "stdout",
          "text": [
            "1.000: C <-> C\n",
            "0.810: C <-> Dm\n",
            "0.733: C <-> Em\n",
            "0.775: C <-> F\n",
            "0.799: C <-> G7\n",
            "0.750: C <-> Am\n",
            "0.647: C <-> F7\n",
            "0.714: C <-> D7\n",
            "0.746: C <-> A7\n",
            "0.763: C <-> E7\n",
            "0.655: C <-> B7\n",
            "0.314: C <-> F#7\n",
            "0.448: C <-> Cm\n",
            "0.381: C <-> D\n"
          ]
        }
      ]
    },
    {
      "cell_type": "code",
      "metadata": {
        "id": "IfIRoWL4kpcB"
      },
      "source": [
        "if 1 in ngrams_for_input:\n",
        "  model.wv.similar_by_word('C', topn=20)"
      ],
      "execution_count": 88,
      "outputs": []
    },
    {
      "cell_type": "markdown",
      "metadata": {
        "id": "ix4n9S3_xQzD"
      },
      "source": [
        "Plot the generated word vectors in 2D space"
      ]
    },
    {
      "cell_type": "code",
      "metadata": {
        "id": "JjT_uNh0wthj"
      },
      "source": [
        "from sklearn.manifold import TSNE\n",
        "\n",
        "# input data: vectors for all tokens\n",
        "weights = model.wv.vectors\n",
        "\n",
        "# only do this when the vocabulary is not too big....\n",
        "if len(weights) < 100:\n",
        "\n",
        "  # do T-SNE\n",
        "  tsne = TSNE(n_components=2, \n",
        "              random_state=42,\n",
        "              perplexity=30,\n",
        "              learning_rate='auto',\n",
        "              init='pca',\n",
        "              n_iter=2000\n",
        "              )\n",
        "  T = tsne.fit_transform(weights)\n",
        "\n",
        "  # plot\n",
        "  projected = pd.DataFrame(T)\n",
        "\n",
        "  fig = px.scatter(\n",
        "      projected, \n",
        "      x=0, y=1,\n",
        "      #color='mode',\n",
        "      text=model.wv.index_to_key,\n",
        "      width=800, height=600,\n",
        "      title=\"T-SNE applied to Chord Vectors for Tunes in Cmaj/Amin\"\n",
        "  )\n",
        "  fig.update_traces(textposition='top center')\n",
        "  fig.update_traces(textfont_size=12, selector=dict(type='scatter'))\n",
        "  fig.show()"
      ],
      "execution_count": 89,
      "outputs": []
    },
    {
      "cell_type": "markdown",
      "metadata": {
        "id": "ajqb904KDwNV"
      },
      "source": [
        "## Section Similarity\n"
      ]
    },
    {
      "cell_type": "markdown",
      "metadata": {
        "id": "HS_k1g6ujjKP"
      },
      "source": [
        "### Single Tunes"
      ]
    },
    {
      "cell_type": "code",
      "metadata": {
        "id": "mPnEPL_k4TZn"
      },
      "source": [
        "def get_section_scores_doc2vec(tunes):\n",
        "\n",
        "    df_sim = pd.DataFrame(columns=['reference_title',\n",
        "                                   'reference_titleid',\n",
        "                                  'similar_title',\n",
        "                                   'similar_titleid',\n",
        "                                  'ref_section', \n",
        "                                  'similar_section', \n",
        "                                  'score', \n",
        "                                  ])\n",
        "\n",
        "### get titleid from tunes, use enumerate\n",
        "\n",
        "    for tune in tunes:\n",
        "      print()\n",
        "      print(\"-\"*50)\n",
        "      for s1 in title_to_sectionid[tune]:\n",
        "      \n",
        "          # sections are tagged with the numeric sectionid and can be used for querying\n",
        "          sims = model.dv.similar_by_key(s1, topn=40)\n",
        "          \n",
        "          print(s1, sectionid_to_section[s1])\n",
        "          n = 0\n",
        "          for s2, s2_score in sims:\n",
        "              if type(s2) == int:  # only consider similarities to sectionids; tuneids are strings\n",
        "                  # don't count self-similarity between sections of the same tune\n",
        "                  if s2 not in title_to_sectionid[tune]:\n",
        "                      n += 1\n",
        "                  \n",
        "                      # print(f\"\\t{s2_score:.3f} {sectionid_to_section[s2]}\")\n",
        "\n",
        "                      df_sim.loc[len(df_sim)] = [tune,\n",
        "                                                 title_to_titleid[tune],\n",
        "                                                 sectionid_to_title[s2],\n",
        "                                                 sectionid_to_titleid[s2],\n",
        "                                                 sectionid_to_section[s1], \n",
        "                                                 sectionid_to_section[s2], \n",
        "                                                 s2_score, \n",
        "                                                 ]\n",
        "    return df_sim"
      ],
      "execution_count": 90,
      "outputs": []
    },
    {
      "cell_type": "code",
      "metadata": {
        "colab": {
          "base_uri": "https://localhost:8080/"
        },
        "id": "i_d92il649O9",
        "outputId": "4b86f2b6-fd02-43d5-f2c1-6f714380140c"
      },
      "source": [
        "_tunes = tunes_eval_list\n",
        "\n",
        "df_sim = get_section_scores_doc2vec(_tunes)\n",
        "\n",
        "result = None\n",
        "for tune in _tunes:\n",
        "  tune_result, details = recommend_tune(df_sim, tune)\n",
        "  if result is None:\n",
        "    result = pd.DataFrame(columns=tune_result.columns)\n",
        "  result = result.append(tune_result)\n",
        "\n",
        "print(f\"Result has {len(result)} rows.\")\n",
        "\n",
        "# save a copy of the results; all results will be concatenated at the end\n",
        "df_doc2vec = df_sim[:]"
      ],
      "execution_count": 91,
      "outputs": [
        {
          "output_type": "stream",
          "name": "stdout",
          "text": [
            "\n",
            "--------------------------------------------------\n",
            "125 After You've Gone, section1 (A)\n",
            "126 After You've Gone, section2 (B)\n",
            "127 After You've Gone, section3 (A)\n",
            "128 After You've Gone, section4 (C)\n",
            "\n",
            "--------------------------------------------------\n",
            "188 All God's Chillun Got Rhythm, section1 (A)\n",
            "189 All God's Chillun Got Rhythm, section2 (B)\n",
            "190 All God's Chillun Got Rhythm, section3 (A)\n",
            "191 All God's Chillun Got Rhythm, section4 (C)\n",
            "\n",
            "--------------------------------------------------\n",
            "198 All Of Me, section1 (A)\n",
            "199 All Of Me, section2 (B)\n",
            "200 All Of Me, section3 (A)\n",
            "201 All Of Me, section4 (C)\n",
            "\n",
            "--------------------------------------------------\n",
            "474 Blood Count, section1 (A)\n",
            "475 Blood Count, section2 (A)\n",
            "476 Blood Count, section3 (B)\n",
            "477 Blood Count, section4 (A)\n",
            "478 Blood Count, section5 (C)\n",
            "\n",
            "--------------------------------------------------\n",
            "496 Blue Moon, section1 (A)\n",
            "497 Blue Moon, section2 (A)\n",
            "498 Blue Moon, section3 (B)\n",
            "499 Blue Moon, section4 (A)\n",
            "\n",
            "--------------------------------------------------\n",
            "626 But Beautiful, section1 (A)\n",
            "627 But Beautiful, section2 (B)\n",
            "628 But Beautiful, section3 (A)\n",
            "629 But Beautiful, section4 (C)\n",
            "\n",
            "--------------------------------------------------\n",
            "653 Bye Bye Blackbird, section1 (A)\n",
            "654 Bye Bye Blackbird, section2 (B)\n",
            "\n",
            "--------------------------------------------------\n",
            "676 Call Me Irresponsible, section1 (A)\n",
            "677 Call Me Irresponsible, section2 (B)\n",
            "678 Call Me Irresponsible, section3 (A)\n",
            "679 Call Me Irresponsible, section4 (B)\n",
            "\n",
            "--------------------------------------------------\n",
            "826 Corcovado, section1 (A)\n",
            "827 Corcovado, section2 (B)\n",
            "828 Corcovado, section3 (A)\n",
            "829 Corcovado, section4 (C)\n",
            "\n",
            "--------------------------------------------------\n",
            "997 Dinah, section1 (A)\n",
            "998 Dinah, section2 (A)\n",
            "999 Dinah, section3 (B)\n",
            "1000 Dinah, section4 (A)\n",
            "\n",
            "--------------------------------------------------\n",
            "1125 East Of The Sun, section1 (A)\n",
            "1126 East Of The Sun, section2 (B)\n",
            "1127 East Of The Sun, section3 (A)\n",
            "1128 East Of The Sun, section4 (C)\n",
            "\n",
            "--------------------------------------------------\n",
            "1287 Footprints, section0 (nan)\n",
            "\n",
            "--------------------------------------------------\n",
            "1379 Giant Steps, section0 (nan)\n",
            "\n",
            "--------------------------------------------------\n",
            "1538 Honeysuckle Rose, section1 (A)\n",
            "1539 Honeysuckle Rose, section2 (A)\n",
            "1540 Honeysuckle Rose, section3 (B)\n",
            "1541 Honeysuckle Rose, section4 (A)\n",
            "\n",
            "--------------------------------------------------\n",
            "1647 I Got Rhythm, section1 (A)\n",
            "1648 I Got Rhythm, section2 (A)\n",
            "1649 I Got Rhythm, section3 (B)\n",
            "1650 I Got Rhythm, section4 (A)\n",
            "\n",
            "--------------------------------------------------\n",
            "2670 Misty, section1 (A)\n",
            "2671 Misty, section2 (A)\n",
            "2672 Misty, section3 (B)\n",
            "2673 Misty, section4 (A)\n",
            "\n",
            "--------------------------------------------------\n",
            "2857 Naima, section1 (A)\n",
            "2858 Naima, section2 (A)\n",
            "2859 Naima, section3 (B)\n",
            "2860 Naima, section4 (A)\n",
            "\n",
            "--------------------------------------------------\n",
            "5044 Old Fashioned Love, section0 (nan)\n",
            "\n",
            "--------------------------------------------------\n",
            "3142 Perdido, section1 (A)\n",
            "3143 Perdido, section2 (A)\n",
            "3144 Perdido, section3 (B)\n",
            "3145 Perdido, section4 (A)\n",
            "\n",
            "--------------------------------------------------\n",
            "3276 Rockin' Chair, section1 (A)\n",
            "3277 Rockin' Chair, section2 (B)\n",
            "3278 Rockin' Chair, section3 (A)\n",
            "\n",
            "--------------------------------------------------\n",
            "3578 Sophisticated Lady, section1 (A)\n",
            "3579 Sophisticated Lady, section2 (A)\n",
            "3580 Sophisticated Lady, section3 (B)\n",
            "3581 Sophisticated Lady, section4 (A)\n",
            "\n",
            "--------------------------------------------------\n",
            "3746 Sweet Sue, Just You, section1 (A)\n",
            "3747 Sweet Sue, Just You, section2 (A)\n",
            "3748 Sweet Sue, Just You, section3 (B)\n",
            "3749 Sweet Sue, Just You, section4 (A)\n",
            "\n",
            "--------------------------------------------------\n",
            "3860 These Foolish Things, section1 (A)\n",
            "3861 These Foolish Things, section2 (A)\n",
            "3862 These Foolish Things, section3 (B)\n",
            "3863 These Foolish Things, section4 (A)\n",
            "\n",
            "--------------------------------------------------\n",
            "4146 We'll Be Together Again, section1 (A)\n",
            "4147 We'll Be Together Again, section2 (A)\n",
            "4148 We'll Be Together Again, section3 (B)\n",
            "4149 We'll Be Together Again, section4 (A)\n",
            "Result has 1663 rows.\n"
          ]
        }
      ]
    },
    {
      "cell_type": "code",
      "metadata": {
        "id": "uNt-_pK9Cc-4",
        "colab": {
          "base_uri": "https://localhost:8080/",
          "height": 293
        },
        "outputId": "7f1fdf05-a3c3-4cc6-95e4-772de379e4d4"
      },
      "source": [
        "result.head()"
      ],
      "execution_count": 92,
      "outputs": [
        {
          "output_type": "execute_result",
          "data": {
            "text/html": [
              "<div>\n",
              "<style scoped>\n",
              "    .dataframe tbody tr th:only-of-type {\n",
              "        vertical-align: middle;\n",
              "    }\n",
              "\n",
              "    .dataframe tbody tr th {\n",
              "        vertical-align: top;\n",
              "    }\n",
              "\n",
              "    .dataframe thead th {\n",
              "        text-align: right;\n",
              "    }\n",
              "</style>\n",
              "<table border=\"1\" class=\"dataframe\">\n",
              "  <thead>\n",
              "    <tr style=\"text-align: right;\">\n",
              "      <th></th>\n",
              "      <th>index</th>\n",
              "      <th>reference</th>\n",
              "      <th>reference_titleid</th>\n",
              "      <th>similar_title</th>\n",
              "      <th>score</th>\n",
              "      <th>max</th>\n",
              "      <th>score_div_max</th>\n",
              "      <th>similar_titleid</th>\n",
              "    </tr>\n",
              "  </thead>\n",
              "  <tbody>\n",
              "    <tr>\n",
              "      <th>0</th>\n",
              "      <td>0</td>\n",
              "      <td>After You've Gone [jazz1350]</td>\n",
              "      <td>38</td>\n",
              "      <td>Minority [jazz1350]</td>\n",
              "      <td>0.549372</td>\n",
              "      <td>0.549372</td>\n",
              "      <td>1.000000</td>\n",
              "      <td>802</td>\n",
              "    </tr>\n",
              "    <tr>\n",
              "      <th>1</th>\n",
              "      <td>1</td>\n",
              "      <td>After You've Gone [jazz1350]</td>\n",
              "      <td>38</td>\n",
              "      <td>But Not For Me [jazz1350]</td>\n",
              "      <td>0.840174</td>\n",
              "      <td>0.840174</td>\n",
              "      <td>1.000000</td>\n",
              "      <td>200</td>\n",
              "    </tr>\n",
              "    <tr>\n",
              "      <th>2</th>\n",
              "      <td>2</td>\n",
              "      <td>After You've Gone [jazz1350]</td>\n",
              "      <td>38</td>\n",
              "      <td>Don't Worry 'Bout Me [jazz1350]</td>\n",
              "      <td>0.823806</td>\n",
              "      <td>0.840174</td>\n",
              "      <td>1.000000</td>\n",
              "      <td>327</td>\n",
              "    </tr>\n",
              "    <tr>\n",
              "      <th>3</th>\n",
              "      <td>3</td>\n",
              "      <td>After You've Gone [jazz1350]</td>\n",
              "      <td>38</td>\n",
              "      <td>Bye Bye Blues [jazz1350]</td>\n",
              "      <td>0.686387</td>\n",
              "      <td>0.693840</td>\n",
              "      <td>0.989258</td>\n",
              "      <td>207</td>\n",
              "    </tr>\n",
              "    <tr>\n",
              "      <th>4</th>\n",
              "      <td>4</td>\n",
              "      <td>After You've Gone [jazz1350]</td>\n",
              "      <td>38</td>\n",
              "      <td>Sweet Sue [trad]</td>\n",
              "      <td>0.811167</td>\n",
              "      <td>0.840174</td>\n",
              "      <td>0.984657</td>\n",
              "      <td>1732</td>\n",
              "    </tr>\n",
              "  </tbody>\n",
              "</table>\n",
              "</div>"
            ],
            "text/plain": [
              "  index                     reference  ... score_div_max similar_titleid\n",
              "0     0  After You've Gone [jazz1350]  ...      1.000000             802\n",
              "1     1  After You've Gone [jazz1350]  ...      1.000000             200\n",
              "2     2  After You've Gone [jazz1350]  ...      1.000000             327\n",
              "3     3  After You've Gone [jazz1350]  ...      0.989258             207\n",
              "4     4  After You've Gone [jazz1350]  ...      0.984657            1732\n",
              "\n",
              "[5 rows x 8 columns]"
            ]
          },
          "metadata": {},
          "execution_count": 92
        }
      ]
    },
    {
      "cell_type": "code",
      "metadata": {
        "colab": {
          "base_uri": "https://localhost:8080/",
          "height": 542
        },
        "id": "n4dv7VVe5NT4",
        "outputId": "41d2ab58-7aef-4fea-c3f8-29a9c3db7a0c"
      },
      "source": [
        "import plotly.express as px\n",
        "fig = px.histogram(df_sim, x=\"score\", nbins=50, title='doc2vec sections')\n",
        "fig.show()"
      ],
      "execution_count": 93,
      "outputs": [
        {
          "output_type": "display_data",
          "data": {
            "text/html": [
              "<html>\n",
              "<head><meta charset=\"utf-8\" /></head>\n",
              "<body>\n",
              "    <div>\n",
              "            <script src=\"https://cdnjs.cloudflare.com/ajax/libs/mathjax/2.7.5/MathJax.js?config=TeX-AMS-MML_SVG\"></script><script type=\"text/javascript\">if (window.MathJax) {MathJax.Hub.Config({SVG: {font: \"STIX-Web\"}});}</script>\n",
              "                <script type=\"text/javascript\">window.PlotlyConfig = {MathJaxConfig: 'local'};</script>\n",
              "        <script src=\"https://cdn.plot.ly/plotly-latest.min.js\"></script>    \n",
              "            <div id=\"1b41110f-7845-44cc-8bdb-e14af8a8b72e\" class=\"plotly-graph-div\" style=\"height:525px; width:100%;\"></div>\n",
              "            <script type=\"text/javascript\">\n",
              "                \n",
              "                    window.PLOTLYENV=window.PLOTLYENV || {};\n",
              "                    \n",
              "                if (document.getElementById(\"1b41110f-7845-44cc-8bdb-e14af8a8b72e\")) {\n",
              "                    Plotly.newPlot(\n",
              "                        '1b41110f-7845-44cc-8bdb-e14af8a8b72e',\n",
              "                        [{\"alignmentgroup\": \"True\", \"bingroup\": \"x\", \"hoverlabel\": {\"namelength\": 0}, \"hovertemplate\": \"score=%{x}<br>count=%{y}\", \"legendgroup\": \"\", \"marker\": {\"color\": \"#636efa\"}, \"name\": \"\", \"nbinsx\": 50, \"offsetgroup\": \"\", \"orientation\": \"v\", \"showlegend\": false, \"type\": \"histogram\", \"x\": [0.82380610704422, 0.8111668229103088, 0.7896878123283386, 0.7850678563117981, 0.7836021184921265, 0.783204972743988, 0.7648680806159973, 0.7592403888702393, 0.7577342391014099, 0.755172848701477, 0.7536341547966003, 0.7529416084289551, 0.7522549629211426, 0.7503668665885925, 0.7471592426300049, 0.7458446025848389, 0.7417017817497253, 0.7392101287841797, 0.7391706109046936, 0.737583339214325, 0.7363998293876648, 0.7360497117042542, 0.7359715700149536, 0.7353565692901611, 0.7349030375480652, 0.7337934970855713, 0.7329217791557312, 0.7309887409210205, 0.7252022624015808, 0.7248672842979431, 0.7225298881530762, 0.7200614213943481, 0.7193728685379028, 0.6938401460647583, 0.6863871216773987, 0.67421555519104, 0.6710137724876404, 0.6559846997261047, 0.6451735496520996, 0.6446165442466736, 0.6268030405044556, 0.6165416836738586, 0.6001695990562439, 0.5943430662155151, 0.5897999405860901, 0.5843298435211182, 0.5810471773147583, 0.5805498361587524, 0.5770190954208374, 0.5694687962532043, 0.5680267214775085, 0.5638834238052368, 0.5593353509902954, 0.5552194714546204, 0.5531095266342163, 0.5525830984115601, 0.5522185564041138, 0.5515013337135315, 0.5479776859283447, 0.5454275608062744, 0.5429520010948181, 0.5349553227424622, 0.5340183973312378, 0.5339213609695435, 0.532329261302948, 0.5268293619155884, 0.5162122249603271, 0.5152794718742371, 0.5040353536605835, 0.5033680200576782, 0.5030437111854553, 0.5024458765983582, 0.8401744365692139, 0.8179797530174255, 0.8045339584350586, 0.8029921650886536, 0.801010251045227, 0.7980548739433289, 0.7935580015182495, 0.7930567264556885, 0.7901624441146851, 0.7871986031532288, 0.7870327830314636, 0.7858099341392517, 0.7842578887939453, 0.7807173132896423, 0.778842031955719, 0.7774491310119629, 0.7774357795715332, 0.7699838280677795, 0.7695292830467224, 0.7670762538909912, 0.7633131742477417, 0.7581847310066223, 0.75710529088974, 0.7566412687301636, 0.751988410949707, 0.7505662441253662, 0.748673677444458, 0.7471108436584473, 0.7470656037330627, 0.7465314269065857, 0.7462902665138245, 0.7409525513648987, 0.7387281060218811, 0.7379929423332214, 0.7368866801261902, 0.7359995245933533, 0.7333030700683594, 0.5493720769882202, 0.5225470662117004, 0.5213489532470703, 0.5179998874664307, 0.5115586519241333, 0.5099954605102539, 0.509151041507721, 0.5021740794181824, 0.49456924200057983, 0.48985397815704346, 0.47263219952583313, 0.46727314591407776, 0.46165868639945984, 0.46153685450553894, 0.4612286686897278, 0.45931246876716614, 0.4546709656715393, 0.452796995639801, 0.4519258141517639, 0.4513424038887024, 0.4510655999183655, 0.4508821964263916, 0.44486531615257263, 0.44359296560287476, 0.44040507078170776, 0.4369499683380127, 0.435661643743515, 0.43530264496803284, 0.43356961011886597, 0.43332770466804504, 0.43321841955184937, 0.4322759509086609, 0.4312966763973236, 0.910071074962616, 0.883425235748291, 0.8703176975250244, 0.850318193435669, 0.8364369869232178, 0.8167850375175476, 0.809082567691803, 0.8087045550346375, 0.7977917194366455, 0.7863098978996277, 0.7861400842666626, 0.7819831371307373, 0.7807739973068237, 0.7750262022018433, 0.7614767551422119, 0.7572538256645203, 0.7374238967895508, 0.7368615865707397, 0.7326711416244507, 0.7325695753097534, 0.7262936234474182, 0.7243847250938416, 0.7227012515068054, 0.7196657061576843, 0.7178913354873657, 0.7154022455215454, 0.7151755094528198, 0.7151226997375488, 0.6230257749557495, 0.6022840738296509, 0.5881883502006531, 0.5665759444236755, 0.5559647083282471, 0.5557669401168823, 0.5482305884361267, 0.5376541614532471, 0.534677267074585, 0.5145544409751892, 0.5143638849258423, 0.49318304657936096, 0.49186649918556213, 0.4837448000907898, 0.48143279552459717, 0.4747055768966675, 0.47382593154907227, 0.47198110818862915, 0.4616275727748871, 0.43768706917762756, 0.4243580400943756, 0.4187232553958893, 0.4186974763870239, 0.414610892534256, 0.4125719368457794, 0.4078827202320099, 0.4070219099521637, 0.4067472219467163, 0.4044230878353119, 0.40422821044921875, 0.40381312370300293, 0.40219447016716003, 0.4021146595478058, 0.40177759528160095, 0.4016965925693512, 0.39801350235939026, 0.39270901679992676, 0.867260754108429, 0.8504083752632141, 0.8503263592720032, 0.8397708535194397, 0.8294633626937866, 0.8259894847869873, 0.7954466938972473, 0.7915129661560059, 0.768684983253479, 0.7672522068023682, 0.7646384835243225, 0.7643299698829651, 0.7629091143608093, 0.7589779496192932, 0.7554643154144287, 0.7427654266357422, 0.729343056678772, 0.7241532802581787, 0.7213908433914185, 0.7186450362205505, 0.7138071656227112, 0.7136648297309875, 0.7125921845436096, 0.7059974670410156, 0.7053669095039368, 0.7024043798446655, 0.6900034546852112, 0.7603148818016052, 0.753654420375824, 0.7526888847351074, 0.7485635876655579, 0.7430201768875122, 0.739186704158783, 0.730191707611084, 0.728077232837677, 0.7267272472381592, 0.7227984070777893, 0.7139571905136108, 0.7126255035400391, 0.7077189683914185, 0.7060084342956543, 0.6975411772727966, 0.6964197754859924, 0.6953871846199036, 0.693475067615509, 0.6926653981208801, 0.6919082403182983, 0.6916252374649048, 0.6909977793693542, 0.6894373893737793, 0.6874482035636902, 0.6872463226318359, 0.6821832060813904, 0.6815663576126099, 0.675210177898407, 0.6743012070655823, 0.6729735136032104, 0.6727977991104126, 0.6718310117721558, 0.6693844199180603, 0.6688839197158813, 0.6680256724357605, 0.8615439534187317, 0.834808349609375, 0.8299815654754639, 0.8269429206848145, 0.8267986178398132, 0.7943755984306335, 0.7771501541137695, 0.7712035775184631, 0.7666385769844055, 0.7617342472076416, 0.7617324590682983, 0.760552704334259, 0.7603570222854614, 0.7485823631286621, 0.7347490787506104, 0.7331633567810059, 0.7326016426086426, 0.7281369566917419, 0.7274752855300903, 0.726471483707428, 0.725138783454895, 0.7216576933860779, 0.7210055589675903, 0.7168486714363098, 0.7126659750938416, 0.7125930190086365, 0.7113484144210815, 0.8682163953781128, 0.8384702801704407, 0.8338519334793091, 0.8313336372375488, 0.7782132625579834, 0.7768669724464417, 0.775433361530304, 0.7703880071640015, 0.7537792921066284, 0.743207573890686, 0.7306453585624695, 0.7293415665626526, 0.7225594520568848, 0.7218864560127258, 0.7191697955131531, 0.7093159556388855, 0.7038655877113342, 0.6979187726974487, 0.6591078639030457, 0.6584683656692505, 0.6563698649406433, 0.6551785469055176, 0.6493327617645264, 0.6485967636108398, 0.6366726756095886, 0.6338820457458496, 0.633480429649353, 0.6284725666046143, 0.6120803952217102, 0.6102708578109741, 0.6096804141998291, 0.6049888134002686, 0.5882790684700012, 0.5874941349029541, 0.5796462297439575, 0.5728821754455566, 0.5669655799865723, 0.5667006373405457, 0.5617421269416809, 0.5552573204040527, 0.8538030982017517, 0.845562756061554, 0.8252813220024109, 0.811933159828186, 0.8061468005180359, 0.7954755425453186, 0.7817203402519226, 0.7816065549850464, 0.7759934663772583, 0.7713181972503662, 0.763899564743042, 0.7561006546020508, 0.7529411911964417, 0.7524464726448059, 0.7516958713531494, 0.7499522566795349, 0.7492676377296448, 0.7492614984512329, 0.7460753917694092, 0.744713306427002, 0.7425516247749329, 0.7382352948188782, 0.7302016019821167, 0.7236276865005493, 0.7153348922729492, 0.7130956053733826, 0.7803865075111389, 0.7444795370101929, 0.7388362884521484, 0.7319210767745972, 0.7267267107963562, 0.726323664188385, 0.7255219221115112, 0.7249767780303955, 0.7248511910438538, 0.7234368920326233, 0.7208940386772156, 0.7131487131118774, 0.7115806937217712, 0.7102639675140381, 0.7074124813079834, 0.7036113142967224, 0.7031570076942444, 0.7016111016273499, 0.6988095045089722, 0.6936240792274475, 0.6893989443778992, 0.688839852809906, 0.6886544227600098, 0.6886181235313416, 0.6846461892127991, 0.6842377781867981, 0.6818099021911621, 0.6818086504936218, 0.6817188858985901, 0.7033793926239014, 0.6611824631690979, 0.6485822200775146, 0.6337530612945557, 0.6237741708755493, 0.6208574175834656, 0.6169496178627014, 0.6083062887191772, 0.600171685218811, 0.5935378670692444, 0.5920275449752808, 0.583958625793457, 0.5825700759887695, 0.5804764628410339, 0.5775244235992432, 0.5745171308517456, 0.572594165802002, 0.5691039562225342, 0.5583014488220215, 0.555208146572113, 0.5545159578323364, 0.5487913489341736, 0.5481158494949341, 0.5473093390464783, 0.5456666350364685, 0.5455105304718018, 0.7991487383842468, 0.7659481763839722, 0.7539170384407043, 0.7517676949501038, 0.7509049773216248, 0.7493190765380859, 0.7442284226417542, 0.7431061863899231, 0.7422428131103516, 0.7392021417617798, 0.7369814515113831, 0.7275732159614563, 0.7230362296104431, 0.7218486070632935, 0.7158836126327515, 0.7152304649353027, 0.7140692472457886, 0.7099297046661377, 0.7059515714645386, 0.7058929800987244, 0.704956591129303, 0.7030234336853027, 0.7022457718849182, 0.700437605381012, 0.6987848877906799, 0.6961302757263184, 0.6959044933319092, 0.6947922110557556, 0.6893426775932312, 0.689241349697113, 0.6861299872398376, 0.6835592985153198, 0.6802588701248169, 0.6693555116653442, 0.6561806201934814, 0.6545692086219788, 0.6486965417861938, 0.6472997069358826, 0.6461747288703918, 0.6456091403961182, 0.635216474533081, 0.6296840906143188, 0.6230929493904114, 0.6151247024536133, 0.6139678955078125, 0.607748806476593, 0.6051161885261536, 0.6019845604896545, 0.6004213094711304, 0.5980676412582397, 0.5960769057273865, 0.5913886427879333, 0.5896580219268799, 0.5890876650810242, 0.5884303450584412, 0.5857752561569214, 0.5850298404693604, 0.5838077068328857, 0.578713059425354, 0.5777572393417358, 0.5775095820426941, 0.5767564177513123, 0.5763713717460632, 0.7380555868148804, 0.7318560481071472, 0.7293004393577576, 0.7102040648460388, 0.701171875, 0.6973756551742554, 0.6900694370269775, 0.6864217519760132, 0.6809019446372986, 0.6793003082275391, 0.6730096340179443, 0.6698706150054932, 0.6687172055244446, 0.6671274304389954, 0.6663937568664551, 0.6656341552734375, 0.6656061410903931, 0.6651266813278198, 0.6641625761985779, 0.6614619493484497, 0.6614593267440796, 0.6587315201759338, 0.6580933332443237, 0.6577380299568176, 0.6571634411811829, 0.6554146409034729, 0.6519460082054138, 0.6510111689567566, 0.6493033170700073, 0.5996174216270447, 0.5989876985549927, 0.5944169163703918, 0.5925883650779724, 0.5888881683349609, 0.5713414549827576, 0.5681905150413513, 0.5681663751602173, 0.563034176826477, 0.5629159808158875, 0.5610160827636719, 0.5595402717590332, 0.5583812594413757, 0.5521911978721619, 0.5251278281211853, 0.5215075612068176, 0.5157526135444641, 0.5129527449607849, 0.5119770765304565, 0.5110238790512085, 0.5107813477516174, 0.5060599446296692, 0.5054967403411865, 0.843571662902832, 0.832722008228302, 0.8242732882499695, 0.8214210867881775, 0.8079962134361267, 0.8038647174835205, 0.7987344264984131, 0.7985414266586304, 0.7980346083641052, 0.7912652492523193, 0.7901376485824585, 0.7901100516319275, 0.7889531850814819, 0.7818869352340698, 0.7715651988983154, 0.770850419998169, 0.7697557210922241, 0.7690727710723877, 0.7643480896949768, 0.7601462602615356, 0.7583247423171997, 0.7540398836135864, 0.7438154220581055, 0.7385920286178589, 0.7384548783302307, 0.7379719018936157, 0.7359744906425476, 0.7333494424819946, 0.7333031296730042, 0.8167850375175476, 0.8073832392692566, 0.7915127873420715, 0.782730221748352, 0.7817500233650208, 0.7726635336875916, 0.770727813243866, 0.7701130509376526, 0.7678608894348145, 0.767155647277832, 0.7671337723731995, 0.7579383254051208, 0.757074773311615, 0.7548637390136719, 0.7529435753822327, 0.747212827205658, 0.7469016909599304, 0.7378174662590027, 0.735230028629303, 0.734002411365509, 0.7328984141349792, 0.7264736294746399, 0.7249254584312439, 0.7211048007011414, 0.7206724286079407, 0.718321681022644, 0.7150413990020752, 0.7146772146224976, 0.5789543390274048, 0.5143569111824036, 0.49906983971595764, 0.48280465602874756, 0.47238558530807495, 0.4716222882270813, 0.46598467230796814, 0.4657028317451477, 0.44157445430755615, 0.4398718476295471, 0.43634849786758423, 0.42806217074394226, 0.42761683464050293, 0.42542341351509094, 0.4141584634780884, 0.4130335748195648, 0.41154181957244873, 0.41013696789741516, 0.40701258182525635, 0.4027824103832245, 0.3890402615070343, 0.3840860426425934, 0.38382822275161743, 0.382074236869812, 0.3804847300052643, 0.380304753780365, 0.3786749541759491, 0.3771864175796509, 0.3769463002681732, 0.37340012192726135, 0.3703903555870056, 0.3697512745857239, 0.3635329306125641, 0.35450074076652527, 0.8482130765914917, 0.8224354386329651, 0.8188812732696533, 0.8123165965080261, 0.8114060759544373, 0.8100833892822266, 0.8077528476715088, 0.8015249967575073, 0.7918530106544495, 0.7915341258049011, 0.7903915643692017, 0.7900884747505188, 0.7870539426803589, 0.7866623997688293, 0.7864364385604858, 0.7831661105155945, 0.7829049825668335, 0.7789826393127441, 0.7789031863212585, 0.7778448462486267, 0.7761859893798828, 0.7750067114830017, 0.7728734612464905, 0.7690833806991577, 0.7650803327560425, 0.7563236951828003, 0.7537537813186646, 0.7509746551513672, 0.7449951767921448, 0.7448245882987976, 0.7996489405632019, 0.7746010422706604, 0.7607530951499939, 0.7453483939170837, 0.7364926934242249, 0.7360442280769348, 0.7338255643844604, 0.7292796969413757, 0.7227785587310791, 0.7163496017456055, 0.7137020230293274, 0.7119995355606079, 0.7118762731552124, 0.706627368927002, 0.7055237293243408, 0.70462965965271, 0.7032793760299683, 0.7005466818809509, 0.6983608603477478, 0.6971540451049805, 0.6963198184967041, 0.6962611675262451, 0.6961838603019714, 0.6942743062973022, 0.6907451748847961, 0.6892581582069397, 0.6874749660491943, 0.6870030760765076, 0.7460741996765137, 0.7441880702972412, 0.7097417116165161, 0.6992896199226379, 0.6982004642486572, 0.6875271201133728, 0.6711658835411072, 0.6652280688285828, 0.652529776096344, 0.6506307125091553, 0.6499766111373901, 0.6488037109375, 0.648334801197052, 0.648308277130127, 0.6362094283103943, 0.6350488066673279, 0.6332066655158997, 0.6326982378959656, 0.6227146983146667, 0.6211973428726196, 0.6206565499305725, 0.6199436187744141, 0.6155123114585876, 0.6059417128562927, 0.6014602184295654, 0.6006615161895752, 0.600192666053772, 0.6000686883926392, 0.5989210605621338, 0.5977100729942322, 0.5966193079948425, 0.59364253282547, 0.5934298634529114, 0.5928465723991394, 0.5912538170814514, 0.5897769927978516, 0.5893425941467285, 0.5887975096702576, 0.8400711417198181, 0.8173743486404419, 0.7897437810897827, 0.7797499299049377, 0.7759926319122314, 0.7611238360404968, 0.7588809132575989, 0.751653254032135, 0.7501407861709595, 0.7463771104812622, 0.7436866164207458, 0.7415953874588013, 0.7408850193023682, 0.7339759469032288, 0.7338537573814392, 0.7331278324127197, 0.7330408096313477, 0.7324120402336121, 0.7294541597366333, 0.7293986082077026, 0.72923743724823, 0.7207200527191162, 0.7205102443695068, 0.7194218039512634, 0.7173720598220825, 0.7147707343101501, 0.712605357170105, 0.7115564346313477, 0.7107306122779846, 0.7103129029273987, 0.42933782935142517, 0.427339106798172, 0.41936737298965454, 0.3997817933559418, 0.39444607496261597, 0.39030930399894714, 0.37357330322265625, 0.36441507935523987, 0.3641696572303772, 0.3581797778606415, 0.3569115996360779, 0.35316506028175354, 0.34914717078208923, 0.3468349874019623, 0.3424670994281769, 0.3374992907047272, 0.33586493134498596, 0.32886600494384766, 0.3267420828342438, 0.3252899646759033, 0.32491257786750793, 0.3248399496078491, 0.32238900661468506, 0.31810012459754944, 0.31192508339881897, 0.310215026140213, 0.30988430976867676, 0.30595722794532776, 0.3048493266105652, 0.30327504873275757, 0.3018816411495209, 0.29784688353538513, 0.29628652334213257, 0.2961594760417938, 0.29089856147766113, 0.2897103428840637, 0.28943461179733276, 0.28647398948669434, 0.28610146045684814, 0.2859634757041931, 0.8793470859527588, 0.8494362831115723, 0.8486241698265076, 0.8469406962394714, 0.8457345962524414, 0.8178231716156006, 0.8146997690200806, 0.8075165748596191, 0.8013835549354553, 0.7975451946258545, 0.7939311861991882, 0.7932443022727966, 0.7911913394927979, 0.7876916527748108, 0.7845537662506104, 0.7779706120491028, 0.7713897824287415, 0.7712646722793579, 0.7711874842643738, 0.7676530480384827, 0.7669975161552429, 0.76488196849823, 0.7647278904914856, 0.7643774151802063, 0.7577080726623535, 0.7541553974151611, 0.751010000705719, 0.7502220869064331, 0.7488393187522888, 0.7482969760894775, 0.7804492115974426, 0.7467138171195984, 0.7294739484786987, 0.7259945869445801, 0.7226876020431519, 0.7200796008110046, 0.6996864080429077, 0.6952247619628906, 0.686683714389801, 0.6836384534835815, 0.6817609071731567, 0.679021418094635, 0.671460747718811, 0.6660131812095642, 0.658333957195282, 0.6569859385490417, 0.6554076671600342, 0.6525073051452637, 0.6502499580383301, 0.6481694579124451, 0.6476108431816101, 0.6473621726036072, 0.6454758048057556, 0.645044207572937, 0.6448932886123657, 0.6435415148735046, 0.6415439248085022, 0.6386716365814209, 0.6370653510093689, 0.6358919143676758, 0.856350839138031, 0.8500930070877075, 0.8482768535614014, 0.8424525856971741, 0.8269429802894592, 0.819918155670166, 0.811933159828186, 0.7910754084587097, 0.7908380627632141, 0.784686803817749, 0.7828273177146912, 0.7732014656066895, 0.771403431892395, 0.7712491750717163, 0.7638619542121887, 0.7629227042198181, 0.7609288096427917, 0.7508184313774109, 0.750408947467804, 0.7455157041549683, 0.7448330521583557, 0.7441249489784241, 0.7436016201972961, 0.7433968186378479, 0.7383928298950195, 0.7383334040641785, 0.7326878905296326, 0.7303359508514404, 0.782151460647583, 0.7597903609275818, 0.7515959143638611, 0.7346806526184082, 0.7305387258529663, 0.7218317985534668, 0.7182890176773071, 0.7141721844673157, 0.7038376331329346, 0.703447699546814, 0.7029966115951538, 0.7003457546234131, 0.6957051753997803, 0.6925716400146484, 0.6899363398551941, 0.682682454586029, 0.6775205135345459, 0.6755399107933044, 0.6730009317398071, 0.6676392555236816, 0.6669244170188904, 0.6646839380264282, 0.6565771698951721, 0.6556419730186462, 0.6548354029655457, 0.6526631116867065, 0.6499764919281006, 0.6451263427734375, 0.6418867111206055, 0.6408255696296692, 0.6392257213592529, 0.6388643980026245, 0.6377044916152954, 0.8465773463249207, 0.840612530708313, 0.8276194334030151, 0.8267986178398132, 0.8061468005180359, 0.799659013748169, 0.7959644794464111, 0.7924925088882446, 0.7833669781684875, 0.7659690380096436, 0.7610088586807251, 0.7585537433624268, 0.7521408796310425, 0.7495763301849365, 0.7476770281791687, 0.7391985654830933, 0.7356482148170471, 0.7346576452255249, 0.7338548898696899, 0.7274152040481567, 0.7223133444786072, 0.7200356125831604, 0.7185478210449219, 0.710993230342865, 0.7103081941604614, 0.7099646329879761, 0.7099056243896484, 0.7088750004768372, 0.6997740864753723, 0.6048265099525452, 0.5750681161880493, 0.5478519797325134, 0.5415318608283997, 0.5334509611129761, 0.5267429947853088, 0.5236601829528809, 0.5080487132072449, 0.5048092007637024, 0.49996599555015564, 0.49819016456604004, 0.4977612793445587, 0.48045119643211365, 0.4797303080558777, 0.4768010973930359, 0.47482386231422424, 0.47408929467201233, 0.47343412041664124, 0.4724317193031311, 0.46998992562294006, 0.46958938241004944, 0.4678076207637787, 0.4549208879470825, 0.45487168431282043, 0.4545808732509613, 0.4489925801753998, 0.44892793893814087, 0.44722703099250793, 0.4467059373855591, 0.446517676115036, 0.44516652822494507, 0.4451172947883606, 0.4446616470813751, 0.4404253661632538, 0.4366360008716583, 0.4344273805618286, 0.4333590269088745, 0.4323371350765228, 0.8669248223304749, 0.7847327589988708, 0.7736480832099915, 0.7596693634986877, 0.7433860898017883, 0.7425780296325684, 0.7392705678939819, 0.7264952063560486, 0.7232348918914795, 0.7212563753128052, 0.7201107740402222, 0.7156619429588318, 0.7145290970802307, 0.7098294496536255, 0.7031561732292175, 0.7011197805404663, 0.6964628100395203, 0.6953267455101013, 0.693551778793335, 0.6915239691734314, 0.6874614953994751, 0.6864235401153564, 0.6859619617462158, 0.6852206587791443, 0.6836085915565491, 0.7978429198265076, 0.7074840664863586, 0.6403210163116455, 0.5790643095970154, 0.5723170638084412, 0.5628262758255005, 0.554683268070221, 0.5517920851707458, 0.5408408641815186, 0.5383724570274353, 0.52932208776474, 0.5278390049934387, 0.5266146063804626, 0.5214148163795471, 0.5193315148353577, 0.5173822641372681, 0.5118493437767029, 0.5110836029052734, 0.5081723928451538, 0.5059438347816467, 0.48966535925865173, 0.4859948754310608, 0.4851049780845642, 0.480952650308609, 0.4690779149532318, 0.4676012396812439, 0.4653891324996948, 0.4630889892578125, 0.457198828458786, 0.4557182788848877, 0.45101943612098694, 0.45043426752090454, 0.4492642879486084, 0.4452987313270569, 0.4435560703277588, 0.44265681505203247, 0.44159412384033203, 0.43577879667282104, 0.43368348479270935, 0.8376424908638, 0.8277298212051392, 0.7781673073768616, 0.7367997169494629, 0.7337093353271484, 0.7264067530632019, 0.7187324166297913, 0.7178992033004761, 0.7120199799537659, 0.7087525725364685, 0.7077156901359558, 0.707493007183075, 0.6975437998771667, 0.6974316835403442, 0.6945407390594482, 0.6921743750572205, 0.6914979219436646, 0.6911529898643494, 0.6909987330436707, 0.6827425956726074, 0.6805420517921448, 0.6798531413078308, 0.679741382598877, 0.6782886981964111, 0.6772205233573914, 0.6769139170646667, 0.6955319046974182, 0.6586827635765076, 0.6440572738647461, 0.6415008902549744, 0.6378281116485596, 0.6353737711906433, 0.6256062984466553, 0.6250131130218506, 0.6233921051025391, 0.6221436858177185, 0.6197006106376648, 0.6188076734542847, 0.6167543530464172, 0.6013080477714539, 0.5973122715950012, 0.5971316695213318, 0.5961124300956726, 0.5950348377227783, 0.5915663242340088, 0.591343343257904, 0.5835025906562805, 0.579857587814331, 0.5734679698944092, 0.5729193687438965, 0.5724203586578369, 0.5721999406814575, 0.5707865953445435, 0.5685015916824341, 0.5682609677314758, 0.5677787661552429, 0.56526118516922, 0.563681960105896, 0.5625925660133362, 0.5613449811935425, 0.5573863387107849, 0.5564807057380676, 0.5559788942337036, 0.5547099113464355, 0.8357166051864624, 0.7767301797866821, 0.7626644372940063, 0.7559013366699219, 0.7387372851371765, 0.7272645831108093, 0.725265622138977, 0.7224819660186768, 0.7184228301048279, 0.7127274870872498, 0.7126210331916809, 0.7110891938209534, 0.7095766067504883, 0.7086359858512878, 0.7075381875038147, 0.7074732780456543, 0.698275089263916, 0.6966978311538696, 0.6941958069801331, 0.6924826502799988, 0.6899438500404358, 0.689655065536499, 0.6853103637695312, 0.6751651763916016, 0.6734596490859985, 0.6705474853515625, 0.66551673412323, 0.6652031540870667, 0.6648501753807068, 0.863116443157196, 0.8597989678382874, 0.7893837094306946, 0.7774019837379456, 0.7595621943473816, 0.7274986505508423, 0.7266408801078796, 0.7115519046783447, 0.7100538611412048, 0.6931885480880737, 0.6925444006919861, 0.6900644898414612, 0.6843474507331848, 0.6811968684196472, 0.6803494691848755, 0.6740615367889404, 0.6646333932876587, 0.6612589955329895, 0.6597867012023926, 0.6513906121253967, 0.6484730839729309, 0.6443118453025818, 0.6433454155921936, 0.6422496438026428, 0.6357848048210144, 0.6341784000396729, 0.6331837773323059, 0.6319925785064697, 0.6316449046134949, 0.6266269683837891, 0.8788455128669739, 0.8336265087127686, 0.8322365880012512, 0.7911700010299683, 0.7675694227218628, 0.7642589211463928, 0.754647433757782, 0.7535069584846497, 0.7532278895378113, 0.7447537779808044, 0.7444456815719604, 0.7371175289154053, 0.7357437014579773, 0.7326919436454773, 0.7288621068000793, 0.7281837463378906, 0.7252277135848999, 0.7218317985534668, 0.7202662825584412, 0.7097416520118713, 0.7078412175178528, 0.7070923447608948, 0.7019667029380798, 0.7017370462417603, 0.699453592300415, 0.696364164352417, 0.6962261199951172, 0.6942204833030701, 0.6927900910377502, 0.6913114786148071, 0.6872287392616272, 0.6826736330986023, 0.681218683719635, 0.680709958076477, 0.6684678196907043, 0.6650317311286926, 0.6609377264976501, 0.6606371402740479, 0.6564690470695496, 0.8458641767501831, 0.8428379893302917, 0.825253963470459, 0.8184995055198669, 0.8171935081481934, 0.8026647567749023, 0.8021399974822998, 0.7952491044998169, 0.7867394685745239, 0.7840093970298767, 0.7780357003211975, 0.7769336104393005, 0.7713288068771362, 0.7700231671333313, 0.7694319486618042, 0.7684219479560852, 0.7646021246910095, 0.7592060565948486, 0.7561778426170349, 0.7512955069541931, 0.7484186291694641, 0.7467900514602661, 0.7413983345031738, 0.7410951852798462, 0.7405776977539062, 0.7395034432411194, 0.7392911314964294, 0.7387019991874695, 0.7366161346435547, 0.7361416220664978, 0.7382648587226868, 0.7346593141555786, 0.7309886813163757, 0.7216827273368835, 0.7167133688926697, 0.6996752619743347, 0.6954275369644165, 0.6953181624412537, 0.6922874450683594, 0.687401294708252, 0.6857256889343262, 0.673322319984436, 0.6710816025733948, 0.669627845287323, 0.6689745783805847, 0.6688449382781982, 0.6637362837791443, 0.6635069251060486, 0.6604642271995544, 0.659080982208252, 0.6550485491752625, 0.6532735824584961, 0.8023996949195862, 0.7696062326431274, 0.7546492218971252, 0.7512538433074951, 0.680709958076477, 0.6628061532974243, 0.6527072787284851, 0.6479229927062988, 0.6396124958992004, 0.6323744654655457, 0.630046546459198, 0.6265625953674316, 0.6124120354652405, 0.6083351373672485, 0.5863914489746094, 0.5839899182319641, 0.5703368186950684, 0.5650739669799805, 0.5643790364265442, 0.5637987852096558, 0.5632146000862122, 0.5624872446060181, 0.5588319301605225, 0.5557864308357239, 0.5533655285835266, 0.5525527596473694, 0.5525158643722534, 0.5519008636474609, 0.5460283160209656, 0.5459994077682495, 0.5454688668251038, 0.5442458987236023, 0.542732298374176, 0.5402313470840454, 0.5381643772125244, 0.532879114151001, 0.8179798126220703, 0.7908274531364441, 0.7836021184921265, 0.7821143269538879, 0.7573471069335938, 0.751345157623291, 0.7477666735649109, 0.7462347745895386, 0.7454429864883423, 0.74522465467453, 0.7350914478302002, 0.7305499911308289, 0.7303065657615662, 0.726997971534729, 0.7230159640312195, 0.7164773344993591, 0.7130366563796997, 0.7088274359703064, 0.707249104976654, 0.705646812915802, 0.704200267791748, 0.7034620046615601, 0.7009148001670837, 0.6990576982498169, 0.6949806809425354, 0.6923792958259583, 0.6899987459182739, 0.6897939443588257, 0.6881633996963501, 0.668224573135376, 0.6671044230461121, 0.666171669960022, 0.656691312789917, 0.6550642251968384, 0.6541032791137695, 0.6534880995750427, 0.6417934894561768, 0.6388221979141235, 0.637008547782898, 0.6367142200469971, 0.6350331902503967, 0.633506715297699, 0.6325660347938538, 0.6308049559593201, 0.6293942928314209, 0.6283374428749084, 0.6280606389045715, 0.6274164319038391, 0.6272556781768799, 0.8794423341751099, 0.8790361881256104, 0.8762578964233398, 0.8673844933509827, 0.8568527102470398, 0.8552541732788086, 0.8490857481956482, 0.8476465344429016, 0.8433668613433838, 0.8414005637168884, 0.8406152725219727, 0.8375784754753113, 0.8370600342750549, 0.8368776440620422, 0.831885576248169, 0.8267689347267151, 0.8223814964294434, 0.8222696781158447, 0.8219386339187622, 0.8208346962928772, 0.8201987743377686, 0.8191314339637756, 0.8173606395721436, 0.8168588876724243, 0.8126105666160583, 0.8113511800765991, 0.8110892176628113, 0.8083961606025696, 0.8066976070404053, 0.8512526154518127, 0.8467222452163696, 0.845422089099884, 0.8194040060043335, 0.7771144509315491, 0.7553157806396484, 0.7519347071647644, 0.7470742464065552, 0.7468018531799316, 0.74617999792099, 0.7460622191429138, 0.7458010315895081, 0.7415461540222168, 0.7391748428344727, 0.7356388568878174, 0.7351778149604797, 0.7316892743110657, 0.7296233177185059, 0.7269349098205566, 0.7247317433357239, 0.7168979644775391, 0.7144238948822021, 0.7132167816162109, 0.7108643651008606, 0.7092500925064087, 0.8909435272216797, 0.8670057654380798, 0.7594496011734009, 0.7382784485816956, 0.6988781094551086, 0.6789880394935608, 0.672897219657898, 0.6696592569351196, 0.6691237688064575, 0.6502981185913086, 0.6497941017150879, 0.6477506756782532, 0.6474857330322266, 0.6474291086196899, 0.6440048217773438, 0.6374613642692566, 0.6352174878120422, 0.6336396336555481, 0.6323761343955994, 0.6269648671150208, 0.6241104602813721, 0.6216430068016052, 0.6215381026268005, 0.6198683977127075, 0.6190210580825806, 0.6173924207687378, 0.6171161532402039, 0.6166797280311584, 0.6155804395675659, 0.6148928999900818, 0.8767737150192261, 0.8448932766914368, 0.8299492001533508, 0.8250862956047058, 0.8068463802337646, 0.8031126260757446, 0.7908292412757874, 0.7802013754844666, 0.7704139947891235, 0.7685360312461853, 0.7624393105506897, 0.7605466842651367, 0.752815306186676, 0.7431949973106384, 0.7418995499610901, 0.7408542633056641, 0.7392703294754028, 0.7389392852783203, 0.7280066013336182, 0.7278143763542175, 0.7272812724113464, 0.726642906665802, 0.8764635324478149, 0.8700209856033325, 0.8492852449417114, 0.8364352583885193, 0.809495210647583, 0.8028586506843567, 0.776459276676178, 0.7701131701469421, 0.7656307816505432, 0.7588725090026855, 0.7584704756736755, 0.7566125988960266, 0.7483744621276855, 0.7413984537124634, 0.7346616387367249, 0.731374979019165, 0.7259635329246521, 0.7204645872116089, 0.7183323502540588, 0.7177799940109253, 0.7032323479652405, 0.7025051116943359, 0.7024283409118652, 0.6985646486282349, 0.6980964541435242, 0.6953518390655518, 0.694652795791626, 0.6945879459381104, 0.692376971244812, 0.8649324178695679, 0.8412912487983704, 0.8274073004722595, 0.7819462418556213, 0.7635328769683838, 0.7548375129699707, 0.7513883709907532, 0.7500514984130859, 0.7470468878746033, 0.7388122081756592, 0.7363757491111755, 0.7324193716049194, 0.7320930361747742, 0.7297279238700867, 0.7277610898017883, 0.7275917530059814, 0.7266891598701477, 0.7242258191108704, 0.7240652441978455, 0.7233802080154419, 0.7186139225959778, 0.7168437242507935, 0.7158799767494202, 0.7088190913200378, 0.7065569758415222, 0.7046428918838501, 0.9123533964157104, 0.853670597076416, 0.7926812767982483, 0.7831100225448608, 0.7786399722099304, 0.7785660624504089, 0.7775672674179077, 0.7692704200744629, 0.7690749764442444, 0.7469489574432373, 0.7419927716255188, 0.7419628500938416, 0.7365389466285706, 0.7346453070640564, 0.731978714466095, 0.7307422161102295, 0.7296602725982666, 0.7293778657913208, 0.7284566760063171, 0.72842937707901, 0.7262992262840271, 0.7251400947570801, 0.7240045070648193, 0.7229187488555908, 0.7205902934074402, 0.9517014622688293, 0.889202892780304, 0.8588985800743103, 0.8289089798927307, 0.8171960115432739, 0.8154499530792236, 0.8114632964134216, 0.798114001750946, 0.7791646122932434, 0.7785311341285706, 0.772200345993042, 0.7691632509231567, 0.7683543562889099, 0.7510110139846802, 0.749208390712738, 0.7486041188240051, 0.7421391606330872, 0.7368545532226562, 0.7326588034629822, 0.7325718402862549, 0.7288672924041748, 0.7275521755218506, 0.9602587819099426, 0.9395440816879272, 0.9357514977455139, 0.919499933719635, 0.9137727618217468, 0.9091313481330872, 0.8859380483627319, 0.8770793080329895, 0.8728474974632263, 0.8495418429374695, 0.8456940650939941, 0.8387009501457214, 0.8329725861549377, 0.8301456570625305, 0.810985267162323, 0.8038361072540283, 0.7954938411712646, 0.785036563873291, 0.7754333019256592, 0.7666006684303284, 0.763860821723938, 0.762048602104187, 0.7543041110038757, 0.7470057606697083, 0.7216858267784119, 0.6989849805831909, 0.6701753735542297, 0.6673840284347534, 0.6433553099632263, 0.6375186443328857, 0.6342851519584656, 0.6314086318016052, 0.6256356239318848, 0.6216737031936646, 0.6137010455131531, 0.611443042755127, 0.6062269806861877, 0.5895072817802429, 0.5771375298500061, 0.5756688117980957, 0.9049679636955261, 0.8963682651519775, 0.8644877076148987, 0.7935428023338318, 0.7391389012336731, 0.7264872789382935, 0.7233136296272278, 0.7167397737503052, 0.7116734981536865, 0.7105534672737122, 0.7087370753288269, 0.7035024762153625, 0.701077401638031, 0.7008141279220581, 0.6992062926292419, 0.6964702010154724, 0.6943883895874023, 0.6935821771621704, 0.6918656229972839, 0.6827782988548279, 0.6804075837135315, 0.6781850457191467, 0.6748674511909485, 0.6741880178451538, 0.6741784811019897, 0.8532688617706299, 0.828087329864502, 0.8248426914215088, 0.8153734803199768, 0.8034489750862122, 0.8031590580940247, 0.8012773394584656, 0.7977408766746521, 0.790755033493042, 0.7852947115898132, 0.7775968909263611, 0.7729341387748718, 0.7692794799804688, 0.7685007452964783, 0.7663808465003967, 0.7642713785171509, 0.7614353895187378, 0.7604449391365051, 0.7603864669799805, 0.7586706280708313, 0.756221354007721, 0.7558520436286926, 0.7533563375473022, 0.752461850643158, 0.7507532238960266, 0.7472087144851685, 0.7468888759613037, 0.7466573119163513, 0.7458037734031677, 0.7443525791168213, 0.8613059520721436, 0.8274943232536316, 0.826442301273346, 0.8185638189315796, 0.8100365400314331, 0.8096808791160583, 0.8052377700805664, 0.8042911291122437, 0.8026353120803833, 0.7945915460586548, 0.7926037907600403, 0.7903715372085571, 0.7876039147377014, 0.7875877022743225, 0.7871730923652649, 0.7835742235183716, 0.7835658192634583, 0.7830526828765869, 0.7823519706726074, 0.7803084254264832, 0.7781389951705933, 0.7773118019104004, 0.7747069001197815, 0.7705797553062439, 0.7694673538208008, 0.7693595886230469, 0.7681869268417358, 0.7650595903396606, 0.7649447917938232, 0.6567190289497375, 0.5466338992118835, 0.5271322131156921, 0.519829511642456, 0.5140973329544067, 0.5046913027763367, 0.4863196611404419, 0.4785919189453125, 0.474910706281662, 0.47452837228775024, 0.46583494544029236, 0.4636547565460205, 0.4557184875011444, 0.45498567819595337, 0.45324692130088806, 0.45313993096351624, 0.44652822613716125, 0.4429987072944641, 0.4423993229866028, 0.44208210706710815, 0.4419502913951874, 0.4413387179374695, 0.43807360529899597, 0.4360792338848114, 0.4321223199367523, 0.42956581711769104, 0.42464160919189453, 0.42440906167030334, 0.42030781507492065, 0.4195179045200348, 0.41723886132240295, 0.414816677570343, 0.41346800327301025, 0.41237708926200867, 0.41227781772613525, 0.4120441675186157, 0.8493902683258057, 0.815822958946228, 0.8119962811470032, 0.8112776875495911, 0.8021399974822998, 0.8004058599472046, 0.7886524796485901, 0.7839770317077637, 0.7835384607315063, 0.7832300662994385, 0.7820412516593933, 0.7759081721305847, 0.761447548866272, 0.7611517906188965, 0.7578519582748413, 0.7562909126281738, 0.7558692097663879, 0.7512264251708984, 0.7498844861984253, 0.7493840456008911, 0.7493182420730591, 0.7490073442459106, 0.7437178492546082, 0.7422023415565491, 0.7399803400039673, 0.7395123839378357, 0.7381938695907593, 0.731820821762085, 0.7309708595275879, 0.7297828793525696, 0.7228646278381348, 0.7226337790489197, 0.6448785662651062, 0.6265348196029663, 0.6221588253974915, 0.6157082319259644, 0.597612202167511, 0.5906708836555481, 0.5892779231071472, 0.5824023485183716, 0.5731765627861023, 0.5683744549751282, 0.567523181438446, 0.5667147636413574, 0.5620120763778687, 0.5569337010383606, 0.5516324639320374, 0.549832820892334, 0.5492851138114929, 0.5412236452102661, 0.5410654544830322, 0.5373290181159973, 0.5361295938491821, 0.5349169373512268, 0.5340454578399658, 0.5251055359840393, 0.5247498154640198, 0.5235188007354736, 0.521259605884552, 0.5191424489021301, 0.5171692371368408, 0.5167768597602844, 0.5162690281867981, 0.5138216614723206, 0.5127869248390198, 0.7352982759475708, 0.6968996524810791, 0.6868941187858582, 0.6827441453933716, 0.660460352897644, 0.6538538336753845, 0.6514759659767151, 0.6403653025627136, 0.6395520567893982, 0.637235164642334, 0.634692907333374, 0.6241302490234375, 0.6177782416343689, 0.613188624382019, 0.6096474528312683, 0.6092604398727417, 0.6091765761375427, 0.6058620810508728, 0.6036347150802612, 0.6022906303405762, 0.6013262867927551, 0.5904452204704285, 0.5900408625602722, 0.5875911116600037, 0.5866206288337708, 0.5858240127563477, 0.5858096480369568, 0.5845900177955627, 0.675727903842926, 0.6098368167877197, 0.6008984446525574, 0.5911635756492615, 0.5746403336524963, 0.5666471719741821, 0.5662210583686829, 0.5651479363441467, 0.5651002526283264, 0.5648471713066101, 0.5601029992103577, 0.5554695725440979, 0.5528120398521423, 0.5513529181480408, 0.5511746406555176, 0.5493574142456055, 0.5429521203041077, 0.5369958877563477, 0.5336764454841614, 0.5310550332069397, 0.530977189540863, 0.5273231267929077, 0.5223025679588318, 0.520908772945404, 0.5171284675598145, 0.5135038495063782, 0.511066198348999, 0.5095258951187134, 0.5073962211608887, 0.5061442852020264, 0.8010236024856567, 0.7572438716888428, 0.7536519169807434, 0.7535340189933777, 0.748507022857666, 0.7392147779464722, 0.739067554473877, 0.7377510666847229, 0.7376554608345032, 0.7324026226997375, 0.7321909070014954, 0.7303012013435364, 0.7294751405715942, 0.7263290882110596, 0.7248795628547668, 0.7244797945022583, 0.72250896692276, 0.7170515656471252, 0.7163524627685547, 0.7151826024055481, 0.7124845385551453, 0.7108623385429382, 0.7084987163543701, 0.7054747343063354, 0.7052368521690369, 0.7037496566772461, 0.703264057636261, 0.8407027721405029, 0.7630465030670166, 0.713829755783081, 0.7121787071228027, 0.7106873989105225, 0.6994386911392212, 0.6946952939033508, 0.6885592937469482, 0.6874030828475952, 0.6869032979011536, 0.6850262880325317, 0.6838560700416565, 0.6833181977272034, 0.6832938194274902, 0.6754691004753113, 0.6742047071456909, 0.6741886138916016, 0.6716204285621643, 0.6702847480773926, 0.6698041558265686, 0.6690759062767029, 0.6673062443733215, 0.8694894313812256, 0.7795372009277344, 0.7710577249526978, 0.7672287225723267, 0.7650554776191711, 0.750942051410675, 0.7501205801963806, 0.7474027276039124, 0.7454738616943359, 0.7277036905288696, 0.7257825136184692, 0.7194746136665344, 0.7131054401397705, 0.7089343667030334, 0.7060925960540771, 0.6859390735626221, 0.6855982542037964, 0.6816920638084412, 0.6800203919410706, 0.6726768612861633, 0.6712813973426819, 0.6679090261459351, 0.6674904823303223, 0.6632412672042847, 0.6626741290092468, 0.6578024625778198, 0.655857264995575, 0.6514745354652405, 0.6497621536254883, 0.6463421583175659, 0.8324488401412964, 0.8215777277946472, 0.8197237849235535, 0.805980920791626, 0.8059700727462769, 0.8043040037155151, 0.8024272918701172, 0.7898670434951782, 0.787693977355957, 0.78558349609375, 0.7822840213775635, 0.7787367105484009, 0.776256263256073, 0.7738142013549805, 0.7658631205558777, 0.7646957635879517, 0.7641720175743103, 0.763299286365509, 0.7583130598068237, 0.7569071054458618, 0.7540248036384583, 0.7527626156806946, 0.7486591935157776, 0.7485244274139404, 0.7483845353126526, 0.7469807267189026, 0.746460497379303, 0.7455697655677795, 0.74432373046875, 0.7439563274383545, 0.7435651421546936, 0.7407506704330444, 0.7393450736999512, 0.7375302314758301, 0.7367241382598877, 0.9427257180213928, 0.9250997304916382, 0.9147350192070007, 0.9118521213531494, 0.9096039533615112, 0.8999626040458679, 0.894987165927887, 0.8841648697853088, 0.8826150894165039, 0.8729705214500427, 0.8725649118423462, 0.8537096381187439, 0.8536096215248108, 0.853050947189331, 0.8437703847885132, 0.8342457413673401, 0.8235141634941101, 0.8132845759391785, 0.783683180809021, 0.7829775810241699, 0.7507355213165283, 0.7411741018295288, 0.7332243919372559, 0.7216858267784119, 0.7130905985832214, 0.7079082131385803, 0.7028403282165527, 0.699780285358429, 0.6981740593910217, 0.6958653926849365, 0.6940022706985474, 0.6939801573753357, 0.6851704716682434, 0.6847014427185059, 0.6780790686607361, 0.9413838982582092, 0.8762028217315674, 0.8701116442680359, 0.831813633441925, 0.8274778723716736, 0.8231625556945801, 0.8147175908088684, 0.8091058135032654, 0.7931401133537292, 0.7896106839179993, 0.7799956202507019, 0.7777522802352905, 0.7751727104187012, 0.774341344833374, 0.7730194926261902, 0.7657392024993896, 0.7650536298751831, 0.7631031274795532, 0.7621689438819885, 0.761018693447113, 0.7609041333198547, 0.7594555616378784, 0.7585383057594299, 0.7547265291213989, 0.7537482380867004, 0.7533323168754578, 0.625688910484314, 0.6251787543296814, 0.6188030242919922, 0.6172544956207275, 0.6068825125694275, 0.6043480038642883, 0.6022839546203613, 0.5929007530212402, 0.5893231630325317, 0.5881149172782898, 0.587188720703125, 0.5862149000167847, 0.5800997614860535, 0.5752335786819458, 0.5752303004264832, 0.5694961547851562, 0.564795196056366, 0.5606848001480103, 0.5604010820388794, 0.5599969625473022, 0.5510039329528809, 0.5504008531570435, 0.5477541089057922, 0.5446107387542725, 0.5442095994949341, 0.9156906604766846, 0.7590745091438293, 0.7357839941978455, 0.7228803634643555, 0.7110424637794495, 0.708836555480957, 0.7074728012084961, 0.6911460757255554, 0.6792900562286377, 0.6791541576385498, 0.6786134243011475, 0.6761901378631592, 0.6747772693634033, 0.6525492668151855, 0.64459627866745, 0.6413413286209106, 0.6252446174621582, 0.6200774908065796, 0.6162616610527039, 0.6136543154716492, 0.6089290380477905, 0.6076533198356628, 0.6015539169311523, 0.5973353981971741, 0.5940054059028625, 0.5909035205841064, 0.8840667605400085, 0.8718428611755371, 0.8687573671340942, 0.8630083799362183, 0.8552325367927551, 0.849271833896637, 0.8470362424850464, 0.8334407210350037, 0.821907639503479, 0.8195541501045227, 0.8165338039398193, 0.8131646513938904, 0.8109778165817261, 0.8107015490531921, 0.7995259761810303, 0.7951136827468872, 0.793469250202179, 0.7863040566444397, 0.7862294912338257, 0.7839087247848511, 0.7826319336891174, 0.7823425531387329, 0.7820061445236206, 0.7805643081665039, 0.7795676589012146, 0.7755124568939209, 0.7751939296722412, 0.7747881412506104, 0.7666106820106506, 0.7629367709159851, 0.7612875699996948, 0.6989697813987732, 0.6972092390060425, 0.6774523854255676, 0.6688897013664246, 0.6480318307876587, 0.6457910537719727, 0.642479419708252, 0.6345098614692688, 0.6278255581855774, 0.6250028014183044, 0.6241281032562256, 0.621892511844635, 0.6216089725494385, 0.6214694380760193, 0.6203895807266235, 0.6199150085449219, 0.6191977262496948, 0.6174373030662537, 0.616598904132843, 0.6124617457389832, 0.6120230555534363, 0.6117942333221436, 0.6103555560112, 0.5978482961654663, 0.5910512208938599, 0.564888060092926, 0.5624445080757141, 0.5198961496353149, 0.5191637873649597, 0.5184379816055298, 0.5143225789070129, 0.508160412311554, 0.5063726305961609, 0.503822922706604, 0.4921138882637024, 0.49166980385780334, 0.47603896260261536, 0.4711834192276001, 0.4690978229045868, 0.46802088618278503, 0.4672956168651581, 0.46712127327919006, 0.46676021814346313, 0.459093302488327, 0.452240914106369, 0.4510961174964905, 0.449746698141098, 0.4495602548122406, 0.4464859366416931, 0.44630134105682373, 0.4455834925174713, 0.44108515977859497, 0.43647530674934387, 0.43425795435905457, 0.43194445967674255, 0.43000149726867676, 0.7308862209320068, 0.708525538444519, 0.7058744430541992, 0.7003348469734192, 0.6824617981910706, 0.6782139539718628, 0.6755924224853516, 0.6706036925315857, 0.6689262986183167, 0.6686453819274902, 0.6625274419784546, 0.6615549325942993, 0.6588248610496521, 0.6554473638534546, 0.6534038186073303, 0.652434766292572, 0.6522095203399658, 0.6467559933662415, 0.6466975808143616, 0.6466744542121887, 0.6442750692367554, 0.6426347494125366, 0.6420182585716248, 0.6406130194664001, 0.6384868025779724, 0.6349309682846069, 0.6345409750938416, 0.6333595514297485, 0.6309131383895874, 0.6306886672973633, 0.6291940808296204, 0.671190083026886, 0.667684018611908, 0.6453694701194763, 0.6267887353897095, 0.6216223835945129, 0.6205407381057739, 0.6180832982063293, 0.6133440136909485, 0.6129109859466553, 0.6106881499290466, 0.610484778881073, 0.6097309589385986, 0.605144739151001, 0.6016178131103516, 0.6012216806411743, 0.600674569606781, 0.6004209518432617, 0.5989705324172974, 0.5971881151199341, 0.585383951663971, 0.5839973092079163, 0.5836983919143677, 0.5829181671142578, 0.9243060350418091, 0.8819568157196045, 0.8573755025863647, 0.8547212481498718, 0.8488401174545288, 0.8431563377380371, 0.8419733643531799, 0.8384364247322083, 0.838309109210968, 0.8366113305091858, 0.8291800022125244, 0.8287888765335083, 0.8250862956047058, 0.8182927370071411, 0.8147771954536438, 0.8130369782447815, 0.8103463053703308, 0.8074246644973755, 0.8036080598831177, 0.7989242076873779, 0.7982980012893677, 0.7919636964797974, 0.7917673587799072, 0.789426863193512, 0.7886840105056763, 0.7868022918701172, 0.780982494354248, 0.7742617130279541, 0.7676529884338379, 0.7670606374740601, 0.7638942003250122, 0.8997690081596375, 0.8843557238578796, 0.8595376014709473, 0.856852114200592, 0.8505644202232361, 0.8462166786193848, 0.8342978358268738, 0.8246303796768188, 0.8231231570243835, 0.8153406977653503, 0.8138851523399353, 0.8105692863464355, 0.8081414103507996, 0.8064732551574707, 0.8041320443153381, 0.8005508184432983, 0.799575924873352, 0.790242075920105, 0.7891422510147095, 0.7857294678688049, 0.7763127088546753, 0.772283673286438, 0.7718343138694763, 0.7704140543937683, 0.7675690650939941, 0.7631922960281372, 0.7544349431991577, 0.7503354549407959, 0.7398672699928284, 0.737489640712738, 0.7300140857696533, 0.7297992706298828, 0.726063072681427, 0.7952432632446289, 0.7505031824111938, 0.7197791934013367, 0.7187281250953674, 0.706871747970581, 0.6832091808319092, 0.6779423952102661, 0.6756829023361206, 0.674964964389801, 0.6732537746429443, 0.6731458902359009, 0.6713917851448059, 0.6627489328384399, 0.6596343517303467, 0.6572909355163574, 0.656791627407074, 0.6555636525154114, 0.6546352505683899, 0.6497606039047241, 0.6487561464309692, 0.6465907692909241, 0.6429547071456909, 0.6414065957069397, 0.6391751170158386, 0.6374948024749756, 0.6351814866065979, 0.634229302406311, 0.6341973543167114, 0.6325209736824036, 0.63140469789505, 0.9409419894218445, 0.8936542272567749, 0.8885200619697571, 0.8780924677848816, 0.8740620017051697, 0.8626865148544312, 0.8608928918838501, 0.8608281016349792, 0.8540182113647461, 0.846241295337677, 0.8448933362960815, 0.8384509682655334, 0.8359982967376709, 0.8331959843635559, 0.8308975100517273, 0.8247883915901184, 0.8188589811325073, 0.8179218769073486, 0.8134588003158569, 0.8121968507766724, 0.8111071586608887, 0.8058701157569885, 0.8007404804229736, 0.7975453734397888, 0.7943571209907532, 0.7904008626937866, 0.7850232720375061, 0.7809397578239441, 0.7778964638710022, 0.7739018201828003, 0.7717440128326416, 0.72243732213974, 0.6960342526435852, 0.6948609352111816, 0.6943272352218628, 0.6928281784057617, 0.6878087520599365, 0.6788602471351624, 0.6717811822891235, 0.6691579818725586, 0.6617943048477173, 0.6609759330749512, 0.6594371199607849, 0.6476961970329285, 0.6402222514152527, 0.6364983320236206, 0.6354426145553589, 0.6341391205787659, 0.6324278712272644, 0.6309219002723694, 0.6297938227653503, 0.6224859952926636, 0.622110903263092, 0.6214364767074585, 0.6211221814155579, 0.6196919083595276, 0.7588256597518921, 0.7276150584220886, 0.7264489531517029, 0.7044404149055481, 0.6974722146987915, 0.6853333711624146, 0.6775053143501282, 0.6771727204322815, 0.6617615818977356, 0.6610438227653503, 0.6564368009567261, 0.6486295461654663, 0.6426326036453247, 0.6382989883422852, 0.6372818946838379, 0.6340785026550293, 0.631335437297821, 0.6286223530769348, 0.6275780200958252, 0.6260031461715698, 0.6250405311584473, 0.6230587363243103, 0.618756115436554, 0.6187387108802795, 0.7631974220275879, 0.6561031937599182, 0.6282663345336914, 0.620368480682373, 0.6196247339248657, 0.6173411011695862, 0.6147174835205078, 0.6045451760292053, 0.5999799370765686, 0.5896017551422119, 0.5876359939575195, 0.5801503658294678, 0.5779295563697815, 0.5757710337638855, 0.5750290155410767, 0.5739296674728394, 0.5734045505523682, 0.5727978348731995, 0.5682900547981262, 0.5619281530380249, 0.5493586659431458, 0.5478858947753906, 0.5332849025726318, 0.525300920009613, 0.5249750018119812, 0.5240232348442078, 0.5198453664779663, 0.5193049311637878, 0.5189907550811768, 0.5187522768974304, 0.5168043971061707, 0.5141195058822632, 0.5140737891197205, 0.5106947422027588, 0.5056976079940796, 0.49942919611930847, 0.497440367937088, 0.7424295544624329, 0.7381938099861145, 0.7306436896324158, 0.7251021265983582, 0.6984129548072815, 0.6959353089332581, 0.6913099884986877, 0.6912571787834167, 0.6837557554244995, 0.6811497807502747, 0.6805552244186401, 0.6799476146697998, 0.6720402240753174, 0.670867383480072, 0.6647850275039673, 0.6607772707939148, 0.6606191992759705, 0.6597042679786682, 0.658247709274292, 0.6579217910766602, 0.6557415127754211, 0.6490640044212341, 0.6478461623191833, 0.6474640369415283, 0.6458659768104553, 0.6437548995018005, 0.6431377530097961, 0.6423574686050415, 0.6418230533599854, 0.6407339572906494, 0.6325086951255798, 0.630792498588562, 0.6301882863044739, 0.6226722002029419, 0.620549201965332, 0.6446943283081055, 0.6330806612968445, 0.6311258673667908, 0.6203412413597107, 0.6170922517776489, 0.6117385029792786, 0.6084284782409668, 0.6018422245979309, 0.6018241047859192, 0.5996723771095276, 0.5993894338607788, 0.5992577075958252, 0.5945424437522888, 0.5869464874267578, 0.5862590074539185, 0.5847006440162659, 0.5832904577255249, 0.5804930925369263, 0.5804070234298706, 0.5753693580627441, 0.5751932263374329, 0.5735610723495483, 0.5715660452842712, 0.570426344871521, 0.5649296045303345, 0.5640205144882202, 0.5634642243385315, 0.7345895767211914, 0.6758327484130859, 0.6540040373802185, 0.6463061571121216, 0.6462186574935913, 0.6420587301254272, 0.6401687860488892, 0.63555908203125, 0.6332885026931763, 0.6160998344421387, 0.6121089458465576, 0.6081385612487793, 0.6014047861099243, 0.600574254989624, 0.6000373363494873, 0.595022439956665, 0.5948812961578369, 0.5915698409080505, 0.5914337038993835, 0.8141912817955017, 0.7897664308547974, 0.7867966890335083, 0.75589919090271, 0.7437293529510498, 0.7343787550926208, 0.7199727296829224, 0.7183722257614136, 0.7167285084724426, 0.7156121730804443, 0.7133828997612, 0.70667564868927, 0.7058819532394409, 0.7018826603889465, 0.7011725902557373, 0.6999604105949402, 0.6990085244178772, 0.6945866942405701, 0.6940472722053528, 0.6904491186141968, 0.6897964477539062, 0.6886111497879028, 0.6795011758804321, 0.6852419972419739, 0.681208610534668, 0.6749197244644165, 0.6574811339378357, 0.6456152200698853, 0.6411604881286621, 0.6200937032699585, 0.6191222071647644, 0.6168164014816284, 0.6166154742240906, 0.6143831014633179, 0.6106340885162354, 0.6095712780952454, 0.6056252121925354, 0.604066789150238, 0.6033862829208374, 0.6021872162818909, 0.6000747084617615, 0.5968552231788635, 0.593534529209137, 0.5909541845321655, 0.5903522372245789], \"xaxis\": \"x\", \"yaxis\": \"y\"}],\n",
              "                        {\"barmode\": \"relative\", \"legend\": {\"tracegroupgap\": 0}, \"template\": {\"data\": {\"bar\": [{\"error_x\": {\"color\": \"#2a3f5f\"}, \"error_y\": {\"color\": \"#2a3f5f\"}, \"marker\": {\"line\": {\"color\": \"#E5ECF6\", \"width\": 0.5}}, \"type\": \"bar\"}], \"barpolar\": [{\"marker\": {\"line\": {\"color\": \"#E5ECF6\", \"width\": 0.5}}, \"type\": \"barpolar\"}], \"carpet\": [{\"aaxis\": {\"endlinecolor\": \"#2a3f5f\", \"gridcolor\": \"white\", \"linecolor\": \"white\", \"minorgridcolor\": \"white\", \"startlinecolor\": \"#2a3f5f\"}, \"baxis\": {\"endlinecolor\": \"#2a3f5f\", \"gridcolor\": \"white\", \"linecolor\": \"white\", \"minorgridcolor\": \"white\", \"startlinecolor\": \"#2a3f5f\"}, \"type\": \"carpet\"}], \"choropleth\": [{\"colorbar\": {\"outlinewidth\": 0, \"ticks\": \"\"}, \"type\": \"choropleth\"}], \"contour\": [{\"colorbar\": {\"outlinewidth\": 0, \"ticks\": \"\"}, \"colorscale\": [[0.0, \"#0d0887\"], [0.1111111111111111, \"#46039f\"], [0.2222222222222222, \"#7201a8\"], [0.3333333333333333, \"#9c179e\"], [0.4444444444444444, \"#bd3786\"], [0.5555555555555556, \"#d8576b\"], [0.6666666666666666, \"#ed7953\"], [0.7777777777777778, \"#fb9f3a\"], [0.8888888888888888, \"#fdca26\"], [1.0, \"#f0f921\"]], \"type\": \"contour\"}], \"contourcarpet\": [{\"colorbar\": {\"outlinewidth\": 0, \"ticks\": \"\"}, \"type\": \"contourcarpet\"}], \"heatmap\": [{\"colorbar\": {\"outlinewidth\": 0, \"ticks\": \"\"}, \"colorscale\": [[0.0, \"#0d0887\"], [0.1111111111111111, \"#46039f\"], [0.2222222222222222, \"#7201a8\"], [0.3333333333333333, \"#9c179e\"], [0.4444444444444444, \"#bd3786\"], [0.5555555555555556, \"#d8576b\"], [0.6666666666666666, \"#ed7953\"], [0.7777777777777778, \"#fb9f3a\"], [0.8888888888888888, \"#fdca26\"], [1.0, \"#f0f921\"]], \"type\": \"heatmap\"}], \"heatmapgl\": [{\"colorbar\": {\"outlinewidth\": 0, \"ticks\": \"\"}, \"colorscale\": [[0.0, \"#0d0887\"], [0.1111111111111111, \"#46039f\"], [0.2222222222222222, \"#7201a8\"], [0.3333333333333333, \"#9c179e\"], [0.4444444444444444, \"#bd3786\"], [0.5555555555555556, \"#d8576b\"], [0.6666666666666666, \"#ed7953\"], [0.7777777777777778, \"#fb9f3a\"], [0.8888888888888888, \"#fdca26\"], [1.0, \"#f0f921\"]], \"type\": \"heatmapgl\"}], \"histogram\": [{\"marker\": {\"colorbar\": {\"outlinewidth\": 0, \"ticks\": \"\"}}, \"type\": \"histogram\"}], \"histogram2d\": [{\"colorbar\": {\"outlinewidth\": 0, \"ticks\": \"\"}, \"colorscale\": [[0.0, \"#0d0887\"], [0.1111111111111111, \"#46039f\"], [0.2222222222222222, \"#7201a8\"], [0.3333333333333333, \"#9c179e\"], [0.4444444444444444, \"#bd3786\"], [0.5555555555555556, \"#d8576b\"], [0.6666666666666666, \"#ed7953\"], [0.7777777777777778, \"#fb9f3a\"], [0.8888888888888888, \"#fdca26\"], [1.0, \"#f0f921\"]], \"type\": \"histogram2d\"}], \"histogram2dcontour\": [{\"colorbar\": {\"outlinewidth\": 0, \"ticks\": \"\"}, \"colorscale\": [[0.0, \"#0d0887\"], [0.1111111111111111, \"#46039f\"], [0.2222222222222222, \"#7201a8\"], [0.3333333333333333, \"#9c179e\"], [0.4444444444444444, \"#bd3786\"], [0.5555555555555556, \"#d8576b\"], [0.6666666666666666, \"#ed7953\"], [0.7777777777777778, \"#fb9f3a\"], [0.8888888888888888, \"#fdca26\"], [1.0, \"#f0f921\"]], \"type\": \"histogram2dcontour\"}], \"mesh3d\": [{\"colorbar\": {\"outlinewidth\": 0, \"ticks\": \"\"}, \"type\": \"mesh3d\"}], \"parcoords\": [{\"line\": {\"colorbar\": {\"outlinewidth\": 0, \"ticks\": \"\"}}, \"type\": \"parcoords\"}], \"pie\": [{\"automargin\": true, \"type\": \"pie\"}], \"scatter\": [{\"marker\": {\"colorbar\": {\"outlinewidth\": 0, \"ticks\": \"\"}}, \"type\": \"scatter\"}], \"scatter3d\": [{\"line\": {\"colorbar\": {\"outlinewidth\": 0, \"ticks\": \"\"}}, \"marker\": {\"colorbar\": {\"outlinewidth\": 0, \"ticks\": \"\"}}, \"type\": \"scatter3d\"}], \"scattercarpet\": [{\"marker\": {\"colorbar\": {\"outlinewidth\": 0, \"ticks\": \"\"}}, \"type\": \"scattercarpet\"}], \"scattergeo\": [{\"marker\": {\"colorbar\": {\"outlinewidth\": 0, \"ticks\": \"\"}}, \"type\": \"scattergeo\"}], \"scattergl\": [{\"marker\": {\"colorbar\": {\"outlinewidth\": 0, \"ticks\": \"\"}}, \"type\": \"scattergl\"}], \"scattermapbox\": [{\"marker\": {\"colorbar\": {\"outlinewidth\": 0, \"ticks\": \"\"}}, \"type\": \"scattermapbox\"}], \"scatterpolar\": [{\"marker\": {\"colorbar\": {\"outlinewidth\": 0, \"ticks\": \"\"}}, \"type\": \"scatterpolar\"}], \"scatterpolargl\": [{\"marker\": {\"colorbar\": {\"outlinewidth\": 0, \"ticks\": \"\"}}, \"type\": \"scatterpolargl\"}], \"scatterternary\": [{\"marker\": {\"colorbar\": {\"outlinewidth\": 0, \"ticks\": \"\"}}, \"type\": \"scatterternary\"}], \"surface\": [{\"colorbar\": {\"outlinewidth\": 0, \"ticks\": \"\"}, \"colorscale\": [[0.0, \"#0d0887\"], [0.1111111111111111, \"#46039f\"], [0.2222222222222222, \"#7201a8\"], [0.3333333333333333, \"#9c179e\"], [0.4444444444444444, \"#bd3786\"], [0.5555555555555556, \"#d8576b\"], [0.6666666666666666, \"#ed7953\"], [0.7777777777777778, \"#fb9f3a\"], [0.8888888888888888, \"#fdca26\"], [1.0, \"#f0f921\"]], \"type\": \"surface\"}], \"table\": [{\"cells\": {\"fill\": {\"color\": \"#EBF0F8\"}, \"line\": {\"color\": \"white\"}}, \"header\": {\"fill\": {\"color\": \"#C8D4E3\"}, \"line\": {\"color\": \"white\"}}, \"type\": \"table\"}]}, \"layout\": {\"annotationdefaults\": {\"arrowcolor\": \"#2a3f5f\", \"arrowhead\": 0, \"arrowwidth\": 1}, \"coloraxis\": {\"colorbar\": {\"outlinewidth\": 0, \"ticks\": \"\"}}, \"colorscale\": {\"diverging\": [[0, \"#8e0152\"], [0.1, \"#c51b7d\"], [0.2, \"#de77ae\"], [0.3, \"#f1b6da\"], [0.4, \"#fde0ef\"], [0.5, \"#f7f7f7\"], [0.6, \"#e6f5d0\"], [0.7, \"#b8e186\"], [0.8, \"#7fbc41\"], [0.9, \"#4d9221\"], [1, \"#276419\"]], \"sequential\": [[0.0, \"#0d0887\"], [0.1111111111111111, \"#46039f\"], [0.2222222222222222, \"#7201a8\"], [0.3333333333333333, \"#9c179e\"], [0.4444444444444444, \"#bd3786\"], [0.5555555555555556, \"#d8576b\"], [0.6666666666666666, \"#ed7953\"], [0.7777777777777778, \"#fb9f3a\"], [0.8888888888888888, \"#fdca26\"], [1.0, \"#f0f921\"]], \"sequentialminus\": [[0.0, \"#0d0887\"], [0.1111111111111111, \"#46039f\"], [0.2222222222222222, \"#7201a8\"], [0.3333333333333333, \"#9c179e\"], [0.4444444444444444, \"#bd3786\"], [0.5555555555555556, \"#d8576b\"], [0.6666666666666666, \"#ed7953\"], [0.7777777777777778, \"#fb9f3a\"], [0.8888888888888888, \"#fdca26\"], [1.0, \"#f0f921\"]]}, \"colorway\": [\"#636efa\", \"#EF553B\", \"#00cc96\", \"#ab63fa\", \"#FFA15A\", \"#19d3f3\", \"#FF6692\", \"#B6E880\", \"#FF97FF\", \"#FECB52\"], \"font\": {\"color\": \"#2a3f5f\"}, \"geo\": {\"bgcolor\": \"white\", \"lakecolor\": \"white\", \"landcolor\": \"#E5ECF6\", \"showlakes\": true, \"showland\": true, \"subunitcolor\": \"white\"}, \"hoverlabel\": {\"align\": \"left\"}, \"hovermode\": \"closest\", \"mapbox\": {\"style\": \"light\"}, \"paper_bgcolor\": \"white\", \"plot_bgcolor\": \"#E5ECF6\", \"polar\": {\"angularaxis\": {\"gridcolor\": \"white\", \"linecolor\": \"white\", \"ticks\": \"\"}, \"bgcolor\": \"#E5ECF6\", \"radialaxis\": {\"gridcolor\": \"white\", \"linecolor\": \"white\", \"ticks\": \"\"}}, \"scene\": {\"xaxis\": {\"backgroundcolor\": \"#E5ECF6\", \"gridcolor\": \"white\", \"gridwidth\": 2, \"linecolor\": \"white\", \"showbackground\": true, \"ticks\": \"\", \"zerolinecolor\": \"white\"}, \"yaxis\": {\"backgroundcolor\": \"#E5ECF6\", \"gridcolor\": \"white\", \"gridwidth\": 2, \"linecolor\": \"white\", \"showbackground\": true, \"ticks\": \"\", \"zerolinecolor\": \"white\"}, \"zaxis\": {\"backgroundcolor\": \"#E5ECF6\", \"gridcolor\": \"white\", \"gridwidth\": 2, \"linecolor\": \"white\", \"showbackground\": true, \"ticks\": \"\", \"zerolinecolor\": \"white\"}}, \"shapedefaults\": {\"line\": {\"color\": \"#2a3f5f\"}}, \"ternary\": {\"aaxis\": {\"gridcolor\": \"white\", \"linecolor\": \"white\", \"ticks\": \"\"}, \"baxis\": {\"gridcolor\": \"white\", \"linecolor\": \"white\", \"ticks\": \"\"}, \"bgcolor\": \"#E5ECF6\", \"caxis\": {\"gridcolor\": \"white\", \"linecolor\": \"white\", \"ticks\": \"\"}}, \"title\": {\"x\": 0.05}, \"xaxis\": {\"automargin\": true, \"gridcolor\": \"white\", \"linecolor\": \"white\", \"ticks\": \"\", \"title\": {\"standoff\": 15}, \"zerolinecolor\": \"white\", \"zerolinewidth\": 2}, \"yaxis\": {\"automargin\": true, \"gridcolor\": \"white\", \"linecolor\": \"white\", \"ticks\": \"\", \"title\": {\"standoff\": 15}, \"zerolinecolor\": \"white\", \"zerolinewidth\": 2}}}, \"title\": {\"text\": \"doc2vec sections\"}, \"xaxis\": {\"anchor\": \"y\", \"domain\": [0.0, 1.0], \"title\": {\"text\": \"score\"}}, \"yaxis\": {\"anchor\": \"x\", \"domain\": [0.0, 1.0], \"title\": {\"text\": \"count\"}}},\n",
              "                        {\"responsive\": true}\n",
              "                    ).then(function(){\n",
              "                            \n",
              "var gd = document.getElementById('1b41110f-7845-44cc-8bdb-e14af8a8b72e');\n",
              "var x = new MutationObserver(function (mutations, observer) {{\n",
              "        var display = window.getComputedStyle(gd).display;\n",
              "        if (!display || display === 'none') {{\n",
              "            console.log([gd, 'removed!']);\n",
              "            Plotly.purge(gd);\n",
              "            observer.disconnect();\n",
              "        }}\n",
              "}});\n",
              "\n",
              "// Listen for the removal of the full notebook cells\n",
              "var notebookContainer = gd.closest('#notebook-container');\n",
              "if (notebookContainer) {{\n",
              "    x.observe(notebookContainer, {childList: true});\n",
              "}}\n",
              "\n",
              "// Listen for the clearing of the current output cell\n",
              "var outputEl = gd.closest('.output');\n",
              "if (outputEl) {{\n",
              "    x.observe(outputEl, {childList: true});\n",
              "}}\n",
              "\n",
              "                        })\n",
              "                };\n",
              "                \n",
              "            </script>\n",
              "        </div>\n",
              "</body>\n",
              "</html>"
            ]
          },
          "metadata": {}
        }
      ]
    },
    {
      "cell_type": "code",
      "metadata": {
        "id": "OKeaqYxGPMZj"
      },
      "source": [
        "if use_wandb:\n",
        "  wandb.log({\"scores_hist\": fig})"
      ],
      "execution_count": 94,
      "outputs": []
    },
    {
      "cell_type": "code",
      "metadata": {
        "colab": {
          "base_uri": "https://localhost:8080/",
          "height": 1000
        },
        "id": "DgV3ccDr5Ux4",
        "outputId": "ef148632-a0bc-41aa-f6a0-7825b70bea30"
      },
      "source": [
        "result, details = recommend_tune(df_sim, 'Perdido [jazz1350]')\n",
        "result.head(50)"
      ],
      "execution_count": 95,
      "outputs": [
        {
          "output_type": "execute_result",
          "data": {
            "text/html": [
              "<div>\n",
              "<style scoped>\n",
              "    .dataframe tbody tr th:only-of-type {\n",
              "        vertical-align: middle;\n",
              "    }\n",
              "\n",
              "    .dataframe tbody tr th {\n",
              "        vertical-align: top;\n",
              "    }\n",
              "\n",
              "    .dataframe thead th {\n",
              "        text-align: right;\n",
              "    }\n",
              "</style>\n",
              "<table border=\"1\" class=\"dataframe\">\n",
              "  <thead>\n",
              "    <tr style=\"text-align: right;\">\n",
              "      <th></th>\n",
              "      <th>index</th>\n",
              "      <th>reference</th>\n",
              "      <th>reference_titleid</th>\n",
              "      <th>similar_title</th>\n",
              "      <th>score</th>\n",
              "      <th>max</th>\n",
              "      <th>score_div_max</th>\n",
              "      <th>similar_titleid</th>\n",
              "    </tr>\n",
              "  </thead>\n",
              "  <tbody>\n",
              "    <tr>\n",
              "      <th>0</th>\n",
              "      <td>0</td>\n",
              "      <td>Perdido [jazz1350]</td>\n",
              "      <td>949</td>\n",
              "      <td>Scrapple From The Apple [jazz1350]</td>\n",
              "      <td>0.942726</td>\n",
              "      <td>0.942726</td>\n",
              "      <td>1.000000</td>\n",
              "      <td>1016</td>\n",
              "    </tr>\n",
              "    <tr>\n",
              "      <th>1</th>\n",
              "      <td>1</td>\n",
              "      <td>Perdido [jazz1350]</td>\n",
              "      <td>949</td>\n",
              "      <td>Same Old Love, The [trad]</td>\n",
              "      <td>0.832449</td>\n",
              "      <td>0.832449</td>\n",
              "      <td>1.000000</td>\n",
              "      <td>1681</td>\n",
              "    </tr>\n",
              "    <tr>\n",
              "      <th>2</th>\n",
              "      <td>2</td>\n",
              "      <td>Perdido [jazz1350]</td>\n",
              "      <td>949</td>\n",
              "      <td>I Get A Kick Out Of You [jazz1350]</td>\n",
              "      <td>0.941384</td>\n",
              "      <td>0.941384</td>\n",
              "      <td>1.000000</td>\n",
              "      <td>502</td>\n",
              "    </tr>\n",
              "    <tr>\n",
              "      <th>3</th>\n",
              "      <td>3</td>\n",
              "      <td>Perdido [jazz1350]</td>\n",
              "      <td>949</td>\n",
              "      <td>Cherry Pink And Apple Blossom White [trad]</td>\n",
              "      <td>0.821578</td>\n",
              "      <td>0.832449</td>\n",
              "      <td>0.986941</td>\n",
              "      <td>1425</td>\n",
              "    </tr>\n",
              "    <tr>\n",
              "      <th>4</th>\n",
              "      <td>4</td>\n",
              "      <td>Perdido [jazz1350]</td>\n",
              "      <td>949</td>\n",
              "      <td>Hackensack [jazz1350]</td>\n",
              "      <td>0.819724</td>\n",
              "      <td>0.941384</td>\n",
              "      <td>0.984714</td>\n",
              "      <td>447</td>\n",
              "    </tr>\n",
              "    <tr>\n",
              "      <th>5</th>\n",
              "      <td>5</td>\n",
              "      <td>Perdido [jazz1350]</td>\n",
              "      <td>949</td>\n",
              "      <td>Shaw 'Nuff [jazz1350]</td>\n",
              "      <td>0.925100</td>\n",
              "      <td>0.942726</td>\n",
              "      <td>0.981303</td>\n",
              "      <td>1033</td>\n",
              "    </tr>\n",
              "    <tr>\n",
              "      <th>6</th>\n",
              "      <td>6</td>\n",
              "      <td>Perdido [jazz1350]</td>\n",
              "      <td>949</td>\n",
              "      <td>Theme, The [jazz1350]</td>\n",
              "      <td>0.914735</td>\n",
              "      <td>0.942726</td>\n",
              "      <td>0.970309</td>\n",
              "      <td>1161</td>\n",
              "    </tr>\n",
              "    <tr>\n",
              "      <th>7</th>\n",
              "      <td>7</td>\n",
              "      <td>Perdido [jazz1350]</td>\n",
              "      <td>949</td>\n",
              "      <td>Wish Me Luck As You Wave Me Goodbye [trad]</td>\n",
              "      <td>0.805981</td>\n",
              "      <td>0.832449</td>\n",
              "      <td>0.968205</td>\n",
              "      <td>1783</td>\n",
              "    </tr>\n",
              "    <tr>\n",
              "      <th>8</th>\n",
              "      <td>8</td>\n",
              "      <td>Perdido [jazz1350]</td>\n",
              "      <td>949</td>\n",
              "      <td>Thriving From A Riff [jazz1350]</td>\n",
              "      <td>0.911852</td>\n",
              "      <td>0.942726</td>\n",
              "      <td>0.967251</td>\n",
              "      <td>1188</td>\n",
              "    </tr>\n",
              "    <tr>\n",
              "      <th>9</th>\n",
              "      <td>9</td>\n",
              "      <td>Perdido [jazz1350]</td>\n",
              "      <td>949</td>\n",
              "      <td>Blue Eyes Crying In The Rain [trad]</td>\n",
              "      <td>0.804304</td>\n",
              "      <td>0.832449</td>\n",
              "      <td>0.966190</td>\n",
              "      <td>1397</td>\n",
              "    </tr>\n",
              "    <tr>\n",
              "      <th>10</th>\n",
              "      <td>10</td>\n",
              "      <td>Perdido [jazz1350]</td>\n",
              "      <td>949</td>\n",
              "      <td>Two Not One [jazz1350]</td>\n",
              "      <td>0.909604</td>\n",
              "      <td>0.942726</td>\n",
              "      <td>0.964866</td>\n",
              "      <td>1223</td>\n",
              "    </tr>\n",
              "    <tr>\n",
              "      <th>11</th>\n",
              "      <td>11</td>\n",
              "      <td>Perdido [jazz1350]</td>\n",
              "      <td>949</td>\n",
              "      <td>Little Girl Blue [jazz1350]</td>\n",
              "      <td>0.802427</td>\n",
              "      <td>0.832449</td>\n",
              "      <td>0.963936</td>\n",
              "      <td>727</td>\n",
              "    </tr>\n",
              "    <tr>\n",
              "      <th>12</th>\n",
              "      <td>12</td>\n",
              "      <td>Perdido [jazz1350]</td>\n",
              "      <td>949</td>\n",
              "      <td>Salt Peanuts [jazz1350]</td>\n",
              "      <td>0.899963</td>\n",
              "      <td>0.942726</td>\n",
              "      <td>0.954639</td>\n",
              "      <td>1005</td>\n",
              "    </tr>\n",
              "    <tr>\n",
              "      <th>13</th>\n",
              "      <td>13</td>\n",
              "      <td>Perdido [jazz1350]</td>\n",
              "      <td>949</td>\n",
              "      <td>Flintstones [jazz1350]</td>\n",
              "      <td>0.894987</td>\n",
              "      <td>0.942726</td>\n",
              "      <td>0.949361</td>\n",
              "      <td>387</td>\n",
              "    </tr>\n",
              "    <tr>\n",
              "      <th>14</th>\n",
              "      <td>14</td>\n",
              "      <td>Perdido [jazz1350]</td>\n",
              "      <td>949</td>\n",
              "      <td>Why Don't You Go Down To New Orleans [trad]</td>\n",
              "      <td>0.789867</td>\n",
              "      <td>0.832449</td>\n",
              "      <td>0.948848</td>\n",
              "      <td>1780</td>\n",
              "    </tr>\n",
              "    <tr>\n",
              "      <th>15</th>\n",
              "      <td>15</td>\n",
              "      <td>Perdido [jazz1350]</td>\n",
              "      <td>949</td>\n",
              "      <td>Bogalusa Strut [trad]</td>\n",
              "      <td>0.787694</td>\n",
              "      <td>0.832449</td>\n",
              "      <td>0.946237</td>\n",
              "      <td>1407</td>\n",
              "    </tr>\n",
              "    <tr>\n",
              "      <th>16</th>\n",
              "      <td>16</td>\n",
              "      <td>Perdido [jazz1350]</td>\n",
              "      <td>949</td>\n",
              "      <td>Crazy Rhythm [trad]</td>\n",
              "      <td>0.785583</td>\n",
              "      <td>0.832449</td>\n",
              "      <td>0.943702</td>\n",
              "      <td>1439</td>\n",
              "    </tr>\n",
              "    <tr>\n",
              "      <th>17</th>\n",
              "      <td>17</td>\n",
              "      <td>Perdido [jazz1350]</td>\n",
              "      <td>949</td>\n",
              "      <td>Little Peace In C For You [jazz1350]</td>\n",
              "      <td>0.884165</td>\n",
              "      <td>0.942726</td>\n",
              "      <td>0.937881</td>\n",
              "      <td>729</td>\n",
              "    </tr>\n",
              "    <tr>\n",
              "      <th>18</th>\n",
              "      <td>18</td>\n",
              "      <td>Perdido [jazz1350]</td>\n",
              "      <td>949</td>\n",
              "      <td>Rhythm-a-ning [jazz1350]</td>\n",
              "      <td>0.882615</td>\n",
              "      <td>0.942726</td>\n",
              "      <td>0.936237</td>\n",
              "      <td>990</td>\n",
              "    </tr>\n",
              "    <tr>\n",
              "      <th>19</th>\n",
              "      <td>19</td>\n",
              "      <td>Perdido [jazz1350]</td>\n",
              "      <td>949</td>\n",
              "      <td>Should I Reveal [trad]</td>\n",
              "      <td>0.778737</td>\n",
              "      <td>0.832449</td>\n",
              "      <td>0.935477</td>\n",
              "      <td>1693</td>\n",
              "    </tr>\n",
              "    <tr>\n",
              "      <th>20</th>\n",
              "      <td>20</td>\n",
              "      <td>Perdido [jazz1350]</td>\n",
              "      <td>949</td>\n",
              "      <td>Wooden Heart [trad]</td>\n",
              "      <td>0.776256</td>\n",
              "      <td>0.832449</td>\n",
              "      <td>0.932497</td>\n",
              "      <td>1785</td>\n",
              "    </tr>\n",
              "    <tr>\n",
              "      <th>21</th>\n",
              "      <td>21</td>\n",
              "      <td>Perdido [jazz1350]</td>\n",
              "      <td>949</td>\n",
              "      <td>Under A Blanket Of Blue [jazz1350]</td>\n",
              "      <td>0.876203</td>\n",
              "      <td>0.941384</td>\n",
              "      <td>0.930760</td>\n",
              "      <td>1227</td>\n",
              "    </tr>\n",
              "    <tr>\n",
              "      <th>22</th>\n",
              "      <td>22</td>\n",
              "      <td>Perdido [jazz1350]</td>\n",
              "      <td>949</td>\n",
              "      <td>Down By The Riverside [trad]</td>\n",
              "      <td>0.773814</td>\n",
              "      <td>0.832449</td>\n",
              "      <td>0.929564</td>\n",
              "      <td>1464</td>\n",
              "    </tr>\n",
              "    <tr>\n",
              "      <th>23</th>\n",
              "      <td>23</td>\n",
              "      <td>Perdido [jazz1350]</td>\n",
              "      <td>949</td>\n",
              "      <td>Moose The Mooche [jazz1350]</td>\n",
              "      <td>0.872971</td>\n",
              "      <td>0.942726</td>\n",
              "      <td>0.926007</td>\n",
              "      <td>827</td>\n",
              "    </tr>\n",
              "    <tr>\n",
              "      <th>24</th>\n",
              "      <td>24</td>\n",
              "      <td>Perdido [jazz1350]</td>\n",
              "      <td>949</td>\n",
              "      <td>When I'm Cleaning Windows [trad]</td>\n",
              "      <td>0.872565</td>\n",
              "      <td>0.942726</td>\n",
              "      <td>0.925577</td>\n",
              "      <td>1768</td>\n",
              "    </tr>\n",
              "    <tr>\n",
              "      <th>25</th>\n",
              "      <td>25</td>\n",
              "      <td>Perdido [jazz1350]</td>\n",
              "      <td>949</td>\n",
              "      <td>On A Clear Day [jazz1350]</td>\n",
              "      <td>0.870112</td>\n",
              "      <td>0.941384</td>\n",
              "      <td>0.924290</td>\n",
              "      <td>901</td>\n",
              "    </tr>\n",
              "    <tr>\n",
              "      <th>26</th>\n",
              "      <td>26</td>\n",
              "      <td>Perdido [jazz1350]</td>\n",
              "      <td>949</td>\n",
              "      <td>Zoltan [jazz1350]</td>\n",
              "      <td>0.764696</td>\n",
              "      <td>0.832449</td>\n",
              "      <td>0.918610</td>\n",
              "      <td>1338</td>\n",
              "    </tr>\n",
              "    <tr>\n",
              "      <th>27</th>\n",
              "      <td>27</td>\n",
              "      <td>Perdido [jazz1350]</td>\n",
              "      <td>949</td>\n",
              "      <td>Seven Come Eleven [jazz1350]</td>\n",
              "      <td>0.764172</td>\n",
              "      <td>0.832449</td>\n",
              "      <td>0.917981</td>\n",
              "      <td>1030</td>\n",
              "    </tr>\n",
              "    <tr>\n",
              "      <th>28</th>\n",
              "      <td>28</td>\n",
              "      <td>Perdido [jazz1350]</td>\n",
              "      <td>949</td>\n",
              "      <td>Baubles, Bangles and Beads [jazz1350]</td>\n",
              "      <td>0.763299</td>\n",
              "      <td>0.832449</td>\n",
              "      <td>0.916932</td>\n",
              "      <td>111</td>\n",
              "    </tr>\n",
              "    <tr>\n",
              "      <th>29</th>\n",
              "      <td>29</td>\n",
              "      <td>Perdido [jazz1350]</td>\n",
              "      <td>949</td>\n",
              "      <td>Varsity Drag [trad]</td>\n",
              "      <td>0.758313</td>\n",
              "      <td>0.832449</td>\n",
              "      <td>0.910943</td>\n",
              "      <td>1757</td>\n",
              "    </tr>\n",
              "    <tr>\n",
              "      <th>30</th>\n",
              "      <td>30</td>\n",
              "      <td>Perdido [jazz1350]</td>\n",
              "      <td>949</td>\n",
              "      <td>Irresistable You [jazz1350]</td>\n",
              "      <td>0.754025</td>\n",
              "      <td>0.832449</td>\n",
              "      <td>0.905791</td>\n",
              "      <td>611</td>\n",
              "    </tr>\n",
              "    <tr>\n",
              "      <th>31</th>\n",
              "      <td>31</td>\n",
              "      <td>Perdido [jazz1350]</td>\n",
              "      <td>949</td>\n",
              "      <td>Ain't That A Grand And Glorious Feeling [trad]</td>\n",
              "      <td>0.853710</td>\n",
              "      <td>0.942726</td>\n",
              "      <td>0.905576</td>\n",
              "      <td>1347</td>\n",
              "    </tr>\n",
              "    <tr>\n",
              "      <th>32</th>\n",
              "      <td>32</td>\n",
              "      <td>Perdido [jazz1350]</td>\n",
              "      <td>949</td>\n",
              "      <td>Passport [jazz1350]</td>\n",
              "      <td>0.853610</td>\n",
              "      <td>0.942726</td>\n",
              "      <td>0.905470</td>\n",
              "      <td>938</td>\n",
              "    </tr>\n",
              "    <tr>\n",
              "      <th>33</th>\n",
              "      <td>33</td>\n",
              "      <td>Perdido [jazz1350]</td>\n",
              "      <td>949</td>\n",
              "      <td>Sunday [trad]</td>\n",
              "      <td>0.853051</td>\n",
              "      <td>0.942726</td>\n",
              "      <td>0.904877</td>\n",
              "      <td>1724</td>\n",
              "    </tr>\n",
              "    <tr>\n",
              "      <th>34</th>\n",
              "      <td>34</td>\n",
              "      <td>Perdido [jazz1350]</td>\n",
              "      <td>949</td>\n",
              "      <td>You're Nobody Till Somebody Loves You [jazz1350]</td>\n",
              "      <td>0.752763</td>\n",
              "      <td>0.832449</td>\n",
              "      <td>0.904275</td>\n",
              "      <td>1331</td>\n",
              "    </tr>\n",
              "    <tr>\n",
              "      <th>35</th>\n",
              "      <td>35</td>\n",
              "      <td>Perdido [jazz1350]</td>\n",
              "      <td>949</td>\n",
              "      <td>Yes Sir, That's My Baby [trad]</td>\n",
              "      <td>0.748659</td>\n",
              "      <td>0.832449</td>\n",
              "      <td>0.899346</td>\n",
              "      <td>1791</td>\n",
              "    </tr>\n",
              "    <tr>\n",
              "      <th>36</th>\n",
              "      <td>36</td>\n",
              "      <td>Perdido [jazz1350]</td>\n",
              "      <td>949</td>\n",
              "      <td>Across The Alley From The Alamo [jazz1350]</td>\n",
              "      <td>0.748385</td>\n",
              "      <td>0.832449</td>\n",
              "      <td>0.899016</td>\n",
              "      <td>32</td>\n",
              "    </tr>\n",
              "    <tr>\n",
              "      <th>37</th>\n",
              "      <td>37</td>\n",
              "      <td>Perdido [jazz1350]</td>\n",
              "      <td>949</td>\n",
              "      <td>You Can Depend On Me [jazz1350]</td>\n",
              "      <td>0.746981</td>\n",
              "      <td>0.832449</td>\n",
              "      <td>0.897329</td>\n",
              "      <td>1313</td>\n",
              "    </tr>\n",
              "    <tr>\n",
              "      <th>38</th>\n",
              "      <td>38</td>\n",
              "      <td>Perdido [jazz1350]</td>\n",
              "      <td>949</td>\n",
              "      <td>Old Grey Mare, The [trad]</td>\n",
              "      <td>0.746460</td>\n",
              "      <td>0.832449</td>\n",
              "      <td>0.896704</td>\n",
              "      <td>1640</td>\n",
              "    </tr>\n",
              "    <tr>\n",
              "      <th>39</th>\n",
              "      <td>39</td>\n",
              "      <td>Perdido [jazz1350]</td>\n",
              "      <td>949</td>\n",
              "      <td>Oleo [jazz1350]</td>\n",
              "      <td>0.843770</td>\n",
              "      <td>0.942726</td>\n",
              "      <td>0.895033</td>\n",
              "      <td>899</td>\n",
              "    </tr>\n",
              "    <tr>\n",
              "      <th>40</th>\n",
              "      <td>40</td>\n",
              "      <td>Perdido [jazz1350]</td>\n",
              "      <td>949</td>\n",
              "      <td>Oh! Lady Be Good [trad]</td>\n",
              "      <td>0.744324</td>\n",
              "      <td>0.832449</td>\n",
              "      <td>0.894138</td>\n",
              "      <td>1635</td>\n",
              "    </tr>\n",
              "    <tr>\n",
              "      <th>41</th>\n",
              "      <td>41</td>\n",
              "      <td>Perdido [jazz1350]</td>\n",
              "      <td>949</td>\n",
              "      <td>A Certain Smile [jazz1350]</td>\n",
              "      <td>0.743956</td>\n",
              "      <td>0.832449</td>\n",
              "      <td>0.893696</td>\n",
              "      <td>8</td>\n",
              "    </tr>\n",
              "    <tr>\n",
              "      <th>42</th>\n",
              "      <td>42</td>\n",
              "      <td>Perdido [jazz1350]</td>\n",
              "      <td>949</td>\n",
              "      <td>Cottontail [jazz1350]</td>\n",
              "      <td>0.834246</td>\n",
              "      <td>0.942726</td>\n",
              "      <td>0.884929</td>\n",
              "      <td>260</td>\n",
              "    </tr>\n",
              "    <tr>\n",
              "      <th>43</th>\n",
              "      <td>43</td>\n",
              "      <td>Perdido [jazz1350]</td>\n",
              "      <td>949</td>\n",
              "      <td>All Of You [jazz1350]</td>\n",
              "      <td>0.767229</td>\n",
              "      <td>0.869489</td>\n",
              "      <td>0.882390</td>\n",
              "      <td>61</td>\n",
              "    </tr>\n",
              "    <tr>\n",
              "      <th>44</th>\n",
              "      <td>44</td>\n",
              "      <td>Perdido [jazz1350]</td>\n",
              "      <td>949</td>\n",
              "      <td>Once In A While (Ballad) [trad]</td>\n",
              "      <td>0.765055</td>\n",
              "      <td>0.869489</td>\n",
              "      <td>0.879890</td>\n",
              "      <td>1646</td>\n",
              "    </tr>\n",
              "    <tr>\n",
              "      <th>45</th>\n",
              "      <td>45</td>\n",
              "      <td>Perdido [jazz1350]</td>\n",
              "      <td>949</td>\n",
              "      <td>They Didn't Believe Me [jazz1350]</td>\n",
              "      <td>0.827478</td>\n",
              "      <td>0.941384</td>\n",
              "      <td>0.879002</td>\n",
              "      <td>1171</td>\n",
              "    </tr>\n",
              "    <tr>\n",
              "      <th>46</th>\n",
              "      <td>46</td>\n",
              "      <td>Perdido [jazz1350]</td>\n",
              "      <td>949</td>\n",
              "      <td>No Moe [jazz1350]</td>\n",
              "      <td>0.823514</td>\n",
              "      <td>0.942726</td>\n",
              "      <td>0.873546</td>\n",
              "      <td>878</td>\n",
              "    </tr>\n",
              "    <tr>\n",
              "      <th>47</th>\n",
              "      <td>47</td>\n",
              "      <td>Perdido [jazz1350]</td>\n",
              "      <td>949</td>\n",
              "      <td>Out Of Nowhere [jazz1350]</td>\n",
              "      <td>0.814718</td>\n",
              "      <td>0.941384</td>\n",
              "      <td>0.865447</td>\n",
              "      <td>926</td>\n",
              "    </tr>\n",
              "    <tr>\n",
              "      <th>48</th>\n",
              "      <td>48</td>\n",
              "      <td>Perdido [jazz1350]</td>\n",
              "      <td>949</td>\n",
              "      <td>C.T.A. [jazz1350]</td>\n",
              "      <td>0.813285</td>\n",
              "      <td>0.942726</td>\n",
              "      <td>0.862695</td>\n",
              "      <td>211</td>\n",
              "    </tr>\n",
              "    <tr>\n",
              "      <th>49</th>\n",
              "      <td>49</td>\n",
              "      <td>Perdido [jazz1350]</td>\n",
              "      <td>949</td>\n",
              "      <td>Diane [jazz1350]</td>\n",
              "      <td>0.774341</td>\n",
              "      <td>0.941384</td>\n",
              "      <td>0.859588</td>\n",
              "      <td>305</td>\n",
              "    </tr>\n",
              "  </tbody>\n",
              "</table>\n",
              "</div>"
            ],
            "text/plain": [
              "    index           reference  ...  score_div_max similar_titleid\n",
              "0       0  Perdido [jazz1350]  ...       1.000000            1016\n",
              "1       1  Perdido [jazz1350]  ...       1.000000            1681\n",
              "2       2  Perdido [jazz1350]  ...       1.000000             502\n",
              "3       3  Perdido [jazz1350]  ...       0.986941            1425\n",
              "4       4  Perdido [jazz1350]  ...       0.984714             447\n",
              "5       5  Perdido [jazz1350]  ...       0.981303            1033\n",
              "6       6  Perdido [jazz1350]  ...       0.970309            1161\n",
              "7       7  Perdido [jazz1350]  ...       0.968205            1783\n",
              "8       8  Perdido [jazz1350]  ...       0.967251            1188\n",
              "9       9  Perdido [jazz1350]  ...       0.966190            1397\n",
              "10     10  Perdido [jazz1350]  ...       0.964866            1223\n",
              "11     11  Perdido [jazz1350]  ...       0.963936             727\n",
              "12     12  Perdido [jazz1350]  ...       0.954639            1005\n",
              "13     13  Perdido [jazz1350]  ...       0.949361             387\n",
              "14     14  Perdido [jazz1350]  ...       0.948848            1780\n",
              "15     15  Perdido [jazz1350]  ...       0.946237            1407\n",
              "16     16  Perdido [jazz1350]  ...       0.943702            1439\n",
              "17     17  Perdido [jazz1350]  ...       0.937881             729\n",
              "18     18  Perdido [jazz1350]  ...       0.936237             990\n",
              "19     19  Perdido [jazz1350]  ...       0.935477            1693\n",
              "20     20  Perdido [jazz1350]  ...       0.932497            1785\n",
              "21     21  Perdido [jazz1350]  ...       0.930760            1227\n",
              "22     22  Perdido [jazz1350]  ...       0.929564            1464\n",
              "23     23  Perdido [jazz1350]  ...       0.926007             827\n",
              "24     24  Perdido [jazz1350]  ...       0.925577            1768\n",
              "25     25  Perdido [jazz1350]  ...       0.924290             901\n",
              "26     26  Perdido [jazz1350]  ...       0.918610            1338\n",
              "27     27  Perdido [jazz1350]  ...       0.917981            1030\n",
              "28     28  Perdido [jazz1350]  ...       0.916932             111\n",
              "29     29  Perdido [jazz1350]  ...       0.910943            1757\n",
              "30     30  Perdido [jazz1350]  ...       0.905791             611\n",
              "31     31  Perdido [jazz1350]  ...       0.905576            1347\n",
              "32     32  Perdido [jazz1350]  ...       0.905470             938\n",
              "33     33  Perdido [jazz1350]  ...       0.904877            1724\n",
              "34     34  Perdido [jazz1350]  ...       0.904275            1331\n",
              "35     35  Perdido [jazz1350]  ...       0.899346            1791\n",
              "36     36  Perdido [jazz1350]  ...       0.899016              32\n",
              "37     37  Perdido [jazz1350]  ...       0.897329            1313\n",
              "38     38  Perdido [jazz1350]  ...       0.896704            1640\n",
              "39     39  Perdido [jazz1350]  ...       0.895033             899\n",
              "40     40  Perdido [jazz1350]  ...       0.894138            1635\n",
              "41     41  Perdido [jazz1350]  ...       0.893696               8\n",
              "42     42  Perdido [jazz1350]  ...       0.884929             260\n",
              "43     43  Perdido [jazz1350]  ...       0.882390              61\n",
              "44     44  Perdido [jazz1350]  ...       0.879890            1646\n",
              "45     45  Perdido [jazz1350]  ...       0.879002            1171\n",
              "46     46  Perdido [jazz1350]  ...       0.873546             878\n",
              "47     47  Perdido [jazz1350]  ...       0.865447             926\n",
              "48     48  Perdido [jazz1350]  ...       0.862695             211\n",
              "49     49  Perdido [jazz1350]  ...       0.859588             305\n",
              "\n",
              "[50 rows x 8 columns]"
            ]
          },
          "metadata": {},
          "execution_count": 95
        }
      ]
    },
    {
      "cell_type": "code",
      "metadata": {
        "id": "hLFaFo62XlMS",
        "colab": {
          "base_uri": "https://localhost:8080/"
        },
        "outputId": "9d340728-61d2-482f-c423-80d3d59feae3"
      },
      "source": [
        "dd = pd.DataFrame(columns = recommender_results_cols)\n",
        "\n",
        "for tune in tunes_eval_list:\n",
        "  result, details = recommend_tune(df_sim, tune)\n",
        "  dd['id'] = result['index']\n",
        "  dd['reference'] = tune\n",
        "  dd['method'] = 'doc2vec'\n",
        "  dd['similar'] = result['similar_title']\n",
        "  dd['score_div_max'] = result['score_div_max']\n",
        "  dd['score'] = result['score']\n",
        "\n",
        "recommender_results = recommender_results.append(dd)\n",
        "len(recommender_results)"
      ],
      "execution_count": 96,
      "outputs": [
        {
          "output_type": "execute_result",
          "data": {
            "text/plain": [
              "217"
            ]
          },
          "metadata": {},
          "execution_count": 96
        }
      ]
    },
    {
      "cell_type": "markdown",
      "metadata": {
        "id": "aosPKEWljlm0"
      },
      "source": [
        "### Contrafacts"
      ]
    },
    {
      "cell_type": "code",
      "metadata": {
        "id": "SaYSqTJokGc5"
      },
      "source": [
        "def test_doc2vec_contrafacts(tunes, N=15):\n",
        "  matches = 0\n",
        "  number_of_sections = 0\n",
        "  results = {}\n",
        "\n",
        "  for tune, similar_tune in contrafacts.items():\n",
        "    \n",
        "    # loop over all sections of the tune\n",
        "    sub_match = 0\n",
        "    for s1 in title_to_sectionid[tune]:\n",
        "      sims = model.dv.similar_by_key(s1, topn=N)\n",
        "      # check if the section matches the expected title; consider only the first 15 recommendations\n",
        "      i = 0\n",
        "      for match, value in sims:\n",
        "        # tune match\n",
        "        if (type(match) == str):\n",
        "          titleid = int(match.replace('titleid_', ''))\n",
        "          if titleid_to_title[titleid] == similar_tune:\n",
        "            sub_match += 1\n",
        "\n",
        "        # section match\n",
        "        else:\n",
        "          if sectionid_to_title[match] == similar_tune:\n",
        "            sub_match += 1\n",
        "\n",
        "    # for each title, increase matches if at least one of the section matched the expected title\n",
        "    if sub_match > 0:\n",
        "      matches += 1  \n",
        "      results[tune] = 1\n",
        "    else:\n",
        "      results[tune] = 0\n",
        "  \n",
        "  return matches, results"
      ],
      "execution_count": 97,
      "outputs": []
    },
    {
      "cell_type": "code",
      "metadata": {
        "colab": {
          "base_uri": "https://localhost:8080/"
        },
        "id": "eAjM3lU4ltzP",
        "outputId": "40e9867e-c3fd-446d-e751-a2f1e2343431"
      },
      "source": [
        "topN = 15\n",
        "matches, results = test_doc2vec_contrafacts(contrafacts, topN)\n",
        "\n",
        "[print(f\"{val}: {rr}\") for rr, val in results.items()] \n",
        "print() \n",
        "print(f\"Found matches: {matches} out of {len(contrafacts)}: {100*matches/len(contrafacts):.3f}%\")"
      ],
      "execution_count": 98,
      "outputs": [
        {
          "output_type": "stream",
          "name": "stdout",
          "text": [
            "0: 26-2 [jazz1350]\n",
            "0: 52nd Street Theme [jazz1350]\n",
            "1: Ablution [jazz1350]\n",
            "1: Anthropology [jazz1350]\n",
            "1: Ballade [jazz1350]\n",
            "1: Bright Mississippi [jazz1350]\n",
            "1: C.T.A. [jazz1350]\n",
            "1: Cottontail [jazz1350]\n",
            "0: Countdown [jazz1350]\n",
            "1: Dewey Square [jazz1350]\n",
            "1: Dexterity [jazz1350]\n",
            "1: Dig [jazz1350]\n",
            "1: Donna Lee [jazz1350]\n",
            "0: Don't Be That Way [jazz1350]\n",
            "1: Evidence [jazz1350]\n",
            "0: Flintstones [jazz1350]\n",
            "0: Four On Six [jazz1350]\n",
            "1: Freight Train [jazz1350]\n",
            "0: Good Bait [jazz1350]\n",
            "0: Hackensack [jazz1350]\n",
            "1: Half Nelson [jazz1350]\n",
            "1: Hot House [jazz1350]\n",
            "1: Impressions [jazz1350]\n",
            "1: In A Mellow Tone (In A Mellotone) [jazz1350]\n",
            "1: In Walked Bud [jazz1350]\n",
            "1: Ko Ko [jazz1350]\n",
            "0: Lennie's Pennies [jazz1350]\n",
            "0: Little Rootie Tootie [jazz1350]\n",
            "0: Little Willie Leaps [jazz1350]\n",
            "1: Lullaby Of Birdland [jazz1350]\n",
            "0: My Little Suede Shoes [jazz1350]\n",
            "1: Ornithology [jazz1350]\n",
            "0: Quasimodo (Theme) [jazz1350]\n",
            "0: Room 608 [jazz1350]\n",
            "0: Satellite [jazz1350]\n",
            "1: Scrapple From The Apple [jazz1350]\n",
            "1: Tour De Force [jazz1350]\n",
            "1: Wow [jazz1350]\n",
            "1: Yardbird Suite [jazz1350]\n",
            "0: Sweet Sue, Just You [jazz1350]\n",
            "0: These Foolish Things [jazz1350]\n",
            "0: Misty [jazz1350]\n",
            "\n",
            "Found matches: 24 out of 42: 57.143%\n"
          ]
        }
      ]
    },
    {
      "cell_type": "code",
      "metadata": {
        "id": "8C0kzj0Jp425"
      },
      "source": [
        "model_name = 'doc2vec'\n",
        "if use_wandb:\n",
        "  wandb.log(\n",
        "      {model_name: {\n",
        "                'contrafacts': {\n",
        "                    'topN': topN,\n",
        "                    'success': matches/len(contrafacts),\n",
        "                    #'results': results\n",
        "                    }\n",
        "                   },\n",
        "       'all_models': {\n",
        "           model_name: wandb.Table(\n",
        "               columns=[\"Title\", \"Match\"],\n",
        "               data=[[key, value] for key, value in results.items()]),\n",
        "       }\n",
        "       })"
      ],
      "execution_count": 99,
      "outputs": []
    },
    {
      "cell_type": "markdown",
      "metadata": {
        "id": "_UzVV5yn4Q-K"
      },
      "source": [
        "### Save Results for WebApp"
      ]
    },
    {
      "cell_type": "code",
      "metadata": {
        "colab": {
          "base_uri": "https://localhost:8080/"
        },
        "id": "vqxX8YaWsyh7",
        "outputId": "08bc4e62-1b4d-4f67-dbfb-ea6f762a0283"
      },
      "source": [
        "%%time\n",
        "if generate_webapp_data:\n",
        "  tunes = list(tunes['title_playlist'].values())\n",
        "\n",
        "  df_sim = get_section_scores_doc2vec(tunes_list)\n",
        "\n",
        "  result = None\n",
        "  for tune in tunes:\n",
        "    tune_result, details = recommend_tune(df_sim, tune)\n",
        "    if result is None:\n",
        "      result = pd.DataFrame(columns=tune_result.columns)\n",
        "    result = result.append(tune_result)\n",
        "\n",
        "  print(f\"Result has {len(result)} rows.\")\n",
        "\n",
        "  # save to file\n",
        "  result.to_csv('output/recommender_doc2vec.csv', sep='\\t', encoding='utf8')\n",
        "\n",
        "  # save to W&B\n",
        "  if use_wandb:\n",
        "    model_artifact = wandb.Artifact(\n",
        "        \"recommender_doc2vec\", \n",
        "        type=\"csv\",\n",
        "        description=\"Recommendations for each Tune using doc2vec Model (csv file)\",\n",
        "        metadata=\"\")\n",
        "\n",
        "    model_artifact.add_file('output/recommender_doc2vec.csv')\n",
        "    wandb.log_artifact(model_artifact)"
      ],
      "execution_count": 100,
      "outputs": [
        {
          "output_type": "stream",
          "name": "stdout",
          "text": [
            "CPU times: user 6 µs, sys: 1 µs, total: 7 µs\n",
            "Wall time: 11.9 µs\n"
          ]
        }
      ]
    },
    {
      "cell_type": "markdown",
      "metadata": {
        "id": "XmDZT5t7gjgV"
      },
      "source": [
        "# Venn diagrams for Results"
      ]
    },
    {
      "cell_type": "code",
      "metadata": {
        "id": "1YJ5FLt-2WS4"
      },
      "source": [
        "import matplotlib.pyplot as plt\n",
        "from matplotlib_venn import venn3"
      ],
      "execution_count": 101,
      "outputs": []
    },
    {
      "cell_type": "code",
      "metadata": {
        "id": "U6WrsBcc00ar",
        "colab": {
          "base_uri": "https://localhost:8080/",
          "height": 1000
        },
        "outputId": "d54282b6-603b-4a6e-ab72-d732b8d0dfcb"
      },
      "source": [
        "for tune in tunes_eval_list:\n",
        "  df, details = recommend_tune(df_tfidf, tune)\n",
        "  tfidf_tunes = list(df.head(30).loc[:,'similar_title'])\n",
        "\n",
        "  df, details = recommend_tune(df_lsi, tune)\n",
        "  lsi_tunes = list(df.head(30).loc[:,'similar_title'])\n",
        "\n",
        "  df, details = recommend_tune(df_doc2vec, tune)\n",
        "  word2vec_tunes = list(df.head(30).loc[:,'similar_title'])\n",
        "\n",
        "  set_tfidf = set(tfidf_tunes)\n",
        "  set_lsi = set(lsi_tunes)\n",
        "  set_word2vec = set(word2vec_tunes)\n",
        "\n",
        "  venn3([set_tfidf, set_lsi, set_word2vec], \n",
        "        set_labels=('TF-IDF', 'LSI', 'Doc2Vec'),\n",
        "        )\n",
        "  plt.title(f\"{tune}\")\n",
        "  plt.savefig('plot.png')\n",
        "  \n",
        "  if use_wandb:\n",
        "    wandb.log({\"venn_methods\": wandb.Image('plot.png')})\n",
        "  \n",
        "  plt.show()"
      ],
      "execution_count": 102,
      "outputs": [
        {
          "output_type": "display_data",
          "data": {
            "image/png": "[encoded data removed]",
            "text/plain": [
              "<Figure size 432x288 with 1 Axes>"
            ]
          },
          "metadata": {}
        },
        {
          "output_type": "display_data",
          "data": {
            "image/png": "[encoded data removed]",
            "text/plain": [
              "<Figure size 432x288 with 1 Axes>"
            ]
          },
          "metadata": {}
        },
        {
          "output_type": "display_data",
          "data": {
            "image/png": "[encoded data removed]",
            "text/plain": [
              "<Figure size 432x288 with 1 Axes>"
            ]
          },
          "metadata": {}
        },
        {
          "output_type": "display_data",
          "data": {
            "image/png": "[encoded data removed]",
            "text/plain": [
              "<Figure size 432x288 with 1 Axes>"
            ]
          },
          "metadata": {}
        },
        {
          "output_type": "display_data",
          "data": {
            "image/png": "[encoded data removed]",
            "text/plain": [
              "<Figure size 432x288 with 1 Axes>"
            ]
          },
          "metadata": {}
        },
        {
          "output_type": "display_data",
          "data": {
            "image/png": "[encoded data removed]",
            "text/plain": [
              "<Figure size 432x288 with 1 Axes>"
            ]
          },
          "metadata": {}
        },
        {
          "output_type": "display_data",
          "data": {
            "image/png": "[encoded data removed]",
            "text/plain": [
              "<Figure size 432x288 with 1 Axes>"
            ]
          },
          "metadata": {}
        },
        {
          "output_type": "display_data",
          "data": {
            "image/png": "[encoded data removed]",
            "text/plain": [
              "<Figure size 432x288 with 1 Axes>"
            ]
          },
          "metadata": {}
        },
        {
          "output_type": "display_data",
          "data": {
            "image/png": "[encoded data removed]",
            "text/plain": [
              "<Figure size 432x288 with 1 Axes>"
            ]
          },
          "metadata": {}
        },
        {
          "output_type": "display_data",
          "data": {
            "image/png": "[encoded data removed]",
            "text/plain": [
              "<Figure size 432x288 with 1 Axes>"
            ]
          },
          "metadata": {}
        },
        {
          "output_type": "display_data",
          "data": {
            "image/png": "[encoded data removed]",
            "text/plain": [
              "<Figure size 432x288 with 1 Axes>"
            ]
          },
          "metadata": {}
        },
        {
          "output_type": "display_data",
          "data": {
            "image/png": "[encoded data removed]",
            "text/plain": [
              "<Figure size 432x288 with 1 Axes>"
            ]
          },
          "metadata": {}
        },
        {
          "output_type": "display_data",
          "data": {
            "image/png": "[encoded data removed]",
            "text/plain": [
              "<Figure size 432x288 with 1 Axes>"
            ]
          },
          "metadata": {}
        },
        {
          "output_type": "display_data",
          "data": {
            "image/png": "[encoded data removed]",
            "text/plain": [
              "<Figure size 432x288 with 1 Axes>"
            ]
          },
          "metadata": {}
        },
        {
          "output_type": "display_data",
          "data": {
            "image/png": "[encoded data removed]",
            "text/plain": [
              "<Figure size 432x288 with 1 Axes>"
            ]
          },
          "metadata": {}
        },
        {
          "output_type": "display_data",
          "data": {
            "image/png": "[encoded data removed]",
            "text/plain": [
              "<Figure size 432x288 with 1 Axes>"
            ]
          },
          "metadata": {}
        },
        {
          "output_type": "display_data",
          "data": {
            "image/png": "[encoded data removed]",
            "text/plain": [
              "<Figure size 432x288 with 1 Axes>"
            ]
          },
          "metadata": {}
        },
        {
          "output_type": "display_data",
          "data": {
            "image/png": "[encoded data removed]",
            "text/plain": [
              "<Figure size 432x288 with 1 Axes>"
            ]
          },
          "metadata": {}
        },
        {
          "output_type": "display_data",
          "data": {
            "image/png": "[encoded data removed]",
            "text/plain": [
              "<Figure size 432x288 with 1 Axes>"
            ]
          },
          "metadata": {}
        },
        {
          "output_type": "display_data",
          "data": {
            "image/png": "[encoded data removed]",
            "text/plain": [
              "<Figure size 432x288 with 1 Axes>"
            ]
          },
          "metadata": {}
        },
        {
          "output_type": "display_data",
          "data": {
            "image/png": "[encoded data removed]",
            "text/plain": [
              "<Figure size 432x288 with 1 Axes>"
            ]
          },
          "metadata": {}
        },
        {
          "output_type": "display_data",
          "data": {
            "image/png": "[encoded data removed]",
            "text/plain": [
              "<Figure size 432x288 with 1 Axes>"
            ]
          },
          "metadata": {}
        },
        {
          "output_type": "display_data",
          "data": {
            "image/png": "[encoded data removed]",
            "text/plain": [
              "<Figure size 432x288 with 1 Axes>"
            ]
          },
          "metadata": {}
        },
        {
          "output_type": "display_data",
          "data": {
            "image/png": "[encoded data removed]",
            "text/plain": [
              "<Figure size 432x288 with 1 Axes>"
            ]
          },
          "metadata": {}
        }
      ]
    },
    {
      "cell_type": "code",
      "metadata": {
        "colab": {
          "base_uri": "https://localhost:8080/"
        },
        "id": "BVRU3r-0axgN",
        "outputId": "1b5c754e-d541-44e2-f7d4-be4f4fa07a59"
      },
      "source": [
        "# Number of tunes tested\n",
        "len(contrafacts)"
      ],
      "execution_count": 103,
      "outputs": [
        {
          "output_type": "execute_result",
          "data": {
            "text/plain": [
              "42"
            ]
          },
          "metadata": {},
          "execution_count": 103
        }
      ]
    },
    {
      "cell_type": "code",
      "metadata": {
        "colab": {
          "base_uri": "https://localhost:8080/"
        },
        "id": "KRtvi6aea1Fc",
        "outputId": "1f19e65c-f48f-4991-8059-af94208720a9"
      },
      "source": [
        "# number of sections in the tunes\n",
        "contrafacts_sections = [title_to_sectionid[contrafacts[cc]] for cc in contrafacts.keys()]\n",
        "len([val for tune in contrafacts_sections for val in tune])\n"
      ],
      "execution_count": 104,
      "outputs": [
        {
          "output_type": "execute_result",
          "data": {
            "text/plain": [
              "143"
            ]
          },
          "metadata": {},
          "execution_count": 104
        }
      ]
    },
    {
      "cell_type": "markdown",
      "metadata": {
        "id": "RhOWHSEU0DQH"
      },
      "source": [
        "# W&B Logging and Finish"
      ]
    },
    {
      "cell_type": "code",
      "metadata": {
        "id": "YMUDRHkm0aMV",
        "colab": {
          "base_uri": "https://localhost:8080/",
          "height": 125,
          "referenced_widgets": [
            "6ba5b4fa74104a7fadf8e50622307083",
            "5fae15f919d249d38b3fc3dfcbe9467f",
            "b7d66d72eb20447391f83e731bcdc3a3",
            "a69ab07f28534a93baf8b68234ec78bb",
            "b840a3d7268e48cbb04d9760a3214ffd",
            "28f2b928b8fc4d10bec746f17d8780ce",
            "32e6babcc9e247258964cf622b487320",
            "e2df49e61a9e467f9252eab146c61057"
          ]
        },
        "outputId": "a9d9408a-ee84-4ef7-90b7-ef5eb2eac546"
      },
      "source": [
        "if use_wandb:\n",
        "  wandb.finish()"
      ],
      "execution_count": 105,
      "outputs": [
        {
          "output_type": "display_data",
          "data": {
            "text/html": [
              "<br/>Waiting for W&B process to finish, PID 10674... <strong style=\"color:green\">(success).</strong>"
            ],
            "text/plain": [
              "<IPython.core.display.HTML object>"
            ]
          },
          "metadata": {}
        },
        {
          "output_type": "display_data",
          "data": {
            "application/vnd.jupyter.widget-view+json": {
              "model_id": "6ba5b4fa74104a7fadf8e50622307083",
              "version_minor": 0,
              "version_major": 2
            },
            "text/plain": [
              "VBox(children=(Label(value=' 8.24MB of 8.24MB uploaded (0.00MB deduped)\\r'), FloatProgress(value=1.0, max=1.0)…"
            ]
          },
          "metadata": {}
        },
        {
          "output_type": "display_data",
          "data": {
            "text/html": [
              "<style>\n",
              "    table.wandb td:nth-child(1) { padding: 0 10px; text-align: right }\n",
              "    .wandb-row { display: flex; flex-direction: row; flex-wrap: wrap; width: 100% }\n",
              "    .wandb-col { display: flex; flex-direction: column; flex-basis: 100%; flex: 1; padding: 10px; }\n",
              "    </style>\n",
              "<div class=\"wandb-row\"><div class=\"wandb-col\">\n",
              "</div><div class=\"wandb-col\">\n",
              "</div></div>\n",
              "Synced 5 W&B file(s), 31 media file(s), 9 artifact file(s) and 0 other file(s)\n",
              "<br/>Synced <strong style=\"color:#cdcd00\">cerulean-feather-6</strong>: <a href=\"https://wandb.ai/doris/jazztunes/runs/32k35ze5\" target=\"_blank\">https://wandb.ai/doris/jazztunes/runs/32k35ze5</a><br/>\n",
              "Find logs at: <code>./wandb/run-20211126_220424-32k35ze5/logs</code><br/>\n"
            ],
            "text/plain": [
              "<IPython.core.display.HTML object>"
            ]
          },
          "metadata": {}
        }
      ]
    },
    {
      "cell_type": "code",
      "metadata": {
        "id": "Vn_SFyKt0bYx"
      },
      "source": [
        "\n"
      ],
      "execution_count": 105,
      "outputs": []
    }
  ]
}