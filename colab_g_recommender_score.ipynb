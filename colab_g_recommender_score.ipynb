{
  "nbformat": 4,
  "nbformat_minor": 0,
  "metadata": {
    "colab": {
      "name": "colab_g_recommender_score",
      "provenance": [],
      "toc_visible": true,
      "authorship_tag": "ABX9TyPSi16FYmardUNF5f+npX4o",
      "include_colab_link": true
    },
    "kernelspec": {
      "name": "python3",
      "display_name": "Python 3"
    },
    "language_info": {
      "name": "python"
    },
    "accelerator": "TPU",
    "widgets": {
      "application/vnd.jupyter.widget-state+json": {
        "969cb00ad5f8416fa66dcfa26d7fa926": {
          "model_module": "@jupyter-widgets/controls",
          "model_name": "VBoxModel",
          "model_module_version": "1.5.0",
          "state": {
            "_view_name": "VBoxView",
            "_dom_classes": [],
            "_model_name": "VBoxModel",
            "_view_module": "@jupyter-widgets/controls",
            "_model_module_version": "1.5.0",
            "_view_count": null,
            "_view_module_version": "1.5.0",
            "box_style": "",
            "layout": "IPY_MODEL_7e238c3d293e4d23bc569257f13c1915",
            "_model_module": "@jupyter-widgets/controls",
            "children": [
              "IPY_MODEL_8ef2ce2d0ca040a9a8eac09a2006744a",
              "IPY_MODEL_500212d19c4f4a4d94bee4557ff10fac"
            ]
          }
        },
        "7e238c3d293e4d23bc569257f13c1915": {
          "model_module": "@jupyter-widgets/base",
          "model_name": "LayoutModel",
          "model_module_version": "1.2.0",
          "state": {
            "_view_name": "LayoutView",
            "grid_template_rows": null,
            "right": null,
            "justify_content": null,
            "_view_module": "@jupyter-widgets/base",
            "overflow": null,
            "_model_module_version": "1.2.0",
            "_view_count": null,
            "flex_flow": null,
            "width": null,
            "min_width": null,
            "border": null,
            "align_items": null,
            "bottom": null,
            "_model_module": "@jupyter-widgets/base",
            "top": null,
            "grid_column": null,
            "overflow_y": null,
            "overflow_x": null,
            "grid_auto_flow": null,
            "grid_area": null,
            "grid_template_columns": null,
            "flex": null,
            "_model_name": "LayoutModel",
            "justify_items": null,
            "grid_row": null,
            "max_height": null,
            "align_content": null,
            "visibility": null,
            "align_self": null,
            "height": null,
            "min_height": null,
            "padding": null,
            "grid_auto_rows": null,
            "grid_gap": null,
            "max_width": null,
            "order": null,
            "_view_module_version": "1.2.0",
            "grid_template_areas": null,
            "object_position": null,
            "object_fit": null,
            "grid_auto_columns": null,
            "margin": null,
            "display": null,
            "left": null
          }
        },
        "8ef2ce2d0ca040a9a8eac09a2006744a": {
          "model_module": "@jupyter-widgets/controls",
          "model_name": "LabelModel",
          "model_module_version": "1.5.0",
          "state": {
            "_view_name": "LabelView",
            "style": "IPY_MODEL_64d2645c0dda40e4a6dee4bfcaccc7df",
            "_dom_classes": [],
            "description": "",
            "_model_name": "LabelModel",
            "placeholder": "​",
            "_view_module": "@jupyter-widgets/controls",
            "_model_module_version": "1.5.0",
            "value": " 3.95MB of 3.95MB uploaded (0.00MB deduped)\r",
            "_view_count": null,
            "_view_module_version": "1.5.0",
            "description_tooltip": null,
            "_model_module": "@jupyter-widgets/controls",
            "layout": "IPY_MODEL_c8f96c8ab4854ddabeaf983c9da6302e"
          }
        },
        "500212d19c4f4a4d94bee4557ff10fac": {
          "model_module": "@jupyter-widgets/controls",
          "model_name": "FloatProgressModel",
          "model_module_version": "1.5.0",
          "state": {
            "_view_name": "ProgressView",
            "style": "IPY_MODEL_13f67d18cab24a8e80b56fe7e95a1f24",
            "_dom_classes": [],
            "description": "",
            "_model_name": "FloatProgressModel",
            "bar_style": "",
            "max": 1,
            "_view_module": "@jupyter-widgets/controls",
            "_model_module_version": "1.5.0",
            "value": 1,
            "_view_count": null,
            "_view_module_version": "1.5.0",
            "orientation": "horizontal",
            "min": 0,
            "description_tooltip": null,
            "_model_module": "@jupyter-widgets/controls",
            "layout": "IPY_MODEL_2582bd7ad2f6424db1bcc412e1596c61"
          }
        },
        "64d2645c0dda40e4a6dee4bfcaccc7df": {
          "model_module": "@jupyter-widgets/controls",
          "model_name": "DescriptionStyleModel",
          "model_module_version": "1.5.0",
          "state": {
            "_view_name": "StyleView",
            "_model_name": "DescriptionStyleModel",
            "description_width": "",
            "_view_module": "@jupyter-widgets/base",
            "_model_module_version": "1.5.0",
            "_view_count": null,
            "_view_module_version": "1.2.0",
            "_model_module": "@jupyter-widgets/controls"
          }
        },
        "c8f96c8ab4854ddabeaf983c9da6302e": {
          "model_module": "@jupyter-widgets/base",
          "model_name": "LayoutModel",
          "model_module_version": "1.2.0",
          "state": {
            "_view_name": "LayoutView",
            "grid_template_rows": null,
            "right": null,
            "justify_content": null,
            "_view_module": "@jupyter-widgets/base",
            "overflow": null,
            "_model_module_version": "1.2.0",
            "_view_count": null,
            "flex_flow": null,
            "width": null,
            "min_width": null,
            "border": null,
            "align_items": null,
            "bottom": null,
            "_model_module": "@jupyter-widgets/base",
            "top": null,
            "grid_column": null,
            "overflow_y": null,
            "overflow_x": null,
            "grid_auto_flow": null,
            "grid_area": null,
            "grid_template_columns": null,
            "flex": null,
            "_model_name": "LayoutModel",
            "justify_items": null,
            "grid_row": null,
            "max_height": null,
            "align_content": null,
            "visibility": null,
            "align_self": null,
            "height": null,
            "min_height": null,
            "padding": null,
            "grid_auto_rows": null,
            "grid_gap": null,
            "max_width": null,
            "order": null,
            "_view_module_version": "1.2.0",
            "grid_template_areas": null,
            "object_position": null,
            "object_fit": null,
            "grid_auto_columns": null,
            "margin": null,
            "display": null,
            "left": null
          }
        },
        "13f67d18cab24a8e80b56fe7e95a1f24": {
          "model_module": "@jupyter-widgets/controls",
          "model_name": "ProgressStyleModel",
          "model_module_version": "1.5.0",
          "state": {
            "_view_name": "StyleView",
            "_model_name": "ProgressStyleModel",
            "description_width": "",
            "_view_module": "@jupyter-widgets/base",
            "_model_module_version": "1.5.0",
            "_view_count": null,
            "_view_module_version": "1.2.0",
            "bar_color": null,
            "_model_module": "@jupyter-widgets/controls"
          }
        },
        "2582bd7ad2f6424db1bcc412e1596c61": {
          "model_module": "@jupyter-widgets/base",
          "model_name": "LayoutModel",
          "model_module_version": "1.2.0",
          "state": {
            "_view_name": "LayoutView",
            "grid_template_rows": null,
            "right": null,
            "justify_content": null,
            "_view_module": "@jupyter-widgets/base",
            "overflow": null,
            "_model_module_version": "1.2.0",
            "_view_count": null,
            "flex_flow": null,
            "width": null,
            "min_width": null,
            "border": null,
            "align_items": null,
            "bottom": null,
            "_model_module": "@jupyter-widgets/base",
            "top": null,
            "grid_column": null,
            "overflow_y": null,
            "overflow_x": null,
            "grid_auto_flow": null,
            "grid_area": null,
            "grid_template_columns": null,
            "flex": null,
            "_model_name": "LayoutModel",
            "justify_items": null,
            "grid_row": null,
            "max_height": null,
            "align_content": null,
            "visibility": null,
            "align_self": null,
            "height": null,
            "min_height": null,
            "padding": null,
            "grid_auto_rows": null,
            "grid_gap": null,
            "max_width": null,
            "order": null,
            "_view_module_version": "1.2.0",
            "grid_template_areas": null,
            "object_position": null,
            "object_fit": null,
            "grid_auto_columns": null,
            "margin": null,
            "display": null,
            "left": null
          }
        }
      }
    }
  },
  "cells": [
    {
      "cell_type": "markdown",
      "metadata": {
        "id": "view-in-github",
        "colab_type": "text"
      },
      "source": [
        "<a href=\"https://colab.research.google.com/github/11doris/jazz-maestro/blob/colab_word_embeddings/colab_g_recommender_score.ipynb\" target=\"_parent\"><img src=\"https://colab.research.google.com/assets/colab-badge.svg\" alt=\"Open In Colab\"/></a>"
      ]
    },
    {
      "cell_type": "markdown",
      "metadata": {
        "id": "YGhakKpa8Dtf"
      },
      "source": [
        "# Sections as Input"
      ]
    },
    {
      "cell_type": "code",
      "metadata": {
        "colab": {
          "base_uri": "https://localhost:8080/"
        },
        "id": "dm5QehpXxo31",
        "outputId": "4e59edef-f801-4bc6-e751-e034457c3c0b"
      },
      "source": [
        "pip install wandb"
      ],
      "execution_count": 1,
      "outputs": [
        {
          "output_type": "stream",
          "name": "stdout",
          "text": [
            "Requirement already satisfied: wandb in /usr/local/lib/python3.7/dist-packages (0.12.7)\n",
            "Requirement already satisfied: pathtools in /usr/local/lib/python3.7/dist-packages (from wandb) (0.1.2)\n",
            "Requirement already satisfied: configparser>=3.8.1 in /usr/local/lib/python3.7/dist-packages (from wandb) (5.1.0)\n",
            "Requirement already satisfied: six>=1.13.0 in /usr/local/lib/python3.7/dist-packages (from wandb) (1.15.0)\n",
            "Requirement already satisfied: sentry-sdk>=1.0.0 in /usr/local/lib/python3.7/dist-packages (from wandb) (1.5.0)\n",
            "Requirement already satisfied: promise<3,>=2.0 in /usr/local/lib/python3.7/dist-packages (from wandb) (2.3)\n",
            "Requirement already satisfied: GitPython>=1.0.0 in /usr/local/lib/python3.7/dist-packages (from wandb) (3.1.24)\n",
            "Requirement already satisfied: docker-pycreds>=0.4.0 in /usr/local/lib/python3.7/dist-packages (from wandb) (0.4.0)\n",
            "Requirement already satisfied: PyYAML in /usr/local/lib/python3.7/dist-packages (from wandb) (3.13)\n",
            "Requirement already satisfied: protobuf>=3.12.0 in /usr/local/lib/python3.7/dist-packages (from wandb) (3.17.3)\n",
            "Requirement already satisfied: subprocess32>=3.5.3 in /usr/local/lib/python3.7/dist-packages (from wandb) (3.5.4)\n",
            "Requirement already satisfied: python-dateutil>=2.6.1 in /usr/local/lib/python3.7/dist-packages (from wandb) (2.8.2)\n",
            "Requirement already satisfied: requests<3,>=2.0.0 in /usr/local/lib/python3.7/dist-packages (from wandb) (2.23.0)\n",
            "Requirement already satisfied: Click!=8.0.0,>=7.0 in /usr/local/lib/python3.7/dist-packages (from wandb) (7.1.2)\n",
            "Requirement already satisfied: shortuuid>=0.5.0 in /usr/local/lib/python3.7/dist-packages (from wandb) (1.0.8)\n",
            "Requirement already satisfied: psutil>=5.0.0 in /usr/local/lib/python3.7/dist-packages (from wandb) (5.4.8)\n",
            "Requirement already satisfied: yaspin>=1.0.0 in /usr/local/lib/python3.7/dist-packages (from wandb) (2.1.0)\n",
            "Requirement already satisfied: typing-extensions>=3.7.4.3 in /usr/local/lib/python3.7/dist-packages (from GitPython>=1.0.0->wandb) (3.10.0.2)\n",
            "Requirement already satisfied: gitdb<5,>=4.0.1 in /usr/local/lib/python3.7/dist-packages (from GitPython>=1.0.0->wandb) (4.0.9)\n",
            "Requirement already satisfied: smmap<6,>=3.0.1 in /usr/local/lib/python3.7/dist-packages (from gitdb<5,>=4.0.1->GitPython>=1.0.0->wandb) (5.0.0)\n",
            "Requirement already satisfied: idna<3,>=2.5 in /usr/local/lib/python3.7/dist-packages (from requests<3,>=2.0.0->wandb) (2.10)\n",
            "Requirement already satisfied: certifi>=2017.4.17 in /usr/local/lib/python3.7/dist-packages (from requests<3,>=2.0.0->wandb) (2021.10.8)\n",
            "Requirement already satisfied: urllib3!=1.25.0,!=1.25.1,<1.26,>=1.21.1 in /usr/local/lib/python3.7/dist-packages (from requests<3,>=2.0.0->wandb) (1.24.3)\n",
            "Requirement already satisfied: chardet<4,>=3.0.2 in /usr/local/lib/python3.7/dist-packages (from requests<3,>=2.0.0->wandb) (3.0.4)\n",
            "Requirement already satisfied: termcolor<2.0.0,>=1.1.0 in /usr/local/lib/python3.7/dist-packages (from yaspin>=1.0.0->wandb) (1.1.0)\n"
          ]
        }
      ]
    },
    {
      "cell_type": "code",
      "metadata": {
        "colab": {
          "base_uri": "https://localhost:8080/"
        },
        "id": "HZG8BDT-xrv3",
        "outputId": "60a9de4a-479a-4252-f9dd-c415940e467b"
      },
      "source": [
        "!wandb login"
      ],
      "execution_count": 2,
      "outputs": [
        {
          "output_type": "stream",
          "name": "stdout",
          "text": [
            "\u001b[34m\u001b[1mwandb\u001b[0m: Currently logged in as: \u001b[33mdoris\u001b[0m (use `wandb login --relogin` to force relogin)\n"
          ]
        }
      ]
    },
    {
      "cell_type": "code",
      "metadata": {
        "id": "WHZBzAXjxz1J"
      },
      "source": [
        "import wandb"
      ],
      "execution_count": 3,
      "outputs": []
    },
    {
      "cell_type": "code",
      "metadata": {
        "colab": {
          "base_uri": "https://localhost:8080/"
        },
        "id": "MUy1ta4_782n",
        "outputId": "14776ca6-2e2a-49c1-c5e0-4725f65f536d"
      },
      "source": [
        "!pip uninstall gensim -y"
      ],
      "execution_count": 4,
      "outputs": [
        {
          "output_type": "stream",
          "name": "stdout",
          "text": [
            "Found existing installation: gensim 4.1.2\n",
            "Uninstalling gensim-4.1.2:\n",
            "  Successfully uninstalled gensim-4.1.2\n"
          ]
        }
      ]
    },
    {
      "cell_type": "code",
      "metadata": {
        "colab": {
          "base_uri": "https://localhost:8080/"
        },
        "id": "oAroxmvO8GQj",
        "outputId": "7ea43799-bea8-4af7-fe07-f3ccdd722d50"
      },
      "source": [
        "!pip install gensim"
      ],
      "execution_count": 5,
      "outputs": [
        {
          "output_type": "stream",
          "name": "stdout",
          "text": [
            "Collecting gensim\n",
            "  Using cached gensim-4.1.2-cp37-cp37m-manylinux_2_12_x86_64.manylinux2010_x86_64.whl (24.1 MB)\n",
            "Requirement already satisfied: numpy>=1.17.0 in /usr/local/lib/python3.7/dist-packages (from gensim) (1.19.5)\n",
            "Requirement already satisfied: scipy>=0.18.1 in /usr/local/lib/python3.7/dist-packages (from gensim) (1.4.1)\n",
            "Requirement already satisfied: smart-open>=1.8.1 in /usr/local/lib/python3.7/dist-packages (from gensim) (5.2.1)\n",
            "Installing collected packages: gensim\n",
            "Successfully installed gensim-4.1.2\n"
          ]
        }
      ]
    },
    {
      "cell_type": "code",
      "metadata": {
        "id": "6SZ0zrKX8H-D"
      },
      "source": [
        "import gensim\n",
        "from sklearn.manifold import TSNE\n",
        "import matplotlib.pyplot as plt\n",
        "import pprint\n",
        "import pandas as pd\n",
        "import numpy as np\n",
        "from collections import Counter\n",
        "import plotly.express as px\n",
        "from tqdm import tqdm \n",
        "from gensim.models.doc2vec import Doc2Vec\n",
        "from gensim.models.tfidfmodel import TfidfModel\n",
        "from gensim.models.lsimodel import LsiModel\n",
        "from gensim.models import CoherenceModel\n",
        "from gensim import corpora\n",
        "from gensim import similarities\n",
        "import pickle\n",
        "import os"
      ],
      "execution_count": 6,
      "outputs": []
    },
    {
      "cell_type": "code",
      "metadata": {
        "id": "znWar-PK8KHT"
      },
      "source": [
        "import logging\n",
        "logging.basicConfig(format='%(asctime)s : %(levelname)s : %(message)s', level=logging.INFO)"
      ],
      "execution_count": 7,
      "outputs": []
    },
    {
      "cell_type": "code",
      "metadata": {
        "colab": {
          "base_uri": "https://localhost:8080/"
        },
        "id": "kjCf_Abf8MCc",
        "outputId": "ad09a918-c477-4e99-ca6d-068fe12d1799"
      },
      "source": [
        "print(gensim.__version__)"
      ],
      "execution_count": 8,
      "outputs": [
        {
          "output_type": "stream",
          "name": "stdout",
          "text": [
            "4.1.2\n"
          ]
        }
      ]
    },
    {
      "cell_type": "code",
      "metadata": {
        "id": "_aEonlx-CT6r"
      },
      "source": [
        "!rm data.csv"
      ],
      "execution_count": 9,
      "outputs": []
    },
    {
      "cell_type": "markdown",
      "metadata": {
        "id": "Nk5pPZqk0Pn7"
      },
      "source": [
        "# Configuration\n"
      ]
    },
    {
      "cell_type": "code",
      "metadata": {
        "id": "wcZ18xhgU7MZ"
      },
      "source": [
        "use_wandb = True"
      ],
      "execution_count": 10,
      "outputs": []
    },
    {
      "cell_type": "code",
      "metadata": {
        "id": "A-AD1gxGLYxp"
      },
      "source": [
        "generate_webapp_data = False"
      ],
      "execution_count": 11,
      "outputs": []
    },
    {
      "cell_type": "code",
      "metadata": {
        "id": "GfQbJQmexlxI"
      },
      "source": [
        "chords_repeated = 'rep' \n",
        "chords_preprocessing = 'rootAndDegreesPlus'"
      ],
      "execution_count": 12,
      "outputs": []
    },
    {
      "cell_type": "code",
      "metadata": {
        "id": "buoyWNl0F48Y"
      },
      "source": [
        "ngrams_for_input = [1]"
      ],
      "execution_count": 13,
      "outputs": []
    },
    {
      "cell_type": "code",
      "metadata": {
        "id": "K7qB2_sBvKpB"
      },
      "source": [
        "input_files = {\n",
        "    'sections': {\n",
        "        'rep': {\n",
        "            # M7 and 6 reduced to major triad, m7 reduced to m, dominant 7, m7b5, diminished, and all (b5) left as they are.\n",
        "            'rootAndDegreesPlus': '1BDYukaIj72jmi9PqZVrCAqKbyxg8Z4yq',\n",
        "            'rootAndDegrees7': '',\n",
        "            'rootAndDegreesSimplified': ''\n",
        "        },\n",
        "    },\n",
        "    'tunes': {\n",
        "        'rep': {\n",
        "            'rootAndDegreesPlus': '',\n",
        "            'rootAndDegrees7': '',\n",
        "            'rootAndDegreesSimplified': '',\n",
        "        },\n",
        "        'norep': {\n",
        "            'rootAndDegreesPlus': '',\n",
        "            'rootAndDegrees7': '',\n",
        "            'rootAndDegreesSimplified': '',\n",
        "        }\n",
        "    }\n",
        "}"
      ],
      "execution_count": 14,
      "outputs": []
    },
    {
      "cell_type": "code",
      "metadata": {
        "colab": {
          "base_uri": "https://localhost:8080/"
        },
        "id": "lM6eaQwnyWD3",
        "outputId": "2a58762f-2816-4878-f834-447d2e187f31"
      },
      "source": [
        "tunes_eval_list = [\n",
        "  \"Sweet Sue, Just You [jazz1350]\",\n",
        "  \"These Foolish Things [jazz1350]\", \n",
        "  \"Blue Moon [jazz1350]\",\n",
        "  \"All Of Me [jazz1350]\",\n",
        "  \"All God's Chillun Got Rhythm [jazz1350]\",\n",
        "  \"I Got Rhythm [jazz1350]\",\n",
        "  \"Bye Bye Blackbird [jazz1350]\",\n",
        "  \"Old Fashioned Love [trad]\",\n",
        "  \"Dinah [jazz1350]\",\n",
        "  \"Honeysuckle Rose [jazz1350]\",\n",
        "  \"Misty [jazz1350]\",\n",
        "  \"We'll Be Together Again [jazz1350]\",\n",
        "  \"East Of The Sun [jazz1350]\",\n",
        "  \"Sophisticated Lady [jazz1350]\",\n",
        "  \"Perdido [jazz1350]\",\n",
        "  \"Naima [jazz1350]\",\n",
        "  \"Call Me Irresponsible [jazz1350]\",\n",
        "  \"Corcovado [jazz1350]\",\n",
        "  \"Footprints [jazz1350]\",\n",
        "  \"Giant Steps [jazz1350]\",\n",
        "  \"But Beautiful [jazz1350]\",\n",
        "  \"Rockin' Chair [jazz1350]\",\n",
        "  \"Blood Count [jazz1350]\",\n",
        "  \"After You've Gone [jazz1350]\",\n",
        "]\n",
        "\n",
        "tunes_eval_list = sorted(tunes_eval_list)\n",
        "tunes_eval_list"
      ],
      "execution_count": 15,
      "outputs": [
        {
          "output_type": "execute_result",
          "data": {
            "text/plain": [
              "[\"After You've Gone [jazz1350]\",\n",
              " \"All God's Chillun Got Rhythm [jazz1350]\",\n",
              " 'All Of Me [jazz1350]',\n",
              " 'Blood Count [jazz1350]',\n",
              " 'Blue Moon [jazz1350]',\n",
              " 'But Beautiful [jazz1350]',\n",
              " 'Bye Bye Blackbird [jazz1350]',\n",
              " 'Call Me Irresponsible [jazz1350]',\n",
              " 'Corcovado [jazz1350]',\n",
              " 'Dinah [jazz1350]',\n",
              " 'East Of The Sun [jazz1350]',\n",
              " 'Footprints [jazz1350]',\n",
              " 'Giant Steps [jazz1350]',\n",
              " 'Honeysuckle Rose [jazz1350]',\n",
              " 'I Got Rhythm [jazz1350]',\n",
              " 'Misty [jazz1350]',\n",
              " 'Naima [jazz1350]',\n",
              " 'Old Fashioned Love [trad]',\n",
              " 'Perdido [jazz1350]',\n",
              " \"Rockin' Chair [jazz1350]\",\n",
              " 'Sophisticated Lady [jazz1350]',\n",
              " 'Sweet Sue, Just You [jazz1350]',\n",
              " 'These Foolish Things [jazz1350]',\n",
              " \"We'll Be Together Again [jazz1350]\"]"
            ]
          },
          "metadata": {},
          "execution_count": 15
        }
      ]
    },
    {
      "cell_type": "code",
      "metadata": {
        "id": "uiI0h4ef0PCD",
        "colab": {
          "base_uri": "https://localhost:8080/"
        },
        "outputId": "92ad8305-ed56-4b89-d290-a28e4d2092e8"
      },
      "source": [
        "contrafacts_1350jazz = {\n",
        "               \"26-2\": \"Confirmation\",\n",
        "               \"52nd Street Theme\": \"I Got Rhythm\",\n",
        "               \"Ablution\": \"All The Things You Are\",\n",
        "               \"Anthropology\": \"I Got Rhythm\",\n",
        "               \"Ballade\": \"As Long As I Live\",\n",
        "               \"Bright Mississippi\": \"Sweet Georgia Brown\",\n",
        "               \"C.T.A.\": \"I Got Rhythm\",\n",
        "               # \"Celia\": \"I Got Rhythm\",\n",
        "               \"Cottontail\": \"I Got Rhythm\",\n",
        "               \"Countdown\": \"Tune Up\",\n",
        "               \"Dewey Square\": \"Oh, Lady Be Good\",\n",
        "               \"Dexterity\": \"I Got Rhythm\",\n",
        "               \"Dig\": \"Sweet Georgia Brown\",\n",
        "               \"Donna Lee\": \"Indiana (Back Home Again In)\",\n",
        "               \"Don't Be That Way\": \"I Got Rhythm\",\n",
        "               #\"Eternal Triangle\": \"I Got Rhythm\",\n",
        "               \"Evidence\": \"Just You, Just Me\",\n",
        "               \"Flintstones\": \"I Got Rhythm\",\n",
        "               \"Four On Six\": \"Summertime\",\n",
        "               \"Freight Train\": \"Blues For Alice\",\n",
        "               \"Good Bait\": \"I Got Rhythm\",\n",
        "               \"Hackensack\": \"Oh, Lady Be Good\",\n",
        "               \"Half Nelson\": \"Lady Bird\",\n",
        "               \"Hot House\": \"What Is This Thing Called Love\",\n",
        "               \"Impressions\": \"So What\",\n",
        "               \"In A Mellow Tone (In A Mellotone)\": \"Rose Room\",\n",
        "               \"In Walked Bud\": \"Blue Skies\",\n",
        "               \"Ko Ko\": \"Cherokee\",\n",
        "               \"Lennie's Pennies\": \"Pennies From Heaven\",   ## Lennie's Pennies is in minor and therefore transposed to Amin... not possible to recognize like that\n",
        "               # \"Let's Call This\": \"Honeysuckle Rose\",\n",
        "               \"Little Rootie Tootie\": \"I Got Rhythm\",\n",
        "               \"Little Willie Leaps\": \"All God's Chillun Got Rhythm\",\n",
        "               \"Lullaby Of Birdland\": \"Love Me Or Leave Me\",\n",
        "               #\"Moose The Mooche\": \"I Got Rhythm\",\n",
        "               \"My Little Suede Shoes\": \"Jeepers Creepers\",\n",
        "               #\"Oleo\": \"I Got Rhythm\",\n",
        "               \"Ornithology\": \"How High The Moon\",\n",
        "               #\"Passport\": \"I Got Rhythm\",\n",
        "               \"Quasimodo (Theme)\": \"Embraceable You\",\n",
        "               #\"Rhythm-a-ning\": \"I Got Rhythm\",\n",
        "               \"Room 608\": \"I Got Rhythm\",\n",
        "               #\"Salt Peanuts\": \"I Got Rhythm\",\n",
        "               \"Satellite\": \"How High The Moon\",\n",
        "               \"Scrapple From The Apple\": \"Honeysuckle Rose\", # A section\n",
        "               \"Scrapple From The Apple\": \"I Got Rhythm\", # B section\n",
        "               #\"Segment\": \"I Got Rhythm\",\n",
        "               #\"Seven Come Eleven\": \"I Got Rhythm\",\n",
        "               #\"Shaw 'Nuff\": \"I Got Rhythm\",\n",
        "               #\"Theme, The\": \"I Got Rhythm\",\n",
        "               \"Tour De Force\": \"Jeepers Creepers\",\n",
        "               \"Wow\": \"You Can Depend On Me\",\n",
        "               \"Yardbird Suite\": \"Rosetta\",\n",
        "\n",
        "               # following tunes are not from wikipedia:\n",
        "               \"Sweet Sue, Just You\": \"Honeysuckle Rose\",  # A section\n",
        "               # \"All Of Me\": \"Pennies From Heaven\", # bars 25-28 of All of Me are same as bars 17-20 of Pennies From Heaven, but different key!\n",
        "               \"Sweet Sue, Just You\": \"Bye Bye Blackbird\", # Bridge same\n",
        "               \"These Foolish Things\": \"Blue Moon\", # first 8 bars same\n",
        "               \"These Foolish Things\": \"More Than You Know\",\n",
        "               \"These Foolish Things\": \"Isn't It A Pity\",\n",
        "               \"These Foolish Things\": \"Soultrain\",\n",
        "               \"These Foolish Things\": \"Why Do I Love You\",\n",
        "               \"Misty\": \"Portrait Of Jennie\",\n",
        "               \"Misty\": \"September In The Rain\",\n",
        "               \"Misty\": \"I May Be Wrong\",                    \n",
        "}\n",
        "\n",
        "\n",
        "contrafacts = {}\n",
        "for key, value in contrafacts_1350jazz.items():\n",
        "  contrafacts[f\"{key} [jazz1350]\"] = f\"{value} [jazz1350]\"\n",
        "\n",
        "contrafacts\n"
      ],
      "execution_count": 16,
      "outputs": [
        {
          "output_type": "execute_result",
          "data": {
            "text/plain": [
              "{'26-2 [jazz1350]': 'Confirmation [jazz1350]',\n",
              " '52nd Street Theme [jazz1350]': 'I Got Rhythm [jazz1350]',\n",
              " 'Ablution [jazz1350]': 'All The Things You Are [jazz1350]',\n",
              " 'Anthropology [jazz1350]': 'I Got Rhythm [jazz1350]',\n",
              " 'Ballade [jazz1350]': 'As Long As I Live [jazz1350]',\n",
              " 'Bright Mississippi [jazz1350]': 'Sweet Georgia Brown [jazz1350]',\n",
              " 'C.T.A. [jazz1350]': 'I Got Rhythm [jazz1350]',\n",
              " 'Cottontail [jazz1350]': 'I Got Rhythm [jazz1350]',\n",
              " 'Countdown [jazz1350]': 'Tune Up [jazz1350]',\n",
              " 'Dewey Square [jazz1350]': 'Oh, Lady Be Good [jazz1350]',\n",
              " 'Dexterity [jazz1350]': 'I Got Rhythm [jazz1350]',\n",
              " 'Dig [jazz1350]': 'Sweet Georgia Brown [jazz1350]',\n",
              " \"Don't Be That Way [jazz1350]\": 'I Got Rhythm [jazz1350]',\n",
              " 'Donna Lee [jazz1350]': 'Indiana (Back Home Again In) [jazz1350]',\n",
              " 'Evidence [jazz1350]': 'Just You, Just Me [jazz1350]',\n",
              " 'Flintstones [jazz1350]': 'I Got Rhythm [jazz1350]',\n",
              " 'Four On Six [jazz1350]': 'Summertime [jazz1350]',\n",
              " 'Freight Train [jazz1350]': 'Blues For Alice [jazz1350]',\n",
              " 'Good Bait [jazz1350]': 'I Got Rhythm [jazz1350]',\n",
              " 'Hackensack [jazz1350]': 'Oh, Lady Be Good [jazz1350]',\n",
              " 'Half Nelson [jazz1350]': 'Lady Bird [jazz1350]',\n",
              " 'Hot House [jazz1350]': 'What Is This Thing Called Love [jazz1350]',\n",
              " 'Impressions [jazz1350]': 'So What [jazz1350]',\n",
              " 'In A Mellow Tone (In A Mellotone) [jazz1350]': 'Rose Room [jazz1350]',\n",
              " 'In Walked Bud [jazz1350]': 'Blue Skies [jazz1350]',\n",
              " 'Ko Ko [jazz1350]': 'Cherokee [jazz1350]',\n",
              " \"Lennie's Pennies [jazz1350]\": 'Pennies From Heaven [jazz1350]',\n",
              " 'Little Rootie Tootie [jazz1350]': 'I Got Rhythm [jazz1350]',\n",
              " 'Little Willie Leaps [jazz1350]': \"All God's Chillun Got Rhythm [jazz1350]\",\n",
              " 'Lullaby Of Birdland [jazz1350]': 'Love Me Or Leave Me [jazz1350]',\n",
              " 'Misty [jazz1350]': 'I May Be Wrong [jazz1350]',\n",
              " 'My Little Suede Shoes [jazz1350]': 'Jeepers Creepers [jazz1350]',\n",
              " 'Ornithology [jazz1350]': 'How High The Moon [jazz1350]',\n",
              " 'Quasimodo (Theme) [jazz1350]': 'Embraceable You [jazz1350]',\n",
              " 'Room 608 [jazz1350]': 'I Got Rhythm [jazz1350]',\n",
              " 'Satellite [jazz1350]': 'How High The Moon [jazz1350]',\n",
              " 'Scrapple From The Apple [jazz1350]': 'I Got Rhythm [jazz1350]',\n",
              " 'Sweet Sue, Just You [jazz1350]': 'Bye Bye Blackbird [jazz1350]',\n",
              " 'These Foolish Things [jazz1350]': 'Why Do I Love You [jazz1350]',\n",
              " 'Tour De Force [jazz1350]': 'Jeepers Creepers [jazz1350]',\n",
              " 'Wow [jazz1350]': 'You Can Depend On Me [jazz1350]',\n",
              " 'Yardbird Suite [jazz1350]': 'Rosetta [jazz1350]'}"
            ]
          },
          "metadata": {},
          "execution_count": 16
        }
      ]
    },
    {
      "cell_type": "markdown",
      "metadata": {
        "id": "gcexO7zK8Pn6"
      },
      "source": [
        "# Initialization\n",
        "\n",
        "## Download the Data"
      ]
    },
    {
      "cell_type": "code",
      "metadata": {
        "id": "JwVJo3Vat8iF"
      },
      "source": [
        "input_data = input_files['sections'][chords_repeated][chords_preprocessing]\n",
        "\n",
        "input_path = f\"https://docs.google.com/uc?export=download&id={input_data}\"\n",
        "data_file_name = 'data.csv'\n"
      ],
      "execution_count": 17,
      "outputs": []
    },
    {
      "cell_type": "code",
      "metadata": {
        "colab": {
          "base_uri": "https://localhost:8080/",
          "height": 36
        },
        "id": "_Dp-fijjB-pU",
        "outputId": "e132117b-c8d0-477d-b4c3-36af8bab658f"
      },
      "source": [
        "input_path"
      ],
      "execution_count": 18,
      "outputs": [
        {
          "output_type": "execute_result",
          "data": {
            "application/vnd.google.colaboratory.intrinsic+json": {
              "type": "string"
            },
            "text/plain": [
              "'https://docs.google.com/uc?export=download&id=1BDYukaIj72jmi9PqZVrCAqKbyxg8Z4yq'"
            ]
          },
          "metadata": {},
          "execution_count": 18
        }
      ]
    },
    {
      "cell_type": "code",
      "metadata": {
        "colab": {
          "base_uri": "https://localhost:8080/"
        },
        "id": "1ZVAYUH5t9Li",
        "outputId": "453ad155-366f-4e37-8da9-109efa189d31"
      },
      "source": [
        "!wget --no-check-certificate \"$input_path\" -O \"$data_file_name\""
      ],
      "execution_count": 19,
      "outputs": [
        {
          "output_type": "stream",
          "name": "stdout",
          "text": [
            "--2021-11-26 21:53:36--  https://docs.google.com/uc?export=download&id=1BDYukaIj72jmi9PqZVrCAqKbyxg8Z4yq\n",
            "Resolving docs.google.com (docs.google.com)... 209.85.200.102, 209.85.200.138, 209.85.200.113, ...\n",
            "Connecting to docs.google.com (docs.google.com)|209.85.200.102|:443... connected.\n",
            "HTTP request sent, awaiting response... 302 Moved Temporarily\n",
            "Location: https://doc-0k-4c-docs.googleusercontent.com/docs/securesc/ha0ro937gcuc7l7deffksulhg5h7mbp1/kldd1t2ueqd7um1fq737kp4rsiq9ll12/1637963550000/14329102864480165501/*/1BDYukaIj72jmi9PqZVrCAqKbyxg8Z4yq?e=download [following]\n",
            "Warning: wildcards not supported in HTTP.\n",
            "--2021-11-26 21:53:37--  https://doc-0k-4c-docs.googleusercontent.com/docs/securesc/ha0ro937gcuc7l7deffksulhg5h7mbp1/kldd1t2ueqd7um1fq737kp4rsiq9ll12/1637963550000/14329102864480165501/*/1BDYukaIj72jmi9PqZVrCAqKbyxg8Z4yq?e=download\n",
            "Resolving doc-0k-4c-docs.googleusercontent.com (doc-0k-4c-docs.googleusercontent.com)... 172.217.219.132, 2607:f8b0:4001:c13::84\n",
            "Connecting to doc-0k-4c-docs.googleusercontent.com (doc-0k-4c-docs.googleusercontent.com)|172.217.219.132|:443... connected.\n",
            "HTTP request sent, awaiting response... 200 OK\n",
            "Length: 813814 (795K) [text/csv]\n",
            "Saving to: ‘data.csv’\n",
            "\n",
            "data.csv            100%[===================>] 794.74K  --.-KB/s    in 0.007s  \n",
            "\n",
            "2021-11-26 21:53:37 (110 MB/s) - ‘data.csv’ saved [813814/813814]\n",
            "\n"
          ]
        }
      ]
    },
    {
      "cell_type": "markdown",
      "metadata": {
        "id": "Ljs21B7h8YvC"
      },
      "source": [
        "### Read Chords Input Data"
      ]
    },
    {
      "cell_type": "code",
      "metadata": {
        "colab": {
          "base_uri": "https://localhost:8080/",
          "height": 310
        },
        "id": "B7kK418L8aac",
        "outputId": "51705b30-8984-4428-d5fd-334e8f43dc62"
      },
      "source": [
        "df = pd.read_csv(data_file_name, sep='\\t', index_col=\"id\")\n",
        "df = df.reset_index()\n",
        "df.head(5)"
      ],
      "execution_count": 20,
      "outputs": [
        {
          "output_type": "execute_result",
          "data": {
            "text/html": [
              "<div>\n",
              "<style scoped>\n",
              "    .dataframe tbody tr th:only-of-type {\n",
              "        vertical-align: middle;\n",
              "    }\n",
              "\n",
              "    .dataframe tbody tr th {\n",
              "        vertical-align: top;\n",
              "    }\n",
              "\n",
              "    .dataframe thead th {\n",
              "        text-align: right;\n",
              "    }\n",
              "</style>\n",
              "<table border=\"1\" class=\"dataframe\">\n",
              "  <thead>\n",
              "    <tr style=\"text-align: right;\">\n",
              "      <th></th>\n",
              "      <th>id</th>\n",
              "      <th>file_name</th>\n",
              "      <th>title</th>\n",
              "      <th>title_playlist</th>\n",
              "      <th>tune_mode</th>\n",
              "      <th>tune_id</th>\n",
              "      <th>section_name</th>\n",
              "      <th>section_id</th>\n",
              "      <th>chords</th>\n",
              "    </tr>\n",
              "  </thead>\n",
              "  <tbody>\n",
              "    <tr>\n",
              "      <th>0</th>\n",
              "      <td>0</td>\n",
              "      <td>dataset/jazz1350/26-2.xml</td>\n",
              "      <td>26-2</td>\n",
              "      <td>26-2 [jazz1350]</td>\n",
              "      <td>major</td>\n",
              "      <td>0</td>\n",
              "      <td>A</td>\n",
              "      <td>1</td>\n",
              "      <td>C Eb7 G# B7 E G7 Gm C7 F G#7 C# E7 Am D7 Dm G7</td>\n",
              "    </tr>\n",
              "    <tr>\n",
              "      <th>1</th>\n",
              "      <td>1</td>\n",
              "      <td>dataset/jazz1350/26-2.xml</td>\n",
              "      <td>26-2</td>\n",
              "      <td>26-2 [jazz1350]</td>\n",
              "      <td>major</td>\n",
              "      <td>0</td>\n",
              "      <td>A</td>\n",
              "      <td>2</td>\n",
              "      <td>C Eb7 G# B7 E G7 Gm C7 F Eb7 G# B7 E G7 C</td>\n",
              "    </tr>\n",
              "    <tr>\n",
              "      <th>2</th>\n",
              "      <td>2</td>\n",
              "      <td>dataset/jazz1350/26-2.xml</td>\n",
              "      <td>26-2</td>\n",
              "      <td>26-2 [jazz1350]</td>\n",
              "      <td>major</td>\n",
              "      <td>0</td>\n",
              "      <td>B</td>\n",
              "      <td>3</td>\n",
              "      <td>Gm C7 Bm E7 A C7 F Bbm Eb7 G# Dm G7</td>\n",
              "    </tr>\n",
              "    <tr>\n",
              "      <th>3</th>\n",
              "      <td>3</td>\n",
              "      <td>dataset/jazz1350/26-2.xml</td>\n",
              "      <td>26-2</td>\n",
              "      <td>26-2 [jazz1350]</td>\n",
              "      <td>major</td>\n",
              "      <td>0</td>\n",
              "      <td>A</td>\n",
              "      <td>4</td>\n",
              "      <td>C Eb7 G# B7 E G7 Gm C7 F Eb7 G# B7 E G7 C</td>\n",
              "    </tr>\n",
              "    <tr>\n",
              "      <th>4</th>\n",
              "      <td>4</td>\n",
              "      <td>dataset/jazz1350/500 Miles High.xml</td>\n",
              "      <td>500 Miles High</td>\n",
              "      <td>500 Miles High [jazz1350]</td>\n",
              "      <td>minor</td>\n",
              "      <td>1</td>\n",
              "      <td>NaN</td>\n",
              "      <td>0</td>\n",
              "      <td>Am Am Cm Cm Eb Eb Em7b5 A7 Dm Dm Bm7b5 Bm7b5 B...</td>\n",
              "    </tr>\n",
              "  </tbody>\n",
              "</table>\n",
              "</div>"
            ],
            "text/plain": [
              "   id  ...                                             chords\n",
              "0   0  ...     C Eb7 G# B7 E G7 Gm C7 F G#7 C# E7 Am D7 Dm G7\n",
              "1   1  ...          C Eb7 G# B7 E G7 Gm C7 F Eb7 G# B7 E G7 C\n",
              "2   2  ...                Gm C7 Bm E7 A C7 F Bbm Eb7 G# Dm G7\n",
              "3   3  ...          C Eb7 G# B7 E G7 Gm C7 F Eb7 G# B7 E G7 C\n",
              "4   4  ...  Am Am Cm Cm Eb Eb Em7b5 A7 Dm Dm Bm7b5 Bm7b5 B...\n",
              "\n",
              "[5 rows x 9 columns]"
            ]
          },
          "metadata": {},
          "execution_count": 20
        }
      ]
    },
    {
      "cell_type": "markdown",
      "metadata": {
        "id": "OsPcEFbg8gu6"
      },
      "source": [
        "### Meta Data"
      ]
    },
    {
      "cell_type": "code",
      "metadata": {
        "colab": {
          "base_uri": "https://localhost:8080/",
          "height": 206
        },
        "id": "_62YlEVJXOCL",
        "outputId": "4b0b7402-60c3-4cd9-b8d5-c8e72edf39c0"
      },
      "source": [
        "titles = df.loc[:, ['id', 'tune_id', 'section_id', 'section_name', 'title', 'title_playlist', 'tune_mode']]\n",
        "titles[:5]"
      ],
      "execution_count": 21,
      "outputs": [
        {
          "output_type": "execute_result",
          "data": {
            "text/html": [
              "<div>\n",
              "<style scoped>\n",
              "    .dataframe tbody tr th:only-of-type {\n",
              "        vertical-align: middle;\n",
              "    }\n",
              "\n",
              "    .dataframe tbody tr th {\n",
              "        vertical-align: top;\n",
              "    }\n",
              "\n",
              "    .dataframe thead th {\n",
              "        text-align: right;\n",
              "    }\n",
              "</style>\n",
              "<table border=\"1\" class=\"dataframe\">\n",
              "  <thead>\n",
              "    <tr style=\"text-align: right;\">\n",
              "      <th></th>\n",
              "      <th>id</th>\n",
              "      <th>tune_id</th>\n",
              "      <th>section_id</th>\n",
              "      <th>section_name</th>\n",
              "      <th>title</th>\n",
              "      <th>title_playlist</th>\n",
              "      <th>tune_mode</th>\n",
              "    </tr>\n",
              "  </thead>\n",
              "  <tbody>\n",
              "    <tr>\n",
              "      <th>0</th>\n",
              "      <td>0</td>\n",
              "      <td>0</td>\n",
              "      <td>1</td>\n",
              "      <td>A</td>\n",
              "      <td>26-2</td>\n",
              "      <td>26-2 [jazz1350]</td>\n",
              "      <td>major</td>\n",
              "    </tr>\n",
              "    <tr>\n",
              "      <th>1</th>\n",
              "      <td>1</td>\n",
              "      <td>0</td>\n",
              "      <td>2</td>\n",
              "      <td>A</td>\n",
              "      <td>26-2</td>\n",
              "      <td>26-2 [jazz1350]</td>\n",
              "      <td>major</td>\n",
              "    </tr>\n",
              "    <tr>\n",
              "      <th>2</th>\n",
              "      <td>2</td>\n",
              "      <td>0</td>\n",
              "      <td>3</td>\n",
              "      <td>B</td>\n",
              "      <td>26-2</td>\n",
              "      <td>26-2 [jazz1350]</td>\n",
              "      <td>major</td>\n",
              "    </tr>\n",
              "    <tr>\n",
              "      <th>3</th>\n",
              "      <td>3</td>\n",
              "      <td>0</td>\n",
              "      <td>4</td>\n",
              "      <td>A</td>\n",
              "      <td>26-2</td>\n",
              "      <td>26-2 [jazz1350]</td>\n",
              "      <td>major</td>\n",
              "    </tr>\n",
              "    <tr>\n",
              "      <th>4</th>\n",
              "      <td>4</td>\n",
              "      <td>1</td>\n",
              "      <td>0</td>\n",
              "      <td>NaN</td>\n",
              "      <td>500 Miles High</td>\n",
              "      <td>500 Miles High [jazz1350]</td>\n",
              "      <td>minor</td>\n",
              "    </tr>\n",
              "  </tbody>\n",
              "</table>\n",
              "</div>"
            ],
            "text/plain": [
              "   id  tune_id  section_id  ...           title             title_playlist tune_mode\n",
              "0   0        0           1  ...            26-2            26-2 [jazz1350]     major\n",
              "1   1        0           2  ...            26-2            26-2 [jazz1350]     major\n",
              "2   2        0           3  ...            26-2            26-2 [jazz1350]     major\n",
              "3   3        0           4  ...            26-2            26-2 [jazz1350]     major\n",
              "4   4        1           0  ...  500 Miles High  500 Miles High [jazz1350]     minor\n",
              "\n",
              "[5 rows x 7 columns]"
            ]
          },
          "metadata": {},
          "execution_count": 21
        }
      ]
    },
    {
      "cell_type": "code",
      "metadata": {
        "id": "0vEOjvwt8jUu"
      },
      "source": [
        "titles_dict = titles.to_dict()\n",
        "\n",
        "sectionid_to_title = titles_dict['title_playlist']\n",
        "sectionid_to_titleid = titles_dict['tune_id']\n"
      ],
      "execution_count": 22,
      "outputs": []
    },
    {
      "cell_type": "code",
      "metadata": {
        "id": "Om7pbfnNGO_I"
      },
      "source": [
        "tunes = df.loc[:, ['tune_id', 'title_playlist']].drop_duplicates()\n",
        "tunes = tunes.set_index('tune_id').to_dict()\n",
        "titleid_to_title = tunes['title_playlist']"
      ],
      "execution_count": 23,
      "outputs": []
    },
    {
      "cell_type": "code",
      "metadata": {
        "id": "OvLyxrExxvew"
      },
      "source": [
        "title_to_titleid = {v: k for k, v in titleid_to_title.items()}\n"
      ],
      "execution_count": 24,
      "outputs": []
    },
    {
      "cell_type": "code",
      "metadata": {
        "id": "1H72Y3_d8uNu"
      },
      "source": [
        "titles_rows = titles.to_dict(orient='records')\n",
        "sectionid_to_section = []\n",
        "for i, row in enumerate(titles_rows):\n",
        "  name = f\"{row['title']}, section{row['section_id']} ({row['section_name']})\"\n",
        "  sectionid_to_section.append(name)\n",
        "  "
      ],
      "execution_count": 25,
      "outputs": []
    },
    {
      "cell_type": "code",
      "metadata": {
        "id": "HCeGUk818y8V"
      },
      "source": [
        "title_to_sectionid = {}\n",
        "\n",
        "for row in titles.iterrows():\n",
        "  title = row[1]['title_playlist']\n",
        "  if title not in title_to_sectionid:\n",
        "    title_to_sectionid[title] = [row[1]['id']]\n",
        "  else:\n",
        "    title_to_sectionid[title].append(row[1]['id'])"
      ],
      "execution_count": 26,
      "outputs": []
    },
    {
      "cell_type": "markdown",
      "metadata": {
        "id": "GWXGqImnoHdm"
      },
      "source": [
        "### Create Directories on Colab"
      ]
    },
    {
      "cell_type": "code",
      "metadata": {
        "id": "sDWIxDpIoJv1"
      },
      "source": [
        "!rm -R output\n",
        "!mkdir output"
      ],
      "execution_count": 27,
      "outputs": []
    },
    {
      "cell_type": "markdown",
      "metadata": {
        "id": "tHWe1mKVrF8O"
      },
      "source": [
        "### Test Data"
      ]
    },
    {
      "cell_type": "code",
      "metadata": {
        "id": "V0Bg0wJ7sBBk"
      },
      "source": [
        "tunes_eval_list = sorted(tunes_eval_list)"
      ],
      "execution_count": 28,
      "outputs": []
    },
    {
      "cell_type": "code",
      "metadata": {
        "id": "UE0AGDO_rFVo"
      },
      "source": [
        "#contrafacts_test = []\n",
        "#for reference, compare in contrafacts.items():\n",
        "#  contrafacts_test.append([title_to_sectionid[reference], title_to_sectionid[compare]])"
      ],
      "execution_count": 29,
      "outputs": []
    },
    {
      "cell_type": "markdown",
      "metadata": {
        "id": "LvQ60s_owm82"
      },
      "source": [
        "## Initialization for wandb variables"
      ]
    },
    {
      "cell_type": "code",
      "metadata": {
        "id": "fw7FHHXfwagL"
      },
      "source": [
        "recommender_results_cols = ['reference', 'id', 'method', 'similar', 'score_div_max', 'score']\n",
        "recommender_results = pd.DataFrame(columns=recommender_results_cols)"
      ],
      "execution_count": 30,
      "outputs": []
    },
    {
      "cell_type": "code",
      "metadata": {
        "id": "PfvF20G1JZMa"
      },
      "source": [
        "lsi_config = {\n",
        "    'num_topics': 200,\n",
        "}"
      ],
      "execution_count": 31,
      "outputs": []
    },
    {
      "cell_type": "code",
      "metadata": {
        "id": "eW2f6BdAJl01"
      },
      "source": [
        "doc2vec_config = {\n",
        "    'general': {\n",
        "        'chords_preprocessing': chords_preprocessing,\n",
        "        'chords_repeated': chords_repeated,\n",
        "        'document_tags': 'SectionsTunes',\n",
        "    },\n",
        "    'model': {\n",
        "        'dm': 1,\n",
        "        'vector_size': 100,\n",
        "        'window': 4,\n",
        "        'epochs': 40,\n",
        "        #'workers': 1,\n",
        "        'min_count': 1,\n",
        "        'negative': 10,\n",
        "        'sample': 0.001,\n",
        "        'seed': 42\n",
        "    }\n",
        "}"
      ],
      "execution_count": 32,
      "outputs": []
    },
    {
      "cell_type": "code",
      "metadata": {
        "id": "sxdJ97gdx70_",
        "colab": {
          "base_uri": "https://localhost:8080/",
          "height": 53
        },
        "outputId": "0acad41f-ec0e-4b66-c78c-de9cf47c51f7"
      },
      "source": [
        "if use_wandb:\n",
        "  wandb.init(\n",
        "        # Set entity to specify your username or team name\n",
        "        # ex: entity=\"carey\",\n",
        "        # Set the project where this run will be logged\n",
        "        project=\"jazztunes\", \n",
        "        \n",
        "        # Track hyperparameters and run metadata\n",
        "        config={\n",
        "            \"input_data\": input_path,\n",
        "            \"ngrams_input\": ngrams_for_input,\n",
        "            \"comparison\": \"sections\",\n",
        "            \"lsi\": lsi_config,\n",
        "            \"doc2vec\": doc2vec_config\n",
        "        }\n",
        "    )"
      ],
      "execution_count": 33,
      "outputs": [
        {
          "output_type": "stream",
          "name": "stderr",
          "text": [
            "\u001b[34m\u001b[1mwandb\u001b[0m: Currently logged in as: \u001b[33mdoris\u001b[0m (use `wandb login --relogin` to force relogin)\n"
          ]
        },
        {
          "output_type": "display_data",
          "data": {
            "text/html": [
              "\n",
              "                    Syncing run <strong><a href=\"https://wandb.ai/doris/jazztunes/runs/2j04lwh3\" target=\"_blank\">dandy-forest-3</a></strong> to <a href=\"https://wandb.ai/doris/jazztunes\" target=\"_blank\">Weights & Biases</a> (<a href=\"https://docs.wandb.com/integrations/jupyter.html\" target=\"_blank\">docs</a>).<br/>\n",
              "\n",
              "                "
            ],
            "text/plain": [
              "<IPython.core.display.HTML object>"
            ]
          },
          "metadata": {}
        }
      ]
    },
    {
      "cell_type": "code",
      "metadata": {
        "id": "xHOY4TKYVN-g"
      },
      "source": [
        "if use_wandb:\n",
        "  artifact = wandb.Artifact('input_data', type='dataset')\n",
        "  artifact.add_file('data.csv')\n",
        "  wandb.log_artifact(artifact)"
      ],
      "execution_count": 34,
      "outputs": []
    },
    {
      "cell_type": "markdown",
      "metadata": {
        "id": "wox-dMcz84Bt"
      },
      "source": [
        "## Helpers functions"
      ]
    },
    {
      "cell_type": "code",
      "metadata": {
        "id": "2964REdr80Gd"
      },
      "source": [
        "def ngrams(tokens, n=2, sep='-'):\n",
        "    return [sep.join(ngram) for ngram in zip(*[tokens[i:] for i in range(n)])]"
      ],
      "execution_count": 35,
      "outputs": []
    },
    {
      "cell_type": "code",
      "metadata": {
        "id": "W42rugQPNYVP"
      },
      "source": [
        "def raw_chords_to_df(tunes):\n",
        "  tunes_chords = [item for tune in tunes for item in tune]\n",
        "  counts = Counter(tunes_chords)\n",
        "  df = pd.DataFrame(counts.items(),\n",
        "                    columns=['chord', 'count']).sort_values(by='count', ascending=False)\n",
        "\n",
        "  return df"
      ],
      "execution_count": 36,
      "outputs": []
    },
    {
      "cell_type": "markdown",
      "metadata": {
        "id": "umfsNtAdF0jM"
      },
      "source": [
        "# Data Preparation"
      ]
    },
    {
      "cell_type": "code",
      "metadata": {
        "id": "dCLwnqoVGcMw"
      },
      "source": [
        "lines = df.loc[:, 'chords'].tolist()\n",
        "data = [line.split(' ') for line in lines]"
      ],
      "execution_count": 37,
      "outputs": []
    },
    {
      "cell_type": "code",
      "metadata": {
        "colab": {
          "base_uri": "https://localhost:8080/"
        },
        "id": "g7SmApW9F3K6",
        "outputId": "1b434acf-79c7-4640-d548-ecc1ec039286"
      },
      "source": [
        "processed_corpus = []\n",
        "for line in data:\n",
        "  tune_n = []\n",
        "  for n in ngrams_for_input:\n",
        "    tune_n.extend(ngrams(line, n=n))\n",
        "  processed_corpus.append(tune_n)\n",
        "\n",
        "for line in processed_corpus[:5]:\n",
        "  print(line)"
      ],
      "execution_count": 38,
      "outputs": [
        {
          "output_type": "stream",
          "name": "stdout",
          "text": [
            "['C', 'Eb7', 'G#', 'B7', 'E', 'G7', 'Gm', 'C7', 'F', 'G#7', 'C#', 'E7', 'Am', 'D7', 'Dm', 'G7']\n",
            "['C', 'Eb7', 'G#', 'B7', 'E', 'G7', 'Gm', 'C7', 'F', 'Eb7', 'G#', 'B7', 'E', 'G7', 'C']\n",
            "['Gm', 'C7', 'Bm', 'E7', 'A', 'C7', 'F', 'Bbm', 'Eb7', 'G#', 'Dm', 'G7']\n",
            "['C', 'Eb7', 'G#', 'B7', 'E', 'G7', 'Gm', 'C7', 'F', 'Eb7', 'G#', 'B7', 'E', 'G7', 'C']\n",
            "['Am', 'Am', 'Cm', 'Cm', 'Eb', 'Eb', 'Em7b5', 'A7', 'Dm', 'Dm', 'Bm7b5', 'Bm7b5', 'Bbm', 'Bbm', 'Fm', 'Fm', 'E7', 'E7', 'Fm', 'Fm', 'C#', 'C#', 'Fm', 'Fm', 'C#', 'C#']\n"
          ]
        }
      ]
    },
    {
      "cell_type": "markdown",
      "metadata": {
        "id": "Sri0K2DhNagp"
      },
      "source": [
        "#### Corpus Overview"
      ]
    },
    {
      "cell_type": "code",
      "metadata": {
        "colab": {
          "base_uri": "https://localhost:8080/"
        },
        "id": "X2ZqA7IF4ufg",
        "outputId": "be12fc44-e4c0-447e-9224-5b524f9026d0"
      },
      "source": [
        "tokens = [item for l in processed_corpus for item in l]\n",
        "total_tokens = len(tokens)\n",
        "vocab_size = len(set(tokens))\n",
        "vocab_prop = 100*vocab_size/total_tokens\n",
        "\n",
        "print(f\"Total Number of tokens: {total_tokens}\")\n",
        "print(f\"Size of vocabulary: {vocab_size}\")\n",
        "print(f\"Proportion of vocabulary in corpus: {vocab_prop:.02f}%\")"
      ],
      "execution_count": 39,
      "outputs": [
        {
          "output_type": "stream",
          "name": "stdout",
          "text": [
            "Total Number of tokens: 82622\n",
            "Size of vocabulary: 72\n",
            "Proportion of vocabulary in corpus: 0.09%\n"
          ]
        }
      ]
    },
    {
      "cell_type": "code",
      "metadata": {
        "colab": {
          "base_uri": "https://localhost:8080/",
          "height": 424
        },
        "id": "rULq3jYVNh_x",
        "outputId": "6063f01c-78f5-467b-ada8-bfa6455bdaf4"
      },
      "source": [
        "df_chords = raw_chords_to_df(processed_corpus)\n",
        "df_chords"
      ],
      "execution_count": 40,
      "outputs": [
        {
          "output_type": "execute_result",
          "data": {
            "text/html": [
              "<div>\n",
              "<style scoped>\n",
              "    .dataframe tbody tr th:only-of-type {\n",
              "        vertical-align: middle;\n",
              "    }\n",
              "\n",
              "    .dataframe tbody tr th {\n",
              "        vertical-align: top;\n",
              "    }\n",
              "\n",
              "    .dataframe thead th {\n",
              "        text-align: right;\n",
              "    }\n",
              "</style>\n",
              "<table border=\"1\" class=\"dataframe\">\n",
              "  <thead>\n",
              "    <tr style=\"text-align: right;\">\n",
              "      <th></th>\n",
              "      <th>chord</th>\n",
              "      <th>count</th>\n",
              "    </tr>\n",
              "  </thead>\n",
              "  <tbody>\n",
              "    <tr>\n",
              "      <th>0</th>\n",
              "      <td>C</td>\n",
              "      <td>14387</td>\n",
              "    </tr>\n",
              "    <tr>\n",
              "      <th>5</th>\n",
              "      <td>G7</td>\n",
              "      <td>11144</td>\n",
              "    </tr>\n",
              "    <tr>\n",
              "      <th>14</th>\n",
              "      <td>Dm</td>\n",
              "      <td>7991</td>\n",
              "    </tr>\n",
              "    <tr>\n",
              "      <th>12</th>\n",
              "      <td>Am</td>\n",
              "      <td>5724</td>\n",
              "    </tr>\n",
              "    <tr>\n",
              "      <th>21</th>\n",
              "      <td>A7</td>\n",
              "      <td>4467</td>\n",
              "    </tr>\n",
              "    <tr>\n",
              "      <th>...</th>\n",
              "      <td>...</td>\n",
              "      <td>...</td>\n",
              "    </tr>\n",
              "    <tr>\n",
              "      <th>62</th>\n",
              "      <td>Ddim</td>\n",
              "      <td>13</td>\n",
              "    </tr>\n",
              "    <tr>\n",
              "      <th>70</th>\n",
              "      <td>G#7(+b5)</td>\n",
              "      <td>12</td>\n",
              "    </tr>\n",
              "    <tr>\n",
              "      <th>65</th>\n",
              "      <td>F7(+b5)</td>\n",
              "      <td>9</td>\n",
              "    </tr>\n",
              "    <tr>\n",
              "      <th>69</th>\n",
              "      <td>Cm7b5</td>\n",
              "      <td>9</td>\n",
              "    </tr>\n",
              "    <tr>\n",
              "      <th>71</th>\n",
              "      <td>Eb7(+b5)</td>\n",
              "      <td>6</td>\n",
              "    </tr>\n",
              "  </tbody>\n",
              "</table>\n",
              "<p>72 rows × 2 columns</p>\n",
              "</div>"
            ],
            "text/plain": [
              "       chord  count\n",
              "0          C  14387\n",
              "5         G7  11144\n",
              "14        Dm   7991\n",
              "12        Am   5724\n",
              "21        A7   4467\n",
              "..       ...    ...\n",
              "62      Ddim     13\n",
              "70  G#7(+b5)     12\n",
              "65   F7(+b5)      9\n",
              "69     Cm7b5      9\n",
              "71  Eb7(+b5)      6\n",
              "\n",
              "[72 rows x 2 columns]"
            ]
          },
          "metadata": {},
          "execution_count": 40
        }
      ]
    },
    {
      "cell_type": "code",
      "metadata": {
        "colab": {
          "base_uri": "https://localhost:8080/",
          "height": 560
        },
        "id": "G9fknTouNmKm",
        "outputId": "1c932437-1a12-4bc3-b9f3-63e73b5f3fd8"
      },
      "source": [
        "df_chords = pd.DataFrame.from_dict(df_chords)\n",
        "df_chords.sort_values(by=['count'], ascending=False, inplace=True)\n",
        "df_chords_top = df_chords.query('count > 100')\n",
        "\n",
        "fig = px.bar(df_chords_top, x='chord', y='count', log_y=True)\n",
        "fig.update_layout(barmode='stack', xaxis={'categoryorder':'total descending'})\n",
        "fig.show()"
      ],
      "execution_count": 41,
      "outputs": [
        {
          "output_type": "stream",
          "name": "stderr",
          "text": [
            "2021-11-26 21:53:45,239 : INFO : NumExpr defaulting to 2 threads.\n"
          ]
        },
        {
          "output_type": "display_data",
          "data": {
            "text/html": [
              "<html>\n",
              "<head><meta charset=\"utf-8\" /></head>\n",
              "<body>\n",
              "    <div>\n",
              "            <script src=\"https://cdnjs.cloudflare.com/ajax/libs/mathjax/2.7.5/MathJax.js?config=TeX-AMS-MML_SVG\"></script><script type=\"text/javascript\">if (window.MathJax) {MathJax.Hub.Config({SVG: {font: \"STIX-Web\"}});}</script>\n",
              "                <script type=\"text/javascript\">window.PlotlyConfig = {MathJaxConfig: 'local'};</script>\n",
              "        <script src=\"https://cdn.plot.ly/plotly-latest.min.js\"></script>    \n",
              "            <div id=\"ffe32241-c05e-409d-a5ae-8e3da374dcdf\" class=\"plotly-graph-div\" style=\"height:525px; width:100%;\"></div>\n",
              "            <script type=\"text/javascript\">\n",
              "                \n",
              "                    window.PLOTLYENV=window.PLOTLYENV || {};\n",
              "                    \n",
              "                if (document.getElementById(\"ffe32241-c05e-409d-a5ae-8e3da374dcdf\")) {\n",
              "                    Plotly.newPlot(\n",
              "                        'ffe32241-c05e-409d-a5ae-8e3da374dcdf',\n",
              "                        [{\"alignmentgroup\": \"True\", \"hoverlabel\": {\"namelength\": 0}, \"hovertemplate\": \"chord=%{x}<br>count=%{y}\", \"legendgroup\": \"\", \"marker\": {\"color\": \"#636efa\"}, \"name\": \"\", \"offsetgroup\": \"\", \"orientation\": \"v\", \"showlegend\": false, \"textposition\": \"auto\", \"type\": \"bar\", \"x\": [\"C\", \"G7\", \"Dm\", \"Am\", \"A7\", \"D7\", \"F\", \"C7\", \"E7\", \"Em\", \"F7\", \"Bb7\", \"Fm\", \"B7\", \"Gm\", \"G#7\", \"Bm7b5\", \"G\", \"Ebdim\", \"Eb7\", \"Cm\", \"F#m7b5\", \"G#\", \"Bm\", \"C#7\", \"Bb\", \"Em7b5\", \"E\", \"F#m\", \"F#7\", \"Eb\", \"F#dim\", \"C#dim\", \"Ebm\", \"C#\", \"A\", \"Dm7b5\", \"Bbm\", \"D\", \"C#m\", \"Cdim\", \"B\", \"G#m\", \"F#\"], \"xaxis\": \"x\", \"y\": [14387, 11144, 7991, 5724, 4467, 3986, 3746, 3428, 3175, 2710, 1722, 1639, 1625, 1408, 1283, 975, 922, 890, 697, 622, 606, 554, 519, 511, 498, 494, 480, 474, 453, 443, 407, 406, 388, 365, 342, 329, 316, 305, 293, 266, 214, 173, 159, 144], \"yaxis\": \"y\"}],\n",
              "                        {\"barmode\": \"stack\", \"legend\": {\"tracegroupgap\": 0}, \"margin\": {\"t\": 60}, \"template\": {\"data\": {\"bar\": [{\"error_x\": {\"color\": \"#2a3f5f\"}, \"error_y\": {\"color\": \"#2a3f5f\"}, \"marker\": {\"line\": {\"color\": \"#E5ECF6\", \"width\": 0.5}}, \"type\": \"bar\"}], \"barpolar\": [{\"marker\": {\"line\": {\"color\": \"#E5ECF6\", \"width\": 0.5}}, \"type\": \"barpolar\"}], \"carpet\": [{\"aaxis\": {\"endlinecolor\": \"#2a3f5f\", \"gridcolor\": \"white\", \"linecolor\": \"white\", \"minorgridcolor\": \"white\", \"startlinecolor\": \"#2a3f5f\"}, \"baxis\": {\"endlinecolor\": \"#2a3f5f\", \"gridcolor\": \"white\", \"linecolor\": \"white\", \"minorgridcolor\": \"white\", \"startlinecolor\": \"#2a3f5f\"}, \"type\": \"carpet\"}], \"choropleth\": [{\"colorbar\": {\"outlinewidth\": 0, \"ticks\": \"\"}, \"type\": \"choropleth\"}], \"contour\": [{\"colorbar\": {\"outlinewidth\": 0, \"ticks\": \"\"}, \"colorscale\": [[0.0, \"#0d0887\"], [0.1111111111111111, \"#46039f\"], [0.2222222222222222, \"#7201a8\"], [0.3333333333333333, \"#9c179e\"], [0.4444444444444444, \"#bd3786\"], [0.5555555555555556, \"#d8576b\"], [0.6666666666666666, \"#ed7953\"], [0.7777777777777778, \"#fb9f3a\"], [0.8888888888888888, \"#fdca26\"], [1.0, \"#f0f921\"]], \"type\": \"contour\"}], \"contourcarpet\": [{\"colorbar\": {\"outlinewidth\": 0, \"ticks\": \"\"}, \"type\": \"contourcarpet\"}], \"heatmap\": [{\"colorbar\": {\"outlinewidth\": 0, \"ticks\": \"\"}, \"colorscale\": [[0.0, \"#0d0887\"], [0.1111111111111111, \"#46039f\"], [0.2222222222222222, \"#7201a8\"], [0.3333333333333333, \"#9c179e\"], [0.4444444444444444, \"#bd3786\"], [0.5555555555555556, \"#d8576b\"], [0.6666666666666666, \"#ed7953\"], [0.7777777777777778, \"#fb9f3a\"], [0.8888888888888888, \"#fdca26\"], [1.0, \"#f0f921\"]], \"type\": \"heatmap\"}], \"heatmapgl\": [{\"colorbar\": {\"outlinewidth\": 0, \"ticks\": \"\"}, \"colorscale\": [[0.0, \"#0d0887\"], [0.1111111111111111, \"#46039f\"], [0.2222222222222222, \"#7201a8\"], [0.3333333333333333, \"#9c179e\"], [0.4444444444444444, \"#bd3786\"], [0.5555555555555556, \"#d8576b\"], [0.6666666666666666, \"#ed7953\"], [0.7777777777777778, \"#fb9f3a\"], [0.8888888888888888, \"#fdca26\"], [1.0, \"#f0f921\"]], \"type\": \"heatmapgl\"}], \"histogram\": [{\"marker\": {\"colorbar\": {\"outlinewidth\": 0, \"ticks\": \"\"}}, \"type\": \"histogram\"}], \"histogram2d\": [{\"colorbar\": {\"outlinewidth\": 0, \"ticks\": \"\"}, \"colorscale\": [[0.0, \"#0d0887\"], [0.1111111111111111, \"#46039f\"], [0.2222222222222222, \"#7201a8\"], [0.3333333333333333, \"#9c179e\"], [0.4444444444444444, \"#bd3786\"], [0.5555555555555556, \"#d8576b\"], [0.6666666666666666, \"#ed7953\"], [0.7777777777777778, \"#fb9f3a\"], [0.8888888888888888, \"#fdca26\"], [1.0, \"#f0f921\"]], \"type\": \"histogram2d\"}], \"histogram2dcontour\": [{\"colorbar\": {\"outlinewidth\": 0, \"ticks\": \"\"}, \"colorscale\": [[0.0, \"#0d0887\"], [0.1111111111111111, \"#46039f\"], [0.2222222222222222, \"#7201a8\"], [0.3333333333333333, \"#9c179e\"], [0.4444444444444444, \"#bd3786\"], [0.5555555555555556, \"#d8576b\"], [0.6666666666666666, \"#ed7953\"], [0.7777777777777778, \"#fb9f3a\"], [0.8888888888888888, \"#fdca26\"], [1.0, \"#f0f921\"]], \"type\": \"histogram2dcontour\"}], \"mesh3d\": [{\"colorbar\": {\"outlinewidth\": 0, \"ticks\": \"\"}, \"type\": \"mesh3d\"}], \"parcoords\": [{\"line\": {\"colorbar\": {\"outlinewidth\": 0, \"ticks\": \"\"}}, \"type\": \"parcoords\"}], \"pie\": [{\"automargin\": true, \"type\": \"pie\"}], \"scatter\": [{\"marker\": {\"colorbar\": {\"outlinewidth\": 0, \"ticks\": \"\"}}, \"type\": \"scatter\"}], \"scatter3d\": [{\"line\": {\"colorbar\": {\"outlinewidth\": 0, \"ticks\": \"\"}}, \"marker\": {\"colorbar\": {\"outlinewidth\": 0, \"ticks\": \"\"}}, \"type\": \"scatter3d\"}], \"scattercarpet\": [{\"marker\": {\"colorbar\": {\"outlinewidth\": 0, \"ticks\": \"\"}}, \"type\": \"scattercarpet\"}], \"scattergeo\": [{\"marker\": {\"colorbar\": {\"outlinewidth\": 0, \"ticks\": \"\"}}, \"type\": \"scattergeo\"}], \"scattergl\": [{\"marker\": {\"colorbar\": {\"outlinewidth\": 0, \"ticks\": \"\"}}, \"type\": \"scattergl\"}], \"scattermapbox\": [{\"marker\": {\"colorbar\": {\"outlinewidth\": 0, \"ticks\": \"\"}}, \"type\": \"scattermapbox\"}], \"scatterpolar\": [{\"marker\": {\"colorbar\": {\"outlinewidth\": 0, \"ticks\": \"\"}}, \"type\": \"scatterpolar\"}], \"scatterpolargl\": [{\"marker\": {\"colorbar\": {\"outlinewidth\": 0, \"ticks\": \"\"}}, \"type\": \"scatterpolargl\"}], \"scatterternary\": [{\"marker\": {\"colorbar\": {\"outlinewidth\": 0, \"ticks\": \"\"}}, \"type\": \"scatterternary\"}], \"surface\": [{\"colorbar\": {\"outlinewidth\": 0, \"ticks\": \"\"}, \"colorscale\": [[0.0, \"#0d0887\"], [0.1111111111111111, \"#46039f\"], [0.2222222222222222, \"#7201a8\"], [0.3333333333333333, \"#9c179e\"], [0.4444444444444444, \"#bd3786\"], [0.5555555555555556, \"#d8576b\"], [0.6666666666666666, \"#ed7953\"], [0.7777777777777778, \"#fb9f3a\"], [0.8888888888888888, \"#fdca26\"], [1.0, \"#f0f921\"]], \"type\": \"surface\"}], \"table\": [{\"cells\": {\"fill\": {\"color\": \"#EBF0F8\"}, \"line\": {\"color\": \"white\"}}, \"header\": {\"fill\": {\"color\": \"#C8D4E3\"}, \"line\": {\"color\": \"white\"}}, \"type\": \"table\"}]}, \"layout\": {\"annotationdefaults\": {\"arrowcolor\": \"#2a3f5f\", \"arrowhead\": 0, \"arrowwidth\": 1}, \"coloraxis\": {\"colorbar\": {\"outlinewidth\": 0, \"ticks\": \"\"}}, \"colorscale\": {\"diverging\": [[0, \"#8e0152\"], [0.1, \"#c51b7d\"], [0.2, \"#de77ae\"], [0.3, \"#f1b6da\"], [0.4, \"#fde0ef\"], [0.5, \"#f7f7f7\"], [0.6, \"#e6f5d0\"], [0.7, \"#b8e186\"], [0.8, \"#7fbc41\"], [0.9, \"#4d9221\"], [1, \"#276419\"]], \"sequential\": [[0.0, \"#0d0887\"], [0.1111111111111111, \"#46039f\"], [0.2222222222222222, \"#7201a8\"], [0.3333333333333333, \"#9c179e\"], [0.4444444444444444, \"#bd3786\"], [0.5555555555555556, \"#d8576b\"], [0.6666666666666666, \"#ed7953\"], [0.7777777777777778, \"#fb9f3a\"], [0.8888888888888888, \"#fdca26\"], [1.0, \"#f0f921\"]], \"sequentialminus\": [[0.0, \"#0d0887\"], [0.1111111111111111, \"#46039f\"], [0.2222222222222222, \"#7201a8\"], [0.3333333333333333, \"#9c179e\"], [0.4444444444444444, \"#bd3786\"], [0.5555555555555556, \"#d8576b\"], [0.6666666666666666, \"#ed7953\"], [0.7777777777777778, \"#fb9f3a\"], [0.8888888888888888, \"#fdca26\"], [1.0, \"#f0f921\"]]}, \"colorway\": [\"#636efa\", \"#EF553B\", \"#00cc96\", \"#ab63fa\", \"#FFA15A\", \"#19d3f3\", \"#FF6692\", \"#B6E880\", \"#FF97FF\", \"#FECB52\"], \"font\": {\"color\": \"#2a3f5f\"}, \"geo\": {\"bgcolor\": \"white\", \"lakecolor\": \"white\", \"landcolor\": \"#E5ECF6\", \"showlakes\": true, \"showland\": true, \"subunitcolor\": \"white\"}, \"hoverlabel\": {\"align\": \"left\"}, \"hovermode\": \"closest\", \"mapbox\": {\"style\": \"light\"}, \"paper_bgcolor\": \"white\", \"plot_bgcolor\": \"#E5ECF6\", \"polar\": {\"angularaxis\": {\"gridcolor\": \"white\", \"linecolor\": \"white\", \"ticks\": \"\"}, \"bgcolor\": \"#E5ECF6\", \"radialaxis\": {\"gridcolor\": \"white\", \"linecolor\": \"white\", \"ticks\": \"\"}}, \"scene\": {\"xaxis\": {\"backgroundcolor\": \"#E5ECF6\", \"gridcolor\": \"white\", \"gridwidth\": 2, \"linecolor\": \"white\", \"showbackground\": true, \"ticks\": \"\", \"zerolinecolor\": \"white\"}, \"yaxis\": {\"backgroundcolor\": \"#E5ECF6\", \"gridcolor\": \"white\", \"gridwidth\": 2, \"linecolor\": \"white\", \"showbackground\": true, \"ticks\": \"\", \"zerolinecolor\": \"white\"}, \"zaxis\": {\"backgroundcolor\": \"#E5ECF6\", \"gridcolor\": \"white\", \"gridwidth\": 2, \"linecolor\": \"white\", \"showbackground\": true, \"ticks\": \"\", \"zerolinecolor\": \"white\"}}, \"shapedefaults\": {\"line\": {\"color\": \"#2a3f5f\"}}, \"ternary\": {\"aaxis\": {\"gridcolor\": \"white\", \"linecolor\": \"white\", \"ticks\": \"\"}, \"baxis\": {\"gridcolor\": \"white\", \"linecolor\": \"white\", \"ticks\": \"\"}, \"bgcolor\": \"#E5ECF6\", \"caxis\": {\"gridcolor\": \"white\", \"linecolor\": \"white\", \"ticks\": \"\"}}, \"title\": {\"x\": 0.05}, \"xaxis\": {\"automargin\": true, \"gridcolor\": \"white\", \"linecolor\": \"white\", \"ticks\": \"\", \"title\": {\"standoff\": 15}, \"zerolinecolor\": \"white\", \"zerolinewidth\": 2}, \"yaxis\": {\"automargin\": true, \"gridcolor\": \"white\", \"linecolor\": \"white\", \"ticks\": \"\", \"title\": {\"standoff\": 15}, \"zerolinecolor\": \"white\", \"zerolinewidth\": 2}}}, \"xaxis\": {\"anchor\": \"y\", \"categoryorder\": \"total descending\", \"domain\": [0.0, 1.0], \"title\": {\"text\": \"chord\"}}, \"yaxis\": {\"anchor\": \"x\", \"domain\": [0.0, 1.0], \"title\": {\"text\": \"count\"}, \"type\": \"log\"}},\n",
              "                        {\"responsive\": true}\n",
              "                    ).then(function(){\n",
              "                            \n",
              "var gd = document.getElementById('ffe32241-c05e-409d-a5ae-8e3da374dcdf');\n",
              "var x = new MutationObserver(function (mutations, observer) {{\n",
              "        var display = window.getComputedStyle(gd).display;\n",
              "        if (!display || display === 'none') {{\n",
              "            console.log([gd, 'removed!']);\n",
              "            Plotly.purge(gd);\n",
              "            observer.disconnect();\n",
              "        }}\n",
              "}});\n",
              "\n",
              "// Listen for the removal of the full notebook cells\n",
              "var notebookContainer = gd.closest('#notebook-container');\n",
              "if (notebookContainer) {{\n",
              "    x.observe(notebookContainer, {childList: true});\n",
              "}}\n",
              "\n",
              "// Listen for the clearing of the current output cell\n",
              "var outputEl = gd.closest('.output');\n",
              "if (outputEl) {{\n",
              "    x.observe(outputEl, {childList: true});\n",
              "}}\n",
              "\n",
              "                        })\n",
              "                };\n",
              "                \n",
              "            </script>\n",
              "        </div>\n",
              "</body>\n",
              "</html>"
            ]
          },
          "metadata": {}
        }
      ]
    },
    {
      "cell_type": "markdown",
      "metadata": {
        "id": "cG5dtDpkWwLE"
      },
      "source": [
        "Plot Distribution accoring to Zipf's Law\n",
        "\n",
        "source: https://stats.stackexchange.com/questions/331219/characterizing-fitting-word-count-data-into-zipf-power-law-lognormal"
      ]
    },
    {
      "cell_type": "code",
      "metadata": {
        "id": "tazf9QRST5NP"
      },
      "source": [
        "from collections import Counter\n",
        "\n",
        "counter_of_words = df_chords.set_index('chord').to_dict(orient='dict')\n",
        "counter_of_words = Counter(counter_of_words['count'])\n",
        "counter_of_counts = Counter(counter_of_words.values())\n",
        "\n",
        "word_counts = np.array(list(counter_of_counts.keys()))\n",
        "freq_of_word_counts = np.array(list(counter_of_counts.values()))"
      ],
      "execution_count": 42,
      "outputs": []
    },
    {
      "cell_type": "code",
      "metadata": {
        "colab": {
          "base_uri": "https://localhost:8080/",
          "height": 295
        },
        "id": "Jc80DSe7QlkV",
        "outputId": "1471f655-8a76-4d9a-f598-65d104a53cb5"
      },
      "source": [
        "plt.scatter(np.log(word_counts), np.log(freq_of_word_counts))\n",
        "plt.xlabel('Log of word frequency')\n",
        "plt.ylabel('Log of number of such words')\n",
        "plt.title('Power law for word frequencies')\n",
        "\n",
        "plt.savefig('plot.png')"
      ],
      "execution_count": 43,
      "outputs": [
        {
          "output_type": "display_data",
          "data": {
            "image/png": "[encoded data removed]",
            "text/plain": [
              "<Figure size 432x288 with 1 Axes>"
            ]
          },
          "metadata": {
            "needs_background": "light"
          }
        }
      ]
    },
    {
      "cell_type": "code",
      "metadata": {
        "colab": {
          "base_uri": "https://localhost:8080/"
        },
        "id": "TRQxnw3XXfit",
        "outputId": "de02d9f2-3b81-4d30-e8cf-11c50406e91b"
      },
      "source": [
        "def neg_zipf_likelihood(s):\n",
        "    n = sum(freq_of_word_counts)\n",
        "    # for each word count, find the probability that a random word has such word count\n",
        "    probas = word_counts ** (-s) / np.sum(np.arange(1, n+1) **(-s))\n",
        "    log_likelihood = sum(np.log(probas) * word_counts)\n",
        "    return -log_likelihood\n",
        "\n",
        "from scipy.optimize import minimize_scalar\n",
        "s_best = minimize_scalar(neg_zipf_likelihood, [0.1, 3.0] )\n",
        "print(s_best.x)"
      ],
      "execution_count": 44,
      "outputs": [
        {
          "output_type": "stream",
          "name": "stdout",
          "text": [
            "-399.3962569709492\n"
          ]
        },
        {
          "output_type": "stream",
          "name": "stderr",
          "text": [
            "/usr/local/lib/python3.7/dist-packages/ipykernel_launcher.py:4: RuntimeWarning:\n",
            "\n",
            "overflow encountered in power\n",
            "\n",
            "/usr/local/lib/python3.7/dist-packages/ipykernel_launcher.py:4: RuntimeWarning:\n",
            "\n",
            "invalid value encountered in true_divide\n",
            "\n",
            "/usr/local/lib/python3.7/dist-packages/scipy/optimize/optimize.py:1986: RuntimeWarning:\n",
            "\n",
            "invalid value encountered in double_scalars\n",
            "\n",
            "/usr/local/lib/python3.7/dist-packages/scipy/optimize/optimize.py:1987: RuntimeWarning:\n",
            "\n",
            "invalid value encountered in double_scalars\n",
            "\n",
            "/usr/local/lib/python3.7/dist-packages/ipykernel_launcher.py:5: RuntimeWarning:\n",
            "\n",
            "divide by zero encountered in log\n",
            "\n"
          ]
        }
      ]
    },
    {
      "cell_type": "code",
      "metadata": {
        "id": "a1IvM4wh7zOv"
      },
      "source": [
        "if use_wandb:\n",
        "  wandb.log(\n",
        "      {\"corpus\": {\n",
        "              \"total_tokens\": total_tokens,\n",
        "              \"vocab_size\": vocab_size,\n",
        "              \"vocab_proportion_in_corpus\": vocab_prop,\n",
        "              \"zipf_plot\": wandb.Image('plot.png'),\n",
        "              }\n",
        "      }\n",
        "  )"
      ],
      "execution_count": 45,
      "outputs": []
    },
    {
      "cell_type": "markdown",
      "metadata": {
        "id": "LeRGFeTn89Uc"
      },
      "source": [
        "# TF-IDF"
      ]
    },
    {
      "cell_type": "code",
      "metadata": {
        "colab": {
          "base_uri": "https://localhost:8080/"
        },
        "id": "pBdUdBNr9Gmu",
        "outputId": "936f655d-531a-43de-dd4f-074b7ef7def0"
      },
      "source": [
        "dictionary = corpora.Dictionary(processed_corpus)\n",
        "bow_corpus = [dictionary.doc2bow(text) for text in processed_corpus]\n",
        "tfidf = TfidfModel(bow_corpus)"
      ],
      "execution_count": 46,
      "outputs": [
        {
          "output_type": "stream",
          "name": "stderr",
          "text": [
            "2021-11-26 21:53:46,676 : INFO : adding document #0 to Dictionary(0 unique tokens: [])\n",
            "2021-11-26 21:53:46,799 : INFO : built Dictionary(72 unique tokens: ['Am', 'B7', 'C', 'C#', 'C7']...) from 5391 documents (total 82622 corpus positions)\n",
            "2021-11-26 21:53:46,801 : INFO : Dictionary lifecycle event {'msg': \"built Dictionary(72 unique tokens: ['Am', 'B7', 'C', 'C#', 'C7']...) from 5391 documents (total 82622 corpus positions)\", 'datetime': '2021-11-26T21:53:46.801105', 'gensim': '4.1.2', 'python': '3.7.12 (default, Sep 10 2021, 00:21:48) \\n[GCC 7.5.0]', 'platform': 'Linux-5.4.104+-x86_64-with-Ubuntu-18.04-bionic', 'event': 'created'}\n",
            "2021-11-26 21:53:46,905 : INFO : collecting document frequencies\n",
            "2021-11-26 21:53:46,908 : INFO : PROGRESS: processing document #0\n",
            "2021-11-26 21:53:46,930 : INFO : TfidfModel lifecycle event {'msg': 'calculated IDF weights for 5391 documents and 72 features (41238 matrix non-zeros)', 'datetime': '2021-11-26T21:53:46.930577', 'gensim': '4.1.2', 'python': '3.7.12 (default, Sep 10 2021, 00:21:48) \\n[GCC 7.5.0]', 'platform': 'Linux-5.4.104+-x86_64-with-Ubuntu-18.04-bionic', 'event': 'initialize'}\n"
          ]
        }
      ]
    },
    {
      "cell_type": "code",
      "metadata": {
        "id": "9NK-cuax9Kqk"
      },
      "source": [
        "# dictionary.token2id"
      ],
      "execution_count": 47,
      "outputs": []
    },
    {
      "cell_type": "code",
      "metadata": {
        "id": "til5xlce_y1m"
      },
      "source": [
        "!rm -R index\n",
        "!mkdir index"
      ],
      "execution_count": 48,
      "outputs": []
    },
    {
      "cell_type": "code",
      "metadata": {
        "colab": {
          "base_uri": "https://localhost:8080/"
        },
        "id": "tn_fz2M090IM",
        "outputId": "31e026dd-a659-47b2-96c7-0cb65ea265b6"
      },
      "source": [
        "# Note: SparseMatrixSimilarity crashes due to lacking memory\n",
        "#from gensim.test.utils import get_tmpfile\n",
        "#index_tmpfile = get_tmpfile(\"index\")\n",
        "#index_tfidf = similarities.Similarity('/content/index/index_tfidf', bow_corpus, num_features=len(dictionary))\n",
        "\n",
        "index_tfidf = similarities.SparseMatrixSimilarity(tfidf[bow_corpus], num_features = len(dictionary))"
      ],
      "execution_count": 49,
      "outputs": [
        {
          "output_type": "stream",
          "name": "stderr",
          "text": [
            "2021-11-26 21:53:47,263 : INFO : creating sparse index\n",
            "2021-11-26 21:53:47,270 : INFO : creating sparse matrix from corpus\n",
            "2021-11-26 21:53:47,273 : INFO : PROGRESS: at document #0\n",
            "2021-11-26 21:53:47,661 : INFO : created <5391x72 sparse matrix of type '<class 'numpy.float32'>'\n",
            "\twith 41238 stored elements in Compressed Sparse Row format>\n"
          ]
        }
      ]
    },
    {
      "cell_type": "code",
      "metadata": {
        "colab": {
          "base_uri": "https://localhost:8080/"
        },
        "id": "VRSUXNPTewqv",
        "outputId": "ee6667ae-8319-436b-fa10-2c92475b93f3"
      },
      "source": [
        "tfidf.save('/content/index/tfidf.model')  # save model\n",
        "index_tfidf.save('/content/index/tfidf.index') #save index"
      ],
      "execution_count": 50,
      "outputs": [
        {
          "output_type": "stream",
          "name": "stderr",
          "text": [
            "2021-11-26 21:53:47,678 : INFO : TfidfModel lifecycle event {'fname_or_handle': '/content/index/tfidf.model', 'separately': 'None', 'sep_limit': 10485760, 'ignore': frozenset(), 'datetime': '2021-11-26T21:53:47.678086', 'gensim': '4.1.2', 'python': '3.7.12 (default, Sep 10 2021, 00:21:48) \\n[GCC 7.5.0]', 'platform': 'Linux-5.4.104+-x86_64-with-Ubuntu-18.04-bionic', 'event': 'saving'}\n",
            "2021-11-26 21:53:47,687 : INFO : saved /content/index/tfidf.model\n",
            "2021-11-26 21:53:47,690 : INFO : SparseMatrixSimilarity lifecycle event {'fname_or_handle': '/content/index/tfidf.index', 'separately': 'None', 'sep_limit': 10485760, 'ignore': frozenset(), 'datetime': '2021-11-26T21:53:47.690145', 'gensim': '4.1.2', 'python': '3.7.12 (default, Sep 10 2021, 00:21:48) \\n[GCC 7.5.0]', 'platform': 'Linux-5.4.104+-x86_64-with-Ubuntu-18.04-bionic', 'event': 'saving'}\n",
            "2021-11-26 21:53:47,693 : INFO : saved /content/index/tfidf.index\n"
          ]
        }
      ]
    },
    {
      "cell_type": "markdown",
      "metadata": {
        "id": "ZLK0coIu9Tv5"
      },
      "source": [
        "## Tests"
      ]
    },
    {
      "cell_type": "code",
      "metadata": {
        "id": "Fzrj1qxwDpJT"
      },
      "source": [
        "def get_sim_scores(tunes, index, model):\n",
        "\n",
        "    df_sim = pd.DataFrame(columns=['reference_title',\n",
        "                                   'reference_titleid',\n",
        "                                   'similar_title',\n",
        "                                   'similar_titleid',\n",
        "                                   'ref_section', \n",
        "                                   'similar_section', \n",
        "                                   'score', \n",
        "                                  ])\n",
        "\n",
        "    for tune in tunes:\n",
        "      print()\n",
        "      print(\"-\"*50)\n",
        "      for s1 in title_to_sectionid[tune]:\n",
        "      \n",
        "          query = processed_corpus[s1]\n",
        "          query_bow = dictionary.doc2bow(query)\n",
        "\n",
        "          # perform a similarity query against the corpus\n",
        "          similarities = index[model[query_bow]]\n",
        "          sims = sorted(enumerate(similarities), key=lambda item: -item[1])\n",
        "          \n",
        "          print(s1, sectionid_to_section[s1])\n",
        "          n = 0\n",
        "          for s2, s2_score in sims:\n",
        "            \n",
        "            # store the top N best results\n",
        "            if n > 40:\n",
        "                break\n",
        "            # don't count self-similarity between sections of the same tune\n",
        "            if s2 not in title_to_sectionid[tune]:\n",
        "                n += 1\n",
        "            \n",
        "                # print(f\"\\t{s2_score:.3f} {sectionid_to_section[s2]}\")\n",
        "\n",
        "                df_sim.loc[len(df_sim)] = [tune,\n",
        "                                           title_to_titleid[tune],\n",
        "                                           sectionid_to_title[s2],\n",
        "                                           sectionid_to_titleid[s2],\n",
        "                                           sectionid_to_section[s1], \n",
        "                                           sectionid_to_section[s2], \n",
        "                                           s2_score, \n",
        "                                           ]\n",
        "    return df_sim"
      ],
      "execution_count": 51,
      "outputs": []
    },
    {
      "cell_type": "code",
      "metadata": {
        "id": "OZ0YfkIO9g5V"
      },
      "source": [
        "def recommend_tune(df, tune_name):\n",
        "\n",
        "  df_tune = df.query(f'reference_title == \"{tune_name}\"')\n",
        "  ff = df_tune.iloc[:]\n",
        "\n",
        "  # get the maximum similarity score for each section and store in new column\n",
        "  ff['max'] = ff.groupby('ref_section')['score'].transform('max')\n",
        "\n",
        "  # scale the score with the maxmum value of each section\n",
        "  ff['score_div_max'] = ff['score'] / ff['max']\n",
        "\n",
        "  # consider only the top N tunes for each group\n",
        "  ff = ff.sort_values(['ref_section', 'score_div_max'], ascending=[True, False])\n",
        "  result = ff.groupby('ref_section').head(30)\n",
        "  \n",
        "  # if multiple rows from the same similar tune, keep only the similar_title with the highest score_div_max\n",
        "  result = result.groupby('similar_title').max('score_div_max').sort_values('score_div_max', ascending=False)\n",
        "\n",
        "  # add the name of the reference tune\n",
        "  result['reference'] = tune_name\n",
        "  result['reference_titleid'] = title_to_titleid[tune_name]\n",
        "\n",
        "  result = result.reset_index()\n",
        "  result = result.loc[:, ['reference', 'reference_titleid', 'similar_title', 'score', 'max', 'score_div_max']]\n",
        "  result['similar_titleid'] = result['similar_title'].apply(lambda x: title_to_titleid[x])\n",
        "  result = result.reset_index()\n",
        "  return result, ff"
      ],
      "execution_count": 52,
      "outputs": []
    },
    {
      "cell_type": "markdown",
      "metadata": {
        "id": "S4RKQCihX02Q"
      },
      "source": [
        "### Single Tunes"
      ]
    },
    {
      "cell_type": "code",
      "metadata": {
        "colab": {
          "base_uri": "https://localhost:8080/"
        },
        "id": "5Wz4ZQk_EKZy",
        "outputId": "a3613154-ffdf-4b6e-9f0c-def102a8c29e"
      },
      "source": [
        "%%time\n",
        "df_sim = get_sim_scores(tunes_eval_list, index_tfidf, tfidf)\n",
        "\n",
        "# save a copy of the results; all results will be concatenated at the end\n",
        "df_tfidf = df_sim[:]"
      ],
      "execution_count": 53,
      "outputs": [
        {
          "output_type": "stream",
          "name": "stdout",
          "text": [
            "\n",
            "--------------------------------------------------\n",
            "125 After You've Gone, section1 (A)\n",
            "126 After You've Gone, section2 (B)\n",
            "127 After You've Gone, section3 (A)\n",
            "128 After You've Gone, section4 (C)\n",
            "\n",
            "--------------------------------------------------\n",
            "188 All God's Chillun Got Rhythm, section1 (A)\n",
            "189 All God's Chillun Got Rhythm, section2 (B)\n",
            "190 All God's Chillun Got Rhythm, section3 (A)\n",
            "191 All God's Chillun Got Rhythm, section4 (C)\n",
            "\n",
            "--------------------------------------------------\n",
            "198 All Of Me, section1 (A)\n",
            "199 All Of Me, section2 (B)\n",
            "200 All Of Me, section3 (A)\n",
            "201 All Of Me, section4 (C)\n",
            "\n",
            "--------------------------------------------------\n",
            "474 Blood Count, section1 (A)\n",
            "475 Blood Count, section2 (A)\n",
            "476 Blood Count, section3 (B)\n",
            "477 Blood Count, section4 (A)\n",
            "478 Blood Count, section5 (C)\n",
            "\n",
            "--------------------------------------------------\n",
            "496 Blue Moon, section1 (A)\n",
            "497 Blue Moon, section2 (A)\n",
            "498 Blue Moon, section3 (B)\n",
            "499 Blue Moon, section4 (A)\n",
            "\n",
            "--------------------------------------------------\n",
            "626 But Beautiful, section1 (A)\n",
            "627 But Beautiful, section2 (B)\n",
            "628 But Beautiful, section3 (A)\n",
            "629 But Beautiful, section4 (C)\n",
            "\n",
            "--------------------------------------------------\n",
            "653 Bye Bye Blackbird, section1 (A)\n",
            "654 Bye Bye Blackbird, section2 (B)\n",
            "\n",
            "--------------------------------------------------\n",
            "676 Call Me Irresponsible, section1 (A)\n",
            "677 Call Me Irresponsible, section2 (B)\n",
            "678 Call Me Irresponsible, section3 (A)\n",
            "679 Call Me Irresponsible, section4 (B)\n",
            "\n",
            "--------------------------------------------------\n",
            "826 Corcovado, section1 (A)\n",
            "827 Corcovado, section2 (B)\n",
            "828 Corcovado, section3 (A)\n",
            "829 Corcovado, section4 (C)\n",
            "\n",
            "--------------------------------------------------\n",
            "997 Dinah, section1 (A)\n",
            "998 Dinah, section2 (A)\n",
            "999 Dinah, section3 (B)\n",
            "1000 Dinah, section4 (A)\n",
            "\n",
            "--------------------------------------------------\n",
            "1125 East Of The Sun, section1 (A)\n",
            "1126 East Of The Sun, section2 (B)\n",
            "1127 East Of The Sun, section3 (A)\n",
            "1128 East Of The Sun, section4 (C)\n",
            "\n",
            "--------------------------------------------------\n",
            "1287 Footprints, section0 (nan)\n",
            "\n",
            "--------------------------------------------------\n",
            "1379 Giant Steps, section0 (nan)\n",
            "\n",
            "--------------------------------------------------\n",
            "1538 Honeysuckle Rose, section1 (A)\n",
            "1539 Honeysuckle Rose, section2 (A)\n",
            "1540 Honeysuckle Rose, section3 (B)\n",
            "1541 Honeysuckle Rose, section4 (A)\n",
            "\n",
            "--------------------------------------------------\n",
            "1647 I Got Rhythm, section1 (A)\n",
            "1648 I Got Rhythm, section2 (A)\n",
            "1649 I Got Rhythm, section3 (B)\n",
            "1650 I Got Rhythm, section4 (A)\n",
            "\n",
            "--------------------------------------------------\n",
            "2670 Misty, section1 (A)\n",
            "2671 Misty, section2 (A)\n",
            "2672 Misty, section3 (B)\n",
            "2673 Misty, section4 (A)\n",
            "\n",
            "--------------------------------------------------\n",
            "2857 Naima, section1 (A)\n",
            "2858 Naima, section2 (A)\n",
            "2859 Naima, section3 (B)\n",
            "2860 Naima, section4 (A)\n",
            "\n",
            "--------------------------------------------------\n",
            "5044 Old Fashioned Love, section0 (nan)\n",
            "\n",
            "--------------------------------------------------\n",
            "3142 Perdido, section1 (A)\n",
            "3143 Perdido, section2 (A)\n",
            "3144 Perdido, section3 (B)\n",
            "3145 Perdido, section4 (A)\n",
            "\n",
            "--------------------------------------------------\n",
            "3276 Rockin' Chair, section1 (A)\n",
            "3277 Rockin' Chair, section2 (B)\n",
            "3278 Rockin' Chair, section3 (A)\n",
            "\n",
            "--------------------------------------------------\n",
            "3578 Sophisticated Lady, section1 (A)\n",
            "3579 Sophisticated Lady, section2 (A)\n",
            "3580 Sophisticated Lady, section3 (B)\n",
            "3581 Sophisticated Lady, section4 (A)\n",
            "\n",
            "--------------------------------------------------\n",
            "3746 Sweet Sue, Just You, section1 (A)\n",
            "3747 Sweet Sue, Just You, section2 (A)\n",
            "3748 Sweet Sue, Just You, section3 (B)\n",
            "3749 Sweet Sue, Just You, section4 (A)\n",
            "\n",
            "--------------------------------------------------\n",
            "3860 These Foolish Things, section1 (A)\n",
            "3861 These Foolish Things, section2 (A)\n",
            "3862 These Foolish Things, section3 (B)\n",
            "3863 These Foolish Things, section4 (A)\n",
            "\n",
            "--------------------------------------------------\n",
            "4146 We'll Be Together Again, section1 (A)\n",
            "4147 We'll Be Together Again, section2 (A)\n",
            "4148 We'll Be Together Again, section3 (B)\n",
            "4149 We'll Be Together Again, section4 (A)\n",
            "CPU times: user 25.2 s, sys: 451 ms, total: 25.7 s\n",
            "Wall time: 25.6 s\n"
          ]
        }
      ]
    },
    {
      "cell_type": "code",
      "metadata": {
        "colab": {
          "base_uri": "https://localhost:8080/",
          "height": 542
        },
        "id": "yzRuIKVh9c8g",
        "outputId": "2e1ab9f2-43d5-4b21-b109-f9561800a9d4"
      },
      "source": [
        "import plotly.express as px\n",
        "fig = px.histogram(df_sim, x=\"score\", nbins=50, title='Scores for TF-IDF')\n",
        "fig.show()"
      ],
      "execution_count": 54,
      "outputs": [
        {
          "output_type": "display_data",
          "data": {
            "text/html": [
              "<html>\n",
              "<head><meta charset=\"utf-8\" /></head>\n",
              "<body>\n",
              "    <div>\n",
              "            <script src=\"https://cdnjs.cloudflare.com/ajax/libs/mathjax/2.7.5/MathJax.js?config=TeX-AMS-MML_SVG\"></script><script type=\"text/javascript\">if (window.MathJax) {MathJax.Hub.Config({SVG: {font: \"STIX-Web\"}});}</script>\n",
              "                <script type=\"text/javascript\">window.PlotlyConfig = {MathJaxConfig: 'local'};</script>\n",
              "        <script src=\"https://cdn.plot.ly/plotly-latest.min.js\"></script>    \n",
              "            <div id=\"543bd2f9-02b4-4bd5-954d-277920c6f282\" class=\"plotly-graph-div\" style=\"height:525px; width:100%;\"></div>\n",
              "            <script type=\"text/javascript\">\n",
              "                \n",
              "                    window.PLOTLYENV=window.PLOTLYENV || {};\n",
              "                    \n",
              "                if (document.getElementById(\"543bd2f9-02b4-4bd5-954d-277920c6f282\")) {\n",
              "                    Plotly.newPlot(\n",
              "                        '543bd2f9-02b4-4bd5-954d-277920c6f282',\n",
              "                        [{\"alignmentgroup\": \"True\", \"bingroup\": \"x\", \"hoverlabel\": {\"namelength\": 0}, \"hovertemplate\": \"score=%{x}<br>count=%{y}\", \"legendgroup\": \"\", \"marker\": {\"color\": \"#636efa\"}, \"name\": \"\", \"nbinsx\": 50, \"offsetgroup\": \"\", \"orientation\": \"v\", \"showlegend\": false, \"type\": \"histogram\", \"x\": [0.9196498990058899, 0.9038835763931274, 0.8636550903320312, 0.8334907293319702, 0.824112594127655, 0.8160545825958252, 0.7915235161781311, 0.7816696166992188, 0.7691226005554199, 0.7691226005554199, 0.7682342529296875, 0.7664930820465088, 0.7659552097320557, 0.7659552097320557, 0.7590219974517822, 0.7588516473770142, 0.7576762437820435, 0.7568140029907227, 0.7529098987579346, 0.7524664998054504, 0.7522726655006409, 0.7520843744277954, 0.7520843744277954, 0.7520843744277954, 0.7471569776535034, 0.7444037199020386, 0.7423614263534546, 0.74235999584198, 0.739997148513794, 0.7390285730361938, 0.7368913888931274, 0.734599232673645, 0.7338535785675049, 0.7325950860977173, 0.7304829359054565, 0.7280595302581787, 0.7270792722702026, 0.7263361215591431, 0.7245472073554993, 0.7174606919288635, 0.7159350514411926, 0.9814482927322388, 0.8517615795135498, 0.8486486673355103, 0.8482421040534973, 0.8427440524101257, 0.8406634330749512, 0.8275892734527588, 0.8192987442016602, 0.8117809295654297, 0.811701774597168, 0.811701774597168, 0.8079831004142761, 0.8079831004142761, 0.8078351616859436, 0.8078351616859436, 0.8078351616859436, 0.8053922057151794, 0.8053922057151794, 0.8017070293426514, 0.7978596687316895, 0.7978596687316895, 0.7962182760238647, 0.7962182760238647, 0.7962182760238647, 0.7943533658981323, 0.7922220230102539, 0.7917803525924683, 0.7917803525924683, 0.7917803525924683, 0.7903007864952087, 0.7761004567146301, 0.7713346481323242, 0.7694153785705566, 0.7662871479988098, 0.7635675668716431, 0.759512186050415, 0.759512186050415, 0.7588400840759277, 0.7561815977096558, 0.7525441646575928, 0.737202525138855, 0.9196498990058899, 0.9038835763931274, 0.8636550903320312, 0.8334907293319702, 0.824112594127655, 0.8160545825958252, 0.7915235161781311, 0.7816696166992188, 0.7691226005554199, 0.7691226005554199, 0.7682342529296875, 0.7664930820465088, 0.7659552097320557, 0.7659552097320557, 0.7590219974517822, 0.7588516473770142, 0.7576762437820435, 0.7568140029907227, 0.7529098987579346, 0.7524664998054504, 0.7522726655006409, 0.7520843744277954, 0.7520843744277954, 0.7520843744277954, 0.7471569776535034, 0.7444037199020386, 0.7423614263534546, 0.74235999584198, 0.739997148513794, 0.7390285730361938, 0.7368913888931274, 0.734599232673645, 0.7338535785675049, 0.7325950860977173, 0.7304829359054565, 0.7280595302581787, 0.7270792722702026, 0.7263361215591431, 0.7245472073554993, 0.7174606919288635, 0.7159350514411926, 0.7988332509994507, 0.7571793794631958, 0.755961000919342, 0.7110116481781006, 0.683812141418457, 0.6770783066749573, 0.6724339723587036, 0.6724339723587036, 0.6716110706329346, 0.6689857840538025, 0.6677476167678833, 0.6676556468009949, 0.6655557155609131, 0.6609022617340088, 0.6595385074615479, 0.6556394696235657, 0.653907299041748, 0.6502991914749146, 0.6501607298851013, 0.6490207314491272, 0.6473608016967773, 0.6473608016967773, 0.6439809203147888, 0.6433144807815552, 0.6419485807418823, 0.6411663293838501, 0.6411663293838501, 0.6401801109313965, 0.640103816986084, 0.6380766034126282, 0.6368190050125122, 0.6332792639732361, 0.6311559677124023, 0.6309893131256104, 0.6304101347923279, 0.6253141164779663, 0.6229937076568604, 0.6200482249259949, 0.6190189123153687, 0.6189002394676208, 0.6177464127540588, 0.9397115111351013, 0.9194867610931396, 0.9194867610931396, 0.892963707447052, 0.8918523788452148, 0.8917567729949951, 0.8863569498062134, 0.8863569498062134, 0.8836269378662109, 0.873469889163971, 0.8658664226531982, 0.863305389881134, 0.8624122142791748, 0.8454968333244324, 0.8454968333244324, 0.8427064418792725, 0.8335333466529846, 0.8250203132629395, 0.8226759433746338, 0.8206421136856079, 0.8198801279067993, 0.8148050904273987, 0.8144387006759644, 0.8143880367279053, 0.8139020800590515, 0.8115921020507812, 0.8063544631004333, 0.8053866624832153, 0.8049531579017639, 0.8035845756530762, 0.8021021485328674, 0.8019027709960938, 0.800730288028717, 0.799741268157959, 0.797563910484314, 0.7940771579742432, 0.7916789650917053, 0.7886238694190979, 0.7854465842247009, 0.7853098511695862, 0.7853098511695862, 0.9380967617034912, 0.9201012849807739, 0.9108278155326843, 0.9017132520675659, 0.8984218239784241, 0.8892538547515869, 0.8833591938018799, 0.8819999694824219, 0.8748977184295654, 0.873773455619812, 0.8668359518051147, 0.8668359518051147, 0.8659693002700806, 0.8640252351760864, 0.8601872324943542, 0.8546648621559143, 0.8543300628662109, 0.8523354530334473, 0.8409455418586731, 0.8396477699279785, 0.8388117551803589, 0.8376345634460449, 0.8376345634460449, 0.8333179354667664, 0.8320283889770508, 0.8320283889770508, 0.8316603899002075, 0.8315098285675049, 0.8297417163848877, 0.8285934925079346, 0.825969934463501, 0.8251199722290039, 0.8248232007026672, 0.8242313861846924, 0.8222854137420654, 0.8216500282287598, 0.8194229602813721, 0.8184525966644287, 0.8165206909179688, 0.8148767948150635, 0.8086245059967041, 0.9397115111351013, 0.9194867610931396, 0.9194867610931396, 0.892963707447052, 0.8918523788452148, 0.8917567729949951, 0.8863569498062134, 0.8863569498062134, 0.8836269378662109, 0.873469889163971, 0.8658664226531982, 0.863305389881134, 0.8624122142791748, 0.8454968333244324, 0.8454968333244324, 0.8427064418792725, 0.8335333466529846, 0.8250203132629395, 0.8226759433746338, 0.8206421136856079, 0.8198801279067993, 0.8148050904273987, 0.8144387006759644, 0.8143880367279053, 0.8139020800590515, 0.8115921020507812, 0.8063544631004333, 0.8053866624832153, 0.8049531579017639, 0.8035845756530762, 0.8021021485328674, 0.8019027709960938, 0.800730288028717, 0.799741268157959, 0.797563910484314, 0.7940771579742432, 0.7916789650917053, 0.7886238694190979, 0.7854465842247009, 0.7853098511695862, 0.7853098511695862, 0.9092954993247986, 0.8951758146286011, 0.8917471766471863, 0.8915888071060181, 0.8810214400291443, 0.8793514966964722, 0.8760710954666138, 0.8750938177108765, 0.8741723299026489, 0.8740540742874146, 0.8690007925033569, 0.8610731959342957, 0.8535624742507935, 0.845422625541687, 0.8442277908325195, 0.8442277908325195, 0.8438037633895874, 0.8438037633895874, 0.8424831628799438, 0.841221034526825, 0.8352027535438538, 0.8349018096923828, 0.8266713619232178, 0.8264580965042114, 0.8162604570388794, 0.8153887391090393, 0.8144327998161316, 0.8141549825668335, 0.8111577033996582, 0.8111577033996582, 0.8102318048477173, 0.8086626529693604, 0.8021758794784546, 0.801570475101471, 0.796245276927948, 0.7939655780792236, 0.7933088541030884, 0.7919511795043945, 0.7881073951721191, 0.7860948443412781, 0.7854905128479004, 0.9245520830154419, 0.9209256172180176, 0.9209256172180176, 0.9174246191978455, 0.8842459917068481, 0.8705299496650696, 0.8699769973754883, 0.8665006160736084, 0.8663963079452515, 0.8644928932189941, 0.8498772382736206, 0.8498772382736206, 0.8334197998046875, 0.8334197998046875, 0.8334197998046875, 0.8334197998046875, 0.8324093818664551, 0.8321807384490967, 0.8175874352455139, 0.799274206161499, 0.799274206161499, 0.799274206161499, 0.7957618832588196, 0.7942184805870056, 0.7938315868377686, 0.792604923248291, 0.7905980348587036, 0.7905980348587036, 0.7887603640556335, 0.7885164618492126, 0.7855602502822876, 0.7842437028884888, 0.7842437028884888, 0.7826164960861206, 0.7817665338516235, 0.7817665338516235, 0.7804127931594849, 0.7743963003158569, 0.7719557881355286, 0.7704613208770752, 0.7690445780754089, 0.9904404878616333, 0.9904404878616333, 0.9904404878616333, 0.9727900624275208, 0.9470866322517395, 0.935715913772583, 0.9347223043441772, 0.9347223043441772, 0.9341075420379639, 0.9341075420379639, 0.9324896931648254, 0.9278632998466492, 0.9278632998466492, 0.9274939894676208, 0.9267227053642273, 0.9218592047691345, 0.9183245897293091, 0.9152311682701111, 0.9132879376411438, 0.9110441207885742, 0.9109437465667725, 0.8839449286460876, 0.8726488351821899, 0.8680610060691833, 0.866985559463501, 0.8658866286277771, 0.8651968836784363, 0.8645103573799133, 0.8621498942375183, 0.8560949563980103, 0.853860080242157, 0.8479548692703247, 0.8479548692703247, 0.8465121984481812, 0.8454249501228333, 0.8454249501228333, 0.8426265120506287, 0.8418941497802734, 0.8416450619697571, 0.8390549421310425, 0.8337148427963257, 0.9245520830154419, 0.9209256172180176, 0.9209256172180176, 0.9174246191978455, 0.8842459917068481, 0.8705299496650696, 0.8699769973754883, 0.8665006160736084, 0.8663963079452515, 0.8644928932189941, 0.8498772382736206, 0.8498772382736206, 0.8334197998046875, 0.8334197998046875, 0.8334197998046875, 0.8334197998046875, 0.8324093818664551, 0.8321807384490967, 0.8175874352455139, 0.799274206161499, 0.799274206161499, 0.799274206161499, 0.7957618832588196, 0.7942184805870056, 0.7938315868377686, 0.792604923248291, 0.7905980348587036, 0.7905980348587036, 0.7887603640556335, 0.7885164618492126, 0.7855602502822876, 0.7842437028884888, 0.7842437028884888, 0.7826164960861206, 0.7817665338516235, 0.7817665338516235, 0.7804127931594849, 0.7743963003158569, 0.7719557881355286, 0.7704613208770752, 0.7690445780754089, 0.949884831905365, 0.9329653978347778, 0.9329653978347778, 0.9198912382125854, 0.8997784852981567, 0.8638937473297119, 0.8620119094848633, 0.86069655418396, 0.8592320680618286, 0.8592320680618286, 0.8582180738449097, 0.8524217009544373, 0.8524217009544373, 0.8512078523635864, 0.8474264144897461, 0.836890459060669, 0.8350417613983154, 0.8280481100082397, 0.8229798078536987, 0.8229163289070129, 0.8206647634506226, 0.8177601099014282, 0.8140424489974976, 0.8132263422012329, 0.8132263422012329, 0.813092827796936, 0.8130879402160645, 0.8112082481384277, 0.8103513717651367, 0.8101230263710022, 0.8079258799552917, 0.8049681186676025, 0.804000198841095, 0.804000198841095, 0.8030858039855957, 0.7999894618988037, 0.7979123592376709, 0.7944203615188599, 0.7935808897018433, 0.7935808897018433, 0.7901158928871155, 0.8235363960266113, 0.8160116672515869, 0.8121883869171143, 0.8049639463424683, 0.8033714890480042, 0.8033714890480042, 0.7802966833114624, 0.7746341824531555, 0.745071291923523, 0.7420724034309387, 0.7388862371444702, 0.7371229529380798, 0.7367401123046875, 0.7367401123046875, 0.7352069616317749, 0.7351706027984619, 0.7225515842437744, 0.7201423645019531, 0.7191691398620605, 0.7185551524162292, 0.7175139784812927, 0.7157052755355835, 0.7151883840560913, 0.7151883840560913, 0.7140706777572632, 0.6992431879043579, 0.6926118731498718, 0.6887525320053101, 0.6872329711914062, 0.680305004119873, 0.6733143925666809, 0.673061192035675, 0.673061192035675, 0.671902596950531, 0.6686307787895203, 0.6686307787895203, 0.6677604913711548, 0.6577584147453308, 0.6553854942321777, 0.6401349306106567, 0.6373518109321594, 0.8888208866119385, 0.8005372285842896, 0.8005372285842896, 0.7900215983390808, 0.7900215983390808, 0.7900215983390808, 0.7897839546203613, 0.7887325286865234, 0.7835365533828735, 0.7667278051376343, 0.7535243630409241, 0.7535243630409241, 0.7535243630409241, 0.7528121471405029, 0.7528121471405029, 0.7526219487190247, 0.7526219487190247, 0.7526219487190247, 0.7526219487190247, 0.7526219487190247, 0.7526219487190247, 0.7357237935066223, 0.7357237935066223, 0.7357237935066223, 0.7316656708717346, 0.7116043567657471, 0.7111107707023621, 0.711104691028595, 0.711104691028595, 0.710640549659729, 0.6953305602073669, 0.6869952082633972, 0.6866628527641296, 0.68463134765625, 0.6783994436264038, 0.6719048023223877, 0.6655678153038025, 0.6586906313896179, 0.6581341028213501, 0.65219646692276, 0.6508903503417969, 0.7598773241043091, 0.6216225028038025, 0.6216225028038025, 0.6216225028038025, 0.6094653606414795, 0.6068716645240784, 0.5978227853775024, 0.5934688448905945, 0.5798888206481934, 0.5612296462059021, 0.5444650650024414, 0.5388853549957275, 0.522502601146698, 0.520549476146698, 0.5154673457145691, 0.511829137802124, 0.4899074137210846, 0.48758044838905334, 0.48498618602752686, 0.48394662141799927, 0.4763314723968506, 0.4704214632511139, 0.46967583894729614, 0.46835610270500183, 0.4681409001350403, 0.464672327041626, 0.4641335606575012, 0.4582619071006775, 0.4582619071006775, 0.4534752368927002, 0.45203855633735657, 0.45203855633735657, 0.45203855633735657, 0.45203855633735657, 0.44460055232048035, 0.44460055232048035, 0.44460055232048035, 0.4434477686882019, 0.4433066248893738, 0.44276541471481323, 0.4423691928386688, 0.8888208866119385, 0.8005372285842896, 0.8005372285842896, 0.7900215983390808, 0.7900215983390808, 0.7900215983390808, 0.7897839546203613, 0.7887325286865234, 0.7835365533828735, 0.7667278051376343, 0.7535243630409241, 0.7535243630409241, 0.7535243630409241, 0.7528121471405029, 0.7528121471405029, 0.7526219487190247, 0.7526219487190247, 0.7526219487190247, 0.7526219487190247, 0.7526219487190247, 0.7526219487190247, 0.7357237935066223, 0.7357237935066223, 0.7357237935066223, 0.7316656708717346, 0.7116043567657471, 0.7111107707023621, 0.711104691028595, 0.711104691028595, 0.710640549659729, 0.6953305602073669, 0.6869952082633972, 0.6866628527641296, 0.68463134765625, 0.6783994436264038, 0.6719048023223877, 0.6655678153038025, 0.6586906313896179, 0.6581341028213501, 0.65219646692276, 0.6508903503417969, 0.8256626129150391, 0.7966032028198242, 0.7709292769432068, 0.7641631364822388, 0.7338792085647583, 0.7338792085647583, 0.7338792085647583, 0.7328647375106812, 0.6977938413619995, 0.6977938413619995, 0.6874553561210632, 0.6853927373886108, 0.6758224368095398, 0.6612513065338135, 0.6612513065338135, 0.6558610200881958, 0.6528981328010559, 0.6325947046279907, 0.6146206259727478, 0.6110367178916931, 0.6109567880630493, 0.6104909181594849, 0.6100600957870483, 0.6015530824661255, 0.6006861925125122, 0.6006861925125122, 0.5995577573776245, 0.5920734405517578, 0.5903062224388123, 0.5856696367263794, 0.5842015147209167, 0.5833631753921509, 0.579399824142456, 0.5784536600112915, 0.5784536600112915, 0.5774929523468018, 0.5774929523468018, 0.5774929523468018, 0.5743519067764282, 0.5719600319862366, 0.5719600319862366, 0.8933001756668091, 0.8388532400131226, 0.8309425115585327, 0.8306958675384521, 0.8306958675384521, 0.8018500804901123, 0.7803573608398438, 0.7798985242843628, 0.779406726360321, 0.779406726360321, 0.777599573135376, 0.7741724848747253, 0.7672023177146912, 0.7672023177146912, 0.7641288042068481, 0.7599989175796509, 0.7599989175796509, 0.7595903873443604, 0.7595903873443604, 0.7595138549804688, 0.7583276629447937, 0.754923939704895, 0.754923939704895, 0.754923939704895, 0.7545021772384644, 0.753126323223114, 0.7504846453666687, 0.7424701452255249, 0.7396420240402222, 0.7351247668266296, 0.7351247668266296, 0.7350060939788818, 0.733483076095581, 0.733483076095581, 0.7321872711181641, 0.7318012714385986, 0.7286954522132874, 0.7286954522132874, 0.7270418405532837, 0.7249692678451538, 0.7249692678451538, 0.8060271739959717, 0.7922964096069336, 0.790303111076355, 0.788456916809082, 0.7877241373062134, 0.7853943705558777, 0.7816245555877686, 0.7740349173545837, 0.764266848564148, 0.7627989649772644, 0.7555851340293884, 0.7555851340293884, 0.7422516345977783, 0.7422516345977783, 0.739075243473053, 0.739075243473053, 0.7362512350082397, 0.7362512350082397, 0.7355872392654419, 0.7342073917388916, 0.7342073917388916, 0.7257616519927979, 0.7240099906921387, 0.7157902717590332, 0.7123734354972839, 0.7116974592208862, 0.7115635871887207, 0.7077223062515259, 0.7076535820960999, 0.7068063616752625, 0.7058719396591187, 0.7014266848564148, 0.7011780738830566, 0.6973915696144104, 0.6973915696144104, 0.6952229142189026, 0.6898021101951599, 0.6855069398880005, 0.6827013492584229, 0.6817157864570618, 0.675003170967102, 0.8240283131599426, 0.78410404920578, 0.7246643304824829, 0.7194687128067017, 0.7167586088180542, 0.7081409096717834, 0.7038677334785461, 0.6999416351318359, 0.6878319978713989, 0.6820310354232788, 0.6568054556846619, 0.6562180519104004, 0.6538599729537964, 0.6538599729537964, 0.6538599729537964, 0.6538202166557312, 0.6517043113708496, 0.6426697373390198, 0.641345739364624, 0.6390509009361267, 0.6301211714744568, 0.6291141510009766, 0.6281273365020752, 0.6264535188674927, 0.6226780414581299, 0.6209642291069031, 0.6185563802719116, 0.6152039766311646, 0.6144315600395203, 0.6130352020263672, 0.6130101084709167, 0.6105774641036987, 0.6084623336791992, 0.60792076587677, 0.6021481156349182, 0.5963396430015564, 0.5934290289878845, 0.5899207592010498, 0.5877324342727661, 0.5847985744476318, 0.5736384987831116, 0.8933001756668091, 0.8388532400131226, 0.8309425115585327, 0.8306958675384521, 0.8306958675384521, 0.8018500804901123, 0.7803573608398438, 0.7798985242843628, 0.779406726360321, 0.779406726360321, 0.777599573135376, 0.7741724848747253, 0.7672023177146912, 0.7672023177146912, 0.7641288042068481, 0.7599989175796509, 0.7599989175796509, 0.7595903873443604, 0.7595903873443604, 0.7595138549804688, 0.7583276629447937, 0.754923939704895, 0.754923939704895, 0.754923939704895, 0.7545021772384644, 0.753126323223114, 0.7504846453666687, 0.7424701452255249, 0.7396420240402222, 0.7351247668266296, 0.7351247668266296, 0.7350060939788818, 0.733483076095581, 0.733483076095581, 0.7321872711181641, 0.7318012714385986, 0.7286954522132874, 0.7286954522132874, 0.7270418405532837, 0.7249692678451538, 0.7249692678451538, 0.9382315874099731, 0.9106018543243408, 0.9106018543243408, 0.9078210592269897, 0.8945432305335999, 0.8945432305335999, 0.8899151682853699, 0.8815053105354309, 0.8779960870742798, 0.8697571158409119, 0.8584032654762268, 0.8508185744285583, 0.8404878377914429, 0.839050829410553, 0.8374419212341309, 0.8374419212341309, 0.8315833806991577, 0.8207336664199829, 0.8140221238136292, 0.8135877251625061, 0.8098987340927124, 0.8095626831054688, 0.8067116737365723, 0.8014845848083496, 0.8002190589904785, 0.7980751991271973, 0.7973915338516235, 0.794553279876709, 0.791086733341217, 0.7903101444244385, 0.7885880470275879, 0.7885420322418213, 0.7885420322418213, 0.7876542806625366, 0.7841812372207642, 0.7804253101348877, 0.7792696356773376, 0.7792696356773376, 0.7765580415725708, 0.7765178680419922, 0.7755371332168579, 0.9727869033813477, 0.970969021320343, 0.9420433640480042, 0.9116808176040649, 0.8944628238677979, 0.8923947215080261, 0.8923947215080261, 0.8885407447814941, 0.8824141025543213, 0.8808543682098389, 0.878020167350769, 0.8768462538719177, 0.8712124824523926, 0.8662111759185791, 0.8662111759185791, 0.8617545962333679, 0.8617545962333679, 0.8551779985427856, 0.8510341048240662, 0.845887303352356, 0.8456859588623047, 0.8454684019088745, 0.8413792848587036, 0.8390040397644043, 0.8390040397644043, 0.8283773064613342, 0.8258047103881836, 0.8164576292037964, 0.8164280652999878, 0.814202606678009, 0.814202606678009, 0.8130785822868347, 0.8118199110031128, 0.8077182769775391, 0.8075056672096252, 0.8074648976325989, 0.8053199648857117, 0.80381840467453, 0.803563117980957, 0.8023645281791687, 0.8008039593696594, 0.9382315874099731, 0.9106018543243408, 0.9106018543243408, 0.9078210592269897, 0.8945432305335999, 0.8945432305335999, 0.8899151682853699, 0.8815053105354309, 0.8779960870742798, 0.8697571158409119, 0.8584032654762268, 0.8508185744285583, 0.8404878377914429, 0.839050829410553, 0.8374419212341309, 0.8374419212341309, 0.8315833806991577, 0.8207336664199829, 0.8140221238136292, 0.8135877251625061, 0.8098987340927124, 0.8095626831054688, 0.8067116737365723, 0.8014845848083496, 0.8002190589904785, 0.7980751991271973, 0.7973915338516235, 0.794553279876709, 0.791086733341217, 0.7903101444244385, 0.7885880470275879, 0.7885420322418213, 0.7885420322418213, 0.7876542806625366, 0.7841812372207642, 0.7804253101348877, 0.7792696356773376, 0.7792696356773376, 0.7765580415725708, 0.7765178680419922, 0.7755371332168579, 0.8907605409622192, 0.8907605409622192, 0.8881603479385376, 0.8881603479385376, 0.8796150088310242, 0.8717153072357178, 0.8604875206947327, 0.8381379246711731, 0.8304458856582642, 0.8288041353225708, 0.8264509439468384, 0.8182826042175293, 0.8182826042175293, 0.8143113255500793, 0.8134340643882751, 0.803749680519104, 0.8018821477890015, 0.8004822134971619, 0.7996741533279419, 0.7983058094978333, 0.7982409000396729, 0.7949161529541016, 0.7933555841445923, 0.7933555841445923, 0.7930272221565247, 0.7930272221565247, 0.7887824773788452, 0.7887824773788452, 0.7887824773788452, 0.7873685956001282, 0.7873685956001282, 0.7872574329376221, 0.7868430614471436, 0.785815954208374, 0.7823376059532166, 0.7809036374092102, 0.7809036374092102, 0.7809036374092102, 0.7809036374092102, 0.7807348370552063, 0.7802766561508179, 0.9434819221496582, 0.928325891494751, 0.9075089693069458, 0.9021630883216858, 0.8466262221336365, 0.8431141972541809, 0.8429650068283081, 0.8428629636764526, 0.8427742719650269, 0.8290285468101501, 0.8272480964660645, 0.8261188268661499, 0.8261188268661499, 0.8214958906173706, 0.8147320747375488, 0.811813235282898, 0.8085433840751648, 0.808493435382843, 0.8063919544219971, 0.8063919544219971, 0.8019027709960938, 0.8019027709960938, 0.8011347055435181, 0.7975443005561829, 0.7961540818214417, 0.7936240434646606, 0.7934329509735107, 0.7916268110275269, 0.790030837059021, 0.7890666723251343, 0.7856588959693909, 0.7856588959693909, 0.7850852012634277, 0.781430721282959, 0.7808881998062134, 0.7808881998062134, 0.7781732082366943, 0.7772074937820435, 0.7763091325759888, 0.7676542401313782, 0.7672832012176514, 0.9062701463699341, 0.9062701463699341, 0.8163251876831055, 0.8133508563041687, 0.7995826005935669, 0.7887556552886963, 0.7653709650039673, 0.764266848564148, 0.738884687423706, 0.7361241579055786, 0.7318238615989685, 0.7308263778686523, 0.7307897806167603, 0.7274258136749268, 0.7186199426651001, 0.7186199426651001, 0.7115868926048279, 0.7080963850021362, 0.7013696432113647, 0.7013488411903381, 0.7013488411903381, 0.699652373790741, 0.6991533041000366, 0.6978016495704651, 0.6943079829216003, 0.6922152042388916, 0.6876507997512817, 0.6872959136962891, 0.6872959136962891, 0.687239408493042, 0.685708224773407, 0.685708224773407, 0.6820380687713623, 0.6794185638427734, 0.6771212816238403, 0.6756483316421509, 0.6756483316421509, 0.6744850873947144, 0.674102246761322, 0.672876238822937, 0.6724757552146912, 0.9159203171730042, 0.9082893133163452, 0.8956456184387207, 0.8930066823959351, 0.8841756582260132, 0.8802178502082825, 0.8751527070999146, 0.8736675977706909, 0.8709447383880615, 0.8706492185592651, 0.8660688400268555, 0.8612551689147949, 0.8601805567741394, 0.8592161536216736, 0.8527505397796631, 0.8492854237556458, 0.8452772498130798, 0.8443493843078613, 0.8440428972244263, 0.8395746350288391, 0.8395746350288391, 0.8361401557922363, 0.8361401557922363, 0.8102759718894958, 0.8086092472076416, 0.8078513145446777, 0.8074493408203125, 0.806550920009613, 0.806550920009613, 0.8041384220123291, 0.7971072793006897, 0.7860841751098633, 0.7804924249649048, 0.7772917747497559, 0.7770946025848389, 0.7770946025848389, 0.7742623090744019, 0.7725504040718079, 0.7698040008544922, 0.7684147357940674, 0.7681910991668701, 0.9588703513145447, 0.9524250030517578, 0.9316670894622803, 0.9173969626426697, 0.9145621061325073, 0.9102996587753296, 0.899443507194519, 0.8923615217208862, 0.88592928647995, 0.878838062286377, 0.8740604519844055, 0.8740604519844055, 0.8698276877403259, 0.8690962791442871, 0.8652142286300659, 0.863305389881134, 0.863305389881134, 0.8630759716033936, 0.8593734502792358, 0.8534756898880005, 0.8507665395736694, 0.8446609973907471, 0.8446609973907471, 0.8330965042114258, 0.8323801755905151, 0.8323801755905151, 0.8291202783584595, 0.8258851766586304, 0.8258851766586304, 0.8239695429801941, 0.823807954788208, 0.8227845430374146, 0.8227845430374146, 0.8222399353981018, 0.8150359392166138, 0.8140221238136292, 0.8140221238136292, 0.8109166622161865, 0.8051156997680664, 0.7999272346496582, 0.7998975515365601, 0.9159203171730042, 0.9082893133163452, 0.8956456184387207, 0.8930066823959351, 0.8841756582260132, 0.8802178502082825, 0.8751527070999146, 0.8736675977706909, 0.8709447383880615, 0.8706492185592651, 0.8660688400268555, 0.8612551689147949, 0.8601805567741394, 0.8592161536216736, 0.8527505397796631, 0.8492854237556458, 0.8452772498130798, 0.8443493843078613, 0.8440428972244263, 0.8395746350288391, 0.8395746350288391, 0.8361401557922363, 0.8361401557922363, 0.8102759718894958, 0.8086092472076416, 0.8078513145446777, 0.8074493408203125, 0.806550920009613, 0.806550920009613, 0.8041384220123291, 0.7971072793006897, 0.7860841751098633, 0.7804924249649048, 0.7772917747497559, 0.7770946025848389, 0.7770946025848389, 0.7742623090744019, 0.7725504040718079, 0.7698040008544922, 0.7684147357940674, 0.7681910991668701, 0.9367783069610596, 0.9086948037147522, 0.9036933779716492, 0.9021630883216858, 0.8840393424034119, 0.8707863092422485, 0.8703501224517822, 0.8677821159362793, 0.8656018972396851, 0.8656018972396851, 0.8323448300361633, 0.8267257213592529, 0.8252856731414795, 0.8240259885787964, 0.8203927874565125, 0.8203927874565125, 0.8201265931129456, 0.8137603402137756, 0.8119645118713379, 0.8062160015106201, 0.8059372901916504, 0.8051719665527344, 0.8023523092269897, 0.8022775650024414, 0.8000009059906006, 0.799741268157959, 0.799741268157959, 0.7974147200584412, 0.7974147200584412, 0.7951129674911499, 0.7942882776260376, 0.7941666841506958, 0.7917532920837402, 0.7914847731590271, 0.7901334762573242, 0.7869397401809692, 0.7863978743553162, 0.7807744741439819, 0.7807744741439819, 0.7792148590087891, 0.7788881063461304, 0.8272416591644287, 0.7983249425888062, 0.7897324562072754, 0.7872564196586609, 0.7489164471626282, 0.7435068488121033, 0.7307186126708984, 0.7199659943580627, 0.7112000584602356, 0.7058424353599548, 0.702750027179718, 0.6990242600440979, 0.68756502866745, 0.68756502866745, 0.686433732509613, 0.6772155165672302, 0.6734457015991211, 0.6734457015991211, 0.6560063362121582, 0.6411093473434448, 0.6388982534408569, 0.6247720718383789, 0.618139922618866, 0.6143041849136353, 0.6084206700325012, 0.6058427691459656, 0.6005450487136841, 0.5976806879043579, 0.5934125185012817, 0.5887811779975891, 0.5804396867752075, 0.5751236081123352, 0.5636666417121887, 0.5498180985450745, 0.5483484864234924, 0.5423818826675415, 0.5411844253540039, 0.5316497087478638, 0.5265776515007019, 0.5192992091178894, 0.5171930193901062, 0.9488275051116943, 0.8763301968574524, 0.8567236065864563, 0.8495270013809204, 0.8370440006256104, 0.8288654088973999, 0.8274070024490356, 0.8216538429260254, 0.8004121780395508, 0.7927930355072021, 0.789587676525116, 0.7843931913375854, 0.7843931913375854, 0.7790369391441345, 0.7769936323165894, 0.7769936323165894, 0.7759767174720764, 0.7752964496612549, 0.769762396812439, 0.769762396812439, 0.7689474821090698, 0.7649865746498108, 0.758327841758728, 0.7568072080612183, 0.7561531066894531, 0.7515515089035034, 0.747969388961792, 0.7463557720184326, 0.7448859810829163, 0.7414804697036743, 0.7410879135131836, 0.734351634979248, 0.734351634979248, 0.7308627367019653, 0.723529577255249, 0.7222676277160645, 0.7219786643981934, 0.7193387746810913, 0.7166111469268799, 0.7135568261146545, 0.7134373188018799, 0.8272416591644287, 0.7983249425888062, 0.7897324562072754, 0.7872564196586609, 0.7489164471626282, 0.7435068488121033, 0.7307186126708984, 0.7199659943580627, 0.7112000584602356, 0.7058424353599548, 0.702750027179718, 0.6990242600440979, 0.68756502866745, 0.68756502866745, 0.686433732509613, 0.6772155165672302, 0.6734457015991211, 0.6734457015991211, 0.6560063362121582, 0.6411093473434448, 0.6388982534408569, 0.6247720718383789, 0.618139922618866, 0.6143041849136353, 0.6084206700325012, 0.6058427691459656, 0.6005450487136841, 0.5976806879043579, 0.5934125185012817, 0.5887811779975891, 0.5804396867752075, 0.5751236081123352, 0.5636666417121887, 0.5498180985450745, 0.5483484864234924, 0.5423818826675415, 0.5411844253540039, 0.5316497087478638, 0.5265776515007019, 0.5192992091178894, 0.5171930193901062, 0.9720892906188965, 0.9578099846839905, 0.9370535612106323, 0.905147910118103, 0.905147910118103, 0.9051464796066284, 0.8790013194084167, 0.8703640699386597, 0.8657833337783813, 0.8358277082443237, 0.8358033895492554, 0.8321431875228882, 0.8321431875228882, 0.8311716914176941, 0.8283655643463135, 0.827326238155365, 0.8232321739196777, 0.8183004260063171, 0.816969096660614, 0.8166980743408203, 0.8166980743408203, 0.814965009689331, 0.8108347654342651, 0.8100229501724243, 0.809891939163208, 0.8083155155181885, 0.8064645528793335, 0.8064645528793335, 0.8050772547721863, 0.8045989274978638, 0.8023098111152649, 0.7905993461608887, 0.7863381505012512, 0.785620927810669, 0.785620927810669, 0.7854453921318054, 0.7840256690979004, 0.7815321683883667, 0.7757341265678406, 0.7750649452209473, 0.7712115049362183, 0.9823054671287537, 0.9467687606811523, 0.8759769201278687, 0.8576890826225281, 0.8405819535255432, 0.8402286767959595, 0.8383113145828247, 0.836658775806427, 0.8344063758850098, 0.8344063758850098, 0.824886679649353, 0.8142800331115723, 0.8109053373336792, 0.8101141452789307, 0.8046665787696838, 0.8029888868331909, 0.8029888868331909, 0.7986671924591064, 0.7945870161056519, 0.7920985221862793, 0.7892705202102661, 0.7892705202102661, 0.7834324836730957, 0.7804635763168335, 0.7804635763168335, 0.7786853313446045, 0.778123140335083, 0.7775814533233643, 0.7775814533233643, 0.7773823738098145, 0.7773823738098145, 0.7740079164505005, 0.7735186815261841, 0.7689897418022156, 0.7677057385444641, 0.7674835920333862, 0.7669771313667297, 0.766526997089386, 0.7635402679443359, 0.7603997588157654, 0.7595625519752502, 0.9569911956787109, 0.9569911956787109, 0.9569911956787109, 0.9129670858383179, 0.9033762216567993, 0.9019269943237305, 0.8989858627319336, 0.8917649984359741, 0.8857032060623169, 0.8857032060623169, 0.8856268525123596, 0.8838262557983398, 0.8814467191696167, 0.8788362741470337, 0.8788362741470337, 0.8784105181694031, 0.8779395222663879, 0.8776706457138062, 0.8776706457138062, 0.8767483234405518, 0.8758453130722046, 0.8747246861457825, 0.8735836744308472, 0.87245774269104, 0.87245774269104, 0.8701225519180298, 0.8701225519180298, 0.8650967478752136, 0.8648367524147034, 0.8644636273384094, 0.8631269335746765, 0.8622348308563232, 0.8602527379989624, 0.859343409538269, 0.8592655658721924, 0.8592655658721924, 0.8592655658721924, 0.8592655658721924, 0.8564645648002625, 0.8564645648002625, 0.8557719588279724, 0.9776827692985535, 0.9776827692985535, 0.9776827692985535, 0.9630857110023499, 0.948072075843811, 0.9405701160430908, 0.939577579498291, 0.939577579498291, 0.939577579498291, 0.939577579498291, 0.939577579498291, 0.939577579498291, 0.939577579498291, 0.9348084330558777, 0.9144744873046875, 0.9104403257369995, 0.9096618890762329, 0.9033953547477722, 0.9033953547477722, 0.9033953547477722, 0.9033953547477722, 0.8986890316009521, 0.8986890316009521, 0.8982325196266174, 0.8970104455947876, 0.896312952041626, 0.8928160667419434, 0.8912834525108337, 0.8859655261039734, 0.8819149136543274, 0.8789923191070557, 0.8739763498306274, 0.8734010457992554, 0.8734010457992554, 0.8734010457992554, 0.8734010457992554, 0.8734010457992554, 0.8734010457992554, 0.8734010457992554, 0.8734010457992554, 0.8734010457992554, 0.9270341992378235, 0.9270341992378235, 0.9258881211280823, 0.9258881211280823, 0.9258881211280823, 0.9071986675262451, 0.9071986675262451, 0.90497887134552, 0.8960520625114441, 0.8960520625114441, 0.8954503536224365, 0.8910744190216064, 0.8892680406570435, 0.8884149789810181, 0.8854890465736389, 0.8841819763183594, 0.8841819763183594, 0.8753681182861328, 0.8753681182861328, 0.8734256029129028, 0.8696619272232056, 0.861203670501709, 0.8575502634048462, 0.8575502634048462, 0.8567999005317688, 0.8553246259689331, 0.854486346244812, 0.8534590005874634, 0.8485583066940308, 0.8451602458953857, 0.8397481441497803, 0.8383845686912537, 0.8382435441017151, 0.8317129015922546, 0.8309769034385681, 0.8172683715820312, 0.8147502541542053, 0.8101051449775696, 0.8090176582336426, 0.8055130839347839, 0.8045473098754883, 0.9586360454559326, 0.9575733542442322, 0.9575733542442322, 0.9416491985321045, 0.9398320317268372, 0.9245044589042664, 0.9235355854034424, 0.9110568761825562, 0.905147910118103, 0.9014006853103638, 0.8865976929664612, 0.8764706254005432, 0.866668701171875, 0.8664638996124268, 0.8613173365592957, 0.8599411249160767, 0.8576251268386841, 0.8495101928710938, 0.8447998762130737, 0.8433393239974976, 0.8402732610702515, 0.829391360282898, 0.8240033984184265, 0.817215085029602, 0.8112596869468689, 0.8112596869468689, 0.7977177500724792, 0.794784426689148, 0.7924818992614746, 0.7902839183807373, 0.7893571257591248, 0.7872436046600342, 0.7859655618667603, 0.7844440937042236, 0.7815629243850708, 0.7807279229164124, 0.7807279229164124, 0.7773406505584717, 0.7769936323165894, 0.7746695280075073, 0.7716912627220154, 0.9714033603668213, 0.9666874408721924, 0.9658952951431274, 0.9635993242263794, 0.9620299339294434, 0.9522378444671631, 0.9498850107192993, 0.9446364641189575, 0.9410858154296875, 0.9410858154296875, 0.9395517706871033, 0.937065839767456, 0.93703293800354, 0.9308275580406189, 0.9259706735610962, 0.9256200790405273, 0.9256200790405273, 0.9231044054031372, 0.9231044054031372, 0.9221500158309937, 0.9221500158309937, 0.9204398989677429, 0.9179599285125732, 0.9175553321838379, 0.9172093868255615, 0.9164569973945618, 0.9142947196960449, 0.9141861200332642, 0.9141861200332642, 0.9134469032287598, 0.9131096601486206, 0.9131096601486206, 0.9126734733581543, 0.9126734733581543, 0.9126734733581543, 0.9111785888671875, 0.9111785888671875, 0.9095170497894287, 0.909422755241394, 0.9092589020729065, 0.9089718461036682, 0.9586360454559326, 0.9575733542442322, 0.9575733542442322, 0.9416491985321045, 0.9398320317268372, 0.9245044589042664, 0.9235355854034424, 0.9110568761825562, 0.905147910118103, 0.9014006853103638, 0.8865976929664612, 0.8764706254005432, 0.866668701171875, 0.8664638996124268, 0.8613173365592957, 0.8599411249160767, 0.8576251268386841, 0.8495101928710938, 0.8447998762130737, 0.8433393239974976, 0.8402732610702515, 0.829391360282898, 0.8240033984184265, 0.817215085029602, 0.8112596869468689, 0.8112596869468689, 0.7977177500724792, 0.794784426689148, 0.7924818992614746, 0.7902839183807373, 0.7893571257591248, 0.7872436046600342, 0.7859655618667603, 0.7844440937042236, 0.7815629243850708, 0.7807279229164124, 0.7807279229164124, 0.7773406505584717, 0.7769936323165894, 0.7746695280075073, 0.7716912627220154, 0.8864080905914307, 0.8726491928100586, 0.8493943214416504, 0.8429691791534424, 0.8403885364532471, 0.8136745691299438, 0.8117293119430542, 0.793415904045105, 0.7902466654777527, 0.7896914482116699, 0.7820013761520386, 0.7742034196853638, 0.770583987236023, 0.7650513052940369, 0.760662853717804, 0.7579823136329651, 0.7491157054901123, 0.7491157054901123, 0.7491157054901123, 0.736641526222229, 0.7349874377250671, 0.7349874377250671, 0.7345964908599854, 0.7304980754852295, 0.729279637336731, 0.7233650088310242, 0.7172300815582275, 0.7162532806396484, 0.710085391998291, 0.710085391998291, 0.710085391998291, 0.710085391998291, 0.7090682983398438, 0.7015398740768433, 0.6973698735237122, 0.6961855292320251, 0.6952965259552002, 0.6941157579421997, 0.692876935005188, 0.6911220550537109, 0.6895649433135986, 0.8195174336433411, 0.814304530620575, 0.814304530620575, 0.814304530620575, 0.814304530620575, 0.814304530620575, 0.814304530620575, 0.814304530620575, 0.814304530620575, 0.814304530620575, 0.814304530620575, 0.814304530620575, 0.814304530620575, 0.814304530620575, 0.814304530620575, 0.814304530620575, 0.814304530620575, 0.814304530620575, 0.814304530620575, 0.814304530620575, 0.814304530620575, 0.814304530620575, 0.814304530620575, 0.814304530620575, 0.814304530620575, 0.8117126822471619, 0.8035580515861511, 0.8035580515861511, 0.8035580515861511, 0.7966907024383545, 0.7894206047058105, 0.7894206047058105, 0.7817214131355286, 0.7797952890396118, 0.7791058421134949, 0.7790307402610779, 0.7789461612701416, 0.7785455584526062, 0.7769820094108582, 0.7769820094108582, 0.7582499980926514, 0.8859416246414185, 0.8542184233665466, 0.8542184233665466, 0.8139802813529968, 0.7915170192718506, 0.6953229904174805, 0.6932423710823059, 0.6889830231666565, 0.6889830231666565, 0.6889830231666565, 0.6869683265686035, 0.6802700757980347, 0.6651354432106018, 0.6611589193344116, 0.6600574254989624, 0.6589483022689819, 0.6586841940879822, 0.6558805704116821, 0.6539225578308105, 0.6491274833679199, 0.6487876772880554, 0.6478725075721741, 0.6458379030227661, 0.6447881460189819, 0.6426306962966919, 0.6399982571601868, 0.6398983597755432, 0.6355142593383789, 0.6354126334190369, 0.6276334524154663, 0.6265485286712646, 0.625734269618988, 0.6241642832756042, 0.622726321220398, 0.6215647459030151, 0.6214452981948853, 0.6205032467842102, 0.6201972961425781, 0.6163961887359619, 0.6160873174667358, 0.6160873174667358, 1.0, 1.0, 0.9468265175819397, 0.8947436809539795, 0.8796350955963135, 0.8687880039215088, 0.8620895743370056, 0.8613554239273071, 0.8588920831680298, 0.8544516563415527, 0.8496817350387573, 0.8496817350387573, 0.8496817350387573, 0.8496817350387573, 0.8482968807220459, 0.8419350385665894, 0.8419350385665894, 0.8397045731544495, 0.8397045731544495, 0.8371249437332153, 0.818954586982727, 0.818954586982727, 0.818654477596283, 0.8155856728553772, 0.8064849376678467, 0.8000234961509705, 0.7943310141563416, 0.7926051020622253, 0.7889665365219116, 0.7889665365219116, 0.7887517809867859, 0.7855013608932495, 0.7803846597671509, 0.7702526450157166, 0.769792914390564, 0.7683843374252319, 0.7674529552459717, 0.7625212073326111, 0.758752703666687, 0.7576194405555725, 0.7567411065101624, 1.0000001192092896, 0.8965716361999512, 0.865922749042511, 0.8526025414466858, 0.8503074645996094, 0.8375924825668335, 0.8375924825668335, 0.8375924825668335, 0.8374204635620117, 0.8342785835266113, 0.8304515480995178, 0.8304515480995178, 0.8304515480995178, 0.8221418261528015, 0.820572018623352, 0.8064778447151184, 0.794363260269165, 0.7855495810508728, 0.7855495810508728, 0.7855495810508728, 0.7838582992553711, 0.7823235988616943, 0.7823235988616943, 0.7823235988616943, 0.7746706008911133, 0.7746706008911133, 0.769792914390564, 0.769792914390564, 0.7693134546279907, 0.7682977318763733, 0.7680973410606384, 0.7680579423904419, 0.7680579423904419, 0.7680579423904419, 0.7680579423904419, 0.7680579423904419, 0.7680016756057739, 0.7663156986236572, 0.7663156986236572, 0.7663156986236572, 0.7657234072685242, 1.0000001192092896, 1.0000001192092896, 1.0000001192092896, 1.0000001192092896, 1.0000001192092896, 1.0000001192092896, 1.0000001192092896, 1.0000001192092896, 1.0000001192092896, 1.0000001192092896, 0.9927563071250916, 0.9452508687973022, 0.9452508687973022, 0.9452508687973022, 0.9452508687973022, 0.9251319169998169, 0.9200519919395447, 0.9200519919395447, 0.9136869311332703, 0.9054660797119141, 0.89763343334198, 0.8828694224357605, 0.8684292435646057, 0.8483601212501526, 0.8438881635665894, 0.8424009680747986, 0.8368710279464722, 0.8324595093727112, 0.8295950889587402, 0.8277209401130676, 0.8276130557060242, 0.8258223533630371, 0.8243687748908997, 0.8243687748908997, 0.8243687748908997, 0.8193985819816589, 0.8193662762641907, 0.8146452903747559, 0.8146452903747559, 0.8146452903747559, 0.8114499449729919, 1.0, 1.0, 0.9468265175819397, 0.8947436809539795, 0.8796350955963135, 0.8687880039215088, 0.8620895743370056, 0.8613554239273071, 0.8588920831680298, 0.8544516563415527, 0.8496817350387573, 0.8496817350387573, 0.8496817350387573, 0.8496817350387573, 0.8482968807220459, 0.8419350385665894, 0.8419350385665894, 0.8397045731544495, 0.8397045731544495, 0.8371249437332153, 0.818954586982727, 0.818954586982727, 0.818654477596283, 0.8155856728553772, 0.8064849376678467, 0.8000234961509705, 0.7943310141563416, 0.7926051020622253, 0.7889665365219116, 0.7889665365219116, 0.7887517809867859, 0.7855013608932495, 0.7803846597671509, 0.7702526450157166, 0.769792914390564, 0.7683843374252319, 0.7674529552459717, 0.7625212073326111, 0.758752703666687, 0.7576194405555725, 0.7567411065101624, 1.0, 0.9987550973892212, 0.9460849761962891, 0.8794457912445068, 0.8794457912445068, 0.8784847259521484, 0.8690253496170044, 0.8690253496170044, 0.867087185382843, 0.8662586212158203, 0.8596116900444031, 0.8596116900444031, 0.8540225028991699, 0.8497336506843567, 0.8497336506843567, 0.8483266830444336, 0.8338732719421387, 0.8336036801338196, 0.8328957557678223, 0.8291103839874268, 0.820695161819458, 0.820695161819458, 0.8134678602218628, 0.8062784075737, 0.7937476634979248, 0.7937476634979248, 0.7937476634979248, 0.7834206819534302, 0.7834206819534302, 0.7834206819534302, 0.7834206819534302, 0.7834206819534302, 0.7797865271568298, 0.7765061259269714, 0.7765061259269714, 0.7765061259269714, 0.7759801149368286, 0.7746627330780029, 0.7746627330780029, 0.7742090225219727, 0.7742090225219727, 0.9999999403953552, 0.9987550973892212, 0.944748044013977, 0.8834656476974487, 0.8790454864501953, 0.8790454864501953, 0.8716930747032166, 0.8682700395584106, 0.8682700395584106, 0.8663719892501831, 0.8607791662216187, 0.8607791662216187, 0.8588335514068604, 0.8502942323684692, 0.8452545404434204, 0.8452545404434204, 0.8396735787391663, 0.8351118564605713, 0.8334347009658813, 0.8315479159355164, 0.8227681517601013, 0.8227681517601013, 0.8181366920471191, 0.8102051615715027, 0.7941124439239502, 0.7941124439239502, 0.7941124439239502, 0.7872361540794373, 0.7872361540794373, 0.7872361540794373, 0.7872361540794373, 0.7872361540794373, 0.7801184058189392, 0.7798235416412354, 0.7798235416412354, 0.7798235416412354, 0.7780921459197998, 0.7771652340888977, 0.7771652340888977, 0.7770695686340332, 0.7747765779495239, 1.0, 1.0, 1.0, 1.0, 1.0, 1.0, 1.0, 1.0, 1.0, 1.0, 1.0, 1.0, 1.0, 1.0, 1.0, 1.0, 1.0, 1.0, 1.0, 1.0, 1.0, 1.0, 1.0, 0.9900484085083008, 0.9896509647369385, 0.9801968336105347, 0.9528630971908569, 0.9528630971908569, 0.9396994113922119, 0.9396994113922119, 0.9116767644882202, 0.9027641415596008, 0.8989138007164001, 0.8923777937889099, 0.8821513056755066, 0.8813478350639343, 0.8719934225082397, 0.8711957931518555, 0.8711957931518555, 0.8711957931518555, 0.8706673383712769, 0.9999999403953552, 0.9460849761962891, 0.944748044013977, 0.8436610102653503, 0.8436610102653503, 0.8433859348297119, 0.8369379043579102, 0.825229287147522, 0.8208569884300232, 0.8162757754325867, 0.8162757754325867, 0.8085585832595825, 0.8054484724998474, 0.7932051420211792, 0.7932051420211792, 0.7926450967788696, 0.7891616821289062, 0.7888342142105103, 0.7888342142105103, 0.7868662476539612, 0.7868215441703796, 0.7862323522567749, 0.7851698994636536, 0.7851698994636536, 0.7834347486495972, 0.7834347486495972, 0.7826142311096191, 0.7826142311096191, 0.7826142311096191, 0.7826142311096191, 0.7826142311096191, 0.7749543786048889, 0.7749543786048889, 0.7749543786048889, 0.7738732099533081, 0.7735525369644165, 0.7735525369644165, 0.7729343175888062, 0.7638723254203796, 0.7591098546981812, 0.7567384243011475, 0.9729369878768921, 0.9378409385681152, 0.9367839097976685, 0.930905282497406, 0.9194040298461914, 0.9139200448989868, 0.912841260433197, 0.912841260433197, 0.9076521396636963, 0.8859456777572632, 0.8813002705574036, 0.878834068775177, 0.878834068775177, 0.8779889941215515, 0.8763647079467773, 0.8728282451629639, 0.8700854778289795, 0.8693118691444397, 0.8668837547302246, 0.866553783416748, 0.857420802116394, 0.8569439649581909, 0.8539477586746216, 0.8539477586746216, 0.853687047958374, 0.8535317778587341, 0.8512336015701294, 0.844699501991272, 0.8439221382141113, 0.829987645149231, 0.829125702381134, 0.8284497261047363, 0.8280516266822815, 0.82573401927948, 0.8243188261985779, 0.8205113410949707, 0.8195643424987793, 0.8193523287773132, 0.8179498910903931, 0.8149603009223938, 0.8149603009223938, 0.911231517791748, 0.9062024354934692, 0.9056870341300964, 0.9056870341300964, 0.8903895616531372, 0.8822072744369507, 0.8745130896568298, 0.8582799434661865, 0.8572845458984375, 0.8505495190620422, 0.8505495190620422, 0.8455908298492432, 0.8390945196151733, 0.8380390405654907, 0.830964207649231, 0.8300701975822449, 0.8290912508964539, 0.8287513256072998, 0.8227652907371521, 0.8224103450775146, 0.8194433450698853, 0.8180016875267029, 0.8176114559173584, 0.8159886598587036, 0.8141642808914185, 0.8121335506439209, 0.8121335506439209, 0.8115015625953674, 0.8101100325584412, 0.809411883354187, 0.807533860206604, 0.807533860206604, 0.8072469234466553, 0.8059313297271729, 0.8051468729972839, 0.8026597499847412, 0.8013622760772705, 0.7999041080474854, 0.7976597547531128, 0.7964744567871094, 0.7959005832672119, 0.7814693450927734, 0.7363389730453491, 0.7363389730453491, 0.7363389730453491, 0.7263975739479065, 0.7252312302589417, 0.7178820371627808, 0.7177772521972656, 0.7172784209251404, 0.7121984958648682, 0.7039656639099121, 0.694223165512085, 0.6869242191314697, 0.6674089431762695, 0.6658279895782471, 0.6580877304077148, 0.6545461416244507, 0.6520233154296875, 0.6520233154296875, 0.6508787870407104, 0.6495074033737183, 0.6419552564620972, 0.6393580436706543, 0.6371086239814758, 0.6351751685142517, 0.6351751685142517, 0.6306595802307129, 0.6275777220726013, 0.6275777220726013, 0.6266812086105347, 0.624549925327301, 0.6241674423217773, 0.6228458285331726, 0.6228458285331726, 0.6222013235092163, 0.622161865234375, 0.61704421043396, 0.6160329580307007, 0.609229326248169, 0.6058465838432312, 0.6012109518051147, 0.9427706003189087, 0.9062951803207397, 0.9047209024429321, 0.9047209024429321, 0.8993239998817444, 0.8981375098228455, 0.8829247951507568, 0.8659026026725769, 0.8511789441108704, 0.8504128456115723, 0.8497911095619202, 0.8497911095619202, 0.8471345901489258, 0.8471345901489258, 0.8447177410125732, 0.8410201668739319, 0.83957839012146, 0.8385570049285889, 0.8378322124481201, 0.8342377543449402, 0.8338267803192139, 0.8332780599594116, 0.8309563398361206, 0.8306030035018921, 0.82956463098526, 0.82956463098526, 0.8253822326660156, 0.8202883005142212, 0.8202623128890991, 0.8192474842071533, 0.8185029625892639, 0.8181504011154175, 0.8173012733459473, 0.8156272172927856, 0.8126488924026489, 0.8086466193199158, 0.8081861138343811, 0.8061347007751465, 0.8061347007751465, 0.8060280084609985, 0.8060280084609985, 0.9097391963005066, 0.8460469245910645, 0.8460469245910645, 0.8460469245910645, 0.802811861038208, 0.8005372285842896, 0.8005372285842896, 0.7937288284301758, 0.7434825897216797, 0.7234790325164795, 0.7182866334915161, 0.7143551111221313, 0.7059990763664246, 0.7023681402206421, 0.7023681402206421, 0.7023681402206421, 0.6977938413619995, 0.6840468645095825, 0.6840468645095825, 0.6840468645095825, 0.6840468645095825, 0.6840468645095825, 0.6840468645095825, 0.6833488941192627, 0.682421088218689, 0.682421088218689, 0.682421088218689, 0.6778498291969299, 0.6778498291969299, 0.6778498291969299, 0.6777706146240234, 0.6707901358604431, 0.6689879298210144, 0.6689879298210144, 0.6687225103378296, 0.6682268381118774, 0.6646579504013062, 0.655017614364624, 0.655017614364624, 0.6511251926422119, 0.6429445147514343, 0.9097391963005066, 0.8460469245910645, 0.8460469245910645, 0.8460469245910645, 0.802811861038208, 0.8005372285842896, 0.8005372285842896, 0.7937288284301758, 0.7434825897216797, 0.7234790325164795, 0.7182866334915161, 0.7143551111221313, 0.7059990763664246, 0.7023681402206421, 0.7023681402206421, 0.7023681402206421, 0.6977938413619995, 0.6840468645095825, 0.6840468645095825, 0.6840468645095825, 0.6840468645095825, 0.6840468645095825, 0.6840468645095825, 0.6833488941192627, 0.682421088218689, 0.682421088218689, 0.682421088218689, 0.6778498291969299, 0.6778498291969299, 0.6778498291969299, 0.6777706146240234, 0.6707901358604431, 0.6689879298210144, 0.6689879298210144, 0.6687225103378296, 0.6682268381118774, 0.6646579504013062, 0.655017614364624, 0.655017614364624, 0.6511251926422119, 0.6429445147514343, 0.9493467807769775, 0.9244412779808044, 0.9042685031890869, 0.9035261273384094, 0.896577000617981, 0.8941102623939514, 0.8837569355964661, 0.8783575892448425, 0.8668264746665955, 0.8628257513046265, 0.8594658374786377, 0.8473003506660461, 0.8402186632156372, 0.8380661010742188, 0.8347304463386536, 0.8234688639640808, 0.8110145926475525, 0.8080711364746094, 0.7955562472343445, 0.7902815937995911, 0.7651933431625366, 0.7450246810913086, 0.7424039244651794, 0.734421968460083, 0.7063576579093933, 0.705629825592041, 0.7025793194770813, 0.6987249255180359, 0.6933835744857788, 0.6888644099235535, 0.6811469197273254, 0.6751523017883301, 0.6655810475349426, 0.6652465462684631, 0.6652465462684631, 0.6629372239112854, 0.6629372239112854, 0.6629372239112854, 0.6627476215362549, 0.6530790328979492, 0.6520212888717651, 0.9352506995201111, 0.9062347412109375, 0.9062347412109375, 0.9062347412109375, 0.8485581874847412, 0.8131669759750366, 0.7897839546203613, 0.7897839546203613, 0.774122953414917, 0.7654568552970886, 0.7641631364822388, 0.7478988170623779, 0.7422770857810974, 0.7409576773643494, 0.7409576773643494, 0.7409576773643494, 0.738761842250824, 0.738761842250824, 0.738761842250824, 0.738761842250824, 0.738761842250824, 0.738761842250824, 0.7357392311096191, 0.717276930809021, 0.717276930809021, 0.7171168327331543, 0.7171168327331543, 0.7171168327331543, 0.716755747795105, 0.7047099471092224, 0.7047099471092224, 0.6765755414962769, 0.6715120077133179, 0.6715120077133179, 0.6682698130607605, 0.6607940196990967, 0.6607940196990967, 0.6607940196990967, 0.6605090498924255, 0.6581626534461975, 0.6559146642684937, 0.9177365303039551, 0.9119845628738403, 0.9096488952636719, 0.9096488952636719, 0.9081484079360962, 0.904251217842102, 0.9018292427062988, 0.9018292427062988, 0.8618725538253784, 0.8584439754486084, 0.8584439754486084, 0.8584439754486084, 0.8582825660705566, 0.8569478988647461, 0.8542189598083496, 0.8541035652160645, 0.8541035652160645, 0.8513533473014832, 0.8485958576202393, 0.8485958576202393, 0.8482905626296997, 0.8478075861930847, 0.8451354503631592, 0.8448294401168823, 0.8437269330024719, 0.8431684374809265, 0.8390293717384338, 0.8390293717384338, 0.8378759622573853, 0.8347932696342468, 0.8284028768539429, 0.827637791633606, 0.8214833736419678, 0.8212018013000488, 0.8194168210029602, 0.8186293244361877, 0.8182486295700073, 0.814314603805542, 0.8141485452651978, 0.8141485452651978, 0.808264434337616, 0.9976428151130676, 0.9781461954116821, 0.9781461954116821, 0.9781461954116821, 0.9672877192497253, 0.9546871185302734, 0.948370099067688, 0.9467965364456177, 0.9439631700515747, 0.9439631700515747, 0.9429830312728882, 0.9429830312728882, 0.9393165707588196, 0.9393165707588196, 0.9247792363166809, 0.9160881042480469, 0.9152786731719971, 0.8973325490951538, 0.8946511745452881, 0.8854105472564697, 0.8774775266647339, 0.8768754005432129, 0.8726288080215454, 0.8686153888702393, 0.8574738502502441, 0.8558905124664307, 0.8558905124664307, 0.8549875020980835, 0.8549690842628479, 0.8540439605712891, 0.8517740964889526, 0.8517740964889526, 0.8514063358306885, 0.8505016565322876, 0.8435962796211243, 0.8400490880012512, 0.838626503944397, 0.8379431962966919, 0.8377485275268555, 0.836715817451477, 0.836715817451477, 0.9885457754135132, 0.9566552639007568, 0.9553619623184204, 0.9443875551223755, 0.9443875551223755, 0.9443875551223755, 0.9443875551223755, 0.9443875551223755, 0.9332281947135925, 0.9332281947135925, 0.9304504990577698, 0.9304504990577698, 0.9271864891052246, 0.9207314848899841, 0.9203027486801147, 0.9121007323265076, 0.9121007323265076, 0.9108822345733643, 0.9073163270950317, 0.9037560224533081, 0.9017616510391235, 0.9002354741096497, 0.8997653722763062, 0.8978051543235779, 0.8923460245132446, 0.8923460245132446, 0.8756341934204102, 0.8687677383422852, 0.8685656785964966, 0.8685656785964966, 0.8679837584495544, 0.8676613569259644, 0.8626586198806763, 0.858870804309845, 0.8570171594619751, 0.8570171594619751, 0.8561842441558838, 0.8547975420951843, 0.8519195318222046, 0.8489540219306946, 0.8447374701499939, 1.0, 1.0, 1.0, 1.0, 1.0, 1.0, 1.0, 1.0, 1.0, 1.0, 1.0, 1.0, 1.0, 1.0, 1.0, 1.0, 1.0, 1.0, 1.0, 1.0, 1.0, 1.0, 1.0, 0.9900484085083008, 0.9896509647369385, 0.9801968336105347, 0.9528630971908569, 0.9528630971908569, 0.9396994113922119, 0.9396994113922119, 0.9116767644882202, 0.9027641415596008, 0.8989138007164001, 0.8923777937889099, 0.8821513056755066, 0.8813478350639343, 0.8719934225082397, 0.8711957931518555, 0.8711957931518555, 0.8711957931518555, 0.8706673383712769, 0.9976428151130676, 0.9781461954116821, 0.9781461954116821, 0.9781461954116821, 0.9672877192497253, 0.9546871185302734, 0.948370099067688, 0.9467965364456177, 0.9439631700515747, 0.9439631700515747, 0.9429830312728882, 0.9429830312728882, 0.9393165707588196, 0.9393165707588196, 0.9247792363166809, 0.9160881042480469, 0.9152786731719971, 0.8973325490951538, 0.8946511745452881, 0.8854105472564697, 0.8774775266647339, 0.8768754005432129, 0.8726288080215454, 0.8686153888702393, 0.8574738502502441, 0.8558905124664307, 0.8558905124664307, 0.8549875020980835, 0.8549690842628479, 0.8540439605712891, 0.8517740964889526, 0.8517740964889526, 0.8514063358306885, 0.8505016565322876, 0.8435962796211243, 0.8400490880012512, 0.838626503944397, 0.8379431962966919, 0.8377485275268555, 0.836715817451477, 0.836715817451477, 0.8496619462966919, 0.8316603899002075, 0.8291205167770386, 0.7820874452590942, 0.7820874452590942, 0.7793135643005371, 0.7779886722564697, 0.7681766152381897, 0.7660828232765198, 0.7660626173019409, 0.759757936000824, 0.7574115991592407, 0.7509980797767639, 0.7509980797767639, 0.7480287551879883, 0.747874915599823, 0.7464084625244141, 0.7442857027053833, 0.7304282188415527, 0.7271254062652588, 0.7256792783737183, 0.7223233580589294, 0.7193299531936646, 0.7148916721343994, 0.7131490707397461, 0.7131490707397461, 0.7131490707397461, 0.7104533910751343, 0.7102032899856567, 0.7059305310249329, 0.705155074596405, 0.7043361663818359, 0.7017303705215454, 0.7012844085693359, 0.6991230845451355, 0.6979132890701294, 0.6979132890701294, 0.6968877911567688, 0.6968877911567688, 0.6958479881286621, 0.6926758885383606, 0.888468325138092, 0.8740639686584473, 0.8740639686584473, 0.8509222269058228, 0.839499294757843, 0.8171102404594421, 0.7892820835113525, 0.7716412544250488, 0.7625787258148193, 0.7614648938179016, 0.7585111260414124, 0.7436127066612244, 0.7413585186004639, 0.7396209239959717, 0.7383204698562622, 0.732237696647644, 0.7223139405250549, 0.7209348678588867, 0.7193589806556702, 0.7191710472106934, 0.7173556089401245, 0.7173556089401245, 0.7173556089401245, 0.7160305380821228, 0.7105890512466431, 0.7105890512466431, 0.7099814414978027, 0.7099814414978027, 0.709675669670105, 0.709675669670105, 0.7067266702651978, 0.7020403742790222, 0.7020403742790222, 0.6996925473213196, 0.6996925473213196, 0.6958529353141785, 0.6957566738128662, 0.6949033737182617, 0.6905200481414795, 0.6873031854629517, 0.6838266849517822, 0.9392657279968262, 0.937486469745636, 0.937486469745636, 0.9177169799804688, 0.9159396290779114, 0.9090681076049805, 0.9082458019256592, 0.8768402338027954, 0.863286554813385, 0.8544623851776123, 0.8508940935134888, 0.8470874428749084, 0.8467859029769897, 0.8279964923858643, 0.8279964923858643, 0.8144291639328003, 0.8061329126358032, 0.8033008575439453, 0.7992948889732361, 0.7991962432861328, 0.7991962432861328, 0.7977946996688843, 0.7957998514175415, 0.7957065105438232, 0.7957065105438232, 0.7952762842178345, 0.7945574522018433, 0.7909247875213623, 0.7905585169792175, 0.7905585169792175, 0.7904382944107056, 0.7894957661628723, 0.7872904539108276, 0.7818305492401123, 0.7767595648765564, 0.7729334831237793, 0.7643652558326721, 0.7643652558326721, 0.7643652558326721, 0.760437548160553, 0.7590619325637817, 0.9062701463699341, 0.8066403865814209, 0.7807842493057251, 0.7754436135292053, 0.7754436135292053, 0.7721590995788574, 0.7709296941757202, 0.7660318613052368, 0.7555851340293884, 0.7474518418312073, 0.739905834197998, 0.7387206554412842, 0.7308815121650696, 0.7242128849029541, 0.7224470973014832, 0.7224470973014832, 0.7222779989242554, 0.7222779989242554, 0.7147607803344727, 0.7140258550643921, 0.7140258550643921, 0.7107537388801575, 0.7107537388801575, 0.7083965539932251, 0.7059696912765503, 0.7031418085098267, 0.7031418085098267, 0.7030802965164185, 0.7021714448928833, 0.7005205154418945, 0.6991653442382812, 0.6965649724006653, 0.6953229904174805, 0.694598913192749, 0.6899999380111694, 0.6868244409561157, 0.6859696507453918, 0.6854541301727295, 0.682839572429657, 0.682679295539856, 0.6761291027069092, 0.7657651305198669, 0.765670657157898, 0.765670657157898, 0.7045257091522217, 0.6774738430976868, 0.6623104810714722, 0.6531696319580078, 0.6457844376564026, 0.6261519193649292, 0.6219725608825684, 0.620654284954071, 0.6191982626914978, 0.6191982626914978, 0.609624981880188, 0.6091108918190002, 0.5965717434883118, 0.581506609916687, 0.5733853578567505, 0.5695885419845581, 0.5630911588668823, 0.5626384615898132, 0.5626384615898132, 0.5566037893295288, 0.5534744262695312, 0.5534337759017944, 0.5464982390403748, 0.5455524921417236, 0.5422582030296326, 0.5378354787826538, 0.5354601740837097, 0.5324081778526306, 0.5286108255386353, 0.5286108255386353, 0.5253465175628662, 0.5238779187202454, 0.5238779187202454, 0.5236217975616455, 0.5236217975616455, 0.5230088829994202, 0.5219463109970093, 0.5219463109970093, 0.8699556589126587, 0.8401718139648438, 0.8081323504447937, 0.7457098960876465, 0.7355364561080933, 0.7078714370727539, 0.6952799558639526, 0.6634620428085327, 0.6614522933959961, 0.651466965675354, 0.6480213403701782, 0.6411024928092957, 0.6411024928092957, 0.630544126033783, 0.6179158687591553, 0.5934650897979736, 0.5934650897979736, 0.5765975117683411, 0.5750842690467834, 0.5747420191764832, 0.5747420191764832, 0.5687912702560425, 0.5666857361793518, 0.5634992718696594, 0.5547699332237244, 0.5532349944114685, 0.5532349944114685, 0.5531227588653564, 0.5424010753631592, 0.534174382686615, 0.5318097472190857, 0.5317988395690918, 0.5218935012817383, 0.5191609263420105, 0.5153648257255554, 0.5152435302734375, 0.5109545588493347, 0.5074003338813782, 0.5074003338813782, 0.5046405792236328, 0.4892565608024597, 0.9062701463699341, 0.8066403865814209, 0.7807842493057251, 0.7754436135292053, 0.7754436135292053, 0.7721590995788574, 0.7709296941757202, 0.7660318613052368, 0.7555851340293884, 0.7474518418312073, 0.739905834197998, 0.7387206554412842, 0.7308815121650696, 0.7242128849029541, 0.7224470973014832, 0.7224470973014832, 0.7222779989242554, 0.7222779989242554, 0.7147607803344727, 0.7140258550643921, 0.7140258550643921, 0.7107537388801575, 0.7107537388801575, 0.7083965539932251, 0.7059696912765503, 0.7031418085098267, 0.7031418085098267, 0.7030802965164185, 0.7021714448928833, 0.7005205154418945, 0.6991653442382812, 0.6965649724006653, 0.6953229904174805, 0.694598913192749, 0.6899999380111694, 0.6868244409561157, 0.6859696507453918, 0.6854541301727295, 0.682839572429657, 0.682679295539856, 0.6761291027069092, 1.0, 1.0, 1.0, 1.0, 1.0, 1.0, 1.0, 1.0, 1.0, 1.0, 1.0, 1.0, 1.0, 1.0, 1.0, 1.0, 0.9944208860397339, 0.9905295968055725, 0.9905295968055725, 0.9905295968055725, 0.9905295968055725, 0.9905295968055725, 0.9808494448661804, 0.9808494448661804, 0.9808494448661804, 0.9798116683959961, 0.9744719862937927, 0.9744719862937927, 0.9669567346572876, 0.9669567346572876, 0.9545735120773315, 0.9545735120773315, 0.9545735120773315, 0.9504737854003906, 0.9452416300773621, 0.9452416300773621, 0.9452416300773621, 0.9435021281242371, 0.9435021281242371, 0.9435021281242371, 0.9411081671714783, 1.0, 1.0, 1.0, 1.0, 1.0, 1.0, 1.0, 1.0, 1.0, 1.0, 1.0, 1.0, 1.0, 1.0, 1.0, 1.0, 0.9944208860397339, 0.9905295968055725, 0.9905295968055725, 0.9905295968055725, 0.9905295968055725, 0.9905295968055725, 0.9808494448661804, 0.9808494448661804, 0.9808494448661804, 0.9798116683959961, 0.9744719862937927, 0.9744719862937927, 0.9669567346572876, 0.9669567346572876, 0.9545735120773315, 0.9545735120773315, 0.9545735120773315, 0.9504737854003906, 0.9452416300773621, 0.9452416300773621, 0.9452416300773621, 0.9435021281242371, 0.9435021281242371, 0.9435021281242371, 0.9411081671714783, 0.9398715496063232, 0.8832873106002808, 0.8832873106002808, 0.8765910863876343, 0.8765910863876343, 0.8613219261169434, 0.85297691822052, 0.8174898624420166, 0.8153170347213745, 0.8153170347213745, 0.8150414228439331, 0.8145659565925598, 0.7981322407722473, 0.796714723110199, 0.796714723110199, 0.7949091196060181, 0.7949091196060181, 0.7949091196060181, 0.7949091196060181, 0.789965033531189, 0.7816845774650574, 0.7759459614753723, 0.7740294933319092, 0.7740294933319092, 0.7737823128700256, 0.7737823128700256, 0.7715936899185181, 0.7668019533157349, 0.7651765942573547, 0.7616372108459473, 0.757994532585144, 0.7524065971374512, 0.7469854950904846, 0.7458614110946655, 0.743948757648468, 0.7415343523025513, 0.7399240732192993, 0.7387595176696777, 0.7381738424301147, 0.7381738424301147, 0.7327588200569153, 1.0, 1.0, 1.0, 1.0, 1.0, 1.0, 1.0, 1.0, 1.0, 1.0, 1.0, 1.0, 1.0, 1.0, 1.0, 1.0, 0.9944208860397339, 0.9905295968055725, 0.9905295968055725, 0.9905295968055725, 0.9905295968055725, 0.9905295968055725, 0.9808494448661804, 0.9808494448661804, 0.9808494448661804, 0.9798116683959961, 0.9744719862937927, 0.9744719862937927, 0.9669567346572876, 0.9669567346572876, 0.9545735120773315, 0.9545735120773315, 0.9545735120773315, 0.9504737854003906, 0.9452416300773621, 0.9452416300773621, 0.9452416300773621, 0.9435021281242371, 0.9435021281242371, 0.9435021281242371, 0.9411081671714783, 0.9695177674293518, 0.9695177674293518, 0.8968499898910522, 0.8879124522209167, 0.8777036070823669, 0.869175136089325, 0.8608163595199585, 0.8548109531402588, 0.8498772978782654, 0.8450978994369507, 0.8372255563735962, 0.8372255563735962, 0.8274361491203308, 0.8272621035575867, 0.8272621035575867, 0.8248668313026428, 0.824647843837738, 0.824647843837738, 0.8227121233940125, 0.8139113187789917, 0.8139113187789917, 0.812803328037262, 0.8058006763458252, 0.8058006763458252, 0.8054883480072021, 0.8052049279212952, 0.8043004274368286, 0.8029115200042725, 0.8003694415092468, 0.8003694415092468, 0.8003694415092468, 0.7991394996643066, 0.7981918454170227, 0.7955729365348816, 0.7937085628509521, 0.7933970093727112, 0.7858265042304993, 0.7858265042304993, 0.7858265042304993, 0.7836799621582031, 0.7836486101150513, 0.9867261648178101, 0.8480928540229797, 0.8342849016189575, 0.8257077932357788, 0.8212882876396179, 0.8086245059967041, 0.798618733882904, 0.7955759763717651, 0.7851859331130981, 0.7785604596138, 0.7779886722564697, 0.776634693145752, 0.7725645303726196, 0.7713494300842285, 0.7709022760391235, 0.7678614854812622, 0.7662478089332581, 0.7602005004882812, 0.7544737458229065, 0.7533233165740967, 0.752949595451355, 0.7451817989349365, 0.7451817989349365, 0.739663302898407, 0.7380138635635376, 0.7329596877098083, 0.7327721118927002, 0.7304404973983765, 0.7293397188186646, 0.7261651754379272, 0.7261400818824768, 0.7257462739944458, 0.725636899471283, 0.724058985710144, 0.7231282591819763, 0.7230076193809509, 0.7230076193809509, 0.7223924398422241, 0.7217037677764893, 0.7214125990867615, 0.7204875946044922, 0.7964389324188232, 0.7625125646591187, 0.7480269074440002, 0.7442456483840942, 0.7374163866043091, 0.7337620258331299, 0.7055330276489258, 0.687975287437439, 0.687975287437439, 0.6707243323326111, 0.6684048175811768, 0.6684048175811768, 0.6594491004943848, 0.6571454405784607, 0.6276423931121826, 0.6224017143249512, 0.6144704818725586, 0.6094651818275452, 0.6092750430107117, 0.6071212291717529, 0.6071212291717529, 0.6040551662445068, 0.5886058211326599, 0.5878739356994629, 0.5872795581817627, 0.5863760709762573, 0.581099808216095, 0.5750330090522766, 0.5746109485626221, 0.5744403600692749, 0.5723339915275574, 0.567828893661499, 0.564230740070343, 0.5633624792098999, 0.5627568960189819, 0.560238242149353, 0.560238242149353, 0.5581337809562683, 0.5543071627616882, 0.5492461919784546, 0.5487229228019714, 0.9734591841697693, 0.9734591841697693, 0.8995101451873779, 0.8904274702072144, 0.8837052583694458, 0.8661141991615295, 0.8659798502922058, 0.8624164462089539, 0.8540998101234436, 0.8297935128211975, 0.8289399147033691, 0.8289399147033691, 0.8245093822479248, 0.8167781829833984, 0.8159909248352051, 0.8117789030075073, 0.8117789030075073, 0.810989260673523, 0.8050928115844727, 0.8050928115844727, 0.8044023513793945, 0.8034543395042419, 0.8024153709411621, 0.8024153709411621, 0.8023885488510132, 0.8021827340126038, 0.8015308380126953, 0.7979112267494202, 0.7947000861167908, 0.791430652141571, 0.791430652141571, 0.7904989123344421, 0.789039671421051, 0.7869737148284912, 0.7869737148284912, 0.7855926752090454, 0.7824302911758423, 0.7817971706390381, 0.7815167903900146, 0.7809706926345825, 0.7808557748794556, 0.7290802597999573, 0.7043443918228149, 0.7037250995635986, 0.6905232667922974, 0.6622467041015625, 0.6457422971725464, 0.6334652304649353, 0.6311805248260498, 0.6308449506759644, 0.6292427778244019, 0.629122257232666, 0.6243160963058472, 0.6236589550971985, 0.6234256625175476, 0.6234256625175476, 0.6234256625175476, 0.6179705262184143, 0.6145740151405334, 0.6097652316093445, 0.6069437861442566, 0.6064525842666626, 0.6002575755119324, 0.5960756540298462, 0.5938910245895386, 0.593449056148529, 0.593168318271637, 0.593168318271637, 0.5927807092666626, 0.5927807092666626, 0.5923286080360413, 0.5861104726791382, 0.5861104726791382, 0.5861104726791382, 0.5836657881736755, 0.5807270407676697, 0.5799584984779358, 0.5790602564811707, 0.5784614086151123, 0.5759580731391907, 0.5757526159286499, 0.5720968842506409, 0.7896045446395874, 0.7564160823822021, 0.7036194801330566, 0.7019119262695312, 0.6999136209487915, 0.6969612240791321, 0.696027398109436, 0.696027398109436, 0.696027398109436, 0.6955785751342773, 0.6843704581260681, 0.6823499202728271, 0.678122341632843, 0.6771436333656311, 0.6770724058151245, 0.6684750318527222, 0.6677048206329346, 0.6625443696975708, 0.6625443696975708, 0.6617721319198608, 0.6458940505981445, 0.6456263661384583, 0.6453150510787964, 0.6435455083847046, 0.6429280042648315, 0.6373997926712036, 0.635347843170166, 0.6347757577896118, 0.6333044767379761, 0.6324875354766846, 0.6270365715026855, 0.6253798604011536, 0.6215487718582153, 0.6129730343818665, 0.6109079718589783, 0.6054584383964539, 0.604513943195343, 0.604513943195343, 0.6021690964698792, 0.6017323136329651, 0.5954934358596802, 0.8563268780708313, 0.8517469167709351, 0.7964529991149902, 0.7691663503646851, 0.7452988028526306, 0.7238565683364868, 0.698153018951416, 0.6474799513816833, 0.634543240070343, 0.6309434175491333, 0.618341326713562, 0.6144569516181946, 0.6068716645240784, 0.6017407774925232, 0.5997387170791626, 0.5997387170791626, 0.5956355929374695, 0.5928167700767517, 0.5867525935173035, 0.5804797410964966, 0.5797851085662842, 0.5776000618934631, 0.5771750807762146, 0.5746689438819885, 0.5683728456497192, 0.5683728456497192, 0.5666664838790894, 0.566632866859436, 0.5627018213272095, 0.5609595775604248, 0.5538551807403564, 0.5517821311950684, 0.5498220920562744, 0.5495703220367432, 0.5495703220367432, 0.5488632917404175, 0.5463428497314453, 0.5463428497314453, 0.5463428497314453, 0.5458165407180786, 0.5458165407180786, 0.7896045446395874, 0.7564160823822021, 0.7036194801330566, 0.7019119262695312, 0.6999136209487915, 0.6969612240791321, 0.696027398109436, 0.696027398109436, 0.696027398109436, 0.6955785751342773, 0.6843704581260681, 0.6823499202728271, 0.678122341632843, 0.6771436333656311, 0.6770724058151245, 0.6684750318527222, 0.6677048206329346, 0.6625443696975708, 0.6625443696975708, 0.6617721319198608, 0.6458940505981445, 0.6456263661384583, 0.6453150510787964, 0.6435455083847046, 0.6429280042648315, 0.6373997926712036, 0.635347843170166, 0.6347757577896118, 0.6333044767379761, 0.6324875354766846, 0.6270365715026855, 0.6253798604011536, 0.6215487718582153, 0.6129730343818665, 0.6109079718589783, 0.6054584383964539, 0.604513943195343, 0.604513943195343, 0.6021690964698792, 0.6017323136329651, 0.5954934358596802], \"xaxis\": \"x\", \"yaxis\": \"y\"}],\n",
              "                        {\"barmode\": \"relative\", \"legend\": {\"tracegroupgap\": 0}, \"template\": {\"data\": {\"bar\": [{\"error_x\": {\"color\": \"#2a3f5f\"}, \"error_y\": {\"color\": \"#2a3f5f\"}, \"marker\": {\"line\": {\"color\": \"#E5ECF6\", \"width\": 0.5}}, \"type\": \"bar\"}], \"barpolar\": [{\"marker\": {\"line\": {\"color\": \"#E5ECF6\", \"width\": 0.5}}, \"type\": \"barpolar\"}], \"carpet\": [{\"aaxis\": {\"endlinecolor\": \"#2a3f5f\", \"gridcolor\": \"white\", \"linecolor\": \"white\", \"minorgridcolor\": \"white\", \"startlinecolor\": \"#2a3f5f\"}, \"baxis\": {\"endlinecolor\": \"#2a3f5f\", \"gridcolor\": \"white\", \"linecolor\": \"white\", \"minorgridcolor\": \"white\", \"startlinecolor\": \"#2a3f5f\"}, \"type\": \"carpet\"}], \"choropleth\": [{\"colorbar\": {\"outlinewidth\": 0, \"ticks\": \"\"}, \"type\": \"choropleth\"}], \"contour\": [{\"colorbar\": {\"outlinewidth\": 0, \"ticks\": \"\"}, \"colorscale\": [[0.0, \"#0d0887\"], [0.1111111111111111, \"#46039f\"], [0.2222222222222222, \"#7201a8\"], [0.3333333333333333, \"#9c179e\"], [0.4444444444444444, \"#bd3786\"], [0.5555555555555556, \"#d8576b\"], [0.6666666666666666, \"#ed7953\"], [0.7777777777777778, \"#fb9f3a\"], [0.8888888888888888, \"#fdca26\"], [1.0, \"#f0f921\"]], \"type\": \"contour\"}], \"contourcarpet\": [{\"colorbar\": {\"outlinewidth\": 0, \"ticks\": \"\"}, \"type\": \"contourcarpet\"}], \"heatmap\": [{\"colorbar\": {\"outlinewidth\": 0, \"ticks\": \"\"}, \"colorscale\": [[0.0, \"#0d0887\"], [0.1111111111111111, \"#46039f\"], [0.2222222222222222, \"#7201a8\"], [0.3333333333333333, \"#9c179e\"], [0.4444444444444444, \"#bd3786\"], [0.5555555555555556, \"#d8576b\"], [0.6666666666666666, \"#ed7953\"], [0.7777777777777778, \"#fb9f3a\"], [0.8888888888888888, \"#fdca26\"], [1.0, \"#f0f921\"]], \"type\": \"heatmap\"}], \"heatmapgl\": [{\"colorbar\": {\"outlinewidth\": 0, \"ticks\": \"\"}, \"colorscale\": [[0.0, \"#0d0887\"], [0.1111111111111111, \"#46039f\"], [0.2222222222222222, \"#7201a8\"], [0.3333333333333333, \"#9c179e\"], [0.4444444444444444, \"#bd3786\"], [0.5555555555555556, \"#d8576b\"], [0.6666666666666666, \"#ed7953\"], [0.7777777777777778, \"#fb9f3a\"], [0.8888888888888888, \"#fdca26\"], [1.0, \"#f0f921\"]], \"type\": \"heatmapgl\"}], \"histogram\": [{\"marker\": {\"colorbar\": {\"outlinewidth\": 0, \"ticks\": \"\"}}, \"type\": \"histogram\"}], \"histogram2d\": [{\"colorbar\": {\"outlinewidth\": 0, \"ticks\": \"\"}, \"colorscale\": [[0.0, \"#0d0887\"], [0.1111111111111111, \"#46039f\"], [0.2222222222222222, \"#7201a8\"], [0.3333333333333333, \"#9c179e\"], [0.4444444444444444, \"#bd3786\"], [0.5555555555555556, \"#d8576b\"], [0.6666666666666666, \"#ed7953\"], [0.7777777777777778, \"#fb9f3a\"], [0.8888888888888888, \"#fdca26\"], [1.0, \"#f0f921\"]], \"type\": \"histogram2d\"}], \"histogram2dcontour\": [{\"colorbar\": {\"outlinewidth\": 0, \"ticks\": \"\"}, \"colorscale\": [[0.0, \"#0d0887\"], [0.1111111111111111, \"#46039f\"], [0.2222222222222222, \"#7201a8\"], [0.3333333333333333, \"#9c179e\"], [0.4444444444444444, \"#bd3786\"], [0.5555555555555556, \"#d8576b\"], [0.6666666666666666, \"#ed7953\"], [0.7777777777777778, \"#fb9f3a\"], [0.8888888888888888, \"#fdca26\"], [1.0, \"#f0f921\"]], \"type\": \"histogram2dcontour\"}], \"mesh3d\": [{\"colorbar\": {\"outlinewidth\": 0, \"ticks\": \"\"}, \"type\": \"mesh3d\"}], \"parcoords\": [{\"line\": {\"colorbar\": {\"outlinewidth\": 0, \"ticks\": \"\"}}, \"type\": \"parcoords\"}], \"pie\": [{\"automargin\": true, \"type\": \"pie\"}], \"scatter\": [{\"marker\": {\"colorbar\": {\"outlinewidth\": 0, \"ticks\": \"\"}}, \"type\": \"scatter\"}], \"scatter3d\": [{\"line\": {\"colorbar\": {\"outlinewidth\": 0, \"ticks\": \"\"}}, \"marker\": {\"colorbar\": {\"outlinewidth\": 0, \"ticks\": \"\"}}, \"type\": \"scatter3d\"}], \"scattercarpet\": [{\"marker\": {\"colorbar\": {\"outlinewidth\": 0, \"ticks\": \"\"}}, \"type\": \"scattercarpet\"}], \"scattergeo\": [{\"marker\": {\"colorbar\": {\"outlinewidth\": 0, \"ticks\": \"\"}}, \"type\": \"scattergeo\"}], \"scattergl\": [{\"marker\": {\"colorbar\": {\"outlinewidth\": 0, \"ticks\": \"\"}}, \"type\": \"scattergl\"}], \"scattermapbox\": [{\"marker\": {\"colorbar\": {\"outlinewidth\": 0, \"ticks\": \"\"}}, \"type\": \"scattermapbox\"}], \"scatterpolar\": [{\"marker\": {\"colorbar\": {\"outlinewidth\": 0, \"ticks\": \"\"}}, \"type\": \"scatterpolar\"}], \"scatterpolargl\": [{\"marker\": {\"colorbar\": {\"outlinewidth\": 0, \"ticks\": \"\"}}, \"type\": \"scatterpolargl\"}], \"scatterternary\": [{\"marker\": {\"colorbar\": {\"outlinewidth\": 0, \"ticks\": \"\"}}, \"type\": \"scatterternary\"}], \"surface\": [{\"colorbar\": {\"outlinewidth\": 0, \"ticks\": \"\"}, \"colorscale\": [[0.0, \"#0d0887\"], [0.1111111111111111, \"#46039f\"], [0.2222222222222222, \"#7201a8\"], [0.3333333333333333, \"#9c179e\"], [0.4444444444444444, \"#bd3786\"], [0.5555555555555556, \"#d8576b\"], [0.6666666666666666, \"#ed7953\"], [0.7777777777777778, \"#fb9f3a\"], [0.8888888888888888, \"#fdca26\"], [1.0, \"#f0f921\"]], \"type\": \"surface\"}], \"table\": [{\"cells\": {\"fill\": {\"color\": \"#EBF0F8\"}, \"line\": {\"color\": \"white\"}}, \"header\": {\"fill\": {\"color\": \"#C8D4E3\"}, \"line\": {\"color\": \"white\"}}, \"type\": \"table\"}]}, \"layout\": {\"annotationdefaults\": {\"arrowcolor\": \"#2a3f5f\", \"arrowhead\": 0, \"arrowwidth\": 1}, \"coloraxis\": {\"colorbar\": {\"outlinewidth\": 0, \"ticks\": \"\"}}, \"colorscale\": {\"diverging\": [[0, \"#8e0152\"], [0.1, \"#c51b7d\"], [0.2, \"#de77ae\"], [0.3, \"#f1b6da\"], [0.4, \"#fde0ef\"], [0.5, \"#f7f7f7\"], [0.6, \"#e6f5d0\"], [0.7, \"#b8e186\"], [0.8, \"#7fbc41\"], [0.9, \"#4d9221\"], [1, \"#276419\"]], \"sequential\": [[0.0, \"#0d0887\"], [0.1111111111111111, \"#46039f\"], [0.2222222222222222, \"#7201a8\"], [0.3333333333333333, \"#9c179e\"], [0.4444444444444444, \"#bd3786\"], [0.5555555555555556, \"#d8576b\"], [0.6666666666666666, \"#ed7953\"], [0.7777777777777778, \"#fb9f3a\"], [0.8888888888888888, \"#fdca26\"], [1.0, \"#f0f921\"]], \"sequentialminus\": [[0.0, \"#0d0887\"], [0.1111111111111111, \"#46039f\"], [0.2222222222222222, \"#7201a8\"], [0.3333333333333333, \"#9c179e\"], [0.4444444444444444, \"#bd3786\"], [0.5555555555555556, \"#d8576b\"], [0.6666666666666666, \"#ed7953\"], [0.7777777777777778, \"#fb9f3a\"], [0.8888888888888888, \"#fdca26\"], [1.0, \"#f0f921\"]]}, \"colorway\": [\"#636efa\", \"#EF553B\", \"#00cc96\", \"#ab63fa\", \"#FFA15A\", \"#19d3f3\", \"#FF6692\", \"#B6E880\", \"#FF97FF\", \"#FECB52\"], \"font\": {\"color\": \"#2a3f5f\"}, \"geo\": {\"bgcolor\": \"white\", \"lakecolor\": \"white\", \"landcolor\": \"#E5ECF6\", \"showlakes\": true, \"showland\": true, \"subunitcolor\": \"white\"}, \"hoverlabel\": {\"align\": \"left\"}, \"hovermode\": \"closest\", \"mapbox\": {\"style\": \"light\"}, \"paper_bgcolor\": \"white\", \"plot_bgcolor\": \"#E5ECF6\", \"polar\": {\"angularaxis\": {\"gridcolor\": \"white\", \"linecolor\": \"white\", \"ticks\": \"\"}, \"bgcolor\": \"#E5ECF6\", \"radialaxis\": {\"gridcolor\": \"white\", \"linecolor\": \"white\", \"ticks\": \"\"}}, \"scene\": {\"xaxis\": {\"backgroundcolor\": \"#E5ECF6\", \"gridcolor\": \"white\", \"gridwidth\": 2, \"linecolor\": \"white\", \"showbackground\": true, \"ticks\": \"\", \"zerolinecolor\": \"white\"}, \"yaxis\": {\"backgroundcolor\": \"#E5ECF6\", \"gridcolor\": \"white\", \"gridwidth\": 2, \"linecolor\": \"white\", \"showbackground\": true, \"ticks\": \"\", \"zerolinecolor\": \"white\"}, \"zaxis\": {\"backgroundcolor\": \"#E5ECF6\", \"gridcolor\": \"white\", \"gridwidth\": 2, \"linecolor\": \"white\", \"showbackground\": true, \"ticks\": \"\", \"zerolinecolor\": \"white\"}}, \"shapedefaults\": {\"line\": {\"color\": \"#2a3f5f\"}}, \"ternary\": {\"aaxis\": {\"gridcolor\": \"white\", \"linecolor\": \"white\", \"ticks\": \"\"}, \"baxis\": {\"gridcolor\": \"white\", \"linecolor\": \"white\", \"ticks\": \"\"}, \"bgcolor\": \"#E5ECF6\", \"caxis\": {\"gridcolor\": \"white\", \"linecolor\": \"white\", \"ticks\": \"\"}}, \"title\": {\"x\": 0.05}, \"xaxis\": {\"automargin\": true, \"gridcolor\": \"white\", \"linecolor\": \"white\", \"ticks\": \"\", \"title\": {\"standoff\": 15}, \"zerolinecolor\": \"white\", \"zerolinewidth\": 2}, \"yaxis\": {\"automargin\": true, \"gridcolor\": \"white\", \"linecolor\": \"white\", \"ticks\": \"\", \"title\": {\"standoff\": 15}, \"zerolinecolor\": \"white\", \"zerolinewidth\": 2}}}, \"title\": {\"text\": \"Scores for TF-IDF\"}, \"xaxis\": {\"anchor\": \"y\", \"domain\": [0.0, 1.0], \"title\": {\"text\": \"score\"}}, \"yaxis\": {\"anchor\": \"x\", \"domain\": [0.0, 1.0], \"title\": {\"text\": \"count\"}}},\n",
              "                        {\"responsive\": true}\n",
              "                    ).then(function(){\n",
              "                            \n",
              "var gd = document.getElementById('543bd2f9-02b4-4bd5-954d-277920c6f282');\n",
              "var x = new MutationObserver(function (mutations, observer) {{\n",
              "        var display = window.getComputedStyle(gd).display;\n",
              "        if (!display || display === 'none') {{\n",
              "            console.log([gd, 'removed!']);\n",
              "            Plotly.purge(gd);\n",
              "            observer.disconnect();\n",
              "        }}\n",
              "}});\n",
              "\n",
              "// Listen for the removal of the full notebook cells\n",
              "var notebookContainer = gd.closest('#notebook-container');\n",
              "if (notebookContainer) {{\n",
              "    x.observe(notebookContainer, {childList: true});\n",
              "}}\n",
              "\n",
              "// Listen for the clearing of the current output cell\n",
              "var outputEl = gd.closest('.output');\n",
              "if (outputEl) {{\n",
              "    x.observe(outputEl, {childList: true});\n",
              "}}\n",
              "\n",
              "                        })\n",
              "                };\n",
              "                \n",
              "            </script>\n",
              "        </div>\n",
              "</body>\n",
              "</html>"
            ]
          },
          "metadata": {}
        }
      ]
    },
    {
      "cell_type": "code",
      "metadata": {
        "id": "QIBvHL1aOnOT"
      },
      "source": [
        "if use_wandb:\n",
        "  wandb.log({\"scores_hist\": fig})"
      ],
      "execution_count": 55,
      "outputs": []
    },
    {
      "cell_type": "code",
      "metadata": {
        "colab": {
          "base_uri": "https://localhost:8080/",
          "height": 293
        },
        "id": "ohaxVQ6d9iiD",
        "outputId": "f28b3a21-9060-4788-b8fe-5823ad575428"
      },
      "source": [
        "result, details = recommend_tune(df_sim, \"These Foolish Things [jazz1350]\")\n",
        "result.head(5)"
      ],
      "execution_count": 56,
      "outputs": [
        {
          "output_type": "execute_result",
          "data": {
            "text/html": [
              "<div>\n",
              "<style scoped>\n",
              "    .dataframe tbody tr th:only-of-type {\n",
              "        vertical-align: middle;\n",
              "    }\n",
              "\n",
              "    .dataframe tbody tr th {\n",
              "        vertical-align: top;\n",
              "    }\n",
              "\n",
              "    .dataframe thead th {\n",
              "        text-align: right;\n",
              "    }\n",
              "</style>\n",
              "<table border=\"1\" class=\"dataframe\">\n",
              "  <thead>\n",
              "    <tr style=\"text-align: right;\">\n",
              "      <th></th>\n",
              "      <th>index</th>\n",
              "      <th>reference</th>\n",
              "      <th>reference_titleid</th>\n",
              "      <th>similar_title</th>\n",
              "      <th>score</th>\n",
              "      <th>max</th>\n",
              "      <th>score_div_max</th>\n",
              "      <th>similar_titleid</th>\n",
              "    </tr>\n",
              "  </thead>\n",
              "  <tbody>\n",
              "    <tr>\n",
              "      <th>0</th>\n",
              "      <td>0</td>\n",
              "      <td>These Foolish Things [jazz1350]</td>\n",
              "      <td>1168</td>\n",
              "      <td>I Loves You Porgy [jazz1350]</td>\n",
              "      <td>0.986726</td>\n",
              "      <td>0.986726</td>\n",
              "      <td>1.000000</td>\n",
              "      <td>520</td>\n",
              "    </tr>\n",
              "    <tr>\n",
              "      <th>1</th>\n",
              "      <td>1</td>\n",
              "      <td>These Foolish Things [jazz1350]</td>\n",
              "      <td>1168</td>\n",
              "      <td>More Than You Know [jazz1350]</td>\n",
              "      <td>0.796439</td>\n",
              "      <td>0.796439</td>\n",
              "      <td>1.000000</td>\n",
              "      <td>829</td>\n",
              "    </tr>\n",
              "    <tr>\n",
              "      <th>2</th>\n",
              "      <td>2</td>\n",
              "      <td>These Foolish Things [jazz1350]</td>\n",
              "      <td>1168</td>\n",
              "      <td>What Are You Doing New Years [jazz1350]</td>\n",
              "      <td>0.762513</td>\n",
              "      <td>0.796439</td>\n",
              "      <td>0.957402</td>\n",
              "      <td>1265</td>\n",
              "    </tr>\n",
              "    <tr>\n",
              "      <th>3</th>\n",
              "      <td>3</td>\n",
              "      <td>These Foolish Things [jazz1350]</td>\n",
              "      <td>1168</td>\n",
              "      <td>They Can't Take That Away From Me [jazz1350]</td>\n",
              "      <td>0.748027</td>\n",
              "      <td>0.796439</td>\n",
              "      <td>0.939214</td>\n",
              "      <td>1170</td>\n",
              "    </tr>\n",
              "    <tr>\n",
              "      <th>4</th>\n",
              "      <td>4</td>\n",
              "      <td>These Foolish Things [jazz1350]</td>\n",
              "      <td>1168</td>\n",
              "      <td>If I Had You [jazz1350]</td>\n",
              "      <td>0.744246</td>\n",
              "      <td>0.796439</td>\n",
              "      <td>0.934467</td>\n",
              "      <td>577</td>\n",
              "    </tr>\n",
              "  </tbody>\n",
              "</table>\n",
              "</div>"
            ],
            "text/plain": [
              "   index                        reference  ...  score_div_max similar_titleid\n",
              "0      0  These Foolish Things [jazz1350]  ...       1.000000             520\n",
              "1      1  These Foolish Things [jazz1350]  ...       1.000000             829\n",
              "2      2  These Foolish Things [jazz1350]  ...       0.957402            1265\n",
              "3      3  These Foolish Things [jazz1350]  ...       0.939214            1170\n",
              "4      4  These Foolish Things [jazz1350]  ...       0.934467             577\n",
              "\n",
              "[5 rows x 8 columns]"
            ]
          },
          "metadata": {},
          "execution_count": 56
        }
      ]
    },
    {
      "cell_type": "markdown",
      "metadata": {
        "id": "UveSDI6QWALe"
      },
      "source": [
        "Copy results into a dataframe for later logging to W&B"
      ]
    },
    {
      "cell_type": "code",
      "metadata": {
        "id": "AEEqdXBiT5bl"
      },
      "source": [
        "dd = pd.DataFrame(columns = recommender_results_cols)\n",
        "\n",
        "for tune in tunes_eval_list:\n",
        "  result, details = recommend_tune(df_sim, tune)\n",
        "  dd['id'] = result['index']\n",
        "  dd['method'] = 'tfidf'\n",
        "  dd['reference'] = tune\n",
        "  dd['similar'] = result['similar_title']\n",
        "  dd['score_div_max'] = result['score_div_max']\n",
        "  dd['score'] = result['score']\n",
        "\n",
        "recommender_results = recommender_results.append(dd)"
      ],
      "execution_count": 57,
      "outputs": []
    },
    {
      "cell_type": "markdown",
      "metadata": {
        "id": "wqaUEFqxXZYB"
      },
      "source": [
        "### Test Contrafacts"
      ]
    },
    {
      "cell_type": "markdown",
      "metadata": {
        "id": "563ncYqAfIyN"
      },
      "source": [
        "With the model, query the top N highest matches for each section. For a tune, if at least one section receives the recommendation  for the expected title, increase the match counter."
      ]
    },
    {
      "cell_type": "code",
      "metadata": {
        "id": "RVPtraR-hg0G"
      },
      "source": [
        "def test_contrafacts(tunes, index, model, N=15):\n",
        "  matches = 0\n",
        "  number_of_sections = 0\n",
        "  results = {}\n",
        "\n",
        "  for tune, similar_tune in tunes.items():\n",
        "    \n",
        "    # loop over all sections of the tune\n",
        "    section_matches = 0\n",
        "    for s1 in title_to_sectionid[tune]:\n",
        "      query = processed_corpus[s1]\n",
        "      query_bow = dictionary.doc2bow(query)\n",
        "\n",
        "      # perform a similarity query against the corpus\n",
        "      similarities = index[model[query_bow]]\n",
        "      sims = sorted(enumerate(similarities), key=lambda item: -item[1])\n",
        "\n",
        "      # check if the section matches the expected title; consider only the first 15 recommendations\n",
        "      i = 0\n",
        "      for sectionid, value in sims:\n",
        "        if i >= N:\n",
        "          break\n",
        "        i += 1\n",
        "        if sectionid_to_title[sectionid] == similar_tune:\n",
        "          section_matches += 1\n",
        "\n",
        "    # for each title, increase matches if at least one of the section matched the expected title\n",
        "    if section_matches > 0:\n",
        "      matches += 1  \n",
        "      results[tune] = 1\n",
        "    else:\n",
        "      results[tune] = 0\n",
        "  \n",
        "  return matches, results\n"
      ],
      "execution_count": 58,
      "outputs": []
    },
    {
      "cell_type": "code",
      "metadata": {
        "colab": {
          "base_uri": "https://localhost:8080/"
        },
        "id": "Q628rO5DhxWD",
        "outputId": "e430b66f-1a33-4d47-fc17-f507f84a7889"
      },
      "source": [
        "topN = 15\n",
        "matches, results = test_contrafacts(contrafacts, index_tfidf, tfidf, topN)\n",
        "\n",
        "[print(f\"{val}: {rr}\") for rr, val in results.items()] \n",
        "print() \n",
        "print(f\"Found matches: {matches} out of {len(contrafacts)}: {100*matches/len(contrafacts):.3f}%\")"
      ],
      "execution_count": 59,
      "outputs": [
        {
          "output_type": "stream",
          "name": "stdout",
          "text": [
            "0: 26-2 [jazz1350]\n",
            "0: 52nd Street Theme [jazz1350]\n",
            "1: Ablution [jazz1350]\n",
            "1: Anthropology [jazz1350]\n",
            "0: Ballade [jazz1350]\n",
            "1: Bright Mississippi [jazz1350]\n",
            "1: C.T.A. [jazz1350]\n",
            "1: Cottontail [jazz1350]\n",
            "1: Countdown [jazz1350]\n",
            "0: Dewey Square [jazz1350]\n",
            "1: Dexterity [jazz1350]\n",
            "1: Dig [jazz1350]\n",
            "1: Donna Lee [jazz1350]\n",
            "0: Don't Be That Way [jazz1350]\n",
            "1: Evidence [jazz1350]\n",
            "1: Flintstones [jazz1350]\n",
            "0: Four On Six [jazz1350]\n",
            "1: Freight Train [jazz1350]\n",
            "0: Good Bait [jazz1350]\n",
            "1: Hackensack [jazz1350]\n",
            "1: Half Nelson [jazz1350]\n",
            "1: Hot House [jazz1350]\n",
            "1: Impressions [jazz1350]\n",
            "0: In A Mellow Tone (In A Mellotone) [jazz1350]\n",
            "1: In Walked Bud [jazz1350]\n",
            "1: Ko Ko [jazz1350]\n",
            "0: Lennie's Pennies [jazz1350]\n",
            "0: Little Rootie Tootie [jazz1350]\n",
            "0: Little Willie Leaps [jazz1350]\n",
            "0: Lullaby Of Birdland [jazz1350]\n",
            "0: My Little Suede Shoes [jazz1350]\n",
            "1: Ornithology [jazz1350]\n",
            "0: Quasimodo (Theme) [jazz1350]\n",
            "0: Room 608 [jazz1350]\n",
            "1: Satellite [jazz1350]\n",
            "1: Scrapple From The Apple [jazz1350]\n",
            "1: Tour De Force [jazz1350]\n",
            "1: Wow [jazz1350]\n",
            "1: Yardbird Suite [jazz1350]\n",
            "0: Sweet Sue, Just You [jazz1350]\n",
            "0: These Foolish Things [jazz1350]\n",
            "1: Misty [jazz1350]\n",
            "\n",
            "Found matches: 25 out of 42: 59.524%\n"
          ]
        }
      ]
    },
    {
      "cell_type": "code",
      "metadata": {
        "id": "8lKZukYybvMJ"
      },
      "source": [
        "model_name = 'tfidf'\n",
        "if use_wandb:\n",
        "  wandb.log(\n",
        "      {model_name: {\n",
        "                'contrafacts': {\n",
        "                    'topN': topN,\n",
        "                    'success': matches/len(contrafacts),\n",
        "                    #'results': results\n",
        "                    }\n",
        "                   },\n",
        "       'all_models': {\n",
        "           model_name: wandb.Table(\n",
        "               columns=[\"Title\", \"Match\"],\n",
        "               data=[[key, value] for key, value in results.items()]),\n",
        "       }\n",
        "       })"
      ],
      "execution_count": 60,
      "outputs": []
    },
    {
      "cell_type": "markdown",
      "metadata": {
        "id": "Phw7fBDk0px7"
      },
      "source": [
        "## Store TF-IDF Model to W&B"
      ]
    },
    {
      "cell_type": "code",
      "metadata": {
        "id": "KdYWJX-60pdd"
      },
      "source": [
        "if use_wandb:\n",
        "  model_artifact = wandb.Artifact(\n",
        "      \"model_tfidf\", \n",
        "      type=\"model\",\n",
        "      description=\"TF-IDF Model\",\n",
        "      metadata=\"\")\n",
        "\n",
        "  model_artifact.add_file(\"/content/index/tfidf.model\")\n",
        "  model_artifact.add_file(\"/content/index/tfidf.index\")\n",
        "  wandb.log_artifact(model_artifact)"
      ],
      "execution_count": 61,
      "outputs": []
    },
    {
      "cell_type": "markdown",
      "metadata": {
        "id": "Pj0mpWpahPu1"
      },
      "source": [
        "## Get Recommender Data for WebApp\n",
        "\n"
      ]
    },
    {
      "cell_type": "code",
      "metadata": {
        "id": "buRbSTWehvPP"
      },
      "source": [
        "tune_test = [\"These Foolish Things [jazz1350]\",\n",
        "             \"Misty [jazz1350]\"]"
      ],
      "execution_count": 62,
      "outputs": []
    },
    {
      "cell_type": "code",
      "metadata": {
        "colab": {
          "base_uri": "https://localhost:8080/"
        },
        "id": "kwdXs-pZjKKD",
        "outputId": "49e81028-4957-49bf-a0ad-6738252ced45"
      },
      "source": [
        "%%time\n",
        "if generate_webapp_data:\n",
        "  _tunes = tunes_eval_list\n",
        "\n",
        "  df_sim = get_sim_scores(_tunes, index_tfidf, tfidf)\n",
        "\n",
        "  result = None\n",
        "  for tune in _tunes:\n",
        "    tune_result, details = recommend_tune(df_sim, tune)\n",
        "    if result is None:\n",
        "      result = pd.DataFrame(columns=tune_result.columns)\n",
        "    result = result.append(tune_result)\n",
        "\n",
        "  # save to file\n",
        "  result.to_csv('output/recommender_tfidf.csv', sep='\\t', encoding='utf8')\n",
        "\n",
        "  # save to wandb\n",
        "  if use_wandb:\n",
        "    model_artifact = wandb.Artifact(\n",
        "        \"recommender_tfidf\", \n",
        "        type=\"csv\",\n",
        "        description=\"Recommendations for each Tune using TF-IDF Model (csv file)\",\n",
        "        metadata=\"\")\n",
        "\n",
        "    model_artifact.add_file('output/recommender_tfidf.csv')\n",
        "    wandb.log_artifact(model_artifact)"
      ],
      "execution_count": 63,
      "outputs": [
        {
          "output_type": "stream",
          "name": "stdout",
          "text": [
            "CPU times: user 5 µs, sys: 0 ns, total: 5 µs\n",
            "Wall time: 10.7 µs\n"
          ]
        }
      ]
    },
    {
      "cell_type": "code",
      "metadata": {
        "id": "uyJxqE5bnx7V"
      },
      "source": [
        ""
      ],
      "execution_count": 63,
      "outputs": []
    },
    {
      "cell_type": "markdown",
      "metadata": {
        "id": "99xHBRsd--OB"
      },
      "source": [
        "# LSA (Latent Semantic Analysis), aka LSI (Latent Semantic Index) "
      ]
    },
    {
      "cell_type": "code",
      "metadata": {
        "id": "adsW9Uh9_JXs"
      },
      "source": [
        "from collections import defaultdict"
      ],
      "execution_count": 64,
      "outputs": []
    },
    {
      "cell_type": "code",
      "metadata": {
        "colab": {
          "base_uri": "https://localhost:8080/"
        },
        "id": "s3AJZGRD_IHW",
        "outputId": "e88c3c6d-7a66-4f7e-eb8f-d1d9940ff45f"
      },
      "source": [
        "num_topics = lsi_config['num_topics']\n",
        "\n",
        "# remove words that appear only once\n",
        "frequency = defaultdict(int)\n",
        "for text in processed_corpus:\n",
        "    for token in text:\n",
        "        frequency[token] += 1\n",
        "\n",
        "data = [[token for token in text if frequency[token] > 1] for text in processed_corpus]\n",
        "dictionary = corpora.Dictionary(data)\n",
        "\n",
        "# doc2bow counts the number of occurences of each distinct word,\n",
        "# converts the word to its integer word id and returns the result\n",
        "# as a sparse vector\n",
        "\n",
        "bow_corpus = [dictionary.doc2bow(text) for text in data]\n",
        "lsi = LsiModel(bow_corpus, id2word=dictionary, num_topics=num_topics)  # num_topics can be maximum the size of the number of unique tokens"
      ],
      "execution_count": 65,
      "outputs": [
        {
          "output_type": "stream",
          "name": "stderr",
          "text": [
            "2021-11-26 21:54:16,300 : INFO : adding document #0 to Dictionary(0 unique tokens: [])\n",
            "2021-11-26 21:54:16,416 : INFO : built Dictionary(72 unique tokens: ['Am', 'B7', 'C', 'C#', 'C7']...) from 5391 documents (total 82622 corpus positions)\n",
            "2021-11-26 21:54:16,419 : INFO : Dictionary lifecycle event {'msg': \"built Dictionary(72 unique tokens: ['Am', 'B7', 'C', 'C#', 'C7']...) from 5391 documents (total 82622 corpus positions)\", 'datetime': '2021-11-26T21:54:16.419225', 'gensim': '4.1.2', 'python': '3.7.12 (default, Sep 10 2021, 00:21:48) \\n[GCC 7.5.0]', 'platform': 'Linux-5.4.104+-x86_64-with-Ubuntu-18.04-bionic', 'event': 'created'}\n",
            "2021-11-26 21:54:16,505 : INFO : using serial LSI version on this node\n",
            "2021-11-26 21:54:16,508 : INFO : updating model with new documents\n",
            "2021-11-26 21:54:16,511 : INFO : preparing a new chunk of documents\n",
            "2021-11-26 21:54:16,550 : INFO : using 100 extra samples and 2 power iterations\n",
            "2021-11-26 21:54:16,552 : INFO : 1st phase: constructing (72, 300) action matrix\n",
            "2021-11-26 21:54:16,663 : INFO : orthonormalizing (72, 300) action matrix\n",
            "2021-11-26 21:54:16,694 : INFO : 2nd phase: running dense svd on (72, 5391) matrix\n",
            "2021-11-26 21:54:16,766 : INFO : computing the final decomposition\n",
            "2021-11-26 21:54:16,769 : INFO : keeping 72 factors (discarding 0.000% of energy spectrum)\n",
            "2021-11-26 21:54:16,781 : INFO : processed documents up to #5391\n",
            "2021-11-26 21:54:16,784 : INFO : topic #0(398.310): 0.714*\"C\" + 0.508*\"G7\" + 0.286*\"Dm\" + 0.176*\"D7\" + 0.168*\"A7\" + 0.160*\"F\" + 0.150*\"Am\" + 0.115*\"C7\" + 0.092*\"E7\" + 0.080*\"Em\"\n",
            "2021-11-26 21:54:16,790 : INFO : topic #1(168.270): 0.780*\"Am\" + -0.378*\"C\" + 0.342*\"E7\" + 0.266*\"Dm\" + 0.114*\"Bm7b5\" + 0.097*\"Em\" + 0.088*\"A7\" + 0.080*\"D7\" + 0.071*\"F7\" + 0.066*\"B7\"\n",
            "2021-11-26 21:54:16,796 : INFO : topic #2(129.738): 0.652*\"Dm\" + -0.363*\"Am\" + -0.348*\"C\" + 0.270*\"A7\" + 0.263*\"G7\" + -0.232*\"F\" + 0.229*\"Em\" + -0.181*\"E7\" + -0.146*\"D7\" + -0.065*\"G\"\n",
            "2021-11-26 21:54:16,801 : INFO : topic #3(113.617): 0.724*\"C7\" + -0.341*\"C\" + 0.300*\"D7\" + 0.272*\"G7\" + -0.245*\"Dm\" + 0.218*\"F\" + -0.179*\"Am\" + 0.130*\"F7\" + 0.102*\"Gm\" + 0.094*\"Bb7\"\n",
            "2021-11-26 21:54:16,809 : INFO : topic #4(104.284): 0.579*\"D7\" + -0.415*\"C7\" + -0.354*\"F\" + 0.307*\"G7\" + 0.293*\"A7\" + -0.279*\"Dm\" + 0.159*\"E7\" + -0.141*\"C\" + -0.137*\"Em\" + -0.114*\"Gm\"\n",
            "2021-11-26 21:54:16,811 : INFO : LsiModel lifecycle event {'msg': 'trained LsiModel(num_terms=72, num_topics=200, decay=1.0, chunksize=20000) in 0.30s', 'datetime': '2021-11-26T21:54:16.811626', 'gensim': '4.1.2', 'python': '3.7.12 (default, Sep 10 2021, 00:21:48) \\n[GCC 7.5.0]', 'platform': 'Linux-5.4.104+-x86_64-with-Ubuntu-18.04-bionic', 'event': 'created'}\n"
          ]
        }
      ]
    },
    {
      "cell_type": "code",
      "metadata": {
        "id": "EvxSQFfBBNMJ",
        "colab": {
          "base_uri": "https://localhost:8080/"
        },
        "outputId": "265f38f0-085f-4139-8251-89b761115018"
      },
      "source": [
        "index_lsi = similarities.Similarity('/content/index/index_lsi', lsi[bow_corpus], num_features=len(dictionary))"
      ],
      "execution_count": 66,
      "outputs": [
        {
          "output_type": "stream",
          "name": "stderr",
          "text": [
            "2021-11-26 21:54:16,828 : INFO : starting similarity index under /content/index/index_lsi\n"
          ]
        }
      ]
    },
    {
      "cell_type": "code",
      "metadata": {
        "id": "3saA6NY5Tzer"
      },
      "source": [
        "#index_lsi = similarities.SparseMatrixSimilarity(lsi[bow_corpus], num_features = len(dictionary))\n",
        "#index_lsi = similarities.MatrixSimilarity(lsi[bow_corpus])  # transform corpus to LSI space and index it\n"
      ],
      "execution_count": 67,
      "outputs": []
    },
    {
      "cell_type": "code",
      "metadata": {
        "colab": {
          "base_uri": "https://localhost:8080/"
        },
        "id": "F5pbDMVyfEtS",
        "outputId": "b8701a83-4370-4fc4-9f12-f7e65ebaa1c8"
      },
      "source": [
        "lsi.save('/content/index/lsi.model')\n",
        "index_lsi.save('/content/index/lsi_matrixsim.index')\n"
      ],
      "execution_count": 68,
      "outputs": [
        {
          "output_type": "stream",
          "name": "stderr",
          "text": [
            "2021-11-26 21:54:17,528 : INFO : Projection lifecycle event {'fname_or_handle': '/content/index/lsi.model.projection', 'separately': 'None', 'sep_limit': 10485760, 'ignore': frozenset(), 'datetime': '2021-11-26T21:54:17.528615', 'gensim': '4.1.2', 'python': '3.7.12 (default, Sep 10 2021, 00:21:48) \\n[GCC 7.5.0]', 'platform': 'Linux-5.4.104+-x86_64-with-Ubuntu-18.04-bionic', 'event': 'saving'}\n",
            "2021-11-26 21:54:17,532 : INFO : saved /content/index/lsi.model.projection\n",
            "2021-11-26 21:54:17,534 : INFO : LsiModel lifecycle event {'fname_or_handle': '/content/index/lsi.model', 'separately': 'None', 'sep_limit': 10485760, 'ignore': ['projection', 'dispatcher'], 'datetime': '2021-11-26T21:54:17.534755', 'gensim': '4.1.2', 'python': '3.7.12 (default, Sep 10 2021, 00:21:48) \\n[GCC 7.5.0]', 'platform': 'Linux-5.4.104+-x86_64-with-Ubuntu-18.04-bionic', 'event': 'saving'}\n",
            "2021-11-26 21:54:17,538 : INFO : not storing attribute projection\n",
            "2021-11-26 21:54:17,540 : INFO : not storing attribute dispatcher\n",
            "2021-11-26 21:54:17,544 : INFO : saved /content/index/lsi.model\n",
            "2021-11-26 21:54:17,547 : INFO : creating matrix with 5391 documents and 72 features\n",
            "2021-11-26 21:54:17,559 : INFO : creating dense shard #0\n",
            "2021-11-26 21:54:17,564 : INFO : saving index shard to /content/index/index_lsi.0\n",
            "2021-11-26 21:54:17,567 : INFO : MatrixSimilarity lifecycle event {'fname_or_handle': '/content/index/index_lsi.0', 'separately': 'None', 'sep_limit': 10485760, 'ignore': frozenset(), 'datetime': '2021-11-26T21:54:17.566991', 'gensim': '4.1.2', 'python': '3.7.12 (default, Sep 10 2021, 00:21:48) \\n[GCC 7.5.0]', 'platform': 'Linux-5.4.104+-x86_64-with-Ubuntu-18.04-bionic', 'event': 'saving'}\n",
            "2021-11-26 21:54:17,572 : INFO : saved /content/index/index_lsi.0\n",
            "2021-11-26 21:54:17,574 : INFO : loading MatrixSimilarity object from /content/index/index_lsi.0\n",
            "2021-11-26 21:54:17,578 : INFO : MatrixSimilarity lifecycle event {'fname': '/content/index/index_lsi.0', 'datetime': '2021-11-26T21:54:17.578761', 'gensim': '4.1.2', 'python': '3.7.12 (default, Sep 10 2021, 00:21:48) \\n[GCC 7.5.0]', 'platform': 'Linux-5.4.104+-x86_64-with-Ubuntu-18.04-bionic', 'event': 'loaded'}\n",
            "2021-11-26 21:54:17,583 : INFO : Similarity lifecycle event {'fname_or_handle': '/content/index/lsi_matrixsim.index', 'separately': 'None', 'sep_limit': 10485760, 'ignore': frozenset(), 'datetime': '2021-11-26T21:54:17.583597', 'gensim': '4.1.2', 'python': '3.7.12 (default, Sep 10 2021, 00:21:48) \\n[GCC 7.5.0]', 'platform': 'Linux-5.4.104+-x86_64-with-Ubuntu-18.04-bionic', 'event': 'saving'}\n",
            "2021-11-26 21:54:17,586 : INFO : saved /content/index/lsi_matrixsim.index\n"
          ]
        }
      ]
    },
    {
      "cell_type": "code",
      "metadata": {
        "colab": {
          "base_uri": "https://localhost:8080/"
        },
        "id": "1udPIceqYk6S",
        "outputId": "5f27e042-8fce-417e-b50e-b6a1d9096577"
      },
      "source": [
        "!ls -la /content/index"
      ],
      "execution_count": 69,
      "outputs": [
        {
          "output_type": "stream",
          "name": "stdout",
          "text": [
            "total 1932\n",
            "drwxr-xr-x 2 root root    4096 Nov 26 21:54 .\n",
            "drwxr-xr-x 1 root root    4096 Nov 26 21:53 ..\n",
            "-rw-r--r-- 1 root root 1553280 Nov 26 21:54 index_lsi.0\n",
            "-rw-r--r-- 1 root root     742 Nov 26 21:54 lsi_matrixsim.index\n",
            "-rw-r--r-- 1 root root    2728 Nov 26 21:54 lsi.model\n",
            "-rw-r--r-- 1 root root   42728 Nov 26 21:54 lsi.model.projection\n",
            "-rw-r--r-- 1 root root  352360 Nov 26 21:53 tfidf.index\n",
            "-rw-r--r-- 1 root root    2782 Nov 26 21:53 tfidf.model\n"
          ]
        }
      ]
    },
    {
      "cell_type": "markdown",
      "metadata": {
        "id": "u05KD64Ai1uo"
      },
      "source": [
        "## Tests"
      ]
    },
    {
      "cell_type": "markdown",
      "metadata": {
        "id": "pDxTCAGv9MmZ"
      },
      "source": [
        "### Test for single tunes"
      ]
    },
    {
      "cell_type": "code",
      "metadata": {
        "colab": {
          "base_uri": "https://localhost:8080/"
        },
        "id": "khASSJ1eEuf5",
        "outputId": "a732ebed-88c9-4443-a43c-2d5d5ccc3267"
      },
      "source": [
        "%%time\n",
        "df_sim = get_sim_scores(tunes_eval_list, index=index_lsi, model=lsi)\n",
        "\n",
        "# save a copy of the results; all results will be concatenated at the end\n",
        "df_lsi = df_sim[:]"
      ],
      "execution_count": 70,
      "outputs": [
        {
          "output_type": "stream",
          "name": "stdout",
          "text": [
            "\n",
            "--------------------------------------------------\n",
            "125 After You've Gone, section1 (A)\n",
            "126 After You've Gone, section2 (B)\n",
            "127 After You've Gone, section3 (A)\n",
            "128 After You've Gone, section4 (C)\n",
            "\n",
            "--------------------------------------------------\n",
            "188 All God's Chillun Got Rhythm, section1 (A)\n",
            "189 All God's Chillun Got Rhythm, section2 (B)\n",
            "190 All God's Chillun Got Rhythm, section3 (A)\n",
            "191 All God's Chillun Got Rhythm, section4 (C)\n",
            "\n",
            "--------------------------------------------------\n",
            "198 All Of Me, section1 (A)\n",
            "199 All Of Me, section2 (B)\n",
            "200 All Of Me, section3 (A)\n",
            "201 All Of Me, section4 (C)\n",
            "\n",
            "--------------------------------------------------\n",
            "474 Blood Count, section1 (A)\n",
            "475 Blood Count, section2 (A)\n",
            "476 Blood Count, section3 (B)\n",
            "477 Blood Count, section4 (A)\n",
            "478 Blood Count, section5 (C)\n",
            "\n",
            "--------------------------------------------------\n",
            "496 Blue Moon, section1 (A)\n",
            "497 Blue Moon, section2 (A)\n",
            "498 Blue Moon, section3 (B)\n",
            "499 Blue Moon, section4 (A)\n",
            "\n",
            "--------------------------------------------------\n",
            "626 But Beautiful, section1 (A)\n",
            "627 But Beautiful, section2 (B)\n",
            "628 But Beautiful, section3 (A)\n",
            "629 But Beautiful, section4 (C)\n",
            "\n",
            "--------------------------------------------------\n",
            "653 Bye Bye Blackbird, section1 (A)\n",
            "654 Bye Bye Blackbird, section2 (B)\n",
            "\n",
            "--------------------------------------------------\n",
            "676 Call Me Irresponsible, section1 (A)\n",
            "677 Call Me Irresponsible, section2 (B)\n",
            "678 Call Me Irresponsible, section3 (A)\n",
            "679 Call Me Irresponsible, section4 (B)\n",
            "\n",
            "--------------------------------------------------\n",
            "826 Corcovado, section1 (A)\n",
            "827 Corcovado, section2 (B)\n",
            "828 Corcovado, section3 (A)\n",
            "829 Corcovado, section4 (C)\n",
            "\n",
            "--------------------------------------------------\n",
            "997 Dinah, section1 (A)\n",
            "998 Dinah, section2 (A)\n",
            "999 Dinah, section3 (B)\n",
            "1000 Dinah, section4 (A)\n",
            "\n",
            "--------------------------------------------------\n",
            "1125 East Of The Sun, section1 (A)\n",
            "1126 East Of The Sun, section2 (B)\n",
            "1127 East Of The Sun, section3 (A)\n",
            "1128 East Of The Sun, section4 (C)\n",
            "\n",
            "--------------------------------------------------\n",
            "1287 Footprints, section0 (nan)\n",
            "\n",
            "--------------------------------------------------\n",
            "1379 Giant Steps, section0 (nan)\n",
            "\n",
            "--------------------------------------------------\n",
            "1538 Honeysuckle Rose, section1 (A)\n",
            "1539 Honeysuckle Rose, section2 (A)\n",
            "1540 Honeysuckle Rose, section3 (B)\n",
            "1541 Honeysuckle Rose, section4 (A)\n",
            "\n",
            "--------------------------------------------------\n",
            "1647 I Got Rhythm, section1 (A)\n",
            "1648 I Got Rhythm, section2 (A)\n",
            "1649 I Got Rhythm, section3 (B)\n",
            "1650 I Got Rhythm, section4 (A)\n",
            "\n",
            "--------------------------------------------------\n",
            "2670 Misty, section1 (A)\n",
            "2671 Misty, section2 (A)\n",
            "2672 Misty, section3 (B)\n",
            "2673 Misty, section4 (A)\n",
            "\n",
            "--------------------------------------------------\n",
            "2857 Naima, section1 (A)\n",
            "2858 Naima, section2 (A)\n",
            "2859 Naima, section3 (B)\n",
            "2860 Naima, section4 (A)\n",
            "\n",
            "--------------------------------------------------\n",
            "5044 Old Fashioned Love, section0 (nan)\n",
            "\n",
            "--------------------------------------------------\n",
            "3142 Perdido, section1 (A)\n",
            "3143 Perdido, section2 (A)\n",
            "3144 Perdido, section3 (B)\n",
            "3145 Perdido, section4 (A)\n",
            "\n",
            "--------------------------------------------------\n",
            "3276 Rockin' Chair, section1 (A)\n",
            "3277 Rockin' Chair, section2 (B)\n",
            "3278 Rockin' Chair, section3 (A)\n",
            "\n",
            "--------------------------------------------------\n",
            "3578 Sophisticated Lady, section1 (A)\n",
            "3579 Sophisticated Lady, section2 (A)\n",
            "3580 Sophisticated Lady, section3 (B)\n",
            "3581 Sophisticated Lady, section4 (A)\n",
            "\n",
            "--------------------------------------------------\n",
            "3746 Sweet Sue, Just You, section1 (A)\n",
            "3747 Sweet Sue, Just You, section2 (A)\n",
            "3748 Sweet Sue, Just You, section3 (B)\n",
            "3749 Sweet Sue, Just You, section4 (A)\n",
            "\n",
            "--------------------------------------------------\n",
            "3860 These Foolish Things, section1 (A)\n",
            "3861 These Foolish Things, section2 (A)\n",
            "3862 These Foolish Things, section3 (B)\n",
            "3863 These Foolish Things, section4 (A)\n",
            "\n",
            "--------------------------------------------------\n",
            "4146 We'll Be Together Again, section1 (A)\n",
            "4147 We'll Be Together Again, section2 (A)\n",
            "4148 We'll Be Together Again, section3 (B)\n",
            "4149 We'll Be Together Again, section4 (A)\n",
            "CPU times: user 29.8 s, sys: 8.74 s, total: 38.5 s\n",
            "Wall time: 29.6 s\n"
          ]
        }
      ]
    },
    {
      "cell_type": "code",
      "metadata": {
        "colab": {
          "base_uri": "https://localhost:8080/",
          "height": 542
        },
        "id": "X31lkvUsDAsU",
        "outputId": "1e2d9e34-2fd2-4483-aacb-78782a8f5032"
      },
      "source": [
        "import plotly.express as px\n",
        "fig = px.histogram(df_sim, x=\"score\", nbins=50, title='LSI Scores')\n",
        "fig.show()"
      ],
      "execution_count": 71,
      "outputs": [
        {
          "output_type": "display_data",
          "data": {
            "text/html": [
              "<html>\n",
              "<head><meta charset=\"utf-8\" /></head>\n",
              "<body>\n",
              "    <div>\n",
              "            <script src=\"https://cdnjs.cloudflare.com/ajax/libs/mathjax/2.7.5/MathJax.js?config=TeX-AMS-MML_SVG\"></script><script type=\"text/javascript\">if (window.MathJax) {MathJax.Hub.Config({SVG: {font: \"STIX-Web\"}});}</script>\n",
              "                <script type=\"text/javascript\">window.PlotlyConfig = {MathJaxConfig: 'local'};</script>\n",
              "        <script src=\"https://cdn.plot.ly/plotly-latest.min.js\"></script>    \n",
              "            <div id=\"39283741-52a7-400b-a4d6-ae1889ec9ea7\" class=\"plotly-graph-div\" style=\"height:525px; width:100%;\"></div>\n",
              "            <script type=\"text/javascript\">\n",
              "                \n",
              "                    window.PLOTLYENV=window.PLOTLYENV || {};\n",
              "                    \n",
              "                if (document.getElementById(\"39283741-52a7-400b-a4d6-ae1889ec9ea7\")) {\n",
              "                    Plotly.newPlot(\n",
              "                        '39283741-52a7-400b-a4d6-ae1889ec9ea7',\n",
              "                        [{\"alignmentgroup\": \"True\", \"bingroup\": \"x\", \"hoverlabel\": {\"namelength\": 0}, \"hovertemplate\": \"score=%{x}<br>count=%{y}\", \"legendgroup\": \"\", \"marker\": {\"color\": \"#636efa\"}, \"name\": \"\", \"nbinsx\": 50, \"offsetgroup\": \"\", \"orientation\": \"v\", \"showlegend\": false, \"type\": \"histogram\", \"x\": [0.8872442245483398, 0.8333333134651184, 0.8333333134651184, 0.8333333134651184, 0.8268688321113586, 0.8215838074684143, 0.8164966106414795, 0.8164966106414795, 0.8164966106414795, 0.8164966106414795, 0.8164966106414795, 0.8164966106414795, 0.8164965510368347, 0.8164964914321899, 0.8146880865097046, 0.8146880865097046, 0.8146880865097046, 0.8128778338432312, 0.8115026354789734, 0.8082903027534485, 0.8056291937828064, 0.8022767305374146, 0.8017836809158325, 0.8006407618522644, 0.8006407618522644, 0.8006407618522644, 0.796097993850708, 0.7960029244422913, 0.7938566207885742, 0.7938566207885742, 0.7938566207885742, 0.7938565611839294, 0.7937363982200623, 0.7925938963890076, 0.7924057841300964, 0.7905694246292114, 0.7905694246292114, 0.7874259948730469, 0.7844645380973816, 0.7835467457771301, 0.7833494544029236, 0.9449111819267273, 0.9449111819267273, 0.9449111819267273, 0.9294209480285645, 0.927730917930603, 0.9237152934074402, 0.9164397716522217, 0.9116846919059753, 0.9116846919059753, 0.9116846919059753, 0.9116846919059753, 0.9092413783073425, 0.9086882472038269, 0.90748530626297, 0.90748530626297, 0.9074851870536804, 0.8989697098731995, 0.8976656198501587, 0.8968700766563416, 0.8964548110961914, 0.8944271802902222, 0.8933250308036804, 0.8933250308036804, 0.8933250308036804, 0.8928571939468384, 0.8916451334953308, 0.8916451334953308, 0.8916451334953308, 0.8914850354194641, 0.8910421133041382, 0.8910420536994934, 0.889499306678772, 0.889499306678772, 0.8894991278648376, 0.8887815475463867, 0.8838084936141968, 0.8828535079956055, 0.8824974894523621, 0.8821085691452026, 0.8819171190261841, 0.8819171190261841, 0.8872442245483398, 0.8333333134651184, 0.8333333134651184, 0.8333333134651184, 0.8268688321113586, 0.8215838074684143, 0.8164966106414795, 0.8164966106414795, 0.8164966106414795, 0.8164966106414795, 0.8164966106414795, 0.8164966106414795, 0.8164965510368347, 0.8164964914321899, 0.8146880865097046, 0.8146880865097046, 0.8146880865097046, 0.8128778338432312, 0.8115026354789734, 0.8082903027534485, 0.8056291937828064, 0.8022767305374146, 0.8017836809158325, 0.8006407618522644, 0.8006407618522644, 0.8006407618522644, 0.796097993850708, 0.7960029244422913, 0.7938566207885742, 0.7938566207885742, 0.7938566207885742, 0.7938565611839294, 0.7937363982200623, 0.7925938963890076, 0.7924057841300964, 0.7905694246292114, 0.7905694246292114, 0.7874259948730469, 0.7844645380973816, 0.7835467457771301, 0.7833494544029236, 0.9096581935882568, 0.9022911787033081, 0.9016695618629456, 0.8867155909538269, 0.8795367479324341, 0.8730378746986389, 0.8716936111450195, 0.8716936111450195, 0.8716138601303101, 0.8700222373008728, 0.8700222373008728, 0.8700221180915833, 0.8675329685211182, 0.8675328493118286, 0.8657459020614624, 0.8657053709030151, 0.8657053112983704, 0.8650469183921814, 0.8650146126747131, 0.8633970022201538, 0.8607285618782043, 0.8598892688751221, 0.859207272529602, 0.8589556813240051, 0.8589556813240051, 0.8589556813240051, 0.8575894236564636, 0.8570745587348938, 0.857074499130249, 0.855844259262085, 0.8553988337516785, 0.8536584973335266, 0.8528679609298706, 0.8520770072937012, 0.8519977331161499, 0.8519828915596008, 0.8502658009529114, 0.8502658009529114, 0.8502658009529114, 0.8501022458076477, 0.847586989402771, 0.9749999642372131, 0.9695895910263062, 0.9682456851005554, 0.9561829566955566, 0.9560661315917969, 0.9560660719871521, 0.9547033309936523, 0.954594075679779, 0.946340024471283, 0.946340024471283, 0.942927896976471, 0.9407528638839722, 0.9398255348205566, 0.9398255348205566, 0.9389711618423462, 0.9383147954940796, 0.9375001192092896, 0.9360565543174744, 0.9360565543174744, 0.9360565543174744, 0.9359709620475769, 0.9354143142700195, 0.9341285228729248, 0.9341285228729248, 0.932773232460022, 0.9284766316413879, 0.9284766316413879, 0.9282791018486023, 0.9280776977539062, 0.9280776977539062, 0.9280775785446167, 0.9274260401725769, 0.9263022541999817, 0.9263021349906921, 0.9250001311302185, 0.9250001311302185, 0.923186182975769, 0.92317134141922, 0.9231711626052856, 0.9223309755325317, 0.9214785695075989, 0.9309494495391846, 0.9013878107070923, 0.8966439366340637, 0.8894992470741272, 0.8894990682601929, 0.8882312178611755, 0.8869685530662537, 0.882522702217102, 0.8744746446609497, 0.8702853918075562, 0.8682430982589722, 0.8674725294113159, 0.8608285188674927, 0.8608284592628479, 0.8600261211395264, 0.8593379259109497, 0.8589844703674316, 0.8561726808547974, 0.8561726808547974, 0.8561726808547974, 0.8561726212501526, 0.8561726212501526, 0.8559209704399109, 0.8540168404579163, 0.8530422449111938, 0.8492078185081482, 0.8492077589035034, 0.8492076992988586, 0.8492076992988586, 0.8473185896873474, 0.8473184704780579, 0.8473184704780579, 0.8468303084373474, 0.8468303084373474, 0.8459098935127258, 0.8438529968261719, 0.8438195586204529, 0.8406728506088257, 0.8386279344558716, 0.8383355140686035, 0.8376104831695557, 0.9749999642372131, 0.9695895910263062, 0.9682456851005554, 0.9561829566955566, 0.9560661315917969, 0.9560660719871521, 0.9547033309936523, 0.954594075679779, 0.946340024471283, 0.946340024471283, 0.942927896976471, 0.9407528638839722, 0.9398255348205566, 0.9398255348205566, 0.9389711618423462, 0.9383147954940796, 0.9375001192092896, 0.9360565543174744, 0.9360565543174744, 0.9360565543174744, 0.9359709620475769, 0.9354143142700195, 0.9341285228729248, 0.9341285228729248, 0.932773232460022, 0.9284766316413879, 0.9284766316413879, 0.9282791018486023, 0.9280776977539062, 0.9280776977539062, 0.9280775785446167, 0.9274260401725769, 0.9263022541999817, 0.9263021349906921, 0.9250001311302185, 0.9250001311302185, 0.923186182975769, 0.92317134141922, 0.9231711626052856, 0.9223309755325317, 0.9214785695075989, 0.9503288865089417, 0.9503288865089417, 0.9486833810806274, 0.9315559267997742, 0.9302604794502258, 0.9296697378158569, 0.9219545125961304, 0.9219544529914856, 0.9219544529914856, 0.9203579425811768, 0.9203579425811768, 0.9192389249801636, 0.9170605540275574, 0.9135003089904785, 0.9135003089904785, 0.910980224609375, 0.9101914167404175, 0.9101912975311279, 0.9091548323631287, 0.9091548323631287, 0.9091548323631287, 0.908738911151886, 0.908025324344635, 0.9080252647399902, 0.9071148633956909, 0.9071148037910461, 0.9071148037910461, 0.9071147441864014, 0.9068452715873718, 0.9068452715873718, 0.9068452715873718, 0.9057894945144653, 0.9057894945144653, 0.9057893753051758, 0.904534101486206, 0.9014912843704224, 0.9012492299079895, 0.9000000953674316, 0.9000000953674316, 0.9000000953674316, 0.8999999761581421, 0.9622504115104675, 0.8944272398948669, 0.8944271206855774, 0.8944271206855774, 0.8846516013145447, 0.8750001192092896, 0.8728716373443604, 0.866025447845459, 0.866025447845459, 0.866025447845459, 0.8574929237365723, 0.8534919023513794, 0.8512056469917297, 0.8488746881484985, 0.8488746881484985, 0.8488746881484985, 0.8486685156822205, 0.8463273644447327, 0.8461141586303711, 0.8401681184768677, 0.8391464352607727, 0.8391464352607727, 0.8360797166824341, 0.8356289863586426, 0.8320502638816833, 0.8320502638816833, 0.8249579668045044, 0.8249579668045044, 0.8249579668045044, 0.8249579071998596, 0.816496729850769, 0.8164966106414795, 0.8164965510368347, 0.8111070394515991, 0.8111070394515991, 0.8111070394515991, 0.8111070394515991, 0.8111070394515991, 0.8111070394515991, 0.8084521293640137, 0.8082239031791687, 0.9660918116569519, 0.9561829566955566, 0.9449111223220825, 0.9354144334793091, 0.9354143142700195, 0.9354143142700195, 0.9354143142700195, 0.9331389665603638, 0.9331389665603638, 0.9258201122283936, 0.9116846323013306, 0.9083737134933472, 0.9074852466583252, 0.9074852466583252, 0.904106080532074, 0.8970851898193359, 0.8964214324951172, 0.8933250904083252, 0.8908708095550537, 0.8908708095550537, 0.8894992470741272, 0.8894991278648376, 0.867110013961792, 0.867110013961792, 0.8671099543571472, 0.8583951592445374, 0.8583950996398926, 0.8583325147628784, 0.8583325147628784, 0.857142984867096, 0.8571428656578064, 0.8571428060531616, 0.8552359938621521, 0.8547043800354004, 0.8528029322624207, 0.8486684560775757, 0.8486684560775757, 0.8486684560775757, 0.8486683964729309, 0.8486683964729309, 0.8463272452354431, 0.9622504115104675, 0.8944272398948669, 0.8944271206855774, 0.8944271206855774, 0.8846516013145447, 0.8750001192092896, 0.8728716373443604, 0.866025447845459, 0.866025447845459, 0.866025447845459, 0.8574929237365723, 0.8534919023513794, 0.8512056469917297, 0.8488746881484985, 0.8488746881484985, 0.8488746881484985, 0.8486685156822205, 0.8463273644447327, 0.8461141586303711, 0.8401681184768677, 0.8391464352607727, 0.8391464352607727, 0.8360797166824341, 0.8356289863586426, 0.8320502638816833, 0.8320502638816833, 0.8249579668045044, 0.8249579668045044, 0.8249579668045044, 0.8249579071998596, 0.816496729850769, 0.8164966106414795, 0.8164965510368347, 0.8111070394515991, 0.8111070394515991, 0.8111070394515991, 0.8111070394515991, 0.8111070394515991, 0.8111070394515991, 0.8084521293640137, 0.8082239031791687, 0.9770083427429199, 0.9331388473510742, 0.9285714030265808, 0.9265615940093994, 0.9258200526237488, 0.918262243270874, 0.9134141802787781, 0.9104654788970947, 0.9104654788970947, 0.9086881875991821, 0.9086881875991821, 0.9072646498680115, 0.9035079479217529, 0.8987169861793518, 0.8986450433731079, 0.8976656198501587, 0.8976656198501587, 0.8970853090286255, 0.8970853090286255, 0.8966529965400696, 0.8966529965400696, 0.8966333270072937, 0.8966333270072937, 0.8966332674026489, 0.8966332674026489, 0.8950414657592773, 0.8934051394462585, 0.8933250308036804, 0.8916451334953308, 0.8916451334953308, 0.891042172908783, 0.8910421133041382, 0.8910421133041382, 0.8908708095550537, 0.8908708095550537, 0.8908708095550537, 0.8890520334243774, 0.8872442245483398, 0.8872442245483398, 0.8864052295684814, 0.8864052295684814, 0.8000190258026123, 0.7397953867912292, 0.7397953867912292, 0.7171372175216675, 0.7106691002845764, 0.7001756429672241, 0.6935279369354248, 0.6885303854942322, 0.6666666269302368, 0.6600984334945679, 0.6471501588821411, 0.6396021842956543, 0.6151477098464966, 0.6137163639068604, 0.612825870513916, 0.596595287322998, 0.589255690574646, 0.589255690574646, 0.589255690574646, 0.5797508955001831, 0.5790660381317139, 0.5783517360687256, 0.5735393166542053, 0.5714631080627441, 0.566138505935669, 0.5594308972358704, 0.5590169429779053, 0.5443310737609863, 0.5039526224136353, 0.5039526224136353, 0.5, 0.5, 0.490653395652771, 0.4898979961872101, 0.48686450719833374, 0.48112523555755615, 0.48112523555755615, 0.48112520575523376, 0.4733646512031555, 0.4733646512031555, 0.471404492855072, 0.8488746881484985, 0.8488746881484985, 0.8488746881484985, 0.835504412651062, 0.8333333134651184, 0.8333333134651184, 0.8333333134651184, 0.8333333134651184, 0.8333333134651184, 0.8333333134651184, 0.8333332538604736, 0.8333332538604736, 0.8303364515304565, 0.8249577879905701, 0.8040302991867065, 0.7808687686920166, 0.771135687828064, 0.766032338142395, 0.7647190690040588, 0.7570332884788513, 0.7570332884788513, 0.7570332884788513, 0.7453559637069702, 0.7453559041023254, 0.7440698146820068, 0.7431604862213135, 0.7385489344596863, 0.7378647923469543, 0.7378647923469543, 0.7378647327423096, 0.7378647327423096, 0.7378647327423096, 0.7362101078033447, 0.7315635085105896, 0.7288109064102173, 0.7276068925857544, 0.726483166217804, 0.7190924882888794, 0.7190924882888794, 0.7184211611747742, 0.7171087265014648, 0.7216877937316895, 0.7092081308364868, 0.6770032048225403, 0.6527911424636841, 0.6481812000274658, 0.6454972624778748, 0.6435959339141846, 0.6405125856399536, 0.6390096545219421, 0.6375982165336609, 0.62275230884552, 0.621059000492096, 0.621059000492096, 0.6134346723556519, 0.6123724579811096, 0.6123723983764648, 0.6123723983764648, 0.6123723983764648, 0.6092718243598938, 0.601929247379303, 0.601929247379303, 0.5958795547485352, 0.589255690574646, 0.5863954424858093, 0.5833333134651184, 0.5809474587440491, 0.5809474587440491, 0.5809474587440491, 0.5797508955001831, 0.5778967142105103, 0.5773502588272095, 0.5773501992225647, 0.5669466853141785, 0.566138505935669, 0.5619514584541321, 0.5601120591163635, 0.5601120591163635, 0.5601120591163635, 0.555555522441864, 0.5539116859436035, 0.547722578048706, 0.8488746881484985, 0.8488746881484985, 0.8488746881484985, 0.835504412651062, 0.8333333134651184, 0.8333333134651184, 0.8333333134651184, 0.8333333134651184, 0.8333333134651184, 0.8333333134651184, 0.8333332538604736, 0.8333332538604736, 0.8303364515304565, 0.8249577879905701, 0.8040302991867065, 0.7808687686920166, 0.771135687828064, 0.766032338142395, 0.7647190690040588, 0.7570332884788513, 0.7570332884788513, 0.7570332884788513, 0.7453559637069702, 0.7453559041023254, 0.7440698146820068, 0.7431604862213135, 0.7385489344596863, 0.7378647923469543, 0.7378647923469543, 0.7378647327423096, 0.7378647327423096, 0.7378647327423096, 0.7362101078033447, 0.7315635085105896, 0.7288109064102173, 0.7276068925857544, 0.726483166217804, 0.7190924882888794, 0.7190924882888794, 0.7184211611747742, 0.7171087265014648, 0.836632490158081, 0.757042407989502, 0.699611485004425, 0.673563539981842, 0.6593307256698608, 0.6507270336151123, 0.6465269327163696, 0.6465269327163696, 0.6465269327163696, 0.6465269327163696, 0.6450098752975464, 0.6409778594970703, 0.6329817175865173, 0.6221113204956055, 0.6181224584579468, 0.616767168045044, 0.6144778728485107, 0.609209418296814, 0.6070536375045776, 0.6069631576538086, 0.604125440120697, 0.6036725044250488, 0.6031628847122192, 0.6021971702575684, 0.6020092368125916, 0.599666953086853, 0.5996668934822083, 0.5994906425476074, 0.5994906425476074, 0.5952290296554565, 0.594788670539856, 0.5888107419013977, 0.5865241289138794, 0.5864024758338928, 0.585707426071167, 0.5857073664665222, 0.5835803151130676, 0.5830095410346985, 0.5827715396881104, 0.5827714800834656, 0.5793535113334656, 0.9782608151435852, 0.9680037498474121, 0.9680037498474121, 0.9609866142272949, 0.9583727717399597, 0.956929087638855, 0.956929087638855, 0.9567298293113708, 0.9567298293113708, 0.953407347202301, 0.9530152082443237, 0.9517337679862976, 0.9515873789787292, 0.9508561491966248, 0.9497161507606506, 0.9497161507606506, 0.9486438632011414, 0.9486438035964966, 0.9486438035964966, 0.948038637638092, 0.9473729133605957, 0.9455454349517822, 0.9455453753471375, 0.9443844556808472, 0.9430418610572815, 0.9430418610572815, 0.9421554207801819, 0.9418280124664307, 0.9409439563751221, 0.9405699968338013, 0.9405699968338013, 0.9405699968338013, 0.9405400156974792, 0.9383147954940796, 0.9383147954940796, 0.9376363158226013, 0.9362573027610779, 0.9355852603912354, 0.9347825646400452, 0.9337990283966064, 0.9337990283966064, 0.9276336431503296, 0.9261981248855591, 0.9180846214294434, 0.9180846214294434, 0.9140905737876892, 0.9109357595443726, 0.9102991819381714, 0.9095085859298706, 0.9095085859298706, 0.9081083536148071, 0.9081082940101624, 0.9080252051353455, 0.9046624302864075, 0.9007546901702881, 0.9007546901702881, 0.900283932685852, 0.8978642821311951, 0.8973817825317383, 0.8973645567893982, 0.895607590675354, 0.8952859044075012, 0.8951715230941772, 0.8932595252990723, 0.8926785588264465, 0.8926784992218018, 0.8917926549911499, 0.8911328911781311, 0.8911328911781311, 0.8911327719688416, 0.8892973065376282, 0.8892971873283386, 0.8885402679443359, 0.8877780437469482, 0.8875744938850403, 0.8868440389633179, 0.8860759139060974, 0.8860759139060974, 0.8860759139060974, 0.8858783841133118, 0.8856148719787598, 0.8856148719787598, 0.9284765720367432, 0.9143006801605225, 0.9005004167556763, 0.8965516090393066, 0.8946300745010376, 0.893852710723877, 0.8913376331329346, 0.8858184814453125, 0.8844476938247681, 0.8823398351669312, 0.8820528984069824, 0.8820527791976929, 0.8817845582962036, 0.8791322112083435, 0.8778665065765381, 0.8778665065765381, 0.8773280382156372, 0.8773280382156372, 0.875420868396759, 0.8753762245178223, 0.8727860450744629, 0.872583270072937, 0.8719774484634399, 0.8718128204345703, 0.8703169822692871, 0.8703169822692871, 0.8703169822692871, 0.8703169822692871, 0.8700221180915833, 0.8685104250907898, 0.8671486377716064, 0.8671485781669617, 0.8671485185623169, 0.8656302690505981, 0.8630340099334717, 0.8630340099334717, 0.8630338907241821, 0.8620791435241699, 0.8620690107345581, 0.8620690107345581, 0.8620690107345581, 0.9782608151435852, 0.9680037498474121, 0.9680037498474121, 0.9609866142272949, 0.9583727717399597, 0.956929087638855, 0.956929087638855, 0.9567298293113708, 0.9567298293113708, 0.953407347202301, 0.9530152082443237, 0.9517337679862976, 0.9515873789787292, 0.9508561491966248, 0.9497161507606506, 0.9497161507606506, 0.9486438632011414, 0.9486438035964966, 0.9486438035964966, 0.948038637638092, 0.9473729133605957, 0.9455454349517822, 0.9455453753471375, 0.9443844556808472, 0.9430418610572815, 0.9430418610572815, 0.9421554207801819, 0.9418280124664307, 0.9409439563751221, 0.9405699968338013, 0.9405699968338013, 0.9405699968338013, 0.9405400156974792, 0.9383147954940796, 0.9383147954940796, 0.9376363158226013, 0.9362573027610779, 0.9355852603912354, 0.9347825646400452, 0.9337990283966064, 0.9337990283966064, 0.8346223831176758, 0.8346223831176758, 0.8346222639083862, 0.8132203221321106, 0.8111070394515991, 0.8029550313949585, 0.8029550313949585, 0.8010019659996033, 0.7980239391326904, 0.7980239391326904, 0.780398964881897, 0.7800135016441345, 0.770053505897522, 0.7648661732673645, 0.7648661732673645, 0.7648661136627197, 0.7635416984558105, 0.7635416984558105, 0.7635416984558105, 0.7570332288742065, 0.7539370656013489, 0.7539370059967041, 0.7530940175056458, 0.7456010580062866, 0.744161069393158, 0.7417380809783936, 0.7368420958518982, 0.7367883324623108, 0.7357671856880188, 0.7357671856880188, 0.7346970438957214, 0.7341303825378418, 0.7341303825378418, 0.7299964427947998, 0.7299964427947998, 0.7299964427947998, 0.728492796421051, 0.7283956408500671, 0.7276068329811096, 0.726483166217804, 0.7254762649536133, 0.9622504711151123, 0.9515374302864075, 0.950262188911438, 0.945967435836792, 0.944444477558136, 0.943564236164093, 0.9372008442878723, 0.9363820552825928, 0.9332565069198608, 0.9239131808280945, 0.9229581356048584, 0.9205665588378906, 0.9152086973190308, 0.9141380786895752, 0.9128710031509399, 0.9097992181777954, 0.9097176790237427, 0.9097176790237427, 0.9080070853233337, 0.908007025718689, 0.9073927998542786, 0.9072648286819458, 0.907218337059021, 0.9036961793899536, 0.9035253524780273, 0.9026709794998169, 0.9019752740859985, 0.9019752144813538, 0.9014410972595215, 0.8986914753913879, 0.8986914157867432, 0.8986914157867432, 0.8981462717056274, 0.8981462717056274, 0.8981462717056274, 0.8936836123466492, 0.8934270739555359, 0.8925848603248596, 0.8923542499542236, 0.8911328315734863, 0.8911328315734863, 0.8346223831176758, 0.8346223831176758, 0.8346222639083862, 0.8132203221321106, 0.8111070394515991, 0.8029550313949585, 0.8029550313949585, 0.8010019659996033, 0.7980239391326904, 0.7980239391326904, 0.780398964881897, 0.7800135016441345, 0.770053505897522, 0.7648661732673645, 0.7648661732673645, 0.7648661136627197, 0.7635416984558105, 0.7635416984558105, 0.7635416984558105, 0.7570332288742065, 0.7539370656013489, 0.7539370059967041, 0.7530940175056458, 0.7456010580062866, 0.744161069393158, 0.7417380809783936, 0.7368420958518982, 0.7367883324623108, 0.7357671856880188, 0.7357671856880188, 0.7346970438957214, 0.7341303825378418, 0.7341303825378418, 0.7299964427947998, 0.7299964427947998, 0.7299964427947998, 0.728492796421051, 0.7283956408500671, 0.7276068329811096, 0.726483166217804, 0.7254762649536133, 0.9435368180274963, 0.9428713917732239, 0.9412417411804199, 0.9324213266372681, 0.9302326440811157, 0.9302326440811157, 0.9279707670211792, 0.9273618459701538, 0.9273618459701538, 0.9244734644889832, 0.9206923246383667, 0.917710542678833, 0.9162613749504089, 0.9153650999069214, 0.9149914979934692, 0.9149914383888245, 0.912018358707428, 0.9093530774116516, 0.9050183892250061, 0.9010819792747498, 0.9010819792747498, 0.9010819792747498, 0.8993874788284302, 0.8972229361534119, 0.8966530561447144, 0.8966529965400696, 0.8934130668640137, 0.8921492099761963, 0.8921491503715515, 0.8921319842338562, 0.890953779220581, 0.8905872106552124, 0.8903481960296631, 0.8896204233169556, 0.8896204233169556, 0.889211893081665, 0.8892118334770203, 0.8892118334770203, 0.8876720070838928, 0.8852571845054626, 0.8842288255691528, 0.9843091368675232, 0.9836212396621704, 0.9777750968933105, 0.9751577377319336, 0.9751577377319336, 0.9751577377319336, 0.9751577377319336, 0.9751577377319336, 0.972415030002594, 0.9722036123275757, 0.9719409942626953, 0.9705231189727783, 0.9692704677581787, 0.9683641195297241, 0.9683641195297241, 0.9683641195297241, 0.9663776159286499, 0.9650869369506836, 0.9640127420425415, 0.9619721174240112, 0.9608385562896729, 0.9569486975669861, 0.9562594890594482, 0.9553254246711731, 0.9553254246711731, 0.9553254246711731, 0.955297589302063, 0.955297589302063, 0.9541301131248474, 0.9541300535202026, 0.9532413482666016, 0.9532413482666016, 0.9532334208488464, 0.9528306722640991, 0.9528305530548096, 0.9525640606880188, 0.952564001083374, 0.952564001083374, 0.9523038864135742, 0.9513515830039978, 0.950914740562439, 0.9513311386108398, 0.9501320123672485, 0.9501192569732666, 0.9417286515235901, 0.9412097334861755, 0.9377430081367493, 0.9377430081367493, 0.9374334216117859, 0.9373601675033569, 0.9349288940429688, 0.934928834438324, 0.934928834438324, 0.9349287748336792, 0.9345024824142456, 0.9345024228096008, 0.9331203103065491, 0.9331203103065491, 0.9331203103065491, 0.9331203103065491, 0.9331203103065491, 0.9320410490036011, 0.9315560460090637, 0.9311728477478027, 0.9301145672798157, 0.9299209117889404, 0.9297347664833069, 0.9297347068786621, 0.9292548894882202, 0.9263104200363159, 0.9251285791397095, 0.9242495894432068, 0.9242495894432068, 0.924249529838562, 0.9236085414886475, 0.9229729771614075, 0.9224556684494019, 0.9224556088447571, 0.9212563037872314, 0.9207664728164673, 0.9207664132118225, 0.920751690864563, 0.9316949248313904, 0.9190183877944946, 0.9170702695846558, 0.9036961793899536, 0.9036961197853088, 0.8948929309844971, 0.8948929309844971, 0.8944271802902222, 0.8944271206855774, 0.8944271206855774, 0.8901636004447937, 0.8857993483543396, 0.8783100843429565, 0.8677217960357666, 0.8666665554046631, 0.8588974475860596, 0.8539918661117554, 0.8500001430511475, 0.8485281467437744, 0.8485281467437744, 0.8480265140533447, 0.845402717590332, 0.8451544046401978, 0.8451544046401978, 0.8451541066169739, 0.8432739973068237, 0.8432739973068237, 0.843273937702179, 0.843273937702179, 0.8391463756561279, 0.8385255336761475, 0.8385255336761475, 0.8380036354064941, 0.8342977166175842, 0.8342976570129395, 0.8329509496688843, 0.8305395841598511, 0.8304547667503357, 0.8302051424980164, 0.8295150995254517, 0.8280786871910095, 0.9072647094726562, 0.8959786295890808, 0.8816820383071899, 0.8814089298248291, 0.880450963973999, 0.8798826932907104, 0.8703882694244385, 0.8675276041030884, 0.8675276041030884, 0.8675276041030884, 0.8672274351119995, 0.866025447845459, 0.866025447845459, 0.8660253286361694, 0.8576900959014893, 0.8576900959014893, 0.8533201813697815, 0.8528029322624207, 0.8492077589035034, 0.8492077589035034, 0.8492077589035034, 0.8492076992988586, 0.8486684560775757, 0.8486684560775757, 0.8486683368682861, 0.8486683368682861, 0.8463272452354431, 0.8432740569114685, 0.8432740569114685, 0.843273937702179, 0.8432209491729736, 0.8429272174835205, 0.8416253924369812, 0.8416253924369812, 0.8406727313995361, 0.8401679992675781, 0.8391463756561279, 0.8364283442497253, 0.8364283442497253, 0.8364283442497253, 0.8333333730697632, 0.9316949248313904, 0.9190183877944946, 0.9170702695846558, 0.9036961793899536, 0.9036961197853088, 0.8948929309844971, 0.8948929309844971, 0.8944271802902222, 0.8944271206855774, 0.8944271206855774, 0.8901636004447937, 0.8857993483543396, 0.8783100843429565, 0.8677217960357666, 0.8666665554046631, 0.8588974475860596, 0.8539918661117554, 0.8500001430511475, 0.8485281467437744, 0.8485281467437744, 0.8480265140533447, 0.845402717590332, 0.8451544046401978, 0.8451544046401978, 0.8451541066169739, 0.8432739973068237, 0.8432739973068237, 0.843273937702179, 0.843273937702179, 0.8391463756561279, 0.8385255336761475, 0.8385255336761475, 0.8380036354064941, 0.8342977166175842, 0.8342976570129395, 0.8329509496688843, 0.8305395841598511, 0.8304547667503357, 0.8302051424980164, 0.8295150995254517, 0.8280786871910095, 0.9805806875228882, 0.9621024131774902, 0.9476965665817261, 0.9466737508773804, 0.9389157891273499, 0.9351438879966736, 0.9348928332328796, 0.9341285228729248, 0.930949330329895, 0.9302605390548706, 0.928015410900116, 0.9247722625732422, 0.9245002865791321, 0.9229719638824463, 0.9226039052009583, 0.9217865467071533, 0.9201151132583618, 0.9198662042617798, 0.9193195104598999, 0.9193193912506104, 0.9173287153244019, 0.9172639846801758, 0.9171444773674011, 0.9150180816650391, 0.9139701128005981, 0.9107077121734619, 0.9107077121734619, 0.9107077121734619, 0.9107077121734619, 0.9104369878768921, 0.9104369878768921, 0.9095880389213562, 0.9095878601074219, 0.9095878601074219, 0.9078413248062134, 0.9078413248062134, 0.9078413248062134, 0.9078412652015686, 0.9078412652015686, 0.9073928594589233, 0.907078742980957, 0.7706745862960815, 0.7537346482276917, 0.7537346482276917, 0.7442084550857544, 0.7089175581932068, 0.7089175581932068, 0.7080881595611572, 0.6928203105926514, 0.6928203105926514, 0.6928203105926514, 0.6831300258636475, 0.6708203554153442, 0.6694387197494507, 0.6666667461395264, 0.6666666865348816, 0.6605782508850098, 0.6605782508850098, 0.6546537280082703, 0.6546537280082703, 0.6531972885131836, 0.6531972289085388, 0.6531972289085388, 0.6531972289085388, 0.6531972289085388, 0.649234414100647, 0.6459752321243286, 0.6454972624778748, 0.64549720287323, 0.6390097141265869, 0.6374552845954895, 0.6350853443145752, 0.632455587387085, 0.632455587387085, 0.632455587387085, 0.632455587387085, 0.632455587387085, 0.632455587387085, 0.632455587387085, 0.6282808780670166, 0.6262242794036865, 0.6262242794036865, 0.9296696186065674, 0.8999999761581421, 0.8215838670730591, 0.8215838670730591, 0.8215838670730591, 0.8198916912078857, 0.809039831161499, 0.809039831161499, 0.809039831161499, 0.809039831161499, 0.8017836809158325, 0.8013876676559448, 0.800000011920929, 0.7951465845108032, 0.7951465845108032, 0.7937253713607788, 0.7928249835968018, 0.7926291227340698, 0.7905694246292114, 0.7905693054199219, 0.7893521785736084, 0.7889319658279419, 0.7826237678527832, 0.7726674675941467, 0.7694838047027588, 0.7694836854934692, 0.7669650316238403, 0.7669649720191956, 0.7613869905471802, 0.7606388330459595, 0.7606388330459595, 0.7606388330459595, 0.7590721249580383, 0.7589466571807861, 0.7589465975761414, 0.7505552768707275, 0.7453559637069702, 0.7453559637069702, 0.7453559637069702, 0.7452412843704224, 0.7452412843704224, 0.7706745862960815, 0.7537346482276917, 0.7537346482276917, 0.7442084550857544, 0.7089175581932068, 0.7089175581932068, 0.7080881595611572, 0.6928203105926514, 0.6928203105926514, 0.6928203105926514, 0.6831300258636475, 0.6708203554153442, 0.6694387197494507, 0.6666667461395264, 0.6666666865348816, 0.6605782508850098, 0.6605782508850098, 0.6546537280082703, 0.6546537280082703, 0.6531972885131836, 0.6531972289085388, 0.6531972289085388, 0.6531972289085388, 0.6531972289085388, 0.649234414100647, 0.6459752321243286, 0.6454972624778748, 0.64549720287323, 0.6390097141265869, 0.6374552845954895, 0.6350853443145752, 0.632455587387085, 0.632455587387085, 0.632455587387085, 0.632455587387085, 0.632455587387085, 0.632455587387085, 0.632455587387085, 0.6282808780670166, 0.6262242794036865, 0.6262242794036865, 0.9583351612091064, 0.9569425582885742, 0.9451889991760254, 0.9442673325538635, 0.9260923862457275, 0.9260923862457275, 0.9150794744491577, 0.9150794744491577, 0.9150793552398682, 0.9101820588111877, 0.910181999206543, 0.9081082344055176, 0.9081082344055176, 0.9074852466583252, 0.9074852466583252, 0.9049228429794312, 0.9049228429794312, 0.9037378430366516, 0.9037378430366516, 0.9037378430366516, 0.9037377834320068, 0.9024852514266968, 0.9019122123718262, 0.9019121527671814, 0.9019120931625366, 0.9008466005325317, 0.9003676176071167, 0.9003676176071167, 0.9003676176071167, 0.9003676176071167, 0.9003675580024719, 0.8997353911399841, 0.8995005488395691, 0.8932459950447083, 0.8932459354400635, 0.8930885195732117, 0.8917016983032227, 0.8911328315734863, 0.8910122513771057, 0.8902637958526611, 0.8902637958526611, 0.9866902828216553, 0.975784420967102, 0.9674797654151917, 0.9674797654151917, 0.9674797654151917, 0.9655351638793945, 0.9633640050888062, 0.9633640050888062, 0.9621404409408569, 0.9607347846031189, 0.9604803919792175, 0.9593835473060608, 0.9585145115852356, 0.9561829566955566, 0.9561829566955566, 0.9558173418045044, 0.9558172821998596, 0.9556189775466919, 0.9550230503082275, 0.9550230503082275, 0.954993724822998, 0.9545941352844238, 0.9545941352844238, 0.953462541103363, 0.953462541103363, 0.9520360231399536, 0.9520360231399536, 0.9515025615692139, 0.9503288269042969, 0.9490707516670227, 0.9486833810806274, 0.9471880197525024, 0.9468951225280762, 0.9465078711509705, 0.9455945491790771, 0.9455945491790771, 0.9438798427581787, 0.9438797831535339, 0.9438797831535339, 0.9432422518730164, 0.9428277611732483, 0.9532061815261841, 0.9374860525131226, 0.9370892643928528, 0.9353047609329224, 0.9353047609329224, 0.9353047609329224, 0.9332565069198608, 0.9332565069198608, 0.9322020411491394, 0.9313342571258545, 0.9313342571258545, 0.9284088611602783, 0.9279607534408569, 0.9274777173995972, 0.9268475770950317, 0.926847517490387, 0.9268472790718079, 0.9262908697128296, 0.9262435436248779, 0.9247311353683472, 0.9242740869522095, 0.9242740273475647, 0.92406165599823, 0.9236371517181396, 0.9215506315231323, 0.9213557243347168, 0.9210566282272339, 0.9207508563995361, 0.9206015467643738, 0.9206015467643738, 0.920558512210846, 0.9202830791473389, 0.9190074801445007, 0.9190074801445007, 0.9190074801445007, 0.9165445566177368, 0.9165445566177368, 0.9165444374084473, 0.9164396524429321, 0.9133691787719727, 0.9133690595626831, 0.9594032764434814, 0.9574270248413086, 0.9534626007080078, 0.942082405090332, 0.942082405090332, 0.942082405090332, 0.9285403490066528, 0.9284141659736633, 0.9199353456497192, 0.9198660850524902, 0.9173648953437805, 0.9116845726966858, 0.9111469984054565, 0.910578727722168, 0.9103584289550781, 0.9090908169746399, 0.9074425101280212, 0.904534101486206, 0.904534101486206, 0.904534101486206, 0.904534101486206, 0.904534101486206, 0.904534101486206, 0.904534101486206, 0.8983221650123596, 0.8935250639915466, 0.8869684934616089, 0.8780540227890015, 0.8764597177505493, 0.8761903643608093, 0.8746731877326965, 0.8746731877326965, 0.8727860450744629, 0.8709883689880371, 0.8709883093833923, 0.8703882098197937, 0.8678333163261414, 0.8664001822471619, 0.8664001822471619, 0.8656574487686157, 0.8624395132064819, 0.9798048138618469, 0.9798048138618469, 0.9798048138618469, 0.9770543575286865, 0.9756366014480591, 0.9756366014480591, 0.9743975400924683, 0.9729740023612976, 0.9727162718772888, 0.9716055393218994, 0.9683640003204346, 0.9683640003204346, 0.967993974685669, 0.967993974685669, 0.9677928686141968, 0.9671894311904907, 0.9671893119812012, 0.9671893119812012, 0.9671597480773926, 0.9656091332435608, 0.9656091332435608, 0.9641643166542053, 0.9641643166542053, 0.9624354243278503, 0.9611613750457764, 0.96076899766922, 0.9592544436454773, 0.9586621522903442, 0.9559042453765869, 0.9559042453765869, 0.9552585482597351, 0.9548386931419373, 0.9548198580741882, 0.953349769115448, 0.9533497095108032, 0.9528706073760986, 0.9517623782157898, 0.9515216946601868, 0.9512699842453003, 0.950933039188385, 0.9488521814346313, 0.9341987371444702, 0.9271726608276367, 0.9166666269302368, 0.9141378402709961, 0.9128709435462952, 0.9112957119941711, 0.9036960601806641, 0.9036960601806641, 0.9036960601806641, 0.9036960601806641, 0.8940593004226685, 0.8911328315734863, 0.8908708095550537, 0.8908708095550537, 0.8897565007209778, 0.888888955116272, 0.888888955116272, 0.8872442841529846, 0.8872442245483398, 0.8872442245483398, 0.884537935256958, 0.8819170594215393, 0.8819169998168945, 0.8816820383071899, 0.8807048201560974, 0.8804508447647095, 0.8783100843429565, 0.8728715777397156, 0.8672274351119995, 0.8672274351119995, 0.8660255074501038, 0.866025447845459, 0.866025447845459, 0.8660253286361694, 0.8660253286361694, 0.8660253286361694, 0.864392876625061, 0.861640453338623, 0.8576900959014893, 0.8565861582756042, 0.8564858436584473, 0.9333333373069763, 0.930949330329895, 0.930949330329895, 0.9214785695075989, 0.9128709435462952, 0.9109803438186646, 0.9109802842140198, 0.9098432064056396, 0.9056240916252136, 0.9056240916252136, 0.9036961197853088, 0.9014979600906372, 0.8989331722259521, 0.8981462717056274, 0.8981462121009827, 0.8944272398948669, 0.8944271802902222, 0.8944271206855774, 0.8898984789848328, 0.8807710409164429, 0.8788290023803711, 0.8765009641647339, 0.8755950331687927, 0.8741913437843323, 0.8739803433418274, 0.8728715181350708, 0.8682430982589722, 0.8666667342185974, 0.8666666746139526, 0.866249144077301, 0.8660255074501038, 0.8660253286361694, 0.8608284592628479, 0.8606629967689514, 0.8606629371643066, 0.8593379259109497, 0.8581165075302124, 0.8563488721847534, 0.8563488125801086, 0.8533104062080383, 0.8520128726959229, 0.9341987371444702, 0.9271726608276367, 0.9166666269302368, 0.9141378402709961, 0.9128709435462952, 0.9112957119941711, 0.9036960601806641, 0.9036960601806641, 0.9036960601806641, 0.9036960601806641, 0.8940593004226685, 0.8911328315734863, 0.8908708095550537, 0.8908708095550537, 0.8897565007209778, 0.888888955116272, 0.888888955116272, 0.8872442841529846, 0.8872442245483398, 0.8872442245483398, 0.884537935256958, 0.8819170594215393, 0.8819169998168945, 0.8816820383071899, 0.8807048201560974, 0.8804508447647095, 0.8783100843429565, 0.8728715777397156, 0.8672274351119995, 0.8672274351119995, 0.8660255074501038, 0.866025447845459, 0.866025447845459, 0.8660253286361694, 0.8660253286361694, 0.8660253286361694, 0.864392876625061, 0.861640453338623, 0.8576900959014893, 0.8565861582756042, 0.8564858436584473, 0.9169092178344727, 0.9101914167404175, 0.8982742428779602, 0.8965518474578857, 0.8863184452056885, 0.8858184814453125, 0.8853155970573425, 0.8853155970573425, 0.8763704299926758, 0.8740284442901611, 0.8735889196395874, 0.870022177696228, 0.8623165488243103, 0.8620792627334595, 0.8596023321151733, 0.8596023321151733, 0.8596023321151733, 0.8534918427467346, 0.8534918427467346, 0.8534917831420898, 0.8534047603607178, 0.8518433570861816, 0.8495482206344604, 0.8495482206344604, 0.8478026390075684, 0.8457281589508057, 0.843695878982544, 0.843695878982544, 0.843695878982544, 0.843695878982544, 0.8436958193778992, 0.8434653878211975, 0.8434653282165527, 0.8434653282165527, 0.843465268611908, 0.8410214781761169, 0.8403611183166504, 0.8403611183166504, 0.8398387432098389, 0.8396798372268677, 0.8376106023788452, 0.9898029565811157, 0.9894988536834717, 0.9829463958740234, 0.9784426689147949, 0.9784426689147949, 0.9647573828697205, 0.9635884165763855, 0.9630868434906006, 0.9630868434906006, 0.9630868434906006, 0.9630868434906006, 0.9630868434906006, 0.9630868434906006, 0.9630868434906006, 0.9630868434906006, 0.9630868434906006, 0.9630868434906006, 0.9630868434906006, 0.9630868434906006, 0.9630868434906006, 0.9630868434906006, 0.9630868434906006, 0.9630868434906006, 0.9630868434906006, 0.9630868434906006, 0.9630868434906006, 0.9630868434906006, 0.9630868434906006, 0.9630868434906006, 0.9630868434906006, 0.9630868434906006, 0.9603469371795654, 0.9603468775749207, 0.9603468775749207, 0.9583727717399597, 0.9556496739387512, 0.9556496739387512, 0.9556496739387512, 0.9543273448944092, 0.9513653516769409, 0.9500913023948669, 0.928506076335907, 0.8606629967689514, 0.8606629967689514, 0.8013433814048767, 0.7918388843536377, 0.7772119641304016, 0.7693164944648743, 0.7592567205429077, 0.7592564821243286, 0.7590721249580383, 0.7569125890731812, 0.7531184554100037, 0.7531184554100037, 0.7508517503738403, 0.75, 0.7440382242202759, 0.7429777979850769, 0.7423522472381592, 0.7416198253631592, 0.7416198253631592, 0.7416198253631592, 0.7416198253631592, 0.7378648519515991, 0.7378647923469543, 0.7378647923469543, 0.7267220616340637, 0.726722002029419, 0.721687912940979, 0.7199608087539673, 0.7183811664581299, 0.7171370983123779, 0.7144345641136169, 0.7080880999565125, 0.7079098224639893, 0.705024003982544, 0.705024003982544, 0.705024003982544, 0.7050238847732544, 0.7034175992012024, 0.7028168439865112, 0.7016464471817017, 1.0, 1.0, 0.9767818450927734, 0.9675326347351074, 0.963546097278595, 0.9621403813362122, 0.9609690308570862, 0.9603919982910156, 0.9596789479255676, 0.9594032764434814, 0.9534624814987183, 0.9534624814987183, 0.9532307386398315, 0.9493857622146606, 0.9489284753799438, 0.9489284753799438, 0.9489284753799438, 0.9489284753799438, 0.9489284753799438, 0.9486833810806274, 0.9463773965835571, 0.9436284899711609, 0.9430055022239685, 0.9429904222488403, 0.9429903030395508, 0.9429903030395508, 0.9408842921257019, 0.9400193691253662, 0.939148485660553, 0.9389861822128296, 0.9389861822128296, 0.9389861822128296, 0.9389711022377014, 0.9389711022377014, 0.9354953169822693, 0.9354953169822693, 0.9354143142700195, 0.9339475035667419, 0.9339475035667419, 0.9339475035667419, 0.9336221218109131, 0.9999999403953552, 0.9765536189079285, 0.9750854969024658, 0.9749135375022888, 0.9749135375022888, 0.9749135375022888, 0.9723448157310486, 0.9723448157310486, 0.9716054201126099, 0.9707252979278564, 0.9673307538032532, 0.9673307538032532, 0.9609690308570862, 0.9609690308570862, 0.9609279036521912, 0.9607689380645752, 0.9607689380645752, 0.9607689380645752, 0.9578133225440979, 0.9575175642967224, 0.9553170204162598, 0.9542195796966553, 0.9534239768981934, 0.9529258012771606, 0.9518745541572571, 0.9516486525535583, 0.9516486525535583, 0.9516485929489136, 0.9516485929489136, 0.9516485929489136, 0.9516485929489136, 0.9516485929489136, 0.9516485929489136, 0.9510344862937927, 0.9510344862937927, 0.950933039188385, 0.950933039188385, 0.9487437605857849, 0.9478946924209595, 0.9476128220558167, 0.9464575052261353, 1.0, 1.0, 1.0, 1.0, 1.0, 1.0, 1.0, 1.0, 1.0, 1.0, 0.9701424241065979, 0.9701423645019531, 0.9354143738746643, 0.9354143738746643, 0.9354143738746643, 0.9354143142700195, 0.9176629781723022, 0.8944272398948669, 0.875, 0.875, 0.866025447845459, 0.866025447845459, 0.866025447845459, 0.866025447845459, 0.8504201173782349, 0.8498365879058838, 0.8333332538604736, 0.8320503234863281, 0.8320503234863281, 0.8320503234863281, 0.8249579668045044, 0.8249578475952148, 0.8164966106414795, 0.8164966106414795, 0.8126046061515808, 0.8111474514007568, 0.8111070990562439, 0.8082239031791687, 0.8082238435745239, 0.8017838597297668, 0.8017838001251221, 1.0, 1.0, 0.9767818450927734, 0.9675326347351074, 0.963546097278595, 0.9621403813362122, 0.9609690308570862, 0.9603919982910156, 0.9596789479255676, 0.9594032764434814, 0.9534624814987183, 0.9534624814987183, 0.9532307386398315, 0.9493857622146606, 0.9489284753799438, 0.9489284753799438, 0.9489284753799438, 0.9489284753799438, 0.9489284753799438, 0.9486833810806274, 0.9463773965835571, 0.9436284899711609, 0.9430055022239685, 0.9429904222488403, 0.9429903030395508, 0.9429903030395508, 0.9408842921257019, 0.9400193691253662, 0.939148485660553, 0.9389861822128296, 0.9389861822128296, 0.9389861822128296, 0.9389711022377014, 0.9389711022377014, 0.9354953169822693, 0.9354953169822693, 0.9354143142700195, 0.9339475035667419, 0.9339475035667419, 0.9339475035667419, 0.9336221218109131, 1.0, 0.9908673167228699, 0.9730124473571777, 0.927105188369751, 0.927105188369751, 0.9233805537223816, 0.9233805537223816, 0.9233805537223816, 0.9233805537223816, 0.9223310351371765, 0.9185587167739868, 0.9150798320770264, 0.9091923236846924, 0.9086883664131165, 0.9086882472038269, 0.9068453311920166, 0.9068453311920166, 0.9068453311920166, 0.9068452715873718, 0.9067235589027405, 0.9057895541191101, 0.9057895541191101, 0.9057257175445557, 0.9057255983352661, 0.9036961197853088, 0.9036961197853088, 0.9036425352096558, 0.9035078883171082, 0.9027075171470642, 0.9004503488540649, 0.9000000357627869, 0.8992518186569214, 0.8977311253547668, 0.8977310657501221, 0.8959786891937256, 0.8959786891937256, 0.8959786891937256, 0.8948382139205933, 0.8944272994995117, 0.8944272398948669, 0.8901636004447937, 1.0000001192092896, 0.9908673763275146, 0.9720615148544312, 0.9318912625312805, 0.9318912625312805, 0.931891143321991, 0.931891143321991, 0.9284141063690186, 0.9239884614944458, 0.9214065670967102, 0.9185315370559692, 0.9185314774513245, 0.9185314774513245, 0.9132660627365112, 0.9132660627365112, 0.9121594429016113, 0.9121593832969666, 0.908295214176178, 0.907442569732666, 0.903652012348175, 0.9014203548431396, 0.8994011878967285, 0.8994011878967285, 0.8994011878967285, 0.8994011878967285, 0.8983222246170044, 0.8971500396728516, 0.895622193813324, 0.8927095532417297, 0.8924134969711304, 0.8924133777618408, 0.8922686576843262, 0.8922686576843262, 0.8922268748283386, 0.8919916152954102, 0.891455352306366, 0.889898419380188, 0.8897131681442261, 0.8883363604545593, 0.8883363604545593, 0.8883362412452698, 0.9999999403953552, 0.9999999403953552, 0.9999999403953552, 0.9999999403953552, 0.9999999403953552, 0.9999999403953552, 0.9999999403953552, 0.9999999403953552, 0.9999999403953552, 0.9999999403953552, 0.9999999403953552, 0.9999999403953552, 0.9999999403953552, 0.9999999403953552, 0.9999999403953552, 0.9999999403953552, 0.9999999403953552, 0.9999999403953552, 0.9999999403953552, 0.9999999403953552, 0.9999999403953552, 0.9999999403953552, 0.9999999403953552, 0.9819805026054382, 0.9701424837112427, 0.9701424837112427, 0.9594032764434814, 0.9444443583488464, 0.9354143738746643, 0.9354143738746643, 0.9176629185676575, 0.9036961197853088, 0.8872443437576294, 0.884537935256958, 0.883883535861969, 0.8816820383071899, 0.8757291436195374, 0.8750000596046448, 0.8750000596046448, 0.8750000596046448, 0.875, 0.9999999403953552, 0.9730124473571777, 0.9720615148544312, 0.9504968523979187, 0.9495629072189331, 0.9495629072189331, 0.9428291916847229, 0.9428291916847229, 0.9428291320800781, 0.9428291320800781, 0.9428291320800781, 0.9415245056152344, 0.9306779503822327, 0.9306631088256836, 0.9304841756820679, 0.9304841756820679, 0.9304841160774231, 0.9304841160774231, 0.9243422150611877, 0.9210565686225891, 0.9210565686225891, 0.9187794923782349, 0.9186933636665344, 0.9173650741577148, 0.9173650741577148, 0.9173649549484253, 0.9163297414779663, 0.9163297414779663, 0.9154754877090454, 0.9150522351264954, 0.9150521755218506, 0.9150521755218506, 0.9143939018249512, 0.9143939018249512, 0.9141045212745667, 0.9137173295021057, 0.9137173295021057, 0.9121594429016113, 0.9121593236923218, 0.9121593236923218, 0.9121593236923218, 0.9746794104576111, 0.9550230503082275, 0.9534626603126526, 0.9486833810806274, 0.9486833810806274, 0.9467291831970215, 0.9449111819267273, 0.934198796749115, 0.9316950440406799, 0.9316949844360352, 0.9316949844360352, 0.9316949844360352, 0.9316948652267456, 0.9315560460090637, 0.9296696782112122, 0.9237022995948792, 0.9237022995948792, 0.9237022399902344, 0.9237022399902344, 0.9237022399902344, 0.9216353297233582, 0.9209108948707581, 0.9203580021858215, 0.920357882976532, 0.920357882976532, 0.9190182685852051, 0.9190182685852051, 0.9170606136322021, 0.9141740798950195, 0.9135003089904785, 0.9135003089904785, 0.9135003089904785, 0.9135002493858337, 0.9135002493858337, 0.9132592678070068, 0.9128709435462952, 0.9128708243370056, 0.9101698398590088, 0.9101698398590088, 0.9101697206497192, 0.9091920852661133, 0.9574270248413086, 0.9486833810806274, 0.9449111819267273, 0.942808985710144, 0.941596269607544, 0.9298987984657288, 0.9244735836982727, 0.9238697290420532, 0.9223308563232422, 0.9185585379600525, 0.9185585379600525, 0.9141380190849304, 0.9141379594802856, 0.9141379594802856, 0.9138599634170532, 0.9131711721420288, 0.9128710031509399, 0.9128710031509399, 0.9128709435462952, 0.9128709435462952, 0.9128709435462952, 0.9128709435462952, 0.9128708839416504, 0.9112957119941711, 0.9103457927703857, 0.9097176194190979, 0.9097176194190979, 0.9082950949668884, 0.9082950949668884, 0.9072184562683105, 0.9060606956481934, 0.9058215618133545, 0.9058215618133545, 0.9058215618133545, 0.9056545495986938, 0.9036961197853088, 0.9036961197853088, 0.9036961197853088, 0.9035252928733826, 0.9035096168518066, 0.9027306437492371, 0.8682430982589722, 0.8362420201301575, 0.827837347984314, 0.827837347984314, 0.8006408214569092, 0.8006408214569092, 0.8006408214569092, 0.8006407022476196, 0.7893521785736084, 0.7893521785736084, 0.7893521785736084, 0.7844644784927368, 0.7692307829856873, 0.7692307829856873, 0.7692307829856873, 0.7627127766609192, 0.7627127170562744, 0.7614996433258057, 0.7526178359985352, 0.7518094778060913, 0.7518094182014465, 0.7472647428512573, 0.7433851361274719, 0.7412493824958801, 0.7412492632865906, 0.7412492632865906, 0.7412492632865906, 0.7399401068687439, 0.7399400472640991, 0.7396003007888794, 0.7354354858398438, 0.7354354858398438, 0.7354354858398438, 0.7282019853591919, 0.7275329232215881, 0.724206805229187, 0.7238423824310303, 0.7211102843284607, 0.7211102247238159, 0.7211101651191711, 0.7205767035484314, 0.9565216898918152, 0.9565216898918152, 0.9498989582061768, 0.9457324743270874, 0.9451747536659241, 0.9443699717521667, 0.9437401294708252, 0.9437401294708252, 0.9437401294708252, 0.9383845329284668, 0.9383148550987244, 0.9363821744918823, 0.9363821744918823, 0.9348927736282349, 0.9337990880012512, 0.9337989687919617, 0.9335636496543884, 0.9325048923492432, 0.9325048327445984, 0.9325048327445984, 0.9325047731399536, 0.9308956861495972, 0.9292836785316467, 0.929283618927002, 0.9274377822875977, 0.9267343878746033, 0.9255481362342834, 0.9255481362342834, 0.9231326580047607, 0.9229581952095032, 0.9223132133483887, 0.921512246131897, 0.921512246131897, 0.921512246131897, 0.920067310333252, 0.9194622039794922, 0.9191833734512329, 0.918714702129364, 0.9170674085617065, 0.9163795709609985, 0.915249228477478, 0.7893521785736084, 0.7682733535766602, 0.7627700567245483, 0.7627700567245483, 0.7378647923469543, 0.7378647923469543, 0.730296790599823, 0.7302967309951782, 0.7181848287582397, 0.7181848287582397, 0.7181848287582397, 0.71611487865448, 0.7046642303466797, 0.7046642303466797, 0.7046642303466797, 0.6999999284744263, 0.6885303258895874, 0.6761233806610107, 0.6751399636268616, 0.6708204746246338, 0.670820415019989, 0.6708203554153442, 0.6643638014793396, 0.6529286503791809, 0.6527534127235413, 0.6507914066314697, 0.6425754427909851, 0.640444815158844, 0.6368938684463501, 0.636881411075592, 0.636396050453186, 0.636396050453186, 0.6331738233566284, 0.632455587387085, 0.632455587387085, 0.632455587387085, 0.632455587387085, 0.632455587387085, 0.632455587387085, 0.632455587387085, 0.632455587387085, 0.7893521785736084, 0.7682733535766602, 0.7627700567245483, 0.7627700567245483, 0.7378647923469543, 0.7378647923469543, 0.730296790599823, 0.7302967309951782, 0.7181848287582397, 0.7181848287582397, 0.7181848287582397, 0.71611487865448, 0.7046642303466797, 0.7046642303466797, 0.7046642303466797, 0.6999999284744263, 0.6885303258895874, 0.6761233806610107, 0.6751399636268616, 0.6708204746246338, 0.670820415019989, 0.6708203554153442, 0.6643638014793396, 0.6529286503791809, 0.6527534127235413, 0.6507914066314697, 0.6425754427909851, 0.640444815158844, 0.6368938684463501, 0.636881411075592, 0.636396050453186, 0.636396050453186, 0.6331738233566284, 0.632455587387085, 0.632455587387085, 0.632455587387085, 0.632455587387085, 0.632455587387085, 0.632455587387085, 0.632455587387085, 0.632455587387085, 0.7427812814712524, 0.7115124464035034, 0.6875, 0.6859943866729736, 0.6717513799667358, 0.6495190858840942, 0.6495190262794495, 0.64549720287323, 0.6324554681777954, 0.6308932304382324, 0.6240376830101013, 0.6172133684158325, 0.6123724579811096, 0.6098575592041016, 0.603509783744812, 0.6030226945877075, 0.6030226349830627, 0.5908789038658142, 0.5892556309700012, 0.5883484482765198, 0.588348388671875, 0.5657523274421692, 0.561341404914856, 0.5604485273361206, 0.553398609161377, 0.5393193364143372, 0.5375872254371643, 0.5345224738121033, 0.5345224738121033, 0.5330017805099487, 0.5303300619125366, 0.5252257585525513, 0.5163977146148682, 0.5138701796531677, 0.5103104114532471, 0.5085834264755249, 0.5051814913749695, 0.5051814913749695, 0.5031153559684753, 0.5031153559684753, 0.5031153559684753, 0.8403582572937012, 0.8403582572937012, 0.8403582572937012, 0.835504412651062, 0.835504412651062, 0.8109307885169983, 0.8109307885169983, 0.8109307885169983, 0.8109307885169983, 0.8109307885169983, 0.8109307885169983, 0.7974143028259277, 0.7912566065788269, 0.785868227481842, 0.7815475463867188, 0.7804216742515564, 0.7804216742515564, 0.7804216742515564, 0.7804216742515564, 0.7802714705467224, 0.7802714705467224, 0.7779698371887207, 0.7742251753807068, 0.769530177116394, 0.7679476141929626, 0.7675662040710449, 0.7673122882843018, 0.7656166553497314, 0.7647885084152222, 0.7634850144386292, 0.7622517347335815, 0.7619224786758423, 0.7610738277435303, 0.7610738277435303, 0.7608797550201416, 0.7582875490188599, 0.7576549053192139, 0.7558647990226746, 0.7558647990226746, 0.7551923394203186, 0.7551923394203186, 0.9787956476211548, 0.9640347957611084, 0.9633799195289612, 0.9621022939682007, 0.9621022939682007, 0.9621022939682007, 0.9558526873588562, 0.955649733543396, 0.9537877440452576, 0.9511599540710449, 0.9508497714996338, 0.950750470161438, 0.9501460790634155, 0.9501460790634155, 0.948979914188385, 0.9488522410392761, 0.9476815462112427, 0.947346568107605, 0.9465924501419067, 0.9456577301025391, 0.9456577301025391, 0.9447561502456665, 0.9434391856193542, 0.9412353038787842, 0.9409593343734741, 0.9405803680419922, 0.9405162334442139, 0.9399007558822632, 0.9399007558822632, 0.9399007558822632, 0.9385019540786743, 0.9379648566246033, 0.9378902316093445, 0.9378902316093445, 0.9376354813575745, 0.9374703168869019, 0.9367507100105286, 0.9361648559570312, 0.9349470138549805, 0.9349470138549805, 0.9333308339118958, 0.9899494051933289, 0.9834450483322144, 0.976186990737915, 0.976186990737915, 0.9682456851005554, 0.9660918116569519, 0.9655351042747498, 0.9648363590240479, 0.9638631343841553, 0.9589265584945679, 0.9561828374862671, 0.9561828374862671, 0.9561828374862671, 0.955778956413269, 0.9547921419143677, 0.9547921419143677, 0.9486833810806274, 0.9486832618713379, 0.9486832618713379, 0.9486832618713379, 0.9486832618713379, 0.9486832618713379, 0.9431191682815552, 0.9431191086769104, 0.9431191086769104, 0.942990243434906, 0.939552366733551, 0.9393364191055298, 0.9341987371444702, 0.9341987371444702, 0.9333333373069763, 0.9333332777023315, 0.9326733350753784, 0.9325048327445984, 0.9325048327445984, 0.9309494495391846, 0.9309493899345398, 0.930949330329895, 0.9302606582641602, 0.9302605986595154, 0.9302605390548706, 0.9810229539871216, 0.9782320857048035, 0.9782319664955139, 0.9762212038040161, 0.9753615260124207, 0.9746794700622559, 0.9746794700622559, 0.9746794104576111, 0.9746793508529663, 0.9746793508529663, 0.9733285903930664, 0.9713237881660461, 0.9713237881660461, 0.9713237285614014, 0.9694584012031555, 0.9666388630867004, 0.9639604687690735, 0.9637387990951538, 0.9633640050888062, 0.9627198576927185, 0.9627197980880737, 0.9627197980880737, 0.9614822864532471, 0.9602859616279602, 0.9602859020233154, 0.9592421650886536, 0.9592421054840088, 0.9575798511505127, 0.9575797915458679, 0.9571064710617065, 0.9567298889160156, 0.9557896256446838, 0.9557563066482544, 0.9550175666809082, 0.954427182674408, 0.953821063041687, 0.9538208246231079, 0.9511897563934326, 0.9477583169937134, 0.9477583169937134, 0.9477583169937134, 0.9999999403953552, 0.9999999403953552, 0.9999999403953552, 0.9999999403953552, 0.9999999403953552, 0.9999999403953552, 0.9999999403953552, 0.9999999403953552, 0.9999999403953552, 0.9999999403953552, 0.9999999403953552, 0.9999999403953552, 0.9999999403953552, 0.9999999403953552, 0.9999999403953552, 0.9999999403953552, 0.9999999403953552, 0.9999999403953552, 0.9999999403953552, 0.9999999403953552, 0.9999999403953552, 0.9999999403953552, 0.9999999403953552, 0.9819805026054382, 0.9701424837112427, 0.9701424837112427, 0.9594032764434814, 0.9444443583488464, 0.9354143738746643, 0.9354143738746643, 0.9176629185676575, 0.9036961197853088, 0.8872443437576294, 0.884537935256958, 0.883883535861969, 0.8816820383071899, 0.8757291436195374, 0.8750000596046448, 0.8750000596046448, 0.8750000596046448, 0.875, 0.9899494051933289, 0.9834450483322144, 0.976186990737915, 0.976186990737915, 0.9682456851005554, 0.9660918116569519, 0.9655351042747498, 0.9648363590240479, 0.9638631343841553, 0.9589265584945679, 0.9561828374862671, 0.9561828374862671, 0.9561828374862671, 0.955778956413269, 0.9547921419143677, 0.9547921419143677, 0.9486833810806274, 0.9486832618713379, 0.9486832618713379, 0.9486832618713379, 0.9486832618713379, 0.9486832618713379, 0.9431191682815552, 0.9431191086769104, 0.9431191086769104, 0.942990243434906, 0.939552366733551, 0.9393364191055298, 0.9341987371444702, 0.9341987371444702, 0.9333333373069763, 0.9333332777023315, 0.9326733350753784, 0.9325048327445984, 0.9325048327445984, 0.9309494495391846, 0.9309493899345398, 0.930949330329895, 0.9302606582641602, 0.9302605986595154, 0.9302605390548706, 0.9342836737632751, 0.9198662638664246, 0.9177364110946655, 0.9172160625457764, 0.9170347452163696, 0.9121114611625671, 0.9104464054107666, 0.9060911536216736, 0.9001545906066895, 0.8964154124259949, 0.8934179544448853, 0.893246054649353, 0.893197774887085, 0.8927424550056458, 0.8927121162414551, 0.8922709822654724, 0.8920091986656189, 0.884165346622467, 0.8828856348991394, 0.882369875907898, 0.8820672035217285, 0.880704939365387, 0.880704939365387, 0.8807048797607422, 0.8807047605514526, 0.8803901672363281, 0.8800392746925354, 0.879304051399231, 0.879304051399231, 0.879304051399231, 0.8793039917945862, 0.8782753944396973, 0.8775799870491028, 0.8775146007537842, 0.8775146007537842, 0.8765509128570557, 0.8759853839874268, 0.8755629062652588, 0.8755444884300232, 0.8752736449241638, 0.8736882209777832, 0.96076899766922, 0.8932461142539978, 0.8278374671936035, 0.827837347984314, 0.8271702527999878, 0.8240419030189514, 0.8240419030189514, 0.8240419030189514, 0.8207294344902039, 0.8207294344902039, 0.8153742551803589, 0.8153742551803589, 0.8096408843994141, 0.8096408843994141, 0.808190107345581, 0.8062257766723633, 0.8062257766723633, 0.805322527885437, 0.7925939559936523, 0.7925939559936523, 0.7877264022827148, 0.7877264022827148, 0.7867957949638367, 0.7783117890357971, 0.7724872827529907, 0.7687060832977295, 0.7687060832977295, 0.7687060236930847, 0.7687060236930847, 0.7687060236930847, 0.7687060236930847, 0.7687060236930847, 0.7686577439308167, 0.7686577439308167, 0.7686576843261719, 0.7666357159614563, 0.7648661732673645, 0.7635417580604553, 0.7635416388511658, 0.762712836265564, 0.7627127170562744, 0.9759000539779663, 0.9566808342933655, 0.9559937715530396, 0.9534624814987183, 0.9486833214759827, 0.9486833214759827, 0.9486833214759827, 0.9486832618713379, 0.946729302406311, 0.9458757638931274, 0.9441176652908325, 0.9433000087738037, 0.9431192874908447, 0.9431192278862, 0.9431192278862, 0.9431191086769104, 0.9395524859428406, 0.9391486048698425, 0.9391485452651978, 0.938971221446991, 0.938971221446991, 0.9389709234237671, 0.9381389617919922, 0.9359709620475769, 0.9355127215385437, 0.9341988563537598, 0.9341988563537598, 0.9326733350753784, 0.9325048923492432, 0.9300538301467896, 0.9296698570251465, 0.9296697974205017, 0.9296697378158569, 0.9296697378158569, 0.9296697378158569, 0.9296696782112122, 0.9296696782112122, 0.9274495244026184, 0.9271051287651062, 0.9250000715255737, 0.9250000715255737, 0.9298955202102661, 0.8981462717056274, 0.8981462717056274, 0.8832715749740601, 0.8831761479377747, 0.8814826011657715, 0.8814826011657715, 0.879457950592041, 0.8783100843429565, 0.8783100843429565, 0.8763561844825745, 0.8763561844825745, 0.8760629892349243, 0.8755950927734375, 0.8672274351119995, 0.8660255074501038, 0.8640987873077393, 0.8614109754562378, 0.8608285784721375, 0.8608285784721375, 0.8608284592628479, 0.860663115978241, 0.8606629967689514, 0.8606629967689514, 0.8589058518409729, 0.8573215007781982, 0.857159435749054, 0.855688750743866, 0.852573573589325, 0.852573573589325, 0.8510497808456421, 0.8475794792175293, 0.8475793600082397, 0.8467803001403809, 0.8454028964042664, 0.8454028367996216, 0.8454028367996216, 0.8454028367996216, 0.8432741165161133, 0.8432739973068237, 0.8432739973068237, 0.9037378430366516, 0.8770579099655151, 0.8770579099655151, 0.8702853322029114, 0.8702853322029114, 0.8680789470672607, 0.8608285188674927, 0.8605266809463501, 0.8561726808547974, 0.8453637957572937, 0.8453637957572937, 0.8438529372215271, 0.8430888056755066, 0.8425607681274414, 0.8408409357070923, 0.8408408761024475, 0.8408408761024475, 0.8406727313995361, 0.8386279344558716, 0.8386278748512268, 0.8386278748512268, 0.8385565280914307, 0.8376106023788452, 0.8376104831695557, 0.8372344970703125, 0.837234377861023, 0.8362419009208679, 0.8334936499595642, 0.8334935903549194, 0.8334935903549194, 0.8332051634788513, 0.8332051634788513, 0.8323543071746826, 0.8320503830909729, 0.8320503234863281, 0.8320502638816833, 0.8303365111351013, 0.8295879364013672, 0.8295877575874329, 0.8287419676780701, 0.8287419676780701, 0.8483819961547852, 0.7203602194786072, 0.6443860530853271, 0.6238502264022827, 0.6238502264022827, 0.5812382102012634, 0.5718627572059631, 0.5607997179031372, 0.5607997179031372, 0.558956503868103, 0.551410973072052, 0.5378561615943909, 0.525749683380127, 0.525749683380127, 0.5231143236160278, 0.5198752284049988, 0.5183439254760742, 0.5082247257232666, 0.493196964263916, 0.4903043508529663, 0.4793012738227844, 0.4784713387489319, 0.4784713387489319, 0.4698092043399811, 0.45945948362350464, 0.4512709677219391, 0.4512709677219391, 0.4461134076118469, 0.441893994808197, 0.4359286427497864, 0.43423569202423096, 0.42624133825302124, 0.42624133825302124, 0.42624133825302124, 0.4184914827346802, 0.4113547205924988, 0.4109974801540375, 0.40766096115112305, 0.40686675906181335, 0.40686675906181335, 0.4043681025505066, 0.9298955202102661, 0.8981462717056274, 0.8981462717056274, 0.8832715749740601, 0.8831761479377747, 0.8814826011657715, 0.8814826011657715, 0.879457950592041, 0.8783100843429565, 0.8783100843429565, 0.8763561844825745, 0.8763561844825745, 0.8760629892349243, 0.8755950927734375, 0.8672274351119995, 0.8660255074501038, 0.8640987873077393, 0.8614109754562378, 0.8608285784721375, 0.8608285784721375, 0.8608284592628479, 0.860663115978241, 0.8606629967689514, 0.8606629967689514, 0.8589058518409729, 0.8573215007781982, 0.857159435749054, 0.855688750743866, 0.852573573589325, 0.852573573589325, 0.8510497808456421, 0.8475794792175293, 0.8475793600082397, 0.8467803001403809, 0.8454028964042664, 0.8454028367996216, 0.8454028367996216, 0.8454028367996216, 0.8432741165161133, 0.8432739973068237, 0.8432739973068237, 0.9999998807907104, 0.9999998807907104, 0.9999998807907104, 0.9999998807907104, 0.9999998807907104, 0.9999998807907104, 0.9999998807907104, 0.9999998807907104, 0.9999998807907104, 0.9999998807907104, 0.9999998807907104, 0.9999998807907104, 0.9999998807907104, 0.9999998807907104, 0.9999998807907104, 0.9999998807907104, 0.9960238933563232, 0.9918366074562073, 0.9918366074562073, 0.9855274558067322, 0.9855274558067322, 0.9855274558067322, 0.9855273962020874, 0.9855273962020874, 0.9855273962020874, 0.9855273962020874, 0.9855273962020874, 0.9847319722175598, 0.9847319722175598, 0.984731912612915, 0.984119713306427, 0.9829463362693787, 0.9805806875228882, 0.9801960587501526, 0.9799578785896301, 0.9797958731651306, 0.9771397709846497, 0.9771397709846497, 0.9737289547920227, 0.9737289547920227, 0.9737289547920227, 0.9999998807907104, 0.9999998807907104, 0.9999998807907104, 0.9999998807907104, 0.9999998807907104, 0.9999998807907104, 0.9999998807907104, 0.9999998807907104, 0.9999998807907104, 0.9999998807907104, 0.9999998807907104, 0.9999998807907104, 0.9999998807907104, 0.9999998807907104, 0.9999998807907104, 0.9999998807907104, 0.9960238933563232, 0.9918366074562073, 0.9918366074562073, 0.9855274558067322, 0.9855274558067322, 0.9855274558067322, 0.9855273962020874, 0.9855273962020874, 0.9855273962020874, 0.9855273962020874, 0.9855273962020874, 0.9847319722175598, 0.9847319722175598, 0.984731912612915, 0.984119713306427, 0.9829463362693787, 0.9805806875228882, 0.9801960587501526, 0.9799578785896301, 0.9797958731651306, 0.9771397709846497, 0.9771397709846497, 0.9737289547920227, 0.9737289547920227, 0.9737289547920227, 0.9128708839416504, 0.8406727910041809, 0.8333333730697632, 0.8333333730697632, 0.8198915719985962, 0.8179129362106323, 0.8164966106414795, 0.8017836809158325, 0.8017836809158325, 0.8006407618522644, 0.7947194576263428, 0.7938566207885742, 0.7925940155982971, 0.7905694246292114, 0.7879670262336731, 0.7825079560279846, 0.7825079560279846, 0.7825079560279846, 0.7777777910232544, 0.7745967507362366, 0.7745967507362366, 0.774596631526947, 0.771516740322113, 0.766032338142395, 0.7637626528739929, 0.7593264579772949, 0.7593263387680054, 0.7505553960800171, 0.7505553960800171, 0.7504787445068359, 0.7500000596046448, 0.75, 0.75, 0.75, 0.75, 0.7499999403953552, 0.7492685914039612, 0.7469136714935303, 0.7426106929779053, 0.7395740747451782, 0.738548994064331, 0.9999998807907104, 0.9999998807907104, 0.9999998807907104, 0.9999998807907104, 0.9999998807907104, 0.9999998807907104, 0.9999998807907104, 0.9999998807907104, 0.9999998807907104, 0.9999998807907104, 0.9999998807907104, 0.9999998807907104, 0.9999998807907104, 0.9999998807907104, 0.9999998807907104, 0.9999998807907104, 0.9960238933563232, 0.9918366074562073, 0.9918366074562073, 0.9855274558067322, 0.9855274558067322, 0.9855274558067322, 0.9855273962020874, 0.9855273962020874, 0.9855273962020874, 0.9855273962020874, 0.9855273962020874, 0.9847319722175598, 0.9847319722175598, 0.984731912612915, 0.984119713306427, 0.9829463362693787, 0.9805806875228882, 0.9801960587501526, 0.9799578785896301, 0.9797958731651306, 0.9771397709846497, 0.9771397709846497, 0.9737289547920227, 0.9737289547920227, 0.9737289547920227, 0.9546686410903931, 0.9525008201599121, 0.9525008201599121, 0.9519716501235962, 0.9519716501235962, 0.9422228932380676, 0.9354143142700195, 0.9274260997772217, 0.9268550872802734, 0.9263021349906921, 0.9263020753860474, 0.9258200526237488, 0.9228396415710449, 0.9207509756088257, 0.9207508563995361, 0.9207367897033691, 0.919238805770874, 0.9192387461662292, 0.9191450476646423, 0.9191450476646423, 0.9187104105949402, 0.9181763529777527, 0.9176629185676575, 0.9166666269302368, 0.916578471660614, 0.916578471660614, 0.9149913787841797, 0.9148908853530884, 0.9141378998756409, 0.9139076471328735, 0.9133462905883789, 0.9133462905883789, 0.9133462905883789, 0.9133462905883789, 0.9128708839416504, 0.9128707647323608, 0.9124954342842102, 0.9120291471481323, 0.9095085859298706, 0.9095085859298706, 0.9095085263252258, 0.9723057150840759, 0.9548636674880981, 0.9548636674880981, 0.9219545125961304, 0.9117647409439087, 0.9115638732910156, 0.9115046262741089, 0.9109358787536621, 0.9106417298316956, 0.9106416702270508, 0.9101820588111877, 0.9101820588111877, 0.910181999206543, 0.9095085859298706, 0.9081082940101624, 0.9074852466583252, 0.906869649887085, 0.9068695306777954, 0.9049358367919922, 0.9049035310745239, 0.903876781463623, 0.8997353315353394, 0.899181604385376, 0.8990275859832764, 0.8986452221870422, 0.8986451029777527, 0.8981249928474426, 0.8978642821311951, 0.897364616394043, 0.8958086967468262, 0.8956221342086792, 0.8951714038848877, 0.8948381543159485, 0.8938431739807129, 0.8934147357940674, 0.893259584903717, 0.893259584903717, 0.893259584903717, 0.8930886387825012, 0.8930885791778564, 0.8926785588264465, 0.9165151715278625, 0.8954430222511292, 0.8954430222511292, 0.8759957551956177, 0.8246211409568787, 0.8164966106414795, 0.8082903623580933, 0.803326427936554, 0.8000000715255737, 0.7999999523162842, 0.7923547625541687, 0.7902633547782898, 0.7855844497680664, 0.7855843901634216, 0.7794228196144104, 0.7786628007888794, 0.7778175473213196, 0.7765803337097168, 0.7761140465736389, 0.774596631526947, 0.77247154712677, 0.7715167999267578, 0.7666981816291809, 0.7666981816291809, 0.7615772485733032, 0.7602630853652954, 0.7602630853652954, 0.7559288740158081, 0.754342257976532, 0.7542471885681152, 0.752139687538147, 0.75, 0.75, 0.7499999403953552, 0.7483315467834473, 0.7483314871788025, 0.7483314275741577, 0.7462185621261597, 0.7427813410758972, 0.7424620985984802, 0.7424620985984802, 0.9747547507286072, 0.9747547507286072, 0.9667962193489075, 0.9587093591690063, 0.9518173336982727, 0.9518173336982727, 0.9509798288345337, 0.9496715068817139, 0.9476780295372009, 0.9437015056610107, 0.9428712725639343, 0.9428472518920898, 0.942082405090332, 0.9416363835334778, 0.9401747584342957, 0.9364182353019714, 0.9346851706504822, 0.9341986775398254, 0.9337221384048462, 0.9328736066818237, 0.9322981834411621, 0.9320951700210571, 0.9318182468414307, 0.9318181276321411, 0.9318181276321411, 0.9312905073165894, 0.9307577610015869, 0.9307577610015869, 0.9304842948913574, 0.9304841160774231, 0.9303739666938782, 0.9303739666938782, 0.9296600222587585, 0.9296600222587585, 0.9296600222587585, 0.9296600222587585, 0.928840696811676, 0.928840696811676, 0.928032398223877, 0.9277308583259583, 0.9266964197158813, 0.8101627230644226, 0.785868227481842, 0.7833495140075684, 0.7833495140075684, 0.7713891863822937, 0.7713891863822937, 0.7713891863822937, 0.7710995674133301, 0.7710995674133301, 0.7706746459007263, 0.7693217992782593, 0.7693217992782593, 0.7675225734710693, 0.7658161520957947, 0.7627700567245483, 0.7610525488853455, 0.7562625408172607, 0.7557421922683716, 0.7544335126876831, 0.7537783980369568, 0.7537783980369568, 0.753778338432312, 0.753778338432312, 0.7462025284767151, 0.7416198253631592, 0.7407437562942505, 0.7399957180023193, 0.7398300170898438, 0.7392480373382568, 0.7392479777336121, 0.7385489344596863, 0.7336740493774414, 0.7336739897727966, 0.732134222984314, 0.7309738397598267, 0.7278603315353394, 0.7275475859642029, 0.7275475263595581, 0.7252405285835266, 0.7248824238777161, 0.7248824238777161, 0.8416253924369812, 0.8416253924369812, 0.8224782943725586, 0.8084520697593689, 0.8060599565505981, 0.8051609992980957, 0.8043997287750244, 0.8043997287750244, 0.8043997287750244, 0.8043996691703796, 0.7893862724304199, 0.7882407903671265, 0.786718487739563, 0.7848839163780212, 0.7811209559440613, 0.7811209559440613, 0.7789808511734009, 0.7778445482254028, 0.7767130732536316, 0.7761139273643494, 0.771743655204773, 0.7694869041442871, 0.7680293917655945, 0.7678360939025879, 0.7678359746932983, 0.7673643827438354, 0.7669650316238403, 0.7669649720191956, 0.7669649124145508, 0.7662411332130432, 0.7656415700912476, 0.7647058963775635, 0.7643157839775085, 0.7641791105270386, 0.7634862661361694, 0.7633986473083496, 0.7622548341751099, 0.7622547149658203, 0.7612432241439819, 0.7610424160957336, 0.7605466842651367, 0.9229719638824463, 0.8931884169578552, 0.8866356015205383, 0.8825225830078125, 0.8209008574485779, 0.8171505331993103, 0.7783117890357971, 0.7783117890357971, 0.7765803337097168, 0.7627127766609192, 0.7428908348083496, 0.7428908348083496, 0.7131997346878052, 0.7071067690849304, 0.7067392468452454, 0.7067392468452454, 0.7041867971420288, 0.6999132633209229, 0.6933752298355103, 0.6878708600997925, 0.6877464056015015, 0.6805446743965149, 0.6796437501907349, 0.6713795065879822, 0.6695340871810913, 0.6605286002159119, 0.6605286002159119, 0.6577935218811035, 0.6577935218811035, 0.6577935218811035, 0.6577935218811035, 0.6537203788757324, 0.6527139544487, 0.6445033550262451, 0.6405125856399536, 0.639039158821106, 0.6379052400588989, 0.6379052400588989, 0.6362847685813904, 0.6362847685813904, 0.6362847685813904, 0.8416253924369812, 0.8416253924369812, 0.8224782943725586, 0.8084520697593689, 0.8060599565505981, 0.8051609992980957, 0.8043997287750244, 0.8043997287750244, 0.8043997287750244, 0.8043996691703796, 0.7893862724304199, 0.7882407903671265, 0.786718487739563, 0.7848839163780212, 0.7811209559440613, 0.7811209559440613, 0.7789808511734009, 0.7778445482254028, 0.7767130732536316, 0.7761139273643494, 0.771743655204773, 0.7694869041442871, 0.7680293917655945, 0.7678360939025879, 0.7678359746932983, 0.7673643827438354, 0.7669650316238403, 0.7669649720191956, 0.7669649124145508, 0.7662411332130432, 0.7656415700912476, 0.7647058963775635, 0.7643157839775085, 0.7641791105270386, 0.7634862661361694, 0.7633986473083496, 0.7622548341751099, 0.7622547149658203, 0.7612432241439819, 0.7610424160957336, 0.7605466842651367], \"xaxis\": \"x\", \"yaxis\": \"y\"}],\n",
              "                        {\"barmode\": \"relative\", \"legend\": {\"tracegroupgap\": 0}, \"template\": {\"data\": {\"bar\": [{\"error_x\": {\"color\": \"#2a3f5f\"}, \"error_y\": {\"color\": \"#2a3f5f\"}, \"marker\": {\"line\": {\"color\": \"#E5ECF6\", \"width\": 0.5}}, \"type\": \"bar\"}], \"barpolar\": [{\"marker\": {\"line\": {\"color\": \"#E5ECF6\", \"width\": 0.5}}, \"type\": \"barpolar\"}], \"carpet\": [{\"aaxis\": {\"endlinecolor\": \"#2a3f5f\", \"gridcolor\": \"white\", \"linecolor\": \"white\", \"minorgridcolor\": \"white\", \"startlinecolor\": \"#2a3f5f\"}, \"baxis\": {\"endlinecolor\": \"#2a3f5f\", \"gridcolor\": \"white\", \"linecolor\": \"white\", \"minorgridcolor\": \"white\", \"startlinecolor\": \"#2a3f5f\"}, \"type\": \"carpet\"}], \"choropleth\": [{\"colorbar\": {\"outlinewidth\": 0, \"ticks\": \"\"}, \"type\": \"choropleth\"}], \"contour\": [{\"colorbar\": {\"outlinewidth\": 0, \"ticks\": \"\"}, \"colorscale\": [[0.0, \"#0d0887\"], [0.1111111111111111, \"#46039f\"], [0.2222222222222222, \"#7201a8\"], [0.3333333333333333, \"#9c179e\"], [0.4444444444444444, \"#bd3786\"], [0.5555555555555556, \"#d8576b\"], [0.6666666666666666, \"#ed7953\"], [0.7777777777777778, \"#fb9f3a\"], [0.8888888888888888, \"#fdca26\"], [1.0, \"#f0f921\"]], \"type\": \"contour\"}], \"contourcarpet\": [{\"colorbar\": {\"outlinewidth\": 0, \"ticks\": \"\"}, \"type\": \"contourcarpet\"}], \"heatmap\": [{\"colorbar\": {\"outlinewidth\": 0, \"ticks\": \"\"}, \"colorscale\": [[0.0, \"#0d0887\"], [0.1111111111111111, \"#46039f\"], [0.2222222222222222, \"#7201a8\"], [0.3333333333333333, \"#9c179e\"], [0.4444444444444444, \"#bd3786\"], [0.5555555555555556, \"#d8576b\"], [0.6666666666666666, \"#ed7953\"], [0.7777777777777778, \"#fb9f3a\"], [0.8888888888888888, \"#fdca26\"], [1.0, \"#f0f921\"]], \"type\": \"heatmap\"}], \"heatmapgl\": [{\"colorbar\": {\"outlinewidth\": 0, \"ticks\": \"\"}, \"colorscale\": [[0.0, \"#0d0887\"], [0.1111111111111111, \"#46039f\"], [0.2222222222222222, \"#7201a8\"], [0.3333333333333333, \"#9c179e\"], [0.4444444444444444, \"#bd3786\"], [0.5555555555555556, \"#d8576b\"], [0.6666666666666666, \"#ed7953\"], [0.7777777777777778, \"#fb9f3a\"], [0.8888888888888888, \"#fdca26\"], [1.0, \"#f0f921\"]], \"type\": \"heatmapgl\"}], \"histogram\": [{\"marker\": {\"colorbar\": {\"outlinewidth\": 0, \"ticks\": \"\"}}, \"type\": \"histogram\"}], \"histogram2d\": [{\"colorbar\": {\"outlinewidth\": 0, \"ticks\": \"\"}, \"colorscale\": [[0.0, \"#0d0887\"], [0.1111111111111111, \"#46039f\"], [0.2222222222222222, \"#7201a8\"], [0.3333333333333333, \"#9c179e\"], [0.4444444444444444, \"#bd3786\"], [0.5555555555555556, \"#d8576b\"], [0.6666666666666666, \"#ed7953\"], [0.7777777777777778, \"#fb9f3a\"], [0.8888888888888888, \"#fdca26\"], [1.0, \"#f0f921\"]], \"type\": \"histogram2d\"}], \"histogram2dcontour\": [{\"colorbar\": {\"outlinewidth\": 0, \"ticks\": \"\"}, \"colorscale\": [[0.0, \"#0d0887\"], [0.1111111111111111, \"#46039f\"], [0.2222222222222222, \"#7201a8\"], [0.3333333333333333, \"#9c179e\"], [0.4444444444444444, \"#bd3786\"], [0.5555555555555556, \"#d8576b\"], [0.6666666666666666, \"#ed7953\"], [0.7777777777777778, \"#fb9f3a\"], [0.8888888888888888, \"#fdca26\"], [1.0, \"#f0f921\"]], \"type\": \"histogram2dcontour\"}], \"mesh3d\": [{\"colorbar\": {\"outlinewidth\": 0, \"ticks\": \"\"}, \"type\": \"mesh3d\"}], \"parcoords\": [{\"line\": {\"colorbar\": {\"outlinewidth\": 0, \"ticks\": \"\"}}, \"type\": \"parcoords\"}], \"pie\": [{\"automargin\": true, \"type\": \"pie\"}], \"scatter\": [{\"marker\": {\"colorbar\": {\"outlinewidth\": 0, \"ticks\": \"\"}}, \"type\": \"scatter\"}], \"scatter3d\": [{\"line\": {\"colorbar\": {\"outlinewidth\": 0, \"ticks\": \"\"}}, \"marker\": {\"colorbar\": {\"outlinewidth\": 0, \"ticks\": \"\"}}, \"type\": \"scatter3d\"}], \"scattercarpet\": [{\"marker\": {\"colorbar\": {\"outlinewidth\": 0, \"ticks\": \"\"}}, \"type\": \"scattercarpet\"}], \"scattergeo\": [{\"marker\": {\"colorbar\": {\"outlinewidth\": 0, \"ticks\": \"\"}}, \"type\": \"scattergeo\"}], \"scattergl\": [{\"marker\": {\"colorbar\": {\"outlinewidth\": 0, \"ticks\": \"\"}}, \"type\": \"scattergl\"}], \"scattermapbox\": [{\"marker\": {\"colorbar\": {\"outlinewidth\": 0, \"ticks\": \"\"}}, \"type\": \"scattermapbox\"}], \"scatterpolar\": [{\"marker\": {\"colorbar\": {\"outlinewidth\": 0, \"ticks\": \"\"}}, \"type\": \"scatterpolar\"}], \"scatterpolargl\": [{\"marker\": {\"colorbar\": {\"outlinewidth\": 0, \"ticks\": \"\"}}, \"type\": \"scatterpolargl\"}], \"scatterternary\": [{\"marker\": {\"colorbar\": {\"outlinewidth\": 0, \"ticks\": \"\"}}, \"type\": \"scatterternary\"}], \"surface\": [{\"colorbar\": {\"outlinewidth\": 0, \"ticks\": \"\"}, \"colorscale\": [[0.0, \"#0d0887\"], [0.1111111111111111, \"#46039f\"], [0.2222222222222222, \"#7201a8\"], [0.3333333333333333, \"#9c179e\"], [0.4444444444444444, \"#bd3786\"], [0.5555555555555556, \"#d8576b\"], [0.6666666666666666, \"#ed7953\"], [0.7777777777777778, \"#fb9f3a\"], [0.8888888888888888, \"#fdca26\"], [1.0, \"#f0f921\"]], \"type\": \"surface\"}], \"table\": [{\"cells\": {\"fill\": {\"color\": \"#EBF0F8\"}, \"line\": {\"color\": \"white\"}}, \"header\": {\"fill\": {\"color\": \"#C8D4E3\"}, \"line\": {\"color\": \"white\"}}, \"type\": \"table\"}]}, \"layout\": {\"annotationdefaults\": {\"arrowcolor\": \"#2a3f5f\", \"arrowhead\": 0, \"arrowwidth\": 1}, \"coloraxis\": {\"colorbar\": {\"outlinewidth\": 0, \"ticks\": \"\"}}, \"colorscale\": {\"diverging\": [[0, \"#8e0152\"], [0.1, \"#c51b7d\"], [0.2, \"#de77ae\"], [0.3, \"#f1b6da\"], [0.4, \"#fde0ef\"], [0.5, \"#f7f7f7\"], [0.6, \"#e6f5d0\"], [0.7, \"#b8e186\"], [0.8, \"#7fbc41\"], [0.9, \"#4d9221\"], [1, \"#276419\"]], \"sequential\": [[0.0, \"#0d0887\"], [0.1111111111111111, \"#46039f\"], [0.2222222222222222, \"#7201a8\"], [0.3333333333333333, \"#9c179e\"], [0.4444444444444444, \"#bd3786\"], [0.5555555555555556, \"#d8576b\"], [0.6666666666666666, \"#ed7953\"], [0.7777777777777778, \"#fb9f3a\"], [0.8888888888888888, \"#fdca26\"], [1.0, \"#f0f921\"]], \"sequentialminus\": [[0.0, \"#0d0887\"], [0.1111111111111111, \"#46039f\"], [0.2222222222222222, \"#7201a8\"], [0.3333333333333333, \"#9c179e\"], [0.4444444444444444, \"#bd3786\"], [0.5555555555555556, \"#d8576b\"], [0.6666666666666666, \"#ed7953\"], [0.7777777777777778, \"#fb9f3a\"], [0.8888888888888888, \"#fdca26\"], [1.0, \"#f0f921\"]]}, \"colorway\": [\"#636efa\", \"#EF553B\", \"#00cc96\", \"#ab63fa\", \"#FFA15A\", \"#19d3f3\", \"#FF6692\", \"#B6E880\", \"#FF97FF\", \"#FECB52\"], \"font\": {\"color\": \"#2a3f5f\"}, \"geo\": {\"bgcolor\": \"white\", \"lakecolor\": \"white\", \"landcolor\": \"#E5ECF6\", \"showlakes\": true, \"showland\": true, \"subunitcolor\": \"white\"}, \"hoverlabel\": {\"align\": \"left\"}, \"hovermode\": \"closest\", \"mapbox\": {\"style\": \"light\"}, \"paper_bgcolor\": \"white\", \"plot_bgcolor\": \"#E5ECF6\", \"polar\": {\"angularaxis\": {\"gridcolor\": \"white\", \"linecolor\": \"white\", \"ticks\": \"\"}, \"bgcolor\": \"#E5ECF6\", \"radialaxis\": {\"gridcolor\": \"white\", \"linecolor\": \"white\", \"ticks\": \"\"}}, \"scene\": {\"xaxis\": {\"backgroundcolor\": \"#E5ECF6\", \"gridcolor\": \"white\", \"gridwidth\": 2, \"linecolor\": \"white\", \"showbackground\": true, \"ticks\": \"\", \"zerolinecolor\": \"white\"}, \"yaxis\": {\"backgroundcolor\": \"#E5ECF6\", \"gridcolor\": \"white\", \"gridwidth\": 2, \"linecolor\": \"white\", \"showbackground\": true, \"ticks\": \"\", \"zerolinecolor\": \"white\"}, \"zaxis\": {\"backgroundcolor\": \"#E5ECF6\", \"gridcolor\": \"white\", \"gridwidth\": 2, \"linecolor\": \"white\", \"showbackground\": true, \"ticks\": \"\", \"zerolinecolor\": \"white\"}}, \"shapedefaults\": {\"line\": {\"color\": \"#2a3f5f\"}}, \"ternary\": {\"aaxis\": {\"gridcolor\": \"white\", \"linecolor\": \"white\", \"ticks\": \"\"}, \"baxis\": {\"gridcolor\": \"white\", \"linecolor\": \"white\", \"ticks\": \"\"}, \"bgcolor\": \"#E5ECF6\", \"caxis\": {\"gridcolor\": \"white\", \"linecolor\": \"white\", \"ticks\": \"\"}}, \"title\": {\"x\": 0.05}, \"xaxis\": {\"automargin\": true, \"gridcolor\": \"white\", \"linecolor\": \"white\", \"ticks\": \"\", \"title\": {\"standoff\": 15}, \"zerolinecolor\": \"white\", \"zerolinewidth\": 2}, \"yaxis\": {\"automargin\": true, \"gridcolor\": \"white\", \"linecolor\": \"white\", \"ticks\": \"\", \"title\": {\"standoff\": 15}, \"zerolinecolor\": \"white\", \"zerolinewidth\": 2}}}, \"title\": {\"text\": \"LSI Scores\"}, \"xaxis\": {\"anchor\": \"y\", \"domain\": [0.0, 1.0], \"title\": {\"text\": \"score\"}}, \"yaxis\": {\"anchor\": \"x\", \"domain\": [0.0, 1.0], \"title\": {\"text\": \"count\"}}},\n",
              "                        {\"responsive\": true}\n",
              "                    ).then(function(){\n",
              "                            \n",
              "var gd = document.getElementById('39283741-52a7-400b-a4d6-ae1889ec9ea7');\n",
              "var x = new MutationObserver(function (mutations, observer) {{\n",
              "        var display = window.getComputedStyle(gd).display;\n",
              "        if (!display || display === 'none') {{\n",
              "            console.log([gd, 'removed!']);\n",
              "            Plotly.purge(gd);\n",
              "            observer.disconnect();\n",
              "        }}\n",
              "}});\n",
              "\n",
              "// Listen for the removal of the full notebook cells\n",
              "var notebookContainer = gd.closest('#notebook-container');\n",
              "if (notebookContainer) {{\n",
              "    x.observe(notebookContainer, {childList: true});\n",
              "}}\n",
              "\n",
              "// Listen for the clearing of the current output cell\n",
              "var outputEl = gd.closest('.output');\n",
              "if (outputEl) {{\n",
              "    x.observe(outputEl, {childList: true});\n",
              "}}\n",
              "\n",
              "                        })\n",
              "                };\n",
              "                \n",
              "            </script>\n",
              "        </div>\n",
              "</body>\n",
              "</html>"
            ]
          },
          "metadata": {}
        }
      ]
    },
    {
      "cell_type": "code",
      "metadata": {
        "id": "RX2JvEEGPGgS"
      },
      "source": [
        "if use_wandb:\n",
        "  wandb.log({\"scores_hist\": fig})"
      ],
      "execution_count": 72,
      "outputs": []
    },
    {
      "cell_type": "code",
      "metadata": {
        "colab": {
          "base_uri": "https://localhost:8080/",
          "height": 1000
        },
        "id": "7N81-XfdDFKV",
        "outputId": "c8e942da-bab1-4ac9-b2ff-e9dcd8443d1d"
      },
      "source": [
        "result, details = recommend_tune(df_sim, 'These Foolish Things [jazz1350]')\n",
        "result.head(30)"
      ],
      "execution_count": 73,
      "outputs": [
        {
          "output_type": "execute_result",
          "data": {
            "text/html": [
              "<div>\n",
              "<style scoped>\n",
              "    .dataframe tbody tr th:only-of-type {\n",
              "        vertical-align: middle;\n",
              "    }\n",
              "\n",
              "    .dataframe tbody tr th {\n",
              "        vertical-align: top;\n",
              "    }\n",
              "\n",
              "    .dataframe thead th {\n",
              "        text-align: right;\n",
              "    }\n",
              "</style>\n",
              "<table border=\"1\" class=\"dataframe\">\n",
              "  <thead>\n",
              "    <tr style=\"text-align: right;\">\n",
              "      <th></th>\n",
              "      <th>index</th>\n",
              "      <th>reference</th>\n",
              "      <th>reference_titleid</th>\n",
              "      <th>similar_title</th>\n",
              "      <th>score</th>\n",
              "      <th>max</th>\n",
              "      <th>score_div_max</th>\n",
              "      <th>similar_titleid</th>\n",
              "    </tr>\n",
              "  </thead>\n",
              "  <tbody>\n",
              "    <tr>\n",
              "      <th>0</th>\n",
              "      <td>0</td>\n",
              "      <td>These Foolish Things [jazz1350]</td>\n",
              "      <td>1168</td>\n",
              "      <td>Way You Look Tonight, The [jazz1350]</td>\n",
              "      <td>0.966796</td>\n",
              "      <td>0.974755</td>\n",
              "      <td>1.000000</td>\n",
              "      <td>1253</td>\n",
              "    </tr>\n",
              "    <tr>\n",
              "      <th>1</th>\n",
              "      <td>1</td>\n",
              "      <td>These Foolish Things [jazz1350]</td>\n",
              "      <td>1168</td>\n",
              "      <td>More Than You Know [jazz1350]</td>\n",
              "      <td>0.916515</td>\n",
              "      <td>0.916515</td>\n",
              "      <td>1.000000</td>\n",
              "      <td>829</td>\n",
              "    </tr>\n",
              "    <tr>\n",
              "      <th>2</th>\n",
              "      <td>2</td>\n",
              "      <td>These Foolish Things [jazz1350]</td>\n",
              "      <td>1168</td>\n",
              "      <td>I Loves You Porgy [jazz1350]</td>\n",
              "      <td>0.974755</td>\n",
              "      <td>0.974755</td>\n",
              "      <td>1.000000</td>\n",
              "      <td>520</td>\n",
              "    </tr>\n",
              "    <tr>\n",
              "      <th>3</th>\n",
              "      <td>3</td>\n",
              "      <td>These Foolish Things [jazz1350]</td>\n",
              "      <td>1168</td>\n",
              "      <td>It's Easy To Remember [jazz1350]</td>\n",
              "      <td>0.951972</td>\n",
              "      <td>0.974755</td>\n",
              "      <td>0.997175</td>\n",
              "      <td>637</td>\n",
              "    </tr>\n",
              "    <tr>\n",
              "      <th>4</th>\n",
              "      <td>4</td>\n",
              "      <td>These Foolish Things [jazz1350]</td>\n",
              "      <td>1168</td>\n",
              "      <td>Stairway To The Stars [jazz1350]</td>\n",
              "      <td>0.942223</td>\n",
              "      <td>0.974755</td>\n",
              "      <td>0.986963</td>\n",
              "      <td>1097</td>\n",
              "    </tr>\n",
              "    <tr>\n",
              "      <th>5</th>\n",
              "      <td>5</td>\n",
              "      <td>These Foolish Things [jazz1350]</td>\n",
              "      <td>1168</td>\n",
              "      <td>Party's Over, The [jazz1350]</td>\n",
              "      <td>0.958709</td>\n",
              "      <td>0.974755</td>\n",
              "      <td>0.983539</td>\n",
              "      <td>935</td>\n",
              "    </tr>\n",
              "    <tr>\n",
              "      <th>6</th>\n",
              "      <td>6</td>\n",
              "      <td>These Foolish Things [jazz1350]</td>\n",
              "      <td>1168</td>\n",
              "      <td>Rosetta [jazz1350]</td>\n",
              "      <td>0.895443</td>\n",
              "      <td>0.916515</td>\n",
              "      <td>0.977008</td>\n",
              "      <td>996</td>\n",
              "    </tr>\n",
              "    <tr>\n",
              "      <th>7</th>\n",
              "      <td>7</td>\n",
              "      <td>These Foolish Things [jazz1350]</td>\n",
              "      <td>1168</td>\n",
              "      <td>Rosetta [trad]</td>\n",
              "      <td>0.895443</td>\n",
              "      <td>0.916515</td>\n",
              "      <td>0.977008</td>\n",
              "      <td>1676</td>\n",
              "    </tr>\n",
              "    <tr>\n",
              "      <th>8</th>\n",
              "      <td>8</td>\n",
              "      <td>These Foolish Things [jazz1350]</td>\n",
              "      <td>1168</td>\n",
              "      <td>They All Laughed [jazz1350]</td>\n",
              "      <td>0.950980</td>\n",
              "      <td>0.974755</td>\n",
              "      <td>0.975609</td>\n",
              "      <td>1169</td>\n",
              "    </tr>\n",
              "    <tr>\n",
              "      <th>9</th>\n",
              "      <td>9</td>\n",
              "      <td>These Foolish Things [jazz1350]</td>\n",
              "      <td>1168</td>\n",
              "      <td>And The Angels Sing [jazz1350]</td>\n",
              "      <td>0.947678</td>\n",
              "      <td>0.974755</td>\n",
              "      <td>0.972222</td>\n",
              "      <td>78</td>\n",
              "    </tr>\n",
              "    <tr>\n",
              "      <th>10</th>\n",
              "      <td>10</td>\n",
              "      <td>These Foolish Things [jazz1350]</td>\n",
              "      <td>1168</td>\n",
              "      <td>Let's Fall In Love [jazz1350]</td>\n",
              "      <td>0.930484</td>\n",
              "      <td>0.974755</td>\n",
              "      <td>0.971464</td>\n",
              "      <td>708</td>\n",
              "    </tr>\n",
              "    <tr>\n",
              "      <th>11</th>\n",
              "      <td>11</td>\n",
              "      <td>These Foolish Things [jazz1350]</td>\n",
              "      <td>1168</td>\n",
              "      <td>Bewitched [jazz1350]</td>\n",
              "      <td>0.942847</td>\n",
              "      <td>0.974755</td>\n",
              "      <td>0.970287</td>\n",
              "      <td>132</td>\n",
              "    </tr>\n",
              "    <tr>\n",
              "      <th>12</th>\n",
              "      <td>12</td>\n",
              "      <td>These Foolish Things [jazz1350]</td>\n",
              "      <td>1168</td>\n",
              "      <td>Easy Street [jazz1350]</td>\n",
              "      <td>0.926302</td>\n",
              "      <td>0.954669</td>\n",
              "      <td>0.970286</td>\n",
              "      <td>343</td>\n",
              "    </tr>\n",
              "    <tr>\n",
              "      <th>13</th>\n",
              "      <td>13</td>\n",
              "      <td>These Foolish Things [jazz1350]</td>\n",
              "      <td>1168</td>\n",
              "      <td>Among My Souvenirs [jazz1350]</td>\n",
              "      <td>0.925820</td>\n",
              "      <td>0.954669</td>\n",
              "      <td>0.969782</td>\n",
              "      <td>75</td>\n",
              "    </tr>\n",
              "    <tr>\n",
              "      <th>14</th>\n",
              "      <td>14</td>\n",
              "      <td>These Foolish Things [jazz1350]</td>\n",
              "      <td>1168</td>\n",
              "      <td>Why Do I Love You [jazz1350]</td>\n",
              "      <td>0.943702</td>\n",
              "      <td>0.974755</td>\n",
              "      <td>0.968143</td>\n",
              "      <td>1286</td>\n",
              "    </tr>\n",
              "    <tr>\n",
              "      <th>15</th>\n",
              "      <td>15</td>\n",
              "      <td>These Foolish Things [jazz1350]</td>\n",
              "      <td>1168</td>\n",
              "      <td>Folks Who Live On The Hill, The [jazz1350]</td>\n",
              "      <td>0.942871</td>\n",
              "      <td>0.974755</td>\n",
              "      <td>0.967291</td>\n",
              "      <td>390</td>\n",
              "    </tr>\n",
              "    <tr>\n",
              "      <th>16</th>\n",
              "      <td>16</td>\n",
              "      <td>These Foolish Things [jazz1350]</td>\n",
              "      <td>1168</td>\n",
              "      <td>If There Is Someone Lovelier [jazz1350]</td>\n",
              "      <td>0.942082</td>\n",
              "      <td>0.974755</td>\n",
              "      <td>0.966481</td>\n",
              "      <td>582</td>\n",
              "    </tr>\n",
              "    <tr>\n",
              "      <th>17</th>\n",
              "      <td>17</td>\n",
              "      <td>These Foolish Things [jazz1350]</td>\n",
              "      <td>1168</td>\n",
              "      <td>It's A Lovely Day Today [jazz1350]</td>\n",
              "      <td>0.941636</td>\n",
              "      <td>0.974755</td>\n",
              "      <td>0.966024</td>\n",
              "      <td>632</td>\n",
              "    </tr>\n",
              "    <tr>\n",
              "      <th>18</th>\n",
              "      <td>18</td>\n",
              "      <td>These Foolish Things [jazz1350]</td>\n",
              "      <td>1168</td>\n",
              "      <td>Manhattan [jazz1350]</td>\n",
              "      <td>0.920751</td>\n",
              "      <td>0.954669</td>\n",
              "      <td>0.964472</td>\n",
              "      <td>774</td>\n",
              "    </tr>\n",
              "    <tr>\n",
              "      <th>19</th>\n",
              "      <td>19</td>\n",
              "      <td>These Foolish Things [jazz1350]</td>\n",
              "      <td>1168</td>\n",
              "      <td>Heart And Soul [jazz1350]</td>\n",
              "      <td>0.934199</td>\n",
              "      <td>0.974755</td>\n",
              "      <td>0.964457</td>\n",
              "      <td>457</td>\n",
              "    </tr>\n",
              "    <tr>\n",
              "      <th>20</th>\n",
              "      <td>20</td>\n",
              "      <td>These Foolish Things [jazz1350]</td>\n",
              "      <td>1168</td>\n",
              "      <td>For Once In My Life [jazz1350]</td>\n",
              "      <td>0.919239</td>\n",
              "      <td>0.954669</td>\n",
              "      <td>0.962888</td>\n",
              "      <td>397</td>\n",
              "    </tr>\n",
              "    <tr>\n",
              "      <th>21</th>\n",
              "      <td>21</td>\n",
              "      <td>These Foolish Things [jazz1350]</td>\n",
              "      <td>1168</td>\n",
              "      <td>Danny Boy [jazz1350]</td>\n",
              "      <td>0.934685</td>\n",
              "      <td>0.974755</td>\n",
              "      <td>0.962888</td>\n",
              "      <td>280</td>\n",
              "    </tr>\n",
              "    <tr>\n",
              "      <th>22</th>\n",
              "      <td>22</td>\n",
              "      <td>These Foolish Things [jazz1350]</td>\n",
              "      <td>1168</td>\n",
              "      <td>Taking A Chance On Love [jazz1350]</td>\n",
              "      <td>0.919145</td>\n",
              "      <td>0.954669</td>\n",
              "      <td>0.962790</td>\n",
              "      <td>1144</td>\n",
              "    </tr>\n",
              "    <tr>\n",
              "      <th>23</th>\n",
              "      <td>23</td>\n",
              "      <td>These Foolish Things [jazz1350]</td>\n",
              "      <td>1168</td>\n",
              "      <td>I Gotta Right To Sing The Blues [jazz1350]</td>\n",
              "      <td>0.918176</td>\n",
              "      <td>0.954669</td>\n",
              "      <td>0.961775</td>\n",
              "      <td>507</td>\n",
              "    </tr>\n",
              "    <tr>\n",
              "      <th>24</th>\n",
              "      <td>24</td>\n",
              "      <td>These Foolish Things [jazz1350]</td>\n",
              "      <td>1168</td>\n",
              "      <td>Miss Otis Regrets [trad]</td>\n",
              "      <td>0.936418</td>\n",
              "      <td>0.974755</td>\n",
              "      <td>0.960671</td>\n",
              "      <td>1609</td>\n",
              "    </tr>\n",
              "    <tr>\n",
              "      <th>25</th>\n",
              "      <td>25</td>\n",
              "      <td>These Foolish Things [jazz1350]</td>\n",
              "      <td>1168</td>\n",
              "      <td>Too Young To Go Steady [jazz1350]</td>\n",
              "      <td>0.916578</td>\n",
              "      <td>0.972306</td>\n",
              "      <td>0.960101</td>\n",
              "      <td>1203</td>\n",
              "    </tr>\n",
              "    <tr>\n",
              "      <th>26</th>\n",
              "      <td>26</td>\n",
              "      <td>These Foolish Things [jazz1350]</td>\n",
              "      <td>1168</td>\n",
              "      <td>Beyond The Sea [jazz1350]</td>\n",
              "      <td>0.932874</td>\n",
              "      <td>0.974755</td>\n",
              "      <td>0.958333</td>\n",
              "      <td>134</td>\n",
              "    </tr>\n",
              "    <tr>\n",
              "      <th>27</th>\n",
              "      <td>27</td>\n",
              "      <td>These Foolish Things [jazz1350]</td>\n",
              "      <td>1168</td>\n",
              "      <td>You Keep Coming Back Like A Song [jazz1350]</td>\n",
              "      <td>0.933722</td>\n",
              "      <td>0.974755</td>\n",
              "      <td>0.957905</td>\n",
              "      <td>1317</td>\n",
              "    </tr>\n",
              "    <tr>\n",
              "      <th>28</th>\n",
              "      <td>28</td>\n",
              "      <td>These Foolish Things [jazz1350]</td>\n",
              "      <td>1168</td>\n",
              "      <td>I'm Old Fashioned [jazz1350]</td>\n",
              "      <td>0.913908</td>\n",
              "      <td>0.954669</td>\n",
              "      <td>0.957304</td>\n",
              "      <td>560</td>\n",
              "    </tr>\n",
              "    <tr>\n",
              "      <th>29</th>\n",
              "      <td>29</td>\n",
              "      <td>These Foolish Things [jazz1350]</td>\n",
              "      <td>1168</td>\n",
              "      <td>For You, For Me, For Evermore [jazz1350]</td>\n",
              "      <td>0.932298</td>\n",
              "      <td>0.974755</td>\n",
              "      <td>0.956444</td>\n",
              "      <td>399</td>\n",
              "    </tr>\n",
              "  </tbody>\n",
              "</table>\n",
              "</div>"
            ],
            "text/plain": [
              "    index                        reference  ...  score_div_max similar_titleid\n",
              "0       0  These Foolish Things [jazz1350]  ...       1.000000            1253\n",
              "1       1  These Foolish Things [jazz1350]  ...       1.000000             829\n",
              "2       2  These Foolish Things [jazz1350]  ...       1.000000             520\n",
              "3       3  These Foolish Things [jazz1350]  ...       0.997175             637\n",
              "4       4  These Foolish Things [jazz1350]  ...       0.986963            1097\n",
              "5       5  These Foolish Things [jazz1350]  ...       0.983539             935\n",
              "6       6  These Foolish Things [jazz1350]  ...       0.977008             996\n",
              "7       7  These Foolish Things [jazz1350]  ...       0.977008            1676\n",
              "8       8  These Foolish Things [jazz1350]  ...       0.975609            1169\n",
              "9       9  These Foolish Things [jazz1350]  ...       0.972222              78\n",
              "10     10  These Foolish Things [jazz1350]  ...       0.971464             708\n",
              "11     11  These Foolish Things [jazz1350]  ...       0.970287             132\n",
              "12     12  These Foolish Things [jazz1350]  ...       0.970286             343\n",
              "13     13  These Foolish Things [jazz1350]  ...       0.969782              75\n",
              "14     14  These Foolish Things [jazz1350]  ...       0.968143            1286\n",
              "15     15  These Foolish Things [jazz1350]  ...       0.967291             390\n",
              "16     16  These Foolish Things [jazz1350]  ...       0.966481             582\n",
              "17     17  These Foolish Things [jazz1350]  ...       0.966024             632\n",
              "18     18  These Foolish Things [jazz1350]  ...       0.964472             774\n",
              "19     19  These Foolish Things [jazz1350]  ...       0.964457             457\n",
              "20     20  These Foolish Things [jazz1350]  ...       0.962888             397\n",
              "21     21  These Foolish Things [jazz1350]  ...       0.962888             280\n",
              "22     22  These Foolish Things [jazz1350]  ...       0.962790            1144\n",
              "23     23  These Foolish Things [jazz1350]  ...       0.961775             507\n",
              "24     24  These Foolish Things [jazz1350]  ...       0.960671            1609\n",
              "25     25  These Foolish Things [jazz1350]  ...       0.960101            1203\n",
              "26     26  These Foolish Things [jazz1350]  ...       0.958333             134\n",
              "27     27  These Foolish Things [jazz1350]  ...       0.957905            1317\n",
              "28     28  These Foolish Things [jazz1350]  ...       0.957304             560\n",
              "29     29  These Foolish Things [jazz1350]  ...       0.956444             399\n",
              "\n",
              "[30 rows x 8 columns]"
            ]
          },
          "metadata": {},
          "execution_count": 73
        }
      ]
    },
    {
      "cell_type": "code",
      "metadata": {
        "id": "15ZsHOQmyyah"
      },
      "source": [
        "dd = pd.DataFrame(columns = recommender_results_cols)\n",
        "\n",
        "for tune in tunes_eval_list:\n",
        "  result, details = recommend_tune(df_sim, tune)\n",
        "  dd['id'] = result['index']\n",
        "  dd['reference'] = tune\n",
        "  dd['method'] = 'lsi'\n",
        "  dd['similar'] = result['similar_title']\n",
        "  dd['score_div_max'] = result['score_div_max']\n",
        "  dd['score'] = result['score']\n",
        "\n",
        "recommender_results = recommender_results.append(dd)"
      ],
      "execution_count": 74,
      "outputs": []
    },
    {
      "cell_type": "markdown",
      "metadata": {
        "id": "Ojrjp11ni6Pl"
      },
      "source": [
        "### Tests for Contrafacts"
      ]
    },
    {
      "cell_type": "code",
      "metadata": {
        "colab": {
          "base_uri": "https://localhost:8080/"
        },
        "id": "D0_7m1qji6A-",
        "outputId": "ef03d91b-fc9d-45a1-892f-1f61178b0964"
      },
      "source": [
        "topN = 15\n",
        "matches, results = test_contrafacts(contrafacts, index_lsi, lsi, topN)\n",
        "\n",
        "[print(f\"{val}: {rr}\") for rr, val in results.items()] \n",
        "print() \n",
        "print(f\"Found matches: {matches} out of {len(contrafacts)}: {100*matches/len(contrafacts):.3f}%\")"
      ],
      "execution_count": 75,
      "outputs": [
        {
          "output_type": "stream",
          "name": "stdout",
          "text": [
            "1: 26-2 [jazz1350]\n",
            "0: 52nd Street Theme [jazz1350]\n",
            "1: Ablution [jazz1350]\n",
            "1: Anthropology [jazz1350]\n",
            "0: Ballade [jazz1350]\n",
            "1: Bright Mississippi [jazz1350]\n",
            "1: C.T.A. [jazz1350]\n",
            "1: Cottontail [jazz1350]\n",
            "0: Countdown [jazz1350]\n",
            "0: Dewey Square [jazz1350]\n",
            "1: Dexterity [jazz1350]\n",
            "1: Dig [jazz1350]\n",
            "1: Donna Lee [jazz1350]\n",
            "0: Don't Be That Way [jazz1350]\n",
            "1: Evidence [jazz1350]\n",
            "1: Flintstones [jazz1350]\n",
            "1: Four On Six [jazz1350]\n",
            "1: Freight Train [jazz1350]\n",
            "0: Good Bait [jazz1350]\n",
            "0: Hackensack [jazz1350]\n",
            "1: Half Nelson [jazz1350]\n",
            "1: Hot House [jazz1350]\n",
            "1: Impressions [jazz1350]\n",
            "1: In A Mellow Tone (In A Mellotone) [jazz1350]\n",
            "1: In Walked Bud [jazz1350]\n",
            "1: Ko Ko [jazz1350]\n",
            "0: Lennie's Pennies [jazz1350]\n",
            "0: Little Rootie Tootie [jazz1350]\n",
            "0: Little Willie Leaps [jazz1350]\n",
            "0: Lullaby Of Birdland [jazz1350]\n",
            "0: My Little Suede Shoes [jazz1350]\n",
            "1: Ornithology [jazz1350]\n",
            "0: Quasimodo (Theme) [jazz1350]\n",
            "0: Room 608 [jazz1350]\n",
            "1: Satellite [jazz1350]\n",
            "1: Scrapple From The Apple [jazz1350]\n",
            "1: Tour De Force [jazz1350]\n",
            "0: Wow [jazz1350]\n",
            "1: Yardbird Suite [jazz1350]\n",
            "0: Sweet Sue, Just You [jazz1350]\n",
            "1: These Foolish Things [jazz1350]\n",
            "1: Misty [jazz1350]\n",
            "\n",
            "Found matches: 26 out of 42: 61.905%\n"
          ]
        }
      ]
    },
    {
      "cell_type": "code",
      "metadata": {
        "id": "RS7LsLASi5-f"
      },
      "source": [
        "model_name = 'lsi'\n",
        "if use_wandb:\n",
        "  wandb.log(\n",
        "      {model_name: {\n",
        "                'contrafacts': {\n",
        "                    'topN': topN,\n",
        "                    'success': matches/len(contrafacts),\n",
        "                    #'results': results\n",
        "                    }\n",
        "                   },\n",
        "       'all_models': {\n",
        "           model_name: wandb.Table(\n",
        "               columns=[\"Title\", \"Match\"],\n",
        "               data=[[key, value] for key, value in results.items()]),\n",
        "       }\n",
        "       })"
      ],
      "execution_count": 76,
      "outputs": []
    },
    {
      "cell_type": "markdown",
      "metadata": {
        "id": "AjZArSmyooWt"
      },
      "source": [
        "### Get Recommender Data for WebApp"
      ]
    },
    {
      "cell_type": "code",
      "metadata": {
        "colab": {
          "base_uri": "https://localhost:8080/"
        },
        "id": "JOBtj15donxK",
        "outputId": "710935c4-f0db-4464-bd84-29690264e8c7"
      },
      "source": [
        "%%time\n",
        "if generate_webapp_data:\n",
        "  _tunes = tunes_eval_list\n",
        "\n",
        "  df_sim = get_sim_scores(_tunes, index=index_lsi, model=lsi)\n",
        "\n",
        "  result = None\n",
        "  for tune in _tunes:\n",
        "    tune_result, details = recommend_tune(df_sim, tune)\n",
        "    if result is None:\n",
        "      result = pd.DataFrame(columns=tune_result.columns)\n",
        "    result = result.append(tune_result)\n",
        "\n",
        "  # save to file\n",
        "  result.to_csv('output/recommender_lsi.csv', sep='\\t', encoding='utf8')\n",
        "\n",
        "  # save to W&B\n",
        "  if use_wandb:\n",
        "    model_artifact = wandb.Artifact(\n",
        "        \"recommender_lsi\", \n",
        "        type=\"csv\",\n",
        "        description=\"Recommendations for each Tune using LSI Model (csv file)\",\n",
        "        metadata=\"\")\n",
        "\n",
        "    model_artifact.add_file('output/recommender_lsi.csv')\n",
        "    wandb.log_artifact(model_artifact)"
      ],
      "execution_count": 77,
      "outputs": [
        {
          "output_type": "stream",
          "name": "stdout",
          "text": [
            "CPU times: user 3 µs, sys: 1e+03 ns, total: 4 µs\n",
            "Wall time: 8.11 µs\n"
          ]
        }
      ]
    },
    {
      "cell_type": "markdown",
      "metadata": {
        "id": "lTQKfd0xQQ65"
      },
      "source": [
        "## Store Model to W&B"
      ]
    },
    {
      "cell_type": "code",
      "metadata": {
        "id": "RfAYF7ArQUXo"
      },
      "source": [
        "if use_wandb:\n",
        "  model_artifact = wandb.Artifact(\n",
        "      \"model_lsi\", \n",
        "      type=\"model\",\n",
        "      description=\"LSI model\",\n",
        "      metadata=\"\")\n",
        "\n",
        "  model_artifact.add_file(\"/content/index/lsi.model\")\n",
        "  model_artifact.add_file(\"/content/index/lsi_matrixsim.index\")\n",
        "  model_artifact.add_file(\"/content/index/lsi.model.projection\")\n",
        "  wandb.log_artifact(model_artifact)"
      ],
      "execution_count": 78,
      "outputs": []
    },
    {
      "cell_type": "markdown",
      "metadata": {
        "id": "asScIocQRMPA"
      },
      "source": [
        "## Determine Number of Topics for LSI Model\n",
        "\n",
        "This sample comes from Datacamp: \n",
        "\n",
        "https://www.datacamp.com/community/tutorials/discovering-hidden-topics-python\n"
      ]
    },
    {
      "cell_type": "markdown",
      "metadata": {
        "id": "1TPNWFEPSxZ-"
      },
      "source": [
        "What is the best way to determine k (number of topics) in topic modeling? Identify the optimum number of topics in the given corpus text is a challenging task. We can use the following options for determining the optimum number of topics:\n",
        "\n",
        "* One way to determine the optimum number of topics is to consider each topic as a cluster and find out the effectiveness of a cluster using the Silhouette coefficient.\n",
        "* Topic coherence measure is a realistic measure for identifying the number of topics.\n",
        "\n",
        "Topic Coherence measure is a widely used metric to evaluate topic models. It uses the latent variable models. Each generated topic has a list of words. In topic coherence measure, you will find average/median of pairwise word similarity scores of the words in a topic. The high value of topic coherence score model will be considered as a good topic model. "
      ]
    },
    {
      "cell_type": "code",
      "metadata": {
        "id": "umpCyQQzRLgv"
      },
      "source": [
        "def prepare_corpus(doc_clean):\n",
        "    \"\"\"\n",
        "    Input  : clean document\n",
        "    Purpose: create term dictionary of our courpus and Converting list of documents (corpus) into Document Term Matrix\n",
        "    Output : term dictionary and Document Term Matrix\n",
        "    \"\"\"\n",
        "    # Creating the term dictionary of our courpus, where every unique term is assigned an index. dictionary = corpora.Dictionary(doc_clean)\n",
        "    dictionary = corpora.Dictionary(doc_clean)\n",
        "    # Converting list of documents (corpus) into Document Term Matrix using dictionary prepared above.\n",
        "    doc_term_matrix = [dictionary.doc2bow(doc) for doc in doc_clean]\n",
        "    # generate LDA model\n",
        "    return dictionary, doc_term_matrix"
      ],
      "execution_count": 79,
      "outputs": []
    },
    {
      "cell_type": "code",
      "metadata": {
        "id": "aS2wxIEERcul"
      },
      "source": [
        "def compute_coherence_values(dictionary, doc_term_matrix, doc_clean, stop, start=2, step=3):\n",
        "    \"\"\"\n",
        "    Input   : dictionary : Gensim dictionary\n",
        "              corpus : Gensim corpus\n",
        "              texts : List of input texts\n",
        "              stop : Max num of topics\n",
        "    purpose : Compute c_v coherence for various number of topics\n",
        "    Output  : model_list : List of LSA topic models\n",
        "              coherence_values : Coherence values corresponding to the LDA model with respective number of topics\n",
        "    \"\"\"\n",
        "    coherence_values = []\n",
        "    model_list = []\n",
        "    for num_topics in range(start, stop, step):\n",
        "        # generate LSA model\n",
        "        model = LsiModel(doc_term_matrix, num_topics=num_topics, id2word = dictionary)  # train model\n",
        "        model_list.append(model)\n",
        "        coherencemodel = CoherenceModel(model=model, texts=doc_clean, dictionary=dictionary, coherence='c_v')\n",
        "        coherence_values.append(coherencemodel.get_coherence())\n",
        "    return model_list, coherence_values"
      ],
      "execution_count": 80,
      "outputs": []
    },
    {
      "cell_type": "code",
      "metadata": {
        "id": "DjyzAzWBRfrH"
      },
      "source": [
        "def plot_graph(doc_clean,start, stop, step):\n",
        "    dictionary, doc_term_matrix = prepare_corpus(doc_clean)\n",
        "    model_list, coherence_values = compute_coherence_values(dictionary, doc_term_matrix,doc_clean,\n",
        "                                                            stop, start, step)\n",
        "    # Show graph\n",
        "    x = range(start, stop, step)\n",
        "    plt.plot(x, coherence_values)\n",
        "    plt.xlabel(\"Number of Topics\")\n",
        "    plt.ylabel(\"Coherence score\")\n",
        "    plt.legend((\"coherence_values\"), loc='best')\n",
        "    plt.show()"
      ],
      "execution_count": 81,
      "outputs": []
    },
    {
      "cell_type": "code",
      "metadata": {
        "id": "qy9ZjdcmRhxs"
      },
      "source": [
        "# evaluate a good number of topics for the LSI Model. This takes some time.\n",
        "\n",
        "if False:\n",
        "\n",
        "  start, stop, step = 1, 500, 10\n",
        "  plot_graph(data, start, stop, step)"
      ],
      "execution_count": 82,
      "outputs": []
    },
    {
      "cell_type": "markdown",
      "metadata": {
        "id": "Qo5NgBHFlqgg"
      },
      "source": [
        "For unigrams, the best number of topics seems to be around 20.\n",
        "\n",
        "For unigrams plus bigrams, the coherence score drops down until 100 and then continuously rises until 500 and continues to rise. Same for bigrams-only."
      ]
    },
    {
      "cell_type": "markdown",
      "metadata": {
        "id": "rF_INicGhXKd"
      },
      "source": [
        "# Doc2Vec"
      ]
    },
    {
      "cell_type": "code",
      "metadata": {
        "id": "wflSccBshkIk"
      },
      "source": [
        "def get_tagged_documents(corpus, tags=None):\n",
        "  if tags == 'SectionsTunes':\n",
        "    print('Tagging input data with both section and tune information.')\n",
        "  else:\n",
        "    print('Tagging input data with section informaiton only.')\n",
        "    \n",
        "  for i, tokens in enumerate(corpus):\n",
        "    if tags == 'SectionsTunes':\n",
        "      yield gensim.models.doc2vec.TaggedDocument(tokens, [i, f'titleid_{sectionid_to_titleid[i]}'])\n",
        "    else:\n",
        "      yield gensim.models.doc2vec.TaggedDocument(tokens, [i])  # diatonic chord distance is a bit better"
      ],
      "execution_count": 83,
      "outputs": []
    },
    {
      "cell_type": "code",
      "metadata": {
        "colab": {
          "base_uri": "https://localhost:8080/"
        },
        "id": "_u0RdBI1kYD9",
        "outputId": "6a91dfeb-a09f-4ca7-8ceb-a144f3474bc8"
      },
      "source": [
        "train_corpus = list(get_tagged_documents(processed_corpus, doc2vec_config['general']['document_tags']))\n",
        "train_corpus[1000]"
      ],
      "execution_count": 84,
      "outputs": [
        {
          "output_type": "stream",
          "name": "stdout",
          "text": [
            "Tagging input data with both section and tune information.\n"
          ]
        },
        {
          "output_type": "execute_result",
          "data": {
            "text/plain": [
              "TaggedDocument(words=['C', 'Am', 'Dm', 'G7', 'C', 'F', 'C', 'Am', 'Dm', 'G7', 'C', 'Dm', 'G7'], tags=[1000, 'titleid_308'])"
            ]
          },
          "metadata": {},
          "execution_count": 84
        }
      ]
    },
    {
      "cell_type": "code",
      "metadata": {
        "colab": {
          "base_uri": "https://localhost:8080/"
        },
        "id": "M9adPoy9reaw",
        "outputId": "f194d89d-09e3-4f57-c08a-2fe17e23e88f"
      },
      "source": [
        "import multiprocessing\n",
        "\n",
        "print(f\"CPU Count: {multiprocessing.cpu_count()}\")\n",
        "print(f\"Config:\")\n",
        "print(doc2vec_config['model'])\n",
        "\n",
        "model = Doc2Vec(train_corpus,\n",
        "                **doc2vec_config['model']\n",
        "                )"
      ],
      "execution_count": 85,
      "outputs": [
        {
          "output_type": "stream",
          "name": "stderr",
          "text": [
            "2021-11-26 21:54:50,756 : INFO : collecting all words and their counts\n",
            "2021-11-26 21:54:50,762 : INFO : PROGRESS: at example #0, processed 0 words (0/s), 0 word types, 0 tags\n",
            "2021-11-26 21:54:50,841 : INFO : collected 72 word types and 7200 unique tags from a corpus of 5391 examples and 82622 words\n",
            "2021-11-26 21:54:50,845 : INFO : Creating a fresh vocabulary\n",
            "2021-11-26 21:54:50,850 : INFO : Doc2Vec lifecycle event {'msg': 'effective_min_count=1 retains 72 unique words (100.0%% of original 72, drops 0)', 'datetime': '2021-11-26T21:54:50.850832', 'gensim': '4.1.2', 'python': '3.7.12 (default, Sep 10 2021, 00:21:48) \\n[GCC 7.5.0]', 'platform': 'Linux-5.4.104+-x86_64-with-Ubuntu-18.04-bionic', 'event': 'prepare_vocab'}\n",
            "2021-11-26 21:54:50,856 : INFO : Doc2Vec lifecycle event {'msg': 'effective_min_count=1 leaves 82622 word corpus (100.0%% of original 82622, drops 0)', 'datetime': '2021-11-26T21:54:50.856232', 'gensim': '4.1.2', 'python': '3.7.12 (default, Sep 10 2021, 00:21:48) \\n[GCC 7.5.0]', 'platform': 'Linux-5.4.104+-x86_64-with-Ubuntu-18.04-bionic', 'event': 'prepare_vocab'}\n",
            "2021-11-26 21:54:50,860 : INFO : deleting the raw counts dictionary of 72 items\n",
            "2021-11-26 21:54:50,867 : INFO : sample=0.001 downsamples 40 most-common words\n",
            "2021-11-26 21:54:50,870 : INFO : Doc2Vec lifecycle event {'msg': 'downsampling leaves estimated 18531.453689281494 word corpus (22.4%% of prior 82622)', 'datetime': '2021-11-26T21:54:50.870320', 'gensim': '4.1.2', 'python': '3.7.12 (default, Sep 10 2021, 00:21:48) \\n[GCC 7.5.0]', 'platform': 'Linux-5.4.104+-x86_64-with-Ubuntu-18.04-bionic', 'event': 'prepare_vocab'}\n",
            "2021-11-26 21:54:50,875 : INFO : estimated required memory for 72 words and 100 dimensions: 4413600 bytes\n",
            "2021-11-26 21:54:50,877 : INFO : resetting layer weights\n",
            "2021-11-26 21:54:50,887 : INFO : Doc2Vec lifecycle event {'msg': 'training model with 3 workers on 72 vocabulary and 100 features, using sg=0 hs=0 sample=0.001 negative=10 window=4 shrink_windows=True', 'datetime': '2021-11-26T21:54:50.887704', 'gensim': '4.1.2', 'python': '3.7.12 (default, Sep 10 2021, 00:21:48) \\n[GCC 7.5.0]', 'platform': 'Linux-5.4.104+-x86_64-with-Ubuntu-18.04-bionic', 'event': 'train'}\n"
          ]
        },
        {
          "output_type": "stream",
          "name": "stdout",
          "text": [
            "CPU Count: 2\n",
            "Config:\n",
            "{'dm': 1, 'vector_size': 100, 'window': 4, 'epochs': 40, 'min_count': 1, 'negative': 10, 'sample': 0.001, 'seed': 42}\n"
          ]
        },
        {
          "output_type": "stream",
          "name": "stderr",
          "text": [
            "2021-11-26 21:54:51,613 : INFO : worker thread finished; awaiting finish of 2 more threads\n",
            "2021-11-26 21:54:51,663 : INFO : worker thread finished; awaiting finish of 1 more threads\n",
            "2021-11-26 21:54:51,670 : INFO : worker thread finished; awaiting finish of 0 more threads\n",
            "2021-11-26 21:54:51,671 : INFO : EPOCH - 1 : training on 82622 raw words (29662 effective words) took 0.8s, 38583 effective words/s\n",
            "2021-11-26 21:54:52,334 : INFO : worker thread finished; awaiting finish of 2 more threads\n",
            "2021-11-26 21:54:52,410 : INFO : worker thread finished; awaiting finish of 1 more threads\n",
            "2021-11-26 21:54:52,418 : INFO : worker thread finished; awaiting finish of 0 more threads\n",
            "2021-11-26 21:54:52,419 : INFO : EPOCH - 2 : training on 82622 raw words (29324 effective words) took 0.7s, 39819 effective words/s\n",
            "2021-11-26 21:54:53,099 : INFO : worker thread finished; awaiting finish of 2 more threads\n",
            "2021-11-26 21:54:53,191 : INFO : worker thread finished; awaiting finish of 1 more threads\n",
            "2021-11-26 21:54:53,203 : INFO : worker thread finished; awaiting finish of 0 more threads\n",
            "2021-11-26 21:54:53,205 : INFO : EPOCH - 3 : training on 82622 raw words (29194 effective words) took 0.8s, 37739 effective words/s\n",
            "2021-11-26 21:54:53,995 : INFO : worker thread finished; awaiting finish of 2 more threads\n",
            "2021-11-26 21:54:54,073 : INFO : worker thread finished; awaiting finish of 1 more threads\n",
            "2021-11-26 21:54:54,087 : INFO : worker thread finished; awaiting finish of 0 more threads\n",
            "2021-11-26 21:54:54,089 : INFO : EPOCH - 4 : training on 82622 raw words (29342 effective words) took 0.9s, 33770 effective words/s\n",
            "2021-11-26 21:54:55,053 : INFO : worker thread finished; awaiting finish of 2 more threads\n",
            "2021-11-26 21:54:55,122 : INFO : EPOCH 5 - PROGRESS: at 89.50% examples, 26063 words/s, in_qsize 1, out_qsize 1\n",
            "2021-11-26 21:54:55,131 : INFO : worker thread finished; awaiting finish of 1 more threads\n",
            "2021-11-26 21:54:55,134 : INFO : worker thread finished; awaiting finish of 0 more threads\n",
            "2021-11-26 21:54:55,136 : INFO : EPOCH - 5 : training on 82622 raw words (29445 effective words) took 1.0s, 28634 effective words/s\n",
            "2021-11-26 21:54:56,041 : INFO : worker thread finished; awaiting finish of 2 more threads\n",
            "2021-11-26 21:54:56,099 : INFO : worker thread finished; awaiting finish of 1 more threads\n",
            "2021-11-26 21:54:56,110 : INFO : worker thread finished; awaiting finish of 0 more threads\n",
            "2021-11-26 21:54:56,113 : INFO : EPOCH - 6 : training on 82622 raw words (29302 effective words) took 1.0s, 30621 effective words/s\n",
            "2021-11-26 21:54:56,925 : INFO : worker thread finished; awaiting finish of 2 more threads\n",
            "2021-11-26 21:54:57,015 : INFO : worker thread finished; awaiting finish of 1 more threads\n",
            "2021-11-26 21:54:57,030 : INFO : worker thread finished; awaiting finish of 0 more threads\n",
            "2021-11-26 21:54:57,032 : INFO : EPOCH - 7 : training on 82622 raw words (29287 effective words) took 0.9s, 32456 effective words/s\n",
            "2021-11-26 21:54:57,935 : INFO : worker thread finished; awaiting finish of 2 more threads\n",
            "2021-11-26 21:54:58,075 : INFO : EPOCH 8 - PROGRESS: at 89.50% examples, 25749 words/s, in_qsize 1, out_qsize 1\n",
            "2021-11-26 21:54:58,095 : INFO : worker thread finished; awaiting finish of 1 more threads\n",
            "2021-11-26 21:54:58,114 : INFO : worker thread finished; awaiting finish of 0 more threads\n",
            "2021-11-26 21:54:58,118 : INFO : EPOCH - 8 : training on 82622 raw words (29318 effective words) took 1.1s, 27552 effective words/s\n",
            "2021-11-26 21:54:59,139 : INFO : worker thread finished; awaiting finish of 2 more threads\n",
            "2021-11-26 21:54:59,227 : INFO : EPOCH 9 - PROGRESS: at 89.50% examples, 24518 words/s, in_qsize 1, out_qsize 1\n",
            "2021-11-26 21:54:59,231 : INFO : worker thread finished; awaiting finish of 1 more threads\n",
            "2021-11-26 21:54:59,244 : INFO : worker thread finished; awaiting finish of 0 more threads\n",
            "2021-11-26 21:54:59,250 : INFO : EPOCH - 9 : training on 82622 raw words (29313 effective words) took 1.1s, 26752 effective words/s\n",
            "2021-11-26 21:55:00,147 : INFO : worker thread finished; awaiting finish of 2 more threads\n",
            "2021-11-26 21:55:00,231 : INFO : worker thread finished; awaiting finish of 1 more threads\n",
            "2021-11-26 21:55:00,245 : INFO : worker thread finished; awaiting finish of 0 more threads\n",
            "2021-11-26 21:55:00,248 : INFO : EPOCH - 10 : training on 82622 raw words (29252 effective words) took 1.0s, 29757 effective words/s\n",
            "2021-11-26 21:55:01,098 : INFO : worker thread finished; awaiting finish of 2 more threads\n",
            "2021-11-26 21:55:01,179 : INFO : worker thread finished; awaiting finish of 1 more threads\n",
            "2021-11-26 21:55:01,188 : INFO : worker thread finished; awaiting finish of 0 more threads\n",
            "2021-11-26 21:55:01,191 : INFO : EPOCH - 11 : training on 82622 raw words (29256 effective words) took 0.9s, 31665 effective words/s\n",
            "2021-11-26 21:55:02,084 : INFO : worker thread finished; awaiting finish of 2 more threads\n",
            "2021-11-26 21:55:02,125 : INFO : worker thread finished; awaiting finish of 1 more threads\n",
            "2021-11-26 21:55:02,134 : INFO : worker thread finished; awaiting finish of 0 more threads\n",
            "2021-11-26 21:55:02,138 : INFO : EPOCH - 12 : training on 82622 raw words (29310 effective words) took 0.9s, 31482 effective words/s\n",
            "2021-11-26 21:55:02,897 : INFO : worker thread finished; awaiting finish of 2 more threads\n",
            "2021-11-26 21:55:02,962 : INFO : worker thread finished; awaiting finish of 1 more threads\n",
            "2021-11-26 21:55:02,975 : INFO : worker thread finished; awaiting finish of 0 more threads\n",
            "2021-11-26 21:55:02,977 : INFO : EPOCH - 13 : training on 82622 raw words (29398 effective words) took 0.8s, 35834 effective words/s\n",
            "2021-11-26 21:55:03,632 : INFO : worker thread finished; awaiting finish of 2 more threads\n",
            "2021-11-26 21:55:03,671 : INFO : worker thread finished; awaiting finish of 1 more threads\n",
            "2021-11-26 21:55:03,688 : INFO : worker thread finished; awaiting finish of 0 more threads\n",
            "2021-11-26 21:55:03,690 : INFO : EPOCH - 14 : training on 82622 raw words (29383 effective words) took 0.7s, 42155 effective words/s\n",
            "2021-11-26 21:55:04,317 : INFO : worker thread finished; awaiting finish of 2 more threads\n",
            "2021-11-26 21:55:04,378 : INFO : worker thread finished; awaiting finish of 1 more threads\n",
            "2021-11-26 21:55:04,385 : INFO : worker thread finished; awaiting finish of 0 more threads\n",
            "2021-11-26 21:55:04,387 : INFO : EPOCH - 15 : training on 82622 raw words (29393 effective words) took 0.7s, 43150 effective words/s\n",
            "2021-11-26 21:55:05,094 : INFO : worker thread finished; awaiting finish of 2 more threads\n",
            "2021-11-26 21:55:05,163 : INFO : worker thread finished; awaiting finish of 1 more threads\n",
            "2021-11-26 21:55:05,173 : INFO : worker thread finished; awaiting finish of 0 more threads\n",
            "2021-11-26 21:55:05,176 : INFO : EPOCH - 16 : training on 82622 raw words (29461 effective words) took 0.8s, 37980 effective words/s\n",
            "2021-11-26 21:55:05,929 : INFO : worker thread finished; awaiting finish of 2 more threads\n",
            "2021-11-26 21:55:06,003 : INFO : worker thread finished; awaiting finish of 1 more threads\n",
            "2021-11-26 21:55:06,013 : INFO : worker thread finished; awaiting finish of 0 more threads\n",
            "2021-11-26 21:55:06,014 : INFO : EPOCH - 17 : training on 82622 raw words (29371 effective words) took 0.8s, 35791 effective words/s\n",
            "2021-11-26 21:55:06,710 : INFO : worker thread finished; awaiting finish of 2 more threads\n",
            "2021-11-26 21:55:06,766 : INFO : worker thread finished; awaiting finish of 1 more threads\n",
            "2021-11-26 21:55:06,774 : INFO : worker thread finished; awaiting finish of 0 more threads\n",
            "2021-11-26 21:55:06,776 : INFO : EPOCH - 18 : training on 82622 raw words (29343 effective words) took 0.7s, 39489 effective words/s\n",
            "2021-11-26 21:55:07,463 : INFO : worker thread finished; awaiting finish of 2 more threads\n",
            "2021-11-26 21:55:07,528 : INFO : worker thread finished; awaiting finish of 1 more threads\n",
            "2021-11-26 21:55:07,541 : INFO : worker thread finished; awaiting finish of 0 more threads\n",
            "2021-11-26 21:55:07,543 : INFO : EPOCH - 19 : training on 82622 raw words (29397 effective words) took 0.8s, 38988 effective words/s\n",
            "2021-11-26 21:55:08,303 : INFO : worker thread finished; awaiting finish of 2 more threads\n",
            "2021-11-26 21:55:08,341 : INFO : worker thread finished; awaiting finish of 1 more threads\n",
            "2021-11-26 21:55:08,354 : INFO : worker thread finished; awaiting finish of 0 more threads\n",
            "2021-11-26 21:55:08,358 : INFO : EPOCH - 20 : training on 82622 raw words (29424 effective words) took 0.8s, 36762 effective words/s\n",
            "2021-11-26 21:55:09,211 : INFO : worker thread finished; awaiting finish of 2 more threads\n",
            "2021-11-26 21:55:09,310 : INFO : worker thread finished; awaiting finish of 1 more threads\n",
            "2021-11-26 21:55:09,320 : INFO : worker thread finished; awaiting finish of 0 more threads\n",
            "2021-11-26 21:55:09,323 : INFO : EPOCH - 21 : training on 82622 raw words (29197 effective words) took 0.9s, 31202 effective words/s\n",
            "2021-11-26 21:55:10,059 : INFO : worker thread finished; awaiting finish of 2 more threads\n",
            "2021-11-26 21:55:10,127 : INFO : worker thread finished; awaiting finish of 1 more threads\n",
            "2021-11-26 21:55:10,133 : INFO : worker thread finished; awaiting finish of 0 more threads\n",
            "2021-11-26 21:55:10,134 : INFO : EPOCH - 22 : training on 82622 raw words (29512 effective words) took 0.8s, 37132 effective words/s\n",
            "2021-11-26 21:55:10,808 : INFO : worker thread finished; awaiting finish of 2 more threads\n",
            "2021-11-26 21:55:10,882 : INFO : worker thread finished; awaiting finish of 1 more threads\n",
            "2021-11-26 21:55:10,890 : INFO : worker thread finished; awaiting finish of 0 more threads\n",
            "2021-11-26 21:55:10,892 : INFO : EPOCH - 23 : training on 82622 raw words (29462 effective words) took 0.7s, 39569 effective words/s\n",
            "2021-11-26 21:55:11,612 : INFO : worker thread finished; awaiting finish of 2 more threads\n",
            "2021-11-26 21:55:11,657 : INFO : worker thread finished; awaiting finish of 1 more threads\n",
            "2021-11-26 21:55:11,673 : INFO : worker thread finished; awaiting finish of 0 more threads\n",
            "2021-11-26 21:55:11,675 : INFO : EPOCH - 24 : training on 82622 raw words (29349 effective words) took 0.8s, 38155 effective words/s\n",
            "2021-11-26 21:55:12,461 : INFO : worker thread finished; awaiting finish of 2 more threads\n",
            "2021-11-26 21:55:12,533 : INFO : worker thread finished; awaiting finish of 1 more threads\n",
            "2021-11-26 21:55:12,545 : INFO : worker thread finished; awaiting finish of 0 more threads\n",
            "2021-11-26 21:55:12,547 : INFO : EPOCH - 25 : training on 82622 raw words (29584 effective words) took 0.8s, 35555 effective words/s\n",
            "2021-11-26 21:55:13,206 : INFO : worker thread finished; awaiting finish of 2 more threads\n",
            "2021-11-26 21:55:13,277 : INFO : worker thread finished; awaiting finish of 1 more threads\n",
            "2021-11-26 21:55:13,284 : INFO : worker thread finished; awaiting finish of 0 more threads\n",
            "2021-11-26 21:55:13,286 : INFO : EPOCH - 26 : training on 82622 raw words (29362 effective words) took 0.7s, 40550 effective words/s\n",
            "2021-11-26 21:55:13,907 : INFO : worker thread finished; awaiting finish of 2 more threads\n",
            "2021-11-26 21:55:13,969 : INFO : worker thread finished; awaiting finish of 1 more threads\n",
            "2021-11-26 21:55:13,980 : INFO : worker thread finished; awaiting finish of 0 more threads\n",
            "2021-11-26 21:55:13,981 : INFO : EPOCH - 27 : training on 82622 raw words (29040 effective words) took 0.7s, 42856 effective words/s\n",
            "2021-11-26 21:55:14,730 : INFO : worker thread finished; awaiting finish of 2 more threads\n",
            "2021-11-26 21:55:14,805 : INFO : worker thread finished; awaiting finish of 1 more threads\n",
            "2021-11-26 21:55:14,812 : INFO : worker thread finished; awaiting finish of 0 more threads\n",
            "2021-11-26 21:55:14,815 : INFO : EPOCH - 28 : training on 82622 raw words (29297 effective words) took 0.8s, 35764 effective words/s\n",
            "2021-11-26 21:55:15,577 : INFO : worker thread finished; awaiting finish of 2 more threads\n",
            "2021-11-26 21:55:15,643 : INFO : worker thread finished; awaiting finish of 1 more threads\n",
            "2021-11-26 21:55:15,650 : INFO : worker thread finished; awaiting finish of 0 more threads\n",
            "2021-11-26 21:55:15,655 : INFO : EPOCH - 29 : training on 82622 raw words (29551 effective words) took 0.8s, 35731 effective words/s\n",
            "2021-11-26 21:55:16,354 : INFO : worker thread finished; awaiting finish of 2 more threads\n",
            "2021-11-26 21:55:16,408 : INFO : worker thread finished; awaiting finish of 1 more threads\n",
            "2021-11-26 21:55:16,417 : INFO : worker thread finished; awaiting finish of 0 more threads\n",
            "2021-11-26 21:55:16,419 : INFO : EPOCH - 30 : training on 82622 raw words (29393 effective words) took 0.7s, 39399 effective words/s\n",
            "2021-11-26 21:55:17,084 : INFO : worker thread finished; awaiting finish of 2 more threads\n",
            "2021-11-26 21:55:17,147 : INFO : worker thread finished; awaiting finish of 1 more threads\n",
            "2021-11-26 21:55:17,157 : INFO : worker thread finished; awaiting finish of 0 more threads\n",
            "2021-11-26 21:55:17,159 : INFO : EPOCH - 31 : training on 82622 raw words (29457 effective words) took 0.7s, 40498 effective words/s\n",
            "2021-11-26 21:55:17,782 : INFO : worker thread finished; awaiting finish of 2 more threads\n",
            "2021-11-26 21:55:17,837 : INFO : worker thread finished; awaiting finish of 1 more threads\n",
            "2021-11-26 21:55:17,850 : INFO : worker thread finished; awaiting finish of 0 more threads\n",
            "2021-11-26 21:55:17,852 : INFO : EPOCH - 32 : training on 82622 raw words (29289 effective words) took 0.7s, 43307 effective words/s\n",
            "2021-11-26 21:55:18,536 : INFO : worker thread finished; awaiting finish of 2 more threads\n",
            "2021-11-26 21:55:18,592 : INFO : worker thread finished; awaiting finish of 1 more threads\n",
            "2021-11-26 21:55:18,601 : INFO : worker thread finished; awaiting finish of 0 more threads\n",
            "2021-11-26 21:55:18,602 : INFO : EPOCH - 33 : training on 82622 raw words (29250 effective words) took 0.7s, 40050 effective words/s\n",
            "2021-11-26 21:55:19,265 : INFO : worker thread finished; awaiting finish of 2 more threads\n",
            "2021-11-26 21:55:19,353 : INFO : worker thread finished; awaiting finish of 1 more threads\n",
            "2021-11-26 21:55:19,363 : INFO : worker thread finished; awaiting finish of 0 more threads\n",
            "2021-11-26 21:55:19,364 : INFO : EPOCH - 34 : training on 82622 raw words (29447 effective words) took 0.7s, 39384 effective words/s\n",
            "2021-11-26 21:55:20,112 : INFO : worker thread finished; awaiting finish of 2 more threads\n",
            "2021-11-26 21:55:20,195 : INFO : worker thread finished; awaiting finish of 1 more threads\n",
            "2021-11-26 21:55:20,201 : INFO : worker thread finished; awaiting finish of 0 more threads\n",
            "2021-11-26 21:55:20,203 : INFO : EPOCH - 35 : training on 82622 raw words (29318 effective words) took 0.8s, 35544 effective words/s\n",
            "2021-11-26 21:55:20,869 : INFO : worker thread finished; awaiting finish of 2 more threads\n",
            "2021-11-26 21:55:20,953 : INFO : worker thread finished; awaiting finish of 1 more threads\n",
            "2021-11-26 21:55:20,962 : INFO : worker thread finished; awaiting finish of 0 more threads\n",
            "2021-11-26 21:55:20,963 : INFO : EPOCH - 36 : training on 82622 raw words (29227 effective words) took 0.7s, 39199 effective words/s\n",
            "2021-11-26 21:55:21,638 : INFO : worker thread finished; awaiting finish of 2 more threads\n",
            "2021-11-26 21:55:21,697 : INFO : worker thread finished; awaiting finish of 1 more threads\n",
            "2021-11-26 21:55:21,704 : INFO : worker thread finished; awaiting finish of 0 more threads\n",
            "2021-11-26 21:55:21,705 : INFO : EPOCH - 37 : training on 82622 raw words (29213 effective words) took 0.7s, 40406 effective words/s\n",
            "2021-11-26 21:55:22,366 : INFO : worker thread finished; awaiting finish of 2 more threads\n",
            "2021-11-26 21:55:22,414 : INFO : worker thread finished; awaiting finish of 1 more threads\n",
            "2021-11-26 21:55:22,419 : INFO : worker thread finished; awaiting finish of 0 more threads\n",
            "2021-11-26 21:55:22,426 : INFO : EPOCH - 38 : training on 82622 raw words (29388 effective words) took 0.7s, 41505 effective words/s\n",
            "2021-11-26 21:55:23,128 : INFO : worker thread finished; awaiting finish of 2 more threads\n",
            "2021-11-26 21:55:23,182 : INFO : worker thread finished; awaiting finish of 1 more threads\n",
            "2021-11-26 21:55:23,190 : INFO : worker thread finished; awaiting finish of 0 more threads\n",
            "2021-11-26 21:55:23,191 : INFO : EPOCH - 39 : training on 82622 raw words (29387 effective words) took 0.7s, 39217 effective words/s\n",
            "2021-11-26 21:55:23,857 : INFO : worker thread finished; awaiting finish of 2 more threads\n",
            "2021-11-26 21:55:23,904 : INFO : worker thread finished; awaiting finish of 1 more threads\n",
            "2021-11-26 21:55:23,913 : INFO : worker thread finished; awaiting finish of 0 more threads\n",
            "2021-11-26 21:55:23,914 : INFO : EPOCH - 40 : training on 82622 raw words (29292 effective words) took 0.7s, 41383 effective words/s\n",
            "2021-11-26 21:55:23,919 : INFO : Doc2Vec lifecycle event {'msg': 'training on 3304880 raw words (1174190 effective words) took 33.0s, 35552 effective words/s', 'datetime': '2021-11-26T21:55:23.919631', 'gensim': '4.1.2', 'python': '3.7.12 (default, Sep 10 2021, 00:21:48) \\n[GCC 7.5.0]', 'platform': 'Linux-5.4.104+-x86_64-with-Ubuntu-18.04-bionic', 'event': 'train'}\n",
            "2021-11-26 21:55:23,926 : INFO : Doc2Vec lifecycle event {'params': 'Doc2Vec(dm/m,d100,n10,w4,s0.001,t3)', 'datetime': '2021-11-26T21:55:23.923776', 'gensim': '4.1.2', 'python': '3.7.12 (default, Sep 10 2021, 00:21:48) \\n[GCC 7.5.0]', 'platform': 'Linux-5.4.104+-x86_64-with-Ubuntu-18.04-bionic', 'event': 'created'}\n"
          ]
        }
      ]
    },
    {
      "cell_type": "code",
      "metadata": {
        "id": "G-cE7gug1Ct5",
        "colab": {
          "base_uri": "https://localhost:8080/"
        },
        "outputId": "cba989c8-dd0b-48f6-a4c1-9fc3fdc2a805"
      },
      "source": [
        "if use_wandb:\n",
        "  model_artifact = wandb.Artifact(\n",
        "      \"model_doc2vec\", \n",
        "      type=\"model\",\n",
        "      description=\"Doc2Vec model\",\n",
        "      metadata=\"\")\n",
        "\n",
        "  fname = 'doc2vec.model'\n",
        "  model.save(fname)\n",
        "\n",
        "  model_artifact.add_file(fname)\n",
        "  wandb.log_artifact(model_artifact)"
      ],
      "execution_count": 86,
      "outputs": [
        {
          "output_type": "stream",
          "name": "stderr",
          "text": [
            "2021-11-26 21:55:23,948 : INFO : Doc2Vec lifecycle event {'fname_or_handle': 'doc2vec.model', 'separately': 'None', 'sep_limit': 10485760, 'ignore': frozenset(), 'datetime': '2021-11-26T21:55:23.948393', 'gensim': '4.1.2', 'python': '3.7.12 (default, Sep 10 2021, 00:21:48) \\n[GCC 7.5.0]', 'platform': 'Linux-5.4.104+-x86_64-with-Ubuntu-18.04-bionic', 'event': 'saving'}\n",
            "2021-11-26 21:55:23,955 : INFO : not storing attribute cum_table\n",
            "2021-11-26 21:55:23,968 : INFO : saved doc2vec.model\n"
          ]
        }
      ]
    },
    {
      "cell_type": "markdown",
      "metadata": {
        "id": "jJvq2K93xAO5"
      },
      "source": [
        "### Test the distance between C and the diatonic chords\n",
        "\n",
        "Test if the model can capture that the diatonic chords are closer to the root.\n",
        "\n",
        "Do this only if the input corpus contains the unigrams. "
      ]
    },
    {
      "cell_type": "code",
      "metadata": {
        "id": "cH3TJxCfvoFm",
        "colab": {
          "base_uri": "https://localhost:8080/"
        },
        "outputId": "b4276430-5400-42d0-d86b-8fdae9bf2e37"
      },
      "source": [
        "test_tokens = ['C',\n",
        "              'Dm',\n",
        "              'Em',\n",
        "              'F',\n",
        "              'G7',\n",
        "              'Am',\n",
        "              #'Bm7b5',\n",
        "              'F7',\n",
        "              'D7',\n",
        "              'A7',\n",
        "              'E7',\n",
        "              'B7',\n",
        "              'F#7',\n",
        "               'Cm',\n",
        "               'D']\n",
        "\n",
        "if 1 in ngrams_for_input:\n",
        "  ref = 'C'\n",
        "  for t in test_tokens:\n",
        "    print(f\"{model.wv.similarity(ref, t):.3f}: {ref} <-> {t}\")"
      ],
      "execution_count": 87,
      "outputs": [
        {
          "output_type": "stream",
          "name": "stdout",
          "text": [
            "1.000: C <-> C\n",
            "0.429: C <-> Dm\n",
            "0.485: C <-> Em\n",
            "0.423: C <-> F\n",
            "0.556: C <-> G7\n",
            "0.351: C <-> Am\n",
            "0.272: C <-> F7\n",
            "0.076: C <-> D7\n",
            "0.550: C <-> A7\n",
            "0.594: C <-> E7\n",
            "0.153: C <-> B7\n",
            "-0.062: C <-> F#7\n",
            "0.265: C <-> Cm\n",
            "0.117: C <-> D\n"
          ]
        }
      ]
    },
    {
      "cell_type": "code",
      "metadata": {
        "id": "IfIRoWL4kpcB"
      },
      "source": [
        "if 1 in ngrams_for_input:\n",
        "  model.wv.similar_by_word('C', topn=20)"
      ],
      "execution_count": 88,
      "outputs": []
    },
    {
      "cell_type": "markdown",
      "metadata": {
        "id": "ix4n9S3_xQzD"
      },
      "source": [
        "Plot the generated word vectors in 2D space"
      ]
    },
    {
      "cell_type": "code",
      "metadata": {
        "id": "JjT_uNh0wthj",
        "colab": {
          "base_uri": "https://localhost:8080/",
          "height": 711
        },
        "outputId": "8ac0b4bf-5327-44f6-fce6-e1a962749222"
      },
      "source": [
        "from sklearn.manifold import TSNE\n",
        "\n",
        "# input data: vectors for all tokens\n",
        "weights = model.wv.vectors\n",
        "\n",
        "# only do this when the vocabulary is not too big....\n",
        "if len(weights) < 100:\n",
        "\n",
        "  # do T-SNE\n",
        "  tsne = TSNE(n_components=2, \n",
        "              random_state=42,\n",
        "              perplexity=30,\n",
        "              learning_rate='auto',\n",
        "              init='pca',\n",
        "              n_iter=2000\n",
        "              )\n",
        "  T = tsne.fit_transform(weights)\n",
        "\n",
        "  # plot\n",
        "  projected = pd.DataFrame(T)\n",
        "\n",
        "  fig = px.scatter(\n",
        "      projected, \n",
        "      x=0, y=1,\n",
        "      #color='mode',\n",
        "      text=model.wv.index_to_key,\n",
        "      width=800, height=600,\n",
        "      title=\"T-SNE applied to Chord Vectors for Tunes in Cmaj/Amin\"\n",
        "  )\n",
        "  fig.update_traces(textposition='top center')\n",
        "  fig.update_traces(textfont_size=12, selector=dict(type='scatter'))\n",
        "  fig.show()"
      ],
      "execution_count": 89,
      "outputs": [
        {
          "output_type": "stream",
          "name": "stderr",
          "text": [
            "/usr/local/lib/python3.7/dist-packages/sklearn/manifold/_t_sne.py:986: FutureWarning:\n",
            "\n",
            "The PCA initialization in TSNE will change to have the standard deviation of PC1 equal to 1e-4 in 1.2. This will ensure better convergence.\n",
            "\n"
          ]
        },
        {
          "output_type": "display_data",
          "data": {
            "text/html": [
              "<html>\n",
              "<head><meta charset=\"utf-8\" /></head>\n",
              "<body>\n",
              "    <div>\n",
              "            <script src=\"https://cdnjs.cloudflare.com/ajax/libs/mathjax/2.7.5/MathJax.js?config=TeX-AMS-MML_SVG\"></script><script type=\"text/javascript\">if (window.MathJax) {MathJax.Hub.Config({SVG: {font: \"STIX-Web\"}});}</script>\n",
              "                <script type=\"text/javascript\">window.PlotlyConfig = {MathJaxConfig: 'local'};</script>\n",
              "        <script src=\"https://cdn.plot.ly/plotly-latest.min.js\"></script>    \n",
              "            <div id=\"0c46adba-ec31-4850-9a12-96a76a211a36\" class=\"plotly-graph-div\" style=\"height:600px; width:800px;\"></div>\n",
              "            <script type=\"text/javascript\">\n",
              "                \n",
              "                    window.PLOTLYENV=window.PLOTLYENV || {};\n",
              "                    \n",
              "                if (document.getElementById(\"0c46adba-ec31-4850-9a12-96a76a211a36\")) {\n",
              "                    Plotly.newPlot(\n",
              "                        '0c46adba-ec31-4850-9a12-96a76a211a36',\n",
              "                        [{\"hoverlabel\": {\"namelength\": 0}, \"hovertemplate\": \"0=%{x}<br>1=%{y}<br>text=%{text}\", \"legendgroup\": \"\", \"marker\": {\"color\": \"#636efa\", \"symbol\": \"circle\"}, \"mode\": \"markers+text\", \"name\": \"\", \"showlegend\": false, \"text\": [\"C\", \"G7\", \"Dm\", \"Am\", \"A7\", \"D7\", \"F\", \"C7\", \"E7\", \"Em\", \"F7\", \"Bb7\", \"Fm\", \"B7\", \"Gm\", \"G#7\", \"Bm7b5\", \"G\", \"Ebdim\", \"Eb7\", \"Cm\", \"F#m7b5\", \"G#\", \"Bm\", \"C#7\", \"Bb\", \"Em7b5\", \"E\", \"F#m\", \"F#7\", \"Eb\", \"F#dim\", \"C#dim\", \"Ebm\", \"C#\", \"A\", \"Dm7b5\", \"Bbm\", \"D\", \"C#m\", \"Cdim\", \"B\", \"G#m\", \"F#\", \"G#dim\", \"Am7b5\", \"Fdim\", \"Gdim\", \"G7(+b5)\", \"C#m7b5\", \"E7(+b5)\", \"Adim\", \"F#7(+b5)\", \"Gm7b5\", \"A7(+b5)\", \"B7(+b5)\", \"Edim\", \"G#m7b5\", \"C#7(+b5)\", \"Bb7(+b5)\", \"Fm7b5\", \"D7(+b5)\", \"Bbdim\", \"Bbm7b5\", \"C7(+b5)\", \"Bdim\", \"Ddim\", \"Ebm7b5\", \"G#7(+b5)\", \"F7(+b5)\", \"Cm7b5\", \"Eb7(+b5)\"], \"textfont\": {\"size\": 12}, \"textposition\": \"top center\", \"type\": \"scatter\", \"x\": [12.19244384765625, 12.758746147155762, 12.62436580657959, 12.465704917907715, 12.313477516174316, 13.177629470825195, 12.46389102935791, 12.550605773925781, 12.127386093139648, 12.83322811126709, 12.855782508850098, 12.990591049194336, 13.309709548950195, 13.680209159851074, 12.93099308013916, 13.25735855102539, 12.558149337768555, 13.245285987854004, 12.57915210723877, 11.400439262390137, 11.761931419372559, 13.934659957885742, 11.307732582092285, 14.182618141174316, 12.059260368347168, 12.043644905090332, 12.912421226501465, 13.605791091918945, 13.834579467773438, 14.915111541748047, 11.318817138671875, 13.345568656921387, 12.975373268127441, 10.669999122619629, 11.177777290344238, 11.416223526000977, 13.52521800994873, 10.648625373840332, 12.364745140075684, 11.38951587677002, 13.356477737426758, 10.345494270324707, 9.811460494995117, 9.904297828674316, 13.740446090698242, 12.67587947845459, 14.042097091674805, 14.14078426361084, 13.201452255249023, 15.01045036315918, 13.113245964050293, 10.118415832519531, 15.075427055358887, 10.454267501831055, 12.806256294250488, 12.165787696838379, 13.073932647705078, 15.136510848999023, 11.727224349975586, 12.354251861572266, 10.756484985351562, 12.713313102722168, 12.134618759155273, 10.05571460723877, 13.468502044677734, 12.099008560180664, 11.072097778320312, 11.199202537536621, 12.324283599853516, 11.63582992553711, 11.394818305969238, 11.280543327331543], \"xaxis\": \"x\", \"y\": [-1.4590126276016235, -1.5686105489730835, -1.1126517057418823, -1.4653114080429077, -1.8374966382980347, -0.8210012316703796, -1.5921372175216675, -0.8539208173751831, -1.20719313621521, -0.556404173374176, -1.7729835510253906, -0.6434773802757263, -1.713753581047058, -1.8483648300170898, -1.2459511756896973, -0.32200756669044495, -2.454707384109497, -1.3633959293365479, -1.8822988271713257, -2.342881917953491, -0.5015869736671448, -0.5271602869033813, -0.2144874930381775, -1.8279590606689453, -2.9830732345581055, -0.46567559242248535, -0.3286397457122803, 0.6433190107345581, 0.5799223780632019, 0.11909861117601395, -1.0563839673995972, -0.8332886695861816, -2.445728302001953, -0.5178494453430176, -0.8220054507255554, -1.6806464195251465, -0.6071866154670715, 0.17655712366104126, -0.16975821554660797, -3.074502944946289, -2.792372703552246, 0.9176212549209595, 0.22032013535499573, 0.18061181902885437, 1.7796928882598877, 1.10652494430542, 0.9863924384117126, -2.291163682937622, 2.94014048576355, -1.5198438167572021, 2.6866378784179688, -2.0939130783081055, 0.5384249091148376, -1.038735270500183, 2.8238608837127686, 3.0878701210021973, -3.8320508003234863, -1.9576337337493896, 2.7824206352233887, 2.0391530990600586, 1.4335306882858276, 1.888020396232605, 0.8619798421859741, 1.6642659902572632, 2.1871449947357178, 0.6708842515945435, -1.7510883808135986, 2.552834987640381, 1.7651176452636719, 1.6764713525772095, 1.1566146612167358, 1.046422004699707], \"yaxis\": \"y\"}],\n",
              "                        {\"height\": 600, \"legend\": {\"tracegroupgap\": 0}, \"template\": {\"data\": {\"bar\": [{\"error_x\": {\"color\": \"#2a3f5f\"}, \"error_y\": {\"color\": \"#2a3f5f\"}, \"marker\": {\"line\": {\"color\": \"#E5ECF6\", \"width\": 0.5}}, \"type\": \"bar\"}], \"barpolar\": [{\"marker\": {\"line\": {\"color\": \"#E5ECF6\", \"width\": 0.5}}, \"type\": \"barpolar\"}], \"carpet\": [{\"aaxis\": {\"endlinecolor\": \"#2a3f5f\", \"gridcolor\": \"white\", \"linecolor\": \"white\", \"minorgridcolor\": \"white\", \"startlinecolor\": \"#2a3f5f\"}, \"baxis\": {\"endlinecolor\": \"#2a3f5f\", \"gridcolor\": \"white\", \"linecolor\": \"white\", \"minorgridcolor\": \"white\", \"startlinecolor\": \"#2a3f5f\"}, \"type\": \"carpet\"}], \"choropleth\": [{\"colorbar\": {\"outlinewidth\": 0, \"ticks\": \"\"}, \"type\": \"choropleth\"}], \"contour\": [{\"colorbar\": {\"outlinewidth\": 0, \"ticks\": \"\"}, \"colorscale\": [[0.0, \"#0d0887\"], [0.1111111111111111, \"#46039f\"], [0.2222222222222222, \"#7201a8\"], [0.3333333333333333, \"#9c179e\"], [0.4444444444444444, \"#bd3786\"], [0.5555555555555556, \"#d8576b\"], [0.6666666666666666, \"#ed7953\"], [0.7777777777777778, \"#fb9f3a\"], [0.8888888888888888, \"#fdca26\"], [1.0, \"#f0f921\"]], \"type\": \"contour\"}], \"contourcarpet\": [{\"colorbar\": {\"outlinewidth\": 0, \"ticks\": \"\"}, \"type\": \"contourcarpet\"}], \"heatmap\": [{\"colorbar\": {\"outlinewidth\": 0, \"ticks\": \"\"}, \"colorscale\": [[0.0, \"#0d0887\"], [0.1111111111111111, \"#46039f\"], [0.2222222222222222, \"#7201a8\"], [0.3333333333333333, \"#9c179e\"], [0.4444444444444444, \"#bd3786\"], [0.5555555555555556, \"#d8576b\"], [0.6666666666666666, \"#ed7953\"], [0.7777777777777778, \"#fb9f3a\"], [0.8888888888888888, \"#fdca26\"], [1.0, \"#f0f921\"]], \"type\": \"heatmap\"}], \"heatmapgl\": [{\"colorbar\": {\"outlinewidth\": 0, \"ticks\": \"\"}, \"colorscale\": [[0.0, \"#0d0887\"], [0.1111111111111111, \"#46039f\"], [0.2222222222222222, \"#7201a8\"], [0.3333333333333333, \"#9c179e\"], [0.4444444444444444, \"#bd3786\"], [0.5555555555555556, \"#d8576b\"], [0.6666666666666666, \"#ed7953\"], [0.7777777777777778, \"#fb9f3a\"], [0.8888888888888888, \"#fdca26\"], [1.0, \"#f0f921\"]], \"type\": \"heatmapgl\"}], \"histogram\": [{\"marker\": {\"colorbar\": {\"outlinewidth\": 0, \"ticks\": \"\"}}, \"type\": \"histogram\"}], \"histogram2d\": [{\"colorbar\": {\"outlinewidth\": 0, \"ticks\": \"\"}, \"colorscale\": [[0.0, \"#0d0887\"], [0.1111111111111111, \"#46039f\"], [0.2222222222222222, \"#7201a8\"], [0.3333333333333333, \"#9c179e\"], [0.4444444444444444, \"#bd3786\"], [0.5555555555555556, \"#d8576b\"], [0.6666666666666666, \"#ed7953\"], [0.7777777777777778, \"#fb9f3a\"], [0.8888888888888888, \"#fdca26\"], [1.0, \"#f0f921\"]], \"type\": \"histogram2d\"}], \"histogram2dcontour\": [{\"colorbar\": {\"outlinewidth\": 0, \"ticks\": \"\"}, \"colorscale\": [[0.0, \"#0d0887\"], [0.1111111111111111, \"#46039f\"], [0.2222222222222222, \"#7201a8\"], [0.3333333333333333, \"#9c179e\"], [0.4444444444444444, \"#bd3786\"], [0.5555555555555556, \"#d8576b\"], [0.6666666666666666, \"#ed7953\"], [0.7777777777777778, \"#fb9f3a\"], [0.8888888888888888, \"#fdca26\"], [1.0, \"#f0f921\"]], \"type\": \"histogram2dcontour\"}], \"mesh3d\": [{\"colorbar\": {\"outlinewidth\": 0, \"ticks\": \"\"}, \"type\": \"mesh3d\"}], \"parcoords\": [{\"line\": {\"colorbar\": {\"outlinewidth\": 0, \"ticks\": \"\"}}, \"type\": \"parcoords\"}], \"pie\": [{\"automargin\": true, \"type\": \"pie\"}], \"scatter\": [{\"marker\": {\"colorbar\": {\"outlinewidth\": 0, \"ticks\": \"\"}}, \"type\": \"scatter\"}], \"scatter3d\": [{\"line\": {\"colorbar\": {\"outlinewidth\": 0, \"ticks\": \"\"}}, \"marker\": {\"colorbar\": {\"outlinewidth\": 0, \"ticks\": \"\"}}, \"type\": \"scatter3d\"}], \"scattercarpet\": [{\"marker\": {\"colorbar\": {\"outlinewidth\": 0, \"ticks\": \"\"}}, \"type\": \"scattercarpet\"}], \"scattergeo\": [{\"marker\": {\"colorbar\": {\"outlinewidth\": 0, \"ticks\": \"\"}}, \"type\": \"scattergeo\"}], \"scattergl\": [{\"marker\": {\"colorbar\": {\"outlinewidth\": 0, \"ticks\": \"\"}}, \"type\": \"scattergl\"}], \"scattermapbox\": [{\"marker\": {\"colorbar\": {\"outlinewidth\": 0, \"ticks\": \"\"}}, \"type\": \"scattermapbox\"}], \"scatterpolar\": [{\"marker\": {\"colorbar\": {\"outlinewidth\": 0, \"ticks\": \"\"}}, \"type\": \"scatterpolar\"}], \"scatterpolargl\": [{\"marker\": {\"colorbar\": {\"outlinewidth\": 0, \"ticks\": \"\"}}, \"type\": \"scatterpolargl\"}], \"scatterternary\": [{\"marker\": {\"colorbar\": {\"outlinewidth\": 0, \"ticks\": \"\"}}, \"type\": \"scatterternary\"}], \"surface\": [{\"colorbar\": {\"outlinewidth\": 0, \"ticks\": \"\"}, \"colorscale\": [[0.0, \"#0d0887\"], [0.1111111111111111, \"#46039f\"], [0.2222222222222222, \"#7201a8\"], [0.3333333333333333, \"#9c179e\"], [0.4444444444444444, \"#bd3786\"], [0.5555555555555556, \"#d8576b\"], [0.6666666666666666, \"#ed7953\"], [0.7777777777777778, \"#fb9f3a\"], [0.8888888888888888, \"#fdca26\"], [1.0, \"#f0f921\"]], \"type\": \"surface\"}], \"table\": [{\"cells\": {\"fill\": {\"color\": \"#EBF0F8\"}, \"line\": {\"color\": \"white\"}}, \"header\": {\"fill\": {\"color\": \"#C8D4E3\"}, \"line\": {\"color\": \"white\"}}, \"type\": \"table\"}]}, \"layout\": {\"annotationdefaults\": {\"arrowcolor\": \"#2a3f5f\", \"arrowhead\": 0, \"arrowwidth\": 1}, \"coloraxis\": {\"colorbar\": {\"outlinewidth\": 0, \"ticks\": \"\"}}, \"colorscale\": {\"diverging\": [[0, \"#8e0152\"], [0.1, \"#c51b7d\"], [0.2, \"#de77ae\"], [0.3, \"#f1b6da\"], [0.4, \"#fde0ef\"], [0.5, \"#f7f7f7\"], [0.6, \"#e6f5d0\"], [0.7, \"#b8e186\"], [0.8, \"#7fbc41\"], [0.9, \"#4d9221\"], [1, \"#276419\"]], \"sequential\": [[0.0, \"#0d0887\"], [0.1111111111111111, \"#46039f\"], [0.2222222222222222, \"#7201a8\"], [0.3333333333333333, \"#9c179e\"], [0.4444444444444444, \"#bd3786\"], [0.5555555555555556, \"#d8576b\"], [0.6666666666666666, \"#ed7953\"], [0.7777777777777778, \"#fb9f3a\"], [0.8888888888888888, \"#fdca26\"], [1.0, \"#f0f921\"]], \"sequentialminus\": [[0.0, \"#0d0887\"], [0.1111111111111111, \"#46039f\"], [0.2222222222222222, \"#7201a8\"], [0.3333333333333333, \"#9c179e\"], [0.4444444444444444, \"#bd3786\"], [0.5555555555555556, \"#d8576b\"], [0.6666666666666666, \"#ed7953\"], [0.7777777777777778, \"#fb9f3a\"], [0.8888888888888888, \"#fdca26\"], [1.0, \"#f0f921\"]]}, \"colorway\": [\"#636efa\", \"#EF553B\", \"#00cc96\", \"#ab63fa\", \"#FFA15A\", \"#19d3f3\", \"#FF6692\", \"#B6E880\", \"#FF97FF\", \"#FECB52\"], \"font\": {\"color\": \"#2a3f5f\"}, \"geo\": {\"bgcolor\": \"white\", \"lakecolor\": \"white\", \"landcolor\": \"#E5ECF6\", \"showlakes\": true, \"showland\": true, \"subunitcolor\": \"white\"}, \"hoverlabel\": {\"align\": \"left\"}, \"hovermode\": \"closest\", \"mapbox\": {\"style\": \"light\"}, \"paper_bgcolor\": \"white\", \"plot_bgcolor\": \"#E5ECF6\", \"polar\": {\"angularaxis\": {\"gridcolor\": \"white\", \"linecolor\": \"white\", \"ticks\": \"\"}, \"bgcolor\": \"#E5ECF6\", \"radialaxis\": {\"gridcolor\": \"white\", \"linecolor\": \"white\", \"ticks\": \"\"}}, \"scene\": {\"xaxis\": {\"backgroundcolor\": \"#E5ECF6\", \"gridcolor\": \"white\", \"gridwidth\": 2, \"linecolor\": \"white\", \"showbackground\": true, \"ticks\": \"\", \"zerolinecolor\": \"white\"}, \"yaxis\": {\"backgroundcolor\": \"#E5ECF6\", \"gridcolor\": \"white\", \"gridwidth\": 2, \"linecolor\": \"white\", \"showbackground\": true, \"ticks\": \"\", \"zerolinecolor\": \"white\"}, \"zaxis\": {\"backgroundcolor\": \"#E5ECF6\", \"gridcolor\": \"white\", \"gridwidth\": 2, \"linecolor\": \"white\", \"showbackground\": true, \"ticks\": \"\", \"zerolinecolor\": \"white\"}}, \"shapedefaults\": {\"line\": {\"color\": \"#2a3f5f\"}}, \"ternary\": {\"aaxis\": {\"gridcolor\": \"white\", \"linecolor\": \"white\", \"ticks\": \"\"}, \"baxis\": {\"gridcolor\": \"white\", \"linecolor\": \"white\", \"ticks\": \"\"}, \"bgcolor\": \"#E5ECF6\", \"caxis\": {\"gridcolor\": \"white\", \"linecolor\": \"white\", \"ticks\": \"\"}}, \"title\": {\"x\": 0.05}, \"xaxis\": {\"automargin\": true, \"gridcolor\": \"white\", \"linecolor\": \"white\", \"ticks\": \"\", \"title\": {\"standoff\": 15}, \"zerolinecolor\": \"white\", \"zerolinewidth\": 2}, \"yaxis\": {\"automargin\": true, \"gridcolor\": \"white\", \"linecolor\": \"white\", \"ticks\": \"\", \"title\": {\"standoff\": 15}, \"zerolinecolor\": \"white\", \"zerolinewidth\": 2}}}, \"title\": {\"text\": \"T-SNE applied to Chord Vectors for Tunes in Cmaj/Amin\"}, \"width\": 800, \"xaxis\": {\"anchor\": \"y\", \"domain\": [0.0, 1.0], \"title\": {\"text\": \"0\"}}, \"yaxis\": {\"anchor\": \"x\", \"domain\": [0.0, 1.0], \"title\": {\"text\": \"1\"}}},\n",
              "                        {\"responsive\": true}\n",
              "                    ).then(function(){\n",
              "                            \n",
              "var gd = document.getElementById('0c46adba-ec31-4850-9a12-96a76a211a36');\n",
              "var x = new MutationObserver(function (mutations, observer) {{\n",
              "        var display = window.getComputedStyle(gd).display;\n",
              "        if (!display || display === 'none') {{\n",
              "            console.log([gd, 'removed!']);\n",
              "            Plotly.purge(gd);\n",
              "            observer.disconnect();\n",
              "        }}\n",
              "}});\n",
              "\n",
              "// Listen for the removal of the full notebook cells\n",
              "var notebookContainer = gd.closest('#notebook-container');\n",
              "if (notebookContainer) {{\n",
              "    x.observe(notebookContainer, {childList: true});\n",
              "}}\n",
              "\n",
              "// Listen for the clearing of the current output cell\n",
              "var outputEl = gd.closest('.output');\n",
              "if (outputEl) {{\n",
              "    x.observe(outputEl, {childList: true});\n",
              "}}\n",
              "\n",
              "                        })\n",
              "                };\n",
              "                \n",
              "            </script>\n",
              "        </div>\n",
              "</body>\n",
              "</html>"
            ]
          },
          "metadata": {}
        }
      ]
    },
    {
      "cell_type": "markdown",
      "metadata": {
        "id": "ajqb904KDwNV"
      },
      "source": [
        "## Section Similarity\n"
      ]
    },
    {
      "cell_type": "markdown",
      "metadata": {
        "id": "HS_k1g6ujjKP"
      },
      "source": [
        "### Single Tunes"
      ]
    },
    {
      "cell_type": "code",
      "metadata": {
        "id": "mPnEPL_k4TZn"
      },
      "source": [
        "def get_section_scores_doc2vec(tunes):\n",
        "\n",
        "    df_sim = pd.DataFrame(columns=['reference_title',\n",
        "                                   'reference_titleid',\n",
        "                                  'similar_title',\n",
        "                                   'similar_titleid',\n",
        "                                  'ref_section', \n",
        "                                  'similar_section', \n",
        "                                  'score', \n",
        "                                  ])\n",
        "\n",
        "### get titleid from tunes, use enumerate\n",
        "\n",
        "    for tune in tunes:\n",
        "      print()\n",
        "      print(\"-\"*50)\n",
        "      for s1 in title_to_sectionid[tune]:\n",
        "      \n",
        "          # sections are tagged with the numeric sectionid and can be used for querying\n",
        "          sims = model.dv.similar_by_key(s1, topn=40)\n",
        "          \n",
        "          print(s1, sectionid_to_section[s1])\n",
        "          n = 0\n",
        "          for s2, s2_score in sims:\n",
        "              if type(s2) == int:  # only consider similarities to sectionids; tuneids are strings\n",
        "                  # don't count self-similarity between sections of the same tune\n",
        "                  if s2 not in title_to_sectionid[tune]:\n",
        "                      n += 1\n",
        "                  \n",
        "                      # print(f\"\\t{s2_score:.3f} {sectionid_to_section[s2]}\")\n",
        "\n",
        "                      df_sim.loc[len(df_sim)] = [tune,\n",
        "                                                 title_to_titleid[tune],\n",
        "                                                 sectionid_to_title[s2],\n",
        "                                                 sectionid_to_titleid[s2],\n",
        "                                                 sectionid_to_section[s1], \n",
        "                                                 sectionid_to_section[s2], \n",
        "                                                 s2_score, \n",
        "                                                 ]\n",
        "    return df_sim"
      ],
      "execution_count": 90,
      "outputs": []
    },
    {
      "cell_type": "code",
      "metadata": {
        "colab": {
          "base_uri": "https://localhost:8080/"
        },
        "id": "i_d92il649O9",
        "outputId": "8fda353e-b157-43b9-d216-af98d816c6fd"
      },
      "source": [
        "_tunes = tunes_eval_list\n",
        "\n",
        "df_sim = get_section_scores_doc2vec(_tunes)\n",
        "\n",
        "result = None\n",
        "for tune in _tunes:\n",
        "  tune_result, details = recommend_tune(df_sim, tune)\n",
        "  if result is None:\n",
        "    result = pd.DataFrame(columns=tune_result.columns)\n",
        "  result = result.append(tune_result)\n",
        "\n",
        "print(f\"Result has {len(result)} rows.\")\n",
        "\n",
        "# save a copy of the results; all results will be concatenated at the end\n",
        "df_doc2vec = df_sim[:]"
      ],
      "execution_count": 91,
      "outputs": [
        {
          "output_type": "stream",
          "name": "stdout",
          "text": [
            "\n",
            "--------------------------------------------------\n",
            "125 After You've Gone, section1 (A)\n",
            "126 After You've Gone, section2 (B)\n",
            "127 After You've Gone, section3 (A)\n",
            "128 After You've Gone, section4 (C)\n",
            "\n",
            "--------------------------------------------------\n",
            "188 All God's Chillun Got Rhythm, section1 (A)\n",
            "189 All God's Chillun Got Rhythm, section2 (B)\n",
            "190 All God's Chillun Got Rhythm, section3 (A)\n",
            "191 All God's Chillun Got Rhythm, section4 (C)\n",
            "\n",
            "--------------------------------------------------\n",
            "198 All Of Me, section1 (A)\n",
            "199 All Of Me, section2 (B)\n",
            "200 All Of Me, section3 (A)\n",
            "201 All Of Me, section4 (C)\n",
            "\n",
            "--------------------------------------------------\n",
            "474 Blood Count, section1 (A)\n",
            "475 Blood Count, section2 (A)\n",
            "476 Blood Count, section3 (B)\n",
            "477 Blood Count, section4 (A)\n",
            "478 Blood Count, section5 (C)\n",
            "\n",
            "--------------------------------------------------\n",
            "496 Blue Moon, section1 (A)\n",
            "497 Blue Moon, section2 (A)\n",
            "498 Blue Moon, section3 (B)\n",
            "499 Blue Moon, section4 (A)\n",
            "\n",
            "--------------------------------------------------\n",
            "626 But Beautiful, section1 (A)\n",
            "627 But Beautiful, section2 (B)\n",
            "628 But Beautiful, section3 (A)\n",
            "629 But Beautiful, section4 (C)\n",
            "\n",
            "--------------------------------------------------\n",
            "653 Bye Bye Blackbird, section1 (A)\n",
            "654 Bye Bye Blackbird, section2 (B)\n",
            "\n",
            "--------------------------------------------------\n",
            "676 Call Me Irresponsible, section1 (A)\n",
            "677 Call Me Irresponsible, section2 (B)\n",
            "678 Call Me Irresponsible, section3 (A)\n",
            "679 Call Me Irresponsible, section4 (B)\n",
            "\n",
            "--------------------------------------------------\n",
            "826 Corcovado, section1 (A)\n",
            "827 Corcovado, section2 (B)\n",
            "828 Corcovado, section3 (A)\n",
            "829 Corcovado, section4 (C)\n",
            "\n",
            "--------------------------------------------------\n",
            "997 Dinah, section1 (A)\n",
            "998 Dinah, section2 (A)\n",
            "999 Dinah, section3 (B)\n",
            "1000 Dinah, section4 (A)\n",
            "\n",
            "--------------------------------------------------\n",
            "1125 East Of The Sun, section1 (A)\n",
            "1126 East Of The Sun, section2 (B)\n",
            "1127 East Of The Sun, section3 (A)\n",
            "1128 East Of The Sun, section4 (C)\n",
            "\n",
            "--------------------------------------------------\n",
            "1287 Footprints, section0 (nan)\n",
            "\n",
            "--------------------------------------------------\n",
            "1379 Giant Steps, section0 (nan)\n",
            "\n",
            "--------------------------------------------------\n",
            "1538 Honeysuckle Rose, section1 (A)\n",
            "1539 Honeysuckle Rose, section2 (A)\n",
            "1540 Honeysuckle Rose, section3 (B)\n",
            "1541 Honeysuckle Rose, section4 (A)\n",
            "\n",
            "--------------------------------------------------\n",
            "1647 I Got Rhythm, section1 (A)\n",
            "1648 I Got Rhythm, section2 (A)\n",
            "1649 I Got Rhythm, section3 (B)\n",
            "1650 I Got Rhythm, section4 (A)\n",
            "\n",
            "--------------------------------------------------\n",
            "2670 Misty, section1 (A)\n",
            "2671 Misty, section2 (A)\n",
            "2672 Misty, section3 (B)\n",
            "2673 Misty, section4 (A)\n",
            "\n",
            "--------------------------------------------------\n",
            "2857 Naima, section1 (A)\n",
            "2858 Naima, section2 (A)\n",
            "2859 Naima, section3 (B)\n",
            "2860 Naima, section4 (A)\n",
            "\n",
            "--------------------------------------------------\n",
            "5044 Old Fashioned Love, section0 (nan)\n",
            "\n",
            "--------------------------------------------------\n",
            "3142 Perdido, section1 (A)\n",
            "3143 Perdido, section2 (A)\n",
            "3144 Perdido, section3 (B)\n",
            "3145 Perdido, section4 (A)\n",
            "\n",
            "--------------------------------------------------\n",
            "3276 Rockin' Chair, section1 (A)\n",
            "3277 Rockin' Chair, section2 (B)\n",
            "3278 Rockin' Chair, section3 (A)\n",
            "\n",
            "--------------------------------------------------\n",
            "3578 Sophisticated Lady, section1 (A)\n",
            "3579 Sophisticated Lady, section2 (A)\n",
            "3580 Sophisticated Lady, section3 (B)\n",
            "3581 Sophisticated Lady, section4 (A)\n",
            "\n",
            "--------------------------------------------------\n",
            "3746 Sweet Sue, Just You, section1 (A)\n",
            "3747 Sweet Sue, Just You, section2 (A)\n",
            "3748 Sweet Sue, Just You, section3 (B)\n",
            "3749 Sweet Sue, Just You, section4 (A)\n",
            "\n",
            "--------------------------------------------------\n",
            "3860 These Foolish Things, section1 (A)\n",
            "3861 These Foolish Things, section2 (A)\n",
            "3862 These Foolish Things, section3 (B)\n",
            "3863 These Foolish Things, section4 (A)\n",
            "\n",
            "--------------------------------------------------\n",
            "4146 We'll Be Together Again, section1 (A)\n",
            "4147 We'll Be Together Again, section2 (A)\n",
            "4148 We'll Be Together Again, section3 (B)\n",
            "4149 We'll Be Together Again, section4 (A)\n",
            "Result has 1746 rows.\n"
          ]
        }
      ]
    },
    {
      "cell_type": "code",
      "metadata": {
        "id": "uNt-_pK9Cc-4",
        "colab": {
          "base_uri": "https://localhost:8080/",
          "height": 293
        },
        "outputId": "7c991a83-1a21-4e90-d40c-ef289fd8de31"
      },
      "source": [
        "result.head()"
      ],
      "execution_count": 92,
      "outputs": [
        {
          "output_type": "execute_result",
          "data": {
            "text/html": [
              "<div>\n",
              "<style scoped>\n",
              "    .dataframe tbody tr th:only-of-type {\n",
              "        vertical-align: middle;\n",
              "    }\n",
              "\n",
              "    .dataframe tbody tr th {\n",
              "        vertical-align: top;\n",
              "    }\n",
              "\n",
              "    .dataframe thead th {\n",
              "        text-align: right;\n",
              "    }\n",
              "</style>\n",
              "<table border=\"1\" class=\"dataframe\">\n",
              "  <thead>\n",
              "    <tr style=\"text-align: right;\">\n",
              "      <th></th>\n",
              "      <th>index</th>\n",
              "      <th>reference</th>\n",
              "      <th>reference_titleid</th>\n",
              "      <th>similar_title</th>\n",
              "      <th>score</th>\n",
              "      <th>max</th>\n",
              "      <th>score_div_max</th>\n",
              "      <th>similar_titleid</th>\n",
              "    </tr>\n",
              "  </thead>\n",
              "  <tbody>\n",
              "    <tr>\n",
              "      <th>0</th>\n",
              "      <td>0</td>\n",
              "      <td>After You've Gone [jazz1350]</td>\n",
              "      <td>38</td>\n",
              "      <td>A Time For Love [jazz1350]</td>\n",
              "      <td>0.793353</td>\n",
              "      <td>0.793353</td>\n",
              "      <td>1.000000</td>\n",
              "      <td>26</td>\n",
              "    </tr>\n",
              "    <tr>\n",
              "      <th>1</th>\n",
              "      <td>1</td>\n",
              "      <td>After You've Gone [jazz1350]</td>\n",
              "      <td>38</td>\n",
              "      <td>Make Someone Happy [jazz1350]</td>\n",
              "      <td>0.908380</td>\n",
              "      <td>0.908380</td>\n",
              "      <td>1.000000</td>\n",
              "      <td>768</td>\n",
              "    </tr>\n",
              "    <tr>\n",
              "      <th>2</th>\n",
              "      <td>2</td>\n",
              "      <td>After You've Gone [jazz1350]</td>\n",
              "      <td>38</td>\n",
              "      <td>Chicago [jazz1350]</td>\n",
              "      <td>0.899183</td>\n",
              "      <td>0.908380</td>\n",
              "      <td>1.000000</td>\n",
              "      <td>238</td>\n",
              "    </tr>\n",
              "    <tr>\n",
              "      <th>3</th>\n",
              "      <td>3</td>\n",
              "      <td>After You've Gone [jazz1350]</td>\n",
              "      <td>38</td>\n",
              "      <td>Take The A Train [jazz1350]</td>\n",
              "      <td>0.916679</td>\n",
              "      <td>0.916679</td>\n",
              "      <td>1.000000</td>\n",
              "      <td>1143</td>\n",
              "    </tr>\n",
              "    <tr>\n",
              "      <th>4</th>\n",
              "      <td>4</td>\n",
              "      <td>After You've Gone [jazz1350]</td>\n",
              "      <td>38</td>\n",
              "      <td>Hello [jazz1350]</td>\n",
              "      <td>0.782555</td>\n",
              "      <td>0.793353</td>\n",
              "      <td>0.986388</td>\n",
              "      <td>461</td>\n",
              "    </tr>\n",
              "  </tbody>\n",
              "</table>\n",
              "</div>"
            ],
            "text/plain": [
              "  index                     reference  ... score_div_max similar_titleid\n",
              "0     0  After You've Gone [jazz1350]  ...      1.000000              26\n",
              "1     1  After You've Gone [jazz1350]  ...      1.000000             768\n",
              "2     2  After You've Gone [jazz1350]  ...      1.000000             238\n",
              "3     3  After You've Gone [jazz1350]  ...      1.000000            1143\n",
              "4     4  After You've Gone [jazz1350]  ...      0.986388             461\n",
              "\n",
              "[5 rows x 8 columns]"
            ]
          },
          "metadata": {},
          "execution_count": 92
        }
      ]
    },
    {
      "cell_type": "code",
      "metadata": {
        "colab": {
          "base_uri": "https://localhost:8080/",
          "height": 542
        },
        "id": "n4dv7VVe5NT4",
        "outputId": "63316dbc-c98b-48be-8037-40ab32ba59a6"
      },
      "source": [
        "import plotly.express as px\n",
        "fig = px.histogram(df_sim, x=\"score\", nbins=50, title='doc2vec sections')\n",
        "fig.show()"
      ],
      "execution_count": 93,
      "outputs": [
        {
          "output_type": "display_data",
          "data": {
            "text/html": [
              "<html>\n",
              "<head><meta charset=\"utf-8\" /></head>\n",
              "<body>\n",
              "    <div>\n",
              "            <script src=\"https://cdnjs.cloudflare.com/ajax/libs/mathjax/2.7.5/MathJax.js?config=TeX-AMS-MML_SVG\"></script><script type=\"text/javascript\">if (window.MathJax) {MathJax.Hub.Config({SVG: {font: \"STIX-Web\"}});}</script>\n",
              "                <script type=\"text/javascript\">window.PlotlyConfig = {MathJaxConfig: 'local'};</script>\n",
              "        <script src=\"https://cdn.plot.ly/plotly-latest.min.js\"></script>    \n",
              "            <div id=\"f25febbb-91a9-41a1-a4fe-1baed2dbe786\" class=\"plotly-graph-div\" style=\"height:525px; width:100%;\"></div>\n",
              "            <script type=\"text/javascript\">\n",
              "                \n",
              "                    window.PLOTLYENV=window.PLOTLYENV || {};\n",
              "                    \n",
              "                if (document.getElementById(\"f25febbb-91a9-41a1-a4fe-1baed2dbe786\")) {\n",
              "                    Plotly.newPlot(\n",
              "                        'f25febbb-91a9-41a1-a4fe-1baed2dbe786',\n",
              "                        [{\"alignmentgroup\": \"True\", \"bingroup\": \"x\", \"hoverlabel\": {\"namelength\": 0}, \"hovertemplate\": \"score=%{x}<br>count=%{y}\", \"legendgroup\": \"\", \"marker\": {\"color\": \"#636efa\"}, \"name\": \"\", \"nbinsx\": 50, \"offsetgroup\": \"\", \"orientation\": \"v\", \"showlegend\": false, \"type\": \"histogram\", \"x\": [0.9083802700042725, 0.8885761499404907, 0.8811346292495728, 0.8620578646659851, 0.8567452430725098, 0.8511492609977722, 0.830939769744873, 0.8293054699897766, 0.82855224609375, 0.8253909945487976, 0.8218407034873962, 0.8205594420433044, 0.8184651732444763, 0.8052762150764465, 0.8027995824813843, 0.7998308539390564, 0.7979307770729065, 0.790504515171051, 0.7896616458892822, 0.7893746495246887, 0.7877447605133057, 0.7874460816383362, 0.7851929068565369, 0.7851848602294922, 0.7836765050888062, 0.7835908532142639, 0.7833238840103149, 0.7795395255088806, 0.7786872982978821, 0.9166789054870605, 0.9024572968482971, 0.8708550930023193, 0.8605111241340637, 0.8549862504005432, 0.8410868644714355, 0.8399043083190918, 0.8395998477935791, 0.8351293802261353, 0.8324018120765686, 0.8272524476051331, 0.8269468545913696, 0.8198375701904297, 0.8186172246932983, 0.817505419254303, 0.8048056960105896, 0.8024541735649109, 0.8024066686630249, 0.802100419998169, 0.8006055951118469, 0.8004605770111084, 0.7978379726409912, 0.7971028089523315, 0.7953168749809265, 0.7950453162193298, 0.7941346168518066, 0.7919251918792725, 0.7902045845985413, 0.7874265313148499, 0.8991825580596924, 0.8957805633544922, 0.8760247230529785, 0.8493818640708923, 0.847681999206543, 0.8400568962097168, 0.8378236889839172, 0.8247514963150024, 0.8202248811721802, 0.8116708993911743, 0.8049710988998413, 0.8044742345809937, 0.803368330001831, 0.797532320022583, 0.797331690788269, 0.7961941957473755, 0.7946835160255432, 0.7842108607292175, 0.784022867679596, 0.7834694981575012, 0.7803235650062561, 0.7781103849411011, 0.7717382311820984, 0.7716270089149475, 0.769245982170105, 0.7663472294807434, 0.7662656903266907, 0.7648911476135254, 0.7632068991661072, 0.7933533191680908, 0.7825545072555542, 0.7594220638275146, 0.7433320879936218, 0.7361946105957031, 0.7349764704704285, 0.7346553802490234, 0.7226738333702087, 0.7200019955635071, 0.7020142674446106, 0.6999658942222595, 0.699052631855011, 0.6982176303863525, 0.6962310075759888, 0.6959604620933533, 0.6951611042022705, 0.6939361691474915, 0.6841548681259155, 0.6829526424407959, 0.6813943982124329, 0.6760857701301575, 0.6729565262794495, 0.6728065609931946, 0.6635363698005676, 0.663434624671936, 0.6595754623413086, 0.6584595441818237, 0.6562460660934448, 0.6550572514533997, 0.6537261605262756, 0.647147536277771, 0.6449998021125793, 0.6439206004142761, 0.941035807132721, 0.9324541687965393, 0.9321916103363037, 0.9070122241973877, 0.9050490856170654, 0.9027338624000549, 0.8977612853050232, 0.8926111459732056, 0.8862813115119934, 0.8860539197921753, 0.885263204574585, 0.8832566738128662, 0.882271409034729, 0.8778095245361328, 0.8756359815597534, 0.8749761581420898, 0.8716442584991455, 0.8716017007827759, 0.86944979429245, 0.8685380220413208, 0.8685029149055481, 0.8672754764556885, 0.8665503263473511, 0.8662298917770386, 0.8650208711624146, 0.8608378171920776, 0.8598125576972961, 0.8597803115844727, 0.8579079508781433, 0.8575064539909363, 0.8555416464805603, 0.8552535176277161, 0.8545010685920715, 0.8542288541793823, 0.9254910349845886, 0.9227274656295776, 0.90503990650177, 0.9048565626144409, 0.8996594548225403, 0.8969832062721252, 0.896123468875885, 0.8946325182914734, 0.8926460146903992, 0.8882341980934143, 0.8792243599891663, 0.8788525462150574, 0.8781384229660034, 0.8765250444412231, 0.8764413595199585, 0.8674622178077698, 0.8542392253875732, 0.8518176078796387, 0.8509559631347656, 0.8487603664398193, 0.8484493494033813, 0.847070038318634, 0.8391362428665161, 0.8376455903053284, 0.8371149897575378, 0.8370682001113892, 0.8363552689552307, 0.8353480696678162, 0.8349356055259705, 0.8346356749534607, 0.8345943689346313, 0.8336679339408875, 0.8315036296844482, 0.8303322792053223, 0.8290912508964539, 0.8257215023040771, 0.9486700296401978, 0.9443979263305664, 0.9409201741218567, 0.9401053786277771, 0.9383314251899719, 0.9376051425933838, 0.9344876408576965, 0.9228779077529907, 0.9195634126663208, 0.9143877029418945, 0.9064125418663025, 0.9054139852523804, 0.9049844145774841, 0.9041327238082886, 0.899856448173523, 0.8978685140609741, 0.8976109623908997, 0.8974094986915588, 0.8918965458869934, 0.8917180895805359, 0.8909192681312561, 0.8875612020492554, 0.8830016851425171, 0.8811128735542297, 0.8763743042945862, 0.8758276700973511, 0.8753295540809631, 0.8742442727088928, 0.8721502423286438, 0.8673343062400818, 0.8669002056121826, 0.8653780221939087, 0.864764392375946, 0.8641263842582703, 0.8637577295303345, 0.900612473487854, 0.8862151503562927, 0.8793042898178101, 0.8779164552688599, 0.8698481917381287, 0.8691486120223999, 0.8621208071708679, 0.8585799932479858, 0.8564432859420776, 0.8538886904716492, 0.8527631759643555, 0.8507659435272217, 0.8451345562934875, 0.8430206775665283, 0.842617928981781, 0.8411040902137756, 0.8357843160629272, 0.8348986506462097, 0.8311915993690491, 0.8289620876312256, 0.8286908268928528, 0.8251096606254578, 0.8226824402809143, 0.8204031586647034, 0.8140358924865723, 0.8118076920509338, 0.8098406195640564, 0.8082804083824158, 0.8051243424415588, 0.8042791485786438, 0.8020113706588745, 0.8913846015930176, 0.8784607648849487, 0.8737715482711792, 0.870518147945404, 0.870334804058075, 0.8651860356330872, 0.8467234969139099, 0.8465665578842163, 0.8439000844955444, 0.8417261242866516, 0.8408096432685852, 0.8362128138542175, 0.8347087502479553, 0.8338953852653503, 0.8334870934486389, 0.8317242860794067, 0.8310871124267578, 0.8295653462409973, 0.8287946581840515, 0.8277804851531982, 0.8258423209190369, 0.8237913846969604, 0.8220163583755493, 0.820965051651001, 0.8207588791847229, 0.8189206123352051, 0.8170377612113953, 0.8050915002822876, 0.7996603846549988, 0.7984264492988586, 0.7971873879432678, 0.96565181016922, 0.9628205299377441, 0.9563456773757935, 0.9473763108253479, 0.9469200968742371, 0.9431247711181641, 0.9419106841087341, 0.9404175877571106, 0.9372360706329346, 0.9313876032829285, 0.9306401610374451, 0.9288001656532288, 0.9287412166595459, 0.9234635233879089, 0.9224730730056763, 0.9197670817375183, 0.9182903170585632, 0.9141663312911987, 0.9117852449417114, 0.9113902449607849, 0.9110571146011353, 0.9064969420433044, 0.9053003787994385, 0.904935896396637, 0.9048436880111694, 0.9040879607200623, 0.902864396572113, 0.8993949294090271, 0.8977935910224915, 0.8955958485603333, 0.8955659866333008, 0.8953514695167542, 0.8939722776412964, 0.8932064175605774, 0.8930883407592773, 0.8930749297142029, 0.8919883966445923, 0.9149900674819946, 0.9092577695846558, 0.8820756673812866, 0.8820487260818481, 0.8728743195533752, 0.8697131872177124, 0.868463933467865, 0.8604694604873657, 0.8599027991294861, 0.8518815636634827, 0.8506342172622681, 0.8455434441566467, 0.8445083498954773, 0.8438119292259216, 0.8406651616096497, 0.8401073217391968, 0.8343296647071838, 0.83057701587677, 0.8298790454864502, 0.8297512531280518, 0.8284534215927124, 0.8217687010765076, 0.8194175362586975, 0.8168410658836365, 0.8159992694854736, 0.8135066032409668, 0.8121618032455444, 0.8103322386741638, 0.8100113868713379, 0.8077986240386963, 0.8072850108146667, 0.9155029058456421, 0.9093500971794128, 0.8924082517623901, 0.8893539309501648, 0.8782998919487, 0.8749512434005737, 0.8715919852256775, 0.8706156611442566, 0.8693193197250366, 0.8681840300559998, 0.8671845197677612, 0.8656972050666809, 0.8650704026222229, 0.8639044761657715, 0.8623486757278442, 0.8597112894058228, 0.8511237502098083, 0.8487680554389954, 0.8477004766464233, 0.8472511172294617, 0.8452407717704773, 0.8427766561508179, 0.8422467708587646, 0.8402701616287231, 0.8367895483970642, 0.8352816700935364, 0.8338773250579834, 0.8326477408409119, 0.8293590545654297, 0.8292965888977051, 0.8284746408462524, 0.8283987641334534, 0.8213503360748291, 0.8201939463615417, 0.8189845085144043, 0.8414676785469055, 0.8374238610267639, 0.8061819076538086, 0.7920533418655396, 0.7848135828971863, 0.7830409407615662, 0.7813146710395813, 0.7694314122200012, 0.7478246688842773, 0.7463666796684265, 0.7455639839172363, 0.7421349883079529, 0.7410305142402649, 0.7390431761741638, 0.733211874961853, 0.7217286825180054, 0.7085952162742615, 0.7002570629119873, 0.695005476474762, 0.693906843662262, 0.6936006546020508, 0.6916228532791138, 0.6847007274627686, 0.6779686212539673, 0.6768374443054199, 0.6756415367126465, 0.6753286123275757, 0.6669024229049683, 0.6635431051254272, 0.663499653339386, 0.6631295084953308, 0.6607301831245422, 0.8557791113853455, 0.8288736343383789, 0.8048039078712463, 0.7986062169075012, 0.7856022119522095, 0.7850551009178162, 0.7654021382331848, 0.763287365436554, 0.7557737231254578, 0.7483612298965454, 0.7469711899757385, 0.7445803880691528, 0.7397365570068359, 0.7384235262870789, 0.7376233339309692, 0.7358184456825256, 0.7347196936607361, 0.732058584690094, 0.7299327850341797, 0.7295892238616943, 0.7285987734794617, 0.7283715605735779, 0.727570652961731, 0.7270897626876831, 0.7262334227561951, 0.7261034846305847, 0.7239894270896912, 0.7649888396263123, 0.7582369446754456, 0.7274208068847656, 0.725886344909668, 0.7239715456962585, 0.7200619578361511, 0.7187929153442383, 0.717656135559082, 0.7168210744857788, 0.7113754153251648, 0.7098634243011475, 0.7085906863212585, 0.7056770324707031, 0.7012096047401428, 0.7011088132858276, 0.6893683671951294, 0.6881798505783081, 0.6868071556091309, 0.6828461289405823, 0.6764939427375793, 0.6760954260826111, 0.6748219132423401, 0.6703834533691406, 0.6686791777610779, 0.6686176061630249, 0.6677106618881226, 0.6670836806297302, 0.6662116050720215, 0.6655681729316711, 0.665309727191925, 0.6645471453666687, 0.6586252450942993, 0.856406033039093, 0.8381062150001526, 0.8272523880004883, 0.8133408427238464, 0.8109421133995056, 0.807209312915802, 0.8030493259429932, 0.7915545105934143, 0.7906626462936401, 0.7901482582092285, 0.787004292011261, 0.7798287868499756, 0.7787783145904541, 0.7784953117370605, 0.7776802182197571, 0.7737144827842712, 0.7699329257011414, 0.7684702277183533, 0.7679633498191833, 0.7677289843559265, 0.7632876038551331, 0.7630529999732971, 0.7619627118110657, 0.7610762119293213, 0.7588077187538147, 0.7585626840591431, 0.7584226727485657, 0.7584105134010315, 0.75760817527771, 0.7057782411575317, 0.6433553099632263, 0.6321390867233276, 0.5623667240142822, 0.5606398582458496, 0.5483065843582153, 0.5268114805221558, 0.5257356762886047, 0.5231052041053772, 0.5169063806533813, 0.513849139213562, 0.5114497542381287, 0.5087699294090271, 0.5077691078186035, 0.4997197687625885, 0.49576956033706665, 0.49389830231666565, 0.4912082850933075, 0.4873020350933075, 0.48712044954299927, 0.48645272850990295, 0.48603689670562744, 0.48412516713142395, 0.4758571982383728, 0.4752591550350189, 0.47491276264190674, 0.4735194444656372, 0.4719890058040619, 0.4639205038547516, 0.4629770815372467, 0.4615883231163025, 0.8756642937660217, 0.8538881540298462, 0.8512664437294006, 0.8382264375686646, 0.8358816504478455, 0.8273305892944336, 0.7973177433013916, 0.7849358320236206, 0.7833811640739441, 0.7770065665245056, 0.7664635181427002, 0.7658929824829102, 0.7645052075386047, 0.764375627040863, 0.7614280581474304, 0.7572529315948486, 0.7451897859573364, 0.7430497407913208, 0.7427739500999451, 0.739935040473938, 0.7348791360855103, 0.7342036962509155, 0.7312695980072021, 0.7305168509483337, 0.7304978966712952, 0.7293803095817566, 0.7276485562324524, 0.9261407256126404, 0.917129635810852, 0.9049845337867737, 0.900530219078064, 0.889420747756958, 0.8893275260925293, 0.8836277723312378, 0.8792417049407959, 0.8757432103157043, 0.8729454874992371, 0.8729419708251953, 0.8664648532867432, 0.8634541630744934, 0.8614542484283447, 0.8595227599143982, 0.8592438101768494, 0.857524573802948, 0.8572009801864624, 0.856919527053833, 0.8522542119026184, 0.8510100841522217, 0.8503239154815674, 0.8452169299125671, 0.844764769077301, 0.8430027365684509, 0.8392224311828613, 0.8369540572166443, 0.8344926238059998, 0.8341041207313538, 0.8266657590866089, 0.8238883018493652, 0.8231751918792725, 0.8003307580947876, 0.7905079126358032, 0.7900640964508057, 0.781140148639679, 0.7776345610618591, 0.7677034139633179, 0.7568950057029724, 0.7339867949485779, 0.7312057614326477, 0.7295860052108765, 0.7208473086357117, 0.7191184759140015, 0.6986387968063354, 0.6934062242507935, 0.6898565292358398, 0.6818864345550537, 0.6810929775238037, 0.6799491047859192, 0.6721668839454651, 0.6628199815750122, 0.6624809503555298, 0.6580232977867126, 0.6471831798553467, 0.6458460092544556, 0.6262814402580261, 0.6216145753860474, 0.6190406084060669, 0.6153261661529541, 0.6132174134254456, 0.6091712117195129, 0.6071714758872986, 0.8864197731018066, 0.8728026151657104, 0.8716202974319458, 0.8629186749458313, 0.8586113452911377, 0.8552042245864868, 0.8450738787651062, 0.8395018577575684, 0.8377026319503784, 0.8354523777961731, 0.8352287411689758, 0.8250696063041687, 0.8227598071098328, 0.8175687193870544, 0.8125611543655396, 0.8119789361953735, 0.8083866238594055, 0.8079460859298706, 0.8072112798690796, 0.8043181300163269, 0.8042727112770081, 0.8001701235771179, 0.7991506457328796, 0.796655535697937, 0.7925209999084473, 0.7886930108070374, 0.7871088981628418, 0.7795727849006653, 0.7781429886817932, 0.7779584527015686, 0.7778266072273254, 0.7777818441390991, 0.7777500748634338, 0.7764419913291931, 0.7762330770492554, 0.7758869528770447, 0.9563301205635071, 0.9411826133728027, 0.9360896944999695, 0.9262248277664185, 0.9163820743560791, 0.9117172360420227, 0.9040417075157166, 0.9023340344429016, 0.8919140696525574, 0.8909441828727722, 0.8817394971847534, 0.8789705038070679, 0.8753487467765808, 0.8673012256622314, 0.8646013736724854, 0.8608449101448059, 0.8590692281723022, 0.8570889830589294, 0.8556257486343384, 0.8536292910575867, 0.8524431586265564, 0.8500661253929138, 0.8480868935585022, 0.8461892008781433, 0.8383303284645081, 0.8368445038795471, 0.8342951536178589, 0.8302822113037109, 0.8280947208404541, 0.8227598071098328, 0.7519745826721191, 0.6681476831436157, 0.6494907140731812, 0.6340199708938599, 0.6335291266441345, 0.630386471748352, 0.6214994192123413, 0.6152474284172058, 0.6097561717033386, 0.6086626648902893, 0.5975096225738525, 0.5945817232131958, 0.5926328301429749, 0.589667022228241, 0.5839602947235107, 0.5835422873497009, 0.5826578736305237, 0.5809327363967896, 0.580338716506958, 0.5799767971038818, 0.5762246251106262, 0.5751316547393799, 0.5729894042015076, 0.5714645981788635, 0.569071888923645, 0.5665388107299805, 0.5652086734771729, 0.5627989172935486, 0.5627954602241516, 0.5592759251594543, 0.558626651763916, 0.9407331347465515, 0.9343209862709045, 0.9336921572685242, 0.9171578884124756, 0.9112403392791748, 0.8984463214874268, 0.8965737223625183, 0.8956362009048462, 0.8904655575752258, 0.8879307508468628, 0.8873359560966492, 0.8829317092895508, 0.8807705640792847, 0.8797435164451599, 0.8764081597328186, 0.8753321766853333, 0.8751468658447266, 0.8727855682373047, 0.8711256384849548, 0.8672449588775635, 0.866244375705719, 0.8630887269973755, 0.86226886510849, 0.8617839217185974, 0.8614395260810852, 0.8598960638046265, 0.8593312501907349, 0.8593183755874634, 0.8572670221328735, 0.8566843271255493, 0.7650851011276245, 0.7625687122344971, 0.7336049675941467, 0.7257981896400452, 0.7100274562835693, 0.7019248604774475, 0.690251886844635, 0.6870331168174744, 0.685512125492096, 0.6852871179580688, 0.6702944040298462, 0.6693455576896667, 0.6687929034233093, 0.6673133373260498, 0.6629073619842529, 0.6552393436431885, 0.6542689800262451, 0.6542008519172668, 0.6539753675460815, 0.6522536277770996, 0.6520215272903442, 0.6517195105552673, 0.6486097574234009, 0.6485206484794617, 0.6459624171257019, 0.6451176404953003, 0.6449868679046631, 0.6431757807731628, 0.6418930292129517, 0.6415544748306274, 0.6412806510925293, 0.6402083039283752, 0.640019416809082, 0.6397132277488708, 0.6376033425331116, 0.6366941928863525, 0.6338726282119751, 0.633236825466156, 0.6290805339813232, 0.6283233165740967, 0.9172577261924744, 0.9111779928207397, 0.9008559584617615, 0.9002211093902588, 0.8977946639060974, 0.8974840044975281, 0.8958422541618347, 0.8929235339164734, 0.8892345428466797, 0.888953685760498, 0.8876451253890991, 0.8869067430496216, 0.8853064775466919, 0.8852913975715637, 0.8847164511680603, 0.883613109588623, 0.8816179037094116, 0.8806763887405396, 0.8795742988586426, 0.8790286779403687, 0.8781530261039734, 0.8769385814666748, 0.8749951124191284, 0.8746336102485657, 0.8738834857940674, 0.8737642168998718, 0.8721999526023865, 0.8705093264579773, 0.8700331449508667, 0.8687339425086975, 0.8685854077339172, 0.8678716421127319, 0.8677999377250671, 0.8664193749427795, 0.865911602973938, 0.8618737459182739, 0.8622646927833557, 0.8566697835922241, 0.8441430330276489, 0.8338049054145813, 0.8287293910980225, 0.825491189956665, 0.8132890462875366, 0.809809684753418, 0.8016718626022339, 0.8008489608764648, 0.7974658608436584, 0.7952039241790771, 0.7895113229751587, 0.7882410287857056, 0.7870286703109741, 0.7793387770652771, 0.777531087398529, 0.7765336036682129, 0.773080050945282, 0.7716915011405945, 0.770942211151123, 0.769486129283905, 0.7639204859733582, 0.7627095580101013, 0.7619814872741699, 0.7570540308952332, 0.7543798089027405, 0.752642810344696, 0.750694751739502, 0.7506817579269409, 0.7496895790100098, 0.9551635384559631, 0.9433338642120361, 0.9420071244239807, 0.9366999268531799, 0.9362617135047913, 0.9362179636955261, 0.9360024929046631, 0.9281519055366516, 0.9270777702331543, 0.9219954609870911, 0.9207053780555725, 0.9190270900726318, 0.9188588261604309, 0.917111873626709, 0.9129603505134583, 0.9115176796913147, 0.9106969237327576, 0.9091597199440002, 0.904829740524292, 0.9046913385391235, 0.9042350053787231, 0.9015882611274719, 0.901019811630249, 0.8983891606330872, 0.8932069540023804, 0.8929309844970703, 0.8927112817764282, 0.8923973441123962, 0.8898650407791138, 0.8847902417182922, 0.8840885758399963, 0.883580207824707, 0.8815966248512268, 0.8809308409690857, 0.9143461585044861, 0.9051903486251831, 0.9022735357284546, 0.889024019241333, 0.8879483938217163, 0.8836958408355713, 0.8833210468292236, 0.8797435164451599, 0.8790121674537659, 0.8769382238388062, 0.8731443285942078, 0.8730816841125488, 0.870363175868988, 0.8696127533912659, 0.8664649128913879, 0.8608449697494507, 0.8602577447891235, 0.8565797209739685, 0.8563916683197021, 0.854562520980835, 0.8483197689056396, 0.8479130864143372, 0.8436521291732788, 0.8417580723762512, 0.840859055519104, 0.8408219218254089, 0.8394898176193237, 0.8374249339103699, 0.8328336477279663, 0.8292689323425293, 0.8213576078414917, 0.8191238641738892, 0.9661125540733337, 0.9605706334114075, 0.9593522548675537, 0.9579494595527649, 0.9569106101989746, 0.9557734131813049, 0.9482243061065674, 0.9480739831924438, 0.9456402659416199, 0.9449857473373413, 0.9440712928771973, 0.9439772367477417, 0.9409410357475281, 0.9407294988632202, 0.9380892515182495, 0.9345216155052185, 0.9325181841850281, 0.9310465455055237, 0.9295274615287781, 0.9286046028137207, 0.9285634756088257, 0.9281447529792786, 0.9278861284255981, 0.9273543357849121, 0.9261050224304199, 0.9251137375831604, 0.9247056245803833, 0.9246610999107361, 0.9238607883453369, 0.9225344657897949, 0.9223676323890686, 0.9207931160926819, 0.9204249978065491, 0.9121184945106506, 0.9102595448493958, 0.9097917079925537, 0.898427426815033, 0.895281970500946, 0.8909100294113159, 0.8844220638275146, 0.8830026984214783, 0.8707886934280396, 0.8688015341758728, 0.8680662512779236, 0.8669002056121826, 0.8656154870986938, 0.8488119840621948, 0.8484461903572083, 0.8477539420127869, 0.8464844822883606, 0.8454278707504272, 0.8453554511070251, 0.8397120237350464, 0.8392224311828613, 0.8273409605026245, 0.8269486427307129, 0.8269280195236206, 0.8254665732383728, 0.8232226371765137, 0.8213667273521423, 0.8176671862602234, 0.8161391615867615, 0.8119322061538696, 0.8119142055511475, 0.8108960390090942, 0.8055744171142578, 0.8044163584709167, 0.8021031618118286, 0.9046005010604858, 0.8886014223098755, 0.8556156158447266, 0.8495137095451355, 0.8263169527053833, 0.8202374577522278, 0.8144563436508179, 0.8127269744873047, 0.8037669062614441, 0.8030722737312317, 0.7931501269340515, 0.7877609133720398, 0.780470609664917, 0.7802474498748779, 0.7797951102256775, 0.7738252878189087, 0.7694957852363586, 0.7663662433624268, 0.7662864327430725, 0.7654215693473816, 0.759627103805542, 0.7591776847839355, 0.7590727210044861, 0.7577849626541138, 0.7575490474700928, 0.7573133111000061, 0.7555966377258301, 0.7541795969009399, 0.753233015537262, 0.749635636806488, 0.6647145748138428, 0.6424234509468079, 0.6213119626045227, 0.6137096881866455, 0.6086387634277344, 0.5943084955215454, 0.5812944769859314, 0.579187273979187, 0.571088433265686, 0.5675496459007263, 0.5673507452011108, 0.5564155578613281, 0.5561466217041016, 0.5393549203872681, 0.5336509943008423, 0.5211238861083984, 0.516718327999115, 0.5162493586540222, 0.5157889127731323, 0.5152052044868469, 0.5121545195579529, 0.5110815167427063, 0.4989567995071411, 0.49841365218162537, 0.49706679582595825, 0.49604490399360657, 0.4907577931880951, 0.4892834722995758, 0.487413227558136, 0.4864552319049835, 0.48550572991371155, 0.4849051833152771, 0.4841415286064148, 0.4815691411495209, 0.47609058022499084, 0.47297391295433044, 0.4710524380207062, 0.46987268328666687, 0.4680795967578888, 0.8823802471160889, 0.8698462843894958, 0.8652650117874146, 0.8428156971931458, 0.8113329410552979, 0.8038275241851807, 0.7935999035835266, 0.7924521565437317, 0.7761012315750122, 0.7618119120597839, 0.7592783570289612, 0.7543895244598389, 0.7502285242080688, 0.7479161024093628, 0.7454045414924622, 0.7447209358215332, 0.7426387071609497, 0.7424998879432678, 0.7370998859405518, 0.7355384230613708, 0.7348639369010925, 0.7291068434715271, 0.8385429978370667, 0.7969214916229248, 0.7642053961753845, 0.6976249814033508, 0.6963196396827698, 0.6856868863105774, 0.6785726547241211, 0.6756832599639893, 0.6699856519699097, 0.6656951904296875, 0.660716712474823, 0.6603348851203918, 0.6582641005516052, 0.6555864810943604, 0.6541838645935059, 0.6491832137107849, 0.6459274888038635, 0.6458298563957214, 0.6458242535591125, 0.6455084085464478, 0.6446455717086792, 0.6327151656150818, 0.6307827830314636, 0.627379834651947, 0.6161154508590698, 0.6128106117248535, 0.6105102300643921, 0.6086225509643555, 0.6075913906097412, 0.6056352853775024, 0.6041478514671326, 0.6014136672019958, 0.6004029512405396, 0.5956211686134338, 0.5917758345603943, 0.5916642546653748, 0.5882946252822876, 0.5882928967475891, 0.5875382423400879, 0.9485427737236023, 0.9452412724494934, 0.945114254951477, 0.934808611869812, 0.9314702749252319, 0.9299031496047974, 0.9290437698364258, 0.9272955060005188, 0.9263271689414978, 0.9254512190818787, 0.9234045147895813, 0.9227896928787231, 0.922465980052948, 0.9195893406867981, 0.9114316701889038, 0.9113266468048096, 0.9088709950447083, 0.9072306752204895, 0.9060163497924805, 0.9057657718658447, 0.9054761528968811, 0.9039852619171143, 0.9035817980766296, 0.9031921625137329, 0.9028416275978088, 0.9020733833312988, 0.9013926982879639, 0.9008150100708008, 0.8989420533180237, 0.8982358574867249, 0.898064374923706, 0.8975807428359985, 0.8973656892776489, 0.8973569273948669, 0.8969844579696655, 0.896975040435791, 0.8962705135345459, 0.8950669765472412, 0.9728739261627197, 0.9574666619300842, 0.9531338810920715, 0.9505322575569153, 0.9449989199638367, 0.9447726607322693, 0.9432779550552368, 0.9408113360404968, 0.9390387535095215, 0.9339044094085693, 0.9324694275856018, 0.929222583770752, 0.9291483759880066, 0.928985059261322, 0.9264504909515381, 0.9255319833755493, 0.9227151870727539, 0.9167397022247314, 0.9159561991691589, 0.9132991433143616, 0.9096776843070984, 0.9059695601463318, 0.9048972129821777, 0.9022512435913086, 0.9002137184143066, 0.8910771012306213, 0.8910340070724487, 0.8872925639152527, 0.8848215937614441, 0.8845471739768982, 0.8837428092956543, 0.9648498892784119, 0.9404641389846802, 0.9344571828842163, 0.923969030380249, 0.9231654405593872, 0.9208440780639648, 0.9144675731658936, 0.9126179814338684, 0.9110569953918457, 0.9035623669624329, 0.9033716917037964, 0.9005171656608582, 0.900168240070343, 0.8992444276809692, 0.8962059617042542, 0.895746111869812, 0.8928724527359009, 0.8923563361167908, 0.8908400535583496, 0.8899730443954468, 0.8898940682411194, 0.889266312122345, 0.888796329498291, 0.8884747624397278, 0.8861404657363892, 0.8860121965408325, 0.8857462406158447, 0.8850507140159607, 0.8839190602302551, 0.8830834627151489, 0.8795397877693176, 0.8793368339538574, 0.879227876663208, 0.878962516784668, 0.877771258354187, 0.8774259090423584, 0.9043726921081543, 0.8877875804901123, 0.8808802962303162, 0.8751433491706848, 0.8723858594894409, 0.8699762225151062, 0.86469566822052, 0.8611484169960022, 0.8599515557289124, 0.8576191067695618, 0.8498993515968323, 0.8419695496559143, 0.8413107395172119, 0.8396260142326355, 0.8387405872344971, 0.8372963666915894, 0.8370646238327026, 0.8361606597900391, 0.8328714966773987, 0.8302590250968933, 0.8285519480705261, 0.828080415725708, 0.825280487537384, 0.8246636986732483, 0.8225769400596619, 0.8219070434570312, 0.8212407231330872, 0.8207162618637085, 0.8204532265663147, 0.8201455473899841, 0.937869131565094, 0.9123722910881042, 0.888437807559967, 0.8807709813117981, 0.8702648878097534, 0.8614634871482849, 0.8609800338745117, 0.8565173149108887, 0.8484455347061157, 0.8465511798858643, 0.8397219777107239, 0.8393819332122803, 0.8393353819847107, 0.8354971408843994, 0.8352363109588623, 0.8338088393211365, 0.8332748413085938, 0.8268654346466064, 0.8234238028526306, 0.8232661485671997, 0.8229060173034668, 0.8221573829650879, 0.8220831751823425, 0.820427417755127, 0.8200727701187134, 0.8199269771575928, 0.817711591720581, 0.8176195025444031, 0.8132551908493042, 0.8129307627677917, 0.8108647465705872, 0.968651294708252, 0.9571968913078308, 0.9557390809059143, 0.9552633166313171, 0.9526987671852112, 0.9524559378623962, 0.9517443180084229, 0.9459231495857239, 0.9425123929977417, 0.9387403130531311, 0.9360625147819519, 0.9320584535598755, 0.9240373373031616, 0.9208466410636902, 0.920551061630249, 0.9197582006454468, 0.9195833206176758, 0.9184526205062866, 0.9181529879570007, 0.917288064956665, 0.9155397415161133, 0.9076053500175476, 0.9062027335166931, 0.9059252738952637, 0.9048386812210083, 0.9027059078216553, 0.9026464223861694, 0.9011386632919312, 0.9009866714477539, 0.8970929980278015, 0.8959396481513977, 0.8957625031471252, 0.8948261737823486, 0.891992449760437, 0.8914653658866882, 0.890953004360199, 0.8890566229820251, 0.8881731033325195, 0.8850226402282715, 0.9418037533760071, 0.9377143383026123, 0.9348556399345398, 0.9254747629165649, 0.9206964373588562, 0.9197303652763367, 0.9085585474967957, 0.8885987401008606, 0.8850125670433044, 0.8835548162460327, 0.8772188425064087, 0.8765084147453308, 0.8755784034729004, 0.8667577505111694, 0.8652833700180054, 0.862296462059021, 0.8596461415290833, 0.8558728098869324, 0.8545335531234741, 0.8506619930267334, 0.8468602895736694, 0.8439406156539917, 0.8406515717506409, 0.8388701677322388, 0.8360834717750549, 0.8358510136604309, 0.8323554992675781, 0.8319129943847656, 0.831671416759491, 0.8275953531265259, 0.8267788887023926, 0.8255042433738708, 0.8239561915397644, 0.8236115574836731, 0.8915682435035706, 0.8475605845451355, 0.8325793743133545, 0.8219321370124817, 0.8119606375694275, 0.7994469404220581, 0.7992795705795288, 0.799136221408844, 0.7989418506622314, 0.7662847638130188, 0.7661951184272766, 0.7612215876579285, 0.7589349150657654, 0.7536876797676086, 0.7519673109054565, 0.7512245774269104, 0.7486577033996582, 0.7481016516685486, 0.7476691603660583, 0.7460693120956421, 0.7439373731613159, 0.7424423098564148, 0.7361757159233093, 0.7322624325752258, 0.7289081811904907, 0.7260555624961853, 0.725449800491333, 0.7248240113258362, 0.9034914374351501, 0.8980600237846375, 0.8969370722770691, 0.8923397660255432, 0.8888061046600342, 0.8885043263435364, 0.8865840435028076, 0.883817195892334, 0.8801255822181702, 0.8768963813781738, 0.8647990226745605, 0.8642651438713074, 0.859645664691925, 0.8591737151145935, 0.8568816781044006, 0.8525600433349609, 0.8476162552833557, 0.8457288146018982, 0.8435772061347961, 0.8435496687889099, 0.8399462103843689, 0.8344847559928894, 0.8310193419456482, 0.8301018476486206, 0.8286207914352417, 0.8268890976905823, 0.8230265974998474, 0.9105082750320435, 0.9013079404830933, 0.8492428064346313, 0.8473597168922424, 0.8335345387458801, 0.8318822383880615, 0.7768465280532837, 0.7735015153884888, 0.7623441815376282, 0.756145715713501, 0.7485174536705017, 0.748434841632843, 0.7401810884475708, 0.7399441599845886, 0.7390655875205994, 0.7363748550415039, 0.7358143329620361, 0.7351908087730408, 0.7254902124404907, 0.72484290599823, 0.7189928293228149, 0.7147718071937561, 0.7114641666412354, 0.7088746428489685, 0.7036958932876587, 0.6963334679603577, 0.6950656771659851, 0.6936805844306946, 0.9416422843933105, 0.9254294037818909, 0.9033344388008118, 0.8977173566818237, 0.8964523673057556, 0.8934037089347839, 0.892852246761322, 0.8919915556907654, 0.88726407289505, 0.880078136920929, 0.8798897862434387, 0.877962052822113, 0.8759641647338867, 0.8750923871994019, 0.8706995248794556, 0.8692263960838318, 0.8646562099456787, 0.8615743517875671, 0.8596087694168091, 0.8587130904197693, 0.8559435606002808, 0.8543604612350464, 0.8498825430870056, 0.8496517539024353, 0.848750650882721, 0.8481760025024414, 0.8475891947746277, 0.8453855514526367, 0.8448273539543152, 0.8443993926048279, 0.8439835906028748, 0.8426967263221741, 0.8418788909912109, 0.8360416293144226, 0.8350754380226135, 0.8329191207885742, 0.8315017223358154, 0.9571813941001892, 0.9408988952636719, 0.9364789724349976, 0.9235934615135193, 0.9174424409866333, 0.9161287546157837, 0.9141300916671753, 0.9110807180404663, 0.9074158072471619, 0.9073427319526672, 0.9071753621101379, 0.9049131870269775, 0.9012191295623779, 0.9006819725036621, 0.8976563811302185, 0.8961893320083618, 0.8940063118934631, 0.8932327032089233, 0.8923845887184143, 0.8921394944190979, 0.8878039121627808, 0.886264443397522, 0.8813936114311218, 0.8792737126350403, 0.8792130351066589, 0.875000536441803, 0.8748373985290527, 0.8745400309562683, 0.873874843120575, 0.9517428278923035, 0.9491517543792725, 0.9485633373260498, 0.9474018216133118, 0.9426146149635315, 0.9379640817642212, 0.9281691312789917, 0.9234403371810913, 0.9224477410316467, 0.9182940125465393, 0.9171110987663269, 0.9099760055541992, 0.9048977494239807, 0.8974969983100891, 0.8960946798324585, 0.8959857225418091, 0.8934223055839539, 0.8932831883430481, 0.8881040215492249, 0.8856732845306396, 0.8832745552062988, 0.8828665614128113, 0.8827921748161316, 0.8819405436515808, 0.8744635581970215, 0.8733442425727844, 0.868495523929596, 0.8655641078948975, 0.8651756048202515, 0.8648529052734375, 0.8646600246429443, 0.8606948256492615, 0.8586535453796387, 0.8572163581848145, 0.8554903268814087, 0.8546255826950073, 0.8537062406539917, 0.8497756123542786, 0.8372595310211182, 0.9512500166893005, 0.944655179977417, 0.9187190532684326, 0.9181608557701111, 0.9151549339294434, 0.9111000895500183, 0.9048590660095215, 0.90345698595047, 0.9010898470878601, 0.8943808674812317, 0.8903985023498535, 0.8856878876686096, 0.8852018117904663, 0.8847476840019226, 0.8838639855384827, 0.881830096244812, 0.8796899914741516, 0.878009557723999, 0.8779052495956421, 0.8730784058570862, 0.8704647421836853, 0.8661446571350098, 0.8632842302322388, 0.8614468574523926, 0.8569891452789307, 0.8559269905090332, 0.8527927994728088, 0.8518297672271729, 0.848205029964447, 0.8460960388183594, 0.8448029160499573, 0.843878984451294, 0.8404787182807922, 0.8395384550094604, 0.8388727307319641, 0.9635365009307861, 0.8769941926002502, 0.8549520373344421, 0.8530400395393372, 0.8495509624481201, 0.8483580946922302, 0.836650550365448, 0.8211077451705933, 0.8206935524940491, 0.8131632208824158, 0.8109571933746338, 0.8078426718711853, 0.8011713624000549, 0.7940735220909119, 0.7936245799064636, 0.7896745204925537, 0.7893903255462646, 0.787537693977356, 0.7871581315994263, 0.7860546708106995, 0.7802239656448364, 0.7787924408912659, 0.7786885499954224, 0.7785242795944214, 0.777857780456543, 0.7726522088050842, 0.7724592089653015, 0.9369506239891052, 0.8709354400634766, 0.8618247509002686, 0.857534646987915, 0.8428672552108765, 0.8410016894340515, 0.8407848477363586, 0.83909010887146, 0.8342100381851196, 0.8288034796714783, 0.8219623565673828, 0.8177791237831116, 0.808769166469574, 0.8057880997657776, 0.8019998073577881, 0.8014503121376038, 0.8009901642799377, 0.79939204454422, 0.797549307346344, 0.7952769994735718, 0.7934431433677673, 0.7897990942001343, 0.7868191599845886, 0.7863702774047852, 0.7863631844520569, 0.9631273150444031, 0.946040153503418, 0.944903552532196, 0.9444320201873779, 0.9392089247703552, 0.9355075359344482, 0.935264527797699, 0.9287932515144348, 0.9281796216964722, 0.9239978194236755, 0.9235633015632629, 0.9199037551879883, 0.9126025438308716, 0.9125303626060486, 0.9103874564170837, 0.9088135957717896, 0.9058148860931396, 0.8989754319190979, 0.889947235584259, 0.8898104429244995, 0.8881134390830994, 0.8774909973144531, 0.8773289918899536, 0.8742142915725708, 0.8710546493530273, 0.8710301518440247, 0.8709931373596191, 0.8629647493362427, 0.8608245849609375, 0.8578398823738098, 0.8568284511566162, 0.8567036390304565, 0.8546858429908752, 0.8537416458129883, 0.8499352335929871, 0.8465688824653625, 0.9505389928817749, 0.9169950485229492, 0.8731493353843689, 0.8665611743927002, 0.8575471043586731, 0.8563374280929565, 0.8476126790046692, 0.8450368046760559, 0.8375394344329834, 0.8372588753700256, 0.8359024524688721, 0.8347561359405518, 0.8345625400543213, 0.8341740965843201, 0.8337059617042542, 0.8333034515380859, 0.8309662938117981, 0.8307358026504517, 0.8281609416007996, 0.8278763890266418, 0.8272197246551514, 0.8251714110374451, 0.8229520320892334, 0.822495698928833, 0.8146199584007263, 0.8074249625205994, 0.9208986759185791, 0.8994835615158081, 0.8871870040893555, 0.8853070139884949, 0.8816331624984741, 0.8812268972396851, 0.8769764304161072, 0.8761152029037476, 0.8733944892883301, 0.8701432347297668, 0.8680596947669983, 0.8662910461425781, 0.8627410531044006, 0.8614493012428284, 0.8545404672622681, 0.845876932144165, 0.8430072665214539, 0.8374996185302734, 0.8366402983665466, 0.8311302065849304, 0.8293104767799377, 0.8292965292930603, 0.8272773027420044, 0.8221574425697327, 0.8215804696083069, 0.821025550365448, 0.8192540407180786, 0.818151593208313, 0.817815899848938, 0.8174576163291931, 0.8173111081123352, 0.9265405535697937, 0.9192046523094177, 0.9187117218971252, 0.9060730338096619, 0.90487140417099, 0.899754524230957, 0.8993687033653259, 0.8980774283409119, 0.8968082666397095, 0.8938080668449402, 0.8922271132469177, 0.8920868635177612, 0.8888419270515442, 0.8888339996337891, 0.8867831230163574, 0.8845200538635254, 0.8774487972259521, 0.8739293217658997, 0.8634417653083801, 0.8622604012489319, 0.861328661441803, 0.8591214418411255, 0.8563067317008972, 0.8559355139732361, 0.8556292653083801, 0.8555063605308533, 0.8554946780204773, 0.8542370200157166, 0.8535724878311157, 0.8534479737281799, 0.8523826003074646, 0.8521971106529236, 0.8504526019096375, 0.8489022254943848, 0.7905313968658447, 0.7630178332328796, 0.7565531134605408, 0.749871015548706, 0.7462356090545654, 0.7420545816421509, 0.7373239398002625, 0.7292751669883728, 0.7278215885162354, 0.7205067276954651, 0.7109797596931458, 0.6987193822860718, 0.698017954826355, 0.6935989856719971, 0.6864439845085144, 0.6819454431533813, 0.6787940263748169, 0.6750249862670898, 0.6696923971176147, 0.6677097678184509, 0.6661325693130493, 0.6644209623336792, 0.6642929315567017, 0.6614928245544434, 0.6606200933456421, 0.6595271229743958, 0.6580777168273926, 0.6558684706687927, 0.6554437279701233, 0.6515005230903625, 0.6501182913780212, 0.6477645635604858, 0.6434645056724548, 0.6414552330970764, 0.6405035257339478, 0.6395837664604187, 0.8944833278656006, 0.8441584706306458, 0.8326830863952637, 0.831044614315033, 0.8239588737487793, 0.8203752636909485, 0.8200339078903198, 0.814527153968811, 0.814045786857605, 0.8051270842552185, 0.8033763766288757, 0.8033713698387146, 0.8018531203269958, 0.8005627989768982, 0.8002047538757324, 0.7958491444587708, 0.7953829169273376, 0.7879148721694946, 0.7854472398757935, 0.7848314046859741, 0.8730039000511169, 0.8716927170753479, 0.861679196357727, 0.8351944088935852, 0.8325399160385132, 0.8280051946640015, 0.8277049660682678, 0.827384889125824, 0.82344651222229, 0.8095012903213501, 0.8067899346351624, 0.803948163986206, 0.8012142777442932, 0.8011624217033386, 0.7966026067733765, 0.7874690890312195, 0.7870861887931824, 0.7749977111816406, 0.7729962468147278, 0.7703495025634766, 0.7696958780288696, 0.7641661167144775, 0.7639434933662415, 0.7625027894973755, 0.7593178749084473, 0.7576313614845276, 0.7532119750976562, 0.7524945139884949, 0.7501319050788879, 0.7415262460708618, 0.7400168776512146, 0.8777059316635132, 0.8521140813827515, 0.8294429779052734, 0.8228093385696411, 0.8204455971717834, 0.8165152072906494, 0.8051085472106934, 0.7983933091163635, 0.7960124015808105, 0.7959652543067932, 0.7912008166313171, 0.7794179916381836, 0.7726987600326538, 0.7714132070541382, 0.7701324820518494, 0.7666580677032471, 0.7638435363769531, 0.7599725723266602, 0.7566609978675842, 0.7563133239746094, 0.7544955611228943, 0.7527483701705933, 0.751781165599823, 0.7504935264587402, 0.7504366636276245, 0.748989999294281, 0.7392773628234863, 0.7359961867332458, 0.9138415455818176, 0.9005643725395203, 0.8461115956306458, 0.8430398106575012, 0.829149603843689, 0.8216252326965332, 0.8168973922729492, 0.8011863827705383, 0.7960547804832458, 0.7957252860069275, 0.7927616238594055, 0.7832338809967041, 0.7794051766395569, 0.7774094939231873, 0.7733383178710938, 0.7715033888816833, 0.7657209634780884, 0.7640666365623474, 0.7614803910255432, 0.7522734999656677, 0.7487216591835022, 0.7438294887542725, 0.7398272156715393, 0.7380855083465576, 0.7339203953742981, 0.7277138829231262, 0.7271180152893066, 0.7226204872131348, 0.716899573802948, 0.7166022062301636, 0.715869128704071, 0.7145488262176514, 0.712487518787384, 0.711418628692627, 0.7100109457969666, 0.7051786780357361, 0.7047608494758606, 0.8393016457557678, 0.8241271376609802, 0.8119391798973083, 0.7948627471923828, 0.7920081615447998, 0.7890440225601196, 0.7849949598312378, 0.7809186577796936, 0.7784953713417053, 0.7782689929008484, 0.7730377316474915, 0.7709781527519226, 0.7698079347610474, 0.769566535949707, 0.7597407698631287, 0.7587569952011108, 0.7509966492652893, 0.7496683597564697, 0.7434958219528198, 0.7392234802246094, 0.738865315914154, 0.7343285083770752, 0.7333734631538391, 0.7286435961723328, 0.7213270664215088, 0.7195190787315369, 0.7167036533355713, 0.7129724621772766, 0.7127078175544739, 0.7113344669342041, 0.7104694843292236, 0.7096319794654846, 0.7091584205627441, 0.9119065403938293, 0.9086252450942993, 0.9047794938087463, 0.9022010564804077, 0.8897764682769775, 0.8878792524337769, 0.8851269483566284, 0.8807525038719177, 0.8782984018325806, 0.8769423961639404, 0.8724479079246521, 0.869989275932312, 0.8696894645690918, 0.8620547652244568, 0.861138641834259, 0.8555008172988892, 0.8552872538566589, 0.8541036248207092, 0.8531275391578674, 0.8526789546012878, 0.8526625037193298, 0.8509286642074585, 0.8504653573036194, 0.8503074049949646, 0.8498802781105042, 0.8490249514579773, 0.8468574285507202, 0.8457568287849426, 0.9450918436050415, 0.9379098415374756, 0.93374103307724, 0.9304417967796326, 0.9288240671157837, 0.927438497543335, 0.9096329808235168, 0.9041880369186401, 0.8983052968978882, 0.8938902616500854, 0.8903809189796448, 0.8831772208213806, 0.8803576231002808, 0.8782094120979309, 0.8701369762420654, 0.8693337440490723, 0.8692149519920349, 0.8666261434555054, 0.8646172881126404, 0.8613335490226746, 0.8563184142112732, 0.8552529215812683, 0.853620707988739, 0.8534045219421387, 0.8517298698425293, 0.848518967628479, 0.8482933044433594, 0.846340537071228, 0.8453815579414368, 0.8433480262756348, 0.8428665995597839, 0.8426371216773987, 0.8412152528762817, 0.9399241209030151, 0.9248569011688232, 0.9238353371620178, 0.9228731393814087, 0.9177762269973755, 0.9175287485122681, 0.9162824153900146, 0.9159308671951294, 0.9114233255386353, 0.9072667956352234, 0.9066476225852966, 0.9038909673690796, 0.9036762714385986, 0.9020942449569702, 0.9008164405822754, 0.8993881940841675, 0.8979496359825134, 0.8964641094207764, 0.894774854183197, 0.894519567489624, 0.8941051959991455, 0.8940309882164001, 0.8926845192909241, 0.8916139602661133, 0.8915087580680847, 0.8911207318305969, 0.8905526995658875, 0.8898762464523315, 0.8890112638473511, 0.8883043527603149, 0.8882673382759094, 0.8874897956848145, 0.8872402310371399, 0.884669840335846, 0.8843390941619873, 0.9736128449440002, 0.9555709362030029, 0.9550564885139465, 0.9525503516197205, 0.9518280625343323, 0.9503054022789001, 0.9498873949050903, 0.9432647228240967, 0.9425637125968933, 0.9425634741783142, 0.9406404495239258, 0.9276838302612305, 0.925551176071167, 0.9223010540008545, 0.9220117926597595, 0.9163910150527954, 0.9154342412948608, 0.9136766195297241, 0.9069658517837524, 0.9068211913108826, 0.9052445292472839, 0.9010562896728516, 0.9004302620887756, 0.8953512907028198, 0.8933262825012207, 0.8903521299362183, 0.8879534602165222, 0.8855567574501038, 0.8833337426185608, 0.8769035935401917, 0.871626615524292, 0.8715636730194092, 0.8694952130317688, 0.8692396879196167, 0.8690511584281921, 0.855167806148529, 0.8546857833862305, 0.8496224880218506, 0.950743556022644, 0.9477445483207703, 0.9254640936851501, 0.924277126789093, 0.9182757139205933, 0.9152289628982544, 0.9109919667243958, 0.9104951024055481, 0.9058883190155029, 0.9050800800323486, 0.8968366980552673, 0.8934944868087769, 0.8907325863838196, 0.8898150324821472, 0.8852912187576294, 0.8852221965789795, 0.8842465281486511, 0.8826548457145691, 0.8799163103103638, 0.8797382712364197, 0.8745987415313721, 0.8723803758621216, 0.8714609742164612, 0.870129406452179, 0.8676655292510986, 0.8668626546859741, 0.862991213798523, 0.8609749674797058, 0.8565535545349121, 0.855131983757019, 0.8550108671188354, 0.8542700409889221, 0.8532796502113342, 0.8526057004928589, 0.7657230496406555, 0.6965073943138123, 0.6692254543304443, 0.6682605743408203, 0.6680216789245605, 0.6679961681365967, 0.6610588431358337, 0.6605505347251892, 0.6601747274398804, 0.6587632894515991, 0.6582460403442383, 0.6548218131065369, 0.6540014743804932, 0.653209924697876, 0.6531429290771484, 0.6524094939231873, 0.6522849202156067, 0.6501203775405884, 0.6500357389450073, 0.6478707790374756, 0.6477912664413452, 0.9225280284881592, 0.9149940609931946, 0.8950648307800293, 0.8897865414619446, 0.8594369888305664, 0.8497572541236877, 0.8373613953590393, 0.8226015567779541, 0.8153722286224365, 0.8129554390907288, 0.801262378692627, 0.7898898124694824, 0.7891620993614197, 0.7885636687278748, 0.7862116098403931, 0.7841100096702576, 0.7824023365974426, 0.7817410230636597, 0.7773833870887756, 0.7663747072219849, 0.7623263597488403, 0.7591127753257751, 0.7579380869865417, 0.747028648853302, 0.7468246817588806, 0.7446183562278748, 0.7435402274131775, 0.7415879368782043, 0.7401267886161804, 0.7392843961715698, 0.73833167552948, 0.8925685882568359, 0.8879733085632324, 0.878990888595581, 0.8602127432823181, 0.856980562210083, 0.8567790985107422, 0.8472742438316345, 0.8415646553039551, 0.8379219174385071, 0.8376448750495911, 0.8342471718788147, 0.8337780833244324, 0.8335170745849609, 0.8291587233543396, 0.8285810947418213, 0.8278689384460449, 0.8277878165245056, 0.8263705372810364, 0.824907660484314, 0.8187310099601746, 0.8177921772003174, 0.8144084215164185, 0.8133334517478943, 0.8131754994392395, 0.8119420409202576, 0.8118308782577515, 0.8098234534263611, 0.8098117709159851, 0.8097678422927856, 0.8358542919158936, 0.8355031609535217, 0.8308413028717041, 0.8132891058921814, 0.7954953908920288, 0.7932851314544678, 0.7906733751296997, 0.7871003150939941, 0.7827619314193726, 0.7767525315284729, 0.7715710997581482, 0.7687594294548035, 0.7686321139335632, 0.7658053636550903, 0.7648607492446899, 0.758240818977356, 0.7518015503883362, 0.7487840056419373, 0.7481445670127869, 0.7415496110916138, 0.7383580207824707, 0.7353881597518921, 0.7289907932281494, 0.7282859683036804, 0.7281641364097595, 0.7273827791213989, 0.7263069748878479, 0.7260289192199707, 0.7259971499443054, 0.7242988348007202, 0.7212730646133423, 0.720560610294342, 0.7200633883476257, 0.7196489572525024, 0.7187233567237854, 0.7830778956413269, 0.7654531598091125, 0.7481300830841064, 0.7409917712211609, 0.7326577305793762, 0.724287211894989, 0.72175532579422, 0.7150257229804993, 0.7121055126190186, 0.7093873620033264, 0.7086611986160278, 0.6963931322097778, 0.6926447749137878, 0.6882556676864624, 0.6848942041397095, 0.6824550032615662, 0.6812663078308105, 0.6802031397819519, 0.6779575347900391, 0.6758105754852295, 0.670850932598114, 0.6687304973602295, 0.6669399738311768, 0.6655709147453308, 0.6624218821525574, 0.6623814702033997, 0.6591809988021851, 0.6581518054008484, 0.6569368839263916, 0.6507951617240906, 0.6498531699180603, 0.8403533697128296, 0.7930073142051697, 0.7845507860183716, 0.7669256329536438, 0.7649208903312683, 0.764763593673706, 0.7539526224136353, 0.7530789971351624, 0.7496284246444702, 0.7380043268203735, 0.7337477207183838, 0.7325257658958435, 0.7048981785774231, 0.7021543383598328, 0.6986605525016785, 0.6949949860572815, 0.6940172910690308, 0.6934608221054077, 0.6928762793540955, 0.6910098791122437, 0.6898119449615479, 0.6809644103050232, 0.6792856454849243, 0.6734299659729004, 0.6725808382034302, 0.6711758971214294, 0.664341151714325, 0.659936785697937, 0.6586074233055115, 0.8434271812438965, 0.8287295699119568, 0.8159723877906799, 0.8155909180641174, 0.79921954870224, 0.7916326522827148, 0.7889432311058044, 0.7864816188812256, 0.7815569043159485, 0.779957115650177, 0.776193380355835, 0.7722733020782471, 0.7719662189483643, 0.7646094560623169, 0.7623600959777832, 0.7553784847259521, 0.7537667155265808, 0.7534748911857605, 0.7522784471511841, 0.7458319067955017, 0.7456170320510864, 0.7451854944229126, 0.7429337501525879, 0.7412406802177429, 0.7409464120864868, 0.7388666272163391, 0.7380555272102356, 0.7374755144119263, 0.7363875508308411, 0.7314672470092773, 0.9637539386749268, 0.9608953595161438, 0.9592329859733582, 0.9537215232849121, 0.9472459554672241, 0.945735514163971, 0.9453138709068298, 0.9449000954627991, 0.9442378878593445, 0.9435506463050842, 0.9423336982727051, 0.9417927861213684, 0.9403674006462097, 0.9384657144546509, 0.9384263753890991, 0.938056468963623, 0.9379791617393494, 0.9369650483131409, 0.9329606890678406, 0.9320114254951477, 0.9283949732780457, 0.9273468255996704, 0.9266375303268433, 0.9237607717514038, 0.9221237897872925, 0.9217507839202881, 0.9174429774284363, 0.9174425601959229, 0.9162817001342773, 0.9162198901176453, 0.9151489734649658, 0.9125220775604248, 0.9109832048416138, 0.9058151841163635, 0.9056100249290466, 0.9604384899139404, 0.9469164609909058, 0.9426455497741699, 0.9396417737007141, 0.93864905834198, 0.9365931153297424, 0.9364387392997742, 0.9345425367355347, 0.9343404173851013, 0.932698667049408, 0.9323564767837524, 0.9318178296089172, 0.9309910535812378, 0.93085116147995, 0.9303303360939026, 0.9287583231925964, 0.9280720949172974, 0.9279239773750305, 0.9267269372940063, 0.9255160093307495, 0.9245548844337463, 0.9239097833633423, 0.9238642454147339, 0.9232404828071594, 0.9231246709823608, 0.9224932193756104, 0.9224016666412354, 0.9219492673873901, 0.9209977984428406, 0.9198024868965149, 0.9195194244384766, 0.9187239408493042, 0.9170628786087036, 0.9263546466827393, 0.9076983332633972, 0.9054428935050964, 0.8888174891471863, 0.8810443878173828, 0.8766735792160034, 0.8713701367378235, 0.8667346835136414, 0.8628695607185364, 0.8535522222518921, 0.8510944843292236, 0.8359277248382568, 0.8317373394966125, 0.828779399394989, 0.8228966593742371, 0.8133947253227234, 0.8131728768348694, 0.8121603727340698, 0.8101601600646973, 0.7988948225975037, 0.7963347434997559, 0.7948406338691711, 0.7919870615005493, 0.789088249206543, 0.7885007858276367, 0.7797253727912903, 0.7797232270240784, 0.7772914171218872, 0.7757377624511719, 0.772866427898407, 0.7717315554618835, 0.7715369462966919, 0.771416425704956, 0.9695203304290771, 0.9614160656929016, 0.958827018737793, 0.9575631022453308, 0.9559016227722168, 0.9526283144950867, 0.951948344707489, 0.9511748552322388, 0.9506641626358032, 0.9473496079444885, 0.9464935660362244, 0.943656861782074, 0.9424958825111389, 0.9418314099311829, 0.9413130879402161, 0.9376948475837708, 0.9355084896087646, 0.9340494871139526, 0.9338654279708862, 0.9330990314483643, 0.9328760504722595, 0.9322955012321472, 0.9319931268692017, 0.9302108883857727, 0.9297290444374084, 0.9292537569999695, 0.9272955656051636, 0.9261295199394226, 0.925955057144165, 0.9259194731712341, 0.924152672290802, 0.9241223335266113, 0.9220170974731445, 0.921372652053833, 0.920400083065033, 0.9189943075180054, 0.9186912775039673, 0.872302234172821, 0.8618447184562683, 0.8585852980613708, 0.8439590334892273, 0.8304768204689026, 0.8267045617103577, 0.8256053924560547, 0.8156338334083557, 0.8127561211585999, 0.8053568601608276, 0.8019075989723206, 0.8012847304344177, 0.7892168760299683, 0.7880410552024841, 0.786127507686615, 0.7858293056488037, 0.783856213092804, 0.7814842462539673, 0.7812769412994385, 0.7810567617416382, 0.7803338170051575, 0.7724595069885254, 0.7715910077095032, 0.7684783339500427, 0.7665787935256958, 0.7638114094734192, 0.7561860084533691, 0.913501501083374, 0.9045721292495728, 0.879059910774231, 0.8764412999153137, 0.8714626431465149, 0.8694286942481995, 0.862730860710144, 0.8612040281295776, 0.8572267889976501, 0.8552305698394775, 0.8476889729499817, 0.8439931273460388, 0.8339074850082397, 0.8332390785217285, 0.8328859210014343, 0.8321695327758789, 0.8224295973777771, 0.8210939168930054, 0.8194799423217773, 0.8165532946586609, 0.8164868950843811, 0.8147807121276855, 0.8136901259422302, 0.8122661709785461, 0.8108854293823242, 0.8100244998931885, 0.8092508316040039, 0.8086189031600952, 0.8067674040794373, 0.8056470155715942, 0.8050872683525085, 0.8030888438224792, 0.8025271892547607, 0.7975191473960876, 0.8238934874534607, 0.7783711552619934, 0.7715356945991516, 0.769209086894989, 0.7510954737663269, 0.7505176663398743, 0.7358136773109436, 0.7285981178283691, 0.7240686416625977, 0.7124686241149902, 0.7052085995674133, 0.6998329758644104, 0.6937865614891052, 0.693095862865448, 0.6930387616157532, 0.6928271651268005, 0.6911711692810059, 0.6887376308441162, 0.6872095465660095, 0.6779183149337769, 0.677152156829834, 0.6735308170318604, 0.6731600165367126, 0.6646897196769714, 0.6644851565361023, 0.6643887758255005, 0.6596581339836121, 0.6584262251853943, 0.6582217216491699, 0.6556591987609863, 0.6555188894271851, 0.6541891098022461, 0.9206926226615906, 0.909809410572052, 0.827863335609436, 0.8172028064727783, 0.8153762221336365, 0.8150766491889954, 0.8086468577384949, 0.8007097840309143, 0.7987011671066284, 0.7982550859451294, 0.7970130443572998, 0.79695725440979, 0.793128490447998, 0.7907525897026062, 0.7904270887374878, 0.7901214361190796, 0.7893997430801392, 0.7833361029624939, 0.7828347682952881, 0.7826510071754456, 0.7825968861579895, 0.7775668501853943, 0.7748412489891052, 0.7721797227859497, 0.7695943713188171, 0.7678749561309814, 0.8171248435974121, 0.815928041934967, 0.7702510952949524, 0.7673438191413879, 0.7658334374427795, 0.758660078048706, 0.7458135485649109, 0.7444216012954712, 0.7443066835403442, 0.740676760673523, 0.7391469478607178, 0.7272550463676453, 0.7202127575874329, 0.7194871306419373, 0.7085402011871338, 0.7041961550712585, 0.703478217124939, 0.699482798576355, 0.6968809962272644, 0.6842964291572571, 0.6832184791564941, 0.6809449195861816, 0.6792436242103577, 0.6790317893028259, 0.6740986704826355, 0.6723614931106567, 0.6712830662727356, 0.661256730556488, 0.6594942212104797, 0.8197753429412842, 0.8162508606910706, 0.8101739883422852, 0.777786910533905, 0.7756988406181335, 0.7742488980293274, 0.7669102549552917, 0.758638322353363, 0.7566725015640259, 0.7383869290351868, 0.7350191473960876, 0.7318448424339294, 0.7313814163208008, 0.730199933052063, 0.7292643785476685, 0.7251619100570679, 0.7244901657104492, 0.722500741481781, 0.714885950088501, 0.7135753035545349, 0.7130210995674133, 0.7070180773735046, 0.6997416615486145, 0.6982245445251465, 0.6925906538963318, 0.692457914352417, 0.6880725622177124, 0.6878597736358643, 0.6875564455986023, 0.8686915636062622, 0.8676028847694397, 0.8594117164611816, 0.8379897475242615, 0.8271471858024597, 0.7912372946739197, 0.787350594997406, 0.7867940068244934, 0.7813612222671509, 0.7772889137268066, 0.7719356417655945, 0.7585932016372681, 0.7458884716033936, 0.7340942025184631, 0.7293905019760132, 0.7239714860916138, 0.723576009273529, 0.7214903831481934, 0.7193768620491028, 0.7169278860092163, 0.7159757614135742, 0.7122360467910767, 0.7112166285514832, 0.7083268165588379, 0.7067655920982361, 0.8078535795211792, 0.7993214726448059, 0.7865170836448669, 0.7518796920776367, 0.7503330111503601, 0.7465434074401855, 0.7261078953742981, 0.7228238582611084, 0.7221200466156006, 0.7172061800956726, 0.7081801891326904, 0.7058382034301758, 0.7036810517311096, 0.70196932554245, 0.6975566148757935, 0.6971301436424255, 0.6815060377120972, 0.6806951761245728, 0.6779556274414062, 0.6778343915939331, 0.6743109822273254, 0.6722702383995056, 0.6712924838066101, 0.6641836762428284, 0.6623448133468628, 0.6610882878303528, 0.6609356999397278, 0.6593864560127258, 0.659112811088562, 0.6558920741081238], \"xaxis\": \"x\", \"yaxis\": \"y\"}],\n",
              "                        {\"barmode\": \"relative\", \"legend\": {\"tracegroupgap\": 0}, \"template\": {\"data\": {\"bar\": [{\"error_x\": {\"color\": \"#2a3f5f\"}, \"error_y\": {\"color\": \"#2a3f5f\"}, \"marker\": {\"line\": {\"color\": \"#E5ECF6\", \"width\": 0.5}}, \"type\": \"bar\"}], \"barpolar\": [{\"marker\": {\"line\": {\"color\": \"#E5ECF6\", \"width\": 0.5}}, \"type\": \"barpolar\"}], \"carpet\": [{\"aaxis\": {\"endlinecolor\": \"#2a3f5f\", \"gridcolor\": \"white\", \"linecolor\": \"white\", \"minorgridcolor\": \"white\", \"startlinecolor\": \"#2a3f5f\"}, \"baxis\": {\"endlinecolor\": \"#2a3f5f\", \"gridcolor\": \"white\", \"linecolor\": \"white\", \"minorgridcolor\": \"white\", \"startlinecolor\": \"#2a3f5f\"}, \"type\": \"carpet\"}], \"choropleth\": [{\"colorbar\": {\"outlinewidth\": 0, \"ticks\": \"\"}, \"type\": \"choropleth\"}], \"contour\": [{\"colorbar\": {\"outlinewidth\": 0, \"ticks\": \"\"}, \"colorscale\": [[0.0, \"#0d0887\"], [0.1111111111111111, \"#46039f\"], [0.2222222222222222, \"#7201a8\"], [0.3333333333333333, \"#9c179e\"], [0.4444444444444444, \"#bd3786\"], [0.5555555555555556, \"#d8576b\"], [0.6666666666666666, \"#ed7953\"], [0.7777777777777778, \"#fb9f3a\"], [0.8888888888888888, \"#fdca26\"], [1.0, \"#f0f921\"]], \"type\": \"contour\"}], \"contourcarpet\": [{\"colorbar\": {\"outlinewidth\": 0, \"ticks\": \"\"}, \"type\": \"contourcarpet\"}], \"heatmap\": [{\"colorbar\": {\"outlinewidth\": 0, \"ticks\": \"\"}, \"colorscale\": [[0.0, \"#0d0887\"], [0.1111111111111111, \"#46039f\"], [0.2222222222222222, \"#7201a8\"], [0.3333333333333333, \"#9c179e\"], [0.4444444444444444, \"#bd3786\"], [0.5555555555555556, \"#d8576b\"], [0.6666666666666666, \"#ed7953\"], [0.7777777777777778, \"#fb9f3a\"], [0.8888888888888888, \"#fdca26\"], [1.0, \"#f0f921\"]], \"type\": \"heatmap\"}], \"heatmapgl\": [{\"colorbar\": {\"outlinewidth\": 0, \"ticks\": \"\"}, \"colorscale\": [[0.0, \"#0d0887\"], [0.1111111111111111, \"#46039f\"], [0.2222222222222222, \"#7201a8\"], [0.3333333333333333, \"#9c179e\"], [0.4444444444444444, \"#bd3786\"], [0.5555555555555556, \"#d8576b\"], [0.6666666666666666, \"#ed7953\"], [0.7777777777777778, \"#fb9f3a\"], [0.8888888888888888, \"#fdca26\"], [1.0, \"#f0f921\"]], \"type\": \"heatmapgl\"}], \"histogram\": [{\"marker\": {\"colorbar\": {\"outlinewidth\": 0, \"ticks\": \"\"}}, \"type\": \"histogram\"}], \"histogram2d\": [{\"colorbar\": {\"outlinewidth\": 0, \"ticks\": \"\"}, \"colorscale\": [[0.0, \"#0d0887\"], [0.1111111111111111, \"#46039f\"], [0.2222222222222222, \"#7201a8\"], [0.3333333333333333, \"#9c179e\"], [0.4444444444444444, \"#bd3786\"], [0.5555555555555556, \"#d8576b\"], [0.6666666666666666, \"#ed7953\"], [0.7777777777777778, \"#fb9f3a\"], [0.8888888888888888, \"#fdca26\"], [1.0, \"#f0f921\"]], \"type\": \"histogram2d\"}], \"histogram2dcontour\": [{\"colorbar\": {\"outlinewidth\": 0, \"ticks\": \"\"}, \"colorscale\": [[0.0, \"#0d0887\"], [0.1111111111111111, \"#46039f\"], [0.2222222222222222, \"#7201a8\"], [0.3333333333333333, \"#9c179e\"], [0.4444444444444444, \"#bd3786\"], [0.5555555555555556, \"#d8576b\"], [0.6666666666666666, \"#ed7953\"], [0.7777777777777778, \"#fb9f3a\"], [0.8888888888888888, \"#fdca26\"], [1.0, \"#f0f921\"]], \"type\": \"histogram2dcontour\"}], \"mesh3d\": [{\"colorbar\": {\"outlinewidth\": 0, \"ticks\": \"\"}, \"type\": \"mesh3d\"}], \"parcoords\": [{\"line\": {\"colorbar\": {\"outlinewidth\": 0, \"ticks\": \"\"}}, \"type\": \"parcoords\"}], \"pie\": [{\"automargin\": true, \"type\": \"pie\"}], \"scatter\": [{\"marker\": {\"colorbar\": {\"outlinewidth\": 0, \"ticks\": \"\"}}, \"type\": \"scatter\"}], \"scatter3d\": [{\"line\": {\"colorbar\": {\"outlinewidth\": 0, \"ticks\": \"\"}}, \"marker\": {\"colorbar\": {\"outlinewidth\": 0, \"ticks\": \"\"}}, \"type\": \"scatter3d\"}], \"scattercarpet\": [{\"marker\": {\"colorbar\": {\"outlinewidth\": 0, \"ticks\": \"\"}}, \"type\": \"scattercarpet\"}], \"scattergeo\": [{\"marker\": {\"colorbar\": {\"outlinewidth\": 0, \"ticks\": \"\"}}, \"type\": \"scattergeo\"}], \"scattergl\": [{\"marker\": {\"colorbar\": {\"outlinewidth\": 0, \"ticks\": \"\"}}, \"type\": \"scattergl\"}], \"scattermapbox\": [{\"marker\": {\"colorbar\": {\"outlinewidth\": 0, \"ticks\": \"\"}}, \"type\": \"scattermapbox\"}], \"scatterpolar\": [{\"marker\": {\"colorbar\": {\"outlinewidth\": 0, \"ticks\": \"\"}}, \"type\": \"scatterpolar\"}], \"scatterpolargl\": [{\"marker\": {\"colorbar\": {\"outlinewidth\": 0, \"ticks\": \"\"}}, \"type\": \"scatterpolargl\"}], \"scatterternary\": [{\"marker\": {\"colorbar\": {\"outlinewidth\": 0, \"ticks\": \"\"}}, \"type\": \"scatterternary\"}], \"surface\": [{\"colorbar\": {\"outlinewidth\": 0, \"ticks\": \"\"}, \"colorscale\": [[0.0, \"#0d0887\"], [0.1111111111111111, \"#46039f\"], [0.2222222222222222, \"#7201a8\"], [0.3333333333333333, \"#9c179e\"], [0.4444444444444444, \"#bd3786\"], [0.5555555555555556, \"#d8576b\"], [0.6666666666666666, \"#ed7953\"], [0.7777777777777778, \"#fb9f3a\"], [0.8888888888888888, \"#fdca26\"], [1.0, \"#f0f921\"]], \"type\": \"surface\"}], \"table\": [{\"cells\": {\"fill\": {\"color\": \"#EBF0F8\"}, \"line\": {\"color\": \"white\"}}, \"header\": {\"fill\": {\"color\": \"#C8D4E3\"}, \"line\": {\"color\": \"white\"}}, \"type\": \"table\"}]}, \"layout\": {\"annotationdefaults\": {\"arrowcolor\": \"#2a3f5f\", \"arrowhead\": 0, \"arrowwidth\": 1}, \"coloraxis\": {\"colorbar\": {\"outlinewidth\": 0, \"ticks\": \"\"}}, \"colorscale\": {\"diverging\": [[0, \"#8e0152\"], [0.1, \"#c51b7d\"], [0.2, \"#de77ae\"], [0.3, \"#f1b6da\"], [0.4, \"#fde0ef\"], [0.5, \"#f7f7f7\"], [0.6, \"#e6f5d0\"], [0.7, \"#b8e186\"], [0.8, \"#7fbc41\"], [0.9, \"#4d9221\"], [1, \"#276419\"]], \"sequential\": [[0.0, \"#0d0887\"], [0.1111111111111111, \"#46039f\"], [0.2222222222222222, \"#7201a8\"], [0.3333333333333333, \"#9c179e\"], [0.4444444444444444, \"#bd3786\"], [0.5555555555555556, \"#d8576b\"], [0.6666666666666666, \"#ed7953\"], [0.7777777777777778, \"#fb9f3a\"], [0.8888888888888888, \"#fdca26\"], [1.0, \"#f0f921\"]], \"sequentialminus\": [[0.0, \"#0d0887\"], [0.1111111111111111, \"#46039f\"], [0.2222222222222222, \"#7201a8\"], [0.3333333333333333, \"#9c179e\"], [0.4444444444444444, \"#bd3786\"], [0.5555555555555556, \"#d8576b\"], [0.6666666666666666, \"#ed7953\"], [0.7777777777777778, \"#fb9f3a\"], [0.8888888888888888, \"#fdca26\"], [1.0, \"#f0f921\"]]}, \"colorway\": [\"#636efa\", \"#EF553B\", \"#00cc96\", \"#ab63fa\", \"#FFA15A\", \"#19d3f3\", \"#FF6692\", \"#B6E880\", \"#FF97FF\", \"#FECB52\"], \"font\": {\"color\": \"#2a3f5f\"}, \"geo\": {\"bgcolor\": \"white\", \"lakecolor\": \"white\", \"landcolor\": \"#E5ECF6\", \"showlakes\": true, \"showland\": true, \"subunitcolor\": \"white\"}, \"hoverlabel\": {\"align\": \"left\"}, \"hovermode\": \"closest\", \"mapbox\": {\"style\": \"light\"}, \"paper_bgcolor\": \"white\", \"plot_bgcolor\": \"#E5ECF6\", \"polar\": {\"angularaxis\": {\"gridcolor\": \"white\", \"linecolor\": \"white\", \"ticks\": \"\"}, \"bgcolor\": \"#E5ECF6\", \"radialaxis\": {\"gridcolor\": \"white\", \"linecolor\": \"white\", \"ticks\": \"\"}}, \"scene\": {\"xaxis\": {\"backgroundcolor\": \"#E5ECF6\", \"gridcolor\": \"white\", \"gridwidth\": 2, \"linecolor\": \"white\", \"showbackground\": true, \"ticks\": \"\", \"zerolinecolor\": \"white\"}, \"yaxis\": {\"backgroundcolor\": \"#E5ECF6\", \"gridcolor\": \"white\", \"gridwidth\": 2, \"linecolor\": \"white\", \"showbackground\": true, \"ticks\": \"\", \"zerolinecolor\": \"white\"}, \"zaxis\": {\"backgroundcolor\": \"#E5ECF6\", \"gridcolor\": \"white\", \"gridwidth\": 2, \"linecolor\": \"white\", \"showbackground\": true, \"ticks\": \"\", \"zerolinecolor\": \"white\"}}, \"shapedefaults\": {\"line\": {\"color\": \"#2a3f5f\"}}, \"ternary\": {\"aaxis\": {\"gridcolor\": \"white\", \"linecolor\": \"white\", \"ticks\": \"\"}, \"baxis\": {\"gridcolor\": \"white\", \"linecolor\": \"white\", \"ticks\": \"\"}, \"bgcolor\": \"#E5ECF6\", \"caxis\": {\"gridcolor\": \"white\", \"linecolor\": \"white\", \"ticks\": \"\"}}, \"title\": {\"x\": 0.05}, \"xaxis\": {\"automargin\": true, \"gridcolor\": \"white\", \"linecolor\": \"white\", \"ticks\": \"\", \"title\": {\"standoff\": 15}, \"zerolinecolor\": \"white\", \"zerolinewidth\": 2}, \"yaxis\": {\"automargin\": true, \"gridcolor\": \"white\", \"linecolor\": \"white\", \"ticks\": \"\", \"title\": {\"standoff\": 15}, \"zerolinecolor\": \"white\", \"zerolinewidth\": 2}}}, \"title\": {\"text\": \"doc2vec sections\"}, \"xaxis\": {\"anchor\": \"y\", \"domain\": [0.0, 1.0], \"title\": {\"text\": \"score\"}}, \"yaxis\": {\"anchor\": \"x\", \"domain\": [0.0, 1.0], \"title\": {\"text\": \"count\"}}},\n",
              "                        {\"responsive\": true}\n",
              "                    ).then(function(){\n",
              "                            \n",
              "var gd = document.getElementById('f25febbb-91a9-41a1-a4fe-1baed2dbe786');\n",
              "var x = new MutationObserver(function (mutations, observer) {{\n",
              "        var display = window.getComputedStyle(gd).display;\n",
              "        if (!display || display === 'none') {{\n",
              "            console.log([gd, 'removed!']);\n",
              "            Plotly.purge(gd);\n",
              "            observer.disconnect();\n",
              "        }}\n",
              "}});\n",
              "\n",
              "// Listen for the removal of the full notebook cells\n",
              "var notebookContainer = gd.closest('#notebook-container');\n",
              "if (notebookContainer) {{\n",
              "    x.observe(notebookContainer, {childList: true});\n",
              "}}\n",
              "\n",
              "// Listen for the clearing of the current output cell\n",
              "var outputEl = gd.closest('.output');\n",
              "if (outputEl) {{\n",
              "    x.observe(outputEl, {childList: true});\n",
              "}}\n",
              "\n",
              "                        })\n",
              "                };\n",
              "                \n",
              "            </script>\n",
              "        </div>\n",
              "</body>\n",
              "</html>"
            ]
          },
          "metadata": {}
        }
      ]
    },
    {
      "cell_type": "code",
      "metadata": {
        "id": "OKeaqYxGPMZj"
      },
      "source": [
        "if use_wandb:\n",
        "  wandb.log({\"scores_hist\": fig})"
      ],
      "execution_count": 94,
      "outputs": []
    },
    {
      "cell_type": "code",
      "metadata": {
        "colab": {
          "base_uri": "https://localhost:8080/",
          "height": 1000
        },
        "id": "DgV3ccDr5Ux4",
        "outputId": "03d14b88-a29e-420b-ae2c-a8e794b86347"
      },
      "source": [
        "result, details = recommend_tune(df_sim, 'Perdido [jazz1350]')\n",
        "result.head(50)"
      ],
      "execution_count": 95,
      "outputs": [
        {
          "output_type": "execute_result",
          "data": {
            "text/html": [
              "<div>\n",
              "<style scoped>\n",
              "    .dataframe tbody tr th:only-of-type {\n",
              "        vertical-align: middle;\n",
              "    }\n",
              "\n",
              "    .dataframe tbody tr th {\n",
              "        vertical-align: top;\n",
              "    }\n",
              "\n",
              "    .dataframe thead th {\n",
              "        text-align: right;\n",
              "    }\n",
              "</style>\n",
              "<table border=\"1\" class=\"dataframe\">\n",
              "  <thead>\n",
              "    <tr style=\"text-align: right;\">\n",
              "      <th></th>\n",
              "      <th>index</th>\n",
              "      <th>reference</th>\n",
              "      <th>reference_titleid</th>\n",
              "      <th>similar_title</th>\n",
              "      <th>score</th>\n",
              "      <th>max</th>\n",
              "      <th>score_div_max</th>\n",
              "      <th>similar_titleid</th>\n",
              "    </tr>\n",
              "  </thead>\n",
              "  <tbody>\n",
              "    <tr>\n",
              "      <th>0</th>\n",
              "      <td>0</td>\n",
              "      <td>Perdido [jazz1350]</td>\n",
              "      <td>949</td>\n",
              "      <td>My Little Suede Shoes [jazz1350]</td>\n",
              "      <td>0.939924</td>\n",
              "      <td>0.950744</td>\n",
              "      <td>1.000000</td>\n",
              "      <td>846</td>\n",
              "    </tr>\n",
              "    <tr>\n",
              "      <th>1</th>\n",
              "      <td>1</td>\n",
              "      <td>Perdido [jazz1350]</td>\n",
              "      <td>949</td>\n",
              "      <td>Lady is a Tramp, The [jazz1350]</td>\n",
              "      <td>0.950744</td>\n",
              "      <td>0.950744</td>\n",
              "      <td>1.000000</td>\n",
              "      <td>683</td>\n",
              "    </tr>\n",
              "    <tr>\n",
              "      <th>2</th>\n",
              "      <td>2</td>\n",
              "      <td>Perdido [jazz1350]</td>\n",
              "      <td>949</td>\n",
              "      <td>Oleo [jazz1350]</td>\n",
              "      <td>0.973613</td>\n",
              "      <td>0.973613</td>\n",
              "      <td>1.000000</td>\n",
              "      <td>899</td>\n",
              "    </tr>\n",
              "    <tr>\n",
              "      <th>3</th>\n",
              "      <td>3</td>\n",
              "      <td>Perdido [jazz1350]</td>\n",
              "      <td>949</td>\n",
              "      <td>Just Squeeze Me [jazz1350]</td>\n",
              "      <td>0.947745</td>\n",
              "      <td>0.950744</td>\n",
              "      <td>1.000000</td>\n",
              "      <td>669</td>\n",
              "    </tr>\n",
              "    <tr>\n",
              "      <th>4</th>\n",
              "      <td>4</td>\n",
              "      <td>Perdido [jazz1350]</td>\n",
              "      <td>949</td>\n",
              "      <td>Cool One, The [jazz1350]</td>\n",
              "      <td>0.933741</td>\n",
              "      <td>0.950744</td>\n",
              "      <td>0.987990</td>\n",
              "      <td>254</td>\n",
              "    </tr>\n",
              "    <tr>\n",
              "      <th>5</th>\n",
              "      <td>5</td>\n",
              "      <td>Perdido [jazz1350]</td>\n",
              "      <td>949</td>\n",
              "      <td>Ac-Cent-Tchu-Ate The Positive [jazz1350]</td>\n",
              "      <td>0.924857</td>\n",
              "      <td>0.939924</td>\n",
              "      <td>0.983970</td>\n",
              "      <td>31</td>\n",
              "    </tr>\n",
              "    <tr>\n",
              "      <th>6</th>\n",
              "      <td>6</td>\n",
              "      <td>Perdido [jazz1350]</td>\n",
              "      <td>949</td>\n",
              "      <td>Happy Days And Lonely Nights [trad]</td>\n",
              "      <td>0.942563</td>\n",
              "      <td>0.973613</td>\n",
              "      <td>0.981859</td>\n",
              "      <td>1505</td>\n",
              "    </tr>\n",
              "    <tr>\n",
              "      <th>7</th>\n",
              "      <td>7</td>\n",
              "      <td>Perdido [jazz1350]</td>\n",
              "      <td>949</td>\n",
              "      <td>Anthropology [jazz1350]</td>\n",
              "      <td>0.955571</td>\n",
              "      <td>0.973613</td>\n",
              "      <td>0.981469</td>\n",
              "      <td>80</td>\n",
              "    </tr>\n",
              "    <tr>\n",
              "      <th>8</th>\n",
              "      <td>8</td>\n",
              "      <td>Perdido [jazz1350]</td>\n",
              "      <td>949</td>\n",
              "      <td>Jeannie's Song [jazz1350]</td>\n",
              "      <td>0.927438</td>\n",
              "      <td>0.950744</td>\n",
              "      <td>0.981321</td>\n",
              "      <td>649</td>\n",
              "    </tr>\n",
              "    <tr>\n",
              "      <th>9</th>\n",
              "      <td>9</td>\n",
              "      <td>Perdido [jazz1350]</td>\n",
              "      <td>949</td>\n",
              "      <td>Passport [jazz1350]</td>\n",
              "      <td>0.955056</td>\n",
              "      <td>0.973613</td>\n",
              "      <td>0.980941</td>\n",
              "      <td>938</td>\n",
              "    </tr>\n",
              "    <tr>\n",
              "      <th>10</th>\n",
              "      <td>10</td>\n",
              "      <td>Perdido [jazz1350]</td>\n",
              "      <td>949</td>\n",
              "      <td>No Moe [jazz1350]</td>\n",
              "      <td>0.952550</td>\n",
              "      <td>0.973613</td>\n",
              "      <td>0.978367</td>\n",
              "      <td>878</td>\n",
              "    </tr>\n",
              "    <tr>\n",
              "      <th>11</th>\n",
              "      <td>11</td>\n",
              "      <td>Perdido [jazz1350]</td>\n",
              "      <td>949</td>\n",
              "      <td>Sunday [trad]</td>\n",
              "      <td>0.951828</td>\n",
              "      <td>0.973613</td>\n",
              "      <td>0.977625</td>\n",
              "      <td>1724</td>\n",
              "    </tr>\n",
              "    <tr>\n",
              "      <th>12</th>\n",
              "      <td>12</td>\n",
              "      <td>Perdido [jazz1350]</td>\n",
              "      <td>949</td>\n",
              "      <td>A Certain Smile [jazz1350]</td>\n",
              "      <td>0.917776</td>\n",
              "      <td>0.939924</td>\n",
              "      <td>0.976437</td>\n",
              "      <td>8</td>\n",
              "    </tr>\n",
              "    <tr>\n",
              "      <th>13</th>\n",
              "      <td>13</td>\n",
              "      <td>Perdido [jazz1350]</td>\n",
              "      <td>949</td>\n",
              "      <td>My Secret Love [jazz1350]</td>\n",
              "      <td>0.917529</td>\n",
              "      <td>0.939924</td>\n",
              "      <td>0.976173</td>\n",
              "      <td>853</td>\n",
              "    </tr>\n",
              "    <tr>\n",
              "      <th>14</th>\n",
              "      <td>14</td>\n",
              "      <td>Perdido [jazz1350]</td>\n",
              "      <td>949</td>\n",
              "      <td>Salt Peanuts [jazz1350]</td>\n",
              "      <td>0.950305</td>\n",
              "      <td>0.973613</td>\n",
              "      <td>0.976061</td>\n",
              "      <td>1005</td>\n",
              "    </tr>\n",
              "    <tr>\n",
              "      <th>15</th>\n",
              "      <td>15</td>\n",
              "      <td>Perdido [jazz1350]</td>\n",
              "      <td>949</td>\n",
              "      <td>Little Peace In C For You [jazz1350]</td>\n",
              "      <td>0.949887</td>\n",
              "      <td>0.973613</td>\n",
              "      <td>0.975632</td>\n",
              "      <td>729</td>\n",
              "    </tr>\n",
              "    <tr>\n",
              "      <th>16</th>\n",
              "      <td>16</td>\n",
              "      <td>Perdido [jazz1350]</td>\n",
              "      <td>949</td>\n",
              "      <td>Get Me To The Church On Time [jazz1350]</td>\n",
              "      <td>0.916282</td>\n",
              "      <td>0.939924</td>\n",
              "      <td>0.974847</td>\n",
              "      <td>423</td>\n",
              "    </tr>\n",
              "    <tr>\n",
              "      <th>17</th>\n",
              "      <td>17</td>\n",
              "      <td>Perdido [jazz1350]</td>\n",
              "      <td>949</td>\n",
              "      <td>Down By The Riverside [jazz1350]</td>\n",
              "      <td>0.915931</td>\n",
              "      <td>0.939924</td>\n",
              "      <td>0.974473</td>\n",
              "      <td>329</td>\n",
              "    </tr>\n",
              "    <tr>\n",
              "      <th>18</th>\n",
              "      <td>18</td>\n",
              "      <td>Perdido [jazz1350]</td>\n",
              "      <td>949</td>\n",
              "      <td>Roll Along Prarie Moon [trad]</td>\n",
              "      <td>0.911423</td>\n",
              "      <td>0.939924</td>\n",
              "      <td>0.969678</td>\n",
              "      <td>1672</td>\n",
              "    </tr>\n",
              "    <tr>\n",
              "      <th>19</th>\n",
              "      <td>19</td>\n",
              "      <td>Perdido [jazz1350]</td>\n",
              "      <td>949</td>\n",
              "      <td>Two Not One [jazz1350]</td>\n",
              "      <td>0.943265</td>\n",
              "      <td>0.973613</td>\n",
              "      <td>0.968829</td>\n",
              "      <td>1223</td>\n",
              "    </tr>\n",
              "    <tr>\n",
              "      <th>20</th>\n",
              "      <td>20</td>\n",
              "      <td>Perdido [jazz1350]</td>\n",
              "      <td>949</td>\n",
              "      <td>Thriving From A Riff [jazz1350]</td>\n",
              "      <td>0.942564</td>\n",
              "      <td>0.973613</td>\n",
              "      <td>0.968109</td>\n",
              "      <td>1188</td>\n",
              "    </tr>\n",
              "    <tr>\n",
              "      <th>21</th>\n",
              "      <td>21</td>\n",
              "      <td>Perdido [jazz1350]</td>\n",
              "      <td>949</td>\n",
              "      <td>Shaw 'Nuff [jazz1350]</td>\n",
              "      <td>0.940640</td>\n",
              "      <td>0.973613</td>\n",
              "      <td>0.966134</td>\n",
              "      <td>1033</td>\n",
              "    </tr>\n",
              "    <tr>\n",
              "      <th>22</th>\n",
              "      <td>22</td>\n",
              "      <td>Perdido [jazz1350]</td>\n",
              "      <td>949</td>\n",
              "      <td>Sweet Sue [trad]</td>\n",
              "      <td>0.907267</td>\n",
              "      <td>0.939924</td>\n",
              "      <td>0.965255</td>\n",
              "      <td>1732</td>\n",
              "    </tr>\n",
              "    <tr>\n",
              "      <th>23</th>\n",
              "      <td>23</td>\n",
              "      <td>Perdido [jazz1350]</td>\n",
              "      <td>949</td>\n",
              "      <td>Avalon [jazz1350]</td>\n",
              "      <td>0.906648</td>\n",
              "      <td>0.945092</td>\n",
              "      <td>0.964597</td>\n",
              "      <td>98</td>\n",
              "    </tr>\n",
              "    <tr>\n",
              "      <th>24</th>\n",
              "      <td>24</td>\n",
              "      <td>Perdido [jazz1350]</td>\n",
              "      <td>949</td>\n",
              "      <td>On A Clear Day [jazz1350]</td>\n",
              "      <td>0.909633</td>\n",
              "      <td>0.950744</td>\n",
              "      <td>0.962481</td>\n",
              "      <td>901</td>\n",
              "    </tr>\n",
              "    <tr>\n",
              "      <th>25</th>\n",
              "      <td>25</td>\n",
              "      <td>Perdido [jazz1350]</td>\n",
              "      <td>949</td>\n",
              "      <td>I Want To Be Happy [trad]</td>\n",
              "      <td>0.903891</td>\n",
              "      <td>0.939924</td>\n",
              "      <td>0.961664</td>\n",
              "      <td>1531</td>\n",
              "    </tr>\n",
              "    <tr>\n",
              "      <th>26</th>\n",
              "      <td>26</td>\n",
              "      <td>Perdido [jazz1350]</td>\n",
              "      <td>949</td>\n",
              "      <td>Ladies Of Calcutta, The [trad]</td>\n",
              "      <td>0.903676</td>\n",
              "      <td>0.939924</td>\n",
              "      <td>0.961435</td>\n",
              "      <td>1574</td>\n",
              "    </tr>\n",
              "    <tr>\n",
              "      <th>27</th>\n",
              "      <td>27</td>\n",
              "      <td>Perdido [jazz1350]</td>\n",
              "      <td>949</td>\n",
              "      <td>Across The Alley From The Alamo [jazz1350]</td>\n",
              "      <td>0.900816</td>\n",
              "      <td>0.939924</td>\n",
              "      <td>0.958393</td>\n",
              "      <td>32</td>\n",
              "    </tr>\n",
              "    <tr>\n",
              "      <th>28</th>\n",
              "      <td>28</td>\n",
              "      <td>Perdido [jazz1350]</td>\n",
              "      <td>949</td>\n",
              "      <td>Stars Fell On Alabama [jazz1350]</td>\n",
              "      <td>0.910992</td>\n",
              "      <td>0.950744</td>\n",
              "      <td>0.958189</td>\n",
              "      <td>1101</td>\n",
              "    </tr>\n",
              "    <tr>\n",
              "      <th>29</th>\n",
              "      <td>29</td>\n",
              "      <td>Perdido [jazz1350]</td>\n",
              "      <td>949</td>\n",
              "      <td>Confessin' (That I Love You) [jazz1350]</td>\n",
              "      <td>0.897950</td>\n",
              "      <td>0.950744</td>\n",
              "      <td>0.955343</td>\n",
              "      <td>250</td>\n",
              "    </tr>\n",
              "    <tr>\n",
              "      <th>30</th>\n",
              "      <td>30</td>\n",
              "      <td>Perdido [jazz1350]</td>\n",
              "      <td>949</td>\n",
              "      <td>Cottontail [jazz1350]</td>\n",
              "      <td>0.927684</td>\n",
              "      <td>0.973613</td>\n",
              "      <td>0.952826</td>\n",
              "      <td>260</td>\n",
              "    </tr>\n",
              "    <tr>\n",
              "      <th>31</th>\n",
              "      <td>31</td>\n",
              "      <td>Perdido [jazz1350]</td>\n",
              "      <td>949</td>\n",
              "      <td>Sometimes I'm Happy [jazz1350]</td>\n",
              "      <td>0.905080</td>\n",
              "      <td>0.950744</td>\n",
              "      <td>0.951971</td>\n",
              "      <td>1073</td>\n",
              "    </tr>\n",
              "    <tr>\n",
              "      <th>32</th>\n",
              "      <td>32</td>\n",
              "      <td>Perdido [jazz1350]</td>\n",
              "      <td>949</td>\n",
              "      <td>Shine [jazz1350]</td>\n",
              "      <td>0.906821</td>\n",
              "      <td>0.973613</td>\n",
              "      <td>0.951965</td>\n",
              "      <td>1035</td>\n",
              "    </tr>\n",
              "    <tr>\n",
              "      <th>33</th>\n",
              "      <td>33</td>\n",
              "      <td>Perdido [jazz1350]</td>\n",
              "      <td>949</td>\n",
              "      <td>Samba De Orfeu [jazz1350]</td>\n",
              "      <td>0.894520</td>\n",
              "      <td>0.939924</td>\n",
              "      <td>0.951693</td>\n",
              "      <td>1006</td>\n",
              "    </tr>\n",
              "    <tr>\n",
              "      <th>34</th>\n",
              "      <td>34</td>\n",
              "      <td>Perdido [jazz1350]</td>\n",
              "      <td>949</td>\n",
              "      <td>S'posin' [jazz1350]</td>\n",
              "      <td>0.894105</td>\n",
              "      <td>0.939924</td>\n",
              "      <td>0.951253</td>\n",
              "      <td>1001</td>\n",
              "    </tr>\n",
              "    <tr>\n",
              "      <th>35</th>\n",
              "      <td>35</td>\n",
              "      <td>Perdido [jazz1350]</td>\n",
              "      <td>949</td>\n",
              "      <td>Homecoming [jazz1350]</td>\n",
              "      <td>0.894031</td>\n",
              "      <td>0.939924</td>\n",
              "      <td>0.951174</td>\n",
              "      <td>471</td>\n",
              "    </tr>\n",
              "    <tr>\n",
              "      <th>36</th>\n",
              "      <td>36</td>\n",
              "      <td>Perdido [jazz1350]</td>\n",
              "      <td>949</td>\n",
              "      <td>Moose The Mooche [jazz1350]</td>\n",
              "      <td>0.925551</td>\n",
              "      <td>0.973613</td>\n",
              "      <td>0.950636</td>\n",
              "      <td>827</td>\n",
              "    </tr>\n",
              "    <tr>\n",
              "      <th>37</th>\n",
              "      <td>37</td>\n",
              "      <td>Perdido [jazz1350]</td>\n",
              "      <td>949</td>\n",
              "      <td>It Never Entered My Mind [jazz1350]</td>\n",
              "      <td>0.891614</td>\n",
              "      <td>0.945092</td>\n",
              "      <td>0.948602</td>\n",
              "      <td>625</td>\n",
              "    </tr>\n",
              "    <tr>\n",
              "      <th>38</th>\n",
              "      <td>38</td>\n",
              "      <td>Perdido [jazz1350]</td>\n",
              "      <td>949</td>\n",
              "      <td>Parisian Thoroughfare [jazz1350]</td>\n",
              "      <td>0.891509</td>\n",
              "      <td>0.939924</td>\n",
              "      <td>0.948490</td>\n",
              "      <td>933</td>\n",
              "    </tr>\n",
              "    <tr>\n",
              "      <th>39</th>\n",
              "      <td>39</td>\n",
              "      <td>Perdido [jazz1350]</td>\n",
              "      <td>949</td>\n",
              "      <td>That Old Black Magic [jazz1350]</td>\n",
              "      <td>0.891121</td>\n",
              "      <td>0.939924</td>\n",
              "      <td>0.948077</td>\n",
              "      <td>1154</td>\n",
              "    </tr>\n",
              "    <tr>\n",
              "      <th>40</th>\n",
              "      <td>40</td>\n",
              "      <td>Perdido [jazz1350]</td>\n",
              "      <td>949</td>\n",
              "      <td>Tonight You Belong To Me [jazz1350]</td>\n",
              "      <td>0.890553</td>\n",
              "      <td>0.939924</td>\n",
              "      <td>0.947473</td>\n",
              "      <td>1199</td>\n",
              "    </tr>\n",
              "    <tr>\n",
              "      <th>41</th>\n",
              "      <td>41</td>\n",
              "      <td>Perdido [jazz1350]</td>\n",
              "      <td>949</td>\n",
              "      <td>Forever Sonny [jazz1350]</td>\n",
              "      <td>0.922301</td>\n",
              "      <td>0.973613</td>\n",
              "      <td>0.947298</td>\n",
              "      <td>401</td>\n",
              "    </tr>\n",
              "    <tr>\n",
              "      <th>42</th>\n",
              "      <td>42</td>\n",
              "      <td>Perdido [jazz1350]</td>\n",
              "      <td>949</td>\n",
              "      <td>Them There Eyes [jazz1350]</td>\n",
              "      <td>0.922012</td>\n",
              "      <td>0.973613</td>\n",
              "      <td>0.947000</td>\n",
              "      <td>1160</td>\n",
              "    </tr>\n",
              "    <tr>\n",
              "      <th>43</th>\n",
              "      <td>43</td>\n",
              "      <td>Perdido [jazz1350]</td>\n",
              "      <td>949</td>\n",
              "      <td>You Broke Your Promise [trad]</td>\n",
              "      <td>0.889876</td>\n",
              "      <td>0.939924</td>\n",
              "      <td>0.946753</td>\n",
              "      <td>1796</td>\n",
              "    </tr>\n",
              "    <tr>\n",
              "      <th>44</th>\n",
              "      <td>44</td>\n",
              "      <td>Perdido [jazz1350]</td>\n",
              "      <td>949</td>\n",
              "      <td>Down By The Riverside [trad]</td>\n",
              "      <td>0.889011</td>\n",
              "      <td>0.939924</td>\n",
              "      <td>0.945833</td>\n",
              "      <td>1464</td>\n",
              "    </tr>\n",
              "    <tr>\n",
              "      <th>45</th>\n",
              "      <td>45</td>\n",
              "      <td>Perdido [jazz1350]</td>\n",
              "      <td>949</td>\n",
              "      <td>Mimi [jazz1350]</td>\n",
              "      <td>0.888304</td>\n",
              "      <td>0.939924</td>\n",
              "      <td>0.945081</td>\n",
              "      <td>796</td>\n",
              "    </tr>\n",
              "    <tr>\n",
              "      <th>46</th>\n",
              "      <td>46</td>\n",
              "      <td>Perdido [jazz1350]</td>\n",
              "      <td>949</td>\n",
              "      <td>As Time Goes By [jazz1350]</td>\n",
              "      <td>0.896837</td>\n",
              "      <td>0.950744</td>\n",
              "      <td>0.943300</td>\n",
              "      <td>90</td>\n",
              "    </tr>\n",
              "    <tr>\n",
              "      <th>47</th>\n",
              "      <td>47</td>\n",
              "      <td>Perdido [jazz1350]</td>\n",
              "      <td>949</td>\n",
              "      <td>Girl Of My Dreams [trad]</td>\n",
              "      <td>0.916391</td>\n",
              "      <td>0.973613</td>\n",
              "      <td>0.941227</td>\n",
              "      <td>1499</td>\n",
              "    </tr>\n",
              "    <tr>\n",
              "      <th>48</th>\n",
              "      <td>48</td>\n",
              "      <td>Perdido [jazz1350]</td>\n",
              "      <td>949</td>\n",
              "      <td>Rhythm-a-ning [jazz1350]</td>\n",
              "      <td>0.915434</td>\n",
              "      <td>0.973613</td>\n",
              "      <td>0.940245</td>\n",
              "      <td>990</td>\n",
              "    </tr>\n",
              "    <tr>\n",
              "      <th>49</th>\n",
              "      <td>49</td>\n",
              "      <td>Perdido [jazz1350]</td>\n",
              "      <td>949</td>\n",
              "      <td>All My Tomorrows [jazz1350]</td>\n",
              "      <td>0.893494</td>\n",
              "      <td>0.950744</td>\n",
              "      <td>0.939785</td>\n",
              "      <td>58</td>\n",
              "    </tr>\n",
              "  </tbody>\n",
              "</table>\n",
              "</div>"
            ],
            "text/plain": [
              "    index           reference  ...  score_div_max similar_titleid\n",
              "0       0  Perdido [jazz1350]  ...       1.000000             846\n",
              "1       1  Perdido [jazz1350]  ...       1.000000             683\n",
              "2       2  Perdido [jazz1350]  ...       1.000000             899\n",
              "3       3  Perdido [jazz1350]  ...       1.000000             669\n",
              "4       4  Perdido [jazz1350]  ...       0.987990             254\n",
              "5       5  Perdido [jazz1350]  ...       0.983970              31\n",
              "6       6  Perdido [jazz1350]  ...       0.981859            1505\n",
              "7       7  Perdido [jazz1350]  ...       0.981469              80\n",
              "8       8  Perdido [jazz1350]  ...       0.981321             649\n",
              "9       9  Perdido [jazz1350]  ...       0.980941             938\n",
              "10     10  Perdido [jazz1350]  ...       0.978367             878\n",
              "11     11  Perdido [jazz1350]  ...       0.977625            1724\n",
              "12     12  Perdido [jazz1350]  ...       0.976437               8\n",
              "13     13  Perdido [jazz1350]  ...       0.976173             853\n",
              "14     14  Perdido [jazz1350]  ...       0.976061            1005\n",
              "15     15  Perdido [jazz1350]  ...       0.975632             729\n",
              "16     16  Perdido [jazz1350]  ...       0.974847             423\n",
              "17     17  Perdido [jazz1350]  ...       0.974473             329\n",
              "18     18  Perdido [jazz1350]  ...       0.969678            1672\n",
              "19     19  Perdido [jazz1350]  ...       0.968829            1223\n",
              "20     20  Perdido [jazz1350]  ...       0.968109            1188\n",
              "21     21  Perdido [jazz1350]  ...       0.966134            1033\n",
              "22     22  Perdido [jazz1350]  ...       0.965255            1732\n",
              "23     23  Perdido [jazz1350]  ...       0.964597              98\n",
              "24     24  Perdido [jazz1350]  ...       0.962481             901\n",
              "25     25  Perdido [jazz1350]  ...       0.961664            1531\n",
              "26     26  Perdido [jazz1350]  ...       0.961435            1574\n",
              "27     27  Perdido [jazz1350]  ...       0.958393              32\n",
              "28     28  Perdido [jazz1350]  ...       0.958189            1101\n",
              "29     29  Perdido [jazz1350]  ...       0.955343             250\n",
              "30     30  Perdido [jazz1350]  ...       0.952826             260\n",
              "31     31  Perdido [jazz1350]  ...       0.951971            1073\n",
              "32     32  Perdido [jazz1350]  ...       0.951965            1035\n",
              "33     33  Perdido [jazz1350]  ...       0.951693            1006\n",
              "34     34  Perdido [jazz1350]  ...       0.951253            1001\n",
              "35     35  Perdido [jazz1350]  ...       0.951174             471\n",
              "36     36  Perdido [jazz1350]  ...       0.950636             827\n",
              "37     37  Perdido [jazz1350]  ...       0.948602             625\n",
              "38     38  Perdido [jazz1350]  ...       0.948490             933\n",
              "39     39  Perdido [jazz1350]  ...       0.948077            1154\n",
              "40     40  Perdido [jazz1350]  ...       0.947473            1199\n",
              "41     41  Perdido [jazz1350]  ...       0.947298             401\n",
              "42     42  Perdido [jazz1350]  ...       0.947000            1160\n",
              "43     43  Perdido [jazz1350]  ...       0.946753            1796\n",
              "44     44  Perdido [jazz1350]  ...       0.945833            1464\n",
              "45     45  Perdido [jazz1350]  ...       0.945081             796\n",
              "46     46  Perdido [jazz1350]  ...       0.943300              90\n",
              "47     47  Perdido [jazz1350]  ...       0.941227            1499\n",
              "48     48  Perdido [jazz1350]  ...       0.940245             990\n",
              "49     49  Perdido [jazz1350]  ...       0.939785              58\n",
              "\n",
              "[50 rows x 8 columns]"
            ]
          },
          "metadata": {},
          "execution_count": 95
        }
      ]
    },
    {
      "cell_type": "code",
      "metadata": {
        "id": "hLFaFo62XlMS",
        "colab": {
          "base_uri": "https://localhost:8080/"
        },
        "outputId": "73de36b2-7ea7-48bd-8541-4762e4dd0820"
      },
      "source": [
        "dd = pd.DataFrame(columns = recommender_results_cols)\n",
        "\n",
        "for tune in tunes_eval_list:\n",
        "  result, details = recommend_tune(df_sim, tune)\n",
        "  dd['id'] = result['index']\n",
        "  dd['reference'] = tune\n",
        "  dd['method'] = 'doc2vec'\n",
        "  dd['similar'] = result['similar_title']\n",
        "  dd['score_div_max'] = result['score_div_max']\n",
        "  dd['score'] = result['score']\n",
        "\n",
        "recommender_results = recommender_results.append(dd)\n",
        "len(recommender_results)"
      ],
      "execution_count": 96,
      "outputs": [
        {
          "output_type": "execute_result",
          "data": {
            "text/plain": [
              "232"
            ]
          },
          "metadata": {},
          "execution_count": 96
        }
      ]
    },
    {
      "cell_type": "markdown",
      "metadata": {
        "id": "aosPKEWljlm0"
      },
      "source": [
        "### Contrafacts"
      ]
    },
    {
      "cell_type": "code",
      "metadata": {
        "id": "SaYSqTJokGc5"
      },
      "source": [
        "def test_doc2vec_contrafacts(tunes, N=15):\n",
        "  matches = 0\n",
        "  number_of_sections = 0\n",
        "  results = {}\n",
        "\n",
        "  for tune, similar_tune in contrafacts.items():\n",
        "    \n",
        "    # loop over all sections of the tune\n",
        "    sub_match = 0\n",
        "    for s1 in title_to_sectionid[tune]:\n",
        "      sims = model.dv.similar_by_key(s1, topn=N)\n",
        "      # check if the section matches the expected title; consider only the first 15 recommendations\n",
        "      i = 0\n",
        "      for match, value in sims:\n",
        "        # tune match\n",
        "        if (type(match) == str):\n",
        "          titleid = int(match.replace('titleid_', ''))\n",
        "          if titleid_to_title[titleid] == similar_tune:\n",
        "            sub_match += 1\n",
        "\n",
        "        # section match\n",
        "        else:\n",
        "          if sectionid_to_title[match] == similar_tune:\n",
        "            sub_match += 1\n",
        "\n",
        "    # for each title, increase matches if at least one of the section matched the expected title\n",
        "    if sub_match > 0:\n",
        "      matches += 1  \n",
        "      results[tune] = 1\n",
        "    else:\n",
        "      results[tune] = 0\n",
        "  \n",
        "  return matches, results"
      ],
      "execution_count": 97,
      "outputs": []
    },
    {
      "cell_type": "code",
      "metadata": {
        "colab": {
          "base_uri": "https://localhost:8080/"
        },
        "id": "eAjM3lU4ltzP",
        "outputId": "6dadb7e6-0a11-4f98-aefb-709ba31a7c1f"
      },
      "source": [
        "topN = 15\n",
        "matches, results = test_doc2vec_contrafacts(contrafacts, topN)\n",
        "\n",
        "[print(f\"{val}: {rr}\") for rr, val in results.items()] \n",
        "print() \n",
        "print(f\"Found matches: {matches} out of {len(contrafacts)}: {100*matches/len(contrafacts):.3f}%\")"
      ],
      "execution_count": 98,
      "outputs": [
        {
          "output_type": "stream",
          "name": "stdout",
          "text": [
            "0: 26-2 [jazz1350]\n",
            "0: 52nd Street Theme [jazz1350]\n",
            "1: Ablution [jazz1350]\n",
            "1: Anthropology [jazz1350]\n",
            "0: Ballade [jazz1350]\n",
            "1: Bright Mississippi [jazz1350]\n",
            "0: C.T.A. [jazz1350]\n",
            "1: Cottontail [jazz1350]\n",
            "0: Countdown [jazz1350]\n",
            "0: Dewey Square [jazz1350]\n",
            "0: Dexterity [jazz1350]\n",
            "1: Dig [jazz1350]\n",
            "1: Donna Lee [jazz1350]\n",
            "0: Don't Be That Way [jazz1350]\n",
            "1: Evidence [jazz1350]\n",
            "0: Flintstones [jazz1350]\n",
            "0: Four On Six [jazz1350]\n",
            "0: Freight Train [jazz1350]\n",
            "0: Good Bait [jazz1350]\n",
            "1: Hackensack [jazz1350]\n",
            "1: Half Nelson [jazz1350]\n",
            "1: Hot House [jazz1350]\n",
            "1: Impressions [jazz1350]\n",
            "0: In A Mellow Tone (In A Mellotone) [jazz1350]\n",
            "0: In Walked Bud [jazz1350]\n",
            "1: Ko Ko [jazz1350]\n",
            "0: Lennie's Pennies [jazz1350]\n",
            "0: Little Rootie Tootie [jazz1350]\n",
            "0: Little Willie Leaps [jazz1350]\n",
            "1: Lullaby Of Birdland [jazz1350]\n",
            "0: My Little Suede Shoes [jazz1350]\n",
            "1: Ornithology [jazz1350]\n",
            "0: Quasimodo (Theme) [jazz1350]\n",
            "0: Room 608 [jazz1350]\n",
            "1: Satellite [jazz1350]\n",
            "1: Scrapple From The Apple [jazz1350]\n",
            "1: Tour De Force [jazz1350]\n",
            "1: Wow [jazz1350]\n",
            "1: Yardbird Suite [jazz1350]\n",
            "0: Sweet Sue, Just You [jazz1350]\n",
            "0: These Foolish Things [jazz1350]\n",
            "1: Misty [jazz1350]\n",
            "\n",
            "Found matches: 20 out of 42: 47.619%\n"
          ]
        }
      ]
    },
    {
      "cell_type": "code",
      "metadata": {
        "id": "8C0kzj0Jp425"
      },
      "source": [
        "model_name = 'doc2vec'\n",
        "if use_wandb:\n",
        "  wandb.log(\n",
        "      {model_name: {\n",
        "                'contrafacts': {\n",
        "                    'topN': topN,\n",
        "                    'success': matches/len(contrafacts),\n",
        "                    #'results': results\n",
        "                    }\n",
        "                   },\n",
        "       'all_models': {\n",
        "           model_name: wandb.Table(\n",
        "               columns=[\"Title\", \"Match\"],\n",
        "               data=[[key, value] for key, value in results.items()]),\n",
        "       }\n",
        "       })"
      ],
      "execution_count": 99,
      "outputs": []
    },
    {
      "cell_type": "markdown",
      "metadata": {
        "id": "_UzVV5yn4Q-K"
      },
      "source": [
        "### Save Results for WebApp"
      ]
    },
    {
      "cell_type": "code",
      "metadata": {
        "colab": {
          "base_uri": "https://localhost:8080/"
        },
        "id": "vqxX8YaWsyh7",
        "outputId": "dcea97e5-b324-492c-ba15-844b659fae8d"
      },
      "source": [
        "%%time\n",
        "if generate_webapp_data:\n",
        "  tunes = tunes_eval_list\n",
        "\n",
        "  df_sim = get_section_scores_doc2vec(tunes_list)\n",
        "\n",
        "  result = None\n",
        "  for tune in tunes:\n",
        "    tune_result, details = recommend_tune(df_sim, tune)\n",
        "    if result is None:\n",
        "      result = pd.DataFrame(columns=tune_result.columns)\n",
        "    result = result.append(tune_result)\n",
        "\n",
        "  print(f\"Result has {len(result)} rows.\")\n",
        "\n",
        "  # save to file\n",
        "  result.to_csv('output/recommender_doc2vec.csv', sep='\\t', encoding='utf8')\n",
        "\n",
        "  # save to W&B\n",
        "  if use_wandb:\n",
        "    model_artifact = wandb.Artifact(\n",
        "        \"recommender_doc2vec\", \n",
        "        type=\"csv\",\n",
        "        description=\"Recommendations for each Tune using doc2vec Model (csv file)\",\n",
        "        metadata=\"\")\n",
        "\n",
        "    model_artifact.add_file('output/recommender_doc2vec.csv')\n",
        "    wandb.log_artifact(model_artifact)"
      ],
      "execution_count": 100,
      "outputs": [
        {
          "output_type": "stream",
          "name": "stdout",
          "text": [
            "CPU times: user 5 µs, sys: 0 ns, total: 5 µs\n",
            "Wall time: 8.34 µs\n"
          ]
        }
      ]
    },
    {
      "cell_type": "markdown",
      "metadata": {
        "id": "XmDZT5t7gjgV"
      },
      "source": [
        "# Venn diagrams for Results"
      ]
    },
    {
      "cell_type": "code",
      "metadata": {
        "id": "1YJ5FLt-2WS4"
      },
      "source": [
        "import matplotlib.pyplot as plt\n",
        "from matplotlib_venn import venn3"
      ],
      "execution_count": 101,
      "outputs": []
    },
    {
      "cell_type": "code",
      "metadata": {
        "id": "U6WrsBcc00ar",
        "colab": {
          "base_uri": "https://localhost:8080/",
          "height": 1000
        },
        "outputId": "6114b896-ab8c-4064-9f7e-6cac208d6c72"
      },
      "source": [
        "for tune in tunes_eval_list:\n",
        "  df, details = recommend_tune(df_tfidf, tune)\n",
        "  tfidf_tunes = list(df.head(30).loc[:,'similar_title'])\n",
        "\n",
        "  df, details = recommend_tune(df_lsi, tune)\n",
        "  lsi_tunes = list(df.head(30).loc[:,'similar_title'])\n",
        "\n",
        "  df, details = recommend_tune(df_doc2vec, tune)\n",
        "  word2vec_tunes = list(df.head(30).loc[:,'similar_title'])\n",
        "\n",
        "  set_tfidf = set(tfidf_tunes)\n",
        "  set_lsi = set(lsi_tunes)\n",
        "  set_word2vec = set(word2vec_tunes)\n",
        "\n",
        "  venn3([set_tfidf, set_lsi, set_word2vec], \n",
        "        set_labels=('TF-IDF', 'LSI', 'Doc2Vec'),\n",
        "        )\n",
        "  plt.title(f\"{tune}\")\n",
        "  plt.savefig('plot.png')\n",
        "  \n",
        "  if use_wandb:\n",
        "    wandb.log({\"venn_methods\": wandb.Image('plot.png')})\n",
        "  \n",
        "  plt.show()"
      ],
      "execution_count": 102,
      "outputs": [
        {
          "output_type": "display_data",
          "data": {
            "image/png": "[encoded data removed]",
            "text/plain": [
              "<Figure size 432x288 with 1 Axes>"
            ]
          },
          "metadata": {}
        },
        {
          "output_type": "display_data",
          "data": {
            "image/png": "[encoded data removed]",
            "text/plain": [
              "<Figure size 432x288 with 1 Axes>"
            ]
          },
          "metadata": {}
        },
        {
          "output_type": "display_data",
          "data": {
            "image/png": "[encoded data removed]",
            "text/plain": [
              "<Figure size 432x288 with 1 Axes>"
            ]
          },
          "metadata": {}
        },
        {
          "output_type": "display_data",
          "data": {
            "image/png": "[encoded data removed]",
            "text/plain": [
              "<Figure size 432x288 with 1 Axes>"
            ]
          },
          "metadata": {}
        },
        {
          "output_type": "display_data",
          "data": {
            "image/png": "[encoded data removed]",
            "text/plain": [
              "<Figure size 432x288 with 1 Axes>"
            ]
          },
          "metadata": {}
        },
        {
          "output_type": "display_data",
          "data": {
            "image/png": "[encoded data removed]",
            "text/plain": [
              "<Figure size 432x288 with 1 Axes>"
            ]
          },
          "metadata": {}
        },
        {
          "output_type": "display_data",
          "data": {
            "image/png": "[encoded data removed]",
            "text/plain": [
              "<Figure size 432x288 with 1 Axes>"
            ]
          },
          "metadata": {}
        },
        {
          "output_type": "display_data",
          "data": {
            "image/png": "[encoded data removed]",
            "text/plain": [
              "<Figure size 432x288 with 1 Axes>"
            ]
          },
          "metadata": {}
        },
        {
          "output_type": "display_data",
          "data": {
            "image/png": "[encoded data removed]",
            "text/plain": [
              "<Figure size 432x288 with 1 Axes>"
            ]
          },
          "metadata": {}
        },
        {
          "output_type": "display_data",
          "data": {
            "image/png": "[encoded data removed]",
            "text/plain": [
              "<Figure size 432x288 with 1 Axes>"
            ]
          },
          "metadata": {}
        },
        {
          "output_type": "display_data",
          "data": {
            "image/png": "[encoded data removed]",
            "text/plain": [
              "<Figure size 432x288 with 1 Axes>"
            ]
          },
          "metadata": {}
        },
        {
          "output_type": "display_data",
          "data": {
            "image/png": "[encoded data removed]",
            "text/plain": [
              "<Figure size 432x288 with 1 Axes>"
            ]
          },
          "metadata": {}
        },
        {
          "output_type": "display_data",
          "data": {
            "image/png": "[encoded data removed]",
            "text/plain": [
              "<Figure size 432x288 with 1 Axes>"
            ]
          },
          "metadata": {}
        },
        {
          "output_type": "display_data",
          "data": {
            "image/png": "[encoded data removed]",
            "text/plain": [
              "<Figure size 432x288 with 1 Axes>"
            ]
          },
          "metadata": {}
        },
        {
          "output_type": "display_data",
          "data": {
            "image/png": "[encoded data removed]",
            "text/plain": [
              "<Figure size 432x288 with 1 Axes>"
            ]
          },
          "metadata": {}
        },
        {
          "output_type": "display_data",
          "data": {
            "image/png": "[encoded data removed]",
            "text/plain": [
              "<Figure size 432x288 with 1 Axes>"
            ]
          },
          "metadata": {}
        },
        {
          "output_type": "display_data",
          "data": {
            "image/png": "[encoded data removed]",
            "text/plain": [
              "<Figure size 432x288 with 1 Axes>"
            ]
          },
          "metadata": {}
        },
        {
          "output_type": "display_data",
          "data": {
            "image/png": "[encoded data removed]",
            "text/plain": [
              "<Figure size 432x288 with 1 Axes>"
            ]
          },
          "metadata": {}
        },
        {
          "output_type": "display_data",
          "data": {
            "image/png": "[encoded data removed]",
            "text/plain": [
              "<Figure size 432x288 with 1 Axes>"
            ]
          },
          "metadata": {}
        },
        {
          "output_type": "display_data",
          "data": {
            "image/png": "[encoded data removed]",
            "text/plain": [
              "<Figure size 432x288 with 1 Axes>"
            ]
          },
          "metadata": {}
        },
        {
          "output_type": "display_data",
          "data": {
            "image/png": "[encoded data removed]",
            "text/plain": [
              "<Figure size 432x288 with 1 Axes>"
            ]
          },
          "metadata": {}
        },
        {
          "output_type": "display_data",
          "data": {
            "image/png": "[encoded data removed]",
            "text/plain": [
              "<Figure size 432x288 with 1 Axes>"
            ]
          },
          "metadata": {}
        },
        {
          "output_type": "display_data",
          "data": {
            "image/png": "[encoded data removed]",
            "text/plain": [
              "<Figure size 432x288 with 1 Axes>"
            ]
          },
          "metadata": {}
        },
        {
          "output_type": "display_data",
          "data": {
            "image/png": "[encoded data removed]",
            "text/plain": [
              "<Figure size 432x288 with 1 Axes>"
            ]
          },
          "metadata": {}
        }
      ]
    },
    {
      "cell_type": "code",
      "metadata": {
        "colab": {
          "base_uri": "https://localhost:8080/"
        },
        "id": "BVRU3r-0axgN",
        "outputId": "9593844d-fa3d-4f0b-a2e7-fb3d87b6e2b3"
      },
      "source": [
        "# Number of tunes tested\n",
        "len(contrafacts)"
      ],
      "execution_count": 103,
      "outputs": [
        {
          "output_type": "execute_result",
          "data": {
            "text/plain": [
              "42"
            ]
          },
          "metadata": {},
          "execution_count": 103
        }
      ]
    },
    {
      "cell_type": "code",
      "metadata": {
        "colab": {
          "base_uri": "https://localhost:8080/"
        },
        "id": "KRtvi6aea1Fc",
        "outputId": "5184fc6e-9c9f-48bf-de47-9ae8716f017b"
      },
      "source": [
        "# number of sections in the tunes\n",
        "contrafacts_sections = [title_to_sectionid[contrafacts[cc]] for cc in contrafacts.keys()]\n",
        "len([val for tune in contrafacts_sections for val in tune])\n"
      ],
      "execution_count": 104,
      "outputs": [
        {
          "output_type": "execute_result",
          "data": {
            "text/plain": [
              "143"
            ]
          },
          "metadata": {},
          "execution_count": 104
        }
      ]
    },
    {
      "cell_type": "markdown",
      "metadata": {
        "id": "RhOWHSEU0DQH"
      },
      "source": [
        "# W&B Logging and Finish"
      ]
    },
    {
      "cell_type": "code",
      "metadata": {
        "id": "YMUDRHkm0aMV",
        "colab": {
          "base_uri": "https://localhost:8080/",
          "height": 125,
          "referenced_widgets": [
            "969cb00ad5f8416fa66dcfa26d7fa926",
            "7e238c3d293e4d23bc569257f13c1915",
            "8ef2ce2d0ca040a9a8eac09a2006744a",
            "500212d19c4f4a4d94bee4557ff10fac",
            "64d2645c0dda40e4a6dee4bfcaccc7df",
            "c8f96c8ab4854ddabeaf983c9da6302e",
            "13f67d18cab24a8e80b56fe7e95a1f24",
            "2582bd7ad2f6424db1bcc412e1596c61"
          ]
        },
        "outputId": "10a23995-5f3d-445c-b1a4-d7e98f9d6f12"
      },
      "source": [
        "if use_wandb:\n",
        "  wandb.finish()"
      ],
      "execution_count": 105,
      "outputs": [
        {
          "output_type": "display_data",
          "data": {
            "text/html": [
              "<br/>Waiting for W&B process to finish, PID 8010... <strong style=\"color:green\">(success).</strong>"
            ],
            "text/plain": [
              "<IPython.core.display.HTML object>"
            ]
          },
          "metadata": {}
        },
        {
          "output_type": "display_data",
          "data": {
            "application/vnd.jupyter.widget-view+json": {
              "model_id": "969cb00ad5f8416fa66dcfa26d7fa926",
              "version_minor": 0,
              "version_major": 2
            },
            "text/plain": [
              "VBox(children=(Label(value=' 3.90MB of 3.90MB uploaded (0.00MB deduped)\\r'), FloatProgress(value=1.0, max=1.0)…"
            ]
          },
          "metadata": {}
        },
        {
          "output_type": "display_data",
          "data": {
            "text/html": [
              "<style>\n",
              "    table.wandb td:nth-child(1) { padding: 0 10px; text-align: right }\n",
              "    .wandb-row { display: flex; flex-direction: row; flex-wrap: wrap; width: 100% }\n",
              "    .wandb-col { display: flex; flex-direction: column; flex-basis: 100%; flex: 1; padding: 10px; }\n",
              "    </style>\n",
              "<div class=\"wandb-row\"><div class=\"wandb-col\">\n",
              "</div><div class=\"wandb-col\">\n",
              "</div></div>\n",
              "Synced 5 W&B file(s), 31 media file(s), 9 artifact file(s) and 0 other file(s)\n",
              "<br/>Synced <strong style=\"color:#cdcd00\">dandy-forest-3</strong>: <a href=\"https://wandb.ai/doris/jazztunes/runs/2j04lwh3\" target=\"_blank\">https://wandb.ai/doris/jazztunes/runs/2j04lwh3</a><br/>\n",
              "Find logs at: <code>./wandb/run-20211126_215340-2j04lwh3/logs</code><br/>\n"
            ],
            "text/plain": [
              "<IPython.core.display.HTML object>"
            ]
          },
          "metadata": {}
        }
      ]
    },
    {
      "cell_type": "code",
      "metadata": {
        "id": "Vn_SFyKt0bYx"
      },
      "source": [
        "\n"
      ],
      "execution_count": 105,
      "outputs": []
    }
  ]
}