{
  "nbformat": 4,
  "nbformat_minor": 0,
  "metadata": {
    "colab": {
      "name": "colab_g_recommender_score",
      "provenance": [],
      "toc_visible": true,
      "authorship_tag": "ABX9TyMSti7EODY6/iaMl9fz9lxn",
      "include_colab_link": true
    },
    "kernelspec": {
      "name": "python3",
      "display_name": "Python 3"
    },
    "language_info": {
      "name": "python"
    },
    "accelerator": "TPU",
    "widgets": {
      "application/vnd.jupyter.widget-state+json": {
        "75a139eab4ac4c779b8830d7f979a1f0": {
          "model_module": "@jupyter-widgets/controls",
          "model_name": "VBoxModel",
          "model_module_version": "1.5.0",
          "state": {
            "_view_name": "VBoxView",
            "_dom_classes": [],
            "_model_name": "VBoxModel",
            "_view_module": "@jupyter-widgets/controls",
            "_model_module_version": "1.5.0",
            "_view_count": null,
            "_view_module_version": "1.5.0",
            "box_style": "",
            "layout": "IPY_MODEL_a8ec11ac3b2b41209802e4a67d9da5d4",
            "_model_module": "@jupyter-widgets/controls",
            "children": [
              "IPY_MODEL_1766ddb4a1dc4c2e823411052f64d0e2",
              "IPY_MODEL_5f592c109a374312b4a193f845c924f3"
            ]
          }
        },
        "a8ec11ac3b2b41209802e4a67d9da5d4": {
          "model_module": "@jupyter-widgets/base",
          "model_name": "LayoutModel",
          "model_module_version": "1.2.0",
          "state": {
            "_view_name": "LayoutView",
            "grid_template_rows": null,
            "right": null,
            "justify_content": null,
            "_view_module": "@jupyter-widgets/base",
            "overflow": null,
            "_model_module_version": "1.2.0",
            "_view_count": null,
            "flex_flow": null,
            "width": null,
            "min_width": null,
            "border": null,
            "align_items": null,
            "bottom": null,
            "_model_module": "@jupyter-widgets/base",
            "top": null,
            "grid_column": null,
            "overflow_y": null,
            "overflow_x": null,
            "grid_auto_flow": null,
            "grid_area": null,
            "grid_template_columns": null,
            "flex": null,
            "_model_name": "LayoutModel",
            "justify_items": null,
            "grid_row": null,
            "max_height": null,
            "align_content": null,
            "visibility": null,
            "align_self": null,
            "height": null,
            "min_height": null,
            "padding": null,
            "grid_auto_rows": null,
            "grid_gap": null,
            "max_width": null,
            "order": null,
            "_view_module_version": "1.2.0",
            "grid_template_areas": null,
            "object_position": null,
            "object_fit": null,
            "grid_auto_columns": null,
            "margin": null,
            "display": null,
            "left": null
          }
        },
        "1766ddb4a1dc4c2e823411052f64d0e2": {
          "model_module": "@jupyter-widgets/controls",
          "model_name": "LabelModel",
          "model_module_version": "1.5.0",
          "state": {
            "_view_name": "LabelView",
            "style": "IPY_MODEL_590a06271b084f82844ffe1de9575ab6",
            "_dom_classes": [],
            "description": "",
            "_model_name": "LabelModel",
            "placeholder": "​",
            "_view_module": "@jupyter-widgets/controls",
            "_model_module_version": "1.5.0",
            "value": " 2.62MB of 2.62MB uploaded (0.00MB deduped)\r",
            "_view_count": null,
            "_view_module_version": "1.5.0",
            "description_tooltip": null,
            "_model_module": "@jupyter-widgets/controls",
            "layout": "IPY_MODEL_57ffc229880c4f8db56a6ed8414f234f"
          }
        },
        "5f592c109a374312b4a193f845c924f3": {
          "model_module": "@jupyter-widgets/controls",
          "model_name": "FloatProgressModel",
          "model_module_version": "1.5.0",
          "state": {
            "_view_name": "ProgressView",
            "style": "IPY_MODEL_75c9d4dae9e24135ab8c94fd4e71999a",
            "_dom_classes": [],
            "description": "",
            "_model_name": "FloatProgressModel",
            "bar_style": "",
            "max": 1,
            "_view_module": "@jupyter-widgets/controls",
            "_model_module_version": "1.5.0",
            "value": 1,
            "_view_count": null,
            "_view_module_version": "1.5.0",
            "orientation": "horizontal",
            "min": 0,
            "description_tooltip": null,
            "_model_module": "@jupyter-widgets/controls",
            "layout": "IPY_MODEL_c30ac6bf3b6b45918f328d4db90a6c8d"
          }
        },
        "590a06271b084f82844ffe1de9575ab6": {
          "model_module": "@jupyter-widgets/controls",
          "model_name": "DescriptionStyleModel",
          "model_module_version": "1.5.0",
          "state": {
            "_view_name": "StyleView",
            "_model_name": "DescriptionStyleModel",
            "description_width": "",
            "_view_module": "@jupyter-widgets/base",
            "_model_module_version": "1.5.0",
            "_view_count": null,
            "_view_module_version": "1.2.0",
            "_model_module": "@jupyter-widgets/controls"
          }
        },
        "57ffc229880c4f8db56a6ed8414f234f": {
          "model_module": "@jupyter-widgets/base",
          "model_name": "LayoutModel",
          "model_module_version": "1.2.0",
          "state": {
            "_view_name": "LayoutView",
            "grid_template_rows": null,
            "right": null,
            "justify_content": null,
            "_view_module": "@jupyter-widgets/base",
            "overflow": null,
            "_model_module_version": "1.2.0",
            "_view_count": null,
            "flex_flow": null,
            "width": null,
            "min_width": null,
            "border": null,
            "align_items": null,
            "bottom": null,
            "_model_module": "@jupyter-widgets/base",
            "top": null,
            "grid_column": null,
            "overflow_y": null,
            "overflow_x": null,
            "grid_auto_flow": null,
            "grid_area": null,
            "grid_template_columns": null,
            "flex": null,
            "_model_name": "LayoutModel",
            "justify_items": null,
            "grid_row": null,
            "max_height": null,
            "align_content": null,
            "visibility": null,
            "align_self": null,
            "height": null,
            "min_height": null,
            "padding": null,
            "grid_auto_rows": null,
            "grid_gap": null,
            "max_width": null,
            "order": null,
            "_view_module_version": "1.2.0",
            "grid_template_areas": null,
            "object_position": null,
            "object_fit": null,
            "grid_auto_columns": null,
            "margin": null,
            "display": null,
            "left": null
          }
        },
        "75c9d4dae9e24135ab8c94fd4e71999a": {
          "model_module": "@jupyter-widgets/controls",
          "model_name": "ProgressStyleModel",
          "model_module_version": "1.5.0",
          "state": {
            "_view_name": "StyleView",
            "_model_name": "ProgressStyleModel",
            "description_width": "",
            "_view_module": "@jupyter-widgets/base",
            "_model_module_version": "1.5.0",
            "_view_count": null,
            "_view_module_version": "1.2.0",
            "bar_color": null,
            "_model_module": "@jupyter-widgets/controls"
          }
        },
        "c30ac6bf3b6b45918f328d4db90a6c8d": {
          "model_module": "@jupyter-widgets/base",
          "model_name": "LayoutModel",
          "model_module_version": "1.2.0",
          "state": {
            "_view_name": "LayoutView",
            "grid_template_rows": null,
            "right": null,
            "justify_content": null,
            "_view_module": "@jupyter-widgets/base",
            "overflow": null,
            "_model_module_version": "1.2.0",
            "_view_count": null,
            "flex_flow": null,
            "width": null,
            "min_width": null,
            "border": null,
            "align_items": null,
            "bottom": null,
            "_model_module": "@jupyter-widgets/base",
            "top": null,
            "grid_column": null,
            "overflow_y": null,
            "overflow_x": null,
            "grid_auto_flow": null,
            "grid_area": null,
            "grid_template_columns": null,
            "flex": null,
            "_model_name": "LayoutModel",
            "justify_items": null,
            "grid_row": null,
            "max_height": null,
            "align_content": null,
            "visibility": null,
            "align_self": null,
            "height": null,
            "min_height": null,
            "padding": null,
            "grid_auto_rows": null,
            "grid_gap": null,
            "max_width": null,
            "order": null,
            "_view_module_version": "1.2.0",
            "grid_template_areas": null,
            "object_position": null,
            "object_fit": null,
            "grid_auto_columns": null,
            "margin": null,
            "display": null,
            "left": null
          }
        }
      }
    }
  },
  "cells": [
    {
      "cell_type": "markdown",
      "metadata": {
        "id": "view-in-github",
        "colab_type": "text"
      },
      "source": [
        "<a href=\"https://colab.research.google.com/github/11doris/jazz-maestro/blob/colab_word_embeddings/colab_g_recommender_score.ipynb\" target=\"_parent\"><img src=\"https://colab.research.google.com/assets/colab-badge.svg\" alt=\"Open In Colab\"/></a>"
      ]
    },
    {
      "cell_type": "markdown",
      "metadata": {
        "id": "YGhakKpa8Dtf"
      },
      "source": [
        "# Sections as Input"
      ]
    },
    {
      "cell_type": "code",
      "metadata": {
        "colab": {
          "base_uri": "https://localhost:8080/"
        },
        "id": "dm5QehpXxo31",
        "outputId": "0e9b53e4-9649-4545-c617-40cf59a1f396"
      },
      "source": [
        "pip install wandb"
      ],
      "execution_count": 1,
      "outputs": [
        {
          "output_type": "stream",
          "name": "stdout",
          "text": [
            "Requirement already satisfied: wandb in /usr/local/lib/python3.7/dist-packages (0.12.7)\n",
            "Requirement already satisfied: Click!=8.0.0,>=7.0 in /usr/local/lib/python3.7/dist-packages (from wandb) (7.1.2)\n",
            "Requirement already satisfied: python-dateutil>=2.6.1 in /usr/local/lib/python3.7/dist-packages (from wandb) (2.8.2)\n",
            "Requirement already satisfied: protobuf>=3.12.0 in /usr/local/lib/python3.7/dist-packages (from wandb) (3.17.3)\n",
            "Requirement already satisfied: docker-pycreds>=0.4.0 in /usr/local/lib/python3.7/dist-packages (from wandb) (0.4.0)\n",
            "Requirement already satisfied: subprocess32>=3.5.3 in /usr/local/lib/python3.7/dist-packages (from wandb) (3.5.4)\n",
            "Requirement already satisfied: promise<3,>=2.0 in /usr/local/lib/python3.7/dist-packages (from wandb) (2.3)\n",
            "Requirement already satisfied: six>=1.13.0 in /usr/local/lib/python3.7/dist-packages (from wandb) (1.15.0)\n",
            "Requirement already satisfied: configparser>=3.8.1 in /usr/local/lib/python3.7/dist-packages (from wandb) (5.1.0)\n",
            "Requirement already satisfied: psutil>=5.0.0 in /usr/local/lib/python3.7/dist-packages (from wandb) (5.4.8)\n",
            "Requirement already satisfied: pathtools in /usr/local/lib/python3.7/dist-packages (from wandb) (0.1.2)\n",
            "Requirement already satisfied: shortuuid>=0.5.0 in /usr/local/lib/python3.7/dist-packages (from wandb) (1.0.8)\n",
            "Requirement already satisfied: requests<3,>=2.0.0 in /usr/local/lib/python3.7/dist-packages (from wandb) (2.23.0)\n",
            "Requirement already satisfied: PyYAML in /usr/local/lib/python3.7/dist-packages (from wandb) (3.13)\n",
            "Requirement already satisfied: GitPython>=1.0.0 in /usr/local/lib/python3.7/dist-packages (from wandb) (3.1.24)\n",
            "Requirement already satisfied: sentry-sdk>=1.0.0 in /usr/local/lib/python3.7/dist-packages (from wandb) (1.5.0)\n",
            "Requirement already satisfied: yaspin>=1.0.0 in /usr/local/lib/python3.7/dist-packages (from wandb) (2.1.0)\n",
            "Requirement already satisfied: gitdb<5,>=4.0.1 in /usr/local/lib/python3.7/dist-packages (from GitPython>=1.0.0->wandb) (4.0.9)\n",
            "Requirement already satisfied: typing-extensions>=3.7.4.3 in /usr/local/lib/python3.7/dist-packages (from GitPython>=1.0.0->wandb) (3.10.0.2)\n",
            "Requirement already satisfied: smmap<6,>=3.0.1 in /usr/local/lib/python3.7/dist-packages (from gitdb<5,>=4.0.1->GitPython>=1.0.0->wandb) (5.0.0)\n",
            "Requirement already satisfied: idna<3,>=2.5 in /usr/local/lib/python3.7/dist-packages (from requests<3,>=2.0.0->wandb) (2.10)\n",
            "Requirement already satisfied: chardet<4,>=3.0.2 in /usr/local/lib/python3.7/dist-packages (from requests<3,>=2.0.0->wandb) (3.0.4)\n",
            "Requirement already satisfied: certifi>=2017.4.17 in /usr/local/lib/python3.7/dist-packages (from requests<3,>=2.0.0->wandb) (2021.10.8)\n",
            "Requirement already satisfied: urllib3!=1.25.0,!=1.25.1,<1.26,>=1.21.1 in /usr/local/lib/python3.7/dist-packages (from requests<3,>=2.0.0->wandb) (1.24.3)\n",
            "Requirement already satisfied: termcolor<2.0.0,>=1.1.0 in /usr/local/lib/python3.7/dist-packages (from yaspin>=1.0.0->wandb) (1.1.0)\n"
          ]
        }
      ]
    },
    {
      "cell_type": "code",
      "metadata": {
        "colab": {
          "base_uri": "https://localhost:8080/"
        },
        "id": "HZG8BDT-xrv3",
        "outputId": "58aed9f8-e884-42e1-86c1-30628d423caf"
      },
      "source": [
        "!wandb login"
      ],
      "execution_count": 2,
      "outputs": [
        {
          "output_type": "stream",
          "name": "stdout",
          "text": [
            "\u001b[34m\u001b[1mwandb\u001b[0m: Currently logged in as: \u001b[33mdoris\u001b[0m (use `wandb login --relogin` to force relogin)\n"
          ]
        }
      ]
    },
    {
      "cell_type": "code",
      "metadata": {
        "id": "WHZBzAXjxz1J"
      },
      "source": [
        "import wandb"
      ],
      "execution_count": 3,
      "outputs": []
    },
    {
      "cell_type": "code",
      "metadata": {
        "colab": {
          "base_uri": "https://localhost:8080/"
        },
        "id": "MUy1ta4_782n",
        "outputId": "56a78f78-0b50-47b0-96cc-520d012e1e30"
      },
      "source": [
        "!pip uninstall gensim -y"
      ],
      "execution_count": 4,
      "outputs": [
        {
          "output_type": "stream",
          "name": "stdout",
          "text": [
            "Found existing installation: gensim 4.1.2\n",
            "Uninstalling gensim-4.1.2:\n",
            "  Successfully uninstalled gensim-4.1.2\n"
          ]
        }
      ]
    },
    {
      "cell_type": "code",
      "metadata": {
        "colab": {
          "base_uri": "https://localhost:8080/"
        },
        "id": "oAroxmvO8GQj",
        "outputId": "05dbe89b-1665-4d9e-e773-5d7c75fcf85f"
      },
      "source": [
        "!pip install gensim"
      ],
      "execution_count": 5,
      "outputs": [
        {
          "output_type": "stream",
          "name": "stdout",
          "text": [
            "Collecting gensim\n",
            "  Using cached gensim-4.1.2-cp37-cp37m-manylinux_2_12_x86_64.manylinux2010_x86_64.whl (24.1 MB)\n",
            "Requirement already satisfied: numpy>=1.17.0 in /usr/local/lib/python3.7/dist-packages (from gensim) (1.19.5)\n",
            "Requirement already satisfied: smart-open>=1.8.1 in /usr/local/lib/python3.7/dist-packages (from gensim) (5.2.1)\n",
            "Requirement already satisfied: scipy>=0.18.1 in /usr/local/lib/python3.7/dist-packages (from gensim) (1.4.1)\n",
            "Installing collected packages: gensim\n",
            "Successfully installed gensim-4.1.2\n"
          ]
        }
      ]
    },
    {
      "cell_type": "code",
      "metadata": {
        "id": "6SZ0zrKX8H-D"
      },
      "source": [
        "import gensim\n",
        "from sklearn.manifold import TSNE\n",
        "import matplotlib.pyplot as plt\n",
        "import pprint\n",
        "import pandas as pd\n",
        "import numpy as np\n",
        "from collections import Counter\n",
        "import plotly.express as px\n",
        "from tqdm import tqdm \n",
        "from gensim.models.doc2vec import Doc2Vec\n",
        "from gensim.models.tfidfmodel import TfidfModel\n",
        "from gensim.models.lsimodel import LsiModel\n",
        "from gensim.models import CoherenceModel\n",
        "from gensim import corpora\n",
        "from gensim import similarities\n",
        "import pickle\n",
        "import os\n",
        "import zipfile\n"
      ],
      "execution_count": 6,
      "outputs": []
    },
    {
      "cell_type": "code",
      "metadata": {
        "id": "znWar-PK8KHT"
      },
      "source": [
        "import logging\n",
        "logging.basicConfig(format='%(asctime)s : %(levelname)s : %(message)s', level=logging.INFO)"
      ],
      "execution_count": 7,
      "outputs": []
    },
    {
      "cell_type": "code",
      "metadata": {
        "colab": {
          "base_uri": "https://localhost:8080/"
        },
        "id": "kjCf_Abf8MCc",
        "outputId": "d567cac8-43a1-445d-df4a-31c8f3557585"
      },
      "source": [
        "print(gensim.__version__)"
      ],
      "execution_count": 8,
      "outputs": [
        {
          "output_type": "stream",
          "name": "stdout",
          "text": [
            "4.1.2\n"
          ]
        }
      ]
    },
    {
      "cell_type": "code",
      "metadata": {
        "id": "_aEonlx-CT6r"
      },
      "source": [
        "!rm data.csv"
      ],
      "execution_count": 9,
      "outputs": []
    },
    {
      "cell_type": "code",
      "metadata": {
        "id": "Xhfwd9iMZ99Q"
      },
      "source": [
        "pd.set_option('display.max_rows', 500)\n",
        "pd.set_option('display.max_columns', 500)\n",
        "pd.set_option('display.width', 1000)"
      ],
      "execution_count": 10,
      "outputs": []
    },
    {
      "cell_type": "markdown",
      "metadata": {
        "id": "Nk5pPZqk0Pn7"
      },
      "source": [
        "# Configuration\n"
      ]
    },
    {
      "cell_type": "code",
      "metadata": {
        "id": "wcZ18xhgU7MZ"
      },
      "source": [
        "use_wandb = True"
      ],
      "execution_count": 11,
      "outputs": []
    },
    {
      "cell_type": "code",
      "metadata": {
        "id": "A-AD1gxGLYxp"
      },
      "source": [
        "generate_webapp_data = False"
      ],
      "execution_count": 12,
      "outputs": []
    },
    {
      "cell_type": "code",
      "metadata": {
        "id": "GfQbJQmexlxI"
      },
      "source": [
        "chords_preprocessing = 'rootAndDegreesPlus'"
      ],
      "execution_count": 13,
      "outputs": []
    },
    {
      "cell_type": "code",
      "metadata": {
        "id": "buoyWNl0F48Y"
      },
      "source": [
        "ngrams_for_input = [1]"
      ],
      "execution_count": 14,
      "outputs": []
    },
    {
      "cell_type": "code",
      "metadata": {
        "id": "wzcT4kkmc49a"
      },
      "source": [
        "phrases_threshold = 1.0  # 1.0 for no phrases"
      ],
      "execution_count": 15,
      "outputs": []
    },
    {
      "cell_type": "code",
      "metadata": {
        "id": "H9AFlUZ1lpGC"
      },
      "source": [
        "remove_repetitions = False"
      ],
      "execution_count": 16,
      "outputs": []
    },
    {
      "cell_type": "code",
      "metadata": {
        "id": "K7qB2_sBvKpB"
      },
      "source": [
        "input_files = {\n",
        "    'sections': {\n",
        "        # M7 and 6 reduced to major triad, m7 reduced to m, dominant 7, m7b5, diminished, and all (b5) left as they are.\n",
        "        'rootAndDegreesPlus': '1BDYukaIj72jmi9PqZVrCAqKbyxg8Z4yq',\n",
        "        'rootAndDegrees7': '',\n",
        "        'rootAndDegreesSimplified': '1h9dRRpbTSEE_x9CpbQ9rOi-GXKcCFUCU',\n",
        "    },\n",
        "    'tunes': {\n",
        "        'rootAndDegreesPlus': '',\n",
        "        'rootAndDegrees7': '',\n",
        "        'rootAndDegreesSimplified': '',\n",
        "    }\n",
        "}"
      ],
      "execution_count": 17,
      "outputs": []
    },
    {
      "cell_type": "code",
      "metadata": {
        "colab": {
          "base_uri": "https://localhost:8080/"
        },
        "id": "lM6eaQwnyWD3",
        "outputId": "86c8b1e0-b226-42d0-b2a7-0e15c1fcc159"
      },
      "source": [
        "tunes_eval_list = [\n",
        "  \"Sweet Sue, Just You [jazz1350]\",\n",
        "  \"On The Sunny Side Of The Street [jazz1350]\",\n",
        "  \"These Foolish Things [jazz1350]\", \n",
        "  \"Blue Moon [jazz1350]\",\n",
        "  \"All Of Me [jazz1350]\",\n",
        "  \"All God's Chillun Got Rhythm [jazz1350]\",\n",
        "  \"I Got Rhythm [jazz1350]\",\n",
        "  \"Bye Bye Blackbird [jazz1350]\",\n",
        "  \"Old Fashioned Love [trad]\",\n",
        "  \"Exactly Like You [jazz1350]\",\n",
        "  \"Honeysuckle Rose [jazz1350]\",\n",
        "  \"Misty [jazz1350]\",\n",
        "  \"Naima [jazz1350]\",\n",
        "]\n",
        "\n",
        "tunes_eval_list = sorted(tunes_eval_list)\n",
        "tunes_eval_list"
      ],
      "execution_count": 18,
      "outputs": [
        {
          "output_type": "execute_result",
          "data": {
            "text/plain": [
              "[\"All God's Chillun Got Rhythm [jazz1350]\",\n",
              " 'All Of Me [jazz1350]',\n",
              " 'Blue Moon [jazz1350]',\n",
              " 'Bye Bye Blackbird [jazz1350]',\n",
              " 'Exactly Like You [jazz1350]',\n",
              " 'Honeysuckle Rose [jazz1350]',\n",
              " 'I Got Rhythm [jazz1350]',\n",
              " 'Misty [jazz1350]',\n",
              " 'Naima [jazz1350]',\n",
              " 'Old Fashioned Love [trad]',\n",
              " 'On The Sunny Side Of The Street [jazz1350]',\n",
              " 'Sweet Sue, Just You [jazz1350]',\n",
              " 'These Foolish Things [jazz1350]']"
            ]
          },
          "metadata": {},
          "execution_count": 18
        }
      ]
    },
    {
      "cell_type": "code",
      "metadata": {
        "id": "uiI0h4ef0PCD"
      },
      "source": [
        "contrafacts = [\n",
        "               (\"26-2 [jazz1350]\", \"Confirmation [jazz1350]\"),\n",
        "               (\"52nd Street Theme [jazz1350]\", \"I Got Rhythm [jazz1350]\"),\n",
        "               (\"Ablution [jazz1350]\", \"All The Things You Are [jazz1350]\"),\n",
        "               (\"Anthropology [jazz1350]\", \"I Got Rhythm [jazz1350]\"),\n",
        "               (\"Ballade [jazz1350]\", \"As Long As I Live [jazz1350]\"),\n",
        "               (\"Bright Mississippi [jazz1350]\", \"Sweet Georgia Brown [jazz1350]\"),\n",
        "               (\"C.T.A. [jazz1350]\", \"I Got Rhythm [jazz1350]\"),\n",
        "               #( \"Celia [jazz1350]\", \"I Got Rhythm [jazz1350]\"),\n",
        "               (\"Cottontail [jazz1350]\", \"I Got Rhythm [jazz1350]\"),\n",
        "               (\"Countdown [jazz1350]\", \"Tune Up [jazz1350]\"),\n",
        "               (\"Dewey Square [jazz1350]\", \"Oh, Lady Be Good [jazz1350]\"),\n",
        "               (\"Dexterity [jazz1350]\", \"I Got Rhythm [jazz1350]\"),\n",
        "               (\"Dig [jazz1350]\", \"Sweet Georgia Brown [jazz1350]\"),\n",
        "               (\"Donna Lee [jazz1350]\", \"Indiana (Back Home Again In) [jazz1350]\"),\n",
        "               (\"Don't Be That Way [jazz1350]\", \"I Got Rhythm [jazz1350]\"),\n",
        "               #(\"Eternal Triangle [jazz1350]\", \"I Got Rhythm [jazz1350]\"),\n",
        "               (\"Evidence [jazz1350]\", \"Just You, Just Me [jazz1350]\"),\n",
        "               (\"Flintstones [jazz1350]\", \"I Got Rhythm [jazz1350]\"),\n",
        "               (\"Four On Six [jazz1350]\", \"Summertime [jazz1350]\"),\n",
        "               (\"Freight Train [jazz1350]\", \"Blues For Alice [jazz1350]\"),\n",
        "               (\"Good Bait [jazz1350]\", \"I Got Rhythm [jazz1350]\"),\n",
        "               (\"Hackensack [jazz1350]\", \"Oh, Lady Be Good [jazz1350]\"),\n",
        "               (\"Half Nelson [jazz1350]\", \"Lady Bird [jazz1350]\"),\n",
        "               (\"Hot House [jazz1350]\", \"What Is This Thing Called Love [jazz1350]\"),\n",
        "               (\"Impressions [jazz1350]\", \"So What [jazz1350]\"),\n",
        "               (\"In A Mellow Tone (In A Mellotone) [jazz1350]\", \"Rose Room [jazz1350]\"),\n",
        "               (\"In Walked Bud [jazz1350]\", \"Blue Skies [jazz1350]\"),\n",
        "               (\"Ko Ko [jazz1350]\", \"Cherokee [jazz1350]\"),\n",
        "               (\"Lennie's Pennies [jazz1350]\", \"Pennies From Heaven [jazz1350]\"),   ## Lennie's Pennies is in minor and therefore transposed to Amin... not possible to recognize like that\n",
        "               #( \"Let's Call This [jazz1350]\", \"Honeysuckle Rose [jazz1350]\"),\n",
        "               (\"Little Rootie Tootie [jazz1350]\", \"I Got Rhythm [jazz1350]\"),\n",
        "               (\"Little Willie Leaps [jazz1350]\", \"All God's Chillun Got Rhythm [jazz1350]\"),\n",
        "               (\"Lullaby Of Birdland [jazz1350]\", \"Love Me Or Leave Me [jazz1350]\"),\n",
        "               #(\"Moose The Mooche [jazz1350]\", \"I Got Rhythm [jazz1350]\"),\n",
        "               (\"My Little Suede Shoes [jazz1350]\", \"Jeepers Creepers [jazz1350]\"),\n",
        "               #(\"Oleo [jazz1350]\", \"I Got Rhythm [jazz1350]\"),\n",
        "               (\"Ornithology [jazz1350]\", \"How High The Moon [jazz1350]\"),\n",
        "               #(\"Passport [jazz1350]\", \"I Got Rhythm [jazz1350]\"),\n",
        "               (\"Quasimodo (Theme) [jazz1350]\", \"Embraceable You [jazz1350]\"),\n",
        "               #(\"Rhythm-a-ning [jazz1350]\", \"I Got Rhythm [jazz1350]\"),\n",
        "               (\"Room 608 [jazz1350]\", \"I Got Rhythm [jazz1350]\"),\n",
        "               #(\"Salt Peanuts [jazz1350]\", \"I Got Rhythm [jazz1350]\"),\n",
        "               (\"Satellite [jazz1350]\", \"How High The Moon [jazz1350]\"),\n",
        "               (\"Scrapple From The Apple [jazz1350]\", \"Honeysuckle Rose [jazz1350]\"), # A section\n",
        "               (\"Scrapple From The Apple [jazz1350]\", \"I Got Rhythm [jazz1350]\"), # B section\n",
        "               #(\"Segment [jazz1350]\", \"I Got Rhythm [jazz1350]\"),\n",
        "               #(\"Seven Come Eleven [jazz1350]\", \"I Got Rhythm [jazz1350]\"),\n",
        "               #(\"Shaw 'Nuff [jazz1350]\", \"I Got Rhythm [jazz1350]\"),\n",
        "               #(\"Theme, The [jazz1350]\", \"I Got Rhythm [jazz1350]\"),\n",
        "               (\"Tour De Force [jazz1350]\", \"Jeepers Creepers [jazz1350]\"),\n",
        "               (\"Wow [jazz1350]\", \"You Can Depend On Me [jazz1350]\"),\n",
        "               (\"Yardbird Suite [jazz1350]\", \"Rosetta [jazz1350]\"),\n",
        "\n",
        "               # following tunes are not from wikipedia),\n",
        "               (\"Sweet Sue, Just You [jazz1350]\", \"Honeysuckle Rose [jazz1350]\"),  # A section\n",
        "               #(\"All Of Me [jazz1350]\", \"Pennies From Heaven [jazz1350]\"), # bars 25-28 of All of Me are same as bars 17-20 of Pennies From Heaven, but different key!\n",
        "               (\"Sweet Sue, Just You [jazz1350]\", \"Bye Bye Blackbird [jazz1350]\"), # Bridge same\n",
        "               (\"These Foolish Things [jazz1350]\", \"Blue Moon [jazz1350]\"), # first 8 bars same\n",
        "               (\"These Foolish Things [jazz1350]\", \"More Than You Know [jazz1350]\"),\n",
        "               (\"These Foolish Things [jazz1350]\", \"Isn't It A Pity [jazz1350]\"),\n",
        "               (\"These Foolish Things [jazz1350]\", \"Soultrain [jazz1350]\"),\n",
        "               (\"These Foolish Things [jazz1350]\", \"Why Do I Love You [jazz1350]\"),\n",
        "               (\"Misty [jazz1350]\", \"Portrait Of Jennie [jazz1350]\"),\n",
        "               (\"Misty [jazz1350]\", \"September In The Rain [jazz1350]\"),\n",
        "               (\"Misty [jazz1350]\", \"I May Be Wrong [jazz1350]\"),  \n",
        "\n",
        "               # identical tunes\n",
        "               (\"Five Foot Two [trad]\", \"Please Don't Talk About Me When I'm Gone [trad]\"),\n",
        "               (\"What Is This Thing Called Love [jazz1350]\", \"Subconscious Lee [jazz1350]\"),\n",
        "               (\"Sweet Georgia Brown [jazz1350]\", \"Dig [jazz1350]\"),\n",
        "\n",
        "\n",
        "               # almost identical tunes\n",
        "               (\"What Is This Thing Called Love [jazz1350]\", \"Hot House [jazz1350]\"),\n",
        "               (\"Jeannie's Song [jazz1350]\", \"Shiny Stockings [jazz1350]\"),\n",
        "               (\"Alone Together [jazz1350]\", \"Segment [jazz1350]\"),\n",
        "               (\"Baubles, Bangles and Beads [jazz1350]\", \"Bossa Antigua [jazz1350]\"),\n",
        "               (\"There Will Never Be Another You [jazz1350]\", \"A Weaver Of Dreams [jazz1350]\"),\n",
        "               (\"Moten Swing [jazz1350]\", \"Once In A While (Ballad) [trad]\"), # same bridge, similar A\n",
        "               (\"All I Do Is Dream Of You [trad]\", \"L-O-V-E [jazz1350]\"),\n",
        "\n",
        "\n",
        "               # same A section\n",
        "               (\"Nancy (With The Laughing Face) [jazz1350]\", \"Body And Soul [jazz1350]\"),\n",
        "               (\"Exactly Like You [jazz1350]\", \"True (You Don't Love Me ) [trad]\"),\n",
        "               (\"Exactly Like You [jazz1350]\", \"True (You Don't Love Me ) [trad]\"),\n",
        "               (\"Exactly Like You [jazz1350]\", \"Jersey Bounce [trad]\"),\n",
        "               (\"Take The A Train [jazz1350]\", \"Girl From Ipanema, The [jazz1350]\"),\n",
        "               (\"My Heart Stood Still [jazz1350]\", \"All Too Soon [jazz1350]\"),\n",
        "               (\"Undecided [jazz1350]\", \"Broadway [jazz1350]\"),\n",
        "               (\"My Heart Stood Still [jazz1350]\", \"All Too Soon [jazz1350]\"),\n",
        "               (\"Let's Fall In Love [jazz1350]\", \"Heart And Soul [jazz1350]\"),\n",
        "               (\"Come Back To Me [jazz1350]\", \"I Wish I Knew [jazz1350]\"),\n",
        "               (\"Wait Till You See Her [jazz1350]\", \"A Certain Smile [jazz1350]\"),\n",
        "               (\"Killer Joe [jazz1350]\", \"Straight Life [jazz1350]\"),\n",
        "               (\"Softly, As In A Morning Sunrise [jazz1350]\", \"Segment [jazz1350]\"),\n",
        "               (\"Bei Mir Bist Du Schon (Root Hog Or Die) [trad]\", \"Egyptian Fantasy [trad]\"),\n",
        "               (\"Bei Mir Bist Du Schon (Root Hog Or Die) [trad]\", \"Puttin' On The Ritz [jazz1350]\"),\n",
        "               (\"Coquette [trad]\", \"Pretend You're Happy When You're Blue [trad]\"),\n",
        "               (\"Softly, As In A Morning Sunrise [jazz1350]\", \"Strode Rode [jazz1350]\"),\n",
        "               (\"Glory Of Love, The [jazz1350]\", \"I've Got My Fingers Crossed [trad]\"),\n",
        "\n",
        "\n",
        "               # same bridge\n",
        "               (\"If I Had You [jazz1350]\", \"Too Young To Go Steady [jazz1350]\"),\n",
        "               (\"Undecided [jazz1350]\", \"Satin Doll [jazz1350]\"),\n",
        "               (\"Billy Boy [jazz1350]\", \"Elora [jazz1350]\"),\n",
        "               (\"Dearly Beloved [jazz1350]\", \"We See [jazz1350]\"),\n",
        "               (\"Alone Together [jazz1350]\", \"A Night In Tunisia [jazz1350]\"),\n",
        "               (\"A Night In Tunisia [jazz1350]\", \"Segment [jazz1350]\"),\n",
        "               (\"Oh! Lady Be Good [trad]\", \"Sentimental Journey [jazz1350]\"),\n",
        "               (\"You Can Depend On Me [jazz1350]\", \"Move [jazz1350]\"),\n",
        "               (\"I Want To Be Happy [jazz1350]\", \"A Beautiful Friendship [jazz1350]\"),\n",
        "               (\"Flying Home [jazz1350]\", \"Down For Double [jazz1350]\"),\n",
        "               (\"Cheek To Cheek [jazz1350]\", \"Violets For Your Furs [jazz1350]\"),\n",
        "               (\"Let's Fall In Love [jazz1350]\", \"At Last [jazz1350]\"),\n",
        "               (\"Don't Be That Way [jazz1350]\", \"Long Ago And Far Away [jazz1350]\"),\n",
        "               (\"On The Sunny Side Of The Street [jazz1350]\", \"I'm Confessin' That I Love You [jazz1350]\"),\n",
        "               (\"On The Sunny Side Of The Street [jazz1350]\", \"Eclypso [jazz1350]\"),\n",
        "               (\"On The Sunny Side Of The Street [jazz1350]\", \"You Stepped Out Of A Dream [jazz1350]\"),\n",
        "               \n",
        "\n",
        "               # similar A section\n",
        "               (\"I Like The Likes Of You [jazz1350]\", \"Mountain Greenery [jazz1350]\"),\n",
        "               (\"My Secret Love [jazz1350]\", \"Samba De Orfeu [jazz1350]\"),\n",
        "               (\"Let's Call The Whole Thing Off [jazz1350]\", \"Fine And Dandy [jazz1350]\"),\n",
        "\n",
        "\n",
        "               # similar B section\n",
        "               (\"Folks Who Live On The Hill, The [jazz1350]\", \"My One And Only Love [jazz1350]\"),\n",
        "               (\"As Long As I Live [jazz1350]\", \"I'm Glad There Is You [jazz1350]\"),\n",
        "               (\"I May Be Wrong [jazz1350]\", \"Teach Me Tonight [jazz1350]\"),\n",
        "               (\"Am I Blue [jazz1350]\", \"Come Back To Me [jazz1350]\"),\n",
        "               (\"My One And Only Love [jazz1350]\", \"Am I Blue [jazz1350]\"),\n",
        "               (\"On The Sunny Side Of The Street [jazz1350]\", \"September In The Rain [jazz1350]\"),\n",
        "               (\"On The Sunny Side Of The Street [jazz1350]\", \"Mountain Greenery [jazz1350]\"),\n",
        "               (\"On The Sunny Side Of The Street [jazz1350]\", \"There's No You [jazz1350]\"),\n",
        "               (\"These Foolish Things [jazz1350]\", \"Embraceable You [jazz1350]\"),\n",
        "               (\"These Foolish Things [jazz1350]\", \"Rosetta [jazz1350]\"),\n",
        "\n",
        "               # same C section\n",
        "               (\"Bill Bailey [jazz1350]\", \"Bourbon Street Parade [jazz1350]\"),\n",
        "\n",
        "               # Stella C is like Woody B\n",
        "               (\"Woody'n You [jazz1350]\", \"Stella By Starlight [jazz1350]\"),\n",
        "\n",
        "               # similar vocabulary, different progressions\n",
        "               (\"Tangerine [jazz1350]\", \"Tea For Two [jazz1350]\"),\n",
        "               (\"I Can't Give You Anything But Love [jazz1350]\", \"You Can Depend On Me [jazz1350]\"),\n",
        "               (\"This Year's Kisses [jazz1350]\", \"My Monday Date [trad]\"),\n",
        "               (\"A Blossom Fell [jazz1350]\", \"Among My Souvenirs [jazz1350]\"),\n",
        "\n",
        "\n",
        "\n",
        "]"
      ],
      "execution_count": 19,
      "outputs": []
    },
    {
      "cell_type": "markdown",
      "metadata": {
        "id": "gcexO7zK8Pn6"
      },
      "source": [
        "# Initialization\n",
        "\n",
        "## Download the Data"
      ]
    },
    {
      "cell_type": "code",
      "metadata": {
        "id": "JwVJo3Vat8iF"
      },
      "source": [
        "input_data = input_files['sections'][chords_preprocessing]\n",
        "\n",
        "input_path = f\"https://docs.google.com/uc?export=download&id={input_data}\"\n",
        "data_file_name = 'data.csv'\n"
      ],
      "execution_count": 20,
      "outputs": []
    },
    {
      "cell_type": "code",
      "metadata": {
        "colab": {
          "base_uri": "https://localhost:8080/",
          "height": 36
        },
        "id": "_Dp-fijjB-pU",
        "outputId": "7b0cc8fa-b5e1-4b5b-e7e3-528bfbf5382a"
      },
      "source": [
        "input_path"
      ],
      "execution_count": 21,
      "outputs": [
        {
          "output_type": "execute_result",
          "data": {
            "application/vnd.google.colaboratory.intrinsic+json": {
              "type": "string"
            },
            "text/plain": [
              "'https://docs.google.com/uc?export=download&id=1BDYukaIj72jmi9PqZVrCAqKbyxg8Z4yq'"
            ]
          },
          "metadata": {},
          "execution_count": 21
        }
      ]
    },
    {
      "cell_type": "code",
      "metadata": {
        "colab": {
          "base_uri": "https://localhost:8080/"
        },
        "id": "1ZVAYUH5t9Li",
        "outputId": "6c4d8cf7-7d2a-4c9c-dfc7-17beec014d1a"
      },
      "source": [
        "!wget --no-check-certificate \"$input_path\" -O \"$data_file_name\""
      ],
      "execution_count": 22,
      "outputs": [
        {
          "output_type": "stream",
          "name": "stdout",
          "text": [
            "--2021-11-29 18:40:41--  https://docs.google.com/uc?export=download&id=1BDYukaIj72jmi9PqZVrCAqKbyxg8Z4yq\n",
            "Resolving docs.google.com (docs.google.com)... 142.251.6.100, 142.251.6.113, 142.251.6.102, ...\n",
            "Connecting to docs.google.com (docs.google.com)|142.251.6.100|:443... connected.\n",
            "HTTP request sent, awaiting response... 302 Moved Temporarily\n",
            "Location: https://doc-0k-4c-docs.googleusercontent.com/docs/securesc/ha0ro937gcuc7l7deffksulhg5h7mbp1/fpc01rmv8odjksndehg2i35djm3pg94l/1638211200000/14329102864480165501/*/1BDYukaIj72jmi9PqZVrCAqKbyxg8Z4yq?e=download [following]\n",
            "Warning: wildcards not supported in HTTP.\n",
            "--2021-11-29 18:40:42--  https://doc-0k-4c-docs.googleusercontent.com/docs/securesc/ha0ro937gcuc7l7deffksulhg5h7mbp1/fpc01rmv8odjksndehg2i35djm3pg94l/1638211200000/14329102864480165501/*/1BDYukaIj72jmi9PqZVrCAqKbyxg8Z4yq?e=download\n",
            "Resolving doc-0k-4c-docs.googleusercontent.com (doc-0k-4c-docs.googleusercontent.com)... 173.194.197.132, 2607:f8b0:4001:c1b::84\n",
            "Connecting to doc-0k-4c-docs.googleusercontent.com (doc-0k-4c-docs.googleusercontent.com)|173.194.197.132|:443... connected.\n",
            "HTTP request sent, awaiting response... 200 OK\n",
            "Length: 782611 (764K) [text/csv]\n",
            "Saving to: ‘data.csv’\n",
            "\n",
            "data.csv            100%[===================>] 764.27K  --.-KB/s    in 0.006s  \n",
            "\n",
            "2021-11-29 18:40:42 (117 MB/s) - ‘data.csv’ saved [782611/782611]\n",
            "\n"
          ]
        }
      ]
    },
    {
      "cell_type": "markdown",
      "metadata": {
        "id": "Ljs21B7h8YvC"
      },
      "source": [
        "### Read Chords Input Data"
      ]
    },
    {
      "cell_type": "code",
      "metadata": {
        "colab": {
          "base_uri": "https://localhost:8080/",
          "height": 310
        },
        "id": "B7kK418L8aac",
        "outputId": "0f65fedd-3117-4d4c-eeb7-2ad4a45b93f7"
      },
      "source": [
        "df = pd.read_csv(data_file_name, sep='\\t', index_col=\"id\")\n",
        "df = df.reset_index()\n",
        "df.head(5)"
      ],
      "execution_count": 23,
      "outputs": [
        {
          "output_type": "execute_result",
          "data": {
            "text/html": [
              "<div>\n",
              "<style scoped>\n",
              "    .dataframe tbody tr th:only-of-type {\n",
              "        vertical-align: middle;\n",
              "    }\n",
              "\n",
              "    .dataframe tbody tr th {\n",
              "        vertical-align: top;\n",
              "    }\n",
              "\n",
              "    .dataframe thead th {\n",
              "        text-align: right;\n",
              "    }\n",
              "</style>\n",
              "<table border=\"1\" class=\"dataframe\">\n",
              "  <thead>\n",
              "    <tr style=\"text-align: right;\">\n",
              "      <th></th>\n",
              "      <th>id</th>\n",
              "      <th>file_name</th>\n",
              "      <th>title</th>\n",
              "      <th>title_playlist</th>\n",
              "      <th>tune_mode</th>\n",
              "      <th>tune_id</th>\n",
              "      <th>section_name</th>\n",
              "      <th>section_id</th>\n",
              "      <th>chords</th>\n",
              "    </tr>\n",
              "  </thead>\n",
              "  <tbody>\n",
              "    <tr>\n",
              "      <th>0</th>\n",
              "      <td>0</td>\n",
              "      <td>dataset/jazz1350/26-2.xml</td>\n",
              "      <td>26-2</td>\n",
              "      <td>26-2 [jazz1350]</td>\n",
              "      <td>major</td>\n",
              "      <td>0</td>\n",
              "      <td>A</td>\n",
              "      <td>1</td>\n",
              "      <td>C Eb7 G# B7 E G7 Gm C7 F G#7 C# E7 Am D7 Dm G7</td>\n",
              "    </tr>\n",
              "    <tr>\n",
              "      <th>1</th>\n",
              "      <td>1</td>\n",
              "      <td>dataset/jazz1350/26-2.xml</td>\n",
              "      <td>26-2</td>\n",
              "      <td>26-2 [jazz1350]</td>\n",
              "      <td>major</td>\n",
              "      <td>0</td>\n",
              "      <td>A</td>\n",
              "      <td>2</td>\n",
              "      <td>C Eb7 G# B7 E G7 Gm C7 F Eb7 G# B7 E G7 C</td>\n",
              "    </tr>\n",
              "    <tr>\n",
              "      <th>2</th>\n",
              "      <td>2</td>\n",
              "      <td>dataset/jazz1350/26-2.xml</td>\n",
              "      <td>26-2</td>\n",
              "      <td>26-2 [jazz1350]</td>\n",
              "      <td>major</td>\n",
              "      <td>0</td>\n",
              "      <td>B</td>\n",
              "      <td>3</td>\n",
              "      <td>Gm C7 Bm E7 A C7 F Bbm Eb7 G# Dm G7</td>\n",
              "    </tr>\n",
              "    <tr>\n",
              "      <th>3</th>\n",
              "      <td>3</td>\n",
              "      <td>dataset/jazz1350/26-2.xml</td>\n",
              "      <td>26-2</td>\n",
              "      <td>26-2 [jazz1350]</td>\n",
              "      <td>major</td>\n",
              "      <td>0</td>\n",
              "      <td>A</td>\n",
              "      <td>4</td>\n",
              "      <td>C Eb7 G# B7 E G7 Gm C7 F Eb7 G# B7 E G7 C</td>\n",
              "    </tr>\n",
              "    <tr>\n",
              "      <th>4</th>\n",
              "      <td>4</td>\n",
              "      <td>dataset/jazz1350/500 Miles High.xml</td>\n",
              "      <td>500 Miles High</td>\n",
              "      <td>500 Miles High [jazz1350]</td>\n",
              "      <td>minor</td>\n",
              "      <td>1</td>\n",
              "      <td>NaN</td>\n",
              "      <td>0</td>\n",
              "      <td>Am Am Cm Cm Eb Eb Em7b5 A7 Dm Dm Bm7b5 Bm7b5 B...</td>\n",
              "    </tr>\n",
              "  </tbody>\n",
              "</table>\n",
              "</div>"
            ],
            "text/plain": [
              "   id                            file_name           title             title_playlist tune_mode  tune_id section_name  section_id                                             chords\n",
              "0   0            dataset/jazz1350/26-2.xml            26-2            26-2 [jazz1350]     major        0            A           1     C Eb7 G# B7 E G7 Gm C7 F G#7 C# E7 Am D7 Dm G7\n",
              "1   1            dataset/jazz1350/26-2.xml            26-2            26-2 [jazz1350]     major        0            A           2          C Eb7 G# B7 E G7 Gm C7 F Eb7 G# B7 E G7 C\n",
              "2   2            dataset/jazz1350/26-2.xml            26-2            26-2 [jazz1350]     major        0            B           3                Gm C7 Bm E7 A C7 F Bbm Eb7 G# Dm G7\n",
              "3   3            dataset/jazz1350/26-2.xml            26-2            26-2 [jazz1350]     major        0            A           4          C Eb7 G# B7 E G7 Gm C7 F Eb7 G# B7 E G7 C\n",
              "4   4  dataset/jazz1350/500 Miles High.xml  500 Miles High  500 Miles High [jazz1350]     minor        1          NaN           0  Am Am Cm Cm Eb Eb Em7b5 A7 Dm Dm Bm7b5 Bm7b5 B..."
            ]
          },
          "metadata": {},
          "execution_count": 23
        }
      ]
    },
    {
      "cell_type": "markdown",
      "metadata": {
        "id": "OsPcEFbg8gu6"
      },
      "source": [
        "### Meta Data"
      ]
    },
    {
      "cell_type": "code",
      "metadata": {
        "colab": {
          "base_uri": "https://localhost:8080/",
          "height": 206
        },
        "id": "_62YlEVJXOCL",
        "outputId": "edc3c74f-bffc-4b51-90d0-f8d12630e444"
      },
      "source": [
        "titles = df.loc[:, ['id', 'tune_id', 'section_id', 'section_name', 'title', 'title_playlist', 'tune_mode']]\n",
        "titles[:5]"
      ],
      "execution_count": 24,
      "outputs": [
        {
          "output_type": "execute_result",
          "data": {
            "text/html": [
              "<div>\n",
              "<style scoped>\n",
              "    .dataframe tbody tr th:only-of-type {\n",
              "        vertical-align: middle;\n",
              "    }\n",
              "\n",
              "    .dataframe tbody tr th {\n",
              "        vertical-align: top;\n",
              "    }\n",
              "\n",
              "    .dataframe thead th {\n",
              "        text-align: right;\n",
              "    }\n",
              "</style>\n",
              "<table border=\"1\" class=\"dataframe\">\n",
              "  <thead>\n",
              "    <tr style=\"text-align: right;\">\n",
              "      <th></th>\n",
              "      <th>id</th>\n",
              "      <th>tune_id</th>\n",
              "      <th>section_id</th>\n",
              "      <th>section_name</th>\n",
              "      <th>title</th>\n",
              "      <th>title_playlist</th>\n",
              "      <th>tune_mode</th>\n",
              "    </tr>\n",
              "  </thead>\n",
              "  <tbody>\n",
              "    <tr>\n",
              "      <th>0</th>\n",
              "      <td>0</td>\n",
              "      <td>0</td>\n",
              "      <td>1</td>\n",
              "      <td>A</td>\n",
              "      <td>26-2</td>\n",
              "      <td>26-2 [jazz1350]</td>\n",
              "      <td>major</td>\n",
              "    </tr>\n",
              "    <tr>\n",
              "      <th>1</th>\n",
              "      <td>1</td>\n",
              "      <td>0</td>\n",
              "      <td>2</td>\n",
              "      <td>A</td>\n",
              "      <td>26-2</td>\n",
              "      <td>26-2 [jazz1350]</td>\n",
              "      <td>major</td>\n",
              "    </tr>\n",
              "    <tr>\n",
              "      <th>2</th>\n",
              "      <td>2</td>\n",
              "      <td>0</td>\n",
              "      <td>3</td>\n",
              "      <td>B</td>\n",
              "      <td>26-2</td>\n",
              "      <td>26-2 [jazz1350]</td>\n",
              "      <td>major</td>\n",
              "    </tr>\n",
              "    <tr>\n",
              "      <th>3</th>\n",
              "      <td>3</td>\n",
              "      <td>0</td>\n",
              "      <td>4</td>\n",
              "      <td>A</td>\n",
              "      <td>26-2</td>\n",
              "      <td>26-2 [jazz1350]</td>\n",
              "      <td>major</td>\n",
              "    </tr>\n",
              "    <tr>\n",
              "      <th>4</th>\n",
              "      <td>4</td>\n",
              "      <td>1</td>\n",
              "      <td>0</td>\n",
              "      <td>NaN</td>\n",
              "      <td>500 Miles High</td>\n",
              "      <td>500 Miles High [jazz1350]</td>\n",
              "      <td>minor</td>\n",
              "    </tr>\n",
              "  </tbody>\n",
              "</table>\n",
              "</div>"
            ],
            "text/plain": [
              "   id  tune_id  section_id section_name           title             title_playlist tune_mode\n",
              "0   0        0           1            A            26-2            26-2 [jazz1350]     major\n",
              "1   1        0           2            A            26-2            26-2 [jazz1350]     major\n",
              "2   2        0           3            B            26-2            26-2 [jazz1350]     major\n",
              "3   3        0           4            A            26-2            26-2 [jazz1350]     major\n",
              "4   4        1           0          NaN  500 Miles High  500 Miles High [jazz1350]     minor"
            ]
          },
          "metadata": {},
          "execution_count": 24
        }
      ]
    },
    {
      "cell_type": "code",
      "metadata": {
        "id": "0vEOjvwt8jUu"
      },
      "source": [
        "titles_dict = titles.to_dict()\n",
        "\n",
        "sectionid_to_title = titles_dict['title_playlist']\n",
        "sectionid_to_titleid = titles_dict['tune_id']\n"
      ],
      "execution_count": 25,
      "outputs": []
    },
    {
      "cell_type": "code",
      "metadata": {
        "id": "Om7pbfnNGO_I"
      },
      "source": [
        "tunes = df.loc[:, ['tune_id', 'title_playlist']].drop_duplicates()\n",
        "tunes = tunes.set_index('tune_id').to_dict()\n",
        "titleid_to_title = tunes['title_playlist']"
      ],
      "execution_count": 26,
      "outputs": []
    },
    {
      "cell_type": "code",
      "metadata": {
        "colab": {
          "base_uri": "https://localhost:8080/"
        },
        "id": "MdUrEFKj7kVA",
        "outputId": "e1783db2-d571-484a-d958-9a6cadeba965"
      },
      "source": [
        "len(titleid_to_title)"
      ],
      "execution_count": 27,
      "outputs": [
        {
          "output_type": "execute_result",
          "data": {
            "text/plain": [
              "1740"
            ]
          },
          "metadata": {},
          "execution_count": 27
        }
      ]
    },
    {
      "cell_type": "code",
      "metadata": {
        "id": "OvLyxrExxvew"
      },
      "source": [
        "title_to_titleid = {v: k for k, v in titleid_to_title.items()}\n"
      ],
      "execution_count": 28,
      "outputs": []
    },
    {
      "cell_type": "code",
      "metadata": {
        "id": "1H72Y3_d8uNu"
      },
      "source": [
        "titles_rows = titles.to_dict(orient='records')\n",
        "sectionid_to_section = []\n",
        "for i, row in enumerate(titles_rows):\n",
        "  name = f\"{row['title']}, section{row['section_id']} ({row['section_name']})\"\n",
        "  sectionid_to_section.append(name)\n",
        "  "
      ],
      "execution_count": 29,
      "outputs": []
    },
    {
      "cell_type": "code",
      "metadata": {
        "id": "HCeGUk818y8V"
      },
      "source": [
        "title_to_sectionid = {}\n",
        "\n",
        "for row in titles.iterrows():\n",
        "  title = row[1]['title_playlist']\n",
        "  if title not in title_to_sectionid:\n",
        "    title_to_sectionid[title] = [row[1]['id']]\n",
        "  else:\n",
        "    title_to_sectionid[title].append(row[1]['id'])"
      ],
      "execution_count": 30,
      "outputs": []
    },
    {
      "cell_type": "markdown",
      "metadata": {
        "id": "GWXGqImnoHdm"
      },
      "source": [
        "### Create Directories on Colab"
      ]
    },
    {
      "cell_type": "code",
      "metadata": {
        "id": "sDWIxDpIoJv1"
      },
      "source": [
        "!rm -R output\n",
        "!mkdir output"
      ],
      "execution_count": 31,
      "outputs": []
    },
    {
      "cell_type": "markdown",
      "metadata": {
        "id": "LvQ60s_owm82"
      },
      "source": [
        "## Initialization for wandb variables"
      ]
    },
    {
      "cell_type": "code",
      "metadata": {
        "id": "fw7FHHXfwagL"
      },
      "source": [
        "recommender_results_cols = ['reference', 'id', 'method', 'similar', 'score_div_max', 'score']\n",
        "recommender_results = pd.DataFrame(columns=recommender_results_cols)"
      ],
      "execution_count": 32,
      "outputs": []
    },
    {
      "cell_type": "code",
      "metadata": {
        "id": "PfvF20G1JZMa"
      },
      "source": [
        "lsi_config = {\n",
        "    'num_topics': 100, #22, # 100 gives a better value for the contrafacts test\n",
        "}"
      ],
      "execution_count": 33,
      "outputs": []
    },
    {
      "cell_type": "code",
      "metadata": {
        "id": "eW2f6BdAJl01"
      },
      "source": [
        "doc2vec_config = {\n",
        "    'general': {\n",
        "        'chords_preprocessing': chords_preprocessing,\n",
        "        'tag_sections_and_tunes': False,\n",
        "    },\n",
        "    'model': {\n",
        "        'dm': 1,\n",
        "        'vector_size': 100,\n",
        "        'window': 2,\n",
        "        'epochs': 40,\n",
        "        #'workers': 1,\n",
        "        'min_count': 1,\n",
        "        'negative': 10,\n",
        "        'sample': 0.001,\n",
        "        'seed': 42\n",
        "    }\n",
        "}"
      ],
      "execution_count": 34,
      "outputs": []
    },
    {
      "cell_type": "code",
      "metadata": {
        "id": "sxdJ97gdx70_",
        "colab": {
          "base_uri": "https://localhost:8080/",
          "height": 53
        },
        "outputId": "1f04735f-dcee-475e-c36c-a3d31c9e5292"
      },
      "source": [
        "if use_wandb:\n",
        "  wandb.init(\n",
        "        # Set entity to specify your username or team name\n",
        "        # ex: entity=\"carey\",\n",
        "        # Set the project where this run will be logged\n",
        "        project=\"jazztunes\", \n",
        "        \n",
        "        # Track hyperparameters and run metadata\n",
        "        config={\n",
        "            \"input_data\": input_path,\n",
        "            \"ngrams_input\": ngrams_for_input,\n",
        "            \"comparison\": \"sections\",\n",
        "            \"lsi\": lsi_config,\n",
        "            \"doc2vec\": doc2vec_config,\n",
        "            \"remove_repeated_chords\": remove_repetitions,\n",
        "            \"phrases_threshold\": phrases_threshold,\n",
        "        }\n",
        "    )"
      ],
      "execution_count": 35,
      "outputs": [
        {
          "output_type": "stream",
          "name": "stderr",
          "text": [
            "\u001b[34m\u001b[1mwandb\u001b[0m: Currently logged in as: \u001b[33mdoris\u001b[0m (use `wandb login --relogin` to force relogin)\n"
          ]
        },
        {
          "output_type": "display_data",
          "data": {
            "text/html": [
              "\n",
              "                    Syncing run <strong><a href=\"https://wandb.ai/doris/jazztunes/runs/3fiwzhb6\" target=\"_blank\">grateful-sky-40</a></strong> to <a href=\"https://wandb.ai/doris/jazztunes\" target=\"_blank\">Weights & Biases</a> (<a href=\"https://docs.wandb.com/integrations/jupyter.html\" target=\"_blank\">docs</a>).<br/>\n",
              "\n",
              "                "
            ],
            "text/plain": [
              "<IPython.core.display.HTML object>"
            ]
          },
          "metadata": {}
        }
      ]
    },
    {
      "cell_type": "code",
      "metadata": {
        "id": "xHOY4TKYVN-g"
      },
      "source": [
        "if use_wandb:\n",
        "  artifact = wandb.Artifact('input_data', type='dataset')\n",
        "  artifact.add_file('data.csv')\n",
        "  wandb.log_artifact(artifact)"
      ],
      "execution_count": 36,
      "outputs": []
    },
    {
      "cell_type": "markdown",
      "metadata": {
        "id": "wox-dMcz84Bt"
      },
      "source": [
        "## Helpers functions"
      ]
    },
    {
      "cell_type": "code",
      "metadata": {
        "id": "2964REdr80Gd"
      },
      "source": [
        "def ngrams(tokens, n=2, sep='-'):\n",
        "    return [sep.join(ngram) for ngram in zip(*[tokens[i:] for i in range(n)])]"
      ],
      "execution_count": 37,
      "outputs": []
    },
    {
      "cell_type": "code",
      "metadata": {
        "id": "W42rugQPNYVP"
      },
      "source": [
        "def raw_chords_to_df(tunes):\n",
        "  tunes_chords = [item for tune in tunes for item in tune]\n",
        "  counts = Counter(tunes_chords)\n",
        "  df = pd.DataFrame(counts.items(),\n",
        "                    columns=['chord', 'count']).sort_values(by='count', ascending=False)\n",
        "\n",
        "  return df"
      ],
      "execution_count": 38,
      "outputs": []
    },
    {
      "cell_type": "markdown",
      "metadata": {
        "id": "umfsNtAdF0jM"
      },
      "source": [
        "# Data Preparation"
      ]
    },
    {
      "cell_type": "code",
      "metadata": {
        "id": "FeRqVmphCS6m"
      },
      "source": [
        "def remove_chord_repetitions(chords):\n",
        "  previous = ''\n",
        "  chords_norep = []\n",
        "  for c in chords:\n",
        "    if c != previous:\n",
        "      chords_norep.append(c)\n",
        "      previous = c\n",
        "  return chords_norep\n",
        "  "
      ],
      "execution_count": 39,
      "outputs": []
    },
    {
      "cell_type": "code",
      "metadata": {
        "id": "dCLwnqoVGcMw"
      },
      "source": [
        "lines = df.loc[:, 'chords'].tolist()\n",
        "data = [line.split(' ') for line in lines]"
      ],
      "execution_count": 40,
      "outputs": []
    },
    {
      "cell_type": "code",
      "metadata": {
        "colab": {
          "base_uri": "https://localhost:8080/"
        },
        "id": "g7SmApW9F3K6",
        "outputId": "680dd2b8-f019-4eb6-d624-8eba149a1404"
      },
      "source": [
        "processed_corpus = []\n",
        "for line in data:\n",
        "  tune_n = []\n",
        "  if remove_repetitions:\n",
        "    line = remove_chord_repetitions(line)\n",
        "  for n in ngrams_for_input:\n",
        "    tune_n.extend(ngrams(line, n=n))\n",
        "  processed_corpus.append(tune_n)\n",
        "\n",
        "for line in processed_corpus[:10]:\n",
        "  print(line)"
      ],
      "execution_count": 41,
      "outputs": [
        {
          "output_type": "stream",
          "name": "stdout",
          "text": [
            "['C', 'Eb7', 'G#', 'B7', 'E', 'G7', 'Gm', 'C7', 'F', 'G#7', 'C#', 'E7', 'Am', 'D7', 'Dm', 'G7']\n",
            "['C', 'Eb7', 'G#', 'B7', 'E', 'G7', 'Gm', 'C7', 'F', 'Eb7', 'G#', 'B7', 'E', 'G7', 'C']\n",
            "['Gm', 'C7', 'Bm', 'E7', 'A', 'C7', 'F', 'Bbm', 'Eb7', 'G#', 'Dm', 'G7']\n",
            "['C', 'Eb7', 'G#', 'B7', 'E', 'G7', 'Gm', 'C7', 'F', 'Eb7', 'G#', 'B7', 'E', 'G7', 'C']\n",
            "['Am', 'Am', 'Cm', 'Cm', 'Eb', 'Eb', 'Em7b5', 'A7', 'Dm', 'Dm', 'Bm7b5', 'Bm7b5', 'Bbm', 'Bbm', 'Fm', 'Fm', 'E7', 'E7', 'Fm', 'Fm', 'C#', 'C#', 'Fm', 'Fm', 'C#', 'C#']\n",
            "['Am', 'C#', 'Bm7b5', 'E7', 'Am', 'C#', 'Bm7b5', 'E7', 'Cm', 'F7', 'Bb', 'G#m', 'C#7', 'F#m7b5', 'B7', 'E', 'E', 'E7', 'Am', 'C#', 'Bm7b5', 'E7', 'Am', 'C#', 'Bm7b5', 'E7', 'Cm', 'F7', 'Bb', 'G#m', 'C#7', 'F#m7b5', 'B7', 'Em', 'Em']\n",
            "['C', 'Am', 'Dm', 'G7', 'C', 'Am', 'Dm', 'G7', 'C', 'Am', 'Dm', 'G7', 'C', 'G7', 'C']\n",
            "['C', 'Am', 'Dm', 'G7', 'C', 'Am', 'Dm', 'G7', 'C', 'Am', 'Dm', 'G7', 'C', 'G7', 'C']\n",
            "['C7', 'C7', 'F', 'F', 'D7', 'D7', 'G7', 'G7']\n",
            "['C', 'Am', 'Dm', 'G7', 'C', 'Am', 'Dm', 'G7', 'C', 'Am', 'Dm', 'G7', 'C', 'G7', 'C']\n"
          ]
        }
      ]
    },
    {
      "cell_type": "code",
      "metadata": {
        "colab": {
          "base_uri": "https://localhost:8080/"
        },
        "id": "iERQjgxNsV6Q",
        "outputId": "60fac9a6-e14f-4899-f0c8-bc69bc47b6d0"
      },
      "source": [
        "len(processed_corpus)"
      ],
      "execution_count": 42,
      "outputs": [
        {
          "output_type": "execute_result",
          "data": {
            "text/plain": [
              "5199"
            ]
          },
          "metadata": {},
          "execution_count": 42
        }
      ]
    },
    {
      "cell_type": "markdown",
      "metadata": {
        "id": "_mWldntzbgqd"
      },
      "source": [
        "#### Use Phrases"
      ]
    },
    {
      "cell_type": "code",
      "metadata": {
        "colab": {
          "base_uri": "https://localhost:8080/"
        },
        "id": "JV1cJPbWbgXY",
        "outputId": "9a2842ad-a90a-4a63-e271-644bb564c505"
      },
      "source": [
        "def make_bigrams(texts, thres=0.2):\n",
        "  bigram = gensim.models.Phrases(texts, min_count=1, threshold=thres, connector_words=[], scoring='npmi')\n",
        "  bigram_mod = gensim.models.phrases.Phraser(bigram)\n",
        "  return [bigram_mod[doc] for doc in texts]\n",
        "\n",
        "\n",
        "processed_corpus = make_bigrams(data, thres=phrases_threshold)\n",
        "\n",
        "for i in processed_corpus[:10]:\n",
        "  print(i)"
      ],
      "execution_count": 43,
      "outputs": [
        {
          "output_type": "stream",
          "name": "stderr",
          "text": [
            "2021-11-29 18:40:49,343 : INFO : collecting all words and their counts\n",
            "2021-11-29 18:40:49,345 : INFO : PROGRESS: at sentence #0, processed 0 words and 0 word types\n",
            "2021-11-29 18:40:49,441 : INFO : collected 1777 token types (unigram + bigrams) from a corpus of 79498 words and 5199 sentences\n",
            "2021-11-29 18:40:49,443 : INFO : merged Phrases<1777 vocab, min_count=1, threshold=1.0, max_vocab_size=40000000>\n",
            "2021-11-29 18:40:49,446 : INFO : Phrases lifecycle event {'msg': 'built Phrases<1777 vocab, min_count=1, threshold=1.0, max_vocab_size=40000000> in 0.10s', 'datetime': '2021-11-29T18:40:49.446241', 'gensim': '4.1.2', 'python': '3.7.12 (default, Sep 10 2021, 00:21:48) \\n[GCC 7.5.0]', 'platform': 'Linux-5.4.104+-x86_64-with-Ubuntu-18.04-bionic', 'event': 'created'}\n",
            "2021-11-29 18:40:49,449 : INFO : exporting phrases from Phrases<1777 vocab, min_count=1, threshold=1.0, max_vocab_size=40000000>\n",
            "2021-11-29 18:40:49,459 : INFO : FrozenPhrases lifecycle event {'msg': 'exported FrozenPhrases<0 phrases, min_count=1, threshold=1.0> from Phrases<1777 vocab, min_count=1, threshold=1.0, max_vocab_size=40000000> in 0.01s', 'datetime': '2021-11-29T18:40:49.459493', 'gensim': '4.1.2', 'python': '3.7.12 (default, Sep 10 2021, 00:21:48) \\n[GCC 7.5.0]', 'platform': 'Linux-5.4.104+-x86_64-with-Ubuntu-18.04-bionic', 'event': 'created'}\n"
          ]
        },
        {
          "output_type": "stream",
          "name": "stdout",
          "text": [
            "['C', 'Eb7', 'G#', 'B7', 'E', 'G7', 'Gm', 'C7', 'F', 'G#7', 'C#', 'E7', 'Am', 'D7', 'Dm', 'G7']\n",
            "['C', 'Eb7', 'G#', 'B7', 'E', 'G7', 'Gm', 'C7', 'F', 'Eb7', 'G#', 'B7', 'E', 'G7', 'C']\n",
            "['Gm', 'C7', 'Bm', 'E7', 'A', 'C7', 'F', 'Bbm', 'Eb7', 'G#', 'Dm', 'G7']\n",
            "['C', 'Eb7', 'G#', 'B7', 'E', 'G7', 'Gm', 'C7', 'F', 'Eb7', 'G#', 'B7', 'E', 'G7', 'C']\n",
            "['Am', 'Am', 'Cm', 'Cm', 'Eb', 'Eb', 'Em7b5', 'A7', 'Dm', 'Dm', 'Bm7b5', 'Bm7b5', 'Bbm', 'Bbm', 'Fm', 'Fm', 'E7', 'E7', 'Fm', 'Fm', 'C#', 'C#', 'Fm', 'Fm', 'C#', 'C#']\n",
            "['Am', 'C#', 'Bm7b5', 'E7', 'Am', 'C#', 'Bm7b5', 'E7', 'Cm', 'F7', 'Bb', 'G#m', 'C#7', 'F#m7b5', 'B7', 'E', 'E', 'E7', 'Am', 'C#', 'Bm7b5', 'E7', 'Am', 'C#', 'Bm7b5', 'E7', 'Cm', 'F7', 'Bb', 'G#m', 'C#7', 'F#m7b5', 'B7', 'Em', 'Em']\n",
            "['C', 'Am', 'Dm', 'G7', 'C', 'Am', 'Dm', 'G7', 'C', 'Am', 'Dm', 'G7', 'C', 'G7', 'C']\n",
            "['C', 'Am', 'Dm', 'G7', 'C', 'Am', 'Dm', 'G7', 'C', 'Am', 'Dm', 'G7', 'C', 'G7', 'C']\n",
            "['C7', 'C7', 'F', 'F', 'D7', 'D7', 'G7', 'G7']\n",
            "['C', 'Am', 'Dm', 'G7', 'C', 'Am', 'Dm', 'G7', 'C', 'Am', 'Dm', 'G7', 'C', 'G7', 'C']\n"
          ]
        }
      ]
    },
    {
      "cell_type": "code",
      "metadata": {
        "colab": {
          "base_uri": "https://localhost:8080/"
        },
        "id": "E3sOp7OtsZNw",
        "outputId": "d63bf48f-e2a9-4864-84d1-7cf3976fc750"
      },
      "source": [
        "len(processed_corpus)"
      ],
      "execution_count": 44,
      "outputs": [
        {
          "output_type": "execute_result",
          "data": {
            "text/plain": [
              "5199"
            ]
          },
          "metadata": {},
          "execution_count": 44
        }
      ]
    },
    {
      "cell_type": "markdown",
      "metadata": {
        "id": "Sri0K2DhNagp"
      },
      "source": [
        "#### Corpus Overview"
      ]
    },
    {
      "cell_type": "code",
      "metadata": {
        "colab": {
          "base_uri": "https://localhost:8080/"
        },
        "id": "X2ZqA7IF4ufg",
        "outputId": "bdc28971-860c-43b7-c8cf-77fe8ea7b773"
      },
      "source": [
        "tokens = [item for l in processed_corpus for item in l]\n",
        "total_tokens = len(tokens)\n",
        "vocab_size = len(set(tokens))\n",
        "vocab_prop = 100*vocab_size/total_tokens\n",
        "\n",
        "print(f\"Total Number of tokens: {total_tokens}\")\n",
        "print(f\"Size of vocabulary: {vocab_size}\")\n",
        "print(f\"Proportion of vocabulary in corpus: {vocab_prop:.02f}%\")"
      ],
      "execution_count": 45,
      "outputs": [
        {
          "output_type": "stream",
          "name": "stdout",
          "text": [
            "Total Number of tokens: 79498\n",
            "Size of vocabulary: 60\n",
            "Proportion of vocabulary in corpus: 0.08%\n"
          ]
        }
      ]
    },
    {
      "cell_type": "code",
      "metadata": {
        "colab": {
          "base_uri": "https://localhost:8080/",
          "height": 363
        },
        "id": "rULq3jYVNh_x",
        "outputId": "6e9f2bd4-93d7-4a93-bc96-cc13f2681def"
      },
      "source": [
        "df_chords = raw_chords_to_df(processed_corpus)\n",
        "df_chords.head(10)"
      ],
      "execution_count": 46,
      "outputs": [
        {
          "output_type": "execute_result",
          "data": {
            "text/html": [
              "<div>\n",
              "<style scoped>\n",
              "    .dataframe tbody tr th:only-of-type {\n",
              "        vertical-align: middle;\n",
              "    }\n",
              "\n",
              "    .dataframe tbody tr th {\n",
              "        vertical-align: top;\n",
              "    }\n",
              "\n",
              "    .dataframe thead th {\n",
              "        text-align: right;\n",
              "    }\n",
              "</style>\n",
              "<table border=\"1\" class=\"dataframe\">\n",
              "  <thead>\n",
              "    <tr style=\"text-align: right;\">\n",
              "      <th></th>\n",
              "      <th>chord</th>\n",
              "      <th>count</th>\n",
              "    </tr>\n",
              "  </thead>\n",
              "  <tbody>\n",
              "    <tr>\n",
              "      <th>0</th>\n",
              "      <td>C</td>\n",
              "      <td>13657</td>\n",
              "    </tr>\n",
              "    <tr>\n",
              "      <th>5</th>\n",
              "      <td>G7</td>\n",
              "      <td>10705</td>\n",
              "    </tr>\n",
              "    <tr>\n",
              "      <th>14</th>\n",
              "      <td>Dm</td>\n",
              "      <td>7667</td>\n",
              "    </tr>\n",
              "    <tr>\n",
              "      <th>12</th>\n",
              "      <td>Am</td>\n",
              "      <td>5577</td>\n",
              "    </tr>\n",
              "    <tr>\n",
              "      <th>21</th>\n",
              "      <td>A7</td>\n",
              "      <td>4327</td>\n",
              "    </tr>\n",
              "    <tr>\n",
              "      <th>13</th>\n",
              "      <td>D7</td>\n",
              "      <td>3830</td>\n",
              "    </tr>\n",
              "    <tr>\n",
              "      <th>8</th>\n",
              "      <td>F</td>\n",
              "      <td>3591</td>\n",
              "    </tr>\n",
              "    <tr>\n",
              "      <th>7</th>\n",
              "      <td>C7</td>\n",
              "      <td>3347</td>\n",
              "    </tr>\n",
              "    <tr>\n",
              "      <th>11</th>\n",
              "      <td>E7</td>\n",
              "      <td>3102</td>\n",
              "    </tr>\n",
              "    <tr>\n",
              "      <th>29</th>\n",
              "      <td>Em</td>\n",
              "      <td>2620</td>\n",
              "    </tr>\n",
              "  </tbody>\n",
              "</table>\n",
              "</div>"
            ],
            "text/plain": [
              "   chord  count\n",
              "0      C  13657\n",
              "5     G7  10705\n",
              "14    Dm   7667\n",
              "12    Am   5577\n",
              "21    A7   4327\n",
              "13    D7   3830\n",
              "8      F   3591\n",
              "7     C7   3347\n",
              "11    E7   3102\n",
              "29    Em   2620"
            ]
          },
          "metadata": {},
          "execution_count": 46
        }
      ]
    },
    {
      "cell_type": "code",
      "metadata": {
        "colab": {
          "base_uri": "https://localhost:8080/",
          "height": 560
        },
        "id": "G9fknTouNmKm",
        "outputId": "6e48b485-0967-4444-e69c-81bda7820b39"
      },
      "source": [
        "df_chords = pd.DataFrame.from_dict(df_chords)\n",
        "df_chords.sort_values(by=['count'], ascending=False, inplace=True)\n",
        "df_chords_top = df_chords.query('count > 100')\n",
        "\n",
        "fig = px.bar(df_chords_top, x='chord', y='count', log_y=True)\n",
        "fig.update_layout(barmode='stack', xaxis={'categoryorder':'total descending'})\n",
        "fig.show()"
      ],
      "execution_count": 47,
      "outputs": [
        {
          "output_type": "stream",
          "name": "stderr",
          "text": [
            "2021-11-29 18:40:49,717 : INFO : NumExpr defaulting to 2 threads.\n"
          ]
        },
        {
          "output_type": "display_data",
          "data": {
            "text/html": [
              "<html>\n",
              "<head><meta charset=\"utf-8\" /></head>\n",
              "<body>\n",
              "    <div>\n",
              "            <script src=\"https://cdnjs.cloudflare.com/ajax/libs/mathjax/2.7.5/MathJax.js?config=TeX-AMS-MML_SVG\"></script><script type=\"text/javascript\">if (window.MathJax) {MathJax.Hub.Config({SVG: {font: \"STIX-Web\"}});}</script>\n",
              "                <script type=\"text/javascript\">window.PlotlyConfig = {MathJaxConfig: 'local'};</script>\n",
              "        <script src=\"https://cdn.plot.ly/plotly-latest.min.js\"></script>    \n",
              "            <div id=\"102b0791-a420-4d17-875b-793f6e3edd63\" class=\"plotly-graph-div\" style=\"height:525px; width:100%;\"></div>\n",
              "            <script type=\"text/javascript\">\n",
              "                \n",
              "                    window.PLOTLYENV=window.PLOTLYENV || {};\n",
              "                    \n",
              "                if (document.getElementById(\"102b0791-a420-4d17-875b-793f6e3edd63\")) {\n",
              "                    Plotly.newPlot(\n",
              "                        '102b0791-a420-4d17-875b-793f6e3edd63',\n",
              "                        [{\"alignmentgroup\": \"True\", \"hoverlabel\": {\"namelength\": 0}, \"hovertemplate\": \"chord=%{x}<br>count=%{y}\", \"legendgroup\": \"\", \"marker\": {\"color\": \"#636efa\"}, \"name\": \"\", \"offsetgroup\": \"\", \"orientation\": \"v\", \"showlegend\": false, \"textposition\": \"auto\", \"type\": \"bar\", \"x\": [\"C\", \"G7\", \"Dm\", \"Am\", \"A7\", \"D7\", \"F\", \"C7\", \"E7\", \"Em\", \"F7\", \"Bb7\", \"Fm\", \"B7\", \"Gm\", \"G#7\", \"Bm7b5\", \"G\", \"Ebdim\", \"Eb7\", \"Cm\", \"F#m7b5\", \"C#7\", \"Bm\", \"G#\", \"Bb\", \"Em7b5\", \"F#7\", \"E\", \"F#m\", \"Eb\", \"F#dim\", \"C#dim\", \"Ebm\", \"C#\", \"A\", \"Dm7b5\", \"Bbm\", \"D\", \"C#m\", \"Cdim\", \"G#m\", \"B\", \"F#\"], \"xaxis\": \"x\", \"y\": [13657, 10705, 7667, 5577, 4327, 3830, 3591, 3347, 3102, 2620, 1691, 1642, 1557, 1387, 1256, 946, 913, 843, 650, 616, 603, 552, 519, 511, 506, 482, 476, 469, 452, 449, 399, 380, 371, 348, 339, 324, 314, 298, 290, 240, 200, 156, 151, 144], \"yaxis\": \"y\"}],\n",
              "                        {\"barmode\": \"stack\", \"legend\": {\"tracegroupgap\": 0}, \"margin\": {\"t\": 60}, \"template\": {\"data\": {\"bar\": [{\"error_x\": {\"color\": \"#2a3f5f\"}, \"error_y\": {\"color\": \"#2a3f5f\"}, \"marker\": {\"line\": {\"color\": \"#E5ECF6\", \"width\": 0.5}}, \"type\": \"bar\"}], \"barpolar\": [{\"marker\": {\"line\": {\"color\": \"#E5ECF6\", \"width\": 0.5}}, \"type\": \"barpolar\"}], \"carpet\": [{\"aaxis\": {\"endlinecolor\": \"#2a3f5f\", \"gridcolor\": \"white\", \"linecolor\": \"white\", \"minorgridcolor\": \"white\", \"startlinecolor\": \"#2a3f5f\"}, \"baxis\": {\"endlinecolor\": \"#2a3f5f\", \"gridcolor\": \"white\", \"linecolor\": \"white\", \"minorgridcolor\": \"white\", \"startlinecolor\": \"#2a3f5f\"}, \"type\": \"carpet\"}], \"choropleth\": [{\"colorbar\": {\"outlinewidth\": 0, \"ticks\": \"\"}, \"type\": \"choropleth\"}], \"contour\": [{\"colorbar\": {\"outlinewidth\": 0, \"ticks\": \"\"}, \"colorscale\": [[0.0, \"#0d0887\"], [0.1111111111111111, \"#46039f\"], [0.2222222222222222, \"#7201a8\"], [0.3333333333333333, \"#9c179e\"], [0.4444444444444444, \"#bd3786\"], [0.5555555555555556, \"#d8576b\"], [0.6666666666666666, \"#ed7953\"], [0.7777777777777778, \"#fb9f3a\"], [0.8888888888888888, \"#fdca26\"], [1.0, \"#f0f921\"]], \"type\": \"contour\"}], \"contourcarpet\": [{\"colorbar\": {\"outlinewidth\": 0, \"ticks\": \"\"}, \"type\": \"contourcarpet\"}], \"heatmap\": [{\"colorbar\": {\"outlinewidth\": 0, \"ticks\": \"\"}, \"colorscale\": [[0.0, \"#0d0887\"], [0.1111111111111111, \"#46039f\"], [0.2222222222222222, \"#7201a8\"], [0.3333333333333333, \"#9c179e\"], [0.4444444444444444, \"#bd3786\"], [0.5555555555555556, \"#d8576b\"], [0.6666666666666666, \"#ed7953\"], [0.7777777777777778, \"#fb9f3a\"], [0.8888888888888888, \"#fdca26\"], [1.0, \"#f0f921\"]], \"type\": \"heatmap\"}], \"heatmapgl\": [{\"colorbar\": {\"outlinewidth\": 0, \"ticks\": \"\"}, \"colorscale\": [[0.0, \"#0d0887\"], [0.1111111111111111, \"#46039f\"], [0.2222222222222222, \"#7201a8\"], [0.3333333333333333, \"#9c179e\"], [0.4444444444444444, \"#bd3786\"], [0.5555555555555556, \"#d8576b\"], [0.6666666666666666, \"#ed7953\"], [0.7777777777777778, \"#fb9f3a\"], [0.8888888888888888, \"#fdca26\"], [1.0, \"#f0f921\"]], \"type\": \"heatmapgl\"}], \"histogram\": [{\"marker\": {\"colorbar\": {\"outlinewidth\": 0, \"ticks\": \"\"}}, \"type\": \"histogram\"}], \"histogram2d\": [{\"colorbar\": {\"outlinewidth\": 0, \"ticks\": \"\"}, \"colorscale\": [[0.0, \"#0d0887\"], [0.1111111111111111, \"#46039f\"], [0.2222222222222222, \"#7201a8\"], [0.3333333333333333, \"#9c179e\"], [0.4444444444444444, \"#bd3786\"], [0.5555555555555556, \"#d8576b\"], [0.6666666666666666, \"#ed7953\"], [0.7777777777777778, \"#fb9f3a\"], [0.8888888888888888, \"#fdca26\"], [1.0, \"#f0f921\"]], \"type\": \"histogram2d\"}], \"histogram2dcontour\": [{\"colorbar\": {\"outlinewidth\": 0, \"ticks\": \"\"}, \"colorscale\": [[0.0, \"#0d0887\"], [0.1111111111111111, \"#46039f\"], [0.2222222222222222, \"#7201a8\"], [0.3333333333333333, \"#9c179e\"], [0.4444444444444444, \"#bd3786\"], [0.5555555555555556, \"#d8576b\"], [0.6666666666666666, \"#ed7953\"], [0.7777777777777778, \"#fb9f3a\"], [0.8888888888888888, \"#fdca26\"], [1.0, \"#f0f921\"]], \"type\": \"histogram2dcontour\"}], \"mesh3d\": [{\"colorbar\": {\"outlinewidth\": 0, \"ticks\": \"\"}, \"type\": \"mesh3d\"}], \"parcoords\": [{\"line\": {\"colorbar\": {\"outlinewidth\": 0, \"ticks\": \"\"}}, \"type\": \"parcoords\"}], \"pie\": [{\"automargin\": true, \"type\": \"pie\"}], \"scatter\": [{\"marker\": {\"colorbar\": {\"outlinewidth\": 0, \"ticks\": \"\"}}, \"type\": \"scatter\"}], \"scatter3d\": [{\"line\": {\"colorbar\": {\"outlinewidth\": 0, \"ticks\": \"\"}}, \"marker\": {\"colorbar\": {\"outlinewidth\": 0, \"ticks\": \"\"}}, \"type\": \"scatter3d\"}], \"scattercarpet\": [{\"marker\": {\"colorbar\": {\"outlinewidth\": 0, \"ticks\": \"\"}}, \"type\": \"scattercarpet\"}], \"scattergeo\": [{\"marker\": {\"colorbar\": {\"outlinewidth\": 0, \"ticks\": \"\"}}, \"type\": \"scattergeo\"}], \"scattergl\": [{\"marker\": {\"colorbar\": {\"outlinewidth\": 0, \"ticks\": \"\"}}, \"type\": \"scattergl\"}], \"scattermapbox\": [{\"marker\": {\"colorbar\": {\"outlinewidth\": 0, \"ticks\": \"\"}}, \"type\": \"scattermapbox\"}], \"scatterpolar\": [{\"marker\": {\"colorbar\": {\"outlinewidth\": 0, \"ticks\": \"\"}}, \"type\": \"scatterpolar\"}], \"scatterpolargl\": [{\"marker\": {\"colorbar\": {\"outlinewidth\": 0, \"ticks\": \"\"}}, \"type\": \"scatterpolargl\"}], \"scatterternary\": [{\"marker\": {\"colorbar\": {\"outlinewidth\": 0, \"ticks\": \"\"}}, \"type\": \"scatterternary\"}], \"surface\": [{\"colorbar\": {\"outlinewidth\": 0, \"ticks\": \"\"}, \"colorscale\": [[0.0, \"#0d0887\"], [0.1111111111111111, \"#46039f\"], [0.2222222222222222, \"#7201a8\"], [0.3333333333333333, \"#9c179e\"], [0.4444444444444444, \"#bd3786\"], [0.5555555555555556, \"#d8576b\"], [0.6666666666666666, \"#ed7953\"], [0.7777777777777778, \"#fb9f3a\"], [0.8888888888888888, \"#fdca26\"], [1.0, \"#f0f921\"]], \"type\": \"surface\"}], \"table\": [{\"cells\": {\"fill\": {\"color\": \"#EBF0F8\"}, \"line\": {\"color\": \"white\"}}, \"header\": {\"fill\": {\"color\": \"#C8D4E3\"}, \"line\": {\"color\": \"white\"}}, \"type\": \"table\"}]}, \"layout\": {\"annotationdefaults\": {\"arrowcolor\": \"#2a3f5f\", \"arrowhead\": 0, \"arrowwidth\": 1}, \"coloraxis\": {\"colorbar\": {\"outlinewidth\": 0, \"ticks\": \"\"}}, \"colorscale\": {\"diverging\": [[0, \"#8e0152\"], [0.1, \"#c51b7d\"], [0.2, \"#de77ae\"], [0.3, \"#f1b6da\"], [0.4, \"#fde0ef\"], [0.5, \"#f7f7f7\"], [0.6, \"#e6f5d0\"], [0.7, \"#b8e186\"], [0.8, \"#7fbc41\"], [0.9, \"#4d9221\"], [1, \"#276419\"]], \"sequential\": [[0.0, \"#0d0887\"], [0.1111111111111111, \"#46039f\"], [0.2222222222222222, \"#7201a8\"], [0.3333333333333333, \"#9c179e\"], [0.4444444444444444, \"#bd3786\"], [0.5555555555555556, \"#d8576b\"], [0.6666666666666666, \"#ed7953\"], [0.7777777777777778, \"#fb9f3a\"], [0.8888888888888888, \"#fdca26\"], [1.0, \"#f0f921\"]], \"sequentialminus\": [[0.0, \"#0d0887\"], [0.1111111111111111, \"#46039f\"], [0.2222222222222222, \"#7201a8\"], [0.3333333333333333, \"#9c179e\"], [0.4444444444444444, \"#bd3786\"], [0.5555555555555556, \"#d8576b\"], [0.6666666666666666, \"#ed7953\"], [0.7777777777777778, \"#fb9f3a\"], [0.8888888888888888, \"#fdca26\"], [1.0, \"#f0f921\"]]}, \"colorway\": [\"#636efa\", \"#EF553B\", \"#00cc96\", \"#ab63fa\", \"#FFA15A\", \"#19d3f3\", \"#FF6692\", \"#B6E880\", \"#FF97FF\", \"#FECB52\"], \"font\": {\"color\": \"#2a3f5f\"}, \"geo\": {\"bgcolor\": \"white\", \"lakecolor\": \"white\", \"landcolor\": \"#E5ECF6\", \"showlakes\": true, \"showland\": true, \"subunitcolor\": \"white\"}, \"hoverlabel\": {\"align\": \"left\"}, \"hovermode\": \"closest\", \"mapbox\": {\"style\": \"light\"}, \"paper_bgcolor\": \"white\", \"plot_bgcolor\": \"#E5ECF6\", \"polar\": {\"angularaxis\": {\"gridcolor\": \"white\", \"linecolor\": \"white\", \"ticks\": \"\"}, \"bgcolor\": \"#E5ECF6\", \"radialaxis\": {\"gridcolor\": \"white\", \"linecolor\": \"white\", \"ticks\": \"\"}}, \"scene\": {\"xaxis\": {\"backgroundcolor\": \"#E5ECF6\", \"gridcolor\": \"white\", \"gridwidth\": 2, \"linecolor\": \"white\", \"showbackground\": true, \"ticks\": \"\", \"zerolinecolor\": \"white\"}, \"yaxis\": {\"backgroundcolor\": \"#E5ECF6\", \"gridcolor\": \"white\", \"gridwidth\": 2, \"linecolor\": \"white\", \"showbackground\": true, \"ticks\": \"\", \"zerolinecolor\": \"white\"}, \"zaxis\": {\"backgroundcolor\": \"#E5ECF6\", \"gridcolor\": \"white\", \"gridwidth\": 2, \"linecolor\": \"white\", \"showbackground\": true, \"ticks\": \"\", \"zerolinecolor\": \"white\"}}, \"shapedefaults\": {\"line\": {\"color\": \"#2a3f5f\"}}, \"ternary\": {\"aaxis\": {\"gridcolor\": \"white\", \"linecolor\": \"white\", \"ticks\": \"\"}, \"baxis\": {\"gridcolor\": \"white\", \"linecolor\": \"white\", \"ticks\": \"\"}, \"bgcolor\": \"#E5ECF6\", \"caxis\": {\"gridcolor\": \"white\", \"linecolor\": \"white\", \"ticks\": \"\"}}, \"title\": {\"x\": 0.05}, \"xaxis\": {\"automargin\": true, \"gridcolor\": \"white\", \"linecolor\": \"white\", \"ticks\": \"\", \"title\": {\"standoff\": 15}, \"zerolinecolor\": \"white\", \"zerolinewidth\": 2}, \"yaxis\": {\"automargin\": true, \"gridcolor\": \"white\", \"linecolor\": \"white\", \"ticks\": \"\", \"title\": {\"standoff\": 15}, \"zerolinecolor\": \"white\", \"zerolinewidth\": 2}}}, \"xaxis\": {\"anchor\": \"y\", \"categoryorder\": \"total descending\", \"domain\": [0.0, 1.0], \"title\": {\"text\": \"chord\"}}, \"yaxis\": {\"anchor\": \"x\", \"domain\": [0.0, 1.0], \"title\": {\"text\": \"count\"}, \"type\": \"log\"}},\n",
              "                        {\"responsive\": true}\n",
              "                    ).then(function(){\n",
              "                            \n",
              "var gd = document.getElementById('102b0791-a420-4d17-875b-793f6e3edd63');\n",
              "var x = new MutationObserver(function (mutations, observer) {{\n",
              "        var display = window.getComputedStyle(gd).display;\n",
              "        if (!display || display === 'none') {{\n",
              "            console.log([gd, 'removed!']);\n",
              "            Plotly.purge(gd);\n",
              "            observer.disconnect();\n",
              "        }}\n",
              "}});\n",
              "\n",
              "// Listen for the removal of the full notebook cells\n",
              "var notebookContainer = gd.closest('#notebook-container');\n",
              "if (notebookContainer) {{\n",
              "    x.observe(notebookContainer, {childList: true});\n",
              "}}\n",
              "\n",
              "// Listen for the clearing of the current output cell\n",
              "var outputEl = gd.closest('.output');\n",
              "if (outputEl) {{\n",
              "    x.observe(outputEl, {childList: true});\n",
              "}}\n",
              "\n",
              "                        })\n",
              "                };\n",
              "                \n",
              "            </script>\n",
              "        </div>\n",
              "</body>\n",
              "</html>"
            ]
          },
          "metadata": {}
        }
      ]
    },
    {
      "cell_type": "markdown",
      "metadata": {
        "id": "cG5dtDpkWwLE"
      },
      "source": [
        "Plot Distribution accoring to Zipf's Law\n",
        "\n",
        "source: https://stats.stackexchange.com/questions/331219/characterizing-fitting-word-count-data-into-zipf-power-law-lognormal"
      ]
    },
    {
      "cell_type": "code",
      "metadata": {
        "id": "tazf9QRST5NP"
      },
      "source": [
        "from collections import Counter\n",
        "\n",
        "counter_of_words = df_chords.set_index('chord').to_dict(orient='dict')\n",
        "counter_of_words = Counter(counter_of_words['count'])\n",
        "\n",
        "word_counts = sorted(counter_of_words.values(), reverse=True)\n",
        "frequency_rank = np.array(list(range(1, len(word_counts) + 1)))"
      ],
      "execution_count": 48,
      "outputs": []
    },
    {
      "cell_type": "code",
      "metadata": {
        "colab": {
          "base_uri": "https://localhost:8080/",
          "height": 223
        },
        "id": "Jc80DSe7QlkV",
        "outputId": "820ea312-3fef-49e4-b199-709d7537583d"
      },
      "source": [
        "plt.figure(figsize=(20, 3))\n",
        "\n",
        "plt.subplot(1, 2, 1)\n",
        "\n",
        "n = 30\n",
        "df_top = df_chords_top.head(n)\n",
        "plt.bar(df_top['chord'], np.log(df_top['count']))\n",
        "plt.xlabel('')\n",
        "plt.ylabel('Absolute Counts (log)')\n",
        "plt.title(f'Top {n} Most Frequent Chords in the Corpus')\n",
        "ax = plt.gca()\n",
        "ax.set_xticklabels(labels=df_chords_top['chord'],rotation=90);\n",
        "\n",
        "plt.subplot(1, 2, 2)\n",
        "\n",
        "plt.scatter(np.log(frequency_rank), np.log(word_counts))\n",
        "plt.xlabel('Frequency Rank of Token (log)')\n",
        "plt.ylabel('Absolute Count of Token (log)')\n",
        "plt.title('Zipf Plot for Chord Frequencies')\n",
        "\n",
        "plt.savefig('plot.png')"
      ],
      "execution_count": 49,
      "outputs": [
        {
          "output_type": "display_data",
          "data": {
            "image/png": "[encoded data removed]",
            "text/plain": [
              "<Figure size 1440x216 with 2 Axes>"
            ]
          },
          "metadata": {
            "needs_background": "light"
          }
        }
      ]
    },
    {
      "cell_type": "code",
      "metadata": {
        "colab": {
          "base_uri": "https://localhost:8080/",
          "height": 205
        },
        "id": "g-hNqtE_sYBE",
        "outputId": "95bc7b47-df82-45b6-efc1-646e128de549"
      },
      "source": [
        "plt.figure(figsize=(22, 3))\n",
        "\n",
        "n = 100\n",
        "\n",
        "df_top = df_chords_top.head(n)\n",
        "plt.bar(df_top['chord'], np.log(df_top['count']))\n",
        "plt.xlabel('')\n",
        "plt.ylabel('Absolute Counts (log)')\n",
        "plt.title(f'Top {n} Most Frequent Chords and n-gram Chords in the Corpus')\n",
        "ax = plt.gca()\n",
        "ax.set_xticklabels(labels=df_chords_top['chord'],rotation=90);"
      ],
      "execution_count": 50,
      "outputs": [
        {
          "output_type": "display_data",
          "data": {
            "image/png": "[encoded data removed]",
            "text/plain": [
              "<Figure size 1584x216 with 1 Axes>"
            ]
          },
          "metadata": {
            "needs_background": "light"
          }
        }
      ]
    },
    {
      "cell_type": "code",
      "metadata": {
        "id": "a1IvM4wh7zOv"
      },
      "source": [
        "if use_wandb:\n",
        "  wandb.log(\n",
        "      {\"corpus\": {\n",
        "              \"total_tokens\": total_tokens,\n",
        "              \"vocab_size\": vocab_size,\n",
        "              \"vocab_proportion_in_corpus\": vocab_prop,\n",
        "              \"zipf_plot\": wandb.Image('plot.png'),\n",
        "              }\n",
        "      }\n",
        "  )"
      ],
      "execution_count": 51,
      "outputs": []
    },
    {
      "cell_type": "markdown",
      "metadata": {
        "id": "LeRGFeTn89Uc"
      },
      "source": [
        "# TF-IDF"
      ]
    },
    {
      "cell_type": "code",
      "metadata": {
        "colab": {
          "base_uri": "https://localhost:8080/"
        },
        "id": "pBdUdBNr9Gmu",
        "outputId": "46f28d59-44f3-4439-b459-979352b48d44"
      },
      "source": [
        "dictionary = corpora.Dictionary(processed_corpus)\n",
        "bow_corpus = [dictionary.doc2bow(text) for text in processed_corpus]\n",
        "tfidf = TfidfModel(bow_corpus)"
      ],
      "execution_count": 52,
      "outputs": [
        {
          "output_type": "stream",
          "name": "stderr",
          "text": [
            "2021-11-29 18:40:52,028 : INFO : adding document #0 to Dictionary(0 unique tokens: [])\n",
            "2021-11-29 18:40:52,150 : INFO : built Dictionary(60 unique tokens: ['Am', 'B7', 'C', 'C#', 'C7']...) from 5199 documents (total 79498 corpus positions)\n",
            "2021-11-29 18:40:52,152 : INFO : Dictionary lifecycle event {'msg': \"built Dictionary(60 unique tokens: ['Am', 'B7', 'C', 'C#', 'C7']...) from 5199 documents (total 79498 corpus positions)\", 'datetime': '2021-11-29T18:40:52.152400', 'gensim': '4.1.2', 'python': '3.7.12 (default, Sep 10 2021, 00:21:48) \\n[GCC 7.5.0]', 'platform': 'Linux-5.4.104+-x86_64-with-Ubuntu-18.04-bionic', 'event': 'created'}\n",
            "2021-11-29 18:40:52,214 : INFO : collecting document frequencies\n",
            "2021-11-29 18:40:52,216 : INFO : PROGRESS: processing document #0\n",
            "2021-11-29 18:40:52,234 : INFO : TfidfModel lifecycle event {'msg': 'calculated IDF weights for 5199 documents and 60 features (39829 matrix non-zeros)', 'datetime': '2021-11-29T18:40:52.234207', 'gensim': '4.1.2', 'python': '3.7.12 (default, Sep 10 2021, 00:21:48) \\n[GCC 7.5.0]', 'platform': 'Linux-5.4.104+-x86_64-with-Ubuntu-18.04-bionic', 'event': 'initialize'}\n"
          ]
        }
      ]
    },
    {
      "cell_type": "code",
      "metadata": {
        "id": "9NK-cuax9Kqk"
      },
      "source": [
        "# dictionary.token2id"
      ],
      "execution_count": 53,
      "outputs": []
    },
    {
      "cell_type": "code",
      "metadata": {
        "id": "til5xlce_y1m"
      },
      "source": [
        "!rm -R index\n",
        "!mkdir index"
      ],
      "execution_count": 54,
      "outputs": []
    },
    {
      "cell_type": "code",
      "metadata": {
        "colab": {
          "base_uri": "https://localhost:8080/"
        },
        "id": "tn_fz2M090IM",
        "outputId": "6f8389c4-434b-46cc-bb25-afc6d1cc9c1b"
      },
      "source": [
        "# Note: SparseMatrixSimilarity crashes due to lacking memory\n",
        "#from gensim.test.utils import get_tmpfile\n",
        "#index_tmpfile = get_tmpfile(\"index\")\n",
        "#index_tfidf = similarities.Similarity('/content/index/index_tfidf', bow_corpus, num_features=len(dictionary))\n",
        "\n",
        "index_tfidf = similarities.SparseMatrixSimilarity(tfidf[bow_corpus], num_features = len(dictionary))"
      ],
      "execution_count": 55,
      "outputs": [
        {
          "output_type": "stream",
          "name": "stderr",
          "text": [
            "2021-11-29 18:40:52,528 : INFO : creating sparse index\n",
            "2021-11-29 18:40:52,529 : INFO : creating sparse matrix from corpus\n",
            "2021-11-29 18:40:52,531 : INFO : PROGRESS: at document #0\n",
            "2021-11-29 18:40:52,903 : INFO : created <5199x60 sparse matrix of type '<class 'numpy.float32'>'\n",
            "\twith 39829 stored elements in Compressed Sparse Row format>\n"
          ]
        }
      ]
    },
    {
      "cell_type": "code",
      "metadata": {
        "colab": {
          "base_uri": "https://localhost:8080/"
        },
        "id": "VRSUXNPTewqv",
        "outputId": "8996e5f6-b04b-4cd3-c7a7-d0fa87617ccf"
      },
      "source": [
        "tfidf.save('/content/index/tfidf.model')  # save model\n",
        "index_tfidf.save('/content/index/tfidf.index') #save index"
      ],
      "execution_count": 56,
      "outputs": [
        {
          "output_type": "stream",
          "name": "stderr",
          "text": [
            "2021-11-29 18:40:52,925 : INFO : TfidfModel lifecycle event {'fname_or_handle': '/content/index/tfidf.model', 'separately': 'None', 'sep_limit': 10485760, 'ignore': frozenset(), 'datetime': '2021-11-29T18:40:52.925208', 'gensim': '4.1.2', 'python': '3.7.12 (default, Sep 10 2021, 00:21:48) \\n[GCC 7.5.0]', 'platform': 'Linux-5.4.104+-x86_64-with-Ubuntu-18.04-bionic', 'event': 'saving'}\n",
            "2021-11-29 18:40:52,930 : INFO : saved /content/index/tfidf.model\n",
            "2021-11-29 18:40:52,933 : INFO : SparseMatrixSimilarity lifecycle event {'fname_or_handle': '/content/index/tfidf.index', 'separately': 'None', 'sep_limit': 10485760, 'ignore': frozenset(), 'datetime': '2021-11-29T18:40:52.933855', 'gensim': '4.1.2', 'python': '3.7.12 (default, Sep 10 2021, 00:21:48) \\n[GCC 7.5.0]', 'platform': 'Linux-5.4.104+-x86_64-with-Ubuntu-18.04-bionic', 'event': 'saving'}\n",
            "2021-11-29 18:40:52,937 : INFO : saved /content/index/tfidf.index\n"
          ]
        }
      ]
    },
    {
      "cell_type": "markdown",
      "metadata": {
        "id": "ZLK0coIu9Tv5"
      },
      "source": [
        "## Tests"
      ]
    },
    {
      "cell_type": "code",
      "metadata": {
        "id": "Fzrj1qxwDpJT"
      },
      "source": [
        "def get_sim_scores(tunes, index, model):\n",
        "\n",
        "    df_sim = pd.DataFrame(columns=['reference_title',\n",
        "                                   'reference_titleid',\n",
        "                                   'similar_title',\n",
        "                                   'similar_titleid',\n",
        "                                   'ref_section', \n",
        "                                   'similar_section', \n",
        "                                   'score', \n",
        "                                  ])\n",
        "\n",
        "    for tune in tunes:\n",
        "      print()\n",
        "      print(\"-\"*50)\n",
        "      for s1 in title_to_sectionid[tune]:\n",
        "      \n",
        "          query = processed_corpus[s1]\n",
        "          query_bow = dictionary.doc2bow(query)\n",
        "\n",
        "          # perform a similarity query against the corpus\n",
        "          similarities = index[model[query_bow]]\n",
        "          sims = sorted(enumerate(similarities), key=lambda item: -item[1])\n",
        "          \n",
        "          print(s1, sectionid_to_section[s1])\n",
        "          n = 0\n",
        "          for s2, s2_score in sims:\n",
        "            \n",
        "            # store the top N best results\n",
        "            if n > 30:\n",
        "                break\n",
        "            # don't count self-similarity between sections of the same tune\n",
        "            if s2 not in title_to_sectionid[tune]:\n",
        "                n += 1\n",
        "            \n",
        "                # print(f\"\\t{s2_score:.3f} {sectionid_to_section[s2]}\")\n",
        "\n",
        "                df_sim.loc[len(df_sim)] = [tune,\n",
        "                                           title_to_titleid[tune],\n",
        "                                           sectionid_to_title[s2],\n",
        "                                           sectionid_to_titleid[s2],\n",
        "                                           sectionid_to_section[s1], \n",
        "                                           sectionid_to_section[s2], \n",
        "                                           s2_score, \n",
        "                                           ]\n",
        "    return df_sim"
      ],
      "execution_count": 57,
      "outputs": []
    },
    {
      "cell_type": "code",
      "metadata": {
        "id": "OZ0YfkIO9g5V"
      },
      "source": [
        "def recommend_tune(df, tune_name):\n",
        "\n",
        "  threshold = 0.5 # arbitrary value, selected based on distribution of max scores\n",
        "\n",
        "  df_tune = df.query(f'reference_title == \"{tune_name}\"')\n",
        "  ff = df_tune.iloc[:]\n",
        "\n",
        "  # get the maximum similarity score for each section and store in new column\n",
        "  ff['max'] = ff.groupby('ref_section')['score'].transform('max')\n",
        "\n",
        "  # consider only results for scores above threshold\n",
        "  ff = ff.loc[(ff['max'] > threshold)]\n",
        "\n",
        "  # scale the score with the maxmum value of each section\n",
        "  ff['score_div_max'] = ff['score'] / ff['max']\n",
        "\n",
        "  # for each similar title, aggregate all of its sections using the median value\n",
        "  result = ff.groupby('similar_title').median().sort_values('score_div_max', ascending=False)\n",
        "    \n",
        "  # if multiple rows from the same similar tune, keep only the similar_title with the highest score_div_max\n",
        "  result = result.groupby('similar_title').max('score_div_max').sort_values('score_div_max', ascending=False)\n",
        "\n",
        "  # add the name of the reference tune\n",
        "  result['reference'] = tune_name\n",
        "  result['reference_titleid'] = title_to_titleid[tune_name]\n",
        "\n",
        "  result = result.reset_index()\n",
        "  result = result.loc[:, ['reference', 'reference_titleid', 'similar_title', 'score', 'max', 'score_div_max']]\n",
        "  result['similar_titleid'] = result['similar_title'].apply(lambda x: title_to_titleid[x])\n",
        "  result = result.reset_index()\n",
        "  return result, ff"
      ],
      "execution_count": 58,
      "outputs": []
    },
    {
      "cell_type": "markdown",
      "metadata": {
        "id": "S4RKQCihX02Q"
      },
      "source": [
        "### Single Tunes"
      ]
    },
    {
      "cell_type": "code",
      "metadata": {
        "colab": {
          "base_uri": "https://localhost:8080/"
        },
        "id": "5Wz4ZQk_EKZy",
        "outputId": "1dbafcb7-6b50-413d-f73e-0f7de5252718"
      },
      "source": [
        "%%time\n",
        "df_sim = get_sim_scores(tunes_eval_list, index_tfidf, tfidf)\n",
        "\n",
        "# save a copy of the results; all results will be concatenated at the end\n",
        "df_tfidf = df_sim[:]"
      ],
      "execution_count": 59,
      "outputs": [
        {
          "output_type": "stream",
          "name": "stdout",
          "text": [
            "\n",
            "--------------------------------------------------\n",
            "188 All God's Chillun Got Rhythm, section1 (A)\n",
            "189 All God's Chillun Got Rhythm, section2 (B)\n",
            "190 All God's Chillun Got Rhythm, section3 (A)\n",
            "191 All God's Chillun Got Rhythm, section4 (C)\n",
            "\n",
            "--------------------------------------------------\n",
            "198 All Of Me, section1 (A)\n",
            "199 All Of Me, section2 (B)\n",
            "200 All Of Me, section3 (A)\n",
            "201 All Of Me, section4 (C)\n",
            "\n",
            "--------------------------------------------------\n",
            "496 Blue Moon, section1 (A)\n",
            "497 Blue Moon, section2 (A)\n",
            "498 Blue Moon, section3 (B)\n",
            "499 Blue Moon, section4 (A)\n",
            "\n",
            "--------------------------------------------------\n",
            "653 Bye Bye Blackbird, section1 (A)\n",
            "654 Bye Bye Blackbird, section2 (B)\n",
            "\n",
            "--------------------------------------------------\n",
            "1220 Exactly Like You, section1 (A)\n",
            "1221 Exactly Like You, section2 (A)\n",
            "1222 Exactly Like You, section3 (B)\n",
            "1223 Exactly Like You, section4 (A)\n",
            "\n",
            "--------------------------------------------------\n",
            "1538 Honeysuckle Rose, section1 (A)\n",
            "1539 Honeysuckle Rose, section2 (A)\n",
            "1540 Honeysuckle Rose, section3 (B)\n",
            "1541 Honeysuckle Rose, section4 (A)\n",
            "\n",
            "--------------------------------------------------\n",
            "1647 I Got Rhythm, section1 (A)\n",
            "1648 I Got Rhythm, section2 (A)\n",
            "1649 I Got Rhythm, section3 (B)\n",
            "1650 I Got Rhythm, section4 (A)\n",
            "\n",
            "--------------------------------------------------\n",
            "2670 Misty, section1 (A)\n",
            "2671 Misty, section2 (A)\n",
            "2672 Misty, section3 (B)\n",
            "2673 Misty, section4 (A)\n",
            "\n",
            "--------------------------------------------------\n",
            "2857 Naima, section1 (A)\n",
            "2858 Naima, section2 (A)\n",
            "2859 Naima, section3 (B)\n",
            "2860 Naima, section4 (A)\n",
            "\n",
            "--------------------------------------------------\n",
            "4920 Old Fashioned Love, section0 (nan)\n",
            "\n",
            "--------------------------------------------------\n",
            "3006 On The Sunny Side Of The Street, section1 (A)\n",
            "3007 On The Sunny Side Of The Street, section2 (A)\n",
            "3008 On The Sunny Side Of The Street, section3 (B)\n",
            "3009 On The Sunny Side Of The Street, section4 (A)\n",
            "\n",
            "--------------------------------------------------\n",
            "3746 Sweet Sue, Just You, section1 (A)\n",
            "3747 Sweet Sue, Just You, section2 (A)\n",
            "3748 Sweet Sue, Just You, section3 (B)\n",
            "3749 Sweet Sue, Just You, section4 (A)\n",
            "\n",
            "--------------------------------------------------\n",
            "3860 These Foolish Things, section1 (A)\n",
            "3861 These Foolish Things, section2 (A)\n",
            "3862 These Foolish Things, section3 (B)\n",
            "3863 These Foolish Things, section4 (A)\n",
            "CPU times: user 8.83 s, sys: 210 ms, total: 9.03 s\n",
            "Wall time: 8.91 s\n"
          ]
        }
      ]
    },
    {
      "cell_type": "code",
      "metadata": {
        "colab": {
          "base_uri": "https://localhost:8080/",
          "height": 542
        },
        "id": "yzRuIKVh9c8g",
        "outputId": "bf4b3d2c-e20b-4a64-cc9d-e1193a98aa14"
      },
      "source": [
        "import plotly.express as px\n",
        "fig = px.histogram(df_sim, x=\"score\", nbins=50, title='Scores for TF-IDF')\n",
        "fig.show()"
      ],
      "execution_count": 60,
      "outputs": [
        {
          "output_type": "display_data",
          "data": {
            "text/html": [
              "<html>\n",
              "<head><meta charset=\"utf-8\" /></head>\n",
              "<body>\n",
              "    <div>\n",
              "            <script src=\"https://cdnjs.cloudflare.com/ajax/libs/mathjax/2.7.5/MathJax.js?config=TeX-AMS-MML_SVG\"></script><script type=\"text/javascript\">if (window.MathJax) {MathJax.Hub.Config({SVG: {font: \"STIX-Web\"}});}</script>\n",
              "                <script type=\"text/javascript\">window.PlotlyConfig = {MathJaxConfig: 'local'};</script>\n",
              "        <script src=\"https://cdn.plot.ly/plotly-latest.min.js\"></script>    \n",
              "            <div id=\"a4ba4857-9dfa-4921-9c81-b5d96979f34c\" class=\"plotly-graph-div\" style=\"height:525px; width:100%;\"></div>\n",
              "            <script type=\"text/javascript\">\n",
              "                \n",
              "                    window.PLOTLYENV=window.PLOTLYENV || {};\n",
              "                    \n",
              "                if (document.getElementById(\"a4ba4857-9dfa-4921-9c81-b5d96979f34c\")) {\n",
              "                    Plotly.newPlot(\n",
              "                        'a4ba4857-9dfa-4921-9c81-b5d96979f34c',\n",
              "                        [{\"alignmentgroup\": \"True\", \"bingroup\": \"x\", \"hoverlabel\": {\"namelength\": 0}, \"hovertemplate\": \"score=%{x}<br>count=%{y}\", \"legendgroup\": \"\", \"marker\": {\"color\": \"#636efa\"}, \"name\": \"\", \"nbinsx\": 50, \"offsetgroup\": \"\", \"orientation\": \"v\", \"showlegend\": false, \"type\": \"histogram\", \"x\": [0.9389288425445557, 0.9193913340568542, 0.9193913340568542, 0.8935267329216003, 0.8923375606536865, 0.8922412395477295, 0.8863085508346558, 0.8863085508346558, 0.8840712308883667, 0.8722293376922607, 0.8660120368003845, 0.8619798421859741, 0.8613621592521667, 0.8444199562072754, 0.8444199562072754, 0.8420655131340027, 0.8309074640274048, 0.8248875141143799, 0.8232481479644775, 0.8210103511810303, 0.8195939064025879, 0.8157896995544434, 0.8157896995544434, 0.8151682019233704, 0.8144378662109375, 0.814361572265625, 0.8129816055297852, 0.8109524250030518, 0.8060801029205322, 0.8055856227874756, 0.8046009540557861, 0.9369529485702515, 0.9204578399658203, 0.910072922706604, 0.901942253112793, 0.8984192609786987, 0.8884639739990234, 0.8824676275253296, 0.881710410118103, 0.8736569881439209, 0.8724894523620605, 0.865754246711731, 0.865754246711731, 0.86487877368927, 0.8637539148330688, 0.8592413663864136, 0.8530347943305969, 0.8525325059890747, 0.852120041847229, 0.8391616344451904, 0.8371703624725342, 0.8367828726768494, 0.8364131450653076, 0.8364131450653076, 0.8311586380004883, 0.8307919502258301, 0.8304799795150757, 0.8296189308166504, 0.8296189308166504, 0.8278864622116089, 0.8276194334030151, 0.824531614780426, 0.9389288425445557, 0.9193913340568542, 0.9193913340568542, 0.8935267329216003, 0.8923375606536865, 0.8922412395477295, 0.8863085508346558, 0.8863085508346558, 0.8840712308883667, 0.8722293376922607, 0.8660120368003845, 0.8619798421859741, 0.8613621592521667, 0.8444199562072754, 0.8444199562072754, 0.8420655131340027, 0.8309074640274048, 0.8248875141143799, 0.8232481479644775, 0.8210103511810303, 0.8195939064025879, 0.8157896995544434, 0.8157896995544434, 0.8151682019233704, 0.8144378662109375, 0.814361572265625, 0.8129816055297852, 0.8109524250030518, 0.8060801029205322, 0.8055856227874756, 0.8046009540557861, 0.9107881188392639, 0.8957000970840454, 0.8920494318008423, 0.8905511498451233, 0.8823516368865967, 0.8769999146461487, 0.8754214644432068, 0.8749116659164429, 0.8743116855621338, 0.8737426400184631, 0.8692609071731567, 0.8607369661331177, 0.853943943977356, 0.8452287912368774, 0.8437578082084656, 0.8437578082084656, 0.8429073095321655, 0.8424056172370911, 0.8407461643218994, 0.835099995136261, 0.8347887992858887, 0.8272225856781006, 0.8267780542373657, 0.8160133361816406, 0.8152760863304138, 0.8152025938034058, 0.8150795102119446, 0.8108420968055725, 0.8105735778808594, 0.8105735778808594, 0.8087535500526428, 0.923003077507019, 0.9206283092498779, 0.9206283092498779, 0.9161654114723206, 0.8824751973152161, 0.8708128929138184, 0.8687506318092346, 0.8645131587982178, 0.8637533783912659, 0.8635654449462891, 0.8474599123001099, 0.8474599123001099, 0.8314974308013916, 0.830729603767395, 0.830729603767395, 0.830729603767395, 0.830729603767395, 0.811255931854248, 0.79578697681427, 0.79578697681427, 0.79578697681427, 0.7907029390335083, 0.7898476719856262, 0.7890793085098267, 0.7888698577880859, 0.7864710688591003, 0.7864710688591003, 0.7864469885826111, 0.7847486734390259, 0.7846056818962097, 0.7844882011413574, 0.9902507662773132, 0.9902507662773132, 0.9902507662773132, 0.972602903842926, 0.9468778967857361, 0.9345355033874512, 0.9332289099693298, 0.9332289099693298, 0.9331232309341431, 0.9331232309341431, 0.9310837984085083, 0.9266148805618286, 0.9266148805618286, 0.9259992241859436, 0.9257302284240723, 0.9217087030410767, 0.9161558151245117, 0.9122511744499207, 0.911929726600647, 0.9090115427970886, 0.8838638663291931, 0.8718505501747131, 0.8678645491600037, 0.8660906553268433, 0.8653773069381714, 0.8643344640731812, 0.862917423248291, 0.8622996211051941, 0.859926164150238, 0.8547665476799011, 0.8543287515640259, 0.923003077507019, 0.9206283092498779, 0.9206283092498779, 0.9161654114723206, 0.8824751973152161, 0.8708128929138184, 0.8687506318092346, 0.8645131587982178, 0.8637533783912659, 0.8635654449462891, 0.8474599123001099, 0.8474599123001099, 0.8314974308013916, 0.830729603767395, 0.830729603767395, 0.830729603767395, 0.830729603767395, 0.811255931854248, 0.79578697681427, 0.79578697681427, 0.79578697681427, 0.7907029390335083, 0.7898476719856262, 0.7890793085098267, 0.7888698577880859, 0.7864710688591003, 0.7864710688591003, 0.7864469885826111, 0.7847486734390259, 0.7846056818962097, 0.7844882011413574, 0.9496104717254639, 0.9331880807876587, 0.9204071164131165, 0.9021921753883362, 0.8660845756530762, 0.8641168475151062, 0.8629629611968994, 0.8629629611968994, 0.860363245010376, 0.855502724647522, 0.855502724647522, 0.8529849052429199, 0.8515450954437256, 0.839232325553894, 0.8362489342689514, 0.8318008184432983, 0.827117919921875, 0.8240329623222351, 0.8227421045303345, 0.8221594095230103, 0.8175148963928223, 0.8175095319747925, 0.8159887194633484, 0.8159887194633484, 0.815131664276123, 0.8126683831214905, 0.8123500943183899, 0.8114467859268188, 0.8099082708358765, 0.8088364005088806, 0.8074415922164917, 0.8952306509017944, 0.8388327360153198, 0.8327142596244812, 0.8311920762062073, 0.8311920762062073, 0.8022333383560181, 0.7821071743965149, 0.7821071743965149, 0.7798540592193604, 0.7772156596183777, 0.7768488526344299, 0.7750741839408875, 0.7690496444702148, 0.7690496444702148, 0.7671480774879456, 0.7625240683555603, 0.7625240683555603, 0.7621853947639465, 0.7616255879402161, 0.7616255879402161, 0.7612747550010681, 0.7574393153190613, 0.7574393153190613, 0.7574393153190613, 0.7559986114501953, 0.753815233707428, 0.7502663731575012, 0.7452138662338257, 0.7390345931053162, 0.7379598021507263, 0.7379598021507263, 0.8071773052215576, 0.7938364744186401, 0.7915911674499512, 0.7895113825798035, 0.7887749671936035, 0.7862381935119629, 0.7809320688247681, 0.7733560800552368, 0.7644786834716797, 0.7628850936889648, 0.7551829218864441, 0.7551829218864441, 0.7439917325973511, 0.7439917325973511, 0.7401576042175293, 0.7401576042175293, 0.7374235391616821, 0.7374235391616821, 0.7343544363975525, 0.733269214630127, 0.733269214630127, 0.7262483835220337, 0.7248623967170715, 0.7160907983779907, 0.713414192199707, 0.711323082447052, 0.7107925415039062, 0.7075045108795166, 0.7071965336799622, 0.7067092061042786, 0.7060206532478333, 0.8309451937675476, 0.7906724810600281, 0.7265657186508179, 0.7248939275741577, 0.7232871055603027, 0.7129209041595459, 0.7118614912033081, 0.7046127915382385, 0.6999264359474182, 0.698163628578186, 0.6901605129241943, 0.6742767095565796, 0.6577891111373901, 0.6553100943565369, 0.6533638834953308, 0.6531248092651367, 0.6483612060546875, 0.6450316905975342, 0.6450316905975342, 0.6450316905975342, 0.6441358327865601, 0.6428776979446411, 0.6354763507843018, 0.6351505517959595, 0.6312569379806519, 0.6312569379806519, 0.630104660987854, 0.6287585496902466, 0.6285502910614014, 0.6204251646995544, 0.6190782785415649, 0.8952306509017944, 0.8388327360153198, 0.8327142596244812, 0.8311920762062073, 0.8311920762062073, 0.8022333383560181, 0.7821071743965149, 0.7821071743965149, 0.7798540592193604, 0.7772156596183777, 0.7768488526344299, 0.7750741839408875, 0.7690496444702148, 0.7690496444702148, 0.7671480774879456, 0.7625240683555603, 0.7625240683555603, 0.7621853947639465, 0.7616255879402161, 0.7616255879402161, 0.7612747550010681, 0.7574393153190613, 0.7574393153190613, 0.7574393153190613, 0.7559986114501953, 0.753815233707428, 0.7502663731575012, 0.7452138662338257, 0.7390345931053162, 0.7379598021507263, 0.7379598021507263, 0.9436072111129761, 0.9274576902389526, 0.9074629545211792, 0.9012517333030701, 0.8454975485801697, 0.8431976437568665, 0.8423662781715393, 0.8421928882598877, 0.8413134813308716, 0.8281297087669373, 0.8277487754821777, 0.8273165822029114, 0.8235656023025513, 0.8235656023025513, 0.8229734897613525, 0.8151785135269165, 0.8094509840011597, 0.8089718222618103, 0.8088744878768921, 0.8066192865371704, 0.8066192865371704, 0.8044567704200745, 0.8014240860939026, 0.801237940788269, 0.801237940788269, 0.7993110418319702, 0.7939916849136353, 0.7934934496879578, 0.7932642698287964, 0.7895976305007935, 0.7889988422393799, 0.9054163098335266, 0.9054163098335266, 0.8178925514221191, 0.8150436878204346, 0.8005569577217102, 0.7883461117744446, 0.7657420039176941, 0.7644786834716797, 0.7642569541931152, 0.7478528618812561, 0.7371220588684082, 0.7356581687927246, 0.7333565950393677, 0.7324306964874268, 0.7310323715209961, 0.7277824878692627, 0.7180198431015015, 0.7180198431015015, 0.7142568826675415, 0.7102870941162109, 0.7033757567405701, 0.6999608278274536, 0.6999608278274536, 0.6992120742797852, 0.6967473030090332, 0.6950272917747498, 0.6921858191490173, 0.6888900995254517, 0.6883664131164551, 0.6883664131164551, 0.6880775690078735, 0.9864355325698853, 0.9864355325698853, 0.9864355325698853, 0.9826947450637817, 0.9826947450637817, 0.9826947450637817, 0.9826947450637817, 0.9782356023788452, 0.9782356023788452, 0.9757435321807861, 0.9757435321807861, 0.9757435321807861, 0.9689328074455261, 0.9402492046356201, 0.9341841340065002, 0.9341841340065002, 0.9341841340065002, 0.9273935556411743, 0.9269580245018005, 0.9218999743461609, 0.9094784259796143, 0.9047620892524719, 0.903924822807312, 0.9021938443183899, 0.8943239450454712, 0.8904122114181519, 0.8887068629264832, 0.8784609436988831, 0.8784609436988831, 0.8775482773780823, 0.8750596046447754, 1.0, 1.0, 0.9213678240776062, 0.9053189158439636, 0.8939307928085327, 0.8939307928085327, 0.8939307928085327, 0.8939307928085327, 0.8921450972557068, 0.8897114992141724, 0.8893092274665833, 0.8893092274665833, 0.8893092274665833, 0.8779995441436768, 0.8778177499771118, 0.8778177499771118, 0.8778177499771118, 0.8735806345939636, 0.8698291182518005, 0.869019627571106, 0.8647025227546692, 0.8640018701553345, 0.8514965772628784, 0.8497138023376465, 0.8471620678901672, 0.8399510979652405, 0.8378790616989136, 0.8378790616989136, 0.8368207812309265, 0.8322938084602356, 0.8302793502807617, 0.9041122198104858, 0.8963325619697571, 0.8682952523231506, 0.8663231134414673, 0.8660845756530762, 0.8649300932884216, 0.8597375154495239, 0.8344255685806274, 0.8194570541381836, 0.8087621927261353, 0.8074455261230469, 0.8017773032188416, 0.8010371923446655, 0.7987481951713562, 0.7986284494400024, 0.7985438704490662, 0.7982403039932251, 0.797604501247406, 0.7954134941101074, 0.793415904045105, 0.7907017469406128, 0.7865500450134277, 0.78296959400177, 0.78296959400177, 0.7788752913475037, 0.7779586315155029, 0.7762009501457214, 0.7762009501457214, 0.773916482925415, 0.7710529565811157, 0.7686511278152466, 0.9864355325698853, 0.9864355325698853, 0.9864355325698853, 0.9826947450637817, 0.9826947450637817, 0.9826947450637817, 0.9826947450637817, 0.9782356023788452, 0.9782356023788452, 0.9757435321807861, 0.9757435321807861, 0.9757435321807861, 0.9689328074455261, 0.9402492046356201, 0.9341841340065002, 0.9341841340065002, 0.9341841340065002, 0.9273935556411743, 0.9269580245018005, 0.9218999743461609, 0.9094784259796143, 0.9047620892524719, 0.903924822807312, 0.9021938443183899, 0.8943239450454712, 0.8904122114181519, 0.8887068629264832, 0.8784609436988831, 0.8784609436988831, 0.8775482773780823, 0.8750596046447754, 0.9459987878799438, 0.8943776488304138, 0.8790403604507446, 0.869575560092926, 0.8630431890487671, 0.860962450504303, 0.8586246371269226, 0.8545921444892883, 0.8492573499679565, 0.8492573499679565, 0.8492573499679565, 0.8492573499679565, 0.8476312160491943, 0.8421552181243896, 0.8421552181243896, 0.8387061357498169, 0.8387061357498169, 0.8370507955551147, 0.8209452033042908, 0.8209452033042908, 0.8184465765953064, 0.8124701976776123, 0.8064782619476318, 0.8018167614936829, 0.7942822575569153, 0.793105959892273, 0.7892725467681885, 0.7874955534934998, 0.7874955534934998, 0.7865685224533081, 0.7803300619125366, 0.897109866142273, 0.8681293725967407, 0.8543282151222229, 0.8507319092750549, 0.8393596410751343, 0.8393596410751343, 0.8393596410751343, 0.839084804058075, 0.8340571522712708, 0.8320361971855164, 0.8320361971855164, 0.8320361971855164, 0.8241477012634277, 0.8215377330780029, 0.8076063394546509, 0.796539306640625, 0.7889127135276794, 0.7889127135276794, 0.7889127135276794, 0.7867132425308228, 0.7834954857826233, 0.7834954857826233, 0.7834954857826233, 0.7766278386116028, 0.7766278386116028, 0.7727866172790527, 0.7719713449478149, 0.771084189414978, 0.7691633701324463, 0.768796443939209, 0.768796443939209, 1.0000001192092896, 1.0000001192092896, 1.0000001192092896, 1.0000001192092896, 1.0000001192092896, 1.0000001192092896, 1.0000001192092896, 1.0000001192092896, 0.9927343130111694, 0.9440506100654602, 0.9440506100654602, 0.9228465557098389, 0.9178213477134705, 0.9178213477134705, 0.9128562211990356, 0.9021764993667603, 0.894390344619751, 0.8784496784210205, 0.8697788119316101, 0.8470323085784912, 0.8425737023353577, 0.8418829441070557, 0.8380008339881897, 0.830925464630127, 0.829821765422821, 0.827387809753418, 0.827387809753418, 0.827387809753418, 0.8268293738365173, 0.8266760110855103, 0.8217141628265381, 0.9459987878799438, 0.8943776488304138, 0.8790403604507446, 0.869575560092926, 0.8630431890487671, 0.860962450504303, 0.8586246371269226, 0.8545921444892883, 0.8492573499679565, 0.8492573499679565, 0.8492573499679565, 0.8492573499679565, 0.8476312160491943, 0.8421552181243896, 0.8421552181243896, 0.8387061357498169, 0.8387061357498169, 0.8370507955551147, 0.8209452033042908, 0.8209452033042908, 0.8184465765953064, 0.8124701976776123, 0.8064782619476318, 0.8018167614936829, 0.7942822575569153, 0.793105959892273, 0.7892725467681885, 0.7874955534934998, 0.7874955534934998, 0.7865685224533081, 0.7803300619125366, 0.8813334703445435, 0.8800532221794128, 0.8710629940032959, 0.8710629940032959, 0.8692144751548767, 0.8677200078964233, 0.8614901304244995, 0.8614901304244995, 0.8555642366409302, 0.8521281480789185, 0.8501991033554077, 0.8363196849822998, 0.8354760408401489, 0.8348774909973145, 0.8305519819259644, 0.8233872652053833, 0.8233872652053833, 0.8161511421203613, 0.8063585162162781, 0.7966820001602173, 0.7966820001602173, 0.7966820001602173, 0.783653974533081, 0.783653974533081, 0.783653974533081, 0.783653974533081, 0.783653974533081, 0.782788872718811, 0.7790161967277527, 0.7790161967277527, 0.7790161967277527, 0.8850725889205933, 0.8809769153594971, 0.8731831312179565, 0.8703582286834717, 0.8703582286834717, 0.8685432076454163, 0.8627179265022278, 0.8627179265022278, 0.8604098558425903, 0.8521993160247803, 0.8477277755737305, 0.8409687280654907, 0.8365761041641235, 0.8359214067459106, 0.8341810703277588, 0.8254928588867188, 0.8254928588867188, 0.8208591938018799, 0.8102777600288391, 0.797055184841156, 0.797055184841156, 0.797055184841156, 0.7874627709388733, 0.7874627709388733, 0.7874627709388733, 0.7874627709388733, 0.7874627709388733, 0.7831261157989502, 0.7823978066444397, 0.7823978066444397, 0.7823978066444397, 0.9999999403953552, 0.9999999403953552, 0.9999999403953552, 0.9999999403953552, 0.9999999403953552, 0.9999999403953552, 0.9999999403953552, 0.9999999403953552, 0.9999999403953552, 0.9999999403953552, 0.9999999403953552, 0.9999999403953552, 0.9999999403953552, 0.9999999403953552, 0.9999999403953552, 0.9999999403953552, 0.9999999403953552, 0.9999999403953552, 0.9999999403953552, 0.9999999403953552, 0.9999999403953552, 0.9999999403953552, 0.9898490905761719, 0.9894349575042725, 0.9801132678985596, 0.9527895450592041, 0.9384332895278931, 0.9384332895278931, 0.9094148874282837, 0.9020172357559204, 0.8968909382820129, 0.8448854088783264, 0.8448854088783264, 0.8447475433349609, 0.8381275534629822, 0.8275642395019531, 0.8221467137336731, 0.8175384998321533, 0.8175384998321533, 0.8097262382507324, 0.8047509789466858, 0.7963100671768188, 0.793953537940979, 0.7919666767120361, 0.7919666767120361, 0.7892050743103027, 0.7875604629516602, 0.7869889736175537, 0.7865907549858093, 0.7839362621307373, 0.7827595472335815, 0.7827595472335815, 0.7820917367935181, 0.7820917367935181, 0.7820917367935181, 0.7820917367935181, 0.7820917367935181, 0.7769255042076111, 0.7769255042076111, 0.7769255042076111, 0.7743096351623535, 0.7734414339065552, 0.9730080962181091, 0.9378497004508972, 0.936793327331543, 0.9307621717453003, 0.9192661046981812, 0.9134617447853088, 0.910987138748169, 0.9066116809844971, 0.8850740194320679, 0.8797934055328369, 0.877754807472229, 0.877754807472229, 0.8768593668937683, 0.8753952980041504, 0.8719223737716675, 0.869961142539978, 0.8693332672119141, 0.8657479286193848, 0.8655506372451782, 0.8595770597457886, 0.8565024137496948, 0.8533480763435364, 0.8530271053314209, 0.8530271053314209, 0.8517774343490601, 0.8496311902999878, 0.8432725667953491, 0.8427314162254333, 0.8287258744239807, 0.8285499215126038, 0.8279951214790344, 0.9118414521217346, 0.9052541255950928, 0.9052541255950928, 0.904753565788269, 0.8895106315612793, 0.8805859684944153, 0.8745565414428711, 0.8592389822006226, 0.8566867709159851, 0.8488199710845947, 0.8488199710845947, 0.8432102203369141, 0.8393571376800537, 0.8366367220878601, 0.8341994285583496, 0.8324598073959351, 0.8295103311538696, 0.8270281553268433, 0.821831226348877, 0.8214743137359619, 0.8175661563873291, 0.8172793388366699, 0.8143818974494934, 0.8139528036117554, 0.8139360547065735, 0.813897430896759, 0.8123258352279663, 0.8123258352279663, 0.8084304332733154, 0.808350145816803, 0.8061832189559937, 0.890437126159668, 0.7815985679626465, 0.7357930541038513, 0.7357930541038513, 0.7357930541038513, 0.7253936529159546, 0.7242189645767212, 0.7184986472129822, 0.7176835536956787, 0.7165610790252686, 0.7122324109077454, 0.7034226655960083, 0.6941124200820923, 0.6878460645675659, 0.6668463945388794, 0.6658185720443726, 0.6558294296264648, 0.6556918621063232, 0.6531383991241455, 0.6531383991241455, 0.6492784023284912, 0.6482745409011841, 0.64231276512146, 0.639374852180481, 0.6363970041275024, 0.6348841190338135, 0.6348841190338135, 0.6326364278793335, 0.6275365352630615, 0.6253929734230042, 0.6249184608459473, 0.9423158168792725, 0.9068042039871216, 0.904342770576477, 0.904342770576477, 0.8983229398727417, 0.8976892232894897, 0.8819253444671631, 0.8640826940536499, 0.8502740263938904, 0.849547266960144, 0.8479519486427307, 0.8479519486427307, 0.84621661901474, 0.84621661901474, 0.8447744846343994, 0.84031081199646, 0.8384854197502136, 0.8377199769020081, 0.8373240232467651, 0.8371460437774658, 0.8337392807006836, 0.8326504230499268, 0.8297373056411743, 0.829287052154541, 0.8277474641799927, 0.8277474641799927, 0.8237369656562805, 0.8188636302947998, 0.8172938823699951, 0.8172587156295776, 0.8170063495635986, 0.9074401259422302, 0.8415816426277161, 0.8415816426277161, 0.8415816426277161, 0.7988331317901611, 0.7950435876846313, 0.7950435876846313, 0.7895297408103943, 0.7374603748321533, 0.7311122417449951, 0.7171507477760315, 0.7121368646621704, 0.7071365118026733, 0.7039526700973511, 0.7039526700973511, 0.7039526700973511, 0.7016534805297852, 0.7008212804794312, 0.7008212804794312, 0.6909640431404114, 0.6763885021209717, 0.6761153340339661, 0.6761153340339661, 0.6761153340339661, 0.6761153340339661, 0.6761153340339661, 0.6761153340339661, 0.6743274331092834, 0.6743274331092834, 0.6743274331092834, 0.6698366403579712, 0.9074401259422302, 0.8415816426277161, 0.8415816426277161, 0.8415816426277161, 0.7988331317901611, 0.7950435876846313, 0.7950435876846313, 0.7895297408103943, 0.7374603748321533, 0.7311122417449951, 0.7171507477760315, 0.7121368646621704, 0.7071365118026733, 0.7039526700973511, 0.7039526700973511, 0.7039526700973511, 0.7016534805297852, 0.7008212804794312, 0.7008212804794312, 0.6909640431404114, 0.6763885021209717, 0.6761153340339661, 0.6761153340339661, 0.6761153340339661, 0.6761153340339661, 0.6761153340339661, 0.6761153340339661, 0.6743274331092834, 0.6743274331092834, 0.6743274331092834, 0.6698366403579712, 0.9486821293830872, 0.9238372445106506, 0.9020090103149414, 0.901790201663971, 0.8958072662353516, 0.8949621319770813, 0.8928056955337524, 0.8816266655921936, 0.8775825500488281, 0.86573326587677, 0.8599637150764465, 0.8578180074691772, 0.8453689813613892, 0.8383983373641968, 0.8371564745903015, 0.8333533406257629, 0.8220862150192261, 0.8093840479850769, 0.805838406085968, 0.7988957166671753, 0.79383385181427, 0.7892017960548401, 0.7818679213523865, 0.7622532248497009, 0.743522584438324, 0.7409937977790833, 0.7338867783546448, 0.7049108743667603, 0.700792670249939, 0.700230598449707, 0.6911668181419373, 0.9329984188079834, 0.9021687507629395, 0.9021687507629395, 0.9021687507629395, 0.8449433445930481, 0.8091761469841003, 0.783499002456665, 0.783499002456665, 0.781242847442627, 0.781242847442627, 0.7742234468460083, 0.7687923312187195, 0.7586570382118225, 0.7582639455795288, 0.7435729503631592, 0.7389681339263916, 0.7338929176330566, 0.7338929176330566, 0.7338929176330566, 0.7314736843109131, 0.7314736843109131, 0.7314736843109131, 0.7314736843109131, 0.7314736843109131, 0.7314736843109131, 0.7281713485717773, 0.7160333395004272, 0.7160333395004272, 0.7096139788627625, 0.7087212800979614, 0.7087212800979614, 0.9194212555885315, 0.9141693115234375, 0.912086009979248, 0.912086009979248, 0.9084356427192688, 0.9057838916778564, 0.9039708375930786, 0.9039708375930786, 0.8636237382888794, 0.8615942001342773, 0.8610001802444458, 0.8610001802444458, 0.8610001802444458, 0.8600492477416992, 0.8572158217430115, 0.8568507432937622, 0.8542012572288513, 0.8517390489578247, 0.8509969115257263, 0.8505094051361084, 0.8485054969787598, 0.8482403755187988, 0.8473391532897949, 0.8455866575241089, 0.8416157364845276, 0.8416157364845276, 0.8401175141334534, 0.8354941606521606, 0.8316546678543091, 0.8298585414886475, 0.8246845006942749, 0.9056479334831238, 0.8908949494361877, 0.8908949494361877, 0.8844547271728516, 0.8555999398231506, 0.8497981429100037, 0.8375396728515625, 0.8340410590171814, 0.8269343376159668, 0.8217058777809143, 0.8175142407417297, 0.8153484463691711, 0.815143346786499, 0.815143346786499, 0.8073435425758362, 0.802023708820343, 0.8017152547836304, 0.7984132766723633, 0.7983074188232422, 0.7971056699752808, 0.7961196899414062, 0.7923398017883301, 0.7917100191116333, 0.7910594344139099, 0.7892146706581116, 0.7888333201408386, 0.7858190536499023, 0.7825382351875305, 0.7821721434593201, 0.7814721465110779, 0.7805137038230896, 0.9400002956390381, 0.9361640214920044, 0.9161128401756287, 0.9092697501182556, 0.8733177781105042, 0.8719756007194519, 0.8683995604515076, 0.8559733033180237, 0.8522821664810181, 0.8509025573730469, 0.8509025573730469, 0.8495470285415649, 0.8466712236404419, 0.8458649516105652, 0.8458649516105652, 0.8456489443778992, 0.8430567979812622, 0.839016318321228, 0.8361392021179199, 0.8361392021179199, 0.8361392021179199, 0.8361315131187439, 0.8333964347839355, 0.8323894739151001, 0.8315653204917908, 0.8315653204917908, 0.8315653204917908, 0.8294031023979187, 0.8286817669868469, 0.8256760239601135, 0.8256760239601135, 1.0, 0.9880157709121704, 0.9741803407669067, 0.9665172696113586, 0.9554617404937744, 0.9481483697891235, 0.9481483697891235, 0.9363751411437988, 0.9324128031730652, 0.9307470321655273, 0.9307470321655273, 0.9306720495223999, 0.9265341758728027, 0.9265341758728027, 0.9227239489555359, 0.9155327081680298, 0.9155327081680298, 0.9155327081680298, 0.9149553775787354, 0.914238691329956, 0.9015971422195435, 0.9003477096557617, 0.8950581550598145, 0.8776283264160156, 0.8690683841705322, 0.8579409122467041, 0.855871856212616, 0.8538951277732849, 0.8502475619316101, 0.8502475619316101, 0.8493176698684692, 0.9409665465354919, 0.9380307197570801, 0.9166605472564697, 0.9143222570419312, 0.8879178762435913, 0.8764312267303467, 0.8712931275367737, 0.8681567311286926, 0.8606590628623962, 0.8583520650863647, 0.8488998413085938, 0.8488998413085938, 0.8480684161186218, 0.8450291752815247, 0.8421670198440552, 0.8421497344970703, 0.8421497344970703, 0.8405290842056274, 0.8398734927177429, 0.8376902937889099, 0.8363116979598999, 0.8362941145896912, 0.8362941145896912, 0.8362941145896912, 0.835369884967804, 0.8348707556724548, 0.834556519985199, 0.834556519985199, 0.834556519985199, 0.8325274586677551, 0.826863169670105, 1.0, 1.0, 1.0, 1.0, 1.0, 1.0, 1.0, 1.0, 1.0, 1.0, 1.0, 1.0, 1.0, 1.0, 0.9944901466369629, 0.990729570388794, 0.990729570388794, 0.9810227751731873, 0.9810227751731873, 0.9810227751731873, 0.9798458218574524, 0.9749670028686523, 0.9749670028686523, 0.9684150218963623, 0.9684150218963623, 0.9556022882461548, 0.9556022882461548, 0.9556022882461548, 0.9518440961837769, 0.9467194080352783, 0.9467194080352783, 1.0, 1.0, 1.0, 1.0, 1.0, 1.0, 1.0, 1.0, 1.0, 1.0, 1.0, 1.0, 1.0, 1.0, 0.9944901466369629, 0.990729570388794, 0.990729570388794, 0.9810227751731873, 0.9810227751731873, 0.9810227751731873, 0.9798458218574524, 0.9749670028686523, 0.9749670028686523, 0.9684150218963623, 0.9684150218963623, 0.9556022882461548, 0.9556022882461548, 0.9556022882461548, 0.9518440961837769, 0.9467194080352783, 0.9467194080352783, 0.8831136226654053, 0.8831136226654053, 0.8763271570205688, 0.8763271570205688, 0.8614998459815979, 0.8541587591171265, 0.817592978477478, 0.813459038734436, 0.7997636795043945, 0.7963757514953613, 0.7963757514953613, 0.7963757514953613, 0.7963757514953613, 0.7961567044258118, 0.7961567044258118, 0.7912097573280334, 0.7820432782173157, 0.7772153615951538, 0.7766506671905518, 0.77408766746521, 0.7694500684738159, 0.7648903131484985, 0.7628907561302185, 0.7497296333312988, 0.7477447390556335, 0.7471240162849426, 0.7454345226287842, 0.7426567077636719, 0.7407559156417847, 0.7399311065673828, 0.7396582365036011, 1.0, 1.0, 1.0, 1.0, 1.0, 1.0, 1.0, 1.0, 1.0, 1.0, 1.0, 1.0, 1.0, 1.0, 0.9944901466369629, 0.990729570388794, 0.990729570388794, 0.9810227751731873, 0.9810227751731873, 0.9810227751731873, 0.9798458218574524, 0.9749670028686523, 0.9749670028686523, 0.9684150218963623, 0.9684150218963623, 0.9556022882461548, 0.9556022882461548, 0.9556022882461548, 0.9518440961837769, 0.9467194080352783, 0.9467194080352783, 0.9694546461105347, 0.9694546461105347, 0.8982797861099243, 0.8883200287818909, 0.8781940340995789, 0.871696949005127, 0.8614513874053955, 0.8551040291786194, 0.8501551747322083, 0.8459656238555908, 0.834691047668457, 0.834691047668457, 0.8315166234970093, 0.8315166234970093, 0.828212320804596, 0.8246797323226929, 0.8242800235748291, 0.8205710053443909, 0.8166850209236145, 0.8125396966934204, 0.807451069355011, 0.805588960647583, 0.805588960647583, 0.8044306039810181, 0.8032100200653076, 0.8029065728187561, 0.8011892437934875, 0.8000714182853699, 0.8000714182853699, 0.7980250120162964, 0.7956244945526123, 0.986772894859314, 0.8475550413131714, 0.8339976072311401, 0.824905514717102, 0.8229919672012329, 0.8070229291915894, 0.7970926761627197, 0.7947837114334106, 0.784392237663269, 0.7785512208938599, 0.7780911922454834, 0.7758022546768188, 0.7721855640411377, 0.7713879346847534, 0.7687875032424927, 0.768366277217865, 0.7677318453788757, 0.764771580696106, 0.7591947317123413, 0.7538961172103882, 0.7530522346496582, 0.7499049305915833, 0.7480839490890503, 0.7480839490890503, 0.7397704124450684, 0.7374410033226013, 0.7325069904327393, 0.7320542335510254, 0.7296512126922607, 0.7267055511474609, 0.7251875400543213, 0.7963026762008667, 0.7605770826339722, 0.7459965944290161, 0.7414212226867676, 0.7343505620956421, 0.7338950634002686, 0.7063324451446533, 0.688704252243042, 0.6696186065673828, 0.669094443321228, 0.669094443321228, 0.6580520868301392, 0.6575838923454285, 0.6283142566680908, 0.6232780814170837, 0.6156812906265259, 0.610779881477356, 0.6089409589767456, 0.6066858172416687, 0.6066858172416687, 0.6018970012664795, 0.5877956748008728, 0.5876491665840149, 0.5865949988365173, 0.5851860046386719, 0.5826352834701538, 0.5778014659881592, 0.5724384188652039, 0.5720594525337219, 0.5697110891342163, 0.5658446550369263, 0.9736567735671997, 0.9736567735671997, 0.9002995491027832, 0.8916659355163574, 0.8846193552017212, 0.8670492768287659, 0.866881787776947, 0.8645292520523071, 0.854739785194397, 0.83315110206604, 0.83315110206604, 0.8298966288566589, 0.8244636058807373, 0.8193157911300659, 0.8165582418441772, 0.8112143874168396, 0.8083822131156921, 0.8083822131156921, 0.8073627948760986, 0.8051220178604126, 0.8044928908348083, 0.8029540181159973, 0.8015550374984741, 0.8014792799949646, 0.8008032441139221, 0.799236536026001, 0.7958506345748901, 0.7922901511192322, 0.7922901511192322, 0.7911733984947205, 0.7893586158752441], \"xaxis\": \"x\", \"yaxis\": \"y\"}],\n",
              "                        {\"barmode\": \"relative\", \"legend\": {\"tracegroupgap\": 0}, \"template\": {\"data\": {\"bar\": [{\"error_x\": {\"color\": \"#2a3f5f\"}, \"error_y\": {\"color\": \"#2a3f5f\"}, \"marker\": {\"line\": {\"color\": \"#E5ECF6\", \"width\": 0.5}}, \"type\": \"bar\"}], \"barpolar\": [{\"marker\": {\"line\": {\"color\": \"#E5ECF6\", \"width\": 0.5}}, \"type\": \"barpolar\"}], \"carpet\": [{\"aaxis\": {\"endlinecolor\": \"#2a3f5f\", \"gridcolor\": \"white\", \"linecolor\": \"white\", \"minorgridcolor\": \"white\", \"startlinecolor\": \"#2a3f5f\"}, \"baxis\": {\"endlinecolor\": \"#2a3f5f\", \"gridcolor\": \"white\", \"linecolor\": \"white\", \"minorgridcolor\": \"white\", \"startlinecolor\": \"#2a3f5f\"}, \"type\": \"carpet\"}], \"choropleth\": [{\"colorbar\": {\"outlinewidth\": 0, \"ticks\": \"\"}, \"type\": \"choropleth\"}], \"contour\": [{\"colorbar\": {\"outlinewidth\": 0, \"ticks\": \"\"}, \"colorscale\": [[0.0, \"#0d0887\"], [0.1111111111111111, \"#46039f\"], [0.2222222222222222, \"#7201a8\"], [0.3333333333333333, \"#9c179e\"], [0.4444444444444444, \"#bd3786\"], [0.5555555555555556, \"#d8576b\"], [0.6666666666666666, \"#ed7953\"], [0.7777777777777778, \"#fb9f3a\"], [0.8888888888888888, \"#fdca26\"], [1.0, \"#f0f921\"]], \"type\": \"contour\"}], \"contourcarpet\": [{\"colorbar\": {\"outlinewidth\": 0, \"ticks\": \"\"}, \"type\": \"contourcarpet\"}], \"heatmap\": [{\"colorbar\": {\"outlinewidth\": 0, \"ticks\": \"\"}, \"colorscale\": [[0.0, \"#0d0887\"], [0.1111111111111111, \"#46039f\"], [0.2222222222222222, \"#7201a8\"], [0.3333333333333333, \"#9c179e\"], [0.4444444444444444, \"#bd3786\"], [0.5555555555555556, \"#d8576b\"], [0.6666666666666666, \"#ed7953\"], [0.7777777777777778, \"#fb9f3a\"], [0.8888888888888888, \"#fdca26\"], [1.0, \"#f0f921\"]], \"type\": \"heatmap\"}], \"heatmapgl\": [{\"colorbar\": {\"outlinewidth\": 0, \"ticks\": \"\"}, \"colorscale\": [[0.0, \"#0d0887\"], [0.1111111111111111, \"#46039f\"], [0.2222222222222222, \"#7201a8\"], [0.3333333333333333, \"#9c179e\"], [0.4444444444444444, \"#bd3786\"], [0.5555555555555556, \"#d8576b\"], [0.6666666666666666, \"#ed7953\"], [0.7777777777777778, \"#fb9f3a\"], [0.8888888888888888, \"#fdca26\"], [1.0, \"#f0f921\"]], \"type\": \"heatmapgl\"}], \"histogram\": [{\"marker\": {\"colorbar\": {\"outlinewidth\": 0, \"ticks\": \"\"}}, \"type\": \"histogram\"}], \"histogram2d\": [{\"colorbar\": {\"outlinewidth\": 0, \"ticks\": \"\"}, \"colorscale\": [[0.0, \"#0d0887\"], [0.1111111111111111, \"#46039f\"], [0.2222222222222222, \"#7201a8\"], [0.3333333333333333, \"#9c179e\"], [0.4444444444444444, \"#bd3786\"], [0.5555555555555556, \"#d8576b\"], [0.6666666666666666, \"#ed7953\"], [0.7777777777777778, \"#fb9f3a\"], [0.8888888888888888, \"#fdca26\"], [1.0, \"#f0f921\"]], \"type\": \"histogram2d\"}], \"histogram2dcontour\": [{\"colorbar\": {\"outlinewidth\": 0, \"ticks\": \"\"}, \"colorscale\": [[0.0, \"#0d0887\"], [0.1111111111111111, \"#46039f\"], [0.2222222222222222, \"#7201a8\"], [0.3333333333333333, \"#9c179e\"], [0.4444444444444444, \"#bd3786\"], [0.5555555555555556, \"#d8576b\"], [0.6666666666666666, \"#ed7953\"], [0.7777777777777778, \"#fb9f3a\"], [0.8888888888888888, \"#fdca26\"], [1.0, \"#f0f921\"]], \"type\": \"histogram2dcontour\"}], \"mesh3d\": [{\"colorbar\": {\"outlinewidth\": 0, \"ticks\": \"\"}, \"type\": \"mesh3d\"}], \"parcoords\": [{\"line\": {\"colorbar\": {\"outlinewidth\": 0, \"ticks\": \"\"}}, \"type\": \"parcoords\"}], \"pie\": [{\"automargin\": true, \"type\": \"pie\"}], \"scatter\": [{\"marker\": {\"colorbar\": {\"outlinewidth\": 0, \"ticks\": \"\"}}, \"type\": \"scatter\"}], \"scatter3d\": [{\"line\": {\"colorbar\": {\"outlinewidth\": 0, \"ticks\": \"\"}}, \"marker\": {\"colorbar\": {\"outlinewidth\": 0, \"ticks\": \"\"}}, \"type\": \"scatter3d\"}], \"scattercarpet\": [{\"marker\": {\"colorbar\": {\"outlinewidth\": 0, \"ticks\": \"\"}}, \"type\": \"scattercarpet\"}], \"scattergeo\": [{\"marker\": {\"colorbar\": {\"outlinewidth\": 0, \"ticks\": \"\"}}, \"type\": \"scattergeo\"}], \"scattergl\": [{\"marker\": {\"colorbar\": {\"outlinewidth\": 0, \"ticks\": \"\"}}, \"type\": \"scattergl\"}], \"scattermapbox\": [{\"marker\": {\"colorbar\": {\"outlinewidth\": 0, \"ticks\": \"\"}}, \"type\": \"scattermapbox\"}], \"scatterpolar\": [{\"marker\": {\"colorbar\": {\"outlinewidth\": 0, \"ticks\": \"\"}}, \"type\": \"scatterpolar\"}], \"scatterpolargl\": [{\"marker\": {\"colorbar\": {\"outlinewidth\": 0, \"ticks\": \"\"}}, \"type\": \"scatterpolargl\"}], \"scatterternary\": [{\"marker\": {\"colorbar\": {\"outlinewidth\": 0, \"ticks\": \"\"}}, \"type\": \"scatterternary\"}], \"surface\": [{\"colorbar\": {\"outlinewidth\": 0, \"ticks\": \"\"}, \"colorscale\": [[0.0, \"#0d0887\"], [0.1111111111111111, \"#46039f\"], [0.2222222222222222, \"#7201a8\"], [0.3333333333333333, \"#9c179e\"], [0.4444444444444444, \"#bd3786\"], [0.5555555555555556, \"#d8576b\"], [0.6666666666666666, \"#ed7953\"], [0.7777777777777778, \"#fb9f3a\"], [0.8888888888888888, \"#fdca26\"], [1.0, \"#f0f921\"]], \"type\": \"surface\"}], \"table\": [{\"cells\": {\"fill\": {\"color\": \"#EBF0F8\"}, \"line\": {\"color\": \"white\"}}, \"header\": {\"fill\": {\"color\": \"#C8D4E3\"}, \"line\": {\"color\": \"white\"}}, \"type\": \"table\"}]}, \"layout\": {\"annotationdefaults\": {\"arrowcolor\": \"#2a3f5f\", \"arrowhead\": 0, \"arrowwidth\": 1}, \"coloraxis\": {\"colorbar\": {\"outlinewidth\": 0, \"ticks\": \"\"}}, \"colorscale\": {\"diverging\": [[0, \"#8e0152\"], [0.1, \"#c51b7d\"], [0.2, \"#de77ae\"], [0.3, \"#f1b6da\"], [0.4, \"#fde0ef\"], [0.5, \"#f7f7f7\"], [0.6, \"#e6f5d0\"], [0.7, \"#b8e186\"], [0.8, \"#7fbc41\"], [0.9, \"#4d9221\"], [1, \"#276419\"]], \"sequential\": [[0.0, \"#0d0887\"], [0.1111111111111111, \"#46039f\"], [0.2222222222222222, \"#7201a8\"], [0.3333333333333333, \"#9c179e\"], [0.4444444444444444, \"#bd3786\"], [0.5555555555555556, \"#d8576b\"], [0.6666666666666666, \"#ed7953\"], [0.7777777777777778, \"#fb9f3a\"], [0.8888888888888888, \"#fdca26\"], [1.0, \"#f0f921\"]], \"sequentialminus\": [[0.0, \"#0d0887\"], [0.1111111111111111, \"#46039f\"], [0.2222222222222222, \"#7201a8\"], [0.3333333333333333, \"#9c179e\"], [0.4444444444444444, \"#bd3786\"], [0.5555555555555556, \"#d8576b\"], [0.6666666666666666, \"#ed7953\"], [0.7777777777777778, \"#fb9f3a\"], [0.8888888888888888, \"#fdca26\"], [1.0, \"#f0f921\"]]}, \"colorway\": [\"#636efa\", \"#EF553B\", \"#00cc96\", \"#ab63fa\", \"#FFA15A\", \"#19d3f3\", \"#FF6692\", \"#B6E880\", \"#FF97FF\", \"#FECB52\"], \"font\": {\"color\": \"#2a3f5f\"}, \"geo\": {\"bgcolor\": \"white\", \"lakecolor\": \"white\", \"landcolor\": \"#E5ECF6\", \"showlakes\": true, \"showland\": true, \"subunitcolor\": \"white\"}, \"hoverlabel\": {\"align\": \"left\"}, \"hovermode\": \"closest\", \"mapbox\": {\"style\": \"light\"}, \"paper_bgcolor\": \"white\", \"plot_bgcolor\": \"#E5ECF6\", \"polar\": {\"angularaxis\": {\"gridcolor\": \"white\", \"linecolor\": \"white\", \"ticks\": \"\"}, \"bgcolor\": \"#E5ECF6\", \"radialaxis\": {\"gridcolor\": \"white\", \"linecolor\": \"white\", \"ticks\": \"\"}}, \"scene\": {\"xaxis\": {\"backgroundcolor\": \"#E5ECF6\", \"gridcolor\": \"white\", \"gridwidth\": 2, \"linecolor\": \"white\", \"showbackground\": true, \"ticks\": \"\", \"zerolinecolor\": \"white\"}, \"yaxis\": {\"backgroundcolor\": \"#E5ECF6\", \"gridcolor\": \"white\", \"gridwidth\": 2, \"linecolor\": \"white\", \"showbackground\": true, \"ticks\": \"\", \"zerolinecolor\": \"white\"}, \"zaxis\": {\"backgroundcolor\": \"#E5ECF6\", \"gridcolor\": \"white\", \"gridwidth\": 2, \"linecolor\": \"white\", \"showbackground\": true, \"ticks\": \"\", \"zerolinecolor\": \"white\"}}, \"shapedefaults\": {\"line\": {\"color\": \"#2a3f5f\"}}, \"ternary\": {\"aaxis\": {\"gridcolor\": \"white\", \"linecolor\": \"white\", \"ticks\": \"\"}, \"baxis\": {\"gridcolor\": \"white\", \"linecolor\": \"white\", \"ticks\": \"\"}, \"bgcolor\": \"#E5ECF6\", \"caxis\": {\"gridcolor\": \"white\", \"linecolor\": \"white\", \"ticks\": \"\"}}, \"title\": {\"x\": 0.05}, \"xaxis\": {\"automargin\": true, \"gridcolor\": \"white\", \"linecolor\": \"white\", \"ticks\": \"\", \"title\": {\"standoff\": 15}, \"zerolinecolor\": \"white\", \"zerolinewidth\": 2}, \"yaxis\": {\"automargin\": true, \"gridcolor\": \"white\", \"linecolor\": \"white\", \"ticks\": \"\", \"title\": {\"standoff\": 15}, \"zerolinecolor\": \"white\", \"zerolinewidth\": 2}}}, \"title\": {\"text\": \"Scores for TF-IDF\"}, \"xaxis\": {\"anchor\": \"y\", \"domain\": [0.0, 1.0], \"title\": {\"text\": \"score\"}}, \"yaxis\": {\"anchor\": \"x\", \"domain\": [0.0, 1.0], \"title\": {\"text\": \"count\"}}},\n",
              "                        {\"responsive\": true}\n",
              "                    ).then(function(){\n",
              "                            \n",
              "var gd = document.getElementById('a4ba4857-9dfa-4921-9c81-b5d96979f34c');\n",
              "var x = new MutationObserver(function (mutations, observer) {{\n",
              "        var display = window.getComputedStyle(gd).display;\n",
              "        if (!display || display === 'none') {{\n",
              "            console.log([gd, 'removed!']);\n",
              "            Plotly.purge(gd);\n",
              "            observer.disconnect();\n",
              "        }}\n",
              "}});\n",
              "\n",
              "// Listen for the removal of the full notebook cells\n",
              "var notebookContainer = gd.closest('#notebook-container');\n",
              "if (notebookContainer) {{\n",
              "    x.observe(notebookContainer, {childList: true});\n",
              "}}\n",
              "\n",
              "// Listen for the clearing of the current output cell\n",
              "var outputEl = gd.closest('.output');\n",
              "if (outputEl) {{\n",
              "    x.observe(outputEl, {childList: true});\n",
              "}}\n",
              "\n",
              "                        })\n",
              "                };\n",
              "                \n",
              "            </script>\n",
              "        </div>\n",
              "</body>\n",
              "</html>"
            ]
          },
          "metadata": {}
        }
      ]
    },
    {
      "cell_type": "code",
      "metadata": {
        "id": "QIBvHL1aOnOT"
      },
      "source": [
        "if use_wandb:\n",
        "  wandb.log({\"scores_hist\": fig})"
      ],
      "execution_count": 61,
      "outputs": []
    },
    {
      "cell_type": "code",
      "metadata": {
        "colab": {
          "base_uri": "https://localhost:8080/",
          "height": 1000
        },
        "id": "ohaxVQ6d9iiD",
        "outputId": "6aef093d-b297-47cd-fe77-dabe931763c9"
      },
      "source": [
        "result, details = recommend_tune(df_sim, \"Blue Moon [jazz1350]\")\n",
        "result.head(30)"
      ],
      "execution_count": 62,
      "outputs": [
        {
          "output_type": "execute_result",
          "data": {
            "text/html": [
              "<div>\n",
              "<style scoped>\n",
              "    .dataframe tbody tr th:only-of-type {\n",
              "        vertical-align: middle;\n",
              "    }\n",
              "\n",
              "    .dataframe tbody tr th {\n",
              "        vertical-align: top;\n",
              "    }\n",
              "\n",
              "    .dataframe thead th {\n",
              "        text-align: right;\n",
              "    }\n",
              "</style>\n",
              "<table border=\"1\" class=\"dataframe\">\n",
              "  <thead>\n",
              "    <tr style=\"text-align: right;\">\n",
              "      <th></th>\n",
              "      <th>index</th>\n",
              "      <th>reference</th>\n",
              "      <th>reference_titleid</th>\n",
              "      <th>similar_title</th>\n",
              "      <th>score</th>\n",
              "      <th>max</th>\n",
              "      <th>score_div_max</th>\n",
              "      <th>similar_titleid</th>\n",
              "    </tr>\n",
              "  </thead>\n",
              "  <tbody>\n",
              "    <tr>\n",
              "      <th>0</th>\n",
              "      <td>0</td>\n",
              "      <td>Blue Moon [jazz1350]</td>\n",
              "      <td>159</td>\n",
              "      <td>It Could Happen To You [jazz1350]</td>\n",
              "      <td>0.807177</td>\n",
              "      <td>0.807177</td>\n",
              "      <td>1.000000</td>\n",
              "      <td>621</td>\n",
              "    </tr>\n",
              "    <tr>\n",
              "      <th>1</th>\n",
              "      <td>1</td>\n",
              "      <td>Blue Moon [jazz1350]</td>\n",
              "      <td>159</td>\n",
              "      <td>Home Cookin' [jazz1350]</td>\n",
              "      <td>0.830945</td>\n",
              "      <td>0.830945</td>\n",
              "      <td>1.000000</td>\n",
              "      <td>470</td>\n",
              "    </tr>\n",
              "    <tr>\n",
              "      <th>2</th>\n",
              "      <td>2</td>\n",
              "      <td>Blue Moon [jazz1350]</td>\n",
              "      <td>159</td>\n",
              "      <td>You're Lucky To Me [trad]</td>\n",
              "      <td>0.792714</td>\n",
              "      <td>0.807177</td>\n",
              "      <td>0.982081</td>\n",
              "      <td>1738</td>\n",
              "    </tr>\n",
              "    <tr>\n",
              "      <th>3</th>\n",
              "      <td>3</td>\n",
              "      <td>Blue Moon [jazz1350]</td>\n",
              "      <td>159</td>\n",
              "      <td>Things We Did Last Summer, The [jazz1350]</td>\n",
              "      <td>0.788775</td>\n",
              "      <td>0.807177</td>\n",
              "      <td>0.977202</td>\n",
              "      <td>1175</td>\n",
              "    </tr>\n",
              "    <tr>\n",
              "      <th>4</th>\n",
              "      <td>4</td>\n",
              "      <td>Blue Moon [jazz1350]</td>\n",
              "      <td>159</td>\n",
              "      <td>Teach Me Tonight [jazz1350]</td>\n",
              "      <td>0.786238</td>\n",
              "      <td>0.807177</td>\n",
              "      <td>0.974059</td>\n",
              "      <td>1148</td>\n",
              "    </tr>\n",
              "    <tr>\n",
              "      <th>5</th>\n",
              "      <td>5</td>\n",
              "      <td>Blue Moon [jazz1350]</td>\n",
              "      <td>159</td>\n",
              "      <td>Nice 'n Easy [jazz1350]</td>\n",
              "      <td>0.780932</td>\n",
              "      <td>0.807177</td>\n",
              "      <td>0.967485</td>\n",
              "      <td>871</td>\n",
              "    </tr>\n",
              "    <tr>\n",
              "      <th>6</th>\n",
              "      <td>6</td>\n",
              "      <td>Blue Moon [jazz1350]</td>\n",
              "      <td>159</td>\n",
              "      <td>That Old Feeling [jazz1350]</td>\n",
              "      <td>0.768121</td>\n",
              "      <td>0.807177</td>\n",
              "      <td>0.951613</td>\n",
              "      <td>1156</td>\n",
              "    </tr>\n",
              "    <tr>\n",
              "      <th>7</th>\n",
              "      <td>7</td>\n",
              "      <td>Blue Moon [jazz1350]</td>\n",
              "      <td>159</td>\n",
              "      <td>Bye Bye Blackbird [jazz1350]</td>\n",
              "      <td>0.764479</td>\n",
              "      <td>0.807177</td>\n",
              "      <td>0.947101</td>\n",
              "      <td>206</td>\n",
              "    </tr>\n",
              "    <tr>\n",
              "      <th>8</th>\n",
              "      <td>8</td>\n",
              "      <td>Blue Moon [jazz1350]</td>\n",
              "      <td>159</td>\n",
              "      <td>Don't Be That Way [jazz1350]</td>\n",
              "      <td>0.838833</td>\n",
              "      <td>0.895231</td>\n",
              "      <td>0.937002</td>\n",
              "      <td>318</td>\n",
              "    </tr>\n",
              "    <tr>\n",
              "      <th>9</th>\n",
              "      <td>9</td>\n",
              "      <td>Blue Moon [jazz1350]</td>\n",
              "      <td>159</td>\n",
              "      <td>Sophisticated Lady [jazz1350]</td>\n",
              "      <td>0.755183</td>\n",
              "      <td>0.807177</td>\n",
              "      <td>0.935585</td>\n",
              "      <td>1080</td>\n",
              "    </tr>\n",
              "    <tr>\n",
              "      <th>10</th>\n",
              "      <td>10</td>\n",
              "      <td>Blue Moon [jazz1350]</td>\n",
              "      <td>159</td>\n",
              "      <td>Look For The Silver Lining [jazz1350]</td>\n",
              "      <td>0.832714</td>\n",
              "      <td>0.895231</td>\n",
              "      <td>0.930167</td>\n",
              "      <td>740</td>\n",
              "    </tr>\n",
              "    <tr>\n",
              "      <th>11</th>\n",
              "      <td>11</td>\n",
              "      <td>Blue Moon [jazz1350]</td>\n",
              "      <td>159</td>\n",
              "      <td>Moonlight In Vermont [jazz1350]</td>\n",
              "      <td>0.831192</td>\n",
              "      <td>0.895231</td>\n",
              "      <td>0.928467</td>\n",
              "      <td>823</td>\n",
              "    </tr>\n",
              "    <tr>\n",
              "      <th>12</th>\n",
              "      <td>12</td>\n",
              "      <td>Blue Moon [jazz1350]</td>\n",
              "      <td>159</td>\n",
              "      <td>Touch Of Your Lips, The [jazz1350]</td>\n",
              "      <td>0.743992</td>\n",
              "      <td>0.807177</td>\n",
              "      <td>0.921720</td>\n",
              "      <td>1205</td>\n",
              "    </tr>\n",
              "    <tr>\n",
              "      <th>13</th>\n",
              "      <td>13</td>\n",
              "      <td>Blue Moon [jazz1350]</td>\n",
              "      <td>159</td>\n",
              "      <td>It's You Or No One [jazz1350]</td>\n",
              "      <td>0.753382</td>\n",
              "      <td>0.819061</td>\n",
              "      <td>0.919344</td>\n",
              "      <td>643</td>\n",
              "    </tr>\n",
              "    <tr>\n",
              "      <th>14</th>\n",
              "      <td>14</td>\n",
              "      <td>Blue Moon [jazz1350]</td>\n",
              "      <td>159</td>\n",
              "      <td>Don't Go To Strangers [jazz1350]</td>\n",
              "      <td>0.740158</td>\n",
              "      <td>0.807177</td>\n",
              "      <td>0.916970</td>\n",
              "      <td>323</td>\n",
              "    </tr>\n",
              "    <tr>\n",
              "      <th>15</th>\n",
              "      <td>15</td>\n",
              "      <td>Blue Moon [jazz1350]</td>\n",
              "      <td>159</td>\n",
              "      <td>At Last [jazz1350]</td>\n",
              "      <td>0.820222</td>\n",
              "      <td>0.895231</td>\n",
              "      <td>0.916213</td>\n",
              "      <td>92</td>\n",
              "    </tr>\n",
              "    <tr>\n",
              "      <th>16</th>\n",
              "      <td>16</td>\n",
              "      <td>Blue Moon [jazz1350]</td>\n",
              "      <td>159</td>\n",
              "      <td>All God's Chillun Got Rhythm [jazz1350]</td>\n",
              "      <td>0.737424</td>\n",
              "      <td>0.807177</td>\n",
              "      <td>0.913583</td>\n",
              "      <td>57</td>\n",
              "    </tr>\n",
              "    <tr>\n",
              "      <th>17</th>\n",
              "      <td>17</td>\n",
              "      <td>Blue Moon [jazz1350]</td>\n",
              "      <td>159</td>\n",
              "      <td>Old Folks [jazz1350]</td>\n",
              "      <td>0.733269</td>\n",
              "      <td>0.807177</td>\n",
              "      <td>0.908436</td>\n",
              "      <td>898</td>\n",
              "    </tr>\n",
              "    <tr>\n",
              "      <th>18</th>\n",
              "      <td>18</td>\n",
              "      <td>Blue Moon [jazz1350]</td>\n",
              "      <td>159</td>\n",
              "      <td>Day By Day [jazz1350]</td>\n",
              "      <td>0.726248</td>\n",
              "      <td>0.807177</td>\n",
              "      <td>0.899738</td>\n",
              "      <td>283</td>\n",
              "    </tr>\n",
              "    <tr>\n",
              "      <th>19</th>\n",
              "      <td>19</td>\n",
              "      <td>Blue Moon [jazz1350]</td>\n",
              "      <td>159</td>\n",
              "      <td>Try A Little Tenderness [jazz1350]</td>\n",
              "      <td>0.713414</td>\n",
              "      <td>0.807177</td>\n",
              "      <td>0.883838</td>\n",
              "      <td>1216</td>\n",
              "    </tr>\n",
              "    <tr>\n",
              "      <th>20</th>\n",
              "      <td>20</td>\n",
              "      <td>Blue Moon [jazz1350]</td>\n",
              "      <td>159</td>\n",
              "      <td>I've Got You Under My Skin [jazz1350]</td>\n",
              "      <td>0.711323</td>\n",
              "      <td>0.807177</td>\n",
              "      <td>0.881248</td>\n",
              "      <td>568</td>\n",
              "    </tr>\n",
              "    <tr>\n",
              "      <th>21</th>\n",
              "      <td>21</td>\n",
              "      <td>Blue Moon [jazz1350]</td>\n",
              "      <td>159</td>\n",
              "      <td>It Was So Good While It Lasted [jazz1350]</td>\n",
              "      <td>0.710793</td>\n",
              "      <td>0.807177</td>\n",
              "      <td>0.880590</td>\n",
              "      <td>627</td>\n",
              "    </tr>\n",
              "    <tr>\n",
              "      <th>22</th>\n",
              "      <td>22</td>\n",
              "      <td>Blue Moon [jazz1350]</td>\n",
              "      <td>159</td>\n",
              "      <td>It's Been A Long Long Time [jazz1350]</td>\n",
              "      <td>0.707505</td>\n",
              "      <td>0.807177</td>\n",
              "      <td>0.876517</td>\n",
              "      <td>635</td>\n",
              "    </tr>\n",
              "    <tr>\n",
              "      <th>23</th>\n",
              "      <td>23</td>\n",
              "      <td>Blue Moon [jazz1350]</td>\n",
              "      <td>159</td>\n",
              "      <td>Don't Take Your Love From Me [jazz1350]</td>\n",
              "      <td>0.706709</td>\n",
              "      <td>0.807177</td>\n",
              "      <td>0.875532</td>\n",
              "      <td>326</td>\n",
              "    </tr>\n",
              "    <tr>\n",
              "      <th>24</th>\n",
              "      <td>24</td>\n",
              "      <td>Blue Moon [jazz1350]</td>\n",
              "      <td>159</td>\n",
              "      <td>Tea For Two [jazz1350]</td>\n",
              "      <td>0.706021</td>\n",
              "      <td>0.807177</td>\n",
              "      <td>0.874679</td>\n",
              "      <td>1147</td>\n",
              "    </tr>\n",
              "    <tr>\n",
              "      <th>25</th>\n",
              "      <td>25</td>\n",
              "      <td>Blue Moon [jazz1350]</td>\n",
              "      <td>159</td>\n",
              "      <td>Long Ago And Far Away [jazz1350]</td>\n",
              "      <td>0.782107</td>\n",
              "      <td>0.895231</td>\n",
              "      <td>0.873638</td>\n",
              "      <td>738</td>\n",
              "    </tr>\n",
              "    <tr>\n",
              "      <th>26</th>\n",
              "      <td>26</td>\n",
              "      <td>Blue Moon [jazz1350]</td>\n",
              "      <td>159</td>\n",
              "      <td>Idaho [trad]</td>\n",
              "      <td>0.724894</td>\n",
              "      <td>0.830945</td>\n",
              "      <td>0.872373</td>\n",
              "      <td>1522</td>\n",
              "    </tr>\n",
              "    <tr>\n",
              "      <th>27</th>\n",
              "      <td>27</td>\n",
              "      <td>Blue Moon [jazz1350]</td>\n",
              "      <td>159</td>\n",
              "      <td>It's Just Talk [jazz1350]</td>\n",
              "      <td>0.779854</td>\n",
              "      <td>0.895231</td>\n",
              "      <td>0.871121</td>\n",
              "      <td>639</td>\n",
              "    </tr>\n",
              "    <tr>\n",
              "      <th>28</th>\n",
              "      <td>28</td>\n",
              "      <td>Blue Moon [jazz1350]</td>\n",
              "      <td>159</td>\n",
              "      <td>Can't Help Lovin' Dat Man [jazz1350]</td>\n",
              "      <td>0.777216</td>\n",
              "      <td>0.895231</td>\n",
              "      <td>0.868174</td>\n",
              "      <td>215</td>\n",
              "    </tr>\n",
              "    <tr>\n",
              "      <th>29</th>\n",
              "      <td>29</td>\n",
              "      <td>Blue Moon [jazz1350]</td>\n",
              "      <td>159</td>\n",
              "      <td>Jody Grind, The [jazz1350]</td>\n",
              "      <td>0.776849</td>\n",
              "      <td>0.895231</td>\n",
              "      <td>0.867764</td>\n",
              "      <td>655</td>\n",
              "    </tr>\n",
              "  </tbody>\n",
              "</table>\n",
              "</div>"
            ],
            "text/plain": [
              "    index             reference  reference_titleid                              similar_title     score       max  score_div_max  similar_titleid\n",
              "0       0  Blue Moon [jazz1350]                159          It Could Happen To You [jazz1350]  0.807177  0.807177       1.000000              621\n",
              "1       1  Blue Moon [jazz1350]                159                    Home Cookin' [jazz1350]  0.830945  0.830945       1.000000              470\n",
              "2       2  Blue Moon [jazz1350]                159                  You're Lucky To Me [trad]  0.792714  0.807177       0.982081             1738\n",
              "3       3  Blue Moon [jazz1350]                159  Things We Did Last Summer, The [jazz1350]  0.788775  0.807177       0.977202             1175\n",
              "4       4  Blue Moon [jazz1350]                159                Teach Me Tonight [jazz1350]  0.786238  0.807177       0.974059             1148\n",
              "5       5  Blue Moon [jazz1350]                159                    Nice 'n Easy [jazz1350]  0.780932  0.807177       0.967485              871\n",
              "6       6  Blue Moon [jazz1350]                159                That Old Feeling [jazz1350]  0.768121  0.807177       0.951613             1156\n",
              "7       7  Blue Moon [jazz1350]                159               Bye Bye Blackbird [jazz1350]  0.764479  0.807177       0.947101              206\n",
              "8       8  Blue Moon [jazz1350]                159               Don't Be That Way [jazz1350]  0.838833  0.895231       0.937002              318\n",
              "9       9  Blue Moon [jazz1350]                159              Sophisticated Lady [jazz1350]  0.755183  0.807177       0.935585             1080\n",
              "10     10  Blue Moon [jazz1350]                159      Look For The Silver Lining [jazz1350]  0.832714  0.895231       0.930167              740\n",
              "11     11  Blue Moon [jazz1350]                159            Moonlight In Vermont [jazz1350]  0.831192  0.895231       0.928467              823\n",
              "12     12  Blue Moon [jazz1350]                159         Touch Of Your Lips, The [jazz1350]  0.743992  0.807177       0.921720             1205\n",
              "13     13  Blue Moon [jazz1350]                159              It's You Or No One [jazz1350]  0.753382  0.819061       0.919344              643\n",
              "14     14  Blue Moon [jazz1350]                159           Don't Go To Strangers [jazz1350]  0.740158  0.807177       0.916970              323\n",
              "15     15  Blue Moon [jazz1350]                159                         At Last [jazz1350]  0.820222  0.895231       0.916213               92\n",
              "16     16  Blue Moon [jazz1350]                159    All God's Chillun Got Rhythm [jazz1350]  0.737424  0.807177       0.913583               57\n",
              "17     17  Blue Moon [jazz1350]                159                       Old Folks [jazz1350]  0.733269  0.807177       0.908436              898\n",
              "18     18  Blue Moon [jazz1350]                159                      Day By Day [jazz1350]  0.726248  0.807177       0.899738              283\n",
              "19     19  Blue Moon [jazz1350]                159         Try A Little Tenderness [jazz1350]  0.713414  0.807177       0.883838             1216\n",
              "20     20  Blue Moon [jazz1350]                159      I've Got You Under My Skin [jazz1350]  0.711323  0.807177       0.881248              568\n",
              "21     21  Blue Moon [jazz1350]                159  It Was So Good While It Lasted [jazz1350]  0.710793  0.807177       0.880590              627\n",
              "22     22  Blue Moon [jazz1350]                159      It's Been A Long Long Time [jazz1350]  0.707505  0.807177       0.876517              635\n",
              "23     23  Blue Moon [jazz1350]                159    Don't Take Your Love From Me [jazz1350]  0.706709  0.807177       0.875532              326\n",
              "24     24  Blue Moon [jazz1350]                159                     Tea For Two [jazz1350]  0.706021  0.807177       0.874679             1147\n",
              "25     25  Blue Moon [jazz1350]                159           Long Ago And Far Away [jazz1350]  0.782107  0.895231       0.873638              738\n",
              "26     26  Blue Moon [jazz1350]                159                               Idaho [trad]  0.724894  0.830945       0.872373             1522\n",
              "27     27  Blue Moon [jazz1350]                159                  It's Just Talk [jazz1350]  0.779854  0.895231       0.871121              639\n",
              "28     28  Blue Moon [jazz1350]                159       Can't Help Lovin' Dat Man [jazz1350]  0.777216  0.895231       0.868174              215\n",
              "29     29  Blue Moon [jazz1350]                159                 Jody Grind, The [jazz1350]  0.776849  0.895231       0.867764              655"
            ]
          },
          "metadata": {},
          "execution_count": 62
        }
      ]
    },
    {
      "cell_type": "markdown",
      "metadata": {
        "id": "UveSDI6QWALe"
      },
      "source": [
        "Copy results into a dataframe for later logging to W&B"
      ]
    },
    {
      "cell_type": "code",
      "metadata": {
        "id": "AEEqdXBiT5bl"
      },
      "source": [
        "dd = pd.DataFrame(columns = recommender_results_cols)\n",
        "\n",
        "for tune in tunes_eval_list:\n",
        "  result, details = recommend_tune(df_sim, tune)\n",
        "  dd['id'] = result['index']\n",
        "  dd['method'] = 'tfidf'\n",
        "  dd['reference'] = tune\n",
        "  dd['similar'] = result['similar_title']\n",
        "  dd['score_div_max'] = result['score_div_max']\n",
        "  dd['score'] = result['score']\n",
        "\n",
        "recommender_results = recommender_results.append(dd)"
      ],
      "execution_count": 63,
      "outputs": []
    },
    {
      "cell_type": "markdown",
      "metadata": {
        "id": "wqaUEFqxXZYB"
      },
      "source": [
        "### Test Contrafacts"
      ]
    },
    {
      "cell_type": "markdown",
      "metadata": {
        "id": "563ncYqAfIyN"
      },
      "source": [
        "With the model, query the top N highest matches for each section. For a tune, if at least one section receives the recommendation  for the expected title, increase the match counter."
      ]
    },
    {
      "cell_type": "code",
      "metadata": {
        "id": "RVPtraR-hg0G"
      },
      "source": [
        "def test_contrafacts(tunes, index, model, N=15):\n",
        "  matches = 0\n",
        "  number_of_sections = 0\n",
        "  results = {}\n",
        "\n",
        "  for tune, similar_tune in tunes:\n",
        "\n",
        "    # loop over all sections of the tune\n",
        "    section_matches = 0\n",
        "    for s1 in title_to_sectionid[tune]:\n",
        "      query = processed_corpus[s1]\n",
        "      query_bow = dictionary.doc2bow(query)\n",
        "\n",
        "      # perform a similarity query against the corpus\n",
        "      similarities = index[model[query_bow]]\n",
        "      sims = sorted(enumerate(similarities), key=lambda item: -item[1])\n",
        "\n",
        "      # check if the section matches the expected title; consider only the first 15 recommendations\n",
        "      i = 0\n",
        "      for sectionid, value in sims:\n",
        "        if i >= N:\n",
        "          break\n",
        "        i += 1\n",
        "        if sectionid_to_title[sectionid] == similar_tune:\n",
        "          section_matches += 1\n",
        "\n",
        "    # for each title, increase matches if at least one of the section matched the expected title\n",
        "    if section_matches > 0:\n",
        "      matches += 1  \n",
        "      results[f'{tune}, {similar_tune}'] = 1\n",
        "    else:\n",
        "      results[f'{tune}, {similar_tune}'] = 0\n",
        "  \n",
        "  return matches, results\n"
      ],
      "execution_count": 64,
      "outputs": []
    },
    {
      "cell_type": "code",
      "metadata": {
        "colab": {
          "base_uri": "https://localhost:8080/"
        },
        "id": "Q628rO5DhxWD",
        "outputId": "bda533e8-3a71-4cb5-95cc-2262031bab6d"
      },
      "source": [
        "topN = 15\n",
        "matches, results = test_contrafacts(contrafacts, index_tfidf, tfidf, topN)\n",
        "\n",
        "print(f\"Found matches: {matches} out of {len(results)}: {100*matches/len(results):.3f}%\")\n",
        "print() \n",
        "for rr, val in results.items():\n",
        "  if val == 0:\n",
        "    print(f\"{val}: {rr}\")"
      ],
      "execution_count": 65,
      "outputs": [
        {
          "output_type": "stream",
          "name": "stdout",
          "text": [
            "Found matches: 86 out of 111: 77.477%\n",
            "\n",
            "0: 52nd Street Theme [jazz1350], I Got Rhythm [jazz1350]\n",
            "0: Ballade [jazz1350], As Long As I Live [jazz1350]\n",
            "0: Dewey Square [jazz1350], Oh, Lady Be Good [jazz1350]\n",
            "0: Don't Be That Way [jazz1350], I Got Rhythm [jazz1350]\n",
            "0: Four On Six [jazz1350], Summertime [jazz1350]\n",
            "0: Good Bait [jazz1350], I Got Rhythm [jazz1350]\n",
            "0: In A Mellow Tone (In A Mellotone) [jazz1350], Rose Room [jazz1350]\n",
            "0: Lennie's Pennies [jazz1350], Pennies From Heaven [jazz1350]\n",
            "0: Little Rootie Tootie [jazz1350], I Got Rhythm [jazz1350]\n",
            "0: Little Willie Leaps [jazz1350], All God's Chillun Got Rhythm [jazz1350]\n",
            "0: Lullaby Of Birdland [jazz1350], Love Me Or Leave Me [jazz1350]\n",
            "0: My Little Suede Shoes [jazz1350], Jeepers Creepers [jazz1350]\n",
            "0: Quasimodo (Theme) [jazz1350], Embraceable You [jazz1350]\n",
            "0: Room 608 [jazz1350], I Got Rhythm [jazz1350]\n",
            "0: Scrapple From The Apple [jazz1350], Honeysuckle Rose [jazz1350]\n",
            "0: Sweet Sue, Just You [jazz1350], Honeysuckle Rose [jazz1350]\n",
            "0: Sweet Sue, Just You [jazz1350], Bye Bye Blackbird [jazz1350]\n",
            "0: These Foolish Things [jazz1350], Blue Moon [jazz1350]\n",
            "0: These Foolish Things [jazz1350], Soultrain [jazz1350]\n",
            "0: These Foolish Things [jazz1350], Why Do I Love You [jazz1350]\n",
            "0: Misty [jazz1350], September In The Rain [jazz1350]\n",
            "0: Exactly Like You [jazz1350], Jersey Bounce [trad]\n",
            "0: Take The A Train [jazz1350], Girl From Ipanema, The [jazz1350]\n",
            "0: On The Sunny Side Of The Street [jazz1350], You Stepped Out Of A Dream [jazz1350]\n",
            "0: My Secret Love [jazz1350], Samba De Orfeu [jazz1350]\n",
            "0: On The Sunny Side Of The Street [jazz1350], Mountain Greenery [jazz1350]\n",
            "0: These Foolish Things [jazz1350], Embraceable You [jazz1350]\n"
          ]
        }
      ]
    },
    {
      "cell_type": "code",
      "metadata": {
        "id": "8lKZukYybvMJ"
      },
      "source": [
        "model_name = 'tfidf'\n",
        "if use_wandb:\n",
        "  wandb.log(\n",
        "      {model_name: {\n",
        "                'contrafacts': {\n",
        "                    'topN': topN,\n",
        "                    'success': matches/len(contrafacts),\n",
        "                    #'results': results\n",
        "                    }\n",
        "                   },\n",
        "       'all_models': {\n",
        "           model_name: wandb.Table(\n",
        "               columns=[\"Title\", \"Match\"],\n",
        "               data=[[key, value] for key, value in results.items()]),\n",
        "       }\n",
        "       })"
      ],
      "execution_count": 66,
      "outputs": []
    },
    {
      "cell_type": "markdown",
      "metadata": {
        "id": "Phw7fBDk0px7"
      },
      "source": [
        "## Store TF-IDF Model to W&B"
      ]
    },
    {
      "cell_type": "code",
      "metadata": {
        "id": "KdYWJX-60pdd"
      },
      "source": [
        "if use_wandb:\n",
        "  model_artifact = wandb.Artifact(\n",
        "      \"model_tfidf\", \n",
        "      type=\"model\",\n",
        "      description=\"TF-IDF Model\",\n",
        "      metadata=\"\")\n",
        "\n",
        "  model_artifact.add_file(\"/content/index/tfidf.model\")\n",
        "  model_artifact.add_file(\"/content/index/tfidf.index\")\n",
        "  wandb.log_artifact(model_artifact)"
      ],
      "execution_count": 67,
      "outputs": []
    },
    {
      "cell_type": "markdown",
      "metadata": {
        "id": "Pj0mpWpahPu1"
      },
      "source": [
        "## Get Recommender Data for WebApp\n",
        "\n"
      ]
    },
    {
      "cell_type": "code",
      "metadata": {
        "id": "buRbSTWehvPP"
      },
      "source": [
        "tune_test = [\"These Foolish Things [jazz1350]\",\n",
        "             \"Misty [jazz1350]\"]"
      ],
      "execution_count": 68,
      "outputs": []
    },
    {
      "cell_type": "code",
      "metadata": {
        "colab": {
          "base_uri": "https://localhost:8080/"
        },
        "id": "kwdXs-pZjKKD",
        "outputId": "6a5816c2-ea0c-4b49-d41c-06bc9f21e707"
      },
      "source": [
        "%%time\n",
        "if False:\n",
        "  _tunes = list(tunes['title_playlist'].values())\n",
        "  #_tunes = tunes_eval_list\n",
        "\n",
        "  method = 'tfidf'\n",
        "\n",
        "  df_sim = get_sim_scores(_tunes, index_tfidf, tfidf)\n",
        "\n",
        "  result = None\n",
        "  for tune in _tunes:\n",
        "    tune_result, details = recommend_tune(df_sim, tune)\n",
        "    if result is None:\n",
        "      result = pd.DataFrame(columns=tune_result.columns)\n",
        "    result = result.append(tune_result)\n",
        "\n",
        "  # save to file\n",
        "  (result\n",
        "   .loc[:,['reference_titleid',\n",
        "           'similar_titleid',\n",
        "           'score']]\n",
        "   .to_csv(f'output/recommender_{method}.csv', encoding='utf8')\n",
        "  )\n",
        "  with zipfile.ZipFile(f'output/recommender_{method}.zip', 'w') as zf:\n",
        "    zf.write(f'output/recommender_{method}.csv')\n",
        "\n",
        "\n",
        "  # save to wandb\n",
        "  if use_wandb:\n",
        "    model_artifact = wandb.Artifact(\n",
        "        f\"recommender_{method}\", \n",
        "        type=\"csv\",\n",
        "        description=f\"Recommendations for each Tune using {method} Model (csv file)\",\n",
        "        metadata=\"\")\n",
        "\n",
        "    model_artifact.add_file(f'output/recommender_{method}.zip')\n",
        "    wandb.log_artifact(model_artifact)"
      ],
      "execution_count": 69,
      "outputs": [
        {
          "output_type": "stream",
          "name": "stdout",
          "text": [
            "CPU times: user 3 µs, sys: 0 ns, total: 3 µs\n",
            "Wall time: 6.68 µs\n"
          ]
        }
      ]
    },
    {
      "cell_type": "markdown",
      "metadata": {
        "id": "99xHBRsd--OB"
      },
      "source": [
        "# LSA (Latent Semantic Analysis), aka LSI (Latent Semantic Index) "
      ]
    },
    {
      "cell_type": "code",
      "metadata": {
        "id": "adsW9Uh9_JXs"
      },
      "source": [
        "from collections import defaultdict"
      ],
      "execution_count": 70,
      "outputs": []
    },
    {
      "cell_type": "code",
      "metadata": {
        "colab": {
          "base_uri": "https://localhost:8080/"
        },
        "id": "s3AJZGRD_IHW",
        "outputId": "0f51578a-46b4-411b-ffa3-89fda56ec7ea"
      },
      "source": [
        "num_topics = lsi_config['num_topics']\n",
        "\n",
        "# remove words that appear only once\n",
        "frequency = defaultdict(int)\n",
        "for text in processed_corpus:\n",
        "    for token in text:\n",
        "        frequency[token] += 1\n",
        "\n",
        "data = [[token for token in text if frequency[token] > 1] for text in processed_corpus]\n",
        "dictionary = corpora.Dictionary(data)\n",
        "\n",
        "# doc2bow counts the number of occurences of each distinct word,\n",
        "# converts the word to its integer word id and returns the result\n",
        "# as a sparse vector\n",
        "\n",
        "bow_corpus = [dictionary.doc2bow(text) for text in data]\n",
        "lsi = LsiModel(bow_corpus, id2word=dictionary, num_topics=num_topics)  # num_topics can be maximum the size of the number of unique tokens"
      ],
      "execution_count": 71,
      "outputs": [
        {
          "output_type": "stream",
          "name": "stderr",
          "text": [
            "2021-11-29 18:41:05,905 : INFO : adding document #0 to Dictionary(0 unique tokens: [])\n",
            "2021-11-29 18:41:06,014 : INFO : built Dictionary(60 unique tokens: ['Am', 'B7', 'C', 'C#', 'C7']...) from 5199 documents (total 79498 corpus positions)\n",
            "2021-11-29 18:41:06,016 : INFO : Dictionary lifecycle event {'msg': \"built Dictionary(60 unique tokens: ['Am', 'B7', 'C', 'C#', 'C7']...) from 5199 documents (total 79498 corpus positions)\", 'datetime': '2021-11-29T18:41:06.016638', 'gensim': '4.1.2', 'python': '3.7.12 (default, Sep 10 2021, 00:21:48) \\n[GCC 7.5.0]', 'platform': 'Linux-5.4.104+-x86_64-with-Ubuntu-18.04-bionic', 'event': 'created'}\n",
            "2021-11-29 18:41:06,085 : INFO : using serial LSI version on this node\n",
            "2021-11-29 18:41:06,090 : INFO : updating model with new documents\n",
            "2021-11-29 18:41:06,096 : INFO : preparing a new chunk of documents\n",
            "2021-11-29 18:41:06,132 : INFO : using 100 extra samples and 2 power iterations\n",
            "2021-11-29 18:41:06,135 : INFO : 1st phase: constructing (60, 200) action matrix\n",
            "2021-11-29 18:41:06,199 : INFO : orthonormalizing (60, 200) action matrix\n",
            "2021-11-29 18:41:06,225 : INFO : 2nd phase: running dense svd on (60, 5199) matrix\n",
            "2021-11-29 18:41:06,273 : INFO : computing the final decomposition\n",
            "2021-11-29 18:41:06,276 : INFO : keeping 60 factors (discarding 0.000% of energy spectrum)\n",
            "2021-11-29 18:41:06,282 : INFO : processed documents up to #5199\n",
            "2021-11-29 18:41:06,285 : INFO : topic #0(388.899): 0.712*\"C\" + 0.509*\"G7\" + 0.285*\"Dm\" + 0.177*\"D7\" + 0.169*\"A7\" + 0.161*\"F\" + 0.152*\"Am\" + 0.117*\"C7\" + 0.093*\"E7\" + 0.081*\"Em\"\n",
            "2021-11-29 18:41:06,288 : INFO : topic #1(166.448): 0.783*\"Am\" + -0.377*\"C\" + 0.340*\"E7\" + 0.259*\"Dm\" + 0.116*\"Bm7b5\" + 0.094*\"Em\" + 0.084*\"A7\" + 0.079*\"D7\" + 0.072*\"F7\" + 0.065*\"B7\"\n",
            "2021-11-29 18:41:06,291 : INFO : topic #2(127.642): 0.650*\"Dm\" + -0.357*\"Am\" + -0.353*\"C\" + 0.275*\"A7\" + 0.265*\"G7\" + 0.233*\"Em\" + -0.229*\"F\" + -0.176*\"E7\" + -0.149*\"D7\" + -0.065*\"G\"\n",
            "2021-11-29 18:41:06,293 : INFO : topic #3(112.199): 0.749*\"C7\" + -0.327*\"C\" + 0.276*\"D7\" + 0.247*\"G7\" + -0.238*\"Dm\" + 0.217*\"F\" + -0.179*\"Am\" + 0.139*\"F7\" + 0.105*\"Gm\" + 0.100*\"Bb7\"\n",
            "2021-11-29 18:41:06,295 : INFO : topic #4(101.867): 0.582*\"D7\" + -0.384*\"C7\" + 0.354*\"G7\" + -0.353*\"F\" + -0.290*\"Dm\" + 0.260*\"A7\" + -0.167*\"C\" + -0.144*\"Em\" + 0.142*\"E7\" + -0.113*\"Gm\"\n",
            "2021-11-29 18:41:06,297 : INFO : LsiModel lifecycle event {'msg': 'trained LsiModel(num_terms=60, num_topics=100, decay=1.0, chunksize=20000) in 0.21s', 'datetime': '2021-11-29T18:41:06.297622', 'gensim': '4.1.2', 'python': '3.7.12 (default, Sep 10 2021, 00:21:48) \\n[GCC 7.5.0]', 'platform': 'Linux-5.4.104+-x86_64-with-Ubuntu-18.04-bionic', 'event': 'created'}\n"
          ]
        }
      ]
    },
    {
      "cell_type": "code",
      "metadata": {
        "id": "EvxSQFfBBNMJ",
        "colab": {
          "base_uri": "https://localhost:8080/"
        },
        "outputId": "adeaf61a-cd68-4c52-abb6-3c17f1322844"
      },
      "source": [
        "index_lsi = similarities.Similarity('/content/index/index_lsi', lsi[bow_corpus], num_features=len(dictionary))"
      ],
      "execution_count": 72,
      "outputs": [
        {
          "output_type": "stream",
          "name": "stderr",
          "text": [
            "2021-11-29 18:41:06,307 : INFO : starting similarity index under /content/index/index_lsi\n"
          ]
        }
      ]
    },
    {
      "cell_type": "code",
      "metadata": {
        "id": "3saA6NY5Tzer"
      },
      "source": [
        "#index_lsi = similarities.SparseMatrixSimilarity(lsi[bow_corpus], num_features = len(dictionary))\n",
        "#index_lsi = similarities.MatrixSimilarity(lsi[bow_corpus])  # transform corpus to LSI space and index it\n"
      ],
      "execution_count": 73,
      "outputs": []
    },
    {
      "cell_type": "code",
      "metadata": {
        "colab": {
          "base_uri": "https://localhost:8080/"
        },
        "id": "F5pbDMVyfEtS",
        "outputId": "d20b1a36-949c-4105-b2fb-5ad453e06f82"
      },
      "source": [
        "lsi.save('/content/index/lsi.model')\n",
        "index_lsi.save('/content/index/lsi_matrixsim.index')\n"
      ],
      "execution_count": 74,
      "outputs": [
        {
          "output_type": "stream",
          "name": "stderr",
          "text": [
            "2021-11-29 18:41:06,873 : INFO : Projection lifecycle event {'fname_or_handle': '/content/index/lsi.model.projection', 'separately': 'None', 'sep_limit': 10485760, 'ignore': frozenset(), 'datetime': '2021-11-29T18:41:06.873612', 'gensim': '4.1.2', 'python': '3.7.12 (default, Sep 10 2021, 00:21:48) \\n[GCC 7.5.0]', 'platform': 'Linux-5.4.104+-x86_64-with-Ubuntu-18.04-bionic', 'event': 'saving'}\n",
            "2021-11-29 18:41:06,877 : INFO : saved /content/index/lsi.model.projection\n",
            "2021-11-29 18:41:06,880 : INFO : LsiModel lifecycle event {'fname_or_handle': '/content/index/lsi.model', 'separately': 'None', 'sep_limit': 10485760, 'ignore': ['projection', 'dispatcher'], 'datetime': '2021-11-29T18:41:06.880219', 'gensim': '4.1.2', 'python': '3.7.12 (default, Sep 10 2021, 00:21:48) \\n[GCC 7.5.0]', 'platform': 'Linux-5.4.104+-x86_64-with-Ubuntu-18.04-bionic', 'event': 'saving'}\n",
            "2021-11-29 18:41:06,883 : INFO : not storing attribute projection\n",
            "2021-11-29 18:41:06,886 : INFO : not storing attribute dispatcher\n",
            "2021-11-29 18:41:06,888 : INFO : saved /content/index/lsi.model\n",
            "2021-11-29 18:41:06,891 : INFO : creating matrix with 5199 documents and 60 features\n",
            "2021-11-29 18:41:06,906 : INFO : creating dense shard #0\n",
            "2021-11-29 18:41:06,909 : INFO : saving index shard to /content/index/index_lsi.0\n",
            "2021-11-29 18:41:06,911 : INFO : MatrixSimilarity lifecycle event {'fname_or_handle': '/content/index/index_lsi.0', 'separately': 'None', 'sep_limit': 10485760, 'ignore': frozenset(), 'datetime': '2021-11-29T18:41:06.911670', 'gensim': '4.1.2', 'python': '3.7.12 (default, Sep 10 2021, 00:21:48) \\n[GCC 7.5.0]', 'platform': 'Linux-5.4.104+-x86_64-with-Ubuntu-18.04-bionic', 'event': 'saving'}\n",
            "2021-11-29 18:41:06,917 : INFO : saved /content/index/index_lsi.0\n",
            "2021-11-29 18:41:06,919 : INFO : loading MatrixSimilarity object from /content/index/index_lsi.0\n",
            "2021-11-29 18:41:06,924 : INFO : MatrixSimilarity lifecycle event {'fname': '/content/index/index_lsi.0', 'datetime': '2021-11-29T18:41:06.924472', 'gensim': '4.1.2', 'python': '3.7.12 (default, Sep 10 2021, 00:21:48) \\n[GCC 7.5.0]', 'platform': 'Linux-5.4.104+-x86_64-with-Ubuntu-18.04-bionic', 'event': 'loaded'}\n",
            "2021-11-29 18:41:06,931 : INFO : Similarity lifecycle event {'fname_or_handle': '/content/index/lsi_matrixsim.index', 'separately': 'None', 'sep_limit': 10485760, 'ignore': frozenset(), 'datetime': '2021-11-29T18:41:06.931625', 'gensim': '4.1.2', 'python': '3.7.12 (default, Sep 10 2021, 00:21:48) \\n[GCC 7.5.0]', 'platform': 'Linux-5.4.104+-x86_64-with-Ubuntu-18.04-bionic', 'event': 'saving'}\n",
            "2021-11-29 18:41:06,940 : INFO : saved /content/index/lsi_matrixsim.index\n"
          ]
        }
      ]
    },
    {
      "cell_type": "code",
      "metadata": {
        "colab": {
          "base_uri": "https://localhost:8080/"
        },
        "id": "1udPIceqYk6S",
        "outputId": "720c10db-37df-49c7-ad23-7c6ae0fa0a6d"
      },
      "source": [
        "!ls -la /content/index"
      ],
      "execution_count": 75,
      "outputs": [
        {
          "output_type": "stream",
          "name": "stdout",
          "text": [
            "total 1608\n",
            "drwxr-xr-x 2 root root    4096 Nov 29 18:41 .\n",
            "drwxr-xr-x 1 root root    4096 Nov 29 18:40 ..\n",
            "-rw-r--r-- 1 root root 1248432 Nov 29 18:41 index_lsi.0\n",
            "-rw-r--r-- 1 root root     742 Nov 29 18:41 lsi_matrixsim.index\n",
            "-rw-r--r-- 1 root root    2434 Nov 29 18:41 lsi.model\n",
            "-rw-r--r-- 1 root root   29960 Nov 29 18:41 lsi.model.projection\n",
            "-rw-r--r-- 1 root root  340320 Nov 29 18:40 tfidf.index\n",
            "-rw-r--r-- 1 root root    2458 Nov 29 18:40 tfidf.model\n"
          ]
        }
      ]
    },
    {
      "cell_type": "markdown",
      "metadata": {
        "id": "u05KD64Ai1uo"
      },
      "source": [
        "## Tests"
      ]
    },
    {
      "cell_type": "markdown",
      "metadata": {
        "id": "pDxTCAGv9MmZ"
      },
      "source": [
        "### Test for single tunes"
      ]
    },
    {
      "cell_type": "code",
      "metadata": {
        "colab": {
          "base_uri": "https://localhost:8080/"
        },
        "id": "khASSJ1eEuf5",
        "outputId": "b70703af-739d-4180-ff83-6ea5e20a3c84"
      },
      "source": [
        "%%time\n",
        "df_sim = get_sim_scores(tunes_eval_list, index=index_lsi, model=lsi)\n",
        "\n",
        "# save a copy of the results; all results will be concatenated at the end\n",
        "df_lsi = df_sim[:]"
      ],
      "execution_count": 76,
      "outputs": [
        {
          "output_type": "stream",
          "name": "stdout",
          "text": [
            "\n",
            "--------------------------------------------------\n",
            "188 All God's Chillun Got Rhythm, section1 (A)\n",
            "189 All God's Chillun Got Rhythm, section2 (B)\n",
            "190 All God's Chillun Got Rhythm, section3 (A)\n",
            "191 All God's Chillun Got Rhythm, section4 (C)\n",
            "\n",
            "--------------------------------------------------\n",
            "198 All Of Me, section1 (A)\n",
            "199 All Of Me, section2 (B)\n",
            "200 All Of Me, section3 (A)\n",
            "201 All Of Me, section4 (C)\n",
            "\n",
            "--------------------------------------------------\n",
            "496 Blue Moon, section1 (A)\n",
            "497 Blue Moon, section2 (A)\n",
            "498 Blue Moon, section3 (B)\n",
            "499 Blue Moon, section4 (A)\n",
            "\n",
            "--------------------------------------------------\n",
            "653 Bye Bye Blackbird, section1 (A)\n",
            "654 Bye Bye Blackbird, section2 (B)\n",
            "\n",
            "--------------------------------------------------\n",
            "1220 Exactly Like You, section1 (A)\n",
            "1221 Exactly Like You, section2 (A)\n",
            "1222 Exactly Like You, section3 (B)\n",
            "1223 Exactly Like You, section4 (A)\n",
            "\n",
            "--------------------------------------------------\n",
            "1538 Honeysuckle Rose, section1 (A)\n",
            "1539 Honeysuckle Rose, section2 (A)\n",
            "1540 Honeysuckle Rose, section3 (B)\n",
            "1541 Honeysuckle Rose, section4 (A)\n",
            "\n",
            "--------------------------------------------------\n",
            "1647 I Got Rhythm, section1 (A)\n",
            "1648 I Got Rhythm, section2 (A)\n",
            "1649 I Got Rhythm, section3 (B)\n",
            "1650 I Got Rhythm, section4 (A)\n",
            "\n",
            "--------------------------------------------------\n",
            "2670 Misty, section1 (A)\n",
            "2671 Misty, section2 (A)\n",
            "2672 Misty, section3 (B)\n",
            "2673 Misty, section4 (A)\n",
            "\n",
            "--------------------------------------------------\n",
            "2857 Naima, section1 (A)\n",
            "2858 Naima, section2 (A)\n",
            "2859 Naima, section3 (B)\n",
            "2860 Naima, section4 (A)\n",
            "\n",
            "--------------------------------------------------\n",
            "4920 Old Fashioned Love, section0 (nan)\n",
            "\n",
            "--------------------------------------------------\n",
            "3006 On The Sunny Side Of The Street, section1 (A)\n",
            "3007 On The Sunny Side Of The Street, section2 (A)\n",
            "3008 On The Sunny Side Of The Street, section3 (B)\n",
            "3009 On The Sunny Side Of The Street, section4 (A)\n",
            "\n",
            "--------------------------------------------------\n",
            "3746 Sweet Sue, Just You, section1 (A)\n",
            "3747 Sweet Sue, Just You, section2 (A)\n",
            "3748 Sweet Sue, Just You, section3 (B)\n",
            "3749 Sweet Sue, Just You, section4 (A)\n",
            "\n",
            "--------------------------------------------------\n",
            "3860 These Foolish Things, section1 (A)\n",
            "3861 These Foolish Things, section2 (A)\n",
            "3862 These Foolish Things, section3 (B)\n",
            "3863 These Foolish Things, section4 (A)\n",
            "CPU times: user 11.3 s, sys: 4.82 s, total: 16.1 s\n",
            "Wall time: 11 s\n"
          ]
        }
      ]
    },
    {
      "cell_type": "code",
      "metadata": {
        "colab": {
          "base_uri": "https://localhost:8080/",
          "height": 542
        },
        "id": "X31lkvUsDAsU",
        "outputId": "a71ed86e-657b-4db2-96f1-34d79c4e28c0"
      },
      "source": [
        "import plotly.express as px\n",
        "fig = px.histogram(df_sim, x=\"score\", nbins=50, title='LSI Scores')\n",
        "fig.show()"
      ],
      "execution_count": 77,
      "outputs": [
        {
          "output_type": "display_data",
          "data": {
            "text/html": [
              "<html>\n",
              "<head><meta charset=\"utf-8\" /></head>\n",
              "<body>\n",
              "    <div>\n",
              "            <script src=\"https://cdnjs.cloudflare.com/ajax/libs/mathjax/2.7.5/MathJax.js?config=TeX-AMS-MML_SVG\"></script><script type=\"text/javascript\">if (window.MathJax) {MathJax.Hub.Config({SVG: {font: \"STIX-Web\"}});}</script>\n",
              "                <script type=\"text/javascript\">window.PlotlyConfig = {MathJaxConfig: 'local'};</script>\n",
              "        <script src=\"https://cdn.plot.ly/plotly-latest.min.js\"></script>    \n",
              "            <div id=\"62f85f2d-7eb7-48c0-9298-ea338bfeaee1\" class=\"plotly-graph-div\" style=\"height:525px; width:100%;\"></div>\n",
              "            <script type=\"text/javascript\">\n",
              "                \n",
              "                    window.PLOTLYENV=window.PLOTLYENV || {};\n",
              "                    \n",
              "                if (document.getElementById(\"62f85f2d-7eb7-48c0-9298-ea338bfeaee1\")) {\n",
              "                    Plotly.newPlot(\n",
              "                        '62f85f2d-7eb7-48c0-9298-ea338bfeaee1',\n",
              "                        [{\"alignmentgroup\": \"True\", \"bingroup\": \"x\", \"hoverlabel\": {\"namelength\": 0}, \"hovertemplate\": \"score=%{x}<br>count=%{y}\", \"legendgroup\": \"\", \"marker\": {\"color\": \"#636efa\"}, \"name\": \"\", \"nbinsx\": 50, \"offsetgroup\": \"\", \"orientation\": \"v\", \"showlegend\": false, \"type\": \"histogram\", \"x\": [0.9749999642372131, 0.9695896506309509, 0.968245804309845, 0.9561828374862671, 0.9560661315917969, 0.9560660123825073, 0.9547033309936523, 0.954594075679779, 0.9463399052619934, 0.9463399052619934, 0.9429277777671814, 0.9407529234886169, 0.9398255348205566, 0.9398254752159119, 0.9389711022377014, 0.9383150339126587, 0.9375000596046448, 0.9360566139221191, 0.9360566139221191, 0.9360565543174744, 0.9359708428382874, 0.9354142546653748, 0.9341287016868591, 0.9341285228729248, 0.932773232460022, 0.9284765720367432, 0.9284765720367432, 0.9282790422439575, 0.928077757358551, 0.928077757358551, 0.9280776977539062, 0.9309492707252502, 0.9013878107070923, 0.896643877029419, 0.8894991874694824, 0.8894991874694824, 0.8882311582565308, 0.8869684934616089, 0.8825225234031677, 0.8744746446609497, 0.8702853322029114, 0.8682432174682617, 0.8682431578636169, 0.8674724698066711, 0.8608284592628479, 0.8608283996582031, 0.8600261211395264, 0.8593378067016602, 0.8589844703674316, 0.8561728000640869, 0.8561728000640869, 0.8561728000640869, 0.8561727404594421, 0.8561726808547974, 0.8559210300445557, 0.8540167212486267, 0.8530422449111938, 0.8492078185081482, 0.8492077589035034, 0.8492077589035034, 0.8492076992988586, 0.8473184704780579, 0.9749999642372131, 0.9695896506309509, 0.968245804309845, 0.9561828374862671, 0.9560661315917969, 0.9560660123825073, 0.9547033309936523, 0.954594075679779, 0.9463399052619934, 0.9463399052619934, 0.9429277777671814, 0.9407529234886169, 0.9398255348205566, 0.9398254752159119, 0.9389711022377014, 0.9383150339126587, 0.9375000596046448, 0.9360566139221191, 0.9360566139221191, 0.9360565543174744, 0.9359708428382874, 0.9354142546653748, 0.9341287016868591, 0.9341285228729248, 0.932773232460022, 0.9284765720367432, 0.9284765720367432, 0.9282790422439575, 0.928077757358551, 0.928077757358551, 0.9280776977539062, 0.9503290057182312, 0.9503288269042969, 0.9499998092651367, 0.9486832618713379, 0.9315560460090637, 0.9302604794502258, 0.9296696782112122, 0.9219545125961304, 0.9219545125961304, 0.9219544529914856, 0.9203580617904663, 0.9192388653755188, 0.9135003089904785, 0.913500189781189, 0.9109802842140198, 0.9101914167404175, 0.9101912975311279, 0.9091547727584839, 0.9091547727584839, 0.9091547727584839, 0.9087388515472412, 0.9080252647399902, 0.9080251455307007, 0.9071147441864014, 0.9071147441864014, 0.9071147441864014, 0.9071146845817566, 0.9068453311920166, 0.9068453311920166, 0.906845211982727, 0.9057894945144653, 0.9622504115104675, 0.8944271802902222, 0.8944271802902222, 0.8944271802902222, 0.8749998807907104, 0.8728715181350708, 0.8660253882408142, 0.8660253882408142, 0.8660253286361694, 0.8574929237365723, 0.8512055277824402, 0.8488746881484985, 0.8488746881484985, 0.8488746285438538, 0.8486683368682861, 0.8463273048400879, 0.8461140990257263, 0.8401678800582886, 0.8391463756561279, 0.8391463756561279, 0.8360795974731445, 0.8356289267539978, 0.8320501446723938, 0.8320501446723938, 0.8249579071998596, 0.8249578475952148, 0.8249577283859253, 0.8249577283859253, 0.8164966106414795, 0.8164966106414795, 0.8164965510368347, 0.9660918116569519, 0.9561830163002014, 0.9449112415313721, 0.9354144334793091, 0.9354144334793091, 0.9354144334793091, 0.9354143142700195, 0.9331389665603638, 0.9331389665603638, 0.9258201122283936, 0.9116846323013306, 0.9083735942840576, 0.9074851870536804, 0.9074851870536804, 0.9041060209274292, 0.8970853090286255, 0.896421492099762, 0.8933249711990356, 0.8908708095550537, 0.8908708095550537, 0.8894992470741272, 0.8894992470741272, 0.867110013961792, 0.867110013961792, 0.867110013961792, 0.8583950996398926, 0.8583950400352478, 0.8583325743675232, 0.8583325147628784, 0.8571429252624512, 0.8571429252624512, 0.9622504115104675, 0.8944271802902222, 0.8944271802902222, 0.8944271802902222, 0.8749998807907104, 0.8728715181350708, 0.8660253882408142, 0.8660253882408142, 0.8660253286361694, 0.8574929237365723, 0.8512055277824402, 0.8488746881484985, 0.8488746881484985, 0.8488746285438538, 0.8486683368682861, 0.8463273048400879, 0.8461140990257263, 0.8401678800582886, 0.8391463756561279, 0.8391463756561279, 0.8360795974731445, 0.8356289267539978, 0.8320501446723938, 0.8320501446723938, 0.8249579071998596, 0.8249578475952148, 0.8249577283859253, 0.8249577283859253, 0.8164966106414795, 0.8164966106414795, 0.8164965510368347, 0.9770084619522095, 0.9331389665603638, 0.9285714030265808, 0.926561713218689, 0.9258201122283936, 0.918262243270874, 0.9134141802787781, 0.9104654788970947, 0.9104654788970947, 0.9086881875991821, 0.907264769077301, 0.9035079479217529, 0.8987170457839966, 0.8986451625823975, 0.8976656198501587, 0.8976655602455139, 0.8970852494239807, 0.8970851898193359, 0.8966531157493591, 0.8966531157493591, 0.8966333866119385, 0.8966333866119385, 0.8966333270072937, 0.8966333270072937, 0.895041286945343, 0.8934051394462585, 0.8933250904083252, 0.8916451930999756, 0.8916451930999756, 0.8910421133041382, 0.8910421133041382, 0.97826087474823, 0.9680038690567017, 0.9680038690567017, 0.9609864950180054, 0.9583727121353149, 0.956929087638855, 0.956929087638855, 0.9567298293113708, 0.9567298293113708, 0.9534071683883667, 0.953015148639679, 0.9517337679862976, 0.9515872597694397, 0.9508561491966248, 0.9497162103652954, 0.9497162103652954, 0.9486438632011414, 0.9486438035964966, 0.9486438035964966, 0.9480385184288025, 0.9473729133605957, 0.9455453753471375, 0.9455453753471375, 0.9443844556808472, 0.9430419206619263, 0.9430419206619263, 0.9421554207801819, 0.9418280124664307, 0.9409438967704773, 0.940570056438446, 0.940570056438446, 0.9276337027549744, 0.9261982440948486, 0.9180845618247986, 0.9180845618247986, 0.914090633392334, 0.9109357595443726, 0.9102991223335266, 0.9095085859298706, 0.9095085859298706, 0.9081082940101624, 0.9081081748008728, 0.9080252647399902, 0.904662549495697, 0.9007546901702881, 0.9007546901702881, 0.9002838730812073, 0.8978642225265503, 0.8973817825317383, 0.8973645567893982, 0.895607590675354, 0.895285964012146, 0.8951714634895325, 0.8932596445083618, 0.8926786780357361, 0.8926784992218018, 0.8917925953865051, 0.8911328315734863, 0.8911328315734863, 0.8911327123641968, 0.8892972469329834, 0.8892972469329834, 0.9284766912460327, 0.9143007397651672, 0.910980224609375, 0.9005004167556763, 0.8965517282485962, 0.8946300745010376, 0.8938528299331665, 0.8913376331329346, 0.8858184218406677, 0.8844477534294128, 0.8823399543762207, 0.882053017616272, 0.8817846775054932, 0.8791322708129883, 0.8778665065765381, 0.8778665065765381, 0.8754208087921143, 0.8753762245178223, 0.8727861046791077, 0.8725832104682922, 0.8719775676727295, 0.8718127608299255, 0.8703171014785767, 0.8703170418739319, 0.8703170418739319, 0.8703170418739319, 0.870022177696228, 0.8685104250907898, 0.8671485781669617, 0.8671485185623169, 0.8671485185623169, 0.97826087474823, 0.9680038690567017, 0.9680038690567017, 0.9609864950180054, 0.9583727121353149, 0.956929087638855, 0.956929087638855, 0.9567298293113708, 0.9567298293113708, 0.9534071683883667, 0.953015148639679, 0.9517337679862976, 0.9515872597694397, 0.9508561491966248, 0.9497162103652954, 0.9497162103652954, 0.9486438632011414, 0.9486438035964966, 0.9486438035964966, 0.9480385184288025, 0.9473729133605957, 0.9455453753471375, 0.9455453753471375, 0.9443844556808472, 0.9430419206619263, 0.9430419206619263, 0.9421554207801819, 0.9418280124664307, 0.9409438967704773, 0.940570056438446, 0.940570056438446, 0.9843090772628784, 0.9836212992668152, 0.9777750968933105, 0.9751579165458679, 0.9751579165458679, 0.9751579165458679, 0.9751579165458679, 0.9751579165458679, 0.9724150896072388, 0.9722036123275757, 0.9719411730766296, 0.9705231189727783, 0.9692704677581787, 0.9683641195297241, 0.9683641195297241, 0.9683641195297241, 0.9663777351379395, 0.9650870561599731, 0.9640127420425415, 0.9619721174240112, 0.9608386754989624, 0.9569488763809204, 0.9562594890594482, 0.9553254842758179, 0.9553254842758179, 0.9553254842758179, 0.9552973508834839, 0.9552973508834839, 0.9541301727294922, 0.9541301131248474, 0.9532414674758911, 0.9513312578201294, 0.9501319527626038, 0.9501192569732666, 0.9417287111282349, 0.9412097334861755, 0.9394094944000244, 0.9388056397438049, 0.9377429485321045, 0.9377429485321045, 0.9374333620071411, 0.9349288940429688, 0.9349288940429688, 0.934928834438324, 0.934928834438324, 0.9345024228096008, 0.934502363204956, 0.9331202507019043, 0.9331202507019043, 0.9331202507019043, 0.9331202507019043, 0.9331202507019043, 0.9320410490036011, 0.9315560460090637, 0.9311729073524475, 0.9301145672798157, 0.9299207925796509, 0.9297348856925964, 0.9297348260879517, 0.9294849634170532, 0.929254949092865, 0.9263103604316711, 0.9780191779136658, 0.9780191779136658, 0.9780191779136658, 0.9780191779136658, 0.9680038690567017, 0.9680038690567017, 0.9680038690567017, 0.9677978754043579, 0.9613049030303955, 0.9591662883758545, 0.9591662883758545, 0.9591662883758545, 0.9567297101020813, 0.95652174949646, 0.9555330872535706, 0.9555330872535706, 0.9550419449806213, 0.9542912840843201, 0.9542195796966553, 0.9533290266990662, 0.9517337679862976, 0.9504969120025635, 0.9477928280830383, 0.9471141695976257, 0.947045087814331, 0.9452130198478699, 0.9451119303703308, 0.9436285495758057, 0.9404987096786499, 0.9403906464576721, 0.938945472240448, 1.0, 1.0, 0.9796082377433777, 0.9642365574836731, 0.9629139304161072, 0.9629139304161072, 0.9629139304161072, 0.9622504711151123, 0.9622504711151123, 0.954785943031311, 0.954785943031311, 0.954785943031311, 0.954785943031311, 0.9523259401321411, 0.9491580128669739, 0.948122501373291, 0.9476128816604614, 0.9470327496528625, 0.9467293620109558, 0.9465135931968689, 0.9449112415313721, 0.9444445371627808, 0.943755567073822, 0.9434255957603455, 0.9428091645240784, 0.9428091049194336, 0.9428090453147888, 0.9428090453147888, 0.9428090453147888, 0.942808985710144, 0.9414849281311035, 0.9128708839416504, 0.9109801054000854, 0.8989331126213074, 0.8970852494239807, 0.8970852494239807, 0.8952738046646118, 0.8952738046646118, 0.8914003968238831, 0.8885233402252197, 0.887125551700592, 0.8856149315834045, 0.885270357131958, 0.8807710409164429, 0.8807709217071533, 0.8783100843429565, 0.8767139911651611, 0.8728716373443604, 0.8728716373443604, 0.86722731590271, 0.8662300109863281, 0.8662300109863281, 0.8662300109863281, 0.866025447845459, 0.866025447845459, 0.8660253286361694, 0.8631113171577454, 0.8630339503288269, 0.8614110946655273, 0.8608283996582031, 0.8608283996582031, 0.8608283996582031, 0.9780191779136658, 0.9780191779136658, 0.9780191779136658, 0.9780191779136658, 0.9680038690567017, 0.9680038690567017, 0.9680038690567017, 0.9677978754043579, 0.9613049030303955, 0.9591662883758545, 0.9591662883758545, 0.9591662883758545, 0.9567297101020813, 0.95652174949646, 0.9555330872535706, 0.9555330872535706, 0.9550419449806213, 0.9542912840843201, 0.9542195796966553, 0.9533290266990662, 0.9517337679862976, 0.9504969120025635, 0.9477928280830383, 0.9471141695976257, 0.947045087814331, 0.9452130198478699, 0.9451119303703308, 0.9436285495758057, 0.9404987096786499, 0.9403906464576721, 0.938945472240448, 0.9767817258834839, 0.9675326943397522, 0.9635460376739502, 0.9621403813362122, 0.9603921175003052, 0.9596788883209229, 0.9594032764434814, 0.9534626603126526, 0.9534626603126526, 0.953230619430542, 0.9493858814239502, 0.9489284753799438, 0.9489284753799438, 0.9489284753799438, 0.9489284753799438, 0.9489284753799438, 0.9486832618713379, 0.9463774561882019, 0.9436285495758057, 0.9430054426193237, 0.9429904222488403, 0.9429904222488403, 0.9429901838302612, 0.9408842325210571, 0.940019428730011, 0.939148485660553, 0.9389861226081848, 0.9389861226081848, 0.9389861226081848, 0.9389711022377014, 0.9389710426330566, 0.9765536189079285, 0.9750854969024658, 0.9749134182929993, 0.9749134182929993, 0.9749134182929993, 0.9723448157310486, 0.9723448157310486, 0.9716054797172546, 0.970725417137146, 0.9673306941986084, 0.9673306941986084, 0.9609277248382568, 0.9607689380645752, 0.9607689380645752, 0.9607689380645752, 0.9578134417533875, 0.9575176239013672, 0.9553170204162598, 0.9542196393013, 0.9534240961074829, 0.9529256820678711, 0.9518744945526123, 0.9516486525535583, 0.9516486525535583, 0.9516486525535583, 0.9516485929489136, 0.9516485929489136, 0.9516485929489136, 0.9516485929489136, 0.9516485929489136, 0.9510343074798584, 1.0, 1.0, 1.0, 1.0, 1.0, 1.0, 1.0, 1.0, 0.9701425433158875, 0.9701424837112427, 0.9354143142700195, 0.9354143142700195, 0.9354143142700195, 0.9354143142700195, 0.9176629185676575, 0.8944271802902222, 0.8750001192092896, 0.875, 0.866025447845459, 0.8660253882408142, 0.8660253882408142, 0.8504199981689453, 0.8498365879058838, 0.8333333730697632, 0.8320502638816833, 0.8320502042770386, 0.8249579668045044, 0.8164966106414795, 0.8164966106414795, 0.8126046657562256, 0.8111474514007568, 0.9767817258834839, 0.9675326943397522, 0.9635460376739502, 0.9621403813362122, 0.9603921175003052, 0.9596788883209229, 0.9594032764434814, 0.9534626603126526, 0.9534626603126526, 0.953230619430542, 0.9493858814239502, 0.9489284753799438, 0.9489284753799438, 0.9489284753799438, 0.9489284753799438, 0.9489284753799438, 0.9486832618713379, 0.9463774561882019, 0.9436285495758057, 0.9430054426193237, 0.9429904222488403, 0.9429904222488403, 0.9429901838302612, 0.9408842325210571, 0.940019428730011, 0.939148485660553, 0.9389861226081848, 0.9389861226081848, 0.9389861226081848, 0.9389711022377014, 0.9389710426330566, 0.9271050095558167, 0.9233804941177368, 0.9233804941177368, 0.923380434513092, 0.9223308563232422, 0.9185585975646973, 0.9150798916816711, 0.9091922044754028, 0.9086881875991821, 0.9086881279945374, 0.9068453311920166, 0.9068453311920166, 0.9068453311920166, 0.9068453311920166, 0.9067236185073853, 0.9057894945144653, 0.9057257175445557, 0.9057255983352661, 0.9036961793899536, 0.9036961793899536, 0.903642475605011, 0.9035078883171082, 0.9027075171470642, 0.9004502892494202, 0.9000000953674316, 0.8992519378662109, 0.8977310061454773, 0.8977310061454773, 0.8959787487983704, 0.8959787487983704, 0.8959787487983704, 0.9318910837173462, 0.9318910837173462, 0.9318910241127014, 0.9284142255783081, 0.9239885210990906, 0.9214064478874207, 0.918531596660614, 0.918531596660614, 0.918531596660614, 0.913266122341156, 0.9121593236923218, 0.912159264087677, 0.9082950353622437, 0.907442569732666, 0.9036519527435303, 0.9014202952384949, 0.8994012475013733, 0.8994012475013733, 0.8994012475013733, 0.8994011878967285, 0.8983222246170044, 0.8971499800682068, 0.895622193813324, 0.892709493637085, 0.892413318157196, 0.8924131989479065, 0.892268717288971, 0.892268717288971, 0.8922685980796814, 0.8922268152236938, 0.8919914364814758, 1.0, 1.0, 1.0, 1.0, 1.0, 1.0, 1.0, 1.0, 1.0, 1.0, 1.0, 1.0, 1.0, 1.0, 1.0, 1.0, 1.0, 1.0, 1.0, 1.0, 1.0, 1.0, 0.981980562210083, 0.9701424837112427, 0.9594032764434814, 0.944444477558136, 0.9354144334793091, 0.9354143142700195, 0.9176629781723022, 0.9036961793899536, 0.8872441649436951, 0.9504969120025635, 0.9495629072189331, 0.9428291320800781, 0.9428291320800781, 0.9428291320800781, 0.9428291320800781, 0.9415244460105896, 0.9306779503822327, 0.9306631088256836, 0.9304842352867126, 0.9304842352867126, 0.9304841160774231, 0.9304841160774231, 0.9243422746658325, 0.9210565686225891, 0.9210565686225891, 0.9187794923782349, 0.9186932444572449, 0.9173650145530701, 0.9173650145530701, 0.9173650145530701, 0.9163298606872559, 0.9163298606872559, 0.9154754877090454, 0.9150522351264954, 0.9150521755218506, 0.9150521755218506, 0.9143939018249512, 0.9143938422203064, 0.9141044616699219, 0.9137173295021057, 0.9746794700622559, 0.9550230503082275, 0.953462541103363, 0.9486833810806274, 0.9486832022666931, 0.9467291831970215, 0.9449111223220825, 0.9341986179351807, 0.9316950440406799, 0.9316949844360352, 0.9316949844360352, 0.9316949844360352, 0.9316949248313904, 0.9315560460090637, 0.9296697378158569, 0.9237023591995239, 0.9237022995948792, 0.9237022995948792, 0.9237022399902344, 0.9237022399902344, 0.9216354489326477, 0.9209109544754028, 0.9203580021858215, 0.9203580021858215, 0.9203579425811768, 0.9190182685852051, 0.9170604944229126, 0.9141741991043091, 0.9135003685951233, 0.9135003089904785, 0.9135002493858337, 0.9574271440505981, 0.9486834406852722, 0.9449111819267273, 0.942808985710144, 0.941596269607544, 0.9298988580703735, 0.9244734048843384, 0.9238697290420532, 0.9223310351371765, 0.9185587167739868, 0.9185585975646973, 0.9141378998756409, 0.9141378998756409, 0.9141377806663513, 0.9138599038124084, 0.9131712317466736, 0.9128710031509399, 0.9128710031509399, 0.9128710031509399, 0.9128710031509399, 0.9128710031509399, 0.9128708839416504, 0.9128708839416504, 0.9112957715988159, 0.9112957119941711, 0.9112957119941711, 0.910345733165741, 0.9097176790237427, 0.9097176790237427, 0.9082950353622437, 0.9072185158729553, 0.8682432174682617, 0.8362419605255127, 0.8278374671936035, 0.8278374075889587, 0.8006407618522644, 0.8006407022476196, 0.8006407022476196, 0.789352297782898, 0.789352297782898, 0.7844645977020264, 0.769230842590332, 0.7692307829856873, 0.7627127766609192, 0.7627127766609192, 0.7614995837211609, 0.7526178359985352, 0.7518094778060913, 0.7518093585968018, 0.7472647428512573, 0.7433851957321167, 0.7412493228912354, 0.7412493228912354, 0.7412493228912354, 0.7412493228912354, 0.7399401068687439, 0.7399400472640991, 0.7396003007888794, 0.7354355454444885, 0.7354355454444885, 0.7354355454444885, 0.7282020449638367, 0.9565218091011047, 0.9565218091011047, 0.9498989582061768, 0.9457324743270874, 0.9451747536659241, 0.944369912147522, 0.94374018907547, 0.94374018907547, 0.94374018907547, 0.9383846521377563, 0.9383148550987244, 0.9363821148872375, 0.9363821148872375, 0.9348927736282349, 0.9337990880012512, 0.9337990880012512, 0.933563768863678, 0.9325048327445984, 0.9325048327445984, 0.9325048327445984, 0.9325047731399536, 0.9308956265449524, 0.9292836785316467, 0.9292836785316467, 0.9274376630783081, 0.9267343878746033, 0.9255480170249939, 0.9231326580047607, 0.9229581952095032, 0.9223132729530334, 0.921512246131897, 0.7893522381782532, 0.7682732939720154, 0.7627700567245483, 0.7627700567245483, 0.7378648519515991, 0.7378648519515991, 0.730296790599823, 0.7302967309951782, 0.7181848883628845, 0.7181848883628845, 0.7181848883628845, 0.71611487865448, 0.7046642899513245, 0.7046642899513245, 0.7046642899513245, 0.7000000476837158, 0.6885303854942322, 0.6761233806610107, 0.675139844417572, 0.670820415019989, 0.6708203554153442, 0.6708203554153442, 0.6643638610839844, 0.6529285907745361, 0.6527534127235413, 0.6507914066314697, 0.6425754427909851, 0.6404447555541992, 0.6368938684463501, 0.6368814706802368, 0.632455587387085, 0.7893522381782532, 0.7682732939720154, 0.7627700567245483, 0.7627700567245483, 0.7378648519515991, 0.7378648519515991, 0.730296790599823, 0.7302967309951782, 0.7181848883628845, 0.7181848883628845, 0.7181848883628845, 0.71611487865448, 0.7046642899513245, 0.7046642899513245, 0.7046642899513245, 0.7000000476837158, 0.6885303854942322, 0.6761233806610107, 0.675139844417572, 0.670820415019989, 0.6708203554153442, 0.6708203554153442, 0.6643638610839844, 0.6529285907745361, 0.6527534127235413, 0.6507914066314697, 0.6425754427909851, 0.6404447555541992, 0.6368938684463501, 0.6368814706802368, 0.632455587387085, 0.7427812814712524, 0.7115124464035034, 0.6875, 0.6859943270683289, 0.6717514991760254, 0.6495190858840942, 0.6495189666748047, 0.64549720287323, 0.6324555277824402, 0.6308932304382324, 0.6308932304382324, 0.6240377426147461, 0.6172133684158325, 0.6123723983764648, 0.6098575592041016, 0.6035099029541016, 0.6030226945877075, 0.6030226945877075, 0.5908789038658142, 0.5892555713653564, 0.588348388671875, 0.588348388671875, 0.5863019824028015, 0.5863019824028015, 0.5863019824028015, 0.565752387046814, 0.561341404914856, 0.5604485273361206, 0.5573704242706299, 0.553398609161377, 0.5393193364143372, 0.8403582572937012, 0.8403582572937012, 0.8403582572937012, 0.8355044722557068, 0.8355044722557068, 0.8109307289123535, 0.8109307289123535, 0.8109307289123535, 0.8109307289123535, 0.8109307289123535, 0.8109307289123535, 0.797414243221283, 0.7912565469741821, 0.7858682870864868, 0.7815475463867188, 0.7804217338562012, 0.7804217338562012, 0.7804217338562012, 0.7804217338562012, 0.7802714705467224, 0.7802714705467224, 0.7779698371887207, 0.774225115776062, 0.7695302367210388, 0.7679476737976074, 0.7675660848617554, 0.7673122882843018, 0.7656165957450867, 0.7647885084152222, 0.7634849548339844, 0.7622516751289368, 0.9787957072257996, 0.9640348553657532, 0.9633800387382507, 0.9621024131774902, 0.9621024131774902, 0.9621024131774902, 0.9558526277542114, 0.955649733543396, 0.9537877440452576, 0.9511599540710449, 0.950849711894989, 0.9507505297660828, 0.9501462578773499, 0.9501462578773499, 0.948979914188385, 0.9488522410392761, 0.9476814270019531, 0.9473466277122498, 0.9456577301025391, 0.9447560906410217, 0.943439245223999, 0.941235363483429, 0.9409592747688293, 0.9405804872512817, 0.9405161142349243, 0.939900815486908, 0.939900815486908, 0.939900815486908, 0.9385018348693848, 0.9379648566246033, 0.9378901720046997, 0.9526610374450684, 0.9163419008255005, 0.9163419008255005, 0.9116844534873962, 0.9091372489929199, 0.906424880027771, 0.9047619104385376, 0.9014979004859924, 0.9014410376548767, 0.9014410376548767, 0.9011271595954895, 0.9011270999908447, 0.9011270999908447, 0.9008851051330566, 0.8997354507446289, 0.8987170457839966, 0.8981773853302002, 0.8970852494239807, 0.8931976556777954, 0.8921425342559814, 0.8914850354194641, 0.8914850354194641, 0.8914850354194641, 0.8908708095550537, 0.8908708095550537, 0.8908708095550537, 0.888255774974823, 0.8882347941398621, 0.8872442245483398, 0.8865466117858887, 0.8864051699638367, 0.9524850249290466, 0.92490553855896, 0.924388587474823, 0.9128709435462952, 0.9026710391044617, 0.9017000794410706, 0.8944272994995117, 0.8944272994995117, 0.8944272994995117, 0.8944271802902222, 0.8944271206855774, 0.8898888826370239, 0.8892972469329834, 0.8891811966896057, 0.8890008926391602, 0.8890008330345154, 0.8846518397331238, 0.8838835954666138, 0.883883535861969, 0.8819171190261841, 0.8819170594215393, 0.8787497282028198, 0.8767945170402527, 0.8751899600028992, 0.8750000596046448, 0.8743856549263, 0.8743856549263, 0.8728715777397156, 0.8709297180175781, 0.8705715537071228, 0.8703881502151489, 1.0, 0.9647638201713562, 0.9534626007080078, 0.9534626007080078, 0.9438798427581787, 0.9128710031509399, 0.9128708839416504, 0.9128708839416504, 0.9128708839416504, 0.9128708839416504, 0.9128708839416504, 0.9087389707565308, 0.9036961793899536, 0.9036961793899536, 0.8999999761581421, 0.8999999761581421, 0.8944272398948669, 0.8944271802902222, 0.8854377269744873, 0.8854377269744873, 0.8808304071426392, 0.8807710409164429, 0.8770580291748047, 0.8764597773551941, 0.8720815777778625, 0.870571494102478, 0.870571494102478, 0.8696264028549194, 0.8696262836456299, 0.8552359342575073, 0.851942777633667, 0.9614553451538086, 0.9578414559364319, 0.9435937404632568, 0.9385905861854553, 0.9274415373802185, 0.9258201718330383, 0.9182090163230896, 0.9162538647651672, 0.9150181412696838, 0.9143369197845459, 0.9116846323013306, 0.9100314378738403, 0.9091373682022095, 0.9091372489929199, 0.9091057181358337, 0.9074852466583252, 0.9047619104385376, 0.9044742584228516, 0.9014410376548767, 0.9014410376548767, 0.9014409780502319, 0.9011270999908447, 0.9011270999908447, 0.9002982974052429, 0.9001488089561462, 0.8987169861793518, 0.8981773853302002, 0.8970852494239807, 0.8970852494239807, 0.8970852494239807, 0.8970852494239807, 1.0, 1.0, 1.0, 1.0, 1.0, 1.0, 1.0, 1.0, 1.0, 1.0, 1.0, 1.0, 1.0, 1.0, 0.9960237145423889, 0.991836667060852, 0.991836667060852, 0.985527515411377, 0.985527515411377, 0.9855274558067322, 0.9855274558067322, 0.9855274558067322, 0.9847320318222046, 0.9847318530082703, 0.9847318530082703, 0.9841198325157166, 0.9829463958740234, 0.9805806279182434, 0.9801961183547974, 0.9799577593803406, 0.9797959327697754, 1.0, 1.0, 1.0, 1.0, 1.0, 1.0, 1.0, 1.0, 1.0, 1.0, 1.0, 1.0, 1.0, 1.0, 0.9960237145423889, 0.991836667060852, 0.991836667060852, 0.985527515411377, 0.985527515411377, 0.9855274558067322, 0.9855274558067322, 0.9855274558067322, 0.9847320318222046, 0.9847318530082703, 0.9847318530082703, 0.9841198325157166, 0.9829463958740234, 0.9805806279182434, 0.9801961183547974, 0.9799577593803406, 0.9797959327697754, 0.8406727313995361, 0.8333332538604736, 0.8333332538604736, 0.8198915719985962, 0.8179128766059875, 0.8164966106414795, 0.8017836809158325, 0.8017836809158325, 0.8006408214569092, 0.7947194576263428, 0.7938566207885742, 0.7905694246292114, 0.7879669666290283, 0.7825080156326294, 0.7777777910232544, 0.7745966911315918, 0.771516740322113, 0.766032338142395, 0.7637625932693481, 0.7593263387680054, 0.7593263387680054, 0.7505552768707275, 0.7504787445068359, 0.75, 0.75, 0.75, 0.75, 0.75, 0.75, 0.749268651008606, 0.7469136714935303, 1.0, 1.0, 1.0, 1.0, 1.0, 1.0, 1.0, 1.0, 1.0, 1.0, 1.0, 1.0, 1.0, 1.0, 0.9960237145423889, 0.991836667060852, 0.991836667060852, 0.985527515411377, 0.985527515411377, 0.9855274558067322, 0.9855274558067322, 0.9855274558067322, 0.9847320318222046, 0.9847318530082703, 0.9847318530082703, 0.9841198325157166, 0.9829463958740234, 0.9805806279182434, 0.9801961183547974, 0.9799577593803406, 0.9797959327697754, 0.9546687006950378, 0.9525009989738464, 0.9525009989738464, 0.9519715309143066, 0.9519715309143066, 0.9422230124473572, 0.9354143142700195, 0.9274260401725769, 0.9268550872802734, 0.9263021349906921, 0.9263020753860474, 0.925819993019104, 0.9228394627571106, 0.9207509160041809, 0.9207509160041809, 0.9207369685173035, 0.919238805770874, 0.919238805770874, 0.9191449284553528, 0.9191449284553528, 0.918710470199585, 0.9181762337684631, 0.9176628589630127, 0.9166666865348816, 0.9165785312652588, 0.9165785312652588, 0.9149914383888245, 0.9148908257484436, 0.9141378402709961, 0.9139077663421631, 0.9133462309837341, 0.972305417060852, 0.9548635482788086, 0.9548635482788086, 0.921954333782196, 0.9117647409439087, 0.9115636348724365, 0.9115045666694641, 0.9109357595443726, 0.9106417894363403, 0.910641610622406, 0.9101821184158325, 0.910181999206543, 0.9101819396018982, 0.9095085263252258, 0.9081082344055176, 0.9074850678443909, 0.906869649887085, 0.9068695902824402, 0.9049357175827026, 0.9049034118652344, 0.9038769602775574, 0.8997354507446289, 0.899181604385376, 0.8990275263786316, 0.8986451625823975, 0.8986451029777527, 0.8981252312660217, 0.8978641629219055, 0.8973645567893982, 0.8958086967468262, 0.8956220746040344, 0.9165151119232178, 0.8954429626464844, 0.8759957551956177, 0.8246212005615234, 0.8164966106414795, 0.8082903623580933, 0.803326427936554, 0.800000011920929, 0.800000011920929, 0.7923547625541687, 0.790263295173645, 0.7855844497680664, 0.7794228792190552, 0.7786628007888794, 0.7778174877166748, 0.7765802145004272, 0.7761139869689941, 0.7745966911315918, 0.7724716663360596, 0.7715167999267578, 0.7666982412338257, 0.7666981220245361, 0.7615773677825928, 0.7602630853652954, 0.7602630853652954, 0.7559289336204529, 0.7543423175811768, 0.7542471885681152, 0.7521398067474365, 0.7506518959999084, 0.75, 0.9747546315193176, 0.9747546315193176, 0.9667962193489075, 0.9587094187736511, 0.9518173336982727, 0.9518173336982727, 0.9509797096252441, 0.9496714472770691, 0.9476781487464905, 0.943701446056366, 0.9428713917732239, 0.9428473711013794, 0.942082405090332, 0.9416365623474121, 0.9401746988296509, 0.9364181756973267, 0.934685230255127, 0.9341986775398254, 0.9337221384048462, 0.9328736066818237, 0.9322980046272278, 0.9320952892303467, 0.9318183064460754, 0.9318181872367859, 0.9312905669212341, 0.9307578802108765, 0.9307578206062317, 0.9304841756820679, 0.9304841160774231, 0.9303739070892334, 0.9303739070892334], \"xaxis\": \"x\", \"yaxis\": \"y\"}],\n",
              "                        {\"barmode\": \"relative\", \"legend\": {\"tracegroupgap\": 0}, \"template\": {\"data\": {\"bar\": [{\"error_x\": {\"color\": \"#2a3f5f\"}, \"error_y\": {\"color\": \"#2a3f5f\"}, \"marker\": {\"line\": {\"color\": \"#E5ECF6\", \"width\": 0.5}}, \"type\": \"bar\"}], \"barpolar\": [{\"marker\": {\"line\": {\"color\": \"#E5ECF6\", \"width\": 0.5}}, \"type\": \"barpolar\"}], \"carpet\": [{\"aaxis\": {\"endlinecolor\": \"#2a3f5f\", \"gridcolor\": \"white\", \"linecolor\": \"white\", \"minorgridcolor\": \"white\", \"startlinecolor\": \"#2a3f5f\"}, \"baxis\": {\"endlinecolor\": \"#2a3f5f\", \"gridcolor\": \"white\", \"linecolor\": \"white\", \"minorgridcolor\": \"white\", \"startlinecolor\": \"#2a3f5f\"}, \"type\": \"carpet\"}], \"choropleth\": [{\"colorbar\": {\"outlinewidth\": 0, \"ticks\": \"\"}, \"type\": \"choropleth\"}], \"contour\": [{\"colorbar\": {\"outlinewidth\": 0, \"ticks\": \"\"}, \"colorscale\": [[0.0, \"#0d0887\"], [0.1111111111111111, \"#46039f\"], [0.2222222222222222, \"#7201a8\"], [0.3333333333333333, \"#9c179e\"], [0.4444444444444444, \"#bd3786\"], [0.5555555555555556, \"#d8576b\"], [0.6666666666666666, \"#ed7953\"], [0.7777777777777778, \"#fb9f3a\"], [0.8888888888888888, \"#fdca26\"], [1.0, \"#f0f921\"]], \"type\": \"contour\"}], \"contourcarpet\": [{\"colorbar\": {\"outlinewidth\": 0, \"ticks\": \"\"}, \"type\": \"contourcarpet\"}], \"heatmap\": [{\"colorbar\": {\"outlinewidth\": 0, \"ticks\": \"\"}, \"colorscale\": [[0.0, \"#0d0887\"], [0.1111111111111111, \"#46039f\"], [0.2222222222222222, \"#7201a8\"], [0.3333333333333333, \"#9c179e\"], [0.4444444444444444, \"#bd3786\"], [0.5555555555555556, \"#d8576b\"], [0.6666666666666666, \"#ed7953\"], [0.7777777777777778, \"#fb9f3a\"], [0.8888888888888888, \"#fdca26\"], [1.0, \"#f0f921\"]], \"type\": \"heatmap\"}], \"heatmapgl\": [{\"colorbar\": {\"outlinewidth\": 0, \"ticks\": \"\"}, \"colorscale\": [[0.0, \"#0d0887\"], [0.1111111111111111, \"#46039f\"], [0.2222222222222222, \"#7201a8\"], [0.3333333333333333, \"#9c179e\"], [0.4444444444444444, \"#bd3786\"], [0.5555555555555556, \"#d8576b\"], [0.6666666666666666, \"#ed7953\"], [0.7777777777777778, \"#fb9f3a\"], [0.8888888888888888, \"#fdca26\"], [1.0, \"#f0f921\"]], \"type\": \"heatmapgl\"}], \"histogram\": [{\"marker\": {\"colorbar\": {\"outlinewidth\": 0, \"ticks\": \"\"}}, \"type\": \"histogram\"}], \"histogram2d\": [{\"colorbar\": {\"outlinewidth\": 0, \"ticks\": \"\"}, \"colorscale\": [[0.0, \"#0d0887\"], [0.1111111111111111, \"#46039f\"], [0.2222222222222222, \"#7201a8\"], [0.3333333333333333, \"#9c179e\"], [0.4444444444444444, \"#bd3786\"], [0.5555555555555556, \"#d8576b\"], [0.6666666666666666, \"#ed7953\"], [0.7777777777777778, \"#fb9f3a\"], [0.8888888888888888, \"#fdca26\"], [1.0, \"#f0f921\"]], \"type\": \"histogram2d\"}], \"histogram2dcontour\": [{\"colorbar\": {\"outlinewidth\": 0, \"ticks\": \"\"}, \"colorscale\": [[0.0, \"#0d0887\"], [0.1111111111111111, \"#46039f\"], [0.2222222222222222, \"#7201a8\"], [0.3333333333333333, \"#9c179e\"], [0.4444444444444444, \"#bd3786\"], [0.5555555555555556, \"#d8576b\"], [0.6666666666666666, \"#ed7953\"], [0.7777777777777778, \"#fb9f3a\"], [0.8888888888888888, \"#fdca26\"], [1.0, \"#f0f921\"]], \"type\": \"histogram2dcontour\"}], \"mesh3d\": [{\"colorbar\": {\"outlinewidth\": 0, \"ticks\": \"\"}, \"type\": \"mesh3d\"}], \"parcoords\": [{\"line\": {\"colorbar\": {\"outlinewidth\": 0, \"ticks\": \"\"}}, \"type\": \"parcoords\"}], \"pie\": [{\"automargin\": true, \"type\": \"pie\"}], \"scatter\": [{\"marker\": {\"colorbar\": {\"outlinewidth\": 0, \"ticks\": \"\"}}, \"type\": \"scatter\"}], \"scatter3d\": [{\"line\": {\"colorbar\": {\"outlinewidth\": 0, \"ticks\": \"\"}}, \"marker\": {\"colorbar\": {\"outlinewidth\": 0, \"ticks\": \"\"}}, \"type\": \"scatter3d\"}], \"scattercarpet\": [{\"marker\": {\"colorbar\": {\"outlinewidth\": 0, \"ticks\": \"\"}}, \"type\": \"scattercarpet\"}], \"scattergeo\": [{\"marker\": {\"colorbar\": {\"outlinewidth\": 0, \"ticks\": \"\"}}, \"type\": \"scattergeo\"}], \"scattergl\": [{\"marker\": {\"colorbar\": {\"outlinewidth\": 0, \"ticks\": \"\"}}, \"type\": \"scattergl\"}], \"scattermapbox\": [{\"marker\": {\"colorbar\": {\"outlinewidth\": 0, \"ticks\": \"\"}}, \"type\": \"scattermapbox\"}], \"scatterpolar\": [{\"marker\": {\"colorbar\": {\"outlinewidth\": 0, \"ticks\": \"\"}}, \"type\": \"scatterpolar\"}], \"scatterpolargl\": [{\"marker\": {\"colorbar\": {\"outlinewidth\": 0, \"ticks\": \"\"}}, \"type\": \"scatterpolargl\"}], \"scatterternary\": [{\"marker\": {\"colorbar\": {\"outlinewidth\": 0, \"ticks\": \"\"}}, \"type\": \"scatterternary\"}], \"surface\": [{\"colorbar\": {\"outlinewidth\": 0, \"ticks\": \"\"}, \"colorscale\": [[0.0, \"#0d0887\"], [0.1111111111111111, \"#46039f\"], [0.2222222222222222, \"#7201a8\"], [0.3333333333333333, \"#9c179e\"], [0.4444444444444444, \"#bd3786\"], [0.5555555555555556, \"#d8576b\"], [0.6666666666666666, \"#ed7953\"], [0.7777777777777778, \"#fb9f3a\"], [0.8888888888888888, \"#fdca26\"], [1.0, \"#f0f921\"]], \"type\": \"surface\"}], \"table\": [{\"cells\": {\"fill\": {\"color\": \"#EBF0F8\"}, \"line\": {\"color\": \"white\"}}, \"header\": {\"fill\": {\"color\": \"#C8D4E3\"}, \"line\": {\"color\": \"white\"}}, \"type\": \"table\"}]}, \"layout\": {\"annotationdefaults\": {\"arrowcolor\": \"#2a3f5f\", \"arrowhead\": 0, \"arrowwidth\": 1}, \"coloraxis\": {\"colorbar\": {\"outlinewidth\": 0, \"ticks\": \"\"}}, \"colorscale\": {\"diverging\": [[0, \"#8e0152\"], [0.1, \"#c51b7d\"], [0.2, \"#de77ae\"], [0.3, \"#f1b6da\"], [0.4, \"#fde0ef\"], [0.5, \"#f7f7f7\"], [0.6, \"#e6f5d0\"], [0.7, \"#b8e186\"], [0.8, \"#7fbc41\"], [0.9, \"#4d9221\"], [1, \"#276419\"]], \"sequential\": [[0.0, \"#0d0887\"], [0.1111111111111111, \"#46039f\"], [0.2222222222222222, \"#7201a8\"], [0.3333333333333333, \"#9c179e\"], [0.4444444444444444, \"#bd3786\"], [0.5555555555555556, \"#d8576b\"], [0.6666666666666666, \"#ed7953\"], [0.7777777777777778, \"#fb9f3a\"], [0.8888888888888888, \"#fdca26\"], [1.0, \"#f0f921\"]], \"sequentialminus\": [[0.0, \"#0d0887\"], [0.1111111111111111, \"#46039f\"], [0.2222222222222222, \"#7201a8\"], [0.3333333333333333, \"#9c179e\"], [0.4444444444444444, \"#bd3786\"], [0.5555555555555556, \"#d8576b\"], [0.6666666666666666, \"#ed7953\"], [0.7777777777777778, \"#fb9f3a\"], [0.8888888888888888, \"#fdca26\"], [1.0, \"#f0f921\"]]}, \"colorway\": [\"#636efa\", \"#EF553B\", \"#00cc96\", \"#ab63fa\", \"#FFA15A\", \"#19d3f3\", \"#FF6692\", \"#B6E880\", \"#FF97FF\", \"#FECB52\"], \"font\": {\"color\": \"#2a3f5f\"}, \"geo\": {\"bgcolor\": \"white\", \"lakecolor\": \"white\", \"landcolor\": \"#E5ECF6\", \"showlakes\": true, \"showland\": true, \"subunitcolor\": \"white\"}, \"hoverlabel\": {\"align\": \"left\"}, \"hovermode\": \"closest\", \"mapbox\": {\"style\": \"light\"}, \"paper_bgcolor\": \"white\", \"plot_bgcolor\": \"#E5ECF6\", \"polar\": {\"angularaxis\": {\"gridcolor\": \"white\", \"linecolor\": \"white\", \"ticks\": \"\"}, \"bgcolor\": \"#E5ECF6\", \"radialaxis\": {\"gridcolor\": \"white\", \"linecolor\": \"white\", \"ticks\": \"\"}}, \"scene\": {\"xaxis\": {\"backgroundcolor\": \"#E5ECF6\", \"gridcolor\": \"white\", \"gridwidth\": 2, \"linecolor\": \"white\", \"showbackground\": true, \"ticks\": \"\", \"zerolinecolor\": \"white\"}, \"yaxis\": {\"backgroundcolor\": \"#E5ECF6\", \"gridcolor\": \"white\", \"gridwidth\": 2, \"linecolor\": \"white\", \"showbackground\": true, \"ticks\": \"\", \"zerolinecolor\": \"white\"}, \"zaxis\": {\"backgroundcolor\": \"#E5ECF6\", \"gridcolor\": \"white\", \"gridwidth\": 2, \"linecolor\": \"white\", \"showbackground\": true, \"ticks\": \"\", \"zerolinecolor\": \"white\"}}, \"shapedefaults\": {\"line\": {\"color\": \"#2a3f5f\"}}, \"ternary\": {\"aaxis\": {\"gridcolor\": \"white\", \"linecolor\": \"white\", \"ticks\": \"\"}, \"baxis\": {\"gridcolor\": \"white\", \"linecolor\": \"white\", \"ticks\": \"\"}, \"bgcolor\": \"#E5ECF6\", \"caxis\": {\"gridcolor\": \"white\", \"linecolor\": \"white\", \"ticks\": \"\"}}, \"title\": {\"x\": 0.05}, \"xaxis\": {\"automargin\": true, \"gridcolor\": \"white\", \"linecolor\": \"white\", \"ticks\": \"\", \"title\": {\"standoff\": 15}, \"zerolinecolor\": \"white\", \"zerolinewidth\": 2}, \"yaxis\": {\"automargin\": true, \"gridcolor\": \"white\", \"linecolor\": \"white\", \"ticks\": \"\", \"title\": {\"standoff\": 15}, \"zerolinecolor\": \"white\", \"zerolinewidth\": 2}}}, \"title\": {\"text\": \"LSI Scores\"}, \"xaxis\": {\"anchor\": \"y\", \"domain\": [0.0, 1.0], \"title\": {\"text\": \"score\"}}, \"yaxis\": {\"anchor\": \"x\", \"domain\": [0.0, 1.0], \"title\": {\"text\": \"count\"}}},\n",
              "                        {\"responsive\": true}\n",
              "                    ).then(function(){\n",
              "                            \n",
              "var gd = document.getElementById('62f85f2d-7eb7-48c0-9298-ea338bfeaee1');\n",
              "var x = new MutationObserver(function (mutations, observer) {{\n",
              "        var display = window.getComputedStyle(gd).display;\n",
              "        if (!display || display === 'none') {{\n",
              "            console.log([gd, 'removed!']);\n",
              "            Plotly.purge(gd);\n",
              "            observer.disconnect();\n",
              "        }}\n",
              "}});\n",
              "\n",
              "// Listen for the removal of the full notebook cells\n",
              "var notebookContainer = gd.closest('#notebook-container');\n",
              "if (notebookContainer) {{\n",
              "    x.observe(notebookContainer, {childList: true});\n",
              "}}\n",
              "\n",
              "// Listen for the clearing of the current output cell\n",
              "var outputEl = gd.closest('.output');\n",
              "if (outputEl) {{\n",
              "    x.observe(outputEl, {childList: true});\n",
              "}}\n",
              "\n",
              "                        })\n",
              "                };\n",
              "                \n",
              "            </script>\n",
              "        </div>\n",
              "</body>\n",
              "</html>"
            ]
          },
          "metadata": {}
        }
      ]
    },
    {
      "cell_type": "code",
      "metadata": {
        "id": "RX2JvEEGPGgS"
      },
      "source": [
        "if use_wandb:\n",
        "  wandb.log({\"scores_hist\": fig})"
      ],
      "execution_count": 78,
      "outputs": []
    },
    {
      "cell_type": "code",
      "metadata": {
        "colab": {
          "base_uri": "https://localhost:8080/",
          "height": 1000
        },
        "id": "7N81-XfdDFKV",
        "outputId": "a355ef67-8f7e-4c44-8af2-1c13febdf9b7"
      },
      "source": [
        "result, details = recommend_tune(df_sim, 'These Foolish Things [jazz1350]')\n",
        "result.head(30)"
      ],
      "execution_count": 79,
      "outputs": [
        {
          "output_type": "execute_result",
          "data": {
            "text/html": [
              "<div>\n",
              "<style scoped>\n",
              "    .dataframe tbody tr th:only-of-type {\n",
              "        vertical-align: middle;\n",
              "    }\n",
              "\n",
              "    .dataframe tbody tr th {\n",
              "        vertical-align: top;\n",
              "    }\n",
              "\n",
              "    .dataframe thead th {\n",
              "        text-align: right;\n",
              "    }\n",
              "</style>\n",
              "<table border=\"1\" class=\"dataframe\">\n",
              "  <thead>\n",
              "    <tr style=\"text-align: right;\">\n",
              "      <th></th>\n",
              "      <th>index</th>\n",
              "      <th>reference</th>\n",
              "      <th>reference_titleid</th>\n",
              "      <th>similar_title</th>\n",
              "      <th>score</th>\n",
              "      <th>max</th>\n",
              "      <th>score_div_max</th>\n",
              "      <th>similar_titleid</th>\n",
              "    </tr>\n",
              "  </thead>\n",
              "  <tbody>\n",
              "    <tr>\n",
              "      <th>0</th>\n",
              "      <td>0</td>\n",
              "      <td>These Foolish Things [jazz1350]</td>\n",
              "      <td>1168</td>\n",
              "      <td>More Than You Know [jazz1350]</td>\n",
              "      <td>0.916515</td>\n",
              "      <td>0.916515</td>\n",
              "      <td>1.000000</td>\n",
              "      <td>829</td>\n",
              "    </tr>\n",
              "    <tr>\n",
              "      <th>1</th>\n",
              "      <td>1</td>\n",
              "      <td>These Foolish Things [jazz1350]</td>\n",
              "      <td>1168</td>\n",
              "      <td>I Loves You Porgy [jazz1350]</td>\n",
              "      <td>0.954864</td>\n",
              "      <td>0.972305</td>\n",
              "      <td>0.997729</td>\n",
              "      <td>520</td>\n",
              "    </tr>\n",
              "    <tr>\n",
              "      <th>2</th>\n",
              "      <td>2</td>\n",
              "      <td>These Foolish Things [jazz1350]</td>\n",
              "      <td>1168</td>\n",
              "      <td>It's Easy To Remember [jazz1350]</td>\n",
              "      <td>0.951894</td>\n",
              "      <td>0.964712</td>\n",
              "      <td>0.986822</td>\n",
              "      <td>637</td>\n",
              "    </tr>\n",
              "    <tr>\n",
              "      <th>3</th>\n",
              "      <td>3</td>\n",
              "      <td>These Foolish Things [jazz1350]</td>\n",
              "      <td>1168</td>\n",
              "      <td>Way You Look Tonight, The [jazz1350]</td>\n",
              "      <td>0.942543</td>\n",
              "      <td>0.972305</td>\n",
              "      <td>0.977049</td>\n",
              "      <td>1253</td>\n",
              "    </tr>\n",
              "    <tr>\n",
              "      <th>4</th>\n",
              "      <td>4</td>\n",
              "      <td>These Foolish Things [jazz1350]</td>\n",
              "      <td>1168</td>\n",
              "      <td>Rosetta [jazz1350]</td>\n",
              "      <td>0.895443</td>\n",
              "      <td>0.916515</td>\n",
              "      <td>0.977008</td>\n",
              "      <td>996</td>\n",
              "    </tr>\n",
              "    <tr>\n",
              "      <th>5</th>\n",
              "      <td>5</td>\n",
              "      <td>These Foolish Things [jazz1350]</td>\n",
              "      <td>1168</td>\n",
              "      <td>Stairway To The Stars [jazz1350]</td>\n",
              "      <td>0.937159</td>\n",
              "      <td>0.964712</td>\n",
              "      <td>0.971600</td>\n",
              "      <td>1097</td>\n",
              "    </tr>\n",
              "    <tr>\n",
              "      <th>6</th>\n",
              "      <td>6</td>\n",
              "      <td>These Foolish Things [jazz1350]</td>\n",
              "      <td>1168</td>\n",
              "      <td>They All Laughed [jazz1350]</td>\n",
              "      <td>0.926855</td>\n",
              "      <td>0.972305</td>\n",
              "      <td>0.970866</td>\n",
              "      <td>1169</td>\n",
              "    </tr>\n",
              "    <tr>\n",
              "      <th>7</th>\n",
              "      <td>7</td>\n",
              "      <td>These Foolish Things [jazz1350]</td>\n",
              "      <td>1168</td>\n",
              "      <td>Easy Street [jazz1350]</td>\n",
              "      <td>0.926302</td>\n",
              "      <td>0.954669</td>\n",
              "      <td>0.970286</td>\n",
              "      <td>343</td>\n",
              "    </tr>\n",
              "    <tr>\n",
              "      <th>8</th>\n",
              "      <td>8</td>\n",
              "      <td>These Foolish Things [jazz1350]</td>\n",
              "      <td>1168</td>\n",
              "      <td>Among My Souvenirs [jazz1350]</td>\n",
              "      <td>0.925820</td>\n",
              "      <td>0.954669</td>\n",
              "      <td>0.969781</td>\n",
              "      <td>75</td>\n",
              "    </tr>\n",
              "    <tr>\n",
              "      <th>9</th>\n",
              "      <td>9</td>\n",
              "      <td>These Foolish Things [jazz1350]</td>\n",
              "      <td>1168</td>\n",
              "      <td>And The Angels Sing [jazz1350]</td>\n",
              "      <td>0.934215</td>\n",
              "      <td>0.964712</td>\n",
              "      <td>0.968347</td>\n",
              "      <td>78</td>\n",
              "    </tr>\n",
              "    <tr>\n",
              "      <th>10</th>\n",
              "      <td>10</td>\n",
              "      <td>These Foolish Things [jazz1350]</td>\n",
              "      <td>1168</td>\n",
              "      <td>Bewitched [jazz1350]</td>\n",
              "      <td>0.926302</td>\n",
              "      <td>0.972305</td>\n",
              "      <td>0.967266</td>\n",
              "      <td>132</td>\n",
              "    </tr>\n",
              "    <tr>\n",
              "      <th>11</th>\n",
              "      <td>11</td>\n",
              "      <td>These Foolish Things [jazz1350]</td>\n",
              "      <td>1168</td>\n",
              "      <td>Party's Over, The [jazz1350]</td>\n",
              "      <td>0.922839</td>\n",
              "      <td>0.972305</td>\n",
              "      <td>0.966659</td>\n",
              "      <td>935</td>\n",
              "    </tr>\n",
              "    <tr>\n",
              "      <th>12</th>\n",
              "      <td>12</td>\n",
              "      <td>These Foolish Things [jazz1350]</td>\n",
              "      <td>1168</td>\n",
              "      <td>Manhattan [jazz1350]</td>\n",
              "      <td>0.920751</td>\n",
              "      <td>0.954669</td>\n",
              "      <td>0.964472</td>\n",
              "      <td>774</td>\n",
              "    </tr>\n",
              "    <tr>\n",
              "      <th>13</th>\n",
              "      <td>13</td>\n",
              "      <td>These Foolish Things [jazz1350]</td>\n",
              "      <td>1168</td>\n",
              "      <td>Let's Fall In Love [jazz1350]</td>\n",
              "      <td>0.928955</td>\n",
              "      <td>0.964712</td>\n",
              "      <td>0.963023</td>\n",
              "      <td>708</td>\n",
              "    </tr>\n",
              "    <tr>\n",
              "      <th>14</th>\n",
              "      <td>14</td>\n",
              "      <td>These Foolish Things [jazz1350]</td>\n",
              "      <td>1168</td>\n",
              "      <td>For Once In My Life [jazz1350]</td>\n",
              "      <td>0.919239</td>\n",
              "      <td>0.954669</td>\n",
              "      <td>0.962888</td>\n",
              "      <td>397</td>\n",
              "    </tr>\n",
              "    <tr>\n",
              "      <th>15</th>\n",
              "      <td>15</td>\n",
              "      <td>These Foolish Things [jazz1350]</td>\n",
              "      <td>1168</td>\n",
              "      <td>Taking A Chance On Love [jazz1350]</td>\n",
              "      <td>0.919145</td>\n",
              "      <td>0.954669</td>\n",
              "      <td>0.962789</td>\n",
              "      <td>1144</td>\n",
              "    </tr>\n",
              "    <tr>\n",
              "      <th>16</th>\n",
              "      <td>16</td>\n",
              "      <td>These Foolish Things [jazz1350]</td>\n",
              "      <td>1168</td>\n",
              "      <td>Folks Who Live On The Hill, The [jazz1350]</td>\n",
              "      <td>0.918710</td>\n",
              "      <td>0.954669</td>\n",
              "      <td>0.962334</td>\n",
              "      <td>390</td>\n",
              "    </tr>\n",
              "    <tr>\n",
              "      <th>17</th>\n",
              "      <td>17</td>\n",
              "      <td>These Foolish Things [jazz1350]</td>\n",
              "      <td>1168</td>\n",
              "      <td>I Gotta Right To Sing The Blues [jazz1350]</td>\n",
              "      <td>0.918176</td>\n",
              "      <td>0.954669</td>\n",
              "      <td>0.961775</td>\n",
              "      <td>507</td>\n",
              "    </tr>\n",
              "    <tr>\n",
              "      <th>18</th>\n",
              "      <td>18</td>\n",
              "      <td>These Foolish Things [jazz1350]</td>\n",
              "      <td>1168</td>\n",
              "      <td>Heart And Soul [jazz1350]</td>\n",
              "      <td>0.927468</td>\n",
              "      <td>0.964712</td>\n",
              "      <td>0.961425</td>\n",
              "      <td>457</td>\n",
              "    </tr>\n",
              "    <tr>\n",
              "      <th>19</th>\n",
              "      <td>19</td>\n",
              "      <td>These Foolish Things [jazz1350]</td>\n",
              "      <td>1168</td>\n",
              "      <td>Danny Boy [jazz1350]</td>\n",
              "      <td>0.926962</td>\n",
              "      <td>0.964712</td>\n",
              "      <td>0.960890</td>\n",
              "      <td>280</td>\n",
              "    </tr>\n",
              "    <tr>\n",
              "      <th>20</th>\n",
              "      <td>20</td>\n",
              "      <td>These Foolish Things [jazz1350]</td>\n",
              "      <td>1168</td>\n",
              "      <td>Why Do I Love You [jazz1350]</td>\n",
              "      <td>0.916579</td>\n",
              "      <td>0.954669</td>\n",
              "      <td>0.960101</td>\n",
              "      <td>1285</td>\n",
              "    </tr>\n",
              "    <tr>\n",
              "      <th>21</th>\n",
              "      <td>21</td>\n",
              "      <td>These Foolish Things [jazz1350]</td>\n",
              "      <td>1168</td>\n",
              "      <td>You Keep Coming Back Like A Song [jazz1350]</td>\n",
              "      <td>0.933722</td>\n",
              "      <td>0.974755</td>\n",
              "      <td>0.957905</td>\n",
              "      <td>1316</td>\n",
              "    </tr>\n",
              "    <tr>\n",
              "      <th>22</th>\n",
              "      <td>22</td>\n",
              "      <td>These Foolish Things [jazz1350]</td>\n",
              "      <td>1168</td>\n",
              "      <td>I'm Old Fashioned [jazz1350]</td>\n",
              "      <td>0.913908</td>\n",
              "      <td>0.954669</td>\n",
              "      <td>0.957304</td>\n",
              "      <td>560</td>\n",
              "    </tr>\n",
              "    <tr>\n",
              "      <th>23</th>\n",
              "      <td>23</td>\n",
              "      <td>These Foolish Things [jazz1350]</td>\n",
              "      <td>1168</td>\n",
              "      <td>All Too Soon [jazz1350]</td>\n",
              "      <td>0.913346</td>\n",
              "      <td>0.954669</td>\n",
              "      <td>0.956715</td>\n",
              "      <td>67</td>\n",
              "    </tr>\n",
              "    <tr>\n",
              "      <th>24</th>\n",
              "      <td>24</td>\n",
              "      <td>These Foolish Things [jazz1350]</td>\n",
              "      <td>1168</td>\n",
              "      <td>For You, For Me, For Evermore [jazz1350]</td>\n",
              "      <td>0.932298</td>\n",
              "      <td>0.974755</td>\n",
              "      <td>0.956444</td>\n",
              "      <td>399</td>\n",
              "    </tr>\n",
              "    <tr>\n",
              "      <th>25</th>\n",
              "      <td>25</td>\n",
              "      <td>These Foolish Things [jazz1350]</td>\n",
              "      <td>1168</td>\n",
              "      <td>Blue Room, The [jazz1350]</td>\n",
              "      <td>0.931818</td>\n",
              "      <td>0.974755</td>\n",
              "      <td>0.955952</td>\n",
              "      <td>160</td>\n",
              "    </tr>\n",
              "    <tr>\n",
              "      <th>26</th>\n",
              "      <td>26</td>\n",
              "      <td>These Foolish Things [jazz1350]</td>\n",
              "      <td>1168</td>\n",
              "      <td>Over The Rainbow (Somewhere) [jazz1350]</td>\n",
              "      <td>0.931291</td>\n",
              "      <td>0.974755</td>\n",
              "      <td>0.955410</td>\n",
              "      <td>928</td>\n",
              "    </tr>\n",
              "    <tr>\n",
              "      <th>27</th>\n",
              "      <td>27</td>\n",
              "      <td>These Foolish Things [jazz1350]</td>\n",
              "      <td>1168</td>\n",
              "      <td>Long Ago And Far Away [jazz1350]</td>\n",
              "      <td>0.930374</td>\n",
              "      <td>0.974755</td>\n",
              "      <td>0.954470</td>\n",
              "      <td>738</td>\n",
              "    </tr>\n",
              "    <tr>\n",
              "      <th>28</th>\n",
              "      <td>28</td>\n",
              "      <td>These Foolish Things [jazz1350]</td>\n",
              "      <td>1168</td>\n",
              "      <td>If There Is Someone Lovelier [jazz1350]</td>\n",
              "      <td>0.926132</td>\n",
              "      <td>0.973530</td>\n",
              "      <td>0.951294</td>\n",
              "      <td>582</td>\n",
              "    </tr>\n",
              "    <tr>\n",
              "      <th>29</th>\n",
              "      <td>29</td>\n",
              "      <td>These Foolish Things [jazz1350]</td>\n",
              "      <td>1168</td>\n",
              "      <td>Good Life, The [jazz1350]</td>\n",
              "      <td>0.921954</td>\n",
              "      <td>0.972305</td>\n",
              "      <td>0.948215</td>\n",
              "      <td>437</td>\n",
              "    </tr>\n",
              "  </tbody>\n",
              "</table>\n",
              "</div>"
            ],
            "text/plain": [
              "    index                        reference  reference_titleid                                similar_title     score       max  score_div_max  similar_titleid\n",
              "0       0  These Foolish Things [jazz1350]               1168                More Than You Know [jazz1350]  0.916515  0.916515       1.000000              829\n",
              "1       1  These Foolish Things [jazz1350]               1168                 I Loves You Porgy [jazz1350]  0.954864  0.972305       0.997729              520\n",
              "2       2  These Foolish Things [jazz1350]               1168             It's Easy To Remember [jazz1350]  0.951894  0.964712       0.986822              637\n",
              "3       3  These Foolish Things [jazz1350]               1168         Way You Look Tonight, The [jazz1350]  0.942543  0.972305       0.977049             1253\n",
              "4       4  These Foolish Things [jazz1350]               1168                           Rosetta [jazz1350]  0.895443  0.916515       0.977008              996\n",
              "5       5  These Foolish Things [jazz1350]               1168             Stairway To The Stars [jazz1350]  0.937159  0.964712       0.971600             1097\n",
              "6       6  These Foolish Things [jazz1350]               1168                  They All Laughed [jazz1350]  0.926855  0.972305       0.970866             1169\n",
              "7       7  These Foolish Things [jazz1350]               1168                       Easy Street [jazz1350]  0.926302  0.954669       0.970286              343\n",
              "8       8  These Foolish Things [jazz1350]               1168                Among My Souvenirs [jazz1350]  0.925820  0.954669       0.969781               75\n",
              "9       9  These Foolish Things [jazz1350]               1168               And The Angels Sing [jazz1350]  0.934215  0.964712       0.968347               78\n",
              "10     10  These Foolish Things [jazz1350]               1168                         Bewitched [jazz1350]  0.926302  0.972305       0.967266              132\n",
              "11     11  These Foolish Things [jazz1350]               1168                 Party's Over, The [jazz1350]  0.922839  0.972305       0.966659              935\n",
              "12     12  These Foolish Things [jazz1350]               1168                         Manhattan [jazz1350]  0.920751  0.954669       0.964472              774\n",
              "13     13  These Foolish Things [jazz1350]               1168                Let's Fall In Love [jazz1350]  0.928955  0.964712       0.963023              708\n",
              "14     14  These Foolish Things [jazz1350]               1168               For Once In My Life [jazz1350]  0.919239  0.954669       0.962888              397\n",
              "15     15  These Foolish Things [jazz1350]               1168           Taking A Chance On Love [jazz1350]  0.919145  0.954669       0.962789             1144\n",
              "16     16  These Foolish Things [jazz1350]               1168   Folks Who Live On The Hill, The [jazz1350]  0.918710  0.954669       0.962334              390\n",
              "17     17  These Foolish Things [jazz1350]               1168   I Gotta Right To Sing The Blues [jazz1350]  0.918176  0.954669       0.961775              507\n",
              "18     18  These Foolish Things [jazz1350]               1168                    Heart And Soul [jazz1350]  0.927468  0.964712       0.961425              457\n",
              "19     19  These Foolish Things [jazz1350]               1168                         Danny Boy [jazz1350]  0.926962  0.964712       0.960890              280\n",
              "20     20  These Foolish Things [jazz1350]               1168                 Why Do I Love You [jazz1350]  0.916579  0.954669       0.960101             1285\n",
              "21     21  These Foolish Things [jazz1350]               1168  You Keep Coming Back Like A Song [jazz1350]  0.933722  0.974755       0.957905             1316\n",
              "22     22  These Foolish Things [jazz1350]               1168                 I'm Old Fashioned [jazz1350]  0.913908  0.954669       0.957304              560\n",
              "23     23  These Foolish Things [jazz1350]               1168                      All Too Soon [jazz1350]  0.913346  0.954669       0.956715               67\n",
              "24     24  These Foolish Things [jazz1350]               1168     For You, For Me, For Evermore [jazz1350]  0.932298  0.974755       0.956444              399\n",
              "25     25  These Foolish Things [jazz1350]               1168                    Blue Room, The [jazz1350]  0.931818  0.974755       0.955952              160\n",
              "26     26  These Foolish Things [jazz1350]               1168      Over The Rainbow (Somewhere) [jazz1350]  0.931291  0.974755       0.955410              928\n",
              "27     27  These Foolish Things [jazz1350]               1168             Long Ago And Far Away [jazz1350]  0.930374  0.974755       0.954470              738\n",
              "28     28  These Foolish Things [jazz1350]               1168      If There Is Someone Lovelier [jazz1350]  0.926132  0.973530       0.951294              582\n",
              "29     29  These Foolish Things [jazz1350]               1168                    Good Life, The [jazz1350]  0.921954  0.972305       0.948215              437"
            ]
          },
          "metadata": {},
          "execution_count": 79
        }
      ]
    },
    {
      "cell_type": "code",
      "metadata": {
        "id": "15ZsHOQmyyah"
      },
      "source": [
        "dd = pd.DataFrame(columns = recommender_results_cols)\n",
        "\n",
        "for tune in tunes_eval_list:\n",
        "  result, details = recommend_tune(df_sim, tune)\n",
        "  dd['id'] = result['index']\n",
        "  dd['reference'] = tune\n",
        "  dd['method'] = 'lsi'\n",
        "  dd['similar'] = result['similar_title']\n",
        "  dd['score_div_max'] = result['score_div_max']\n",
        "  dd['score'] = result['score']\n",
        "\n",
        "recommender_results = recommender_results.append(dd)"
      ],
      "execution_count": 80,
      "outputs": []
    },
    {
      "cell_type": "markdown",
      "metadata": {
        "id": "Ojrjp11ni6Pl"
      },
      "source": [
        "### Tests for Contrafacts"
      ]
    },
    {
      "cell_type": "code",
      "metadata": {
        "colab": {
          "base_uri": "https://localhost:8080/"
        },
        "id": "D0_7m1qji6A-",
        "outputId": "ece90dd1-4115-46bc-ee48-3f0e95b776d6"
      },
      "source": [
        "topN = 20\n",
        "matches, results = test_contrafacts(contrafacts, index_lsi, lsi, topN)\n",
        "\n",
        "print(f\"Found matches: {matches} out of {len(results)}: {100*matches/len(results):.3f}%\")\n",
        "print() \n",
        "for rr, val in results.items():\n",
        "  if val == 0:\n",
        "    print(f\"{val}: {rr}\")\n"
      ],
      "execution_count": 81,
      "outputs": [
        {
          "output_type": "stream",
          "name": "stdout",
          "text": [
            "Found matches: 94 out of 111: 84.685%\n",
            "\n",
            "0: 52nd Street Theme [jazz1350], I Got Rhythm [jazz1350]\n",
            "0: Ballade [jazz1350], As Long As I Live [jazz1350]\n",
            "0: Dewey Square [jazz1350], Oh, Lady Be Good [jazz1350]\n",
            "0: Don't Be That Way [jazz1350], I Got Rhythm [jazz1350]\n",
            "0: Good Bait [jazz1350], I Got Rhythm [jazz1350]\n",
            "0: Lennie's Pennies [jazz1350], Pennies From Heaven [jazz1350]\n",
            "0: Little Rootie Tootie [jazz1350], I Got Rhythm [jazz1350]\n",
            "0: Little Willie Leaps [jazz1350], All God's Chillun Got Rhythm [jazz1350]\n",
            "0: My Little Suede Shoes [jazz1350], Jeepers Creepers [jazz1350]\n",
            "0: Quasimodo (Theme) [jazz1350], Embraceable You [jazz1350]\n",
            "0: Room 608 [jazz1350], I Got Rhythm [jazz1350]\n",
            "0: Sweet Sue, Just You [jazz1350], Honeysuckle Rose [jazz1350]\n",
            "0: Sweet Sue, Just You [jazz1350], Bye Bye Blackbird [jazz1350]\n",
            "0: These Foolish Things [jazz1350], Blue Moon [jazz1350]\n",
            "0: These Foolish Things [jazz1350], Soultrain [jazz1350]\n",
            "0: Exactly Like You [jazz1350], Jersey Bounce [trad]\n",
            "0: Take The A Train [jazz1350], Girl From Ipanema, The [jazz1350]\n",
            "0: My Secret Love [jazz1350], Samba De Orfeu [jazz1350]\n",
            "0: These Foolish Things [jazz1350], Embraceable You [jazz1350]\n"
          ]
        }
      ]
    },
    {
      "cell_type": "code",
      "metadata": {
        "id": "RS7LsLASi5-f"
      },
      "source": [
        "model_name = 'lsi'\n",
        "if use_wandb:\n",
        "  wandb.log(\n",
        "      {model_name: {\n",
        "                'contrafacts': {\n",
        "                    'topN': topN,\n",
        "                    'success': matches/len(contrafacts),\n",
        "                    #'results': results\n",
        "                    }\n",
        "                   },\n",
        "       'all_models': {\n",
        "           model_name: wandb.Table(\n",
        "               columns=[\"Title\", \"Match\"],\n",
        "               data=[[key, value] for key, value in results.items()]),\n",
        "       }\n",
        "       })"
      ],
      "execution_count": 82,
      "outputs": []
    },
    {
      "cell_type": "markdown",
      "metadata": {
        "id": "AjZArSmyooWt"
      },
      "source": [
        "### Get Recommender Data for WebApp"
      ]
    },
    {
      "cell_type": "code",
      "metadata": {
        "colab": {
          "base_uri": "https://localhost:8080/"
        },
        "id": "ezGqmkp5gMcf",
        "outputId": "803786da-cdea-4b4e-dad1-f46c17c97d38"
      },
      "source": [
        "%%time\n",
        "if generate_webapp_data:\n",
        "  _tunes = list(tunes['title_playlist'].values())\n",
        "  #_tunes = tunes_eval_list\n",
        "\n",
        "  method = 'lsi'\n",
        "\n",
        "  df_sim = get_sim_scores(_tunes, index_lsi, lsi)\n",
        "\n",
        "  result = None\n",
        "  for tune in _tunes:\n",
        "    tune_result, details = recommend_tune(df_sim, tune)\n",
        "    if result is None:\n",
        "      result = pd.DataFrame(columns=tune_result.columns)\n",
        "    result = result.append(tune_result)\n",
        "\n",
        "  # save to file\n",
        "  (result\n",
        "   .loc[:,['reference_titleid',\n",
        "           'similar_titleid',\n",
        "           'score']]\n",
        "   .to_csv(f'output/recommender_{method}.csv', encoding='utf8')\n",
        "  )\n",
        "  with zipfile.ZipFile(f'output/recommender_{method}.zip', 'w') as zf:\n",
        "    zf.write(f'output/recommender_{method}.csv')\n",
        "\n",
        "\n",
        "  # save to wandb\n",
        "  if use_wandb:\n",
        "    model_artifact = wandb.Artifact(\n",
        "        f\"recommender_{method}\", \n",
        "        type=\"csv\",\n",
        "        description=f\"Recommendations for each Tune using {method} Model (csv file)\",\n",
        "        metadata=\"\")\n",
        "\n",
        "    model_artifact.add_file(f'output/recommender_{method}.zip')\n",
        "    wandb.log_artifact(model_artifact)"
      ],
      "execution_count": 83,
      "outputs": [
        {
          "output_type": "stream",
          "name": "stdout",
          "text": [
            "CPU times: user 4 µs, sys: 1 µs, total: 5 µs\n",
            "Wall time: 8.34 µs\n"
          ]
        }
      ]
    },
    {
      "cell_type": "markdown",
      "metadata": {
        "id": "lTQKfd0xQQ65"
      },
      "source": [
        "## Store Model to W&B"
      ]
    },
    {
      "cell_type": "code",
      "metadata": {
        "id": "RfAYF7ArQUXo"
      },
      "source": [
        "if use_wandb:\n",
        "  model_artifact = wandb.Artifact(\n",
        "      \"model_lsi\", \n",
        "      type=\"model\",\n",
        "      description=\"LSI model\",\n",
        "      metadata=\"\")\n",
        "\n",
        "  model_artifact.add_file(\"/content/index/lsi.model\")\n",
        "  model_artifact.add_file(\"/content/index/lsi_matrixsim.index\")\n",
        "  model_artifact.add_file(\"/content/index/lsi.model.projection\")\n",
        "  wandb.log_artifact(model_artifact)"
      ],
      "execution_count": 84,
      "outputs": []
    },
    {
      "cell_type": "markdown",
      "metadata": {
        "id": "asScIocQRMPA"
      },
      "source": [
        "## Determine Number of Topics for LSI Model\n",
        "\n",
        "This sample comes from Datacamp: \n",
        "\n",
        "https://www.datacamp.com/community/tutorials/discovering-hidden-topics-python\n"
      ]
    },
    {
      "cell_type": "markdown",
      "metadata": {
        "id": "1TPNWFEPSxZ-"
      },
      "source": [
        "What is the best way to determine k (number of topics) in topic modeling? Identify the optimum number of topics in the given corpus text is a challenging task. We can use the following options for determining the optimum number of topics:\n",
        "\n",
        "* One way to determine the optimum number of topics is to consider each topic as a cluster and find out the effectiveness of a cluster using the Silhouette coefficient.\n",
        "* Topic coherence measure is a realistic measure for identifying the number of topics.\n",
        "\n",
        "Topic Coherence measure is a widely used metric to evaluate topic models. It uses the latent variable models. Each generated topic has a list of words. In topic coherence measure, you will find average/median of pairwise word similarity scores of the words in a topic. The high value of topic coherence score model will be considered as a good topic model. "
      ]
    },
    {
      "cell_type": "code",
      "metadata": {
        "id": "umpCyQQzRLgv"
      },
      "source": [
        "def prepare_corpus(doc_clean):\n",
        "    \"\"\"\n",
        "    Input  : clean document\n",
        "    Purpose: create term dictionary of our courpus and Converting list of documents (corpus) into Document Term Matrix\n",
        "    Output : term dictionary and Document Term Matrix\n",
        "    \"\"\"\n",
        "    # Creating the term dictionary of our courpus, where every unique term is assigned an index. dictionary = corpora.Dictionary(doc_clean)\n",
        "    dictionary = corpora.Dictionary(doc_clean)\n",
        "    # Converting list of documents (corpus) into Document Term Matrix using dictionary prepared above.\n",
        "    doc_term_matrix = [dictionary.doc2bow(doc) for doc in doc_clean]\n",
        "    # generate LDA model\n",
        "    return dictionary, doc_term_matrix"
      ],
      "execution_count": 85,
      "outputs": []
    },
    {
      "cell_type": "code",
      "metadata": {
        "id": "aS2wxIEERcul"
      },
      "source": [
        "def compute_coherence_values(dictionary, doc_term_matrix, doc_clean, stop, start=2, step=3):\n",
        "    \"\"\"\n",
        "    Input   : dictionary : Gensim dictionary\n",
        "              corpus : Gensim corpus\n",
        "              texts : List of input texts\n",
        "              stop : Max num of topics\n",
        "    purpose : Compute c_v coherence for various number of topics\n",
        "    Output  : model_list : List of LSA topic models\n",
        "              coherence_values : Coherence values corresponding to the LDA model with respective number of topics\n",
        "    \"\"\"\n",
        "    coherence_values = []\n",
        "    model_list = []\n",
        "    for num_topics in range(start, stop, step):\n",
        "        # generate LSA model\n",
        "        model = LsiModel(doc_term_matrix, num_topics=num_topics, id2word = dictionary)  # train model\n",
        "        model_list.append(model)\n",
        "        coherencemodel = CoherenceModel(model=model, texts=doc_clean, dictionary=dictionary, coherence='c_v')\n",
        "        coherence_values.append(coherencemodel.get_coherence())\n",
        "    return model_list, coherence_values"
      ],
      "execution_count": 86,
      "outputs": []
    },
    {
      "cell_type": "code",
      "metadata": {
        "id": "DjyzAzWBRfrH"
      },
      "source": [
        "def plot_graph(doc_clean,start, stop, step):\n",
        "    dictionary, doc_term_matrix = prepare_corpus(doc_clean)\n",
        "\n",
        "    runs = 5\n",
        "    for i in range(runs):\n",
        "      model_list, coherence_values = compute_coherence_values(dictionary, \n",
        "                                                              doc_term_matrix,\n",
        "                                                              doc_clean,\n",
        "                                                              stop, start, step)\n",
        "      # Show graph\n",
        "      x = range(start, stop, step)\n",
        "      plt.plot(x, coherence_values, color='blue')\n",
        "\n",
        "    plt.xlabel(\"Number of Topics\")\n",
        "    plt.ylabel(\"Coherence score\")\n",
        "    plt.show()"
      ],
      "execution_count": 87,
      "outputs": []
    },
    {
      "cell_type": "code",
      "metadata": {
        "id": "qy9ZjdcmRhxs"
      },
      "source": [
        "# evaluate a good number of topics for the LSI Model. This takes some time.\n",
        "\n",
        "if False:\n",
        "\n",
        "  start, stop, step = 2, 50, 2\n",
        "  plot_graph(data, start, stop, step)"
      ],
      "execution_count": 88,
      "outputs": []
    },
    {
      "cell_type": "markdown",
      "metadata": {
        "id": "Qo5NgBHFlqgg"
      },
      "source": [
        "For unigrams, the best number of topics that is most consistently for the 5 runs seems to be around 22.\n",
        "\n",
        "For unigrams plus bigrams, the coherence score drops down until 100 and then continuously rises until 500 and continues to rise. Same for bigrams-only."
      ]
    },
    {
      "cell_type": "markdown",
      "metadata": {
        "id": "rF_INicGhXKd"
      },
      "source": [
        "# Doc2Vec"
      ]
    },
    {
      "cell_type": "code",
      "metadata": {
        "id": "wflSccBshkIk"
      },
      "source": [
        "def get_tagged_documents(corpus, tag_sections_and_tunes=False):\n",
        "  if tag_sections_and_tunes:\n",
        "    print('Tagging input data with both section and tune information.')\n",
        "  else:\n",
        "    print('Tagging input data with section informaiton only.')\n",
        "    \n",
        "  for i, tokens in enumerate(corpus):\n",
        "    if tag_sections_and_tunes:\n",
        "      yield gensim.models.doc2vec.TaggedDocument(tokens, [i, f'titleid_{sectionid_to_titleid[i]}'])\n",
        "    else:\n",
        "      yield gensim.models.doc2vec.TaggedDocument(tokens, [i])  # diatonic chord distance is a bit better"
      ],
      "execution_count": 89,
      "outputs": []
    },
    {
      "cell_type": "code",
      "metadata": {
        "colab": {
          "base_uri": "https://localhost:8080/"
        },
        "id": "_u0RdBI1kYD9",
        "outputId": "8a1fe1e7-f028-4703-cd0c-ffa020c54c1b"
      },
      "source": [
        "train_corpus = list(get_tagged_documents(processed_corpus, doc2vec_config['general']['tag_sections_and_tunes']))\n",
        "train_corpus[1000]"
      ],
      "execution_count": 90,
      "outputs": [
        {
          "output_type": "stream",
          "name": "stdout",
          "text": [
            "Tagging input data with section informaiton only.\n"
          ]
        },
        {
          "output_type": "execute_result",
          "data": {
            "text/plain": [
              "TaggedDocument(words=['C', 'Am', 'Dm', 'G7', 'C', 'F', 'C', 'Am', 'Dm', 'G7', 'C', 'Dm', 'G7'], tags=[1000])"
            ]
          },
          "metadata": {},
          "execution_count": 90
        }
      ]
    },
    {
      "cell_type": "code",
      "metadata": {
        "colab": {
          "base_uri": "https://localhost:8080/"
        },
        "id": "M9adPoy9reaw",
        "outputId": "0a6bb94c-c441-426e-943b-43a3d8b13034"
      },
      "source": [
        "import multiprocessing\n",
        "\n",
        "print(f\"CPU Count: {multiprocessing.cpu_count()}\")\n",
        "print(f\"Config:\")\n",
        "print(doc2vec_config['model'])\n",
        "\n",
        "model = Doc2Vec(train_corpus,\n",
        "                **doc2vec_config['model']\n",
        "                )"
      ],
      "execution_count": 91,
      "outputs": [
        {
          "output_type": "stream",
          "name": "stdout",
          "text": [
            "CPU Count: 2"
          ]
        },
        {
          "output_type": "stream",
          "name": "stderr",
          "text": [
            "2021-11-29 18:41:23,691 : INFO : collecting all words and their counts\n",
            "2021-11-29 18:41:23,693 : INFO : PROGRESS: at example #0, processed 0 words (0/s), 0 word types, 0 tags\n",
            "2021-11-29 18:41:23,722 : INFO : collected 60 word types and 5199 unique tags from a corpus of 5199 examples and 79498 words\n",
            "2021-11-29 18:41:23,725 : INFO : Creating a fresh vocabulary\n",
            "2021-11-29 18:41:23,729 : INFO : Doc2Vec lifecycle event {'msg': 'effective_min_count=1 retains 60 unique words (100.0%% of original 60, drops 0)', 'datetime': '2021-11-29T18:41:23.729356', 'gensim': '4.1.2', 'python': '3.7.12 (default, Sep 10 2021, 00:21:48) \\n[GCC 7.5.0]', 'platform': 'Linux-5.4.104+-x86_64-with-Ubuntu-18.04-bionic', 'event': 'prepare_vocab'}\n",
            "2021-11-29 18:41:23,732 : INFO : Doc2Vec lifecycle event {'msg': 'effective_min_count=1 leaves 79498 word corpus (100.0%% of original 79498, drops 0)', 'datetime': '2021-11-29T18:41:23.732185', 'gensim': '4.1.2', 'python': '3.7.12 (default, Sep 10 2021, 00:21:48) \\n[GCC 7.5.0]', 'platform': 'Linux-5.4.104+-x86_64-with-Ubuntu-18.04-bionic', 'event': 'prepare_vocab'}\n",
            "2021-11-29 18:41:23,736 : INFO : deleting the raw counts dictionary of 60 items\n",
            "2021-11-29 18:41:23,739 : INFO : sample=0.001 downsamples 40 most-common words\n",
            "2021-11-29 18:41:23,742 : INFO : Doc2Vec lifecycle event {'msg': 'downsampling leaves estimated 17575.356573800975 word corpus (22.1%% of prior 79498)', 'datetime': '2021-11-29T18:41:23.742168', 'gensim': '4.1.2', 'python': '3.7.12 (default, Sep 10 2021, 00:21:48) \\n[GCC 7.5.0]', 'platform': 'Linux-5.4.104+-x86_64-with-Ubuntu-18.04-bionic', 'event': 'prepare_vocab'}\n",
            "2021-11-29 18:41:23,746 : INFO : estimated required memory for 60 words and 100 dimensions: 3197400 bytes\n",
            "2021-11-29 18:41:23,748 : INFO : resetting layer weights\n",
            "2021-11-29 18:41:23,756 : INFO : Doc2Vec lifecycle event {'msg': 'training model with 3 workers on 60 vocabulary and 100 features, using sg=0 hs=0 sample=0.001 negative=10 window=2 shrink_windows=True', 'datetime': '2021-11-29T18:41:23.755876', 'gensim': '4.1.2', 'python': '3.7.12 (default, Sep 10 2021, 00:21:48) \\n[GCC 7.5.0]', 'platform': 'Linux-5.4.104+-x86_64-with-Ubuntu-18.04-bionic', 'event': 'train'}\n"
          ]
        },
        {
          "output_type": "stream",
          "name": "stdout",
          "text": [
            "\n",
            "Config:\n",
            "{'dm': 1, 'vector_size': 100, 'window': 2, 'epochs': 40, 'min_count': 1, 'negative': 10, 'sample': 0.001, 'seed': 42}\n"
          ]
        },
        {
          "output_type": "stream",
          "name": "stderr",
          "text": [
            "2021-11-29 18:41:24,263 : INFO : worker thread finished; awaiting finish of 2 more threads\n",
            "2021-11-29 18:41:24,344 : INFO : worker thread finished; awaiting finish of 1 more threads\n",
            "2021-11-29 18:41:24,360 : INFO : worker thread finished; awaiting finish of 0 more threads\n",
            "2021-11-29 18:41:24,362 : INFO : EPOCH - 1 : training on 79498 raw words (22746 effective words) took 0.6s, 38426 effective words/s\n",
            "2021-11-29 18:41:24,889 : INFO : worker thread finished; awaiting finish of 2 more threads\n",
            "2021-11-29 18:41:24,943 : INFO : worker thread finished; awaiting finish of 1 more threads\n",
            "2021-11-29 18:41:24,951 : INFO : worker thread finished; awaiting finish of 0 more threads\n",
            "2021-11-29 18:41:24,953 : INFO : EPOCH - 2 : training on 79498 raw words (22805 effective words) took 0.6s, 39636 effective words/s\n",
            "2021-11-29 18:41:25,469 : INFO : worker thread finished; awaiting finish of 2 more threads\n",
            "2021-11-29 18:41:25,546 : INFO : worker thread finished; awaiting finish of 1 more threads\n",
            "2021-11-29 18:41:25,555 : INFO : worker thread finished; awaiting finish of 0 more threads\n",
            "2021-11-29 18:41:25,556 : INFO : EPOCH - 3 : training on 79498 raw words (22562 effective words) took 0.6s, 38152 effective words/s\n",
            "2021-11-29 18:41:26,074 : INFO : worker thread finished; awaiting finish of 2 more threads\n",
            "2021-11-29 18:41:26,150 : INFO : worker thread finished; awaiting finish of 1 more threads\n",
            "2021-11-29 18:41:26,159 : INFO : worker thread finished; awaiting finish of 0 more threads\n",
            "2021-11-29 18:41:26,160 : INFO : EPOCH - 4 : training on 79498 raw words (22887 effective words) took 0.6s, 38731 effective words/s\n",
            "2021-11-29 18:41:26,674 : INFO : worker thread finished; awaiting finish of 2 more threads\n",
            "2021-11-29 18:41:26,754 : INFO : worker thread finished; awaiting finish of 1 more threads\n",
            "2021-11-29 18:41:26,766 : INFO : worker thread finished; awaiting finish of 0 more threads\n",
            "2021-11-29 18:41:26,768 : INFO : EPOCH - 5 : training on 79498 raw words (22910 effective words) took 0.6s, 38453 effective words/s\n",
            "2021-11-29 18:41:27,295 : INFO : worker thread finished; awaiting finish of 2 more threads\n",
            "2021-11-29 18:41:27,364 : INFO : worker thread finished; awaiting finish of 1 more threads\n",
            "2021-11-29 18:41:27,377 : INFO : worker thread finished; awaiting finish of 0 more threads\n",
            "2021-11-29 18:41:27,378 : INFO : EPOCH - 6 : training on 79498 raw words (22990 effective words) took 0.6s, 38385 effective words/s\n",
            "2021-11-29 18:41:27,888 : INFO : worker thread finished; awaiting finish of 2 more threads\n",
            "2021-11-29 18:41:27,964 : INFO : worker thread finished; awaiting finish of 1 more threads\n",
            "2021-11-29 18:41:27,971 : INFO : worker thread finished; awaiting finish of 0 more threads\n",
            "2021-11-29 18:41:27,972 : INFO : EPOCH - 7 : training on 79498 raw words (22664 effective words) took 0.6s, 39015 effective words/s\n",
            "2021-11-29 18:41:28,480 : INFO : worker thread finished; awaiting finish of 2 more threads\n",
            "2021-11-29 18:41:28,539 : INFO : worker thread finished; awaiting finish of 1 more threads\n",
            "2021-11-29 18:41:28,545 : INFO : worker thread finished; awaiting finish of 0 more threads\n",
            "2021-11-29 18:41:28,546 : INFO : EPOCH - 8 : training on 79498 raw words (22655 effective words) took 0.6s, 40219 effective words/s\n",
            "2021-11-29 18:41:29,110 : INFO : worker thread finished; awaiting finish of 2 more threads\n",
            "2021-11-29 18:41:29,189 : INFO : worker thread finished; awaiting finish of 1 more threads\n",
            "2021-11-29 18:41:29,198 : INFO : worker thread finished; awaiting finish of 0 more threads\n",
            "2021-11-29 18:41:29,200 : INFO : EPOCH - 9 : training on 79498 raw words (22655 effective words) took 0.6s, 35336 effective words/s\n",
            "2021-11-29 18:41:29,704 : INFO : worker thread finished; awaiting finish of 2 more threads\n",
            "2021-11-29 18:41:29,785 : INFO : worker thread finished; awaiting finish of 1 more threads\n",
            "2021-11-29 18:41:29,794 : INFO : worker thread finished; awaiting finish of 0 more threads\n",
            "2021-11-29 18:41:29,796 : INFO : EPOCH - 10 : training on 79498 raw words (22582 effective words) took 0.6s, 38732 effective words/s\n",
            "2021-11-29 18:41:30,338 : INFO : worker thread finished; awaiting finish of 2 more threads\n",
            "2021-11-29 18:41:30,392 : INFO : worker thread finished; awaiting finish of 1 more threads\n",
            "2021-11-29 18:41:30,402 : INFO : worker thread finished; awaiting finish of 0 more threads\n",
            "2021-11-29 18:41:30,403 : INFO : EPOCH - 11 : training on 79498 raw words (22827 effective words) took 0.6s, 38337 effective words/s\n",
            "2021-11-29 18:41:30,935 : INFO : worker thread finished; awaiting finish of 2 more threads\n",
            "2021-11-29 18:41:31,002 : INFO : worker thread finished; awaiting finish of 1 more threads\n",
            "2021-11-29 18:41:31,010 : INFO : worker thread finished; awaiting finish of 0 more threads\n",
            "2021-11-29 18:41:31,011 : INFO : EPOCH - 12 : training on 79498 raw words (22780 effective words) took 0.6s, 38243 effective words/s\n",
            "2021-11-29 18:41:31,536 : INFO : worker thread finished; awaiting finish of 2 more threads\n",
            "2021-11-29 18:41:31,619 : INFO : worker thread finished; awaiting finish of 1 more threads\n",
            "2021-11-29 18:41:31,632 : INFO : worker thread finished; awaiting finish of 0 more threads\n",
            "2021-11-29 18:41:31,633 : INFO : EPOCH - 13 : training on 79498 raw words (22921 effective words) took 0.6s, 37617 effective words/s\n",
            "2021-11-29 18:41:32,143 : INFO : worker thread finished; awaiting finish of 2 more threads\n",
            "2021-11-29 18:41:32,227 : INFO : worker thread finished; awaiting finish of 1 more threads\n",
            "2021-11-29 18:41:32,236 : INFO : worker thread finished; awaiting finish of 0 more threads\n",
            "2021-11-29 18:41:32,237 : INFO : EPOCH - 14 : training on 79498 raw words (22636 effective words) took 0.6s, 38295 effective words/s\n",
            "2021-11-29 18:41:32,745 : INFO : worker thread finished; awaiting finish of 2 more threads\n",
            "2021-11-29 18:41:32,800 : INFO : worker thread finished; awaiting finish of 1 more threads\n",
            "2021-11-29 18:41:32,811 : INFO : worker thread finished; awaiting finish of 0 more threads\n",
            "2021-11-29 18:41:32,812 : INFO : EPOCH - 15 : training on 79498 raw words (22521 effective words) took 0.6s, 39953 effective words/s\n",
            "2021-11-29 18:41:33,291 : INFO : worker thread finished; awaiting finish of 2 more threads\n",
            "2021-11-29 18:41:33,366 : INFO : worker thread finished; awaiting finish of 1 more threads\n",
            "2021-11-29 18:41:33,375 : INFO : worker thread finished; awaiting finish of 0 more threads\n",
            "2021-11-29 18:41:33,376 : INFO : EPOCH - 16 : training on 79498 raw words (22799 effective words) took 0.5s, 41522 effective words/s\n",
            "2021-11-29 18:41:33,903 : INFO : worker thread finished; awaiting finish of 2 more threads\n",
            "2021-11-29 18:41:33,979 : INFO : worker thread finished; awaiting finish of 1 more threads\n",
            "2021-11-29 18:41:33,988 : INFO : worker thread finished; awaiting finish of 0 more threads\n",
            "2021-11-29 18:41:33,990 : INFO : EPOCH - 17 : training on 79498 raw words (22793 effective words) took 0.6s, 37865 effective words/s\n",
            "2021-11-29 18:41:34,492 : INFO : worker thread finished; awaiting finish of 2 more threads\n",
            "2021-11-29 18:41:34,577 : INFO : worker thread finished; awaiting finish of 1 more threads\n",
            "2021-11-29 18:41:34,585 : INFO : worker thread finished; awaiting finish of 0 more threads\n",
            "2021-11-29 18:41:34,587 : INFO : EPOCH - 18 : training on 79498 raw words (22769 effective words) took 0.6s, 39626 effective words/s\n",
            "2021-11-29 18:41:35,173 : INFO : worker thread finished; awaiting finish of 2 more threads\n",
            "2021-11-29 18:41:35,266 : INFO : worker thread finished; awaiting finish of 1 more threads\n",
            "2021-11-29 18:41:35,273 : INFO : worker thread finished; awaiting finish of 0 more threads\n",
            "2021-11-29 18:41:35,274 : INFO : EPOCH - 19 : training on 79498 raw words (22769 effective words) took 0.7s, 33793 effective words/s\n",
            "2021-11-29 18:41:35,846 : INFO : worker thread finished; awaiting finish of 2 more threads\n",
            "2021-11-29 18:41:35,913 : INFO : worker thread finished; awaiting finish of 1 more threads\n",
            "2021-11-29 18:41:35,925 : INFO : worker thread finished; awaiting finish of 0 more threads\n",
            "2021-11-29 18:41:35,926 : INFO : EPOCH - 20 : training on 79498 raw words (22763 effective words) took 0.6s, 35642 effective words/s\n",
            "2021-11-29 18:41:36,459 : INFO : worker thread finished; awaiting finish of 2 more threads\n",
            "2021-11-29 18:41:36,540 : INFO : worker thread finished; awaiting finish of 1 more threads\n",
            "2021-11-29 18:41:36,546 : INFO : worker thread finished; awaiting finish of 0 more threads\n",
            "2021-11-29 18:41:36,547 : INFO : EPOCH - 21 : training on 79498 raw words (22712 effective words) took 0.6s, 37527 effective words/s\n",
            "2021-11-29 18:41:37,091 : INFO : worker thread finished; awaiting finish of 2 more threads\n",
            "2021-11-29 18:41:37,162 : INFO : worker thread finished; awaiting finish of 1 more threads\n",
            "2021-11-29 18:41:37,173 : INFO : worker thread finished; awaiting finish of 0 more threads\n",
            "2021-11-29 18:41:37,174 : INFO : EPOCH - 22 : training on 79498 raw words (22740 effective words) took 0.6s, 37020 effective words/s\n",
            "2021-11-29 18:41:37,715 : INFO : worker thread finished; awaiting finish of 2 more threads\n",
            "2021-11-29 18:41:37,763 : INFO : worker thread finished; awaiting finish of 1 more threads\n",
            "2021-11-29 18:41:37,776 : INFO : worker thread finished; awaiting finish of 0 more threads\n",
            "2021-11-29 18:41:37,778 : INFO : EPOCH - 23 : training on 79498 raw words (22822 effective words) took 0.6s, 38759 effective words/s\n",
            "2021-11-29 18:41:38,372 : INFO : worker thread finished; awaiting finish of 2 more threads\n",
            "2021-11-29 18:41:38,458 : INFO : worker thread finished; awaiting finish of 1 more threads\n",
            "2021-11-29 18:41:38,464 : INFO : worker thread finished; awaiting finish of 0 more threads\n",
            "2021-11-29 18:41:38,466 : INFO : EPOCH - 24 : training on 79498 raw words (22705 effective words) took 0.7s, 33705 effective words/s\n",
            "2021-11-29 18:41:39,026 : INFO : worker thread finished; awaiting finish of 2 more threads\n",
            "2021-11-29 18:41:39,097 : INFO : worker thread finished; awaiting finish of 1 more threads\n",
            "2021-11-29 18:41:39,115 : INFO : worker thread finished; awaiting finish of 0 more threads\n",
            "2021-11-29 18:41:39,117 : INFO : EPOCH - 25 : training on 79498 raw words (22676 effective words) took 0.6s, 35398 effective words/s\n",
            "2021-11-29 18:41:39,674 : INFO : worker thread finished; awaiting finish of 2 more threads\n",
            "2021-11-29 18:41:39,735 : INFO : worker thread finished; awaiting finish of 1 more threads\n",
            "2021-11-29 18:41:39,751 : INFO : worker thread finished; awaiting finish of 0 more threads\n",
            "2021-11-29 18:41:39,753 : INFO : EPOCH - 26 : training on 79498 raw words (22854 effective words) took 0.6s, 36622 effective words/s\n",
            "2021-11-29 18:41:40,272 : INFO : worker thread finished; awaiting finish of 2 more threads\n",
            "2021-11-29 18:41:40,345 : INFO : worker thread finished; awaiting finish of 1 more threads\n",
            "2021-11-29 18:41:40,350 : INFO : worker thread finished; awaiting finish of 0 more threads\n",
            "2021-11-29 18:41:40,352 : INFO : EPOCH - 27 : training on 79498 raw words (23044 effective words) took 0.6s, 39376 effective words/s\n",
            "2021-11-29 18:41:40,892 : INFO : worker thread finished; awaiting finish of 2 more threads\n",
            "2021-11-29 18:41:40,977 : INFO : worker thread finished; awaiting finish of 1 more threads\n",
            "2021-11-29 18:41:40,987 : INFO : worker thread finished; awaiting finish of 0 more threads\n",
            "2021-11-29 18:41:40,989 : INFO : EPOCH - 28 : training on 79498 raw words (22770 effective words) took 0.6s, 36579 effective words/s\n",
            "2021-11-29 18:41:41,561 : INFO : worker thread finished; awaiting finish of 2 more threads\n",
            "2021-11-29 18:41:41,628 : INFO : worker thread finished; awaiting finish of 1 more threads\n",
            "2021-11-29 18:41:41,641 : INFO : worker thread finished; awaiting finish of 0 more threads\n",
            "2021-11-29 18:41:41,642 : INFO : EPOCH - 29 : training on 79498 raw words (22777 effective words) took 0.6s, 35698 effective words/s\n",
            "2021-11-29 18:41:42,250 : INFO : worker thread finished; awaiting finish of 2 more threads\n",
            "2021-11-29 18:41:42,311 : INFO : worker thread finished; awaiting finish of 1 more threads\n",
            "2021-11-29 18:41:42,316 : INFO : worker thread finished; awaiting finish of 0 more threads\n",
            "2021-11-29 18:41:42,317 : INFO : EPOCH - 30 : training on 79498 raw words (22892 effective words) took 0.7s, 34666 effective words/s\n",
            "2021-11-29 18:41:42,852 : INFO : worker thread finished; awaiting finish of 2 more threads\n",
            "2021-11-29 18:41:42,928 : INFO : worker thread finished; awaiting finish of 1 more threads\n",
            "2021-11-29 18:41:42,935 : INFO : worker thread finished; awaiting finish of 0 more threads\n",
            "2021-11-29 18:41:42,936 : INFO : EPOCH - 31 : training on 79498 raw words (22590 effective words) took 0.6s, 37260 effective words/s\n",
            "2021-11-29 18:41:43,484 : INFO : worker thread finished; awaiting finish of 2 more threads\n",
            "2021-11-29 18:41:43,546 : INFO : worker thread finished; awaiting finish of 1 more threads\n",
            "2021-11-29 18:41:43,556 : INFO : worker thread finished; awaiting finish of 0 more threads\n",
            "2021-11-29 18:41:43,558 : INFO : EPOCH - 32 : training on 79498 raw words (22763 effective words) took 0.6s, 37343 effective words/s\n",
            "2021-11-29 18:41:44,038 : INFO : worker thread finished; awaiting finish of 2 more threads\n",
            "2021-11-29 18:41:44,127 : INFO : worker thread finished; awaiting finish of 1 more threads\n",
            "2021-11-29 18:41:44,137 : INFO : worker thread finished; awaiting finish of 0 more threads\n",
            "2021-11-29 18:41:44,138 : INFO : EPOCH - 33 : training on 79498 raw words (22707 effective words) took 0.6s, 39977 effective words/s\n",
            "2021-11-29 18:41:44,645 : INFO : worker thread finished; awaiting finish of 2 more threads\n",
            "2021-11-29 18:41:44,730 : INFO : worker thread finished; awaiting finish of 1 more threads\n",
            "2021-11-29 18:41:44,742 : INFO : worker thread finished; awaiting finish of 0 more threads\n",
            "2021-11-29 18:41:44,743 : INFO : EPOCH - 34 : training on 79498 raw words (22691 effective words) took 0.6s, 38411 effective words/s\n",
            "2021-11-29 18:41:45,304 : INFO : worker thread finished; awaiting finish of 2 more threads\n",
            "2021-11-29 18:41:45,380 : INFO : worker thread finished; awaiting finish of 1 more threads\n",
            "2021-11-29 18:41:45,385 : INFO : worker thread finished; awaiting finish of 0 more threads\n",
            "2021-11-29 18:41:45,387 : INFO : EPOCH - 35 : training on 79498 raw words (22696 effective words) took 0.6s, 36023 effective words/s\n",
            "2021-11-29 18:41:45,939 : INFO : worker thread finished; awaiting finish of 2 more threads\n",
            "2021-11-29 18:41:46,001 : INFO : worker thread finished; awaiting finish of 1 more threads\n",
            "2021-11-29 18:41:46,008 : INFO : worker thread finished; awaiting finish of 0 more threads\n",
            "2021-11-29 18:41:46,009 : INFO : EPOCH - 36 : training on 79498 raw words (22792 effective words) took 0.6s, 37536 effective words/s\n",
            "2021-11-29 18:41:46,494 : INFO : worker thread finished; awaiting finish of 2 more threads\n",
            "2021-11-29 18:41:46,558 : INFO : worker thread finished; awaiting finish of 1 more threads\n",
            "2021-11-29 18:41:46,574 : INFO : worker thread finished; awaiting finish of 0 more threads\n",
            "2021-11-29 18:41:46,576 : INFO : EPOCH - 37 : training on 79498 raw words (22809 effective words) took 0.6s, 41199 effective words/s\n",
            "2021-11-29 18:41:47,117 : INFO : worker thread finished; awaiting finish of 2 more threads\n",
            "2021-11-29 18:41:47,201 : INFO : worker thread finished; awaiting finish of 1 more threads\n",
            "2021-11-29 18:41:47,203 : INFO : worker thread finished; awaiting finish of 0 more threads\n",
            "2021-11-29 18:41:47,205 : INFO : EPOCH - 38 : training on 79498 raw words (22876 effective words) took 0.6s, 37148 effective words/s\n",
            "2021-11-29 18:41:47,713 : INFO : worker thread finished; awaiting finish of 2 more threads\n",
            "2021-11-29 18:41:47,770 : INFO : worker thread finished; awaiting finish of 1 more threads\n",
            "2021-11-29 18:41:47,783 : INFO : worker thread finished; awaiting finish of 0 more threads\n",
            "2021-11-29 18:41:47,785 : INFO : EPOCH - 39 : training on 79498 raw words (22882 effective words) took 0.6s, 40605 effective words/s\n",
            "2021-11-29 18:41:48,352 : INFO : worker thread finished; awaiting finish of 2 more threads\n",
            "2021-11-29 18:41:48,417 : INFO : worker thread finished; awaiting finish of 1 more threads\n",
            "2021-11-29 18:41:48,428 : INFO : worker thread finished; awaiting finish of 0 more threads\n",
            "2021-11-29 18:41:48,429 : INFO : EPOCH - 40 : training on 79498 raw words (22759 effective words) took 0.6s, 36312 effective words/s\n",
            "2021-11-29 18:41:48,433 : INFO : Doc2Vec lifecycle event {'msg': 'training on 3179920 raw words (910591 effective words) took 24.7s, 36905 effective words/s', 'datetime': '2021-11-29T18:41:48.432983', 'gensim': '4.1.2', 'python': '3.7.12 (default, Sep 10 2021, 00:21:48) \\n[GCC 7.5.0]', 'platform': 'Linux-5.4.104+-x86_64-with-Ubuntu-18.04-bionic', 'event': 'train'}\n",
            "2021-11-29 18:41:48,434 : INFO : Doc2Vec lifecycle event {'params': 'Doc2Vec(dm/m,d100,n10,w2,s0.001,t3)', 'datetime': '2021-11-29T18:41:48.434792', 'gensim': '4.1.2', 'python': '3.7.12 (default, Sep 10 2021, 00:21:48) \\n[GCC 7.5.0]', 'platform': 'Linux-5.4.104+-x86_64-with-Ubuntu-18.04-bionic', 'event': 'created'}\n"
          ]
        }
      ]
    },
    {
      "cell_type": "code",
      "metadata": {
        "id": "G-cE7gug1Ct5",
        "colab": {
          "base_uri": "https://localhost:8080/"
        },
        "outputId": "f3e03991-6462-46d7-cdfe-800eadbf9dcd"
      },
      "source": [
        "if use_wandb:\n",
        "  model_artifact = wandb.Artifact(\n",
        "      \"model_doc2vec\", \n",
        "      type=\"model\",\n",
        "      description=\"Doc2Vec model\",\n",
        "      metadata=\"\")\n",
        "\n",
        "  fname = 'doc2vec.model'\n",
        "  model.save(fname)\n",
        "\n",
        "  model_artifact.add_file(fname)\n",
        "  wandb.log_artifact(model_artifact)"
      ],
      "execution_count": 92,
      "outputs": [
        {
          "output_type": "stream",
          "name": "stderr",
          "text": [
            "2021-11-29 18:41:48,455 : INFO : Doc2Vec lifecycle event {'fname_or_handle': 'doc2vec.model', 'separately': 'None', 'sep_limit': 10485760, 'ignore': frozenset(), 'datetime': '2021-11-29T18:41:48.455065', 'gensim': '4.1.2', 'python': '3.7.12 (default, Sep 10 2021, 00:21:48) \\n[GCC 7.5.0]', 'platform': 'Linux-5.4.104+-x86_64-with-Ubuntu-18.04-bionic', 'event': 'saving'}\n",
            "2021-11-29 18:41:48,458 : INFO : not storing attribute cum_table\n",
            "2021-11-29 18:41:48,471 : INFO : saved doc2vec.model\n"
          ]
        }
      ]
    },
    {
      "cell_type": "markdown",
      "metadata": {
        "id": "jJvq2K93xAO5"
      },
      "source": [
        "### Test the distance between C and the diatonic chords\n",
        "\n",
        "Test if the model can capture that the diatonic chords are closer to the root.\n",
        "\n",
        "Do this only if the input corpus contains the unigrams. "
      ]
    },
    {
      "cell_type": "code",
      "metadata": {
        "id": "cH3TJxCfvoFm",
        "colab": {
          "base_uri": "https://localhost:8080/"
        },
        "outputId": "b6539055-adf1-4c3a-a20c-e1fd0c797a0f"
      },
      "source": [
        "test_tokens = ['C',\n",
        "              'Dm',\n",
        "              'Em',\n",
        "              'F',\n",
        "              'G7',\n",
        "              'Am',\n",
        "              #'Bm7b5',\n",
        "              'F7',\n",
        "              'D7',\n",
        "              'A7',\n",
        "              'E7',\n",
        "              'B7',\n",
        "              'F#7',\n",
        "               'Cm',\n",
        "               'D']\n",
        "\n",
        "if 1 in ngrams_for_input:\n",
        "  ref = 'C'\n",
        "  for t in test_tokens:\n",
        "    print(f\"{model.wv.similarity(ref, t):.3f}: {ref} <-> {t}\")"
      ],
      "execution_count": 93,
      "outputs": [
        {
          "output_type": "stream",
          "name": "stdout",
          "text": [
            "1.000: C <-> C\n",
            "0.414: C <-> Dm\n",
            "0.472: C <-> Em\n",
            "0.344: C <-> F\n",
            "0.547: C <-> G7\n",
            "0.363: C <-> Am\n",
            "0.049: C <-> F7\n",
            "0.332: C <-> D7\n",
            "0.569: C <-> A7\n",
            "0.325: C <-> E7\n",
            "-0.028: C <-> B7\n",
            "-0.098: C <-> F#7\n",
            "0.038: C <-> Cm\n",
            "-0.119: C <-> D\n"
          ]
        }
      ]
    },
    {
      "cell_type": "code",
      "metadata": {
        "id": "IfIRoWL4kpcB",
        "colab": {
          "base_uri": "https://localhost:8080/"
        },
        "outputId": "2b1aa77c-a56b-4bab-b5ae-3f1b0e8be589"
      },
      "source": [
        "if 1 in ngrams_for_input:\n",
        "  print(model.wv.similar_by_word('C', topn=20))"
      ],
      "execution_count": 94,
      "outputs": [
        {
          "output_type": "stream",
          "name": "stdout",
          "text": [
            "[('A7', 0.5686545968055725), ('G7', 0.5472651720046997), ('C7', 0.5134853720664978), ('Em', 0.4719237685203552), ('Dm', 0.413552463054657), ('G#dim', 0.3774530291557312), ('Ebdim', 0.37484705448150635), ('Am', 0.3625895082950592), ('F', 0.34396272897720337), ('C#dim', 0.3383418619632721), ('Gm', 0.33317098021507263), ('D7', 0.3319561183452606), ('E7', 0.3245132863521576), ('F#dim', 0.30008137226104736), ('Em7b5', 0.29133090376853943), ('Bm7b5', 0.253205269575119), ('Fm', 0.2069484442472458), ('Eb7', 0.1682700663805008), ('Cdim', 0.1407976746559143), ('Bb7', 0.12420128285884857)]\n"
          ]
        }
      ]
    },
    {
      "cell_type": "code",
      "metadata": {
        "id": "Y3ekrldg7c8k"
      },
      "source": [
        "if 1 in ngrams_for_input:\n",
        "  # 20 closest chords to 'C'\n",
        "  vectors = []\n",
        "  chord_names = []\n",
        "  similar_chords = model.wv.similar_by_word('C', topn=10)\n",
        "  for c in similar_chords:\n",
        "    vectors.append(model.wv.get_vector(c[0]))\n",
        "    chord_names.append(c[0])\n",
        "\n",
        "  weights = np.array(vectors)\n"
      ],
      "execution_count": 95,
      "outputs": []
    },
    {
      "cell_type": "markdown",
      "metadata": {
        "id": "ix4n9S3_xQzD"
      },
      "source": [
        "Plot the generated word vectors in 2D space"
      ]
    },
    {
      "cell_type": "code",
      "metadata": {
        "id": "JjT_uNh0wthj",
        "colab": {
          "base_uri": "https://localhost:8080/",
          "height": 711
        },
        "outputId": "9dacb002-fa09-446c-fc78-bb3b6f9aa1a6"
      },
      "source": [
        "from sklearn.manifold import TSNE\n",
        "\n",
        "# input data: vectors for all tokens\n",
        "weights = model.wv.vectors\n",
        "\n",
        "# only do this when the vocabulary is not too big....\n",
        "if len(weights) < 100:\n",
        "\n",
        "  # do T-SNE\n",
        "  tsne = TSNE(n_components=2, \n",
        "              random_state=42,\n",
        "              perplexity=30,\n",
        "              learning_rate='auto',\n",
        "              init='pca',\n",
        "              n_iter=2000\n",
        "              )\n",
        "  T = tsne.fit_transform(weights)\n",
        "\n",
        "  # plot\n",
        "  projected = pd.DataFrame(T)\n",
        "\n",
        "  fig = px.scatter(\n",
        "      projected, \n",
        "      x=0, y=1,\n",
        "      #color='mode',\n",
        "      text=model.wv.index_to_key,\n",
        "      width=800, height=600,\n",
        "      title=\"T-SNE applied to Chord Vectors for Tunes in Cmaj/Amin\"\n",
        "  )\n",
        "  fig.update_traces(textposition='top center')\n",
        "  fig.update_traces(textfont_size=12, selector=dict(type='scatter'))\n",
        "  fig.show()"
      ],
      "execution_count": 96,
      "outputs": [
        {
          "output_type": "stream",
          "name": "stderr",
          "text": [
            "/usr/local/lib/python3.7/dist-packages/sklearn/manifold/_t_sne.py:986: FutureWarning:\n",
            "\n",
            "The PCA initialization in TSNE will change to have the standard deviation of PC1 equal to 1e-4 in 1.2. This will ensure better convergence.\n",
            "\n"
          ]
        },
        {
          "output_type": "display_data",
          "data": {
            "text/html": [
              "<html>\n",
              "<head><meta charset=\"utf-8\" /></head>\n",
              "<body>\n",
              "    <div>\n",
              "            <script src=\"https://cdnjs.cloudflare.com/ajax/libs/mathjax/2.7.5/MathJax.js?config=TeX-AMS-MML_SVG\"></script><script type=\"text/javascript\">if (window.MathJax) {MathJax.Hub.Config({SVG: {font: \"STIX-Web\"}});}</script>\n",
              "                <script type=\"text/javascript\">window.PlotlyConfig = {MathJaxConfig: 'local'};</script>\n",
              "        <script src=\"https://cdn.plot.ly/plotly-latest.min.js\"></script>    \n",
              "            <div id=\"e4226629-1fd1-44a4-aac5-c5fd7a5cb211\" class=\"plotly-graph-div\" style=\"height:600px; width:800px;\"></div>\n",
              "            <script type=\"text/javascript\">\n",
              "                \n",
              "                    window.PLOTLYENV=window.PLOTLYENV || {};\n",
              "                    \n",
              "                if (document.getElementById(\"e4226629-1fd1-44a4-aac5-c5fd7a5cb211\")) {\n",
              "                    Plotly.newPlot(\n",
              "                        'e4226629-1fd1-44a4-aac5-c5fd7a5cb211',\n",
              "                        [{\"hoverlabel\": {\"namelength\": 0}, \"hovertemplate\": \"0=%{x}<br>1=%{y}<br>text=%{text}\", \"legendgroup\": \"\", \"marker\": {\"color\": \"#636efa\", \"symbol\": \"circle\"}, \"mode\": \"markers+text\", \"name\": \"\", \"showlegend\": false, \"text\": [\"C\", \"G7\", \"Dm\", \"Am\", \"A7\", \"D7\", \"F\", \"C7\", \"E7\", \"Em\", \"F7\", \"Bb7\", \"Fm\", \"B7\", \"Gm\", \"G#7\", \"Bm7b5\", \"G\", \"Ebdim\", \"Eb7\", \"Cm\", \"F#m7b5\", \"C#7\", \"Bm\", \"G#\", \"Bb\", \"Em7b5\", \"F#7\", \"E\", \"F#m\", \"Eb\", \"F#dim\", \"C#dim\", \"Ebm\", \"C#\", \"A\", \"Dm7b5\", \"Bbm\", \"D\", \"C#m\", \"Cdim\", \"G#m\", \"B\", \"F#\", \"G#dim\", \"Am7b5\", \"Gdim\", \"Fdim\", \"C#m7b5\", \"Adim\", \"Gm7b5\", \"Edim\", \"G#m7b5\", \"Fm7b5\", \"Bbdim\", \"Bbm7b5\", \"Ddim\", \"Bdim\", \"Ebm7b5\", \"Cm7b5\"], \"textfont\": {\"size\": 12}, \"textposition\": \"top center\", \"type\": \"scatter\", \"x\": [1.762151837348938, 2.0905795097351074, 2.0903286933898926, 1.5158952474594116, 1.5397028923034668, 2.3425230979919434, 1.8947845697402954, 2.075742244720459, 1.5861537456512451, 2.2483792304992676, 2.527144193649292, 2.983581304550171, 2.6923420429229736, 1.462337851524353, 2.376878499984741, 2.7039315700531006, 2.3349859714508057, 1.9665616750717163, 1.4170137643814087, 3.9259989261627197, 3.0708348751068115, 2.2819409370422363, 3.805663824081421, 1.500059962272644, 3.3247036933898926, 2.7488372325897217, 2.7299673557281494, 0.782394528388977, 0.6999348998069763, 0.4299771785736084, 3.305811882019043, 2.1968963146209717, 1.1912819147109985, 2.3481175899505615, 2.8119583129882812, 0.8270494341850281, 3.1577188968658447, 3.284977912902832, 2.0169262886047363, 1.072514295578003, 0.45665377378463745, 1.7440625429153442, 1.5210334062576294, 2.6131527423858643, 1.4777559041976929, 3.5388100147247314, 0.44949018955230713, 0.5713298320770264, 4.6484222412109375, -0.23402553796768188, 2.900338649749756, 3.5997166633605957, -0.2001560628414154, 3.052546262741089, 1.119930386543274, 1.8372535705566406, 0.5676042437553406, 1.4550963640213013, 0.9321004748344421, 2.7440409660339355], \"xaxis\": \"x\", \"y\": [1.1348302364349365, 1.0802702903747559, 0.7684319019317627, 1.1145323514938354, 1.4320957660675049, 0.9312577843666077, 1.4891194105148315, 0.863248884677887, 0.7431443929672241, 1.3386328220367432, 0.02744821272790432, 1.134605050086975, 0.5902500748634338, -0.06494666635990143, 0.7110840678215027, -0.3509919345378876, 1.10149085521698, 0.07671253383159637, 1.52772057056427, -1.211888313293457, -0.8962838053703308, 2.2329156398773193, -2.3098204135894775, -0.895109236240387, -1.576484203338623, -0.7928757071495056, 1.7656489610671997, -2.512434482574463, -1.221854329109192, -1.015520691871643, -1.0107659101486206, 1.8931968212127686, 1.343872308731079, -1.657821774482727, -1.7399870157241821, -0.8044695258140564, 0.16567066311836243, -1.7427482604980469, -0.8486625552177429, -1.9055628776550293, 1.3098784685134888, -2.3810763359069824, -2.9988410472869873, -2.3127403259277344, 2.356445550918579, 0.04119093716144562, 0.8158565163612366, 2.264221429824829, 0.24224212765693665, -0.17018619179725647, -2.2403931617736816, 2.0029358863830566, -1.6560375690460205, -2.8074021339416504, -0.576333224773407, -2.715679883956909, -0.07289815694093704, -0.5351261496543884, -1.4987280368804932, -1.4887793064117432], \"yaxis\": \"y\"}],\n",
              "                        {\"height\": 600, \"legend\": {\"tracegroupgap\": 0}, \"template\": {\"data\": {\"bar\": [{\"error_x\": {\"color\": \"#2a3f5f\"}, \"error_y\": {\"color\": \"#2a3f5f\"}, \"marker\": {\"line\": {\"color\": \"#E5ECF6\", \"width\": 0.5}}, \"type\": \"bar\"}], \"barpolar\": [{\"marker\": {\"line\": {\"color\": \"#E5ECF6\", \"width\": 0.5}}, \"type\": \"barpolar\"}], \"carpet\": [{\"aaxis\": {\"endlinecolor\": \"#2a3f5f\", \"gridcolor\": \"white\", \"linecolor\": \"white\", \"minorgridcolor\": \"white\", \"startlinecolor\": \"#2a3f5f\"}, \"baxis\": {\"endlinecolor\": \"#2a3f5f\", \"gridcolor\": \"white\", \"linecolor\": \"white\", \"minorgridcolor\": \"white\", \"startlinecolor\": \"#2a3f5f\"}, \"type\": \"carpet\"}], \"choropleth\": [{\"colorbar\": {\"outlinewidth\": 0, \"ticks\": \"\"}, \"type\": \"choropleth\"}], \"contour\": [{\"colorbar\": {\"outlinewidth\": 0, \"ticks\": \"\"}, \"colorscale\": [[0.0, \"#0d0887\"], [0.1111111111111111, \"#46039f\"], [0.2222222222222222, \"#7201a8\"], [0.3333333333333333, \"#9c179e\"], [0.4444444444444444, \"#bd3786\"], [0.5555555555555556, \"#d8576b\"], [0.6666666666666666, \"#ed7953\"], [0.7777777777777778, \"#fb9f3a\"], [0.8888888888888888, \"#fdca26\"], [1.0, \"#f0f921\"]], \"type\": \"contour\"}], \"contourcarpet\": [{\"colorbar\": {\"outlinewidth\": 0, \"ticks\": \"\"}, \"type\": \"contourcarpet\"}], \"heatmap\": [{\"colorbar\": {\"outlinewidth\": 0, \"ticks\": \"\"}, \"colorscale\": [[0.0, \"#0d0887\"], [0.1111111111111111, \"#46039f\"], [0.2222222222222222, \"#7201a8\"], [0.3333333333333333, \"#9c179e\"], [0.4444444444444444, \"#bd3786\"], [0.5555555555555556, \"#d8576b\"], [0.6666666666666666, \"#ed7953\"], [0.7777777777777778, \"#fb9f3a\"], [0.8888888888888888, \"#fdca26\"], [1.0, \"#f0f921\"]], \"type\": \"heatmap\"}], \"heatmapgl\": [{\"colorbar\": {\"outlinewidth\": 0, \"ticks\": \"\"}, \"colorscale\": [[0.0, \"#0d0887\"], [0.1111111111111111, \"#46039f\"], [0.2222222222222222, \"#7201a8\"], [0.3333333333333333, \"#9c179e\"], [0.4444444444444444, \"#bd3786\"], [0.5555555555555556, \"#d8576b\"], [0.6666666666666666, \"#ed7953\"], [0.7777777777777778, \"#fb9f3a\"], [0.8888888888888888, \"#fdca26\"], [1.0, \"#f0f921\"]], \"type\": \"heatmapgl\"}], \"histogram\": [{\"marker\": {\"colorbar\": {\"outlinewidth\": 0, \"ticks\": \"\"}}, \"type\": \"histogram\"}], \"histogram2d\": [{\"colorbar\": {\"outlinewidth\": 0, \"ticks\": \"\"}, \"colorscale\": [[0.0, \"#0d0887\"], [0.1111111111111111, \"#46039f\"], [0.2222222222222222, \"#7201a8\"], [0.3333333333333333, \"#9c179e\"], [0.4444444444444444, \"#bd3786\"], [0.5555555555555556, \"#d8576b\"], [0.6666666666666666, \"#ed7953\"], [0.7777777777777778, \"#fb9f3a\"], [0.8888888888888888, \"#fdca26\"], [1.0, \"#f0f921\"]], \"type\": \"histogram2d\"}], \"histogram2dcontour\": [{\"colorbar\": {\"outlinewidth\": 0, \"ticks\": \"\"}, \"colorscale\": [[0.0, \"#0d0887\"], [0.1111111111111111, \"#46039f\"], [0.2222222222222222, \"#7201a8\"], [0.3333333333333333, \"#9c179e\"], [0.4444444444444444, \"#bd3786\"], [0.5555555555555556, \"#d8576b\"], [0.6666666666666666, \"#ed7953\"], [0.7777777777777778, \"#fb9f3a\"], [0.8888888888888888, \"#fdca26\"], [1.0, \"#f0f921\"]], \"type\": \"histogram2dcontour\"}], \"mesh3d\": [{\"colorbar\": {\"outlinewidth\": 0, \"ticks\": \"\"}, \"type\": \"mesh3d\"}], \"parcoords\": [{\"line\": {\"colorbar\": {\"outlinewidth\": 0, \"ticks\": \"\"}}, \"type\": \"parcoords\"}], \"pie\": [{\"automargin\": true, \"type\": \"pie\"}], \"scatter\": [{\"marker\": {\"colorbar\": {\"outlinewidth\": 0, \"ticks\": \"\"}}, \"type\": \"scatter\"}], \"scatter3d\": [{\"line\": {\"colorbar\": {\"outlinewidth\": 0, \"ticks\": \"\"}}, \"marker\": {\"colorbar\": {\"outlinewidth\": 0, \"ticks\": \"\"}}, \"type\": \"scatter3d\"}], \"scattercarpet\": [{\"marker\": {\"colorbar\": {\"outlinewidth\": 0, \"ticks\": \"\"}}, \"type\": \"scattercarpet\"}], \"scattergeo\": [{\"marker\": {\"colorbar\": {\"outlinewidth\": 0, \"ticks\": \"\"}}, \"type\": \"scattergeo\"}], \"scattergl\": [{\"marker\": {\"colorbar\": {\"outlinewidth\": 0, \"ticks\": \"\"}}, \"type\": \"scattergl\"}], \"scattermapbox\": [{\"marker\": {\"colorbar\": {\"outlinewidth\": 0, \"ticks\": \"\"}}, \"type\": \"scattermapbox\"}], \"scatterpolar\": [{\"marker\": {\"colorbar\": {\"outlinewidth\": 0, \"ticks\": \"\"}}, \"type\": \"scatterpolar\"}], \"scatterpolargl\": [{\"marker\": {\"colorbar\": {\"outlinewidth\": 0, \"ticks\": \"\"}}, \"type\": \"scatterpolargl\"}], \"scatterternary\": [{\"marker\": {\"colorbar\": {\"outlinewidth\": 0, \"ticks\": \"\"}}, \"type\": \"scatterternary\"}], \"surface\": [{\"colorbar\": {\"outlinewidth\": 0, \"ticks\": \"\"}, \"colorscale\": [[0.0, \"#0d0887\"], [0.1111111111111111, \"#46039f\"], [0.2222222222222222, \"#7201a8\"], [0.3333333333333333, \"#9c179e\"], [0.4444444444444444, \"#bd3786\"], [0.5555555555555556, \"#d8576b\"], [0.6666666666666666, \"#ed7953\"], [0.7777777777777778, \"#fb9f3a\"], [0.8888888888888888, \"#fdca26\"], [1.0, \"#f0f921\"]], \"type\": \"surface\"}], \"table\": [{\"cells\": {\"fill\": {\"color\": \"#EBF0F8\"}, \"line\": {\"color\": \"white\"}}, \"header\": {\"fill\": {\"color\": \"#C8D4E3\"}, \"line\": {\"color\": \"white\"}}, \"type\": \"table\"}]}, \"layout\": {\"annotationdefaults\": {\"arrowcolor\": \"#2a3f5f\", \"arrowhead\": 0, \"arrowwidth\": 1}, \"coloraxis\": {\"colorbar\": {\"outlinewidth\": 0, \"ticks\": \"\"}}, \"colorscale\": {\"diverging\": [[0, \"#8e0152\"], [0.1, \"#c51b7d\"], [0.2, \"#de77ae\"], [0.3, \"#f1b6da\"], [0.4, \"#fde0ef\"], [0.5, \"#f7f7f7\"], [0.6, \"#e6f5d0\"], [0.7, \"#b8e186\"], [0.8, \"#7fbc41\"], [0.9, \"#4d9221\"], [1, \"#276419\"]], \"sequential\": [[0.0, \"#0d0887\"], [0.1111111111111111, \"#46039f\"], [0.2222222222222222, \"#7201a8\"], [0.3333333333333333, \"#9c179e\"], [0.4444444444444444, \"#bd3786\"], [0.5555555555555556, \"#d8576b\"], [0.6666666666666666, \"#ed7953\"], [0.7777777777777778, \"#fb9f3a\"], [0.8888888888888888, \"#fdca26\"], [1.0, \"#f0f921\"]], \"sequentialminus\": [[0.0, \"#0d0887\"], [0.1111111111111111, \"#46039f\"], [0.2222222222222222, \"#7201a8\"], [0.3333333333333333, \"#9c179e\"], [0.4444444444444444, \"#bd3786\"], [0.5555555555555556, \"#d8576b\"], [0.6666666666666666, \"#ed7953\"], [0.7777777777777778, \"#fb9f3a\"], [0.8888888888888888, \"#fdca26\"], [1.0, \"#f0f921\"]]}, \"colorway\": [\"#636efa\", \"#EF553B\", \"#00cc96\", \"#ab63fa\", \"#FFA15A\", \"#19d3f3\", \"#FF6692\", \"#B6E880\", \"#FF97FF\", \"#FECB52\"], \"font\": {\"color\": \"#2a3f5f\"}, \"geo\": {\"bgcolor\": \"white\", \"lakecolor\": \"white\", \"landcolor\": \"#E5ECF6\", \"showlakes\": true, \"showland\": true, \"subunitcolor\": \"white\"}, \"hoverlabel\": {\"align\": \"left\"}, \"hovermode\": \"closest\", \"mapbox\": {\"style\": \"light\"}, \"paper_bgcolor\": \"white\", \"plot_bgcolor\": \"#E5ECF6\", \"polar\": {\"angularaxis\": {\"gridcolor\": \"white\", \"linecolor\": \"white\", \"ticks\": \"\"}, \"bgcolor\": \"#E5ECF6\", \"radialaxis\": {\"gridcolor\": \"white\", \"linecolor\": \"white\", \"ticks\": \"\"}}, \"scene\": {\"xaxis\": {\"backgroundcolor\": \"#E5ECF6\", \"gridcolor\": \"white\", \"gridwidth\": 2, \"linecolor\": \"white\", \"showbackground\": true, \"ticks\": \"\", \"zerolinecolor\": \"white\"}, \"yaxis\": {\"backgroundcolor\": \"#E5ECF6\", \"gridcolor\": \"white\", \"gridwidth\": 2, \"linecolor\": \"white\", \"showbackground\": true, \"ticks\": \"\", \"zerolinecolor\": \"white\"}, \"zaxis\": {\"backgroundcolor\": \"#E5ECF6\", \"gridcolor\": \"white\", \"gridwidth\": 2, \"linecolor\": \"white\", \"showbackground\": true, \"ticks\": \"\", \"zerolinecolor\": \"white\"}}, \"shapedefaults\": {\"line\": {\"color\": \"#2a3f5f\"}}, \"ternary\": {\"aaxis\": {\"gridcolor\": \"white\", \"linecolor\": \"white\", \"ticks\": \"\"}, \"baxis\": {\"gridcolor\": \"white\", \"linecolor\": \"white\", \"ticks\": \"\"}, \"bgcolor\": \"#E5ECF6\", \"caxis\": {\"gridcolor\": \"white\", \"linecolor\": \"white\", \"ticks\": \"\"}}, \"title\": {\"x\": 0.05}, \"xaxis\": {\"automargin\": true, \"gridcolor\": \"white\", \"linecolor\": \"white\", \"ticks\": \"\", \"title\": {\"standoff\": 15}, \"zerolinecolor\": \"white\", \"zerolinewidth\": 2}, \"yaxis\": {\"automargin\": true, \"gridcolor\": \"white\", \"linecolor\": \"white\", \"ticks\": \"\", \"title\": {\"standoff\": 15}, \"zerolinecolor\": \"white\", \"zerolinewidth\": 2}}}, \"title\": {\"text\": \"T-SNE applied to Chord Vectors for Tunes in Cmaj/Amin\"}, \"width\": 800, \"xaxis\": {\"anchor\": \"y\", \"domain\": [0.0, 1.0], \"title\": {\"text\": \"0\"}}, \"yaxis\": {\"anchor\": \"x\", \"domain\": [0.0, 1.0], \"title\": {\"text\": \"1\"}}},\n",
              "                        {\"responsive\": true}\n",
              "                    ).then(function(){\n",
              "                            \n",
              "var gd = document.getElementById('e4226629-1fd1-44a4-aac5-c5fd7a5cb211');\n",
              "var x = new MutationObserver(function (mutations, observer) {{\n",
              "        var display = window.getComputedStyle(gd).display;\n",
              "        if (!display || display === 'none') {{\n",
              "            console.log([gd, 'removed!']);\n",
              "            Plotly.purge(gd);\n",
              "            observer.disconnect();\n",
              "        }}\n",
              "}});\n",
              "\n",
              "// Listen for the removal of the full notebook cells\n",
              "var notebookContainer = gd.closest('#notebook-container');\n",
              "if (notebookContainer) {{\n",
              "    x.observe(notebookContainer, {childList: true});\n",
              "}}\n",
              "\n",
              "// Listen for the clearing of the current output cell\n",
              "var outputEl = gd.closest('.output');\n",
              "if (outputEl) {{\n",
              "    x.observe(outputEl, {childList: true});\n",
              "}}\n",
              "\n",
              "                        })\n",
              "                };\n",
              "                \n",
              "            </script>\n",
              "        </div>\n",
              "</body>\n",
              "</html>"
            ]
          },
          "metadata": {}
        }
      ]
    },
    {
      "cell_type": "markdown",
      "metadata": {
        "id": "ajqb904KDwNV"
      },
      "source": [
        "## Section Similarity\n"
      ]
    },
    {
      "cell_type": "markdown",
      "metadata": {
        "id": "HS_k1g6ujjKP"
      },
      "source": [
        "### Single Tunes"
      ]
    },
    {
      "cell_type": "code",
      "metadata": {
        "id": "mPnEPL_k4TZn"
      },
      "source": [
        "def get_section_scores_doc2vec(tunes):\n",
        "\n",
        "  df_sim = pd.DataFrame(columns=['reference_title',\n",
        "                                 'reference_titleid',\n",
        "                                 'similar_title',\n",
        "                                 'similar_titleid',\n",
        "                                 'ref_section', \n",
        "                                 'similar_section', \n",
        "                                 'score', \n",
        "                                 ])\n",
        "\n",
        "  tag_sections_and_tunes = doc2vec_config['general']['tag_sections_and_tunes']\n",
        "\n",
        "  ### get titleid from tunes, use enumerate\n",
        "\n",
        "  for tune in tunes:\n",
        "    print()\n",
        "    print(\"-\"*50)\n",
        "    for s1 in title_to_sectionid[tune]:\n",
        "    \n",
        "      # sections are tagged with the numeric sectionid and can be used for querying\n",
        "      sims = model.dv.similar_by_key(s1, topn=20)\n",
        "      \n",
        "      print(s1, sectionid_to_section[s1])\n",
        "      n = 0\n",
        "      for s2, s2_score in sims:\n",
        "\n",
        "        # if the sections are tagged with both sectionid and tuneid:\n",
        "        if tag_sections_and_tunes:\n",
        "          # only consider similarities to tuneids, ignore sectionids\n",
        "          if type(s2) == str: \n",
        "            s2 = int(s2.replace('titleid_', ''))\n",
        "            # don't count self-similarity between sections of the same tune\n",
        "            if s2 not in title_to_sectionid[tune]:\n",
        "              n += 1\n",
        "          \n",
        "              # print(f\"\\t{s2_score:.3f} {sectionid_to_section[s2]}\")\n",
        "\n",
        "              df_sim.loc[len(df_sim)] = [tune,\n",
        "                                          title_to_titleid[tune],\n",
        "                                          sectionid_to_title[s2],\n",
        "                                          sectionid_to_titleid[s2],\n",
        "                                          sectionid_to_section[s1], \n",
        "                                          sectionid_to_section[s2], \n",
        "                                          s2_score, \n",
        "                                          ]\n",
        "        else:\n",
        "          if type(s2) == int: \n",
        "            # don't count self-similarity between sections of the same tune\n",
        "            if s2 not in title_to_sectionid[tune]:\n",
        "              n += 1\n",
        "          \n",
        "              # print(f\"\\t{s2_score:.3f} {sectionid_to_section[s2]}\")\n",
        "\n",
        "              df_sim.loc[len(df_sim)] = [tune,\n",
        "                                          title_to_titleid[tune],\n",
        "                                          sectionid_to_title[s2],\n",
        "                                          sectionid_to_titleid[s2],\n",
        "                                          sectionid_to_section[s1], \n",
        "                                          sectionid_to_section[s2], \n",
        "                                          s2_score, \n",
        "                                          ]            \n",
        "\n",
        "  print()\n",
        "  if tag_sections_and_tunes:\n",
        "    print(f\"Sections are tagged with the tune id, therefore only the tune similarity is evaluated.\")\n",
        "  else:\n",
        "    print(f\"Sections are tagged only with the section id, therefore only section similarity is evaluated.\")\n",
        "\n",
        "  return df_sim"
      ],
      "execution_count": 97,
      "outputs": []
    },
    {
      "cell_type": "code",
      "metadata": {
        "colab": {
          "base_uri": "https://localhost:8080/"
        },
        "id": "i_d92il649O9",
        "outputId": "8f6b419f-f44a-447d-f993-d48d74816160"
      },
      "source": [
        "_tunes = tunes_eval_list\n",
        "\n",
        "df_sim = get_section_scores_doc2vec(_tunes)\n",
        "\n",
        "result = None\n",
        "for tune in _tunes:\n",
        "  tune_result, details = recommend_tune(df_sim, tune)\n",
        "  if result is None:\n",
        "    result = pd.DataFrame(columns=tune_result.columns)\n",
        "  result = result.append(tune_result)\n",
        "\n",
        "print(f\"Result has {len(result)} rows.\")\n",
        "\n",
        "# save a copy of the results; all results will be concatenated at the end\n",
        "df_doc2vec = df_sim[:]"
      ],
      "execution_count": 98,
      "outputs": [
        {
          "output_type": "stream",
          "name": "stdout",
          "text": [
            "\n",
            "--------------------------------------------------\n",
            "188 All God's Chillun Got Rhythm, section1 (A)\n",
            "189 All God's Chillun Got Rhythm, section2 (B)\n",
            "190 All God's Chillun Got Rhythm, section3 (A)\n",
            "191 All God's Chillun Got Rhythm, section4 (C)\n",
            "\n",
            "--------------------------------------------------\n",
            "198 All Of Me, section1 (A)\n",
            "199 All Of Me, section2 (B)\n",
            "200 All Of Me, section3 (A)\n",
            "201 All Of Me, section4 (C)\n",
            "\n",
            "--------------------------------------------------\n",
            "496 Blue Moon, section1 (A)\n",
            "497 Blue Moon, section2 (A)\n",
            "498 Blue Moon, section3 (B)\n",
            "499 Blue Moon, section4 (A)\n",
            "\n",
            "--------------------------------------------------\n",
            "653 Bye Bye Blackbird, section1 (A)\n",
            "654 Bye Bye Blackbird, section2 (B)\n",
            "\n",
            "--------------------------------------------------\n",
            "1220 Exactly Like You, section1 (A)\n",
            "1221 Exactly Like You, section2 (A)\n",
            "1222 Exactly Like You, section3 (B)\n",
            "1223 Exactly Like You, section4 (A)\n",
            "\n",
            "--------------------------------------------------\n",
            "1538 Honeysuckle Rose, section1 (A)\n",
            "1539 Honeysuckle Rose, section2 (A)\n",
            "1540 Honeysuckle Rose, section3 (B)\n",
            "1541 Honeysuckle Rose, section4 (A)\n",
            "\n",
            "--------------------------------------------------\n",
            "1647 I Got Rhythm, section1 (A)\n",
            "1648 I Got Rhythm, section2 (A)\n",
            "1649 I Got Rhythm, section3 (B)\n",
            "1650 I Got Rhythm, section4 (A)\n",
            "\n",
            "--------------------------------------------------\n",
            "2670 Misty, section1 (A)\n",
            "2671 Misty, section2 (A)\n",
            "2672 Misty, section3 (B)\n",
            "2673 Misty, section4 (A)\n",
            "\n",
            "--------------------------------------------------\n",
            "2857 Naima, section1 (A)\n",
            "2858 Naima, section2 (A)\n",
            "2859 Naima, section3 (B)\n",
            "2860 Naima, section4 (A)\n",
            "\n",
            "--------------------------------------------------\n",
            "4920 Old Fashioned Love, section0 (nan)\n",
            "\n",
            "--------------------------------------------------\n",
            "3006 On The Sunny Side Of The Street, section1 (A)\n",
            "3007 On The Sunny Side Of The Street, section2 (A)\n",
            "3008 On The Sunny Side Of The Street, section3 (B)\n",
            "3009 On The Sunny Side Of The Street, section4 (A)\n",
            "\n",
            "--------------------------------------------------\n",
            "3746 Sweet Sue, Just You, section1 (A)\n",
            "3747 Sweet Sue, Just You, section2 (A)\n",
            "3748 Sweet Sue, Just You, section3 (B)\n",
            "3749 Sweet Sue, Just You, section4 (A)\n",
            "\n",
            "--------------------------------------------------\n",
            "3860 These Foolish Things, section1 (A)\n",
            "3861 These Foolish Things, section2 (A)\n",
            "3862 These Foolish Things, section3 (B)\n",
            "3863 These Foolish Things, section4 (A)\n",
            "\n",
            "Sections are tagged only with the section id, therefore only section similarity is evaluated.\n",
            "Result has 595 rows.\n"
          ]
        }
      ]
    },
    {
      "cell_type": "code",
      "metadata": {
        "colab": {
          "base_uri": "https://localhost:8080/",
          "height": 542
        },
        "id": "n4dv7VVe5NT4",
        "outputId": "a0c7e80f-989c-417b-c6ac-73ed50de3a61"
      },
      "source": [
        "import plotly.express as px\n",
        "fig = px.histogram(df_sim, x=\"score\", nbins=50, title='doc2vec sections')\n",
        "fig.show()"
      ],
      "execution_count": 99,
      "outputs": [
        {
          "output_type": "display_data",
          "data": {
            "text/html": [
              "<html>\n",
              "<head><meta charset=\"utf-8\" /></head>\n",
              "<body>\n",
              "    <div>\n",
              "            <script src=\"https://cdnjs.cloudflare.com/ajax/libs/mathjax/2.7.5/MathJax.js?config=TeX-AMS-MML_SVG\"></script><script type=\"text/javascript\">if (window.MathJax) {MathJax.Hub.Config({SVG: {font: \"STIX-Web\"}});}</script>\n",
              "                <script type=\"text/javascript\">window.PlotlyConfig = {MathJaxConfig: 'local'};</script>\n",
              "        <script src=\"https://cdn.plot.ly/plotly-latest.min.js\"></script>    \n",
              "            <div id=\"b6e614b4-4024-4078-8be9-b361eec31a25\" class=\"plotly-graph-div\" style=\"height:525px; width:100%;\"></div>\n",
              "            <script type=\"text/javascript\">\n",
              "                \n",
              "                    window.PLOTLYENV=window.PLOTLYENV || {};\n",
              "                    \n",
              "                if (document.getElementById(\"b6e614b4-4024-4078-8be9-b361eec31a25\")) {\n",
              "                    Plotly.newPlot(\n",
              "                        'b6e614b4-4024-4078-8be9-b361eec31a25',\n",
              "                        [{\"alignmentgroup\": \"True\", \"bingroup\": \"x\", \"hoverlabel\": {\"namelength\": 0}, \"hovertemplate\": \"score=%{x}<br>count=%{y}\", \"legendgroup\": \"\", \"marker\": {\"color\": \"#636efa\"}, \"name\": \"\", \"nbinsx\": 50, \"offsetgroup\": \"\", \"orientation\": \"v\", \"showlegend\": false, \"type\": \"histogram\", \"x\": [0.9524166584014893, 0.9300566911697388, 0.9286874532699585, 0.9223564863204956, 0.9201589226722717, 0.9057648777961731, 0.9018717408180237, 0.8992493748664856, 0.8876688480377197, 0.8873943090438843, 0.8865318894386292, 0.8831039667129517, 0.8830718994140625, 0.8811147212982178, 0.8807138800621033, 0.8789918422698975, 0.876496434211731, 0.8731048703193665, 0.8691324591636658, 0.9386786818504333, 0.9254825115203857, 0.9185869097709656, 0.913154661655426, 0.9003059267997742, 0.898716151714325, 0.8943652510643005, 0.8921587467193604, 0.88535475730896, 0.8849366903305054, 0.8821013569831848, 0.8796194195747375, 0.8779053688049316, 0.8746399879455566, 0.8743950128555298, 0.8726162314414978, 0.8722178339958191, 0.8719238042831421, 0.870381236076355, 0.8697444796562195, 0.9422203898429871, 0.9395154714584351, 0.9282298684120178, 0.9278013706207275, 0.9175849556922913, 0.917248010635376, 0.916520357131958, 0.9113627076148987, 0.9111741781234741, 0.9107329249382019, 0.9092162847518921, 0.9068270921707153, 0.896539032459259, 0.8944579362869263, 0.8943659067153931, 0.8940625190734863, 0.8905391097068787, 0.8896655440330505, 0.888886034488678, 0.9306259155273438, 0.9291634559631348, 0.9270692467689514, 0.921644926071167, 0.9145987629890442, 0.9125398993492126, 0.9123092293739319, 0.9025387763977051, 0.9005471467971802, 0.9003639817237854, 0.900305986404419, 0.896216869354248, 0.8950424790382385, 0.8906835317611694, 0.885420560836792, 0.8830013871192932, 0.8827959895133972, 0.8807127475738525, 0.880643904209137, 0.8786219954490662, 0.9442294836044312, 0.931526780128479, 0.9182634949684143, 0.9097865223884583, 0.9078142642974854, 0.9067313075065613, 0.9042638540267944, 0.8957409858703613, 0.8922498822212219, 0.8885339498519897, 0.8862883448600769, 0.8842619061470032, 0.8841609954833984, 0.8792184591293335, 0.8785459399223328, 0.8782758116722107, 0.8773242235183716, 0.8761693835258484, 0.8756338357925415, 0.9816683530807495, 0.9807479977607727, 0.9805880188941956, 0.9787302017211914, 0.9644376039505005, 0.9635246396064758, 0.9612734317779541, 0.9590067267417908, 0.9552446603775024, 0.9550454616546631, 0.9536759853363037, 0.9489457011222839, 0.9464787244796753, 0.944208562374115, 0.9425070285797119, 0.9422834515571594, 0.9407444596290588, 0.9404167532920837, 0.9388224482536316, 0.9370119571685791, 0.9449605345726013, 0.9335581064224243, 0.9263336658477783, 0.9215410947799683, 0.9155570268630981, 0.9147778153419495, 0.9144226908683777, 0.9121140837669373, 0.9064016342163086, 0.9036457538604736, 0.9035326838493347, 0.9014958143234253, 0.8991078734397888, 0.8971880078315735, 0.896244466304779, 0.8962103128433228, 0.8955543041229248, 0.8932734727859497, 0.8913683295249939, 0.9662600159645081, 0.9618828296661377, 0.9567899703979492, 0.9509276151657104, 0.9449193477630615, 0.9440197348594666, 0.9392048120498657, 0.9352223873138428, 0.9343286156654358, 0.9342107176780701, 0.9334561824798584, 0.93311607837677, 0.9294846057891846, 0.927669882774353, 0.9275633692741394, 0.9268234372138977, 0.9255407452583313, 0.9241815209388733, 0.923610270023346, 0.9227884411811829, 0.9419494867324829, 0.9010814428329468, 0.8999446034431458, 0.8671433329582214, 0.8662919402122498, 0.8551018834114075, 0.8438491225242615, 0.8434333205223083, 0.8422254323959351, 0.841900646686554, 0.8392061591148376, 0.8344736695289612, 0.8306940197944641, 0.8254886269569397, 0.824877142906189, 0.8224102258682251, 0.8217793703079224, 0.8212776184082031, 0.8199552297592163, 0.9018115997314453, 0.8856465816497803, 0.8745709657669067, 0.8626610040664673, 0.8618460893630981, 0.8610758781433105, 0.860203206539154, 0.8582583069801331, 0.8541677594184875, 0.8494163155555725, 0.848461925983429, 0.8472617268562317, 0.8446072936058044, 0.8415285348892212, 0.8396655917167664, 0.8362320065498352, 0.835835874080658, 0.8321593999862671, 0.8300144672393799, 0.8297008872032166, 0.846013069152832, 0.8457313776016235, 0.8258692622184753, 0.8038768172264099, 0.7971320748329163, 0.7951771020889282, 0.7894851565361023, 0.7892112135887146, 0.7882387638092041, 0.787464439868927, 0.7841833233833313, 0.7822787165641785, 0.7755995392799377, 0.7702739834785461, 0.7642316818237305, 0.7617918848991394, 0.761229932308197, 0.7584856152534485, 0.7518850564956665, 0.7493792176246643, 0.9344688057899475, 0.9075554609298706, 0.9071031212806702, 0.8863591551780701, 0.880867600440979, 0.8680990934371948, 0.8602980971336365, 0.8534976840019226, 0.8529900312423706, 0.8440418839454651, 0.8381382822990417, 0.8364966511726379, 0.8317147493362427, 0.8247312307357788, 0.8240436911582947, 0.8227978348731995, 0.8206546902656555, 0.8184230923652649, 0.818300187587738, 0.9596268534660339, 0.9462394714355469, 0.9442135095596313, 0.9374173283576965, 0.9363239407539368, 0.9338430762290955, 0.9332119226455688, 0.9321220517158508, 0.9311667084693909, 0.9230238795280457, 0.9212386608123779, 0.9209445714950562, 0.919443666934967, 0.9182621240615845, 0.9166969060897827, 0.9166345000267029, 0.9149230718612671, 0.9139294624328613, 0.9137323498725891, 0.9096567630767822, 0.9429652094841003, 0.9090534448623657, 0.9090108871459961, 0.8675463795661926, 0.8626418709754944, 0.8602033257484436, 0.8526838421821594, 0.852118968963623, 0.8463550209999084, 0.8441256880760193, 0.8376016616821289, 0.8354846239089966, 0.8318475484848022, 0.8277661204338074, 0.8214567303657532, 0.8214424252510071, 0.8193622827529907, 0.8176167607307434, 0.8158794641494751, 0.8093293309211731, 0.9746400713920593, 0.9676082730293274, 0.9607762694358826, 0.9576967358589172, 0.957429826259613, 0.9558082222938538, 0.9554995894432068, 0.950953483581543, 0.9481261372566223, 0.9474583864212036, 0.9472121000289917, 0.9443085193634033, 0.9424958229064941, 0.9407630562782288, 0.9400374293327332, 0.9328780174255371, 0.9277798533439636, 0.927460789680481, 0.9252453446388245, 0.9350085854530334, 0.9347757697105408, 0.9217239022254944, 0.9113489985466003, 0.9089095592498779, 0.9077087640762329, 0.9036478996276855, 0.8923850059509277, 0.8869322538375854, 0.8830491900444031, 0.8820696473121643, 0.8809698820114136, 0.8796076774597168, 0.879097044467926, 0.8759514689445496, 0.8741620182991028, 0.8719842433929443, 0.8696142435073853, 0.8692268133163452, 0.8690142631530762, 0.954109251499176, 0.9123855829238892, 0.9019309878349304, 0.8995637893676758, 0.8958255648612976, 0.8939031958580017, 0.8935465812683105, 0.8915188908576965, 0.8889217972755432, 0.8881344795227051, 0.8826614618301392, 0.8813551664352417, 0.8778579235076904, 0.8770158290863037, 0.8764437437057495, 0.8757152557373047, 0.8751606345176697, 0.874974250793457, 0.8731679320335388, 0.8707075715065002, 0.9677813053131104, 0.9661768674850464, 0.9649038314819336, 0.9647783041000366, 0.961434543132782, 0.9607275128364563, 0.9603022933006287, 0.9600232839584351, 0.9578492045402527, 0.9545486569404602, 0.9540923833847046, 0.9516699910163879, 0.9465004205703735, 0.9455462098121643, 0.9450596570968628, 0.9380677342414856, 0.9373942613601685, 0.9360111951828003, 0.9355958700180054, 0.9510869383811951, 0.9509125351905823, 0.9502505660057068, 0.9461566209793091, 0.9425609111785889, 0.9421972632408142, 0.9348722100257874, 0.9346997737884521, 0.9290233850479126, 0.9289941787719727, 0.9264053702354431, 0.9247889518737793, 0.9233168363571167, 0.9219946265220642, 0.9215356111526489, 0.9204141497612, 0.9197918772697449, 0.918971598148346, 0.917530357837677, 0.9669551849365234, 0.9651352763175964, 0.9625183939933777, 0.9623473882675171, 0.9620879292488098, 0.9615006446838379, 0.9593619704246521, 0.9565210938453674, 0.955830991268158, 0.9548256397247314, 0.9540187120437622, 0.9539324641227722, 0.9538828134536743, 0.9532954692840576, 0.9529120326042175, 0.9525721073150635, 0.9524934887886047, 0.9517996907234192, 0.9507948160171509, 0.9507333040237427, 0.9730247259140015, 0.9648191928863525, 0.9632289409637451, 0.9588232040405273, 0.9581617116928101, 0.9566704034805298, 0.9539225101470947, 0.950932502746582, 0.9467899203300476, 0.9419775605201721, 0.941551923751831, 0.9353082776069641, 0.927166223526001, 0.9249510765075684, 0.9224083423614502, 0.9220885038375854, 0.9206407070159912, 0.9201040863990784, 0.9182193279266357, 0.9126327037811279, 0.9346125721931458, 0.9273908138275146, 0.9242176413536072, 0.9200059771537781, 0.9169319272041321, 0.9162964820861816, 0.9155235290527344, 0.9148086905479431, 0.9116350412368774, 0.9103593826293945, 0.9103431105613708, 0.9100438952445984, 0.9098871946334839, 0.9093578457832336, 0.9081217646598816, 0.9065443873405457, 0.9057232141494751, 0.9032416939735413, 0.9017489552497864, 0.9449141025543213, 0.9429489970207214, 0.9298304915428162, 0.9287934303283691, 0.92479008436203, 0.9135916233062744, 0.9115743637084961, 0.9070138931274414, 0.9059141874313354, 0.9042099118232727, 0.9027916193008423, 0.8970441818237305, 0.896888256072998, 0.8968288898468018, 0.8966970443725586, 0.895595908164978, 0.8947649002075195, 0.8938559293746948, 0.9560052752494812, 0.9493041038513184, 0.9443026781082153, 0.9431239366531372, 0.9416407942771912, 0.9395978450775146, 0.9362773299217224, 0.9348170757293701, 0.9276973009109497, 0.924903154373169, 0.923327624797821, 0.919120728969574, 0.9176095724105835, 0.9157334566116333, 0.9151490926742554, 0.9130557179450989, 0.9126591086387634, 0.9100062847137451, 0.9719387292861938, 0.9716628193855286, 0.9700126051902771, 0.9678687453269958, 0.966894268989563, 0.966682493686676, 0.9664561152458191, 0.9661669731140137, 0.9661195874214172, 0.9642664194107056, 0.9639164805412292, 0.9597038626670837, 0.9595402479171753, 0.9595268368721008, 0.9593137502670288, 0.9585137367248535, 0.9567561149597168, 0.9558259844779968, 0.9526813626289368, 0.9512904286384583, 0.8795208930969238, 0.8742715120315552, 0.8696865439414978, 0.8587571978569031, 0.8542671203613281, 0.8536381721496582, 0.8505153656005859, 0.8501498699188232, 0.8445299863815308, 0.8432372212409973, 0.8424724340438843, 0.8418726921081543, 0.8414793014526367, 0.8410484790802002, 0.8383800387382507, 0.8380769491195679, 0.8380205631256104, 0.8369773626327515, 0.9389914870262146, 0.9297819137573242, 0.9230512380599976, 0.9195249080657959, 0.9172476530075073, 0.9172106385231018, 0.9168675541877747, 0.9162871837615967, 0.916059672832489, 0.9140501022338867, 0.9117791056632996, 0.911377489566803, 0.9112228751182556, 0.910758912563324, 0.9106932282447815, 0.9105095267295837, 0.9081175923347473, 0.9078270196914673, 0.9065775871276855, 0.9460868239402771, 0.9411087036132812, 0.9401279091835022, 0.9303897023200989, 0.9299132823944092, 0.9291252493858337, 0.9204552173614502, 0.916745126247406, 0.9167122840881348, 0.9158358573913574, 0.915553629398346, 0.9122417569160461, 0.911832869052887, 0.908368706703186, 0.9073877930641174, 0.9069352149963379, 0.9059993624687195, 0.9056211113929749, 0.8208886384963989, 0.8168017864227295, 0.8165147304534912, 0.7941763401031494, 0.7917620539665222, 0.7909619808197021, 0.789696991443634, 0.7855169177055359, 0.7842280864715576, 0.76662278175354, 0.7646892070770264, 0.7615323662757874, 0.7599941492080688, 0.7563113570213318, 0.753218412399292, 0.7513303756713867, 0.751270592212677, 0.7510625720024109, 0.7463616728782654, 0.7463271617889404, 0.9388042688369751, 0.9382171034812927, 0.9347825050354004, 0.934712290763855, 0.9280908703804016, 0.9257240891456604, 0.9230462312698364, 0.9218926429748535, 0.9217607378959656, 0.9190884828567505, 0.9188256859779358, 0.9180160164833069, 0.9169335961341858, 0.9150538444519043, 0.912942111492157, 0.9077070355415344, 0.9044643044471741, 0.9020514488220215, 0.9014456868171692, 0.882270097732544, 0.8777221441268921, 0.8766871094703674, 0.8728106617927551, 0.8611319661140442, 0.858004629611969, 0.8548420667648315, 0.8542935252189636, 0.8515610694885254, 0.8499618768692017, 0.8477872014045715, 0.8459712862968445, 0.8447067141532898, 0.8408596515655518, 0.8389460444450378, 0.8387494683265686, 0.8384982347488403, 0.8375964760780334, 0.9280983805656433, 0.9250003099441528, 0.9202102422714233, 0.9171933531761169, 0.9162788391113281, 0.9127264618873596, 0.9123056530952454, 0.9118237495422363, 0.9049186706542969, 0.8943215608596802, 0.8930872678756714, 0.8895779252052307, 0.8830111622810364, 0.8781740069389343, 0.8753999471664429, 0.870549201965332, 0.8697108626365662, 0.8691899180412292, 0.8690021634101868, 0.9123640656471252, 0.9084746837615967, 0.8939799070358276, 0.863379955291748, 0.8576284050941467, 0.8498618602752686, 0.8493009805679321, 0.8375890851020813, 0.8358216881752014, 0.8328522443771362, 0.8317270278930664, 0.8313924074172974, 0.8283659815788269, 0.8272556066513062, 0.8218494057655334, 0.8215025663375854, 0.8174127340316772, 0.813330352306366, 0.8132491707801819, 0.8098627328872681, 0.8629879355430603, 0.8553222417831421, 0.8416410684585571, 0.8375377655029297, 0.829525351524353, 0.8249787092208862, 0.8182328939437866, 0.816356897354126, 0.812152087688446, 0.809714674949646, 0.8076841831207275, 0.8060989379882812, 0.8058180212974548, 0.8043329119682312, 0.8022028207778931, 0.7983109354972839, 0.7948726415634155, 0.7937003374099731, 0.9351401925086975, 0.9180610179901123, 0.9127572774887085, 0.9123678207397461, 0.9110898375511169, 0.9030519127845764, 0.9019912481307983, 0.8975328803062439, 0.8929791450500488, 0.8869478702545166, 0.8861056566238403, 0.8859629034996033, 0.8843075633049011, 0.8842470049858093, 0.8839797973632812, 0.8827866315841675, 0.8797370791435242, 0.8768888711929321, 0.8759199976921082, 0.8755737543106079, 0.931693971157074, 0.9307788014411926, 0.9307217597961426, 0.9174174666404724, 0.9147778749465942, 0.9116725921630859, 0.9075592756271362, 0.906570315361023, 0.9054802060127258, 0.903958261013031, 0.8976134061813354, 0.8973028063774109, 0.8971365690231323, 0.8861135840415955, 0.8845446705818176, 0.8822232484817505, 0.8791923522949219, 0.8788143992424011, 0.8786963820457458, 0.9679935574531555, 0.9576987624168396, 0.9559534788131714, 0.9548389315605164, 0.9481743574142456, 0.9439281821250916, 0.9405153393745422, 0.9388952851295471, 0.9382500052452087, 0.934141993522644, 0.9321760535240173, 0.928640604019165, 0.9259517788887024, 0.9249809980392456, 0.9230855703353882, 0.9224199652671814, 0.9197869300842285, 0.9190593361854553, 0.9186590313911438, 0.9284408092498779, 0.9256930947303772, 0.894489049911499, 0.892611026763916, 0.8900846242904663, 0.8870551586151123, 0.8804116249084473, 0.8749440312385559, 0.8747599124908447, 0.8720337152481079, 0.8713264465332031, 0.8694390058517456, 0.869158923625946, 0.8681079149246216, 0.8652830123901367, 0.8647487759590149, 0.8639751672744751, 0.8638818860054016, 0.8618325591087341, 0.8609734773635864, 0.9465145468711853, 0.9464261531829834, 0.9422542452812195, 0.942168653011322, 0.9418668150901794, 0.9349018335342407, 0.9300705194473267, 0.9288521409034729, 0.9250333905220032, 0.9187493920326233, 0.9178645610809326, 0.9174113273620605, 0.9163802862167358, 0.9142006635665894, 0.9128601551055908, 0.9116862416267395, 0.911099910736084, 0.9080828428268433, 0.9079886674880981, 0.9773076772689819, 0.9703536629676819, 0.9695443511009216, 0.9676337838172913, 0.9634378552436829, 0.9630077481269836, 0.9618467092514038, 0.9618378281593323, 0.9618160724639893, 0.9610716700553894, 0.9598934650421143, 0.95868319272995, 0.9584165811538696, 0.9565788507461548, 0.9549822807312012, 0.9543986916542053, 0.9540520310401917, 0.9529852867126465, 0.9506831765174866, 0.9745778441429138, 0.9743197560310364, 0.9715620875358582, 0.9712475538253784, 0.970372200012207, 0.9699580073356628, 0.9681075215339661, 0.9668715596199036, 0.9663253426551819, 0.9635148644447327, 0.9634825587272644, 0.963469922542572, 0.9629806280136108, 0.9616299271583557, 0.9598128795623779, 0.959810197353363, 0.9596827626228333, 0.9594725966453552, 0.9584014415740967, 0.9618985652923584, 0.9498382806777954, 0.9429384469985962, 0.9428317546844482, 0.9389726519584656, 0.936812162399292, 0.9291790723800659, 0.9278229475021362, 0.917236864566803, 0.91298907995224, 0.911272406578064, 0.9079344868659973, 0.9078938961029053, 0.9030300378799438, 0.9024502635002136, 0.8988165855407715, 0.8961068987846375, 0.885644793510437, 0.885631799697876, 0.8792818784713745, 0.9728580117225647, 0.9728261232376099, 0.9715696573257446, 0.9708952903747559, 0.9705216884613037, 0.9702759385108948, 0.9702733755111694, 0.969940721988678, 0.96666419506073, 0.9662215709686279, 0.9656363725662231, 0.9648540019989014, 0.963712215423584, 0.9634408354759216, 0.9632796049118042, 0.959919273853302, 0.9598633646965027, 0.9590142965316772, 0.9578037261962891, 0.9262115955352783, 0.9173516631126404, 0.9112737774848938, 0.8841646313667297, 0.876088559627533, 0.8698764443397522, 0.8693850040435791, 0.8648953437805176, 0.8610641360282898, 0.8597020506858826, 0.8589404821395874, 0.8567332625389099, 0.8558654189109802, 0.8548140525817871, 0.85164874792099, 0.849682092666626, 0.8476558327674866, 0.8475834131240845, 0.841607391834259, 0.9396977424621582, 0.9169755578041077, 0.9046981334686279, 0.9044767022132874, 0.8897588849067688, 0.8855521082878113, 0.8830004930496216, 0.8796417713165283, 0.8765088319778442, 0.876466691493988, 0.8747734427452087, 0.872200608253479, 0.8667102456092834, 0.8666993975639343, 0.866007924079895, 0.8654942512512207, 0.8646706342697144, 0.8639794588088989, 0.8616518974304199, 0.8599686622619629, 0.8262968063354492, 0.807249903678894, 0.7952808737754822, 0.779606819152832, 0.7625188827514648, 0.7563087940216064, 0.7533864378929138, 0.7532300353050232, 0.7481269836425781, 0.7462393641471863, 0.7440453171730042, 0.7418124675750732, 0.7357754111289978, 0.735643744468689, 0.7339917421340942, 0.7321405410766602, 0.7313211560249329, 0.730912983417511, 0.7259342074394226, 0.7234848141670227, 0.8975820541381836, 0.8966020941734314, 0.8921166062355042, 0.8888044357299805, 0.8735169172286987, 0.8678287267684937, 0.8661625385284424, 0.8646853566169739, 0.8642123341560364, 0.8641169667243958, 0.8637828826904297, 0.8611010313034058, 0.8607783913612366, 0.8581399321556091, 0.8564491868019104, 0.8560682535171509, 0.8538292646408081, 0.8527003526687622, 0.8525296449661255], \"xaxis\": \"x\", \"yaxis\": \"y\"}],\n",
              "                        {\"barmode\": \"relative\", \"legend\": {\"tracegroupgap\": 0}, \"template\": {\"data\": {\"bar\": [{\"error_x\": {\"color\": \"#2a3f5f\"}, \"error_y\": {\"color\": \"#2a3f5f\"}, \"marker\": {\"line\": {\"color\": \"#E5ECF6\", \"width\": 0.5}}, \"type\": \"bar\"}], \"barpolar\": [{\"marker\": {\"line\": {\"color\": \"#E5ECF6\", \"width\": 0.5}}, \"type\": \"barpolar\"}], \"carpet\": [{\"aaxis\": {\"endlinecolor\": \"#2a3f5f\", \"gridcolor\": \"white\", \"linecolor\": \"white\", \"minorgridcolor\": \"white\", \"startlinecolor\": \"#2a3f5f\"}, \"baxis\": {\"endlinecolor\": \"#2a3f5f\", \"gridcolor\": \"white\", \"linecolor\": \"white\", \"minorgridcolor\": \"white\", \"startlinecolor\": \"#2a3f5f\"}, \"type\": \"carpet\"}], \"choropleth\": [{\"colorbar\": {\"outlinewidth\": 0, \"ticks\": \"\"}, \"type\": \"choropleth\"}], \"contour\": [{\"colorbar\": {\"outlinewidth\": 0, \"ticks\": \"\"}, \"colorscale\": [[0.0, \"#0d0887\"], [0.1111111111111111, \"#46039f\"], [0.2222222222222222, \"#7201a8\"], [0.3333333333333333, \"#9c179e\"], [0.4444444444444444, \"#bd3786\"], [0.5555555555555556, \"#d8576b\"], [0.6666666666666666, \"#ed7953\"], [0.7777777777777778, \"#fb9f3a\"], [0.8888888888888888, \"#fdca26\"], [1.0, \"#f0f921\"]], \"type\": \"contour\"}], \"contourcarpet\": [{\"colorbar\": {\"outlinewidth\": 0, \"ticks\": \"\"}, \"type\": \"contourcarpet\"}], \"heatmap\": [{\"colorbar\": {\"outlinewidth\": 0, \"ticks\": \"\"}, \"colorscale\": [[0.0, \"#0d0887\"], [0.1111111111111111, \"#46039f\"], [0.2222222222222222, \"#7201a8\"], [0.3333333333333333, \"#9c179e\"], [0.4444444444444444, \"#bd3786\"], [0.5555555555555556, \"#d8576b\"], [0.6666666666666666, \"#ed7953\"], [0.7777777777777778, \"#fb9f3a\"], [0.8888888888888888, \"#fdca26\"], [1.0, \"#f0f921\"]], \"type\": \"heatmap\"}], \"heatmapgl\": [{\"colorbar\": {\"outlinewidth\": 0, \"ticks\": \"\"}, \"colorscale\": [[0.0, \"#0d0887\"], [0.1111111111111111, \"#46039f\"], [0.2222222222222222, \"#7201a8\"], [0.3333333333333333, \"#9c179e\"], [0.4444444444444444, \"#bd3786\"], [0.5555555555555556, \"#d8576b\"], [0.6666666666666666, \"#ed7953\"], [0.7777777777777778, \"#fb9f3a\"], [0.8888888888888888, \"#fdca26\"], [1.0, \"#f0f921\"]], \"type\": \"heatmapgl\"}], \"histogram\": [{\"marker\": {\"colorbar\": {\"outlinewidth\": 0, \"ticks\": \"\"}}, \"type\": \"histogram\"}], \"histogram2d\": [{\"colorbar\": {\"outlinewidth\": 0, \"ticks\": \"\"}, \"colorscale\": [[0.0, \"#0d0887\"], [0.1111111111111111, \"#46039f\"], [0.2222222222222222, \"#7201a8\"], [0.3333333333333333, \"#9c179e\"], [0.4444444444444444, \"#bd3786\"], [0.5555555555555556, \"#d8576b\"], [0.6666666666666666, \"#ed7953\"], [0.7777777777777778, \"#fb9f3a\"], [0.8888888888888888, \"#fdca26\"], [1.0, \"#f0f921\"]], \"type\": \"histogram2d\"}], \"histogram2dcontour\": [{\"colorbar\": {\"outlinewidth\": 0, \"ticks\": \"\"}, \"colorscale\": [[0.0, \"#0d0887\"], [0.1111111111111111, \"#46039f\"], [0.2222222222222222, \"#7201a8\"], [0.3333333333333333, \"#9c179e\"], [0.4444444444444444, \"#bd3786\"], [0.5555555555555556, \"#d8576b\"], [0.6666666666666666, \"#ed7953\"], [0.7777777777777778, \"#fb9f3a\"], [0.8888888888888888, \"#fdca26\"], [1.0, \"#f0f921\"]], \"type\": \"histogram2dcontour\"}], \"mesh3d\": [{\"colorbar\": {\"outlinewidth\": 0, \"ticks\": \"\"}, \"type\": \"mesh3d\"}], \"parcoords\": [{\"line\": {\"colorbar\": {\"outlinewidth\": 0, \"ticks\": \"\"}}, \"type\": \"parcoords\"}], \"pie\": [{\"automargin\": true, \"type\": \"pie\"}], \"scatter\": [{\"marker\": {\"colorbar\": {\"outlinewidth\": 0, \"ticks\": \"\"}}, \"type\": \"scatter\"}], \"scatter3d\": [{\"line\": {\"colorbar\": {\"outlinewidth\": 0, \"ticks\": \"\"}}, \"marker\": {\"colorbar\": {\"outlinewidth\": 0, \"ticks\": \"\"}}, \"type\": \"scatter3d\"}], \"scattercarpet\": [{\"marker\": {\"colorbar\": {\"outlinewidth\": 0, \"ticks\": \"\"}}, \"type\": \"scattercarpet\"}], \"scattergeo\": [{\"marker\": {\"colorbar\": {\"outlinewidth\": 0, \"ticks\": \"\"}}, \"type\": \"scattergeo\"}], \"scattergl\": [{\"marker\": {\"colorbar\": {\"outlinewidth\": 0, \"ticks\": \"\"}}, \"type\": \"scattergl\"}], \"scattermapbox\": [{\"marker\": {\"colorbar\": {\"outlinewidth\": 0, \"ticks\": \"\"}}, \"type\": \"scattermapbox\"}], \"scatterpolar\": [{\"marker\": {\"colorbar\": {\"outlinewidth\": 0, \"ticks\": \"\"}}, \"type\": \"scatterpolar\"}], \"scatterpolargl\": [{\"marker\": {\"colorbar\": {\"outlinewidth\": 0, \"ticks\": \"\"}}, \"type\": \"scatterpolargl\"}], \"scatterternary\": [{\"marker\": {\"colorbar\": {\"outlinewidth\": 0, \"ticks\": \"\"}}, \"type\": \"scatterternary\"}], \"surface\": [{\"colorbar\": {\"outlinewidth\": 0, \"ticks\": \"\"}, \"colorscale\": [[0.0, \"#0d0887\"], [0.1111111111111111, \"#46039f\"], [0.2222222222222222, \"#7201a8\"], [0.3333333333333333, \"#9c179e\"], [0.4444444444444444, \"#bd3786\"], [0.5555555555555556, \"#d8576b\"], [0.6666666666666666, \"#ed7953\"], [0.7777777777777778, \"#fb9f3a\"], [0.8888888888888888, \"#fdca26\"], [1.0, \"#f0f921\"]], \"type\": \"surface\"}], \"table\": [{\"cells\": {\"fill\": {\"color\": \"#EBF0F8\"}, \"line\": {\"color\": \"white\"}}, \"header\": {\"fill\": {\"color\": \"#C8D4E3\"}, \"line\": {\"color\": \"white\"}}, \"type\": \"table\"}]}, \"layout\": {\"annotationdefaults\": {\"arrowcolor\": \"#2a3f5f\", \"arrowhead\": 0, \"arrowwidth\": 1}, \"coloraxis\": {\"colorbar\": {\"outlinewidth\": 0, \"ticks\": \"\"}}, \"colorscale\": {\"diverging\": [[0, \"#8e0152\"], [0.1, \"#c51b7d\"], [0.2, \"#de77ae\"], [0.3, \"#f1b6da\"], [0.4, \"#fde0ef\"], [0.5, \"#f7f7f7\"], [0.6, \"#e6f5d0\"], [0.7, \"#b8e186\"], [0.8, \"#7fbc41\"], [0.9, \"#4d9221\"], [1, \"#276419\"]], \"sequential\": [[0.0, \"#0d0887\"], [0.1111111111111111, \"#46039f\"], [0.2222222222222222, \"#7201a8\"], [0.3333333333333333, \"#9c179e\"], [0.4444444444444444, \"#bd3786\"], [0.5555555555555556, \"#d8576b\"], [0.6666666666666666, \"#ed7953\"], [0.7777777777777778, \"#fb9f3a\"], [0.8888888888888888, \"#fdca26\"], [1.0, \"#f0f921\"]], \"sequentialminus\": [[0.0, \"#0d0887\"], [0.1111111111111111, \"#46039f\"], [0.2222222222222222, \"#7201a8\"], [0.3333333333333333, \"#9c179e\"], [0.4444444444444444, \"#bd3786\"], [0.5555555555555556, \"#d8576b\"], [0.6666666666666666, \"#ed7953\"], [0.7777777777777778, \"#fb9f3a\"], [0.8888888888888888, \"#fdca26\"], [1.0, \"#f0f921\"]]}, \"colorway\": [\"#636efa\", \"#EF553B\", \"#00cc96\", \"#ab63fa\", \"#FFA15A\", \"#19d3f3\", \"#FF6692\", \"#B6E880\", \"#FF97FF\", \"#FECB52\"], \"font\": {\"color\": \"#2a3f5f\"}, \"geo\": {\"bgcolor\": \"white\", \"lakecolor\": \"white\", \"landcolor\": \"#E5ECF6\", \"showlakes\": true, \"showland\": true, \"subunitcolor\": \"white\"}, \"hoverlabel\": {\"align\": \"left\"}, \"hovermode\": \"closest\", \"mapbox\": {\"style\": \"light\"}, \"paper_bgcolor\": \"white\", \"plot_bgcolor\": \"#E5ECF6\", \"polar\": {\"angularaxis\": {\"gridcolor\": \"white\", \"linecolor\": \"white\", \"ticks\": \"\"}, \"bgcolor\": \"#E5ECF6\", \"radialaxis\": {\"gridcolor\": \"white\", \"linecolor\": \"white\", \"ticks\": \"\"}}, \"scene\": {\"xaxis\": {\"backgroundcolor\": \"#E5ECF6\", \"gridcolor\": \"white\", \"gridwidth\": 2, \"linecolor\": \"white\", \"showbackground\": true, \"ticks\": \"\", \"zerolinecolor\": \"white\"}, \"yaxis\": {\"backgroundcolor\": \"#E5ECF6\", \"gridcolor\": \"white\", \"gridwidth\": 2, \"linecolor\": \"white\", \"showbackground\": true, \"ticks\": \"\", \"zerolinecolor\": \"white\"}, \"zaxis\": {\"backgroundcolor\": \"#E5ECF6\", \"gridcolor\": \"white\", \"gridwidth\": 2, \"linecolor\": \"white\", \"showbackground\": true, \"ticks\": \"\", \"zerolinecolor\": \"white\"}}, \"shapedefaults\": {\"line\": {\"color\": \"#2a3f5f\"}}, \"ternary\": {\"aaxis\": {\"gridcolor\": \"white\", \"linecolor\": \"white\", \"ticks\": \"\"}, \"baxis\": {\"gridcolor\": \"white\", \"linecolor\": \"white\", \"ticks\": \"\"}, \"bgcolor\": \"#E5ECF6\", \"caxis\": {\"gridcolor\": \"white\", \"linecolor\": \"white\", \"ticks\": \"\"}}, \"title\": {\"x\": 0.05}, \"xaxis\": {\"automargin\": true, \"gridcolor\": \"white\", \"linecolor\": \"white\", \"ticks\": \"\", \"title\": {\"standoff\": 15}, \"zerolinecolor\": \"white\", \"zerolinewidth\": 2}, \"yaxis\": {\"automargin\": true, \"gridcolor\": \"white\", \"linecolor\": \"white\", \"ticks\": \"\", \"title\": {\"standoff\": 15}, \"zerolinecolor\": \"white\", \"zerolinewidth\": 2}}}, \"title\": {\"text\": \"doc2vec sections\"}, \"xaxis\": {\"anchor\": \"y\", \"domain\": [0.0, 1.0], \"title\": {\"text\": \"score\"}}, \"yaxis\": {\"anchor\": \"x\", \"domain\": [0.0, 1.0], \"title\": {\"text\": \"count\"}}},\n",
              "                        {\"responsive\": true}\n",
              "                    ).then(function(){\n",
              "                            \n",
              "var gd = document.getElementById('b6e614b4-4024-4078-8be9-b361eec31a25');\n",
              "var x = new MutationObserver(function (mutations, observer) {{\n",
              "        var display = window.getComputedStyle(gd).display;\n",
              "        if (!display || display === 'none') {{\n",
              "            console.log([gd, 'removed!']);\n",
              "            Plotly.purge(gd);\n",
              "            observer.disconnect();\n",
              "        }}\n",
              "}});\n",
              "\n",
              "// Listen for the removal of the full notebook cells\n",
              "var notebookContainer = gd.closest('#notebook-container');\n",
              "if (notebookContainer) {{\n",
              "    x.observe(notebookContainer, {childList: true});\n",
              "}}\n",
              "\n",
              "// Listen for the clearing of the current output cell\n",
              "var outputEl = gd.closest('.output');\n",
              "if (outputEl) {{\n",
              "    x.observe(outputEl, {childList: true});\n",
              "}}\n",
              "\n",
              "                        })\n",
              "                };\n",
              "                \n",
              "            </script>\n",
              "        </div>\n",
              "</body>\n",
              "</html>"
            ]
          },
          "metadata": {}
        }
      ]
    },
    {
      "cell_type": "code",
      "metadata": {
        "id": "OKeaqYxGPMZj"
      },
      "source": [
        "if use_wandb:\n",
        "  wandb.log({\"scores_hist\": fig})"
      ],
      "execution_count": 100,
      "outputs": []
    },
    {
      "cell_type": "code",
      "metadata": {
        "colab": {
          "base_uri": "https://localhost:8080/",
          "height": 904
        },
        "id": "DgV3ccDr5Ux4",
        "outputId": "7e7fb55f-a6e3-499c-fbc6-ee1a0ceb2d03"
      },
      "source": [
        "result, details = recommend_tune(df_sim, 'On The Sunny Side Of The Street [jazz1350]')\n",
        "result.head(10)"
      ],
      "execution_count": 101,
      "outputs": [
        {
          "output_type": "execute_result",
          "data": {
            "text/html": [
              "<div>\n",
              "<style scoped>\n",
              "    .dataframe tbody tr th:only-of-type {\n",
              "        vertical-align: middle;\n",
              "    }\n",
              "\n",
              "    .dataframe tbody tr th {\n",
              "        vertical-align: top;\n",
              "    }\n",
              "\n",
              "    .dataframe thead th {\n",
              "        text-align: right;\n",
              "    }\n",
              "</style>\n",
              "<table border=\"1\" class=\"dataframe\">\n",
              "  <thead>\n",
              "    <tr style=\"text-align: right;\">\n",
              "      <th></th>\n",
              "      <th>index</th>\n",
              "      <th>reference</th>\n",
              "      <th>reference_titleid</th>\n",
              "      <th>similar_title</th>\n",
              "      <th>score</th>\n",
              "      <th>max</th>\n",
              "      <th>score_div_max</th>\n",
              "      <th>similar_titleid</th>\n",
              "    </tr>\n",
              "  </thead>\n",
              "  <tbody>\n",
              "    <tr>\n",
              "      <th>0</th>\n",
              "      <td>0</td>\n",
              "      <td>On The Sunny Side Of The Street [jazz1350]</td>\n",
              "      <td>906</td>\n",
              "      <td>Só Danço Samba [jazz1350]</td>\n",
              "      <td>0.928441</td>\n",
              "      <td>0.928441</td>\n",
              "      <td>1.000000</td>\n",
              "      <td>1140</td>\n",
              "    </tr>\n",
              "    <tr>\n",
              "      <th>1</th>\n",
              "      <td>1</td>\n",
              "      <td>On The Sunny Side Of The Street [jazz1350]</td>\n",
              "      <td>906</td>\n",
              "      <td>Love Is The Sweetest Thing [trad]</td>\n",
              "      <td>0.930779</td>\n",
              "      <td>0.931694</td>\n",
              "      <td>0.999018</td>\n",
              "      <td>1549</td>\n",
              "    </tr>\n",
              "    <tr>\n",
              "      <th>2</th>\n",
              "      <td>2</td>\n",
              "      <td>On The Sunny Side Of The Street [jazz1350]</td>\n",
              "      <td>906</td>\n",
              "      <td>Move [jazz1350]</td>\n",
              "      <td>0.925693</td>\n",
              "      <td>0.928441</td>\n",
              "      <td>0.997041</td>\n",
              "      <td>834</td>\n",
              "    </tr>\n",
              "    <tr>\n",
              "      <th>3</th>\n",
              "      <td>3</td>\n",
              "      <td>On The Sunny Side Of The Street [jazz1350]</td>\n",
              "      <td>906</td>\n",
              "      <td>Carry Me Back To Old Virginny [trad]</td>\n",
              "      <td>0.942254</td>\n",
              "      <td>0.946515</td>\n",
              "      <td>0.995499</td>\n",
              "      <td>1411</td>\n",
              "    </tr>\n",
              "    <tr>\n",
              "      <th>4</th>\n",
              "      <td>4</td>\n",
              "      <td>On The Sunny Side Of The Street [jazz1350]</td>\n",
              "      <td>906</td>\n",
              "      <td>Aged And Mellow Blues [trad]</td>\n",
              "      <td>0.934902</td>\n",
              "      <td>0.946515</td>\n",
              "      <td>0.987731</td>\n",
              "      <td>1344</td>\n",
              "    </tr>\n",
              "    <tr>\n",
              "      <th>5</th>\n",
              "      <td>5</td>\n",
              "      <td>On The Sunny Side Of The Street [jazz1350]</td>\n",
              "      <td>906</td>\n",
              "      <td>Wayne's Thang [jazz1350]</td>\n",
              "      <td>0.955953</td>\n",
              "      <td>0.967994</td>\n",
              "      <td>0.987562</td>\n",
              "      <td>1254</td>\n",
              "    </tr>\n",
              "    <tr>\n",
              "      <th>6</th>\n",
              "      <td>6</td>\n",
              "      <td>On The Sunny Side Of The Street [jazz1350]</td>\n",
              "      <td>906</td>\n",
              "      <td>This Is All I Ask [jazz1350]</td>\n",
              "      <td>0.926921</td>\n",
              "      <td>0.939104</td>\n",
              "      <td>0.986960</td>\n",
              "      <td>1180</td>\n",
              "    </tr>\n",
              "    <tr>\n",
              "      <th>7</th>\n",
              "      <td>7</td>\n",
              "      <td>On The Sunny Side Of The Street [jazz1350]</td>\n",
              "      <td>906</td>\n",
              "      <td>Once Upon A Summertime (La Valse Des Lilas) [j...</td>\n",
              "      <td>0.938895</td>\n",
              "      <td>0.946515</td>\n",
              "      <td>0.984677</td>\n",
              "      <td>910</td>\n",
              "    </tr>\n",
              "    <tr>\n",
              "      <th>8</th>\n",
              "      <td>8</td>\n",
              "      <td>On The Sunny Side Of The Street [jazz1350]</td>\n",
              "      <td>906</td>\n",
              "      <td>Is You Is Or Is You Ain't (Ma' Baby) [jazz1350]</td>\n",
              "      <td>0.930071</td>\n",
              "      <td>0.946515</td>\n",
              "      <td>0.982627</td>\n",
              "      <td>613</td>\n",
              "    </tr>\n",
              "    <tr>\n",
              "      <th>9</th>\n",
              "      <td>9</td>\n",
              "      <td>On The Sunny Side Of The Street [jazz1350]</td>\n",
              "      <td>906</td>\n",
              "      <td>All Of Me [jazz1350]</td>\n",
              "      <td>0.914778</td>\n",
              "      <td>0.931694</td>\n",
              "      <td>0.981844</td>\n",
              "      <td>60</td>\n",
              "    </tr>\n",
              "  </tbody>\n",
              "</table>\n",
              "</div>"
            ],
            "text/plain": [
              "   index                                   reference  reference_titleid                                      similar_title     score       max  score_div_max  similar_titleid\n",
              "0      0  On The Sunny Side Of The Street [jazz1350]                906                          Só Danço Samba [jazz1350]  0.928441  0.928441       1.000000             1140\n",
              "1      1  On The Sunny Side Of The Street [jazz1350]                906                  Love Is The Sweetest Thing [trad]  0.930779  0.931694       0.999018             1549\n",
              "2      2  On The Sunny Side Of The Street [jazz1350]                906                                    Move [jazz1350]  0.925693  0.928441       0.997041              834\n",
              "3      3  On The Sunny Side Of The Street [jazz1350]                906               Carry Me Back To Old Virginny [trad]  0.942254  0.946515       0.995499             1411\n",
              "4      4  On The Sunny Side Of The Street [jazz1350]                906                       Aged And Mellow Blues [trad]  0.934902  0.946515       0.987731             1344\n",
              "5      5  On The Sunny Side Of The Street [jazz1350]                906                           Wayne's Thang [jazz1350]  0.955953  0.967994       0.987562             1254\n",
              "6      6  On The Sunny Side Of The Street [jazz1350]                906                       This Is All I Ask [jazz1350]  0.926921  0.939104       0.986960             1180\n",
              "7      7  On The Sunny Side Of The Street [jazz1350]                906  Once Upon A Summertime (La Valse Des Lilas) [j...  0.938895  0.946515       0.984677              910\n",
              "8      8  On The Sunny Side Of The Street [jazz1350]                906    Is You Is Or Is You Ain't (Ma' Baby) [jazz1350]  0.930071  0.946515       0.982627              613\n",
              "9      9  On The Sunny Side Of The Street [jazz1350]                906                               All Of Me [jazz1350]  0.914778  0.931694       0.981844               60"
            ]
          },
          "metadata": {},
          "execution_count": 101
        }
      ]
    },
    {
      "cell_type": "code",
      "metadata": {
        "id": "hLFaFo62XlMS",
        "colab": {
          "base_uri": "https://localhost:8080/"
        },
        "outputId": "1c4703ba-b61b-4865-c56f-811289aacf0e"
      },
      "source": [
        "dd = pd.DataFrame(columns = recommender_results_cols)\n",
        "\n",
        "for tune in tunes_eval_list:\n",
        "  result, details = recommend_tune(df_sim, tune)\n",
        "  dd['id'] = result['index']\n",
        "  dd['reference'] = tune\n",
        "  dd['method'] = 'doc2vec'\n",
        "  dd['similar'] = result['similar_title']\n",
        "  dd['score_div_max'] = result['score_div_max']\n",
        "  dd['score'] = result['score']\n",
        "\n",
        "recommender_results = recommender_results.append(dd)\n",
        "len(recommender_results)"
      ],
      "execution_count": 102,
      "outputs": [
        {
          "output_type": "execute_result",
          "data": {
            "text/plain": [
              "175"
            ]
          },
          "metadata": {},
          "execution_count": 102
        }
      ]
    },
    {
      "cell_type": "markdown",
      "metadata": {
        "id": "aosPKEWljlm0"
      },
      "source": [
        "### Contrafacts"
      ]
    },
    {
      "cell_type": "code",
      "metadata": {
        "id": "SaYSqTJokGc5"
      },
      "source": [
        "def test_doc2vec_contrafacts(tunes, N=15):\n",
        "  \"\"\"\n",
        "  Evaluates if the expected tune matches by either a tune similarity or section similarity match.\n",
        "  \"\"\"\n",
        "\n",
        "  matches = 0\n",
        "  number_of_sections = 0\n",
        "  results = {}\n",
        "\n",
        "  for tune, similar_tune in contrafacts:\n",
        "    \n",
        "    # loop over all sections of the tune\n",
        "    sub_match = 0\n",
        "    for s1 in title_to_sectionid[tune]:\n",
        "      sims = model.dv.similar_by_key(s1, topn=N)\n",
        "      # check if the section matches the expected title; consider only the first N recommendations\n",
        "      i = 0\n",
        "      for match, value in sims:\n",
        "        # tune match\n",
        "        if (type(match) == str):\n",
        "          titleid = int(match.replace('titleid_', ''))\n",
        "          if titleid_to_title[titleid] == similar_tune:\n",
        "            sub_match += 1\n",
        "\n",
        "        # section match\n",
        "        else:\n",
        "          if sectionid_to_title[match] == similar_tune:\n",
        "            sub_match += 1\n",
        "\n",
        "    # for each title, increase matches if at least one of the section matched the expected title\n",
        "    if sub_match > 0:\n",
        "      matches += 1  \n",
        "      results[f'{tune}, {similar_tune}'] = 1\n",
        "    else:\n",
        "      results[f'{tune}, {similar_tune}'] = 0\n",
        "  \n",
        "  return matches, results"
      ],
      "execution_count": 103,
      "outputs": []
    },
    {
      "cell_type": "code",
      "metadata": {
        "colab": {
          "base_uri": "https://localhost:8080/"
        },
        "id": "eAjM3lU4ltzP",
        "outputId": "175e8484-32df-4ba7-8d4b-68851a109072"
      },
      "source": [
        "topN = 20\n",
        "matches, results = test_doc2vec_contrafacts(contrafacts, topN)\n",
        " \n",
        "print(f\"Found matches: {matches} out of {len(results)}: {100*matches/len(results):.3f}%\")\n",
        "print() \n",
        "for rr, val in results.items():\n",
        "  if val == 0:\n",
        "    print(f\"{val}: {rr}\")\n"
      ],
      "execution_count": 104,
      "outputs": [
        {
          "output_type": "stream",
          "name": "stdout",
          "text": [
            "Found matches: 81 out of 111: 72.973%\n",
            "\n",
            "0: 52nd Street Theme [jazz1350], I Got Rhythm [jazz1350]\n",
            "0: Ballade [jazz1350], As Long As I Live [jazz1350]\n",
            "0: Countdown [jazz1350], Tune Up [jazz1350]\n",
            "0: Dewey Square [jazz1350], Oh, Lady Be Good [jazz1350]\n",
            "0: Don't Be That Way [jazz1350], I Got Rhythm [jazz1350]\n",
            "0: Four On Six [jazz1350], Summertime [jazz1350]\n",
            "0: Good Bait [jazz1350], I Got Rhythm [jazz1350]\n",
            "0: Lennie's Pennies [jazz1350], Pennies From Heaven [jazz1350]\n",
            "0: Little Rootie Tootie [jazz1350], I Got Rhythm [jazz1350]\n",
            "0: Little Willie Leaps [jazz1350], All God's Chillun Got Rhythm [jazz1350]\n",
            "0: Lullaby Of Birdland [jazz1350], Love Me Or Leave Me [jazz1350]\n",
            "0: My Little Suede Shoes [jazz1350], Jeepers Creepers [jazz1350]\n",
            "0: Quasimodo (Theme) [jazz1350], Embraceable You [jazz1350]\n",
            "0: Room 608 [jazz1350], I Got Rhythm [jazz1350]\n",
            "0: Scrapple From The Apple [jazz1350], Honeysuckle Rose [jazz1350]\n",
            "0: Yardbird Suite [jazz1350], Rosetta [jazz1350]\n",
            "0: Sweet Sue, Just You [jazz1350], Honeysuckle Rose [jazz1350]\n",
            "0: Sweet Sue, Just You [jazz1350], Bye Bye Blackbird [jazz1350]\n",
            "0: These Foolish Things [jazz1350], Blue Moon [jazz1350]\n",
            "0: These Foolish Things [jazz1350], Isn't It A Pity [jazz1350]\n",
            "0: These Foolish Things [jazz1350], Soultrain [jazz1350]\n",
            "0: These Foolish Things [jazz1350], Why Do I Love You [jazz1350]\n",
            "0: Exactly Like You [jazz1350], Jersey Bounce [trad]\n",
            "0: Take The A Train [jazz1350], Girl From Ipanema, The [jazz1350]\n",
            "0: Cheek To Cheek [jazz1350], Violets For Your Furs [jazz1350]\n",
            "0: On The Sunny Side Of The Street [jazz1350], I'm Confessin' That I Love You [jazz1350]\n",
            "0: On The Sunny Side Of The Street [jazz1350], Eclypso [jazz1350]\n",
            "0: On The Sunny Side Of The Street [jazz1350], You Stepped Out Of A Dream [jazz1350]\n",
            "0: My Secret Love [jazz1350], Samba De Orfeu [jazz1350]\n",
            "0: On The Sunny Side Of The Street [jazz1350], Mountain Greenery [jazz1350]\n",
            "0: These Foolish Things [jazz1350], Embraceable You [jazz1350]\n",
            "0: This Year's Kisses [jazz1350], My Monday Date [trad]\n"
          ]
        }
      ]
    },
    {
      "cell_type": "code",
      "metadata": {
        "id": "8C0kzj0Jp425"
      },
      "source": [
        "model_name = 'doc2vec'\n",
        "if use_wandb:\n",
        "  wandb.log(\n",
        "      {model_name: {\n",
        "                'contrafacts': {\n",
        "                    'topN': topN,\n",
        "                    'success': matches/len(contrafacts),\n",
        "                    #'results': results\n",
        "                    }\n",
        "                   },\n",
        "       'all_models': {\n",
        "           model_name: wandb.Table(\n",
        "               columns=[\"Title\", \"Match\"],\n",
        "               data=[[key, value] for key, value in results.items()]),\n",
        "       }\n",
        "       })"
      ],
      "execution_count": 105,
      "outputs": []
    },
    {
      "cell_type": "markdown",
      "metadata": {
        "id": "_UzVV5yn4Q-K"
      },
      "source": [
        "### Save Results for WebApp"
      ]
    },
    {
      "cell_type": "code",
      "metadata": {
        "colab": {
          "base_uri": "https://localhost:8080/"
        },
        "id": "nS_bRwHehOUr",
        "outputId": "70876d3e-8133-4f6d-8f54-b1318274ad0e"
      },
      "source": [
        "%%time\n",
        "if generate_webapp_data:\n",
        "  _tunes = list(tunes['title_playlist'].values())\n",
        "  #_tunes = tunes_eval_list\n",
        "\n",
        "  method = 'doc2vec'\n",
        "\n",
        "  df_sim = get_section_scores_doc2vec(_tunes)\n",
        "\n",
        "  result = None\n",
        "  for tune in _tunes:\n",
        "    tune_result, details = recommend_tune(df_sim, tune)\n",
        "    if result is None:\n",
        "      result = pd.DataFrame(columns=tune_result.columns)\n",
        "    result = result.append(tune_result)\n",
        "\n",
        "  # save to file\n",
        "  (result\n",
        "   .loc[:,['reference_titleid',\n",
        "           'similar_titleid',\n",
        "           'score']]\n",
        "   .to_csv(f'output/recommender_{method}.csv', encoding='utf8')\n",
        "  )\n",
        "  with zipfile.ZipFile(f'output/recommender_{method}.zip', 'w') as zf:\n",
        "    zf.write(f'output/recommender_{method}.csv')\n",
        "\n",
        "\n",
        "  # save to wandb\n",
        "  if use_wandb:\n",
        "    model_artifact = wandb.Artifact(\n",
        "        f\"recommender_{method}\", \n",
        "        type=\"csv\",\n",
        "        description=f\"Recommendations for each Tune using {method} Model (csv file)\",\n",
        "        metadata=\"\")\n",
        "\n",
        "    model_artifact.add_file(f'output/recommender_{method}.zip')\n",
        "    wandb.log_artifact(model_artifact)"
      ],
      "execution_count": 106,
      "outputs": [
        {
          "output_type": "stream",
          "name": "stdout",
          "text": [
            "CPU times: user 5 µs, sys: 0 ns, total: 5 µs\n",
            "Wall time: 10.7 µs\n"
          ]
        }
      ]
    },
    {
      "cell_type": "markdown",
      "metadata": {
        "id": "XmDZT5t7gjgV"
      },
      "source": [
        "# Venn diagrams for Results"
      ]
    },
    {
      "cell_type": "code",
      "metadata": {
        "id": "U6WrsBcc00ar"
      },
      "source": [
        "import matplotlib.pyplot as plt\n",
        "from matplotlib_venn import venn3\n",
        "\n",
        "if False:\n",
        "  for tune in tunes_eval_list:\n",
        "    df, details = recommend_tune(df_tfidf, tune)\n",
        "    tfidf_tunes = list(df.head(30).loc[:,'similar_title'])\n",
        "\n",
        "    df, details = recommend_tune(df_lsi, tune)\n",
        "    lsi_tunes = list(df.head(30).loc[:,'similar_title'])\n",
        "\n",
        "    df, details = recommend_tune(df_doc2vec, tune)\n",
        "    word2vec_tunes = list(df.head(30).loc[:,'similar_title'])\n",
        "\n",
        "    set_tfidf = set(tfidf_tunes)\n",
        "    set_lsi = set(lsi_tunes)\n",
        "    set_word2vec = set(word2vec_tunes)\n",
        "\n",
        "    venn3([set_tfidf, set_lsi, set_word2vec], \n",
        "          set_labels=('TF-IDF', 'LSI', 'Doc2Vec'),\n",
        "          )\n",
        "    plt.title(f\"{tune}\")\n",
        "    plt.savefig('plot.png')\n",
        "    \n",
        "    if use_wandb:\n",
        "      wandb.log({\"venn_methods\": wandb.Image('plot.png')})\n",
        "    \n",
        "    plt.show()"
      ],
      "execution_count": 107,
      "outputs": []
    },
    {
      "cell_type": "markdown",
      "metadata": {
        "id": "RhOWHSEU0DQH"
      },
      "source": [
        "# W&B Logging and Finish"
      ]
    },
    {
      "cell_type": "code",
      "metadata": {
        "id": "YMUDRHkm0aMV",
        "colab": {
          "base_uri": "https://localhost:8080/",
          "height": 125,
          "referenced_widgets": [
            "75a139eab4ac4c779b8830d7f979a1f0",
            "a8ec11ac3b2b41209802e4a67d9da5d4",
            "1766ddb4a1dc4c2e823411052f64d0e2",
            "5f592c109a374312b4a193f845c924f3",
            "590a06271b084f82844ffe1de9575ab6",
            "57ffc229880c4f8db56a6ed8414f234f",
            "75c9d4dae9e24135ab8c94fd4e71999a",
            "c30ac6bf3b6b45918f328d4db90a6c8d"
          ]
        },
        "outputId": "5352d4ea-4b40-4c70-e532-b0c1ba009ab4"
      },
      "source": [
        "if use_wandb:\n",
        "  wandb.finish()"
      ],
      "execution_count": 108,
      "outputs": [
        {
          "output_type": "display_data",
          "data": {
            "text/html": [
              "<br/>Waiting for W&B process to finish, PID 8778... <strong style=\"color:green\">(success).</strong>"
            ],
            "text/plain": [
              "<IPython.core.display.HTML object>"
            ]
          },
          "metadata": {}
        },
        {
          "output_type": "display_data",
          "data": {
            "application/vnd.jupyter.widget-view+json": {
              "model_id": "75a139eab4ac4c779b8830d7f979a1f0",
              "version_minor": 0,
              "version_major": 2
            },
            "text/plain": [
              "VBox(children=(Label(value=' 2.57MB of 2.57MB uploaded (0.00MB deduped)\\r'), FloatProgress(value=1.0, max=1.0)…"
            ]
          },
          "metadata": {}
        },
        {
          "output_type": "display_data",
          "data": {
            "text/html": [
              "<style>\n",
              "    table.wandb td:nth-child(1) { padding: 0 10px; text-align: right }\n",
              "    .wandb-row { display: flex; flex-direction: row; flex-wrap: wrap; width: 100% }\n",
              "    .wandb-col { display: flex; flex-direction: column; flex-basis: 100%; flex: 1; padding: 10px; }\n",
              "    </style>\n",
              "<div class=\"wandb-row\"><div class=\"wandb-col\">\n",
              "</div><div class=\"wandb-col\">\n",
              "</div></div>\n",
              "Synced 5 W&B file(s), 7 media file(s), 9 artifact file(s) and 0 other file(s)\n",
              "<br/>Synced <strong style=\"color:#cdcd00\">grateful-sky-40</strong>: <a href=\"https://wandb.ai/doris/jazztunes/runs/3fiwzhb6\" target=\"_blank\">https://wandb.ai/doris/jazztunes/runs/3fiwzhb6</a><br/>\n",
              "Find logs at: <code>./wandb/run-20211129_184045-3fiwzhb6/logs</code><br/>\n"
            ],
            "text/plain": [
              "<IPython.core.display.HTML object>"
            ]
          },
          "metadata": {}
        }
      ]
    },
    {
      "cell_type": "code",
      "metadata": {
        "id": "Vn_SFyKt0bYx"
      },
      "source": [
        "\n"
      ],
      "execution_count": 108,
      "outputs": []
    },
    {
      "cell_type": "code",
      "metadata": {
        "id": "OaSXwXe9ptGr"
      },
      "source": [
        "\n"
      ],
      "execution_count": 108,
      "outputs": []
    }
  ]
}