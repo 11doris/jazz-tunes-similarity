{
  "nbformat": 4,
  "nbformat_minor": 0,
  "metadata": {
    "colab": {
      "name": "colab_g_recommender_score",
      "provenance": [],
      "toc_visible": true,
      "authorship_tag": "ABX9TyNFE3xUorxU7JkADMMI4N0O",
      "include_colab_link": true
    },
    "kernelspec": {
      "name": "python3",
      "display_name": "Python 3"
    },
    "language_info": {
      "name": "python"
    },
    "accelerator": "TPU",
    "widgets": {
      "application/vnd.jupyter.widget-state+json": {
        "e1108087d78149a387f23dc36175a722": {
          "model_module": "@jupyter-widgets/controls",
          "model_name": "VBoxModel",
          "model_module_version": "1.5.0",
          "state": {
            "_view_name": "VBoxView",
            "_dom_classes": [],
            "_model_name": "VBoxModel",
            "_view_module": "@jupyter-widgets/controls",
            "_model_module_version": "1.5.0",
            "_view_count": null,
            "_view_module_version": "1.5.0",
            "box_style": "",
            "layout": "IPY_MODEL_c775064ecc5546ef86e33925155c0b4f",
            "_model_module": "@jupyter-widgets/controls",
            "children": [
              "IPY_MODEL_99530800c54143309d311c8034b92b54",
              "IPY_MODEL_550250f25e054a67804787db756d4d46"
            ]
          }
        },
        "c775064ecc5546ef86e33925155c0b4f": {
          "model_module": "@jupyter-widgets/base",
          "model_name": "LayoutModel",
          "model_module_version": "1.2.0",
          "state": {
            "_view_name": "LayoutView",
            "grid_template_rows": null,
            "right": null,
            "justify_content": null,
            "_view_module": "@jupyter-widgets/base",
            "overflow": null,
            "_model_module_version": "1.2.0",
            "_view_count": null,
            "flex_flow": null,
            "width": null,
            "min_width": null,
            "border": null,
            "align_items": null,
            "bottom": null,
            "_model_module": "@jupyter-widgets/base",
            "top": null,
            "grid_column": null,
            "overflow_y": null,
            "overflow_x": null,
            "grid_auto_flow": null,
            "grid_area": null,
            "grid_template_columns": null,
            "flex": null,
            "_model_name": "LayoutModel",
            "justify_items": null,
            "grid_row": null,
            "max_height": null,
            "align_content": null,
            "visibility": null,
            "align_self": null,
            "height": null,
            "min_height": null,
            "padding": null,
            "grid_auto_rows": null,
            "grid_gap": null,
            "max_width": null,
            "order": null,
            "_view_module_version": "1.2.0",
            "grid_template_areas": null,
            "object_position": null,
            "object_fit": null,
            "grid_auto_columns": null,
            "margin": null,
            "display": null,
            "left": null
          }
        },
        "99530800c54143309d311c8034b92b54": {
          "model_module": "@jupyter-widgets/controls",
          "model_name": "LabelModel",
          "model_module_version": "1.5.0",
          "state": {
            "_view_name": "LabelView",
            "style": "IPY_MODEL_bfd3fe008a3344a4884b848b95118b6f",
            "_dom_classes": [],
            "description": "",
            "_model_name": "LabelModel",
            "placeholder": "​",
            "_view_module": "@jupyter-widgets/controls",
            "_model_module_version": "1.5.0",
            "value": " 6.95MB of 6.95MB uploaded (0.00MB deduped)\r",
            "_view_count": null,
            "_view_module_version": "1.5.0",
            "description_tooltip": null,
            "_model_module": "@jupyter-widgets/controls",
            "layout": "IPY_MODEL_5b6ada68fa6c4ba5a5e4466c82a35d6b"
          }
        },
        "550250f25e054a67804787db756d4d46": {
          "model_module": "@jupyter-widgets/controls",
          "model_name": "FloatProgressModel",
          "model_module_version": "1.5.0",
          "state": {
            "_view_name": "ProgressView",
            "style": "IPY_MODEL_41d4b85e838b4e55baf71063332aaa21",
            "_dom_classes": [],
            "description": "",
            "_model_name": "FloatProgressModel",
            "bar_style": "",
            "max": 1,
            "_view_module": "@jupyter-widgets/controls",
            "_model_module_version": "1.5.0",
            "value": 1,
            "_view_count": null,
            "_view_module_version": "1.5.0",
            "orientation": "horizontal",
            "min": 0,
            "description_tooltip": null,
            "_model_module": "@jupyter-widgets/controls",
            "layout": "IPY_MODEL_e0b2de4f10344834aad0a2fab17fd1d2"
          }
        },
        "bfd3fe008a3344a4884b848b95118b6f": {
          "model_module": "@jupyter-widgets/controls",
          "model_name": "DescriptionStyleModel",
          "model_module_version": "1.5.0",
          "state": {
            "_view_name": "StyleView",
            "_model_name": "DescriptionStyleModel",
            "description_width": "",
            "_view_module": "@jupyter-widgets/base",
            "_model_module_version": "1.5.0",
            "_view_count": null,
            "_view_module_version": "1.2.0",
            "_model_module": "@jupyter-widgets/controls"
          }
        },
        "5b6ada68fa6c4ba5a5e4466c82a35d6b": {
          "model_module": "@jupyter-widgets/base",
          "model_name": "LayoutModel",
          "model_module_version": "1.2.0",
          "state": {
            "_view_name": "LayoutView",
            "grid_template_rows": null,
            "right": null,
            "justify_content": null,
            "_view_module": "@jupyter-widgets/base",
            "overflow": null,
            "_model_module_version": "1.2.0",
            "_view_count": null,
            "flex_flow": null,
            "width": null,
            "min_width": null,
            "border": null,
            "align_items": null,
            "bottom": null,
            "_model_module": "@jupyter-widgets/base",
            "top": null,
            "grid_column": null,
            "overflow_y": null,
            "overflow_x": null,
            "grid_auto_flow": null,
            "grid_area": null,
            "grid_template_columns": null,
            "flex": null,
            "_model_name": "LayoutModel",
            "justify_items": null,
            "grid_row": null,
            "max_height": null,
            "align_content": null,
            "visibility": null,
            "align_self": null,
            "height": null,
            "min_height": null,
            "padding": null,
            "grid_auto_rows": null,
            "grid_gap": null,
            "max_width": null,
            "order": null,
            "_view_module_version": "1.2.0",
            "grid_template_areas": null,
            "object_position": null,
            "object_fit": null,
            "grid_auto_columns": null,
            "margin": null,
            "display": null,
            "left": null
          }
        },
        "41d4b85e838b4e55baf71063332aaa21": {
          "model_module": "@jupyter-widgets/controls",
          "model_name": "ProgressStyleModel",
          "model_module_version": "1.5.0",
          "state": {
            "_view_name": "StyleView",
            "_model_name": "ProgressStyleModel",
            "description_width": "",
            "_view_module": "@jupyter-widgets/base",
            "_model_module_version": "1.5.0",
            "_view_count": null,
            "_view_module_version": "1.2.0",
            "bar_color": null,
            "_model_module": "@jupyter-widgets/controls"
          }
        },
        "e0b2de4f10344834aad0a2fab17fd1d2": {
          "model_module": "@jupyter-widgets/base",
          "model_name": "LayoutModel",
          "model_module_version": "1.2.0",
          "state": {
            "_view_name": "LayoutView",
            "grid_template_rows": null,
            "right": null,
            "justify_content": null,
            "_view_module": "@jupyter-widgets/base",
            "overflow": null,
            "_model_module_version": "1.2.0",
            "_view_count": null,
            "flex_flow": null,
            "width": null,
            "min_width": null,
            "border": null,
            "align_items": null,
            "bottom": null,
            "_model_module": "@jupyter-widgets/base",
            "top": null,
            "grid_column": null,
            "overflow_y": null,
            "overflow_x": null,
            "grid_auto_flow": null,
            "grid_area": null,
            "grid_template_columns": null,
            "flex": null,
            "_model_name": "LayoutModel",
            "justify_items": null,
            "grid_row": null,
            "max_height": null,
            "align_content": null,
            "visibility": null,
            "align_self": null,
            "height": null,
            "min_height": null,
            "padding": null,
            "grid_auto_rows": null,
            "grid_gap": null,
            "max_width": null,
            "order": null,
            "_view_module_version": "1.2.0",
            "grid_template_areas": null,
            "object_position": null,
            "object_fit": null,
            "grid_auto_columns": null,
            "margin": null,
            "display": null,
            "left": null
          }
        }
      }
    }
  },
  "cells": [
    {
      "cell_type": "markdown",
      "metadata": {
        "id": "view-in-github",
        "colab_type": "text"
      },
      "source": [
        "<a href=\"https://colab.research.google.com/github/11doris/jazz-maestro/blob/colab_word_embeddings/colab_g_recommender_score.ipynb\" target=\"_parent\"><img src=\"https://colab.research.google.com/assets/colab-badge.svg\" alt=\"Open In Colab\"/></a>"
      ]
    },
    {
      "cell_type": "markdown",
      "metadata": {
        "id": "YGhakKpa8Dtf"
      },
      "source": [
        "# Sections as Input"
      ]
    },
    {
      "cell_type": "code",
      "metadata": {
        "colab": {
          "base_uri": "https://localhost:8080/"
        },
        "id": "dm5QehpXxo31",
        "outputId": "1d7e1e67-b77f-4d01-972d-6109d95f2c08"
      },
      "source": [
        "pip install wandb"
      ],
      "execution_count": 1,
      "outputs": [
        {
          "output_type": "stream",
          "name": "stdout",
          "text": [
            "Requirement already satisfied: wandb in /usr/local/lib/python3.7/dist-packages (0.12.7)\n",
            "Requirement already satisfied: sentry-sdk>=1.0.0 in /usr/local/lib/python3.7/dist-packages (from wandb) (1.5.0)\n",
            "Requirement already satisfied: promise<3,>=2.0 in /usr/local/lib/python3.7/dist-packages (from wandb) (2.3)\n",
            "Requirement already satisfied: configparser>=3.8.1 in /usr/local/lib/python3.7/dist-packages (from wandb) (5.1.0)\n",
            "Requirement already satisfied: shortuuid>=0.5.0 in /usr/local/lib/python3.7/dist-packages (from wandb) (1.0.8)\n",
            "Requirement already satisfied: yaspin>=1.0.0 in /usr/local/lib/python3.7/dist-packages (from wandb) (2.1.0)\n",
            "Requirement already satisfied: pathtools in /usr/local/lib/python3.7/dist-packages (from wandb) (0.1.2)\n",
            "Requirement already satisfied: requests<3,>=2.0.0 in /usr/local/lib/python3.7/dist-packages (from wandb) (2.23.0)\n",
            "Requirement already satisfied: python-dateutil>=2.6.1 in /usr/local/lib/python3.7/dist-packages (from wandb) (2.8.2)\n",
            "Requirement already satisfied: psutil>=5.0.0 in /usr/local/lib/python3.7/dist-packages (from wandb) (5.4.8)\n",
            "Requirement already satisfied: protobuf>=3.12.0 in /usr/local/lib/python3.7/dist-packages (from wandb) (3.17.3)\n",
            "Requirement already satisfied: PyYAML in /usr/local/lib/python3.7/dist-packages (from wandb) (3.13)\n",
            "Requirement already satisfied: docker-pycreds>=0.4.0 in /usr/local/lib/python3.7/dist-packages (from wandb) (0.4.0)\n",
            "Requirement already satisfied: Click!=8.0.0,>=7.0 in /usr/local/lib/python3.7/dist-packages (from wandb) (7.1.2)\n",
            "Requirement already satisfied: subprocess32>=3.5.3 in /usr/local/lib/python3.7/dist-packages (from wandb) (3.5.4)\n",
            "Requirement already satisfied: six>=1.13.0 in /usr/local/lib/python3.7/dist-packages (from wandb) (1.15.0)\n",
            "Requirement already satisfied: GitPython>=1.0.0 in /usr/local/lib/python3.7/dist-packages (from wandb) (3.1.24)\n",
            "Requirement already satisfied: typing-extensions>=3.7.4.3 in /usr/local/lib/python3.7/dist-packages (from GitPython>=1.0.0->wandb) (3.10.0.2)\n",
            "Requirement already satisfied: gitdb<5,>=4.0.1 in /usr/local/lib/python3.7/dist-packages (from GitPython>=1.0.0->wandb) (4.0.9)\n",
            "Requirement already satisfied: smmap<6,>=3.0.1 in /usr/local/lib/python3.7/dist-packages (from gitdb<5,>=4.0.1->GitPython>=1.0.0->wandb) (5.0.0)\n",
            "Requirement already satisfied: certifi>=2017.4.17 in /usr/local/lib/python3.7/dist-packages (from requests<3,>=2.0.0->wandb) (2021.10.8)\n",
            "Requirement already satisfied: urllib3!=1.25.0,!=1.25.1,<1.26,>=1.21.1 in /usr/local/lib/python3.7/dist-packages (from requests<3,>=2.0.0->wandb) (1.24.3)\n",
            "Requirement already satisfied: idna<3,>=2.5 in /usr/local/lib/python3.7/dist-packages (from requests<3,>=2.0.0->wandb) (2.10)\n",
            "Requirement already satisfied: chardet<4,>=3.0.2 in /usr/local/lib/python3.7/dist-packages (from requests<3,>=2.0.0->wandb) (3.0.4)\n",
            "Requirement already satisfied: termcolor<2.0.0,>=1.1.0 in /usr/local/lib/python3.7/dist-packages (from yaspin>=1.0.0->wandb) (1.1.0)\n"
          ]
        }
      ]
    },
    {
      "cell_type": "code",
      "metadata": {
        "colab": {
          "base_uri": "https://localhost:8080/"
        },
        "id": "HZG8BDT-xrv3",
        "outputId": "9d618755-0217-40d8-be1f-abf16fd27b1c"
      },
      "source": [
        "!wandb login"
      ],
      "execution_count": 2,
      "outputs": [
        {
          "output_type": "stream",
          "name": "stdout",
          "text": [
            "\u001b[34m\u001b[1mwandb\u001b[0m: Currently logged in as: \u001b[33mdoris\u001b[0m (use `wandb login --relogin` to force relogin)\n"
          ]
        }
      ]
    },
    {
      "cell_type": "code",
      "metadata": {
        "id": "WHZBzAXjxz1J"
      },
      "source": [
        "import wandb"
      ],
      "execution_count": 3,
      "outputs": []
    },
    {
      "cell_type": "code",
      "metadata": {
        "colab": {
          "base_uri": "https://localhost:8080/"
        },
        "id": "MUy1ta4_782n",
        "outputId": "cf0426c8-99d8-413c-813a-770e8a0b2b21"
      },
      "source": [
        "!pip uninstall gensim -y"
      ],
      "execution_count": 4,
      "outputs": [
        {
          "output_type": "stream",
          "name": "stdout",
          "text": [
            "Found existing installation: gensim 4.1.2\n",
            "Uninstalling gensim-4.1.2:\n",
            "  Successfully uninstalled gensim-4.1.2\n"
          ]
        }
      ]
    },
    {
      "cell_type": "code",
      "metadata": {
        "colab": {
          "base_uri": "https://localhost:8080/"
        },
        "id": "oAroxmvO8GQj",
        "outputId": "6d9b4eea-5602-4b77-e1c3-a6f46a4b4840"
      },
      "source": [
        "!pip install gensim"
      ],
      "execution_count": 5,
      "outputs": [
        {
          "output_type": "stream",
          "name": "stdout",
          "text": [
            "Collecting gensim\n",
            "  Using cached gensim-4.1.2-cp37-cp37m-manylinux_2_12_x86_64.manylinux2010_x86_64.whl (24.1 MB)\n",
            "Requirement already satisfied: scipy>=0.18.1 in /usr/local/lib/python3.7/dist-packages (from gensim) (1.4.1)\n",
            "Requirement already satisfied: numpy>=1.17.0 in /usr/local/lib/python3.7/dist-packages (from gensim) (1.19.5)\n",
            "Requirement already satisfied: smart-open>=1.8.1 in /usr/local/lib/python3.7/dist-packages (from gensim) (5.2.1)\n",
            "Installing collected packages: gensim\n",
            "Successfully installed gensim-4.1.2\n"
          ]
        }
      ]
    },
    {
      "cell_type": "code",
      "metadata": {
        "id": "6SZ0zrKX8H-D"
      },
      "source": [
        "import gensim\n",
        "from sklearn.manifold import TSNE\n",
        "import matplotlib.pyplot as plt\n",
        "import pprint\n",
        "import pandas as pd\n",
        "import numpy as np\n",
        "from collections import Counter\n",
        "import plotly.express as px\n",
        "from tqdm import tqdm \n",
        "from gensim.models.doc2vec import Doc2Vec\n",
        "from gensim.models.tfidfmodel import TfidfModel\n",
        "from gensim.models.lsimodel import LsiModel\n",
        "from gensim.models import CoherenceModel\n",
        "from gensim import corpora\n",
        "from gensim import similarities\n",
        "import pickle\n",
        "import os\n",
        "import zipfile\n"
      ],
      "execution_count": 6,
      "outputs": []
    },
    {
      "cell_type": "code",
      "metadata": {
        "id": "znWar-PK8KHT"
      },
      "source": [
        "import logging\n",
        "logging.basicConfig(format='%(asctime)s : %(levelname)s : %(message)s', level=logging.INFO)"
      ],
      "execution_count": 7,
      "outputs": []
    },
    {
      "cell_type": "code",
      "metadata": {
        "colab": {
          "base_uri": "https://localhost:8080/"
        },
        "id": "kjCf_Abf8MCc",
        "outputId": "03e07cfa-cef2-4d60-c746-01765afff07b"
      },
      "source": [
        "print(gensim.__version__)"
      ],
      "execution_count": 8,
      "outputs": [
        {
          "output_type": "stream",
          "name": "stdout",
          "text": [
            "4.1.2\n"
          ]
        }
      ]
    },
    {
      "cell_type": "code",
      "metadata": {
        "id": "_aEonlx-CT6r"
      },
      "source": [
        "!rm data.csv"
      ],
      "execution_count": 9,
      "outputs": []
    },
    {
      "cell_type": "code",
      "metadata": {
        "id": "Xhfwd9iMZ99Q"
      },
      "source": [
        "pd.set_option('display.max_rows', 500)\n",
        "pd.set_option('display.max_columns', 500)\n",
        "pd.set_option('display.width', 1000)"
      ],
      "execution_count": 10,
      "outputs": []
    },
    {
      "cell_type": "markdown",
      "metadata": {
        "id": "Nk5pPZqk0Pn7"
      },
      "source": [
        "# Configuration\n"
      ]
    },
    {
      "cell_type": "code",
      "metadata": {
        "id": "wcZ18xhgU7MZ"
      },
      "source": [
        "use_wandb = True"
      ],
      "execution_count": 11,
      "outputs": []
    },
    {
      "cell_type": "code",
      "metadata": {
        "id": "A-AD1gxGLYxp"
      },
      "source": [
        "generate_webapp_data = False"
      ],
      "execution_count": 12,
      "outputs": []
    },
    {
      "cell_type": "code",
      "metadata": {
        "id": "GfQbJQmexlxI"
      },
      "source": [
        "docu = 'sections'\n",
        "#docu = 'tunes'\n",
        "chords_preprocessing = 'rootAndDegreesPlus'"
      ],
      "execution_count": 13,
      "outputs": []
    },
    {
      "cell_type": "code",
      "metadata": {
        "id": "buoyWNl0F48Y"
      },
      "source": [
        "ngrams_for_input = [1]"
      ],
      "execution_count": 14,
      "outputs": []
    },
    {
      "cell_type": "code",
      "metadata": {
        "id": "wzcT4kkmc49a"
      },
      "source": [
        "phrases_threshold = 1.0  # 1.0 for no phrases"
      ],
      "execution_count": 15,
      "outputs": []
    },
    {
      "cell_type": "code",
      "metadata": {
        "id": "H9AFlUZ1lpGC"
      },
      "source": [
        "remove_repetitions = False"
      ],
      "execution_count": 16,
      "outputs": []
    },
    {
      "cell_type": "code",
      "metadata": {
        "id": "K7qB2_sBvKpB"
      },
      "source": [
        "input_files = {\n",
        "    'sections': {\n",
        "        # M7 and 6 reduced to major triad, m7 reduced to m, dominant 7, m7b5, diminished, and all (b5) left as they are.\n",
        "        'rootAndDegreesPlus': '1NP6trpfnEPnFqJbmcuClvkBB28PNdF8c',\n",
        "        'rootAndDegrees7': '',\n",
        "        'rootAndDegreesSimplified': '1vyC9voFf2vpcKmS5kZBJ9Rafm7wuuzD8',\n",
        "    },\n",
        "    'tunes': {\n",
        "        'rootAndDegreesPlus': '',\n",
        "        'rootAndDegrees7': '',\n",
        "        'rootAndDegreesSimplified': '',\n",
        "    }\n",
        "}"
      ],
      "execution_count": 17,
      "outputs": []
    },
    {
      "cell_type": "code",
      "metadata": {
        "colab": {
          "base_uri": "https://localhost:8080/"
        },
        "id": "lM6eaQwnyWD3",
        "outputId": "77557fce-75e0-410f-f811-67e2c3a0003a"
      },
      "source": [
        "tunes_eval_list = [\n",
        "  \"Sweet Sue, Just You [jazz1350]\",\n",
        "  \"On The Sunny Side Of The Street [jazz1350]\",\n",
        "  \"These Foolish Things [jazz1350]\", \n",
        "  \"Blue Moon [jazz1350]\",\n",
        "  \"I Got Rhythm [jazz1350]\",\n",
        "  \"Old Fashioned Love [trad]\",\n",
        "  \"Exactly Like You [jazz1350]\",\n",
        "  \"Honeysuckle Rose [jazz1350]\",\n",
        "  \"Misty [jazz1350]\",\n",
        "  \"Wow [jazz1350]\",\n",
        "  \"Take The A Train [jazz1350]\"\n",
        "]\n",
        "\n",
        "tunes_eval_list = sorted(tunes_eval_list)\n",
        "tunes_eval_list"
      ],
      "execution_count": 18,
      "outputs": [
        {
          "output_type": "execute_result",
          "data": {
            "text/plain": [
              "['Blue Moon [jazz1350]',\n",
              " 'Exactly Like You [jazz1350]',\n",
              " 'Honeysuckle Rose [jazz1350]',\n",
              " 'I Got Rhythm [jazz1350]',\n",
              " 'Misty [jazz1350]',\n",
              " 'Old Fashioned Love [trad]',\n",
              " 'On The Sunny Side Of The Street [jazz1350]',\n",
              " 'Sweet Sue, Just You [jazz1350]',\n",
              " 'Take The A Train [jazz1350]',\n",
              " 'These Foolish Things [jazz1350]',\n",
              " 'Wow [jazz1350]']"
            ]
          },
          "metadata": {},
          "execution_count": 18
        }
      ]
    },
    {
      "cell_type": "code",
      "metadata": {
        "id": "uiI0h4ef0PCD"
      },
      "source": [
        "contrafacts = [\n",
        "               (\"26-2 [jazz1350]\", \"Confirmation [jazz1350]\"),\n",
        "               (\"52nd Street Theme [jazz1350]\", \"I Got Rhythm [jazz1350]\"), # not a good match\n",
        "               (\"Ablution [jazz1350]\", \"All The Things You Are [jazz1350]\"),\n",
        "               (\"Anthropology [jazz1350]\", \"I Got Rhythm [jazz1350]\"),\n",
        "               (\"Ballade [jazz1350]\", \"As Long As I Live [jazz1350]\"),  # A from Ballade with B from As Long As I\n",
        "               (\"Bright Mississippi [jazz1350]\", \"Sweet Georgia Brown [jazz1350]\"),\n",
        "               (\"C.T.A. [jazz1350]\", \"I Got Rhythm [jazz1350]\"),\n",
        "               #( \"Celia [jazz1350]\", \"I Got Rhythm [jazz1350]\"),\n",
        "               (\"Cottontail [jazz1350]\", \"I Got Rhythm [jazz1350]\"),\n",
        "               (\"Countdown [jazz1350]\", \"Tune Up [jazz1350]\"),\n",
        "               (\"Dewey Square [jazz1350]\", \"Oh, Lady Be Good [jazz1350]\"),\n",
        "               (\"Dexterity [jazz1350]\", \"I Got Rhythm [jazz1350]\"),\n",
        "               (\"Dig [jazz1350]\", \"Sweet Georgia Brown [jazz1350]\"),\n",
        "               (\"Donna Lee [jazz1350]\", \"Indiana (Back Home Again In) [jazz1350]\"),\n",
        "               (\"Don't Be That Way [jazz1350]\", \"I Got Rhythm [jazz1350]\"),  # cannot be found; bridge in different key\n",
        "               #(\"Eternal Triangle [jazz1350]\", \"I Got Rhythm [jazz1350]\"),\n",
        "               (\"Evidence [jazz1350]\", \"Just You, Just Me [jazz1350]\"),\n",
        "               (\"Flintstones [jazz1350]\", \"I Got Rhythm [jazz1350]\"),\n",
        "               (\"Four On Six [jazz1350]\", \"Summertime [jazz1350]\"),\n",
        "               (\"Freight Train [jazz1350]\", \"Blues For Alice [jazz1350]\"),\n",
        "               (\"Good Bait [jazz1350]\", \"I Got Rhythm [jazz1350]\"),  # A sections\n",
        "               (\"Hackensack [jazz1350]\", \"Oh, Lady Be Good [jazz1350]\"),\n",
        "               (\"Half Nelson [jazz1350]\", \"Lady Bird [jazz1350]\"),\n",
        "               (\"Hot House [jazz1350]\", \"What Is This Thing Called Love [jazz1350]\"),\n",
        "               (\"Impressions [jazz1350]\", \"So What [jazz1350]\"),\n",
        "               (\"In A Mellow Tone (In A Mellotone) [jazz1350]\", \"Rose Room [jazz1350]\"),\n",
        "               (\"In Walked Bud [jazz1350]\", \"Blue Skies [jazz1350]\"),\n",
        "               (\"Ko Ko [jazz1350]\", \"Cherokee [jazz1350]\"),\n",
        "               (\"Lennie's Pennies [jazz1350]\", \"Pennies From Heaven [jazz1350]\"),   ## Lennie's Pennies is in minor and therefore transposed to Amin... not possible to recognize like that\n",
        "               #( \"Let's Call This [jazz1350]\", \"Honeysuckle Rose [jazz1350]\"),\n",
        "               (\"Little Rootie Tootie [jazz1350]\", \"I Got Rhythm [jazz1350]\"),\n",
        "               (\"Little Willie Leaps [jazz1350]\", \"All God's Chillun Got Rhythm [jazz1350]\"),\n",
        "               (\"Lullaby Of Birdland [jazz1350]\", \"Love Me Or Leave Me [jazz1350]\"),\n",
        "               #(\"Moose The Mooche [jazz1350]\", \"I Got Rhythm [jazz1350]\"),\n",
        "               (\"My Little Suede Shoes [jazz1350]\", \"Jeepers Creepers [jazz1350]\"),\n",
        "               #(\"Oleo [jazz1350]\", \"I Got Rhythm [jazz1350]\"),\n",
        "               (\"Ornithology [jazz1350]\", \"How High The Moon [jazz1350]\"),\n",
        "               #(\"Passport [jazz1350]\", \"I Got Rhythm [jazz1350]\"),\n",
        "               (\"Quasimodo (Theme) [jazz1350]\", \"Embraceable You [jazz1350]\"),\n",
        "               #(\"Rhythm-a-ning [jazz1350]\", \"I Got Rhythm [jazz1350]\"),\n",
        "               (\"Room 608 [jazz1350]\", \"I Got Rhythm [jazz1350]\"),\n",
        "               #(\"Salt Peanuts [jazz1350]\", \"I Got Rhythm [jazz1350]\"),\n",
        "               (\"Satellite [jazz1350]\", \"How High The Moon [jazz1350]\"),\n",
        "               (\"Scrapple From The Apple [jazz1350]\", \"Honeysuckle Rose [jazz1350]\"), # A section\n",
        "               (\"Scrapple From The Apple [jazz1350]\", \"I Got Rhythm [jazz1350]\"), # B section\n",
        "               #(\"Segment [jazz1350]\", \"I Got Rhythm [jazz1350]\"),\n",
        "               #(\"Seven Come Eleven [jazz1350]\", \"I Got Rhythm [jazz1350]\"),\n",
        "               #(\"Shaw 'Nuff [jazz1350]\", \"I Got Rhythm [jazz1350]\"),\n",
        "               #(\"Theme, The [jazz1350]\", \"I Got Rhythm [jazz1350]\"),\n",
        "               (\"Tour De Force [jazz1350]\", \"Jeepers Creepers [jazz1350]\"),\n",
        "               (\"Wow [jazz1350]\", \"You Can Depend On Me [jazz1350]\"),\n",
        "               (\"Yardbird Suite [jazz1350]\", \"Rosetta [jazz1350]\"),\n",
        "\n",
        "               # following tunes are not from wikipedia),\n",
        "               (\"Sweet Sue, Just You [jazz1350]\", \"Honeysuckle Rose [jazz1350]\"),  # A section\n",
        "               #(\"All Of Me [jazz1350]\", \"Pennies From Heaven [jazz1350]\"), # bars 25-28 of All of Me are same as bars 17-20 of Pennies From Heaven, but different key!\n",
        "               (\"Sweet Sue, Just You [jazz1350]\", \"Bye Bye Blackbird [jazz1350]\"), # Bridge same\n",
        "               (\"These Foolish Things [jazz1350]\", \"Blue Moon [jazz1350]\"), # first 8 bars same\n",
        "               (\"These Foolish Things [jazz1350]\", \"More Than You Know [jazz1350]\"),\n",
        "               (\"These Foolish Things [jazz1350]\", \"Isn't It A Pity [jazz1350]\"),\n",
        "               (\"These Foolish Things [jazz1350]\", \"Soultrane [jazz1350]\"),\n",
        "               (\"These Foolish Things [jazz1350]\", \"Why Do I Love You [jazz1350]\"),\n",
        "               (\"Misty [jazz1350]\", \"Portrait Of Jennie [jazz1350]\"),\n",
        "               (\"Misty [jazz1350]\", \"September In The Rain [jazz1350]\"),\n",
        "               (\"Misty [jazz1350]\", \"I May Be Wrong [jazz1350]\"),  \n",
        "\n",
        "               # identical tunes\n",
        "               (\"Five Foot Two [trad]\", \"Please Don't Talk About Me When I'm Gone [trad]\"),\n",
        "               (\"What Is This Thing Called Love [jazz1350]\", \"Subconscious Lee [jazz1350]\"),\n",
        "               (\"Sweet Georgia Brown [jazz1350]\", \"Dig [jazz1350]\"),\n",
        "\n",
        "\n",
        "               # almost identical tunes\n",
        "               (\"What Is This Thing Called Love [jazz1350]\", \"Hot House [jazz1350]\"),\n",
        "               (\"Jeannie's Song [jazz1350]\", \"Shiny Stockings [jazz1350]\"),\n",
        "               (\"Alone Together [jazz1350]\", \"Segment [jazz1350]\"),\n",
        "               (\"Baubles, Bangles and Beads [jazz1350]\", \"Bossa Antigua [jazz1350]\"),\n",
        "               (\"There Will Never Be Another You [jazz1350]\", \"A Weaver Of Dreams [jazz1350]\"),\n",
        "               (\"Moten Swing [jazz1350]\", \"Once In A While (Ballad) [trad]\"), # same bridge, similar A\n",
        "               (\"All I Do Is Dream Of You [trad]\", \"L-O-V-E [jazz1350]\"),\n",
        "\n",
        "\n",
        "               # same A section\n",
        "               (\"Nancy (With The Laughing Face) [jazz1350]\", \"Body And Soul [jazz1350]\"),\n",
        "               (\"Exactly Like You [jazz1350]\", \"True (You Don't Love Me ) [trad]\"),\n",
        "               (\"Exactly Like You [jazz1350]\", \"Jersey Bounce [trad]\"),\n",
        "               (\"Take The A Train [jazz1350]\", \"Girl From Ipanema, The [jazz1350]\"),\n",
        "               (\"My Heart Stood Still [jazz1350]\", \"All Too Soon [jazz1350]\"),\n",
        "               (\"Undecided [jazz1350]\", \"Broadway [jazz1350]\"),\n",
        "               (\"Let's Fall In Love [jazz1350]\", \"Heart And Soul [jazz1350]\"),\n",
        "               (\"Come Back To Me [jazz1350]\", \"I Wish I Knew [jazz1350]\"),\n",
        "               (\"Wait Till You See Her [jazz1350]\", \"A Certain Smile [jazz1350]\"),\n",
        "               (\"Killer Joe [jazz1350]\", \"Straight Life [jazz1350]\"),\n",
        "               (\"Softly, As In A Morning Sunrise [jazz1350]\", \"Segment [jazz1350]\"),\n",
        "               (\"Bei Mir Bist Du Schon (Root Hog Or Die) [trad]\", \"Egyptian Fantasy [trad]\"),\n",
        "               (\"Bei Mir Bist Du Schon (Root Hog Or Die) [trad]\", \"Puttin' On The Ritz [jazz1350]\"),\n",
        "               (\"Coquette [trad]\", \"Pretend You're Happy When You're Blue [trad]\"),\n",
        "               (\"Softly, As In A Morning Sunrise [jazz1350]\", \"Strode Rode [jazz1350]\"),\n",
        "               (\"Glory Of Love, The [jazz1350]\", \"I've Got My Fingers Crossed [trad]\"),\n",
        "\n",
        "\n",
        "               # same bridge\n",
        "               (\"If I Had You [jazz1350]\", \"Too Young To Go Steady [jazz1350]\"),\n",
        "               (\"Undecided [jazz1350]\", \"Satin Doll [jazz1350]\"),\n",
        "               (\"Billy Boy [jazz1350]\", \"Elora [jazz1350]\"),\n",
        "               (\"Dearly Beloved [jazz1350]\", \"We See [jazz1350]\"),\n",
        "               (\"Alone Together [jazz1350]\", \"A Night In Tunisia [jazz1350]\"),\n",
        "               (\"A Night In Tunisia [jazz1350]\", \"Segment [jazz1350]\"),\n",
        "               (\"Oh! Lady Be Good [trad]\", \"Sentimental Journey [jazz1350]\"),\n",
        "               (\"You Can Depend On Me [jazz1350]\", \"Move [jazz1350]\"),\n",
        "               (\"I Want To Be Happy [jazz1350]\", \"A Beautiful Friendship [jazz1350]\"),\n",
        "               (\"Flying Home [jazz1350]\", \"Down For Double [jazz1350]\"),\n",
        "               (\"Cheek To Cheek [jazz1350]\", \"Violets For Your Furs [jazz1350]\"),\n",
        "               (\"Let's Fall In Love [jazz1350]\", \"At Last [jazz1350]\"),\n",
        "               (\"Don't Be That Way [jazz1350]\", \"Long Ago And Far Away [jazz1350]\"),\n",
        "               (\"On The Sunny Side Of The Street [jazz1350]\", \"I'm Confessin' That I Love You [jazz1350]\"),\n",
        "               (\"On The Sunny Side Of The Street [jazz1350]\", \"Eclypso [jazz1350]\"),\n",
        "               (\"On The Sunny Side Of The Street [jazz1350]\", \"You Stepped Out Of A Dream [jazz1350]\"),\n",
        "               \n",
        "\n",
        "               # similar A section\n",
        "               (\"I Like The Likes Of You [jazz1350]\", \"Mountain Greenery [jazz1350]\"),\n",
        "               (\"My Secret Love [jazz1350]\", \"Samba De Orfeu [jazz1350]\"),\n",
        "               (\"Let's Call The Whole Thing Off [jazz1350]\", \"Fine And Dandy [jazz1350]\"),\n",
        "\n",
        "\n",
        "               # similar B section\n",
        "               (\"Folks Who Live On The Hill, The [jazz1350]\", \"My One And Only Love [jazz1350]\"),\n",
        "               (\"As Long As I Live [jazz1350]\", \"I'm Glad There Is You [jazz1350]\"),\n",
        "               (\"I May Be Wrong [jazz1350]\", \"Teach Me Tonight [jazz1350]\"),\n",
        "               (\"Am I Blue [jazz1350]\", \"Come Back To Me [jazz1350]\"),\n",
        "               (\"My One And Only Love [jazz1350]\", \"Am I Blue [jazz1350]\"),\n",
        "               (\"On The Sunny Side Of The Street [jazz1350]\", \"September In The Rain [jazz1350]\"),\n",
        "               (\"On The Sunny Side Of The Street [jazz1350]\", \"Mountain Greenery [jazz1350]\"),\n",
        "               (\"On The Sunny Side Of The Street [jazz1350]\", \"There's No You [jazz1350]\"),\n",
        "               (\"These Foolish Things [jazz1350]\", \"Embraceable You [jazz1350]\"),\n",
        "               (\"These Foolish Things [jazz1350]\", \"Rosetta [jazz1350]\"),\n",
        "\n",
        "               # same C section\n",
        "               (\"Bill Bailey [jazz1350]\", \"Bourbon Street Parade [jazz1350]\"),\n",
        "\n",
        "               # Stella C is like Woody B\n",
        "               (\"Woody'n You [jazz1350]\", \"Stella By Starlight [jazz1350]\"),\n",
        "\n",
        "               # similar vocabulary, different progressions\n",
        "               (\"Tangerine [jazz1350]\", \"Tea For Two [jazz1350]\"),\n",
        "               (\"I Can't Give You Anything But Love [jazz1350]\", \"You Can Depend On Me [jazz1350]\"),\n",
        "               (\"This Year's Kisses [jazz1350]\", \"My Monday Date [trad]\"),\n",
        "               (\"A Blossom Fell [jazz1350]\", \"Among My Souvenirs [jazz1350]\"),\n",
        "\n",
        "]"
      ],
      "execution_count": 19,
      "outputs": []
    },
    {
      "cell_type": "code",
      "metadata": {
        "colab": {
          "base_uri": "https://localhost:8080/"
        },
        "id": "V2OXaDW9R31b",
        "outputId": "8dee0b44-56cc-44ec-8b38-fae103e41b71"
      },
      "source": [
        "len(contrafacts)"
      ],
      "execution_count": 20,
      "outputs": [
        {
          "output_type": "execute_result",
          "data": {
            "text/plain": [
              "113"
            ]
          },
          "metadata": {},
          "execution_count": 20
        }
      ]
    },
    {
      "cell_type": "markdown",
      "metadata": {
        "id": "gcexO7zK8Pn6"
      },
      "source": [
        "# Initialization\n",
        "\n",
        "## Download the Data"
      ]
    },
    {
      "cell_type": "code",
      "metadata": {
        "id": "JwVJo3Vat8iF"
      },
      "source": [
        "input_data = input_files[docu][chords_preprocessing]\n",
        "\n",
        "input_path = f\"https://docs.google.com/uc?export=download&id={input_data}\"\n",
        "data_file_name = 'data.csv'\n"
      ],
      "execution_count": 21,
      "outputs": []
    },
    {
      "cell_type": "code",
      "metadata": {
        "colab": {
          "base_uri": "https://localhost:8080/",
          "height": 36
        },
        "id": "_Dp-fijjB-pU",
        "outputId": "d366ef6d-2706-4703-a9b2-4c38957a72c2"
      },
      "source": [
        "input_path"
      ],
      "execution_count": 22,
      "outputs": [
        {
          "output_type": "execute_result",
          "data": {
            "application/vnd.google.colaboratory.intrinsic+json": {
              "type": "string"
            },
            "text/plain": [
              "'https://docs.google.com/uc?export=download&id=1NP6trpfnEPnFqJbmcuClvkBB28PNdF8c'"
            ]
          },
          "metadata": {},
          "execution_count": 22
        }
      ]
    },
    {
      "cell_type": "code",
      "metadata": {
        "colab": {
          "base_uri": "https://localhost:8080/"
        },
        "id": "1ZVAYUH5t9Li",
        "outputId": "c46d0a40-4ead-4f70-cd74-e915e17322db"
      },
      "source": [
        "!wget --no-check-certificate \"$input_path\" -O \"$data_file_name\""
      ],
      "execution_count": 23,
      "outputs": [
        {
          "output_type": "stream",
          "name": "stdout",
          "text": [
            "--2021-12-03 12:26:55--  https://docs.google.com/uc?export=download&id=1NP6trpfnEPnFqJbmcuClvkBB28PNdF8c\n",
            "Resolving docs.google.com (docs.google.com)... 172.217.203.113, 172.217.203.139, 172.217.203.102, ...\n",
            "Connecting to docs.google.com (docs.google.com)|172.217.203.113|:443... connected.\n",
            "HTTP request sent, awaiting response... 302 Moved Temporarily\n",
            "Location: https://doc-0g-4c-docs.googleusercontent.com/docs/securesc/ha0ro937gcuc7l7deffksulhg5h7mbp1/9v54fk740b569lhvo9350931fnkggth0/1638534375000/14329102864480165501/*/1NP6trpfnEPnFqJbmcuClvkBB28PNdF8c?e=download [following]\n",
            "Warning: wildcards not supported in HTTP.\n",
            "--2021-12-03 12:26:56--  https://doc-0g-4c-docs.googleusercontent.com/docs/securesc/ha0ro937gcuc7l7deffksulhg5h7mbp1/9v54fk740b569lhvo9350931fnkggth0/1638534375000/14329102864480165501/*/1NP6trpfnEPnFqJbmcuClvkBB28PNdF8c?e=download\n",
            "Resolving doc-0g-4c-docs.googleusercontent.com (doc-0g-4c-docs.googleusercontent.com)... 172.217.204.132, 2607:f8b0:400c:c15::84\n",
            "Connecting to doc-0g-4c-docs.googleusercontent.com (doc-0g-4c-docs.googleusercontent.com)|172.217.204.132|:443... connected.\n",
            "HTTP request sent, awaiting response... 200 OK\n",
            "Length: 819778 (801K) [text/csv]\n",
            "Saving to: ‘data.csv’\n",
            "\n",
            "data.csv            100%[===================>] 800.56K  --.-KB/s    in 0.007s  \n",
            "\n",
            "2021-12-03 12:26:56 (117 MB/s) - ‘data.csv’ saved [819778/819778]\n",
            "\n"
          ]
        }
      ]
    },
    {
      "cell_type": "markdown",
      "metadata": {
        "id": "Ljs21B7h8YvC"
      },
      "source": [
        "### Read Chords Input Data"
      ]
    },
    {
      "cell_type": "code",
      "metadata": {
        "colab": {
          "base_uri": "https://localhost:8080/",
          "height": 310
        },
        "id": "B7kK418L8aac",
        "outputId": "03bd46e2-1fd6-4836-a122-17ca5f5b8339"
      },
      "source": [
        "df = pd.read_csv(data_file_name, sep='\\t', index_col=\"id\")\n",
        "df = df.reset_index()\n",
        "df.head(5)"
      ],
      "execution_count": 24,
      "outputs": [
        {
          "output_type": "execute_result",
          "data": {
            "text/html": [
              "<div>\n",
              "<style scoped>\n",
              "    .dataframe tbody tr th:only-of-type {\n",
              "        vertical-align: middle;\n",
              "    }\n",
              "\n",
              "    .dataframe tbody tr th {\n",
              "        vertical-align: top;\n",
              "    }\n",
              "\n",
              "    .dataframe thead th {\n",
              "        text-align: right;\n",
              "    }\n",
              "</style>\n",
              "<table border=\"1\" class=\"dataframe\">\n",
              "  <thead>\n",
              "    <tr style=\"text-align: right;\">\n",
              "      <th></th>\n",
              "      <th>id</th>\n",
              "      <th>file_name</th>\n",
              "      <th>title</th>\n",
              "      <th>title_playlist</th>\n",
              "      <th>tune_mode</th>\n",
              "      <th>tune_id</th>\n",
              "      <th>section_name</th>\n",
              "      <th>section_id</th>\n",
              "      <th>chords</th>\n",
              "    </tr>\n",
              "  </thead>\n",
              "  <tbody>\n",
              "    <tr>\n",
              "      <th>0</th>\n",
              "      <td>0</td>\n",
              "      <td>dataset/jazz1350/26-2.xml</td>\n",
              "      <td>26-2</td>\n",
              "      <td>26-2 [jazz1350]</td>\n",
              "      <td>major</td>\n",
              "      <td>0</td>\n",
              "      <td>A</td>\n",
              "      <td>1</td>\n",
              "      <td>C Eb7 G# B7 E G7 Gm C7 F G#7 C# E7 Am D7 Dm G7</td>\n",
              "    </tr>\n",
              "    <tr>\n",
              "      <th>1</th>\n",
              "      <td>1</td>\n",
              "      <td>dataset/jazz1350/26-2.xml</td>\n",
              "      <td>26-2</td>\n",
              "      <td>26-2 [jazz1350]</td>\n",
              "      <td>major</td>\n",
              "      <td>0</td>\n",
              "      <td>A</td>\n",
              "      <td>2</td>\n",
              "      <td>C Eb7 G# B7 E G7 Gm C7 F Eb7 G# B7 E G7 C</td>\n",
              "    </tr>\n",
              "    <tr>\n",
              "      <th>2</th>\n",
              "      <td>2</td>\n",
              "      <td>dataset/jazz1350/26-2.xml</td>\n",
              "      <td>26-2</td>\n",
              "      <td>26-2 [jazz1350]</td>\n",
              "      <td>major</td>\n",
              "      <td>0</td>\n",
              "      <td>B</td>\n",
              "      <td>3</td>\n",
              "      <td>Gm C7 Bm E7 A C7 F Bbm Eb7 G# Dm G7</td>\n",
              "    </tr>\n",
              "    <tr>\n",
              "      <th>3</th>\n",
              "      <td>3</td>\n",
              "      <td>dataset/jazz1350/26-2.xml</td>\n",
              "      <td>26-2</td>\n",
              "      <td>26-2 [jazz1350]</td>\n",
              "      <td>major</td>\n",
              "      <td>0</td>\n",
              "      <td>A</td>\n",
              "      <td>4</td>\n",
              "      <td>C Eb7 G# B7 E G7 Gm C7 F Eb7 G# B7 E G7 C</td>\n",
              "    </tr>\n",
              "    <tr>\n",
              "      <th>4</th>\n",
              "      <td>4</td>\n",
              "      <td>dataset/jazz1350/500 Miles High.xml</td>\n",
              "      <td>500 Miles High</td>\n",
              "      <td>500 Miles High [jazz1350]</td>\n",
              "      <td>minor</td>\n",
              "      <td>1</td>\n",
              "      <td>A</td>\n",
              "      <td>1</td>\n",
              "      <td>Am Am Cm Cm Eb Eb Em7b5 A7 Dm Dm Bm7b5 Bm7b5 B...</td>\n",
              "    </tr>\n",
              "  </tbody>\n",
              "</table>\n",
              "</div>"
            ],
            "text/plain": [
              "   id                            file_name           title             title_playlist tune_mode  tune_id section_name  section_id                                             chords\n",
              "0   0            dataset/jazz1350/26-2.xml            26-2            26-2 [jazz1350]     major        0            A           1     C Eb7 G# B7 E G7 Gm C7 F G#7 C# E7 Am D7 Dm G7\n",
              "1   1            dataset/jazz1350/26-2.xml            26-2            26-2 [jazz1350]     major        0            A           2          C Eb7 G# B7 E G7 Gm C7 F Eb7 G# B7 E G7 C\n",
              "2   2            dataset/jazz1350/26-2.xml            26-2            26-2 [jazz1350]     major        0            B           3                Gm C7 Bm E7 A C7 F Bbm Eb7 G# Dm G7\n",
              "3   3            dataset/jazz1350/26-2.xml            26-2            26-2 [jazz1350]     major        0            A           4          C Eb7 G# B7 E G7 Gm C7 F Eb7 G# B7 E G7 C\n",
              "4   4  dataset/jazz1350/500 Miles High.xml  500 Miles High  500 Miles High [jazz1350]     minor        1            A           1  Am Am Cm Cm Eb Eb Em7b5 A7 Dm Dm Bm7b5 Bm7b5 B..."
            ]
          },
          "metadata": {},
          "execution_count": 24
        }
      ]
    },
    {
      "cell_type": "markdown",
      "metadata": {
        "id": "OsPcEFbg8gu6"
      },
      "source": [
        "### Meta Data"
      ]
    },
    {
      "cell_type": "code",
      "metadata": {
        "colab": {
          "base_uri": "https://localhost:8080/",
          "height": 206
        },
        "id": "_62YlEVJXOCL",
        "outputId": "d0dbaa70-f20b-42b1-c58c-e2e903dbbb6d"
      },
      "source": [
        "titles = df.loc[:, ['id', 'tune_id', 'section_id', 'section_name', 'title', 'title_playlist', 'tune_mode']]\n",
        "titles[:5]"
      ],
      "execution_count": 25,
      "outputs": [
        {
          "output_type": "execute_result",
          "data": {
            "text/html": [
              "<div>\n",
              "<style scoped>\n",
              "    .dataframe tbody tr th:only-of-type {\n",
              "        vertical-align: middle;\n",
              "    }\n",
              "\n",
              "    .dataframe tbody tr th {\n",
              "        vertical-align: top;\n",
              "    }\n",
              "\n",
              "    .dataframe thead th {\n",
              "        text-align: right;\n",
              "    }\n",
              "</style>\n",
              "<table border=\"1\" class=\"dataframe\">\n",
              "  <thead>\n",
              "    <tr style=\"text-align: right;\">\n",
              "      <th></th>\n",
              "      <th>id</th>\n",
              "      <th>tune_id</th>\n",
              "      <th>section_id</th>\n",
              "      <th>section_name</th>\n",
              "      <th>title</th>\n",
              "      <th>title_playlist</th>\n",
              "      <th>tune_mode</th>\n",
              "    </tr>\n",
              "  </thead>\n",
              "  <tbody>\n",
              "    <tr>\n",
              "      <th>0</th>\n",
              "      <td>0</td>\n",
              "      <td>0</td>\n",
              "      <td>1</td>\n",
              "      <td>A</td>\n",
              "      <td>26-2</td>\n",
              "      <td>26-2 [jazz1350]</td>\n",
              "      <td>major</td>\n",
              "    </tr>\n",
              "    <tr>\n",
              "      <th>1</th>\n",
              "      <td>1</td>\n",
              "      <td>0</td>\n",
              "      <td>2</td>\n",
              "      <td>A</td>\n",
              "      <td>26-2</td>\n",
              "      <td>26-2 [jazz1350]</td>\n",
              "      <td>major</td>\n",
              "    </tr>\n",
              "    <tr>\n",
              "      <th>2</th>\n",
              "      <td>2</td>\n",
              "      <td>0</td>\n",
              "      <td>3</td>\n",
              "      <td>B</td>\n",
              "      <td>26-2</td>\n",
              "      <td>26-2 [jazz1350]</td>\n",
              "      <td>major</td>\n",
              "    </tr>\n",
              "    <tr>\n",
              "      <th>3</th>\n",
              "      <td>3</td>\n",
              "      <td>0</td>\n",
              "      <td>4</td>\n",
              "      <td>A</td>\n",
              "      <td>26-2</td>\n",
              "      <td>26-2 [jazz1350]</td>\n",
              "      <td>major</td>\n",
              "    </tr>\n",
              "    <tr>\n",
              "      <th>4</th>\n",
              "      <td>4</td>\n",
              "      <td>1</td>\n",
              "      <td>1</td>\n",
              "      <td>A</td>\n",
              "      <td>500 Miles High</td>\n",
              "      <td>500 Miles High [jazz1350]</td>\n",
              "      <td>minor</td>\n",
              "    </tr>\n",
              "  </tbody>\n",
              "</table>\n",
              "</div>"
            ],
            "text/plain": [
              "   id  tune_id  section_id section_name           title             title_playlist tune_mode\n",
              "0   0        0           1            A            26-2            26-2 [jazz1350]     major\n",
              "1   1        0           2            A            26-2            26-2 [jazz1350]     major\n",
              "2   2        0           3            B            26-2            26-2 [jazz1350]     major\n",
              "3   3        0           4            A            26-2            26-2 [jazz1350]     major\n",
              "4   4        1           1            A  500 Miles High  500 Miles High [jazz1350]     minor"
            ]
          },
          "metadata": {},
          "execution_count": 25
        }
      ]
    },
    {
      "cell_type": "code",
      "metadata": {
        "id": "0vEOjvwt8jUu"
      },
      "source": [
        "titles_dict = titles.to_dict()\n",
        "\n",
        "sectionid_to_title = titles_dict['title_playlist']\n",
        "sectionid_to_titleid = titles_dict['tune_id']\n"
      ],
      "execution_count": 26,
      "outputs": []
    },
    {
      "cell_type": "code",
      "metadata": {
        "id": "Om7pbfnNGO_I"
      },
      "source": [
        "tunes = df.loc[:, ['tune_id', 'title_playlist']].drop_duplicates()\n",
        "tunes = tunes.set_index('tune_id').to_dict()\n",
        "titleid_to_title = tunes['title_playlist']"
      ],
      "execution_count": 27,
      "outputs": []
    },
    {
      "cell_type": "code",
      "metadata": {
        "colab": {
          "base_uri": "https://localhost:8080/"
        },
        "id": "MdUrEFKj7kVA",
        "outputId": "20e66e9c-c5f6-4d1f-c0cf-982cadc05d45"
      },
      "source": [
        "len(titleid_to_title)"
      ],
      "execution_count": 28,
      "outputs": [
        {
          "output_type": "execute_result",
          "data": {
            "text/plain": [
              "1692"
            ]
          },
          "metadata": {},
          "execution_count": 28
        }
      ]
    },
    {
      "cell_type": "code",
      "metadata": {
        "id": "OvLyxrExxvew"
      },
      "source": [
        "title_to_titleid = {v: k for k, v in titleid_to_title.items()}\n"
      ],
      "execution_count": 29,
      "outputs": []
    },
    {
      "cell_type": "code",
      "metadata": {
        "id": "1H72Y3_d8uNu"
      },
      "source": [
        "titles_rows = titles.to_dict(orient='records')\n",
        "sectionid_to_section = []\n",
        "for i, row in enumerate(titles_rows):\n",
        "  name = f\"{row['title']}, section{row['section_id']} ({row['section_name']})\"\n",
        "  sectionid_to_section.append(name)\n",
        "  "
      ],
      "execution_count": 30,
      "outputs": []
    },
    {
      "cell_type": "code",
      "metadata": {
        "id": "1W7RfTQpaIEz"
      },
      "source": [
        "sectionid_to_sectionlabel = []\n",
        "for i, row in enumerate(titles_rows):\n",
        "  sectionid_to_sectionlabel.append(row['section_name'])\n",
        "  "
      ],
      "execution_count": 31,
      "outputs": []
    },
    {
      "cell_type": "code",
      "metadata": {
        "id": "HCeGUk818y8V"
      },
      "source": [
        "title_to_sectionid = {}\n",
        "\n",
        "for row in titles.iterrows():\n",
        "  title = row[1]['title_playlist']\n",
        "  if title not in title_to_sectionid:\n",
        "    title_to_sectionid[title] = [row[1]['id']]\n",
        "  else:\n",
        "    title_to_sectionid[title].append(row[1]['id'])"
      ],
      "execution_count": 32,
      "outputs": []
    },
    {
      "cell_type": "markdown",
      "metadata": {
        "id": "GWXGqImnoHdm"
      },
      "source": [
        "### Create Directories on Colab"
      ]
    },
    {
      "cell_type": "code",
      "metadata": {
        "id": "sDWIxDpIoJv1"
      },
      "source": [
        "!rm -R output\n",
        "!mkdir output"
      ],
      "execution_count": 33,
      "outputs": []
    },
    {
      "cell_type": "markdown",
      "metadata": {
        "id": "LvQ60s_owm82"
      },
      "source": [
        "## Initialization for wandb variables"
      ]
    },
    {
      "cell_type": "code",
      "metadata": {
        "id": "fw7FHHXfwagL"
      },
      "source": [
        "recommender_results_cols = ['reference', 'id', 'method', 'similar', 'score_div_max', 'score']\n",
        "recommender_results = pd.DataFrame(columns=recommender_results_cols)"
      ],
      "execution_count": 34,
      "outputs": []
    },
    {
      "cell_type": "code",
      "metadata": {
        "id": "PfvF20G1JZMa"
      },
      "source": [
        "lsi_config = {\n",
        "    'num_topics': 100, #22, # 100 gives a better value for the contrafacts test\n",
        "}"
      ],
      "execution_count": 35,
      "outputs": []
    },
    {
      "cell_type": "code",
      "metadata": {
        "id": "eW2f6BdAJl01"
      },
      "source": [
        "doc2vec_config = {\n",
        "    'general': {\n",
        "        'chords_preprocessing': chords_preprocessing,\n",
        "        'tag_sections_and_tunes': False,\n",
        "    },\n",
        "    'model': {\n",
        "        'dm': 1,\n",
        "        'vector_size': 100,\n",
        "        'window': 2,\n",
        "        'epochs': 40,\n",
        "        #'workers': 1,\n",
        "        'min_count': 1,\n",
        "        'negative': 10,\n",
        "        'sample': 0.001,\n",
        "        'seed': 42\n",
        "    }\n",
        "}"
      ],
      "execution_count": 36,
      "outputs": []
    },
    {
      "cell_type": "code",
      "metadata": {
        "id": "sxdJ97gdx70_",
        "colab": {
          "base_uri": "https://localhost:8080/",
          "height": 53
        },
        "outputId": "39aed7e2-bd06-441d-fc84-4c200680c7bd"
      },
      "source": [
        "if use_wandb:\n",
        "  wandb.init(\n",
        "        # Set entity to specify your username or team name\n",
        "        # ex: entity=\"carey\",\n",
        "        # Set the project where this run will be logged\n",
        "        project=\"jazztunes\", \n",
        "        \n",
        "        # Track hyperparameters and run metadata\n",
        "        config={\n",
        "            \"input_data\": input_path,\n",
        "            \"ngrams_input\": ngrams_for_input,\n",
        "            \"comparison\": docu,\n",
        "            \"lsi\": lsi_config,\n",
        "            \"doc2vec\": doc2vec_config,\n",
        "            \"remove_repeated_chords\": remove_repetitions,\n",
        "            \"phrases_threshold\": phrases_threshold,\n",
        "            \"comment\": \"sus and sus7 chords added.\"\n",
        "        }\n",
        "    )"
      ],
      "execution_count": 37,
      "outputs": [
        {
          "output_type": "stream",
          "name": "stderr",
          "text": [
            "\u001b[34m\u001b[1mwandb\u001b[0m: Currently logged in as: \u001b[33mdoris\u001b[0m (use `wandb login --relogin` to force relogin)\n"
          ]
        },
        {
          "output_type": "display_data",
          "data": {
            "text/html": [
              "\n",
              "                    Syncing run <strong><a href=\"https://wandb.ai/doris/jazztunes/runs/1lkfwwy5\" target=\"_blank\">swept-universe-52</a></strong> to <a href=\"https://wandb.ai/doris/jazztunes\" target=\"_blank\">Weights & Biases</a> (<a href=\"https://docs.wandb.com/integrations/jupyter.html\" target=\"_blank\">docs</a>).<br/>\n",
              "\n",
              "                "
            ],
            "text/plain": [
              "<IPython.core.display.HTML object>"
            ]
          },
          "metadata": {}
        }
      ]
    },
    {
      "cell_type": "code",
      "metadata": {
        "id": "xHOY4TKYVN-g"
      },
      "source": [
        "if use_wandb:\n",
        "  artifact = wandb.Artifact('input_data', type='dataset')\n",
        "  artifact.add_file('data.csv')\n",
        "  wandb.log_artifact(artifact)"
      ],
      "execution_count": 38,
      "outputs": []
    },
    {
      "cell_type": "markdown",
      "metadata": {
        "id": "wox-dMcz84Bt"
      },
      "source": [
        "## Helpers functions"
      ]
    },
    {
      "cell_type": "code",
      "metadata": {
        "id": "2964REdr80Gd"
      },
      "source": [
        "def ngrams(tokens, n=2, sep='-'):\n",
        "    return [sep.join(ngram) for ngram in zip(*[tokens[i:] for i in range(n)])]"
      ],
      "execution_count": 39,
      "outputs": []
    },
    {
      "cell_type": "code",
      "metadata": {
        "id": "W42rugQPNYVP"
      },
      "source": [
        "def raw_chords_to_df(tunes):\n",
        "  tunes_chords = [item for tune in tunes for item in tune]\n",
        "  counts = Counter(tunes_chords)\n",
        "  df = pd.DataFrame(counts.items(),\n",
        "                    columns=['chord', 'count']).sort_values(by='count', ascending=False)\n",
        "\n",
        "  return df"
      ],
      "execution_count": 40,
      "outputs": []
    },
    {
      "cell_type": "markdown",
      "metadata": {
        "id": "umfsNtAdF0jM"
      },
      "source": [
        "# Data Preparation"
      ]
    },
    {
      "cell_type": "code",
      "metadata": {
        "id": "FeRqVmphCS6m"
      },
      "source": [
        "def remove_chord_repetitions(chords):\n",
        "  previous = ''\n",
        "  chords_norep = []\n",
        "  for c in chords:\n",
        "    if c != previous:\n",
        "      chords_norep.append(c)\n",
        "      previous = c\n",
        "  return chords_norep\n",
        "  "
      ],
      "execution_count": 41,
      "outputs": []
    },
    {
      "cell_type": "code",
      "metadata": {
        "id": "dCLwnqoVGcMw"
      },
      "source": [
        "lines = df.loc[:, 'chords'].tolist()\n",
        "data = [line.split(' ') for line in lines]"
      ],
      "execution_count": 42,
      "outputs": []
    },
    {
      "cell_type": "code",
      "metadata": {
        "colab": {
          "base_uri": "https://localhost:8080/"
        },
        "id": "g7SmApW9F3K6",
        "outputId": "3e6c5a20-7aab-49ba-f8ac-b00528a8674e"
      },
      "source": [
        "processed_corpus = []\n",
        "for line in data:\n",
        "  tune_n = []\n",
        "  if remove_repetitions:\n",
        "    line = remove_chord_repetitions(line)\n",
        "  for n in ngrams_for_input:\n",
        "    tune_n.extend(ngrams(line, n=n))\n",
        "  processed_corpus.append(tune_n)\n",
        "\n",
        "for line in processed_corpus[:10]:\n",
        "  print(line)"
      ],
      "execution_count": 43,
      "outputs": [
        {
          "output_type": "stream",
          "name": "stdout",
          "text": [
            "['C', 'Eb7', 'G#', 'B7', 'E', 'G7', 'Gm', 'C7', 'F', 'G#7', 'C#', 'E7', 'Am', 'D7', 'Dm', 'G7']\n",
            "['C', 'Eb7', 'G#', 'B7', 'E', 'G7', 'Gm', 'C7', 'F', 'Eb7', 'G#', 'B7', 'E', 'G7', 'C']\n",
            "['Gm', 'C7', 'Bm', 'E7', 'A', 'C7', 'F', 'Bbm', 'Eb7', 'G#', 'Dm', 'G7']\n",
            "['C', 'Eb7', 'G#', 'B7', 'E', 'G7', 'Gm', 'C7', 'F', 'Eb7', 'G#', 'B7', 'E', 'G7', 'C']\n",
            "['Am', 'Am', 'Cm', 'Cm', 'Eb', 'Eb', 'Em7b5', 'A7', 'Dm', 'Dm', 'Bm7b5', 'Bm7b5', 'Bbm', 'Bbm', 'Fm', 'Fm', 'E7', 'E7', 'Fm', 'Fm', 'C#', 'C#', 'Fm', 'Fm', 'C#', 'C#']\n",
            "['Am', 'C#', 'Bm7b5', 'E7', 'Am', 'C#', 'Bm7b5', 'E7', 'Cm', 'F7', 'Bb', 'G#m', 'C#7', 'F#m7b5', 'B7', 'E', 'E', 'E7']\n",
            "['Am', 'C#', 'Bm7b5', 'E7', 'Am', 'C#', 'Bm7b5', 'E7', 'Cm', 'F7', 'Bb', 'G#m', 'C#7', 'F#m7b5', 'B7', 'Em', 'Em']\n",
            "['C', 'Am', 'Dm', 'G7', 'C', 'Am', 'Dm', 'G7', 'C', 'Am', 'Dm', 'G7', 'C', 'G7', 'C']\n",
            "['C', 'Am', 'Dm', 'G7', 'C', 'Am', 'Dm', 'G7', 'C', 'Am', 'Dm', 'G7', 'C', 'G7', 'C']\n",
            "['C7', 'C7', 'F', 'F', 'D7', 'D7', 'G7', 'G7']\n"
          ]
        }
      ]
    },
    {
      "cell_type": "code",
      "metadata": {
        "colab": {
          "base_uri": "https://localhost:8080/"
        },
        "id": "iERQjgxNsV6Q",
        "outputId": "590ed609-a032-4663-ffe7-8439fd96c9ac"
      },
      "source": [
        "len(processed_corpus)"
      ],
      "execution_count": 44,
      "outputs": [
        {
          "output_type": "execute_result",
          "data": {
            "text/plain": [
              "5552"
            ]
          },
          "metadata": {},
          "execution_count": 44
        }
      ]
    },
    {
      "cell_type": "markdown",
      "metadata": {
        "id": "_mWldntzbgqd"
      },
      "source": [
        "#### Use Phrases"
      ]
    },
    {
      "cell_type": "code",
      "metadata": {
        "colab": {
          "base_uri": "https://localhost:8080/"
        },
        "id": "JV1cJPbWbgXY",
        "outputId": "4896d6b0-b57c-434a-9a5b-e7e530b48772"
      },
      "source": [
        "def make_bigrams(texts, thres=0.2):\n",
        "  bigram = gensim.models.Phrases(texts, min_count=1, threshold=thres, connector_words=[], scoring='npmi')\n",
        "  bigram_mod = gensim.models.phrases.Phraser(bigram)\n",
        "  return [bigram_mod[doc] for doc in texts]\n",
        "\n",
        "\n",
        "processed_corpus = make_bigrams(data, thres=phrases_threshold)\n",
        "\n",
        "for i in processed_corpus[:10]:\n",
        "  print(i)"
      ],
      "execution_count": 45,
      "outputs": [
        {
          "output_type": "stream",
          "name": "stderr",
          "text": [
            "2021-12-03 12:27:04,102 : INFO : collecting all words and their counts\n",
            "2021-12-03 12:27:04,105 : INFO : PROGRESS: at sentence #0, processed 0 words and 0 word types\n",
            "2021-12-03 12:27:04,227 : INFO : collected 2114 token types (unigram + bigrams) from a corpus of 76986 words and 5552 sentences\n",
            "2021-12-03 12:27:04,234 : INFO : merged Phrases<2114 vocab, min_count=1, threshold=1.0, max_vocab_size=40000000>\n",
            "2021-12-03 12:27:04,239 : INFO : Phrases lifecycle event {'msg': 'built Phrases<2114 vocab, min_count=1, threshold=1.0, max_vocab_size=40000000> in 0.14s', 'datetime': '2021-12-03T12:27:04.239784', 'gensim': '4.1.2', 'python': '3.7.12 (default, Sep 10 2021, 00:21:48) \\n[GCC 7.5.0]', 'platform': 'Linux-5.4.104+-x86_64-with-Ubuntu-18.04-bionic', 'event': 'created'}\n",
            "2021-12-03 12:27:04,242 : INFO : exporting phrases from Phrases<2114 vocab, min_count=1, threshold=1.0, max_vocab_size=40000000>\n",
            "2021-12-03 12:27:04,262 : INFO : FrozenPhrases lifecycle event {'msg': 'exported FrozenPhrases<0 phrases, min_count=1, threshold=1.0> from Phrases<2114 vocab, min_count=1, threshold=1.0, max_vocab_size=40000000> in 0.01s', 'datetime': '2021-12-03T12:27:04.262217', 'gensim': '4.1.2', 'python': '3.7.12 (default, Sep 10 2021, 00:21:48) \\n[GCC 7.5.0]', 'platform': 'Linux-5.4.104+-x86_64-with-Ubuntu-18.04-bionic', 'event': 'created'}\n"
          ]
        },
        {
          "output_type": "stream",
          "name": "stdout",
          "text": [
            "['C', 'Eb7', 'G#', 'B7', 'E', 'G7', 'Gm', 'C7', 'F', 'G#7', 'C#', 'E7', 'Am', 'D7', 'Dm', 'G7']\n",
            "['C', 'Eb7', 'G#', 'B7', 'E', 'G7', 'Gm', 'C7', 'F', 'Eb7', 'G#', 'B7', 'E', 'G7', 'C']\n",
            "['Gm', 'C7', 'Bm', 'E7', 'A', 'C7', 'F', 'Bbm', 'Eb7', 'G#', 'Dm', 'G7']\n",
            "['C', 'Eb7', 'G#', 'B7', 'E', 'G7', 'Gm', 'C7', 'F', 'Eb7', 'G#', 'B7', 'E', 'G7', 'C']\n",
            "['Am', 'Am', 'Cm', 'Cm', 'Eb', 'Eb', 'Em7b5', 'A7', 'Dm', 'Dm', 'Bm7b5', 'Bm7b5', 'Bbm', 'Bbm', 'Fm', 'Fm', 'E7', 'E7', 'Fm', 'Fm', 'C#', 'C#', 'Fm', 'Fm', 'C#', 'C#']\n",
            "['Am', 'C#', 'Bm7b5', 'E7', 'Am', 'C#', 'Bm7b5', 'E7', 'Cm', 'F7', 'Bb', 'G#m', 'C#7', 'F#m7b5', 'B7', 'E', 'E', 'E7']\n",
            "['Am', 'C#', 'Bm7b5', 'E7', 'Am', 'C#', 'Bm7b5', 'E7', 'Cm', 'F7', 'Bb', 'G#m', 'C#7', 'F#m7b5', 'B7', 'Em', 'Em']\n",
            "['C', 'Am', 'Dm', 'G7', 'C', 'Am', 'Dm', 'G7', 'C', 'Am', 'Dm', 'G7', 'C', 'G7', 'C']\n",
            "['C', 'Am', 'Dm', 'G7', 'C', 'Am', 'Dm', 'G7', 'C', 'Am', 'Dm', 'G7', 'C', 'G7', 'C']\n",
            "['C7', 'C7', 'F', 'F', 'D7', 'D7', 'G7', 'G7']\n"
          ]
        }
      ]
    },
    {
      "cell_type": "code",
      "metadata": {
        "colab": {
          "base_uri": "https://localhost:8080/"
        },
        "id": "E3sOp7OtsZNw",
        "outputId": "bb004143-032b-420b-856c-93fc2f9d22cd"
      },
      "source": [
        "len(processed_corpus)"
      ],
      "execution_count": 46,
      "outputs": [
        {
          "output_type": "execute_result",
          "data": {
            "text/plain": [
              "5552"
            ]
          },
          "metadata": {},
          "execution_count": 46
        }
      ]
    },
    {
      "cell_type": "markdown",
      "metadata": {
        "id": "Sri0K2DhNagp"
      },
      "source": [
        "#### Corpus Overview"
      ]
    },
    {
      "cell_type": "code",
      "metadata": {
        "colab": {
          "base_uri": "https://localhost:8080/"
        },
        "id": "X2ZqA7IF4ufg",
        "outputId": "82b90b89-ab10-4ed2-a0d7-c589a3ea3261"
      },
      "source": [
        "tokens = [item for l in processed_corpus for item in l]\n",
        "total_tokens = len(tokens)\n",
        "vocab_size = len(set(tokens))\n",
        "vocab_prop = 100*vocab_size/total_tokens\n",
        "\n",
        "print(f\"Total Number of tokens: {total_tokens}\")\n",
        "print(f\"Size of vocabulary: {vocab_size}\")\n",
        "print(f\"Proportion of vocabulary in corpus: {vocab_prop:.02f}%\")"
      ],
      "execution_count": 47,
      "outputs": [
        {
          "output_type": "stream",
          "name": "stdout",
          "text": [
            "Total Number of tokens: 76986\n",
            "Size of vocabulary: 83\n",
            "Proportion of vocabulary in corpus: 0.11%\n"
          ]
        }
      ]
    },
    {
      "cell_type": "code",
      "metadata": {
        "colab": {
          "base_uri": "https://localhost:8080/",
          "height": 363
        },
        "id": "rULq3jYVNh_x",
        "outputId": "d9bc10f4-e199-4955-b657-b70bb0d2495f"
      },
      "source": [
        "df_chords = raw_chords_to_df(processed_corpus)\n",
        "df_chords.head(10)"
      ],
      "execution_count": 48,
      "outputs": [
        {
          "output_type": "execute_result",
          "data": {
            "text/html": [
              "<div>\n",
              "<style scoped>\n",
              "    .dataframe tbody tr th:only-of-type {\n",
              "        vertical-align: middle;\n",
              "    }\n",
              "\n",
              "    .dataframe tbody tr th {\n",
              "        vertical-align: top;\n",
              "    }\n",
              "\n",
              "    .dataframe thead th {\n",
              "        text-align: right;\n",
              "    }\n",
              "</style>\n",
              "<table border=\"1\" class=\"dataframe\">\n",
              "  <thead>\n",
              "    <tr style=\"text-align: right;\">\n",
              "      <th></th>\n",
              "      <th>chord</th>\n",
              "      <th>count</th>\n",
              "    </tr>\n",
              "  </thead>\n",
              "  <tbody>\n",
              "    <tr>\n",
              "      <th>0</th>\n",
              "      <td>C</td>\n",
              "      <td>12920</td>\n",
              "    </tr>\n",
              "    <tr>\n",
              "      <th>5</th>\n",
              "      <td>G7</td>\n",
              "      <td>9701</td>\n",
              "    </tr>\n",
              "    <tr>\n",
              "      <th>14</th>\n",
              "      <td>Dm</td>\n",
              "      <td>7514</td>\n",
              "    </tr>\n",
              "    <tr>\n",
              "      <th>12</th>\n",
              "      <td>Am</td>\n",
              "      <td>5501</td>\n",
              "    </tr>\n",
              "    <tr>\n",
              "      <th>21</th>\n",
              "      <td>A7</td>\n",
              "      <td>4134</td>\n",
              "    </tr>\n",
              "    <tr>\n",
              "      <th>13</th>\n",
              "      <td>D7</td>\n",
              "      <td>3581</td>\n",
              "    </tr>\n",
              "    <tr>\n",
              "      <th>8</th>\n",
              "      <td>F</td>\n",
              "      <td>3431</td>\n",
              "    </tr>\n",
              "    <tr>\n",
              "      <th>7</th>\n",
              "      <td>C7</td>\n",
              "      <td>3116</td>\n",
              "    </tr>\n",
              "    <tr>\n",
              "      <th>11</th>\n",
              "      <td>E7</td>\n",
              "      <td>2980</td>\n",
              "    </tr>\n",
              "    <tr>\n",
              "      <th>29</th>\n",
              "      <td>Em</td>\n",
              "      <td>2578</td>\n",
              "    </tr>\n",
              "  </tbody>\n",
              "</table>\n",
              "</div>"
            ],
            "text/plain": [
              "   chord  count\n",
              "0      C  12920\n",
              "5     G7   9701\n",
              "14    Dm   7514\n",
              "12    Am   5501\n",
              "21    A7   4134\n",
              "13    D7   3581\n",
              "8      F   3431\n",
              "7     C7   3116\n",
              "11    E7   2980\n",
              "29    Em   2578"
            ]
          },
          "metadata": {},
          "execution_count": 48
        }
      ]
    },
    {
      "cell_type": "code",
      "metadata": {
        "colab": {
          "base_uri": "https://localhost:8080/",
          "height": 560
        },
        "id": "G9fknTouNmKm",
        "outputId": "631cc2e1-0dba-4fd7-e9fb-423ce5a4ca2d"
      },
      "source": [
        "df_chords = pd.DataFrame.from_dict(df_chords)\n",
        "df_chords.sort_values(by=['count'], ascending=False, inplace=True)\n",
        "df_chords_top = df_chords.query('count > 100')\n",
        "\n",
        "fig = px.bar(df_chords_top, x='chord', y='count', log_y=True)\n",
        "fig.update_layout(barmode='stack', xaxis={'categoryorder':'total descending'})\n",
        "fig.show()"
      ],
      "execution_count": 49,
      "outputs": [
        {
          "output_type": "stream",
          "name": "stderr",
          "text": [
            "2021-12-03 12:27:04,538 : INFO : NumExpr defaulting to 2 threads.\n"
          ]
        },
        {
          "output_type": "display_data",
          "data": {
            "text/html": [
              "<html>\n",
              "<head><meta charset=\"utf-8\" /></head>\n",
              "<body>\n",
              "    <div>\n",
              "            <script src=\"https://cdnjs.cloudflare.com/ajax/libs/mathjax/2.7.5/MathJax.js?config=TeX-AMS-MML_SVG\"></script><script type=\"text/javascript\">if (window.MathJax) {MathJax.Hub.Config({SVG: {font: \"STIX-Web\"}});}</script>\n",
              "                <script type=\"text/javascript\">window.PlotlyConfig = {MathJaxConfig: 'local'};</script>\n",
              "        <script src=\"https://cdn.plot.ly/plotly-latest.min.js\"></script>    \n",
              "            <div id=\"667578e5-65d9-42f3-a1b4-590216b897a9\" class=\"plotly-graph-div\" style=\"height:525px; width:100%;\"></div>\n",
              "            <script type=\"text/javascript\">\n",
              "                \n",
              "                    window.PLOTLYENV=window.PLOTLYENV || {};\n",
              "                    \n",
              "                if (document.getElementById(\"667578e5-65d9-42f3-a1b4-590216b897a9\")) {\n",
              "                    Plotly.newPlot(\n",
              "                        '667578e5-65d9-42f3-a1b4-590216b897a9',\n",
              "                        [{\"alignmentgroup\": \"True\", \"hoverlabel\": {\"namelength\": 0}, \"hovertemplate\": \"chord=%{x}<br>count=%{y}\", \"legendgroup\": \"\", \"marker\": {\"color\": \"#636efa\"}, \"name\": \"\", \"offsetgroup\": \"\", \"orientation\": \"v\", \"showlegend\": false, \"textposition\": \"auto\", \"type\": \"bar\", \"x\": [\"C\", \"G7\", \"Dm\", \"Am\", \"A7\", \"D7\", \"F\", \"C7\", \"E7\", \"Em\", \"F7\", \"Bb7\", \"Fm\", \"B7\", \"Gm\", \"Bm7b5\", \"G#7\", \"G\", \"Ebdim\", \"Cm\", \"Eb7\", \"F#m7b5\", \"G7sus4\", \"Bm\", \"C#7\", \"G#\", \"Bb\", \"Em7b5\", \"F#7\", \"F#m\", \"E\", \"Eb\", \"F#dim\", \"C#dim\", \"Ebm\", \"C#\", \"Dm7b5\", \"A\", \"Bbm\", \"D\", \"C#m\", \"Cdim\", \"G#m\", \"B\", \"C7sus4\", \"F#\"], \"xaxis\": \"x\", \"y\": [12920, 9701, 7514, 5501, 4134, 3581, 3431, 3116, 2980, 2578, 1606, 1605, 1521, 1342, 1246, 914, 904, 739, 634, 591, 559, 548, 510, 505, 497, 486, 474, 470, 454, 442, 436, 384, 374, 354, 347, 329, 312, 310, 294, 291, 237, 184, 150, 148, 147, 139], \"yaxis\": \"y\"}],\n",
              "                        {\"barmode\": \"stack\", \"legend\": {\"tracegroupgap\": 0}, \"margin\": {\"t\": 60}, \"template\": {\"data\": {\"bar\": [{\"error_x\": {\"color\": \"#2a3f5f\"}, \"error_y\": {\"color\": \"#2a3f5f\"}, \"marker\": {\"line\": {\"color\": \"#E5ECF6\", \"width\": 0.5}}, \"type\": \"bar\"}], \"barpolar\": [{\"marker\": {\"line\": {\"color\": \"#E5ECF6\", \"width\": 0.5}}, \"type\": \"barpolar\"}], \"carpet\": [{\"aaxis\": {\"endlinecolor\": \"#2a3f5f\", \"gridcolor\": \"white\", \"linecolor\": \"white\", \"minorgridcolor\": \"white\", \"startlinecolor\": \"#2a3f5f\"}, \"baxis\": {\"endlinecolor\": \"#2a3f5f\", \"gridcolor\": \"white\", \"linecolor\": \"white\", \"minorgridcolor\": \"white\", \"startlinecolor\": \"#2a3f5f\"}, \"type\": \"carpet\"}], \"choropleth\": [{\"colorbar\": {\"outlinewidth\": 0, \"ticks\": \"\"}, \"type\": \"choropleth\"}], \"contour\": [{\"colorbar\": {\"outlinewidth\": 0, \"ticks\": \"\"}, \"colorscale\": [[0.0, \"#0d0887\"], [0.1111111111111111, \"#46039f\"], [0.2222222222222222, \"#7201a8\"], [0.3333333333333333, \"#9c179e\"], [0.4444444444444444, \"#bd3786\"], [0.5555555555555556, \"#d8576b\"], [0.6666666666666666, \"#ed7953\"], [0.7777777777777778, \"#fb9f3a\"], [0.8888888888888888, \"#fdca26\"], [1.0, \"#f0f921\"]], \"type\": \"contour\"}], \"contourcarpet\": [{\"colorbar\": {\"outlinewidth\": 0, \"ticks\": \"\"}, \"type\": \"contourcarpet\"}], \"heatmap\": [{\"colorbar\": {\"outlinewidth\": 0, \"ticks\": \"\"}, \"colorscale\": [[0.0, \"#0d0887\"], [0.1111111111111111, \"#46039f\"], [0.2222222222222222, \"#7201a8\"], [0.3333333333333333, \"#9c179e\"], [0.4444444444444444, \"#bd3786\"], [0.5555555555555556, \"#d8576b\"], [0.6666666666666666, \"#ed7953\"], [0.7777777777777778, \"#fb9f3a\"], [0.8888888888888888, \"#fdca26\"], [1.0, \"#f0f921\"]], \"type\": \"heatmap\"}], \"heatmapgl\": [{\"colorbar\": {\"outlinewidth\": 0, \"ticks\": \"\"}, \"colorscale\": [[0.0, \"#0d0887\"], [0.1111111111111111, \"#46039f\"], [0.2222222222222222, \"#7201a8\"], [0.3333333333333333, \"#9c179e\"], [0.4444444444444444, \"#bd3786\"], [0.5555555555555556, \"#d8576b\"], [0.6666666666666666, \"#ed7953\"], [0.7777777777777778, \"#fb9f3a\"], [0.8888888888888888, \"#fdca26\"], [1.0, \"#f0f921\"]], \"type\": \"heatmapgl\"}], \"histogram\": [{\"marker\": {\"colorbar\": {\"outlinewidth\": 0, \"ticks\": \"\"}}, \"type\": \"histogram\"}], \"histogram2d\": [{\"colorbar\": {\"outlinewidth\": 0, \"ticks\": \"\"}, \"colorscale\": [[0.0, \"#0d0887\"], [0.1111111111111111, \"#46039f\"], [0.2222222222222222, \"#7201a8\"], [0.3333333333333333, \"#9c179e\"], [0.4444444444444444, \"#bd3786\"], [0.5555555555555556, \"#d8576b\"], [0.6666666666666666, \"#ed7953\"], [0.7777777777777778, \"#fb9f3a\"], [0.8888888888888888, \"#fdca26\"], [1.0, \"#f0f921\"]], \"type\": \"histogram2d\"}], \"histogram2dcontour\": [{\"colorbar\": {\"outlinewidth\": 0, \"ticks\": \"\"}, \"colorscale\": [[0.0, \"#0d0887\"], [0.1111111111111111, \"#46039f\"], [0.2222222222222222, \"#7201a8\"], [0.3333333333333333, \"#9c179e\"], [0.4444444444444444, \"#bd3786\"], [0.5555555555555556, \"#d8576b\"], [0.6666666666666666, \"#ed7953\"], [0.7777777777777778, \"#fb9f3a\"], [0.8888888888888888, \"#fdca26\"], [1.0, \"#f0f921\"]], \"type\": \"histogram2dcontour\"}], \"mesh3d\": [{\"colorbar\": {\"outlinewidth\": 0, \"ticks\": \"\"}, \"type\": \"mesh3d\"}], \"parcoords\": [{\"line\": {\"colorbar\": {\"outlinewidth\": 0, \"ticks\": \"\"}}, \"type\": \"parcoords\"}], \"pie\": [{\"automargin\": true, \"type\": \"pie\"}], \"scatter\": [{\"marker\": {\"colorbar\": {\"outlinewidth\": 0, \"ticks\": \"\"}}, \"type\": \"scatter\"}], \"scatter3d\": [{\"line\": {\"colorbar\": {\"outlinewidth\": 0, \"ticks\": \"\"}}, \"marker\": {\"colorbar\": {\"outlinewidth\": 0, \"ticks\": \"\"}}, \"type\": \"scatter3d\"}], \"scattercarpet\": [{\"marker\": {\"colorbar\": {\"outlinewidth\": 0, \"ticks\": \"\"}}, \"type\": \"scattercarpet\"}], \"scattergeo\": [{\"marker\": {\"colorbar\": {\"outlinewidth\": 0, \"ticks\": \"\"}}, \"type\": \"scattergeo\"}], \"scattergl\": [{\"marker\": {\"colorbar\": {\"outlinewidth\": 0, \"ticks\": \"\"}}, \"type\": \"scattergl\"}], \"scattermapbox\": [{\"marker\": {\"colorbar\": {\"outlinewidth\": 0, \"ticks\": \"\"}}, \"type\": \"scattermapbox\"}], \"scatterpolar\": [{\"marker\": {\"colorbar\": {\"outlinewidth\": 0, \"ticks\": \"\"}}, \"type\": \"scatterpolar\"}], \"scatterpolargl\": [{\"marker\": {\"colorbar\": {\"outlinewidth\": 0, \"ticks\": \"\"}}, \"type\": \"scatterpolargl\"}], \"scatterternary\": [{\"marker\": {\"colorbar\": {\"outlinewidth\": 0, \"ticks\": \"\"}}, \"type\": \"scatterternary\"}], \"surface\": [{\"colorbar\": {\"outlinewidth\": 0, \"ticks\": \"\"}, \"colorscale\": [[0.0, \"#0d0887\"], [0.1111111111111111, \"#46039f\"], [0.2222222222222222, \"#7201a8\"], [0.3333333333333333, \"#9c179e\"], [0.4444444444444444, \"#bd3786\"], [0.5555555555555556, \"#d8576b\"], [0.6666666666666666, \"#ed7953\"], [0.7777777777777778, \"#fb9f3a\"], [0.8888888888888888, \"#fdca26\"], [1.0, \"#f0f921\"]], \"type\": \"surface\"}], \"table\": [{\"cells\": {\"fill\": {\"color\": \"#EBF0F8\"}, \"line\": {\"color\": \"white\"}}, \"header\": {\"fill\": {\"color\": \"#C8D4E3\"}, \"line\": {\"color\": \"white\"}}, \"type\": \"table\"}]}, \"layout\": {\"annotationdefaults\": {\"arrowcolor\": \"#2a3f5f\", \"arrowhead\": 0, \"arrowwidth\": 1}, \"coloraxis\": {\"colorbar\": {\"outlinewidth\": 0, \"ticks\": \"\"}}, \"colorscale\": {\"diverging\": [[0, \"#8e0152\"], [0.1, \"#c51b7d\"], [0.2, \"#de77ae\"], [0.3, \"#f1b6da\"], [0.4, \"#fde0ef\"], [0.5, \"#f7f7f7\"], [0.6, \"#e6f5d0\"], [0.7, \"#b8e186\"], [0.8, \"#7fbc41\"], [0.9, \"#4d9221\"], [1, \"#276419\"]], \"sequential\": [[0.0, \"#0d0887\"], [0.1111111111111111, \"#46039f\"], [0.2222222222222222, \"#7201a8\"], [0.3333333333333333, \"#9c179e\"], [0.4444444444444444, \"#bd3786\"], [0.5555555555555556, \"#d8576b\"], [0.6666666666666666, \"#ed7953\"], [0.7777777777777778, \"#fb9f3a\"], [0.8888888888888888, \"#fdca26\"], [1.0, \"#f0f921\"]], \"sequentialminus\": [[0.0, \"#0d0887\"], [0.1111111111111111, \"#46039f\"], [0.2222222222222222, \"#7201a8\"], [0.3333333333333333, \"#9c179e\"], [0.4444444444444444, \"#bd3786\"], [0.5555555555555556, \"#d8576b\"], [0.6666666666666666, \"#ed7953\"], [0.7777777777777778, \"#fb9f3a\"], [0.8888888888888888, \"#fdca26\"], [1.0, \"#f0f921\"]]}, \"colorway\": [\"#636efa\", \"#EF553B\", \"#00cc96\", \"#ab63fa\", \"#FFA15A\", \"#19d3f3\", \"#FF6692\", \"#B6E880\", \"#FF97FF\", \"#FECB52\"], \"font\": {\"color\": \"#2a3f5f\"}, \"geo\": {\"bgcolor\": \"white\", \"lakecolor\": \"white\", \"landcolor\": \"#E5ECF6\", \"showlakes\": true, \"showland\": true, \"subunitcolor\": \"white\"}, \"hoverlabel\": {\"align\": \"left\"}, \"hovermode\": \"closest\", \"mapbox\": {\"style\": \"light\"}, \"paper_bgcolor\": \"white\", \"plot_bgcolor\": \"#E5ECF6\", \"polar\": {\"angularaxis\": {\"gridcolor\": \"white\", \"linecolor\": \"white\", \"ticks\": \"\"}, \"bgcolor\": \"#E5ECF6\", \"radialaxis\": {\"gridcolor\": \"white\", \"linecolor\": \"white\", \"ticks\": \"\"}}, \"scene\": {\"xaxis\": {\"backgroundcolor\": \"#E5ECF6\", \"gridcolor\": \"white\", \"gridwidth\": 2, \"linecolor\": \"white\", \"showbackground\": true, \"ticks\": \"\", \"zerolinecolor\": \"white\"}, \"yaxis\": {\"backgroundcolor\": \"#E5ECF6\", \"gridcolor\": \"white\", \"gridwidth\": 2, \"linecolor\": \"white\", \"showbackground\": true, \"ticks\": \"\", \"zerolinecolor\": \"white\"}, \"zaxis\": {\"backgroundcolor\": \"#E5ECF6\", \"gridcolor\": \"white\", \"gridwidth\": 2, \"linecolor\": \"white\", \"showbackground\": true, \"ticks\": \"\", \"zerolinecolor\": \"white\"}}, \"shapedefaults\": {\"line\": {\"color\": \"#2a3f5f\"}}, \"ternary\": {\"aaxis\": {\"gridcolor\": \"white\", \"linecolor\": \"white\", \"ticks\": \"\"}, \"baxis\": {\"gridcolor\": \"white\", \"linecolor\": \"white\", \"ticks\": \"\"}, \"bgcolor\": \"#E5ECF6\", \"caxis\": {\"gridcolor\": \"white\", \"linecolor\": \"white\", \"ticks\": \"\"}}, \"title\": {\"x\": 0.05}, \"xaxis\": {\"automargin\": true, \"gridcolor\": \"white\", \"linecolor\": \"white\", \"ticks\": \"\", \"title\": {\"standoff\": 15}, \"zerolinecolor\": \"white\", \"zerolinewidth\": 2}, \"yaxis\": {\"automargin\": true, \"gridcolor\": \"white\", \"linecolor\": \"white\", \"ticks\": \"\", \"title\": {\"standoff\": 15}, \"zerolinecolor\": \"white\", \"zerolinewidth\": 2}}}, \"xaxis\": {\"anchor\": \"y\", \"categoryorder\": \"total descending\", \"domain\": [0.0, 1.0], \"title\": {\"text\": \"chord\"}}, \"yaxis\": {\"anchor\": \"x\", \"domain\": [0.0, 1.0], \"title\": {\"text\": \"count\"}, \"type\": \"log\"}},\n",
              "                        {\"responsive\": true}\n",
              "                    ).then(function(){\n",
              "                            \n",
              "var gd = document.getElementById('667578e5-65d9-42f3-a1b4-590216b897a9');\n",
              "var x = new MutationObserver(function (mutations, observer) {{\n",
              "        var display = window.getComputedStyle(gd).display;\n",
              "        if (!display || display === 'none') {{\n",
              "            console.log([gd, 'removed!']);\n",
              "            Plotly.purge(gd);\n",
              "            observer.disconnect();\n",
              "        }}\n",
              "}});\n",
              "\n",
              "// Listen for the removal of the full notebook cells\n",
              "var notebookContainer = gd.closest('#notebook-container');\n",
              "if (notebookContainer) {{\n",
              "    x.observe(notebookContainer, {childList: true});\n",
              "}}\n",
              "\n",
              "// Listen for the clearing of the current output cell\n",
              "var outputEl = gd.closest('.output');\n",
              "if (outputEl) {{\n",
              "    x.observe(outputEl, {childList: true});\n",
              "}}\n",
              "\n",
              "                        })\n",
              "                };\n",
              "                \n",
              "            </script>\n",
              "        </div>\n",
              "</body>\n",
              "</html>"
            ]
          },
          "metadata": {}
        }
      ]
    },
    {
      "cell_type": "markdown",
      "metadata": {
        "id": "cG5dtDpkWwLE"
      },
      "source": [
        "Plot Distribution accoring to Zipf's Law\n",
        "\n",
        "source: https://stats.stackexchange.com/questions/331219/characterizing-fitting-word-count-data-into-zipf-power-law-lognormal"
      ]
    },
    {
      "cell_type": "code",
      "metadata": {
        "id": "tazf9QRST5NP"
      },
      "source": [
        "from collections import Counter\n",
        "\n",
        "counter_of_words = df_chords.set_index('chord').to_dict(orient='dict')\n",
        "counter_of_words = Counter(counter_of_words['count'])\n",
        "\n",
        "word_counts = sorted(counter_of_words.values(), reverse=True)\n",
        "frequency_rank = np.array(list(range(1, len(word_counts) + 1)))"
      ],
      "execution_count": 50,
      "outputs": []
    },
    {
      "cell_type": "code",
      "metadata": {
        "colab": {
          "base_uri": "https://localhost:8080/",
          "height": 223
        },
        "id": "Jc80DSe7QlkV",
        "outputId": "03edac43-38a6-4282-aae6-b70545bc7129"
      },
      "source": [
        "plt.figure(figsize=(20, 3))\n",
        "\n",
        "plt.subplot(1, 2, 1)\n",
        "\n",
        "n = 30\n",
        "df_top = df_chords_top.head(n)\n",
        "plt.bar(df_top['chord'], np.log(df_top['count']))\n",
        "plt.xlabel('')\n",
        "plt.ylabel('Absolute Counts (log)')\n",
        "plt.title(f'Top {n} Most Frequent Chords in the Corpus')\n",
        "ax = plt.gca()\n",
        "ax.set_xticklabels(labels=df_chords_top['chord'],rotation=90);\n",
        "\n",
        "plt.subplot(1, 2, 2)\n",
        "\n",
        "plt.scatter(np.log(frequency_rank), np.log(word_counts))\n",
        "plt.xlabel('Frequency Rank of Token (log)')\n",
        "plt.ylabel('Absolute Count of Token (log)')\n",
        "plt.title('Zipf Plot for Chord Frequencies')\n",
        "\n",
        "plt.savefig('plot.png')"
      ],
      "execution_count": 51,
      "outputs": [
        {
          "output_type": "display_data",
          "data": {
            "image/png": "[encoded data removed]",
            "text/plain": [
              "<Figure size 1440x216 with 2 Axes>"
            ]
          },
          "metadata": {
            "needs_background": "light"
          }
        }
      ]
    },
    {
      "cell_type": "code",
      "metadata": {
        "colab": {
          "base_uri": "https://localhost:8080/",
          "height": 205
        },
        "id": "g-hNqtE_sYBE",
        "outputId": "087c4a62-6ad5-4442-b436-f3a549add82c"
      },
      "source": [
        "plt.figure(figsize=(22, 3))\n",
        "\n",
        "n = 100\n",
        "\n",
        "df_top = df_chords_top.head(n)\n",
        "plt.bar(df_top['chord'], np.log(df_top['count']))\n",
        "plt.xlabel('')\n",
        "plt.ylabel('Absolute Counts (log)')\n",
        "plt.title(f'Top {n} Most Frequent Chords and n-gram Chords in the Corpus')\n",
        "ax = plt.gca()\n",
        "ax.set_xticklabels(labels=df_chords_top['chord'],rotation=90);"
      ],
      "execution_count": 52,
      "outputs": [
        {
          "output_type": "display_data",
          "data": {
            "image/png": "[encoded data removed]",
            "text/plain": [
              "<Figure size 1584x216 with 1 Axes>"
            ]
          },
          "metadata": {
            "needs_background": "light"
          }
        }
      ]
    },
    {
      "cell_type": "code",
      "metadata": {
        "id": "a1IvM4wh7zOv"
      },
      "source": [
        "if use_wandb:\n",
        "  wandb.log(\n",
        "      {\"corpus\": {\n",
        "              \"total_tokens\": total_tokens,\n",
        "              \"vocab_size\": vocab_size,\n",
        "              \"vocab_proportion_in_corpus\": vocab_prop,\n",
        "              \"zipf_plot\": wandb.Image('plot.png'),\n",
        "              }\n",
        "      }\n",
        "  )"
      ],
      "execution_count": 53,
      "outputs": []
    },
    {
      "cell_type": "markdown",
      "metadata": {
        "id": "LeRGFeTn89Uc"
      },
      "source": [
        "# TF-IDF"
      ]
    },
    {
      "cell_type": "code",
      "metadata": {
        "colab": {
          "base_uri": "https://localhost:8080/"
        },
        "id": "pBdUdBNr9Gmu",
        "outputId": "83fc7166-958f-4d50-b3dd-b74e6fc1a93c"
      },
      "source": [
        "dictionary = corpora.Dictionary(processed_corpus)\n",
        "bow_corpus = [dictionary.doc2bow(text) for text in processed_corpus]\n",
        "tfidf = TfidfModel(bow_corpus)"
      ],
      "execution_count": 54,
      "outputs": [
        {
          "output_type": "stream",
          "name": "stderr",
          "text": [
            "2021-12-03 12:27:07,176 : INFO : adding document #0 to Dictionary(0 unique tokens: [])\n",
            "2021-12-03 12:27:07,335 : INFO : built Dictionary(83 unique tokens: ['Am', 'B7', 'C', 'C#', 'C7']...) from 5552 documents (total 76986 corpus positions)\n",
            "2021-12-03 12:27:07,337 : INFO : Dictionary lifecycle event {'msg': \"built Dictionary(83 unique tokens: ['Am', 'B7', 'C', 'C#', 'C7']...) from 5552 documents (total 76986 corpus positions)\", 'datetime': '2021-12-03T12:27:07.337212', 'gensim': '4.1.2', 'python': '3.7.12 (default, Sep 10 2021, 00:21:48) \\n[GCC 7.5.0]', 'platform': 'Linux-5.4.104+-x86_64-with-Ubuntu-18.04-bionic', 'event': 'created'}\n",
            "2021-12-03 12:27:07,405 : INFO : collecting document frequencies\n",
            "2021-12-03 12:27:07,407 : INFO : PROGRESS: processing document #0\n",
            "2021-12-03 12:27:07,427 : INFO : TfidfModel lifecycle event {'msg': 'calculated IDF weights for 5552 documents and 83 features (41564 matrix non-zeros)', 'datetime': '2021-12-03T12:27:07.427541', 'gensim': '4.1.2', 'python': '3.7.12 (default, Sep 10 2021, 00:21:48) \\n[GCC 7.5.0]', 'platform': 'Linux-5.4.104+-x86_64-with-Ubuntu-18.04-bionic', 'event': 'initialize'}\n"
          ]
        }
      ]
    },
    {
      "cell_type": "code",
      "metadata": {
        "id": "9NK-cuax9Kqk"
      },
      "source": [
        "# dictionary.token2id"
      ],
      "execution_count": 55,
      "outputs": []
    },
    {
      "cell_type": "code",
      "metadata": {
        "id": "til5xlce_y1m"
      },
      "source": [
        "!rm -R index\n",
        "!mkdir index"
      ],
      "execution_count": 56,
      "outputs": []
    },
    {
      "cell_type": "code",
      "metadata": {
        "colab": {
          "base_uri": "https://localhost:8080/"
        },
        "id": "tn_fz2M090IM",
        "outputId": "cf802fb0-8017-43c7-c996-db81e9999c45"
      },
      "source": [
        "# Note: SparseMatrixSimilarity crashes due to lacking memory\n",
        "#from gensim.test.utils import get_tmpfile\n",
        "#index_tmpfile = get_tmpfile(\"index\")\n",
        "#index_tfidf = similarities.Similarity('/content/index/index_tfidf', bow_corpus, num_features=len(dictionary))\n",
        "\n",
        "index_tfidf = similarities.SparseMatrixSimilarity(tfidf[bow_corpus], num_features = len(dictionary))"
      ],
      "execution_count": 57,
      "outputs": [
        {
          "output_type": "stream",
          "name": "stderr",
          "text": [
            "2021-12-03 12:27:07,742 : INFO : creating sparse index\n",
            "2021-12-03 12:27:07,746 : INFO : creating sparse matrix from corpus\n",
            "2021-12-03 12:27:07,749 : INFO : PROGRESS: at document #0\n",
            "2021-12-03 12:27:08,136 : INFO : created <5552x83 sparse matrix of type '<class 'numpy.float32'>'\n",
            "\twith 41564 stored elements in Compressed Sparse Row format>\n"
          ]
        }
      ]
    },
    {
      "cell_type": "code",
      "metadata": {
        "colab": {
          "base_uri": "https://localhost:8080/"
        },
        "id": "VRSUXNPTewqv",
        "outputId": "06b1d6ef-aab1-41d7-b9cb-632f2f097cca"
      },
      "source": [
        "tfidf.save('/content/index/tfidf.model')  # save model\n",
        "index_tfidf.save('/content/index/tfidf.index') #save index"
      ],
      "execution_count": 58,
      "outputs": [
        {
          "output_type": "stream",
          "name": "stderr",
          "text": [
            "2021-12-03 12:27:08,150 : INFO : TfidfModel lifecycle event {'fname_or_handle': '/content/index/tfidf.model', 'separately': 'None', 'sep_limit': 10485760, 'ignore': frozenset(), 'datetime': '2021-12-03T12:27:08.150205', 'gensim': '4.1.2', 'python': '3.7.12 (default, Sep 10 2021, 00:21:48) \\n[GCC 7.5.0]', 'platform': 'Linux-5.4.104+-x86_64-with-Ubuntu-18.04-bionic', 'event': 'saving'}\n",
            "2021-12-03 12:27:08,156 : INFO : saved /content/index/tfidf.model\n",
            "2021-12-03 12:27:08,161 : INFO : SparseMatrixSimilarity lifecycle event {'fname_or_handle': '/content/index/tfidf.index', 'separately': 'None', 'sep_limit': 10485760, 'ignore': frozenset(), 'datetime': '2021-12-03T12:27:08.161290', 'gensim': '4.1.2', 'python': '3.7.12 (default, Sep 10 2021, 00:21:48) \\n[GCC 7.5.0]', 'platform': 'Linux-5.4.104+-x86_64-with-Ubuntu-18.04-bionic', 'event': 'saving'}\n",
            "2021-12-03 12:27:08,166 : INFO : saved /content/index/tfidf.index\n"
          ]
        }
      ]
    },
    {
      "cell_type": "markdown",
      "metadata": {
        "id": "ZLK0coIu9Tv5"
      },
      "source": [
        "## Tests"
      ]
    },
    {
      "cell_type": "code",
      "metadata": {
        "id": "Fzrj1qxwDpJT"
      },
      "source": [
        "def get_sim_scores(tunes, index, model, topn=50):\n",
        "\n",
        "    df_sim = pd.DataFrame(columns=['reference_title',\n",
        "                                   'reference_titleid',\n",
        "                                   'similar_title',\n",
        "                                   'similar_titleid',\n",
        "                                   'ref_section', \n",
        "                                   'ref_section_label',\n",
        "                                   'ref_sectionid',\n",
        "                                   'similar_section',\n",
        "                                   'similar_section_label',\n",
        "                                   'similar_sectionid',\n",
        "                                   'score', \n",
        "                                  ])\n",
        "\n",
        "    for tune in tqdm(tunes):\n",
        "      for s1 in title_to_sectionid[tune]:\n",
        "      \n",
        "          query = processed_corpus[s1]\n",
        "          query_bow = dictionary.doc2bow(query)\n",
        "\n",
        "          # perform a similarity query against the corpus\n",
        "          similarities = index[model[query_bow]]\n",
        "          sims = sorted(enumerate(similarities), key=lambda item: -item[1])\n",
        "          \n",
        "          n = 0\n",
        "          for s2, s2_score in sims:\n",
        "            \n",
        "            # store the top N best results\n",
        "            if n > topn:\n",
        "                break\n",
        "            # don't count self-similarity between sections of the same tune\n",
        "            if s2 not in title_to_sectionid[tune]:\n",
        "                # print(f\"\\t{s2_score:.3f} {sectionid_to_section[s2]}\")\n",
        "                n += 1\n",
        "                df_sim.loc[len(df_sim)] = [tune,\n",
        "                                           title_to_titleid[tune],\n",
        "                                           sectionid_to_title[s2],\n",
        "                                           sectionid_to_titleid[s2],\n",
        "                                           sectionid_to_section[s1],\n",
        "                                           sectionid_to_sectionlabel[s1],\n",
        "                                           s1,\n",
        "                                           sectionid_to_section[s2], \n",
        "                                           sectionid_to_sectionlabel[s2],\n",
        "                                           s2,\n",
        "                                           s2_score, \n",
        "                                           ]\n",
        "    return df_sim"
      ],
      "execution_count": 59,
      "outputs": []
    },
    {
      "cell_type": "code",
      "metadata": {
        "id": "OZ0YfkIO9g5V"
      },
      "source": [
        "def recommend_tune(df, tune_name):\n",
        "\n",
        "  threshold = 0.5 # arbitrary value, selected based on distribution of max scores\n",
        "\n",
        "  df_tune = df.query(f'reference_title == \"{tune_name}\"')\n",
        "  ff = df_tune.iloc[:]\n",
        "\n",
        "  # get the maximum similarity score for each section and store in new column\n",
        "  ff['max'] = ff.groupby('ref_section')['score'].transform('max')\n",
        "\n",
        "  # consider only results for scores above threshold\n",
        "  ff = ff.loc[(ff['max'] > threshold)]\n",
        "\n",
        "  # scale the score with the maxmum value of each section\n",
        "  ff['score_div_max'] = ff['score'] / ff['max']\n",
        "\n",
        "  # for each similar title, aggregate all of its sections using the median value\n",
        "  result = ff.groupby('similar_title').median().sort_values('score_div_max', ascending=False)\n",
        "    \n",
        "  # if multiple rows from the same similar tune, keep only the similar_title with the highest score_div_max\n",
        "  result = result.groupby('similar_title').max('score_div_max').sort_values('score_div_max', ascending=False)\n",
        "\n",
        "  # add the name of the reference tune\n",
        "  result['reference'] = tune_name\n",
        "  result['reference_titleid'] = title_to_titleid[tune_name]\n",
        "\n",
        "  result = result.reset_index()\n",
        "  result = result.loc[:, ['reference', 'reference_titleid', 'similar_title', 'score', 'max', 'score_div_max']]\n",
        "  result['similar_titleid'] = result['similar_title'].apply(lambda x: title_to_titleid[x])\n",
        "  result = result.reset_index()\n",
        "  return result, ff"
      ],
      "execution_count": 60,
      "outputs": []
    },
    {
      "cell_type": "markdown",
      "metadata": {
        "id": "S4RKQCihX02Q"
      },
      "source": [
        "### Single Tunes"
      ]
    },
    {
      "cell_type": "code",
      "metadata": {
        "colab": {
          "base_uri": "https://localhost:8080/"
        },
        "id": "5Wz4ZQk_EKZy",
        "outputId": "d671a2b0-e812-4d9d-fd1d-7aa8c43b9a37"
      },
      "source": [
        "%%time\n",
        "df_sim = get_sim_scores(tunes_eval_list, index_tfidf, tfidf)\n",
        "\n",
        "# save a copy of the results; all results will be concatenated at the end\n",
        "df_tfidf = df_sim[:]"
      ],
      "execution_count": 61,
      "outputs": [
        {
          "output_type": "stream",
          "name": "stderr",
          "text": [
            "100%|██████████| 11/11 [00:16<00:00,  1.52s/it]"
          ]
        },
        {
          "output_type": "stream",
          "name": "stdout",
          "text": [
            "CPU times: user 16.8 s, sys: 305 ms, total: 17.1 s\n",
            "Wall time: 16.7 s\n"
          ]
        },
        {
          "output_type": "stream",
          "name": "stderr",
          "text": [
            "\n"
          ]
        }
      ]
    },
    {
      "cell_type": "code",
      "metadata": {
        "colab": {
          "base_uri": "https://localhost:8080/",
          "height": 542
        },
        "id": "yzRuIKVh9c8g",
        "outputId": "8eff493a-6f1c-4477-9ab4-cda8a80af810"
      },
      "source": [
        "import plotly.express as px\n",
        "fig = px.histogram(df_sim, x=\"score\", nbins=50, title='Scores for TF-IDF')\n",
        "fig.show()"
      ],
      "execution_count": 62,
      "outputs": [
        {
          "output_type": "display_data",
          "data": {
            "text/html": [
              "<html>\n",
              "<head><meta charset=\"utf-8\" /></head>\n",
              "<body>\n",
              "    <div>\n",
              "            <script src=\"https://cdnjs.cloudflare.com/ajax/libs/mathjax/2.7.5/MathJax.js?config=TeX-AMS-MML_SVG\"></script><script type=\"text/javascript\">if (window.MathJax) {MathJax.Hub.Config({SVG: {font: \"STIX-Web\"}});}</script>\n",
              "                <script type=\"text/javascript\">window.PlotlyConfig = {MathJaxConfig: 'local'};</script>\n",
              "        <script src=\"https://cdn.plot.ly/plotly-latest.min.js\"></script>    \n",
              "            <div id=\"a6c52ef4-a94c-4fd7-b84e-194377b2cf1a\" class=\"plotly-graph-div\" style=\"height:525px; width:100%;\"></div>\n",
              "            <script type=\"text/javascript\">\n",
              "                \n",
              "                    window.PLOTLYENV=window.PLOTLYENV || {};\n",
              "                    \n",
              "                if (document.getElementById(\"a6c52ef4-a94c-4fd7-b84e-194377b2cf1a\")) {\n",
              "                    Plotly.newPlot(\n",
              "                        'a6c52ef4-a94c-4fd7-b84e-194377b2cf1a',\n",
              "                        [{\"alignmentgroup\": \"True\", \"bingroup\": \"x\", \"hoverlabel\": {\"namelength\": 0}, \"hovertemplate\": \"score=%{x}<br>count=%{y}\", \"legendgroup\": \"\", \"marker\": {\"color\": \"#636efa\"}, \"name\": \"\", \"nbinsx\": 50, \"offsetgroup\": \"\", \"orientation\": \"v\", \"showlegend\": false, \"type\": \"histogram\", \"x\": [0.8961240649223328, 0.8436614871025085, 0.8343777060508728, 0.8050675988197327, 0.7868176102638245, 0.7868176102638245, 0.7867670655250549, 0.7794677019119263, 0.7765663266181946, 0.7757075428962708, 0.7722703218460083, 0.7722703218460083, 0.7711283564567566, 0.7711283564567566, 0.7682506442070007, 0.7676860094070435, 0.7676860094070435, 0.7636851668357849, 0.7636851668357849, 0.7636851668357849, 0.7600521445274353, 0.757228672504425, 0.756920576095581, 0.756920576095581, 0.7509533762931824, 0.7502363920211792, 0.746010422706604, 0.7437537908554077, 0.7437537908554077, 0.743532121181488, 0.743532121181488, 0.7430183291435242, 0.7409381866455078, 0.7385645508766174, 0.7358527779579163, 0.7358527779579163, 0.7358075976371765, 0.7314761281013489, 0.7294142842292786, 0.7294142842292786, 0.7294142842292786, 0.7246805429458618, 0.7229281067848206, 0.7220710515975952, 0.7139833569526672, 0.7117196917533875, 0.7103575468063354, 0.7088733911514282, 0.7046794295310974, 0.7036457061767578, 0.7036457061767578, 0.8057899475097656, 0.7876767516136169, 0.7869240045547485, 0.784633994102478, 0.7795438170433044, 0.7727445363998413, 0.7630778551101685, 0.7607460021972656, 0.7535267472267151, 0.7535267472267151, 0.7419910430908203, 0.7419910430908203, 0.7371613383293152, 0.7371613383293152, 0.7363820672035217, 0.7352654933929443, 0.7352654933929443, 0.7316168546676636, 0.7316168546676636, 0.7282671332359314, 0.7232183814048767, 0.7216786742210388, 0.7149078845977783, 0.7136110067367554, 0.7129535675048828, 0.7111331224441528, 0.7050896286964417, 0.7040224075317383, 0.7036720514297485, 0.702973484992981, 0.7019799947738647, 0.6991915702819824, 0.6935139298439026, 0.6935139298439026, 0.6891109943389893, 0.6874053478240967, 0.686570405960083, 0.6813016533851624, 0.6810708045959473, 0.6792013645172119, 0.6683824062347412, 0.6683824062347412, 0.6651711463928223, 0.661973237991333, 0.66119384765625, 0.66119384765625, 0.6585894823074341, 0.6577112078666687, 0.6570695042610168, 0.6566379070281982, 0.6564870476722717, 0.8282618522644043, 0.7896918654441833, 0.7243359088897705, 0.7226948142051697, 0.722104012966156, 0.7163808345794678, 0.7115541696548462, 0.7052896618843079, 0.6987102031707764, 0.6926149725914001, 0.6735179424285889, 0.6570208072662354, 0.6567533016204834, 0.6551601886749268, 0.6505271196365356, 0.648981511592865, 0.6461421251296997, 0.6461421251296997, 0.6461421251296997, 0.6419507265090942, 0.6379263997077942, 0.6360321640968323, 0.6342134475708008, 0.6298969984054565, 0.6263107657432556, 0.6179868578910828, 0.6176168918609619, 0.6166157722473145, 0.6159567832946777, 0.6111712455749512, 0.610855758190155, 0.599812388420105, 0.5971875190734863, 0.5955860018730164, 0.5936667919158936, 0.5896663069725037, 0.5828573107719421, 0.5800620317459106, 0.5798866152763367, 0.578131377696991, 0.577877938747406, 0.5672193169593811, 0.5671365261077881, 0.5659785270690918, 0.5652548670768738, 0.5641570091247559, 0.5641570091247559, 0.5635696649551392, 0.5560092329978943, 0.5533235669136047, 0.5533235669136047, 0.8961240649223328, 0.8436614871025085, 0.8343777060508728, 0.8050675988197327, 0.7868176102638245, 0.7868176102638245, 0.7867670655250549, 0.7794677019119263, 0.7765663266181946, 0.7757075428962708, 0.7722703218460083, 0.7722703218460083, 0.7711283564567566, 0.7711283564567566, 0.7682506442070007, 0.7676860094070435, 0.7676860094070435, 0.7636851668357849, 0.7636851668357849, 0.7636851668357849, 0.7600521445274353, 0.757228672504425, 0.756920576095581, 0.756920576095581, 0.7509533762931824, 0.7502363920211792, 0.746010422706604, 0.7437537908554077, 0.7437537908554077, 0.743532121181488, 0.743532121181488, 0.7430183291435242, 0.7409381866455078, 0.7385645508766174, 0.7358527779579163, 0.7358527779579163, 0.7358075976371765, 0.7314761281013489, 0.7294142842292786, 0.7294142842292786, 0.7294142842292786, 0.7246805429458618, 0.7229281067848206, 0.7220710515975952, 0.7139833569526672, 0.7117196917533875, 0.7103575468063354, 0.7088733911514282, 0.7046794295310974, 0.7036457061767578, 0.7036457061767578, 0.9857749342918396, 0.9857749342918396, 0.9857749342918396, 0.9857749342918396, 0.9797970652580261, 0.9797970652580261, 0.9797970652580261, 0.9797970652580261, 0.9797970652580261, 0.9797970652580261, 0.9749480485916138, 0.9749480485916138, 0.973030686378479, 0.973030686378479, 0.973030686378479, 0.9653165340423584, 0.9653165340423584, 0.9653165340423584, 0.9642896056175232, 0.9642896056175232, 0.9383083581924438, 0.9293040037155151, 0.9293040037155151, 0.9293040037155151, 0.9207566380500793, 0.9207566380500793, 0.9206462502479553, 0.9182256460189819, 0.9168562889099121, 0.9055591821670532, 0.8994796872138977, 0.8985614776611328, 0.8897858262062073, 0.8884557485580444, 0.8864337801933289, 0.8862046003341675, 0.8851627111434937, 0.8851627111434937, 0.8851627111434937, 0.8840405941009521, 0.8814682960510254, 0.87875896692276, 0.8674972653388977, 0.8674972653388977, 0.8674972653388977, 0.8674972653388977, 0.8674972653388977, 0.8674972653388977, 0.863579273223877, 0.858738362789154, 0.8580496311187744, 0.9999999403953552, 0.9999999403953552, 0.9999999403953552, 0.9999999403953552, 0.9999999403953552, 0.9999999403953552, 0.9454382658004761, 0.8947349190711975, 0.885384738445282, 0.885384738445282, 0.885384738445282, 0.885384738445282, 0.885384738445282, 0.885384738445282, 0.8843889832496643, 0.8843889832496643, 0.8843889832496643, 0.8811498284339905, 0.8811498284339905, 0.8811498284339905, 0.8807259798049927, 0.8807259798049927, 0.8731746077537537, 0.8700093030929565, 0.8680396676063538, 0.8676066994667053, 0.8676066994667053, 0.8676066994667053, 0.8676066994667053, 0.8588640689849854, 0.8588640689849854, 0.8562678694725037, 0.8504717350006104, 0.8491928577423096, 0.8469303250312805, 0.8426278233528137, 0.8423931002616882, 0.842284619808197, 0.842284619808197, 0.8422256112098694, 0.8343288898468018, 0.8277352452278137, 0.8277352452278137, 0.8277352452278137, 0.8265270590782166, 0.8235880136489868, 0.8221673965454102, 0.8219809532165527, 0.8207194209098816, 0.8207194209098816, 0.8145440220832825, 0.9069042205810547, 0.8945684432983398, 0.8715770244598389, 0.8658678531646729, 0.8636910319328308, 0.863030195236206, 0.83295738697052, 0.8086766004562378, 0.8047804236412048, 0.8042190074920654, 0.8003761768341064, 0.7984052896499634, 0.7981954216957092, 0.7980875968933105, 0.795565128326416, 0.7947542667388916, 0.7945752143859863, 0.7938982844352722, 0.7915594577789307, 0.7871779203414917, 0.7812079191207886, 0.78022301197052, 0.7775074243545532, 0.7775074243545532, 0.7719323635101318, 0.7718907594680786, 0.7715094089508057, 0.7715094089508057, 0.7684240341186523, 0.767243504524231, 0.763062059879303, 0.7610161304473877, 0.7581196427345276, 0.7522175312042236, 0.7507926225662231, 0.749362587928772, 0.7480394840240479, 0.7456648349761963, 0.7456207275390625, 0.7456207275390625, 0.742351770401001, 0.7407194375991821, 0.7407194375991821, 0.7388778328895569, 0.7388778328895569, 0.737804651260376, 0.737784743309021, 0.7350382804870605, 0.733892560005188, 0.733869731426239, 0.7320648431777954, 0.9857749342918396, 0.9857749342918396, 0.9857749342918396, 0.9857749342918396, 0.9797970652580261, 0.9797970652580261, 0.9797970652580261, 0.9797970652580261, 0.9797970652580261, 0.9797970652580261, 0.9749480485916138, 0.9749480485916138, 0.973030686378479, 0.973030686378479, 0.973030686378479, 0.9653165340423584, 0.9653165340423584, 0.9653165340423584, 0.9642896056175232, 0.9642896056175232, 0.9383083581924438, 0.9293040037155151, 0.9293040037155151, 0.9293040037155151, 0.9207566380500793, 0.9207566380500793, 0.9206462502479553, 0.9182256460189819, 0.9168562889099121, 0.9055591821670532, 0.8994796872138977, 0.8985614776611328, 0.8897858262062073, 0.8884557485580444, 0.8864337801933289, 0.8862046003341675, 0.8851627111434937, 0.8851627111434937, 0.8851627111434937, 0.8840405941009521, 0.8814682960510254, 0.87875896692276, 0.8674972653388977, 0.8674972653388977, 0.8674972653388977, 0.8674972653388977, 0.8674972653388977, 0.8674972653388977, 0.863579273223877, 0.858738362789154, 0.8580496311187744, 0.8989188075065613, 0.883500337600708, 0.8730602264404297, 0.8673804998397827, 0.8643520474433899, 0.8586653470993042, 0.8514005541801453, 0.8514005541801453, 0.8514005541801453, 0.8514005541801453, 0.8504573106765747, 0.8462307453155518, 0.8462307453155518, 0.8415843844413757, 0.8415843844413757, 0.8414947986602783, 0.8250757455825806, 0.8250757455825806, 0.8236883878707886, 0.8214199542999268, 0.8099448680877686, 0.8094182014465332, 0.7972371578216553, 0.7929980754852295, 0.7894752621650696, 0.7868346571922302, 0.7868346571922302, 0.7720448970794678, 0.7710784077644348, 0.7668432593345642, 0.7648986577987671, 0.7648211121559143, 0.7642776370048523, 0.7621965408325195, 0.7621965408325195, 0.7621965408325195, 0.7621965408325195, 0.7621965408325195, 0.7585061192512512, 0.7583088874816895, 0.7579345703125, 0.7579345703125, 0.7572039365768433, 0.7566695809364319, 0.7456070780754089, 0.7456070780754089, 0.7455078959465027, 0.7450685501098633, 0.7429284453392029, 0.7420027256011963, 0.741369366645813, 0.9040268063545227, 0.883605420589447, 0.8831062912940979, 0.8697139024734497, 0.8569301962852478, 0.8474753499031067, 0.8473415970802307, 0.8473415970802307, 0.8473415970802307, 0.8407232761383057, 0.8407232761383057, 0.8407232761383057, 0.8327910304069519, 0.8179240226745605, 0.8177023530006409, 0.807626485824585, 0.8066129684448242, 0.7982301712036133, 0.7935472130775452, 0.7935472130775452, 0.7935472130775452, 0.7878330945968628, 0.7878330945968628, 0.7838436365127563, 0.7838436365127563, 0.7838436365127563, 0.7815282344818115, 0.781349778175354, 0.781349778175354, 0.7802745699882507, 0.7800432443618774, 0.7800432443618774, 0.7781821489334106, 0.7757962346076965, 0.7739276885986328, 0.7693648338317871, 0.7691225409507751, 0.765377938747406, 0.7617396712303162, 0.7599248886108398, 0.7586247324943542, 0.7570182085037231, 0.7570182085037231, 0.7562240362167358, 0.7562240362167358, 0.7562240362167358, 0.7562240362167358, 0.7562240362167358, 0.7562240362167358, 0.7562240362167358, 0.7562240362167358, 1.0, 1.0, 1.0, 1.0, 1.0, 1.0, 1.0, 1.0, 1.0, 1.0, 1.0, 1.0, 1.0, 1.0, 1.0, 1.0, 0.9962922930717468, 0.9891446828842163, 0.9468362927436829, 0.9468362927436829, 0.9243144989013672, 0.918913722038269, 0.918913722038269, 0.918913722038269, 0.918913722038269, 0.918913722038269, 0.918913722038269, 0.9145358800888062, 0.9137879014015198, 0.9060943126678467, 0.8849003911018372, 0.8849003911018372, 0.8849003911018372, 0.870351254940033, 0.8680898547172546, 0.8674635887145996, 0.855429470539093, 0.8496425151824951, 0.8425724506378174, 0.8388210535049438, 0.8347585201263428, 0.8333542346954346, 0.8333542346954346, 0.8319797515869141, 0.8318370580673218, 0.8310599327087402, 0.8284718990325928, 0.8268404603004456, 0.8247801661491394, 0.8247801661491394, 0.8237403631210327, 0.8989188075065613, 0.883500337600708, 0.8730602264404297, 0.8673804998397827, 0.8643520474433899, 0.8586653470993042, 0.8514005541801453, 0.8514005541801453, 0.8514005541801453, 0.8514005541801453, 0.8504573106765747, 0.8462307453155518, 0.8462307453155518, 0.8415843844413757, 0.8415843844413757, 0.8414947986602783, 0.8250757455825806, 0.8250757455825806, 0.8236883878707886, 0.8214199542999268, 0.8099448680877686, 0.8094182014465332, 0.7972371578216553, 0.7929980754852295, 0.7894752621650696, 0.7868346571922302, 0.7868346571922302, 0.7720448970794678, 0.7710784077644348, 0.7668432593345642, 0.7648986577987671, 0.7648211121559143, 0.7642776370048523, 0.7621965408325195, 0.7621965408325195, 0.7621965408325195, 0.7621965408325195, 0.7621965408325195, 0.7585061192512512, 0.7583088874816895, 0.7579345703125, 0.7579345703125, 0.7572039365768433, 0.7566695809364319, 0.7456070780754089, 0.7456070780754089, 0.7455078959465027, 0.7450685501098633, 0.7429284453392029, 0.7420027256011963, 0.741369366645813, 0.8803126811981201, 0.8775895833969116, 0.8697770833969116, 0.8697770833969116, 0.8673226833343506, 0.8648757934570312, 0.8594986200332642, 0.8594986200332642, 0.8519028425216675, 0.8506417274475098, 0.8470526933670044, 0.8336191177368164, 0.8331005573272705, 0.8328648805618286, 0.8286322355270386, 0.8221660852432251, 0.8221660852432251, 0.8142569065093994, 0.8063145875930786, 0.7945836782455444, 0.7945836782455444, 0.7945836782455444, 0.7843413949012756, 0.7843413949012756, 0.7843413949012756, 0.7843413949012756, 0.7843413949012756, 0.7799618244171143, 0.7773370742797852, 0.7743672728538513, 0.7743672728538513, 0.7736201882362366, 0.7736201882362366, 0.7728732824325562, 0.7728732824325562, 0.7728732824325562, 0.7722868323326111, 0.7659362554550171, 0.7649155855178833, 0.7474168539047241, 0.7457257509231567, 0.7457257509231567, 0.7291990518569946, 0.7290351390838623, 0.7275577783584595, 0.7260375022888184, 0.7260375022888184, 0.7260375022888184, 0.722928524017334, 0.722659707069397, 0.721650242805481, 0.8830040693283081, 0.8798667192459106, 0.8707853555679321, 0.868935227394104, 0.868935227394104, 0.8665534853935242, 0.8607287406921387, 0.8607287406921387, 0.8571176528930664, 0.8491591215133667, 0.8457309603691101, 0.8397133350372314, 0.8351699709892273, 0.833145022392273, 0.8314003944396973, 0.8243973255157471, 0.8243973255157471, 0.8193362951278687, 0.8106058835983276, 0.7949950098991394, 0.7949950098991394, 0.7949950098991394, 0.7885158061981201, 0.7885158061981201, 0.7885158061981201, 0.7885158061981201, 0.7885158061981201, 0.7802878022193909, 0.7796348333358765, 0.7770678997039795, 0.7770678997039795, 0.7764166593551636, 0.7764166593551636, 0.7764166593551636, 0.7758243083953857, 0.7742359638214111, 0.7742359638214111, 0.7668493986129761, 0.761072039604187, 0.7465735673904419, 0.7465735673904419, 0.7369621992111206, 0.7338307499885559, 0.7325713038444519, 0.731965184211731, 0.7282066345214844, 0.7271544337272644, 0.7271544337272644, 0.7271544337272644, 0.725883960723877, 0.7208883166313171, 1.0, 1.0, 1.0, 1.0, 1.0, 1.0, 1.0, 1.0, 1.0, 1.0, 1.0, 1.0, 1.0, 1.0, 1.0, 1.0, 1.0, 1.0, 1.0, 1.0, 1.0, 1.0, 1.0, 1.0, 1.0, 1.0, 1.0, 1.0, 1.0, 0.9885864853858948, 0.9880692362785339, 0.9801888465881348, 0.9721772074699402, 0.9506382346153259, 0.9453701972961426, 0.9116358757019043, 0.9116358757019043, 0.9116358757019043, 0.9116358757019043, 0.9116358757019043, 0.9116358757019043, 0.8997414112091064, 0.8803460001945496, 0.8803460001945496, 0.8798378109931946, 0.8790438771247864, 0.8715037107467651, 0.8715037107467651, 0.8715037107467651, 0.8715037107467651, 0.8678416013717651, 0.8451628684997559, 0.8451628684997559, 0.8416124582290649, 0.8378173112869263, 0.8285752534866333, 0.8203179240226746, 0.8153226375579834, 0.8153226375579834, 0.806973397731781, 0.8048449754714966, 0.7944711446762085, 0.7905799150466919, 0.7905305624008179, 0.790138840675354, 0.790138840675354, 0.7898695468902588, 0.7897566556930542, 0.7877772450447083, 0.7865513563156128, 0.7865513563156128, 0.7851136922836304, 0.7829118967056274, 0.7829118967056274, 0.7829118967056274, 0.7829118967056274, 0.7829118967056274, 0.7756761312484741, 0.7756761312484741, 0.7753283977508545, 0.7753283977508545, 0.7753283977508545, 0.7728829979896545, 0.772005558013916, 0.758741557598114, 0.7574878931045532, 0.7574878931045532, 0.755244791507721, 0.7535763382911682, 0.752171516418457, 0.752171516418457, 0.7514125108718872, 0.7514125108718872, 0.7514119148254395, 0.7514119148254395, 0.7493591904640198, 0.7493591904640198, 0.7493591904640198, 0.7493591904640198, 0.7488762140274048, 0.7488762140274048, 0.7450685501098633, 0.9723409414291382, 0.9562260508537292, 0.9368261098861694, 0.9357616901397705, 0.9307335615158081, 0.9153295755386353, 0.9118509292602539, 0.9086847901344299, 0.8871726393699646, 0.8803861141204834, 0.8779219388961792, 0.8775497078895569, 0.8775497078895569, 0.8768402934074402, 0.8706761002540588, 0.8684336543083191, 0.8683346509933472, 0.8675729632377625, 0.8662338256835938, 0.8592837452888489, 0.8559902906417847, 0.8547067642211914, 0.8541764616966248, 0.8541764616966248, 0.8535767197608948, 0.851189374923706, 0.8465374708175659, 0.8454094529151917, 0.8306494951248169, 0.8274301886558533, 0.8273434042930603, 0.8261637687683105, 0.823095977306366, 0.8176446557044983, 0.8173792958259583, 0.8158878684043884, 0.8158878684043884, 0.8142070770263672, 0.8119587302207947, 0.81166011095047, 0.8101531863212585, 0.8085537552833557, 0.8081626892089844, 0.807766318321228, 0.8073503971099854, 0.8069000244140625, 0.8055233955383301, 0.8051547408103943, 0.8027397394180298, 0.8006645441055298, 0.7995522022247314, 0.909849226474762, 0.905595064163208, 0.905595064163208, 0.9049674272537231, 0.9021598100662231, 0.8861499428749084, 0.8820524215698242, 0.8814412355422974, 0.8715929985046387, 0.8703012466430664, 0.856163501739502, 0.8552883863449097, 0.851576566696167, 0.851576566696167, 0.8364394307136536, 0.8362100124359131, 0.8320891857147217, 0.8301435708999634, 0.8297485709190369, 0.8285773992538452, 0.8282185792922974, 0.8215749263763428, 0.8201186656951904, 0.818229079246521, 0.8166091442108154, 0.8161596655845642, 0.8139290809631348, 0.8127729296684265, 0.810971736907959, 0.8041535019874573, 0.8014640808105469, 0.8014640808105469, 0.8004689812660217, 0.7967616319656372, 0.7967616319656372, 0.7951653003692627, 0.7946602702140808, 0.7913606762886047, 0.7912234663963318, 0.7903027534484863, 0.7900840640068054, 0.7890644073486328, 0.7888700366020203, 0.7888700366020203, 0.7875769138336182, 0.7875769138336182, 0.7861150503158569, 0.7857358455657959, 0.7857314348220825, 0.7834084630012512, 0.7834084630012512, 0.8872147798538208, 0.7795441746711731, 0.7322500348091125, 0.7322500348091125, 0.7322500348091125, 0.7242777347564697, 0.7220733165740967, 0.7205597758293152, 0.7166370153427124, 0.7142651677131653, 0.7114748954772949, 0.7029870748519897, 0.692184567451477, 0.6892603039741516, 0.6665050983428955, 0.6662305593490601, 0.6571841835975647, 0.654199481010437, 0.654199481010437, 0.6539410352706909, 0.6529924869537354, 0.6457099914550781, 0.64496910572052, 0.6408854722976685, 0.6385581493377686, 0.6353108286857605, 0.6353108286857605, 0.6324452757835388, 0.6273198127746582, 0.6270487904548645, 0.623505711555481, 0.6228318214416504, 0.6223876476287842, 0.6223876476287842, 0.6203706860542297, 0.6186434030532837, 0.6185874938964844, 0.6185874938964844, 0.6162691116333008, 0.6069025993347168, 0.6030153036117554, 0.6003098487854004, 0.5973519086837769, 0.596878707408905, 0.5952581167221069, 0.5952581167221069, 0.5857076048851013, 0.5857076048851013, 0.5839356184005737, 0.5839356184005737, 0.5799750089645386, 0.9415395259857178, 0.9055585265159607, 0.9042227268218994, 0.9042227268218994, 0.8989593982696533, 0.898114025592804, 0.895955502986908, 0.8808693885803223, 0.8727871775627136, 0.858489990234375, 0.8578958511352539, 0.850981593132019, 0.850981593132019, 0.849983274936676, 0.8459776043891907, 0.8459776043891907, 0.8437035083770752, 0.8384350538253784, 0.8380477428436279, 0.8352706432342529, 0.8317639231681824, 0.8317639231681824, 0.8304831981658936, 0.8294892311096191, 0.8277347683906555, 0.8261439800262451, 0.8204224705696106, 0.8185860514640808, 0.8183249235153198, 0.8182143568992615, 0.8157147169113159, 0.8155422806739807, 0.8110935688018799, 0.8103543519973755, 0.808799147605896, 0.8084989786148071, 0.8065743446350098, 0.8065743446350098, 0.803910493850708, 0.803910493850708, 0.8036341667175293, 0.8031027317047119, 0.7977750897407532, 0.797452986240387, 0.795525312423706, 0.7947739362716675, 0.7920905351638794, 0.7912065982818604, 0.7883325815200806, 0.7878506779670715, 0.7869085669517517, 0.9333329200744629, 0.9134197235107422, 0.9112274050712585, 0.9112274050712585, 0.9110313653945923, 0.9110313653945923, 0.9110313653945923, 0.8728556036949158, 0.8612308502197266, 0.8425052762031555, 0.8399090766906738, 0.8399090766906738, 0.8399090766906738, 0.8373529314994812, 0.8372984528541565, 0.8329232335090637, 0.8314142823219299, 0.8293344974517822, 0.8275682926177979, 0.8245993852615356, 0.8242965340614319, 0.8174992799758911, 0.8163756132125854, 0.8110815286636353, 0.8076949119567871, 0.806976854801178, 0.8066806793212891, 0.8040211200714111, 0.8040211200714111, 0.80120849609375, 0.800776481628418, 0.797695517539978, 0.797695517539978, 0.7976291179656982, 0.7969686985015869, 0.7965877652168274, 0.7950578927993774, 0.7909737825393677, 0.7909737825393677, 0.7891138792037964, 0.7891138792037964, 0.7875208854675293, 0.7875208854675293, 0.7875208854675293, 0.786084771156311, 0.7842589020729065, 0.784085214138031, 0.784085214138031, 0.784085214138031, 0.784085214138031, 0.7836272716522217, 0.9261267781257629, 0.8781774640083313, 0.8673686981201172, 0.8642846941947937, 0.8619061708450317, 0.856383204460144, 0.850222647190094, 0.8501591682434082, 0.849067747592926, 0.8470136523246765, 0.8463618755340576, 0.8456326127052307, 0.8456326127052307, 0.8456326127052307, 0.8441607356071472, 0.8369923830032349, 0.8321969509124756, 0.8309948444366455, 0.8309948444366455, 0.8254672288894653, 0.8188660144805908, 0.8177800178527832, 0.8177800178527832, 0.8177800178527832, 0.8162299394607544, 0.8151226043701172, 0.8151226043701172, 0.8134294748306274, 0.8019335269927979, 0.8002753853797913, 0.7998721599578857, 0.79636150598526, 0.7938072681427002, 0.7916245460510254, 0.7899454832077026, 0.7880185842514038, 0.7877002954483032, 0.7856442928314209, 0.7841951847076416, 0.7841951847076416, 0.7806169390678406, 0.7806169390678406, 0.7787210941314697, 0.7787210941314697, 0.775551438331604, 0.775076150894165, 0.7729993462562561, 0.7696368098258972, 0.7633086442947388, 0.760424017906189, 0.7577111124992371, 0.9070465564727783, 0.8944271206855774, 0.8944271206855774, 0.8873196840286255, 0.8601744174957275, 0.8545544147491455, 0.8487204313278198, 0.8487204313278198, 0.8469743728637695, 0.8324309587478638, 0.8257080912590027, 0.8223824501037598, 0.8223824501037598, 0.8187878727912903, 0.8150489330291748, 0.8113154768943787, 0.8105917572975159, 0.8105019330978394, 0.8105019330978394, 0.8085706830024719, 0.7992897033691406, 0.7981023788452148, 0.7952750325202942, 0.7944744229316711, 0.7931145429611206, 0.7930413484573364, 0.7922989726066589, 0.7921380996704102, 0.7881720662117004, 0.7878721952438354, 0.7877764701843262, 0.7872656583786011, 0.7864493131637573, 0.7860412001609802, 0.7841241955757141, 0.7836052179336548, 0.783240556716919, 0.7817384600639343, 0.7810333967208862, 0.7800462245941162, 0.778784453868866, 0.7785836458206177, 0.7785836458206177, 0.7783983945846558, 0.7770432233810425, 0.7770312428474426, 0.7761850357055664, 0.7760187983512878, 0.7741013765335083, 0.7741013765335083, 0.7741013765335083, 0.9476243257522583, 0.93682861328125, 0.917817234992981, 0.913794219493866, 0.8956201672554016, 0.8750720620155334, 0.8718600869178772, 0.8701631426811218, 0.8655985593795776, 0.861783504486084, 0.8588899374008179, 0.8526375889778137, 0.850963294506073, 0.850963294506073, 0.8499252200126648, 0.8497204780578613, 0.8497204780578613, 0.848352313041687, 0.847923755645752, 0.8475968837738037, 0.8458908796310425, 0.8388025164604187, 0.8382866382598877, 0.8358753323554993, 0.8346407413482666, 0.8346407413482666, 0.8346407413482666, 0.8346407413482666, 0.8346407413482666, 0.8346407413482666, 0.8339506387710571, 0.8269035220146179, 0.8261197805404663, 0.8261197805404663, 0.8211144804954529, 0.8211144804954529, 0.820902407169342, 0.820902407169342, 0.8189965486526489, 0.8166455030441284, 0.8161401748657227, 0.8161401748657227, 0.8100670576095581, 0.8079459071159363, 0.8031008839607239, 0.8027245402336121, 0.8020824193954468, 0.7968429923057556, 0.7966679930686951, 0.7966418266296387, 0.7937176823616028, 1.0, 0.9865432977676392, 0.9737235903739929, 0.9676790833473206, 0.9556211233139038, 0.9473633170127869, 0.9473633170127869, 0.9355794191360474, 0.9319348931312561, 0.9292372465133667, 0.9292372465133667, 0.9289151430130005, 0.9260509014129639, 0.9260509014129639, 0.922461986541748, 0.9151023626327515, 0.9135837554931641, 0.9135837554931641, 0.9135787487030029, 0.9016420841217041, 0.8996120691299438, 0.8754615783691406, 0.8674163818359375, 0.8602389693260193, 0.8549473285675049, 0.8516917824745178, 0.8516917824745178, 0.8488044142723083, 0.8488044142723083, 0.8479200005531311, 0.847486138343811, 0.8472053408622742, 0.8407455682754517, 0.8355029821395874, 0.8278419971466064, 0.827564537525177, 0.825393795967102, 0.8243809938430786, 0.8222754001617432, 0.8212560415267944, 0.8162583112716675, 0.8136286735534668, 0.8116958141326904, 0.8116958141326904, 0.8116958141326904, 0.8026512861251831, 0.8017463088035583, 0.8016229271888733, 0.7999664545059204, 0.7993817329406738, 0.7989001870155334, 0.947536051273346, 0.9420679211616516, 0.9184088110923767, 0.9175851345062256, 0.9020340442657471, 0.8880513310432434, 0.8841958045959473, 0.870817244052887, 0.8694107532501221, 0.8672746419906616, 0.8627497553825378, 0.8614233732223511, 0.8611254692077637, 0.8600913286209106, 0.8505822420120239, 0.8487067818641663, 0.8487067818641663, 0.8480115532875061, 0.8455365300178528, 0.8455365300178528, 0.8447546362876892, 0.8413810729980469, 0.8406950831413269, 0.8379014730453491, 0.8379014730453491, 0.8379014730453491, 0.8379014730453491, 0.8379014730453491, 0.8379014730453491, 0.8350450992584229, 0.8347556591033936, 0.8326590061187744, 0.8326590061187744, 0.8294268846511841, 0.8271937370300293, 0.8241329193115234, 0.8241329193115234, 0.8222836256027222, 0.8217211961746216, 0.8217211961746216, 0.8161240816116333, 0.8095264434814453, 0.8082771897315979, 0.8076635599136353, 0.8076635599136353, 0.8017887473106384, 0.8016181588172913, 0.7997803092002869, 0.7989266514778137, 0.7985434532165527, 0.7942197322845459, 1.0, 1.0, 1.0, 1.0, 1.0, 1.0, 1.0, 1.0, 1.0, 1.0, 1.0, 1.0, 1.0, 1.0, 1.0, 1.0, 1.0, 0.9942077994346619, 0.9899880290031433, 0.9899880290031433, 0.9803507328033447, 0.9803507328033447, 0.9803507328033447, 0.9798341393470764, 0.9729242324829102, 0.9729242324829102, 0.968242883682251, 0.968242883682251, 0.9511203765869141, 0.9511203765869141, 0.9511203765869141, 0.9446240067481995, 0.9446240067481995, 0.9446240067481995, 0.9431927800178528, 0.940117597579956, 0.940117597579956, 0.940117597579956, 0.9300102591514587, 0.9273441433906555, 0.9205858707427979, 0.9205858707427979, 0.910802960395813, 0.909247636795044, 0.8920277953147888, 0.8885992169380188, 0.8809823393821716, 0.8809100389480591, 0.8713554739952087, 0.8646783828735352, 0.8646783828735352, 1.0, 1.0, 1.0, 1.0, 1.0, 1.0, 1.0, 1.0, 1.0, 1.0, 1.0, 1.0, 1.0, 1.0, 1.0, 1.0, 1.0, 0.9942077994346619, 0.9899880290031433, 0.9899880290031433, 0.9803507328033447, 0.9803507328033447, 0.9803507328033447, 0.9798341393470764, 0.9729242324829102, 0.9729242324829102, 0.968242883682251, 0.968242883682251, 0.9511203765869141, 0.9511203765869141, 0.9511203765869141, 0.9446240067481995, 0.9446240067481995, 0.9446240067481995, 0.9431927800178528, 0.940117597579956, 0.940117597579956, 0.940117597579956, 0.9300102591514587, 0.9273441433906555, 0.9205858707427979, 0.9205858707427979, 0.910802960395813, 0.909247636795044, 0.8920277953147888, 0.8885992169380188, 0.8809823393821716, 0.8809100389480591, 0.8713554739952087, 0.8646783828735352, 0.8646783828735352, 0.8802626132965088, 0.8802626132965088, 0.8727906942367554, 0.8727906942367554, 0.8516188859939575, 0.8114062547683716, 0.7984726428985596, 0.7984726428985596, 0.7956998944282532, 0.7945789694786072, 0.7926422357559204, 0.7925450205802917, 0.7925450205802917, 0.7925450205802917, 0.7925450205802917, 0.7925450205802917, 0.7924113869667053, 0.7917100787162781, 0.7876308560371399, 0.7822600603103638, 0.7738804817199707, 0.7736997008323669, 0.7724461555480957, 0.7680101990699768, 0.7675685882568359, 0.7670626640319824, 0.7631415128707886, 0.7586742043495178, 0.7564219236373901, 0.7495554685592651, 0.7492502927780151, 0.7475353479385376, 0.7448005080223083, 0.7443181276321411, 0.7424757480621338, 0.7392449975013733, 0.7380288243293762, 0.7376306056976318, 0.7370278835296631, 0.7370278835296631, 0.7345520257949829, 0.7340991497039795, 0.7340991497039795, 0.729071855545044, 0.7274576425552368, 0.7272711396217346, 0.7272711396217346, 0.7154325246810913, 0.713621199131012, 0.7119705677032471, 0.7110956907272339, 1.0, 1.0, 1.0, 1.0, 1.0, 1.0, 1.0, 1.0, 1.0, 1.0, 1.0, 1.0, 1.0, 1.0, 1.0, 1.0, 1.0, 0.9942077994346619, 0.9899880290031433, 0.9899880290031433, 0.9803507328033447, 0.9803507328033447, 0.9803507328033447, 0.9798341393470764, 0.9729242324829102, 0.9729242324829102, 0.968242883682251, 0.968242883682251, 0.9511203765869141, 0.9511203765869141, 0.9511203765869141, 0.9446240067481995, 0.9446240067481995, 0.9446240067481995, 0.9431927800178528, 0.940117597579956, 0.940117597579956, 0.940117597579956, 0.9300102591514587, 0.9273441433906555, 0.9205858707427979, 0.9205858707427979, 0.910802960395813, 0.909247636795044, 0.8920277953147888, 0.8885992169380188, 0.8809823393821716, 0.8809100389480591, 0.8713554739952087, 0.8646783828735352, 0.8646783828735352, 0.9749480485916138, 0.9749480485916138, 0.9726864099502563, 0.9726864099502563, 0.9726864099502563, 0.9726864099502563, 0.9531830549240112, 0.9531830549240112, 0.9531830549240112, 0.9156818389892578, 0.9156818389892578, 0.9156818389892578, 0.9156818389892578, 0.9156818389892578, 0.9156818389892578, 0.9149529337882996, 0.9146520495414734, 0.9146520495414734, 0.9146520495414734, 0.9113020300865173, 0.9113020300865173, 0.9113020300865173, 0.8882536888122559, 0.8882536888122559, 0.8855686783790588, 0.8759116530418396, 0.8757026791572571, 0.8711069226264954, 0.8711069226264954, 0.8654398918151855, 0.8645293712615967, 0.8597182631492615, 0.8548101782798767, 0.8527305722236633, 0.8507663607597351, 0.8501085638999939, 0.845584511756897, 0.8424171209335327, 0.8418253660202026, 0.8413644433021545, 0.8342022895812988, 0.834132194519043, 0.8312684297561646, 0.8270296454429626, 0.8263353705406189, 0.8228467702865601, 0.8207194209098816, 0.8207194209098816, 0.8207194209098816, 0.8207194209098816, 0.8207194209098816, 0.9794580936431885, 0.8992774486541748, 0.8574490547180176, 0.8521232604980469, 0.8446105122566223, 0.8380934596061707, 0.8225080966949463, 0.8194241523742676, 0.8087855577468872, 0.8085443377494812, 0.8039780855178833, 0.797398567199707, 0.7916568517684937, 0.7916568517684937, 0.7916568517684937, 0.7916568517684937, 0.7916568517684937, 0.7916568517684937, 0.7916568517684937, 0.7879602909088135, 0.787158191204071, 0.7868039011955261, 0.7868039011955261, 0.7846739292144775, 0.7846739292144775, 0.7824547290802002, 0.778903603553772, 0.7786351442337036, 0.7761431932449341, 0.7736266851425171, 0.7736266851425171, 0.7713149189949036, 0.7713149189949036, 0.7710998058319092, 0.7710998058319092, 0.7681902050971985, 0.766919732093811, 0.7592871189117432, 0.7513934373855591, 0.7491219639778137, 0.7476264238357544, 0.7463628053665161, 0.7463628053665161, 0.7459133863449097, 0.7451661825180054, 0.7431625127792358, 0.7424565553665161, 0.7421286106109619, 0.7421286106109619, 0.7395967841148376, 0.7343339920043945, 0.946940541267395, 0.946940541267395, 0.9269543290138245, 0.925361156463623, 0.9214719533920288, 0.9214719533920288, 0.9214719533920288, 0.9142991900444031, 0.9142991900444031, 0.9089241623878479, 0.9089241623878479, 0.906207263469696, 0.906207263469696, 0.906207263469696, 0.906207263469696, 0.889976441860199, 0.8844438791275024, 0.8669926524162292, 0.8645915985107422, 0.8516404628753662, 0.8496251702308655, 0.8496251702308655, 0.8460165858268738, 0.8383294343948364, 0.8383294343948364, 0.8383294343948364, 0.833559513092041, 0.8326981067657471, 0.8326981067657471, 0.8296495676040649, 0.8296495676040649, 0.8211331963539124, 0.8175183534622192, 0.8129754662513733, 0.8123588562011719, 0.8049542903900146, 0.8022474646568298, 0.800580620765686, 0.8005715608596802, 0.7939327955245972, 0.7918083667755127, 0.7897310853004456, 0.7892178297042847, 0.7861993312835693, 0.7837270498275757, 0.7820669412612915, 0.7784073352813721, 0.7778273224830627, 0.7735226154327393, 0.770729660987854, 0.7706237435340881, 0.9749480485916138, 0.9749480485916138, 0.9726864099502563, 0.9726864099502563, 0.9726864099502563, 0.9726864099502563, 0.9531830549240112, 0.9531830549240112, 0.9531830549240112, 0.9156818389892578, 0.9156818389892578, 0.9156818389892578, 0.9156818389892578, 0.9156818389892578, 0.9156818389892578, 0.9149529337882996, 0.9146520495414734, 0.9146520495414734, 0.9146520495414734, 0.9113020300865173, 0.9113020300865173, 0.9113020300865173, 0.8882536888122559, 0.8882536888122559, 0.8855686783790588, 0.8759116530418396, 0.8757026791572571, 0.8711069226264954, 0.8711069226264954, 0.8654398918151855, 0.8645293712615967, 0.8597182631492615, 0.8548101782798767, 0.8527305722236633, 0.8507663607597351, 0.8501085638999939, 0.845584511756897, 0.8424171209335327, 0.8418253660202026, 0.8413644433021545, 0.8342022895812988, 0.834132194519043, 0.8312684297561646, 0.8270296454429626, 0.8263353705406189, 0.8228467702865601, 0.8207194209098816, 0.8207194209098816, 0.8207194209098816, 0.8207194209098816, 0.8207194209098816, 0.8978669047355652, 0.892324686050415, 0.8817089200019836, 0.8708769679069519, 0.8628624677658081, 0.8570334911346436, 0.8525582551956177, 0.8389765024185181, 0.8389765024185181, 0.83211749792099, 0.83211749792099, 0.8297027945518494, 0.8257623910903931, 0.8234587907791138, 0.8215136528015137, 0.8183751106262207, 0.8148802518844604, 0.812539279460907, 0.8091630935668945, 0.8091261386871338, 0.8087974190711975, 0.8011881113052368, 0.8002870082855225, 0.8001142740249634, 0.8001142740249634, 0.7993817329406738, 0.7993817329406738, 0.7993486523628235, 0.7984676361083984, 0.7939865589141846, 0.7896378040313721, 0.7894376516342163, 0.7894376516342163, 0.7894376516342163, 0.7853448987007141, 0.7853448987007141, 0.7801715731620789, 0.7796766757965088, 0.7784498929977417, 0.7781722545623779, 0.7776046395301819, 0.7775884866714478, 0.7772346138954163, 0.7720313668251038, 0.7703198194503784, 0.7674030661582947, 0.7662578821182251, 0.7639129757881165, 0.7637449502944946, 0.7636063098907471, 0.7634844779968262, 0.8462755680084229, 0.8226839900016785, 0.8189495205879211, 0.8053907155990601, 0.797828197479248, 0.7955660820007324, 0.7846060395240784, 0.778897762298584, 0.7770280241966248, 0.7749625444412231, 0.7737516164779663, 0.7721220850944519, 0.7696196436882019, 0.7686939239501953, 0.766918957233429, 0.765414297580719, 0.7646268606185913, 0.7589441537857056, 0.7559078335762024, 0.7511712312698364, 0.7500869035720825, 0.7373087406158447, 0.7355676293373108, 0.733425498008728, 0.7313557863235474, 0.7295167446136475, 0.7263847589492798, 0.7262256145477295, 0.7250537276268005, 0.7249059677124023, 0.7246801853179932, 0.7237232327461243, 0.7232872247695923, 0.7232872247695923, 0.7228776812553406, 0.7220276594161987, 0.7187192440032959, 0.7185634970664978, 0.7181985974311829, 0.7164468765258789, 0.7152454853057861, 0.7128865718841553, 0.7125813961029053, 0.7124632596969604, 0.7123928666114807, 0.7120463252067566, 0.7106879353523254, 0.7068136930465698, 0.7047281861305237, 0.7028314471244812, 0.7028314471244812, 0.7981898784637451, 0.7608864307403564, 0.7432980537414551, 0.7340022325515747, 0.7336459159851074, 0.7213106155395508, 0.7057598829269409, 0.6942030191421509, 0.6680774688720703, 0.6636782288551331, 0.6399215459823608, 0.6287876963615417, 0.6225347518920898, 0.6182850003242493, 0.6154967546463013, 0.603874921798706, 0.6026125550270081, 0.6003164052963257, 0.6003164052963257, 0.5915460586547852, 0.590249240398407, 0.5894635915756226, 0.5780049562454224, 0.5773894190788269, 0.5736625790596008, 0.5705698132514954, 0.5633550882339478, 0.5628963708877563, 0.5602072477340698, 0.5602072477340698, 0.5568316578865051, 0.5563210248947144, 0.5512980818748474, 0.5486262440681458, 0.5486262440681458, 0.5473035573959351, 0.5422106385231018, 0.5415122509002686, 0.5411985516548157, 0.5376394391059875, 0.536912202835083, 0.5364570021629333, 0.5364290475845337, 0.5357235670089722, 0.5331045985221863, 0.5331045985221863, 0.5327797532081604, 0.5292837023735046, 0.5251113772392273, 0.5233386158943176, 0.522502064704895, 0.9033981561660767, 0.8911036252975464, 0.8870232105255127, 0.8678832054138184, 0.8676872849464417, 0.8645862936973572, 0.8561472296714783, 0.8337944149971008, 0.8337944149971008, 0.8230752348899841, 0.8215833902359009, 0.8130025267601013, 0.8130025267601013, 0.8129016160964966, 0.8115592002868652, 0.8096673488616943, 0.809637188911438, 0.8072853088378906, 0.8030372858047485, 0.799913763999939, 0.7993593215942383, 0.7992043495178223, 0.796140193939209, 0.796140193939209, 0.7945924997329712, 0.7921048998832703, 0.7912529706954956, 0.7864035964012146, 0.7844975590705872, 0.7844975590705872, 0.7844975590705872, 0.7815932035446167, 0.7815932035446167, 0.7811134457588196, 0.7798424959182739, 0.7798424959182739, 0.7790353894233704, 0.7786175608634949, 0.7783440351486206, 0.7776285409927368, 0.777267575263977, 0.7766358256340027, 0.7744932174682617, 0.7743047475814819, 0.7730752229690552, 0.7708081007003784, 0.7708081007003784, 0.7705166935920715, 0.765047550201416, 0.7612102627754211, 0.7600277066230774, 0.6967798471450806, 0.6494240760803223, 0.6053330898284912, 0.562402606010437, 0.5620375275611877, 0.5555025339126587, 0.5554360151290894, 0.5472708940505981, 0.5467487573623657, 0.541534423828125, 0.5377979874610901, 0.5258819460868835, 0.5234503149986267, 0.5147982835769653, 0.5073747634887695, 0.5068129301071167, 0.5067081451416016, 0.5067081451416016, 0.5046771764755249, 0.5015243291854858, 0.49814847111701965, 0.48969584703445435, 0.4843599498271942, 0.48125502467155457, 0.48087239265441895, 0.47968629002571106, 0.47968629002571106, 0.4769933223724365, 0.4758736491203308, 0.47438210248947144, 0.4722021818161011, 0.4722021818161011, 0.4719094932079315, 0.4718647301197052, 0.47094592452049255, 0.4703028202056885, 0.46887534856796265, 0.46881139278411865, 0.4683128595352173, 0.4679793119430542, 0.4677053391933441, 0.46748411655426025, 0.4669557213783264, 0.4663402736186981, 0.4654017984867096, 0.4649268686771393, 0.4634687602519989, 0.46203261613845825, 0.46203261613845825, 0.461419016122818, 0.4613313376903534, 0.7812802791595459, 0.7212371826171875, 0.6813085079193115, 0.6277984380722046, 0.6248745918273926, 0.6130544543266296, 0.6116602420806885, 0.6052727103233337, 0.6022658944129944, 0.5870664119720459, 0.580183207988739, 0.5700432062149048, 0.568157970905304, 0.568157970905304, 0.5658807754516602, 0.562345564365387, 0.5467429161071777, 0.5440253615379333, 0.5391891002655029, 0.5365955233573914, 0.5365955233573914, 0.5274276733398438, 0.5251064300537109, 0.5217699408531189, 0.5196748375892639, 0.519549548625946, 0.5192067623138428, 0.5154147148132324, 0.5121955275535583, 0.5112012028694153, 0.5104123950004578, 0.5062441229820251, 0.5062441229820251, 0.5062441229820251, 0.5053055882453918, 0.5045204758644104, 0.5042257308959961, 0.5039955377578735, 0.5015625953674316, 0.49949589371681213, 0.49841904640197754, 0.49841904640197754, 0.4933895766735077, 0.4905659854412079, 0.4904337227344513, 0.4893013536930084, 0.4863784909248352, 0.48584967851638794, 0.4843979477882385, 0.48135948181152344, 0.4794016182422638, 1.0, 0.9886369109153748, 0.9886369109153748, 0.9848054647445679, 0.9566510915756226, 0.9473136067390442, 0.9443631172180176, 0.9443631172180176, 0.9259539842605591, 0.9185479283332825, 0.9135837554931641, 0.9135837554931641, 0.896206796169281, 0.8919497728347778, 0.8895779848098755, 0.8866537809371948, 0.8866537809371948, 0.8832495808601379, 0.8794112205505371, 0.8664413094520569, 0.8651516437530518, 0.8575683832168579, 0.8505316972732544, 0.8311129808425903, 0.8247801661491394, 0.8247801661491394, 0.8247801661491394, 0.8247801661491394, 0.8247801661491394, 0.8247801661491394, 0.8247801661491394, 0.8247801661491394, 0.8247801661491394, 0.8247801661491394, 0.8247801661491394, 0.8247801661491394, 0.8247801661491394, 0.8247801661491394, 0.8247801661491394, 0.8247801661491394, 0.8247801661491394, 0.8218710422515869, 0.8217220902442932, 0.8186749219894409, 0.8175530433654785, 0.8142192363739014, 0.8137931227684021, 0.8056389689445496, 0.7896254062652588, 0.7887556552886963, 0.7887556552886963, 0.6967798471450806, 0.6494240760803223, 0.6053330898284912, 0.562402606010437, 0.5620375275611877, 0.5555025339126587, 0.5554360151290894, 0.5472708940505981, 0.5467487573623657, 0.541534423828125, 0.5377979874610901, 0.5258819460868835, 0.5234503149986267, 0.5147982835769653, 0.5073747634887695, 0.5068129301071167, 0.5067081451416016, 0.5067081451416016, 0.5046771764755249, 0.5015243291854858, 0.49814847111701965, 0.48969584703445435, 0.4843599498271942, 0.48125502467155457, 0.48087239265441895, 0.47968629002571106, 0.47968629002571106, 0.4769933223724365, 0.4758736491203308, 0.47438210248947144, 0.4722021818161011, 0.4722021818161011, 0.4719094932079315, 0.4718647301197052, 0.47094592452049255, 0.4703028202056885, 0.46887534856796265, 0.46881139278411865, 0.4683128595352173, 0.4679793119430542, 0.4677053391933441, 0.46748411655426025, 0.4669557213783264, 0.4663402736186981, 0.4654017984867096, 0.4649268686771393, 0.4634687602519989, 0.46203261613845825, 0.46203261613845825, 0.461419016122818, 0.4613313376903534], \"xaxis\": \"x\", \"yaxis\": \"y\"}],\n",
              "                        {\"barmode\": \"relative\", \"legend\": {\"tracegroupgap\": 0}, \"template\": {\"data\": {\"bar\": [{\"error_x\": {\"color\": \"#2a3f5f\"}, \"error_y\": {\"color\": \"#2a3f5f\"}, \"marker\": {\"line\": {\"color\": \"#E5ECF6\", \"width\": 0.5}}, \"type\": \"bar\"}], \"barpolar\": [{\"marker\": {\"line\": {\"color\": \"#E5ECF6\", \"width\": 0.5}}, \"type\": \"barpolar\"}], \"carpet\": [{\"aaxis\": {\"endlinecolor\": \"#2a3f5f\", \"gridcolor\": \"white\", \"linecolor\": \"white\", \"minorgridcolor\": \"white\", \"startlinecolor\": \"#2a3f5f\"}, \"baxis\": {\"endlinecolor\": \"#2a3f5f\", \"gridcolor\": \"white\", \"linecolor\": \"white\", \"minorgridcolor\": \"white\", \"startlinecolor\": \"#2a3f5f\"}, \"type\": \"carpet\"}], \"choropleth\": [{\"colorbar\": {\"outlinewidth\": 0, \"ticks\": \"\"}, \"type\": \"choropleth\"}], \"contour\": [{\"colorbar\": {\"outlinewidth\": 0, \"ticks\": \"\"}, \"colorscale\": [[0.0, \"#0d0887\"], [0.1111111111111111, \"#46039f\"], [0.2222222222222222, \"#7201a8\"], [0.3333333333333333, \"#9c179e\"], [0.4444444444444444, \"#bd3786\"], [0.5555555555555556, \"#d8576b\"], [0.6666666666666666, \"#ed7953\"], [0.7777777777777778, \"#fb9f3a\"], [0.8888888888888888, \"#fdca26\"], [1.0, \"#f0f921\"]], \"type\": \"contour\"}], \"contourcarpet\": [{\"colorbar\": {\"outlinewidth\": 0, \"ticks\": \"\"}, \"type\": \"contourcarpet\"}], \"heatmap\": [{\"colorbar\": {\"outlinewidth\": 0, \"ticks\": \"\"}, \"colorscale\": [[0.0, \"#0d0887\"], [0.1111111111111111, \"#46039f\"], [0.2222222222222222, \"#7201a8\"], [0.3333333333333333, \"#9c179e\"], [0.4444444444444444, \"#bd3786\"], [0.5555555555555556, \"#d8576b\"], [0.6666666666666666, \"#ed7953\"], [0.7777777777777778, \"#fb9f3a\"], [0.8888888888888888, \"#fdca26\"], [1.0, \"#f0f921\"]], \"type\": \"heatmap\"}], \"heatmapgl\": [{\"colorbar\": {\"outlinewidth\": 0, \"ticks\": \"\"}, \"colorscale\": [[0.0, \"#0d0887\"], [0.1111111111111111, \"#46039f\"], [0.2222222222222222, \"#7201a8\"], [0.3333333333333333, \"#9c179e\"], [0.4444444444444444, \"#bd3786\"], [0.5555555555555556, \"#d8576b\"], [0.6666666666666666, \"#ed7953\"], [0.7777777777777778, \"#fb9f3a\"], [0.8888888888888888, \"#fdca26\"], [1.0, \"#f0f921\"]], \"type\": \"heatmapgl\"}], \"histogram\": [{\"marker\": {\"colorbar\": {\"outlinewidth\": 0, \"ticks\": \"\"}}, \"type\": \"histogram\"}], \"histogram2d\": [{\"colorbar\": {\"outlinewidth\": 0, \"ticks\": \"\"}, \"colorscale\": [[0.0, \"#0d0887\"], [0.1111111111111111, \"#46039f\"], [0.2222222222222222, \"#7201a8\"], [0.3333333333333333, \"#9c179e\"], [0.4444444444444444, \"#bd3786\"], [0.5555555555555556, \"#d8576b\"], [0.6666666666666666, \"#ed7953\"], [0.7777777777777778, \"#fb9f3a\"], [0.8888888888888888, \"#fdca26\"], [1.0, \"#f0f921\"]], \"type\": \"histogram2d\"}], \"histogram2dcontour\": [{\"colorbar\": {\"outlinewidth\": 0, \"ticks\": \"\"}, \"colorscale\": [[0.0, \"#0d0887\"], [0.1111111111111111, \"#46039f\"], [0.2222222222222222, \"#7201a8\"], [0.3333333333333333, \"#9c179e\"], [0.4444444444444444, \"#bd3786\"], [0.5555555555555556, \"#d8576b\"], [0.6666666666666666, \"#ed7953\"], [0.7777777777777778, \"#fb9f3a\"], [0.8888888888888888, \"#fdca26\"], [1.0, \"#f0f921\"]], \"type\": \"histogram2dcontour\"}], \"mesh3d\": [{\"colorbar\": {\"outlinewidth\": 0, \"ticks\": \"\"}, \"type\": \"mesh3d\"}], \"parcoords\": [{\"line\": {\"colorbar\": {\"outlinewidth\": 0, \"ticks\": \"\"}}, \"type\": \"parcoords\"}], \"pie\": [{\"automargin\": true, \"type\": \"pie\"}], \"scatter\": [{\"marker\": {\"colorbar\": {\"outlinewidth\": 0, \"ticks\": \"\"}}, \"type\": \"scatter\"}], \"scatter3d\": [{\"line\": {\"colorbar\": {\"outlinewidth\": 0, \"ticks\": \"\"}}, \"marker\": {\"colorbar\": {\"outlinewidth\": 0, \"ticks\": \"\"}}, \"type\": \"scatter3d\"}], \"scattercarpet\": [{\"marker\": {\"colorbar\": {\"outlinewidth\": 0, \"ticks\": \"\"}}, \"type\": \"scattercarpet\"}], \"scattergeo\": [{\"marker\": {\"colorbar\": {\"outlinewidth\": 0, \"ticks\": \"\"}}, \"type\": \"scattergeo\"}], \"scattergl\": [{\"marker\": {\"colorbar\": {\"outlinewidth\": 0, \"ticks\": \"\"}}, \"type\": \"scattergl\"}], \"scattermapbox\": [{\"marker\": {\"colorbar\": {\"outlinewidth\": 0, \"ticks\": \"\"}}, \"type\": \"scattermapbox\"}], \"scatterpolar\": [{\"marker\": {\"colorbar\": {\"outlinewidth\": 0, \"ticks\": \"\"}}, \"type\": \"scatterpolar\"}], \"scatterpolargl\": [{\"marker\": {\"colorbar\": {\"outlinewidth\": 0, \"ticks\": \"\"}}, \"type\": \"scatterpolargl\"}], \"scatterternary\": [{\"marker\": {\"colorbar\": {\"outlinewidth\": 0, \"ticks\": \"\"}}, \"type\": \"scatterternary\"}], \"surface\": [{\"colorbar\": {\"outlinewidth\": 0, \"ticks\": \"\"}, \"colorscale\": [[0.0, \"#0d0887\"], [0.1111111111111111, \"#46039f\"], [0.2222222222222222, \"#7201a8\"], [0.3333333333333333, \"#9c179e\"], [0.4444444444444444, \"#bd3786\"], [0.5555555555555556, \"#d8576b\"], [0.6666666666666666, \"#ed7953\"], [0.7777777777777778, \"#fb9f3a\"], [0.8888888888888888, \"#fdca26\"], [1.0, \"#f0f921\"]], \"type\": \"surface\"}], \"table\": [{\"cells\": {\"fill\": {\"color\": \"#EBF0F8\"}, \"line\": {\"color\": \"white\"}}, \"header\": {\"fill\": {\"color\": \"#C8D4E3\"}, \"line\": {\"color\": \"white\"}}, \"type\": \"table\"}]}, \"layout\": {\"annotationdefaults\": {\"arrowcolor\": \"#2a3f5f\", \"arrowhead\": 0, \"arrowwidth\": 1}, \"coloraxis\": {\"colorbar\": {\"outlinewidth\": 0, \"ticks\": \"\"}}, \"colorscale\": {\"diverging\": [[0, \"#8e0152\"], [0.1, \"#c51b7d\"], [0.2, \"#de77ae\"], [0.3, \"#f1b6da\"], [0.4, \"#fde0ef\"], [0.5, \"#f7f7f7\"], [0.6, \"#e6f5d0\"], [0.7, \"#b8e186\"], [0.8, \"#7fbc41\"], [0.9, \"#4d9221\"], [1, \"#276419\"]], \"sequential\": [[0.0, \"#0d0887\"], [0.1111111111111111, \"#46039f\"], [0.2222222222222222, \"#7201a8\"], [0.3333333333333333, \"#9c179e\"], [0.4444444444444444, \"#bd3786\"], [0.5555555555555556, \"#d8576b\"], [0.6666666666666666, \"#ed7953\"], [0.7777777777777778, \"#fb9f3a\"], [0.8888888888888888, \"#fdca26\"], [1.0, \"#f0f921\"]], \"sequentialminus\": [[0.0, \"#0d0887\"], [0.1111111111111111, \"#46039f\"], [0.2222222222222222, \"#7201a8\"], [0.3333333333333333, \"#9c179e\"], [0.4444444444444444, \"#bd3786\"], [0.5555555555555556, \"#d8576b\"], [0.6666666666666666, \"#ed7953\"], [0.7777777777777778, \"#fb9f3a\"], [0.8888888888888888, \"#fdca26\"], [1.0, \"#f0f921\"]]}, \"colorway\": [\"#636efa\", \"#EF553B\", \"#00cc96\", \"#ab63fa\", \"#FFA15A\", \"#19d3f3\", \"#FF6692\", \"#B6E880\", \"#FF97FF\", \"#FECB52\"], \"font\": {\"color\": \"#2a3f5f\"}, \"geo\": {\"bgcolor\": \"white\", \"lakecolor\": \"white\", \"landcolor\": \"#E5ECF6\", \"showlakes\": true, \"showland\": true, \"subunitcolor\": \"white\"}, \"hoverlabel\": {\"align\": \"left\"}, \"hovermode\": \"closest\", \"mapbox\": {\"style\": \"light\"}, \"paper_bgcolor\": \"white\", \"plot_bgcolor\": \"#E5ECF6\", \"polar\": {\"angularaxis\": {\"gridcolor\": \"white\", \"linecolor\": \"white\", \"ticks\": \"\"}, \"bgcolor\": \"#E5ECF6\", \"radialaxis\": {\"gridcolor\": \"white\", \"linecolor\": \"white\", \"ticks\": \"\"}}, \"scene\": {\"xaxis\": {\"backgroundcolor\": \"#E5ECF6\", \"gridcolor\": \"white\", \"gridwidth\": 2, \"linecolor\": \"white\", \"showbackground\": true, \"ticks\": \"\", \"zerolinecolor\": \"white\"}, \"yaxis\": {\"backgroundcolor\": \"#E5ECF6\", \"gridcolor\": \"white\", \"gridwidth\": 2, \"linecolor\": \"white\", \"showbackground\": true, \"ticks\": \"\", \"zerolinecolor\": \"white\"}, \"zaxis\": {\"backgroundcolor\": \"#E5ECF6\", \"gridcolor\": \"white\", \"gridwidth\": 2, \"linecolor\": \"white\", \"showbackground\": true, \"ticks\": \"\", \"zerolinecolor\": \"white\"}}, \"shapedefaults\": {\"line\": {\"color\": \"#2a3f5f\"}}, \"ternary\": {\"aaxis\": {\"gridcolor\": \"white\", \"linecolor\": \"white\", \"ticks\": \"\"}, \"baxis\": {\"gridcolor\": \"white\", \"linecolor\": \"white\", \"ticks\": \"\"}, \"bgcolor\": \"#E5ECF6\", \"caxis\": {\"gridcolor\": \"white\", \"linecolor\": \"white\", \"ticks\": \"\"}}, \"title\": {\"x\": 0.05}, \"xaxis\": {\"automargin\": true, \"gridcolor\": \"white\", \"linecolor\": \"white\", \"ticks\": \"\", \"title\": {\"standoff\": 15}, \"zerolinecolor\": \"white\", \"zerolinewidth\": 2}, \"yaxis\": {\"automargin\": true, \"gridcolor\": \"white\", \"linecolor\": \"white\", \"ticks\": \"\", \"title\": {\"standoff\": 15}, \"zerolinecolor\": \"white\", \"zerolinewidth\": 2}}}, \"title\": {\"text\": \"Scores for TF-IDF\"}, \"xaxis\": {\"anchor\": \"y\", \"domain\": [0.0, 1.0], \"title\": {\"text\": \"score\"}}, \"yaxis\": {\"anchor\": \"x\", \"domain\": [0.0, 1.0], \"title\": {\"text\": \"count\"}}},\n",
              "                        {\"responsive\": true}\n",
              "                    ).then(function(){\n",
              "                            \n",
              "var gd = document.getElementById('a6c52ef4-a94c-4fd7-b84e-194377b2cf1a');\n",
              "var x = new MutationObserver(function (mutations, observer) {{\n",
              "        var display = window.getComputedStyle(gd).display;\n",
              "        if (!display || display === 'none') {{\n",
              "            console.log([gd, 'removed!']);\n",
              "            Plotly.purge(gd);\n",
              "            observer.disconnect();\n",
              "        }}\n",
              "}});\n",
              "\n",
              "// Listen for the removal of the full notebook cells\n",
              "var notebookContainer = gd.closest('#notebook-container');\n",
              "if (notebookContainer) {{\n",
              "    x.observe(notebookContainer, {childList: true});\n",
              "}}\n",
              "\n",
              "// Listen for the clearing of the current output cell\n",
              "var outputEl = gd.closest('.output');\n",
              "if (outputEl) {{\n",
              "    x.observe(outputEl, {childList: true});\n",
              "}}\n",
              "\n",
              "                        })\n",
              "                };\n",
              "                \n",
              "            </script>\n",
              "        </div>\n",
              "</body>\n",
              "</html>"
            ]
          },
          "metadata": {}
        }
      ]
    },
    {
      "cell_type": "code",
      "metadata": {
        "id": "QIBvHL1aOnOT"
      },
      "source": [
        "if use_wandb:\n",
        "  wandb.log({\"scores_hist\": fig})"
      ],
      "execution_count": 63,
      "outputs": []
    },
    {
      "cell_type": "code",
      "metadata": {
        "colab": {
          "base_uri": "https://localhost:8080/",
          "height": 1000
        },
        "id": "ohaxVQ6d9iiD",
        "outputId": "7856f0d3-54df-42a7-e642-607144ca281d"
      },
      "source": [
        "result, details = recommend_tune(df_sim, \"Blue Moon [jazz1350]\")\n",
        "result.head(30)"
      ],
      "execution_count": 64,
      "outputs": [
        {
          "output_type": "execute_result",
          "data": {
            "text/html": [
              "<div>\n",
              "<style scoped>\n",
              "    .dataframe tbody tr th:only-of-type {\n",
              "        vertical-align: middle;\n",
              "    }\n",
              "\n",
              "    .dataframe tbody tr th {\n",
              "        vertical-align: top;\n",
              "    }\n",
              "\n",
              "    .dataframe thead th {\n",
              "        text-align: right;\n",
              "    }\n",
              "</style>\n",
              "<table border=\"1\" class=\"dataframe\">\n",
              "  <thead>\n",
              "    <tr style=\"text-align: right;\">\n",
              "      <th></th>\n",
              "      <th>index</th>\n",
              "      <th>reference</th>\n",
              "      <th>reference_titleid</th>\n",
              "      <th>similar_title</th>\n",
              "      <th>score</th>\n",
              "      <th>max</th>\n",
              "      <th>score_div_max</th>\n",
              "      <th>similar_titleid</th>\n",
              "    </tr>\n",
              "  </thead>\n",
              "  <tbody>\n",
              "    <tr>\n",
              "      <th>0</th>\n",
              "      <td>0</td>\n",
              "      <td>Blue Moon [jazz1350]</td>\n",
              "      <td>158</td>\n",
              "      <td>Home Cookin' [jazz1350]</td>\n",
              "      <td>0.828262</td>\n",
              "      <td>0.828262</td>\n",
              "      <td>1.000000</td>\n",
              "      <td>467</td>\n",
              "    </tr>\n",
              "    <tr>\n",
              "      <th>1</th>\n",
              "      <td>1</td>\n",
              "      <td>Blue Moon [jazz1350]</td>\n",
              "      <td>158</td>\n",
              "      <td>It Could Happen To You [jazz1350]</td>\n",
              "      <td>0.805790</td>\n",
              "      <td>0.805790</td>\n",
              "      <td>1.000000</td>\n",
              "      <td>618</td>\n",
              "    </tr>\n",
              "    <tr>\n",
              "      <th>2</th>\n",
              "      <td>2</td>\n",
              "      <td>Blue Moon [jazz1350]</td>\n",
              "      <td>158</td>\n",
              "      <td>Things We Did Last Summer, The [jazz1350]</td>\n",
              "      <td>0.786924</td>\n",
              "      <td>0.805790</td>\n",
              "      <td>0.976587</td>\n",
              "      <td>1172</td>\n",
              "    </tr>\n",
              "    <tr>\n",
              "      <th>3</th>\n",
              "      <td>3</td>\n",
              "      <td>Blue Moon [jazz1350]</td>\n",
              "      <td>158</td>\n",
              "      <td>Teach Me Tonight [jazz1350]</td>\n",
              "      <td>0.784634</td>\n",
              "      <td>0.805790</td>\n",
              "      <td>0.973745</td>\n",
              "      <td>1145</td>\n",
              "    </tr>\n",
              "    <tr>\n",
              "      <th>4</th>\n",
              "      <td>4</td>\n",
              "      <td>Blue Moon [jazz1350]</td>\n",
              "      <td>158</td>\n",
              "      <td>Nice 'n Easy [jazz1350]</td>\n",
              "      <td>0.779544</td>\n",
              "      <td>0.805790</td>\n",
              "      <td>0.967428</td>\n",
              "      <td>868</td>\n",
              "    </tr>\n",
              "    <tr>\n",
              "      <th>5</th>\n",
              "      <td>5</td>\n",
              "      <td>Blue Moon [jazz1350]</td>\n",
              "      <td>158</td>\n",
              "      <td>That Old Feeling [jazz1350]</td>\n",
              "      <td>0.767911</td>\n",
              "      <td>0.805790</td>\n",
              "      <td>0.952992</td>\n",
              "      <td>1153</td>\n",
              "    </tr>\n",
              "    <tr>\n",
              "      <th>6</th>\n",
              "      <td>6</td>\n",
              "      <td>Blue Moon [jazz1350]</td>\n",
              "      <td>158</td>\n",
              "      <td>Bye Bye Blackbird [jazz1350]</td>\n",
              "      <td>0.760746</td>\n",
              "      <td>0.805790</td>\n",
              "      <td>0.944100</td>\n",
              "      <td>205</td>\n",
              "    </tr>\n",
              "    <tr>\n",
              "      <th>7</th>\n",
              "      <td>7</td>\n",
              "      <td>Blue Moon [jazz1350]</td>\n",
              "      <td>158</td>\n",
              "      <td>Don't Be That Way [jazz1350]</td>\n",
              "      <td>0.843661</td>\n",
              "      <td>0.896124</td>\n",
              "      <td>0.941456</td>\n",
              "      <td>315</td>\n",
              "    </tr>\n",
              "    <tr>\n",
              "      <th>8</th>\n",
              "      <td>8</td>\n",
              "      <td>Blue Moon [jazz1350]</td>\n",
              "      <td>158</td>\n",
              "      <td>Sophisticated Lady [jazz1350]</td>\n",
              "      <td>0.753527</td>\n",
              "      <td>0.805790</td>\n",
              "      <td>0.935140</td>\n",
              "      <td>1077</td>\n",
              "    </tr>\n",
              "    <tr>\n",
              "      <th>9</th>\n",
              "      <td>9</td>\n",
              "      <td>Blue Moon [jazz1350]</td>\n",
              "      <td>158</td>\n",
              "      <td>Look For The Silver Lining [jazz1350]</td>\n",
              "      <td>0.834378</td>\n",
              "      <td>0.896124</td>\n",
              "      <td>0.931096</td>\n",
              "      <td>737</td>\n",
              "    </tr>\n",
              "    <tr>\n",
              "      <th>10</th>\n",
              "      <td>10</td>\n",
              "      <td>Blue Moon [jazz1350]</td>\n",
              "      <td>158</td>\n",
              "      <td>Touch Of Your Lips, The [jazz1350]</td>\n",
              "      <td>0.741991</td>\n",
              "      <td>0.805790</td>\n",
              "      <td>0.920824</td>\n",
              "      <td>1202</td>\n",
              "    </tr>\n",
              "    <tr>\n",
              "      <th>11</th>\n",
              "      <td>11</td>\n",
              "      <td>Blue Moon [jazz1350]</td>\n",
              "      <td>158</td>\n",
              "      <td>It's You Or No One [jazz1350]</td>\n",
              "      <td>0.751651</td>\n",
              "      <td>0.817026</td>\n",
              "      <td>0.919518</td>\n",
              "      <td>640</td>\n",
              "    </tr>\n",
              "    <tr>\n",
              "      <th>12</th>\n",
              "      <td>12</td>\n",
              "      <td>Blue Moon [jazz1350]</td>\n",
              "      <td>158</td>\n",
              "      <td>At Last [jazz1350]</td>\n",
              "      <td>0.823180</td>\n",
              "      <td>0.896124</td>\n",
              "      <td>0.918601</td>\n",
              "      <td>92</td>\n",
              "    </tr>\n",
              "    <tr>\n",
              "      <th>13</th>\n",
              "      <td>13</td>\n",
              "      <td>Blue Moon [jazz1350]</td>\n",
              "      <td>158</td>\n",
              "      <td>Don't Go To Strangers [jazz1350]</td>\n",
              "      <td>0.737161</td>\n",
              "      <td>0.805790</td>\n",
              "      <td>0.914831</td>\n",
              "      <td>320</td>\n",
              "    </tr>\n",
              "    <tr>\n",
              "      <th>14</th>\n",
              "      <td>14</td>\n",
              "      <td>Blue Moon [jazz1350]</td>\n",
              "      <td>158</td>\n",
              "      <td>All God's Chillun Got Rhythm [jazz1350]</td>\n",
              "      <td>0.735265</td>\n",
              "      <td>0.805790</td>\n",
              "      <td>0.912478</td>\n",
              "      <td>57</td>\n",
              "    </tr>\n",
              "    <tr>\n",
              "      <th>15</th>\n",
              "      <td>15</td>\n",
              "      <td>Blue Moon [jazz1350]</td>\n",
              "      <td>158</td>\n",
              "      <td>Old Folks [jazz1350]</td>\n",
              "      <td>0.731617</td>\n",
              "      <td>0.805790</td>\n",
              "      <td>0.907950</td>\n",
              "      <td>895</td>\n",
              "    </tr>\n",
              "    <tr>\n",
              "      <th>16</th>\n",
              "      <td>16</td>\n",
              "      <td>Blue Moon [jazz1350]</td>\n",
              "      <td>158</td>\n",
              "      <td>One I Love (Belongs To Somebody Else), The [ja...</td>\n",
              "      <td>0.728267</td>\n",
              "      <td>0.805790</td>\n",
              "      <td>0.903793</td>\n",
              "      <td>912</td>\n",
              "    </tr>\n",
              "    <tr>\n",
              "      <th>17</th>\n",
              "      <td>17</td>\n",
              "      <td>Blue Moon [jazz1350]</td>\n",
              "      <td>158</td>\n",
              "      <td>Day By Day [jazz1350]</td>\n",
              "      <td>0.723218</td>\n",
              "      <td>0.805790</td>\n",
              "      <td>0.897527</td>\n",
              "      <td>281</td>\n",
              "    </tr>\n",
              "    <tr>\n",
              "      <th>18</th>\n",
              "      <td>18</td>\n",
              "      <td>Blue Moon [jazz1350]</td>\n",
              "      <td>158</td>\n",
              "      <td>I've Got You Under My Skin [jazz1350]</td>\n",
              "      <td>0.711133</td>\n",
              "      <td>0.805790</td>\n",
              "      <td>0.882529</td>\n",
              "      <td>565</td>\n",
              "    </tr>\n",
              "    <tr>\n",
              "      <th>19</th>\n",
              "      <td>19</td>\n",
              "      <td>Blue Moon [jazz1350]</td>\n",
              "      <td>158</td>\n",
              "      <td>Long Ago And Far Away [jazz1350]</td>\n",
              "      <td>0.786818</td>\n",
              "      <td>0.896124</td>\n",
              "      <td>0.878023</td>\n",
              "      <td>735</td>\n",
              "    </tr>\n",
              "    <tr>\n",
              "      <th>20</th>\n",
              "      <td>20</td>\n",
              "      <td>Blue Moon [jazz1350]</td>\n",
              "      <td>158</td>\n",
              "      <td>Sleepy Time Gal [trad]</td>\n",
              "      <td>0.786767</td>\n",
              "      <td>0.896124</td>\n",
              "      <td>0.877967</td>\n",
              "      <td>1608</td>\n",
              "    </tr>\n",
              "    <tr>\n",
              "      <th>21</th>\n",
              "      <td>21</td>\n",
              "      <td>Blue Moon [jazz1350]</td>\n",
              "      <td>158</td>\n",
              "      <td>It Was So Good While It Lasted [jazz1350]</td>\n",
              "      <td>0.707050</td>\n",
              "      <td>0.805790</td>\n",
              "      <td>0.877462</td>\n",
              "      <td>624</td>\n",
              "    </tr>\n",
              "    <tr>\n",
              "      <th>22</th>\n",
              "      <td>22</td>\n",
              "      <td>Blue Moon [jazz1350]</td>\n",
              "      <td>158</td>\n",
              "      <td>Don't Take Your Love From Me [jazz1350]</td>\n",
              "      <td>0.704022</td>\n",
              "      <td>0.805790</td>\n",
              "      <td>0.873705</td>\n",
              "      <td>323</td>\n",
              "    </tr>\n",
              "    <tr>\n",
              "      <th>23</th>\n",
              "      <td>23</td>\n",
              "      <td>Blue Moon [jazz1350]</td>\n",
              "      <td>158</td>\n",
              "      <td>It's Been A Long Long Time [jazz1350]</td>\n",
              "      <td>0.703672</td>\n",
              "      <td>0.805790</td>\n",
              "      <td>0.873270</td>\n",
              "      <td>632</td>\n",
              "    </tr>\n",
              "    <tr>\n",
              "      <th>24</th>\n",
              "      <td>24</td>\n",
              "      <td>Blue Moon [jazz1350]</td>\n",
              "      <td>158</td>\n",
              "      <td>Tea For Two [jazz1350]</td>\n",
              "      <td>0.702973</td>\n",
              "      <td>0.805790</td>\n",
              "      <td>0.872403</td>\n",
              "      <td>1144</td>\n",
              "    </tr>\n",
              "    <tr>\n",
              "      <th>25</th>\n",
              "      <td>25</td>\n",
              "      <td>Blue Moon [jazz1350]</td>\n",
              "      <td>158</td>\n",
              "      <td>Idaho [trad]</td>\n",
              "      <td>0.722104</td>\n",
              "      <td>0.828262</td>\n",
              "      <td>0.871831</td>\n",
              "      <td>1502</td>\n",
              "    </tr>\n",
              "    <tr>\n",
              "      <th>26</th>\n",
              "      <td>26</td>\n",
              "      <td>Blue Moon [jazz1350]</td>\n",
              "      <td>158</td>\n",
              "      <td>When I Fall In Love [jazz1350]</td>\n",
              "      <td>0.701980</td>\n",
              "      <td>0.805790</td>\n",
              "      <td>0.871170</td>\n",
              "      <td>1266</td>\n",
              "    </tr>\n",
              "    <tr>\n",
              "      <th>27</th>\n",
              "      <td>27</td>\n",
              "      <td>Blue Moon [jazz1350]</td>\n",
              "      <td>158</td>\n",
              "      <td>Try A Little Tenderness [jazz1350]</td>\n",
              "      <td>0.701032</td>\n",
              "      <td>0.805790</td>\n",
              "      <td>0.869994</td>\n",
              "      <td>1213</td>\n",
              "    </tr>\n",
              "    <tr>\n",
              "      <th>28</th>\n",
              "      <td>28</td>\n",
              "      <td>Blue Moon [jazz1350]</td>\n",
              "      <td>158</td>\n",
              "      <td>Can't Help Lovin' Dat Man [jazz1350]</td>\n",
              "      <td>0.779468</td>\n",
              "      <td>0.896124</td>\n",
              "      <td>0.869821</td>\n",
              "      <td>214</td>\n",
              "    </tr>\n",
              "    <tr>\n",
              "      <th>29</th>\n",
              "      <td>29</td>\n",
              "      <td>Blue Moon [jazz1350]</td>\n",
              "      <td>158</td>\n",
              "      <td>Jody Grind, The [jazz1350]</td>\n",
              "      <td>0.776566</td>\n",
              "      <td>0.896124</td>\n",
              "      <td>0.866583</td>\n",
              "      <td>652</td>\n",
              "    </tr>\n",
              "  </tbody>\n",
              "</table>\n",
              "</div>"
            ],
            "text/plain": [
              "    index             reference  reference_titleid                                      similar_title     score       max  score_div_max  similar_titleid\n",
              "0       0  Blue Moon [jazz1350]                158                            Home Cookin' [jazz1350]  0.828262  0.828262       1.000000              467\n",
              "1       1  Blue Moon [jazz1350]                158                  It Could Happen To You [jazz1350]  0.805790  0.805790       1.000000              618\n",
              "2       2  Blue Moon [jazz1350]                158          Things We Did Last Summer, The [jazz1350]  0.786924  0.805790       0.976587             1172\n",
              "3       3  Blue Moon [jazz1350]                158                        Teach Me Tonight [jazz1350]  0.784634  0.805790       0.973745             1145\n",
              "4       4  Blue Moon [jazz1350]                158                            Nice 'n Easy [jazz1350]  0.779544  0.805790       0.967428              868\n",
              "5       5  Blue Moon [jazz1350]                158                        That Old Feeling [jazz1350]  0.767911  0.805790       0.952992             1153\n",
              "6       6  Blue Moon [jazz1350]                158                       Bye Bye Blackbird [jazz1350]  0.760746  0.805790       0.944100              205\n",
              "7       7  Blue Moon [jazz1350]                158                       Don't Be That Way [jazz1350]  0.843661  0.896124       0.941456              315\n",
              "8       8  Blue Moon [jazz1350]                158                      Sophisticated Lady [jazz1350]  0.753527  0.805790       0.935140             1077\n",
              "9       9  Blue Moon [jazz1350]                158              Look For The Silver Lining [jazz1350]  0.834378  0.896124       0.931096              737\n",
              "10     10  Blue Moon [jazz1350]                158                 Touch Of Your Lips, The [jazz1350]  0.741991  0.805790       0.920824             1202\n",
              "11     11  Blue Moon [jazz1350]                158                      It's You Or No One [jazz1350]  0.751651  0.817026       0.919518              640\n",
              "12     12  Blue Moon [jazz1350]                158                                 At Last [jazz1350]  0.823180  0.896124       0.918601               92\n",
              "13     13  Blue Moon [jazz1350]                158                   Don't Go To Strangers [jazz1350]  0.737161  0.805790       0.914831              320\n",
              "14     14  Blue Moon [jazz1350]                158            All God's Chillun Got Rhythm [jazz1350]  0.735265  0.805790       0.912478               57\n",
              "15     15  Blue Moon [jazz1350]                158                               Old Folks [jazz1350]  0.731617  0.805790       0.907950              895\n",
              "16     16  Blue Moon [jazz1350]                158  One I Love (Belongs To Somebody Else), The [ja...  0.728267  0.805790       0.903793              912\n",
              "17     17  Blue Moon [jazz1350]                158                              Day By Day [jazz1350]  0.723218  0.805790       0.897527              281\n",
              "18     18  Blue Moon [jazz1350]                158              I've Got You Under My Skin [jazz1350]  0.711133  0.805790       0.882529              565\n",
              "19     19  Blue Moon [jazz1350]                158                   Long Ago And Far Away [jazz1350]  0.786818  0.896124       0.878023              735\n",
              "20     20  Blue Moon [jazz1350]                158                             Sleepy Time Gal [trad]  0.786767  0.896124       0.877967             1608\n",
              "21     21  Blue Moon [jazz1350]                158          It Was So Good While It Lasted [jazz1350]  0.707050  0.805790       0.877462              624\n",
              "22     22  Blue Moon [jazz1350]                158            Don't Take Your Love From Me [jazz1350]  0.704022  0.805790       0.873705              323\n",
              "23     23  Blue Moon [jazz1350]                158              It's Been A Long Long Time [jazz1350]  0.703672  0.805790       0.873270              632\n",
              "24     24  Blue Moon [jazz1350]                158                             Tea For Two [jazz1350]  0.702973  0.805790       0.872403             1144\n",
              "25     25  Blue Moon [jazz1350]                158                                       Idaho [trad]  0.722104  0.828262       0.871831             1502\n",
              "26     26  Blue Moon [jazz1350]                158                     When I Fall In Love [jazz1350]  0.701980  0.805790       0.871170             1266\n",
              "27     27  Blue Moon [jazz1350]                158                 Try A Little Tenderness [jazz1350]  0.701032  0.805790       0.869994             1213\n",
              "28     28  Blue Moon [jazz1350]                158               Can't Help Lovin' Dat Man [jazz1350]  0.779468  0.896124       0.869821              214\n",
              "29     29  Blue Moon [jazz1350]                158                         Jody Grind, The [jazz1350]  0.776566  0.896124       0.866583              652"
            ]
          },
          "metadata": {},
          "execution_count": 64
        }
      ]
    },
    {
      "cell_type": "markdown",
      "metadata": {
        "id": "UveSDI6QWALe"
      },
      "source": [
        "Copy results into a dataframe for later logging to W&B"
      ]
    },
    {
      "cell_type": "code",
      "metadata": {
        "id": "AEEqdXBiT5bl"
      },
      "source": [
        "dd = pd.DataFrame(columns = recommender_results_cols)\n",
        "\n",
        "for tune in tunes_eval_list:\n",
        "  result, details = recommend_tune(df_sim, tune)\n",
        "  dd['id'] = result['index']\n",
        "  dd['method'] = 'tfidf'\n",
        "  dd['reference'] = tune\n",
        "  dd['similar'] = result['similar_title']\n",
        "  dd['score_div_max'] = result['score_div_max']\n",
        "  dd['score'] = result['score']\n",
        "\n",
        "recommender_results = recommender_results.append(dd)"
      ],
      "execution_count": 65,
      "outputs": []
    },
    {
      "cell_type": "markdown",
      "metadata": {
        "id": "wqaUEFqxXZYB"
      },
      "source": [
        "### Test Contrafacts"
      ]
    },
    {
      "cell_type": "markdown",
      "metadata": {
        "id": "563ncYqAfIyN"
      },
      "source": [
        "With the model, query the top N highest matches for each section. For a tune, if at least one section receives the recommendation  for the expected title, increase the match counter."
      ]
    },
    {
      "cell_type": "code",
      "metadata": {
        "id": "RVPtraR-hg0G"
      },
      "source": [
        "def test_contrafacts(tunes, index, model, N=15):\n",
        "  matches = 0\n",
        "  number_of_sections = 0\n",
        "  results = {}\n",
        "\n",
        "  for tune, similar_tune in tunes:\n",
        "\n",
        "    # loop over all sections of the tune\n",
        "    section_matches = 0\n",
        "    for s1 in title_to_sectionid[tune]:\n",
        "      query = processed_corpus[s1]\n",
        "      query_bow = dictionary.doc2bow(query)\n",
        "\n",
        "      # perform a similarity query against the corpus\n",
        "      similarities = index[model[query_bow]]\n",
        "      sims = sorted(enumerate(similarities), key=lambda item: -item[1])\n",
        "\n",
        "      # check if the section matches the expected title; consider only the first 15 recommendations\n",
        "      i = 0\n",
        "      for sectionid, value in sims:\n",
        "        if i >= N:\n",
        "          break\n",
        "        i += 1\n",
        "        if sectionid_to_title[sectionid] == similar_tune:\n",
        "          section_matches += 1\n",
        "\n",
        "    # for each title, increase matches if at least one of the section matched the expected title\n",
        "    if section_matches > 0:\n",
        "      matches += 1  \n",
        "      results[f'{tune}, {similar_tune}'] = 1\n",
        "    else:\n",
        "      results[f'{tune}, {similar_tune}'] = 0\n",
        "  \n",
        "  return matches, results\n"
      ],
      "execution_count": 66,
      "outputs": []
    },
    {
      "cell_type": "code",
      "metadata": {
        "colab": {
          "base_uri": "https://localhost:8080/"
        },
        "id": "Q628rO5DhxWD",
        "outputId": "28accfdb-8902-4830-ebea-244eeeb83418"
      },
      "source": [
        "topN = 20\n",
        "matches, results = test_contrafacts(contrafacts, index_tfidf, tfidf, topN)\n",
        "\n",
        "print(f\"Found matches: {matches} out of {len(results)}: {100*matches/len(results):.3f}%\")\n",
        "print() \n",
        "for rr, val in results.items():\n",
        "  if val == 0:\n",
        "    print(f\"{val}: {rr}\")"
      ],
      "execution_count": 67,
      "outputs": [
        {
          "output_type": "stream",
          "name": "stdout",
          "text": [
            "Found matches: 88 out of 111: 79.279%\n",
            "\n",
            "0: 52nd Street Theme [jazz1350], I Got Rhythm [jazz1350]\n",
            "0: Ballade [jazz1350], As Long As I Live [jazz1350]\n",
            "0: Dewey Square [jazz1350], Oh, Lady Be Good [jazz1350]\n",
            "0: Don't Be That Way [jazz1350], I Got Rhythm [jazz1350]\n",
            "0: Good Bait [jazz1350], I Got Rhythm [jazz1350]\n",
            "0: In A Mellow Tone (In A Mellotone) [jazz1350], Rose Room [jazz1350]\n",
            "0: Lennie's Pennies [jazz1350], Pennies From Heaven [jazz1350]\n",
            "0: Little Rootie Tootie [jazz1350], I Got Rhythm [jazz1350]\n",
            "0: Little Willie Leaps [jazz1350], All God's Chillun Got Rhythm [jazz1350]\n",
            "0: Lullaby Of Birdland [jazz1350], Love Me Or Leave Me [jazz1350]\n",
            "0: My Little Suede Shoes [jazz1350], Jeepers Creepers [jazz1350]\n",
            "0: Quasimodo (Theme) [jazz1350], Embraceable You [jazz1350]\n",
            "0: Room 608 [jazz1350], I Got Rhythm [jazz1350]\n",
            "0: Scrapple From The Apple [jazz1350], Honeysuckle Rose [jazz1350]\n",
            "0: Sweet Sue, Just You [jazz1350], Honeysuckle Rose [jazz1350]\n",
            "0: Sweet Sue, Just You [jazz1350], Bye Bye Blackbird [jazz1350]\n",
            "0: These Foolish Things [jazz1350], Blue Moon [jazz1350]\n",
            "0: These Foolish Things [jazz1350], Soultrane [jazz1350]\n",
            "0: These Foolish Things [jazz1350], Why Do I Love You [jazz1350]\n",
            "0: Misty [jazz1350], September In The Rain [jazz1350]\n",
            "0: Exactly Like You [jazz1350], Jersey Bounce [trad]\n",
            "0: Take The A Train [jazz1350], Girl From Ipanema, The [jazz1350]\n",
            "0: On The Sunny Side Of The Street [jazz1350], You Stepped Out Of A Dream [jazz1350]\n",
            "0: My Secret Love [jazz1350], Samba De Orfeu [jazz1350]\n",
            "0: On The Sunny Side Of The Street [jazz1350], Mountain Greenery [jazz1350]\n"
          ]
        }
      ]
    },
    {
      "cell_type": "code",
      "metadata": {
        "id": "8lKZukYybvMJ"
      },
      "source": [
        "model_name = 'tfidf'\n",
        "if use_wandb:\n",
        "  wandb.log(\n",
        "      {model_name: {\n",
        "                'contrafacts': {\n",
        "                    'topN': topN,\n",
        "                    'success': matches/len(contrafacts),\n",
        "                    #'results': results\n",
        "                    }\n",
        "                   },\n",
        "       'all_models': {\n",
        "           model_name: wandb.Table(\n",
        "               columns=[\"Title\", \"Match\"],\n",
        "               data=[[key, value] for key, value in results.items()]),\n",
        "       }\n",
        "       })"
      ],
      "execution_count": 68,
      "outputs": []
    },
    {
      "cell_type": "markdown",
      "metadata": {
        "id": "Phw7fBDk0px7"
      },
      "source": [
        "## Store TF-IDF Model to W&B"
      ]
    },
    {
      "cell_type": "code",
      "metadata": {
        "id": "KdYWJX-60pdd"
      },
      "source": [
        "if use_wandb:\n",
        "  model_artifact = wandb.Artifact(\n",
        "      \"model_tfidf\", \n",
        "      type=\"model\",\n",
        "      description=\"TF-IDF Model\",\n",
        "      metadata=\"\")\n",
        "\n",
        "  model_artifact.add_file(\"/content/index/tfidf.model\")\n",
        "  model_artifact.add_file(\"/content/index/tfidf.index\")\n",
        "  wandb.log_artifact(model_artifact)"
      ],
      "execution_count": 69,
      "outputs": []
    },
    {
      "cell_type": "markdown",
      "metadata": {
        "id": "Pj0mpWpahPu1"
      },
      "source": [
        "## Get Recommender Data for WebApp\n",
        "\n"
      ]
    },
    {
      "cell_type": "code",
      "metadata": {
        "id": "buRbSTWehvPP"
      },
      "source": [
        "tune_test = [\"These Foolish Things [jazz1350]\",\n",
        "             \"Misty [jazz1350]\"]"
      ],
      "execution_count": 70,
      "outputs": []
    },
    {
      "cell_type": "code",
      "metadata": {
        "colab": {
          "base_uri": "https://localhost:8080/"
        },
        "id": "ohlLHE935UN-",
        "outputId": "6cde39eb-a40a-4147-92ca-a8207fd30b52"
      },
      "source": [
        "%%time\n",
        "if True:\n",
        "  #_tunes = list(tunes['title_playlist'].values())\n",
        "  _tunes = tunes_eval_list\n",
        "\n",
        "  method = 'tfidf'\n",
        "\n",
        "  df_sim = get_sim_scores(_tunes, index_tfidf, tfidf, topn=50)\n",
        "\n",
        "  # save to file\n",
        "  (df_sim\n",
        "   .loc[:,['reference_title',\n",
        "           'reference_titleid',\n",
        "           'similar_title',\n",
        "           'similar_titleid',\n",
        "           'ref_section_label',\n",
        "           'similar_section_label',\n",
        "           'score'\n",
        "           ]]\n",
        "   .reset_index()\n",
        "   .groupby(['reference_titleid', 'reference_title', \n",
        "             'similar_titleid','similar_title', \n",
        "             'ref_section_label', 'similar_section_label'])\n",
        "   .max('score')\n",
        "   .sort_values('score', ascending=False)\n",
        "   .reset_index()\n",
        "   .to_csv(f'output/recommender_{method}.csv', encoding='utf8')\n",
        "  )\n",
        "\n",
        "  with zipfile.ZipFile(f'output/recommender_{method}.zip', 'w') as zf:\n",
        "    zf.write(f'output/recommender_{method}.csv')\n",
        "\n",
        "  # save to wandb\n",
        "  if use_wandb:\n",
        "    model_artifact = wandb.Artifact(\n",
        "        f\"recommender_{method}\", \n",
        "        type=\"csv\",\n",
        "        description=f\"Recommendations for each Tune using {method} Model (csv file)\",\n",
        "        metadata=\"\")\n",
        "\n",
        "    model_artifact.add_file(f'output/recommender_{method}.zip')\n",
        "    wandb.log_artifact(model_artifact)"
      ],
      "execution_count": 71,
      "outputs": [
        {
          "output_type": "stream",
          "name": "stderr",
          "text": [
            "100%|██████████| 11/11 [00:16<00:00,  1.54s/it]"
          ]
        },
        {
          "output_type": "stream",
          "name": "stdout",
          "text": [
            "CPU times: user 16.9 s, sys: 251 ms, total: 17.2 s\n",
            "Wall time: 17.1 s\n"
          ]
        },
        {
          "output_type": "stream",
          "name": "stderr",
          "text": [
            "\n"
          ]
        }
      ]
    },
    {
      "cell_type": "markdown",
      "metadata": {
        "id": "99xHBRsd--OB"
      },
      "source": [
        "# LSA (Latent Semantic Analysis), aka LSI (Latent Semantic Index) "
      ]
    },
    {
      "cell_type": "code",
      "metadata": {
        "id": "adsW9Uh9_JXs"
      },
      "source": [
        "from collections import defaultdict"
      ],
      "execution_count": 72,
      "outputs": []
    },
    {
      "cell_type": "code",
      "metadata": {
        "colab": {
          "base_uri": "https://localhost:8080/"
        },
        "id": "s3AJZGRD_IHW",
        "outputId": "8494a8d7-8485-4939-d76e-ef5e9ff50092"
      },
      "source": [
        "num_topics = lsi_config['num_topics']\n",
        "\n",
        "# remove words that appear only once\n",
        "frequency = defaultdict(int)\n",
        "for text in processed_corpus:\n",
        "    for token in text:\n",
        "        frequency[token] += 1\n",
        "\n",
        "data = [[token for token in text if frequency[token] > 1] for text in processed_corpus]\n",
        "dictionary = corpora.Dictionary(data)\n",
        "\n",
        "# doc2bow counts the number of occurences of each distinct word,\n",
        "# converts the word to its integer word id and returns the result\n",
        "# as a sparse vector\n",
        "\n",
        "bow_corpus = [dictionary.doc2bow(text) for text in data]\n",
        "lsi = LsiModel(bow_corpus, id2word=dictionary, num_topics=num_topics)  # num_topics can be maximum the size of the number of unique tokens"
      ],
      "execution_count": 73,
      "outputs": [
        {
          "output_type": "stream",
          "name": "stderr",
          "text": [
            "2021-12-03 12:27:46,754 : INFO : adding document #0 to Dictionary(0 unique tokens: [])\n",
            "2021-12-03 12:27:46,878 : INFO : built Dictionary(78 unique tokens: ['Am', 'B7', 'C', 'C#', 'C7']...) from 5552 documents (total 76981 corpus positions)\n",
            "2021-12-03 12:27:46,882 : INFO : Dictionary lifecycle event {'msg': \"built Dictionary(78 unique tokens: ['Am', 'B7', 'C', 'C#', 'C7']...) from 5552 documents (total 76981 corpus positions)\", 'datetime': '2021-12-03T12:27:46.882698', 'gensim': '4.1.2', 'python': '3.7.12 (default, Sep 10 2021, 00:21:48) \\n[GCC 7.5.0]', 'platform': 'Linux-5.4.104+-x86_64-with-Ubuntu-18.04-bionic', 'event': 'created'}\n",
            "2021-12-03 12:27:46,948 : INFO : using serial LSI version on this node\n",
            "2021-12-03 12:27:46,953 : INFO : updating model with new documents\n",
            "2021-12-03 12:27:46,958 : INFO : preparing a new chunk of documents\n",
            "2021-12-03 12:27:47,011 : INFO : using 100 extra samples and 2 power iterations\n",
            "2021-12-03 12:27:47,013 : INFO : 1st phase: constructing (78, 200) action matrix\n",
            "2021-12-03 12:27:47,112 : INFO : orthonormalizing (78, 200) action matrix\n",
            "2021-12-03 12:27:47,145 : INFO : 2nd phase: running dense svd on (78, 5552) matrix\n",
            "2021-12-03 12:27:47,244 : INFO : computing the final decomposition\n",
            "2021-12-03 12:27:47,247 : INFO : keeping 78 factors (discarding 0.000% of energy spectrum)\n",
            "2021-12-03 12:27:47,260 : INFO : processed documents up to #5552\n",
            "2021-12-03 12:27:47,264 : INFO : topic #0(324.892): 0.694*\"C\" + 0.486*\"G7\" + 0.345*\"Dm\" + 0.181*\"Am\" + 0.178*\"A7\" + 0.155*\"F\" + 0.149*\"D7\" + 0.116*\"C7\" + 0.100*\"Em\" + 0.096*\"E7\"\n",
            "2021-12-03 12:27:47,267 : INFO : topic #1(158.194): 0.812*\"Am\" + -0.381*\"C\" + 0.331*\"E7\" + 0.187*\"Dm\" + 0.121*\"Bm7b5\" + 0.088*\"D7\" + 0.069*\"Em\" + 0.065*\"F7\" + 0.057*\"B7\" + -0.052*\"G7\"\n",
            "2021-12-03 12:27:47,270 : INFO : topic #2(118.615): -0.597*\"Dm\" + 0.473*\"C\" + 0.328*\"Am\" + -0.305*\"G7\" + -0.293*\"A7\" + -0.231*\"Em\" + 0.201*\"F\" + 0.129*\"E7\" + 0.072*\"D7\" + -0.064*\"Bb7\"\n",
            "2021-12-03 12:27:47,273 : INFO : topic #3(103.259): -0.757*\"C7\" + 0.312*\"Dm\" + -0.291*\"D7\" + -0.255*\"F\" + 0.230*\"C\" + -0.172*\"G7\" + -0.157*\"F7\" + 0.138*\"Am\" + -0.125*\"Gm\" + -0.115*\"Bb7\"\n",
            "2021-12-03 12:27:47,275 : INFO : topic #4(89.961): -0.573*\"D7\" + -0.400*\"G7\" + 0.358*\"C7\" + 0.341*\"F\" + 0.331*\"Dm\" + -0.223*\"A7\" + 0.181*\"Em\" + -0.155*\"E7\" + 0.123*\"Gm\" + 0.117*\"C\"\n",
            "2021-12-03 12:27:47,279 : INFO : LsiModel lifecycle event {'msg': 'trained LsiModel(num_terms=78, num_topics=100, decay=1.0, chunksize=20000) in 0.33s', 'datetime': '2021-12-03T12:27:47.279359', 'gensim': '4.1.2', 'python': '3.7.12 (default, Sep 10 2021, 00:21:48) \\n[GCC 7.5.0]', 'platform': 'Linux-5.4.104+-x86_64-with-Ubuntu-18.04-bionic', 'event': 'created'}\n"
          ]
        }
      ]
    },
    {
      "cell_type": "code",
      "metadata": {
        "id": "EvxSQFfBBNMJ",
        "colab": {
          "base_uri": "https://localhost:8080/"
        },
        "outputId": "fe072ee7-8f9b-4d07-bf80-68103a84d13d"
      },
      "source": [
        "index_lsi = similarities.Similarity('/content/index/index_lsi', lsi[bow_corpus], num_features=len(dictionary))"
      ],
      "execution_count": 74,
      "outputs": [
        {
          "output_type": "stream",
          "name": "stderr",
          "text": [
            "2021-12-03 12:27:47,292 : INFO : starting similarity index under /content/index/index_lsi\n"
          ]
        }
      ]
    },
    {
      "cell_type": "code",
      "metadata": {
        "id": "3saA6NY5Tzer"
      },
      "source": [
        "#index_lsi = similarities.SparseMatrixSimilarity(lsi[bow_corpus], num_features = len(dictionary))\n",
        "#index_lsi = similarities.MatrixSimilarity(lsi[bow_corpus])  # transform corpus to LSI space and index it\n"
      ],
      "execution_count": 75,
      "outputs": []
    },
    {
      "cell_type": "code",
      "metadata": {
        "colab": {
          "base_uri": "https://localhost:8080/"
        },
        "id": "F5pbDMVyfEtS",
        "outputId": "7af1ee96-02ec-4844-d7cb-5d57bbba9097"
      },
      "source": [
        "lsi.save('/content/index/lsi.model')\n",
        "index_lsi.save('/content/index/lsi_matrixsim.index')\n"
      ],
      "execution_count": 76,
      "outputs": [
        {
          "output_type": "stream",
          "name": "stderr",
          "text": [
            "2021-12-03 12:27:48,025 : INFO : Projection lifecycle event {'fname_or_handle': '/content/index/lsi.model.projection', 'separately': 'None', 'sep_limit': 10485760, 'ignore': frozenset(), 'datetime': '2021-12-03T12:27:48.025803', 'gensim': '4.1.2', 'python': '3.7.12 (default, Sep 10 2021, 00:21:48) \\n[GCC 7.5.0]', 'platform': 'Linux-5.4.104+-x86_64-with-Ubuntu-18.04-bionic', 'event': 'saving'}\n",
            "2021-12-03 12:27:48,032 : INFO : saved /content/index/lsi.model.projection\n",
            "2021-12-03 12:27:48,035 : INFO : LsiModel lifecycle event {'fname_or_handle': '/content/index/lsi.model', 'separately': 'None', 'sep_limit': 10485760, 'ignore': ['projection', 'dispatcher'], 'datetime': '2021-12-03T12:27:48.035401', 'gensim': '4.1.2', 'python': '3.7.12 (default, Sep 10 2021, 00:21:48) \\n[GCC 7.5.0]', 'platform': 'Linux-5.4.104+-x86_64-with-Ubuntu-18.04-bionic', 'event': 'saving'}\n",
            "2021-12-03 12:27:48,038 : INFO : not storing attribute projection\n",
            "2021-12-03 12:27:48,041 : INFO : not storing attribute dispatcher\n",
            "2021-12-03 12:27:48,044 : INFO : saved /content/index/lsi.model\n",
            "2021-12-03 12:27:48,047 : INFO : creating matrix with 5552 documents and 78 features\n",
            "2021-12-03 12:27:48,060 : INFO : creating dense shard #0\n",
            "2021-12-03 12:27:48,063 : INFO : saving index shard to /content/index/index_lsi.0\n",
            "2021-12-03 12:27:48,066 : INFO : MatrixSimilarity lifecycle event {'fname_or_handle': '/content/index/index_lsi.0', 'separately': 'None', 'sep_limit': 10485760, 'ignore': frozenset(), 'datetime': '2021-12-03T12:27:48.066398', 'gensim': '4.1.2', 'python': '3.7.12 (default, Sep 10 2021, 00:21:48) \\n[GCC 7.5.0]', 'platform': 'Linux-5.4.104+-x86_64-with-Ubuntu-18.04-bionic', 'event': 'saving'}\n",
            "2021-12-03 12:27:48,074 : INFO : saved /content/index/index_lsi.0\n",
            "2021-12-03 12:27:48,079 : INFO : loading MatrixSimilarity object from /content/index/index_lsi.0\n",
            "2021-12-03 12:27:48,087 : INFO : MatrixSimilarity lifecycle event {'fname': '/content/index/index_lsi.0', 'datetime': '2021-12-03T12:27:48.087095', 'gensim': '4.1.2', 'python': '3.7.12 (default, Sep 10 2021, 00:21:48) \\n[GCC 7.5.0]', 'platform': 'Linux-5.4.104+-x86_64-with-Ubuntu-18.04-bionic', 'event': 'loaded'}\n",
            "2021-12-03 12:27:48,094 : INFO : Similarity lifecycle event {'fname_or_handle': '/content/index/lsi_matrixsim.index', 'separately': 'None', 'sep_limit': 10485760, 'ignore': frozenset(), 'datetime': '2021-12-03T12:27:48.094758', 'gensim': '4.1.2', 'python': '3.7.12 (default, Sep 10 2021, 00:21:48) \\n[GCC 7.5.0]', 'platform': 'Linux-5.4.104+-x86_64-with-Ubuntu-18.04-bionic', 'event': 'saving'}\n",
            "2021-12-03 12:27:48,101 : INFO : saved /content/index/lsi_matrixsim.index\n"
          ]
        }
      ]
    },
    {
      "cell_type": "code",
      "metadata": {
        "colab": {
          "base_uri": "https://localhost:8080/"
        },
        "id": "1udPIceqYk6S",
        "outputId": "79f4382a-a7bf-41dc-bd5f-c58ad00acf1f"
      },
      "source": [
        "!ls -la /content/index"
      ],
      "execution_count": 77,
      "outputs": [
        {
          "output_type": "stream",
          "name": "stdout",
          "text": [
            "total 2116\n",
            "drwxr-xr-x 2 root root    4096 Dec  3 12:27 .\n",
            "drwxr-xr-x 1 root root    4096 Dec  3 12:27 ..\n",
            "-rw-r--r-- 1 root root 1732896 Dec  3 12:27 index_lsi.0\n",
            "-rw-r--r-- 1 root root     742 Dec  3 12:27 lsi_matrixsim.index\n",
            "-rw-r--r-- 1 root root    2845 Dec  3 12:27 lsi.model\n",
            "-rw-r--r-- 1 root root   49976 Dec  3 12:27 lsi.model.projection\n",
            "-rw-r--r-- 1 root root  355612 Dec  3 12:27 tfidf.index\n",
            "-rw-r--r-- 1 root root    3058 Dec  3 12:27 tfidf.model\n"
          ]
        }
      ]
    },
    {
      "cell_type": "markdown",
      "metadata": {
        "id": "u05KD64Ai1uo"
      },
      "source": [
        "## Tests"
      ]
    },
    {
      "cell_type": "markdown",
      "metadata": {
        "id": "pDxTCAGv9MmZ"
      },
      "source": [
        "### Test for single tunes"
      ]
    },
    {
      "cell_type": "code",
      "metadata": {
        "colab": {
          "base_uri": "https://localhost:8080/"
        },
        "id": "khASSJ1eEuf5",
        "outputId": "270ed18c-17ac-4051-b5a7-85e71b0c3c9d"
      },
      "source": [
        "%%time\n",
        "df_sim = get_sim_scores(tunes_eval_list, index=index_lsi, model=lsi)\n",
        "\n",
        "# save a copy of the results; all results will be concatenated at the end\n",
        "df_lsi = df_sim[:]"
      ],
      "execution_count": 78,
      "outputs": [
        {
          "output_type": "stream",
          "name": "stderr",
          "text": [
            "100%|██████████| 11/11 [00:18<00:00,  1.67s/it]"
          ]
        },
        {
          "output_type": "stream",
          "name": "stdout",
          "text": [
            "CPU times: user 18.8 s, sys: 4.47 s, total: 23.2 s\n",
            "Wall time: 18.4 s\n"
          ]
        },
        {
          "output_type": "stream",
          "name": "stderr",
          "text": [
            "\n"
          ]
        }
      ]
    },
    {
      "cell_type": "code",
      "metadata": {
        "colab": {
          "base_uri": "https://localhost:8080/",
          "height": 542
        },
        "id": "X31lkvUsDAsU",
        "outputId": "73019d27-31b9-4faf-ac1c-ffd4115cf45d"
      },
      "source": [
        "import plotly.express as px\n",
        "fig = px.histogram(df_sim, x=\"score\", nbins=50, title='LSI Scores')\n",
        "fig.show()"
      ],
      "execution_count": 79,
      "outputs": [
        {
          "output_type": "display_data",
          "data": {
            "text/html": [
              "<html>\n",
              "<head><meta charset=\"utf-8\" /></head>\n",
              "<body>\n",
              "    <div>\n",
              "            <script src=\"https://cdnjs.cloudflare.com/ajax/libs/mathjax/2.7.5/MathJax.js?config=TeX-AMS-MML_SVG\"></script><script type=\"text/javascript\">if (window.MathJax) {MathJax.Hub.Config({SVG: {font: \"STIX-Web\"}});}</script>\n",
              "                <script type=\"text/javascript\">window.PlotlyConfig = {MathJaxConfig: 'local'};</script>\n",
              "        <script src=\"https://cdn.plot.ly/plotly-latest.min.js\"></script>    \n",
              "            <div id=\"8f350f0f-ad34-4008-9f72-9266ecb6bd35\" class=\"plotly-graph-div\" style=\"height:525px; width:100%;\"></div>\n",
              "            <script type=\"text/javascript\">\n",
              "                \n",
              "                    window.PLOTLYENV=window.PLOTLYENV || {};\n",
              "                    \n",
              "                if (document.getElementById(\"8f350f0f-ad34-4008-9f72-9266ecb6bd35\")) {\n",
              "                    Plotly.newPlot(\n",
              "                        '8f350f0f-ad34-4008-9f72-9266ecb6bd35',\n",
              "                        [{\"alignmentgroup\": \"True\", \"bingroup\": \"x\", \"hoverlabel\": {\"namelength\": 0}, \"hovertemplate\": \"score=%{x}<br>count=%{y}\", \"legendgroup\": \"\", \"marker\": {\"color\": \"#636efa\"}, \"name\": \"\", \"nbinsx\": 50, \"offsetgroup\": \"\", \"orientation\": \"v\", \"showlegend\": false, \"type\": \"histogram\", \"x\": [0.9782609939575195, 0.9680039882659912, 0.9680039882659912, 0.9609864354133606, 0.9583727121353149, 0.9583727121353149, 0.9569289088249207, 0.9569289088249207, 0.9567298293113708, 0.9567298293113708, 0.953407347202301, 0.9530152082443237, 0.9517337083816528, 0.9515873789787292, 0.9497162103652954, 0.9497162103652954, 0.9486438632011414, 0.9486438632011414, 0.9486437439918518, 0.9480385780334473, 0.9473730325698853, 0.9457324147224426, 0.9457324147224426, 0.9455453753471375, 0.9455453753471375, 0.9443844556808472, 0.9409440159797668, 0.9405701160430908, 0.9405701160430908, 0.9405701160430908, 0.9390439987182617, 0.9383149147033691, 0.9383149147033691, 0.9376362562179565, 0.9362574815750122, 0.9355851411819458, 0.9347826242446899, 0.9337990880012512, 0.9337990880012512, 0.9337990880012512, 0.9327822327613831, 0.9326989650726318, 0.9302013516426086, 0.9281617403030396, 0.9267781376838684, 0.9260298013687134, 0.9239885807037354, 0.9229961633682251, 0.9221229553222656, 0.9221229553222656, 0.9221228957176208, 0.9276336431503296, 0.9261983036994934, 0.9180846214294434, 0.9180846214294434, 0.9166984558105469, 0.9166984558105469, 0.9140905141830444, 0.910935640335083, 0.9102992415428162, 0.9095086455345154, 0.9095086455345154, 0.9081082940101624, 0.9081082344055176, 0.9080252051353455, 0.9007546901702881, 0.9007546901702881, 0.900283932685852, 0.8978642821311951, 0.8973818421363831, 0.8973645567893982, 0.8952858448028564, 0.8951714634895325, 0.8932595252990723, 0.8926784992218018, 0.8917925953865051, 0.8911327719688416, 0.8911327719688416, 0.889297366142273, 0.889297366142273, 0.8885403871536255, 0.8877782821655273, 0.8868441581726074, 0.886076033115387, 0.886076033115387, 0.886076033115387, 0.8858783841133118, 0.8856148719787598, 0.8850131034851074, 0.8838580846786499, 0.8831852674484253, 0.8823529481887817, 0.8823529481887817, 0.882352888584137, 0.8823527693748474, 0.8820098638534546, 0.8820098042488098, 0.8799553513526917, 0.8799552917480469, 0.8787761330604553, 0.8787760734558105, 0.8787760138511658, 0.9143006801605225, 0.9109804034233093, 0.9005004167556763, 0.8965515494346619, 0.8938527703285217, 0.8914849758148193, 0.8913376331329346, 0.8858184814453125, 0.8844476938247681, 0.8820529580116272, 0.8817846179008484, 0.8797064423561096, 0.8791322708129883, 0.8790159821510315, 0.8778663873672485, 0.8778663873672485, 0.8754208087921143, 0.8753762245178223, 0.8753761649131775, 0.8727859258651733, 0.872583270072937, 0.8719775676727295, 0.871812641620636, 0.8703169822692871, 0.8703169226646423, 0.8703169226646423, 0.8703169226646423, 0.8700221180915833, 0.868510365486145, 0.8671486377716064, 0.8671485781669617, 0.8671485185623169, 0.8656302690505981, 0.8630340099334717, 0.8630340099334717, 0.8630340099334717, 0.862079381942749, 0.8620690703392029, 0.8620690107345581, 0.8620690107345581, 0.8620688915252686, 0.8620688915252686, 0.8612780570983887, 0.860858142375946, 0.860858142375946, 0.8598551750183105, 0.859855055809021, 0.8596023917198181, 0.8596023917198181, 0.8596023321151733, 0.859177827835083, 0.9782609939575195, 0.9680039882659912, 0.9680039882659912, 0.9609864354133606, 0.9583727121353149, 0.9583727121353149, 0.9569289088249207, 0.9569289088249207, 0.9567298293113708, 0.9567298293113708, 0.953407347202301, 0.9530152082443237, 0.9517337083816528, 0.9515873789787292, 0.9497162103652954, 0.9497162103652954, 0.9486438632011414, 0.9486438632011414, 0.9486437439918518, 0.9480385780334473, 0.9473730325698853, 0.9457324147224426, 0.9457324147224426, 0.9455453753471375, 0.9455453753471375, 0.9443844556808472, 0.9409440159797668, 0.9405701160430908, 0.9405701160430908, 0.9405701160430908, 0.9390439987182617, 0.9383149147033691, 0.9383149147033691, 0.9376362562179565, 0.9362574815750122, 0.9355851411819458, 0.9347826242446899, 0.9337990880012512, 0.9337990880012512, 0.9337990880012512, 0.9327822327613831, 0.9326989650726318, 0.9302013516426086, 0.9281617403030396, 0.9267781376838684, 0.9260298013687134, 0.9239885807037354, 0.9229961633682251, 0.9221229553222656, 0.9221229553222656, 0.9221228957176208, 0.9789450764656067, 0.9789450168609619, 0.9780192971229553, 0.9780192971229553, 0.9780192971229553, 0.9780192971229553, 0.9780192971229553, 0.9780192971229553, 0.9680038690567017, 0.9680038690567017, 0.9680038690567017, 0.9613048434257507, 0.9591663479804993, 0.9591663479804993, 0.9591663479804993, 0.9591663479804993, 0.9567297697067261, 0.9555331468582153, 0.9555331468582153, 0.9542196989059448, 0.9533288478851318, 0.9527593851089478, 0.9517337083816528, 0.951624870300293, 0.9477927088737488, 0.9457324147224426, 0.9451120495796204, 0.9451120495796204, 0.9443126916885376, 0.944106936454773, 0.9430419206619263, 0.9399424195289612, 0.9383149147033691, 0.9363823533058167, 0.9363821744918823, 0.9363821744918823, 0.9363821744918823, 0.9363821148872375, 0.9363821148872375, 0.9337990880012512, 0.9337990283966064, 0.9337990283966064, 0.9337990283966064, 0.9337990283966064, 0.9337990283966064, 0.9337990283966064, 0.9337990283966064, 0.9337990283966064, 0.9337990283966064, 0.9337989091873169, 0.9335638880729675, 0.9999999403953552, 0.9999999403953552, 0.9999999403953552, 0.9999999403953552, 0.9999999403953552, 0.9999999403953552, 0.9670912623405457, 0.9642364382743835, 0.9636239409446716, 0.9629138708114624, 0.9629138708114624, 0.9629138708114624, 0.9622503519058228, 0.9622503519058228, 0.9622503519058228, 0.9547858834266663, 0.9547858834266663, 0.9547858834266663, 0.9547858834266663, 0.9547858834266663, 0.9547858834266663, 0.9524849653244019, 0.9467291831970215, 0.9467291831970215, 0.9449111819267273, 0.9449111223220825, 0.9444443583488464, 0.9444443583488464, 0.9444443583488464, 0.9444442987442017, 0.9432999491691589, 0.9428091049194336, 0.9428091049194336, 0.9428091049194336, 0.9428091049194336, 0.9428090453147888, 0.9428090453147888, 0.942808985710144, 0.942808985710144, 0.942808985710144, 0.942808985710144, 0.9389095902442932, 0.9375, 0.9337989687919617, 0.9333333373069763, 0.9301754832267761, 0.9297198057174683, 0.9296696186065674, 0.9291626214981079, 0.9287014007568359, 0.9279606342315674, 0.9109802842140198, 0.8989332318305969, 0.8970853090286255, 0.8970852494239807, 0.8952736854553223, 0.8914003372192383, 0.8885233402252197, 0.8871256113052368, 0.8856148719787598, 0.8852704763412476, 0.8807711601257324, 0.8807710409164429, 0.8783100247383118, 0.8767139911651611, 0.8728716373443604, 0.8728713989257812, 0.8672273755073547, 0.8662301301956177, 0.8662301301956177, 0.8662300705909729, 0.866025447845459, 0.866025447845459, 0.8660253882408142, 0.8630338907241821, 0.8614111542701721, 0.8608284592628479, 0.8608284592628479, 0.8608284592628479, 0.8606628775596619, 0.8606628775596619, 0.8606628775596619, 0.8593379259109497, 0.8589059114456177, 0.8589058518409729, 0.8581163287162781, 0.8573215007781982, 0.8573214411735535, 0.8573213815689087, 0.857159435749054, 0.8563488125801086, 0.8553988337516785, 0.8520563244819641, 0.8520128726959229, 0.8520128726959229, 0.8516885042190552, 0.8516883254051208, 0.8489526510238647, 0.8485281467437744, 0.8485281467437744, 0.8485281467437744, 0.8483677506446838, 0.9789450764656067, 0.9789450168609619, 0.9780192971229553, 0.9780192971229553, 0.9780192971229553, 0.9780192971229553, 0.9780192971229553, 0.9780192971229553, 0.9680038690567017, 0.9680038690567017, 0.9680038690567017, 0.9613048434257507, 0.9591663479804993, 0.9591663479804993, 0.9591663479804993, 0.9591663479804993, 0.9567297697067261, 0.9555331468582153, 0.9555331468582153, 0.9542196989059448, 0.9533288478851318, 0.9527593851089478, 0.9517337083816528, 0.951624870300293, 0.9477927088737488, 0.9457324147224426, 0.9451120495796204, 0.9451120495796204, 0.9443126916885376, 0.944106936454773, 0.9430419206619263, 0.9399424195289612, 0.9383149147033691, 0.9363823533058167, 0.9363821744918823, 0.9363821744918823, 0.9363821744918823, 0.9363821148872375, 0.9363821148872375, 0.9337990880012512, 0.9337990283966064, 0.9337990283966064, 0.9337990283966064, 0.9337990283966064, 0.9337990283966064, 0.9337990283966064, 0.9337990283966064, 0.9337990283966064, 0.9337990283966064, 0.9337989091873169, 0.9335638880729675, 0.9621404409408569, 0.9596789479255676, 0.9594031572341919, 0.9534626603126526, 0.9534626603126526, 0.953230619430542, 0.9526278972625732, 0.9493857622146606, 0.9489284157752991, 0.9489284157752991, 0.9489284157752991, 0.9489284157752991, 0.9489284157752991, 0.9486833810806274, 0.9470462203025818, 0.9463774561882019, 0.9436285495758057, 0.9429903626441956, 0.9429903626441956, 0.9408842325210571, 0.940019428730011, 0.9391486644744873, 0.93898606300354, 0.93898606300354, 0.93898606300354, 0.9389710426330566, 0.9389710426330566, 0.9354953169822693, 0.9354953169822693, 0.9354143738746643, 0.9339476823806763, 0.9339476227760315, 0.9339476227760315, 0.9336220622062683, 0.9333810806274414, 0.9311284422874451, 0.9295160174369812, 0.9293405413627625, 0.9282792210578918, 0.9282792210578918, 0.9276015758514404, 0.9276015162467957, 0.9276014566421509, 0.9276013970375061, 0.9276013970375061, 0.9273619055747986, 0.9273618459701538, 0.9270955920219421, 0.9250001907348633, 0.9249999523162842, 0.9237604737281799, 0.9765535593032837, 0.9750855565071106, 0.9749135375022888, 0.9749135375022888, 0.9749135375022888, 0.9723448157310486, 0.9723448157310486, 0.9707252979278564, 0.9673306941986084, 0.9673306941986084, 0.9624355435371399, 0.9609277248382568, 0.9607688784599304, 0.9607688784599304, 0.9607688784599304, 0.9575177431106567, 0.9575176239013672, 0.9553170204162598, 0.9542196393013, 0.9534240961074829, 0.9516485929489136, 0.9516485929489136, 0.951648473739624, 0.951648473739624, 0.951648473739624, 0.951648473739624, 0.951648473739624, 0.951648473739624, 0.9510343670845032, 0.9510343670845032, 0.9509329795837402, 0.9509329795837402, 0.9476128220558167, 0.9464572668075562, 0.9460287094116211, 0.9448347687721252, 0.943564236164093, 0.9429904222488403, 0.9429903626441956, 0.9421114921569824, 0.9415131211280823, 0.9415130615234375, 0.940772294998169, 0.9405400156974792, 0.938834547996521, 0.9366542100906372, 0.9366542100906372, 0.9366542100906372, 0.9341599345207214, 0.93412846326828, 0.9326426982879639, 0.9999999403953552, 0.9999999403953552, 0.9999999403953552, 0.9999999403953552, 0.9999999403953552, 0.9999999403953552, 0.9999999403953552, 0.9999999403953552, 0.9999999403953552, 0.9999999403953552, 0.9999999403953552, 0.9999999403953552, 0.9999999403953552, 0.9999999403953552, 0.9999999403953552, 0.9999999403953552, 0.9701426029205322, 0.9701424241065979, 0.9354143738746643, 0.9354143738746643, 0.9354143142700195, 0.9354143142700195, 0.9176629185676575, 0.9036961197853088, 0.8944271802902222, 0.8944271802902222, 0.8750000596046448, 0.875, 0.8728715777397156, 0.866025447845459, 0.8660253882408142, 0.8660253882408142, 0.8534917831420898, 0.8504199981689453, 0.8486684560775757, 0.8391464352607727, 0.8320503234863281, 0.8320502638816833, 0.8164964914321899, 0.8164964914321899, 0.8111070394515991, 0.8082903027534485, 0.8082239031791687, 0.8082237839698792, 0.8017838001251221, 0.8017838001251221, 0.8017838001251221, 0.8017838001251221, 0.8017837405204773, 0.8017837405204773, 0.8017836809158325, 0.9621404409408569, 0.9596789479255676, 0.9594031572341919, 0.9534626603126526, 0.9534626603126526, 0.953230619430542, 0.9526278972625732, 0.9493857622146606, 0.9489284157752991, 0.9489284157752991, 0.9489284157752991, 0.9489284157752991, 0.9489284157752991, 0.9486833810806274, 0.9470462203025818, 0.9463774561882019, 0.9436285495758057, 0.9429903626441956, 0.9429903626441956, 0.9408842325210571, 0.940019428730011, 0.9391486644744873, 0.93898606300354, 0.93898606300354, 0.93898606300354, 0.9389710426330566, 0.9389710426330566, 0.9354953169822693, 0.9354953169822693, 0.9354143738746643, 0.9339476823806763, 0.9339476227760315, 0.9339476227760315, 0.9336220622062683, 0.9333810806274414, 0.9311284422874451, 0.9295160174369812, 0.9293405413627625, 0.9282792210578918, 0.9282792210578918, 0.9276015758514404, 0.9276015162467957, 0.9276014566421509, 0.9276013970375061, 0.9276013970375061, 0.9273619055747986, 0.9273618459701538, 0.9270955920219421, 0.9250001907348633, 0.9249999523162842, 0.9237604737281799, 0.9271051287651062, 0.9233806133270264, 0.9233804941177368, 0.9233804941177368, 0.9223309755325317, 0.9185585975646973, 0.9150798916816711, 0.9091922044754028, 0.9086881279945374, 0.9086881279945374, 0.9068453907966614, 0.9068453907966614, 0.9068452715873718, 0.9068452715873718, 0.9057894349098206, 0.9057255983352661, 0.9057255983352661, 0.9036960601806641, 0.9036960601806641, 0.9035079479217529, 0.9027075171470642, 0.9004502892494202, 0.9000000357627869, 0.8992518782615662, 0.8981462121009827, 0.8977310657501221, 0.8977310061454773, 0.895978569984436, 0.895978569984436, 0.895978569984436, 0.8948380947113037, 0.8944272994995117, 0.8944271802902222, 0.8901636600494385, 0.8900490403175354, 0.889460027217865, 0.888956606388092, 0.8887084126472473, 0.8874119520187378, 0.8874119520187378, 0.8861470222473145, 0.8858796954154968, 0.8858795762062073, 0.885614812374115, 0.885614812374115, 0.8854377269744873, 0.8851409554481506, 0.8851409554481506, 0.8851409554481506, 0.8837879300117493, 0.8837879300117493, 0.9318912029266357, 0.9318910837173462, 0.9318910837173462, 0.9284142255783081, 0.9239885210990906, 0.9214063882827759, 0.9185317158699036, 0.9185315370559692, 0.9185315370559692, 0.9132660627365112, 0.912159264087677, 0.9121592044830322, 0.9082950353622437, 0.9074425101280212, 0.9045339822769165, 0.9036521315574646, 0.9014203548431396, 0.8994011878967285, 0.8994011878967285, 0.8994011878967285, 0.8994011282920837, 0.8983221054077148, 0.8971499800682068, 0.895622193813324, 0.8929462432861328, 0.8927095532417297, 0.892413318157196, 0.892413318157196, 0.8922685384750366, 0.8922685384750366, 0.8922685384750366, 0.8922268748283386, 0.8919914960861206, 0.8898983001708984, 0.8892276883125305, 0.8883363604545593, 0.8883363604545593, 0.8883363008499146, 0.8876252770423889, 0.8871638774871826, 0.8864052295684814, 0.8864051103591919, 0.8852586150169373, 0.8839600086212158, 0.8839600086212158, 0.8839508295059204, 0.8838562965393066, 0.8838561773300171, 0.8838561773300171, 0.8838561773300171, 0.8838561773300171, 1.0000001192092896, 1.0000001192092896, 1.0000001192092896, 1.0000001192092896, 1.0000001192092896, 1.0000001192092896, 1.0000001192092896, 1.0000001192092896, 1.0000001192092896, 1.0000001192092896, 1.0000001192092896, 1.0000001192092896, 1.0000001192092896, 1.0000001192092896, 1.0000001192092896, 1.0000001192092896, 1.0000001192092896, 1.0000001192092896, 1.0000001192092896, 1.0000001192092896, 1.0000001192092896, 1.0000001192092896, 1.0000001192092896, 1.0000001192092896, 1.0000001192092896, 1.0000001192092896, 1.0000001192092896, 1.0000001192092896, 1.0000001192092896, 0.9819805026054382, 0.9701425433158875, 0.9594032168388367, 0.936329185962677, 0.9354144930839539, 0.9354143738746643, 0.9354143142700195, 0.9191451072692871, 0.9176627993583679, 0.9036960005760193, 0.884537935256958, 0.8845378756523132, 0.875, 0.8749999403953552, 0.866025447845459, 0.866025447845459, 0.8660253882408142, 0.8486683368682861, 0.8486683368682861, 0.8387421369552612, 0.8340575695037842, 0.8322396278381348, 0.9504967927932739, 0.9495629072189331, 0.9428291916847229, 0.9428290724754333, 0.9428290724754333, 0.9428290724754333, 0.9415243268013, 0.9306780099868774, 0.9306631088256836, 0.9304841756820679, 0.9304841756820679, 0.9304841160774231, 0.9304841160774231, 0.9243422150611877, 0.9210566282272339, 0.9210566282272339, 0.9187795519828796, 0.9186932444572449, 0.9173648953437805, 0.9173648953437805, 0.9173648357391357, 0.9163297414779663, 0.9163297414779663, 0.9154753684997559, 0.9150522351264954, 0.9150521755218506, 0.9150521755218506, 0.9143939018249512, 0.9143938422203064, 0.9141044020652771, 0.9137172698974609, 0.9137172698974609, 0.9121593832969666, 0.9121593832969666, 0.9121593832969666, 0.9121593832969666, 0.9121593236923218, 0.912159264087677, 0.9121034741401672, 0.9121034741401672, 0.9116846323013306, 0.9116846323013306, 0.9116846323013306, 0.9101129770278931, 0.9085993766784668, 0.9073387384414673, 0.9053541421890259, 0.9053541421890259, 0.9053541421890259, 0.9053541421890259, 0.9053540825843811, 0.9746794104576111, 0.9550230503082275, 0.9534626603126526, 0.9486833214759827, 0.9486832618713379, 0.9467292428016663, 0.9449112415313721, 0.9341987371444702, 0.9316951036453247, 0.9316951036453247, 0.9316951036453247, 0.9316949844360352, 0.9316949844360352, 0.9315561652183533, 0.9302605390548706, 0.9296696186065674, 0.9237022399902344, 0.9237022399902344, 0.9237021803855896, 0.9237021803855896, 0.9237021803855896, 0.9216353297233582, 0.9209110736846924, 0.9203581213951111, 0.9203581213951111, 0.9203580021858215, 0.9190183281898499, 0.9170605540275574, 0.9141740798950195, 0.9135003089904785, 0.9135003089904785, 0.9135003089904785, 0.9135002493858337, 0.9135002493858337, 0.9132593274116516, 0.9128710627555847, 0.9101698398590088, 0.910169780254364, 0.9091923832893372, 0.9091549515724182, 0.9091548323631287, 0.9079594612121582, 0.9079594016075134, 0.9071149230003357, 0.9071148037910461, 0.9071148037910461, 0.9071146845817566, 0.9068453907966614, 0.9068452715873718, 0.9057894349098206, 0.9057894349098206, 0.9574270844459534, 0.9486833214759827, 0.9449111223220825, 0.9432422518730164, 0.9428090453147888, 0.9415961503982544, 0.9381941556930542, 0.9359710216522217, 0.9338591694831848, 0.9298987984657288, 0.9244734644889832, 0.923869788646698, 0.922330915927887, 0.9185585975646973, 0.9185585379600525, 0.9141380190849304, 0.9141379594802856, 0.9141378998756409, 0.9133461713790894, 0.9131711721420288, 0.9128710031509399, 0.9128710031509399, 0.9128708243370056, 0.9128708243370056, 0.9128707647323608, 0.9128707647323608, 0.9128707647323608, 0.9128707647323608, 0.9128707647323608, 0.9128707647323608, 0.9128707647323608, 0.9128707647323608, 0.911465585231781, 0.9112956523895264, 0.9112955927848816, 0.9112955927848816, 0.9097175598144531, 0.9097175598144531, 0.9097175002098083, 0.9097175002098083, 0.9082950949668884, 0.9058216214179993, 0.9058215618133545, 0.9058215618133545, 0.9056543111801147, 0.9036961793899536, 0.9036961793899536, 0.9036961197853088, 0.9035253524780273, 0.9030570983886719, 0.9027305841445923, 0.8682430982589722, 0.8362420201301575, 0.827837347984314, 0.827837347984314, 0.8006407618522644, 0.8006407618522644, 0.8006407618522644, 0.7893521785736084, 0.7893521785736084, 0.7692307829856873, 0.7692307233810425, 0.7627128958702087, 0.762712836265564, 0.7627127766609192, 0.7614996433258057, 0.7526178359985352, 0.7526177763938904, 0.7518094182014465, 0.751809298992157, 0.7472646832466125, 0.7412493824958801, 0.7412493228912354, 0.7412493228912354, 0.7412493228912354, 0.7399400472640991, 0.7354354858398438, 0.735435426235199, 0.735435426235199, 0.735435426235199, 0.7282020449638367, 0.7275327444076538, 0.7262731194496155, 0.7242067456245422, 0.723842442035675, 0.7211102843284607, 0.7211102843284607, 0.7211102247238159, 0.7205767035484314, 0.7205767035484314, 0.7205766439437866, 0.7205766439437866, 0.7198740243911743, 0.7198740243911743, 0.7190924882888794, 0.7161149382591248, 0.71611487865448, 0.71611487865448, 0.7161148190498352, 0.7141501903533936, 0.7095748782157898, 0.7071068286895752, 0.9565218091011047, 0.9565218091011047, 0.9498990178108215, 0.9457324147224426, 0.9451747536659241, 0.9443699717521667, 0.9437401294708252, 0.9383149147033691, 0.9383147358894348, 0.9363822340965271, 0.9348927736282349, 0.933799147605896, 0.9337990880012512, 0.9335638880729675, 0.932990312576294, 0.9325048923492432, 0.9325048923492432, 0.9325048923492432, 0.9325047731399536, 0.9325047731399536, 0.9308957457542419, 0.9292837977409363, 0.9292837977409363, 0.9292837977409363, 0.9292836785316467, 0.9270650148391724, 0.9269802570343018, 0.9267345666885376, 0.9255481362342834, 0.9231327176094055, 0.9231326580047607, 0.9229581952095032, 0.9223132729530334, 0.9221463799476624, 0.9215123057365417, 0.921512246131897, 0.9215121865272522, 0.9194622039794922, 0.9187147617340088, 0.9163795709609985, 0.915249228477478, 0.9149285554885864, 0.9149284958839417, 0.9149284958839417, 0.9138713479042053, 0.9136644601821899, 0.9136644005775452, 0.9132887721061707, 0.9132886528968811, 0.9132886528968811, 0.9132886528968811, 0.9503288865089417, 0.9503288865089417, 0.9503288865089417, 0.9486831426620483, 0.9486831426620483, 0.9486831426620483, 0.9447656869888306, 0.94378262758255, 0.9395321011543274, 0.9315884113311768, 0.9260128736495972, 0.9252128005027771, 0.9237022399902344, 0.9231326580047607, 0.9225311279296875, 0.9223780632019043, 0.921954333782196, 0.9203580021858215, 0.9203579425811768, 0.9203579425811768, 0.9198336005210876, 0.918558657169342, 0.9185585975646973, 0.9170604348182678, 0.9149489998817444, 0.9130464792251587, 0.9128708839416504, 0.9128708839416504, 0.9103990793228149, 0.9103990793228149, 0.9103990793228149, 0.9102590680122375, 0.9091547131538391, 0.9091547131538391, 0.9091547131538391, 0.9091547131538391, 0.9091547131538391, 0.9091547131538391, 0.9085407853126526, 0.9076087474822998, 0.9073202610015869, 0.9057255983352661, 0.9054061770439148, 0.9038256406784058, 0.9036961197853088, 0.9036961197853088, 0.9036961197853088, 0.9036961197853088, 0.9036216735839844, 0.9033378958702087, 0.902707576751709, 0.9727043509483337, 0.9727043509483337, 0.9723233580589294, 0.970725417137146, 0.970725417137146, 0.970725417137146, 0.970725417137146, 0.970725417137146, 0.970725417137146, 0.9707253575325012, 0.9673722386360168, 0.9673722386360168, 0.9626694321632385, 0.961269199848175, 0.961269199848175, 0.960845947265625, 0.9602954387664795, 0.9597788453102112, 0.9572300314903259, 0.9569488763809204, 0.9569320678710938, 0.9569320678710938, 0.9569320678710938, 0.956932008266449, 0.956932008266449, 0.9522346258163452, 0.9522346258163452, 0.9522346258163452, 0.9488521814346313, 0.9473310112953186, 0.9456576108932495, 0.9451169371604919, 0.9451168179512024, 0.9447561502456665, 0.9447560906410217, 0.9443396329879761, 0.9443395733833313, 0.9429905414581299, 0.9429903626441956, 0.9428845643997192, 0.9428845643997192, 0.9428845643997192, 0.9426639676094055, 0.9426639676094055, 0.9413574934005737, 0.9413573741912842, 0.9413573145866394, 0.9413573145866394, 0.9409593939781189, 0.9409592747688293, 0.9409592747688293, 0.9526609778404236, 0.9165151715278625, 0.9165151715278625, 0.9163419604301453, 0.9163419604301453, 0.9116846919059753, 0.9091373085975647, 0.906424880027771, 0.9047619104385376, 0.9014979004859924, 0.9011272192001343, 0.9011272192001343, 0.9011271595954895, 0.9008854031562805, 0.9008853435516357, 0.8997353911399841, 0.8987171053886414, 0.898177444934845, 0.8970852494239807, 0.8970851898193359, 0.8970851898193359, 0.8970851898193359, 0.893197774887085, 0.892142653465271, 0.8914849758148193, 0.8914849758148193, 0.8914848566055298, 0.8908708095550537, 0.8908707499504089, 0.888255774974823, 0.8882347941398621, 0.8872442245483398, 0.8860775828361511, 0.8849904537200928, 0.8839601874351501, 0.8839601278305054, 0.8819171190261841, 0.8813610076904297, 0.8809523582458496, 0.8784621357917786, 0.8783100247383118, 0.8765009641647339, 0.8760229349136353, 0.8754655718803406, 0.8754655122756958, 0.8754655122756958, 0.8748177289962769, 0.8743856549263, 0.8728716373443604, 0.8728715777397156, 0.8728715777397156, 0.9689627885818481, 0.9279606342315674, 0.9244224429130554, 0.9168188571929932, 0.9128708839416504, 0.9026708602905273, 0.8944272398948669, 0.8944271802902222, 0.8944271206855774, 0.8898887038230896, 0.889297366142273, 0.8892973065376282, 0.8890010714530945, 0.8890008926391602, 0.8846517205238342, 0.8838834762573242, 0.8824419379234314, 0.8819171786308289, 0.8819171190261841, 0.8819169998168945, 0.8767945766448975, 0.875465452671051, 0.8751899600028992, 0.8743856549263, 0.8743856549263, 0.8720983862876892, 0.8705716133117676, 0.8703883290290833, 0.8703882098197937, 0.8688100576400757, 0.8665782809257507, 0.8660255074501038, 0.866025447845459, 0.866025447845459, 0.8660253882408142, 0.8651809096336365, 0.8651809096336365, 0.8651809096336365, 0.8647909164428711, 0.8618574738502502, 0.8618574738502502, 0.8606629967689514, 0.8606629371643066, 0.8606629371643066, 0.8591777682304382, 0.8589557409286499, 0.8581278920173645, 0.8542821407318115, 0.8528028726577759, 0.8520128726959229, 0.8501310348510742, 1.0, 0.9647637605667114, 0.9534626603126526, 0.9534626007080078, 0.9438797831535339, 0.9128710627555847, 0.9128710627555847, 0.9128710031509399, 0.9128709435462952, 0.9128708839416504, 0.9128708839416504, 0.9087388515472412, 0.9036960005760193, 0.9036960005760193, 0.8999999761581421, 0.8999999165534973, 0.8944271802902222, 0.8854377865791321, 0.8854377269744873, 0.8854377269744873, 0.8808304071426392, 0.8807709217071533, 0.8770580291748047, 0.8764598965644836, 0.8720816373825073, 0.8705715537071228, 0.870571494102478, 0.8696264028549194, 0.8696262836456299, 0.8696262240409851, 0.8552360534667969, 0.851942777633667, 0.8500000238418579, 0.8451542258262634, 0.8451542258262634, 0.8451541662216187, 0.8451541662216187, 0.8391464352607727, 0.8391464352607727, 0.8385255336761475, 0.8385254740715027, 0.8302780985832214, 0.82807856798172, 0.8221921920776367, 0.822108268737793, 0.8215838074684143, 0.8215838074684143, 0.816496729850769, 0.8164965510368347, 0.8142564296722412, 0.809039831161499, 0.9660918116569519, 0.9578414559364319, 0.9443003535270691, 0.9385907649993896, 0.9330596923828125, 0.9252418875694275, 0.9205665588378906, 0.9205664992332458, 0.9150180220603943, 0.9145520925521851, 0.9132660627365112, 0.9121593236923218, 0.9116847515106201, 0.9100316166877747, 0.9091372489929199, 0.9091055393218994, 0.9047620296478271, 0.9014411568641663, 0.9011271595954895, 0.9011271595954895, 0.9011270403862, 0.9002982974052429, 0.898177444934845, 0.8970852494239807, 0.8970851898193359, 0.8970851302146912, 0.893197774887085, 0.8908708691596985, 0.8908707499504089, 0.8890256881713867, 0.8882558941841125, 0.8882347941398621, 0.8839600682258606, 0.883959949016571, 0.8827131986618042, 0.8819171190261841, 0.8819170594215393, 0.8813608288764954, 0.879765510559082, 0.878462016582489, 0.8775798678398132, 0.8765011429786682, 0.8765009045600891, 0.8765009045600891, 0.8754656314849854, 0.875465452671051, 0.8748179078102112, 0.8748178482055664, 0.8748177886009216, 0.8748177289962769, 0.8743856549263, 0.9999999403953552, 0.9999999403953552, 0.9999999403953552, 0.9999999403953552, 0.9999999403953552, 0.9999999403953552, 0.9999999403953552, 0.9999999403953552, 0.9999999403953552, 0.9999999403953552, 0.9999999403953552, 0.9999999403953552, 0.9999999403953552, 0.9999999403953552, 0.9999999403953552, 0.9999999403953552, 0.9999999403953552, 0.9960237741470337, 0.9918364882469177, 0.9918364882469177, 0.985527515411377, 0.985527515411377, 0.985527515411377, 0.9855273962020874, 0.9855273962020874, 0.984731912612915, 0.984731912612915, 0.984731912612915, 0.9829463958740234, 0.9805806875228882, 0.9801960587501526, 0.9801960587501526, 0.9801959991455078, 0.9799578189849854, 0.9799118638038635, 0.9797958731651306, 0.9797958731651306, 0.9797958731651306, 0.9789450764656067, 0.9771397709846497, 0.9771397709846497, 0.9737290143966675, 0.9737288951873779, 0.9737288951873779, 0.9718254208564758, 0.9718254208564758, 0.9707252979278564, 0.9695894718170166, 0.9684746861457825, 0.9684746861457825, 0.9684746861457825, 0.9999999403953552, 0.9999999403953552, 0.9999999403953552, 0.9999999403953552, 0.9999999403953552, 0.9999999403953552, 0.9999999403953552, 0.9999999403953552, 0.9999999403953552, 0.9999999403953552, 0.9999999403953552, 0.9999999403953552, 0.9999999403953552, 0.9999999403953552, 0.9999999403953552, 0.9999999403953552, 0.9999999403953552, 0.9960237741470337, 0.9918364882469177, 0.9918364882469177, 0.985527515411377, 0.985527515411377, 0.985527515411377, 0.9855273962020874, 0.9855273962020874, 0.984731912612915, 0.984731912612915, 0.984731912612915, 0.9829463958740234, 0.9805806875228882, 0.9801960587501526, 0.9801960587501526, 0.9801959991455078, 0.9799578189849854, 0.9799118638038635, 0.9797958731651306, 0.9797958731651306, 0.9797958731651306, 0.9789450764656067, 0.9771397709846497, 0.9771397709846497, 0.9737290143966675, 0.9737288951873779, 0.9737288951873779, 0.9718254208564758, 0.9718254208564758, 0.9707252979278564, 0.9695894718170166, 0.9684746861457825, 0.9684746861457825, 0.9684746861457825, 0.833333432674408, 0.833333432674408, 0.8215838670730591, 0.8215838670730591, 0.8198915719985962, 0.8179129362106323, 0.8164965510368347, 0.8006407618522644, 0.799305260181427, 0.7947194576263428, 0.7947194576263428, 0.794719398021698, 0.7938566207885742, 0.7938566207885742, 0.7905694246292114, 0.7825080752372742, 0.7777777910232544, 0.7745967507362366, 0.774596631526947, 0.7715166807174683, 0.7715166211128235, 0.766032338142395, 0.7637625932693481, 0.7593263387680054, 0.7593262791633606, 0.7505553364753723, 0.7504788041114807, 0.7500001192092896, 0.7500001192092896, 0.7500001192092896, 0.75, 0.7499999403953552, 0.7492685914039612, 0.7426106929779053, 0.7395739555358887, 0.7385489344596863, 0.7385489344596863, 0.7385489344596863, 0.7378647923469543, 0.7378647923469543, 0.7378647327423096, 0.7365695834159851, 0.7359800934791565, 0.7359800934791565, 0.7359800934791565, 0.7359800338745117, 0.7332355380058289, 0.73321932554245, 0.7329409718513489, 0.7319250106811523, 0.7315635681152344, 0.9999999403953552, 0.9999999403953552, 0.9999999403953552, 0.9999999403953552, 0.9999999403953552, 0.9999999403953552, 0.9999999403953552, 0.9999999403953552, 0.9999999403953552, 0.9999999403953552, 0.9999999403953552, 0.9999999403953552, 0.9999999403953552, 0.9999999403953552, 0.9999999403953552, 0.9999999403953552, 0.9999999403953552, 0.9960237741470337, 0.9918364882469177, 0.9918364882469177, 0.985527515411377, 0.985527515411377, 0.985527515411377, 0.9855273962020874, 0.9855273962020874, 0.984731912612915, 0.984731912612915, 0.984731912612915, 0.9829463958740234, 0.9805806875228882, 0.9801960587501526, 0.9801960587501526, 0.9801959991455078, 0.9799578189849854, 0.9799118638038635, 0.9797958731651306, 0.9797958731651306, 0.9797958731651306, 0.9789450764656067, 0.9771397709846497, 0.9771397709846497, 0.9737290143966675, 0.9737288951873779, 0.9737288951873779, 0.9718254208564758, 0.9718254208564758, 0.9707252979278564, 0.9695894718170166, 0.9684746861457825, 0.9684746861457825, 0.9684746861457825, 0.9770085215568542, 0.9770084619522095, 0.9770084619522095, 0.9770084619522095, 0.9601587057113647, 0.9601587057113647, 0.9601587057113647, 0.9601587057113647, 0.9555332660675049, 0.9555332660675049, 0.9485040903091431, 0.9430896639823914, 0.9398272633552551, 0.9389158487319946, 0.9381027221679688, 0.9354143738746643, 0.9354143142700195, 0.9320070743560791, 0.9274260997772217, 0.9274260401725769, 0.9239132404327393, 0.9211324453353882, 0.9185587763786316, 0.9169093370437622, 0.9169092774391174, 0.9165151715278625, 0.9165151715278625, 0.9153028726577759, 0.9150180220603943, 0.9145521521568298, 0.9134141802787781, 0.9124212265014648, 0.9100316166877747, 0.9100316166877747, 0.9100315570831299, 0.9100315570831299, 0.9100314974784851, 0.909105658531189, 0.907264769077301, 0.907264769077301, 0.9072646498680115, 0.9072646498680115, 0.9064250588417053, 0.9064249396324158, 0.901498019695282, 0.901498019695282, 0.901498019695282, 0.9014410972595215, 0.9011272192001343, 0.9008854031562805, 0.8997355103492737, 0.9240617156028748, 0.9216353893280029, 0.9216353893280029, 0.9216353893280029, 0.9216353893280029, 0.9146592020988464, 0.9146592020988464, 0.9146592020988464, 0.9146592020988464, 0.9146592020988464, 0.9146592020988464, 0.9146592020988464, 0.9146590828895569, 0.9102992415428162, 0.9102992415428162, 0.9095087647438049, 0.9095086455345154, 0.90748530626297, 0.9074851870536804, 0.8911328315734863, 0.8911328315734863, 0.8911328315734863, 0.8868440389633179, 0.8856148719787598, 0.8830063343048096, 0.8829944133758545, 0.8823530673980713, 0.8823530077934265, 0.8820460438728333, 0.8790491819381714, 0.8790491223335266, 0.8790491223335266, 0.8790490627288818, 0.8790490627288818, 0.8790490627288818, 0.8767140507698059, 0.8767140507698059, 0.8767140507698059, 0.8767139315605164, 0.875516951084137, 0.8751751184463501, 0.8751751184463501, 0.8751751184463501, 0.8744745850563049, 0.8744745850563049, 0.8734848499298096, 0.8732724785804749, 0.8731282353401184, 0.8731282353401184, 0.8731282353401184, 0.8724024295806885, 0.8660252690315247, 0.8660252690315247, 0.8552359938621521, 0.8552359938621521, 0.8552359938621521, 0.8552359938621521, 0.8552359938621521, 0.8552358746528625, 0.8552358746528625, 0.8528028130531311, 0.8500000834465027, 0.8332381844520569, 0.8320503234863281, 0.8320502638816833, 0.8315218687057495, 0.8221922516822815, 0.8221921920776367, 0.8221921920776367, 0.8170593976974487, 0.8164965510368347, 0.8164964914321899, 0.8111071586608887, 0.8082904815673828, 0.8049845099449158, 0.8049845099449158, 0.8049845099449158, 0.8023775815963745, 0.8017838001251221, 0.8017837405204773, 0.8000000715255737, 0.8000000715255737, 0.8000000715255737, 0.800000011920929, 0.7999999523162842, 0.7999999523162842, 0.7999999523162842, 0.7999999523162842, 0.7999999523162842, 0.7999999523162842, 0.7999999523162842, 0.7999999523162842, 0.7999999523162842, 0.7999999523162842, 0.7999999523162842, 0.7999999523162842, 0.7999999523162842, 0.7999999523162842, 0.7999999523162842, 0.7999999523162842, 0.7999999523162842, 0.7999999523162842, 0.9770085215568542, 0.9770084619522095, 0.9770084619522095, 0.9770084619522095, 0.9601587057113647, 0.9601587057113647, 0.9601587057113647, 0.9601587057113647, 0.9555332660675049, 0.9555332660675049, 0.9485040903091431, 0.9430896639823914, 0.9398272633552551, 0.9389158487319946, 0.9381027221679688, 0.9354143738746643, 0.9354143142700195, 0.9320070743560791, 0.9274260997772217, 0.9274260401725769, 0.9239132404327393, 0.9211324453353882, 0.9185587763786316, 0.9169093370437622, 0.9169092774391174, 0.9165151715278625, 0.9165151715278625, 0.9153028726577759, 0.9150180220603943, 0.9145521521568298, 0.9134141802787781, 0.9124212265014648, 0.9100316166877747, 0.9100316166877747, 0.9100315570831299, 0.9100315570831299, 0.9100314974784851, 0.909105658531189, 0.907264769077301, 0.907264769077301, 0.9072646498680115, 0.9072646498680115, 0.9064250588417053, 0.9064249396324158, 0.901498019695282, 0.901498019695282, 0.901498019695282, 0.9014410972595215, 0.9011272192001343, 0.9008854031562805, 0.8997355103492737, 0.9546687006950378, 0.9519716501235962, 0.9519716501235962, 0.9422228336334229, 0.9354143142700195, 0.928085446357727, 0.9274259805679321, 0.9263021945953369, 0.9263020753860474, 0.925819993019104, 0.9228395819664001, 0.9207508563995361, 0.9207507967948914, 0.9207369089126587, 0.9192388653755188, 0.919238805770874, 0.9192387461662292, 0.9191450476646423, 0.9191450476646423, 0.9181763529777527, 0.9176629781723022, 0.9166666269302368, 0.916578471660614, 0.9148908257484436, 0.913907527923584, 0.9133462309837341, 0.9133462309837341, 0.9133462309837341, 0.9133462309837341, 0.9128709435462952, 0.9128708839416504, 0.9124955534934998, 0.9124954342842102, 0.9095086455345154, 0.9095085859298706, 0.9095085263252258, 0.9091373085975647, 0.907037079334259, 0.9068453907966614, 0.9065508842468262, 0.9062501192092896, 0.9061029553413391, 0.905821681022644, 0.9052647948265076, 0.9052647948265076, 0.9036961793899536, 0.9036960601806641, 0.9030818343162537, 0.9021098017692566, 0.9021097421646118, 0.902109682559967, 0.9117647409439087, 0.9115638136863708, 0.9106417894363403, 0.9106415510177612, 0.9101822376251221, 0.9101821184158325, 0.9101821184158325, 0.9095086455345154, 0.9081082940101624, 0.90748530626297, 0.906869649887085, 0.9068695902824402, 0.9049034118652344, 0.903876781463623, 0.9003751873970032, 0.8997353911399841, 0.8990277647972107, 0.8986451625823975, 0.8986451029777527, 0.8978642821311951, 0.897364616394043, 0.895808756351471, 0.895622193813324, 0.8951713442802429, 0.8932596445083618, 0.8932595252990723, 0.8932595252990723, 0.8930886387825012, 0.8930885791778564, 0.8917927742004395, 0.8917015790939331, 0.8917015790939331, 0.8917015790939331, 0.8917015790939331, 0.8902637958526611, 0.8902637362480164, 0.8902637362480164, 0.8901260495185852, 0.889297366142273, 0.8885403871536255, 0.8885403871536255, 0.8880651593208313, 0.8877781629562378, 0.8868440985679626, 0.8868439793586731, 0.8860761523246765, 0.886076033115387, 0.8860759735107422, 0.8860759735107422, 0.8860759735107422, 0.8860759735107422, 0.916515052318573, 0.8954430222511292, 0.8759956359863281, 0.8082903027534485, 0.803326427936554, 0.790263295173645, 0.7855843305587769, 0.7800135016441345, 0.7794228196144104, 0.7786628603935242, 0.7778174877166748, 0.776580274105072, 0.776580274105072, 0.7761140465736389, 0.7745967507362366, 0.774596631526947, 0.77247154712677, 0.7715167999267578, 0.7666981816291809, 0.7602631449699402, 0.7602631449699402, 0.7559289932250977, 0.7543423771858215, 0.75424724817276, 0.7542471885681152, 0.7521397471427917, 0.7506518363952637, 0.7500000596046448, 0.7483314871788025, 0.7483314871788025, 0.7483314275741577, 0.7462184429168701, 0.742781400680542, 0.742462158203125, 0.742462158203125, 0.7365894317626953, 0.7365893721580505, 0.734130322933197, 0.7341302633285522, 0.7313103675842285, 0.7276068925857544, 0.7276068329811096, 0.7248823642730713, 0.7233555316925049, 0.7233555316925049, 0.7229568958282471, 0.7184212803840637, 0.7183993458747864, 0.7155417799949646, 0.7155417203903198, 0.7155417203903198, 0.9667962193489075, 0.9587094783782959, 0.9518173336982727, 0.9518173336982727, 0.9496715068817139, 0.9476781487464905, 0.9471736550331116, 0.9428473114967346, 0.942082405090332, 0.9416364431381226, 0.9364181756973267, 0.934685230255127, 0.9346849918365479, 0.9341985583305359, 0.9338145852088928, 0.933722198009491, 0.932873547077179, 0.9322980642318726, 0.9320953488349915, 0.9318182468414307, 0.9318180680274963, 0.9307578802108765, 0.9307578206062317, 0.9304842948913574, 0.9304841160774231, 0.9303739666938782, 0.9303739666938782, 0.9296600222587585, 0.9296600222587585, 0.9296600222587585, 0.9296599626541138, 0.928840696811676, 0.928840696811676, 0.9280322194099426, 0.9277309775352478, 0.9266963601112366, 0.9266963601112366, 0.926696240901947, 0.9260705709457397, 0.9255912899971008, 0.9238226413726807, 0.9238226413726807, 0.9238226413726807, 0.923186182975769, 0.9231861233711243, 0.9231860637664795, 0.922611653804779, 0.9217648506164551, 0.9216805100440979, 0.9211323261260986, 0.9206017255783081, 0.8351914286613464, 0.8277381658554077, 0.8275159001350403, 0.8189229965209961, 0.8188812732696533, 0.816278874874115, 0.816025972366333, 0.8153743743896484, 0.8116794228553772, 0.8100926280021667, 0.8085427284240723, 0.8085427284240723, 0.808121919631958, 0.8076453804969788, 0.8071417212486267, 0.8067792057991028, 0.8045383095741272, 0.8036973476409912, 0.8028965592384338, 0.8028965592384338, 0.8017836809158325, 0.8017836809158325, 0.8017836809158325, 0.8017836809158325, 0.8017836213111877, 0.8017836213111877, 0.801783561706543, 0.8001322150230408, 0.8001322150230408, 0.798595666885376, 0.7977240681648254, 0.7977240681648254, 0.7977240085601807, 0.7977239489555359, 0.7970811724662781, 0.7970811128616333, 0.7968190908432007, 0.7968190312385559, 0.7955922484397888, 0.7940666675567627, 0.7940666675567627, 0.7940666675567627, 0.7937254309654236, 0.7937254309654236, 0.7935753464698792, 0.7935753464698792, 0.791888415813446, 0.7909114956855774, 0.7908746600151062, 0.7905692458152771, 0.7899531722068787, 0.8744152188301086, 0.8649204969406128, 0.8640987277030945, 0.8581365942955017, 0.8556889891624451, 0.8556889891624451, 0.8521978259086609, 0.8521978259086609, 0.8521978259086609, 0.8475794196128845, 0.8475793600082397, 0.8467803597450256, 0.8467803597450256, 0.8451542854309082, 0.8451542854309082, 0.8451542258262634, 0.8447368144989014, 0.8447368144989014, 0.8447367548942566, 0.8432741165161133, 0.8432739973068237, 0.843273937702179, 0.843273937702179, 0.843273937702179, 0.843273937702179, 0.843273937702179, 0.843273937702179, 0.843273937702179, 0.843273937702179, 0.843273937702179, 0.843273937702179, 0.843273937702179, 0.843273937702179, 0.843273937702179, 0.843273937702179, 0.843273937702179, 0.843273937702179, 0.843273937702179, 0.843273937702179, 0.843273937702179, 0.8424397706985474, 0.8413341641426086, 0.8413341641426086, 0.8392543792724609, 0.8378850817680359, 0.8377078771591187, 0.8371579051017761, 0.8366600275039673, 0.8366600275039673, 0.8347300291061401, 0.8344919681549072, 0.9999998807907104, 0.9354143738746643, 0.9354143738746643, 0.9354143738746643, 0.9354143738746643, 0.9354143738746643, 0.9354143738746643, 0.9354143738746643, 0.9354143738746643, 0.9354143738746643, 0.9354143738746643, 0.9354143738746643, 0.9354143738746643, 0.9354143738746643, 0.9354143738746643, 0.9354143738746643, 0.9354143738746643, 0.9354143738746643, 0.9354143142700195, 0.9331389665603638, 0.9258201122283936, 0.9258200526237488, 0.9258200526237488, 0.9197090268135071, 0.9074852466583252, 0.9074851870536804, 0.8964214324951172, 0.8894991874694824, 0.8894991278648376, 0.8728715181350708, 0.8728715181350708, 0.868598997592926, 0.867110013961792, 0.8660253882408142, 0.8571429252624512, 0.8571428656578064, 0.8571428060531616, 0.8571427464485168, 0.8571427464485168, 0.8571427464485168, 0.8571427464485168, 0.8552359342575073, 0.8552358746528625, 0.8451541662216187, 0.8451541662216187, 0.8451541662216187, 0.8366600275039673, 0.8280786275863647, 0.8160261511802673, 0.8160260319709778, 0.8081220984458923, 0.8351914286613464, 0.8277381658554077, 0.8275159001350403, 0.8189229965209961, 0.8188812732696533, 0.816278874874115, 0.816025972366333, 0.8153743743896484, 0.8116794228553772, 0.8100926280021667, 0.8085427284240723, 0.8085427284240723, 0.808121919631958, 0.8076453804969788, 0.8071417212486267, 0.8067792057991028, 0.8045383095741272, 0.8036973476409912, 0.8028965592384338, 0.8028965592384338, 0.8017836809158325, 0.8017836809158325, 0.8017836809158325, 0.8017836809158325, 0.8017836213111877, 0.8017836213111877, 0.801783561706543, 0.8001322150230408, 0.8001322150230408, 0.798595666885376, 0.7977240681648254, 0.7977240681648254, 0.7977240085601807, 0.7977239489555359, 0.7970811724662781, 0.7970811128616333, 0.7968190908432007, 0.7968190312385559, 0.7955922484397888, 0.7940666675567627, 0.7940666675567627, 0.7940666675567627, 0.7937254309654236, 0.7937254309654236, 0.7935753464698792, 0.7935753464698792, 0.791888415813446, 0.7909114956855774, 0.7908746600151062, 0.7905692458152771, 0.7899531722068787], \"xaxis\": \"x\", \"yaxis\": \"y\"}],\n",
              "                        {\"barmode\": \"relative\", \"legend\": {\"tracegroupgap\": 0}, \"template\": {\"data\": {\"bar\": [{\"error_x\": {\"color\": \"#2a3f5f\"}, \"error_y\": {\"color\": \"#2a3f5f\"}, \"marker\": {\"line\": {\"color\": \"#E5ECF6\", \"width\": 0.5}}, \"type\": \"bar\"}], \"barpolar\": [{\"marker\": {\"line\": {\"color\": \"#E5ECF6\", \"width\": 0.5}}, \"type\": \"barpolar\"}], \"carpet\": [{\"aaxis\": {\"endlinecolor\": \"#2a3f5f\", \"gridcolor\": \"white\", \"linecolor\": \"white\", \"minorgridcolor\": \"white\", \"startlinecolor\": \"#2a3f5f\"}, \"baxis\": {\"endlinecolor\": \"#2a3f5f\", \"gridcolor\": \"white\", \"linecolor\": \"white\", \"minorgridcolor\": \"white\", \"startlinecolor\": \"#2a3f5f\"}, \"type\": \"carpet\"}], \"choropleth\": [{\"colorbar\": {\"outlinewidth\": 0, \"ticks\": \"\"}, \"type\": \"choropleth\"}], \"contour\": [{\"colorbar\": {\"outlinewidth\": 0, \"ticks\": \"\"}, \"colorscale\": [[0.0, \"#0d0887\"], [0.1111111111111111, \"#46039f\"], [0.2222222222222222, \"#7201a8\"], [0.3333333333333333, \"#9c179e\"], [0.4444444444444444, \"#bd3786\"], [0.5555555555555556, \"#d8576b\"], [0.6666666666666666, \"#ed7953\"], [0.7777777777777778, \"#fb9f3a\"], [0.8888888888888888, \"#fdca26\"], [1.0, \"#f0f921\"]], \"type\": \"contour\"}], \"contourcarpet\": [{\"colorbar\": {\"outlinewidth\": 0, \"ticks\": \"\"}, \"type\": \"contourcarpet\"}], \"heatmap\": [{\"colorbar\": {\"outlinewidth\": 0, \"ticks\": \"\"}, \"colorscale\": [[0.0, \"#0d0887\"], [0.1111111111111111, \"#46039f\"], [0.2222222222222222, \"#7201a8\"], [0.3333333333333333, \"#9c179e\"], [0.4444444444444444, \"#bd3786\"], [0.5555555555555556, \"#d8576b\"], [0.6666666666666666, \"#ed7953\"], [0.7777777777777778, \"#fb9f3a\"], [0.8888888888888888, \"#fdca26\"], [1.0, \"#f0f921\"]], \"type\": \"heatmap\"}], \"heatmapgl\": [{\"colorbar\": {\"outlinewidth\": 0, \"ticks\": \"\"}, \"colorscale\": [[0.0, \"#0d0887\"], [0.1111111111111111, \"#46039f\"], [0.2222222222222222, \"#7201a8\"], [0.3333333333333333, \"#9c179e\"], [0.4444444444444444, \"#bd3786\"], [0.5555555555555556, \"#d8576b\"], [0.6666666666666666, \"#ed7953\"], [0.7777777777777778, \"#fb9f3a\"], [0.8888888888888888, \"#fdca26\"], [1.0, \"#f0f921\"]], \"type\": \"heatmapgl\"}], \"histogram\": [{\"marker\": {\"colorbar\": {\"outlinewidth\": 0, \"ticks\": \"\"}}, \"type\": \"histogram\"}], \"histogram2d\": [{\"colorbar\": {\"outlinewidth\": 0, \"ticks\": \"\"}, \"colorscale\": [[0.0, \"#0d0887\"], [0.1111111111111111, \"#46039f\"], [0.2222222222222222, \"#7201a8\"], [0.3333333333333333, \"#9c179e\"], [0.4444444444444444, \"#bd3786\"], [0.5555555555555556, \"#d8576b\"], [0.6666666666666666, \"#ed7953\"], [0.7777777777777778, \"#fb9f3a\"], [0.8888888888888888, \"#fdca26\"], [1.0, \"#f0f921\"]], \"type\": \"histogram2d\"}], \"histogram2dcontour\": [{\"colorbar\": {\"outlinewidth\": 0, \"ticks\": \"\"}, \"colorscale\": [[0.0, \"#0d0887\"], [0.1111111111111111, \"#46039f\"], [0.2222222222222222, \"#7201a8\"], [0.3333333333333333, \"#9c179e\"], [0.4444444444444444, \"#bd3786\"], [0.5555555555555556, \"#d8576b\"], [0.6666666666666666, \"#ed7953\"], [0.7777777777777778, \"#fb9f3a\"], [0.8888888888888888, \"#fdca26\"], [1.0, \"#f0f921\"]], \"type\": \"histogram2dcontour\"}], \"mesh3d\": [{\"colorbar\": {\"outlinewidth\": 0, \"ticks\": \"\"}, \"type\": \"mesh3d\"}], \"parcoords\": [{\"line\": {\"colorbar\": {\"outlinewidth\": 0, \"ticks\": \"\"}}, \"type\": \"parcoords\"}], \"pie\": [{\"automargin\": true, \"type\": \"pie\"}], \"scatter\": [{\"marker\": {\"colorbar\": {\"outlinewidth\": 0, \"ticks\": \"\"}}, \"type\": \"scatter\"}], \"scatter3d\": [{\"line\": {\"colorbar\": {\"outlinewidth\": 0, \"ticks\": \"\"}}, \"marker\": {\"colorbar\": {\"outlinewidth\": 0, \"ticks\": \"\"}}, \"type\": \"scatter3d\"}], \"scattercarpet\": [{\"marker\": {\"colorbar\": {\"outlinewidth\": 0, \"ticks\": \"\"}}, \"type\": \"scattercarpet\"}], \"scattergeo\": [{\"marker\": {\"colorbar\": {\"outlinewidth\": 0, \"ticks\": \"\"}}, \"type\": \"scattergeo\"}], \"scattergl\": [{\"marker\": {\"colorbar\": {\"outlinewidth\": 0, \"ticks\": \"\"}}, \"type\": \"scattergl\"}], \"scattermapbox\": [{\"marker\": {\"colorbar\": {\"outlinewidth\": 0, \"ticks\": \"\"}}, \"type\": \"scattermapbox\"}], \"scatterpolar\": [{\"marker\": {\"colorbar\": {\"outlinewidth\": 0, \"ticks\": \"\"}}, \"type\": \"scatterpolar\"}], \"scatterpolargl\": [{\"marker\": {\"colorbar\": {\"outlinewidth\": 0, \"ticks\": \"\"}}, \"type\": \"scatterpolargl\"}], \"scatterternary\": [{\"marker\": {\"colorbar\": {\"outlinewidth\": 0, \"ticks\": \"\"}}, \"type\": \"scatterternary\"}], \"surface\": [{\"colorbar\": {\"outlinewidth\": 0, \"ticks\": \"\"}, \"colorscale\": [[0.0, \"#0d0887\"], [0.1111111111111111, \"#46039f\"], [0.2222222222222222, \"#7201a8\"], [0.3333333333333333, \"#9c179e\"], [0.4444444444444444, \"#bd3786\"], [0.5555555555555556, \"#d8576b\"], [0.6666666666666666, \"#ed7953\"], [0.7777777777777778, \"#fb9f3a\"], [0.8888888888888888, \"#fdca26\"], [1.0, \"#f0f921\"]], \"type\": \"surface\"}], \"table\": [{\"cells\": {\"fill\": {\"color\": \"#EBF0F8\"}, \"line\": {\"color\": \"white\"}}, \"header\": {\"fill\": {\"color\": \"#C8D4E3\"}, \"line\": {\"color\": \"white\"}}, \"type\": \"table\"}]}, \"layout\": {\"annotationdefaults\": {\"arrowcolor\": \"#2a3f5f\", \"arrowhead\": 0, \"arrowwidth\": 1}, \"coloraxis\": {\"colorbar\": {\"outlinewidth\": 0, \"ticks\": \"\"}}, \"colorscale\": {\"diverging\": [[0, \"#8e0152\"], [0.1, \"#c51b7d\"], [0.2, \"#de77ae\"], [0.3, \"#f1b6da\"], [0.4, \"#fde0ef\"], [0.5, \"#f7f7f7\"], [0.6, \"#e6f5d0\"], [0.7, \"#b8e186\"], [0.8, \"#7fbc41\"], [0.9, \"#4d9221\"], [1, \"#276419\"]], \"sequential\": [[0.0, \"#0d0887\"], [0.1111111111111111, \"#46039f\"], [0.2222222222222222, \"#7201a8\"], [0.3333333333333333, \"#9c179e\"], [0.4444444444444444, \"#bd3786\"], [0.5555555555555556, \"#d8576b\"], [0.6666666666666666, \"#ed7953\"], [0.7777777777777778, \"#fb9f3a\"], [0.8888888888888888, \"#fdca26\"], [1.0, \"#f0f921\"]], \"sequentialminus\": [[0.0, \"#0d0887\"], [0.1111111111111111, \"#46039f\"], [0.2222222222222222, \"#7201a8\"], [0.3333333333333333, \"#9c179e\"], [0.4444444444444444, \"#bd3786\"], [0.5555555555555556, \"#d8576b\"], [0.6666666666666666, \"#ed7953\"], [0.7777777777777778, \"#fb9f3a\"], [0.8888888888888888, \"#fdca26\"], [1.0, \"#f0f921\"]]}, \"colorway\": [\"#636efa\", \"#EF553B\", \"#00cc96\", \"#ab63fa\", \"#FFA15A\", \"#19d3f3\", \"#FF6692\", \"#B6E880\", \"#FF97FF\", \"#FECB52\"], \"font\": {\"color\": \"#2a3f5f\"}, \"geo\": {\"bgcolor\": \"white\", \"lakecolor\": \"white\", \"landcolor\": \"#E5ECF6\", \"showlakes\": true, \"showland\": true, \"subunitcolor\": \"white\"}, \"hoverlabel\": {\"align\": \"left\"}, \"hovermode\": \"closest\", \"mapbox\": {\"style\": \"light\"}, \"paper_bgcolor\": \"white\", \"plot_bgcolor\": \"#E5ECF6\", \"polar\": {\"angularaxis\": {\"gridcolor\": \"white\", \"linecolor\": \"white\", \"ticks\": \"\"}, \"bgcolor\": \"#E5ECF6\", \"radialaxis\": {\"gridcolor\": \"white\", \"linecolor\": \"white\", \"ticks\": \"\"}}, \"scene\": {\"xaxis\": {\"backgroundcolor\": \"#E5ECF6\", \"gridcolor\": \"white\", \"gridwidth\": 2, \"linecolor\": \"white\", \"showbackground\": true, \"ticks\": \"\", \"zerolinecolor\": \"white\"}, \"yaxis\": {\"backgroundcolor\": \"#E5ECF6\", \"gridcolor\": \"white\", \"gridwidth\": 2, \"linecolor\": \"white\", \"showbackground\": true, \"ticks\": \"\", \"zerolinecolor\": \"white\"}, \"zaxis\": {\"backgroundcolor\": \"#E5ECF6\", \"gridcolor\": \"white\", \"gridwidth\": 2, \"linecolor\": \"white\", \"showbackground\": true, \"ticks\": \"\", \"zerolinecolor\": \"white\"}}, \"shapedefaults\": {\"line\": {\"color\": \"#2a3f5f\"}}, \"ternary\": {\"aaxis\": {\"gridcolor\": \"white\", \"linecolor\": \"white\", \"ticks\": \"\"}, \"baxis\": {\"gridcolor\": \"white\", \"linecolor\": \"white\", \"ticks\": \"\"}, \"bgcolor\": \"#E5ECF6\", \"caxis\": {\"gridcolor\": \"white\", \"linecolor\": \"white\", \"ticks\": \"\"}}, \"title\": {\"x\": 0.05}, \"xaxis\": {\"automargin\": true, \"gridcolor\": \"white\", \"linecolor\": \"white\", \"ticks\": \"\", \"title\": {\"standoff\": 15}, \"zerolinecolor\": \"white\", \"zerolinewidth\": 2}, \"yaxis\": {\"automargin\": true, \"gridcolor\": \"white\", \"linecolor\": \"white\", \"ticks\": \"\", \"title\": {\"standoff\": 15}, \"zerolinecolor\": \"white\", \"zerolinewidth\": 2}}}, \"title\": {\"text\": \"LSI Scores\"}, \"xaxis\": {\"anchor\": \"y\", \"domain\": [0.0, 1.0], \"title\": {\"text\": \"score\"}}, \"yaxis\": {\"anchor\": \"x\", \"domain\": [0.0, 1.0], \"title\": {\"text\": \"count\"}}},\n",
              "                        {\"responsive\": true}\n",
              "                    ).then(function(){\n",
              "                            \n",
              "var gd = document.getElementById('8f350f0f-ad34-4008-9f72-9266ecb6bd35');\n",
              "var x = new MutationObserver(function (mutations, observer) {{\n",
              "        var display = window.getComputedStyle(gd).display;\n",
              "        if (!display || display === 'none') {{\n",
              "            console.log([gd, 'removed!']);\n",
              "            Plotly.purge(gd);\n",
              "            observer.disconnect();\n",
              "        }}\n",
              "}});\n",
              "\n",
              "// Listen for the removal of the full notebook cells\n",
              "var notebookContainer = gd.closest('#notebook-container');\n",
              "if (notebookContainer) {{\n",
              "    x.observe(notebookContainer, {childList: true});\n",
              "}}\n",
              "\n",
              "// Listen for the clearing of the current output cell\n",
              "var outputEl = gd.closest('.output');\n",
              "if (outputEl) {{\n",
              "    x.observe(outputEl, {childList: true});\n",
              "}}\n",
              "\n",
              "                        })\n",
              "                };\n",
              "                \n",
              "            </script>\n",
              "        </div>\n",
              "</body>\n",
              "</html>"
            ]
          },
          "metadata": {}
        }
      ]
    },
    {
      "cell_type": "code",
      "metadata": {
        "colab": {
          "base_uri": "https://localhost:8080/"
        },
        "id": "1dfSZoYYkmLI",
        "outputId": "705c458d-58c1-407a-f355-e057cb43d786"
      },
      "source": [
        "title_to_titleid['Take The A Train [jazz1350]']"
      ],
      "execution_count": 80,
      "outputs": [
        {
          "output_type": "execute_result",
          "data": {
            "text/plain": [
              "1140"
            ]
          },
          "metadata": {},
          "execution_count": 80
        }
      ]
    },
    {
      "cell_type": "code",
      "metadata": {
        "colab": {
          "base_uri": "https://localhost:8080/"
        },
        "id": "oOxh5Po3XwbQ",
        "outputId": "2ee1dbea-c134-4e95-a397-76cf524575be"
      },
      "source": [
        "title_to_sectionid['Take The A Train [jazz1350]']"
      ],
      "execution_count": 81,
      "outputs": [
        {
          "output_type": "execute_result",
          "data": {
            "text/plain": [
              "[3817, 3818, 3819, 3820]"
            ]
          },
          "metadata": {},
          "execution_count": 81
        }
      ]
    },
    {
      "cell_type": "code",
      "metadata": {
        "colab": {
          "base_uri": "https://localhost:8080/",
          "height": 36
        },
        "id": "GszJ90u1X1-P",
        "outputId": "4fd6d67a-842d-4649-ef5c-b144e41c586f"
      },
      "source": [
        "sectionid_to_section[3764]"
      ],
      "execution_count": 82,
      "outputs": [
        {
          "output_type": "execute_result",
          "data": {
            "application/vnd.google.colaboratory.intrinsic+json": {
              "type": "string"
            },
            "text/plain": [
              "'Sun down, section1 (intro)'"
            ]
          },
          "metadata": {},
          "execution_count": 82
        }
      ]
    },
    {
      "cell_type": "code",
      "metadata": {
        "colab": {
          "base_uri": "https://localhost:8080/",
          "height": 36
        },
        "id": "withD8eraVjN",
        "outputId": "23027195-bdd0-4d58-c24a-36651f6721db"
      },
      "source": [
        "sectionid_to_sectionlabel[3764]"
      ],
      "execution_count": 83,
      "outputs": [
        {
          "output_type": "execute_result",
          "data": {
            "application/vnd.google.colaboratory.intrinsic+json": {
              "type": "string"
            },
            "text/plain": [
              "'intro'"
            ]
          },
          "metadata": {},
          "execution_count": 83
        }
      ]
    },
    {
      "cell_type": "code",
      "metadata": {
        "colab": {
          "base_uri": "https://localhost:8080/",
          "height": 1000
        },
        "id": "Nv0zz_L9eR4p",
        "outputId": "8479a537-d5fb-4e9a-d43f-ff9be05d55c6"
      },
      "source": [
        "foolish = (df_sim[df_sim['reference_titleid'] == 1140]\n",
        "           .reset_index()\n",
        "           .drop(columns=['reference_titleid',\n",
        "                          'ref_section', \n",
        "                          'ref_sectionid',\n",
        "                          'similar_titleid', \n",
        "                          'similar_section',\n",
        "                          'similar_sectionid', \n",
        "                          'index'])\n",
        "           .groupby(['reference_title', 'similar_title', 'ref_section_label', 'similar_section_label'])\n",
        "           .max('score')\n",
        "           .sort_values('score', ascending=False)\n",
        "           .reset_index()\n",
        ")\n",
        "\n",
        "foolish"
      ],
      "execution_count": 84,
      "outputs": [
        {
          "output_type": "execute_result",
          "data": {
            "text/html": [
              "<div>\n",
              "<style scoped>\n",
              "    .dataframe tbody tr th:only-of-type {\n",
              "        vertical-align: middle;\n",
              "    }\n",
              "\n",
              "    .dataframe tbody tr th {\n",
              "        vertical-align: top;\n",
              "    }\n",
              "\n",
              "    .dataframe thead th {\n",
              "        text-align: right;\n",
              "    }\n",
              "</style>\n",
              "<table border=\"1\" class=\"dataframe\">\n",
              "  <thead>\n",
              "    <tr style=\"text-align: right;\">\n",
              "      <th></th>\n",
              "      <th>reference_title</th>\n",
              "      <th>similar_title</th>\n",
              "      <th>ref_section_label</th>\n",
              "      <th>similar_section_label</th>\n",
              "      <th>score</th>\n",
              "    </tr>\n",
              "  </thead>\n",
              "  <tbody>\n",
              "    <tr>\n",
              "      <th>0</th>\n",
              "      <td>Take The A Train [jazz1350]</td>\n",
              "      <td>Jersey Bounce [jazz1350]</td>\n",
              "      <td>A</td>\n",
              "      <td>A</td>\n",
              "      <td>0.977009</td>\n",
              "    </tr>\n",
              "    <tr>\n",
              "      <th>1</th>\n",
              "      <td>Take The A Train [jazz1350]</td>\n",
              "      <td>Moten Swing [jazz1350]</td>\n",
              "      <td>A</td>\n",
              "      <td>A</td>\n",
              "      <td>0.977008</td>\n",
              "    </tr>\n",
              "    <tr>\n",
              "      <th>2</th>\n",
              "      <td>Take The A Train [jazz1350]</td>\n",
              "      <td>Crazy Rhythm [jazz1350]</td>\n",
              "      <td>A</td>\n",
              "      <td>A</td>\n",
              "      <td>0.977008</td>\n",
              "    </tr>\n",
              "    <tr>\n",
              "      <th>3</th>\n",
              "      <td>Take The A Train [jazz1350]</td>\n",
              "      <td>Lady's In Love With You, The [jazz1350]</td>\n",
              "      <td>A</td>\n",
              "      <td>A</td>\n",
              "      <td>0.960159</td>\n",
              "    </tr>\n",
              "    <tr>\n",
              "      <th>4</th>\n",
              "      <td>Take The A Train [jazz1350]</td>\n",
              "      <td>Alexander's Ragtime Band [jazz1350]</td>\n",
              "      <td>A</td>\n",
              "      <td>B</td>\n",
              "      <td>0.960159</td>\n",
              "    </tr>\n",
              "    <tr>\n",
              "      <th>5</th>\n",
              "      <td>Take The A Train [jazz1350]</td>\n",
              "      <td>Exactly Like You [jazz1350]</td>\n",
              "      <td>A</td>\n",
              "      <td>A</td>\n",
              "      <td>0.955533</td>\n",
              "    </tr>\n",
              "    <tr>\n",
              "      <th>6</th>\n",
              "      <td>Take The A Train [jazz1350]</td>\n",
              "      <td>One I Love (Belongs To Somebody Else), The [ja...</td>\n",
              "      <td>A</td>\n",
              "      <td>A</td>\n",
              "      <td>0.948504</td>\n",
              "    </tr>\n",
              "    <tr>\n",
              "      <th>7</th>\n",
              "      <td>Take The A Train [jazz1350]</td>\n",
              "      <td>People Will Say We're In Love [jazz1350]</td>\n",
              "      <td>A</td>\n",
              "      <td>A</td>\n",
              "      <td>0.943090</td>\n",
              "    </tr>\n",
              "    <tr>\n",
              "      <th>8</th>\n",
              "      <td>Take The A Train [jazz1350]</td>\n",
              "      <td>For You, For Me, For Evermore [jazz1350]</td>\n",
              "      <td>A</td>\n",
              "      <td>B</td>\n",
              "      <td>0.939827</td>\n",
              "    </tr>\n",
              "    <tr>\n",
              "      <th>9</th>\n",
              "      <td>Take The A Train [jazz1350]</td>\n",
              "      <td>You Made Me Love You [jazz1350]</td>\n",
              "      <td>A</td>\n",
              "      <td>A</td>\n",
              "      <td>0.938916</td>\n",
              "    </tr>\n",
              "    <tr>\n",
              "      <th>10</th>\n",
              "      <td>Take The A Train [jazz1350]</td>\n",
              "      <td>Roll Along Prarie Moon [trad]</td>\n",
              "      <td>A</td>\n",
              "      <td>B</td>\n",
              "      <td>0.938103</td>\n",
              "    </tr>\n",
              "    <tr>\n",
              "      <th>11</th>\n",
              "      <td>Take The A Train [jazz1350]</td>\n",
              "      <td>Peg O' My Heart [trad]</td>\n",
              "      <td>A</td>\n",
              "      <td>A</td>\n",
              "      <td>0.935414</td>\n",
              "    </tr>\n",
              "    <tr>\n",
              "      <th>12</th>\n",
              "      <td>Take The A Train [jazz1350]</td>\n",
              "      <td>Darktown Strutters' Ball [trad]</td>\n",
              "      <td>A</td>\n",
              "      <td>A</td>\n",
              "      <td>0.935414</td>\n",
              "    </tr>\n",
              "    <tr>\n",
              "      <th>13</th>\n",
              "      <td>Take The A Train [jazz1350]</td>\n",
              "      <td>All Through The Day [jazz1350]</td>\n",
              "      <td>A</td>\n",
              "      <td>A</td>\n",
              "      <td>0.932007</td>\n",
              "    </tr>\n",
              "    <tr>\n",
              "      <th>14</th>\n",
              "      <td>Take The A Train [jazz1350]</td>\n",
              "      <td>Are You Lonesome Tonight [trad]</td>\n",
              "      <td>A</td>\n",
              "      <td>D</td>\n",
              "      <td>0.927426</td>\n",
              "    </tr>\n",
              "    <tr>\n",
              "      <th>15</th>\n",
              "      <td>Take The A Train [jazz1350]</td>\n",
              "      <td>Só Danço Samba [jazz1350]</td>\n",
              "      <td>A</td>\n",
              "      <td>A</td>\n",
              "      <td>0.927426</td>\n",
              "    </tr>\n",
              "    <tr>\n",
              "      <th>16</th>\n",
              "      <td>Take The A Train [jazz1350]</td>\n",
              "      <td>Mood Indigo [jazz1350]</td>\n",
              "      <td>A</td>\n",
              "      <td>A</td>\n",
              "      <td>0.924062</td>\n",
              "    </tr>\n",
              "    <tr>\n",
              "      <th>17</th>\n",
              "      <td>Take The A Train [jazz1350]</td>\n",
              "      <td>Don't Bring Lulu [trad]</td>\n",
              "      <td>A</td>\n",
              "      <td>C</td>\n",
              "      <td>0.923913</td>\n",
              "    </tr>\n",
              "    <tr>\n",
              "      <th>18</th>\n",
              "      <td>Take The A Train [jazz1350]</td>\n",
              "      <td>Same Old Love, The [trad]</td>\n",
              "      <td>A</td>\n",
              "      <td>A</td>\n",
              "      <td>0.921132</td>\n",
              "    </tr>\n",
              "    <tr>\n",
              "      <th>19</th>\n",
              "      <td>Take The A Train [jazz1350]</td>\n",
              "      <td>One I Love Belongs To Somebody Else, The [trad]</td>\n",
              "      <td>A</td>\n",
              "      <td>A</td>\n",
              "      <td>0.918559</td>\n",
              "    </tr>\n",
              "    <tr>\n",
              "      <th>20</th>\n",
              "      <td>Take The A Train [jazz1350]</td>\n",
              "      <td>Falling In Love With Love [jazz1350]</td>\n",
              "      <td>A</td>\n",
              "      <td>A</td>\n",
              "      <td>0.916909</td>\n",
              "    </tr>\n",
              "    <tr>\n",
              "      <th>21</th>\n",
              "      <td>Take The A Train [jazz1350]</td>\n",
              "      <td>A Wonderful Day Like Today [jazz1350]</td>\n",
              "      <td>A</td>\n",
              "      <td>A</td>\n",
              "      <td>0.916909</td>\n",
              "    </tr>\n",
              "    <tr>\n",
              "      <th>22</th>\n",
              "      <td>Take The A Train [jazz1350]</td>\n",
              "      <td>Gypsy, The [trad]</td>\n",
              "      <td>A</td>\n",
              "      <td>A</td>\n",
              "      <td>0.916515</td>\n",
              "    </tr>\n",
              "    <tr>\n",
              "      <th>23</th>\n",
              "      <td>Take The A Train [jazz1350]</td>\n",
              "      <td>Don't Sit Under The Apple Tree [trad]</td>\n",
              "      <td>A</td>\n",
              "      <td>A</td>\n",
              "      <td>0.915303</td>\n",
              "    </tr>\n",
              "    <tr>\n",
              "      <th>24</th>\n",
              "      <td>Take The A Train [jazz1350]</td>\n",
              "      <td>Memories [trad]</td>\n",
              "      <td>A</td>\n",
              "      <td>A</td>\n",
              "      <td>0.914659</td>\n",
              "    </tr>\n",
              "    <tr>\n",
              "      <th>25</th>\n",
              "      <td>Take The A Train [jazz1350]</td>\n",
              "      <td>True (You Don't Love Me ) [trad]</td>\n",
              "      <td>A</td>\n",
              "      <td>A</td>\n",
              "      <td>0.914659</td>\n",
              "    </tr>\n",
              "    <tr>\n",
              "      <th>26</th>\n",
              "      <td>Take The A Train [jazz1350]</td>\n",
              "      <td>Don't Sweetheart Me [trad]</td>\n",
              "      <td>A</td>\n",
              "      <td>A</td>\n",
              "      <td>0.914659</td>\n",
              "    </tr>\n",
              "    <tr>\n",
              "      <th>27</th>\n",
              "      <td>Take The A Train [jazz1350]</td>\n",
              "      <td>I Can't Escape From You (San Jacinto Stomp) [t...</td>\n",
              "      <td>A</td>\n",
              "      <td>A</td>\n",
              "      <td>0.914659</td>\n",
              "    </tr>\n",
              "    <tr>\n",
              "      <th>28</th>\n",
              "      <td>Take The A Train [jazz1350]</td>\n",
              "      <td>Abe My Boy [trad]</td>\n",
              "      <td>A</td>\n",
              "      <td>A</td>\n",
              "      <td>0.914659</td>\n",
              "    </tr>\n",
              "    <tr>\n",
              "      <th>29</th>\n",
              "      <td>Take The A Train [jazz1350]</td>\n",
              "      <td>Sleepy Time Gal [trad]</td>\n",
              "      <td>A</td>\n",
              "      <td>C</td>\n",
              "      <td>0.914659</td>\n",
              "    </tr>\n",
              "    <tr>\n",
              "      <th>30</th>\n",
              "      <td>Take The A Train [jazz1350]</td>\n",
              "      <td>When Day Is Done [trad]</td>\n",
              "      <td>A</td>\n",
              "      <td>A</td>\n",
              "      <td>0.914552</td>\n",
              "    </tr>\n",
              "    <tr>\n",
              "      <th>31</th>\n",
              "      <td>Take The A Train [jazz1350]</td>\n",
              "      <td>Groovin' High [jazz1350]</td>\n",
              "      <td>A</td>\n",
              "      <td>A</td>\n",
              "      <td>0.913414</td>\n",
              "    </tr>\n",
              "    <tr>\n",
              "      <th>32</th>\n",
              "      <td>Take The A Train [jazz1350]</td>\n",
              "      <td>Bark For Barksdale [jazz1350]</td>\n",
              "      <td>A</td>\n",
              "      <td>A</td>\n",
              "      <td>0.910032</td>\n",
              "    </tr>\n",
              "    <tr>\n",
              "      <th>33</th>\n",
              "      <td>Take The A Train [jazz1350]</td>\n",
              "      <td>Ask Me Now [jazz1350]</td>\n",
              "      <td>A</td>\n",
              "      <td>B</td>\n",
              "      <td>0.910031</td>\n",
              "    </tr>\n",
              "    <tr>\n",
              "      <th>34</th>\n",
              "      <td>Take The A Train [jazz1350]</td>\n",
              "      <td>If There Is Someone Lovelier [jazz1350]</td>\n",
              "      <td>A</td>\n",
              "      <td>A</td>\n",
              "      <td>0.909106</td>\n",
              "    </tr>\n",
              "    <tr>\n",
              "      <th>35</th>\n",
              "      <td>Take The A Train [jazz1350]</td>\n",
              "      <td>All That I Ask Is Love [trad]</td>\n",
              "      <td>A</td>\n",
              "      <td>C</td>\n",
              "      <td>0.907485</td>\n",
              "    </tr>\n",
              "    <tr>\n",
              "      <th>36</th>\n",
              "      <td>Take The A Train [jazz1350]</td>\n",
              "      <td>After You've Gone [jazz1350]</td>\n",
              "      <td>A</td>\n",
              "      <td>B</td>\n",
              "      <td>0.907485</td>\n",
              "    </tr>\n",
              "    <tr>\n",
              "      <th>37</th>\n",
              "      <td>Take The A Train [jazz1350]</td>\n",
              "      <td>Ugly Child [trad]</td>\n",
              "      <td>A</td>\n",
              "      <td>A</td>\n",
              "      <td>0.907265</td>\n",
              "    </tr>\n",
              "    <tr>\n",
              "      <th>38</th>\n",
              "      <td>Take The A Train [jazz1350]</td>\n",
              "      <td>Ja-Da [trad]</td>\n",
              "      <td>A</td>\n",
              "      <td>A</td>\n",
              "      <td>0.907265</td>\n",
              "    </tr>\n",
              "    <tr>\n",
              "      <th>39</th>\n",
              "      <td>Take The A Train [jazz1350]</td>\n",
              "      <td>You're Driving Me Crazy [trad]</td>\n",
              "      <td>A</td>\n",
              "      <td>A</td>\n",
              "      <td>0.907265</td>\n",
              "    </tr>\n",
              "    <tr>\n",
              "      <th>40</th>\n",
              "      <td>Take The A Train [jazz1350]</td>\n",
              "      <td>And The Angels Sing [jazz1350]</td>\n",
              "      <td>A</td>\n",
              "      <td>A</td>\n",
              "      <td>0.907265</td>\n",
              "    </tr>\n",
              "    <tr>\n",
              "      <th>41</th>\n",
              "      <td>Take The A Train [jazz1350]</td>\n",
              "      <td>I'm Gonna Sit Right Down and Write Myself A Le...</td>\n",
              "      <td>A</td>\n",
              "      <td>A</td>\n",
              "      <td>0.906425</td>\n",
              "    </tr>\n",
              "    <tr>\n",
              "      <th>42</th>\n",
              "      <td>Take The A Train [jazz1350]</td>\n",
              "      <td>Desafinado [jazz1350]</td>\n",
              "      <td>A</td>\n",
              "      <td>A</td>\n",
              "      <td>0.906425</td>\n",
              "    </tr>\n",
              "    <tr>\n",
              "      <th>43</th>\n",
              "      <td>Take The A Train [jazz1350]</td>\n",
              "      <td>I'm Crazy 'Bout My Baby [trad]</td>\n",
              "      <td>A</td>\n",
              "      <td>A</td>\n",
              "      <td>0.901498</td>\n",
              "    </tr>\n",
              "    <tr>\n",
              "      <th>44</th>\n",
              "      <td>Take The A Train [jazz1350]</td>\n",
              "      <td>In A Shanty In Old Shanty Town [jazz1350]</td>\n",
              "      <td>A</td>\n",
              "      <td>B</td>\n",
              "      <td>0.901127</td>\n",
              "    </tr>\n",
              "    <tr>\n",
              "      <th>45</th>\n",
              "      <td>Take The A Train [jazz1350]</td>\n",
              "      <td>Roses Of Picardy [trad]</td>\n",
              "      <td>A</td>\n",
              "      <td>B</td>\n",
              "      <td>0.900885</td>\n",
              "    </tr>\n",
              "    <tr>\n",
              "      <th>46</th>\n",
              "      <td>Take The A Train [jazz1350]</td>\n",
              "      <td>I Double Dare You [trad]</td>\n",
              "      <td>A</td>\n",
              "      <td>A</td>\n",
              "      <td>0.899736</td>\n",
              "    </tr>\n",
              "    <tr>\n",
              "      <th>47</th>\n",
              "      <td>Take The A Train [jazz1350]</td>\n",
              "      <td>On Treasure Island [trad]</td>\n",
              "      <td>A</td>\n",
              "      <td>A</td>\n",
              "      <td>0.891133</td>\n",
              "    </tr>\n",
              "    <tr>\n",
              "      <th>48</th>\n",
              "      <td>Take The A Train [jazz1350]</td>\n",
              "      <td>My Honey's Loving Arms [trad]</td>\n",
              "      <td>A</td>\n",
              "      <td>C</td>\n",
              "      <td>0.885615</td>\n",
              "    </tr>\n",
              "    <tr>\n",
              "      <th>49</th>\n",
              "      <td>Take The A Train [jazz1350]</td>\n",
              "      <td>Little Girl Blue [jazz1350]</td>\n",
              "      <td>A</td>\n",
              "      <td>A</td>\n",
              "      <td>0.883006</td>\n",
              "    </tr>\n",
              "    <tr>\n",
              "      <th>50</th>\n",
              "      <td>Take The A Train [jazz1350]</td>\n",
              "      <td>You Must Have Been A Beautiful Baby [trad]</td>\n",
              "      <td>A</td>\n",
              "      <td>verse</td>\n",
              "      <td>0.882994</td>\n",
              "    </tr>\n",
              "    <tr>\n",
              "      <th>51</th>\n",
              "      <td>Take The A Train [jazz1350]</td>\n",
              "      <td>Dearly Beloved [jazz1350]</td>\n",
              "      <td>A</td>\n",
              "      <td>C</td>\n",
              "      <td>0.882353</td>\n",
              "    </tr>\n",
              "    <tr>\n",
              "      <th>52</th>\n",
              "      <td>Take The A Train [jazz1350]</td>\n",
              "      <td>Chicago Buzz [trad]</td>\n",
              "      <td>A</td>\n",
              "      <td>A</td>\n",
              "      <td>0.882353</td>\n",
              "    </tr>\n",
              "    <tr>\n",
              "      <th>53</th>\n",
              "      <td>Take The A Train [jazz1350]</td>\n",
              "      <td>I Love You So Much It Hurts [trad]</td>\n",
              "      <td>A</td>\n",
              "      <td>A</td>\n",
              "      <td>0.882046</td>\n",
              "    </tr>\n",
              "    <tr>\n",
              "      <th>54</th>\n",
              "      <td>Take The A Train [jazz1350]</td>\n",
              "      <td>On The Alamo [trad]</td>\n",
              "      <td>A</td>\n",
              "      <td>A</td>\n",
              "      <td>0.879049</td>\n",
              "    </tr>\n",
              "    <tr>\n",
              "      <th>55</th>\n",
              "      <td>Take The A Train [jazz1350]</td>\n",
              "      <td>Girl From Ipanema, The [jazz1350]</td>\n",
              "      <td>A</td>\n",
              "      <td>A</td>\n",
              "      <td>0.879049</td>\n",
              "    </tr>\n",
              "    <tr>\n",
              "      <th>56</th>\n",
              "      <td>Take The A Train [jazz1350]</td>\n",
              "      <td>Somebody Else Is Taking My Place [trad]</td>\n",
              "      <td>A</td>\n",
              "      <td>A</td>\n",
              "      <td>0.876714</td>\n",
              "    </tr>\n",
              "    <tr>\n",
              "      <th>57</th>\n",
              "      <td>Take The A Train [jazz1350]</td>\n",
              "      <td>I've Got A Feeling I'm Falling [trad]</td>\n",
              "      <td>A</td>\n",
              "      <td>A</td>\n",
              "      <td>0.876714</td>\n",
              "    </tr>\n",
              "    <tr>\n",
              "      <th>58</th>\n",
              "      <td>Take The A Train [jazz1350]</td>\n",
              "      <td>I May Be Wrong (But I Think You're Wonderful) ...</td>\n",
              "      <td>A</td>\n",
              "      <td>A</td>\n",
              "      <td>0.876714</td>\n",
              "    </tr>\n",
              "    <tr>\n",
              "      <th>59</th>\n",
              "      <td>Take The A Train [jazz1350]</td>\n",
              "      <td>I Love You So Much It Hurts [trad]</td>\n",
              "      <td>A</td>\n",
              "      <td>B</td>\n",
              "      <td>0.875517</td>\n",
              "    </tr>\n",
              "    <tr>\n",
              "      <th>60</th>\n",
              "      <td>Take The A Train [jazz1350]</td>\n",
              "      <td>Sentimental Journey [jazz1350]</td>\n",
              "      <td>A</td>\n",
              "      <td>A</td>\n",
              "      <td>0.875175</td>\n",
              "    </tr>\n",
              "    <tr>\n",
              "      <th>61</th>\n",
              "      <td>Take The A Train [jazz1350]</td>\n",
              "      <td>Ko Ko [jazz1350]</td>\n",
              "      <td>A</td>\n",
              "      <td>A</td>\n",
              "      <td>0.874475</td>\n",
              "    </tr>\n",
              "    <tr>\n",
              "      <th>62</th>\n",
              "      <td>Take The A Train [jazz1350]</td>\n",
              "      <td>Cherokee [jazz1350]</td>\n",
              "      <td>A</td>\n",
              "      <td>A</td>\n",
              "      <td>0.874475</td>\n",
              "    </tr>\n",
              "    <tr>\n",
              "      <th>63</th>\n",
              "      <td>Take The A Train [jazz1350]</td>\n",
              "      <td>Darktown Strutters' Ball [trad]</td>\n",
              "      <td>A</td>\n",
              "      <td>B</td>\n",
              "      <td>0.873485</td>\n",
              "    </tr>\n",
              "    <tr>\n",
              "      <th>64</th>\n",
              "      <td>Take The A Train [jazz1350]</td>\n",
              "      <td>Stumbling [trad]</td>\n",
              "      <td>A</td>\n",
              "      <td>A</td>\n",
              "      <td>0.873272</td>\n",
              "    </tr>\n",
              "    <tr>\n",
              "      <th>65</th>\n",
              "      <td>Take The A Train [jazz1350]</td>\n",
              "      <td>Tricotism [jazz1350]</td>\n",
              "      <td>A</td>\n",
              "      <td>A</td>\n",
              "      <td>0.873128</td>\n",
              "    </tr>\n",
              "    <tr>\n",
              "      <th>66</th>\n",
              "      <td>Take The A Train [jazz1350]</td>\n",
              "      <td>Working Man Blues [trad]</td>\n",
              "      <td>A</td>\n",
              "      <td>B</td>\n",
              "      <td>0.873128</td>\n",
              "    </tr>\n",
              "    <tr>\n",
              "      <th>67</th>\n",
              "      <td>Take The A Train [jazz1350]</td>\n",
              "      <td>A Pretty Girl Is Like A Melody [jazz1350]</td>\n",
              "      <td>A</td>\n",
              "      <td>A</td>\n",
              "      <td>0.872402</td>\n",
              "    </tr>\n",
              "    <tr>\n",
              "      <th>68</th>\n",
              "      <td>Take The A Train [jazz1350]</td>\n",
              "      <td>You Can Depend On Me [jazz1350]</td>\n",
              "      <td>B</td>\n",
              "      <td>B</td>\n",
              "      <td>0.866025</td>\n",
              "    </tr>\n",
              "    <tr>\n",
              "      <th>69</th>\n",
              "      <td>Take The A Train [jazz1350]</td>\n",
              "      <td>Move [jazz1350]</td>\n",
              "      <td>B</td>\n",
              "      <td>B</td>\n",
              "      <td>0.866025</td>\n",
              "    </tr>\n",
              "    <tr>\n",
              "      <th>70</th>\n",
              "      <td>Take The A Train [jazz1350]</td>\n",
              "      <td>Memories [trad]</td>\n",
              "      <td>B</td>\n",
              "      <td>B</td>\n",
              "      <td>0.855236</td>\n",
              "    </tr>\n",
              "    <tr>\n",
              "      <th>71</th>\n",
              "      <td>Take The A Train [jazz1350]</td>\n",
              "      <td>Don't Sweetheart Me [trad]</td>\n",
              "      <td>B</td>\n",
              "      <td>B</td>\n",
              "      <td>0.855236</td>\n",
              "    </tr>\n",
              "    <tr>\n",
              "      <th>72</th>\n",
              "      <td>Take The A Train [jazz1350]</td>\n",
              "      <td>Breezin' Along With The Breeze [trad]</td>\n",
              "      <td>B</td>\n",
              "      <td>B</td>\n",
              "      <td>0.855236</td>\n",
              "    </tr>\n",
              "    <tr>\n",
              "      <th>73</th>\n",
              "      <td>Take The A Train [jazz1350]</td>\n",
              "      <td>Indiana [trad]</td>\n",
              "      <td>B</td>\n",
              "      <td>B</td>\n",
              "      <td>0.855236</td>\n",
              "    </tr>\n",
              "    <tr>\n",
              "      <th>74</th>\n",
              "      <td>Take The A Train [jazz1350]</td>\n",
              "      <td>Abe My Boy [trad]</td>\n",
              "      <td>B</td>\n",
              "      <td>B</td>\n",
              "      <td>0.855236</td>\n",
              "    </tr>\n",
              "    <tr>\n",
              "      <th>75</th>\n",
              "      <td>Take The A Train [jazz1350]</td>\n",
              "      <td>Cheers [jazz1350]</td>\n",
              "      <td>B</td>\n",
              "      <td>B</td>\n",
              "      <td>0.855236</td>\n",
              "    </tr>\n",
              "    <tr>\n",
              "      <th>76</th>\n",
              "      <td>Take The A Train [jazz1350]</td>\n",
              "      <td>Wow [jazz1350]</td>\n",
              "      <td>B</td>\n",
              "      <td>C</td>\n",
              "      <td>0.855236</td>\n",
              "    </tr>\n",
              "    <tr>\n",
              "      <th>77</th>\n",
              "      <td>Take The A Train [jazz1350]</td>\n",
              "      <td>White Cliffs Of Dover, The [trad]</td>\n",
              "      <td>B</td>\n",
              "      <td>B</td>\n",
              "      <td>0.852803</td>\n",
              "    </tr>\n",
              "    <tr>\n",
              "      <th>78</th>\n",
              "      <td>Take The A Train [jazz1350]</td>\n",
              "      <td>We'll Meet Again [trad]</td>\n",
              "      <td>B</td>\n",
              "      <td>B</td>\n",
              "      <td>0.850000</td>\n",
              "    </tr>\n",
              "    <tr>\n",
              "      <th>79</th>\n",
              "      <td>Take The A Train [jazz1350]</td>\n",
              "      <td>A Wonderful Day Like Today [jazz1350]</td>\n",
              "      <td>B</td>\n",
              "      <td>B</td>\n",
              "      <td>0.833238</td>\n",
              "    </tr>\n",
              "    <tr>\n",
              "      <th>80</th>\n",
              "      <td>Take The A Train [jazz1350]</td>\n",
              "      <td>Under A Blanket Of Blue [jazz1350]</td>\n",
              "      <td>B</td>\n",
              "      <td>B</td>\n",
              "      <td>0.832050</td>\n",
              "    </tr>\n",
              "    <tr>\n",
              "      <th>81</th>\n",
              "      <td>Take The A Train [jazz1350]</td>\n",
              "      <td>I Can't Give You Anything But Love [jazz1350]</td>\n",
              "      <td>B</td>\n",
              "      <td>B</td>\n",
              "      <td>0.832050</td>\n",
              "    </tr>\n",
              "    <tr>\n",
              "      <th>82</th>\n",
              "      <td>Take The A Train [jazz1350]</td>\n",
              "      <td>Lotus Eaters Bittersweet [jazz1350]</td>\n",
              "      <td>B</td>\n",
              "      <td>A</td>\n",
              "      <td>0.831522</td>\n",
              "    </tr>\n",
              "    <tr>\n",
              "      <th>83</th>\n",
              "      <td>Take The A Train [jazz1350]</td>\n",
              "      <td>Joker, The [jazz1350]</td>\n",
              "      <td>B</td>\n",
              "      <td>B</td>\n",
              "      <td>0.822192</td>\n",
              "    </tr>\n",
              "    <tr>\n",
              "      <th>84</th>\n",
              "      <td>Take The A Train [jazz1350]</td>\n",
              "      <td>On The Sunny Side Of The Street [jazz1350]</td>\n",
              "      <td>B</td>\n",
              "      <td>B</td>\n",
              "      <td>0.822192</td>\n",
              "    </tr>\n",
              "    <tr>\n",
              "      <th>85</th>\n",
              "      <td>Take The A Train [jazz1350]</td>\n",
              "      <td>I'm Confessin' That I Love You [jazz1350]</td>\n",
              "      <td>B</td>\n",
              "      <td>B</td>\n",
              "      <td>0.822192</td>\n",
              "    </tr>\n",
              "    <tr>\n",
              "      <th>86</th>\n",
              "      <td>Take The A Train [jazz1350]</td>\n",
              "      <td>I'm Coming Virginia [trad]</td>\n",
              "      <td>B</td>\n",
              "      <td>C</td>\n",
              "      <td>0.817059</td>\n",
              "    </tr>\n",
              "    <tr>\n",
              "      <th>87</th>\n",
              "      <td>Take The A Train [jazz1350]</td>\n",
              "      <td>Pennies From Heaven [jazz1350]</td>\n",
              "      <td>B</td>\n",
              "      <td>A</td>\n",
              "      <td>0.816497</td>\n",
              "    </tr>\n",
              "    <tr>\n",
              "      <th>88</th>\n",
              "      <td>Take The A Train [jazz1350]</td>\n",
              "      <td>Weary Bules (AKA Shake It And Break It) [trad]</td>\n",
              "      <td>B</td>\n",
              "      <td>B</td>\n",
              "      <td>0.816496</td>\n",
              "    </tr>\n",
              "    <tr>\n",
              "      <th>89</th>\n",
              "      <td>Take The A Train [jazz1350]</td>\n",
              "      <td>Palo Alto [jazz1350]</td>\n",
              "      <td>B</td>\n",
              "      <td>B</td>\n",
              "      <td>0.811107</td>\n",
              "    </tr>\n",
              "    <tr>\n",
              "      <th>90</th>\n",
              "      <td>Take The A Train [jazz1350]</td>\n",
              "      <td>Só Danço Samba [jazz1350]</td>\n",
              "      <td>B</td>\n",
              "      <td>B</td>\n",
              "      <td>0.808290</td>\n",
              "    </tr>\n",
              "    <tr>\n",
              "      <th>91</th>\n",
              "      <td>Take The A Train [jazz1350]</td>\n",
              "      <td>Scotch And Soda [jazz1350]</td>\n",
              "      <td>B</td>\n",
              "      <td>B</td>\n",
              "      <td>0.804985</td>\n",
              "    </tr>\n",
              "    <tr>\n",
              "      <th>92</th>\n",
              "      <td>Take The A Train [jazz1350]</td>\n",
              "      <td>I Like The Likes Of You [jazz1350]</td>\n",
              "      <td>B</td>\n",
              "      <td>B</td>\n",
              "      <td>0.804985</td>\n",
              "    </tr>\n",
              "    <tr>\n",
              "      <th>93</th>\n",
              "      <td>Take The A Train [jazz1350]</td>\n",
              "      <td>Easter Parade [trad]</td>\n",
              "      <td>B</td>\n",
              "      <td>B</td>\n",
              "      <td>0.804985</td>\n",
              "    </tr>\n",
              "    <tr>\n",
              "      <th>94</th>\n",
              "      <td>Take The A Train [jazz1350]</td>\n",
              "      <td>Big Butter And Egg Man [trad]</td>\n",
              "      <td>B</td>\n",
              "      <td>B</td>\n",
              "      <td>0.802378</td>\n",
              "    </tr>\n",
              "    <tr>\n",
              "      <th>95</th>\n",
              "      <td>Take The A Train [jazz1350]</td>\n",
              "      <td>Are You Lonesome Tonight [trad]</td>\n",
              "      <td>B</td>\n",
              "      <td>C</td>\n",
              "      <td>0.801784</td>\n",
              "    </tr>\n",
              "    <tr>\n",
              "      <th>96</th>\n",
              "      <td>Take The A Train [jazz1350]</td>\n",
              "      <td>Blue Hawaii [trad]</td>\n",
              "      <td>B</td>\n",
              "      <td>B</td>\n",
              "      <td>0.801784</td>\n",
              "    </tr>\n",
              "    <tr>\n",
              "      <th>97</th>\n",
              "      <td>Take The A Train [jazz1350]</td>\n",
              "      <td>Sentimental Journey [jazz1350]</td>\n",
              "      <td>B</td>\n",
              "      <td>B</td>\n",
              "      <td>0.800000</td>\n",
              "    </tr>\n",
              "    <tr>\n",
              "      <th>98</th>\n",
              "      <td>Take The A Train [jazz1350]</td>\n",
              "      <td>Oh! Lady Be Good [trad]</td>\n",
              "      <td>B</td>\n",
              "      <td>B</td>\n",
              "      <td>0.800000</td>\n",
              "    </tr>\n",
              "    <tr>\n",
              "      <th>99</th>\n",
              "      <td>Take The A Train [jazz1350]</td>\n",
              "      <td>Get Out And Get Under The Moon [trad]</td>\n",
              "      <td>B</td>\n",
              "      <td>B</td>\n",
              "      <td>0.800000</td>\n",
              "    </tr>\n",
              "    <tr>\n",
              "      <th>100</th>\n",
              "      <td>Take The A Train [jazz1350]</td>\n",
              "      <td>Phase Dance [jazz1350]</td>\n",
              "      <td>B</td>\n",
              "      <td>B</td>\n",
              "      <td>0.800000</td>\n",
              "    </tr>\n",
              "    <tr>\n",
              "      <th>101</th>\n",
              "      <td>Take The A Train [jazz1350]</td>\n",
              "      <td>All Alone By The Telephone [trad]</td>\n",
              "      <td>B</td>\n",
              "      <td>C</td>\n",
              "      <td>0.800000</td>\n",
              "    </tr>\n",
              "    <tr>\n",
              "      <th>102</th>\n",
              "      <td>Take The A Train [jazz1350]</td>\n",
              "      <td>You Belong To Me [trad]</td>\n",
              "      <td>B</td>\n",
              "      <td>B</td>\n",
              "      <td>0.800000</td>\n",
              "    </tr>\n",
              "    <tr>\n",
              "      <th>103</th>\n",
              "      <td>Take The A Train [jazz1350]</td>\n",
              "      <td>Yes Sir, That's My Baby [trad]</td>\n",
              "      <td>B</td>\n",
              "      <td>B</td>\n",
              "      <td>0.800000</td>\n",
              "    </tr>\n",
              "    <tr>\n",
              "      <th>104</th>\n",
              "      <td>Take The A Train [jazz1350]</td>\n",
              "      <td>Honeysuckle Rose [jazz1350]</td>\n",
              "      <td>B</td>\n",
              "      <td>B</td>\n",
              "      <td>0.800000</td>\n",
              "    </tr>\n",
              "    <tr>\n",
              "      <th>105</th>\n",
              "      <td>Take The A Train [jazz1350]</td>\n",
              "      <td>I'm Crazy 'Bout My Baby [trad]</td>\n",
              "      <td>B</td>\n",
              "      <td>B</td>\n",
              "      <td>0.800000</td>\n",
              "    </tr>\n",
              "    <tr>\n",
              "      <th>106</th>\n",
              "      <td>Take The A Train [jazz1350]</td>\n",
              "      <td>I Can't Dance, I've Got Ants In My Pants [trad]</td>\n",
              "      <td>B</td>\n",
              "      <td>B</td>\n",
              "      <td>0.800000</td>\n",
              "    </tr>\n",
              "    <tr>\n",
              "      <th>107</th>\n",
              "      <td>Take The A Train [jazz1350]</td>\n",
              "      <td>Serpent's Tooth [jazz1350]</td>\n",
              "      <td>B</td>\n",
              "      <td>B</td>\n",
              "      <td>0.800000</td>\n",
              "    </tr>\n",
              "    <tr>\n",
              "      <th>108</th>\n",
              "      <td>Take The A Train [jazz1350]</td>\n",
              "      <td>P.S. I Love You [jazz1350]</td>\n",
              "      <td>B</td>\n",
              "      <td>B</td>\n",
              "      <td>0.800000</td>\n",
              "    </tr>\n",
              "    <tr>\n",
              "      <th>109</th>\n",
              "      <td>Take The A Train [jazz1350]</td>\n",
              "      <td>Out In The Cold Again [trad]</td>\n",
              "      <td>B</td>\n",
              "      <td>B</td>\n",
              "      <td>0.800000</td>\n",
              "    </tr>\n",
              "    <tr>\n",
              "      <th>110</th>\n",
              "      <td>Take The A Train [jazz1350]</td>\n",
              "      <td>Chicken [trad]</td>\n",
              "      <td>B</td>\n",
              "      <td>B</td>\n",
              "      <td>0.800000</td>\n",
              "    </tr>\n",
              "    <tr>\n",
              "      <th>111</th>\n",
              "      <td>Take The A Train [jazz1350]</td>\n",
              "      <td>Nevertheless (I'm In Love With You) [trad]</td>\n",
              "      <td>B</td>\n",
              "      <td>B</td>\n",
              "      <td>0.800000</td>\n",
              "    </tr>\n",
              "    <tr>\n",
              "      <th>112</th>\n",
              "      <td>Take The A Train [jazz1350]</td>\n",
              "      <td>Coquette [trad]</td>\n",
              "      <td>B</td>\n",
              "      <td>B</td>\n",
              "      <td>0.800000</td>\n",
              "    </tr>\n",
              "    <tr>\n",
              "      <th>113</th>\n",
              "      <td>Take The A Train [jazz1350]</td>\n",
              "      <td>Darkness On The Delta [trad]</td>\n",
              "      <td>B</td>\n",
              "      <td>B</td>\n",
              "      <td>0.800000</td>\n",
              "    </tr>\n",
              "    <tr>\n",
              "      <th>114</th>\n",
              "      <td>Take The A Train [jazz1350]</td>\n",
              "      <td>I'm Alone Because I Love You [trad]</td>\n",
              "      <td>B</td>\n",
              "      <td>B</td>\n",
              "      <td>0.800000</td>\n",
              "    </tr>\n",
              "    <tr>\n",
              "      <th>115</th>\n",
              "      <td>Take The A Train [jazz1350]</td>\n",
              "      <td>Ladies Of Calcutta, The [trad]</td>\n",
              "      <td>B</td>\n",
              "      <td>B</td>\n",
              "      <td>0.800000</td>\n",
              "    </tr>\n",
              "    <tr>\n",
              "      <th>116</th>\n",
              "      <td>Take The A Train [jazz1350]</td>\n",
              "      <td>Jumpin' At The Woodside [trad]</td>\n",
              "      <td>B</td>\n",
              "      <td>B</td>\n",
              "      <td>0.800000</td>\n",
              "    </tr>\n",
              "    <tr>\n",
              "      <th>117</th>\n",
              "      <td>Take The A Train [jazz1350]</td>\n",
              "      <td>I've Got My Fingers Crossed [trad]</td>\n",
              "      <td>B</td>\n",
              "      <td>B</td>\n",
              "      <td>0.800000</td>\n",
              "    </tr>\n",
              "    <tr>\n",
              "      <th>118</th>\n",
              "      <td>Take The A Train [jazz1350]</td>\n",
              "      <td>52nd Street Theme [jazz1350]</td>\n",
              "      <td>B</td>\n",
              "      <td>B</td>\n",
              "      <td>0.800000</td>\n",
              "    </tr>\n",
              "  </tbody>\n",
              "</table>\n",
              "</div>"
            ],
            "text/plain": [
              "                 reference_title                                      similar_title ref_section_label similar_section_label     score\n",
              "0    Take The A Train [jazz1350]                           Jersey Bounce [jazz1350]                 A                     A  0.977009\n",
              "1    Take The A Train [jazz1350]                             Moten Swing [jazz1350]                 A                     A  0.977008\n",
              "2    Take The A Train [jazz1350]                            Crazy Rhythm [jazz1350]                 A                     A  0.977008\n",
              "3    Take The A Train [jazz1350]            Lady's In Love With You, The [jazz1350]                 A                     A  0.960159\n",
              "4    Take The A Train [jazz1350]                Alexander's Ragtime Band [jazz1350]                 A                     B  0.960159\n",
              "5    Take The A Train [jazz1350]                        Exactly Like You [jazz1350]                 A                     A  0.955533\n",
              "6    Take The A Train [jazz1350]  One I Love (Belongs To Somebody Else), The [ja...                 A                     A  0.948504\n",
              "7    Take The A Train [jazz1350]           People Will Say We're In Love [jazz1350]                 A                     A  0.943090\n",
              "8    Take The A Train [jazz1350]           For You, For Me, For Evermore [jazz1350]                 A                     B  0.939827\n",
              "9    Take The A Train [jazz1350]                    You Made Me Love You [jazz1350]                 A                     A  0.938916\n",
              "10   Take The A Train [jazz1350]                      Roll Along Prarie Moon [trad]                 A                     B  0.938103\n",
              "11   Take The A Train [jazz1350]                             Peg O' My Heart [trad]                 A                     A  0.935414\n",
              "12   Take The A Train [jazz1350]                    Darktown Strutters' Ball [trad]                 A                     A  0.935414\n",
              "13   Take The A Train [jazz1350]                     All Through The Day [jazz1350]                 A                     A  0.932007\n",
              "14   Take The A Train [jazz1350]                    Are You Lonesome Tonight [trad]                 A                     D  0.927426\n",
              "15   Take The A Train [jazz1350]                          Só Danço Samba [jazz1350]                 A                     A  0.927426\n",
              "16   Take The A Train [jazz1350]                             Mood Indigo [jazz1350]                 A                     A  0.924062\n",
              "17   Take The A Train [jazz1350]                            Don't Bring Lulu [trad]                 A                     C  0.923913\n",
              "18   Take The A Train [jazz1350]                          Same Old Love, The [trad]                 A                     A  0.921132\n",
              "19   Take The A Train [jazz1350]    One I Love Belongs To Somebody Else, The [trad]                 A                     A  0.918559\n",
              "20   Take The A Train [jazz1350]               Falling In Love With Love [jazz1350]                 A                     A  0.916909\n",
              "21   Take The A Train [jazz1350]              A Wonderful Day Like Today [jazz1350]                 A                     A  0.916909\n",
              "22   Take The A Train [jazz1350]                                  Gypsy, The [trad]                 A                     A  0.916515\n",
              "23   Take The A Train [jazz1350]              Don't Sit Under The Apple Tree [trad]                 A                     A  0.915303\n",
              "24   Take The A Train [jazz1350]                                    Memories [trad]                 A                     A  0.914659\n",
              "25   Take The A Train [jazz1350]                   True (You Don't Love Me ) [trad]                 A                     A  0.914659\n",
              "26   Take The A Train [jazz1350]                         Don't Sweetheart Me [trad]                 A                     A  0.914659\n",
              "27   Take The A Train [jazz1350]  I Can't Escape From You (San Jacinto Stomp) [t...                 A                     A  0.914659\n",
              "28   Take The A Train [jazz1350]                                  Abe My Boy [trad]                 A                     A  0.914659\n",
              "29   Take The A Train [jazz1350]                             Sleepy Time Gal [trad]                 A                     C  0.914659\n",
              "30   Take The A Train [jazz1350]                            When Day Is Done [trad]                 A                     A  0.914552\n",
              "31   Take The A Train [jazz1350]                           Groovin' High [jazz1350]                 A                     A  0.913414\n",
              "32   Take The A Train [jazz1350]                      Bark For Barksdale [jazz1350]                 A                     A  0.910032\n",
              "33   Take The A Train [jazz1350]                              Ask Me Now [jazz1350]                 A                     B  0.910031\n",
              "34   Take The A Train [jazz1350]            If There Is Someone Lovelier [jazz1350]                 A                     A  0.909106\n",
              "35   Take The A Train [jazz1350]                      All That I Ask Is Love [trad]                 A                     C  0.907485\n",
              "36   Take The A Train [jazz1350]                       After You've Gone [jazz1350]                 A                     B  0.907485\n",
              "37   Take The A Train [jazz1350]                                  Ugly Child [trad]                 A                     A  0.907265\n",
              "38   Take The A Train [jazz1350]                                       Ja-Da [trad]                 A                     A  0.907265\n",
              "39   Take The A Train [jazz1350]                     You're Driving Me Crazy [trad]                 A                     A  0.907265\n",
              "40   Take The A Train [jazz1350]                     And The Angels Sing [jazz1350]                 A                     A  0.907265\n",
              "41   Take The A Train [jazz1350]  I'm Gonna Sit Right Down and Write Myself A Le...                 A                     A  0.906425\n",
              "42   Take The A Train [jazz1350]                              Desafinado [jazz1350]                 A                     A  0.906425\n",
              "43   Take The A Train [jazz1350]                     I'm Crazy 'Bout My Baby [trad]                 A                     A  0.901498\n",
              "44   Take The A Train [jazz1350]          In A Shanty In Old Shanty Town [jazz1350]                 A                     B  0.901127\n",
              "45   Take The A Train [jazz1350]                            Roses Of Picardy [trad]                 A                     B  0.900885\n",
              "46   Take The A Train [jazz1350]                           I Double Dare You [trad]                 A                     A  0.899736\n",
              "47   Take The A Train [jazz1350]                          On Treasure Island [trad]                 A                     A  0.891133\n",
              "48   Take The A Train [jazz1350]                      My Honey's Loving Arms [trad]                 A                     C  0.885615\n",
              "49   Take The A Train [jazz1350]                        Little Girl Blue [jazz1350]                 A                     A  0.883006\n",
              "50   Take The A Train [jazz1350]         You Must Have Been A Beautiful Baby [trad]                 A                 verse  0.882994\n",
              "51   Take The A Train [jazz1350]                          Dearly Beloved [jazz1350]                 A                     C  0.882353\n",
              "52   Take The A Train [jazz1350]                                Chicago Buzz [trad]                 A                     A  0.882353\n",
              "53   Take The A Train [jazz1350]                 I Love You So Much It Hurts [trad]                 A                     A  0.882046\n",
              "54   Take The A Train [jazz1350]                                On The Alamo [trad]                 A                     A  0.879049\n",
              "55   Take The A Train [jazz1350]                  Girl From Ipanema, The [jazz1350]                 A                     A  0.879049\n",
              "56   Take The A Train [jazz1350]            Somebody Else Is Taking My Place [trad]                 A                     A  0.876714\n",
              "57   Take The A Train [jazz1350]              I've Got A Feeling I'm Falling [trad]                 A                     A  0.876714\n",
              "58   Take The A Train [jazz1350]  I May Be Wrong (But I Think You're Wonderful) ...                 A                     A  0.876714\n",
              "59   Take The A Train [jazz1350]                 I Love You So Much It Hurts [trad]                 A                     B  0.875517\n",
              "60   Take The A Train [jazz1350]                     Sentimental Journey [jazz1350]                 A                     A  0.875175\n",
              "61   Take The A Train [jazz1350]                                   Ko Ko [jazz1350]                 A                     A  0.874475\n",
              "62   Take The A Train [jazz1350]                                Cherokee [jazz1350]                 A                     A  0.874475\n",
              "63   Take The A Train [jazz1350]                    Darktown Strutters' Ball [trad]                 A                     B  0.873485\n",
              "64   Take The A Train [jazz1350]                                   Stumbling [trad]                 A                     A  0.873272\n",
              "65   Take The A Train [jazz1350]                               Tricotism [jazz1350]                 A                     A  0.873128\n",
              "66   Take The A Train [jazz1350]                           Working Man Blues [trad]                 A                     B  0.873128\n",
              "67   Take The A Train [jazz1350]          A Pretty Girl Is Like A Melody [jazz1350]                 A                     A  0.872402\n",
              "68   Take The A Train [jazz1350]                    You Can Depend On Me [jazz1350]                 B                     B  0.866025\n",
              "69   Take The A Train [jazz1350]                                    Move [jazz1350]                 B                     B  0.866025\n",
              "70   Take The A Train [jazz1350]                                    Memories [trad]                 B                     B  0.855236\n",
              "71   Take The A Train [jazz1350]                         Don't Sweetheart Me [trad]                 B                     B  0.855236\n",
              "72   Take The A Train [jazz1350]              Breezin' Along With The Breeze [trad]                 B                     B  0.855236\n",
              "73   Take The A Train [jazz1350]                                     Indiana [trad]                 B                     B  0.855236\n",
              "74   Take The A Train [jazz1350]                                  Abe My Boy [trad]                 B                     B  0.855236\n",
              "75   Take The A Train [jazz1350]                                  Cheers [jazz1350]                 B                     B  0.855236\n",
              "76   Take The A Train [jazz1350]                                     Wow [jazz1350]                 B                     C  0.855236\n",
              "77   Take The A Train [jazz1350]                  White Cliffs Of Dover, The [trad]                 B                     B  0.852803\n",
              "78   Take The A Train [jazz1350]                            We'll Meet Again [trad]                 B                     B  0.850000\n",
              "79   Take The A Train [jazz1350]              A Wonderful Day Like Today [jazz1350]                 B                     B  0.833238\n",
              "80   Take The A Train [jazz1350]                 Under A Blanket Of Blue [jazz1350]                 B                     B  0.832050\n",
              "81   Take The A Train [jazz1350]      I Can't Give You Anything But Love [jazz1350]                 B                     B  0.832050\n",
              "82   Take The A Train [jazz1350]                Lotus Eaters Bittersweet [jazz1350]                 B                     A  0.831522\n",
              "83   Take The A Train [jazz1350]                              Joker, The [jazz1350]                 B                     B  0.822192\n",
              "84   Take The A Train [jazz1350]         On The Sunny Side Of The Street [jazz1350]                 B                     B  0.822192\n",
              "85   Take The A Train [jazz1350]          I'm Confessin' That I Love You [jazz1350]                 B                     B  0.822192\n",
              "86   Take The A Train [jazz1350]                         I'm Coming Virginia [trad]                 B                     C  0.817059\n",
              "87   Take The A Train [jazz1350]                     Pennies From Heaven [jazz1350]                 B                     A  0.816497\n",
              "88   Take The A Train [jazz1350]     Weary Bules (AKA Shake It And Break It) [trad]                 B                     B  0.816496\n",
              "89   Take The A Train [jazz1350]                               Palo Alto [jazz1350]                 B                     B  0.811107\n",
              "90   Take The A Train [jazz1350]                          Só Danço Samba [jazz1350]                 B                     B  0.808290\n",
              "91   Take The A Train [jazz1350]                         Scotch And Soda [jazz1350]                 B                     B  0.804985\n",
              "92   Take The A Train [jazz1350]                 I Like The Likes Of You [jazz1350]                 B                     B  0.804985\n",
              "93   Take The A Train [jazz1350]                               Easter Parade [trad]                 B                     B  0.804985\n",
              "94   Take The A Train [jazz1350]                      Big Butter And Egg Man [trad]                 B                     B  0.802378\n",
              "95   Take The A Train [jazz1350]                    Are You Lonesome Tonight [trad]                 B                     C  0.801784\n",
              "96   Take The A Train [jazz1350]                                 Blue Hawaii [trad]                 B                     B  0.801784\n",
              "97   Take The A Train [jazz1350]                     Sentimental Journey [jazz1350]                 B                     B  0.800000\n",
              "98   Take The A Train [jazz1350]                            Oh! Lady Be Good [trad]                 B                     B  0.800000\n",
              "99   Take The A Train [jazz1350]              Get Out And Get Under The Moon [trad]                 B                     B  0.800000\n",
              "100  Take The A Train [jazz1350]                             Phase Dance [jazz1350]                 B                     B  0.800000\n",
              "101  Take The A Train [jazz1350]                  All Alone By The Telephone [trad]                 B                     C  0.800000\n",
              "102  Take The A Train [jazz1350]                            You Belong To Me [trad]                 B                     B  0.800000\n",
              "103  Take The A Train [jazz1350]                     Yes Sir, That's My Baby [trad]                 B                     B  0.800000\n",
              "104  Take The A Train [jazz1350]                        Honeysuckle Rose [jazz1350]                 B                     B  0.800000\n",
              "105  Take The A Train [jazz1350]                     I'm Crazy 'Bout My Baby [trad]                 B                     B  0.800000\n",
              "106  Take The A Train [jazz1350]    I Can't Dance, I've Got Ants In My Pants [trad]                 B                     B  0.800000\n",
              "107  Take The A Train [jazz1350]                         Serpent's Tooth [jazz1350]                 B                     B  0.800000\n",
              "108  Take The A Train [jazz1350]                         P.S. I Love You [jazz1350]                 B                     B  0.800000\n",
              "109  Take The A Train [jazz1350]                       Out In The Cold Again [trad]                 B                     B  0.800000\n",
              "110  Take The A Train [jazz1350]                                     Chicken [trad]                 B                     B  0.800000\n",
              "111  Take The A Train [jazz1350]         Nevertheless (I'm In Love With You) [trad]                 B                     B  0.800000\n",
              "112  Take The A Train [jazz1350]                                    Coquette [trad]                 B                     B  0.800000\n",
              "113  Take The A Train [jazz1350]                       Darkness On The Delta [trad]                 B                     B  0.800000\n",
              "114  Take The A Train [jazz1350]                I'm Alone Because I Love You [trad]                 B                     B  0.800000\n",
              "115  Take The A Train [jazz1350]                     Ladies Of Calcutta, The [trad]                 B                     B  0.800000\n",
              "116  Take The A Train [jazz1350]                     Jumpin' At The Woodside [trad]                 B                     B  0.800000\n",
              "117  Take The A Train [jazz1350]                 I've Got My Fingers Crossed [trad]                 B                     B  0.800000\n",
              "118  Take The A Train [jazz1350]                       52nd Street Theme [jazz1350]                 B                     B  0.800000"
            ]
          },
          "metadata": {},
          "execution_count": 84
        }
      ]
    },
    {
      "cell_type": "code",
      "metadata": {
        "id": "RX2JvEEGPGgS"
      },
      "source": [
        "if use_wandb:\n",
        "  wandb.log({\"scores_hist\": fig})"
      ],
      "execution_count": 85,
      "outputs": []
    },
    {
      "cell_type": "code",
      "metadata": {
        "colab": {
          "base_uri": "https://localhost:8080/",
          "height": 1000
        },
        "id": "7N81-XfdDFKV",
        "outputId": "a6b27d28-bed6-4df8-d8a2-a08a266addbc"
      },
      "source": [
        "result, details = recommend_tune(df_sim, 'These Foolish Things [jazz1350]')\n",
        "result.head(30)"
      ],
      "execution_count": 86,
      "outputs": [
        {
          "output_type": "execute_result",
          "data": {
            "text/html": [
              "<div>\n",
              "<style scoped>\n",
              "    .dataframe tbody tr th:only-of-type {\n",
              "        vertical-align: middle;\n",
              "    }\n",
              "\n",
              "    .dataframe tbody tr th {\n",
              "        vertical-align: top;\n",
              "    }\n",
              "\n",
              "    .dataframe thead th {\n",
              "        text-align: right;\n",
              "    }\n",
              "</style>\n",
              "<table border=\"1\" class=\"dataframe\">\n",
              "  <thead>\n",
              "    <tr style=\"text-align: right;\">\n",
              "      <th></th>\n",
              "      <th>index</th>\n",
              "      <th>reference</th>\n",
              "      <th>reference_titleid</th>\n",
              "      <th>similar_title</th>\n",
              "      <th>score</th>\n",
              "      <th>max</th>\n",
              "      <th>score_div_max</th>\n",
              "      <th>similar_titleid</th>\n",
              "    </tr>\n",
              "  </thead>\n",
              "  <tbody>\n",
              "    <tr>\n",
              "      <th>0</th>\n",
              "      <td>0</td>\n",
              "      <td>These Foolish Things [jazz1350]</td>\n",
              "      <td>1165</td>\n",
              "      <td>More Than You Know [jazz1350]</td>\n",
              "      <td>0.916515</td>\n",
              "      <td>0.916515</td>\n",
              "      <td>1.000000</td>\n",
              "      <td>826</td>\n",
              "    </tr>\n",
              "    <tr>\n",
              "      <th>1</th>\n",
              "      <td>1</td>\n",
              "      <td>These Foolish Things [jazz1350]</td>\n",
              "      <td>1165</td>\n",
              "      <td>Way You Look Tonight, The [jazz1350]</td>\n",
              "      <td>0.942543</td>\n",
              "      <td>0.954669</td>\n",
              "      <td>0.994969</td>\n",
              "      <td>1250</td>\n",
              "    </tr>\n",
              "    <tr>\n",
              "      <th>2</th>\n",
              "      <td>2</td>\n",
              "      <td>These Foolish Things [jazz1350]</td>\n",
              "      <td>1165</td>\n",
              "      <td>Party's Over, The [jazz1350]</td>\n",
              "      <td>0.922840</td>\n",
              "      <td>0.954669</td>\n",
              "      <td>0.991636</td>\n",
              "      <td>932</td>\n",
              "    </tr>\n",
              "    <tr>\n",
              "      <th>3</th>\n",
              "      <td>3</td>\n",
              "      <td>These Foolish Things [jazz1350]</td>\n",
              "      <td>1165</td>\n",
              "      <td>It's Easy To Remember [jazz1350]</td>\n",
              "      <td>0.951817</td>\n",
              "      <td>0.954669</td>\n",
              "      <td>0.984507</td>\n",
              "      <td>634</td>\n",
              "    </tr>\n",
              "    <tr>\n",
              "      <th>4</th>\n",
              "      <td>4</td>\n",
              "      <td>These Foolish Things [jazz1350]</td>\n",
              "      <td>1165</td>\n",
              "      <td>Look To The Rainbow [jazz1350]</td>\n",
              "      <td>0.895809</td>\n",
              "      <td>0.911765</td>\n",
              "      <td>0.982500</td>\n",
              "      <td>739</td>\n",
              "    </tr>\n",
              "    <tr>\n",
              "      <th>5</th>\n",
              "      <td>5</td>\n",
              "      <td>These Foolish Things [jazz1350]</td>\n",
              "      <td>1165</td>\n",
              "      <td>I've Got You Under My Skin [jazz1350]</td>\n",
              "      <td>0.895171</td>\n",
              "      <td>0.911765</td>\n",
              "      <td>0.981801</td>\n",
              "      <td>565</td>\n",
              "    </tr>\n",
              "    <tr>\n",
              "      <th>6</th>\n",
              "      <td>6</td>\n",
              "      <td>These Foolish Things [jazz1350]</td>\n",
              "      <td>1165</td>\n",
              "      <td>And The Angels Sing [jazz1350]</td>\n",
              "      <td>0.920751</td>\n",
              "      <td>0.954669</td>\n",
              "      <td>0.979704</td>\n",
              "      <td>78</td>\n",
              "    </tr>\n",
              "    <tr>\n",
              "      <th>7</th>\n",
              "      <td>7</td>\n",
              "      <td>These Foolish Things [jazz1350]</td>\n",
              "      <td>1165</td>\n",
              "      <td>Mean To Me [jazz1350]</td>\n",
              "      <td>0.893260</td>\n",
              "      <td>0.911765</td>\n",
              "      <td>0.979704</td>\n",
              "      <td>780</td>\n",
              "    </tr>\n",
              "    <tr>\n",
              "      <th>8</th>\n",
              "      <td>8</td>\n",
              "      <td>These Foolish Things [jazz1350]</td>\n",
              "      <td>1165</td>\n",
              "      <td>They All Laughed [jazz1350]</td>\n",
              "      <td>0.928085</td>\n",
              "      <td>0.954669</td>\n",
              "      <td>0.979704</td>\n",
              "      <td>1166</td>\n",
              "    </tr>\n",
              "    <tr>\n",
              "      <th>9</th>\n",
              "      <td>9</td>\n",
              "      <td>These Foolish Things [jazz1350]</td>\n",
              "      <td>1165</td>\n",
              "      <td>'Tain't No Sin To Take Off Your Skin [trad]</td>\n",
              "      <td>0.893089</td>\n",
              "      <td>0.911765</td>\n",
              "      <td>0.979517</td>\n",
              "      <td>1336</td>\n",
              "    </tr>\n",
              "    <tr>\n",
              "      <th>10</th>\n",
              "      <td>10</td>\n",
              "      <td>These Foolish Things [jazz1350]</td>\n",
              "      <td>1165</td>\n",
              "      <td>Rosalie [trad]</td>\n",
              "      <td>0.918361</td>\n",
              "      <td>0.939280</td>\n",
              "      <td>0.978148</td>\n",
              "      <td>1588</td>\n",
              "    </tr>\n",
              "    <tr>\n",
              "      <th>11</th>\n",
              "      <td>11</td>\n",
              "      <td>These Foolish Things [jazz1350]</td>\n",
              "      <td>1165</td>\n",
              "      <td>It's A Lovely Day Today [jazz1350]</td>\n",
              "      <td>0.913088</td>\n",
              "      <td>0.933217</td>\n",
              "      <td>0.978136</td>\n",
              "      <td>629</td>\n",
              "    </tr>\n",
              "    <tr>\n",
              "      <th>12</th>\n",
              "      <td>12</td>\n",
              "      <td>These Foolish Things [jazz1350]</td>\n",
              "      <td>1165</td>\n",
              "      <td>Rosetta [jazz1350]</td>\n",
              "      <td>0.895443</td>\n",
              "      <td>0.916515</td>\n",
              "      <td>0.977009</td>\n",
              "      <td>993</td>\n",
              "    </tr>\n",
              "    <tr>\n",
              "      <th>13</th>\n",
              "      <td>13</td>\n",
              "      <td>These Foolish Things [jazz1350]</td>\n",
              "      <td>1165</td>\n",
              "      <td>Miss Otis Regrets [trad]</td>\n",
              "      <td>0.917141</td>\n",
              "      <td>0.939280</td>\n",
              "      <td>0.976666</td>\n",
              "      <td>1540</td>\n",
              "    </tr>\n",
              "    <tr>\n",
              "      <th>14</th>\n",
              "      <td>14</td>\n",
              "      <td>These Foolish Things [jazz1350]</td>\n",
              "      <td>1165</td>\n",
              "      <td>Stairway To The Stars [jazz1350]</td>\n",
              "      <td>0.932095</td>\n",
              "      <td>0.954669</td>\n",
              "      <td>0.975358</td>\n",
              "      <td>1094</td>\n",
              "    </tr>\n",
              "    <tr>\n",
              "      <th>15</th>\n",
              "      <td>15</td>\n",
              "      <td>These Foolish Things [jazz1350]</td>\n",
              "      <td>1165</td>\n",
              "      <td>Bewitched [jazz1350]</td>\n",
              "      <td>0.926302</td>\n",
              "      <td>0.954669</td>\n",
              "      <td>0.975229</td>\n",
              "      <td>131</td>\n",
              "    </tr>\n",
              "    <tr>\n",
              "      <th>16</th>\n",
              "      <td>16</td>\n",
              "      <td>These Foolish Things [jazz1350]</td>\n",
              "      <td>1165</td>\n",
              "      <td>I Don't Want To Miss Mississippi [jazz1350]</td>\n",
              "      <td>0.915110</td>\n",
              "      <td>0.939280</td>\n",
              "      <td>0.974624</td>\n",
              "      <td>496</td>\n",
              "    </tr>\n",
              "    <tr>\n",
              "      <th>17</th>\n",
              "      <td>17</td>\n",
              "      <td>These Foolish Things [jazz1350]</td>\n",
              "      <td>1165</td>\n",
              "      <td>I Like The Likes Of You [jazz1350]</td>\n",
              "      <td>0.910642</td>\n",
              "      <td>0.911765</td>\n",
              "      <td>0.974528</td>\n",
              "      <td>513</td>\n",
              "    </tr>\n",
              "    <tr>\n",
              "      <th>18</th>\n",
              "      <td>18</td>\n",
              "      <td>These Foolish Things [jazz1350]</td>\n",
              "      <td>1165</td>\n",
              "      <td>If There Is Someone Lovelier [jazz1350]</td>\n",
              "      <td>0.910182</td>\n",
              "      <td>0.954669</td>\n",
              "      <td>0.974437</td>\n",
              "      <td>579</td>\n",
              "    </tr>\n",
              "    <tr>\n",
              "      <th>19</th>\n",
              "      <td>19</td>\n",
              "      <td>These Foolish Things [jazz1350]</td>\n",
              "      <td>1165</td>\n",
              "      <td>Far Away Blues [trad]</td>\n",
              "      <td>0.886844</td>\n",
              "      <td>0.911765</td>\n",
              "      <td>0.972668</td>\n",
              "      <td>1448</td>\n",
              "    </tr>\n",
              "    <tr>\n",
              "      <th>20</th>\n",
              "      <td>20</td>\n",
              "      <td>These Foolish Things [jazz1350]</td>\n",
              "      <td>1165</td>\n",
              "      <td>Clarinet Marmalade [trad]</td>\n",
              "      <td>0.886844</td>\n",
              "      <td>0.911765</td>\n",
              "      <td>0.972668</td>\n",
              "      <td>1411</td>\n",
              "    </tr>\n",
              "    <tr>\n",
              "      <th>21</th>\n",
              "      <td>21</td>\n",
              "      <td>These Foolish Things [jazz1350]</td>\n",
              "      <td>1165</td>\n",
              "      <td>All The Way [jazz1350]</td>\n",
              "      <td>0.912779</td>\n",
              "      <td>0.939280</td>\n",
              "      <td>0.972342</td>\n",
              "      <td>64</td>\n",
              "    </tr>\n",
              "    <tr>\n",
              "      <th>22</th>\n",
              "      <td>22</td>\n",
              "      <td>These Foolish Things [jazz1350]</td>\n",
              "      <td>1165</td>\n",
              "      <td>Cottontail [jazz1350]</td>\n",
              "      <td>0.890264</td>\n",
              "      <td>0.911765</td>\n",
              "      <td>0.971825</td>\n",
              "      <td>258</td>\n",
              "    </tr>\n",
              "    <tr>\n",
              "      <th>23</th>\n",
              "      <td>23</td>\n",
              "      <td>These Foolish Things [jazz1350]</td>\n",
              "      <td>1165</td>\n",
              "      <td>Good Life, The [jazz1350]</td>\n",
              "      <td>0.886076</td>\n",
              "      <td>0.911765</td>\n",
              "      <td>0.971825</td>\n",
              "      <td>434</td>\n",
              "    </tr>\n",
              "    <tr>\n",
              "      <th>24</th>\n",
              "      <td>24</td>\n",
              "      <td>These Foolish Things [jazz1350]</td>\n",
              "      <td>1165</td>\n",
              "      <td>You Are Too Beautiful [jazz1350]</td>\n",
              "      <td>0.886076</td>\n",
              "      <td>0.911765</td>\n",
              "      <td>0.971825</td>\n",
              "      <td>1305</td>\n",
              "    </tr>\n",
              "    <tr>\n",
              "      <th>25</th>\n",
              "      <td>25</td>\n",
              "      <td>These Foolish Things [jazz1350]</td>\n",
              "      <td>1165</td>\n",
              "      <td>For Once In My Life [jazz1350]</td>\n",
              "      <td>0.905516</td>\n",
              "      <td>0.933217</td>\n",
              "      <td>0.970492</td>\n",
              "      <td>394</td>\n",
              "    </tr>\n",
              "    <tr>\n",
              "      <th>26</th>\n",
              "      <td>26</td>\n",
              "      <td>These Foolish Things [jazz1350]</td>\n",
              "      <td>1165</td>\n",
              "      <td>For You, For Me, For Evermore [jazz1350]</td>\n",
              "      <td>0.911212</td>\n",
              "      <td>0.939280</td>\n",
              "      <td>0.970292</td>\n",
              "      <td>396</td>\n",
              "    </tr>\n",
              "    <tr>\n",
              "      <th>27</th>\n",
              "      <td>27</td>\n",
              "      <td>These Foolish Things [jazz1350]</td>\n",
              "      <td>1165</td>\n",
              "      <td>Easy Street [jazz1350]</td>\n",
              "      <td>0.926302</td>\n",
              "      <td>0.954669</td>\n",
              "      <td>0.970287</td>\n",
              "      <td>340</td>\n",
              "    </tr>\n",
              "    <tr>\n",
              "      <th>28</th>\n",
              "      <td>28</td>\n",
              "      <td>These Foolish Things [jazz1350]</td>\n",
              "      <td>1165</td>\n",
              "      <td>You Keep Coming Back Like A Song [jazz1350]</td>\n",
              "      <td>0.910894</td>\n",
              "      <td>0.939280</td>\n",
              "      <td>0.969898</td>\n",
              "      <td>1313</td>\n",
              "    </tr>\n",
              "    <tr>\n",
              "      <th>29</th>\n",
              "      <td>29</td>\n",
              "      <td>These Foolish Things [jazz1350]</td>\n",
              "      <td>1165</td>\n",
              "      <td>Let's Fall In Love [jazz1350]</td>\n",
              "      <td>0.928955</td>\n",
              "      <td>0.960732</td>\n",
              "      <td>0.966952</td>\n",
              "      <td>705</td>\n",
              "    </tr>\n",
              "  </tbody>\n",
              "</table>\n",
              "</div>"
            ],
            "text/plain": [
              "    index                        reference  reference_titleid                                similar_title     score       max  score_div_max  similar_titleid\n",
              "0       0  These Foolish Things [jazz1350]               1165                More Than You Know [jazz1350]  0.916515  0.916515       1.000000              826\n",
              "1       1  These Foolish Things [jazz1350]               1165         Way You Look Tonight, The [jazz1350]  0.942543  0.954669       0.994969             1250\n",
              "2       2  These Foolish Things [jazz1350]               1165                 Party's Over, The [jazz1350]  0.922840  0.954669       0.991636              932\n",
              "3       3  These Foolish Things [jazz1350]               1165             It's Easy To Remember [jazz1350]  0.951817  0.954669       0.984507              634\n",
              "4       4  These Foolish Things [jazz1350]               1165               Look To The Rainbow [jazz1350]  0.895809  0.911765       0.982500              739\n",
              "5       5  These Foolish Things [jazz1350]               1165        I've Got You Under My Skin [jazz1350]  0.895171  0.911765       0.981801              565\n",
              "6       6  These Foolish Things [jazz1350]               1165               And The Angels Sing [jazz1350]  0.920751  0.954669       0.979704               78\n",
              "7       7  These Foolish Things [jazz1350]               1165                        Mean To Me [jazz1350]  0.893260  0.911765       0.979704              780\n",
              "8       8  These Foolish Things [jazz1350]               1165                  They All Laughed [jazz1350]  0.928085  0.954669       0.979704             1166\n",
              "9       9  These Foolish Things [jazz1350]               1165  'Tain't No Sin To Take Off Your Skin [trad]  0.893089  0.911765       0.979517             1336\n",
              "10     10  These Foolish Things [jazz1350]               1165                               Rosalie [trad]  0.918361  0.939280       0.978148             1588\n",
              "11     11  These Foolish Things [jazz1350]               1165           It's A Lovely Day Today [jazz1350]  0.913088  0.933217       0.978136              629\n",
              "12     12  These Foolish Things [jazz1350]               1165                           Rosetta [jazz1350]  0.895443  0.916515       0.977009              993\n",
              "13     13  These Foolish Things [jazz1350]               1165                     Miss Otis Regrets [trad]  0.917141  0.939280       0.976666             1540\n",
              "14     14  These Foolish Things [jazz1350]               1165             Stairway To The Stars [jazz1350]  0.932095  0.954669       0.975358             1094\n",
              "15     15  These Foolish Things [jazz1350]               1165                         Bewitched [jazz1350]  0.926302  0.954669       0.975229              131\n",
              "16     16  These Foolish Things [jazz1350]               1165  I Don't Want To Miss Mississippi [jazz1350]  0.915110  0.939280       0.974624              496\n",
              "17     17  These Foolish Things [jazz1350]               1165           I Like The Likes Of You [jazz1350]  0.910642  0.911765       0.974528              513\n",
              "18     18  These Foolish Things [jazz1350]               1165      If There Is Someone Lovelier [jazz1350]  0.910182  0.954669       0.974437              579\n",
              "19     19  These Foolish Things [jazz1350]               1165                        Far Away Blues [trad]  0.886844  0.911765       0.972668             1448\n",
              "20     20  These Foolish Things [jazz1350]               1165                    Clarinet Marmalade [trad]  0.886844  0.911765       0.972668             1411\n",
              "21     21  These Foolish Things [jazz1350]               1165                       All The Way [jazz1350]  0.912779  0.939280       0.972342               64\n",
              "22     22  These Foolish Things [jazz1350]               1165                        Cottontail [jazz1350]  0.890264  0.911765       0.971825              258\n",
              "23     23  These Foolish Things [jazz1350]               1165                    Good Life, The [jazz1350]  0.886076  0.911765       0.971825              434\n",
              "24     24  These Foolish Things [jazz1350]               1165             You Are Too Beautiful [jazz1350]  0.886076  0.911765       0.971825             1305\n",
              "25     25  These Foolish Things [jazz1350]               1165               For Once In My Life [jazz1350]  0.905516  0.933217       0.970492              394\n",
              "26     26  These Foolish Things [jazz1350]               1165     For You, For Me, For Evermore [jazz1350]  0.911212  0.939280       0.970292              396\n",
              "27     27  These Foolish Things [jazz1350]               1165                       Easy Street [jazz1350]  0.926302  0.954669       0.970287              340\n",
              "28     28  These Foolish Things [jazz1350]               1165  You Keep Coming Back Like A Song [jazz1350]  0.910894  0.939280       0.969898             1313\n",
              "29     29  These Foolish Things [jazz1350]               1165                Let's Fall In Love [jazz1350]  0.928955  0.960732       0.966952              705"
            ]
          },
          "metadata": {},
          "execution_count": 86
        }
      ]
    },
    {
      "cell_type": "code",
      "metadata": {
        "id": "15ZsHOQmyyah"
      },
      "source": [
        "dd = pd.DataFrame(columns = recommender_results_cols)\n",
        "\n",
        "for tune in tunes_eval_list:\n",
        "  result, details = recommend_tune(df_sim, tune)\n",
        "  dd['id'] = result['index']\n",
        "  dd['reference'] = tune\n",
        "  dd['method'] = 'lsi'\n",
        "  dd['similar'] = result['similar_title']\n",
        "  dd['score_div_max'] = result['score_div_max']\n",
        "  dd['score'] = result['score']\n",
        "\n",
        "recommender_results = recommender_results.append(dd)"
      ],
      "execution_count": 87,
      "outputs": []
    },
    {
      "cell_type": "markdown",
      "metadata": {
        "id": "Ojrjp11ni6Pl"
      },
      "source": [
        "### Tests for Contrafacts"
      ]
    },
    {
      "cell_type": "code",
      "metadata": {
        "id": "cXBfeHBl00Zh",
        "outputId": "aea51cf1-5d72-43bd-d709-4100e1034e86",
        "colab": {
          "base_uri": "https://localhost:8080/"
        }
      },
      "source": [
        "len(results)"
      ],
      "execution_count": 119,
      "outputs": [
        {
          "output_type": "execute_result",
          "data": {
            "text/plain": [
              "111"
            ]
          },
          "metadata": {},
          "execution_count": 119
        }
      ]
    },
    {
      "cell_type": "code",
      "metadata": {
        "id": "KbjSJgwp02ED",
        "outputId": "fb9cac54-2b2e-4f35-f9a2-602af6a7ad3e",
        "colab": {
          "base_uri": "https://localhost:8080/"
        }
      },
      "source": [
        "len(contrafacts)"
      ],
      "execution_count": 120,
      "outputs": [
        {
          "output_type": "execute_result",
          "data": {
            "text/plain": [
              "113"
            ]
          },
          "metadata": {},
          "execution_count": 120
        }
      ]
    },
    {
      "cell_type": "code",
      "metadata": {
        "id": "vHeA-a-20_Bj",
        "outputId": "9958d94c-17b5-4402-8fbd-424dd765d35d",
        "colab": {
          "base_uri": "https://localhost:8080/"
        }
      },
      "source": [
        "contrafacts"
      ],
      "execution_count": 122,
      "outputs": [
        {
          "output_type": "execute_result",
          "data": {
            "text/plain": [
              "[('26-2 [jazz1350]', 'Confirmation [jazz1350]'),\n",
              " ('52nd Street Theme [jazz1350]', 'I Got Rhythm [jazz1350]'),\n",
              " ('Ablution [jazz1350]', 'All The Things You Are [jazz1350]'),\n",
              " ('Anthropology [jazz1350]', 'I Got Rhythm [jazz1350]'),\n",
              " ('Ballade [jazz1350]', 'As Long As I Live [jazz1350]'),\n",
              " ('Bright Mississippi [jazz1350]', 'Sweet Georgia Brown [jazz1350]'),\n",
              " ('C.T.A. [jazz1350]', 'I Got Rhythm [jazz1350]'),\n",
              " ('Cottontail [jazz1350]', 'I Got Rhythm [jazz1350]'),\n",
              " ('Countdown [jazz1350]', 'Tune Up [jazz1350]'),\n",
              " ('Dewey Square [jazz1350]', 'Oh, Lady Be Good [jazz1350]'),\n",
              " ('Dexterity [jazz1350]', 'I Got Rhythm [jazz1350]'),\n",
              " ('Dig [jazz1350]', 'Sweet Georgia Brown [jazz1350]'),\n",
              " ('Donna Lee [jazz1350]', 'Indiana (Back Home Again In) [jazz1350]'),\n",
              " (\"Don't Be That Way [jazz1350]\", 'I Got Rhythm [jazz1350]'),\n",
              " ('Evidence [jazz1350]', 'Just You, Just Me [jazz1350]'),\n",
              " ('Flintstones [jazz1350]', 'I Got Rhythm [jazz1350]'),\n",
              " ('Four On Six [jazz1350]', 'Summertime [jazz1350]'),\n",
              " ('Freight Train [jazz1350]', 'Blues For Alice [jazz1350]'),\n",
              " ('Good Bait [jazz1350]', 'I Got Rhythm [jazz1350]'),\n",
              " ('Hackensack [jazz1350]', 'Oh, Lady Be Good [jazz1350]'),\n",
              " ('Half Nelson [jazz1350]', 'Lady Bird [jazz1350]'),\n",
              " ('Hot House [jazz1350]', 'What Is This Thing Called Love [jazz1350]'),\n",
              " ('Impressions [jazz1350]', 'So What [jazz1350]'),\n",
              " ('In A Mellow Tone (In A Mellotone) [jazz1350]', 'Rose Room [jazz1350]'),\n",
              " ('In Walked Bud [jazz1350]', 'Blue Skies [jazz1350]'),\n",
              " ('Ko Ko [jazz1350]', 'Cherokee [jazz1350]'),\n",
              " (\"Lennie's Pennies [jazz1350]\", 'Pennies From Heaven [jazz1350]'),\n",
              " ('Little Rootie Tootie [jazz1350]', 'I Got Rhythm [jazz1350]'),\n",
              " ('Little Willie Leaps [jazz1350]', \"All God's Chillun Got Rhythm [jazz1350]\"),\n",
              " ('Lullaby Of Birdland [jazz1350]', 'Love Me Or Leave Me [jazz1350]'),\n",
              " ('My Little Suede Shoes [jazz1350]', 'Jeepers Creepers [jazz1350]'),\n",
              " ('Ornithology [jazz1350]', 'How High The Moon [jazz1350]'),\n",
              " ('Quasimodo (Theme) [jazz1350]', 'Embraceable You [jazz1350]'),\n",
              " ('Room 608 [jazz1350]', 'I Got Rhythm [jazz1350]'),\n",
              " ('Satellite [jazz1350]', 'How High The Moon [jazz1350]'),\n",
              " ('Scrapple From The Apple [jazz1350]', 'Honeysuckle Rose [jazz1350]'),\n",
              " ('Scrapple From The Apple [jazz1350]', 'I Got Rhythm [jazz1350]'),\n",
              " ('Tour De Force [jazz1350]', 'Jeepers Creepers [jazz1350]'),\n",
              " ('Wow [jazz1350]', 'You Can Depend On Me [jazz1350]'),\n",
              " ('Yardbird Suite [jazz1350]', 'Rosetta [jazz1350]'),\n",
              " ('Sweet Sue, Just You [jazz1350]', 'Honeysuckle Rose [jazz1350]'),\n",
              " ('Sweet Sue, Just You [jazz1350]', 'Bye Bye Blackbird [jazz1350]'),\n",
              " ('These Foolish Things [jazz1350]', 'Blue Moon [jazz1350]'),\n",
              " ('These Foolish Things [jazz1350]', 'More Than You Know [jazz1350]'),\n",
              " ('These Foolish Things [jazz1350]', \"Isn't It A Pity [jazz1350]\"),\n",
              " ('These Foolish Things [jazz1350]', 'Soultrane [jazz1350]'),\n",
              " ('These Foolish Things [jazz1350]', 'Why Do I Love You [jazz1350]'),\n",
              " ('Misty [jazz1350]', 'Portrait Of Jennie [jazz1350]'),\n",
              " ('Misty [jazz1350]', 'September In The Rain [jazz1350]'),\n",
              " ('Misty [jazz1350]', 'I May Be Wrong [jazz1350]'),\n",
              " ('Five Foot Two [trad]', \"Please Don't Talk About Me When I'm Gone [trad]\"),\n",
              " ('What Is This Thing Called Love [jazz1350]', 'Subconscious Lee [jazz1350]'),\n",
              " ('Sweet Georgia Brown [jazz1350]', 'Dig [jazz1350]'),\n",
              " ('What Is This Thing Called Love [jazz1350]', 'Hot House [jazz1350]'),\n",
              " (\"Jeannie's Song [jazz1350]\", 'Shiny Stockings [jazz1350]'),\n",
              " ('Alone Together [jazz1350]', 'Segment [jazz1350]'),\n",
              " ('Baubles, Bangles and Beads [jazz1350]', 'Bossa Antigua [jazz1350]'),\n",
              " ('There Will Never Be Another You [jazz1350]',\n",
              "  'A Weaver Of Dreams [jazz1350]'),\n",
              " ('Moten Swing [jazz1350]', 'Once In A While (Ballad) [trad]'),\n",
              " ('All I Do Is Dream Of You [trad]', 'L-O-V-E [jazz1350]'),\n",
              " ('Nancy (With The Laughing Face) [jazz1350]', 'Body And Soul [jazz1350]'),\n",
              " ('Exactly Like You [jazz1350]', \"True (You Don't Love Me ) [trad]\"),\n",
              " ('Exactly Like You [jazz1350]', \"True (You Don't Love Me ) [trad]\"),\n",
              " ('Exactly Like You [jazz1350]', 'Jersey Bounce [trad]'),\n",
              " ('Take The A Train [jazz1350]', 'Girl From Ipanema, The [jazz1350]'),\n",
              " ('My Heart Stood Still [jazz1350]', 'All Too Soon [jazz1350]'),\n",
              " ('Undecided [jazz1350]', 'Broadway [jazz1350]'),\n",
              " ('My Heart Stood Still [jazz1350]', 'All Too Soon [jazz1350]'),\n",
              " (\"Let's Fall In Love [jazz1350]\", 'Heart And Soul [jazz1350]'),\n",
              " ('Come Back To Me [jazz1350]', 'I Wish I Knew [jazz1350]'),\n",
              " ('Wait Till You See Her [jazz1350]', 'A Certain Smile [jazz1350]'),\n",
              " ('Killer Joe [jazz1350]', 'Straight Life [jazz1350]'),\n",
              " ('Softly, As In A Morning Sunrise [jazz1350]', 'Segment [jazz1350]'),\n",
              " ('Bei Mir Bist Du Schon (Root Hog Or Die) [trad]', 'Egyptian Fantasy [trad]'),\n",
              " ('Bei Mir Bist Du Schon (Root Hog Or Die) [trad]',\n",
              "  \"Puttin' On The Ritz [jazz1350]\"),\n",
              " ('Coquette [trad]', \"Pretend You're Happy When You're Blue [trad]\"),\n",
              " ('Softly, As In A Morning Sunrise [jazz1350]', 'Strode Rode [jazz1350]'),\n",
              " ('Glory Of Love, The [jazz1350]', \"I've Got My Fingers Crossed [trad]\"),\n",
              " ('If I Had You [jazz1350]', 'Too Young To Go Steady [jazz1350]'),\n",
              " ('Undecided [jazz1350]', 'Satin Doll [jazz1350]'),\n",
              " ('Billy Boy [jazz1350]', 'Elora [jazz1350]'),\n",
              " ('Dearly Beloved [jazz1350]', 'We See [jazz1350]'),\n",
              " ('Alone Together [jazz1350]', 'A Night In Tunisia [jazz1350]'),\n",
              " ('A Night In Tunisia [jazz1350]', 'Segment [jazz1350]'),\n",
              " ('Oh! Lady Be Good [trad]', 'Sentimental Journey [jazz1350]'),\n",
              " ('You Can Depend On Me [jazz1350]', 'Move [jazz1350]'),\n",
              " ('I Want To Be Happy [jazz1350]', 'A Beautiful Friendship [jazz1350]'),\n",
              " ('Flying Home [jazz1350]', 'Down For Double [jazz1350]'),\n",
              " ('Cheek To Cheek [jazz1350]', 'Violets For Your Furs [jazz1350]'),\n",
              " (\"Let's Fall In Love [jazz1350]\", 'At Last [jazz1350]'),\n",
              " (\"Don't Be That Way [jazz1350]\", 'Long Ago And Far Away [jazz1350]'),\n",
              " ('On The Sunny Side Of The Street [jazz1350]',\n",
              "  \"I'm Confessin' That I Love You [jazz1350]\"),\n",
              " ('On The Sunny Side Of The Street [jazz1350]', 'Eclypso [jazz1350]'),\n",
              " ('On The Sunny Side Of The Street [jazz1350]',\n",
              "  'You Stepped Out Of A Dream [jazz1350]'),\n",
              " ('I Like The Likes Of You [jazz1350]', 'Mountain Greenery [jazz1350]'),\n",
              " ('My Secret Love [jazz1350]', 'Samba De Orfeu [jazz1350]'),\n",
              " (\"Let's Call The Whole Thing Off [jazz1350]\", 'Fine And Dandy [jazz1350]'),\n",
              " ('Folks Who Live On The Hill, The [jazz1350]',\n",
              "  'My One And Only Love [jazz1350]'),\n",
              " ('As Long As I Live [jazz1350]', \"I'm Glad There Is You [jazz1350]\"),\n",
              " ('I May Be Wrong [jazz1350]', 'Teach Me Tonight [jazz1350]'),\n",
              " ('Am I Blue [jazz1350]', 'Come Back To Me [jazz1350]'),\n",
              " ('My One And Only Love [jazz1350]', 'Am I Blue [jazz1350]'),\n",
              " ('On The Sunny Side Of The Street [jazz1350]',\n",
              "  'September In The Rain [jazz1350]'),\n",
              " ('On The Sunny Side Of The Street [jazz1350]',\n",
              "  'Mountain Greenery [jazz1350]'),\n",
              " ('On The Sunny Side Of The Street [jazz1350]', \"There's No You [jazz1350]\"),\n",
              " ('These Foolish Things [jazz1350]', 'Embraceable You [jazz1350]'),\n",
              " ('These Foolish Things [jazz1350]', 'Rosetta [jazz1350]'),\n",
              " ('Bill Bailey [jazz1350]', 'Bourbon Street Parade [jazz1350]'),\n",
              " (\"Woody'n You [jazz1350]\", 'Stella By Starlight [jazz1350]'),\n",
              " ('Tangerine [jazz1350]', 'Tea For Two [jazz1350]'),\n",
              " (\"I Can't Give You Anything But Love [jazz1350]\",\n",
              "  'You Can Depend On Me [jazz1350]'),\n",
              " (\"This Year's Kisses [jazz1350]\", 'My Monday Date [trad]'),\n",
              " ('A Blossom Fell [jazz1350]', 'Among My Souvenirs [jazz1350]')]"
            ]
          },
          "metadata": {},
          "execution_count": 122
        }
      ]
    },
    {
      "cell_type": "code",
      "metadata": {
        "id": "amN5AML908r3",
        "outputId": "69699057-7901-4bea-d9fd-2c4028bec216",
        "colab": {
          "base_uri": "https://localhost:8080/"
        }
      },
      "source": [
        "results"
      ],
      "execution_count": 121,
      "outputs": [
        {
          "output_type": "execute_result",
          "data": {
            "text/plain": [
              "{'26-2 [jazz1350], Confirmation [jazz1350]': 1,\n",
              " '52nd Street Theme [jazz1350], I Got Rhythm [jazz1350]': 0,\n",
              " 'A Blossom Fell [jazz1350], Among My Souvenirs [jazz1350]': 1,\n",
              " 'A Night In Tunisia [jazz1350], Segment [jazz1350]': 1,\n",
              " 'Ablution [jazz1350], All The Things You Are [jazz1350]': 1,\n",
              " 'All I Do Is Dream Of You [trad], L-O-V-E [jazz1350]': 1,\n",
              " 'Alone Together [jazz1350], A Night In Tunisia [jazz1350]': 1,\n",
              " 'Alone Together [jazz1350], Segment [jazz1350]': 1,\n",
              " 'Am I Blue [jazz1350], Come Back To Me [jazz1350]': 1,\n",
              " 'Anthropology [jazz1350], I Got Rhythm [jazz1350]': 1,\n",
              " \"As Long As I Live [jazz1350], I'm Glad There Is You [jazz1350]\": 1,\n",
              " 'Ballade [jazz1350], As Long As I Live [jazz1350]': 0,\n",
              " 'Baubles, Bangles and Beads [jazz1350], Bossa Antigua [jazz1350]': 1,\n",
              " 'Bei Mir Bist Du Schon (Root Hog Or Die) [trad], Egyptian Fantasy [trad]': 1,\n",
              " \"Bei Mir Bist Du Schon (Root Hog Or Die) [trad], Puttin' On The Ritz [jazz1350]\": 1,\n",
              " 'Bill Bailey [jazz1350], Bourbon Street Parade [jazz1350]': 1,\n",
              " 'Billy Boy [jazz1350], Elora [jazz1350]': 1,\n",
              " 'Bright Mississippi [jazz1350], Sweet Georgia Brown [jazz1350]': 1,\n",
              " 'C.T.A. [jazz1350], I Got Rhythm [jazz1350]': 1,\n",
              " 'Cheek To Cheek [jazz1350], Violets For Your Furs [jazz1350]': 1,\n",
              " 'Come Back To Me [jazz1350], I Wish I Knew [jazz1350]': 1,\n",
              " \"Coquette [trad], Pretend You're Happy When You're Blue [trad]\": 1,\n",
              " 'Cottontail [jazz1350], I Got Rhythm [jazz1350]': 1,\n",
              " 'Countdown [jazz1350], Tune Up [jazz1350]': 1,\n",
              " 'Dearly Beloved [jazz1350], We See [jazz1350]': 1,\n",
              " 'Dewey Square [jazz1350], Oh, Lady Be Good [jazz1350]': 0,\n",
              " 'Dexterity [jazz1350], I Got Rhythm [jazz1350]': 1,\n",
              " 'Dig [jazz1350], Sweet Georgia Brown [jazz1350]': 1,\n",
              " \"Don't Be That Way [jazz1350], I Got Rhythm [jazz1350]\": 1,\n",
              " \"Don't Be That Way [jazz1350], Long Ago And Far Away [jazz1350]\": 1,\n",
              " 'Donna Lee [jazz1350], Indiana (Back Home Again In) [jazz1350]': 1,\n",
              " 'Evidence [jazz1350], Just You, Just Me [jazz1350]': 1,\n",
              " 'Exactly Like You [jazz1350], Jersey Bounce [trad]': 0,\n",
              " \"Exactly Like You [jazz1350], True (You Don't Love Me ) [trad]\": 1,\n",
              " \"Five Foot Two [trad], Please Don't Talk About Me When I'm Gone [trad]\": 1,\n",
              " 'Flintstones [jazz1350], I Got Rhythm [jazz1350]': 1,\n",
              " 'Flying Home [jazz1350], Down For Double [jazz1350]': 1,\n",
              " 'Folks Who Live On The Hill, The [jazz1350], My One And Only Love [jazz1350]': 1,\n",
              " 'Four On Six [jazz1350], Summertime [jazz1350]': 1,\n",
              " 'Freight Train [jazz1350], Blues For Alice [jazz1350]': 1,\n",
              " \"Glory Of Love, The [jazz1350], I've Got My Fingers Crossed [trad]\": 1,\n",
              " 'Good Bait [jazz1350], I Got Rhythm [jazz1350]': 0,\n",
              " 'Hackensack [jazz1350], Oh, Lady Be Good [jazz1350]': 1,\n",
              " 'Half Nelson [jazz1350], Lady Bird [jazz1350]': 1,\n",
              " 'Hot House [jazz1350], What Is This Thing Called Love [jazz1350]': 1,\n",
              " \"I Can't Give You Anything But Love [jazz1350], You Can Depend On Me [jazz1350]\": 1,\n",
              " 'I Like The Likes Of You [jazz1350], Mountain Greenery [jazz1350]': 1,\n",
              " 'I May Be Wrong [jazz1350], Teach Me Tonight [jazz1350]': 1,\n",
              " 'I Want To Be Happy [jazz1350], A Beautiful Friendship [jazz1350]': 1,\n",
              " 'If I Had You [jazz1350], Too Young To Go Steady [jazz1350]': 1,\n",
              " 'Impressions [jazz1350], So What [jazz1350]': 1,\n",
              " 'In A Mellow Tone (In A Mellotone) [jazz1350], Rose Room [jazz1350]': 1,\n",
              " 'In Walked Bud [jazz1350], Blue Skies [jazz1350]': 1,\n",
              " \"Jeannie's Song [jazz1350], Shiny Stockings [jazz1350]\": 1,\n",
              " 'Killer Joe [jazz1350], Straight Life [jazz1350]': 1,\n",
              " 'Ko Ko [jazz1350], Cherokee [jazz1350]': 1,\n",
              " \"Lennie's Pennies [jazz1350], Pennies From Heaven [jazz1350]\": 0,\n",
              " \"Let's Call The Whole Thing Off [jazz1350], Fine And Dandy [jazz1350]\": 1,\n",
              " \"Let's Fall In Love [jazz1350], At Last [jazz1350]\": 1,\n",
              " \"Let's Fall In Love [jazz1350], Heart And Soul [jazz1350]\": 1,\n",
              " 'Little Rootie Tootie [jazz1350], I Got Rhythm [jazz1350]': 0,\n",
              " \"Little Willie Leaps [jazz1350], All God's Chillun Got Rhythm [jazz1350]\": 0,\n",
              " 'Lullaby Of Birdland [jazz1350], Love Me Or Leave Me [jazz1350]': 1,\n",
              " 'Misty [jazz1350], I May Be Wrong [jazz1350]': 1,\n",
              " 'Misty [jazz1350], Portrait Of Jennie [jazz1350]': 1,\n",
              " 'Misty [jazz1350], September In The Rain [jazz1350]': 1,\n",
              " 'Moten Swing [jazz1350], Once In A While (Ballad) [trad]': 1,\n",
              " 'My Heart Stood Still [jazz1350], All Too Soon [jazz1350]': 1,\n",
              " 'My Little Suede Shoes [jazz1350], Jeepers Creepers [jazz1350]': 0,\n",
              " 'My One And Only Love [jazz1350], Am I Blue [jazz1350]': 1,\n",
              " 'My Secret Love [jazz1350], Samba De Orfeu [jazz1350]': 0,\n",
              " 'Nancy (With The Laughing Face) [jazz1350], Body And Soul [jazz1350]': 1,\n",
              " 'Oh! Lady Be Good [trad], Sentimental Journey [jazz1350]': 1,\n",
              " 'On The Sunny Side Of The Street [jazz1350], Eclypso [jazz1350]': 1,\n",
              " \"On The Sunny Side Of The Street [jazz1350], I'm Confessin' That I Love You [jazz1350]\": 1,\n",
              " 'On The Sunny Side Of The Street [jazz1350], Mountain Greenery [jazz1350]': 1,\n",
              " 'On The Sunny Side Of The Street [jazz1350], September In The Rain [jazz1350]': 1,\n",
              " \"On The Sunny Side Of The Street [jazz1350], There's No You [jazz1350]\": 1,\n",
              " 'On The Sunny Side Of The Street [jazz1350], You Stepped Out Of A Dream [jazz1350]': 1,\n",
              " 'Ornithology [jazz1350], How High The Moon [jazz1350]': 1,\n",
              " 'Quasimodo (Theme) [jazz1350], Embraceable You [jazz1350]': 0,\n",
              " 'Room 608 [jazz1350], I Got Rhythm [jazz1350]': 0,\n",
              " 'Satellite [jazz1350], How High The Moon [jazz1350]': 1,\n",
              " 'Scrapple From The Apple [jazz1350], Honeysuckle Rose [jazz1350]': 1,\n",
              " 'Scrapple From The Apple [jazz1350], I Got Rhythm [jazz1350]': 1,\n",
              " 'Softly, As In A Morning Sunrise [jazz1350], Segment [jazz1350]': 1,\n",
              " 'Softly, As In A Morning Sunrise [jazz1350], Strode Rode [jazz1350]': 1,\n",
              " 'Sweet Georgia Brown [jazz1350], Dig [jazz1350]': 1,\n",
              " 'Sweet Sue, Just You [jazz1350], Bye Bye Blackbird [jazz1350]': 0,\n",
              " 'Sweet Sue, Just You [jazz1350], Honeysuckle Rose [jazz1350]': 0,\n",
              " 'Take The A Train [jazz1350], Girl From Ipanema, The [jazz1350]': 0,\n",
              " 'Tangerine [jazz1350], Tea For Two [jazz1350]': 1,\n",
              " 'There Will Never Be Another You [jazz1350], A Weaver Of Dreams [jazz1350]': 1,\n",
              " 'These Foolish Things [jazz1350], Blue Moon [jazz1350]': 0,\n",
              " 'These Foolish Things [jazz1350], Embraceable You [jazz1350]': 0,\n",
              " \"These Foolish Things [jazz1350], Isn't It A Pity [jazz1350]\": 1,\n",
              " 'These Foolish Things [jazz1350], More Than You Know [jazz1350]': 1,\n",
              " 'These Foolish Things [jazz1350], Rosetta [jazz1350]': 1,\n",
              " 'These Foolish Things [jazz1350], Soultrane [jazz1350]': 0,\n",
              " 'These Foolish Things [jazz1350], Why Do I Love You [jazz1350]': 0,\n",
              " \"This Year's Kisses [jazz1350], My Monday Date [trad]\": 1,\n",
              " 'Tour De Force [jazz1350], Jeepers Creepers [jazz1350]': 1,\n",
              " 'Undecided [jazz1350], Broadway [jazz1350]': 1,\n",
              " 'Undecided [jazz1350], Satin Doll [jazz1350]': 1,\n",
              " 'Wait Till You See Her [jazz1350], A Certain Smile [jazz1350]': 1,\n",
              " 'What Is This Thing Called Love [jazz1350], Hot House [jazz1350]': 1,\n",
              " 'What Is This Thing Called Love [jazz1350], Subconscious Lee [jazz1350]': 1,\n",
              " \"Woody'n You [jazz1350], Stella By Starlight [jazz1350]\": 1,\n",
              " 'Wow [jazz1350], You Can Depend On Me [jazz1350]': 0,\n",
              " 'Yardbird Suite [jazz1350], Rosetta [jazz1350]': 1,\n",
              " 'You Can Depend On Me [jazz1350], Move [jazz1350]': 1}"
            ]
          },
          "metadata": {},
          "execution_count": 121
        }
      ]
    },
    {
      "cell_type": "code",
      "metadata": {
        "colab": {
          "base_uri": "https://localhost:8080/"
        },
        "id": "D0_7m1qji6A-",
        "outputId": "8b946777-f0f3-4e42-d4f7-6b2742598613"
      },
      "source": [
        "topN = 20\n",
        "matches, results = test_contrafacts(contrafacts, index_lsi, lsi, topN)\n",
        "\n",
        "print(f\"Found matches: {matches} out of {len(results)}: {100*matches/len(results):.3f}%\")\n",
        "print() \n",
        "for rr, val in results.items():\n",
        "  if val == 0:\n",
        "    print(f\"{val}: {rr}\")\n"
      ],
      "execution_count": 118,
      "outputs": [
        {
          "output_type": "stream",
          "name": "stdout",
          "text": [
            "Found matches: 93 out of 111: 83.784%\n",
            "\n",
            "0: 52nd Street Theme [jazz1350], I Got Rhythm [jazz1350]\n",
            "0: Ballade [jazz1350], As Long As I Live [jazz1350]\n",
            "0: Dewey Square [jazz1350], Oh, Lady Be Good [jazz1350]\n",
            "0: Good Bait [jazz1350], I Got Rhythm [jazz1350]\n",
            "0: Lennie's Pennies [jazz1350], Pennies From Heaven [jazz1350]\n",
            "0: Little Rootie Tootie [jazz1350], I Got Rhythm [jazz1350]\n",
            "0: Little Willie Leaps [jazz1350], All God's Chillun Got Rhythm [jazz1350]\n",
            "0: My Little Suede Shoes [jazz1350], Jeepers Creepers [jazz1350]\n",
            "0: Quasimodo (Theme) [jazz1350], Embraceable You [jazz1350]\n",
            "0: Room 608 [jazz1350], I Got Rhythm [jazz1350]\n",
            "0: Wow [jazz1350], You Can Depend On Me [jazz1350]\n",
            "0: Sweet Sue, Just You [jazz1350], Honeysuckle Rose [jazz1350]\n",
            "0: Sweet Sue, Just You [jazz1350], Bye Bye Blackbird [jazz1350]\n",
            "0: These Foolish Things [jazz1350], Blue Moon [jazz1350]\n",
            "0: These Foolish Things [jazz1350], Soultrane [jazz1350]\n",
            "0: These Foolish Things [jazz1350], Why Do I Love You [jazz1350]\n",
            "0: Exactly Like You [jazz1350], Jersey Bounce [trad]\n",
            "0: Take The A Train [jazz1350], Girl From Ipanema, The [jazz1350]\n",
            "0: My Secret Love [jazz1350], Samba De Orfeu [jazz1350]\n",
            "0: These Foolish Things [jazz1350], Embraceable You [jazz1350]\n"
          ]
        }
      ]
    },
    {
      "cell_type": "code",
      "metadata": {
        "id": "RS7LsLASi5-f"
      },
      "source": [
        "model_name = 'lsi'\n",
        "if use_wandb:\n",
        "  wandb.log(\n",
        "      {model_name: {\n",
        "                'contrafacts': {\n",
        "                    'topN': topN,\n",
        "                    'success': matches/len(contrafacts),\n",
        "                    #'results': results\n",
        "                    }\n",
        "                   },\n",
        "       'all_models': {\n",
        "           model_name: wandb.Table(\n",
        "               columns=[\"Title\", \"Match\"],\n",
        "               data=[[key, value] for key, value in results.items()]),\n",
        "       }\n",
        "       })"
      ],
      "execution_count": 89,
      "outputs": []
    },
    {
      "cell_type": "markdown",
      "metadata": {
        "id": "AjZArSmyooWt"
      },
      "source": [
        "### Get Recommender Data for WebApp"
      ]
    },
    {
      "cell_type": "code",
      "metadata": {
        "colab": {
          "base_uri": "https://localhost:8080/"
        },
        "id": "ZP1_YD4liiF3",
        "outputId": "33690b7c-8b97-42bd-c3fb-b7123271d76b"
      },
      "source": [
        "result.columns"
      ],
      "execution_count": 90,
      "outputs": [
        {
          "output_type": "execute_result",
          "data": {
            "text/plain": [
              "Index(['index', 'reference', 'reference_titleid', 'similar_title', 'score', 'max', 'score_div_max', 'similar_titleid'], dtype='object')"
            ]
          },
          "metadata": {},
          "execution_count": 90
        }
      ]
    },
    {
      "cell_type": "code",
      "metadata": {
        "colab": {
          "base_uri": "https://localhost:8080/"
        },
        "id": "JfMygz-ejgXG",
        "outputId": "b878c958-08cd-49df-f128-03ab448660ce"
      },
      "source": [
        "%%time\n",
        "if generate_webapp_data:\n",
        "  _tunes = list(tunes['title_playlist'].values())\n",
        "  #_tunes = tunes_eval_list\n",
        "\n",
        "  method = 'lsi'\n",
        "\n",
        "  # save the mapping between titleid and title to disk\n",
        "  pd.DataFrame.from_dict(tunes).to_csv(f'output/index_{method}.csv', index_label='titleid')\n",
        "  with zipfile.ZipFile(f'output/index_{method}.zip', 'w') as zf:\n",
        "    zf.write(f'output/index_{method}.csv')\n",
        "\n",
        "  df_sim = get_sim_scores(_tunes, index_lsi, lsi, topn=30)\n",
        "\n",
        "  # save to file\n",
        "  (df_sim\n",
        "   .loc[:,[#'reference_title',\n",
        "           'reference_titleid',\n",
        "           #'similar_title',\n",
        "           'similar_titleid',\n",
        "           'ref_section_label',\n",
        "           'similar_section_label',\n",
        "           'score'\n",
        "           ]]\n",
        "   .groupby(['reference_titleid', \n",
        "          #'reference_title', \n",
        "          'similar_titleid',\n",
        "          #'similar_title', \n",
        "          'ref_section_label', \n",
        "          'similar_section_label'])\n",
        "   .max('score')\n",
        "   .reset_index()\n",
        "   .to_csv(f'output/recommender_{method}.csv', encoding='utf8', index=False)\n",
        "  )\n",
        "  \n",
        "  with zipfile.ZipFile(f'output/recommender_{method}.zip', 'w') as zf:\n",
        "    zf.write(f'output/recommender_{method}.csv')\n",
        "\n",
        "  # save to wandb\n",
        "  if use_wandb:\n",
        "    model_artifact = wandb.Artifact(\n",
        "        f\"recommender_{method}\", \n",
        "        type=\"csv\",\n",
        "        description=f\"Recommendations for each Tune using {method} Model (csv file)\",\n",
        "        metadata=\"\")\n",
        "\n",
        "    model_artifact.add_file(f'output/recommender_{method}.zip')\n",
        "    model_artifact.add_file(f'output/index_{method}.zip')\n",
        "    wandb.log_artifact(model_artifact)"
      ],
      "execution_count": 91,
      "outputs": [
        {
          "output_type": "stream",
          "name": "stderr",
          "text": [
            "100%|██████████| 1692/1692 [2:29:24<00:00,  5.30s/it]\n"
          ]
        },
        {
          "output_type": "stream",
          "name": "stdout",
          "text": [
            "CPU times: user 2h 27min 42s, sys: 12min 30s, total: 2h 40min 13s\n",
            "Wall time: 2h 29min 25s\n"
          ]
        }
      ]
    },
    {
      "cell_type": "markdown",
      "metadata": {
        "id": "lTQKfd0xQQ65"
      },
      "source": [
        "## Store Model to W&B"
      ]
    },
    {
      "cell_type": "code",
      "metadata": {
        "id": "RfAYF7ArQUXo"
      },
      "source": [
        "if use_wandb:\n",
        "  model_artifact = wandb.Artifact(\n",
        "      \"model_lsi\", \n",
        "      type=\"model\",\n",
        "      description=\"LSI model\",\n",
        "      metadata=\"\")\n",
        "\n",
        "  model_artifact.add_file(\"/content/index/lsi.model\")\n",
        "  model_artifact.add_file(\"/content/index/lsi_matrixsim.index\")\n",
        "  model_artifact.add_file(\"/content/index/lsi.model.projection\")\n",
        "  wandb.log_artifact(model_artifact)"
      ],
      "execution_count": 92,
      "outputs": []
    },
    {
      "cell_type": "markdown",
      "metadata": {
        "id": "asScIocQRMPA"
      },
      "source": [
        "## Determine Number of Topics for LSI Model\n",
        "\n",
        "This sample comes from Datacamp: \n",
        "\n",
        "https://www.datacamp.com/community/tutorials/discovering-hidden-topics-python\n"
      ]
    },
    {
      "cell_type": "markdown",
      "metadata": {
        "id": "1TPNWFEPSxZ-"
      },
      "source": [
        "What is the best way to determine k (number of topics) in topic modeling? Identify the optimum number of topics in the given corpus text is a challenging task. We can use the following options for determining the optimum number of topics:\n",
        "\n",
        "* One way to determine the optimum number of topics is to consider each topic as a cluster and find out the effectiveness of a cluster using the Silhouette coefficient.\n",
        "* Topic coherence measure is a realistic measure for identifying the number of topics.\n",
        "\n",
        "Topic Coherence measure is a widely used metric to evaluate topic models. It uses the latent variable models. Each generated topic has a list of words. In topic coherence measure, you will find average/median of pairwise word similarity scores of the words in a topic. The high value of topic coherence score model will be considered as a good topic model. "
      ]
    },
    {
      "cell_type": "code",
      "metadata": {
        "id": "umpCyQQzRLgv"
      },
      "source": [
        "def prepare_corpus(doc_clean):\n",
        "    \"\"\"\n",
        "    Input  : clean document\n",
        "    Purpose: create term dictionary of our courpus and Converting list of documents (corpus) into Document Term Matrix\n",
        "    Output : term dictionary and Document Term Matrix\n",
        "    \"\"\"\n",
        "    # Creating the term dictionary of our courpus, where every unique term is assigned an index. dictionary = corpora.Dictionary(doc_clean)\n",
        "    dictionary = corpora.Dictionary(doc_clean)\n",
        "    # Converting list of documents (corpus) into Document Term Matrix using dictionary prepared above.\n",
        "    doc_term_matrix = [dictionary.doc2bow(doc) for doc in doc_clean]\n",
        "    # generate LDA model\n",
        "    return dictionary, doc_term_matrix"
      ],
      "execution_count": 93,
      "outputs": []
    },
    {
      "cell_type": "code",
      "metadata": {
        "id": "aS2wxIEERcul"
      },
      "source": [
        "def compute_coherence_values(dictionary, doc_term_matrix, doc_clean, stop, start=2, step=3):\n",
        "    \"\"\"\n",
        "    Input   : dictionary : Gensim dictionary\n",
        "              corpus : Gensim corpus\n",
        "              texts : List of input texts\n",
        "              stop : Max num of topics\n",
        "    purpose : Compute c_v coherence for various number of topics\n",
        "    Output  : model_list : List of LSA topic models\n",
        "              coherence_values : Coherence values corresponding to the LDA model with respective number of topics\n",
        "    \"\"\"\n",
        "    coherence_values = []\n",
        "    model_list = []\n",
        "    for num_topics in range(start, stop, step):\n",
        "        # generate LSA model\n",
        "        model = LsiModel(doc_term_matrix, num_topics=num_topics, id2word = dictionary)  # train model\n",
        "        model_list.append(model)\n",
        "        coherencemodel = CoherenceModel(model=model, texts=doc_clean, dictionary=dictionary, coherence='c_v')\n",
        "        coherence_values.append(coherencemodel.get_coherence())\n",
        "    return model_list, coherence_values"
      ],
      "execution_count": 94,
      "outputs": []
    },
    {
      "cell_type": "code",
      "metadata": {
        "id": "DjyzAzWBRfrH"
      },
      "source": [
        "def plot_graph(doc_clean,start, stop, step):\n",
        "    dictionary, doc_term_matrix = prepare_corpus(doc_clean)\n",
        "\n",
        "    runs = 5\n",
        "    for i in range(runs):\n",
        "      model_list, coherence_values = compute_coherence_values(dictionary, \n",
        "                                                              doc_term_matrix,\n",
        "                                                              doc_clean,\n",
        "                                                              stop, start, step)\n",
        "      # Show graph\n",
        "      x = range(start, stop, step)\n",
        "      plt.plot(x, coherence_values, color='blue')\n",
        "\n",
        "    plt.xlabel(\"Number of Topics\")\n",
        "    plt.ylabel(\"Coherence score\")\n",
        "    plt.show()"
      ],
      "execution_count": 95,
      "outputs": []
    },
    {
      "cell_type": "code",
      "metadata": {
        "id": "qy9ZjdcmRhxs"
      },
      "source": [
        "# evaluate a good number of topics for the LSI Model. This takes some time.\n",
        "\n",
        "if False:\n",
        "\n",
        "  start, stop, step = 2, 50, 2\n",
        "  plot_graph(data, start, stop, step)"
      ],
      "execution_count": 96,
      "outputs": []
    },
    {
      "cell_type": "markdown",
      "metadata": {
        "id": "Qo5NgBHFlqgg"
      },
      "source": [
        "For unigrams, the best number of topics that is most consistently for the 5 runs seems to be around 22.\n",
        "\n",
        "For unigrams plus bigrams, the coherence score drops down until 100 and then continuously rises until 500 and continues to rise. Same for bigrams-only."
      ]
    },
    {
      "cell_type": "markdown",
      "metadata": {
        "id": "rF_INicGhXKd"
      },
      "source": [
        "# Doc2Vec"
      ]
    },
    {
      "cell_type": "code",
      "metadata": {
        "id": "wflSccBshkIk"
      },
      "source": [
        "def get_tagged_documents(corpus, tag_sections_and_tunes=False):\n",
        "  if tag_sections_and_tunes:\n",
        "    print('Tagging input data with both section and tune information.')\n",
        "  else:\n",
        "    print('Tagging input data with section informaiton only.')\n",
        "    \n",
        "  for i, tokens in enumerate(corpus):\n",
        "    if tag_sections_and_tunes:\n",
        "      yield gensim.models.doc2vec.TaggedDocument(tokens, [i, f'titleid_{sectionid_to_titleid[i]}'])\n",
        "    else:\n",
        "      yield gensim.models.doc2vec.TaggedDocument(tokens, [i])  # diatonic chord distance is a bit better"
      ],
      "execution_count": 97,
      "outputs": []
    },
    {
      "cell_type": "code",
      "metadata": {
        "colab": {
          "base_uri": "https://localhost:8080/"
        },
        "id": "_u0RdBI1kYD9",
        "outputId": "96ff4ee6-5263-4c39-8797-494cb57c773a"
      },
      "source": [
        "train_corpus = list(get_tagged_documents(processed_corpus, doc2vec_config['general']['tag_sections_and_tunes']))\n",
        "train_corpus[1000]"
      ],
      "execution_count": 98,
      "outputs": [
        {
          "output_type": "stream",
          "name": "stdout",
          "text": [
            "Tagging input data with section informaiton only.\n"
          ]
        },
        {
          "output_type": "execute_result",
          "data": {
            "text/plain": [
              "TaggedDocument(words=['Fm', 'C#7', 'Dm', 'Dm', 'F#', 'Bbm', 'Fm', 'Gm', 'F#', 'Bb', 'Bb', 'C', 'C#', 'Gm', 'F', 'F#', 'Gm', 'F', 'F', 'F', 'Gm', 'F', 'F#', 'Gm', 'F', 'F', 'Gm', 'F', 'F#', 'Gm', 'F', 'F', 'F'], tags=[1000])"
            ]
          },
          "metadata": {},
          "execution_count": 98
        }
      ]
    },
    {
      "cell_type": "code",
      "metadata": {
        "colab": {
          "base_uri": "https://localhost:8080/"
        },
        "id": "M9adPoy9reaw",
        "outputId": "e635f1c6-53be-4c0b-9f12-c852d544f72c"
      },
      "source": [
        "import multiprocessing\n",
        "\n",
        "print(f\"CPU Count: {multiprocessing.cpu_count()}\")\n",
        "print(f\"Config:\")\n",
        "print(doc2vec_config['model'])\n",
        "\n",
        "model = Doc2Vec(train_corpus,\n",
        "                **doc2vec_config['model']\n",
        "                )"
      ],
      "execution_count": 99,
      "outputs": [
        {
          "output_type": "stream",
          "name": "stderr",
          "text": [
            "2021-12-03 14:57:38,439 : INFO : collecting all words and their counts\n",
            "2021-12-03 14:57:38,441 : INFO : PROGRESS: at example #0, processed 0 words (0/s), 0 word types, 0 tags\n",
            "2021-12-03 14:57:38,480 : INFO : collected 83 word types and 5552 unique tags from a corpus of 5552 examples and 76986 words\n",
            "2021-12-03 14:57:38,482 : INFO : Creating a fresh vocabulary\n",
            "2021-12-03 14:57:38,485 : INFO : Doc2Vec lifecycle event {'msg': 'effective_min_count=1 retains 83 unique words (100.0%% of original 83, drops 0)', 'datetime': '2021-12-03T14:57:38.485239', 'gensim': '4.1.2', 'python': '3.7.12 (default, Sep 10 2021, 00:21:48) \\n[GCC 7.5.0]', 'platform': 'Linux-5.4.104+-x86_64-with-Ubuntu-18.04-bionic', 'event': 'prepare_vocab'}\n",
            "2021-12-03 14:57:38,488 : INFO : Doc2Vec lifecycle event {'msg': 'effective_min_count=1 leaves 76986 word corpus (100.0%% of original 76986, drops 0)', 'datetime': '2021-12-03T14:57:38.488086', 'gensim': '4.1.2', 'python': '3.7.12 (default, Sep 10 2021, 00:21:48) \\n[GCC 7.5.0]', 'platform': 'Linux-5.4.104+-x86_64-with-Ubuntu-18.04-bionic', 'event': 'prepare_vocab'}\n",
            "2021-12-03 14:57:38,497 : INFO : deleting the raw counts dictionary of 83 items\n",
            "2021-12-03 14:57:38,502 : INFO : sample=0.001 downsamples 41 most-common words\n",
            "2021-12-03 14:57:38,505 : INFO : Doc2Vec lifecycle event {'msg': 'downsampling leaves estimated 17847.05670604438 word corpus (23.2%% of prior 76986)', 'datetime': '2021-12-03T14:57:38.505470', 'gensim': '4.1.2', 'python': '3.7.12 (default, Sep 10 2021, 00:21:48) \\n[GCC 7.5.0]', 'platform': 'Linux-5.4.104+-x86_64-with-Ubuntu-18.04-bionic', 'event': 'prepare_vocab'}\n",
            "2021-12-03 14:57:38,512 : INFO : estimated required memory for 83 words and 100 dimensions: 3439100 bytes\n",
            "2021-12-03 14:57:38,516 : INFO : resetting layer weights\n",
            "2021-12-03 14:57:38,529 : INFO : Doc2Vec lifecycle event {'msg': 'training model with 3 workers on 83 vocabulary and 100 features, using sg=0 hs=0 sample=0.001 negative=10 window=2 shrink_windows=True', 'datetime': '2021-12-03T14:57:38.529144', 'gensim': '4.1.2', 'python': '3.7.12 (default, Sep 10 2021, 00:21:48) \\n[GCC 7.5.0]', 'platform': 'Linux-5.4.104+-x86_64-with-Ubuntu-18.04-bionic', 'event': 'train'}\n"
          ]
        },
        {
          "output_type": "stream",
          "name": "stdout",
          "text": [
            "CPU Count: 2\n",
            "Config:\n",
            "{'dm': 1, 'vector_size': 100, 'window': 2, 'epochs': 40, 'min_count': 1, 'negative': 10, 'sample': 0.001, 'seed': 42}\n"
          ]
        },
        {
          "output_type": "stream",
          "name": "stderr",
          "text": [
            "2021-12-03 14:57:39,108 : INFO : worker thread finished; awaiting finish of 2 more threads\n",
            "2021-12-03 14:57:39,185 : INFO : worker thread finished; awaiting finish of 1 more threads\n",
            "2021-12-03 14:57:39,205 : INFO : worker thread finished; awaiting finish of 0 more threads\n",
            "2021-12-03 14:57:39,206 : INFO : EPOCH - 1 : training on 76986 raw words (23291 effective words) took 0.7s, 34935 effective words/s\n",
            "2021-12-03 14:57:39,797 : INFO : worker thread finished; awaiting finish of 2 more threads\n",
            "2021-12-03 14:57:39,858 : INFO : worker thread finished; awaiting finish of 1 more threads\n",
            "2021-12-03 14:57:39,880 : INFO : worker thread finished; awaiting finish of 0 more threads\n",
            "2021-12-03 14:57:39,882 : INFO : EPOCH - 2 : training on 76986 raw words (23475 effective words) took 0.7s, 35600 effective words/s\n",
            "2021-12-03 14:57:40,509 : INFO : worker thread finished; awaiting finish of 2 more threads\n",
            "2021-12-03 14:57:40,585 : INFO : worker thread finished; awaiting finish of 1 more threads\n",
            "2021-12-03 14:57:40,604 : INFO : worker thread finished; awaiting finish of 0 more threads\n",
            "2021-12-03 14:57:40,606 : INFO : EPOCH - 3 : training on 76986 raw words (23402 effective words) took 0.7s, 33401 effective words/s\n",
            "2021-12-03 14:57:41,189 : INFO : worker thread finished; awaiting finish of 2 more threads\n",
            "2021-12-03 14:57:41,246 : INFO : worker thread finished; awaiting finish of 1 more threads\n",
            "2021-12-03 14:57:41,268 : INFO : worker thread finished; awaiting finish of 0 more threads\n",
            "2021-12-03 14:57:41,270 : INFO : EPOCH - 4 : training on 76986 raw words (23180 effective words) took 0.6s, 35777 effective words/s\n",
            "2021-12-03 14:57:41,809 : INFO : worker thread finished; awaiting finish of 2 more threads\n",
            "2021-12-03 14:57:41,891 : INFO : worker thread finished; awaiting finish of 1 more threads\n",
            "2021-12-03 14:57:41,910 : INFO : worker thread finished; awaiting finish of 0 more threads\n",
            "2021-12-03 14:57:41,911 : INFO : EPOCH - 5 : training on 76986 raw words (23390 effective words) took 0.6s, 37398 effective words/s\n",
            "2021-12-03 14:57:42,479 : INFO : worker thread finished; awaiting finish of 2 more threads\n",
            "2021-12-03 14:57:42,560 : INFO : worker thread finished; awaiting finish of 1 more threads\n",
            "2021-12-03 14:57:42,577 : INFO : worker thread finished; awaiting finish of 0 more threads\n",
            "2021-12-03 14:57:42,579 : INFO : EPOCH - 6 : training on 76986 raw words (23284 effective words) took 0.7s, 35750 effective words/s\n",
            "2021-12-03 14:57:43,102 : INFO : worker thread finished; awaiting finish of 2 more threads\n",
            "2021-12-03 14:57:43,200 : INFO : worker thread finished; awaiting finish of 1 more threads\n",
            "2021-12-03 14:57:43,211 : INFO : worker thread finished; awaiting finish of 0 more threads\n",
            "2021-12-03 14:57:43,213 : INFO : EPOCH - 7 : training on 76986 raw words (23370 effective words) took 0.6s, 37632 effective words/s\n",
            "2021-12-03 14:57:43,748 : INFO : worker thread finished; awaiting finish of 2 more threads\n",
            "2021-12-03 14:57:43,822 : INFO : worker thread finished; awaiting finish of 1 more threads\n",
            "2021-12-03 14:57:43,837 : INFO : worker thread finished; awaiting finish of 0 more threads\n",
            "2021-12-03 14:57:43,839 : INFO : EPOCH - 8 : training on 76986 raw words (23497 effective words) took 0.6s, 38494 effective words/s\n",
            "2021-12-03 14:57:44,422 : INFO : worker thread finished; awaiting finish of 2 more threads\n",
            "2021-12-03 14:57:44,513 : INFO : worker thread finished; awaiting finish of 1 more threads\n",
            "2021-12-03 14:57:44,527 : INFO : worker thread finished; awaiting finish of 0 more threads\n",
            "2021-12-03 14:57:44,529 : INFO : EPOCH - 9 : training on 76986 raw words (23510 effective words) took 0.7s, 34704 effective words/s\n",
            "2021-12-03 14:57:45,077 : INFO : worker thread finished; awaiting finish of 2 more threads\n",
            "2021-12-03 14:57:45,156 : INFO : worker thread finished; awaiting finish of 1 more threads\n",
            "2021-12-03 14:57:45,168 : INFO : worker thread finished; awaiting finish of 0 more threads\n",
            "2021-12-03 14:57:45,172 : INFO : EPOCH - 10 : training on 76986 raw words (23366 effective words) took 0.6s, 36973 effective words/s\n",
            "2021-12-03 14:57:45,725 : INFO : worker thread finished; awaiting finish of 2 more threads\n",
            "2021-12-03 14:57:45,816 : INFO : worker thread finished; awaiting finish of 1 more threads\n",
            "2021-12-03 14:57:45,829 : INFO : worker thread finished; awaiting finish of 0 more threads\n",
            "2021-12-03 14:57:45,830 : INFO : EPOCH - 11 : training on 76986 raw words (23486 effective words) took 0.6s, 36252 effective words/s\n",
            "2021-12-03 14:57:46,417 : INFO : worker thread finished; awaiting finish of 2 more threads\n",
            "2021-12-03 14:57:46,523 : INFO : worker thread finished; awaiting finish of 1 more threads\n",
            "2021-12-03 14:57:46,538 : INFO : worker thread finished; awaiting finish of 0 more threads\n",
            "2021-12-03 14:57:46,539 : INFO : EPOCH - 12 : training on 76986 raw words (23383 effective words) took 0.7s, 33705 effective words/s\n",
            "2021-12-03 14:57:47,084 : INFO : worker thread finished; awaiting finish of 2 more threads\n",
            "2021-12-03 14:57:47,167 : INFO : worker thread finished; awaiting finish of 1 more threads\n",
            "2021-12-03 14:57:47,185 : INFO : worker thread finished; awaiting finish of 0 more threads\n",
            "2021-12-03 14:57:47,186 : INFO : EPOCH - 13 : training on 76986 raw words (23396 effective words) took 0.6s, 37164 effective words/s\n",
            "2021-12-03 14:57:47,749 : INFO : worker thread finished; awaiting finish of 2 more threads\n",
            "2021-12-03 14:57:47,844 : INFO : worker thread finished; awaiting finish of 1 more threads\n",
            "2021-12-03 14:57:47,854 : INFO : worker thread finished; awaiting finish of 0 more threads\n",
            "2021-12-03 14:57:47,856 : INFO : EPOCH - 14 : training on 76986 raw words (23457 effective words) took 0.7s, 35770 effective words/s\n",
            "2021-12-03 14:57:48,413 : INFO : worker thread finished; awaiting finish of 2 more threads\n",
            "2021-12-03 14:57:48,508 : INFO : worker thread finished; awaiting finish of 1 more threads\n",
            "2021-12-03 14:57:48,530 : INFO : worker thread finished; awaiting finish of 0 more threads\n",
            "2021-12-03 14:57:48,532 : INFO : EPOCH - 15 : training on 76986 raw words (23311 effective words) took 0.7s, 35375 effective words/s\n",
            "2021-12-03 14:57:49,127 : INFO : worker thread finished; awaiting finish of 2 more threads\n",
            "2021-12-03 14:57:49,213 : INFO : worker thread finished; awaiting finish of 1 more threads\n",
            "2021-12-03 14:57:49,225 : INFO : worker thread finished; awaiting finish of 0 more threads\n",
            "2021-12-03 14:57:49,226 : INFO : EPOCH - 16 : training on 76986 raw words (23412 effective words) took 0.7s, 34385 effective words/s\n",
            "2021-12-03 14:57:49,795 : INFO : worker thread finished; awaiting finish of 2 more threads\n",
            "2021-12-03 14:57:49,884 : INFO : worker thread finished; awaiting finish of 1 more threads\n",
            "2021-12-03 14:57:49,894 : INFO : worker thread finished; awaiting finish of 0 more threads\n",
            "2021-12-03 14:57:49,895 : INFO : EPOCH - 17 : training on 76986 raw words (23484 effective words) took 0.7s, 35707 effective words/s\n",
            "2021-12-03 14:57:50,431 : INFO : worker thread finished; awaiting finish of 2 more threads\n",
            "2021-12-03 14:57:50,507 : INFO : worker thread finished; awaiting finish of 1 more threads\n",
            "2021-12-03 14:57:50,522 : INFO : worker thread finished; awaiting finish of 0 more threads\n",
            "2021-12-03 14:57:50,523 : INFO : EPOCH - 18 : training on 76986 raw words (23250 effective words) took 0.6s, 37894 effective words/s\n",
            "2021-12-03 14:57:51,087 : INFO : worker thread finished; awaiting finish of 2 more threads\n",
            "2021-12-03 14:57:51,150 : INFO : worker thread finished; awaiting finish of 1 more threads\n",
            "2021-12-03 14:57:51,173 : INFO : worker thread finished; awaiting finish of 0 more threads\n",
            "2021-12-03 14:57:51,174 : INFO : EPOCH - 19 : training on 76986 raw words (23367 effective words) took 0.6s, 36841 effective words/s\n",
            "2021-12-03 14:57:51,716 : INFO : worker thread finished; awaiting finish of 2 more threads\n",
            "2021-12-03 14:57:51,805 : INFO : worker thread finished; awaiting finish of 1 more threads\n",
            "2021-12-03 14:57:51,816 : INFO : worker thread finished; awaiting finish of 0 more threads\n",
            "2021-12-03 14:57:51,818 : INFO : EPOCH - 20 : training on 76986 raw words (23132 effective words) took 0.6s, 37077 effective words/s\n",
            "2021-12-03 14:57:52,401 : INFO : worker thread finished; awaiting finish of 2 more threads\n",
            "2021-12-03 14:57:52,508 : INFO : worker thread finished; awaiting finish of 1 more threads\n",
            "2021-12-03 14:57:52,517 : INFO : worker thread finished; awaiting finish of 0 more threads\n",
            "2021-12-03 14:57:52,522 : INFO : EPOCH - 21 : training on 76986 raw words (23492 effective words) took 0.7s, 33917 effective words/s\n",
            "2021-12-03 14:57:53,106 : INFO : worker thread finished; awaiting finish of 2 more threads\n",
            "2021-12-03 14:57:53,185 : INFO : worker thread finished; awaiting finish of 1 more threads\n",
            "2021-12-03 14:57:53,201 : INFO : worker thread finished; awaiting finish of 0 more threads\n",
            "2021-12-03 14:57:53,203 : INFO : EPOCH - 22 : training on 76986 raw words (23053 effective words) took 0.7s, 34455 effective words/s\n",
            "2021-12-03 14:57:53,767 : INFO : worker thread finished; awaiting finish of 2 more threads\n",
            "2021-12-03 14:57:53,837 : INFO : worker thread finished; awaiting finish of 1 more threads\n",
            "2021-12-03 14:57:53,851 : INFO : worker thread finished; awaiting finish of 0 more threads\n",
            "2021-12-03 14:57:53,853 : INFO : EPOCH - 23 : training on 76986 raw words (23360 effective words) took 0.6s, 36724 effective words/s\n",
            "2021-12-03 14:57:54,348 : INFO : worker thread finished; awaiting finish of 2 more threads\n",
            "2021-12-03 14:57:54,435 : INFO : worker thread finished; awaiting finish of 1 more threads\n",
            "2021-12-03 14:57:54,447 : INFO : worker thread finished; awaiting finish of 0 more threads\n",
            "2021-12-03 14:57:54,449 : INFO : EPOCH - 24 : training on 76986 raw words (23327 effective words) took 0.6s, 40188 effective words/s\n",
            "2021-12-03 14:57:55,011 : INFO : worker thread finished; awaiting finish of 2 more threads\n",
            "2021-12-03 14:57:55,093 : INFO : worker thread finished; awaiting finish of 1 more threads\n",
            "2021-12-03 14:57:55,112 : INFO : worker thread finished; awaiting finish of 0 more threads\n",
            "2021-12-03 14:57:55,114 : INFO : EPOCH - 25 : training on 76986 raw words (23417 effective words) took 0.7s, 35909 effective words/s\n",
            "2021-12-03 14:57:55,689 : INFO : worker thread finished; awaiting finish of 2 more threads\n",
            "2021-12-03 14:57:55,773 : INFO : worker thread finished; awaiting finish of 1 more threads\n",
            "2021-12-03 14:57:55,785 : INFO : worker thread finished; awaiting finish of 0 more threads\n",
            "2021-12-03 14:57:55,787 : INFO : EPOCH - 26 : training on 76986 raw words (23332 effective words) took 0.7s, 35236 effective words/s\n",
            "2021-12-03 14:57:56,387 : INFO : worker thread finished; awaiting finish of 2 more threads\n",
            "2021-12-03 14:57:56,447 : INFO : worker thread finished; awaiting finish of 1 more threads\n",
            "2021-12-03 14:57:56,458 : INFO : worker thread finished; awaiting finish of 0 more threads\n",
            "2021-12-03 14:57:56,460 : INFO : EPOCH - 27 : training on 76986 raw words (23172 effective words) took 0.7s, 35091 effective words/s\n",
            "2021-12-03 14:57:56,999 : INFO : worker thread finished; awaiting finish of 2 more threads\n",
            "2021-12-03 14:57:57,089 : INFO : worker thread finished; awaiting finish of 1 more threads\n",
            "2021-12-03 14:57:57,100 : INFO : worker thread finished; awaiting finish of 0 more threads\n",
            "2021-12-03 14:57:57,101 : INFO : EPOCH - 28 : training on 76986 raw words (23381 effective words) took 0.6s, 37360 effective words/s\n",
            "2021-12-03 14:57:57,667 : INFO : worker thread finished; awaiting finish of 2 more threads\n",
            "2021-12-03 14:57:57,766 : INFO : worker thread finished; awaiting finish of 1 more threads\n",
            "2021-12-03 14:57:57,776 : INFO : worker thread finished; awaiting finish of 0 more threads\n",
            "2021-12-03 14:57:57,777 : INFO : EPOCH - 29 : training on 76986 raw words (23494 effective words) took 0.7s, 35520 effective words/s\n",
            "2021-12-03 14:57:58,311 : INFO : worker thread finished; awaiting finish of 2 more threads\n",
            "2021-12-03 14:57:58,407 : INFO : worker thread finished; awaiting finish of 1 more threads\n",
            "2021-12-03 14:57:58,419 : INFO : worker thread finished; awaiting finish of 0 more threads\n",
            "2021-12-03 14:57:58,423 : INFO : EPOCH - 30 : training on 76986 raw words (23306 effective words) took 0.6s, 36908 effective words/s\n",
            "2021-12-03 14:57:58,979 : INFO : worker thread finished; awaiting finish of 2 more threads\n",
            "2021-12-03 14:57:59,060 : INFO : worker thread finished; awaiting finish of 1 more threads\n",
            "2021-12-03 14:57:59,073 : INFO : worker thread finished; awaiting finish of 0 more threads\n",
            "2021-12-03 14:57:59,076 : INFO : EPOCH - 31 : training on 76986 raw words (23440 effective words) took 0.6s, 36721 effective words/s\n",
            "2021-12-03 14:57:59,610 : INFO : worker thread finished; awaiting finish of 2 more threads\n",
            "2021-12-03 14:57:59,672 : INFO : worker thread finished; awaiting finish of 1 more threads\n",
            "2021-12-03 14:57:59,690 : INFO : worker thread finished; awaiting finish of 0 more threads\n",
            "2021-12-03 14:57:59,691 : INFO : EPOCH - 32 : training on 76986 raw words (23192 effective words) took 0.6s, 38517 effective words/s\n",
            "2021-12-03 14:58:00,236 : INFO : worker thread finished; awaiting finish of 2 more threads\n",
            "2021-12-03 14:58:00,308 : INFO : worker thread finished; awaiting finish of 1 more threads\n",
            "2021-12-03 14:58:00,321 : INFO : worker thread finished; awaiting finish of 0 more threads\n",
            "2021-12-03 14:58:00,322 : INFO : EPOCH - 33 : training on 76986 raw words (23534 effective words) took 0.6s, 38331 effective words/s\n",
            "2021-12-03 14:58:00,903 : INFO : worker thread finished; awaiting finish of 2 more threads\n",
            "2021-12-03 14:58:00,997 : INFO : worker thread finished; awaiting finish of 1 more threads\n",
            "2021-12-03 14:58:01,013 : INFO : worker thread finished; awaiting finish of 0 more threads\n",
            "2021-12-03 14:58:01,015 : INFO : EPOCH - 34 : training on 76986 raw words (23383 effective words) took 0.7s, 34833 effective words/s\n",
            "2021-12-03 14:58:01,527 : INFO : worker thread finished; awaiting finish of 2 more threads\n",
            "2021-12-03 14:58:01,613 : INFO : worker thread finished; awaiting finish of 1 more threads\n",
            "2021-12-03 14:58:01,627 : INFO : worker thread finished; awaiting finish of 0 more threads\n",
            "2021-12-03 14:58:01,629 : INFO : EPOCH - 35 : training on 76986 raw words (23372 effective words) took 0.6s, 38947 effective words/s\n",
            "2021-12-03 14:58:02,253 : INFO : worker thread finished; awaiting finish of 2 more threads\n",
            "2021-12-03 14:58:02,338 : INFO : worker thread finished; awaiting finish of 1 more threads\n",
            "2021-12-03 14:58:02,351 : INFO : worker thread finished; awaiting finish of 0 more threads\n",
            "2021-12-03 14:58:02,353 : INFO : EPOCH - 36 : training on 76986 raw words (23481 effective words) took 0.7s, 33097 effective words/s\n",
            "2021-12-03 14:58:02,966 : INFO : worker thread finished; awaiting finish of 2 more threads\n",
            "2021-12-03 14:58:03,052 : INFO : worker thread finished; awaiting finish of 1 more threads\n",
            "2021-12-03 14:58:03,067 : INFO : worker thread finished; awaiting finish of 0 more threads\n",
            "2021-12-03 14:58:03,068 : INFO : EPOCH - 37 : training on 76986 raw words (23347 effective words) took 0.7s, 33323 effective words/s\n",
            "2021-12-03 14:58:03,640 : INFO : worker thread finished; awaiting finish of 2 more threads\n",
            "2021-12-03 14:58:03,685 : INFO : worker thread finished; awaiting finish of 1 more threads\n",
            "2021-12-03 14:58:03,711 : INFO : worker thread finished; awaiting finish of 0 more threads\n",
            "2021-12-03 14:58:03,713 : INFO : EPOCH - 38 : training on 76986 raw words (23285 effective words) took 0.6s, 36965 effective words/s\n",
            "2021-12-03 14:58:04,306 : INFO : worker thread finished; awaiting finish of 2 more threads\n",
            "2021-12-03 14:58:04,399 : INFO : worker thread finished; awaiting finish of 1 more threads\n",
            "2021-12-03 14:58:04,401 : INFO : worker thread finished; awaiting finish of 0 more threads\n",
            "2021-12-03 14:58:04,403 : INFO : EPOCH - 39 : training on 76986 raw words (23473 effective words) took 0.7s, 34996 effective words/s\n",
            "2021-12-03 14:58:05,001 : INFO : worker thread finished; awaiting finish of 2 more threads\n",
            "2021-12-03 14:58:05,082 : INFO : worker thread finished; awaiting finish of 1 more threads\n",
            "2021-12-03 14:58:05,101 : INFO : worker thread finished; awaiting finish of 0 more threads\n",
            "2021-12-03 14:58:05,103 : INFO : EPOCH - 40 : training on 76986 raw words (23391 effective words) took 0.7s, 34112 effective words/s\n",
            "2021-12-03 14:58:05,107 : INFO : Doc2Vec lifecycle event {'msg': 'training on 3079440 raw words (934675 effective words) took 26.6s, 35168 effective words/s', 'datetime': '2021-12-03T14:58:05.107800', 'gensim': '4.1.2', 'python': '3.7.12 (default, Sep 10 2021, 00:21:48) \\n[GCC 7.5.0]', 'platform': 'Linux-5.4.104+-x86_64-with-Ubuntu-18.04-bionic', 'event': 'train'}\n",
            "2021-12-03 14:58:05,111 : INFO : Doc2Vec lifecycle event {'params': 'Doc2Vec(dm/m,d100,n10,w2,s0.001,t3)', 'datetime': '2021-12-03T14:58:05.111917', 'gensim': '4.1.2', 'python': '3.7.12 (default, Sep 10 2021, 00:21:48) \\n[GCC 7.5.0]', 'platform': 'Linux-5.4.104+-x86_64-with-Ubuntu-18.04-bionic', 'event': 'created'}\n"
          ]
        }
      ]
    },
    {
      "cell_type": "code",
      "metadata": {
        "id": "G-cE7gug1Ct5",
        "colab": {
          "base_uri": "https://localhost:8080/"
        },
        "outputId": "165a94ae-af9b-49cf-b1a3-c5a2c0079fde"
      },
      "source": [
        "if use_wandb:\n",
        "  model_artifact = wandb.Artifact(\n",
        "      \"model_doc2vec\", \n",
        "      type=\"model\",\n",
        "      description=\"Doc2Vec model\",\n",
        "      metadata=\"\")\n",
        "\n",
        "  fname = 'doc2vec.model'\n",
        "  model.save(fname)\n",
        "\n",
        "  model_artifact.add_file(fname)\n",
        "  wandb.log_artifact(model_artifact)"
      ],
      "execution_count": 100,
      "outputs": [
        {
          "output_type": "stream",
          "name": "stderr",
          "text": [
            "2021-12-03 14:58:05,141 : INFO : Doc2Vec lifecycle event {'fname_or_handle': 'doc2vec.model', 'separately': 'None', 'sep_limit': 10485760, 'ignore': frozenset(), 'datetime': '2021-12-03T14:58:05.141906', 'gensim': '4.1.2', 'python': '3.7.12 (default, Sep 10 2021, 00:21:48) \\n[GCC 7.5.0]', 'platform': 'Linux-5.4.104+-x86_64-with-Ubuntu-18.04-bionic', 'event': 'saving'}\n",
            "2021-12-03 14:58:05,144 : INFO : not storing attribute cum_table\n",
            "2021-12-03 14:58:05,153 : INFO : saved doc2vec.model\n"
          ]
        }
      ]
    },
    {
      "cell_type": "markdown",
      "metadata": {
        "id": "jJvq2K93xAO5"
      },
      "source": [
        "### Test the distance between C and the diatonic chords\n",
        "\n",
        "Test if the model can capture that the diatonic chords are closer to the root.\n",
        "\n",
        "Do this only if the input corpus contains the unigrams. "
      ]
    },
    {
      "cell_type": "code",
      "metadata": {
        "id": "cH3TJxCfvoFm",
        "colab": {
          "base_uri": "https://localhost:8080/"
        },
        "outputId": "6f58cf33-a294-4e3e-86b8-aedf0698f28b"
      },
      "source": [
        "test_tokens = ['C',\n",
        "              'Dm',\n",
        "              'Em',\n",
        "              'F',\n",
        "              'G7',\n",
        "              'Am',\n",
        "              #'Bm7b5',\n",
        "              'F7',\n",
        "              'D7',\n",
        "              'A7',\n",
        "              'E7',\n",
        "              'B7',\n",
        "              'F#7',\n",
        "               'Cm',\n",
        "               'D']\n",
        "\n",
        "if 1 in ngrams_for_input:\n",
        "  ref = 'C'\n",
        "  for t in test_tokens:\n",
        "    print(f\"{model.wv.similarity(ref, t):.3f}: {ref} <-> {t}\")"
      ],
      "execution_count": 101,
      "outputs": [
        {
          "output_type": "stream",
          "name": "stdout",
          "text": [
            "1.000: C <-> C\n",
            "0.640: C <-> Dm\n",
            "0.444: C <-> Em\n",
            "0.494: C <-> F\n",
            "0.625: C <-> G7\n",
            "0.537: C <-> Am\n",
            "0.394: C <-> F7\n",
            "0.359: C <-> D7\n",
            "0.527: C <-> A7\n",
            "0.447: C <-> E7\n",
            "0.274: C <-> B7\n",
            "-0.012: C <-> F#7\n",
            "0.213: C <-> Cm\n",
            "0.042: C <-> D\n"
          ]
        }
      ]
    },
    {
      "cell_type": "code",
      "metadata": {
        "id": "IfIRoWL4kpcB",
        "colab": {
          "base_uri": "https://localhost:8080/"
        },
        "outputId": "65d88dd6-7a35-4a07-86d2-bf99d9565169"
      },
      "source": [
        "if 1 in ngrams_for_input:\n",
        "  print(model.wv.similar_by_word('C', topn=20))"
      ],
      "execution_count": 102,
      "outputs": [
        {
          "output_type": "stream",
          "name": "stdout",
          "text": [
            "[('Dm', 0.6395595073699951), ('G7', 0.6248711943626404), ('C7', 0.5752378702163696), ('Am', 0.5374775528907776), ('A7', 0.5268529653549194), ('Gm', 0.5065094232559204), ('F', 0.4941142201423645), ('Bm7b5', 0.44949087500572205), ('E7', 0.4465387463569641), ('Em', 0.444110244512558), ('F7', 0.3939492106437683), ('Ebdim', 0.37741824984550476), ('F#dim', 0.3748157322406769), ('D7', 0.3590492606163025), ('Fm', 0.33726534247398376), ('Eb7', 0.3124905824661255), ('Bb7', 0.30956920981407166), ('Dm7b5', 0.30862101912498474), ('C#dim', 0.301753968000412), ('G#dim', 0.29880377650260925)]\n"
          ]
        }
      ]
    },
    {
      "cell_type": "code",
      "metadata": {
        "id": "Y3ekrldg7c8k"
      },
      "source": [
        "if 1 in ngrams_for_input:\n",
        "  # 20 closest chords to 'C'\n",
        "  vectors = []\n",
        "  chord_names = []\n",
        "  similar_chords = model.wv.similar_by_word('C', topn=10)\n",
        "  for c in similar_chords:\n",
        "    vectors.append(model.wv.get_vector(c[0]))\n",
        "    chord_names.append(c[0])\n",
        "\n",
        "  weights = np.array(vectors)\n"
      ],
      "execution_count": 103,
      "outputs": []
    },
    {
      "cell_type": "markdown",
      "metadata": {
        "id": "ix4n9S3_xQzD"
      },
      "source": [
        "Plot the generated word vectors in 2D space"
      ]
    },
    {
      "cell_type": "code",
      "metadata": {
        "id": "JjT_uNh0wthj",
        "colab": {
          "base_uri": "https://localhost:8080/",
          "height": 711
        },
        "outputId": "3764e515-c063-4a24-d57e-4c42fd983ca7"
      },
      "source": [
        "from sklearn.manifold import TSNE\n",
        "\n",
        "# input data: vectors for all tokens\n",
        "weights = model.wv.vectors\n",
        "\n",
        "# only do this when the vocabulary is not too big....\n",
        "if len(weights) < 100:\n",
        "\n",
        "  # do T-SNE\n",
        "  tsne = TSNE(n_components=2, \n",
        "              random_state=42,\n",
        "              perplexity=30,\n",
        "              learning_rate='auto',\n",
        "              init='pca',\n",
        "              n_iter=2000\n",
        "              )\n",
        "  T = tsne.fit_transform(weights)\n",
        "\n",
        "  # plot\n",
        "  projected = pd.DataFrame(T)\n",
        "\n",
        "  fig = px.scatter(\n",
        "      projected, \n",
        "      x=0, y=1,\n",
        "      #color='mode',\n",
        "      text=model.wv.index_to_key,\n",
        "      width=800, height=600,\n",
        "      title=\"T-SNE applied to Chord Vectors for Tunes in Cmaj/Amin\"\n",
        "  )\n",
        "  fig.update_traces(textposition='top center')\n",
        "  fig.update_traces(textfont_size=12, selector=dict(type='scatter'))\n",
        "  fig.show()"
      ],
      "execution_count": 104,
      "outputs": [
        {
          "output_type": "stream",
          "name": "stderr",
          "text": [
            "/usr/local/lib/python3.7/dist-packages/sklearn/manifold/_t_sne.py:986: FutureWarning:\n",
            "\n",
            "The PCA initialization in TSNE will change to have the standard deviation of PC1 equal to 1e-4 in 1.2. This will ensure better convergence.\n",
            "\n"
          ]
        },
        {
          "output_type": "display_data",
          "data": {
            "text/html": [
              "<html>\n",
              "<head><meta charset=\"utf-8\" /></head>\n",
              "<body>\n",
              "    <div>\n",
              "            <script src=\"https://cdnjs.cloudflare.com/ajax/libs/mathjax/2.7.5/MathJax.js?config=TeX-AMS-MML_SVG\"></script><script type=\"text/javascript\">if (window.MathJax) {MathJax.Hub.Config({SVG: {font: \"STIX-Web\"}});}</script>\n",
              "                <script type=\"text/javascript\">window.PlotlyConfig = {MathJaxConfig: 'local'};</script>\n",
              "        <script src=\"https://cdn.plot.ly/plotly-latest.min.js\"></script>    \n",
              "            <div id=\"4a1e830e-ae14-4a25-9d5d-54a8498f8537\" class=\"plotly-graph-div\" style=\"height:600px; width:800px;\"></div>\n",
              "            <script type=\"text/javascript\">\n",
              "                \n",
              "                    window.PLOTLYENV=window.PLOTLYENV || {};\n",
              "                    \n",
              "                if (document.getElementById(\"4a1e830e-ae14-4a25-9d5d-54a8498f8537\")) {\n",
              "                    Plotly.newPlot(\n",
              "                        '4a1e830e-ae14-4a25-9d5d-54a8498f8537',\n",
              "                        [{\"hoverlabel\": {\"namelength\": 0}, \"hovertemplate\": \"0=%{x}<br>1=%{y}<br>text=%{text}\", \"legendgroup\": \"\", \"marker\": {\"color\": \"#636efa\", \"symbol\": \"circle\"}, \"mode\": \"markers+text\", \"name\": \"\", \"showlegend\": false, \"text\": [\"C\", \"G7\", \"Dm\", \"Am\", \"A7\", \"D7\", \"F\", \"C7\", \"E7\", \"Em\", \"F7\", \"Bb7\", \"Fm\", \"B7\", \"Gm\", \"Bm7b5\", \"G#7\", \"G\", \"Ebdim\", \"Cm\", \"Eb7\", \"F#m7b5\", \"G7sus4\", \"Bm\", \"C#7\", \"G#\", \"Bb\", \"Em7b5\", \"F#7\", \"F#m\", \"E\", \"Eb\", \"F#dim\", \"C#dim\", \"Ebm\", \"C#\", \"Dm7b5\", \"A\", \"Bbm\", \"D\", \"C#m\", \"Cdim\", \"G#m\", \"B\", \"C7sus4\", \"F#\", \"G#dim\", \"Am7b5\", \"E7sus4\", \"A7sus4\", \"F7sus4\", \"Fdim\", \"D7sus4\", \"Gdim\", \"C#m7b5\", \"Eb7sus4\", \"Adim\", \"Gm7b5\", \"Edim\", \"G#m7b5\", \"Bb7sus4\", \"G#7sus4\", \"Fm7b5\", \"B7sus4\", \"C#7sus4\", \"Bbdim\", \"Bbm7b5\", \"Ddim\", \"Gsus4\", \"Ebm7b5\", \"Bdim\", \"F#7sus4\", \"Cm7b5\", \"Csus4\", \"Esus4\", \"Asus4\", \"B11\", \"G11\", \"Bsus4\", \"Ebsus4\", \"Fsus4\", \"G#sus4\", \"Bbsus4\"], \"textfont\": {\"size\": 12}, \"textposition\": \"top center\", \"type\": \"scatter\", \"x\": [-2.8771610260009766, -3.0408036708831787, -2.6230406761169434, -3.1509101390838623, -3.4425082206726074, -2.4823246002197266, -3.010760545730591, -2.955108165740967, -2.5778472423553467, -3.6665031909942627, -2.0756313800811768, -3.210948944091797, -2.2959296703338623, 0.030164390802383423, -2.8380725383758545, -3.330834150314331, -1.5951696634292603, -0.8067971467971802, -3.7198476791381836, -0.6026052832603455, -0.0892830342054367, -4.352112770080566, -2.5809147357940674, 0.26597222685813904, 1.8109760284423828, 0.9956014156341553, -0.6344246864318848, -4.342068195343018, -3.1417949199676514, 0.720565915107727, 0.4743598401546478, -0.49299460649490356, -3.726771354675293, -3.4896483421325684, 0.30367404222488403, 0.03462648019194603, -2.0171735286712646, 0.8538810014724731, 0.89053875207901, -0.34594154357910156, 1.416385293006897, -3.1293022632598877, 1.4021025896072388, 1.8383246660232544, -2.3740296363830566, 1.23725426197052, -4.1732048988342285, -0.8645983338356018, -1.469563364982605, -1.1761411428451538, 0.07263790816068649, -3.851207971572876, -2.3413937091827393, -2.2964978218078613, 0.8426410555839539, 1.205389380455017, 2.2987020015716553, 0.2521088719367981, -4.442551612854004, 0.8492019772529602, -1.7746875286102295, -0.88836669921875, -0.8025801181793213, -0.8663315176963806, -0.6364777684211731, -0.44314250349998474, 1.846239447593689, -1.2920430898666382, -2.2041239738464355, 0.5107489228248596, -0.6873700022697449, -0.37548860907554626, -0.26796308159828186, -1.1055173873901367, -1.7758492231369019, -1.5469985008239746, -1.3562793731689453, -2.080695867538452, -1.4793484210968018, -1.5836927890777588, -1.6614255905151367, -1.5504322052001953, -1.5301628112792969], \"xaxis\": \"x\", \"y\": [-0.7732234597206116, -1.191342830657959, -1.030199646949768, -0.4381483793258667, -0.4592432677745819, -1.4075106382369995, -0.5103468298912048, -0.7941441535949707, -0.30023613572120667, -0.9903156757354736, -1.369117021560669, -1.6991703510284424, -1.782824158668518, 1.0145936012268066, -1.1387600898742676, -0.7669929265975952, -1.2869783639907837, 0.4766090512275696, 0.038594312965869904, -1.4709365367889404, -2.6370489597320557, -0.5284126400947571, 0.6442000269889832, 1.83488130569458, -1.4824649095535278, -1.8238136768341064, -0.5138811469078064, -1.1783934831619263, 2.1910128593444824, 0.8161637783050537, 0.6589911580085754, -1.6646065711975098, -1.6860841512680054, 0.2845477759838104, -0.7513164281845093, -1.4174224138259888, -1.872454285621643, 1.039734125137329, -1.885277271270752, 1.0612937211990356, 1.22189199924469, 0.9890236258506775, -0.3320513665676117, 1.5808318853378296, 3.065610647201538, -0.8401539921760559, -1.9336600303649902, -1.028816819190979, 1.672160267829895, 2.382686138153076, 3.40844464302063, 1.5915783643722534, 2.2260217666625977, 1.2718284130096436, 2.233720302581787, -2.7140657901763916, 0.15604156255722046, -1.3005515336990356, 0.8279857635498047, 2.5503692626953125, 2.6818292140960693, 3.3679208755493164, -2.262620210647583, 2.0051138401031494, 3.2859694957733154, 0.31612637639045715, -0.47542205452919006, -0.12463577836751938, 0.8377588987350464, 0.6008772253990173, 0.2616475224494934, 2.8288216590881348, -0.9827069044113159, 1.208651065826416, 0.9025731086730957, 0.9646371603012085, 0.8708276152610779, 0.10882659256458282, 0.26182323694229126, 0.07630153000354767, 0.2235192507505417, 0.1301351636648178, 0.11110380291938782], \"yaxis\": \"y\"}],\n",
              "                        {\"height\": 600, \"legend\": {\"tracegroupgap\": 0}, \"template\": {\"data\": {\"bar\": [{\"error_x\": {\"color\": \"#2a3f5f\"}, \"error_y\": {\"color\": \"#2a3f5f\"}, \"marker\": {\"line\": {\"color\": \"#E5ECF6\", \"width\": 0.5}}, \"type\": \"bar\"}], \"barpolar\": [{\"marker\": {\"line\": {\"color\": \"#E5ECF6\", \"width\": 0.5}}, \"type\": \"barpolar\"}], \"carpet\": [{\"aaxis\": {\"endlinecolor\": \"#2a3f5f\", \"gridcolor\": \"white\", \"linecolor\": \"white\", \"minorgridcolor\": \"white\", \"startlinecolor\": \"#2a3f5f\"}, \"baxis\": {\"endlinecolor\": \"#2a3f5f\", \"gridcolor\": \"white\", \"linecolor\": \"white\", \"minorgridcolor\": \"white\", \"startlinecolor\": \"#2a3f5f\"}, \"type\": \"carpet\"}], \"choropleth\": [{\"colorbar\": {\"outlinewidth\": 0, \"ticks\": \"\"}, \"type\": \"choropleth\"}], \"contour\": [{\"colorbar\": {\"outlinewidth\": 0, \"ticks\": \"\"}, \"colorscale\": [[0.0, \"#0d0887\"], [0.1111111111111111, \"#46039f\"], [0.2222222222222222, \"#7201a8\"], [0.3333333333333333, \"#9c179e\"], [0.4444444444444444, \"#bd3786\"], [0.5555555555555556, \"#d8576b\"], [0.6666666666666666, \"#ed7953\"], [0.7777777777777778, \"#fb9f3a\"], [0.8888888888888888, \"#fdca26\"], [1.0, \"#f0f921\"]], \"type\": \"contour\"}], \"contourcarpet\": [{\"colorbar\": {\"outlinewidth\": 0, \"ticks\": \"\"}, \"type\": \"contourcarpet\"}], \"heatmap\": [{\"colorbar\": {\"outlinewidth\": 0, \"ticks\": \"\"}, \"colorscale\": [[0.0, \"#0d0887\"], [0.1111111111111111, \"#46039f\"], [0.2222222222222222, \"#7201a8\"], [0.3333333333333333, \"#9c179e\"], [0.4444444444444444, \"#bd3786\"], [0.5555555555555556, \"#d8576b\"], [0.6666666666666666, \"#ed7953\"], [0.7777777777777778, \"#fb9f3a\"], [0.8888888888888888, \"#fdca26\"], [1.0, \"#f0f921\"]], \"type\": \"heatmap\"}], \"heatmapgl\": [{\"colorbar\": {\"outlinewidth\": 0, \"ticks\": \"\"}, \"colorscale\": [[0.0, \"#0d0887\"], [0.1111111111111111, \"#46039f\"], [0.2222222222222222, \"#7201a8\"], [0.3333333333333333, \"#9c179e\"], [0.4444444444444444, \"#bd3786\"], [0.5555555555555556, \"#d8576b\"], [0.6666666666666666, \"#ed7953\"], [0.7777777777777778, \"#fb9f3a\"], [0.8888888888888888, \"#fdca26\"], [1.0, \"#f0f921\"]], \"type\": \"heatmapgl\"}], \"histogram\": [{\"marker\": {\"colorbar\": {\"outlinewidth\": 0, \"ticks\": \"\"}}, \"type\": \"histogram\"}], \"histogram2d\": [{\"colorbar\": {\"outlinewidth\": 0, \"ticks\": \"\"}, \"colorscale\": [[0.0, \"#0d0887\"], [0.1111111111111111, \"#46039f\"], [0.2222222222222222, \"#7201a8\"], [0.3333333333333333, \"#9c179e\"], [0.4444444444444444, \"#bd3786\"], [0.5555555555555556, \"#d8576b\"], [0.6666666666666666, \"#ed7953\"], [0.7777777777777778, \"#fb9f3a\"], [0.8888888888888888, \"#fdca26\"], [1.0, \"#f0f921\"]], \"type\": \"histogram2d\"}], \"histogram2dcontour\": [{\"colorbar\": {\"outlinewidth\": 0, \"ticks\": \"\"}, \"colorscale\": [[0.0, \"#0d0887\"], [0.1111111111111111, \"#46039f\"], [0.2222222222222222, \"#7201a8\"], [0.3333333333333333, \"#9c179e\"], [0.4444444444444444, \"#bd3786\"], [0.5555555555555556, \"#d8576b\"], [0.6666666666666666, \"#ed7953\"], [0.7777777777777778, \"#fb9f3a\"], [0.8888888888888888, \"#fdca26\"], [1.0, \"#f0f921\"]], \"type\": \"histogram2dcontour\"}], \"mesh3d\": [{\"colorbar\": {\"outlinewidth\": 0, \"ticks\": \"\"}, \"type\": \"mesh3d\"}], \"parcoords\": [{\"line\": {\"colorbar\": {\"outlinewidth\": 0, \"ticks\": \"\"}}, \"type\": \"parcoords\"}], \"pie\": [{\"automargin\": true, \"type\": \"pie\"}], \"scatter\": [{\"marker\": {\"colorbar\": {\"outlinewidth\": 0, \"ticks\": \"\"}}, \"type\": \"scatter\"}], \"scatter3d\": [{\"line\": {\"colorbar\": {\"outlinewidth\": 0, \"ticks\": \"\"}}, \"marker\": {\"colorbar\": {\"outlinewidth\": 0, \"ticks\": \"\"}}, \"type\": \"scatter3d\"}], \"scattercarpet\": [{\"marker\": {\"colorbar\": {\"outlinewidth\": 0, \"ticks\": \"\"}}, \"type\": \"scattercarpet\"}], \"scattergeo\": [{\"marker\": {\"colorbar\": {\"outlinewidth\": 0, \"ticks\": \"\"}}, \"type\": \"scattergeo\"}], \"scattergl\": [{\"marker\": {\"colorbar\": {\"outlinewidth\": 0, \"ticks\": \"\"}}, \"type\": \"scattergl\"}], \"scattermapbox\": [{\"marker\": {\"colorbar\": {\"outlinewidth\": 0, \"ticks\": \"\"}}, \"type\": \"scattermapbox\"}], \"scatterpolar\": [{\"marker\": {\"colorbar\": {\"outlinewidth\": 0, \"ticks\": \"\"}}, \"type\": \"scatterpolar\"}], \"scatterpolargl\": [{\"marker\": {\"colorbar\": {\"outlinewidth\": 0, \"ticks\": \"\"}}, \"type\": \"scatterpolargl\"}], \"scatterternary\": [{\"marker\": {\"colorbar\": {\"outlinewidth\": 0, \"ticks\": \"\"}}, \"type\": \"scatterternary\"}], \"surface\": [{\"colorbar\": {\"outlinewidth\": 0, \"ticks\": \"\"}, \"colorscale\": [[0.0, \"#0d0887\"], [0.1111111111111111, \"#46039f\"], [0.2222222222222222, \"#7201a8\"], [0.3333333333333333, \"#9c179e\"], [0.4444444444444444, \"#bd3786\"], [0.5555555555555556, \"#d8576b\"], [0.6666666666666666, \"#ed7953\"], [0.7777777777777778, \"#fb9f3a\"], [0.8888888888888888, \"#fdca26\"], [1.0, \"#f0f921\"]], \"type\": \"surface\"}], \"table\": [{\"cells\": {\"fill\": {\"color\": \"#EBF0F8\"}, \"line\": {\"color\": \"white\"}}, \"header\": {\"fill\": {\"color\": \"#C8D4E3\"}, \"line\": {\"color\": \"white\"}}, \"type\": \"table\"}]}, \"layout\": {\"annotationdefaults\": {\"arrowcolor\": \"#2a3f5f\", \"arrowhead\": 0, \"arrowwidth\": 1}, \"coloraxis\": {\"colorbar\": {\"outlinewidth\": 0, \"ticks\": \"\"}}, \"colorscale\": {\"diverging\": [[0, \"#8e0152\"], [0.1, \"#c51b7d\"], [0.2, \"#de77ae\"], [0.3, \"#f1b6da\"], [0.4, \"#fde0ef\"], [0.5, \"#f7f7f7\"], [0.6, \"#e6f5d0\"], [0.7, \"#b8e186\"], [0.8, \"#7fbc41\"], [0.9, \"#4d9221\"], [1, \"#276419\"]], \"sequential\": [[0.0, \"#0d0887\"], [0.1111111111111111, \"#46039f\"], [0.2222222222222222, \"#7201a8\"], [0.3333333333333333, \"#9c179e\"], [0.4444444444444444, \"#bd3786\"], [0.5555555555555556, \"#d8576b\"], [0.6666666666666666, \"#ed7953\"], [0.7777777777777778, \"#fb9f3a\"], [0.8888888888888888, \"#fdca26\"], [1.0, \"#f0f921\"]], \"sequentialminus\": [[0.0, \"#0d0887\"], [0.1111111111111111, \"#46039f\"], [0.2222222222222222, \"#7201a8\"], [0.3333333333333333, \"#9c179e\"], [0.4444444444444444, \"#bd3786\"], [0.5555555555555556, \"#d8576b\"], [0.6666666666666666, \"#ed7953\"], [0.7777777777777778, \"#fb9f3a\"], [0.8888888888888888, \"#fdca26\"], [1.0, \"#f0f921\"]]}, \"colorway\": [\"#636efa\", \"#EF553B\", \"#00cc96\", \"#ab63fa\", \"#FFA15A\", \"#19d3f3\", \"#FF6692\", \"#B6E880\", \"#FF97FF\", \"#FECB52\"], \"font\": {\"color\": \"#2a3f5f\"}, \"geo\": {\"bgcolor\": \"white\", \"lakecolor\": \"white\", \"landcolor\": \"#E5ECF6\", \"showlakes\": true, \"showland\": true, \"subunitcolor\": \"white\"}, \"hoverlabel\": {\"align\": \"left\"}, \"hovermode\": \"closest\", \"mapbox\": {\"style\": \"light\"}, \"paper_bgcolor\": \"white\", \"plot_bgcolor\": \"#E5ECF6\", \"polar\": {\"angularaxis\": {\"gridcolor\": \"white\", \"linecolor\": \"white\", \"ticks\": \"\"}, \"bgcolor\": \"#E5ECF6\", \"radialaxis\": {\"gridcolor\": \"white\", \"linecolor\": \"white\", \"ticks\": \"\"}}, \"scene\": {\"xaxis\": {\"backgroundcolor\": \"#E5ECF6\", \"gridcolor\": \"white\", \"gridwidth\": 2, \"linecolor\": \"white\", \"showbackground\": true, \"ticks\": \"\", \"zerolinecolor\": \"white\"}, \"yaxis\": {\"backgroundcolor\": \"#E5ECF6\", \"gridcolor\": \"white\", \"gridwidth\": 2, \"linecolor\": \"white\", \"showbackground\": true, \"ticks\": \"\", \"zerolinecolor\": \"white\"}, \"zaxis\": {\"backgroundcolor\": \"#E5ECF6\", \"gridcolor\": \"white\", \"gridwidth\": 2, \"linecolor\": \"white\", \"showbackground\": true, \"ticks\": \"\", \"zerolinecolor\": \"white\"}}, \"shapedefaults\": {\"line\": {\"color\": \"#2a3f5f\"}}, \"ternary\": {\"aaxis\": {\"gridcolor\": \"white\", \"linecolor\": \"white\", \"ticks\": \"\"}, \"baxis\": {\"gridcolor\": \"white\", \"linecolor\": \"white\", \"ticks\": \"\"}, \"bgcolor\": \"#E5ECF6\", \"caxis\": {\"gridcolor\": \"white\", \"linecolor\": \"white\", \"ticks\": \"\"}}, \"title\": {\"x\": 0.05}, \"xaxis\": {\"automargin\": true, \"gridcolor\": \"white\", \"linecolor\": \"white\", \"ticks\": \"\", \"title\": {\"standoff\": 15}, \"zerolinecolor\": \"white\", \"zerolinewidth\": 2}, \"yaxis\": {\"automargin\": true, \"gridcolor\": \"white\", \"linecolor\": \"white\", \"ticks\": \"\", \"title\": {\"standoff\": 15}, \"zerolinecolor\": \"white\", \"zerolinewidth\": 2}}}, \"title\": {\"text\": \"T-SNE applied to Chord Vectors for Tunes in Cmaj/Amin\"}, \"width\": 800, \"xaxis\": {\"anchor\": \"y\", \"domain\": [0.0, 1.0], \"title\": {\"text\": \"0\"}}, \"yaxis\": {\"anchor\": \"x\", \"domain\": [0.0, 1.0], \"title\": {\"text\": \"1\"}}},\n",
              "                        {\"responsive\": true}\n",
              "                    ).then(function(){\n",
              "                            \n",
              "var gd = document.getElementById('4a1e830e-ae14-4a25-9d5d-54a8498f8537');\n",
              "var x = new MutationObserver(function (mutations, observer) {{\n",
              "        var display = window.getComputedStyle(gd).display;\n",
              "        if (!display || display === 'none') {{\n",
              "            console.log([gd, 'removed!']);\n",
              "            Plotly.purge(gd);\n",
              "            observer.disconnect();\n",
              "        }}\n",
              "}});\n",
              "\n",
              "// Listen for the removal of the full notebook cells\n",
              "var notebookContainer = gd.closest('#notebook-container');\n",
              "if (notebookContainer) {{\n",
              "    x.observe(notebookContainer, {childList: true});\n",
              "}}\n",
              "\n",
              "// Listen for the clearing of the current output cell\n",
              "var outputEl = gd.closest('.output');\n",
              "if (outputEl) {{\n",
              "    x.observe(outputEl, {childList: true});\n",
              "}}\n",
              "\n",
              "                        })\n",
              "                };\n",
              "                \n",
              "            </script>\n",
              "        </div>\n",
              "</body>\n",
              "</html>"
            ]
          },
          "metadata": {}
        }
      ]
    },
    {
      "cell_type": "markdown",
      "metadata": {
        "id": "ajqb904KDwNV"
      },
      "source": [
        "## Section Similarity\n"
      ]
    },
    {
      "cell_type": "markdown",
      "metadata": {
        "id": "HS_k1g6ujjKP"
      },
      "source": [
        "### Single Tunes"
      ]
    },
    {
      "cell_type": "code",
      "metadata": {
        "id": "mPnEPL_k4TZn"
      },
      "source": [
        "def get_section_scores_doc2vec(tunes):\n",
        "\n",
        "  df_sim = pd.DataFrame(columns=['reference_title',\n",
        "                                  'reference_titleid',\n",
        "                                  'similar_title',\n",
        "                                  'similar_titleid',\n",
        "                                  'ref_section', \n",
        "                                  'ref_section_label',\n",
        "                                  'ref_sectionid',\n",
        "                                  'similar_section',\n",
        "                                  'similar_section_label',\n",
        "                                  'similar_sectionid',\n",
        "                                  'score', \n",
        "                                ])\n",
        "\n",
        "  tag_sections_and_tunes = doc2vec_config['general']['tag_sections_and_tunes']\n",
        "\n",
        "  ### get titleid from tunes, use enumerate\n",
        "\n",
        "  for tune in tunes:\n",
        "    print()\n",
        "    print(\"-\"*50)\n",
        "    for s1 in title_to_sectionid[tune]:\n",
        "    \n",
        "      # sections are tagged with the numeric sectionid and can be used for querying\n",
        "      sims = model.dv.similar_by_key(s1, topn=20)\n",
        "      \n",
        "      print(s1, sectionid_to_section[s1])\n",
        "      n = 0\n",
        "      for s2, s2_score in sims:\n",
        "\n",
        "        # if the sections are tagged with both sectionid and tuneid:\n",
        "        if tag_sections_and_tunes:\n",
        "          # only consider similarities to tuneids, ignore sectionids\n",
        "          if type(s2) == str: \n",
        "            s2 = int(s2.replace('titleid_', ''))\n",
        "            # don't count self-similarity between sections of the same tune\n",
        "            if s2 not in title_to_sectionid[tune]:\n",
        "              n += 1\n",
        "          \n",
        "              # print(f\"\\t{s2_score:.3f} {sectionid_to_section[s2]}\")\n",
        "\n",
        "              df_sim.loc[len(df_sim)] = [tune,\n",
        "                                          title_to_titleid[tune],\n",
        "                                          sectionid_to_title[s2],\n",
        "                                          sectionid_to_titleid[s2],\n",
        "                                          sectionid_to_section[s1],\n",
        "                                          sectionid_to_sectionlabel[s1],\n",
        "                                          s1,\n",
        "                                          sectionid_to_section[s2], \n",
        "                                          sectionid_to_sectionlabel[s2],\n",
        "                                          s2,\n",
        "                                          s2_score, \n",
        "                                          ]\n",
        "        else:\n",
        "          if type(s2) == int: \n",
        "            # don't count self-similarity between sections of the same tune\n",
        "            if s2 not in title_to_sectionid[tune]:\n",
        "              n += 1\n",
        "          \n",
        "              # print(f\"\\t{s2_score:.3f} {sectionid_to_section[s2]}\")\n",
        "\n",
        "              df_sim.loc[len(df_sim)] = [tune,\n",
        "                                          title_to_titleid[tune],\n",
        "                                          sectionid_to_title[s2],\n",
        "                                          sectionid_to_titleid[s2],\n",
        "                                          sectionid_to_section[s1],\n",
        "                                          sectionid_to_sectionlabel[s1],\n",
        "                                          s1,\n",
        "                                          sectionid_to_section[s2], \n",
        "                                          sectionid_to_sectionlabel[s2],\n",
        "                                          s2,\n",
        "                                          s2_score,  \n",
        "                                          ]            \n",
        "\n",
        "  print()\n",
        "  if tag_sections_and_tunes:\n",
        "    print(f\"Sections are tagged with the tune id, therefore only the tune similarity is evaluated.\")\n",
        "  else:\n",
        "    print(f\"Sections are tagged only with the section id, therefore only section similarity is evaluated.\")\n",
        "\n",
        "  return df_sim"
      ],
      "execution_count": 105,
      "outputs": []
    },
    {
      "cell_type": "code",
      "metadata": {
        "colab": {
          "base_uri": "https://localhost:8080/"
        },
        "id": "i_d92il649O9",
        "outputId": "5360f0ad-a302-4dcc-da89-1e104fdbd6ab"
      },
      "source": [
        "_tunes = tunes_eval_list\n",
        "\n",
        "df_sim = get_section_scores_doc2vec(_tunes)\n",
        "\n",
        "result = None\n",
        "for tune in _tunes:\n",
        "  tune_result, details = recommend_tune(df_sim, tune)\n",
        "  if result is None:\n",
        "    result = pd.DataFrame(columns=tune_result.columns)\n",
        "  result = result.append(tune_result)\n",
        "\n",
        "print(f\"Result has {len(result)} rows.\")\n",
        "\n",
        "# save a copy of the results; all results will be concatenated at the end\n",
        "df_doc2vec = df_sim[:]"
      ],
      "execution_count": 106,
      "outputs": [
        {
          "output_type": "stream",
          "name": "stdout",
          "text": [
            "\n",
            "--------------------------------------------------\n",
            "500 Blue Moon, section1 (A)\n",
            "501 Blue Moon, section2 (A)\n",
            "502 Blue Moon, section3 (B)\n",
            "503 Blue Moon, section4 (A)\n",
            "\n",
            "--------------------------------------------------\n",
            "1229 Exactly Like You, section1 (A)\n",
            "1230 Exactly Like You, section2 (A)\n",
            "1231 Exactly Like You, section3 (B)\n",
            "1232 Exactly Like You, section4 (A)\n",
            "\n",
            "--------------------------------------------------\n",
            "1554 Honeysuckle Rose, section1 (A)\n",
            "1555 Honeysuckle Rose, section2 (A)\n",
            "1556 Honeysuckle Rose, section3 (B)\n",
            "1557 Honeysuckle Rose, section4 (A)\n",
            "\n",
            "--------------------------------------------------\n",
            "1668 I Got Rhythm, section1 (A)\n",
            "1669 I Got Rhythm, section2 (A)\n",
            "1670 I Got Rhythm, section3 (B)\n",
            "1671 I Got Rhythm, section4 (A)\n",
            "\n",
            "--------------------------------------------------\n",
            "2705 Misty, section1 (A)\n",
            "2706 Misty, section2 (A)\n",
            "2707 Misty, section3 (B)\n",
            "2708 Misty, section4 (A)\n",
            "\n",
            "--------------------------------------------------\n",
            "5176 Old Fashioned Love, section1 (A)\n",
            "5177 Old Fashioned Love, section2 (B)\n",
            "\n",
            "--------------------------------------------------\n",
            "3044 On The Sunny Side Of The Street, section1 (A)\n",
            "3045 On The Sunny Side Of The Street, section2 (A)\n",
            "3046 On The Sunny Side Of The Street, section3 (B)\n",
            "3047 On The Sunny Side Of The Street, section4 (A)\n",
            "\n",
            "--------------------------------------------------\n",
            "3795 Sweet Sue, Just You, section1 (A)\n",
            "3796 Sweet Sue, Just You, section2 (A)\n",
            "3797 Sweet Sue, Just You, section3 (B)\n",
            "3798 Sweet Sue, Just You, section4 (A)\n",
            "\n",
            "--------------------------------------------------\n",
            "3817 Take The A Train, section1 (A)\n",
            "3818 Take The A Train, section2 (A)\n",
            "3819 Take The A Train, section3 (B)\n",
            "3820 Take The A Train, section4 (A)\n",
            "\n",
            "--------------------------------------------------\n",
            "3909 These Foolish Things, section1 (A)\n",
            "3910 These Foolish Things, section2 (A)\n",
            "3911 These Foolish Things, section3 (B)\n",
            "3912 These Foolish Things, section4 (A)\n",
            "\n",
            "--------------------------------------------------\n",
            "4345 Wow, section1 (A)\n",
            "4346 Wow, section2 (B)\n",
            "4347 Wow, section3 (C)\n",
            "4348 Wow, section4 (A)\n",
            "\n",
            "Sections are tagged only with the section id, therefore only section similarity is evaluated.\n",
            "Result has 554 rows.\n"
          ]
        }
      ]
    },
    {
      "cell_type": "code",
      "metadata": {
        "colab": {
          "base_uri": "https://localhost:8080/",
          "height": 542
        },
        "id": "n4dv7VVe5NT4",
        "outputId": "dd1b8194-3bcf-4a55-efb2-0972c92f99d4"
      },
      "source": [
        "import plotly.express as px\n",
        "fig = px.histogram(df_sim, x=\"score\", nbins=50, title='doc2vec sections')\n",
        "fig.show()"
      ],
      "execution_count": 107,
      "outputs": [
        {
          "output_type": "display_data",
          "data": {
            "text/html": [
              "<html>\n",
              "<head><meta charset=\"utf-8\" /></head>\n",
              "<body>\n",
              "    <div>\n",
              "            <script src=\"https://cdnjs.cloudflare.com/ajax/libs/mathjax/2.7.5/MathJax.js?config=TeX-AMS-MML_SVG\"></script><script type=\"text/javascript\">if (window.MathJax) {MathJax.Hub.Config({SVG: {font: \"STIX-Web\"}});}</script>\n",
              "                <script type=\"text/javascript\">window.PlotlyConfig = {MathJaxConfig: 'local'};</script>\n",
              "        <script src=\"https://cdn.plot.ly/plotly-latest.min.js\"></script>    \n",
              "            <div id=\"67d2c3a9-4888-422d-a826-0854881e4b54\" class=\"plotly-graph-div\" style=\"height:525px; width:100%;\"></div>\n",
              "            <script type=\"text/javascript\">\n",
              "                \n",
              "                    window.PLOTLYENV=window.PLOTLYENV || {};\n",
              "                    \n",
              "                if (document.getElementById(\"67d2c3a9-4888-422d-a826-0854881e4b54\")) {\n",
              "                    Plotly.newPlot(\n",
              "                        '67d2c3a9-4888-422d-a826-0854881e4b54',\n",
              "                        [{\"alignmentgroup\": \"True\", \"bingroup\": \"x\", \"hoverlabel\": {\"namelength\": 0}, \"hovertemplate\": \"score=%{x}<br>count=%{y}\", \"legendgroup\": \"\", \"marker\": {\"color\": \"#636efa\"}, \"name\": \"\", \"nbinsx\": 50, \"offsetgroup\": \"\", \"orientation\": \"v\", \"showlegend\": false, \"type\": \"histogram\", \"x\": [0.9111950397491455, 0.9073577523231506, 0.901345431804657, 0.8993116021156311, 0.8949562907218933, 0.8838679790496826, 0.8774790167808533, 0.8740952610969543, 0.8684222102165222, 0.8677149415016174, 0.8655375838279724, 0.8653976917266846, 0.8621023893356323, 0.8600763082504272, 0.8571681976318359, 0.8553519248962402, 0.852462649345398, 0.8523366451263428, 0.8508313298225403, 0.9156054258346558, 0.907051146030426, 0.896579921245575, 0.882773756980896, 0.8771948218345642, 0.8723134398460388, 0.8721787929534912, 0.8674860000610352, 0.8672144412994385, 0.8624638915061951, 0.8613640666007996, 0.8590766191482544, 0.8580139875411987, 0.852933406829834, 0.8510095477104187, 0.8507512807846069, 0.8477047681808472, 0.8456823825836182, 0.8449783325195312, 0.8445302248001099, 0.8436611294746399, 0.8271241188049316, 0.8122404217720032, 0.8035451769828796, 0.7769153118133545, 0.7767965197563171, 0.7567855715751648, 0.7455800175666809, 0.7418743968009949, 0.7322204113006592, 0.7289222478866577, 0.7261406183242798, 0.721320390701294, 0.7198619842529297, 0.7169293761253357, 0.7075684070587158, 0.707423210144043, 0.7035858631134033, 0.7021819353103638, 0.6955029964447021, 0.9018794298171997, 0.8891750574111938, 0.8851949572563171, 0.8772239089012146, 0.8577689528465271, 0.8538071513175964, 0.8458037376403809, 0.8423342704772949, 0.8385056257247925, 0.8323468565940857, 0.8309813737869263, 0.8303415179252625, 0.8273747563362122, 0.8258326053619385, 0.8236740231513977, 0.8235058188438416, 0.8232231736183167, 0.8225811719894409, 0.8176130652427673, 0.9714832305908203, 0.9660114645957947, 0.9660038352012634, 0.9650944471359253, 0.9639528393745422, 0.9638649225234985, 0.9630600214004517, 0.9613173007965088, 0.960052490234375, 0.9598767757415771, 0.9596846103668213, 0.9594561457633972, 0.9574463367462158, 0.9566570520401001, 0.9541184902191162, 0.9534406065940857, 0.9525204300880432, 0.9520377516746521, 0.9501231908798218, 0.9687651991844177, 0.9659872055053711, 0.9633724093437195, 0.9554466009140015, 0.9519755244255066, 0.950200617313385, 0.9459359049797058, 0.9455934762954712, 0.9424664974212646, 0.9395029544830322, 0.9385251402854919, 0.9371720552444458, 0.9335538148880005, 0.9330245852470398, 0.932281494140625, 0.9300487041473389, 0.929621696472168, 0.9295403957366943, 0.9272390604019165, 0.9264476299285889, 0.9428009986877441, 0.9338374733924866, 0.9259095191955566, 0.9223952889442444, 0.9113345742225647, 0.9078776836395264, 0.9066104292869568, 0.9055345058441162, 0.9018406867980957, 0.8995668888092041, 0.8956045508384705, 0.8953209519386292, 0.8948329091072083, 0.8945410847663879, 0.8918625116348267, 0.8905022740364075, 0.8881188035011292, 0.8875556588172913, 0.8856913447380066, 0.8848652243614197, 0.9741771221160889, 0.9712666869163513, 0.9684127569198608, 0.9675876498222351, 0.9653457403182983, 0.9650512337684631, 0.9639115333557129, 0.9619399309158325, 0.9616672396659851, 0.9603351950645447, 0.960048496723175, 0.9597300291061401, 0.958741307258606, 0.9583937525749207, 0.9573180675506592, 0.9567123055458069, 0.9547056555747986, 0.9538998603820801, 0.9531223773956299, 0.9322810173034668, 0.9287264347076416, 0.9259989261627197, 0.9253599047660828, 0.9220401644706726, 0.9160988330841064, 0.9145967960357666, 0.914520263671875, 0.9138835072517395, 0.9127297401428223, 0.9122881889343262, 0.9115545749664307, 0.9049223065376282, 0.9014933705329895, 0.9009577035903931, 0.8960949778556824, 0.8948219418525696, 0.8948183655738831, 0.8920990228652954, 0.9770146608352661, 0.9671078324317932, 0.9647127985954285, 0.9643018841743469, 0.9638470411300659, 0.9637293815612793, 0.9632393717765808, 0.9623368978500366, 0.9622986316680908, 0.9612941741943359, 0.9604778289794922, 0.9603753089904785, 0.9597924947738647, 0.9589465856552124, 0.9585998058319092, 0.958114743232727, 0.9575892686843872, 0.957512617111206, 0.9574314951896667, 0.9567642211914062, 0.9803123474121094, 0.9778563976287842, 0.977678120136261, 0.9771970510482788, 0.9729285836219788, 0.9698877930641174, 0.9687351584434509, 0.965185821056366, 0.9593440294265747, 0.9574916958808899, 0.9523727893829346, 0.9516851305961609, 0.9506906867027283, 0.9493812322616577, 0.9487861394882202, 0.9462966918945312, 0.9450915455818176, 0.9399042725563049, 0.9396137595176697, 0.9384194016456604, 0.9189425110816956, 0.9159964323043823, 0.9138491153717041, 0.900040864944458, 0.8994579911231995, 0.8993918299674988, 0.8969430923461914, 0.893846869468689, 0.8906093239784241, 0.8855105638504028, 0.8837140798568726, 0.8765918016433716, 0.8757213354110718, 0.8739641904830933, 0.8733575344085693, 0.8684321045875549, 0.8676647543907166, 0.8665169477462769, 0.8634086847305298, 0.9350752830505371, 0.9219818711280823, 0.9068271517753601, 0.8958160877227783, 0.8952277302742004, 0.8917163610458374, 0.8903040885925293, 0.8899765014648438, 0.8896947503089905, 0.8895160555839539, 0.8846036195755005, 0.8834972977638245, 0.8822125196456909, 0.880917489528656, 0.8794370889663696, 0.878381073474884, 0.8767879009246826, 0.8764981627464294, 0.9485170245170593, 0.9261170625686646, 0.9192469716072083, 0.9174023270606995, 0.9055200219154358, 0.8952285051345825, 0.8938267827033997, 0.8923569321632385, 0.8852365016937256, 0.8849346041679382, 0.8846316933631897, 0.8792738318443298, 0.8685824275016785, 0.8643630743026733, 0.8542928695678711, 0.8522495031356812, 0.8520984053611755, 0.8510738611221313, 0.9706267714500427, 0.9694061875343323, 0.9638235569000244, 0.9634382724761963, 0.9617957472801208, 0.9609615206718445, 0.9598737955093384, 0.9563029408454895, 0.9557680487632751, 0.9538708329200745, 0.9529828429222107, 0.9509899616241455, 0.9486843943595886, 0.9478354454040527, 0.9465216398239136, 0.9460324645042419, 0.9453676342964172, 0.9451903104782104, 0.9435104727745056, 0.9423229098320007, 0.9108993411064148, 0.9023869633674622, 0.9013113379478455, 0.8959361910820007, 0.894102931022644, 0.8898958563804626, 0.8894653916358948, 0.8875060081481934, 0.8867217898368835, 0.8863411545753479, 0.8858927488327026, 0.8853189945220947, 0.8842645287513733, 0.8821073770523071, 0.8770224452018738, 0.8750584721565247, 0.874191164970398, 0.8689191937446594, 0.9444873332977295, 0.9377756118774414, 0.922527015209198, 0.9206393361091614, 0.9109205007553101, 0.9087440967559814, 0.9065805673599243, 0.906341016292572, 0.9030729532241821, 0.9004027247428894, 0.8987547755241394, 0.8986210823059082, 0.8967040181159973, 0.8949816823005676, 0.8946665525436401, 0.8939605355262756, 0.8930368423461914, 0.8892574906349182, 0.9688237309455872, 0.9621723294258118, 0.9551995396614075, 0.951141893863678, 0.9505079388618469, 0.9473415017127991, 0.9467588067054749, 0.9452744722366333, 0.9414175748825073, 0.9409704804420471, 0.9388798475265503, 0.9379950165748596, 0.9370308518409729, 0.9345519542694092, 0.9304729700088501, 0.9293807148933411, 0.927858293056488, 0.9273707866668701, 0.9272302985191345, 0.9270521998405457, 0.8427965044975281, 0.8402577638626099, 0.8332180380821228, 0.8004668354988098, 0.798960268497467, 0.7976738214492798, 0.7973548769950867, 0.7963424921035767, 0.7959749698638916, 0.795447587966919, 0.7892593741416931, 0.7875992059707642, 0.781968355178833, 0.7803296446800232, 0.7787442803382874, 0.7741340398788452, 0.768336296081543, 0.766929030418396, 0.7657589316368103, 0.7621510028839111, 0.9446296095848083, 0.944574773311615, 0.9126709699630737, 0.911052942276001, 0.9051201939582825, 0.9019001126289368, 0.8971741795539856, 0.8966763615608215, 0.8955632448196411, 0.894605815410614, 0.8939295411109924, 0.8936617374420166, 0.8920537829399109, 0.8911997675895691, 0.8893850445747375, 0.8887702822685242, 0.8856964707374573, 0.8852537274360657, 0.9715685844421387, 0.9575588703155518, 0.9492562413215637, 0.9464871287345886, 0.9464369416236877, 0.9455093145370483, 0.9447963833808899, 0.9445247650146484, 0.9347521066665649, 0.9330518841743469, 0.9329357743263245, 0.9320999979972839, 0.9295898079872131, 0.9278905987739563, 0.9269908666610718, 0.9257705211639404, 0.924960732460022, 0.9243082404136658, 0.9231514930725098, 0.9205687046051025, 0.9498862624168396, 0.9434316754341125, 0.9377546906471252, 0.9321348071098328, 0.9313840866088867, 0.9281697273254395, 0.9276123642921448, 0.9263220429420471, 0.9262600541114807, 0.9248079657554626, 0.9245840907096863, 0.9243749380111694, 0.9218553900718689, 0.920816957950592, 0.9192105531692505, 0.9181601405143738, 0.9145931005477905, 0.914214551448822, 0.9122545719146729, 0.9103888273239136, 0.9356574416160583, 0.9233354330062866, 0.913277268409729, 0.9020538330078125, 0.9003764986991882, 0.8996379375457764, 0.8957387208938599, 0.891721785068512, 0.8898051977157593, 0.8870334029197693, 0.8868513703346252, 0.886638343334198, 0.8859151601791382, 0.8857282400131226, 0.8841161131858826, 0.88230299949646, 0.8802585601806641, 0.8783989548683167, 0.9586969017982483, 0.9518290758132935, 0.9466491341590881, 0.9431558847427368, 0.9412193298339844, 0.9340213537216187, 0.9319301247596741, 0.9315385818481445, 0.9306004047393799, 0.9300955533981323, 0.9297095537185669, 0.9290167689323425, 0.9286763668060303, 0.9285109043121338, 0.9241905212402344, 0.9240772724151611, 0.9229665398597717, 0.9220676422119141, 0.9208792448043823, 0.965880811214447, 0.9593256115913391, 0.9590370655059814, 0.9548014402389526, 0.953533947467804, 0.951298713684082, 0.9493892788887024, 0.9489864706993103, 0.9462750554084778, 0.944962739944458, 0.9425702095031738, 0.9402894973754883, 0.9392475485801697, 0.9374407529830933, 0.9367382526397705, 0.934149444103241, 0.933254063129425, 0.9313586950302124, 0.9293866753578186, 0.9281390309333801, 0.9530301690101624, 0.9481381177902222, 0.9439138174057007, 0.9399246573448181, 0.9380925893783569, 0.9369416236877441, 0.9353677034378052, 0.9327623844146729, 0.9319407343864441, 0.9314792156219482, 0.930730938911438, 0.9300188422203064, 0.927819013595581, 0.9262130856513977, 0.9257287979125977, 0.9254713654518127, 0.9254541993141174, 0.9249826669692993, 0.9240816831588745, 0.9822065830230713, 0.9793646931648254, 0.9767823815345764, 0.9766291975975037, 0.9753732681274414, 0.9751830697059631, 0.9749944806098938, 0.9735960960388184, 0.972109317779541, 0.9720234274864197, 0.9713232517242432, 0.9712092876434326, 0.9702898859977722, 0.9694998860359192, 0.9689332842826843, 0.9683935642242432, 0.9647777676582336, 0.964491069316864, 0.9811958074569702, 0.9786036014556885, 0.9772160649299622, 0.9744073152542114, 0.9718956351280212, 0.9690671563148499, 0.9688094258308411, 0.9672285914421082, 0.9662185311317444, 0.9648764133453369, 0.9646421670913696, 0.9641326069831848, 0.9639949798583984, 0.9624840617179871, 0.9614483714103699, 0.9614117741584778, 0.9608718156814575, 0.9607894420623779, 0.9422511458396912, 0.9253983497619629, 0.9225447773933411, 0.9218546152114868, 0.9167963266372681, 0.9113016724586487, 0.9096591472625732, 0.9089649319648743, 0.9082580208778381, 0.9058504700660706, 0.9016997814178467, 0.894523561000824, 0.8928529024124146, 0.8916649222373962, 0.8888835310935974, 0.8877745270729065, 0.8868405818939209, 0.8832870125770569, 0.8811732530593872, 0.8786224722862244, 0.9804239869117737, 0.9779183268547058, 0.9763697981834412, 0.974834144115448, 0.9738683104515076, 0.973767101764679, 0.9735634922981262, 0.9729592800140381, 0.9722071886062622, 0.9707621335983276, 0.9697226285934448, 0.9690264463424683, 0.967771589756012, 0.9674393534660339, 0.9673997759819031, 0.9672932624816895, 0.9668935537338257, 0.9653414487838745, 0.9703229069709778, 0.9659085869789124, 0.9645847082138062, 0.9645553827285767, 0.9618025422096252, 0.9609121680259705, 0.960387647151947, 0.959989607334137, 0.9582168459892273, 0.9574834108352661, 0.9567641615867615, 0.9567594528198242, 0.9567281007766724, 0.9564465880393982, 0.9555479288101196, 0.9545658826828003, 0.9538997411727905, 0.9533599019050598, 0.9532252550125122, 0.9691659212112427, 0.9552603363990784, 0.9549892544746399, 0.9513131380081177, 0.9481194019317627, 0.94637531042099, 0.9441096782684326, 0.942517876625061, 0.9416391253471375, 0.9410816431045532, 0.9403496384620667, 0.9396821856498718, 0.9395348429679871, 0.9354856014251709, 0.9348583817481995, 0.9339868426322937, 0.9335538744926453, 0.9315765500068665, 0.9313496351242065, 0.9301654100418091, 0.9689372181892395, 0.9635024070739746, 0.9528132677078247, 0.9494027495384216, 0.947231650352478, 0.9468225836753845, 0.9465595483779907, 0.9453375339508057, 0.9450432062149048, 0.9377588033676147, 0.9331228733062744, 0.9328885674476624, 0.9317224621772766, 0.9270709156990051, 0.9264925718307495, 0.9263302087783813, 0.9228966236114502, 0.921424925327301, 0.919424295425415, 0.9188243746757507, 0.9639114737510681, 0.9609438180923462, 0.9559377431869507, 0.9534406065940857, 0.9503031373023987, 0.9502925276756287, 0.9495847225189209, 0.9489601254463196, 0.9471802115440369, 0.9444140791893005, 0.9440003633499146, 0.943416953086853, 0.9424340128898621, 0.94195556640625, 0.9419113397598267, 0.9416963458061218, 0.9407534003257751, 0.9401792287826538, 0.9384299516677856, 0.9493458271026611, 0.9395800828933716, 0.9179729223251343, 0.9177279472351074, 0.9148377180099487, 0.9046953320503235, 0.9028614163398743, 0.8979215621948242, 0.8961252570152283, 0.8959022760391235, 0.8951531052589417, 0.8951143026351929, 0.8936277031898499, 0.8883426785469055, 0.885817289352417, 0.8818762898445129, 0.8806502223014832, 0.8805292248725891, 0.879353940486908, 0.8890208005905151, 0.8569539785385132, 0.8522509932518005, 0.8265185356140137, 0.8222231268882751, 0.8219820857048035, 0.8214781284332275, 0.8214465379714966, 0.8173518776893616, 0.8168718814849854, 0.8132475018501282, 0.8094779849052429, 0.802321195602417, 0.8015741109848022, 0.8003676533699036, 0.7994900941848755, 0.7952053546905518, 0.7933804988861084, 0.7920089364051819, 0.7911413311958313, 0.822173535823822, 0.8095219135284424, 0.8076391220092773, 0.8051531910896301, 0.8036747574806213, 0.8020056486129761, 0.7971094250679016, 0.7762479186058044, 0.7748175859451294, 0.7724299430847168, 0.7677454948425293, 0.762937068939209, 0.7613300681114197, 0.7536224722862244, 0.7496852874755859, 0.7423468828201294, 0.7422096133232117, 0.7415850758552551, 0.7410369515419006, 0.7401679754257202, 0.9225369095802307, 0.9113828539848328, 0.9076598286628723, 0.8995020389556885, 0.8991092443466187, 0.8968833684921265, 0.8954952955245972, 0.8936648964881897, 0.8919386267662048, 0.8917632102966309, 0.8914975523948669, 0.8893224000930786, 0.8884811997413635, 0.8868486881256104, 0.8834739923477173, 0.8834669589996338, 0.8833324909210205, 0.8832706809043884, 0.883161723613739, 0.6880049705505371, 0.680756688117981, 0.6775243878364563, 0.6761286854743958, 0.6701241135597229, 0.6611243486404419, 0.6548717617988586, 0.6486340761184692, 0.6466167569160461, 0.6448039412498474, 0.6447046995162964, 0.6440801024436951, 0.636435329914093, 0.6353904604911804, 0.6351511478424072, 0.632864236831665, 0.6304819583892822, 0.6286134719848633, 0.8423300981521606, 0.8340432643890381, 0.8269981145858765, 0.7957468628883362, 0.7941250205039978, 0.7890841364860535, 0.7645952105522156, 0.7632313370704651, 0.7532793283462524, 0.7492571473121643, 0.7379006147384644, 0.7323156595230103, 0.7310407161712646, 0.7298312187194824, 0.7242567539215088, 0.722477376461029, 0.7163681983947754, 0.7148337364196777, 0.9686494469642639, 0.9658808708190918, 0.9607674479484558, 0.9589095711708069, 0.9566396474838257, 0.9528239965438843, 0.9523446559906006, 0.9521174430847168, 0.9517650604248047, 0.9464195966720581, 0.9445947408676147, 0.942785918712616, 0.9402614235877991, 0.9382808804512024, 0.9378029108047485, 0.9374939203262329, 0.9343041777610779, 0.9339457750320435, 0.9332400560379028, 0.9321809411048889, 0.6886191368103027, 0.6869732141494751, 0.682157576084137, 0.6642549633979797, 0.6526191234588623, 0.65261310338974, 0.6500224471092224, 0.6461300253868103, 0.6459886431694031, 0.6455816030502319, 0.643981397151947, 0.6414905190467834, 0.6403684616088867, 0.638095498085022, 0.636613130569458, 0.6351096034049988, 0.6318082809448242, 0.6297459602355957], \"xaxis\": \"x\", \"yaxis\": \"y\"}],\n",
              "                        {\"barmode\": \"relative\", \"legend\": {\"tracegroupgap\": 0}, \"template\": {\"data\": {\"bar\": [{\"error_x\": {\"color\": \"#2a3f5f\"}, \"error_y\": {\"color\": \"#2a3f5f\"}, \"marker\": {\"line\": {\"color\": \"#E5ECF6\", \"width\": 0.5}}, \"type\": \"bar\"}], \"barpolar\": [{\"marker\": {\"line\": {\"color\": \"#E5ECF6\", \"width\": 0.5}}, \"type\": \"barpolar\"}], \"carpet\": [{\"aaxis\": {\"endlinecolor\": \"#2a3f5f\", \"gridcolor\": \"white\", \"linecolor\": \"white\", \"minorgridcolor\": \"white\", \"startlinecolor\": \"#2a3f5f\"}, \"baxis\": {\"endlinecolor\": \"#2a3f5f\", \"gridcolor\": \"white\", \"linecolor\": \"white\", \"minorgridcolor\": \"white\", \"startlinecolor\": \"#2a3f5f\"}, \"type\": \"carpet\"}], \"choropleth\": [{\"colorbar\": {\"outlinewidth\": 0, \"ticks\": \"\"}, \"type\": \"choropleth\"}], \"contour\": [{\"colorbar\": {\"outlinewidth\": 0, \"ticks\": \"\"}, \"colorscale\": [[0.0, \"#0d0887\"], [0.1111111111111111, \"#46039f\"], [0.2222222222222222, \"#7201a8\"], [0.3333333333333333, \"#9c179e\"], [0.4444444444444444, \"#bd3786\"], [0.5555555555555556, \"#d8576b\"], [0.6666666666666666, \"#ed7953\"], [0.7777777777777778, \"#fb9f3a\"], [0.8888888888888888, \"#fdca26\"], [1.0, \"#f0f921\"]], \"type\": \"contour\"}], \"contourcarpet\": [{\"colorbar\": {\"outlinewidth\": 0, \"ticks\": \"\"}, \"type\": \"contourcarpet\"}], \"heatmap\": [{\"colorbar\": {\"outlinewidth\": 0, \"ticks\": \"\"}, \"colorscale\": [[0.0, \"#0d0887\"], [0.1111111111111111, \"#46039f\"], [0.2222222222222222, \"#7201a8\"], [0.3333333333333333, \"#9c179e\"], [0.4444444444444444, \"#bd3786\"], [0.5555555555555556, \"#d8576b\"], [0.6666666666666666, \"#ed7953\"], [0.7777777777777778, \"#fb9f3a\"], [0.8888888888888888, \"#fdca26\"], [1.0, \"#f0f921\"]], \"type\": \"heatmap\"}], \"heatmapgl\": [{\"colorbar\": {\"outlinewidth\": 0, \"ticks\": \"\"}, \"colorscale\": [[0.0, \"#0d0887\"], [0.1111111111111111, \"#46039f\"], [0.2222222222222222, \"#7201a8\"], [0.3333333333333333, \"#9c179e\"], [0.4444444444444444, \"#bd3786\"], [0.5555555555555556, \"#d8576b\"], [0.6666666666666666, \"#ed7953\"], [0.7777777777777778, \"#fb9f3a\"], [0.8888888888888888, \"#fdca26\"], [1.0, \"#f0f921\"]], \"type\": \"heatmapgl\"}], \"histogram\": [{\"marker\": {\"colorbar\": {\"outlinewidth\": 0, \"ticks\": \"\"}}, \"type\": \"histogram\"}], \"histogram2d\": [{\"colorbar\": {\"outlinewidth\": 0, \"ticks\": \"\"}, \"colorscale\": [[0.0, \"#0d0887\"], [0.1111111111111111, \"#46039f\"], [0.2222222222222222, \"#7201a8\"], [0.3333333333333333, \"#9c179e\"], [0.4444444444444444, \"#bd3786\"], [0.5555555555555556, \"#d8576b\"], [0.6666666666666666, \"#ed7953\"], [0.7777777777777778, \"#fb9f3a\"], [0.8888888888888888, \"#fdca26\"], [1.0, \"#f0f921\"]], \"type\": \"histogram2d\"}], \"histogram2dcontour\": [{\"colorbar\": {\"outlinewidth\": 0, \"ticks\": \"\"}, \"colorscale\": [[0.0, \"#0d0887\"], [0.1111111111111111, \"#46039f\"], [0.2222222222222222, \"#7201a8\"], [0.3333333333333333, \"#9c179e\"], [0.4444444444444444, \"#bd3786\"], [0.5555555555555556, \"#d8576b\"], [0.6666666666666666, \"#ed7953\"], [0.7777777777777778, \"#fb9f3a\"], [0.8888888888888888, \"#fdca26\"], [1.0, \"#f0f921\"]], \"type\": \"histogram2dcontour\"}], \"mesh3d\": [{\"colorbar\": {\"outlinewidth\": 0, \"ticks\": \"\"}, \"type\": \"mesh3d\"}], \"parcoords\": [{\"line\": {\"colorbar\": {\"outlinewidth\": 0, \"ticks\": \"\"}}, \"type\": \"parcoords\"}], \"pie\": [{\"automargin\": true, \"type\": \"pie\"}], \"scatter\": [{\"marker\": {\"colorbar\": {\"outlinewidth\": 0, \"ticks\": \"\"}}, \"type\": \"scatter\"}], \"scatter3d\": [{\"line\": {\"colorbar\": {\"outlinewidth\": 0, \"ticks\": \"\"}}, \"marker\": {\"colorbar\": {\"outlinewidth\": 0, \"ticks\": \"\"}}, \"type\": \"scatter3d\"}], \"scattercarpet\": [{\"marker\": {\"colorbar\": {\"outlinewidth\": 0, \"ticks\": \"\"}}, \"type\": \"scattercarpet\"}], \"scattergeo\": [{\"marker\": {\"colorbar\": {\"outlinewidth\": 0, \"ticks\": \"\"}}, \"type\": \"scattergeo\"}], \"scattergl\": [{\"marker\": {\"colorbar\": {\"outlinewidth\": 0, \"ticks\": \"\"}}, \"type\": \"scattergl\"}], \"scattermapbox\": [{\"marker\": {\"colorbar\": {\"outlinewidth\": 0, \"ticks\": \"\"}}, \"type\": \"scattermapbox\"}], \"scatterpolar\": [{\"marker\": {\"colorbar\": {\"outlinewidth\": 0, \"ticks\": \"\"}}, \"type\": \"scatterpolar\"}], \"scatterpolargl\": [{\"marker\": {\"colorbar\": {\"outlinewidth\": 0, \"ticks\": \"\"}}, \"type\": \"scatterpolargl\"}], \"scatterternary\": [{\"marker\": {\"colorbar\": {\"outlinewidth\": 0, \"ticks\": \"\"}}, \"type\": \"scatterternary\"}], \"surface\": [{\"colorbar\": {\"outlinewidth\": 0, \"ticks\": \"\"}, \"colorscale\": [[0.0, \"#0d0887\"], [0.1111111111111111, \"#46039f\"], [0.2222222222222222, \"#7201a8\"], [0.3333333333333333, \"#9c179e\"], [0.4444444444444444, \"#bd3786\"], [0.5555555555555556, \"#d8576b\"], [0.6666666666666666, \"#ed7953\"], [0.7777777777777778, \"#fb9f3a\"], [0.8888888888888888, \"#fdca26\"], [1.0, \"#f0f921\"]], \"type\": \"surface\"}], \"table\": [{\"cells\": {\"fill\": {\"color\": \"#EBF0F8\"}, \"line\": {\"color\": \"white\"}}, \"header\": {\"fill\": {\"color\": \"#C8D4E3\"}, \"line\": {\"color\": \"white\"}}, \"type\": \"table\"}]}, \"layout\": {\"annotationdefaults\": {\"arrowcolor\": \"#2a3f5f\", \"arrowhead\": 0, \"arrowwidth\": 1}, \"coloraxis\": {\"colorbar\": {\"outlinewidth\": 0, \"ticks\": \"\"}}, \"colorscale\": {\"diverging\": [[0, \"#8e0152\"], [0.1, \"#c51b7d\"], [0.2, \"#de77ae\"], [0.3, \"#f1b6da\"], [0.4, \"#fde0ef\"], [0.5, \"#f7f7f7\"], [0.6, \"#e6f5d0\"], [0.7, \"#b8e186\"], [0.8, \"#7fbc41\"], [0.9, \"#4d9221\"], [1, \"#276419\"]], \"sequential\": [[0.0, \"#0d0887\"], [0.1111111111111111, \"#46039f\"], [0.2222222222222222, \"#7201a8\"], [0.3333333333333333, \"#9c179e\"], [0.4444444444444444, \"#bd3786\"], [0.5555555555555556, \"#d8576b\"], [0.6666666666666666, \"#ed7953\"], [0.7777777777777778, \"#fb9f3a\"], [0.8888888888888888, \"#fdca26\"], [1.0, \"#f0f921\"]], \"sequentialminus\": [[0.0, \"#0d0887\"], [0.1111111111111111, \"#46039f\"], [0.2222222222222222, \"#7201a8\"], [0.3333333333333333, \"#9c179e\"], [0.4444444444444444, \"#bd3786\"], [0.5555555555555556, \"#d8576b\"], [0.6666666666666666, \"#ed7953\"], [0.7777777777777778, \"#fb9f3a\"], [0.8888888888888888, \"#fdca26\"], [1.0, \"#f0f921\"]]}, \"colorway\": [\"#636efa\", \"#EF553B\", \"#00cc96\", \"#ab63fa\", \"#FFA15A\", \"#19d3f3\", \"#FF6692\", \"#B6E880\", \"#FF97FF\", \"#FECB52\"], \"font\": {\"color\": \"#2a3f5f\"}, \"geo\": {\"bgcolor\": \"white\", \"lakecolor\": \"white\", \"landcolor\": \"#E5ECF6\", \"showlakes\": true, \"showland\": true, \"subunitcolor\": \"white\"}, \"hoverlabel\": {\"align\": \"left\"}, \"hovermode\": \"closest\", \"mapbox\": {\"style\": \"light\"}, \"paper_bgcolor\": \"white\", \"plot_bgcolor\": \"#E5ECF6\", \"polar\": {\"angularaxis\": {\"gridcolor\": \"white\", \"linecolor\": \"white\", \"ticks\": \"\"}, \"bgcolor\": \"#E5ECF6\", \"radialaxis\": {\"gridcolor\": \"white\", \"linecolor\": \"white\", \"ticks\": \"\"}}, \"scene\": {\"xaxis\": {\"backgroundcolor\": \"#E5ECF6\", \"gridcolor\": \"white\", \"gridwidth\": 2, \"linecolor\": \"white\", \"showbackground\": true, \"ticks\": \"\", \"zerolinecolor\": \"white\"}, \"yaxis\": {\"backgroundcolor\": \"#E5ECF6\", \"gridcolor\": \"white\", \"gridwidth\": 2, \"linecolor\": \"white\", \"showbackground\": true, \"ticks\": \"\", \"zerolinecolor\": \"white\"}, \"zaxis\": {\"backgroundcolor\": \"#E5ECF6\", \"gridcolor\": \"white\", \"gridwidth\": 2, \"linecolor\": \"white\", \"showbackground\": true, \"ticks\": \"\", \"zerolinecolor\": \"white\"}}, \"shapedefaults\": {\"line\": {\"color\": \"#2a3f5f\"}}, \"ternary\": {\"aaxis\": {\"gridcolor\": \"white\", \"linecolor\": \"white\", \"ticks\": \"\"}, \"baxis\": {\"gridcolor\": \"white\", \"linecolor\": \"white\", \"ticks\": \"\"}, \"bgcolor\": \"#E5ECF6\", \"caxis\": {\"gridcolor\": \"white\", \"linecolor\": \"white\", \"ticks\": \"\"}}, \"title\": {\"x\": 0.05}, \"xaxis\": {\"automargin\": true, \"gridcolor\": \"white\", \"linecolor\": \"white\", \"ticks\": \"\", \"title\": {\"standoff\": 15}, \"zerolinecolor\": \"white\", \"zerolinewidth\": 2}, \"yaxis\": {\"automargin\": true, \"gridcolor\": \"white\", \"linecolor\": \"white\", \"ticks\": \"\", \"title\": {\"standoff\": 15}, \"zerolinecolor\": \"white\", \"zerolinewidth\": 2}}}, \"title\": {\"text\": \"doc2vec sections\"}, \"xaxis\": {\"anchor\": \"y\", \"domain\": [0.0, 1.0], \"title\": {\"text\": \"score\"}}, \"yaxis\": {\"anchor\": \"x\", \"domain\": [0.0, 1.0], \"title\": {\"text\": \"count\"}}},\n",
              "                        {\"responsive\": true}\n",
              "                    ).then(function(){\n",
              "                            \n",
              "var gd = document.getElementById('67d2c3a9-4888-422d-a826-0854881e4b54');\n",
              "var x = new MutationObserver(function (mutations, observer) {{\n",
              "        var display = window.getComputedStyle(gd).display;\n",
              "        if (!display || display === 'none') {{\n",
              "            console.log([gd, 'removed!']);\n",
              "            Plotly.purge(gd);\n",
              "            observer.disconnect();\n",
              "        }}\n",
              "}});\n",
              "\n",
              "// Listen for the removal of the full notebook cells\n",
              "var notebookContainer = gd.closest('#notebook-container');\n",
              "if (notebookContainer) {{\n",
              "    x.observe(notebookContainer, {childList: true});\n",
              "}}\n",
              "\n",
              "// Listen for the clearing of the current output cell\n",
              "var outputEl = gd.closest('.output');\n",
              "if (outputEl) {{\n",
              "    x.observe(outputEl, {childList: true});\n",
              "}}\n",
              "\n",
              "                        })\n",
              "                };\n",
              "                \n",
              "            </script>\n",
              "        </div>\n",
              "</body>\n",
              "</html>"
            ]
          },
          "metadata": {}
        }
      ]
    },
    {
      "cell_type": "code",
      "metadata": {
        "id": "OKeaqYxGPMZj"
      },
      "source": [
        "if use_wandb:\n",
        "  wandb.log({\"scores_hist\": fig})"
      ],
      "execution_count": 108,
      "outputs": []
    },
    {
      "cell_type": "code",
      "metadata": {
        "colab": {
          "base_uri": "https://localhost:8080/",
          "height": 536
        },
        "id": "DgV3ccDr5Ux4",
        "outputId": "4bafcaa9-a29d-4dac-f95a-bf3793dddcf8"
      },
      "source": [
        "result, details = recommend_tune(df_sim, 'On The Sunny Side Of The Street [jazz1350]')\n",
        "result.head(10)"
      ],
      "execution_count": 109,
      "outputs": [
        {
          "output_type": "execute_result",
          "data": {
            "text/html": [
              "<div>\n",
              "<style scoped>\n",
              "    .dataframe tbody tr th:only-of-type {\n",
              "        vertical-align: middle;\n",
              "    }\n",
              "\n",
              "    .dataframe tbody tr th {\n",
              "        vertical-align: top;\n",
              "    }\n",
              "\n",
              "    .dataframe thead th {\n",
              "        text-align: right;\n",
              "    }\n",
              "</style>\n",
              "<table border=\"1\" class=\"dataframe\">\n",
              "  <thead>\n",
              "    <tr style=\"text-align: right;\">\n",
              "      <th></th>\n",
              "      <th>index</th>\n",
              "      <th>reference</th>\n",
              "      <th>reference_titleid</th>\n",
              "      <th>similar_title</th>\n",
              "      <th>score</th>\n",
              "      <th>max</th>\n",
              "      <th>score_div_max</th>\n",
              "      <th>similar_titleid</th>\n",
              "    </tr>\n",
              "  </thead>\n",
              "  <tbody>\n",
              "    <tr>\n",
              "      <th>0</th>\n",
              "      <td>0</td>\n",
              "      <td>On The Sunny Side Of The Street [jazz1350]</td>\n",
              "      <td>903</td>\n",
              "      <td>Wow [jazz1350]</td>\n",
              "      <td>0.965881</td>\n",
              "      <td>0.965881</td>\n",
              "      <td>1.000000</td>\n",
              "      <td>1298</td>\n",
              "    </tr>\n",
              "    <tr>\n",
              "      <th>1</th>\n",
              "      <td>1</td>\n",
              "      <td>On The Sunny Side Of The Street [jazz1350]</td>\n",
              "      <td>903</td>\n",
              "      <td>Where Or When [jazz1350]</td>\n",
              "      <td>0.935657</td>\n",
              "      <td>0.935657</td>\n",
              "      <td>1.000000</td>\n",
              "      <td>1276</td>\n",
              "    </tr>\n",
              "    <tr>\n",
              "      <th>2</th>\n",
              "      <td>2</td>\n",
              "      <td>On The Sunny Side Of The Street [jazz1350]</td>\n",
              "      <td>903</td>\n",
              "      <td>There's No You [jazz1350]</td>\n",
              "      <td>0.959326</td>\n",
              "      <td>0.965881</td>\n",
              "      <td>0.993213</td>\n",
              "      <td>1164</td>\n",
              "    </tr>\n",
              "    <tr>\n",
              "      <th>3</th>\n",
              "      <td>3</td>\n",
              "      <td>On The Sunny Side Of The Street [jazz1350]</td>\n",
              "      <td>903</td>\n",
              "      <td>Só Danço Samba [jazz1350]</td>\n",
              "      <td>0.959037</td>\n",
              "      <td>0.965881</td>\n",
              "      <td>0.992915</td>\n",
              "      <td>1137</td>\n",
              "    </tr>\n",
              "    <tr>\n",
              "      <th>4</th>\n",
              "      <td>4</td>\n",
              "      <td>On The Sunny Side Of The Street [jazz1350]</td>\n",
              "      <td>903</td>\n",
              "      <td>Sway [jazz1350]</td>\n",
              "      <td>0.947871</td>\n",
              "      <td>0.955864</td>\n",
              "      <td>0.991635</td>\n",
              "      <td>1127</td>\n",
              "    </tr>\n",
              "    <tr>\n",
              "      <th>5</th>\n",
              "      <td>5</td>\n",
              "      <td>On The Sunny Side Of The Street [jazz1350]</td>\n",
              "      <td>903</td>\n",
              "      <td>Love Letters In The Sand [trad]</td>\n",
              "      <td>0.946649</td>\n",
              "      <td>0.958697</td>\n",
              "      <td>0.987433</td>\n",
              "      <td>1525</td>\n",
              "    </tr>\n",
              "    <tr>\n",
              "      <th>6</th>\n",
              "      <td>6</td>\n",
              "      <td>On The Sunny Side Of The Street [jazz1350]</td>\n",
              "      <td>903</td>\n",
              "      <td>Under A Blanket Of Blue [jazz1350]</td>\n",
              "      <td>0.953534</td>\n",
              "      <td>0.965881</td>\n",
              "      <td>0.987217</td>\n",
              "      <td>1224</td>\n",
              "    </tr>\n",
              "    <tr>\n",
              "      <th>7</th>\n",
              "      <td>7</td>\n",
              "      <td>On The Sunny Side Of The Street [jazz1350]</td>\n",
              "      <td>903</td>\n",
              "      <td>Mas Que Nada [jazz1350]</td>\n",
              "      <td>0.942455</td>\n",
              "      <td>0.955864</td>\n",
              "      <td>0.985931</td>\n",
              "      <td>774</td>\n",
              "    </tr>\n",
              "    <tr>\n",
              "      <th>8</th>\n",
              "      <td>8</td>\n",
              "      <td>On The Sunny Side Of The Street [jazz1350]</td>\n",
              "      <td>903</td>\n",
              "      <td>I'm Confessin' That I Love You [jazz1350]</td>\n",
              "      <td>0.951299</td>\n",
              "      <td>0.965881</td>\n",
              "      <td>0.984903</td>\n",
              "      <td>551</td>\n",
              "    </tr>\n",
              "    <tr>\n",
              "      <th>9</th>\n",
              "      <td>9</td>\n",
              "      <td>On The Sunny Side Of The Street [jazz1350]</td>\n",
              "      <td>903</td>\n",
              "      <td>Is You Is Or Is You Ain't (Ma' Baby) [jazz1350]</td>\n",
              "      <td>0.938093</td>\n",
              "      <td>0.953030</td>\n",
              "      <td>0.984326</td>\n",
              "      <td>610</td>\n",
              "    </tr>\n",
              "  </tbody>\n",
              "</table>\n",
              "</div>"
            ],
            "text/plain": [
              "   index                                   reference  reference_titleid                                    similar_title     score       max  score_div_max  similar_titleid\n",
              "0      0  On The Sunny Side Of The Street [jazz1350]                903                                   Wow [jazz1350]  0.965881  0.965881       1.000000             1298\n",
              "1      1  On The Sunny Side Of The Street [jazz1350]                903                         Where Or When [jazz1350]  0.935657  0.935657       1.000000             1276\n",
              "2      2  On The Sunny Side Of The Street [jazz1350]                903                        There's No You [jazz1350]  0.959326  0.965881       0.993213             1164\n",
              "3      3  On The Sunny Side Of The Street [jazz1350]                903                        Só Danço Samba [jazz1350]  0.959037  0.965881       0.992915             1137\n",
              "4      4  On The Sunny Side Of The Street [jazz1350]                903                                  Sway [jazz1350]  0.947871  0.955864       0.991635             1127\n",
              "5      5  On The Sunny Side Of The Street [jazz1350]                903                  Love Letters In The Sand [trad]  0.946649  0.958697       0.987433             1525\n",
              "6      6  On The Sunny Side Of The Street [jazz1350]                903               Under A Blanket Of Blue [jazz1350]  0.953534  0.965881       0.987217             1224\n",
              "7      7  On The Sunny Side Of The Street [jazz1350]                903                          Mas Que Nada [jazz1350]  0.942455  0.955864       0.985931              774\n",
              "8      8  On The Sunny Side Of The Street [jazz1350]                903        I'm Confessin' That I Love You [jazz1350]  0.951299  0.965881       0.984903              551\n",
              "9      9  On The Sunny Side Of The Street [jazz1350]                903  Is You Is Or Is You Ain't (Ma' Baby) [jazz1350]  0.938093  0.953030       0.984326              610"
            ]
          },
          "metadata": {},
          "execution_count": 109
        }
      ]
    },
    {
      "cell_type": "code",
      "metadata": {
        "id": "hLFaFo62XlMS",
        "colab": {
          "base_uri": "https://localhost:8080/"
        },
        "outputId": "0e61d6dd-5a96-4bdf-93b0-045943519d14"
      },
      "source": [
        "dd = pd.DataFrame(columns = recommender_results_cols)\n",
        "\n",
        "for tune in tunes_eval_list:\n",
        "  result, details = recommend_tune(df_sim, tune)\n",
        "  dd['id'] = result['index']\n",
        "  dd['reference'] = tune\n",
        "  dd['method'] = 'doc2vec'\n",
        "  dd['similar'] = result['similar_title']\n",
        "  dd['score_div_max'] = result['score_div_max']\n",
        "  dd['score'] = result['score']\n",
        "\n",
        "recommender_results = recommender_results.append(dd)\n",
        "len(recommender_results)"
      ],
      "execution_count": 110,
      "outputs": [
        {
          "output_type": "execute_result",
          "data": {
            "text/plain": [
              "256"
            ]
          },
          "metadata": {},
          "execution_count": 110
        }
      ]
    },
    {
      "cell_type": "markdown",
      "metadata": {
        "id": "aosPKEWljlm0"
      },
      "source": [
        "### Contrafacts"
      ]
    },
    {
      "cell_type": "code",
      "metadata": {
        "id": "SaYSqTJokGc5"
      },
      "source": [
        "def test_doc2vec_contrafacts(tunes, N=15):\n",
        "  \"\"\"\n",
        "  Evaluates if the expected tune matches by either a tune similarity or section similarity match.\n",
        "  \"\"\"\n",
        "\n",
        "  matches = 0\n",
        "  number_of_sections = 0\n",
        "  results = {}\n",
        "\n",
        "  for tune, similar_tune in contrafacts:\n",
        "    \n",
        "    # loop over all sections of the tune\n",
        "    sub_match = 0\n",
        "    for s1 in title_to_sectionid[tune]:\n",
        "      sims = model.dv.similar_by_key(s1, topn=N)\n",
        "      # check if the section matches the expected title; consider only the first N recommendations\n",
        "      i = 0\n",
        "      for match, value in sims:\n",
        "        # tune match\n",
        "        if (type(match) == str):\n",
        "          titleid = int(match.replace('titleid_', ''))\n",
        "          if titleid_to_title[titleid] == similar_tune:\n",
        "            sub_match += 1\n",
        "\n",
        "        # section match\n",
        "        else:\n",
        "          if sectionid_to_title[match] == similar_tune:\n",
        "            sub_match += 1\n",
        "\n",
        "    # for each title, increase matches if at least one of the section matched the expected title\n",
        "    if sub_match > 0:\n",
        "      matches += 1  \n",
        "      results[f'{tune}, {similar_tune}'] = 1\n",
        "    else:\n",
        "      results[f'{tune}, {similar_tune}'] = 0\n",
        "  \n",
        "  return matches, results"
      ],
      "execution_count": 111,
      "outputs": []
    },
    {
      "cell_type": "code",
      "metadata": {
        "colab": {
          "base_uri": "https://localhost:8080/"
        },
        "id": "eAjM3lU4ltzP",
        "outputId": "f3bb9973-3014-4210-86cb-29d89b9b5308"
      },
      "source": [
        "topN = 20\n",
        "matches, results = test_doc2vec_contrafacts(contrafacts, topN)\n",
        " \n",
        "print(f\"Found matches: {matches} out of {len(results)}: {100*matches/len(results):.3f}%\")\n",
        "print() \n",
        "for rr, val in results.items():\n",
        "  if val == 0:\n",
        "    print(f\"{val}: {rr}\")\n"
      ],
      "execution_count": 112,
      "outputs": [
        {
          "output_type": "stream",
          "name": "stdout",
          "text": [
            "Found matches: 80 out of 111: 72.072%\n",
            "\n",
            "0: 26-2 [jazz1350], Confirmation [jazz1350]\n",
            "0: 52nd Street Theme [jazz1350], I Got Rhythm [jazz1350]\n",
            "0: Ballade [jazz1350], As Long As I Live [jazz1350]\n",
            "0: Bright Mississippi [jazz1350], Sweet Georgia Brown [jazz1350]\n",
            "0: C.T.A. [jazz1350], I Got Rhythm [jazz1350]\n",
            "0: Countdown [jazz1350], Tune Up [jazz1350]\n",
            "0: Dewey Square [jazz1350], Oh, Lady Be Good [jazz1350]\n",
            "0: Donna Lee [jazz1350], Indiana (Back Home Again In) [jazz1350]\n",
            "0: Don't Be That Way [jazz1350], I Got Rhythm [jazz1350]\n",
            "0: Flintstones [jazz1350], I Got Rhythm [jazz1350]\n",
            "0: Four On Six [jazz1350], Summertime [jazz1350]\n",
            "0: Freight Train [jazz1350], Blues For Alice [jazz1350]\n",
            "0: Good Bait [jazz1350], I Got Rhythm [jazz1350]\n",
            "0: Lennie's Pennies [jazz1350], Pennies From Heaven [jazz1350]\n",
            "0: Little Rootie Tootie [jazz1350], I Got Rhythm [jazz1350]\n",
            "0: Little Willie Leaps [jazz1350], All God's Chillun Got Rhythm [jazz1350]\n",
            "0: Lullaby Of Birdland [jazz1350], Love Me Or Leave Me [jazz1350]\n",
            "0: My Little Suede Shoes [jazz1350], Jeepers Creepers [jazz1350]\n",
            "0: Quasimodo (Theme) [jazz1350], Embraceable You [jazz1350]\n",
            "0: Room 608 [jazz1350], I Got Rhythm [jazz1350]\n",
            "0: Scrapple From The Apple [jazz1350], Honeysuckle Rose [jazz1350]\n",
            "0: Scrapple From The Apple [jazz1350], I Got Rhythm [jazz1350]\n",
            "0: Sweet Sue, Just You [jazz1350], Honeysuckle Rose [jazz1350]\n",
            "0: Sweet Sue, Just You [jazz1350], Bye Bye Blackbird [jazz1350]\n",
            "0: These Foolish Things [jazz1350], Blue Moon [jazz1350]\n",
            "0: These Foolish Things [jazz1350], Isn't It A Pity [jazz1350]\n",
            "0: These Foolish Things [jazz1350], Soultrane [jazz1350]\n",
            "0: These Foolish Things [jazz1350], Why Do I Love You [jazz1350]\n",
            "0: Exactly Like You [jazz1350], Jersey Bounce [trad]\n",
            "0: Take The A Train [jazz1350], Girl From Ipanema, The [jazz1350]\n",
            "0: On The Sunny Side Of The Street [jazz1350], You Stepped Out Of A Dream [jazz1350]\n",
            "0: My Secret Love [jazz1350], Samba De Orfeu [jazz1350]\n",
            "0: This Year's Kisses [jazz1350], My Monday Date [trad]\n"
          ]
        }
      ]
    },
    {
      "cell_type": "code",
      "metadata": {
        "id": "8C0kzj0Jp425"
      },
      "source": [
        "model_name = 'doc2vec'\n",
        "if use_wandb:\n",
        "  wandb.log(\n",
        "      {model_name: {\n",
        "                'contrafacts': {\n",
        "                    'topN': topN,\n",
        "                    'success': matches/len(contrafacts),\n",
        "                    #'results': results\n",
        "                    }\n",
        "                   },\n",
        "       'all_models': {\n",
        "           model_name: wandb.Table(\n",
        "               columns=[\"Title\", \"Match\"],\n",
        "               data=[[key, value] for key, value in results.items()]),\n",
        "       }\n",
        "       })"
      ],
      "execution_count": 113,
      "outputs": []
    },
    {
      "cell_type": "markdown",
      "metadata": {
        "id": "_UzVV5yn4Q-K"
      },
      "source": [
        "### Save Results for WebApp"
      ]
    },
    {
      "cell_type": "code",
      "metadata": {
        "colab": {
          "base_uri": "https://localhost:8080/"
        },
        "id": "g1zPB9-05bvQ",
        "outputId": "a434ece4-1f05-4d03-ebbb-92cb676ae96c"
      },
      "source": [
        "%%time\n",
        "if False:\n",
        "  #_tunes = list(tunes['title_playlist'].values())\n",
        "  _tunes = tunes_eval_list\n",
        "\n",
        "  method = 'doc2vec'\n",
        "\n",
        "  df_sim = get_section_scores_doc2vec(_tunes)\n",
        "\n",
        "  # save to file\n",
        "  (df_sim\n",
        "   .loc[:,['reference_title',\n",
        "           'reference_titleid',\n",
        "           'similar_title',\n",
        "           'similar_titleid',\n",
        "           'ref_section_label',\n",
        "           'similar_section_label',\n",
        "           'score'\n",
        "           ]]\n",
        "   .reset_index()\n",
        "   .groupby(['reference_titleid', 'reference_title', \n",
        "             'similar_titleid','similar_title', \n",
        "             'ref_section_label', 'similar_section_label'])\n",
        "   .max('score')\n",
        "   .sort_values('score', ascending=False)\n",
        "   .reset_index()\n",
        "   .to_csv(f'output/recommender_{method}.csv', encoding='utf8')\n",
        "  )\n",
        "\n",
        "  with zipfile.ZipFile(f'output/recommender_{method}.zip', 'w') as zf:\n",
        "    zf.write(f'output/recommender_{method}.csv')\n",
        "\n",
        "  # save to wandb\n",
        "  if use_wandb:\n",
        "    model_artifact = wandb.Artifact(\n",
        "        f\"recommender_{method}\", \n",
        "        type=\"csv\",\n",
        "        description=f\"Recommendations for each Tune using {method} Model (csv file)\",\n",
        "        metadata=\"\")\n",
        "\n",
        "    model_artifact.add_file(f'output/recommender_{method}.zip')\n",
        "    wandb.log_artifact(model_artifact)"
      ],
      "execution_count": 114,
      "outputs": [
        {
          "output_type": "stream",
          "name": "stdout",
          "text": [
            "CPU times: user 5 µs, sys: 1e+03 ns, total: 6 µs\n",
            "Wall time: 11.7 µs\n"
          ]
        }
      ]
    },
    {
      "cell_type": "code",
      "metadata": {
        "colab": {
          "base_uri": "https://localhost:8080/"
        },
        "id": "nS_bRwHehOUr",
        "outputId": "c7b52276-db08-4df4-8a3e-562b3db35b6d"
      },
      "source": [
        "%%time\n",
        "if True:\n",
        "  #_tunes = list(tunes['title_playlist'].values())\n",
        "  _tunes = tunes_eval_list\n",
        "\n",
        "  method = 'doc2vec'\n",
        "\n",
        "  df_sim = get_section_scores_doc2vec(_tunes)\n",
        "\n",
        "  result = None\n",
        "  for tune in _tunes:\n",
        "    tune_result, details = recommend_tune(df_sim, tune)\n",
        "    if result is None:\n",
        "      result = pd.DataFrame(columns=tune_result.columns)\n",
        "    result = result.append(tune_result)\n",
        "\n",
        "  # save to file\n",
        "  (result\n",
        "   .loc[:,['reference_titleid',\n",
        "           'similar_titleid',\n",
        "           'score']]\n",
        "   .to_csv(f'output/recommender_{method}.csv', encoding='utf8')\n",
        "  )\n",
        "  with zipfile.ZipFile(f'output/recommender_{method}.zip', 'w') as zf:\n",
        "    zf.write(f'output/recommender_{method}.csv')\n",
        "\n",
        "\n",
        "  # save to wandb\n",
        "  if use_wandb:\n",
        "    model_artifact = wandb.Artifact(\n",
        "        f\"recommender_{method}\", \n",
        "        type=\"csv\",\n",
        "        description=f\"Recommendations for each Tune using {method} Model (csv file)\",\n",
        "        metadata=\"\")\n",
        "\n",
        "    model_artifact.add_file(f'output/recommender_{method}.zip')\n",
        "    wandb.log_artifact(model_artifact)"
      ],
      "execution_count": 115,
      "outputs": [
        {
          "output_type": "stream",
          "name": "stdout",
          "text": [
            "\n",
            "--------------------------------------------------\n",
            "500 Blue Moon, section1 (A)\n",
            "501 Blue Moon, section2 (A)\n",
            "502 Blue Moon, section3 (B)\n",
            "503 Blue Moon, section4 (A)\n",
            "\n",
            "--------------------------------------------------\n",
            "1229 Exactly Like You, section1 (A)\n",
            "1230 Exactly Like You, section2 (A)\n",
            "1231 Exactly Like You, section3 (B)\n",
            "1232 Exactly Like You, section4 (A)\n",
            "\n",
            "--------------------------------------------------\n",
            "1554 Honeysuckle Rose, section1 (A)\n",
            "1555 Honeysuckle Rose, section2 (A)\n",
            "1556 Honeysuckle Rose, section3 (B)\n",
            "1557 Honeysuckle Rose, section4 (A)\n",
            "\n",
            "--------------------------------------------------\n",
            "1668 I Got Rhythm, section1 (A)\n",
            "1669 I Got Rhythm, section2 (A)\n",
            "1670 I Got Rhythm, section3 (B)\n",
            "1671 I Got Rhythm, section4 (A)\n",
            "\n",
            "--------------------------------------------------\n",
            "2705 Misty, section1 (A)\n",
            "2706 Misty, section2 (A)\n",
            "2707 Misty, section3 (B)\n",
            "2708 Misty, section4 (A)\n",
            "\n",
            "--------------------------------------------------\n",
            "5176 Old Fashioned Love, section1 (A)\n",
            "5177 Old Fashioned Love, section2 (B)\n",
            "\n",
            "--------------------------------------------------\n",
            "3044 On The Sunny Side Of The Street, section1 (A)\n",
            "3045 On The Sunny Side Of The Street, section2 (A)\n",
            "3046 On The Sunny Side Of The Street, section3 (B)\n",
            "3047 On The Sunny Side Of The Street, section4 (A)\n",
            "\n",
            "--------------------------------------------------\n",
            "3795 Sweet Sue, Just You, section1 (A)\n",
            "3796 Sweet Sue, Just You, section2 (A)\n",
            "3797 Sweet Sue, Just You, section3 (B)\n",
            "3798 Sweet Sue, Just You, section4 (A)\n",
            "\n",
            "--------------------------------------------------\n",
            "3817 Take The A Train, section1 (A)\n",
            "3818 Take The A Train, section2 (A)\n",
            "3819 Take The A Train, section3 (B)\n",
            "3820 Take The A Train, section4 (A)\n",
            "\n",
            "--------------------------------------------------\n",
            "3909 These Foolish Things, section1 (A)\n",
            "3910 These Foolish Things, section2 (A)\n",
            "3911 These Foolish Things, section3 (B)\n",
            "3912 These Foolish Things, section4 (A)\n",
            "\n",
            "--------------------------------------------------\n",
            "4345 Wow, section1 (A)\n",
            "4346 Wow, section2 (B)\n",
            "4347 Wow, section3 (C)\n",
            "4348 Wow, section4 (A)\n",
            "\n",
            "Sections are tagged only with the section id, therefore only section similarity is evaluated.\n",
            "CPU times: user 8.16 s, sys: 3.95 s, total: 12.1 s\n",
            "Wall time: 7.88 s\n"
          ]
        }
      ]
    },
    {
      "cell_type": "markdown",
      "metadata": {
        "id": "XmDZT5t7gjgV"
      },
      "source": [
        "# Venn diagrams for Results"
      ]
    },
    {
      "cell_type": "code",
      "metadata": {
        "id": "U6WrsBcc00ar"
      },
      "source": [
        "import matplotlib.pyplot as plt\n",
        "from matplotlib_venn import venn3\n",
        "\n",
        "if False:\n",
        "  for tune in tunes_eval_list:\n",
        "    df, details = recommend_tune(df_tfidf, tune)\n",
        "    tfidf_tunes = list(df.head(30).loc[:,'similar_title'])\n",
        "\n",
        "    df, details = recommend_tune(df_lsi, tune)\n",
        "    lsi_tunes = list(df.head(30).loc[:,'similar_title'])\n",
        "\n",
        "    df, details = recommend_tune(df_doc2vec, tune)\n",
        "    word2vec_tunes = list(df.head(30).loc[:,'similar_title'])\n",
        "\n",
        "    set_tfidf = set(tfidf_tunes)\n",
        "    set_lsi = set(lsi_tunes)\n",
        "    set_word2vec = set(word2vec_tunes)\n",
        "\n",
        "    venn3([set_tfidf, set_lsi, set_word2vec], \n",
        "          set_labels=('TF-IDF', 'LSI', 'Doc2Vec'),\n",
        "          )\n",
        "    plt.title(f\"{tune}\")\n",
        "    plt.savefig('plot.png')\n",
        "    \n",
        "    if use_wandb:\n",
        "      wandb.log({\"venn_methods\": wandb.Image('plot.png')})\n",
        "    \n",
        "    plt.show()"
      ],
      "execution_count": 116,
      "outputs": []
    },
    {
      "cell_type": "markdown",
      "metadata": {
        "id": "RhOWHSEU0DQH"
      },
      "source": [
        "# W&B Logging and Finish"
      ]
    },
    {
      "cell_type": "code",
      "metadata": {
        "id": "YMUDRHkm0aMV",
        "colab": {
          "base_uri": "https://localhost:8080/",
          "height": 125,
          "referenced_widgets": [
            "e1108087d78149a387f23dc36175a722",
            "c775064ecc5546ef86e33925155c0b4f",
            "99530800c54143309d311c8034b92b54",
            "550250f25e054a67804787db756d4d46",
            "bfd3fe008a3344a4884b848b95118b6f",
            "5b6ada68fa6c4ba5a5e4466c82a35d6b",
            "41d4b85e838b4e55baf71063332aaa21",
            "e0b2de4f10344834aad0a2fab17fd1d2"
          ]
        },
        "outputId": "71381033-e66f-4255-be4a-7c51bb00446c"
      },
      "source": [
        "if use_wandb:\n",
        "  wandb.finish()"
      ],
      "execution_count": 117,
      "outputs": [
        {
          "output_type": "display_data",
          "data": {
            "text/html": [
              "<br/>Waiting for W&B process to finish, PID 2233... <strong style=\"color:green\">(success).</strong>"
            ],
            "text/plain": [
              "<IPython.core.display.HTML object>"
            ]
          },
          "metadata": {}
        },
        {
          "output_type": "display_data",
          "data": {
            "application/vnd.jupyter.widget-view+json": {
              "model_id": "e1108087d78149a387f23dc36175a722",
              "version_minor": 0,
              "version_major": 2
            },
            "text/plain": [
              "VBox(children=(Label(value=' 6.90MB of 6.90MB uploaded (0.00MB deduped)\\r'), FloatProgress(value=1.0, max=1.0)…"
            ]
          },
          "metadata": {}
        },
        {
          "output_type": "display_data",
          "data": {
            "text/html": [
              "<style>\n",
              "    table.wandb td:nth-child(1) { padding: 0 10px; text-align: right }\n",
              "    .wandb-row { display: flex; flex-direction: row; flex-wrap: wrap; width: 100% }\n",
              "    .wandb-col { display: flex; flex-direction: column; flex-basis: 100%; flex: 1; padding: 10px; }\n",
              "    </style>\n",
              "<div class=\"wandb-row\"><div class=\"wandb-col\">\n",
              "</div><div class=\"wandb-col\">\n",
              "</div></div>\n",
              "Synced 5 W&B file(s), 7 media file(s), 14 artifact file(s) and 0 other file(s)\n",
              "<br/>Synced <strong style=\"color:#cdcd00\">swept-universe-52</strong>: <a href=\"https://wandb.ai/doris/jazztunes/runs/1lkfwwy5\" target=\"_blank\">https://wandb.ai/doris/jazztunes/runs/1lkfwwy5</a><br/>\n",
              "Find logs at: <code>./wandb/run-20211203_122659-1lkfwwy5/logs</code><br/>\n"
            ],
            "text/plain": [
              "<IPython.core.display.HTML object>"
            ]
          },
          "metadata": {}
        }
      ]
    },
    {
      "cell_type": "code",
      "metadata": {
        "id": "Vn_SFyKt0bYx"
      },
      "source": [
        "\n"
      ],
      "execution_count": 117,
      "outputs": []
    },
    {
      "cell_type": "code",
      "metadata": {
        "id": "OaSXwXe9ptGr"
      },
      "source": [
        "\n"
      ],
      "execution_count": 117,
      "outputs": []
    },
    {
      "cell_type": "code",
      "metadata": {
        "id": "I_3n7hZ0OF-r"
      },
      "source": [
        ""
      ],
      "execution_count": 117,
      "outputs": []
    }
  ]
}