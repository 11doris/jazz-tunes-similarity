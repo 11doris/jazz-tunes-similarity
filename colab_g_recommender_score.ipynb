{
  "nbformat": 4,
  "nbformat_minor": 0,
  "metadata": {
    "colab": {
      "name": "colab_g_recommender_score",
      "provenance": [],
      "toc_visible": true,
      "authorship_tag": "ABX9TyOpV7jbZIxDPQOpHhZdddag",
      "include_colab_link": true
    },
    "kernelspec": {
      "name": "python3",
      "display_name": "Python 3"
    },
    "language_info": {
      "name": "python"
    },
    "accelerator": "TPU"
  },
  "cells": [
    {
      "cell_type": "markdown",
      "metadata": {
        "id": "view-in-github",
        "colab_type": "text"
      },
      "source": [
        "<a href=\"https://colab.research.google.com/github/11doris/jazz-maestro/blob/colab_word_embeddings/colab_g_recommender_score.ipynb\" target=\"_parent\"><img src=\"https://colab.research.google.com/assets/colab-badge.svg\" alt=\"Open In Colab\"/></a>"
      ]
    },
    {
      "cell_type": "markdown",
      "metadata": {
        "id": "YGhakKpa8Dtf"
      },
      "source": [
        "# Sections as Input"
      ]
    },
    {
      "cell_type": "code",
      "metadata": {
        "colab": {
          "base_uri": "https://localhost:8080/"
        },
        "id": "dm5QehpXxo31",
        "outputId": "b54d3c49-56b9-4587-ced2-5dedad634578"
      },
      "source": [
        "pip install wandb"
      ],
      "execution_count": 1,
      "outputs": [
        {
          "output_type": "stream",
          "name": "stdout",
          "text": [
            "Requirement already satisfied: wandb in /usr/local/lib/python3.7/dist-packages (0.12.7)\n",
            "Requirement already satisfied: configparser>=3.8.1 in /usr/local/lib/python3.7/dist-packages (from wandb) (5.1.0)\n",
            "Requirement already satisfied: python-dateutil>=2.6.1 in /usr/local/lib/python3.7/dist-packages (from wandb) (2.8.2)\n",
            "Requirement already satisfied: protobuf>=3.12.0 in /usr/local/lib/python3.7/dist-packages (from wandb) (3.17.3)\n",
            "Requirement already satisfied: pathtools in /usr/local/lib/python3.7/dist-packages (from wandb) (0.1.2)\n",
            "Requirement already satisfied: Click!=8.0.0,>=7.0 in /usr/local/lib/python3.7/dist-packages (from wandb) (7.1.2)\n",
            "Requirement already satisfied: docker-pycreds>=0.4.0 in /usr/local/lib/python3.7/dist-packages (from wandb) (0.4.0)\n",
            "Requirement already satisfied: six>=1.13.0 in /usr/local/lib/python3.7/dist-packages (from wandb) (1.15.0)\n",
            "Requirement already satisfied: sentry-sdk>=1.0.0 in /usr/local/lib/python3.7/dist-packages (from wandb) (1.5.0)\n",
            "Requirement already satisfied: promise<3,>=2.0 in /usr/local/lib/python3.7/dist-packages (from wandb) (2.3)\n",
            "Requirement already satisfied: requests<3,>=2.0.0 in /usr/local/lib/python3.7/dist-packages (from wandb) (2.23.0)\n",
            "Requirement already satisfied: shortuuid>=0.5.0 in /usr/local/lib/python3.7/dist-packages (from wandb) (1.0.8)\n",
            "Requirement already satisfied: yaspin>=1.0.0 in /usr/local/lib/python3.7/dist-packages (from wandb) (2.1.0)\n",
            "Requirement already satisfied: PyYAML in /usr/local/lib/python3.7/dist-packages (from wandb) (3.13)\n",
            "Requirement already satisfied: subprocess32>=3.5.3 in /usr/local/lib/python3.7/dist-packages (from wandb) (3.5.4)\n",
            "Requirement already satisfied: GitPython>=1.0.0 in /usr/local/lib/python3.7/dist-packages (from wandb) (3.1.24)\n",
            "Requirement already satisfied: psutil>=5.0.0 in /usr/local/lib/python3.7/dist-packages (from wandb) (5.4.8)\n",
            "Requirement already satisfied: gitdb<5,>=4.0.1 in /usr/local/lib/python3.7/dist-packages (from GitPython>=1.0.0->wandb) (4.0.9)\n",
            "Requirement already satisfied: typing-extensions>=3.7.4.3 in /usr/local/lib/python3.7/dist-packages (from GitPython>=1.0.0->wandb) (3.10.0.2)\n",
            "Requirement already satisfied: smmap<6,>=3.0.1 in /usr/local/lib/python3.7/dist-packages (from gitdb<5,>=4.0.1->GitPython>=1.0.0->wandb) (5.0.0)\n",
            "Requirement already satisfied: chardet<4,>=3.0.2 in /usr/local/lib/python3.7/dist-packages (from requests<3,>=2.0.0->wandb) (3.0.4)\n",
            "Requirement already satisfied: certifi>=2017.4.17 in /usr/local/lib/python3.7/dist-packages (from requests<3,>=2.0.0->wandb) (2021.10.8)\n",
            "Requirement already satisfied: urllib3!=1.25.0,!=1.25.1,<1.26,>=1.21.1 in /usr/local/lib/python3.7/dist-packages (from requests<3,>=2.0.0->wandb) (1.24.3)\n",
            "Requirement already satisfied: idna<3,>=2.5 in /usr/local/lib/python3.7/dist-packages (from requests<3,>=2.0.0->wandb) (2.10)\n",
            "Requirement already satisfied: termcolor<2.0.0,>=1.1.0 in /usr/local/lib/python3.7/dist-packages (from yaspin>=1.0.0->wandb) (1.1.0)\n"
          ]
        }
      ]
    },
    {
      "cell_type": "code",
      "metadata": {
        "colab": {
          "base_uri": "https://localhost:8080/"
        },
        "id": "HZG8BDT-xrv3",
        "outputId": "5a351be0-58ed-4629-c706-9913b44c201a"
      },
      "source": [
        "!wandb login"
      ],
      "execution_count": 2,
      "outputs": [
        {
          "output_type": "stream",
          "name": "stdout",
          "text": [
            "\u001b[34m\u001b[1mwandb\u001b[0m: Currently logged in as: \u001b[33mdoris\u001b[0m (use `wandb login --relogin` to force relogin)\n"
          ]
        }
      ]
    },
    {
      "cell_type": "code",
      "metadata": {
        "id": "WHZBzAXjxz1J"
      },
      "source": [
        "import wandb"
      ],
      "execution_count": 3,
      "outputs": []
    },
    {
      "cell_type": "code",
      "metadata": {
        "colab": {
          "base_uri": "https://localhost:8080/"
        },
        "id": "MUy1ta4_782n",
        "outputId": "23c08f81-7346-43a7-8c81-39ace835ccbb"
      },
      "source": [
        "!pip uninstall gensim -y"
      ],
      "execution_count": 4,
      "outputs": [
        {
          "output_type": "stream",
          "name": "stdout",
          "text": [
            "Found existing installation: gensim 4.1.2\n",
            "Uninstalling gensim-4.1.2:\n",
            "  Successfully uninstalled gensim-4.1.2\n"
          ]
        }
      ]
    },
    {
      "cell_type": "code",
      "metadata": {
        "colab": {
          "base_uri": "https://localhost:8080/"
        },
        "id": "oAroxmvO8GQj",
        "outputId": "a47f3787-d18f-42d7-f83f-998aa76925f4"
      },
      "source": [
        "!pip install gensim"
      ],
      "execution_count": 5,
      "outputs": [
        {
          "output_type": "stream",
          "name": "stdout",
          "text": [
            "Collecting gensim\n",
            "  Using cached gensim-4.1.2-cp37-cp37m-manylinux_2_12_x86_64.manylinux2010_x86_64.whl (24.1 MB)\n",
            "Requirement already satisfied: scipy>=0.18.1 in /usr/local/lib/python3.7/dist-packages (from gensim) (1.4.1)\n",
            "Requirement already satisfied: smart-open>=1.8.1 in /usr/local/lib/python3.7/dist-packages (from gensim) (5.2.1)\n",
            "Requirement already satisfied: numpy>=1.17.0 in /usr/local/lib/python3.7/dist-packages (from gensim) (1.19.5)\n",
            "Installing collected packages: gensim\n",
            "Successfully installed gensim-4.1.2\n"
          ]
        }
      ]
    },
    {
      "cell_type": "code",
      "metadata": {
        "id": "6SZ0zrKX8H-D"
      },
      "source": [
        "import gensim\n",
        "from sklearn.manifold import TSNE\n",
        "import matplotlib.pyplot as plt\n",
        "import pprint\n",
        "import pandas as pd\n",
        "import numpy as np\n",
        "from collections import Counter\n",
        "import plotly.express as px\n",
        "from tqdm import tqdm \n",
        "from gensim.models.doc2vec import Doc2Vec\n",
        "from gensim.models.tfidfmodel import TfidfModel\n",
        "from gensim.models.lsimodel import LsiModel\n",
        "from gensim.models import CoherenceModel\n",
        "from gensim import corpora\n",
        "from gensim import similarities\n",
        "import pickle\n",
        "import os"
      ],
      "execution_count": 6,
      "outputs": []
    },
    {
      "cell_type": "code",
      "metadata": {
        "id": "znWar-PK8KHT"
      },
      "source": [
        "import logging\n",
        "logging.basicConfig(format='%(asctime)s : %(levelname)s : %(message)s', level=logging.INFO)"
      ],
      "execution_count": 7,
      "outputs": []
    },
    {
      "cell_type": "code",
      "metadata": {
        "colab": {
          "base_uri": "https://localhost:8080/"
        },
        "id": "kjCf_Abf8MCc",
        "outputId": "36679b2f-7802-433e-e878-c6d55873f1bf"
      },
      "source": [
        "print(gensim.__version__)"
      ],
      "execution_count": 8,
      "outputs": [
        {
          "output_type": "stream",
          "name": "stdout",
          "text": [
            "4.1.2\n"
          ]
        }
      ]
    },
    {
      "cell_type": "code",
      "metadata": {
        "id": "_aEonlx-CT6r"
      },
      "source": [
        "!rm data.csv"
      ],
      "execution_count": 9,
      "outputs": []
    },
    {
      "cell_type": "markdown",
      "metadata": {
        "id": "Nk5pPZqk0Pn7"
      },
      "source": [
        "# Configuration\n"
      ]
    },
    {
      "cell_type": "code",
      "metadata": {
        "id": "wcZ18xhgU7MZ"
      },
      "source": [
        "use_wandb = False"
      ],
      "execution_count": 10,
      "outputs": []
    },
    {
      "cell_type": "code",
      "metadata": {
        "id": "GfQbJQmexlxI"
      },
      "source": [
        "chords_repeated = 'rep' \n",
        "chords_preprocessing = 'rootAndDegreesPlus'"
      ],
      "execution_count": 11,
      "outputs": []
    },
    {
      "cell_type": "code",
      "metadata": {
        "id": "buoyWNl0F48Y"
      },
      "source": [
        "ngrams_for_input = [1]"
      ],
      "execution_count": 12,
      "outputs": []
    },
    {
      "cell_type": "code",
      "metadata": {
        "id": "K7qB2_sBvKpB"
      },
      "source": [
        "input_files = {\n",
        "    'sections': {\n",
        "        'rep': {\n",
        "            # M7 and 6 reduced to major triad, m7 reduced to m, dominant 7, m7b5, diminished, and all (b5) left as they are.\n",
        "            'rootAndDegreesPlus': '1BDYukaIj72jmi9PqZVrCAqKbyxg8Z4yq',\n",
        "            'rootAndDegrees7': '',\n",
        "            'rootAndDegreesSimplified': ''\n",
        "        },\n",
        "    },\n",
        "    'tunes': {\n",
        "        'rep': {\n",
        "            'rootAndDegreesPlus': '',\n",
        "            'rootAndDegrees7': '',\n",
        "            'rootAndDegreesSimplified': '',\n",
        "        },\n",
        "        'norep': {\n",
        "            'rootAndDegreesPlus': '',\n",
        "            'rootAndDegrees7': '',\n",
        "            'rootAndDegreesSimplified': '',\n",
        "        }\n",
        "    }\n",
        "}"
      ],
      "execution_count": 13,
      "outputs": []
    },
    {
      "cell_type": "code",
      "metadata": {
        "colab": {
          "base_uri": "https://localhost:8080/"
        },
        "id": "lM6eaQwnyWD3",
        "outputId": "e26a0e48-ba21-4a05-c1f1-7a22c3f84af6"
      },
      "source": [
        "tunes_eval_list = [\n",
        "  \"Sweet Sue, Just You [jazz1350]\",\n",
        "  \"These Foolish Things [jazz1350]\", \n",
        "  \"Blue Moon [jazz1350]\",\n",
        "  \"All Of Me [jazz1350]\",\n",
        "  \"All God's Chillun Got Rhythm [jazz1350]\",\n",
        "  \"I Got Rhythm [jazz1350]\",\n",
        "  \"Bye Bye Blackbird [jazz1350]\",\n",
        "  \"Old Fashioned Love [trad]\",\n",
        "  \"Dinah [jazz1350]\",\n",
        "  \"Honeysuckle Rose [jazz1350]\",\n",
        "  \"Misty [jazz1350]\",\n",
        "  \"We'll Be Together Again [jazz1350]\",\n",
        "  \"East Of The Sun [jazz1350]\",\n",
        "  \"Sophisticated Lady [jazz1350]\",\n",
        "  \"Perdido [jazz1350]\",\n",
        "  \"Naima [jazz1350]\",\n",
        "  \"Call Me Irresponsible [jazz1350]\",\n",
        "  \"Corcovado [jazz1350]\",\n",
        "  \"Footprints [jazz1350]\",\n",
        "  \"Giant Steps [jazz1350]\",\n",
        "  \"But Beautiful [jazz1350]\",\n",
        "  \"Rockin' Chair [jazz1350]\",\n",
        "  \"Blood Count [jazz1350]\",\n",
        "  \"After You've Gone [jazz1350]\",\n",
        "]\n",
        "\n",
        "tunes_eval_list = sorted(tunes_eval_list)\n",
        "tunes_eval_list"
      ],
      "execution_count": 14,
      "outputs": [
        {
          "output_type": "execute_result",
          "data": {
            "text/plain": [
              "[\"After You've Gone [jazz1350]\",\n",
              " \"All God's Chillun Got Rhythm [jazz1350]\",\n",
              " 'All Of Me [jazz1350]',\n",
              " 'Blood Count [jazz1350]',\n",
              " 'Blue Moon [jazz1350]',\n",
              " 'But Beautiful [jazz1350]',\n",
              " 'Bye Bye Blackbird [jazz1350]',\n",
              " 'Call Me Irresponsible [jazz1350]',\n",
              " 'Corcovado [jazz1350]',\n",
              " 'Dinah [jazz1350]',\n",
              " 'East Of The Sun [jazz1350]',\n",
              " 'Footprints [jazz1350]',\n",
              " 'Giant Steps [jazz1350]',\n",
              " 'Honeysuckle Rose [jazz1350]',\n",
              " 'I Got Rhythm [jazz1350]',\n",
              " 'Misty [jazz1350]',\n",
              " 'Naima [jazz1350]',\n",
              " 'Old Fashioned Love [trad]',\n",
              " 'Perdido [jazz1350]',\n",
              " \"Rockin' Chair [jazz1350]\",\n",
              " 'Sophisticated Lady [jazz1350]',\n",
              " 'Sweet Sue, Just You [jazz1350]',\n",
              " 'These Foolish Things [jazz1350]',\n",
              " \"We'll Be Together Again [jazz1350]\"]"
            ]
          },
          "metadata": {},
          "execution_count": 14
        }
      ]
    },
    {
      "cell_type": "code",
      "metadata": {
        "id": "uiI0h4ef0PCD",
        "colab": {
          "base_uri": "https://localhost:8080/"
        },
        "outputId": "1c79de37-5dc0-4d40-8a21-01d1653042d0"
      },
      "source": [
        "contrafacts_1350jazz = {\n",
        "               \"26-2\": \"Confirmation\",\n",
        "               \"52nd Street Theme\": \"I Got Rhythm\",\n",
        "               \"Ablution\": \"All The Things You Are\",\n",
        "               \"Anthropology\": \"I Got Rhythm\",\n",
        "               \"Ballade\": \"As Long As I Live\",\n",
        "               \"Bright Mississippi\": \"Sweet Georgia Brown\",\n",
        "               \"C.T.A.\": \"I Got Rhythm\",\n",
        "               # \"Celia\": \"I Got Rhythm\",\n",
        "               \"Cottontail\": \"I Got Rhythm\",\n",
        "               \"Countdown\": \"Tune Up\",\n",
        "               \"Dewey Square\": \"Oh, Lady Be Good\",\n",
        "               \"Dexterity\": \"I Got Rhythm\",\n",
        "               \"Dig\": \"Sweet Georgia Brown\",\n",
        "               \"Donna Lee\": \"Indiana (Back Home Again In)\",\n",
        "               \"Don't Be That Way\": \"I Got Rhythm\",\n",
        "               #\"Eternal Triangle\": \"I Got Rhythm\",\n",
        "               \"Evidence\": \"Just You, Just Me\",\n",
        "               \"Flintstones\": \"I Got Rhythm\",\n",
        "               \"Four On Six\": \"Summertime\",\n",
        "               \"Freight Train\": \"Blues For Alice\",\n",
        "               \"Good Bait\": \"I Got Rhythm\",\n",
        "               \"Hackensack\": \"Oh, Lady Be Good\",\n",
        "               \"Half Nelson\": \"Lady Bird\",\n",
        "               \"Hot House\": \"What Is This Thing Called Love\",\n",
        "               \"Impressions\": \"So What\",\n",
        "               \"In A Mellow Tone (In A Mellotone)\": \"Rose Room\",\n",
        "               \"In Walked Bud\": \"Blue Skies\",\n",
        "               \"Ko Ko\": \"Cherokee\",\n",
        "               \"Lennie's Pennies\": \"Pennies From Heaven\",   ## Lennie's Pennies is in minor and therefore transposed to Amin... not possible to recognize like that\n",
        "               # \"Let's Call This\": \"Honeysuckle Rose\",\n",
        "               \"Little Rootie Tootie\": \"I Got Rhythm\",\n",
        "               \"Little Willie Leaps\": \"All God's Chillun Got Rhythm\",\n",
        "               \"Lullaby Of Birdland\": \"Love Me Or Leave Me\",\n",
        "               #\"Moose The Mooche\": \"I Got Rhythm\",\n",
        "               \"My Little Suede Shoes\": \"Jeepers Creepers\",\n",
        "               #\"Oleo\": \"I Got Rhythm\",\n",
        "               \"Ornithology\": \"How High The Moon\",\n",
        "               #\"Passport\": \"I Got Rhythm\",\n",
        "               \"Quasimodo (Theme)\": \"Embraceable You\",\n",
        "               #\"Rhythm-a-ning\": \"I Got Rhythm\",\n",
        "               \"Room 608\": \"I Got Rhythm\",\n",
        "               #\"Salt Peanuts\": \"I Got Rhythm\",\n",
        "               \"Satellite\": \"How High The Moon\",\n",
        "               \"Scrapple From The Apple\": \"Honeysuckle Rose\", # A section\n",
        "               \"Scrapple From The Apple\": \"I Got Rhythm\", # B section\n",
        "               #\"Segment\": \"I Got Rhythm\",\n",
        "               #\"Seven Come Eleven\": \"I Got Rhythm\",\n",
        "               #\"Shaw 'Nuff\": \"I Got Rhythm\",\n",
        "               #\"Theme, The\": \"I Got Rhythm\",\n",
        "               \"Tour De Force\": \"Jeepers Creepers\",\n",
        "               \"Wow\": \"You Can Depend On Me\",\n",
        "               \"Yardbird Suite\": \"Rosetta\",\n",
        "\n",
        "               # following tunes are not from wikipedia:\n",
        "               \"Sweet Sue, Just You\": \"Honeysuckle Rose\",  # A section\n",
        "               # \"All Of Me\": \"Pennies From Heaven\", # bars 25-28 of All of Me are same as bars 17-20 of Pennies From Heaven, but different key!\n",
        "               \"Sweet Sue, Just You\": \"Bye Bye Blackbird\", # Bridge same\n",
        "               \"These Foolish Things\": \"Blue Moon\", # first 8 bars same\n",
        "               \"These Foolish Things\": \"More Than You Know\",\n",
        "               \"These Foolish Things\": \"Isn't It A Pity\",\n",
        "               \"These Foolish Things\": \"Soultrain\",\n",
        "               \"These Foolish Things\": \"Why Do I Love You\",\n",
        "               \"Misty\": \"Portrait Of Jennie\",\n",
        "               \"Misty\": \"September In The Rain\",\n",
        "               \"Misty\": \"I May Be Wrong\",                    \n",
        "}\n",
        "\n",
        "\n",
        "contrafacts = {}\n",
        "for key, value in contrafacts_1350jazz.items():\n",
        "  contrafacts[f\"{key} [jazz1350]\"] = f\"{value} [jazz1350]\"\n",
        "\n",
        "contrafacts\n"
      ],
      "execution_count": 15,
      "outputs": [
        {
          "output_type": "execute_result",
          "data": {
            "text/plain": [
              "{'26-2 [jazz1350]': 'Confirmation [jazz1350]',\n",
              " '52nd Street Theme [jazz1350]': 'I Got Rhythm [jazz1350]',\n",
              " 'Ablution [jazz1350]': 'All The Things You Are [jazz1350]',\n",
              " 'Anthropology [jazz1350]': 'I Got Rhythm [jazz1350]',\n",
              " 'Ballade [jazz1350]': 'As Long As I Live [jazz1350]',\n",
              " 'Bright Mississippi [jazz1350]': 'Sweet Georgia Brown [jazz1350]',\n",
              " 'C.T.A. [jazz1350]': 'I Got Rhythm [jazz1350]',\n",
              " 'Cottontail [jazz1350]': 'I Got Rhythm [jazz1350]',\n",
              " 'Countdown [jazz1350]': 'Tune Up [jazz1350]',\n",
              " 'Dewey Square [jazz1350]': 'Oh, Lady Be Good [jazz1350]',\n",
              " 'Dexterity [jazz1350]': 'I Got Rhythm [jazz1350]',\n",
              " 'Dig [jazz1350]': 'Sweet Georgia Brown [jazz1350]',\n",
              " \"Don't Be That Way [jazz1350]\": 'I Got Rhythm [jazz1350]',\n",
              " 'Donna Lee [jazz1350]': 'Indiana (Back Home Again In) [jazz1350]',\n",
              " 'Evidence [jazz1350]': 'Just You, Just Me [jazz1350]',\n",
              " 'Flintstones [jazz1350]': 'I Got Rhythm [jazz1350]',\n",
              " 'Four On Six [jazz1350]': 'Summertime [jazz1350]',\n",
              " 'Freight Train [jazz1350]': 'Blues For Alice [jazz1350]',\n",
              " 'Good Bait [jazz1350]': 'I Got Rhythm [jazz1350]',\n",
              " 'Hackensack [jazz1350]': 'Oh, Lady Be Good [jazz1350]',\n",
              " 'Half Nelson [jazz1350]': 'Lady Bird [jazz1350]',\n",
              " 'Hot House [jazz1350]': 'What Is This Thing Called Love [jazz1350]',\n",
              " 'Impressions [jazz1350]': 'So What [jazz1350]',\n",
              " 'In A Mellow Tone (In A Mellotone) [jazz1350]': 'Rose Room [jazz1350]',\n",
              " 'In Walked Bud [jazz1350]': 'Blue Skies [jazz1350]',\n",
              " 'Ko Ko [jazz1350]': 'Cherokee [jazz1350]',\n",
              " \"Lennie's Pennies [jazz1350]\": 'Pennies From Heaven [jazz1350]',\n",
              " 'Little Rootie Tootie [jazz1350]': 'I Got Rhythm [jazz1350]',\n",
              " 'Little Willie Leaps [jazz1350]': \"All God's Chillun Got Rhythm [jazz1350]\",\n",
              " 'Lullaby Of Birdland [jazz1350]': 'Love Me Or Leave Me [jazz1350]',\n",
              " 'Misty [jazz1350]': 'I May Be Wrong [jazz1350]',\n",
              " 'My Little Suede Shoes [jazz1350]': 'Jeepers Creepers [jazz1350]',\n",
              " 'Ornithology [jazz1350]': 'How High The Moon [jazz1350]',\n",
              " 'Quasimodo (Theme) [jazz1350]': 'Embraceable You [jazz1350]',\n",
              " 'Room 608 [jazz1350]': 'I Got Rhythm [jazz1350]',\n",
              " 'Satellite [jazz1350]': 'How High The Moon [jazz1350]',\n",
              " 'Scrapple From The Apple [jazz1350]': 'I Got Rhythm [jazz1350]',\n",
              " 'Sweet Sue, Just You [jazz1350]': 'Bye Bye Blackbird [jazz1350]',\n",
              " 'These Foolish Things [jazz1350]': 'Why Do I Love You [jazz1350]',\n",
              " 'Tour De Force [jazz1350]': 'Jeepers Creepers [jazz1350]',\n",
              " 'Wow [jazz1350]': 'You Can Depend On Me [jazz1350]',\n",
              " 'Yardbird Suite [jazz1350]': 'Rosetta [jazz1350]'}"
            ]
          },
          "metadata": {},
          "execution_count": 15
        }
      ]
    },
    {
      "cell_type": "markdown",
      "metadata": {
        "id": "gcexO7zK8Pn6"
      },
      "source": [
        "# Initialization\n",
        "\n",
        "## Download the Data"
      ]
    },
    {
      "cell_type": "code",
      "metadata": {
        "id": "JwVJo3Vat8iF"
      },
      "source": [
        "input_data = input_files['sections'][chords_repeated][chords_preprocessing]\n",
        "\n",
        "input_path = f\"https://docs.google.com/uc?export=download&id={input_data}\"\n",
        "data_file_name = 'data.csv'\n"
      ],
      "execution_count": 16,
      "outputs": []
    },
    {
      "cell_type": "code",
      "metadata": {
        "colab": {
          "base_uri": "https://localhost:8080/",
          "height": 36
        },
        "id": "_Dp-fijjB-pU",
        "outputId": "1b330589-81ca-4c30-8cde-45f862dea5c1"
      },
      "source": [
        "input_path"
      ],
      "execution_count": 17,
      "outputs": [
        {
          "output_type": "execute_result",
          "data": {
            "application/vnd.google.colaboratory.intrinsic+json": {
              "type": "string"
            },
            "text/plain": [
              "'https://docs.google.com/uc?export=download&id=1BDYukaIj72jmi9PqZVrCAqKbyxg8Z4yq'"
            ]
          },
          "metadata": {},
          "execution_count": 17
        }
      ]
    },
    {
      "cell_type": "code",
      "metadata": {
        "colab": {
          "base_uri": "https://localhost:8080/"
        },
        "id": "1ZVAYUH5t9Li",
        "outputId": "eba9b01e-23f4-4d15-bcc6-0d5fb9f62229"
      },
      "source": [
        "!wget --no-check-certificate \"$input_path\" -O \"$data_file_name\""
      ],
      "execution_count": 18,
      "outputs": [
        {
          "output_type": "stream",
          "name": "stdout",
          "text": [
            "--2021-11-26 20:15:16--  https://docs.google.com/uc?export=download&id=1BDYukaIj72jmi9PqZVrCAqKbyxg8Z4yq\n",
            "Resolving docs.google.com (docs.google.com)... 172.253.119.100, 172.253.119.138, 172.253.119.101, ...\n",
            "Connecting to docs.google.com (docs.google.com)|172.253.119.100|:443... connected.\n",
            "HTTP request sent, awaiting response... 302 Moved Temporarily\n",
            "Location: https://doc-0k-4c-docs.googleusercontent.com/docs/securesc/ha0ro937gcuc7l7deffksulhg5h7mbp1/qkptbmb71llu0v119r4lr3kj9nemcspe/1637957700000/14329102864480165501/*/1BDYukaIj72jmi9PqZVrCAqKbyxg8Z4yq?e=download [following]\n",
            "Warning: wildcards not supported in HTTP.\n",
            "--2021-11-26 20:15:16--  https://doc-0k-4c-docs.googleusercontent.com/docs/securesc/ha0ro937gcuc7l7deffksulhg5h7mbp1/qkptbmb71llu0v119r4lr3kj9nemcspe/1637957700000/14329102864480165501/*/1BDYukaIj72jmi9PqZVrCAqKbyxg8Z4yq?e=download\n",
            "Resolving doc-0k-4c-docs.googleusercontent.com (doc-0k-4c-docs.googleusercontent.com)... 172.217.219.132, 2607:f8b0:4001:c13::84\n",
            "Connecting to doc-0k-4c-docs.googleusercontent.com (doc-0k-4c-docs.googleusercontent.com)|172.217.219.132|:443... connected.\n",
            "HTTP request sent, awaiting response... 200 OK\n",
            "Length: 813814 (795K) [text/csv]\n",
            "Saving to: ‘data.csv’\n",
            "\n",
            "data.csv            100%[===================>] 794.74K  --.-KB/s    in 0.007s  \n",
            "\n",
            "2021-11-26 20:15:16 (107 MB/s) - ‘data.csv’ saved [813814/813814]\n",
            "\n"
          ]
        }
      ]
    },
    {
      "cell_type": "markdown",
      "metadata": {
        "id": "Ljs21B7h8YvC"
      },
      "source": [
        "### Read Chords Input Data"
      ]
    },
    {
      "cell_type": "code",
      "metadata": {
        "colab": {
          "base_uri": "https://localhost:8080/",
          "height": 310
        },
        "id": "B7kK418L8aac",
        "outputId": "c5b36284-ffbf-4d9e-a1cc-1743178582dd"
      },
      "source": [
        "df = pd.read_csv(data_file_name, sep='\\t', index_col=\"id\")\n",
        "df = df.reset_index()\n",
        "df.head(5)"
      ],
      "execution_count": 19,
      "outputs": [
        {
          "output_type": "execute_result",
          "data": {
            "text/html": [
              "<div>\n",
              "<style scoped>\n",
              "    .dataframe tbody tr th:only-of-type {\n",
              "        vertical-align: middle;\n",
              "    }\n",
              "\n",
              "    .dataframe tbody tr th {\n",
              "        vertical-align: top;\n",
              "    }\n",
              "\n",
              "    .dataframe thead th {\n",
              "        text-align: right;\n",
              "    }\n",
              "</style>\n",
              "<table border=\"1\" class=\"dataframe\">\n",
              "  <thead>\n",
              "    <tr style=\"text-align: right;\">\n",
              "      <th></th>\n",
              "      <th>id</th>\n",
              "      <th>file_name</th>\n",
              "      <th>title</th>\n",
              "      <th>title_playlist</th>\n",
              "      <th>tune_mode</th>\n",
              "      <th>tune_id</th>\n",
              "      <th>section_name</th>\n",
              "      <th>section_id</th>\n",
              "      <th>chords</th>\n",
              "    </tr>\n",
              "  </thead>\n",
              "  <tbody>\n",
              "    <tr>\n",
              "      <th>0</th>\n",
              "      <td>0</td>\n",
              "      <td>dataset/jazz1350/26-2.xml</td>\n",
              "      <td>26-2</td>\n",
              "      <td>26-2 [jazz1350]</td>\n",
              "      <td>major</td>\n",
              "      <td>0</td>\n",
              "      <td>A</td>\n",
              "      <td>1</td>\n",
              "      <td>C Eb7 G# B7 E G7 Gm C7 F G#7 C# E7 Am D7 Dm G7</td>\n",
              "    </tr>\n",
              "    <tr>\n",
              "      <th>1</th>\n",
              "      <td>1</td>\n",
              "      <td>dataset/jazz1350/26-2.xml</td>\n",
              "      <td>26-2</td>\n",
              "      <td>26-2 [jazz1350]</td>\n",
              "      <td>major</td>\n",
              "      <td>0</td>\n",
              "      <td>A</td>\n",
              "      <td>2</td>\n",
              "      <td>C Eb7 G# B7 E G7 Gm C7 F Eb7 G# B7 E G7 C</td>\n",
              "    </tr>\n",
              "    <tr>\n",
              "      <th>2</th>\n",
              "      <td>2</td>\n",
              "      <td>dataset/jazz1350/26-2.xml</td>\n",
              "      <td>26-2</td>\n",
              "      <td>26-2 [jazz1350]</td>\n",
              "      <td>major</td>\n",
              "      <td>0</td>\n",
              "      <td>B</td>\n",
              "      <td>3</td>\n",
              "      <td>Gm C7 Bm E7 A C7 F Bbm Eb7 G# Dm G7</td>\n",
              "    </tr>\n",
              "    <tr>\n",
              "      <th>3</th>\n",
              "      <td>3</td>\n",
              "      <td>dataset/jazz1350/26-2.xml</td>\n",
              "      <td>26-2</td>\n",
              "      <td>26-2 [jazz1350]</td>\n",
              "      <td>major</td>\n",
              "      <td>0</td>\n",
              "      <td>A</td>\n",
              "      <td>4</td>\n",
              "      <td>C Eb7 G# B7 E G7 Gm C7 F Eb7 G# B7 E G7 C</td>\n",
              "    </tr>\n",
              "    <tr>\n",
              "      <th>4</th>\n",
              "      <td>4</td>\n",
              "      <td>dataset/jazz1350/500 Miles High.xml</td>\n",
              "      <td>500 Miles High</td>\n",
              "      <td>500 Miles High [jazz1350]</td>\n",
              "      <td>minor</td>\n",
              "      <td>1</td>\n",
              "      <td>NaN</td>\n",
              "      <td>0</td>\n",
              "      <td>Am Am Cm Cm Eb Eb Em7b5 A7 Dm Dm Bm7b5 Bm7b5 B...</td>\n",
              "    </tr>\n",
              "  </tbody>\n",
              "</table>\n",
              "</div>"
            ],
            "text/plain": [
              "   id  ...                                             chords\n",
              "0   0  ...     C Eb7 G# B7 E G7 Gm C7 F G#7 C# E7 Am D7 Dm G7\n",
              "1   1  ...          C Eb7 G# B7 E G7 Gm C7 F Eb7 G# B7 E G7 C\n",
              "2   2  ...                Gm C7 Bm E7 A C7 F Bbm Eb7 G# Dm G7\n",
              "3   3  ...          C Eb7 G# B7 E G7 Gm C7 F Eb7 G# B7 E G7 C\n",
              "4   4  ...  Am Am Cm Cm Eb Eb Em7b5 A7 Dm Dm Bm7b5 Bm7b5 B...\n",
              "\n",
              "[5 rows x 9 columns]"
            ]
          },
          "metadata": {},
          "execution_count": 19
        }
      ]
    },
    {
      "cell_type": "markdown",
      "metadata": {
        "id": "OsPcEFbg8gu6"
      },
      "source": [
        "### Meta Data"
      ]
    },
    {
      "cell_type": "code",
      "metadata": {
        "colab": {
          "base_uri": "https://localhost:8080/",
          "height": 206
        },
        "id": "_62YlEVJXOCL",
        "outputId": "ddb97b75-115b-4af0-91c4-feb74db220af"
      },
      "source": [
        "titles = df.loc[:, ['id', 'tune_id', 'section_id', 'section_name', 'title', 'title_playlist', 'tune_mode']]\n",
        "titles[:5]"
      ],
      "execution_count": 20,
      "outputs": [
        {
          "output_type": "execute_result",
          "data": {
            "text/html": [
              "<div>\n",
              "<style scoped>\n",
              "    .dataframe tbody tr th:only-of-type {\n",
              "        vertical-align: middle;\n",
              "    }\n",
              "\n",
              "    .dataframe tbody tr th {\n",
              "        vertical-align: top;\n",
              "    }\n",
              "\n",
              "    .dataframe thead th {\n",
              "        text-align: right;\n",
              "    }\n",
              "</style>\n",
              "<table border=\"1\" class=\"dataframe\">\n",
              "  <thead>\n",
              "    <tr style=\"text-align: right;\">\n",
              "      <th></th>\n",
              "      <th>id</th>\n",
              "      <th>tune_id</th>\n",
              "      <th>section_id</th>\n",
              "      <th>section_name</th>\n",
              "      <th>title</th>\n",
              "      <th>title_playlist</th>\n",
              "      <th>tune_mode</th>\n",
              "    </tr>\n",
              "  </thead>\n",
              "  <tbody>\n",
              "    <tr>\n",
              "      <th>0</th>\n",
              "      <td>0</td>\n",
              "      <td>0</td>\n",
              "      <td>1</td>\n",
              "      <td>A</td>\n",
              "      <td>26-2</td>\n",
              "      <td>26-2 [jazz1350]</td>\n",
              "      <td>major</td>\n",
              "    </tr>\n",
              "    <tr>\n",
              "      <th>1</th>\n",
              "      <td>1</td>\n",
              "      <td>0</td>\n",
              "      <td>2</td>\n",
              "      <td>A</td>\n",
              "      <td>26-2</td>\n",
              "      <td>26-2 [jazz1350]</td>\n",
              "      <td>major</td>\n",
              "    </tr>\n",
              "    <tr>\n",
              "      <th>2</th>\n",
              "      <td>2</td>\n",
              "      <td>0</td>\n",
              "      <td>3</td>\n",
              "      <td>B</td>\n",
              "      <td>26-2</td>\n",
              "      <td>26-2 [jazz1350]</td>\n",
              "      <td>major</td>\n",
              "    </tr>\n",
              "    <tr>\n",
              "      <th>3</th>\n",
              "      <td>3</td>\n",
              "      <td>0</td>\n",
              "      <td>4</td>\n",
              "      <td>A</td>\n",
              "      <td>26-2</td>\n",
              "      <td>26-2 [jazz1350]</td>\n",
              "      <td>major</td>\n",
              "    </tr>\n",
              "    <tr>\n",
              "      <th>4</th>\n",
              "      <td>4</td>\n",
              "      <td>1</td>\n",
              "      <td>0</td>\n",
              "      <td>NaN</td>\n",
              "      <td>500 Miles High</td>\n",
              "      <td>500 Miles High [jazz1350]</td>\n",
              "      <td>minor</td>\n",
              "    </tr>\n",
              "  </tbody>\n",
              "</table>\n",
              "</div>"
            ],
            "text/plain": [
              "   id  tune_id  section_id  ...           title             title_playlist tune_mode\n",
              "0   0        0           1  ...            26-2            26-2 [jazz1350]     major\n",
              "1   1        0           2  ...            26-2            26-2 [jazz1350]     major\n",
              "2   2        0           3  ...            26-2            26-2 [jazz1350]     major\n",
              "3   3        0           4  ...            26-2            26-2 [jazz1350]     major\n",
              "4   4        1           0  ...  500 Miles High  500 Miles High [jazz1350]     minor\n",
              "\n",
              "[5 rows x 7 columns]"
            ]
          },
          "metadata": {},
          "execution_count": 20
        }
      ]
    },
    {
      "cell_type": "code",
      "metadata": {
        "id": "0vEOjvwt8jUu"
      },
      "source": [
        "titles_dict = titles.to_dict()\n",
        "\n",
        "sectionid_to_title = titles_dict['title_playlist']\n",
        "sectionid_to_titleid = titles_dict['tune_id']\n"
      ],
      "execution_count": 21,
      "outputs": []
    },
    {
      "cell_type": "code",
      "metadata": {
        "id": "Om7pbfnNGO_I"
      },
      "source": [
        "tunes = df.loc[:, ['tune_id', 'title_playlist']].drop_duplicates()\n",
        "tunes = tunes.set_index('tune_id').to_dict()\n",
        "titleid_to_title = tunes['title_playlist']"
      ],
      "execution_count": 22,
      "outputs": []
    },
    {
      "cell_type": "code",
      "metadata": {
        "id": "OvLyxrExxvew"
      },
      "source": [
        "title_to_titleid = {v: k for k, v in titleid_to_title.items()}\n"
      ],
      "execution_count": 23,
      "outputs": []
    },
    {
      "cell_type": "code",
      "metadata": {
        "id": "1H72Y3_d8uNu"
      },
      "source": [
        "titles_rows = titles.to_dict(orient='records')\n",
        "sectionid_to_section = []\n",
        "for i, row in enumerate(titles_rows):\n",
        "  name = f\"{row['title']}, section{row['section_id']} ({row['section_name']})\"\n",
        "  sectionid_to_section.append(name)\n",
        "  "
      ],
      "execution_count": 24,
      "outputs": []
    },
    {
      "cell_type": "code",
      "metadata": {
        "id": "HCeGUk818y8V"
      },
      "source": [
        "title_to_sectionid = {}\n",
        "\n",
        "for row in titles.iterrows():\n",
        "  title = row[1]['title_playlist']\n",
        "  if title not in title_to_sectionid:\n",
        "    title_to_sectionid[title] = [row[1]['id']]\n",
        "  else:\n",
        "    title_to_sectionid[title].append(row[1]['id'])"
      ],
      "execution_count": 25,
      "outputs": []
    },
    {
      "cell_type": "markdown",
      "metadata": {
        "id": "GWXGqImnoHdm"
      },
      "source": [
        "### Create Directories on Colab"
      ]
    },
    {
      "cell_type": "code",
      "metadata": {
        "id": "sDWIxDpIoJv1"
      },
      "source": [
        "!rm -R output\n",
        "!mkdir output"
      ],
      "execution_count": 26,
      "outputs": []
    },
    {
      "cell_type": "markdown",
      "metadata": {
        "id": "tHWe1mKVrF8O"
      },
      "source": [
        "### Test Data"
      ]
    },
    {
      "cell_type": "code",
      "metadata": {
        "id": "V0Bg0wJ7sBBk"
      },
      "source": [
        "tunes_eval_list = sorted(tunes_eval_list)"
      ],
      "execution_count": 27,
      "outputs": []
    },
    {
      "cell_type": "code",
      "metadata": {
        "id": "UE0AGDO_rFVo"
      },
      "source": [
        "#contrafacts_test = []\n",
        "#for reference, compare in contrafacts.items():\n",
        "#  contrafacts_test.append([title_to_sectionid[reference], title_to_sectionid[compare]])"
      ],
      "execution_count": 28,
      "outputs": []
    },
    {
      "cell_type": "markdown",
      "metadata": {
        "id": "LvQ60s_owm82"
      },
      "source": [
        "## Initialization for wandb variables"
      ]
    },
    {
      "cell_type": "code",
      "metadata": {
        "id": "fw7FHHXfwagL"
      },
      "source": [
        "recommender_results_cols = ['reference', 'id', 'method', 'similar', 'score_div_max', 'score']\n",
        "recommender_results = pd.DataFrame(columns=recommender_results_cols)"
      ],
      "execution_count": 29,
      "outputs": []
    },
    {
      "cell_type": "code",
      "metadata": {
        "id": "PfvF20G1JZMa"
      },
      "source": [
        "lsi_config = {\n",
        "    'num_topics': 200,\n",
        "}"
      ],
      "execution_count": 30,
      "outputs": []
    },
    {
      "cell_type": "code",
      "metadata": {
        "id": "eW2f6BdAJl01"
      },
      "source": [
        "doc2vec_config = {\n",
        "    'general': {\n",
        "        'chords_preprocessing': chords_preprocessing,\n",
        "        'chords_repeated': chords_repeated,\n",
        "        'document_tags': 'SectionsTunes',\n",
        "    },\n",
        "    'model': {\n",
        "        'dm': 1,\n",
        "        'vector_size': 100,\n",
        "        'window': 4,\n",
        "        'epochs': 40,\n",
        "        #'workers': 1,\n",
        "        'min_count': 1,\n",
        "        'negative': 10,\n",
        "        'sample': 0.001,\n",
        "        'seed': 42\n",
        "    }\n",
        "}"
      ],
      "execution_count": 31,
      "outputs": []
    },
    {
      "cell_type": "code",
      "metadata": {
        "id": "sxdJ97gdx70_"
      },
      "source": [
        "if use_wandb:\n",
        "  wandb.init(\n",
        "        # Set entity to specify your username or team name\n",
        "        # ex: entity=\"carey\",\n",
        "        # Set the project where this run will be logged\n",
        "        project=\"jazztunes\", \n",
        "        \n",
        "        # Track hyperparameters and run metadata\n",
        "        config={\n",
        "            \"input_data\": input_path,\n",
        "            \"ngrams_input\": ngrams_for_input,\n",
        "            \"comparison\": \"sections\",\n",
        "            \"lsi\": lsi_config,\n",
        "            \"doc2vec\": doc2vec_config\n",
        "        }\n",
        "    )"
      ],
      "execution_count": 32,
      "outputs": []
    },
    {
      "cell_type": "code",
      "metadata": {
        "id": "xHOY4TKYVN-g"
      },
      "source": [
        "if use_wandb:\n",
        "  artifact = wandb.Artifact('input_data', type='dataset')\n",
        "  artifact.add_file('data.csv')\n",
        "  wandb.log_artifact(artifact)"
      ],
      "execution_count": 33,
      "outputs": []
    },
    {
      "cell_type": "markdown",
      "metadata": {
        "id": "wox-dMcz84Bt"
      },
      "source": [
        "## Helpers functions"
      ]
    },
    {
      "cell_type": "code",
      "metadata": {
        "id": "2964REdr80Gd"
      },
      "source": [
        "def ngrams(tokens, n=2, sep='-'):\n",
        "    return [sep.join(ngram) for ngram in zip(*[tokens[i:] for i in range(n)])]"
      ],
      "execution_count": 34,
      "outputs": []
    },
    {
      "cell_type": "code",
      "metadata": {
        "id": "W42rugQPNYVP"
      },
      "source": [
        "def raw_chords_to_df(tunes):\n",
        "  tunes_chords = [item for tune in tunes for item in tune]\n",
        "  counts = Counter(tunes_chords)\n",
        "  df = pd.DataFrame(counts.items(),\n",
        "                    columns=['chord', 'count']).sort_values(by='count', ascending=False)\n",
        "\n",
        "  return df"
      ],
      "execution_count": 35,
      "outputs": []
    },
    {
      "cell_type": "markdown",
      "metadata": {
        "id": "umfsNtAdF0jM"
      },
      "source": [
        "# Data Preparation"
      ]
    },
    {
      "cell_type": "code",
      "metadata": {
        "id": "dCLwnqoVGcMw"
      },
      "source": [
        "lines = df.loc[:, 'chords'].tolist()\n",
        "data = [line.split(' ') for line in lines]"
      ],
      "execution_count": 36,
      "outputs": []
    },
    {
      "cell_type": "code",
      "metadata": {
        "colab": {
          "base_uri": "https://localhost:8080/"
        },
        "id": "g7SmApW9F3K6",
        "outputId": "d1e5bb20-a6a4-4960-db1e-9bff3f9fb377"
      },
      "source": [
        "processed_corpus = []\n",
        "for line in data:\n",
        "  tune_n = []\n",
        "  for n in ngrams_for_input:\n",
        "    tune_n.extend(ngrams(line, n=n))\n",
        "  processed_corpus.append(tune_n)\n",
        "\n",
        "for line in processed_corpus[:5]:\n",
        "  print(line)"
      ],
      "execution_count": 37,
      "outputs": [
        {
          "output_type": "stream",
          "name": "stdout",
          "text": [
            "['C', 'Eb7', 'G#', 'B7', 'E', 'G7', 'Gm', 'C7', 'F', 'G#7', 'C#', 'E7', 'Am', 'D7', 'Dm', 'G7']\n",
            "['C', 'Eb7', 'G#', 'B7', 'E', 'G7', 'Gm', 'C7', 'F', 'Eb7', 'G#', 'B7', 'E', 'G7', 'C']\n",
            "['Gm', 'C7', 'Bm', 'E7', 'A', 'C7', 'F', 'Bbm', 'Eb7', 'G#', 'Dm', 'G7']\n",
            "['C', 'Eb7', 'G#', 'B7', 'E', 'G7', 'Gm', 'C7', 'F', 'Eb7', 'G#', 'B7', 'E', 'G7', 'C']\n",
            "['Am', 'Am', 'Cm', 'Cm', 'Eb', 'Eb', 'Em7b5', 'A7', 'Dm', 'Dm', 'Bm7b5', 'Bm7b5', 'Bbm', 'Bbm', 'Fm', 'Fm', 'E7', 'E7', 'Fm', 'Fm', 'C#', 'C#', 'Fm', 'Fm', 'C#', 'C#']\n"
          ]
        }
      ]
    },
    {
      "cell_type": "markdown",
      "metadata": {
        "id": "Sri0K2DhNagp"
      },
      "source": [
        "#### Corpus Overview"
      ]
    },
    {
      "cell_type": "code",
      "metadata": {
        "colab": {
          "base_uri": "https://localhost:8080/"
        },
        "id": "X2ZqA7IF4ufg",
        "outputId": "81540016-7f34-4c7a-bc67-71a2869f0753"
      },
      "source": [
        "tokens = [item for l in processed_corpus for item in l]\n",
        "total_tokens = len(tokens)\n",
        "vocab_size = len(set(tokens))\n",
        "vocab_prop = 100*vocab_size/total_tokens\n",
        "\n",
        "print(f\"Total Number of tokens: {total_tokens}\")\n",
        "print(f\"Size of vocabulary: {vocab_size}\")\n",
        "print(f\"Proportion of vocabulary in corpus: {vocab_prop:.02f}%\")"
      ],
      "execution_count": 38,
      "outputs": [
        {
          "output_type": "stream",
          "name": "stdout",
          "text": [
            "Total Number of tokens: 82622\n",
            "Size of vocabulary: 72\n",
            "Proportion of vocabulary in corpus: 0.09%\n"
          ]
        }
      ]
    },
    {
      "cell_type": "code",
      "metadata": {
        "colab": {
          "base_uri": "https://localhost:8080/",
          "height": 424
        },
        "id": "rULq3jYVNh_x",
        "outputId": "bae387c4-9800-401e-d6b3-a7c0522528bc"
      },
      "source": [
        "df_chords = raw_chords_to_df(processed_corpus)\n",
        "df_chords"
      ],
      "execution_count": 39,
      "outputs": [
        {
          "output_type": "execute_result",
          "data": {
            "text/html": [
              "<div>\n",
              "<style scoped>\n",
              "    .dataframe tbody tr th:only-of-type {\n",
              "        vertical-align: middle;\n",
              "    }\n",
              "\n",
              "    .dataframe tbody tr th {\n",
              "        vertical-align: top;\n",
              "    }\n",
              "\n",
              "    .dataframe thead th {\n",
              "        text-align: right;\n",
              "    }\n",
              "</style>\n",
              "<table border=\"1\" class=\"dataframe\">\n",
              "  <thead>\n",
              "    <tr style=\"text-align: right;\">\n",
              "      <th></th>\n",
              "      <th>chord</th>\n",
              "      <th>count</th>\n",
              "    </tr>\n",
              "  </thead>\n",
              "  <tbody>\n",
              "    <tr>\n",
              "      <th>0</th>\n",
              "      <td>C</td>\n",
              "      <td>14387</td>\n",
              "    </tr>\n",
              "    <tr>\n",
              "      <th>5</th>\n",
              "      <td>G7</td>\n",
              "      <td>11144</td>\n",
              "    </tr>\n",
              "    <tr>\n",
              "      <th>14</th>\n",
              "      <td>Dm</td>\n",
              "      <td>7991</td>\n",
              "    </tr>\n",
              "    <tr>\n",
              "      <th>12</th>\n",
              "      <td>Am</td>\n",
              "      <td>5724</td>\n",
              "    </tr>\n",
              "    <tr>\n",
              "      <th>21</th>\n",
              "      <td>A7</td>\n",
              "      <td>4467</td>\n",
              "    </tr>\n",
              "    <tr>\n",
              "      <th>...</th>\n",
              "      <td>...</td>\n",
              "      <td>...</td>\n",
              "    </tr>\n",
              "    <tr>\n",
              "      <th>62</th>\n",
              "      <td>Ddim</td>\n",
              "      <td>13</td>\n",
              "    </tr>\n",
              "    <tr>\n",
              "      <th>70</th>\n",
              "      <td>G#7(+b5)</td>\n",
              "      <td>12</td>\n",
              "    </tr>\n",
              "    <tr>\n",
              "      <th>65</th>\n",
              "      <td>F7(+b5)</td>\n",
              "      <td>9</td>\n",
              "    </tr>\n",
              "    <tr>\n",
              "      <th>69</th>\n",
              "      <td>Cm7b5</td>\n",
              "      <td>9</td>\n",
              "    </tr>\n",
              "    <tr>\n",
              "      <th>71</th>\n",
              "      <td>Eb7(+b5)</td>\n",
              "      <td>6</td>\n",
              "    </tr>\n",
              "  </tbody>\n",
              "</table>\n",
              "<p>72 rows × 2 columns</p>\n",
              "</div>"
            ],
            "text/plain": [
              "       chord  count\n",
              "0          C  14387\n",
              "5         G7  11144\n",
              "14        Dm   7991\n",
              "12        Am   5724\n",
              "21        A7   4467\n",
              "..       ...    ...\n",
              "62      Ddim     13\n",
              "70  G#7(+b5)     12\n",
              "65   F7(+b5)      9\n",
              "69     Cm7b5      9\n",
              "71  Eb7(+b5)      6\n",
              "\n",
              "[72 rows x 2 columns]"
            ]
          },
          "metadata": {},
          "execution_count": 39
        }
      ]
    },
    {
      "cell_type": "code",
      "metadata": {
        "colab": {
          "base_uri": "https://localhost:8080/",
          "height": 560
        },
        "id": "G9fknTouNmKm",
        "outputId": "46bf58b4-4ca9-40f0-90ca-53b8dab462f7"
      },
      "source": [
        "df_chords = pd.DataFrame.from_dict(df_chords)\n",
        "df_chords.sort_values(by=['count'], ascending=False, inplace=True)\n",
        "df_chords_top = df_chords.query('count > 100')\n",
        "\n",
        "fig = px.bar(df_chords_top, x='chord', y='count', log_y=True)\n",
        "fig.update_layout(barmode='stack', xaxis={'categoryorder':'total descending'})\n",
        "fig.show()"
      ],
      "execution_count": 40,
      "outputs": [
        {
          "output_type": "stream",
          "name": "stderr",
          "text": [
            "2021-11-26 20:15:18,567 : INFO : NumExpr defaulting to 2 threads.\n"
          ]
        },
        {
          "output_type": "display_data",
          "data": {
            "text/html": [
              "<html>\n",
              "<head><meta charset=\"utf-8\" /></head>\n",
              "<body>\n",
              "    <div>\n",
              "            <script src=\"https://cdnjs.cloudflare.com/ajax/libs/mathjax/2.7.5/MathJax.js?config=TeX-AMS-MML_SVG\"></script><script type=\"text/javascript\">if (window.MathJax) {MathJax.Hub.Config({SVG: {font: \"STIX-Web\"}});}</script>\n",
              "                <script type=\"text/javascript\">window.PlotlyConfig = {MathJaxConfig: 'local'};</script>\n",
              "        <script src=\"https://cdn.plot.ly/plotly-latest.min.js\"></script>    \n",
              "            <div id=\"06895a67-7777-4991-9681-f2c52484092a\" class=\"plotly-graph-div\" style=\"height:525px; width:100%;\"></div>\n",
              "            <script type=\"text/javascript\">\n",
              "                \n",
              "                    window.PLOTLYENV=window.PLOTLYENV || {};\n",
              "                    \n",
              "                if (document.getElementById(\"06895a67-7777-4991-9681-f2c52484092a\")) {\n",
              "                    Plotly.newPlot(\n",
              "                        '06895a67-7777-4991-9681-f2c52484092a',\n",
              "                        [{\"alignmentgroup\": \"True\", \"hoverlabel\": {\"namelength\": 0}, \"hovertemplate\": \"chord=%{x}<br>count=%{y}\", \"legendgroup\": \"\", \"marker\": {\"color\": \"#636efa\"}, \"name\": \"\", \"offsetgroup\": \"\", \"orientation\": \"v\", \"showlegend\": false, \"textposition\": \"auto\", \"type\": \"bar\", \"x\": [\"C\", \"G7\", \"Dm\", \"Am\", \"A7\", \"D7\", \"F\", \"C7\", \"E7\", \"Em\", \"F7\", \"Bb7\", \"Fm\", \"B7\", \"Gm\", \"G#7\", \"Bm7b5\", \"G\", \"Ebdim\", \"Eb7\", \"Cm\", \"F#m7b5\", \"G#\", \"Bm\", \"C#7\", \"Bb\", \"Em7b5\", \"E\", \"F#m\", \"F#7\", \"Eb\", \"F#dim\", \"C#dim\", \"Ebm\", \"C#\", \"A\", \"Dm7b5\", \"Bbm\", \"D\", \"C#m\", \"Cdim\", \"B\", \"G#m\", \"F#\"], \"xaxis\": \"x\", \"y\": [14387, 11144, 7991, 5724, 4467, 3986, 3746, 3428, 3175, 2710, 1722, 1639, 1625, 1408, 1283, 975, 922, 890, 697, 622, 606, 554, 519, 511, 498, 494, 480, 474, 453, 443, 407, 406, 388, 365, 342, 329, 316, 305, 293, 266, 214, 173, 159, 144], \"yaxis\": \"y\"}],\n",
              "                        {\"barmode\": \"stack\", \"legend\": {\"tracegroupgap\": 0}, \"margin\": {\"t\": 60}, \"template\": {\"data\": {\"bar\": [{\"error_x\": {\"color\": \"#2a3f5f\"}, \"error_y\": {\"color\": \"#2a3f5f\"}, \"marker\": {\"line\": {\"color\": \"#E5ECF6\", \"width\": 0.5}}, \"type\": \"bar\"}], \"barpolar\": [{\"marker\": {\"line\": {\"color\": \"#E5ECF6\", \"width\": 0.5}}, \"type\": \"barpolar\"}], \"carpet\": [{\"aaxis\": {\"endlinecolor\": \"#2a3f5f\", \"gridcolor\": \"white\", \"linecolor\": \"white\", \"minorgridcolor\": \"white\", \"startlinecolor\": \"#2a3f5f\"}, \"baxis\": {\"endlinecolor\": \"#2a3f5f\", \"gridcolor\": \"white\", \"linecolor\": \"white\", \"minorgridcolor\": \"white\", \"startlinecolor\": \"#2a3f5f\"}, \"type\": \"carpet\"}], \"choropleth\": [{\"colorbar\": {\"outlinewidth\": 0, \"ticks\": \"\"}, \"type\": \"choropleth\"}], \"contour\": [{\"colorbar\": {\"outlinewidth\": 0, \"ticks\": \"\"}, \"colorscale\": [[0.0, \"#0d0887\"], [0.1111111111111111, \"#46039f\"], [0.2222222222222222, \"#7201a8\"], [0.3333333333333333, \"#9c179e\"], [0.4444444444444444, \"#bd3786\"], [0.5555555555555556, \"#d8576b\"], [0.6666666666666666, \"#ed7953\"], [0.7777777777777778, \"#fb9f3a\"], [0.8888888888888888, \"#fdca26\"], [1.0, \"#f0f921\"]], \"type\": \"contour\"}], \"contourcarpet\": [{\"colorbar\": {\"outlinewidth\": 0, \"ticks\": \"\"}, \"type\": \"contourcarpet\"}], \"heatmap\": [{\"colorbar\": {\"outlinewidth\": 0, \"ticks\": \"\"}, \"colorscale\": [[0.0, \"#0d0887\"], [0.1111111111111111, \"#46039f\"], [0.2222222222222222, \"#7201a8\"], [0.3333333333333333, \"#9c179e\"], [0.4444444444444444, \"#bd3786\"], [0.5555555555555556, \"#d8576b\"], [0.6666666666666666, \"#ed7953\"], [0.7777777777777778, \"#fb9f3a\"], [0.8888888888888888, \"#fdca26\"], [1.0, \"#f0f921\"]], \"type\": \"heatmap\"}], \"heatmapgl\": [{\"colorbar\": {\"outlinewidth\": 0, \"ticks\": \"\"}, \"colorscale\": [[0.0, \"#0d0887\"], [0.1111111111111111, \"#46039f\"], [0.2222222222222222, \"#7201a8\"], [0.3333333333333333, \"#9c179e\"], [0.4444444444444444, \"#bd3786\"], [0.5555555555555556, \"#d8576b\"], [0.6666666666666666, \"#ed7953\"], [0.7777777777777778, \"#fb9f3a\"], [0.8888888888888888, \"#fdca26\"], [1.0, \"#f0f921\"]], \"type\": \"heatmapgl\"}], \"histogram\": [{\"marker\": {\"colorbar\": {\"outlinewidth\": 0, \"ticks\": \"\"}}, \"type\": \"histogram\"}], \"histogram2d\": [{\"colorbar\": {\"outlinewidth\": 0, \"ticks\": \"\"}, \"colorscale\": [[0.0, \"#0d0887\"], [0.1111111111111111, \"#46039f\"], [0.2222222222222222, \"#7201a8\"], [0.3333333333333333, \"#9c179e\"], [0.4444444444444444, \"#bd3786\"], [0.5555555555555556, \"#d8576b\"], [0.6666666666666666, \"#ed7953\"], [0.7777777777777778, \"#fb9f3a\"], [0.8888888888888888, \"#fdca26\"], [1.0, \"#f0f921\"]], \"type\": \"histogram2d\"}], \"histogram2dcontour\": [{\"colorbar\": {\"outlinewidth\": 0, \"ticks\": \"\"}, \"colorscale\": [[0.0, \"#0d0887\"], [0.1111111111111111, \"#46039f\"], [0.2222222222222222, \"#7201a8\"], [0.3333333333333333, \"#9c179e\"], [0.4444444444444444, \"#bd3786\"], [0.5555555555555556, \"#d8576b\"], [0.6666666666666666, \"#ed7953\"], [0.7777777777777778, \"#fb9f3a\"], [0.8888888888888888, \"#fdca26\"], [1.0, \"#f0f921\"]], \"type\": \"histogram2dcontour\"}], \"mesh3d\": [{\"colorbar\": {\"outlinewidth\": 0, \"ticks\": \"\"}, \"type\": \"mesh3d\"}], \"parcoords\": [{\"line\": {\"colorbar\": {\"outlinewidth\": 0, \"ticks\": \"\"}}, \"type\": \"parcoords\"}], \"pie\": [{\"automargin\": true, \"type\": \"pie\"}], \"scatter\": [{\"marker\": {\"colorbar\": {\"outlinewidth\": 0, \"ticks\": \"\"}}, \"type\": \"scatter\"}], \"scatter3d\": [{\"line\": {\"colorbar\": {\"outlinewidth\": 0, \"ticks\": \"\"}}, \"marker\": {\"colorbar\": {\"outlinewidth\": 0, \"ticks\": \"\"}}, \"type\": \"scatter3d\"}], \"scattercarpet\": [{\"marker\": {\"colorbar\": {\"outlinewidth\": 0, \"ticks\": \"\"}}, \"type\": \"scattercarpet\"}], \"scattergeo\": [{\"marker\": {\"colorbar\": {\"outlinewidth\": 0, \"ticks\": \"\"}}, \"type\": \"scattergeo\"}], \"scattergl\": [{\"marker\": {\"colorbar\": {\"outlinewidth\": 0, \"ticks\": \"\"}}, \"type\": \"scattergl\"}], \"scattermapbox\": [{\"marker\": {\"colorbar\": {\"outlinewidth\": 0, \"ticks\": \"\"}}, \"type\": \"scattermapbox\"}], \"scatterpolar\": [{\"marker\": {\"colorbar\": {\"outlinewidth\": 0, \"ticks\": \"\"}}, \"type\": \"scatterpolar\"}], \"scatterpolargl\": [{\"marker\": {\"colorbar\": {\"outlinewidth\": 0, \"ticks\": \"\"}}, \"type\": \"scatterpolargl\"}], \"scatterternary\": [{\"marker\": {\"colorbar\": {\"outlinewidth\": 0, \"ticks\": \"\"}}, \"type\": \"scatterternary\"}], \"surface\": [{\"colorbar\": {\"outlinewidth\": 0, \"ticks\": \"\"}, \"colorscale\": [[0.0, \"#0d0887\"], [0.1111111111111111, \"#46039f\"], [0.2222222222222222, \"#7201a8\"], [0.3333333333333333, \"#9c179e\"], [0.4444444444444444, \"#bd3786\"], [0.5555555555555556, \"#d8576b\"], [0.6666666666666666, \"#ed7953\"], [0.7777777777777778, \"#fb9f3a\"], [0.8888888888888888, \"#fdca26\"], [1.0, \"#f0f921\"]], \"type\": \"surface\"}], \"table\": [{\"cells\": {\"fill\": {\"color\": \"#EBF0F8\"}, \"line\": {\"color\": \"white\"}}, \"header\": {\"fill\": {\"color\": \"#C8D4E3\"}, \"line\": {\"color\": \"white\"}}, \"type\": \"table\"}]}, \"layout\": {\"annotationdefaults\": {\"arrowcolor\": \"#2a3f5f\", \"arrowhead\": 0, \"arrowwidth\": 1}, \"coloraxis\": {\"colorbar\": {\"outlinewidth\": 0, \"ticks\": \"\"}}, \"colorscale\": {\"diverging\": [[0, \"#8e0152\"], [0.1, \"#c51b7d\"], [0.2, \"#de77ae\"], [0.3, \"#f1b6da\"], [0.4, \"#fde0ef\"], [0.5, \"#f7f7f7\"], [0.6, \"#e6f5d0\"], [0.7, \"#b8e186\"], [0.8, \"#7fbc41\"], [0.9, \"#4d9221\"], [1, \"#276419\"]], \"sequential\": [[0.0, \"#0d0887\"], [0.1111111111111111, \"#46039f\"], [0.2222222222222222, \"#7201a8\"], [0.3333333333333333, \"#9c179e\"], [0.4444444444444444, \"#bd3786\"], [0.5555555555555556, \"#d8576b\"], [0.6666666666666666, \"#ed7953\"], [0.7777777777777778, \"#fb9f3a\"], [0.8888888888888888, \"#fdca26\"], [1.0, \"#f0f921\"]], \"sequentialminus\": [[0.0, \"#0d0887\"], [0.1111111111111111, \"#46039f\"], [0.2222222222222222, \"#7201a8\"], [0.3333333333333333, \"#9c179e\"], [0.4444444444444444, \"#bd3786\"], [0.5555555555555556, \"#d8576b\"], [0.6666666666666666, \"#ed7953\"], [0.7777777777777778, \"#fb9f3a\"], [0.8888888888888888, \"#fdca26\"], [1.0, \"#f0f921\"]]}, \"colorway\": [\"#636efa\", \"#EF553B\", \"#00cc96\", \"#ab63fa\", \"#FFA15A\", \"#19d3f3\", \"#FF6692\", \"#B6E880\", \"#FF97FF\", \"#FECB52\"], \"font\": {\"color\": \"#2a3f5f\"}, \"geo\": {\"bgcolor\": \"white\", \"lakecolor\": \"white\", \"landcolor\": \"#E5ECF6\", \"showlakes\": true, \"showland\": true, \"subunitcolor\": \"white\"}, \"hoverlabel\": {\"align\": \"left\"}, \"hovermode\": \"closest\", \"mapbox\": {\"style\": \"light\"}, \"paper_bgcolor\": \"white\", \"plot_bgcolor\": \"#E5ECF6\", \"polar\": {\"angularaxis\": {\"gridcolor\": \"white\", \"linecolor\": \"white\", \"ticks\": \"\"}, \"bgcolor\": \"#E5ECF6\", \"radialaxis\": {\"gridcolor\": \"white\", \"linecolor\": \"white\", \"ticks\": \"\"}}, \"scene\": {\"xaxis\": {\"backgroundcolor\": \"#E5ECF6\", \"gridcolor\": \"white\", \"gridwidth\": 2, \"linecolor\": \"white\", \"showbackground\": true, \"ticks\": \"\", \"zerolinecolor\": \"white\"}, \"yaxis\": {\"backgroundcolor\": \"#E5ECF6\", \"gridcolor\": \"white\", \"gridwidth\": 2, \"linecolor\": \"white\", \"showbackground\": true, \"ticks\": \"\", \"zerolinecolor\": \"white\"}, \"zaxis\": {\"backgroundcolor\": \"#E5ECF6\", \"gridcolor\": \"white\", \"gridwidth\": 2, \"linecolor\": \"white\", \"showbackground\": true, \"ticks\": \"\", \"zerolinecolor\": \"white\"}}, \"shapedefaults\": {\"line\": {\"color\": \"#2a3f5f\"}}, \"ternary\": {\"aaxis\": {\"gridcolor\": \"white\", \"linecolor\": \"white\", \"ticks\": \"\"}, \"baxis\": {\"gridcolor\": \"white\", \"linecolor\": \"white\", \"ticks\": \"\"}, \"bgcolor\": \"#E5ECF6\", \"caxis\": {\"gridcolor\": \"white\", \"linecolor\": \"white\", \"ticks\": \"\"}}, \"title\": {\"x\": 0.05}, \"xaxis\": {\"automargin\": true, \"gridcolor\": \"white\", \"linecolor\": \"white\", \"ticks\": \"\", \"title\": {\"standoff\": 15}, \"zerolinecolor\": \"white\", \"zerolinewidth\": 2}, \"yaxis\": {\"automargin\": true, \"gridcolor\": \"white\", \"linecolor\": \"white\", \"ticks\": \"\", \"title\": {\"standoff\": 15}, \"zerolinecolor\": \"white\", \"zerolinewidth\": 2}}}, \"xaxis\": {\"anchor\": \"y\", \"categoryorder\": \"total descending\", \"domain\": [0.0, 1.0], \"title\": {\"text\": \"chord\"}}, \"yaxis\": {\"anchor\": \"x\", \"domain\": [0.0, 1.0], \"title\": {\"text\": \"count\"}, \"type\": \"log\"}},\n",
              "                        {\"responsive\": true}\n",
              "                    ).then(function(){\n",
              "                            \n",
              "var gd = document.getElementById('06895a67-7777-4991-9681-f2c52484092a');\n",
              "var x = new MutationObserver(function (mutations, observer) {{\n",
              "        var display = window.getComputedStyle(gd).display;\n",
              "        if (!display || display === 'none') {{\n",
              "            console.log([gd, 'removed!']);\n",
              "            Plotly.purge(gd);\n",
              "            observer.disconnect();\n",
              "        }}\n",
              "}});\n",
              "\n",
              "// Listen for the removal of the full notebook cells\n",
              "var notebookContainer = gd.closest('#notebook-container');\n",
              "if (notebookContainer) {{\n",
              "    x.observe(notebookContainer, {childList: true});\n",
              "}}\n",
              "\n",
              "// Listen for the clearing of the current output cell\n",
              "var outputEl = gd.closest('.output');\n",
              "if (outputEl) {{\n",
              "    x.observe(outputEl, {childList: true});\n",
              "}}\n",
              "\n",
              "                        })\n",
              "                };\n",
              "                \n",
              "            </script>\n",
              "        </div>\n",
              "</body>\n",
              "</html>"
            ]
          },
          "metadata": {}
        }
      ]
    },
    {
      "cell_type": "markdown",
      "metadata": {
        "id": "cG5dtDpkWwLE"
      },
      "source": [
        "Plot Distribution accoring to Zipf's Law\n",
        "\n",
        "source: https://stats.stackexchange.com/questions/331219/characterizing-fitting-word-count-data-into-zipf-power-law-lognormal"
      ]
    },
    {
      "cell_type": "code",
      "metadata": {
        "id": "tazf9QRST5NP"
      },
      "source": [
        "from collections import Counter\n",
        "\n",
        "counter_of_words = df_chords.set_index('chord').to_dict(orient='dict')\n",
        "counter_of_words = Counter(counter_of_words['count'])\n",
        "counter_of_counts = Counter(counter_of_words.values())\n",
        "\n",
        "word_counts = np.array(list(counter_of_counts.keys()))\n",
        "freq_of_word_counts = np.array(list(counter_of_counts.values()))"
      ],
      "execution_count": 41,
      "outputs": []
    },
    {
      "cell_type": "code",
      "metadata": {
        "colab": {
          "base_uri": "https://localhost:8080/",
          "height": 295
        },
        "id": "Jc80DSe7QlkV",
        "outputId": "f67a2df5-2230-4b62-e910-10234d19d45e"
      },
      "source": [
        "plt.scatter(np.log(word_counts), np.log(freq_of_word_counts))\n",
        "plt.xlabel('Log of word frequency')\n",
        "plt.ylabel('Log of number of such words')\n",
        "plt.title('Power law for word frequencies')\n",
        "\n",
        "plt.savefig('plot.png')"
      ],
      "execution_count": 42,
      "outputs": [
        {
          "output_type": "display_data",
          "data": {
            "image/png": "[encoded data removed]",
            "text/plain": [
              "<Figure size 432x288 with 1 Axes>"
            ]
          },
          "metadata": {
            "needs_background": "light"
          }
        }
      ]
    },
    {
      "cell_type": "code",
      "metadata": {
        "colab": {
          "base_uri": "https://localhost:8080/"
        },
        "id": "TRQxnw3XXfit",
        "outputId": "a531273a-2cb7-48c2-c5da-51de67839a35"
      },
      "source": [
        "def neg_zipf_likelihood(s):\n",
        "    n = sum(freq_of_word_counts)\n",
        "    # for each word count, find the probability that a random word has such word count\n",
        "    probas = word_counts ** (-s) / np.sum(np.arange(1, n+1) **(-s))\n",
        "    log_likelihood = sum(np.log(probas) * word_counts)\n",
        "    return -log_likelihood\n",
        "\n",
        "from scipy.optimize import minimize_scalar\n",
        "s_best = minimize_scalar(neg_zipf_likelihood, [0.1, 3.0] )\n",
        "print(s_best.x)"
      ],
      "execution_count": 43,
      "outputs": [
        {
          "output_type": "stream",
          "name": "stdout",
          "text": [
            "-399.3962569709492\n"
          ]
        },
        {
          "output_type": "stream",
          "name": "stderr",
          "text": [
            "/usr/local/lib/python3.7/dist-packages/ipykernel_launcher.py:4: RuntimeWarning:\n",
            "\n",
            "overflow encountered in power\n",
            "\n",
            "/usr/local/lib/python3.7/dist-packages/ipykernel_launcher.py:4: RuntimeWarning:\n",
            "\n",
            "invalid value encountered in true_divide\n",
            "\n",
            "/usr/local/lib/python3.7/dist-packages/scipy/optimize/optimize.py:1986: RuntimeWarning:\n",
            "\n",
            "invalid value encountered in double_scalars\n",
            "\n",
            "/usr/local/lib/python3.7/dist-packages/scipy/optimize/optimize.py:1987: RuntimeWarning:\n",
            "\n",
            "invalid value encountered in double_scalars\n",
            "\n",
            "/usr/local/lib/python3.7/dist-packages/ipykernel_launcher.py:5: RuntimeWarning:\n",
            "\n",
            "divide by zero encountered in log\n",
            "\n"
          ]
        }
      ]
    },
    {
      "cell_type": "code",
      "metadata": {
        "id": "a1IvM4wh7zOv"
      },
      "source": [
        "if use_wandb:\n",
        "  wandb.log(\n",
        "      {\"corpus\": {\n",
        "              \"total_tokens\": total_tokens,\n",
        "              \"vocab_size\": vocab_size,\n",
        "              \"vocab_proportion_in_corpus\": vocab_prop,\n",
        "              \"zipf_plot\": wandb.Image('plot.png'),\n",
        "              }\n",
        "      }\n",
        "  )"
      ],
      "execution_count": 44,
      "outputs": []
    },
    {
      "cell_type": "markdown",
      "metadata": {
        "id": "LeRGFeTn89Uc"
      },
      "source": [
        "# TF-IDF"
      ]
    },
    {
      "cell_type": "code",
      "metadata": {
        "colab": {
          "base_uri": "https://localhost:8080/"
        },
        "id": "pBdUdBNr9Gmu",
        "outputId": "a5d27df7-1dd0-48d0-971a-9ccfd31d2950"
      },
      "source": [
        "dictionary = corpora.Dictionary(processed_corpus)\n",
        "bow_corpus = [dictionary.doc2bow(text) for text in processed_corpus]\n",
        "tfidf = TfidfModel(bow_corpus)"
      ],
      "execution_count": 45,
      "outputs": [
        {
          "output_type": "stream",
          "name": "stderr",
          "text": [
            "2021-11-26 20:15:20,086 : INFO : adding document #0 to Dictionary(0 unique tokens: [])\n",
            "2021-11-26 20:15:20,244 : INFO : built Dictionary(72 unique tokens: ['Am', 'B7', 'C', 'C#', 'C7']...) from 5391 documents (total 82622 corpus positions)\n",
            "2021-11-26 20:15:20,248 : INFO : Dictionary lifecycle event {'msg': \"built Dictionary(72 unique tokens: ['Am', 'B7', 'C', 'C#', 'C7']...) from 5391 documents (total 82622 corpus positions)\", 'datetime': '2021-11-26T20:15:20.248185', 'gensim': '4.1.2', 'python': '3.7.12 (default, Sep 10 2021, 00:21:48) \\n[GCC 7.5.0]', 'platform': 'Linux-5.4.104+-x86_64-with-Ubuntu-18.04-bionic', 'event': 'created'}\n",
            "2021-11-26 20:15:20,312 : INFO : collecting document frequencies\n",
            "2021-11-26 20:15:20,314 : INFO : PROGRESS: processing document #0\n",
            "2021-11-26 20:15:20,332 : INFO : TfidfModel lifecycle event {'msg': 'calculated IDF weights for 5391 documents and 72 features (41238 matrix non-zeros)', 'datetime': '2021-11-26T20:15:20.332614', 'gensim': '4.1.2', 'python': '3.7.12 (default, Sep 10 2021, 00:21:48) \\n[GCC 7.5.0]', 'platform': 'Linux-5.4.104+-x86_64-with-Ubuntu-18.04-bionic', 'event': 'initialize'}\n"
          ]
        }
      ]
    },
    {
      "cell_type": "code",
      "metadata": {
        "id": "9NK-cuax9Kqk"
      },
      "source": [
        "# dictionary.token2id"
      ],
      "execution_count": 46,
      "outputs": []
    },
    {
      "cell_type": "code",
      "metadata": {
        "id": "til5xlce_y1m"
      },
      "source": [
        "!rm -R index\n",
        "!mkdir index"
      ],
      "execution_count": 47,
      "outputs": []
    },
    {
      "cell_type": "code",
      "metadata": {
        "colab": {
          "base_uri": "https://localhost:8080/"
        },
        "id": "tn_fz2M090IM",
        "outputId": "8141e4ef-b1c2-40dd-eb12-700b0ef21d73"
      },
      "source": [
        "# Note: SparseMatrixSimilarity crashes due to lacking memory\n",
        "#from gensim.test.utils import get_tmpfile\n",
        "#index_tmpfile = get_tmpfile(\"index\")\n",
        "#index_tfidf = similarities.Similarity('/content/index/index_tfidf', bow_corpus, num_features=len(dictionary))\n",
        "\n",
        "index_tfidf = similarities.SparseMatrixSimilarity(tfidf[bow_corpus], num_features = len(dictionary))"
      ],
      "execution_count": 48,
      "outputs": [
        {
          "output_type": "stream",
          "name": "stderr",
          "text": [
            "2021-11-26 20:15:20,655 : INFO : creating sparse index\n",
            "2021-11-26 20:15:20,657 : INFO : creating sparse matrix from corpus\n",
            "2021-11-26 20:15:20,663 : INFO : PROGRESS: at document #0\n",
            "2021-11-26 20:15:21,058 : INFO : created <5391x72 sparse matrix of type '<class 'numpy.float32'>'\n",
            "\twith 41238 stored elements in Compressed Sparse Row format>\n"
          ]
        }
      ]
    },
    {
      "cell_type": "code",
      "metadata": {
        "colab": {
          "base_uri": "https://localhost:8080/"
        },
        "id": "VRSUXNPTewqv",
        "outputId": "94348d88-693a-4f89-f0d0-3152a280b2f3"
      },
      "source": [
        "tfidf.save('/content/index/tfidf.model')  # save model\n",
        "index_tfidf.save('/content/index/tfidf.index') #save index"
      ],
      "execution_count": 49,
      "outputs": [
        {
          "output_type": "stream",
          "name": "stderr",
          "text": [
            "2021-11-26 20:15:21,082 : INFO : TfidfModel lifecycle event {'fname_or_handle': '/content/index/tfidf.model', 'separately': 'None', 'sep_limit': 10485760, 'ignore': frozenset(), 'datetime': '2021-11-26T20:15:21.082608', 'gensim': '4.1.2', 'python': '3.7.12 (default, Sep 10 2021, 00:21:48) \\n[GCC 7.5.0]', 'platform': 'Linux-5.4.104+-x86_64-with-Ubuntu-18.04-bionic', 'event': 'saving'}\n",
            "2021-11-26 20:15:21,088 : INFO : saved /content/index/tfidf.model\n",
            "2021-11-26 20:15:21,091 : INFO : SparseMatrixSimilarity lifecycle event {'fname_or_handle': '/content/index/tfidf.index', 'separately': 'None', 'sep_limit': 10485760, 'ignore': frozenset(), 'datetime': '2021-11-26T20:15:21.091084', 'gensim': '4.1.2', 'python': '3.7.12 (default, Sep 10 2021, 00:21:48) \\n[GCC 7.5.0]', 'platform': 'Linux-5.4.104+-x86_64-with-Ubuntu-18.04-bionic', 'event': 'saving'}\n",
            "2021-11-26 20:15:21,095 : INFO : saved /content/index/tfidf.index\n"
          ]
        }
      ]
    },
    {
      "cell_type": "markdown",
      "metadata": {
        "id": "ZLK0coIu9Tv5"
      },
      "source": [
        "## Tests"
      ]
    },
    {
      "cell_type": "code",
      "metadata": {
        "id": "Fzrj1qxwDpJT"
      },
      "source": [
        "def get_sim_scores(tunes, index, model):\n",
        "\n",
        "    df_sim = pd.DataFrame(columns=['reference_title',\n",
        "                                   'reference_titleid',\n",
        "                                   'similar_title',\n",
        "                                   'ref_section', \n",
        "                                   'similar_section', \n",
        "                                   'score', \n",
        "                                  ])\n",
        "\n",
        "    for tune in tunes:\n",
        "      print()\n",
        "      print(\"-\"*50)\n",
        "      for s1 in title_to_sectionid[tune]:\n",
        "      \n",
        "          query = processed_corpus[s1]\n",
        "          query_bow = dictionary.doc2bow(query)\n",
        "\n",
        "          # perform a similarity query against the corpus\n",
        "          similarities = index[model[query_bow]]\n",
        "          sims = sorted(enumerate(similarities), key=lambda item: -item[1])\n",
        "          \n",
        "          print(s1, sectionid_to_section[s1])\n",
        "          n = 0\n",
        "          for s2, s2_score in sims:\n",
        "            \n",
        "            # store the top N best results\n",
        "            if n > 40:\n",
        "                break\n",
        "            # don't count self-similarity between sections of the same tune\n",
        "            if s2 not in title_to_sectionid[tune]:\n",
        "                n += 1\n",
        "            \n",
        "                # print(f\"\\t{s2_score:.3f} {sectionid_to_section[s2]}\")\n",
        "\n",
        "                df_sim.loc[len(df_sim)] = [tune,\n",
        "                                           title_to_titleid[tune],\n",
        "                                           sectionid_to_title[s2],\n",
        "                                           sectionid_to_section[s1], \n",
        "                                           sectionid_to_section[s2], \n",
        "                                           s2_score, \n",
        "                                           ]\n",
        "    return df_sim"
      ],
      "execution_count": 50,
      "outputs": []
    },
    {
      "cell_type": "code",
      "metadata": {
        "id": "OZ0YfkIO9g5V"
      },
      "source": [
        "def recommend_tune(df, tune_name):\n",
        "\n",
        "  df_tune = df.query(f'reference_title == \"{tune_name}\"')\n",
        "  ff = df_tune.iloc[:]\n",
        "\n",
        "  # get the maximum similarity score for each section and store in new column\n",
        "  ff['max'] = ff.groupby('ref_section')['score'].transform('max')\n",
        "\n",
        "  # scale the score with the maxmum value of each section\n",
        "  ff['score_div_max'] = ff['score'] / ff['max']\n",
        "\n",
        "  # consider only the top N tunes for each group\n",
        "  ff = ff.sort_values(['ref_section', 'score_div_max'], ascending=[True, False])\n",
        "  result = ff.groupby('ref_section').head(30)\n",
        "  \n",
        "  # if multiple rows from the same similar tune, keep only the similar_title with the highest score_div_max\n",
        "  ### TODO not needed anymore\n",
        "  result = result.groupby('similar_title').max('score_div_max').sort_values('score_div_max', ascending=False)\n",
        "\n",
        "  # add the name of the reference tune\n",
        "  result['reference'] = tune_name\n",
        "  result['reference_titleid'] = title_to_titleid[tune_name]\n",
        "  result = result.reset_index()\n",
        "  result = result.loc[:, ['reference', 'reference_titleid', 'similar_title', 'score', 'max', 'score_div_max']]\n",
        "  result = result.reset_index()\n",
        "  return result, ff"
      ],
      "execution_count": 51,
      "outputs": []
    },
    {
      "cell_type": "markdown",
      "metadata": {
        "id": "S4RKQCihX02Q"
      },
      "source": [
        "### Single Tunes"
      ]
    },
    {
      "cell_type": "code",
      "metadata": {
        "colab": {
          "base_uri": "https://localhost:8080/"
        },
        "id": "5Wz4ZQk_EKZy",
        "outputId": "ce7542ca-2de3-4d0c-b5f0-4521dfd8c79f"
      },
      "source": [
        "%%time\n",
        "df_sim = get_sim_scores(tunes_eval_list, index_tfidf, tfidf)\n",
        "\n",
        "# save a copy of the results; all results will be concatenated at the end\n",
        "df_tfidf = df_sim[:]"
      ],
      "execution_count": 52,
      "outputs": [
        {
          "output_type": "stream",
          "name": "stdout",
          "text": [
            "\n",
            "--------------------------------------------------\n",
            "125 After You've Gone, section1 (A)\n",
            "126 After You've Gone, section2 (B)\n",
            "127 After You've Gone, section3 (A)\n",
            "128 After You've Gone, section4 (C)\n",
            "\n",
            "--------------------------------------------------\n",
            "188 All God's Chillun Got Rhythm, section1 (A)\n",
            "189 All God's Chillun Got Rhythm, section2 (B)\n",
            "190 All God's Chillun Got Rhythm, section3 (A)\n",
            "191 All God's Chillun Got Rhythm, section4 (C)\n",
            "\n",
            "--------------------------------------------------\n",
            "198 All Of Me, section1 (A)\n",
            "199 All Of Me, section2 (B)\n",
            "200 All Of Me, section3 (A)\n",
            "201 All Of Me, section4 (C)\n",
            "\n",
            "--------------------------------------------------\n",
            "474 Blood Count, section1 (A)\n",
            "475 Blood Count, section2 (A)\n",
            "476 Blood Count, section3 (B)\n",
            "477 Blood Count, section4 (A)\n",
            "478 Blood Count, section5 (C)\n",
            "\n",
            "--------------------------------------------------\n",
            "496 Blue Moon, section1 (A)\n",
            "497 Blue Moon, section2 (A)\n",
            "498 Blue Moon, section3 (B)\n",
            "499 Blue Moon, section4 (A)\n",
            "\n",
            "--------------------------------------------------\n",
            "626 But Beautiful, section1 (A)\n",
            "627 But Beautiful, section2 (B)\n",
            "628 But Beautiful, section3 (A)\n",
            "629 But Beautiful, section4 (C)\n",
            "\n",
            "--------------------------------------------------\n",
            "653 Bye Bye Blackbird, section1 (A)\n",
            "654 Bye Bye Blackbird, section2 (B)\n",
            "\n",
            "--------------------------------------------------\n",
            "676 Call Me Irresponsible, section1 (A)\n",
            "677 Call Me Irresponsible, section2 (B)\n",
            "678 Call Me Irresponsible, section3 (A)\n",
            "679 Call Me Irresponsible, section4 (B)\n",
            "\n",
            "--------------------------------------------------\n",
            "826 Corcovado, section1 (A)\n",
            "827 Corcovado, section2 (B)\n",
            "828 Corcovado, section3 (A)\n",
            "829 Corcovado, section4 (C)\n",
            "\n",
            "--------------------------------------------------\n",
            "997 Dinah, section1 (A)\n",
            "998 Dinah, section2 (A)\n",
            "999 Dinah, section3 (B)\n",
            "1000 Dinah, section4 (A)\n",
            "\n",
            "--------------------------------------------------\n",
            "1125 East Of The Sun, section1 (A)\n",
            "1126 East Of The Sun, section2 (B)\n",
            "1127 East Of The Sun, section3 (A)\n",
            "1128 East Of The Sun, section4 (C)\n",
            "\n",
            "--------------------------------------------------\n",
            "1287 Footprints, section0 (nan)\n",
            "\n",
            "--------------------------------------------------\n",
            "1379 Giant Steps, section0 (nan)\n",
            "\n",
            "--------------------------------------------------\n",
            "1538 Honeysuckle Rose, section1 (A)\n",
            "1539 Honeysuckle Rose, section2 (A)\n",
            "1540 Honeysuckle Rose, section3 (B)\n",
            "1541 Honeysuckle Rose, section4 (A)\n",
            "\n",
            "--------------------------------------------------\n",
            "1647 I Got Rhythm, section1 (A)\n",
            "1648 I Got Rhythm, section2 (A)\n",
            "1649 I Got Rhythm, section3 (B)\n",
            "1650 I Got Rhythm, section4 (A)\n",
            "\n",
            "--------------------------------------------------\n",
            "2670 Misty, section1 (A)\n",
            "2671 Misty, section2 (A)\n",
            "2672 Misty, section3 (B)\n",
            "2673 Misty, section4 (A)\n",
            "\n",
            "--------------------------------------------------\n",
            "2857 Naima, section1 (A)\n",
            "2858 Naima, section2 (A)\n",
            "2859 Naima, section3 (B)\n",
            "2860 Naima, section4 (A)\n",
            "\n",
            "--------------------------------------------------\n",
            "5044 Old Fashioned Love, section0 (nan)\n",
            "\n",
            "--------------------------------------------------\n",
            "3142 Perdido, section1 (A)\n",
            "3143 Perdido, section2 (A)\n",
            "3144 Perdido, section3 (B)\n",
            "3145 Perdido, section4 (A)\n",
            "\n",
            "--------------------------------------------------\n",
            "3276 Rockin' Chair, section1 (A)\n",
            "3277 Rockin' Chair, section2 (B)\n",
            "3278 Rockin' Chair, section3 (A)\n",
            "\n",
            "--------------------------------------------------\n",
            "3578 Sophisticated Lady, section1 (A)\n",
            "3579 Sophisticated Lady, section2 (A)\n",
            "3580 Sophisticated Lady, section3 (B)\n",
            "3581 Sophisticated Lady, section4 (A)\n",
            "\n",
            "--------------------------------------------------\n",
            "3746 Sweet Sue, Just You, section1 (A)\n",
            "3747 Sweet Sue, Just You, section2 (A)\n",
            "3748 Sweet Sue, Just You, section3 (B)\n",
            "3749 Sweet Sue, Just You, section4 (A)\n",
            "\n",
            "--------------------------------------------------\n",
            "3860 These Foolish Things, section1 (A)\n",
            "3861 These Foolish Things, section2 (A)\n",
            "3862 These Foolish Things, section3 (B)\n",
            "3863 These Foolish Things, section4 (A)\n",
            "\n",
            "--------------------------------------------------\n",
            "4146 We'll Be Together Again, section1 (A)\n",
            "4147 We'll Be Together Again, section2 (A)\n",
            "4148 We'll Be Together Again, section3 (B)\n",
            "4149 We'll Be Together Again, section4 (A)\n",
            "CPU times: user 20.8 s, sys: 357 ms, total: 21.1 s\n",
            "Wall time: 21 s\n"
          ]
        }
      ]
    },
    {
      "cell_type": "code",
      "metadata": {
        "colab": {
          "base_uri": "https://localhost:8080/",
          "height": 542
        },
        "id": "yzRuIKVh9c8g",
        "outputId": "30c767f1-16f7-4070-9635-4461e829c205"
      },
      "source": [
        "import plotly.express as px\n",
        "fig = px.histogram(df_sim, x=\"score\", nbins=50, title='Scores for TF-IDF')\n",
        "fig.show()"
      ],
      "execution_count": 53,
      "outputs": [
        {
          "output_type": "display_data",
          "data": {
            "text/html": [
              "<html>\n",
              "<head><meta charset=\"utf-8\" /></head>\n",
              "<body>\n",
              "    <div>\n",
              "            <script src=\"https://cdnjs.cloudflare.com/ajax/libs/mathjax/2.7.5/MathJax.js?config=TeX-AMS-MML_SVG\"></script><script type=\"text/javascript\">if (window.MathJax) {MathJax.Hub.Config({SVG: {font: \"STIX-Web\"}});}</script>\n",
              "                <script type=\"text/javascript\">window.PlotlyConfig = {MathJaxConfig: 'local'};</script>\n",
              "        <script src=\"https://cdn.plot.ly/plotly-latest.min.js\"></script>    \n",
              "            <div id=\"6aa8d7af-6139-49ab-a23e-e70ea11eea3d\" class=\"plotly-graph-div\" style=\"height:525px; width:100%;\"></div>\n",
              "            <script type=\"text/javascript\">\n",
              "                \n",
              "                    window.PLOTLYENV=window.PLOTLYENV || {};\n",
              "                    \n",
              "                if (document.getElementById(\"6aa8d7af-6139-49ab-a23e-e70ea11eea3d\")) {\n",
              "                    Plotly.newPlot(\n",
              "                        '6aa8d7af-6139-49ab-a23e-e70ea11eea3d',\n",
              "                        [{\"alignmentgroup\": \"True\", \"bingroup\": \"x\", \"hoverlabel\": {\"namelength\": 0}, \"hovertemplate\": \"score=%{x}<br>count=%{y}\", \"legendgroup\": \"\", \"marker\": {\"color\": \"#636efa\"}, \"name\": \"\", \"nbinsx\": 50, \"offsetgroup\": \"\", \"orientation\": \"v\", \"showlegend\": false, \"type\": \"histogram\", \"x\": [0.9196498990058899, 0.9038835763931274, 0.8636550903320312, 0.8334907293319702, 0.824112594127655, 0.8160545825958252, 0.7915235161781311, 0.7816696166992188, 0.7691226005554199, 0.7691226005554199, 0.7682342529296875, 0.7664930820465088, 0.7659552097320557, 0.7659552097320557, 0.7590219974517822, 0.7588516473770142, 0.7576762437820435, 0.7568140029907227, 0.7529098987579346, 0.7524664998054504, 0.7522726655006409, 0.7520843744277954, 0.7520843744277954, 0.7520843744277954, 0.7471569776535034, 0.7444037199020386, 0.7423614263534546, 0.74235999584198, 0.739997148513794, 0.7390285730361938, 0.7368913888931274, 0.734599232673645, 0.7338535785675049, 0.7325950860977173, 0.7304829359054565, 0.7280595302581787, 0.7270792722702026, 0.7263361215591431, 0.7245472073554993, 0.7174606919288635, 0.7159350514411926, 0.9814482927322388, 0.8517615795135498, 0.8486486673355103, 0.8482421040534973, 0.8427440524101257, 0.8406634330749512, 0.8275892734527588, 0.8192987442016602, 0.8117809295654297, 0.811701774597168, 0.811701774597168, 0.8079831004142761, 0.8079831004142761, 0.8078351616859436, 0.8078351616859436, 0.8078351616859436, 0.8053922057151794, 0.8053922057151794, 0.8017070293426514, 0.7978596687316895, 0.7978596687316895, 0.7962182760238647, 0.7962182760238647, 0.7962182760238647, 0.7943533658981323, 0.7922220230102539, 0.7917803525924683, 0.7917803525924683, 0.7917803525924683, 0.7903007864952087, 0.7761004567146301, 0.7713346481323242, 0.7694153785705566, 0.7662871479988098, 0.7635675668716431, 0.759512186050415, 0.759512186050415, 0.7588400840759277, 0.7561815977096558, 0.7525441646575928, 0.737202525138855, 0.9196498990058899, 0.9038835763931274, 0.8636550903320312, 0.8334907293319702, 0.824112594127655, 0.8160545825958252, 0.7915235161781311, 0.7816696166992188, 0.7691226005554199, 0.7691226005554199, 0.7682342529296875, 0.7664930820465088, 0.7659552097320557, 0.7659552097320557, 0.7590219974517822, 0.7588516473770142, 0.7576762437820435, 0.7568140029907227, 0.7529098987579346, 0.7524664998054504, 0.7522726655006409, 0.7520843744277954, 0.7520843744277954, 0.7520843744277954, 0.7471569776535034, 0.7444037199020386, 0.7423614263534546, 0.74235999584198, 0.739997148513794, 0.7390285730361938, 0.7368913888931274, 0.734599232673645, 0.7338535785675049, 0.7325950860977173, 0.7304829359054565, 0.7280595302581787, 0.7270792722702026, 0.7263361215591431, 0.7245472073554993, 0.7174606919288635, 0.7159350514411926, 0.7988332509994507, 0.7571793794631958, 0.755961000919342, 0.7110116481781006, 0.683812141418457, 0.6770783066749573, 0.6724339723587036, 0.6724339723587036, 0.6716110706329346, 0.6689857840538025, 0.6677476167678833, 0.6676556468009949, 0.6655557155609131, 0.6609022617340088, 0.6595385074615479, 0.6556394696235657, 0.653907299041748, 0.6502991914749146, 0.6501607298851013, 0.6490207314491272, 0.6473608016967773, 0.6473608016967773, 0.6439809203147888, 0.6433144807815552, 0.6419485807418823, 0.6411663293838501, 0.6411663293838501, 0.6401801109313965, 0.640103816986084, 0.6380766034126282, 0.6368190050125122, 0.6332792639732361, 0.6311559677124023, 0.6309893131256104, 0.6304101347923279, 0.6253141164779663, 0.6229937076568604, 0.6200482249259949, 0.6190189123153687, 0.6189002394676208, 0.6177464127540588, 0.9397115111351013, 0.9194867610931396, 0.9194867610931396, 0.892963707447052, 0.8918523788452148, 0.8917567729949951, 0.8863569498062134, 0.8863569498062134, 0.8836269378662109, 0.873469889163971, 0.8658664226531982, 0.863305389881134, 0.8624122142791748, 0.8454968333244324, 0.8454968333244324, 0.8427064418792725, 0.8335333466529846, 0.8250203132629395, 0.8226759433746338, 0.8206421136856079, 0.8198801279067993, 0.8148050904273987, 0.8144387006759644, 0.8143880367279053, 0.8139020800590515, 0.8115921020507812, 0.8063544631004333, 0.8053866624832153, 0.8049531579017639, 0.8035845756530762, 0.8021021485328674, 0.8019027709960938, 0.800730288028717, 0.799741268157959, 0.797563910484314, 0.7940771579742432, 0.7916789650917053, 0.7886238694190979, 0.7854465842247009, 0.7853098511695862, 0.7853098511695862, 0.9380967617034912, 0.9201012849807739, 0.9108278155326843, 0.9017132520675659, 0.8984218239784241, 0.8892538547515869, 0.8833591938018799, 0.8819999694824219, 0.8748977184295654, 0.873773455619812, 0.8668359518051147, 0.8668359518051147, 0.8659693002700806, 0.8640252351760864, 0.8601872324943542, 0.8546648621559143, 0.8543300628662109, 0.8523354530334473, 0.8409455418586731, 0.8396477699279785, 0.8388117551803589, 0.8376345634460449, 0.8376345634460449, 0.8333179354667664, 0.8320283889770508, 0.8320283889770508, 0.8316603899002075, 0.8315098285675049, 0.8297417163848877, 0.8285934925079346, 0.825969934463501, 0.8251199722290039, 0.8248232007026672, 0.8242313861846924, 0.8222854137420654, 0.8216500282287598, 0.8194229602813721, 0.8184525966644287, 0.8165206909179688, 0.8148767948150635, 0.8086245059967041, 0.9397115111351013, 0.9194867610931396, 0.9194867610931396, 0.892963707447052, 0.8918523788452148, 0.8917567729949951, 0.8863569498062134, 0.8863569498062134, 0.8836269378662109, 0.873469889163971, 0.8658664226531982, 0.863305389881134, 0.8624122142791748, 0.8454968333244324, 0.8454968333244324, 0.8427064418792725, 0.8335333466529846, 0.8250203132629395, 0.8226759433746338, 0.8206421136856079, 0.8198801279067993, 0.8148050904273987, 0.8144387006759644, 0.8143880367279053, 0.8139020800590515, 0.8115921020507812, 0.8063544631004333, 0.8053866624832153, 0.8049531579017639, 0.8035845756530762, 0.8021021485328674, 0.8019027709960938, 0.800730288028717, 0.799741268157959, 0.797563910484314, 0.7940771579742432, 0.7916789650917053, 0.7886238694190979, 0.7854465842247009, 0.7853098511695862, 0.7853098511695862, 0.9092954993247986, 0.8951758146286011, 0.8917471766471863, 0.8915888071060181, 0.8810214400291443, 0.8793514966964722, 0.8760710954666138, 0.8750938177108765, 0.8741723299026489, 0.8740540742874146, 0.8690007925033569, 0.8610731959342957, 0.8535624742507935, 0.845422625541687, 0.8442277908325195, 0.8442277908325195, 0.8438037633895874, 0.8438037633895874, 0.8424831628799438, 0.841221034526825, 0.8352027535438538, 0.8349018096923828, 0.8266713619232178, 0.8264580965042114, 0.8162604570388794, 0.8153887391090393, 0.8144327998161316, 0.8141549825668335, 0.8111577033996582, 0.8111577033996582, 0.8102318048477173, 0.8086626529693604, 0.8021758794784546, 0.801570475101471, 0.796245276927948, 0.7939655780792236, 0.7933088541030884, 0.7919511795043945, 0.7881073951721191, 0.7860948443412781, 0.7854905128479004, 0.9245520830154419, 0.9209256172180176, 0.9209256172180176, 0.9174246191978455, 0.8842459917068481, 0.8705299496650696, 0.8699769973754883, 0.8665006160736084, 0.8663963079452515, 0.8644928932189941, 0.8498772382736206, 0.8498772382736206, 0.8334197998046875, 0.8334197998046875, 0.8334197998046875, 0.8334197998046875, 0.8324093818664551, 0.8321807384490967, 0.8175874352455139, 0.799274206161499, 0.799274206161499, 0.799274206161499, 0.7957618832588196, 0.7942184805870056, 0.7938315868377686, 0.792604923248291, 0.7905980348587036, 0.7905980348587036, 0.7887603640556335, 0.7885164618492126, 0.7855602502822876, 0.7842437028884888, 0.7842437028884888, 0.7826164960861206, 0.7817665338516235, 0.7817665338516235, 0.7804127931594849, 0.7743963003158569, 0.7719557881355286, 0.7704613208770752, 0.7690445780754089, 0.9904404878616333, 0.9904404878616333, 0.9904404878616333, 0.9727900624275208, 0.9470866322517395, 0.935715913772583, 0.9347223043441772, 0.9347223043441772, 0.9341075420379639, 0.9341075420379639, 0.9324896931648254, 0.9278632998466492, 0.9278632998466492, 0.9274939894676208, 0.9267227053642273, 0.9218592047691345, 0.9183245897293091, 0.9152311682701111, 0.9132879376411438, 0.9110441207885742, 0.9109437465667725, 0.8839449286460876, 0.8726488351821899, 0.8680610060691833, 0.866985559463501, 0.8658866286277771, 0.8651968836784363, 0.8645103573799133, 0.8621498942375183, 0.8560949563980103, 0.853860080242157, 0.8479548692703247, 0.8479548692703247, 0.8465121984481812, 0.8454249501228333, 0.8454249501228333, 0.8426265120506287, 0.8418941497802734, 0.8416450619697571, 0.8390549421310425, 0.8337148427963257, 0.9245520830154419, 0.9209256172180176, 0.9209256172180176, 0.9174246191978455, 0.8842459917068481, 0.8705299496650696, 0.8699769973754883, 0.8665006160736084, 0.8663963079452515, 0.8644928932189941, 0.8498772382736206, 0.8498772382736206, 0.8334197998046875, 0.8334197998046875, 0.8334197998046875, 0.8334197998046875, 0.8324093818664551, 0.8321807384490967, 0.8175874352455139, 0.799274206161499, 0.799274206161499, 0.799274206161499, 0.7957618832588196, 0.7942184805870056, 0.7938315868377686, 0.792604923248291, 0.7905980348587036, 0.7905980348587036, 0.7887603640556335, 0.7885164618492126, 0.7855602502822876, 0.7842437028884888, 0.7842437028884888, 0.7826164960861206, 0.7817665338516235, 0.7817665338516235, 0.7804127931594849, 0.7743963003158569, 0.7719557881355286, 0.7704613208770752, 0.7690445780754089, 0.949884831905365, 0.9329653978347778, 0.9329653978347778, 0.9198912382125854, 0.8997784852981567, 0.8638937473297119, 0.8620119094848633, 0.86069655418396, 0.8592320680618286, 0.8592320680618286, 0.8582180738449097, 0.8524217009544373, 0.8524217009544373, 0.8512078523635864, 0.8474264144897461, 0.836890459060669, 0.8350417613983154, 0.8280481100082397, 0.8229798078536987, 0.8229163289070129, 0.8206647634506226, 0.8177601099014282, 0.8140424489974976, 0.8132263422012329, 0.8132263422012329, 0.813092827796936, 0.8130879402160645, 0.8112082481384277, 0.8103513717651367, 0.8101230263710022, 0.8079258799552917, 0.8049681186676025, 0.804000198841095, 0.804000198841095, 0.8030858039855957, 0.7999894618988037, 0.7979123592376709, 0.7944203615188599, 0.7935808897018433, 0.7935808897018433, 0.7901158928871155, 0.8235363960266113, 0.8160116672515869, 0.8121883869171143, 0.8049639463424683, 0.8033714890480042, 0.8033714890480042, 0.7802966833114624, 0.7746341824531555, 0.745071291923523, 0.7420724034309387, 0.7388862371444702, 0.7371229529380798, 0.7367401123046875, 0.7367401123046875, 0.7352069616317749, 0.7351706027984619, 0.7225515842437744, 0.7201423645019531, 0.7191691398620605, 0.7185551524162292, 0.7175139784812927, 0.7157052755355835, 0.7151883840560913, 0.7151883840560913, 0.7140706777572632, 0.6992431879043579, 0.6926118731498718, 0.6887525320053101, 0.6872329711914062, 0.680305004119873, 0.6733143925666809, 0.673061192035675, 0.673061192035675, 0.671902596950531, 0.6686307787895203, 0.6686307787895203, 0.6677604913711548, 0.6577584147453308, 0.6553854942321777, 0.6401349306106567, 0.6373518109321594, 0.8888208866119385, 0.8005372285842896, 0.8005372285842896, 0.7900215983390808, 0.7900215983390808, 0.7900215983390808, 0.7897839546203613, 0.7887325286865234, 0.7835365533828735, 0.7667278051376343, 0.7535243630409241, 0.7535243630409241, 0.7535243630409241, 0.7528121471405029, 0.7528121471405029, 0.7526219487190247, 0.7526219487190247, 0.7526219487190247, 0.7526219487190247, 0.7526219487190247, 0.7526219487190247, 0.7357237935066223, 0.7357237935066223, 0.7357237935066223, 0.7316656708717346, 0.7116043567657471, 0.7111107707023621, 0.711104691028595, 0.711104691028595, 0.710640549659729, 0.6953305602073669, 0.6869952082633972, 0.6866628527641296, 0.68463134765625, 0.6783994436264038, 0.6719048023223877, 0.6655678153038025, 0.6586906313896179, 0.6581341028213501, 0.65219646692276, 0.6508903503417969, 0.7598773241043091, 0.6216225028038025, 0.6216225028038025, 0.6216225028038025, 0.6094653606414795, 0.6068716645240784, 0.5978227853775024, 0.5934688448905945, 0.5798888206481934, 0.5612296462059021, 0.5444650650024414, 0.5388853549957275, 0.522502601146698, 0.520549476146698, 0.5154673457145691, 0.511829137802124, 0.4899074137210846, 0.48758044838905334, 0.48498618602752686, 0.48394662141799927, 0.4763314723968506, 0.4704214632511139, 0.46967583894729614, 0.46835610270500183, 0.4681409001350403, 0.464672327041626, 0.4641335606575012, 0.4582619071006775, 0.4582619071006775, 0.4534752368927002, 0.45203855633735657, 0.45203855633735657, 0.45203855633735657, 0.45203855633735657, 0.44460055232048035, 0.44460055232048035, 0.44460055232048035, 0.4434477686882019, 0.4433066248893738, 0.44276541471481323, 0.4423691928386688, 0.8888208866119385, 0.8005372285842896, 0.8005372285842896, 0.7900215983390808, 0.7900215983390808, 0.7900215983390808, 0.7897839546203613, 0.7887325286865234, 0.7835365533828735, 0.7667278051376343, 0.7535243630409241, 0.7535243630409241, 0.7535243630409241, 0.7528121471405029, 0.7528121471405029, 0.7526219487190247, 0.7526219487190247, 0.7526219487190247, 0.7526219487190247, 0.7526219487190247, 0.7526219487190247, 0.7357237935066223, 0.7357237935066223, 0.7357237935066223, 0.7316656708717346, 0.7116043567657471, 0.7111107707023621, 0.711104691028595, 0.711104691028595, 0.710640549659729, 0.6953305602073669, 0.6869952082633972, 0.6866628527641296, 0.68463134765625, 0.6783994436264038, 0.6719048023223877, 0.6655678153038025, 0.6586906313896179, 0.6581341028213501, 0.65219646692276, 0.6508903503417969, 0.8256626129150391, 0.7966032028198242, 0.7709292769432068, 0.7641631364822388, 0.7338792085647583, 0.7338792085647583, 0.7338792085647583, 0.7328647375106812, 0.6977938413619995, 0.6977938413619995, 0.6874553561210632, 0.6853927373886108, 0.6758224368095398, 0.6612513065338135, 0.6612513065338135, 0.6558610200881958, 0.6528981328010559, 0.6325947046279907, 0.6146206259727478, 0.6110367178916931, 0.6109567880630493, 0.6104909181594849, 0.6100600957870483, 0.6015530824661255, 0.6006861925125122, 0.6006861925125122, 0.5995577573776245, 0.5920734405517578, 0.5903062224388123, 0.5856696367263794, 0.5842015147209167, 0.5833631753921509, 0.579399824142456, 0.5784536600112915, 0.5784536600112915, 0.5774929523468018, 0.5774929523468018, 0.5774929523468018, 0.5743519067764282, 0.5719600319862366, 0.5719600319862366, 0.8933001756668091, 0.8388532400131226, 0.8309425115585327, 0.8306958675384521, 0.8306958675384521, 0.8018500804901123, 0.7803573608398438, 0.7798985242843628, 0.779406726360321, 0.779406726360321, 0.777599573135376, 0.7741724848747253, 0.7672023177146912, 0.7672023177146912, 0.7641288042068481, 0.7599989175796509, 0.7599989175796509, 0.7595903873443604, 0.7595903873443604, 0.7595138549804688, 0.7583276629447937, 0.754923939704895, 0.754923939704895, 0.754923939704895, 0.7545021772384644, 0.753126323223114, 0.7504846453666687, 0.7424701452255249, 0.7396420240402222, 0.7351247668266296, 0.7351247668266296, 0.7350060939788818, 0.733483076095581, 0.733483076095581, 0.7321872711181641, 0.7318012714385986, 0.7286954522132874, 0.7286954522132874, 0.7270418405532837, 0.7249692678451538, 0.7249692678451538, 0.8060271739959717, 0.7922964096069336, 0.790303111076355, 0.788456916809082, 0.7877241373062134, 0.7853943705558777, 0.7816245555877686, 0.7740349173545837, 0.764266848564148, 0.7627989649772644, 0.7555851340293884, 0.7555851340293884, 0.7422516345977783, 0.7422516345977783, 0.739075243473053, 0.739075243473053, 0.7362512350082397, 0.7362512350082397, 0.7355872392654419, 0.7342073917388916, 0.7342073917388916, 0.7257616519927979, 0.7240099906921387, 0.7157902717590332, 0.7123734354972839, 0.7116974592208862, 0.7115635871887207, 0.7077223062515259, 0.7076535820960999, 0.7068063616752625, 0.7058719396591187, 0.7014266848564148, 0.7011780738830566, 0.6973915696144104, 0.6973915696144104, 0.6952229142189026, 0.6898021101951599, 0.6855069398880005, 0.6827013492584229, 0.6817157864570618, 0.675003170967102, 0.8240283131599426, 0.78410404920578, 0.7246643304824829, 0.7194687128067017, 0.7167586088180542, 0.7081409096717834, 0.7038677334785461, 0.6999416351318359, 0.6878319978713989, 0.6820310354232788, 0.6568054556846619, 0.6562180519104004, 0.6538599729537964, 0.6538599729537964, 0.6538599729537964, 0.6538202166557312, 0.6517043113708496, 0.6426697373390198, 0.641345739364624, 0.6390509009361267, 0.6301211714744568, 0.6291141510009766, 0.6281273365020752, 0.6264535188674927, 0.6226780414581299, 0.6209642291069031, 0.6185563802719116, 0.6152039766311646, 0.6144315600395203, 0.6130352020263672, 0.6130101084709167, 0.6105774641036987, 0.6084623336791992, 0.60792076587677, 0.6021481156349182, 0.5963396430015564, 0.5934290289878845, 0.5899207592010498, 0.5877324342727661, 0.5847985744476318, 0.5736384987831116, 0.8933001756668091, 0.8388532400131226, 0.8309425115585327, 0.8306958675384521, 0.8306958675384521, 0.8018500804901123, 0.7803573608398438, 0.7798985242843628, 0.779406726360321, 0.779406726360321, 0.777599573135376, 0.7741724848747253, 0.7672023177146912, 0.7672023177146912, 0.7641288042068481, 0.7599989175796509, 0.7599989175796509, 0.7595903873443604, 0.7595903873443604, 0.7595138549804688, 0.7583276629447937, 0.754923939704895, 0.754923939704895, 0.754923939704895, 0.7545021772384644, 0.753126323223114, 0.7504846453666687, 0.7424701452255249, 0.7396420240402222, 0.7351247668266296, 0.7351247668266296, 0.7350060939788818, 0.733483076095581, 0.733483076095581, 0.7321872711181641, 0.7318012714385986, 0.7286954522132874, 0.7286954522132874, 0.7270418405532837, 0.7249692678451538, 0.7249692678451538, 0.9382315874099731, 0.9106018543243408, 0.9106018543243408, 0.9078210592269897, 0.8945432305335999, 0.8945432305335999, 0.8899151682853699, 0.8815053105354309, 0.8779960870742798, 0.8697571158409119, 0.8584032654762268, 0.8508185744285583, 0.8404878377914429, 0.839050829410553, 0.8374419212341309, 0.8374419212341309, 0.8315833806991577, 0.8207336664199829, 0.8140221238136292, 0.8135877251625061, 0.8098987340927124, 0.8095626831054688, 0.8067116737365723, 0.8014845848083496, 0.8002190589904785, 0.7980751991271973, 0.7973915338516235, 0.794553279876709, 0.791086733341217, 0.7903101444244385, 0.7885880470275879, 0.7885420322418213, 0.7885420322418213, 0.7876542806625366, 0.7841812372207642, 0.7804253101348877, 0.7792696356773376, 0.7792696356773376, 0.7765580415725708, 0.7765178680419922, 0.7755371332168579, 0.9727869033813477, 0.970969021320343, 0.9420433640480042, 0.9116808176040649, 0.8944628238677979, 0.8923947215080261, 0.8923947215080261, 0.8885407447814941, 0.8824141025543213, 0.8808543682098389, 0.878020167350769, 0.8768462538719177, 0.8712124824523926, 0.8662111759185791, 0.8662111759185791, 0.8617545962333679, 0.8617545962333679, 0.8551779985427856, 0.8510341048240662, 0.845887303352356, 0.8456859588623047, 0.8454684019088745, 0.8413792848587036, 0.8390040397644043, 0.8390040397644043, 0.8283773064613342, 0.8258047103881836, 0.8164576292037964, 0.8164280652999878, 0.814202606678009, 0.814202606678009, 0.8130785822868347, 0.8118199110031128, 0.8077182769775391, 0.8075056672096252, 0.8074648976325989, 0.8053199648857117, 0.80381840467453, 0.803563117980957, 0.8023645281791687, 0.8008039593696594, 0.9382315874099731, 0.9106018543243408, 0.9106018543243408, 0.9078210592269897, 0.8945432305335999, 0.8945432305335999, 0.8899151682853699, 0.8815053105354309, 0.8779960870742798, 0.8697571158409119, 0.8584032654762268, 0.8508185744285583, 0.8404878377914429, 0.839050829410553, 0.8374419212341309, 0.8374419212341309, 0.8315833806991577, 0.8207336664199829, 0.8140221238136292, 0.8135877251625061, 0.8098987340927124, 0.8095626831054688, 0.8067116737365723, 0.8014845848083496, 0.8002190589904785, 0.7980751991271973, 0.7973915338516235, 0.794553279876709, 0.791086733341217, 0.7903101444244385, 0.7885880470275879, 0.7885420322418213, 0.7885420322418213, 0.7876542806625366, 0.7841812372207642, 0.7804253101348877, 0.7792696356773376, 0.7792696356773376, 0.7765580415725708, 0.7765178680419922, 0.7755371332168579, 0.8907605409622192, 0.8907605409622192, 0.8881603479385376, 0.8881603479385376, 0.8796150088310242, 0.8717153072357178, 0.8604875206947327, 0.8381379246711731, 0.8304458856582642, 0.8288041353225708, 0.8264509439468384, 0.8182826042175293, 0.8182826042175293, 0.8143113255500793, 0.8134340643882751, 0.803749680519104, 0.8018821477890015, 0.8004822134971619, 0.7996741533279419, 0.7983058094978333, 0.7982409000396729, 0.7949161529541016, 0.7933555841445923, 0.7933555841445923, 0.7930272221565247, 0.7930272221565247, 0.7887824773788452, 0.7887824773788452, 0.7887824773788452, 0.7873685956001282, 0.7873685956001282, 0.7872574329376221, 0.7868430614471436, 0.785815954208374, 0.7823376059532166, 0.7809036374092102, 0.7809036374092102, 0.7809036374092102, 0.7809036374092102, 0.7807348370552063, 0.7802766561508179, 0.9434819221496582, 0.928325891494751, 0.9075089693069458, 0.9021630883216858, 0.8466262221336365, 0.8431141972541809, 0.8429650068283081, 0.8428629636764526, 0.8427742719650269, 0.8290285468101501, 0.8272480964660645, 0.8261188268661499, 0.8261188268661499, 0.8214958906173706, 0.8147320747375488, 0.811813235282898, 0.8085433840751648, 0.808493435382843, 0.8063919544219971, 0.8063919544219971, 0.8019027709960938, 0.8019027709960938, 0.8011347055435181, 0.7975443005561829, 0.7961540818214417, 0.7936240434646606, 0.7934329509735107, 0.7916268110275269, 0.790030837059021, 0.7890666723251343, 0.7856588959693909, 0.7856588959693909, 0.7850852012634277, 0.781430721282959, 0.7808881998062134, 0.7808881998062134, 0.7781732082366943, 0.7772074937820435, 0.7763091325759888, 0.7676542401313782, 0.7672832012176514, 0.9062701463699341, 0.9062701463699341, 0.8163251876831055, 0.8133508563041687, 0.7995826005935669, 0.7887556552886963, 0.7653709650039673, 0.764266848564148, 0.738884687423706, 0.7361241579055786, 0.7318238615989685, 0.7308263778686523, 0.7307897806167603, 0.7274258136749268, 0.7186199426651001, 0.7186199426651001, 0.7115868926048279, 0.7080963850021362, 0.7013696432113647, 0.7013488411903381, 0.7013488411903381, 0.699652373790741, 0.6991533041000366, 0.6978016495704651, 0.6943079829216003, 0.6922152042388916, 0.6876507997512817, 0.6872959136962891, 0.6872959136962891, 0.687239408493042, 0.685708224773407, 0.685708224773407, 0.6820380687713623, 0.6794185638427734, 0.6771212816238403, 0.6756483316421509, 0.6756483316421509, 0.6744850873947144, 0.674102246761322, 0.672876238822937, 0.6724757552146912, 0.9159203171730042, 0.9082893133163452, 0.8956456184387207, 0.8930066823959351, 0.8841756582260132, 0.8802178502082825, 0.8751527070999146, 0.8736675977706909, 0.8709447383880615, 0.8706492185592651, 0.8660688400268555, 0.8612551689147949, 0.8601805567741394, 0.8592161536216736, 0.8527505397796631, 0.8492854237556458, 0.8452772498130798, 0.8443493843078613, 0.8440428972244263, 0.8395746350288391, 0.8395746350288391, 0.8361401557922363, 0.8361401557922363, 0.8102759718894958, 0.8086092472076416, 0.8078513145446777, 0.8074493408203125, 0.806550920009613, 0.806550920009613, 0.8041384220123291, 0.7971072793006897, 0.7860841751098633, 0.7804924249649048, 0.7772917747497559, 0.7770946025848389, 0.7770946025848389, 0.7742623090744019, 0.7725504040718079, 0.7698040008544922, 0.7684147357940674, 0.7681910991668701, 0.9588703513145447, 0.9524250030517578, 0.9316670894622803, 0.9173969626426697, 0.9145621061325073, 0.9102996587753296, 0.899443507194519, 0.8923615217208862, 0.88592928647995, 0.878838062286377, 0.8740604519844055, 0.8740604519844055, 0.8698276877403259, 0.8690962791442871, 0.8652142286300659, 0.863305389881134, 0.863305389881134, 0.8630759716033936, 0.8593734502792358, 0.8534756898880005, 0.8507665395736694, 0.8446609973907471, 0.8446609973907471, 0.8330965042114258, 0.8323801755905151, 0.8323801755905151, 0.8291202783584595, 0.8258851766586304, 0.8258851766586304, 0.8239695429801941, 0.823807954788208, 0.8227845430374146, 0.8227845430374146, 0.8222399353981018, 0.8150359392166138, 0.8140221238136292, 0.8140221238136292, 0.8109166622161865, 0.8051156997680664, 0.7999272346496582, 0.7998975515365601, 0.9159203171730042, 0.9082893133163452, 0.8956456184387207, 0.8930066823959351, 0.8841756582260132, 0.8802178502082825, 0.8751527070999146, 0.8736675977706909, 0.8709447383880615, 0.8706492185592651, 0.8660688400268555, 0.8612551689147949, 0.8601805567741394, 0.8592161536216736, 0.8527505397796631, 0.8492854237556458, 0.8452772498130798, 0.8443493843078613, 0.8440428972244263, 0.8395746350288391, 0.8395746350288391, 0.8361401557922363, 0.8361401557922363, 0.8102759718894958, 0.8086092472076416, 0.8078513145446777, 0.8074493408203125, 0.806550920009613, 0.806550920009613, 0.8041384220123291, 0.7971072793006897, 0.7860841751098633, 0.7804924249649048, 0.7772917747497559, 0.7770946025848389, 0.7770946025848389, 0.7742623090744019, 0.7725504040718079, 0.7698040008544922, 0.7684147357940674, 0.7681910991668701, 0.9367783069610596, 0.9086948037147522, 0.9036933779716492, 0.9021630883216858, 0.8840393424034119, 0.8707863092422485, 0.8703501224517822, 0.8677821159362793, 0.8656018972396851, 0.8656018972396851, 0.8323448300361633, 0.8267257213592529, 0.8252856731414795, 0.8240259885787964, 0.8203927874565125, 0.8203927874565125, 0.8201265931129456, 0.8137603402137756, 0.8119645118713379, 0.8062160015106201, 0.8059372901916504, 0.8051719665527344, 0.8023523092269897, 0.8022775650024414, 0.8000009059906006, 0.799741268157959, 0.799741268157959, 0.7974147200584412, 0.7974147200584412, 0.7951129674911499, 0.7942882776260376, 0.7941666841506958, 0.7917532920837402, 0.7914847731590271, 0.7901334762573242, 0.7869397401809692, 0.7863978743553162, 0.7807744741439819, 0.7807744741439819, 0.7792148590087891, 0.7788881063461304, 0.8272416591644287, 0.7983249425888062, 0.7897324562072754, 0.7872564196586609, 0.7489164471626282, 0.7435068488121033, 0.7307186126708984, 0.7199659943580627, 0.7112000584602356, 0.7058424353599548, 0.702750027179718, 0.6990242600440979, 0.68756502866745, 0.68756502866745, 0.686433732509613, 0.6772155165672302, 0.6734457015991211, 0.6734457015991211, 0.6560063362121582, 0.6411093473434448, 0.6388982534408569, 0.6247720718383789, 0.618139922618866, 0.6143041849136353, 0.6084206700325012, 0.6058427691459656, 0.6005450487136841, 0.5976806879043579, 0.5934125185012817, 0.5887811779975891, 0.5804396867752075, 0.5751236081123352, 0.5636666417121887, 0.5498180985450745, 0.5483484864234924, 0.5423818826675415, 0.5411844253540039, 0.5316497087478638, 0.5265776515007019, 0.5192992091178894, 0.5171930193901062, 0.9488275051116943, 0.8763301968574524, 0.8567236065864563, 0.8495270013809204, 0.8370440006256104, 0.8288654088973999, 0.8274070024490356, 0.8216538429260254, 0.8004121780395508, 0.7927930355072021, 0.789587676525116, 0.7843931913375854, 0.7843931913375854, 0.7790369391441345, 0.7769936323165894, 0.7769936323165894, 0.7759767174720764, 0.7752964496612549, 0.769762396812439, 0.769762396812439, 0.7689474821090698, 0.7649865746498108, 0.758327841758728, 0.7568072080612183, 0.7561531066894531, 0.7515515089035034, 0.747969388961792, 0.7463557720184326, 0.7448859810829163, 0.7414804697036743, 0.7410879135131836, 0.734351634979248, 0.734351634979248, 0.7308627367019653, 0.723529577255249, 0.7222676277160645, 0.7219786643981934, 0.7193387746810913, 0.7166111469268799, 0.7135568261146545, 0.7134373188018799, 0.8272416591644287, 0.7983249425888062, 0.7897324562072754, 0.7872564196586609, 0.7489164471626282, 0.7435068488121033, 0.7307186126708984, 0.7199659943580627, 0.7112000584602356, 0.7058424353599548, 0.702750027179718, 0.6990242600440979, 0.68756502866745, 0.68756502866745, 0.686433732509613, 0.6772155165672302, 0.6734457015991211, 0.6734457015991211, 0.6560063362121582, 0.6411093473434448, 0.6388982534408569, 0.6247720718383789, 0.618139922618866, 0.6143041849136353, 0.6084206700325012, 0.6058427691459656, 0.6005450487136841, 0.5976806879043579, 0.5934125185012817, 0.5887811779975891, 0.5804396867752075, 0.5751236081123352, 0.5636666417121887, 0.5498180985450745, 0.5483484864234924, 0.5423818826675415, 0.5411844253540039, 0.5316497087478638, 0.5265776515007019, 0.5192992091178894, 0.5171930193901062, 0.9720892906188965, 0.9578099846839905, 0.9370535612106323, 0.905147910118103, 0.905147910118103, 0.9051464796066284, 0.8790013194084167, 0.8703640699386597, 0.8657833337783813, 0.8358277082443237, 0.8358033895492554, 0.8321431875228882, 0.8321431875228882, 0.8311716914176941, 0.8283655643463135, 0.827326238155365, 0.8232321739196777, 0.8183004260063171, 0.816969096660614, 0.8166980743408203, 0.8166980743408203, 0.814965009689331, 0.8108347654342651, 0.8100229501724243, 0.809891939163208, 0.8083155155181885, 0.8064645528793335, 0.8064645528793335, 0.8050772547721863, 0.8045989274978638, 0.8023098111152649, 0.7905993461608887, 0.7863381505012512, 0.785620927810669, 0.785620927810669, 0.7854453921318054, 0.7840256690979004, 0.7815321683883667, 0.7757341265678406, 0.7750649452209473, 0.7712115049362183, 0.9823054671287537, 0.9467687606811523, 0.8759769201278687, 0.8576890826225281, 0.8405819535255432, 0.8402286767959595, 0.8383113145828247, 0.836658775806427, 0.8344063758850098, 0.8344063758850098, 0.824886679649353, 0.8142800331115723, 0.8109053373336792, 0.8101141452789307, 0.8046665787696838, 0.8029888868331909, 0.8029888868331909, 0.7986671924591064, 0.7945870161056519, 0.7920985221862793, 0.7892705202102661, 0.7892705202102661, 0.7834324836730957, 0.7804635763168335, 0.7804635763168335, 0.7786853313446045, 0.778123140335083, 0.7775814533233643, 0.7775814533233643, 0.7773823738098145, 0.7773823738098145, 0.7740079164505005, 0.7735186815261841, 0.7689897418022156, 0.7677057385444641, 0.7674835920333862, 0.7669771313667297, 0.766526997089386, 0.7635402679443359, 0.7603997588157654, 0.7595625519752502, 0.9569911956787109, 0.9569911956787109, 0.9569911956787109, 0.9129670858383179, 0.9033762216567993, 0.9019269943237305, 0.8989858627319336, 0.8917649984359741, 0.8857032060623169, 0.8857032060623169, 0.8856268525123596, 0.8838262557983398, 0.8814467191696167, 0.8788362741470337, 0.8788362741470337, 0.8784105181694031, 0.8779395222663879, 0.8776706457138062, 0.8776706457138062, 0.8767483234405518, 0.8758453130722046, 0.8747246861457825, 0.8735836744308472, 0.87245774269104, 0.87245774269104, 0.8701225519180298, 0.8701225519180298, 0.8650967478752136, 0.8648367524147034, 0.8644636273384094, 0.8631269335746765, 0.8622348308563232, 0.8602527379989624, 0.859343409538269, 0.8592655658721924, 0.8592655658721924, 0.8592655658721924, 0.8592655658721924, 0.8564645648002625, 0.8564645648002625, 0.8557719588279724, 0.9776827692985535, 0.9776827692985535, 0.9776827692985535, 0.9630857110023499, 0.948072075843811, 0.9405701160430908, 0.939577579498291, 0.939577579498291, 0.939577579498291, 0.939577579498291, 0.939577579498291, 0.939577579498291, 0.939577579498291, 0.9348084330558777, 0.9144744873046875, 0.9104403257369995, 0.9096618890762329, 0.9033953547477722, 0.9033953547477722, 0.9033953547477722, 0.9033953547477722, 0.8986890316009521, 0.8986890316009521, 0.8982325196266174, 0.8970104455947876, 0.896312952041626, 0.8928160667419434, 0.8912834525108337, 0.8859655261039734, 0.8819149136543274, 0.8789923191070557, 0.8739763498306274, 0.8734010457992554, 0.8734010457992554, 0.8734010457992554, 0.8734010457992554, 0.8734010457992554, 0.8734010457992554, 0.8734010457992554, 0.8734010457992554, 0.8734010457992554, 0.9270341992378235, 0.9270341992378235, 0.9258881211280823, 0.9258881211280823, 0.9258881211280823, 0.9071986675262451, 0.9071986675262451, 0.90497887134552, 0.8960520625114441, 0.8960520625114441, 0.8954503536224365, 0.8910744190216064, 0.8892680406570435, 0.8884149789810181, 0.8854890465736389, 0.8841819763183594, 0.8841819763183594, 0.8753681182861328, 0.8753681182861328, 0.8734256029129028, 0.8696619272232056, 0.861203670501709, 0.8575502634048462, 0.8575502634048462, 0.8567999005317688, 0.8553246259689331, 0.854486346244812, 0.8534590005874634, 0.8485583066940308, 0.8451602458953857, 0.8397481441497803, 0.8383845686912537, 0.8382435441017151, 0.8317129015922546, 0.8309769034385681, 0.8172683715820312, 0.8147502541542053, 0.8101051449775696, 0.8090176582336426, 0.8055130839347839, 0.8045473098754883, 0.9586360454559326, 0.9575733542442322, 0.9575733542442322, 0.9416491985321045, 0.9398320317268372, 0.9245044589042664, 0.9235355854034424, 0.9110568761825562, 0.905147910118103, 0.9014006853103638, 0.8865976929664612, 0.8764706254005432, 0.866668701171875, 0.8664638996124268, 0.8613173365592957, 0.8599411249160767, 0.8576251268386841, 0.8495101928710938, 0.8447998762130737, 0.8433393239974976, 0.8402732610702515, 0.829391360282898, 0.8240033984184265, 0.817215085029602, 0.8112596869468689, 0.8112596869468689, 0.7977177500724792, 0.794784426689148, 0.7924818992614746, 0.7902839183807373, 0.7893571257591248, 0.7872436046600342, 0.7859655618667603, 0.7844440937042236, 0.7815629243850708, 0.7807279229164124, 0.7807279229164124, 0.7773406505584717, 0.7769936323165894, 0.7746695280075073, 0.7716912627220154, 0.9714033603668213, 0.9666874408721924, 0.9658952951431274, 0.9635993242263794, 0.9620299339294434, 0.9522378444671631, 0.9498850107192993, 0.9446364641189575, 0.9410858154296875, 0.9410858154296875, 0.9395517706871033, 0.937065839767456, 0.93703293800354, 0.9308275580406189, 0.9259706735610962, 0.9256200790405273, 0.9256200790405273, 0.9231044054031372, 0.9231044054031372, 0.9221500158309937, 0.9221500158309937, 0.9204398989677429, 0.9179599285125732, 0.9175553321838379, 0.9172093868255615, 0.9164569973945618, 0.9142947196960449, 0.9141861200332642, 0.9141861200332642, 0.9134469032287598, 0.9131096601486206, 0.9131096601486206, 0.9126734733581543, 0.9126734733581543, 0.9126734733581543, 0.9111785888671875, 0.9111785888671875, 0.9095170497894287, 0.909422755241394, 0.9092589020729065, 0.9089718461036682, 0.9586360454559326, 0.9575733542442322, 0.9575733542442322, 0.9416491985321045, 0.9398320317268372, 0.9245044589042664, 0.9235355854034424, 0.9110568761825562, 0.905147910118103, 0.9014006853103638, 0.8865976929664612, 0.8764706254005432, 0.866668701171875, 0.8664638996124268, 0.8613173365592957, 0.8599411249160767, 0.8576251268386841, 0.8495101928710938, 0.8447998762130737, 0.8433393239974976, 0.8402732610702515, 0.829391360282898, 0.8240033984184265, 0.817215085029602, 0.8112596869468689, 0.8112596869468689, 0.7977177500724792, 0.794784426689148, 0.7924818992614746, 0.7902839183807373, 0.7893571257591248, 0.7872436046600342, 0.7859655618667603, 0.7844440937042236, 0.7815629243850708, 0.7807279229164124, 0.7807279229164124, 0.7773406505584717, 0.7769936323165894, 0.7746695280075073, 0.7716912627220154, 0.8864080905914307, 0.8726491928100586, 0.8493943214416504, 0.8429691791534424, 0.8403885364532471, 0.8136745691299438, 0.8117293119430542, 0.793415904045105, 0.7902466654777527, 0.7896914482116699, 0.7820013761520386, 0.7742034196853638, 0.770583987236023, 0.7650513052940369, 0.760662853717804, 0.7579823136329651, 0.7491157054901123, 0.7491157054901123, 0.7491157054901123, 0.736641526222229, 0.7349874377250671, 0.7349874377250671, 0.7345964908599854, 0.7304980754852295, 0.729279637336731, 0.7233650088310242, 0.7172300815582275, 0.7162532806396484, 0.710085391998291, 0.710085391998291, 0.710085391998291, 0.710085391998291, 0.7090682983398438, 0.7015398740768433, 0.6973698735237122, 0.6961855292320251, 0.6952965259552002, 0.6941157579421997, 0.692876935005188, 0.6911220550537109, 0.6895649433135986, 0.8195174336433411, 0.814304530620575, 0.814304530620575, 0.814304530620575, 0.814304530620575, 0.814304530620575, 0.814304530620575, 0.814304530620575, 0.814304530620575, 0.814304530620575, 0.814304530620575, 0.814304530620575, 0.814304530620575, 0.814304530620575, 0.814304530620575, 0.814304530620575, 0.814304530620575, 0.814304530620575, 0.814304530620575, 0.814304530620575, 0.814304530620575, 0.814304530620575, 0.814304530620575, 0.814304530620575, 0.814304530620575, 0.8117126822471619, 0.8035580515861511, 0.8035580515861511, 0.8035580515861511, 0.7966907024383545, 0.7894206047058105, 0.7894206047058105, 0.7817214131355286, 0.7797952890396118, 0.7791058421134949, 0.7790307402610779, 0.7789461612701416, 0.7785455584526062, 0.7769820094108582, 0.7769820094108582, 0.7582499980926514, 0.8859416246414185, 0.8542184233665466, 0.8542184233665466, 0.8139802813529968, 0.7915170192718506, 0.6953229904174805, 0.6932423710823059, 0.6889830231666565, 0.6889830231666565, 0.6889830231666565, 0.6869683265686035, 0.6802700757980347, 0.6651354432106018, 0.6611589193344116, 0.6600574254989624, 0.6589483022689819, 0.6586841940879822, 0.6558805704116821, 0.6539225578308105, 0.6491274833679199, 0.6487876772880554, 0.6478725075721741, 0.6458379030227661, 0.6447881460189819, 0.6426306962966919, 0.6399982571601868, 0.6398983597755432, 0.6355142593383789, 0.6354126334190369, 0.6276334524154663, 0.6265485286712646, 0.625734269618988, 0.6241642832756042, 0.622726321220398, 0.6215647459030151, 0.6214452981948853, 0.6205032467842102, 0.6201972961425781, 0.6163961887359619, 0.6160873174667358, 0.6160873174667358, 1.0, 1.0, 0.9468265175819397, 0.8947436809539795, 0.8796350955963135, 0.8687880039215088, 0.8620895743370056, 0.8613554239273071, 0.8588920831680298, 0.8544516563415527, 0.8496817350387573, 0.8496817350387573, 0.8496817350387573, 0.8496817350387573, 0.8482968807220459, 0.8419350385665894, 0.8419350385665894, 0.8397045731544495, 0.8397045731544495, 0.8371249437332153, 0.818954586982727, 0.818954586982727, 0.818654477596283, 0.8155856728553772, 0.8064849376678467, 0.8000234961509705, 0.7943310141563416, 0.7926051020622253, 0.7889665365219116, 0.7889665365219116, 0.7887517809867859, 0.7855013608932495, 0.7803846597671509, 0.7702526450157166, 0.769792914390564, 0.7683843374252319, 0.7674529552459717, 0.7625212073326111, 0.758752703666687, 0.7576194405555725, 0.7567411065101624, 1.0000001192092896, 0.8965716361999512, 0.865922749042511, 0.8526025414466858, 0.8503074645996094, 0.8375924825668335, 0.8375924825668335, 0.8375924825668335, 0.8374204635620117, 0.8342785835266113, 0.8304515480995178, 0.8304515480995178, 0.8304515480995178, 0.8221418261528015, 0.820572018623352, 0.8064778447151184, 0.794363260269165, 0.7855495810508728, 0.7855495810508728, 0.7855495810508728, 0.7838582992553711, 0.7823235988616943, 0.7823235988616943, 0.7823235988616943, 0.7746706008911133, 0.7746706008911133, 0.769792914390564, 0.769792914390564, 0.7693134546279907, 0.7682977318763733, 0.7680973410606384, 0.7680579423904419, 0.7680579423904419, 0.7680579423904419, 0.7680579423904419, 0.7680579423904419, 0.7680016756057739, 0.7663156986236572, 0.7663156986236572, 0.7663156986236572, 0.7657234072685242, 1.0000001192092896, 1.0000001192092896, 1.0000001192092896, 1.0000001192092896, 1.0000001192092896, 1.0000001192092896, 1.0000001192092896, 1.0000001192092896, 1.0000001192092896, 1.0000001192092896, 0.9927563071250916, 0.9452508687973022, 0.9452508687973022, 0.9452508687973022, 0.9452508687973022, 0.9251319169998169, 0.9200519919395447, 0.9200519919395447, 0.9136869311332703, 0.9054660797119141, 0.89763343334198, 0.8828694224357605, 0.8684292435646057, 0.8483601212501526, 0.8438881635665894, 0.8424009680747986, 0.8368710279464722, 0.8324595093727112, 0.8295950889587402, 0.8277209401130676, 0.8276130557060242, 0.8258223533630371, 0.8243687748908997, 0.8243687748908997, 0.8243687748908997, 0.8193985819816589, 0.8193662762641907, 0.8146452903747559, 0.8146452903747559, 0.8146452903747559, 0.8114499449729919, 1.0, 1.0, 0.9468265175819397, 0.8947436809539795, 0.8796350955963135, 0.8687880039215088, 0.8620895743370056, 0.8613554239273071, 0.8588920831680298, 0.8544516563415527, 0.8496817350387573, 0.8496817350387573, 0.8496817350387573, 0.8496817350387573, 0.8482968807220459, 0.8419350385665894, 0.8419350385665894, 0.8397045731544495, 0.8397045731544495, 0.8371249437332153, 0.818954586982727, 0.818954586982727, 0.818654477596283, 0.8155856728553772, 0.8064849376678467, 0.8000234961509705, 0.7943310141563416, 0.7926051020622253, 0.7889665365219116, 0.7889665365219116, 0.7887517809867859, 0.7855013608932495, 0.7803846597671509, 0.7702526450157166, 0.769792914390564, 0.7683843374252319, 0.7674529552459717, 0.7625212073326111, 0.758752703666687, 0.7576194405555725, 0.7567411065101624, 1.0, 0.9987550973892212, 0.9460849761962891, 0.8794457912445068, 0.8794457912445068, 0.8784847259521484, 0.8690253496170044, 0.8690253496170044, 0.867087185382843, 0.8662586212158203, 0.8596116900444031, 0.8596116900444031, 0.8540225028991699, 0.8497336506843567, 0.8497336506843567, 0.8483266830444336, 0.8338732719421387, 0.8336036801338196, 0.8328957557678223, 0.8291103839874268, 0.820695161819458, 0.820695161819458, 0.8134678602218628, 0.8062784075737, 0.7937476634979248, 0.7937476634979248, 0.7937476634979248, 0.7834206819534302, 0.7834206819534302, 0.7834206819534302, 0.7834206819534302, 0.7834206819534302, 0.7797865271568298, 0.7765061259269714, 0.7765061259269714, 0.7765061259269714, 0.7759801149368286, 0.7746627330780029, 0.7746627330780029, 0.7742090225219727, 0.7742090225219727, 0.9999999403953552, 0.9987550973892212, 0.944748044013977, 0.8834656476974487, 0.8790454864501953, 0.8790454864501953, 0.8716930747032166, 0.8682700395584106, 0.8682700395584106, 0.8663719892501831, 0.8607791662216187, 0.8607791662216187, 0.8588335514068604, 0.8502942323684692, 0.8452545404434204, 0.8452545404434204, 0.8396735787391663, 0.8351118564605713, 0.8334347009658813, 0.8315479159355164, 0.8227681517601013, 0.8227681517601013, 0.8181366920471191, 0.8102051615715027, 0.7941124439239502, 0.7941124439239502, 0.7941124439239502, 0.7872361540794373, 0.7872361540794373, 0.7872361540794373, 0.7872361540794373, 0.7872361540794373, 0.7801184058189392, 0.7798235416412354, 0.7798235416412354, 0.7798235416412354, 0.7780921459197998, 0.7771652340888977, 0.7771652340888977, 0.7770695686340332, 0.7747765779495239, 1.0, 1.0, 1.0, 1.0, 1.0, 1.0, 1.0, 1.0, 1.0, 1.0, 1.0, 1.0, 1.0, 1.0, 1.0, 1.0, 1.0, 1.0, 1.0, 1.0, 1.0, 1.0, 1.0, 0.9900484085083008, 0.9896509647369385, 0.9801968336105347, 0.9528630971908569, 0.9528630971908569, 0.9396994113922119, 0.9396994113922119, 0.9116767644882202, 0.9027641415596008, 0.8989138007164001, 0.8923777937889099, 0.8821513056755066, 0.8813478350639343, 0.8719934225082397, 0.8711957931518555, 0.8711957931518555, 0.8711957931518555, 0.8706673383712769, 0.9999999403953552, 0.9460849761962891, 0.944748044013977, 0.8436610102653503, 0.8436610102653503, 0.8433859348297119, 0.8369379043579102, 0.825229287147522, 0.8208569884300232, 0.8162757754325867, 0.8162757754325867, 0.8085585832595825, 0.8054484724998474, 0.7932051420211792, 0.7932051420211792, 0.7926450967788696, 0.7891616821289062, 0.7888342142105103, 0.7888342142105103, 0.7868662476539612, 0.7868215441703796, 0.7862323522567749, 0.7851698994636536, 0.7851698994636536, 0.7834347486495972, 0.7834347486495972, 0.7826142311096191, 0.7826142311096191, 0.7826142311096191, 0.7826142311096191, 0.7826142311096191, 0.7749543786048889, 0.7749543786048889, 0.7749543786048889, 0.7738732099533081, 0.7735525369644165, 0.7735525369644165, 0.7729343175888062, 0.7638723254203796, 0.7591098546981812, 0.7567384243011475, 0.9729369878768921, 0.9378409385681152, 0.9367839097976685, 0.930905282497406, 0.9194040298461914, 0.9139200448989868, 0.912841260433197, 0.912841260433197, 0.9076521396636963, 0.8859456777572632, 0.8813002705574036, 0.878834068775177, 0.878834068775177, 0.8779889941215515, 0.8763647079467773, 0.8728282451629639, 0.8700854778289795, 0.8693118691444397, 0.8668837547302246, 0.866553783416748, 0.857420802116394, 0.8569439649581909, 0.8539477586746216, 0.8539477586746216, 0.853687047958374, 0.8535317778587341, 0.8512336015701294, 0.844699501991272, 0.8439221382141113, 0.829987645149231, 0.829125702381134, 0.8284497261047363, 0.8280516266822815, 0.82573401927948, 0.8243188261985779, 0.8205113410949707, 0.8195643424987793, 0.8193523287773132, 0.8179498910903931, 0.8149603009223938, 0.8149603009223938, 0.911231517791748, 0.9062024354934692, 0.9056870341300964, 0.9056870341300964, 0.8903895616531372, 0.8822072744369507, 0.8745130896568298, 0.8582799434661865, 0.8572845458984375, 0.8505495190620422, 0.8505495190620422, 0.8455908298492432, 0.8390945196151733, 0.8380390405654907, 0.830964207649231, 0.8300701975822449, 0.8290912508964539, 0.8287513256072998, 0.8227652907371521, 0.8224103450775146, 0.8194433450698853, 0.8180016875267029, 0.8176114559173584, 0.8159886598587036, 0.8141642808914185, 0.8121335506439209, 0.8121335506439209, 0.8115015625953674, 0.8101100325584412, 0.809411883354187, 0.807533860206604, 0.807533860206604, 0.8072469234466553, 0.8059313297271729, 0.8051468729972839, 0.8026597499847412, 0.8013622760772705, 0.7999041080474854, 0.7976597547531128, 0.7964744567871094, 0.7959005832672119, 0.7814693450927734, 0.7363389730453491, 0.7363389730453491, 0.7363389730453491, 0.7263975739479065, 0.7252312302589417, 0.7178820371627808, 0.7177772521972656, 0.7172784209251404, 0.7121984958648682, 0.7039656639099121, 0.694223165512085, 0.6869242191314697, 0.6674089431762695, 0.6658279895782471, 0.6580877304077148, 0.6545461416244507, 0.6520233154296875, 0.6520233154296875, 0.6508787870407104, 0.6495074033737183, 0.6419552564620972, 0.6393580436706543, 0.6371086239814758, 0.6351751685142517, 0.6351751685142517, 0.6306595802307129, 0.6275777220726013, 0.6275777220726013, 0.6266812086105347, 0.624549925327301, 0.6241674423217773, 0.6228458285331726, 0.6228458285331726, 0.6222013235092163, 0.622161865234375, 0.61704421043396, 0.6160329580307007, 0.609229326248169, 0.6058465838432312, 0.6012109518051147, 0.9427706003189087, 0.9062951803207397, 0.9047209024429321, 0.9047209024429321, 0.8993239998817444, 0.8981375098228455, 0.8829247951507568, 0.8659026026725769, 0.8511789441108704, 0.8504128456115723, 0.8497911095619202, 0.8497911095619202, 0.8471345901489258, 0.8471345901489258, 0.8447177410125732, 0.8410201668739319, 0.83957839012146, 0.8385570049285889, 0.8378322124481201, 0.8342377543449402, 0.8338267803192139, 0.8332780599594116, 0.8309563398361206, 0.8306030035018921, 0.82956463098526, 0.82956463098526, 0.8253822326660156, 0.8202883005142212, 0.8202623128890991, 0.8192474842071533, 0.8185029625892639, 0.8181504011154175, 0.8173012733459473, 0.8156272172927856, 0.8126488924026489, 0.8086466193199158, 0.8081861138343811, 0.8061347007751465, 0.8061347007751465, 0.8060280084609985, 0.8060280084609985, 0.9097391963005066, 0.8460469245910645, 0.8460469245910645, 0.8460469245910645, 0.802811861038208, 0.8005372285842896, 0.8005372285842896, 0.7937288284301758, 0.7434825897216797, 0.7234790325164795, 0.7182866334915161, 0.7143551111221313, 0.7059990763664246, 0.7023681402206421, 0.7023681402206421, 0.7023681402206421, 0.6977938413619995, 0.6840468645095825, 0.6840468645095825, 0.6840468645095825, 0.6840468645095825, 0.6840468645095825, 0.6840468645095825, 0.6833488941192627, 0.682421088218689, 0.682421088218689, 0.682421088218689, 0.6778498291969299, 0.6778498291969299, 0.6778498291969299, 0.6777706146240234, 0.6707901358604431, 0.6689879298210144, 0.6689879298210144, 0.6687225103378296, 0.6682268381118774, 0.6646579504013062, 0.655017614364624, 0.655017614364624, 0.6511251926422119, 0.6429445147514343, 0.9097391963005066, 0.8460469245910645, 0.8460469245910645, 0.8460469245910645, 0.802811861038208, 0.8005372285842896, 0.8005372285842896, 0.7937288284301758, 0.7434825897216797, 0.7234790325164795, 0.7182866334915161, 0.7143551111221313, 0.7059990763664246, 0.7023681402206421, 0.7023681402206421, 0.7023681402206421, 0.6977938413619995, 0.6840468645095825, 0.6840468645095825, 0.6840468645095825, 0.6840468645095825, 0.6840468645095825, 0.6840468645095825, 0.6833488941192627, 0.682421088218689, 0.682421088218689, 0.682421088218689, 0.6778498291969299, 0.6778498291969299, 0.6778498291969299, 0.6777706146240234, 0.6707901358604431, 0.6689879298210144, 0.6689879298210144, 0.6687225103378296, 0.6682268381118774, 0.6646579504013062, 0.655017614364624, 0.655017614364624, 0.6511251926422119, 0.6429445147514343, 0.9493467807769775, 0.9244412779808044, 0.9042685031890869, 0.9035261273384094, 0.896577000617981, 0.8941102623939514, 0.8837569355964661, 0.8783575892448425, 0.8668264746665955, 0.8628257513046265, 0.8594658374786377, 0.8473003506660461, 0.8402186632156372, 0.8380661010742188, 0.8347304463386536, 0.8234688639640808, 0.8110145926475525, 0.8080711364746094, 0.7955562472343445, 0.7902815937995911, 0.7651933431625366, 0.7450246810913086, 0.7424039244651794, 0.734421968460083, 0.7063576579093933, 0.705629825592041, 0.7025793194770813, 0.6987249255180359, 0.6933835744857788, 0.6888644099235535, 0.6811469197273254, 0.6751523017883301, 0.6655810475349426, 0.6652465462684631, 0.6652465462684631, 0.6629372239112854, 0.6629372239112854, 0.6629372239112854, 0.6627476215362549, 0.6530790328979492, 0.6520212888717651, 0.9352506995201111, 0.9062347412109375, 0.9062347412109375, 0.9062347412109375, 0.8485581874847412, 0.8131669759750366, 0.7897839546203613, 0.7897839546203613, 0.774122953414917, 0.7654568552970886, 0.7641631364822388, 0.7478988170623779, 0.7422770857810974, 0.7409576773643494, 0.7409576773643494, 0.7409576773643494, 0.738761842250824, 0.738761842250824, 0.738761842250824, 0.738761842250824, 0.738761842250824, 0.738761842250824, 0.7357392311096191, 0.717276930809021, 0.717276930809021, 0.7171168327331543, 0.7171168327331543, 0.7171168327331543, 0.716755747795105, 0.7047099471092224, 0.7047099471092224, 0.6765755414962769, 0.6715120077133179, 0.6715120077133179, 0.6682698130607605, 0.6607940196990967, 0.6607940196990967, 0.6607940196990967, 0.6605090498924255, 0.6581626534461975, 0.6559146642684937, 0.9177365303039551, 0.9119845628738403, 0.9096488952636719, 0.9096488952636719, 0.9081484079360962, 0.904251217842102, 0.9018292427062988, 0.9018292427062988, 0.8618725538253784, 0.8584439754486084, 0.8584439754486084, 0.8584439754486084, 0.8582825660705566, 0.8569478988647461, 0.8542189598083496, 0.8541035652160645, 0.8541035652160645, 0.8513533473014832, 0.8485958576202393, 0.8485958576202393, 0.8482905626296997, 0.8478075861930847, 0.8451354503631592, 0.8448294401168823, 0.8437269330024719, 0.8431684374809265, 0.8390293717384338, 0.8390293717384338, 0.8378759622573853, 0.8347932696342468, 0.8284028768539429, 0.827637791633606, 0.8214833736419678, 0.8212018013000488, 0.8194168210029602, 0.8186293244361877, 0.8182486295700073, 0.814314603805542, 0.8141485452651978, 0.8141485452651978, 0.808264434337616, 0.9976428151130676, 0.9781461954116821, 0.9781461954116821, 0.9781461954116821, 0.9672877192497253, 0.9546871185302734, 0.948370099067688, 0.9467965364456177, 0.9439631700515747, 0.9439631700515747, 0.9429830312728882, 0.9429830312728882, 0.9393165707588196, 0.9393165707588196, 0.9247792363166809, 0.9160881042480469, 0.9152786731719971, 0.8973325490951538, 0.8946511745452881, 0.8854105472564697, 0.8774775266647339, 0.8768754005432129, 0.8726288080215454, 0.8686153888702393, 0.8574738502502441, 0.8558905124664307, 0.8558905124664307, 0.8549875020980835, 0.8549690842628479, 0.8540439605712891, 0.8517740964889526, 0.8517740964889526, 0.8514063358306885, 0.8505016565322876, 0.8435962796211243, 0.8400490880012512, 0.838626503944397, 0.8379431962966919, 0.8377485275268555, 0.836715817451477, 0.836715817451477, 0.9885457754135132, 0.9566552639007568, 0.9553619623184204, 0.9443875551223755, 0.9443875551223755, 0.9443875551223755, 0.9443875551223755, 0.9443875551223755, 0.9332281947135925, 0.9332281947135925, 0.9304504990577698, 0.9304504990577698, 0.9271864891052246, 0.9207314848899841, 0.9203027486801147, 0.9121007323265076, 0.9121007323265076, 0.9108822345733643, 0.9073163270950317, 0.9037560224533081, 0.9017616510391235, 0.9002354741096497, 0.8997653722763062, 0.8978051543235779, 0.8923460245132446, 0.8923460245132446, 0.8756341934204102, 0.8687677383422852, 0.8685656785964966, 0.8685656785964966, 0.8679837584495544, 0.8676613569259644, 0.8626586198806763, 0.858870804309845, 0.8570171594619751, 0.8570171594619751, 0.8561842441558838, 0.8547975420951843, 0.8519195318222046, 0.8489540219306946, 0.8447374701499939, 1.0, 1.0, 1.0, 1.0, 1.0, 1.0, 1.0, 1.0, 1.0, 1.0, 1.0, 1.0, 1.0, 1.0, 1.0, 1.0, 1.0, 1.0, 1.0, 1.0, 1.0, 1.0, 1.0, 0.9900484085083008, 0.9896509647369385, 0.9801968336105347, 0.9528630971908569, 0.9528630971908569, 0.9396994113922119, 0.9396994113922119, 0.9116767644882202, 0.9027641415596008, 0.8989138007164001, 0.8923777937889099, 0.8821513056755066, 0.8813478350639343, 0.8719934225082397, 0.8711957931518555, 0.8711957931518555, 0.8711957931518555, 0.8706673383712769, 0.9976428151130676, 0.9781461954116821, 0.9781461954116821, 0.9781461954116821, 0.9672877192497253, 0.9546871185302734, 0.948370099067688, 0.9467965364456177, 0.9439631700515747, 0.9439631700515747, 0.9429830312728882, 0.9429830312728882, 0.9393165707588196, 0.9393165707588196, 0.9247792363166809, 0.9160881042480469, 0.9152786731719971, 0.8973325490951538, 0.8946511745452881, 0.8854105472564697, 0.8774775266647339, 0.8768754005432129, 0.8726288080215454, 0.8686153888702393, 0.8574738502502441, 0.8558905124664307, 0.8558905124664307, 0.8549875020980835, 0.8549690842628479, 0.8540439605712891, 0.8517740964889526, 0.8517740964889526, 0.8514063358306885, 0.8505016565322876, 0.8435962796211243, 0.8400490880012512, 0.838626503944397, 0.8379431962966919, 0.8377485275268555, 0.836715817451477, 0.836715817451477, 0.8496619462966919, 0.8316603899002075, 0.8291205167770386, 0.7820874452590942, 0.7820874452590942, 0.7793135643005371, 0.7779886722564697, 0.7681766152381897, 0.7660828232765198, 0.7660626173019409, 0.759757936000824, 0.7574115991592407, 0.7509980797767639, 0.7509980797767639, 0.7480287551879883, 0.747874915599823, 0.7464084625244141, 0.7442857027053833, 0.7304282188415527, 0.7271254062652588, 0.7256792783737183, 0.7223233580589294, 0.7193299531936646, 0.7148916721343994, 0.7131490707397461, 0.7131490707397461, 0.7131490707397461, 0.7104533910751343, 0.7102032899856567, 0.7059305310249329, 0.705155074596405, 0.7043361663818359, 0.7017303705215454, 0.7012844085693359, 0.6991230845451355, 0.6979132890701294, 0.6979132890701294, 0.6968877911567688, 0.6968877911567688, 0.6958479881286621, 0.6926758885383606, 0.888468325138092, 0.8740639686584473, 0.8740639686584473, 0.8509222269058228, 0.839499294757843, 0.8171102404594421, 0.7892820835113525, 0.7716412544250488, 0.7625787258148193, 0.7614648938179016, 0.7585111260414124, 0.7436127066612244, 0.7413585186004639, 0.7396209239959717, 0.7383204698562622, 0.732237696647644, 0.7223139405250549, 0.7209348678588867, 0.7193589806556702, 0.7191710472106934, 0.7173556089401245, 0.7173556089401245, 0.7173556089401245, 0.7160305380821228, 0.7105890512466431, 0.7105890512466431, 0.7099814414978027, 0.7099814414978027, 0.709675669670105, 0.709675669670105, 0.7067266702651978, 0.7020403742790222, 0.7020403742790222, 0.6996925473213196, 0.6996925473213196, 0.6958529353141785, 0.6957566738128662, 0.6949033737182617, 0.6905200481414795, 0.6873031854629517, 0.6838266849517822, 0.9392657279968262, 0.937486469745636, 0.937486469745636, 0.9177169799804688, 0.9159396290779114, 0.9090681076049805, 0.9082458019256592, 0.8768402338027954, 0.863286554813385, 0.8544623851776123, 0.8508940935134888, 0.8470874428749084, 0.8467859029769897, 0.8279964923858643, 0.8279964923858643, 0.8144291639328003, 0.8061329126358032, 0.8033008575439453, 0.7992948889732361, 0.7991962432861328, 0.7991962432861328, 0.7977946996688843, 0.7957998514175415, 0.7957065105438232, 0.7957065105438232, 0.7952762842178345, 0.7945574522018433, 0.7909247875213623, 0.7905585169792175, 0.7905585169792175, 0.7904382944107056, 0.7894957661628723, 0.7872904539108276, 0.7818305492401123, 0.7767595648765564, 0.7729334831237793, 0.7643652558326721, 0.7643652558326721, 0.7643652558326721, 0.760437548160553, 0.7590619325637817, 0.9062701463699341, 0.8066403865814209, 0.7807842493057251, 0.7754436135292053, 0.7754436135292053, 0.7721590995788574, 0.7709296941757202, 0.7660318613052368, 0.7555851340293884, 0.7474518418312073, 0.739905834197998, 0.7387206554412842, 0.7308815121650696, 0.7242128849029541, 0.7224470973014832, 0.7224470973014832, 0.7222779989242554, 0.7222779989242554, 0.7147607803344727, 0.7140258550643921, 0.7140258550643921, 0.7107537388801575, 0.7107537388801575, 0.7083965539932251, 0.7059696912765503, 0.7031418085098267, 0.7031418085098267, 0.7030802965164185, 0.7021714448928833, 0.7005205154418945, 0.6991653442382812, 0.6965649724006653, 0.6953229904174805, 0.694598913192749, 0.6899999380111694, 0.6868244409561157, 0.6859696507453918, 0.6854541301727295, 0.682839572429657, 0.682679295539856, 0.6761291027069092, 0.7657651305198669, 0.765670657157898, 0.765670657157898, 0.7045257091522217, 0.6774738430976868, 0.6623104810714722, 0.6531696319580078, 0.6457844376564026, 0.6261519193649292, 0.6219725608825684, 0.620654284954071, 0.6191982626914978, 0.6191982626914978, 0.609624981880188, 0.6091108918190002, 0.5965717434883118, 0.581506609916687, 0.5733853578567505, 0.5695885419845581, 0.5630911588668823, 0.5626384615898132, 0.5626384615898132, 0.5566037893295288, 0.5534744262695312, 0.5534337759017944, 0.5464982390403748, 0.5455524921417236, 0.5422582030296326, 0.5378354787826538, 0.5354601740837097, 0.5324081778526306, 0.5286108255386353, 0.5286108255386353, 0.5253465175628662, 0.5238779187202454, 0.5238779187202454, 0.5236217975616455, 0.5236217975616455, 0.5230088829994202, 0.5219463109970093, 0.5219463109970093, 0.8699556589126587, 0.8401718139648438, 0.8081323504447937, 0.7457098960876465, 0.7355364561080933, 0.7078714370727539, 0.6952799558639526, 0.6634620428085327, 0.6614522933959961, 0.651466965675354, 0.6480213403701782, 0.6411024928092957, 0.6411024928092957, 0.630544126033783, 0.6179158687591553, 0.5934650897979736, 0.5934650897979736, 0.5765975117683411, 0.5750842690467834, 0.5747420191764832, 0.5747420191764832, 0.5687912702560425, 0.5666857361793518, 0.5634992718696594, 0.5547699332237244, 0.5532349944114685, 0.5532349944114685, 0.5531227588653564, 0.5424010753631592, 0.534174382686615, 0.5318097472190857, 0.5317988395690918, 0.5218935012817383, 0.5191609263420105, 0.5153648257255554, 0.5152435302734375, 0.5109545588493347, 0.5074003338813782, 0.5074003338813782, 0.5046405792236328, 0.4892565608024597, 0.9062701463699341, 0.8066403865814209, 0.7807842493057251, 0.7754436135292053, 0.7754436135292053, 0.7721590995788574, 0.7709296941757202, 0.7660318613052368, 0.7555851340293884, 0.7474518418312073, 0.739905834197998, 0.7387206554412842, 0.7308815121650696, 0.7242128849029541, 0.7224470973014832, 0.7224470973014832, 0.7222779989242554, 0.7222779989242554, 0.7147607803344727, 0.7140258550643921, 0.7140258550643921, 0.7107537388801575, 0.7107537388801575, 0.7083965539932251, 0.7059696912765503, 0.7031418085098267, 0.7031418085098267, 0.7030802965164185, 0.7021714448928833, 0.7005205154418945, 0.6991653442382812, 0.6965649724006653, 0.6953229904174805, 0.694598913192749, 0.6899999380111694, 0.6868244409561157, 0.6859696507453918, 0.6854541301727295, 0.682839572429657, 0.682679295539856, 0.6761291027069092, 1.0, 1.0, 1.0, 1.0, 1.0, 1.0, 1.0, 1.0, 1.0, 1.0, 1.0, 1.0, 1.0, 1.0, 1.0, 1.0, 0.9944208860397339, 0.9905295968055725, 0.9905295968055725, 0.9905295968055725, 0.9905295968055725, 0.9905295968055725, 0.9808494448661804, 0.9808494448661804, 0.9808494448661804, 0.9798116683959961, 0.9744719862937927, 0.9744719862937927, 0.9669567346572876, 0.9669567346572876, 0.9545735120773315, 0.9545735120773315, 0.9545735120773315, 0.9504737854003906, 0.9452416300773621, 0.9452416300773621, 0.9452416300773621, 0.9435021281242371, 0.9435021281242371, 0.9435021281242371, 0.9411081671714783, 1.0, 1.0, 1.0, 1.0, 1.0, 1.0, 1.0, 1.0, 1.0, 1.0, 1.0, 1.0, 1.0, 1.0, 1.0, 1.0, 0.9944208860397339, 0.9905295968055725, 0.9905295968055725, 0.9905295968055725, 0.9905295968055725, 0.9905295968055725, 0.9808494448661804, 0.9808494448661804, 0.9808494448661804, 0.9798116683959961, 0.9744719862937927, 0.9744719862937927, 0.9669567346572876, 0.9669567346572876, 0.9545735120773315, 0.9545735120773315, 0.9545735120773315, 0.9504737854003906, 0.9452416300773621, 0.9452416300773621, 0.9452416300773621, 0.9435021281242371, 0.9435021281242371, 0.9435021281242371, 0.9411081671714783, 0.9398715496063232, 0.8832873106002808, 0.8832873106002808, 0.8765910863876343, 0.8765910863876343, 0.8613219261169434, 0.85297691822052, 0.8174898624420166, 0.8153170347213745, 0.8153170347213745, 0.8150414228439331, 0.8145659565925598, 0.7981322407722473, 0.796714723110199, 0.796714723110199, 0.7949091196060181, 0.7949091196060181, 0.7949091196060181, 0.7949091196060181, 0.789965033531189, 0.7816845774650574, 0.7759459614753723, 0.7740294933319092, 0.7740294933319092, 0.7737823128700256, 0.7737823128700256, 0.7715936899185181, 0.7668019533157349, 0.7651765942573547, 0.7616372108459473, 0.757994532585144, 0.7524065971374512, 0.7469854950904846, 0.7458614110946655, 0.743948757648468, 0.7415343523025513, 0.7399240732192993, 0.7387595176696777, 0.7381738424301147, 0.7381738424301147, 0.7327588200569153, 1.0, 1.0, 1.0, 1.0, 1.0, 1.0, 1.0, 1.0, 1.0, 1.0, 1.0, 1.0, 1.0, 1.0, 1.0, 1.0, 0.9944208860397339, 0.9905295968055725, 0.9905295968055725, 0.9905295968055725, 0.9905295968055725, 0.9905295968055725, 0.9808494448661804, 0.9808494448661804, 0.9808494448661804, 0.9798116683959961, 0.9744719862937927, 0.9744719862937927, 0.9669567346572876, 0.9669567346572876, 0.9545735120773315, 0.9545735120773315, 0.9545735120773315, 0.9504737854003906, 0.9452416300773621, 0.9452416300773621, 0.9452416300773621, 0.9435021281242371, 0.9435021281242371, 0.9435021281242371, 0.9411081671714783, 0.9695177674293518, 0.9695177674293518, 0.8968499898910522, 0.8879124522209167, 0.8777036070823669, 0.869175136089325, 0.8608163595199585, 0.8548109531402588, 0.8498772978782654, 0.8450978994369507, 0.8372255563735962, 0.8372255563735962, 0.8274361491203308, 0.8272621035575867, 0.8272621035575867, 0.8248668313026428, 0.824647843837738, 0.824647843837738, 0.8227121233940125, 0.8139113187789917, 0.8139113187789917, 0.812803328037262, 0.8058006763458252, 0.8058006763458252, 0.8054883480072021, 0.8052049279212952, 0.8043004274368286, 0.8029115200042725, 0.8003694415092468, 0.8003694415092468, 0.8003694415092468, 0.7991394996643066, 0.7981918454170227, 0.7955729365348816, 0.7937085628509521, 0.7933970093727112, 0.7858265042304993, 0.7858265042304993, 0.7858265042304993, 0.7836799621582031, 0.7836486101150513, 0.9867261648178101, 0.8480928540229797, 0.8342849016189575, 0.8257077932357788, 0.8212882876396179, 0.8086245059967041, 0.798618733882904, 0.7955759763717651, 0.7851859331130981, 0.7785604596138, 0.7779886722564697, 0.776634693145752, 0.7725645303726196, 0.7713494300842285, 0.7709022760391235, 0.7678614854812622, 0.7662478089332581, 0.7602005004882812, 0.7544737458229065, 0.7533233165740967, 0.752949595451355, 0.7451817989349365, 0.7451817989349365, 0.739663302898407, 0.7380138635635376, 0.7329596877098083, 0.7327721118927002, 0.7304404973983765, 0.7293397188186646, 0.7261651754379272, 0.7261400818824768, 0.7257462739944458, 0.725636899471283, 0.724058985710144, 0.7231282591819763, 0.7230076193809509, 0.7230076193809509, 0.7223924398422241, 0.7217037677764893, 0.7214125990867615, 0.7204875946044922, 0.7964389324188232, 0.7625125646591187, 0.7480269074440002, 0.7442456483840942, 0.7374163866043091, 0.7337620258331299, 0.7055330276489258, 0.687975287437439, 0.687975287437439, 0.6707243323326111, 0.6684048175811768, 0.6684048175811768, 0.6594491004943848, 0.6571454405784607, 0.6276423931121826, 0.6224017143249512, 0.6144704818725586, 0.6094651818275452, 0.6092750430107117, 0.6071212291717529, 0.6071212291717529, 0.6040551662445068, 0.5886058211326599, 0.5878739356994629, 0.5872795581817627, 0.5863760709762573, 0.581099808216095, 0.5750330090522766, 0.5746109485626221, 0.5744403600692749, 0.5723339915275574, 0.567828893661499, 0.564230740070343, 0.5633624792098999, 0.5627568960189819, 0.560238242149353, 0.560238242149353, 0.5581337809562683, 0.5543071627616882, 0.5492461919784546, 0.5487229228019714, 0.9734591841697693, 0.9734591841697693, 0.8995101451873779, 0.8904274702072144, 0.8837052583694458, 0.8661141991615295, 0.8659798502922058, 0.8624164462089539, 0.8540998101234436, 0.8297935128211975, 0.8289399147033691, 0.8289399147033691, 0.8245093822479248, 0.8167781829833984, 0.8159909248352051, 0.8117789030075073, 0.8117789030075073, 0.810989260673523, 0.8050928115844727, 0.8050928115844727, 0.8044023513793945, 0.8034543395042419, 0.8024153709411621, 0.8024153709411621, 0.8023885488510132, 0.8021827340126038, 0.8015308380126953, 0.7979112267494202, 0.7947000861167908, 0.791430652141571, 0.791430652141571, 0.7904989123344421, 0.789039671421051, 0.7869737148284912, 0.7869737148284912, 0.7855926752090454, 0.7824302911758423, 0.7817971706390381, 0.7815167903900146, 0.7809706926345825, 0.7808557748794556, 0.7290802597999573, 0.7043443918228149, 0.7037250995635986, 0.6905232667922974, 0.6622467041015625, 0.6457422971725464, 0.6334652304649353, 0.6311805248260498, 0.6308449506759644, 0.6292427778244019, 0.629122257232666, 0.6243160963058472, 0.6236589550971985, 0.6234256625175476, 0.6234256625175476, 0.6234256625175476, 0.6179705262184143, 0.6145740151405334, 0.6097652316093445, 0.6069437861442566, 0.6064525842666626, 0.6002575755119324, 0.5960756540298462, 0.5938910245895386, 0.593449056148529, 0.593168318271637, 0.593168318271637, 0.5927807092666626, 0.5927807092666626, 0.5923286080360413, 0.5861104726791382, 0.5861104726791382, 0.5861104726791382, 0.5836657881736755, 0.5807270407676697, 0.5799584984779358, 0.5790602564811707, 0.5784614086151123, 0.5759580731391907, 0.5757526159286499, 0.5720968842506409, 0.7896045446395874, 0.7564160823822021, 0.7036194801330566, 0.7019119262695312, 0.6999136209487915, 0.6969612240791321, 0.696027398109436, 0.696027398109436, 0.696027398109436, 0.6955785751342773, 0.6843704581260681, 0.6823499202728271, 0.678122341632843, 0.6771436333656311, 0.6770724058151245, 0.6684750318527222, 0.6677048206329346, 0.6625443696975708, 0.6625443696975708, 0.6617721319198608, 0.6458940505981445, 0.6456263661384583, 0.6453150510787964, 0.6435455083847046, 0.6429280042648315, 0.6373997926712036, 0.635347843170166, 0.6347757577896118, 0.6333044767379761, 0.6324875354766846, 0.6270365715026855, 0.6253798604011536, 0.6215487718582153, 0.6129730343818665, 0.6109079718589783, 0.6054584383964539, 0.604513943195343, 0.604513943195343, 0.6021690964698792, 0.6017323136329651, 0.5954934358596802, 0.8563268780708313, 0.8517469167709351, 0.7964529991149902, 0.7691663503646851, 0.7452988028526306, 0.7238565683364868, 0.698153018951416, 0.6474799513816833, 0.634543240070343, 0.6309434175491333, 0.618341326713562, 0.6144569516181946, 0.6068716645240784, 0.6017407774925232, 0.5997387170791626, 0.5997387170791626, 0.5956355929374695, 0.5928167700767517, 0.5867525935173035, 0.5804797410964966, 0.5797851085662842, 0.5776000618934631, 0.5771750807762146, 0.5746689438819885, 0.5683728456497192, 0.5683728456497192, 0.5666664838790894, 0.566632866859436, 0.5627018213272095, 0.5609595775604248, 0.5538551807403564, 0.5517821311950684, 0.5498220920562744, 0.5495703220367432, 0.5495703220367432, 0.5488632917404175, 0.5463428497314453, 0.5463428497314453, 0.5463428497314453, 0.5458165407180786, 0.5458165407180786, 0.7896045446395874, 0.7564160823822021, 0.7036194801330566, 0.7019119262695312, 0.6999136209487915, 0.6969612240791321, 0.696027398109436, 0.696027398109436, 0.696027398109436, 0.6955785751342773, 0.6843704581260681, 0.6823499202728271, 0.678122341632843, 0.6771436333656311, 0.6770724058151245, 0.6684750318527222, 0.6677048206329346, 0.6625443696975708, 0.6625443696975708, 0.6617721319198608, 0.6458940505981445, 0.6456263661384583, 0.6453150510787964, 0.6435455083847046, 0.6429280042648315, 0.6373997926712036, 0.635347843170166, 0.6347757577896118, 0.6333044767379761, 0.6324875354766846, 0.6270365715026855, 0.6253798604011536, 0.6215487718582153, 0.6129730343818665, 0.6109079718589783, 0.6054584383964539, 0.604513943195343, 0.604513943195343, 0.6021690964698792, 0.6017323136329651, 0.5954934358596802], \"xaxis\": \"x\", \"yaxis\": \"y\"}],\n",
              "                        {\"barmode\": \"relative\", \"legend\": {\"tracegroupgap\": 0}, \"template\": {\"data\": {\"bar\": [{\"error_x\": {\"color\": \"#2a3f5f\"}, \"error_y\": {\"color\": \"#2a3f5f\"}, \"marker\": {\"line\": {\"color\": \"#E5ECF6\", \"width\": 0.5}}, \"type\": \"bar\"}], \"barpolar\": [{\"marker\": {\"line\": {\"color\": \"#E5ECF6\", \"width\": 0.5}}, \"type\": \"barpolar\"}], \"carpet\": [{\"aaxis\": {\"endlinecolor\": \"#2a3f5f\", \"gridcolor\": \"white\", \"linecolor\": \"white\", \"minorgridcolor\": \"white\", \"startlinecolor\": \"#2a3f5f\"}, \"baxis\": {\"endlinecolor\": \"#2a3f5f\", \"gridcolor\": \"white\", \"linecolor\": \"white\", \"minorgridcolor\": \"white\", \"startlinecolor\": \"#2a3f5f\"}, \"type\": \"carpet\"}], \"choropleth\": [{\"colorbar\": {\"outlinewidth\": 0, \"ticks\": \"\"}, \"type\": \"choropleth\"}], \"contour\": [{\"colorbar\": {\"outlinewidth\": 0, \"ticks\": \"\"}, \"colorscale\": [[0.0, \"#0d0887\"], [0.1111111111111111, \"#46039f\"], [0.2222222222222222, \"#7201a8\"], [0.3333333333333333, \"#9c179e\"], [0.4444444444444444, \"#bd3786\"], [0.5555555555555556, \"#d8576b\"], [0.6666666666666666, \"#ed7953\"], [0.7777777777777778, \"#fb9f3a\"], [0.8888888888888888, \"#fdca26\"], [1.0, \"#f0f921\"]], \"type\": \"contour\"}], \"contourcarpet\": [{\"colorbar\": {\"outlinewidth\": 0, \"ticks\": \"\"}, \"type\": \"contourcarpet\"}], \"heatmap\": [{\"colorbar\": {\"outlinewidth\": 0, \"ticks\": \"\"}, \"colorscale\": [[0.0, \"#0d0887\"], [0.1111111111111111, \"#46039f\"], [0.2222222222222222, \"#7201a8\"], [0.3333333333333333, \"#9c179e\"], [0.4444444444444444, \"#bd3786\"], [0.5555555555555556, \"#d8576b\"], [0.6666666666666666, \"#ed7953\"], [0.7777777777777778, \"#fb9f3a\"], [0.8888888888888888, \"#fdca26\"], [1.0, \"#f0f921\"]], \"type\": \"heatmap\"}], \"heatmapgl\": [{\"colorbar\": {\"outlinewidth\": 0, \"ticks\": \"\"}, \"colorscale\": [[0.0, \"#0d0887\"], [0.1111111111111111, \"#46039f\"], [0.2222222222222222, \"#7201a8\"], [0.3333333333333333, \"#9c179e\"], [0.4444444444444444, \"#bd3786\"], [0.5555555555555556, \"#d8576b\"], [0.6666666666666666, \"#ed7953\"], [0.7777777777777778, \"#fb9f3a\"], [0.8888888888888888, \"#fdca26\"], [1.0, \"#f0f921\"]], \"type\": \"heatmapgl\"}], \"histogram\": [{\"marker\": {\"colorbar\": {\"outlinewidth\": 0, \"ticks\": \"\"}}, \"type\": \"histogram\"}], \"histogram2d\": [{\"colorbar\": {\"outlinewidth\": 0, \"ticks\": \"\"}, \"colorscale\": [[0.0, \"#0d0887\"], [0.1111111111111111, \"#46039f\"], [0.2222222222222222, \"#7201a8\"], [0.3333333333333333, \"#9c179e\"], [0.4444444444444444, \"#bd3786\"], [0.5555555555555556, \"#d8576b\"], [0.6666666666666666, \"#ed7953\"], [0.7777777777777778, \"#fb9f3a\"], [0.8888888888888888, \"#fdca26\"], [1.0, \"#f0f921\"]], \"type\": \"histogram2d\"}], \"histogram2dcontour\": [{\"colorbar\": {\"outlinewidth\": 0, \"ticks\": \"\"}, \"colorscale\": [[0.0, \"#0d0887\"], [0.1111111111111111, \"#46039f\"], [0.2222222222222222, \"#7201a8\"], [0.3333333333333333, \"#9c179e\"], [0.4444444444444444, \"#bd3786\"], [0.5555555555555556, \"#d8576b\"], [0.6666666666666666, \"#ed7953\"], [0.7777777777777778, \"#fb9f3a\"], [0.8888888888888888, \"#fdca26\"], [1.0, \"#f0f921\"]], \"type\": \"histogram2dcontour\"}], \"mesh3d\": [{\"colorbar\": {\"outlinewidth\": 0, \"ticks\": \"\"}, \"type\": \"mesh3d\"}], \"parcoords\": [{\"line\": {\"colorbar\": {\"outlinewidth\": 0, \"ticks\": \"\"}}, \"type\": \"parcoords\"}], \"pie\": [{\"automargin\": true, \"type\": \"pie\"}], \"scatter\": [{\"marker\": {\"colorbar\": {\"outlinewidth\": 0, \"ticks\": \"\"}}, \"type\": \"scatter\"}], \"scatter3d\": [{\"line\": {\"colorbar\": {\"outlinewidth\": 0, \"ticks\": \"\"}}, \"marker\": {\"colorbar\": {\"outlinewidth\": 0, \"ticks\": \"\"}}, \"type\": \"scatter3d\"}], \"scattercarpet\": [{\"marker\": {\"colorbar\": {\"outlinewidth\": 0, \"ticks\": \"\"}}, \"type\": \"scattercarpet\"}], \"scattergeo\": [{\"marker\": {\"colorbar\": {\"outlinewidth\": 0, \"ticks\": \"\"}}, \"type\": \"scattergeo\"}], \"scattergl\": [{\"marker\": {\"colorbar\": {\"outlinewidth\": 0, \"ticks\": \"\"}}, \"type\": \"scattergl\"}], \"scattermapbox\": [{\"marker\": {\"colorbar\": {\"outlinewidth\": 0, \"ticks\": \"\"}}, \"type\": \"scattermapbox\"}], \"scatterpolar\": [{\"marker\": {\"colorbar\": {\"outlinewidth\": 0, \"ticks\": \"\"}}, \"type\": \"scatterpolar\"}], \"scatterpolargl\": [{\"marker\": {\"colorbar\": {\"outlinewidth\": 0, \"ticks\": \"\"}}, \"type\": \"scatterpolargl\"}], \"scatterternary\": [{\"marker\": {\"colorbar\": {\"outlinewidth\": 0, \"ticks\": \"\"}}, \"type\": \"scatterternary\"}], \"surface\": [{\"colorbar\": {\"outlinewidth\": 0, \"ticks\": \"\"}, \"colorscale\": [[0.0, \"#0d0887\"], [0.1111111111111111, \"#46039f\"], [0.2222222222222222, \"#7201a8\"], [0.3333333333333333, \"#9c179e\"], [0.4444444444444444, \"#bd3786\"], [0.5555555555555556, \"#d8576b\"], [0.6666666666666666, \"#ed7953\"], [0.7777777777777778, \"#fb9f3a\"], [0.8888888888888888, \"#fdca26\"], [1.0, \"#f0f921\"]], \"type\": \"surface\"}], \"table\": [{\"cells\": {\"fill\": {\"color\": \"#EBF0F8\"}, \"line\": {\"color\": \"white\"}}, \"header\": {\"fill\": {\"color\": \"#C8D4E3\"}, \"line\": {\"color\": \"white\"}}, \"type\": \"table\"}]}, \"layout\": {\"annotationdefaults\": {\"arrowcolor\": \"#2a3f5f\", \"arrowhead\": 0, \"arrowwidth\": 1}, \"coloraxis\": {\"colorbar\": {\"outlinewidth\": 0, \"ticks\": \"\"}}, \"colorscale\": {\"diverging\": [[0, \"#8e0152\"], [0.1, \"#c51b7d\"], [0.2, \"#de77ae\"], [0.3, \"#f1b6da\"], [0.4, \"#fde0ef\"], [0.5, \"#f7f7f7\"], [0.6, \"#e6f5d0\"], [0.7, \"#b8e186\"], [0.8, \"#7fbc41\"], [0.9, \"#4d9221\"], [1, \"#276419\"]], \"sequential\": [[0.0, \"#0d0887\"], [0.1111111111111111, \"#46039f\"], [0.2222222222222222, \"#7201a8\"], [0.3333333333333333, \"#9c179e\"], [0.4444444444444444, \"#bd3786\"], [0.5555555555555556, \"#d8576b\"], [0.6666666666666666, \"#ed7953\"], [0.7777777777777778, \"#fb9f3a\"], [0.8888888888888888, \"#fdca26\"], [1.0, \"#f0f921\"]], \"sequentialminus\": [[0.0, \"#0d0887\"], [0.1111111111111111, \"#46039f\"], [0.2222222222222222, \"#7201a8\"], [0.3333333333333333, \"#9c179e\"], [0.4444444444444444, \"#bd3786\"], [0.5555555555555556, \"#d8576b\"], [0.6666666666666666, \"#ed7953\"], [0.7777777777777778, \"#fb9f3a\"], [0.8888888888888888, \"#fdca26\"], [1.0, \"#f0f921\"]]}, \"colorway\": [\"#636efa\", \"#EF553B\", \"#00cc96\", \"#ab63fa\", \"#FFA15A\", \"#19d3f3\", \"#FF6692\", \"#B6E880\", \"#FF97FF\", \"#FECB52\"], \"font\": {\"color\": \"#2a3f5f\"}, \"geo\": {\"bgcolor\": \"white\", \"lakecolor\": \"white\", \"landcolor\": \"#E5ECF6\", \"showlakes\": true, \"showland\": true, \"subunitcolor\": \"white\"}, \"hoverlabel\": {\"align\": \"left\"}, \"hovermode\": \"closest\", \"mapbox\": {\"style\": \"light\"}, \"paper_bgcolor\": \"white\", \"plot_bgcolor\": \"#E5ECF6\", \"polar\": {\"angularaxis\": {\"gridcolor\": \"white\", \"linecolor\": \"white\", \"ticks\": \"\"}, \"bgcolor\": \"#E5ECF6\", \"radialaxis\": {\"gridcolor\": \"white\", \"linecolor\": \"white\", \"ticks\": \"\"}}, \"scene\": {\"xaxis\": {\"backgroundcolor\": \"#E5ECF6\", \"gridcolor\": \"white\", \"gridwidth\": 2, \"linecolor\": \"white\", \"showbackground\": true, \"ticks\": \"\", \"zerolinecolor\": \"white\"}, \"yaxis\": {\"backgroundcolor\": \"#E5ECF6\", \"gridcolor\": \"white\", \"gridwidth\": 2, \"linecolor\": \"white\", \"showbackground\": true, \"ticks\": \"\", \"zerolinecolor\": \"white\"}, \"zaxis\": {\"backgroundcolor\": \"#E5ECF6\", \"gridcolor\": \"white\", \"gridwidth\": 2, \"linecolor\": \"white\", \"showbackground\": true, \"ticks\": \"\", \"zerolinecolor\": \"white\"}}, \"shapedefaults\": {\"line\": {\"color\": \"#2a3f5f\"}}, \"ternary\": {\"aaxis\": {\"gridcolor\": \"white\", \"linecolor\": \"white\", \"ticks\": \"\"}, \"baxis\": {\"gridcolor\": \"white\", \"linecolor\": \"white\", \"ticks\": \"\"}, \"bgcolor\": \"#E5ECF6\", \"caxis\": {\"gridcolor\": \"white\", \"linecolor\": \"white\", \"ticks\": \"\"}}, \"title\": {\"x\": 0.05}, \"xaxis\": {\"automargin\": true, \"gridcolor\": \"white\", \"linecolor\": \"white\", \"ticks\": \"\", \"title\": {\"standoff\": 15}, \"zerolinecolor\": \"white\", \"zerolinewidth\": 2}, \"yaxis\": {\"automargin\": true, \"gridcolor\": \"white\", \"linecolor\": \"white\", \"ticks\": \"\", \"title\": {\"standoff\": 15}, \"zerolinecolor\": \"white\", \"zerolinewidth\": 2}}}, \"title\": {\"text\": \"Scores for TF-IDF\"}, \"xaxis\": {\"anchor\": \"y\", \"domain\": [0.0, 1.0], \"title\": {\"text\": \"score\"}}, \"yaxis\": {\"anchor\": \"x\", \"domain\": [0.0, 1.0], \"title\": {\"text\": \"count\"}}},\n",
              "                        {\"responsive\": true}\n",
              "                    ).then(function(){\n",
              "                            \n",
              "var gd = document.getElementById('6aa8d7af-6139-49ab-a23e-e70ea11eea3d');\n",
              "var x = new MutationObserver(function (mutations, observer) {{\n",
              "        var display = window.getComputedStyle(gd).display;\n",
              "        if (!display || display === 'none') {{\n",
              "            console.log([gd, 'removed!']);\n",
              "            Plotly.purge(gd);\n",
              "            observer.disconnect();\n",
              "        }}\n",
              "}});\n",
              "\n",
              "// Listen for the removal of the full notebook cells\n",
              "var notebookContainer = gd.closest('#notebook-container');\n",
              "if (notebookContainer) {{\n",
              "    x.observe(notebookContainer, {childList: true});\n",
              "}}\n",
              "\n",
              "// Listen for the clearing of the current output cell\n",
              "var outputEl = gd.closest('.output');\n",
              "if (outputEl) {{\n",
              "    x.observe(outputEl, {childList: true});\n",
              "}}\n",
              "\n",
              "                        })\n",
              "                };\n",
              "                \n",
              "            </script>\n",
              "        </div>\n",
              "</body>\n",
              "</html>"
            ]
          },
          "metadata": {}
        }
      ]
    },
    {
      "cell_type": "code",
      "metadata": {
        "id": "QIBvHL1aOnOT"
      },
      "source": [
        "if use_wandb:\n",
        "  wandb.log({\"scores_hist\": fig})"
      ],
      "execution_count": 54,
      "outputs": []
    },
    {
      "cell_type": "code",
      "metadata": {
        "colab": {
          "base_uri": "https://localhost:8080/",
          "height": 261
        },
        "id": "ohaxVQ6d9iiD",
        "outputId": "e3512995-bf99-47c1-d5c9-9cc91f10c92a"
      },
      "source": [
        "result, details = recommend_tune(df_sim, \"These Foolish Things [jazz1350]\")\n",
        "result.head(5)"
      ],
      "execution_count": 55,
      "outputs": [
        {
          "output_type": "stream",
          "name": "stdout",
          "text": [
            "Index(['similar_title', 'score', 'max', 'score_div_max', 'reference',\n",
            "       'reference_titleid'],\n",
            "      dtype='object')\n"
          ]
        },
        {
          "output_type": "execute_result",
          "data": {
            "text/html": [
              "<div>\n",
              "<style scoped>\n",
              "    .dataframe tbody tr th:only-of-type {\n",
              "        vertical-align: middle;\n",
              "    }\n",
              "\n",
              "    .dataframe tbody tr th {\n",
              "        vertical-align: top;\n",
              "    }\n",
              "\n",
              "    .dataframe thead th {\n",
              "        text-align: right;\n",
              "    }\n",
              "</style>\n",
              "<table border=\"1\" class=\"dataframe\">\n",
              "  <thead>\n",
              "    <tr style=\"text-align: right;\">\n",
              "      <th></th>\n",
              "      <th>index</th>\n",
              "      <th>reference</th>\n",
              "      <th>reference_titleid</th>\n",
              "      <th>similar_title</th>\n",
              "      <th>score</th>\n",
              "      <th>max</th>\n",
              "      <th>score_div_max</th>\n",
              "    </tr>\n",
              "  </thead>\n",
              "  <tbody>\n",
              "    <tr>\n",
              "      <th>0</th>\n",
              "      <td>0</td>\n",
              "      <td>These Foolish Things [jazz1350]</td>\n",
              "      <td>1168</td>\n",
              "      <td>I Loves You Porgy [jazz1350]</td>\n",
              "      <td>0.986726</td>\n",
              "      <td>0.986726</td>\n",
              "      <td>1.000000</td>\n",
              "    </tr>\n",
              "    <tr>\n",
              "      <th>1</th>\n",
              "      <td>1</td>\n",
              "      <td>These Foolish Things [jazz1350]</td>\n",
              "      <td>1168</td>\n",
              "      <td>More Than You Know [jazz1350]</td>\n",
              "      <td>0.796439</td>\n",
              "      <td>0.796439</td>\n",
              "      <td>1.000000</td>\n",
              "    </tr>\n",
              "    <tr>\n",
              "      <th>2</th>\n",
              "      <td>2</td>\n",
              "      <td>These Foolish Things [jazz1350]</td>\n",
              "      <td>1168</td>\n",
              "      <td>What Are You Doing New Years [jazz1350]</td>\n",
              "      <td>0.762513</td>\n",
              "      <td>0.796439</td>\n",
              "      <td>0.957402</td>\n",
              "    </tr>\n",
              "    <tr>\n",
              "      <th>3</th>\n",
              "      <td>3</td>\n",
              "      <td>These Foolish Things [jazz1350]</td>\n",
              "      <td>1168</td>\n",
              "      <td>They Can't Take That Away From Me [jazz1350]</td>\n",
              "      <td>0.748027</td>\n",
              "      <td>0.796439</td>\n",
              "      <td>0.939214</td>\n",
              "    </tr>\n",
              "    <tr>\n",
              "      <th>4</th>\n",
              "      <td>4</td>\n",
              "      <td>These Foolish Things [jazz1350]</td>\n",
              "      <td>1168</td>\n",
              "      <td>If I Had You [jazz1350]</td>\n",
              "      <td>0.744246</td>\n",
              "      <td>0.796439</td>\n",
              "      <td>0.934467</td>\n",
              "    </tr>\n",
              "  </tbody>\n",
              "</table>\n",
              "</div>"
            ],
            "text/plain": [
              "   index                        reference  ...       max score_div_max\n",
              "0      0  These Foolish Things [jazz1350]  ...  0.986726      1.000000\n",
              "1      1  These Foolish Things [jazz1350]  ...  0.796439      1.000000\n",
              "2      2  These Foolish Things [jazz1350]  ...  0.796439      0.957402\n",
              "3      3  These Foolish Things [jazz1350]  ...  0.796439      0.939214\n",
              "4      4  These Foolish Things [jazz1350]  ...  0.796439      0.934467\n",
              "\n",
              "[5 rows x 7 columns]"
            ]
          },
          "metadata": {},
          "execution_count": 55
        }
      ]
    },
    {
      "cell_type": "markdown",
      "metadata": {
        "id": "UveSDI6QWALe"
      },
      "source": [
        "Copy results into a dataframe for later logging to W&B"
      ]
    },
    {
      "cell_type": "code",
      "metadata": {
        "id": "AEEqdXBiT5bl",
        "colab": {
          "base_uri": "https://localhost:8080/"
        },
        "outputId": "f361fec5-e9c8-492d-d07c-a7135165a41f"
      },
      "source": [
        "dd = pd.DataFrame(columns = recommender_results_cols)\n",
        "\n",
        "for tune in tunes_eval_list:\n",
        "  result, details = recommend_tune(df_sim, tune)\n",
        "  dd['id'] = result['index']\n",
        "  dd['method'] = 'tfidf'\n",
        "  dd['reference'] = tune\n",
        "  dd['similar'] = result['similar_title']\n",
        "  dd['score_div_max'] = result['score_div_max']\n",
        "  dd['score'] = result['score']\n",
        "\n",
        "recommender_results = recommender_results.append(dd)"
      ],
      "execution_count": 56,
      "outputs": [
        {
          "output_type": "stream",
          "name": "stdout",
          "text": [
            "Index(['similar_title', 'score', 'max', 'score_div_max', 'reference',\n",
            "       'reference_titleid'],\n",
            "      dtype='object')\n",
            "Index(['similar_title', 'score', 'max', 'score_div_max', 'reference',\n",
            "       'reference_titleid'],\n",
            "      dtype='object')\n",
            "Index(['similar_title', 'score', 'max', 'score_div_max', 'reference',\n",
            "       'reference_titleid'],\n",
            "      dtype='object')\n",
            "Index(['similar_title', 'score', 'max', 'score_div_max', 'reference',\n",
            "       'reference_titleid'],\n",
            "      dtype='object')\n",
            "Index(['similar_title', 'score', 'max', 'score_div_max', 'reference',\n",
            "       'reference_titleid'],\n",
            "      dtype='object')\n",
            "Index(['similar_title', 'score', 'max', 'score_div_max', 'reference',\n",
            "       'reference_titleid'],\n",
            "      dtype='object')\n",
            "Index(['similar_title', 'score', 'max', 'score_div_max', 'reference',\n",
            "       'reference_titleid'],\n",
            "      dtype='object')\n",
            "Index(['similar_title', 'score', 'max', 'score_div_max', 'reference',\n",
            "       'reference_titleid'],\n",
            "      dtype='object')\n",
            "Index(['similar_title', 'score', 'max', 'score_div_max', 'reference',\n",
            "       'reference_titleid'],\n",
            "      dtype='object')\n",
            "Index(['similar_title', 'score', 'max', 'score_div_max', 'reference',\n",
            "       'reference_titleid'],\n",
            "      dtype='object')\n",
            "Index(['similar_title', 'score', 'max', 'score_div_max', 'reference',\n",
            "       'reference_titleid'],\n",
            "      dtype='object')\n",
            "Index(['similar_title', 'score', 'max', 'score_div_max', 'reference',\n",
            "       'reference_titleid'],\n",
            "      dtype='object')\n",
            "Index(['similar_title', 'score', 'max', 'score_div_max', 'reference',\n",
            "       'reference_titleid'],\n",
            "      dtype='object')\n",
            "Index(['similar_title', 'score', 'max', 'score_div_max', 'reference',\n",
            "       'reference_titleid'],\n",
            "      dtype='object')\n",
            "Index(['similar_title', 'score', 'max', 'score_div_max', 'reference',\n",
            "       'reference_titleid'],\n",
            "      dtype='object')\n",
            "Index(['similar_title', 'score', 'max', 'score_div_max', 'reference',\n",
            "       'reference_titleid'],\n",
            "      dtype='object')\n",
            "Index(['similar_title', 'score', 'max', 'score_div_max', 'reference',\n",
            "       'reference_titleid'],\n",
            "      dtype='object')\n",
            "Index(['similar_title', 'score', 'max', 'score_div_max', 'reference',\n",
            "       'reference_titleid'],\n",
            "      dtype='object')\n",
            "Index(['similar_title', 'score', 'max', 'score_div_max', 'reference',\n",
            "       'reference_titleid'],\n",
            "      dtype='object')\n",
            "Index(['similar_title', 'score', 'max', 'score_div_max', 'reference',\n",
            "       'reference_titleid'],\n",
            "      dtype='object')\n",
            "Index(['similar_title', 'score', 'max', 'score_div_max', 'reference',\n",
            "       'reference_titleid'],\n",
            "      dtype='object')\n",
            "Index(['similar_title', 'score', 'max', 'score_div_max', 'reference',\n",
            "       'reference_titleid'],\n",
            "      dtype='object')\n",
            "Index(['similar_title', 'score', 'max', 'score_div_max', 'reference',\n",
            "       'reference_titleid'],\n",
            "      dtype='object')\n",
            "Index(['similar_title', 'score', 'max', 'score_div_max', 'reference',\n",
            "       'reference_titleid'],\n",
            "      dtype='object')\n"
          ]
        }
      ]
    },
    {
      "cell_type": "markdown",
      "metadata": {
        "id": "wqaUEFqxXZYB"
      },
      "source": [
        "### Test Contrafacts"
      ]
    },
    {
      "cell_type": "markdown",
      "metadata": {
        "id": "563ncYqAfIyN"
      },
      "source": [
        "With the model, query the top N highest matches for each section. For a tune, if at least one section receives the recommendation  for the expected title, increase the match counter."
      ]
    },
    {
      "cell_type": "code",
      "metadata": {
        "id": "RVPtraR-hg0G"
      },
      "source": [
        "def test_contrafacts(tunes, index, model, N=15):\n",
        "  matches = 0\n",
        "  number_of_sections = 0\n",
        "  results = {}\n",
        "\n",
        "  for tune, similar_tune in tunes.items():\n",
        "    \n",
        "    # loop over all sections of the tune\n",
        "    section_matches = 0\n",
        "    for s1 in title_to_sectionid[tune]:\n",
        "      query = processed_corpus[s1]\n",
        "      query_bow = dictionary.doc2bow(query)\n",
        "\n",
        "      # perform a similarity query against the corpus\n",
        "      similarities = index[model[query_bow]]\n",
        "      sims = sorted(enumerate(similarities), key=lambda item: -item[1])\n",
        "\n",
        "      # check if the section matches the expected title; consider only the first 15 recommendations\n",
        "      i = 0\n",
        "      for sectionid, value in sims:\n",
        "        if i >= N:\n",
        "          break\n",
        "        i += 1\n",
        "        if sectionid_to_title[sectionid] == similar_tune:\n",
        "          section_matches += 1\n",
        "\n",
        "    # for each title, increase matches if at least one of the section matched the expected title\n",
        "    if section_matches > 0:\n",
        "      matches += 1  \n",
        "      results[tune] = 1\n",
        "    else:\n",
        "      results[tune] = 0\n",
        "  \n",
        "  return matches, results\n"
      ],
      "execution_count": 57,
      "outputs": []
    },
    {
      "cell_type": "code",
      "metadata": {
        "colab": {
          "base_uri": "https://localhost:8080/"
        },
        "id": "Q628rO5DhxWD",
        "outputId": "a072cbaa-8745-4d75-fa04-21bfd6a63349"
      },
      "source": [
        "topN = 15\n",
        "matches, results = test_contrafacts(contrafacts, index_tfidf, tfidf, topN)\n",
        "\n",
        "[print(f\"{val}: {rr}\") for rr, val in results.items()] \n",
        "print() \n",
        "print(f\"Found matches: {matches} out of {len(contrafacts)}: {100*matches/len(contrafacts):.3f}%\")"
      ],
      "execution_count": 58,
      "outputs": [
        {
          "output_type": "stream",
          "name": "stdout",
          "text": [
            "0: 26-2 [jazz1350]\n",
            "0: 52nd Street Theme [jazz1350]\n",
            "1: Ablution [jazz1350]\n",
            "1: Anthropology [jazz1350]\n",
            "0: Ballade [jazz1350]\n",
            "1: Bright Mississippi [jazz1350]\n",
            "1: C.T.A. [jazz1350]\n",
            "1: Cottontail [jazz1350]\n",
            "1: Countdown [jazz1350]\n",
            "0: Dewey Square [jazz1350]\n",
            "1: Dexterity [jazz1350]\n",
            "1: Dig [jazz1350]\n",
            "1: Donna Lee [jazz1350]\n",
            "0: Don't Be That Way [jazz1350]\n",
            "1: Evidence [jazz1350]\n",
            "1: Flintstones [jazz1350]\n",
            "0: Four On Six [jazz1350]\n",
            "1: Freight Train [jazz1350]\n",
            "0: Good Bait [jazz1350]\n",
            "1: Hackensack [jazz1350]\n",
            "1: Half Nelson [jazz1350]\n",
            "1: Hot House [jazz1350]\n",
            "1: Impressions [jazz1350]\n",
            "0: In A Mellow Tone (In A Mellotone) [jazz1350]\n",
            "1: In Walked Bud [jazz1350]\n",
            "1: Ko Ko [jazz1350]\n",
            "0: Lennie's Pennies [jazz1350]\n",
            "0: Little Rootie Tootie [jazz1350]\n",
            "0: Little Willie Leaps [jazz1350]\n",
            "0: Lullaby Of Birdland [jazz1350]\n",
            "0: My Little Suede Shoes [jazz1350]\n",
            "1: Ornithology [jazz1350]\n",
            "0: Quasimodo (Theme) [jazz1350]\n",
            "0: Room 608 [jazz1350]\n",
            "1: Satellite [jazz1350]\n",
            "1: Scrapple From The Apple [jazz1350]\n",
            "1: Tour De Force [jazz1350]\n",
            "1: Wow [jazz1350]\n",
            "1: Yardbird Suite [jazz1350]\n",
            "0: Sweet Sue, Just You [jazz1350]\n",
            "0: These Foolish Things [jazz1350]\n",
            "1: Misty [jazz1350]\n",
            "\n",
            "Found matches: 25 out of 42: 59.524%\n"
          ]
        }
      ]
    },
    {
      "cell_type": "code",
      "metadata": {
        "id": "8lKZukYybvMJ"
      },
      "source": [
        "model_name = 'tfidf'\n",
        "if use_wandb:\n",
        "  wandb.log(\n",
        "      {model_name: {\n",
        "                'contrafacts': {\n",
        "                    'topN': topN,\n",
        "                    'success': matches/len(contrafacts),\n",
        "                    #'results': results\n",
        "                    }\n",
        "                   },\n",
        "       'all_models': {\n",
        "           model_name: wandb.Table(\n",
        "               columns=[\"Title\", \"Match\"],\n",
        "               data=[[key, value] for key, value in results.items()]),\n",
        "       }\n",
        "       })"
      ],
      "execution_count": 59,
      "outputs": []
    },
    {
      "cell_type": "markdown",
      "metadata": {
        "id": "Phw7fBDk0px7"
      },
      "source": [
        "## Store TF-IDF Model to W&B"
      ]
    },
    {
      "cell_type": "code",
      "metadata": {
        "id": "KdYWJX-60pdd"
      },
      "source": [
        "if use_wandb:\n",
        "  model_artifact = wandb.Artifact(\n",
        "      \"model_tfidf\", \n",
        "      type=\"model\",\n",
        "      description=\"TF-IDF Model\",\n",
        "      metadata=\"\")\n",
        "\n",
        "  model_artifact.add_file(\"/content/index/tfidf.model\")\n",
        "  model_artifact.add_file(\"/content/index/tfidf.index\")\n",
        "  wandb.log_artifact(model_artifact)"
      ],
      "execution_count": 60,
      "outputs": []
    },
    {
      "cell_type": "markdown",
      "metadata": {
        "id": "Pj0mpWpahPu1"
      },
      "source": [
        "## Get Recommender Data for WebApp\n",
        "\n"
      ]
    },
    {
      "cell_type": "code",
      "metadata": {
        "id": "buRbSTWehvPP"
      },
      "source": [
        "tune_test = [\"These Foolish Things [jazz1350]\",\n",
        "             \"Misty [jazz1350]\"]"
      ],
      "execution_count": 61,
      "outputs": []
    },
    {
      "cell_type": "code",
      "metadata": {
        "colab": {
          "base_uri": "https://localhost:8080/"
        },
        "id": "kwdXs-pZjKKD",
        "outputId": "72c63b23-ee33-4a60-f663-5b94852bc4ba"
      },
      "source": [
        "%%time\n",
        "tunes = tunes_eval_list\n",
        "\n",
        "df_sim = get_sim_scores(tunes, index_tfidf, tfidf)\n",
        "\n",
        "result = None\n",
        "for tune in tunes:\n",
        "  tune_result, details = recommend_tune(df_sim, tune)\n",
        "  if result is None:\n",
        "    result = pd.DataFrame(columns=tune_result.columns)\n",
        "  result = result.append(tune_result)"
      ],
      "execution_count": 62,
      "outputs": [
        {
          "output_type": "stream",
          "name": "stdout",
          "text": [
            "\n",
            "--------------------------------------------------\n",
            "125 After You've Gone, section1 (A)\n",
            "126 After You've Gone, section2 (B)\n",
            "127 After You've Gone, section3 (A)\n",
            "128 After You've Gone, section4 (C)\n",
            "\n",
            "--------------------------------------------------\n",
            "188 All God's Chillun Got Rhythm, section1 (A)\n",
            "189 All God's Chillun Got Rhythm, section2 (B)\n",
            "190 All God's Chillun Got Rhythm, section3 (A)\n",
            "191 All God's Chillun Got Rhythm, section4 (C)\n",
            "\n",
            "--------------------------------------------------\n",
            "198 All Of Me, section1 (A)\n",
            "199 All Of Me, section2 (B)\n",
            "200 All Of Me, section3 (A)\n",
            "201 All Of Me, section4 (C)\n",
            "\n",
            "--------------------------------------------------\n",
            "474 Blood Count, section1 (A)\n",
            "475 Blood Count, section2 (A)\n",
            "476 Blood Count, section3 (B)\n",
            "477 Blood Count, section4 (A)\n",
            "478 Blood Count, section5 (C)\n",
            "\n",
            "--------------------------------------------------\n",
            "496 Blue Moon, section1 (A)\n",
            "497 Blue Moon, section2 (A)\n",
            "498 Blue Moon, section3 (B)\n",
            "499 Blue Moon, section4 (A)\n",
            "\n",
            "--------------------------------------------------\n",
            "626 But Beautiful, section1 (A)\n",
            "627 But Beautiful, section2 (B)\n",
            "628 But Beautiful, section3 (A)\n",
            "629 But Beautiful, section4 (C)\n",
            "\n",
            "--------------------------------------------------\n",
            "653 Bye Bye Blackbird, section1 (A)\n",
            "654 Bye Bye Blackbird, section2 (B)\n",
            "\n",
            "--------------------------------------------------\n",
            "676 Call Me Irresponsible, section1 (A)\n",
            "677 Call Me Irresponsible, section2 (B)\n",
            "678 Call Me Irresponsible, section3 (A)\n",
            "679 Call Me Irresponsible, section4 (B)\n",
            "\n",
            "--------------------------------------------------\n",
            "826 Corcovado, section1 (A)\n",
            "827 Corcovado, section2 (B)\n",
            "828 Corcovado, section3 (A)\n",
            "829 Corcovado, section4 (C)\n",
            "\n",
            "--------------------------------------------------\n",
            "997 Dinah, section1 (A)\n",
            "998 Dinah, section2 (A)\n",
            "999 Dinah, section3 (B)\n",
            "1000 Dinah, section4 (A)\n",
            "\n",
            "--------------------------------------------------\n",
            "1125 East Of The Sun, section1 (A)\n",
            "1126 East Of The Sun, section2 (B)\n",
            "1127 East Of The Sun, section3 (A)\n",
            "1128 East Of The Sun, section4 (C)\n",
            "\n",
            "--------------------------------------------------\n",
            "1287 Footprints, section0 (nan)\n",
            "\n",
            "--------------------------------------------------\n",
            "1379 Giant Steps, section0 (nan)\n",
            "\n",
            "--------------------------------------------------\n",
            "1538 Honeysuckle Rose, section1 (A)\n",
            "1539 Honeysuckle Rose, section2 (A)\n",
            "1540 Honeysuckle Rose, section3 (B)\n",
            "1541 Honeysuckle Rose, section4 (A)\n",
            "\n",
            "--------------------------------------------------\n",
            "1647 I Got Rhythm, section1 (A)\n",
            "1648 I Got Rhythm, section2 (A)\n",
            "1649 I Got Rhythm, section3 (B)\n",
            "1650 I Got Rhythm, section4 (A)\n",
            "\n",
            "--------------------------------------------------\n",
            "2670 Misty, section1 (A)\n",
            "2671 Misty, section2 (A)\n",
            "2672 Misty, section3 (B)\n",
            "2673 Misty, section4 (A)\n",
            "\n",
            "--------------------------------------------------\n",
            "2857 Naima, section1 (A)\n",
            "2858 Naima, section2 (A)\n",
            "2859 Naima, section3 (B)\n",
            "2860 Naima, section4 (A)\n",
            "\n",
            "--------------------------------------------------\n",
            "5044 Old Fashioned Love, section0 (nan)\n",
            "\n",
            "--------------------------------------------------\n",
            "3142 Perdido, section1 (A)\n",
            "3143 Perdido, section2 (A)\n",
            "3144 Perdido, section3 (B)\n",
            "3145 Perdido, section4 (A)\n",
            "\n",
            "--------------------------------------------------\n",
            "3276 Rockin' Chair, section1 (A)\n",
            "3277 Rockin' Chair, section2 (B)\n",
            "3278 Rockin' Chair, section3 (A)\n",
            "\n",
            "--------------------------------------------------\n",
            "3578 Sophisticated Lady, section1 (A)\n",
            "3579 Sophisticated Lady, section2 (A)\n",
            "3580 Sophisticated Lady, section3 (B)\n",
            "3581 Sophisticated Lady, section4 (A)\n",
            "\n",
            "--------------------------------------------------\n",
            "3746 Sweet Sue, Just You, section1 (A)\n",
            "3747 Sweet Sue, Just You, section2 (A)\n",
            "3748 Sweet Sue, Just You, section3 (B)\n",
            "3749 Sweet Sue, Just You, section4 (A)\n",
            "\n",
            "--------------------------------------------------\n",
            "3860 These Foolish Things, section1 (A)\n",
            "3861 These Foolish Things, section2 (A)\n",
            "3862 These Foolish Things, section3 (B)\n",
            "3863 These Foolish Things, section4 (A)\n",
            "\n",
            "--------------------------------------------------\n",
            "4146 We'll Be Together Again, section1 (A)\n",
            "4147 We'll Be Together Again, section2 (A)\n",
            "4148 We'll Be Together Again, section3 (B)\n",
            "4149 We'll Be Together Again, section4 (A)\n",
            "Index(['similar_title', 'score', 'max', 'score_div_max', 'reference',\n",
            "       'reference_titleid'],\n",
            "      dtype='object')\n",
            "Index(['similar_title', 'score', 'max', 'score_div_max', 'reference',\n",
            "       'reference_titleid'],\n",
            "      dtype='object')\n",
            "Index(['similar_title', 'score', 'max', 'score_div_max', 'reference',\n",
            "       'reference_titleid'],\n",
            "      dtype='object')\n",
            "Index(['similar_title', 'score', 'max', 'score_div_max', 'reference',\n",
            "       'reference_titleid'],\n",
            "      dtype='object')\n",
            "Index(['similar_title', 'score', 'max', 'score_div_max', 'reference',\n",
            "       'reference_titleid'],\n",
            "      dtype='object')\n",
            "Index(['similar_title', 'score', 'max', 'score_div_max', 'reference',\n",
            "       'reference_titleid'],\n",
            "      dtype='object')\n",
            "Index(['similar_title', 'score', 'max', 'score_div_max', 'reference',\n",
            "       'reference_titleid'],\n",
            "      dtype='object')\n",
            "Index(['similar_title', 'score', 'max', 'score_div_max', 'reference',\n",
            "       'reference_titleid'],\n",
            "      dtype='object')\n",
            "Index(['similar_title', 'score', 'max', 'score_div_max', 'reference',\n",
            "       'reference_titleid'],\n",
            "      dtype='object')\n",
            "Index(['similar_title', 'score', 'max', 'score_div_max', 'reference',\n",
            "       'reference_titleid'],\n",
            "      dtype='object')\n",
            "Index(['similar_title', 'score', 'max', 'score_div_max', 'reference',\n",
            "       'reference_titleid'],\n",
            "      dtype='object')\n",
            "Index(['similar_title', 'score', 'max', 'score_div_max', 'reference',\n",
            "       'reference_titleid'],\n",
            "      dtype='object')\n",
            "Index(['similar_title', 'score', 'max', 'score_div_max', 'reference',\n",
            "       'reference_titleid'],\n",
            "      dtype='object')\n",
            "Index(['similar_title', 'score', 'max', 'score_div_max', 'reference',\n",
            "       'reference_titleid'],\n",
            "      dtype='object')\n",
            "Index(['similar_title', 'score', 'max', 'score_div_max', 'reference',\n",
            "       'reference_titleid'],\n",
            "      dtype='object')\n",
            "Index(['similar_title', 'score', 'max', 'score_div_max', 'reference',\n",
            "       'reference_titleid'],\n",
            "      dtype='object')\n",
            "Index(['similar_title', 'score', 'max', 'score_div_max', 'reference',\n",
            "       'reference_titleid'],\n",
            "      dtype='object')\n",
            "Index(['similar_title', 'score', 'max', 'score_div_max', 'reference',\n",
            "       'reference_titleid'],\n",
            "      dtype='object')\n",
            "Index(['similar_title', 'score', 'max', 'score_div_max', 'reference',\n",
            "       'reference_titleid'],\n",
            "      dtype='object')\n",
            "Index(['similar_title', 'score', 'max', 'score_div_max', 'reference',\n",
            "       'reference_titleid'],\n",
            "      dtype='object')\n",
            "Index(['similar_title', 'score', 'max', 'score_div_max', 'reference',\n",
            "       'reference_titleid'],\n",
            "      dtype='object')\n",
            "Index(['similar_title', 'score', 'max', 'score_div_max', 'reference',\n",
            "       'reference_titleid'],\n",
            "      dtype='object')\n",
            "Index(['similar_title', 'score', 'max', 'score_div_max', 'reference',\n",
            "       'reference_titleid'],\n",
            "      dtype='object')\n",
            "Index(['similar_title', 'score', 'max', 'score_div_max', 'reference',\n",
            "       'reference_titleid'],\n",
            "      dtype='object')\n",
            "CPU times: user 20.2 s, sys: 324 ms, total: 20.5 s\n",
            "Wall time: 20.4 s\n"
          ]
        }
      ]
    },
    {
      "cell_type": "code",
      "metadata": {
        "colab": {
          "base_uri": "https://localhost:8080/",
          "height": 424
        },
        "id": "K0OJnYy8kGQG",
        "outputId": "eafc8933-fcbf-43a5-efff-9f71cb753fb7"
      },
      "source": [
        "result"
      ],
      "execution_count": 63,
      "outputs": [
        {
          "output_type": "execute_result",
          "data": {
            "text/html": [
              "<div>\n",
              "<style scoped>\n",
              "    .dataframe tbody tr th:only-of-type {\n",
              "        vertical-align: middle;\n",
              "    }\n",
              "\n",
              "    .dataframe tbody tr th {\n",
              "        vertical-align: top;\n",
              "    }\n",
              "\n",
              "    .dataframe thead th {\n",
              "        text-align: right;\n",
              "    }\n",
              "</style>\n",
              "<table border=\"1\" class=\"dataframe\">\n",
              "  <thead>\n",
              "    <tr style=\"text-align: right;\">\n",
              "      <th></th>\n",
              "      <th>index</th>\n",
              "      <th>reference</th>\n",
              "      <th>reference_titleid</th>\n",
              "      <th>similar_title</th>\n",
              "      <th>score</th>\n",
              "      <th>max</th>\n",
              "      <th>score_div_max</th>\n",
              "    </tr>\n",
              "  </thead>\n",
              "  <tbody>\n",
              "    <tr>\n",
              "      <th>0</th>\n",
              "      <td>0</td>\n",
              "      <td>After You've Gone [jazz1350]</td>\n",
              "      <td>38</td>\n",
              "      <td>Little Girl Blue [jazz1350]</td>\n",
              "      <td>0.798833</td>\n",
              "      <td>0.798833</td>\n",
              "      <td>1.000000</td>\n",
              "    </tr>\n",
              "    <tr>\n",
              "      <th>1</th>\n",
              "      <td>1</td>\n",
              "      <td>After You've Gone [jazz1350]</td>\n",
              "      <td>38</td>\n",
              "      <td>Take The A Train [jazz1350]</td>\n",
              "      <td>0.981448</td>\n",
              "      <td>0.981448</td>\n",
              "      <td>1.000000</td>\n",
              "    </tr>\n",
              "    <tr>\n",
              "      <th>2</th>\n",
              "      <td>2</td>\n",
              "      <td>After You've Gone [jazz1350]</td>\n",
              "      <td>38</td>\n",
              "      <td>In The Middle Of A Kiss [jazz1350]</td>\n",
              "      <td>0.919650</td>\n",
              "      <td>0.919650</td>\n",
              "      <td>1.000000</td>\n",
              "    </tr>\n",
              "    <tr>\n",
              "      <th>3</th>\n",
              "      <td>3</td>\n",
              "      <td>After You've Gone [jazz1350]</td>\n",
              "      <td>38</td>\n",
              "      <td>Always [jazz1350]</td>\n",
              "      <td>0.903884</td>\n",
              "      <td>0.919650</td>\n",
              "      <td>0.982856</td>\n",
              "    </tr>\n",
              "    <tr>\n",
              "      <th>4</th>\n",
              "      <td>4</td>\n",
              "      <td>After You've Gone [jazz1350]</td>\n",
              "      <td>38</td>\n",
              "      <td>Party's Over, The [jazz1350]</td>\n",
              "      <td>0.757179</td>\n",
              "      <td>0.798833</td>\n",
              "      <td>0.947857</td>\n",
              "    </tr>\n",
              "    <tr>\n",
              "      <th>...</th>\n",
              "      <td>...</td>\n",
              "      <td>...</td>\n",
              "      <td>...</td>\n",
              "      <td>...</td>\n",
              "      <td>...</td>\n",
              "      <td>...</td>\n",
              "      <td>...</td>\n",
              "    </tr>\n",
              "    <tr>\n",
              "      <th>51</th>\n",
              "      <td>51</td>\n",
              "      <td>We'll Be Together Again [jazz1350]</td>\n",
              "      <td>1257</td>\n",
              "      <td>Very Thought Of You, The [jazz1350]</td>\n",
              "      <td>0.574669</td>\n",
              "      <td>0.856327</td>\n",
              "      <td>0.671086</td>\n",
              "    </tr>\n",
              "    <tr>\n",
              "      <th>52</th>\n",
              "      <td>52</td>\n",
              "      <td>We'll Be Together Again [jazz1350]</td>\n",
              "      <td>1257</td>\n",
              "      <td>Happiness Is A Thing Called Joe [jazz1350]</td>\n",
              "      <td>0.566666</td>\n",
              "      <td>0.856327</td>\n",
              "      <td>0.661741</td>\n",
              "    </tr>\n",
              "    <tr>\n",
              "      <th>53</th>\n",
              "      <td>53</td>\n",
              "      <td>We'll Be Together Again [jazz1350]</td>\n",
              "      <td>1257</td>\n",
              "      <td>Black And Blue [jazz1350]</td>\n",
              "      <td>0.566633</td>\n",
              "      <td>0.856327</td>\n",
              "      <td>0.661702</td>\n",
              "    </tr>\n",
              "    <tr>\n",
              "      <th>54</th>\n",
              "      <td>54</td>\n",
              "      <td>We'll Be Together Again [jazz1350]</td>\n",
              "      <td>1257</td>\n",
              "      <td>In Pursuit Of The 27th Man [jazz1350]</td>\n",
              "      <td>0.562702</td>\n",
              "      <td>0.856327</td>\n",
              "      <td>0.657111</td>\n",
              "    </tr>\n",
              "    <tr>\n",
              "      <th>55</th>\n",
              "      <td>55</td>\n",
              "      <td>We'll Be Together Again [jazz1350]</td>\n",
              "      <td>1257</td>\n",
              "      <td>Love Song Of The Nile [trad]</td>\n",
              "      <td>0.560960</td>\n",
              "      <td>0.856327</td>\n",
              "      <td>0.655076</td>\n",
              "    </tr>\n",
              "  </tbody>\n",
              "</table>\n",
              "<p>1337 rows × 7 columns</p>\n",
              "</div>"
            ],
            "text/plain": [
              "   index                           reference  ...       max score_div_max\n",
              "0      0        After You've Gone [jazz1350]  ...  0.798833      1.000000\n",
              "1      1        After You've Gone [jazz1350]  ...  0.981448      1.000000\n",
              "2      2        After You've Gone [jazz1350]  ...  0.919650      1.000000\n",
              "3      3        After You've Gone [jazz1350]  ...  0.919650      0.982856\n",
              "4      4        After You've Gone [jazz1350]  ...  0.798833      0.947857\n",
              "..   ...                                 ...  ...       ...           ...\n",
              "51    51  We'll Be Together Again [jazz1350]  ...  0.856327      0.671086\n",
              "52    52  We'll Be Together Again [jazz1350]  ...  0.856327      0.661741\n",
              "53    53  We'll Be Together Again [jazz1350]  ...  0.856327      0.661702\n",
              "54    54  We'll Be Together Again [jazz1350]  ...  0.856327      0.657111\n",
              "55    55  We'll Be Together Again [jazz1350]  ...  0.856327      0.655076\n",
              "\n",
              "[1337 rows x 7 columns]"
            ]
          },
          "metadata": {},
          "execution_count": 63
        }
      ]
    },
    {
      "cell_type": "code",
      "metadata": {
        "id": "uyJxqE5bnx7V"
      },
      "source": [
        "result.to_csv('output/recommender_tfidf.csv', sep='\\t', encoding='utf8')\n",
        "\n",
        "if use_wandb:\n",
        "  model_artifact = wandb.Artifact(\n",
        "      \"recommender_tfidf\", \n",
        "      type=\"csv\",\n",
        "      description=\"Recommendations for each Tune using TF-IDF Model (csv file)\",\n",
        "      metadata=\"\")\n",
        "\n",
        "  model_artifact.add_file(\"'output/recommender_tfidf.csv'\")\n",
        "  wandb.log_artifact(model_artifact)"
      ],
      "execution_count": 64,
      "outputs": []
    },
    {
      "cell_type": "markdown",
      "metadata": {
        "id": "99xHBRsd--OB"
      },
      "source": [
        "# LSA (Latent Semantic Analysis), aka LSI (Latent Semantic Index) "
      ]
    },
    {
      "cell_type": "code",
      "metadata": {
        "id": "adsW9Uh9_JXs"
      },
      "source": [
        "from collections import defaultdict"
      ],
      "execution_count": 65,
      "outputs": []
    },
    {
      "cell_type": "code",
      "metadata": {
        "colab": {
          "base_uri": "https://localhost:8080/"
        },
        "id": "s3AJZGRD_IHW",
        "outputId": "6ee5783a-b3cd-4d5a-b80b-3eb75f66f5da"
      },
      "source": [
        "num_topics = lsi_config['num_topics']\n",
        "\n",
        "# remove words that appear only once\n",
        "frequency = defaultdict(int)\n",
        "for text in processed_corpus:\n",
        "    for token in text:\n",
        "        frequency[token] += 1\n",
        "\n",
        "data = [[token for token in text if frequency[token] > 1] for text in processed_corpus]\n",
        "dictionary = corpora.Dictionary(data)\n",
        "\n",
        "# doc2bow counts the number of occurences of each distinct word,\n",
        "# converts the word to its integer word id and returns the result\n",
        "# as a sparse vector\n",
        "\n",
        "bow_corpus = [dictionary.doc2bow(text) for text in data]\n",
        "lsi = LsiModel(bow_corpus, id2word=dictionary, num_topics=num_topics)  # num_topics can be maximum the size of the number of unique tokens"
      ],
      "execution_count": 66,
      "outputs": [
        {
          "output_type": "stream",
          "name": "stderr",
          "text": [
            "2021-11-26 20:16:05,115 : INFO : adding document #0 to Dictionary(0 unique tokens: [])\n",
            "2021-11-26 20:16:05,230 : INFO : built Dictionary(72 unique tokens: ['Am', 'B7', 'C', 'C#', 'C7']...) from 5391 documents (total 82622 corpus positions)\n",
            "2021-11-26 20:16:05,232 : INFO : Dictionary lifecycle event {'msg': \"built Dictionary(72 unique tokens: ['Am', 'B7', 'C', 'C#', 'C7']...) from 5391 documents (total 82622 corpus positions)\", 'datetime': '2021-11-26T20:16:05.232407', 'gensim': '4.1.2', 'python': '3.7.12 (default, Sep 10 2021, 00:21:48) \\n[GCC 7.5.0]', 'platform': 'Linux-5.4.104+-x86_64-with-Ubuntu-18.04-bionic', 'event': 'created'}\n",
            "2021-11-26 20:16:05,296 : INFO : using serial LSI version on this node\n",
            "2021-11-26 20:16:05,298 : INFO : updating model with new documents\n",
            "2021-11-26 20:16:05,305 : INFO : preparing a new chunk of documents\n",
            "2021-11-26 20:16:05,351 : INFO : using 100 extra samples and 2 power iterations\n",
            "2021-11-26 20:16:05,353 : INFO : 1st phase: constructing (72, 300) action matrix\n",
            "2021-11-26 20:16:05,462 : INFO : orthonormalizing (72, 300) action matrix\n",
            "2021-11-26 20:16:05,495 : INFO : 2nd phase: running dense svd on (72, 5391) matrix\n",
            "2021-11-26 20:16:05,566 : INFO : computing the final decomposition\n",
            "2021-11-26 20:16:05,569 : INFO : keeping 72 factors (discarding 0.000% of energy spectrum)\n",
            "2021-11-26 20:16:05,584 : INFO : processed documents up to #5391\n",
            "2021-11-26 20:16:05,586 : INFO : topic #0(398.310): 0.714*\"C\" + 0.508*\"G7\" + 0.286*\"Dm\" + 0.176*\"D7\" + 0.168*\"A7\" + 0.160*\"F\" + 0.150*\"Am\" + 0.115*\"C7\" + 0.092*\"E7\" + 0.080*\"Em\"\n",
            "2021-11-26 20:16:05,591 : INFO : topic #1(168.270): 0.780*\"Am\" + -0.378*\"C\" + 0.342*\"E7\" + 0.266*\"Dm\" + 0.114*\"Bm7b5\" + 0.097*\"Em\" + 0.088*\"A7\" + 0.080*\"D7\" + 0.071*\"F7\" + 0.066*\"B7\"\n",
            "2021-11-26 20:16:05,596 : INFO : topic #2(129.738): 0.652*\"Dm\" + -0.363*\"Am\" + -0.348*\"C\" + 0.270*\"A7\" + 0.263*\"G7\" + -0.232*\"F\" + 0.229*\"Em\" + -0.181*\"E7\" + -0.146*\"D7\" + -0.065*\"G\"\n",
            "2021-11-26 20:16:05,599 : INFO : topic #3(113.617): -0.724*\"C7\" + 0.341*\"C\" + -0.300*\"D7\" + -0.272*\"G7\" + 0.245*\"Dm\" + -0.218*\"F\" + 0.179*\"Am\" + -0.130*\"F7\" + -0.102*\"Gm\" + -0.094*\"Bb7\"\n",
            "2021-11-26 20:16:05,603 : INFO : topic #4(104.284): -0.579*\"D7\" + 0.415*\"C7\" + 0.354*\"F\" + -0.307*\"G7\" + -0.293*\"A7\" + 0.279*\"Dm\" + -0.159*\"E7\" + 0.141*\"C\" + 0.137*\"Em\" + 0.114*\"Gm\"\n",
            "2021-11-26 20:16:05,607 : INFO : LsiModel lifecycle event {'msg': 'trained LsiModel(num_terms=72, num_topics=200, decay=1.0, chunksize=20000) in 0.31s', 'datetime': '2021-11-26T20:16:05.606996', 'gensim': '4.1.2', 'python': '3.7.12 (default, Sep 10 2021, 00:21:48) \\n[GCC 7.5.0]', 'platform': 'Linux-5.4.104+-x86_64-with-Ubuntu-18.04-bionic', 'event': 'created'}\n"
          ]
        }
      ]
    },
    {
      "cell_type": "code",
      "metadata": {
        "id": "EvxSQFfBBNMJ",
        "colab": {
          "base_uri": "https://localhost:8080/"
        },
        "outputId": "e1c5f1ac-a2bf-4569-ef31-05407478b825"
      },
      "source": [
        "index_lsi = similarities.Similarity('/content/index/index_lsi', lsi[bow_corpus], num_features=len(dictionary))"
      ],
      "execution_count": 67,
      "outputs": [
        {
          "output_type": "stream",
          "name": "stderr",
          "text": [
            "2021-11-26 20:16:05,634 : INFO : starting similarity index under /content/index/index_lsi\n"
          ]
        }
      ]
    },
    {
      "cell_type": "code",
      "metadata": {
        "id": "3saA6NY5Tzer"
      },
      "source": [
        "#index_lsi = similarities.SparseMatrixSimilarity(lsi[bow_corpus], num_features = len(dictionary))\n",
        "#index_lsi = similarities.MatrixSimilarity(lsi[bow_corpus])  # transform corpus to LSI space and index it\n"
      ],
      "execution_count": 68,
      "outputs": []
    },
    {
      "cell_type": "code",
      "metadata": {
        "colab": {
          "base_uri": "https://localhost:8080/"
        },
        "id": "F5pbDMVyfEtS",
        "outputId": "d2b1d68a-090c-4ea7-dc92-dc48e2bab4ad"
      },
      "source": [
        "lsi.save('/content/index/lsi.model')\n",
        "index_lsi.save('/content/index/lsi_matrixsim.index')\n"
      ],
      "execution_count": 69,
      "outputs": [
        {
          "output_type": "stream",
          "name": "stderr",
          "text": [
            "2021-11-26 20:16:06,275 : INFO : Projection lifecycle event {'fname_or_handle': '/content/index/lsi.model.projection', 'separately': 'None', 'sep_limit': 10485760, 'ignore': frozenset(), 'datetime': '2021-11-26T20:16:06.275242', 'gensim': '4.1.2', 'python': '3.7.12 (default, Sep 10 2021, 00:21:48) \\n[GCC 7.5.0]', 'platform': 'Linux-5.4.104+-x86_64-with-Ubuntu-18.04-bionic', 'event': 'saving'}\n",
            "2021-11-26 20:16:06,279 : INFO : saved /content/index/lsi.model.projection\n",
            "2021-11-26 20:16:06,291 : INFO : LsiModel lifecycle event {'fname_or_handle': '/content/index/lsi.model', 'separately': 'None', 'sep_limit': 10485760, 'ignore': ['projection', 'dispatcher'], 'datetime': '2021-11-26T20:16:06.291393', 'gensim': '4.1.2', 'python': '3.7.12 (default, Sep 10 2021, 00:21:48) \\n[GCC 7.5.0]', 'platform': 'Linux-5.4.104+-x86_64-with-Ubuntu-18.04-bionic', 'event': 'saving'}\n",
            "2021-11-26 20:16:06,295 : INFO : not storing attribute projection\n",
            "2021-11-26 20:16:06,298 : INFO : not storing attribute dispatcher\n",
            "2021-11-26 20:16:06,303 : INFO : saved /content/index/lsi.model\n",
            "2021-11-26 20:16:06,306 : INFO : creating matrix with 5391 documents and 72 features\n",
            "2021-11-26 20:16:06,335 : INFO : creating dense shard #0\n",
            "2021-11-26 20:16:06,338 : INFO : saving index shard to /content/index/index_lsi.0\n",
            "2021-11-26 20:16:06,340 : INFO : MatrixSimilarity lifecycle event {'fname_or_handle': '/content/index/index_lsi.0', 'separately': 'None', 'sep_limit': 10485760, 'ignore': frozenset(), 'datetime': '2021-11-26T20:16:06.340848', 'gensim': '4.1.2', 'python': '3.7.12 (default, Sep 10 2021, 00:21:48) \\n[GCC 7.5.0]', 'platform': 'Linux-5.4.104+-x86_64-with-Ubuntu-18.04-bionic', 'event': 'saving'}\n",
            "2021-11-26 20:16:06,348 : INFO : saved /content/index/index_lsi.0\n",
            "2021-11-26 20:16:06,351 : INFO : loading MatrixSimilarity object from /content/index/index_lsi.0\n",
            "2021-11-26 20:16:06,358 : INFO : MatrixSimilarity lifecycle event {'fname': '/content/index/index_lsi.0', 'datetime': '2021-11-26T20:16:06.358635', 'gensim': '4.1.2', 'python': '3.7.12 (default, Sep 10 2021, 00:21:48) \\n[GCC 7.5.0]', 'platform': 'Linux-5.4.104+-x86_64-with-Ubuntu-18.04-bionic', 'event': 'loaded'}\n",
            "2021-11-26 20:16:06,369 : INFO : Similarity lifecycle event {'fname_or_handle': '/content/index/lsi_matrixsim.index', 'separately': 'None', 'sep_limit': 10485760, 'ignore': frozenset(), 'datetime': '2021-11-26T20:16:06.368949', 'gensim': '4.1.2', 'python': '3.7.12 (default, Sep 10 2021, 00:21:48) \\n[GCC 7.5.0]', 'platform': 'Linux-5.4.104+-x86_64-with-Ubuntu-18.04-bionic', 'event': 'saving'}\n",
            "2021-11-26 20:16:06,373 : INFO : saved /content/index/lsi_matrixsim.index\n"
          ]
        }
      ]
    },
    {
      "cell_type": "code",
      "metadata": {
        "colab": {
          "base_uri": "https://localhost:8080/"
        },
        "id": "1udPIceqYk6S",
        "outputId": "8da6f4ca-32ee-45b5-aee2-8c817890110a"
      },
      "source": [
        "!ls -la /content/index"
      ],
      "execution_count": 70,
      "outputs": [
        {
          "output_type": "stream",
          "name": "stdout",
          "text": [
            "total 1932\n",
            "drwxr-xr-x 2 root root    4096 Nov 26 20:16 .\n",
            "drwxr-xr-x 1 root root    4096 Nov 26 20:15 ..\n",
            "-rw-r--r-- 1 root root 1553280 Nov 26 20:16 index_lsi.0\n",
            "-rw-r--r-- 1 root root     742 Nov 26 20:16 lsi_matrixsim.index\n",
            "-rw-r--r-- 1 root root    2728 Nov 26 20:16 lsi.model\n",
            "-rw-r--r-- 1 root root   42728 Nov 26 20:16 lsi.model.projection\n",
            "-rw-r--r-- 1 root root  352360 Nov 26 20:15 tfidf.index\n",
            "-rw-r--r-- 1 root root    2782 Nov 26 20:15 tfidf.model\n"
          ]
        }
      ]
    },
    {
      "cell_type": "markdown",
      "metadata": {
        "id": "u05KD64Ai1uo"
      },
      "source": [
        "## Tests"
      ]
    },
    {
      "cell_type": "markdown",
      "metadata": {
        "id": "pDxTCAGv9MmZ"
      },
      "source": [
        "### Test for single tunes"
      ]
    },
    {
      "cell_type": "code",
      "metadata": {
        "colab": {
          "base_uri": "https://localhost:8080/"
        },
        "id": "khASSJ1eEuf5",
        "outputId": "7fa1f004-3606-4395-a9fb-bf3ea45d278e"
      },
      "source": [
        "%%time\n",
        "df_sim = get_sim_scores(tunes_eval_list, index=index_lsi, model=lsi)\n",
        "\n",
        "# save a copy of the results; all results will be concatenated at the end\n",
        "df_lsi = df_sim[:]"
      ],
      "execution_count": 71,
      "outputs": [
        {
          "output_type": "stream",
          "name": "stdout",
          "text": [
            "\n",
            "--------------------------------------------------\n",
            "125 After You've Gone, section1 (A)\n",
            "126 After You've Gone, section2 (B)\n",
            "127 After You've Gone, section3 (A)\n",
            "128 After You've Gone, section4 (C)\n",
            "\n",
            "--------------------------------------------------\n",
            "188 All God's Chillun Got Rhythm, section1 (A)\n",
            "189 All God's Chillun Got Rhythm, section2 (B)\n",
            "190 All God's Chillun Got Rhythm, section3 (A)\n",
            "191 All God's Chillun Got Rhythm, section4 (C)\n",
            "\n",
            "--------------------------------------------------\n",
            "198 All Of Me, section1 (A)\n",
            "199 All Of Me, section2 (B)\n",
            "200 All Of Me, section3 (A)\n",
            "201 All Of Me, section4 (C)\n",
            "\n",
            "--------------------------------------------------\n",
            "474 Blood Count, section1 (A)\n",
            "475 Blood Count, section2 (A)\n",
            "476 Blood Count, section3 (B)\n",
            "477 Blood Count, section4 (A)\n",
            "478 Blood Count, section5 (C)\n",
            "\n",
            "--------------------------------------------------\n",
            "496 Blue Moon, section1 (A)\n",
            "497 Blue Moon, section2 (A)\n",
            "498 Blue Moon, section3 (B)\n",
            "499 Blue Moon, section4 (A)\n",
            "\n",
            "--------------------------------------------------\n",
            "626 But Beautiful, section1 (A)\n",
            "627 But Beautiful, section2 (B)\n",
            "628 But Beautiful, section3 (A)\n",
            "629 But Beautiful, section4 (C)\n",
            "\n",
            "--------------------------------------------------\n",
            "653 Bye Bye Blackbird, section1 (A)\n",
            "654 Bye Bye Blackbird, section2 (B)\n",
            "\n",
            "--------------------------------------------------\n",
            "676 Call Me Irresponsible, section1 (A)\n",
            "677 Call Me Irresponsible, section2 (B)\n",
            "678 Call Me Irresponsible, section3 (A)\n",
            "679 Call Me Irresponsible, section4 (B)\n",
            "\n",
            "--------------------------------------------------\n",
            "826 Corcovado, section1 (A)\n",
            "827 Corcovado, section2 (B)\n",
            "828 Corcovado, section3 (A)\n",
            "829 Corcovado, section4 (C)\n",
            "\n",
            "--------------------------------------------------\n",
            "997 Dinah, section1 (A)\n",
            "998 Dinah, section2 (A)\n",
            "999 Dinah, section3 (B)\n",
            "1000 Dinah, section4 (A)\n",
            "\n",
            "--------------------------------------------------\n",
            "1125 East Of The Sun, section1 (A)\n",
            "1126 East Of The Sun, section2 (B)\n",
            "1127 East Of The Sun, section3 (A)\n",
            "1128 East Of The Sun, section4 (C)\n",
            "\n",
            "--------------------------------------------------\n",
            "1287 Footprints, section0 (nan)\n",
            "\n",
            "--------------------------------------------------\n",
            "1379 Giant Steps, section0 (nan)\n",
            "\n",
            "--------------------------------------------------\n",
            "1538 Honeysuckle Rose, section1 (A)\n",
            "1539 Honeysuckle Rose, section2 (A)\n",
            "1540 Honeysuckle Rose, section3 (B)\n",
            "1541 Honeysuckle Rose, section4 (A)\n",
            "\n",
            "--------------------------------------------------\n",
            "1647 I Got Rhythm, section1 (A)\n",
            "1648 I Got Rhythm, section2 (A)\n",
            "1649 I Got Rhythm, section3 (B)\n",
            "1650 I Got Rhythm, section4 (A)\n",
            "\n",
            "--------------------------------------------------\n",
            "2670 Misty, section1 (A)\n",
            "2671 Misty, section2 (A)\n",
            "2672 Misty, section3 (B)\n",
            "2673 Misty, section4 (A)\n",
            "\n",
            "--------------------------------------------------\n",
            "2857 Naima, section1 (A)\n",
            "2858 Naima, section2 (A)\n",
            "2859 Naima, section3 (B)\n",
            "2860 Naima, section4 (A)\n",
            "\n",
            "--------------------------------------------------\n",
            "5044 Old Fashioned Love, section0 (nan)\n",
            "\n",
            "--------------------------------------------------\n",
            "3142 Perdido, section1 (A)\n",
            "3143 Perdido, section2 (A)\n",
            "3144 Perdido, section3 (B)\n",
            "3145 Perdido, section4 (A)\n",
            "\n",
            "--------------------------------------------------\n",
            "3276 Rockin' Chair, section1 (A)\n",
            "3277 Rockin' Chair, section2 (B)\n",
            "3278 Rockin' Chair, section3 (A)\n",
            "\n",
            "--------------------------------------------------\n",
            "3578 Sophisticated Lady, section1 (A)\n",
            "3579 Sophisticated Lady, section2 (A)\n",
            "3580 Sophisticated Lady, section3 (B)\n",
            "3581 Sophisticated Lady, section4 (A)\n",
            "\n",
            "--------------------------------------------------\n",
            "3746 Sweet Sue, Just You, section1 (A)\n",
            "3747 Sweet Sue, Just You, section2 (A)\n",
            "3748 Sweet Sue, Just You, section3 (B)\n",
            "3749 Sweet Sue, Just You, section4 (A)\n",
            "\n",
            "--------------------------------------------------\n",
            "3860 These Foolish Things, section1 (A)\n",
            "3861 These Foolish Things, section2 (A)\n",
            "3862 These Foolish Things, section3 (B)\n",
            "3863 These Foolish Things, section4 (A)\n",
            "\n",
            "--------------------------------------------------\n",
            "4146 We'll Be Together Again, section1 (A)\n",
            "4147 We'll Be Together Again, section2 (A)\n",
            "4148 We'll Be Together Again, section3 (B)\n",
            "4149 We'll Be Together Again, section4 (A)\n",
            "CPU times: user 25.9 s, sys: 8.72 s, total: 34.6 s\n",
            "Wall time: 25.5 s\n"
          ]
        }
      ]
    },
    {
      "cell_type": "code",
      "metadata": {
        "colab": {
          "base_uri": "https://localhost:8080/",
          "height": 542
        },
        "id": "X31lkvUsDAsU",
        "outputId": "6917dd44-d970-4f69-ed9e-ab3e15862b8e"
      },
      "source": [
        "import plotly.express as px\n",
        "fig = px.histogram(df_sim, x=\"score\", nbins=50, title='LSI Scores')\n",
        "fig.show()"
      ],
      "execution_count": 72,
      "outputs": [
        {
          "output_type": "display_data",
          "data": {
            "text/html": [
              "<html>\n",
              "<head><meta charset=\"utf-8\" /></head>\n",
              "<body>\n",
              "    <div>\n",
              "            <script src=\"https://cdnjs.cloudflare.com/ajax/libs/mathjax/2.7.5/MathJax.js?config=TeX-AMS-MML_SVG\"></script><script type=\"text/javascript\">if (window.MathJax) {MathJax.Hub.Config({SVG: {font: \"STIX-Web\"}});}</script>\n",
              "                <script type=\"text/javascript\">window.PlotlyConfig = {MathJaxConfig: 'local'};</script>\n",
              "        <script src=\"https://cdn.plot.ly/plotly-latest.min.js\"></script>    \n",
              "            <div id=\"4487d493-bfa0-447b-b93c-9f824e4904fe\" class=\"plotly-graph-div\" style=\"height:525px; width:100%;\"></div>\n",
              "            <script type=\"text/javascript\">\n",
              "                \n",
              "                    window.PLOTLYENV=window.PLOTLYENV || {};\n",
              "                    \n",
              "                if (document.getElementById(\"4487d493-bfa0-447b-b93c-9f824e4904fe\")) {\n",
              "                    Plotly.newPlot(\n",
              "                        '4487d493-bfa0-447b-b93c-9f824e4904fe',\n",
              "                        [{\"alignmentgroup\": \"True\", \"bingroup\": \"x\", \"hoverlabel\": {\"namelength\": 0}, \"hovertemplate\": \"score=%{x}<br>count=%{y}\", \"legendgroup\": \"\", \"marker\": {\"color\": \"#636efa\"}, \"name\": \"\", \"nbinsx\": 50, \"offsetgroup\": \"\", \"orientation\": \"v\", \"showlegend\": false, \"type\": \"histogram\", \"x\": [0.8872442245483398, 0.8333333134651184, 0.8333333134651184, 0.8333333134651184, 0.8268688321113586, 0.8215838074684143, 0.8164966106414795, 0.8164966106414795, 0.8164966106414795, 0.8164966106414795, 0.8164966106414795, 0.8164966106414795, 0.8164965510368347, 0.8164964914321899, 0.8146880865097046, 0.8146880865097046, 0.8146880865097046, 0.8128778338432312, 0.8115026354789734, 0.8082903027534485, 0.8056291937828064, 0.8022767305374146, 0.8017836809158325, 0.8006407618522644, 0.8006407618522644, 0.8006407618522644, 0.796097993850708, 0.7960029244422913, 0.7938566207885742, 0.7938566207885742, 0.7938566207885742, 0.7938565611839294, 0.7937363982200623, 0.7925938963890076, 0.7924057841300964, 0.7905694246292114, 0.7905694246292114, 0.7874259948730469, 0.7844645380973816, 0.7835467457771301, 0.7833494544029236, 0.9449111819267273, 0.9449111819267273, 0.9449111819267273, 0.9294209480285645, 0.927730917930603, 0.9237152934074402, 0.9164397716522217, 0.9116846919059753, 0.9116846919059753, 0.9116846919059753, 0.9116846919059753, 0.9092413783073425, 0.9086882472038269, 0.90748530626297, 0.90748530626297, 0.9074851870536804, 0.8989697098731995, 0.8976656198501587, 0.8968700766563416, 0.8964548110961914, 0.8944271802902222, 0.8933250308036804, 0.8933250308036804, 0.8933250308036804, 0.8928571939468384, 0.8916451334953308, 0.8916451334953308, 0.8916451334953308, 0.8914850354194641, 0.8910421133041382, 0.8910420536994934, 0.889499306678772, 0.889499306678772, 0.8894991278648376, 0.8887815475463867, 0.8838084936141968, 0.8828535079956055, 0.8824974894523621, 0.8821085691452026, 0.8819171190261841, 0.8819171190261841, 0.8872442245483398, 0.8333333134651184, 0.8333333134651184, 0.8333333134651184, 0.8268688321113586, 0.8215838074684143, 0.8164966106414795, 0.8164966106414795, 0.8164966106414795, 0.8164966106414795, 0.8164966106414795, 0.8164966106414795, 0.8164965510368347, 0.8164964914321899, 0.8146880865097046, 0.8146880865097046, 0.8146880865097046, 0.8128778338432312, 0.8115026354789734, 0.8082903027534485, 0.8056291937828064, 0.8022767305374146, 0.8017836809158325, 0.8006407618522644, 0.8006407618522644, 0.8006407618522644, 0.796097993850708, 0.7960029244422913, 0.7938566207885742, 0.7938566207885742, 0.7938566207885742, 0.7938565611839294, 0.7937363982200623, 0.7925938963890076, 0.7924057841300964, 0.7905694246292114, 0.7905694246292114, 0.7874259948730469, 0.7844645380973816, 0.7835467457771301, 0.7833494544029236, 0.9096581935882568, 0.9022911787033081, 0.9016695618629456, 0.8867155909538269, 0.8795367479324341, 0.8730378746986389, 0.8716936111450195, 0.8716936111450195, 0.8716138601303101, 0.8700222373008728, 0.8700222373008728, 0.8700221180915833, 0.8675329685211182, 0.8675328493118286, 0.8657459020614624, 0.8657053709030151, 0.8657053112983704, 0.8650469183921814, 0.8650146126747131, 0.8633970022201538, 0.8607285618782043, 0.8598892688751221, 0.859207272529602, 0.8589556813240051, 0.8589556813240051, 0.8589556813240051, 0.8575894236564636, 0.8570745587348938, 0.857074499130249, 0.855844259262085, 0.8553988337516785, 0.8536584973335266, 0.8528679609298706, 0.8520770072937012, 0.8519977331161499, 0.8519828915596008, 0.8502658009529114, 0.8502658009529114, 0.8502658009529114, 0.8501022458076477, 0.847586989402771, 0.9749999642372131, 0.9695895910263062, 0.9682456851005554, 0.9561829566955566, 0.9560661315917969, 0.9560660719871521, 0.9547033309936523, 0.954594075679779, 0.946340024471283, 0.946340024471283, 0.942927896976471, 0.9407528638839722, 0.9398255348205566, 0.9398255348205566, 0.9389711618423462, 0.9383147954940796, 0.9375001192092896, 0.9360565543174744, 0.9360565543174744, 0.9360565543174744, 0.9359709620475769, 0.9354143142700195, 0.9341285228729248, 0.9341285228729248, 0.932773232460022, 0.9284766316413879, 0.9284766316413879, 0.9282791018486023, 0.9280776977539062, 0.9280776977539062, 0.9280775785446167, 0.9274260401725769, 0.9263022541999817, 0.9263021349906921, 0.9250001311302185, 0.9250001311302185, 0.923186182975769, 0.92317134141922, 0.9231711626052856, 0.9223309755325317, 0.9214785695075989, 0.9309494495391846, 0.9013878107070923, 0.8966439366340637, 0.8894992470741272, 0.8894990682601929, 0.8882312178611755, 0.8869685530662537, 0.882522702217102, 0.8744746446609497, 0.8702853918075562, 0.8682430982589722, 0.8674725294113159, 0.8608285188674927, 0.8608284592628479, 0.8600261211395264, 0.8593379259109497, 0.8589844703674316, 0.8561726808547974, 0.8561726808547974, 0.8561726808547974, 0.8561726212501526, 0.8561726212501526, 0.8559209704399109, 0.8540168404579163, 0.8530422449111938, 0.8492078185081482, 0.8492077589035034, 0.8492076992988586, 0.8492076992988586, 0.8473185896873474, 0.8473184704780579, 0.8473184704780579, 0.8468303084373474, 0.8468303084373474, 0.8459098935127258, 0.8438529968261719, 0.8438195586204529, 0.8406728506088257, 0.8386279344558716, 0.8383355140686035, 0.8376104831695557, 0.9749999642372131, 0.9695895910263062, 0.9682456851005554, 0.9561829566955566, 0.9560661315917969, 0.9560660719871521, 0.9547033309936523, 0.954594075679779, 0.946340024471283, 0.946340024471283, 0.942927896976471, 0.9407528638839722, 0.9398255348205566, 0.9398255348205566, 0.9389711618423462, 0.9383147954940796, 0.9375001192092896, 0.9360565543174744, 0.9360565543174744, 0.9360565543174744, 0.9359709620475769, 0.9354143142700195, 0.9341285228729248, 0.9341285228729248, 0.932773232460022, 0.9284766316413879, 0.9284766316413879, 0.9282791018486023, 0.9280776977539062, 0.9280776977539062, 0.9280775785446167, 0.9274260401725769, 0.9263022541999817, 0.9263021349906921, 0.9250001311302185, 0.9250001311302185, 0.923186182975769, 0.92317134141922, 0.9231711626052856, 0.9223309755325317, 0.9214785695075989, 0.9503288865089417, 0.9503288865089417, 0.9486833810806274, 0.9315559267997742, 0.9302604794502258, 0.9296697378158569, 0.9219545125961304, 0.9219544529914856, 0.9219544529914856, 0.9203579425811768, 0.9203579425811768, 0.9192389249801636, 0.9170605540275574, 0.9135003089904785, 0.9135003089904785, 0.910980224609375, 0.9101914167404175, 0.9101912975311279, 0.9091548323631287, 0.9091548323631287, 0.9091548323631287, 0.908738911151886, 0.908025324344635, 0.9080252647399902, 0.9071148633956909, 0.9071148037910461, 0.9071148037910461, 0.9071147441864014, 0.9068452715873718, 0.9068452715873718, 0.9068452715873718, 0.9057894945144653, 0.9057894945144653, 0.9057893753051758, 0.904534101486206, 0.9014912843704224, 0.9012492299079895, 0.9000000953674316, 0.9000000953674316, 0.9000000953674316, 0.8999999761581421, 0.9622504115104675, 0.8944272398948669, 0.8944271206855774, 0.8944271206855774, 0.8846516013145447, 0.8750001192092896, 0.8728716373443604, 0.866025447845459, 0.866025447845459, 0.866025447845459, 0.8574929237365723, 0.8534919023513794, 0.8512056469917297, 0.8488746881484985, 0.8488746881484985, 0.8488746881484985, 0.8486685156822205, 0.8463273644447327, 0.8461141586303711, 0.8401681184768677, 0.8391464352607727, 0.8391464352607727, 0.8360797166824341, 0.8356289863586426, 0.8320502638816833, 0.8320502638816833, 0.8249579668045044, 0.8249579668045044, 0.8249579668045044, 0.8249579071998596, 0.816496729850769, 0.8164966106414795, 0.8164965510368347, 0.8111070394515991, 0.8111070394515991, 0.8111070394515991, 0.8111070394515991, 0.8111070394515991, 0.8111070394515991, 0.8084521293640137, 0.8082239031791687, 0.9660918116569519, 0.9561829566955566, 0.9449111223220825, 0.9354144334793091, 0.9354143142700195, 0.9354143142700195, 0.9354143142700195, 0.9331389665603638, 0.9331389665603638, 0.9258201122283936, 0.9116846323013306, 0.9083737134933472, 0.9074852466583252, 0.9074852466583252, 0.904106080532074, 0.8970851898193359, 0.8964214324951172, 0.8933250904083252, 0.8908708095550537, 0.8908708095550537, 0.8894992470741272, 0.8894991278648376, 0.867110013961792, 0.867110013961792, 0.8671099543571472, 0.8583951592445374, 0.8583950996398926, 0.8583325147628784, 0.8583325147628784, 0.857142984867096, 0.8571428656578064, 0.8571428060531616, 0.8552359938621521, 0.8547043800354004, 0.8528029322624207, 0.8486684560775757, 0.8486684560775757, 0.8486684560775757, 0.8486683964729309, 0.8486683964729309, 0.8463272452354431, 0.9622504115104675, 0.8944272398948669, 0.8944271206855774, 0.8944271206855774, 0.8846516013145447, 0.8750001192092896, 0.8728716373443604, 0.866025447845459, 0.866025447845459, 0.866025447845459, 0.8574929237365723, 0.8534919023513794, 0.8512056469917297, 0.8488746881484985, 0.8488746881484985, 0.8488746881484985, 0.8486685156822205, 0.8463273644447327, 0.8461141586303711, 0.8401681184768677, 0.8391464352607727, 0.8391464352607727, 0.8360797166824341, 0.8356289863586426, 0.8320502638816833, 0.8320502638816833, 0.8249579668045044, 0.8249579668045044, 0.8249579668045044, 0.8249579071998596, 0.816496729850769, 0.8164966106414795, 0.8164965510368347, 0.8111070394515991, 0.8111070394515991, 0.8111070394515991, 0.8111070394515991, 0.8111070394515991, 0.8111070394515991, 0.8084521293640137, 0.8082239031791687, 0.9770083427429199, 0.9331388473510742, 0.9285714030265808, 0.9265615940093994, 0.9258200526237488, 0.918262243270874, 0.9134141802787781, 0.9104654788970947, 0.9104654788970947, 0.9086881875991821, 0.9086881875991821, 0.9072646498680115, 0.9035079479217529, 0.8987169861793518, 0.8986450433731079, 0.8976656198501587, 0.8976656198501587, 0.8970853090286255, 0.8970853090286255, 0.8966529965400696, 0.8966529965400696, 0.8966333270072937, 0.8966333270072937, 0.8966332674026489, 0.8966332674026489, 0.8950414657592773, 0.8934051394462585, 0.8933250308036804, 0.8916451334953308, 0.8916451334953308, 0.891042172908783, 0.8910421133041382, 0.8910421133041382, 0.8908708095550537, 0.8908708095550537, 0.8908708095550537, 0.8890520334243774, 0.8872442245483398, 0.8872442245483398, 0.8864052295684814, 0.8864052295684814, 0.8000190258026123, 0.7397953867912292, 0.7397953867912292, 0.7171372175216675, 0.7106691002845764, 0.7001756429672241, 0.6935279369354248, 0.6885303854942322, 0.6666666269302368, 0.6600984334945679, 0.6471501588821411, 0.6396021842956543, 0.6151477098464966, 0.6137163639068604, 0.612825870513916, 0.596595287322998, 0.589255690574646, 0.589255690574646, 0.589255690574646, 0.5797508955001831, 0.5790660381317139, 0.5783517360687256, 0.5735393166542053, 0.5714631080627441, 0.566138505935669, 0.5594308972358704, 0.5590169429779053, 0.5443310737609863, 0.5039526224136353, 0.5039526224136353, 0.5, 0.5, 0.490653395652771, 0.4898979961872101, 0.48686450719833374, 0.48112523555755615, 0.48112523555755615, 0.48112520575523376, 0.4733646512031555, 0.4733646512031555, 0.471404492855072, 0.8488746881484985, 0.8488746881484985, 0.8488746881484985, 0.835504412651062, 0.8333333134651184, 0.8333333134651184, 0.8333333134651184, 0.8333333134651184, 0.8333333134651184, 0.8333333134651184, 0.8333332538604736, 0.8333332538604736, 0.8303364515304565, 0.8249577879905701, 0.8040302991867065, 0.7808687686920166, 0.771135687828064, 0.766032338142395, 0.7647190690040588, 0.7570332884788513, 0.7570332884788513, 0.7570332884788513, 0.7453559637069702, 0.7453559041023254, 0.7440698146820068, 0.7431604862213135, 0.7385489344596863, 0.7378647923469543, 0.7378647923469543, 0.7378647327423096, 0.7378647327423096, 0.7378647327423096, 0.7362101078033447, 0.7315635085105896, 0.7288109064102173, 0.7276068925857544, 0.726483166217804, 0.7190924882888794, 0.7190924882888794, 0.7184211611747742, 0.7171087265014648, 0.7216877937316895, 0.7092081308364868, 0.6770032048225403, 0.6527911424636841, 0.6481812000274658, 0.6454972624778748, 0.6435959339141846, 0.6405125856399536, 0.6390096545219421, 0.6375982165336609, 0.62275230884552, 0.621059000492096, 0.621059000492096, 0.6134346723556519, 0.6123724579811096, 0.6123723983764648, 0.6123723983764648, 0.6123723983764648, 0.6092718243598938, 0.601929247379303, 0.601929247379303, 0.5958795547485352, 0.589255690574646, 0.5863954424858093, 0.5833333134651184, 0.5809474587440491, 0.5809474587440491, 0.5809474587440491, 0.5797508955001831, 0.5778967142105103, 0.5773502588272095, 0.5773501992225647, 0.5669466853141785, 0.566138505935669, 0.5619514584541321, 0.5601120591163635, 0.5601120591163635, 0.5601120591163635, 0.555555522441864, 0.5539116859436035, 0.547722578048706, 0.8488746881484985, 0.8488746881484985, 0.8488746881484985, 0.835504412651062, 0.8333333134651184, 0.8333333134651184, 0.8333333134651184, 0.8333333134651184, 0.8333333134651184, 0.8333333134651184, 0.8333332538604736, 0.8333332538604736, 0.8303364515304565, 0.8249577879905701, 0.8040302991867065, 0.7808687686920166, 0.771135687828064, 0.766032338142395, 0.7647190690040588, 0.7570332884788513, 0.7570332884788513, 0.7570332884788513, 0.7453559637069702, 0.7453559041023254, 0.7440698146820068, 0.7431604862213135, 0.7385489344596863, 0.7378647923469543, 0.7378647923469543, 0.7378647327423096, 0.7378647327423096, 0.7378647327423096, 0.7362101078033447, 0.7315635085105896, 0.7288109064102173, 0.7276068925857544, 0.726483166217804, 0.7190924882888794, 0.7190924882888794, 0.7184211611747742, 0.7171087265014648, 0.836632490158081, 0.757042407989502, 0.699611485004425, 0.673563539981842, 0.6593307256698608, 0.6507270336151123, 0.6465269327163696, 0.6465269327163696, 0.6465269327163696, 0.6465269327163696, 0.6450098752975464, 0.6409778594970703, 0.6329817175865173, 0.6221113204956055, 0.6181224584579468, 0.616767168045044, 0.6144778728485107, 0.609209418296814, 0.6070536375045776, 0.6069631576538086, 0.604125440120697, 0.6036725044250488, 0.6031628847122192, 0.6021971702575684, 0.6020092368125916, 0.599666953086853, 0.5996668934822083, 0.5994906425476074, 0.5994906425476074, 0.5952290296554565, 0.594788670539856, 0.5888107419013977, 0.5865241289138794, 0.5864024758338928, 0.585707426071167, 0.5857073664665222, 0.5835803151130676, 0.5830095410346985, 0.5827715396881104, 0.5827714800834656, 0.5793535113334656, 0.9782608151435852, 0.9680037498474121, 0.9680037498474121, 0.9609866142272949, 0.9583727717399597, 0.956929087638855, 0.956929087638855, 0.9567298293113708, 0.9567298293113708, 0.953407347202301, 0.9530152082443237, 0.9517337679862976, 0.9515873789787292, 0.9508561491966248, 0.9497161507606506, 0.9497161507606506, 0.9486438632011414, 0.9486438035964966, 0.9486438035964966, 0.948038637638092, 0.9473729133605957, 0.9455454349517822, 0.9455453753471375, 0.9443844556808472, 0.9430418610572815, 0.9430418610572815, 0.9421554207801819, 0.9418280124664307, 0.9409439563751221, 0.9405699968338013, 0.9405699968338013, 0.9405699968338013, 0.9405400156974792, 0.9383147954940796, 0.9383147954940796, 0.9376363158226013, 0.9362573027610779, 0.9355852603912354, 0.9347825646400452, 0.9337990283966064, 0.9337990283966064, 0.9276336431503296, 0.9261981248855591, 0.9180846214294434, 0.9180846214294434, 0.9140905737876892, 0.9109357595443726, 0.9102991819381714, 0.9095085859298706, 0.9095085859298706, 0.9081083536148071, 0.9081082940101624, 0.9080252051353455, 0.9046624302864075, 0.9007546901702881, 0.9007546901702881, 0.900283932685852, 0.8978642821311951, 0.8973817825317383, 0.8973645567893982, 0.895607590675354, 0.8952859044075012, 0.8951715230941772, 0.8932595252990723, 0.8926785588264465, 0.8926784992218018, 0.8917926549911499, 0.8911328911781311, 0.8911328911781311, 0.8911327719688416, 0.8892973065376282, 0.8892971873283386, 0.8885402679443359, 0.8877780437469482, 0.8875744938850403, 0.8868440389633179, 0.8860759139060974, 0.8860759139060974, 0.8860759139060974, 0.8858783841133118, 0.8856148719787598, 0.8856148719787598, 0.9284765720367432, 0.9143006801605225, 0.9005004167556763, 0.8965516090393066, 0.8946300745010376, 0.893852710723877, 0.8913376331329346, 0.8858184814453125, 0.8844476938247681, 0.8823398351669312, 0.8820528984069824, 0.8820527791976929, 0.8817845582962036, 0.8791322112083435, 0.8778665065765381, 0.8778665065765381, 0.8773280382156372, 0.8773280382156372, 0.875420868396759, 0.8753762245178223, 0.8727860450744629, 0.872583270072937, 0.8719774484634399, 0.8718128204345703, 0.8703169822692871, 0.8703169822692871, 0.8703169822692871, 0.8703169822692871, 0.8700221180915833, 0.8685104250907898, 0.8671486377716064, 0.8671485781669617, 0.8671485185623169, 0.8656302690505981, 0.8630340099334717, 0.8630340099334717, 0.8630338907241821, 0.8620791435241699, 0.8620690107345581, 0.8620690107345581, 0.8620690107345581, 0.9782608151435852, 0.9680037498474121, 0.9680037498474121, 0.9609866142272949, 0.9583727717399597, 0.956929087638855, 0.956929087638855, 0.9567298293113708, 0.9567298293113708, 0.953407347202301, 0.9530152082443237, 0.9517337679862976, 0.9515873789787292, 0.9508561491966248, 0.9497161507606506, 0.9497161507606506, 0.9486438632011414, 0.9486438035964966, 0.9486438035964966, 0.948038637638092, 0.9473729133605957, 0.9455454349517822, 0.9455453753471375, 0.9443844556808472, 0.9430418610572815, 0.9430418610572815, 0.9421554207801819, 0.9418280124664307, 0.9409439563751221, 0.9405699968338013, 0.9405699968338013, 0.9405699968338013, 0.9405400156974792, 0.9383147954940796, 0.9383147954940796, 0.9376363158226013, 0.9362573027610779, 0.9355852603912354, 0.9347825646400452, 0.9337990283966064, 0.9337990283966064, 0.8346223831176758, 0.8346223831176758, 0.8346222639083862, 0.8132203221321106, 0.8111070394515991, 0.8029550313949585, 0.8029550313949585, 0.8010019659996033, 0.7980239391326904, 0.7980239391326904, 0.780398964881897, 0.7800135016441345, 0.770053505897522, 0.7648661732673645, 0.7648661732673645, 0.7648661136627197, 0.7635416984558105, 0.7635416984558105, 0.7635416984558105, 0.7570332288742065, 0.7539370656013489, 0.7539370059967041, 0.7530940175056458, 0.7456010580062866, 0.744161069393158, 0.7417380809783936, 0.7368420958518982, 0.7367883324623108, 0.7357671856880188, 0.7357671856880188, 0.7346970438957214, 0.7341303825378418, 0.7341303825378418, 0.7299964427947998, 0.7299964427947998, 0.7299964427947998, 0.728492796421051, 0.7283956408500671, 0.7276068329811096, 0.726483166217804, 0.7254762649536133, 0.9622504711151123, 0.9515374302864075, 0.950262188911438, 0.945967435836792, 0.944444477558136, 0.943564236164093, 0.9372008442878723, 0.9363820552825928, 0.9332565069198608, 0.9239131808280945, 0.9229581356048584, 0.9205665588378906, 0.9152086973190308, 0.9141380786895752, 0.9128710031509399, 0.9097992181777954, 0.9097176790237427, 0.9097176790237427, 0.9080070853233337, 0.908007025718689, 0.9073927998542786, 0.9072648286819458, 0.907218337059021, 0.9036961793899536, 0.9035253524780273, 0.9026709794998169, 0.9019752740859985, 0.9019752144813538, 0.9014410972595215, 0.8986914753913879, 0.8986914157867432, 0.8986914157867432, 0.8981462717056274, 0.8981462717056274, 0.8981462717056274, 0.8936836123466492, 0.8934270739555359, 0.8925848603248596, 0.8923542499542236, 0.8911328315734863, 0.8911328315734863, 0.8346223831176758, 0.8346223831176758, 0.8346222639083862, 0.8132203221321106, 0.8111070394515991, 0.8029550313949585, 0.8029550313949585, 0.8010019659996033, 0.7980239391326904, 0.7980239391326904, 0.780398964881897, 0.7800135016441345, 0.770053505897522, 0.7648661732673645, 0.7648661732673645, 0.7648661136627197, 0.7635416984558105, 0.7635416984558105, 0.7635416984558105, 0.7570332288742065, 0.7539370656013489, 0.7539370059967041, 0.7530940175056458, 0.7456010580062866, 0.744161069393158, 0.7417380809783936, 0.7368420958518982, 0.7367883324623108, 0.7357671856880188, 0.7357671856880188, 0.7346970438957214, 0.7341303825378418, 0.7341303825378418, 0.7299964427947998, 0.7299964427947998, 0.7299964427947998, 0.728492796421051, 0.7283956408500671, 0.7276068329811096, 0.726483166217804, 0.7254762649536133, 0.9435368180274963, 0.9428713917732239, 0.9412417411804199, 0.9324213266372681, 0.9302326440811157, 0.9302326440811157, 0.9279707670211792, 0.9273618459701538, 0.9273618459701538, 0.9244734644889832, 0.9206923246383667, 0.917710542678833, 0.9162613749504089, 0.9153650999069214, 0.9149914979934692, 0.9149914383888245, 0.912018358707428, 0.9093530774116516, 0.9050183892250061, 0.9010819792747498, 0.9010819792747498, 0.9010819792747498, 0.8993874788284302, 0.8972229361534119, 0.8966530561447144, 0.8966529965400696, 0.8934130668640137, 0.8921492099761963, 0.8921491503715515, 0.8921319842338562, 0.890953779220581, 0.8905872106552124, 0.8903481960296631, 0.8896204233169556, 0.8896204233169556, 0.889211893081665, 0.8892118334770203, 0.8892118334770203, 0.8876720070838928, 0.8852571845054626, 0.8842288255691528, 0.9843091368675232, 0.9836212396621704, 0.9777750968933105, 0.9751577377319336, 0.9751577377319336, 0.9751577377319336, 0.9751577377319336, 0.9751577377319336, 0.972415030002594, 0.9722036123275757, 0.9719409942626953, 0.9705231189727783, 0.9692704677581787, 0.9683641195297241, 0.9683641195297241, 0.9683641195297241, 0.9663776159286499, 0.9650869369506836, 0.9640127420425415, 0.9619721174240112, 0.9608385562896729, 0.9569486975669861, 0.9562594890594482, 0.9553254246711731, 0.9553254246711731, 0.9553254246711731, 0.955297589302063, 0.955297589302063, 0.9541301131248474, 0.9541300535202026, 0.9532413482666016, 0.9532413482666016, 0.9532334208488464, 0.9528306722640991, 0.9528305530548096, 0.9525640606880188, 0.952564001083374, 0.952564001083374, 0.9523038864135742, 0.9513515830039978, 0.950914740562439, 0.9513311386108398, 0.9501320123672485, 0.9501192569732666, 0.9417286515235901, 0.9412097334861755, 0.9377430081367493, 0.9377430081367493, 0.9374334216117859, 0.9373601675033569, 0.9349288940429688, 0.934928834438324, 0.934928834438324, 0.9349287748336792, 0.9345024824142456, 0.9345024228096008, 0.9331203103065491, 0.9331203103065491, 0.9331203103065491, 0.9331203103065491, 0.9331203103065491, 0.9320410490036011, 0.9315560460090637, 0.9311728477478027, 0.9301145672798157, 0.9299209117889404, 0.9297347664833069, 0.9297347068786621, 0.9292548894882202, 0.9263104200363159, 0.9251285791397095, 0.9242495894432068, 0.9242495894432068, 0.924249529838562, 0.9236085414886475, 0.9229729771614075, 0.9224556684494019, 0.9224556088447571, 0.9212563037872314, 0.9207664728164673, 0.9207664132118225, 0.920751690864563, 0.9316949248313904, 0.9190183877944946, 0.9170702695846558, 0.9036961793899536, 0.9036961197853088, 0.8948929309844971, 0.8948929309844971, 0.8944271802902222, 0.8944271206855774, 0.8944271206855774, 0.8901636004447937, 0.8857993483543396, 0.8783100843429565, 0.8677217960357666, 0.8666665554046631, 0.8588974475860596, 0.8539918661117554, 0.8500001430511475, 0.8485281467437744, 0.8485281467437744, 0.8480265140533447, 0.845402717590332, 0.8451544046401978, 0.8451544046401978, 0.8451541066169739, 0.8432739973068237, 0.8432739973068237, 0.843273937702179, 0.843273937702179, 0.8391463756561279, 0.8385255336761475, 0.8385255336761475, 0.8380036354064941, 0.8342977166175842, 0.8342976570129395, 0.8329509496688843, 0.8305395841598511, 0.8304547667503357, 0.8302051424980164, 0.8295150995254517, 0.8280786871910095, 0.9072647094726562, 0.8959786295890808, 0.8816820383071899, 0.8814089298248291, 0.880450963973999, 0.8798826932907104, 0.8703882694244385, 0.8675276041030884, 0.8675276041030884, 0.8675276041030884, 0.8672274351119995, 0.866025447845459, 0.866025447845459, 0.8660253286361694, 0.8576900959014893, 0.8576900959014893, 0.8533201813697815, 0.8528029322624207, 0.8492077589035034, 0.8492077589035034, 0.8492077589035034, 0.8492076992988586, 0.8486684560775757, 0.8486684560775757, 0.8486683368682861, 0.8486683368682861, 0.8463272452354431, 0.8432740569114685, 0.8432740569114685, 0.843273937702179, 0.8432209491729736, 0.8429272174835205, 0.8416253924369812, 0.8416253924369812, 0.8406727313995361, 0.8401679992675781, 0.8391463756561279, 0.8364283442497253, 0.8364283442497253, 0.8364283442497253, 0.8333333730697632, 0.9316949248313904, 0.9190183877944946, 0.9170702695846558, 0.9036961793899536, 0.9036961197853088, 0.8948929309844971, 0.8948929309844971, 0.8944271802902222, 0.8944271206855774, 0.8944271206855774, 0.8901636004447937, 0.8857993483543396, 0.8783100843429565, 0.8677217960357666, 0.8666665554046631, 0.8588974475860596, 0.8539918661117554, 0.8500001430511475, 0.8485281467437744, 0.8485281467437744, 0.8480265140533447, 0.845402717590332, 0.8451544046401978, 0.8451544046401978, 0.8451541066169739, 0.8432739973068237, 0.8432739973068237, 0.843273937702179, 0.843273937702179, 0.8391463756561279, 0.8385255336761475, 0.8385255336761475, 0.8380036354064941, 0.8342977166175842, 0.8342976570129395, 0.8329509496688843, 0.8305395841598511, 0.8304547667503357, 0.8302051424980164, 0.8295150995254517, 0.8280786871910095, 0.9805806875228882, 0.9621024131774902, 0.9476965665817261, 0.9466737508773804, 0.9389157891273499, 0.9351438879966736, 0.9348928332328796, 0.9341285228729248, 0.930949330329895, 0.9302605390548706, 0.928015410900116, 0.9247722625732422, 0.9245002865791321, 0.9229719638824463, 0.9226039052009583, 0.9217865467071533, 0.9201151132583618, 0.9198662042617798, 0.9193195104598999, 0.9193193912506104, 0.9173287153244019, 0.9172639846801758, 0.9171444773674011, 0.9150180816650391, 0.9139701128005981, 0.9107077121734619, 0.9107077121734619, 0.9107077121734619, 0.9107077121734619, 0.9104369878768921, 0.9104369878768921, 0.9095880389213562, 0.9095878601074219, 0.9095878601074219, 0.9078413248062134, 0.9078413248062134, 0.9078413248062134, 0.9078412652015686, 0.9078412652015686, 0.9073928594589233, 0.907078742980957, 0.7706745862960815, 0.7537346482276917, 0.7537346482276917, 0.7442084550857544, 0.7089175581932068, 0.7089175581932068, 0.7080881595611572, 0.6928203105926514, 0.6928203105926514, 0.6928203105926514, 0.6831300258636475, 0.6708203554153442, 0.6694387197494507, 0.6666667461395264, 0.6666666865348816, 0.6605782508850098, 0.6605782508850098, 0.6546537280082703, 0.6546537280082703, 0.6531972885131836, 0.6531972289085388, 0.6531972289085388, 0.6531972289085388, 0.6531972289085388, 0.649234414100647, 0.6459752321243286, 0.6454972624778748, 0.64549720287323, 0.6390097141265869, 0.6374552845954895, 0.6350853443145752, 0.632455587387085, 0.632455587387085, 0.632455587387085, 0.632455587387085, 0.632455587387085, 0.632455587387085, 0.632455587387085, 0.6282808780670166, 0.6262242794036865, 0.6262242794036865, 0.9296696186065674, 0.8999999761581421, 0.8215838670730591, 0.8215838670730591, 0.8215838670730591, 0.8198916912078857, 0.809039831161499, 0.809039831161499, 0.809039831161499, 0.809039831161499, 0.8017836809158325, 0.8013876676559448, 0.800000011920929, 0.7951465845108032, 0.7951465845108032, 0.7937253713607788, 0.7928249835968018, 0.7926291227340698, 0.7905694246292114, 0.7905693054199219, 0.7893521785736084, 0.7889319658279419, 0.7826237678527832, 0.7726674675941467, 0.7694838047027588, 0.7694836854934692, 0.7669650316238403, 0.7669649720191956, 0.7613869905471802, 0.7606388330459595, 0.7606388330459595, 0.7606388330459595, 0.7590721249580383, 0.7589466571807861, 0.7589465975761414, 0.7505552768707275, 0.7453559637069702, 0.7453559637069702, 0.7453559637069702, 0.7452412843704224, 0.7452412843704224, 0.7706745862960815, 0.7537346482276917, 0.7537346482276917, 0.7442084550857544, 0.7089175581932068, 0.7089175581932068, 0.7080881595611572, 0.6928203105926514, 0.6928203105926514, 0.6928203105926514, 0.6831300258636475, 0.6708203554153442, 0.6694387197494507, 0.6666667461395264, 0.6666666865348816, 0.6605782508850098, 0.6605782508850098, 0.6546537280082703, 0.6546537280082703, 0.6531972885131836, 0.6531972289085388, 0.6531972289085388, 0.6531972289085388, 0.6531972289085388, 0.649234414100647, 0.6459752321243286, 0.6454972624778748, 0.64549720287323, 0.6390097141265869, 0.6374552845954895, 0.6350853443145752, 0.632455587387085, 0.632455587387085, 0.632455587387085, 0.632455587387085, 0.632455587387085, 0.632455587387085, 0.632455587387085, 0.6282808780670166, 0.6262242794036865, 0.6262242794036865, 0.9583351612091064, 0.9569425582885742, 0.9451889991760254, 0.9442673325538635, 0.9260923862457275, 0.9260923862457275, 0.9150794744491577, 0.9150794744491577, 0.9150793552398682, 0.9101820588111877, 0.910181999206543, 0.9081082344055176, 0.9081082344055176, 0.9074852466583252, 0.9074852466583252, 0.9049228429794312, 0.9049228429794312, 0.9037378430366516, 0.9037378430366516, 0.9037378430366516, 0.9037377834320068, 0.9024852514266968, 0.9019122123718262, 0.9019121527671814, 0.9019120931625366, 0.9008466005325317, 0.9003676176071167, 0.9003676176071167, 0.9003676176071167, 0.9003676176071167, 0.9003675580024719, 0.8997353911399841, 0.8995005488395691, 0.8932459950447083, 0.8932459354400635, 0.8930885195732117, 0.8917016983032227, 0.8911328315734863, 0.8910122513771057, 0.8902637958526611, 0.8902637958526611, 0.9866902828216553, 0.975784420967102, 0.9674797654151917, 0.9674797654151917, 0.9674797654151917, 0.9655351638793945, 0.9633640050888062, 0.9633640050888062, 0.9621404409408569, 0.9607347846031189, 0.9604803919792175, 0.9593835473060608, 0.9585145115852356, 0.9561829566955566, 0.9561829566955566, 0.9558173418045044, 0.9558172821998596, 0.9556189775466919, 0.9550230503082275, 0.9550230503082275, 0.954993724822998, 0.9545941352844238, 0.9545941352844238, 0.953462541103363, 0.953462541103363, 0.9520360231399536, 0.9520360231399536, 0.9515025615692139, 0.9503288269042969, 0.9490707516670227, 0.9486833810806274, 0.9471880197525024, 0.9468951225280762, 0.9465078711509705, 0.9455945491790771, 0.9455945491790771, 0.9438798427581787, 0.9438797831535339, 0.9438797831535339, 0.9432422518730164, 0.9428277611732483, 0.9532061815261841, 0.9374860525131226, 0.9370892643928528, 0.9353047609329224, 0.9353047609329224, 0.9353047609329224, 0.9332565069198608, 0.9332565069198608, 0.9322020411491394, 0.9313342571258545, 0.9313342571258545, 0.9284088611602783, 0.9279607534408569, 0.9274777173995972, 0.9268475770950317, 0.926847517490387, 0.9268472790718079, 0.9262908697128296, 0.9262435436248779, 0.9247311353683472, 0.9242740869522095, 0.9242740273475647, 0.92406165599823, 0.9236371517181396, 0.9215506315231323, 0.9213557243347168, 0.9210566282272339, 0.9207508563995361, 0.9206015467643738, 0.9206015467643738, 0.920558512210846, 0.9202830791473389, 0.9190074801445007, 0.9190074801445007, 0.9190074801445007, 0.9165445566177368, 0.9165445566177368, 0.9165444374084473, 0.9164396524429321, 0.9133691787719727, 0.9133690595626831, 0.9594032764434814, 0.9574270248413086, 0.9534626007080078, 0.942082405090332, 0.942082405090332, 0.942082405090332, 0.9285403490066528, 0.9284141659736633, 0.9199353456497192, 0.9198660850524902, 0.9173648953437805, 0.9116845726966858, 0.9111469984054565, 0.910578727722168, 0.9103584289550781, 0.9090908169746399, 0.9074425101280212, 0.904534101486206, 0.904534101486206, 0.904534101486206, 0.904534101486206, 0.904534101486206, 0.904534101486206, 0.904534101486206, 0.8983221650123596, 0.8935250639915466, 0.8869684934616089, 0.8780540227890015, 0.8764597177505493, 0.8761903643608093, 0.8746731877326965, 0.8746731877326965, 0.8727860450744629, 0.8709883689880371, 0.8709883093833923, 0.8703882098197937, 0.8678333163261414, 0.8664001822471619, 0.8664001822471619, 0.8656574487686157, 0.8624395132064819, 0.9798048138618469, 0.9798048138618469, 0.9798048138618469, 0.9770543575286865, 0.9756366014480591, 0.9756366014480591, 0.9743975400924683, 0.9729740023612976, 0.9727162718772888, 0.9716055393218994, 0.9683640003204346, 0.9683640003204346, 0.967993974685669, 0.967993974685669, 0.9677928686141968, 0.9671894311904907, 0.9671893119812012, 0.9671893119812012, 0.9671597480773926, 0.9656091332435608, 0.9656091332435608, 0.9641643166542053, 0.9641643166542053, 0.9624354243278503, 0.9611613750457764, 0.96076899766922, 0.9592544436454773, 0.9586621522903442, 0.9559042453765869, 0.9559042453765869, 0.9552585482597351, 0.9548386931419373, 0.9548198580741882, 0.953349769115448, 0.9533497095108032, 0.9528706073760986, 0.9517623782157898, 0.9515216946601868, 0.9512699842453003, 0.950933039188385, 0.9488521814346313, 0.9341987371444702, 0.9271726608276367, 0.9166666269302368, 0.9141378402709961, 0.9128709435462952, 0.9112957119941711, 0.9036960601806641, 0.9036960601806641, 0.9036960601806641, 0.9036960601806641, 0.8940593004226685, 0.8911328315734863, 0.8908708095550537, 0.8908708095550537, 0.8897565007209778, 0.888888955116272, 0.888888955116272, 0.8872442841529846, 0.8872442245483398, 0.8872442245483398, 0.884537935256958, 0.8819170594215393, 0.8819169998168945, 0.8816820383071899, 0.8807048201560974, 0.8804508447647095, 0.8783100843429565, 0.8728715777397156, 0.8672274351119995, 0.8672274351119995, 0.8660255074501038, 0.866025447845459, 0.866025447845459, 0.8660253286361694, 0.8660253286361694, 0.8660253286361694, 0.864392876625061, 0.861640453338623, 0.8576900959014893, 0.8565861582756042, 0.8564858436584473, 0.9333333373069763, 0.930949330329895, 0.930949330329895, 0.9214785695075989, 0.9128709435462952, 0.9109803438186646, 0.9109802842140198, 0.9098432064056396, 0.9056240916252136, 0.9056240916252136, 0.9036961197853088, 0.9014979600906372, 0.8989331722259521, 0.8981462717056274, 0.8981462121009827, 0.8944272398948669, 0.8944271802902222, 0.8944271206855774, 0.8898984789848328, 0.8807710409164429, 0.8788290023803711, 0.8765009641647339, 0.8755950331687927, 0.8741913437843323, 0.8739803433418274, 0.8728715181350708, 0.8682430982589722, 0.8666667342185974, 0.8666666746139526, 0.866249144077301, 0.8660255074501038, 0.8660253286361694, 0.8608284592628479, 0.8606629967689514, 0.8606629371643066, 0.8593379259109497, 0.8581165075302124, 0.8563488721847534, 0.8563488125801086, 0.8533104062080383, 0.8520128726959229, 0.9341987371444702, 0.9271726608276367, 0.9166666269302368, 0.9141378402709961, 0.9128709435462952, 0.9112957119941711, 0.9036960601806641, 0.9036960601806641, 0.9036960601806641, 0.9036960601806641, 0.8940593004226685, 0.8911328315734863, 0.8908708095550537, 0.8908708095550537, 0.8897565007209778, 0.888888955116272, 0.888888955116272, 0.8872442841529846, 0.8872442245483398, 0.8872442245483398, 0.884537935256958, 0.8819170594215393, 0.8819169998168945, 0.8816820383071899, 0.8807048201560974, 0.8804508447647095, 0.8783100843429565, 0.8728715777397156, 0.8672274351119995, 0.8672274351119995, 0.8660255074501038, 0.866025447845459, 0.866025447845459, 0.8660253286361694, 0.8660253286361694, 0.8660253286361694, 0.864392876625061, 0.861640453338623, 0.8576900959014893, 0.8565861582756042, 0.8564858436584473, 0.9169092178344727, 0.9101914167404175, 0.8982742428779602, 0.8965518474578857, 0.8863184452056885, 0.8858184814453125, 0.8853155970573425, 0.8853155970573425, 0.8763704299926758, 0.8740284442901611, 0.8735889196395874, 0.870022177696228, 0.8623165488243103, 0.8620792627334595, 0.8596023321151733, 0.8596023321151733, 0.8596023321151733, 0.8534918427467346, 0.8534918427467346, 0.8534917831420898, 0.8534047603607178, 0.8518433570861816, 0.8495482206344604, 0.8495482206344604, 0.8478026390075684, 0.8457281589508057, 0.843695878982544, 0.843695878982544, 0.843695878982544, 0.843695878982544, 0.8436958193778992, 0.8434653878211975, 0.8434653282165527, 0.8434653282165527, 0.843465268611908, 0.8410214781761169, 0.8403611183166504, 0.8403611183166504, 0.8398387432098389, 0.8396798372268677, 0.8376106023788452, 0.9898029565811157, 0.9894988536834717, 0.9829463958740234, 0.9784426689147949, 0.9784426689147949, 0.9647573828697205, 0.9635884165763855, 0.9630868434906006, 0.9630868434906006, 0.9630868434906006, 0.9630868434906006, 0.9630868434906006, 0.9630868434906006, 0.9630868434906006, 0.9630868434906006, 0.9630868434906006, 0.9630868434906006, 0.9630868434906006, 0.9630868434906006, 0.9630868434906006, 0.9630868434906006, 0.9630868434906006, 0.9630868434906006, 0.9630868434906006, 0.9630868434906006, 0.9630868434906006, 0.9630868434906006, 0.9630868434906006, 0.9630868434906006, 0.9630868434906006, 0.9630868434906006, 0.9603469371795654, 0.9603468775749207, 0.9603468775749207, 0.9583727717399597, 0.9556496739387512, 0.9556496739387512, 0.9556496739387512, 0.9543273448944092, 0.9513653516769409, 0.9500913023948669, 0.928506076335907, 0.8606629967689514, 0.8606629967689514, 0.8013433814048767, 0.7918388843536377, 0.7772119641304016, 0.7693164944648743, 0.7592567205429077, 0.7592564821243286, 0.7590721249580383, 0.7569125890731812, 0.7531184554100037, 0.7531184554100037, 0.7508517503738403, 0.75, 0.7440382242202759, 0.7429777979850769, 0.7423522472381592, 0.7416198253631592, 0.7416198253631592, 0.7416198253631592, 0.7416198253631592, 0.7378648519515991, 0.7378647923469543, 0.7378647923469543, 0.7267220616340637, 0.726722002029419, 0.721687912940979, 0.7199608087539673, 0.7183811664581299, 0.7171370983123779, 0.7144345641136169, 0.7080880999565125, 0.7079098224639893, 0.705024003982544, 0.705024003982544, 0.705024003982544, 0.7050238847732544, 0.7034175992012024, 0.7028168439865112, 0.7016464471817017, 1.0, 1.0, 0.9767818450927734, 0.9675326347351074, 0.963546097278595, 0.9621403813362122, 0.9609690308570862, 0.9603919982910156, 0.9596789479255676, 0.9594032764434814, 0.9534624814987183, 0.9534624814987183, 0.9532307386398315, 0.9493857622146606, 0.9489284753799438, 0.9489284753799438, 0.9489284753799438, 0.9489284753799438, 0.9489284753799438, 0.9486833810806274, 0.9463773965835571, 0.9436284899711609, 0.9430055022239685, 0.9429904222488403, 0.9429903030395508, 0.9429903030395508, 0.9408842921257019, 0.9400193691253662, 0.939148485660553, 0.9389861822128296, 0.9389861822128296, 0.9389861822128296, 0.9389711022377014, 0.9389711022377014, 0.9354953169822693, 0.9354953169822693, 0.9354143142700195, 0.9339475035667419, 0.9339475035667419, 0.9339475035667419, 0.9336221218109131, 0.9999999403953552, 0.9765536189079285, 0.9750854969024658, 0.9749135375022888, 0.9749135375022888, 0.9749135375022888, 0.9723448157310486, 0.9723448157310486, 0.9716054201126099, 0.9707252979278564, 0.9673307538032532, 0.9673307538032532, 0.9609690308570862, 0.9609690308570862, 0.9609279036521912, 0.9607689380645752, 0.9607689380645752, 0.9607689380645752, 0.9578133225440979, 0.9575175642967224, 0.9553170204162598, 0.9542195796966553, 0.9534239768981934, 0.9529258012771606, 0.9518745541572571, 0.9516486525535583, 0.9516486525535583, 0.9516485929489136, 0.9516485929489136, 0.9516485929489136, 0.9516485929489136, 0.9516485929489136, 0.9516485929489136, 0.9510344862937927, 0.9510344862937927, 0.950933039188385, 0.950933039188385, 0.9487437605857849, 0.9478946924209595, 0.9476128220558167, 0.9464575052261353, 1.0, 1.0, 1.0, 1.0, 1.0, 1.0, 1.0, 1.0, 1.0, 1.0, 0.9701424241065979, 0.9701423645019531, 0.9354143738746643, 0.9354143738746643, 0.9354143738746643, 0.9354143142700195, 0.9176629781723022, 0.8944272398948669, 0.875, 0.875, 0.866025447845459, 0.866025447845459, 0.866025447845459, 0.866025447845459, 0.8504201173782349, 0.8498365879058838, 0.8333332538604736, 0.8320503234863281, 0.8320503234863281, 0.8320503234863281, 0.8249579668045044, 0.8249578475952148, 0.8164966106414795, 0.8164966106414795, 0.8126046061515808, 0.8111474514007568, 0.8111070990562439, 0.8082239031791687, 0.8082238435745239, 0.8017838597297668, 0.8017838001251221, 1.0, 1.0, 0.9767818450927734, 0.9675326347351074, 0.963546097278595, 0.9621403813362122, 0.9609690308570862, 0.9603919982910156, 0.9596789479255676, 0.9594032764434814, 0.9534624814987183, 0.9534624814987183, 0.9532307386398315, 0.9493857622146606, 0.9489284753799438, 0.9489284753799438, 0.9489284753799438, 0.9489284753799438, 0.9489284753799438, 0.9486833810806274, 0.9463773965835571, 0.9436284899711609, 0.9430055022239685, 0.9429904222488403, 0.9429903030395508, 0.9429903030395508, 0.9408842921257019, 0.9400193691253662, 0.939148485660553, 0.9389861822128296, 0.9389861822128296, 0.9389861822128296, 0.9389711022377014, 0.9389711022377014, 0.9354953169822693, 0.9354953169822693, 0.9354143142700195, 0.9339475035667419, 0.9339475035667419, 0.9339475035667419, 0.9336221218109131, 1.0, 0.9908673167228699, 0.9730124473571777, 0.927105188369751, 0.927105188369751, 0.9233805537223816, 0.9233805537223816, 0.9233805537223816, 0.9233805537223816, 0.9223310351371765, 0.9185587167739868, 0.9150798320770264, 0.9091923236846924, 0.9086883664131165, 0.9086882472038269, 0.9068453311920166, 0.9068453311920166, 0.9068453311920166, 0.9068452715873718, 0.9067235589027405, 0.9057895541191101, 0.9057895541191101, 0.9057257175445557, 0.9057255983352661, 0.9036961197853088, 0.9036961197853088, 0.9036425352096558, 0.9035078883171082, 0.9027075171470642, 0.9004503488540649, 0.9000000357627869, 0.8992518186569214, 0.8977311253547668, 0.8977310657501221, 0.8959786891937256, 0.8959786891937256, 0.8959786891937256, 0.8948382139205933, 0.8944272994995117, 0.8944272398948669, 0.8901636004447937, 1.0000001192092896, 0.9908673763275146, 0.9720615148544312, 0.9318912625312805, 0.9318912625312805, 0.931891143321991, 0.931891143321991, 0.9284141063690186, 0.9239884614944458, 0.9214065670967102, 0.9185315370559692, 0.9185314774513245, 0.9185314774513245, 0.9132660627365112, 0.9132660627365112, 0.9121594429016113, 0.9121593832969666, 0.908295214176178, 0.907442569732666, 0.903652012348175, 0.9014203548431396, 0.8994011878967285, 0.8994011878967285, 0.8994011878967285, 0.8994011878967285, 0.8983222246170044, 0.8971500396728516, 0.895622193813324, 0.8927095532417297, 0.8924134969711304, 0.8924133777618408, 0.8922686576843262, 0.8922686576843262, 0.8922268748283386, 0.8919916152954102, 0.891455352306366, 0.889898419380188, 0.8897131681442261, 0.8883363604545593, 0.8883363604545593, 0.8883362412452698, 0.9999999403953552, 0.9999999403953552, 0.9999999403953552, 0.9999999403953552, 0.9999999403953552, 0.9999999403953552, 0.9999999403953552, 0.9999999403953552, 0.9999999403953552, 0.9999999403953552, 0.9999999403953552, 0.9999999403953552, 0.9999999403953552, 0.9999999403953552, 0.9999999403953552, 0.9999999403953552, 0.9999999403953552, 0.9999999403953552, 0.9999999403953552, 0.9999999403953552, 0.9999999403953552, 0.9999999403953552, 0.9999999403953552, 0.9819805026054382, 0.9701424837112427, 0.9701424837112427, 0.9594032764434814, 0.9444443583488464, 0.9354143738746643, 0.9354143738746643, 0.9176629185676575, 0.9036961197853088, 0.8872443437576294, 0.884537935256958, 0.883883535861969, 0.8816820383071899, 0.8757291436195374, 0.8750000596046448, 0.8750000596046448, 0.8750000596046448, 0.875, 0.9999999403953552, 0.9730124473571777, 0.9720615148544312, 0.9504968523979187, 0.9495629072189331, 0.9495629072189331, 0.9428291916847229, 0.9428291916847229, 0.9428291320800781, 0.9428291320800781, 0.9428291320800781, 0.9415245056152344, 0.9306779503822327, 0.9306631088256836, 0.9304841756820679, 0.9304841756820679, 0.9304841160774231, 0.9304841160774231, 0.9243422150611877, 0.9210565686225891, 0.9210565686225891, 0.9187794923782349, 0.9186933636665344, 0.9173650741577148, 0.9173650741577148, 0.9173649549484253, 0.9163297414779663, 0.9163297414779663, 0.9154754877090454, 0.9150522351264954, 0.9150521755218506, 0.9150521755218506, 0.9143939018249512, 0.9143939018249512, 0.9141045212745667, 0.9137173295021057, 0.9137173295021057, 0.9121594429016113, 0.9121593236923218, 0.9121593236923218, 0.9121593236923218, 0.9746794104576111, 0.9550230503082275, 0.9534626603126526, 0.9486833810806274, 0.9486833810806274, 0.9467291831970215, 0.9449111819267273, 0.934198796749115, 0.9316950440406799, 0.9316949844360352, 0.9316949844360352, 0.9316949844360352, 0.9316948652267456, 0.9315560460090637, 0.9296696782112122, 0.9237022995948792, 0.9237022995948792, 0.9237022399902344, 0.9237022399902344, 0.9237022399902344, 0.9216353297233582, 0.9209108948707581, 0.9203580021858215, 0.920357882976532, 0.920357882976532, 0.9190182685852051, 0.9190182685852051, 0.9170606136322021, 0.9141740798950195, 0.9135003089904785, 0.9135003089904785, 0.9135003089904785, 0.9135002493858337, 0.9135002493858337, 0.9132592678070068, 0.9128709435462952, 0.9128708243370056, 0.9101698398590088, 0.9101698398590088, 0.9101697206497192, 0.9091920852661133, 0.9574270248413086, 0.9486833810806274, 0.9449111819267273, 0.942808985710144, 0.941596269607544, 0.9298987984657288, 0.9244735836982727, 0.9238697290420532, 0.9223308563232422, 0.9185585379600525, 0.9185585379600525, 0.9141380190849304, 0.9141379594802856, 0.9141379594802856, 0.9138599634170532, 0.9131711721420288, 0.9128710031509399, 0.9128710031509399, 0.9128709435462952, 0.9128709435462952, 0.9128709435462952, 0.9128709435462952, 0.9128708839416504, 0.9112957119941711, 0.9103457927703857, 0.9097176194190979, 0.9097176194190979, 0.9082950949668884, 0.9082950949668884, 0.9072184562683105, 0.9060606956481934, 0.9058215618133545, 0.9058215618133545, 0.9058215618133545, 0.9056545495986938, 0.9036961197853088, 0.9036961197853088, 0.9036961197853088, 0.9035252928733826, 0.9035096168518066, 0.9027306437492371, 0.8682430982589722, 0.8362420201301575, 0.827837347984314, 0.827837347984314, 0.8006408214569092, 0.8006408214569092, 0.8006408214569092, 0.8006407022476196, 0.7893521785736084, 0.7893521785736084, 0.7893521785736084, 0.7844644784927368, 0.7692307829856873, 0.7692307829856873, 0.7692307829856873, 0.7627127766609192, 0.7627127170562744, 0.7614996433258057, 0.7526178359985352, 0.7518094778060913, 0.7518094182014465, 0.7472647428512573, 0.7433851361274719, 0.7412493824958801, 0.7412492632865906, 0.7412492632865906, 0.7412492632865906, 0.7399401068687439, 0.7399400472640991, 0.7396003007888794, 0.7354354858398438, 0.7354354858398438, 0.7354354858398438, 0.7282019853591919, 0.7275329232215881, 0.724206805229187, 0.7238423824310303, 0.7211102843284607, 0.7211102247238159, 0.7211101651191711, 0.7205767035484314, 0.9565216898918152, 0.9565216898918152, 0.9498989582061768, 0.9457324743270874, 0.9451747536659241, 0.9443699717521667, 0.9437401294708252, 0.9437401294708252, 0.9437401294708252, 0.9383845329284668, 0.9383148550987244, 0.9363821744918823, 0.9363821744918823, 0.9348927736282349, 0.9337990880012512, 0.9337989687919617, 0.9335636496543884, 0.9325048923492432, 0.9325048327445984, 0.9325048327445984, 0.9325047731399536, 0.9308956861495972, 0.9292836785316467, 0.929283618927002, 0.9274377822875977, 0.9267343878746033, 0.9255481362342834, 0.9255481362342834, 0.9231326580047607, 0.9229581952095032, 0.9223132133483887, 0.921512246131897, 0.921512246131897, 0.921512246131897, 0.920067310333252, 0.9194622039794922, 0.9191833734512329, 0.918714702129364, 0.9170674085617065, 0.9163795709609985, 0.915249228477478, 0.7893521785736084, 0.7682733535766602, 0.7627700567245483, 0.7627700567245483, 0.7378647923469543, 0.7378647923469543, 0.730296790599823, 0.7302967309951782, 0.7181848287582397, 0.7181848287582397, 0.7181848287582397, 0.71611487865448, 0.7046642303466797, 0.7046642303466797, 0.7046642303466797, 0.6999999284744263, 0.6885303258895874, 0.6761233806610107, 0.6751399636268616, 0.6708204746246338, 0.670820415019989, 0.6708203554153442, 0.6643638014793396, 0.6529286503791809, 0.6527534127235413, 0.6507914066314697, 0.6425754427909851, 0.640444815158844, 0.6368938684463501, 0.636881411075592, 0.636396050453186, 0.636396050453186, 0.6331738233566284, 0.632455587387085, 0.632455587387085, 0.632455587387085, 0.632455587387085, 0.632455587387085, 0.632455587387085, 0.632455587387085, 0.632455587387085, 0.7893521785736084, 0.7682733535766602, 0.7627700567245483, 0.7627700567245483, 0.7378647923469543, 0.7378647923469543, 0.730296790599823, 0.7302967309951782, 0.7181848287582397, 0.7181848287582397, 0.7181848287582397, 0.71611487865448, 0.7046642303466797, 0.7046642303466797, 0.7046642303466797, 0.6999999284744263, 0.6885303258895874, 0.6761233806610107, 0.6751399636268616, 0.6708204746246338, 0.670820415019989, 0.6708203554153442, 0.6643638014793396, 0.6529286503791809, 0.6527534127235413, 0.6507914066314697, 0.6425754427909851, 0.640444815158844, 0.6368938684463501, 0.636881411075592, 0.636396050453186, 0.636396050453186, 0.6331738233566284, 0.632455587387085, 0.632455587387085, 0.632455587387085, 0.632455587387085, 0.632455587387085, 0.632455587387085, 0.632455587387085, 0.632455587387085, 0.7427812814712524, 0.7115124464035034, 0.6875, 0.6859943866729736, 0.6717513799667358, 0.6495190858840942, 0.6495190262794495, 0.64549720287323, 0.6324554681777954, 0.6308932304382324, 0.6240376830101013, 0.6172133684158325, 0.6123724579811096, 0.6098575592041016, 0.603509783744812, 0.6030226945877075, 0.6030226349830627, 0.5908789038658142, 0.5892556309700012, 0.5883484482765198, 0.588348388671875, 0.5657523274421692, 0.561341404914856, 0.5604485273361206, 0.553398609161377, 0.5393193364143372, 0.5375872254371643, 0.5345224738121033, 0.5345224738121033, 0.5330017805099487, 0.5303300619125366, 0.5252257585525513, 0.5163977146148682, 0.5138701796531677, 0.5103104114532471, 0.5085834264755249, 0.5051814913749695, 0.5051814913749695, 0.5031153559684753, 0.5031153559684753, 0.5031153559684753, 0.8403582572937012, 0.8403582572937012, 0.8403582572937012, 0.835504412651062, 0.835504412651062, 0.8109307885169983, 0.8109307885169983, 0.8109307885169983, 0.8109307885169983, 0.8109307885169983, 0.8109307885169983, 0.7974143028259277, 0.7912566065788269, 0.785868227481842, 0.7815475463867188, 0.7804216742515564, 0.7804216742515564, 0.7804216742515564, 0.7804216742515564, 0.7802714705467224, 0.7802714705467224, 0.7779698371887207, 0.7742251753807068, 0.769530177116394, 0.7679476141929626, 0.7675662040710449, 0.7673122882843018, 0.7656166553497314, 0.7647885084152222, 0.7634850144386292, 0.7622517347335815, 0.7619224786758423, 0.7610738277435303, 0.7610738277435303, 0.7608797550201416, 0.7582875490188599, 0.7576549053192139, 0.7558647990226746, 0.7558647990226746, 0.7551923394203186, 0.7551923394203186, 0.9787956476211548, 0.9640347957611084, 0.9633799195289612, 0.9621022939682007, 0.9621022939682007, 0.9621022939682007, 0.9558526873588562, 0.955649733543396, 0.9537877440452576, 0.9511599540710449, 0.9508497714996338, 0.950750470161438, 0.9501460790634155, 0.9501460790634155, 0.948979914188385, 0.9488522410392761, 0.9476815462112427, 0.947346568107605, 0.9465924501419067, 0.9456577301025391, 0.9456577301025391, 0.9447561502456665, 0.9434391856193542, 0.9412353038787842, 0.9409593343734741, 0.9405803680419922, 0.9405162334442139, 0.9399007558822632, 0.9399007558822632, 0.9399007558822632, 0.9385019540786743, 0.9379648566246033, 0.9378902316093445, 0.9378902316093445, 0.9376354813575745, 0.9374703168869019, 0.9367507100105286, 0.9361648559570312, 0.9349470138549805, 0.9349470138549805, 0.9333308339118958, 0.9899494051933289, 0.9834450483322144, 0.976186990737915, 0.976186990737915, 0.9682456851005554, 0.9660918116569519, 0.9655351042747498, 0.9648363590240479, 0.9638631343841553, 0.9589265584945679, 0.9561828374862671, 0.9561828374862671, 0.9561828374862671, 0.955778956413269, 0.9547921419143677, 0.9547921419143677, 0.9486833810806274, 0.9486832618713379, 0.9486832618713379, 0.9486832618713379, 0.9486832618713379, 0.9486832618713379, 0.9431191682815552, 0.9431191086769104, 0.9431191086769104, 0.942990243434906, 0.939552366733551, 0.9393364191055298, 0.9341987371444702, 0.9341987371444702, 0.9333333373069763, 0.9333332777023315, 0.9326733350753784, 0.9325048327445984, 0.9325048327445984, 0.9309494495391846, 0.9309493899345398, 0.930949330329895, 0.9302606582641602, 0.9302605986595154, 0.9302605390548706, 0.9810229539871216, 0.9782320857048035, 0.9782319664955139, 0.9762212038040161, 0.9753615260124207, 0.9746794700622559, 0.9746794700622559, 0.9746794104576111, 0.9746793508529663, 0.9746793508529663, 0.9733285903930664, 0.9713237881660461, 0.9713237881660461, 0.9713237285614014, 0.9694584012031555, 0.9666388630867004, 0.9639604687690735, 0.9637387990951538, 0.9633640050888062, 0.9627198576927185, 0.9627197980880737, 0.9627197980880737, 0.9614822864532471, 0.9602859616279602, 0.9602859020233154, 0.9592421650886536, 0.9592421054840088, 0.9575798511505127, 0.9575797915458679, 0.9571064710617065, 0.9567298889160156, 0.9557896256446838, 0.9557563066482544, 0.9550175666809082, 0.954427182674408, 0.953821063041687, 0.9538208246231079, 0.9511897563934326, 0.9477583169937134, 0.9477583169937134, 0.9477583169937134, 0.9999999403953552, 0.9999999403953552, 0.9999999403953552, 0.9999999403953552, 0.9999999403953552, 0.9999999403953552, 0.9999999403953552, 0.9999999403953552, 0.9999999403953552, 0.9999999403953552, 0.9999999403953552, 0.9999999403953552, 0.9999999403953552, 0.9999999403953552, 0.9999999403953552, 0.9999999403953552, 0.9999999403953552, 0.9999999403953552, 0.9999999403953552, 0.9999999403953552, 0.9999999403953552, 0.9999999403953552, 0.9999999403953552, 0.9819805026054382, 0.9701424837112427, 0.9701424837112427, 0.9594032764434814, 0.9444443583488464, 0.9354143738746643, 0.9354143738746643, 0.9176629185676575, 0.9036961197853088, 0.8872443437576294, 0.884537935256958, 0.883883535861969, 0.8816820383071899, 0.8757291436195374, 0.8750000596046448, 0.8750000596046448, 0.8750000596046448, 0.875, 0.9899494051933289, 0.9834450483322144, 0.976186990737915, 0.976186990737915, 0.9682456851005554, 0.9660918116569519, 0.9655351042747498, 0.9648363590240479, 0.9638631343841553, 0.9589265584945679, 0.9561828374862671, 0.9561828374862671, 0.9561828374862671, 0.955778956413269, 0.9547921419143677, 0.9547921419143677, 0.9486833810806274, 0.9486832618713379, 0.9486832618713379, 0.9486832618713379, 0.9486832618713379, 0.9486832618713379, 0.9431191682815552, 0.9431191086769104, 0.9431191086769104, 0.942990243434906, 0.939552366733551, 0.9393364191055298, 0.9341987371444702, 0.9341987371444702, 0.9333333373069763, 0.9333332777023315, 0.9326733350753784, 0.9325048327445984, 0.9325048327445984, 0.9309494495391846, 0.9309493899345398, 0.930949330329895, 0.9302606582641602, 0.9302605986595154, 0.9302605390548706, 0.9342836737632751, 0.9198662638664246, 0.9177364110946655, 0.9172160625457764, 0.9170347452163696, 0.9121114611625671, 0.9104464054107666, 0.9060911536216736, 0.9001545906066895, 0.8964154124259949, 0.8934179544448853, 0.893246054649353, 0.893197774887085, 0.8927424550056458, 0.8927121162414551, 0.8922709822654724, 0.8920091986656189, 0.884165346622467, 0.8828856348991394, 0.882369875907898, 0.8820672035217285, 0.880704939365387, 0.880704939365387, 0.8807048797607422, 0.8807047605514526, 0.8803901672363281, 0.8800392746925354, 0.879304051399231, 0.879304051399231, 0.879304051399231, 0.8793039917945862, 0.8782753944396973, 0.8775799870491028, 0.8775146007537842, 0.8775146007537842, 0.8765509128570557, 0.8759853839874268, 0.8755629062652588, 0.8755444884300232, 0.8752736449241638, 0.8736882209777832, 0.96076899766922, 0.8932461142539978, 0.8278374671936035, 0.827837347984314, 0.8271702527999878, 0.8240419030189514, 0.8240419030189514, 0.8240419030189514, 0.8207294344902039, 0.8207294344902039, 0.8153742551803589, 0.8153742551803589, 0.8096408843994141, 0.8096408843994141, 0.808190107345581, 0.8062257766723633, 0.8062257766723633, 0.805322527885437, 0.7925939559936523, 0.7925939559936523, 0.7877264022827148, 0.7877264022827148, 0.7867957949638367, 0.7783117890357971, 0.7724872827529907, 0.7687060832977295, 0.7687060832977295, 0.7687060236930847, 0.7687060236930847, 0.7687060236930847, 0.7687060236930847, 0.7687060236930847, 0.7686577439308167, 0.7686577439308167, 0.7686576843261719, 0.7666357159614563, 0.7648661732673645, 0.7635417580604553, 0.7635416388511658, 0.762712836265564, 0.7627127170562744, 0.9759000539779663, 0.9566808342933655, 0.9559937715530396, 0.9534624814987183, 0.9486833214759827, 0.9486833214759827, 0.9486833214759827, 0.9486832618713379, 0.946729302406311, 0.9458757638931274, 0.9441176652908325, 0.9433000087738037, 0.9431192874908447, 0.9431192278862, 0.9431192278862, 0.9431191086769104, 0.9395524859428406, 0.9391486048698425, 0.9391485452651978, 0.938971221446991, 0.938971221446991, 0.9389709234237671, 0.9381389617919922, 0.9359709620475769, 0.9355127215385437, 0.9341988563537598, 0.9341988563537598, 0.9326733350753784, 0.9325048923492432, 0.9300538301467896, 0.9296698570251465, 0.9296697974205017, 0.9296697378158569, 0.9296697378158569, 0.9296697378158569, 0.9296696782112122, 0.9296696782112122, 0.9274495244026184, 0.9271051287651062, 0.9250000715255737, 0.9250000715255737, 0.9298955202102661, 0.8981462717056274, 0.8981462717056274, 0.8832715749740601, 0.8831761479377747, 0.8814826011657715, 0.8814826011657715, 0.879457950592041, 0.8783100843429565, 0.8783100843429565, 0.8763561844825745, 0.8763561844825745, 0.8760629892349243, 0.8755950927734375, 0.8672274351119995, 0.8660255074501038, 0.8640987873077393, 0.8614109754562378, 0.8608285784721375, 0.8608285784721375, 0.8608284592628479, 0.860663115978241, 0.8606629967689514, 0.8606629967689514, 0.8589058518409729, 0.8573215007781982, 0.857159435749054, 0.855688750743866, 0.852573573589325, 0.852573573589325, 0.8510497808456421, 0.8475794792175293, 0.8475793600082397, 0.8467803001403809, 0.8454028964042664, 0.8454028367996216, 0.8454028367996216, 0.8454028367996216, 0.8432741165161133, 0.8432739973068237, 0.8432739973068237, 0.9037378430366516, 0.8770579099655151, 0.8770579099655151, 0.8702853322029114, 0.8702853322029114, 0.8680789470672607, 0.8608285188674927, 0.8605266809463501, 0.8561726808547974, 0.8453637957572937, 0.8453637957572937, 0.8438529372215271, 0.8430888056755066, 0.8425607681274414, 0.8408409357070923, 0.8408408761024475, 0.8408408761024475, 0.8406727313995361, 0.8386279344558716, 0.8386278748512268, 0.8386278748512268, 0.8385565280914307, 0.8376106023788452, 0.8376104831695557, 0.8372344970703125, 0.837234377861023, 0.8362419009208679, 0.8334936499595642, 0.8334935903549194, 0.8334935903549194, 0.8332051634788513, 0.8332051634788513, 0.8323543071746826, 0.8320503830909729, 0.8320503234863281, 0.8320502638816833, 0.8303365111351013, 0.8295879364013672, 0.8295877575874329, 0.8287419676780701, 0.8287419676780701, 0.8483819961547852, 0.7203602194786072, 0.6443860530853271, 0.6238502264022827, 0.6238502264022827, 0.5812382102012634, 0.5718627572059631, 0.5607997179031372, 0.5607997179031372, 0.558956503868103, 0.551410973072052, 0.5378561615943909, 0.525749683380127, 0.525749683380127, 0.5231143236160278, 0.5198752284049988, 0.5183439254760742, 0.5082247257232666, 0.493196964263916, 0.4903043508529663, 0.4793012738227844, 0.4784713387489319, 0.4784713387489319, 0.4698092043399811, 0.45945948362350464, 0.4512709677219391, 0.4512709677219391, 0.4461134076118469, 0.441893994808197, 0.4359286427497864, 0.43423569202423096, 0.42624133825302124, 0.42624133825302124, 0.42624133825302124, 0.4184914827346802, 0.4113547205924988, 0.4109974801540375, 0.40766096115112305, 0.40686675906181335, 0.40686675906181335, 0.4043681025505066, 0.9298955202102661, 0.8981462717056274, 0.8981462717056274, 0.8832715749740601, 0.8831761479377747, 0.8814826011657715, 0.8814826011657715, 0.879457950592041, 0.8783100843429565, 0.8783100843429565, 0.8763561844825745, 0.8763561844825745, 0.8760629892349243, 0.8755950927734375, 0.8672274351119995, 0.8660255074501038, 0.8640987873077393, 0.8614109754562378, 0.8608285784721375, 0.8608285784721375, 0.8608284592628479, 0.860663115978241, 0.8606629967689514, 0.8606629967689514, 0.8589058518409729, 0.8573215007781982, 0.857159435749054, 0.855688750743866, 0.852573573589325, 0.852573573589325, 0.8510497808456421, 0.8475794792175293, 0.8475793600082397, 0.8467803001403809, 0.8454028964042664, 0.8454028367996216, 0.8454028367996216, 0.8454028367996216, 0.8432741165161133, 0.8432739973068237, 0.8432739973068237, 0.9999998807907104, 0.9999998807907104, 0.9999998807907104, 0.9999998807907104, 0.9999998807907104, 0.9999998807907104, 0.9999998807907104, 0.9999998807907104, 0.9999998807907104, 0.9999998807907104, 0.9999998807907104, 0.9999998807907104, 0.9999998807907104, 0.9999998807907104, 0.9999998807907104, 0.9999998807907104, 0.9960238933563232, 0.9918366074562073, 0.9918366074562073, 0.9855274558067322, 0.9855274558067322, 0.9855274558067322, 0.9855273962020874, 0.9855273962020874, 0.9855273962020874, 0.9855273962020874, 0.9855273962020874, 0.9847319722175598, 0.9847319722175598, 0.984731912612915, 0.984119713306427, 0.9829463362693787, 0.9805806875228882, 0.9801960587501526, 0.9799578785896301, 0.9797958731651306, 0.9771397709846497, 0.9771397709846497, 0.9737289547920227, 0.9737289547920227, 0.9737289547920227, 0.9999998807907104, 0.9999998807907104, 0.9999998807907104, 0.9999998807907104, 0.9999998807907104, 0.9999998807907104, 0.9999998807907104, 0.9999998807907104, 0.9999998807907104, 0.9999998807907104, 0.9999998807907104, 0.9999998807907104, 0.9999998807907104, 0.9999998807907104, 0.9999998807907104, 0.9999998807907104, 0.9960238933563232, 0.9918366074562073, 0.9918366074562073, 0.9855274558067322, 0.9855274558067322, 0.9855274558067322, 0.9855273962020874, 0.9855273962020874, 0.9855273962020874, 0.9855273962020874, 0.9855273962020874, 0.9847319722175598, 0.9847319722175598, 0.984731912612915, 0.984119713306427, 0.9829463362693787, 0.9805806875228882, 0.9801960587501526, 0.9799578785896301, 0.9797958731651306, 0.9771397709846497, 0.9771397709846497, 0.9737289547920227, 0.9737289547920227, 0.9737289547920227, 0.9128708839416504, 0.8406727910041809, 0.8333333730697632, 0.8333333730697632, 0.8198915719985962, 0.8179129362106323, 0.8164966106414795, 0.8017836809158325, 0.8017836809158325, 0.8006407618522644, 0.7947194576263428, 0.7938566207885742, 0.7925940155982971, 0.7905694246292114, 0.7879670262336731, 0.7825079560279846, 0.7825079560279846, 0.7825079560279846, 0.7777777910232544, 0.7745967507362366, 0.7745967507362366, 0.774596631526947, 0.771516740322113, 0.766032338142395, 0.7637626528739929, 0.7593264579772949, 0.7593263387680054, 0.7505553960800171, 0.7505553960800171, 0.7504787445068359, 0.7500000596046448, 0.75, 0.75, 0.75, 0.75, 0.7499999403953552, 0.7492685914039612, 0.7469136714935303, 0.7426106929779053, 0.7395740747451782, 0.738548994064331, 0.9999998807907104, 0.9999998807907104, 0.9999998807907104, 0.9999998807907104, 0.9999998807907104, 0.9999998807907104, 0.9999998807907104, 0.9999998807907104, 0.9999998807907104, 0.9999998807907104, 0.9999998807907104, 0.9999998807907104, 0.9999998807907104, 0.9999998807907104, 0.9999998807907104, 0.9999998807907104, 0.9960238933563232, 0.9918366074562073, 0.9918366074562073, 0.9855274558067322, 0.9855274558067322, 0.9855274558067322, 0.9855273962020874, 0.9855273962020874, 0.9855273962020874, 0.9855273962020874, 0.9855273962020874, 0.9847319722175598, 0.9847319722175598, 0.984731912612915, 0.984119713306427, 0.9829463362693787, 0.9805806875228882, 0.9801960587501526, 0.9799578785896301, 0.9797958731651306, 0.9771397709846497, 0.9771397709846497, 0.9737289547920227, 0.9737289547920227, 0.9737289547920227, 0.9546686410903931, 0.9525008201599121, 0.9525008201599121, 0.9519716501235962, 0.9519716501235962, 0.9422228932380676, 0.9354143142700195, 0.9274260997772217, 0.9268550872802734, 0.9263021349906921, 0.9263020753860474, 0.9258200526237488, 0.9228396415710449, 0.9207509756088257, 0.9207508563995361, 0.9207367897033691, 0.919238805770874, 0.9192387461662292, 0.9191450476646423, 0.9191450476646423, 0.9187104105949402, 0.9181763529777527, 0.9176629185676575, 0.9166666269302368, 0.916578471660614, 0.916578471660614, 0.9149913787841797, 0.9148908853530884, 0.9141378998756409, 0.9139076471328735, 0.9133462905883789, 0.9133462905883789, 0.9133462905883789, 0.9133462905883789, 0.9128708839416504, 0.9128707647323608, 0.9124954342842102, 0.9120291471481323, 0.9095085859298706, 0.9095085859298706, 0.9095085263252258, 0.9723057150840759, 0.9548636674880981, 0.9548636674880981, 0.9219545125961304, 0.9117647409439087, 0.9115638732910156, 0.9115046262741089, 0.9109358787536621, 0.9106417298316956, 0.9106416702270508, 0.9101820588111877, 0.9101820588111877, 0.910181999206543, 0.9095085859298706, 0.9081082940101624, 0.9074852466583252, 0.906869649887085, 0.9068695306777954, 0.9049358367919922, 0.9049035310745239, 0.903876781463623, 0.8997353315353394, 0.899181604385376, 0.8990275859832764, 0.8986452221870422, 0.8986451029777527, 0.8981249928474426, 0.8978642821311951, 0.897364616394043, 0.8958086967468262, 0.8956221342086792, 0.8951714038848877, 0.8948381543159485, 0.8938431739807129, 0.8934147357940674, 0.893259584903717, 0.893259584903717, 0.893259584903717, 0.8930886387825012, 0.8930885791778564, 0.8926785588264465, 0.9165151715278625, 0.8954430222511292, 0.8954430222511292, 0.8759957551956177, 0.8246211409568787, 0.8164966106414795, 0.8082903623580933, 0.803326427936554, 0.8000000715255737, 0.7999999523162842, 0.7923547625541687, 0.7902633547782898, 0.7855844497680664, 0.7855843901634216, 0.7794228196144104, 0.7786628007888794, 0.7778175473213196, 0.7765803337097168, 0.7761140465736389, 0.774596631526947, 0.77247154712677, 0.7715167999267578, 0.7666981816291809, 0.7666981816291809, 0.7615772485733032, 0.7602630853652954, 0.7602630853652954, 0.7559288740158081, 0.754342257976532, 0.7542471885681152, 0.752139687538147, 0.75, 0.75, 0.7499999403953552, 0.7483315467834473, 0.7483314871788025, 0.7483314275741577, 0.7462185621261597, 0.7427813410758972, 0.7424620985984802, 0.7424620985984802, 0.9747547507286072, 0.9747547507286072, 0.9667962193489075, 0.9587093591690063, 0.9518173336982727, 0.9518173336982727, 0.9509798288345337, 0.9496715068817139, 0.9476780295372009, 0.9437015056610107, 0.9428712725639343, 0.9428472518920898, 0.942082405090332, 0.9416363835334778, 0.9401747584342957, 0.9364182353019714, 0.9346851706504822, 0.9341986775398254, 0.9337221384048462, 0.9328736066818237, 0.9322981834411621, 0.9320951700210571, 0.9318182468414307, 0.9318181276321411, 0.9318181276321411, 0.9312905073165894, 0.9307577610015869, 0.9307577610015869, 0.9304842948913574, 0.9304841160774231, 0.9303739666938782, 0.9303739666938782, 0.9296600222587585, 0.9296600222587585, 0.9296600222587585, 0.9296600222587585, 0.928840696811676, 0.928840696811676, 0.928032398223877, 0.9277308583259583, 0.9266964197158813, 0.8101627230644226, 0.785868227481842, 0.7833495140075684, 0.7833495140075684, 0.7713891863822937, 0.7713891863822937, 0.7713891863822937, 0.7710995674133301, 0.7710995674133301, 0.7706746459007263, 0.7693217992782593, 0.7693217992782593, 0.7675225734710693, 0.7658161520957947, 0.7627700567245483, 0.7610525488853455, 0.7562625408172607, 0.7557421922683716, 0.7544335126876831, 0.7537783980369568, 0.7537783980369568, 0.753778338432312, 0.753778338432312, 0.7462025284767151, 0.7416198253631592, 0.7407437562942505, 0.7399957180023193, 0.7398300170898438, 0.7392480373382568, 0.7392479777336121, 0.7385489344596863, 0.7336740493774414, 0.7336739897727966, 0.732134222984314, 0.7309738397598267, 0.7278603315353394, 0.7275475859642029, 0.7275475263595581, 0.7252405285835266, 0.7248824238777161, 0.7248824238777161, 0.8416253924369812, 0.8416253924369812, 0.8224782943725586, 0.8084520697593689, 0.8060599565505981, 0.8051609992980957, 0.8043997287750244, 0.8043997287750244, 0.8043997287750244, 0.8043996691703796, 0.7893862724304199, 0.7882407903671265, 0.786718487739563, 0.7848839163780212, 0.7811209559440613, 0.7811209559440613, 0.7789808511734009, 0.7778445482254028, 0.7767130732536316, 0.7761139273643494, 0.771743655204773, 0.7694869041442871, 0.7680293917655945, 0.7678360939025879, 0.7678359746932983, 0.7673643827438354, 0.7669650316238403, 0.7669649720191956, 0.7669649124145508, 0.7662411332130432, 0.7656415700912476, 0.7647058963775635, 0.7643157839775085, 0.7641791105270386, 0.7634862661361694, 0.7633986473083496, 0.7622548341751099, 0.7622547149658203, 0.7612432241439819, 0.7610424160957336, 0.7605466842651367, 0.9229719638824463, 0.8931884169578552, 0.8866356015205383, 0.8825225830078125, 0.8209008574485779, 0.8171505331993103, 0.7783117890357971, 0.7783117890357971, 0.7765803337097168, 0.7627127766609192, 0.7428908348083496, 0.7428908348083496, 0.7131997346878052, 0.7071067690849304, 0.7067392468452454, 0.7067392468452454, 0.7041867971420288, 0.6999132633209229, 0.6933752298355103, 0.6878708600997925, 0.6877464056015015, 0.6805446743965149, 0.6796437501907349, 0.6713795065879822, 0.6695340871810913, 0.6605286002159119, 0.6605286002159119, 0.6577935218811035, 0.6577935218811035, 0.6577935218811035, 0.6577935218811035, 0.6537203788757324, 0.6527139544487, 0.6445033550262451, 0.6405125856399536, 0.639039158821106, 0.6379052400588989, 0.6379052400588989, 0.6362847685813904, 0.6362847685813904, 0.6362847685813904, 0.8416253924369812, 0.8416253924369812, 0.8224782943725586, 0.8084520697593689, 0.8060599565505981, 0.8051609992980957, 0.8043997287750244, 0.8043997287750244, 0.8043997287750244, 0.8043996691703796, 0.7893862724304199, 0.7882407903671265, 0.786718487739563, 0.7848839163780212, 0.7811209559440613, 0.7811209559440613, 0.7789808511734009, 0.7778445482254028, 0.7767130732536316, 0.7761139273643494, 0.771743655204773, 0.7694869041442871, 0.7680293917655945, 0.7678360939025879, 0.7678359746932983, 0.7673643827438354, 0.7669650316238403, 0.7669649720191956, 0.7669649124145508, 0.7662411332130432, 0.7656415700912476, 0.7647058963775635, 0.7643157839775085, 0.7641791105270386, 0.7634862661361694, 0.7633986473083496, 0.7622548341751099, 0.7622547149658203, 0.7612432241439819, 0.7610424160957336, 0.7605466842651367], \"xaxis\": \"x\", \"yaxis\": \"y\"}],\n",
              "                        {\"barmode\": \"relative\", \"legend\": {\"tracegroupgap\": 0}, \"template\": {\"data\": {\"bar\": [{\"error_x\": {\"color\": \"#2a3f5f\"}, \"error_y\": {\"color\": \"#2a3f5f\"}, \"marker\": {\"line\": {\"color\": \"#E5ECF6\", \"width\": 0.5}}, \"type\": \"bar\"}], \"barpolar\": [{\"marker\": {\"line\": {\"color\": \"#E5ECF6\", \"width\": 0.5}}, \"type\": \"barpolar\"}], \"carpet\": [{\"aaxis\": {\"endlinecolor\": \"#2a3f5f\", \"gridcolor\": \"white\", \"linecolor\": \"white\", \"minorgridcolor\": \"white\", \"startlinecolor\": \"#2a3f5f\"}, \"baxis\": {\"endlinecolor\": \"#2a3f5f\", \"gridcolor\": \"white\", \"linecolor\": \"white\", \"minorgridcolor\": \"white\", \"startlinecolor\": \"#2a3f5f\"}, \"type\": \"carpet\"}], \"choropleth\": [{\"colorbar\": {\"outlinewidth\": 0, \"ticks\": \"\"}, \"type\": \"choropleth\"}], \"contour\": [{\"colorbar\": {\"outlinewidth\": 0, \"ticks\": \"\"}, \"colorscale\": [[0.0, \"#0d0887\"], [0.1111111111111111, \"#46039f\"], [0.2222222222222222, \"#7201a8\"], [0.3333333333333333, \"#9c179e\"], [0.4444444444444444, \"#bd3786\"], [0.5555555555555556, \"#d8576b\"], [0.6666666666666666, \"#ed7953\"], [0.7777777777777778, \"#fb9f3a\"], [0.8888888888888888, \"#fdca26\"], [1.0, \"#f0f921\"]], \"type\": \"contour\"}], \"contourcarpet\": [{\"colorbar\": {\"outlinewidth\": 0, \"ticks\": \"\"}, \"type\": \"contourcarpet\"}], \"heatmap\": [{\"colorbar\": {\"outlinewidth\": 0, \"ticks\": \"\"}, \"colorscale\": [[0.0, \"#0d0887\"], [0.1111111111111111, \"#46039f\"], [0.2222222222222222, \"#7201a8\"], [0.3333333333333333, \"#9c179e\"], [0.4444444444444444, \"#bd3786\"], [0.5555555555555556, \"#d8576b\"], [0.6666666666666666, \"#ed7953\"], [0.7777777777777778, \"#fb9f3a\"], [0.8888888888888888, \"#fdca26\"], [1.0, \"#f0f921\"]], \"type\": \"heatmap\"}], \"heatmapgl\": [{\"colorbar\": {\"outlinewidth\": 0, \"ticks\": \"\"}, \"colorscale\": [[0.0, \"#0d0887\"], [0.1111111111111111, \"#46039f\"], [0.2222222222222222, \"#7201a8\"], [0.3333333333333333, \"#9c179e\"], [0.4444444444444444, \"#bd3786\"], [0.5555555555555556, \"#d8576b\"], [0.6666666666666666, \"#ed7953\"], [0.7777777777777778, \"#fb9f3a\"], [0.8888888888888888, \"#fdca26\"], [1.0, \"#f0f921\"]], \"type\": \"heatmapgl\"}], \"histogram\": [{\"marker\": {\"colorbar\": {\"outlinewidth\": 0, \"ticks\": \"\"}}, \"type\": \"histogram\"}], \"histogram2d\": [{\"colorbar\": {\"outlinewidth\": 0, \"ticks\": \"\"}, \"colorscale\": [[0.0, \"#0d0887\"], [0.1111111111111111, \"#46039f\"], [0.2222222222222222, \"#7201a8\"], [0.3333333333333333, \"#9c179e\"], [0.4444444444444444, \"#bd3786\"], [0.5555555555555556, \"#d8576b\"], [0.6666666666666666, \"#ed7953\"], [0.7777777777777778, \"#fb9f3a\"], [0.8888888888888888, \"#fdca26\"], [1.0, \"#f0f921\"]], \"type\": \"histogram2d\"}], \"histogram2dcontour\": [{\"colorbar\": {\"outlinewidth\": 0, \"ticks\": \"\"}, \"colorscale\": [[0.0, \"#0d0887\"], [0.1111111111111111, \"#46039f\"], [0.2222222222222222, \"#7201a8\"], [0.3333333333333333, \"#9c179e\"], [0.4444444444444444, \"#bd3786\"], [0.5555555555555556, \"#d8576b\"], [0.6666666666666666, \"#ed7953\"], [0.7777777777777778, \"#fb9f3a\"], [0.8888888888888888, \"#fdca26\"], [1.0, \"#f0f921\"]], \"type\": \"histogram2dcontour\"}], \"mesh3d\": [{\"colorbar\": {\"outlinewidth\": 0, \"ticks\": \"\"}, \"type\": \"mesh3d\"}], \"parcoords\": [{\"line\": {\"colorbar\": {\"outlinewidth\": 0, \"ticks\": \"\"}}, \"type\": \"parcoords\"}], \"pie\": [{\"automargin\": true, \"type\": \"pie\"}], \"scatter\": [{\"marker\": {\"colorbar\": {\"outlinewidth\": 0, \"ticks\": \"\"}}, \"type\": \"scatter\"}], \"scatter3d\": [{\"line\": {\"colorbar\": {\"outlinewidth\": 0, \"ticks\": \"\"}}, \"marker\": {\"colorbar\": {\"outlinewidth\": 0, \"ticks\": \"\"}}, \"type\": \"scatter3d\"}], \"scattercarpet\": [{\"marker\": {\"colorbar\": {\"outlinewidth\": 0, \"ticks\": \"\"}}, \"type\": \"scattercarpet\"}], \"scattergeo\": [{\"marker\": {\"colorbar\": {\"outlinewidth\": 0, \"ticks\": \"\"}}, \"type\": \"scattergeo\"}], \"scattergl\": [{\"marker\": {\"colorbar\": {\"outlinewidth\": 0, \"ticks\": \"\"}}, \"type\": \"scattergl\"}], \"scattermapbox\": [{\"marker\": {\"colorbar\": {\"outlinewidth\": 0, \"ticks\": \"\"}}, \"type\": \"scattermapbox\"}], \"scatterpolar\": [{\"marker\": {\"colorbar\": {\"outlinewidth\": 0, \"ticks\": \"\"}}, \"type\": \"scatterpolar\"}], \"scatterpolargl\": [{\"marker\": {\"colorbar\": {\"outlinewidth\": 0, \"ticks\": \"\"}}, \"type\": \"scatterpolargl\"}], \"scatterternary\": [{\"marker\": {\"colorbar\": {\"outlinewidth\": 0, \"ticks\": \"\"}}, \"type\": \"scatterternary\"}], \"surface\": [{\"colorbar\": {\"outlinewidth\": 0, \"ticks\": \"\"}, \"colorscale\": [[0.0, \"#0d0887\"], [0.1111111111111111, \"#46039f\"], [0.2222222222222222, \"#7201a8\"], [0.3333333333333333, \"#9c179e\"], [0.4444444444444444, \"#bd3786\"], [0.5555555555555556, \"#d8576b\"], [0.6666666666666666, \"#ed7953\"], [0.7777777777777778, \"#fb9f3a\"], [0.8888888888888888, \"#fdca26\"], [1.0, \"#f0f921\"]], \"type\": \"surface\"}], \"table\": [{\"cells\": {\"fill\": {\"color\": \"#EBF0F8\"}, \"line\": {\"color\": \"white\"}}, \"header\": {\"fill\": {\"color\": \"#C8D4E3\"}, \"line\": {\"color\": \"white\"}}, \"type\": \"table\"}]}, \"layout\": {\"annotationdefaults\": {\"arrowcolor\": \"#2a3f5f\", \"arrowhead\": 0, \"arrowwidth\": 1}, \"coloraxis\": {\"colorbar\": {\"outlinewidth\": 0, \"ticks\": \"\"}}, \"colorscale\": {\"diverging\": [[0, \"#8e0152\"], [0.1, \"#c51b7d\"], [0.2, \"#de77ae\"], [0.3, \"#f1b6da\"], [0.4, \"#fde0ef\"], [0.5, \"#f7f7f7\"], [0.6, \"#e6f5d0\"], [0.7, \"#b8e186\"], [0.8, \"#7fbc41\"], [0.9, \"#4d9221\"], [1, \"#276419\"]], \"sequential\": [[0.0, \"#0d0887\"], [0.1111111111111111, \"#46039f\"], [0.2222222222222222, \"#7201a8\"], [0.3333333333333333, \"#9c179e\"], [0.4444444444444444, \"#bd3786\"], [0.5555555555555556, \"#d8576b\"], [0.6666666666666666, \"#ed7953\"], [0.7777777777777778, \"#fb9f3a\"], [0.8888888888888888, \"#fdca26\"], [1.0, \"#f0f921\"]], \"sequentialminus\": [[0.0, \"#0d0887\"], [0.1111111111111111, \"#46039f\"], [0.2222222222222222, \"#7201a8\"], [0.3333333333333333, \"#9c179e\"], [0.4444444444444444, \"#bd3786\"], [0.5555555555555556, \"#d8576b\"], [0.6666666666666666, \"#ed7953\"], [0.7777777777777778, \"#fb9f3a\"], [0.8888888888888888, \"#fdca26\"], [1.0, \"#f0f921\"]]}, \"colorway\": [\"#636efa\", \"#EF553B\", \"#00cc96\", \"#ab63fa\", \"#FFA15A\", \"#19d3f3\", \"#FF6692\", \"#B6E880\", \"#FF97FF\", \"#FECB52\"], \"font\": {\"color\": \"#2a3f5f\"}, \"geo\": {\"bgcolor\": \"white\", \"lakecolor\": \"white\", \"landcolor\": \"#E5ECF6\", \"showlakes\": true, \"showland\": true, \"subunitcolor\": \"white\"}, \"hoverlabel\": {\"align\": \"left\"}, \"hovermode\": \"closest\", \"mapbox\": {\"style\": \"light\"}, \"paper_bgcolor\": \"white\", \"plot_bgcolor\": \"#E5ECF6\", \"polar\": {\"angularaxis\": {\"gridcolor\": \"white\", \"linecolor\": \"white\", \"ticks\": \"\"}, \"bgcolor\": \"#E5ECF6\", \"radialaxis\": {\"gridcolor\": \"white\", \"linecolor\": \"white\", \"ticks\": \"\"}}, \"scene\": {\"xaxis\": {\"backgroundcolor\": \"#E5ECF6\", \"gridcolor\": \"white\", \"gridwidth\": 2, \"linecolor\": \"white\", \"showbackground\": true, \"ticks\": \"\", \"zerolinecolor\": \"white\"}, \"yaxis\": {\"backgroundcolor\": \"#E5ECF6\", \"gridcolor\": \"white\", \"gridwidth\": 2, \"linecolor\": \"white\", \"showbackground\": true, \"ticks\": \"\", \"zerolinecolor\": \"white\"}, \"zaxis\": {\"backgroundcolor\": \"#E5ECF6\", \"gridcolor\": \"white\", \"gridwidth\": 2, \"linecolor\": \"white\", \"showbackground\": true, \"ticks\": \"\", \"zerolinecolor\": \"white\"}}, \"shapedefaults\": {\"line\": {\"color\": \"#2a3f5f\"}}, \"ternary\": {\"aaxis\": {\"gridcolor\": \"white\", \"linecolor\": \"white\", \"ticks\": \"\"}, \"baxis\": {\"gridcolor\": \"white\", \"linecolor\": \"white\", \"ticks\": \"\"}, \"bgcolor\": \"#E5ECF6\", \"caxis\": {\"gridcolor\": \"white\", \"linecolor\": \"white\", \"ticks\": \"\"}}, \"title\": {\"x\": 0.05}, \"xaxis\": {\"automargin\": true, \"gridcolor\": \"white\", \"linecolor\": \"white\", \"ticks\": \"\", \"title\": {\"standoff\": 15}, \"zerolinecolor\": \"white\", \"zerolinewidth\": 2}, \"yaxis\": {\"automargin\": true, \"gridcolor\": \"white\", \"linecolor\": \"white\", \"ticks\": \"\", \"title\": {\"standoff\": 15}, \"zerolinecolor\": \"white\", \"zerolinewidth\": 2}}}, \"title\": {\"text\": \"LSI Scores\"}, \"xaxis\": {\"anchor\": \"y\", \"domain\": [0.0, 1.0], \"title\": {\"text\": \"score\"}}, \"yaxis\": {\"anchor\": \"x\", \"domain\": [0.0, 1.0], \"title\": {\"text\": \"count\"}}},\n",
              "                        {\"responsive\": true}\n",
              "                    ).then(function(){\n",
              "                            \n",
              "var gd = document.getElementById('4487d493-bfa0-447b-b93c-9f824e4904fe');\n",
              "var x = new MutationObserver(function (mutations, observer) {{\n",
              "        var display = window.getComputedStyle(gd).display;\n",
              "        if (!display || display === 'none') {{\n",
              "            console.log([gd, 'removed!']);\n",
              "            Plotly.purge(gd);\n",
              "            observer.disconnect();\n",
              "        }}\n",
              "}});\n",
              "\n",
              "// Listen for the removal of the full notebook cells\n",
              "var notebookContainer = gd.closest('#notebook-container');\n",
              "if (notebookContainer) {{\n",
              "    x.observe(notebookContainer, {childList: true});\n",
              "}}\n",
              "\n",
              "// Listen for the clearing of the current output cell\n",
              "var outputEl = gd.closest('.output');\n",
              "if (outputEl) {{\n",
              "    x.observe(outputEl, {childList: true});\n",
              "}}\n",
              "\n",
              "                        })\n",
              "                };\n",
              "                \n",
              "            </script>\n",
              "        </div>\n",
              "</body>\n",
              "</html>"
            ]
          },
          "metadata": {}
        }
      ]
    },
    {
      "cell_type": "code",
      "metadata": {
        "id": "RX2JvEEGPGgS"
      },
      "source": [
        "if use_wandb:\n",
        "  wandb.log({\"scores_hist\": fig})"
      ],
      "execution_count": 73,
      "outputs": []
    },
    {
      "cell_type": "code",
      "metadata": {
        "colab": {
          "base_uri": "https://localhost:8080/",
          "height": 1000
        },
        "id": "7N81-XfdDFKV",
        "outputId": "769593f2-e922-4ace-ff8b-6f6878f7dd48"
      },
      "source": [
        "result, details = recommend_tune(df_sim, 'These Foolish Things [jazz1350]')\n",
        "result.head(30)"
      ],
      "execution_count": 74,
      "outputs": [
        {
          "output_type": "stream",
          "name": "stdout",
          "text": [
            "Index(['similar_title', 'score', 'max', 'score_div_max', 'reference',\n",
            "       'reference_titleid'],\n",
            "      dtype='object')\n"
          ]
        },
        {
          "output_type": "execute_result",
          "data": {
            "text/html": [
              "<div>\n",
              "<style scoped>\n",
              "    .dataframe tbody tr th:only-of-type {\n",
              "        vertical-align: middle;\n",
              "    }\n",
              "\n",
              "    .dataframe tbody tr th {\n",
              "        vertical-align: top;\n",
              "    }\n",
              "\n",
              "    .dataframe thead th {\n",
              "        text-align: right;\n",
              "    }\n",
              "</style>\n",
              "<table border=\"1\" class=\"dataframe\">\n",
              "  <thead>\n",
              "    <tr style=\"text-align: right;\">\n",
              "      <th></th>\n",
              "      <th>index</th>\n",
              "      <th>reference</th>\n",
              "      <th>reference_titleid</th>\n",
              "      <th>similar_title</th>\n",
              "      <th>score</th>\n",
              "      <th>max</th>\n",
              "      <th>score_div_max</th>\n",
              "    </tr>\n",
              "  </thead>\n",
              "  <tbody>\n",
              "    <tr>\n",
              "      <th>0</th>\n",
              "      <td>0</td>\n",
              "      <td>These Foolish Things [jazz1350]</td>\n",
              "      <td>1168</td>\n",
              "      <td>Way You Look Tonight, The [jazz1350]</td>\n",
              "      <td>0.966796</td>\n",
              "      <td>0.974755</td>\n",
              "      <td>1.000000</td>\n",
              "    </tr>\n",
              "    <tr>\n",
              "      <th>1</th>\n",
              "      <td>1</td>\n",
              "      <td>These Foolish Things [jazz1350]</td>\n",
              "      <td>1168</td>\n",
              "      <td>More Than You Know [jazz1350]</td>\n",
              "      <td>0.916515</td>\n",
              "      <td>0.916515</td>\n",
              "      <td>1.000000</td>\n",
              "    </tr>\n",
              "    <tr>\n",
              "      <th>2</th>\n",
              "      <td>2</td>\n",
              "      <td>These Foolish Things [jazz1350]</td>\n",
              "      <td>1168</td>\n",
              "      <td>I Loves You Porgy [jazz1350]</td>\n",
              "      <td>0.974755</td>\n",
              "      <td>0.974755</td>\n",
              "      <td>1.000000</td>\n",
              "    </tr>\n",
              "    <tr>\n",
              "      <th>3</th>\n",
              "      <td>3</td>\n",
              "      <td>These Foolish Things [jazz1350]</td>\n",
              "      <td>1168</td>\n",
              "      <td>It's Easy To Remember [jazz1350]</td>\n",
              "      <td>0.951972</td>\n",
              "      <td>0.974755</td>\n",
              "      <td>0.997175</td>\n",
              "    </tr>\n",
              "    <tr>\n",
              "      <th>4</th>\n",
              "      <td>4</td>\n",
              "      <td>These Foolish Things [jazz1350]</td>\n",
              "      <td>1168</td>\n",
              "      <td>Stairway To The Stars [jazz1350]</td>\n",
              "      <td>0.942223</td>\n",
              "      <td>0.974755</td>\n",
              "      <td>0.986963</td>\n",
              "    </tr>\n",
              "    <tr>\n",
              "      <th>5</th>\n",
              "      <td>5</td>\n",
              "      <td>These Foolish Things [jazz1350]</td>\n",
              "      <td>1168</td>\n",
              "      <td>Party's Over, The [jazz1350]</td>\n",
              "      <td>0.958709</td>\n",
              "      <td>0.974755</td>\n",
              "      <td>0.983539</td>\n",
              "    </tr>\n",
              "    <tr>\n",
              "      <th>6</th>\n",
              "      <td>6</td>\n",
              "      <td>These Foolish Things [jazz1350]</td>\n",
              "      <td>1168</td>\n",
              "      <td>Rosetta [jazz1350]</td>\n",
              "      <td>0.895443</td>\n",
              "      <td>0.916515</td>\n",
              "      <td>0.977008</td>\n",
              "    </tr>\n",
              "    <tr>\n",
              "      <th>7</th>\n",
              "      <td>7</td>\n",
              "      <td>These Foolish Things [jazz1350]</td>\n",
              "      <td>1168</td>\n",
              "      <td>Rosetta [trad]</td>\n",
              "      <td>0.895443</td>\n",
              "      <td>0.916515</td>\n",
              "      <td>0.977008</td>\n",
              "    </tr>\n",
              "    <tr>\n",
              "      <th>8</th>\n",
              "      <td>8</td>\n",
              "      <td>These Foolish Things [jazz1350]</td>\n",
              "      <td>1168</td>\n",
              "      <td>They All Laughed [jazz1350]</td>\n",
              "      <td>0.950980</td>\n",
              "      <td>0.974755</td>\n",
              "      <td>0.975609</td>\n",
              "    </tr>\n",
              "    <tr>\n",
              "      <th>9</th>\n",
              "      <td>9</td>\n",
              "      <td>These Foolish Things [jazz1350]</td>\n",
              "      <td>1168</td>\n",
              "      <td>And The Angels Sing [jazz1350]</td>\n",
              "      <td>0.947678</td>\n",
              "      <td>0.974755</td>\n",
              "      <td>0.972222</td>\n",
              "    </tr>\n",
              "    <tr>\n",
              "      <th>10</th>\n",
              "      <td>10</td>\n",
              "      <td>These Foolish Things [jazz1350]</td>\n",
              "      <td>1168</td>\n",
              "      <td>Let's Fall In Love [jazz1350]</td>\n",
              "      <td>0.930484</td>\n",
              "      <td>0.974755</td>\n",
              "      <td>0.971464</td>\n",
              "    </tr>\n",
              "    <tr>\n",
              "      <th>11</th>\n",
              "      <td>11</td>\n",
              "      <td>These Foolish Things [jazz1350]</td>\n",
              "      <td>1168</td>\n",
              "      <td>Bewitched [jazz1350]</td>\n",
              "      <td>0.942847</td>\n",
              "      <td>0.974755</td>\n",
              "      <td>0.970287</td>\n",
              "    </tr>\n",
              "    <tr>\n",
              "      <th>12</th>\n",
              "      <td>12</td>\n",
              "      <td>These Foolish Things [jazz1350]</td>\n",
              "      <td>1168</td>\n",
              "      <td>Easy Street [jazz1350]</td>\n",
              "      <td>0.926302</td>\n",
              "      <td>0.954669</td>\n",
              "      <td>0.970286</td>\n",
              "    </tr>\n",
              "    <tr>\n",
              "      <th>13</th>\n",
              "      <td>13</td>\n",
              "      <td>These Foolish Things [jazz1350]</td>\n",
              "      <td>1168</td>\n",
              "      <td>Among My Souvenirs [jazz1350]</td>\n",
              "      <td>0.925820</td>\n",
              "      <td>0.954669</td>\n",
              "      <td>0.969782</td>\n",
              "    </tr>\n",
              "    <tr>\n",
              "      <th>14</th>\n",
              "      <td>14</td>\n",
              "      <td>These Foolish Things [jazz1350]</td>\n",
              "      <td>1168</td>\n",
              "      <td>Why Do I Love You [jazz1350]</td>\n",
              "      <td>0.943702</td>\n",
              "      <td>0.974755</td>\n",
              "      <td>0.968143</td>\n",
              "    </tr>\n",
              "    <tr>\n",
              "      <th>15</th>\n",
              "      <td>15</td>\n",
              "      <td>These Foolish Things [jazz1350]</td>\n",
              "      <td>1168</td>\n",
              "      <td>Folks Who Live On The Hill, The [jazz1350]</td>\n",
              "      <td>0.942871</td>\n",
              "      <td>0.974755</td>\n",
              "      <td>0.967291</td>\n",
              "    </tr>\n",
              "    <tr>\n",
              "      <th>16</th>\n",
              "      <td>16</td>\n",
              "      <td>These Foolish Things [jazz1350]</td>\n",
              "      <td>1168</td>\n",
              "      <td>If There Is Someone Lovelier [jazz1350]</td>\n",
              "      <td>0.942082</td>\n",
              "      <td>0.974755</td>\n",
              "      <td>0.966481</td>\n",
              "    </tr>\n",
              "    <tr>\n",
              "      <th>17</th>\n",
              "      <td>17</td>\n",
              "      <td>These Foolish Things [jazz1350]</td>\n",
              "      <td>1168</td>\n",
              "      <td>It's A Lovely Day Today [jazz1350]</td>\n",
              "      <td>0.941636</td>\n",
              "      <td>0.974755</td>\n",
              "      <td>0.966024</td>\n",
              "    </tr>\n",
              "    <tr>\n",
              "      <th>18</th>\n",
              "      <td>18</td>\n",
              "      <td>These Foolish Things [jazz1350]</td>\n",
              "      <td>1168</td>\n",
              "      <td>Manhattan [jazz1350]</td>\n",
              "      <td>0.920751</td>\n",
              "      <td>0.954669</td>\n",
              "      <td>0.964472</td>\n",
              "    </tr>\n",
              "    <tr>\n",
              "      <th>19</th>\n",
              "      <td>19</td>\n",
              "      <td>These Foolish Things [jazz1350]</td>\n",
              "      <td>1168</td>\n",
              "      <td>Heart And Soul [jazz1350]</td>\n",
              "      <td>0.934199</td>\n",
              "      <td>0.974755</td>\n",
              "      <td>0.964457</td>\n",
              "    </tr>\n",
              "    <tr>\n",
              "      <th>20</th>\n",
              "      <td>20</td>\n",
              "      <td>These Foolish Things [jazz1350]</td>\n",
              "      <td>1168</td>\n",
              "      <td>For Once In My Life [jazz1350]</td>\n",
              "      <td>0.919239</td>\n",
              "      <td>0.954669</td>\n",
              "      <td>0.962888</td>\n",
              "    </tr>\n",
              "    <tr>\n",
              "      <th>21</th>\n",
              "      <td>21</td>\n",
              "      <td>These Foolish Things [jazz1350]</td>\n",
              "      <td>1168</td>\n",
              "      <td>Danny Boy [jazz1350]</td>\n",
              "      <td>0.934685</td>\n",
              "      <td>0.974755</td>\n",
              "      <td>0.962888</td>\n",
              "    </tr>\n",
              "    <tr>\n",
              "      <th>22</th>\n",
              "      <td>22</td>\n",
              "      <td>These Foolish Things [jazz1350]</td>\n",
              "      <td>1168</td>\n",
              "      <td>Taking A Chance On Love [jazz1350]</td>\n",
              "      <td>0.919145</td>\n",
              "      <td>0.954669</td>\n",
              "      <td>0.962790</td>\n",
              "    </tr>\n",
              "    <tr>\n",
              "      <th>23</th>\n",
              "      <td>23</td>\n",
              "      <td>These Foolish Things [jazz1350]</td>\n",
              "      <td>1168</td>\n",
              "      <td>I Gotta Right To Sing The Blues [jazz1350]</td>\n",
              "      <td>0.918176</td>\n",
              "      <td>0.954669</td>\n",
              "      <td>0.961775</td>\n",
              "    </tr>\n",
              "    <tr>\n",
              "      <th>24</th>\n",
              "      <td>24</td>\n",
              "      <td>These Foolish Things [jazz1350]</td>\n",
              "      <td>1168</td>\n",
              "      <td>Miss Otis Regrets [trad]</td>\n",
              "      <td>0.936418</td>\n",
              "      <td>0.974755</td>\n",
              "      <td>0.960671</td>\n",
              "    </tr>\n",
              "    <tr>\n",
              "      <th>25</th>\n",
              "      <td>25</td>\n",
              "      <td>These Foolish Things [jazz1350]</td>\n",
              "      <td>1168</td>\n",
              "      <td>Too Young To Go Steady [jazz1350]</td>\n",
              "      <td>0.916578</td>\n",
              "      <td>0.972306</td>\n",
              "      <td>0.960101</td>\n",
              "    </tr>\n",
              "    <tr>\n",
              "      <th>26</th>\n",
              "      <td>26</td>\n",
              "      <td>These Foolish Things [jazz1350]</td>\n",
              "      <td>1168</td>\n",
              "      <td>Beyond The Sea [jazz1350]</td>\n",
              "      <td>0.932874</td>\n",
              "      <td>0.974755</td>\n",
              "      <td>0.958333</td>\n",
              "    </tr>\n",
              "    <tr>\n",
              "      <th>27</th>\n",
              "      <td>27</td>\n",
              "      <td>These Foolish Things [jazz1350]</td>\n",
              "      <td>1168</td>\n",
              "      <td>You Keep Coming Back Like A Song [jazz1350]</td>\n",
              "      <td>0.933722</td>\n",
              "      <td>0.974755</td>\n",
              "      <td>0.957905</td>\n",
              "    </tr>\n",
              "    <tr>\n",
              "      <th>28</th>\n",
              "      <td>28</td>\n",
              "      <td>These Foolish Things [jazz1350]</td>\n",
              "      <td>1168</td>\n",
              "      <td>I'm Old Fashioned [jazz1350]</td>\n",
              "      <td>0.913908</td>\n",
              "      <td>0.954669</td>\n",
              "      <td>0.957304</td>\n",
              "    </tr>\n",
              "    <tr>\n",
              "      <th>29</th>\n",
              "      <td>29</td>\n",
              "      <td>These Foolish Things [jazz1350]</td>\n",
              "      <td>1168</td>\n",
              "      <td>For You, For Me, For Evermore [jazz1350]</td>\n",
              "      <td>0.932298</td>\n",
              "      <td>0.974755</td>\n",
              "      <td>0.956444</td>\n",
              "    </tr>\n",
              "  </tbody>\n",
              "</table>\n",
              "</div>"
            ],
            "text/plain": [
              "    index                        reference  ...       max score_div_max\n",
              "0       0  These Foolish Things [jazz1350]  ...  0.974755      1.000000\n",
              "1       1  These Foolish Things [jazz1350]  ...  0.916515      1.000000\n",
              "2       2  These Foolish Things [jazz1350]  ...  0.974755      1.000000\n",
              "3       3  These Foolish Things [jazz1350]  ...  0.974755      0.997175\n",
              "4       4  These Foolish Things [jazz1350]  ...  0.974755      0.986963\n",
              "5       5  These Foolish Things [jazz1350]  ...  0.974755      0.983539\n",
              "6       6  These Foolish Things [jazz1350]  ...  0.916515      0.977008\n",
              "7       7  These Foolish Things [jazz1350]  ...  0.916515      0.977008\n",
              "8       8  These Foolish Things [jazz1350]  ...  0.974755      0.975609\n",
              "9       9  These Foolish Things [jazz1350]  ...  0.974755      0.972222\n",
              "10     10  These Foolish Things [jazz1350]  ...  0.974755      0.971464\n",
              "11     11  These Foolish Things [jazz1350]  ...  0.974755      0.970287\n",
              "12     12  These Foolish Things [jazz1350]  ...  0.954669      0.970286\n",
              "13     13  These Foolish Things [jazz1350]  ...  0.954669      0.969782\n",
              "14     14  These Foolish Things [jazz1350]  ...  0.974755      0.968143\n",
              "15     15  These Foolish Things [jazz1350]  ...  0.974755      0.967291\n",
              "16     16  These Foolish Things [jazz1350]  ...  0.974755      0.966481\n",
              "17     17  These Foolish Things [jazz1350]  ...  0.974755      0.966024\n",
              "18     18  These Foolish Things [jazz1350]  ...  0.954669      0.964472\n",
              "19     19  These Foolish Things [jazz1350]  ...  0.974755      0.964457\n",
              "20     20  These Foolish Things [jazz1350]  ...  0.954669      0.962888\n",
              "21     21  These Foolish Things [jazz1350]  ...  0.974755      0.962888\n",
              "22     22  These Foolish Things [jazz1350]  ...  0.954669      0.962790\n",
              "23     23  These Foolish Things [jazz1350]  ...  0.954669      0.961775\n",
              "24     24  These Foolish Things [jazz1350]  ...  0.974755      0.960671\n",
              "25     25  These Foolish Things [jazz1350]  ...  0.972306      0.960101\n",
              "26     26  These Foolish Things [jazz1350]  ...  0.974755      0.958333\n",
              "27     27  These Foolish Things [jazz1350]  ...  0.974755      0.957905\n",
              "28     28  These Foolish Things [jazz1350]  ...  0.954669      0.957304\n",
              "29     29  These Foolish Things [jazz1350]  ...  0.974755      0.956444\n",
              "\n",
              "[30 rows x 7 columns]"
            ]
          },
          "metadata": {},
          "execution_count": 74
        }
      ]
    },
    {
      "cell_type": "code",
      "metadata": {
        "id": "15ZsHOQmyyah",
        "colab": {
          "base_uri": "https://localhost:8080/"
        },
        "outputId": "040d30a2-ea34-4195-b451-253071979d27"
      },
      "source": [
        "dd = pd.DataFrame(columns = recommender_results_cols)\n",
        "\n",
        "for tune in tunes_eval_list:\n",
        "  result, details = recommend_tune(df_sim, tune)\n",
        "  dd['id'] = result['index']\n",
        "  dd['reference'] = tune\n",
        "  dd['method'] = 'lsi'\n",
        "  dd['similar'] = result['similar_title']\n",
        "  dd['score_div_max'] = result['score_div_max']\n",
        "  dd['score'] = result['score']\n",
        "\n",
        "recommender_results = recommender_results.append(dd)"
      ],
      "execution_count": 75,
      "outputs": [
        {
          "output_type": "stream",
          "name": "stdout",
          "text": [
            "Index(['similar_title', 'score', 'max', 'score_div_max', 'reference',\n",
            "       'reference_titleid'],\n",
            "      dtype='object')\n",
            "Index(['similar_title', 'score', 'max', 'score_div_max', 'reference',\n",
            "       'reference_titleid'],\n",
            "      dtype='object')\n",
            "Index(['similar_title', 'score', 'max', 'score_div_max', 'reference',\n",
            "       'reference_titleid'],\n",
            "      dtype='object')\n",
            "Index(['similar_title', 'score', 'max', 'score_div_max', 'reference',\n",
            "       'reference_titleid'],\n",
            "      dtype='object')\n",
            "Index(['similar_title', 'score', 'max', 'score_div_max', 'reference',\n",
            "       'reference_titleid'],\n",
            "      dtype='object')\n",
            "Index(['similar_title', 'score', 'max', 'score_div_max', 'reference',\n",
            "       'reference_titleid'],\n",
            "      dtype='object')\n",
            "Index(['similar_title', 'score', 'max', 'score_div_max', 'reference',\n",
            "       'reference_titleid'],\n",
            "      dtype='object')\n",
            "Index(['similar_title', 'score', 'max', 'score_div_max', 'reference',\n",
            "       'reference_titleid'],\n",
            "      dtype='object')\n",
            "Index(['similar_title', 'score', 'max', 'score_div_max', 'reference',\n",
            "       'reference_titleid'],\n",
            "      dtype='object')\n",
            "Index(['similar_title', 'score', 'max', 'score_div_max', 'reference',\n",
            "       'reference_titleid'],\n",
            "      dtype='object')\n",
            "Index(['similar_title', 'score', 'max', 'score_div_max', 'reference',\n",
            "       'reference_titleid'],\n",
            "      dtype='object')\n",
            "Index(['similar_title', 'score', 'max', 'score_div_max', 'reference',\n",
            "       'reference_titleid'],\n",
            "      dtype='object')\n",
            "Index(['similar_title', 'score', 'max', 'score_div_max', 'reference',\n",
            "       'reference_titleid'],\n",
            "      dtype='object')\n",
            "Index(['similar_title', 'score', 'max', 'score_div_max', 'reference',\n",
            "       'reference_titleid'],\n",
            "      dtype='object')\n",
            "Index(['similar_title', 'score', 'max', 'score_div_max', 'reference',\n",
            "       'reference_titleid'],\n",
            "      dtype='object')\n",
            "Index(['similar_title', 'score', 'max', 'score_div_max', 'reference',\n",
            "       'reference_titleid'],\n",
            "      dtype='object')\n",
            "Index(['similar_title', 'score', 'max', 'score_div_max', 'reference',\n",
            "       'reference_titleid'],\n",
            "      dtype='object')\n",
            "Index(['similar_title', 'score', 'max', 'score_div_max', 'reference',\n",
            "       'reference_titleid'],\n",
            "      dtype='object')\n",
            "Index(['similar_title', 'score', 'max', 'score_div_max', 'reference',\n",
            "       'reference_titleid'],\n",
            "      dtype='object')\n",
            "Index(['similar_title', 'score', 'max', 'score_div_max', 'reference',\n",
            "       'reference_titleid'],\n",
            "      dtype='object')\n",
            "Index(['similar_title', 'score', 'max', 'score_div_max', 'reference',\n",
            "       'reference_titleid'],\n",
            "      dtype='object')\n",
            "Index(['similar_title', 'score', 'max', 'score_div_max', 'reference',\n",
            "       'reference_titleid'],\n",
            "      dtype='object')\n",
            "Index(['similar_title', 'score', 'max', 'score_div_max', 'reference',\n",
            "       'reference_titleid'],\n",
            "      dtype='object')\n",
            "Index(['similar_title', 'score', 'max', 'score_div_max', 'reference',\n",
            "       'reference_titleid'],\n",
            "      dtype='object')\n"
          ]
        }
      ]
    },
    {
      "cell_type": "markdown",
      "metadata": {
        "id": "Ojrjp11ni6Pl"
      },
      "source": [
        "### Tests for Contrafacts"
      ]
    },
    {
      "cell_type": "code",
      "metadata": {
        "colab": {
          "base_uri": "https://localhost:8080/"
        },
        "id": "D0_7m1qji6A-",
        "outputId": "23d415b2-a166-4a27-96f8-1c6b390d6103"
      },
      "source": [
        "topN = 15\n",
        "matches, results = test_contrafacts(contrafacts, index_lsi, lsi, topN)\n",
        "\n",
        "[print(f\"{val}: {rr}\") for rr, val in results.items()] \n",
        "print() \n",
        "print(f\"Found matches: {matches} out of {len(contrafacts)}: {100*matches/len(contrafacts):.3f}%\")"
      ],
      "execution_count": 76,
      "outputs": [
        {
          "output_type": "stream",
          "name": "stdout",
          "text": [
            "1: 26-2 [jazz1350]\n",
            "0: 52nd Street Theme [jazz1350]\n",
            "1: Ablution [jazz1350]\n",
            "1: Anthropology [jazz1350]\n",
            "0: Ballade [jazz1350]\n",
            "1: Bright Mississippi [jazz1350]\n",
            "1: C.T.A. [jazz1350]\n",
            "1: Cottontail [jazz1350]\n",
            "0: Countdown [jazz1350]\n",
            "0: Dewey Square [jazz1350]\n",
            "1: Dexterity [jazz1350]\n",
            "1: Dig [jazz1350]\n",
            "1: Donna Lee [jazz1350]\n",
            "0: Don't Be That Way [jazz1350]\n",
            "1: Evidence [jazz1350]\n",
            "1: Flintstones [jazz1350]\n",
            "1: Four On Six [jazz1350]\n",
            "1: Freight Train [jazz1350]\n",
            "0: Good Bait [jazz1350]\n",
            "0: Hackensack [jazz1350]\n",
            "1: Half Nelson [jazz1350]\n",
            "1: Hot House [jazz1350]\n",
            "1: Impressions [jazz1350]\n",
            "1: In A Mellow Tone (In A Mellotone) [jazz1350]\n",
            "1: In Walked Bud [jazz1350]\n",
            "1: Ko Ko [jazz1350]\n",
            "0: Lennie's Pennies [jazz1350]\n",
            "0: Little Rootie Tootie [jazz1350]\n",
            "0: Little Willie Leaps [jazz1350]\n",
            "0: Lullaby Of Birdland [jazz1350]\n",
            "0: My Little Suede Shoes [jazz1350]\n",
            "1: Ornithology [jazz1350]\n",
            "0: Quasimodo (Theme) [jazz1350]\n",
            "0: Room 608 [jazz1350]\n",
            "1: Satellite [jazz1350]\n",
            "1: Scrapple From The Apple [jazz1350]\n",
            "1: Tour De Force [jazz1350]\n",
            "0: Wow [jazz1350]\n",
            "1: Yardbird Suite [jazz1350]\n",
            "0: Sweet Sue, Just You [jazz1350]\n",
            "1: These Foolish Things [jazz1350]\n",
            "1: Misty [jazz1350]\n",
            "\n",
            "Found matches: 26 out of 42: 61.905%\n"
          ]
        }
      ]
    },
    {
      "cell_type": "code",
      "metadata": {
        "id": "RS7LsLASi5-f"
      },
      "source": [
        "model_name = 'lsi'\n",
        "if use_wandb:\n",
        "  wandb.log(\n",
        "      {model_name: {\n",
        "                'contrafacts': {\n",
        "                    'topN': topN,\n",
        "                    'success': matches/len(contrafacts),\n",
        "                    #'results': results\n",
        "                    }\n",
        "                   },\n",
        "       'all_models': {\n",
        "           model_name: wandb.Table(\n",
        "               columns=[\"Title\", \"Match\"],\n",
        "               data=[[key, value] for key, value in results.items()]),\n",
        "       }\n",
        "       })"
      ],
      "execution_count": 77,
      "outputs": []
    },
    {
      "cell_type": "markdown",
      "metadata": {
        "id": "AjZArSmyooWt"
      },
      "source": [
        "### Get Recommender Data for WebApp"
      ]
    },
    {
      "cell_type": "code",
      "metadata": {
        "colab": {
          "base_uri": "https://localhost:8080/"
        },
        "id": "JOBtj15donxK",
        "outputId": "8ad24f5d-9b18-4240-8908-c002eadb6a4d"
      },
      "source": [
        "%%time\n",
        "tunes = tunes_eval_list\n",
        "\n",
        "df_sim = get_sim_scores(tunes, index=index_lsi, model=lsi)\n",
        "\n",
        "result = None\n",
        "for tune in tunes:\n",
        "  tune_result, details = recommend_tune(df_sim, tune)\n",
        "  if result is None:\n",
        "    result = pd.DataFrame(columns=tune_result.columns)\n",
        "  result = result.append(tune_result)"
      ],
      "execution_count": 78,
      "outputs": [
        {
          "output_type": "stream",
          "name": "stdout",
          "text": [
            "\n",
            "--------------------------------------------------\n",
            "125 After You've Gone, section1 (A)\n",
            "126 After You've Gone, section2 (B)\n",
            "127 After You've Gone, section3 (A)\n",
            "128 After You've Gone, section4 (C)\n",
            "\n",
            "--------------------------------------------------\n",
            "188 All God's Chillun Got Rhythm, section1 (A)\n",
            "189 All God's Chillun Got Rhythm, section2 (B)\n",
            "190 All God's Chillun Got Rhythm, section3 (A)\n",
            "191 All God's Chillun Got Rhythm, section4 (C)\n",
            "\n",
            "--------------------------------------------------\n",
            "198 All Of Me, section1 (A)\n",
            "199 All Of Me, section2 (B)\n",
            "200 All Of Me, section3 (A)\n",
            "201 All Of Me, section4 (C)\n",
            "\n",
            "--------------------------------------------------\n",
            "474 Blood Count, section1 (A)\n",
            "475 Blood Count, section2 (A)\n",
            "476 Blood Count, section3 (B)\n",
            "477 Blood Count, section4 (A)\n",
            "478 Blood Count, section5 (C)\n",
            "\n",
            "--------------------------------------------------\n",
            "496 Blue Moon, section1 (A)\n",
            "497 Blue Moon, section2 (A)\n",
            "498 Blue Moon, section3 (B)\n",
            "499 Blue Moon, section4 (A)\n",
            "\n",
            "--------------------------------------------------\n",
            "626 But Beautiful, section1 (A)\n",
            "627 But Beautiful, section2 (B)\n",
            "628 But Beautiful, section3 (A)\n",
            "629 But Beautiful, section4 (C)\n",
            "\n",
            "--------------------------------------------------\n",
            "653 Bye Bye Blackbird, section1 (A)\n",
            "654 Bye Bye Blackbird, section2 (B)\n",
            "\n",
            "--------------------------------------------------\n",
            "676 Call Me Irresponsible, section1 (A)\n",
            "677 Call Me Irresponsible, section2 (B)\n",
            "678 Call Me Irresponsible, section3 (A)\n",
            "679 Call Me Irresponsible, section4 (B)\n",
            "\n",
            "--------------------------------------------------\n",
            "826 Corcovado, section1 (A)\n",
            "827 Corcovado, section2 (B)\n",
            "828 Corcovado, section3 (A)\n",
            "829 Corcovado, section4 (C)\n",
            "\n",
            "--------------------------------------------------\n",
            "997 Dinah, section1 (A)\n",
            "998 Dinah, section2 (A)\n",
            "999 Dinah, section3 (B)\n",
            "1000 Dinah, section4 (A)\n",
            "\n",
            "--------------------------------------------------\n",
            "1125 East Of The Sun, section1 (A)\n",
            "1126 East Of The Sun, section2 (B)\n",
            "1127 East Of The Sun, section3 (A)\n",
            "1128 East Of The Sun, section4 (C)\n",
            "\n",
            "--------------------------------------------------\n",
            "1287 Footprints, section0 (nan)\n",
            "\n",
            "--------------------------------------------------\n",
            "1379 Giant Steps, section0 (nan)\n",
            "\n",
            "--------------------------------------------------\n",
            "1538 Honeysuckle Rose, section1 (A)\n",
            "1539 Honeysuckle Rose, section2 (A)\n",
            "1540 Honeysuckle Rose, section3 (B)\n",
            "1541 Honeysuckle Rose, section4 (A)\n",
            "\n",
            "--------------------------------------------------\n",
            "1647 I Got Rhythm, section1 (A)\n",
            "1648 I Got Rhythm, section2 (A)\n",
            "1649 I Got Rhythm, section3 (B)\n",
            "1650 I Got Rhythm, section4 (A)\n",
            "\n",
            "--------------------------------------------------\n",
            "2670 Misty, section1 (A)\n",
            "2671 Misty, section2 (A)\n",
            "2672 Misty, section3 (B)\n",
            "2673 Misty, section4 (A)\n",
            "\n",
            "--------------------------------------------------\n",
            "2857 Naima, section1 (A)\n",
            "2858 Naima, section2 (A)\n",
            "2859 Naima, section3 (B)\n",
            "2860 Naima, section4 (A)\n",
            "\n",
            "--------------------------------------------------\n",
            "5044 Old Fashioned Love, section0 (nan)\n",
            "\n",
            "--------------------------------------------------\n",
            "3142 Perdido, section1 (A)\n",
            "3143 Perdido, section2 (A)\n",
            "3144 Perdido, section3 (B)\n",
            "3145 Perdido, section4 (A)\n",
            "\n",
            "--------------------------------------------------\n",
            "3276 Rockin' Chair, section1 (A)\n",
            "3277 Rockin' Chair, section2 (B)\n",
            "3278 Rockin' Chair, section3 (A)\n",
            "\n",
            "--------------------------------------------------\n",
            "3578 Sophisticated Lady, section1 (A)\n",
            "3579 Sophisticated Lady, section2 (A)\n",
            "3580 Sophisticated Lady, section3 (B)\n",
            "3581 Sophisticated Lady, section4 (A)\n",
            "\n",
            "--------------------------------------------------\n",
            "3746 Sweet Sue, Just You, section1 (A)\n",
            "3747 Sweet Sue, Just You, section2 (A)\n",
            "3748 Sweet Sue, Just You, section3 (B)\n",
            "3749 Sweet Sue, Just You, section4 (A)\n",
            "\n",
            "--------------------------------------------------\n",
            "3860 These Foolish Things, section1 (A)\n",
            "3861 These Foolish Things, section2 (A)\n",
            "3862 These Foolish Things, section3 (B)\n",
            "3863 These Foolish Things, section4 (A)\n",
            "\n",
            "--------------------------------------------------\n",
            "4146 We'll Be Together Again, section1 (A)\n",
            "4147 We'll Be Together Again, section2 (A)\n",
            "4148 We'll Be Together Again, section3 (B)\n",
            "4149 We'll Be Together Again, section4 (A)\n",
            "Index(['similar_title', 'score', 'max', 'score_div_max', 'reference',\n",
            "       'reference_titleid'],\n",
            "      dtype='object')\n",
            "Index(['similar_title', 'score', 'max', 'score_div_max', 'reference',\n",
            "       'reference_titleid'],\n",
            "      dtype='object')\n",
            "Index(['similar_title', 'score', 'max', 'score_div_max', 'reference',\n",
            "       'reference_titleid'],\n",
            "      dtype='object')\n",
            "Index(['similar_title', 'score', 'max', 'score_div_max', 'reference',\n",
            "       'reference_titleid'],\n",
            "      dtype='object')\n",
            "Index(['similar_title', 'score', 'max', 'score_div_max', 'reference',\n",
            "       'reference_titleid'],\n",
            "      dtype='object')\n",
            "Index(['similar_title', 'score', 'max', 'score_div_max', 'reference',\n",
            "       'reference_titleid'],\n",
            "      dtype='object')\n",
            "Index(['similar_title', 'score', 'max', 'score_div_max', 'reference',\n",
            "       'reference_titleid'],\n",
            "      dtype='object')\n",
            "Index(['similar_title', 'score', 'max', 'score_div_max', 'reference',\n",
            "       'reference_titleid'],\n",
            "      dtype='object')\n",
            "Index(['similar_title', 'score', 'max', 'score_div_max', 'reference',\n",
            "       'reference_titleid'],\n",
            "      dtype='object')\n",
            "Index(['similar_title', 'score', 'max', 'score_div_max', 'reference',\n",
            "       'reference_titleid'],\n",
            "      dtype='object')\n",
            "Index(['similar_title', 'score', 'max', 'score_div_max', 'reference',\n",
            "       'reference_titleid'],\n",
            "      dtype='object')\n",
            "Index(['similar_title', 'score', 'max', 'score_div_max', 'reference',\n",
            "       'reference_titleid'],\n",
            "      dtype='object')\n",
            "Index(['similar_title', 'score', 'max', 'score_div_max', 'reference',\n",
            "       'reference_titleid'],\n",
            "      dtype='object')\n",
            "Index(['similar_title', 'score', 'max', 'score_div_max', 'reference',\n",
            "       'reference_titleid'],\n",
            "      dtype='object')\n",
            "Index(['similar_title', 'score', 'max', 'score_div_max', 'reference',\n",
            "       'reference_titleid'],\n",
            "      dtype='object')\n",
            "Index(['similar_title', 'score', 'max', 'score_div_max', 'reference',\n",
            "       'reference_titleid'],\n",
            "      dtype='object')\n",
            "Index(['similar_title', 'score', 'max', 'score_div_max', 'reference',\n",
            "       'reference_titleid'],\n",
            "      dtype='object')\n",
            "Index(['similar_title', 'score', 'max', 'score_div_max', 'reference',\n",
            "       'reference_titleid'],\n",
            "      dtype='object')\n",
            "Index(['similar_title', 'score', 'max', 'score_div_max', 'reference',\n",
            "       'reference_titleid'],\n",
            "      dtype='object')\n",
            "Index(['similar_title', 'score', 'max', 'score_div_max', 'reference',\n",
            "       'reference_titleid'],\n",
            "      dtype='object')\n",
            "Index(['similar_title', 'score', 'max', 'score_div_max', 'reference',\n",
            "       'reference_titleid'],\n",
            "      dtype='object')\n",
            "Index(['similar_title', 'score', 'max', 'score_div_max', 'reference',\n",
            "       'reference_titleid'],\n",
            "      dtype='object')\n",
            "Index(['similar_title', 'score', 'max', 'score_div_max', 'reference',\n",
            "       'reference_titleid'],\n",
            "      dtype='object')\n",
            "Index(['similar_title', 'score', 'max', 'score_div_max', 'reference',\n",
            "       'reference_titleid'],\n",
            "      dtype='object')\n",
            "CPU times: user 25.1 s, sys: 8.93 s, total: 34.1 s\n",
            "Wall time: 24.6 s\n"
          ]
        }
      ]
    },
    {
      "cell_type": "code",
      "metadata": {
        "colab": {
          "base_uri": "https://localhost:8080/",
          "height": 424
        },
        "id": "30sRNh3cpbz7",
        "outputId": "1a3ba607-31e5-4ec9-ccfa-52a109a8905a"
      },
      "source": [
        "result"
      ],
      "execution_count": 79,
      "outputs": [
        {
          "output_type": "execute_result",
          "data": {
            "text/html": [
              "<div>\n",
              "<style scoped>\n",
              "    .dataframe tbody tr th:only-of-type {\n",
              "        vertical-align: middle;\n",
              "    }\n",
              "\n",
              "    .dataframe tbody tr th {\n",
              "        vertical-align: top;\n",
              "    }\n",
              "\n",
              "    .dataframe thead th {\n",
              "        text-align: right;\n",
              "    }\n",
              "</style>\n",
              "<table border=\"1\" class=\"dataframe\">\n",
              "  <thead>\n",
              "    <tr style=\"text-align: right;\">\n",
              "      <th></th>\n",
              "      <th>index</th>\n",
              "      <th>reference</th>\n",
              "      <th>reference_titleid</th>\n",
              "      <th>similar_title</th>\n",
              "      <th>score</th>\n",
              "      <th>max</th>\n",
              "      <th>score_div_max</th>\n",
              "    </tr>\n",
              "  </thead>\n",
              "  <tbody>\n",
              "    <tr>\n",
              "      <th>0</th>\n",
              "      <td>0</td>\n",
              "      <td>After You've Gone [jazz1350]</td>\n",
              "      <td>38</td>\n",
              "      <td>Don't Sweetheart Me [trad]</td>\n",
              "      <td>0.944911</td>\n",
              "      <td>0.944911</td>\n",
              "      <td>1.000000</td>\n",
              "    </tr>\n",
              "    <tr>\n",
              "      <th>1</th>\n",
              "      <td>1</td>\n",
              "      <td>After You've Gone [jazz1350]</td>\n",
              "      <td>38</td>\n",
              "      <td>True (You Don't Love Me ) [trad]</td>\n",
              "      <td>0.944911</td>\n",
              "      <td>0.944911</td>\n",
              "      <td>1.000000</td>\n",
              "    </tr>\n",
              "    <tr>\n",
              "      <th>2</th>\n",
              "      <td>2</td>\n",
              "      <td>After You've Gone [jazz1350]</td>\n",
              "      <td>38</td>\n",
              "      <td>In The Middle Of A Kiss [jazz1350]</td>\n",
              "      <td>0.887244</td>\n",
              "      <td>0.887244</td>\n",
              "      <td>1.000000</td>\n",
              "    </tr>\n",
              "    <tr>\n",
              "      <th>3</th>\n",
              "      <td>3</td>\n",
              "      <td>After You've Gone [jazz1350]</td>\n",
              "      <td>38</td>\n",
              "      <td>Exactly Like You [jazz1350]</td>\n",
              "      <td>0.944911</td>\n",
              "      <td>0.944911</td>\n",
              "      <td>1.000000</td>\n",
              "    </tr>\n",
              "    <tr>\n",
              "      <th>4</th>\n",
              "      <td>4</td>\n",
              "      <td>After You've Gone [jazz1350]</td>\n",
              "      <td>38</td>\n",
              "      <td>It's Impossible [jazz1350]</td>\n",
              "      <td>0.909658</td>\n",
              "      <td>0.909658</td>\n",
              "      <td>1.000000</td>\n",
              "    </tr>\n",
              "    <tr>\n",
              "      <th>...</th>\n",
              "      <td>...</td>\n",
              "      <td>...</td>\n",
              "      <td>...</td>\n",
              "      <td>...</td>\n",
              "      <td>...</td>\n",
              "      <td>...</td>\n",
              "      <td>...</td>\n",
              "    </tr>\n",
              "    <tr>\n",
              "      <th>51</th>\n",
              "      <td>51</td>\n",
              "      <td>We'll Be Together Again [jazz1350]</td>\n",
              "      <td>1257</td>\n",
              "      <td>Turn Out The Stars [jazz1350]</td>\n",
              "      <td>0.687746</td>\n",
              "      <td>0.922972</td>\n",
              "      <td>0.745143</td>\n",
              "    </tr>\n",
              "    <tr>\n",
              "      <th>52</th>\n",
              "      <td>52</td>\n",
              "      <td>We'll Be Together Again [jazz1350]</td>\n",
              "      <td>1257</td>\n",
              "      <td>What Is This Thing Called Love [jazz1350]</td>\n",
              "      <td>0.680545</td>\n",
              "      <td>0.922972</td>\n",
              "      <td>0.737341</td>\n",
              "    </tr>\n",
              "    <tr>\n",
              "      <th>53</th>\n",
              "      <td>53</td>\n",
              "      <td>We'll Be Together Again [jazz1350]</td>\n",
              "      <td>1257</td>\n",
              "      <td>Bill Bailey [jazz1350]</td>\n",
              "      <td>0.679644</td>\n",
              "      <td>0.922972</td>\n",
              "      <td>0.736364</td>\n",
              "    </tr>\n",
              "    <tr>\n",
              "      <th>54</th>\n",
              "      <td>54</td>\n",
              "      <td>We'll Be Together Again [jazz1350]</td>\n",
              "      <td>1257</td>\n",
              "      <td>Speak Low [jazz1350]</td>\n",
              "      <td>0.669534</td>\n",
              "      <td>0.922972</td>\n",
              "      <td>0.725411</td>\n",
              "    </tr>\n",
              "    <tr>\n",
              "      <th>55</th>\n",
              "      <td>55</td>\n",
              "      <td>We'll Be Together Again [jazz1350]</td>\n",
              "      <td>1257</td>\n",
              "      <td>Poinciana [jazz1350]</td>\n",
              "      <td>0.657794</td>\n",
              "      <td>0.922972</td>\n",
              "      <td>0.712691</td>\n",
              "    </tr>\n",
              "  </tbody>\n",
              "</table>\n",
              "<p>1406 rows × 7 columns</p>\n",
              "</div>"
            ],
            "text/plain": [
              "   index                           reference  ...       max score_div_max\n",
              "0      0        After You've Gone [jazz1350]  ...  0.944911      1.000000\n",
              "1      1        After You've Gone [jazz1350]  ...  0.944911      1.000000\n",
              "2      2        After You've Gone [jazz1350]  ...  0.887244      1.000000\n",
              "3      3        After You've Gone [jazz1350]  ...  0.944911      1.000000\n",
              "4      4        After You've Gone [jazz1350]  ...  0.909658      1.000000\n",
              "..   ...                                 ...  ...       ...           ...\n",
              "51    51  We'll Be Together Again [jazz1350]  ...  0.922972      0.745143\n",
              "52    52  We'll Be Together Again [jazz1350]  ...  0.922972      0.737341\n",
              "53    53  We'll Be Together Again [jazz1350]  ...  0.922972      0.736364\n",
              "54    54  We'll Be Together Again [jazz1350]  ...  0.922972      0.725411\n",
              "55    55  We'll Be Together Again [jazz1350]  ...  0.922972      0.712691\n",
              "\n",
              "[1406 rows x 7 columns]"
            ]
          },
          "metadata": {},
          "execution_count": 79
        }
      ]
    },
    {
      "cell_type": "code",
      "metadata": {
        "id": "ecdMqrtJpLOY"
      },
      "source": [
        "result.to_csv('output/recommender_lsi.csv', sep='\\t', encoding='utf8')\n",
        "\n",
        "if use_wandb:\n",
        "  model_artifact = wandb.Artifact(\n",
        "      \"recommender_lsi\", \n",
        "      type=\"csv\",\n",
        "      description=\"Recommendations for each Tune using LSI Model (csv file)\",\n",
        "      metadata=\"\")\n",
        "\n",
        "  model_artifact.add_file(\"'output/recommender_lsi.csv'\")\n",
        "  wandb.log_artifact(model_artifact)"
      ],
      "execution_count": 80,
      "outputs": []
    },
    {
      "cell_type": "markdown",
      "metadata": {
        "id": "lTQKfd0xQQ65"
      },
      "source": [
        "## Store Model to W&B"
      ]
    },
    {
      "cell_type": "code",
      "metadata": {
        "id": "RfAYF7ArQUXo"
      },
      "source": [
        "if use_wandb:\n",
        "  model_artifact = wandb.Artifact(\n",
        "      \"model_lsi\", \n",
        "      type=\"model\",\n",
        "      description=\"LSI model\",\n",
        "      metadata=\"\")\n",
        "\n",
        "  model_artifact.add_file(\"/content/index/lsi.model\")\n",
        "  model_artifact.add_file(\"/content/index/lsi_matrixsim.index\")\n",
        "  model_artifact.add_file(\"/content/index/lsi.model.projection\")\n",
        "  wandb.log_artifact(model_artifact)"
      ],
      "execution_count": 81,
      "outputs": []
    },
    {
      "cell_type": "markdown",
      "metadata": {
        "id": "asScIocQRMPA"
      },
      "source": [
        "## Determine Number of Topics for LSI Model\n",
        "\n",
        "This sample comes from Datacamp: \n",
        "\n",
        "https://www.datacamp.com/community/tutorials/discovering-hidden-topics-python\n"
      ]
    },
    {
      "cell_type": "markdown",
      "metadata": {
        "id": "1TPNWFEPSxZ-"
      },
      "source": [
        "What is the best way to determine k (number of topics) in topic modeling? Identify the optimum number of topics in the given corpus text is a challenging task. We can use the following options for determining the optimum number of topics:\n",
        "\n",
        "* One way to determine the optimum number of topics is to consider each topic as a cluster and find out the effectiveness of a cluster using the Silhouette coefficient.\n",
        "* Topic coherence measure is a realistic measure for identifying the number of topics.\n",
        "\n",
        "Topic Coherence measure is a widely used metric to evaluate topic models. It uses the latent variable models. Each generated topic has a list of words. In topic coherence measure, you will find average/median of pairwise word similarity scores of the words in a topic. The high value of topic coherence score model will be considered as a good topic model. "
      ]
    },
    {
      "cell_type": "code",
      "metadata": {
        "id": "umpCyQQzRLgv"
      },
      "source": [
        "def prepare_corpus(doc_clean):\n",
        "    \"\"\"\n",
        "    Input  : clean document\n",
        "    Purpose: create term dictionary of our courpus and Converting list of documents (corpus) into Document Term Matrix\n",
        "    Output : term dictionary and Document Term Matrix\n",
        "    \"\"\"\n",
        "    # Creating the term dictionary of our courpus, where every unique term is assigned an index. dictionary = corpora.Dictionary(doc_clean)\n",
        "    dictionary = corpora.Dictionary(doc_clean)\n",
        "    # Converting list of documents (corpus) into Document Term Matrix using dictionary prepared above.\n",
        "    doc_term_matrix = [dictionary.doc2bow(doc) for doc in doc_clean]\n",
        "    # generate LDA model\n",
        "    return dictionary, doc_term_matrix"
      ],
      "execution_count": 82,
      "outputs": []
    },
    {
      "cell_type": "code",
      "metadata": {
        "id": "aS2wxIEERcul"
      },
      "source": [
        "def compute_coherence_values(dictionary, doc_term_matrix, doc_clean, stop, start=2, step=3):\n",
        "    \"\"\"\n",
        "    Input   : dictionary : Gensim dictionary\n",
        "              corpus : Gensim corpus\n",
        "              texts : List of input texts\n",
        "              stop : Max num of topics\n",
        "    purpose : Compute c_v coherence for various number of topics\n",
        "    Output  : model_list : List of LSA topic models\n",
        "              coherence_values : Coherence values corresponding to the LDA model with respective number of topics\n",
        "    \"\"\"\n",
        "    coherence_values = []\n",
        "    model_list = []\n",
        "    for num_topics in range(start, stop, step):\n",
        "        # generate LSA model\n",
        "        model = LsiModel(doc_term_matrix, num_topics=num_topics, id2word = dictionary)  # train model\n",
        "        model_list.append(model)\n",
        "        coherencemodel = CoherenceModel(model=model, texts=doc_clean, dictionary=dictionary, coherence='c_v')\n",
        "        coherence_values.append(coherencemodel.get_coherence())\n",
        "    return model_list, coherence_values"
      ],
      "execution_count": 83,
      "outputs": []
    },
    {
      "cell_type": "code",
      "metadata": {
        "id": "DjyzAzWBRfrH"
      },
      "source": [
        "def plot_graph(doc_clean,start, stop, step):\n",
        "    dictionary, doc_term_matrix = prepare_corpus(doc_clean)\n",
        "    model_list, coherence_values = compute_coherence_values(dictionary, doc_term_matrix,doc_clean,\n",
        "                                                            stop, start, step)\n",
        "    # Show graph\n",
        "    x = range(start, stop, step)\n",
        "    plt.plot(x, coherence_values)\n",
        "    plt.xlabel(\"Number of Topics\")\n",
        "    plt.ylabel(\"Coherence score\")\n",
        "    plt.legend((\"coherence_values\"), loc='best')\n",
        "    plt.show()"
      ],
      "execution_count": 84,
      "outputs": []
    },
    {
      "cell_type": "code",
      "metadata": {
        "id": "qy9ZjdcmRhxs"
      },
      "source": [
        "# evaluate a good number of topics for the LSI Model. This takes some time.\n",
        "\n",
        "if False:\n",
        "\n",
        "  start, stop, step = 1, 500, 10\n",
        "  plot_graph(data, start, stop, step)"
      ],
      "execution_count": 85,
      "outputs": []
    },
    {
      "cell_type": "markdown",
      "metadata": {
        "id": "Qo5NgBHFlqgg"
      },
      "source": [
        "For unigrams, the best number of topics seems to be around 20.\n",
        "\n",
        "For unigrams plus bigrams, the coherence score drops down until 100 and then continuously rises until 500 and continues to rise. Same for bigrams-only."
      ]
    },
    {
      "cell_type": "markdown",
      "metadata": {
        "id": "rF_INicGhXKd"
      },
      "source": [
        "# Doc2Vec"
      ]
    },
    {
      "cell_type": "code",
      "metadata": {
        "id": "wflSccBshkIk"
      },
      "source": [
        "def get_tagged_documents(corpus, tags=None):\n",
        "  if tags == 'SectionsTunes':\n",
        "    print('Tagging input data with both section and tune information.')\n",
        "  else:\n",
        "    print('Tagging input data with section informaiton only.')\n",
        "    \n",
        "  for i, tokens in enumerate(corpus):\n",
        "    if tags == 'SectionsTunes':\n",
        "      yield gensim.models.doc2vec.TaggedDocument(tokens, [i, f'titleid_{sectionid_to_titleid[i]}'])\n",
        "    else:\n",
        "      yield gensim.models.doc2vec.TaggedDocument(tokens, [i])  # diatonic chord distance is a bit better"
      ],
      "execution_count": 86,
      "outputs": []
    },
    {
      "cell_type": "code",
      "metadata": {
        "colab": {
          "base_uri": "https://localhost:8080/"
        },
        "id": "_u0RdBI1kYD9",
        "outputId": "70bac8d3-8337-4dab-daa0-a667fe675d2b"
      },
      "source": [
        "train_corpus = list(get_tagged_documents(processed_corpus, doc2vec_config['general']['document_tags']))\n",
        "train_corpus[1000]"
      ],
      "execution_count": 87,
      "outputs": [
        {
          "output_type": "stream",
          "name": "stdout",
          "text": [
            "Tagging input data with both section and tune information.\n"
          ]
        },
        {
          "output_type": "execute_result",
          "data": {
            "text/plain": [
              "TaggedDocument(words=['C', 'Am', 'Dm', 'G7', 'C', 'F', 'C', 'Am', 'Dm', 'G7', 'C', 'Dm', 'G7'], tags=[1000, 'titleid_308'])"
            ]
          },
          "metadata": {},
          "execution_count": 87
        }
      ]
    },
    {
      "cell_type": "code",
      "metadata": {
        "colab": {
          "base_uri": "https://localhost:8080/"
        },
        "id": "M9adPoy9reaw",
        "outputId": "fbe7ab67-c84c-45f0-c131-f2c9ac45b540"
      },
      "source": [
        "import multiprocessing\n",
        "\n",
        "print(f\"CPU Count: {multiprocessing.cpu_count()}\")\n",
        "print(f\"Config:\")\n",
        "print(doc2vec_config['model'])\n",
        "\n",
        "model = Doc2Vec(train_corpus,\n",
        "                **doc2vec_config['model']\n",
        "                )"
      ],
      "execution_count": 88,
      "outputs": [
        {
          "output_type": "stream",
          "name": "stderr",
          "text": [
            "2021-11-26 20:17:00,031 : INFO : collecting all words and their counts\n",
            "2021-11-26 20:17:00,035 : INFO : PROGRESS: at example #0, processed 0 words (0/s), 0 word types, 0 tags\n",
            "2021-11-26 20:17:00,085 : INFO : collected 72 word types and 7200 unique tags from a corpus of 5391 examples and 82622 words\n",
            "2021-11-26 20:17:00,087 : INFO : Creating a fresh vocabulary\n",
            "2021-11-26 20:17:00,092 : INFO : Doc2Vec lifecycle event {'msg': 'effective_min_count=1 retains 72 unique words (100.0%% of original 72, drops 0)', 'datetime': '2021-11-26T20:17:00.092203', 'gensim': '4.1.2', 'python': '3.7.12 (default, Sep 10 2021, 00:21:48) \\n[GCC 7.5.0]', 'platform': 'Linux-5.4.104+-x86_64-with-Ubuntu-18.04-bionic', 'event': 'prepare_vocab'}\n",
            "2021-11-26 20:17:00,094 : INFO : Doc2Vec lifecycle event {'msg': 'effective_min_count=1 leaves 82622 word corpus (100.0%% of original 82622, drops 0)', 'datetime': '2021-11-26T20:17:00.094080', 'gensim': '4.1.2', 'python': '3.7.12 (default, Sep 10 2021, 00:21:48) \\n[GCC 7.5.0]', 'platform': 'Linux-5.4.104+-x86_64-with-Ubuntu-18.04-bionic', 'event': 'prepare_vocab'}\n",
            "2021-11-26 20:17:00,102 : INFO : deleting the raw counts dictionary of 72 items\n",
            "2021-11-26 20:17:00,104 : INFO : sample=0.001 downsamples 40 most-common words\n",
            "2021-11-26 20:17:00,108 : INFO : Doc2Vec lifecycle event {'msg': 'downsampling leaves estimated 18531.453689281494 word corpus (22.4%% of prior 82622)', 'datetime': '2021-11-26T20:17:00.107996', 'gensim': '4.1.2', 'python': '3.7.12 (default, Sep 10 2021, 00:21:48) \\n[GCC 7.5.0]', 'platform': 'Linux-5.4.104+-x86_64-with-Ubuntu-18.04-bionic', 'event': 'prepare_vocab'}\n",
            "2021-11-26 20:17:00,112 : INFO : estimated required memory for 72 words and 100 dimensions: 4413600 bytes\n",
            "2021-11-26 20:17:00,114 : INFO : resetting layer weights\n",
            "2021-11-26 20:17:00,124 : INFO : Doc2Vec lifecycle event {'msg': 'training model with 3 workers on 72 vocabulary and 100 features, using sg=0 hs=0 sample=0.001 negative=10 window=4 shrink_windows=True', 'datetime': '2021-11-26T20:17:00.124751', 'gensim': '4.1.2', 'python': '3.7.12 (default, Sep 10 2021, 00:21:48) \\n[GCC 7.5.0]', 'platform': 'Linux-5.4.104+-x86_64-with-Ubuntu-18.04-bionic', 'event': 'train'}\n"
          ]
        },
        {
          "output_type": "stream",
          "name": "stdout",
          "text": [
            "CPU Count: 2\n",
            "Config:\n",
            "{'dm': 1, 'vector_size': 100, 'window': 4, 'epochs': 40, 'min_count': 1, 'negative': 10, 'sample': 0.001, 'seed': 42}\n"
          ]
        },
        {
          "output_type": "stream",
          "name": "stderr",
          "text": [
            "2021-11-26 20:17:00,841 : INFO : worker thread finished; awaiting finish of 2 more threads\n",
            "2021-11-26 20:17:00,852 : INFO : worker thread finished; awaiting finish of 1 more threads\n",
            "2021-11-26 20:17:00,881 : INFO : worker thread finished; awaiting finish of 0 more threads\n",
            "2021-11-26 20:17:00,882 : INFO : EPOCH - 1 : training on 82622 raw words (29520 effective words) took 0.7s, 40099 effective words/s\n",
            "2021-11-26 20:17:01,625 : INFO : worker thread finished; awaiting finish of 2 more threads\n",
            "2021-11-26 20:17:01,682 : INFO : worker thread finished; awaiting finish of 1 more threads\n",
            "2021-11-26 20:17:01,690 : INFO : worker thread finished; awaiting finish of 0 more threads\n",
            "2021-11-26 20:17:01,692 : INFO : EPOCH - 2 : training on 82622 raw words (29364 effective words) took 0.8s, 37004 effective words/s\n",
            "2021-11-26 20:17:02,397 : INFO : worker thread finished; awaiting finish of 2 more threads\n",
            "2021-11-26 20:17:02,445 : INFO : worker thread finished; awaiting finish of 1 more threads\n",
            "2021-11-26 20:17:02,453 : INFO : worker thread finished; awaiting finish of 0 more threads\n",
            "2021-11-26 20:17:02,455 : INFO : EPOCH - 3 : training on 82622 raw words (29212 effective words) took 0.7s, 39007 effective words/s\n",
            "2021-11-26 20:17:03,158 : INFO : worker thread finished; awaiting finish of 2 more threads\n",
            "2021-11-26 20:17:03,229 : INFO : worker thread finished; awaiting finish of 1 more threads\n",
            "2021-11-26 20:17:03,231 : INFO : worker thread finished; awaiting finish of 0 more threads\n",
            "2021-11-26 20:17:03,233 : INFO : EPOCH - 4 : training on 82622 raw words (29219 effective words) took 0.8s, 38233 effective words/s\n",
            "2021-11-26 20:17:04,007 : INFO : worker thread finished; awaiting finish of 2 more threads\n",
            "2021-11-26 20:17:04,080 : INFO : worker thread finished; awaiting finish of 1 more threads\n",
            "2021-11-26 20:17:04,088 : INFO : worker thread finished; awaiting finish of 0 more threads\n",
            "2021-11-26 20:17:04,093 : INFO : EPOCH - 5 : training on 82622 raw words (29451 effective words) took 0.8s, 35028 effective words/s\n",
            "2021-11-26 20:17:04,751 : INFO : worker thread finished; awaiting finish of 2 more threads\n",
            "2021-11-26 20:17:04,818 : INFO : worker thread finished; awaiting finish of 1 more threads\n",
            "2021-11-26 20:17:04,829 : INFO : worker thread finished; awaiting finish of 0 more threads\n",
            "2021-11-26 20:17:04,831 : INFO : EPOCH - 6 : training on 82622 raw words (29228 effective words) took 0.7s, 40637 effective words/s\n",
            "2021-11-26 20:17:05,542 : INFO : worker thread finished; awaiting finish of 2 more threads\n",
            "2021-11-26 20:17:05,595 : INFO : worker thread finished; awaiting finish of 1 more threads\n",
            "2021-11-26 20:17:05,602 : INFO : worker thread finished; awaiting finish of 0 more threads\n",
            "2021-11-26 20:17:05,604 : INFO : EPOCH - 7 : training on 82622 raw words (29504 effective words) took 0.8s, 38820 effective words/s\n",
            "2021-11-26 20:17:06,304 : INFO : worker thread finished; awaiting finish of 2 more threads\n",
            "2021-11-26 20:17:06,375 : INFO : worker thread finished; awaiting finish of 1 more threads\n",
            "2021-11-26 20:17:06,389 : INFO : worker thread finished; awaiting finish of 0 more threads\n",
            "2021-11-26 20:17:06,391 : INFO : EPOCH - 8 : training on 82622 raw words (29214 effective words) took 0.8s, 37775 effective words/s\n",
            "2021-11-26 20:17:07,135 : INFO : worker thread finished; awaiting finish of 2 more threads\n",
            "2021-11-26 20:17:07,174 : INFO : worker thread finished; awaiting finish of 1 more threads\n",
            "2021-11-26 20:17:07,193 : INFO : worker thread finished; awaiting finish of 0 more threads\n",
            "2021-11-26 20:17:07,194 : INFO : EPOCH - 9 : training on 82622 raw words (29415 effective words) took 0.8s, 37278 effective words/s\n",
            "2021-11-26 20:17:08,009 : INFO : worker thread finished; awaiting finish of 2 more threads\n",
            "2021-11-26 20:17:08,107 : INFO : worker thread finished; awaiting finish of 1 more threads\n",
            "2021-11-26 20:17:08,117 : INFO : worker thread finished; awaiting finish of 0 more threads\n",
            "2021-11-26 20:17:08,124 : INFO : EPOCH - 10 : training on 82622 raw words (29175 effective words) took 0.9s, 31860 effective words/s\n",
            "2021-11-26 20:17:08,960 : INFO : worker thread finished; awaiting finish of 2 more threads\n",
            "2021-11-26 20:17:09,001 : INFO : worker thread finished; awaiting finish of 1 more threads\n",
            "2021-11-26 20:17:09,012 : INFO : worker thread finished; awaiting finish of 0 more threads\n",
            "2021-11-26 20:17:09,015 : INFO : EPOCH - 11 : training on 82622 raw words (29420 effective words) took 0.9s, 33784 effective words/s\n",
            "2021-11-26 20:17:09,716 : INFO : worker thread finished; awaiting finish of 2 more threads\n",
            "2021-11-26 20:17:09,773 : INFO : worker thread finished; awaiting finish of 1 more threads\n",
            "2021-11-26 20:17:09,785 : INFO : worker thread finished; awaiting finish of 0 more threads\n",
            "2021-11-26 20:17:09,786 : INFO : EPOCH - 12 : training on 82622 raw words (29395 effective words) took 0.8s, 38703 effective words/s\n",
            "2021-11-26 20:17:10,516 : INFO : worker thread finished; awaiting finish of 2 more threads\n",
            "2021-11-26 20:17:10,581 : INFO : worker thread finished; awaiting finish of 1 more threads\n",
            "2021-11-26 20:17:10,589 : INFO : worker thread finished; awaiting finish of 0 more threads\n",
            "2021-11-26 20:17:10,591 : INFO : EPOCH - 13 : training on 82622 raw words (29187 effective words) took 0.8s, 36914 effective words/s\n",
            "2021-11-26 20:17:11,358 : INFO : worker thread finished; awaiting finish of 2 more threads\n",
            "2021-11-26 20:17:11,386 : INFO : worker thread finished; awaiting finish of 1 more threads\n",
            "2021-11-26 20:17:11,399 : INFO : worker thread finished; awaiting finish of 0 more threads\n",
            "2021-11-26 20:17:11,402 : INFO : EPOCH - 14 : training on 82622 raw words (29229 effective words) took 0.8s, 36958 effective words/s\n",
            "2021-11-26 20:17:12,059 : INFO : worker thread finished; awaiting finish of 2 more threads\n",
            "2021-11-26 20:17:12,117 : INFO : worker thread finished; awaiting finish of 1 more threads\n",
            "2021-11-26 20:17:12,129 : INFO : worker thread finished; awaiting finish of 0 more threads\n",
            "2021-11-26 20:17:12,130 : INFO : EPOCH - 15 : training on 82622 raw words (29377 effective words) took 0.7s, 41067 effective words/s\n",
            "2021-11-26 20:17:12,863 : INFO : worker thread finished; awaiting finish of 2 more threads\n",
            "2021-11-26 20:17:12,920 : INFO : worker thread finished; awaiting finish of 1 more threads\n",
            "2021-11-26 20:17:12,924 : INFO : worker thread finished; awaiting finish of 0 more threads\n",
            "2021-11-26 20:17:12,928 : INFO : EPOCH - 16 : training on 82622 raw words (29304 effective words) took 0.8s, 37333 effective words/s\n",
            "2021-11-26 20:17:13,598 : INFO : worker thread finished; awaiting finish of 2 more threads\n",
            "2021-11-26 20:17:13,643 : INFO : worker thread finished; awaiting finish of 1 more threads\n",
            "2021-11-26 20:17:13,656 : INFO : worker thread finished; awaiting finish of 0 more threads\n",
            "2021-11-26 20:17:13,657 : INFO : EPOCH - 17 : training on 82622 raw words (29279 effective words) took 0.7s, 40945 effective words/s\n",
            "2021-11-26 20:17:14,370 : INFO : worker thread finished; awaiting finish of 2 more threads\n",
            "2021-11-26 20:17:14,429 : INFO : worker thread finished; awaiting finish of 1 more threads\n",
            "2021-11-26 20:17:14,433 : INFO : worker thread finished; awaiting finish of 0 more threads\n",
            "2021-11-26 20:17:14,435 : INFO : EPOCH - 18 : training on 82622 raw words (29241 effective words) took 0.8s, 38397 effective words/s\n",
            "2021-11-26 20:17:15,131 : INFO : worker thread finished; awaiting finish of 2 more threads\n",
            "2021-11-26 20:17:15,219 : INFO : worker thread finished; awaiting finish of 1 more threads\n",
            "2021-11-26 20:17:15,225 : INFO : worker thread finished; awaiting finish of 0 more threads\n",
            "2021-11-26 20:17:15,227 : INFO : EPOCH - 19 : training on 82622 raw words (29245 effective words) took 0.8s, 37612 effective words/s\n",
            "2021-11-26 20:17:15,990 : INFO : worker thread finished; awaiting finish of 2 more threads\n",
            "2021-11-26 20:17:16,063 : INFO : worker thread finished; awaiting finish of 1 more threads\n",
            "2021-11-26 20:17:16,070 : INFO : worker thread finished; awaiting finish of 0 more threads\n",
            "2021-11-26 20:17:16,072 : INFO : EPOCH - 20 : training on 82622 raw words (29303 effective words) took 0.8s, 35297 effective words/s\n",
            "2021-11-26 20:17:16,693 : INFO : worker thread finished; awaiting finish of 2 more threads\n",
            "2021-11-26 20:17:16,757 : INFO : worker thread finished; awaiting finish of 1 more threads\n",
            "2021-11-26 20:17:16,764 : INFO : worker thread finished; awaiting finish of 0 more threads\n",
            "2021-11-26 20:17:16,766 : INFO : EPOCH - 21 : training on 82622 raw words (29375 effective words) took 0.7s, 43221 effective words/s\n",
            "2021-11-26 20:17:17,418 : INFO : worker thread finished; awaiting finish of 2 more threads\n",
            "2021-11-26 20:17:17,485 : INFO : worker thread finished; awaiting finish of 1 more threads\n",
            "2021-11-26 20:17:17,494 : INFO : worker thread finished; awaiting finish of 0 more threads\n",
            "2021-11-26 20:17:17,496 : INFO : EPOCH - 22 : training on 82622 raw words (29306 effective words) took 0.7s, 40926 effective words/s\n",
            "2021-11-26 20:17:18,224 : INFO : worker thread finished; awaiting finish of 2 more threads\n",
            "2021-11-26 20:17:18,299 : INFO : worker thread finished; awaiting finish of 1 more threads\n",
            "2021-11-26 20:17:18,311 : INFO : worker thread finished; awaiting finish of 0 more threads\n",
            "2021-11-26 20:17:18,312 : INFO : EPOCH - 23 : training on 82622 raw words (29193 effective words) took 0.8s, 36398 effective words/s\n",
            "2021-11-26 20:17:19,142 : INFO : worker thread finished; awaiting finish of 2 more threads\n",
            "2021-11-26 20:17:19,188 : INFO : worker thread finished; awaiting finish of 1 more threads\n",
            "2021-11-26 20:17:19,200 : INFO : worker thread finished; awaiting finish of 0 more threads\n",
            "2021-11-26 20:17:19,203 : INFO : EPOCH - 24 : training on 82622 raw words (29223 effective words) took 0.9s, 33754 effective words/s\n",
            "2021-11-26 20:17:19,834 : INFO : worker thread finished; awaiting finish of 2 more threads\n",
            "2021-11-26 20:17:19,892 : INFO : worker thread finished; awaiting finish of 1 more threads\n",
            "2021-11-26 20:17:19,896 : INFO : worker thread finished; awaiting finish of 0 more threads\n",
            "2021-11-26 20:17:19,901 : INFO : EPOCH - 25 : training on 82622 raw words (29320 effective words) took 0.7s, 42955 effective words/s\n",
            "2021-11-26 20:17:20,544 : INFO : worker thread finished; awaiting finish of 2 more threads\n",
            "2021-11-26 20:17:20,596 : INFO : worker thread finished; awaiting finish of 1 more threads\n",
            "2021-11-26 20:17:20,605 : INFO : worker thread finished; awaiting finish of 0 more threads\n",
            "2021-11-26 20:17:20,611 : INFO : EPOCH - 26 : training on 82622 raw words (29232 effective words) took 0.7s, 41971 effective words/s\n",
            "2021-11-26 20:17:21,353 : INFO : worker thread finished; awaiting finish of 2 more threads\n",
            "2021-11-26 20:17:21,410 : INFO : worker thread finished; awaiting finish of 1 more threads\n",
            "2021-11-26 20:17:21,425 : INFO : worker thread finished; awaiting finish of 0 more threads\n",
            "2021-11-26 20:17:21,428 : INFO : EPOCH - 27 : training on 82622 raw words (29451 effective words) took 0.8s, 36663 effective words/s\n",
            "2021-11-26 20:17:22,199 : INFO : worker thread finished; awaiting finish of 2 more threads\n",
            "2021-11-26 20:17:22,273 : INFO : worker thread finished; awaiting finish of 1 more threads\n",
            "2021-11-26 20:17:22,286 : INFO : worker thread finished; awaiting finish of 0 more threads\n",
            "2021-11-26 20:17:22,288 : INFO : EPOCH - 28 : training on 82622 raw words (29122 effective words) took 0.8s, 34553 effective words/s\n",
            "2021-11-26 20:17:23,017 : INFO : worker thread finished; awaiting finish of 2 more threads\n",
            "2021-11-26 20:17:23,102 : INFO : worker thread finished; awaiting finish of 1 more threads\n",
            "2021-11-26 20:17:23,107 : INFO : worker thread finished; awaiting finish of 0 more threads\n",
            "2021-11-26 20:17:23,112 : INFO : EPOCH - 29 : training on 82622 raw words (29317 effective words) took 0.8s, 36123 effective words/s\n",
            "2021-11-26 20:17:23,870 : INFO : worker thread finished; awaiting finish of 2 more threads\n",
            "2021-11-26 20:17:23,937 : INFO : worker thread finished; awaiting finish of 1 more threads\n",
            "2021-11-26 20:17:23,950 : INFO : worker thread finished; awaiting finish of 0 more threads\n",
            "2021-11-26 20:17:23,952 : INFO : EPOCH - 30 : training on 82622 raw words (29305 effective words) took 0.8s, 35556 effective words/s\n",
            "2021-11-26 20:17:24,769 : INFO : worker thread finished; awaiting finish of 2 more threads\n",
            "2021-11-26 20:17:24,807 : INFO : worker thread finished; awaiting finish of 1 more threads\n",
            "2021-11-26 20:17:24,816 : INFO : worker thread finished; awaiting finish of 0 more threads\n",
            "2021-11-26 20:17:24,818 : INFO : EPOCH - 31 : training on 82622 raw words (29274 effective words) took 0.8s, 34461 effective words/s\n",
            "2021-11-26 20:17:25,730 : INFO : worker thread finished; awaiting finish of 2 more threads\n",
            "2021-11-26 20:17:25,805 : INFO : worker thread finished; awaiting finish of 1 more threads\n",
            "2021-11-26 20:17:25,821 : INFO : worker thread finished; awaiting finish of 0 more threads\n",
            "2021-11-26 20:17:25,823 : INFO : EPOCH - 32 : training on 82622 raw words (29147 effective words) took 1.0s, 29571 effective words/s\n",
            "2021-11-26 20:17:26,533 : INFO : worker thread finished; awaiting finish of 2 more threads\n",
            "2021-11-26 20:17:26,614 : INFO : worker thread finished; awaiting finish of 1 more threads\n",
            "2021-11-26 20:17:26,626 : INFO : worker thread finished; awaiting finish of 0 more threads\n",
            "2021-11-26 20:17:26,628 : INFO : EPOCH - 33 : training on 82622 raw words (29163 effective words) took 0.8s, 36671 effective words/s\n",
            "2021-11-26 20:17:27,468 : INFO : worker thread finished; awaiting finish of 2 more threads\n",
            "2021-11-26 20:17:27,530 : INFO : worker thread finished; awaiting finish of 1 more threads\n",
            "2021-11-26 20:17:27,539 : INFO : worker thread finished; awaiting finish of 0 more threads\n",
            "2021-11-26 20:17:27,542 : INFO : EPOCH - 34 : training on 82622 raw words (29153 effective words) took 0.9s, 32535 effective words/s\n",
            "2021-11-26 20:17:28,250 : INFO : worker thread finished; awaiting finish of 2 more threads\n",
            "2021-11-26 20:17:28,325 : INFO : worker thread finished; awaiting finish of 1 more threads\n",
            "2021-11-26 20:17:28,333 : INFO : worker thread finished; awaiting finish of 0 more threads\n",
            "2021-11-26 20:17:28,335 : INFO : EPOCH - 35 : training on 82622 raw words (29263 effective words) took 0.8s, 38280 effective words/s\n",
            "2021-11-26 20:17:28,910 : INFO : worker thread finished; awaiting finish of 2 more threads\n",
            "2021-11-26 20:17:28,978 : INFO : worker thread finished; awaiting finish of 1 more threads\n",
            "2021-11-26 20:17:28,985 : INFO : worker thread finished; awaiting finish of 0 more threads\n",
            "2021-11-26 20:17:28,987 : INFO : EPOCH - 36 : training on 82622 raw words (29438 effective words) took 0.6s, 46082 effective words/s\n",
            "2021-11-26 20:17:29,667 : INFO : worker thread finished; awaiting finish of 2 more threads\n",
            "2021-11-26 20:17:29,744 : INFO : worker thread finished; awaiting finish of 1 more threads\n",
            "2021-11-26 20:17:29,755 : INFO : worker thread finished; awaiting finish of 0 more threads\n",
            "2021-11-26 20:17:29,757 : INFO : EPOCH - 37 : training on 82622 raw words (29238 effective words) took 0.8s, 38669 effective words/s\n",
            "2021-11-26 20:17:30,525 : INFO : worker thread finished; awaiting finish of 2 more threads\n",
            "2021-11-26 20:17:30,578 : INFO : worker thread finished; awaiting finish of 1 more threads\n",
            "2021-11-26 20:17:30,590 : INFO : worker thread finished; awaiting finish of 0 more threads\n",
            "2021-11-26 20:17:30,592 : INFO : EPOCH - 38 : training on 82622 raw words (29530 effective words) took 0.8s, 36208 effective words/s\n",
            "2021-11-26 20:17:31,359 : INFO : worker thread finished; awaiting finish of 2 more threads\n",
            "2021-11-26 20:17:31,417 : INFO : worker thread finished; awaiting finish of 1 more threads\n",
            "2021-11-26 20:17:31,425 : INFO : worker thread finished; awaiting finish of 0 more threads\n",
            "2021-11-26 20:17:31,427 : INFO : EPOCH - 39 : training on 82622 raw words (29300 effective words) took 0.8s, 36201 effective words/s\n",
            "2021-11-26 20:17:32,106 : INFO : worker thread finished; awaiting finish of 2 more threads\n",
            "2021-11-26 20:17:32,168 : INFO : worker thread finished; awaiting finish of 1 more threads\n",
            "2021-11-26 20:17:32,176 : INFO : worker thread finished; awaiting finish of 0 more threads\n",
            "2021-11-26 20:17:32,177 : INFO : EPOCH - 40 : training on 82622 raw words (29412 effective words) took 0.7s, 40017 effective words/s\n",
            "2021-11-26 20:17:32,182 : INFO : Doc2Vec lifecycle event {'msg': 'training on 3304880 raw words (1172044 effective words) took 32.1s, 36563 effective words/s', 'datetime': '2021-11-26T20:17:32.182635', 'gensim': '4.1.2', 'python': '3.7.12 (default, Sep 10 2021, 00:21:48) \\n[GCC 7.5.0]', 'platform': 'Linux-5.4.104+-x86_64-with-Ubuntu-18.04-bionic', 'event': 'train'}\n",
            "2021-11-26 20:17:32,186 : INFO : Doc2Vec lifecycle event {'params': 'Doc2Vec(dm/m,d100,n10,w4,s0.001,t3)', 'datetime': '2021-11-26T20:17:32.186910', 'gensim': '4.1.2', 'python': '3.7.12 (default, Sep 10 2021, 00:21:48) \\n[GCC 7.5.0]', 'platform': 'Linux-5.4.104+-x86_64-with-Ubuntu-18.04-bionic', 'event': 'created'}\n"
          ]
        }
      ]
    },
    {
      "cell_type": "code",
      "metadata": {
        "id": "G-cE7gug1Ct5"
      },
      "source": [
        "if use_wandb:\n",
        "  model_artifact = wandb.Artifact(\n",
        "      \"model_doc2vec\", \n",
        "      type=\"model\",\n",
        "      description=\"Doc2Vec model\",\n",
        "      metadata=\"\")\n",
        "\n",
        "  fname = 'doc2vec.model'\n",
        "  model.save(fname)\n",
        "\n",
        "  model_artifact.add_file(fname)\n",
        "  wandb.log_artifact(model_artifact)"
      ],
      "execution_count": 89,
      "outputs": []
    },
    {
      "cell_type": "markdown",
      "metadata": {
        "id": "jJvq2K93xAO5"
      },
      "source": [
        "### Test the distance between C and the diatonic chords\n",
        "\n",
        "Test if the model can capture that the diatonic chords are closer to the root.\n",
        "\n",
        "Do this only if the input corpus contains the unigrams. "
      ]
    },
    {
      "cell_type": "code",
      "metadata": {
        "id": "cH3TJxCfvoFm",
        "colab": {
          "base_uri": "https://localhost:8080/"
        },
        "outputId": "d96d0e99-7a2c-4070-9cf6-e923f34d7dba"
      },
      "source": [
        "test_tokens = ['C',\n",
        "              'Dm',\n",
        "              'Em',\n",
        "              'F',\n",
        "              'G7',\n",
        "              'Am',\n",
        "              #'Bm7b5',\n",
        "              'F7',\n",
        "              'D7',\n",
        "              'A7',\n",
        "              'E7',\n",
        "              'B7',\n",
        "              'F#7',\n",
        "               'Cm',\n",
        "               'D']\n",
        "\n",
        "if 1 in ngrams_for_input:\n",
        "  ref = 'C'\n",
        "  for t in test_tokens:\n",
        "    print(f\"{model.wv.similarity(ref, t):.3f}: {ref} <-> {t}\")"
      ],
      "execution_count": 90,
      "outputs": [
        {
          "output_type": "stream",
          "name": "stdout",
          "text": [
            "1.000: C <-> C\n",
            "0.423: C <-> Dm\n",
            "0.568: C <-> Em\n",
            "0.353: C <-> F\n",
            "0.622: C <-> G7\n",
            "0.318: C <-> Am\n",
            "0.082: C <-> F7\n",
            "0.199: C <-> D7\n",
            "0.544: C <-> A7\n",
            "0.546: C <-> E7\n",
            "0.270: C <-> B7\n",
            "-0.029: C <-> F#7\n",
            "0.362: C <-> Cm\n",
            "0.094: C <-> D\n"
          ]
        }
      ]
    },
    {
      "cell_type": "code",
      "metadata": {
        "id": "IfIRoWL4kpcB"
      },
      "source": [
        "if 1 in ngrams_for_input:\n",
        "  model.wv.similar_by_word('C', topn=20)"
      ],
      "execution_count": 91,
      "outputs": []
    },
    {
      "cell_type": "markdown",
      "metadata": {
        "id": "ix4n9S3_xQzD"
      },
      "source": [
        "Plot the generated word vectors in 2D space"
      ]
    },
    {
      "cell_type": "code",
      "metadata": {
        "id": "JjT_uNh0wthj",
        "colab": {
          "base_uri": "https://localhost:8080/",
          "height": 711
        },
        "outputId": "3cb0abcd-de59-4709-ba45-98163d99c800"
      },
      "source": [
        "from sklearn.manifold import TSNE\n",
        "\n",
        "# input data: vectors for all tokens\n",
        "weights = model.wv.vectors\n",
        "\n",
        "# only do this when the vocabulary is not too big....\n",
        "if len(weights) < 100:\n",
        "\n",
        "  # do T-SNE\n",
        "  tsne = TSNE(n_components=2, \n",
        "              random_state=42,\n",
        "              perplexity=30,\n",
        "              learning_rate='auto',\n",
        "              init='pca',\n",
        "              n_iter=2000\n",
        "              )\n",
        "  T = tsne.fit_transform(weights)\n",
        "\n",
        "  # plot\n",
        "  projected = pd.DataFrame(T)\n",
        "\n",
        "  fig = px.scatter(\n",
        "      projected, \n",
        "      x=0, y=1,\n",
        "      #color='mode',\n",
        "      text=model.wv.index_to_key,\n",
        "      width=800, height=600,\n",
        "      title=\"T-SNE applied to Chord Vectors for Tunes in Cmaj/Amin\"\n",
        "  )\n",
        "  fig.update_traces(textposition='top center')\n",
        "  fig.update_traces(textfont_size=12, selector=dict(type='scatter'))\n",
        "  fig.show()"
      ],
      "execution_count": 92,
      "outputs": [
        {
          "output_type": "stream",
          "name": "stderr",
          "text": [
            "/usr/local/lib/python3.7/dist-packages/sklearn/manifold/_t_sne.py:986: FutureWarning:\n",
            "\n",
            "The PCA initialization in TSNE will change to have the standard deviation of PC1 equal to 1e-4 in 1.2. This will ensure better convergence.\n",
            "\n"
          ]
        },
        {
          "output_type": "display_data",
          "data": {
            "text/html": [
              "<html>\n",
              "<head><meta charset=\"utf-8\" /></head>\n",
              "<body>\n",
              "    <div>\n",
              "            <script src=\"https://cdnjs.cloudflare.com/ajax/libs/mathjax/2.7.5/MathJax.js?config=TeX-AMS-MML_SVG\"></script><script type=\"text/javascript\">if (window.MathJax) {MathJax.Hub.Config({SVG: {font: \"STIX-Web\"}});}</script>\n",
              "                <script type=\"text/javascript\">window.PlotlyConfig = {MathJaxConfig: 'local'};</script>\n",
              "        <script src=\"https://cdn.plot.ly/plotly-latest.min.js\"></script>    \n",
              "            <div id=\"522d2845-7ac1-4f59-9697-74064debfefe\" class=\"plotly-graph-div\" style=\"height:600px; width:800px;\"></div>\n",
              "            <script type=\"text/javascript\">\n",
              "                \n",
              "                    window.PLOTLYENV=window.PLOTLYENV || {};\n",
              "                    \n",
              "                if (document.getElementById(\"522d2845-7ac1-4f59-9697-74064debfefe\")) {\n",
              "                    Plotly.newPlot(\n",
              "                        '522d2845-7ac1-4f59-9697-74064debfefe',\n",
              "                        [{\"hoverlabel\": {\"namelength\": 0}, \"hovertemplate\": \"0=%{x}<br>1=%{y}<br>text=%{text}\", \"legendgroup\": \"\", \"marker\": {\"color\": \"#636efa\", \"symbol\": \"circle\"}, \"mode\": \"markers+text\", \"name\": \"\", \"showlegend\": false, \"text\": [\"C\", \"G7\", \"Dm\", \"Am\", \"A7\", \"D7\", \"F\", \"C7\", \"E7\", \"Em\", \"F7\", \"Bb7\", \"Fm\", \"B7\", \"Gm\", \"G#7\", \"Bm7b5\", \"G\", \"Ebdim\", \"Eb7\", \"Cm\", \"F#m7b5\", \"G#\", \"Bm\", \"C#7\", \"Bb\", \"Em7b5\", \"E\", \"F#m\", \"F#7\", \"Eb\", \"F#dim\", \"C#dim\", \"Ebm\", \"C#\", \"A\", \"Dm7b5\", \"Bbm\", \"D\", \"C#m\", \"Cdim\", \"B\", \"G#m\", \"F#\", \"G#dim\", \"Am7b5\", \"Fdim\", \"Gdim\", \"G7(+b5)\", \"C#m7b5\", \"E7(+b5)\", \"Adim\", \"F#7(+b5)\", \"Gm7b5\", \"A7(+b5)\", \"B7(+b5)\", \"Edim\", \"G#m7b5\", \"C#7(+b5)\", \"Bb7(+b5)\", \"Fm7b5\", \"D7(+b5)\", \"Bbdim\", \"Bbm7b5\", \"C7(+b5)\", \"Bdim\", \"Ddim\", \"Ebm7b5\", \"G#7(+b5)\", \"F7(+b5)\", \"Cm7b5\", \"Eb7(+b5)\"], \"textfont\": {\"size\": 12}, \"textposition\": \"top center\", \"type\": \"scatter\", \"x\": [2.2832884788513184, 2.250757932662964, 1.2523142099380493, 1.3704326152801514, 2.181302547454834, 1.1315804719924927, 1.8384860754013062, 1.3211365938186646, 2.0305898189544678, 2.184722423553467, 1.3522708415985107, 1.6267673969268799, 1.358713150024414, 1.2859762907028198, 1.6090518236160278, 0.867091953754425, 2.553257703781128, 1.756859540939331, 1.9633457660675049, 2.569135904312134, 0.5575542449951172, 1.2875308990478516, 0.26013684272766113, 1.1536195278167725, 3.3951525688171387, 0.7551597952842712, 2.5863773822784424, 0.3790256381034851, 0.044376060366630554, 1.1266146898269653, 2.0686960220336914, 1.567604422569275, 2.6714632511138916, -0.2926670014858246, -0.0012420689454302192, 2.451918363571167, 0.9116886258125305, -0.7213647961616516, 1.0032662153244019, 3.3888115882873535, 3.0367019176483154, -1.6391006708145142, -1.3916887044906616, -1.3664801120758057, 1.1839579343795776, 0.1848250925540924, 0.8620598912239075, 1.986301064491272, -0.7361888885498047, 1.8174843788146973, -0.6959860324859619, -0.04910716786980629, -2.066324472427368, -0.4201712906360626, -1.11031973361969, -1.9677149057388306, 2.7650744915008545, 1.5744154453277588, -1.7034173011779785, -1.135738730430603, -2.113766670227051, -0.2254299372434616, 0.22121000289916992, -2.0908620357513428, 0.3227579593658447, 0.38960883021354675, 0.3078606426715851, -0.9654362797737122, -0.9507505893707275, -1.1360042095184326, -0.977776050567627, -1.1316008567810059], \"xaxis\": \"x\", \"y\": [0.3257427215576172, 0.261690229177475, 0.32380566000938416, -0.12117782235145569, 0.5304131507873535, 0.6755803227424622, -0.12214261293411255, 0.2529697120189667, -0.0835317075252533, -0.21249939501285553, -0.24360154569149017, 1.0820859670639038, -0.04760584235191345, -0.4919915199279785, 0.368889182806015, 0.8364681005477905, 0.6839851140975952, 0.6680020689964294, 0.5673118233680725, 1.915408730506897, 1.0663331747055054, 1.5143890380859375, 0.708225667476654, -0.7199353575706482, 0.532019853591919, 0.7884050607681274, -0.8338364958763123, -0.4803055226802826, -0.213809996843338, 2.449985980987549, 1.8986222743988037, 0.6734291911125183, -0.13902001082897186, 1.3770196437835693, 0.5774532556533813, 1.3327014446258545, 0.6571120023727417, 0.6418590545654297, 1.1031211614608765, 1.390091896057129, -0.1279822587966919, 0.2025122195482254, 1.0935324430465698, 1.3078891038894653, -1.734113097190857, -1.2036305665969849, -1.8786967992782593, -1.2256996631622314, -2.7786104679107666, -2.620542049407959, -2.4510433673858643, 2.620788097381592, -2.304065465927124, 0.439762681722641, -2.1986544132232666, -2.1955723762512207, -1.9738123416900635, -2.7737929821014404, -1.7181059122085571, -1.6169846057891846, -0.3216167390346527, -2.0578534603118896, -0.6506525278091431, 0.4011611044406891, -2.264810800552368, -0.5388769507408142, 2.0687429904937744, -0.863227128982544, -1.5377833843231201, -1.2021664381027222, -0.26326990127563477, -0.1705920696258545], \"yaxis\": \"y\"}],\n",
              "                        {\"height\": 600, \"legend\": {\"tracegroupgap\": 0}, \"template\": {\"data\": {\"bar\": [{\"error_x\": {\"color\": \"#2a3f5f\"}, \"error_y\": {\"color\": \"#2a3f5f\"}, \"marker\": {\"line\": {\"color\": \"#E5ECF6\", \"width\": 0.5}}, \"type\": \"bar\"}], \"barpolar\": [{\"marker\": {\"line\": {\"color\": \"#E5ECF6\", \"width\": 0.5}}, \"type\": \"barpolar\"}], \"carpet\": [{\"aaxis\": {\"endlinecolor\": \"#2a3f5f\", \"gridcolor\": \"white\", \"linecolor\": \"white\", \"minorgridcolor\": \"white\", \"startlinecolor\": \"#2a3f5f\"}, \"baxis\": {\"endlinecolor\": \"#2a3f5f\", \"gridcolor\": \"white\", \"linecolor\": \"white\", \"minorgridcolor\": \"white\", \"startlinecolor\": \"#2a3f5f\"}, \"type\": \"carpet\"}], \"choropleth\": [{\"colorbar\": {\"outlinewidth\": 0, \"ticks\": \"\"}, \"type\": \"choropleth\"}], \"contour\": [{\"colorbar\": {\"outlinewidth\": 0, \"ticks\": \"\"}, \"colorscale\": [[0.0, \"#0d0887\"], [0.1111111111111111, \"#46039f\"], [0.2222222222222222, \"#7201a8\"], [0.3333333333333333, \"#9c179e\"], [0.4444444444444444, \"#bd3786\"], [0.5555555555555556, \"#d8576b\"], [0.6666666666666666, \"#ed7953\"], [0.7777777777777778, \"#fb9f3a\"], [0.8888888888888888, \"#fdca26\"], [1.0, \"#f0f921\"]], \"type\": \"contour\"}], \"contourcarpet\": [{\"colorbar\": {\"outlinewidth\": 0, \"ticks\": \"\"}, \"type\": \"contourcarpet\"}], \"heatmap\": [{\"colorbar\": {\"outlinewidth\": 0, \"ticks\": \"\"}, \"colorscale\": [[0.0, \"#0d0887\"], [0.1111111111111111, \"#46039f\"], [0.2222222222222222, \"#7201a8\"], [0.3333333333333333, \"#9c179e\"], [0.4444444444444444, \"#bd3786\"], [0.5555555555555556, \"#d8576b\"], [0.6666666666666666, \"#ed7953\"], [0.7777777777777778, \"#fb9f3a\"], [0.8888888888888888, \"#fdca26\"], [1.0, \"#f0f921\"]], \"type\": \"heatmap\"}], \"heatmapgl\": [{\"colorbar\": {\"outlinewidth\": 0, \"ticks\": \"\"}, \"colorscale\": [[0.0, \"#0d0887\"], [0.1111111111111111, \"#46039f\"], [0.2222222222222222, \"#7201a8\"], [0.3333333333333333, \"#9c179e\"], [0.4444444444444444, \"#bd3786\"], [0.5555555555555556, \"#d8576b\"], [0.6666666666666666, \"#ed7953\"], [0.7777777777777778, \"#fb9f3a\"], [0.8888888888888888, \"#fdca26\"], [1.0, \"#f0f921\"]], \"type\": \"heatmapgl\"}], \"histogram\": [{\"marker\": {\"colorbar\": {\"outlinewidth\": 0, \"ticks\": \"\"}}, \"type\": \"histogram\"}], \"histogram2d\": [{\"colorbar\": {\"outlinewidth\": 0, \"ticks\": \"\"}, \"colorscale\": [[0.0, \"#0d0887\"], [0.1111111111111111, \"#46039f\"], [0.2222222222222222, \"#7201a8\"], [0.3333333333333333, \"#9c179e\"], [0.4444444444444444, \"#bd3786\"], [0.5555555555555556, \"#d8576b\"], [0.6666666666666666, \"#ed7953\"], [0.7777777777777778, \"#fb9f3a\"], [0.8888888888888888, \"#fdca26\"], [1.0, \"#f0f921\"]], \"type\": \"histogram2d\"}], \"histogram2dcontour\": [{\"colorbar\": {\"outlinewidth\": 0, \"ticks\": \"\"}, \"colorscale\": [[0.0, \"#0d0887\"], [0.1111111111111111, \"#46039f\"], [0.2222222222222222, \"#7201a8\"], [0.3333333333333333, \"#9c179e\"], [0.4444444444444444, \"#bd3786\"], [0.5555555555555556, \"#d8576b\"], [0.6666666666666666, \"#ed7953\"], [0.7777777777777778, \"#fb9f3a\"], [0.8888888888888888, \"#fdca26\"], [1.0, \"#f0f921\"]], \"type\": \"histogram2dcontour\"}], \"mesh3d\": [{\"colorbar\": {\"outlinewidth\": 0, \"ticks\": \"\"}, \"type\": \"mesh3d\"}], \"parcoords\": [{\"line\": {\"colorbar\": {\"outlinewidth\": 0, \"ticks\": \"\"}}, \"type\": \"parcoords\"}], \"pie\": [{\"automargin\": true, \"type\": \"pie\"}], \"scatter\": [{\"marker\": {\"colorbar\": {\"outlinewidth\": 0, \"ticks\": \"\"}}, \"type\": \"scatter\"}], \"scatter3d\": [{\"line\": {\"colorbar\": {\"outlinewidth\": 0, \"ticks\": \"\"}}, \"marker\": {\"colorbar\": {\"outlinewidth\": 0, \"ticks\": \"\"}}, \"type\": \"scatter3d\"}], \"scattercarpet\": [{\"marker\": {\"colorbar\": {\"outlinewidth\": 0, \"ticks\": \"\"}}, \"type\": \"scattercarpet\"}], \"scattergeo\": [{\"marker\": {\"colorbar\": {\"outlinewidth\": 0, \"ticks\": \"\"}}, \"type\": \"scattergeo\"}], \"scattergl\": [{\"marker\": {\"colorbar\": {\"outlinewidth\": 0, \"ticks\": \"\"}}, \"type\": \"scattergl\"}], \"scattermapbox\": [{\"marker\": {\"colorbar\": {\"outlinewidth\": 0, \"ticks\": \"\"}}, \"type\": \"scattermapbox\"}], \"scatterpolar\": [{\"marker\": {\"colorbar\": {\"outlinewidth\": 0, \"ticks\": \"\"}}, \"type\": \"scatterpolar\"}], \"scatterpolargl\": [{\"marker\": {\"colorbar\": {\"outlinewidth\": 0, \"ticks\": \"\"}}, \"type\": \"scatterpolargl\"}], \"scatterternary\": [{\"marker\": {\"colorbar\": {\"outlinewidth\": 0, \"ticks\": \"\"}}, \"type\": \"scatterternary\"}], \"surface\": [{\"colorbar\": {\"outlinewidth\": 0, \"ticks\": \"\"}, \"colorscale\": [[0.0, \"#0d0887\"], [0.1111111111111111, \"#46039f\"], [0.2222222222222222, \"#7201a8\"], [0.3333333333333333, \"#9c179e\"], [0.4444444444444444, \"#bd3786\"], [0.5555555555555556, \"#d8576b\"], [0.6666666666666666, \"#ed7953\"], [0.7777777777777778, \"#fb9f3a\"], [0.8888888888888888, \"#fdca26\"], [1.0, \"#f0f921\"]], \"type\": \"surface\"}], \"table\": [{\"cells\": {\"fill\": {\"color\": \"#EBF0F8\"}, \"line\": {\"color\": \"white\"}}, \"header\": {\"fill\": {\"color\": \"#C8D4E3\"}, \"line\": {\"color\": \"white\"}}, \"type\": \"table\"}]}, \"layout\": {\"annotationdefaults\": {\"arrowcolor\": \"#2a3f5f\", \"arrowhead\": 0, \"arrowwidth\": 1}, \"coloraxis\": {\"colorbar\": {\"outlinewidth\": 0, \"ticks\": \"\"}}, \"colorscale\": {\"diverging\": [[0, \"#8e0152\"], [0.1, \"#c51b7d\"], [0.2, \"#de77ae\"], [0.3, \"#f1b6da\"], [0.4, \"#fde0ef\"], [0.5, \"#f7f7f7\"], [0.6, \"#e6f5d0\"], [0.7, \"#b8e186\"], [0.8, \"#7fbc41\"], [0.9, \"#4d9221\"], [1, \"#276419\"]], \"sequential\": [[0.0, \"#0d0887\"], [0.1111111111111111, \"#46039f\"], [0.2222222222222222, \"#7201a8\"], [0.3333333333333333, \"#9c179e\"], [0.4444444444444444, \"#bd3786\"], [0.5555555555555556, \"#d8576b\"], [0.6666666666666666, \"#ed7953\"], [0.7777777777777778, \"#fb9f3a\"], [0.8888888888888888, \"#fdca26\"], [1.0, \"#f0f921\"]], \"sequentialminus\": [[0.0, \"#0d0887\"], [0.1111111111111111, \"#46039f\"], [0.2222222222222222, \"#7201a8\"], [0.3333333333333333, \"#9c179e\"], [0.4444444444444444, \"#bd3786\"], [0.5555555555555556, \"#d8576b\"], [0.6666666666666666, \"#ed7953\"], [0.7777777777777778, \"#fb9f3a\"], [0.8888888888888888, \"#fdca26\"], [1.0, \"#f0f921\"]]}, \"colorway\": [\"#636efa\", \"#EF553B\", \"#00cc96\", \"#ab63fa\", \"#FFA15A\", \"#19d3f3\", \"#FF6692\", \"#B6E880\", \"#FF97FF\", \"#FECB52\"], \"font\": {\"color\": \"#2a3f5f\"}, \"geo\": {\"bgcolor\": \"white\", \"lakecolor\": \"white\", \"landcolor\": \"#E5ECF6\", \"showlakes\": true, \"showland\": true, \"subunitcolor\": \"white\"}, \"hoverlabel\": {\"align\": \"left\"}, \"hovermode\": \"closest\", \"mapbox\": {\"style\": \"light\"}, \"paper_bgcolor\": \"white\", \"plot_bgcolor\": \"#E5ECF6\", \"polar\": {\"angularaxis\": {\"gridcolor\": \"white\", \"linecolor\": \"white\", \"ticks\": \"\"}, \"bgcolor\": \"#E5ECF6\", \"radialaxis\": {\"gridcolor\": \"white\", \"linecolor\": \"white\", \"ticks\": \"\"}}, \"scene\": {\"xaxis\": {\"backgroundcolor\": \"#E5ECF6\", \"gridcolor\": \"white\", \"gridwidth\": 2, \"linecolor\": \"white\", \"showbackground\": true, \"ticks\": \"\", \"zerolinecolor\": \"white\"}, \"yaxis\": {\"backgroundcolor\": \"#E5ECF6\", \"gridcolor\": \"white\", \"gridwidth\": 2, \"linecolor\": \"white\", \"showbackground\": true, \"ticks\": \"\", \"zerolinecolor\": \"white\"}, \"zaxis\": {\"backgroundcolor\": \"#E5ECF6\", \"gridcolor\": \"white\", \"gridwidth\": 2, \"linecolor\": \"white\", \"showbackground\": true, \"ticks\": \"\", \"zerolinecolor\": \"white\"}}, \"shapedefaults\": {\"line\": {\"color\": \"#2a3f5f\"}}, \"ternary\": {\"aaxis\": {\"gridcolor\": \"white\", \"linecolor\": \"white\", \"ticks\": \"\"}, \"baxis\": {\"gridcolor\": \"white\", \"linecolor\": \"white\", \"ticks\": \"\"}, \"bgcolor\": \"#E5ECF6\", \"caxis\": {\"gridcolor\": \"white\", \"linecolor\": \"white\", \"ticks\": \"\"}}, \"title\": {\"x\": 0.05}, \"xaxis\": {\"automargin\": true, \"gridcolor\": \"white\", \"linecolor\": \"white\", \"ticks\": \"\", \"title\": {\"standoff\": 15}, \"zerolinecolor\": \"white\", \"zerolinewidth\": 2}, \"yaxis\": {\"automargin\": true, \"gridcolor\": \"white\", \"linecolor\": \"white\", \"ticks\": \"\", \"title\": {\"standoff\": 15}, \"zerolinecolor\": \"white\", \"zerolinewidth\": 2}}}, \"title\": {\"text\": \"T-SNE applied to Chord Vectors for Tunes in Cmaj/Amin\"}, \"width\": 800, \"xaxis\": {\"anchor\": \"y\", \"domain\": [0.0, 1.0], \"title\": {\"text\": \"0\"}}, \"yaxis\": {\"anchor\": \"x\", \"domain\": [0.0, 1.0], \"title\": {\"text\": \"1\"}}},\n",
              "                        {\"responsive\": true}\n",
              "                    ).then(function(){\n",
              "                            \n",
              "var gd = document.getElementById('522d2845-7ac1-4f59-9697-74064debfefe');\n",
              "var x = new MutationObserver(function (mutations, observer) {{\n",
              "        var display = window.getComputedStyle(gd).display;\n",
              "        if (!display || display === 'none') {{\n",
              "            console.log([gd, 'removed!']);\n",
              "            Plotly.purge(gd);\n",
              "            observer.disconnect();\n",
              "        }}\n",
              "}});\n",
              "\n",
              "// Listen for the removal of the full notebook cells\n",
              "var notebookContainer = gd.closest('#notebook-container');\n",
              "if (notebookContainer) {{\n",
              "    x.observe(notebookContainer, {childList: true});\n",
              "}}\n",
              "\n",
              "// Listen for the clearing of the current output cell\n",
              "var outputEl = gd.closest('.output');\n",
              "if (outputEl) {{\n",
              "    x.observe(outputEl, {childList: true});\n",
              "}}\n",
              "\n",
              "                        })\n",
              "                };\n",
              "                \n",
              "            </script>\n",
              "        </div>\n",
              "</body>\n",
              "</html>"
            ]
          },
          "metadata": {}
        }
      ]
    },
    {
      "cell_type": "markdown",
      "metadata": {
        "id": "ajqb904KDwNV"
      },
      "source": [
        "## Section Similarity\n"
      ]
    },
    {
      "cell_type": "markdown",
      "metadata": {
        "id": "HS_k1g6ujjKP"
      },
      "source": [
        "### Single Tunes"
      ]
    },
    {
      "cell_type": "code",
      "metadata": {
        "id": "mPnEPL_k4TZn"
      },
      "source": [
        "def get_section_scores_doc2vec(tunes):\n",
        "\n",
        "    df_sim = pd.DataFrame(columns=['reference_title',\n",
        "                                   'reference_titleid',\n",
        "                                  'similar_title',\n",
        "                                  'ref_section', \n",
        "                                  'similar_section', \n",
        "                                  'score', \n",
        "                                  ])\n",
        "\n",
        "### get titleid from tunes, use enumerate\n",
        "\n",
        "    for tune in tunes:\n",
        "      print()\n",
        "      print(\"-\"*50)\n",
        "      for s1 in title_to_sectionid[tune]:\n",
        "      \n",
        "          # sections are tagged with the numeric sectionid and can be used for querying\n",
        "          sims = model.dv.similar_by_key(s1, topn=40)\n",
        "          \n",
        "          print(s1, sectionid_to_section[s1])\n",
        "          n = 0\n",
        "          for s2, s2_score in sims:\n",
        "              if type(s2) == int:  # only consider similarities to sectionids; tuneids are strings\n",
        "                  # don't count self-similarity between sections of the same tune\n",
        "                  if s2 not in title_to_sectionid[tune]:\n",
        "                      n += 1\n",
        "                  \n",
        "                      # print(f\"\\t{s2_score:.3f} {sectionid_to_section[s2]}\")\n",
        "\n",
        "                      df_sim.loc[len(df_sim)] = [tune,\n",
        "                                                 title_to_titleid[tune],\n",
        "                                                 sectionid_to_title[s2],\n",
        "                                                 sectionid_to_section[s1], \n",
        "                                                 sectionid_to_section[s2], \n",
        "                                                 s2_score, \n",
        "                                                 ]\n",
        "    return df_sim"
      ],
      "execution_count": 93,
      "outputs": []
    },
    {
      "cell_type": "code",
      "metadata": {
        "colab": {
          "base_uri": "https://localhost:8080/"
        },
        "id": "i_d92il649O9",
        "outputId": "08dde602-ec8e-4c76-86db-9e2ff20e0c3c"
      },
      "source": [
        "#tunes_list = list(tunes['title'].values())\n",
        "#titleid_list = list(tunes['title'].keys())\n",
        "\n",
        "tunes_list = tunes_eval_list\n",
        "\n",
        "df_sim = get_section_scores_doc2vec(tunes_list)\n",
        "\n",
        "result = None\n",
        "for tune in tunes:\n",
        "  tune_result, details = recommend_tune(df_sim, tune)\n",
        "  if result is None:\n",
        "    result = pd.DataFrame(columns=tune_result.columns)\n",
        "  result = result.append(tune_result)\n",
        "\n",
        "# save a copy of the results; all results will be concatenated at the end\n",
        "df_doc2vec = df_sim[:]"
      ],
      "execution_count": 94,
      "outputs": [
        {
          "output_type": "stream",
          "name": "stdout",
          "text": [
            "\n",
            "--------------------------------------------------\n",
            "125 After You've Gone, section1 (A)\n",
            "126 After You've Gone, section2 (B)\n",
            "127 After You've Gone, section3 (A)\n",
            "128 After You've Gone, section4 (C)\n",
            "\n",
            "--------------------------------------------------\n",
            "188 All God's Chillun Got Rhythm, section1 (A)\n",
            "189 All God's Chillun Got Rhythm, section2 (B)\n",
            "190 All God's Chillun Got Rhythm, section3 (A)\n",
            "191 All God's Chillun Got Rhythm, section4 (C)\n",
            "\n",
            "--------------------------------------------------\n",
            "198 All Of Me, section1 (A)\n",
            "199 All Of Me, section2 (B)\n",
            "200 All Of Me, section3 (A)\n",
            "201 All Of Me, section4 (C)\n",
            "\n",
            "--------------------------------------------------\n",
            "474 Blood Count, section1 (A)\n",
            "475 Blood Count, section2 (A)\n",
            "476 Blood Count, section3 (B)\n",
            "477 Blood Count, section4 (A)\n",
            "478 Blood Count, section5 (C)\n",
            "\n",
            "--------------------------------------------------\n",
            "496 Blue Moon, section1 (A)\n",
            "497 Blue Moon, section2 (A)\n",
            "498 Blue Moon, section3 (B)\n",
            "499 Blue Moon, section4 (A)\n",
            "\n",
            "--------------------------------------------------\n",
            "626 But Beautiful, section1 (A)\n",
            "627 But Beautiful, section2 (B)\n",
            "628 But Beautiful, section3 (A)\n",
            "629 But Beautiful, section4 (C)\n",
            "\n",
            "--------------------------------------------------\n",
            "653 Bye Bye Blackbird, section1 (A)\n",
            "654 Bye Bye Blackbird, section2 (B)\n",
            "\n",
            "--------------------------------------------------\n",
            "676 Call Me Irresponsible, section1 (A)\n",
            "677 Call Me Irresponsible, section2 (B)\n",
            "678 Call Me Irresponsible, section3 (A)\n",
            "679 Call Me Irresponsible, section4 (B)\n",
            "\n",
            "--------------------------------------------------\n",
            "826 Corcovado, section1 (A)\n",
            "827 Corcovado, section2 (B)\n",
            "828 Corcovado, section3 (A)\n",
            "829 Corcovado, section4 (C)\n",
            "\n",
            "--------------------------------------------------\n",
            "997 Dinah, section1 (A)\n",
            "998 Dinah, section2 (A)\n",
            "999 Dinah, section3 (B)\n",
            "1000 Dinah, section4 (A)\n",
            "\n",
            "--------------------------------------------------\n",
            "1125 East Of The Sun, section1 (A)\n",
            "1126 East Of The Sun, section2 (B)\n",
            "1127 East Of The Sun, section3 (A)\n",
            "1128 East Of The Sun, section4 (C)\n",
            "\n",
            "--------------------------------------------------\n",
            "1287 Footprints, section0 (nan)\n",
            "\n",
            "--------------------------------------------------\n",
            "1379 Giant Steps, section0 (nan)\n",
            "\n",
            "--------------------------------------------------\n",
            "1538 Honeysuckle Rose, section1 (A)\n",
            "1539 Honeysuckle Rose, section2 (A)\n",
            "1540 Honeysuckle Rose, section3 (B)\n",
            "1541 Honeysuckle Rose, section4 (A)\n",
            "\n",
            "--------------------------------------------------\n",
            "1647 I Got Rhythm, section1 (A)\n",
            "1648 I Got Rhythm, section2 (A)\n",
            "1649 I Got Rhythm, section3 (B)\n",
            "1650 I Got Rhythm, section4 (A)\n",
            "\n",
            "--------------------------------------------------\n",
            "2670 Misty, section1 (A)\n",
            "2671 Misty, section2 (A)\n",
            "2672 Misty, section3 (B)\n",
            "2673 Misty, section4 (A)\n",
            "\n",
            "--------------------------------------------------\n",
            "2857 Naima, section1 (A)\n",
            "2858 Naima, section2 (A)\n",
            "2859 Naima, section3 (B)\n",
            "2860 Naima, section4 (A)\n",
            "\n",
            "--------------------------------------------------\n",
            "5044 Old Fashioned Love, section0 (nan)\n",
            "\n",
            "--------------------------------------------------\n",
            "3142 Perdido, section1 (A)\n",
            "3143 Perdido, section2 (A)\n",
            "3144 Perdido, section3 (B)\n",
            "3145 Perdido, section4 (A)\n",
            "\n",
            "--------------------------------------------------\n",
            "3276 Rockin' Chair, section1 (A)\n",
            "3277 Rockin' Chair, section2 (B)\n",
            "3278 Rockin' Chair, section3 (A)\n",
            "\n",
            "--------------------------------------------------\n",
            "3578 Sophisticated Lady, section1 (A)\n",
            "3579 Sophisticated Lady, section2 (A)\n",
            "3580 Sophisticated Lady, section3 (B)\n",
            "3581 Sophisticated Lady, section4 (A)\n",
            "\n",
            "--------------------------------------------------\n",
            "3746 Sweet Sue, Just You, section1 (A)\n",
            "3747 Sweet Sue, Just You, section2 (A)\n",
            "3748 Sweet Sue, Just You, section3 (B)\n",
            "3749 Sweet Sue, Just You, section4 (A)\n",
            "\n",
            "--------------------------------------------------\n",
            "3860 These Foolish Things, section1 (A)\n",
            "3861 These Foolish Things, section2 (A)\n",
            "3862 These Foolish Things, section3 (B)\n",
            "3863 These Foolish Things, section4 (A)\n",
            "\n",
            "--------------------------------------------------\n",
            "4146 We'll Be Together Again, section1 (A)\n",
            "4147 We'll Be Together Again, section2 (A)\n",
            "4148 We'll Be Together Again, section3 (B)\n",
            "4149 We'll Be Together Again, section4 (A)\n",
            "Index(['similar_title', 'score', 'max', 'score_div_max', 'reference',\n",
            "       'reference_titleid'],\n",
            "      dtype='object')\n",
            "Index(['similar_title', 'score', 'max', 'score_div_max', 'reference',\n",
            "       'reference_titleid'],\n",
            "      dtype='object')\n",
            "Index(['similar_title', 'score', 'max', 'score_div_max', 'reference',\n",
            "       'reference_titleid'],\n",
            "      dtype='object')\n",
            "Index(['similar_title', 'score', 'max', 'score_div_max', 'reference',\n",
            "       'reference_titleid'],\n",
            "      dtype='object')\n",
            "Index(['similar_title', 'score', 'max', 'score_div_max', 'reference',\n",
            "       'reference_titleid'],\n",
            "      dtype='object')\n",
            "Index(['similar_title', 'score', 'max', 'score_div_max', 'reference',\n",
            "       'reference_titleid'],\n",
            "      dtype='object')\n",
            "Index(['similar_title', 'score', 'max', 'score_div_max', 'reference',\n",
            "       'reference_titleid'],\n",
            "      dtype='object')\n",
            "Index(['similar_title', 'score', 'max', 'score_div_max', 'reference',\n",
            "       'reference_titleid'],\n",
            "      dtype='object')\n",
            "Index(['similar_title', 'score', 'max', 'score_div_max', 'reference',\n",
            "       'reference_titleid'],\n",
            "      dtype='object')\n",
            "Index(['similar_title', 'score', 'max', 'score_div_max', 'reference',\n",
            "       'reference_titleid'],\n",
            "      dtype='object')\n",
            "Index(['similar_title', 'score', 'max', 'score_div_max', 'reference',\n",
            "       'reference_titleid'],\n",
            "      dtype='object')\n",
            "Index(['similar_title', 'score', 'max', 'score_div_max', 'reference',\n",
            "       'reference_titleid'],\n",
            "      dtype='object')\n",
            "Index(['similar_title', 'score', 'max', 'score_div_max', 'reference',\n",
            "       'reference_titleid'],\n",
            "      dtype='object')\n",
            "Index(['similar_title', 'score', 'max', 'score_div_max', 'reference',\n",
            "       'reference_titleid'],\n",
            "      dtype='object')\n",
            "Index(['similar_title', 'score', 'max', 'score_div_max', 'reference',\n",
            "       'reference_titleid'],\n",
            "      dtype='object')\n",
            "Index(['similar_title', 'score', 'max', 'score_div_max', 'reference',\n",
            "       'reference_titleid'],\n",
            "      dtype='object')\n",
            "Index(['similar_title', 'score', 'max', 'score_div_max', 'reference',\n",
            "       'reference_titleid'],\n",
            "      dtype='object')\n",
            "Index(['similar_title', 'score', 'max', 'score_div_max', 'reference',\n",
            "       'reference_titleid'],\n",
            "      dtype='object')\n",
            "Index(['similar_title', 'score', 'max', 'score_div_max', 'reference',\n",
            "       'reference_titleid'],\n",
            "      dtype='object')\n",
            "Index(['similar_title', 'score', 'max', 'score_div_max', 'reference',\n",
            "       'reference_titleid'],\n",
            "      dtype='object')\n",
            "Index(['similar_title', 'score', 'max', 'score_div_max', 'reference',\n",
            "       'reference_titleid'],\n",
            "      dtype='object')\n",
            "Index(['similar_title', 'score', 'max', 'score_div_max', 'reference',\n",
            "       'reference_titleid'],\n",
            "      dtype='object')\n",
            "Index(['similar_title', 'score', 'max', 'score_div_max', 'reference',\n",
            "       'reference_titleid'],\n",
            "      dtype='object')\n",
            "Index(['similar_title', 'score', 'max', 'score_div_max', 'reference',\n",
            "       'reference_titleid'],\n",
            "      dtype='object')\n"
          ]
        }
      ]
    },
    {
      "cell_type": "code",
      "metadata": {
        "id": "uNt-_pK9Cc-4",
        "colab": {
          "base_uri": "https://localhost:8080/",
          "height": 206
        },
        "outputId": "5a44fa0e-aa7a-4411-a1f7-32dc0145586a"
      },
      "source": [
        "result.head()"
      ],
      "execution_count": 95,
      "outputs": [
        {
          "output_type": "execute_result",
          "data": {
            "text/html": [
              "<div>\n",
              "<style scoped>\n",
              "    .dataframe tbody tr th:only-of-type {\n",
              "        vertical-align: middle;\n",
              "    }\n",
              "\n",
              "    .dataframe tbody tr th {\n",
              "        vertical-align: top;\n",
              "    }\n",
              "\n",
              "    .dataframe thead th {\n",
              "        text-align: right;\n",
              "    }\n",
              "</style>\n",
              "<table border=\"1\" class=\"dataframe\">\n",
              "  <thead>\n",
              "    <tr style=\"text-align: right;\">\n",
              "      <th></th>\n",
              "      <th>index</th>\n",
              "      <th>reference</th>\n",
              "      <th>reference_titleid</th>\n",
              "      <th>similar_title</th>\n",
              "      <th>score</th>\n",
              "      <th>max</th>\n",
              "      <th>score_div_max</th>\n",
              "    </tr>\n",
              "  </thead>\n",
              "  <tbody>\n",
              "    <tr>\n",
              "      <th>0</th>\n",
              "      <td>0</td>\n",
              "      <td>After You've Gone [jazz1350]</td>\n",
              "      <td>38</td>\n",
              "      <td>For You, For Me, For Evermore [jazz1350]</td>\n",
              "      <td>0.921087</td>\n",
              "      <td>0.921087</td>\n",
              "      <td>1.000000</td>\n",
              "    </tr>\n",
              "    <tr>\n",
              "      <th>1</th>\n",
              "      <td>1</td>\n",
              "      <td>After You've Gone [jazz1350]</td>\n",
              "      <td>38</td>\n",
              "      <td>A Tisket A Tasket [jazz1350]</td>\n",
              "      <td>0.898297</td>\n",
              "      <td>0.898297</td>\n",
              "      <td>1.000000</td>\n",
              "    </tr>\n",
              "    <tr>\n",
              "      <th>2</th>\n",
              "      <td>2</td>\n",
              "      <td>After You've Gone [jazz1350]</td>\n",
              "      <td>38</td>\n",
              "      <td>Home At Last [jazz1350]</td>\n",
              "      <td>0.793244</td>\n",
              "      <td>0.793244</td>\n",
              "      <td>1.000000</td>\n",
              "    </tr>\n",
              "    <tr>\n",
              "      <th>3</th>\n",
              "      <td>3</td>\n",
              "      <td>After You've Gone [jazz1350]</td>\n",
              "      <td>38</td>\n",
              "      <td>Star Dust [jazz1350]</td>\n",
              "      <td>0.883988</td>\n",
              "      <td>0.898297</td>\n",
              "      <td>1.000000</td>\n",
              "    </tr>\n",
              "    <tr>\n",
              "      <th>4</th>\n",
              "      <td>4</td>\n",
              "      <td>After You've Gone [jazz1350]</td>\n",
              "      <td>38</td>\n",
              "      <td>Make Someone Happy [jazz1350]</td>\n",
              "      <td>0.873533</td>\n",
              "      <td>0.898297</td>\n",
              "      <td>0.991859</td>\n",
              "    </tr>\n",
              "  </tbody>\n",
              "</table>\n",
              "</div>"
            ],
            "text/plain": [
              "  index                     reference  ...       max score_div_max\n",
              "0     0  After You've Gone [jazz1350]  ...  0.921087      1.000000\n",
              "1     1  After You've Gone [jazz1350]  ...  0.898297      1.000000\n",
              "2     2  After You've Gone [jazz1350]  ...  0.793244      1.000000\n",
              "3     3  After You've Gone [jazz1350]  ...  0.898297      1.000000\n",
              "4     4  After You've Gone [jazz1350]  ...  0.898297      0.991859\n",
              "\n",
              "[5 rows x 7 columns]"
            ]
          },
          "metadata": {},
          "execution_count": 95
        }
      ]
    },
    {
      "cell_type": "code",
      "metadata": {
        "colab": {
          "base_uri": "https://localhost:8080/",
          "height": 542
        },
        "id": "n4dv7VVe5NT4",
        "outputId": "3b48448f-0d09-4623-c707-aac186480f4a"
      },
      "source": [
        "import plotly.express as px\n",
        "fig = px.histogram(df_sim, x=\"score\", nbins=50, title='doc2vec sections')\n",
        "fig.show()"
      ],
      "execution_count": 96,
      "outputs": [
        {
          "output_type": "display_data",
          "data": {
            "text/html": [
              "<html>\n",
              "<head><meta charset=\"utf-8\" /></head>\n",
              "<body>\n",
              "    <div>\n",
              "            <script src=\"https://cdnjs.cloudflare.com/ajax/libs/mathjax/2.7.5/MathJax.js?config=TeX-AMS-MML_SVG\"></script><script type=\"text/javascript\">if (window.MathJax) {MathJax.Hub.Config({SVG: {font: \"STIX-Web\"}});}</script>\n",
              "                <script type=\"text/javascript\">window.PlotlyConfig = {MathJaxConfig: 'local'};</script>\n",
              "        <script src=\"https://cdn.plot.ly/plotly-latest.min.js\"></script>    \n",
              "            <div id=\"470cf578-c14a-400b-90cf-2ae7e34e82c5\" class=\"plotly-graph-div\" style=\"height:525px; width:100%;\"></div>\n",
              "            <script type=\"text/javascript\">\n",
              "                \n",
              "                    window.PLOTLYENV=window.PLOTLYENV || {};\n",
              "                    \n",
              "                if (document.getElementById(\"470cf578-c14a-400b-90cf-2ae7e34e82c5\")) {\n",
              "                    Plotly.newPlot(\n",
              "                        '470cf578-c14a-400b-90cf-2ae7e34e82c5',\n",
              "                        [{\"alignmentgroup\": \"True\", \"bingroup\": \"x\", \"hoverlabel\": {\"namelength\": 0}, \"hovertemplate\": \"score=%{x}<br>count=%{y}\", \"legendgroup\": \"\", \"marker\": {\"color\": \"#636efa\"}, \"name\": \"\", \"nbinsx\": 50, \"offsetgroup\": \"\", \"orientation\": \"v\", \"showlegend\": false, \"type\": \"histogram\", \"x\": [0.8807031512260437, 0.8776971101760864, 0.873533308506012, 0.8687864542007446, 0.8663555979728699, 0.8576448559761047, 0.8537911772727966, 0.8473994135856628, 0.8462432026863098, 0.8419718146324158, 0.8417305946350098, 0.8314580321311951, 0.8306101560592651, 0.8300380110740662, 0.8286451697349548, 0.8271716833114624, 0.8221251964569092, 0.8163307309150696, 0.8148420453071594, 0.8098771572113037, 0.8050740957260132, 0.803490936756134, 0.8032511472702026, 0.8020148873329163, 0.7986934185028076, 0.7979841232299805, 0.7968092560768127, 0.7957264184951782, 0.9210870265960693, 0.8900370001792908, 0.8897942304611206, 0.8747535347938538, 0.8733808994293213, 0.861535370349884, 0.8542768359184265, 0.8535990715026855, 0.8503888249397278, 0.8497101664543152, 0.8432302474975586, 0.8413673043251038, 0.8409171104431152, 0.8375387191772461, 0.8304786682128906, 0.8184380531311035, 0.8131203651428223, 0.8126715421676636, 0.8119338750839233, 0.8071077466011047, 0.8052449226379395, 0.7995651364326477, 0.7978507876396179, 0.7969772815704346, 0.7965072989463806, 0.7947631478309631, 0.7943212985992432, 0.792285680770874, 0.7877809405326843, 0.7868819832801819, 0.7849373817443848, 0.784058690071106, 0.8982969522476196, 0.8877291083335876, 0.8839881420135498, 0.882566511631012, 0.8783566355705261, 0.871839165687561, 0.8705719709396362, 0.8674076795578003, 0.8668717741966248, 0.8668258786201477, 0.8567569851875305, 0.8453983068466187, 0.8377088904380798, 0.8361137509346008, 0.8276715278625488, 0.8176147937774658, 0.8129544258117676, 0.812289297580719, 0.8102031350135803, 0.8092674016952515, 0.8054219484329224, 0.8034348487854004, 0.8005183935165405, 0.7979410290718079, 0.7978231906890869, 0.7968363165855408, 0.7966265082359314, 0.7963790893554688, 0.795215368270874, 0.7903473377227783, 0.7896366715431213, 0.793243944644928, 0.7594853043556213, 0.722748875617981, 0.7189193367958069, 0.7184345722198486, 0.71377032995224, 0.710851788520813, 0.7104376554489136, 0.7089425921440125, 0.707180917263031, 0.6974168419837952, 0.6910264492034912, 0.6898959875106812, 0.6896947026252747, 0.6882354021072388, 0.6835450530052185, 0.6824681162834167, 0.6801137328147888, 0.6749955415725708, 0.6725925207138062, 0.6647839546203613, 0.6647183895111084, 0.6606101989746094, 0.6599116921424866, 0.6586865782737732, 0.6586143970489502, 0.6577267050743103, 0.6504847407341003, 0.650269091129303, 0.6480582356452942, 0.6476743221282959, 0.6470611691474915, 0.6467078924179077, 0.9435941576957703, 0.939912736415863, 0.9210259318351746, 0.9205530881881714, 0.9165931344032288, 0.9104489088058472, 0.9099490642547607, 0.9072211384773254, 0.905468761920929, 0.8985182642936707, 0.8980817198753357, 0.8934847116470337, 0.8908328413963318, 0.8905116319656372, 0.8901178240776062, 0.8864917755126953, 0.8856072425842285, 0.8826962113380432, 0.8816071152687073, 0.8776839375495911, 0.8775747418403625, 0.8744425177574158, 0.8727343678474426, 0.8714067339897156, 0.8708838820457458, 0.8697553277015686, 0.8695219159126282, 0.8643341660499573, 0.863675057888031, 0.8618456721305847, 0.8581107258796692, 0.8573253750801086, 0.8498979806900024, 0.8480700254440308, 0.8440967798233032, 0.8995763659477234, 0.8977975249290466, 0.8938313126564026, 0.8613802194595337, 0.8579497933387756, 0.8563106060028076, 0.85396409034729, 0.8493009209632874, 0.8489121794700623, 0.8476575016975403, 0.8471784591674805, 0.8455264568328857, 0.8430199027061462, 0.8427419662475586, 0.8413096070289612, 0.8361640572547913, 0.8332246541976929, 0.8304952383041382, 0.8276160955429077, 0.8242251873016357, 0.8228448629379272, 0.8223201036453247, 0.8190065026283264, 0.8187224864959717, 0.8184829354286194, 0.8139626979827881, 0.8139501810073853, 0.8139150142669678, 0.8136722445487976, 0.8124369382858276, 0.8115192651748657, 0.8113948106765747, 0.8080257177352905, 0.8048601150512695, 0.8040786385536194, 0.804054319858551, 0.9003487825393677, 0.879426896572113, 0.8604739904403687, 0.849399983882904, 0.8437305688858032, 0.8428730368614197, 0.840728223323822, 0.8374041318893433, 0.8331831097602844, 0.8276342749595642, 0.8274255394935608, 0.8253365755081177, 0.8181102275848389, 0.8148694634437561, 0.8102808594703674, 0.8085939884185791, 0.7957013845443726, 0.7923008799552917, 0.7893741130828857, 0.7862049341201782, 0.7828055024147034, 0.7825683355331421, 0.780514657497406, 0.8949174284934998, 0.8772630095481873, 0.8738270998001099, 0.8714087009429932, 0.8438367247581482, 0.841780960559845, 0.8382685780525208, 0.8358837962150574, 0.8306257724761963, 0.8195173144340515, 0.8161413669586182, 0.8147538304328918, 0.8128323554992676, 0.8122255802154541, 0.809271514415741, 0.8051683306694031, 0.8014629483222961, 0.8012230396270752, 0.7998642921447754, 0.7989274859428406, 0.7987032532691956, 0.797633707523346, 0.7967623472213745, 0.7956046462059021, 0.7921510934829712, 0.7913829684257507, 0.7912254333496094, 0.7910233736038208, 0.7845467329025269, 0.783628523349762, 0.7830256223678589, 0.9246882796287537, 0.9062644243240356, 0.9035316109657288, 0.8854809999465942, 0.8756885528564453, 0.8527851104736328, 0.8524684906005859, 0.8511254191398621, 0.8481128215789795, 0.838572084903717, 0.8330855965614319, 0.8240246772766113, 0.8218473792076111, 0.8206778764724731, 0.8159397840499878, 0.8148322701454163, 0.8116894960403442, 0.8115909099578857, 0.8095544576644897, 0.8078296184539795, 0.8060489296913147, 0.8058817386627197, 0.8024766445159912, 0.801667332649231, 0.7989386916160583, 0.7983676195144653, 0.9726102948188782, 0.9699572324752808, 0.9654891490936279, 0.9645124077796936, 0.956234872341156, 0.9431426525115967, 0.9394598007202148, 0.931995689868927, 0.9318415522575378, 0.9278609752655029, 0.9271478056907654, 0.9270578026771545, 0.9259073734283447, 0.9237118363380432, 0.9200131893157959, 0.9199072122573853, 0.9186531901359558, 0.9180068373680115, 0.9157523512840271, 0.9150371551513672, 0.9109731912612915, 0.9100408554077148, 0.9094136953353882, 0.9085228443145752, 0.907676637172699, 0.9075318574905396, 0.9053292870521545, 0.9038322567939758, 0.9031543135643005, 0.9014753699302673, 0.9010295271873474, 0.9003229737281799, 0.8977563381195068, 0.8975602388381958, 0.8958130478858948, 0.8952706456184387, 0.8946447372436523, 0.9457912445068359, 0.9450080990791321, 0.9275850057601929, 0.9194565415382385, 0.9149371385574341, 0.9085591435432434, 0.9042752385139465, 0.9003732800483704, 0.8919529318809509, 0.8915498852729797, 0.8795398473739624, 0.8744045495986938, 0.8733976483345032, 0.8694210648536682, 0.8659765124320984, 0.8604198098182678, 0.8598453998565674, 0.8557779788970947, 0.8548795580863953, 0.8534947037696838, 0.8496962189674377, 0.8468614220619202, 0.8421539068222046, 0.8352445960044861, 0.8299811482429504, 0.82129967212677, 0.820800244808197, 0.8128000497817993, 0.8121656775474548, 0.8120143413543701, 0.9034932255744934, 0.8995254039764404, 0.8945662975311279, 0.8938478827476501, 0.8919143080711365, 0.8914492130279541, 0.8904460072517395, 0.8883639574050903, 0.8850431442260742, 0.8841282725334167, 0.8827086687088013, 0.8564208745956421, 0.8514111042022705, 0.8510459065437317, 0.8503492474555969, 0.845895528793335, 0.8457337021827698, 0.8438389301300049, 0.8437378406524658, 0.8430814743041992, 0.8395569920539856, 0.8365088105201721, 0.8337134718894958, 0.8336049914360046, 0.8334319591522217, 0.8304365873336792, 0.8299700021743774, 0.824831485748291, 0.8238981366157532, 0.8218315839767456, 0.8217427134513855, 0.819896936416626, 0.8597923517227173, 0.811785876750946, 0.8030357360839844, 0.7895830273628235, 0.7841061353683472, 0.7789974212646484, 0.7751328349113464, 0.7661566138267517, 0.7650757431983948, 0.7598499059677124, 0.7583958506584167, 0.7414395213127136, 0.7382982969284058, 0.7253068685531616, 0.709041953086853, 0.7090269923210144, 0.7065979838371277, 0.7050409913063049, 0.704694926738739, 0.7016523480415344, 0.699335515499115, 0.6966396570205688, 0.6936595439910889, 0.6860178709030151, 0.6844841241836548, 0.6831225156784058, 0.682288408279419, 0.677169144153595, 0.6729307174682617, 0.6697174906730652, 0.6695486307144165, 0.6687288880348206, 0.826473593711853, 0.7939350008964539, 0.7834609746932983, 0.7830259799957275, 0.7806142568588257, 0.7791593074798584, 0.7691302299499512, 0.7672742605209351, 0.7558380961418152, 0.7550442814826965, 0.7549744248390198, 0.750206470489502, 0.747037947177887, 0.7464123368263245, 0.7462090253829956, 0.7451194524765015, 0.7391297817230225, 0.7349151372909546, 0.7345030307769775, 0.7339618802070618, 0.7338550090789795, 0.7330867052078247, 0.7321939468383789, 0.7289210557937622, 0.7286188006401062, 0.7243127822875977, 0.7224715948104858, 0.7190241813659668, 0.71544349193573, 0.7048967480659485, 0.7039981484413147, 0.7991531491279602, 0.7672423124313354, 0.7612895965576172, 0.7473850250244141, 0.73940509557724, 0.7369008660316467, 0.7345814108848572, 0.732262134552002, 0.7319828867912292, 0.7293145060539246, 0.7273696660995483, 0.7206981182098389, 0.7179314494132996, 0.717785656452179, 0.7156844735145569, 0.7137587070465088, 0.7128085494041443, 0.7096397876739502, 0.7029585838317871, 0.7021548748016357, 0.6986827850341797, 0.6986181735992432, 0.6921617388725281, 0.6828707456588745, 0.6820089817047119, 0.6819342374801636, 0.6818839907646179, 0.6816340684890747, 0.6791882514953613, 0.6768501400947571, 0.6747068762779236, 0.6744043827056885, 0.6743468046188354, 0.6743165254592896, 0.8492883443832397, 0.8462405800819397, 0.8372974991798401, 0.8263770937919617, 0.8217721581459045, 0.8144917488098145, 0.8127530813217163, 0.8101064562797546, 0.8085644841194153, 0.7993567585945129, 0.7929900288581848, 0.7922286987304688, 0.7879753708839417, 0.7877511382102966, 0.7868614792823792, 0.7854822874069214, 0.7836000919342041, 0.7769516110420227, 0.7739397883415222, 0.7731003165245056, 0.7702574729919434, 0.7697367668151855, 0.7589871883392334, 0.7531799674034119, 0.7526170015335083, 0.7520381212234497, 0.7435884475708008, 0.7427682876586914, 0.7413763403892517, 0.6634719371795654, 0.632440447807312, 0.6219923496246338, 0.6007168889045715, 0.5991803407669067, 0.5890960693359375, 0.5812554359436035, 0.5794638991355896, 0.5674182772636414, 0.5649588108062744, 0.5594145655632019, 0.5590805411338806, 0.5514788031578064, 0.549772322177887, 0.5422666668891907, 0.5368574261665344, 0.5328611731529236, 0.5301381349563599, 0.5293093323707581, 0.5286943316459656, 0.5284849405288696, 0.5272679328918457, 0.510638952255249, 0.5101650953292847, 0.5086613893508911, 0.5058683753013611, 0.5050086975097656, 0.5037218928337097, 0.5024589896202087, 0.5021405816078186, 0.5013788342475891, 0.497987300157547, 0.8357644081115723, 0.8355288505554199, 0.7830880284309387, 0.7806516289710999, 0.7715387344360352, 0.7625707983970642, 0.7610699534416199, 0.7431346774101257, 0.7381308674812317, 0.7336419224739075, 0.7319872379302979, 0.730808436870575, 0.7284339666366577, 0.7268060445785522, 0.718480110168457, 0.7177228927612305, 0.7151618599891663, 0.7101901173591614, 0.709116518497467, 0.7081911563873291, 0.7056199312210083, 0.7050459980964661, 0.704676628112793, 0.7046502232551575, 0.8707817792892456, 0.8558089733123779, 0.8548887372016907, 0.8339062333106995, 0.8335952162742615, 0.8294256329536438, 0.814598560333252, 0.813379168510437, 0.8121086955070496, 0.8106120824813843, 0.8085535168647766, 0.8079718351364136, 0.8010708093643188, 0.7866470217704773, 0.7859440445899963, 0.7852294445037842, 0.7755476236343384, 0.7664790153503418, 0.7634479403495789, 0.7595564723014832, 0.7551697492599487, 0.7543243765830994, 0.7542670965194702, 0.7531701922416687, 0.7515974640846252, 0.7506145238876343, 0.744075357913971, 0.7440040707588196, 0.7439153790473938, 0.743444561958313, 0.7432693839073181, 0.834685206413269, 0.8230190277099609, 0.7908805012702942, 0.7864255905151367, 0.7759284377098083, 0.7710371017456055, 0.7656446695327759, 0.7653984427452087, 0.7341862916946411, 0.7317115664482117, 0.7258843183517456, 0.7241817116737366, 0.7227573990821838, 0.710127592086792, 0.7074382305145264, 0.7064444422721863, 0.703495442867279, 0.7024548053741455, 0.6894283294677734, 0.6891611218452454, 0.6873379945755005, 0.681482195854187, 0.6728740930557251, 0.6705256104469299, 0.658707320690155, 0.6559650897979736, 0.6509332656860352, 0.6507781147956848, 0.6436259150505066, 0.6430702805519104, 0.6419344544410706, 0.6419039368629456, 0.8559045195579529, 0.8335704803466797, 0.8064388632774353, 0.800423800945282, 0.7991095781326294, 0.787647008895874, 0.786398708820343, 0.7844511270523071, 0.7838639616966248, 0.7780748009681702, 0.7761865854263306, 0.7759652137756348, 0.7739474773406982, 0.7717167139053345, 0.7694099545478821, 0.7666316628456116, 0.7660692930221558, 0.7649410963058472, 0.7644922733306885, 0.7549834847450256, 0.7474459409713745, 0.7453489303588867, 0.7363823652267456, 0.7352097630500793, 0.7341817021369934, 0.7337559461593628, 0.7319320440292358, 0.7280641794204712, 0.7259104251861572, 0.9624707698822021, 0.940859317779541, 0.9252066016197205, 0.9200399518013, 0.9021516442298889, 0.8975659608840942, 0.8975085020065308, 0.895573616027832, 0.8783015608787537, 0.8760815262794495, 0.8736857175827026, 0.8727652430534363, 0.870301365852356, 0.8673340678215027, 0.8663198947906494, 0.8564316630363464, 0.8514958024024963, 0.8481632471084595, 0.840781033039093, 0.8382833003997803, 0.8371684551239014, 0.8369283080101013, 0.836298406124115, 0.8344804644584656, 0.8337783813476562, 0.8290950655937195, 0.8286268711090088, 0.8268007636070251, 0.8262495994567871, 0.8284038305282593, 0.814446210861206, 0.8124336004257202, 0.8058089017868042, 0.8032788634300232, 0.792544960975647, 0.7709828615188599, 0.7621238231658936, 0.7610298991203308, 0.759979784488678, 0.7595810890197754, 0.7544494271278381, 0.7541243433952332, 0.7506001591682434, 0.7407074570655823, 0.7402511239051819, 0.737026572227478, 0.7304532527923584, 0.7301836609840393, 0.7265510559082031, 0.7217832207679749, 0.7181437015533447, 0.7162723541259766, 0.7151072025299072, 0.7141076326370239, 0.7125653624534607, 0.712518572807312, 0.7114087343215942, 0.7109687924385071, 0.7107851505279541, 0.7087111473083496, 0.7079824209213257, 0.707514226436615, 0.7068042159080505, 0.7051326632499695, 0.6998744010925293, 0.6998515129089355, 0.9595378637313843, 0.9301453232765198, 0.9163179397583008, 0.9088411331176758, 0.8881895542144775, 0.8771427869796753, 0.8704206943511963, 0.866167426109314, 0.8618443608283997, 0.8618091344833374, 0.8468464612960815, 0.8439100980758667, 0.8434780836105347, 0.8291102647781372, 0.8277157545089722, 0.8276054859161377, 0.8275725841522217, 0.8273621797561646, 0.823927640914917, 0.8239232301712036, 0.823830783367157, 0.823737621307373, 0.8211845755577087, 0.8197658061981201, 0.8170308470726013, 0.8140507936477661, 0.7694072723388672, 0.7585911750793457, 0.7378472089767456, 0.7022103071212769, 0.7020046710968018, 0.6910591125488281, 0.6858208179473877, 0.6817479133605957, 0.6816585659980774, 0.6789121031761169, 0.6776052713394165, 0.6705324053764343, 0.6682702898979187, 0.6665975451469421, 0.664593517780304, 0.663921058177948, 0.6637292504310608, 0.6634950637817383, 0.6627740263938904, 0.6542246341705322, 0.6532991528511047, 0.6510555744171143, 0.6509113907814026, 0.6498660445213318, 0.6487294435501099, 0.6465810537338257, 0.6459913849830627, 0.6440076231956482, 0.6403266787528992, 0.6403059959411621, 0.6391221880912781, 0.6381600499153137, 0.6336139440536499, 0.6333507895469666, 0.6327724456787109, 0.6327232718467712, 0.6296100616455078, 0.9462088942527771, 0.9244231581687927, 0.919579029083252, 0.918692946434021, 0.9138851165771484, 0.9119808673858643, 0.9104791879653931, 0.908746063709259, 0.9072211980819702, 0.9070748090744019, 0.905447244644165, 0.9048231840133667, 0.9009084701538086, 0.8990635275840759, 0.8980569839477539, 0.8973644971847534, 0.896809458732605, 0.8958531618118286, 0.895307719707489, 0.8946087956428528, 0.8945183157920837, 0.893025815486908, 0.8916900157928467, 0.8901034593582153, 0.8899241089820862, 0.8895925283432007, 0.8879591822624207, 0.8870176672935486, 0.8868599534034729, 0.8862961530685425, 0.8834482431411743, 0.8794172406196594, 0.9118087887763977, 0.907778799533844, 0.8899663686752319, 0.8700147271156311, 0.8646018505096436, 0.8486048579216003, 0.841244637966156, 0.8341637253761292, 0.8187068700790405, 0.8147940635681152, 0.8057637214660645, 0.8036941885948181, 0.8034142255783081, 0.7947714924812317, 0.7886617183685303, 0.7869996428489685, 0.7853860855102539, 0.780873715877533, 0.7786873579025269, 0.7755476832389832, 0.771679699420929, 0.7699639201164246, 0.7656188011169434, 0.7646464109420776, 0.764403760433197, 0.7604996562004089, 0.7592592239379883, 0.7559099197387695, 0.7537205815315247, 0.9334231615066528, 0.9263730645179749, 0.9252431988716125, 0.9221562147140503, 0.9200200438499451, 0.9195449352264404, 0.9138469696044922, 0.9103922247886658, 0.9090065956115723, 0.908542811870575, 0.9076187014579773, 0.9068784117698669, 0.905953586101532, 0.9053642749786377, 0.903551459312439, 0.9030515551567078, 0.9001050591468811, 0.8988417983055115, 0.8979558944702148, 0.8959899544715881, 0.8933437466621399, 0.8919044733047485, 0.8913780450820923, 0.8871012926101685, 0.8850603103637695, 0.8842981457710266, 0.8829217553138733, 0.8810197710990906, 0.8800014853477478, 0.8794122934341431, 0.8776262402534485, 0.8764845132827759, 0.8728470206260681, 0.8701738119125366, 0.8697929382324219, 0.8990917801856995, 0.893732488155365, 0.8691822290420532, 0.8604739308357239, 0.8557037115097046, 0.8519192934036255, 0.8514916300773621, 0.8512486815452576, 0.8489415049552917, 0.8432349562644958, 0.841597855091095, 0.8406992554664612, 0.8369146585464478, 0.8345997333526611, 0.8241535425186157, 0.8210061192512512, 0.8184437155723572, 0.818398118019104, 0.8176186680793762, 0.8151260018348694, 0.8120236992835999, 0.805687427520752, 0.8035237193107605, 0.7961379885673523, 0.7919038534164429, 0.9199343919754028, 0.9116479754447937, 0.9005913138389587, 0.8978096842765808, 0.8936381936073303, 0.8928389549255371, 0.8866487145423889, 0.8710527420043945, 0.8703808188438416, 0.8615884184837341, 0.8613680005073547, 0.8613091111183167, 0.8605076670646667, 0.8599004149436951, 0.8596135377883911, 0.8580714464187622, 0.8550956845283508, 0.854578971862793, 0.8496886491775513, 0.8488724827766418, 0.8465268015861511, 0.8457286953926086, 0.8451423048973083, 0.8450876474380493, 0.843738317489624, 0.8436403274536133, 0.8418956398963928, 0.8409895300865173, 0.8404154181480408, 0.8404101729393005, 0.8393657207489014, 0.839170515537262, 0.9344392418861389, 0.9151079058647156, 0.9058974981307983, 0.9001158475875854, 0.8983393311500549, 0.8924842476844788, 0.8901178240776062, 0.8883499503135681, 0.887532114982605, 0.8868551850318909, 0.8768870234489441, 0.8675028681755066, 0.8645268082618713, 0.8562817573547363, 0.8562044501304626, 0.8533641695976257, 0.8523911237716675, 0.847809910774231, 0.8477596640586853, 0.8465167880058289, 0.845768392086029, 0.8454934358596802, 0.8407882452011108, 0.839857280254364, 0.8386437296867371, 0.8380084037780762, 0.8374658823013306, 0.8345671892166138, 0.8344235420227051, 0.8338423371315002, 0.8337449431419373, 0.8291147351264954, 0.8599433302879333, 0.8493119478225708, 0.829460084438324, 0.8269646763801575, 0.826395571231842, 0.8234516978263855, 0.8188166618347168, 0.7909748554229736, 0.7889386415481567, 0.7886024117469788, 0.7867801785469055, 0.7810989618301392, 0.7803779244422913, 0.7779859900474548, 0.7670794129371643, 0.7614690661430359, 0.7531557679176331, 0.7494605183601379, 0.7478521466255188, 0.7425401210784912, 0.7397783398628235, 0.7373383045196533, 0.7351382970809937, 0.7259030342102051, 0.7210341691970825, 0.7197880148887634, 0.71872878074646, 0.7170990109443665, 0.716066837310791, 0.712254524230957, 0.7709869742393494, 0.6784935593605042, 0.6695684790611267, 0.6565373539924622, 0.5659846663475037, 0.5550719499588013, 0.5488940477371216, 0.5383260250091553, 0.5353019833564758, 0.5305100083351135, 0.526350736618042, 0.5192500352859497, 0.5123764276504517, 0.5096844434738159, 0.5076444745063782, 0.4852856397628784, 0.4840967357158661, 0.47785305976867676, 0.4722663462162018, 0.4707682430744171, 0.46620211005210876, 0.4596760869026184, 0.45847347378730774, 0.4547235071659088, 0.45239531993865967, 0.4505748748779297, 0.4459080696105957, 0.4434417486190796, 0.44272416830062866, 0.4381439983844757, 0.43515560030937195, 0.43498554825782776, 0.43217146396636963, 0.43147844076156616, 0.42990541458129883, 0.4281991720199585, 0.423956036567688, 0.4226744771003723, 0.8757168650627136, 0.8737384676933289, 0.8339471220970154, 0.8238637447357178, 0.8207144141197205, 0.8149020671844482, 0.8112063407897949, 0.8048277497291565, 0.8023629188537598, 0.7872698307037354, 0.78650963306427, 0.7860450148582458, 0.7787309288978577, 0.7753890156745911, 0.7652942538261414, 0.7601153254508972, 0.7578432559967041, 0.7544267177581787, 0.7429918646812439, 0.7355557084083557, 0.7302496433258057, 0.7284545302391052, 0.7270799279212952, 0.7142176628112793, 0.7087801694869995, 0.7087161540985107, 0.7080286145210266, 0.7075108289718628, 0.7368947863578796, 0.7339631915092468, 0.7198821902275085, 0.7049113512039185, 0.6909536123275757, 0.6886633038520813, 0.675040602684021, 0.6654890775680542, 0.6592340469360352, 0.651818573474884, 0.6473519802093506, 0.6405197978019714, 0.6376240253448486, 0.637150764465332, 0.636211097240448, 0.6246952414512634, 0.6231599450111389, 0.6178433299064636, 0.617763876914978, 0.6163354516029358, 0.609160304069519, 0.6076101660728455, 0.6072772145271301, 0.6072347164154053, 0.6042370796203613, 0.6026079654693604, 0.6020296812057495, 0.6004089713096619, 0.6000978946685791, 0.5969691276550293, 0.590340793132782, 0.5896411538124084, 0.5896321535110474, 0.5895670056343079, 0.5870007872581482, 0.5822742581367493, 0.5820208787918091, 0.5803399682044983, 0.5781992077827454, 0.5763974189758301, 0.9430537819862366, 0.9364497065544128, 0.9276816844940186, 0.9271695613861084, 0.9213349223136902, 0.9154387712478638, 0.9142566323280334, 0.9121626615524292, 0.9038006067276001, 0.9018504023551941, 0.8964889645576477, 0.8960803151130676, 0.8955913186073303, 0.8929393291473389, 0.8905722498893738, 0.890471875667572, 0.8891855478286743, 0.886598527431488, 0.8797431588172913, 0.8793087601661682, 0.8784831166267395, 0.8769001364707947, 0.8723751306533813, 0.8696411848068237, 0.8690672516822815, 0.8688233494758606, 0.8682667016983032, 0.8671223521232605, 0.8652878999710083, 0.8647533655166626, 0.8638192415237427, 0.8599528074264526, 0.8598213195800781, 0.8574883937835693, 0.8573647737503052, 0.9174947142601013, 0.9072904586791992, 0.9050577878952026, 0.9037107229232788, 0.901472270488739, 0.8958941698074341, 0.8936917185783386, 0.891143262386322, 0.8877729177474976, 0.8872727751731873, 0.8802317976951599, 0.879541277885437, 0.8790294528007507, 0.877923846244812, 0.8777009844779968, 0.8745231032371521, 0.8689560294151306, 0.8683016896247864, 0.8681440949440002, 0.8680550456047058, 0.8675950765609741, 0.8673980236053467, 0.8668971061706543, 0.8646400570869446, 0.8624382615089417, 0.8612503409385681, 0.8572288155555725, 0.8554621338844299, 0.8548917174339294, 0.8547766804695129, 0.8529536128044128, 0.8525350093841553, 0.8501641750335693, 0.9738302826881409, 0.9646489024162292, 0.9593644142150879, 0.9555511474609375, 0.9538320302963257, 0.9379959106445312, 0.9332506060600281, 0.9289674162864685, 0.92544025182724, 0.9183353781700134, 0.9085116386413574, 0.8976961970329285, 0.8897386193275452, 0.8889608383178711, 0.8873664736747742, 0.880455732345581, 0.880018413066864, 0.8778499364852905, 0.8775618672370911, 0.8765252828598022, 0.8710631132125854, 0.8702132105827332, 0.8652283549308777, 0.8648043870925903, 0.8644121885299683, 0.8616053462028503, 0.8599923253059387, 0.8583932518959045, 0.8539063334465027, 0.8528211116790771, 0.8526783585548401, 0.8489363789558411, 0.843920886516571, 0.842886745929718, 0.8410232663154602, 0.939469039440155, 0.9228973388671875, 0.9091496467590332, 0.9014040231704712, 0.9010827541351318, 0.9009475111961365, 0.899774432182312, 0.8994333148002625, 0.898733377456665, 0.8979559540748596, 0.8958371877670288, 0.8943043947219849, 0.8933414816856384, 0.8918383717536926, 0.8916846513748169, 0.8909160494804382, 0.8896812796592712, 0.888737142086029, 0.8874081969261169, 0.8868260383605957, 0.8854094743728638, 0.883725643157959, 0.8835577964782715, 0.8831583857536316, 0.8828588724136353, 0.881832480430603, 0.8784852623939514, 0.8773050904273987, 0.8766605854034424, 0.8762859106063843, 0.875552773475647, 0.8732179403305054, 0.8706474304199219, 0.869073212146759, 0.8684077262878418, 0.9435347318649292, 0.9355477094650269, 0.9062305092811584, 0.90577232837677, 0.8877291679382324, 0.8848066329956055, 0.8718358874320984, 0.8622623085975647, 0.8617088198661804, 0.8615501523017883, 0.8607463836669922, 0.8583325743675232, 0.8555230498313904, 0.8545618057250977, 0.8532547950744629, 0.8498454093933105, 0.8473994135856628, 0.846222996711731, 0.8432052135467529, 0.84247887134552, 0.8395952582359314, 0.828697681427002, 0.8255851864814758, 0.8192605972290039, 0.8191304206848145, 0.8189986944198608, 0.8185449242591858, 0.8180151581764221, 0.8152535557746887, 0.8132771253585815, 0.8122699856758118, 0.810417890548706, 0.8096362352371216, 0.9717064499855042, 0.9676949381828308, 0.9669443964958191, 0.9581254124641418, 0.9555215239524841, 0.9518072009086609, 0.9497722387313843, 0.9464925527572632, 0.9464889168739319, 0.945906400680542, 0.9456265568733215, 0.9444043040275574, 0.9437506794929504, 0.9422087073326111, 0.9407075643539429, 0.938778817653656, 0.9386450052261353, 0.9375991225242615, 0.9349545836448669, 0.9330800771713257, 0.9318355917930603, 0.9312860369682312, 0.9306636452674866, 0.9295750856399536, 0.9271955490112305, 0.9269727468490601, 0.9262752532958984, 0.9261137843132019, 0.9241976737976074, 0.9220209121704102, 0.9204097390174866, 0.9194634556770325, 0.9169053435325623, 0.9167271852493286, 0.9150630831718445, 0.9150217771530151, 0.9134052991867065, 0.9116796255111694, 0.9109862446784973, 0.9290243983268738, 0.9180088639259338, 0.9170299172401428, 0.9145011305809021, 0.9115715622901917, 0.892440140247345, 0.8923208713531494, 0.8910191059112549, 0.8857706189155579, 0.8849235773086548, 0.8759670853614807, 0.8638386130332947, 0.8638290762901306, 0.8565962314605713, 0.8542744517326355, 0.8528220057487488, 0.852173388004303, 0.8373726606369019, 0.8331150412559509, 0.8319042325019836, 0.8309265375137329, 0.8299689292907715, 0.8254234194755554, 0.8247554898262024, 0.822645902633667, 0.8226242661476135, 0.8221622705459595, 0.8206286430358887, 0.8188139200210571, 0.8148861527442932, 0.9059165120124817, 0.8949330449104309, 0.8815564513206482, 0.86423659324646, 0.8395407199859619, 0.8338403701782227, 0.8311566114425659, 0.8161038756370544, 0.8059752583503723, 0.8038017153739929, 0.7903702855110168, 0.7878650426864624, 0.7828190922737122, 0.7824950218200684, 0.7823935151100159, 0.7738631963729858, 0.7718687057495117, 0.7697598338127136, 0.7608362436294556, 0.7603582739830017, 0.7523331046104431, 0.7507985830307007, 0.7490999102592468, 0.7481375932693481, 0.7440239787101746, 0.7416636943817139, 0.7381002902984619, 0.7310805320739746, 0.7310130596160889, 0.9274066090583801, 0.9151503443717957, 0.9129391312599182, 0.910024881362915, 0.9099730253219604, 0.9091464281082153, 0.9089702367782593, 0.9086515307426453, 0.9025480151176453, 0.89363694190979, 0.8902183175086975, 0.8865748643875122, 0.8861331939697266, 0.883441150188446, 0.8831732273101807, 0.8799778819084167, 0.8794428706169128, 0.8784644603729248, 0.8779081702232361, 0.8752505779266357, 0.8746178150177002, 0.8701474666595459, 0.867510199546814, 0.8616200685501099, 0.860990047454834, 0.8560770153999329, 0.8505480289459229, 0.8502221703529358, 0.8495740294456482, 0.8665772080421448, 0.8644814491271973, 0.8511443138122559, 0.847140371799469, 0.8079953193664551, 0.8028480410575867, 0.7707685828208923, 0.7682977914810181, 0.750177264213562, 0.7334833741188049, 0.7287044525146484, 0.727686882019043, 0.7269040942192078, 0.7265127897262573, 0.7230518460273743, 0.7226487398147583, 0.721121072769165, 0.7191908955574036, 0.7178178429603577, 0.7152829170227051, 0.7130182385444641, 0.711886465549469, 0.7110286951065063, 0.7092111706733704, 0.7048313617706299, 0.7043569087982178, 0.7006359696388245, 0.6983730792999268, 0.6967268586158752, 0.9130092263221741, 0.8947718143463135, 0.8938270807266235, 0.8846129775047302, 0.8838211894035339, 0.8812392354011536, 0.8756136894226074, 0.8704161047935486, 0.8688806891441345, 0.8677797317504883, 0.8655362129211426, 0.8641306161880493, 0.8618893623352051, 0.8585376739501953, 0.8571062684059143, 0.8561715483665466, 0.8479640483856201, 0.8472310900688171, 0.8440578579902649, 0.843832790851593, 0.8428747057914734, 0.8417917490005493, 0.8414403200149536, 0.8366337418556213, 0.8348599672317505, 0.8329971432685852, 0.8273295760154724, 0.825005292892456, 0.8237110376358032, 0.8188806772232056, 0.8184105753898621, 0.8181648254394531, 0.8164334893226624, 0.8151842951774597, 0.8147293925285339, 0.8146041035652161, 0.813884437084198, 0.9259907007217407, 0.9036577939987183, 0.8976856470108032, 0.8969224095344543, 0.8888700008392334, 0.8887739181518555, 0.8786017298698425, 0.8784627318382263, 0.8783876299858093, 0.8755794167518616, 0.874630868434906, 0.8743053674697876, 0.8718940615653992, 0.8688161373138428, 0.8655701279640198, 0.8648156523704529, 0.8633867502212524, 0.8631624579429626, 0.8619204759597778, 0.8614361882209778, 0.8612828850746155, 0.8609015941619873, 0.8588458895683289, 0.8587648272514343, 0.8582597374916077, 0.8577576279640198, 0.9524453282356262, 0.9506588578224182, 0.9410662651062012, 0.9396013021469116, 0.9384899735450745, 0.9354151487350464, 0.9352324604988098, 0.9330468773841858, 0.9306783080101013, 0.9301207065582275, 0.9254868030548096, 0.9246009588241577, 0.9228149056434631, 0.9222496151924133, 0.9192547798156738, 0.9150067567825317, 0.8998792171478271, 0.8978493809700012, 0.893838107585907, 0.8893166184425354, 0.8858996629714966, 0.8786515593528748, 0.8745223879814148, 0.8734881281852722, 0.8688920736312866, 0.8647169470787048, 0.8594324588775635, 0.8579537272453308, 0.8578169345855713, 0.8547283411026001, 0.8544285297393799, 0.8538498282432556, 0.8525267839431763, 0.8525136709213257, 0.8524845838546753, 0.8521926403045654, 0.8511687517166138, 0.8502289056777954, 0.8457279801368713, 0.9254412651062012, 0.9097614884376526, 0.8938481211662292, 0.8844024538993835, 0.8791581988334656, 0.8722743988037109, 0.8701015114784241, 0.8603490591049194, 0.8595041632652283, 0.8543964624404907, 0.8496817946434021, 0.8475589156150818, 0.8425024747848511, 0.8419159054756165, 0.8415820598602295, 0.839535117149353, 0.8376132845878601, 0.8364346027374268, 0.8322490453720093, 0.8315286040306091, 0.8292346000671387, 0.8290765881538391, 0.826619565486908, 0.8253388404846191, 0.8236052393913269, 0.8235995769500732, 0.8232901692390442, 0.8211988210678101, 0.8185184001922607, 0.8162278532981873, 0.8161274790763855, 0.8154280185699463, 0.8145009875297546, 0.8124594688415527, 0.810361921787262, 0.9763789176940918, 0.9538031220436096, 0.9001204371452332, 0.8857605457305908, 0.8834121823310852, 0.8825283050537109, 0.8784297704696655, 0.8744942545890808, 0.873506486415863, 0.873401403427124, 0.8710343837738037, 0.8619837164878845, 0.857887327671051, 0.8508815169334412, 0.8469560742378235, 0.8395462036132812, 0.8393076658248901, 0.8389342427253723, 0.8357548713684082, 0.830711841583252, 0.8303335905075073, 0.8296424746513367, 0.8277226686477661, 0.955995500087738, 0.9347834587097168, 0.9150304198265076, 0.8913803696632385, 0.8818988800048828, 0.8679419755935669, 0.8650356531143188, 0.8592259883880615, 0.8586603403091431, 0.8583656549453735, 0.8579602837562561, 0.8505720496177673, 0.8499045968055725, 0.848518967628479, 0.8483866453170776, 0.8473219275474548, 0.8471044301986694, 0.8461830615997314, 0.8455526828765869, 0.8439629077911377, 0.8404885530471802, 0.8400927782058716, 0.8386924862861633, 0.836858868598938, 0.8347988724708557, 0.83443284034729, 0.8279984593391418, 0.9520727396011353, 0.9482341408729553, 0.9450439214706421, 0.9358967542648315, 0.9348517060279846, 0.933863639831543, 0.9323385953903198, 0.9298872351646423, 0.9216866493225098, 0.9007326364517212, 0.8977884650230408, 0.8962649703025818, 0.8949794173240662, 0.8932532668113708, 0.8914117217063904, 0.8809534311294556, 0.8777483105659485, 0.8763916492462158, 0.8720031976699829, 0.8713334798812866, 0.8710647821426392, 0.8696021437644958, 0.8689016103744507, 0.8619340062141418, 0.8603671789169312, 0.8580285310745239, 0.855277955532074, 0.8538402915000916, 0.8529132008552551, 0.8528867959976196, 0.8524299263954163, 0.8472008109092712, 0.8457788228988647, 0.838028609752655, 0.8333913683891296, 0.8325327038764954, 0.847192108631134, 0.8442768454551697, 0.8367092609405518, 0.8303422331809998, 0.820956289768219, 0.8044643402099609, 0.7978821992874146, 0.7918291091918945, 0.7897120714187622, 0.7862114310264587, 0.7858431339263916, 0.7700761556625366, 0.7661684155464172, 0.7648428678512573, 0.760501503944397, 0.7572803497314453, 0.7561165690422058, 0.7484518885612488, 0.7454081177711487, 0.7346948981285095, 0.7308133840560913, 0.7294729948043823, 0.7265663743019104, 0.7264639139175415, 0.7235249876976013, 0.7216763496398926, 0.7202813029289246, 0.8864212036132812, 0.8719761967658997, 0.8580799698829651, 0.8580602407455444, 0.8469358086585999, 0.8450591564178467, 0.84226393699646, 0.840171217918396, 0.8352181315422058, 0.8291025161743164, 0.8247240781784058, 0.8231132626533508, 0.8227889537811279, 0.8221895694732666, 0.8207141757011414, 0.8203981518745422, 0.818462610244751, 0.815158486366272, 0.8148952126502991, 0.8075318336486816, 0.8055865168571472, 0.8055456280708313, 0.9201554656028748, 0.918222963809967, 0.9021483063697815, 0.8929229974746704, 0.8923161625862122, 0.8864020705223083, 0.8757284879684448, 0.8721228241920471, 0.871486485004425, 0.8709372282028198, 0.8614475131034851, 0.8529697060585022, 0.8518134951591492, 0.8498499393463135, 0.8498187065124512, 0.8439143300056458, 0.8436319828033447, 0.8426845669746399, 0.8410515189170837, 0.8385264277458191, 0.8378875255584717, 0.8368842005729675, 0.8367893099784851, 0.8347541093826294, 0.8338946104049683, 0.833818793296814, 0.8330509066581726, 0.8321681022644043, 0.8296545147895813, 0.8293985724449158, 0.8286696672439575, 0.8272662162780762, 0.826497495174408, 0.8426831364631653, 0.8134023547172546, 0.7905147671699524, 0.7706782221794128, 0.769882321357727, 0.7582556009292603, 0.7579104900360107, 0.7557001113891602, 0.7476851344108582, 0.7451472878456116, 0.7443073987960815, 0.7386229038238525, 0.733465850353241, 0.7326107621192932, 0.7175371646881104, 0.7167022228240967, 0.7152841091156006, 0.714728057384491, 0.7125681042671204, 0.7123242616653442, 0.7110834121704102, 0.7100616097450256, 0.7090762853622437, 0.7050346732139587, 0.7019218802452087, 0.6992926001548767, 0.6990221738815308, 0.6960039734840393, 0.689663827419281, 0.689598798751831, 0.686715841293335, 0.6863100528717041, 0.6849274039268494, 0.6833444237709045, 0.6762259602546692, 0.8933501243591309, 0.8859295845031738, 0.8693356513977051, 0.8598083257675171, 0.8490983843803406, 0.8453004956245422, 0.844843327999115, 0.8342415690422058, 0.827049195766449, 0.8251417279243469, 0.8164527416229248, 0.8160771131515503, 0.815871000289917, 0.8146587014198303, 0.8111085891723633, 0.80857914686203, 0.8066033720970154, 0.805014967918396, 0.8031724095344543, 0.8029801249504089, 0.802415132522583, 0.8020756244659424, 0.800771951675415, 0.7991320490837097, 0.7984750866889954, 0.7970158457756042, 0.7950815558433533, 0.7947728633880615, 0.7930225729942322, 0.7929084897041321, 0.8976680636405945, 0.8931021690368652, 0.8861554265022278, 0.8603135943412781, 0.8485181927680969, 0.8375487923622131, 0.8365266919136047, 0.8342615365982056, 0.8325456380844116, 0.8315732479095459, 0.8291635513305664, 0.8259450793266296, 0.8217722177505493, 0.8177145719528198, 0.806589663028717, 0.7991241812705994, 0.794592022895813, 0.7939350008964539, 0.7922375798225403, 0.7883564233779907, 0.7855138182640076, 0.7738889455795288, 0.7699816823005676, 0.7694270610809326, 0.7646591067314148, 0.7617061138153076, 0.7579760551452637, 0.7579036951065063, 0.7518284916877747, 0.7467479705810547, 0.7466610074043274, 0.9037567973136902, 0.8462224006652832, 0.8288487195968628, 0.8220931887626648, 0.8038464784622192, 0.7986878752708435, 0.7931264638900757, 0.79298996925354, 0.7915582060813904, 0.788003146648407, 0.7873125672340393, 0.782541811466217, 0.7718853950500488, 0.7676531076431274, 0.7626891136169434, 0.7601680159568787, 0.7585894465446472, 0.74928879737854, 0.7466136813163757, 0.7422698140144348, 0.7367585897445679, 0.7349748611450195, 0.7321934103965759, 0.7320837378501892, 0.7319889664649963, 0.7307530045509338, 0.7290951609611511, 0.8296791911125183, 0.8090009689331055, 0.80766761302948, 0.7774064540863037, 0.7689737677574158, 0.7648224234580994, 0.7437779903411865, 0.7402855753898621, 0.7331521511077881, 0.7181695103645325, 0.7166522145271301, 0.7125642895698547, 0.7097965478897095, 0.7007181644439697, 0.695689857006073, 0.6933456063270569, 0.6857200860977173, 0.6840681433677673, 0.6812775135040283, 0.6803786754608154, 0.6752064824104309, 0.6740332841873169, 0.6679985523223877, 0.663162887096405, 0.6588909029960632, 0.6587072610855103, 0.6581940650939941, 0.6561329960823059, 0.6549760103225708, 0.6440888047218323, 0.6397325992584229, 0.7984415292739868, 0.7755983471870422, 0.7715449333190918, 0.7675660848617554, 0.7622932195663452, 0.7596839070320129, 0.7575415968894958, 0.7570257782936096, 0.7563914060592651, 0.7510083317756653, 0.7502065300941467, 0.7491255402565002, 0.7304837703704834, 0.7262012958526611, 0.7219952940940857, 0.7172017097473145, 0.7099449634552002, 0.7069423794746399, 0.704675018787384, 0.7029858231544495, 0.6944162845611572, 0.6935386061668396, 0.6898130774497986, 0.6834167242050171, 0.6831063628196716, 0.6807643175125122, 0.6793140769004822, 0.6788703799247742, 0.6774449944496155, 0.6767863631248474, 0.6718923449516296, 0.6715613603591919, 0.6714199185371399, 0.6691816449165344, 0.9163229465484619, 0.9124852418899536, 0.9073838591575623, 0.9017118215560913, 0.8941288590431213, 0.8845071196556091, 0.8822310566902161, 0.879555344581604, 0.8793627619743347, 0.8777822256088257, 0.8760707974433899, 0.8739234209060669, 0.8736434578895569, 0.8722700476646423, 0.8653697371482849, 0.8619441986083984, 0.858873724937439, 0.8588243126869202, 0.8552669882774353, 0.853058397769928, 0.8528378009796143, 0.8509981036186218, 0.847439169883728, 0.8470042943954468, 0.842212438583374, 0.8400720953941345, 0.8396493196487427, 0.837627649307251, 0.8354473114013672, 0.957134485244751, 0.9554410576820374, 0.9512807726860046, 0.9357221126556396, 0.9325131773948669, 0.9282881617546082, 0.920684278011322, 0.9096437692642212, 0.9044644236564636, 0.9010374546051025, 0.8988574147224426, 0.8982967734336853, 0.8962599635124207, 0.8948107361793518, 0.8929758667945862, 0.8925797343254089, 0.8925391435623169, 0.8923364281654358, 0.8908132314682007, 0.8851845860481262, 0.8846179842948914, 0.88289475440979, 0.8800778388977051, 0.8774028420448303, 0.873268723487854, 0.8722794055938721, 0.8720013499259949, 0.8711627721786499, 0.8707384467124939, 0.8694189786911011, 0.8687532544136047, 0.8651319742202759, 0.8648636341094971, 0.8647788763046265, 0.8647549748420715, 0.8640537261962891, 0.8578604459762573, 0.9499330520629883, 0.9309220910072327, 0.9202515482902527, 0.9152954816818237, 0.9105689525604248, 0.9087777137756348, 0.9006146788597107, 0.8970564007759094, 0.8967393636703491, 0.8965604305267334, 0.8929550647735596, 0.8915690183639526, 0.8871031999588013, 0.8857485055923462, 0.881759524345398, 0.8807216882705688, 0.8791021108627319, 0.8738890886306763, 0.8715713024139404, 0.8710108995437622, 0.8698354959487915, 0.8695791363716125, 0.8683326244354248, 0.8672221302986145, 0.8661437630653381, 0.862915575504303, 0.8623025417327881, 0.8617272973060608, 0.8614525198936462, 0.8606063723564148, 0.9754685163497925, 0.9736112952232361, 0.9735814332962036, 0.9734840989112854, 0.9681214690208435, 0.9671099781990051, 0.9664121866226196, 0.9634981751441956, 0.9627350568771362, 0.9593386054039001, 0.9590964317321777, 0.9568055272102356, 0.9503898024559021, 0.9482658505439758, 0.9470032453536987, 0.9443190693855286, 0.9431504011154175, 0.9408457279205322, 0.9383413195610046, 0.9357755184173584, 0.9316192269325256, 0.9248862266540527, 0.9211599826812744, 0.9175906181335449, 0.9018657803535461, 0.8932533860206604, 0.8897210955619812, 0.8876010179519653, 0.8857153058052063, 0.8805184960365295, 0.8784675002098083, 0.8729691505432129, 0.8645243644714355, 0.8615155220031738, 0.8582215905189514, 0.8511574268341064, 0.8447586894035339, 0.8423071503639221, 0.8307796120643616, 0.8301010131835938, 0.9521601796150208, 0.9440224766731262, 0.9389505386352539, 0.9349482655525208, 0.9246960878372192, 0.9226573705673218, 0.9193409085273743, 0.9137754440307617, 0.9102510809898376, 0.909807026386261, 0.9087817668914795, 0.9062803387641907, 0.9050172567367554, 0.9044405221939087, 0.902564525604248, 0.9021503925323486, 0.9019807577133179, 0.9007636308670044, 0.8981785178184509, 0.8979325890541077, 0.894849419593811, 0.8933753371238708, 0.8930650949478149, 0.8874948620796204, 0.8863374590873718, 0.8844687938690186, 0.8835254311561584, 0.8810012936592102, 0.8806168437004089, 0.879014790058136, 0.8779469132423401, 0.8734299540519714, 0.8721697926521301, 0.8124369382858276, 0.7623633146286011, 0.7310572862625122, 0.7270353436470032, 0.7216269969940186, 0.7215909361839294, 0.7142722010612488, 0.7073781490325928, 0.7051151394844055, 0.7035048604011536, 0.702665388584137, 0.7024866938591003, 0.701193630695343, 0.6932572722434998, 0.6910949349403381, 0.6904604434967041, 0.6777364015579224, 0.6683528423309326, 0.6656013131141663, 0.6614158749580383, 0.6584231853485107, 0.6570930480957031, 0.656069278717041, 0.915685772895813, 0.8727422952651978, 0.8679836988449097, 0.8588091731071472, 0.8570070862770081, 0.840583860874176, 0.8146083354949951, 0.8138697147369385, 0.7852365970611572, 0.7796485424041748, 0.7698918581008911, 0.7605814933776855, 0.7603530883789062, 0.7582535147666931, 0.755933940410614, 0.7541378140449524, 0.753441572189331, 0.7528920769691467, 0.7504346966743469, 0.7454036474227905, 0.7442351579666138, 0.7440024018287659, 0.74330073595047, 0.7416032552719116, 0.7404130697250366, 0.7382782697677612, 0.7379810214042664, 0.7344159483909607, 0.7340905666351318, 0.7315459847450256, 0.7314962148666382, 0.9183417558670044, 0.9142038226127625, 0.9128311276435852, 0.9094590544700623, 0.9019177556037903, 0.8934237360954285, 0.8836342096328735, 0.8832470178604126, 0.8718557357788086, 0.8689663410186768, 0.8686913847923279, 0.8663636445999146, 0.8656867742538452, 0.8633038401603699, 0.8558170199394226, 0.8527312874794006, 0.8523737788200378, 0.8520948886871338, 0.8500317335128784, 0.8488062620162964, 0.8487498760223389, 0.8474276065826416, 0.8470708131790161, 0.845986545085907, 0.8445693850517273, 0.843471109867096, 0.8433731198310852, 0.8432013392448425, 0.8072523474693298, 0.8036943674087524, 0.7975544929504395, 0.7972966432571411, 0.7923116087913513, 0.7798115611076355, 0.7781479358673096, 0.7644469738006592, 0.7637505531311035, 0.762493908405304, 0.762030839920044, 0.7595114707946777, 0.7577535510063171, 0.7493095397949219, 0.7473317384719849, 0.7428319454193115, 0.7352994084358215, 0.7329214811325073, 0.7307978272438049, 0.7304598689079285, 0.7260319590568542, 0.7248830199241638, 0.7198706269264221, 0.7190384268760681, 0.718119204044342, 0.7178005576133728, 0.712729811668396, 0.711941659450531, 0.709999144077301, 0.7096444964408875, 0.830353856086731, 0.810215175151825, 0.8053817749023438, 0.772509753704071, 0.7664201259613037, 0.7266855835914612, 0.7170841693878174, 0.7149516344070435, 0.707905650138855, 0.7014975547790527, 0.6982651352882385, 0.6976286768913269, 0.6890818476676941, 0.6871830224990845, 0.6842764019966125, 0.683759868144989, 0.6802278757095337, 0.6801792979240417, 0.6782996654510498, 0.6765487790107727, 0.6722641587257385, 0.6629948019981384, 0.6601777076721191, 0.6594429612159729, 0.6538561582565308, 0.6513648629188538, 0.6502102613449097, 0.6492824554443359, 0.6488064527511597, 0.8159253001213074, 0.7894076108932495, 0.778079628944397, 0.7708824276924133, 0.7587389349937439, 0.7406530380249023, 0.7207616567611694, 0.7197030782699585, 0.7097805142402649, 0.6974863409996033, 0.6970231533050537, 0.6962248086929321, 0.6695345640182495, 0.6625250577926636, 0.6563125252723694, 0.6494336724281311, 0.6487906575202942, 0.6487776637077332, 0.6481043100357056, 0.6445600390434265, 0.6431729793548584, 0.6417552828788757, 0.6368985176086426, 0.6356469392776489, 0.6346333026885986, 0.6313140988349915, 0.8412445783615112, 0.8360294103622437, 0.8318842649459839, 0.8174923062324524, 0.8129640221595764, 0.8006829023361206, 0.7913586497306824, 0.7850567698478699, 0.7820054888725281, 0.7807624936103821, 0.7799582481384277, 0.7672984004020691, 0.764675498008728, 0.7635147571563721, 0.7602964043617249, 0.7596789002418518, 0.7561473250389099, 0.7535310387611389, 0.7534379959106445, 0.751761257648468, 0.7514813542366028, 0.749029278755188, 0.7485589385032654, 0.7459586262702942, 0.7453280687332153, 0.7446732521057129, 0.7415273785591125, 0.7409679293632507, 0.7408542037010193, 0.7397163510322571, 0.9517525434494019, 0.9447447657585144, 0.9438419342041016, 0.937282145023346, 0.9372095465660095, 0.934187650680542, 0.9330596923828125, 0.9320183992385864, 0.9317230582237244, 0.9300925731658936, 0.92804354429245, 0.9278520941734314, 0.9273155331611633, 0.9259570240974426, 0.9242851734161377, 0.9220747947692871, 0.9215327501296997, 0.9203846454620361, 0.9195221662521362, 0.9185509085655212, 0.9183558821678162, 0.915241003036499, 0.914587140083313, 0.91337651014328, 0.9127769470214844, 0.9100704193115234, 0.9093727469444275, 0.9052965044975281, 0.9051950573921204, 0.9047077298164368, 0.9041743278503418, 0.9033503532409668, 0.902263343334198, 0.9008716344833374, 0.9008249044418335, 0.9420990347862244, 0.9362357258796692, 0.9347173571586609, 0.9337716698646545, 0.9278523325920105, 0.9272653460502625, 0.9256547093391418, 0.9232594966888428, 0.9222958087921143, 0.9214767217636108, 0.9210483431816101, 0.9203844666481018, 0.9202171564102173, 0.920008659362793, 0.9199822545051575, 0.9198902249336243, 0.9184066653251648, 0.9168652296066284, 0.9152708053588867, 0.9147742390632629, 0.914390504360199, 0.9137067794799805, 0.9131994247436523, 0.9126290082931519, 0.9113165140151978, 0.9092855453491211, 0.9089726805686951, 0.9085856676101685, 0.9085568785667419, 0.9075067043304443, 0.9069666266441345, 0.9050279259681702, 0.9040655493736267, 0.916603147983551, 0.9149297475814819, 0.9042953848838806, 0.8925421833992004, 0.8888890743255615, 0.8852494955062866, 0.8783565163612366, 0.8648461103439331, 0.8497833609580994, 0.844348669052124, 0.8394284248352051, 0.8315003514289856, 0.8314578533172607, 0.8191033005714417, 0.818014919757843, 0.8105348944664001, 0.8083223700523376, 0.8065942525863647, 0.805478036403656, 0.8047412037849426, 0.8002186417579651, 0.7998616099357605, 0.7931935787200928, 0.7924875617027283, 0.791434109210968, 0.7900933623313904, 0.7873105406761169, 0.7871823310852051, 0.7870697379112244, 0.7842505574226379, 0.7834202647209167, 0.7827160358428955, 0.9627544283866882, 0.9614061713218689, 0.961047887802124, 0.9605716466903687, 0.9564770460128784, 0.955634593963623, 0.9544359445571899, 0.9542450308799744, 0.9526239037513733, 0.9511281251907349, 0.9508093595504761, 0.950666606426239, 0.9495858550071716, 0.9424989819526672, 0.94102543592453, 0.9406354427337646, 0.9402431845664978, 0.9388329386711121, 0.937060534954071, 0.9369447827339172, 0.9366703629493713, 0.9364237785339355, 0.9348030090332031, 0.9341040253639221, 0.9315385222434998, 0.9314112663269043, 0.9308403730392456, 0.929370641708374, 0.9290528893470764, 0.9280170798301697, 0.9275767803192139, 0.9267612099647522, 0.9257541298866272, 0.9251184463500977, 0.9241060018539429, 0.9232057332992554, 0.8338800072669983, 0.8297315239906311, 0.8264137506484985, 0.8223974704742432, 0.8212916851043701, 0.8125307559967041, 0.8068437576293945, 0.8053602576255798, 0.7958617210388184, 0.7943585515022278, 0.7925675511360168, 0.7889745831489563, 0.7885314226150513, 0.7847051024436951, 0.7835044860839844, 0.7830885648727417, 0.7819454669952393, 0.7808034420013428, 0.7766110897064209, 0.7720147371292114, 0.7705551981925964, 0.7701550126075745, 0.7673394680023193, 0.9030251502990723, 0.8937103748321533, 0.8850893974304199, 0.877287745475769, 0.8769114017486572, 0.8610836863517761, 0.8554292917251587, 0.8484950661659241, 0.8453592658042908, 0.8416709303855896, 0.8404260873794556, 0.84028559923172, 0.8327345848083496, 0.8256055116653442, 0.8250046968460083, 0.8228232264518738, 0.8217458724975586, 0.8212131857872009, 0.8193007707595825, 0.8127923011779785, 0.8117683529853821, 0.7998955845832825, 0.797235906124115, 0.7956660985946655, 0.7956539392471313, 0.7955633997917175, 0.7894921898841858, 0.7883206605911255, 0.7882906198501587, 0.7853268384933472, 0.7971839308738708, 0.7936519980430603, 0.7866171002388, 0.7815148830413818, 0.7787876129150391, 0.7762640118598938, 0.7732539772987366, 0.738919734954834, 0.7387034296989441, 0.7285213470458984, 0.7224067449569702, 0.7219516634941101, 0.704337477684021, 0.6829030513763428, 0.6816310882568359, 0.6793846487998962, 0.679302990436554, 0.6790215373039246, 0.676608145236969, 0.6763066053390503, 0.6759896874427795, 0.6718866229057312, 0.6667798161506653, 0.6634565591812134, 0.6601564884185791, 0.6585638523101807, 0.6549598574638367, 0.6490491628646851, 0.648924708366394, 0.6488506197929382, 0.6463398933410645, 0.6402556896209717, 0.6391386985778809, 0.6381873488426208, 0.6338819861412048, 0.8866569399833679, 0.8847729563713074, 0.8751736879348755, 0.8608709573745728, 0.8600396513938904, 0.8483414649963379, 0.8453837037086487, 0.8396604657173157, 0.8343029618263245, 0.8243826627731323, 0.8172003030776978, 0.7997572422027588, 0.7923946976661682, 0.789181649684906, 0.7877804040908813, 0.7856757640838623, 0.7856717109680176, 0.7818267941474915, 0.7799208164215088, 0.7782387733459473, 0.7774457335472107, 0.7750314474105835, 0.7739444375038147, 0.7717244029045105, 0.7676177620887756, 0.7669937610626221, 0.7664125561714172, 0.7659536600112915, 0.7648753523826599, 0.7635412216186523, 0.7634018659591675, 0.7606284022331238, 0.7571548819541931, 0.7565904259681702, 0.7562659382820129, 0.7555760741233826, 0.7483694553375244, 0.7458864450454712, 0.7404597997665405, 0.7265034317970276, 0.7208404541015625, 0.719992458820343, 0.7184803485870361, 0.7159329056739807, 0.7111873626708984, 0.7094731330871582, 0.7066132426261902, 0.7038595676422119, 0.7033283114433289, 0.7020180821418762, 0.7019016742706299, 0.7016844153404236, 0.7013299465179443, 0.691830039024353, 0.6916340589523315, 0.6904113292694092, 0.6835092306137085, 0.6786081790924072, 0.6783402562141418, 0.677862823009491, 0.6762352585792542, 0.6753286719322205, 0.6706594824790955, 0.6704198122024536, 0.6688562631607056, 0.6606644988059998, 0.7648847103118896, 0.7541115283966064, 0.7495914101600647, 0.74850994348526, 0.7453441023826599, 0.7417088747024536, 0.7338845133781433, 0.7273358702659607, 0.727246105670929, 0.7270732522010803, 0.7258240580558777, 0.7222542762756348, 0.7215160727500916, 0.7196741700172424, 0.7174379229545593, 0.7103657126426697, 0.7101572751998901, 0.7083322405815125, 0.7062407732009888, 0.7055714726448059, 0.704692542552948, 0.6999123096466064, 0.6987776160240173, 0.6957180500030518, 0.6932325959205627, 0.6918678283691406, 0.8820728063583374, 0.8525845408439636, 0.8241744637489319, 0.8208378553390503, 0.7988781929016113, 0.7909860610961914, 0.7869380712509155, 0.7843717932701111, 0.7666267156600952, 0.7621225714683533, 0.7441908121109009, 0.7394051551818848, 0.7389949560165405, 0.7388707399368286, 0.7370725274085999, 0.7360533475875854, 0.7353779077529907, 0.735163688659668, 0.7339152693748474, 0.7334011197090149, 0.7329995036125183, 0.713525116443634, 0.7119849324226379, 0.7098437547683716, 0.7091526985168457, 0.7079723477363586, 0.7063906192779541, 0.782187819480896, 0.7679381966590881, 0.7609075307846069, 0.7575135827064514, 0.7532826662063599, 0.75269615650177, 0.7506758570671082, 0.7464560270309448, 0.7199103236198425, 0.7115536332130432, 0.7031484842300415, 0.702133059501648, 0.6957513093948364, 0.6811202168464661, 0.6772934198379517, 0.6723697781562805, 0.6689227819442749, 0.668816328048706, 0.6675940155982971, 0.6670826077461243, 0.6669220328330994, 0.6621759533882141, 0.6573976278305054, 0.6566762328147888, 0.6514792442321777, 0.6477987766265869, 0.6393468379974365, 0.6391172409057617, 0.6383102536201477, 0.6368281841278076, 0.6343916058540344, 0.6339828968048096], \"xaxis\": \"x\", \"yaxis\": \"y\"}],\n",
              "                        {\"barmode\": \"relative\", \"legend\": {\"tracegroupgap\": 0}, \"template\": {\"data\": {\"bar\": [{\"error_x\": {\"color\": \"#2a3f5f\"}, \"error_y\": {\"color\": \"#2a3f5f\"}, \"marker\": {\"line\": {\"color\": \"#E5ECF6\", \"width\": 0.5}}, \"type\": \"bar\"}], \"barpolar\": [{\"marker\": {\"line\": {\"color\": \"#E5ECF6\", \"width\": 0.5}}, \"type\": \"barpolar\"}], \"carpet\": [{\"aaxis\": {\"endlinecolor\": \"#2a3f5f\", \"gridcolor\": \"white\", \"linecolor\": \"white\", \"minorgridcolor\": \"white\", \"startlinecolor\": \"#2a3f5f\"}, \"baxis\": {\"endlinecolor\": \"#2a3f5f\", \"gridcolor\": \"white\", \"linecolor\": \"white\", \"minorgridcolor\": \"white\", \"startlinecolor\": \"#2a3f5f\"}, \"type\": \"carpet\"}], \"choropleth\": [{\"colorbar\": {\"outlinewidth\": 0, \"ticks\": \"\"}, \"type\": \"choropleth\"}], \"contour\": [{\"colorbar\": {\"outlinewidth\": 0, \"ticks\": \"\"}, \"colorscale\": [[0.0, \"#0d0887\"], [0.1111111111111111, \"#46039f\"], [0.2222222222222222, \"#7201a8\"], [0.3333333333333333, \"#9c179e\"], [0.4444444444444444, \"#bd3786\"], [0.5555555555555556, \"#d8576b\"], [0.6666666666666666, \"#ed7953\"], [0.7777777777777778, \"#fb9f3a\"], [0.8888888888888888, \"#fdca26\"], [1.0, \"#f0f921\"]], \"type\": \"contour\"}], \"contourcarpet\": [{\"colorbar\": {\"outlinewidth\": 0, \"ticks\": \"\"}, \"type\": \"contourcarpet\"}], \"heatmap\": [{\"colorbar\": {\"outlinewidth\": 0, \"ticks\": \"\"}, \"colorscale\": [[0.0, \"#0d0887\"], [0.1111111111111111, \"#46039f\"], [0.2222222222222222, \"#7201a8\"], [0.3333333333333333, \"#9c179e\"], [0.4444444444444444, \"#bd3786\"], [0.5555555555555556, \"#d8576b\"], [0.6666666666666666, \"#ed7953\"], [0.7777777777777778, \"#fb9f3a\"], [0.8888888888888888, \"#fdca26\"], [1.0, \"#f0f921\"]], \"type\": \"heatmap\"}], \"heatmapgl\": [{\"colorbar\": {\"outlinewidth\": 0, \"ticks\": \"\"}, \"colorscale\": [[0.0, \"#0d0887\"], [0.1111111111111111, \"#46039f\"], [0.2222222222222222, \"#7201a8\"], [0.3333333333333333, \"#9c179e\"], [0.4444444444444444, \"#bd3786\"], [0.5555555555555556, \"#d8576b\"], [0.6666666666666666, \"#ed7953\"], [0.7777777777777778, \"#fb9f3a\"], [0.8888888888888888, \"#fdca26\"], [1.0, \"#f0f921\"]], \"type\": \"heatmapgl\"}], \"histogram\": [{\"marker\": {\"colorbar\": {\"outlinewidth\": 0, \"ticks\": \"\"}}, \"type\": \"histogram\"}], \"histogram2d\": [{\"colorbar\": {\"outlinewidth\": 0, \"ticks\": \"\"}, \"colorscale\": [[0.0, \"#0d0887\"], [0.1111111111111111, \"#46039f\"], [0.2222222222222222, \"#7201a8\"], [0.3333333333333333, \"#9c179e\"], [0.4444444444444444, \"#bd3786\"], [0.5555555555555556, \"#d8576b\"], [0.6666666666666666, \"#ed7953\"], [0.7777777777777778, \"#fb9f3a\"], [0.8888888888888888, \"#fdca26\"], [1.0, \"#f0f921\"]], \"type\": \"histogram2d\"}], \"histogram2dcontour\": [{\"colorbar\": {\"outlinewidth\": 0, \"ticks\": \"\"}, \"colorscale\": [[0.0, \"#0d0887\"], [0.1111111111111111, \"#46039f\"], [0.2222222222222222, \"#7201a8\"], [0.3333333333333333, \"#9c179e\"], [0.4444444444444444, \"#bd3786\"], [0.5555555555555556, \"#d8576b\"], [0.6666666666666666, \"#ed7953\"], [0.7777777777777778, \"#fb9f3a\"], [0.8888888888888888, \"#fdca26\"], [1.0, \"#f0f921\"]], \"type\": \"histogram2dcontour\"}], \"mesh3d\": [{\"colorbar\": {\"outlinewidth\": 0, \"ticks\": \"\"}, \"type\": \"mesh3d\"}], \"parcoords\": [{\"line\": {\"colorbar\": {\"outlinewidth\": 0, \"ticks\": \"\"}}, \"type\": \"parcoords\"}], \"pie\": [{\"automargin\": true, \"type\": \"pie\"}], \"scatter\": [{\"marker\": {\"colorbar\": {\"outlinewidth\": 0, \"ticks\": \"\"}}, \"type\": \"scatter\"}], \"scatter3d\": [{\"line\": {\"colorbar\": {\"outlinewidth\": 0, \"ticks\": \"\"}}, \"marker\": {\"colorbar\": {\"outlinewidth\": 0, \"ticks\": \"\"}}, \"type\": \"scatter3d\"}], \"scattercarpet\": [{\"marker\": {\"colorbar\": {\"outlinewidth\": 0, \"ticks\": \"\"}}, \"type\": \"scattercarpet\"}], \"scattergeo\": [{\"marker\": {\"colorbar\": {\"outlinewidth\": 0, \"ticks\": \"\"}}, \"type\": \"scattergeo\"}], \"scattergl\": [{\"marker\": {\"colorbar\": {\"outlinewidth\": 0, \"ticks\": \"\"}}, \"type\": \"scattergl\"}], \"scattermapbox\": [{\"marker\": {\"colorbar\": {\"outlinewidth\": 0, \"ticks\": \"\"}}, \"type\": \"scattermapbox\"}], \"scatterpolar\": [{\"marker\": {\"colorbar\": {\"outlinewidth\": 0, \"ticks\": \"\"}}, \"type\": \"scatterpolar\"}], \"scatterpolargl\": [{\"marker\": {\"colorbar\": {\"outlinewidth\": 0, \"ticks\": \"\"}}, \"type\": \"scatterpolargl\"}], \"scatterternary\": [{\"marker\": {\"colorbar\": {\"outlinewidth\": 0, \"ticks\": \"\"}}, \"type\": \"scatterternary\"}], \"surface\": [{\"colorbar\": {\"outlinewidth\": 0, \"ticks\": \"\"}, \"colorscale\": [[0.0, \"#0d0887\"], [0.1111111111111111, \"#46039f\"], [0.2222222222222222, \"#7201a8\"], [0.3333333333333333, \"#9c179e\"], [0.4444444444444444, \"#bd3786\"], [0.5555555555555556, \"#d8576b\"], [0.6666666666666666, \"#ed7953\"], [0.7777777777777778, \"#fb9f3a\"], [0.8888888888888888, \"#fdca26\"], [1.0, \"#f0f921\"]], \"type\": \"surface\"}], \"table\": [{\"cells\": {\"fill\": {\"color\": \"#EBF0F8\"}, \"line\": {\"color\": \"white\"}}, \"header\": {\"fill\": {\"color\": \"#C8D4E3\"}, \"line\": {\"color\": \"white\"}}, \"type\": \"table\"}]}, \"layout\": {\"annotationdefaults\": {\"arrowcolor\": \"#2a3f5f\", \"arrowhead\": 0, \"arrowwidth\": 1}, \"coloraxis\": {\"colorbar\": {\"outlinewidth\": 0, \"ticks\": \"\"}}, \"colorscale\": {\"diverging\": [[0, \"#8e0152\"], [0.1, \"#c51b7d\"], [0.2, \"#de77ae\"], [0.3, \"#f1b6da\"], [0.4, \"#fde0ef\"], [0.5, \"#f7f7f7\"], [0.6, \"#e6f5d0\"], [0.7, \"#b8e186\"], [0.8, \"#7fbc41\"], [0.9, \"#4d9221\"], [1, \"#276419\"]], \"sequential\": [[0.0, \"#0d0887\"], [0.1111111111111111, \"#46039f\"], [0.2222222222222222, \"#7201a8\"], [0.3333333333333333, \"#9c179e\"], [0.4444444444444444, \"#bd3786\"], [0.5555555555555556, \"#d8576b\"], [0.6666666666666666, \"#ed7953\"], [0.7777777777777778, \"#fb9f3a\"], [0.8888888888888888, \"#fdca26\"], [1.0, \"#f0f921\"]], \"sequentialminus\": [[0.0, \"#0d0887\"], [0.1111111111111111, \"#46039f\"], [0.2222222222222222, \"#7201a8\"], [0.3333333333333333, \"#9c179e\"], [0.4444444444444444, \"#bd3786\"], [0.5555555555555556, \"#d8576b\"], [0.6666666666666666, \"#ed7953\"], [0.7777777777777778, \"#fb9f3a\"], [0.8888888888888888, \"#fdca26\"], [1.0, \"#f0f921\"]]}, \"colorway\": [\"#636efa\", \"#EF553B\", \"#00cc96\", \"#ab63fa\", \"#FFA15A\", \"#19d3f3\", \"#FF6692\", \"#B6E880\", \"#FF97FF\", \"#FECB52\"], \"font\": {\"color\": \"#2a3f5f\"}, \"geo\": {\"bgcolor\": \"white\", \"lakecolor\": \"white\", \"landcolor\": \"#E5ECF6\", \"showlakes\": true, \"showland\": true, \"subunitcolor\": \"white\"}, \"hoverlabel\": {\"align\": \"left\"}, \"hovermode\": \"closest\", \"mapbox\": {\"style\": \"light\"}, \"paper_bgcolor\": \"white\", \"plot_bgcolor\": \"#E5ECF6\", \"polar\": {\"angularaxis\": {\"gridcolor\": \"white\", \"linecolor\": \"white\", \"ticks\": \"\"}, \"bgcolor\": \"#E5ECF6\", \"radialaxis\": {\"gridcolor\": \"white\", \"linecolor\": \"white\", \"ticks\": \"\"}}, \"scene\": {\"xaxis\": {\"backgroundcolor\": \"#E5ECF6\", \"gridcolor\": \"white\", \"gridwidth\": 2, \"linecolor\": \"white\", \"showbackground\": true, \"ticks\": \"\", \"zerolinecolor\": \"white\"}, \"yaxis\": {\"backgroundcolor\": \"#E5ECF6\", \"gridcolor\": \"white\", \"gridwidth\": 2, \"linecolor\": \"white\", \"showbackground\": true, \"ticks\": \"\", \"zerolinecolor\": \"white\"}, \"zaxis\": {\"backgroundcolor\": \"#E5ECF6\", \"gridcolor\": \"white\", \"gridwidth\": 2, \"linecolor\": \"white\", \"showbackground\": true, \"ticks\": \"\", \"zerolinecolor\": \"white\"}}, \"shapedefaults\": {\"line\": {\"color\": \"#2a3f5f\"}}, \"ternary\": {\"aaxis\": {\"gridcolor\": \"white\", \"linecolor\": \"white\", \"ticks\": \"\"}, \"baxis\": {\"gridcolor\": \"white\", \"linecolor\": \"white\", \"ticks\": \"\"}, \"bgcolor\": \"#E5ECF6\", \"caxis\": {\"gridcolor\": \"white\", \"linecolor\": \"white\", \"ticks\": \"\"}}, \"title\": {\"x\": 0.05}, \"xaxis\": {\"automargin\": true, \"gridcolor\": \"white\", \"linecolor\": \"white\", \"ticks\": \"\", \"title\": {\"standoff\": 15}, \"zerolinecolor\": \"white\", \"zerolinewidth\": 2}, \"yaxis\": {\"automargin\": true, \"gridcolor\": \"white\", \"linecolor\": \"white\", \"ticks\": \"\", \"title\": {\"standoff\": 15}, \"zerolinecolor\": \"white\", \"zerolinewidth\": 2}}}, \"title\": {\"text\": \"doc2vec sections\"}, \"xaxis\": {\"anchor\": \"y\", \"domain\": [0.0, 1.0], \"title\": {\"text\": \"score\"}}, \"yaxis\": {\"anchor\": \"x\", \"domain\": [0.0, 1.0], \"title\": {\"text\": \"count\"}}},\n",
              "                        {\"responsive\": true}\n",
              "                    ).then(function(){\n",
              "                            \n",
              "var gd = document.getElementById('470cf578-c14a-400b-90cf-2ae7e34e82c5');\n",
              "var x = new MutationObserver(function (mutations, observer) {{\n",
              "        var display = window.getComputedStyle(gd).display;\n",
              "        if (!display || display === 'none') {{\n",
              "            console.log([gd, 'removed!']);\n",
              "            Plotly.purge(gd);\n",
              "            observer.disconnect();\n",
              "        }}\n",
              "}});\n",
              "\n",
              "// Listen for the removal of the full notebook cells\n",
              "var notebookContainer = gd.closest('#notebook-container');\n",
              "if (notebookContainer) {{\n",
              "    x.observe(notebookContainer, {childList: true});\n",
              "}}\n",
              "\n",
              "// Listen for the clearing of the current output cell\n",
              "var outputEl = gd.closest('.output');\n",
              "if (outputEl) {{\n",
              "    x.observe(outputEl, {childList: true});\n",
              "}}\n",
              "\n",
              "                        })\n",
              "                };\n",
              "                \n",
              "            </script>\n",
              "        </div>\n",
              "</body>\n",
              "</html>"
            ]
          },
          "metadata": {}
        }
      ]
    },
    {
      "cell_type": "code",
      "metadata": {
        "id": "OKeaqYxGPMZj"
      },
      "source": [
        "if use_wandb:\n",
        "  wandb.log({\"scores_hist\": fig})"
      ],
      "execution_count": 97,
      "outputs": []
    },
    {
      "cell_type": "code",
      "metadata": {
        "colab": {
          "base_uri": "https://localhost:8080/",
          "height": 1000
        },
        "id": "DgV3ccDr5Ux4",
        "outputId": "efd5e6a3-c0f8-4a48-e377-d6b908511b69"
      },
      "source": [
        "result, details = recommend_tune(df_sim, 'Perdido [jazz1350]')\n",
        "result.head(50)"
      ],
      "execution_count": 98,
      "outputs": [
        {
          "output_type": "stream",
          "name": "stdout",
          "text": [
            "Index(['similar_title', 'score', 'max', 'score_div_max', 'reference',\n",
            "       'reference_titleid'],\n",
            "      dtype='object')\n"
          ]
        },
        {
          "output_type": "execute_result",
          "data": {
            "text/html": [
              "<div>\n",
              "<style scoped>\n",
              "    .dataframe tbody tr th:only-of-type {\n",
              "        vertical-align: middle;\n",
              "    }\n",
              "\n",
              "    .dataframe tbody tr th {\n",
              "        vertical-align: top;\n",
              "    }\n",
              "\n",
              "    .dataframe thead th {\n",
              "        text-align: right;\n",
              "    }\n",
              "</style>\n",
              "<table border=\"1\" class=\"dataframe\">\n",
              "  <thead>\n",
              "    <tr style=\"text-align: right;\">\n",
              "      <th></th>\n",
              "      <th>index</th>\n",
              "      <th>reference</th>\n",
              "      <th>reference_titleid</th>\n",
              "      <th>similar_title</th>\n",
              "      <th>score</th>\n",
              "      <th>max</th>\n",
              "      <th>score_div_max</th>\n",
              "    </tr>\n",
              "  </thead>\n",
              "  <tbody>\n",
              "    <tr>\n",
              "      <th>0</th>\n",
              "      <td>0</td>\n",
              "      <td>Perdido [jazz1350]</td>\n",
              "      <td>949</td>\n",
              "      <td>A Tisket A Tasket [jazz1350]</td>\n",
              "      <td>0.949933</td>\n",
              "      <td>0.957134</td>\n",
              "      <td>1.000000</td>\n",
              "    </tr>\n",
              "    <tr>\n",
              "      <th>1</th>\n",
              "      <td>1</td>\n",
              "      <td>Perdido [jazz1350]</td>\n",
              "      <td>949</td>\n",
              "      <td>Always [jazz1350]</td>\n",
              "      <td>0.952160</td>\n",
              "      <td>0.957134</td>\n",
              "      <td>1.000000</td>\n",
              "    </tr>\n",
              "    <tr>\n",
              "      <th>2</th>\n",
              "      <td>2</td>\n",
              "      <td>Perdido [jazz1350]</td>\n",
              "      <td>949</td>\n",
              "      <td>Dexterity [jazz1350]</td>\n",
              "      <td>0.975469</td>\n",
              "      <td>0.975469</td>\n",
              "      <td>1.000000</td>\n",
              "    </tr>\n",
              "    <tr>\n",
              "      <th>3</th>\n",
              "      <td>3</td>\n",
              "      <td>Perdido [jazz1350]</td>\n",
              "      <td>949</td>\n",
              "      <td>Just Squeeze Me [jazz1350]</td>\n",
              "      <td>0.957134</td>\n",
              "      <td>0.957134</td>\n",
              "      <td>1.000000</td>\n",
              "    </tr>\n",
              "    <tr>\n",
              "      <th>4</th>\n",
              "      <td>4</td>\n",
              "      <td>Perdido [jazz1350]</td>\n",
              "      <td>949</td>\n",
              "      <td>Jeannie's Song [jazz1350]</td>\n",
              "      <td>0.955441</td>\n",
              "      <td>0.957134</td>\n",
              "      <td>0.998231</td>\n",
              "    </tr>\n",
              "    <tr>\n",
              "      <th>5</th>\n",
              "      <td>5</td>\n",
              "      <td>Perdido [jazz1350]</td>\n",
              "      <td>949</td>\n",
              "      <td>Oleo [jazz1350]</td>\n",
              "      <td>0.973611</td>\n",
              "      <td>0.975469</td>\n",
              "      <td>0.998096</td>\n",
              "    </tr>\n",
              "    <tr>\n",
              "      <th>6</th>\n",
              "      <td>6</td>\n",
              "      <td>Perdido [jazz1350]</td>\n",
              "      <td>949</td>\n",
              "      <td>Ain't That A Grand And Glorious Feeling [trad]</td>\n",
              "      <td>0.973581</td>\n",
              "      <td>0.975469</td>\n",
              "      <td>0.998065</td>\n",
              "    </tr>\n",
              "    <tr>\n",
              "      <th>7</th>\n",
              "      <td>7</td>\n",
              "      <td>Perdido [jazz1350]</td>\n",
              "      <td>949</td>\n",
              "      <td>Shaw 'Nuff [jazz1350]</td>\n",
              "      <td>0.973484</td>\n",
              "      <td>0.975469</td>\n",
              "      <td>0.997966</td>\n",
              "    </tr>\n",
              "    <tr>\n",
              "      <th>8</th>\n",
              "      <td>8</td>\n",
              "      <td>Perdido [jazz1350]</td>\n",
              "      <td>949</td>\n",
              "      <td>Have You Met Miss Jones [jazz1350]</td>\n",
              "      <td>0.951281</td>\n",
              "      <td>0.957134</td>\n",
              "      <td>0.993884</td>\n",
              "    </tr>\n",
              "    <tr>\n",
              "      <th>9</th>\n",
              "      <td>9</td>\n",
              "      <td>Perdido [jazz1350]</td>\n",
              "      <td>949</td>\n",
              "      <td>Salt Peanuts [jazz1350]</td>\n",
              "      <td>0.968121</td>\n",
              "      <td>0.975469</td>\n",
              "      <td>0.992468</td>\n",
              "    </tr>\n",
              "    <tr>\n",
              "      <th>10</th>\n",
              "      <td>10</td>\n",
              "      <td>Perdido [jazz1350]</td>\n",
              "      <td>949</td>\n",
              "      <td>Flintstones [jazz1350]</td>\n",
              "      <td>0.967110</td>\n",
              "      <td>0.975469</td>\n",
              "      <td>0.991431</td>\n",
              "    </tr>\n",
              "    <tr>\n",
              "      <th>11</th>\n",
              "      <td>11</td>\n",
              "      <td>Perdido [jazz1350]</td>\n",
              "      <td>949</td>\n",
              "      <td>No Moe [jazz1350]</td>\n",
              "      <td>0.966412</td>\n",
              "      <td>0.975469</td>\n",
              "      <td>0.990716</td>\n",
              "    </tr>\n",
              "    <tr>\n",
              "      <th>12</th>\n",
              "      <td>12</td>\n",
              "      <td>Perdido [jazz1350]</td>\n",
              "      <td>949</td>\n",
              "      <td>Cottontail [jazz1350]</td>\n",
              "      <td>0.963498</td>\n",
              "      <td>0.975469</td>\n",
              "      <td>0.987729</td>\n",
              "    </tr>\n",
              "    <tr>\n",
              "      <th>13</th>\n",
              "      <td>13</td>\n",
              "      <td>Perdido [jazz1350]</td>\n",
              "      <td>949</td>\n",
              "      <td>Scrapple From The Apple [jazz1350]</td>\n",
              "      <td>0.962735</td>\n",
              "      <td>0.975469</td>\n",
              "      <td>0.986946</td>\n",
              "    </tr>\n",
              "    <tr>\n",
              "      <th>14</th>\n",
              "      <td>14</td>\n",
              "      <td>Perdido [jazz1350]</td>\n",
              "      <td>949</td>\n",
              "      <td>Theme, The [jazz1350]</td>\n",
              "      <td>0.959339</td>\n",
              "      <td>0.975469</td>\n",
              "      <td>0.983464</td>\n",
              "    </tr>\n",
              "    <tr>\n",
              "      <th>15</th>\n",
              "      <td>15</td>\n",
              "      <td>Perdido [jazz1350]</td>\n",
              "      <td>949</td>\n",
              "      <td>Thriving From A Riff [jazz1350]</td>\n",
              "      <td>0.959096</td>\n",
              "      <td>0.975469</td>\n",
              "      <td>0.983216</td>\n",
              "    </tr>\n",
              "    <tr>\n",
              "      <th>16</th>\n",
              "      <td>16</td>\n",
              "      <td>Perdido [jazz1350]</td>\n",
              "      <td>949</td>\n",
              "      <td>Rhythm-a-ning [jazz1350]</td>\n",
              "      <td>0.956806</td>\n",
              "      <td>0.975469</td>\n",
              "      <td>0.980868</td>\n",
              "    </tr>\n",
              "    <tr>\n",
              "      <th>17</th>\n",
              "      <td>17</td>\n",
              "      <td>Perdido [jazz1350]</td>\n",
              "      <td>949</td>\n",
              "      <td>At Long Last Love [jazz1350]</td>\n",
              "      <td>0.930922</td>\n",
              "      <td>0.949933</td>\n",
              "      <td>0.979987</td>\n",
              "    </tr>\n",
              "    <tr>\n",
              "      <th>18</th>\n",
              "      <td>18</td>\n",
              "      <td>Perdido [jazz1350]</td>\n",
              "      <td>949</td>\n",
              "      <td>Cool One, The [jazz1350]</td>\n",
              "      <td>0.935722</td>\n",
              "      <td>0.957134</td>\n",
              "      <td>0.977629</td>\n",
              "    </tr>\n",
              "    <tr>\n",
              "      <th>19</th>\n",
              "      <td>19</td>\n",
              "      <td>Perdido [jazz1350]</td>\n",
              "      <td>949</td>\n",
              "      <td>Robbin's Nest [jazz1350]</td>\n",
              "      <td>0.950390</td>\n",
              "      <td>0.975469</td>\n",
              "      <td>0.974291</td>\n",
              "    </tr>\n",
              "    <tr>\n",
              "      <th>20</th>\n",
              "      <td>20</td>\n",
              "      <td>Perdido [jazz1350]</td>\n",
              "      <td>949</td>\n",
              "      <td>When You Wish Upon A Star [jazz1350]</td>\n",
              "      <td>0.932513</td>\n",
              "      <td>0.957134</td>\n",
              "      <td>0.974276</td>\n",
              "    </tr>\n",
              "    <tr>\n",
              "      <th>21</th>\n",
              "      <td>21</td>\n",
              "      <td>Perdido [jazz1350]</td>\n",
              "      <td>949</td>\n",
              "      <td>Passport [jazz1350]</td>\n",
              "      <td>0.948266</td>\n",
              "      <td>0.975469</td>\n",
              "      <td>0.972113</td>\n",
              "    </tr>\n",
              "    <tr>\n",
              "      <th>22</th>\n",
              "      <td>22</td>\n",
              "      <td>Perdido [jazz1350]</td>\n",
              "      <td>949</td>\n",
              "      <td>As Time Goes By [jazz1350]</td>\n",
              "      <td>0.924696</td>\n",
              "      <td>0.952160</td>\n",
              "      <td>0.971156</td>\n",
              "    </tr>\n",
              "    <tr>\n",
              "      <th>23</th>\n",
              "      <td>23</td>\n",
              "      <td>Perdido [jazz1350]</td>\n",
              "      <td>949</td>\n",
              "      <td>Little Peace In C For You [jazz1350]</td>\n",
              "      <td>0.947003</td>\n",
              "      <td>0.975469</td>\n",
              "      <td>0.970819</td>\n",
              "    </tr>\n",
              "    <tr>\n",
              "      <th>24</th>\n",
              "      <td>24</td>\n",
              "      <td>Perdido [jazz1350]</td>\n",
              "      <td>949</td>\n",
              "      <td>Hackensack [jazz1350]</td>\n",
              "      <td>0.922657</td>\n",
              "      <td>0.957134</td>\n",
              "      <td>0.969015</td>\n",
              "    </tr>\n",
              "    <tr>\n",
              "      <th>25</th>\n",
              "      <td>25</td>\n",
              "      <td>Perdido [jazz1350]</td>\n",
              "      <td>949</td>\n",
              "      <td>Sunday [trad]</td>\n",
              "      <td>0.944319</td>\n",
              "      <td>0.975469</td>\n",
              "      <td>0.968067</td>\n",
              "    </tr>\n",
              "    <tr>\n",
              "      <th>26</th>\n",
              "      <td>26</td>\n",
              "      <td>Perdido [jazz1350]</td>\n",
              "      <td>949</td>\n",
              "      <td>Moose The Mooche [jazz1350]</td>\n",
              "      <td>0.943150</td>\n",
              "      <td>0.975469</td>\n",
              "      <td>0.966869</td>\n",
              "    </tr>\n",
              "    <tr>\n",
              "      <th>27</th>\n",
              "      <td>27</td>\n",
              "      <td>Perdido [jazz1350]</td>\n",
              "      <td>949</td>\n",
              "      <td>Cottage For Sale [jazz1350]</td>\n",
              "      <td>0.940846</td>\n",
              "      <td>0.975469</td>\n",
              "      <td>0.964507</td>\n",
              "    </tr>\n",
              "    <tr>\n",
              "      <th>28</th>\n",
              "      <td>28</td>\n",
              "      <td>Perdido [jazz1350]</td>\n",
              "      <td>949</td>\n",
              "      <td>Day In, Day Out [jazz1350]</td>\n",
              "      <td>0.915295</td>\n",
              "      <td>0.949933</td>\n",
              "      <td>0.963537</td>\n",
              "    </tr>\n",
              "    <tr>\n",
              "      <th>29</th>\n",
              "      <td>29</td>\n",
              "      <td>Perdido [jazz1350]</td>\n",
              "      <td>949</td>\n",
              "      <td>I Got Rhythm [trad]</td>\n",
              "      <td>0.938341</td>\n",
              "      <td>0.975469</td>\n",
              "      <td>0.961939</td>\n",
              "    </tr>\n",
              "    <tr>\n",
              "      <th>30</th>\n",
              "      <td>30</td>\n",
              "      <td>Perdido [jazz1350]</td>\n",
              "      <td>949</td>\n",
              "      <td>On A Clear Day [jazz1350]</td>\n",
              "      <td>0.920684</td>\n",
              "      <td>0.957134</td>\n",
              "      <td>0.961917</td>\n",
              "    </tr>\n",
              "    <tr>\n",
              "      <th>31</th>\n",
              "      <td>31</td>\n",
              "      <td>Perdido [jazz1350]</td>\n",
              "      <td>949</td>\n",
              "      <td>Be Careful It's My Heart [jazz1350]</td>\n",
              "      <td>0.913775</td>\n",
              "      <td>0.952160</td>\n",
              "      <td>0.959687</td>\n",
              "    </tr>\n",
              "    <tr>\n",
              "      <th>32</th>\n",
              "      <td>32</td>\n",
              "      <td>Perdido [jazz1350]</td>\n",
              "      <td>949</td>\n",
              "      <td>I Can't Believe That You're In Love With Me [t...</td>\n",
              "      <td>0.935776</td>\n",
              "      <td>0.975469</td>\n",
              "      <td>0.959309</td>\n",
              "    </tr>\n",
              "    <tr>\n",
              "      <th>33</th>\n",
              "      <td>33</td>\n",
              "      <td>Perdido [jazz1350]</td>\n",
              "      <td>949</td>\n",
              "      <td>How Are Things In Glocca Morra [jazz1350]</td>\n",
              "      <td>0.910569</td>\n",
              "      <td>0.952160</td>\n",
              "      <td>0.958561</td>\n",
              "    </tr>\n",
              "    <tr>\n",
              "      <th>34</th>\n",
              "      <td>34</td>\n",
              "      <td>Perdido [jazz1350]</td>\n",
              "      <td>949</td>\n",
              "      <td>On The Street Where You Live [jazz1350]</td>\n",
              "      <td>0.910251</td>\n",
              "      <td>0.952160</td>\n",
              "      <td>0.955985</td>\n",
              "    </tr>\n",
              "    <tr>\n",
              "      <th>35</th>\n",
              "      <td>35</td>\n",
              "      <td>Perdido [jazz1350]</td>\n",
              "      <td>949</td>\n",
              "      <td>Girl Of My Dreams [trad]</td>\n",
              "      <td>0.931619</td>\n",
              "      <td>0.975469</td>\n",
              "      <td>0.955048</td>\n",
              "    </tr>\n",
              "    <tr>\n",
              "      <th>36</th>\n",
              "      <td>36</td>\n",
              "      <td>Perdido [jazz1350]</td>\n",
              "      <td>949</td>\n",
              "      <td>Confessin' (That I Love You) [jazz1350]</td>\n",
              "      <td>0.906280</td>\n",
              "      <td>0.957134</td>\n",
              "      <td>0.951815</td>\n",
              "    </tr>\n",
              "    <tr>\n",
              "      <th>37</th>\n",
              "      <td>37</td>\n",
              "      <td>Perdido [jazz1350]</td>\n",
              "      <td>949</td>\n",
              "      <td>It Never Entered My Mind [jazz1350]</td>\n",
              "      <td>0.905017</td>\n",
              "      <td>0.952160</td>\n",
              "      <td>0.950488</td>\n",
              "    </tr>\n",
              "    <tr>\n",
              "      <th>38</th>\n",
              "      <td>38</td>\n",
              "      <td>Perdido [jazz1350]</td>\n",
              "      <td>949</td>\n",
              "      <td>Billy Boy [jazz1350]</td>\n",
              "      <td>0.909644</td>\n",
              "      <td>0.957134</td>\n",
              "      <td>0.950382</td>\n",
              "    </tr>\n",
              "    <tr>\n",
              "      <th>39</th>\n",
              "      <td>39</td>\n",
              "      <td>Perdido [jazz1350]</td>\n",
              "      <td>949</td>\n",
              "      <td>You Can Depend On Me [trad]</td>\n",
              "      <td>0.904441</td>\n",
              "      <td>0.952160</td>\n",
              "      <td>0.949883</td>\n",
              "    </tr>\n",
              "    <tr>\n",
              "      <th>40</th>\n",
              "      <td>40</td>\n",
              "      <td>Perdido [jazz1350]</td>\n",
              "      <td>949</td>\n",
              "      <td>I Love Being Here With You [jazz1350]</td>\n",
              "      <td>0.924886</td>\n",
              "      <td>0.975469</td>\n",
              "      <td>0.948146</td>\n",
              "    </tr>\n",
              "    <tr>\n",
              "      <th>41</th>\n",
              "      <td>41</td>\n",
              "      <td>Perdido [jazz1350]</td>\n",
              "      <td>949</td>\n",
              "      <td>Tautology [jazz1350]</td>\n",
              "      <td>0.902565</td>\n",
              "      <td>0.952160</td>\n",
              "      <td>0.947912</td>\n",
              "    </tr>\n",
              "    <tr>\n",
              "      <th>42</th>\n",
              "      <td>42</td>\n",
              "      <td>Perdido [jazz1350]</td>\n",
              "      <td>949</td>\n",
              "      <td>So Many Stars [jazz1350]</td>\n",
              "      <td>0.902150</td>\n",
              "      <td>0.952160</td>\n",
              "      <td>0.947478</td>\n",
              "    </tr>\n",
              "    <tr>\n",
              "      <th>43</th>\n",
              "      <td>43</td>\n",
              "      <td>Perdido [jazz1350]</td>\n",
              "      <td>949</td>\n",
              "      <td>Hello [jazz1350]</td>\n",
              "      <td>0.901981</td>\n",
              "      <td>0.952160</td>\n",
              "      <td>0.947299</td>\n",
              "    </tr>\n",
              "    <tr>\n",
              "      <th>44</th>\n",
              "      <td>44</td>\n",
              "      <td>Perdido [jazz1350]</td>\n",
              "      <td>949</td>\n",
              "      <td>Home Cookin' [jazz1350]</td>\n",
              "      <td>0.904464</td>\n",
              "      <td>0.957134</td>\n",
              "      <td>0.944971</td>\n",
              "    </tr>\n",
              "    <tr>\n",
              "      <th>45</th>\n",
              "      <td>45</td>\n",
              "      <td>Perdido [jazz1350]</td>\n",
              "      <td>949</td>\n",
              "      <td>C.T.A. [jazz1350]</td>\n",
              "      <td>0.921160</td>\n",
              "      <td>0.975469</td>\n",
              "      <td>0.944326</td>\n",
              "    </tr>\n",
              "    <tr>\n",
              "      <th>46</th>\n",
              "      <td>46</td>\n",
              "      <td>Perdido [jazz1350]</td>\n",
              "      <td>949</td>\n",
              "      <td>I Left My Heart In San Francisco [jazz1350]</td>\n",
              "      <td>0.896739</td>\n",
              "      <td>0.949933</td>\n",
              "      <td>0.944003</td>\n",
              "    </tr>\n",
              "    <tr>\n",
              "      <th>47</th>\n",
              "      <td>47</td>\n",
              "      <td>Perdido [jazz1350]</td>\n",
              "      <td>949</td>\n",
              "      <td>Sometimes I'm Happy [jazz1350]</td>\n",
              "      <td>0.897933</td>\n",
              "      <td>0.957134</td>\n",
              "      <td>0.943814</td>\n",
              "    </tr>\n",
              "    <tr>\n",
              "      <th>48</th>\n",
              "      <td>48</td>\n",
              "      <td>Perdido [jazz1350]</td>\n",
              "      <td>949</td>\n",
              "      <td>Where Are You [jazz1350]</td>\n",
              "      <td>0.898179</td>\n",
              "      <td>0.952160</td>\n",
              "      <td>0.943306</td>\n",
              "    </tr>\n",
              "    <tr>\n",
              "      <th>49</th>\n",
              "      <td>49</td>\n",
              "      <td>Perdido [jazz1350]</td>\n",
              "      <td>949</td>\n",
              "      <td>Forever Sonny [jazz1350]</td>\n",
              "      <td>0.917591</td>\n",
              "      <td>0.975469</td>\n",
              "      <td>0.940667</td>\n",
              "    </tr>\n",
              "  </tbody>\n",
              "</table>\n",
              "</div>"
            ],
            "text/plain": [
              "    index           reference  ...       max score_div_max\n",
              "0       0  Perdido [jazz1350]  ...  0.957134      1.000000\n",
              "1       1  Perdido [jazz1350]  ...  0.957134      1.000000\n",
              "2       2  Perdido [jazz1350]  ...  0.975469      1.000000\n",
              "3       3  Perdido [jazz1350]  ...  0.957134      1.000000\n",
              "4       4  Perdido [jazz1350]  ...  0.957134      0.998231\n",
              "5       5  Perdido [jazz1350]  ...  0.975469      0.998096\n",
              "6       6  Perdido [jazz1350]  ...  0.975469      0.998065\n",
              "7       7  Perdido [jazz1350]  ...  0.975469      0.997966\n",
              "8       8  Perdido [jazz1350]  ...  0.957134      0.993884\n",
              "9       9  Perdido [jazz1350]  ...  0.975469      0.992468\n",
              "10     10  Perdido [jazz1350]  ...  0.975469      0.991431\n",
              "11     11  Perdido [jazz1350]  ...  0.975469      0.990716\n",
              "12     12  Perdido [jazz1350]  ...  0.975469      0.987729\n",
              "13     13  Perdido [jazz1350]  ...  0.975469      0.986946\n",
              "14     14  Perdido [jazz1350]  ...  0.975469      0.983464\n",
              "15     15  Perdido [jazz1350]  ...  0.975469      0.983216\n",
              "16     16  Perdido [jazz1350]  ...  0.975469      0.980868\n",
              "17     17  Perdido [jazz1350]  ...  0.949933      0.979987\n",
              "18     18  Perdido [jazz1350]  ...  0.957134      0.977629\n",
              "19     19  Perdido [jazz1350]  ...  0.975469      0.974291\n",
              "20     20  Perdido [jazz1350]  ...  0.957134      0.974276\n",
              "21     21  Perdido [jazz1350]  ...  0.975469      0.972113\n",
              "22     22  Perdido [jazz1350]  ...  0.952160      0.971156\n",
              "23     23  Perdido [jazz1350]  ...  0.975469      0.970819\n",
              "24     24  Perdido [jazz1350]  ...  0.957134      0.969015\n",
              "25     25  Perdido [jazz1350]  ...  0.975469      0.968067\n",
              "26     26  Perdido [jazz1350]  ...  0.975469      0.966869\n",
              "27     27  Perdido [jazz1350]  ...  0.975469      0.964507\n",
              "28     28  Perdido [jazz1350]  ...  0.949933      0.963537\n",
              "29     29  Perdido [jazz1350]  ...  0.975469      0.961939\n",
              "30     30  Perdido [jazz1350]  ...  0.957134      0.961917\n",
              "31     31  Perdido [jazz1350]  ...  0.952160      0.959687\n",
              "32     32  Perdido [jazz1350]  ...  0.975469      0.959309\n",
              "33     33  Perdido [jazz1350]  ...  0.952160      0.958561\n",
              "34     34  Perdido [jazz1350]  ...  0.952160      0.955985\n",
              "35     35  Perdido [jazz1350]  ...  0.975469      0.955048\n",
              "36     36  Perdido [jazz1350]  ...  0.957134      0.951815\n",
              "37     37  Perdido [jazz1350]  ...  0.952160      0.950488\n",
              "38     38  Perdido [jazz1350]  ...  0.957134      0.950382\n",
              "39     39  Perdido [jazz1350]  ...  0.952160      0.949883\n",
              "40     40  Perdido [jazz1350]  ...  0.975469      0.948146\n",
              "41     41  Perdido [jazz1350]  ...  0.952160      0.947912\n",
              "42     42  Perdido [jazz1350]  ...  0.952160      0.947478\n",
              "43     43  Perdido [jazz1350]  ...  0.952160      0.947299\n",
              "44     44  Perdido [jazz1350]  ...  0.957134      0.944971\n",
              "45     45  Perdido [jazz1350]  ...  0.975469      0.944326\n",
              "46     46  Perdido [jazz1350]  ...  0.949933      0.944003\n",
              "47     47  Perdido [jazz1350]  ...  0.957134      0.943814\n",
              "48     48  Perdido [jazz1350]  ...  0.952160      0.943306\n",
              "49     49  Perdido [jazz1350]  ...  0.975469      0.940667\n",
              "\n",
              "[50 rows x 7 columns]"
            ]
          },
          "metadata": {},
          "execution_count": 98
        }
      ]
    },
    {
      "cell_type": "code",
      "metadata": {
        "id": "hLFaFo62XlMS",
        "colab": {
          "base_uri": "https://localhost:8080/"
        },
        "outputId": "3ae110a9-5f76-44b2-8526-6ac8fb80cada"
      },
      "source": [
        "dd = pd.DataFrame(columns = recommender_results_cols)\n",
        "\n",
        "for tune in tunes_eval_list:\n",
        "  result, details = recommend_tune(df_sim, tune)\n",
        "  dd['id'] = result['index']\n",
        "  dd['reference'] = tune\n",
        "  dd['method'] = 'doc2vec'\n",
        "  dd['similar'] = result['similar_title']\n",
        "  dd['score_div_max'] = result['score_div_max']\n",
        "  dd['score'] = result['score']\n",
        "\n",
        "recommender_results = recommender_results.append(dd)\n",
        "len(recommender_results)"
      ],
      "execution_count": 99,
      "outputs": [
        {
          "output_type": "stream",
          "name": "stdout",
          "text": [
            "Index(['similar_title', 'score', 'max', 'score_div_max', 'reference',\n",
            "       'reference_titleid'],\n",
            "      dtype='object')\n",
            "Index(['similar_title', 'score', 'max', 'score_div_max', 'reference',\n",
            "       'reference_titleid'],\n",
            "      dtype='object')\n",
            "Index(['similar_title', 'score', 'max', 'score_div_max', 'reference',\n",
            "       'reference_titleid'],\n",
            "      dtype='object')\n",
            "Index(['similar_title', 'score', 'max', 'score_div_max', 'reference',\n",
            "       'reference_titleid'],\n",
            "      dtype='object')\n",
            "Index(['similar_title', 'score', 'max', 'score_div_max', 'reference',\n",
            "       'reference_titleid'],\n",
            "      dtype='object')\n",
            "Index(['similar_title', 'score', 'max', 'score_div_max', 'reference',\n",
            "       'reference_titleid'],\n",
            "      dtype='object')\n",
            "Index(['similar_title', 'score', 'max', 'score_div_max', 'reference',\n",
            "       'reference_titleid'],\n",
            "      dtype='object')\n",
            "Index(['similar_title', 'score', 'max', 'score_div_max', 'reference',\n",
            "       'reference_titleid'],\n",
            "      dtype='object')\n",
            "Index(['similar_title', 'score', 'max', 'score_div_max', 'reference',\n",
            "       'reference_titleid'],\n",
            "      dtype='object')\n",
            "Index(['similar_title', 'score', 'max', 'score_div_max', 'reference',\n",
            "       'reference_titleid'],\n",
            "      dtype='object')\n",
            "Index(['similar_title', 'score', 'max', 'score_div_max', 'reference',\n",
            "       'reference_titleid'],\n",
            "      dtype='object')\n",
            "Index(['similar_title', 'score', 'max', 'score_div_max', 'reference',\n",
            "       'reference_titleid'],\n",
            "      dtype='object')\n",
            "Index(['similar_title', 'score', 'max', 'score_div_max', 'reference',\n",
            "       'reference_titleid'],\n",
            "      dtype='object')\n",
            "Index(['similar_title', 'score', 'max', 'score_div_max', 'reference',\n",
            "       'reference_titleid'],\n",
            "      dtype='object')\n",
            "Index(['similar_title', 'score', 'max', 'score_div_max', 'reference',\n",
            "       'reference_titleid'],\n",
            "      dtype='object')\n",
            "Index(['similar_title', 'score', 'max', 'score_div_max', 'reference',\n",
            "       'reference_titleid'],\n",
            "      dtype='object')\n",
            "Index(['similar_title', 'score', 'max', 'score_div_max', 'reference',\n",
            "       'reference_titleid'],\n",
            "      dtype='object')\n",
            "Index(['similar_title', 'score', 'max', 'score_div_max', 'reference',\n",
            "       'reference_titleid'],\n",
            "      dtype='object')\n",
            "Index(['similar_title', 'score', 'max', 'score_div_max', 'reference',\n",
            "       'reference_titleid'],\n",
            "      dtype='object')\n",
            "Index(['similar_title', 'score', 'max', 'score_div_max', 'reference',\n",
            "       'reference_titleid'],\n",
            "      dtype='object')\n",
            "Index(['similar_title', 'score', 'max', 'score_div_max', 'reference',\n",
            "       'reference_titleid'],\n",
            "      dtype='object')\n",
            "Index(['similar_title', 'score', 'max', 'score_div_max', 'reference',\n",
            "       'reference_titleid'],\n",
            "      dtype='object')\n",
            "Index(['similar_title', 'score', 'max', 'score_div_max', 'reference',\n",
            "       'reference_titleid'],\n",
            "      dtype='object')\n",
            "Index(['similar_title', 'score', 'max', 'score_div_max', 'reference',\n",
            "       'reference_titleid'],\n",
            "      dtype='object')\n"
          ]
        },
        {
          "output_type": "execute_result",
          "data": {
            "text/plain": [
              "232"
            ]
          },
          "metadata": {},
          "execution_count": 99
        }
      ]
    },
    {
      "cell_type": "markdown",
      "metadata": {
        "id": "aosPKEWljlm0"
      },
      "source": [
        "### Contrafacts"
      ]
    },
    {
      "cell_type": "code",
      "metadata": {
        "id": "SaYSqTJokGc5"
      },
      "source": [
        "def test_doc2vec_contrafacts(tunes, N=15):\n",
        "  matches = 0\n",
        "  number_of_sections = 0\n",
        "  results = {}\n",
        "\n",
        "  for tune, similar_tune in contrafacts.items():\n",
        "    \n",
        "    # loop over all sections of the tune\n",
        "    sub_match = 0\n",
        "    for s1 in title_to_sectionid[tune]:\n",
        "      sims = model.dv.similar_by_key(s1, topn=N)\n",
        "      # check if the section matches the expected title; consider only the first 15 recommendations\n",
        "      i = 0\n",
        "      for match, value in sims:\n",
        "        # tune match\n",
        "        if (type(match) == str):\n",
        "          titleid = int(match.replace('titleid_', ''))\n",
        "          if titleid_to_title[titleid] == similar_tune:\n",
        "            sub_match += 1\n",
        "\n",
        "        # section match\n",
        "        else:\n",
        "          if sectionid_to_title[match] == similar_tune:\n",
        "            sub_match += 1\n",
        "\n",
        "    # for each title, increase matches if at least one of the section matched the expected title\n",
        "    if sub_match > 0:\n",
        "      matches += 1  \n",
        "      results[tune] = 1\n",
        "    else:\n",
        "      results[tune] = 0\n",
        "  \n",
        "  return matches, results"
      ],
      "execution_count": 100,
      "outputs": []
    },
    {
      "cell_type": "code",
      "metadata": {
        "colab": {
          "base_uri": "https://localhost:8080/"
        },
        "id": "eAjM3lU4ltzP",
        "outputId": "488ab697-45ec-4e43-a2e0-9d3570cc1347"
      },
      "source": [
        "topN = 15\n",
        "matches, results = test_doc2vec_contrafacts(contrafacts, topN)\n",
        "\n",
        "[print(f\"{val}: {rr}\") for rr, val in results.items()] \n",
        "print() \n",
        "print(f\"Found matches: {matches} out of {len(contrafacts)}: {100*matches/len(contrafacts):.3f}%\")"
      ],
      "execution_count": 101,
      "outputs": [
        {
          "output_type": "stream",
          "name": "stdout",
          "text": [
            "0: 26-2 [jazz1350]\n",
            "0: 52nd Street Theme [jazz1350]\n",
            "1: Ablution [jazz1350]\n",
            "1: Anthropology [jazz1350]\n",
            "1: Ballade [jazz1350]\n",
            "1: Bright Mississippi [jazz1350]\n",
            "0: C.T.A. [jazz1350]\n",
            "1: Cottontail [jazz1350]\n",
            "0: Countdown [jazz1350]\n",
            "0: Dewey Square [jazz1350]\n",
            "0: Dexterity [jazz1350]\n",
            "1: Dig [jazz1350]\n",
            "1: Donna Lee [jazz1350]\n",
            "0: Don't Be That Way [jazz1350]\n",
            "1: Evidence [jazz1350]\n",
            "0: Flintstones [jazz1350]\n",
            "0: Four On Six [jazz1350]\n",
            "0: Freight Train [jazz1350]\n",
            "0: Good Bait [jazz1350]\n",
            "1: Hackensack [jazz1350]\n",
            "1: Half Nelson [jazz1350]\n",
            "1: Hot House [jazz1350]\n",
            "1: Impressions [jazz1350]\n",
            "0: In A Mellow Tone (In A Mellotone) [jazz1350]\n",
            "0: In Walked Bud [jazz1350]\n",
            "1: Ko Ko [jazz1350]\n",
            "0: Lennie's Pennies [jazz1350]\n",
            "0: Little Rootie Tootie [jazz1350]\n",
            "0: Little Willie Leaps [jazz1350]\n",
            "1: Lullaby Of Birdland [jazz1350]\n",
            "0: My Little Suede Shoes [jazz1350]\n",
            "1: Ornithology [jazz1350]\n",
            "0: Quasimodo (Theme) [jazz1350]\n",
            "0: Room 608 [jazz1350]\n",
            "1: Satellite [jazz1350]\n",
            "0: Scrapple From The Apple [jazz1350]\n",
            "0: Tour De Force [jazz1350]\n",
            "0: Wow [jazz1350]\n",
            "1: Yardbird Suite [jazz1350]\n",
            "0: Sweet Sue, Just You [jazz1350]\n",
            "0: These Foolish Things [jazz1350]\n",
            "1: Misty [jazz1350]\n",
            "\n",
            "Found matches: 18 out of 42: 42.857%\n"
          ]
        }
      ]
    },
    {
      "cell_type": "code",
      "metadata": {
        "id": "8C0kzj0Jp425"
      },
      "source": [
        "model_name = 'doc2vec'\n",
        "if use_wandb:\n",
        "  wandb.log(\n",
        "      {model_name: {\n",
        "                'contrafacts': {\n",
        "                    'topN': topN,\n",
        "                    'success': matches/len(contrafacts),\n",
        "                    #'results': results\n",
        "                    }\n",
        "                   },\n",
        "       'all_models': {\n",
        "           model_name: wandb.Table(\n",
        "               columns=[\"Title\", \"Match\"],\n",
        "               data=[[key, value] for key, value in results.items()]),\n",
        "       }\n",
        "       })"
      ],
      "execution_count": 102,
      "outputs": []
    },
    {
      "cell_type": "markdown",
      "metadata": {
        "id": "_UzVV5yn4Q-K"
      },
      "source": [
        "### Save Results for WebApp"
      ]
    },
    {
      "cell_type": "code",
      "metadata": {
        "colab": {
          "base_uri": "https://localhost:8080/"
        },
        "id": "vqxX8YaWsyh7",
        "outputId": "932d7054-28f9-4fa4-deb4-cdd32de036f6"
      },
      "source": [
        "%%time\n",
        "tunes = tunes_eval_list\n",
        "\n",
        "df_sim = get_section_scores_doc2vec(tunes_list)\n",
        "\n",
        "result = None\n",
        "for tune in tunes:\n",
        "  tune_result, details = recommend_tune(df_sim, tune)\n",
        "  if result is None:\n",
        "    result = pd.DataFrame(columns=tune_result.columns)\n",
        "  result = result.append(tune_result)\n",
        "\n",
        "print(f\"Result has {len(result)} rows.\")"
      ],
      "execution_count": 103,
      "outputs": [
        {
          "output_type": "stream",
          "name": "stdout",
          "text": [
            "\n",
            "--------------------------------------------------\n",
            "125 After You've Gone, section1 (A)\n",
            "126 After You've Gone, section2 (B)\n",
            "127 After You've Gone, section3 (A)\n",
            "128 After You've Gone, section4 (C)\n",
            "\n",
            "--------------------------------------------------\n",
            "188 All God's Chillun Got Rhythm, section1 (A)\n",
            "189 All God's Chillun Got Rhythm, section2 (B)\n",
            "190 All God's Chillun Got Rhythm, section3 (A)\n",
            "191 All God's Chillun Got Rhythm, section4 (C)\n",
            "\n",
            "--------------------------------------------------\n",
            "198 All Of Me, section1 (A)\n",
            "199 All Of Me, section2 (B)\n",
            "200 All Of Me, section3 (A)\n",
            "201 All Of Me, section4 (C)\n",
            "\n",
            "--------------------------------------------------\n",
            "474 Blood Count, section1 (A)\n",
            "475 Blood Count, section2 (A)\n",
            "476 Blood Count, section3 (B)\n",
            "477 Blood Count, section4 (A)\n",
            "478 Blood Count, section5 (C)\n",
            "\n",
            "--------------------------------------------------\n",
            "496 Blue Moon, section1 (A)\n",
            "497 Blue Moon, section2 (A)\n",
            "498 Blue Moon, section3 (B)\n",
            "499 Blue Moon, section4 (A)\n",
            "\n",
            "--------------------------------------------------\n",
            "626 But Beautiful, section1 (A)\n",
            "627 But Beautiful, section2 (B)\n",
            "628 But Beautiful, section3 (A)\n",
            "629 But Beautiful, section4 (C)\n",
            "\n",
            "--------------------------------------------------\n",
            "653 Bye Bye Blackbird, section1 (A)\n",
            "654 Bye Bye Blackbird, section2 (B)\n",
            "\n",
            "--------------------------------------------------\n",
            "676 Call Me Irresponsible, section1 (A)\n",
            "677 Call Me Irresponsible, section2 (B)\n",
            "678 Call Me Irresponsible, section3 (A)\n",
            "679 Call Me Irresponsible, section4 (B)\n",
            "\n",
            "--------------------------------------------------\n",
            "826 Corcovado, section1 (A)\n",
            "827 Corcovado, section2 (B)\n",
            "828 Corcovado, section3 (A)\n",
            "829 Corcovado, section4 (C)\n",
            "\n",
            "--------------------------------------------------\n",
            "997 Dinah, section1 (A)\n",
            "998 Dinah, section2 (A)\n",
            "999 Dinah, section3 (B)\n",
            "1000 Dinah, section4 (A)\n",
            "\n",
            "--------------------------------------------------\n",
            "1125 East Of The Sun, section1 (A)\n",
            "1126 East Of The Sun, section2 (B)\n",
            "1127 East Of The Sun, section3 (A)\n",
            "1128 East Of The Sun, section4 (C)\n",
            "\n",
            "--------------------------------------------------\n",
            "1287 Footprints, section0 (nan)\n",
            "\n",
            "--------------------------------------------------\n",
            "1379 Giant Steps, section0 (nan)\n",
            "\n",
            "--------------------------------------------------\n",
            "1538 Honeysuckle Rose, section1 (A)\n",
            "1539 Honeysuckle Rose, section2 (A)\n",
            "1540 Honeysuckle Rose, section3 (B)\n",
            "1541 Honeysuckle Rose, section4 (A)\n",
            "\n",
            "--------------------------------------------------\n",
            "1647 I Got Rhythm, section1 (A)\n",
            "1648 I Got Rhythm, section2 (A)\n",
            "1649 I Got Rhythm, section3 (B)\n",
            "1650 I Got Rhythm, section4 (A)\n",
            "\n",
            "--------------------------------------------------\n",
            "2670 Misty, section1 (A)\n",
            "2671 Misty, section2 (A)\n",
            "2672 Misty, section3 (B)\n",
            "2673 Misty, section4 (A)\n",
            "\n",
            "--------------------------------------------------\n",
            "2857 Naima, section1 (A)\n",
            "2858 Naima, section2 (A)\n",
            "2859 Naima, section3 (B)\n",
            "2860 Naima, section4 (A)\n",
            "\n",
            "--------------------------------------------------\n",
            "5044 Old Fashioned Love, section0 (nan)\n",
            "\n",
            "--------------------------------------------------\n",
            "3142 Perdido, section1 (A)\n",
            "3143 Perdido, section2 (A)\n",
            "3144 Perdido, section3 (B)\n",
            "3145 Perdido, section4 (A)\n",
            "\n",
            "--------------------------------------------------\n",
            "3276 Rockin' Chair, section1 (A)\n",
            "3277 Rockin' Chair, section2 (B)\n",
            "3278 Rockin' Chair, section3 (A)\n",
            "\n",
            "--------------------------------------------------\n",
            "3578 Sophisticated Lady, section1 (A)\n",
            "3579 Sophisticated Lady, section2 (A)\n",
            "3580 Sophisticated Lady, section3 (B)\n",
            "3581 Sophisticated Lady, section4 (A)\n",
            "\n",
            "--------------------------------------------------\n",
            "3746 Sweet Sue, Just You, section1 (A)\n",
            "3747 Sweet Sue, Just You, section2 (A)\n",
            "3748 Sweet Sue, Just You, section3 (B)\n",
            "3749 Sweet Sue, Just You, section4 (A)\n",
            "\n",
            "--------------------------------------------------\n",
            "3860 These Foolish Things, section1 (A)\n",
            "3861 These Foolish Things, section2 (A)\n",
            "3862 These Foolish Things, section3 (B)\n",
            "3863 These Foolish Things, section4 (A)\n",
            "\n",
            "--------------------------------------------------\n",
            "4146 We'll Be Together Again, section1 (A)\n",
            "4147 We'll Be Together Again, section2 (A)\n",
            "4148 We'll Be Together Again, section3 (B)\n",
            "4149 We'll Be Together Again, section4 (A)\n",
            "Index(['similar_title', 'score', 'max', 'score_div_max', 'reference',\n",
            "       'reference_titleid'],\n",
            "      dtype='object')\n",
            "Index(['similar_title', 'score', 'max', 'score_div_max', 'reference',\n",
            "       'reference_titleid'],\n",
            "      dtype='object')\n",
            "Index(['similar_title', 'score', 'max', 'score_div_max', 'reference',\n",
            "       'reference_titleid'],\n",
            "      dtype='object')\n",
            "Index(['similar_title', 'score', 'max', 'score_div_max', 'reference',\n",
            "       'reference_titleid'],\n",
            "      dtype='object')\n",
            "Index(['similar_title', 'score', 'max', 'score_div_max', 'reference',\n",
            "       'reference_titleid'],\n",
            "      dtype='object')\n",
            "Index(['similar_title', 'score', 'max', 'score_div_max', 'reference',\n",
            "       'reference_titleid'],\n",
            "      dtype='object')\n",
            "Index(['similar_title', 'score', 'max', 'score_div_max', 'reference',\n",
            "       'reference_titleid'],\n",
            "      dtype='object')\n",
            "Index(['similar_title', 'score', 'max', 'score_div_max', 'reference',\n",
            "       'reference_titleid'],\n",
            "      dtype='object')\n",
            "Index(['similar_title', 'score', 'max', 'score_div_max', 'reference',\n",
            "       'reference_titleid'],\n",
            "      dtype='object')\n",
            "Index(['similar_title', 'score', 'max', 'score_div_max', 'reference',\n",
            "       'reference_titleid'],\n",
            "      dtype='object')\n",
            "Index(['similar_title', 'score', 'max', 'score_div_max', 'reference',\n",
            "       'reference_titleid'],\n",
            "      dtype='object')\n",
            "Index(['similar_title', 'score', 'max', 'score_div_max', 'reference',\n",
            "       'reference_titleid'],\n",
            "      dtype='object')\n",
            "Index(['similar_title', 'score', 'max', 'score_div_max', 'reference',\n",
            "       'reference_titleid'],\n",
            "      dtype='object')\n",
            "Index(['similar_title', 'score', 'max', 'score_div_max', 'reference',\n",
            "       'reference_titleid'],\n",
            "      dtype='object')\n",
            "Index(['similar_title', 'score', 'max', 'score_div_max', 'reference',\n",
            "       'reference_titleid'],\n",
            "      dtype='object')\n",
            "Index(['similar_title', 'score', 'max', 'score_div_max', 'reference',\n",
            "       'reference_titleid'],\n",
            "      dtype='object')\n",
            "Index(['similar_title', 'score', 'max', 'score_div_max', 'reference',\n",
            "       'reference_titleid'],\n",
            "      dtype='object')\n",
            "Index(['similar_title', 'score', 'max', 'score_div_max', 'reference',\n",
            "       'reference_titleid'],\n",
            "      dtype='object')\n",
            "Index(['similar_title', 'score', 'max', 'score_div_max', 'reference',\n",
            "       'reference_titleid'],\n",
            "      dtype='object')\n",
            "Index(['similar_title', 'score', 'max', 'score_div_max', 'reference',\n",
            "       'reference_titleid'],\n",
            "      dtype='object')\n",
            "Index(['similar_title', 'score', 'max', 'score_div_max', 'reference',\n",
            "       'reference_titleid'],\n",
            "      dtype='object')\n",
            "Index(['similar_title', 'score', 'max', 'score_div_max', 'reference',\n",
            "       'reference_titleid'],\n",
            "      dtype='object')\n",
            "Index(['similar_title', 'score', 'max', 'score_div_max', 'reference',\n",
            "       'reference_titleid'],\n",
            "      dtype='object')\n",
            "Index(['similar_title', 'score', 'max', 'score_div_max', 'reference',\n",
            "       'reference_titleid'],\n",
            "      dtype='object')\n",
            "Result has 1753 rows.\n",
            "CPU times: user 19.2 s, sys: 8.59 s, total: 27.8 s\n",
            "Wall time: 18.6 s\n"
          ]
        }
      ]
    },
    {
      "cell_type": "code",
      "metadata": {
        "id": "D5E6zrWd4Sml",
        "outputId": "a47b8fda-a339-42f2-c117-5760edcc2ba7",
        "colab": {
          "base_uri": "https://localhost:8080/",
          "height": 424
        }
      },
      "source": [
        "result"
      ],
      "execution_count": 104,
      "outputs": [
        {
          "output_type": "execute_result",
          "data": {
            "text/html": [
              "<div>\n",
              "<style scoped>\n",
              "    .dataframe tbody tr th:only-of-type {\n",
              "        vertical-align: middle;\n",
              "    }\n",
              "\n",
              "    .dataframe tbody tr th {\n",
              "        vertical-align: top;\n",
              "    }\n",
              "\n",
              "    .dataframe thead th {\n",
              "        text-align: right;\n",
              "    }\n",
              "</style>\n",
              "<table border=\"1\" class=\"dataframe\">\n",
              "  <thead>\n",
              "    <tr style=\"text-align: right;\">\n",
              "      <th></th>\n",
              "      <th>index</th>\n",
              "      <th>reference</th>\n",
              "      <th>reference_titleid</th>\n",
              "      <th>similar_title</th>\n",
              "      <th>score</th>\n",
              "      <th>max</th>\n",
              "      <th>score_div_max</th>\n",
              "    </tr>\n",
              "  </thead>\n",
              "  <tbody>\n",
              "    <tr>\n",
              "      <th>0</th>\n",
              "      <td>0</td>\n",
              "      <td>After You've Gone [jazz1350]</td>\n",
              "      <td>38</td>\n",
              "      <td>For You, For Me, For Evermore [jazz1350]</td>\n",
              "      <td>0.921087</td>\n",
              "      <td>0.921087</td>\n",
              "      <td>1.000000</td>\n",
              "    </tr>\n",
              "    <tr>\n",
              "      <th>1</th>\n",
              "      <td>1</td>\n",
              "      <td>After You've Gone [jazz1350]</td>\n",
              "      <td>38</td>\n",
              "      <td>A Tisket A Tasket [jazz1350]</td>\n",
              "      <td>0.898297</td>\n",
              "      <td>0.898297</td>\n",
              "      <td>1.000000</td>\n",
              "    </tr>\n",
              "    <tr>\n",
              "      <th>2</th>\n",
              "      <td>2</td>\n",
              "      <td>After You've Gone [jazz1350]</td>\n",
              "      <td>38</td>\n",
              "      <td>Home At Last [jazz1350]</td>\n",
              "      <td>0.793244</td>\n",
              "      <td>0.793244</td>\n",
              "      <td>1.000000</td>\n",
              "    </tr>\n",
              "    <tr>\n",
              "      <th>3</th>\n",
              "      <td>3</td>\n",
              "      <td>After You've Gone [jazz1350]</td>\n",
              "      <td>38</td>\n",
              "      <td>Star Dust [jazz1350]</td>\n",
              "      <td>0.883988</td>\n",
              "      <td>0.898297</td>\n",
              "      <td>1.000000</td>\n",
              "    </tr>\n",
              "    <tr>\n",
              "      <th>4</th>\n",
              "      <td>4</td>\n",
              "      <td>After You've Gone [jazz1350]</td>\n",
              "      <td>38</td>\n",
              "      <td>Make Someone Happy [jazz1350]</td>\n",
              "      <td>0.873533</td>\n",
              "      <td>0.898297</td>\n",
              "      <td>0.991859</td>\n",
              "    </tr>\n",
              "    <tr>\n",
              "      <th>...</th>\n",
              "      <td>...</td>\n",
              "      <td>...</td>\n",
              "      <td>...</td>\n",
              "      <td>...</td>\n",
              "      <td>...</td>\n",
              "      <td>...</td>\n",
              "      <td>...</td>\n",
              "    </tr>\n",
              "    <tr>\n",
              "      <th>66</th>\n",
              "      <td>66</td>\n",
              "      <td>We'll Be Together Again [jazz1350]</td>\n",
              "      <td>1257</td>\n",
              "      <td>Lamp Is Low, The [jazz1350]</td>\n",
              "      <td>0.713525</td>\n",
              "      <td>0.882073</td>\n",
              "      <td>0.808919</td>\n",
              "    </tr>\n",
              "    <tr>\n",
              "      <th>67</th>\n",
              "      <td>67</td>\n",
              "      <td>We'll Be Together Again [jazz1350]</td>\n",
              "      <td>1257</td>\n",
              "      <td>A Sunday Kind Of Love [jazz1350]</td>\n",
              "      <td>0.711985</td>\n",
              "      <td>0.882073</td>\n",
              "      <td>0.807173</td>\n",
              "    </tr>\n",
              "    <tr>\n",
              "      <th>68</th>\n",
              "      <td>68</td>\n",
              "      <td>We'll Be Together Again [jazz1350]</td>\n",
              "      <td>1257</td>\n",
              "      <td>Isotope [jazz1350]</td>\n",
              "      <td>0.709844</td>\n",
              "      <td>0.882073</td>\n",
              "      <td>0.804745</td>\n",
              "    </tr>\n",
              "    <tr>\n",
              "      <th>69</th>\n",
              "      <td>69</td>\n",
              "      <td>We'll Be Together Again [jazz1350]</td>\n",
              "      <td>1257</td>\n",
              "      <td>Bye Bye Blues [jazz1350]</td>\n",
              "      <td>0.707972</td>\n",
              "      <td>0.882073</td>\n",
              "      <td>0.802623</td>\n",
              "    </tr>\n",
              "    <tr>\n",
              "      <th>70</th>\n",
              "      <td>70</td>\n",
              "      <td>We'll Be Together Again [jazz1350]</td>\n",
              "      <td>1257</td>\n",
              "      <td>Let's Face The Music And Dance [jazz1350]</td>\n",
              "      <td>0.706391</td>\n",
              "      <td>0.882073</td>\n",
              "      <td>0.800830</td>\n",
              "    </tr>\n",
              "  </tbody>\n",
              "</table>\n",
              "<p>1753 rows × 7 columns</p>\n",
              "</div>"
            ],
            "text/plain": [
              "   index                           reference  ...       max score_div_max\n",
              "0      0        After You've Gone [jazz1350]  ...  0.921087      1.000000\n",
              "1      1        After You've Gone [jazz1350]  ...  0.898297      1.000000\n",
              "2      2        After You've Gone [jazz1350]  ...  0.793244      1.000000\n",
              "3      3        After You've Gone [jazz1350]  ...  0.898297      1.000000\n",
              "4      4        After You've Gone [jazz1350]  ...  0.898297      0.991859\n",
              "..   ...                                 ...  ...       ...           ...\n",
              "66    66  We'll Be Together Again [jazz1350]  ...  0.882073      0.808919\n",
              "67    67  We'll Be Together Again [jazz1350]  ...  0.882073      0.807173\n",
              "68    68  We'll Be Together Again [jazz1350]  ...  0.882073      0.804745\n",
              "69    69  We'll Be Together Again [jazz1350]  ...  0.882073      0.802623\n",
              "70    70  We'll Be Together Again [jazz1350]  ...  0.882073      0.800830\n",
              "\n",
              "[1753 rows x 7 columns]"
            ]
          },
          "metadata": {},
          "execution_count": 104
        }
      ]
    },
    {
      "cell_type": "code",
      "metadata": {
        "id": "AdB5bwh4q9NY"
      },
      "source": [
        "result.to_csv('output/recommender_doc2vec.csv', sep='\\t', encoding='utf8')\n",
        "\n",
        "if use_wandb:\n",
        "  model_artifact = wandb.Artifact(\n",
        "      \"recommender_doc2vec\", \n",
        "      type=\"csv\",\n",
        "      description=\"Recommendations for each Tune using doc2vec Model (csv file)\",\n",
        "      metadata=\"\")\n",
        "\n",
        "  model_artifact.add_file(\"'output/recommender_doc2vec.csv'\")\n",
        "  wandb.log_artifact(model_artifact)"
      ],
      "execution_count": 105,
      "outputs": []
    },
    {
      "cell_type": "markdown",
      "metadata": {
        "id": "XmDZT5t7gjgV"
      },
      "source": [
        "# Venn diagrams for Results"
      ]
    },
    {
      "cell_type": "code",
      "metadata": {
        "id": "1YJ5FLt-2WS4"
      },
      "source": [
        "import matplotlib.pyplot as plt\n",
        "from matplotlib_venn import venn3"
      ],
      "execution_count": 106,
      "outputs": []
    },
    {
      "cell_type": "code",
      "metadata": {
        "id": "U6WrsBcc00ar",
        "colab": {
          "base_uri": "https://localhost:8080/",
          "height": 1000
        },
        "outputId": "9641fa89-8f14-4aaa-df2e-2f55a3d7f6a7"
      },
      "source": [
        "for tune in tunes_eval_list:\n",
        "  df, details = recommend_tune(df_tfidf, tune)\n",
        "  tfidf_tunes = list(df.head(30).loc[:,'similar_title'])\n",
        "\n",
        "  df, details = recommend_tune(df_lsi, tune)\n",
        "  lsi_tunes = list(df.head(30).loc[:,'similar_title'])\n",
        "\n",
        "  df, details = recommend_tune(df_doc2vec, tune)\n",
        "  word2vec_tunes = list(df.head(30).loc[:,'similar_title'])\n",
        "\n",
        "  set_tfidf = set(tfidf_tunes)\n",
        "  set_lsi = set(lsi_tunes)\n",
        "  set_word2vec = set(word2vec_tunes)\n",
        "\n",
        "  venn3([set_tfidf, set_lsi, set_word2vec], \n",
        "        set_labels=('TF-IDF', 'LSI', 'Doc2Vec'),\n",
        "        )\n",
        "  plt.title(f\"{tune}\")\n",
        "  plt.savefig('plot.png')\n",
        "  \n",
        "  if use_wandb:\n",
        "    wandb.log({\"venn_methods\": wandb.Image('plot.png')})\n",
        "  \n",
        "  plt.show()"
      ],
      "execution_count": 107,
      "outputs": [
        {
          "output_type": "stream",
          "name": "stdout",
          "text": [
            "Index(['similar_title', 'score', 'max', 'score_div_max', 'reference',\n",
            "       'reference_titleid'],\n",
            "      dtype='object')\n",
            "Index(['similar_title', 'score', 'max', 'score_div_max', 'reference',\n",
            "       'reference_titleid'],\n",
            "      dtype='object')\n",
            "Index(['similar_title', 'score', 'max', 'score_div_max', 'reference',\n",
            "       'reference_titleid'],\n",
            "      dtype='object')\n"
          ]
        },
        {
          "output_type": "display_data",
          "data": {
            "image/png": "[encoded data removed]",
            "text/plain": [
              "<Figure size 432x288 with 1 Axes>"
            ]
          },
          "metadata": {}
        },
        {
          "output_type": "stream",
          "name": "stdout",
          "text": [
            "Index(['similar_title', 'score', 'max', 'score_div_max', 'reference',\n",
            "       'reference_titleid'],\n",
            "      dtype='object')\n",
            "Index(['similar_title', 'score', 'max', 'score_div_max', 'reference',\n",
            "       'reference_titleid'],\n",
            "      dtype='object')\n",
            "Index(['similar_title', 'score', 'max', 'score_div_max', 'reference',\n",
            "       'reference_titleid'],\n",
            "      dtype='object')\n"
          ]
        },
        {
          "output_type": "display_data",
          "data": {
            "image/png": "[encoded data removed]",
            "text/plain": [
              "<Figure size 432x288 with 1 Axes>"
            ]
          },
          "metadata": {}
        },
        {
          "output_type": "stream",
          "name": "stdout",
          "text": [
            "Index(['similar_title', 'score', 'max', 'score_div_max', 'reference',\n",
            "       'reference_titleid'],\n",
            "      dtype='object')\n",
            "Index(['similar_title', 'score', 'max', 'score_div_max', 'reference',\n",
            "       'reference_titleid'],\n",
            "      dtype='object')\n",
            "Index(['similar_title', 'score', 'max', 'score_div_max', 'reference',\n",
            "       'reference_titleid'],\n",
            "      dtype='object')\n"
          ]
        },
        {
          "output_type": "display_data",
          "data": {
            "image/png": "[encoded data removed]",
            "text/plain": [
              "<Figure size 432x288 with 1 Axes>"
            ]
          },
          "metadata": {}
        },
        {
          "output_type": "stream",
          "name": "stdout",
          "text": [
            "Index(['similar_title', 'score', 'max', 'score_div_max', 'reference',\n",
            "       'reference_titleid'],\n",
            "      dtype='object')\n",
            "Index(['similar_title', 'score', 'max', 'score_div_max', 'reference',\n",
            "       'reference_titleid'],\n",
            "      dtype='object')\n",
            "Index(['similar_title', 'score', 'max', 'score_div_max', 'reference',\n",
            "       'reference_titleid'],\n",
            "      dtype='object')\n"
          ]
        },
        {
          "output_type": "display_data",
          "data": {
            "image/png": "[encoded data removed]",
            "text/plain": [
              "<Figure size 432x288 with 1 Axes>"
            ]
          },
          "metadata": {}
        },
        {
          "output_type": "stream",
          "name": "stdout",
          "text": [
            "Index(['similar_title', 'score', 'max', 'score_div_max', 'reference',\n",
            "       'reference_titleid'],\n",
            "      dtype='object')\n",
            "Index(['similar_title', 'score', 'max', 'score_div_max', 'reference',\n",
            "       'reference_titleid'],\n",
            "      dtype='object')\n",
            "Index(['similar_title', 'score', 'max', 'score_div_max', 'reference',\n",
            "       'reference_titleid'],\n",
            "      dtype='object')\n"
          ]
        },
        {
          "output_type": "display_data",
          "data": {
            "image/png": "[encoded data removed]",
            "text/plain": [
              "<Figure size 432x288 with 1 Axes>"
            ]
          },
          "metadata": {}
        },
        {
          "output_type": "stream",
          "name": "stdout",
          "text": [
            "Index(['similar_title', 'score', 'max', 'score_div_max', 'reference',\n",
            "       'reference_titleid'],\n",
            "      dtype='object')\n",
            "Index(['similar_title', 'score', 'max', 'score_div_max', 'reference',\n",
            "       'reference_titleid'],\n",
            "      dtype='object')\n",
            "Index(['similar_title', 'score', 'max', 'score_div_max', 'reference',\n",
            "       'reference_titleid'],\n",
            "      dtype='object')\n"
          ]
        },
        {
          "output_type": "display_data",
          "data": {
            "image/png": "[encoded data removed]",
            "text/plain": [
              "<Figure size 432x288 with 1 Axes>"
            ]
          },
          "metadata": {}
        },
        {
          "output_type": "stream",
          "name": "stdout",
          "text": [
            "Index(['similar_title', 'score', 'max', 'score_div_max', 'reference',\n",
            "       'reference_titleid'],\n",
            "      dtype='object')\n",
            "Index(['similar_title', 'score', 'max', 'score_div_max', 'reference',\n",
            "       'reference_titleid'],\n",
            "      dtype='object')\n",
            "Index(['similar_title', 'score', 'max', 'score_div_max', 'reference',\n",
            "       'reference_titleid'],\n",
            "      dtype='object')\n"
          ]
        },
        {
          "output_type": "display_data",
          "data": {
            "image/png": "[encoded data removed]",
            "text/plain": [
              "<Figure size 432x288 with 1 Axes>"
            ]
          },
          "metadata": {}
        },
        {
          "output_type": "stream",
          "name": "stdout",
          "text": [
            "Index(['similar_title', 'score', 'max', 'score_div_max', 'reference',\n",
            "       'reference_titleid'],\n",
            "      dtype='object')\n",
            "Index(['similar_title', 'score', 'max', 'score_div_max', 'reference',\n",
            "       'reference_titleid'],\n",
            "      dtype='object')\n",
            "Index(['similar_title', 'score', 'max', 'score_div_max', 'reference',\n",
            "       'reference_titleid'],\n",
            "      dtype='object')\n"
          ]
        },
        {
          "output_type": "display_data",
          "data": {
            "image/png": "[encoded data removed]",
            "text/plain": [
              "<Figure size 432x288 with 1 Axes>"
            ]
          },
          "metadata": {}
        },
        {
          "output_type": "stream",
          "name": "stdout",
          "text": [
            "Index(['similar_title', 'score', 'max', 'score_div_max', 'reference',\n",
            "       'reference_titleid'],\n",
            "      dtype='object')\n",
            "Index(['similar_title', 'score', 'max', 'score_div_max', 'reference',\n",
            "       'reference_titleid'],\n",
            "      dtype='object')\n",
            "Index(['similar_title', 'score', 'max', 'score_div_max', 'reference',\n",
            "       'reference_titleid'],\n",
            "      dtype='object')\n"
          ]
        },
        {
          "output_type": "display_data",
          "data": {
            "image/png": "[encoded data removed]",
            "text/plain": [
              "<Figure size 432x288 with 1 Axes>"
            ]
          },
          "metadata": {}
        },
        {
          "output_type": "stream",
          "name": "stdout",
          "text": [
            "Index(['similar_title', 'score', 'max', 'score_div_max', 'reference',\n",
            "       'reference_titleid'],\n",
            "      dtype='object')\n",
            "Index(['similar_title', 'score', 'max', 'score_div_max', 'reference',\n",
            "       'reference_titleid'],\n",
            "      dtype='object')\n",
            "Index(['similar_title', 'score', 'max', 'score_div_max', 'reference',\n",
            "       'reference_titleid'],\n",
            "      dtype='object')\n"
          ]
        },
        {
          "output_type": "display_data",
          "data": {
            "image/png": "[encoded data removed]",
            "text/plain": [
              "<Figure size 432x288 with 1 Axes>"
            ]
          },
          "metadata": {}
        },
        {
          "output_type": "stream",
          "name": "stdout",
          "text": [
            "Index(['similar_title', 'score', 'max', 'score_div_max', 'reference',\n",
            "       'reference_titleid'],\n",
            "      dtype='object')\n",
            "Index(['similar_title', 'score', 'max', 'score_div_max', 'reference',\n",
            "       'reference_titleid'],\n",
            "      dtype='object')\n",
            "Index(['similar_title', 'score', 'max', 'score_div_max', 'reference',\n",
            "       'reference_titleid'],\n",
            "      dtype='object')\n"
          ]
        },
        {
          "output_type": "display_data",
          "data": {
            "image/png": "[encoded data removed]",
            "text/plain": [
              "<Figure size 432x288 with 1 Axes>"
            ]
          },
          "metadata": {}
        },
        {
          "output_type": "stream",
          "name": "stdout",
          "text": [
            "Index(['similar_title', 'score', 'max', 'score_div_max', 'reference',\n",
            "       'reference_titleid'],\n",
            "      dtype='object')\n",
            "Index(['similar_title', 'score', 'max', 'score_div_max', 'reference',\n",
            "       'reference_titleid'],\n",
            "      dtype='object')\n",
            "Index(['similar_title', 'score', 'max', 'score_div_max', 'reference',\n",
            "       'reference_titleid'],\n",
            "      dtype='object')\n"
          ]
        },
        {
          "output_type": "display_data",
          "data": {
            "image/png": "[encoded data removed]",
            "text/plain": [
              "<Figure size 432x288 with 1 Axes>"
            ]
          },
          "metadata": {}
        },
        {
          "output_type": "stream",
          "name": "stdout",
          "text": [
            "Index(['similar_title', 'score', 'max', 'score_div_max', 'reference',\n",
            "       'reference_titleid'],\n",
            "      dtype='object')\n",
            "Index(['similar_title', 'score', 'max', 'score_div_max', 'reference',\n",
            "       'reference_titleid'],\n",
            "      dtype='object')\n",
            "Index(['similar_title', 'score', 'max', 'score_div_max', 'reference',\n",
            "       'reference_titleid'],\n",
            "      dtype='object')\n"
          ]
        },
        {
          "output_type": "display_data",
          "data": {
            "image/png": "[encoded data removed]",
            "text/plain": [
              "<Figure size 432x288 with 1 Axes>"
            ]
          },
          "metadata": {}
        },
        {
          "output_type": "stream",
          "name": "stdout",
          "text": [
            "Index(['similar_title', 'score', 'max', 'score_div_max', 'reference',\n",
            "       'reference_titleid'],\n",
            "      dtype='object')\n",
            "Index(['similar_title', 'score', 'max', 'score_div_max', 'reference',\n",
            "       'reference_titleid'],\n",
            "      dtype='object')\n",
            "Index(['similar_title', 'score', 'max', 'score_div_max', 'reference',\n",
            "       'reference_titleid'],\n",
            "      dtype='object')\n"
          ]
        },
        {
          "output_type": "display_data",
          "data": {
            "image/png": "[encoded data removed]",
            "text/plain": [
              "<Figure size 432x288 with 1 Axes>"
            ]
          },
          "metadata": {}
        },
        {
          "output_type": "stream",
          "name": "stdout",
          "text": [
            "Index(['similar_title', 'score', 'max', 'score_div_max', 'reference',\n",
            "       'reference_titleid'],\n",
            "      dtype='object')\n",
            "Index(['similar_title', 'score', 'max', 'score_div_max', 'reference',\n",
            "       'reference_titleid'],\n",
            "      dtype='object')\n",
            "Index(['similar_title', 'score', 'max', 'score_div_max', 'reference',\n",
            "       'reference_titleid'],\n",
            "      dtype='object')\n"
          ]
        },
        {
          "output_type": "display_data",
          "data": {
            "image/png": "[encoded data removed]",
            "text/plain": [
              "<Figure size 432x288 with 1 Axes>"
            ]
          },
          "metadata": {}
        },
        {
          "output_type": "stream",
          "name": "stdout",
          "text": [
            "Index(['similar_title', 'score', 'max', 'score_div_max', 'reference',\n",
            "       'reference_titleid'],\n",
            "      dtype='object')\n",
            "Index(['similar_title', 'score', 'max', 'score_div_max', 'reference',\n",
            "       'reference_titleid'],\n",
            "      dtype='object')\n",
            "Index(['similar_title', 'score', 'max', 'score_div_max', 'reference',\n",
            "       'reference_titleid'],\n",
            "      dtype='object')\n"
          ]
        },
        {
          "output_type": "display_data",
          "data": {
            "image/png": "[encoded data removed]",
            "text/plain": [
              "<Figure size 432x288 with 1 Axes>"
            ]
          },
          "metadata": {}
        },
        {
          "output_type": "stream",
          "name": "stdout",
          "text": [
            "Index(['similar_title', 'score', 'max', 'score_div_max', 'reference',\n",
            "       'reference_titleid'],\n",
            "      dtype='object')\n",
            "Index(['similar_title', 'score', 'max', 'score_div_max', 'reference',\n",
            "       'reference_titleid'],\n",
            "      dtype='object')\n",
            "Index(['similar_title', 'score', 'max', 'score_div_max', 'reference',\n",
            "       'reference_titleid'],\n",
            "      dtype='object')\n"
          ]
        },
        {
          "output_type": "display_data",
          "data": {
            "image/png": "[encoded data removed]",
            "text/plain": [
              "<Figure size 432x288 with 1 Axes>"
            ]
          },
          "metadata": {}
        },
        {
          "output_type": "stream",
          "name": "stdout",
          "text": [
            "Index(['similar_title', 'score', 'max', 'score_div_max', 'reference',\n",
            "       'reference_titleid'],\n",
            "      dtype='object')\n",
            "Index(['similar_title', 'score', 'max', 'score_div_max', 'reference',\n",
            "       'reference_titleid'],\n",
            "      dtype='object')\n",
            "Index(['similar_title', 'score', 'max', 'score_div_max', 'reference',\n",
            "       'reference_titleid'],\n",
            "      dtype='object')\n"
          ]
        },
        {
          "output_type": "display_data",
          "data": {
            "image/png": "[encoded data removed]",
            "text/plain": [
              "<Figure size 432x288 with 1 Axes>"
            ]
          },
          "metadata": {}
        },
        {
          "output_type": "stream",
          "name": "stdout",
          "text": [
            "Index(['similar_title', 'score', 'max', 'score_div_max', 'reference',\n",
            "       'reference_titleid'],\n",
            "      dtype='object')\n",
            "Index(['similar_title', 'score', 'max', 'score_div_max', 'reference',\n",
            "       'reference_titleid'],\n",
            "      dtype='object')\n",
            "Index(['similar_title', 'score', 'max', 'score_div_max', 'reference',\n",
            "       'reference_titleid'],\n",
            "      dtype='object')\n"
          ]
        },
        {
          "output_type": "display_data",
          "data": {
            "image/png": "[encoded data removed]",
            "text/plain": [
              "<Figure size 432x288 with 1 Axes>"
            ]
          },
          "metadata": {}
        },
        {
          "output_type": "stream",
          "name": "stdout",
          "text": [
            "Index(['similar_title', 'score', 'max', 'score_div_max', 'reference',\n",
            "       'reference_titleid'],\n",
            "      dtype='object')\n",
            "Index(['similar_title', 'score', 'max', 'score_div_max', 'reference',\n",
            "       'reference_titleid'],\n",
            "      dtype='object')\n",
            "Index(['similar_title', 'score', 'max', 'score_div_max', 'reference',\n",
            "       'reference_titleid'],\n",
            "      dtype='object')\n"
          ]
        },
        {
          "output_type": "display_data",
          "data": {
            "image/png": "[encoded data removed]",
            "text/plain": [
              "<Figure size 432x288 with 1 Axes>"
            ]
          },
          "metadata": {}
        },
        {
          "output_type": "stream",
          "name": "stdout",
          "text": [
            "Index(['similar_title', 'score', 'max', 'score_div_max', 'reference',\n",
            "       'reference_titleid'],\n",
            "      dtype='object')\n",
            "Index(['similar_title', 'score', 'max', 'score_div_max', 'reference',\n",
            "       'reference_titleid'],\n",
            "      dtype='object')\n",
            "Index(['similar_title', 'score', 'max', 'score_div_max', 'reference',\n",
            "       'reference_titleid'],\n",
            "      dtype='object')\n"
          ]
        },
        {
          "output_type": "display_data",
          "data": {
            "image/png": "[encoded data removed]",
            "text/plain": [
              "<Figure size 432x288 with 1 Axes>"
            ]
          },
          "metadata": {}
        },
        {
          "output_type": "stream",
          "name": "stdout",
          "text": [
            "Index(['similar_title', 'score', 'max', 'score_div_max', 'reference',\n",
            "       'reference_titleid'],\n",
            "      dtype='object')\n",
            "Index(['similar_title', 'score', 'max', 'score_div_max', 'reference',\n",
            "       'reference_titleid'],\n",
            "      dtype='object')\n",
            "Index(['similar_title', 'score', 'max', 'score_div_max', 'reference',\n",
            "       'reference_titleid'],\n",
            "      dtype='object')\n"
          ]
        },
        {
          "output_type": "display_data",
          "data": {
            "image/png": "[encoded data removed]",
            "text/plain": [
              "<Figure size 432x288 with 1 Axes>"
            ]
          },
          "metadata": {}
        },
        {
          "output_type": "stream",
          "name": "stdout",
          "text": [
            "Index(['similar_title', 'score', 'max', 'score_div_max', 'reference',\n",
            "       'reference_titleid'],\n",
            "      dtype='object')\n",
            "Index(['similar_title', 'score', 'max', 'score_div_max', 'reference',\n",
            "       'reference_titleid'],\n",
            "      dtype='object')\n",
            "Index(['similar_title', 'score', 'max', 'score_div_max', 'reference',\n",
            "       'reference_titleid'],\n",
            "      dtype='object')\n"
          ]
        },
        {
          "output_type": "display_data",
          "data": {
            "image/png": "[encoded data removed]",
            "text/plain": [
              "<Figure size 432x288 with 1 Axes>"
            ]
          },
          "metadata": {}
        },
        {
          "output_type": "stream",
          "name": "stdout",
          "text": [
            "Index(['similar_title', 'score', 'max', 'score_div_max', 'reference',\n",
            "       'reference_titleid'],\n",
            "      dtype='object')\n",
            "Index(['similar_title', 'score', 'max', 'score_div_max', 'reference',\n",
            "       'reference_titleid'],\n",
            "      dtype='object')\n",
            "Index(['similar_title', 'score', 'max', 'score_div_max', 'reference',\n",
            "       'reference_titleid'],\n",
            "      dtype='object')\n"
          ]
        },
        {
          "output_type": "display_data",
          "data": {
            "image/png": "[encoded data removed]",
            "text/plain": [
              "<Figure size 432x288 with 1 Axes>"
            ]
          },
          "metadata": {}
        }
      ]
    },
    {
      "cell_type": "code",
      "metadata": {
        "colab": {
          "base_uri": "https://localhost:8080/"
        },
        "id": "BVRU3r-0axgN",
        "outputId": "d1dc1920-2907-4e0d-96ff-9f6b4f8074cd"
      },
      "source": [
        "# Number of tunes tested\n",
        "len(contrafacts)"
      ],
      "execution_count": 108,
      "outputs": [
        {
          "output_type": "execute_result",
          "data": {
            "text/plain": [
              "42"
            ]
          },
          "metadata": {},
          "execution_count": 108
        }
      ]
    },
    {
      "cell_type": "code",
      "metadata": {
        "colab": {
          "base_uri": "https://localhost:8080/"
        },
        "id": "KRtvi6aea1Fc",
        "outputId": "6e7aebde-4f4d-4ebb-afb7-e37bc9222f74"
      },
      "source": [
        "# number of sections in the tunes\n",
        "contrafacts_sections = [title_to_sectionid[contrafacts[cc]] for cc in contrafacts.keys()]\n",
        "len([val for tune in contrafacts_sections for val in tune])\n"
      ],
      "execution_count": 109,
      "outputs": [
        {
          "output_type": "execute_result",
          "data": {
            "text/plain": [
              "143"
            ]
          },
          "metadata": {},
          "execution_count": 109
        }
      ]
    },
    {
      "cell_type": "markdown",
      "metadata": {
        "id": "RhOWHSEU0DQH"
      },
      "source": [
        "# W&B Logging and Finish"
      ]
    },
    {
      "cell_type": "code",
      "metadata": {
        "colab": {
          "base_uri": "https://localhost:8080/",
          "height": 424
        },
        "id": "9yt-cob54ZzN",
        "outputId": "006a5abb-4ba4-40a8-b702-fb80d372a7cd"
      },
      "source": [
        "recommender_results"
      ],
      "execution_count": 110,
      "outputs": [
        {
          "output_type": "execute_result",
          "data": {
            "text/html": [
              "<div>\n",
              "<style scoped>\n",
              "    .dataframe tbody tr th:only-of-type {\n",
              "        vertical-align: middle;\n",
              "    }\n",
              "\n",
              "    .dataframe tbody tr th {\n",
              "        vertical-align: top;\n",
              "    }\n",
              "\n",
              "    .dataframe thead th {\n",
              "        text-align: right;\n",
              "    }\n",
              "</style>\n",
              "<table border=\"1\" class=\"dataframe\">\n",
              "  <thead>\n",
              "    <tr style=\"text-align: right;\">\n",
              "      <th></th>\n",
              "      <th>reference</th>\n",
              "      <th>id</th>\n",
              "      <th>method</th>\n",
              "      <th>similar</th>\n",
              "      <th>score_div_max</th>\n",
              "      <th>score</th>\n",
              "    </tr>\n",
              "  </thead>\n",
              "  <tbody>\n",
              "    <tr>\n",
              "      <th>0</th>\n",
              "      <td>We'll Be Together Again [jazz1350]</td>\n",
              "      <td>0.0</td>\n",
              "      <td>tfidf</td>\n",
              "      <td>You Stepped Out Of A Dream [jazz1350]</td>\n",
              "      <td>1.000000</td>\n",
              "      <td>0.789605</td>\n",
              "    </tr>\n",
              "    <tr>\n",
              "      <th>1</th>\n",
              "      <td>We'll Be Together Again [jazz1350]</td>\n",
              "      <td>1.0</td>\n",
              "      <td>tfidf</td>\n",
              "      <td>Goodbye [jazz1350]</td>\n",
              "      <td>1.000000</td>\n",
              "      <td>0.856327</td>\n",
              "    </tr>\n",
              "    <tr>\n",
              "      <th>2</th>\n",
              "      <td>We'll Be Together Again [jazz1350]</td>\n",
              "      <td>2.0</td>\n",
              "      <td>tfidf</td>\n",
              "      <td>Lazy Bird [jazz1350]</td>\n",
              "      <td>1.000000</td>\n",
              "      <td>0.729080</td>\n",
              "    </tr>\n",
              "    <tr>\n",
              "      <th>3</th>\n",
              "      <td>We'll Be Together Again [jazz1350]</td>\n",
              "      <td>3.0</td>\n",
              "      <td>tfidf</td>\n",
              "      <td>Tones For Joan's Bones [jazz1350]</td>\n",
              "      <td>0.965223</td>\n",
              "      <td>0.756416</td>\n",
              "    </tr>\n",
              "    <tr>\n",
              "      <th>4</th>\n",
              "      <td>We'll Be Together Again [jazz1350]</td>\n",
              "      <td>4.0</td>\n",
              "      <td>tfidf</td>\n",
              "      <td>It's A Raggy Waltz [jazz1350]</td>\n",
              "      <td>0.947116</td>\n",
              "      <td>0.690523</td>\n",
              "    </tr>\n",
              "    <tr>\n",
              "      <th>...</th>\n",
              "      <td>...</td>\n",
              "      <td>...</td>\n",
              "      <td>...</td>\n",
              "      <td>...</td>\n",
              "      <td>...</td>\n",
              "      <td>...</td>\n",
              "    </tr>\n",
              "    <tr>\n",
              "      <th>83</th>\n",
              "      <td>We'll Be Together Again [jazz1350]</td>\n",
              "      <td>NaN</td>\n",
              "      <td>doc2vec</td>\n",
              "      <td>NaN</td>\n",
              "      <td>NaN</td>\n",
              "      <td>NaN</td>\n",
              "    </tr>\n",
              "    <tr>\n",
              "      <th>84</th>\n",
              "      <td>We'll Be Together Again [jazz1350]</td>\n",
              "      <td>NaN</td>\n",
              "      <td>doc2vec</td>\n",
              "      <td>NaN</td>\n",
              "      <td>NaN</td>\n",
              "      <td>NaN</td>\n",
              "    </tr>\n",
              "    <tr>\n",
              "      <th>85</th>\n",
              "      <td>We'll Be Together Again [jazz1350]</td>\n",
              "      <td>NaN</td>\n",
              "      <td>doc2vec</td>\n",
              "      <td>NaN</td>\n",
              "      <td>NaN</td>\n",
              "      <td>NaN</td>\n",
              "    </tr>\n",
              "    <tr>\n",
              "      <th>86</th>\n",
              "      <td>We'll Be Together Again [jazz1350]</td>\n",
              "      <td>NaN</td>\n",
              "      <td>doc2vec</td>\n",
              "      <td>NaN</td>\n",
              "      <td>NaN</td>\n",
              "      <td>NaN</td>\n",
              "    </tr>\n",
              "    <tr>\n",
              "      <th>87</th>\n",
              "      <td>We'll Be Together Again [jazz1350]</td>\n",
              "      <td>NaN</td>\n",
              "      <td>doc2vec</td>\n",
              "      <td>NaN</td>\n",
              "      <td>NaN</td>\n",
              "      <td>NaN</td>\n",
              "    </tr>\n",
              "  </tbody>\n",
              "</table>\n",
              "<p>232 rows × 6 columns</p>\n",
              "</div>"
            ],
            "text/plain": [
              "                             reference   id  ... score_div_max     score\n",
              "0   We'll Be Together Again [jazz1350]  0.0  ...      1.000000  0.789605\n",
              "1   We'll Be Together Again [jazz1350]  1.0  ...      1.000000  0.856327\n",
              "2   We'll Be Together Again [jazz1350]  2.0  ...      1.000000  0.729080\n",
              "3   We'll Be Together Again [jazz1350]  3.0  ...      0.965223  0.756416\n",
              "4   We'll Be Together Again [jazz1350]  4.0  ...      0.947116  0.690523\n",
              "..                                 ...  ...  ...           ...       ...\n",
              "83  We'll Be Together Again [jazz1350]  NaN  ...           NaN       NaN\n",
              "84  We'll Be Together Again [jazz1350]  NaN  ...           NaN       NaN\n",
              "85  We'll Be Together Again [jazz1350]  NaN  ...           NaN       NaN\n",
              "86  We'll Be Together Again [jazz1350]  NaN  ...           NaN       NaN\n",
              "87  We'll Be Together Again [jazz1350]  NaN  ...           NaN       NaN\n",
              "\n",
              "[232 rows x 6 columns]"
            ]
          },
          "metadata": {},
          "execution_count": 110
        }
      ]
    },
    {
      "cell_type": "code",
      "metadata": {
        "id": "Qm7BPMM_ihop",
        "colab": {
          "base_uri": "https://localhost:8080/",
          "height": 982
        },
        "outputId": "e1d90195-929d-493b-8cb4-40f1c4ced9ac"
      },
      "source": [
        "recommender_results = recommender_results.reset_index()\n",
        "\n",
        "results = recommender_results.pivot(index=['index', 'reference', 'similar'], columns='method', values=['id', 'score', 'score_div_max'])\n",
        "results.columns = ['_'.join(col) for col in results.columns]\n",
        "results = results.reset_index()\n",
        "results"
      ],
      "execution_count": 111,
      "outputs": [
        {
          "output_type": "execute_result",
          "data": {
            "text/html": [
              "<div>\n",
              "<style scoped>\n",
              "    .dataframe tbody tr th:only-of-type {\n",
              "        vertical-align: middle;\n",
              "    }\n",
              "\n",
              "    .dataframe tbody tr th {\n",
              "        vertical-align: top;\n",
              "    }\n",
              "\n",
              "    .dataframe thead th {\n",
              "        text-align: right;\n",
              "    }\n",
              "</style>\n",
              "<table border=\"1\" class=\"dataframe\">\n",
              "  <thead>\n",
              "    <tr style=\"text-align: right;\">\n",
              "      <th></th>\n",
              "      <th>index</th>\n",
              "      <th>reference</th>\n",
              "      <th>similar</th>\n",
              "      <th>id_doc2vec</th>\n",
              "      <th>id_lsi</th>\n",
              "      <th>id_tfidf</th>\n",
              "      <th>score_doc2vec</th>\n",
              "      <th>score_lsi</th>\n",
              "      <th>score_tfidf</th>\n",
              "      <th>score_div_max_doc2vec</th>\n",
              "      <th>score_div_max_lsi</th>\n",
              "      <th>score_div_max_tfidf</th>\n",
              "    </tr>\n",
              "  </thead>\n",
              "  <tbody>\n",
              "    <tr>\n",
              "      <th>0</th>\n",
              "      <td>0</td>\n",
              "      <td>We'll Be Together Again [jazz1350]</td>\n",
              "      <td>Goodbye [jazz1350]</td>\n",
              "      <td>0.0</td>\n",
              "      <td>0.0</td>\n",
              "      <td>NaN</td>\n",
              "      <td>0.882073</td>\n",
              "      <td>0.922972</td>\n",
              "      <td>NaN</td>\n",
              "      <td>1.0</td>\n",
              "      <td>1.0</td>\n",
              "      <td>NaN</td>\n",
              "    </tr>\n",
              "    <tr>\n",
              "      <th>1</th>\n",
              "      <td>0</td>\n",
              "      <td>We'll Be Together Again [jazz1350]</td>\n",
              "      <td>You Stepped Out Of A Dream [jazz1350]</td>\n",
              "      <td>NaN</td>\n",
              "      <td>NaN</td>\n",
              "      <td>0.0</td>\n",
              "      <td>NaN</td>\n",
              "      <td>NaN</td>\n",
              "      <td>0.789605</td>\n",
              "      <td>NaN</td>\n",
              "      <td>NaN</td>\n",
              "      <td>1.0</td>\n",
              "    </tr>\n",
              "    <tr>\n",
              "      <th>2</th>\n",
              "      <td>1</td>\n",
              "      <td>We'll Be Together Again [jazz1350]</td>\n",
              "      <td>Goodbye [jazz1350]</td>\n",
              "      <td>NaN</td>\n",
              "      <td>NaN</td>\n",
              "      <td>1.0</td>\n",
              "      <td>NaN</td>\n",
              "      <td>NaN</td>\n",
              "      <td>0.856327</td>\n",
              "      <td>NaN</td>\n",
              "      <td>NaN</td>\n",
              "      <td>1.0</td>\n",
              "    </tr>\n",
              "    <tr>\n",
              "      <th>3</th>\n",
              "      <td>1</td>\n",
              "      <td>We'll Be Together Again [jazz1350]</td>\n",
              "      <td>Up With The Lark [jazz1350]</td>\n",
              "      <td>1.0</td>\n",
              "      <td>NaN</td>\n",
              "      <td>NaN</td>\n",
              "      <td>0.760908</td>\n",
              "      <td>NaN</td>\n",
              "      <td>NaN</td>\n",
              "      <td>1.0</td>\n",
              "      <td>NaN</td>\n",
              "      <td>NaN</td>\n",
              "    </tr>\n",
              "    <tr>\n",
              "      <th>4</th>\n",
              "      <td>1</td>\n",
              "      <td>We'll Be Together Again [jazz1350]</td>\n",
              "      <td>What's New [jazz1350]</td>\n",
              "      <td>NaN</td>\n",
              "      <td>1.0</td>\n",
              "      <td>NaN</td>\n",
              "      <td>NaN</td>\n",
              "      <td>0.841625</td>\n",
              "      <td>NaN</td>\n",
              "      <td>NaN</td>\n",
              "      <td>1.0</td>\n",
              "      <td>NaN</td>\n",
              "    </tr>\n",
              "    <tr>\n",
              "      <th>...</th>\n",
              "      <td>...</td>\n",
              "      <td>...</td>\n",
              "      <td>...</td>\n",
              "      <td>...</td>\n",
              "      <td>...</td>\n",
              "      <td>...</td>\n",
              "      <td>...</td>\n",
              "      <td>...</td>\n",
              "      <td>...</td>\n",
              "      <td>...</td>\n",
              "      <td>...</td>\n",
              "      <td>...</td>\n",
              "    </tr>\n",
              "    <tr>\n",
              "      <th>209</th>\n",
              "      <td>83</td>\n",
              "      <td>We'll Be Together Again [jazz1350]</td>\n",
              "      <td>NaN</td>\n",
              "      <td>NaN</td>\n",
              "      <td>NaN</td>\n",
              "      <td>NaN</td>\n",
              "      <td>NaN</td>\n",
              "      <td>NaN</td>\n",
              "      <td>NaN</td>\n",
              "      <td>NaN</td>\n",
              "      <td>NaN</td>\n",
              "      <td>NaN</td>\n",
              "    </tr>\n",
              "    <tr>\n",
              "      <th>210</th>\n",
              "      <td>84</td>\n",
              "      <td>We'll Be Together Again [jazz1350]</td>\n",
              "      <td>NaN</td>\n",
              "      <td>NaN</td>\n",
              "      <td>NaN</td>\n",
              "      <td>NaN</td>\n",
              "      <td>NaN</td>\n",
              "      <td>NaN</td>\n",
              "      <td>NaN</td>\n",
              "      <td>NaN</td>\n",
              "      <td>NaN</td>\n",
              "      <td>NaN</td>\n",
              "    </tr>\n",
              "    <tr>\n",
              "      <th>211</th>\n",
              "      <td>85</td>\n",
              "      <td>We'll Be Together Again [jazz1350]</td>\n",
              "      <td>NaN</td>\n",
              "      <td>NaN</td>\n",
              "      <td>NaN</td>\n",
              "      <td>NaN</td>\n",
              "      <td>NaN</td>\n",
              "      <td>NaN</td>\n",
              "      <td>NaN</td>\n",
              "      <td>NaN</td>\n",
              "      <td>NaN</td>\n",
              "      <td>NaN</td>\n",
              "    </tr>\n",
              "    <tr>\n",
              "      <th>212</th>\n",
              "      <td>86</td>\n",
              "      <td>We'll Be Together Again [jazz1350]</td>\n",
              "      <td>NaN</td>\n",
              "      <td>NaN</td>\n",
              "      <td>NaN</td>\n",
              "      <td>NaN</td>\n",
              "      <td>NaN</td>\n",
              "      <td>NaN</td>\n",
              "      <td>NaN</td>\n",
              "      <td>NaN</td>\n",
              "      <td>NaN</td>\n",
              "      <td>NaN</td>\n",
              "    </tr>\n",
              "    <tr>\n",
              "      <th>213</th>\n",
              "      <td>87</td>\n",
              "      <td>We'll Be Together Again [jazz1350]</td>\n",
              "      <td>NaN</td>\n",
              "      <td>NaN</td>\n",
              "      <td>NaN</td>\n",
              "      <td>NaN</td>\n",
              "      <td>NaN</td>\n",
              "      <td>NaN</td>\n",
              "      <td>NaN</td>\n",
              "      <td>NaN</td>\n",
              "      <td>NaN</td>\n",
              "      <td>NaN</td>\n",
              "    </tr>\n",
              "  </tbody>\n",
              "</table>\n",
              "<p>214 rows × 12 columns</p>\n",
              "</div>"
            ],
            "text/plain": [
              "     index  ... score_div_max_tfidf\n",
              "0        0  ...                 NaN\n",
              "1        0  ...                 1.0\n",
              "2        1  ...                 1.0\n",
              "3        1  ...                 NaN\n",
              "4        1  ...                 NaN\n",
              "..     ...  ...                 ...\n",
              "209     83  ...                 NaN\n",
              "210     84  ...                 NaN\n",
              "211     85  ...                 NaN\n",
              "212     86  ...                 NaN\n",
              "213     87  ...                 NaN\n",
              "\n",
              "[214 rows x 12 columns]"
            ]
          },
          "metadata": {},
          "execution_count": 111
        }
      ]
    },
    {
      "cell_type": "code",
      "metadata": {
        "id": "ziq-dZ16Sdgg"
      },
      "source": [
        "if use_wandb:\n",
        "  table = wandb.Table(dataframe=results)\n",
        "  wandb.log({\"recommender results\": results})"
      ],
      "execution_count": 112,
      "outputs": []
    },
    {
      "cell_type": "code",
      "metadata": {
        "id": "YMUDRHkm0aMV"
      },
      "source": [
        "if use_wandb:\n",
        "  wandb.finish()"
      ],
      "execution_count": 113,
      "outputs": []
    },
    {
      "cell_type": "code",
      "metadata": {
        "id": "Vn_SFyKt0bYx"
      },
      "source": [
        ""
      ],
      "execution_count": 113,
      "outputs": []
    }
  ]
}