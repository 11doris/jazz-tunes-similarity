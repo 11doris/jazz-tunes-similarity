{
  "nbformat": 4,
  "nbformat_minor": 0,
  "metadata": {
    "colab": {
      "name": "colab_g_recommender_score",
      "provenance": [],
      "toc_visible": true,
      "authorship_tag": "ABX9TyPFABvrdeMFOG8pXbz1WC4v",
      "include_colab_link": true
    },
    "kernelspec": {
      "name": "python3",
      "display_name": "Python 3"
    },
    "language_info": {
      "name": "python"
    },
    "accelerator": "TPU",
    "widgets": {
      "application/vnd.jupyter.widget-state+json": {
        "9151358e560f4c7e930b06764ed0f905": {
          "model_module": "@jupyter-widgets/controls",
          "model_name": "VBoxModel",
          "model_module_version": "1.5.0",
          "state": {
            "_view_name": "VBoxView",
            "_dom_classes": [],
            "_model_name": "VBoxModel",
            "_view_module": "@jupyter-widgets/controls",
            "_model_module_version": "1.5.0",
            "_view_count": null,
            "_view_module_version": "1.5.0",
            "box_style": "",
            "layout": "IPY_MODEL_a1aaa21715934dceaffb28cfa2a9ae16",
            "_model_module": "@jupyter-widgets/controls",
            "children": [
              "IPY_MODEL_7dab4f75ca6148b0ac1c28bc95155fff",
              "IPY_MODEL_cef10a6b154649f192b7e629133bd0df"
            ]
          }
        },
        "a1aaa21715934dceaffb28cfa2a9ae16": {
          "model_module": "@jupyter-widgets/base",
          "model_name": "LayoutModel",
          "model_module_version": "1.2.0",
          "state": {
            "_view_name": "LayoutView",
            "grid_template_rows": null,
            "right": null,
            "justify_content": null,
            "_view_module": "@jupyter-widgets/base",
            "overflow": null,
            "_model_module_version": "1.2.0",
            "_view_count": null,
            "flex_flow": null,
            "width": null,
            "min_width": null,
            "border": null,
            "align_items": null,
            "bottom": null,
            "_model_module": "@jupyter-widgets/base",
            "top": null,
            "grid_column": null,
            "overflow_y": null,
            "overflow_x": null,
            "grid_auto_flow": null,
            "grid_area": null,
            "grid_template_columns": null,
            "flex": null,
            "_model_name": "LayoutModel",
            "justify_items": null,
            "grid_row": null,
            "max_height": null,
            "align_content": null,
            "visibility": null,
            "align_self": null,
            "height": null,
            "min_height": null,
            "padding": null,
            "grid_auto_rows": null,
            "grid_gap": null,
            "max_width": null,
            "order": null,
            "_view_module_version": "1.2.0",
            "grid_template_areas": null,
            "object_position": null,
            "object_fit": null,
            "grid_auto_columns": null,
            "margin": null,
            "display": null,
            "left": null
          }
        },
        "7dab4f75ca6148b0ac1c28bc95155fff": {
          "model_module": "@jupyter-widgets/controls",
          "model_name": "LabelModel",
          "model_module_version": "1.5.0",
          "state": {
            "_view_name": "LabelView",
            "style": "IPY_MODEL_5f549205576e46b0909e76b64e0a2348",
            "_dom_classes": [],
            "description": "",
            "_model_name": "LabelModel",
            "placeholder": "​",
            "_view_module": "@jupyter-widgets/controls",
            "_model_module_version": "1.5.0",
            "value": " 2.63MB of 2.63MB uploaded (0.00MB deduped)\r",
            "_view_count": null,
            "_view_module_version": "1.5.0",
            "description_tooltip": null,
            "_model_module": "@jupyter-widgets/controls",
            "layout": "IPY_MODEL_5506920bdfee4dcbb2d54fc687893a09"
          }
        },
        "cef10a6b154649f192b7e629133bd0df": {
          "model_module": "@jupyter-widgets/controls",
          "model_name": "FloatProgressModel",
          "model_module_version": "1.5.0",
          "state": {
            "_view_name": "ProgressView",
            "style": "IPY_MODEL_d112337b098947bf8545ad89aa6ca2de",
            "_dom_classes": [],
            "description": "",
            "_model_name": "FloatProgressModel",
            "bar_style": "",
            "max": 1,
            "_view_module": "@jupyter-widgets/controls",
            "_model_module_version": "1.5.0",
            "value": 1,
            "_view_count": null,
            "_view_module_version": "1.5.0",
            "orientation": "horizontal",
            "min": 0,
            "description_tooltip": null,
            "_model_module": "@jupyter-widgets/controls",
            "layout": "IPY_MODEL_7c758a6288014e4493ca515afe1187fb"
          }
        },
        "5f549205576e46b0909e76b64e0a2348": {
          "model_module": "@jupyter-widgets/controls",
          "model_name": "DescriptionStyleModel",
          "model_module_version": "1.5.0",
          "state": {
            "_view_name": "StyleView",
            "_model_name": "DescriptionStyleModel",
            "description_width": "",
            "_view_module": "@jupyter-widgets/base",
            "_model_module_version": "1.5.0",
            "_view_count": null,
            "_view_module_version": "1.2.0",
            "_model_module": "@jupyter-widgets/controls"
          }
        },
        "5506920bdfee4dcbb2d54fc687893a09": {
          "model_module": "@jupyter-widgets/base",
          "model_name": "LayoutModel",
          "model_module_version": "1.2.0",
          "state": {
            "_view_name": "LayoutView",
            "grid_template_rows": null,
            "right": null,
            "justify_content": null,
            "_view_module": "@jupyter-widgets/base",
            "overflow": null,
            "_model_module_version": "1.2.0",
            "_view_count": null,
            "flex_flow": null,
            "width": null,
            "min_width": null,
            "border": null,
            "align_items": null,
            "bottom": null,
            "_model_module": "@jupyter-widgets/base",
            "top": null,
            "grid_column": null,
            "overflow_y": null,
            "overflow_x": null,
            "grid_auto_flow": null,
            "grid_area": null,
            "grid_template_columns": null,
            "flex": null,
            "_model_name": "LayoutModel",
            "justify_items": null,
            "grid_row": null,
            "max_height": null,
            "align_content": null,
            "visibility": null,
            "align_self": null,
            "height": null,
            "min_height": null,
            "padding": null,
            "grid_auto_rows": null,
            "grid_gap": null,
            "max_width": null,
            "order": null,
            "_view_module_version": "1.2.0",
            "grid_template_areas": null,
            "object_position": null,
            "object_fit": null,
            "grid_auto_columns": null,
            "margin": null,
            "display": null,
            "left": null
          }
        },
        "d112337b098947bf8545ad89aa6ca2de": {
          "model_module": "@jupyter-widgets/controls",
          "model_name": "ProgressStyleModel",
          "model_module_version": "1.5.0",
          "state": {
            "_view_name": "StyleView",
            "_model_name": "ProgressStyleModel",
            "description_width": "",
            "_view_module": "@jupyter-widgets/base",
            "_model_module_version": "1.5.0",
            "_view_count": null,
            "_view_module_version": "1.2.0",
            "bar_color": null,
            "_model_module": "@jupyter-widgets/controls"
          }
        },
        "7c758a6288014e4493ca515afe1187fb": {
          "model_module": "@jupyter-widgets/base",
          "model_name": "LayoutModel",
          "model_module_version": "1.2.0",
          "state": {
            "_view_name": "LayoutView",
            "grid_template_rows": null,
            "right": null,
            "justify_content": null,
            "_view_module": "@jupyter-widgets/base",
            "overflow": null,
            "_model_module_version": "1.2.0",
            "_view_count": null,
            "flex_flow": null,
            "width": null,
            "min_width": null,
            "border": null,
            "align_items": null,
            "bottom": null,
            "_model_module": "@jupyter-widgets/base",
            "top": null,
            "grid_column": null,
            "overflow_y": null,
            "overflow_x": null,
            "grid_auto_flow": null,
            "grid_area": null,
            "grid_template_columns": null,
            "flex": null,
            "_model_name": "LayoutModel",
            "justify_items": null,
            "grid_row": null,
            "max_height": null,
            "align_content": null,
            "visibility": null,
            "align_self": null,
            "height": null,
            "min_height": null,
            "padding": null,
            "grid_auto_rows": null,
            "grid_gap": null,
            "max_width": null,
            "order": null,
            "_view_module_version": "1.2.0",
            "grid_template_areas": null,
            "object_position": null,
            "object_fit": null,
            "grid_auto_columns": null,
            "margin": null,
            "display": null,
            "left": null
          }
        }
      }
    }
  },
  "cells": [
    {
      "cell_type": "markdown",
      "metadata": {
        "id": "view-in-github",
        "colab_type": "text"
      },
      "source": [
        "<a href=\"https://colab.research.google.com/github/11doris/jazz-maestro/blob/colab_word_embeddings/colab_g_recommender_score.ipynb\" target=\"_parent\"><img src=\"https://colab.research.google.com/assets/colab-badge.svg\" alt=\"Open In Colab\"/></a>"
      ]
    },
    {
      "cell_type": "markdown",
      "metadata": {
        "id": "YGhakKpa8Dtf"
      },
      "source": [
        "# Sections as Input"
      ]
    },
    {
      "cell_type": "code",
      "metadata": {
        "colab": {
          "base_uri": "https://localhost:8080/"
        },
        "id": "dm5QehpXxo31",
        "outputId": "6fd69d38-032e-4932-ffe1-903b14f3af5f"
      },
      "source": [
        "pip install wandb"
      ],
      "execution_count": 1,
      "outputs": [
        {
          "output_type": "stream",
          "name": "stdout",
          "text": [
            "Requirement already satisfied: wandb in /usr/local/lib/python3.7/dist-packages (0.12.7)\n",
            "Requirement already satisfied: six>=1.13.0 in /usr/local/lib/python3.7/dist-packages (from wandb) (1.15.0)\n",
            "Requirement already satisfied: promise<3,>=2.0 in /usr/local/lib/python3.7/dist-packages (from wandb) (2.3)\n",
            "Requirement already satisfied: yaspin>=1.0.0 in /usr/local/lib/python3.7/dist-packages (from wandb) (2.1.0)\n",
            "Requirement already satisfied: sentry-sdk>=1.0.0 in /usr/local/lib/python3.7/dist-packages (from wandb) (1.5.0)\n",
            "Requirement already satisfied: python-dateutil>=2.6.1 in /usr/local/lib/python3.7/dist-packages (from wandb) (2.8.2)\n",
            "Requirement already satisfied: subprocess32>=3.5.3 in /usr/local/lib/python3.7/dist-packages (from wandb) (3.5.4)\n",
            "Requirement already satisfied: docker-pycreds>=0.4.0 in /usr/local/lib/python3.7/dist-packages (from wandb) (0.4.0)\n",
            "Requirement already satisfied: PyYAML in /usr/local/lib/python3.7/dist-packages (from wandb) (3.13)\n",
            "Requirement already satisfied: protobuf>=3.12.0 in /usr/local/lib/python3.7/dist-packages (from wandb) (3.17.3)\n",
            "Requirement already satisfied: configparser>=3.8.1 in /usr/local/lib/python3.7/dist-packages (from wandb) (5.1.0)\n",
            "Requirement already satisfied: Click!=8.0.0,>=7.0 in /usr/local/lib/python3.7/dist-packages (from wandb) (7.1.2)\n",
            "Requirement already satisfied: GitPython>=1.0.0 in /usr/local/lib/python3.7/dist-packages (from wandb) (3.1.24)\n",
            "Requirement already satisfied: requests<3,>=2.0.0 in /usr/local/lib/python3.7/dist-packages (from wandb) (2.23.0)\n",
            "Requirement already satisfied: shortuuid>=0.5.0 in /usr/local/lib/python3.7/dist-packages (from wandb) (1.0.8)\n",
            "Requirement already satisfied: psutil>=5.0.0 in /usr/local/lib/python3.7/dist-packages (from wandb) (5.4.8)\n",
            "Requirement already satisfied: pathtools in /usr/local/lib/python3.7/dist-packages (from wandb) (0.1.2)\n",
            "Requirement already satisfied: typing-extensions>=3.7.4.3 in /usr/local/lib/python3.7/dist-packages (from GitPython>=1.0.0->wandb) (3.10.0.2)\n",
            "Requirement already satisfied: gitdb<5,>=4.0.1 in /usr/local/lib/python3.7/dist-packages (from GitPython>=1.0.0->wandb) (4.0.9)\n",
            "Requirement already satisfied: smmap<6,>=3.0.1 in /usr/local/lib/python3.7/dist-packages (from gitdb<5,>=4.0.1->GitPython>=1.0.0->wandb) (5.0.0)\n",
            "Requirement already satisfied: chardet<4,>=3.0.2 in /usr/local/lib/python3.7/dist-packages (from requests<3,>=2.0.0->wandb) (3.0.4)\n",
            "Requirement already satisfied: certifi>=2017.4.17 in /usr/local/lib/python3.7/dist-packages (from requests<3,>=2.0.0->wandb) (2021.10.8)\n",
            "Requirement already satisfied: idna<3,>=2.5 in /usr/local/lib/python3.7/dist-packages (from requests<3,>=2.0.0->wandb) (2.10)\n",
            "Requirement already satisfied: urllib3!=1.25.0,!=1.25.1,<1.26,>=1.21.1 in /usr/local/lib/python3.7/dist-packages (from requests<3,>=2.0.0->wandb) (1.24.3)\n",
            "Requirement already satisfied: termcolor<2.0.0,>=1.1.0 in /usr/local/lib/python3.7/dist-packages (from yaspin>=1.0.0->wandb) (1.1.0)\n"
          ]
        }
      ]
    },
    {
      "cell_type": "code",
      "metadata": {
        "colab": {
          "base_uri": "https://localhost:8080/"
        },
        "id": "HZG8BDT-xrv3",
        "outputId": "8f7c6b4b-386a-4a47-b13b-0f62a94964dc"
      },
      "source": [
        "!wandb login"
      ],
      "execution_count": 2,
      "outputs": [
        {
          "output_type": "stream",
          "name": "stdout",
          "text": [
            "\u001b[34m\u001b[1mwandb\u001b[0m: Currently logged in as: \u001b[33mdoris\u001b[0m (use `wandb login --relogin` to force relogin)\n"
          ]
        }
      ]
    },
    {
      "cell_type": "code",
      "metadata": {
        "id": "WHZBzAXjxz1J"
      },
      "source": [
        "import wandb"
      ],
      "execution_count": 3,
      "outputs": []
    },
    {
      "cell_type": "code",
      "metadata": {
        "colab": {
          "base_uri": "https://localhost:8080/"
        },
        "id": "MUy1ta4_782n",
        "outputId": "854bccb3-eb92-4be3-c225-4f13fd55fbe6"
      },
      "source": [
        "!pip uninstall gensim -y"
      ],
      "execution_count": 4,
      "outputs": [
        {
          "output_type": "stream",
          "name": "stdout",
          "text": [
            "Found existing installation: gensim 4.1.2\n",
            "Uninstalling gensim-4.1.2:\n",
            "  Successfully uninstalled gensim-4.1.2\n"
          ]
        }
      ]
    },
    {
      "cell_type": "code",
      "metadata": {
        "colab": {
          "base_uri": "https://localhost:8080/"
        },
        "id": "oAroxmvO8GQj",
        "outputId": "8f1bd112-9ff2-435e-a2af-8ad9da91bc4e"
      },
      "source": [
        "!pip install gensim"
      ],
      "execution_count": 5,
      "outputs": [
        {
          "output_type": "stream",
          "name": "stdout",
          "text": [
            "Collecting gensim\n",
            "  Using cached gensim-4.1.2-cp37-cp37m-manylinux_2_12_x86_64.manylinux2010_x86_64.whl (24.1 MB)\n",
            "Requirement already satisfied: scipy>=0.18.1 in /usr/local/lib/python3.7/dist-packages (from gensim) (1.4.1)\n",
            "Requirement already satisfied: smart-open>=1.8.1 in /usr/local/lib/python3.7/dist-packages (from gensim) (5.2.1)\n",
            "Requirement already satisfied: numpy>=1.17.0 in /usr/local/lib/python3.7/dist-packages (from gensim) (1.19.5)\n",
            "Installing collected packages: gensim\n",
            "Successfully installed gensim-4.1.2\n"
          ]
        }
      ]
    },
    {
      "cell_type": "code",
      "metadata": {
        "id": "6SZ0zrKX8H-D"
      },
      "source": [
        "import gensim\n",
        "from sklearn.manifold import TSNE\n",
        "import matplotlib.pyplot as plt\n",
        "import pprint\n",
        "import pandas as pd\n",
        "import numpy as np\n",
        "from collections import Counter\n",
        "import plotly.express as px\n",
        "from tqdm import tqdm \n",
        "from gensim.models.doc2vec import Doc2Vec\n",
        "from gensim.models.tfidfmodel import TfidfModel\n",
        "from gensim.models.lsimodel import LsiModel\n",
        "from gensim.models import CoherenceModel\n",
        "from gensim import corpora\n",
        "from gensim import similarities\n",
        "import pickle\n",
        "import os\n",
        "import zipfile\n"
      ],
      "execution_count": 6,
      "outputs": []
    },
    {
      "cell_type": "code",
      "metadata": {
        "id": "znWar-PK8KHT"
      },
      "source": [
        "import logging\n",
        "logging.basicConfig(format='%(asctime)s : %(levelname)s : %(message)s', level=logging.INFO)"
      ],
      "execution_count": 7,
      "outputs": []
    },
    {
      "cell_type": "code",
      "metadata": {
        "colab": {
          "base_uri": "https://localhost:8080/"
        },
        "id": "kjCf_Abf8MCc",
        "outputId": "452c35e7-a1f3-43e2-db13-a05db69f5679"
      },
      "source": [
        "print(gensim.__version__)"
      ],
      "execution_count": 8,
      "outputs": [
        {
          "output_type": "stream",
          "name": "stdout",
          "text": [
            "4.1.2\n"
          ]
        }
      ]
    },
    {
      "cell_type": "code",
      "metadata": {
        "id": "_aEonlx-CT6r"
      },
      "source": [
        "!rm data.csv"
      ],
      "execution_count": 9,
      "outputs": []
    },
    {
      "cell_type": "code",
      "metadata": {
        "id": "Xhfwd9iMZ99Q"
      },
      "source": [
        "pd.set_option('display.max_rows', 500)\n",
        "pd.set_option('display.max_columns', 500)\n",
        "pd.set_option('display.width', 1000)"
      ],
      "execution_count": 10,
      "outputs": []
    },
    {
      "cell_type": "markdown",
      "metadata": {
        "id": "Nk5pPZqk0Pn7"
      },
      "source": [
        "# Configuration\n"
      ]
    },
    {
      "cell_type": "code",
      "metadata": {
        "id": "wcZ18xhgU7MZ"
      },
      "source": [
        "use_wandb = True"
      ],
      "execution_count": 11,
      "outputs": []
    },
    {
      "cell_type": "code",
      "metadata": {
        "id": "A-AD1gxGLYxp"
      },
      "source": [
        "generate_webapp_data = True"
      ],
      "execution_count": 12,
      "outputs": []
    },
    {
      "cell_type": "code",
      "metadata": {
        "id": "GfQbJQmexlxI"
      },
      "source": [
        "chords_preprocessing = 'rootAndDegreesPlus'"
      ],
      "execution_count": 13,
      "outputs": []
    },
    {
      "cell_type": "code",
      "metadata": {
        "id": "buoyWNl0F48Y"
      },
      "source": [
        "ngrams_for_input = [1]"
      ],
      "execution_count": 14,
      "outputs": []
    },
    {
      "cell_type": "code",
      "metadata": {
        "id": "H9AFlUZ1lpGC"
      },
      "source": [
        "remove_repetitions = False"
      ],
      "execution_count": 15,
      "outputs": []
    },
    {
      "cell_type": "code",
      "metadata": {
        "id": "K7qB2_sBvKpB"
      },
      "source": [
        "input_files = {\n",
        "    'sections': {\n",
        "        # M7 and 6 reduced to major triad, m7 reduced to m, dominant 7, m7b5, diminished, and all (b5) left as they are.\n",
        "        'rootAndDegreesPlus': '1BDYukaIj72jmi9PqZVrCAqKbyxg8Z4yq',\n",
        "        'rootAndDegrees7': '',\n",
        "        'rootAndDegreesSimplified': ''\n",
        "    },\n",
        "    'tunes': {\n",
        "        'rootAndDegreesPlus': '',\n",
        "        'rootAndDegrees7': '',\n",
        "        'rootAndDegreesSimplified': '',\n",
        "    }\n",
        "}"
      ],
      "execution_count": 16,
      "outputs": []
    },
    {
      "cell_type": "code",
      "metadata": {
        "colab": {
          "base_uri": "https://localhost:8080/"
        },
        "id": "lM6eaQwnyWD3",
        "outputId": "3ef59be5-3a19-421d-92f9-083c1d161413"
      },
      "source": [
        "tunes_eval_list = [\n",
        "  \"Sweet Sue, Just You [jazz1350]\",\n",
        "  \"On The Sunny Side Of The Street [jazz1350]\",\n",
        "  \"These Foolish Things [jazz1350]\", \n",
        "  \"Blue Moon [jazz1350]\",\n",
        "  \"All Of Me [jazz1350]\",\n",
        "  \"All God's Chillun Got Rhythm [jazz1350]\",\n",
        "  \"I Got Rhythm [jazz1350]\",\n",
        "  \"Bye Bye Blackbird [jazz1350]\",\n",
        "  \"Old Fashioned Love [trad]\",\n",
        "  \"Exactly Like You [jazz1350]\",\n",
        "  \"Honeysuckle Rose [jazz1350]\",\n",
        "  \"Misty [jazz1350]\",\n",
        "  \"Naima [jazz1350]\",\n",
        "]\n",
        "\n",
        "tunes_eval_list = sorted(tunes_eval_list)\n",
        "tunes_eval_list"
      ],
      "execution_count": 17,
      "outputs": [
        {
          "output_type": "execute_result",
          "data": {
            "text/plain": [
              "[\"All God's Chillun Got Rhythm [jazz1350]\",\n",
              " 'All Of Me [jazz1350]',\n",
              " 'Blue Moon [jazz1350]',\n",
              " 'Bye Bye Blackbird [jazz1350]',\n",
              " 'Exactly Like You [jazz1350]',\n",
              " 'Honeysuckle Rose [jazz1350]',\n",
              " 'I Got Rhythm [jazz1350]',\n",
              " 'Misty [jazz1350]',\n",
              " 'Naima [jazz1350]',\n",
              " 'Old Fashioned Love [trad]',\n",
              " 'On The Sunny Side Of The Street [jazz1350]',\n",
              " 'Sweet Sue, Just You [jazz1350]',\n",
              " 'These Foolish Things [jazz1350]']"
            ]
          },
          "metadata": {},
          "execution_count": 17
        }
      ]
    },
    {
      "cell_type": "code",
      "metadata": {
        "id": "uiI0h4ef0PCD"
      },
      "source": [
        "contrafacts = [\n",
        "               (\"26-2 [jazz1350]\", \"Confirmation [jazz1350]\"),\n",
        "               (\"52nd Street Theme [jazz1350]\", \"I Got Rhythm [jazz1350]\"),\n",
        "               (\"Ablution [jazz1350]\", \"All The Things You Are [jazz1350]\"),\n",
        "               (\"Anthropology [jazz1350]\", \"I Got Rhythm [jazz1350]\"),\n",
        "               (\"Ballade [jazz1350]\", \"As Long As I Live [jazz1350]\"),\n",
        "               (\"Bright Mississippi [jazz1350]\", \"Sweet Georgia Brown [jazz1350]\"),\n",
        "               (\"C.T.A. [jazz1350]\", \"I Got Rhythm [jazz1350]\"),\n",
        "               #( \"Celia [jazz1350]\", \"I Got Rhythm [jazz1350]\"),\n",
        "               (\"Cottontail [jazz1350]\", \"I Got Rhythm [jazz1350]\"),\n",
        "               (\"Countdown [jazz1350]\", \"Tune Up [jazz1350]\"),\n",
        "               (\"Dewey Square [jazz1350]\", \"Oh, Lady Be Good [jazz1350]\"),\n",
        "               (\"Dexterity [jazz1350]\", \"I Got Rhythm [jazz1350]\"),\n",
        "               (\"Dig [jazz1350]\", \"Sweet Georgia Brown [jazz1350]\"),\n",
        "               (\"Donna Lee [jazz1350]\", \"Indiana (Back Home Again In) [jazz1350]\"),\n",
        "               (\"Don't Be That Way [jazz1350]\", \"I Got Rhythm [jazz1350]\"),\n",
        "               #(\"Eternal Triangle [jazz1350]\", \"I Got Rhythm [jazz1350]\"),\n",
        "               (\"Evidence [jazz1350]\", \"Just You, Just Me [jazz1350]\"),\n",
        "               (\"Flintstones [jazz1350]\", \"I Got Rhythm [jazz1350]\"),\n",
        "               (\"Four On Six [jazz1350]\", \"Summertime [jazz1350]\"),\n",
        "               (\"Freight Train [jazz1350]\", \"Blues For Alice [jazz1350]\"),\n",
        "               (\"Good Bait [jazz1350]\", \"I Got Rhythm [jazz1350]\"),\n",
        "               (\"Hackensack [jazz1350]\", \"Oh, Lady Be Good [jazz1350]\"),\n",
        "               (\"Half Nelson [jazz1350]\", \"Lady Bird [jazz1350]\"),\n",
        "               (\"Hot House [jazz1350]\", \"What Is This Thing Called Love [jazz1350]\"),\n",
        "               (\"Impressions [jazz1350]\", \"So What [jazz1350]\"),\n",
        "               (\"In A Mellow Tone (In A Mellotone) [jazz1350]\", \"Rose Room [jazz1350]\"),\n",
        "               (\"In Walked Bud [jazz1350]\", \"Blue Skies [jazz1350]\"),\n",
        "               (\"Ko Ko [jazz1350]\", \"Cherokee [jazz1350]\"),\n",
        "               (\"Lennie's Pennies [jazz1350]\", \"Pennies From Heaven [jazz1350]\"),   ## Lennie's Pennies is in minor and therefore transposed to Amin... not possible to recognize like that\n",
        "               #( \"Let's Call This [jazz1350]\", \"Honeysuckle Rose [jazz1350]\"),\n",
        "               (\"Little Rootie Tootie [jazz1350]\", \"I Got Rhythm [jazz1350]\"),\n",
        "               (\"Little Willie Leaps [jazz1350]\", \"All God's Chillun Got Rhythm [jazz1350]\"),\n",
        "               (\"Lullaby Of Birdland [jazz1350]\", \"Love Me Or Leave Me [jazz1350]\"),\n",
        "               #(\"Moose The Mooche [jazz1350]\", \"I Got Rhythm [jazz1350]\"),\n",
        "               (\"My Little Suede Shoes [jazz1350]\", \"Jeepers Creepers [jazz1350]\"),\n",
        "               #(\"Oleo [jazz1350]\", \"I Got Rhythm [jazz1350]\"),\n",
        "               (\"Ornithology [jazz1350]\", \"How High The Moon [jazz1350]\"),\n",
        "               #(\"Passport [jazz1350]\", \"I Got Rhythm [jazz1350]\"),\n",
        "               (\"Quasimodo (Theme) [jazz1350]\", \"Embraceable You [jazz1350]\"),\n",
        "               #(\"Rhythm-a-ning [jazz1350]\", \"I Got Rhythm [jazz1350]\"),\n",
        "               (\"Room 608 [jazz1350]\", \"I Got Rhythm [jazz1350]\"),\n",
        "               #(\"Salt Peanuts [jazz1350]\", \"I Got Rhythm [jazz1350]\"),\n",
        "               (\"Satellite [jazz1350]\", \"How High The Moon [jazz1350]\"),\n",
        "               (\"Scrapple From The Apple [jazz1350]\", \"Honeysuckle Rose [jazz1350]\"), # A section\n",
        "               (\"Scrapple From The Apple [jazz1350]\", \"I Got Rhythm [jazz1350]\"), # B section\n",
        "               #(\"Segment [jazz1350]\", \"I Got Rhythm [jazz1350]\"),\n",
        "               #(\"Seven Come Eleven [jazz1350]\", \"I Got Rhythm [jazz1350]\"),\n",
        "               #(\"Shaw 'Nuff [jazz1350]\", \"I Got Rhythm [jazz1350]\"),\n",
        "               #(\"Theme, The [jazz1350]\", \"I Got Rhythm [jazz1350]\"),\n",
        "               (\"Tour De Force [jazz1350]\", \"Jeepers Creepers [jazz1350]\"),\n",
        "               (\"Wow [jazz1350]\", \"You Can Depend On Me [jazz1350]\"),\n",
        "               (\"Yardbird Suite [jazz1350]\", \"Rosetta [jazz1350]\"),\n",
        "\n",
        "               # following tunes are not from wikipedia),\n",
        "               (\"Sweet Sue, Just You [jazz1350]\", \"Honeysuckle Rose [jazz1350]\"),  # A section\n",
        "               #(\"All Of Me [jazz1350]\", \"Pennies From Heaven [jazz1350]\"), # bars 25-28 of All of Me are same as bars 17-20 of Pennies From Heaven, but different key!\n",
        "               (\"Sweet Sue, Just You [jazz1350]\", \"Bye Bye Blackbird [jazz1350]\"), # Bridge same\n",
        "               (\"These Foolish Things [jazz1350]\", \"Blue Moon [jazz1350]\"), # first 8 bars same\n",
        "               (\"These Foolish Things [jazz1350]\", \"More Than You Know [jazz1350]\"),\n",
        "               (\"These Foolish Things [jazz1350]\", \"Isn't It A Pity [jazz1350]\"),\n",
        "               (\"These Foolish Things [jazz1350]\", \"Soultrain [jazz1350]\"),\n",
        "               (\"These Foolish Things [jazz1350]\", \"Why Do I Love You [jazz1350]\"),\n",
        "               (\"Misty [jazz1350]\", \"Portrait Of Jennie [jazz1350]\"),\n",
        "               (\"Misty [jazz1350]\", \"September In The Rain [jazz1350]\"),\n",
        "               (\"Misty [jazz1350]\", \"I May Be Wrong [jazz1350]\"),  \n",
        "\n",
        "               # identical tunes\n",
        "               (\"Five Foot Two [trad]\", \"Please Don't Talk About Me When I'm Gone [trad]\"),\n",
        "               (\"What Is This Thing Called Love [jazz1350]\", \"Subconscious Lee [jazz1350]\"),\n",
        "               (\"Sweet Georgia Brown [jazz1350]\", \"Dig [jazz1350]\"),\n",
        "\n",
        "\n",
        "               # almost identical tunes\n",
        "               (\"What Is This Thing Called Love [jazz1350]\", \"Hot House [jazz1350]\"),\n",
        "               (\"Jeannie's Song [jazz1350]\", \"Shiny Stockings [jazz1350]\"),\n",
        "               (\"Alone Together [jazz1350]\", \"Segment [jazz1350]\"),\n",
        "               (\"Baubles, Bangles and Beads [jazz1350]\", \"Bossa Antigua [jazz1350]\"),\n",
        "               (\"There Will Never Be Another You [jazz1350]\", \"A Weaver Of Dreams [jazz1350]\"),\n",
        "               (\"Moten Swing [jazz1350]\", \"Once In A While (Ballad) [trad]\"), # same bridge, similar A\n",
        "               (\"All I Do Is Dream Of You [trad]\", \"L-O-V-E [jazz1350]\"),\n",
        "\n",
        "\n",
        "               # same A section\n",
        "               (\"Nancy (With The Laughing Face) [jazz1350]\", \"Body And Soul [jazz1350]\"),\n",
        "               (\"Exactly Like You [jazz1350]\", \"True (You Don't Love Me ) [trad]\"),\n",
        "               (\"Exactly Like You [jazz1350]\", \"True (You Don't Love Me ) [trad]\"),\n",
        "               (\"Exactly Like You [jazz1350]\", \"Jersey Bounce [trad]\"),\n",
        "               (\"Take The A Train [jazz1350]\", \"Girl From Ipanema, The [jazz1350]\"),\n",
        "               (\"My Heart Stood Still [jazz1350]\", \"All Too Soon [jazz1350]\"),\n",
        "               (\"Undecided [jazz1350]\", \"Broadway [jazz1350]\"),\n",
        "               (\"My Heart Stood Still [jazz1350]\", \"All Too Soon [jazz1350]\"),\n",
        "               (\"Let's Fall In Love [jazz1350]\", \"Heart And Soul [jazz1350]\"),\n",
        "               (\"Come Back To Me [jazz1350]\", \"I Wish I Knew [jazz1350]\"),\n",
        "               (\"Wait Till You See Her [jazz1350]\", \"A Certain Smile [jazz1350]\"),\n",
        "               (\"Killer Joe [jazz1350]\", \"Straight Life [jazz1350]\"),\n",
        "               (\"Softly, As In A Morning Sunrise [jazz1350]\", \"Segment [jazz1350]\"),\n",
        "               (\"Bei Mir Bist Du Schon (Root Hog Or Die) [trad]\", \"Egyptian Fantasy [trad]\"),\n",
        "               (\"Bei Mir Bist Du Schon (Root Hog Or Die) [trad]\", \"Puttin' On The Ritz [jazz1350]\"),\n",
        "               (\"Coquette [trad]\", \"Pretend You're Happy When You're Blue [trad]\"),\n",
        "               (\"Softly, As In A Morning Sunrise [jazz1350]\", \"Strode Rode [jazz1350]\"),\n",
        "               (\"Glory Of Love, The [jazz1350]\", \"I've Got My Fingers Crossed [trad]\"),\n",
        "\n",
        "\n",
        "               # same bridge\n",
        "               (\"If I Had You [jazz1350]\", \"Too Young To Go Steady [jazz1350]\"),\n",
        "               (\"Undecided [jazz1350]\", \"Satin Doll [jazz1350]\"),\n",
        "               (\"Billy Boy [jazz1350]\", \"Elora [jazz1350]\"),\n",
        "               (\"Dearly Beloved [jazz1350]\", \"We See [jazz1350]\"),\n",
        "               (\"Alone Together [jazz1350]\", \"A Night In Tunisia [jazz1350]\"),\n",
        "               (\"A Night In Tunisia [jazz1350]\", \"Segment [jazz1350]\"),\n",
        "               (\"Oh! Lady Be Good [trad]\", \"Sentimental Journey [jazz1350]\"),\n",
        "               (\"You Can Depend On Me [jazz1350]\", \"Move [jazz1350]\"),\n",
        "               (\"I Want To Be Happy [jazz1350]\", \"A Beautiful Friendship [jazz1350]\"),\n",
        "               (\"Flying Home [jazz1350]\", \"Down For Double [jazz1350]\"),\n",
        "               (\"Cheek To Cheek [jazz1350]\", \"Violets For Your Furs [jazz1350]\"),\n",
        "               (\"Let's Fall In Love [jazz1350]\", \"At Last [jazz1350]\"),\n",
        "               (\"Don't Be That Way [jazz1350]\", \"Long Ago And Far Away [jazz1350]\"),\n",
        "               (\"On The Sunny Side Of The Street [jazz1350]\", \"I'm Confessin' That I Love You [jazz1350]\"),\n",
        "               (\"On The Sunny Side Of The Street [jazz1350]\", \"Eclypso [jazz1350]\"),\n",
        "               (\"On The Sunny Side Of The Street [jazz1350]\", \"You Stepped Out Of A Dream [jazz1350]\"),\n",
        "               \n",
        "\n",
        "               # similar A section\n",
        "               (\"I Like The Likes Of You [jazz1350]\", \"Mountain Greenery [jazz1350]\"),\n",
        "               (\"My Secret Love [jazz1350]\", \"Samba De Orfeu [jazz1350]\"),\n",
        "               (\"Let's Call The Whole Thing Off [jazz1350]\", \"Fine And Dandy [jazz1350]\"),\n",
        "\n",
        "\n",
        "               # similar B section\n",
        "               (\"Folks Who Live On The Hill, The [jazz1350]\", \"My One And Only Love [jazz1350]\"),\n",
        "               (\"As Long As I Live [jazz1350]\", \"I'm Glad There Is You [jazz1350]\"),\n",
        "               (\"I May Be Wrong [jazz1350]\", \"Teach Me Tonight [jazz1350]\"),\n",
        "               (\"Am I Blue [jazz1350]\", \"Come Back To Me [jazz1350]\"),\n",
        "               (\"My One And Only Love [jazz1350]\", \"Am I Blue [jazz1350]\"),\n",
        "               (\"On The Sunny Side Of The Street [jazz1350]\", \"September In The Rain [jazz1350]\"),\n",
        "               (\"On The Sunny Side Of The Street [jazz1350]\", \"Mountain Greenery [jazz1350]\"),\n",
        "               (\"On The Sunny Side Of The Street [jazz1350]\", \"There's No You [jazz1350]\"),\n",
        "               (\"These Foolish Things [jazz1350]\", \"Embraceable You [jazz1350]\"),\n",
        "               (\"These Foolish Things [jazz1350]\", \"Rosetta [jazz1350]\"),\n",
        "\n",
        "               # same C section\n",
        "               (\"Bill Bailey [jazz1350]\", \"Bourbon Street Parade [jazz1350]\"),\n",
        "\n",
        "               # Stella C is like Woody B\n",
        "               (\"Woody'n You [jazz1350]\", \"Stella By Starlight [jazz1350]\"),\n",
        "\n",
        "               # similar vocabulary, different progressions\n",
        "               (\"Tangerine [jazz1350]\", \"Tea For Two [jazz1350]\"),\n",
        "               (\"I Can't Give You Anything But Love [jazz1350]\", \"You Can Depend On Me [jazz1350]\"),\n",
        "               (\"This Year's Kisses [jazz1350]\", \"My Monday Date [trad]\"),\n",
        "               (\"A Blossom Fell [jazz1350]\", \"Among My Souvenirs [jazz1350]\"),\n",
        "\n",
        "\n",
        "\n",
        "]"
      ],
      "execution_count": 18,
      "outputs": []
    },
    {
      "cell_type": "markdown",
      "metadata": {
        "id": "gcexO7zK8Pn6"
      },
      "source": [
        "# Initialization\n",
        "\n",
        "## Download the Data"
      ]
    },
    {
      "cell_type": "code",
      "metadata": {
        "id": "JwVJo3Vat8iF"
      },
      "source": [
        "input_data = input_files['sections'][chords_preprocessing]\n",
        "\n",
        "input_path = f\"https://docs.google.com/uc?export=download&id={input_data}\"\n",
        "data_file_name = 'data.csv'\n"
      ],
      "execution_count": 19,
      "outputs": []
    },
    {
      "cell_type": "code",
      "metadata": {
        "colab": {
          "base_uri": "https://localhost:8080/",
          "height": 36
        },
        "id": "_Dp-fijjB-pU",
        "outputId": "a2670d7b-97bd-4f1d-e726-9b4b982e14f9"
      },
      "source": [
        "input_path"
      ],
      "execution_count": 20,
      "outputs": [
        {
          "output_type": "execute_result",
          "data": {
            "application/vnd.google.colaboratory.intrinsic+json": {
              "type": "string"
            },
            "text/plain": [
              "'https://docs.google.com/uc?export=download&id=1BDYukaIj72jmi9PqZVrCAqKbyxg8Z4yq'"
            ]
          },
          "metadata": {},
          "execution_count": 20
        }
      ]
    },
    {
      "cell_type": "code",
      "metadata": {
        "colab": {
          "base_uri": "https://localhost:8080/"
        },
        "id": "1ZVAYUH5t9Li",
        "outputId": "966df397-9cba-48e1-c07d-d71b7d33ba7e"
      },
      "source": [
        "!wget --no-check-certificate \"$input_path\" -O \"$data_file_name\""
      ],
      "execution_count": 21,
      "outputs": [
        {
          "output_type": "stream",
          "name": "stdout",
          "text": [
            "--2021-11-28 19:08:29--  https://docs.google.com/uc?export=download&id=1BDYukaIj72jmi9PqZVrCAqKbyxg8Z4yq\n",
            "Resolving docs.google.com (docs.google.com)... 64.233.191.113, 64.233.191.139, 64.233.191.102, ...\n",
            "Connecting to docs.google.com (docs.google.com)|64.233.191.113|:443... connected.\n",
            "HTTP request sent, awaiting response... 302 Moved Temporarily\n",
            "Location: https://doc-0k-4c-docs.googleusercontent.com/docs/securesc/ha0ro937gcuc7l7deffksulhg5h7mbp1/v70aq2llllddkdq0env16rfdtfitk64a/1638126450000/14329102864480165501/*/1BDYukaIj72jmi9PqZVrCAqKbyxg8Z4yq?e=download [following]\n",
            "Warning: wildcards not supported in HTTP.\n",
            "--2021-11-28 19:08:30--  https://doc-0k-4c-docs.googleusercontent.com/docs/securesc/ha0ro937gcuc7l7deffksulhg5h7mbp1/v70aq2llllddkdq0env16rfdtfitk64a/1638126450000/14329102864480165501/*/1BDYukaIj72jmi9PqZVrCAqKbyxg8Z4yq?e=download\n",
            "Resolving doc-0k-4c-docs.googleusercontent.com (doc-0k-4c-docs.googleusercontent.com)... 172.253.119.132, 2607:f8b0:4001:c23::84\n",
            "Connecting to doc-0k-4c-docs.googleusercontent.com (doc-0k-4c-docs.googleusercontent.com)|172.253.119.132|:443... connected.\n",
            "HTTP request sent, awaiting response... 200 OK\n",
            "Length: 784266 (766K) [text/csv]\n",
            "Saving to: ‘data.csv’\n",
            "\n",
            "data.csv            100%[===================>] 765.88K  --.-KB/s    in 0.006s  \n",
            "\n",
            "2021-11-28 19:08:31 (120 MB/s) - ‘data.csv’ saved [784266/784266]\n",
            "\n"
          ]
        }
      ]
    },
    {
      "cell_type": "markdown",
      "metadata": {
        "id": "Ljs21B7h8YvC"
      },
      "source": [
        "### Read Chords Input Data"
      ]
    },
    {
      "cell_type": "code",
      "metadata": {
        "colab": {
          "base_uri": "https://localhost:8080/",
          "height": 310
        },
        "id": "B7kK418L8aac",
        "outputId": "58c36176-39ab-404a-92aa-dc660ecb7980"
      },
      "source": [
        "df = pd.read_csv(data_file_name, sep='\\t', index_col=\"id\")\n",
        "df = df.reset_index()\n",
        "df.head(5)"
      ],
      "execution_count": 22,
      "outputs": [
        {
          "output_type": "execute_result",
          "data": {
            "text/html": [
              "<div>\n",
              "<style scoped>\n",
              "    .dataframe tbody tr th:only-of-type {\n",
              "        vertical-align: middle;\n",
              "    }\n",
              "\n",
              "    .dataframe tbody tr th {\n",
              "        vertical-align: top;\n",
              "    }\n",
              "\n",
              "    .dataframe thead th {\n",
              "        text-align: right;\n",
              "    }\n",
              "</style>\n",
              "<table border=\"1\" class=\"dataframe\">\n",
              "  <thead>\n",
              "    <tr style=\"text-align: right;\">\n",
              "      <th></th>\n",
              "      <th>id</th>\n",
              "      <th>file_name</th>\n",
              "      <th>title</th>\n",
              "      <th>title_playlist</th>\n",
              "      <th>tune_mode</th>\n",
              "      <th>tune_id</th>\n",
              "      <th>section_name</th>\n",
              "      <th>section_id</th>\n",
              "      <th>chords</th>\n",
              "    </tr>\n",
              "  </thead>\n",
              "  <tbody>\n",
              "    <tr>\n",
              "      <th>0</th>\n",
              "      <td>0</td>\n",
              "      <td>dataset/jazz1350/26-2.xml</td>\n",
              "      <td>26-2</td>\n",
              "      <td>26-2 [jazz1350]</td>\n",
              "      <td>major</td>\n",
              "      <td>0</td>\n",
              "      <td>A</td>\n",
              "      <td>1</td>\n",
              "      <td>C Eb7 G# B7 E G7 Gm C7 F G#7 C# E7 Am D7 Dm G7</td>\n",
              "    </tr>\n",
              "    <tr>\n",
              "      <th>1</th>\n",
              "      <td>1</td>\n",
              "      <td>dataset/jazz1350/26-2.xml</td>\n",
              "      <td>26-2</td>\n",
              "      <td>26-2 [jazz1350]</td>\n",
              "      <td>major</td>\n",
              "      <td>0</td>\n",
              "      <td>A</td>\n",
              "      <td>2</td>\n",
              "      <td>C Eb7 G# B7 E G7 Gm C7 F Eb7 G# B7 E G7 C</td>\n",
              "    </tr>\n",
              "    <tr>\n",
              "      <th>2</th>\n",
              "      <td>2</td>\n",
              "      <td>dataset/jazz1350/26-2.xml</td>\n",
              "      <td>26-2</td>\n",
              "      <td>26-2 [jazz1350]</td>\n",
              "      <td>major</td>\n",
              "      <td>0</td>\n",
              "      <td>B</td>\n",
              "      <td>3</td>\n",
              "      <td>Gm C7 Bm E7 A C7 F Bbm Eb7 G# Dm G7</td>\n",
              "    </tr>\n",
              "    <tr>\n",
              "      <th>3</th>\n",
              "      <td>3</td>\n",
              "      <td>dataset/jazz1350/26-2.xml</td>\n",
              "      <td>26-2</td>\n",
              "      <td>26-2 [jazz1350]</td>\n",
              "      <td>major</td>\n",
              "      <td>0</td>\n",
              "      <td>A</td>\n",
              "      <td>4</td>\n",
              "      <td>C Eb7 G# B7 E G7 Gm C7 F Eb7 G# B7 E G7 C</td>\n",
              "    </tr>\n",
              "    <tr>\n",
              "      <th>4</th>\n",
              "      <td>4</td>\n",
              "      <td>dataset/jazz1350/500 Miles High.xml</td>\n",
              "      <td>500 Miles High</td>\n",
              "      <td>500 Miles High [jazz1350]</td>\n",
              "      <td>minor</td>\n",
              "      <td>1</td>\n",
              "      <td>NaN</td>\n",
              "      <td>0</td>\n",
              "      <td>Am Am Cm Cm Eb Eb Em7b5 A7 Dm Dm Bm7b5 Bm7b5 B...</td>\n",
              "    </tr>\n",
              "  </tbody>\n",
              "</table>\n",
              "</div>"
            ],
            "text/plain": [
              "   id                            file_name           title             title_playlist tune_mode  tune_id section_name  section_id                                             chords\n",
              "0   0            dataset/jazz1350/26-2.xml            26-2            26-2 [jazz1350]     major        0            A           1     C Eb7 G# B7 E G7 Gm C7 F G#7 C# E7 Am D7 Dm G7\n",
              "1   1            dataset/jazz1350/26-2.xml            26-2            26-2 [jazz1350]     major        0            A           2          C Eb7 G# B7 E G7 Gm C7 F Eb7 G# B7 E G7 C\n",
              "2   2            dataset/jazz1350/26-2.xml            26-2            26-2 [jazz1350]     major        0            B           3                Gm C7 Bm E7 A C7 F Bbm Eb7 G# Dm G7\n",
              "3   3            dataset/jazz1350/26-2.xml            26-2            26-2 [jazz1350]     major        0            A           4          C Eb7 G# B7 E G7 Gm C7 F Eb7 G# B7 E G7 C\n",
              "4   4  dataset/jazz1350/500 Miles High.xml  500 Miles High  500 Miles High [jazz1350]     minor        1          NaN           0  Am Am Cm Cm Eb Eb Em7b5 A7 Dm Dm Bm7b5 Bm7b5 B..."
            ]
          },
          "metadata": {},
          "execution_count": 22
        }
      ]
    },
    {
      "cell_type": "markdown",
      "metadata": {
        "id": "OsPcEFbg8gu6"
      },
      "source": [
        "### Meta Data"
      ]
    },
    {
      "cell_type": "code",
      "metadata": {
        "colab": {
          "base_uri": "https://localhost:8080/",
          "height": 206
        },
        "id": "_62YlEVJXOCL",
        "outputId": "82e06041-fb0a-47d7-8def-29e5029516f0"
      },
      "source": [
        "titles = df.loc[:, ['id', 'tune_id', 'section_id', 'section_name', 'title', 'title_playlist', 'tune_mode']]\n",
        "titles[:5]"
      ],
      "execution_count": 23,
      "outputs": [
        {
          "output_type": "execute_result",
          "data": {
            "text/html": [
              "<div>\n",
              "<style scoped>\n",
              "    .dataframe tbody tr th:only-of-type {\n",
              "        vertical-align: middle;\n",
              "    }\n",
              "\n",
              "    .dataframe tbody tr th {\n",
              "        vertical-align: top;\n",
              "    }\n",
              "\n",
              "    .dataframe thead th {\n",
              "        text-align: right;\n",
              "    }\n",
              "</style>\n",
              "<table border=\"1\" class=\"dataframe\">\n",
              "  <thead>\n",
              "    <tr style=\"text-align: right;\">\n",
              "      <th></th>\n",
              "      <th>id</th>\n",
              "      <th>tune_id</th>\n",
              "      <th>section_id</th>\n",
              "      <th>section_name</th>\n",
              "      <th>title</th>\n",
              "      <th>title_playlist</th>\n",
              "      <th>tune_mode</th>\n",
              "    </tr>\n",
              "  </thead>\n",
              "  <tbody>\n",
              "    <tr>\n",
              "      <th>0</th>\n",
              "      <td>0</td>\n",
              "      <td>0</td>\n",
              "      <td>1</td>\n",
              "      <td>A</td>\n",
              "      <td>26-2</td>\n",
              "      <td>26-2 [jazz1350]</td>\n",
              "      <td>major</td>\n",
              "    </tr>\n",
              "    <tr>\n",
              "      <th>1</th>\n",
              "      <td>1</td>\n",
              "      <td>0</td>\n",
              "      <td>2</td>\n",
              "      <td>A</td>\n",
              "      <td>26-2</td>\n",
              "      <td>26-2 [jazz1350]</td>\n",
              "      <td>major</td>\n",
              "    </tr>\n",
              "    <tr>\n",
              "      <th>2</th>\n",
              "      <td>2</td>\n",
              "      <td>0</td>\n",
              "      <td>3</td>\n",
              "      <td>B</td>\n",
              "      <td>26-2</td>\n",
              "      <td>26-2 [jazz1350]</td>\n",
              "      <td>major</td>\n",
              "    </tr>\n",
              "    <tr>\n",
              "      <th>3</th>\n",
              "      <td>3</td>\n",
              "      <td>0</td>\n",
              "      <td>4</td>\n",
              "      <td>A</td>\n",
              "      <td>26-2</td>\n",
              "      <td>26-2 [jazz1350]</td>\n",
              "      <td>major</td>\n",
              "    </tr>\n",
              "    <tr>\n",
              "      <th>4</th>\n",
              "      <td>4</td>\n",
              "      <td>1</td>\n",
              "      <td>0</td>\n",
              "      <td>NaN</td>\n",
              "      <td>500 Miles High</td>\n",
              "      <td>500 Miles High [jazz1350]</td>\n",
              "      <td>minor</td>\n",
              "    </tr>\n",
              "  </tbody>\n",
              "</table>\n",
              "</div>"
            ],
            "text/plain": [
              "   id  tune_id  section_id section_name           title             title_playlist tune_mode\n",
              "0   0        0           1            A            26-2            26-2 [jazz1350]     major\n",
              "1   1        0           2            A            26-2            26-2 [jazz1350]     major\n",
              "2   2        0           3            B            26-2            26-2 [jazz1350]     major\n",
              "3   3        0           4            A            26-2            26-2 [jazz1350]     major\n",
              "4   4        1           0          NaN  500 Miles High  500 Miles High [jazz1350]     minor"
            ]
          },
          "metadata": {},
          "execution_count": 23
        }
      ]
    },
    {
      "cell_type": "code",
      "metadata": {
        "id": "0vEOjvwt8jUu"
      },
      "source": [
        "titles_dict = titles.to_dict()\n",
        "\n",
        "sectionid_to_title = titles_dict['title_playlist']\n",
        "sectionid_to_titleid = titles_dict['tune_id']\n"
      ],
      "execution_count": 24,
      "outputs": []
    },
    {
      "cell_type": "code",
      "metadata": {
        "id": "Om7pbfnNGO_I"
      },
      "source": [
        "tunes = df.loc[:, ['tune_id', 'title_playlist']].drop_duplicates()\n",
        "tunes = tunes.set_index('tune_id').to_dict()\n",
        "titleid_to_title = tunes['title_playlist']"
      ],
      "execution_count": 25,
      "outputs": []
    },
    {
      "cell_type": "code",
      "metadata": {
        "colab": {
          "base_uri": "https://localhost:8080/"
        },
        "id": "MdUrEFKj7kVA",
        "outputId": "92297cd4-baae-4657-c3c9-f88393558573"
      },
      "source": [
        "len(titleid_to_title)"
      ],
      "execution_count": 26,
      "outputs": [
        {
          "output_type": "execute_result",
          "data": {
            "text/plain": [
              "1740"
            ]
          },
          "metadata": {},
          "execution_count": 26
        }
      ]
    },
    {
      "cell_type": "code",
      "metadata": {
        "id": "OvLyxrExxvew"
      },
      "source": [
        "title_to_titleid = {v: k for k, v in titleid_to_title.items()}\n"
      ],
      "execution_count": 27,
      "outputs": []
    },
    {
      "cell_type": "code",
      "metadata": {
        "id": "1H72Y3_d8uNu"
      },
      "source": [
        "titles_rows = titles.to_dict(orient='records')\n",
        "sectionid_to_section = []\n",
        "for i, row in enumerate(titles_rows):\n",
        "  name = f\"{row['title']}, section{row['section_id']} ({row['section_name']})\"\n",
        "  sectionid_to_section.append(name)\n",
        "  "
      ],
      "execution_count": 28,
      "outputs": []
    },
    {
      "cell_type": "code",
      "metadata": {
        "id": "HCeGUk818y8V"
      },
      "source": [
        "title_to_sectionid = {}\n",
        "\n",
        "for row in titles.iterrows():\n",
        "  title = row[1]['title_playlist']\n",
        "  if title not in title_to_sectionid:\n",
        "    title_to_sectionid[title] = [row[1]['id']]\n",
        "  else:\n",
        "    title_to_sectionid[title].append(row[1]['id'])"
      ],
      "execution_count": 29,
      "outputs": []
    },
    {
      "cell_type": "markdown",
      "metadata": {
        "id": "GWXGqImnoHdm"
      },
      "source": [
        "### Create Directories on Colab"
      ]
    },
    {
      "cell_type": "code",
      "metadata": {
        "id": "sDWIxDpIoJv1"
      },
      "source": [
        "!rm -R output\n",
        "!mkdir output"
      ],
      "execution_count": 30,
      "outputs": []
    },
    {
      "cell_type": "markdown",
      "metadata": {
        "id": "LvQ60s_owm82"
      },
      "source": [
        "## Initialization for wandb variables"
      ]
    },
    {
      "cell_type": "code",
      "metadata": {
        "id": "fw7FHHXfwagL"
      },
      "source": [
        "recommender_results_cols = ['reference', 'id', 'method', 'similar', 'score_div_max', 'score']\n",
        "recommender_results = pd.DataFrame(columns=recommender_results_cols)"
      ],
      "execution_count": 31,
      "outputs": []
    },
    {
      "cell_type": "code",
      "metadata": {
        "id": "PfvF20G1JZMa"
      },
      "source": [
        "lsi_config = {\n",
        "    'num_topics': 100,\n",
        "}"
      ],
      "execution_count": 32,
      "outputs": []
    },
    {
      "cell_type": "code",
      "metadata": {
        "id": "eW2f6BdAJl01"
      },
      "source": [
        "doc2vec_config = {\n",
        "    'general': {\n",
        "        'chords_preprocessing': chords_preprocessing,\n",
        "        'tag_sections_and_tunes': False,\n",
        "    },\n",
        "    'model': {\n",
        "        'dm': 1,\n",
        "        'vector_size': 100,\n",
        "        'window': 4,\n",
        "        'epochs': 40,\n",
        "        #'workers': 1,\n",
        "        'min_count': 1,\n",
        "        'negative': 10,\n",
        "        'sample': 0.001,\n",
        "        'seed': 42\n",
        "    }\n",
        "}"
      ],
      "execution_count": 33,
      "outputs": []
    },
    {
      "cell_type": "code",
      "metadata": {
        "id": "sxdJ97gdx70_",
        "colab": {
          "base_uri": "https://localhost:8080/",
          "height": 53
        },
        "outputId": "81ba4783-8a03-4fa8-c1c2-b102ee842fcb"
      },
      "source": [
        "if use_wandb:\n",
        "  wandb.init(\n",
        "        # Set entity to specify your username or team name\n",
        "        # ex: entity=\"carey\",\n",
        "        # Set the project where this run will be logged\n",
        "        project=\"jazztunes\", \n",
        "        \n",
        "        # Track hyperparameters and run metadata\n",
        "        config={\n",
        "            \"input_data\": input_path,\n",
        "            \"ngrams_input\": ngrams_for_input,\n",
        "            \"comparison\": \"sections\",\n",
        "            \"lsi\": lsi_config,\n",
        "            \"doc2vec\": doc2vec_config,\n",
        "            \"remove_repeated_chords\": remove_repetitions,\n",
        "        }\n",
        "    )"
      ],
      "execution_count": 34,
      "outputs": [
        {
          "output_type": "stream",
          "name": "stderr",
          "text": [
            "\u001b[34m\u001b[1mwandb\u001b[0m: Currently logged in as: \u001b[33mdoris\u001b[0m (use `wandb login --relogin` to force relogin)\n"
          ]
        },
        {
          "output_type": "display_data",
          "data": {
            "text/html": [
              "\n",
              "                    Syncing run <strong><a href=\"https://wandb.ai/doris/jazztunes/runs/1g9t5qfm\" target=\"_blank\">fragrant-galaxy-11</a></strong> to <a href=\"https://wandb.ai/doris/jazztunes\" target=\"_blank\">Weights & Biases</a> (<a href=\"https://docs.wandb.com/integrations/jupyter.html\" target=\"_blank\">docs</a>).<br/>\n",
              "\n",
              "                "
            ],
            "text/plain": [
              "<IPython.core.display.HTML object>"
            ]
          },
          "metadata": {}
        }
      ]
    },
    {
      "cell_type": "code",
      "metadata": {
        "id": "xHOY4TKYVN-g"
      },
      "source": [
        "if use_wandb:\n",
        "  artifact = wandb.Artifact('input_data', type='dataset')\n",
        "  artifact.add_file('data.csv')\n",
        "  wandb.log_artifact(artifact)"
      ],
      "execution_count": 35,
      "outputs": []
    },
    {
      "cell_type": "markdown",
      "metadata": {
        "id": "wox-dMcz84Bt"
      },
      "source": [
        "## Helpers functions"
      ]
    },
    {
      "cell_type": "code",
      "metadata": {
        "id": "2964REdr80Gd"
      },
      "source": [
        "def ngrams(tokens, n=2, sep='-'):\n",
        "    return [sep.join(ngram) for ngram in zip(*[tokens[i:] for i in range(n)])]"
      ],
      "execution_count": 36,
      "outputs": []
    },
    {
      "cell_type": "code",
      "metadata": {
        "id": "W42rugQPNYVP"
      },
      "source": [
        "def raw_chords_to_df(tunes):\n",
        "  tunes_chords = [item for tune in tunes for item in tune]\n",
        "  counts = Counter(tunes_chords)\n",
        "  df = pd.DataFrame(counts.items(),\n",
        "                    columns=['chord', 'count']).sort_values(by='count', ascending=False)\n",
        "\n",
        "  return df"
      ],
      "execution_count": 37,
      "outputs": []
    },
    {
      "cell_type": "markdown",
      "metadata": {
        "id": "umfsNtAdF0jM"
      },
      "source": [
        "# Data Preparation"
      ]
    },
    {
      "cell_type": "code",
      "metadata": {
        "id": "FeRqVmphCS6m"
      },
      "source": [
        "def remove_chord_repetitions(chords):\n",
        "  previous = ''\n",
        "  chords_norep = []\n",
        "  for c in chords:\n",
        "    if c != previous:\n",
        "      chords_norep.append(c)\n",
        "      previous = c\n",
        "  return chords_norep\n",
        "  "
      ],
      "execution_count": 38,
      "outputs": []
    },
    {
      "cell_type": "code",
      "metadata": {
        "id": "dCLwnqoVGcMw"
      },
      "source": [
        "lines = df.loc[:, 'chords'].tolist()\n",
        "data = [line.split(' ') for line in lines]"
      ],
      "execution_count": 39,
      "outputs": []
    },
    {
      "cell_type": "code",
      "metadata": {
        "colab": {
          "base_uri": "https://localhost:8080/"
        },
        "id": "g7SmApW9F3K6",
        "outputId": "481c9bff-f08c-47c7-bb7e-0d3090fe2204"
      },
      "source": [
        "processed_corpus = []\n",
        "for line in data:\n",
        "  tune_n = []\n",
        "  if remove_repetitions:\n",
        "    line = remove_chord_repetitions(line)\n",
        "  for n in ngrams_for_input:\n",
        "    tune_n.extend(ngrams(line, n=n))\n",
        "  processed_corpus.append(tune_n)\n",
        "\n",
        "for line in processed_corpus[:10]:\n",
        "  print(line)"
      ],
      "execution_count": 40,
      "outputs": [
        {
          "output_type": "stream",
          "name": "stdout",
          "text": [
            "['C', 'Eb7', 'G#', 'B7', 'E', 'G7', 'Gm', 'C7', 'F', 'G#7', 'C#', 'E7', 'Am', 'D7', 'Dm', 'G7']\n",
            "['C', 'Eb7', 'G#', 'B7', 'E', 'G7', 'Gm', 'C7', 'F', 'Eb7', 'G#', 'B7', 'E', 'G7', 'C']\n",
            "['Gm', 'C7', 'Bm', 'E7', 'A', 'C7', 'F', 'Bbm', 'Eb7', 'G#', 'Dm', 'G7']\n",
            "['C', 'Eb7', 'G#', 'B7', 'E', 'G7', 'Gm', 'C7', 'F', 'Eb7', 'G#', 'B7', 'E', 'G7', 'C']\n",
            "['Am', 'Am', 'Cm', 'Cm', 'Eb', 'Eb', 'Em7b5', 'A7', 'Dm', 'Dm', 'Bm7b5', 'Bm7b5', 'Bbm', 'Bbm', 'Fm', 'Fm', 'E7', 'E7', 'Fm', 'Fm', 'C#', 'C#', 'Fm', 'Fm', 'C#', 'C#']\n",
            "['Am', 'C#', 'Bm7b5', 'E7', 'Am', 'C#', 'Bm7b5', 'E7', 'Cm', 'F7', 'Bb', 'G#m', 'C#7', 'F#m7b5', 'B7', 'E', 'E', 'E7', 'Am', 'C#', 'Bm7b5', 'E7', 'Am', 'C#', 'Bm7b5', 'E7', 'Cm', 'F7', 'Bb', 'G#m', 'C#7', 'F#m7b5', 'B7', 'Em', 'Em']\n",
            "['C', 'Am', 'Dm', 'G7', 'C', 'Am', 'Dm', 'G7', 'C', 'Am', 'Dm', 'G7', 'C', 'G7', 'C']\n",
            "['C', 'Am', 'Dm', 'G7', 'C', 'Am', 'Dm', 'G7', 'C', 'Am', 'Dm', 'G7', 'C', 'G7', 'C']\n",
            "['C7', 'C7', 'F', 'F', 'D7', 'D7', 'G7', 'G7']\n",
            "['C', 'Am', 'Dm', 'G7', 'C', 'Am', 'Dm', 'G7', 'C', 'Am', 'Dm', 'G7', 'C', 'G7', 'C']\n"
          ]
        }
      ]
    },
    {
      "cell_type": "markdown",
      "metadata": {
        "id": "Sri0K2DhNagp"
      },
      "source": [
        "#### Corpus Overview"
      ]
    },
    {
      "cell_type": "code",
      "metadata": {
        "colab": {
          "base_uri": "https://localhost:8080/"
        },
        "id": "X2ZqA7IF4ufg",
        "outputId": "e98e3f16-cd61-4083-ea0c-bafc97177c26"
      },
      "source": [
        "tokens = [item for l in processed_corpus for item in l]\n",
        "total_tokens = len(tokens)\n",
        "vocab_size = len(set(tokens))\n",
        "vocab_prop = 100*vocab_size/total_tokens\n",
        "\n",
        "print(f\"Total Number of tokens: {total_tokens}\")\n",
        "print(f\"Size of vocabulary: {vocab_size}\")\n",
        "print(f\"Proportion of vocabulary in corpus: {vocab_prop:.02f}%\")"
      ],
      "execution_count": 41,
      "outputs": [
        {
          "output_type": "stream",
          "name": "stdout",
          "text": [
            "Total Number of tokens: 79498\n",
            "Size of vocabulary: 72\n",
            "Proportion of vocabulary in corpus: 0.09%\n"
          ]
        }
      ]
    },
    {
      "cell_type": "code",
      "metadata": {
        "colab": {
          "base_uri": "https://localhost:8080/",
          "height": 1000
        },
        "id": "rULq3jYVNh_x",
        "outputId": "c08f892f-d5bd-4f9f-8fbe-24ca684dc91f"
      },
      "source": [
        "df_chords = raw_chords_to_df(processed_corpus)\n",
        "df_chords"
      ],
      "execution_count": 42,
      "outputs": [
        {
          "output_type": "execute_result",
          "data": {
            "text/html": [
              "<div>\n",
              "<style scoped>\n",
              "    .dataframe tbody tr th:only-of-type {\n",
              "        vertical-align: middle;\n",
              "    }\n",
              "\n",
              "    .dataframe tbody tr th {\n",
              "        vertical-align: top;\n",
              "    }\n",
              "\n",
              "    .dataframe thead th {\n",
              "        text-align: right;\n",
              "    }\n",
              "</style>\n",
              "<table border=\"1\" class=\"dataframe\">\n",
              "  <thead>\n",
              "    <tr style=\"text-align: right;\">\n",
              "      <th></th>\n",
              "      <th>chord</th>\n",
              "      <th>count</th>\n",
              "    </tr>\n",
              "  </thead>\n",
              "  <tbody>\n",
              "    <tr>\n",
              "      <th>0</th>\n",
              "      <td>C</td>\n",
              "      <td>13657</td>\n",
              "    </tr>\n",
              "    <tr>\n",
              "      <th>5</th>\n",
              "      <td>G7</td>\n",
              "      <td>10649</td>\n",
              "    </tr>\n",
              "    <tr>\n",
              "      <th>14</th>\n",
              "      <td>Dm</td>\n",
              "      <td>7667</td>\n",
              "    </tr>\n",
              "    <tr>\n",
              "      <th>12</th>\n",
              "      <td>Am</td>\n",
              "      <td>5577</td>\n",
              "    </tr>\n",
              "    <tr>\n",
              "      <th>21</th>\n",
              "      <td>A7</td>\n",
              "      <td>4290</td>\n",
              "    </tr>\n",
              "    <tr>\n",
              "      <th>13</th>\n",
              "      <td>D7</td>\n",
              "      <td>3810</td>\n",
              "    </tr>\n",
              "    <tr>\n",
              "      <th>8</th>\n",
              "      <td>F</td>\n",
              "      <td>3591</td>\n",
              "    </tr>\n",
              "    <tr>\n",
              "      <th>7</th>\n",
              "      <td>C7</td>\n",
              "      <td>3332</td>\n",
              "    </tr>\n",
              "    <tr>\n",
              "      <th>11</th>\n",
              "      <td>E7</td>\n",
              "      <td>3056</td>\n",
              "    </tr>\n",
              "    <tr>\n",
              "      <th>29</th>\n",
              "      <td>Em</td>\n",
              "      <td>2620</td>\n",
              "    </tr>\n",
              "    <tr>\n",
              "      <th>24</th>\n",
              "      <td>F7</td>\n",
              "      <td>1682</td>\n",
              "    </tr>\n",
              "    <tr>\n",
              "      <th>31</th>\n",
              "      <td>Bb7</td>\n",
              "      <td>1615</td>\n",
              "    </tr>\n",
              "    <tr>\n",
              "      <th>23</th>\n",
              "      <td>Fm</td>\n",
              "      <td>1557</td>\n",
              "    </tr>\n",
              "    <tr>\n",
              "      <th>3</th>\n",
              "      <td>B7</td>\n",
              "      <td>1351</td>\n",
              "    </tr>\n",
              "    <tr>\n",
              "      <th>6</th>\n",
              "      <td>Gm</td>\n",
              "      <td>1256</td>\n",
              "    </tr>\n",
              "    <tr>\n",
              "      <th>9</th>\n",
              "      <td>G#7</td>\n",
              "      <td>934</td>\n",
              "    </tr>\n",
              "    <tr>\n",
              "      <th>22</th>\n",
              "      <td>Bm7b5</td>\n",
              "      <td>913</td>\n",
              "    </tr>\n",
              "    <tr>\n",
              "      <th>46</th>\n",
              "      <td>G</td>\n",
              "      <td>843</td>\n",
              "    </tr>\n",
              "    <tr>\n",
              "      <th>39</th>\n",
              "      <td>Ebdim</td>\n",
              "      <td>650</td>\n",
              "    </tr>\n",
              "    <tr>\n",
              "      <th>1</th>\n",
              "      <td>Eb7</td>\n",
              "      <td>610</td>\n",
              "    </tr>\n",
              "    <tr>\n",
              "      <th>18</th>\n",
              "      <td>Cm</td>\n",
              "      <td>603</td>\n",
              "    </tr>\n",
              "    <tr>\n",
              "      <th>28</th>\n",
              "      <td>F#m7b5</td>\n",
              "      <td>552</td>\n",
              "    </tr>\n",
              "    <tr>\n",
              "      <th>15</th>\n",
              "      <td>Bm</td>\n",
              "      <td>511</td>\n",
              "    </tr>\n",
              "    <tr>\n",
              "      <th>2</th>\n",
              "      <td>G#</td>\n",
              "      <td>506</td>\n",
              "    </tr>\n",
              "    <tr>\n",
              "      <th>27</th>\n",
              "      <td>C#7</td>\n",
              "      <td>492</td>\n",
              "    </tr>\n",
              "    <tr>\n",
              "      <th>25</th>\n",
              "      <td>Bb</td>\n",
              "      <td>482</td>\n",
              "    </tr>\n",
              "    <tr>\n",
              "      <th>20</th>\n",
              "      <td>Em7b5</td>\n",
              "      <td>476</td>\n",
              "    </tr>\n",
              "    <tr>\n",
              "      <th>4</th>\n",
              "      <td>E</td>\n",
              "      <td>452</td>\n",
              "    </tr>\n",
              "    <tr>\n",
              "      <th>37</th>\n",
              "      <td>F#m</td>\n",
              "      <td>449</td>\n",
              "    </tr>\n",
              "    <tr>\n",
              "      <th>34</th>\n",
              "      <td>F#7</td>\n",
              "      <td>429</td>\n",
              "    </tr>\n",
              "    <tr>\n",
              "      <th>19</th>\n",
              "      <td>Eb</td>\n",
              "      <td>399</td>\n",
              "    </tr>\n",
              "    <tr>\n",
              "      <th>32</th>\n",
              "      <td>F#dim</td>\n",
              "      <td>380</td>\n",
              "    </tr>\n",
              "    <tr>\n",
              "      <th>45</th>\n",
              "      <td>C#dim</td>\n",
              "      <td>371</td>\n",
              "    </tr>\n",
              "    <tr>\n",
              "      <th>30</th>\n",
              "      <td>Ebm</td>\n",
              "      <td>348</td>\n",
              "    </tr>\n",
              "    <tr>\n",
              "      <th>10</th>\n",
              "      <td>C#</td>\n",
              "      <td>339</td>\n",
              "    </tr>\n",
              "    <tr>\n",
              "      <th>16</th>\n",
              "      <td>A</td>\n",
              "      <td>324</td>\n",
              "    </tr>\n",
              "    <tr>\n",
              "      <th>50</th>\n",
              "      <td>Dm7b5</td>\n",
              "      <td>314</td>\n",
              "    </tr>\n",
              "    <tr>\n",
              "      <th>17</th>\n",
              "      <td>Bbm</td>\n",
              "      <td>298</td>\n",
              "    </tr>\n",
              "    <tr>\n",
              "      <th>40</th>\n",
              "      <td>D</td>\n",
              "      <td>290</td>\n",
              "    </tr>\n",
              "    <tr>\n",
              "      <th>33</th>\n",
              "      <td>C#m</td>\n",
              "      <td>240</td>\n",
              "    </tr>\n",
              "    <tr>\n",
              "      <th>54</th>\n",
              "      <td>Cdim</td>\n",
              "      <td>200</td>\n",
              "    </tr>\n",
              "    <tr>\n",
              "      <th>26</th>\n",
              "      <td>G#m</td>\n",
              "      <td>156</td>\n",
              "    </tr>\n",
              "    <tr>\n",
              "      <th>35</th>\n",
              "      <td>B</td>\n",
              "      <td>151</td>\n",
              "    </tr>\n",
              "    <tr>\n",
              "      <th>53</th>\n",
              "      <td>F#</td>\n",
              "      <td>144</td>\n",
              "    </tr>\n",
              "    <tr>\n",
              "      <th>41</th>\n",
              "      <td>G#dim</td>\n",
              "      <td>89</td>\n",
              "    </tr>\n",
              "    <tr>\n",
              "      <th>48</th>\n",
              "      <td>Am7b5</td>\n",
              "      <td>82</td>\n",
              "    </tr>\n",
              "    <tr>\n",
              "      <th>38</th>\n",
              "      <td>Fdim</td>\n",
              "      <td>60</td>\n",
              "    </tr>\n",
              "    <tr>\n",
              "      <th>52</th>\n",
              "      <td>Gdim</td>\n",
              "      <td>60</td>\n",
              "    </tr>\n",
              "    <tr>\n",
              "      <th>64</th>\n",
              "      <td>G7(+b5)</td>\n",
              "      <td>56</td>\n",
              "    </tr>\n",
              "    <tr>\n",
              "      <th>57</th>\n",
              "      <td>C#m7b5</td>\n",
              "      <td>51</td>\n",
              "    </tr>\n",
              "    <tr>\n",
              "      <th>47</th>\n",
              "      <td>E7(+b5)</td>\n",
              "      <td>46</td>\n",
              "    </tr>\n",
              "    <tr>\n",
              "      <th>42</th>\n",
              "      <td>Adim</td>\n",
              "      <td>44</td>\n",
              "    </tr>\n",
              "    <tr>\n",
              "      <th>60</th>\n",
              "      <td>F#7(+b5)</td>\n",
              "      <td>40</td>\n",
              "    </tr>\n",
              "    <tr>\n",
              "      <th>36</th>\n",
              "      <td>Gm7b5</td>\n",
              "      <td>40</td>\n",
              "    </tr>\n",
              "    <tr>\n",
              "      <th>51</th>\n",
              "      <td>A7(+b5)</td>\n",
              "      <td>37</td>\n",
              "    </tr>\n",
              "    <tr>\n",
              "      <th>49</th>\n",
              "      <td>Edim</td>\n",
              "      <td>36</td>\n",
              "    </tr>\n",
              "    <tr>\n",
              "      <th>68</th>\n",
              "      <td>B7(+b5)</td>\n",
              "      <td>36</td>\n",
              "    </tr>\n",
              "    <tr>\n",
              "      <th>58</th>\n",
              "      <td>G#m7b5</td>\n",
              "      <td>34</td>\n",
              "    </tr>\n",
              "    <tr>\n",
              "      <th>61</th>\n",
              "      <td>Bb7(+b5)</td>\n",
              "      <td>27</td>\n",
              "    </tr>\n",
              "    <tr>\n",
              "      <th>67</th>\n",
              "      <td>C#7(+b5)</td>\n",
              "      <td>27</td>\n",
              "    </tr>\n",
              "    <tr>\n",
              "      <th>56</th>\n",
              "      <td>Fm7b5</td>\n",
              "      <td>23</td>\n",
              "    </tr>\n",
              "    <tr>\n",
              "      <th>59</th>\n",
              "      <td>D7(+b5)</td>\n",
              "      <td>20</td>\n",
              "    </tr>\n",
              "    <tr>\n",
              "      <th>43</th>\n",
              "      <td>Bbdim</td>\n",
              "      <td>18</td>\n",
              "    </tr>\n",
              "    <tr>\n",
              "      <th>55</th>\n",
              "      <td>Bbm7b5</td>\n",
              "      <td>16</td>\n",
              "    </tr>\n",
              "    <tr>\n",
              "      <th>63</th>\n",
              "      <td>C7(+b5)</td>\n",
              "      <td>15</td>\n",
              "    </tr>\n",
              "    <tr>\n",
              "      <th>66</th>\n",
              "      <td>Ebm7b5</td>\n",
              "      <td>13</td>\n",
              "    </tr>\n",
              "    <tr>\n",
              "      <th>62</th>\n",
              "      <td>Ddim</td>\n",
              "      <td>13</td>\n",
              "    </tr>\n",
              "    <tr>\n",
              "      <th>44</th>\n",
              "      <td>Bdim</td>\n",
              "      <td>13</td>\n",
              "    </tr>\n",
              "    <tr>\n",
              "      <th>70</th>\n",
              "      <td>G#7(+b5)</td>\n",
              "      <td>12</td>\n",
              "    </tr>\n",
              "    <tr>\n",
              "      <th>65</th>\n",
              "      <td>F7(+b5)</td>\n",
              "      <td>9</td>\n",
              "    </tr>\n",
              "    <tr>\n",
              "      <th>69</th>\n",
              "      <td>Cm7b5</td>\n",
              "      <td>9</td>\n",
              "    </tr>\n",
              "    <tr>\n",
              "      <th>71</th>\n",
              "      <td>Eb7(+b5)</td>\n",
              "      <td>6</td>\n",
              "    </tr>\n",
              "  </tbody>\n",
              "</table>\n",
              "</div>"
            ],
            "text/plain": [
              "       chord  count\n",
              "0          C  13657\n",
              "5         G7  10649\n",
              "14        Dm   7667\n",
              "12        Am   5577\n",
              "21        A7   4290\n",
              "13        D7   3810\n",
              "8          F   3591\n",
              "7         C7   3332\n",
              "11        E7   3056\n",
              "29        Em   2620\n",
              "24        F7   1682\n",
              "31       Bb7   1615\n",
              "23        Fm   1557\n",
              "3         B7   1351\n",
              "6         Gm   1256\n",
              "9        G#7    934\n",
              "22     Bm7b5    913\n",
              "46         G    843\n",
              "39     Ebdim    650\n",
              "1        Eb7    610\n",
              "18        Cm    603\n",
              "28    F#m7b5    552\n",
              "15        Bm    511\n",
              "2         G#    506\n",
              "27       C#7    492\n",
              "25        Bb    482\n",
              "20     Em7b5    476\n",
              "4          E    452\n",
              "37       F#m    449\n",
              "34       F#7    429\n",
              "19        Eb    399\n",
              "32     F#dim    380\n",
              "45     C#dim    371\n",
              "30       Ebm    348\n",
              "10        C#    339\n",
              "16         A    324\n",
              "50     Dm7b5    314\n",
              "17       Bbm    298\n",
              "40         D    290\n",
              "33       C#m    240\n",
              "54      Cdim    200\n",
              "26       G#m    156\n",
              "35         B    151\n",
              "53        F#    144\n",
              "41     G#dim     89\n",
              "48     Am7b5     82\n",
              "38      Fdim     60\n",
              "52      Gdim     60\n",
              "64   G7(+b5)     56\n",
              "57    C#m7b5     51\n",
              "47   E7(+b5)     46\n",
              "42      Adim     44\n",
              "60  F#7(+b5)     40\n",
              "36     Gm7b5     40\n",
              "51   A7(+b5)     37\n",
              "49      Edim     36\n",
              "68   B7(+b5)     36\n",
              "58    G#m7b5     34\n",
              "61  Bb7(+b5)     27\n",
              "67  C#7(+b5)     27\n",
              "56     Fm7b5     23\n",
              "59   D7(+b5)     20\n",
              "43     Bbdim     18\n",
              "55    Bbm7b5     16\n",
              "63   C7(+b5)     15\n",
              "66    Ebm7b5     13\n",
              "62      Ddim     13\n",
              "44      Bdim     13\n",
              "70  G#7(+b5)     12\n",
              "65   F7(+b5)      9\n",
              "69     Cm7b5      9\n",
              "71  Eb7(+b5)      6"
            ]
          },
          "metadata": {},
          "execution_count": 42
        }
      ]
    },
    {
      "cell_type": "code",
      "metadata": {
        "colab": {
          "base_uri": "https://localhost:8080/",
          "height": 560
        },
        "id": "G9fknTouNmKm",
        "outputId": "5bdaa490-a42a-4b1c-8f09-2adbd0862312"
      },
      "source": [
        "df_chords = pd.DataFrame.from_dict(df_chords)\n",
        "df_chords.sort_values(by=['count'], ascending=False, inplace=True)\n",
        "df_chords_top = df_chords.query('count > 100')\n",
        "\n",
        "fig = px.bar(df_chords_top, x='chord', y='count', log_y=True)\n",
        "fig.update_layout(barmode='stack', xaxis={'categoryorder':'total descending'})\n",
        "fig.show()"
      ],
      "execution_count": 43,
      "outputs": [
        {
          "output_type": "stream",
          "name": "stderr",
          "text": [
            "2021-11-28 19:08:38,029 : INFO : NumExpr defaulting to 2 threads.\n"
          ]
        },
        {
          "output_type": "display_data",
          "data": {
            "text/html": [
              "<html>\n",
              "<head><meta charset=\"utf-8\" /></head>\n",
              "<body>\n",
              "    <div>\n",
              "            <script src=\"https://cdnjs.cloudflare.com/ajax/libs/mathjax/2.7.5/MathJax.js?config=TeX-AMS-MML_SVG\"></script><script type=\"text/javascript\">if (window.MathJax) {MathJax.Hub.Config({SVG: {font: \"STIX-Web\"}});}</script>\n",
              "                <script type=\"text/javascript\">window.PlotlyConfig = {MathJaxConfig: 'local'};</script>\n",
              "        <script src=\"https://cdn.plot.ly/plotly-latest.min.js\"></script>    \n",
              "            <div id=\"03084632-37e2-4eab-bb79-371fdb4b1e80\" class=\"plotly-graph-div\" style=\"height:525px; width:100%;\"></div>\n",
              "            <script type=\"text/javascript\">\n",
              "                \n",
              "                    window.PLOTLYENV=window.PLOTLYENV || {};\n",
              "                    \n",
              "                if (document.getElementById(\"03084632-37e2-4eab-bb79-371fdb4b1e80\")) {\n",
              "                    Plotly.newPlot(\n",
              "                        '03084632-37e2-4eab-bb79-371fdb4b1e80',\n",
              "                        [{\"alignmentgroup\": \"True\", \"hoverlabel\": {\"namelength\": 0}, \"hovertemplate\": \"chord=%{x}<br>count=%{y}\", \"legendgroup\": \"\", \"marker\": {\"color\": \"#636efa\"}, \"name\": \"\", \"offsetgroup\": \"\", \"orientation\": \"v\", \"showlegend\": false, \"textposition\": \"auto\", \"type\": \"bar\", \"x\": [\"C\", \"G7\", \"Dm\", \"Am\", \"A7\", \"D7\", \"F\", \"C7\", \"E7\", \"Em\", \"F7\", \"Bb7\", \"Fm\", \"B7\", \"Gm\", \"G#7\", \"Bm7b5\", \"G\", \"Ebdim\", \"Eb7\", \"Cm\", \"F#m7b5\", \"Bm\", \"G#\", \"C#7\", \"Bb\", \"Em7b5\", \"E\", \"F#m\", \"F#7\", \"Eb\", \"F#dim\", \"C#dim\", \"Ebm\", \"C#\", \"A\", \"Dm7b5\", \"Bbm\", \"D\", \"C#m\", \"Cdim\", \"G#m\", \"B\", \"F#\"], \"xaxis\": \"x\", \"y\": [13657, 10649, 7667, 5577, 4290, 3810, 3591, 3332, 3056, 2620, 1682, 1615, 1557, 1351, 1256, 934, 913, 843, 650, 610, 603, 552, 511, 506, 492, 482, 476, 452, 449, 429, 399, 380, 371, 348, 339, 324, 314, 298, 290, 240, 200, 156, 151, 144], \"yaxis\": \"y\"}],\n",
              "                        {\"barmode\": \"stack\", \"legend\": {\"tracegroupgap\": 0}, \"margin\": {\"t\": 60}, \"template\": {\"data\": {\"bar\": [{\"error_x\": {\"color\": \"#2a3f5f\"}, \"error_y\": {\"color\": \"#2a3f5f\"}, \"marker\": {\"line\": {\"color\": \"#E5ECF6\", \"width\": 0.5}}, \"type\": \"bar\"}], \"barpolar\": [{\"marker\": {\"line\": {\"color\": \"#E5ECF6\", \"width\": 0.5}}, \"type\": \"barpolar\"}], \"carpet\": [{\"aaxis\": {\"endlinecolor\": \"#2a3f5f\", \"gridcolor\": \"white\", \"linecolor\": \"white\", \"minorgridcolor\": \"white\", \"startlinecolor\": \"#2a3f5f\"}, \"baxis\": {\"endlinecolor\": \"#2a3f5f\", \"gridcolor\": \"white\", \"linecolor\": \"white\", \"minorgridcolor\": \"white\", \"startlinecolor\": \"#2a3f5f\"}, \"type\": \"carpet\"}], \"choropleth\": [{\"colorbar\": {\"outlinewidth\": 0, \"ticks\": \"\"}, \"type\": \"choropleth\"}], \"contour\": [{\"colorbar\": {\"outlinewidth\": 0, \"ticks\": \"\"}, \"colorscale\": [[0.0, \"#0d0887\"], [0.1111111111111111, \"#46039f\"], [0.2222222222222222, \"#7201a8\"], [0.3333333333333333, \"#9c179e\"], [0.4444444444444444, \"#bd3786\"], [0.5555555555555556, \"#d8576b\"], [0.6666666666666666, \"#ed7953\"], [0.7777777777777778, \"#fb9f3a\"], [0.8888888888888888, \"#fdca26\"], [1.0, \"#f0f921\"]], \"type\": \"contour\"}], \"contourcarpet\": [{\"colorbar\": {\"outlinewidth\": 0, \"ticks\": \"\"}, \"type\": \"contourcarpet\"}], \"heatmap\": [{\"colorbar\": {\"outlinewidth\": 0, \"ticks\": \"\"}, \"colorscale\": [[0.0, \"#0d0887\"], [0.1111111111111111, \"#46039f\"], [0.2222222222222222, \"#7201a8\"], [0.3333333333333333, \"#9c179e\"], [0.4444444444444444, \"#bd3786\"], [0.5555555555555556, \"#d8576b\"], [0.6666666666666666, \"#ed7953\"], [0.7777777777777778, \"#fb9f3a\"], [0.8888888888888888, \"#fdca26\"], [1.0, \"#f0f921\"]], \"type\": \"heatmap\"}], \"heatmapgl\": [{\"colorbar\": {\"outlinewidth\": 0, \"ticks\": \"\"}, \"colorscale\": [[0.0, \"#0d0887\"], [0.1111111111111111, \"#46039f\"], [0.2222222222222222, \"#7201a8\"], [0.3333333333333333, \"#9c179e\"], [0.4444444444444444, \"#bd3786\"], [0.5555555555555556, \"#d8576b\"], [0.6666666666666666, \"#ed7953\"], [0.7777777777777778, \"#fb9f3a\"], [0.8888888888888888, \"#fdca26\"], [1.0, \"#f0f921\"]], \"type\": \"heatmapgl\"}], \"histogram\": [{\"marker\": {\"colorbar\": {\"outlinewidth\": 0, \"ticks\": \"\"}}, \"type\": \"histogram\"}], \"histogram2d\": [{\"colorbar\": {\"outlinewidth\": 0, \"ticks\": \"\"}, \"colorscale\": [[0.0, \"#0d0887\"], [0.1111111111111111, \"#46039f\"], [0.2222222222222222, \"#7201a8\"], [0.3333333333333333, \"#9c179e\"], [0.4444444444444444, \"#bd3786\"], [0.5555555555555556, \"#d8576b\"], [0.6666666666666666, \"#ed7953\"], [0.7777777777777778, \"#fb9f3a\"], [0.8888888888888888, \"#fdca26\"], [1.0, \"#f0f921\"]], \"type\": \"histogram2d\"}], \"histogram2dcontour\": [{\"colorbar\": {\"outlinewidth\": 0, \"ticks\": \"\"}, \"colorscale\": [[0.0, \"#0d0887\"], [0.1111111111111111, \"#46039f\"], [0.2222222222222222, \"#7201a8\"], [0.3333333333333333, \"#9c179e\"], [0.4444444444444444, \"#bd3786\"], [0.5555555555555556, \"#d8576b\"], [0.6666666666666666, \"#ed7953\"], [0.7777777777777778, \"#fb9f3a\"], [0.8888888888888888, \"#fdca26\"], [1.0, \"#f0f921\"]], \"type\": \"histogram2dcontour\"}], \"mesh3d\": [{\"colorbar\": {\"outlinewidth\": 0, \"ticks\": \"\"}, \"type\": \"mesh3d\"}], \"parcoords\": [{\"line\": {\"colorbar\": {\"outlinewidth\": 0, \"ticks\": \"\"}}, \"type\": \"parcoords\"}], \"pie\": [{\"automargin\": true, \"type\": \"pie\"}], \"scatter\": [{\"marker\": {\"colorbar\": {\"outlinewidth\": 0, \"ticks\": \"\"}}, \"type\": \"scatter\"}], \"scatter3d\": [{\"line\": {\"colorbar\": {\"outlinewidth\": 0, \"ticks\": \"\"}}, \"marker\": {\"colorbar\": {\"outlinewidth\": 0, \"ticks\": \"\"}}, \"type\": \"scatter3d\"}], \"scattercarpet\": [{\"marker\": {\"colorbar\": {\"outlinewidth\": 0, \"ticks\": \"\"}}, \"type\": \"scattercarpet\"}], \"scattergeo\": [{\"marker\": {\"colorbar\": {\"outlinewidth\": 0, \"ticks\": \"\"}}, \"type\": \"scattergeo\"}], \"scattergl\": [{\"marker\": {\"colorbar\": {\"outlinewidth\": 0, \"ticks\": \"\"}}, \"type\": \"scattergl\"}], \"scattermapbox\": [{\"marker\": {\"colorbar\": {\"outlinewidth\": 0, \"ticks\": \"\"}}, \"type\": \"scattermapbox\"}], \"scatterpolar\": [{\"marker\": {\"colorbar\": {\"outlinewidth\": 0, \"ticks\": \"\"}}, \"type\": \"scatterpolar\"}], \"scatterpolargl\": [{\"marker\": {\"colorbar\": {\"outlinewidth\": 0, \"ticks\": \"\"}}, \"type\": \"scatterpolargl\"}], \"scatterternary\": [{\"marker\": {\"colorbar\": {\"outlinewidth\": 0, \"ticks\": \"\"}}, \"type\": \"scatterternary\"}], \"surface\": [{\"colorbar\": {\"outlinewidth\": 0, \"ticks\": \"\"}, \"colorscale\": [[0.0, \"#0d0887\"], [0.1111111111111111, \"#46039f\"], [0.2222222222222222, \"#7201a8\"], [0.3333333333333333, \"#9c179e\"], [0.4444444444444444, \"#bd3786\"], [0.5555555555555556, \"#d8576b\"], [0.6666666666666666, \"#ed7953\"], [0.7777777777777778, \"#fb9f3a\"], [0.8888888888888888, \"#fdca26\"], [1.0, \"#f0f921\"]], \"type\": \"surface\"}], \"table\": [{\"cells\": {\"fill\": {\"color\": \"#EBF0F8\"}, \"line\": {\"color\": \"white\"}}, \"header\": {\"fill\": {\"color\": \"#C8D4E3\"}, \"line\": {\"color\": \"white\"}}, \"type\": \"table\"}]}, \"layout\": {\"annotationdefaults\": {\"arrowcolor\": \"#2a3f5f\", \"arrowhead\": 0, \"arrowwidth\": 1}, \"coloraxis\": {\"colorbar\": {\"outlinewidth\": 0, \"ticks\": \"\"}}, \"colorscale\": {\"diverging\": [[0, \"#8e0152\"], [0.1, \"#c51b7d\"], [0.2, \"#de77ae\"], [0.3, \"#f1b6da\"], [0.4, \"#fde0ef\"], [0.5, \"#f7f7f7\"], [0.6, \"#e6f5d0\"], [0.7, \"#b8e186\"], [0.8, \"#7fbc41\"], [0.9, \"#4d9221\"], [1, \"#276419\"]], \"sequential\": [[0.0, \"#0d0887\"], [0.1111111111111111, \"#46039f\"], [0.2222222222222222, \"#7201a8\"], [0.3333333333333333, \"#9c179e\"], [0.4444444444444444, \"#bd3786\"], [0.5555555555555556, \"#d8576b\"], [0.6666666666666666, \"#ed7953\"], [0.7777777777777778, \"#fb9f3a\"], [0.8888888888888888, \"#fdca26\"], [1.0, \"#f0f921\"]], \"sequentialminus\": [[0.0, \"#0d0887\"], [0.1111111111111111, \"#46039f\"], [0.2222222222222222, \"#7201a8\"], [0.3333333333333333, \"#9c179e\"], [0.4444444444444444, \"#bd3786\"], [0.5555555555555556, \"#d8576b\"], [0.6666666666666666, \"#ed7953\"], [0.7777777777777778, \"#fb9f3a\"], [0.8888888888888888, \"#fdca26\"], [1.0, \"#f0f921\"]]}, \"colorway\": [\"#636efa\", \"#EF553B\", \"#00cc96\", \"#ab63fa\", \"#FFA15A\", \"#19d3f3\", \"#FF6692\", \"#B6E880\", \"#FF97FF\", \"#FECB52\"], \"font\": {\"color\": \"#2a3f5f\"}, \"geo\": {\"bgcolor\": \"white\", \"lakecolor\": \"white\", \"landcolor\": \"#E5ECF6\", \"showlakes\": true, \"showland\": true, \"subunitcolor\": \"white\"}, \"hoverlabel\": {\"align\": \"left\"}, \"hovermode\": \"closest\", \"mapbox\": {\"style\": \"light\"}, \"paper_bgcolor\": \"white\", \"plot_bgcolor\": \"#E5ECF6\", \"polar\": {\"angularaxis\": {\"gridcolor\": \"white\", \"linecolor\": \"white\", \"ticks\": \"\"}, \"bgcolor\": \"#E5ECF6\", \"radialaxis\": {\"gridcolor\": \"white\", \"linecolor\": \"white\", \"ticks\": \"\"}}, \"scene\": {\"xaxis\": {\"backgroundcolor\": \"#E5ECF6\", \"gridcolor\": \"white\", \"gridwidth\": 2, \"linecolor\": \"white\", \"showbackground\": true, \"ticks\": \"\", \"zerolinecolor\": \"white\"}, \"yaxis\": {\"backgroundcolor\": \"#E5ECF6\", \"gridcolor\": \"white\", \"gridwidth\": 2, \"linecolor\": \"white\", \"showbackground\": true, \"ticks\": \"\", \"zerolinecolor\": \"white\"}, \"zaxis\": {\"backgroundcolor\": \"#E5ECF6\", \"gridcolor\": \"white\", \"gridwidth\": 2, \"linecolor\": \"white\", \"showbackground\": true, \"ticks\": \"\", \"zerolinecolor\": \"white\"}}, \"shapedefaults\": {\"line\": {\"color\": \"#2a3f5f\"}}, \"ternary\": {\"aaxis\": {\"gridcolor\": \"white\", \"linecolor\": \"white\", \"ticks\": \"\"}, \"baxis\": {\"gridcolor\": \"white\", \"linecolor\": \"white\", \"ticks\": \"\"}, \"bgcolor\": \"#E5ECF6\", \"caxis\": {\"gridcolor\": \"white\", \"linecolor\": \"white\", \"ticks\": \"\"}}, \"title\": {\"x\": 0.05}, \"xaxis\": {\"automargin\": true, \"gridcolor\": \"white\", \"linecolor\": \"white\", \"ticks\": \"\", \"title\": {\"standoff\": 15}, \"zerolinecolor\": \"white\", \"zerolinewidth\": 2}, \"yaxis\": {\"automargin\": true, \"gridcolor\": \"white\", \"linecolor\": \"white\", \"ticks\": \"\", \"title\": {\"standoff\": 15}, \"zerolinecolor\": \"white\", \"zerolinewidth\": 2}}}, \"xaxis\": {\"anchor\": \"y\", \"categoryorder\": \"total descending\", \"domain\": [0.0, 1.0], \"title\": {\"text\": \"chord\"}}, \"yaxis\": {\"anchor\": \"x\", \"domain\": [0.0, 1.0], \"title\": {\"text\": \"count\"}, \"type\": \"log\"}},\n",
              "                        {\"responsive\": true}\n",
              "                    ).then(function(){\n",
              "                            \n",
              "var gd = document.getElementById('03084632-37e2-4eab-bb79-371fdb4b1e80');\n",
              "var x = new MutationObserver(function (mutations, observer) {{\n",
              "        var display = window.getComputedStyle(gd).display;\n",
              "        if (!display || display === 'none') {{\n",
              "            console.log([gd, 'removed!']);\n",
              "            Plotly.purge(gd);\n",
              "            observer.disconnect();\n",
              "        }}\n",
              "}});\n",
              "\n",
              "// Listen for the removal of the full notebook cells\n",
              "var notebookContainer = gd.closest('#notebook-container');\n",
              "if (notebookContainer) {{\n",
              "    x.observe(notebookContainer, {childList: true});\n",
              "}}\n",
              "\n",
              "// Listen for the clearing of the current output cell\n",
              "var outputEl = gd.closest('.output');\n",
              "if (outputEl) {{\n",
              "    x.observe(outputEl, {childList: true});\n",
              "}}\n",
              "\n",
              "                        })\n",
              "                };\n",
              "                \n",
              "            </script>\n",
              "        </div>\n",
              "</body>\n",
              "</html>"
            ]
          },
          "metadata": {}
        }
      ]
    },
    {
      "cell_type": "markdown",
      "metadata": {
        "id": "cG5dtDpkWwLE"
      },
      "source": [
        "Plot Distribution accoring to Zipf's Law\n",
        "\n",
        "source: https://stats.stackexchange.com/questions/331219/characterizing-fitting-word-count-data-into-zipf-power-law-lognormal"
      ]
    },
    {
      "cell_type": "code",
      "metadata": {
        "id": "tazf9QRST5NP"
      },
      "source": [
        "from collections import Counter\n",
        "\n",
        "counter_of_words = df_chords.set_index('chord').to_dict(orient='dict')\n",
        "counter_of_words = Counter(counter_of_words['count'])\n",
        "counter_of_counts = Counter(counter_of_words.values())\n",
        "\n",
        "word_counts = np.array(list(counter_of_counts.keys()))\n",
        "freq_of_word_counts = np.array(list(counter_of_counts.values()))"
      ],
      "execution_count": 44,
      "outputs": []
    },
    {
      "cell_type": "code",
      "metadata": {
        "colab": {
          "base_uri": "https://localhost:8080/",
          "height": 295
        },
        "id": "Jc80DSe7QlkV",
        "outputId": "9d75cacf-463f-425f-f1c9-a1b8dc82e61d"
      },
      "source": [
        "plt.scatter(np.log(word_counts), np.log(freq_of_word_counts))\n",
        "plt.xlabel('Log of word frequency')\n",
        "plt.ylabel('Log of number of such words')\n",
        "plt.title('Power law for word frequencies')\n",
        "\n",
        "plt.savefig('plot.png')"
      ],
      "execution_count": 45,
      "outputs": [
        {
          "output_type": "display_data",
          "data": {
            "image/png": "[encoded data removed]",
            "text/plain": [
              "<Figure size 432x288 with 1 Axes>"
            ]
          },
          "metadata": {
            "needs_background": "light"
          }
        }
      ]
    },
    {
      "cell_type": "code",
      "metadata": {
        "colab": {
          "base_uri": "https://localhost:8080/"
        },
        "id": "TRQxnw3XXfit",
        "outputId": "aef924fa-ce1c-4c3c-b743-96c38db92fea"
      },
      "source": [
        "def neg_zipf_likelihood(s):\n",
        "    n = sum(freq_of_word_counts)\n",
        "    # for each word count, find the probability that a random word has such word count\n",
        "    probas = word_counts ** (-s) / np.sum(np.arange(1, n+1) **(-s))\n",
        "    log_likelihood = sum(np.log(probas) * word_counts)\n",
        "    return -log_likelihood\n",
        "\n",
        "from scipy.optimize import minimize_scalar\n",
        "s_best = minimize_scalar(neg_zipf_likelihood, [0.1, 3.0] )\n",
        "print(s_best.x)"
      ],
      "execution_count": 46,
      "outputs": [
        {
          "output_type": "stream",
          "name": "stdout",
          "text": [
            "-389.7308884606976\n"
          ]
        },
        {
          "output_type": "stream",
          "name": "stderr",
          "text": [
            "/usr/local/lib/python3.7/dist-packages/ipykernel_launcher.py:4: RuntimeWarning:\n",
            "\n",
            "overflow encountered in power\n",
            "\n",
            "/usr/local/lib/python3.7/dist-packages/ipykernel_launcher.py:4: RuntimeWarning:\n",
            "\n",
            "invalid value encountered in true_divide\n",
            "\n",
            "/usr/local/lib/python3.7/dist-packages/ipykernel_launcher.py:5: RuntimeWarning:\n",
            "\n",
            "divide by zero encountered in log\n",
            "\n",
            "/usr/local/lib/python3.7/dist-packages/scipy/optimize/optimize.py:1986: RuntimeWarning:\n",
            "\n",
            "invalid value encountered in double_scalars\n",
            "\n",
            "/usr/local/lib/python3.7/dist-packages/scipy/optimize/optimize.py:1987: RuntimeWarning:\n",
            "\n",
            "invalid value encountered in double_scalars\n",
            "\n"
          ]
        }
      ]
    },
    {
      "cell_type": "code",
      "metadata": {
        "id": "a1IvM4wh7zOv"
      },
      "source": [
        "if use_wandb:\n",
        "  wandb.log(\n",
        "      {\"corpus\": {\n",
        "              \"total_tokens\": total_tokens,\n",
        "              \"vocab_size\": vocab_size,\n",
        "              \"vocab_proportion_in_corpus\": vocab_prop,\n",
        "              \"zipf_plot\": wandb.Image('plot.png'),\n",
        "              }\n",
        "      }\n",
        "  )"
      ],
      "execution_count": 47,
      "outputs": []
    },
    {
      "cell_type": "markdown",
      "metadata": {
        "id": "LeRGFeTn89Uc"
      },
      "source": [
        "# TF-IDF"
      ]
    },
    {
      "cell_type": "code",
      "metadata": {
        "colab": {
          "base_uri": "https://localhost:8080/"
        },
        "id": "pBdUdBNr9Gmu",
        "outputId": "e44501b7-508b-4758-bc7f-468780cb31ae"
      },
      "source": [
        "dictionary = corpora.Dictionary(processed_corpus)\n",
        "bow_corpus = [dictionary.doc2bow(text) for text in processed_corpus]\n",
        "tfidf = TfidfModel(bow_corpus)"
      ],
      "execution_count": 48,
      "outputs": [
        {
          "output_type": "stream",
          "name": "stderr",
          "text": [
            "2021-11-28 19:08:39,167 : INFO : adding document #0 to Dictionary(0 unique tokens: [])\n",
            "2021-11-28 19:08:39,265 : INFO : built Dictionary(72 unique tokens: ['Am', 'B7', 'C', 'C#', 'C7']...) from 5199 documents (total 79498 corpus positions)\n",
            "2021-11-28 19:08:39,268 : INFO : Dictionary lifecycle event {'msg': \"built Dictionary(72 unique tokens: ['Am', 'B7', 'C', 'C#', 'C7']...) from 5199 documents (total 79498 corpus positions)\", 'datetime': '2021-11-28T19:08:39.267937', 'gensim': '4.1.2', 'python': '3.7.12 (default, Sep 10 2021, 00:21:48) \\n[GCC 7.5.0]', 'platform': 'Linux-5.4.104+-x86_64-with-Ubuntu-18.04-bionic', 'event': 'created'}\n",
            "2021-11-28 19:08:39,320 : INFO : collecting document frequencies\n",
            "2021-11-28 19:08:39,322 : INFO : PROGRESS: processing document #0\n",
            "2021-11-28 19:08:39,336 : INFO : TfidfModel lifecycle event {'msg': 'calculated IDF weights for 5199 documents and 72 features (39913 matrix non-zeros)', 'datetime': '2021-11-28T19:08:39.336531', 'gensim': '4.1.2', 'python': '3.7.12 (default, Sep 10 2021, 00:21:48) \\n[GCC 7.5.0]', 'platform': 'Linux-5.4.104+-x86_64-with-Ubuntu-18.04-bionic', 'event': 'initialize'}\n"
          ]
        }
      ]
    },
    {
      "cell_type": "code",
      "metadata": {
        "id": "9NK-cuax9Kqk"
      },
      "source": [
        "# dictionary.token2id"
      ],
      "execution_count": 49,
      "outputs": []
    },
    {
      "cell_type": "code",
      "metadata": {
        "id": "til5xlce_y1m"
      },
      "source": [
        "!rm -R index\n",
        "!mkdir index"
      ],
      "execution_count": 50,
      "outputs": []
    },
    {
      "cell_type": "code",
      "metadata": {
        "colab": {
          "base_uri": "https://localhost:8080/"
        },
        "id": "tn_fz2M090IM",
        "outputId": "eefbca5d-58ae-481f-98a1-bec861e58c1e"
      },
      "source": [
        "# Note: SparseMatrixSimilarity crashes due to lacking memory\n",
        "#from gensim.test.utils import get_tmpfile\n",
        "#index_tmpfile = get_tmpfile(\"index\")\n",
        "#index_tfidf = similarities.Similarity('/content/index/index_tfidf', bow_corpus, num_features=len(dictionary))\n",
        "\n",
        "index_tfidf = similarities.SparseMatrixSimilarity(tfidf[bow_corpus], num_features = len(dictionary))"
      ],
      "execution_count": 51,
      "outputs": [
        {
          "output_type": "stream",
          "name": "stderr",
          "text": [
            "2021-11-28 19:08:39,632 : INFO : creating sparse index\n",
            "2021-11-28 19:08:39,636 : INFO : creating sparse matrix from corpus\n",
            "2021-11-28 19:08:39,638 : INFO : PROGRESS: at document #0\n",
            "2021-11-28 19:08:40,038 : INFO : created <5199x72 sparse matrix of type '<class 'numpy.float32'>'\n",
            "\twith 39913 stored elements in Compressed Sparse Row format>\n"
          ]
        }
      ]
    },
    {
      "cell_type": "code",
      "metadata": {
        "colab": {
          "base_uri": "https://localhost:8080/"
        },
        "id": "VRSUXNPTewqv",
        "outputId": "8adb93c1-c7fa-4833-b419-1f8aa8fcfb5c"
      },
      "source": [
        "tfidf.save('/content/index/tfidf.model')  # save model\n",
        "index_tfidf.save('/content/index/tfidf.index') #save index"
      ],
      "execution_count": 52,
      "outputs": [
        {
          "output_type": "stream",
          "name": "stderr",
          "text": [
            "2021-11-28 19:08:40,051 : INFO : TfidfModel lifecycle event {'fname_or_handle': '/content/index/tfidf.model', 'separately': 'None', 'sep_limit': 10485760, 'ignore': frozenset(), 'datetime': '2021-11-28T19:08:40.051506', 'gensim': '4.1.2', 'python': '3.7.12 (default, Sep 10 2021, 00:21:48) \\n[GCC 7.5.0]', 'platform': 'Linux-5.4.104+-x86_64-with-Ubuntu-18.04-bionic', 'event': 'saving'}\n",
            "2021-11-28 19:08:40,055 : INFO : saved /content/index/tfidf.model\n",
            "2021-11-28 19:08:40,057 : INFO : SparseMatrixSimilarity lifecycle event {'fname_or_handle': '/content/index/tfidf.index', 'separately': 'None', 'sep_limit': 10485760, 'ignore': frozenset(), 'datetime': '2021-11-28T19:08:40.057822', 'gensim': '4.1.2', 'python': '3.7.12 (default, Sep 10 2021, 00:21:48) \\n[GCC 7.5.0]', 'platform': 'Linux-5.4.104+-x86_64-with-Ubuntu-18.04-bionic', 'event': 'saving'}\n",
            "2021-11-28 19:08:40,061 : INFO : saved /content/index/tfidf.index\n"
          ]
        }
      ]
    },
    {
      "cell_type": "markdown",
      "metadata": {
        "id": "ZLK0coIu9Tv5"
      },
      "source": [
        "## Tests"
      ]
    },
    {
      "cell_type": "code",
      "metadata": {
        "id": "Fzrj1qxwDpJT"
      },
      "source": [
        "def get_sim_scores(tunes, index, model):\n",
        "\n",
        "    df_sim = pd.DataFrame(columns=['reference_title',\n",
        "                                   'reference_titleid',\n",
        "                                   'similar_title',\n",
        "                                   'similar_titleid',\n",
        "                                   'ref_section', \n",
        "                                   'similar_section', \n",
        "                                   'score', \n",
        "                                  ])\n",
        "\n",
        "    for tune in tunes:\n",
        "      print()\n",
        "      print(\"-\"*50)\n",
        "      for s1 in title_to_sectionid[tune]:\n",
        "      \n",
        "          query = processed_corpus[s1]\n",
        "          query_bow = dictionary.doc2bow(query)\n",
        "\n",
        "          # perform a similarity query against the corpus\n",
        "          similarities = index[model[query_bow]]\n",
        "          sims = sorted(enumerate(similarities), key=lambda item: -item[1])\n",
        "          \n",
        "          print(s1, sectionid_to_section[s1])\n",
        "          n = 0\n",
        "          for s2, s2_score in sims:\n",
        "            \n",
        "            # store the top N best results\n",
        "            if n > 30:\n",
        "                break\n",
        "            # don't count self-similarity between sections of the same tune\n",
        "            if s2 not in title_to_sectionid[tune]:\n",
        "                n += 1\n",
        "            \n",
        "                # print(f\"\\t{s2_score:.3f} {sectionid_to_section[s2]}\")\n",
        "\n",
        "                df_sim.loc[len(df_sim)] = [tune,\n",
        "                                           title_to_titleid[tune],\n",
        "                                           sectionid_to_title[s2],\n",
        "                                           sectionid_to_titleid[s2],\n",
        "                                           sectionid_to_section[s1], \n",
        "                                           sectionid_to_section[s2], \n",
        "                                           s2_score, \n",
        "                                           ]\n",
        "    return df_sim"
      ],
      "execution_count": 53,
      "outputs": []
    },
    {
      "cell_type": "code",
      "metadata": {
        "id": "OZ0YfkIO9g5V"
      },
      "source": [
        "def recommend_tune(df, tune_name):\n",
        "\n",
        "  threshold = 0.5 # arbitrary value, selected based on distribution of max scores\n",
        "\n",
        "  df_tune = df.query(f'reference_title == \"{tune_name}\"')\n",
        "  ff = df_tune.iloc[:]\n",
        "\n",
        "  # get the maximum similarity score for each section and store in new column\n",
        "  ff['max'] = ff.groupby('ref_section')['score'].transform('max')\n",
        "\n",
        "  # consider only results for scores above threshold\n",
        "  ff = ff.loc[(ff['max'] > threshold)]\n",
        "\n",
        "  # scale the score with the maxmum value of each section\n",
        "  ff['score_div_max'] = ff['score'] / ff['max']\n",
        "\n",
        "  # for each similar title, aggregate all of its sections using the median value\n",
        "  result = ff.groupby('similar_title').median().sort_values('score_div_max', ascending=False)\n",
        "    \n",
        "  # if multiple rows from the same similar tune, keep only the similar_title with the highest score_div_max\n",
        "  result = result.groupby('similar_title').max('score_div_max').sort_values('score_div_max', ascending=False)\n",
        "\n",
        "  # add the name of the reference tune\n",
        "  result['reference'] = tune_name\n",
        "  result['reference_titleid'] = title_to_titleid[tune_name]\n",
        "\n",
        "  result = result.reset_index()\n",
        "  result = result.loc[:, ['reference', 'reference_titleid', 'similar_title', 'score', 'max', 'score_div_max']]\n",
        "  result['similar_titleid'] = result['similar_title'].apply(lambda x: title_to_titleid[x])\n",
        "  result = result.reset_index()\n",
        "  return result, ff"
      ],
      "execution_count": 54,
      "outputs": []
    },
    {
      "cell_type": "markdown",
      "metadata": {
        "id": "S4RKQCihX02Q"
      },
      "source": [
        "### Single Tunes"
      ]
    },
    {
      "cell_type": "code",
      "metadata": {
        "colab": {
          "base_uri": "https://localhost:8080/"
        },
        "id": "5Wz4ZQk_EKZy",
        "outputId": "a1b444da-ccf3-4885-dc93-832fdccfbdfd"
      },
      "source": [
        "%%time\n",
        "df_sim = get_sim_scores(tunes_eval_list, index_tfidf, tfidf)\n",
        "\n",
        "# save a copy of the results; all results will be concatenated at the end\n",
        "df_tfidf = df_sim[:]"
      ],
      "execution_count": 55,
      "outputs": [
        {
          "output_type": "stream",
          "name": "stdout",
          "text": [
            "\n",
            "--------------------------------------------------\n",
            "188 All God's Chillun Got Rhythm, section1 (A)\n",
            "189 All God's Chillun Got Rhythm, section2 (B)\n",
            "190 All God's Chillun Got Rhythm, section3 (A)\n",
            "191 All God's Chillun Got Rhythm, section4 (C)\n",
            "\n",
            "--------------------------------------------------\n",
            "198 All Of Me, section1 (A)\n",
            "199 All Of Me, section2 (B)\n",
            "200 All Of Me, section3 (A)\n",
            "201 All Of Me, section4 (C)\n",
            "\n",
            "--------------------------------------------------\n",
            "496 Blue Moon, section1 (A)\n",
            "497 Blue Moon, section2 (A)\n",
            "498 Blue Moon, section3 (B)\n",
            "499 Blue Moon, section4 (A)\n",
            "\n",
            "--------------------------------------------------\n",
            "653 Bye Bye Blackbird, section1 (A)\n",
            "654 Bye Bye Blackbird, section2 (B)\n",
            "\n",
            "--------------------------------------------------\n",
            "1220 Exactly Like You, section1 (A)\n",
            "1221 Exactly Like You, section2 (A)\n",
            "1222 Exactly Like You, section3 (B)\n",
            "1223 Exactly Like You, section4 (A)\n",
            "\n",
            "--------------------------------------------------\n",
            "1538 Honeysuckle Rose, section1 (A)\n",
            "1539 Honeysuckle Rose, section2 (A)\n",
            "1540 Honeysuckle Rose, section3 (B)\n",
            "1541 Honeysuckle Rose, section4 (A)\n",
            "\n",
            "--------------------------------------------------\n",
            "1647 I Got Rhythm, section1 (A)\n",
            "1648 I Got Rhythm, section2 (A)\n",
            "1649 I Got Rhythm, section3 (B)\n",
            "1650 I Got Rhythm, section4 (A)\n",
            "\n",
            "--------------------------------------------------\n",
            "2670 Misty, section1 (A)\n",
            "2671 Misty, section2 (A)\n",
            "2672 Misty, section3 (B)\n",
            "2673 Misty, section4 (A)\n",
            "\n",
            "--------------------------------------------------\n",
            "2857 Naima, section1 (A)\n",
            "2858 Naima, section2 (A)\n",
            "2859 Naima, section3 (B)\n",
            "2860 Naima, section4 (A)\n",
            "\n",
            "--------------------------------------------------\n",
            "4920 Old Fashioned Love, section0 (nan)\n",
            "\n",
            "--------------------------------------------------\n",
            "3006 On The Sunny Side Of The Street, section1 (A)\n",
            "3007 On The Sunny Side Of The Street, section2 (A)\n",
            "3008 On The Sunny Side Of The Street, section3 (B)\n",
            "3009 On The Sunny Side Of The Street, section4 (A)\n",
            "\n",
            "--------------------------------------------------\n",
            "3746 Sweet Sue, Just You, section1 (A)\n",
            "3747 Sweet Sue, Just You, section2 (A)\n",
            "3748 Sweet Sue, Just You, section3 (B)\n",
            "3749 Sweet Sue, Just You, section4 (A)\n",
            "\n",
            "--------------------------------------------------\n",
            "3860 These Foolish Things, section1 (A)\n",
            "3861 These Foolish Things, section2 (A)\n",
            "3862 These Foolish Things, section3 (B)\n",
            "3863 These Foolish Things, section4 (A)\n",
            "CPU times: user 8.19 s, sys: 207 ms, total: 8.4 s\n",
            "Wall time: 8.23 s\n"
          ]
        }
      ]
    },
    {
      "cell_type": "code",
      "metadata": {
        "colab": {
          "base_uri": "https://localhost:8080/",
          "height": 542
        },
        "id": "yzRuIKVh9c8g",
        "outputId": "6973f1d3-8dda-4624-a381-c5379a01ea57"
      },
      "source": [
        "import plotly.express as px\n",
        "fig = px.histogram(df_sim, x=\"score\", nbins=50, title='Scores for TF-IDF')\n",
        "fig.show()"
      ],
      "execution_count": 56,
      "outputs": [
        {
          "output_type": "display_data",
          "data": {
            "text/html": [
              "<html>\n",
              "<head><meta charset=\"utf-8\" /></head>\n",
              "<body>\n",
              "    <div>\n",
              "            <script src=\"https://cdnjs.cloudflare.com/ajax/libs/mathjax/2.7.5/MathJax.js?config=TeX-AMS-MML_SVG\"></script><script type=\"text/javascript\">if (window.MathJax) {MathJax.Hub.Config({SVG: {font: \"STIX-Web\"}});}</script>\n",
              "                <script type=\"text/javascript\">window.PlotlyConfig = {MathJaxConfig: 'local'};</script>\n",
              "        <script src=\"https://cdn.plot.ly/plotly-latest.min.js\"></script>    \n",
              "            <div id=\"9e5c2222-fea4-44a8-92de-aa56eedd4594\" class=\"plotly-graph-div\" style=\"height:525px; width:100%;\"></div>\n",
              "            <script type=\"text/javascript\">\n",
              "                \n",
              "                    window.PLOTLYENV=window.PLOTLYENV || {};\n",
              "                    \n",
              "                if (document.getElementById(\"9e5c2222-fea4-44a8-92de-aa56eedd4594\")) {\n",
              "                    Plotly.newPlot(\n",
              "                        '9e5c2222-fea4-44a8-92de-aa56eedd4594',\n",
              "                        [{\"alignmentgroup\": \"True\", \"bingroup\": \"x\", \"hoverlabel\": {\"namelength\": 0}, \"hovertemplate\": \"score=%{x}<br>count=%{y}\", \"legendgroup\": \"\", \"marker\": {\"color\": \"#636efa\"}, \"name\": \"\", \"nbinsx\": 50, \"offsetgroup\": \"\", \"orientation\": \"v\", \"showlegend\": false, \"type\": \"histogram\", \"x\": [0.9389913082122803, 0.9192167520523071, 0.9192167520523071, 0.8935061693191528, 0.8923299312591553, 0.8922373652458191, 0.886802613735199, 0.886802613735199, 0.8843044638633728, 0.8721760511398315, 0.866675078868866, 0.8618936538696289, 0.8613150715827942, 0.8448313474655151, 0.8448313474655151, 0.8425021171569824, 0.8309941291809082, 0.8252558708190918, 0.8229768872261047, 0.8218512535095215, 0.8200452923774719, 0.815853476524353, 0.814792275428772, 0.8131177425384521, 0.8129934668540955, 0.8112398386001587, 0.8066893815994263, 0.8061774969100952, 0.8045084476470947, 0.8029317855834961, 0.8027095198631287, 0.9374390244483948, 0.9199926853179932, 0.9093621969223022, 0.9013411998748779, 0.8978439569473267, 0.8879848718643188, 0.8820269107818604, 0.881253719329834, 0.8737310171127319, 0.8720090389251709, 0.8650637269020081, 0.8650637269020081, 0.8640623092651367, 0.8634361624717712, 0.8586546182632446, 0.8530471324920654, 0.8527913093566895, 0.8521862030029297, 0.8397454023361206, 0.8366526961326599, 0.8366457223892212, 0.8361443877220154, 0.8361443877220154, 0.8307065963745117, 0.8306872248649597, 0.8299707174301147, 0.8293304443359375, 0.8293304443359375, 0.8283171653747559, 0.8274667263031006, 0.8244059085845947, 0.9389913082122803, 0.9192167520523071, 0.9192167520523071, 0.8935061693191528, 0.8923299312591553, 0.8922373652458191, 0.886802613735199, 0.886802613735199, 0.8843044638633728, 0.8721760511398315, 0.866675078868866, 0.8618936538696289, 0.8613150715827942, 0.8448313474655151, 0.8448313474655151, 0.8425021171569824, 0.8309941291809082, 0.8252558708190918, 0.8229768872261047, 0.8218512535095215, 0.8200452923774719, 0.815853476524353, 0.814792275428772, 0.8131177425384521, 0.8129934668540955, 0.8112398386001587, 0.8066893815994263, 0.8061774969100952, 0.8045084476470947, 0.8029317855834961, 0.8027095198631287, 0.9099723100662231, 0.8953143358230591, 0.8914748430252075, 0.8914093971252441, 0.8816529512405396, 0.8774778246879578, 0.875025749206543, 0.8746403455734253, 0.8737621307373047, 0.8735143542289734, 0.8686769008636475, 0.8606401085853577, 0.8537000417709351, 0.8450583219528198, 0.8426961898803711, 0.8426961898803711, 0.8425280451774597, 0.8423643708229065, 0.8406414985656738, 0.8346741795539856, 0.8338338136672974, 0.8265993595123291, 0.8263331651687622, 0.8151261806488037, 0.8149775266647339, 0.8149664402008057, 0.8145142793655396, 0.8108316659927368, 0.8097991347312927, 0.8097991347312927, 0.8076251745223999, 0.9225177764892578, 0.9200266003608704, 0.9200266003608704, 0.9163926243782043, 0.883933961391449, 0.8707367181777954, 0.8680875301361084, 0.8656541705131531, 0.8647894263267517, 0.8639799356460571, 0.8488125801086426, 0.8488125801086426, 0.833577036857605, 0.833577036857605, 0.833577036857605, 0.833577036857605, 0.8313672542572021, 0.8137301206588745, 0.7975580096244812, 0.7975580096244812, 0.7975580096244812, 0.7924087643623352, 0.7920687198638916, 0.7916122674942017, 0.7907719612121582, 0.7883356213569641, 0.7883356213569641, 0.7874513864517212, 0.7856990694999695, 0.7856374382972717, 0.7835335731506348, 0.9902711510658264, 0.9902711510658264, 0.9902711510658264, 0.9727190732955933, 0.9472104907035828, 0.9349519610404968, 0.9335860013961792, 0.9335860013961792, 0.9334418177604675, 0.9334418177604675, 0.9315323829650879, 0.9266866445541382, 0.9266652464866638, 0.9266652464866638, 0.9261441826820374, 0.9210364818572998, 0.9167023301124573, 0.9131922721862793, 0.9110811352729797, 0.9092049598693848, 0.8834289908409119, 0.87115478515625, 0.8689361810684204, 0.8670770525932312, 0.8651692271232605, 0.8630523085594177, 0.8627966642379761, 0.8604374527931213, 0.854931116104126, 0.8543616533279419, 0.8448231220245361, 0.9225177764892578, 0.9200266003608704, 0.9200266003608704, 0.9163926243782043, 0.883933961391449, 0.8707367181777954, 0.8680875301361084, 0.8656541705131531, 0.8647894263267517, 0.8639799356460571, 0.8488125801086426, 0.8488125801086426, 0.833577036857605, 0.833577036857605, 0.833577036857605, 0.833577036857605, 0.8313672542572021, 0.8137301206588745, 0.7975580096244812, 0.7975580096244812, 0.7975580096244812, 0.7924087643623352, 0.7920687198638916, 0.7916122674942017, 0.7907719612121582, 0.7883356213569641, 0.7883356213569641, 0.7874513864517212, 0.7856990694999695, 0.7856374382972717, 0.7835335731506348, 0.9496287107467651, 0.9333109855651855, 0.9205265045166016, 0.9016655683517456, 0.8645071983337402, 0.8635683059692383, 0.8618323802947998, 0.8618323802947998, 0.8596533536911011, 0.8549714684486389, 0.8549714684486389, 0.8525089621543884, 0.8506947755813599, 0.8385204076766968, 0.8359332084655762, 0.8312563896179199, 0.8268905282020569, 0.8236905336380005, 0.8229211568832397, 0.8217622637748718, 0.8173279762268066, 0.8168524503707886, 0.8156710863113403, 0.8156710863113403, 0.8155134916305542, 0.8126081824302673, 0.812505304813385, 0.8112941384315491, 0.8094161748886108, 0.8077602386474609, 0.8071374893188477, 0.8948595523834229, 0.8381076455116272, 0.8322314023971558, 0.8302469849586487, 0.8302469849586487, 0.8019738793373108, 0.7808437943458557, 0.7808437943458557, 0.7783291339874268, 0.7782295942306519, 0.7756994962692261, 0.7739384174346924, 0.7670508623123169, 0.7670508623123169, 0.7654315233230591, 0.7615271210670471, 0.7612401843070984, 0.7612401843070984, 0.7609069347381592, 0.7609069347381592, 0.7594552040100098, 0.7558550834655762, 0.7558550834655762, 0.7558550834655762, 0.7554671764373779, 0.7532307505607605, 0.750363826751709, 0.7441660761833191, 0.7387126684188843, 0.7363852858543396, 0.7363852858543396, 0.8061864376068115, 0.7937321662902832, 0.7916423082351685, 0.7889361381530762, 0.7881711721420288, 0.7856893539428711, 0.7804352045059204, 0.7726870775222778, 0.7648630738258362, 0.7620681524276733, 0.7555733919143677, 0.7555733919143677, 0.7427304983139038, 0.7427304983139038, 0.7395435571670532, 0.7395435571670532, 0.7366757988929749, 0.7366757988929749, 0.7348585724830627, 0.7335740327835083, 0.7335740327835083, 0.725500226020813, 0.7246699333190918, 0.715964138507843, 0.7122759819030762, 0.7110984921455383, 0.710403561592102, 0.7076873779296875, 0.7071878910064697, 0.7069135904312134, 0.7060136795043945, 0.8252847790718079, 0.7854088544845581, 0.7266355752944946, 0.7199800610542297, 0.7185425162315369, 0.7070133686065674, 0.7039613723754883, 0.7025511264801025, 0.6857956647872925, 0.6785475015640259, 0.6536797881126404, 0.6532655954360962, 0.652381420135498, 0.6514828205108643, 0.6514828205108643, 0.6514828205108643, 0.6512441635131836, 0.640048086643219, 0.6387650370597839, 0.6364959478378296, 0.6313512325286865, 0.6311905384063721, 0.6259645223617554, 0.6248961091041565, 0.6236186027526855, 0.6227424740791321, 0.6155450344085693, 0.6154492497444153, 0.614845871925354, 0.6111737489700317, 0.6111013889312744, 0.8948595523834229, 0.8381076455116272, 0.8322314023971558, 0.8302469849586487, 0.8302469849586487, 0.8019738793373108, 0.7808437943458557, 0.7808437943458557, 0.7783291339874268, 0.7782295942306519, 0.7756994962692261, 0.7739384174346924, 0.7670508623123169, 0.7670508623123169, 0.7654315233230591, 0.7615271210670471, 0.7612401843070984, 0.7612401843070984, 0.7609069347381592, 0.7609069347381592, 0.7594552040100098, 0.7558550834655762, 0.7558550834655762, 0.7558550834655762, 0.7554671764373779, 0.7532307505607605, 0.750363826751709, 0.7441660761833191, 0.7387126684188843, 0.7363852858543396, 0.7363852858543396, 0.9433921575546265, 0.9273809790611267, 0.9074712991714478, 0.9008526802062988, 0.846194863319397, 0.8438994288444519, 0.8424322605133057, 0.8420534133911133, 0.8406786322593689, 0.828233003616333, 0.8279814124107361, 0.8240786790847778, 0.8240786790847778, 0.8230417370796204, 0.8157390356063843, 0.8097671270370483, 0.8093019723892212, 0.8087947368621826, 0.8064461946487427, 0.8064461946487427, 0.8026645183563232, 0.8020986318588257, 0.8020986318588257, 0.800079882144928, 0.7942662239074707, 0.7936931252479553, 0.7928495407104492, 0.7898975610733032, 0.7888610363006592, 0.7880647778511047, 0.7864498496055603, 0.9054741859436035, 0.9054741859436035, 0.8170288801193237, 0.8141664266586304, 0.8003109097480774, 0.7894376516342163, 0.7656464576721191, 0.7648630738258362, 0.7369409799575806, 0.7351379990577698, 0.7324845790863037, 0.7320680022239685, 0.7319356203079224, 0.728847324848175, 0.7176995873451233, 0.7176995873451233, 0.7126179337501526, 0.7090568542480469, 0.7038065195083618, 0.6999867558479309, 0.6999867558479309, 0.6991932392120361, 0.6987974643707275, 0.6967028379440308, 0.6966975927352905, 0.6910427808761597, 0.687115490436554, 0.687115490436554, 0.6869120597839355, 0.6865404844284058, 0.6860840320587158, 0.986267626285553, 0.986267626285553, 0.986267626285553, 0.9828583598136902, 0.9828583598136902, 0.9828583598136902, 0.9828583598136902, 0.9781494736671448, 0.9781494736671448, 0.9759514927864075, 0.9759514927864075, 0.9759514927864075, 0.9689252376556396, 0.9396644830703735, 0.9333796501159668, 0.9333796501159668, 0.9333796501159668, 0.927711546421051, 0.9263210296630859, 0.9214816689491272, 0.909355640411377, 0.904666006565094, 0.9046110510826111, 0.9023081660270691, 0.8947628140449524, 0.8910602331161499, 0.8897066712379456, 0.8786640763282776, 0.8786640763282776, 0.8781341910362244, 0.8751019835472107, 1.0, 1.0, 0.9217159152030945, 0.9054130911827087, 0.8939884901046753, 0.8939884901046753, 0.8939884901046753, 0.8939884901046753, 0.8923911452293396, 0.8900296688079834, 0.8894519805908203, 0.8894519805908203, 0.8894519805908203, 0.8781540393829346, 0.8781540393829346, 0.8781540393829346, 0.8780559301376343, 0.8740049004554749, 0.8702959418296814, 0.8677945137023926, 0.8647598028182983, 0.8645449280738831, 0.8525015115737915, 0.8497296571731567, 0.8461349010467529, 0.8402917385101318, 0.8385011553764343, 0.8385011553764343, 0.8363115191459656, 0.8329733610153198, 0.8296420574188232, 0.9037326574325562, 0.8961687088012695, 0.8681115508079529, 0.8663490414619446, 0.8652796745300293, 0.8645071983337402, 0.8589986562728882, 0.8331947326660156, 0.8194590210914612, 0.8088904619216919, 0.8060646057128906, 0.8018049001693726, 0.8012911677360535, 0.7981053590774536, 0.7981035709381104, 0.7972383499145508, 0.7968345880508423, 0.796798825263977, 0.7934530377388, 0.7933189868927002, 0.7907667756080627, 0.7867871522903442, 0.7813535928726196, 0.7813535928726196, 0.779423713684082, 0.778465747833252, 0.775133490562439, 0.775133490562439, 0.7729008197784424, 0.7704558372497559, 0.7689239978790283, 0.986267626285553, 0.986267626285553, 0.986267626285553, 0.9828583598136902, 0.9828583598136902, 0.9828583598136902, 0.9828583598136902, 0.9781494736671448, 0.9781494736671448, 0.9759514927864075, 0.9759514927864075, 0.9759514927864075, 0.9689252376556396, 0.9396644830703735, 0.9333796501159668, 0.9333796501159668, 0.9333796501159668, 0.927711546421051, 0.9263210296630859, 0.9214816689491272, 0.909355640411377, 0.904666006565094, 0.9046110510826111, 0.9023081660270691, 0.8947628140449524, 0.8910602331161499, 0.8897066712379456, 0.8786640763282776, 0.8786640763282776, 0.8781341910362244, 0.8751019835472107, 0.9462592005729675, 0.8949445486068726, 0.8794858455657959, 0.8698619604110718, 0.8628567457199097, 0.8616727590560913, 0.8592193722724915, 0.8545153141021729, 0.8494426012039185, 0.8494426012039185, 0.8494426012039185, 0.8494426012039185, 0.8468093872070312, 0.8428714275360107, 0.8428714275360107, 0.8389320373535156, 0.8389320373535156, 0.8377578258514404, 0.8201797604560852, 0.8201797604560852, 0.818684995174408, 0.8133618831634521, 0.8062772750854492, 0.8019273281097412, 0.7946862578392029, 0.7929348349571228, 0.7891519665718079, 0.7881824970245361, 0.7881824970245361, 0.7857579588890076, 0.7804890871047974, 0.897299587726593, 0.8671829700469971, 0.8543344736099243, 0.8504182696342468, 0.8404349088668823, 0.8404349088668823, 0.8404349088668823, 0.8402491807937622, 0.8338540196418762, 0.8330214023590088, 0.8330214023590088, 0.8330214023590088, 0.8231922388076782, 0.822850227355957, 0.8085770010948181, 0.7971155643463135, 0.7883186340332031, 0.7883186340332031, 0.7883186340332031, 0.7871333956718445, 0.7836804986000061, 0.7836804986000061, 0.7836804986000061, 0.7773845195770264, 0.7773845195770264, 0.772649347782135, 0.7716634273529053, 0.7711365818977356, 0.770392656326294, 0.770392656326294, 0.7696530222892761, 1.0, 1.0, 1.0, 1.0, 1.0, 1.0, 1.0, 1.0, 0.9927698969841003, 0.9439799785614014, 0.9439799785614014, 0.9226718544960022, 0.9172521233558655, 0.9172521233558655, 0.9120970368385315, 0.9021540284156799, 0.8944053649902344, 0.8788313865661621, 0.8679778575897217, 0.8465132117271423, 0.8428635001182556, 0.8424568176269531, 0.8384721875190735, 0.8302107453346252, 0.8296160697937012, 0.8278917074203491, 0.8278917074203491, 0.8278917074203491, 0.8270342946052551, 0.8269387483596802, 0.8220735192298889, 0.9462592005729675, 0.8949445486068726, 0.8794858455657959, 0.8698619604110718, 0.8628567457199097, 0.8616727590560913, 0.8592193722724915, 0.8545153141021729, 0.8494426012039185, 0.8494426012039185, 0.8494426012039185, 0.8494426012039185, 0.8468093872070312, 0.8428714275360107, 0.8428714275360107, 0.8389320373535156, 0.8389320373535156, 0.8377578258514404, 0.8201797604560852, 0.8201797604560852, 0.818684995174408, 0.8133618831634521, 0.8062772750854492, 0.8019273281097412, 0.7946862578392029, 0.7929348349571228, 0.7891519665718079, 0.7881824970245361, 0.7881824970245361, 0.7857579588890076, 0.7804890871047974, 0.8809449672698975, 0.8794814348220825, 0.8705426454544067, 0.8705426454544067, 0.8686991930007935, 0.867209255695343, 0.8612222671508789, 0.8612222671508789, 0.8555382490158081, 0.8517345786094666, 0.8501999378204346, 0.8361452221870422, 0.8350670337677002, 0.8336297273635864, 0.8292871713638306, 0.8217616081237793, 0.8217616081237793, 0.8142304420471191, 0.8060830235481262, 0.79560387134552, 0.79560387134552, 0.79560387134552, 0.7835063338279724, 0.7835063338279724, 0.7835063338279724, 0.7835063338279724, 0.7835063338279724, 0.7821035385131836, 0.778838574886322, 0.778838574886322, 0.778838574886322, 0.8846977949142456, 0.8805689811706543, 0.8728912472724915, 0.8697994947433472, 0.8697994947433472, 0.8679907321929932, 0.862490177154541, 0.862490177154541, 0.8605804443359375, 0.8522825837135315, 0.847152590751648, 0.8399596214294434, 0.8357208371162415, 0.8355472683906555, 0.8337111473083496, 0.8239452838897705, 0.8239452838897705, 0.8191161155700684, 0.8101636171340942, 0.7959967255592346, 0.7959967255592346, 0.7959967255592346, 0.7874726057052612, 0.7874726057052612, 0.7874726057052612, 0.7874726057052612, 0.7874726057052612, 0.7824616432189941, 0.7823516726493835, 0.7823516726493835, 0.7823516726493835, 1.0, 1.0, 1.0, 1.0, 1.0, 1.0, 1.0, 1.0, 1.0, 1.0, 1.0, 1.0, 1.0, 1.0, 1.0, 1.0, 1.0, 1.0, 1.0, 1.0, 1.0, 1.0, 0.9899371266365051, 0.9895161986351013, 0.9801344871520996, 0.9533737301826477, 0.9388611912727356, 0.9388611912727356, 0.9100496768951416, 0.9019830822944641, 0.8979831337928772, 0.8444091081619263, 0.8440002202987671, 0.8440002202987671, 0.8369742035865784, 0.8277322053909302, 0.8221783638000488, 0.8173893094062805, 0.8173893094062805, 0.8101859092712402, 0.8048666715621948, 0.7960050106048584, 0.7939666509628296, 0.7916216850280762, 0.7916216850280762, 0.7888662815093994, 0.7875723838806152, 0.7863767147064209, 0.7860674858093262, 0.7844094634056091, 0.7833592891693115, 0.7833592891693115, 0.7823240160942078, 0.7823240160942078, 0.7823240160942078, 0.7823240160942078, 0.7823240160942078, 0.7768137454986572, 0.7768137454986572, 0.7768137454986572, 0.7733678817749023, 0.7724804878234863, 0.9725892543792725, 0.9381064176559448, 0.9370359778404236, 0.9305191040039062, 0.9192939400672913, 0.9127050042152405, 0.9113525152206421, 0.9070973992347717, 0.8851495385169983, 0.8798566460609436, 0.8781484365463257, 0.8781484365463257, 0.8770716190338135, 0.8760555982589722, 0.872185468673706, 0.8703488111495972, 0.8692637085914612, 0.8663620352745056, 0.8660041689872742, 0.8581058382987976, 0.8570161461830139, 0.8536573648452759, 0.8534491062164307, 0.8534491062164307, 0.8520663976669312, 0.8497194051742554, 0.8437031507492065, 0.8431284427642822, 0.8285415172576904, 0.8285127878189087, 0.8280870318412781, 0.9116885662078857, 0.9048398733139038, 0.9048398733139038, 0.9048302173614502, 0.8896535038948059, 0.8808563351631165, 0.8742734789848328, 0.8591105341911316, 0.8572807312011719, 0.8490795493125916, 0.8490795493125916, 0.8437948226928711, 0.8394564390182495, 0.8369998335838318, 0.8328922986984253, 0.8312169909477234, 0.8294470310211182, 0.8270055055618286, 0.8221882581710815, 0.8219451904296875, 0.8178725838661194, 0.8177140951156616, 0.8148761987686157, 0.814644455909729, 0.8136905431747437, 0.8127443194389343, 0.8127443194389343, 0.8125467300415039, 0.8091329336166382, 0.8081550002098083, 0.8062230944633484, 0.781548023223877, 0.7347314953804016, 0.7347314953804016, 0.7347314953804016, 0.725945234298706, 0.7243934273719788, 0.7180452346801758, 0.7178488969802856, 0.7173028588294983, 0.7126337885856628, 0.7033427953720093, 0.6940640211105347, 0.687145471572876, 0.6667291522026062, 0.6653978824615479, 0.6566040515899658, 0.6552855968475342, 0.6528326272964478, 0.6528326272964478, 0.6496604084968567, 0.6481369137763977, 0.6414048075675964, 0.640357255935669, 0.6361674666404724, 0.6349891424179077, 0.6349891424179077, 0.6279761791229248, 0.6259646415710449, 0.6259646415710449, 0.6246090531349182, 0.6244962811470032, 0.9425078630447388, 0.9067122936248779, 0.9040592908859253, 0.9040592908859253, 0.8982758522033691, 0.8980836868286133, 0.8820546865463257, 0.8645725250244141, 0.8508833646774292, 0.8496282696723938, 0.8483989238739014, 0.8483989238739014, 0.8466270565986633, 0.8466270565986633, 0.8447485566139221, 0.8401272892951965, 0.8384480476379395, 0.8379119038581848, 0.8375540971755981, 0.8365879654884338, 0.8336060047149658, 0.8329209089279175, 0.829918384552002, 0.8291893005371094, 0.8278323411941528, 0.8278323411941528, 0.8236696720123291, 0.8194460868835449, 0.8178168535232544, 0.8176380395889282, 0.8171179890632629, 0.9093533754348755, 0.844793438911438, 0.844793438911438, 0.844793438911438, 0.8022997379302979, 0.7994754314422607, 0.7994754314422607, 0.7935423851013184, 0.7431040406227112, 0.7224583625793457, 0.717856228351593, 0.7137537598609924, 0.7049233913421631, 0.7023786902427673, 0.7023786902427673, 0.7023786902427673, 0.6963160037994385, 0.6837856769561768, 0.6837856769561768, 0.6837856769561768, 0.6837856769561768, 0.6837856769561768, 0.6837856769561768, 0.6820535659790039, 0.6820535659790039, 0.6820535659790039, 0.6818285584449768, 0.6776394844055176, 0.6776394844055176, 0.6776394844055176, 0.6765643358230591, 0.9093533754348755, 0.844793438911438, 0.844793438911438, 0.844793438911438, 0.8022997379302979, 0.7994754314422607, 0.7994754314422607, 0.7935423851013184, 0.7431040406227112, 0.7224583625793457, 0.717856228351593, 0.7137537598609924, 0.7049233913421631, 0.7023786902427673, 0.7023786902427673, 0.7023786902427673, 0.6963160037994385, 0.6837856769561768, 0.6837856769561768, 0.6837856769561768, 0.6837856769561768, 0.6837856769561768, 0.6837856769561768, 0.6820535659790039, 0.6820535659790039, 0.6820535659790039, 0.6818285584449768, 0.6776394844055176, 0.6776394844055176, 0.6776394844055176, 0.6765643358230591, 0.9482734799385071, 0.9234431385993958, 0.9015575051307678, 0.9015051126480103, 0.8942988514900208, 0.8922451138496399, 0.8812054395675659, 0.8768410682678223, 0.8652095794677734, 0.859783947467804, 0.8568822145462036, 0.844768226146698, 0.8382360935211182, 0.8368284702301025, 0.8328906893730164, 0.8214592337608337, 0.8092283606529236, 0.8057163953781128, 0.7939255237579346, 0.7888304591178894, 0.7623964548110962, 0.7432475090026855, 0.7411463856697083, 0.7335918545722961, 0.7049012780189514, 0.7007871270179749, 0.6971487998962402, 0.6911377310752869, 0.6869581937789917, 0.679709255695343, 0.6739362478256226, 0.934436023235321, 0.904156506061554, 0.904156506061554, 0.904156506061554, 0.8479100465774536, 0.812501072883606, 0.7885782718658447, 0.7885782718658447, 0.7735478281974792, 0.7645043134689331, 0.7624469995498657, 0.7460613250732422, 0.741982102394104, 0.740629255771637, 0.740629255771637, 0.740629255771637, 0.7382902503013611, 0.7382902503013611, 0.7382902503013611, 0.7382902503013611, 0.7382902503013611, 0.7382902503013611, 0.7350048422813416, 0.7162286639213562, 0.7162286639213562, 0.7162286639213562, 0.7159976959228516, 0.7159976959228516, 0.7157890796661377, 0.7032488584518433, 0.7032488584518433, 0.918531060218811, 0.9135043621063232, 0.9114569425582886, 0.9114569425582886, 0.9085614085197449, 0.9051984548568726, 0.9033681154251099, 0.9033681154251099, 0.8630551695823669, 0.8603115677833557, 0.8603115677833557, 0.8603115677833557, 0.860244631767273, 0.8594080209732056, 0.8568891286849976, 0.8558739423751831, 0.8537173867225647, 0.8503024578094482, 0.8498985767364502, 0.8493011593818665, 0.846809983253479, 0.8467028141021729, 0.8464491963386536, 0.8450374603271484, 0.8411179184913635, 0.8411179184913635, 0.8394831418991089, 0.835749626159668, 0.8303036689758301, 0.8291202783584595, 0.8241314888000488, 0.9059967398643494, 0.8910912275314331, 0.8910912275314331, 0.884398341178894, 0.8570429682731628, 0.8501867651939392, 0.8388062119483948, 0.8357203006744385, 0.8288542032241821, 0.8214794397354126, 0.8178355693817139, 0.8176102638244629, 0.8176102638244629, 0.8173964619636536, 0.809377133846283, 0.8039239048957825, 0.8029094934463501, 0.8003436923027039, 0.7998907566070557, 0.7993820905685425, 0.7965522408485413, 0.7939813137054443, 0.7932765483856201, 0.7931932210922241, 0.7906880378723145, 0.7888756990432739, 0.7869856357574463, 0.7857151627540588, 0.7833320498466492, 0.7825990319252014, 0.7818012237548828, 0.9400537610054016, 0.9369606971740723, 0.9173157215118408, 0.9091306924819946, 0.8738502860069275, 0.8734696507453918, 0.8691898584365845, 0.8577306270599365, 0.852384626865387, 0.852384626865387, 0.8522298336029053, 0.8503078818321228, 0.8484611511230469, 0.8480110764503479, 0.8480110764503479, 0.847145676612854, 0.8448231220245361, 0.8389957547187805, 0.8384274244308472, 0.836536705493927, 0.836536705493927, 0.836536705493927, 0.8348966836929321, 0.8334686160087585, 0.8334686160087585, 0.8334686160087585, 0.8324400186538696, 0.8291953802108765, 0.8288763165473938, 0.8257077932357788, 0.8257077932357788, 1.0, 0.9879119396209717, 0.9736131429672241, 0.9663830399513245, 0.9554932117462158, 0.9482147693634033, 0.9482147693634033, 0.9358115196228027, 0.9323976039886475, 0.9308560490608215, 0.9308560490608215, 0.9294905662536621, 0.9264652729034424, 0.9264652729034424, 0.922666609287262, 0.9154298901557922, 0.9154298901557922, 0.9154298901557922, 0.9147882461547852, 0.9142211675643921, 0.9002707004547119, 0.8994789719581604, 0.8947933912277222, 0.876937747001648, 0.8577098846435547, 0.855823278427124, 0.8538832664489746, 0.8500269651412964, 0.8500269651412964, 0.8486495018005371, 0.8469990491867065, 0.941871702671051, 0.938048779964447, 0.917851448059082, 0.9143778085708618, 0.8885164260864258, 0.8774838447570801, 0.8718039393424988, 0.8699004054069519, 0.8617546558380127, 0.8601246476173401, 0.8503111600875854, 0.8503111600875854, 0.8486230373382568, 0.8467576503753662, 0.8441697359085083, 0.8441697359085083, 0.8424009084701538, 0.8422126173973083, 0.8398935794830322, 0.8389441967010498, 0.8379039764404297, 0.8367193937301636, 0.8367193937301636, 0.8367193937301636, 0.8365374803543091, 0.8365374803543091, 0.8365374803543091, 0.8361612558364868, 0.8346993327140808, 0.8346987366676331, 0.8269932270050049, 1.0, 1.0, 1.0, 1.0, 1.0, 1.0, 1.0, 1.0, 1.0, 1.0, 1.0, 1.0, 1.0, 1.0, 0.994500458240509, 0.9904343485832214, 0.9904343485832214, 0.9810484647750854, 0.9810484647750854, 0.9810484647750854, 0.9798358678817749, 0.9748481512069702, 0.9748481512069702, 0.9678577780723572, 0.9678577780723572, 0.9556536674499512, 0.9556536674499512, 0.9556536674499512, 0.9515108466148376, 0.9467846751213074, 0.9467846751213074, 1.0, 1.0, 1.0, 1.0, 1.0, 1.0, 1.0, 1.0, 1.0, 1.0, 1.0, 1.0, 1.0, 1.0, 0.994500458240509, 0.9904343485832214, 0.9904343485832214, 0.9810484647750854, 0.9810484647750854, 0.9810484647750854, 0.9798358678817749, 0.9748481512069702, 0.9748481512069702, 0.9678577780723572, 0.9678577780723572, 0.9556536674499512, 0.9556536674499512, 0.9556536674499512, 0.9515108466148376, 0.9467846751213074, 0.9467846751213074, 0.8827636241912842, 0.8827636241912842, 0.8757040500640869, 0.8757040500640869, 0.8611385226249695, 0.8541794419288635, 0.8164146542549133, 0.8134151697158813, 0.7994282245635986, 0.79604172706604, 0.79604172706604, 0.79604172706604, 0.79604172706604, 0.7956576347351074, 0.7956576347351074, 0.7908540964126587, 0.7813819646835327, 0.7766185402870178, 0.7751684188842773, 0.774002194404602, 0.7681183815002441, 0.7649211883544922, 0.7606019973754883, 0.7495815753936768, 0.747410237789154, 0.7471389770507812, 0.7443580627441406, 0.7416996955871582, 0.7400173544883728, 0.7389252185821533, 0.7388569116592407, 1.0, 1.0, 1.0, 1.0, 1.0, 1.0, 1.0, 1.0, 1.0, 1.0, 1.0, 1.0, 1.0, 1.0, 0.994500458240509, 0.9904343485832214, 0.9904343485832214, 0.9810484647750854, 0.9810484647750854, 0.9810484647750854, 0.9798358678817749, 0.9748481512069702, 0.9748481512069702, 0.9678577780723572, 0.9678577780723572, 0.9556536674499512, 0.9556536674499512, 0.9556536674499512, 0.9515108466148376, 0.9467846751213074, 0.9467846751213074, 0.9691401720046997, 0.9691401720046997, 0.8969483971595764, 0.887363612651825, 0.876742959022522, 0.871079683303833, 0.8604229688644409, 0.8540915846824646, 0.8493281006813049, 0.8445788025856018, 0.8338109850883484, 0.8338109850883484, 0.8298701047897339, 0.8298701047897339, 0.8284221291542053, 0.8235642313957214, 0.8231886029243469, 0.8206322193145752, 0.8149003982543945, 0.811374843120575, 0.8056980967521667, 0.8044525980949402, 0.8044525980949402, 0.8038542866706848, 0.8029189109802246, 0.8018568158149719, 0.799296498298645, 0.7988772392272949, 0.7988772392272949, 0.797620415687561, 0.7955280542373657, 0.9865050911903381, 0.8474602699279785, 0.8342247605323792, 0.8247062563896179, 0.8217374086380005, 0.8080882430076599, 0.7976685762405396, 0.7949093580245972, 0.7846170663833618, 0.778404951095581, 0.778376579284668, 0.7770710587501526, 0.7722944617271423, 0.7705236673355103, 0.7687066197395325, 0.7677345275878906, 0.7646626234054565, 0.7596096992492676, 0.7539626359939575, 0.7535804510116577, 0.7501708269119263, 0.7477861642837524, 0.7477861642837524, 0.7398574948310852, 0.7384034395217896, 0.733899712562561, 0.7321493029594421, 0.7300161123275757, 0.7273865342140198, 0.725426435470581, 0.7250896692276001, 0.7965753078460693, 0.7606219053268433, 0.7453467845916748, 0.7413510084152222, 0.7341729402542114, 0.7308845520019531, 0.7031818628311157, 0.6891441941261292, 0.6694976091384888, 0.6694976091384888, 0.6677199602127075, 0.658171534538269, 0.6580711007118225, 0.6263070106506348, 0.6217321157455444, 0.616258442401886, 0.6107808947563171, 0.6074357032775879, 0.6051523089408875, 0.6051523089408875, 0.6002894639968872, 0.5882079601287842, 0.5877414345741272, 0.5871634483337402, 0.5857625007629395, 0.5833557844161987, 0.5783846974372864, 0.5730394124984741, 0.572708010673523, 0.5702289342880249, 0.5655978918075562, 0.9733021259307861, 0.9733021259307861, 0.899527370929718, 0.8902639746665955, 0.8831263780593872, 0.866073489189148, 0.8658865094184875, 0.8639692664146423, 0.8538268208503723, 0.8315864205360413, 0.8315864205360413, 0.829622209072113, 0.8229761123657227, 0.8176162242889404, 0.8156557083129883, 0.8111559152603149, 0.8071835041046143, 0.8071835041046143, 0.8056663274765015, 0.8037710189819336, 0.8033300638198853, 0.8021013736724854, 0.8020946383476257, 0.7998826503753662, 0.79912930727005, 0.7989851236343384, 0.7964918613433838, 0.7931784391403198, 0.7931784391403198, 0.7902640700340271, 0.7879878878593445], \"xaxis\": \"x\", \"yaxis\": \"y\"}],\n",
              "                        {\"barmode\": \"relative\", \"legend\": {\"tracegroupgap\": 0}, \"template\": {\"data\": {\"bar\": [{\"error_x\": {\"color\": \"#2a3f5f\"}, \"error_y\": {\"color\": \"#2a3f5f\"}, \"marker\": {\"line\": {\"color\": \"#E5ECF6\", \"width\": 0.5}}, \"type\": \"bar\"}], \"barpolar\": [{\"marker\": {\"line\": {\"color\": \"#E5ECF6\", \"width\": 0.5}}, \"type\": \"barpolar\"}], \"carpet\": [{\"aaxis\": {\"endlinecolor\": \"#2a3f5f\", \"gridcolor\": \"white\", \"linecolor\": \"white\", \"minorgridcolor\": \"white\", \"startlinecolor\": \"#2a3f5f\"}, \"baxis\": {\"endlinecolor\": \"#2a3f5f\", \"gridcolor\": \"white\", \"linecolor\": \"white\", \"minorgridcolor\": \"white\", \"startlinecolor\": \"#2a3f5f\"}, \"type\": \"carpet\"}], \"choropleth\": [{\"colorbar\": {\"outlinewidth\": 0, \"ticks\": \"\"}, \"type\": \"choropleth\"}], \"contour\": [{\"colorbar\": {\"outlinewidth\": 0, \"ticks\": \"\"}, \"colorscale\": [[0.0, \"#0d0887\"], [0.1111111111111111, \"#46039f\"], [0.2222222222222222, \"#7201a8\"], [0.3333333333333333, \"#9c179e\"], [0.4444444444444444, \"#bd3786\"], [0.5555555555555556, \"#d8576b\"], [0.6666666666666666, \"#ed7953\"], [0.7777777777777778, \"#fb9f3a\"], [0.8888888888888888, \"#fdca26\"], [1.0, \"#f0f921\"]], \"type\": \"contour\"}], \"contourcarpet\": [{\"colorbar\": {\"outlinewidth\": 0, \"ticks\": \"\"}, \"type\": \"contourcarpet\"}], \"heatmap\": [{\"colorbar\": {\"outlinewidth\": 0, \"ticks\": \"\"}, \"colorscale\": [[0.0, \"#0d0887\"], [0.1111111111111111, \"#46039f\"], [0.2222222222222222, \"#7201a8\"], [0.3333333333333333, \"#9c179e\"], [0.4444444444444444, \"#bd3786\"], [0.5555555555555556, \"#d8576b\"], [0.6666666666666666, \"#ed7953\"], [0.7777777777777778, \"#fb9f3a\"], [0.8888888888888888, \"#fdca26\"], [1.0, \"#f0f921\"]], \"type\": \"heatmap\"}], \"heatmapgl\": [{\"colorbar\": {\"outlinewidth\": 0, \"ticks\": \"\"}, \"colorscale\": [[0.0, \"#0d0887\"], [0.1111111111111111, \"#46039f\"], [0.2222222222222222, \"#7201a8\"], [0.3333333333333333, \"#9c179e\"], [0.4444444444444444, \"#bd3786\"], [0.5555555555555556, \"#d8576b\"], [0.6666666666666666, \"#ed7953\"], [0.7777777777777778, \"#fb9f3a\"], [0.8888888888888888, \"#fdca26\"], [1.0, \"#f0f921\"]], \"type\": \"heatmapgl\"}], \"histogram\": [{\"marker\": {\"colorbar\": {\"outlinewidth\": 0, \"ticks\": \"\"}}, \"type\": \"histogram\"}], \"histogram2d\": [{\"colorbar\": {\"outlinewidth\": 0, \"ticks\": \"\"}, \"colorscale\": [[0.0, \"#0d0887\"], [0.1111111111111111, \"#46039f\"], [0.2222222222222222, \"#7201a8\"], [0.3333333333333333, \"#9c179e\"], [0.4444444444444444, \"#bd3786\"], [0.5555555555555556, \"#d8576b\"], [0.6666666666666666, \"#ed7953\"], [0.7777777777777778, \"#fb9f3a\"], [0.8888888888888888, \"#fdca26\"], [1.0, \"#f0f921\"]], \"type\": \"histogram2d\"}], \"histogram2dcontour\": [{\"colorbar\": {\"outlinewidth\": 0, \"ticks\": \"\"}, \"colorscale\": [[0.0, \"#0d0887\"], [0.1111111111111111, \"#46039f\"], [0.2222222222222222, \"#7201a8\"], [0.3333333333333333, \"#9c179e\"], [0.4444444444444444, \"#bd3786\"], [0.5555555555555556, \"#d8576b\"], [0.6666666666666666, \"#ed7953\"], [0.7777777777777778, \"#fb9f3a\"], [0.8888888888888888, \"#fdca26\"], [1.0, \"#f0f921\"]], \"type\": \"histogram2dcontour\"}], \"mesh3d\": [{\"colorbar\": {\"outlinewidth\": 0, \"ticks\": \"\"}, \"type\": \"mesh3d\"}], \"parcoords\": [{\"line\": {\"colorbar\": {\"outlinewidth\": 0, \"ticks\": \"\"}}, \"type\": \"parcoords\"}], \"pie\": [{\"automargin\": true, \"type\": \"pie\"}], \"scatter\": [{\"marker\": {\"colorbar\": {\"outlinewidth\": 0, \"ticks\": \"\"}}, \"type\": \"scatter\"}], \"scatter3d\": [{\"line\": {\"colorbar\": {\"outlinewidth\": 0, \"ticks\": \"\"}}, \"marker\": {\"colorbar\": {\"outlinewidth\": 0, \"ticks\": \"\"}}, \"type\": \"scatter3d\"}], \"scattercarpet\": [{\"marker\": {\"colorbar\": {\"outlinewidth\": 0, \"ticks\": \"\"}}, \"type\": \"scattercarpet\"}], \"scattergeo\": [{\"marker\": {\"colorbar\": {\"outlinewidth\": 0, \"ticks\": \"\"}}, \"type\": \"scattergeo\"}], \"scattergl\": [{\"marker\": {\"colorbar\": {\"outlinewidth\": 0, \"ticks\": \"\"}}, \"type\": \"scattergl\"}], \"scattermapbox\": [{\"marker\": {\"colorbar\": {\"outlinewidth\": 0, \"ticks\": \"\"}}, \"type\": \"scattermapbox\"}], \"scatterpolar\": [{\"marker\": {\"colorbar\": {\"outlinewidth\": 0, \"ticks\": \"\"}}, \"type\": \"scatterpolar\"}], \"scatterpolargl\": [{\"marker\": {\"colorbar\": {\"outlinewidth\": 0, \"ticks\": \"\"}}, \"type\": \"scatterpolargl\"}], \"scatterternary\": [{\"marker\": {\"colorbar\": {\"outlinewidth\": 0, \"ticks\": \"\"}}, \"type\": \"scatterternary\"}], \"surface\": [{\"colorbar\": {\"outlinewidth\": 0, \"ticks\": \"\"}, \"colorscale\": [[0.0, \"#0d0887\"], [0.1111111111111111, \"#46039f\"], [0.2222222222222222, \"#7201a8\"], [0.3333333333333333, \"#9c179e\"], [0.4444444444444444, \"#bd3786\"], [0.5555555555555556, \"#d8576b\"], [0.6666666666666666, \"#ed7953\"], [0.7777777777777778, \"#fb9f3a\"], [0.8888888888888888, \"#fdca26\"], [1.0, \"#f0f921\"]], \"type\": \"surface\"}], \"table\": [{\"cells\": {\"fill\": {\"color\": \"#EBF0F8\"}, \"line\": {\"color\": \"white\"}}, \"header\": {\"fill\": {\"color\": \"#C8D4E3\"}, \"line\": {\"color\": \"white\"}}, \"type\": \"table\"}]}, \"layout\": {\"annotationdefaults\": {\"arrowcolor\": \"#2a3f5f\", \"arrowhead\": 0, \"arrowwidth\": 1}, \"coloraxis\": {\"colorbar\": {\"outlinewidth\": 0, \"ticks\": \"\"}}, \"colorscale\": {\"diverging\": [[0, \"#8e0152\"], [0.1, \"#c51b7d\"], [0.2, \"#de77ae\"], [0.3, \"#f1b6da\"], [0.4, \"#fde0ef\"], [0.5, \"#f7f7f7\"], [0.6, \"#e6f5d0\"], [0.7, \"#b8e186\"], [0.8, \"#7fbc41\"], [0.9, \"#4d9221\"], [1, \"#276419\"]], \"sequential\": [[0.0, \"#0d0887\"], [0.1111111111111111, \"#46039f\"], [0.2222222222222222, \"#7201a8\"], [0.3333333333333333, \"#9c179e\"], [0.4444444444444444, \"#bd3786\"], [0.5555555555555556, \"#d8576b\"], [0.6666666666666666, \"#ed7953\"], [0.7777777777777778, \"#fb9f3a\"], [0.8888888888888888, \"#fdca26\"], [1.0, \"#f0f921\"]], \"sequentialminus\": [[0.0, \"#0d0887\"], [0.1111111111111111, \"#46039f\"], [0.2222222222222222, \"#7201a8\"], [0.3333333333333333, \"#9c179e\"], [0.4444444444444444, \"#bd3786\"], [0.5555555555555556, \"#d8576b\"], [0.6666666666666666, \"#ed7953\"], [0.7777777777777778, \"#fb9f3a\"], [0.8888888888888888, \"#fdca26\"], [1.0, \"#f0f921\"]]}, \"colorway\": [\"#636efa\", \"#EF553B\", \"#00cc96\", \"#ab63fa\", \"#FFA15A\", \"#19d3f3\", \"#FF6692\", \"#B6E880\", \"#FF97FF\", \"#FECB52\"], \"font\": {\"color\": \"#2a3f5f\"}, \"geo\": {\"bgcolor\": \"white\", \"lakecolor\": \"white\", \"landcolor\": \"#E5ECF6\", \"showlakes\": true, \"showland\": true, \"subunitcolor\": \"white\"}, \"hoverlabel\": {\"align\": \"left\"}, \"hovermode\": \"closest\", \"mapbox\": {\"style\": \"light\"}, \"paper_bgcolor\": \"white\", \"plot_bgcolor\": \"#E5ECF6\", \"polar\": {\"angularaxis\": {\"gridcolor\": \"white\", \"linecolor\": \"white\", \"ticks\": \"\"}, \"bgcolor\": \"#E5ECF6\", \"radialaxis\": {\"gridcolor\": \"white\", \"linecolor\": \"white\", \"ticks\": \"\"}}, \"scene\": {\"xaxis\": {\"backgroundcolor\": \"#E5ECF6\", \"gridcolor\": \"white\", \"gridwidth\": 2, \"linecolor\": \"white\", \"showbackground\": true, \"ticks\": \"\", \"zerolinecolor\": \"white\"}, \"yaxis\": {\"backgroundcolor\": \"#E5ECF6\", \"gridcolor\": \"white\", \"gridwidth\": 2, \"linecolor\": \"white\", \"showbackground\": true, \"ticks\": \"\", \"zerolinecolor\": \"white\"}, \"zaxis\": {\"backgroundcolor\": \"#E5ECF6\", \"gridcolor\": \"white\", \"gridwidth\": 2, \"linecolor\": \"white\", \"showbackground\": true, \"ticks\": \"\", \"zerolinecolor\": \"white\"}}, \"shapedefaults\": {\"line\": {\"color\": \"#2a3f5f\"}}, \"ternary\": {\"aaxis\": {\"gridcolor\": \"white\", \"linecolor\": \"white\", \"ticks\": \"\"}, \"baxis\": {\"gridcolor\": \"white\", \"linecolor\": \"white\", \"ticks\": \"\"}, \"bgcolor\": \"#E5ECF6\", \"caxis\": {\"gridcolor\": \"white\", \"linecolor\": \"white\", \"ticks\": \"\"}}, \"title\": {\"x\": 0.05}, \"xaxis\": {\"automargin\": true, \"gridcolor\": \"white\", \"linecolor\": \"white\", \"ticks\": \"\", \"title\": {\"standoff\": 15}, \"zerolinecolor\": \"white\", \"zerolinewidth\": 2}, \"yaxis\": {\"automargin\": true, \"gridcolor\": \"white\", \"linecolor\": \"white\", \"ticks\": \"\", \"title\": {\"standoff\": 15}, \"zerolinecolor\": \"white\", \"zerolinewidth\": 2}}}, \"title\": {\"text\": \"Scores for TF-IDF\"}, \"xaxis\": {\"anchor\": \"y\", \"domain\": [0.0, 1.0], \"title\": {\"text\": \"score\"}}, \"yaxis\": {\"anchor\": \"x\", \"domain\": [0.0, 1.0], \"title\": {\"text\": \"count\"}}},\n",
              "                        {\"responsive\": true}\n",
              "                    ).then(function(){\n",
              "                            \n",
              "var gd = document.getElementById('9e5c2222-fea4-44a8-92de-aa56eedd4594');\n",
              "var x = new MutationObserver(function (mutations, observer) {{\n",
              "        var display = window.getComputedStyle(gd).display;\n",
              "        if (!display || display === 'none') {{\n",
              "            console.log([gd, 'removed!']);\n",
              "            Plotly.purge(gd);\n",
              "            observer.disconnect();\n",
              "        }}\n",
              "}});\n",
              "\n",
              "// Listen for the removal of the full notebook cells\n",
              "var notebookContainer = gd.closest('#notebook-container');\n",
              "if (notebookContainer) {{\n",
              "    x.observe(notebookContainer, {childList: true});\n",
              "}}\n",
              "\n",
              "// Listen for the clearing of the current output cell\n",
              "var outputEl = gd.closest('.output');\n",
              "if (outputEl) {{\n",
              "    x.observe(outputEl, {childList: true});\n",
              "}}\n",
              "\n",
              "                        })\n",
              "                };\n",
              "                \n",
              "            </script>\n",
              "        </div>\n",
              "</body>\n",
              "</html>"
            ]
          },
          "metadata": {}
        }
      ]
    },
    {
      "cell_type": "code",
      "metadata": {
        "id": "QIBvHL1aOnOT"
      },
      "source": [
        "if use_wandb:\n",
        "  wandb.log({\"scores_hist\": fig})"
      ],
      "execution_count": 57,
      "outputs": []
    },
    {
      "cell_type": "code",
      "metadata": {
        "colab": {
          "base_uri": "https://localhost:8080/",
          "height": 1000
        },
        "id": "ohaxVQ6d9iiD",
        "outputId": "6c8d26e9-2ed7-46ce-f29a-8006516c8a77"
      },
      "source": [
        "result, details = recommend_tune(df_sim, \"Blue Moon [jazz1350]\")\n",
        "result.head(30)"
      ],
      "execution_count": 58,
      "outputs": [
        {
          "output_type": "execute_result",
          "data": {
            "text/html": [
              "<div>\n",
              "<style scoped>\n",
              "    .dataframe tbody tr th:only-of-type {\n",
              "        vertical-align: middle;\n",
              "    }\n",
              "\n",
              "    .dataframe tbody tr th {\n",
              "        vertical-align: top;\n",
              "    }\n",
              "\n",
              "    .dataframe thead th {\n",
              "        text-align: right;\n",
              "    }\n",
              "</style>\n",
              "<table border=\"1\" class=\"dataframe\">\n",
              "  <thead>\n",
              "    <tr style=\"text-align: right;\">\n",
              "      <th></th>\n",
              "      <th>index</th>\n",
              "      <th>reference</th>\n",
              "      <th>reference_titleid</th>\n",
              "      <th>similar_title</th>\n",
              "      <th>score</th>\n",
              "      <th>max</th>\n",
              "      <th>score_div_max</th>\n",
              "      <th>similar_titleid</th>\n",
              "    </tr>\n",
              "  </thead>\n",
              "  <tbody>\n",
              "    <tr>\n",
              "      <th>0</th>\n",
              "      <td>0</td>\n",
              "      <td>Blue Moon [jazz1350]</td>\n",
              "      <td>159</td>\n",
              "      <td>It Could Happen To You [jazz1350]</td>\n",
              "      <td>0.806186</td>\n",
              "      <td>0.806186</td>\n",
              "      <td>1.000000</td>\n",
              "      <td>621</td>\n",
              "    </tr>\n",
              "    <tr>\n",
              "      <th>1</th>\n",
              "      <td>1</td>\n",
              "      <td>Blue Moon [jazz1350]</td>\n",
              "      <td>159</td>\n",
              "      <td>Home Cookin' [jazz1350]</td>\n",
              "      <td>0.825285</td>\n",
              "      <td>0.825285</td>\n",
              "      <td>1.000000</td>\n",
              "      <td>470</td>\n",
              "    </tr>\n",
              "    <tr>\n",
              "      <th>2</th>\n",
              "      <td>2</td>\n",
              "      <td>Blue Moon [jazz1350]</td>\n",
              "      <td>159</td>\n",
              "      <td>You're Lucky To Me [trad]</td>\n",
              "      <td>0.792687</td>\n",
              "      <td>0.806186</td>\n",
              "      <td>0.983255</td>\n",
              "      <td>1738</td>\n",
              "    </tr>\n",
              "    <tr>\n",
              "      <th>3</th>\n",
              "      <td>3</td>\n",
              "      <td>Blue Moon [jazz1350]</td>\n",
              "      <td>159</td>\n",
              "      <td>Things We Did Last Summer, The [jazz1350]</td>\n",
              "      <td>0.788171</td>\n",
              "      <td>0.806186</td>\n",
              "      <td>0.977654</td>\n",
              "      <td>1175</td>\n",
              "    </tr>\n",
              "    <tr>\n",
              "      <th>4</th>\n",
              "      <td>4</td>\n",
              "      <td>Blue Moon [jazz1350]</td>\n",
              "      <td>159</td>\n",
              "      <td>Teach Me Tonight [jazz1350]</td>\n",
              "      <td>0.785689</td>\n",
              "      <td>0.806186</td>\n",
              "      <td>0.974575</td>\n",
              "      <td>1148</td>\n",
              "    </tr>\n",
              "    <tr>\n",
              "      <th>5</th>\n",
              "      <td>5</td>\n",
              "      <td>Blue Moon [jazz1350]</td>\n",
              "      <td>159</td>\n",
              "      <td>Nice 'n Easy [jazz1350]</td>\n",
              "      <td>0.780435</td>\n",
              "      <td>0.806186</td>\n",
              "      <td>0.968058</td>\n",
              "      <td>871</td>\n",
              "    </tr>\n",
              "    <tr>\n",
              "      <th>6</th>\n",
              "      <td>6</td>\n",
              "      <td>Blue Moon [jazz1350]</td>\n",
              "      <td>159</td>\n",
              "      <td>That Old Feeling [jazz1350]</td>\n",
              "      <td>0.767378</td>\n",
              "      <td>0.806186</td>\n",
              "      <td>0.951861</td>\n",
              "      <td>1156</td>\n",
              "    </tr>\n",
              "    <tr>\n",
              "      <th>7</th>\n",
              "      <td>7</td>\n",
              "      <td>Blue Moon [jazz1350]</td>\n",
              "      <td>159</td>\n",
              "      <td>Bye Bye Blackbird [jazz1350]</td>\n",
              "      <td>0.764863</td>\n",
              "      <td>0.806186</td>\n",
              "      <td>0.948742</td>\n",
              "      <td>206</td>\n",
              "    </tr>\n",
              "    <tr>\n",
              "      <th>8</th>\n",
              "      <td>8</td>\n",
              "      <td>Blue Moon [jazz1350]</td>\n",
              "      <td>159</td>\n",
              "      <td>Sophisticated Lady [jazz1350]</td>\n",
              "      <td>0.755573</td>\n",
              "      <td>0.806186</td>\n",
              "      <td>0.937219</td>\n",
              "      <td>1080</td>\n",
              "    </tr>\n",
              "    <tr>\n",
              "      <th>9</th>\n",
              "      <td>9</td>\n",
              "      <td>Blue Moon [jazz1350]</td>\n",
              "      <td>159</td>\n",
              "      <td>Don't Be That Way [jazz1350]</td>\n",
              "      <td>0.838108</td>\n",
              "      <td>0.894860</td>\n",
              "      <td>0.936580</td>\n",
              "      <td>318</td>\n",
              "    </tr>\n",
              "    <tr>\n",
              "      <th>10</th>\n",
              "      <td>10</td>\n",
              "      <td>Blue Moon [jazz1350]</td>\n",
              "      <td>159</td>\n",
              "      <td>Look For The Silver Lining [jazz1350]</td>\n",
              "      <td>0.832231</td>\n",
              "      <td>0.894860</td>\n",
              "      <td>0.930013</td>\n",
              "      <td>740</td>\n",
              "    </tr>\n",
              "    <tr>\n",
              "      <th>11</th>\n",
              "      <td>11</td>\n",
              "      <td>Blue Moon [jazz1350]</td>\n",
              "      <td>159</td>\n",
              "      <td>Moonlight In Vermont [jazz1350]</td>\n",
              "      <td>0.830247</td>\n",
              "      <td>0.894860</td>\n",
              "      <td>0.927796</td>\n",
              "      <td>823</td>\n",
              "    </tr>\n",
              "    <tr>\n",
              "      <th>12</th>\n",
              "      <td>12</td>\n",
              "      <td>Blue Moon [jazz1350]</td>\n",
              "      <td>159</td>\n",
              "      <td>Touch Of Your Lips, The [jazz1350]</td>\n",
              "      <td>0.742730</td>\n",
              "      <td>0.806186</td>\n",
              "      <td>0.921289</td>\n",
              "      <td>1205</td>\n",
              "    </tr>\n",
              "    <tr>\n",
              "      <th>13</th>\n",
              "      <td>13</td>\n",
              "      <td>Blue Moon [jazz1350]</td>\n",
              "      <td>159</td>\n",
              "      <td>It's You Or No One [jazz1350]</td>\n",
              "      <td>0.750686</td>\n",
              "      <td>0.815736</td>\n",
              "      <td>0.919885</td>\n",
              "      <td>643</td>\n",
              "    </tr>\n",
              "    <tr>\n",
              "      <th>14</th>\n",
              "      <td>14</td>\n",
              "      <td>Blue Moon [jazz1350]</td>\n",
              "      <td>159</td>\n",
              "      <td>Don't Go To Strangers [jazz1350]</td>\n",
              "      <td>0.739544</td>\n",
              "      <td>0.806186</td>\n",
              "      <td>0.917336</td>\n",
              "      <td>323</td>\n",
              "    </tr>\n",
              "    <tr>\n",
              "      <th>15</th>\n",
              "      <td>15</td>\n",
              "      <td>Blue Moon [jazz1350]</td>\n",
              "      <td>159</td>\n",
              "      <td>At Last [jazz1350]</td>\n",
              "      <td>0.819513</td>\n",
              "      <td>0.894860</td>\n",
              "      <td>0.915800</td>\n",
              "      <td>92</td>\n",
              "    </tr>\n",
              "    <tr>\n",
              "      <th>16</th>\n",
              "      <td>16</td>\n",
              "      <td>Blue Moon [jazz1350]</td>\n",
              "      <td>159</td>\n",
              "      <td>All God's Chillun Got Rhythm [jazz1350]</td>\n",
              "      <td>0.736676</td>\n",
              "      <td>0.806186</td>\n",
              "      <td>0.913778</td>\n",
              "      <td>57</td>\n",
              "    </tr>\n",
              "    <tr>\n",
              "      <th>17</th>\n",
              "      <td>17</td>\n",
              "      <td>Blue Moon [jazz1350]</td>\n",
              "      <td>159</td>\n",
              "      <td>Old Folks [jazz1350]</td>\n",
              "      <td>0.733574</td>\n",
              "      <td>0.806186</td>\n",
              "      <td>0.909931</td>\n",
              "      <td>898</td>\n",
              "    </tr>\n",
              "    <tr>\n",
              "      <th>18</th>\n",
              "      <td>18</td>\n",
              "      <td>Blue Moon [jazz1350]</td>\n",
              "      <td>159</td>\n",
              "      <td>Day By Day [jazz1350]</td>\n",
              "      <td>0.725500</td>\n",
              "      <td>0.806186</td>\n",
              "      <td>0.899916</td>\n",
              "      <td>283</td>\n",
              "    </tr>\n",
              "    <tr>\n",
              "      <th>19</th>\n",
              "      <td>19</td>\n",
              "      <td>Blue Moon [jazz1350]</td>\n",
              "      <td>159</td>\n",
              "      <td>Try A Little Tenderness [jazz1350]</td>\n",
              "      <td>0.712276</td>\n",
              "      <td>0.806186</td>\n",
              "      <td>0.883513</td>\n",
              "      <td>1216</td>\n",
              "    </tr>\n",
              "    <tr>\n",
              "      <th>20</th>\n",
              "      <td>20</td>\n",
              "      <td>Blue Moon [jazz1350]</td>\n",
              "      <td>159</td>\n",
              "      <td>I've Got You Under My Skin [jazz1350]</td>\n",
              "      <td>0.711098</td>\n",
              "      <td>0.806186</td>\n",
              "      <td>0.882052</td>\n",
              "      <td>568</td>\n",
              "    </tr>\n",
              "    <tr>\n",
              "      <th>21</th>\n",
              "      <td>21</td>\n",
              "      <td>Blue Moon [jazz1350]</td>\n",
              "      <td>159</td>\n",
              "      <td>It Was So Good While It Lasted [jazz1350]</td>\n",
              "      <td>0.710404</td>\n",
              "      <td>0.806186</td>\n",
              "      <td>0.881190</td>\n",
              "      <td>627</td>\n",
              "    </tr>\n",
              "    <tr>\n",
              "      <th>22</th>\n",
              "      <td>22</td>\n",
              "      <td>Blue Moon [jazz1350]</td>\n",
              "      <td>159</td>\n",
              "      <td>It's Been A Long Long Time [jazz1350]</td>\n",
              "      <td>0.707687</td>\n",
              "      <td>0.806186</td>\n",
              "      <td>0.877821</td>\n",
              "      <td>635</td>\n",
              "    </tr>\n",
              "    <tr>\n",
              "      <th>23</th>\n",
              "      <td>23</td>\n",
              "      <td>Blue Moon [jazz1350]</td>\n",
              "      <td>159</td>\n",
              "      <td>Don't Take Your Love From Me [jazz1350]</td>\n",
              "      <td>0.706914</td>\n",
              "      <td>0.806186</td>\n",
              "      <td>0.876861</td>\n",
              "      <td>326</td>\n",
              "    </tr>\n",
              "    <tr>\n",
              "      <th>24</th>\n",
              "      <td>24</td>\n",
              "      <td>Blue Moon [jazz1350]</td>\n",
              "      <td>159</td>\n",
              "      <td>Tea For Two [jazz1350]</td>\n",
              "      <td>0.706014</td>\n",
              "      <td>0.806186</td>\n",
              "      <td>0.875745</td>\n",
              "      <td>1147</td>\n",
              "    </tr>\n",
              "    <tr>\n",
              "      <th>25</th>\n",
              "      <td>25</td>\n",
              "      <td>Blue Moon [jazz1350]</td>\n",
              "      <td>159</td>\n",
              "      <td>Long Ago And Far Away [jazz1350]</td>\n",
              "      <td>0.780844</td>\n",
              "      <td>0.894860</td>\n",
              "      <td>0.872588</td>\n",
              "      <td>738</td>\n",
              "    </tr>\n",
              "    <tr>\n",
              "      <th>26</th>\n",
              "      <td>26</td>\n",
              "      <td>Blue Moon [jazz1350]</td>\n",
              "      <td>159</td>\n",
              "      <td>Idaho [trad]</td>\n",
              "      <td>0.719980</td>\n",
              "      <td>0.825285</td>\n",
              "      <td>0.872402</td>\n",
              "      <td>1522</td>\n",
              "    </tr>\n",
              "    <tr>\n",
              "      <th>27</th>\n",
              "      <td>27</td>\n",
              "      <td>Blue Moon [jazz1350]</td>\n",
              "      <td>159</td>\n",
              "      <td>It's Just Talk [jazz1350]</td>\n",
              "      <td>0.778329</td>\n",
              "      <td>0.894860</td>\n",
              "      <td>0.869778</td>\n",
              "      <td>639</td>\n",
              "    </tr>\n",
              "    <tr>\n",
              "      <th>28</th>\n",
              "      <td>28</td>\n",
              "      <td>Blue Moon [jazz1350]</td>\n",
              "      <td>159</td>\n",
              "      <td>Can't Help Lovin' Dat Man [jazz1350]</td>\n",
              "      <td>0.778230</td>\n",
              "      <td>0.894860</td>\n",
              "      <td>0.869667</td>\n",
              "      <td>215</td>\n",
              "    </tr>\n",
              "    <tr>\n",
              "      <th>29</th>\n",
              "      <td>29</td>\n",
              "      <td>Blue Moon [jazz1350]</td>\n",
              "      <td>159</td>\n",
              "      <td>Jody Grind, The [jazz1350]</td>\n",
              "      <td>0.775699</td>\n",
              "      <td>0.894860</td>\n",
              "      <td>0.866839</td>\n",
              "      <td>655</td>\n",
              "    </tr>\n",
              "  </tbody>\n",
              "</table>\n",
              "</div>"
            ],
            "text/plain": [
              "    index             reference  reference_titleid                              similar_title     score       max  score_div_max  similar_titleid\n",
              "0       0  Blue Moon [jazz1350]                159          It Could Happen To You [jazz1350]  0.806186  0.806186       1.000000              621\n",
              "1       1  Blue Moon [jazz1350]                159                    Home Cookin' [jazz1350]  0.825285  0.825285       1.000000              470\n",
              "2       2  Blue Moon [jazz1350]                159                  You're Lucky To Me [trad]  0.792687  0.806186       0.983255             1738\n",
              "3       3  Blue Moon [jazz1350]                159  Things We Did Last Summer, The [jazz1350]  0.788171  0.806186       0.977654             1175\n",
              "4       4  Blue Moon [jazz1350]                159                Teach Me Tonight [jazz1350]  0.785689  0.806186       0.974575             1148\n",
              "5       5  Blue Moon [jazz1350]                159                    Nice 'n Easy [jazz1350]  0.780435  0.806186       0.968058              871\n",
              "6       6  Blue Moon [jazz1350]                159                That Old Feeling [jazz1350]  0.767378  0.806186       0.951861             1156\n",
              "7       7  Blue Moon [jazz1350]                159               Bye Bye Blackbird [jazz1350]  0.764863  0.806186       0.948742              206\n",
              "8       8  Blue Moon [jazz1350]                159              Sophisticated Lady [jazz1350]  0.755573  0.806186       0.937219             1080\n",
              "9       9  Blue Moon [jazz1350]                159               Don't Be That Way [jazz1350]  0.838108  0.894860       0.936580              318\n",
              "10     10  Blue Moon [jazz1350]                159      Look For The Silver Lining [jazz1350]  0.832231  0.894860       0.930013              740\n",
              "11     11  Blue Moon [jazz1350]                159            Moonlight In Vermont [jazz1350]  0.830247  0.894860       0.927796              823\n",
              "12     12  Blue Moon [jazz1350]                159         Touch Of Your Lips, The [jazz1350]  0.742730  0.806186       0.921289             1205\n",
              "13     13  Blue Moon [jazz1350]                159              It's You Or No One [jazz1350]  0.750686  0.815736       0.919885              643\n",
              "14     14  Blue Moon [jazz1350]                159           Don't Go To Strangers [jazz1350]  0.739544  0.806186       0.917336              323\n",
              "15     15  Blue Moon [jazz1350]                159                         At Last [jazz1350]  0.819513  0.894860       0.915800               92\n",
              "16     16  Blue Moon [jazz1350]                159    All God's Chillun Got Rhythm [jazz1350]  0.736676  0.806186       0.913778               57\n",
              "17     17  Blue Moon [jazz1350]                159                       Old Folks [jazz1350]  0.733574  0.806186       0.909931              898\n",
              "18     18  Blue Moon [jazz1350]                159                      Day By Day [jazz1350]  0.725500  0.806186       0.899916              283\n",
              "19     19  Blue Moon [jazz1350]                159         Try A Little Tenderness [jazz1350]  0.712276  0.806186       0.883513             1216\n",
              "20     20  Blue Moon [jazz1350]                159      I've Got You Under My Skin [jazz1350]  0.711098  0.806186       0.882052              568\n",
              "21     21  Blue Moon [jazz1350]                159  It Was So Good While It Lasted [jazz1350]  0.710404  0.806186       0.881190              627\n",
              "22     22  Blue Moon [jazz1350]                159      It's Been A Long Long Time [jazz1350]  0.707687  0.806186       0.877821              635\n",
              "23     23  Blue Moon [jazz1350]                159    Don't Take Your Love From Me [jazz1350]  0.706914  0.806186       0.876861              326\n",
              "24     24  Blue Moon [jazz1350]                159                     Tea For Two [jazz1350]  0.706014  0.806186       0.875745             1147\n",
              "25     25  Blue Moon [jazz1350]                159           Long Ago And Far Away [jazz1350]  0.780844  0.894860       0.872588              738\n",
              "26     26  Blue Moon [jazz1350]                159                               Idaho [trad]  0.719980  0.825285       0.872402             1522\n",
              "27     27  Blue Moon [jazz1350]                159                  It's Just Talk [jazz1350]  0.778329  0.894860       0.869778              639\n",
              "28     28  Blue Moon [jazz1350]                159       Can't Help Lovin' Dat Man [jazz1350]  0.778230  0.894860       0.869667              215\n",
              "29     29  Blue Moon [jazz1350]                159                 Jody Grind, The [jazz1350]  0.775699  0.894860       0.866839              655"
            ]
          },
          "metadata": {},
          "execution_count": 58
        }
      ]
    },
    {
      "cell_type": "markdown",
      "metadata": {
        "id": "UveSDI6QWALe"
      },
      "source": [
        "Copy results into a dataframe for later logging to W&B"
      ]
    },
    {
      "cell_type": "code",
      "metadata": {
        "id": "AEEqdXBiT5bl"
      },
      "source": [
        "dd = pd.DataFrame(columns = recommender_results_cols)\n",
        "\n",
        "for tune in tunes_eval_list:\n",
        "  result, details = recommend_tune(df_sim, tune)\n",
        "  dd['id'] = result['index']\n",
        "  dd['method'] = 'tfidf'\n",
        "  dd['reference'] = tune\n",
        "  dd['similar'] = result['similar_title']\n",
        "  dd['score_div_max'] = result['score_div_max']\n",
        "  dd['score'] = result['score']\n",
        "\n",
        "recommender_results = recommender_results.append(dd)"
      ],
      "execution_count": 59,
      "outputs": []
    },
    {
      "cell_type": "markdown",
      "metadata": {
        "id": "wqaUEFqxXZYB"
      },
      "source": [
        "### Test Contrafacts"
      ]
    },
    {
      "cell_type": "markdown",
      "metadata": {
        "id": "563ncYqAfIyN"
      },
      "source": [
        "With the model, query the top N highest matches for each section. For a tune, if at least one section receives the recommendation  for the expected title, increase the match counter."
      ]
    },
    {
      "cell_type": "code",
      "metadata": {
        "id": "RVPtraR-hg0G"
      },
      "source": [
        "def test_contrafacts(tunes, index, model, N=15):\n",
        "  matches = 0\n",
        "  number_of_sections = 0\n",
        "  results = {}\n",
        "\n",
        "  for tune, similar_tune in tunes:\n",
        "\n",
        "    # loop over all sections of the tune\n",
        "    section_matches = 0\n",
        "    for s1 in title_to_sectionid[tune]:\n",
        "      query = processed_corpus[s1]\n",
        "      query_bow = dictionary.doc2bow(query)\n",
        "\n",
        "      # perform a similarity query against the corpus\n",
        "      similarities = index[model[query_bow]]\n",
        "      sims = sorted(enumerate(similarities), key=lambda item: -item[1])\n",
        "\n",
        "      # check if the section matches the expected title; consider only the first 15 recommendations\n",
        "      i = 0\n",
        "      for sectionid, value in sims:\n",
        "        if i >= N:\n",
        "          break\n",
        "        i += 1\n",
        "        if sectionid_to_title[sectionid] == similar_tune:\n",
        "          section_matches += 1\n",
        "\n",
        "    # for each title, increase matches if at least one of the section matched the expected title\n",
        "    if section_matches > 0:\n",
        "      matches += 1  \n",
        "      results[f'{tune}, {similar_tune}'] = 1\n",
        "    else:\n",
        "      results[f'{tune}, {similar_tune}'] = 0\n",
        "  \n",
        "  return matches, results\n"
      ],
      "execution_count": 60,
      "outputs": []
    },
    {
      "cell_type": "code",
      "metadata": {
        "colab": {
          "base_uri": "https://localhost:8080/"
        },
        "id": "Q628rO5DhxWD",
        "outputId": "8befe74a-ad88-4b4e-b933-2639da04fc17"
      },
      "source": [
        "topN = 15\n",
        "matches, results = test_contrafacts(contrafacts, index_tfidf, tfidf, topN)\n",
        "\n",
        "print(f\"Found matches: {matches} out of {len(results)}: {100*matches/len(results):.3f}%\")\n",
        "print() \n",
        "for rr, val in results.items():\n",
        "  if val == 0:\n",
        "    print(f\"{val}: {rr}\")"
      ],
      "execution_count": 61,
      "outputs": [
        {
          "output_type": "stream",
          "name": "stdout",
          "text": [
            "Found matches: 85 out of 111: 76.577%\n",
            "\n",
            "0: 26-2 [jazz1350], Confirmation [jazz1350]\n",
            "0: 52nd Street Theme [jazz1350], I Got Rhythm [jazz1350]\n",
            "0: Ballade [jazz1350], As Long As I Live [jazz1350]\n",
            "0: Dewey Square [jazz1350], Oh, Lady Be Good [jazz1350]\n",
            "0: Don't Be That Way [jazz1350], I Got Rhythm [jazz1350]\n",
            "0: Four On Six [jazz1350], Summertime [jazz1350]\n",
            "0: Good Bait [jazz1350], I Got Rhythm [jazz1350]\n",
            "0: In A Mellow Tone (In A Mellotone) [jazz1350], Rose Room [jazz1350]\n",
            "0: Lennie's Pennies [jazz1350], Pennies From Heaven [jazz1350]\n",
            "0: Little Rootie Tootie [jazz1350], I Got Rhythm [jazz1350]\n",
            "0: Little Willie Leaps [jazz1350], All God's Chillun Got Rhythm [jazz1350]\n",
            "0: Lullaby Of Birdland [jazz1350], Love Me Or Leave Me [jazz1350]\n",
            "0: My Little Suede Shoes [jazz1350], Jeepers Creepers [jazz1350]\n",
            "0: Quasimodo (Theme) [jazz1350], Embraceable You [jazz1350]\n",
            "0: Room 608 [jazz1350], I Got Rhythm [jazz1350]\n",
            "0: Scrapple From The Apple [jazz1350], Honeysuckle Rose [jazz1350]\n",
            "0: Sweet Sue, Just You [jazz1350], Honeysuckle Rose [jazz1350]\n",
            "0: Sweet Sue, Just You [jazz1350], Bye Bye Blackbird [jazz1350]\n",
            "0: These Foolish Things [jazz1350], Blue Moon [jazz1350]\n",
            "0: These Foolish Things [jazz1350], Soultrain [jazz1350]\n",
            "0: These Foolish Things [jazz1350], Why Do I Love You [jazz1350]\n",
            "0: Misty [jazz1350], September In The Rain [jazz1350]\n",
            "0: Exactly Like You [jazz1350], Jersey Bounce [trad]\n",
            "0: Take The A Train [jazz1350], Girl From Ipanema, The [jazz1350]\n",
            "0: On The Sunny Side Of The Street [jazz1350], You Stepped Out Of A Dream [jazz1350]\n",
            "0: My Secret Love [jazz1350], Samba De Orfeu [jazz1350]\n",
            "0: On The Sunny Side Of The Street [jazz1350], Mountain Greenery [jazz1350]\n",
            "0: These Foolish Things [jazz1350], Embraceable You [jazz1350]\n"
          ]
        }
      ]
    },
    {
      "cell_type": "code",
      "metadata": {
        "id": "8lKZukYybvMJ"
      },
      "source": [
        "model_name = 'tfidf'\n",
        "if use_wandb:\n",
        "  wandb.log(\n",
        "      {model_name: {\n",
        "                'contrafacts': {\n",
        "                    'topN': topN,\n",
        "                    'success': matches/len(contrafacts),\n",
        "                    #'results': results\n",
        "                    }\n",
        "                   },\n",
        "       'all_models': {\n",
        "           model_name: wandb.Table(\n",
        "               columns=[\"Title\", \"Match\"],\n",
        "               data=[[key, value] for key, value in results.items()]),\n",
        "       }\n",
        "       })"
      ],
      "execution_count": 62,
      "outputs": []
    },
    {
      "cell_type": "markdown",
      "metadata": {
        "id": "Phw7fBDk0px7"
      },
      "source": [
        "## Store TF-IDF Model to W&B"
      ]
    },
    {
      "cell_type": "code",
      "metadata": {
        "id": "KdYWJX-60pdd"
      },
      "source": [
        "if use_wandb:\n",
        "  model_artifact = wandb.Artifact(\n",
        "      \"model_tfidf\", \n",
        "      type=\"model\",\n",
        "      description=\"TF-IDF Model\",\n",
        "      metadata=\"\")\n",
        "\n",
        "  model_artifact.add_file(\"/content/index/tfidf.model\")\n",
        "  model_artifact.add_file(\"/content/index/tfidf.index\")\n",
        "  wandb.log_artifact(model_artifact)"
      ],
      "execution_count": 63,
      "outputs": []
    },
    {
      "cell_type": "markdown",
      "metadata": {
        "id": "Pj0mpWpahPu1"
      },
      "source": [
        "## Get Recommender Data for WebApp\n",
        "\n"
      ]
    },
    {
      "cell_type": "code",
      "metadata": {
        "id": "buRbSTWehvPP"
      },
      "source": [
        "tune_test = [\"These Foolish Things [jazz1350]\",\n",
        "             \"Misty [jazz1350]\"]"
      ],
      "execution_count": 64,
      "outputs": []
    },
    {
      "cell_type": "code",
      "metadata": {
        "colab": {
          "base_uri": "https://localhost:8080/"
        },
        "id": "kwdXs-pZjKKD",
        "outputId": "b45d195e-cf68-4567-be10-89acf5c81461"
      },
      "source": [
        "%%time\n",
        "if generate_webapp_data:\n",
        "  _tunes = list(tunes['title_playlist'].values())\n",
        "  #_tunes = tunes_eval_list\n",
        "\n",
        "  method = 'tfidf'\n",
        "\n",
        "  df_sim = get_sim_scores(_tunes, index_tfidf, tfidf)\n",
        "\n",
        "  result = None\n",
        "  for tune in _tunes:\n",
        "    tune_result, details = recommend_tune(df_sim, tune)\n",
        "    if result is None:\n",
        "      result = pd.DataFrame(columns=tune_result.columns)\n",
        "    result = result.append(tune_result)\n",
        "\n",
        "  # save to file\n",
        "  (result\n",
        "   .loc[:,['reference_titleid',\n",
        "           'similar_titleid',\n",
        "           'score']]\n",
        "   .to_csv(f'output/recommender_{method}.csv', encoding='utf8')\n",
        "  )\n",
        "  with zipfile.ZipFile(f'output/recommender_{method}.zip', 'w') as zf:\n",
        "    zf.write(f'output/recommender_{method}.csv')\n",
        "\n",
        "\n",
        "  # save to wandb\n",
        "  if use_wandb:\n",
        "    model_artifact = wandb.Artifact(\n",
        "        f\"recommender_{method}\", \n",
        "        type=\"csv\",\n",
        "        description=f\"Recommendations for each Tune using {method} Model (csv file)\",\n",
        "        metadata=\"\")\n",
        "\n",
        "    model_artifact.add_file(f'output/recommender_{method}.zip')\n",
        "    wandb.log_artifact(model_artifact)"
      ],
      "execution_count": 65,
      "outputs": [
        {
          "output_type": "stream",
          "name": "stdout",
          "text": [
            "CPU times: user 3 µs, sys: 0 ns, total: 3 µs\n",
            "Wall time: 6.44 µs\n"
          ]
        }
      ]
    },
    {
      "cell_type": "markdown",
      "metadata": {
        "id": "99xHBRsd--OB"
      },
      "source": [
        "# LSA (Latent Semantic Analysis), aka LSI (Latent Semantic Index) "
      ]
    },
    {
      "cell_type": "code",
      "metadata": {
        "id": "adsW9Uh9_JXs"
      },
      "source": [
        "from collections import defaultdict"
      ],
      "execution_count": 66,
      "outputs": []
    },
    {
      "cell_type": "code",
      "metadata": {
        "colab": {
          "base_uri": "https://localhost:8080/"
        },
        "id": "s3AJZGRD_IHW",
        "outputId": "1f833bc9-f82e-4029-991b-c4699bf8882e"
      },
      "source": [
        "num_topics = lsi_config['num_topics']\n",
        "\n",
        "# remove words that appear only once\n",
        "frequency = defaultdict(int)\n",
        "for text in processed_corpus:\n",
        "    for token in text:\n",
        "        frequency[token] += 1\n",
        "\n",
        "data = [[token for token in text if frequency[token] > 1] for text in processed_corpus]\n",
        "dictionary = corpora.Dictionary(data)\n",
        "\n",
        "# doc2bow counts the number of occurences of each distinct word,\n",
        "# converts the word to its integer word id and returns the result\n",
        "# as a sparse vector\n",
        "\n",
        "bow_corpus = [dictionary.doc2bow(text) for text in data]\n",
        "lsi = LsiModel(bow_corpus, id2word=dictionary, num_topics=num_topics)  # num_topics can be maximum the size of the number of unique tokens"
      ],
      "execution_count": 67,
      "outputs": [
        {
          "output_type": "stream",
          "name": "stderr",
          "text": [
            "2021-11-28 19:08:51,638 : INFO : adding document #0 to Dictionary(0 unique tokens: [])\n",
            "2021-11-28 19:08:51,741 : INFO : built Dictionary(72 unique tokens: ['Am', 'B7', 'C', 'C#', 'C7']...) from 5199 documents (total 79498 corpus positions)\n",
            "2021-11-28 19:08:51,742 : INFO : Dictionary lifecycle event {'msg': \"built Dictionary(72 unique tokens: ['Am', 'B7', 'C', 'C#', 'C7']...) from 5199 documents (total 79498 corpus positions)\", 'datetime': '2021-11-28T19:08:51.742758', 'gensim': '4.1.2', 'python': '3.7.12 (default, Sep 10 2021, 00:21:48) \\n[GCC 7.5.0]', 'platform': 'Linux-5.4.104+-x86_64-with-Ubuntu-18.04-bionic', 'event': 'created'}\n",
            "2021-11-28 19:08:51,806 : INFO : using serial LSI version on this node\n",
            "2021-11-28 19:08:51,808 : INFO : updating model with new documents\n",
            "2021-11-28 19:08:51,819 : INFO : preparing a new chunk of documents\n",
            "2021-11-28 19:08:51,860 : INFO : using 100 extra samples and 2 power iterations\n",
            "2021-11-28 19:08:51,862 : INFO : 1st phase: constructing (72, 200) action matrix\n",
            "2021-11-28 19:08:51,926 : INFO : orthonormalizing (72, 200) action matrix\n",
            "2021-11-28 19:08:51,964 : INFO : 2nd phase: running dense svd on (72, 5199) matrix\n",
            "2021-11-28 19:08:52,017 : INFO : computing the final decomposition\n",
            "2021-11-28 19:08:52,019 : INFO : keeping 72 factors (discarding 0.000% of energy spectrum)\n",
            "2021-11-28 19:08:52,027 : INFO : processed documents up to #5199\n",
            "2021-11-28 19:08:52,029 : INFO : topic #0(388.477): 0.713*\"C\" + 0.508*\"G7\" + 0.285*\"Dm\" + 0.177*\"D7\" + 0.169*\"A7\" + 0.161*\"F\" + 0.152*\"Am\" + 0.116*\"C7\" + 0.092*\"E7\" + 0.081*\"Em\"\n",
            "2021-11-28 19:08:52,032 : INFO : topic #1(166.159): 0.786*\"Am\" + -0.376*\"C\" + 0.336*\"E7\" + 0.261*\"Dm\" + 0.116*\"Bm7b5\" + 0.095*\"Em\" + 0.084*\"A7\" + 0.078*\"D7\" + 0.071*\"F7\" + 0.063*\"B7\"\n",
            "2021-11-28 19:08:52,034 : INFO : topic #2(127.488): 0.652*\"Dm\" + -0.358*\"Am\" + -0.351*\"C\" + 0.272*\"A7\" + 0.264*\"G7\" + 0.234*\"Em\" + -0.230*\"F\" + -0.175*\"E7\" + -0.148*\"D7\" + -0.065*\"G\"\n",
            "2021-11-28 19:08:52,036 : INFO : topic #3(111.736): -0.750*\"C7\" + 0.330*\"C\" + -0.272*\"D7\" + -0.251*\"G7\" + 0.235*\"Dm\" + -0.220*\"F\" + 0.176*\"Am\" + -0.139*\"F7\" + -0.106*\"Gm\" + -0.098*\"Bb7\"\n",
            "2021-11-28 19:08:52,039 : INFO : topic #4(101.963): -0.577*\"D7\" + 0.381*\"C7\" + -0.361*\"G7\" + 0.351*\"F\" + 0.292*\"Dm\" + -0.259*\"A7\" + 0.169*\"C\" + 0.144*\"Em\" + -0.144*\"E7\" + 0.113*\"Gm\"\n",
            "2021-11-28 19:08:52,042 : INFO : LsiModel lifecycle event {'msg': 'trained LsiModel(num_terms=72, num_topics=100, decay=1.0, chunksize=20000) in 0.23s', 'datetime': '2021-11-28T19:08:52.041981', 'gensim': '4.1.2', 'python': '3.7.12 (default, Sep 10 2021, 00:21:48) \\n[GCC 7.5.0]', 'platform': 'Linux-5.4.104+-x86_64-with-Ubuntu-18.04-bionic', 'event': 'created'}\n"
          ]
        }
      ]
    },
    {
      "cell_type": "code",
      "metadata": {
        "id": "EvxSQFfBBNMJ",
        "colab": {
          "base_uri": "https://localhost:8080/"
        },
        "outputId": "ed05e746-aa30-4593-f959-95f4086e69cb"
      },
      "source": [
        "index_lsi = similarities.Similarity('/content/index/index_lsi', lsi[bow_corpus], num_features=len(dictionary))"
      ],
      "execution_count": 68,
      "outputs": [
        {
          "output_type": "stream",
          "name": "stderr",
          "text": [
            "2021-11-28 19:08:52,054 : INFO : starting similarity index under /content/index/index_lsi\n"
          ]
        }
      ]
    },
    {
      "cell_type": "code",
      "metadata": {
        "id": "3saA6NY5Tzer"
      },
      "source": [
        "#index_lsi = similarities.SparseMatrixSimilarity(lsi[bow_corpus], num_features = len(dictionary))\n",
        "#index_lsi = similarities.MatrixSimilarity(lsi[bow_corpus])  # transform corpus to LSI space and index it\n"
      ],
      "execution_count": 69,
      "outputs": []
    },
    {
      "cell_type": "code",
      "metadata": {
        "colab": {
          "base_uri": "https://localhost:8080/"
        },
        "id": "F5pbDMVyfEtS",
        "outputId": "bcfb8703-d5d7-415b-a8ff-b253be626cec"
      },
      "source": [
        "lsi.save('/content/index/lsi.model')\n",
        "index_lsi.save('/content/index/lsi_matrixsim.index')\n"
      ],
      "execution_count": 70,
      "outputs": [
        {
          "output_type": "stream",
          "name": "stderr",
          "text": [
            "2021-11-28 19:08:52,667 : INFO : Projection lifecycle event {'fname_or_handle': '/content/index/lsi.model.projection', 'separately': 'None', 'sep_limit': 10485760, 'ignore': frozenset(), 'datetime': '2021-11-28T19:08:52.667407', 'gensim': '4.1.2', 'python': '3.7.12 (default, Sep 10 2021, 00:21:48) \\n[GCC 7.5.0]', 'platform': 'Linux-5.4.104+-x86_64-with-Ubuntu-18.04-bionic', 'event': 'saving'}\n",
            "2021-11-28 19:08:52,670 : INFO : saved /content/index/lsi.model.projection\n",
            "2021-11-28 19:08:52,672 : INFO : LsiModel lifecycle event {'fname_or_handle': '/content/index/lsi.model', 'separately': 'None', 'sep_limit': 10485760, 'ignore': ['projection', 'dispatcher'], 'datetime': '2021-11-28T19:08:52.672182', 'gensim': '4.1.2', 'python': '3.7.12 (default, Sep 10 2021, 00:21:48) \\n[GCC 7.5.0]', 'platform': 'Linux-5.4.104+-x86_64-with-Ubuntu-18.04-bionic', 'event': 'saving'}\n",
            "2021-11-28 19:08:52,674 : INFO : not storing attribute projection\n",
            "2021-11-28 19:08:52,676 : INFO : not storing attribute dispatcher\n",
            "2021-11-28 19:08:52,678 : INFO : saved /content/index/lsi.model\n",
            "2021-11-28 19:08:52,680 : INFO : creating matrix with 5199 documents and 72 features\n",
            "2021-11-28 19:08:52,709 : INFO : creating dense shard #0\n",
            "2021-11-28 19:08:52,712 : INFO : saving index shard to /content/index/index_lsi.0\n",
            "2021-11-28 19:08:52,714 : INFO : MatrixSimilarity lifecycle event {'fname_or_handle': '/content/index/index_lsi.0', 'separately': 'None', 'sep_limit': 10485760, 'ignore': frozenset(), 'datetime': '2021-11-28T19:08:52.714270', 'gensim': '4.1.2', 'python': '3.7.12 (default, Sep 10 2021, 00:21:48) \\n[GCC 7.5.0]', 'platform': 'Linux-5.4.104+-x86_64-with-Ubuntu-18.04-bionic', 'event': 'saving'}\n",
            "2021-11-28 19:08:52,719 : INFO : saved /content/index/index_lsi.0\n",
            "2021-11-28 19:08:52,722 : INFO : loading MatrixSimilarity object from /content/index/index_lsi.0\n",
            "2021-11-28 19:08:52,724 : INFO : MatrixSimilarity lifecycle event {'fname': '/content/index/index_lsi.0', 'datetime': '2021-11-28T19:08:52.724612', 'gensim': '4.1.2', 'python': '3.7.12 (default, Sep 10 2021, 00:21:48) \\n[GCC 7.5.0]', 'platform': 'Linux-5.4.104+-x86_64-with-Ubuntu-18.04-bionic', 'event': 'loaded'}\n",
            "2021-11-28 19:08:52,728 : INFO : Similarity lifecycle event {'fname_or_handle': '/content/index/lsi_matrixsim.index', 'separately': 'None', 'sep_limit': 10485760, 'ignore': frozenset(), 'datetime': '2021-11-28T19:08:52.728147', 'gensim': '4.1.2', 'python': '3.7.12 (default, Sep 10 2021, 00:21:48) \\n[GCC 7.5.0]', 'platform': 'Linux-5.4.104+-x86_64-with-Ubuntu-18.04-bionic', 'event': 'saving'}\n",
            "2021-11-28 19:08:52,731 : INFO : saved /content/index/lsi_matrixsim.index\n"
          ]
        }
      ]
    },
    {
      "cell_type": "code",
      "metadata": {
        "colab": {
          "base_uri": "https://localhost:8080/"
        },
        "id": "1udPIceqYk6S",
        "outputId": "8f2a416f-4771-4251-db5a-221c5a061f5e"
      },
      "source": [
        "!ls -la /content/index"
      ],
      "execution_count": 71,
      "outputs": [
        {
          "output_type": "stream",
          "name": "stdout",
          "text": [
            "total 1864\n",
            "drwxr-xr-x 2 root root    4096 Nov 28 19:08 .\n",
            "drwxr-xr-x 1 root root    4096 Nov 28 19:08 ..\n",
            "-rw-r--r-- 1 root root 1497984 Nov 28 19:08 index_lsi.0\n",
            "-rw-r--r-- 1 root root     742 Nov 28 19:08 lsi_matrixsim.index\n",
            "-rw-r--r-- 1 root root    2727 Nov 28 19:08 lsi.model\n",
            "-rw-r--r-- 1 root root   42728 Nov 28 19:08 lsi.model.projection\n",
            "-rw-r--r-- 1 root root  340992 Nov 28 19:08 tfidf.index\n",
            "-rw-r--r-- 1 root root    2782 Nov 28 19:08 tfidf.model\n"
          ]
        }
      ]
    },
    {
      "cell_type": "markdown",
      "metadata": {
        "id": "u05KD64Ai1uo"
      },
      "source": [
        "## Tests"
      ]
    },
    {
      "cell_type": "markdown",
      "metadata": {
        "id": "pDxTCAGv9MmZ"
      },
      "source": [
        "### Test for single tunes"
      ]
    },
    {
      "cell_type": "code",
      "metadata": {
        "colab": {
          "base_uri": "https://localhost:8080/"
        },
        "id": "khASSJ1eEuf5",
        "outputId": "1628a529-9f80-4665-ef83-b228503cc154"
      },
      "source": [
        "%%time\n",
        "df_sim = get_sim_scores(tunes_eval_list, index=index_lsi, model=lsi)\n",
        "\n",
        "# save a copy of the results; all results will be concatenated at the end\n",
        "df_lsi = df_sim[:]"
      ],
      "execution_count": 72,
      "outputs": [
        {
          "output_type": "stream",
          "name": "stdout",
          "text": [
            "\n",
            "--------------------------------------------------\n",
            "188 All God's Chillun Got Rhythm, section1 (A)\n",
            "189 All God's Chillun Got Rhythm, section2 (B)\n",
            "190 All God's Chillun Got Rhythm, section3 (A)\n",
            "191 All God's Chillun Got Rhythm, section4 (C)\n",
            "\n",
            "--------------------------------------------------\n",
            "198 All Of Me, section1 (A)\n",
            "199 All Of Me, section2 (B)\n",
            "200 All Of Me, section3 (A)\n",
            "201 All Of Me, section4 (C)\n",
            "\n",
            "--------------------------------------------------\n",
            "496 Blue Moon, section1 (A)\n",
            "497 Blue Moon, section2 (A)\n",
            "498 Blue Moon, section3 (B)\n",
            "499 Blue Moon, section4 (A)\n",
            "\n",
            "--------------------------------------------------\n",
            "653 Bye Bye Blackbird, section1 (A)\n",
            "654 Bye Bye Blackbird, section2 (B)\n",
            "\n",
            "--------------------------------------------------\n",
            "1220 Exactly Like You, section1 (A)\n",
            "1221 Exactly Like You, section2 (A)\n",
            "1222 Exactly Like You, section3 (B)\n",
            "1223 Exactly Like You, section4 (A)\n",
            "\n",
            "--------------------------------------------------\n",
            "1538 Honeysuckle Rose, section1 (A)\n",
            "1539 Honeysuckle Rose, section2 (A)\n",
            "1540 Honeysuckle Rose, section3 (B)\n",
            "1541 Honeysuckle Rose, section4 (A)\n",
            "\n",
            "--------------------------------------------------\n",
            "1647 I Got Rhythm, section1 (A)\n",
            "1648 I Got Rhythm, section2 (A)\n",
            "1649 I Got Rhythm, section3 (B)\n",
            "1650 I Got Rhythm, section4 (A)\n",
            "\n",
            "--------------------------------------------------\n",
            "2670 Misty, section1 (A)\n",
            "2671 Misty, section2 (A)\n",
            "2672 Misty, section3 (B)\n",
            "2673 Misty, section4 (A)\n",
            "\n",
            "--------------------------------------------------\n",
            "2857 Naima, section1 (A)\n",
            "2858 Naima, section2 (A)\n",
            "2859 Naima, section3 (B)\n",
            "2860 Naima, section4 (A)\n",
            "\n",
            "--------------------------------------------------\n",
            "4920 Old Fashioned Love, section0 (nan)\n",
            "\n",
            "--------------------------------------------------\n",
            "3006 On The Sunny Side Of The Street, section1 (A)\n",
            "3007 On The Sunny Side Of The Street, section2 (A)\n",
            "3008 On The Sunny Side Of The Street, section3 (B)\n",
            "3009 On The Sunny Side Of The Street, section4 (A)\n",
            "\n",
            "--------------------------------------------------\n",
            "3746 Sweet Sue, Just You, section1 (A)\n",
            "3747 Sweet Sue, Just You, section2 (A)\n",
            "3748 Sweet Sue, Just You, section3 (B)\n",
            "3749 Sweet Sue, Just You, section4 (A)\n",
            "\n",
            "--------------------------------------------------\n",
            "3860 These Foolish Things, section1 (A)\n",
            "3861 These Foolish Things, section2 (A)\n",
            "3862 These Foolish Things, section3 (B)\n",
            "3863 These Foolish Things, section4 (A)\n",
            "CPU times: user 10 s, sys: 4.7 s, total: 14.7 s\n",
            "Wall time: 9.68 s\n"
          ]
        }
      ]
    },
    {
      "cell_type": "code",
      "metadata": {
        "colab": {
          "base_uri": "https://localhost:8080/",
          "height": 542
        },
        "id": "X31lkvUsDAsU",
        "outputId": "6f045c5c-b0fb-4356-d45d-0853304d89e0"
      },
      "source": [
        "import plotly.express as px\n",
        "fig = px.histogram(df_sim, x=\"score\", nbins=50, title='LSI Scores')\n",
        "fig.show()"
      ],
      "execution_count": 73,
      "outputs": [
        {
          "output_type": "display_data",
          "data": {
            "text/html": [
              "<html>\n",
              "<head><meta charset=\"utf-8\" /></head>\n",
              "<body>\n",
              "    <div>\n",
              "            <script src=\"https://cdnjs.cloudflare.com/ajax/libs/mathjax/2.7.5/MathJax.js?config=TeX-AMS-MML_SVG\"></script><script type=\"text/javascript\">if (window.MathJax) {MathJax.Hub.Config({SVG: {font: \"STIX-Web\"}});}</script>\n",
              "                <script type=\"text/javascript\">window.PlotlyConfig = {MathJaxConfig: 'local'};</script>\n",
              "        <script src=\"https://cdn.plot.ly/plotly-latest.min.js\"></script>    \n",
              "            <div id=\"81595146-3dec-49d9-989a-7f7c86efacf5\" class=\"plotly-graph-div\" style=\"height:525px; width:100%;\"></div>\n",
              "            <script type=\"text/javascript\">\n",
              "                \n",
              "                    window.PLOTLYENV=window.PLOTLYENV || {};\n",
              "                    \n",
              "                if (document.getElementById(\"81595146-3dec-49d9-989a-7f7c86efacf5\")) {\n",
              "                    Plotly.newPlot(\n",
              "                        '81595146-3dec-49d9-989a-7f7c86efacf5',\n",
              "                        [{\"alignmentgroup\": \"True\", \"bingroup\": \"x\", \"hoverlabel\": {\"namelength\": 0}, \"hovertemplate\": \"score=%{x}<br>count=%{y}\", \"legendgroup\": \"\", \"marker\": {\"color\": \"#636efa\"}, \"name\": \"\", \"nbinsx\": 50, \"offsetgroup\": \"\", \"orientation\": \"v\", \"showlegend\": false, \"type\": \"histogram\", \"x\": [0.9749999642372131, 0.9695897698402405, 0.9682458639144897, 0.9561828970909119, 0.9560661911964417, 0.9560660719871521, 0.9547033309936523, 0.9545942544937134, 0.9463399648666382, 0.9463399648666382, 0.9429277777671814, 0.9407528042793274, 0.9398254752159119, 0.9398254752159119, 0.938971221446991, 0.9383149147033691, 0.9374998807907104, 0.9360567331314087, 0.9360567331314087, 0.9360566139221191, 0.9359709024429321, 0.9354144930839539, 0.9341286420822144, 0.9341285228729248, 0.9327731728553772, 0.9284766912460327, 0.9284766912460327, 0.9282792210578918, 0.9280776381492615, 0.9280775785446167, 0.9280775785446167, 0.9309491515159607, 0.9013877511024475, 0.8966438174247742, 0.8894991874694824, 0.8894991278648376, 0.8882311582565308, 0.8869684934616089, 0.882522702217102, 0.8744745850563049, 0.8702852129936218, 0.8682430982589722, 0.8674724102020264, 0.8608284592628479, 0.8608283400535583, 0.8600261807441711, 0.8593378663063049, 0.8589844703674316, 0.8561727404594421, 0.8561727404594421, 0.8561727404594421, 0.8561727404594421, 0.8561726212501526, 0.8559210300445557, 0.8540167808532715, 0.8530421853065491, 0.849207878112793, 0.8492078185081482, 0.8492077589035034, 0.8492076992988586, 0.8473185896873474, 0.8473185300827026, 0.9749999642372131, 0.9695897698402405, 0.9682458639144897, 0.9561828970909119, 0.9560661911964417, 0.9560660719871521, 0.9547033309936523, 0.9545942544937134, 0.9463399648666382, 0.9463399648666382, 0.9429277777671814, 0.9407528042793274, 0.9398254752159119, 0.9398254752159119, 0.938971221446991, 0.9383149147033691, 0.9374998807907104, 0.9360567331314087, 0.9360567331314087, 0.9360566139221191, 0.9359709024429321, 0.9354144930839539, 0.9341286420822144, 0.9341285228729248, 0.9327731728553772, 0.9284766912460327, 0.9284766912460327, 0.9282792210578918, 0.9280776381492615, 0.9280775785446167, 0.9280775785446167, 0.9503288269042969, 0.9503288269042969, 0.9486833214759827, 0.931555986404419, 0.9302605390548706, 0.9296696782112122, 0.9219545125961304, 0.9219545125961304, 0.921954333782196, 0.9203580617904663, 0.9192387461662292, 0.9135002493858337, 0.913500189781189, 0.9109801650047302, 0.9101913571357727, 0.9101912975311279, 0.9091548919677734, 0.9091548919677734, 0.9091548919677734, 0.908738911151886, 0.9080252647399902, 0.9080251455307007, 0.9071146845817566, 0.9071146845817566, 0.9071146845817566, 0.9071146845817566, 0.9068452715873718, 0.9068452715873718, 0.906845211982727, 0.9057893753051758, 0.9057893753051758, 0.9622504711151123, 0.8944272398948669, 0.8944271802902222, 0.8944271802902222, 0.8749999403953552, 0.8728715777397156, 0.8660255670547485, 0.8660255670547485, 0.866025447845459, 0.8574930429458618, 0.851205587387085, 0.8488746881484985, 0.8488746881484985, 0.8488746881484985, 0.8486684560775757, 0.8463273048400879, 0.8461140990257263, 0.8401679992675781, 0.8391464948654175, 0.8391464948654175, 0.8360795974731445, 0.8356290459632874, 0.8320503830909729, 0.8320503830909729, 0.8249579668045044, 0.8249579071998596, 0.8249579071998596, 0.8249578475952148, 0.8164966106414795, 0.8164965510368347, 0.8164965510368347, 0.9660918712615967, 0.9561828374862671, 0.9449111819267273, 0.9354144930839539, 0.9354143738746643, 0.9354143738746643, 0.9354143738746643, 0.933138906955719, 0.933138906955719, 0.9258201718330383, 0.9116846323013306, 0.9083737730979919, 0.9074852466583252, 0.9074851870536804, 0.904106080532074, 0.8970851898193359, 0.8964215517044067, 0.8933250308036804, 0.8908708095550537, 0.8908708095550537, 0.889499306678772, 0.8894991874694824, 0.8671099543571472, 0.8671098947525024, 0.8671098947525024, 0.8583950996398926, 0.8583950400352478, 0.8583325147628784, 0.8583324551582336, 0.8571429252624512, 0.8571428060531616, 0.9622504711151123, 0.8944272398948669, 0.8944271802902222, 0.8944271802902222, 0.8749999403953552, 0.8728715777397156, 0.8660255670547485, 0.8660255670547485, 0.866025447845459, 0.8574930429458618, 0.851205587387085, 0.8488746881484985, 0.8488746881484985, 0.8488746881484985, 0.8486684560775757, 0.8463273048400879, 0.8461140990257263, 0.8401679992675781, 0.8391464948654175, 0.8391464948654175, 0.8360795974731445, 0.8356290459632874, 0.8320503830909729, 0.8320503830909729, 0.8249579668045044, 0.8249579071998596, 0.8249579071998596, 0.8249578475952148, 0.8164966106414795, 0.8164965510368347, 0.8164965510368347, 0.9770084619522095, 0.9331390261650085, 0.928571343421936, 0.926561713218689, 0.925819993019104, 0.918262243270874, 0.9134141802787781, 0.9104655385017395, 0.9104655385017395, 0.9086881875991821, 0.9072647094726562, 0.9035078287124634, 0.8987171649932861, 0.8986450433731079, 0.8976657390594482, 0.8976655602455139, 0.8970851898193359, 0.8970851302146912, 0.8966531753540039, 0.8966531753540039, 0.8966333866119385, 0.8966333866119385, 0.8966333866119385, 0.8966333270072937, 0.8950411677360535, 0.8934049606323242, 0.8933250904083252, 0.8916451930999756, 0.891645073890686, 0.8910421133041382, 0.8910420536994934, 0.97826087474823, 0.9680038690567017, 0.9680038690567017, 0.9609864354133606, 0.9583726525306702, 0.9569291472434998, 0.9569291472434998, 0.9567297697067261, 0.9567297697067261, 0.9534074068069458, 0.953015148639679, 0.9517337083816528, 0.9515873193740845, 0.9508562088012695, 0.9497161507606506, 0.9497161507606506, 0.9486438035964966, 0.9486437439918518, 0.9486437439918518, 0.9480385184288025, 0.9473729729652405, 0.945545494556427, 0.9455453753471375, 0.9443842172622681, 0.943041980266571, 0.943041980266571, 0.9421553611755371, 0.9418280720710754, 0.9409439563751221, 0.9405701756477356, 0.9405701756477356, 0.9276336431503296, 0.9261982440948486, 0.9180845022201538, 0.9180845022201538, 0.9140905141830444, 0.9109356999397278, 0.9102991819381714, 0.9095085859298706, 0.9095085859298706, 0.9081083536148071, 0.9081082344055176, 0.9080252647399902, 0.9046624302864075, 0.9007547497749329, 0.9007547497749329, 0.9002837538719177, 0.8978642821311951, 0.8973817825317383, 0.8973644971847534, 0.8956076502799988, 0.8952859044075012, 0.8951714038848877, 0.893259584903717, 0.8926786184310913, 0.8926784992218018, 0.8917926549911499, 0.8911327719688416, 0.8911327719688416, 0.8911327719688416, 0.8892973065376282, 0.8892972469329834, 0.9284766912460327, 0.9143006801605225, 0.900500476360321, 0.8965518474578857, 0.8946300745010376, 0.8938528895378113, 0.891337513923645, 0.885818362236023, 0.8844478130340576, 0.8823398351669312, 0.8820528388023376, 0.8817846775054932, 0.8791323304176331, 0.8778666257858276, 0.8778666257858276, 0.8754209876060486, 0.8753763437271118, 0.8727859258651733, 0.872583270072937, 0.8719775080680847, 0.8718127012252808, 0.8703171610832214, 0.8703171610832214, 0.8703171610832214, 0.8703171014785767, 0.870022177696228, 0.8685104250907898, 0.8671486973762512, 0.8671486377716064, 0.8671486377716064, 0.8656303882598877, 0.97826087474823, 0.9680038690567017, 0.9680038690567017, 0.9609864354133606, 0.9583726525306702, 0.9569291472434998, 0.9569291472434998, 0.9567297697067261, 0.9567297697067261, 0.9534074068069458, 0.953015148639679, 0.9517337083816528, 0.9515873193740845, 0.9508562088012695, 0.9497161507606506, 0.9497161507606506, 0.9486438035964966, 0.9486437439918518, 0.9486437439918518, 0.9480385184288025, 0.9473729729652405, 0.945545494556427, 0.9455453753471375, 0.9443842172622681, 0.943041980266571, 0.943041980266571, 0.9421553611755371, 0.9418280720710754, 0.9409439563751221, 0.9405701756477356, 0.9405701756477356, 0.984309196472168, 0.9836211204528809, 0.977774977684021, 0.9751577377319336, 0.9751577377319336, 0.9751577377319336, 0.9751577377319336, 0.9751577377319336, 0.9724150896072388, 0.9722036123275757, 0.9719409942626953, 0.9705232381820679, 0.9692704081535339, 0.9683641195297241, 0.9683640003204346, 0.9683640003204346, 0.9663777351379395, 0.9650869369506836, 0.964012861251831, 0.9619719982147217, 0.960838794708252, 0.9569486379623413, 0.9562594890594482, 0.9553254246711731, 0.9553254246711731, 0.9553254246711731, 0.9552974700927734, 0.9552974700927734, 0.9541301727294922, 0.9541299343109131, 0.9532413482666016, 0.9513311386108398, 0.9501319527626038, 0.9501192569732666, 0.9417287111282349, 0.9412096738815308, 0.937743067741394, 0.937743067741394, 0.9374334216117859, 0.9349288940429688, 0.934928834438324, 0.934928834438324, 0.934928834438324, 0.934502363204956, 0.934502363204956, 0.9331203103065491, 0.9331203103065491, 0.9331203103065491, 0.9331203103065491, 0.9331203103065491, 0.9320410490036011, 0.931555986404419, 0.9311729669570923, 0.9301145076751709, 0.9299207925796509, 0.9297349452972412, 0.9297348260879517, 0.9292550086975098, 0.9263103604316711, 0.9251285791397095, 0.9242494702339172, 0.9242494702339172, 0.9780192375183105, 0.9780192375183105, 0.9780192375183105, 0.9780192375183105, 0.9680039286613464, 0.9680039286613464, 0.9680039286613464, 0.9677979946136475, 0.9613049030303955, 0.9591663479804993, 0.9591663479804993, 0.9591663479804993, 0.9567298293113708, 0.95652174949646, 0.9555330872535706, 0.9555330872535706, 0.9550418853759766, 0.9542913436889648, 0.9542196393013, 0.9533288478851318, 0.9517336487770081, 0.9504969716072083, 0.9477928280830383, 0.9471139907836914, 0.947045087814331, 0.9452130794525146, 0.9451119303703308, 0.9436284899711609, 0.9404987096786499, 0.9403905868530273, 0.9389454126358032, 0.9999998807907104, 0.9999998807907104, 0.9796081781387329, 0.9642364978790283, 0.9629138708114624, 0.9629138708114624, 0.9629138708114624, 0.9622504711151123, 0.9622504115104675, 0.9547861218452454, 0.9547861218452454, 0.9547861218452454, 0.9547861218452454, 0.9523259401321411, 0.9491580724716187, 0.9481224417686462, 0.9476127624511719, 0.9470327496528625, 0.9467291831970215, 0.9465136528015137, 0.9449111819267273, 0.9444444179534912, 0.943755567073822, 0.9434254169464111, 0.9428090453147888, 0.9428090453147888, 0.9428090453147888, 0.9428090453147888, 0.9428090453147888, 0.942808985710144, 0.941484808921814, 0.9128709435462952, 0.910980224609375, 0.8989331126213074, 0.8970851898193359, 0.8970851302146912, 0.8952738046646118, 0.895273745059967, 0.8914003372192383, 0.8885233402252197, 0.8871256709098816, 0.8856148719787598, 0.8852704167366028, 0.8807710409164429, 0.8807710409164429, 0.8783100843429565, 0.8767139911651611, 0.8728715181350708, 0.872871458530426, 0.8672272562980652, 0.8662301301956177, 0.8662301301956177, 0.8662301301956177, 0.866025447845459, 0.866025447845459, 0.8660253882408142, 0.8631112575531006, 0.8630338907241821, 0.8614110946655273, 0.8608285188674927, 0.8608283996582031, 0.8608283996582031, 0.9780192375183105, 0.9780192375183105, 0.9780192375183105, 0.9780192375183105, 0.9680039286613464, 0.9680039286613464, 0.9680039286613464, 0.9677979946136475, 0.9613049030303955, 0.9591663479804993, 0.9591663479804993, 0.9591663479804993, 0.9567298293113708, 0.95652174949646, 0.9555330872535706, 0.9555330872535706, 0.9550418853759766, 0.9542913436889648, 0.9542196393013, 0.9533288478851318, 0.9517336487770081, 0.9504969716072083, 0.9477928280830383, 0.9471139907836914, 0.947045087814331, 0.9452130794525146, 0.9451119303703308, 0.9436284899711609, 0.9404987096786499, 0.9403905868530273, 0.9389454126358032, 0.9767818450927734, 0.9675326347351074, 0.9635460376739502, 0.9621405601501465, 0.9603921175003052, 0.9596788883209229, 0.9594032764434814, 0.9534624814987183, 0.9534624814987183, 0.9532307386398315, 0.9493857622146606, 0.9489284753799438, 0.9489284753799438, 0.9489284753799438, 0.9489284753799438, 0.9489284753799438, 0.9486833810806274, 0.9463773965835571, 0.9436284899711609, 0.9430054426193237, 0.9429903030395508, 0.942990243434906, 0.942990243434906, 0.9408842325210571, 0.940019428730011, 0.9391485452651978, 0.9389861226081848, 0.9389861226081848, 0.9389861226081848, 0.9389710426330566, 0.9389709830284119, 0.9765536189079285, 0.9750854969024658, 0.974913477897644, 0.974913477897644, 0.974913477897644, 0.9723448753356934, 0.9723448753356934, 0.9716054201126099, 0.9707251787185669, 0.9673306941986084, 0.9673306941986084, 0.9609277248382568, 0.9607690572738647, 0.9607689380645752, 0.9607689380645752, 0.9578132629394531, 0.9575175642967224, 0.955316960811615, 0.9542195796966553, 0.9534240961074829, 0.9529258012771606, 0.9518744945526123, 0.9516485929489136, 0.9516485333442688, 0.9516485333442688, 0.951648473739624, 0.951648473739624, 0.951648473739624, 0.951648473739624, 0.951648473739624, 0.9510344862937927, 1.0, 1.0, 1.0, 1.0, 1.0, 1.0, 1.0, 1.0, 0.9701426029205322, 0.9701424837112427, 0.9354143738746643, 0.9354143142700195, 0.9354143142700195, 0.9354143142700195, 0.917663037776947, 0.8944271802902222, 0.8750001192092896, 0.8749999403953552, 0.866025447845459, 0.8660253286361694, 0.8660253286361694, 0.8504199981689453, 0.8498366475105286, 0.8333333730697632, 0.8320503234863281, 0.8320503234863281, 0.8249579668045044, 0.8164965510368347, 0.8164965510368347, 0.812604546546936, 0.8111474514007568, 0.9767818450927734, 0.9675326347351074, 0.9635460376739502, 0.9621405601501465, 0.9603921175003052, 0.9596788883209229, 0.9594032764434814, 0.9534624814987183, 0.9534624814987183, 0.9532307386398315, 0.9493857622146606, 0.9489284753799438, 0.9489284753799438, 0.9489284753799438, 0.9489284753799438, 0.9489284753799438, 0.9486833810806274, 0.9463773965835571, 0.9436284899711609, 0.9430054426193237, 0.9429903030395508, 0.942990243434906, 0.942990243434906, 0.9408842325210571, 0.940019428730011, 0.9391485452651978, 0.9389861226081848, 0.9389861226081848, 0.9389861226081848, 0.9389710426330566, 0.9389709830284119, 0.9271050095558167, 0.9233805537223816, 0.9233805537223816, 0.9233804941177368, 0.922330915927887, 0.9185587763786316, 0.9150798916816711, 0.9091921448707581, 0.9086882472038269, 0.9086881875991821, 0.9068453311920166, 0.9068453311920166, 0.9068453311920166, 0.9068453311920166, 0.9067235589027405, 0.9057895541191101, 0.9057257175445557, 0.9057255983352661, 0.9036961197853088, 0.9036961197853088, 0.9036425352096558, 0.9035080075263977, 0.9027076959609985, 0.9004504680633545, 0.9000000357627869, 0.8992518782615662, 0.8977311253547668, 0.8977310657501221, 0.8959786295890808, 0.8959786295890808, 0.8959786295890808, 0.9318910837173462, 0.9318910837173462, 0.9318910837173462, 0.9284141063690186, 0.9239885807037354, 0.9214065670967102, 0.9185316562652588, 0.9185314774513245, 0.9185314774513245, 0.9132660031318665, 0.9121593832969666, 0.9121593236923218, 0.9082949757575989, 0.907442569732666, 0.9036519527435303, 0.9014203548431396, 0.8994013071060181, 0.8994013071060181, 0.8994013071060181, 0.8994011878967285, 0.898322343826294, 0.8971498608589172, 0.8956221342086792, 0.8927096128463745, 0.892413318157196, 0.8924131989479065, 0.8922685980796814, 0.8922268748283386, 0.8919915556907654, 0.8914552927017212, 0.8898983001708984, 1.0, 1.0, 1.0, 1.0, 1.0, 1.0, 1.0, 1.0, 1.0, 1.0, 1.0, 1.0, 1.0, 1.0, 1.0, 1.0, 1.0, 1.0, 1.0, 1.0, 1.0, 1.0, 0.9819805026054382, 0.9701424837112427, 0.9594032764434814, 0.9444444179534912, 0.9354143738746643, 0.9354143142700195, 0.9176629185676575, 0.9036961793899536, 0.8872442841529846, 0.9504969120025635, 0.9495629072189331, 0.9428291916847229, 0.9428291916847229, 0.9428291916847229, 0.9428291916847229, 0.9415245056152344, 0.9306780099868774, 0.9306631088256836, 0.9304842352867126, 0.9304842352867126, 0.9304841756820679, 0.9304841756820679, 0.9243422746658325, 0.9210566282272339, 0.9210566282272339, 0.9187795519828796, 0.9186934232711792, 0.9173649549484253, 0.9173649549484253, 0.9173649549484253, 0.9163298606872559, 0.9163298606872559, 0.9154753684997559, 0.9150522351264954, 0.9150521755218506, 0.9150521755218506, 0.9143939018249512, 0.9143939018249512, 0.9141045808792114, 0.9137172698974609, 0.9746794104576111, 0.9550231099128723, 0.9534626007080078, 0.9486833214759827, 0.9486833214759827, 0.9467292428016663, 0.9449111819267273, 0.9341986775398254, 0.9316951036453247, 0.9316949844360352, 0.9316949248313904, 0.9316949248313904, 0.9316949248313904, 0.9315560460090637, 0.9296697378158569, 0.9237022995948792, 0.9237022995948792, 0.9237022399902344, 0.9237022399902344, 0.9237021803855896, 0.9216353297233582, 0.9209109544754028, 0.9203580021858215, 0.9203580021858215, 0.9203579425811768, 0.9190182089805603, 0.9170604944229126, 0.9141741991043091, 0.9135002493858337, 0.9135002493858337, 0.9135002493858337, 0.9574272036552429, 0.9486832618713379, 0.9449111223220825, 0.942808985710144, 0.9415962100028992, 0.9298988580703735, 0.9244734644889832, 0.923869788646698, 0.9223309755325317, 0.9185587167739868, 0.9185585975646973, 0.9141379594802856, 0.9141378998756409, 0.9141378402709961, 0.9138599038124084, 0.9131711721420288, 0.9128710031509399, 0.9128710031509399, 0.9128708839416504, 0.9128708243370056, 0.9128708243370056, 0.9128708243370056, 0.9128708243370056, 0.9112955927848816, 0.9103456735610962, 0.9097176790237427, 0.9097176790237427, 0.9082950949668884, 0.907218337059021, 0.9060606360435486, 0.9058215618133545, 0.8682432174682617, 0.8362420201301575, 0.827837347984314, 0.8278372883796692, 0.8006407618522644, 0.8006407022476196, 0.8006407022476196, 0.7893521785736084, 0.7893521785736084, 0.7844645977020264, 0.7692307233810425, 0.7692307233810425, 0.7627127170562744, 0.7627127170562744, 0.7614996433258057, 0.7526177167892456, 0.7518093585968018, 0.7518093585968018, 0.7472646832466125, 0.7433851957321167, 0.7412493228912354, 0.7412493228912354, 0.7412493228912354, 0.7412493228912354, 0.7399400472640991, 0.7399400472640991, 0.7396003007888794, 0.7354355454444885, 0.7354355454444885, 0.7354355454444885, 0.7282020449638367, 0.9565216898918152, 0.9565216898918152, 0.949898898601532, 0.9457323551177979, 0.9451745748519897, 0.944369912147522, 0.94374018907547, 0.94374018907547, 0.94374018907547, 0.9383846521377563, 0.9383147954940796, 0.9363822340965271, 0.9363821148872375, 0.9348927736282349, 0.9337990283966064, 0.9337990283966064, 0.9335638284683228, 0.9325048923492432, 0.9325048327445984, 0.9325047731399536, 0.9325047731399536, 0.9308956265449524, 0.9292837381362915, 0.9292836785316467, 0.9274376630783081, 0.926734447479248, 0.9255480170249939, 0.9231327176094055, 0.9229580760002136, 0.9223132133483887, 0.9215123057365417, 0.7893521785736084, 0.7682733535766602, 0.7627700567245483, 0.7627700567245483, 0.7378647923469543, 0.7378647923469543, 0.730296790599823, 0.730296790599823, 0.718184769153595, 0.718184769153595, 0.718184769153595, 0.71611487865448, 0.7046642303466797, 0.7046642303466797, 0.7046642303466797, 0.7000000476837158, 0.6885303854942322, 0.6761233806610107, 0.6751399636268616, 0.670820415019989, 0.6708203554153442, 0.6708203554153442, 0.6643638610839844, 0.6529286503791809, 0.6527533531188965, 0.6507914066314697, 0.6425755023956299, 0.6404447555541992, 0.6368938684463501, 0.636881411075592, 0.6363961100578308, 0.7893521785736084, 0.7682733535766602, 0.7627700567245483, 0.7627700567245483, 0.7378647923469543, 0.7378647923469543, 0.730296790599823, 0.730296790599823, 0.718184769153595, 0.718184769153595, 0.718184769153595, 0.71611487865448, 0.7046642303466797, 0.7046642303466797, 0.7046642303466797, 0.7000000476837158, 0.6885303854942322, 0.6761233806610107, 0.6751399636268616, 0.670820415019989, 0.6708203554153442, 0.6708203554153442, 0.6643638610839844, 0.6529286503791809, 0.6527533531188965, 0.6507914066314697, 0.6425755023956299, 0.6404447555541992, 0.6368938684463501, 0.636881411075592, 0.6363961100578308, 0.742781400680542, 0.7115125060081482, 0.6875, 0.6859943866729736, 0.6717514991760254, 0.6495190858840942, 0.6495190858840942, 0.64549720287323, 0.6324555277824402, 0.6308932304382324, 0.6240377426147461, 0.6172133684158325, 0.6123725175857544, 0.6098574995994568, 0.6035099029541016, 0.6030226945877075, 0.6030226945877075, 0.590878963470459, 0.589255690574646, 0.588348388671875, 0.588348388671875, 0.565752387046814, 0.561341404914856, 0.5604485273361206, 0.553398609161377, 0.5393193960189819, 0.5345224738121033, 0.5345224738121033, 0.533001720905304, 0.5303300619125366, 0.5252257585525513, 0.8403583765029907, 0.8403583765029907, 0.8403583765029907, 0.835504412651062, 0.835504412651062, 0.8109307885169983, 0.8109307885169983, 0.8109307885169983, 0.8109307885169983, 0.8109307885169983, 0.8109307885169983, 0.797414243221283, 0.7912565469741821, 0.7858682870864868, 0.7815475463867188, 0.7804216146469116, 0.7804216146469116, 0.7804216146469116, 0.7804216146469116, 0.7802714705467224, 0.7802714705467224, 0.7779698967933655, 0.774225115776062, 0.769530177116394, 0.7679476737976074, 0.7675662040710449, 0.767312228679657, 0.7656165957450867, 0.7647886276245117, 0.7634849548339844, 0.7622515559196472, 0.9787957668304443, 0.9640347957611084, 0.9633799195289612, 0.9621023535728455, 0.9621023535728455, 0.9621023535728455, 0.9558525681495667, 0.955649733543396, 0.9537877440452576, 0.9511600136756897, 0.9508497714996338, 0.9507505893707275, 0.9501463770866394, 0.9501463770866394, 0.9489798545837402, 0.9488521814346313, 0.9476814866065979, 0.9473466277122498, 0.9456577301025391, 0.9447562098503113, 0.943439245223999, 0.9412353038787842, 0.9409592747688293, 0.940580427646637, 0.9405161738395691, 0.939900815486908, 0.939900815486908, 0.939900815486908, 0.9385020136833191, 0.9379648566246033, 0.9378902912139893, 0.9526609778404236, 0.9163419604301453, 0.9163419604301453, 0.9116845726966858, 0.9091372489929199, 0.9047617316246033, 0.9014979600906372, 0.9014409780502319, 0.9014409780502319, 0.9011271595954895, 0.9011270403862, 0.9011270403862, 0.9008852243423462, 0.8997353911399841, 0.8987169861793518, 0.8981773853302002, 0.8970851898193359, 0.8931978344917297, 0.8921425938606262, 0.8914850354194641, 0.8914850354194641, 0.8914849162101746, 0.8908708095550537, 0.8908707499504089, 0.8908706903457642, 0.888255774974823, 0.8882347345352173, 0.8872442245483398, 0.8865465521812439, 0.8864052295684814, 0.8860777616500854, 0.9524850249290466, 0.9249056577682495, 0.924388587474823, 0.9128709435462952, 0.9026708602905273, 0.9017001390457153, 0.8944271802902222, 0.8944271802902222, 0.8944270610809326, 0.8944270610809326, 0.8944270610809326, 0.8898887634277344, 0.8892973065376282, 0.8891812562942505, 0.8890009522438049, 0.8890008926391602, 0.8846516609191895, 0.8838835954666138, 0.8838834762573242, 0.8819171190261841, 0.8819169998168945, 0.8787496089935303, 0.876794695854187, 0.875190019607544, 0.8749999403953552, 0.8743856549263, 0.8743856549263, 0.8728715181350708, 0.8709297180175781, 0.870571494102478, 0.8703883290290833, 0.9999999403953552, 0.964763879776001, 0.9534626007080078, 0.953462541103363, 0.9438798427581787, 0.9128709435462952, 0.9128709435462952, 0.9128709435462952, 0.9128709435462952, 0.9128708839416504, 0.9128708839416504, 0.9087389707565308, 0.9036961793899536, 0.9036961793899536, 0.9000000357627869, 0.8999999761581421, 0.8944271802902222, 0.8944271802902222, 0.8854377269744873, 0.8854377269744873, 0.8808304071426392, 0.8807710409164429, 0.8770580291748047, 0.8764597773551941, 0.8720815777778625, 0.870571494102478, 0.870571494102478, 0.8696263432502747, 0.8696262836456299, 0.8552359342575073, 0.851942777633667, 0.9614553451538086, 0.9578415751457214, 0.9435936808586121, 0.9385906457901001, 0.9274417161941528, 0.9258200526237488, 0.9182089567184448, 0.916253924369812, 0.9150180816650391, 0.9143368601799011, 0.911684513092041, 0.9100315570831299, 0.9091373682022095, 0.9091372489929199, 0.909105658531189, 0.9074851870536804, 0.9047619104385376, 0.9044743180274963, 0.9014411568641663, 0.9014411568641663, 0.9014410972595215, 0.9011271595954895, 0.9011271595954895, 0.9002982378005981, 0.900148868560791, 0.898716926574707, 0.8981773853302002, 0.8970853090286255, 0.8970853090286255, 0.8970853090286255, 0.8970852494239807, 0.9999999403953552, 0.9999999403953552, 0.9999999403953552, 0.9999999403953552, 0.9999999403953552, 0.9999999403953552, 0.9999999403953552, 0.9999999403953552, 0.9999999403953552, 0.9999999403953552, 0.9999999403953552, 0.9999999403953552, 0.9999999403953552, 0.9999999403953552, 0.9960238337516785, 0.9918366074562073, 0.9918366074562073, 0.9855274558067322, 0.9855274558067322, 0.9855274558067322, 0.9855273962020874, 0.9855273962020874, 0.9847319722175598, 0.9847319722175598, 0.9847319722175598, 0.9841197729110718, 0.9829463362693787, 0.9805806279182434, 0.9801961183547974, 0.9799578189849854, 0.9797958135604858, 0.9999999403953552, 0.9999999403953552, 0.9999999403953552, 0.9999999403953552, 0.9999999403953552, 0.9999999403953552, 0.9999999403953552, 0.9999999403953552, 0.9999999403953552, 0.9999999403953552, 0.9999999403953552, 0.9999999403953552, 0.9999999403953552, 0.9999999403953552, 0.9960238337516785, 0.9918366074562073, 0.9918366074562073, 0.9855274558067322, 0.9855274558067322, 0.9855274558067322, 0.9855273962020874, 0.9855273962020874, 0.9847319722175598, 0.9847319722175598, 0.9847319722175598, 0.9841197729110718, 0.9829463362693787, 0.9805806279182434, 0.9801961183547974, 0.9799578189849854, 0.9797958135604858, 0.8406728506088257, 0.8333333730697632, 0.8333333730697632, 0.8198915719985962, 0.8179129362106323, 0.8164966106414795, 0.8017836809158325, 0.8017836809158325, 0.8006408214569092, 0.7947193384170532, 0.7938566207885742, 0.7905694246292114, 0.7879669666290283, 0.7825080156326294, 0.7777777910232544, 0.7745966911315918, 0.7715167999267578, 0.766032338142395, 0.7637627124786377, 0.7593264579772949, 0.7593263387680054, 0.7505553960800171, 0.7504787445068359, 0.75, 0.75, 0.75, 0.75, 0.75, 0.7499999403953552, 0.749268651008606, 0.7469136714935303, 0.9999999403953552, 0.9999999403953552, 0.9999999403953552, 0.9999999403953552, 0.9999999403953552, 0.9999999403953552, 0.9999999403953552, 0.9999999403953552, 0.9999999403953552, 0.9999999403953552, 0.9999999403953552, 0.9999999403953552, 0.9999999403953552, 0.9999999403953552, 0.9960238337516785, 0.9918366074562073, 0.9918366074562073, 0.9855274558067322, 0.9855274558067322, 0.9855274558067322, 0.9855273962020874, 0.9855273962020874, 0.9847319722175598, 0.9847319722175598, 0.9847319722175598, 0.9841197729110718, 0.9829463362693787, 0.9805806279182434, 0.9801961183547974, 0.9799578189849854, 0.9797958135604858, 0.9546687602996826, 0.9525009393692017, 0.9525009393692017, 0.9519716501235962, 0.9519716501235962, 0.9422230124473572, 0.9354143738746643, 0.9274259805679321, 0.9268551468849182, 0.9263021945953369, 0.9263021349906921, 0.9258201718330383, 0.9228396415710449, 0.9207509160041809, 0.9207509160041809, 0.9207369685173035, 0.9192388653755188, 0.9192388653755188, 0.9191450476646423, 0.9191450476646423, 0.9187105298042297, 0.9181763529777527, 0.9176629781723022, 0.9166666269302368, 0.9165785908699036, 0.9165785908699036, 0.9149914979934692, 0.9148908853530884, 0.9141378402709961, 0.9139076471328735, 0.9133462905883789, 0.9723055362701416, 0.9548637270927429, 0.9548637270927429, 0.9219543933868408, 0.9117647409439087, 0.9115637540817261, 0.9115046858787537, 0.9109357595443726, 0.9106417298316956, 0.910641610622406, 0.9101820588111877, 0.910181999206543, 0.910181999206543, 0.9095085859298706, 0.9081082344055176, 0.9074851870536804, 0.9068697690963745, 0.906869649887085, 0.9049357771873474, 0.9049033522605896, 0.9038769006729126, 0.8997353911399841, 0.8991814851760864, 0.8990275859832764, 0.8986451625823975, 0.8986451029777527, 0.8981251120567322, 0.8978642821311951, 0.8973644971847534, 0.8958088755607605, 0.895622193813324, 0.9165151119232178, 0.8954430222511292, 0.8759956359863281, 0.8246210813522339, 0.8164966106414795, 0.808290421962738, 0.803326427936554, 0.7999999523162842, 0.7999999523162842, 0.7923547625541687, 0.7902633547782898, 0.7855845093727112, 0.7855844497680664, 0.7794228196144104, 0.778662919998169, 0.7778174877166748, 0.7765802145004272, 0.7761139869689941, 0.7745966911315918, 0.7724714875221252, 0.7715166807174683, 0.7666981816291809, 0.7666981220245361, 0.7615773677825928, 0.7602630853652954, 0.7602630853652954, 0.7559289336204529, 0.754342257976532, 0.7542473077774048, 0.7521398067474365, 0.75, 0.9747546911239624, 0.9747546911239624, 0.9667963981628418, 0.9587094187736511, 0.9518172740936279, 0.9518172740936279, 0.9509797692298889, 0.9496713876724243, 0.9476782083511353, 0.943701446056366, 0.9428712725639343, 0.9428473711013794, 0.9420823454856873, 0.9416364431381226, 0.9401747584342957, 0.9364182353019714, 0.9346851110458374, 0.934198796749115, 0.9337221384048462, 0.9328734874725342, 0.9322980642318726, 0.9320952892303467, 0.9318181872367859, 0.9318180680274963, 0.9312905073165894, 0.9307577610015869, 0.9307577610015869, 0.9304841756820679, 0.9304841160774231, 0.9303739070892334, 0.9303739070892334], \"xaxis\": \"x\", \"yaxis\": \"y\"}],\n",
              "                        {\"barmode\": \"relative\", \"legend\": {\"tracegroupgap\": 0}, \"template\": {\"data\": {\"bar\": [{\"error_x\": {\"color\": \"#2a3f5f\"}, \"error_y\": {\"color\": \"#2a3f5f\"}, \"marker\": {\"line\": {\"color\": \"#E5ECF6\", \"width\": 0.5}}, \"type\": \"bar\"}], \"barpolar\": [{\"marker\": {\"line\": {\"color\": \"#E5ECF6\", \"width\": 0.5}}, \"type\": \"barpolar\"}], \"carpet\": [{\"aaxis\": {\"endlinecolor\": \"#2a3f5f\", \"gridcolor\": \"white\", \"linecolor\": \"white\", \"minorgridcolor\": \"white\", \"startlinecolor\": \"#2a3f5f\"}, \"baxis\": {\"endlinecolor\": \"#2a3f5f\", \"gridcolor\": \"white\", \"linecolor\": \"white\", \"minorgridcolor\": \"white\", \"startlinecolor\": \"#2a3f5f\"}, \"type\": \"carpet\"}], \"choropleth\": [{\"colorbar\": {\"outlinewidth\": 0, \"ticks\": \"\"}, \"type\": \"choropleth\"}], \"contour\": [{\"colorbar\": {\"outlinewidth\": 0, \"ticks\": \"\"}, \"colorscale\": [[0.0, \"#0d0887\"], [0.1111111111111111, \"#46039f\"], [0.2222222222222222, \"#7201a8\"], [0.3333333333333333, \"#9c179e\"], [0.4444444444444444, \"#bd3786\"], [0.5555555555555556, \"#d8576b\"], [0.6666666666666666, \"#ed7953\"], [0.7777777777777778, \"#fb9f3a\"], [0.8888888888888888, \"#fdca26\"], [1.0, \"#f0f921\"]], \"type\": \"contour\"}], \"contourcarpet\": [{\"colorbar\": {\"outlinewidth\": 0, \"ticks\": \"\"}, \"type\": \"contourcarpet\"}], \"heatmap\": [{\"colorbar\": {\"outlinewidth\": 0, \"ticks\": \"\"}, \"colorscale\": [[0.0, \"#0d0887\"], [0.1111111111111111, \"#46039f\"], [0.2222222222222222, \"#7201a8\"], [0.3333333333333333, \"#9c179e\"], [0.4444444444444444, \"#bd3786\"], [0.5555555555555556, \"#d8576b\"], [0.6666666666666666, \"#ed7953\"], [0.7777777777777778, \"#fb9f3a\"], [0.8888888888888888, \"#fdca26\"], [1.0, \"#f0f921\"]], \"type\": \"heatmap\"}], \"heatmapgl\": [{\"colorbar\": {\"outlinewidth\": 0, \"ticks\": \"\"}, \"colorscale\": [[0.0, \"#0d0887\"], [0.1111111111111111, \"#46039f\"], [0.2222222222222222, \"#7201a8\"], [0.3333333333333333, \"#9c179e\"], [0.4444444444444444, \"#bd3786\"], [0.5555555555555556, \"#d8576b\"], [0.6666666666666666, \"#ed7953\"], [0.7777777777777778, \"#fb9f3a\"], [0.8888888888888888, \"#fdca26\"], [1.0, \"#f0f921\"]], \"type\": \"heatmapgl\"}], \"histogram\": [{\"marker\": {\"colorbar\": {\"outlinewidth\": 0, \"ticks\": \"\"}}, \"type\": \"histogram\"}], \"histogram2d\": [{\"colorbar\": {\"outlinewidth\": 0, \"ticks\": \"\"}, \"colorscale\": [[0.0, \"#0d0887\"], [0.1111111111111111, \"#46039f\"], [0.2222222222222222, \"#7201a8\"], [0.3333333333333333, \"#9c179e\"], [0.4444444444444444, \"#bd3786\"], [0.5555555555555556, \"#d8576b\"], [0.6666666666666666, \"#ed7953\"], [0.7777777777777778, \"#fb9f3a\"], [0.8888888888888888, \"#fdca26\"], [1.0, \"#f0f921\"]], \"type\": \"histogram2d\"}], \"histogram2dcontour\": [{\"colorbar\": {\"outlinewidth\": 0, \"ticks\": \"\"}, \"colorscale\": [[0.0, \"#0d0887\"], [0.1111111111111111, \"#46039f\"], [0.2222222222222222, \"#7201a8\"], [0.3333333333333333, \"#9c179e\"], [0.4444444444444444, \"#bd3786\"], [0.5555555555555556, \"#d8576b\"], [0.6666666666666666, \"#ed7953\"], [0.7777777777777778, \"#fb9f3a\"], [0.8888888888888888, \"#fdca26\"], [1.0, \"#f0f921\"]], \"type\": \"histogram2dcontour\"}], \"mesh3d\": [{\"colorbar\": {\"outlinewidth\": 0, \"ticks\": \"\"}, \"type\": \"mesh3d\"}], \"parcoords\": [{\"line\": {\"colorbar\": {\"outlinewidth\": 0, \"ticks\": \"\"}}, \"type\": \"parcoords\"}], \"pie\": [{\"automargin\": true, \"type\": \"pie\"}], \"scatter\": [{\"marker\": {\"colorbar\": {\"outlinewidth\": 0, \"ticks\": \"\"}}, \"type\": \"scatter\"}], \"scatter3d\": [{\"line\": {\"colorbar\": {\"outlinewidth\": 0, \"ticks\": \"\"}}, \"marker\": {\"colorbar\": {\"outlinewidth\": 0, \"ticks\": \"\"}}, \"type\": \"scatter3d\"}], \"scattercarpet\": [{\"marker\": {\"colorbar\": {\"outlinewidth\": 0, \"ticks\": \"\"}}, \"type\": \"scattercarpet\"}], \"scattergeo\": [{\"marker\": {\"colorbar\": {\"outlinewidth\": 0, \"ticks\": \"\"}}, \"type\": \"scattergeo\"}], \"scattergl\": [{\"marker\": {\"colorbar\": {\"outlinewidth\": 0, \"ticks\": \"\"}}, \"type\": \"scattergl\"}], \"scattermapbox\": [{\"marker\": {\"colorbar\": {\"outlinewidth\": 0, \"ticks\": \"\"}}, \"type\": \"scattermapbox\"}], \"scatterpolar\": [{\"marker\": {\"colorbar\": {\"outlinewidth\": 0, \"ticks\": \"\"}}, \"type\": \"scatterpolar\"}], \"scatterpolargl\": [{\"marker\": {\"colorbar\": {\"outlinewidth\": 0, \"ticks\": \"\"}}, \"type\": \"scatterpolargl\"}], \"scatterternary\": [{\"marker\": {\"colorbar\": {\"outlinewidth\": 0, \"ticks\": \"\"}}, \"type\": \"scatterternary\"}], \"surface\": [{\"colorbar\": {\"outlinewidth\": 0, \"ticks\": \"\"}, \"colorscale\": [[0.0, \"#0d0887\"], [0.1111111111111111, \"#46039f\"], [0.2222222222222222, \"#7201a8\"], [0.3333333333333333, \"#9c179e\"], [0.4444444444444444, \"#bd3786\"], [0.5555555555555556, \"#d8576b\"], [0.6666666666666666, \"#ed7953\"], [0.7777777777777778, \"#fb9f3a\"], [0.8888888888888888, \"#fdca26\"], [1.0, \"#f0f921\"]], \"type\": \"surface\"}], \"table\": [{\"cells\": {\"fill\": {\"color\": \"#EBF0F8\"}, \"line\": {\"color\": \"white\"}}, \"header\": {\"fill\": {\"color\": \"#C8D4E3\"}, \"line\": {\"color\": \"white\"}}, \"type\": \"table\"}]}, \"layout\": {\"annotationdefaults\": {\"arrowcolor\": \"#2a3f5f\", \"arrowhead\": 0, \"arrowwidth\": 1}, \"coloraxis\": {\"colorbar\": {\"outlinewidth\": 0, \"ticks\": \"\"}}, \"colorscale\": {\"diverging\": [[0, \"#8e0152\"], [0.1, \"#c51b7d\"], [0.2, \"#de77ae\"], [0.3, \"#f1b6da\"], [0.4, \"#fde0ef\"], [0.5, \"#f7f7f7\"], [0.6, \"#e6f5d0\"], [0.7, \"#b8e186\"], [0.8, \"#7fbc41\"], [0.9, \"#4d9221\"], [1, \"#276419\"]], \"sequential\": [[0.0, \"#0d0887\"], [0.1111111111111111, \"#46039f\"], [0.2222222222222222, \"#7201a8\"], [0.3333333333333333, \"#9c179e\"], [0.4444444444444444, \"#bd3786\"], [0.5555555555555556, \"#d8576b\"], [0.6666666666666666, \"#ed7953\"], [0.7777777777777778, \"#fb9f3a\"], [0.8888888888888888, \"#fdca26\"], [1.0, \"#f0f921\"]], \"sequentialminus\": [[0.0, \"#0d0887\"], [0.1111111111111111, \"#46039f\"], [0.2222222222222222, \"#7201a8\"], [0.3333333333333333, \"#9c179e\"], [0.4444444444444444, \"#bd3786\"], [0.5555555555555556, \"#d8576b\"], [0.6666666666666666, \"#ed7953\"], [0.7777777777777778, \"#fb9f3a\"], [0.8888888888888888, \"#fdca26\"], [1.0, \"#f0f921\"]]}, \"colorway\": [\"#636efa\", \"#EF553B\", \"#00cc96\", \"#ab63fa\", \"#FFA15A\", \"#19d3f3\", \"#FF6692\", \"#B6E880\", \"#FF97FF\", \"#FECB52\"], \"font\": {\"color\": \"#2a3f5f\"}, \"geo\": {\"bgcolor\": \"white\", \"lakecolor\": \"white\", \"landcolor\": \"#E5ECF6\", \"showlakes\": true, \"showland\": true, \"subunitcolor\": \"white\"}, \"hoverlabel\": {\"align\": \"left\"}, \"hovermode\": \"closest\", \"mapbox\": {\"style\": \"light\"}, \"paper_bgcolor\": \"white\", \"plot_bgcolor\": \"#E5ECF6\", \"polar\": {\"angularaxis\": {\"gridcolor\": \"white\", \"linecolor\": \"white\", \"ticks\": \"\"}, \"bgcolor\": \"#E5ECF6\", \"radialaxis\": {\"gridcolor\": \"white\", \"linecolor\": \"white\", \"ticks\": \"\"}}, \"scene\": {\"xaxis\": {\"backgroundcolor\": \"#E5ECF6\", \"gridcolor\": \"white\", \"gridwidth\": 2, \"linecolor\": \"white\", \"showbackground\": true, \"ticks\": \"\", \"zerolinecolor\": \"white\"}, \"yaxis\": {\"backgroundcolor\": \"#E5ECF6\", \"gridcolor\": \"white\", \"gridwidth\": 2, \"linecolor\": \"white\", \"showbackground\": true, \"ticks\": \"\", \"zerolinecolor\": \"white\"}, \"zaxis\": {\"backgroundcolor\": \"#E5ECF6\", \"gridcolor\": \"white\", \"gridwidth\": 2, \"linecolor\": \"white\", \"showbackground\": true, \"ticks\": \"\", \"zerolinecolor\": \"white\"}}, \"shapedefaults\": {\"line\": {\"color\": \"#2a3f5f\"}}, \"ternary\": {\"aaxis\": {\"gridcolor\": \"white\", \"linecolor\": \"white\", \"ticks\": \"\"}, \"baxis\": {\"gridcolor\": \"white\", \"linecolor\": \"white\", \"ticks\": \"\"}, \"bgcolor\": \"#E5ECF6\", \"caxis\": {\"gridcolor\": \"white\", \"linecolor\": \"white\", \"ticks\": \"\"}}, \"title\": {\"x\": 0.05}, \"xaxis\": {\"automargin\": true, \"gridcolor\": \"white\", \"linecolor\": \"white\", \"ticks\": \"\", \"title\": {\"standoff\": 15}, \"zerolinecolor\": \"white\", \"zerolinewidth\": 2}, \"yaxis\": {\"automargin\": true, \"gridcolor\": \"white\", \"linecolor\": \"white\", \"ticks\": \"\", \"title\": {\"standoff\": 15}, \"zerolinecolor\": \"white\", \"zerolinewidth\": 2}}}, \"title\": {\"text\": \"LSI Scores\"}, \"xaxis\": {\"anchor\": \"y\", \"domain\": [0.0, 1.0], \"title\": {\"text\": \"score\"}}, \"yaxis\": {\"anchor\": \"x\", \"domain\": [0.0, 1.0], \"title\": {\"text\": \"count\"}}},\n",
              "                        {\"responsive\": true}\n",
              "                    ).then(function(){\n",
              "                            \n",
              "var gd = document.getElementById('81595146-3dec-49d9-989a-7f7c86efacf5');\n",
              "var x = new MutationObserver(function (mutations, observer) {{\n",
              "        var display = window.getComputedStyle(gd).display;\n",
              "        if (!display || display === 'none') {{\n",
              "            console.log([gd, 'removed!']);\n",
              "            Plotly.purge(gd);\n",
              "            observer.disconnect();\n",
              "        }}\n",
              "}});\n",
              "\n",
              "// Listen for the removal of the full notebook cells\n",
              "var notebookContainer = gd.closest('#notebook-container');\n",
              "if (notebookContainer) {{\n",
              "    x.observe(notebookContainer, {childList: true});\n",
              "}}\n",
              "\n",
              "// Listen for the clearing of the current output cell\n",
              "var outputEl = gd.closest('.output');\n",
              "if (outputEl) {{\n",
              "    x.observe(outputEl, {childList: true});\n",
              "}}\n",
              "\n",
              "                        })\n",
              "                };\n",
              "                \n",
              "            </script>\n",
              "        </div>\n",
              "</body>\n",
              "</html>"
            ]
          },
          "metadata": {}
        }
      ]
    },
    {
      "cell_type": "code",
      "metadata": {
        "id": "RX2JvEEGPGgS"
      },
      "source": [
        "if use_wandb:\n",
        "  wandb.log({\"scores_hist\": fig})"
      ],
      "execution_count": 74,
      "outputs": []
    },
    {
      "cell_type": "code",
      "metadata": {
        "colab": {
          "base_uri": "https://localhost:8080/",
          "height": 1000
        },
        "id": "7N81-XfdDFKV",
        "outputId": "f6002a30-22c5-45e9-9d6d-3b7ad5980be8"
      },
      "source": [
        "result, details = recommend_tune(df_sim, 'These Foolish Things [jazz1350]')\n",
        "result.head(30)"
      ],
      "execution_count": 75,
      "outputs": [
        {
          "output_type": "execute_result",
          "data": {
            "text/html": [
              "<div>\n",
              "<style scoped>\n",
              "    .dataframe tbody tr th:only-of-type {\n",
              "        vertical-align: middle;\n",
              "    }\n",
              "\n",
              "    .dataframe tbody tr th {\n",
              "        vertical-align: top;\n",
              "    }\n",
              "\n",
              "    .dataframe thead th {\n",
              "        text-align: right;\n",
              "    }\n",
              "</style>\n",
              "<table border=\"1\" class=\"dataframe\">\n",
              "  <thead>\n",
              "    <tr style=\"text-align: right;\">\n",
              "      <th></th>\n",
              "      <th>index</th>\n",
              "      <th>reference</th>\n",
              "      <th>reference_titleid</th>\n",
              "      <th>similar_title</th>\n",
              "      <th>score</th>\n",
              "      <th>max</th>\n",
              "      <th>score_div_max</th>\n",
              "      <th>similar_titleid</th>\n",
              "    </tr>\n",
              "  </thead>\n",
              "  <tbody>\n",
              "    <tr>\n",
              "      <th>0</th>\n",
              "      <td>0</td>\n",
              "      <td>These Foolish Things [jazz1350]</td>\n",
              "      <td>1168</td>\n",
              "      <td>More Than You Know [jazz1350]</td>\n",
              "      <td>0.916515</td>\n",
              "      <td>0.916515</td>\n",
              "      <td>1.000000</td>\n",
              "      <td>829</td>\n",
              "    </tr>\n",
              "    <tr>\n",
              "      <th>1</th>\n",
              "      <td>1</td>\n",
              "      <td>These Foolish Things [jazz1350]</td>\n",
              "      <td>1168</td>\n",
              "      <td>I Loves You Porgy [jazz1350]</td>\n",
              "      <td>0.954864</td>\n",
              "      <td>0.972306</td>\n",
              "      <td>0.997729</td>\n",
              "      <td>520</td>\n",
              "    </tr>\n",
              "    <tr>\n",
              "      <th>2</th>\n",
              "      <td>2</td>\n",
              "      <td>These Foolish Things [jazz1350]</td>\n",
              "      <td>1168</td>\n",
              "      <td>It's Easy To Remember [jazz1350]</td>\n",
              "      <td>0.951894</td>\n",
              "      <td>0.964712</td>\n",
              "      <td>0.986822</td>\n",
              "      <td>637</td>\n",
              "    </tr>\n",
              "    <tr>\n",
              "      <th>3</th>\n",
              "      <td>3</td>\n",
              "      <td>These Foolish Things [jazz1350]</td>\n",
              "      <td>1168</td>\n",
              "      <td>Way You Look Tonight, The [jazz1350]</td>\n",
              "      <td>0.942543</td>\n",
              "      <td>0.972306</td>\n",
              "      <td>0.977049</td>\n",
              "      <td>1253</td>\n",
              "    </tr>\n",
              "    <tr>\n",
              "      <th>4</th>\n",
              "      <td>4</td>\n",
              "      <td>These Foolish Things [jazz1350]</td>\n",
              "      <td>1168</td>\n",
              "      <td>Rosetta [jazz1350]</td>\n",
              "      <td>0.895443</td>\n",
              "      <td>0.916515</td>\n",
              "      <td>0.977008</td>\n",
              "      <td>996</td>\n",
              "    </tr>\n",
              "    <tr>\n",
              "      <th>5</th>\n",
              "      <td>5</td>\n",
              "      <td>These Foolish Things [jazz1350]</td>\n",
              "      <td>1168</td>\n",
              "      <td>Stairway To The Stars [jazz1350]</td>\n",
              "      <td>0.937159</td>\n",
              "      <td>0.964712</td>\n",
              "      <td>0.971600</td>\n",
              "      <td>1097</td>\n",
              "    </tr>\n",
              "    <tr>\n",
              "      <th>6</th>\n",
              "      <td>6</td>\n",
              "      <td>These Foolish Things [jazz1350]</td>\n",
              "      <td>1168</td>\n",
              "      <td>They All Laughed [jazz1350]</td>\n",
              "      <td>0.926855</td>\n",
              "      <td>0.972306</td>\n",
              "      <td>0.970866</td>\n",
              "      <td>1169</td>\n",
              "    </tr>\n",
              "    <tr>\n",
              "      <th>7</th>\n",
              "      <td>7</td>\n",
              "      <td>These Foolish Things [jazz1350]</td>\n",
              "      <td>1168</td>\n",
              "      <td>Easy Street [jazz1350]</td>\n",
              "      <td>0.926302</td>\n",
              "      <td>0.954669</td>\n",
              "      <td>0.970286</td>\n",
              "      <td>343</td>\n",
              "    </tr>\n",
              "    <tr>\n",
              "      <th>8</th>\n",
              "      <td>8</td>\n",
              "      <td>These Foolish Things [jazz1350]</td>\n",
              "      <td>1168</td>\n",
              "      <td>Among My Souvenirs [jazz1350]</td>\n",
              "      <td>0.925820</td>\n",
              "      <td>0.954669</td>\n",
              "      <td>0.969782</td>\n",
              "      <td>75</td>\n",
              "    </tr>\n",
              "    <tr>\n",
              "      <th>9</th>\n",
              "      <td>9</td>\n",
              "      <td>These Foolish Things [jazz1350]</td>\n",
              "      <td>1168</td>\n",
              "      <td>And The Angels Sing [jazz1350]</td>\n",
              "      <td>0.934215</td>\n",
              "      <td>0.964712</td>\n",
              "      <td>0.968347</td>\n",
              "      <td>78</td>\n",
              "    </tr>\n",
              "    <tr>\n",
              "      <th>10</th>\n",
              "      <td>10</td>\n",
              "      <td>These Foolish Things [jazz1350]</td>\n",
              "      <td>1168</td>\n",
              "      <td>Bewitched [jazz1350]</td>\n",
              "      <td>0.926302</td>\n",
              "      <td>0.972306</td>\n",
              "      <td>0.967266</td>\n",
              "      <td>132</td>\n",
              "    </tr>\n",
              "    <tr>\n",
              "      <th>11</th>\n",
              "      <td>11</td>\n",
              "      <td>These Foolish Things [jazz1350]</td>\n",
              "      <td>1168</td>\n",
              "      <td>Party's Over, The [jazz1350]</td>\n",
              "      <td>0.922840</td>\n",
              "      <td>0.972306</td>\n",
              "      <td>0.966660</td>\n",
              "      <td>935</td>\n",
              "    </tr>\n",
              "    <tr>\n",
              "      <th>12</th>\n",
              "      <td>12</td>\n",
              "      <td>These Foolish Things [jazz1350]</td>\n",
              "      <td>1168</td>\n",
              "      <td>Manhattan [jazz1350]</td>\n",
              "      <td>0.920751</td>\n",
              "      <td>0.954669</td>\n",
              "      <td>0.964472</td>\n",
              "      <td>774</td>\n",
              "    </tr>\n",
              "    <tr>\n",
              "      <th>13</th>\n",
              "      <td>13</td>\n",
              "      <td>These Foolish Things [jazz1350]</td>\n",
              "      <td>1168</td>\n",
              "      <td>Let's Fall In Love [jazz1350]</td>\n",
              "      <td>0.928955</td>\n",
              "      <td>0.964712</td>\n",
              "      <td>0.963023</td>\n",
              "      <td>708</td>\n",
              "    </tr>\n",
              "    <tr>\n",
              "      <th>14</th>\n",
              "      <td>14</td>\n",
              "      <td>These Foolish Things [jazz1350]</td>\n",
              "      <td>1168</td>\n",
              "      <td>For Once In My Life [jazz1350]</td>\n",
              "      <td>0.919239</td>\n",
              "      <td>0.954669</td>\n",
              "      <td>0.962888</td>\n",
              "      <td>397</td>\n",
              "    </tr>\n",
              "    <tr>\n",
              "      <th>15</th>\n",
              "      <td>15</td>\n",
              "      <td>These Foolish Things [jazz1350]</td>\n",
              "      <td>1168</td>\n",
              "      <td>Taking A Chance On Love [jazz1350]</td>\n",
              "      <td>0.919145</td>\n",
              "      <td>0.954669</td>\n",
              "      <td>0.962789</td>\n",
              "      <td>1144</td>\n",
              "    </tr>\n",
              "    <tr>\n",
              "      <th>16</th>\n",
              "      <td>16</td>\n",
              "      <td>These Foolish Things [jazz1350]</td>\n",
              "      <td>1168</td>\n",
              "      <td>Folks Who Live On The Hill, The [jazz1350]</td>\n",
              "      <td>0.918711</td>\n",
              "      <td>0.954669</td>\n",
              "      <td>0.962334</td>\n",
              "      <td>390</td>\n",
              "    </tr>\n",
              "    <tr>\n",
              "      <th>17</th>\n",
              "      <td>17</td>\n",
              "      <td>These Foolish Things [jazz1350]</td>\n",
              "      <td>1168</td>\n",
              "      <td>I Gotta Right To Sing The Blues [jazz1350]</td>\n",
              "      <td>0.918176</td>\n",
              "      <td>0.954669</td>\n",
              "      <td>0.961775</td>\n",
              "      <td>507</td>\n",
              "    </tr>\n",
              "    <tr>\n",
              "      <th>18</th>\n",
              "      <td>18</td>\n",
              "      <td>These Foolish Things [jazz1350]</td>\n",
              "      <td>1168</td>\n",
              "      <td>Heart And Soul [jazz1350]</td>\n",
              "      <td>0.927468</td>\n",
              "      <td>0.964712</td>\n",
              "      <td>0.961425</td>\n",
              "      <td>457</td>\n",
              "    </tr>\n",
              "    <tr>\n",
              "      <th>19</th>\n",
              "      <td>19</td>\n",
              "      <td>These Foolish Things [jazz1350]</td>\n",
              "      <td>1168</td>\n",
              "      <td>Danny Boy [jazz1350]</td>\n",
              "      <td>0.926962</td>\n",
              "      <td>0.964712</td>\n",
              "      <td>0.960890</td>\n",
              "      <td>280</td>\n",
              "    </tr>\n",
              "    <tr>\n",
              "      <th>20</th>\n",
              "      <td>20</td>\n",
              "      <td>These Foolish Things [jazz1350]</td>\n",
              "      <td>1168</td>\n",
              "      <td>Why Do I Love You [jazz1350]</td>\n",
              "      <td>0.916579</td>\n",
              "      <td>0.954669</td>\n",
              "      <td>0.960101</td>\n",
              "      <td>1285</td>\n",
              "    </tr>\n",
              "    <tr>\n",
              "      <th>21</th>\n",
              "      <td>21</td>\n",
              "      <td>These Foolish Things [jazz1350]</td>\n",
              "      <td>1168</td>\n",
              "      <td>You Keep Coming Back Like A Song [jazz1350]</td>\n",
              "      <td>0.933722</td>\n",
              "      <td>0.974755</td>\n",
              "      <td>0.957905</td>\n",
              "      <td>1316</td>\n",
              "    </tr>\n",
              "    <tr>\n",
              "      <th>22</th>\n",
              "      <td>22</td>\n",
              "      <td>These Foolish Things [jazz1350]</td>\n",
              "      <td>1168</td>\n",
              "      <td>I'm Old Fashioned [jazz1350]</td>\n",
              "      <td>0.913908</td>\n",
              "      <td>0.954669</td>\n",
              "      <td>0.957303</td>\n",
              "      <td>560</td>\n",
              "    </tr>\n",
              "    <tr>\n",
              "      <th>23</th>\n",
              "      <td>23</td>\n",
              "      <td>These Foolish Things [jazz1350]</td>\n",
              "      <td>1168</td>\n",
              "      <td>All Too Soon [jazz1350]</td>\n",
              "      <td>0.913346</td>\n",
              "      <td>0.954669</td>\n",
              "      <td>0.956715</td>\n",
              "      <td>67</td>\n",
              "    </tr>\n",
              "    <tr>\n",
              "      <th>24</th>\n",
              "      <td>24</td>\n",
              "      <td>These Foolish Things [jazz1350]</td>\n",
              "      <td>1168</td>\n",
              "      <td>For You, For Me, For Evermore [jazz1350]</td>\n",
              "      <td>0.932298</td>\n",
              "      <td>0.974755</td>\n",
              "      <td>0.956444</td>\n",
              "      <td>399</td>\n",
              "    </tr>\n",
              "    <tr>\n",
              "      <th>25</th>\n",
              "      <td>25</td>\n",
              "      <td>These Foolish Things [jazz1350]</td>\n",
              "      <td>1168</td>\n",
              "      <td>Blue Room, The [jazz1350]</td>\n",
              "      <td>0.931818</td>\n",
              "      <td>0.974755</td>\n",
              "      <td>0.955951</td>\n",
              "      <td>160</td>\n",
              "    </tr>\n",
              "    <tr>\n",
              "      <th>26</th>\n",
              "      <td>26</td>\n",
              "      <td>These Foolish Things [jazz1350]</td>\n",
              "      <td>1168</td>\n",
              "      <td>Over The Rainbow (Somewhere) [jazz1350]</td>\n",
              "      <td>0.931291</td>\n",
              "      <td>0.974755</td>\n",
              "      <td>0.955410</td>\n",
              "      <td>928</td>\n",
              "    </tr>\n",
              "    <tr>\n",
              "      <th>27</th>\n",
              "      <td>27</td>\n",
              "      <td>These Foolish Things [jazz1350]</td>\n",
              "      <td>1168</td>\n",
              "      <td>Long Ago And Far Away [jazz1350]</td>\n",
              "      <td>0.930374</td>\n",
              "      <td>0.974755</td>\n",
              "      <td>0.954470</td>\n",
              "      <td>738</td>\n",
              "    </tr>\n",
              "    <tr>\n",
              "      <th>28</th>\n",
              "      <td>28</td>\n",
              "      <td>These Foolish Things [jazz1350]</td>\n",
              "      <td>1168</td>\n",
              "      <td>If There Is Someone Lovelier [jazz1350]</td>\n",
              "      <td>0.926132</td>\n",
              "      <td>0.973530</td>\n",
              "      <td>0.951294</td>\n",
              "      <td>582</td>\n",
              "    </tr>\n",
              "    <tr>\n",
              "      <th>29</th>\n",
              "      <td>29</td>\n",
              "      <td>These Foolish Things [jazz1350]</td>\n",
              "      <td>1168</td>\n",
              "      <td>Good Life, The [jazz1350]</td>\n",
              "      <td>0.921954</td>\n",
              "      <td>0.972306</td>\n",
              "      <td>0.948215</td>\n",
              "      <td>437</td>\n",
              "    </tr>\n",
              "  </tbody>\n",
              "</table>\n",
              "</div>"
            ],
            "text/plain": [
              "    index                        reference  reference_titleid                                similar_title     score       max  score_div_max  similar_titleid\n",
              "0       0  These Foolish Things [jazz1350]               1168                More Than You Know [jazz1350]  0.916515  0.916515       1.000000              829\n",
              "1       1  These Foolish Things [jazz1350]               1168                 I Loves You Porgy [jazz1350]  0.954864  0.972306       0.997729              520\n",
              "2       2  These Foolish Things [jazz1350]               1168             It's Easy To Remember [jazz1350]  0.951894  0.964712       0.986822              637\n",
              "3       3  These Foolish Things [jazz1350]               1168         Way You Look Tonight, The [jazz1350]  0.942543  0.972306       0.977049             1253\n",
              "4       4  These Foolish Things [jazz1350]               1168                           Rosetta [jazz1350]  0.895443  0.916515       0.977008              996\n",
              "5       5  These Foolish Things [jazz1350]               1168             Stairway To The Stars [jazz1350]  0.937159  0.964712       0.971600             1097\n",
              "6       6  These Foolish Things [jazz1350]               1168                  They All Laughed [jazz1350]  0.926855  0.972306       0.970866             1169\n",
              "7       7  These Foolish Things [jazz1350]               1168                       Easy Street [jazz1350]  0.926302  0.954669       0.970286              343\n",
              "8       8  These Foolish Things [jazz1350]               1168                Among My Souvenirs [jazz1350]  0.925820  0.954669       0.969782               75\n",
              "9       9  These Foolish Things [jazz1350]               1168               And The Angels Sing [jazz1350]  0.934215  0.964712       0.968347               78\n",
              "10     10  These Foolish Things [jazz1350]               1168                         Bewitched [jazz1350]  0.926302  0.972306       0.967266              132\n",
              "11     11  These Foolish Things [jazz1350]               1168                 Party's Over, The [jazz1350]  0.922840  0.972306       0.966660              935\n",
              "12     12  These Foolish Things [jazz1350]               1168                         Manhattan [jazz1350]  0.920751  0.954669       0.964472              774\n",
              "13     13  These Foolish Things [jazz1350]               1168                Let's Fall In Love [jazz1350]  0.928955  0.964712       0.963023              708\n",
              "14     14  These Foolish Things [jazz1350]               1168               For Once In My Life [jazz1350]  0.919239  0.954669       0.962888              397\n",
              "15     15  These Foolish Things [jazz1350]               1168           Taking A Chance On Love [jazz1350]  0.919145  0.954669       0.962789             1144\n",
              "16     16  These Foolish Things [jazz1350]               1168   Folks Who Live On The Hill, The [jazz1350]  0.918711  0.954669       0.962334              390\n",
              "17     17  These Foolish Things [jazz1350]               1168   I Gotta Right To Sing The Blues [jazz1350]  0.918176  0.954669       0.961775              507\n",
              "18     18  These Foolish Things [jazz1350]               1168                    Heart And Soul [jazz1350]  0.927468  0.964712       0.961425              457\n",
              "19     19  These Foolish Things [jazz1350]               1168                         Danny Boy [jazz1350]  0.926962  0.964712       0.960890              280\n",
              "20     20  These Foolish Things [jazz1350]               1168                 Why Do I Love You [jazz1350]  0.916579  0.954669       0.960101             1285\n",
              "21     21  These Foolish Things [jazz1350]               1168  You Keep Coming Back Like A Song [jazz1350]  0.933722  0.974755       0.957905             1316\n",
              "22     22  These Foolish Things [jazz1350]               1168                 I'm Old Fashioned [jazz1350]  0.913908  0.954669       0.957303              560\n",
              "23     23  These Foolish Things [jazz1350]               1168                      All Too Soon [jazz1350]  0.913346  0.954669       0.956715               67\n",
              "24     24  These Foolish Things [jazz1350]               1168     For You, For Me, For Evermore [jazz1350]  0.932298  0.974755       0.956444              399\n",
              "25     25  These Foolish Things [jazz1350]               1168                    Blue Room, The [jazz1350]  0.931818  0.974755       0.955951              160\n",
              "26     26  These Foolish Things [jazz1350]               1168      Over The Rainbow (Somewhere) [jazz1350]  0.931291  0.974755       0.955410              928\n",
              "27     27  These Foolish Things [jazz1350]               1168             Long Ago And Far Away [jazz1350]  0.930374  0.974755       0.954470              738\n",
              "28     28  These Foolish Things [jazz1350]               1168      If There Is Someone Lovelier [jazz1350]  0.926132  0.973530       0.951294              582\n",
              "29     29  These Foolish Things [jazz1350]               1168                    Good Life, The [jazz1350]  0.921954  0.972306       0.948215              437"
            ]
          },
          "metadata": {},
          "execution_count": 75
        }
      ]
    },
    {
      "cell_type": "code",
      "metadata": {
        "id": "15ZsHOQmyyah"
      },
      "source": [
        "dd = pd.DataFrame(columns = recommender_results_cols)\n",
        "\n",
        "for tune in tunes_eval_list:\n",
        "  result, details = recommend_tune(df_sim, tune)\n",
        "  dd['id'] = result['index']\n",
        "  dd['reference'] = tune\n",
        "  dd['method'] = 'lsi'\n",
        "  dd['similar'] = result['similar_title']\n",
        "  dd['score_div_max'] = result['score_div_max']\n",
        "  dd['score'] = result['score']\n",
        "\n",
        "recommender_results = recommender_results.append(dd)"
      ],
      "execution_count": 76,
      "outputs": []
    },
    {
      "cell_type": "markdown",
      "metadata": {
        "id": "Ojrjp11ni6Pl"
      },
      "source": [
        "### Tests for Contrafacts"
      ]
    },
    {
      "cell_type": "code",
      "metadata": {
        "colab": {
          "base_uri": "https://localhost:8080/"
        },
        "id": "D0_7m1qji6A-",
        "outputId": "f4204a17-07ef-47a0-e0e0-9f3183eac8a0"
      },
      "source": [
        "topN = 20\n",
        "matches, results = test_contrafacts(contrafacts, index_lsi, lsi, topN)\n",
        "\n",
        "print(f\"Found matches: {matches} out of {len(results)}: {100*matches/len(results):.3f}%\")\n",
        "print() \n",
        "for rr, val in results.items():\n",
        "  if val == 0:\n",
        "    print(f\"{val}: {rr}\")\n"
      ],
      "execution_count": 77,
      "outputs": [
        {
          "output_type": "stream",
          "name": "stdout",
          "text": [
            "Found matches: 95 out of 111: 85.586%\n",
            "\n",
            "0: 52nd Street Theme [jazz1350], I Got Rhythm [jazz1350]\n",
            "0: Ballade [jazz1350], As Long As I Live [jazz1350]\n",
            "0: Dewey Square [jazz1350], Oh, Lady Be Good [jazz1350]\n",
            "0: Good Bait [jazz1350], I Got Rhythm [jazz1350]\n",
            "0: Lennie's Pennies [jazz1350], Pennies From Heaven [jazz1350]\n",
            "0: Little Rootie Tootie [jazz1350], I Got Rhythm [jazz1350]\n",
            "0: Little Willie Leaps [jazz1350], All God's Chillun Got Rhythm [jazz1350]\n",
            "0: My Little Suede Shoes [jazz1350], Jeepers Creepers [jazz1350]\n",
            "0: Quasimodo (Theme) [jazz1350], Embraceable You [jazz1350]\n",
            "0: Room 608 [jazz1350], I Got Rhythm [jazz1350]\n",
            "0: Sweet Sue, Just You [jazz1350], Honeysuckle Rose [jazz1350]\n",
            "0: Sweet Sue, Just You [jazz1350], Bye Bye Blackbird [jazz1350]\n",
            "0: These Foolish Things [jazz1350], Blue Moon [jazz1350]\n",
            "0: These Foolish Things [jazz1350], Soultrain [jazz1350]\n",
            "0: Exactly Like You [jazz1350], Jersey Bounce [trad]\n",
            "0: Take The A Train [jazz1350], Girl From Ipanema, The [jazz1350]\n",
            "0: My Secret Love [jazz1350], Samba De Orfeu [jazz1350]\n",
            "0: These Foolish Things [jazz1350], Embraceable You [jazz1350]\n"
          ]
        }
      ]
    },
    {
      "cell_type": "code",
      "metadata": {
        "id": "RS7LsLASi5-f"
      },
      "source": [
        "model_name = 'lsi'\n",
        "if use_wandb:\n",
        "  wandb.log(\n",
        "      {model_name: {\n",
        "                'contrafacts': {\n",
        "                    'topN': topN,\n",
        "                    'success': matches/len(contrafacts),\n",
        "                    #'results': results\n",
        "                    }\n",
        "                   },\n",
        "       'all_models': {\n",
        "           model_name: wandb.Table(\n",
        "               columns=[\"Title\", \"Match\"],\n",
        "               data=[[key, value] for key, value in results.items()]),\n",
        "       }\n",
        "       })"
      ],
      "execution_count": 78,
      "outputs": []
    },
    {
      "cell_type": "markdown",
      "metadata": {
        "id": "AjZArSmyooWt"
      },
      "source": [
        "### Get Recommender Data for WebApp"
      ]
    },
    {
      "cell_type": "code",
      "metadata": {
        "colab": {
          "base_uri": "https://localhost:8080/"
        },
        "id": "ezGqmkp5gMcf",
        "outputId": "c84ff0ad-6ac6-49cd-a3d5-3c772b8f0903"
      },
      "source": [
        "%%time\n",
        "if generate_webapp_data:\n",
        "  _tunes = list(tunes['title_playlist'].values())\n",
        "  #_tunes = tunes_eval_list\n",
        "\n",
        "  method = 'lsi'\n",
        "\n",
        "  df_sim = get_sim_scores(_tunes, index_lsi, lsi)\n",
        "\n",
        "  result = None\n",
        "  for tune in _tunes:\n",
        "    tune_result, details = recommend_tune(df_sim, tune)\n",
        "    if result is None:\n",
        "      result = pd.DataFrame(columns=tune_result.columns)\n",
        "    result = result.append(tune_result)\n",
        "\n",
        "  # save to file\n",
        "  (result\n",
        "   .loc[:,['reference_titleid',\n",
        "           'similar_titleid',\n",
        "           'score']]\n",
        "   .to_csv(f'output/recommender_{method}.csv', encoding='utf8')\n",
        "  )\n",
        "  with zipfile.ZipFile(f'output/recommender_{method}.zip', 'w') as zf:\n",
        "    zf.write(f'output/recommender_{method}.csv')\n",
        "\n",
        "\n",
        "  # save to wandb\n",
        "  if use_wandb:\n",
        "    model_artifact = wandb.Artifact(\n",
        "        f\"recommender_{method}\", \n",
        "        type=\"csv\",\n",
        "        description=f\"Recommendations for each Tune using {method} Model (csv file)\",\n",
        "        metadata=\"\")\n",
        "\n",
        "    model_artifact.add_file(f'output/recommender_{method}.zip')\n",
        "    wandb.log_artifact(model_artifact)"
      ],
      "execution_count": 79,
      "outputs": [
        {
          "output_type": "stream",
          "name": "stdout",
          "text": [
            "CPU times: user 3 µs, sys: 1e+03 ns, total: 4 µs\n",
            "Wall time: 7.15 µs\n"
          ]
        }
      ]
    },
    {
      "cell_type": "markdown",
      "metadata": {
        "id": "lTQKfd0xQQ65"
      },
      "source": [
        "## Store Model to W&B"
      ]
    },
    {
      "cell_type": "code",
      "metadata": {
        "id": "RfAYF7ArQUXo"
      },
      "source": [
        "if use_wandb:\n",
        "  model_artifact = wandb.Artifact(\n",
        "      \"model_lsi\", \n",
        "      type=\"model\",\n",
        "      description=\"LSI model\",\n",
        "      metadata=\"\")\n",
        "\n",
        "  model_artifact.add_file(\"/content/index/lsi.model\")\n",
        "  model_artifact.add_file(\"/content/index/lsi_matrixsim.index\")\n",
        "  model_artifact.add_file(\"/content/index/lsi.model.projection\")\n",
        "  wandb.log_artifact(model_artifact)"
      ],
      "execution_count": 80,
      "outputs": []
    },
    {
      "cell_type": "markdown",
      "metadata": {
        "id": "asScIocQRMPA"
      },
      "source": [
        "## Determine Number of Topics for LSI Model\n",
        "\n",
        "This sample comes from Datacamp: \n",
        "\n",
        "https://www.datacamp.com/community/tutorials/discovering-hidden-topics-python\n"
      ]
    },
    {
      "cell_type": "markdown",
      "metadata": {
        "id": "1TPNWFEPSxZ-"
      },
      "source": [
        "What is the best way to determine k (number of topics) in topic modeling? Identify the optimum number of topics in the given corpus text is a challenging task. We can use the following options for determining the optimum number of topics:\n",
        "\n",
        "* One way to determine the optimum number of topics is to consider each topic as a cluster and find out the effectiveness of a cluster using the Silhouette coefficient.\n",
        "* Topic coherence measure is a realistic measure for identifying the number of topics.\n",
        "\n",
        "Topic Coherence measure is a widely used metric to evaluate topic models. It uses the latent variable models. Each generated topic has a list of words. In topic coherence measure, you will find average/median of pairwise word similarity scores of the words in a topic. The high value of topic coherence score model will be considered as a good topic model. "
      ]
    },
    {
      "cell_type": "code",
      "metadata": {
        "id": "umpCyQQzRLgv"
      },
      "source": [
        "def prepare_corpus(doc_clean):\n",
        "    \"\"\"\n",
        "    Input  : clean document\n",
        "    Purpose: create term dictionary of our courpus and Converting list of documents (corpus) into Document Term Matrix\n",
        "    Output : term dictionary and Document Term Matrix\n",
        "    \"\"\"\n",
        "    # Creating the term dictionary of our courpus, where every unique term is assigned an index. dictionary = corpora.Dictionary(doc_clean)\n",
        "    dictionary = corpora.Dictionary(doc_clean)\n",
        "    # Converting list of documents (corpus) into Document Term Matrix using dictionary prepared above.\n",
        "    doc_term_matrix = [dictionary.doc2bow(doc) for doc in doc_clean]\n",
        "    # generate LDA model\n",
        "    return dictionary, doc_term_matrix"
      ],
      "execution_count": 81,
      "outputs": []
    },
    {
      "cell_type": "code",
      "metadata": {
        "id": "aS2wxIEERcul"
      },
      "source": [
        "def compute_coherence_values(dictionary, doc_term_matrix, doc_clean, stop, start=2, step=3):\n",
        "    \"\"\"\n",
        "    Input   : dictionary : Gensim dictionary\n",
        "              corpus : Gensim corpus\n",
        "              texts : List of input texts\n",
        "              stop : Max num of topics\n",
        "    purpose : Compute c_v coherence for various number of topics\n",
        "    Output  : model_list : List of LSA topic models\n",
        "              coherence_values : Coherence values corresponding to the LDA model with respective number of topics\n",
        "    \"\"\"\n",
        "    coherence_values = []\n",
        "    model_list = []\n",
        "    for num_topics in range(start, stop, step):\n",
        "        # generate LSA model\n",
        "        model = LsiModel(doc_term_matrix, num_topics=num_topics, id2word = dictionary)  # train model\n",
        "        model_list.append(model)\n",
        "        coherencemodel = CoherenceModel(model=model, texts=doc_clean, dictionary=dictionary, coherence='c_v')\n",
        "        coherence_values.append(coherencemodel.get_coherence())\n",
        "    return model_list, coherence_values"
      ],
      "execution_count": 82,
      "outputs": []
    },
    {
      "cell_type": "code",
      "metadata": {
        "id": "DjyzAzWBRfrH"
      },
      "source": [
        "def plot_graph(doc_clean,start, stop, step):\n",
        "    dictionary, doc_term_matrix = prepare_corpus(doc_clean)\n",
        "    model_list, coherence_values = compute_coherence_values(dictionary, doc_term_matrix,doc_clean,\n",
        "                                                            stop, start, step)\n",
        "    # Show graph\n",
        "    x = range(start, stop, step)\n",
        "    plt.plot(x, coherence_values)\n",
        "    plt.xlabel(\"Number of Topics\")\n",
        "    plt.ylabel(\"Coherence score\")\n",
        "    plt.legend((\"coherence_values\"), loc='best')\n",
        "    plt.show()"
      ],
      "execution_count": 83,
      "outputs": []
    },
    {
      "cell_type": "code",
      "metadata": {
        "id": "qy9ZjdcmRhxs"
      },
      "source": [
        "# evaluate a good number of topics for the LSI Model. This takes some time.\n",
        "\n",
        "if False:\n",
        "\n",
        "  start, stop, step = 1, 500, 10\n",
        "  plot_graph(data, start, stop, step)"
      ],
      "execution_count": 84,
      "outputs": []
    },
    {
      "cell_type": "markdown",
      "metadata": {
        "id": "Qo5NgBHFlqgg"
      },
      "source": [
        "For unigrams, the best number of topics seems to be around 20.\n",
        "\n",
        "For unigrams plus bigrams, the coherence score drops down until 100 and then continuously rises until 500 and continues to rise. Same for bigrams-only."
      ]
    },
    {
      "cell_type": "markdown",
      "metadata": {
        "id": "rF_INicGhXKd"
      },
      "source": [
        "# Doc2Vec"
      ]
    },
    {
      "cell_type": "code",
      "metadata": {
        "id": "wflSccBshkIk"
      },
      "source": [
        "def get_tagged_documents(corpus, tag_sections_and_tunes=False):\n",
        "  if tag_sections_and_tunes:\n",
        "    print('Tagging input data with both section and tune information.')\n",
        "  else:\n",
        "    print('Tagging input data with section informaiton only.')\n",
        "    \n",
        "  for i, tokens in enumerate(corpus):\n",
        "    if tag_sections_and_tunes:\n",
        "      yield gensim.models.doc2vec.TaggedDocument(tokens, [i, f'titleid_{sectionid_to_titleid[i]}'])\n",
        "    else:\n",
        "      yield gensim.models.doc2vec.TaggedDocument(tokens, [i])  # diatonic chord distance is a bit better"
      ],
      "execution_count": 85,
      "outputs": []
    },
    {
      "cell_type": "code",
      "metadata": {
        "colab": {
          "base_uri": "https://localhost:8080/"
        },
        "id": "_u0RdBI1kYD9",
        "outputId": "6d8bf395-fa51-49f8-9c84-8d9d43d426f1"
      },
      "source": [
        "train_corpus = list(get_tagged_documents(processed_corpus, doc2vec_config['general']['tag_sections_and_tunes']))\n",
        "train_corpus[1000]"
      ],
      "execution_count": 86,
      "outputs": [
        {
          "output_type": "stream",
          "name": "stdout",
          "text": [
            "Tagging input data with section informaiton only.\n"
          ]
        },
        {
          "output_type": "execute_result",
          "data": {
            "text/plain": [
              "TaggedDocument(words=['C', 'Am', 'Dm', 'G7', 'C', 'F', 'C', 'Am', 'Dm', 'G7', 'C', 'Dm', 'G7'], tags=[1000])"
            ]
          },
          "metadata": {},
          "execution_count": 86
        }
      ]
    },
    {
      "cell_type": "code",
      "metadata": {
        "colab": {
          "base_uri": "https://localhost:8080/"
        },
        "id": "M9adPoy9reaw",
        "outputId": "a73b380b-5dac-412e-f6f9-797b2122eb3f"
      },
      "source": [
        "import multiprocessing\n",
        "\n",
        "print(f\"CPU Count: {multiprocessing.cpu_count()}\")\n",
        "print(f\"Config:\")\n",
        "print(doc2vec_config['model'])\n",
        "\n",
        "model = Doc2Vec(train_corpus,\n",
        "                **doc2vec_config['model']\n",
        "                )"
      ],
      "execution_count": 87,
      "outputs": [
        {
          "output_type": "stream",
          "name": "stderr",
          "text": [
            "2021-11-28 19:09:07,027 : INFO : collecting all words and their counts\n",
            "2021-11-28 19:09:07,030 : INFO : PROGRESS: at example #0, processed 0 words (0/s), 0 word types, 0 tags\n"
          ]
        },
        {
          "output_type": "stream",
          "name": "stdout",
          "text": [
            "CPU Count: 2\n",
            "Config:\n",
            "{'dm': 1, 'vector_size': 100, 'window': 4, 'epochs': 40, 'min_count': 1, 'negative': 10, 'sample': 0.001, 'seed': 42}\n"
          ]
        },
        {
          "output_type": "stream",
          "name": "stderr",
          "text": [
            "2021-11-28 19:09:07,053 : INFO : collected 72 word types and 5199 unique tags from a corpus of 5199 examples and 79498 words\n",
            "2021-11-28 19:09:07,056 : INFO : Creating a fresh vocabulary\n",
            "2021-11-28 19:09:07,059 : INFO : Doc2Vec lifecycle event {'msg': 'effective_min_count=1 retains 72 unique words (100.0%% of original 72, drops 0)', 'datetime': '2021-11-28T19:09:07.059522', 'gensim': '4.1.2', 'python': '3.7.12 (default, Sep 10 2021, 00:21:48) \\n[GCC 7.5.0]', 'platform': 'Linux-5.4.104+-x86_64-with-Ubuntu-18.04-bionic', 'event': 'prepare_vocab'}\n",
            "2021-11-28 19:09:07,061 : INFO : Doc2Vec lifecycle event {'msg': 'effective_min_count=1 leaves 79498 word corpus (100.0%% of original 79498, drops 0)', 'datetime': '2021-11-28T19:09:07.061794', 'gensim': '4.1.2', 'python': '3.7.12 (default, Sep 10 2021, 00:21:48) \\n[GCC 7.5.0]', 'platform': 'Linux-5.4.104+-x86_64-with-Ubuntu-18.04-bionic', 'event': 'prepare_vocab'}\n",
            "2021-11-28 19:09:07,073 : INFO : deleting the raw counts dictionary of 72 items\n",
            "2021-11-28 19:09:07,076 : INFO : sample=0.001 downsamples 40 most-common words\n",
            "2021-11-28 19:09:07,078 : INFO : Doc2Vec lifecycle event {'msg': 'downsampling leaves estimated 17870.23741620813 word corpus (22.5%% of prior 79498)', 'datetime': '2021-11-28T19:09:07.077971', 'gensim': '4.1.2', 'python': '3.7.12 (default, Sep 10 2021, 00:21:48) \\n[GCC 7.5.0]', 'platform': 'Linux-5.4.104+-x86_64-with-Ubuntu-18.04-bionic', 'event': 'prepare_vocab'}\n",
            "2021-11-28 19:09:07,090 : INFO : estimated required memory for 72 words and 100 dimensions: 3213000 bytes\n",
            "2021-11-28 19:09:07,091 : INFO : resetting layer weights\n",
            "2021-11-28 19:09:07,103 : INFO : Doc2Vec lifecycle event {'msg': 'training model with 3 workers on 72 vocabulary and 100 features, using sg=0 hs=0 sample=0.001 negative=10 window=4 shrink_windows=True', 'datetime': '2021-11-28T19:09:07.103255', 'gensim': '4.1.2', 'python': '3.7.12 (default, Sep 10 2021, 00:21:48) \\n[GCC 7.5.0]', 'platform': 'Linux-5.4.104+-x86_64-with-Ubuntu-18.04-bionic', 'event': 'train'}\n",
            "2021-11-28 19:09:07,609 : INFO : worker thread finished; awaiting finish of 2 more threads\n",
            "2021-11-28 19:09:07,673 : INFO : worker thread finished; awaiting finish of 1 more threads\n",
            "2021-11-28 19:09:07,687 : INFO : worker thread finished; awaiting finish of 0 more threads\n",
            "2021-11-28 19:09:07,688 : INFO : EPOCH - 1 : training on 79498 raw words (23296 effective words) took 0.6s, 40701 effective words/s\n",
            "2021-11-28 19:09:08,213 : INFO : worker thread finished; awaiting finish of 2 more threads\n",
            "2021-11-28 19:09:08,280 : INFO : worker thread finished; awaiting finish of 1 more threads\n",
            "2021-11-28 19:09:08,292 : INFO : worker thread finished; awaiting finish of 0 more threads\n",
            "2021-11-28 19:09:08,293 : INFO : EPOCH - 2 : training on 79498 raw words (23006 effective words) took 0.6s, 38794 effective words/s\n",
            "2021-11-28 19:09:08,774 : INFO : worker thread finished; awaiting finish of 2 more threads\n",
            "2021-11-28 19:09:08,847 : INFO : worker thread finished; awaiting finish of 1 more threads\n",
            "2021-11-28 19:09:08,855 : INFO : worker thread finished; awaiting finish of 0 more threads\n",
            "2021-11-28 19:09:08,860 : INFO : EPOCH - 3 : training on 79498 raw words (23186 effective words) took 0.6s, 41738 effective words/s\n",
            "2021-11-28 19:09:09,373 : INFO : worker thread finished; awaiting finish of 2 more threads\n",
            "2021-11-28 19:09:09,439 : INFO : worker thread finished; awaiting finish of 1 more threads\n",
            "2021-11-28 19:09:09,445 : INFO : worker thread finished; awaiting finish of 0 more threads\n",
            "2021-11-28 19:09:09,446 : INFO : EPOCH - 4 : training on 79498 raw words (22830 effective words) took 0.6s, 39626 effective words/s\n",
            "2021-11-28 19:09:09,962 : INFO : worker thread finished; awaiting finish of 2 more threads\n",
            "2021-11-28 19:09:10,006 : INFO : worker thread finished; awaiting finish of 1 more threads\n",
            "2021-11-28 19:09:10,012 : INFO : worker thread finished; awaiting finish of 0 more threads\n",
            "2021-11-28 19:09:10,013 : INFO : EPOCH - 5 : training on 79498 raw words (23012 effective words) took 0.6s, 41505 effective words/s\n",
            "2021-11-28 19:09:10,538 : INFO : worker thread finished; awaiting finish of 2 more threads\n",
            "2021-11-28 19:09:10,594 : INFO : worker thread finished; awaiting finish of 1 more threads\n",
            "2021-11-28 19:09:10,603 : INFO : worker thread finished; awaiting finish of 0 more threads\n",
            "2021-11-28 19:09:10,604 : INFO : EPOCH - 6 : training on 79498 raw words (23023 effective words) took 0.6s, 39800 effective words/s\n",
            "2021-11-28 19:09:11,094 : INFO : worker thread finished; awaiting finish of 2 more threads\n",
            "2021-11-28 19:09:11,174 : INFO : worker thread finished; awaiting finish of 1 more threads\n",
            "2021-11-28 19:09:11,179 : INFO : worker thread finished; awaiting finish of 0 more threads\n",
            "2021-11-28 19:09:11,180 : INFO : EPOCH - 7 : training on 79498 raw words (23080 effective words) took 0.6s, 40886 effective words/s\n",
            "2021-11-28 19:09:11,674 : INFO : worker thread finished; awaiting finish of 2 more threads\n",
            "2021-11-28 19:09:11,724 : INFO : worker thread finished; awaiting finish of 1 more threads\n",
            "2021-11-28 19:09:11,726 : INFO : worker thread finished; awaiting finish of 0 more threads\n",
            "2021-11-28 19:09:11,728 : INFO : EPOCH - 8 : training on 79498 raw words (23027 effective words) took 0.5s, 43003 effective words/s\n",
            "2021-11-28 19:09:12,247 : INFO : worker thread finished; awaiting finish of 2 more threads\n",
            "2021-11-28 19:09:12,315 : INFO : worker thread finished; awaiting finish of 1 more threads\n",
            "2021-11-28 19:09:12,319 : INFO : worker thread finished; awaiting finish of 0 more threads\n",
            "2021-11-28 19:09:12,320 : INFO : EPOCH - 9 : training on 79498 raw words (23149 effective words) took 0.6s, 40093 effective words/s\n",
            "2021-11-28 19:09:12,804 : INFO : worker thread finished; awaiting finish of 2 more threads\n",
            "2021-11-28 19:09:12,873 : INFO : worker thread finished; awaiting finish of 1 more threads\n",
            "2021-11-28 19:09:12,884 : INFO : worker thread finished; awaiting finish of 0 more threads\n",
            "2021-11-28 19:09:12,885 : INFO : EPOCH - 10 : training on 79498 raw words (23176 effective words) took 0.6s, 41961 effective words/s\n",
            "2021-11-28 19:09:13,384 : INFO : worker thread finished; awaiting finish of 2 more threads\n",
            "2021-11-28 19:09:13,460 : INFO : worker thread finished; awaiting finish of 1 more threads\n",
            "2021-11-28 19:09:13,466 : INFO : worker thread finished; awaiting finish of 0 more threads\n",
            "2021-11-28 19:09:13,469 : INFO : EPOCH - 11 : training on 79498 raw words (23072 effective words) took 0.6s, 40435 effective words/s\n",
            "2021-11-28 19:09:13,899 : INFO : worker thread finished; awaiting finish of 2 more threads\n",
            "2021-11-28 19:09:13,996 : INFO : worker thread finished; awaiting finish of 1 more threads\n",
            "2021-11-28 19:09:14,004 : INFO : worker thread finished; awaiting finish of 0 more threads\n",
            "2021-11-28 19:09:14,005 : INFO : EPOCH - 12 : training on 79498 raw words (22996 effective words) took 0.5s, 43553 effective words/s\n",
            "2021-11-28 19:09:14,486 : INFO : worker thread finished; awaiting finish of 2 more threads\n",
            "2021-11-28 19:09:14,561 : INFO : worker thread finished; awaiting finish of 1 more threads\n",
            "2021-11-28 19:09:14,568 : INFO : worker thread finished; awaiting finish of 0 more threads\n",
            "2021-11-28 19:09:14,570 : INFO : EPOCH - 13 : training on 79498 raw words (23001 effective words) took 0.5s, 41921 effective words/s\n",
            "2021-11-28 19:09:15,042 : INFO : worker thread finished; awaiting finish of 2 more threads\n",
            "2021-11-28 19:09:15,099 : INFO : worker thread finished; awaiting finish of 1 more threads\n",
            "2021-11-28 19:09:15,112 : INFO : worker thread finished; awaiting finish of 0 more threads\n",
            "2021-11-28 19:09:15,113 : INFO : EPOCH - 14 : training on 79498 raw words (23034 effective words) took 0.5s, 43519 effective words/s\n",
            "2021-11-28 19:09:15,574 : INFO : worker thread finished; awaiting finish of 2 more threads\n",
            "2021-11-28 19:09:15,643 : INFO : worker thread finished; awaiting finish of 1 more threads\n",
            "2021-11-28 19:09:15,655 : INFO : worker thread finished; awaiting finish of 0 more threads\n",
            "2021-11-28 19:09:15,659 : INFO : EPOCH - 15 : training on 79498 raw words (23168 effective words) took 0.5s, 43341 effective words/s\n",
            "2021-11-28 19:09:16,172 : INFO : worker thread finished; awaiting finish of 2 more threads\n",
            "2021-11-28 19:09:16,246 : INFO : worker thread finished; awaiting finish of 1 more threads\n",
            "2021-11-28 19:09:16,255 : INFO : worker thread finished; awaiting finish of 0 more threads\n",
            "2021-11-28 19:09:16,256 : INFO : EPOCH - 16 : training on 79498 raw words (23176 effective words) took 0.6s, 39757 effective words/s\n",
            "2021-11-28 19:09:16,714 : INFO : worker thread finished; awaiting finish of 2 more threads\n",
            "2021-11-28 19:09:16,768 : INFO : worker thread finished; awaiting finish of 1 more threads\n",
            "2021-11-28 19:09:16,780 : INFO : worker thread finished; awaiting finish of 0 more threads\n",
            "2021-11-28 19:09:16,782 : INFO : EPOCH - 17 : training on 79498 raw words (22932 effective words) took 0.5s, 44839 effective words/s\n",
            "2021-11-28 19:09:17,288 : INFO : worker thread finished; awaiting finish of 2 more threads\n",
            "2021-11-28 19:09:17,371 : INFO : worker thread finished; awaiting finish of 1 more threads\n",
            "2021-11-28 19:09:17,381 : INFO : worker thread finished; awaiting finish of 0 more threads\n",
            "2021-11-28 19:09:17,384 : INFO : EPOCH - 18 : training on 79498 raw words (22992 effective words) took 0.6s, 38883 effective words/s\n",
            "2021-11-28 19:09:17,861 : INFO : worker thread finished; awaiting finish of 2 more threads\n",
            "2021-11-28 19:09:17,937 : INFO : worker thread finished; awaiting finish of 1 more threads\n",
            "2021-11-28 19:09:17,949 : INFO : worker thread finished; awaiting finish of 0 more threads\n",
            "2021-11-28 19:09:17,950 : INFO : EPOCH - 19 : training on 79498 raw words (23220 effective words) took 0.6s, 41861 effective words/s\n",
            "2021-11-28 19:09:18,428 : INFO : worker thread finished; awaiting finish of 2 more threads\n",
            "2021-11-28 19:09:18,501 : INFO : worker thread finished; awaiting finish of 1 more threads\n",
            "2021-11-28 19:09:18,510 : INFO : worker thread finished; awaiting finish of 0 more threads\n",
            "2021-11-28 19:09:18,511 : INFO : EPOCH - 20 : training on 79498 raw words (23071 effective words) took 0.5s, 41999 effective words/s\n",
            "2021-11-28 19:09:18,988 : INFO : worker thread finished; awaiting finish of 2 more threads\n",
            "2021-11-28 19:09:19,061 : INFO : worker thread finished; awaiting finish of 1 more threads\n",
            "2021-11-28 19:09:19,067 : INFO : worker thread finished; awaiting finish of 0 more threads\n",
            "2021-11-28 19:09:19,068 : INFO : EPOCH - 21 : training on 79498 raw words (23162 effective words) took 0.5s, 42779 effective words/s\n",
            "2021-11-28 19:09:19,566 : INFO : worker thread finished; awaiting finish of 2 more threads\n",
            "2021-11-28 19:09:19,637 : INFO : worker thread finished; awaiting finish of 1 more threads\n",
            "2021-11-28 19:09:19,646 : INFO : worker thread finished; awaiting finish of 0 more threads\n",
            "2021-11-28 19:09:19,647 : INFO : EPOCH - 22 : training on 79498 raw words (22999 effective words) took 0.6s, 40591 effective words/s\n",
            "2021-11-28 19:09:20,212 : INFO : worker thread finished; awaiting finish of 2 more threads\n",
            "2021-11-28 19:09:20,283 : INFO : worker thread finished; awaiting finish of 1 more threads\n",
            "2021-11-28 19:09:20,291 : INFO : worker thread finished; awaiting finish of 0 more threads\n",
            "2021-11-28 19:09:20,293 : INFO : EPOCH - 23 : training on 79498 raw words (23200 effective words) took 0.6s, 36653 effective words/s\n",
            "2021-11-28 19:09:20,731 : INFO : worker thread finished; awaiting finish of 2 more threads\n",
            "2021-11-28 19:09:20,803 : INFO : worker thread finished; awaiting finish of 1 more threads\n",
            "2021-11-28 19:09:20,810 : INFO : worker thread finished; awaiting finish of 0 more threads\n",
            "2021-11-28 19:09:20,812 : INFO : EPOCH - 24 : training on 79498 raw words (23091 effective words) took 0.5s, 45955 effective words/s\n",
            "2021-11-28 19:09:21,312 : INFO : worker thread finished; awaiting finish of 2 more threads\n",
            "2021-11-28 19:09:21,391 : INFO : worker thread finished; awaiting finish of 1 more threads\n",
            "2021-11-28 19:09:21,398 : INFO : worker thread finished; awaiting finish of 0 more threads\n",
            "2021-11-28 19:09:21,399 : INFO : EPOCH - 25 : training on 79498 raw words (23069 effective words) took 0.6s, 40155 effective words/s\n",
            "2021-11-28 19:09:21,860 : INFO : worker thread finished; awaiting finish of 2 more threads\n",
            "2021-11-28 19:09:21,924 : INFO : worker thread finished; awaiting finish of 1 more threads\n",
            "2021-11-28 19:09:21,936 : INFO : worker thread finished; awaiting finish of 0 more threads\n",
            "2021-11-28 19:09:21,938 : INFO : EPOCH - 26 : training on 79498 raw words (22997 effective words) took 0.5s, 43631 effective words/s\n",
            "2021-11-28 19:09:22,428 : INFO : worker thread finished; awaiting finish of 2 more threads\n",
            "2021-11-28 19:09:22,506 : INFO : worker thread finished; awaiting finish of 1 more threads\n",
            "2021-11-28 19:09:22,512 : INFO : worker thread finished; awaiting finish of 0 more threads\n",
            "2021-11-28 19:09:22,513 : INFO : EPOCH - 27 : training on 79498 raw words (23122 effective words) took 0.6s, 41333 effective words/s\n",
            "2021-11-28 19:09:22,967 : INFO : worker thread finished; awaiting finish of 2 more threads\n",
            "2021-11-28 19:09:23,047 : INFO : worker thread finished; awaiting finish of 1 more threads\n",
            "2021-11-28 19:09:23,056 : INFO : worker thread finished; awaiting finish of 0 more threads\n",
            "2021-11-28 19:09:23,057 : INFO : EPOCH - 28 : training on 79498 raw words (23131 effective words) took 0.5s, 43562 effective words/s\n",
            "2021-11-28 19:09:23,553 : INFO : worker thread finished; awaiting finish of 2 more threads\n",
            "2021-11-28 19:09:23,628 : INFO : worker thread finished; awaiting finish of 1 more threads\n",
            "2021-11-28 19:09:23,638 : INFO : worker thread finished; awaiting finish of 0 more threads\n",
            "2021-11-28 19:09:23,639 : INFO : EPOCH - 29 : training on 79498 raw words (22995 effective words) took 0.6s, 40374 effective words/s\n",
            "2021-11-28 19:09:24,147 : INFO : worker thread finished; awaiting finish of 2 more threads\n",
            "2021-11-28 19:09:24,221 : INFO : worker thread finished; awaiting finish of 1 more threads\n",
            "2021-11-28 19:09:24,225 : INFO : worker thread finished; awaiting finish of 0 more threads\n",
            "2021-11-28 19:09:24,228 : INFO : EPOCH - 30 : training on 79498 raw words (23040 effective words) took 0.6s, 40115 effective words/s\n",
            "2021-11-28 19:09:24,691 : INFO : worker thread finished; awaiting finish of 2 more threads\n",
            "2021-11-28 19:09:24,765 : INFO : worker thread finished; awaiting finish of 1 more threads\n",
            "2021-11-28 19:09:24,769 : INFO : worker thread finished; awaiting finish of 0 more threads\n",
            "2021-11-28 19:09:24,775 : INFO : EPOCH - 31 : training on 79498 raw words (23022 effective words) took 0.5s, 43036 effective words/s\n",
            "2021-11-28 19:09:25,264 : INFO : worker thread finished; awaiting finish of 2 more threads\n",
            "2021-11-28 19:09:25,335 : INFO : worker thread finished; awaiting finish of 1 more threads\n",
            "2021-11-28 19:09:25,346 : INFO : worker thread finished; awaiting finish of 0 more threads\n",
            "2021-11-28 19:09:25,347 : INFO : EPOCH - 32 : training on 79498 raw words (23042 effective words) took 0.6s, 41609 effective words/s\n",
            "2021-11-28 19:09:25,800 : INFO : worker thread finished; awaiting finish of 2 more threads\n",
            "2021-11-28 19:09:25,859 : INFO : worker thread finished; awaiting finish of 1 more threads\n",
            "2021-11-28 19:09:25,870 : INFO : worker thread finished; awaiting finish of 0 more threads\n",
            "2021-11-28 19:09:25,871 : INFO : EPOCH - 33 : training on 79498 raw words (23061 effective words) took 0.5s, 45282 effective words/s\n",
            "2021-11-28 19:09:26,392 : INFO : worker thread finished; awaiting finish of 2 more threads\n",
            "2021-11-28 19:09:26,451 : INFO : worker thread finished; awaiting finish of 1 more threads\n",
            "2021-11-28 19:09:26,462 : INFO : worker thread finished; awaiting finish of 0 more threads\n",
            "2021-11-28 19:09:26,463 : INFO : EPOCH - 34 : training on 79498 raw words (23160 effective words) took 0.6s, 39876 effective words/s\n",
            "2021-11-28 19:09:26,883 : INFO : worker thread finished; awaiting finish of 2 more threads\n",
            "2021-11-28 19:09:26,943 : INFO : worker thread finished; awaiting finish of 1 more threads\n",
            "2021-11-28 19:09:26,959 : INFO : worker thread finished; awaiting finish of 0 more threads\n",
            "2021-11-28 19:09:26,960 : INFO : EPOCH - 35 : training on 79498 raw words (23052 effective words) took 0.5s, 47282 effective words/s\n",
            "2021-11-28 19:09:27,431 : INFO : worker thread finished; awaiting finish of 2 more threads\n",
            "2021-11-28 19:09:27,498 : INFO : worker thread finished; awaiting finish of 1 more threads\n",
            "2021-11-28 19:09:27,505 : INFO : worker thread finished; awaiting finish of 0 more threads\n",
            "2021-11-28 19:09:27,507 : INFO : EPOCH - 36 : training on 79498 raw words (23140 effective words) took 0.5s, 43267 effective words/s\n",
            "2021-11-28 19:09:27,987 : INFO : worker thread finished; awaiting finish of 2 more threads\n",
            "2021-11-28 19:09:28,056 : INFO : worker thread finished; awaiting finish of 1 more threads\n",
            "2021-11-28 19:09:28,069 : INFO : worker thread finished; awaiting finish of 0 more threads\n",
            "2021-11-28 19:09:28,071 : INFO : EPOCH - 37 : training on 79498 raw words (22887 effective words) took 0.6s, 41510 effective words/s\n",
            "2021-11-28 19:09:28,602 : INFO : worker thread finished; awaiting finish of 2 more threads\n",
            "2021-11-28 19:09:28,670 : INFO : worker thread finished; awaiting finish of 1 more threads\n",
            "2021-11-28 19:09:28,678 : INFO : worker thread finished; awaiting finish of 0 more threads\n",
            "2021-11-28 19:09:28,679 : INFO : EPOCH - 38 : training on 79498 raw words (23057 effective words) took 0.6s, 38650 effective words/s\n",
            "2021-11-28 19:09:29,129 : INFO : worker thread finished; awaiting finish of 2 more threads\n",
            "2021-11-28 19:09:29,200 : INFO : worker thread finished; awaiting finish of 1 more threads\n",
            "2021-11-28 19:09:29,211 : INFO : worker thread finished; awaiting finish of 0 more threads\n",
            "2021-11-28 19:09:29,212 : INFO : EPOCH - 39 : training on 79498 raw words (23009 effective words) took 0.5s, 44436 effective words/s\n",
            "2021-11-28 19:09:29,731 : INFO : worker thread finished; awaiting finish of 2 more threads\n",
            "2021-11-28 19:09:29,803 : INFO : worker thread finished; awaiting finish of 1 more threads\n",
            "2021-11-28 19:09:29,812 : INFO : worker thread finished; awaiting finish of 0 more threads\n",
            "2021-11-28 19:09:29,814 : INFO : EPOCH - 40 : training on 79498 raw words (23155 effective words) took 0.6s, 39148 effective words/s\n",
            "2021-11-28 19:09:29,816 : INFO : Doc2Vec lifecycle event {'msg': 'training on 3179920 raw words (922838 effective words) took 22.7s, 40637 effective words/s', 'datetime': '2021-11-28T19:09:29.816272', 'gensim': '4.1.2', 'python': '3.7.12 (default, Sep 10 2021, 00:21:48) \\n[GCC 7.5.0]', 'platform': 'Linux-5.4.104+-x86_64-with-Ubuntu-18.04-bionic', 'event': 'train'}\n",
            "2021-11-28 19:09:29,817 : INFO : Doc2Vec lifecycle event {'params': 'Doc2Vec(dm/m,d100,n10,w4,s0.001,t3)', 'datetime': '2021-11-28T19:09:29.817438', 'gensim': '4.1.2', 'python': '3.7.12 (default, Sep 10 2021, 00:21:48) \\n[GCC 7.5.0]', 'platform': 'Linux-5.4.104+-x86_64-with-Ubuntu-18.04-bionic', 'event': 'created'}\n"
          ]
        }
      ]
    },
    {
      "cell_type": "code",
      "metadata": {
        "id": "G-cE7gug1Ct5",
        "colab": {
          "base_uri": "https://localhost:8080/"
        },
        "outputId": "375c1dca-965e-4418-f2fb-50eae20abab9"
      },
      "source": [
        "if use_wandb:\n",
        "  model_artifact = wandb.Artifact(\n",
        "      \"model_doc2vec\", \n",
        "      type=\"model\",\n",
        "      description=\"Doc2Vec model\",\n",
        "      metadata=\"\")\n",
        "\n",
        "  fname = 'doc2vec.model'\n",
        "  model.save(fname)\n",
        "\n",
        "  model_artifact.add_file(fname)\n",
        "  wandb.log_artifact(model_artifact)"
      ],
      "execution_count": 88,
      "outputs": [
        {
          "output_type": "stream",
          "name": "stderr",
          "text": [
            "2021-11-28 19:09:29,834 : INFO : Doc2Vec lifecycle event {'fname_or_handle': 'doc2vec.model', 'separately': 'None', 'sep_limit': 10485760, 'ignore': frozenset(), 'datetime': '2021-11-28T19:09:29.834615', 'gensim': '4.1.2', 'python': '3.7.12 (default, Sep 10 2021, 00:21:48) \\n[GCC 7.5.0]', 'platform': 'Linux-5.4.104+-x86_64-with-Ubuntu-18.04-bionic', 'event': 'saving'}\n",
            "2021-11-28 19:09:29,838 : INFO : not storing attribute cum_table\n",
            "2021-11-28 19:09:29,847 : INFO : saved doc2vec.model\n"
          ]
        }
      ]
    },
    {
      "cell_type": "markdown",
      "metadata": {
        "id": "jJvq2K93xAO5"
      },
      "source": [
        "### Test the distance between C and the diatonic chords\n",
        "\n",
        "Test if the model can capture that the diatonic chords are closer to the root.\n",
        "\n",
        "Do this only if the input corpus contains the unigrams. "
      ]
    },
    {
      "cell_type": "code",
      "metadata": {
        "id": "cH3TJxCfvoFm",
        "colab": {
          "base_uri": "https://localhost:8080/"
        },
        "outputId": "285dcf89-6627-40bf-f703-21a017fe06aa"
      },
      "source": [
        "test_tokens = ['C',\n",
        "              'Dm',\n",
        "              'Em',\n",
        "              'F',\n",
        "              'G7',\n",
        "              'Am',\n",
        "              #'Bm7b5',\n",
        "              'F7',\n",
        "              'D7',\n",
        "              'A7',\n",
        "              'E7',\n",
        "              'B7',\n",
        "              'F#7',\n",
        "               'Cm',\n",
        "               'D']\n",
        "\n",
        "if 1 in ngrams_for_input:\n",
        "  ref = 'C'\n",
        "  for t in test_tokens:\n",
        "    print(f\"{model.wv.similarity(ref, t):.3f}: {ref} <-> {t}\")"
      ],
      "execution_count": 89,
      "outputs": [
        {
          "output_type": "stream",
          "name": "stdout",
          "text": [
            "1.000: C <-> C\n",
            "0.184: C <-> Dm\n",
            "0.299: C <-> Em\n",
            "0.355: C <-> F\n",
            "0.603: C <-> G7\n",
            "0.324: C <-> Am\n",
            "0.054: C <-> F7\n",
            "0.383: C <-> D7\n",
            "0.511: C <-> A7\n",
            "0.279: C <-> E7\n",
            "0.106: C <-> B7\n",
            "-0.143: C <-> F#7\n",
            "0.057: C <-> Cm\n",
            "0.106: C <-> D\n"
          ]
        }
      ]
    },
    {
      "cell_type": "code",
      "metadata": {
        "id": "IfIRoWL4kpcB"
      },
      "source": [
        "if 1 in ngrams_for_input:\n",
        "  model.wv.similar_by_word('C', topn=20)"
      ],
      "execution_count": 90,
      "outputs": []
    },
    {
      "cell_type": "markdown",
      "metadata": {
        "id": "ix4n9S3_xQzD"
      },
      "source": [
        "Plot the generated word vectors in 2D space"
      ]
    },
    {
      "cell_type": "code",
      "metadata": {
        "id": "JjT_uNh0wthj",
        "colab": {
          "base_uri": "https://localhost:8080/",
          "height": 711
        },
        "outputId": "eae516ce-b55f-491f-d7c3-6c4c5d8ac0e0"
      },
      "source": [
        "from sklearn.manifold import TSNE\n",
        "\n",
        "# input data: vectors for all tokens\n",
        "weights = model.wv.vectors\n",
        "\n",
        "# only do this when the vocabulary is not too big....\n",
        "if len(weights) < 100:\n",
        "\n",
        "  # do T-SNE\n",
        "  tsne = TSNE(n_components=2, \n",
        "              random_state=42,\n",
        "              perplexity=30,\n",
        "              learning_rate='auto',\n",
        "              init='pca',\n",
        "              n_iter=2000\n",
        "              )\n",
        "  T = tsne.fit_transform(weights)\n",
        "\n",
        "  # plot\n",
        "  projected = pd.DataFrame(T)\n",
        "\n",
        "  fig = px.scatter(\n",
        "      projected, \n",
        "      x=0, y=1,\n",
        "      #color='mode',\n",
        "      text=model.wv.index_to_key,\n",
        "      width=800, height=600,\n",
        "      title=\"T-SNE applied to Chord Vectors for Tunes in Cmaj/Amin\"\n",
        "  )\n",
        "  fig.update_traces(textposition='top center')\n",
        "  fig.update_traces(textfont_size=12, selector=dict(type='scatter'))\n",
        "  fig.show()"
      ],
      "execution_count": 91,
      "outputs": [
        {
          "output_type": "stream",
          "name": "stderr",
          "text": [
            "/usr/local/lib/python3.7/dist-packages/sklearn/manifold/_t_sne.py:986: FutureWarning:\n",
            "\n",
            "The PCA initialization in TSNE will change to have the standard deviation of PC1 equal to 1e-4 in 1.2. This will ensure better convergence.\n",
            "\n"
          ]
        },
        {
          "output_type": "display_data",
          "data": {
            "text/html": [
              "<html>\n",
              "<head><meta charset=\"utf-8\" /></head>\n",
              "<body>\n",
              "    <div>\n",
              "            <script src=\"https://cdnjs.cloudflare.com/ajax/libs/mathjax/2.7.5/MathJax.js?config=TeX-AMS-MML_SVG\"></script><script type=\"text/javascript\">if (window.MathJax) {MathJax.Hub.Config({SVG: {font: \"STIX-Web\"}});}</script>\n",
              "                <script type=\"text/javascript\">window.PlotlyConfig = {MathJaxConfig: 'local'};</script>\n",
              "        <script src=\"https://cdn.plot.ly/plotly-latest.min.js\"></script>    \n",
              "            <div id=\"d5a7911a-d8b5-4511-a428-a2a1ccf0c67e\" class=\"plotly-graph-div\" style=\"height:600px; width:800px;\"></div>\n",
              "            <script type=\"text/javascript\">\n",
              "                \n",
              "                    window.PLOTLYENV=window.PLOTLYENV || {};\n",
              "                    \n",
              "                if (document.getElementById(\"d5a7911a-d8b5-4511-a428-a2a1ccf0c67e\")) {\n",
              "                    Plotly.newPlot(\n",
              "                        'd5a7911a-d8b5-4511-a428-a2a1ccf0c67e',\n",
              "                        [{\"hoverlabel\": {\"namelength\": 0}, \"hovertemplate\": \"0=%{x}<br>1=%{y}<br>text=%{text}\", \"legendgroup\": \"\", \"marker\": {\"color\": \"#636efa\", \"symbol\": \"circle\"}, \"mode\": \"markers+text\", \"name\": \"\", \"showlegend\": false, \"text\": [\"C\", \"G7\", \"Dm\", \"Am\", \"A7\", \"D7\", \"F\", \"C7\", \"E7\", \"Em\", \"F7\", \"Bb7\", \"Fm\", \"B7\", \"Gm\", \"G#7\", \"Bm7b5\", \"G\", \"Ebdim\", \"Eb7\", \"Cm\", \"F#m7b5\", \"Bm\", \"G#\", \"C#7\", \"Bb\", \"Em7b5\", \"E\", \"F#m\", \"F#7\", \"Eb\", \"F#dim\", \"C#dim\", \"Ebm\", \"C#\", \"A\", \"Dm7b5\", \"Bbm\", \"D\", \"C#m\", \"Cdim\", \"G#m\", \"B\", \"F#\", \"G#dim\", \"Am7b5\", \"Fdim\", \"Gdim\", \"G7(+b5)\", \"C#m7b5\", \"E7(+b5)\", \"Adim\", \"F#7(+b5)\", \"Gm7b5\", \"A7(+b5)\", \"B7(+b5)\", \"Edim\", \"G#m7b5\", \"C#7(+b5)\", \"Bb7(+b5)\", \"Fm7b5\", \"D7(+b5)\", \"Bbdim\", \"Bbm7b5\", \"C7(+b5)\", \"Ddim\", \"Bdim\", \"Ebm7b5\", \"G#7(+b5)\", \"F7(+b5)\", \"Cm7b5\", \"Eb7(+b5)\"], \"textfont\": {\"size\": 12}, \"textposition\": \"top center\", \"type\": \"scatter\", \"x\": [1.3344007730484009, 1.1689727306365967, 0.9333574771881104, 1.5295348167419434, 1.6191678047180176, 1.3790292739868164, 1.37898850440979, 0.4813542068004608, 1.3234446048736572, 1.462316870689392, -0.3299933671951294, -0.07360627502202988, 0.09937732666730881, 1.579404592514038, 0.3804045617580414, -0.5138064622879028, 0.5569964647293091, 2.700700521469116, 1.8310333490371704, -1.756522536277771, -1.357590913772583, 2.164689302444458, 2.5092272758483887, -2.2255706787109375, -2.7416157722473145, -1.155880331993103, 0.4002588093280792, 1.3502159118652344, 1.552986741065979, 0.7962361574172974, -2.5812323093414307, 1.148437738418579, 2.0995521545410156, -2.256894826889038, -2.5489675998687744, 1.9390136003494263, -0.7234819531440735, -2.1829254627227783, 2.4729623794555664, 1.841724157333374, 2.8594517707824707, -3.05362606048584, -2.940763473510742, -3.182086944580078, 1.3043755292892456, -1.0520005226135254, 1.8750852346420288, 2.9267499446868896, -1.2495616674423218, 3.409841537475586, -0.684895396232605, 2.4978585243225098, -1.092067837715149, -1.8727272748947144, -0.6000131964683533, -0.10330811142921448, 2.568490982055664, -0.4643630385398865, -0.13716311752796173, -0.9746273159980774, -1.8932371139526367, -1.0122946500778198, 1.0670695304870605, -2.359642505645752, -0.5340464115142822, 0.852482795715332, 0.681363046169281, 0.4037780463695526, -0.572994589805603, -0.7033990025520325, -1.087042212486267, -0.3679775595664978], \"xaxis\": \"x\", \"y\": [-1.2604854106903076, -1.3945034742355347, -1.0762490034103394, -1.4756821393966675, -1.4894517660140991, -0.9568378925323486, -1.8625664710998535, -1.0673573017120361, -1.0074642896652222, -0.8167880177497864, -1.0287178754806519, -0.9089732766151428, -0.9781762957572937, -0.30065447092056274, -1.3567564487457275, -0.36735090613365173, -1.822632908821106, -0.2647648751735687, -1.6642260551452637, -1.336220145225525, -0.7469494938850403, -1.0478687286376953, 0.3588608205318451, -0.5503517389297485, -0.8258487582206726, -0.9153551459312439, -2.1240596771240234, 0.8181502819061279, 0.8071390390396118, 1.5461924076080322, 0.2853739857673645, -2.341841697692871, -1.9651583433151245, 0.5857657194137573, 0.3075331747531891, 0.5628601312637329, -0.4179646074771881, -0.40343764424324036, 0.22896307706832886, 2.16259503364563, -1.718580722808838, 1.1047163009643555, 1.6227413415908813, 0.788733959197998, -2.7422096729278564, -0.0006700386293232441, -3.2496774196624756, -1.2531561851501465, 2.526047468185425, 0.3886365294456482, 2.0242013931274414, 1.5578947067260742, -2.3477959632873535, 0.15340948104858398, 2.3753421306610107, 2.7301387786865234, -2.7507755756378174, -3.5727999210357666, 2.075956106185913, 1.3344002962112427, 1.4188103675842285, 0.41996142268180847, 0.4115597605705261, 1.9907304048538208, 1.3497673273086548, -0.10749098658561707, 0.14089907705783844, 1.1998018026351929, 1.0855097770690918, 1.0796456336975098, 0.5492266416549683, 0.7686510682106018], \"yaxis\": \"y\"}],\n",
              "                        {\"height\": 600, \"legend\": {\"tracegroupgap\": 0}, \"template\": {\"data\": {\"bar\": [{\"error_x\": {\"color\": \"#2a3f5f\"}, \"error_y\": {\"color\": \"#2a3f5f\"}, \"marker\": {\"line\": {\"color\": \"#E5ECF6\", \"width\": 0.5}}, \"type\": \"bar\"}], \"barpolar\": [{\"marker\": {\"line\": {\"color\": \"#E5ECF6\", \"width\": 0.5}}, \"type\": \"barpolar\"}], \"carpet\": [{\"aaxis\": {\"endlinecolor\": \"#2a3f5f\", \"gridcolor\": \"white\", \"linecolor\": \"white\", \"minorgridcolor\": \"white\", \"startlinecolor\": \"#2a3f5f\"}, \"baxis\": {\"endlinecolor\": \"#2a3f5f\", \"gridcolor\": \"white\", \"linecolor\": \"white\", \"minorgridcolor\": \"white\", \"startlinecolor\": \"#2a3f5f\"}, \"type\": \"carpet\"}], \"choropleth\": [{\"colorbar\": {\"outlinewidth\": 0, \"ticks\": \"\"}, \"type\": \"choropleth\"}], \"contour\": [{\"colorbar\": {\"outlinewidth\": 0, \"ticks\": \"\"}, \"colorscale\": [[0.0, \"#0d0887\"], [0.1111111111111111, \"#46039f\"], [0.2222222222222222, \"#7201a8\"], [0.3333333333333333, \"#9c179e\"], [0.4444444444444444, \"#bd3786\"], [0.5555555555555556, \"#d8576b\"], [0.6666666666666666, \"#ed7953\"], [0.7777777777777778, \"#fb9f3a\"], [0.8888888888888888, \"#fdca26\"], [1.0, \"#f0f921\"]], \"type\": \"contour\"}], \"contourcarpet\": [{\"colorbar\": {\"outlinewidth\": 0, \"ticks\": \"\"}, \"type\": \"contourcarpet\"}], \"heatmap\": [{\"colorbar\": {\"outlinewidth\": 0, \"ticks\": \"\"}, \"colorscale\": [[0.0, \"#0d0887\"], [0.1111111111111111, \"#46039f\"], [0.2222222222222222, \"#7201a8\"], [0.3333333333333333, \"#9c179e\"], [0.4444444444444444, \"#bd3786\"], [0.5555555555555556, \"#d8576b\"], [0.6666666666666666, \"#ed7953\"], [0.7777777777777778, \"#fb9f3a\"], [0.8888888888888888, \"#fdca26\"], [1.0, \"#f0f921\"]], \"type\": \"heatmap\"}], \"heatmapgl\": [{\"colorbar\": {\"outlinewidth\": 0, \"ticks\": \"\"}, \"colorscale\": [[0.0, \"#0d0887\"], [0.1111111111111111, \"#46039f\"], [0.2222222222222222, \"#7201a8\"], [0.3333333333333333, \"#9c179e\"], [0.4444444444444444, \"#bd3786\"], [0.5555555555555556, \"#d8576b\"], [0.6666666666666666, \"#ed7953\"], [0.7777777777777778, \"#fb9f3a\"], [0.8888888888888888, \"#fdca26\"], [1.0, \"#f0f921\"]], \"type\": \"heatmapgl\"}], \"histogram\": [{\"marker\": {\"colorbar\": {\"outlinewidth\": 0, \"ticks\": \"\"}}, \"type\": \"histogram\"}], \"histogram2d\": [{\"colorbar\": {\"outlinewidth\": 0, \"ticks\": \"\"}, \"colorscale\": [[0.0, \"#0d0887\"], [0.1111111111111111, \"#46039f\"], [0.2222222222222222, \"#7201a8\"], [0.3333333333333333, \"#9c179e\"], [0.4444444444444444, \"#bd3786\"], [0.5555555555555556, \"#d8576b\"], [0.6666666666666666, \"#ed7953\"], [0.7777777777777778, \"#fb9f3a\"], [0.8888888888888888, \"#fdca26\"], [1.0, \"#f0f921\"]], \"type\": \"histogram2d\"}], \"histogram2dcontour\": [{\"colorbar\": {\"outlinewidth\": 0, \"ticks\": \"\"}, \"colorscale\": [[0.0, \"#0d0887\"], [0.1111111111111111, \"#46039f\"], [0.2222222222222222, \"#7201a8\"], [0.3333333333333333, \"#9c179e\"], [0.4444444444444444, \"#bd3786\"], [0.5555555555555556, \"#d8576b\"], [0.6666666666666666, \"#ed7953\"], [0.7777777777777778, \"#fb9f3a\"], [0.8888888888888888, \"#fdca26\"], [1.0, \"#f0f921\"]], \"type\": \"histogram2dcontour\"}], \"mesh3d\": [{\"colorbar\": {\"outlinewidth\": 0, \"ticks\": \"\"}, \"type\": \"mesh3d\"}], \"parcoords\": [{\"line\": {\"colorbar\": {\"outlinewidth\": 0, \"ticks\": \"\"}}, \"type\": \"parcoords\"}], \"pie\": [{\"automargin\": true, \"type\": \"pie\"}], \"scatter\": [{\"marker\": {\"colorbar\": {\"outlinewidth\": 0, \"ticks\": \"\"}}, \"type\": \"scatter\"}], \"scatter3d\": [{\"line\": {\"colorbar\": {\"outlinewidth\": 0, \"ticks\": \"\"}}, \"marker\": {\"colorbar\": {\"outlinewidth\": 0, \"ticks\": \"\"}}, \"type\": \"scatter3d\"}], \"scattercarpet\": [{\"marker\": {\"colorbar\": {\"outlinewidth\": 0, \"ticks\": \"\"}}, \"type\": \"scattercarpet\"}], \"scattergeo\": [{\"marker\": {\"colorbar\": {\"outlinewidth\": 0, \"ticks\": \"\"}}, \"type\": \"scattergeo\"}], \"scattergl\": [{\"marker\": {\"colorbar\": {\"outlinewidth\": 0, \"ticks\": \"\"}}, \"type\": \"scattergl\"}], \"scattermapbox\": [{\"marker\": {\"colorbar\": {\"outlinewidth\": 0, \"ticks\": \"\"}}, \"type\": \"scattermapbox\"}], \"scatterpolar\": [{\"marker\": {\"colorbar\": {\"outlinewidth\": 0, \"ticks\": \"\"}}, \"type\": \"scatterpolar\"}], \"scatterpolargl\": [{\"marker\": {\"colorbar\": {\"outlinewidth\": 0, \"ticks\": \"\"}}, \"type\": \"scatterpolargl\"}], \"scatterternary\": [{\"marker\": {\"colorbar\": {\"outlinewidth\": 0, \"ticks\": \"\"}}, \"type\": \"scatterternary\"}], \"surface\": [{\"colorbar\": {\"outlinewidth\": 0, \"ticks\": \"\"}, \"colorscale\": [[0.0, \"#0d0887\"], [0.1111111111111111, \"#46039f\"], [0.2222222222222222, \"#7201a8\"], [0.3333333333333333, \"#9c179e\"], [0.4444444444444444, \"#bd3786\"], [0.5555555555555556, \"#d8576b\"], [0.6666666666666666, \"#ed7953\"], [0.7777777777777778, \"#fb9f3a\"], [0.8888888888888888, \"#fdca26\"], [1.0, \"#f0f921\"]], \"type\": \"surface\"}], \"table\": [{\"cells\": {\"fill\": {\"color\": \"#EBF0F8\"}, \"line\": {\"color\": \"white\"}}, \"header\": {\"fill\": {\"color\": \"#C8D4E3\"}, \"line\": {\"color\": \"white\"}}, \"type\": \"table\"}]}, \"layout\": {\"annotationdefaults\": {\"arrowcolor\": \"#2a3f5f\", \"arrowhead\": 0, \"arrowwidth\": 1}, \"coloraxis\": {\"colorbar\": {\"outlinewidth\": 0, \"ticks\": \"\"}}, \"colorscale\": {\"diverging\": [[0, \"#8e0152\"], [0.1, \"#c51b7d\"], [0.2, \"#de77ae\"], [0.3, \"#f1b6da\"], [0.4, \"#fde0ef\"], [0.5, \"#f7f7f7\"], [0.6, \"#e6f5d0\"], [0.7, \"#b8e186\"], [0.8, \"#7fbc41\"], [0.9, \"#4d9221\"], [1, \"#276419\"]], \"sequential\": [[0.0, \"#0d0887\"], [0.1111111111111111, \"#46039f\"], [0.2222222222222222, \"#7201a8\"], [0.3333333333333333, \"#9c179e\"], [0.4444444444444444, \"#bd3786\"], [0.5555555555555556, \"#d8576b\"], [0.6666666666666666, \"#ed7953\"], [0.7777777777777778, \"#fb9f3a\"], [0.8888888888888888, \"#fdca26\"], [1.0, \"#f0f921\"]], \"sequentialminus\": [[0.0, \"#0d0887\"], [0.1111111111111111, \"#46039f\"], [0.2222222222222222, \"#7201a8\"], [0.3333333333333333, \"#9c179e\"], [0.4444444444444444, \"#bd3786\"], [0.5555555555555556, \"#d8576b\"], [0.6666666666666666, \"#ed7953\"], [0.7777777777777778, \"#fb9f3a\"], [0.8888888888888888, \"#fdca26\"], [1.0, \"#f0f921\"]]}, \"colorway\": [\"#636efa\", \"#EF553B\", \"#00cc96\", \"#ab63fa\", \"#FFA15A\", \"#19d3f3\", \"#FF6692\", \"#B6E880\", \"#FF97FF\", \"#FECB52\"], \"font\": {\"color\": \"#2a3f5f\"}, \"geo\": {\"bgcolor\": \"white\", \"lakecolor\": \"white\", \"landcolor\": \"#E5ECF6\", \"showlakes\": true, \"showland\": true, \"subunitcolor\": \"white\"}, \"hoverlabel\": {\"align\": \"left\"}, \"hovermode\": \"closest\", \"mapbox\": {\"style\": \"light\"}, \"paper_bgcolor\": \"white\", \"plot_bgcolor\": \"#E5ECF6\", \"polar\": {\"angularaxis\": {\"gridcolor\": \"white\", \"linecolor\": \"white\", \"ticks\": \"\"}, \"bgcolor\": \"#E5ECF6\", \"radialaxis\": {\"gridcolor\": \"white\", \"linecolor\": \"white\", \"ticks\": \"\"}}, \"scene\": {\"xaxis\": {\"backgroundcolor\": \"#E5ECF6\", \"gridcolor\": \"white\", \"gridwidth\": 2, \"linecolor\": \"white\", \"showbackground\": true, \"ticks\": \"\", \"zerolinecolor\": \"white\"}, \"yaxis\": {\"backgroundcolor\": \"#E5ECF6\", \"gridcolor\": \"white\", \"gridwidth\": 2, \"linecolor\": \"white\", \"showbackground\": true, \"ticks\": \"\", \"zerolinecolor\": \"white\"}, \"zaxis\": {\"backgroundcolor\": \"#E5ECF6\", \"gridcolor\": \"white\", \"gridwidth\": 2, \"linecolor\": \"white\", \"showbackground\": true, \"ticks\": \"\", \"zerolinecolor\": \"white\"}}, \"shapedefaults\": {\"line\": {\"color\": \"#2a3f5f\"}}, \"ternary\": {\"aaxis\": {\"gridcolor\": \"white\", \"linecolor\": \"white\", \"ticks\": \"\"}, \"baxis\": {\"gridcolor\": \"white\", \"linecolor\": \"white\", \"ticks\": \"\"}, \"bgcolor\": \"#E5ECF6\", \"caxis\": {\"gridcolor\": \"white\", \"linecolor\": \"white\", \"ticks\": \"\"}}, \"title\": {\"x\": 0.05}, \"xaxis\": {\"automargin\": true, \"gridcolor\": \"white\", \"linecolor\": \"white\", \"ticks\": \"\", \"title\": {\"standoff\": 15}, \"zerolinecolor\": \"white\", \"zerolinewidth\": 2}, \"yaxis\": {\"automargin\": true, \"gridcolor\": \"white\", \"linecolor\": \"white\", \"ticks\": \"\", \"title\": {\"standoff\": 15}, \"zerolinecolor\": \"white\", \"zerolinewidth\": 2}}}, \"title\": {\"text\": \"T-SNE applied to Chord Vectors for Tunes in Cmaj/Amin\"}, \"width\": 800, \"xaxis\": {\"anchor\": \"y\", \"domain\": [0.0, 1.0], \"title\": {\"text\": \"0\"}}, \"yaxis\": {\"anchor\": \"x\", \"domain\": [0.0, 1.0], \"title\": {\"text\": \"1\"}}},\n",
              "                        {\"responsive\": true}\n",
              "                    ).then(function(){\n",
              "                            \n",
              "var gd = document.getElementById('d5a7911a-d8b5-4511-a428-a2a1ccf0c67e');\n",
              "var x = new MutationObserver(function (mutations, observer) {{\n",
              "        var display = window.getComputedStyle(gd).display;\n",
              "        if (!display || display === 'none') {{\n",
              "            console.log([gd, 'removed!']);\n",
              "            Plotly.purge(gd);\n",
              "            observer.disconnect();\n",
              "        }}\n",
              "}});\n",
              "\n",
              "// Listen for the removal of the full notebook cells\n",
              "var notebookContainer = gd.closest('#notebook-container');\n",
              "if (notebookContainer) {{\n",
              "    x.observe(notebookContainer, {childList: true});\n",
              "}}\n",
              "\n",
              "// Listen for the clearing of the current output cell\n",
              "var outputEl = gd.closest('.output');\n",
              "if (outputEl) {{\n",
              "    x.observe(outputEl, {childList: true});\n",
              "}}\n",
              "\n",
              "                        })\n",
              "                };\n",
              "                \n",
              "            </script>\n",
              "        </div>\n",
              "</body>\n",
              "</html>"
            ]
          },
          "metadata": {}
        }
      ]
    },
    {
      "cell_type": "markdown",
      "metadata": {
        "id": "ajqb904KDwNV"
      },
      "source": [
        "## Section Similarity\n"
      ]
    },
    {
      "cell_type": "markdown",
      "metadata": {
        "id": "HS_k1g6ujjKP"
      },
      "source": [
        "### Single Tunes"
      ]
    },
    {
      "cell_type": "code",
      "metadata": {
        "id": "mPnEPL_k4TZn"
      },
      "source": [
        "def get_section_scores_doc2vec(tunes):\n",
        "\n",
        "  df_sim = pd.DataFrame(columns=['reference_title',\n",
        "                                 'reference_titleid',\n",
        "                                 'similar_title',\n",
        "                                 'similar_titleid',\n",
        "                                 'ref_section', \n",
        "                                 'similar_section', \n",
        "                                 'score', \n",
        "                                 ])\n",
        "\n",
        "  tag_sections_and_tunes = doc2vec_config['general']['tag_sections_and_tunes']\n",
        "\n",
        "  ### get titleid from tunes, use enumerate\n",
        "\n",
        "  for tune in tunes:\n",
        "    print()\n",
        "    print(\"-\"*50)\n",
        "    for s1 in title_to_sectionid[tune]:\n",
        "    \n",
        "      # sections are tagged with the numeric sectionid and can be used for querying\n",
        "      sims = model.dv.similar_by_key(s1, topn=20)\n",
        "      \n",
        "      print(s1, sectionid_to_section[s1])\n",
        "      n = 0\n",
        "      for s2, s2_score in sims:\n",
        "\n",
        "        # if the sections are tagged with both sectionid and tuneid:\n",
        "        if tag_sections_and_tunes:\n",
        "          # only consider similarities to tuneids, ignore sectionids\n",
        "          if type(s2) == str: \n",
        "            s2 = int(s2.replace('titleid_', ''))\n",
        "            # don't count self-similarity between sections of the same tune\n",
        "            if s2 not in title_to_sectionid[tune]:\n",
        "              n += 1\n",
        "          \n",
        "              # print(f\"\\t{s2_score:.3f} {sectionid_to_section[s2]}\")\n",
        "\n",
        "              df_sim.loc[len(df_sim)] = [tune,\n",
        "                                          title_to_titleid[tune],\n",
        "                                          sectionid_to_title[s2],\n",
        "                                          sectionid_to_titleid[s2],\n",
        "                                          sectionid_to_section[s1], \n",
        "                                          sectionid_to_section[s2], \n",
        "                                          s2_score, \n",
        "                                          ]\n",
        "        else:\n",
        "          if type(s2) == int: \n",
        "            # don't count self-similarity between sections of the same tune\n",
        "            if s2 not in title_to_sectionid[tune]:\n",
        "              n += 1\n",
        "          \n",
        "              # print(f\"\\t{s2_score:.3f} {sectionid_to_section[s2]}\")\n",
        "\n",
        "              df_sim.loc[len(df_sim)] = [tune,\n",
        "                                          title_to_titleid[tune],\n",
        "                                          sectionid_to_title[s2],\n",
        "                                          sectionid_to_titleid[s2],\n",
        "                                          sectionid_to_section[s1], \n",
        "                                          sectionid_to_section[s2], \n",
        "                                          s2_score, \n",
        "                                          ]            \n",
        "\n",
        "  print()\n",
        "  if tag_sections_and_tunes:\n",
        "    print(f\"Sections are tagged with the tune id, therefore only the tune similarity is evaluated.\")\n",
        "  else:\n",
        "    print(f\"Sections are tagged only with the section id, therefore only section similarity is evaluated.\")\n",
        "\n",
        "  return df_sim"
      ],
      "execution_count": 92,
      "outputs": []
    },
    {
      "cell_type": "code",
      "metadata": {
        "colab": {
          "base_uri": "https://localhost:8080/"
        },
        "id": "i_d92il649O9",
        "outputId": "88ba42e0-eb2a-4b6e-a261-4240878e5eed"
      },
      "source": [
        "_tunes = tunes_eval_list\n",
        "\n",
        "df_sim = get_section_scores_doc2vec(_tunes)\n",
        "\n",
        "result = None\n",
        "for tune in _tunes:\n",
        "  tune_result, details = recommend_tune(df_sim, tune)\n",
        "  if result is None:\n",
        "    result = pd.DataFrame(columns=tune_result.columns)\n",
        "  result = result.append(tune_result)\n",
        "\n",
        "print(f\"Result has {len(result)} rows.\")\n",
        "\n",
        "# save a copy of the results; all results will be concatenated at the end\n",
        "df_doc2vec = df_sim[:]"
      ],
      "execution_count": 93,
      "outputs": [
        {
          "output_type": "stream",
          "name": "stdout",
          "text": [
            "\n",
            "--------------------------------------------------\n",
            "188 All God's Chillun Got Rhythm, section1 (A)\n",
            "189 All God's Chillun Got Rhythm, section2 (B)\n",
            "190 All God's Chillun Got Rhythm, section3 (A)\n",
            "191 All God's Chillun Got Rhythm, section4 (C)\n",
            "\n",
            "--------------------------------------------------\n",
            "198 All Of Me, section1 (A)\n",
            "199 All Of Me, section2 (B)\n",
            "200 All Of Me, section3 (A)\n",
            "201 All Of Me, section4 (C)\n",
            "\n",
            "--------------------------------------------------\n",
            "496 Blue Moon, section1 (A)\n",
            "497 Blue Moon, section2 (A)\n",
            "498 Blue Moon, section3 (B)\n",
            "499 Blue Moon, section4 (A)\n",
            "\n",
            "--------------------------------------------------\n",
            "653 Bye Bye Blackbird, section1 (A)\n",
            "654 Bye Bye Blackbird, section2 (B)\n",
            "\n",
            "--------------------------------------------------\n",
            "1220 Exactly Like You, section1 (A)\n",
            "1221 Exactly Like You, section2 (A)\n",
            "1222 Exactly Like You, section3 (B)\n",
            "1223 Exactly Like You, section4 (A)\n",
            "\n",
            "--------------------------------------------------\n",
            "1538 Honeysuckle Rose, section1 (A)\n",
            "1539 Honeysuckle Rose, section2 (A)\n",
            "1540 Honeysuckle Rose, section3 (B)\n",
            "1541 Honeysuckle Rose, section4 (A)\n",
            "\n",
            "--------------------------------------------------\n",
            "1647 I Got Rhythm, section1 (A)\n",
            "1648 I Got Rhythm, section2 (A)\n",
            "1649 I Got Rhythm, section3 (B)\n",
            "1650 I Got Rhythm, section4 (A)\n",
            "\n",
            "--------------------------------------------------\n",
            "2670 Misty, section1 (A)\n",
            "2671 Misty, section2 (A)\n",
            "2672 Misty, section3 (B)\n",
            "2673 Misty, section4 (A)\n",
            "\n",
            "--------------------------------------------------\n",
            "2857 Naima, section1 (A)\n",
            "2858 Naima, section2 (A)\n",
            "2859 Naima, section3 (B)\n",
            "2860 Naima, section4 (A)\n",
            "\n",
            "--------------------------------------------------\n",
            "4920 Old Fashioned Love, section0 (nan)\n",
            "\n",
            "--------------------------------------------------\n",
            "3006 On The Sunny Side Of The Street, section1 (A)\n",
            "3007 On The Sunny Side Of The Street, section2 (A)\n",
            "3008 On The Sunny Side Of The Street, section3 (B)\n",
            "3009 On The Sunny Side Of The Street, section4 (A)\n",
            "\n",
            "--------------------------------------------------\n",
            "3746 Sweet Sue, Just You, section1 (A)\n",
            "3747 Sweet Sue, Just You, section2 (A)\n",
            "3748 Sweet Sue, Just You, section3 (B)\n",
            "3749 Sweet Sue, Just You, section4 (A)\n",
            "\n",
            "--------------------------------------------------\n",
            "3860 These Foolish Things, section1 (A)\n",
            "3861 These Foolish Things, section2 (A)\n",
            "3862 These Foolish Things, section3 (B)\n",
            "3863 These Foolish Things, section4 (A)\n",
            "\n",
            "Sections are tagged only with the section id, therefore only section similarity is evaluated.\n",
            "Result has 622 rows.\n"
          ]
        }
      ]
    },
    {
      "cell_type": "code",
      "metadata": {
        "colab": {
          "base_uri": "https://localhost:8080/",
          "height": 542
        },
        "id": "n4dv7VVe5NT4",
        "outputId": "760fe3b4-7a87-4d5b-b49e-37a432e87b02"
      },
      "source": [
        "import plotly.express as px\n",
        "fig = px.histogram(df_sim, x=\"score\", nbins=50, title='doc2vec sections')\n",
        "fig.show()"
      ],
      "execution_count": 94,
      "outputs": [
        {
          "output_type": "display_data",
          "data": {
            "text/html": [
              "<html>\n",
              "<head><meta charset=\"utf-8\" /></head>\n",
              "<body>\n",
              "    <div>\n",
              "            <script src=\"https://cdnjs.cloudflare.com/ajax/libs/mathjax/2.7.5/MathJax.js?config=TeX-AMS-MML_SVG\"></script><script type=\"text/javascript\">if (window.MathJax) {MathJax.Hub.Config({SVG: {font: \"STIX-Web\"}});}</script>\n",
              "                <script type=\"text/javascript\">window.PlotlyConfig = {MathJaxConfig: 'local'};</script>\n",
              "        <script src=\"https://cdn.plot.ly/plotly-latest.min.js\"></script>    \n",
              "            <div id=\"eb1dbed8-e4f6-49ec-bcd7-6f6d161580e4\" class=\"plotly-graph-div\" style=\"height:525px; width:100%;\"></div>\n",
              "            <script type=\"text/javascript\">\n",
              "                \n",
              "                    window.PLOTLYENV=window.PLOTLYENV || {};\n",
              "                    \n",
              "                if (document.getElementById(\"eb1dbed8-e4f6-49ec-bcd7-6f6d161580e4\")) {\n",
              "                    Plotly.newPlot(\n",
              "                        'eb1dbed8-e4f6-49ec-bcd7-6f6d161580e4',\n",
              "                        [{\"alignmentgroup\": \"True\", \"bingroup\": \"x\", \"hoverlabel\": {\"namelength\": 0}, \"hovertemplate\": \"score=%{x}<br>count=%{y}\", \"legendgroup\": \"\", \"marker\": {\"color\": \"#636efa\"}, \"name\": \"\", \"nbinsx\": 50, \"offsetgroup\": \"\", \"orientation\": \"v\", \"showlegend\": false, \"type\": \"histogram\", \"x\": [0.9474971890449524, 0.9467146992683411, 0.9444878697395325, 0.943550705909729, 0.940401554107666, 0.9391713738441467, 0.9348316192626953, 0.9343180656433105, 0.9315137267112732, 0.9310777187347412, 0.9273373484611511, 0.9267447590827942, 0.9262848496437073, 0.9262654781341553, 0.9247452616691589, 0.9224048256874084, 0.9185701012611389, 0.9160047173500061, 0.9139495491981506, 0.9497043490409851, 0.939668595790863, 0.9387258887290955, 0.9376649856567383, 0.9324841499328613, 0.9304224848747253, 0.9240111708641052, 0.9209446310997009, 0.9162155389785767, 0.9150038361549377, 0.909945547580719, 0.9084210991859436, 0.9042556285858154, 0.9019716382026672, 0.900612473487854, 0.9005348086357117, 0.8967199325561523, 0.8945859670639038, 0.8941148519515991, 0.9632310271263123, 0.9621386528015137, 0.9529051184654236, 0.9506319761276245, 0.9497004151344299, 0.9494813084602356, 0.9481963515281677, 0.9466463327407837, 0.9465696811676025, 0.9423439502716064, 0.9361050724983215, 0.9356641173362732, 0.9345195293426514, 0.933785617351532, 0.9326076507568359, 0.931350588798523, 0.9312698841094971, 0.9312077760696411, 0.9310141205787659, 0.9579071998596191, 0.9545841217041016, 0.9538196325302124, 0.9427799582481384, 0.9427291750907898, 0.9408760666847229, 0.9391250610351562, 0.9320192337036133, 0.9314944744110107, 0.9305130243301392, 0.9300616979598999, 0.9262503385543823, 0.9238100051879883, 0.9223787188529968, 0.9195842742919922, 0.9189141988754272, 0.9182016849517822, 0.917044460773468, 0.9143033027648926, 0.9535036087036133, 0.9472651481628418, 0.945430338382721, 0.939865231513977, 0.9379830956459045, 0.9351948499679565, 0.9324286580085754, 0.9309069514274597, 0.9282834529876709, 0.9186915755271912, 0.917428195476532, 0.9172167181968689, 0.917006254196167, 0.9166321158409119, 0.914209246635437, 0.9121267199516296, 0.9118654131889343, 0.9112851619720459, 0.9109393358230591, 0.973138689994812, 0.9650384187698364, 0.9610502123832703, 0.9584850668907166, 0.9519051313400269, 0.9517672657966614, 0.9517281651496887, 0.9481760859489441, 0.9472739696502686, 0.9469541311264038, 0.9468814134597778, 0.9465354084968567, 0.9417779445648193, 0.9406795501708984, 0.9385806322097778, 0.9384948015213013, 0.9381551146507263, 0.9363859295845032, 0.9322105646133423, 0.9301302433013916, 0.9708636403083801, 0.9552874565124512, 0.9531550407409668, 0.9523122906684875, 0.9464420080184937, 0.9449902772903442, 0.9443281292915344, 0.9412164688110352, 0.9389849305152893, 0.9381243586540222, 0.9359523057937622, 0.9346684217453003, 0.933660089969635, 0.9314374327659607, 0.9279657602310181, 0.9264649152755737, 0.9256232976913452, 0.9250872731208801, 0.9234785437583923, 0.9494544863700867, 0.9494202136993408, 0.9438000917434692, 0.9416908025741577, 0.9390656352043152, 0.9366787075996399, 0.9352420568466187, 0.9343434572219849, 0.9334491491317749, 0.9319660663604736, 0.9276061058044434, 0.926460862159729, 0.926177978515625, 0.9250500798225403, 0.9241645336151123, 0.922591507434845, 0.920802652835846, 0.9205982685089111, 0.9176276922225952, 0.9170675873756409, 0.9080570340156555, 0.9079129099845886, 0.9037178158760071, 0.9032496213912964, 0.9016478657722473, 0.9005725979804993, 0.9000829458236694, 0.8954184055328369, 0.8950998783111572, 0.8949568867683411, 0.8890032172203064, 0.888015866279602, 0.8867431282997131, 0.8857678771018982, 0.8809367418289185, 0.8806461095809937, 0.8785918951034546, 0.8775603175163269, 0.8768012523651123, 0.9246132373809814, 0.9225919246673584, 0.9164202809333801, 0.909039318561554, 0.9046105742454529, 0.9036681056022644, 0.9016225337982178, 0.9010145664215088, 0.8954996466636658, 0.8851867914199829, 0.8844521045684814, 0.8834471106529236, 0.8801788687705994, 0.8783624768257141, 0.8778542876243591, 0.8770169019699097, 0.8760340809822083, 0.8748111128807068, 0.8744258284568787, 0.8742823004722595, 0.8754497170448303, 0.8577040433883667, 0.8459925055503845, 0.840926468372345, 0.8358116149902344, 0.834994912147522, 0.8337059617042542, 0.8156948089599609, 0.8143473863601685, 0.8083879351615906, 0.8025644421577454, 0.7898311614990234, 0.7854675650596619, 0.7852073907852173, 0.7850962281227112, 0.7775136232376099, 0.7731780409812927, 0.7730011343955994, 0.7635681629180908, 0.7612469792366028, 0.9166220426559448, 0.911037802696228, 0.8918070793151855, 0.8735535740852356, 0.8651906847953796, 0.8603305816650391, 0.8596459031105042, 0.8560478687286377, 0.8514612913131714, 0.8502839803695679, 0.8496860265731812, 0.849367082118988, 0.8487304449081421, 0.8480110764503479, 0.847200870513916, 0.846434473991394, 0.8462556600570679, 0.8439809083938599, 0.8434937596321106, 0.9444612264633179, 0.9401639699935913, 0.9384332299232483, 0.9320339560508728, 0.9283638000488281, 0.9248745441436768, 0.9238021969795227, 0.9231197237968445, 0.9204188585281372, 0.9198936820030212, 0.9185994863510132, 0.9178007245063782, 0.9169396162033081, 0.916278064250946, 0.9161791801452637, 0.9156212210655212, 0.9143580198287964, 0.9127030372619629, 0.9103012681007385, 0.9094027280807495, 0.9306793808937073, 0.9255481958389282, 0.9109533429145813, 0.904800534248352, 0.9014167785644531, 0.899516761302948, 0.8945966362953186, 0.8933514356613159, 0.8801788091659546, 0.874251663684845, 0.8724769949913025, 0.8704859614372253, 0.8649211525917053, 0.8648274540901184, 0.8636408448219299, 0.8575940728187561, 0.8569905757904053, 0.8546162247657776, 0.8505325317382812, 0.8503671288490295, 0.978867769241333, 0.9739941954612732, 0.9676833152770996, 0.9653841257095337, 0.9636174440383911, 0.9624853730201721, 0.9608761668205261, 0.960129976272583, 0.9593007564544678, 0.9584335088729858, 0.9565910696983337, 0.9560132622718811, 0.9556608200073242, 0.9549795389175415, 0.9545390009880066, 0.9525555968284607, 0.9494818449020386, 0.9494640231132507, 0.9485886693000793, 0.9446541666984558, 0.9435803294181824, 0.9403446912765503, 0.9388488531112671, 0.9371296763420105, 0.9348984360694885, 0.9297995567321777, 0.9278005957603455, 0.9274269938468933, 0.9271878600120544, 0.9267758727073669, 0.9154537916183472, 0.9119312167167664, 0.9103879332542419, 0.9099739193916321, 0.9090020060539246, 0.9076572060585022, 0.9058666229248047, 0.9057114720344543, 0.9047777652740479, 0.9327276349067688, 0.9321107268333435, 0.9216678142547607, 0.9177266955375671, 0.9162498712539673, 0.9152438044548035, 0.9139558672904968, 0.9106072187423706, 0.9097253084182739, 0.9082517027854919, 0.9081484079360962, 0.9070351123809814, 0.9042156934738159, 0.9039813280105591, 0.9029890298843384, 0.8989996314048767, 0.8982187509536743, 0.8979356288909912, 0.8979111909866333, 0.8976351022720337, 0.9756516814231873, 0.9685094356536865, 0.9670159220695496, 0.9632103443145752, 0.9609084725379944, 0.9570857882499695, 0.9537929892539978, 0.951341450214386, 0.9511181712150574, 0.9495723843574524, 0.9488955736160278, 0.9480801820755005, 0.9473460912704468, 0.9472513198852539, 0.942742645740509, 0.9423852562904358, 0.9405560493469238, 0.9393550753593445, 0.9391405582427979, 0.9595324397087097, 0.9532484412193298, 0.9516028761863708, 0.9490125775337219, 0.9476117491722107, 0.9473965764045715, 0.9469993114471436, 0.9461512565612793, 0.9424530863761902, 0.9404522180557251, 0.9393993020057678, 0.9393810033798218, 0.9391960501670837, 0.938127338886261, 0.9367404580116272, 0.9355572462081909, 0.9354912042617798, 0.9353303909301758, 0.9352032542228699, 0.9634169936180115, 0.9565654993057251, 0.9529902935028076, 0.9522687792778015, 0.9463886022567749, 0.9435712695121765, 0.9433757662773132, 0.9422342777252197, 0.9417145848274231, 0.9399546980857849, 0.9390971660614014, 0.9386410713195801, 0.9384762644767761, 0.938184380531311, 0.9344437718391418, 0.9341424107551575, 0.9337848424911499, 0.9333122968673706, 0.9325085878372192, 0.9320352673530579, 0.9761574268341064, 0.9717602133750916, 0.9702698588371277, 0.9698778986930847, 0.9631512761116028, 0.9607484340667725, 0.9550026655197144, 0.9513911008834839, 0.9425920844078064, 0.9395744204521179, 0.9383962750434875, 0.9362096190452576, 0.9355392456054688, 0.9321478009223938, 0.9304379820823669, 0.9304126501083374, 0.9303266406059265, 0.9265241026878357, 0.9260175228118896, 0.9254974126815796, 0.9616155028343201, 0.9590059518814087, 0.958430290222168, 0.9537853598594666, 0.9529107809066772, 0.9510142207145691, 0.9508642554283142, 0.9478150606155396, 0.9456951022148132, 0.9420462846755981, 0.9414670467376709, 0.9412499070167542, 0.9373829960823059, 0.9372177124023438, 0.9370076656341553, 0.9364640116691589, 0.9363396763801575, 0.9338913559913635, 0.9334909319877625, 0.9249992966651917, 0.9215170741081238, 0.919442355632782, 0.9138734340667725, 0.9124549627304077, 0.9114689230918884, 0.9094805717468262, 0.9075071215629578, 0.8976290822029114, 0.8964126706123352, 0.8962884545326233, 0.8948383927345276, 0.8945751786231995, 0.8940597176551819, 0.8930323719978333, 0.8918992877006531, 0.8896284103393555, 0.8888887166976929, 0.9305667281150818, 0.9269430637359619, 0.9217715263366699, 0.9191081523895264, 0.9141969680786133, 0.9097470045089722, 0.9069609642028809, 0.9069234728813171, 0.9046013355255127, 0.9042168259620667, 0.9026899933815002, 0.9026471376419067, 0.9024578928947449, 0.9000820517539978, 0.8996991515159607, 0.8983009457588196, 0.8959192633628845, 0.8955682516098022, 0.9745312333106995, 0.9706867933273315, 0.9697872400283813, 0.9684696793556213, 0.9683682322502136, 0.9659390449523926, 0.9658881425857544, 0.9647283554077148, 0.9612357020378113, 0.9560815691947937, 0.9509372115135193, 0.950775146484375, 0.950415849685669, 0.9492241144180298, 0.9430148005485535, 0.9376310706138611, 0.9373130202293396, 0.9366461038589478, 0.931935727596283, 0.930818498134613, 0.8969996571540833, 0.8907038569450378, 0.8902484774589539, 0.889817476272583, 0.8881596326828003, 0.8876264095306396, 0.8872137665748596, 0.8870729804039001, 0.8866206407546997, 0.8865066170692444, 0.8861894607543945, 0.8853296041488647, 0.8841533660888672, 0.8840804696083069, 0.8838525414466858, 0.8830782175064087, 0.8827988505363464, 0.8827511072158813, 0.9481726884841919, 0.9362908005714417, 0.936246395111084, 0.9360410571098328, 0.9355395436286926, 0.932793915271759, 0.9310548901557922, 0.9281826615333557, 0.9276254177093506, 0.926690399646759, 0.9256339073181152, 0.9256143569946289, 0.9229406118392944, 0.9224804639816284, 0.9217383861541748, 0.921595573425293, 0.9199742078781128, 0.9193356037139893, 0.9189951419830322, 0.9568771123886108, 0.9342814087867737, 0.932839035987854, 0.9327307343482971, 0.9320221543312073, 0.9292212724685669, 0.9289987087249756, 0.9288415908813477, 0.9272198677062988, 0.9241205453872681, 0.9205234050750732, 0.917818009853363, 0.9177281260490417, 0.9173120260238647, 0.9160751700401306, 0.915121853351593, 0.9144469499588013, 0.9131299257278442, 0.8722537159919739, 0.8580464124679565, 0.8570250272750854, 0.8562601208686829, 0.8450639247894287, 0.8354765772819519, 0.8353497982025146, 0.829571545124054, 0.8258162140846252, 0.8186751008033752, 0.817312479019165, 0.8164958357810974, 0.8063559532165527, 0.8051635026931763, 0.8049830794334412, 0.8013859391212463, 0.8011453747749329, 0.8003836870193481, 0.8000953793525696, 0.7983057498931885, 0.9574998021125793, 0.9496829509735107, 0.9360837340354919, 0.9326400756835938, 0.9299963116645813, 0.9295895099639893, 0.9294030070304871, 0.9293065071105957, 0.9285271763801575, 0.925704836845398, 0.9240490198135376, 0.9236807227134705, 0.9213331341743469, 0.9205074906349182, 0.919821560382843, 0.9185308218002319, 0.9184572100639343, 0.9150661826133728, 0.9143882393836975, 0.9133722186088562, 0.9105018973350525, 0.909557580947876, 0.9065255522727966, 0.9059131145477295, 0.8954327702522278, 0.894267201423645, 0.8940305113792419, 0.8797820806503296, 0.8794757723808289, 0.8764626383781433, 0.8746413588523865, 0.8728247880935669, 0.8724571466445923, 0.8724032640457153, 0.8627220392227173, 0.8611170649528503, 0.8602892160415649, 0.9385305047035217, 0.9290352463722229, 0.9287056922912598, 0.9230759143829346, 0.9225978851318359, 0.9108705520629883, 0.909514307975769, 0.9087799191474915, 0.9073920249938965, 0.9068172574043274, 0.9033585786819458, 0.8976227641105652, 0.8927383422851562, 0.8925422430038452, 0.8903377652168274, 0.8885276317596436, 0.8864973783493042, 0.8845263719558716, 0.8817418813705444, 0.92378830909729, 0.905857264995575, 0.9043490290641785, 0.9001226425170898, 0.8991301655769348, 0.8950523734092712, 0.8839728832244873, 0.8770719766616821, 0.8758228421211243, 0.8694796562194824, 0.8550143837928772, 0.8540682196617126, 0.8459924459457397, 0.8402975797653198, 0.8345149159431458, 0.8299691081047058, 0.8266453146934509, 0.8248129487037659, 0.8204357028007507, 0.8174867630004883, 0.8677595853805542, 0.8610785007476807, 0.8495199084281921, 0.8302144408226013, 0.8292110562324524, 0.8270664811134338, 0.826501190662384, 0.8234127163887024, 0.8198635578155518, 0.8117507696151733, 0.811240553855896, 0.8089724779129028, 0.801548421382904, 0.8012909889221191, 0.7985699772834778, 0.79106605052948, 0.7892084121704102, 0.7882123589515686, 0.9249755144119263, 0.9193137884140015, 0.9186351895332336, 0.9174630641937256, 0.916540801525116, 0.9147250056266785, 0.909614086151123, 0.9088070392608643, 0.9084437489509583, 0.905940055847168, 0.9045940041542053, 0.9038187265396118, 0.9029951691627502, 0.9023756980895996, 0.9011552929878235, 0.8998852372169495, 0.8997517228126526, 0.8985031843185425, 0.8981768488883972, 0.8979923129081726, 0.9464420080184937, 0.9419190287590027, 0.938142716884613, 0.9377370476722717, 0.9377273917198181, 0.9371321201324463, 0.9362959265708923, 0.9360561370849609, 0.9344528317451477, 0.9333480000495911, 0.9318699836730957, 0.9312002062797546, 0.9303606748580933, 0.9266308546066284, 0.9256048202514648, 0.9252780079841614, 0.9244508743286133, 0.9241406321525574, 0.9240524768829346, 0.9238377213478088, 0.9696676731109619, 0.9649258852005005, 0.9546707272529602, 0.9544703960418701, 0.9514579772949219, 0.9457117319107056, 0.945297122001648, 0.9406353831291199, 0.9375738501548767, 0.9374446868896484, 0.9327061772346497, 0.9310886263847351, 0.9272175431251526, 0.9262955188751221, 0.9262044429779053, 0.9241145849227905, 0.9233238697052002, 0.921288788318634, 0.9203370809555054, 0.9191281795501709, 0.9735836386680603, 0.9562182426452637, 0.9445945620536804, 0.9439114928245544, 0.9397289156913757, 0.9392457008361816, 0.9370735287666321, 0.9348543286323547, 0.9316002726554871, 0.9315680265426636, 0.9315013885498047, 0.9298455715179443, 0.9289748668670654, 0.927596390247345, 0.9261049628257751, 0.9239760637283325, 0.9230838418006897, 0.9227111339569092, 0.9224262833595276, 0.9218135476112366, 0.9558454155921936, 0.9449500441551208, 0.9442877173423767, 0.9435558319091797, 0.9434093236923218, 0.9417533278465271, 0.9407454133033752, 0.9369257688522339, 0.9304913878440857, 0.9275845289230347, 0.9275498390197754, 0.9271324872970581, 0.9253582954406738, 0.9246373772621155, 0.9233184456825256, 0.922841489315033, 0.921452522277832, 0.9187358617782593, 0.9177206158638, 0.917517364025116, 0.974868893623352, 0.971483051776886, 0.9705363512039185, 0.9701898694038391, 0.9693010449409485, 0.9666945934295654, 0.9656381011009216, 0.9655478000640869, 0.964798629283905, 0.9646346569061279, 0.9639670848846436, 0.962540328502655, 0.962060272693634, 0.9612711071968079, 0.9605152010917664, 0.9601913094520569, 0.9596545696258545, 0.9588021636009216, 0.958458662033081, 0.9759566783905029, 0.9671111106872559, 0.9658858776092529, 0.9655545353889465, 0.9648212194442749, 0.9642598628997803, 0.9632879495620728, 0.9625980257987976, 0.9614730477333069, 0.9597346186637878, 0.9563711881637573, 0.9556542634963989, 0.9551591277122498, 0.9540681838989258, 0.9527482986450195, 0.9495802521705627, 0.9492220282554626, 0.9489337801933289, 0.9488273859024048, 0.9453389644622803, 0.9445222020149231, 0.9442813992500305, 0.9405887126922607, 0.9401229619979858, 0.9367331862449646, 0.936389148235321, 0.9359530210494995, 0.9354522824287415, 0.9311564564704895, 0.9302277565002441, 0.9294785261154175, 0.9289013147354126, 0.9283573627471924, 0.9279760122299194, 0.9250248670578003, 0.9242724180221558, 0.9228644371032715, 0.9211452007293701, 0.9198310375213623, 0.9731970429420471, 0.9721617698669434, 0.9702874422073364, 0.9694156050682068, 0.9693173766136169, 0.9688241481781006, 0.9688054919242859, 0.9680090546607971, 0.9671063423156738, 0.9660792946815491, 0.9647453427314758, 0.9646973013877869, 0.9634290933609009, 0.9617623686790466, 0.9609363079071045, 0.9609199166297913, 0.9605711698532104, 0.9605238437652588, 0.9600223898887634, 0.9454359412193298, 0.9333440661430359, 0.929475724697113, 0.9286304712295532, 0.9240347146987915, 0.921813428401947, 0.9209905862808228, 0.9137421250343323, 0.913196861743927, 0.9131934642791748, 0.9109673500061035, 0.9082348942756653, 0.8995792269706726, 0.8951215147972107, 0.8944429755210876, 0.8922778367996216, 0.890777587890625, 0.8887463808059692, 0.88839191198349, 0.8987033367156982, 0.8878392577171326, 0.8802207112312317, 0.8681598901748657, 0.8614844083786011, 0.8567033410072327, 0.8548087477684021, 0.8502326607704163, 0.8498454093933105, 0.8457134366035461, 0.8448051810264587, 0.839142382144928, 0.8380920886993408, 0.8380644917488098, 0.8368710875511169, 0.836215615272522, 0.8356625437736511, 0.835059642791748, 0.8346377015113831, 0.8339987397193909, 0.8361636400222778, 0.8102923035621643, 0.7842280268669128, 0.7820807695388794, 0.7802050113677979, 0.7786250710487366, 0.7731183767318726, 0.7642082571983337, 0.7550106048583984, 0.7446865439414978, 0.7364155054092407, 0.7323861122131348, 0.7294808626174927, 0.7276063561439514, 0.7117114067077637, 0.7113323211669922, 0.7082992196083069, 0.701826810836792, 0.7011225819587708, 0.7000874280929565, 0.9247720241546631, 0.9207550883293152, 0.9130600094795227, 0.9062978029251099, 0.9026361107826233, 0.9023541212081909, 0.9005561470985413, 0.8976214528083801, 0.8932667374610901, 0.8902313709259033, 0.8880935907363892, 0.8880237936973572, 0.885948121547699, 0.8818329572677612, 0.8816304802894592, 0.8813733458518982, 0.8811015486717224, 0.8756932020187378, 0.8738303780555725], \"xaxis\": \"x\", \"yaxis\": \"y\"}],\n",
              "                        {\"barmode\": \"relative\", \"legend\": {\"tracegroupgap\": 0}, \"template\": {\"data\": {\"bar\": [{\"error_x\": {\"color\": \"#2a3f5f\"}, \"error_y\": {\"color\": \"#2a3f5f\"}, \"marker\": {\"line\": {\"color\": \"#E5ECF6\", \"width\": 0.5}}, \"type\": \"bar\"}], \"barpolar\": [{\"marker\": {\"line\": {\"color\": \"#E5ECF6\", \"width\": 0.5}}, \"type\": \"barpolar\"}], \"carpet\": [{\"aaxis\": {\"endlinecolor\": \"#2a3f5f\", \"gridcolor\": \"white\", \"linecolor\": \"white\", \"minorgridcolor\": \"white\", \"startlinecolor\": \"#2a3f5f\"}, \"baxis\": {\"endlinecolor\": \"#2a3f5f\", \"gridcolor\": \"white\", \"linecolor\": \"white\", \"minorgridcolor\": \"white\", \"startlinecolor\": \"#2a3f5f\"}, \"type\": \"carpet\"}], \"choropleth\": [{\"colorbar\": {\"outlinewidth\": 0, \"ticks\": \"\"}, \"type\": \"choropleth\"}], \"contour\": [{\"colorbar\": {\"outlinewidth\": 0, \"ticks\": \"\"}, \"colorscale\": [[0.0, \"#0d0887\"], [0.1111111111111111, \"#46039f\"], [0.2222222222222222, \"#7201a8\"], [0.3333333333333333, \"#9c179e\"], [0.4444444444444444, \"#bd3786\"], [0.5555555555555556, \"#d8576b\"], [0.6666666666666666, \"#ed7953\"], [0.7777777777777778, \"#fb9f3a\"], [0.8888888888888888, \"#fdca26\"], [1.0, \"#f0f921\"]], \"type\": \"contour\"}], \"contourcarpet\": [{\"colorbar\": {\"outlinewidth\": 0, \"ticks\": \"\"}, \"type\": \"contourcarpet\"}], \"heatmap\": [{\"colorbar\": {\"outlinewidth\": 0, \"ticks\": \"\"}, \"colorscale\": [[0.0, \"#0d0887\"], [0.1111111111111111, \"#46039f\"], [0.2222222222222222, \"#7201a8\"], [0.3333333333333333, \"#9c179e\"], [0.4444444444444444, \"#bd3786\"], [0.5555555555555556, \"#d8576b\"], [0.6666666666666666, \"#ed7953\"], [0.7777777777777778, \"#fb9f3a\"], [0.8888888888888888, \"#fdca26\"], [1.0, \"#f0f921\"]], \"type\": \"heatmap\"}], \"heatmapgl\": [{\"colorbar\": {\"outlinewidth\": 0, \"ticks\": \"\"}, \"colorscale\": [[0.0, \"#0d0887\"], [0.1111111111111111, \"#46039f\"], [0.2222222222222222, \"#7201a8\"], [0.3333333333333333, \"#9c179e\"], [0.4444444444444444, \"#bd3786\"], [0.5555555555555556, \"#d8576b\"], [0.6666666666666666, \"#ed7953\"], [0.7777777777777778, \"#fb9f3a\"], [0.8888888888888888, \"#fdca26\"], [1.0, \"#f0f921\"]], \"type\": \"heatmapgl\"}], \"histogram\": [{\"marker\": {\"colorbar\": {\"outlinewidth\": 0, \"ticks\": \"\"}}, \"type\": \"histogram\"}], \"histogram2d\": [{\"colorbar\": {\"outlinewidth\": 0, \"ticks\": \"\"}, \"colorscale\": [[0.0, \"#0d0887\"], [0.1111111111111111, \"#46039f\"], [0.2222222222222222, \"#7201a8\"], [0.3333333333333333, \"#9c179e\"], [0.4444444444444444, \"#bd3786\"], [0.5555555555555556, \"#d8576b\"], [0.6666666666666666, \"#ed7953\"], [0.7777777777777778, \"#fb9f3a\"], [0.8888888888888888, \"#fdca26\"], [1.0, \"#f0f921\"]], \"type\": \"histogram2d\"}], \"histogram2dcontour\": [{\"colorbar\": {\"outlinewidth\": 0, \"ticks\": \"\"}, \"colorscale\": [[0.0, \"#0d0887\"], [0.1111111111111111, \"#46039f\"], [0.2222222222222222, \"#7201a8\"], [0.3333333333333333, \"#9c179e\"], [0.4444444444444444, \"#bd3786\"], [0.5555555555555556, \"#d8576b\"], [0.6666666666666666, \"#ed7953\"], [0.7777777777777778, \"#fb9f3a\"], [0.8888888888888888, \"#fdca26\"], [1.0, \"#f0f921\"]], \"type\": \"histogram2dcontour\"}], \"mesh3d\": [{\"colorbar\": {\"outlinewidth\": 0, \"ticks\": \"\"}, \"type\": \"mesh3d\"}], \"parcoords\": [{\"line\": {\"colorbar\": {\"outlinewidth\": 0, \"ticks\": \"\"}}, \"type\": \"parcoords\"}], \"pie\": [{\"automargin\": true, \"type\": \"pie\"}], \"scatter\": [{\"marker\": {\"colorbar\": {\"outlinewidth\": 0, \"ticks\": \"\"}}, \"type\": \"scatter\"}], \"scatter3d\": [{\"line\": {\"colorbar\": {\"outlinewidth\": 0, \"ticks\": \"\"}}, \"marker\": {\"colorbar\": {\"outlinewidth\": 0, \"ticks\": \"\"}}, \"type\": \"scatter3d\"}], \"scattercarpet\": [{\"marker\": {\"colorbar\": {\"outlinewidth\": 0, \"ticks\": \"\"}}, \"type\": \"scattercarpet\"}], \"scattergeo\": [{\"marker\": {\"colorbar\": {\"outlinewidth\": 0, \"ticks\": \"\"}}, \"type\": \"scattergeo\"}], \"scattergl\": [{\"marker\": {\"colorbar\": {\"outlinewidth\": 0, \"ticks\": \"\"}}, \"type\": \"scattergl\"}], \"scattermapbox\": [{\"marker\": {\"colorbar\": {\"outlinewidth\": 0, \"ticks\": \"\"}}, \"type\": \"scattermapbox\"}], \"scatterpolar\": [{\"marker\": {\"colorbar\": {\"outlinewidth\": 0, \"ticks\": \"\"}}, \"type\": \"scatterpolar\"}], \"scatterpolargl\": [{\"marker\": {\"colorbar\": {\"outlinewidth\": 0, \"ticks\": \"\"}}, \"type\": \"scatterpolargl\"}], \"scatterternary\": [{\"marker\": {\"colorbar\": {\"outlinewidth\": 0, \"ticks\": \"\"}}, \"type\": \"scatterternary\"}], \"surface\": [{\"colorbar\": {\"outlinewidth\": 0, \"ticks\": \"\"}, \"colorscale\": [[0.0, \"#0d0887\"], [0.1111111111111111, \"#46039f\"], [0.2222222222222222, \"#7201a8\"], [0.3333333333333333, \"#9c179e\"], [0.4444444444444444, \"#bd3786\"], [0.5555555555555556, \"#d8576b\"], [0.6666666666666666, \"#ed7953\"], [0.7777777777777778, \"#fb9f3a\"], [0.8888888888888888, \"#fdca26\"], [1.0, \"#f0f921\"]], \"type\": \"surface\"}], \"table\": [{\"cells\": {\"fill\": {\"color\": \"#EBF0F8\"}, \"line\": {\"color\": \"white\"}}, \"header\": {\"fill\": {\"color\": \"#C8D4E3\"}, \"line\": {\"color\": \"white\"}}, \"type\": \"table\"}]}, \"layout\": {\"annotationdefaults\": {\"arrowcolor\": \"#2a3f5f\", \"arrowhead\": 0, \"arrowwidth\": 1}, \"coloraxis\": {\"colorbar\": {\"outlinewidth\": 0, \"ticks\": \"\"}}, \"colorscale\": {\"diverging\": [[0, \"#8e0152\"], [0.1, \"#c51b7d\"], [0.2, \"#de77ae\"], [0.3, \"#f1b6da\"], [0.4, \"#fde0ef\"], [0.5, \"#f7f7f7\"], [0.6, \"#e6f5d0\"], [0.7, \"#b8e186\"], [0.8, \"#7fbc41\"], [0.9, \"#4d9221\"], [1, \"#276419\"]], \"sequential\": [[0.0, \"#0d0887\"], [0.1111111111111111, \"#46039f\"], [0.2222222222222222, \"#7201a8\"], [0.3333333333333333, \"#9c179e\"], [0.4444444444444444, \"#bd3786\"], [0.5555555555555556, \"#d8576b\"], [0.6666666666666666, \"#ed7953\"], [0.7777777777777778, \"#fb9f3a\"], [0.8888888888888888, \"#fdca26\"], [1.0, \"#f0f921\"]], \"sequentialminus\": [[0.0, \"#0d0887\"], [0.1111111111111111, \"#46039f\"], [0.2222222222222222, \"#7201a8\"], [0.3333333333333333, \"#9c179e\"], [0.4444444444444444, \"#bd3786\"], [0.5555555555555556, \"#d8576b\"], [0.6666666666666666, \"#ed7953\"], [0.7777777777777778, \"#fb9f3a\"], [0.8888888888888888, \"#fdca26\"], [1.0, \"#f0f921\"]]}, \"colorway\": [\"#636efa\", \"#EF553B\", \"#00cc96\", \"#ab63fa\", \"#FFA15A\", \"#19d3f3\", \"#FF6692\", \"#B6E880\", \"#FF97FF\", \"#FECB52\"], \"font\": {\"color\": \"#2a3f5f\"}, \"geo\": {\"bgcolor\": \"white\", \"lakecolor\": \"white\", \"landcolor\": \"#E5ECF6\", \"showlakes\": true, \"showland\": true, \"subunitcolor\": \"white\"}, \"hoverlabel\": {\"align\": \"left\"}, \"hovermode\": \"closest\", \"mapbox\": {\"style\": \"light\"}, \"paper_bgcolor\": \"white\", \"plot_bgcolor\": \"#E5ECF6\", \"polar\": {\"angularaxis\": {\"gridcolor\": \"white\", \"linecolor\": \"white\", \"ticks\": \"\"}, \"bgcolor\": \"#E5ECF6\", \"radialaxis\": {\"gridcolor\": \"white\", \"linecolor\": \"white\", \"ticks\": \"\"}}, \"scene\": {\"xaxis\": {\"backgroundcolor\": \"#E5ECF6\", \"gridcolor\": \"white\", \"gridwidth\": 2, \"linecolor\": \"white\", \"showbackground\": true, \"ticks\": \"\", \"zerolinecolor\": \"white\"}, \"yaxis\": {\"backgroundcolor\": \"#E5ECF6\", \"gridcolor\": \"white\", \"gridwidth\": 2, \"linecolor\": \"white\", \"showbackground\": true, \"ticks\": \"\", \"zerolinecolor\": \"white\"}, \"zaxis\": {\"backgroundcolor\": \"#E5ECF6\", \"gridcolor\": \"white\", \"gridwidth\": 2, \"linecolor\": \"white\", \"showbackground\": true, \"ticks\": \"\", \"zerolinecolor\": \"white\"}}, \"shapedefaults\": {\"line\": {\"color\": \"#2a3f5f\"}}, \"ternary\": {\"aaxis\": {\"gridcolor\": \"white\", \"linecolor\": \"white\", \"ticks\": \"\"}, \"baxis\": {\"gridcolor\": \"white\", \"linecolor\": \"white\", \"ticks\": \"\"}, \"bgcolor\": \"#E5ECF6\", \"caxis\": {\"gridcolor\": \"white\", \"linecolor\": \"white\", \"ticks\": \"\"}}, \"title\": {\"x\": 0.05}, \"xaxis\": {\"automargin\": true, \"gridcolor\": \"white\", \"linecolor\": \"white\", \"ticks\": \"\", \"title\": {\"standoff\": 15}, \"zerolinecolor\": \"white\", \"zerolinewidth\": 2}, \"yaxis\": {\"automargin\": true, \"gridcolor\": \"white\", \"linecolor\": \"white\", \"ticks\": \"\", \"title\": {\"standoff\": 15}, \"zerolinecolor\": \"white\", \"zerolinewidth\": 2}}}, \"title\": {\"text\": \"doc2vec sections\"}, \"xaxis\": {\"anchor\": \"y\", \"domain\": [0.0, 1.0], \"title\": {\"text\": \"score\"}}, \"yaxis\": {\"anchor\": \"x\", \"domain\": [0.0, 1.0], \"title\": {\"text\": \"count\"}}},\n",
              "                        {\"responsive\": true}\n",
              "                    ).then(function(){\n",
              "                            \n",
              "var gd = document.getElementById('eb1dbed8-e4f6-49ec-bcd7-6f6d161580e4');\n",
              "var x = new MutationObserver(function (mutations, observer) {{\n",
              "        var display = window.getComputedStyle(gd).display;\n",
              "        if (!display || display === 'none') {{\n",
              "            console.log([gd, 'removed!']);\n",
              "            Plotly.purge(gd);\n",
              "            observer.disconnect();\n",
              "        }}\n",
              "}});\n",
              "\n",
              "// Listen for the removal of the full notebook cells\n",
              "var notebookContainer = gd.closest('#notebook-container');\n",
              "if (notebookContainer) {{\n",
              "    x.observe(notebookContainer, {childList: true});\n",
              "}}\n",
              "\n",
              "// Listen for the clearing of the current output cell\n",
              "var outputEl = gd.closest('.output');\n",
              "if (outputEl) {{\n",
              "    x.observe(outputEl, {childList: true});\n",
              "}}\n",
              "\n",
              "                        })\n",
              "                };\n",
              "                \n",
              "            </script>\n",
              "        </div>\n",
              "</body>\n",
              "</html>"
            ]
          },
          "metadata": {}
        }
      ]
    },
    {
      "cell_type": "code",
      "metadata": {
        "id": "OKeaqYxGPMZj"
      },
      "source": [
        "if use_wandb:\n",
        "  wandb.log({\"scores_hist\": fig})"
      ],
      "execution_count": 95,
      "outputs": []
    },
    {
      "cell_type": "code",
      "metadata": {
        "colab": {
          "base_uri": "https://localhost:8080/",
          "height": 536
        },
        "id": "DgV3ccDr5Ux4",
        "outputId": "20a7ec14-a89f-4ef0-c752-4b9156574f27"
      },
      "source": [
        "result, details = recommend_tune(df_sim, 'On The Sunny Side Of The Street [jazz1350]')\n",
        "result.head(10)"
      ],
      "execution_count": 96,
      "outputs": [
        {
          "output_type": "execute_result",
          "data": {
            "text/html": [
              "<div>\n",
              "<style scoped>\n",
              "    .dataframe tbody tr th:only-of-type {\n",
              "        vertical-align: middle;\n",
              "    }\n",
              "\n",
              "    .dataframe tbody tr th {\n",
              "        vertical-align: top;\n",
              "    }\n",
              "\n",
              "    .dataframe thead th {\n",
              "        text-align: right;\n",
              "    }\n",
              "</style>\n",
              "<table border=\"1\" class=\"dataframe\">\n",
              "  <thead>\n",
              "    <tr style=\"text-align: right;\">\n",
              "      <th></th>\n",
              "      <th>index</th>\n",
              "      <th>reference</th>\n",
              "      <th>reference_titleid</th>\n",
              "      <th>similar_title</th>\n",
              "      <th>score</th>\n",
              "      <th>max</th>\n",
              "      <th>score_div_max</th>\n",
              "      <th>similar_titleid</th>\n",
              "    </tr>\n",
              "  </thead>\n",
              "  <tbody>\n",
              "    <tr>\n",
              "      <th>0</th>\n",
              "      <td>0</td>\n",
              "      <td>On The Sunny Side Of The Street [jazz1350]</td>\n",
              "      <td>906</td>\n",
              "      <td>Under A Blanket Of Blue [jazz1350]</td>\n",
              "      <td>0.973584</td>\n",
              "      <td>0.973584</td>\n",
              "      <td>1.000000</td>\n",
              "      <td>1227</td>\n",
              "    </tr>\n",
              "    <tr>\n",
              "      <th>1</th>\n",
              "      <td>1</td>\n",
              "      <td>On The Sunny Side Of The Street [jazz1350]</td>\n",
              "      <td>906</td>\n",
              "      <td>All By Myself [jazz1350]</td>\n",
              "      <td>0.969668</td>\n",
              "      <td>0.969668</td>\n",
              "      <td>1.000000</td>\n",
              "      <td>56</td>\n",
              "    </tr>\n",
              "    <tr>\n",
              "      <th>2</th>\n",
              "      <td>2</td>\n",
              "      <td>On The Sunny Side Of The Street [jazz1350]</td>\n",
              "      <td>906</td>\n",
              "      <td>All Of Me [jazz1350]</td>\n",
              "      <td>0.946442</td>\n",
              "      <td>0.946442</td>\n",
              "      <td>1.000000</td>\n",
              "      <td>60</td>\n",
              "    </tr>\n",
              "    <tr>\n",
              "      <th>3</th>\n",
              "      <td>3</td>\n",
              "      <td>On The Sunny Side Of The Street [jazz1350]</td>\n",
              "      <td>906</td>\n",
              "      <td>Sea Journey [jazz1350]</td>\n",
              "      <td>0.955845</td>\n",
              "      <td>0.955845</td>\n",
              "      <td>1.000000</td>\n",
              "      <td>1017</td>\n",
              "    </tr>\n",
              "    <tr>\n",
              "      <th>4</th>\n",
              "      <td>4</td>\n",
              "      <td>On The Sunny Side Of The Street [jazz1350]</td>\n",
              "      <td>906</td>\n",
              "      <td>Sway [jazz1350]</td>\n",
              "      <td>0.964926</td>\n",
              "      <td>0.969668</td>\n",
              "      <td>0.995110</td>\n",
              "      <td>1130</td>\n",
              "    </tr>\n",
              "    <tr>\n",
              "      <th>5</th>\n",
              "      <td>5</td>\n",
              "      <td>On The Sunny Side Of The Street [jazz1350]</td>\n",
              "      <td>906</td>\n",
              "      <td>Tadd's Delight [jazz1350]</td>\n",
              "      <td>0.937737</td>\n",
              "      <td>0.946442</td>\n",
              "      <td>0.990802</td>\n",
              "      <td>1141</td>\n",
              "    </tr>\n",
              "    <tr>\n",
              "      <th>6</th>\n",
              "      <td>6</td>\n",
              "      <td>On The Sunny Side Of The Street [jazz1350]</td>\n",
              "      <td>906</td>\n",
              "      <td>Second Star To The Right, The [jazz1350]</td>\n",
              "      <td>0.937099</td>\n",
              "      <td>0.946442</td>\n",
              "      <td>0.990129</td>\n",
              "      <td>1018</td>\n",
              "    </tr>\n",
              "    <tr>\n",
              "      <th>7</th>\n",
              "      <td>7</td>\n",
              "      <td>On The Sunny Side Of The Street [jazz1350]</td>\n",
              "      <td>906</td>\n",
              "      <td>Perhaps, Perhaps, Perhaps [jazz1350]</td>\n",
              "      <td>0.944950</td>\n",
              "      <td>0.955845</td>\n",
              "      <td>0.988601</td>\n",
              "      <td>950</td>\n",
              "    </tr>\n",
              "    <tr>\n",
              "      <th>8</th>\n",
              "      <td>8</td>\n",
              "      <td>On The Sunny Side Of The Street [jazz1350]</td>\n",
              "      <td>906</td>\n",
              "      <td>Aged And Mellow Blues [trad]</td>\n",
              "      <td>0.943409</td>\n",
              "      <td>0.955845</td>\n",
              "      <td>0.986989</td>\n",
              "      <td>1344</td>\n",
              "    </tr>\n",
              "    <tr>\n",
              "      <th>9</th>\n",
              "      <td>9</td>\n",
              "      <td>On The Sunny Side Of The Street [jazz1350]</td>\n",
              "      <td>906</td>\n",
              "      <td>City Of A Million Dreams (Years) [trad]</td>\n",
              "      <td>0.933748</td>\n",
              "      <td>0.946442</td>\n",
              "      <td>0.986588</td>\n",
              "      <td>1421</td>\n",
              "    </tr>\n",
              "  </tbody>\n",
              "</table>\n",
              "</div>"
            ],
            "text/plain": [
              "   index                                   reference  reference_titleid                             similar_title     score       max  score_div_max  similar_titleid\n",
              "0      0  On The Sunny Side Of The Street [jazz1350]                906        Under A Blanket Of Blue [jazz1350]  0.973584  0.973584       1.000000             1227\n",
              "1      1  On The Sunny Side Of The Street [jazz1350]                906                  All By Myself [jazz1350]  0.969668  0.969668       1.000000               56\n",
              "2      2  On The Sunny Side Of The Street [jazz1350]                906                      All Of Me [jazz1350]  0.946442  0.946442       1.000000               60\n",
              "3      3  On The Sunny Side Of The Street [jazz1350]                906                    Sea Journey [jazz1350]  0.955845  0.955845       1.000000             1017\n",
              "4      4  On The Sunny Side Of The Street [jazz1350]                906                           Sway [jazz1350]  0.964926  0.969668       0.995110             1130\n",
              "5      5  On The Sunny Side Of The Street [jazz1350]                906                 Tadd's Delight [jazz1350]  0.937737  0.946442       0.990802             1141\n",
              "6      6  On The Sunny Side Of The Street [jazz1350]                906  Second Star To The Right, The [jazz1350]  0.937099  0.946442       0.990129             1018\n",
              "7      7  On The Sunny Side Of The Street [jazz1350]                906      Perhaps, Perhaps, Perhaps [jazz1350]  0.944950  0.955845       0.988601              950\n",
              "8      8  On The Sunny Side Of The Street [jazz1350]                906              Aged And Mellow Blues [trad]  0.943409  0.955845       0.986989             1344\n",
              "9      9  On The Sunny Side Of The Street [jazz1350]                906   City Of A Million Dreams (Years) [trad]  0.933748  0.946442       0.986588             1421"
            ]
          },
          "metadata": {},
          "execution_count": 96
        }
      ]
    },
    {
      "cell_type": "code",
      "metadata": {
        "id": "hLFaFo62XlMS",
        "colab": {
          "base_uri": "https://localhost:8080/"
        },
        "outputId": "d751acf6-5fc2-497a-bdde-54f228250984"
      },
      "source": [
        "dd = pd.DataFrame(columns = recommender_results_cols)\n",
        "\n",
        "for tune in tunes_eval_list:\n",
        "  result, details = recommend_tune(df_sim, tune)\n",
        "  dd['id'] = result['index']\n",
        "  dd['reference'] = tune\n",
        "  dd['method'] = 'doc2vec'\n",
        "  dd['similar'] = result['similar_title']\n",
        "  dd['score_div_max'] = result['score_div_max']\n",
        "  dd['score'] = result['score']\n",
        "\n",
        "recommender_results = recommender_results.append(dd)\n",
        "len(recommender_results)"
      ],
      "execution_count": 97,
      "outputs": [
        {
          "output_type": "execute_result",
          "data": {
            "text/plain": [
              "174"
            ]
          },
          "metadata": {},
          "execution_count": 97
        }
      ]
    },
    {
      "cell_type": "markdown",
      "metadata": {
        "id": "aosPKEWljlm0"
      },
      "source": [
        "### Contrafacts"
      ]
    },
    {
      "cell_type": "code",
      "metadata": {
        "id": "SaYSqTJokGc5"
      },
      "source": [
        "def test_doc2vec_contrafacts(tunes, N=15):\n",
        "  \"\"\"\n",
        "  Evaluates if the expected tune matches by either a tune similarity or section similarity match.\n",
        "  \"\"\"\n",
        "\n",
        "  matches = 0\n",
        "  number_of_sections = 0\n",
        "  results = {}\n",
        "\n",
        "  for tune, similar_tune in contrafacts:\n",
        "    \n",
        "    # loop over all sections of the tune\n",
        "    sub_match = 0\n",
        "    for s1 in title_to_sectionid[tune]:\n",
        "      sims = model.dv.similar_by_key(s1, topn=N)\n",
        "      # check if the section matches the expected title; consider only the first N recommendations\n",
        "      i = 0\n",
        "      for match, value in sims:\n",
        "        # tune match\n",
        "        if (type(match) == str):\n",
        "          titleid = int(match.replace('titleid_', ''))\n",
        "          if titleid_to_title[titleid] == similar_tune:\n",
        "            sub_match += 1\n",
        "\n",
        "        # section match\n",
        "        else:\n",
        "          if sectionid_to_title[match] == similar_tune:\n",
        "            sub_match += 1\n",
        "\n",
        "    # for each title, increase matches if at least one of the section matched the expected title\n",
        "    if sub_match > 0:\n",
        "      matches += 1  \n",
        "      results[f'{tune}, {similar_tune}'] = 1\n",
        "    else:\n",
        "      results[f'{tune}, {similar_tune}'] = 0\n",
        "  \n",
        "  return matches, results"
      ],
      "execution_count": 98,
      "outputs": []
    },
    {
      "cell_type": "code",
      "metadata": {
        "colab": {
          "base_uri": "https://localhost:8080/"
        },
        "id": "eAjM3lU4ltzP",
        "outputId": "6ebfb4ef-8fb8-47e3-84d9-be51dd7d0ea0"
      },
      "source": [
        "topN = 20\n",
        "matches, results = test_doc2vec_contrafacts(contrafacts, topN)\n",
        " \n",
        "print(f\"Found matches: {matches} out of {len(results)}: {100*matches/len(results):.3f}%\")\n",
        "print() \n",
        "for rr, val in results.items():\n",
        "  if val == 0:\n",
        "    print(f\"{val}: {rr}\")\n"
      ],
      "execution_count": 99,
      "outputs": [
        {
          "output_type": "stream",
          "name": "stdout",
          "text": [
            "Found matches: 74 out of 111: 66.667%\n",
            "\n",
            "0: 26-2 [jazz1350], Confirmation [jazz1350]\n",
            "0: 52nd Street Theme [jazz1350], I Got Rhythm [jazz1350]\n",
            "0: Ballade [jazz1350], As Long As I Live [jazz1350]\n",
            "0: Countdown [jazz1350], Tune Up [jazz1350]\n",
            "0: Dewey Square [jazz1350], Oh, Lady Be Good [jazz1350]\n",
            "0: Dexterity [jazz1350], I Got Rhythm [jazz1350]\n",
            "0: Don't Be That Way [jazz1350], I Got Rhythm [jazz1350]\n",
            "0: Flintstones [jazz1350], I Got Rhythm [jazz1350]\n",
            "0: Four On Six [jazz1350], Summertime [jazz1350]\n",
            "0: Freight Train [jazz1350], Blues For Alice [jazz1350]\n",
            "0: Good Bait [jazz1350], I Got Rhythm [jazz1350]\n",
            "0: Lennie's Pennies [jazz1350], Pennies From Heaven [jazz1350]\n",
            "0: Little Rootie Tootie [jazz1350], I Got Rhythm [jazz1350]\n",
            "0: Little Willie Leaps [jazz1350], All God's Chillun Got Rhythm [jazz1350]\n",
            "0: Lullaby Of Birdland [jazz1350], Love Me Or Leave Me [jazz1350]\n",
            "0: My Little Suede Shoes [jazz1350], Jeepers Creepers [jazz1350]\n",
            "0: Quasimodo (Theme) [jazz1350], Embraceable You [jazz1350]\n",
            "0: Room 608 [jazz1350], I Got Rhythm [jazz1350]\n",
            "0: Scrapple From The Apple [jazz1350], Honeysuckle Rose [jazz1350]\n",
            "0: Sweet Sue, Just You [jazz1350], Honeysuckle Rose [jazz1350]\n",
            "0: Sweet Sue, Just You [jazz1350], Bye Bye Blackbird [jazz1350]\n",
            "0: These Foolish Things [jazz1350], Blue Moon [jazz1350]\n",
            "0: These Foolish Things [jazz1350], Isn't It A Pity [jazz1350]\n",
            "0: These Foolish Things [jazz1350], Soultrain [jazz1350]\n",
            "0: These Foolish Things [jazz1350], Why Do I Love You [jazz1350]\n",
            "0: Baubles, Bangles and Beads [jazz1350], Bossa Antigua [jazz1350]\n",
            "0: Exactly Like You [jazz1350], Jersey Bounce [trad]\n",
            "0: Take The A Train [jazz1350], Girl From Ipanema, The [jazz1350]\n",
            "0: Undecided [jazz1350], Satin Doll [jazz1350]\n",
            "0: On The Sunny Side Of The Street [jazz1350], I'm Confessin' That I Love You [jazz1350]\n",
            "0: On The Sunny Side Of The Street [jazz1350], You Stepped Out Of A Dream [jazz1350]\n",
            "0: My Secret Love [jazz1350], Samba De Orfeu [jazz1350]\n",
            "0: As Long As I Live [jazz1350], I'm Glad There Is You [jazz1350]\n",
            "0: On The Sunny Side Of The Street [jazz1350], September In The Rain [jazz1350]\n",
            "0: On The Sunny Side Of The Street [jazz1350], Mountain Greenery [jazz1350]\n",
            "0: On The Sunny Side Of The Street [jazz1350], There's No You [jazz1350]\n",
            "0: These Foolish Things [jazz1350], Embraceable You [jazz1350]\n",
            "0: Tangerine [jazz1350], Tea For Two [jazz1350]\n",
            "0: This Year's Kisses [jazz1350], My Monday Date [trad]\n"
          ]
        }
      ]
    },
    {
      "cell_type": "code",
      "metadata": {
        "id": "8C0kzj0Jp425"
      },
      "source": [
        "model_name = 'doc2vec'\n",
        "if use_wandb:\n",
        "  wandb.log(\n",
        "      {model_name: {\n",
        "                'contrafacts': {\n",
        "                    'topN': topN,\n",
        "                    'success': matches/len(contrafacts),\n",
        "                    #'results': results\n",
        "                    }\n",
        "                   },\n",
        "       'all_models': {\n",
        "           model_name: wandb.Table(\n",
        "               columns=[\"Title\", \"Match\"],\n",
        "               data=[[key, value] for key, value in results.items()]),\n",
        "       }\n",
        "       })"
      ],
      "execution_count": 100,
      "outputs": []
    },
    {
      "cell_type": "markdown",
      "metadata": {
        "id": "_UzVV5yn4Q-K"
      },
      "source": [
        "### Save Results for WebApp"
      ]
    },
    {
      "cell_type": "code",
      "metadata": {
        "colab": {
          "base_uri": "https://localhost:8080/"
        },
        "id": "nS_bRwHehOUr",
        "outputId": "9a9ab1e1-9241-46ef-95a0-b019fe804fc3"
      },
      "source": [
        "%%time\n",
        "if generate_webapp_data:\n",
        "  _tunes = list(tunes['title_playlist'].values())\n",
        "  #_tunes = tunes_eval_list\n",
        "\n",
        "  method = 'doc2vec'\n",
        "\n",
        "  df_sim = get_section_scores_doc2vec(_tunes)\n",
        "\n",
        "  result = None\n",
        "  for tune in _tunes:\n",
        "    tune_result, details = recommend_tune(df_sim, tune)\n",
        "    if result is None:\n",
        "      result = pd.DataFrame(columns=tune_result.columns)\n",
        "    result = result.append(tune_result)\n",
        "\n",
        "  # save to file\n",
        "  (result\n",
        "   .loc[:,['reference_titleid',\n",
        "           'similar_titleid',\n",
        "           'score']]\n",
        "   .to_csv(f'output/recommender_{method}.csv', encoding='utf8')\n",
        "  )\n",
        "  with zipfile.ZipFile(f'output/recommender_{method}.zip', 'w') as zf:\n",
        "    zf.write(f'output/recommender_{method}.csv')\n",
        "\n",
        "\n",
        "  # save to wandb\n",
        "  if use_wandb:\n",
        "    model_artifact = wandb.Artifact(\n",
        "        f\"recommender_{method}\", \n",
        "        type=\"csv\",\n",
        "        description=f\"Recommendations for each Tune using {method} Model (csv file)\",\n",
        "        metadata=\"\")\n",
        "\n",
        "    model_artifact.add_file(f'output/recommender_{method}.zip')\n",
        "    wandb.log_artifact(model_artifact)"
      ],
      "execution_count": 101,
      "outputs": [
        {
          "output_type": "stream",
          "name": "stdout",
          "text": [
            "CPU times: user 3 µs, sys: 0 ns, total: 3 µs\n",
            "Wall time: 6.68 µs\n"
          ]
        }
      ]
    },
    {
      "cell_type": "markdown",
      "metadata": {
        "id": "XmDZT5t7gjgV"
      },
      "source": [
        "# Venn diagrams for Results"
      ]
    },
    {
      "cell_type": "code",
      "metadata": {
        "id": "U6WrsBcc00ar"
      },
      "source": [
        "import matplotlib.pyplot as plt\n",
        "from matplotlib_venn import venn3\n",
        "\n",
        "if False:\n",
        "  for tune in tunes_eval_list:\n",
        "    df, details = recommend_tune(df_tfidf, tune)\n",
        "    tfidf_tunes = list(df.head(30).loc[:,'similar_title'])\n",
        "\n",
        "    df, details = recommend_tune(df_lsi, tune)\n",
        "    lsi_tunes = list(df.head(30).loc[:,'similar_title'])\n",
        "\n",
        "    df, details = recommend_tune(df_doc2vec, tune)\n",
        "    word2vec_tunes = list(df.head(30).loc[:,'similar_title'])\n",
        "\n",
        "    set_tfidf = set(tfidf_tunes)\n",
        "    set_lsi = set(lsi_tunes)\n",
        "    set_word2vec = set(word2vec_tunes)\n",
        "\n",
        "    venn3([set_tfidf, set_lsi, set_word2vec], \n",
        "          set_labels=('TF-IDF', 'LSI', 'Doc2Vec'),\n",
        "          )\n",
        "    plt.title(f\"{tune}\")\n",
        "    plt.savefig('plot.png')\n",
        "    \n",
        "    if use_wandb:\n",
        "      wandb.log({\"venn_methods\": wandb.Image('plot.png')})\n",
        "    \n",
        "    plt.show()"
      ],
      "execution_count": 102,
      "outputs": []
    },
    {
      "cell_type": "markdown",
      "metadata": {
        "id": "RhOWHSEU0DQH"
      },
      "source": [
        "# W&B Logging and Finish"
      ]
    },
    {
      "cell_type": "code",
      "metadata": {
        "id": "YMUDRHkm0aMV",
        "colab": {
          "base_uri": "https://localhost:8080/",
          "height": 125,
          "referenced_widgets": [
            "9151358e560f4c7e930b06764ed0f905",
            "a1aaa21715934dceaffb28cfa2a9ae16",
            "7dab4f75ca6148b0ac1c28bc95155fff",
            "cef10a6b154649f192b7e629133bd0df",
            "5f549205576e46b0909e76b64e0a2348",
            "5506920bdfee4dcbb2d54fc687893a09",
            "d112337b098947bf8545ad89aa6ca2de",
            "7c758a6288014e4493ca515afe1187fb"
          ]
        },
        "outputId": "39c9da7a-e380-4917-bc20-b85f31749219"
      },
      "source": [
        "if use_wandb:\n",
        "  wandb.finish()"
      ],
      "execution_count": 103,
      "outputs": [
        {
          "output_type": "display_data",
          "data": {
            "text/html": [
              "<br/>Waiting for W&B process to finish, PID 1291... <strong style=\"color:green\">(success).</strong>"
            ],
            "text/plain": [
              "<IPython.core.display.HTML object>"
            ]
          },
          "metadata": {}
        },
        {
          "output_type": "display_data",
          "data": {
            "application/vnd.jupyter.widget-view+json": {
              "model_id": "9151358e560f4c7e930b06764ed0f905",
              "version_minor": 0,
              "version_major": 2
            },
            "text/plain": [
              "VBox(children=(Label(value=' 2.58MB of 2.58MB uploaded (0.00MB deduped)\\r'), FloatProgress(value=1.0, max=1.0)…"
            ]
          },
          "metadata": {}
        },
        {
          "output_type": "display_data",
          "data": {
            "text/html": [
              "<style>\n",
              "    table.wandb td:nth-child(1) { padding: 0 10px; text-align: right }\n",
              "    .wandb-row { display: flex; flex-direction: row; flex-wrap: wrap; width: 100% }\n",
              "    .wandb-col { display: flex; flex-direction: column; flex-basis: 100%; flex: 1; padding: 10px; }\n",
              "    </style>\n",
              "<div class=\"wandb-row\"><div class=\"wandb-col\">\n",
              "</div><div class=\"wandb-col\">\n",
              "</div></div>\n",
              "Synced 5 W&B file(s), 7 media file(s), 9 artifact file(s) and 0 other file(s)\n",
              "<br/>Synced <strong style=\"color:#cdcd00\">fragrant-galaxy-11</strong>: <a href=\"https://wandb.ai/doris/jazztunes/runs/1g9t5qfm\" target=\"_blank\">https://wandb.ai/doris/jazztunes/runs/1g9t5qfm</a><br/>\n",
              "Find logs at: <code>./wandb/run-20211128_190834-1g9t5qfm/logs</code><br/>\n"
            ],
            "text/plain": [
              "<IPython.core.display.HTML object>"
            ]
          },
          "metadata": {}
        }
      ]
    },
    {
      "cell_type": "code",
      "metadata": {
        "id": "Vn_SFyKt0bYx"
      },
      "source": [
        "\n"
      ],
      "execution_count": 103,
      "outputs": []
    },
    {
      "cell_type": "code",
      "metadata": {
        "id": "OaSXwXe9ptGr"
      },
      "source": [
        ""
      ],
      "execution_count": 103,
      "outputs": []
    }
  ]
}