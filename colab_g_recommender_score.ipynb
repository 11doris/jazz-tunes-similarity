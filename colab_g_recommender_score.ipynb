{
  "nbformat": 4,
  "nbformat_minor": 0,
  "metadata": {
    "colab": {
      "name": "colab_g_recommender_score",
      "provenance": [],
      "toc_visible": true,
      "authorship_tag": "ABX9TyNnZB8I4O7ohT7CyhLtqx91",
      "include_colab_link": true
    },
    "kernelspec": {
      "name": "python3",
      "display_name": "Python 3"
    },
    "language_info": {
      "name": "python"
    },
    "accelerator": "TPU"
  },
  "cells": [
    {
      "cell_type": "markdown",
      "metadata": {
        "id": "view-in-github",
        "colab_type": "text"
      },
      "source": [
        "<a href=\"https://colab.research.google.com/github/11doris/jazz-maestro/blob/colab_word_embeddings/colab_g_recommender_score.ipynb\" target=\"_parent\"><img src=\"https://colab.research.google.com/assets/colab-badge.svg\" alt=\"Open In Colab\"/></a>"
      ]
    },
    {
      "cell_type": "markdown",
      "metadata": {
        "id": "YGhakKpa8Dtf"
      },
      "source": [
        "# Sections as Input"
      ]
    },
    {
      "cell_type": "code",
      "metadata": {
        "colab": {
          "base_uri": "https://localhost:8080/"
        },
        "id": "dm5QehpXxo31",
        "outputId": "583a11a9-c302-418d-e629-dd1894b0c9c4"
      },
      "source": [
        "pip install wandb"
      ],
      "execution_count": 1,
      "outputs": [
        {
          "output_type": "stream",
          "name": "stdout",
          "text": [
            "Requirement already satisfied: wandb in /usr/local/lib/python3.7/dist-packages (0.12.7)\n",
            "Requirement already satisfied: yaspin>=1.0.0 in /usr/local/lib/python3.7/dist-packages (from wandb) (2.1.0)\n",
            "Requirement already satisfied: Click!=8.0.0,>=7.0 in /usr/local/lib/python3.7/dist-packages (from wandb) (7.1.2)\n",
            "Requirement already satisfied: docker-pycreds>=0.4.0 in /usr/local/lib/python3.7/dist-packages (from wandb) (0.4.0)\n",
            "Requirement already satisfied: GitPython>=1.0.0 in /usr/local/lib/python3.7/dist-packages (from wandb) (3.1.24)\n",
            "Requirement already satisfied: shortuuid>=0.5.0 in /usr/local/lib/python3.7/dist-packages (from wandb) (1.0.8)\n",
            "Requirement already satisfied: requests<3,>=2.0.0 in /usr/local/lib/python3.7/dist-packages (from wandb) (2.23.0)\n",
            "Requirement already satisfied: six>=1.13.0 in /usr/local/lib/python3.7/dist-packages (from wandb) (1.15.0)\n",
            "Requirement already satisfied: psutil>=5.0.0 in /usr/local/lib/python3.7/dist-packages (from wandb) (5.4.8)\n",
            "Requirement already satisfied: PyYAML in /usr/local/lib/python3.7/dist-packages (from wandb) (3.13)\n",
            "Requirement already satisfied: pathtools in /usr/local/lib/python3.7/dist-packages (from wandb) (0.1.2)\n",
            "Requirement already satisfied: sentry-sdk>=1.0.0 in /usr/local/lib/python3.7/dist-packages (from wandb) (1.5.0)\n",
            "Requirement already satisfied: subprocess32>=3.5.3 in /usr/local/lib/python3.7/dist-packages (from wandb) (3.5.4)\n",
            "Requirement already satisfied: configparser>=3.8.1 in /usr/local/lib/python3.7/dist-packages (from wandb) (5.1.0)\n",
            "Requirement already satisfied: promise<3,>=2.0 in /usr/local/lib/python3.7/dist-packages (from wandb) (2.3)\n",
            "Requirement already satisfied: protobuf>=3.12.0 in /usr/local/lib/python3.7/dist-packages (from wandb) (3.17.3)\n",
            "Requirement already satisfied: python-dateutil>=2.6.1 in /usr/local/lib/python3.7/dist-packages (from wandb) (2.8.2)\n",
            "Requirement already satisfied: typing-extensions>=3.7.4.3 in /usr/local/lib/python3.7/dist-packages (from GitPython>=1.0.0->wandb) (3.10.0.2)\n",
            "Requirement already satisfied: gitdb<5,>=4.0.1 in /usr/local/lib/python3.7/dist-packages (from GitPython>=1.0.0->wandb) (4.0.9)\n",
            "Requirement already satisfied: smmap<6,>=3.0.1 in /usr/local/lib/python3.7/dist-packages (from gitdb<5,>=4.0.1->GitPython>=1.0.0->wandb) (5.0.0)\n",
            "Requirement already satisfied: certifi>=2017.4.17 in /usr/local/lib/python3.7/dist-packages (from requests<3,>=2.0.0->wandb) (2021.10.8)\n",
            "Requirement already satisfied: idna<3,>=2.5 in /usr/local/lib/python3.7/dist-packages (from requests<3,>=2.0.0->wandb) (2.10)\n",
            "Requirement already satisfied: urllib3!=1.25.0,!=1.25.1,<1.26,>=1.21.1 in /usr/local/lib/python3.7/dist-packages (from requests<3,>=2.0.0->wandb) (1.24.3)\n",
            "Requirement already satisfied: chardet<4,>=3.0.2 in /usr/local/lib/python3.7/dist-packages (from requests<3,>=2.0.0->wandb) (3.0.4)\n",
            "Requirement already satisfied: termcolor<2.0.0,>=1.1.0 in /usr/local/lib/python3.7/dist-packages (from yaspin>=1.0.0->wandb) (1.1.0)\n"
          ]
        }
      ]
    },
    {
      "cell_type": "code",
      "metadata": {
        "colab": {
          "base_uri": "https://localhost:8080/"
        },
        "id": "HZG8BDT-xrv3",
        "outputId": "ab2a99eb-990c-4a74-d1e0-55fad16c9ecc"
      },
      "source": [
        "!wandb login"
      ],
      "execution_count": 2,
      "outputs": [
        {
          "output_type": "stream",
          "name": "stdout",
          "text": [
            "\u001b[34m\u001b[1mwandb\u001b[0m: Currently logged in as: \u001b[33mdoris\u001b[0m (use `wandb login --relogin` to force relogin)\n"
          ]
        }
      ]
    },
    {
      "cell_type": "code",
      "metadata": {
        "id": "WHZBzAXjxz1J"
      },
      "source": [
        "import wandb"
      ],
      "execution_count": 3,
      "outputs": []
    },
    {
      "cell_type": "code",
      "metadata": {
        "colab": {
          "base_uri": "https://localhost:8080/"
        },
        "id": "MUy1ta4_782n",
        "outputId": "be7a0ebd-2714-4e00-9a73-99e60bb85416"
      },
      "source": [
        "!pip uninstall gensim -y"
      ],
      "execution_count": 4,
      "outputs": [
        {
          "output_type": "stream",
          "name": "stdout",
          "text": [
            "Found existing installation: gensim 4.1.2\n",
            "Uninstalling gensim-4.1.2:\n",
            "  Successfully uninstalled gensim-4.1.2\n"
          ]
        }
      ]
    },
    {
      "cell_type": "code",
      "metadata": {
        "colab": {
          "base_uri": "https://localhost:8080/"
        },
        "id": "oAroxmvO8GQj",
        "outputId": "5c6f7b8b-52ff-44b5-d78c-526764b95f8d"
      },
      "source": [
        "!pip install gensim"
      ],
      "execution_count": 5,
      "outputs": [
        {
          "output_type": "stream",
          "name": "stdout",
          "text": [
            "Collecting gensim\n",
            "  Using cached gensim-4.1.2-cp37-cp37m-manylinux_2_12_x86_64.manylinux2010_x86_64.whl (24.1 MB)\n",
            "Requirement already satisfied: smart-open>=1.8.1 in /usr/local/lib/python3.7/dist-packages (from gensim) (5.2.1)\n",
            "Requirement already satisfied: scipy>=0.18.1 in /usr/local/lib/python3.7/dist-packages (from gensim) (1.4.1)\n",
            "Requirement already satisfied: numpy>=1.17.0 in /usr/local/lib/python3.7/dist-packages (from gensim) (1.19.5)\n",
            "Installing collected packages: gensim\n",
            "Successfully installed gensim-4.1.2\n"
          ]
        }
      ]
    },
    {
      "cell_type": "code",
      "metadata": {
        "id": "6SZ0zrKX8H-D"
      },
      "source": [
        "import gensim\n",
        "from sklearn.manifold import TSNE\n",
        "import matplotlib.pyplot as plt\n",
        "import pprint\n",
        "import pandas as pd\n",
        "import numpy as np\n",
        "from collections import Counter\n",
        "import plotly.express as px\n",
        "from tqdm import tqdm \n",
        "from gensim.models.doc2vec import Doc2Vec\n",
        "from gensim.models.tfidfmodel import TfidfModel\n",
        "from gensim.models.lsimodel import LsiModel\n",
        "from gensim.models import CoherenceModel\n",
        "from gensim import corpora\n",
        "from gensim import similarities\n",
        "import pickle\n",
        "import os"
      ],
      "execution_count": 6,
      "outputs": []
    },
    {
      "cell_type": "code",
      "metadata": {
        "id": "znWar-PK8KHT"
      },
      "source": [
        "import logging\n",
        "logging.basicConfig(format='%(asctime)s : %(levelname)s : %(message)s', level=logging.INFO)"
      ],
      "execution_count": 7,
      "outputs": []
    },
    {
      "cell_type": "code",
      "metadata": {
        "colab": {
          "base_uri": "https://localhost:8080/"
        },
        "id": "kjCf_Abf8MCc",
        "outputId": "f2926759-07fa-4b18-e047-32ac627c4030"
      },
      "source": [
        "print(gensim.__version__)"
      ],
      "execution_count": 8,
      "outputs": [
        {
          "output_type": "stream",
          "name": "stdout",
          "text": [
            "4.1.2\n"
          ]
        }
      ]
    },
    {
      "cell_type": "code",
      "metadata": {
        "id": "_aEonlx-CT6r"
      },
      "source": [
        "!rm data.csv"
      ],
      "execution_count": 9,
      "outputs": []
    },
    {
      "cell_type": "markdown",
      "metadata": {
        "id": "Nk5pPZqk0Pn7"
      },
      "source": [
        "# Configuration\n"
      ]
    },
    {
      "cell_type": "code",
      "metadata": {
        "id": "wcZ18xhgU7MZ"
      },
      "source": [
        "use_wandb = False"
      ],
      "execution_count": 10,
      "outputs": []
    },
    {
      "cell_type": "code",
      "metadata": {
        "id": "GfQbJQmexlxI"
      },
      "source": [
        "chords_repeated = 'rep' \n",
        "chords_preprocessing = 'rootAndDegreesPlus'"
      ],
      "execution_count": 11,
      "outputs": []
    },
    {
      "cell_type": "code",
      "metadata": {
        "id": "buoyWNl0F48Y"
      },
      "source": [
        "ngrams_for_input = [1]"
      ],
      "execution_count": 12,
      "outputs": []
    },
    {
      "cell_type": "code",
      "metadata": {
        "id": "K7qB2_sBvKpB"
      },
      "source": [
        "input_files = {\n",
        "    'sections': {\n",
        "        'rep': {\n",
        "            # M7 and 6 reduced to major triad, m7 reduced to m, dominant 7, m7b5, diminished, and all (b5) left as they are.\n",
        "            'rootAndDegreesPlus': '1BDYukaIj72jmi9PqZVrCAqKbyxg8Z4yq',\n",
        "            'rootAndDegrees7': '',\n",
        "            'rootAndDegreesSimplified': ''\n",
        "        },\n",
        "    },\n",
        "    'tunes': {\n",
        "        'rep': {\n",
        "            'rootAndDegreesPlus': '',\n",
        "            'rootAndDegrees7': '',\n",
        "            'rootAndDegreesSimplified': '',\n",
        "        },\n",
        "        'norep': {\n",
        "            'rootAndDegreesPlus': '',\n",
        "            'rootAndDegrees7': '',\n",
        "            'rootAndDegreesSimplified': '',\n",
        "        }\n",
        "    }\n",
        "}"
      ],
      "execution_count": 13,
      "outputs": []
    },
    {
      "cell_type": "code",
      "metadata": {
        "colab": {
          "base_uri": "https://localhost:8080/"
        },
        "id": "lM6eaQwnyWD3",
        "outputId": "f98abea3-98f8-45e4-b0cc-d79c5eec7405"
      },
      "source": [
        "tunes_eval_list = [\n",
        "  \"Sweet Sue, Just You [jazz1350]\",\n",
        "  \"These Foolish Things [jazz1350]\", \n",
        "  \"Blue Moon [jazz1350]\",\n",
        "  \"All Of Me [jazz1350]\",\n",
        "  \"All God's Chillun Got Rhythm [jazz1350]\",\n",
        "  \"I Got Rhythm [jazz1350]\",\n",
        "  \"Bye Bye Blackbird [jazz1350]\",\n",
        "  \"Old Fashioned Love [trad]\",\n",
        "  \"Dinah [jazz1350]\",\n",
        "  \"Honeysuckle Rose [jazz1350]\",\n",
        "  \"Misty [jazz1350]\",\n",
        "  \"We'll Be Together Again [jazz1350]\",\n",
        "  \"East Of The Sun [jazz1350]\",\n",
        "  \"Sophisticated Lady [jazz1350]\",\n",
        "  \"Perdido [jazz1350]\",\n",
        "  \"Naima [jazz1350]\",\n",
        "  \"Call Me Irresponsible [jazz1350]\",\n",
        "  \"Corcovado [jazz1350]\",\n",
        "  \"Footprints [jazz1350]\",\n",
        "  \"Giant Steps [jazz1350]\",\n",
        "  \"But Beautiful [jazz1350]\",\n",
        "  \"Rockin' Chair [jazz1350]\",\n",
        "  \"Blood Count [jazz1350]\",\n",
        "  \"After You've Gone [jazz1350]\",\n",
        "]\n",
        "\n",
        "tunes_eval_list = sorted(tunes_eval_list)\n",
        "tunes_eval_list"
      ],
      "execution_count": 14,
      "outputs": [
        {
          "output_type": "execute_result",
          "data": {
            "text/plain": [
              "[\"After You've Gone [jazz1350]\",\n",
              " \"All God's Chillun Got Rhythm [jazz1350]\",\n",
              " 'All Of Me [jazz1350]',\n",
              " 'Blood Count [jazz1350]',\n",
              " 'Blue Moon [jazz1350]',\n",
              " 'But Beautiful [jazz1350]',\n",
              " 'Bye Bye Blackbird [jazz1350]',\n",
              " 'Call Me Irresponsible [jazz1350]',\n",
              " 'Corcovado [jazz1350]',\n",
              " 'Dinah [jazz1350]',\n",
              " 'East Of The Sun [jazz1350]',\n",
              " 'Footprints [jazz1350]',\n",
              " 'Giant Steps [jazz1350]',\n",
              " 'Honeysuckle Rose [jazz1350]',\n",
              " 'I Got Rhythm [jazz1350]',\n",
              " 'Misty [jazz1350]',\n",
              " 'Naima [jazz1350]',\n",
              " 'Old Fashioned Love [trad]',\n",
              " 'Perdido [jazz1350]',\n",
              " \"Rockin' Chair [jazz1350]\",\n",
              " 'Sophisticated Lady [jazz1350]',\n",
              " 'Sweet Sue, Just You [jazz1350]',\n",
              " 'These Foolish Things [jazz1350]',\n",
              " \"We'll Be Together Again [jazz1350]\"]"
            ]
          },
          "metadata": {},
          "execution_count": 14
        }
      ]
    },
    {
      "cell_type": "code",
      "metadata": {
        "id": "uiI0h4ef0PCD",
        "colab": {
          "base_uri": "https://localhost:8080/"
        },
        "outputId": "a2935179-1055-4a60-ae6d-b4cadf57249e"
      },
      "source": [
        "contrafacts_1350jazz = {\n",
        "               \"26-2\": \"Confirmation\",\n",
        "               \"52nd Street Theme\": \"I Got Rhythm\",\n",
        "               \"Ablution\": \"All The Things You Are\",\n",
        "               \"Anthropology\": \"I Got Rhythm\",\n",
        "               \"Ballade\": \"As Long As I Live\",\n",
        "               \"Bright Mississippi\": \"Sweet Georgia Brown\",\n",
        "               \"C.T.A.\": \"I Got Rhythm\",\n",
        "               # \"Celia\": \"I Got Rhythm\",\n",
        "               \"Cottontail\": \"I Got Rhythm\",\n",
        "               \"Countdown\": \"Tune Up\",\n",
        "               \"Dewey Square\": \"Oh, Lady Be Good\",\n",
        "               \"Dexterity\": \"I Got Rhythm\",\n",
        "               \"Dig\": \"Sweet Georgia Brown\",\n",
        "               \"Donna Lee\": \"Indiana (Back Home Again In)\",\n",
        "               \"Don't Be That Way\": \"I Got Rhythm\",\n",
        "               #\"Eternal Triangle\": \"I Got Rhythm\",\n",
        "               \"Evidence\": \"Just You, Just Me\",\n",
        "               \"Flintstones\": \"I Got Rhythm\",\n",
        "               \"Four On Six\": \"Summertime\",\n",
        "               \"Freight Train\": \"Blues For Alice\",\n",
        "               \"Good Bait\": \"I Got Rhythm\",\n",
        "               \"Hackensack\": \"Oh, Lady Be Good\",\n",
        "               \"Half Nelson\": \"Lady Bird\",\n",
        "               \"Hot House\": \"What Is This Thing Called Love\",\n",
        "               \"Impressions\": \"So What\",\n",
        "               \"In A Mellow Tone (In A Mellotone)\": \"Rose Room\",\n",
        "               \"In Walked Bud\": \"Blue Skies\",\n",
        "               \"Ko Ko\": \"Cherokee\",\n",
        "               \"Lennie's Pennies\": \"Pennies From Heaven\",   ## Lennie's Pennies is in minor and therefore transposed to Amin... not possible to recognize like that\n",
        "               # \"Let's Call This\": \"Honeysuckle Rose\",\n",
        "               \"Little Rootie Tootie\": \"I Got Rhythm\",\n",
        "               \"Little Willie Leaps\": \"All God's Chillun Got Rhythm\",\n",
        "               \"Lullaby Of Birdland\": \"Love Me Or Leave Me\",\n",
        "               #\"Moose The Mooche\": \"I Got Rhythm\",\n",
        "               \"My Little Suede Shoes\": \"Jeepers Creepers\",\n",
        "               #\"Oleo\": \"I Got Rhythm\",\n",
        "               \"Ornithology\": \"How High The Moon\",\n",
        "               #\"Passport\": \"I Got Rhythm\",\n",
        "               \"Quasimodo (Theme)\": \"Embraceable You\",\n",
        "               #\"Rhythm-a-ning\": \"I Got Rhythm\",\n",
        "               \"Room 608\": \"I Got Rhythm\",\n",
        "               #\"Salt Peanuts\": \"I Got Rhythm\",\n",
        "               \"Satellite\": \"How High The Moon\",\n",
        "               \"Scrapple From The Apple\": \"Honeysuckle Rose\", # A section\n",
        "               \"Scrapple From The Apple\": \"I Got Rhythm\", # B section\n",
        "               #\"Segment\": \"I Got Rhythm\",\n",
        "               #\"Seven Come Eleven\": \"I Got Rhythm\",\n",
        "               #\"Shaw 'Nuff\": \"I Got Rhythm\",\n",
        "               #\"Theme, The\": \"I Got Rhythm\",\n",
        "               \"Tour De Force\": \"Jeepers Creepers\",\n",
        "               \"Wow\": \"You Can Depend On Me\",\n",
        "               \"Yardbird Suite\": \"Rosetta\",\n",
        "\n",
        "               # following tunes are not from wikipedia:\n",
        "               \"Sweet Sue, Just You\": \"Honeysuckle Rose\",  # A section\n",
        "               # \"All Of Me\": \"Pennies From Heaven\", # bars 25-28 of All of Me are same as bars 17-20 of Pennies From Heaven, but different key!\n",
        "               \"Sweet Sue, Just You\": \"Bye Bye Blackbird\", # Bridge same\n",
        "               \"These Foolish Things\": \"Blue Moon\", # first 8 bars same\n",
        "               \"These Foolish Things\": \"More Than You Know\",\n",
        "               \"These Foolish Things\": \"Isn't It A Pity\",\n",
        "               \"These Foolish Things\": \"Soultrain\",\n",
        "               \"These Foolish Things\": \"Why Do I Love You\",\n",
        "               \"Misty\": \"Portrait Of Jennie\",\n",
        "               \"Misty\": \"September In The Rain\",\n",
        "               \"Misty\": \"I May Be Wrong\",                    \n",
        "}\n",
        "\n",
        "\n",
        "contrafacts = {}\n",
        "for key, value in contrafacts_1350jazz.items():\n",
        "  contrafacts[f\"{key} [jazz1350]\"] = f\"{value} [jazz1350]\"\n",
        "\n",
        "contrafacts\n"
      ],
      "execution_count": 15,
      "outputs": [
        {
          "output_type": "execute_result",
          "data": {
            "text/plain": [
              "{'26-2 [jazz1350]': 'Confirmation [jazz1350]',\n",
              " '52nd Street Theme [jazz1350]': 'I Got Rhythm [jazz1350]',\n",
              " 'Ablution [jazz1350]': 'All The Things You Are [jazz1350]',\n",
              " 'Anthropology [jazz1350]': 'I Got Rhythm [jazz1350]',\n",
              " 'Ballade [jazz1350]': 'As Long As I Live [jazz1350]',\n",
              " 'Bright Mississippi [jazz1350]': 'Sweet Georgia Brown [jazz1350]',\n",
              " 'C.T.A. [jazz1350]': 'I Got Rhythm [jazz1350]',\n",
              " 'Cottontail [jazz1350]': 'I Got Rhythm [jazz1350]',\n",
              " 'Countdown [jazz1350]': 'Tune Up [jazz1350]',\n",
              " 'Dewey Square [jazz1350]': 'Oh, Lady Be Good [jazz1350]',\n",
              " 'Dexterity [jazz1350]': 'I Got Rhythm [jazz1350]',\n",
              " 'Dig [jazz1350]': 'Sweet Georgia Brown [jazz1350]',\n",
              " \"Don't Be That Way [jazz1350]\": 'I Got Rhythm [jazz1350]',\n",
              " 'Donna Lee [jazz1350]': 'Indiana (Back Home Again In) [jazz1350]',\n",
              " 'Evidence [jazz1350]': 'Just You, Just Me [jazz1350]',\n",
              " 'Flintstones [jazz1350]': 'I Got Rhythm [jazz1350]',\n",
              " 'Four On Six [jazz1350]': 'Summertime [jazz1350]',\n",
              " 'Freight Train [jazz1350]': 'Blues For Alice [jazz1350]',\n",
              " 'Good Bait [jazz1350]': 'I Got Rhythm [jazz1350]',\n",
              " 'Hackensack [jazz1350]': 'Oh, Lady Be Good [jazz1350]',\n",
              " 'Half Nelson [jazz1350]': 'Lady Bird [jazz1350]',\n",
              " 'Hot House [jazz1350]': 'What Is This Thing Called Love [jazz1350]',\n",
              " 'Impressions [jazz1350]': 'So What [jazz1350]',\n",
              " 'In A Mellow Tone (In A Mellotone) [jazz1350]': 'Rose Room [jazz1350]',\n",
              " 'In Walked Bud [jazz1350]': 'Blue Skies [jazz1350]',\n",
              " 'Ko Ko [jazz1350]': 'Cherokee [jazz1350]',\n",
              " \"Lennie's Pennies [jazz1350]\": 'Pennies From Heaven [jazz1350]',\n",
              " 'Little Rootie Tootie [jazz1350]': 'I Got Rhythm [jazz1350]',\n",
              " 'Little Willie Leaps [jazz1350]': \"All God's Chillun Got Rhythm [jazz1350]\",\n",
              " 'Lullaby Of Birdland [jazz1350]': 'Love Me Or Leave Me [jazz1350]',\n",
              " 'Misty [jazz1350]': 'I May Be Wrong [jazz1350]',\n",
              " 'My Little Suede Shoes [jazz1350]': 'Jeepers Creepers [jazz1350]',\n",
              " 'Ornithology [jazz1350]': 'How High The Moon [jazz1350]',\n",
              " 'Quasimodo (Theme) [jazz1350]': 'Embraceable You [jazz1350]',\n",
              " 'Room 608 [jazz1350]': 'I Got Rhythm [jazz1350]',\n",
              " 'Satellite [jazz1350]': 'How High The Moon [jazz1350]',\n",
              " 'Scrapple From The Apple [jazz1350]': 'I Got Rhythm [jazz1350]',\n",
              " 'Sweet Sue, Just You [jazz1350]': 'Bye Bye Blackbird [jazz1350]',\n",
              " 'These Foolish Things [jazz1350]': 'Why Do I Love You [jazz1350]',\n",
              " 'Tour De Force [jazz1350]': 'Jeepers Creepers [jazz1350]',\n",
              " 'Wow [jazz1350]': 'You Can Depend On Me [jazz1350]',\n",
              " 'Yardbird Suite [jazz1350]': 'Rosetta [jazz1350]'}"
            ]
          },
          "metadata": {},
          "execution_count": 15
        }
      ]
    },
    {
      "cell_type": "markdown",
      "metadata": {
        "id": "gcexO7zK8Pn6"
      },
      "source": [
        "# Initialization\n",
        "\n",
        "## Download the Data"
      ]
    },
    {
      "cell_type": "code",
      "metadata": {
        "id": "JwVJo3Vat8iF"
      },
      "source": [
        "input_data = input_files['sections'][chords_repeated][chords_preprocessing]\n",
        "\n",
        "input_path = f\"https://docs.google.com/uc?export=download&id={input_data}\"\n",
        "data_file_name = 'data.csv'\n"
      ],
      "execution_count": 16,
      "outputs": []
    },
    {
      "cell_type": "code",
      "metadata": {
        "colab": {
          "base_uri": "https://localhost:8080/",
          "height": 36
        },
        "id": "_Dp-fijjB-pU",
        "outputId": "9b2eeabd-4672-43d5-fb17-720d14e78a62"
      },
      "source": [
        "input_path"
      ],
      "execution_count": 17,
      "outputs": [
        {
          "output_type": "execute_result",
          "data": {
            "application/vnd.google.colaboratory.intrinsic+json": {
              "type": "string"
            },
            "text/plain": [
              "'https://docs.google.com/uc?export=download&id=1BDYukaIj72jmi9PqZVrCAqKbyxg8Z4yq'"
            ]
          },
          "metadata": {},
          "execution_count": 17
        }
      ]
    },
    {
      "cell_type": "code",
      "metadata": {
        "colab": {
          "base_uri": "https://localhost:8080/"
        },
        "id": "1ZVAYUH5t9Li",
        "outputId": "5edb53b9-6c88-48d8-e787-ce2d03e9492a"
      },
      "source": [
        "!wget --no-check-certificate \"$input_path\" -O \"$data_file_name\""
      ],
      "execution_count": 18,
      "outputs": [
        {
          "output_type": "stream",
          "name": "stdout",
          "text": [
            "--2021-11-26 19:25:26--  https://docs.google.com/uc?export=download&id=1BDYukaIj72jmi9PqZVrCAqKbyxg8Z4yq\n",
            "Resolving docs.google.com (docs.google.com)... 108.177.120.100, 108.177.120.113, 108.177.120.101, ...\n",
            "Connecting to docs.google.com (docs.google.com)|108.177.120.100|:443... connected.\n",
            "HTTP request sent, awaiting response... 302 Moved Temporarily\n",
            "Location: https://doc-0k-4c-docs.googleusercontent.com/docs/securesc/ha0ro937gcuc7l7deffksulhg5h7mbp1/5g7lo25563288urq0c8h8u3b9mkhf2ba/1637954700000/14329102864480165501/*/1BDYukaIj72jmi9PqZVrCAqKbyxg8Z4yq?e=download [following]\n",
            "Warning: wildcards not supported in HTTP.\n",
            "--2021-11-26 19:25:27--  https://doc-0k-4c-docs.googleusercontent.com/docs/securesc/ha0ro937gcuc7l7deffksulhg5h7mbp1/5g7lo25563288urq0c8h8u3b9mkhf2ba/1637954700000/14329102864480165501/*/1BDYukaIj72jmi9PqZVrCAqKbyxg8Z4yq?e=download\n",
            "Resolving doc-0k-4c-docs.googleusercontent.com (doc-0k-4c-docs.googleusercontent.com)... 172.217.219.132, 2607:f8b0:4001:c13::84\n",
            "Connecting to doc-0k-4c-docs.googleusercontent.com (doc-0k-4c-docs.googleusercontent.com)|172.217.219.132|:443... connected.\n",
            "HTTP request sent, awaiting response... 200 OK\n",
            "Length: 813814 (795K) [text/csv]\n",
            "Saving to: ‘data.csv’\n",
            "\n",
            "data.csv            100%[===================>] 794.74K  --.-KB/s    in 0.008s  \n",
            "\n",
            "2021-11-26 19:25:27 (99.8 MB/s) - ‘data.csv’ saved [813814/813814]\n",
            "\n"
          ]
        }
      ]
    },
    {
      "cell_type": "markdown",
      "metadata": {
        "id": "Ljs21B7h8YvC"
      },
      "source": [
        "### Read Chords Input Data"
      ]
    },
    {
      "cell_type": "code",
      "metadata": {
        "colab": {
          "base_uri": "https://localhost:8080/",
          "height": 310
        },
        "id": "B7kK418L8aac",
        "outputId": "22790353-77c5-4d24-9956-64936410ca1c"
      },
      "source": [
        "df = pd.read_csv(data_file_name, sep='\\t', index_col=\"id\")\n",
        "df = df.reset_index()\n",
        "df.head(5)"
      ],
      "execution_count": 19,
      "outputs": [
        {
          "output_type": "execute_result",
          "data": {
            "text/html": [
              "<div>\n",
              "<style scoped>\n",
              "    .dataframe tbody tr th:only-of-type {\n",
              "        vertical-align: middle;\n",
              "    }\n",
              "\n",
              "    .dataframe tbody tr th {\n",
              "        vertical-align: top;\n",
              "    }\n",
              "\n",
              "    .dataframe thead th {\n",
              "        text-align: right;\n",
              "    }\n",
              "</style>\n",
              "<table border=\"1\" class=\"dataframe\">\n",
              "  <thead>\n",
              "    <tr style=\"text-align: right;\">\n",
              "      <th></th>\n",
              "      <th>id</th>\n",
              "      <th>file_name</th>\n",
              "      <th>title</th>\n",
              "      <th>title_playlist</th>\n",
              "      <th>tune_mode</th>\n",
              "      <th>tune_id</th>\n",
              "      <th>section_name</th>\n",
              "      <th>section_id</th>\n",
              "      <th>chords</th>\n",
              "    </tr>\n",
              "  </thead>\n",
              "  <tbody>\n",
              "    <tr>\n",
              "      <th>0</th>\n",
              "      <td>0</td>\n",
              "      <td>dataset/jazz1350/26-2.xml</td>\n",
              "      <td>26-2</td>\n",
              "      <td>26-2 [jazz1350]</td>\n",
              "      <td>major</td>\n",
              "      <td>0</td>\n",
              "      <td>A</td>\n",
              "      <td>1</td>\n",
              "      <td>C Eb7 G# B7 E G7 Gm C7 F G#7 C# E7 Am D7 Dm G7</td>\n",
              "    </tr>\n",
              "    <tr>\n",
              "      <th>1</th>\n",
              "      <td>1</td>\n",
              "      <td>dataset/jazz1350/26-2.xml</td>\n",
              "      <td>26-2</td>\n",
              "      <td>26-2 [jazz1350]</td>\n",
              "      <td>major</td>\n",
              "      <td>0</td>\n",
              "      <td>A</td>\n",
              "      <td>2</td>\n",
              "      <td>C Eb7 G# B7 E G7 Gm C7 F Eb7 G# B7 E G7 C</td>\n",
              "    </tr>\n",
              "    <tr>\n",
              "      <th>2</th>\n",
              "      <td>2</td>\n",
              "      <td>dataset/jazz1350/26-2.xml</td>\n",
              "      <td>26-2</td>\n",
              "      <td>26-2 [jazz1350]</td>\n",
              "      <td>major</td>\n",
              "      <td>0</td>\n",
              "      <td>B</td>\n",
              "      <td>3</td>\n",
              "      <td>Gm C7 Bm E7 A C7 F Bbm Eb7 G# Dm G7</td>\n",
              "    </tr>\n",
              "    <tr>\n",
              "      <th>3</th>\n",
              "      <td>3</td>\n",
              "      <td>dataset/jazz1350/26-2.xml</td>\n",
              "      <td>26-2</td>\n",
              "      <td>26-2 [jazz1350]</td>\n",
              "      <td>major</td>\n",
              "      <td>0</td>\n",
              "      <td>A</td>\n",
              "      <td>4</td>\n",
              "      <td>C Eb7 G# B7 E G7 Gm C7 F Eb7 G# B7 E G7 C</td>\n",
              "    </tr>\n",
              "    <tr>\n",
              "      <th>4</th>\n",
              "      <td>4</td>\n",
              "      <td>dataset/jazz1350/500 Miles High.xml</td>\n",
              "      <td>500 Miles High</td>\n",
              "      <td>500 Miles High [jazz1350]</td>\n",
              "      <td>minor</td>\n",
              "      <td>1</td>\n",
              "      <td>NaN</td>\n",
              "      <td>0</td>\n",
              "      <td>Am Am Cm Cm Eb Eb Em7b5 A7 Dm Dm Bm7b5 Bm7b5 B...</td>\n",
              "    </tr>\n",
              "  </tbody>\n",
              "</table>\n",
              "</div>"
            ],
            "text/plain": [
              "   id  ...                                             chords\n",
              "0   0  ...     C Eb7 G# B7 E G7 Gm C7 F G#7 C# E7 Am D7 Dm G7\n",
              "1   1  ...          C Eb7 G# B7 E G7 Gm C7 F Eb7 G# B7 E G7 C\n",
              "2   2  ...                Gm C7 Bm E7 A C7 F Bbm Eb7 G# Dm G7\n",
              "3   3  ...          C Eb7 G# B7 E G7 Gm C7 F Eb7 G# B7 E G7 C\n",
              "4   4  ...  Am Am Cm Cm Eb Eb Em7b5 A7 Dm Dm Bm7b5 Bm7b5 B...\n",
              "\n",
              "[5 rows x 9 columns]"
            ]
          },
          "metadata": {},
          "execution_count": 19
        }
      ]
    },
    {
      "cell_type": "markdown",
      "metadata": {
        "id": "OsPcEFbg8gu6"
      },
      "source": [
        "### Meta Data"
      ]
    },
    {
      "cell_type": "code",
      "metadata": {
        "colab": {
          "base_uri": "https://localhost:8080/",
          "height": 206
        },
        "id": "_62YlEVJXOCL",
        "outputId": "80d13a06-7305-4053-dbfc-2910f33e5d28"
      },
      "source": [
        "titles = df.loc[:, ['id', 'tune_id', 'section_id', 'section_name', 'title', 'title_playlist', 'tune_mode']]\n",
        "titles[:5]"
      ],
      "execution_count": 20,
      "outputs": [
        {
          "output_type": "execute_result",
          "data": {
            "text/html": [
              "<div>\n",
              "<style scoped>\n",
              "    .dataframe tbody tr th:only-of-type {\n",
              "        vertical-align: middle;\n",
              "    }\n",
              "\n",
              "    .dataframe tbody tr th {\n",
              "        vertical-align: top;\n",
              "    }\n",
              "\n",
              "    .dataframe thead th {\n",
              "        text-align: right;\n",
              "    }\n",
              "</style>\n",
              "<table border=\"1\" class=\"dataframe\">\n",
              "  <thead>\n",
              "    <tr style=\"text-align: right;\">\n",
              "      <th></th>\n",
              "      <th>id</th>\n",
              "      <th>tune_id</th>\n",
              "      <th>section_id</th>\n",
              "      <th>section_name</th>\n",
              "      <th>title</th>\n",
              "      <th>title_playlist</th>\n",
              "      <th>tune_mode</th>\n",
              "    </tr>\n",
              "  </thead>\n",
              "  <tbody>\n",
              "    <tr>\n",
              "      <th>0</th>\n",
              "      <td>0</td>\n",
              "      <td>0</td>\n",
              "      <td>1</td>\n",
              "      <td>A</td>\n",
              "      <td>26-2</td>\n",
              "      <td>26-2 [jazz1350]</td>\n",
              "      <td>major</td>\n",
              "    </tr>\n",
              "    <tr>\n",
              "      <th>1</th>\n",
              "      <td>1</td>\n",
              "      <td>0</td>\n",
              "      <td>2</td>\n",
              "      <td>A</td>\n",
              "      <td>26-2</td>\n",
              "      <td>26-2 [jazz1350]</td>\n",
              "      <td>major</td>\n",
              "    </tr>\n",
              "    <tr>\n",
              "      <th>2</th>\n",
              "      <td>2</td>\n",
              "      <td>0</td>\n",
              "      <td>3</td>\n",
              "      <td>B</td>\n",
              "      <td>26-2</td>\n",
              "      <td>26-2 [jazz1350]</td>\n",
              "      <td>major</td>\n",
              "    </tr>\n",
              "    <tr>\n",
              "      <th>3</th>\n",
              "      <td>3</td>\n",
              "      <td>0</td>\n",
              "      <td>4</td>\n",
              "      <td>A</td>\n",
              "      <td>26-2</td>\n",
              "      <td>26-2 [jazz1350]</td>\n",
              "      <td>major</td>\n",
              "    </tr>\n",
              "    <tr>\n",
              "      <th>4</th>\n",
              "      <td>4</td>\n",
              "      <td>1</td>\n",
              "      <td>0</td>\n",
              "      <td>NaN</td>\n",
              "      <td>500 Miles High</td>\n",
              "      <td>500 Miles High [jazz1350]</td>\n",
              "      <td>minor</td>\n",
              "    </tr>\n",
              "  </tbody>\n",
              "</table>\n",
              "</div>"
            ],
            "text/plain": [
              "   id  tune_id  section_id  ...           title             title_playlist tune_mode\n",
              "0   0        0           1  ...            26-2            26-2 [jazz1350]     major\n",
              "1   1        0           2  ...            26-2            26-2 [jazz1350]     major\n",
              "2   2        0           3  ...            26-2            26-2 [jazz1350]     major\n",
              "3   3        0           4  ...            26-2            26-2 [jazz1350]     major\n",
              "4   4        1           0  ...  500 Miles High  500 Miles High [jazz1350]     minor\n",
              "\n",
              "[5 rows x 7 columns]"
            ]
          },
          "metadata": {},
          "execution_count": 20
        }
      ]
    },
    {
      "cell_type": "code",
      "metadata": {
        "id": "0vEOjvwt8jUu"
      },
      "source": [
        "titles_dict = titles.to_dict()\n",
        "\n",
        "sectionid_to_title = titles_dict['title_playlist']\n",
        "sectionid_to_titleid = titles_dict['tune_id']\n"
      ],
      "execution_count": 21,
      "outputs": []
    },
    {
      "cell_type": "code",
      "metadata": {
        "id": "Om7pbfnNGO_I"
      },
      "source": [
        "tunes = df.loc[:, ['tune_id', 'title_playlist']].drop_duplicates()\n",
        "tunes = tunes.set_index('tune_id').to_dict()\n",
        "titleid_to_title = tunes['title_playlist']"
      ],
      "execution_count": 22,
      "outputs": []
    },
    {
      "cell_type": "code",
      "metadata": {
        "id": "1H72Y3_d8uNu"
      },
      "source": [
        "titles_rows = titles.to_dict(orient='records')\n",
        "sectionid_to_section = []\n",
        "for i, row in enumerate(titles_rows):\n",
        "  name = f\"{row['title']}, section{row['section_id']} ({row['section_name']})\"\n",
        "  sectionid_to_section.append(name)\n",
        "  "
      ],
      "execution_count": 23,
      "outputs": []
    },
    {
      "cell_type": "code",
      "metadata": {
        "id": "HCeGUk818y8V"
      },
      "source": [
        "title_to_sectionid = {}\n",
        "\n",
        "for row in titles.iterrows():\n",
        "  title = row[1]['title_playlist']\n",
        "  if title not in title_to_sectionid:\n",
        "    title_to_sectionid[title] = [row[1]['id']]\n",
        "  else:\n",
        "    title_to_sectionid[title].append(row[1]['id'])"
      ],
      "execution_count": 24,
      "outputs": []
    },
    {
      "cell_type": "markdown",
      "metadata": {
        "id": "GWXGqImnoHdm"
      },
      "source": [
        "### Create Directories on Colab"
      ]
    },
    {
      "cell_type": "code",
      "metadata": {
        "id": "sDWIxDpIoJv1"
      },
      "source": [
        "!rm -R output\n",
        "!mkdir output"
      ],
      "execution_count": 25,
      "outputs": []
    },
    {
      "cell_type": "markdown",
      "metadata": {
        "id": "tHWe1mKVrF8O"
      },
      "source": [
        "### Test Data"
      ]
    },
    {
      "cell_type": "code",
      "metadata": {
        "id": "V0Bg0wJ7sBBk"
      },
      "source": [
        "tunes_eval_list = sorted(tunes_eval_list)"
      ],
      "execution_count": 26,
      "outputs": []
    },
    {
      "cell_type": "code",
      "metadata": {
        "id": "UE0AGDO_rFVo"
      },
      "source": [
        "#contrafacts_test = []\n",
        "#for reference, compare in contrafacts.items():\n",
        "#  contrafacts_test.append([title_to_sectionid[reference], title_to_sectionid[compare]])"
      ],
      "execution_count": 27,
      "outputs": []
    },
    {
      "cell_type": "markdown",
      "metadata": {
        "id": "LvQ60s_owm82"
      },
      "source": [
        "## Initialization for wandb variables"
      ]
    },
    {
      "cell_type": "code",
      "metadata": {
        "id": "fw7FHHXfwagL"
      },
      "source": [
        "recommender_results_cols = ['reference', 'id', 'method', 'similar', 'score_div_max', 'score']\n",
        "recommender_results = pd.DataFrame(columns=recommender_results_cols)"
      ],
      "execution_count": 28,
      "outputs": []
    },
    {
      "cell_type": "code",
      "metadata": {
        "id": "PfvF20G1JZMa"
      },
      "source": [
        "lsi_config = {\n",
        "    'num_topics': 200,\n",
        "}"
      ],
      "execution_count": 29,
      "outputs": []
    },
    {
      "cell_type": "code",
      "metadata": {
        "id": "eW2f6BdAJl01"
      },
      "source": [
        "doc2vec_config = {\n",
        "    'general': {\n",
        "        'chords_preprocessing': chords_preprocessing,\n",
        "        'chords_repeated': chords_repeated,\n",
        "        'document_tags': 'SectionsTunes',\n",
        "    },\n",
        "    'model': {\n",
        "        'dm': 1,\n",
        "        'vector_size': 100,\n",
        "        'window': 4,\n",
        "        'epochs': 40,\n",
        "        #'workers': 1,\n",
        "        'min_count': 1,\n",
        "        'negative': 10,\n",
        "        'sample': 0.001,\n",
        "        'seed': 42\n",
        "    }\n",
        "}"
      ],
      "execution_count": 30,
      "outputs": []
    },
    {
      "cell_type": "code",
      "metadata": {
        "id": "sxdJ97gdx70_"
      },
      "source": [
        "if use_wandb:\n",
        "  wandb.init(\n",
        "        # Set entity to specify your username or team name\n",
        "        # ex: entity=\"carey\",\n",
        "        # Set the project where this run will be logged\n",
        "        project=\"jazztunes\", \n",
        "        \n",
        "        # Track hyperparameters and run metadata\n",
        "        config={\n",
        "            \"input_data\": input_path,\n",
        "            \"ngrams_input\": ngrams_for_input,\n",
        "            \"comparison\": \"sections\",\n",
        "            \"lsi\": lsi_config,\n",
        "            \"doc2vec\": doc2vec_config\n",
        "        }\n",
        "    )"
      ],
      "execution_count": 31,
      "outputs": []
    },
    {
      "cell_type": "code",
      "metadata": {
        "id": "xHOY4TKYVN-g"
      },
      "source": [
        "if use_wandb:\n",
        "  artifact = wandb.Artifact('input_data', type='dataset')\n",
        "  artifact.add_file('data.csv')\n",
        "  wandb.log_artifact(artifact)"
      ],
      "execution_count": 32,
      "outputs": []
    },
    {
      "cell_type": "markdown",
      "metadata": {
        "id": "wox-dMcz84Bt"
      },
      "source": [
        "## Helpers functions"
      ]
    },
    {
      "cell_type": "code",
      "metadata": {
        "id": "2964REdr80Gd"
      },
      "source": [
        "def ngrams(tokens, n=2, sep='-'):\n",
        "    return [sep.join(ngram) for ngram in zip(*[tokens[i:] for i in range(n)])]"
      ],
      "execution_count": 33,
      "outputs": []
    },
    {
      "cell_type": "code",
      "metadata": {
        "id": "W42rugQPNYVP"
      },
      "source": [
        "def raw_chords_to_df(tunes):\n",
        "  tunes_chords = [item for tune in tunes for item in tune]\n",
        "  counts = Counter(tunes_chords)\n",
        "  df = pd.DataFrame(counts.items(),\n",
        "                    columns=['chord', 'count']).sort_values(by='count', ascending=False)\n",
        "\n",
        "  return df"
      ],
      "execution_count": 34,
      "outputs": []
    },
    {
      "cell_type": "markdown",
      "metadata": {
        "id": "umfsNtAdF0jM"
      },
      "source": [
        "# Data Preparation"
      ]
    },
    {
      "cell_type": "code",
      "metadata": {
        "id": "dCLwnqoVGcMw"
      },
      "source": [
        "lines = df.loc[:, 'chords'].tolist()\n",
        "data = [line.split(' ') for line in lines]"
      ],
      "execution_count": 35,
      "outputs": []
    },
    {
      "cell_type": "code",
      "metadata": {
        "colab": {
          "base_uri": "https://localhost:8080/"
        },
        "id": "g7SmApW9F3K6",
        "outputId": "8f386d8f-2c1e-4b2c-e13b-95ae822111a7"
      },
      "source": [
        "processed_corpus = []\n",
        "for line in data:\n",
        "  tune_n = []\n",
        "  for n in ngrams_for_input:\n",
        "    tune_n.extend(ngrams(line, n=n))\n",
        "  processed_corpus.append(tune_n)\n",
        "\n",
        "for line in processed_corpus[:5]:\n",
        "  print(line)"
      ],
      "execution_count": 36,
      "outputs": [
        {
          "output_type": "stream",
          "name": "stdout",
          "text": [
            "['C', 'Eb7', 'G#', 'B7', 'E', 'G7', 'Gm', 'C7', 'F', 'G#7', 'C#', 'E7', 'Am', 'D7', 'Dm', 'G7']\n",
            "['C', 'Eb7', 'G#', 'B7', 'E', 'G7', 'Gm', 'C7', 'F', 'Eb7', 'G#', 'B7', 'E', 'G7', 'C']\n",
            "['Gm', 'C7', 'Bm', 'E7', 'A', 'C7', 'F', 'Bbm', 'Eb7', 'G#', 'Dm', 'G7']\n",
            "['C', 'Eb7', 'G#', 'B7', 'E', 'G7', 'Gm', 'C7', 'F', 'Eb7', 'G#', 'B7', 'E', 'G7', 'C']\n",
            "['Am', 'Am', 'Cm', 'Cm', 'Eb', 'Eb', 'Em7b5', 'A7', 'Dm', 'Dm', 'Bm7b5', 'Bm7b5', 'Bbm', 'Bbm', 'Fm', 'Fm', 'E7', 'E7', 'Fm', 'Fm', 'C#', 'C#', 'Fm', 'Fm', 'C#', 'C#']\n"
          ]
        }
      ]
    },
    {
      "cell_type": "markdown",
      "metadata": {
        "id": "Sri0K2DhNagp"
      },
      "source": [
        "#### Corpus Overview"
      ]
    },
    {
      "cell_type": "code",
      "metadata": {
        "colab": {
          "base_uri": "https://localhost:8080/"
        },
        "id": "X2ZqA7IF4ufg",
        "outputId": "add599aa-04bb-4972-b22f-75b526b70b45"
      },
      "source": [
        "tokens = [item for l in processed_corpus for item in l]\n",
        "total_tokens = len(tokens)\n",
        "vocab_size = len(set(tokens))\n",
        "vocab_prop = 100*vocab_size/total_tokens\n",
        "\n",
        "print(f\"Total Number of tokens: {total_tokens}\")\n",
        "print(f\"Size of vocabulary: {vocab_size}\")\n",
        "print(f\"Proportion of vocabulary in corpus: {vocab_prop:.02f}%\")"
      ],
      "execution_count": 37,
      "outputs": [
        {
          "output_type": "stream",
          "name": "stdout",
          "text": [
            "Total Number of tokens: 82622\n",
            "Size of vocabulary: 72\n",
            "Proportion of vocabulary in corpus: 0.09%\n"
          ]
        }
      ]
    },
    {
      "cell_type": "code",
      "metadata": {
        "colab": {
          "base_uri": "https://localhost:8080/",
          "height": 424
        },
        "id": "rULq3jYVNh_x",
        "outputId": "9d4fc773-332c-4681-962c-3cdb5f483de2"
      },
      "source": [
        "df_chords = raw_chords_to_df(processed_corpus)\n",
        "df_chords"
      ],
      "execution_count": 38,
      "outputs": [
        {
          "output_type": "execute_result",
          "data": {
            "text/html": [
              "<div>\n",
              "<style scoped>\n",
              "    .dataframe tbody tr th:only-of-type {\n",
              "        vertical-align: middle;\n",
              "    }\n",
              "\n",
              "    .dataframe tbody tr th {\n",
              "        vertical-align: top;\n",
              "    }\n",
              "\n",
              "    .dataframe thead th {\n",
              "        text-align: right;\n",
              "    }\n",
              "</style>\n",
              "<table border=\"1\" class=\"dataframe\">\n",
              "  <thead>\n",
              "    <tr style=\"text-align: right;\">\n",
              "      <th></th>\n",
              "      <th>chord</th>\n",
              "      <th>count</th>\n",
              "    </tr>\n",
              "  </thead>\n",
              "  <tbody>\n",
              "    <tr>\n",
              "      <th>0</th>\n",
              "      <td>C</td>\n",
              "      <td>14387</td>\n",
              "    </tr>\n",
              "    <tr>\n",
              "      <th>5</th>\n",
              "      <td>G7</td>\n",
              "      <td>11144</td>\n",
              "    </tr>\n",
              "    <tr>\n",
              "      <th>14</th>\n",
              "      <td>Dm</td>\n",
              "      <td>7991</td>\n",
              "    </tr>\n",
              "    <tr>\n",
              "      <th>12</th>\n",
              "      <td>Am</td>\n",
              "      <td>5724</td>\n",
              "    </tr>\n",
              "    <tr>\n",
              "      <th>21</th>\n",
              "      <td>A7</td>\n",
              "      <td>4467</td>\n",
              "    </tr>\n",
              "    <tr>\n",
              "      <th>...</th>\n",
              "      <td>...</td>\n",
              "      <td>...</td>\n",
              "    </tr>\n",
              "    <tr>\n",
              "      <th>62</th>\n",
              "      <td>Ddim</td>\n",
              "      <td>13</td>\n",
              "    </tr>\n",
              "    <tr>\n",
              "      <th>70</th>\n",
              "      <td>G#7(+b5)</td>\n",
              "      <td>12</td>\n",
              "    </tr>\n",
              "    <tr>\n",
              "      <th>65</th>\n",
              "      <td>F7(+b5)</td>\n",
              "      <td>9</td>\n",
              "    </tr>\n",
              "    <tr>\n",
              "      <th>69</th>\n",
              "      <td>Cm7b5</td>\n",
              "      <td>9</td>\n",
              "    </tr>\n",
              "    <tr>\n",
              "      <th>71</th>\n",
              "      <td>Eb7(+b5)</td>\n",
              "      <td>6</td>\n",
              "    </tr>\n",
              "  </tbody>\n",
              "</table>\n",
              "<p>72 rows × 2 columns</p>\n",
              "</div>"
            ],
            "text/plain": [
              "       chord  count\n",
              "0          C  14387\n",
              "5         G7  11144\n",
              "14        Dm   7991\n",
              "12        Am   5724\n",
              "21        A7   4467\n",
              "..       ...    ...\n",
              "62      Ddim     13\n",
              "70  G#7(+b5)     12\n",
              "65   F7(+b5)      9\n",
              "69     Cm7b5      9\n",
              "71  Eb7(+b5)      6\n",
              "\n",
              "[72 rows x 2 columns]"
            ]
          },
          "metadata": {},
          "execution_count": 38
        }
      ]
    },
    {
      "cell_type": "code",
      "metadata": {
        "colab": {
          "base_uri": "https://localhost:8080/",
          "height": 560
        },
        "id": "G9fknTouNmKm",
        "outputId": "639339cb-df95-4d9e-9a09-84b357d27409"
      },
      "source": [
        "df_chords = pd.DataFrame.from_dict(df_chords)\n",
        "df_chords.sort_values(by=['count'], ascending=False, inplace=True)\n",
        "df_chords_top = df_chords.query('count > 100')\n",
        "\n",
        "fig = px.bar(df_chords_top, x='chord', y='count', log_y=True)\n",
        "fig.update_layout(barmode='stack', xaxis={'categoryorder':'total descending'})\n",
        "fig.show()"
      ],
      "execution_count": 39,
      "outputs": [
        {
          "output_type": "stream",
          "name": "stderr",
          "text": [
            "2021-11-26 19:25:28,836 : INFO : NumExpr defaulting to 2 threads.\n"
          ]
        },
        {
          "output_type": "display_data",
          "data": {
            "text/html": [
              "<html>\n",
              "<head><meta charset=\"utf-8\" /></head>\n",
              "<body>\n",
              "    <div>\n",
              "            <script src=\"https://cdnjs.cloudflare.com/ajax/libs/mathjax/2.7.5/MathJax.js?config=TeX-AMS-MML_SVG\"></script><script type=\"text/javascript\">if (window.MathJax) {MathJax.Hub.Config({SVG: {font: \"STIX-Web\"}});}</script>\n",
              "                <script type=\"text/javascript\">window.PlotlyConfig = {MathJaxConfig: 'local'};</script>\n",
              "        <script src=\"https://cdn.plot.ly/plotly-latest.min.js\"></script>    \n",
              "            <div id=\"43ca54ec-775f-429f-9e12-47edbb13bdda\" class=\"plotly-graph-div\" style=\"height:525px; width:100%;\"></div>\n",
              "            <script type=\"text/javascript\">\n",
              "                \n",
              "                    window.PLOTLYENV=window.PLOTLYENV || {};\n",
              "                    \n",
              "                if (document.getElementById(\"43ca54ec-775f-429f-9e12-47edbb13bdda\")) {\n",
              "                    Plotly.newPlot(\n",
              "                        '43ca54ec-775f-429f-9e12-47edbb13bdda',\n",
              "                        [{\"alignmentgroup\": \"True\", \"hoverlabel\": {\"namelength\": 0}, \"hovertemplate\": \"chord=%{x}<br>count=%{y}\", \"legendgroup\": \"\", \"marker\": {\"color\": \"#636efa\"}, \"name\": \"\", \"offsetgroup\": \"\", \"orientation\": \"v\", \"showlegend\": false, \"textposition\": \"auto\", \"type\": \"bar\", \"x\": [\"C\", \"G7\", \"Dm\", \"Am\", \"A7\", \"D7\", \"F\", \"C7\", \"E7\", \"Em\", \"F7\", \"Bb7\", \"Fm\", \"B7\", \"Gm\", \"G#7\", \"Bm7b5\", \"G\", \"Ebdim\", \"Eb7\", \"Cm\", \"F#m7b5\", \"G#\", \"Bm\", \"C#7\", \"Bb\", \"Em7b5\", \"E\", \"F#m\", \"F#7\", \"Eb\", \"F#dim\", \"C#dim\", \"Ebm\", \"C#\", \"A\", \"Dm7b5\", \"Bbm\", \"D\", \"C#m\", \"Cdim\", \"B\", \"G#m\", \"F#\"], \"xaxis\": \"x\", \"y\": [14387, 11144, 7991, 5724, 4467, 3986, 3746, 3428, 3175, 2710, 1722, 1639, 1625, 1408, 1283, 975, 922, 890, 697, 622, 606, 554, 519, 511, 498, 494, 480, 474, 453, 443, 407, 406, 388, 365, 342, 329, 316, 305, 293, 266, 214, 173, 159, 144], \"yaxis\": \"y\"}],\n",
              "                        {\"barmode\": \"stack\", \"legend\": {\"tracegroupgap\": 0}, \"margin\": {\"t\": 60}, \"template\": {\"data\": {\"bar\": [{\"error_x\": {\"color\": \"#2a3f5f\"}, \"error_y\": {\"color\": \"#2a3f5f\"}, \"marker\": {\"line\": {\"color\": \"#E5ECF6\", \"width\": 0.5}}, \"type\": \"bar\"}], \"barpolar\": [{\"marker\": {\"line\": {\"color\": \"#E5ECF6\", \"width\": 0.5}}, \"type\": \"barpolar\"}], \"carpet\": [{\"aaxis\": {\"endlinecolor\": \"#2a3f5f\", \"gridcolor\": \"white\", \"linecolor\": \"white\", \"minorgridcolor\": \"white\", \"startlinecolor\": \"#2a3f5f\"}, \"baxis\": {\"endlinecolor\": \"#2a3f5f\", \"gridcolor\": \"white\", \"linecolor\": \"white\", \"minorgridcolor\": \"white\", \"startlinecolor\": \"#2a3f5f\"}, \"type\": \"carpet\"}], \"choropleth\": [{\"colorbar\": {\"outlinewidth\": 0, \"ticks\": \"\"}, \"type\": \"choropleth\"}], \"contour\": [{\"colorbar\": {\"outlinewidth\": 0, \"ticks\": \"\"}, \"colorscale\": [[0.0, \"#0d0887\"], [0.1111111111111111, \"#46039f\"], [0.2222222222222222, \"#7201a8\"], [0.3333333333333333, \"#9c179e\"], [0.4444444444444444, \"#bd3786\"], [0.5555555555555556, \"#d8576b\"], [0.6666666666666666, \"#ed7953\"], [0.7777777777777778, \"#fb9f3a\"], [0.8888888888888888, \"#fdca26\"], [1.0, \"#f0f921\"]], \"type\": \"contour\"}], \"contourcarpet\": [{\"colorbar\": {\"outlinewidth\": 0, \"ticks\": \"\"}, \"type\": \"contourcarpet\"}], \"heatmap\": [{\"colorbar\": {\"outlinewidth\": 0, \"ticks\": \"\"}, \"colorscale\": [[0.0, \"#0d0887\"], [0.1111111111111111, \"#46039f\"], [0.2222222222222222, \"#7201a8\"], [0.3333333333333333, \"#9c179e\"], [0.4444444444444444, \"#bd3786\"], [0.5555555555555556, \"#d8576b\"], [0.6666666666666666, \"#ed7953\"], [0.7777777777777778, \"#fb9f3a\"], [0.8888888888888888, \"#fdca26\"], [1.0, \"#f0f921\"]], \"type\": \"heatmap\"}], \"heatmapgl\": [{\"colorbar\": {\"outlinewidth\": 0, \"ticks\": \"\"}, \"colorscale\": [[0.0, \"#0d0887\"], [0.1111111111111111, \"#46039f\"], [0.2222222222222222, \"#7201a8\"], [0.3333333333333333, \"#9c179e\"], [0.4444444444444444, \"#bd3786\"], [0.5555555555555556, \"#d8576b\"], [0.6666666666666666, \"#ed7953\"], [0.7777777777777778, \"#fb9f3a\"], [0.8888888888888888, \"#fdca26\"], [1.0, \"#f0f921\"]], \"type\": \"heatmapgl\"}], \"histogram\": [{\"marker\": {\"colorbar\": {\"outlinewidth\": 0, \"ticks\": \"\"}}, \"type\": \"histogram\"}], \"histogram2d\": [{\"colorbar\": {\"outlinewidth\": 0, \"ticks\": \"\"}, \"colorscale\": [[0.0, \"#0d0887\"], [0.1111111111111111, \"#46039f\"], [0.2222222222222222, \"#7201a8\"], [0.3333333333333333, \"#9c179e\"], [0.4444444444444444, \"#bd3786\"], [0.5555555555555556, \"#d8576b\"], [0.6666666666666666, \"#ed7953\"], [0.7777777777777778, \"#fb9f3a\"], [0.8888888888888888, \"#fdca26\"], [1.0, \"#f0f921\"]], \"type\": \"histogram2d\"}], \"histogram2dcontour\": [{\"colorbar\": {\"outlinewidth\": 0, \"ticks\": \"\"}, \"colorscale\": [[0.0, \"#0d0887\"], [0.1111111111111111, \"#46039f\"], [0.2222222222222222, \"#7201a8\"], [0.3333333333333333, \"#9c179e\"], [0.4444444444444444, \"#bd3786\"], [0.5555555555555556, \"#d8576b\"], [0.6666666666666666, \"#ed7953\"], [0.7777777777777778, \"#fb9f3a\"], [0.8888888888888888, \"#fdca26\"], [1.0, \"#f0f921\"]], \"type\": \"histogram2dcontour\"}], \"mesh3d\": [{\"colorbar\": {\"outlinewidth\": 0, \"ticks\": \"\"}, \"type\": \"mesh3d\"}], \"parcoords\": [{\"line\": {\"colorbar\": {\"outlinewidth\": 0, \"ticks\": \"\"}}, \"type\": \"parcoords\"}], \"pie\": [{\"automargin\": true, \"type\": \"pie\"}], \"scatter\": [{\"marker\": {\"colorbar\": {\"outlinewidth\": 0, \"ticks\": \"\"}}, \"type\": \"scatter\"}], \"scatter3d\": [{\"line\": {\"colorbar\": {\"outlinewidth\": 0, \"ticks\": \"\"}}, \"marker\": {\"colorbar\": {\"outlinewidth\": 0, \"ticks\": \"\"}}, \"type\": \"scatter3d\"}], \"scattercarpet\": [{\"marker\": {\"colorbar\": {\"outlinewidth\": 0, \"ticks\": \"\"}}, \"type\": \"scattercarpet\"}], \"scattergeo\": [{\"marker\": {\"colorbar\": {\"outlinewidth\": 0, \"ticks\": \"\"}}, \"type\": \"scattergeo\"}], \"scattergl\": [{\"marker\": {\"colorbar\": {\"outlinewidth\": 0, \"ticks\": \"\"}}, \"type\": \"scattergl\"}], \"scattermapbox\": [{\"marker\": {\"colorbar\": {\"outlinewidth\": 0, \"ticks\": \"\"}}, \"type\": \"scattermapbox\"}], \"scatterpolar\": [{\"marker\": {\"colorbar\": {\"outlinewidth\": 0, \"ticks\": \"\"}}, \"type\": \"scatterpolar\"}], \"scatterpolargl\": [{\"marker\": {\"colorbar\": {\"outlinewidth\": 0, \"ticks\": \"\"}}, \"type\": \"scatterpolargl\"}], \"scatterternary\": [{\"marker\": {\"colorbar\": {\"outlinewidth\": 0, \"ticks\": \"\"}}, \"type\": \"scatterternary\"}], \"surface\": [{\"colorbar\": {\"outlinewidth\": 0, \"ticks\": \"\"}, \"colorscale\": [[0.0, \"#0d0887\"], [0.1111111111111111, \"#46039f\"], [0.2222222222222222, \"#7201a8\"], [0.3333333333333333, \"#9c179e\"], [0.4444444444444444, \"#bd3786\"], [0.5555555555555556, \"#d8576b\"], [0.6666666666666666, \"#ed7953\"], [0.7777777777777778, \"#fb9f3a\"], [0.8888888888888888, \"#fdca26\"], [1.0, \"#f0f921\"]], \"type\": \"surface\"}], \"table\": [{\"cells\": {\"fill\": {\"color\": \"#EBF0F8\"}, \"line\": {\"color\": \"white\"}}, \"header\": {\"fill\": {\"color\": \"#C8D4E3\"}, \"line\": {\"color\": \"white\"}}, \"type\": \"table\"}]}, \"layout\": {\"annotationdefaults\": {\"arrowcolor\": \"#2a3f5f\", \"arrowhead\": 0, \"arrowwidth\": 1}, \"coloraxis\": {\"colorbar\": {\"outlinewidth\": 0, \"ticks\": \"\"}}, \"colorscale\": {\"diverging\": [[0, \"#8e0152\"], [0.1, \"#c51b7d\"], [0.2, \"#de77ae\"], [0.3, \"#f1b6da\"], [0.4, \"#fde0ef\"], [0.5, \"#f7f7f7\"], [0.6, \"#e6f5d0\"], [0.7, \"#b8e186\"], [0.8, \"#7fbc41\"], [0.9, \"#4d9221\"], [1, \"#276419\"]], \"sequential\": [[0.0, \"#0d0887\"], [0.1111111111111111, \"#46039f\"], [0.2222222222222222, \"#7201a8\"], [0.3333333333333333, \"#9c179e\"], [0.4444444444444444, \"#bd3786\"], [0.5555555555555556, \"#d8576b\"], [0.6666666666666666, \"#ed7953\"], [0.7777777777777778, \"#fb9f3a\"], [0.8888888888888888, \"#fdca26\"], [1.0, \"#f0f921\"]], \"sequentialminus\": [[0.0, \"#0d0887\"], [0.1111111111111111, \"#46039f\"], [0.2222222222222222, \"#7201a8\"], [0.3333333333333333, \"#9c179e\"], [0.4444444444444444, \"#bd3786\"], [0.5555555555555556, \"#d8576b\"], [0.6666666666666666, \"#ed7953\"], [0.7777777777777778, \"#fb9f3a\"], [0.8888888888888888, \"#fdca26\"], [1.0, \"#f0f921\"]]}, \"colorway\": [\"#636efa\", \"#EF553B\", \"#00cc96\", \"#ab63fa\", \"#FFA15A\", \"#19d3f3\", \"#FF6692\", \"#B6E880\", \"#FF97FF\", \"#FECB52\"], \"font\": {\"color\": \"#2a3f5f\"}, \"geo\": {\"bgcolor\": \"white\", \"lakecolor\": \"white\", \"landcolor\": \"#E5ECF6\", \"showlakes\": true, \"showland\": true, \"subunitcolor\": \"white\"}, \"hoverlabel\": {\"align\": \"left\"}, \"hovermode\": \"closest\", \"mapbox\": {\"style\": \"light\"}, \"paper_bgcolor\": \"white\", \"plot_bgcolor\": \"#E5ECF6\", \"polar\": {\"angularaxis\": {\"gridcolor\": \"white\", \"linecolor\": \"white\", \"ticks\": \"\"}, \"bgcolor\": \"#E5ECF6\", \"radialaxis\": {\"gridcolor\": \"white\", \"linecolor\": \"white\", \"ticks\": \"\"}}, \"scene\": {\"xaxis\": {\"backgroundcolor\": \"#E5ECF6\", \"gridcolor\": \"white\", \"gridwidth\": 2, \"linecolor\": \"white\", \"showbackground\": true, \"ticks\": \"\", \"zerolinecolor\": \"white\"}, \"yaxis\": {\"backgroundcolor\": \"#E5ECF6\", \"gridcolor\": \"white\", \"gridwidth\": 2, \"linecolor\": \"white\", \"showbackground\": true, \"ticks\": \"\", \"zerolinecolor\": \"white\"}, \"zaxis\": {\"backgroundcolor\": \"#E5ECF6\", \"gridcolor\": \"white\", \"gridwidth\": 2, \"linecolor\": \"white\", \"showbackground\": true, \"ticks\": \"\", \"zerolinecolor\": \"white\"}}, \"shapedefaults\": {\"line\": {\"color\": \"#2a3f5f\"}}, \"ternary\": {\"aaxis\": {\"gridcolor\": \"white\", \"linecolor\": \"white\", \"ticks\": \"\"}, \"baxis\": {\"gridcolor\": \"white\", \"linecolor\": \"white\", \"ticks\": \"\"}, \"bgcolor\": \"#E5ECF6\", \"caxis\": {\"gridcolor\": \"white\", \"linecolor\": \"white\", \"ticks\": \"\"}}, \"title\": {\"x\": 0.05}, \"xaxis\": {\"automargin\": true, \"gridcolor\": \"white\", \"linecolor\": \"white\", \"ticks\": \"\", \"title\": {\"standoff\": 15}, \"zerolinecolor\": \"white\", \"zerolinewidth\": 2}, \"yaxis\": {\"automargin\": true, \"gridcolor\": \"white\", \"linecolor\": \"white\", \"ticks\": \"\", \"title\": {\"standoff\": 15}, \"zerolinecolor\": \"white\", \"zerolinewidth\": 2}}}, \"xaxis\": {\"anchor\": \"y\", \"categoryorder\": \"total descending\", \"domain\": [0.0, 1.0], \"title\": {\"text\": \"chord\"}}, \"yaxis\": {\"anchor\": \"x\", \"domain\": [0.0, 1.0], \"title\": {\"text\": \"count\"}, \"type\": \"log\"}},\n",
              "                        {\"responsive\": true}\n",
              "                    ).then(function(){\n",
              "                            \n",
              "var gd = document.getElementById('43ca54ec-775f-429f-9e12-47edbb13bdda');\n",
              "var x = new MutationObserver(function (mutations, observer) {{\n",
              "        var display = window.getComputedStyle(gd).display;\n",
              "        if (!display || display === 'none') {{\n",
              "            console.log([gd, 'removed!']);\n",
              "            Plotly.purge(gd);\n",
              "            observer.disconnect();\n",
              "        }}\n",
              "}});\n",
              "\n",
              "// Listen for the removal of the full notebook cells\n",
              "var notebookContainer = gd.closest('#notebook-container');\n",
              "if (notebookContainer) {{\n",
              "    x.observe(notebookContainer, {childList: true});\n",
              "}}\n",
              "\n",
              "// Listen for the clearing of the current output cell\n",
              "var outputEl = gd.closest('.output');\n",
              "if (outputEl) {{\n",
              "    x.observe(outputEl, {childList: true});\n",
              "}}\n",
              "\n",
              "                        })\n",
              "                };\n",
              "                \n",
              "            </script>\n",
              "        </div>\n",
              "</body>\n",
              "</html>"
            ]
          },
          "metadata": {}
        }
      ]
    },
    {
      "cell_type": "markdown",
      "metadata": {
        "id": "cG5dtDpkWwLE"
      },
      "source": [
        "Plot Distribution accoring to Zipf's Law\n",
        "\n",
        "source: https://stats.stackexchange.com/questions/331219/characterizing-fitting-word-count-data-into-zipf-power-law-lognormal"
      ]
    },
    {
      "cell_type": "code",
      "metadata": {
        "id": "tazf9QRST5NP"
      },
      "source": [
        "from collections import Counter\n",
        "\n",
        "counter_of_words = df_chords.set_index('chord').to_dict(orient='dict')\n",
        "counter_of_words = Counter(counter_of_words['count'])\n",
        "counter_of_counts = Counter(counter_of_words.values())\n",
        "\n",
        "word_counts = np.array(list(counter_of_counts.keys()))\n",
        "freq_of_word_counts = np.array(list(counter_of_counts.values()))"
      ],
      "execution_count": 40,
      "outputs": []
    },
    {
      "cell_type": "code",
      "metadata": {
        "colab": {
          "base_uri": "https://localhost:8080/",
          "height": 295
        },
        "id": "Jc80DSe7QlkV",
        "outputId": "e0433380-33fd-4351-bd7a-fdc71d13035f"
      },
      "source": [
        "plt.scatter(np.log(word_counts), np.log(freq_of_word_counts))\n",
        "plt.xlabel('Log of word frequency')\n",
        "plt.ylabel('Log of number of such words')\n",
        "plt.title('Power law for word frequencies')\n",
        "\n",
        "plt.savefig('plot.png')"
      ],
      "execution_count": 41,
      "outputs": [
        {
          "output_type": "display_data",
          "data": {
            "image/png": "[encoded data removed]",
            "text/plain": [
              "<Figure size 432x288 with 1 Axes>"
            ]
          },
          "metadata": {
            "needs_background": "light"
          }
        }
      ]
    },
    {
      "cell_type": "code",
      "metadata": {
        "colab": {
          "base_uri": "https://localhost:8080/"
        },
        "id": "TRQxnw3XXfit",
        "outputId": "6b724e2b-6e46-4e7b-ddc9-d64f24cd00a7"
      },
      "source": [
        "def neg_zipf_likelihood(s):\n",
        "    n = sum(freq_of_word_counts)\n",
        "    # for each word count, find the probability that a random word has such word count\n",
        "    probas = word_counts ** (-s) / np.sum(np.arange(1, n+1) **(-s))\n",
        "    log_likelihood = sum(np.log(probas) * word_counts)\n",
        "    return -log_likelihood\n",
        "\n",
        "from scipy.optimize import minimize_scalar\n",
        "s_best = minimize_scalar(neg_zipf_likelihood, [0.1, 3.0] )\n",
        "print(s_best.x)"
      ],
      "execution_count": 42,
      "outputs": [
        {
          "output_type": "stream",
          "name": "stdout",
          "text": [
            "-399.3962569709492\n"
          ]
        },
        {
          "output_type": "stream",
          "name": "stderr",
          "text": [
            "/usr/local/lib/python3.7/dist-packages/ipykernel_launcher.py:4: RuntimeWarning:\n",
            "\n",
            "overflow encountered in power\n",
            "\n",
            "/usr/local/lib/python3.7/dist-packages/ipykernel_launcher.py:4: RuntimeWarning:\n",
            "\n",
            "invalid value encountered in true_divide\n",
            "\n",
            "/usr/local/lib/python3.7/dist-packages/scipy/optimize/optimize.py:1986: RuntimeWarning:\n",
            "\n",
            "invalid value encountered in double_scalars\n",
            "\n",
            "/usr/local/lib/python3.7/dist-packages/scipy/optimize/optimize.py:1987: RuntimeWarning:\n",
            "\n",
            "invalid value encountered in double_scalars\n",
            "\n",
            "/usr/local/lib/python3.7/dist-packages/ipykernel_launcher.py:5: RuntimeWarning:\n",
            "\n",
            "divide by zero encountered in log\n",
            "\n"
          ]
        }
      ]
    },
    {
      "cell_type": "code",
      "metadata": {
        "id": "a1IvM4wh7zOv"
      },
      "source": [
        "if use_wandb:\n",
        "  wandb.log(\n",
        "      {\"corpus\": {\n",
        "              \"total_tokens\": total_tokens,\n",
        "              \"vocab_size\": vocab_size,\n",
        "              \"vocab_proportion_in_corpus\": vocab_prop,\n",
        "              \"zipf_plot\": wandb.Image('plot.png'),\n",
        "              }\n",
        "      }\n",
        "  )"
      ],
      "execution_count": 43,
      "outputs": []
    },
    {
      "cell_type": "markdown",
      "metadata": {
        "id": "LeRGFeTn89Uc"
      },
      "source": [
        "# TF-IDF"
      ]
    },
    {
      "cell_type": "code",
      "metadata": {
        "colab": {
          "base_uri": "https://localhost:8080/"
        },
        "id": "pBdUdBNr9Gmu",
        "outputId": "178a6f03-175c-4c5a-81e0-d29374810c06"
      },
      "source": [
        "dictionary = corpora.Dictionary(processed_corpus)\n",
        "bow_corpus = [dictionary.doc2bow(text) for text in processed_corpus]\n",
        "tfidf = TfidfModel(bow_corpus)"
      ],
      "execution_count": 44,
      "outputs": [
        {
          "output_type": "stream",
          "name": "stderr",
          "text": [
            "2021-11-26 19:25:30,451 : INFO : adding document #0 to Dictionary(0 unique tokens: [])\n",
            "2021-11-26 19:25:30,593 : INFO : built Dictionary(72 unique tokens: ['Am', 'B7', 'C', 'C#', 'C7']...) from 5391 documents (total 82622 corpus positions)\n",
            "2021-11-26 19:25:30,596 : INFO : Dictionary lifecycle event {'msg': \"built Dictionary(72 unique tokens: ['Am', 'B7', 'C', 'C#', 'C7']...) from 5391 documents (total 82622 corpus positions)\", 'datetime': '2021-11-26T19:25:30.596668', 'gensim': '4.1.2', 'python': '3.7.12 (default, Sep 10 2021, 00:21:48) \\n[GCC 7.5.0]', 'platform': 'Linux-5.4.104+-x86_64-with-Ubuntu-18.04-bionic', 'event': 'created'}\n",
            "2021-11-26 19:25:30,663 : INFO : collecting document frequencies\n",
            "2021-11-26 19:25:30,667 : INFO : PROGRESS: processing document #0\n",
            "2021-11-26 19:25:30,688 : INFO : TfidfModel lifecycle event {'msg': 'calculated IDF weights for 5391 documents and 72 features (41238 matrix non-zeros)', 'datetime': '2021-11-26T19:25:30.688563', 'gensim': '4.1.2', 'python': '3.7.12 (default, Sep 10 2021, 00:21:48) \\n[GCC 7.5.0]', 'platform': 'Linux-5.4.104+-x86_64-with-Ubuntu-18.04-bionic', 'event': 'initialize'}\n"
          ]
        }
      ]
    },
    {
      "cell_type": "code",
      "metadata": {
        "id": "9NK-cuax9Kqk"
      },
      "source": [
        "# dictionary.token2id"
      ],
      "execution_count": 45,
      "outputs": []
    },
    {
      "cell_type": "code",
      "metadata": {
        "id": "til5xlce_y1m"
      },
      "source": [
        "!rm -R index\n",
        "!mkdir index"
      ],
      "execution_count": 46,
      "outputs": []
    },
    {
      "cell_type": "code",
      "metadata": {
        "colab": {
          "base_uri": "https://localhost:8080/"
        },
        "id": "tn_fz2M090IM",
        "outputId": "0754c7d8-84a5-4eee-d7c4-8fec9ffb0eb1"
      },
      "source": [
        "# Note: SparseMatrixSimilarity crashes due to lacking memory\n",
        "#from gensim.test.utils import get_tmpfile\n",
        "#index_tmpfile = get_tmpfile(\"index\")\n",
        "#index_tfidf = similarities.Similarity('/content/index/index_tfidf', bow_corpus, num_features=len(dictionary))\n",
        "\n",
        "index_tfidf = similarities.SparseMatrixSimilarity(tfidf[bow_corpus], num_features = len(dictionary))"
      ],
      "execution_count": 47,
      "outputs": [
        {
          "output_type": "stream",
          "name": "stderr",
          "text": [
            "2021-11-26 19:25:30,986 : INFO : creating sparse index\n",
            "2021-11-26 19:25:30,989 : INFO : creating sparse matrix from corpus\n",
            "2021-11-26 19:25:30,994 : INFO : PROGRESS: at document #0\n",
            "2021-11-26 19:25:31,463 : INFO : created <5391x72 sparse matrix of type '<class 'numpy.float32'>'\n",
            "\twith 41238 stored elements in Compressed Sparse Row format>\n"
          ]
        }
      ]
    },
    {
      "cell_type": "code",
      "metadata": {
        "colab": {
          "base_uri": "https://localhost:8080/"
        },
        "id": "VRSUXNPTewqv",
        "outputId": "70eb3b10-df31-4dec-e077-bef353550c4b"
      },
      "source": [
        "tfidf.save('/content/index/tfidf.model')  # save model\n",
        "index_tfidf.save('/content/index/tfidf.index') #save index"
      ],
      "execution_count": 48,
      "outputs": [
        {
          "output_type": "stream",
          "name": "stderr",
          "text": [
            "2021-11-26 19:25:31,481 : INFO : TfidfModel lifecycle event {'fname_or_handle': '/content/index/tfidf.model', 'separately': 'None', 'sep_limit': 10485760, 'ignore': frozenset(), 'datetime': '2021-11-26T19:25:31.481557', 'gensim': '4.1.2', 'python': '3.7.12 (default, Sep 10 2021, 00:21:48) \\n[GCC 7.5.0]', 'platform': 'Linux-5.4.104+-x86_64-with-Ubuntu-18.04-bionic', 'event': 'saving'}\n",
            "2021-11-26 19:25:31,487 : INFO : saved /content/index/tfidf.model\n",
            "2021-11-26 19:25:31,492 : INFO : SparseMatrixSimilarity lifecycle event {'fname_or_handle': '/content/index/tfidf.index', 'separately': 'None', 'sep_limit': 10485760, 'ignore': frozenset(), 'datetime': '2021-11-26T19:25:31.492401', 'gensim': '4.1.2', 'python': '3.7.12 (default, Sep 10 2021, 00:21:48) \\n[GCC 7.5.0]', 'platform': 'Linux-5.4.104+-x86_64-with-Ubuntu-18.04-bionic', 'event': 'saving'}\n",
            "2021-11-26 19:25:31,499 : INFO : saved /content/index/tfidf.index\n"
          ]
        }
      ]
    },
    {
      "cell_type": "markdown",
      "metadata": {
        "id": "ZLK0coIu9Tv5"
      },
      "source": [
        "## Tests"
      ]
    },
    {
      "cell_type": "code",
      "metadata": {
        "id": "Fzrj1qxwDpJT"
      },
      "source": [
        "def get_sim_scores(tunes, index, model):\n",
        "\n",
        "    df_sim = pd.DataFrame(columns=['reference_title',\n",
        "                                  'similar_title',\n",
        "                                  'ref_section', \n",
        "                                  'similar_section', \n",
        "                                  'score', \n",
        "                                  ])\n",
        "\n",
        "    for tune in tunes:\n",
        "      print()\n",
        "      print(\"-\"*50)\n",
        "      for s1 in title_to_sectionid[tune]:\n",
        "      \n",
        "          query = processed_corpus[s1]\n",
        "          query_bow = dictionary.doc2bow(query)\n",
        "\n",
        "          # perform a similarity query against the corpus\n",
        "          similarities = index[model[query_bow]]\n",
        "          sims = sorted(enumerate(similarities), key=lambda item: -item[1])\n",
        "          \n",
        "          print(s1, sectionid_to_section[s1])\n",
        "          n = 0\n",
        "          for s2, s2_score in sims:\n",
        "            \n",
        "            # store the top N best results\n",
        "            if n > 40:\n",
        "                break\n",
        "            # don't count self-similarity between sections of the same tune\n",
        "            if s2 not in title_to_sectionid[tune]:\n",
        "                n += 1\n",
        "            \n",
        "                # print(f\"\\t{s2_score:.3f} {sectionid_to_section[s2]}\")\n",
        "\n",
        "                df_sim.loc[len(df_sim)] = [tune,\n",
        "                                sectionid_to_title[s2],\n",
        "                                sectionid_to_section[s1], \n",
        "                                sectionid_to_section[s2], \n",
        "                                s2_score, \n",
        "                                ]\n",
        "    return df_sim"
      ],
      "execution_count": 49,
      "outputs": []
    },
    {
      "cell_type": "code",
      "metadata": {
        "id": "OZ0YfkIO9g5V"
      },
      "source": [
        "def recommend_tune(df, tune_name):\n",
        "\n",
        "  df_tune = df.query(f'reference_title == \"{tune_name}\"')\n",
        "  ff = df_tune.iloc[:]\n",
        "\n",
        "  # get the maximum similarity score for each section and store in new column\n",
        "  ff['max'] = ff.groupby('ref_section')['score'].transform('max')\n",
        "\n",
        "  # scale the score with the maxmum value of each section\n",
        "  ff['score_div_max'] = ff['score'] / ff['max']\n",
        "\n",
        "  # consider only the top N tunes for each group\n",
        "  ff = ff.sort_values(['ref_section', 'score_div_max'], ascending=[True, False])\n",
        "  result = ff.groupby('ref_section').head(30)\n",
        "  \n",
        "  # if multiple rows from the same similar tune, keep only the similar_title with the highest score_div_max\n",
        "  result = result.groupby('similar_title').max('score_div_max').sort_values('score_div_max', ascending=False)\n",
        "  \n",
        "  # add the name of the reference tune\n",
        "  result['reference'] = tune_name\n",
        "  result = result.reset_index()\n",
        "  result = result.loc[:, ['reference', 'similar_title', 'score', 'max', 'score_div_max']]\n",
        "  result = result.reset_index()\n",
        "  return result, ff"
      ],
      "execution_count": 50,
      "outputs": []
    },
    {
      "cell_type": "markdown",
      "metadata": {
        "id": "S4RKQCihX02Q"
      },
      "source": [
        "### Single Tunes"
      ]
    },
    {
      "cell_type": "code",
      "metadata": {
        "colab": {
          "base_uri": "https://localhost:8080/"
        },
        "id": "5Wz4ZQk_EKZy",
        "outputId": "a93130c8-dd38-4d9a-bc65-314c5356fe5e"
      },
      "source": [
        "%%time\n",
        "df_sim = get_sim_scores(tunes_eval_list, index_tfidf, tfidf)\n",
        "df_tfidf = df_sim[:]"
      ],
      "execution_count": 51,
      "outputs": [
        {
          "output_type": "stream",
          "name": "stdout",
          "text": [
            "\n",
            "--------------------------------------------------\n",
            "125 After You've Gone, section1 (A)\n",
            "126 After You've Gone, section2 (B)\n",
            "127 After You've Gone, section3 (A)\n",
            "128 After You've Gone, section4 (C)\n",
            "\n",
            "--------------------------------------------------\n",
            "188 All God's Chillun Got Rhythm, section1 (A)\n",
            "189 All God's Chillun Got Rhythm, section2 (B)\n",
            "190 All God's Chillun Got Rhythm, section3 (A)\n",
            "191 All God's Chillun Got Rhythm, section4 (C)\n",
            "\n",
            "--------------------------------------------------\n",
            "198 All Of Me, section1 (A)\n",
            "199 All Of Me, section2 (B)\n",
            "200 All Of Me, section3 (A)\n",
            "201 All Of Me, section4 (C)\n",
            "\n",
            "--------------------------------------------------\n",
            "474 Blood Count, section1 (A)\n",
            "475 Blood Count, section2 (A)\n",
            "476 Blood Count, section3 (B)\n",
            "477 Blood Count, section4 (A)\n",
            "478 Blood Count, section5 (C)\n",
            "\n",
            "--------------------------------------------------\n",
            "496 Blue Moon, section1 (A)\n",
            "497 Blue Moon, section2 (A)\n",
            "498 Blue Moon, section3 (B)\n",
            "499 Blue Moon, section4 (A)\n",
            "\n",
            "--------------------------------------------------\n",
            "626 But Beautiful, section1 (A)\n",
            "627 But Beautiful, section2 (B)\n",
            "628 But Beautiful, section3 (A)\n",
            "629 But Beautiful, section4 (C)\n",
            "\n",
            "--------------------------------------------------\n",
            "653 Bye Bye Blackbird, section1 (A)\n",
            "654 Bye Bye Blackbird, section2 (B)\n",
            "\n",
            "--------------------------------------------------\n",
            "676 Call Me Irresponsible, section1 (A)\n",
            "677 Call Me Irresponsible, section2 (B)\n",
            "678 Call Me Irresponsible, section3 (A)\n",
            "679 Call Me Irresponsible, section4 (B)\n",
            "\n",
            "--------------------------------------------------\n",
            "826 Corcovado, section1 (A)\n",
            "827 Corcovado, section2 (B)\n",
            "828 Corcovado, section3 (A)\n",
            "829 Corcovado, section4 (C)\n",
            "\n",
            "--------------------------------------------------\n",
            "997 Dinah, section1 (A)\n",
            "998 Dinah, section2 (A)\n",
            "999 Dinah, section3 (B)\n",
            "1000 Dinah, section4 (A)\n",
            "\n",
            "--------------------------------------------------\n",
            "1125 East Of The Sun, section1 (A)\n",
            "1126 East Of The Sun, section2 (B)\n",
            "1127 East Of The Sun, section3 (A)\n",
            "1128 East Of The Sun, section4 (C)\n",
            "\n",
            "--------------------------------------------------\n",
            "1287 Footprints, section0 (nan)\n",
            "\n",
            "--------------------------------------------------\n",
            "1379 Giant Steps, section0 (nan)\n",
            "\n",
            "--------------------------------------------------\n",
            "1538 Honeysuckle Rose, section1 (A)\n",
            "1539 Honeysuckle Rose, section2 (A)\n",
            "1540 Honeysuckle Rose, section3 (B)\n",
            "1541 Honeysuckle Rose, section4 (A)\n",
            "\n",
            "--------------------------------------------------\n",
            "1647 I Got Rhythm, section1 (A)\n",
            "1648 I Got Rhythm, section2 (A)\n",
            "1649 I Got Rhythm, section3 (B)\n",
            "1650 I Got Rhythm, section4 (A)\n",
            "\n",
            "--------------------------------------------------\n",
            "2670 Misty, section1 (A)\n",
            "2671 Misty, section2 (A)\n",
            "2672 Misty, section3 (B)\n",
            "2673 Misty, section4 (A)\n",
            "\n",
            "--------------------------------------------------\n",
            "2857 Naima, section1 (A)\n",
            "2858 Naima, section2 (A)\n",
            "2859 Naima, section3 (B)\n",
            "2860 Naima, section4 (A)\n",
            "\n",
            "--------------------------------------------------\n",
            "5044 Old Fashioned Love, section0 (nan)\n",
            "\n",
            "--------------------------------------------------\n",
            "3142 Perdido, section1 (A)\n",
            "3143 Perdido, section2 (A)\n",
            "3144 Perdido, section3 (B)\n",
            "3145 Perdido, section4 (A)\n",
            "\n",
            "--------------------------------------------------\n",
            "3276 Rockin' Chair, section1 (A)\n",
            "3277 Rockin' Chair, section2 (B)\n",
            "3278 Rockin' Chair, section3 (A)\n",
            "\n",
            "--------------------------------------------------\n",
            "3578 Sophisticated Lady, section1 (A)\n",
            "3579 Sophisticated Lady, section2 (A)\n",
            "3580 Sophisticated Lady, section3 (B)\n",
            "3581 Sophisticated Lady, section4 (A)\n",
            "\n",
            "--------------------------------------------------\n",
            "3746 Sweet Sue, Just You, section1 (A)\n",
            "3747 Sweet Sue, Just You, section2 (A)\n",
            "3748 Sweet Sue, Just You, section3 (B)\n",
            "3749 Sweet Sue, Just You, section4 (A)\n",
            "\n",
            "--------------------------------------------------\n",
            "3860 These Foolish Things, section1 (A)\n",
            "3861 These Foolish Things, section2 (A)\n",
            "3862 These Foolish Things, section3 (B)\n",
            "3863 These Foolish Things, section4 (A)\n",
            "\n",
            "--------------------------------------------------\n",
            "4146 We'll Be Together Again, section1 (A)\n",
            "4147 We'll Be Together Again, section2 (A)\n",
            "4148 We'll Be Together Again, section3 (B)\n",
            "4149 We'll Be Together Again, section4 (A)\n",
            "CPU times: user 16.2 s, sys: 389 ms, total: 16.6 s\n",
            "Wall time: 16.3 s\n"
          ]
        }
      ]
    },
    {
      "cell_type": "code",
      "metadata": {
        "colab": {
          "base_uri": "https://localhost:8080/",
          "height": 542
        },
        "id": "yzRuIKVh9c8g",
        "outputId": "c123ead1-6f36-42e7-e1a1-0e44d964ed97"
      },
      "source": [
        "import plotly.express as px\n",
        "fig = px.histogram(df_sim, x=\"score\", nbins=50, title='Scores for TF-IDF')\n",
        "fig.show()"
      ],
      "execution_count": 52,
      "outputs": [
        {
          "output_type": "display_data",
          "data": {
            "text/html": [
              "<html>\n",
              "<head><meta charset=\"utf-8\" /></head>\n",
              "<body>\n",
              "    <div>\n",
              "            <script src=\"https://cdnjs.cloudflare.com/ajax/libs/mathjax/2.7.5/MathJax.js?config=TeX-AMS-MML_SVG\"></script><script type=\"text/javascript\">if (window.MathJax) {MathJax.Hub.Config({SVG: {font: \"STIX-Web\"}});}</script>\n",
              "                <script type=\"text/javascript\">window.PlotlyConfig = {MathJaxConfig: 'local'};</script>\n",
              "        <script src=\"https://cdn.plot.ly/plotly-latest.min.js\"></script>    \n",
              "            <div id=\"72cfb5d0-f5a7-468c-b110-dd51acd0c606\" class=\"plotly-graph-div\" style=\"height:525px; width:100%;\"></div>\n",
              "            <script type=\"text/javascript\">\n",
              "                \n",
              "                    window.PLOTLYENV=window.PLOTLYENV || {};\n",
              "                    \n",
              "                if (document.getElementById(\"72cfb5d0-f5a7-468c-b110-dd51acd0c606\")) {\n",
              "                    Plotly.newPlot(\n",
              "                        '72cfb5d0-f5a7-468c-b110-dd51acd0c606',\n",
              "                        [{\"alignmentgroup\": \"True\", \"bingroup\": \"x\", \"hoverlabel\": {\"namelength\": 0}, \"hovertemplate\": \"score=%{x}<br>count=%{y}\", \"legendgroup\": \"\", \"marker\": {\"color\": \"#636efa\"}, \"name\": \"\", \"nbinsx\": 50, \"offsetgroup\": \"\", \"orientation\": \"v\", \"showlegend\": false, \"type\": \"histogram\", \"x\": [0.9196498990058899, 0.9038835763931274, 0.8636550903320312, 0.8334907293319702, 0.824112594127655, 0.8160545825958252, 0.7915235161781311, 0.7816696166992188, 0.7691226005554199, 0.7691226005554199, 0.7682342529296875, 0.7664930820465088, 0.7659552097320557, 0.7659552097320557, 0.7590219974517822, 0.7588516473770142, 0.7576762437820435, 0.7568140029907227, 0.7529098987579346, 0.7524664998054504, 0.7522726655006409, 0.7520843744277954, 0.7520843744277954, 0.7520843744277954, 0.7471569776535034, 0.7444037199020386, 0.7423614263534546, 0.74235999584198, 0.739997148513794, 0.7390285730361938, 0.7368913888931274, 0.734599232673645, 0.7338535785675049, 0.7325950860977173, 0.7304829359054565, 0.7280595302581787, 0.7270792722702026, 0.7263361215591431, 0.7245472073554993, 0.7174606919288635, 0.7159350514411926, 0.9814482927322388, 0.8517615795135498, 0.8486486673355103, 0.8482421040534973, 0.8427440524101257, 0.8406634330749512, 0.8275892734527588, 0.8192987442016602, 0.8117809295654297, 0.811701774597168, 0.811701774597168, 0.8079831004142761, 0.8079831004142761, 0.8078351616859436, 0.8078351616859436, 0.8078351616859436, 0.8053922057151794, 0.8053922057151794, 0.8017070293426514, 0.7978596687316895, 0.7978596687316895, 0.7962182760238647, 0.7962182760238647, 0.7962182760238647, 0.7943533658981323, 0.7922220230102539, 0.7917803525924683, 0.7917803525924683, 0.7917803525924683, 0.7903007864952087, 0.7761004567146301, 0.7713346481323242, 0.7694153785705566, 0.7662871479988098, 0.7635675668716431, 0.759512186050415, 0.759512186050415, 0.7588400840759277, 0.7561815977096558, 0.7525441646575928, 0.737202525138855, 0.9196498990058899, 0.9038835763931274, 0.8636550903320312, 0.8334907293319702, 0.824112594127655, 0.8160545825958252, 0.7915235161781311, 0.7816696166992188, 0.7691226005554199, 0.7691226005554199, 0.7682342529296875, 0.7664930820465088, 0.7659552097320557, 0.7659552097320557, 0.7590219974517822, 0.7588516473770142, 0.7576762437820435, 0.7568140029907227, 0.7529098987579346, 0.7524664998054504, 0.7522726655006409, 0.7520843744277954, 0.7520843744277954, 0.7520843744277954, 0.7471569776535034, 0.7444037199020386, 0.7423614263534546, 0.74235999584198, 0.739997148513794, 0.7390285730361938, 0.7368913888931274, 0.734599232673645, 0.7338535785675049, 0.7325950860977173, 0.7304829359054565, 0.7280595302581787, 0.7270792722702026, 0.7263361215591431, 0.7245472073554993, 0.7174606919288635, 0.7159350514411926, 0.7988332509994507, 0.7571793794631958, 0.755961000919342, 0.7110116481781006, 0.683812141418457, 0.6770783066749573, 0.6724339723587036, 0.6724339723587036, 0.6716110706329346, 0.6689857840538025, 0.6677476167678833, 0.6676556468009949, 0.6655557155609131, 0.6609022617340088, 0.6595385074615479, 0.6556394696235657, 0.653907299041748, 0.6502991914749146, 0.6501607298851013, 0.6490207314491272, 0.6473608016967773, 0.6473608016967773, 0.6439809203147888, 0.6433144807815552, 0.6419485807418823, 0.6411663293838501, 0.6411663293838501, 0.6401801109313965, 0.640103816986084, 0.6380766034126282, 0.6368190050125122, 0.6332792639732361, 0.6311559677124023, 0.6309893131256104, 0.6304101347923279, 0.6253141164779663, 0.6229937076568604, 0.6200482249259949, 0.6190189123153687, 0.6189002394676208, 0.6177464127540588, 0.9397115111351013, 0.9194867610931396, 0.9194867610931396, 0.892963707447052, 0.8918523788452148, 0.8917567729949951, 0.8863569498062134, 0.8863569498062134, 0.8836269378662109, 0.873469889163971, 0.8658664226531982, 0.863305389881134, 0.8624122142791748, 0.8454968333244324, 0.8454968333244324, 0.8427064418792725, 0.8335333466529846, 0.8250203132629395, 0.8226759433746338, 0.8206421136856079, 0.8198801279067993, 0.8148050904273987, 0.8144387006759644, 0.8143880367279053, 0.8139020800590515, 0.8115921020507812, 0.8063544631004333, 0.8053866624832153, 0.8049531579017639, 0.8035845756530762, 0.8021021485328674, 0.8019027709960938, 0.800730288028717, 0.799741268157959, 0.797563910484314, 0.7940771579742432, 0.7916789650917053, 0.7886238694190979, 0.7854465842247009, 0.7853098511695862, 0.7853098511695862, 0.9380967617034912, 0.9201012849807739, 0.9108278155326843, 0.9017132520675659, 0.8984218239784241, 0.8892538547515869, 0.8833591938018799, 0.8819999694824219, 0.8748977184295654, 0.873773455619812, 0.8668359518051147, 0.8668359518051147, 0.8659693002700806, 0.8640252351760864, 0.8601872324943542, 0.8546648621559143, 0.8543300628662109, 0.8523354530334473, 0.8409455418586731, 0.8396477699279785, 0.8388117551803589, 0.8376345634460449, 0.8376345634460449, 0.8333179354667664, 0.8320283889770508, 0.8320283889770508, 0.8316603899002075, 0.8315098285675049, 0.8297417163848877, 0.8285934925079346, 0.825969934463501, 0.8251199722290039, 0.8248232007026672, 0.8242313861846924, 0.8222854137420654, 0.8216500282287598, 0.8194229602813721, 0.8184525966644287, 0.8165206909179688, 0.8148767948150635, 0.8086245059967041, 0.9397115111351013, 0.9194867610931396, 0.9194867610931396, 0.892963707447052, 0.8918523788452148, 0.8917567729949951, 0.8863569498062134, 0.8863569498062134, 0.8836269378662109, 0.873469889163971, 0.8658664226531982, 0.863305389881134, 0.8624122142791748, 0.8454968333244324, 0.8454968333244324, 0.8427064418792725, 0.8335333466529846, 0.8250203132629395, 0.8226759433746338, 0.8206421136856079, 0.8198801279067993, 0.8148050904273987, 0.8144387006759644, 0.8143880367279053, 0.8139020800590515, 0.8115921020507812, 0.8063544631004333, 0.8053866624832153, 0.8049531579017639, 0.8035845756530762, 0.8021021485328674, 0.8019027709960938, 0.800730288028717, 0.799741268157959, 0.797563910484314, 0.7940771579742432, 0.7916789650917053, 0.7886238694190979, 0.7854465842247009, 0.7853098511695862, 0.7853098511695862, 0.9092954993247986, 0.8951758146286011, 0.8917471766471863, 0.8915888071060181, 0.8810214400291443, 0.8793514966964722, 0.8760710954666138, 0.8750938177108765, 0.8741723299026489, 0.8740540742874146, 0.8690007925033569, 0.8610731959342957, 0.8535624742507935, 0.845422625541687, 0.8442277908325195, 0.8442277908325195, 0.8438037633895874, 0.8438037633895874, 0.8424831628799438, 0.841221034526825, 0.8352027535438538, 0.8349018096923828, 0.8266713619232178, 0.8264580965042114, 0.8162604570388794, 0.8153887391090393, 0.8144327998161316, 0.8141549825668335, 0.8111577033996582, 0.8111577033996582, 0.8102318048477173, 0.8086626529693604, 0.8021758794784546, 0.801570475101471, 0.796245276927948, 0.7939655780792236, 0.7933088541030884, 0.7919511795043945, 0.7881073951721191, 0.7860948443412781, 0.7854905128479004, 0.9245520830154419, 0.9209256172180176, 0.9209256172180176, 0.9174246191978455, 0.8842459917068481, 0.8705299496650696, 0.8699769973754883, 0.8665006160736084, 0.8663963079452515, 0.8644928932189941, 0.8498772382736206, 0.8498772382736206, 0.8334197998046875, 0.8334197998046875, 0.8334197998046875, 0.8334197998046875, 0.8324093818664551, 0.8321807384490967, 0.8175874352455139, 0.799274206161499, 0.799274206161499, 0.799274206161499, 0.7957618832588196, 0.7942184805870056, 0.7938315868377686, 0.792604923248291, 0.7905980348587036, 0.7905980348587036, 0.7887603640556335, 0.7885164618492126, 0.7855602502822876, 0.7842437028884888, 0.7842437028884888, 0.7826164960861206, 0.7817665338516235, 0.7817665338516235, 0.7804127931594849, 0.7743963003158569, 0.7719557881355286, 0.7704613208770752, 0.7690445780754089, 0.9904404878616333, 0.9904404878616333, 0.9904404878616333, 0.9727900624275208, 0.9470866322517395, 0.935715913772583, 0.9347223043441772, 0.9347223043441772, 0.9341075420379639, 0.9341075420379639, 0.9324896931648254, 0.9278632998466492, 0.9278632998466492, 0.9274939894676208, 0.9267227053642273, 0.9218592047691345, 0.9183245897293091, 0.9152311682701111, 0.9132879376411438, 0.9110441207885742, 0.9109437465667725, 0.8839449286460876, 0.8726488351821899, 0.8680610060691833, 0.866985559463501, 0.8658866286277771, 0.8651968836784363, 0.8645103573799133, 0.8621498942375183, 0.8560949563980103, 0.853860080242157, 0.8479548692703247, 0.8479548692703247, 0.8465121984481812, 0.8454249501228333, 0.8454249501228333, 0.8426265120506287, 0.8418941497802734, 0.8416450619697571, 0.8390549421310425, 0.8337148427963257, 0.9245520830154419, 0.9209256172180176, 0.9209256172180176, 0.9174246191978455, 0.8842459917068481, 0.8705299496650696, 0.8699769973754883, 0.8665006160736084, 0.8663963079452515, 0.8644928932189941, 0.8498772382736206, 0.8498772382736206, 0.8334197998046875, 0.8334197998046875, 0.8334197998046875, 0.8334197998046875, 0.8324093818664551, 0.8321807384490967, 0.8175874352455139, 0.799274206161499, 0.799274206161499, 0.799274206161499, 0.7957618832588196, 0.7942184805870056, 0.7938315868377686, 0.792604923248291, 0.7905980348587036, 0.7905980348587036, 0.7887603640556335, 0.7885164618492126, 0.7855602502822876, 0.7842437028884888, 0.7842437028884888, 0.7826164960861206, 0.7817665338516235, 0.7817665338516235, 0.7804127931594849, 0.7743963003158569, 0.7719557881355286, 0.7704613208770752, 0.7690445780754089, 0.949884831905365, 0.9329653978347778, 0.9329653978347778, 0.9198912382125854, 0.8997784852981567, 0.8638937473297119, 0.8620119094848633, 0.86069655418396, 0.8592320680618286, 0.8592320680618286, 0.8582180738449097, 0.8524217009544373, 0.8524217009544373, 0.8512078523635864, 0.8474264144897461, 0.836890459060669, 0.8350417613983154, 0.8280481100082397, 0.8229798078536987, 0.8229163289070129, 0.8206647634506226, 0.8177601099014282, 0.8140424489974976, 0.8132263422012329, 0.8132263422012329, 0.813092827796936, 0.8130879402160645, 0.8112082481384277, 0.8103513717651367, 0.8101230263710022, 0.8079258799552917, 0.8049681186676025, 0.804000198841095, 0.804000198841095, 0.8030858039855957, 0.7999894618988037, 0.7979123592376709, 0.7944203615188599, 0.7935808897018433, 0.7935808897018433, 0.7901158928871155, 0.8235363960266113, 0.8160116672515869, 0.8121883869171143, 0.8049639463424683, 0.8033714890480042, 0.8033714890480042, 0.7802966833114624, 0.7746341824531555, 0.745071291923523, 0.7420724034309387, 0.7388862371444702, 0.7371229529380798, 0.7367401123046875, 0.7367401123046875, 0.7352069616317749, 0.7351706027984619, 0.7225515842437744, 0.7201423645019531, 0.7191691398620605, 0.7185551524162292, 0.7175139784812927, 0.7157052755355835, 0.7151883840560913, 0.7151883840560913, 0.7140706777572632, 0.6992431879043579, 0.6926118731498718, 0.6887525320053101, 0.6872329711914062, 0.680305004119873, 0.6733143925666809, 0.673061192035675, 0.673061192035675, 0.671902596950531, 0.6686307787895203, 0.6686307787895203, 0.6677604913711548, 0.6577584147453308, 0.6553854942321777, 0.6401349306106567, 0.6373518109321594, 0.8888208866119385, 0.8005372285842896, 0.8005372285842896, 0.7900215983390808, 0.7900215983390808, 0.7900215983390808, 0.7897839546203613, 0.7887325286865234, 0.7835365533828735, 0.7667278051376343, 0.7535243630409241, 0.7535243630409241, 0.7535243630409241, 0.7528121471405029, 0.7528121471405029, 0.7526219487190247, 0.7526219487190247, 0.7526219487190247, 0.7526219487190247, 0.7526219487190247, 0.7526219487190247, 0.7357237935066223, 0.7357237935066223, 0.7357237935066223, 0.7316656708717346, 0.7116043567657471, 0.7111107707023621, 0.711104691028595, 0.711104691028595, 0.710640549659729, 0.6953305602073669, 0.6869952082633972, 0.6866628527641296, 0.68463134765625, 0.6783994436264038, 0.6719048023223877, 0.6655678153038025, 0.6586906313896179, 0.6581341028213501, 0.65219646692276, 0.6508903503417969, 0.7598773241043091, 0.6216225028038025, 0.6216225028038025, 0.6216225028038025, 0.6094653606414795, 0.6068716645240784, 0.5978227853775024, 0.5934688448905945, 0.5798888206481934, 0.5612296462059021, 0.5444650650024414, 0.5388853549957275, 0.522502601146698, 0.520549476146698, 0.5154673457145691, 0.511829137802124, 0.4899074137210846, 0.48758044838905334, 0.48498618602752686, 0.48394662141799927, 0.4763314723968506, 0.4704214632511139, 0.46967583894729614, 0.46835610270500183, 0.4681409001350403, 0.464672327041626, 0.4641335606575012, 0.4582619071006775, 0.4582619071006775, 0.4534752368927002, 0.45203855633735657, 0.45203855633735657, 0.45203855633735657, 0.45203855633735657, 0.44460055232048035, 0.44460055232048035, 0.44460055232048035, 0.4434477686882019, 0.4433066248893738, 0.44276541471481323, 0.4423691928386688, 0.8888208866119385, 0.8005372285842896, 0.8005372285842896, 0.7900215983390808, 0.7900215983390808, 0.7900215983390808, 0.7897839546203613, 0.7887325286865234, 0.7835365533828735, 0.7667278051376343, 0.7535243630409241, 0.7535243630409241, 0.7535243630409241, 0.7528121471405029, 0.7528121471405029, 0.7526219487190247, 0.7526219487190247, 0.7526219487190247, 0.7526219487190247, 0.7526219487190247, 0.7526219487190247, 0.7357237935066223, 0.7357237935066223, 0.7357237935066223, 0.7316656708717346, 0.7116043567657471, 0.7111107707023621, 0.711104691028595, 0.711104691028595, 0.710640549659729, 0.6953305602073669, 0.6869952082633972, 0.6866628527641296, 0.68463134765625, 0.6783994436264038, 0.6719048023223877, 0.6655678153038025, 0.6586906313896179, 0.6581341028213501, 0.65219646692276, 0.6508903503417969, 0.8256626129150391, 0.7966032028198242, 0.7709292769432068, 0.7641631364822388, 0.7338792085647583, 0.7338792085647583, 0.7338792085647583, 0.7328647375106812, 0.6977938413619995, 0.6977938413619995, 0.6874553561210632, 0.6853927373886108, 0.6758224368095398, 0.6612513065338135, 0.6612513065338135, 0.6558610200881958, 0.6528981328010559, 0.6325947046279907, 0.6146206259727478, 0.6110367178916931, 0.6109567880630493, 0.6104909181594849, 0.6100600957870483, 0.6015530824661255, 0.6006861925125122, 0.6006861925125122, 0.5995577573776245, 0.5920734405517578, 0.5903062224388123, 0.5856696367263794, 0.5842015147209167, 0.5833631753921509, 0.579399824142456, 0.5784536600112915, 0.5784536600112915, 0.5774929523468018, 0.5774929523468018, 0.5774929523468018, 0.5743519067764282, 0.5719600319862366, 0.5719600319862366, 0.8933001756668091, 0.8388532400131226, 0.8309425115585327, 0.8306958675384521, 0.8306958675384521, 0.8018500804901123, 0.7803573608398438, 0.7798985242843628, 0.779406726360321, 0.779406726360321, 0.777599573135376, 0.7741724848747253, 0.7672023177146912, 0.7672023177146912, 0.7641288042068481, 0.7599989175796509, 0.7599989175796509, 0.7595903873443604, 0.7595903873443604, 0.7595138549804688, 0.7583276629447937, 0.754923939704895, 0.754923939704895, 0.754923939704895, 0.7545021772384644, 0.753126323223114, 0.7504846453666687, 0.7424701452255249, 0.7396420240402222, 0.7351247668266296, 0.7351247668266296, 0.7350060939788818, 0.733483076095581, 0.733483076095581, 0.7321872711181641, 0.7318012714385986, 0.7286954522132874, 0.7286954522132874, 0.7270418405532837, 0.7249692678451538, 0.7249692678451538, 0.8060271739959717, 0.7922964096069336, 0.790303111076355, 0.788456916809082, 0.7877241373062134, 0.7853943705558777, 0.7816245555877686, 0.7740349173545837, 0.764266848564148, 0.7627989649772644, 0.7555851340293884, 0.7555851340293884, 0.7422516345977783, 0.7422516345977783, 0.739075243473053, 0.739075243473053, 0.7362512350082397, 0.7362512350082397, 0.7355872392654419, 0.7342073917388916, 0.7342073917388916, 0.7257616519927979, 0.7240099906921387, 0.7157902717590332, 0.7123734354972839, 0.7116974592208862, 0.7115635871887207, 0.7077223062515259, 0.7076535820960999, 0.7068063616752625, 0.7058719396591187, 0.7014266848564148, 0.7011780738830566, 0.6973915696144104, 0.6973915696144104, 0.6952229142189026, 0.6898021101951599, 0.6855069398880005, 0.6827013492584229, 0.6817157864570618, 0.675003170967102, 0.8240283131599426, 0.78410404920578, 0.7246643304824829, 0.7194687128067017, 0.7167586088180542, 0.7081409096717834, 0.7038677334785461, 0.6999416351318359, 0.6878319978713989, 0.6820310354232788, 0.6568054556846619, 0.6562180519104004, 0.6538599729537964, 0.6538599729537964, 0.6538599729537964, 0.6538202166557312, 0.6517043113708496, 0.6426697373390198, 0.641345739364624, 0.6390509009361267, 0.6301211714744568, 0.6291141510009766, 0.6281273365020752, 0.6264535188674927, 0.6226780414581299, 0.6209642291069031, 0.6185563802719116, 0.6152039766311646, 0.6144315600395203, 0.6130352020263672, 0.6130101084709167, 0.6105774641036987, 0.6084623336791992, 0.60792076587677, 0.6021481156349182, 0.5963396430015564, 0.5934290289878845, 0.5899207592010498, 0.5877324342727661, 0.5847985744476318, 0.5736384987831116, 0.8933001756668091, 0.8388532400131226, 0.8309425115585327, 0.8306958675384521, 0.8306958675384521, 0.8018500804901123, 0.7803573608398438, 0.7798985242843628, 0.779406726360321, 0.779406726360321, 0.777599573135376, 0.7741724848747253, 0.7672023177146912, 0.7672023177146912, 0.7641288042068481, 0.7599989175796509, 0.7599989175796509, 0.7595903873443604, 0.7595903873443604, 0.7595138549804688, 0.7583276629447937, 0.754923939704895, 0.754923939704895, 0.754923939704895, 0.7545021772384644, 0.753126323223114, 0.7504846453666687, 0.7424701452255249, 0.7396420240402222, 0.7351247668266296, 0.7351247668266296, 0.7350060939788818, 0.733483076095581, 0.733483076095581, 0.7321872711181641, 0.7318012714385986, 0.7286954522132874, 0.7286954522132874, 0.7270418405532837, 0.7249692678451538, 0.7249692678451538, 0.9382315874099731, 0.9106018543243408, 0.9106018543243408, 0.9078210592269897, 0.8945432305335999, 0.8945432305335999, 0.8899151682853699, 0.8815053105354309, 0.8779960870742798, 0.8697571158409119, 0.8584032654762268, 0.8508185744285583, 0.8404878377914429, 0.839050829410553, 0.8374419212341309, 0.8374419212341309, 0.8315833806991577, 0.8207336664199829, 0.8140221238136292, 0.8135877251625061, 0.8098987340927124, 0.8095626831054688, 0.8067116737365723, 0.8014845848083496, 0.8002190589904785, 0.7980751991271973, 0.7973915338516235, 0.794553279876709, 0.791086733341217, 0.7903101444244385, 0.7885880470275879, 0.7885420322418213, 0.7885420322418213, 0.7876542806625366, 0.7841812372207642, 0.7804253101348877, 0.7792696356773376, 0.7792696356773376, 0.7765580415725708, 0.7765178680419922, 0.7755371332168579, 0.9727869033813477, 0.970969021320343, 0.9420433640480042, 0.9116808176040649, 0.8944628238677979, 0.8923947215080261, 0.8923947215080261, 0.8885407447814941, 0.8824141025543213, 0.8808543682098389, 0.878020167350769, 0.8768462538719177, 0.8712124824523926, 0.8662111759185791, 0.8662111759185791, 0.8617545962333679, 0.8617545962333679, 0.8551779985427856, 0.8510341048240662, 0.845887303352356, 0.8456859588623047, 0.8454684019088745, 0.8413792848587036, 0.8390040397644043, 0.8390040397644043, 0.8283773064613342, 0.8258047103881836, 0.8164576292037964, 0.8164280652999878, 0.814202606678009, 0.814202606678009, 0.8130785822868347, 0.8118199110031128, 0.8077182769775391, 0.8075056672096252, 0.8074648976325989, 0.8053199648857117, 0.80381840467453, 0.803563117980957, 0.8023645281791687, 0.8008039593696594, 0.9382315874099731, 0.9106018543243408, 0.9106018543243408, 0.9078210592269897, 0.8945432305335999, 0.8945432305335999, 0.8899151682853699, 0.8815053105354309, 0.8779960870742798, 0.8697571158409119, 0.8584032654762268, 0.8508185744285583, 0.8404878377914429, 0.839050829410553, 0.8374419212341309, 0.8374419212341309, 0.8315833806991577, 0.8207336664199829, 0.8140221238136292, 0.8135877251625061, 0.8098987340927124, 0.8095626831054688, 0.8067116737365723, 0.8014845848083496, 0.8002190589904785, 0.7980751991271973, 0.7973915338516235, 0.794553279876709, 0.791086733341217, 0.7903101444244385, 0.7885880470275879, 0.7885420322418213, 0.7885420322418213, 0.7876542806625366, 0.7841812372207642, 0.7804253101348877, 0.7792696356773376, 0.7792696356773376, 0.7765580415725708, 0.7765178680419922, 0.7755371332168579, 0.8907605409622192, 0.8907605409622192, 0.8881603479385376, 0.8881603479385376, 0.8796150088310242, 0.8717153072357178, 0.8604875206947327, 0.8381379246711731, 0.8304458856582642, 0.8288041353225708, 0.8264509439468384, 0.8182826042175293, 0.8182826042175293, 0.8143113255500793, 0.8134340643882751, 0.803749680519104, 0.8018821477890015, 0.8004822134971619, 0.7996741533279419, 0.7983058094978333, 0.7982409000396729, 0.7949161529541016, 0.7933555841445923, 0.7933555841445923, 0.7930272221565247, 0.7930272221565247, 0.7887824773788452, 0.7887824773788452, 0.7887824773788452, 0.7873685956001282, 0.7873685956001282, 0.7872574329376221, 0.7868430614471436, 0.785815954208374, 0.7823376059532166, 0.7809036374092102, 0.7809036374092102, 0.7809036374092102, 0.7809036374092102, 0.7807348370552063, 0.7802766561508179, 0.9434819221496582, 0.928325891494751, 0.9075089693069458, 0.9021630883216858, 0.8466262221336365, 0.8431141972541809, 0.8429650068283081, 0.8428629636764526, 0.8427742719650269, 0.8290285468101501, 0.8272480964660645, 0.8261188268661499, 0.8261188268661499, 0.8214958906173706, 0.8147320747375488, 0.811813235282898, 0.8085433840751648, 0.808493435382843, 0.8063919544219971, 0.8063919544219971, 0.8019027709960938, 0.8019027709960938, 0.8011347055435181, 0.7975443005561829, 0.7961540818214417, 0.7936240434646606, 0.7934329509735107, 0.7916268110275269, 0.790030837059021, 0.7890666723251343, 0.7856588959693909, 0.7856588959693909, 0.7850852012634277, 0.781430721282959, 0.7808881998062134, 0.7808881998062134, 0.7781732082366943, 0.7772074937820435, 0.7763091325759888, 0.7676542401313782, 0.7672832012176514, 0.9062701463699341, 0.9062701463699341, 0.8163251876831055, 0.8133508563041687, 0.7995826005935669, 0.7887556552886963, 0.7653709650039673, 0.764266848564148, 0.738884687423706, 0.7361241579055786, 0.7318238615989685, 0.7308263778686523, 0.7307897806167603, 0.7274258136749268, 0.7186199426651001, 0.7186199426651001, 0.7115868926048279, 0.7080963850021362, 0.7013696432113647, 0.7013488411903381, 0.7013488411903381, 0.699652373790741, 0.6991533041000366, 0.6978016495704651, 0.6943079829216003, 0.6922152042388916, 0.6876507997512817, 0.6872959136962891, 0.6872959136962891, 0.687239408493042, 0.685708224773407, 0.685708224773407, 0.6820380687713623, 0.6794185638427734, 0.6771212816238403, 0.6756483316421509, 0.6756483316421509, 0.6744850873947144, 0.674102246761322, 0.672876238822937, 0.6724757552146912, 0.9159203171730042, 0.9082893133163452, 0.8956456184387207, 0.8930066823959351, 0.8841756582260132, 0.8802178502082825, 0.8751527070999146, 0.8736675977706909, 0.8709447383880615, 0.8706492185592651, 0.8660688400268555, 0.8612551689147949, 0.8601805567741394, 0.8592161536216736, 0.8527505397796631, 0.8492854237556458, 0.8452772498130798, 0.8443493843078613, 0.8440428972244263, 0.8395746350288391, 0.8395746350288391, 0.8361401557922363, 0.8361401557922363, 0.8102759718894958, 0.8086092472076416, 0.8078513145446777, 0.8074493408203125, 0.806550920009613, 0.806550920009613, 0.8041384220123291, 0.7971072793006897, 0.7860841751098633, 0.7804924249649048, 0.7772917747497559, 0.7770946025848389, 0.7770946025848389, 0.7742623090744019, 0.7725504040718079, 0.7698040008544922, 0.7684147357940674, 0.7681910991668701, 0.9588703513145447, 0.9524250030517578, 0.9316670894622803, 0.9173969626426697, 0.9145621061325073, 0.9102996587753296, 0.899443507194519, 0.8923615217208862, 0.88592928647995, 0.878838062286377, 0.8740604519844055, 0.8740604519844055, 0.8698276877403259, 0.8690962791442871, 0.8652142286300659, 0.863305389881134, 0.863305389881134, 0.8630759716033936, 0.8593734502792358, 0.8534756898880005, 0.8507665395736694, 0.8446609973907471, 0.8446609973907471, 0.8330965042114258, 0.8323801755905151, 0.8323801755905151, 0.8291202783584595, 0.8258851766586304, 0.8258851766586304, 0.8239695429801941, 0.823807954788208, 0.8227845430374146, 0.8227845430374146, 0.8222399353981018, 0.8150359392166138, 0.8140221238136292, 0.8140221238136292, 0.8109166622161865, 0.8051156997680664, 0.7999272346496582, 0.7998975515365601, 0.9159203171730042, 0.9082893133163452, 0.8956456184387207, 0.8930066823959351, 0.8841756582260132, 0.8802178502082825, 0.8751527070999146, 0.8736675977706909, 0.8709447383880615, 0.8706492185592651, 0.8660688400268555, 0.8612551689147949, 0.8601805567741394, 0.8592161536216736, 0.8527505397796631, 0.8492854237556458, 0.8452772498130798, 0.8443493843078613, 0.8440428972244263, 0.8395746350288391, 0.8395746350288391, 0.8361401557922363, 0.8361401557922363, 0.8102759718894958, 0.8086092472076416, 0.8078513145446777, 0.8074493408203125, 0.806550920009613, 0.806550920009613, 0.8041384220123291, 0.7971072793006897, 0.7860841751098633, 0.7804924249649048, 0.7772917747497559, 0.7770946025848389, 0.7770946025848389, 0.7742623090744019, 0.7725504040718079, 0.7698040008544922, 0.7684147357940674, 0.7681910991668701, 0.9367783069610596, 0.9086948037147522, 0.9036933779716492, 0.9021630883216858, 0.8840393424034119, 0.8707863092422485, 0.8703501224517822, 0.8677821159362793, 0.8656018972396851, 0.8656018972396851, 0.8323448300361633, 0.8267257213592529, 0.8252856731414795, 0.8240259885787964, 0.8203927874565125, 0.8203927874565125, 0.8201265931129456, 0.8137603402137756, 0.8119645118713379, 0.8062160015106201, 0.8059372901916504, 0.8051719665527344, 0.8023523092269897, 0.8022775650024414, 0.8000009059906006, 0.799741268157959, 0.799741268157959, 0.7974147200584412, 0.7974147200584412, 0.7951129674911499, 0.7942882776260376, 0.7941666841506958, 0.7917532920837402, 0.7914847731590271, 0.7901334762573242, 0.7869397401809692, 0.7863978743553162, 0.7807744741439819, 0.7807744741439819, 0.7792148590087891, 0.7788881063461304, 0.8272416591644287, 0.7983249425888062, 0.7897324562072754, 0.7872564196586609, 0.7489164471626282, 0.7435068488121033, 0.7307186126708984, 0.7199659943580627, 0.7112000584602356, 0.7058424353599548, 0.702750027179718, 0.6990242600440979, 0.68756502866745, 0.68756502866745, 0.686433732509613, 0.6772155165672302, 0.6734457015991211, 0.6734457015991211, 0.6560063362121582, 0.6411093473434448, 0.6388982534408569, 0.6247720718383789, 0.618139922618866, 0.6143041849136353, 0.6084206700325012, 0.6058427691459656, 0.6005450487136841, 0.5976806879043579, 0.5934125185012817, 0.5887811779975891, 0.5804396867752075, 0.5751236081123352, 0.5636666417121887, 0.5498180985450745, 0.5483484864234924, 0.5423818826675415, 0.5411844253540039, 0.5316497087478638, 0.5265776515007019, 0.5192992091178894, 0.5171930193901062, 0.9488275051116943, 0.8763301968574524, 0.8567236065864563, 0.8495270013809204, 0.8370440006256104, 0.8288654088973999, 0.8274070024490356, 0.8216538429260254, 0.8004121780395508, 0.7927930355072021, 0.789587676525116, 0.7843931913375854, 0.7843931913375854, 0.7790369391441345, 0.7769936323165894, 0.7769936323165894, 0.7759767174720764, 0.7752964496612549, 0.769762396812439, 0.769762396812439, 0.7689474821090698, 0.7649865746498108, 0.758327841758728, 0.7568072080612183, 0.7561531066894531, 0.7515515089035034, 0.747969388961792, 0.7463557720184326, 0.7448859810829163, 0.7414804697036743, 0.7410879135131836, 0.734351634979248, 0.734351634979248, 0.7308627367019653, 0.723529577255249, 0.7222676277160645, 0.7219786643981934, 0.7193387746810913, 0.7166111469268799, 0.7135568261146545, 0.7134373188018799, 0.8272416591644287, 0.7983249425888062, 0.7897324562072754, 0.7872564196586609, 0.7489164471626282, 0.7435068488121033, 0.7307186126708984, 0.7199659943580627, 0.7112000584602356, 0.7058424353599548, 0.702750027179718, 0.6990242600440979, 0.68756502866745, 0.68756502866745, 0.686433732509613, 0.6772155165672302, 0.6734457015991211, 0.6734457015991211, 0.6560063362121582, 0.6411093473434448, 0.6388982534408569, 0.6247720718383789, 0.618139922618866, 0.6143041849136353, 0.6084206700325012, 0.6058427691459656, 0.6005450487136841, 0.5976806879043579, 0.5934125185012817, 0.5887811779975891, 0.5804396867752075, 0.5751236081123352, 0.5636666417121887, 0.5498180985450745, 0.5483484864234924, 0.5423818826675415, 0.5411844253540039, 0.5316497087478638, 0.5265776515007019, 0.5192992091178894, 0.5171930193901062, 0.9720892906188965, 0.9578099846839905, 0.9370535612106323, 0.905147910118103, 0.905147910118103, 0.9051464796066284, 0.8790013194084167, 0.8703640699386597, 0.8657833337783813, 0.8358277082443237, 0.8358033895492554, 0.8321431875228882, 0.8321431875228882, 0.8311716914176941, 0.8283655643463135, 0.827326238155365, 0.8232321739196777, 0.8183004260063171, 0.816969096660614, 0.8166980743408203, 0.8166980743408203, 0.814965009689331, 0.8108347654342651, 0.8100229501724243, 0.809891939163208, 0.8083155155181885, 0.8064645528793335, 0.8064645528793335, 0.8050772547721863, 0.8045989274978638, 0.8023098111152649, 0.7905993461608887, 0.7863381505012512, 0.785620927810669, 0.785620927810669, 0.7854453921318054, 0.7840256690979004, 0.7815321683883667, 0.7757341265678406, 0.7750649452209473, 0.7712115049362183, 0.9823054671287537, 0.9467687606811523, 0.8759769201278687, 0.8576890826225281, 0.8405819535255432, 0.8402286767959595, 0.8383113145828247, 0.836658775806427, 0.8344063758850098, 0.8344063758850098, 0.824886679649353, 0.8142800331115723, 0.8109053373336792, 0.8101141452789307, 0.8046665787696838, 0.8029888868331909, 0.8029888868331909, 0.7986671924591064, 0.7945870161056519, 0.7920985221862793, 0.7892705202102661, 0.7892705202102661, 0.7834324836730957, 0.7804635763168335, 0.7804635763168335, 0.7786853313446045, 0.778123140335083, 0.7775814533233643, 0.7775814533233643, 0.7773823738098145, 0.7773823738098145, 0.7740079164505005, 0.7735186815261841, 0.7689897418022156, 0.7677057385444641, 0.7674835920333862, 0.7669771313667297, 0.766526997089386, 0.7635402679443359, 0.7603997588157654, 0.7595625519752502, 0.9569911956787109, 0.9569911956787109, 0.9569911956787109, 0.9129670858383179, 0.9033762216567993, 0.9019269943237305, 0.8989858627319336, 0.8917649984359741, 0.8857032060623169, 0.8857032060623169, 0.8856268525123596, 0.8838262557983398, 0.8814467191696167, 0.8788362741470337, 0.8788362741470337, 0.8784105181694031, 0.8779395222663879, 0.8776706457138062, 0.8776706457138062, 0.8767483234405518, 0.8758453130722046, 0.8747246861457825, 0.8735836744308472, 0.87245774269104, 0.87245774269104, 0.8701225519180298, 0.8701225519180298, 0.8650967478752136, 0.8648367524147034, 0.8644636273384094, 0.8631269335746765, 0.8622348308563232, 0.8602527379989624, 0.859343409538269, 0.8592655658721924, 0.8592655658721924, 0.8592655658721924, 0.8592655658721924, 0.8564645648002625, 0.8564645648002625, 0.8557719588279724, 0.9776827692985535, 0.9776827692985535, 0.9776827692985535, 0.9630857110023499, 0.948072075843811, 0.9405701160430908, 0.939577579498291, 0.939577579498291, 0.939577579498291, 0.939577579498291, 0.939577579498291, 0.939577579498291, 0.939577579498291, 0.9348084330558777, 0.9144744873046875, 0.9104403257369995, 0.9096618890762329, 0.9033953547477722, 0.9033953547477722, 0.9033953547477722, 0.9033953547477722, 0.8986890316009521, 0.8986890316009521, 0.8982325196266174, 0.8970104455947876, 0.896312952041626, 0.8928160667419434, 0.8912834525108337, 0.8859655261039734, 0.8819149136543274, 0.8789923191070557, 0.8739763498306274, 0.8734010457992554, 0.8734010457992554, 0.8734010457992554, 0.8734010457992554, 0.8734010457992554, 0.8734010457992554, 0.8734010457992554, 0.8734010457992554, 0.8734010457992554, 0.9270341992378235, 0.9270341992378235, 0.9258881211280823, 0.9258881211280823, 0.9258881211280823, 0.9071986675262451, 0.9071986675262451, 0.90497887134552, 0.8960520625114441, 0.8960520625114441, 0.8954503536224365, 0.8910744190216064, 0.8892680406570435, 0.8884149789810181, 0.8854890465736389, 0.8841819763183594, 0.8841819763183594, 0.8753681182861328, 0.8753681182861328, 0.8734256029129028, 0.8696619272232056, 0.861203670501709, 0.8575502634048462, 0.8575502634048462, 0.8567999005317688, 0.8553246259689331, 0.854486346244812, 0.8534590005874634, 0.8485583066940308, 0.8451602458953857, 0.8397481441497803, 0.8383845686912537, 0.8382435441017151, 0.8317129015922546, 0.8309769034385681, 0.8172683715820312, 0.8147502541542053, 0.8101051449775696, 0.8090176582336426, 0.8055130839347839, 0.8045473098754883, 0.9586360454559326, 0.9575733542442322, 0.9575733542442322, 0.9416491985321045, 0.9398320317268372, 0.9245044589042664, 0.9235355854034424, 0.9110568761825562, 0.905147910118103, 0.9014006853103638, 0.8865976929664612, 0.8764706254005432, 0.866668701171875, 0.8664638996124268, 0.8613173365592957, 0.8599411249160767, 0.8576251268386841, 0.8495101928710938, 0.8447998762130737, 0.8433393239974976, 0.8402732610702515, 0.829391360282898, 0.8240033984184265, 0.817215085029602, 0.8112596869468689, 0.8112596869468689, 0.7977177500724792, 0.794784426689148, 0.7924818992614746, 0.7902839183807373, 0.7893571257591248, 0.7872436046600342, 0.7859655618667603, 0.7844440937042236, 0.7815629243850708, 0.7807279229164124, 0.7807279229164124, 0.7773406505584717, 0.7769936323165894, 0.7746695280075073, 0.7716912627220154, 0.9714033603668213, 0.9666874408721924, 0.9658952951431274, 0.9635993242263794, 0.9620299339294434, 0.9522378444671631, 0.9498850107192993, 0.9446364641189575, 0.9410858154296875, 0.9410858154296875, 0.9395517706871033, 0.937065839767456, 0.93703293800354, 0.9308275580406189, 0.9259706735610962, 0.9256200790405273, 0.9256200790405273, 0.9231044054031372, 0.9231044054031372, 0.9221500158309937, 0.9221500158309937, 0.9204398989677429, 0.9179599285125732, 0.9175553321838379, 0.9172093868255615, 0.9164569973945618, 0.9142947196960449, 0.9141861200332642, 0.9141861200332642, 0.9134469032287598, 0.9131096601486206, 0.9131096601486206, 0.9126734733581543, 0.9126734733581543, 0.9126734733581543, 0.9111785888671875, 0.9111785888671875, 0.9095170497894287, 0.909422755241394, 0.9092589020729065, 0.9089718461036682, 0.9586360454559326, 0.9575733542442322, 0.9575733542442322, 0.9416491985321045, 0.9398320317268372, 0.9245044589042664, 0.9235355854034424, 0.9110568761825562, 0.905147910118103, 0.9014006853103638, 0.8865976929664612, 0.8764706254005432, 0.866668701171875, 0.8664638996124268, 0.8613173365592957, 0.8599411249160767, 0.8576251268386841, 0.8495101928710938, 0.8447998762130737, 0.8433393239974976, 0.8402732610702515, 0.829391360282898, 0.8240033984184265, 0.817215085029602, 0.8112596869468689, 0.8112596869468689, 0.7977177500724792, 0.794784426689148, 0.7924818992614746, 0.7902839183807373, 0.7893571257591248, 0.7872436046600342, 0.7859655618667603, 0.7844440937042236, 0.7815629243850708, 0.7807279229164124, 0.7807279229164124, 0.7773406505584717, 0.7769936323165894, 0.7746695280075073, 0.7716912627220154, 0.8864080905914307, 0.8726491928100586, 0.8493943214416504, 0.8429691791534424, 0.8403885364532471, 0.8136745691299438, 0.8117293119430542, 0.793415904045105, 0.7902466654777527, 0.7896914482116699, 0.7820013761520386, 0.7742034196853638, 0.770583987236023, 0.7650513052940369, 0.760662853717804, 0.7579823136329651, 0.7491157054901123, 0.7491157054901123, 0.7491157054901123, 0.736641526222229, 0.7349874377250671, 0.7349874377250671, 0.7345964908599854, 0.7304980754852295, 0.729279637336731, 0.7233650088310242, 0.7172300815582275, 0.7162532806396484, 0.710085391998291, 0.710085391998291, 0.710085391998291, 0.710085391998291, 0.7090682983398438, 0.7015398740768433, 0.6973698735237122, 0.6961855292320251, 0.6952965259552002, 0.6941157579421997, 0.692876935005188, 0.6911220550537109, 0.6895649433135986, 0.8195174336433411, 0.814304530620575, 0.814304530620575, 0.814304530620575, 0.814304530620575, 0.814304530620575, 0.814304530620575, 0.814304530620575, 0.814304530620575, 0.814304530620575, 0.814304530620575, 0.814304530620575, 0.814304530620575, 0.814304530620575, 0.814304530620575, 0.814304530620575, 0.814304530620575, 0.814304530620575, 0.814304530620575, 0.814304530620575, 0.814304530620575, 0.814304530620575, 0.814304530620575, 0.814304530620575, 0.814304530620575, 0.8117126822471619, 0.8035580515861511, 0.8035580515861511, 0.8035580515861511, 0.7966907024383545, 0.7894206047058105, 0.7894206047058105, 0.7817214131355286, 0.7797952890396118, 0.7791058421134949, 0.7790307402610779, 0.7789461612701416, 0.7785455584526062, 0.7769820094108582, 0.7769820094108582, 0.7582499980926514, 0.8859416246414185, 0.8542184233665466, 0.8542184233665466, 0.8139802813529968, 0.7915170192718506, 0.6953229904174805, 0.6932423710823059, 0.6889830231666565, 0.6889830231666565, 0.6889830231666565, 0.6869683265686035, 0.6802700757980347, 0.6651354432106018, 0.6611589193344116, 0.6600574254989624, 0.6589483022689819, 0.6586841940879822, 0.6558805704116821, 0.6539225578308105, 0.6491274833679199, 0.6487876772880554, 0.6478725075721741, 0.6458379030227661, 0.6447881460189819, 0.6426306962966919, 0.6399982571601868, 0.6398983597755432, 0.6355142593383789, 0.6354126334190369, 0.6276334524154663, 0.6265485286712646, 0.625734269618988, 0.6241642832756042, 0.622726321220398, 0.6215647459030151, 0.6214452981948853, 0.6205032467842102, 0.6201972961425781, 0.6163961887359619, 0.6160873174667358, 0.6160873174667358, 1.0, 1.0, 0.9468265175819397, 0.8947436809539795, 0.8796350955963135, 0.8687880039215088, 0.8620895743370056, 0.8613554239273071, 0.8588920831680298, 0.8544516563415527, 0.8496817350387573, 0.8496817350387573, 0.8496817350387573, 0.8496817350387573, 0.8482968807220459, 0.8419350385665894, 0.8419350385665894, 0.8397045731544495, 0.8397045731544495, 0.8371249437332153, 0.818954586982727, 0.818954586982727, 0.818654477596283, 0.8155856728553772, 0.8064849376678467, 0.8000234961509705, 0.7943310141563416, 0.7926051020622253, 0.7889665365219116, 0.7889665365219116, 0.7887517809867859, 0.7855013608932495, 0.7803846597671509, 0.7702526450157166, 0.769792914390564, 0.7683843374252319, 0.7674529552459717, 0.7625212073326111, 0.758752703666687, 0.7576194405555725, 0.7567411065101624, 1.0000001192092896, 0.8965716361999512, 0.865922749042511, 0.8526025414466858, 0.8503074645996094, 0.8375924825668335, 0.8375924825668335, 0.8375924825668335, 0.8374204635620117, 0.8342785835266113, 0.8304515480995178, 0.8304515480995178, 0.8304515480995178, 0.8221418261528015, 0.820572018623352, 0.8064778447151184, 0.794363260269165, 0.7855495810508728, 0.7855495810508728, 0.7855495810508728, 0.7838582992553711, 0.7823235988616943, 0.7823235988616943, 0.7823235988616943, 0.7746706008911133, 0.7746706008911133, 0.769792914390564, 0.769792914390564, 0.7693134546279907, 0.7682977318763733, 0.7680973410606384, 0.7680579423904419, 0.7680579423904419, 0.7680579423904419, 0.7680579423904419, 0.7680579423904419, 0.7680016756057739, 0.7663156986236572, 0.7663156986236572, 0.7663156986236572, 0.7657234072685242, 1.0000001192092896, 1.0000001192092896, 1.0000001192092896, 1.0000001192092896, 1.0000001192092896, 1.0000001192092896, 1.0000001192092896, 1.0000001192092896, 1.0000001192092896, 1.0000001192092896, 0.9927563071250916, 0.9452508687973022, 0.9452508687973022, 0.9452508687973022, 0.9452508687973022, 0.9251319169998169, 0.9200519919395447, 0.9200519919395447, 0.9136869311332703, 0.9054660797119141, 0.89763343334198, 0.8828694224357605, 0.8684292435646057, 0.8483601212501526, 0.8438881635665894, 0.8424009680747986, 0.8368710279464722, 0.8324595093727112, 0.8295950889587402, 0.8277209401130676, 0.8276130557060242, 0.8258223533630371, 0.8243687748908997, 0.8243687748908997, 0.8243687748908997, 0.8193985819816589, 0.8193662762641907, 0.8146452903747559, 0.8146452903747559, 0.8146452903747559, 0.8114499449729919, 1.0, 1.0, 0.9468265175819397, 0.8947436809539795, 0.8796350955963135, 0.8687880039215088, 0.8620895743370056, 0.8613554239273071, 0.8588920831680298, 0.8544516563415527, 0.8496817350387573, 0.8496817350387573, 0.8496817350387573, 0.8496817350387573, 0.8482968807220459, 0.8419350385665894, 0.8419350385665894, 0.8397045731544495, 0.8397045731544495, 0.8371249437332153, 0.818954586982727, 0.818954586982727, 0.818654477596283, 0.8155856728553772, 0.8064849376678467, 0.8000234961509705, 0.7943310141563416, 0.7926051020622253, 0.7889665365219116, 0.7889665365219116, 0.7887517809867859, 0.7855013608932495, 0.7803846597671509, 0.7702526450157166, 0.769792914390564, 0.7683843374252319, 0.7674529552459717, 0.7625212073326111, 0.758752703666687, 0.7576194405555725, 0.7567411065101624, 1.0, 0.9987550973892212, 0.9460849761962891, 0.8794457912445068, 0.8794457912445068, 0.8784847259521484, 0.8690253496170044, 0.8690253496170044, 0.867087185382843, 0.8662586212158203, 0.8596116900444031, 0.8596116900444031, 0.8540225028991699, 0.8497336506843567, 0.8497336506843567, 0.8483266830444336, 0.8338732719421387, 0.8336036801338196, 0.8328957557678223, 0.8291103839874268, 0.820695161819458, 0.820695161819458, 0.8134678602218628, 0.8062784075737, 0.7937476634979248, 0.7937476634979248, 0.7937476634979248, 0.7834206819534302, 0.7834206819534302, 0.7834206819534302, 0.7834206819534302, 0.7834206819534302, 0.7797865271568298, 0.7765061259269714, 0.7765061259269714, 0.7765061259269714, 0.7759801149368286, 0.7746627330780029, 0.7746627330780029, 0.7742090225219727, 0.7742090225219727, 0.9999999403953552, 0.9987550973892212, 0.944748044013977, 0.8834656476974487, 0.8790454864501953, 0.8790454864501953, 0.8716930747032166, 0.8682700395584106, 0.8682700395584106, 0.8663719892501831, 0.8607791662216187, 0.8607791662216187, 0.8588335514068604, 0.8502942323684692, 0.8452545404434204, 0.8452545404434204, 0.8396735787391663, 0.8351118564605713, 0.8334347009658813, 0.8315479159355164, 0.8227681517601013, 0.8227681517601013, 0.8181366920471191, 0.8102051615715027, 0.7941124439239502, 0.7941124439239502, 0.7941124439239502, 0.7872361540794373, 0.7872361540794373, 0.7872361540794373, 0.7872361540794373, 0.7872361540794373, 0.7801184058189392, 0.7798235416412354, 0.7798235416412354, 0.7798235416412354, 0.7780921459197998, 0.7771652340888977, 0.7771652340888977, 0.7770695686340332, 0.7747765779495239, 1.0, 1.0, 1.0, 1.0, 1.0, 1.0, 1.0, 1.0, 1.0, 1.0, 1.0, 1.0, 1.0, 1.0, 1.0, 1.0, 1.0, 1.0, 1.0, 1.0, 1.0, 1.0, 1.0, 0.9900484085083008, 0.9896509647369385, 0.9801968336105347, 0.9528630971908569, 0.9528630971908569, 0.9396994113922119, 0.9396994113922119, 0.9116767644882202, 0.9027641415596008, 0.8989138007164001, 0.8923777937889099, 0.8821513056755066, 0.8813478350639343, 0.8719934225082397, 0.8711957931518555, 0.8711957931518555, 0.8711957931518555, 0.8706673383712769, 0.9999999403953552, 0.9460849761962891, 0.944748044013977, 0.8436610102653503, 0.8436610102653503, 0.8433859348297119, 0.8369379043579102, 0.825229287147522, 0.8208569884300232, 0.8162757754325867, 0.8162757754325867, 0.8085585832595825, 0.8054484724998474, 0.7932051420211792, 0.7932051420211792, 0.7926450967788696, 0.7891616821289062, 0.7888342142105103, 0.7888342142105103, 0.7868662476539612, 0.7868215441703796, 0.7862323522567749, 0.7851698994636536, 0.7851698994636536, 0.7834347486495972, 0.7834347486495972, 0.7826142311096191, 0.7826142311096191, 0.7826142311096191, 0.7826142311096191, 0.7826142311096191, 0.7749543786048889, 0.7749543786048889, 0.7749543786048889, 0.7738732099533081, 0.7735525369644165, 0.7735525369644165, 0.7729343175888062, 0.7638723254203796, 0.7591098546981812, 0.7567384243011475, 0.9729369878768921, 0.9378409385681152, 0.9367839097976685, 0.930905282497406, 0.9194040298461914, 0.9139200448989868, 0.912841260433197, 0.912841260433197, 0.9076521396636963, 0.8859456777572632, 0.8813002705574036, 0.878834068775177, 0.878834068775177, 0.8779889941215515, 0.8763647079467773, 0.8728282451629639, 0.8700854778289795, 0.8693118691444397, 0.8668837547302246, 0.866553783416748, 0.857420802116394, 0.8569439649581909, 0.8539477586746216, 0.8539477586746216, 0.853687047958374, 0.8535317778587341, 0.8512336015701294, 0.844699501991272, 0.8439221382141113, 0.829987645149231, 0.829125702381134, 0.8284497261047363, 0.8280516266822815, 0.82573401927948, 0.8243188261985779, 0.8205113410949707, 0.8195643424987793, 0.8193523287773132, 0.8179498910903931, 0.8149603009223938, 0.8149603009223938, 0.911231517791748, 0.9062024354934692, 0.9056870341300964, 0.9056870341300964, 0.8903895616531372, 0.8822072744369507, 0.8745130896568298, 0.8582799434661865, 0.8572845458984375, 0.8505495190620422, 0.8505495190620422, 0.8455908298492432, 0.8390945196151733, 0.8380390405654907, 0.830964207649231, 0.8300701975822449, 0.8290912508964539, 0.8287513256072998, 0.8227652907371521, 0.8224103450775146, 0.8194433450698853, 0.8180016875267029, 0.8176114559173584, 0.8159886598587036, 0.8141642808914185, 0.8121335506439209, 0.8121335506439209, 0.8115015625953674, 0.8101100325584412, 0.809411883354187, 0.807533860206604, 0.807533860206604, 0.8072469234466553, 0.8059313297271729, 0.8051468729972839, 0.8026597499847412, 0.8013622760772705, 0.7999041080474854, 0.7976597547531128, 0.7964744567871094, 0.7959005832672119, 0.7814693450927734, 0.7363389730453491, 0.7363389730453491, 0.7363389730453491, 0.7263975739479065, 0.7252312302589417, 0.7178820371627808, 0.7177772521972656, 0.7172784209251404, 0.7121984958648682, 0.7039656639099121, 0.694223165512085, 0.6869242191314697, 0.6674089431762695, 0.6658279895782471, 0.6580877304077148, 0.6545461416244507, 0.6520233154296875, 0.6520233154296875, 0.6508787870407104, 0.6495074033737183, 0.6419552564620972, 0.6393580436706543, 0.6371086239814758, 0.6351751685142517, 0.6351751685142517, 0.6306595802307129, 0.6275777220726013, 0.6275777220726013, 0.6266812086105347, 0.624549925327301, 0.6241674423217773, 0.6228458285331726, 0.6228458285331726, 0.6222013235092163, 0.622161865234375, 0.61704421043396, 0.6160329580307007, 0.609229326248169, 0.6058465838432312, 0.6012109518051147, 0.9427706003189087, 0.9062951803207397, 0.9047209024429321, 0.9047209024429321, 0.8993239998817444, 0.8981375098228455, 0.8829247951507568, 0.8659026026725769, 0.8511789441108704, 0.8504128456115723, 0.8497911095619202, 0.8497911095619202, 0.8471345901489258, 0.8471345901489258, 0.8447177410125732, 0.8410201668739319, 0.83957839012146, 0.8385570049285889, 0.8378322124481201, 0.8342377543449402, 0.8338267803192139, 0.8332780599594116, 0.8309563398361206, 0.8306030035018921, 0.82956463098526, 0.82956463098526, 0.8253822326660156, 0.8202883005142212, 0.8202623128890991, 0.8192474842071533, 0.8185029625892639, 0.8181504011154175, 0.8173012733459473, 0.8156272172927856, 0.8126488924026489, 0.8086466193199158, 0.8081861138343811, 0.8061347007751465, 0.8061347007751465, 0.8060280084609985, 0.8060280084609985, 0.9097391963005066, 0.8460469245910645, 0.8460469245910645, 0.8460469245910645, 0.802811861038208, 0.8005372285842896, 0.8005372285842896, 0.7937288284301758, 0.7434825897216797, 0.7234790325164795, 0.7182866334915161, 0.7143551111221313, 0.7059990763664246, 0.7023681402206421, 0.7023681402206421, 0.7023681402206421, 0.6977938413619995, 0.6840468645095825, 0.6840468645095825, 0.6840468645095825, 0.6840468645095825, 0.6840468645095825, 0.6840468645095825, 0.6833488941192627, 0.682421088218689, 0.682421088218689, 0.682421088218689, 0.6778498291969299, 0.6778498291969299, 0.6778498291969299, 0.6777706146240234, 0.6707901358604431, 0.6689879298210144, 0.6689879298210144, 0.6687225103378296, 0.6682268381118774, 0.6646579504013062, 0.655017614364624, 0.655017614364624, 0.6511251926422119, 0.6429445147514343, 0.9097391963005066, 0.8460469245910645, 0.8460469245910645, 0.8460469245910645, 0.802811861038208, 0.8005372285842896, 0.8005372285842896, 0.7937288284301758, 0.7434825897216797, 0.7234790325164795, 0.7182866334915161, 0.7143551111221313, 0.7059990763664246, 0.7023681402206421, 0.7023681402206421, 0.7023681402206421, 0.6977938413619995, 0.6840468645095825, 0.6840468645095825, 0.6840468645095825, 0.6840468645095825, 0.6840468645095825, 0.6840468645095825, 0.6833488941192627, 0.682421088218689, 0.682421088218689, 0.682421088218689, 0.6778498291969299, 0.6778498291969299, 0.6778498291969299, 0.6777706146240234, 0.6707901358604431, 0.6689879298210144, 0.6689879298210144, 0.6687225103378296, 0.6682268381118774, 0.6646579504013062, 0.655017614364624, 0.655017614364624, 0.6511251926422119, 0.6429445147514343, 0.9493467807769775, 0.9244412779808044, 0.9042685031890869, 0.9035261273384094, 0.896577000617981, 0.8941102623939514, 0.8837569355964661, 0.8783575892448425, 0.8668264746665955, 0.8628257513046265, 0.8594658374786377, 0.8473003506660461, 0.8402186632156372, 0.8380661010742188, 0.8347304463386536, 0.8234688639640808, 0.8110145926475525, 0.8080711364746094, 0.7955562472343445, 0.7902815937995911, 0.7651933431625366, 0.7450246810913086, 0.7424039244651794, 0.734421968460083, 0.7063576579093933, 0.705629825592041, 0.7025793194770813, 0.6987249255180359, 0.6933835744857788, 0.6888644099235535, 0.6811469197273254, 0.6751523017883301, 0.6655810475349426, 0.6652465462684631, 0.6652465462684631, 0.6629372239112854, 0.6629372239112854, 0.6629372239112854, 0.6627476215362549, 0.6530790328979492, 0.6520212888717651, 0.9352506995201111, 0.9062347412109375, 0.9062347412109375, 0.9062347412109375, 0.8485581874847412, 0.8131669759750366, 0.7897839546203613, 0.7897839546203613, 0.774122953414917, 0.7654568552970886, 0.7641631364822388, 0.7478988170623779, 0.7422770857810974, 0.7409576773643494, 0.7409576773643494, 0.7409576773643494, 0.738761842250824, 0.738761842250824, 0.738761842250824, 0.738761842250824, 0.738761842250824, 0.738761842250824, 0.7357392311096191, 0.717276930809021, 0.717276930809021, 0.7171168327331543, 0.7171168327331543, 0.7171168327331543, 0.716755747795105, 0.7047099471092224, 0.7047099471092224, 0.6765755414962769, 0.6715120077133179, 0.6715120077133179, 0.6682698130607605, 0.6607940196990967, 0.6607940196990967, 0.6607940196990967, 0.6605090498924255, 0.6581626534461975, 0.6559146642684937, 0.9177365303039551, 0.9119845628738403, 0.9096488952636719, 0.9096488952636719, 0.9081484079360962, 0.904251217842102, 0.9018292427062988, 0.9018292427062988, 0.8618725538253784, 0.8584439754486084, 0.8584439754486084, 0.8584439754486084, 0.8582825660705566, 0.8569478988647461, 0.8542189598083496, 0.8541035652160645, 0.8541035652160645, 0.8513533473014832, 0.8485958576202393, 0.8485958576202393, 0.8482905626296997, 0.8478075861930847, 0.8451354503631592, 0.8448294401168823, 0.8437269330024719, 0.8431684374809265, 0.8390293717384338, 0.8390293717384338, 0.8378759622573853, 0.8347932696342468, 0.8284028768539429, 0.827637791633606, 0.8214833736419678, 0.8212018013000488, 0.8194168210029602, 0.8186293244361877, 0.8182486295700073, 0.814314603805542, 0.8141485452651978, 0.8141485452651978, 0.808264434337616, 0.9976428151130676, 0.9781461954116821, 0.9781461954116821, 0.9781461954116821, 0.9672877192497253, 0.9546871185302734, 0.948370099067688, 0.9467965364456177, 0.9439631700515747, 0.9439631700515747, 0.9429830312728882, 0.9429830312728882, 0.9393165707588196, 0.9393165707588196, 0.9247792363166809, 0.9160881042480469, 0.9152786731719971, 0.8973325490951538, 0.8946511745452881, 0.8854105472564697, 0.8774775266647339, 0.8768754005432129, 0.8726288080215454, 0.8686153888702393, 0.8574738502502441, 0.8558905124664307, 0.8558905124664307, 0.8549875020980835, 0.8549690842628479, 0.8540439605712891, 0.8517740964889526, 0.8517740964889526, 0.8514063358306885, 0.8505016565322876, 0.8435962796211243, 0.8400490880012512, 0.838626503944397, 0.8379431962966919, 0.8377485275268555, 0.836715817451477, 0.836715817451477, 0.9885457754135132, 0.9566552639007568, 0.9553619623184204, 0.9443875551223755, 0.9443875551223755, 0.9443875551223755, 0.9443875551223755, 0.9443875551223755, 0.9332281947135925, 0.9332281947135925, 0.9304504990577698, 0.9304504990577698, 0.9271864891052246, 0.9207314848899841, 0.9203027486801147, 0.9121007323265076, 0.9121007323265076, 0.9108822345733643, 0.9073163270950317, 0.9037560224533081, 0.9017616510391235, 0.9002354741096497, 0.8997653722763062, 0.8978051543235779, 0.8923460245132446, 0.8923460245132446, 0.8756341934204102, 0.8687677383422852, 0.8685656785964966, 0.8685656785964966, 0.8679837584495544, 0.8676613569259644, 0.8626586198806763, 0.858870804309845, 0.8570171594619751, 0.8570171594619751, 0.8561842441558838, 0.8547975420951843, 0.8519195318222046, 0.8489540219306946, 0.8447374701499939, 1.0, 1.0, 1.0, 1.0, 1.0, 1.0, 1.0, 1.0, 1.0, 1.0, 1.0, 1.0, 1.0, 1.0, 1.0, 1.0, 1.0, 1.0, 1.0, 1.0, 1.0, 1.0, 1.0, 0.9900484085083008, 0.9896509647369385, 0.9801968336105347, 0.9528630971908569, 0.9528630971908569, 0.9396994113922119, 0.9396994113922119, 0.9116767644882202, 0.9027641415596008, 0.8989138007164001, 0.8923777937889099, 0.8821513056755066, 0.8813478350639343, 0.8719934225082397, 0.8711957931518555, 0.8711957931518555, 0.8711957931518555, 0.8706673383712769, 0.9976428151130676, 0.9781461954116821, 0.9781461954116821, 0.9781461954116821, 0.9672877192497253, 0.9546871185302734, 0.948370099067688, 0.9467965364456177, 0.9439631700515747, 0.9439631700515747, 0.9429830312728882, 0.9429830312728882, 0.9393165707588196, 0.9393165707588196, 0.9247792363166809, 0.9160881042480469, 0.9152786731719971, 0.8973325490951538, 0.8946511745452881, 0.8854105472564697, 0.8774775266647339, 0.8768754005432129, 0.8726288080215454, 0.8686153888702393, 0.8574738502502441, 0.8558905124664307, 0.8558905124664307, 0.8549875020980835, 0.8549690842628479, 0.8540439605712891, 0.8517740964889526, 0.8517740964889526, 0.8514063358306885, 0.8505016565322876, 0.8435962796211243, 0.8400490880012512, 0.838626503944397, 0.8379431962966919, 0.8377485275268555, 0.836715817451477, 0.836715817451477, 0.8496619462966919, 0.8316603899002075, 0.8291205167770386, 0.7820874452590942, 0.7820874452590942, 0.7793135643005371, 0.7779886722564697, 0.7681766152381897, 0.7660828232765198, 0.7660626173019409, 0.759757936000824, 0.7574115991592407, 0.7509980797767639, 0.7509980797767639, 0.7480287551879883, 0.747874915599823, 0.7464084625244141, 0.7442857027053833, 0.7304282188415527, 0.7271254062652588, 0.7256792783737183, 0.7223233580589294, 0.7193299531936646, 0.7148916721343994, 0.7131490707397461, 0.7131490707397461, 0.7131490707397461, 0.7104533910751343, 0.7102032899856567, 0.7059305310249329, 0.705155074596405, 0.7043361663818359, 0.7017303705215454, 0.7012844085693359, 0.6991230845451355, 0.6979132890701294, 0.6979132890701294, 0.6968877911567688, 0.6968877911567688, 0.6958479881286621, 0.6926758885383606, 0.888468325138092, 0.8740639686584473, 0.8740639686584473, 0.8509222269058228, 0.839499294757843, 0.8171102404594421, 0.7892820835113525, 0.7716412544250488, 0.7625787258148193, 0.7614648938179016, 0.7585111260414124, 0.7436127066612244, 0.7413585186004639, 0.7396209239959717, 0.7383204698562622, 0.732237696647644, 0.7223139405250549, 0.7209348678588867, 0.7193589806556702, 0.7191710472106934, 0.7173556089401245, 0.7173556089401245, 0.7173556089401245, 0.7160305380821228, 0.7105890512466431, 0.7105890512466431, 0.7099814414978027, 0.7099814414978027, 0.709675669670105, 0.709675669670105, 0.7067266702651978, 0.7020403742790222, 0.7020403742790222, 0.6996925473213196, 0.6996925473213196, 0.6958529353141785, 0.6957566738128662, 0.6949033737182617, 0.6905200481414795, 0.6873031854629517, 0.6838266849517822, 0.9392657279968262, 0.937486469745636, 0.937486469745636, 0.9177169799804688, 0.9159396290779114, 0.9090681076049805, 0.9082458019256592, 0.8768402338027954, 0.863286554813385, 0.8544623851776123, 0.8508940935134888, 0.8470874428749084, 0.8467859029769897, 0.8279964923858643, 0.8279964923858643, 0.8144291639328003, 0.8061329126358032, 0.8033008575439453, 0.7992948889732361, 0.7991962432861328, 0.7991962432861328, 0.7977946996688843, 0.7957998514175415, 0.7957065105438232, 0.7957065105438232, 0.7952762842178345, 0.7945574522018433, 0.7909247875213623, 0.7905585169792175, 0.7905585169792175, 0.7904382944107056, 0.7894957661628723, 0.7872904539108276, 0.7818305492401123, 0.7767595648765564, 0.7729334831237793, 0.7643652558326721, 0.7643652558326721, 0.7643652558326721, 0.760437548160553, 0.7590619325637817, 0.9062701463699341, 0.8066403865814209, 0.7807842493057251, 0.7754436135292053, 0.7754436135292053, 0.7721590995788574, 0.7709296941757202, 0.7660318613052368, 0.7555851340293884, 0.7474518418312073, 0.739905834197998, 0.7387206554412842, 0.7308815121650696, 0.7242128849029541, 0.7224470973014832, 0.7224470973014832, 0.7222779989242554, 0.7222779989242554, 0.7147607803344727, 0.7140258550643921, 0.7140258550643921, 0.7107537388801575, 0.7107537388801575, 0.7083965539932251, 0.7059696912765503, 0.7031418085098267, 0.7031418085098267, 0.7030802965164185, 0.7021714448928833, 0.7005205154418945, 0.6991653442382812, 0.6965649724006653, 0.6953229904174805, 0.694598913192749, 0.6899999380111694, 0.6868244409561157, 0.6859696507453918, 0.6854541301727295, 0.682839572429657, 0.682679295539856, 0.6761291027069092, 0.7657651305198669, 0.765670657157898, 0.765670657157898, 0.7045257091522217, 0.6774738430976868, 0.6623104810714722, 0.6531696319580078, 0.6457844376564026, 0.6261519193649292, 0.6219725608825684, 0.620654284954071, 0.6191982626914978, 0.6191982626914978, 0.609624981880188, 0.6091108918190002, 0.5965717434883118, 0.581506609916687, 0.5733853578567505, 0.5695885419845581, 0.5630911588668823, 0.5626384615898132, 0.5626384615898132, 0.5566037893295288, 0.5534744262695312, 0.5534337759017944, 0.5464982390403748, 0.5455524921417236, 0.5422582030296326, 0.5378354787826538, 0.5354601740837097, 0.5324081778526306, 0.5286108255386353, 0.5286108255386353, 0.5253465175628662, 0.5238779187202454, 0.5238779187202454, 0.5236217975616455, 0.5236217975616455, 0.5230088829994202, 0.5219463109970093, 0.5219463109970093, 0.8699556589126587, 0.8401718139648438, 0.8081323504447937, 0.7457098960876465, 0.7355364561080933, 0.7078714370727539, 0.6952799558639526, 0.6634620428085327, 0.6614522933959961, 0.651466965675354, 0.6480213403701782, 0.6411024928092957, 0.6411024928092957, 0.630544126033783, 0.6179158687591553, 0.5934650897979736, 0.5934650897979736, 0.5765975117683411, 0.5750842690467834, 0.5747420191764832, 0.5747420191764832, 0.5687912702560425, 0.5666857361793518, 0.5634992718696594, 0.5547699332237244, 0.5532349944114685, 0.5532349944114685, 0.5531227588653564, 0.5424010753631592, 0.534174382686615, 0.5318097472190857, 0.5317988395690918, 0.5218935012817383, 0.5191609263420105, 0.5153648257255554, 0.5152435302734375, 0.5109545588493347, 0.5074003338813782, 0.5074003338813782, 0.5046405792236328, 0.4892565608024597, 0.9062701463699341, 0.8066403865814209, 0.7807842493057251, 0.7754436135292053, 0.7754436135292053, 0.7721590995788574, 0.7709296941757202, 0.7660318613052368, 0.7555851340293884, 0.7474518418312073, 0.739905834197998, 0.7387206554412842, 0.7308815121650696, 0.7242128849029541, 0.7224470973014832, 0.7224470973014832, 0.7222779989242554, 0.7222779989242554, 0.7147607803344727, 0.7140258550643921, 0.7140258550643921, 0.7107537388801575, 0.7107537388801575, 0.7083965539932251, 0.7059696912765503, 0.7031418085098267, 0.7031418085098267, 0.7030802965164185, 0.7021714448928833, 0.7005205154418945, 0.6991653442382812, 0.6965649724006653, 0.6953229904174805, 0.694598913192749, 0.6899999380111694, 0.6868244409561157, 0.6859696507453918, 0.6854541301727295, 0.682839572429657, 0.682679295539856, 0.6761291027069092, 1.0, 1.0, 1.0, 1.0, 1.0, 1.0, 1.0, 1.0, 1.0, 1.0, 1.0, 1.0, 1.0, 1.0, 1.0, 1.0, 0.9944208860397339, 0.9905295968055725, 0.9905295968055725, 0.9905295968055725, 0.9905295968055725, 0.9905295968055725, 0.9808494448661804, 0.9808494448661804, 0.9808494448661804, 0.9798116683959961, 0.9744719862937927, 0.9744719862937927, 0.9669567346572876, 0.9669567346572876, 0.9545735120773315, 0.9545735120773315, 0.9545735120773315, 0.9504737854003906, 0.9452416300773621, 0.9452416300773621, 0.9452416300773621, 0.9435021281242371, 0.9435021281242371, 0.9435021281242371, 0.9411081671714783, 1.0, 1.0, 1.0, 1.0, 1.0, 1.0, 1.0, 1.0, 1.0, 1.0, 1.0, 1.0, 1.0, 1.0, 1.0, 1.0, 0.9944208860397339, 0.9905295968055725, 0.9905295968055725, 0.9905295968055725, 0.9905295968055725, 0.9905295968055725, 0.9808494448661804, 0.9808494448661804, 0.9808494448661804, 0.9798116683959961, 0.9744719862937927, 0.9744719862937927, 0.9669567346572876, 0.9669567346572876, 0.9545735120773315, 0.9545735120773315, 0.9545735120773315, 0.9504737854003906, 0.9452416300773621, 0.9452416300773621, 0.9452416300773621, 0.9435021281242371, 0.9435021281242371, 0.9435021281242371, 0.9411081671714783, 0.9398715496063232, 0.8832873106002808, 0.8832873106002808, 0.8765910863876343, 0.8765910863876343, 0.8613219261169434, 0.85297691822052, 0.8174898624420166, 0.8153170347213745, 0.8153170347213745, 0.8150414228439331, 0.8145659565925598, 0.7981322407722473, 0.796714723110199, 0.796714723110199, 0.7949091196060181, 0.7949091196060181, 0.7949091196060181, 0.7949091196060181, 0.789965033531189, 0.7816845774650574, 0.7759459614753723, 0.7740294933319092, 0.7740294933319092, 0.7737823128700256, 0.7737823128700256, 0.7715936899185181, 0.7668019533157349, 0.7651765942573547, 0.7616372108459473, 0.757994532585144, 0.7524065971374512, 0.7469854950904846, 0.7458614110946655, 0.743948757648468, 0.7415343523025513, 0.7399240732192993, 0.7387595176696777, 0.7381738424301147, 0.7381738424301147, 0.7327588200569153, 1.0, 1.0, 1.0, 1.0, 1.0, 1.0, 1.0, 1.0, 1.0, 1.0, 1.0, 1.0, 1.0, 1.0, 1.0, 1.0, 0.9944208860397339, 0.9905295968055725, 0.9905295968055725, 0.9905295968055725, 0.9905295968055725, 0.9905295968055725, 0.9808494448661804, 0.9808494448661804, 0.9808494448661804, 0.9798116683959961, 0.9744719862937927, 0.9744719862937927, 0.9669567346572876, 0.9669567346572876, 0.9545735120773315, 0.9545735120773315, 0.9545735120773315, 0.9504737854003906, 0.9452416300773621, 0.9452416300773621, 0.9452416300773621, 0.9435021281242371, 0.9435021281242371, 0.9435021281242371, 0.9411081671714783, 0.9695177674293518, 0.9695177674293518, 0.8968499898910522, 0.8879124522209167, 0.8777036070823669, 0.869175136089325, 0.8608163595199585, 0.8548109531402588, 0.8498772978782654, 0.8450978994369507, 0.8372255563735962, 0.8372255563735962, 0.8274361491203308, 0.8272621035575867, 0.8272621035575867, 0.8248668313026428, 0.824647843837738, 0.824647843837738, 0.8227121233940125, 0.8139113187789917, 0.8139113187789917, 0.812803328037262, 0.8058006763458252, 0.8058006763458252, 0.8054883480072021, 0.8052049279212952, 0.8043004274368286, 0.8029115200042725, 0.8003694415092468, 0.8003694415092468, 0.8003694415092468, 0.7991394996643066, 0.7981918454170227, 0.7955729365348816, 0.7937085628509521, 0.7933970093727112, 0.7858265042304993, 0.7858265042304993, 0.7858265042304993, 0.7836799621582031, 0.7836486101150513, 0.9867261648178101, 0.8480928540229797, 0.8342849016189575, 0.8257077932357788, 0.8212882876396179, 0.8086245059967041, 0.798618733882904, 0.7955759763717651, 0.7851859331130981, 0.7785604596138, 0.7779886722564697, 0.776634693145752, 0.7725645303726196, 0.7713494300842285, 0.7709022760391235, 0.7678614854812622, 0.7662478089332581, 0.7602005004882812, 0.7544737458229065, 0.7533233165740967, 0.752949595451355, 0.7451817989349365, 0.7451817989349365, 0.739663302898407, 0.7380138635635376, 0.7329596877098083, 0.7327721118927002, 0.7304404973983765, 0.7293397188186646, 0.7261651754379272, 0.7261400818824768, 0.7257462739944458, 0.725636899471283, 0.724058985710144, 0.7231282591819763, 0.7230076193809509, 0.7230076193809509, 0.7223924398422241, 0.7217037677764893, 0.7214125990867615, 0.7204875946044922, 0.7964389324188232, 0.7625125646591187, 0.7480269074440002, 0.7442456483840942, 0.7374163866043091, 0.7337620258331299, 0.7055330276489258, 0.687975287437439, 0.687975287437439, 0.6707243323326111, 0.6684048175811768, 0.6684048175811768, 0.6594491004943848, 0.6571454405784607, 0.6276423931121826, 0.6224017143249512, 0.6144704818725586, 0.6094651818275452, 0.6092750430107117, 0.6071212291717529, 0.6071212291717529, 0.6040551662445068, 0.5886058211326599, 0.5878739356994629, 0.5872795581817627, 0.5863760709762573, 0.581099808216095, 0.5750330090522766, 0.5746109485626221, 0.5744403600692749, 0.5723339915275574, 0.567828893661499, 0.564230740070343, 0.5633624792098999, 0.5627568960189819, 0.560238242149353, 0.560238242149353, 0.5581337809562683, 0.5543071627616882, 0.5492461919784546, 0.5487229228019714, 0.9734591841697693, 0.9734591841697693, 0.8995101451873779, 0.8904274702072144, 0.8837052583694458, 0.8661141991615295, 0.8659798502922058, 0.8624164462089539, 0.8540998101234436, 0.8297935128211975, 0.8289399147033691, 0.8289399147033691, 0.8245093822479248, 0.8167781829833984, 0.8159909248352051, 0.8117789030075073, 0.8117789030075073, 0.810989260673523, 0.8050928115844727, 0.8050928115844727, 0.8044023513793945, 0.8034543395042419, 0.8024153709411621, 0.8024153709411621, 0.8023885488510132, 0.8021827340126038, 0.8015308380126953, 0.7979112267494202, 0.7947000861167908, 0.791430652141571, 0.791430652141571, 0.7904989123344421, 0.789039671421051, 0.7869737148284912, 0.7869737148284912, 0.7855926752090454, 0.7824302911758423, 0.7817971706390381, 0.7815167903900146, 0.7809706926345825, 0.7808557748794556, 0.7290802597999573, 0.7043443918228149, 0.7037250995635986, 0.6905232667922974, 0.6622467041015625, 0.6457422971725464, 0.6334652304649353, 0.6311805248260498, 0.6308449506759644, 0.6292427778244019, 0.629122257232666, 0.6243160963058472, 0.6236589550971985, 0.6234256625175476, 0.6234256625175476, 0.6234256625175476, 0.6179705262184143, 0.6145740151405334, 0.6097652316093445, 0.6069437861442566, 0.6064525842666626, 0.6002575755119324, 0.5960756540298462, 0.5938910245895386, 0.593449056148529, 0.593168318271637, 0.593168318271637, 0.5927807092666626, 0.5927807092666626, 0.5923286080360413, 0.5861104726791382, 0.5861104726791382, 0.5861104726791382, 0.5836657881736755, 0.5807270407676697, 0.5799584984779358, 0.5790602564811707, 0.5784614086151123, 0.5759580731391907, 0.5757526159286499, 0.5720968842506409, 0.7896045446395874, 0.7564160823822021, 0.7036194801330566, 0.7019119262695312, 0.6999136209487915, 0.6969612240791321, 0.696027398109436, 0.696027398109436, 0.696027398109436, 0.6955785751342773, 0.6843704581260681, 0.6823499202728271, 0.678122341632843, 0.6771436333656311, 0.6770724058151245, 0.6684750318527222, 0.6677048206329346, 0.6625443696975708, 0.6625443696975708, 0.6617721319198608, 0.6458940505981445, 0.6456263661384583, 0.6453150510787964, 0.6435455083847046, 0.6429280042648315, 0.6373997926712036, 0.635347843170166, 0.6347757577896118, 0.6333044767379761, 0.6324875354766846, 0.6270365715026855, 0.6253798604011536, 0.6215487718582153, 0.6129730343818665, 0.6109079718589783, 0.6054584383964539, 0.604513943195343, 0.604513943195343, 0.6021690964698792, 0.6017323136329651, 0.5954934358596802, 0.8563268780708313, 0.8517469167709351, 0.7964529991149902, 0.7691663503646851, 0.7452988028526306, 0.7238565683364868, 0.698153018951416, 0.6474799513816833, 0.634543240070343, 0.6309434175491333, 0.618341326713562, 0.6144569516181946, 0.6068716645240784, 0.6017407774925232, 0.5997387170791626, 0.5997387170791626, 0.5956355929374695, 0.5928167700767517, 0.5867525935173035, 0.5804797410964966, 0.5797851085662842, 0.5776000618934631, 0.5771750807762146, 0.5746689438819885, 0.5683728456497192, 0.5683728456497192, 0.5666664838790894, 0.566632866859436, 0.5627018213272095, 0.5609595775604248, 0.5538551807403564, 0.5517821311950684, 0.5498220920562744, 0.5495703220367432, 0.5495703220367432, 0.5488632917404175, 0.5463428497314453, 0.5463428497314453, 0.5463428497314453, 0.5458165407180786, 0.5458165407180786, 0.7896045446395874, 0.7564160823822021, 0.7036194801330566, 0.7019119262695312, 0.6999136209487915, 0.6969612240791321, 0.696027398109436, 0.696027398109436, 0.696027398109436, 0.6955785751342773, 0.6843704581260681, 0.6823499202728271, 0.678122341632843, 0.6771436333656311, 0.6770724058151245, 0.6684750318527222, 0.6677048206329346, 0.6625443696975708, 0.6625443696975708, 0.6617721319198608, 0.6458940505981445, 0.6456263661384583, 0.6453150510787964, 0.6435455083847046, 0.6429280042648315, 0.6373997926712036, 0.635347843170166, 0.6347757577896118, 0.6333044767379761, 0.6324875354766846, 0.6270365715026855, 0.6253798604011536, 0.6215487718582153, 0.6129730343818665, 0.6109079718589783, 0.6054584383964539, 0.604513943195343, 0.604513943195343, 0.6021690964698792, 0.6017323136329651, 0.5954934358596802], \"xaxis\": \"x\", \"yaxis\": \"y\"}],\n",
              "                        {\"barmode\": \"relative\", \"legend\": {\"tracegroupgap\": 0}, \"template\": {\"data\": {\"bar\": [{\"error_x\": {\"color\": \"#2a3f5f\"}, \"error_y\": {\"color\": \"#2a3f5f\"}, \"marker\": {\"line\": {\"color\": \"#E5ECF6\", \"width\": 0.5}}, \"type\": \"bar\"}], \"barpolar\": [{\"marker\": {\"line\": {\"color\": \"#E5ECF6\", \"width\": 0.5}}, \"type\": \"barpolar\"}], \"carpet\": [{\"aaxis\": {\"endlinecolor\": \"#2a3f5f\", \"gridcolor\": \"white\", \"linecolor\": \"white\", \"minorgridcolor\": \"white\", \"startlinecolor\": \"#2a3f5f\"}, \"baxis\": {\"endlinecolor\": \"#2a3f5f\", \"gridcolor\": \"white\", \"linecolor\": \"white\", \"minorgridcolor\": \"white\", \"startlinecolor\": \"#2a3f5f\"}, \"type\": \"carpet\"}], \"choropleth\": [{\"colorbar\": {\"outlinewidth\": 0, \"ticks\": \"\"}, \"type\": \"choropleth\"}], \"contour\": [{\"colorbar\": {\"outlinewidth\": 0, \"ticks\": \"\"}, \"colorscale\": [[0.0, \"#0d0887\"], [0.1111111111111111, \"#46039f\"], [0.2222222222222222, \"#7201a8\"], [0.3333333333333333, \"#9c179e\"], [0.4444444444444444, \"#bd3786\"], [0.5555555555555556, \"#d8576b\"], [0.6666666666666666, \"#ed7953\"], [0.7777777777777778, \"#fb9f3a\"], [0.8888888888888888, \"#fdca26\"], [1.0, \"#f0f921\"]], \"type\": \"contour\"}], \"contourcarpet\": [{\"colorbar\": {\"outlinewidth\": 0, \"ticks\": \"\"}, \"type\": \"contourcarpet\"}], \"heatmap\": [{\"colorbar\": {\"outlinewidth\": 0, \"ticks\": \"\"}, \"colorscale\": [[0.0, \"#0d0887\"], [0.1111111111111111, \"#46039f\"], [0.2222222222222222, \"#7201a8\"], [0.3333333333333333, \"#9c179e\"], [0.4444444444444444, \"#bd3786\"], [0.5555555555555556, \"#d8576b\"], [0.6666666666666666, \"#ed7953\"], [0.7777777777777778, \"#fb9f3a\"], [0.8888888888888888, \"#fdca26\"], [1.0, \"#f0f921\"]], \"type\": \"heatmap\"}], \"heatmapgl\": [{\"colorbar\": {\"outlinewidth\": 0, \"ticks\": \"\"}, \"colorscale\": [[0.0, \"#0d0887\"], [0.1111111111111111, \"#46039f\"], [0.2222222222222222, \"#7201a8\"], [0.3333333333333333, \"#9c179e\"], [0.4444444444444444, \"#bd3786\"], [0.5555555555555556, \"#d8576b\"], [0.6666666666666666, \"#ed7953\"], [0.7777777777777778, \"#fb9f3a\"], [0.8888888888888888, \"#fdca26\"], [1.0, \"#f0f921\"]], \"type\": \"heatmapgl\"}], \"histogram\": [{\"marker\": {\"colorbar\": {\"outlinewidth\": 0, \"ticks\": \"\"}}, \"type\": \"histogram\"}], \"histogram2d\": [{\"colorbar\": {\"outlinewidth\": 0, \"ticks\": \"\"}, \"colorscale\": [[0.0, \"#0d0887\"], [0.1111111111111111, \"#46039f\"], [0.2222222222222222, \"#7201a8\"], [0.3333333333333333, \"#9c179e\"], [0.4444444444444444, \"#bd3786\"], [0.5555555555555556, \"#d8576b\"], [0.6666666666666666, \"#ed7953\"], [0.7777777777777778, \"#fb9f3a\"], [0.8888888888888888, \"#fdca26\"], [1.0, \"#f0f921\"]], \"type\": \"histogram2d\"}], \"histogram2dcontour\": [{\"colorbar\": {\"outlinewidth\": 0, \"ticks\": \"\"}, \"colorscale\": [[0.0, \"#0d0887\"], [0.1111111111111111, \"#46039f\"], [0.2222222222222222, \"#7201a8\"], [0.3333333333333333, \"#9c179e\"], [0.4444444444444444, \"#bd3786\"], [0.5555555555555556, \"#d8576b\"], [0.6666666666666666, \"#ed7953\"], [0.7777777777777778, \"#fb9f3a\"], [0.8888888888888888, \"#fdca26\"], [1.0, \"#f0f921\"]], \"type\": \"histogram2dcontour\"}], \"mesh3d\": [{\"colorbar\": {\"outlinewidth\": 0, \"ticks\": \"\"}, \"type\": \"mesh3d\"}], \"parcoords\": [{\"line\": {\"colorbar\": {\"outlinewidth\": 0, \"ticks\": \"\"}}, \"type\": \"parcoords\"}], \"pie\": [{\"automargin\": true, \"type\": \"pie\"}], \"scatter\": [{\"marker\": {\"colorbar\": {\"outlinewidth\": 0, \"ticks\": \"\"}}, \"type\": \"scatter\"}], \"scatter3d\": [{\"line\": {\"colorbar\": {\"outlinewidth\": 0, \"ticks\": \"\"}}, \"marker\": {\"colorbar\": {\"outlinewidth\": 0, \"ticks\": \"\"}}, \"type\": \"scatter3d\"}], \"scattercarpet\": [{\"marker\": {\"colorbar\": {\"outlinewidth\": 0, \"ticks\": \"\"}}, \"type\": \"scattercarpet\"}], \"scattergeo\": [{\"marker\": {\"colorbar\": {\"outlinewidth\": 0, \"ticks\": \"\"}}, \"type\": \"scattergeo\"}], \"scattergl\": [{\"marker\": {\"colorbar\": {\"outlinewidth\": 0, \"ticks\": \"\"}}, \"type\": \"scattergl\"}], \"scattermapbox\": [{\"marker\": {\"colorbar\": {\"outlinewidth\": 0, \"ticks\": \"\"}}, \"type\": \"scattermapbox\"}], \"scatterpolar\": [{\"marker\": {\"colorbar\": {\"outlinewidth\": 0, \"ticks\": \"\"}}, \"type\": \"scatterpolar\"}], \"scatterpolargl\": [{\"marker\": {\"colorbar\": {\"outlinewidth\": 0, \"ticks\": \"\"}}, \"type\": \"scatterpolargl\"}], \"scatterternary\": [{\"marker\": {\"colorbar\": {\"outlinewidth\": 0, \"ticks\": \"\"}}, \"type\": \"scatterternary\"}], \"surface\": [{\"colorbar\": {\"outlinewidth\": 0, \"ticks\": \"\"}, \"colorscale\": [[0.0, \"#0d0887\"], [0.1111111111111111, \"#46039f\"], [0.2222222222222222, \"#7201a8\"], [0.3333333333333333, \"#9c179e\"], [0.4444444444444444, \"#bd3786\"], [0.5555555555555556, \"#d8576b\"], [0.6666666666666666, \"#ed7953\"], [0.7777777777777778, \"#fb9f3a\"], [0.8888888888888888, \"#fdca26\"], [1.0, \"#f0f921\"]], \"type\": \"surface\"}], \"table\": [{\"cells\": {\"fill\": {\"color\": \"#EBF0F8\"}, \"line\": {\"color\": \"white\"}}, \"header\": {\"fill\": {\"color\": \"#C8D4E3\"}, \"line\": {\"color\": \"white\"}}, \"type\": \"table\"}]}, \"layout\": {\"annotationdefaults\": {\"arrowcolor\": \"#2a3f5f\", \"arrowhead\": 0, \"arrowwidth\": 1}, \"coloraxis\": {\"colorbar\": {\"outlinewidth\": 0, \"ticks\": \"\"}}, \"colorscale\": {\"diverging\": [[0, \"#8e0152\"], [0.1, \"#c51b7d\"], [0.2, \"#de77ae\"], [0.3, \"#f1b6da\"], [0.4, \"#fde0ef\"], [0.5, \"#f7f7f7\"], [0.6, \"#e6f5d0\"], [0.7, \"#b8e186\"], [0.8, \"#7fbc41\"], [0.9, \"#4d9221\"], [1, \"#276419\"]], \"sequential\": [[0.0, \"#0d0887\"], [0.1111111111111111, \"#46039f\"], [0.2222222222222222, \"#7201a8\"], [0.3333333333333333, \"#9c179e\"], [0.4444444444444444, \"#bd3786\"], [0.5555555555555556, \"#d8576b\"], [0.6666666666666666, \"#ed7953\"], [0.7777777777777778, \"#fb9f3a\"], [0.8888888888888888, \"#fdca26\"], [1.0, \"#f0f921\"]], \"sequentialminus\": [[0.0, \"#0d0887\"], [0.1111111111111111, \"#46039f\"], [0.2222222222222222, \"#7201a8\"], [0.3333333333333333, \"#9c179e\"], [0.4444444444444444, \"#bd3786\"], [0.5555555555555556, \"#d8576b\"], [0.6666666666666666, \"#ed7953\"], [0.7777777777777778, \"#fb9f3a\"], [0.8888888888888888, \"#fdca26\"], [1.0, \"#f0f921\"]]}, \"colorway\": [\"#636efa\", \"#EF553B\", \"#00cc96\", \"#ab63fa\", \"#FFA15A\", \"#19d3f3\", \"#FF6692\", \"#B6E880\", \"#FF97FF\", \"#FECB52\"], \"font\": {\"color\": \"#2a3f5f\"}, \"geo\": {\"bgcolor\": \"white\", \"lakecolor\": \"white\", \"landcolor\": \"#E5ECF6\", \"showlakes\": true, \"showland\": true, \"subunitcolor\": \"white\"}, \"hoverlabel\": {\"align\": \"left\"}, \"hovermode\": \"closest\", \"mapbox\": {\"style\": \"light\"}, \"paper_bgcolor\": \"white\", \"plot_bgcolor\": \"#E5ECF6\", \"polar\": {\"angularaxis\": {\"gridcolor\": \"white\", \"linecolor\": \"white\", \"ticks\": \"\"}, \"bgcolor\": \"#E5ECF6\", \"radialaxis\": {\"gridcolor\": \"white\", \"linecolor\": \"white\", \"ticks\": \"\"}}, \"scene\": {\"xaxis\": {\"backgroundcolor\": \"#E5ECF6\", \"gridcolor\": \"white\", \"gridwidth\": 2, \"linecolor\": \"white\", \"showbackground\": true, \"ticks\": \"\", \"zerolinecolor\": \"white\"}, \"yaxis\": {\"backgroundcolor\": \"#E5ECF6\", \"gridcolor\": \"white\", \"gridwidth\": 2, \"linecolor\": \"white\", \"showbackground\": true, \"ticks\": \"\", \"zerolinecolor\": \"white\"}, \"zaxis\": {\"backgroundcolor\": \"#E5ECF6\", \"gridcolor\": \"white\", \"gridwidth\": 2, \"linecolor\": \"white\", \"showbackground\": true, \"ticks\": \"\", \"zerolinecolor\": \"white\"}}, \"shapedefaults\": {\"line\": {\"color\": \"#2a3f5f\"}}, \"ternary\": {\"aaxis\": {\"gridcolor\": \"white\", \"linecolor\": \"white\", \"ticks\": \"\"}, \"baxis\": {\"gridcolor\": \"white\", \"linecolor\": \"white\", \"ticks\": \"\"}, \"bgcolor\": \"#E5ECF6\", \"caxis\": {\"gridcolor\": \"white\", \"linecolor\": \"white\", \"ticks\": \"\"}}, \"title\": {\"x\": 0.05}, \"xaxis\": {\"automargin\": true, \"gridcolor\": \"white\", \"linecolor\": \"white\", \"ticks\": \"\", \"title\": {\"standoff\": 15}, \"zerolinecolor\": \"white\", \"zerolinewidth\": 2}, \"yaxis\": {\"automargin\": true, \"gridcolor\": \"white\", \"linecolor\": \"white\", \"ticks\": \"\", \"title\": {\"standoff\": 15}, \"zerolinecolor\": \"white\", \"zerolinewidth\": 2}}}, \"title\": {\"text\": \"Scores for TF-IDF\"}, \"xaxis\": {\"anchor\": \"y\", \"domain\": [0.0, 1.0], \"title\": {\"text\": \"score\"}}, \"yaxis\": {\"anchor\": \"x\", \"domain\": [0.0, 1.0], \"title\": {\"text\": \"count\"}}},\n",
              "                        {\"responsive\": true}\n",
              "                    ).then(function(){\n",
              "                            \n",
              "var gd = document.getElementById('72cfb5d0-f5a7-468c-b110-dd51acd0c606');\n",
              "var x = new MutationObserver(function (mutations, observer) {{\n",
              "        var display = window.getComputedStyle(gd).display;\n",
              "        if (!display || display === 'none') {{\n",
              "            console.log([gd, 'removed!']);\n",
              "            Plotly.purge(gd);\n",
              "            observer.disconnect();\n",
              "        }}\n",
              "}});\n",
              "\n",
              "// Listen for the removal of the full notebook cells\n",
              "var notebookContainer = gd.closest('#notebook-container');\n",
              "if (notebookContainer) {{\n",
              "    x.observe(notebookContainer, {childList: true});\n",
              "}}\n",
              "\n",
              "// Listen for the clearing of the current output cell\n",
              "var outputEl = gd.closest('.output');\n",
              "if (outputEl) {{\n",
              "    x.observe(outputEl, {childList: true});\n",
              "}}\n",
              "\n",
              "                        })\n",
              "                };\n",
              "                \n",
              "            </script>\n",
              "        </div>\n",
              "</body>\n",
              "</html>"
            ]
          },
          "metadata": {}
        }
      ]
    },
    {
      "cell_type": "code",
      "metadata": {
        "id": "QIBvHL1aOnOT"
      },
      "source": [
        "if use_wandb:\n",
        "  wandb.log({\"scores_hist\": fig})"
      ],
      "execution_count": 53,
      "outputs": []
    },
    {
      "cell_type": "code",
      "metadata": {
        "colab": {
          "base_uri": "https://localhost:8080/",
          "height": 206
        },
        "id": "ohaxVQ6d9iiD",
        "outputId": "24c2fd6f-6f41-43ee-ceb0-32121ab22605"
      },
      "source": [
        "result, details = recommend_tune(df_sim, \"These Foolish Things [jazz1350]\")\n",
        "result.head(5)"
      ],
      "execution_count": 54,
      "outputs": [
        {
          "output_type": "execute_result",
          "data": {
            "text/html": [
              "<div>\n",
              "<style scoped>\n",
              "    .dataframe tbody tr th:only-of-type {\n",
              "        vertical-align: middle;\n",
              "    }\n",
              "\n",
              "    .dataframe tbody tr th {\n",
              "        vertical-align: top;\n",
              "    }\n",
              "\n",
              "    .dataframe thead th {\n",
              "        text-align: right;\n",
              "    }\n",
              "</style>\n",
              "<table border=\"1\" class=\"dataframe\">\n",
              "  <thead>\n",
              "    <tr style=\"text-align: right;\">\n",
              "      <th></th>\n",
              "      <th>index</th>\n",
              "      <th>reference</th>\n",
              "      <th>similar_title</th>\n",
              "      <th>score</th>\n",
              "      <th>max</th>\n",
              "      <th>score_div_max</th>\n",
              "    </tr>\n",
              "  </thead>\n",
              "  <tbody>\n",
              "    <tr>\n",
              "      <th>0</th>\n",
              "      <td>0</td>\n",
              "      <td>These Foolish Things [jazz1350]</td>\n",
              "      <td>I Loves You Porgy [jazz1350]</td>\n",
              "      <td>0.986726</td>\n",
              "      <td>0.986726</td>\n",
              "      <td>1.000000</td>\n",
              "    </tr>\n",
              "    <tr>\n",
              "      <th>1</th>\n",
              "      <td>1</td>\n",
              "      <td>These Foolish Things [jazz1350]</td>\n",
              "      <td>More Than You Know [jazz1350]</td>\n",
              "      <td>0.796439</td>\n",
              "      <td>0.796439</td>\n",
              "      <td>1.000000</td>\n",
              "    </tr>\n",
              "    <tr>\n",
              "      <th>2</th>\n",
              "      <td>2</td>\n",
              "      <td>These Foolish Things [jazz1350]</td>\n",
              "      <td>What Are You Doing New Years [jazz1350]</td>\n",
              "      <td>0.762513</td>\n",
              "      <td>0.796439</td>\n",
              "      <td>0.957402</td>\n",
              "    </tr>\n",
              "    <tr>\n",
              "      <th>3</th>\n",
              "      <td>3</td>\n",
              "      <td>These Foolish Things [jazz1350]</td>\n",
              "      <td>They Can't Take That Away From Me [jazz1350]</td>\n",
              "      <td>0.748027</td>\n",
              "      <td>0.796439</td>\n",
              "      <td>0.939214</td>\n",
              "    </tr>\n",
              "    <tr>\n",
              "      <th>4</th>\n",
              "      <td>4</td>\n",
              "      <td>These Foolish Things [jazz1350]</td>\n",
              "      <td>If I Had You [jazz1350]</td>\n",
              "      <td>0.744246</td>\n",
              "      <td>0.796439</td>\n",
              "      <td>0.934467</td>\n",
              "    </tr>\n",
              "  </tbody>\n",
              "</table>\n",
              "</div>"
            ],
            "text/plain": [
              "   index                        reference  ...       max  score_div_max\n",
              "0      0  These Foolish Things [jazz1350]  ...  0.986726       1.000000\n",
              "1      1  These Foolish Things [jazz1350]  ...  0.796439       1.000000\n",
              "2      2  These Foolish Things [jazz1350]  ...  0.796439       0.957402\n",
              "3      3  These Foolish Things [jazz1350]  ...  0.796439       0.939214\n",
              "4      4  These Foolish Things [jazz1350]  ...  0.796439       0.934467\n",
              "\n",
              "[5 rows x 6 columns]"
            ]
          },
          "metadata": {},
          "execution_count": 54
        }
      ]
    },
    {
      "cell_type": "markdown",
      "metadata": {
        "id": "UveSDI6QWALe"
      },
      "source": [
        "Copy results into a dataframe for later logging to W&B"
      ]
    },
    {
      "cell_type": "code",
      "metadata": {
        "id": "AEEqdXBiT5bl"
      },
      "source": [
        "dd = pd.DataFrame(columns = recommender_results_cols)\n",
        "\n",
        "for tune in tunes_eval_list:\n",
        "  result, details = recommend_tune(df_sim, tune)\n",
        "  dd['id'] = result['index']\n",
        "  dd['method'] = 'tfidf'\n",
        "  dd['reference'] = tune\n",
        "  dd['similar'] = result['similar_title']\n",
        "  dd['score_div_max'] = result['score_div_max']\n",
        "  dd['score'] = result['score']\n",
        "\n",
        "recommender_results = recommender_results.append(dd)"
      ],
      "execution_count": 55,
      "outputs": []
    },
    {
      "cell_type": "markdown",
      "metadata": {
        "id": "wqaUEFqxXZYB"
      },
      "source": [
        "### Test Contrafacts"
      ]
    },
    {
      "cell_type": "markdown",
      "metadata": {
        "id": "563ncYqAfIyN"
      },
      "source": [
        "With the model, query the top N highest matches for each section. For a tune, if at least one section receives the recommendation  for the expected title, increase the match counter."
      ]
    },
    {
      "cell_type": "code",
      "metadata": {
        "id": "RVPtraR-hg0G"
      },
      "source": [
        "def test_contrafacts(tunes, index, model, N=15):\n",
        "  matches = 0\n",
        "  number_of_sections = 0\n",
        "  results = {}\n",
        "\n",
        "  for tune, similar_tune in tunes.items():\n",
        "    \n",
        "    # loop over all sections of the tune\n",
        "    section_matches = 0\n",
        "    for s1 in title_to_sectionid[tune]:\n",
        "      query = processed_corpus[s1]\n",
        "      query_bow = dictionary.doc2bow(query)\n",
        "\n",
        "      # perform a similarity query against the corpus\n",
        "      similarities = index[model[query_bow]]\n",
        "      sims = sorted(enumerate(similarities), key=lambda item: -item[1])\n",
        "\n",
        "      # check if the section matches the expected title; consider only the first 15 recommendations\n",
        "      i = 0\n",
        "      for sectionid, value in sims:\n",
        "        if i >= N:\n",
        "          break\n",
        "        i += 1\n",
        "        if sectionid_to_title[sectionid] == similar_tune:\n",
        "          section_matches += 1\n",
        "\n",
        "    # for each title, increase matches if at least one of the section matched the expected title\n",
        "    if section_matches > 0:\n",
        "      matches += 1  \n",
        "      results[tune] = 1\n",
        "    else:\n",
        "      results[tune] = 0\n",
        "  \n",
        "  return matches, results\n"
      ],
      "execution_count": 56,
      "outputs": []
    },
    {
      "cell_type": "code",
      "metadata": {
        "colab": {
          "base_uri": "https://localhost:8080/"
        },
        "id": "Q628rO5DhxWD",
        "outputId": "4e5f5a79-45dd-4768-e4d6-df50a1e9b9da"
      },
      "source": [
        "topN = 15\n",
        "matches, results = test_contrafacts(contrafacts, index_tfidf, tfidf, topN)\n",
        "\n",
        "[print(f\"{val}: {rr}\") for rr, val in results.items()] \n",
        "print() \n",
        "print(f\"Found matches: {matches} out of {len(contrafacts)}: {100*matches/len(contrafacts):.3f}%\")"
      ],
      "execution_count": 57,
      "outputs": [
        {
          "output_type": "stream",
          "name": "stdout",
          "text": [
            "0: 26-2 [jazz1350]\n",
            "0: 52nd Street Theme [jazz1350]\n",
            "1: Ablution [jazz1350]\n",
            "1: Anthropology [jazz1350]\n",
            "0: Ballade [jazz1350]\n",
            "1: Bright Mississippi [jazz1350]\n",
            "1: C.T.A. [jazz1350]\n",
            "1: Cottontail [jazz1350]\n",
            "1: Countdown [jazz1350]\n",
            "0: Dewey Square [jazz1350]\n",
            "1: Dexterity [jazz1350]\n",
            "1: Dig [jazz1350]\n",
            "1: Donna Lee [jazz1350]\n",
            "0: Don't Be That Way [jazz1350]\n",
            "1: Evidence [jazz1350]\n",
            "1: Flintstones [jazz1350]\n",
            "0: Four On Six [jazz1350]\n",
            "1: Freight Train [jazz1350]\n",
            "0: Good Bait [jazz1350]\n",
            "1: Hackensack [jazz1350]\n",
            "1: Half Nelson [jazz1350]\n",
            "1: Hot House [jazz1350]\n",
            "1: Impressions [jazz1350]\n",
            "0: In A Mellow Tone (In A Mellotone) [jazz1350]\n",
            "1: In Walked Bud [jazz1350]\n",
            "1: Ko Ko [jazz1350]\n",
            "0: Lennie's Pennies [jazz1350]\n",
            "0: Little Rootie Tootie [jazz1350]\n",
            "0: Little Willie Leaps [jazz1350]\n",
            "0: Lullaby Of Birdland [jazz1350]\n",
            "0: My Little Suede Shoes [jazz1350]\n",
            "1: Ornithology [jazz1350]\n",
            "0: Quasimodo (Theme) [jazz1350]\n",
            "0: Room 608 [jazz1350]\n",
            "1: Satellite [jazz1350]\n",
            "1: Scrapple From The Apple [jazz1350]\n",
            "1: Tour De Force [jazz1350]\n",
            "1: Wow [jazz1350]\n",
            "1: Yardbird Suite [jazz1350]\n",
            "0: Sweet Sue, Just You [jazz1350]\n",
            "0: These Foolish Things [jazz1350]\n",
            "1: Misty [jazz1350]\n",
            "\n",
            "Found matches: 25 out of 42: 59.524%\n"
          ]
        }
      ]
    },
    {
      "cell_type": "code",
      "metadata": {
        "id": "8lKZukYybvMJ"
      },
      "source": [
        "model_name = 'tfidf'\n",
        "if use_wandb:\n",
        "  wandb.log(\n",
        "      {model_name: {\n",
        "                'contrafacts': {\n",
        "                    'topN': topN,\n",
        "                    'success': matches/len(contrafacts),\n",
        "                    #'results': results\n",
        "                    }\n",
        "                   },\n",
        "       'all_models': {\n",
        "           model_name: wandb.Table(\n",
        "               columns=[\"Title\", \"Match\"],\n",
        "               data=[[key, value] for key, value in results.items()]),\n",
        "       }\n",
        "       })"
      ],
      "execution_count": 58,
      "outputs": []
    },
    {
      "cell_type": "markdown",
      "metadata": {
        "id": "Phw7fBDk0px7"
      },
      "source": [
        "## Store TF-IDF Model to W&B"
      ]
    },
    {
      "cell_type": "code",
      "metadata": {
        "id": "KdYWJX-60pdd"
      },
      "source": [
        "if use_wandb:\n",
        "  model_artifact = wandb.Artifact(\n",
        "      \"model_tfidf\", \n",
        "      type=\"model\",\n",
        "      description=\"TF-IDF Model\",\n",
        "      metadata=\"\")\n",
        "\n",
        "  model_artifact.add_file(\"/content/index/tfidf.model\")\n",
        "  model_artifact.add_file(\"/content/index/tfidf.index\")\n",
        "  wandb.log_artifact(model_artifact)"
      ],
      "execution_count": 59,
      "outputs": []
    },
    {
      "cell_type": "markdown",
      "metadata": {
        "id": "Pj0mpWpahPu1"
      },
      "source": [
        "## Get Recommender Data for WebApp\n",
        "\n"
      ]
    },
    {
      "cell_type": "code",
      "metadata": {
        "id": "buRbSTWehvPP"
      },
      "source": [
        "tune_test = [\"These Foolish Things [jazz1350]\",\n",
        "             \"Misty [jazz1350]\"]"
      ],
      "execution_count": 60,
      "outputs": []
    },
    {
      "cell_type": "code",
      "metadata": {
        "id": "kwdXs-pZjKKD",
        "outputId": "728c3bfc-5080-40c9-dae2-37c1ca7f3128",
        "colab": {
          "base_uri": "https://localhost:8080/"
        }
      },
      "source": [
        "%%time\n",
        "tunes = tunes_eval_list\n",
        "\n",
        "df_sim = get_sim_scores(tunes, index_tfidf, tfidf)\n",
        "\n",
        "result = None\n",
        "for tune in tunes:\n",
        "  tune_result, details = recommend_tune(df_sim, tune)\n",
        "  if result is None:\n",
        "    result = pd.DataFrame(columns=tune_result.columns)\n",
        "  result = result.append(tune_result)"
      ],
      "execution_count": 61,
      "outputs": [
        {
          "output_type": "stream",
          "name": "stdout",
          "text": [
            "\n",
            "--------------------------------------------------\n",
            "125 After You've Gone, section1 (A)\n",
            "126 After You've Gone, section2 (B)\n",
            "127 After You've Gone, section3 (A)\n",
            "128 After You've Gone, section4 (C)\n",
            "\n",
            "--------------------------------------------------\n",
            "188 All God's Chillun Got Rhythm, section1 (A)\n",
            "189 All God's Chillun Got Rhythm, section2 (B)\n",
            "190 All God's Chillun Got Rhythm, section3 (A)\n",
            "191 All God's Chillun Got Rhythm, section4 (C)\n",
            "\n",
            "--------------------------------------------------\n",
            "198 All Of Me, section1 (A)\n",
            "199 All Of Me, section2 (B)\n",
            "200 All Of Me, section3 (A)\n",
            "201 All Of Me, section4 (C)\n",
            "\n",
            "--------------------------------------------------\n",
            "474 Blood Count, section1 (A)\n",
            "475 Blood Count, section2 (A)\n",
            "476 Blood Count, section3 (B)\n",
            "477 Blood Count, section4 (A)\n",
            "478 Blood Count, section5 (C)\n",
            "\n",
            "--------------------------------------------------\n",
            "496 Blue Moon, section1 (A)\n",
            "497 Blue Moon, section2 (A)\n",
            "498 Blue Moon, section3 (B)\n",
            "499 Blue Moon, section4 (A)\n",
            "\n",
            "--------------------------------------------------\n",
            "626 But Beautiful, section1 (A)\n",
            "627 But Beautiful, section2 (B)\n",
            "628 But Beautiful, section3 (A)\n",
            "629 But Beautiful, section4 (C)\n",
            "\n",
            "--------------------------------------------------\n",
            "653 Bye Bye Blackbird, section1 (A)\n",
            "654 Bye Bye Blackbird, section2 (B)\n",
            "\n",
            "--------------------------------------------------\n",
            "676 Call Me Irresponsible, section1 (A)\n",
            "677 Call Me Irresponsible, section2 (B)\n",
            "678 Call Me Irresponsible, section3 (A)\n",
            "679 Call Me Irresponsible, section4 (B)\n",
            "\n",
            "--------------------------------------------------\n",
            "826 Corcovado, section1 (A)\n",
            "827 Corcovado, section2 (B)\n",
            "828 Corcovado, section3 (A)\n",
            "829 Corcovado, section4 (C)\n",
            "\n",
            "--------------------------------------------------\n",
            "997 Dinah, section1 (A)\n",
            "998 Dinah, section2 (A)\n",
            "999 Dinah, section3 (B)\n",
            "1000 Dinah, section4 (A)\n",
            "\n",
            "--------------------------------------------------\n",
            "1125 East Of The Sun, section1 (A)\n",
            "1126 East Of The Sun, section2 (B)\n",
            "1127 East Of The Sun, section3 (A)\n",
            "1128 East Of The Sun, section4 (C)\n",
            "\n",
            "--------------------------------------------------\n",
            "1287 Footprints, section0 (nan)\n",
            "\n",
            "--------------------------------------------------\n",
            "1379 Giant Steps, section0 (nan)\n",
            "\n",
            "--------------------------------------------------\n",
            "1538 Honeysuckle Rose, section1 (A)\n",
            "1539 Honeysuckle Rose, section2 (A)\n",
            "1540 Honeysuckle Rose, section3 (B)\n",
            "1541 Honeysuckle Rose, section4 (A)\n",
            "\n",
            "--------------------------------------------------\n",
            "1647 I Got Rhythm, section1 (A)\n",
            "1648 I Got Rhythm, section2 (A)\n",
            "1649 I Got Rhythm, section3 (B)\n",
            "1650 I Got Rhythm, section4 (A)\n",
            "\n",
            "--------------------------------------------------\n",
            "2670 Misty, section1 (A)\n",
            "2671 Misty, section2 (A)\n",
            "2672 Misty, section3 (B)\n",
            "2673 Misty, section4 (A)\n",
            "\n",
            "--------------------------------------------------\n",
            "2857 Naima, section1 (A)\n",
            "2858 Naima, section2 (A)\n",
            "2859 Naima, section3 (B)\n",
            "2860 Naima, section4 (A)\n",
            "\n",
            "--------------------------------------------------\n",
            "5044 Old Fashioned Love, section0 (nan)\n",
            "\n",
            "--------------------------------------------------\n",
            "3142 Perdido, section1 (A)\n",
            "3143 Perdido, section2 (A)\n",
            "3144 Perdido, section3 (B)\n",
            "3145 Perdido, section4 (A)\n",
            "\n",
            "--------------------------------------------------\n",
            "3276 Rockin' Chair, section1 (A)\n",
            "3277 Rockin' Chair, section2 (B)\n",
            "3278 Rockin' Chair, section3 (A)\n",
            "\n",
            "--------------------------------------------------\n",
            "3578 Sophisticated Lady, section1 (A)\n",
            "3579 Sophisticated Lady, section2 (A)\n",
            "3580 Sophisticated Lady, section3 (B)\n",
            "3581 Sophisticated Lady, section4 (A)\n",
            "\n",
            "--------------------------------------------------\n",
            "3746 Sweet Sue, Just You, section1 (A)\n",
            "3747 Sweet Sue, Just You, section2 (A)\n",
            "3748 Sweet Sue, Just You, section3 (B)\n",
            "3749 Sweet Sue, Just You, section4 (A)\n",
            "\n",
            "--------------------------------------------------\n",
            "3860 These Foolish Things, section1 (A)\n",
            "3861 These Foolish Things, section2 (A)\n",
            "3862 These Foolish Things, section3 (B)\n",
            "3863 These Foolish Things, section4 (A)\n",
            "\n",
            "--------------------------------------------------\n",
            "4146 We'll Be Together Again, section1 (A)\n",
            "4147 We'll Be Together Again, section2 (A)\n",
            "4148 We'll Be Together Again, section3 (B)\n",
            "4149 We'll Be Together Again, section4 (A)\n",
            "CPU times: user 16.3 s, sys: 384 ms, total: 16.7 s\n",
            "Wall time: 16.3 s\n"
          ]
        }
      ]
    },
    {
      "cell_type": "code",
      "metadata": {
        "id": "K0OJnYy8kGQG",
        "outputId": "7a9f0bf3-226d-44bc-e083-c3e676ae86d1",
        "colab": {
          "base_uri": "https://localhost:8080/",
          "height": 424
        }
      },
      "source": [
        "result"
      ],
      "execution_count": 62,
      "outputs": [
        {
          "output_type": "execute_result",
          "data": {
            "text/html": [
              "<div>\n",
              "<style scoped>\n",
              "    .dataframe tbody tr th:only-of-type {\n",
              "        vertical-align: middle;\n",
              "    }\n",
              "\n",
              "    .dataframe tbody tr th {\n",
              "        vertical-align: top;\n",
              "    }\n",
              "\n",
              "    .dataframe thead th {\n",
              "        text-align: right;\n",
              "    }\n",
              "</style>\n",
              "<table border=\"1\" class=\"dataframe\">\n",
              "  <thead>\n",
              "    <tr style=\"text-align: right;\">\n",
              "      <th></th>\n",
              "      <th>index</th>\n",
              "      <th>reference</th>\n",
              "      <th>similar_title</th>\n",
              "      <th>score</th>\n",
              "      <th>max</th>\n",
              "      <th>score_div_max</th>\n",
              "    </tr>\n",
              "  </thead>\n",
              "  <tbody>\n",
              "    <tr>\n",
              "      <th>0</th>\n",
              "      <td>0</td>\n",
              "      <td>After You've Gone [jazz1350]</td>\n",
              "      <td>Little Girl Blue [jazz1350]</td>\n",
              "      <td>0.798833</td>\n",
              "      <td>0.798833</td>\n",
              "      <td>1.000000</td>\n",
              "    </tr>\n",
              "    <tr>\n",
              "      <th>1</th>\n",
              "      <td>1</td>\n",
              "      <td>After You've Gone [jazz1350]</td>\n",
              "      <td>Take The A Train [jazz1350]</td>\n",
              "      <td>0.981448</td>\n",
              "      <td>0.981448</td>\n",
              "      <td>1.000000</td>\n",
              "    </tr>\n",
              "    <tr>\n",
              "      <th>2</th>\n",
              "      <td>2</td>\n",
              "      <td>After You've Gone [jazz1350]</td>\n",
              "      <td>In The Middle Of A Kiss [jazz1350]</td>\n",
              "      <td>0.919650</td>\n",
              "      <td>0.919650</td>\n",
              "      <td>1.000000</td>\n",
              "    </tr>\n",
              "    <tr>\n",
              "      <th>3</th>\n",
              "      <td>3</td>\n",
              "      <td>After You've Gone [jazz1350]</td>\n",
              "      <td>Always [jazz1350]</td>\n",
              "      <td>0.903884</td>\n",
              "      <td>0.919650</td>\n",
              "      <td>0.982856</td>\n",
              "    </tr>\n",
              "    <tr>\n",
              "      <th>4</th>\n",
              "      <td>4</td>\n",
              "      <td>After You've Gone [jazz1350]</td>\n",
              "      <td>Party's Over, The [jazz1350]</td>\n",
              "      <td>0.757179</td>\n",
              "      <td>0.798833</td>\n",
              "      <td>0.947857</td>\n",
              "    </tr>\n",
              "    <tr>\n",
              "      <th>...</th>\n",
              "      <td>...</td>\n",
              "      <td>...</td>\n",
              "      <td>...</td>\n",
              "      <td>...</td>\n",
              "      <td>...</td>\n",
              "      <td>...</td>\n",
              "    </tr>\n",
              "    <tr>\n",
              "      <th>51</th>\n",
              "      <td>51</td>\n",
              "      <td>We'll Be Together Again [jazz1350]</td>\n",
              "      <td>Very Thought Of You, The [jazz1350]</td>\n",
              "      <td>0.574669</td>\n",
              "      <td>0.856327</td>\n",
              "      <td>0.671086</td>\n",
              "    </tr>\n",
              "    <tr>\n",
              "      <th>52</th>\n",
              "      <td>52</td>\n",
              "      <td>We'll Be Together Again [jazz1350]</td>\n",
              "      <td>Happiness Is A Thing Called Joe [jazz1350]</td>\n",
              "      <td>0.566666</td>\n",
              "      <td>0.856327</td>\n",
              "      <td>0.661741</td>\n",
              "    </tr>\n",
              "    <tr>\n",
              "      <th>53</th>\n",
              "      <td>53</td>\n",
              "      <td>We'll Be Together Again [jazz1350]</td>\n",
              "      <td>Black And Blue [jazz1350]</td>\n",
              "      <td>0.566633</td>\n",
              "      <td>0.856327</td>\n",
              "      <td>0.661702</td>\n",
              "    </tr>\n",
              "    <tr>\n",
              "      <th>54</th>\n",
              "      <td>54</td>\n",
              "      <td>We'll Be Together Again [jazz1350]</td>\n",
              "      <td>In Pursuit Of The 27th Man [jazz1350]</td>\n",
              "      <td>0.562702</td>\n",
              "      <td>0.856327</td>\n",
              "      <td>0.657111</td>\n",
              "    </tr>\n",
              "    <tr>\n",
              "      <th>55</th>\n",
              "      <td>55</td>\n",
              "      <td>We'll Be Together Again [jazz1350]</td>\n",
              "      <td>Love Song Of The Nile [trad]</td>\n",
              "      <td>0.560960</td>\n",
              "      <td>0.856327</td>\n",
              "      <td>0.655076</td>\n",
              "    </tr>\n",
              "  </tbody>\n",
              "</table>\n",
              "<p>1337 rows × 6 columns</p>\n",
              "</div>"
            ],
            "text/plain": [
              "   index                           reference  ...       max  score_div_max\n",
              "0      0        After You've Gone [jazz1350]  ...  0.798833       1.000000\n",
              "1      1        After You've Gone [jazz1350]  ...  0.981448       1.000000\n",
              "2      2        After You've Gone [jazz1350]  ...  0.919650       1.000000\n",
              "3      3        After You've Gone [jazz1350]  ...  0.919650       0.982856\n",
              "4      4        After You've Gone [jazz1350]  ...  0.798833       0.947857\n",
              "..   ...                                 ...  ...       ...            ...\n",
              "51    51  We'll Be Together Again [jazz1350]  ...  0.856327       0.671086\n",
              "52    52  We'll Be Together Again [jazz1350]  ...  0.856327       0.661741\n",
              "53    53  We'll Be Together Again [jazz1350]  ...  0.856327       0.661702\n",
              "54    54  We'll Be Together Again [jazz1350]  ...  0.856327       0.657111\n",
              "55    55  We'll Be Together Again [jazz1350]  ...  0.856327       0.655076\n",
              "\n",
              "[1337 rows x 6 columns]"
            ]
          },
          "metadata": {},
          "execution_count": 62
        }
      ]
    },
    {
      "cell_type": "code",
      "metadata": {
        "id": "uyJxqE5bnx7V"
      },
      "source": [
        "result.to_csv('output/recommender_tfidf.csv', sep='\\t', encoding='utf8')\n",
        "\n",
        "if use_wandb:\n",
        "  model_artifact = wandb.Artifact(\n",
        "      \"recommender_tfidf\", \n",
        "      type=\"csv\",\n",
        "      description=\"Recommendations for each Tune using TF-IDF Model (csv file)\",\n",
        "      metadata=\"\")\n",
        "\n",
        "  model_artifact.add_file(\"'output/recommender_tfidf.csv'\")\n",
        "  wandb.log_artifact(model_artifact)"
      ],
      "execution_count": 63,
      "outputs": []
    },
    {
      "cell_type": "markdown",
      "metadata": {
        "id": "99xHBRsd--OB"
      },
      "source": [
        "# LSA (Latent Semantic Analysis), aka LSI (Latent Semantic Index) "
      ]
    },
    {
      "cell_type": "code",
      "metadata": {
        "id": "adsW9Uh9_JXs"
      },
      "source": [
        "from collections import defaultdict"
      ],
      "execution_count": 64,
      "outputs": []
    },
    {
      "cell_type": "code",
      "metadata": {
        "colab": {
          "base_uri": "https://localhost:8080/"
        },
        "id": "s3AJZGRD_IHW",
        "outputId": "29884e87-19c7-4628-9803-77e7ae11e509"
      },
      "source": [
        "num_topics = lsi_config['num_topics']\n",
        "\n",
        "# remove words that appear only once\n",
        "frequency = defaultdict(int)\n",
        "for text in processed_corpus:\n",
        "    for token in text:\n",
        "        frequency[token] += 1\n",
        "\n",
        "data = [[token for token in text if frequency[token] > 1] for text in processed_corpus]\n",
        "dictionary = corpora.Dictionary(data)\n",
        "\n",
        "# doc2bow counts the number of occurences of each distinct word,\n",
        "# converts the word to its integer word id and returns the result\n",
        "# as a sparse vector\n",
        "\n",
        "bow_corpus = [dictionary.doc2bow(text) for text in data]\n",
        "lsi = LsiModel(bow_corpus, id2word=dictionary, num_topics=num_topics)  # num_topics can be maximum the size of the number of unique tokens"
      ],
      "execution_count": 65,
      "outputs": [
        {
          "output_type": "stream",
          "name": "stderr",
          "text": [
            "2021-11-26 19:26:06,839 : INFO : adding document #0 to Dictionary(0 unique tokens: [])\n",
            "2021-11-26 19:26:06,962 : INFO : built Dictionary(72 unique tokens: ['Am', 'B7', 'C', 'C#', 'C7']...) from 5391 documents (total 82622 corpus positions)\n",
            "2021-11-26 19:26:06,964 : INFO : Dictionary lifecycle event {'msg': \"built Dictionary(72 unique tokens: ['Am', 'B7', 'C', 'C#', 'C7']...) from 5391 documents (total 82622 corpus positions)\", 'datetime': '2021-11-26T19:26:06.964888', 'gensim': '4.1.2', 'python': '3.7.12 (default, Sep 10 2021, 00:21:48) \\n[GCC 7.5.0]', 'platform': 'Linux-5.4.104+-x86_64-with-Ubuntu-18.04-bionic', 'event': 'created'}\n",
            "2021-11-26 19:26:07,028 : INFO : using serial LSI version on this node\n",
            "2021-11-26 19:26:07,031 : INFO : updating model with new documents\n",
            "2021-11-26 19:26:07,034 : INFO : preparing a new chunk of documents\n",
            "2021-11-26 19:26:07,071 : INFO : using 100 extra samples and 2 power iterations\n",
            "2021-11-26 19:26:07,074 : INFO : 1st phase: constructing (72, 300) action matrix\n",
            "2021-11-26 19:26:07,176 : INFO : orthonormalizing (72, 300) action matrix\n",
            "2021-11-26 19:26:07,208 : INFO : 2nd phase: running dense svd on (72, 5391) matrix\n",
            "2021-11-26 19:26:07,277 : INFO : computing the final decomposition\n",
            "2021-11-26 19:26:07,280 : INFO : keeping 72 factors (discarding 0.000% of energy spectrum)\n",
            "2021-11-26 19:26:07,287 : INFO : processed documents up to #5391\n",
            "2021-11-26 19:26:07,290 : INFO : topic #0(398.310): 0.714*\"C\" + 0.508*\"G7\" + 0.286*\"Dm\" + 0.176*\"D7\" + 0.168*\"A7\" + 0.160*\"F\" + 0.150*\"Am\" + 0.115*\"C7\" + 0.092*\"E7\" + 0.080*\"Em\"\n",
            "2021-11-26 19:26:07,293 : INFO : topic #1(168.270): 0.780*\"Am\" + -0.378*\"C\" + 0.342*\"E7\" + 0.266*\"Dm\" + 0.114*\"Bm7b5\" + 0.097*\"Em\" + 0.088*\"A7\" + 0.080*\"D7\" + 0.071*\"F7\" + 0.066*\"B7\"\n",
            "2021-11-26 19:26:07,296 : INFO : topic #2(129.738): -0.652*\"Dm\" + 0.363*\"Am\" + 0.348*\"C\" + -0.270*\"A7\" + -0.263*\"G7\" + 0.232*\"F\" + -0.229*\"Em\" + 0.181*\"E7\" + 0.146*\"D7\" + 0.065*\"G\"\n",
            "2021-11-26 19:26:07,299 : INFO : topic #3(113.617): 0.724*\"C7\" + -0.341*\"C\" + 0.300*\"D7\" + 0.272*\"G7\" + -0.245*\"Dm\" + 0.218*\"F\" + -0.179*\"Am\" + 0.130*\"F7\" + 0.102*\"Gm\" + 0.094*\"Bb7\"\n",
            "2021-11-26 19:26:07,302 : INFO : topic #4(104.284): -0.579*\"D7\" + 0.415*\"C7\" + 0.354*\"F\" + -0.307*\"G7\" + -0.293*\"A7\" + 0.279*\"Dm\" + -0.159*\"E7\" + 0.141*\"C\" + 0.137*\"Em\" + 0.114*\"Gm\"\n",
            "2021-11-26 19:26:07,305 : INFO : LsiModel lifecycle event {'msg': 'trained LsiModel(num_terms=72, num_topics=200, decay=1.0, chunksize=20000) in 0.27s', 'datetime': '2021-11-26T19:26:07.305752', 'gensim': '4.1.2', 'python': '3.7.12 (default, Sep 10 2021, 00:21:48) \\n[GCC 7.5.0]', 'platform': 'Linux-5.4.104+-x86_64-with-Ubuntu-18.04-bionic', 'event': 'created'}\n"
          ]
        }
      ]
    },
    {
      "cell_type": "code",
      "metadata": {
        "id": "EvxSQFfBBNMJ",
        "colab": {
          "base_uri": "https://localhost:8080/"
        },
        "outputId": "a2abad9d-e649-4180-a532-a3293ab1294d"
      },
      "source": [
        "index_lsi = similarities.Similarity('/content/index/index_lsi', lsi[bow_corpus], num_features=len(dictionary))"
      ],
      "execution_count": 66,
      "outputs": [
        {
          "output_type": "stream",
          "name": "stderr",
          "text": [
            "2021-11-26 19:26:07,321 : INFO : starting similarity index under /content/index/index_lsi\n"
          ]
        }
      ]
    },
    {
      "cell_type": "code",
      "metadata": {
        "id": "3saA6NY5Tzer"
      },
      "source": [
        "#index_lsi = similarities.SparseMatrixSimilarity(lsi[bow_corpus], num_features = len(dictionary))\n",
        "#index_lsi = similarities.MatrixSimilarity(lsi[bow_corpus])  # transform corpus to LSI space and index it\n"
      ],
      "execution_count": 67,
      "outputs": []
    },
    {
      "cell_type": "code",
      "metadata": {
        "colab": {
          "base_uri": "https://localhost:8080/"
        },
        "id": "F5pbDMVyfEtS",
        "outputId": "688b5dd1-9f9a-4057-9f75-41e8cab48352"
      },
      "source": [
        "lsi.save('/content/index/lsi.model')\n",
        "index_lsi.save('/content/index/lsi_matrixsim.index')\n"
      ],
      "execution_count": 68,
      "outputs": [
        {
          "output_type": "stream",
          "name": "stderr",
          "text": [
            "2021-11-26 19:26:08,013 : INFO : Projection lifecycle event {'fname_or_handle': '/content/index/lsi.model.projection', 'separately': 'None', 'sep_limit': 10485760, 'ignore': frozenset(), 'datetime': '2021-11-26T19:26:08.013470', 'gensim': '4.1.2', 'python': '3.7.12 (default, Sep 10 2021, 00:21:48) \\n[GCC 7.5.0]', 'platform': 'Linux-5.4.104+-x86_64-with-Ubuntu-18.04-bionic', 'event': 'saving'}\n",
            "2021-11-26 19:26:08,017 : INFO : saved /content/index/lsi.model.projection\n",
            "2021-11-26 19:26:08,019 : INFO : LsiModel lifecycle event {'fname_or_handle': '/content/index/lsi.model', 'separately': 'None', 'sep_limit': 10485760, 'ignore': ['projection', 'dispatcher'], 'datetime': '2021-11-26T19:26:08.019667', 'gensim': '4.1.2', 'python': '3.7.12 (default, Sep 10 2021, 00:21:48) \\n[GCC 7.5.0]', 'platform': 'Linux-5.4.104+-x86_64-with-Ubuntu-18.04-bionic', 'event': 'saving'}\n",
            "2021-11-26 19:26:08,022 : INFO : not storing attribute projection\n",
            "2021-11-26 19:26:08,025 : INFO : not storing attribute dispatcher\n",
            "2021-11-26 19:26:08,027 : INFO : saved /content/index/lsi.model\n",
            "2021-11-26 19:26:08,031 : INFO : creating matrix with 5391 documents and 72 features\n",
            "2021-11-26 19:26:08,045 : INFO : creating dense shard #0\n",
            "2021-11-26 19:26:08,050 : INFO : saving index shard to /content/index/index_lsi.0\n",
            "2021-11-26 19:26:08,053 : INFO : MatrixSimilarity lifecycle event {'fname_or_handle': '/content/index/index_lsi.0', 'separately': 'None', 'sep_limit': 10485760, 'ignore': frozenset(), 'datetime': '2021-11-26T19:26:08.053180', 'gensim': '4.1.2', 'python': '3.7.12 (default, Sep 10 2021, 00:21:48) \\n[GCC 7.5.0]', 'platform': 'Linux-5.4.104+-x86_64-with-Ubuntu-18.04-bionic', 'event': 'saving'}\n",
            "2021-11-26 19:26:08,059 : INFO : saved /content/index/index_lsi.0\n",
            "2021-11-26 19:26:08,063 : INFO : loading MatrixSimilarity object from /content/index/index_lsi.0\n",
            "2021-11-26 19:26:08,068 : INFO : MatrixSimilarity lifecycle event {'fname': '/content/index/index_lsi.0', 'datetime': '2021-11-26T19:26:08.068634', 'gensim': '4.1.2', 'python': '3.7.12 (default, Sep 10 2021, 00:21:48) \\n[GCC 7.5.0]', 'platform': 'Linux-5.4.104+-x86_64-with-Ubuntu-18.04-bionic', 'event': 'loaded'}\n",
            "2021-11-26 19:26:08,075 : INFO : Similarity lifecycle event {'fname_or_handle': '/content/index/lsi_matrixsim.index', 'separately': 'None', 'sep_limit': 10485760, 'ignore': frozenset(), 'datetime': '2021-11-26T19:26:08.075412', 'gensim': '4.1.2', 'python': '3.7.12 (default, Sep 10 2021, 00:21:48) \\n[GCC 7.5.0]', 'platform': 'Linux-5.4.104+-x86_64-with-Ubuntu-18.04-bionic', 'event': 'saving'}\n",
            "2021-11-26 19:26:08,081 : INFO : saved /content/index/lsi_matrixsim.index\n"
          ]
        }
      ]
    },
    {
      "cell_type": "code",
      "metadata": {
        "colab": {
          "base_uri": "https://localhost:8080/"
        },
        "id": "1udPIceqYk6S",
        "outputId": "c1f4d58a-a5f9-4169-f7fc-075c9990adc1"
      },
      "source": [
        "!ls -la /content/index"
      ],
      "execution_count": 69,
      "outputs": [
        {
          "output_type": "stream",
          "name": "stdout",
          "text": [
            "total 1932\n",
            "drwxr-xr-x 2 root root    4096 Nov 26 19:26 .\n",
            "drwxr-xr-x 1 root root    4096 Nov 26 19:25 ..\n",
            "-rw-r--r-- 1 root root 1553280 Nov 26 19:26 index_lsi.0\n",
            "-rw-r--r-- 1 root root     742 Nov 26 19:26 lsi_matrixsim.index\n",
            "-rw-r--r-- 1 root root    2728 Nov 26 19:26 lsi.model\n",
            "-rw-r--r-- 1 root root   42728 Nov 26 19:26 lsi.model.projection\n",
            "-rw-r--r-- 1 root root  352360 Nov 26 19:25 tfidf.index\n",
            "-rw-r--r-- 1 root root    2782 Nov 26 19:25 tfidf.model\n"
          ]
        }
      ]
    },
    {
      "cell_type": "markdown",
      "metadata": {
        "id": "u05KD64Ai1uo"
      },
      "source": [
        "## Tests"
      ]
    },
    {
      "cell_type": "markdown",
      "metadata": {
        "id": "pDxTCAGv9MmZ"
      },
      "source": [
        "### Test for single tunes"
      ]
    },
    {
      "cell_type": "code",
      "metadata": {
        "colab": {
          "base_uri": "https://localhost:8080/"
        },
        "id": "khASSJ1eEuf5",
        "outputId": "c5b45f2e-ae07-4748-9b65-e36001c8821d"
      },
      "source": [
        "%%time\n",
        "df_sim = get_sim_scores(tunes_eval_list, index=index_lsi, model=lsi)\n",
        "df_lsi = df_sim[:]"
      ],
      "execution_count": 70,
      "outputs": [
        {
          "output_type": "stream",
          "name": "stdout",
          "text": [
            "\n",
            "--------------------------------------------------\n",
            "125 After You've Gone, section1 (A)\n",
            "126 After You've Gone, section2 (B)\n",
            "127 After You've Gone, section3 (A)\n",
            "128 After You've Gone, section4 (C)\n",
            "\n",
            "--------------------------------------------------\n",
            "188 All God's Chillun Got Rhythm, section1 (A)\n",
            "189 All God's Chillun Got Rhythm, section2 (B)\n",
            "190 All God's Chillun Got Rhythm, section3 (A)\n",
            "191 All God's Chillun Got Rhythm, section4 (C)\n",
            "\n",
            "--------------------------------------------------\n",
            "198 All Of Me, section1 (A)\n",
            "199 All Of Me, section2 (B)\n",
            "200 All Of Me, section3 (A)\n",
            "201 All Of Me, section4 (C)\n",
            "\n",
            "--------------------------------------------------\n",
            "474 Blood Count, section1 (A)\n",
            "475 Blood Count, section2 (A)\n",
            "476 Blood Count, section3 (B)\n",
            "477 Blood Count, section4 (A)\n",
            "478 Blood Count, section5 (C)\n",
            "\n",
            "--------------------------------------------------\n",
            "496 Blue Moon, section1 (A)\n",
            "497 Blue Moon, section2 (A)\n",
            "498 Blue Moon, section3 (B)\n",
            "499 Blue Moon, section4 (A)\n",
            "\n",
            "--------------------------------------------------\n",
            "626 But Beautiful, section1 (A)\n",
            "627 But Beautiful, section2 (B)\n",
            "628 But Beautiful, section3 (A)\n",
            "629 But Beautiful, section4 (C)\n",
            "\n",
            "--------------------------------------------------\n",
            "653 Bye Bye Blackbird, section1 (A)\n",
            "654 Bye Bye Blackbird, section2 (B)\n",
            "\n",
            "--------------------------------------------------\n",
            "676 Call Me Irresponsible, section1 (A)\n",
            "677 Call Me Irresponsible, section2 (B)\n",
            "678 Call Me Irresponsible, section3 (A)\n",
            "679 Call Me Irresponsible, section4 (B)\n",
            "\n",
            "--------------------------------------------------\n",
            "826 Corcovado, section1 (A)\n",
            "827 Corcovado, section2 (B)\n",
            "828 Corcovado, section3 (A)\n",
            "829 Corcovado, section4 (C)\n",
            "\n",
            "--------------------------------------------------\n",
            "997 Dinah, section1 (A)\n",
            "998 Dinah, section2 (A)\n",
            "999 Dinah, section3 (B)\n",
            "1000 Dinah, section4 (A)\n",
            "\n",
            "--------------------------------------------------\n",
            "1125 East Of The Sun, section1 (A)\n",
            "1126 East Of The Sun, section2 (B)\n",
            "1127 East Of The Sun, section3 (A)\n",
            "1128 East Of The Sun, section4 (C)\n",
            "\n",
            "--------------------------------------------------\n",
            "1287 Footprints, section0 (nan)\n",
            "\n",
            "--------------------------------------------------\n",
            "1379 Giant Steps, section0 (nan)\n",
            "\n",
            "--------------------------------------------------\n",
            "1538 Honeysuckle Rose, section1 (A)\n",
            "1539 Honeysuckle Rose, section2 (A)\n",
            "1540 Honeysuckle Rose, section3 (B)\n",
            "1541 Honeysuckle Rose, section4 (A)\n",
            "\n",
            "--------------------------------------------------\n",
            "1647 I Got Rhythm, section1 (A)\n",
            "1648 I Got Rhythm, section2 (A)\n",
            "1649 I Got Rhythm, section3 (B)\n",
            "1650 I Got Rhythm, section4 (A)\n",
            "\n",
            "--------------------------------------------------\n",
            "2670 Misty, section1 (A)\n",
            "2671 Misty, section2 (A)\n",
            "2672 Misty, section3 (B)\n",
            "2673 Misty, section4 (A)\n",
            "\n",
            "--------------------------------------------------\n",
            "2857 Naima, section1 (A)\n",
            "2858 Naima, section2 (A)\n",
            "2859 Naima, section3 (B)\n",
            "2860 Naima, section4 (A)\n",
            "\n",
            "--------------------------------------------------\n",
            "5044 Old Fashioned Love, section0 (nan)\n",
            "\n",
            "--------------------------------------------------\n",
            "3142 Perdido, section1 (A)\n",
            "3143 Perdido, section2 (A)\n",
            "3144 Perdido, section3 (B)\n",
            "3145 Perdido, section4 (A)\n",
            "\n",
            "--------------------------------------------------\n",
            "3276 Rockin' Chair, section1 (A)\n",
            "3277 Rockin' Chair, section2 (B)\n",
            "3278 Rockin' Chair, section3 (A)\n",
            "\n",
            "--------------------------------------------------\n",
            "3578 Sophisticated Lady, section1 (A)\n",
            "3579 Sophisticated Lady, section2 (A)\n",
            "3580 Sophisticated Lady, section3 (B)\n",
            "3581 Sophisticated Lady, section4 (A)\n",
            "\n",
            "--------------------------------------------------\n",
            "3746 Sweet Sue, Just You, section1 (A)\n",
            "3747 Sweet Sue, Just You, section2 (A)\n",
            "3748 Sweet Sue, Just You, section3 (B)\n",
            "3749 Sweet Sue, Just You, section4 (A)\n",
            "\n",
            "--------------------------------------------------\n",
            "3860 These Foolish Things, section1 (A)\n",
            "3861 These Foolish Things, section2 (A)\n",
            "3862 These Foolish Things, section3 (B)\n",
            "3863 These Foolish Things, section4 (A)\n",
            "\n",
            "--------------------------------------------------\n",
            "4146 We'll Be Together Again, section1 (A)\n",
            "4147 We'll Be Together Again, section2 (A)\n",
            "4148 We'll Be Together Again, section3 (B)\n",
            "4149 We'll Be Together Again, section4 (A)\n",
            "CPU times: user 20.1 s, sys: 8.71 s, total: 28.8 s\n",
            "Wall time: 19.6 s\n"
          ]
        }
      ]
    },
    {
      "cell_type": "code",
      "metadata": {
        "colab": {
          "base_uri": "https://localhost:8080/",
          "height": 542
        },
        "id": "X31lkvUsDAsU",
        "outputId": "146f459d-df29-47c5-bb58-43d6ffae5932"
      },
      "source": [
        "import plotly.express as px\n",
        "fig = px.histogram(df_sim, x=\"score\", nbins=50, title='LSI Scores')\n",
        "fig.show()"
      ],
      "execution_count": 71,
      "outputs": [
        {
          "output_type": "display_data",
          "data": {
            "text/html": [
              "<html>\n",
              "<head><meta charset=\"utf-8\" /></head>\n",
              "<body>\n",
              "    <div>\n",
              "            <script src=\"https://cdnjs.cloudflare.com/ajax/libs/mathjax/2.7.5/MathJax.js?config=TeX-AMS-MML_SVG\"></script><script type=\"text/javascript\">if (window.MathJax) {MathJax.Hub.Config({SVG: {font: \"STIX-Web\"}});}</script>\n",
              "                <script type=\"text/javascript\">window.PlotlyConfig = {MathJaxConfig: 'local'};</script>\n",
              "        <script src=\"https://cdn.plot.ly/plotly-latest.min.js\"></script>    \n",
              "            <div id=\"5ac84f09-bb9c-465e-a3a3-a96dd094b110\" class=\"plotly-graph-div\" style=\"height:525px; width:100%;\"></div>\n",
              "            <script type=\"text/javascript\">\n",
              "                \n",
              "                    window.PLOTLYENV=window.PLOTLYENV || {};\n",
              "                    \n",
              "                if (document.getElementById(\"5ac84f09-bb9c-465e-a3a3-a96dd094b110\")) {\n",
              "                    Plotly.newPlot(\n",
              "                        '5ac84f09-bb9c-465e-a3a3-a96dd094b110',\n",
              "                        [{\"alignmentgroup\": \"True\", \"bingroup\": \"x\", \"hoverlabel\": {\"namelength\": 0}, \"hovertemplate\": \"score=%{x}<br>count=%{y}\", \"legendgroup\": \"\", \"marker\": {\"color\": \"#636efa\"}, \"name\": \"\", \"nbinsx\": 50, \"offsetgroup\": \"\", \"orientation\": \"v\", \"showlegend\": false, \"type\": \"histogram\", \"x\": [0.8872442245483398, 0.8333333134651184, 0.8333333134651184, 0.8333333134651184, 0.8268688321113586, 0.8215838074684143, 0.8164966106414795, 0.8164966106414795, 0.8164966106414795, 0.8164966106414795, 0.8164966106414795, 0.8164966106414795, 0.8164965510368347, 0.8164964914321899, 0.8146880865097046, 0.8146880865097046, 0.8146880865097046, 0.8128778338432312, 0.8115026354789734, 0.8082903027534485, 0.8056291937828064, 0.8022767305374146, 0.8017836809158325, 0.8006407618522644, 0.8006407618522644, 0.8006407618522644, 0.796097993850708, 0.7960029244422913, 0.7938566207885742, 0.7938566207885742, 0.7938566207885742, 0.7938565611839294, 0.7937363982200623, 0.7925938963890076, 0.7924057841300964, 0.7905694246292114, 0.7905694246292114, 0.7874259948730469, 0.7844645380973816, 0.7835467457771301, 0.7833494544029236, 0.9449111819267273, 0.9449111819267273, 0.9449111819267273, 0.9294209480285645, 0.927730917930603, 0.9237152934074402, 0.9164397716522217, 0.9116846919059753, 0.9116846919059753, 0.9116846919059753, 0.9116846919059753, 0.9092413783073425, 0.9086882472038269, 0.90748530626297, 0.90748530626297, 0.9074851870536804, 0.8989697098731995, 0.8976656198501587, 0.8968700766563416, 0.8964548110961914, 0.8944271802902222, 0.8933250308036804, 0.8933250308036804, 0.8933250308036804, 0.8928571939468384, 0.8916451334953308, 0.8916451334953308, 0.8916451334953308, 0.8914850354194641, 0.8910421133041382, 0.8910420536994934, 0.889499306678772, 0.889499306678772, 0.8894991278648376, 0.8887815475463867, 0.8838084936141968, 0.8828535079956055, 0.8824974894523621, 0.8821085691452026, 0.8819171190261841, 0.8819171190261841, 0.8872442245483398, 0.8333333134651184, 0.8333333134651184, 0.8333333134651184, 0.8268688321113586, 0.8215838074684143, 0.8164966106414795, 0.8164966106414795, 0.8164966106414795, 0.8164966106414795, 0.8164966106414795, 0.8164966106414795, 0.8164965510368347, 0.8164964914321899, 0.8146880865097046, 0.8146880865097046, 0.8146880865097046, 0.8128778338432312, 0.8115026354789734, 0.8082903027534485, 0.8056291937828064, 0.8022767305374146, 0.8017836809158325, 0.8006407618522644, 0.8006407618522644, 0.8006407618522644, 0.796097993850708, 0.7960029244422913, 0.7938566207885742, 0.7938566207885742, 0.7938566207885742, 0.7938565611839294, 0.7937363982200623, 0.7925938963890076, 0.7924057841300964, 0.7905694246292114, 0.7905694246292114, 0.7874259948730469, 0.7844645380973816, 0.7835467457771301, 0.7833494544029236, 0.9096581935882568, 0.9022911787033081, 0.9016695618629456, 0.8867155909538269, 0.8795367479324341, 0.8730378746986389, 0.8716936111450195, 0.8716936111450195, 0.8716138601303101, 0.8700222373008728, 0.8700222373008728, 0.8700221180915833, 0.8675329685211182, 0.8675328493118286, 0.8657459020614624, 0.8657053709030151, 0.8657053112983704, 0.8650469183921814, 0.8650146126747131, 0.8633970022201538, 0.8607285618782043, 0.8598892688751221, 0.859207272529602, 0.8589556813240051, 0.8589556813240051, 0.8589556813240051, 0.8575894236564636, 0.8570745587348938, 0.857074499130249, 0.855844259262085, 0.8553988337516785, 0.8536584973335266, 0.8528679609298706, 0.8520770072937012, 0.8519977331161499, 0.8519828915596008, 0.8502658009529114, 0.8502658009529114, 0.8502658009529114, 0.8501022458076477, 0.847586989402771, 0.9749999642372131, 0.9695895910263062, 0.9682456851005554, 0.9561829566955566, 0.9560661315917969, 0.9560660719871521, 0.9547033309936523, 0.954594075679779, 0.946340024471283, 0.946340024471283, 0.942927896976471, 0.9407528638839722, 0.9398255348205566, 0.9398255348205566, 0.9389711618423462, 0.9383147954940796, 0.9375001192092896, 0.9360565543174744, 0.9360565543174744, 0.9360565543174744, 0.9359709620475769, 0.9354143142700195, 0.9341285228729248, 0.9341285228729248, 0.932773232460022, 0.9284766316413879, 0.9284766316413879, 0.9282791018486023, 0.9280776977539062, 0.9280776977539062, 0.9280775785446167, 0.9274260401725769, 0.9263022541999817, 0.9263021349906921, 0.9250001311302185, 0.9250001311302185, 0.923186182975769, 0.92317134141922, 0.9231711626052856, 0.9223309755325317, 0.9214785695075989, 0.9309494495391846, 0.9013878107070923, 0.8966439366340637, 0.8894992470741272, 0.8894990682601929, 0.8882312178611755, 0.8869685530662537, 0.882522702217102, 0.8744746446609497, 0.8702853918075562, 0.8682430982589722, 0.8674725294113159, 0.8608285188674927, 0.8608284592628479, 0.8600261211395264, 0.8593379259109497, 0.8589844703674316, 0.8561726808547974, 0.8561726808547974, 0.8561726808547974, 0.8561726212501526, 0.8561726212501526, 0.8559209704399109, 0.8540168404579163, 0.8530422449111938, 0.8492078185081482, 0.8492077589035034, 0.8492076992988586, 0.8492076992988586, 0.8473185896873474, 0.8473184704780579, 0.8473184704780579, 0.8468303084373474, 0.8468303084373474, 0.8459098935127258, 0.8438529968261719, 0.8438195586204529, 0.8406728506088257, 0.8386279344558716, 0.8383355140686035, 0.8376104831695557, 0.9749999642372131, 0.9695895910263062, 0.9682456851005554, 0.9561829566955566, 0.9560661315917969, 0.9560660719871521, 0.9547033309936523, 0.954594075679779, 0.946340024471283, 0.946340024471283, 0.942927896976471, 0.9407528638839722, 0.9398255348205566, 0.9398255348205566, 0.9389711618423462, 0.9383147954940796, 0.9375001192092896, 0.9360565543174744, 0.9360565543174744, 0.9360565543174744, 0.9359709620475769, 0.9354143142700195, 0.9341285228729248, 0.9341285228729248, 0.932773232460022, 0.9284766316413879, 0.9284766316413879, 0.9282791018486023, 0.9280776977539062, 0.9280776977539062, 0.9280775785446167, 0.9274260401725769, 0.9263022541999817, 0.9263021349906921, 0.9250001311302185, 0.9250001311302185, 0.923186182975769, 0.92317134141922, 0.9231711626052856, 0.9223309755325317, 0.9214785695075989, 0.9503288865089417, 0.9503288865089417, 0.9486833810806274, 0.9315559267997742, 0.9302604794502258, 0.9296697378158569, 0.9219545125961304, 0.9219544529914856, 0.9219544529914856, 0.9203579425811768, 0.9203579425811768, 0.9192389249801636, 0.9170605540275574, 0.9135003089904785, 0.9135003089904785, 0.910980224609375, 0.9101914167404175, 0.9101912975311279, 0.9091548323631287, 0.9091548323631287, 0.9091548323631287, 0.908738911151886, 0.908025324344635, 0.9080252647399902, 0.9071148633956909, 0.9071148037910461, 0.9071148037910461, 0.9071147441864014, 0.9068452715873718, 0.9068452715873718, 0.9068452715873718, 0.9057894945144653, 0.9057894945144653, 0.9057893753051758, 0.904534101486206, 0.9014912843704224, 0.9012492299079895, 0.9000000953674316, 0.9000000953674316, 0.9000000953674316, 0.8999999761581421, 0.9622504115104675, 0.8944272398948669, 0.8944271206855774, 0.8944271206855774, 0.8846516013145447, 0.8750001192092896, 0.8728716373443604, 0.866025447845459, 0.866025447845459, 0.866025447845459, 0.8574929237365723, 0.8534919023513794, 0.8512056469917297, 0.8488746881484985, 0.8488746881484985, 0.8488746881484985, 0.8486685156822205, 0.8463273644447327, 0.8461141586303711, 0.8401681184768677, 0.8391464352607727, 0.8391464352607727, 0.8360797166824341, 0.8356289863586426, 0.8320502638816833, 0.8320502638816833, 0.8249579668045044, 0.8249579668045044, 0.8249579668045044, 0.8249579071998596, 0.816496729850769, 0.8164966106414795, 0.8164965510368347, 0.8111070394515991, 0.8111070394515991, 0.8111070394515991, 0.8111070394515991, 0.8111070394515991, 0.8111070394515991, 0.8084521293640137, 0.8082239031791687, 0.9660918116569519, 0.9561829566955566, 0.9449111223220825, 0.9354144334793091, 0.9354143142700195, 0.9354143142700195, 0.9354143142700195, 0.9331389665603638, 0.9331389665603638, 0.9258201122283936, 0.9116846323013306, 0.9083737134933472, 0.9074852466583252, 0.9074852466583252, 0.904106080532074, 0.8970851898193359, 0.8964214324951172, 0.8933250904083252, 0.8908708095550537, 0.8908708095550537, 0.8894992470741272, 0.8894991278648376, 0.867110013961792, 0.867110013961792, 0.8671099543571472, 0.8583951592445374, 0.8583950996398926, 0.8583325147628784, 0.8583325147628784, 0.857142984867096, 0.8571428656578064, 0.8571428060531616, 0.8552359938621521, 0.8547043800354004, 0.8528029322624207, 0.8486684560775757, 0.8486684560775757, 0.8486684560775757, 0.8486683964729309, 0.8486683964729309, 0.8463272452354431, 0.9622504115104675, 0.8944272398948669, 0.8944271206855774, 0.8944271206855774, 0.8846516013145447, 0.8750001192092896, 0.8728716373443604, 0.866025447845459, 0.866025447845459, 0.866025447845459, 0.8574929237365723, 0.8534919023513794, 0.8512056469917297, 0.8488746881484985, 0.8488746881484985, 0.8488746881484985, 0.8486685156822205, 0.8463273644447327, 0.8461141586303711, 0.8401681184768677, 0.8391464352607727, 0.8391464352607727, 0.8360797166824341, 0.8356289863586426, 0.8320502638816833, 0.8320502638816833, 0.8249579668045044, 0.8249579668045044, 0.8249579668045044, 0.8249579071998596, 0.816496729850769, 0.8164966106414795, 0.8164965510368347, 0.8111070394515991, 0.8111070394515991, 0.8111070394515991, 0.8111070394515991, 0.8111070394515991, 0.8111070394515991, 0.8084521293640137, 0.8082239031791687, 0.9770083427429199, 0.9331388473510742, 0.9285714030265808, 0.9265615940093994, 0.9258200526237488, 0.918262243270874, 0.9134141802787781, 0.9104654788970947, 0.9104654788970947, 0.9086881875991821, 0.9086881875991821, 0.9072646498680115, 0.9035079479217529, 0.8987169861793518, 0.8986450433731079, 0.8976656198501587, 0.8976656198501587, 0.8970853090286255, 0.8970853090286255, 0.8966529965400696, 0.8966529965400696, 0.8966333270072937, 0.8966333270072937, 0.8966332674026489, 0.8966332674026489, 0.8950414657592773, 0.8934051394462585, 0.8933250308036804, 0.8916451334953308, 0.8916451334953308, 0.891042172908783, 0.8910421133041382, 0.8910421133041382, 0.8908708095550537, 0.8908708095550537, 0.8908708095550537, 0.8890520334243774, 0.8872442245483398, 0.8872442245483398, 0.8864052295684814, 0.8864052295684814, 0.8000190258026123, 0.7397953867912292, 0.7397953867912292, 0.7171372175216675, 0.7106691002845764, 0.7001756429672241, 0.6935279369354248, 0.6885303854942322, 0.6666666269302368, 0.6600984334945679, 0.6471501588821411, 0.6396021842956543, 0.6151477098464966, 0.6137163639068604, 0.612825870513916, 0.596595287322998, 0.589255690574646, 0.589255690574646, 0.589255690574646, 0.5797508955001831, 0.5790660381317139, 0.5783517360687256, 0.5735393166542053, 0.5714631080627441, 0.566138505935669, 0.5594308972358704, 0.5590169429779053, 0.5443310737609863, 0.5039526224136353, 0.5039526224136353, 0.5, 0.5, 0.490653395652771, 0.4898979961872101, 0.48686450719833374, 0.48112523555755615, 0.48112523555755615, 0.48112520575523376, 0.4733646512031555, 0.4733646512031555, 0.471404492855072, 0.8488746881484985, 0.8488746881484985, 0.8488746881484985, 0.835504412651062, 0.8333333134651184, 0.8333333134651184, 0.8333333134651184, 0.8333333134651184, 0.8333333134651184, 0.8333333134651184, 0.8333332538604736, 0.8333332538604736, 0.8303364515304565, 0.8249577879905701, 0.8040302991867065, 0.7808687686920166, 0.771135687828064, 0.766032338142395, 0.7647190690040588, 0.7570332884788513, 0.7570332884788513, 0.7570332884788513, 0.7453559637069702, 0.7453559041023254, 0.7440698146820068, 0.7431604862213135, 0.7385489344596863, 0.7378647923469543, 0.7378647923469543, 0.7378647327423096, 0.7378647327423096, 0.7378647327423096, 0.7362101078033447, 0.7315635085105896, 0.7288109064102173, 0.7276068925857544, 0.726483166217804, 0.7190924882888794, 0.7190924882888794, 0.7184211611747742, 0.7171087265014648, 0.7216877937316895, 0.7092081308364868, 0.6770032048225403, 0.6527911424636841, 0.6481812000274658, 0.6454972624778748, 0.6435959339141846, 0.6405125856399536, 0.6390096545219421, 0.6375982165336609, 0.62275230884552, 0.621059000492096, 0.621059000492096, 0.6134346723556519, 0.6123724579811096, 0.6123723983764648, 0.6123723983764648, 0.6123723983764648, 0.6092718243598938, 0.601929247379303, 0.601929247379303, 0.5958795547485352, 0.589255690574646, 0.5863954424858093, 0.5833333134651184, 0.5809474587440491, 0.5809474587440491, 0.5809474587440491, 0.5797508955001831, 0.5778967142105103, 0.5773502588272095, 0.5773501992225647, 0.5669466853141785, 0.566138505935669, 0.5619514584541321, 0.5601120591163635, 0.5601120591163635, 0.5601120591163635, 0.555555522441864, 0.5539116859436035, 0.547722578048706, 0.8488746881484985, 0.8488746881484985, 0.8488746881484985, 0.835504412651062, 0.8333333134651184, 0.8333333134651184, 0.8333333134651184, 0.8333333134651184, 0.8333333134651184, 0.8333333134651184, 0.8333332538604736, 0.8333332538604736, 0.8303364515304565, 0.8249577879905701, 0.8040302991867065, 0.7808687686920166, 0.771135687828064, 0.766032338142395, 0.7647190690040588, 0.7570332884788513, 0.7570332884788513, 0.7570332884788513, 0.7453559637069702, 0.7453559041023254, 0.7440698146820068, 0.7431604862213135, 0.7385489344596863, 0.7378647923469543, 0.7378647923469543, 0.7378647327423096, 0.7378647327423096, 0.7378647327423096, 0.7362101078033447, 0.7315635085105896, 0.7288109064102173, 0.7276068925857544, 0.726483166217804, 0.7190924882888794, 0.7190924882888794, 0.7184211611747742, 0.7171087265014648, 0.836632490158081, 0.757042407989502, 0.699611485004425, 0.673563539981842, 0.6593307256698608, 0.6507270336151123, 0.6465269327163696, 0.6465269327163696, 0.6465269327163696, 0.6465269327163696, 0.6450098752975464, 0.6409778594970703, 0.6329817175865173, 0.6221113204956055, 0.6181224584579468, 0.616767168045044, 0.6144778728485107, 0.609209418296814, 0.6070536375045776, 0.6069631576538086, 0.604125440120697, 0.6036725044250488, 0.6031628847122192, 0.6021971702575684, 0.6020092368125916, 0.599666953086853, 0.5996668934822083, 0.5994906425476074, 0.5994906425476074, 0.5952290296554565, 0.594788670539856, 0.5888107419013977, 0.5865241289138794, 0.5864024758338928, 0.585707426071167, 0.5857073664665222, 0.5835803151130676, 0.5830095410346985, 0.5827715396881104, 0.5827714800834656, 0.5793535113334656, 0.9782608151435852, 0.9680037498474121, 0.9680037498474121, 0.9609866142272949, 0.9583727717399597, 0.956929087638855, 0.956929087638855, 0.9567298293113708, 0.9567298293113708, 0.953407347202301, 0.9530152082443237, 0.9517337679862976, 0.9515873789787292, 0.9508561491966248, 0.9497161507606506, 0.9497161507606506, 0.9486438632011414, 0.9486438035964966, 0.9486438035964966, 0.948038637638092, 0.9473729133605957, 0.9455454349517822, 0.9455453753471375, 0.9443844556808472, 0.9430418610572815, 0.9430418610572815, 0.9421554207801819, 0.9418280124664307, 0.9409439563751221, 0.9405699968338013, 0.9405699968338013, 0.9405699968338013, 0.9405400156974792, 0.9383147954940796, 0.9383147954940796, 0.9376363158226013, 0.9362573027610779, 0.9355852603912354, 0.9347825646400452, 0.9337990283966064, 0.9337990283966064, 0.9276336431503296, 0.9261981248855591, 0.9180846214294434, 0.9180846214294434, 0.9140905737876892, 0.9109357595443726, 0.9102991819381714, 0.9095085859298706, 0.9095085859298706, 0.9081083536148071, 0.9081082940101624, 0.9080252051353455, 0.9046624302864075, 0.9007546901702881, 0.9007546901702881, 0.900283932685852, 0.8978642821311951, 0.8973817825317383, 0.8973645567893982, 0.895607590675354, 0.8952859044075012, 0.8951715230941772, 0.8932595252990723, 0.8926785588264465, 0.8926784992218018, 0.8917926549911499, 0.8911328911781311, 0.8911328911781311, 0.8911327719688416, 0.8892973065376282, 0.8892971873283386, 0.8885402679443359, 0.8877780437469482, 0.8875744938850403, 0.8868440389633179, 0.8860759139060974, 0.8860759139060974, 0.8860759139060974, 0.8858783841133118, 0.8856148719787598, 0.8856148719787598, 0.9284765720367432, 0.9143006801605225, 0.9005004167556763, 0.8965516090393066, 0.8946300745010376, 0.893852710723877, 0.8913376331329346, 0.8858184814453125, 0.8844476938247681, 0.8823398351669312, 0.8820528984069824, 0.8820527791976929, 0.8817845582962036, 0.8791322112083435, 0.8778665065765381, 0.8778665065765381, 0.8773280382156372, 0.8773280382156372, 0.875420868396759, 0.8753762245178223, 0.8727860450744629, 0.872583270072937, 0.8719774484634399, 0.8718128204345703, 0.8703169822692871, 0.8703169822692871, 0.8703169822692871, 0.8703169822692871, 0.8700221180915833, 0.8685104250907898, 0.8671486377716064, 0.8671485781669617, 0.8671485185623169, 0.8656302690505981, 0.8630340099334717, 0.8630340099334717, 0.8630338907241821, 0.8620791435241699, 0.8620690107345581, 0.8620690107345581, 0.8620690107345581, 0.9782608151435852, 0.9680037498474121, 0.9680037498474121, 0.9609866142272949, 0.9583727717399597, 0.956929087638855, 0.956929087638855, 0.9567298293113708, 0.9567298293113708, 0.953407347202301, 0.9530152082443237, 0.9517337679862976, 0.9515873789787292, 0.9508561491966248, 0.9497161507606506, 0.9497161507606506, 0.9486438632011414, 0.9486438035964966, 0.9486438035964966, 0.948038637638092, 0.9473729133605957, 0.9455454349517822, 0.9455453753471375, 0.9443844556808472, 0.9430418610572815, 0.9430418610572815, 0.9421554207801819, 0.9418280124664307, 0.9409439563751221, 0.9405699968338013, 0.9405699968338013, 0.9405699968338013, 0.9405400156974792, 0.9383147954940796, 0.9383147954940796, 0.9376363158226013, 0.9362573027610779, 0.9355852603912354, 0.9347825646400452, 0.9337990283966064, 0.9337990283966064, 0.8346223831176758, 0.8346223831176758, 0.8346222639083862, 0.8132203221321106, 0.8111070394515991, 0.8029550313949585, 0.8029550313949585, 0.8010019659996033, 0.7980239391326904, 0.7980239391326904, 0.780398964881897, 0.7800135016441345, 0.770053505897522, 0.7648661732673645, 0.7648661732673645, 0.7648661136627197, 0.7635416984558105, 0.7635416984558105, 0.7635416984558105, 0.7570332288742065, 0.7539370656013489, 0.7539370059967041, 0.7530940175056458, 0.7456010580062866, 0.744161069393158, 0.7417380809783936, 0.7368420958518982, 0.7367883324623108, 0.7357671856880188, 0.7357671856880188, 0.7346970438957214, 0.7341303825378418, 0.7341303825378418, 0.7299964427947998, 0.7299964427947998, 0.7299964427947998, 0.728492796421051, 0.7283956408500671, 0.7276068329811096, 0.726483166217804, 0.7254762649536133, 0.9622504711151123, 0.9515374302864075, 0.950262188911438, 0.945967435836792, 0.944444477558136, 0.943564236164093, 0.9372008442878723, 0.9363820552825928, 0.9332565069198608, 0.9239131808280945, 0.9229581356048584, 0.9205665588378906, 0.9152086973190308, 0.9141380786895752, 0.9128710031509399, 0.9097992181777954, 0.9097176790237427, 0.9097176790237427, 0.9080070853233337, 0.908007025718689, 0.9073927998542786, 0.9072648286819458, 0.907218337059021, 0.9036961793899536, 0.9035253524780273, 0.9026709794998169, 0.9019752740859985, 0.9019752144813538, 0.9014410972595215, 0.8986914753913879, 0.8986914157867432, 0.8986914157867432, 0.8981462717056274, 0.8981462717056274, 0.8981462717056274, 0.8936836123466492, 0.8934270739555359, 0.8925848603248596, 0.8923542499542236, 0.8911328315734863, 0.8911328315734863, 0.8346223831176758, 0.8346223831176758, 0.8346222639083862, 0.8132203221321106, 0.8111070394515991, 0.8029550313949585, 0.8029550313949585, 0.8010019659996033, 0.7980239391326904, 0.7980239391326904, 0.780398964881897, 0.7800135016441345, 0.770053505897522, 0.7648661732673645, 0.7648661732673645, 0.7648661136627197, 0.7635416984558105, 0.7635416984558105, 0.7635416984558105, 0.7570332288742065, 0.7539370656013489, 0.7539370059967041, 0.7530940175056458, 0.7456010580062866, 0.744161069393158, 0.7417380809783936, 0.7368420958518982, 0.7367883324623108, 0.7357671856880188, 0.7357671856880188, 0.7346970438957214, 0.7341303825378418, 0.7341303825378418, 0.7299964427947998, 0.7299964427947998, 0.7299964427947998, 0.728492796421051, 0.7283956408500671, 0.7276068329811096, 0.726483166217804, 0.7254762649536133, 0.9435368180274963, 0.9428713917732239, 0.9412417411804199, 0.9324213266372681, 0.9302326440811157, 0.9302326440811157, 0.9279707670211792, 0.9273618459701538, 0.9273618459701538, 0.9244734644889832, 0.9206923246383667, 0.917710542678833, 0.9162613749504089, 0.9153650999069214, 0.9149914979934692, 0.9149914383888245, 0.912018358707428, 0.9093530774116516, 0.9050183892250061, 0.9010819792747498, 0.9010819792747498, 0.9010819792747498, 0.8993874788284302, 0.8972229361534119, 0.8966530561447144, 0.8966529965400696, 0.8934130668640137, 0.8921492099761963, 0.8921491503715515, 0.8921319842338562, 0.890953779220581, 0.8905872106552124, 0.8903481960296631, 0.8896204233169556, 0.8896204233169556, 0.889211893081665, 0.8892118334770203, 0.8892118334770203, 0.8876720070838928, 0.8852571845054626, 0.8842288255691528, 0.9843091368675232, 0.9836212396621704, 0.9777750968933105, 0.9751577377319336, 0.9751577377319336, 0.9751577377319336, 0.9751577377319336, 0.9751577377319336, 0.972415030002594, 0.9722036123275757, 0.9719409942626953, 0.9705231189727783, 0.9692704677581787, 0.9683641195297241, 0.9683641195297241, 0.9683641195297241, 0.9663776159286499, 0.9650869369506836, 0.9640127420425415, 0.9619721174240112, 0.9608385562896729, 0.9569486975669861, 0.9562594890594482, 0.9553254246711731, 0.9553254246711731, 0.9553254246711731, 0.955297589302063, 0.955297589302063, 0.9541301131248474, 0.9541300535202026, 0.9532413482666016, 0.9532413482666016, 0.9532334208488464, 0.9528306722640991, 0.9528305530548096, 0.9525640606880188, 0.952564001083374, 0.952564001083374, 0.9523038864135742, 0.9513515830039978, 0.950914740562439, 0.9513311386108398, 0.9501320123672485, 0.9501192569732666, 0.9417286515235901, 0.9412097334861755, 0.9377430081367493, 0.9377430081367493, 0.9374334216117859, 0.9373601675033569, 0.9349288940429688, 0.934928834438324, 0.934928834438324, 0.9349287748336792, 0.9345024824142456, 0.9345024228096008, 0.9331203103065491, 0.9331203103065491, 0.9331203103065491, 0.9331203103065491, 0.9331203103065491, 0.9320410490036011, 0.9315560460090637, 0.9311728477478027, 0.9301145672798157, 0.9299209117889404, 0.9297347664833069, 0.9297347068786621, 0.9292548894882202, 0.9263104200363159, 0.9251285791397095, 0.9242495894432068, 0.9242495894432068, 0.924249529838562, 0.9236085414886475, 0.9229729771614075, 0.9224556684494019, 0.9224556088447571, 0.9212563037872314, 0.9207664728164673, 0.9207664132118225, 0.920751690864563, 0.9316949248313904, 0.9190183877944946, 0.9170702695846558, 0.9036961793899536, 0.9036961197853088, 0.8948929309844971, 0.8948929309844971, 0.8944271802902222, 0.8944271206855774, 0.8944271206855774, 0.8901636004447937, 0.8857993483543396, 0.8783100843429565, 0.8677217960357666, 0.8666665554046631, 0.8588974475860596, 0.8539918661117554, 0.8500001430511475, 0.8485281467437744, 0.8485281467437744, 0.8480265140533447, 0.845402717590332, 0.8451544046401978, 0.8451544046401978, 0.8451541066169739, 0.8432739973068237, 0.8432739973068237, 0.843273937702179, 0.843273937702179, 0.8391463756561279, 0.8385255336761475, 0.8385255336761475, 0.8380036354064941, 0.8342977166175842, 0.8342976570129395, 0.8329509496688843, 0.8305395841598511, 0.8304547667503357, 0.8302051424980164, 0.8295150995254517, 0.8280786871910095, 0.9072647094726562, 0.8959786295890808, 0.8816820383071899, 0.8814089298248291, 0.880450963973999, 0.8798826932907104, 0.8703882694244385, 0.8675276041030884, 0.8675276041030884, 0.8675276041030884, 0.8672274351119995, 0.866025447845459, 0.866025447845459, 0.8660253286361694, 0.8576900959014893, 0.8576900959014893, 0.8533201813697815, 0.8528029322624207, 0.8492077589035034, 0.8492077589035034, 0.8492077589035034, 0.8492076992988586, 0.8486684560775757, 0.8486684560775757, 0.8486683368682861, 0.8486683368682861, 0.8463272452354431, 0.8432740569114685, 0.8432740569114685, 0.843273937702179, 0.8432209491729736, 0.8429272174835205, 0.8416253924369812, 0.8416253924369812, 0.8406727313995361, 0.8401679992675781, 0.8391463756561279, 0.8364283442497253, 0.8364283442497253, 0.8364283442497253, 0.8333333730697632, 0.9316949248313904, 0.9190183877944946, 0.9170702695846558, 0.9036961793899536, 0.9036961197853088, 0.8948929309844971, 0.8948929309844971, 0.8944271802902222, 0.8944271206855774, 0.8944271206855774, 0.8901636004447937, 0.8857993483543396, 0.8783100843429565, 0.8677217960357666, 0.8666665554046631, 0.8588974475860596, 0.8539918661117554, 0.8500001430511475, 0.8485281467437744, 0.8485281467437744, 0.8480265140533447, 0.845402717590332, 0.8451544046401978, 0.8451544046401978, 0.8451541066169739, 0.8432739973068237, 0.8432739973068237, 0.843273937702179, 0.843273937702179, 0.8391463756561279, 0.8385255336761475, 0.8385255336761475, 0.8380036354064941, 0.8342977166175842, 0.8342976570129395, 0.8329509496688843, 0.8305395841598511, 0.8304547667503357, 0.8302051424980164, 0.8295150995254517, 0.8280786871910095, 0.9805806875228882, 0.9621024131774902, 0.9476965665817261, 0.9466737508773804, 0.9389157891273499, 0.9351438879966736, 0.9348928332328796, 0.9341285228729248, 0.930949330329895, 0.9302605390548706, 0.928015410900116, 0.9247722625732422, 0.9245002865791321, 0.9229719638824463, 0.9226039052009583, 0.9217865467071533, 0.9201151132583618, 0.9198662042617798, 0.9193195104598999, 0.9193193912506104, 0.9173287153244019, 0.9172639846801758, 0.9171444773674011, 0.9150180816650391, 0.9139701128005981, 0.9107077121734619, 0.9107077121734619, 0.9107077121734619, 0.9107077121734619, 0.9104369878768921, 0.9104369878768921, 0.9095880389213562, 0.9095878601074219, 0.9095878601074219, 0.9078413248062134, 0.9078413248062134, 0.9078413248062134, 0.9078412652015686, 0.9078412652015686, 0.9073928594589233, 0.907078742980957, 0.7706745862960815, 0.7537346482276917, 0.7537346482276917, 0.7442084550857544, 0.7089175581932068, 0.7089175581932068, 0.7080881595611572, 0.6928203105926514, 0.6928203105926514, 0.6928203105926514, 0.6831300258636475, 0.6708203554153442, 0.6694387197494507, 0.6666667461395264, 0.6666666865348816, 0.6605782508850098, 0.6605782508850098, 0.6546537280082703, 0.6546537280082703, 0.6531972885131836, 0.6531972289085388, 0.6531972289085388, 0.6531972289085388, 0.6531972289085388, 0.649234414100647, 0.6459752321243286, 0.6454972624778748, 0.64549720287323, 0.6390097141265869, 0.6374552845954895, 0.6350853443145752, 0.632455587387085, 0.632455587387085, 0.632455587387085, 0.632455587387085, 0.632455587387085, 0.632455587387085, 0.632455587387085, 0.6282808780670166, 0.6262242794036865, 0.6262242794036865, 0.9296696186065674, 0.8999999761581421, 0.8215838670730591, 0.8215838670730591, 0.8215838670730591, 0.8198916912078857, 0.809039831161499, 0.809039831161499, 0.809039831161499, 0.809039831161499, 0.8017836809158325, 0.8013876676559448, 0.800000011920929, 0.7951465845108032, 0.7951465845108032, 0.7937253713607788, 0.7928249835968018, 0.7926291227340698, 0.7905694246292114, 0.7905693054199219, 0.7893521785736084, 0.7889319658279419, 0.7826237678527832, 0.7726674675941467, 0.7694838047027588, 0.7694836854934692, 0.7669650316238403, 0.7669649720191956, 0.7613869905471802, 0.7606388330459595, 0.7606388330459595, 0.7606388330459595, 0.7590721249580383, 0.7589466571807861, 0.7589465975761414, 0.7505552768707275, 0.7453559637069702, 0.7453559637069702, 0.7453559637069702, 0.7452412843704224, 0.7452412843704224, 0.7706745862960815, 0.7537346482276917, 0.7537346482276917, 0.7442084550857544, 0.7089175581932068, 0.7089175581932068, 0.7080881595611572, 0.6928203105926514, 0.6928203105926514, 0.6928203105926514, 0.6831300258636475, 0.6708203554153442, 0.6694387197494507, 0.6666667461395264, 0.6666666865348816, 0.6605782508850098, 0.6605782508850098, 0.6546537280082703, 0.6546537280082703, 0.6531972885131836, 0.6531972289085388, 0.6531972289085388, 0.6531972289085388, 0.6531972289085388, 0.649234414100647, 0.6459752321243286, 0.6454972624778748, 0.64549720287323, 0.6390097141265869, 0.6374552845954895, 0.6350853443145752, 0.632455587387085, 0.632455587387085, 0.632455587387085, 0.632455587387085, 0.632455587387085, 0.632455587387085, 0.632455587387085, 0.6282808780670166, 0.6262242794036865, 0.6262242794036865, 0.9583351612091064, 0.9569425582885742, 0.9451889991760254, 0.9442673325538635, 0.9260923862457275, 0.9260923862457275, 0.9150794744491577, 0.9150794744491577, 0.9150793552398682, 0.9101820588111877, 0.910181999206543, 0.9081082344055176, 0.9081082344055176, 0.9074852466583252, 0.9074852466583252, 0.9049228429794312, 0.9049228429794312, 0.9037378430366516, 0.9037378430366516, 0.9037378430366516, 0.9037377834320068, 0.9024852514266968, 0.9019122123718262, 0.9019121527671814, 0.9019120931625366, 0.9008466005325317, 0.9003676176071167, 0.9003676176071167, 0.9003676176071167, 0.9003676176071167, 0.9003675580024719, 0.8997353911399841, 0.8995005488395691, 0.8932459950447083, 0.8932459354400635, 0.8930885195732117, 0.8917016983032227, 0.8911328315734863, 0.8910122513771057, 0.8902637958526611, 0.8902637958526611, 0.9866902828216553, 0.975784420967102, 0.9674797654151917, 0.9674797654151917, 0.9674797654151917, 0.9655351638793945, 0.9633640050888062, 0.9633640050888062, 0.9621404409408569, 0.9607347846031189, 0.9604803919792175, 0.9593835473060608, 0.9585145115852356, 0.9561829566955566, 0.9561829566955566, 0.9558173418045044, 0.9558172821998596, 0.9556189775466919, 0.9550230503082275, 0.9550230503082275, 0.954993724822998, 0.9545941352844238, 0.9545941352844238, 0.953462541103363, 0.953462541103363, 0.9520360231399536, 0.9520360231399536, 0.9515025615692139, 0.9503288269042969, 0.9490707516670227, 0.9486833810806274, 0.9471880197525024, 0.9468951225280762, 0.9465078711509705, 0.9455945491790771, 0.9455945491790771, 0.9438798427581787, 0.9438797831535339, 0.9438797831535339, 0.9432422518730164, 0.9428277611732483, 0.9532061815261841, 0.9374860525131226, 0.9370892643928528, 0.9353047609329224, 0.9353047609329224, 0.9353047609329224, 0.9332565069198608, 0.9332565069198608, 0.9322020411491394, 0.9313342571258545, 0.9313342571258545, 0.9284088611602783, 0.9279607534408569, 0.9274777173995972, 0.9268475770950317, 0.926847517490387, 0.9268472790718079, 0.9262908697128296, 0.9262435436248779, 0.9247311353683472, 0.9242740869522095, 0.9242740273475647, 0.92406165599823, 0.9236371517181396, 0.9215506315231323, 0.9213557243347168, 0.9210566282272339, 0.9207508563995361, 0.9206015467643738, 0.9206015467643738, 0.920558512210846, 0.9202830791473389, 0.9190074801445007, 0.9190074801445007, 0.9190074801445007, 0.9165445566177368, 0.9165445566177368, 0.9165444374084473, 0.9164396524429321, 0.9133691787719727, 0.9133690595626831, 0.9594032764434814, 0.9574270248413086, 0.9534626007080078, 0.942082405090332, 0.942082405090332, 0.942082405090332, 0.9285403490066528, 0.9284141659736633, 0.9199353456497192, 0.9198660850524902, 0.9173648953437805, 0.9116845726966858, 0.9111469984054565, 0.910578727722168, 0.9103584289550781, 0.9090908169746399, 0.9074425101280212, 0.904534101486206, 0.904534101486206, 0.904534101486206, 0.904534101486206, 0.904534101486206, 0.904534101486206, 0.904534101486206, 0.8983221650123596, 0.8935250639915466, 0.8869684934616089, 0.8780540227890015, 0.8764597177505493, 0.8761903643608093, 0.8746731877326965, 0.8746731877326965, 0.8727860450744629, 0.8709883689880371, 0.8709883093833923, 0.8703882098197937, 0.8678333163261414, 0.8664001822471619, 0.8664001822471619, 0.8656574487686157, 0.8624395132064819, 0.9798048138618469, 0.9798048138618469, 0.9798048138618469, 0.9770543575286865, 0.9756366014480591, 0.9756366014480591, 0.9743975400924683, 0.9729740023612976, 0.9727162718772888, 0.9716055393218994, 0.9683640003204346, 0.9683640003204346, 0.967993974685669, 0.967993974685669, 0.9677928686141968, 0.9671894311904907, 0.9671893119812012, 0.9671893119812012, 0.9671597480773926, 0.9656091332435608, 0.9656091332435608, 0.9641643166542053, 0.9641643166542053, 0.9624354243278503, 0.9611613750457764, 0.96076899766922, 0.9592544436454773, 0.9586621522903442, 0.9559042453765869, 0.9559042453765869, 0.9552585482597351, 0.9548386931419373, 0.9548198580741882, 0.953349769115448, 0.9533497095108032, 0.9528706073760986, 0.9517623782157898, 0.9515216946601868, 0.9512699842453003, 0.950933039188385, 0.9488521814346313, 0.9341987371444702, 0.9271726608276367, 0.9166666269302368, 0.9141378402709961, 0.9128709435462952, 0.9112957119941711, 0.9036960601806641, 0.9036960601806641, 0.9036960601806641, 0.9036960601806641, 0.8940593004226685, 0.8911328315734863, 0.8908708095550537, 0.8908708095550537, 0.8897565007209778, 0.888888955116272, 0.888888955116272, 0.8872442841529846, 0.8872442245483398, 0.8872442245483398, 0.884537935256958, 0.8819170594215393, 0.8819169998168945, 0.8816820383071899, 0.8807048201560974, 0.8804508447647095, 0.8783100843429565, 0.8728715777397156, 0.8672274351119995, 0.8672274351119995, 0.8660255074501038, 0.866025447845459, 0.866025447845459, 0.8660253286361694, 0.8660253286361694, 0.8660253286361694, 0.864392876625061, 0.861640453338623, 0.8576900959014893, 0.8565861582756042, 0.8564858436584473, 0.9333333373069763, 0.930949330329895, 0.930949330329895, 0.9214785695075989, 0.9128709435462952, 0.9109803438186646, 0.9109802842140198, 0.9098432064056396, 0.9056240916252136, 0.9056240916252136, 0.9036961197853088, 0.9014979600906372, 0.8989331722259521, 0.8981462717056274, 0.8981462121009827, 0.8944272398948669, 0.8944271802902222, 0.8944271206855774, 0.8898984789848328, 0.8807710409164429, 0.8788290023803711, 0.8765009641647339, 0.8755950331687927, 0.8741913437843323, 0.8739803433418274, 0.8728715181350708, 0.8682430982589722, 0.8666667342185974, 0.8666666746139526, 0.866249144077301, 0.8660255074501038, 0.8660253286361694, 0.8608284592628479, 0.8606629967689514, 0.8606629371643066, 0.8593379259109497, 0.8581165075302124, 0.8563488721847534, 0.8563488125801086, 0.8533104062080383, 0.8520128726959229, 0.9341987371444702, 0.9271726608276367, 0.9166666269302368, 0.9141378402709961, 0.9128709435462952, 0.9112957119941711, 0.9036960601806641, 0.9036960601806641, 0.9036960601806641, 0.9036960601806641, 0.8940593004226685, 0.8911328315734863, 0.8908708095550537, 0.8908708095550537, 0.8897565007209778, 0.888888955116272, 0.888888955116272, 0.8872442841529846, 0.8872442245483398, 0.8872442245483398, 0.884537935256958, 0.8819170594215393, 0.8819169998168945, 0.8816820383071899, 0.8807048201560974, 0.8804508447647095, 0.8783100843429565, 0.8728715777397156, 0.8672274351119995, 0.8672274351119995, 0.8660255074501038, 0.866025447845459, 0.866025447845459, 0.8660253286361694, 0.8660253286361694, 0.8660253286361694, 0.864392876625061, 0.861640453338623, 0.8576900959014893, 0.8565861582756042, 0.8564858436584473, 0.9169092178344727, 0.9101914167404175, 0.8982742428779602, 0.8965518474578857, 0.8863184452056885, 0.8858184814453125, 0.8853155970573425, 0.8853155970573425, 0.8763704299926758, 0.8740284442901611, 0.8735889196395874, 0.870022177696228, 0.8623165488243103, 0.8620792627334595, 0.8596023321151733, 0.8596023321151733, 0.8596023321151733, 0.8534918427467346, 0.8534918427467346, 0.8534917831420898, 0.8534047603607178, 0.8518433570861816, 0.8495482206344604, 0.8495482206344604, 0.8478026390075684, 0.8457281589508057, 0.843695878982544, 0.843695878982544, 0.843695878982544, 0.843695878982544, 0.8436958193778992, 0.8434653878211975, 0.8434653282165527, 0.8434653282165527, 0.843465268611908, 0.8410214781761169, 0.8403611183166504, 0.8403611183166504, 0.8398387432098389, 0.8396798372268677, 0.8376106023788452, 0.9898029565811157, 0.9894988536834717, 0.9829463958740234, 0.9784426689147949, 0.9784426689147949, 0.9647573828697205, 0.9635884165763855, 0.9630868434906006, 0.9630868434906006, 0.9630868434906006, 0.9630868434906006, 0.9630868434906006, 0.9630868434906006, 0.9630868434906006, 0.9630868434906006, 0.9630868434906006, 0.9630868434906006, 0.9630868434906006, 0.9630868434906006, 0.9630868434906006, 0.9630868434906006, 0.9630868434906006, 0.9630868434906006, 0.9630868434906006, 0.9630868434906006, 0.9630868434906006, 0.9630868434906006, 0.9630868434906006, 0.9630868434906006, 0.9630868434906006, 0.9630868434906006, 0.9603469371795654, 0.9603468775749207, 0.9603468775749207, 0.9583727717399597, 0.9556496739387512, 0.9556496739387512, 0.9556496739387512, 0.9543273448944092, 0.9513653516769409, 0.9500913023948669, 0.928506076335907, 0.8606629967689514, 0.8606629967689514, 0.8013433814048767, 0.7918388843536377, 0.7772119641304016, 0.7693164944648743, 0.7592567205429077, 0.7592564821243286, 0.7590721249580383, 0.7569125890731812, 0.7531184554100037, 0.7531184554100037, 0.7508517503738403, 0.75, 0.7440382242202759, 0.7429777979850769, 0.7423522472381592, 0.7416198253631592, 0.7416198253631592, 0.7416198253631592, 0.7416198253631592, 0.7378648519515991, 0.7378647923469543, 0.7378647923469543, 0.7267220616340637, 0.726722002029419, 0.721687912940979, 0.7199608087539673, 0.7183811664581299, 0.7171370983123779, 0.7144345641136169, 0.7080880999565125, 0.7079098224639893, 0.705024003982544, 0.705024003982544, 0.705024003982544, 0.7050238847732544, 0.7034175992012024, 0.7028168439865112, 0.7016464471817017, 1.0, 1.0, 0.9767818450927734, 0.9675326347351074, 0.963546097278595, 0.9621403813362122, 0.9609690308570862, 0.9603919982910156, 0.9596789479255676, 0.9594032764434814, 0.9534624814987183, 0.9534624814987183, 0.9532307386398315, 0.9493857622146606, 0.9489284753799438, 0.9489284753799438, 0.9489284753799438, 0.9489284753799438, 0.9489284753799438, 0.9486833810806274, 0.9463773965835571, 0.9436284899711609, 0.9430055022239685, 0.9429904222488403, 0.9429903030395508, 0.9429903030395508, 0.9408842921257019, 0.9400193691253662, 0.939148485660553, 0.9389861822128296, 0.9389861822128296, 0.9389861822128296, 0.9389711022377014, 0.9389711022377014, 0.9354953169822693, 0.9354953169822693, 0.9354143142700195, 0.9339475035667419, 0.9339475035667419, 0.9339475035667419, 0.9336221218109131, 0.9999999403953552, 0.9765536189079285, 0.9750854969024658, 0.9749135375022888, 0.9749135375022888, 0.9749135375022888, 0.9723448157310486, 0.9723448157310486, 0.9716054201126099, 0.9707252979278564, 0.9673307538032532, 0.9673307538032532, 0.9609690308570862, 0.9609690308570862, 0.9609279036521912, 0.9607689380645752, 0.9607689380645752, 0.9607689380645752, 0.9578133225440979, 0.9575175642967224, 0.9553170204162598, 0.9542195796966553, 0.9534239768981934, 0.9529258012771606, 0.9518745541572571, 0.9516486525535583, 0.9516486525535583, 0.9516485929489136, 0.9516485929489136, 0.9516485929489136, 0.9516485929489136, 0.9516485929489136, 0.9516485929489136, 0.9510344862937927, 0.9510344862937927, 0.950933039188385, 0.950933039188385, 0.9487437605857849, 0.9478946924209595, 0.9476128220558167, 0.9464575052261353, 1.0, 1.0, 1.0, 1.0, 1.0, 1.0, 1.0, 1.0, 1.0, 1.0, 0.9701424241065979, 0.9701423645019531, 0.9354143738746643, 0.9354143738746643, 0.9354143738746643, 0.9354143142700195, 0.9176629781723022, 0.8944272398948669, 0.875, 0.875, 0.866025447845459, 0.866025447845459, 0.866025447845459, 0.866025447845459, 0.8504201173782349, 0.8498365879058838, 0.8333332538604736, 0.8320503234863281, 0.8320503234863281, 0.8320503234863281, 0.8249579668045044, 0.8249578475952148, 0.8164966106414795, 0.8164966106414795, 0.8126046061515808, 0.8111474514007568, 0.8111070990562439, 0.8082239031791687, 0.8082238435745239, 0.8017838597297668, 0.8017838001251221, 1.0, 1.0, 0.9767818450927734, 0.9675326347351074, 0.963546097278595, 0.9621403813362122, 0.9609690308570862, 0.9603919982910156, 0.9596789479255676, 0.9594032764434814, 0.9534624814987183, 0.9534624814987183, 0.9532307386398315, 0.9493857622146606, 0.9489284753799438, 0.9489284753799438, 0.9489284753799438, 0.9489284753799438, 0.9489284753799438, 0.9486833810806274, 0.9463773965835571, 0.9436284899711609, 0.9430055022239685, 0.9429904222488403, 0.9429903030395508, 0.9429903030395508, 0.9408842921257019, 0.9400193691253662, 0.939148485660553, 0.9389861822128296, 0.9389861822128296, 0.9389861822128296, 0.9389711022377014, 0.9389711022377014, 0.9354953169822693, 0.9354953169822693, 0.9354143142700195, 0.9339475035667419, 0.9339475035667419, 0.9339475035667419, 0.9336221218109131, 1.0, 0.9908673167228699, 0.9730124473571777, 0.927105188369751, 0.927105188369751, 0.9233805537223816, 0.9233805537223816, 0.9233805537223816, 0.9233805537223816, 0.9223310351371765, 0.9185587167739868, 0.9150798320770264, 0.9091923236846924, 0.9086883664131165, 0.9086882472038269, 0.9068453311920166, 0.9068453311920166, 0.9068453311920166, 0.9068452715873718, 0.9067235589027405, 0.9057895541191101, 0.9057895541191101, 0.9057257175445557, 0.9057255983352661, 0.9036961197853088, 0.9036961197853088, 0.9036425352096558, 0.9035078883171082, 0.9027075171470642, 0.9004503488540649, 0.9000000357627869, 0.8992518186569214, 0.8977311253547668, 0.8977310657501221, 0.8959786891937256, 0.8959786891937256, 0.8959786891937256, 0.8948382139205933, 0.8944272994995117, 0.8944272398948669, 0.8901636004447937, 1.0000001192092896, 0.9908673763275146, 0.9720615148544312, 0.9318912625312805, 0.9318912625312805, 0.931891143321991, 0.931891143321991, 0.9284141063690186, 0.9239884614944458, 0.9214065670967102, 0.9185315370559692, 0.9185314774513245, 0.9185314774513245, 0.9132660627365112, 0.9132660627365112, 0.9121594429016113, 0.9121593832969666, 0.908295214176178, 0.907442569732666, 0.903652012348175, 0.9014203548431396, 0.8994011878967285, 0.8994011878967285, 0.8994011878967285, 0.8994011878967285, 0.8983222246170044, 0.8971500396728516, 0.895622193813324, 0.8927095532417297, 0.8924134969711304, 0.8924133777618408, 0.8922686576843262, 0.8922686576843262, 0.8922268748283386, 0.8919916152954102, 0.891455352306366, 0.889898419380188, 0.8897131681442261, 0.8883363604545593, 0.8883363604545593, 0.8883362412452698, 0.9999999403953552, 0.9999999403953552, 0.9999999403953552, 0.9999999403953552, 0.9999999403953552, 0.9999999403953552, 0.9999999403953552, 0.9999999403953552, 0.9999999403953552, 0.9999999403953552, 0.9999999403953552, 0.9999999403953552, 0.9999999403953552, 0.9999999403953552, 0.9999999403953552, 0.9999999403953552, 0.9999999403953552, 0.9999999403953552, 0.9999999403953552, 0.9999999403953552, 0.9999999403953552, 0.9999999403953552, 0.9999999403953552, 0.9819805026054382, 0.9701424837112427, 0.9701424837112427, 0.9594032764434814, 0.9444443583488464, 0.9354143738746643, 0.9354143738746643, 0.9176629185676575, 0.9036961197853088, 0.8872443437576294, 0.884537935256958, 0.883883535861969, 0.8816820383071899, 0.8757291436195374, 0.8750000596046448, 0.8750000596046448, 0.8750000596046448, 0.875, 0.9999999403953552, 0.9730124473571777, 0.9720615148544312, 0.9504968523979187, 0.9495629072189331, 0.9495629072189331, 0.9428291916847229, 0.9428291916847229, 0.9428291320800781, 0.9428291320800781, 0.9428291320800781, 0.9415245056152344, 0.9306779503822327, 0.9306631088256836, 0.9304841756820679, 0.9304841756820679, 0.9304841160774231, 0.9304841160774231, 0.9243422150611877, 0.9210565686225891, 0.9210565686225891, 0.9187794923782349, 0.9186933636665344, 0.9173650741577148, 0.9173650741577148, 0.9173649549484253, 0.9163297414779663, 0.9163297414779663, 0.9154754877090454, 0.9150522351264954, 0.9150521755218506, 0.9150521755218506, 0.9143939018249512, 0.9143939018249512, 0.9141045212745667, 0.9137173295021057, 0.9137173295021057, 0.9121594429016113, 0.9121593236923218, 0.9121593236923218, 0.9121593236923218, 0.9746794104576111, 0.9550230503082275, 0.9534626603126526, 0.9486833810806274, 0.9486833810806274, 0.9467291831970215, 0.9449111819267273, 0.934198796749115, 0.9316950440406799, 0.9316949844360352, 0.9316949844360352, 0.9316949844360352, 0.9316948652267456, 0.9315560460090637, 0.9296696782112122, 0.9237022995948792, 0.9237022995948792, 0.9237022399902344, 0.9237022399902344, 0.9237022399902344, 0.9216353297233582, 0.9209108948707581, 0.9203580021858215, 0.920357882976532, 0.920357882976532, 0.9190182685852051, 0.9190182685852051, 0.9170606136322021, 0.9141740798950195, 0.9135003089904785, 0.9135003089904785, 0.9135003089904785, 0.9135002493858337, 0.9135002493858337, 0.9132592678070068, 0.9128709435462952, 0.9128708243370056, 0.9101698398590088, 0.9101698398590088, 0.9101697206497192, 0.9091920852661133, 0.9574270248413086, 0.9486833810806274, 0.9449111819267273, 0.942808985710144, 0.941596269607544, 0.9298987984657288, 0.9244735836982727, 0.9238697290420532, 0.9223308563232422, 0.9185585379600525, 0.9185585379600525, 0.9141380190849304, 0.9141379594802856, 0.9141379594802856, 0.9138599634170532, 0.9131711721420288, 0.9128710031509399, 0.9128710031509399, 0.9128709435462952, 0.9128709435462952, 0.9128709435462952, 0.9128709435462952, 0.9128708839416504, 0.9112957119941711, 0.9103457927703857, 0.9097176194190979, 0.9097176194190979, 0.9082950949668884, 0.9082950949668884, 0.9072184562683105, 0.9060606956481934, 0.9058215618133545, 0.9058215618133545, 0.9058215618133545, 0.9056545495986938, 0.9036961197853088, 0.9036961197853088, 0.9036961197853088, 0.9035252928733826, 0.9035096168518066, 0.9027306437492371, 0.8682430982589722, 0.8362420201301575, 0.827837347984314, 0.827837347984314, 0.8006408214569092, 0.8006408214569092, 0.8006408214569092, 0.8006407022476196, 0.7893521785736084, 0.7893521785736084, 0.7893521785736084, 0.7844644784927368, 0.7692307829856873, 0.7692307829856873, 0.7692307829856873, 0.7627127766609192, 0.7627127170562744, 0.7614996433258057, 0.7526178359985352, 0.7518094778060913, 0.7518094182014465, 0.7472647428512573, 0.7433851361274719, 0.7412493824958801, 0.7412492632865906, 0.7412492632865906, 0.7412492632865906, 0.7399401068687439, 0.7399400472640991, 0.7396003007888794, 0.7354354858398438, 0.7354354858398438, 0.7354354858398438, 0.7282019853591919, 0.7275329232215881, 0.724206805229187, 0.7238423824310303, 0.7211102843284607, 0.7211102247238159, 0.7211101651191711, 0.7205767035484314, 0.9565216898918152, 0.9565216898918152, 0.9498989582061768, 0.9457324743270874, 0.9451747536659241, 0.9443699717521667, 0.9437401294708252, 0.9437401294708252, 0.9437401294708252, 0.9383845329284668, 0.9383148550987244, 0.9363821744918823, 0.9363821744918823, 0.9348927736282349, 0.9337990880012512, 0.9337989687919617, 0.9335636496543884, 0.9325048923492432, 0.9325048327445984, 0.9325048327445984, 0.9325047731399536, 0.9308956861495972, 0.9292836785316467, 0.929283618927002, 0.9274377822875977, 0.9267343878746033, 0.9255481362342834, 0.9255481362342834, 0.9231326580047607, 0.9229581952095032, 0.9223132133483887, 0.921512246131897, 0.921512246131897, 0.921512246131897, 0.920067310333252, 0.9194622039794922, 0.9191833734512329, 0.918714702129364, 0.9170674085617065, 0.9163795709609985, 0.915249228477478, 0.7893521785736084, 0.7682733535766602, 0.7627700567245483, 0.7627700567245483, 0.7378647923469543, 0.7378647923469543, 0.730296790599823, 0.7302967309951782, 0.7181848287582397, 0.7181848287582397, 0.7181848287582397, 0.71611487865448, 0.7046642303466797, 0.7046642303466797, 0.7046642303466797, 0.6999999284744263, 0.6885303258895874, 0.6761233806610107, 0.6751399636268616, 0.6708204746246338, 0.670820415019989, 0.6708203554153442, 0.6643638014793396, 0.6529286503791809, 0.6527534127235413, 0.6507914066314697, 0.6425754427909851, 0.640444815158844, 0.6368938684463501, 0.636881411075592, 0.636396050453186, 0.636396050453186, 0.6331738233566284, 0.632455587387085, 0.632455587387085, 0.632455587387085, 0.632455587387085, 0.632455587387085, 0.632455587387085, 0.632455587387085, 0.632455587387085, 0.7893521785736084, 0.7682733535766602, 0.7627700567245483, 0.7627700567245483, 0.7378647923469543, 0.7378647923469543, 0.730296790599823, 0.7302967309951782, 0.7181848287582397, 0.7181848287582397, 0.7181848287582397, 0.71611487865448, 0.7046642303466797, 0.7046642303466797, 0.7046642303466797, 0.6999999284744263, 0.6885303258895874, 0.6761233806610107, 0.6751399636268616, 0.6708204746246338, 0.670820415019989, 0.6708203554153442, 0.6643638014793396, 0.6529286503791809, 0.6527534127235413, 0.6507914066314697, 0.6425754427909851, 0.640444815158844, 0.6368938684463501, 0.636881411075592, 0.636396050453186, 0.636396050453186, 0.6331738233566284, 0.632455587387085, 0.632455587387085, 0.632455587387085, 0.632455587387085, 0.632455587387085, 0.632455587387085, 0.632455587387085, 0.632455587387085, 0.7427812814712524, 0.7115124464035034, 0.6875, 0.6859943866729736, 0.6717513799667358, 0.6495190858840942, 0.6495190262794495, 0.64549720287323, 0.6324554681777954, 0.6308932304382324, 0.6240376830101013, 0.6172133684158325, 0.6123724579811096, 0.6098575592041016, 0.603509783744812, 0.6030226945877075, 0.6030226349830627, 0.5908789038658142, 0.5892556309700012, 0.5883484482765198, 0.588348388671875, 0.5657523274421692, 0.561341404914856, 0.5604485273361206, 0.553398609161377, 0.5393193364143372, 0.5375872254371643, 0.5345224738121033, 0.5345224738121033, 0.5330017805099487, 0.5303300619125366, 0.5252257585525513, 0.5163977146148682, 0.5138701796531677, 0.5103104114532471, 0.5085834264755249, 0.5051814913749695, 0.5051814913749695, 0.5031153559684753, 0.5031153559684753, 0.5031153559684753, 0.8403582572937012, 0.8403582572937012, 0.8403582572937012, 0.835504412651062, 0.835504412651062, 0.8109307885169983, 0.8109307885169983, 0.8109307885169983, 0.8109307885169983, 0.8109307885169983, 0.8109307885169983, 0.7974143028259277, 0.7912566065788269, 0.785868227481842, 0.7815475463867188, 0.7804216742515564, 0.7804216742515564, 0.7804216742515564, 0.7804216742515564, 0.7802714705467224, 0.7802714705467224, 0.7779698371887207, 0.7742251753807068, 0.769530177116394, 0.7679476141929626, 0.7675662040710449, 0.7673122882843018, 0.7656166553497314, 0.7647885084152222, 0.7634850144386292, 0.7622517347335815, 0.7619224786758423, 0.7610738277435303, 0.7610738277435303, 0.7608797550201416, 0.7582875490188599, 0.7576549053192139, 0.7558647990226746, 0.7558647990226746, 0.7551923394203186, 0.7551923394203186, 0.9787956476211548, 0.9640347957611084, 0.9633799195289612, 0.9621022939682007, 0.9621022939682007, 0.9621022939682007, 0.9558526873588562, 0.955649733543396, 0.9537877440452576, 0.9511599540710449, 0.9508497714996338, 0.950750470161438, 0.9501460790634155, 0.9501460790634155, 0.948979914188385, 0.9488522410392761, 0.9476815462112427, 0.947346568107605, 0.9465924501419067, 0.9456577301025391, 0.9456577301025391, 0.9447561502456665, 0.9434391856193542, 0.9412353038787842, 0.9409593343734741, 0.9405803680419922, 0.9405162334442139, 0.9399007558822632, 0.9399007558822632, 0.9399007558822632, 0.9385019540786743, 0.9379648566246033, 0.9378902316093445, 0.9378902316093445, 0.9376354813575745, 0.9374703168869019, 0.9367507100105286, 0.9361648559570312, 0.9349470138549805, 0.9349470138549805, 0.9333308339118958, 0.9899494051933289, 0.9834450483322144, 0.976186990737915, 0.976186990737915, 0.9682456851005554, 0.9660918116569519, 0.9655351042747498, 0.9648363590240479, 0.9638631343841553, 0.9589265584945679, 0.9561828374862671, 0.9561828374862671, 0.9561828374862671, 0.955778956413269, 0.9547921419143677, 0.9547921419143677, 0.9486833810806274, 0.9486832618713379, 0.9486832618713379, 0.9486832618713379, 0.9486832618713379, 0.9486832618713379, 0.9431191682815552, 0.9431191086769104, 0.9431191086769104, 0.942990243434906, 0.939552366733551, 0.9393364191055298, 0.9341987371444702, 0.9341987371444702, 0.9333333373069763, 0.9333332777023315, 0.9326733350753784, 0.9325048327445984, 0.9325048327445984, 0.9309494495391846, 0.9309493899345398, 0.930949330329895, 0.9302606582641602, 0.9302605986595154, 0.9302605390548706, 0.9810229539871216, 0.9782320857048035, 0.9782319664955139, 0.9762212038040161, 0.9753615260124207, 0.9746794700622559, 0.9746794700622559, 0.9746794104576111, 0.9746793508529663, 0.9746793508529663, 0.9733285903930664, 0.9713237881660461, 0.9713237881660461, 0.9713237285614014, 0.9694584012031555, 0.9666388630867004, 0.9639604687690735, 0.9637387990951538, 0.9633640050888062, 0.9627198576927185, 0.9627197980880737, 0.9627197980880737, 0.9614822864532471, 0.9602859616279602, 0.9602859020233154, 0.9592421650886536, 0.9592421054840088, 0.9575798511505127, 0.9575797915458679, 0.9571064710617065, 0.9567298889160156, 0.9557896256446838, 0.9557563066482544, 0.9550175666809082, 0.954427182674408, 0.953821063041687, 0.9538208246231079, 0.9511897563934326, 0.9477583169937134, 0.9477583169937134, 0.9477583169937134, 0.9999999403953552, 0.9999999403953552, 0.9999999403953552, 0.9999999403953552, 0.9999999403953552, 0.9999999403953552, 0.9999999403953552, 0.9999999403953552, 0.9999999403953552, 0.9999999403953552, 0.9999999403953552, 0.9999999403953552, 0.9999999403953552, 0.9999999403953552, 0.9999999403953552, 0.9999999403953552, 0.9999999403953552, 0.9999999403953552, 0.9999999403953552, 0.9999999403953552, 0.9999999403953552, 0.9999999403953552, 0.9999999403953552, 0.9819805026054382, 0.9701424837112427, 0.9701424837112427, 0.9594032764434814, 0.9444443583488464, 0.9354143738746643, 0.9354143738746643, 0.9176629185676575, 0.9036961197853088, 0.8872443437576294, 0.884537935256958, 0.883883535861969, 0.8816820383071899, 0.8757291436195374, 0.8750000596046448, 0.8750000596046448, 0.8750000596046448, 0.875, 0.9899494051933289, 0.9834450483322144, 0.976186990737915, 0.976186990737915, 0.9682456851005554, 0.9660918116569519, 0.9655351042747498, 0.9648363590240479, 0.9638631343841553, 0.9589265584945679, 0.9561828374862671, 0.9561828374862671, 0.9561828374862671, 0.955778956413269, 0.9547921419143677, 0.9547921419143677, 0.9486833810806274, 0.9486832618713379, 0.9486832618713379, 0.9486832618713379, 0.9486832618713379, 0.9486832618713379, 0.9431191682815552, 0.9431191086769104, 0.9431191086769104, 0.942990243434906, 0.939552366733551, 0.9393364191055298, 0.9341987371444702, 0.9341987371444702, 0.9333333373069763, 0.9333332777023315, 0.9326733350753784, 0.9325048327445984, 0.9325048327445984, 0.9309494495391846, 0.9309493899345398, 0.930949330329895, 0.9302606582641602, 0.9302605986595154, 0.9302605390548706, 0.9342836737632751, 0.9198662638664246, 0.9177364110946655, 0.9172160625457764, 0.9170347452163696, 0.9121114611625671, 0.9104464054107666, 0.9060911536216736, 0.9001545906066895, 0.8964154124259949, 0.8934179544448853, 0.893246054649353, 0.893197774887085, 0.8927424550056458, 0.8927121162414551, 0.8922709822654724, 0.8920091986656189, 0.884165346622467, 0.8828856348991394, 0.882369875907898, 0.8820672035217285, 0.880704939365387, 0.880704939365387, 0.8807048797607422, 0.8807047605514526, 0.8803901672363281, 0.8800392746925354, 0.879304051399231, 0.879304051399231, 0.879304051399231, 0.8793039917945862, 0.8782753944396973, 0.8775799870491028, 0.8775146007537842, 0.8775146007537842, 0.8765509128570557, 0.8759853839874268, 0.8755629062652588, 0.8755444884300232, 0.8752736449241638, 0.8736882209777832, 0.96076899766922, 0.8932461142539978, 0.8278374671936035, 0.827837347984314, 0.8271702527999878, 0.8240419030189514, 0.8240419030189514, 0.8240419030189514, 0.8207294344902039, 0.8207294344902039, 0.8153742551803589, 0.8153742551803589, 0.8096408843994141, 0.8096408843994141, 0.808190107345581, 0.8062257766723633, 0.8062257766723633, 0.805322527885437, 0.7925939559936523, 0.7925939559936523, 0.7877264022827148, 0.7877264022827148, 0.7867957949638367, 0.7783117890357971, 0.7724872827529907, 0.7687060832977295, 0.7687060832977295, 0.7687060236930847, 0.7687060236930847, 0.7687060236930847, 0.7687060236930847, 0.7687060236930847, 0.7686577439308167, 0.7686577439308167, 0.7686576843261719, 0.7666357159614563, 0.7648661732673645, 0.7635417580604553, 0.7635416388511658, 0.762712836265564, 0.7627127170562744, 0.9759000539779663, 0.9566808342933655, 0.9559937715530396, 0.9534624814987183, 0.9486833214759827, 0.9486833214759827, 0.9486833214759827, 0.9486832618713379, 0.946729302406311, 0.9458757638931274, 0.9441176652908325, 0.9433000087738037, 0.9431192874908447, 0.9431192278862, 0.9431192278862, 0.9431191086769104, 0.9395524859428406, 0.9391486048698425, 0.9391485452651978, 0.938971221446991, 0.938971221446991, 0.9389709234237671, 0.9381389617919922, 0.9359709620475769, 0.9355127215385437, 0.9341988563537598, 0.9341988563537598, 0.9326733350753784, 0.9325048923492432, 0.9300538301467896, 0.9296698570251465, 0.9296697974205017, 0.9296697378158569, 0.9296697378158569, 0.9296697378158569, 0.9296696782112122, 0.9296696782112122, 0.9274495244026184, 0.9271051287651062, 0.9250000715255737, 0.9250000715255737, 0.9298955202102661, 0.8981462717056274, 0.8981462717056274, 0.8832715749740601, 0.8831761479377747, 0.8814826011657715, 0.8814826011657715, 0.879457950592041, 0.8783100843429565, 0.8783100843429565, 0.8763561844825745, 0.8763561844825745, 0.8760629892349243, 0.8755950927734375, 0.8672274351119995, 0.8660255074501038, 0.8640987873077393, 0.8614109754562378, 0.8608285784721375, 0.8608285784721375, 0.8608284592628479, 0.860663115978241, 0.8606629967689514, 0.8606629967689514, 0.8589058518409729, 0.8573215007781982, 0.857159435749054, 0.855688750743866, 0.852573573589325, 0.852573573589325, 0.8510497808456421, 0.8475794792175293, 0.8475793600082397, 0.8467803001403809, 0.8454028964042664, 0.8454028367996216, 0.8454028367996216, 0.8454028367996216, 0.8432741165161133, 0.8432739973068237, 0.8432739973068237, 0.9037378430366516, 0.8770579099655151, 0.8770579099655151, 0.8702853322029114, 0.8702853322029114, 0.8680789470672607, 0.8608285188674927, 0.8605266809463501, 0.8561726808547974, 0.8453637957572937, 0.8453637957572937, 0.8438529372215271, 0.8430888056755066, 0.8425607681274414, 0.8408409357070923, 0.8408408761024475, 0.8408408761024475, 0.8406727313995361, 0.8386279344558716, 0.8386278748512268, 0.8386278748512268, 0.8385565280914307, 0.8376106023788452, 0.8376104831695557, 0.8372344970703125, 0.837234377861023, 0.8362419009208679, 0.8334936499595642, 0.8334935903549194, 0.8334935903549194, 0.8332051634788513, 0.8332051634788513, 0.8323543071746826, 0.8320503830909729, 0.8320503234863281, 0.8320502638816833, 0.8303365111351013, 0.8295879364013672, 0.8295877575874329, 0.8287419676780701, 0.8287419676780701, 0.8483819961547852, 0.7203602194786072, 0.6443860530853271, 0.6238502264022827, 0.6238502264022827, 0.5812382102012634, 0.5718627572059631, 0.5607997179031372, 0.5607997179031372, 0.558956503868103, 0.551410973072052, 0.5378561615943909, 0.525749683380127, 0.525749683380127, 0.5231143236160278, 0.5198752284049988, 0.5183439254760742, 0.5082247257232666, 0.493196964263916, 0.4903043508529663, 0.4793012738227844, 0.4784713387489319, 0.4784713387489319, 0.4698092043399811, 0.45945948362350464, 0.4512709677219391, 0.4512709677219391, 0.4461134076118469, 0.441893994808197, 0.4359286427497864, 0.43423569202423096, 0.42624133825302124, 0.42624133825302124, 0.42624133825302124, 0.4184914827346802, 0.4113547205924988, 0.4109974801540375, 0.40766096115112305, 0.40686675906181335, 0.40686675906181335, 0.4043681025505066, 0.9298955202102661, 0.8981462717056274, 0.8981462717056274, 0.8832715749740601, 0.8831761479377747, 0.8814826011657715, 0.8814826011657715, 0.879457950592041, 0.8783100843429565, 0.8783100843429565, 0.8763561844825745, 0.8763561844825745, 0.8760629892349243, 0.8755950927734375, 0.8672274351119995, 0.8660255074501038, 0.8640987873077393, 0.8614109754562378, 0.8608285784721375, 0.8608285784721375, 0.8608284592628479, 0.860663115978241, 0.8606629967689514, 0.8606629967689514, 0.8589058518409729, 0.8573215007781982, 0.857159435749054, 0.855688750743866, 0.852573573589325, 0.852573573589325, 0.8510497808456421, 0.8475794792175293, 0.8475793600082397, 0.8467803001403809, 0.8454028964042664, 0.8454028367996216, 0.8454028367996216, 0.8454028367996216, 0.8432741165161133, 0.8432739973068237, 0.8432739973068237, 0.9999998807907104, 0.9999998807907104, 0.9999998807907104, 0.9999998807907104, 0.9999998807907104, 0.9999998807907104, 0.9999998807907104, 0.9999998807907104, 0.9999998807907104, 0.9999998807907104, 0.9999998807907104, 0.9999998807907104, 0.9999998807907104, 0.9999998807907104, 0.9999998807907104, 0.9999998807907104, 0.9960238933563232, 0.9918366074562073, 0.9918366074562073, 0.9855274558067322, 0.9855274558067322, 0.9855274558067322, 0.9855273962020874, 0.9855273962020874, 0.9855273962020874, 0.9855273962020874, 0.9855273962020874, 0.9847319722175598, 0.9847319722175598, 0.984731912612915, 0.984119713306427, 0.9829463362693787, 0.9805806875228882, 0.9801960587501526, 0.9799578785896301, 0.9797958731651306, 0.9771397709846497, 0.9771397709846497, 0.9737289547920227, 0.9737289547920227, 0.9737289547920227, 0.9999998807907104, 0.9999998807907104, 0.9999998807907104, 0.9999998807907104, 0.9999998807907104, 0.9999998807907104, 0.9999998807907104, 0.9999998807907104, 0.9999998807907104, 0.9999998807907104, 0.9999998807907104, 0.9999998807907104, 0.9999998807907104, 0.9999998807907104, 0.9999998807907104, 0.9999998807907104, 0.9960238933563232, 0.9918366074562073, 0.9918366074562073, 0.9855274558067322, 0.9855274558067322, 0.9855274558067322, 0.9855273962020874, 0.9855273962020874, 0.9855273962020874, 0.9855273962020874, 0.9855273962020874, 0.9847319722175598, 0.9847319722175598, 0.984731912612915, 0.984119713306427, 0.9829463362693787, 0.9805806875228882, 0.9801960587501526, 0.9799578785896301, 0.9797958731651306, 0.9771397709846497, 0.9771397709846497, 0.9737289547920227, 0.9737289547920227, 0.9737289547920227, 0.9128708839416504, 0.8406727910041809, 0.8333333730697632, 0.8333333730697632, 0.8198915719985962, 0.8179129362106323, 0.8164966106414795, 0.8017836809158325, 0.8017836809158325, 0.8006407618522644, 0.7947194576263428, 0.7938566207885742, 0.7925940155982971, 0.7905694246292114, 0.7879670262336731, 0.7825079560279846, 0.7825079560279846, 0.7825079560279846, 0.7777777910232544, 0.7745967507362366, 0.7745967507362366, 0.774596631526947, 0.771516740322113, 0.766032338142395, 0.7637626528739929, 0.7593264579772949, 0.7593263387680054, 0.7505553960800171, 0.7505553960800171, 0.7504787445068359, 0.7500000596046448, 0.75, 0.75, 0.75, 0.75, 0.7499999403953552, 0.7492685914039612, 0.7469136714935303, 0.7426106929779053, 0.7395740747451782, 0.738548994064331, 0.9999998807907104, 0.9999998807907104, 0.9999998807907104, 0.9999998807907104, 0.9999998807907104, 0.9999998807907104, 0.9999998807907104, 0.9999998807907104, 0.9999998807907104, 0.9999998807907104, 0.9999998807907104, 0.9999998807907104, 0.9999998807907104, 0.9999998807907104, 0.9999998807907104, 0.9999998807907104, 0.9960238933563232, 0.9918366074562073, 0.9918366074562073, 0.9855274558067322, 0.9855274558067322, 0.9855274558067322, 0.9855273962020874, 0.9855273962020874, 0.9855273962020874, 0.9855273962020874, 0.9855273962020874, 0.9847319722175598, 0.9847319722175598, 0.984731912612915, 0.984119713306427, 0.9829463362693787, 0.9805806875228882, 0.9801960587501526, 0.9799578785896301, 0.9797958731651306, 0.9771397709846497, 0.9771397709846497, 0.9737289547920227, 0.9737289547920227, 0.9737289547920227, 0.9546686410903931, 0.9525008201599121, 0.9525008201599121, 0.9519716501235962, 0.9519716501235962, 0.9422228932380676, 0.9354143142700195, 0.9274260997772217, 0.9268550872802734, 0.9263021349906921, 0.9263020753860474, 0.9258200526237488, 0.9228396415710449, 0.9207509756088257, 0.9207508563995361, 0.9207367897033691, 0.919238805770874, 0.9192387461662292, 0.9191450476646423, 0.9191450476646423, 0.9187104105949402, 0.9181763529777527, 0.9176629185676575, 0.9166666269302368, 0.916578471660614, 0.916578471660614, 0.9149913787841797, 0.9148908853530884, 0.9141378998756409, 0.9139076471328735, 0.9133462905883789, 0.9133462905883789, 0.9133462905883789, 0.9133462905883789, 0.9128708839416504, 0.9128707647323608, 0.9124954342842102, 0.9120291471481323, 0.9095085859298706, 0.9095085859298706, 0.9095085263252258, 0.9723057150840759, 0.9548636674880981, 0.9548636674880981, 0.9219545125961304, 0.9117647409439087, 0.9115638732910156, 0.9115046262741089, 0.9109358787536621, 0.9106417298316956, 0.9106416702270508, 0.9101820588111877, 0.9101820588111877, 0.910181999206543, 0.9095085859298706, 0.9081082940101624, 0.9074852466583252, 0.906869649887085, 0.9068695306777954, 0.9049358367919922, 0.9049035310745239, 0.903876781463623, 0.8997353315353394, 0.899181604385376, 0.8990275859832764, 0.8986452221870422, 0.8986451029777527, 0.8981249928474426, 0.8978642821311951, 0.897364616394043, 0.8958086967468262, 0.8956221342086792, 0.8951714038848877, 0.8948381543159485, 0.8938431739807129, 0.8934147357940674, 0.893259584903717, 0.893259584903717, 0.893259584903717, 0.8930886387825012, 0.8930885791778564, 0.8926785588264465, 0.9165151715278625, 0.8954430222511292, 0.8954430222511292, 0.8759957551956177, 0.8246211409568787, 0.8164966106414795, 0.8082903623580933, 0.803326427936554, 0.8000000715255737, 0.7999999523162842, 0.7923547625541687, 0.7902633547782898, 0.7855844497680664, 0.7855843901634216, 0.7794228196144104, 0.7786628007888794, 0.7778175473213196, 0.7765803337097168, 0.7761140465736389, 0.774596631526947, 0.77247154712677, 0.7715167999267578, 0.7666981816291809, 0.7666981816291809, 0.7615772485733032, 0.7602630853652954, 0.7602630853652954, 0.7559288740158081, 0.754342257976532, 0.7542471885681152, 0.752139687538147, 0.75, 0.75, 0.7499999403953552, 0.7483315467834473, 0.7483314871788025, 0.7483314275741577, 0.7462185621261597, 0.7427813410758972, 0.7424620985984802, 0.7424620985984802, 0.9747547507286072, 0.9747547507286072, 0.9667962193489075, 0.9587093591690063, 0.9518173336982727, 0.9518173336982727, 0.9509798288345337, 0.9496715068817139, 0.9476780295372009, 0.9437015056610107, 0.9428712725639343, 0.9428472518920898, 0.942082405090332, 0.9416363835334778, 0.9401747584342957, 0.9364182353019714, 0.9346851706504822, 0.9341986775398254, 0.9337221384048462, 0.9328736066818237, 0.9322981834411621, 0.9320951700210571, 0.9318182468414307, 0.9318181276321411, 0.9318181276321411, 0.9312905073165894, 0.9307577610015869, 0.9307577610015869, 0.9304842948913574, 0.9304841160774231, 0.9303739666938782, 0.9303739666938782, 0.9296600222587585, 0.9296600222587585, 0.9296600222587585, 0.9296600222587585, 0.928840696811676, 0.928840696811676, 0.928032398223877, 0.9277308583259583, 0.9266964197158813, 0.8101627230644226, 0.785868227481842, 0.7833495140075684, 0.7833495140075684, 0.7713891863822937, 0.7713891863822937, 0.7713891863822937, 0.7710995674133301, 0.7710995674133301, 0.7706746459007263, 0.7693217992782593, 0.7693217992782593, 0.7675225734710693, 0.7658161520957947, 0.7627700567245483, 0.7610525488853455, 0.7562625408172607, 0.7557421922683716, 0.7544335126876831, 0.7537783980369568, 0.7537783980369568, 0.753778338432312, 0.753778338432312, 0.7462025284767151, 0.7416198253631592, 0.7407437562942505, 0.7399957180023193, 0.7398300170898438, 0.7392480373382568, 0.7392479777336121, 0.7385489344596863, 0.7336740493774414, 0.7336739897727966, 0.732134222984314, 0.7309738397598267, 0.7278603315353394, 0.7275475859642029, 0.7275475263595581, 0.7252405285835266, 0.7248824238777161, 0.7248824238777161, 0.8416253924369812, 0.8416253924369812, 0.8224782943725586, 0.8084520697593689, 0.8060599565505981, 0.8051609992980957, 0.8043997287750244, 0.8043997287750244, 0.8043997287750244, 0.8043996691703796, 0.7893862724304199, 0.7882407903671265, 0.786718487739563, 0.7848839163780212, 0.7811209559440613, 0.7811209559440613, 0.7789808511734009, 0.7778445482254028, 0.7767130732536316, 0.7761139273643494, 0.771743655204773, 0.7694869041442871, 0.7680293917655945, 0.7678360939025879, 0.7678359746932983, 0.7673643827438354, 0.7669650316238403, 0.7669649720191956, 0.7669649124145508, 0.7662411332130432, 0.7656415700912476, 0.7647058963775635, 0.7643157839775085, 0.7641791105270386, 0.7634862661361694, 0.7633986473083496, 0.7622548341751099, 0.7622547149658203, 0.7612432241439819, 0.7610424160957336, 0.7605466842651367, 0.9229719638824463, 0.8931884169578552, 0.8866356015205383, 0.8825225830078125, 0.8209008574485779, 0.8171505331993103, 0.7783117890357971, 0.7783117890357971, 0.7765803337097168, 0.7627127766609192, 0.7428908348083496, 0.7428908348083496, 0.7131997346878052, 0.7071067690849304, 0.7067392468452454, 0.7067392468452454, 0.7041867971420288, 0.6999132633209229, 0.6933752298355103, 0.6878708600997925, 0.6877464056015015, 0.6805446743965149, 0.6796437501907349, 0.6713795065879822, 0.6695340871810913, 0.6605286002159119, 0.6605286002159119, 0.6577935218811035, 0.6577935218811035, 0.6577935218811035, 0.6577935218811035, 0.6537203788757324, 0.6527139544487, 0.6445033550262451, 0.6405125856399536, 0.639039158821106, 0.6379052400588989, 0.6379052400588989, 0.6362847685813904, 0.6362847685813904, 0.6362847685813904, 0.8416253924369812, 0.8416253924369812, 0.8224782943725586, 0.8084520697593689, 0.8060599565505981, 0.8051609992980957, 0.8043997287750244, 0.8043997287750244, 0.8043997287750244, 0.8043996691703796, 0.7893862724304199, 0.7882407903671265, 0.786718487739563, 0.7848839163780212, 0.7811209559440613, 0.7811209559440613, 0.7789808511734009, 0.7778445482254028, 0.7767130732536316, 0.7761139273643494, 0.771743655204773, 0.7694869041442871, 0.7680293917655945, 0.7678360939025879, 0.7678359746932983, 0.7673643827438354, 0.7669650316238403, 0.7669649720191956, 0.7669649124145508, 0.7662411332130432, 0.7656415700912476, 0.7647058963775635, 0.7643157839775085, 0.7641791105270386, 0.7634862661361694, 0.7633986473083496, 0.7622548341751099, 0.7622547149658203, 0.7612432241439819, 0.7610424160957336, 0.7605466842651367], \"xaxis\": \"x\", \"yaxis\": \"y\"}],\n",
              "                        {\"barmode\": \"relative\", \"legend\": {\"tracegroupgap\": 0}, \"template\": {\"data\": {\"bar\": [{\"error_x\": {\"color\": \"#2a3f5f\"}, \"error_y\": {\"color\": \"#2a3f5f\"}, \"marker\": {\"line\": {\"color\": \"#E5ECF6\", \"width\": 0.5}}, \"type\": \"bar\"}], \"barpolar\": [{\"marker\": {\"line\": {\"color\": \"#E5ECF6\", \"width\": 0.5}}, \"type\": \"barpolar\"}], \"carpet\": [{\"aaxis\": {\"endlinecolor\": \"#2a3f5f\", \"gridcolor\": \"white\", \"linecolor\": \"white\", \"minorgridcolor\": \"white\", \"startlinecolor\": \"#2a3f5f\"}, \"baxis\": {\"endlinecolor\": \"#2a3f5f\", \"gridcolor\": \"white\", \"linecolor\": \"white\", \"minorgridcolor\": \"white\", \"startlinecolor\": \"#2a3f5f\"}, \"type\": \"carpet\"}], \"choropleth\": [{\"colorbar\": {\"outlinewidth\": 0, \"ticks\": \"\"}, \"type\": \"choropleth\"}], \"contour\": [{\"colorbar\": {\"outlinewidth\": 0, \"ticks\": \"\"}, \"colorscale\": [[0.0, \"#0d0887\"], [0.1111111111111111, \"#46039f\"], [0.2222222222222222, \"#7201a8\"], [0.3333333333333333, \"#9c179e\"], [0.4444444444444444, \"#bd3786\"], [0.5555555555555556, \"#d8576b\"], [0.6666666666666666, \"#ed7953\"], [0.7777777777777778, \"#fb9f3a\"], [0.8888888888888888, \"#fdca26\"], [1.0, \"#f0f921\"]], \"type\": \"contour\"}], \"contourcarpet\": [{\"colorbar\": {\"outlinewidth\": 0, \"ticks\": \"\"}, \"type\": \"contourcarpet\"}], \"heatmap\": [{\"colorbar\": {\"outlinewidth\": 0, \"ticks\": \"\"}, \"colorscale\": [[0.0, \"#0d0887\"], [0.1111111111111111, \"#46039f\"], [0.2222222222222222, \"#7201a8\"], [0.3333333333333333, \"#9c179e\"], [0.4444444444444444, \"#bd3786\"], [0.5555555555555556, \"#d8576b\"], [0.6666666666666666, \"#ed7953\"], [0.7777777777777778, \"#fb9f3a\"], [0.8888888888888888, \"#fdca26\"], [1.0, \"#f0f921\"]], \"type\": \"heatmap\"}], \"heatmapgl\": [{\"colorbar\": {\"outlinewidth\": 0, \"ticks\": \"\"}, \"colorscale\": [[0.0, \"#0d0887\"], [0.1111111111111111, \"#46039f\"], [0.2222222222222222, \"#7201a8\"], [0.3333333333333333, \"#9c179e\"], [0.4444444444444444, \"#bd3786\"], [0.5555555555555556, \"#d8576b\"], [0.6666666666666666, \"#ed7953\"], [0.7777777777777778, \"#fb9f3a\"], [0.8888888888888888, \"#fdca26\"], [1.0, \"#f0f921\"]], \"type\": \"heatmapgl\"}], \"histogram\": [{\"marker\": {\"colorbar\": {\"outlinewidth\": 0, \"ticks\": \"\"}}, \"type\": \"histogram\"}], \"histogram2d\": [{\"colorbar\": {\"outlinewidth\": 0, \"ticks\": \"\"}, \"colorscale\": [[0.0, \"#0d0887\"], [0.1111111111111111, \"#46039f\"], [0.2222222222222222, \"#7201a8\"], [0.3333333333333333, \"#9c179e\"], [0.4444444444444444, \"#bd3786\"], [0.5555555555555556, \"#d8576b\"], [0.6666666666666666, \"#ed7953\"], [0.7777777777777778, \"#fb9f3a\"], [0.8888888888888888, \"#fdca26\"], [1.0, \"#f0f921\"]], \"type\": \"histogram2d\"}], \"histogram2dcontour\": [{\"colorbar\": {\"outlinewidth\": 0, \"ticks\": \"\"}, \"colorscale\": [[0.0, \"#0d0887\"], [0.1111111111111111, \"#46039f\"], [0.2222222222222222, \"#7201a8\"], [0.3333333333333333, \"#9c179e\"], [0.4444444444444444, \"#bd3786\"], [0.5555555555555556, \"#d8576b\"], [0.6666666666666666, \"#ed7953\"], [0.7777777777777778, \"#fb9f3a\"], [0.8888888888888888, \"#fdca26\"], [1.0, \"#f0f921\"]], \"type\": \"histogram2dcontour\"}], \"mesh3d\": [{\"colorbar\": {\"outlinewidth\": 0, \"ticks\": \"\"}, \"type\": \"mesh3d\"}], \"parcoords\": [{\"line\": {\"colorbar\": {\"outlinewidth\": 0, \"ticks\": \"\"}}, \"type\": \"parcoords\"}], \"pie\": [{\"automargin\": true, \"type\": \"pie\"}], \"scatter\": [{\"marker\": {\"colorbar\": {\"outlinewidth\": 0, \"ticks\": \"\"}}, \"type\": \"scatter\"}], \"scatter3d\": [{\"line\": {\"colorbar\": {\"outlinewidth\": 0, \"ticks\": \"\"}}, \"marker\": {\"colorbar\": {\"outlinewidth\": 0, \"ticks\": \"\"}}, \"type\": \"scatter3d\"}], \"scattercarpet\": [{\"marker\": {\"colorbar\": {\"outlinewidth\": 0, \"ticks\": \"\"}}, \"type\": \"scattercarpet\"}], \"scattergeo\": [{\"marker\": {\"colorbar\": {\"outlinewidth\": 0, \"ticks\": \"\"}}, \"type\": \"scattergeo\"}], \"scattergl\": [{\"marker\": {\"colorbar\": {\"outlinewidth\": 0, \"ticks\": \"\"}}, \"type\": \"scattergl\"}], \"scattermapbox\": [{\"marker\": {\"colorbar\": {\"outlinewidth\": 0, \"ticks\": \"\"}}, \"type\": \"scattermapbox\"}], \"scatterpolar\": [{\"marker\": {\"colorbar\": {\"outlinewidth\": 0, \"ticks\": \"\"}}, \"type\": \"scatterpolar\"}], \"scatterpolargl\": [{\"marker\": {\"colorbar\": {\"outlinewidth\": 0, \"ticks\": \"\"}}, \"type\": \"scatterpolargl\"}], \"scatterternary\": [{\"marker\": {\"colorbar\": {\"outlinewidth\": 0, \"ticks\": \"\"}}, \"type\": \"scatterternary\"}], \"surface\": [{\"colorbar\": {\"outlinewidth\": 0, \"ticks\": \"\"}, \"colorscale\": [[0.0, \"#0d0887\"], [0.1111111111111111, \"#46039f\"], [0.2222222222222222, \"#7201a8\"], [0.3333333333333333, \"#9c179e\"], [0.4444444444444444, \"#bd3786\"], [0.5555555555555556, \"#d8576b\"], [0.6666666666666666, \"#ed7953\"], [0.7777777777777778, \"#fb9f3a\"], [0.8888888888888888, \"#fdca26\"], [1.0, \"#f0f921\"]], \"type\": \"surface\"}], \"table\": [{\"cells\": {\"fill\": {\"color\": \"#EBF0F8\"}, \"line\": {\"color\": \"white\"}}, \"header\": {\"fill\": {\"color\": \"#C8D4E3\"}, \"line\": {\"color\": \"white\"}}, \"type\": \"table\"}]}, \"layout\": {\"annotationdefaults\": {\"arrowcolor\": \"#2a3f5f\", \"arrowhead\": 0, \"arrowwidth\": 1}, \"coloraxis\": {\"colorbar\": {\"outlinewidth\": 0, \"ticks\": \"\"}}, \"colorscale\": {\"diverging\": [[0, \"#8e0152\"], [0.1, \"#c51b7d\"], [0.2, \"#de77ae\"], [0.3, \"#f1b6da\"], [0.4, \"#fde0ef\"], [0.5, \"#f7f7f7\"], [0.6, \"#e6f5d0\"], [0.7, \"#b8e186\"], [0.8, \"#7fbc41\"], [0.9, \"#4d9221\"], [1, \"#276419\"]], \"sequential\": [[0.0, \"#0d0887\"], [0.1111111111111111, \"#46039f\"], [0.2222222222222222, \"#7201a8\"], [0.3333333333333333, \"#9c179e\"], [0.4444444444444444, \"#bd3786\"], [0.5555555555555556, \"#d8576b\"], [0.6666666666666666, \"#ed7953\"], [0.7777777777777778, \"#fb9f3a\"], [0.8888888888888888, \"#fdca26\"], [1.0, \"#f0f921\"]], \"sequentialminus\": [[0.0, \"#0d0887\"], [0.1111111111111111, \"#46039f\"], [0.2222222222222222, \"#7201a8\"], [0.3333333333333333, \"#9c179e\"], [0.4444444444444444, \"#bd3786\"], [0.5555555555555556, \"#d8576b\"], [0.6666666666666666, \"#ed7953\"], [0.7777777777777778, \"#fb9f3a\"], [0.8888888888888888, \"#fdca26\"], [1.0, \"#f0f921\"]]}, \"colorway\": [\"#636efa\", \"#EF553B\", \"#00cc96\", \"#ab63fa\", \"#FFA15A\", \"#19d3f3\", \"#FF6692\", \"#B6E880\", \"#FF97FF\", \"#FECB52\"], \"font\": {\"color\": \"#2a3f5f\"}, \"geo\": {\"bgcolor\": \"white\", \"lakecolor\": \"white\", \"landcolor\": \"#E5ECF6\", \"showlakes\": true, \"showland\": true, \"subunitcolor\": \"white\"}, \"hoverlabel\": {\"align\": \"left\"}, \"hovermode\": \"closest\", \"mapbox\": {\"style\": \"light\"}, \"paper_bgcolor\": \"white\", \"plot_bgcolor\": \"#E5ECF6\", \"polar\": {\"angularaxis\": {\"gridcolor\": \"white\", \"linecolor\": \"white\", \"ticks\": \"\"}, \"bgcolor\": \"#E5ECF6\", \"radialaxis\": {\"gridcolor\": \"white\", \"linecolor\": \"white\", \"ticks\": \"\"}}, \"scene\": {\"xaxis\": {\"backgroundcolor\": \"#E5ECF6\", \"gridcolor\": \"white\", \"gridwidth\": 2, \"linecolor\": \"white\", \"showbackground\": true, \"ticks\": \"\", \"zerolinecolor\": \"white\"}, \"yaxis\": {\"backgroundcolor\": \"#E5ECF6\", \"gridcolor\": \"white\", \"gridwidth\": 2, \"linecolor\": \"white\", \"showbackground\": true, \"ticks\": \"\", \"zerolinecolor\": \"white\"}, \"zaxis\": {\"backgroundcolor\": \"#E5ECF6\", \"gridcolor\": \"white\", \"gridwidth\": 2, \"linecolor\": \"white\", \"showbackground\": true, \"ticks\": \"\", \"zerolinecolor\": \"white\"}}, \"shapedefaults\": {\"line\": {\"color\": \"#2a3f5f\"}}, \"ternary\": {\"aaxis\": {\"gridcolor\": \"white\", \"linecolor\": \"white\", \"ticks\": \"\"}, \"baxis\": {\"gridcolor\": \"white\", \"linecolor\": \"white\", \"ticks\": \"\"}, \"bgcolor\": \"#E5ECF6\", \"caxis\": {\"gridcolor\": \"white\", \"linecolor\": \"white\", \"ticks\": \"\"}}, \"title\": {\"x\": 0.05}, \"xaxis\": {\"automargin\": true, \"gridcolor\": \"white\", \"linecolor\": \"white\", \"ticks\": \"\", \"title\": {\"standoff\": 15}, \"zerolinecolor\": \"white\", \"zerolinewidth\": 2}, \"yaxis\": {\"automargin\": true, \"gridcolor\": \"white\", \"linecolor\": \"white\", \"ticks\": \"\", \"title\": {\"standoff\": 15}, \"zerolinecolor\": \"white\", \"zerolinewidth\": 2}}}, \"title\": {\"text\": \"LSI Scores\"}, \"xaxis\": {\"anchor\": \"y\", \"domain\": [0.0, 1.0], \"title\": {\"text\": \"score\"}}, \"yaxis\": {\"anchor\": \"x\", \"domain\": [0.0, 1.0], \"title\": {\"text\": \"count\"}}},\n",
              "                        {\"responsive\": true}\n",
              "                    ).then(function(){\n",
              "                            \n",
              "var gd = document.getElementById('5ac84f09-bb9c-465e-a3a3-a96dd094b110');\n",
              "var x = new MutationObserver(function (mutations, observer) {{\n",
              "        var display = window.getComputedStyle(gd).display;\n",
              "        if (!display || display === 'none') {{\n",
              "            console.log([gd, 'removed!']);\n",
              "            Plotly.purge(gd);\n",
              "            observer.disconnect();\n",
              "        }}\n",
              "}});\n",
              "\n",
              "// Listen for the removal of the full notebook cells\n",
              "var notebookContainer = gd.closest('#notebook-container');\n",
              "if (notebookContainer) {{\n",
              "    x.observe(notebookContainer, {childList: true});\n",
              "}}\n",
              "\n",
              "// Listen for the clearing of the current output cell\n",
              "var outputEl = gd.closest('.output');\n",
              "if (outputEl) {{\n",
              "    x.observe(outputEl, {childList: true});\n",
              "}}\n",
              "\n",
              "                        })\n",
              "                };\n",
              "                \n",
              "            </script>\n",
              "        </div>\n",
              "</body>\n",
              "</html>"
            ]
          },
          "metadata": {}
        }
      ]
    },
    {
      "cell_type": "code",
      "metadata": {
        "id": "RX2JvEEGPGgS"
      },
      "source": [
        "if use_wandb:\n",
        "  wandb.log({\"scores_hist\": fig})"
      ],
      "execution_count": 72,
      "outputs": []
    },
    {
      "cell_type": "code",
      "metadata": {
        "colab": {
          "base_uri": "https://localhost:8080/",
          "height": 990
        },
        "id": "7N81-XfdDFKV",
        "outputId": "4c472a96-a92c-4d49-ce8f-12adbf41b6ab"
      },
      "source": [
        "result, details = recommend_tune(df_sim, 'These Foolish Things [jazz1350]')\n",
        "result.head(30)"
      ],
      "execution_count": 73,
      "outputs": [
        {
          "output_type": "execute_result",
          "data": {
            "text/html": [
              "<div>\n",
              "<style scoped>\n",
              "    .dataframe tbody tr th:only-of-type {\n",
              "        vertical-align: middle;\n",
              "    }\n",
              "\n",
              "    .dataframe tbody tr th {\n",
              "        vertical-align: top;\n",
              "    }\n",
              "\n",
              "    .dataframe thead th {\n",
              "        text-align: right;\n",
              "    }\n",
              "</style>\n",
              "<table border=\"1\" class=\"dataframe\">\n",
              "  <thead>\n",
              "    <tr style=\"text-align: right;\">\n",
              "      <th></th>\n",
              "      <th>index</th>\n",
              "      <th>reference</th>\n",
              "      <th>similar_title</th>\n",
              "      <th>score</th>\n",
              "      <th>max</th>\n",
              "      <th>score_div_max</th>\n",
              "    </tr>\n",
              "  </thead>\n",
              "  <tbody>\n",
              "    <tr>\n",
              "      <th>0</th>\n",
              "      <td>0</td>\n",
              "      <td>These Foolish Things [jazz1350]</td>\n",
              "      <td>Way You Look Tonight, The [jazz1350]</td>\n",
              "      <td>0.966796</td>\n",
              "      <td>0.974755</td>\n",
              "      <td>1.000000</td>\n",
              "    </tr>\n",
              "    <tr>\n",
              "      <th>1</th>\n",
              "      <td>1</td>\n",
              "      <td>These Foolish Things [jazz1350]</td>\n",
              "      <td>More Than You Know [jazz1350]</td>\n",
              "      <td>0.916515</td>\n",
              "      <td>0.916515</td>\n",
              "      <td>1.000000</td>\n",
              "    </tr>\n",
              "    <tr>\n",
              "      <th>2</th>\n",
              "      <td>2</td>\n",
              "      <td>These Foolish Things [jazz1350]</td>\n",
              "      <td>I Loves You Porgy [jazz1350]</td>\n",
              "      <td>0.974755</td>\n",
              "      <td>0.974755</td>\n",
              "      <td>1.000000</td>\n",
              "    </tr>\n",
              "    <tr>\n",
              "      <th>3</th>\n",
              "      <td>3</td>\n",
              "      <td>These Foolish Things [jazz1350]</td>\n",
              "      <td>It's Easy To Remember [jazz1350]</td>\n",
              "      <td>0.951972</td>\n",
              "      <td>0.974755</td>\n",
              "      <td>0.997175</td>\n",
              "    </tr>\n",
              "    <tr>\n",
              "      <th>4</th>\n",
              "      <td>4</td>\n",
              "      <td>These Foolish Things [jazz1350]</td>\n",
              "      <td>Stairway To The Stars [jazz1350]</td>\n",
              "      <td>0.942223</td>\n",
              "      <td>0.974755</td>\n",
              "      <td>0.986963</td>\n",
              "    </tr>\n",
              "    <tr>\n",
              "      <th>5</th>\n",
              "      <td>5</td>\n",
              "      <td>These Foolish Things [jazz1350]</td>\n",
              "      <td>Party's Over, The [jazz1350]</td>\n",
              "      <td>0.958709</td>\n",
              "      <td>0.974755</td>\n",
              "      <td>0.983539</td>\n",
              "    </tr>\n",
              "    <tr>\n",
              "      <th>6</th>\n",
              "      <td>6</td>\n",
              "      <td>These Foolish Things [jazz1350]</td>\n",
              "      <td>Rosetta [jazz1350]</td>\n",
              "      <td>0.895443</td>\n",
              "      <td>0.916515</td>\n",
              "      <td>0.977008</td>\n",
              "    </tr>\n",
              "    <tr>\n",
              "      <th>7</th>\n",
              "      <td>7</td>\n",
              "      <td>These Foolish Things [jazz1350]</td>\n",
              "      <td>Rosetta [trad]</td>\n",
              "      <td>0.895443</td>\n",
              "      <td>0.916515</td>\n",
              "      <td>0.977008</td>\n",
              "    </tr>\n",
              "    <tr>\n",
              "      <th>8</th>\n",
              "      <td>8</td>\n",
              "      <td>These Foolish Things [jazz1350]</td>\n",
              "      <td>They All Laughed [jazz1350]</td>\n",
              "      <td>0.950980</td>\n",
              "      <td>0.974755</td>\n",
              "      <td>0.975609</td>\n",
              "    </tr>\n",
              "    <tr>\n",
              "      <th>9</th>\n",
              "      <td>9</td>\n",
              "      <td>These Foolish Things [jazz1350]</td>\n",
              "      <td>And The Angels Sing [jazz1350]</td>\n",
              "      <td>0.947678</td>\n",
              "      <td>0.974755</td>\n",
              "      <td>0.972222</td>\n",
              "    </tr>\n",
              "    <tr>\n",
              "      <th>10</th>\n",
              "      <td>10</td>\n",
              "      <td>These Foolish Things [jazz1350]</td>\n",
              "      <td>Let's Fall In Love [jazz1350]</td>\n",
              "      <td>0.930484</td>\n",
              "      <td>0.974755</td>\n",
              "      <td>0.971464</td>\n",
              "    </tr>\n",
              "    <tr>\n",
              "      <th>11</th>\n",
              "      <td>11</td>\n",
              "      <td>These Foolish Things [jazz1350]</td>\n",
              "      <td>Bewitched [jazz1350]</td>\n",
              "      <td>0.942847</td>\n",
              "      <td>0.974755</td>\n",
              "      <td>0.970287</td>\n",
              "    </tr>\n",
              "    <tr>\n",
              "      <th>12</th>\n",
              "      <td>12</td>\n",
              "      <td>These Foolish Things [jazz1350]</td>\n",
              "      <td>Easy Street [jazz1350]</td>\n",
              "      <td>0.926302</td>\n",
              "      <td>0.954669</td>\n",
              "      <td>0.970286</td>\n",
              "    </tr>\n",
              "    <tr>\n",
              "      <th>13</th>\n",
              "      <td>13</td>\n",
              "      <td>These Foolish Things [jazz1350]</td>\n",
              "      <td>Among My Souvenirs [jazz1350]</td>\n",
              "      <td>0.925820</td>\n",
              "      <td>0.954669</td>\n",
              "      <td>0.969782</td>\n",
              "    </tr>\n",
              "    <tr>\n",
              "      <th>14</th>\n",
              "      <td>14</td>\n",
              "      <td>These Foolish Things [jazz1350]</td>\n",
              "      <td>Why Do I Love You [jazz1350]</td>\n",
              "      <td>0.943702</td>\n",
              "      <td>0.974755</td>\n",
              "      <td>0.968143</td>\n",
              "    </tr>\n",
              "    <tr>\n",
              "      <th>15</th>\n",
              "      <td>15</td>\n",
              "      <td>These Foolish Things [jazz1350]</td>\n",
              "      <td>Folks Who Live On The Hill, The [jazz1350]</td>\n",
              "      <td>0.942871</td>\n",
              "      <td>0.974755</td>\n",
              "      <td>0.967291</td>\n",
              "    </tr>\n",
              "    <tr>\n",
              "      <th>16</th>\n",
              "      <td>16</td>\n",
              "      <td>These Foolish Things [jazz1350]</td>\n",
              "      <td>If There Is Someone Lovelier [jazz1350]</td>\n",
              "      <td>0.942082</td>\n",
              "      <td>0.974755</td>\n",
              "      <td>0.966481</td>\n",
              "    </tr>\n",
              "    <tr>\n",
              "      <th>17</th>\n",
              "      <td>17</td>\n",
              "      <td>These Foolish Things [jazz1350]</td>\n",
              "      <td>It's A Lovely Day Today [jazz1350]</td>\n",
              "      <td>0.941636</td>\n",
              "      <td>0.974755</td>\n",
              "      <td>0.966024</td>\n",
              "    </tr>\n",
              "    <tr>\n",
              "      <th>18</th>\n",
              "      <td>18</td>\n",
              "      <td>These Foolish Things [jazz1350]</td>\n",
              "      <td>Manhattan [jazz1350]</td>\n",
              "      <td>0.920751</td>\n",
              "      <td>0.954669</td>\n",
              "      <td>0.964472</td>\n",
              "    </tr>\n",
              "    <tr>\n",
              "      <th>19</th>\n",
              "      <td>19</td>\n",
              "      <td>These Foolish Things [jazz1350]</td>\n",
              "      <td>Heart And Soul [jazz1350]</td>\n",
              "      <td>0.934199</td>\n",
              "      <td>0.974755</td>\n",
              "      <td>0.964457</td>\n",
              "    </tr>\n",
              "    <tr>\n",
              "      <th>20</th>\n",
              "      <td>20</td>\n",
              "      <td>These Foolish Things [jazz1350]</td>\n",
              "      <td>For Once In My Life [jazz1350]</td>\n",
              "      <td>0.919239</td>\n",
              "      <td>0.954669</td>\n",
              "      <td>0.962888</td>\n",
              "    </tr>\n",
              "    <tr>\n",
              "      <th>21</th>\n",
              "      <td>21</td>\n",
              "      <td>These Foolish Things [jazz1350]</td>\n",
              "      <td>Danny Boy [jazz1350]</td>\n",
              "      <td>0.934685</td>\n",
              "      <td>0.974755</td>\n",
              "      <td>0.962888</td>\n",
              "    </tr>\n",
              "    <tr>\n",
              "      <th>22</th>\n",
              "      <td>22</td>\n",
              "      <td>These Foolish Things [jazz1350]</td>\n",
              "      <td>Taking A Chance On Love [jazz1350]</td>\n",
              "      <td>0.919145</td>\n",
              "      <td>0.954669</td>\n",
              "      <td>0.962790</td>\n",
              "    </tr>\n",
              "    <tr>\n",
              "      <th>23</th>\n",
              "      <td>23</td>\n",
              "      <td>These Foolish Things [jazz1350]</td>\n",
              "      <td>I Gotta Right To Sing The Blues [jazz1350]</td>\n",
              "      <td>0.918176</td>\n",
              "      <td>0.954669</td>\n",
              "      <td>0.961775</td>\n",
              "    </tr>\n",
              "    <tr>\n",
              "      <th>24</th>\n",
              "      <td>24</td>\n",
              "      <td>These Foolish Things [jazz1350]</td>\n",
              "      <td>Miss Otis Regrets [trad]</td>\n",
              "      <td>0.936418</td>\n",
              "      <td>0.974755</td>\n",
              "      <td>0.960671</td>\n",
              "    </tr>\n",
              "    <tr>\n",
              "      <th>25</th>\n",
              "      <td>25</td>\n",
              "      <td>These Foolish Things [jazz1350]</td>\n",
              "      <td>Too Young To Go Steady [jazz1350]</td>\n",
              "      <td>0.916578</td>\n",
              "      <td>0.972306</td>\n",
              "      <td>0.960101</td>\n",
              "    </tr>\n",
              "    <tr>\n",
              "      <th>26</th>\n",
              "      <td>26</td>\n",
              "      <td>These Foolish Things [jazz1350]</td>\n",
              "      <td>Beyond The Sea [jazz1350]</td>\n",
              "      <td>0.932874</td>\n",
              "      <td>0.974755</td>\n",
              "      <td>0.958333</td>\n",
              "    </tr>\n",
              "    <tr>\n",
              "      <th>27</th>\n",
              "      <td>27</td>\n",
              "      <td>These Foolish Things [jazz1350]</td>\n",
              "      <td>You Keep Coming Back Like A Song [jazz1350]</td>\n",
              "      <td>0.933722</td>\n",
              "      <td>0.974755</td>\n",
              "      <td>0.957905</td>\n",
              "    </tr>\n",
              "    <tr>\n",
              "      <th>28</th>\n",
              "      <td>28</td>\n",
              "      <td>These Foolish Things [jazz1350]</td>\n",
              "      <td>I'm Old Fashioned [jazz1350]</td>\n",
              "      <td>0.913908</td>\n",
              "      <td>0.954669</td>\n",
              "      <td>0.957304</td>\n",
              "    </tr>\n",
              "    <tr>\n",
              "      <th>29</th>\n",
              "      <td>29</td>\n",
              "      <td>These Foolish Things [jazz1350]</td>\n",
              "      <td>For You, For Me, For Evermore [jazz1350]</td>\n",
              "      <td>0.932298</td>\n",
              "      <td>0.974755</td>\n",
              "      <td>0.956444</td>\n",
              "    </tr>\n",
              "  </tbody>\n",
              "</table>\n",
              "</div>"
            ],
            "text/plain": [
              "    index                        reference  ...       max  score_div_max\n",
              "0       0  These Foolish Things [jazz1350]  ...  0.974755       1.000000\n",
              "1       1  These Foolish Things [jazz1350]  ...  0.916515       1.000000\n",
              "2       2  These Foolish Things [jazz1350]  ...  0.974755       1.000000\n",
              "3       3  These Foolish Things [jazz1350]  ...  0.974755       0.997175\n",
              "4       4  These Foolish Things [jazz1350]  ...  0.974755       0.986963\n",
              "5       5  These Foolish Things [jazz1350]  ...  0.974755       0.983539\n",
              "6       6  These Foolish Things [jazz1350]  ...  0.916515       0.977008\n",
              "7       7  These Foolish Things [jazz1350]  ...  0.916515       0.977008\n",
              "8       8  These Foolish Things [jazz1350]  ...  0.974755       0.975609\n",
              "9       9  These Foolish Things [jazz1350]  ...  0.974755       0.972222\n",
              "10     10  These Foolish Things [jazz1350]  ...  0.974755       0.971464\n",
              "11     11  These Foolish Things [jazz1350]  ...  0.974755       0.970287\n",
              "12     12  These Foolish Things [jazz1350]  ...  0.954669       0.970286\n",
              "13     13  These Foolish Things [jazz1350]  ...  0.954669       0.969782\n",
              "14     14  These Foolish Things [jazz1350]  ...  0.974755       0.968143\n",
              "15     15  These Foolish Things [jazz1350]  ...  0.974755       0.967291\n",
              "16     16  These Foolish Things [jazz1350]  ...  0.974755       0.966481\n",
              "17     17  These Foolish Things [jazz1350]  ...  0.974755       0.966024\n",
              "18     18  These Foolish Things [jazz1350]  ...  0.954669       0.964472\n",
              "19     19  These Foolish Things [jazz1350]  ...  0.974755       0.964457\n",
              "20     20  These Foolish Things [jazz1350]  ...  0.954669       0.962888\n",
              "21     21  These Foolish Things [jazz1350]  ...  0.974755       0.962888\n",
              "22     22  These Foolish Things [jazz1350]  ...  0.954669       0.962790\n",
              "23     23  These Foolish Things [jazz1350]  ...  0.954669       0.961775\n",
              "24     24  These Foolish Things [jazz1350]  ...  0.974755       0.960671\n",
              "25     25  These Foolish Things [jazz1350]  ...  0.972306       0.960101\n",
              "26     26  These Foolish Things [jazz1350]  ...  0.974755       0.958333\n",
              "27     27  These Foolish Things [jazz1350]  ...  0.974755       0.957905\n",
              "28     28  These Foolish Things [jazz1350]  ...  0.954669       0.957304\n",
              "29     29  These Foolish Things [jazz1350]  ...  0.974755       0.956444\n",
              "\n",
              "[30 rows x 6 columns]"
            ]
          },
          "metadata": {},
          "execution_count": 73
        }
      ]
    },
    {
      "cell_type": "code",
      "metadata": {
        "id": "15ZsHOQmyyah"
      },
      "source": [
        "dd = pd.DataFrame(columns = recommender_results_cols)\n",
        "\n",
        "for tune in tunes_eval_list:\n",
        "  result, details = recommend_tune(df_sim, tune)\n",
        "  dd['id'] = result['index']\n",
        "  dd['reference'] = tune\n",
        "  dd['method'] = 'lsi'\n",
        "  dd['similar'] = result['similar_title']\n",
        "  dd['score_div_max'] = result['score_div_max']\n",
        "  dd['score'] = result['score']\n",
        "\n",
        "recommender_results = recommender_results.append(dd)"
      ],
      "execution_count": 74,
      "outputs": []
    },
    {
      "cell_type": "markdown",
      "metadata": {
        "id": "Ojrjp11ni6Pl"
      },
      "source": [
        "### Tests for Contrafacts"
      ]
    },
    {
      "cell_type": "code",
      "metadata": {
        "colab": {
          "base_uri": "https://localhost:8080/"
        },
        "id": "D0_7m1qji6A-",
        "outputId": "40d84ade-67c3-4f53-e055-e1a6ff29addd"
      },
      "source": [
        "topN = 15\n",
        "matches, results = test_contrafacts(contrafacts, index_lsi, lsi, topN)\n",
        "\n",
        "[print(f\"{val}: {rr}\") for rr, val in results.items()] \n",
        "print() \n",
        "print(f\"Found matches: {matches} out of {len(contrafacts)}: {100*matches/len(contrafacts):.3f}%\")"
      ],
      "execution_count": 75,
      "outputs": [
        {
          "output_type": "stream",
          "name": "stdout",
          "text": [
            "1: 26-2 [jazz1350]\n",
            "0: 52nd Street Theme [jazz1350]\n",
            "1: Ablution [jazz1350]\n",
            "1: Anthropology [jazz1350]\n",
            "0: Ballade [jazz1350]\n",
            "1: Bright Mississippi [jazz1350]\n",
            "1: C.T.A. [jazz1350]\n",
            "1: Cottontail [jazz1350]\n",
            "0: Countdown [jazz1350]\n",
            "0: Dewey Square [jazz1350]\n",
            "1: Dexterity [jazz1350]\n",
            "1: Dig [jazz1350]\n",
            "1: Donna Lee [jazz1350]\n",
            "0: Don't Be That Way [jazz1350]\n",
            "1: Evidence [jazz1350]\n",
            "1: Flintstones [jazz1350]\n",
            "1: Four On Six [jazz1350]\n",
            "1: Freight Train [jazz1350]\n",
            "0: Good Bait [jazz1350]\n",
            "0: Hackensack [jazz1350]\n",
            "1: Half Nelson [jazz1350]\n",
            "1: Hot House [jazz1350]\n",
            "1: Impressions [jazz1350]\n",
            "1: In A Mellow Tone (In A Mellotone) [jazz1350]\n",
            "1: In Walked Bud [jazz1350]\n",
            "1: Ko Ko [jazz1350]\n",
            "0: Lennie's Pennies [jazz1350]\n",
            "0: Little Rootie Tootie [jazz1350]\n",
            "0: Little Willie Leaps [jazz1350]\n",
            "0: Lullaby Of Birdland [jazz1350]\n",
            "0: My Little Suede Shoes [jazz1350]\n",
            "1: Ornithology [jazz1350]\n",
            "0: Quasimodo (Theme) [jazz1350]\n",
            "0: Room 608 [jazz1350]\n",
            "1: Satellite [jazz1350]\n",
            "1: Scrapple From The Apple [jazz1350]\n",
            "1: Tour De Force [jazz1350]\n",
            "0: Wow [jazz1350]\n",
            "1: Yardbird Suite [jazz1350]\n",
            "0: Sweet Sue, Just You [jazz1350]\n",
            "1: These Foolish Things [jazz1350]\n",
            "1: Misty [jazz1350]\n",
            "\n",
            "Found matches: 26 out of 42: 61.905%\n"
          ]
        }
      ]
    },
    {
      "cell_type": "code",
      "metadata": {
        "id": "RS7LsLASi5-f"
      },
      "source": [
        "model_name = 'lsi'\n",
        "if use_wandb:\n",
        "  wandb.log(\n",
        "      {model_name: {\n",
        "                'contrafacts': {\n",
        "                    'topN': topN,\n",
        "                    'success': matches/len(contrafacts),\n",
        "                    #'results': results\n",
        "                    }\n",
        "                   },\n",
        "       'all_models': {\n",
        "           model_name: wandb.Table(\n",
        "               columns=[\"Title\", \"Match\"],\n",
        "               data=[[key, value] for key, value in results.items()]),\n",
        "       }\n",
        "       })"
      ],
      "execution_count": 76,
      "outputs": []
    },
    {
      "cell_type": "markdown",
      "metadata": {
        "id": "AjZArSmyooWt"
      },
      "source": [
        "### Get Recommender Data for WebApp"
      ]
    },
    {
      "cell_type": "code",
      "metadata": {
        "id": "JOBtj15donxK",
        "outputId": "43a69e3c-8e69-45bb-b1c1-4532589535f6",
        "colab": {
          "base_uri": "https://localhost:8080/"
        }
      },
      "source": [
        "%%time\n",
        "tunes = tunes_eval_list\n",
        "\n",
        "df_sim = get_sim_scores(tunes, index=index_lsi, model=lsi)\n",
        "\n",
        "result = None\n",
        "for tune in tunes:\n",
        "  tune_result, details = recommend_tune(df_sim, tune)\n",
        "  if result is None:\n",
        "    result = pd.DataFrame(columns=tune_result.columns)\n",
        "  result = result.append(tune_result)"
      ],
      "execution_count": 77,
      "outputs": [
        {
          "output_type": "stream",
          "name": "stdout",
          "text": [
            "\n",
            "--------------------------------------------------\n",
            "125 After You've Gone, section1 (A)\n",
            "126 After You've Gone, section2 (B)\n",
            "127 After You've Gone, section3 (A)\n",
            "128 After You've Gone, section4 (C)\n",
            "\n",
            "--------------------------------------------------\n",
            "188 All God's Chillun Got Rhythm, section1 (A)\n",
            "189 All God's Chillun Got Rhythm, section2 (B)\n",
            "190 All God's Chillun Got Rhythm, section3 (A)\n",
            "191 All God's Chillun Got Rhythm, section4 (C)\n",
            "\n",
            "--------------------------------------------------\n",
            "198 All Of Me, section1 (A)\n",
            "199 All Of Me, section2 (B)\n",
            "200 All Of Me, section3 (A)\n",
            "201 All Of Me, section4 (C)\n",
            "\n",
            "--------------------------------------------------\n",
            "474 Blood Count, section1 (A)\n",
            "475 Blood Count, section2 (A)\n",
            "476 Blood Count, section3 (B)\n",
            "477 Blood Count, section4 (A)\n",
            "478 Blood Count, section5 (C)\n",
            "\n",
            "--------------------------------------------------\n",
            "496 Blue Moon, section1 (A)\n",
            "497 Blue Moon, section2 (A)\n",
            "498 Blue Moon, section3 (B)\n",
            "499 Blue Moon, section4 (A)\n",
            "\n",
            "--------------------------------------------------\n",
            "626 But Beautiful, section1 (A)\n",
            "627 But Beautiful, section2 (B)\n",
            "628 But Beautiful, section3 (A)\n",
            "629 But Beautiful, section4 (C)\n",
            "\n",
            "--------------------------------------------------\n",
            "653 Bye Bye Blackbird, section1 (A)\n",
            "654 Bye Bye Blackbird, section2 (B)\n",
            "\n",
            "--------------------------------------------------\n",
            "676 Call Me Irresponsible, section1 (A)\n",
            "677 Call Me Irresponsible, section2 (B)\n",
            "678 Call Me Irresponsible, section3 (A)\n",
            "679 Call Me Irresponsible, section4 (B)\n",
            "\n",
            "--------------------------------------------------\n",
            "826 Corcovado, section1 (A)\n",
            "827 Corcovado, section2 (B)\n",
            "828 Corcovado, section3 (A)\n",
            "829 Corcovado, section4 (C)\n",
            "\n",
            "--------------------------------------------------\n",
            "997 Dinah, section1 (A)\n",
            "998 Dinah, section2 (A)\n",
            "999 Dinah, section3 (B)\n",
            "1000 Dinah, section4 (A)\n",
            "\n",
            "--------------------------------------------------\n",
            "1125 East Of The Sun, section1 (A)\n",
            "1126 East Of The Sun, section2 (B)\n",
            "1127 East Of The Sun, section3 (A)\n",
            "1128 East Of The Sun, section4 (C)\n",
            "\n",
            "--------------------------------------------------\n",
            "1287 Footprints, section0 (nan)\n",
            "\n",
            "--------------------------------------------------\n",
            "1379 Giant Steps, section0 (nan)\n",
            "\n",
            "--------------------------------------------------\n",
            "1538 Honeysuckle Rose, section1 (A)\n",
            "1539 Honeysuckle Rose, section2 (A)\n",
            "1540 Honeysuckle Rose, section3 (B)\n",
            "1541 Honeysuckle Rose, section4 (A)\n",
            "\n",
            "--------------------------------------------------\n",
            "1647 I Got Rhythm, section1 (A)\n",
            "1648 I Got Rhythm, section2 (A)\n",
            "1649 I Got Rhythm, section3 (B)\n",
            "1650 I Got Rhythm, section4 (A)\n",
            "\n",
            "--------------------------------------------------\n",
            "2670 Misty, section1 (A)\n",
            "2671 Misty, section2 (A)\n",
            "2672 Misty, section3 (B)\n",
            "2673 Misty, section4 (A)\n",
            "\n",
            "--------------------------------------------------\n",
            "2857 Naima, section1 (A)\n",
            "2858 Naima, section2 (A)\n",
            "2859 Naima, section3 (B)\n",
            "2860 Naima, section4 (A)\n",
            "\n",
            "--------------------------------------------------\n",
            "5044 Old Fashioned Love, section0 (nan)\n",
            "\n",
            "--------------------------------------------------\n",
            "3142 Perdido, section1 (A)\n",
            "3143 Perdido, section2 (A)\n",
            "3144 Perdido, section3 (B)\n",
            "3145 Perdido, section4 (A)\n",
            "\n",
            "--------------------------------------------------\n",
            "3276 Rockin' Chair, section1 (A)\n",
            "3277 Rockin' Chair, section2 (B)\n",
            "3278 Rockin' Chair, section3 (A)\n",
            "\n",
            "--------------------------------------------------\n",
            "3578 Sophisticated Lady, section1 (A)\n",
            "3579 Sophisticated Lady, section2 (A)\n",
            "3580 Sophisticated Lady, section3 (B)\n",
            "3581 Sophisticated Lady, section4 (A)\n",
            "\n",
            "--------------------------------------------------\n",
            "3746 Sweet Sue, Just You, section1 (A)\n",
            "3747 Sweet Sue, Just You, section2 (A)\n",
            "3748 Sweet Sue, Just You, section3 (B)\n",
            "3749 Sweet Sue, Just You, section4 (A)\n",
            "\n",
            "--------------------------------------------------\n",
            "3860 These Foolish Things, section1 (A)\n",
            "3861 These Foolish Things, section2 (A)\n",
            "3862 These Foolish Things, section3 (B)\n",
            "3863 These Foolish Things, section4 (A)\n",
            "\n",
            "--------------------------------------------------\n",
            "4146 We'll Be Together Again, section1 (A)\n",
            "4147 We'll Be Together Again, section2 (A)\n",
            "4148 We'll Be Together Again, section3 (B)\n",
            "4149 We'll Be Together Again, section4 (A)\n",
            "CPU times: user 24.4 s, sys: 8.68 s, total: 33.1 s\n",
            "Wall time: 24.4 s\n"
          ]
        }
      ]
    },
    {
      "cell_type": "code",
      "metadata": {
        "id": "30sRNh3cpbz7",
        "outputId": "04d7e9ec-428b-4b9b-cc1d-d3ddbee3a2cc",
        "colab": {
          "base_uri": "https://localhost:8080/",
          "height": 424
        }
      },
      "source": [
        "result"
      ],
      "execution_count": 78,
      "outputs": [
        {
          "output_type": "execute_result",
          "data": {
            "text/html": [
              "<div>\n",
              "<style scoped>\n",
              "    .dataframe tbody tr th:only-of-type {\n",
              "        vertical-align: middle;\n",
              "    }\n",
              "\n",
              "    .dataframe tbody tr th {\n",
              "        vertical-align: top;\n",
              "    }\n",
              "\n",
              "    .dataframe thead th {\n",
              "        text-align: right;\n",
              "    }\n",
              "</style>\n",
              "<table border=\"1\" class=\"dataframe\">\n",
              "  <thead>\n",
              "    <tr style=\"text-align: right;\">\n",
              "      <th></th>\n",
              "      <th>index</th>\n",
              "      <th>reference</th>\n",
              "      <th>similar_title</th>\n",
              "      <th>score</th>\n",
              "      <th>max</th>\n",
              "      <th>score_div_max</th>\n",
              "    </tr>\n",
              "  </thead>\n",
              "  <tbody>\n",
              "    <tr>\n",
              "      <th>0</th>\n",
              "      <td>0</td>\n",
              "      <td>After You've Gone [jazz1350]</td>\n",
              "      <td>Don't Sweetheart Me [trad]</td>\n",
              "      <td>0.944911</td>\n",
              "      <td>0.944911</td>\n",
              "      <td>1.000000</td>\n",
              "    </tr>\n",
              "    <tr>\n",
              "      <th>1</th>\n",
              "      <td>1</td>\n",
              "      <td>After You've Gone [jazz1350]</td>\n",
              "      <td>True (You Don't Love Me ) [trad]</td>\n",
              "      <td>0.944911</td>\n",
              "      <td>0.944911</td>\n",
              "      <td>1.000000</td>\n",
              "    </tr>\n",
              "    <tr>\n",
              "      <th>2</th>\n",
              "      <td>2</td>\n",
              "      <td>After You've Gone [jazz1350]</td>\n",
              "      <td>In The Middle Of A Kiss [jazz1350]</td>\n",
              "      <td>0.887244</td>\n",
              "      <td>0.887244</td>\n",
              "      <td>1.000000</td>\n",
              "    </tr>\n",
              "    <tr>\n",
              "      <th>3</th>\n",
              "      <td>3</td>\n",
              "      <td>After You've Gone [jazz1350]</td>\n",
              "      <td>Exactly Like You [jazz1350]</td>\n",
              "      <td>0.944911</td>\n",
              "      <td>0.944911</td>\n",
              "      <td>1.000000</td>\n",
              "    </tr>\n",
              "    <tr>\n",
              "      <th>4</th>\n",
              "      <td>4</td>\n",
              "      <td>After You've Gone [jazz1350]</td>\n",
              "      <td>It's Impossible [jazz1350]</td>\n",
              "      <td>0.909658</td>\n",
              "      <td>0.909658</td>\n",
              "      <td>1.000000</td>\n",
              "    </tr>\n",
              "    <tr>\n",
              "      <th>...</th>\n",
              "      <td>...</td>\n",
              "      <td>...</td>\n",
              "      <td>...</td>\n",
              "      <td>...</td>\n",
              "      <td>...</td>\n",
              "      <td>...</td>\n",
              "    </tr>\n",
              "    <tr>\n",
              "      <th>51</th>\n",
              "      <td>51</td>\n",
              "      <td>We'll Be Together Again [jazz1350]</td>\n",
              "      <td>Turn Out The Stars [jazz1350]</td>\n",
              "      <td>0.687746</td>\n",
              "      <td>0.922972</td>\n",
              "      <td>0.745143</td>\n",
              "    </tr>\n",
              "    <tr>\n",
              "      <th>52</th>\n",
              "      <td>52</td>\n",
              "      <td>We'll Be Together Again [jazz1350]</td>\n",
              "      <td>What Is This Thing Called Love [jazz1350]</td>\n",
              "      <td>0.680545</td>\n",
              "      <td>0.922972</td>\n",
              "      <td>0.737341</td>\n",
              "    </tr>\n",
              "    <tr>\n",
              "      <th>53</th>\n",
              "      <td>53</td>\n",
              "      <td>We'll Be Together Again [jazz1350]</td>\n",
              "      <td>Bill Bailey [jazz1350]</td>\n",
              "      <td>0.679644</td>\n",
              "      <td>0.922972</td>\n",
              "      <td>0.736364</td>\n",
              "    </tr>\n",
              "    <tr>\n",
              "      <th>54</th>\n",
              "      <td>54</td>\n",
              "      <td>We'll Be Together Again [jazz1350]</td>\n",
              "      <td>Speak Low [jazz1350]</td>\n",
              "      <td>0.669534</td>\n",
              "      <td>0.922972</td>\n",
              "      <td>0.725411</td>\n",
              "    </tr>\n",
              "    <tr>\n",
              "      <th>55</th>\n",
              "      <td>55</td>\n",
              "      <td>We'll Be Together Again [jazz1350]</td>\n",
              "      <td>Poinciana [jazz1350]</td>\n",
              "      <td>0.657794</td>\n",
              "      <td>0.922972</td>\n",
              "      <td>0.712691</td>\n",
              "    </tr>\n",
              "  </tbody>\n",
              "</table>\n",
              "<p>1406 rows × 6 columns</p>\n",
              "</div>"
            ],
            "text/plain": [
              "   index                           reference  ...       max  score_div_max\n",
              "0      0        After You've Gone [jazz1350]  ...  0.944911       1.000000\n",
              "1      1        After You've Gone [jazz1350]  ...  0.944911       1.000000\n",
              "2      2        After You've Gone [jazz1350]  ...  0.887244       1.000000\n",
              "3      3        After You've Gone [jazz1350]  ...  0.944911       1.000000\n",
              "4      4        After You've Gone [jazz1350]  ...  0.909658       1.000000\n",
              "..   ...                                 ...  ...       ...            ...\n",
              "51    51  We'll Be Together Again [jazz1350]  ...  0.922972       0.745143\n",
              "52    52  We'll Be Together Again [jazz1350]  ...  0.922972       0.737341\n",
              "53    53  We'll Be Together Again [jazz1350]  ...  0.922972       0.736364\n",
              "54    54  We'll Be Together Again [jazz1350]  ...  0.922972       0.725411\n",
              "55    55  We'll Be Together Again [jazz1350]  ...  0.922972       0.712691\n",
              "\n",
              "[1406 rows x 6 columns]"
            ]
          },
          "metadata": {},
          "execution_count": 78
        }
      ]
    },
    {
      "cell_type": "code",
      "metadata": {
        "id": "ecdMqrtJpLOY"
      },
      "source": [
        "result.to_csv('output/recommender_lsi.csv', sep='\\t', encoding='utf8')\n",
        "\n",
        "if use_wandb:\n",
        "  model_artifact = wandb.Artifact(\n",
        "      \"recommender_lsi\", \n",
        "      type=\"csv\",\n",
        "      description=\"Recommendations for each Tune using LSI Model (csv file)\",\n",
        "      metadata=\"\")\n",
        "\n",
        "  model_artifact.add_file(\"'output/recommender_lsi.csv'\")\n",
        "  wandb.log_artifact(model_artifact)"
      ],
      "execution_count": 79,
      "outputs": []
    },
    {
      "cell_type": "markdown",
      "metadata": {
        "id": "lTQKfd0xQQ65"
      },
      "source": [
        "## Store Model to W&B"
      ]
    },
    {
      "cell_type": "code",
      "metadata": {
        "id": "RfAYF7ArQUXo"
      },
      "source": [
        "if use_wandb:\n",
        "  model_artifact = wandb.Artifact(\n",
        "      \"model_lsi\", \n",
        "      type=\"model\",\n",
        "      description=\"LSI model\",\n",
        "      metadata=\"\")\n",
        "\n",
        "  model_artifact.add_file(\"/content/index/lsi.model\")\n",
        "  model_artifact.add_file(\"/content/index/lsi_matrixsim.index\")\n",
        "  model_artifact.add_file(\"/content/index/lsi.model.projection\")\n",
        "  wandb.log_artifact(model_artifact)"
      ],
      "execution_count": 80,
      "outputs": []
    },
    {
      "cell_type": "markdown",
      "metadata": {
        "id": "asScIocQRMPA"
      },
      "source": [
        "## Determine Number of Topics for LSI Model\n",
        "\n",
        "This sample comes from Datacamp: \n",
        "\n",
        "https://www.datacamp.com/community/tutorials/discovering-hidden-topics-python\n"
      ]
    },
    {
      "cell_type": "markdown",
      "metadata": {
        "id": "1TPNWFEPSxZ-"
      },
      "source": [
        "What is the best way to determine k (number of topics) in topic modeling? Identify the optimum number of topics in the given corpus text is a challenging task. We can use the following options for determining the optimum number of topics:\n",
        "\n",
        "* One way to determine the optimum number of topics is to consider each topic as a cluster and find out the effectiveness of a cluster using the Silhouette coefficient.\n",
        "* Topic coherence measure is a realistic measure for identifying the number of topics.\n",
        "\n",
        "Topic Coherence measure is a widely used metric to evaluate topic models. It uses the latent variable models. Each generated topic has a list of words. In topic coherence measure, you will find average/median of pairwise word similarity scores of the words in a topic. The high value of topic coherence score model will be considered as a good topic model. "
      ]
    },
    {
      "cell_type": "code",
      "metadata": {
        "id": "umpCyQQzRLgv"
      },
      "source": [
        "def prepare_corpus(doc_clean):\n",
        "    \"\"\"\n",
        "    Input  : clean document\n",
        "    Purpose: create term dictionary of our courpus and Converting list of documents (corpus) into Document Term Matrix\n",
        "    Output : term dictionary and Document Term Matrix\n",
        "    \"\"\"\n",
        "    # Creating the term dictionary of our courpus, where every unique term is assigned an index. dictionary = corpora.Dictionary(doc_clean)\n",
        "    dictionary = corpora.Dictionary(doc_clean)\n",
        "    # Converting list of documents (corpus) into Document Term Matrix using dictionary prepared above.\n",
        "    doc_term_matrix = [dictionary.doc2bow(doc) for doc in doc_clean]\n",
        "    # generate LDA model\n",
        "    return dictionary, doc_term_matrix"
      ],
      "execution_count": 81,
      "outputs": []
    },
    {
      "cell_type": "code",
      "metadata": {
        "id": "aS2wxIEERcul"
      },
      "source": [
        "def compute_coherence_values(dictionary, doc_term_matrix, doc_clean, stop, start=2, step=3):\n",
        "    \"\"\"\n",
        "    Input   : dictionary : Gensim dictionary\n",
        "              corpus : Gensim corpus\n",
        "              texts : List of input texts\n",
        "              stop : Max num of topics\n",
        "    purpose : Compute c_v coherence for various number of topics\n",
        "    Output  : model_list : List of LSA topic models\n",
        "              coherence_values : Coherence values corresponding to the LDA model with respective number of topics\n",
        "    \"\"\"\n",
        "    coherence_values = []\n",
        "    model_list = []\n",
        "    for num_topics in range(start, stop, step):\n",
        "        # generate LSA model\n",
        "        model = LsiModel(doc_term_matrix, num_topics=num_topics, id2word = dictionary)  # train model\n",
        "        model_list.append(model)\n",
        "        coherencemodel = CoherenceModel(model=model, texts=doc_clean, dictionary=dictionary, coherence='c_v')\n",
        "        coherence_values.append(coherencemodel.get_coherence())\n",
        "    return model_list, coherence_values"
      ],
      "execution_count": 82,
      "outputs": []
    },
    {
      "cell_type": "code",
      "metadata": {
        "id": "DjyzAzWBRfrH"
      },
      "source": [
        "def plot_graph(doc_clean,start, stop, step):\n",
        "    dictionary, doc_term_matrix = prepare_corpus(doc_clean)\n",
        "    model_list, coherence_values = compute_coherence_values(dictionary, doc_term_matrix,doc_clean,\n",
        "                                                            stop, start, step)\n",
        "    # Show graph\n",
        "    x = range(start, stop, step)\n",
        "    plt.plot(x, coherence_values)\n",
        "    plt.xlabel(\"Number of Topics\")\n",
        "    plt.ylabel(\"Coherence score\")\n",
        "    plt.legend((\"coherence_values\"), loc='best')\n",
        "    plt.show()"
      ],
      "execution_count": 83,
      "outputs": []
    },
    {
      "cell_type": "code",
      "metadata": {
        "id": "qy9ZjdcmRhxs"
      },
      "source": [
        "# evaluate a good number of topics for the LSI Model. This takes some time.\n",
        "\n",
        "if False:\n",
        "\n",
        "  start, stop, step = 1, 500, 10\n",
        "  plot_graph(data, start, stop, step)"
      ],
      "execution_count": 84,
      "outputs": []
    },
    {
      "cell_type": "markdown",
      "metadata": {
        "id": "Qo5NgBHFlqgg"
      },
      "source": [
        "For unigrams, the best number of topics seems to be around 20.\n",
        "\n",
        "For unigrams plus bigrams, the coherence score drops down until 100 and then continuously rises until 500 and continues to rise. Same for bigrams-only."
      ]
    },
    {
      "cell_type": "markdown",
      "metadata": {
        "id": "rF_INicGhXKd"
      },
      "source": [
        "# Doc2Vec"
      ]
    },
    {
      "cell_type": "code",
      "metadata": {
        "id": "wflSccBshkIk"
      },
      "source": [
        "def get_tagged_documents(corpus, tags=None):\n",
        "  if tags == 'SectionsTunes':\n",
        "    print('Tagging input data with both section and tune information.')\n",
        "  else:\n",
        "    print('Tagging input data with section informaiton only.')\n",
        "    \n",
        "  for i, tokens in enumerate(corpus):\n",
        "    if tags == 'SectionsTunes':\n",
        "      yield gensim.models.doc2vec.TaggedDocument(tokens, [i, f'titleid_{sectionid_to_titleid[i]}'])\n",
        "    else:\n",
        "      yield gensim.models.doc2vec.TaggedDocument(tokens, [i])  # diatonic chord distance is a bit better"
      ],
      "execution_count": 85,
      "outputs": []
    },
    {
      "cell_type": "code",
      "metadata": {
        "colab": {
          "base_uri": "https://localhost:8080/"
        },
        "id": "_u0RdBI1kYD9",
        "outputId": "5c586f56-4b9f-4bfb-e314-707d5c065fc4"
      },
      "source": [
        "train_corpus = list(get_tagged_documents(processed_corpus, doc2vec_config['general']['document_tags']))\n",
        "train_corpus[1000]"
      ],
      "execution_count": 86,
      "outputs": [
        {
          "output_type": "stream",
          "name": "stdout",
          "text": [
            "Tagging input data with both section and tune information.\n"
          ]
        },
        {
          "output_type": "execute_result",
          "data": {
            "text/plain": [
              "TaggedDocument(words=['C', 'Am', 'Dm', 'G7', 'C', 'F', 'C', 'Am', 'Dm', 'G7', 'C', 'Dm', 'G7'], tags=[1000, 'titleid_308'])"
            ]
          },
          "metadata": {},
          "execution_count": 86
        }
      ]
    },
    {
      "cell_type": "code",
      "metadata": {
        "colab": {
          "base_uri": "https://localhost:8080/"
        },
        "id": "M9adPoy9reaw",
        "outputId": "459002b1-bcb7-467d-ff4b-3e07e5bce412"
      },
      "source": [
        "import multiprocessing\n",
        "\n",
        "print(f\"CPU Count: {multiprocessing.cpu_count()}\")\n",
        "print(f\"Config:\")\n",
        "print(doc2vec_config['model'])\n",
        "\n",
        "model = Doc2Vec(train_corpus,\n",
        "                **doc2vec_config['model']\n",
        "                )"
      ],
      "execution_count": 87,
      "outputs": [
        {
          "output_type": "stream",
          "name": "stderr",
          "text": [
            "2021-11-26 19:26:55,639 : INFO : collecting all words and their counts\n",
            "2021-11-26 19:26:55,645 : INFO : PROGRESS: at example #0, processed 0 words (0/s), 0 word types, 0 tags\n",
            "2021-11-26 19:26:55,710 : INFO : collected 72 word types and 7200 unique tags from a corpus of 5391 examples and 82622 words\n",
            "2021-11-26 19:26:55,717 : INFO : Creating a fresh vocabulary\n",
            "2021-11-26 19:26:55,726 : INFO : Doc2Vec lifecycle event {'msg': 'effective_min_count=1 retains 72 unique words (100.0%% of original 72, drops 0)', 'datetime': '2021-11-26T19:26:55.726406', 'gensim': '4.1.2', 'python': '3.7.12 (default, Sep 10 2021, 00:21:48) \\n[GCC 7.5.0]', 'platform': 'Linux-5.4.104+-x86_64-with-Ubuntu-18.04-bionic', 'event': 'prepare_vocab'}\n",
            "2021-11-26 19:26:55,733 : INFO : Doc2Vec lifecycle event {'msg': 'effective_min_count=1 leaves 82622 word corpus (100.0%% of original 82622, drops 0)', 'datetime': '2021-11-26T19:26:55.733569', 'gensim': '4.1.2', 'python': '3.7.12 (default, Sep 10 2021, 00:21:48) \\n[GCC 7.5.0]', 'platform': 'Linux-5.4.104+-x86_64-with-Ubuntu-18.04-bionic', 'event': 'prepare_vocab'}\n",
            "2021-11-26 19:26:55,746 : INFO : deleting the raw counts dictionary of 72 items\n",
            "2021-11-26 19:26:55,758 : INFO : sample=0.001 downsamples 40 most-common words\n",
            "2021-11-26 19:26:55,766 : INFO : Doc2Vec lifecycle event {'msg': 'downsampling leaves estimated 18531.453689281494 word corpus (22.4%% of prior 82622)', 'datetime': '2021-11-26T19:26:55.765957', 'gensim': '4.1.2', 'python': '3.7.12 (default, Sep 10 2021, 00:21:48) \\n[GCC 7.5.0]', 'platform': 'Linux-5.4.104+-x86_64-with-Ubuntu-18.04-bionic', 'event': 'prepare_vocab'}\n"
          ]
        },
        {
          "output_type": "stream",
          "name": "stdout",
          "text": [
            "CPU Count: 2\n",
            "Config:\n",
            "{'dm': 1, 'vector_size': 100, 'window': 4, 'epochs': 40, 'min_count': 1, 'negative': 10, 'sample': 0.001, 'seed': 42}\n"
          ]
        },
        {
          "output_type": "stream",
          "name": "stderr",
          "text": [
            "2021-11-26 19:26:55,780 : INFO : estimated required memory for 72 words and 100 dimensions: 4413600 bytes\n",
            "2021-11-26 19:26:55,785 : INFO : resetting layer weights\n",
            "2021-11-26 19:26:55,808 : INFO : Doc2Vec lifecycle event {'msg': 'training model with 3 workers on 72 vocabulary and 100 features, using sg=0 hs=0 sample=0.001 negative=10 window=4 shrink_windows=True', 'datetime': '2021-11-26T19:26:55.808130', 'gensim': '4.1.2', 'python': '3.7.12 (default, Sep 10 2021, 00:21:48) \\n[GCC 7.5.0]', 'platform': 'Linux-5.4.104+-x86_64-with-Ubuntu-18.04-bionic', 'event': 'train'}\n",
            "2021-11-26 19:26:56,906 : INFO : EPOCH 1 - PROGRESS: at 80.71% examples, 21815 words/s, in_qsize 2, out_qsize 1\n",
            "2021-11-26 19:26:56,923 : INFO : worker thread finished; awaiting finish of 2 more threads\n",
            "2021-11-26 19:26:57,086 : INFO : worker thread finished; awaiting finish of 1 more threads\n",
            "2021-11-26 19:26:57,095 : INFO : worker thread finished; awaiting finish of 0 more threads\n",
            "2021-11-26 19:26:57,109 : INFO : EPOCH - 1 : training on 82622 raw words (29306 effective words) took 1.3s, 22874 effective words/s\n",
            "2021-11-26 19:26:58,172 : INFO : EPOCH 2 - PROGRESS: at 78.07% examples, 22174 words/s, in_qsize 3, out_qsize 0\n",
            "2021-11-26 19:26:58,306 : INFO : worker thread finished; awaiting finish of 2 more threads\n",
            "2021-11-26 19:26:58,372 : INFO : worker thread finished; awaiting finish of 1 more threads\n",
            "2021-11-26 19:26:58,388 : INFO : worker thread finished; awaiting finish of 0 more threads\n",
            "2021-11-26 19:26:58,390 : INFO : EPOCH - 2 : training on 82622 raw words (29489 effective words) took 1.3s, 23440 effective words/s\n",
            "2021-11-26 19:26:59,347 : INFO : worker thread finished; awaiting finish of 2 more threads\n",
            "2021-11-26 19:26:59,441 : INFO : EPOCH 3 - PROGRESS: at 89.50% examples, 25880 words/s, in_qsize 1, out_qsize 1\n",
            "2021-11-26 19:26:59,451 : INFO : worker thread finished; awaiting finish of 1 more threads\n",
            "2021-11-26 19:26:59,455 : INFO : worker thread finished; awaiting finish of 0 more threads\n",
            "2021-11-26 19:26:59,458 : INFO : EPOCH - 3 : training on 82622 raw words (29237 effective words) took 1.0s, 28288 effective words/s\n",
            "2021-11-26 19:27:00,271 : INFO : worker thread finished; awaiting finish of 2 more threads\n",
            "2021-11-26 19:27:00,353 : INFO : worker thread finished; awaiting finish of 1 more threads\n",
            "2021-11-26 19:27:00,362 : INFO : worker thread finished; awaiting finish of 0 more threads\n",
            "2021-11-26 19:27:00,364 : INFO : EPOCH - 4 : training on 82622 raw words (29201 effective words) took 0.9s, 33097 effective words/s\n",
            "2021-11-26 19:27:01,158 : INFO : worker thread finished; awaiting finish of 2 more threads\n",
            "2021-11-26 19:27:01,219 : INFO : worker thread finished; awaiting finish of 1 more threads\n",
            "2021-11-26 19:27:01,230 : INFO : worker thread finished; awaiting finish of 0 more threads\n",
            "2021-11-26 19:27:01,231 : INFO : EPOCH - 5 : training on 82622 raw words (29188 effective words) took 0.9s, 34147 effective words/s\n",
            "2021-11-26 19:27:01,955 : INFO : worker thread finished; awaiting finish of 2 more threads\n",
            "2021-11-26 19:27:02,021 : INFO : worker thread finished; awaiting finish of 1 more threads\n",
            "2021-11-26 19:27:02,023 : INFO : worker thread finished; awaiting finish of 0 more threads\n",
            "2021-11-26 19:27:02,025 : INFO : EPOCH - 6 : training on 82622 raw words (29360 effective words) took 0.8s, 37593 effective words/s\n",
            "2021-11-26 19:27:02,711 : INFO : worker thread finished; awaiting finish of 2 more threads\n",
            "2021-11-26 19:27:02,784 : INFO : worker thread finished; awaiting finish of 1 more threads\n",
            "2021-11-26 19:27:02,790 : INFO : worker thread finished; awaiting finish of 0 more threads\n",
            "2021-11-26 19:27:02,793 : INFO : EPOCH - 7 : training on 82622 raw words (29367 effective words) took 0.8s, 38992 effective words/s\n",
            "2021-11-26 19:27:03,527 : INFO : worker thread finished; awaiting finish of 2 more threads\n",
            "2021-11-26 19:27:03,569 : INFO : worker thread finished; awaiting finish of 1 more threads\n",
            "2021-11-26 19:27:03,585 : INFO : worker thread finished; awaiting finish of 0 more threads\n",
            "2021-11-26 19:27:03,592 : INFO : EPOCH - 8 : training on 82622 raw words (29286 effective words) took 0.8s, 37228 effective words/s\n",
            "2021-11-26 19:27:04,244 : INFO : worker thread finished; awaiting finish of 2 more threads\n",
            "2021-11-26 19:27:04,312 : INFO : worker thread finished; awaiting finish of 1 more threads\n",
            "2021-11-26 19:27:04,322 : INFO : worker thread finished; awaiting finish of 0 more threads\n",
            "2021-11-26 19:27:04,324 : INFO : EPOCH - 9 : training on 82622 raw words (29370 effective words) took 0.7s, 40777 effective words/s\n",
            "2021-11-26 19:27:04,920 : INFO : worker thread finished; awaiting finish of 2 more threads\n",
            "2021-11-26 19:27:04,990 : INFO : worker thread finished; awaiting finish of 1 more threads\n",
            "2021-11-26 19:27:04,996 : INFO : worker thread finished; awaiting finish of 0 more threads\n",
            "2021-11-26 19:27:04,999 : INFO : EPOCH - 10 : training on 82622 raw words (29374 effective words) took 0.7s, 44284 effective words/s\n",
            "2021-11-26 19:27:05,664 : INFO : worker thread finished; awaiting finish of 2 more threads\n",
            "2021-11-26 19:27:05,734 : INFO : worker thread finished; awaiting finish of 1 more threads\n",
            "2021-11-26 19:27:05,742 : INFO : worker thread finished; awaiting finish of 0 more threads\n",
            "2021-11-26 19:27:05,745 : INFO : EPOCH - 11 : training on 82622 raw words (29426 effective words) took 0.7s, 40140 effective words/s\n",
            "2021-11-26 19:27:06,442 : INFO : worker thread finished; awaiting finish of 2 more threads\n",
            "2021-11-26 19:27:06,510 : INFO : worker thread finished; awaiting finish of 1 more threads\n",
            "2021-11-26 19:27:06,516 : INFO : worker thread finished; awaiting finish of 0 more threads\n",
            "2021-11-26 19:27:06,519 : INFO : EPOCH - 12 : training on 82622 raw words (29260 effective words) took 0.8s, 38394 effective words/s\n",
            "2021-11-26 19:27:07,352 : INFO : worker thread finished; awaiting finish of 2 more threads\n",
            "2021-11-26 19:27:07,405 : INFO : worker thread finished; awaiting finish of 1 more threads\n",
            "2021-11-26 19:27:07,419 : INFO : worker thread finished; awaiting finish of 0 more threads\n",
            "2021-11-26 19:27:07,421 : INFO : EPOCH - 13 : training on 82622 raw words (29396 effective words) took 0.9s, 33129 effective words/s\n",
            "2021-11-26 19:27:08,103 : INFO : worker thread finished; awaiting finish of 2 more threads\n",
            "2021-11-26 19:27:08,178 : INFO : worker thread finished; awaiting finish of 1 more threads\n",
            "2021-11-26 19:27:08,185 : INFO : worker thread finished; awaiting finish of 0 more threads\n",
            "2021-11-26 19:27:08,187 : INFO : EPOCH - 14 : training on 82622 raw words (29196 effective words) took 0.7s, 39010 effective words/s\n",
            "2021-11-26 19:27:08,974 : INFO : worker thread finished; awaiting finish of 2 more threads\n",
            "2021-11-26 19:27:09,037 : INFO : worker thread finished; awaiting finish of 1 more threads\n",
            "2021-11-26 19:27:09,046 : INFO : worker thread finished; awaiting finish of 0 more threads\n",
            "2021-11-26 19:27:09,048 : INFO : EPOCH - 15 : training on 82622 raw words (29417 effective words) took 0.8s, 34798 effective words/s\n",
            "2021-11-26 19:27:09,762 : INFO : worker thread finished; awaiting finish of 2 more threads\n",
            "2021-11-26 19:27:09,824 : INFO : worker thread finished; awaiting finish of 1 more threads\n",
            "2021-11-26 19:27:09,841 : INFO : worker thread finished; awaiting finish of 0 more threads\n",
            "2021-11-26 19:27:09,843 : INFO : EPOCH - 16 : training on 82622 raw words (29270 effective words) took 0.8s, 38000 effective words/s\n",
            "2021-11-26 19:27:10,568 : INFO : worker thread finished; awaiting finish of 2 more threads\n",
            "2021-11-26 19:27:10,641 : INFO : worker thread finished; awaiting finish of 1 more threads\n",
            "2021-11-26 19:27:10,647 : INFO : worker thread finished; awaiting finish of 0 more threads\n",
            "2021-11-26 19:27:10,651 : INFO : EPOCH - 17 : training on 82622 raw words (29077 effective words) took 0.8s, 36927 effective words/s\n",
            "2021-11-26 19:27:11,275 : INFO : worker thread finished; awaiting finish of 2 more threads\n",
            "2021-11-26 19:27:11,349 : INFO : worker thread finished; awaiting finish of 1 more threads\n",
            "2021-11-26 19:27:11,356 : INFO : worker thread finished; awaiting finish of 0 more threads\n",
            "2021-11-26 19:27:11,359 : INFO : EPOCH - 18 : training on 82622 raw words (29316 effective words) took 0.7s, 42258 effective words/s\n",
            "2021-11-26 19:27:12,117 : INFO : worker thread finished; awaiting finish of 2 more threads\n",
            "2021-11-26 19:27:12,185 : INFO : worker thread finished; awaiting finish of 1 more threads\n",
            "2021-11-26 19:27:12,194 : INFO : worker thread finished; awaiting finish of 0 more threads\n",
            "2021-11-26 19:27:12,195 : INFO : EPOCH - 19 : training on 82622 raw words (29156 effective words) took 0.8s, 35613 effective words/s\n",
            "2021-11-26 19:27:12,883 : INFO : worker thread finished; awaiting finish of 2 more threads\n",
            "2021-11-26 19:27:12,930 : INFO : worker thread finished; awaiting finish of 1 more threads\n",
            "2021-11-26 19:27:12,933 : INFO : worker thread finished; awaiting finish of 0 more threads\n",
            "2021-11-26 19:27:12,934 : INFO : EPOCH - 20 : training on 82622 raw words (29193 effective words) took 0.7s, 40409 effective words/s\n",
            "2021-11-26 19:27:13,598 : INFO : worker thread finished; awaiting finish of 2 more threads\n",
            "2021-11-26 19:27:13,653 : INFO : worker thread finished; awaiting finish of 1 more threads\n",
            "2021-11-26 19:27:13,664 : INFO : worker thread finished; awaiting finish of 0 more threads\n",
            "2021-11-26 19:27:13,665 : INFO : EPOCH - 21 : training on 82622 raw words (29347 effective words) took 0.7s, 41009 effective words/s\n",
            "2021-11-26 19:27:14,296 : INFO : worker thread finished; awaiting finish of 2 more threads\n",
            "2021-11-26 19:27:14,377 : INFO : worker thread finished; awaiting finish of 1 more threads\n",
            "2021-11-26 19:27:14,384 : INFO : worker thread finished; awaiting finish of 0 more threads\n",
            "2021-11-26 19:27:14,386 : INFO : EPOCH - 22 : training on 82622 raw words (29267 effective words) took 0.7s, 41368 effective words/s\n",
            "2021-11-26 19:27:15,038 : INFO : worker thread finished; awaiting finish of 2 more threads\n",
            "2021-11-26 19:27:15,099 : INFO : worker thread finished; awaiting finish of 1 more threads\n",
            "2021-11-26 19:27:15,117 : INFO : worker thread finished; awaiting finish of 0 more threads\n",
            "2021-11-26 19:27:15,118 : INFO : EPOCH - 23 : training on 82622 raw words (29366 effective words) took 0.7s, 40969 effective words/s\n",
            "2021-11-26 19:27:15,751 : INFO : worker thread finished; awaiting finish of 2 more threads\n",
            "2021-11-26 19:27:15,801 : INFO : worker thread finished; awaiting finish of 1 more threads\n",
            "2021-11-26 19:27:15,810 : INFO : worker thread finished; awaiting finish of 0 more threads\n",
            "2021-11-26 19:27:15,811 : INFO : EPOCH - 24 : training on 82622 raw words (29335 effective words) took 0.7s, 43190 effective words/s\n",
            "2021-11-26 19:27:16,440 : INFO : worker thread finished; awaiting finish of 2 more threads\n",
            "2021-11-26 19:27:16,509 : INFO : worker thread finished; awaiting finish of 1 more threads\n",
            "2021-11-26 19:27:16,521 : INFO : worker thread finished; awaiting finish of 0 more threads\n",
            "2021-11-26 19:27:16,522 : INFO : EPOCH - 25 : training on 82622 raw words (29223 effective words) took 0.7s, 41844 effective words/s\n",
            "2021-11-26 19:27:17,200 : INFO : worker thread finished; awaiting finish of 2 more threads\n",
            "2021-11-26 19:27:17,276 : INFO : worker thread finished; awaiting finish of 1 more threads\n",
            "2021-11-26 19:27:17,286 : INFO : worker thread finished; awaiting finish of 0 more threads\n",
            "2021-11-26 19:27:17,288 : INFO : EPOCH - 26 : training on 82622 raw words (29264 effective words) took 0.7s, 39024 effective words/s\n",
            "2021-11-26 19:27:17,939 : INFO : worker thread finished; awaiting finish of 2 more threads\n",
            "2021-11-26 19:27:18,008 : INFO : worker thread finished; awaiting finish of 1 more threads\n",
            "2021-11-26 19:27:18,018 : INFO : worker thread finished; awaiting finish of 0 more threads\n",
            "2021-11-26 19:27:18,023 : INFO : EPOCH - 27 : training on 82622 raw words (29307 effective words) took 0.7s, 40569 effective words/s\n",
            "2021-11-26 19:27:18,663 : INFO : worker thread finished; awaiting finish of 2 more threads\n",
            "2021-11-26 19:27:18,706 : INFO : worker thread finished; awaiting finish of 1 more threads\n",
            "2021-11-26 19:27:18,715 : INFO : worker thread finished; awaiting finish of 0 more threads\n",
            "2021-11-26 19:27:18,718 : INFO : EPOCH - 28 : training on 82622 raw words (29372 effective words) took 0.7s, 42974 effective words/s\n",
            "2021-11-26 19:27:19,337 : INFO : worker thread finished; awaiting finish of 2 more threads\n",
            "2021-11-26 19:27:19,391 : INFO : worker thread finished; awaiting finish of 1 more threads\n",
            "2021-11-26 19:27:19,402 : INFO : worker thread finished; awaiting finish of 0 more threads\n",
            "2021-11-26 19:27:19,403 : INFO : EPOCH - 29 : training on 82622 raw words (29262 effective words) took 0.7s, 43487 effective words/s\n",
            "2021-11-26 19:27:19,990 : INFO : worker thread finished; awaiting finish of 2 more threads\n",
            "2021-11-26 19:27:20,041 : INFO : worker thread finished; awaiting finish of 1 more threads\n",
            "2021-11-26 19:27:20,052 : INFO : worker thread finished; awaiting finish of 0 more threads\n",
            "2021-11-26 19:27:20,055 : INFO : EPOCH - 30 : training on 82622 raw words (29410 effective words) took 0.6s, 46050 effective words/s\n",
            "2021-11-26 19:27:20,768 : INFO : worker thread finished; awaiting finish of 2 more threads\n",
            "2021-11-26 19:27:20,842 : INFO : worker thread finished; awaiting finish of 1 more threads\n",
            "2021-11-26 19:27:20,851 : INFO : worker thread finished; awaiting finish of 0 more threads\n",
            "2021-11-26 19:27:20,853 : INFO : EPOCH - 31 : training on 82622 raw words (29218 effective words) took 0.8s, 37446 effective words/s\n",
            "2021-11-26 19:27:21,589 : INFO : worker thread finished; awaiting finish of 2 more threads\n",
            "2021-11-26 19:27:21,646 : INFO : worker thread finished; awaiting finish of 1 more threads\n",
            "2021-11-26 19:27:21,657 : INFO : worker thread finished; awaiting finish of 0 more threads\n",
            "2021-11-26 19:27:21,659 : INFO : EPOCH - 32 : training on 82622 raw words (29307 effective words) took 0.8s, 37024 effective words/s\n",
            "2021-11-26 19:27:22,319 : INFO : worker thread finished; awaiting finish of 2 more threads\n",
            "2021-11-26 19:27:22,375 : INFO : worker thread finished; awaiting finish of 1 more threads\n",
            "2021-11-26 19:27:22,384 : INFO : worker thread finished; awaiting finish of 0 more threads\n",
            "2021-11-26 19:27:22,386 : INFO : EPOCH - 33 : training on 82622 raw words (29358 effective words) took 0.7s, 41144 effective words/s\n",
            "2021-11-26 19:27:23,041 : INFO : worker thread finished; awaiting finish of 2 more threads\n",
            "2021-11-26 19:27:23,098 : INFO : worker thread finished; awaiting finish of 1 more threads\n",
            "2021-11-26 19:27:23,114 : INFO : worker thread finished; awaiting finish of 0 more threads\n",
            "2021-11-26 19:27:23,116 : INFO : EPOCH - 34 : training on 82622 raw words (29451 effective words) took 0.7s, 41260 effective words/s\n",
            "2021-11-26 19:27:23,766 : INFO : worker thread finished; awaiting finish of 2 more threads\n",
            "2021-11-26 19:27:23,819 : INFO : worker thread finished; awaiting finish of 1 more threads\n",
            "2021-11-26 19:27:23,830 : INFO : worker thread finished; awaiting finish of 0 more threads\n",
            "2021-11-26 19:27:23,833 : INFO : EPOCH - 35 : training on 82622 raw words (29324 effective words) took 0.7s, 41590 effective words/s\n",
            "2021-11-26 19:27:24,539 : INFO : worker thread finished; awaiting finish of 2 more threads\n",
            "2021-11-26 19:27:24,597 : INFO : worker thread finished; awaiting finish of 1 more threads\n",
            "2021-11-26 19:27:24,608 : INFO : worker thread finished; awaiting finish of 0 more threads\n",
            "2021-11-26 19:27:24,610 : INFO : EPOCH - 36 : training on 82622 raw words (29187 effective words) took 0.8s, 38127 effective words/s\n",
            "2021-11-26 19:27:25,278 : INFO : worker thread finished; awaiting finish of 2 more threads\n",
            "2021-11-26 19:27:25,324 : INFO : worker thread finished; awaiting finish of 1 more threads\n",
            "2021-11-26 19:27:25,334 : INFO : worker thread finished; awaiting finish of 0 more threads\n",
            "2021-11-26 19:27:25,335 : INFO : EPOCH - 37 : training on 82622 raw words (29266 effective words) took 0.7s, 41371 effective words/s\n",
            "2021-11-26 19:27:25,984 : INFO : worker thread finished; awaiting finish of 2 more threads\n",
            "2021-11-26 19:27:26,038 : INFO : worker thread finished; awaiting finish of 1 more threads\n",
            "2021-11-26 19:27:26,045 : INFO : worker thread finished; awaiting finish of 0 more threads\n",
            "2021-11-26 19:27:26,048 : INFO : EPOCH - 38 : training on 82622 raw words (29379 effective words) took 0.7s, 42257 effective words/s\n",
            "2021-11-26 19:27:26,706 : INFO : worker thread finished; awaiting finish of 2 more threads\n",
            "2021-11-26 19:27:26,778 : INFO : worker thread finished; awaiting finish of 1 more threads\n",
            "2021-11-26 19:27:26,782 : INFO : worker thread finished; awaiting finish of 0 more threads\n",
            "2021-11-26 19:27:26,785 : INFO : EPOCH - 39 : training on 82622 raw words (29405 effective words) took 0.7s, 40780 effective words/s\n",
            "2021-11-26 19:27:27,513 : INFO : worker thread finished; awaiting finish of 2 more threads\n",
            "2021-11-26 19:27:27,559 : INFO : worker thread finished; awaiting finish of 1 more threads\n",
            "2021-11-26 19:27:27,572 : INFO : worker thread finished; awaiting finish of 0 more threads\n",
            "2021-11-26 19:27:27,573 : INFO : EPOCH - 40 : training on 82622 raw words (29334 effective words) took 0.8s, 38094 effective words/s\n",
            "2021-11-26 19:27:27,578 : INFO : Doc2Vec lifecycle event {'msg': 'training on 3304880 raw words (1172267 effective words) took 31.8s, 36903 effective words/s', 'datetime': '2021-11-26T19:27:27.578613', 'gensim': '4.1.2', 'python': '3.7.12 (default, Sep 10 2021, 00:21:48) \\n[GCC 7.5.0]', 'platform': 'Linux-5.4.104+-x86_64-with-Ubuntu-18.04-bionic', 'event': 'train'}\n",
            "2021-11-26 19:27:27,584 : INFO : Doc2Vec lifecycle event {'params': 'Doc2Vec(dm/m,d100,n10,w4,s0.001,t3)', 'datetime': '2021-11-26T19:27:27.584248', 'gensim': '4.1.2', 'python': '3.7.12 (default, Sep 10 2021, 00:21:48) \\n[GCC 7.5.0]', 'platform': 'Linux-5.4.104+-x86_64-with-Ubuntu-18.04-bionic', 'event': 'created'}\n"
          ]
        }
      ]
    },
    {
      "cell_type": "code",
      "metadata": {
        "id": "G-cE7gug1Ct5"
      },
      "source": [
        "if use_wandb:\n",
        "  model_artifact = wandb.Artifact(\n",
        "      \"model_doc2vec\", \n",
        "      type=\"model\",\n",
        "      description=\"Doc2Vec model\",\n",
        "      metadata=\"\")\n",
        "\n",
        "  fname = 'doc2vec.model'\n",
        "  model.save(fname)\n",
        "\n",
        "  model_artifact.add_file(fname)\n",
        "  wandb.log_artifact(model_artifact)"
      ],
      "execution_count": 88,
      "outputs": []
    },
    {
      "cell_type": "markdown",
      "metadata": {
        "id": "jJvq2K93xAO5"
      },
      "source": [
        "### Test the distance between C and the diatonic chords\n",
        "\n",
        "Test if the model can capture that the diatonic chords are closer to the root.\n",
        "\n",
        "Do this only if the input corpus contains the unigrams. "
      ]
    },
    {
      "cell_type": "code",
      "metadata": {
        "id": "cH3TJxCfvoFm",
        "colab": {
          "base_uri": "https://localhost:8080/"
        },
        "outputId": "fb95f586-4c81-4d85-c2bc-9ad34f23c107"
      },
      "source": [
        "test_tokens = ['C',\n",
        "              'Dm',\n",
        "              'Em',\n",
        "              'F',\n",
        "              'G7',\n",
        "              'Am',\n",
        "              #'Bm7b5',\n",
        "              'F7',\n",
        "              'D7',\n",
        "              'A7',\n",
        "              'E7',\n",
        "              'B7',\n",
        "              'F#7',\n",
        "               'Cm',\n",
        "               'D']\n",
        "\n",
        "if 1 in ngrams_for_input:\n",
        "  ref = 'C'\n",
        "  for t in test_tokens:\n",
        "    print(f\"{model.wv.similarity(ref, t):.3f}: {ref} <-> {t}\")"
      ],
      "execution_count": 89,
      "outputs": [
        {
          "output_type": "stream",
          "name": "stdout",
          "text": [
            "1.000: C <-> C\n",
            "0.412: C <-> Dm\n",
            "0.484: C <-> Em\n",
            "0.224: C <-> F\n",
            "0.663: C <-> G7\n",
            "0.374: C <-> Am\n",
            "0.279: C <-> F7\n",
            "0.190: C <-> D7\n",
            "0.604: C <-> A7\n",
            "0.459: C <-> E7\n",
            "0.182: C <-> B7\n",
            "-0.132: C <-> F#7\n",
            "0.353: C <-> Cm\n",
            "0.141: C <-> D\n"
          ]
        }
      ]
    },
    {
      "cell_type": "code",
      "metadata": {
        "id": "IfIRoWL4kpcB"
      },
      "source": [
        "if 1 in ngrams_for_input:\n",
        "  model.wv.similar_by_word('C', topn=20)"
      ],
      "execution_count": 90,
      "outputs": []
    },
    {
      "cell_type": "markdown",
      "metadata": {
        "id": "ix4n9S3_xQzD"
      },
      "source": [
        "Plot the generated word vectors in 2D space"
      ]
    },
    {
      "cell_type": "code",
      "metadata": {
        "id": "JjT_uNh0wthj",
        "colab": {
          "base_uri": "https://localhost:8080/",
          "height": 711
        },
        "outputId": "9594cbfc-f4a1-455f-e3ba-ee1c9e94a6ee"
      },
      "source": [
        "from sklearn.manifold import TSNE\n",
        "\n",
        "# input data: vectors for all tokens\n",
        "weights = model.wv.vectors\n",
        "\n",
        "# only do this when the vocabulary is not too big....\n",
        "if len(weights) < 100:\n",
        "\n",
        "  # do T-SNE\n",
        "  tsne = TSNE(n_components=2, \n",
        "              random_state=42,\n",
        "              perplexity=30,\n",
        "              learning_rate='auto',\n",
        "              init='pca',\n",
        "              n_iter=2000\n",
        "              )\n",
        "  T = tsne.fit_transform(weights)\n",
        "\n",
        "  # plot\n",
        "  projected = pd.DataFrame(T)\n",
        "\n",
        "  fig = px.scatter(\n",
        "      projected, \n",
        "      x=0, y=1,\n",
        "      #color='mode',\n",
        "      text=model.wv.index_to_key,\n",
        "      width=800, height=600,\n",
        "      title=\"T-SNE applied to Chord Vectors for Tunes in Cmaj/Amin\"\n",
        "  )\n",
        "  fig.update_traces(textposition='top center')\n",
        "  fig.update_traces(textfont_size=12, selector=dict(type='scatter'))\n",
        "  fig.show()"
      ],
      "execution_count": 91,
      "outputs": [
        {
          "output_type": "stream",
          "name": "stderr",
          "text": [
            "/usr/local/lib/python3.7/dist-packages/sklearn/manifold/_t_sne.py:986: FutureWarning:\n",
            "\n",
            "The PCA initialization in TSNE will change to have the standard deviation of PC1 equal to 1e-4 in 1.2. This will ensure better convergence.\n",
            "\n"
          ]
        },
        {
          "output_type": "display_data",
          "data": {
            "text/html": [
              "<html>\n",
              "<head><meta charset=\"utf-8\" /></head>\n",
              "<body>\n",
              "    <div>\n",
              "            <script src=\"https://cdnjs.cloudflare.com/ajax/libs/mathjax/2.7.5/MathJax.js?config=TeX-AMS-MML_SVG\"></script><script type=\"text/javascript\">if (window.MathJax) {MathJax.Hub.Config({SVG: {font: \"STIX-Web\"}});}</script>\n",
              "                <script type=\"text/javascript\">window.PlotlyConfig = {MathJaxConfig: 'local'};</script>\n",
              "        <script src=\"https://cdn.plot.ly/plotly-latest.min.js\"></script>    \n",
              "            <div id=\"37796a3d-3d48-4c56-b5f7-4cf42f316c7f\" class=\"plotly-graph-div\" style=\"height:600px; width:800px;\"></div>\n",
              "            <script type=\"text/javascript\">\n",
              "                \n",
              "                    window.PLOTLYENV=window.PLOTLYENV || {};\n",
              "                    \n",
              "                if (document.getElementById(\"37796a3d-3d48-4c56-b5f7-4cf42f316c7f\")) {\n",
              "                    Plotly.newPlot(\n",
              "                        '37796a3d-3d48-4c56-b5f7-4cf42f316c7f',\n",
              "                        [{\"hoverlabel\": {\"namelength\": 0}, \"hovertemplate\": \"0=%{x}<br>1=%{y}<br>text=%{text}\", \"legendgroup\": \"\", \"marker\": {\"color\": \"#636efa\", \"symbol\": \"circle\"}, \"mode\": \"markers+text\", \"name\": \"\", \"showlegend\": false, \"text\": [\"C\", \"G7\", \"Dm\", \"Am\", \"A7\", \"D7\", \"F\", \"C7\", \"E7\", \"Em\", \"F7\", \"Bb7\", \"Fm\", \"B7\", \"Gm\", \"G#7\", \"Bm7b5\", \"G\", \"Ebdim\", \"Eb7\", \"Cm\", \"F#m7b5\", \"G#\", \"Bm\", \"C#7\", \"Bb\", \"Em7b5\", \"E\", \"F#m\", \"F#7\", \"Eb\", \"F#dim\", \"C#dim\", \"Ebm\", \"C#\", \"A\", \"Dm7b5\", \"Bbm\", \"D\", \"C#m\", \"Cdim\", \"B\", \"G#m\", \"F#\", \"G#dim\", \"Am7b5\", \"Fdim\", \"Gdim\", \"G7(+b5)\", \"C#m7b5\", \"E7(+b5)\", \"Adim\", \"F#7(+b5)\", \"Gm7b5\", \"A7(+b5)\", \"B7(+b5)\", \"Edim\", \"G#m7b5\", \"C#7(+b5)\", \"Bb7(+b5)\", \"Fm7b5\", \"D7(+b5)\", \"Bbdim\", \"Bbm7b5\", \"C7(+b5)\", \"Bdim\", \"Ddim\", \"Ebm7b5\", \"G#7(+b5)\", \"F7(+b5)\", \"Cm7b5\", \"Eb7(+b5)\"], \"textfont\": {\"size\": 12}, \"textposition\": \"top center\", \"type\": \"scatter\", \"x\": [6.907347202301025, 6.77786111831665, 6.533025741577148, 6.450570583343506, 6.672974109649658, 7.0557026863098145, 6.019659042358398, 6.4967122077941895, 6.8233442306518555, 6.982654571533203, 6.0287766456604, 7.378644943237305, 5.957413673400879, 5.949069499969482, 6.933582782745361, 6.909367561340332, 7.685690402984619, 7.355177402496338, 6.4485182762146, 7.09822940826416, 6.185881614685059, 7.526810646057129, 5.7960896492004395, 6.016461372375488, 8.390286445617676, 6.592741012573242, 7.379241943359375, 6.004750728607178, 6.273386001586914, 7.655203819274902, 4.69704008102417, 7.214807987213135, 6.684215545654297, 4.930396556854248, 5.185259819030762, 8.066240310668945, 6.7445573806762695, 5.1994853019714355, 6.9397053718566895, 8.755715370178223, 6.604127883911133, 3.8426406383514404, 3.9941656589508057, 4.161187171936035, 5.836639881134033, 5.1176629066467285, 5.475705623626709, 6.903920650482178, 3.81451416015625, 8.03769302368164, 3.9215567111968994, 8.854864120483398, 2.6742727756500244, 5.237733364105225, 3.4530439376831055, 2.9378929138183594, 2.9290809631347656, 7.1692280769348145, 3.3750932216644287, 3.84090256690979, 3.744518995285034, 4.479501247406006, 4.98489236831665, 3.056893825531006, 4.411739349365234, 5.145110607147217, 8.213747024536133, 5.215859413146973, 3.9230196475982666, 3.8358354568481445, 4.145061016082764, 4.057779788970947], \"xaxis\": \"x\", \"y\": [-1.1364257335662842, -1.1405065059661865, -0.7406098246574402, -1.2585461139678955, -1.407146692276001, -0.5174849033355713, -1.2943756580352783, -0.6803534030914307, -1.1803936958312988, -1.1323840618133545, -0.8605588674545288, -0.4518383741378784, -0.7388390302658081, -0.5971917510032654, -0.8255882859230042, -0.17521482706069946, -1.3688714504241943, -1.3425321578979492, -1.4384605884552002, 1.1864733695983887, 0.09887054562568665, 0.23147375881671906, -0.020513290539383888, -0.45403799414634705, -1.692859411239624, -0.12317182123661041, -1.9166499376296997, 0.6361042857170105, 1.1505811214447021, 1.0055729150772095, -0.31641554832458496, -1.3380178213119507, -1.7876508235931396, -0.05045771598815918, -0.340520441532135, -0.6642577052116394, -0.017352521419525146, 0.5989975333213806, 0.037169426679611206, -1.1945021152496338, -2.2964329719543457, 0.22029277682304382, 0.6960405111312866, 0.8952940702438354, -2.6703450679779053, -1.9283069372177124, -2.7954070568084717, -2.6961591243743896, -3.329817771911621, -2.8975164890289307, -3.1133651733398438, 0.08350831270217896, -2.545619487762451, 0.2555440664291382, -2.5677878856658936, -2.440122604370117, -1.004795789718628, -3.682478189468384, -1.9512547254562378, -2.096289873123169, -0.374613493680954, -3.1594393253326416, -1.6332257986068726, 0.17222744226455688, -2.5741024017333984, -1.5287600755691528, -0.16901640594005585, 1.4399152994155884, -1.9836540222167969, -1.300992488861084, -0.8284984827041626, -0.8012323975563049], \"yaxis\": \"y\"}],\n",
              "                        {\"height\": 600, \"legend\": {\"tracegroupgap\": 0}, \"template\": {\"data\": {\"bar\": [{\"error_x\": {\"color\": \"#2a3f5f\"}, \"error_y\": {\"color\": \"#2a3f5f\"}, \"marker\": {\"line\": {\"color\": \"#E5ECF6\", \"width\": 0.5}}, \"type\": \"bar\"}], \"barpolar\": [{\"marker\": {\"line\": {\"color\": \"#E5ECF6\", \"width\": 0.5}}, \"type\": \"barpolar\"}], \"carpet\": [{\"aaxis\": {\"endlinecolor\": \"#2a3f5f\", \"gridcolor\": \"white\", \"linecolor\": \"white\", \"minorgridcolor\": \"white\", \"startlinecolor\": \"#2a3f5f\"}, \"baxis\": {\"endlinecolor\": \"#2a3f5f\", \"gridcolor\": \"white\", \"linecolor\": \"white\", \"minorgridcolor\": \"white\", \"startlinecolor\": \"#2a3f5f\"}, \"type\": \"carpet\"}], \"choropleth\": [{\"colorbar\": {\"outlinewidth\": 0, \"ticks\": \"\"}, \"type\": \"choropleth\"}], \"contour\": [{\"colorbar\": {\"outlinewidth\": 0, \"ticks\": \"\"}, \"colorscale\": [[0.0, \"#0d0887\"], [0.1111111111111111, \"#46039f\"], [0.2222222222222222, \"#7201a8\"], [0.3333333333333333, \"#9c179e\"], [0.4444444444444444, \"#bd3786\"], [0.5555555555555556, \"#d8576b\"], [0.6666666666666666, \"#ed7953\"], [0.7777777777777778, \"#fb9f3a\"], [0.8888888888888888, \"#fdca26\"], [1.0, \"#f0f921\"]], \"type\": \"contour\"}], \"contourcarpet\": [{\"colorbar\": {\"outlinewidth\": 0, \"ticks\": \"\"}, \"type\": \"contourcarpet\"}], \"heatmap\": [{\"colorbar\": {\"outlinewidth\": 0, \"ticks\": \"\"}, \"colorscale\": [[0.0, \"#0d0887\"], [0.1111111111111111, \"#46039f\"], [0.2222222222222222, \"#7201a8\"], [0.3333333333333333, \"#9c179e\"], [0.4444444444444444, \"#bd3786\"], [0.5555555555555556, \"#d8576b\"], [0.6666666666666666, \"#ed7953\"], [0.7777777777777778, \"#fb9f3a\"], [0.8888888888888888, \"#fdca26\"], [1.0, \"#f0f921\"]], \"type\": \"heatmap\"}], \"heatmapgl\": [{\"colorbar\": {\"outlinewidth\": 0, \"ticks\": \"\"}, \"colorscale\": [[0.0, \"#0d0887\"], [0.1111111111111111, \"#46039f\"], [0.2222222222222222, \"#7201a8\"], [0.3333333333333333, \"#9c179e\"], [0.4444444444444444, \"#bd3786\"], [0.5555555555555556, \"#d8576b\"], [0.6666666666666666, \"#ed7953\"], [0.7777777777777778, \"#fb9f3a\"], [0.8888888888888888, \"#fdca26\"], [1.0, \"#f0f921\"]], \"type\": \"heatmapgl\"}], \"histogram\": [{\"marker\": {\"colorbar\": {\"outlinewidth\": 0, \"ticks\": \"\"}}, \"type\": \"histogram\"}], \"histogram2d\": [{\"colorbar\": {\"outlinewidth\": 0, \"ticks\": \"\"}, \"colorscale\": [[0.0, \"#0d0887\"], [0.1111111111111111, \"#46039f\"], [0.2222222222222222, \"#7201a8\"], [0.3333333333333333, \"#9c179e\"], [0.4444444444444444, \"#bd3786\"], [0.5555555555555556, \"#d8576b\"], [0.6666666666666666, \"#ed7953\"], [0.7777777777777778, \"#fb9f3a\"], [0.8888888888888888, \"#fdca26\"], [1.0, \"#f0f921\"]], \"type\": \"histogram2d\"}], \"histogram2dcontour\": [{\"colorbar\": {\"outlinewidth\": 0, \"ticks\": \"\"}, \"colorscale\": [[0.0, \"#0d0887\"], [0.1111111111111111, \"#46039f\"], [0.2222222222222222, \"#7201a8\"], [0.3333333333333333, \"#9c179e\"], [0.4444444444444444, \"#bd3786\"], [0.5555555555555556, \"#d8576b\"], [0.6666666666666666, \"#ed7953\"], [0.7777777777777778, \"#fb9f3a\"], [0.8888888888888888, \"#fdca26\"], [1.0, \"#f0f921\"]], \"type\": \"histogram2dcontour\"}], \"mesh3d\": [{\"colorbar\": {\"outlinewidth\": 0, \"ticks\": \"\"}, \"type\": \"mesh3d\"}], \"parcoords\": [{\"line\": {\"colorbar\": {\"outlinewidth\": 0, \"ticks\": \"\"}}, \"type\": \"parcoords\"}], \"pie\": [{\"automargin\": true, \"type\": \"pie\"}], \"scatter\": [{\"marker\": {\"colorbar\": {\"outlinewidth\": 0, \"ticks\": \"\"}}, \"type\": \"scatter\"}], \"scatter3d\": [{\"line\": {\"colorbar\": {\"outlinewidth\": 0, \"ticks\": \"\"}}, \"marker\": {\"colorbar\": {\"outlinewidth\": 0, \"ticks\": \"\"}}, \"type\": \"scatter3d\"}], \"scattercarpet\": [{\"marker\": {\"colorbar\": {\"outlinewidth\": 0, \"ticks\": \"\"}}, \"type\": \"scattercarpet\"}], \"scattergeo\": [{\"marker\": {\"colorbar\": {\"outlinewidth\": 0, \"ticks\": \"\"}}, \"type\": \"scattergeo\"}], \"scattergl\": [{\"marker\": {\"colorbar\": {\"outlinewidth\": 0, \"ticks\": \"\"}}, \"type\": \"scattergl\"}], \"scattermapbox\": [{\"marker\": {\"colorbar\": {\"outlinewidth\": 0, \"ticks\": \"\"}}, \"type\": \"scattermapbox\"}], \"scatterpolar\": [{\"marker\": {\"colorbar\": {\"outlinewidth\": 0, \"ticks\": \"\"}}, \"type\": \"scatterpolar\"}], \"scatterpolargl\": [{\"marker\": {\"colorbar\": {\"outlinewidth\": 0, \"ticks\": \"\"}}, \"type\": \"scatterpolargl\"}], \"scatterternary\": [{\"marker\": {\"colorbar\": {\"outlinewidth\": 0, \"ticks\": \"\"}}, \"type\": \"scatterternary\"}], \"surface\": [{\"colorbar\": {\"outlinewidth\": 0, \"ticks\": \"\"}, \"colorscale\": [[0.0, \"#0d0887\"], [0.1111111111111111, \"#46039f\"], [0.2222222222222222, \"#7201a8\"], [0.3333333333333333, \"#9c179e\"], [0.4444444444444444, \"#bd3786\"], [0.5555555555555556, \"#d8576b\"], [0.6666666666666666, \"#ed7953\"], [0.7777777777777778, \"#fb9f3a\"], [0.8888888888888888, \"#fdca26\"], [1.0, \"#f0f921\"]], \"type\": \"surface\"}], \"table\": [{\"cells\": {\"fill\": {\"color\": \"#EBF0F8\"}, \"line\": {\"color\": \"white\"}}, \"header\": {\"fill\": {\"color\": \"#C8D4E3\"}, \"line\": {\"color\": \"white\"}}, \"type\": \"table\"}]}, \"layout\": {\"annotationdefaults\": {\"arrowcolor\": \"#2a3f5f\", \"arrowhead\": 0, \"arrowwidth\": 1}, \"coloraxis\": {\"colorbar\": {\"outlinewidth\": 0, \"ticks\": \"\"}}, \"colorscale\": {\"diverging\": [[0, \"#8e0152\"], [0.1, \"#c51b7d\"], [0.2, \"#de77ae\"], [0.3, \"#f1b6da\"], [0.4, \"#fde0ef\"], [0.5, \"#f7f7f7\"], [0.6, \"#e6f5d0\"], [0.7, \"#b8e186\"], [0.8, \"#7fbc41\"], [0.9, \"#4d9221\"], [1, \"#276419\"]], \"sequential\": [[0.0, \"#0d0887\"], [0.1111111111111111, \"#46039f\"], [0.2222222222222222, \"#7201a8\"], [0.3333333333333333, \"#9c179e\"], [0.4444444444444444, \"#bd3786\"], [0.5555555555555556, \"#d8576b\"], [0.6666666666666666, \"#ed7953\"], [0.7777777777777778, \"#fb9f3a\"], [0.8888888888888888, \"#fdca26\"], [1.0, \"#f0f921\"]], \"sequentialminus\": [[0.0, \"#0d0887\"], [0.1111111111111111, \"#46039f\"], [0.2222222222222222, \"#7201a8\"], [0.3333333333333333, \"#9c179e\"], [0.4444444444444444, \"#bd3786\"], [0.5555555555555556, \"#d8576b\"], [0.6666666666666666, \"#ed7953\"], [0.7777777777777778, \"#fb9f3a\"], [0.8888888888888888, \"#fdca26\"], [1.0, \"#f0f921\"]]}, \"colorway\": [\"#636efa\", \"#EF553B\", \"#00cc96\", \"#ab63fa\", \"#FFA15A\", \"#19d3f3\", \"#FF6692\", \"#B6E880\", \"#FF97FF\", \"#FECB52\"], \"font\": {\"color\": \"#2a3f5f\"}, \"geo\": {\"bgcolor\": \"white\", \"lakecolor\": \"white\", \"landcolor\": \"#E5ECF6\", \"showlakes\": true, \"showland\": true, \"subunitcolor\": \"white\"}, \"hoverlabel\": {\"align\": \"left\"}, \"hovermode\": \"closest\", \"mapbox\": {\"style\": \"light\"}, \"paper_bgcolor\": \"white\", \"plot_bgcolor\": \"#E5ECF6\", \"polar\": {\"angularaxis\": {\"gridcolor\": \"white\", \"linecolor\": \"white\", \"ticks\": \"\"}, \"bgcolor\": \"#E5ECF6\", \"radialaxis\": {\"gridcolor\": \"white\", \"linecolor\": \"white\", \"ticks\": \"\"}}, \"scene\": {\"xaxis\": {\"backgroundcolor\": \"#E5ECF6\", \"gridcolor\": \"white\", \"gridwidth\": 2, \"linecolor\": \"white\", \"showbackground\": true, \"ticks\": \"\", \"zerolinecolor\": \"white\"}, \"yaxis\": {\"backgroundcolor\": \"#E5ECF6\", \"gridcolor\": \"white\", \"gridwidth\": 2, \"linecolor\": \"white\", \"showbackground\": true, \"ticks\": \"\", \"zerolinecolor\": \"white\"}, \"zaxis\": {\"backgroundcolor\": \"#E5ECF6\", \"gridcolor\": \"white\", \"gridwidth\": 2, \"linecolor\": \"white\", \"showbackground\": true, \"ticks\": \"\", \"zerolinecolor\": \"white\"}}, \"shapedefaults\": {\"line\": {\"color\": \"#2a3f5f\"}}, \"ternary\": {\"aaxis\": {\"gridcolor\": \"white\", \"linecolor\": \"white\", \"ticks\": \"\"}, \"baxis\": {\"gridcolor\": \"white\", \"linecolor\": \"white\", \"ticks\": \"\"}, \"bgcolor\": \"#E5ECF6\", \"caxis\": {\"gridcolor\": \"white\", \"linecolor\": \"white\", \"ticks\": \"\"}}, \"title\": {\"x\": 0.05}, \"xaxis\": {\"automargin\": true, \"gridcolor\": \"white\", \"linecolor\": \"white\", \"ticks\": \"\", \"title\": {\"standoff\": 15}, \"zerolinecolor\": \"white\", \"zerolinewidth\": 2}, \"yaxis\": {\"automargin\": true, \"gridcolor\": \"white\", \"linecolor\": \"white\", \"ticks\": \"\", \"title\": {\"standoff\": 15}, \"zerolinecolor\": \"white\", \"zerolinewidth\": 2}}}, \"title\": {\"text\": \"T-SNE applied to Chord Vectors for Tunes in Cmaj/Amin\"}, \"width\": 800, \"xaxis\": {\"anchor\": \"y\", \"domain\": [0.0, 1.0], \"title\": {\"text\": \"0\"}}, \"yaxis\": {\"anchor\": \"x\", \"domain\": [0.0, 1.0], \"title\": {\"text\": \"1\"}}},\n",
              "                        {\"responsive\": true}\n",
              "                    ).then(function(){\n",
              "                            \n",
              "var gd = document.getElementById('37796a3d-3d48-4c56-b5f7-4cf42f316c7f');\n",
              "var x = new MutationObserver(function (mutations, observer) {{\n",
              "        var display = window.getComputedStyle(gd).display;\n",
              "        if (!display || display === 'none') {{\n",
              "            console.log([gd, 'removed!']);\n",
              "            Plotly.purge(gd);\n",
              "            observer.disconnect();\n",
              "        }}\n",
              "}});\n",
              "\n",
              "// Listen for the removal of the full notebook cells\n",
              "var notebookContainer = gd.closest('#notebook-container');\n",
              "if (notebookContainer) {{\n",
              "    x.observe(notebookContainer, {childList: true});\n",
              "}}\n",
              "\n",
              "// Listen for the clearing of the current output cell\n",
              "var outputEl = gd.closest('.output');\n",
              "if (outputEl) {{\n",
              "    x.observe(outputEl, {childList: true});\n",
              "}}\n",
              "\n",
              "                        })\n",
              "                };\n",
              "                \n",
              "            </script>\n",
              "        </div>\n",
              "</body>\n",
              "</html>"
            ]
          },
          "metadata": {}
        }
      ]
    },
    {
      "cell_type": "markdown",
      "metadata": {
        "id": "ajqb904KDwNV"
      },
      "source": [
        "## Section Similarity\n"
      ]
    },
    {
      "cell_type": "markdown",
      "metadata": {
        "id": "HS_k1g6ujjKP"
      },
      "source": [
        "### Single Tunes"
      ]
    },
    {
      "cell_type": "code",
      "metadata": {
        "id": "mPnEPL_k4TZn"
      },
      "source": [
        "def get_section_scores_doc2vec(tunes, titleid_list=None):\n",
        "\n",
        "    df_sim = pd.DataFrame(columns=['reference_title',\n",
        "                                   #'reference_titleid',\n",
        "                                  'similar_title',\n",
        "                                  'ref_section', \n",
        "                                  'similar_section', \n",
        "                                  'score', \n",
        "                                  ])\n",
        "\n",
        "### get titleid from tunes, use enumerate\n",
        "\n",
        "    for tune in tunes:\n",
        "      print()\n",
        "      print(\"-\"*50)\n",
        "      for s1 in title_to_sectionid[tune]:\n",
        "      \n",
        "          # sections are tagged with the numeric sectionid and can be used for querying\n",
        "          sims = model.dv.similar_by_key(s1, topn=40)\n",
        "          \n",
        "          print(s1, sectionid_to_section[s1])\n",
        "          n = 0\n",
        "          for s2, s2_score in sims:\n",
        "              if type(s2) == int:  # only consider similarities to sectionids; tuneids are strings\n",
        "                  # don't count self-similarity between sections of the same tune\n",
        "                  if s2 not in title_to_sectionid[tune]:\n",
        "                      n += 1\n",
        "                  \n",
        "                      # print(f\"\\t{s2_score:.3f} {sectionid_to_section[s2]}\")\n",
        "\n",
        "                      df_sim.loc[len(df_sim)] = [tune,\n",
        "                                                 #titleid,\n",
        "                                      sectionid_to_title[s2],\n",
        "                                      sectionid_to_section[s1], \n",
        "                                      sectionid_to_section[s2], \n",
        "                                      s2_score, \n",
        "                                      ]\n",
        "    return df_sim"
      ],
      "execution_count": 92,
      "outputs": []
    },
    {
      "cell_type": "code",
      "metadata": {
        "colab": {
          "base_uri": "https://localhost:8080/"
        },
        "id": "i_d92il649O9",
        "outputId": "f84104e1-9a2b-4f6f-999a-f6b64b6cedb3"
      },
      "source": [
        "#tunes_list = list(tunes['title'].values())\n",
        "#titleid_list = list(tunes['title'].keys())\n",
        "\n",
        "tunes_list = tunes_eval_list\n",
        "\n",
        "# TODO ADD TITLEID as parameter, is optional but should not be\n",
        "df_sim = get_section_scores_doc2vec(tunes_list)\n",
        "\n",
        "result = None\n",
        "for tune in tunes:\n",
        "  tune_result, details = recommend_tune(df_sim, tune)\n",
        "  if result is None:\n",
        "    result = pd.DataFrame(columns=tune_result.columns)\n",
        "  result = result.append(tune_result)\n",
        "  \n",
        "df_word2vec = df_section_sim[:]"
      ],
      "execution_count": 114,
      "outputs": [
        {
          "output_type": "stream",
          "name": "stdout",
          "text": [
            "\n",
            "--------------------------------------------------\n",
            "125 After You've Gone, section1 (A)\n",
            "126 After You've Gone, section2 (B)\n",
            "127 After You've Gone, section3 (A)\n",
            "128 After You've Gone, section4 (C)\n",
            "\n",
            "--------------------------------------------------\n",
            "188 All God's Chillun Got Rhythm, section1 (A)\n",
            "189 All God's Chillun Got Rhythm, section2 (B)\n",
            "190 All God's Chillun Got Rhythm, section3 (A)\n",
            "191 All God's Chillun Got Rhythm, section4 (C)\n",
            "\n",
            "--------------------------------------------------\n",
            "198 All Of Me, section1 (A)\n",
            "199 All Of Me, section2 (B)\n",
            "200 All Of Me, section3 (A)\n",
            "201 All Of Me, section4 (C)\n",
            "\n",
            "--------------------------------------------------\n",
            "474 Blood Count, section1 (A)\n",
            "475 Blood Count, section2 (A)\n",
            "476 Blood Count, section3 (B)\n",
            "477 Blood Count, section4 (A)\n",
            "478 Blood Count, section5 (C)\n",
            "\n",
            "--------------------------------------------------\n",
            "496 Blue Moon, section1 (A)\n",
            "497 Blue Moon, section2 (A)\n",
            "498 Blue Moon, section3 (B)\n",
            "499 Blue Moon, section4 (A)\n",
            "\n",
            "--------------------------------------------------\n",
            "626 But Beautiful, section1 (A)\n",
            "627 But Beautiful, section2 (B)\n",
            "628 But Beautiful, section3 (A)\n",
            "629 But Beautiful, section4 (C)\n",
            "\n",
            "--------------------------------------------------\n",
            "653 Bye Bye Blackbird, section1 (A)\n",
            "654 Bye Bye Blackbird, section2 (B)\n",
            "\n",
            "--------------------------------------------------\n",
            "676 Call Me Irresponsible, section1 (A)\n",
            "677 Call Me Irresponsible, section2 (B)\n",
            "678 Call Me Irresponsible, section3 (A)\n",
            "679 Call Me Irresponsible, section4 (B)\n",
            "\n",
            "--------------------------------------------------\n",
            "826 Corcovado, section1 (A)\n",
            "827 Corcovado, section2 (B)\n",
            "828 Corcovado, section3 (A)\n",
            "829 Corcovado, section4 (C)\n",
            "\n",
            "--------------------------------------------------\n",
            "997 Dinah, section1 (A)\n",
            "998 Dinah, section2 (A)\n",
            "999 Dinah, section3 (B)\n",
            "1000 Dinah, section4 (A)\n",
            "\n",
            "--------------------------------------------------\n",
            "1125 East Of The Sun, section1 (A)\n",
            "1126 East Of The Sun, section2 (B)\n",
            "1127 East Of The Sun, section3 (A)\n",
            "1128 East Of The Sun, section4 (C)\n",
            "\n",
            "--------------------------------------------------\n",
            "1287 Footprints, section0 (nan)\n",
            "\n",
            "--------------------------------------------------\n",
            "1379 Giant Steps, section0 (nan)\n",
            "\n",
            "--------------------------------------------------\n",
            "1538 Honeysuckle Rose, section1 (A)\n",
            "1539 Honeysuckle Rose, section2 (A)\n",
            "1540 Honeysuckle Rose, section3 (B)\n",
            "1541 Honeysuckle Rose, section4 (A)\n",
            "\n",
            "--------------------------------------------------\n",
            "1647 I Got Rhythm, section1 (A)\n",
            "1648 I Got Rhythm, section2 (A)\n",
            "1649 I Got Rhythm, section3 (B)\n",
            "1650 I Got Rhythm, section4 (A)\n",
            "\n",
            "--------------------------------------------------\n",
            "2670 Misty, section1 (A)\n",
            "2671 Misty, section2 (A)\n",
            "2672 Misty, section3 (B)\n",
            "2673 Misty, section4 (A)\n",
            "\n",
            "--------------------------------------------------\n",
            "2857 Naima, section1 (A)\n",
            "2858 Naima, section2 (A)\n",
            "2859 Naima, section3 (B)\n",
            "2860 Naima, section4 (A)\n",
            "\n",
            "--------------------------------------------------\n",
            "5044 Old Fashioned Love, section0 (nan)\n",
            "\n",
            "--------------------------------------------------\n",
            "3142 Perdido, section1 (A)\n",
            "3143 Perdido, section2 (A)\n",
            "3144 Perdido, section3 (B)\n",
            "3145 Perdido, section4 (A)\n",
            "\n",
            "--------------------------------------------------\n",
            "3276 Rockin' Chair, section1 (A)\n",
            "3277 Rockin' Chair, section2 (B)\n",
            "3278 Rockin' Chair, section3 (A)\n",
            "\n",
            "--------------------------------------------------\n",
            "3578 Sophisticated Lady, section1 (A)\n",
            "3579 Sophisticated Lady, section2 (A)\n",
            "3580 Sophisticated Lady, section3 (B)\n",
            "3581 Sophisticated Lady, section4 (A)\n",
            "\n",
            "--------------------------------------------------\n",
            "3746 Sweet Sue, Just You, section1 (A)\n",
            "3747 Sweet Sue, Just You, section2 (A)\n",
            "3748 Sweet Sue, Just You, section3 (B)\n",
            "3749 Sweet Sue, Just You, section4 (A)\n",
            "\n",
            "--------------------------------------------------\n",
            "3860 These Foolish Things, section1 (A)\n",
            "3861 These Foolish Things, section2 (A)\n",
            "3862 These Foolish Things, section3 (B)\n",
            "3863 These Foolish Things, section4 (A)\n",
            "\n",
            "--------------------------------------------------\n",
            "4146 We'll Be Together Again, section1 (A)\n",
            "4147 We'll Be Together Again, section2 (A)\n",
            "4148 We'll Be Together Again, section3 (B)\n",
            "4149 We'll Be Together Again, section4 (A)\n"
          ]
        }
      ]
    },
    {
      "cell_type": "code",
      "metadata": {
        "id": "uNt-_pK9Cc-4",
        "colab": {
          "base_uri": "https://localhost:8080/",
          "height": 206
        },
        "outputId": "c5c82549-5c5b-4a0c-a195-867f41f891e0"
      },
      "source": [
        "result.head()"
      ],
      "execution_count": 115,
      "outputs": [
        {
          "output_type": "execute_result",
          "data": {
            "text/html": [
              "<div>\n",
              "<style scoped>\n",
              "    .dataframe tbody tr th:only-of-type {\n",
              "        vertical-align: middle;\n",
              "    }\n",
              "\n",
              "    .dataframe tbody tr th {\n",
              "        vertical-align: top;\n",
              "    }\n",
              "\n",
              "    .dataframe thead th {\n",
              "        text-align: right;\n",
              "    }\n",
              "</style>\n",
              "<table border=\"1\" class=\"dataframe\">\n",
              "  <thead>\n",
              "    <tr style=\"text-align: right;\">\n",
              "      <th></th>\n",
              "      <th>index</th>\n",
              "      <th>reference</th>\n",
              "      <th>similar_title</th>\n",
              "      <th>score</th>\n",
              "      <th>max</th>\n",
              "      <th>score_div_max</th>\n",
              "    </tr>\n",
              "  </thead>\n",
              "  <tbody>\n",
              "    <tr>\n",
              "      <th>0</th>\n",
              "      <td>0</td>\n",
              "      <td>After You've Gone [jazz1350]</td>\n",
              "      <td>East Of The Sun [jazz1350]</td>\n",
              "      <td>0.860400</td>\n",
              "      <td>0.860400</td>\n",
              "      <td>1.000000</td>\n",
              "    </tr>\n",
              "    <tr>\n",
              "      <th>1</th>\n",
              "      <td>1</td>\n",
              "      <td>After You've Gone [jazz1350]</td>\n",
              "      <td>Take The A Train [jazz1350]</td>\n",
              "      <td>0.932237</td>\n",
              "      <td>0.932237</td>\n",
              "      <td>1.000000</td>\n",
              "    </tr>\n",
              "    <tr>\n",
              "      <th>2</th>\n",
              "      <td>2</td>\n",
              "      <td>After You've Gone [jazz1350]</td>\n",
              "      <td>Worth The Wait [jazz1350]</td>\n",
              "      <td>0.775693</td>\n",
              "      <td>0.775693</td>\n",
              "      <td>1.000000</td>\n",
              "    </tr>\n",
              "    <tr>\n",
              "      <th>3</th>\n",
              "      <td>3</td>\n",
              "      <td>After You've Gone [jazz1350]</td>\n",
              "      <td>Make Someone Happy [jazz1350]</td>\n",
              "      <td>0.904286</td>\n",
              "      <td>0.904286</td>\n",
              "      <td>1.000000</td>\n",
              "    </tr>\n",
              "    <tr>\n",
              "      <th>4</th>\n",
              "      <td>4</td>\n",
              "      <td>After You've Gone [jazz1350]</td>\n",
              "      <td>Avalon [jazz1350]</td>\n",
              "      <td>0.859507</td>\n",
              "      <td>0.860400</td>\n",
              "      <td>0.998962</td>\n",
              "    </tr>\n",
              "  </tbody>\n",
              "</table>\n",
              "</div>"
            ],
            "text/plain": [
              "  index                     reference  ...       max  score_div_max\n",
              "0     0  After You've Gone [jazz1350]  ...  0.860400       1.000000\n",
              "1     1  After You've Gone [jazz1350]  ...  0.932237       1.000000\n",
              "2     2  After You've Gone [jazz1350]  ...  0.775693       1.000000\n",
              "3     3  After You've Gone [jazz1350]  ...  0.904286       1.000000\n",
              "4     4  After You've Gone [jazz1350]  ...  0.860400       0.998962\n",
              "\n",
              "[5 rows x 6 columns]"
            ]
          },
          "metadata": {},
          "execution_count": 115
        }
      ]
    },
    {
      "cell_type": "code",
      "metadata": {
        "colab": {
          "base_uri": "https://localhost:8080/",
          "height": 542
        },
        "id": "n4dv7VVe5NT4",
        "outputId": "898bbab1-9adf-4e78-8e09-ea5ae29cb870"
      },
      "source": [
        "import plotly.express as px\n",
        "fig = px.histogram(df_section_sim, x=\"score\", nbins=50, title='doc2vec sections')\n",
        "fig.show()"
      ],
      "execution_count": 96,
      "outputs": [
        {
          "output_type": "display_data",
          "data": {
            "text/html": [
              "<html>\n",
              "<head><meta charset=\"utf-8\" /></head>\n",
              "<body>\n",
              "    <div>\n",
              "            <script src=\"https://cdnjs.cloudflare.com/ajax/libs/mathjax/2.7.5/MathJax.js?config=TeX-AMS-MML_SVG\"></script><script type=\"text/javascript\">if (window.MathJax) {MathJax.Hub.Config({SVG: {font: \"STIX-Web\"}});}</script>\n",
              "                <script type=\"text/javascript\">window.PlotlyConfig = {MathJaxConfig: 'local'};</script>\n",
              "        <script src=\"https://cdn.plot.ly/plotly-latest.min.js\"></script>    \n",
              "            <div id=\"6f370258-6860-40fd-86da-24ccdce06856\" class=\"plotly-graph-div\" style=\"height:525px; width:100%;\"></div>\n",
              "            <script type=\"text/javascript\">\n",
              "                \n",
              "                    window.PLOTLYENV=window.PLOTLYENV || {};\n",
              "                    \n",
              "                if (document.getElementById(\"6f370258-6860-40fd-86da-24ccdce06856\")) {\n",
              "                    Plotly.newPlot(\n",
              "                        '6f370258-6860-40fd-86da-24ccdce06856',\n",
              "                        [{\"alignmentgroup\": \"True\", \"bingroup\": \"x\", \"hoverlabel\": {\"namelength\": 0}, \"hovertemplate\": \"score=%{x}<br>count=%{y}\", \"legendgroup\": \"\", \"marker\": {\"color\": \"#636efa\"}, \"name\": \"\", \"nbinsx\": 50, \"offsetgroup\": \"\", \"orientation\": \"v\", \"showlegend\": false, \"type\": \"histogram\", \"x\": [0.860399603843689, 0.8595069050788879, 0.8538409471511841, 0.8467850685119629, 0.846710205078125, 0.8440731167793274, 0.841626763343811, 0.8415136933326721, 0.8414329886436462, 0.8331393003463745, 0.8329520225524902, 0.8272272348403931, 0.8185576796531677, 0.8154506087303162, 0.81514972448349, 0.8113313317298889, 0.8075776100158691, 0.8022379875183105, 0.7991714477539062, 0.7972235083580017, 0.7952203750610352, 0.7943676710128784, 0.7915463447570801, 0.7902432680130005, 0.7879157662391663, 0.7878403067588806, 0.7871312499046326, 0.7807971239089966, 0.778765857219696, 0.932236909866333, 0.9111322164535522, 0.8546509146690369, 0.8540092706680298, 0.8488355875015259, 0.8476377129554749, 0.824619472026825, 0.8162478804588318, 0.8159720301628113, 0.8142206072807312, 0.8132257461547852, 0.8118634819984436, 0.8087797164916992, 0.8083289861679077, 0.8038184642791748, 0.8031269311904907, 0.8004607558250427, 0.8000898957252502, 0.7997674942016602, 0.7980540990829468, 0.7955796122550964, 0.7931440472602844, 0.7908392548561096, 0.7894657850265503, 0.7870466113090515, 0.7826593518257141, 0.7826355695724487, 0.7807877659797668, 0.7789056897163391, 0.7750109434127808, 0.7735927104949951, 0.9042860865592957, 0.8824998140335083, 0.8714466691017151, 0.8662564158439636, 0.8638484477996826, 0.8612194061279297, 0.8472079634666443, 0.8447994589805603, 0.8434304594993591, 0.8349343538284302, 0.8338564038276672, 0.8294455409049988, 0.8219582438468933, 0.8170800805091858, 0.8158089518547058, 0.8124379515647888, 0.8064950704574585, 0.8033034205436707, 0.8001308441162109, 0.799175500869751, 0.7968380451202393, 0.7955718636512756, 0.7756926417350769, 0.7653578519821167, 0.7469666600227356, 0.7356755137443542, 0.7134829163551331, 0.7092447876930237, 0.7018191814422607, 0.6994234919548035, 0.6822371482849121, 0.6652147173881531, 0.6592114567756653, 0.6495521664619446, 0.647543728351593, 0.6468091607093811, 0.6467427015304565, 0.6446102857589722, 0.6427916884422302, 0.6414929628372192, 0.641086220741272, 0.6400905847549438, 0.6370729804039001, 0.6346717476844788, 0.6340336203575134, 0.6314948797225952, 0.6304934024810791, 0.6304924488067627, 0.6294532418251038, 0.6273871064186096, 0.6267522573471069, 0.6260700821876526, 0.6252998113632202, 0.6244533658027649, 0.9074445962905884, 0.8890467882156372, 0.8710253238677979, 0.8679291605949402, 0.8623691201210022, 0.8617854118347168, 0.8549943566322327, 0.849927544593811, 0.8488782048225403, 0.845000147819519, 0.8448735475540161, 0.8357329368591309, 0.8356500267982483, 0.8318370580673218, 0.8224546909332275, 0.819028377532959, 0.8175967931747437, 0.8158575296401978, 0.8152965903282166, 0.8142919540405273, 0.8130791187286377, 0.8117370009422302, 0.8070428967475891, 0.8027790188789368, 0.8026553392410278, 0.8008076548576355, 0.8007508516311646, 0.8934476971626282, 0.8639292120933533, 0.8564170002937317, 0.8528401255607605, 0.8501594066619873, 0.8427229523658752, 0.8396235108375549, 0.8374293446540833, 0.8340773582458496, 0.8318880200386047, 0.8313378095626831, 0.8307898640632629, 0.8288653492927551, 0.826100766658783, 0.8248902559280396, 0.8248465061187744, 0.8238500952720642, 0.8206967115402222, 0.8201254606246948, 0.8167577385902405, 0.8144627809524536, 0.8143953084945679, 0.8142267465591431, 0.8138867616653442, 0.8042265176773071, 0.8037501573562622, 0.8011975288391113, 0.7983393669128418, 0.7973806858062744, 0.7973423600196838, 0.7970128655433655, 0.7968133687973022, 0.7955676317214966, 0.7942988872528076, 0.790243923664093, 0.7875439524650574, 0.7858130931854248, 0.9344145655632019, 0.9300448894500732, 0.9212806224822998, 0.9189378619194031, 0.9114888310432434, 0.9107775092124939, 0.9107595086097717, 0.9105750918388367, 0.9088157415390015, 0.9051317572593689, 0.9041056036949158, 0.9027596712112427, 0.9024902582168579, 0.9000250697135925, 0.8998953700065613, 0.8958109021186829, 0.8957695960998535, 0.8939347267150879, 0.8936552405357361, 0.8934813737869263, 0.8914045095443726, 0.8883809447288513, 0.8876439929008484, 0.8853826522827148, 0.885261595249176, 0.8825193643569946, 0.8792939782142639, 0.8787370324134827, 0.8785947561264038, 0.871751070022583, 0.868945300579071, 0.8682815432548523, 0.8659991025924683, 0.8655835390090942, 0.8643196225166321, 0.9148969054222107, 0.9132097959518433, 0.8898859620094299, 0.864054262638092, 0.8638073205947876, 0.8451545238494873, 0.8377041220664978, 0.833336591720581, 0.8310207724571228, 0.830976665019989, 0.8262369632720947, 0.8217410445213318, 0.8094956278800964, 0.8093035221099854, 0.8088768720626831, 0.8054792284965515, 0.8028624057769775, 0.798847496509552, 0.7983173727989197, 0.7964062094688416, 0.7942917943000793, 0.7882739901542664, 0.7878366708755493, 0.7877419590950012, 0.7866945862770081, 0.7854795455932617, 0.7847026586532593, 0.9206947684288025, 0.9038576483726501, 0.9033382534980774, 0.9002488255500793, 0.8998993635177612, 0.8980123400688171, 0.8970503807067871, 0.8938227295875549, 0.889699399471283, 0.8880990147590637, 0.8791624307632446, 0.8765227794647217, 0.8755614161491394, 0.8751443028450012, 0.8734694123268127, 0.8707459568977356, 0.8663479089736938, 0.8603808283805847, 0.8576367497444153, 0.8564674854278564, 0.8552135229110718, 0.8536683320999146, 0.8508780598640442, 0.8500329256057739, 0.8472253680229187, 0.8471891283988953, 0.8467124700546265, 0.8448495268821716, 0.8404686450958252, 0.8384882807731628, 0.8379202485084534, 0.8336926698684692, 0.8317663669586182, 0.8294495344161987, 0.9421209692955017, 0.9380443692207336, 0.9372347593307495, 0.9359858632087708, 0.9293979406356812, 0.9269004464149475, 0.9243483543395996, 0.9233097434043884, 0.9225321412086487, 0.9194939732551575, 0.9192661643028259, 0.916728675365448, 0.9053694009780884, 0.9038874506950378, 0.9018685221672058, 0.9009290933609009, 0.9000092148780823, 0.8975307941436768, 0.8972305655479431, 0.8948434591293335, 0.8944618105888367, 0.8928428292274475, 0.8882088661193848, 0.8876076936721802, 0.8847194910049438, 0.883444607257843, 0.8796109557151794, 0.8786744475364685, 0.877625048160553, 0.8762180805206299, 0.8752774000167847, 0.8682697415351868, 0.8652189373970032, 0.8619592189788818, 0.8614856004714966, 0.859794020652771, 0.9272280335426331, 0.8743575215339661, 0.8647938370704651, 0.8642422556877136, 0.8623204827308655, 0.8566418886184692, 0.8483590483665466, 0.8426308035850525, 0.8367434144020081, 0.8365476727485657, 0.8342844247817993, 0.8317286968231201, 0.8310126066207886, 0.8309860825538635, 0.8289849162101746, 0.8206298351287842, 0.8151532411575317, 0.8131899833679199, 0.8109009265899658, 0.8076938390731812, 0.8015437126159668, 0.7998127937316895, 0.7978761196136475, 0.7963995933532715, 0.7907898426055908, 0.7882046699523926, 0.7850064635276794, 0.7830028533935547, 0.9478500485420227, 0.9317793250083923, 0.9088245630264282, 0.8811262249946594, 0.8783656358718872, 0.8738621473312378, 0.8704179525375366, 0.8673366904258728, 0.866466760635376, 0.8654125928878784, 0.8628619909286499, 0.8622305989265442, 0.8611136674880981, 0.8607292175292969, 0.8569353818893433, 0.8564555048942566, 0.855198860168457, 0.8550873398780823, 0.853782057762146, 0.8533017635345459, 0.8498660922050476, 0.8469675779342651, 0.8458269834518433, 0.8454268574714661, 0.8444584012031555, 0.8417781591415405, 0.8389173746109009, 0.8378056883811951, 0.8354653120040894, 0.8351274728775024, 0.8347127437591553, 0.8342863917350769, 0.8324725031852722, 0.8316831588745117, 0.8308415412902832, 0.8397380113601685, 0.8345925211906433, 0.8147163987159729, 0.7784274220466614, 0.7751967310905457, 0.7718462944030762, 0.751222550868988, 0.7404245138168335, 0.7339049577713013, 0.7332450151443481, 0.7232707738876343, 0.7136601209640503, 0.712563693523407, 0.703713059425354, 0.6981611847877502, 0.6978444457054138, 0.6963860392570496, 0.6953228712081909, 0.6939986348152161, 0.6925687789916992, 0.689926028251648, 0.6877526640892029, 0.6791788935661316, 0.678669273853302, 0.675785481929779, 0.6693304777145386, 0.6619623303413391, 0.6615748405456543, 0.659695029258728, 0.6588671207427979, 0.6543020009994507, 0.6521905660629272, 0.8567408323287964, 0.8418734669685364, 0.8391861319541931, 0.8363389372825623, 0.8344564437866211, 0.8342902064323425, 0.834004282951355, 0.8151807188987732, 0.8142683506011963, 0.8061357140541077, 0.8048722147941589, 0.800767183303833, 0.800460696220398, 0.7963560819625854, 0.7936301231384277, 0.7932454943656921, 0.7865170240402222, 0.7793092131614685, 0.7781999111175537, 0.7750868797302246, 0.7712680101394653, 0.7702291011810303, 0.7682123780250549, 0.7672611474990845, 0.7633353471755981, 0.7621729373931885, 0.7580219507217407, 0.7855833172798157, 0.7837287783622742, 0.7818114757537842, 0.7391684651374817, 0.7262349128723145, 0.7253777384757996, 0.7224883437156677, 0.716702938079834, 0.7150382995605469, 0.7133491039276123, 0.7127922773361206, 0.7122604846954346, 0.7040975689888, 0.7031711339950562, 0.7026435732841492, 0.7021621465682983, 0.6998379826545715, 0.6969298720359802, 0.6962839961051941, 0.693103551864624, 0.6925966739654541, 0.6878778338432312, 0.6846295595169067, 0.6788576245307922, 0.677381694316864, 0.6769091486930847, 0.6764477491378784, 0.675603985786438, 0.6753343343734741, 0.6743165254592896, 0.6735712289810181, 0.6708128452301025, 0.6706066727638245, 0.8892700672149658, 0.8776542544364929, 0.8675447702407837, 0.864901065826416, 0.8547199368476868, 0.8533274531364441, 0.85181725025177, 0.8488970398902893, 0.8392806649208069, 0.8323559761047363, 0.8187687397003174, 0.81772381067276, 0.8150885105133057, 0.8150280714035034, 0.8131709098815918, 0.8101616501808167, 0.809210479259491, 0.8078620433807373, 0.8044759631156921, 0.8016182780265808, 0.7988802790641785, 0.7915534377098083, 0.7897940278053284, 0.7873508930206299, 0.7789968848228455, 0.7698651552200317, 0.7641474008560181, 0.7606583833694458, 0.7581505179405212, 0.7471586465835571, 0.7463998198509216, 0.6814931035041809, 0.6303859353065491, 0.6289586424827576, 0.6210833191871643, 0.6076158881187439, 0.5982995629310608, 0.5981541872024536, 0.5916516184806824, 0.5850908756256104, 0.579459547996521, 0.5688878297805786, 0.5620438456535339, 0.5597901940345764, 0.5597357153892517, 0.5575803518295288, 0.5569639205932617, 0.5542472004890442, 0.5505918860435486, 0.5471010804176331, 0.5442026853561401, 0.5434654951095581, 0.5426741242408752, 0.5420286059379578, 0.5412504076957703, 0.5397090315818787, 0.5366899967193604, 0.5353759527206421, 0.5350578427314758, 0.5319175124168396, 0.8691533207893372, 0.8488043546676636, 0.8244206309318542, 0.8227548003196716, 0.8031312227249146, 0.8030803799629211, 0.7997997403144836, 0.7944844961166382, 0.793705403804779, 0.7919452786445618, 0.783400297164917, 0.7720625996589661, 0.7692978978157043, 0.7679197788238525, 0.763754665851593, 0.7632519602775574, 0.7578080892562866, 0.7548563480377197, 0.7537726759910583, 0.7534633278846741, 0.7473129034042358, 0.7467476725578308, 0.7463968396186829, 0.7363399267196655, 0.7295014262199402, 0.725236177444458, 0.7245360016822815, 0.720959484577179, 0.7209504246711731, 0.7191996574401855, 0.719070315361023, 0.7187005877494812, 0.8880823850631714, 0.8747536540031433, 0.8739633560180664, 0.869629442691803, 0.8694661855697632, 0.8611282706260681, 0.8595662117004395, 0.8526480197906494, 0.8516519069671631, 0.8461116552352905, 0.8435890674591064, 0.8427144885063171, 0.8394633531570435, 0.8369267582893372, 0.8325394988059998, 0.8311998844146729, 0.8287109136581421, 0.8270871639251709, 0.8261429667472839, 0.8213513493537903, 0.820380687713623, 0.8174504637718201, 0.8173786997795105, 0.8160763382911682, 0.8157322406768799, 0.813720703125, 0.8131366968154907, 0.8131343126296997, 0.8121893405914307, 0.8089718222618103, 0.8078503608703613, 0.8074908256530762, 0.8708422183990479, 0.8691456317901611, 0.840854823589325, 0.7907020449638367, 0.780559241771698, 0.7576672434806824, 0.7440680861473083, 0.7374708652496338, 0.735867977142334, 0.7264963388442993, 0.7254436612129211, 0.7234577536582947, 0.7202897667884827, 0.7176743149757385, 0.716892421245575, 0.705518901348114, 0.7021481394767761, 0.6926913857460022, 0.6921562552452087, 0.6916502118110657, 0.6815583109855652, 0.68113774061203, 0.6796859502792358, 0.6789042353630066, 0.6763522624969482, 0.6725607514381409, 0.6672332286834717, 0.6667481660842896, 0.660060703754425, 0.6558537483215332, 0.6515702605247498, 0.6460980176925659, 0.641258716583252, 0.6360851526260376, 0.6340921521186829, 0.8711546659469604, 0.8569238185882568, 0.8348115682601929, 0.8305462002754211, 0.8272407054901123, 0.8133683800697327, 0.8027861714363098, 0.7903580069541931, 0.789824366569519, 0.7852849364280701, 0.7819969058036804, 0.7794249653816223, 0.7703096866607666, 0.7533751726150513, 0.7527974247932434, 0.748409628868103, 0.7474729418754578, 0.745109498500824, 0.7448896765708923, 0.7363936901092529, 0.7359112501144409, 0.7322638034820557, 0.7312305569648743, 0.7245246171951294, 0.720708429813385, 0.7202694416046143, 0.7194231152534485, 0.7186896800994873, 0.976125955581665, 0.9361103773117065, 0.9358991384506226, 0.9256412386894226, 0.9109255075454712, 0.9073394536972046, 0.9025174975395203, 0.9024922847747803, 0.9006661176681519, 0.8986951112747192, 0.897286593914032, 0.8953270316123962, 0.8817393183708191, 0.877946674823761, 0.877507746219635, 0.8766651749610901, 0.873757541179657, 0.8726180791854858, 0.8716112375259399, 0.8686867356300354, 0.8648110628128052, 0.8567215800285339, 0.855901300907135, 0.854192852973938, 0.8541545271873474, 0.8533916473388672, 0.8522334098815918, 0.8486692905426025, 0.8479551076889038, 0.847675621509552, 0.8470694422721863, 0.8066655397415161, 0.7902446389198303, 0.786074697971344, 0.7809022665023804, 0.7761055827140808, 0.7715538740158081, 0.7706328630447388, 0.7678101062774658, 0.7657264471054077, 0.7634915113449097, 0.7603937387466431, 0.7572410106658936, 0.7565240859985352, 0.75555819272995, 0.7492523193359375, 0.7484273910522461, 0.7460486888885498, 0.7401001453399658, 0.7364241480827332, 0.7355057001113892, 0.7345161437988281, 0.7342204451560974, 0.7292560935020447, 0.7276697158813477, 0.7275914549827576, 0.7268208265304565, 0.7262231707572937, 0.725892961025238, 0.7231132388114929, 0.7223886251449585, 0.7221313118934631, 0.720264196395874, 0.718821108341217, 0.7180913090705872, 0.717009961605072, 0.7168781161308289, 0.7164695858955383, 0.9739407896995544, 0.9375815391540527, 0.9221071600914001, 0.9060799479484558, 0.9056419134140015, 0.9047961831092834, 0.9041716456413269, 0.8966847062110901, 0.8949510455131531, 0.8913055658340454, 0.8902056813240051, 0.887461245059967, 0.886060357093811, 0.8824191689491272, 0.8816878199577332, 0.8751624226570129, 0.8747979402542114, 0.8734726309776306, 0.8724281191825867, 0.8671187162399292, 0.866949200630188, 0.8665465712547302, 0.8661975264549255, 0.8637881875038147, 0.8609208464622498, 0.8586247563362122, 0.8576660752296448, 0.8557515740394592, 0.8548845052719116, 0.8523657321929932, 0.845014750957489, 0.844333827495575, 0.797102689743042, 0.784707248210907, 0.7709848284721375, 0.7581154704093933, 0.7471609115600586, 0.7446547150611877, 0.7354534864425659, 0.7345606088638306, 0.7310167551040649, 0.7252243161201477, 0.721717119216919, 0.7143603563308716, 0.7126808762550354, 0.708538830280304, 0.707475483417511, 0.7074277400970459, 0.7071995139122009, 0.7064834833145142, 0.7063913941383362, 0.7034786343574524, 0.701202929019928, 0.70119309425354, 0.6900021433830261, 0.6880947351455688, 0.6864737868309021, 0.685147762298584, 0.6850631237030029, 0.6842173933982849, 0.6835763454437256, 0.6831753849983215, 0.6810922026634216, 0.6796630620956421, 0.6794401407241821, 0.6788048148155212, 0.6785770058631897, 0.9502995014190674, 0.9186976552009583, 0.9182537198066711, 0.9136627912521362, 0.9109565019607544, 0.9058660268783569, 0.902775764465332, 0.901867151260376, 0.8902325630187988, 0.887706995010376, 0.8876439929008484, 0.8835049271583557, 0.8816361427307129, 0.8805260062217712, 0.8804137706756592, 0.8795222640037537, 0.8763480186462402, 0.8744668364524841, 0.873991072177887, 0.873768150806427, 0.8720871210098267, 0.8704990148544312, 0.8694362044334412, 0.8680552244186401, 0.8670773506164551, 0.8664196133613586, 0.8649095296859741, 0.8648439645767212, 0.8631399869918823, 0.8616780638694763, 0.8612350821495056, 0.8611847758293152, 0.8606263399124146, 0.895516037940979, 0.8877644538879395, 0.8436126112937927, 0.8431586623191833, 0.8375213146209717, 0.8308647274971008, 0.8287730813026428, 0.8242097496986389, 0.8217820525169373, 0.8154492974281311, 0.8069496154785156, 0.8022478818893433, 0.7879102826118469, 0.7821516394615173, 0.777563750743866, 0.7772634625434875, 0.7739444971084595, 0.7734967470169067, 0.7728273868560791, 0.7665917873382568, 0.7656763195991516, 0.7644450068473816, 0.7633353471755981, 0.7585060596466064, 0.7557732462882996, 0.7547934055328369, 0.7534095644950867, 0.7532272338867188, 0.7524389028549194, 0.9505829811096191, 0.9461396336555481, 0.9427400231361389, 0.9399359822273254, 0.9372134208679199, 0.9355697631835938, 0.9342199563980103, 0.9333056211471558, 0.9331315755844116, 0.9296556711196899, 0.9247338771820068, 0.9207140207290649, 0.9180688858032227, 0.9172470569610596, 0.9130880832672119, 0.9109042286872864, 0.9060418605804443, 0.9014251232147217, 0.9007506370544434, 0.900516927242279, 0.8986350893974304, 0.8969257473945618, 0.8965822458267212, 0.8960920572280884, 0.8955556750297546, 0.8955021500587463, 0.8953468799591064, 0.8949870467185974, 0.8946261405944824, 0.892716646194458, 0.8915982246398926, 0.8913180828094482, 0.8902817964553833, 0.8869291543960571, 0.9353139400482178, 0.9238070249557495, 0.9088160991668701, 0.9073696732521057, 0.8937737941741943, 0.8908601999282837, 0.8902825713157654, 0.8862281441688538, 0.8675716519355774, 0.8643079400062561, 0.8617004156112671, 0.8512210249900818, 0.8508104681968689, 0.8506675958633423, 0.8506243228912354, 0.8482160568237305, 0.8470532894134521, 0.8450000286102295, 0.8449103832244873, 0.839249312877655, 0.8386450409889221, 0.837123692035675, 0.8332542181015015, 0.8331747055053711, 0.8287458419799805, 0.8268030881881714, 0.8261315226554871, 0.8259532451629639, 0.8235255479812622, 0.8213543891906738, 0.8213352560997009, 0.9291669130325317, 0.9122387170791626, 0.9087706208229065, 0.9079287648200989, 0.9015244245529175, 0.9012546539306641, 0.897419810295105, 0.8968886733055115, 0.8958843946456909, 0.8953409790992737, 0.8946282863616943, 0.8938778638839722, 0.893160879611969, 0.8927218914031982, 0.8925373554229736, 0.8921533823013306, 0.8909173607826233, 0.8872538805007935, 0.883141279220581, 0.8816991448402405, 0.878509521484375, 0.8771805763244629, 0.876120388507843, 0.8754422068595886, 0.8728107810020447, 0.8728084564208984, 0.8726087212562561, 0.8706750273704529, 0.8685624599456787, 0.8666703104972839, 0.8650997877120972, 0.8647940158843994, 0.8948301672935486, 0.8945532441139221, 0.8920592665672302, 0.8904556632041931, 0.8862725496292114, 0.8818427920341492, 0.8789563775062561, 0.8782064914703369, 0.8774999380111694, 0.873392641544342, 0.8710134029388428, 0.8672015070915222, 0.8526426553726196, 0.8524430990219116, 0.8488279581069946, 0.8474470973014832, 0.8464929461479187, 0.8417263031005859, 0.8414947390556335, 0.8405821919441223, 0.840508222579956, 0.8404290080070496, 0.8397169709205627, 0.8396155834197998, 0.8377019166946411, 0.8366644978523254, 0.835610568523407, 0.8344241976737976, 0.8335054516792297, 0.8312539458274841, 0.8302257657051086, 0.8301900625228882, 0.8295727968215942, 0.8283148407936096, 0.8241217732429504, 0.8788106441497803, 0.876375675201416, 0.8651196360588074, 0.8086429834365845, 0.8015986084938049, 0.7992696166038513, 0.7783934473991394, 0.7730792164802551, 0.7725864052772522, 0.7706899046897888, 0.764691948890686, 0.7596123218536377, 0.745051383972168, 0.7429267764091492, 0.7397847771644592, 0.7389656901359558, 0.738906741142273, 0.7367466688156128, 0.7365004420280457, 0.7326030135154724, 0.7305142283439636, 0.7303299903869629, 0.7195876836776733, 0.7164052128791809, 0.715415358543396, 0.7146539092063904, 0.7449909448623657, 0.6708011031150818, 0.6482439637184143, 0.6147874593734741, 0.6142522692680359, 0.5842424035072327, 0.5722630023956299, 0.5716996788978577, 0.568705677986145, 0.564443826675415, 0.5593922138214111, 0.5458434224128723, 0.5387101769447327, 0.5334849953651428, 0.5270600914955139, 0.5268402099609375, 0.5251971483230591, 0.5220646858215332, 0.519524335861206, 0.5121927261352539, 0.508615255355835, 0.5056707859039307, 0.49820810556411743, 0.4954533278942108, 0.49058234691619873, 0.48972374200820923, 0.48802104592323303, 0.487852543592453, 0.4867080748081207, 0.4824086129665375, 0.4804111421108246, 0.4685765504837036, 0.4644196927547455, 0.4614851176738739, 0.46080124378204346, 0.4605456590652466, 0.45947253704071045, 0.4549715220928192, 0.8957363367080688, 0.8487279415130615, 0.8170658349990845, 0.8082564473152161, 0.7900227904319763, 0.7881861329078674, 0.7863107323646545, 0.7848786115646362, 0.7749326229095459, 0.7704537510871887, 0.7682767510414124, 0.7658095359802246, 0.7637466788291931, 0.757676899433136, 0.7575297355651855, 0.7573130130767822, 0.7536086440086365, 0.7512644529342651, 0.7509855031967163, 0.7507157921791077, 0.7497299313545227, 0.7436379194259644, 0.7411617636680603, 0.7381599545478821, 0.7348856925964355, 0.7341561317443848, 0.7335144877433777, 0.7329593896865845, 0.7054693698883057, 0.6936121582984924, 0.6773756146430969, 0.6104393005371094, 0.601810097694397, 0.6003535985946655, 0.5972458124160767, 0.581479012966156, 0.5616817474365234, 0.5518084764480591, 0.54823237657547, 0.5476669669151306, 0.5446358323097229, 0.5432891845703125, 0.54179847240448, 0.5416133403778076, 0.5414555668830872, 0.5404229164123535, 0.5374484658241272, 0.5337241291999817, 0.5329387784004211, 0.532070517539978, 0.5315898656845093, 0.529609203338623, 0.5275810956954956, 0.5238187909126282, 0.5235101580619812, 0.5154369473457336, 0.5146511197090149, 0.5139673948287964, 0.512106716632843, 0.5104801058769226, 0.5090653896331787, 0.5082718729972839, 0.5068559050559998, 0.5060878992080688, 0.5060076713562012, 0.5056891441345215, 0.5051101446151733, 0.931449294090271, 0.9314266443252563, 0.9301787614822388, 0.9242959022521973, 0.9232008457183838, 0.9196506142616272, 0.917351245880127, 0.9102171063423157, 0.9085723161697388, 0.9049379825592041, 0.9041062593460083, 0.9036116600036621, 0.9035568237304688, 0.9030050039291382, 0.9022420048713684, 0.900993287563324, 0.9001637101173401, 0.9000022411346436, 0.8968886137008667, 0.895936906337738, 0.8955737352371216, 0.8938780426979065, 0.8937925696372986, 0.8936763405799866, 0.8935843706130981, 0.8931364417076111, 0.8924973607063293, 0.892471969127655, 0.8906968235969543, 0.8899205327033997, 0.889444887638092, 0.8877981901168823, 0.8873539566993713, 0.8847072124481201, 0.8822700381278992, 0.8819143772125244, 0.9356870055198669, 0.9137070775032043, 0.913686990737915, 0.9051333665847778, 0.8979393839836121, 0.8908864855766296, 0.8891765475273132, 0.8858159184455872, 0.8830233812332153, 0.8768984079360962, 0.872495710849762, 0.870202362537384, 0.8694726824760437, 0.8671801686286926, 0.8654576539993286, 0.8653650879859924, 0.8637388944625854, 0.8630882501602173, 0.8622910976409912, 0.861886203289032, 0.8615046739578247, 0.8595369458198547, 0.8590694665908813, 0.8561564683914185, 0.8559394478797913, 0.8538821339607239, 0.8522489070892334, 0.8516921997070312, 0.8500643372535706, 0.8492865562438965, 0.8461540937423706, 0.9596347212791443, 0.9433565735816956, 0.93549644947052, 0.9293978214263916, 0.926386833190918, 0.9237541556358337, 0.9230443239212036, 0.9224219918251038, 0.9134458303451538, 0.9115120768547058, 0.9091235995292664, 0.9079723358154297, 0.906197190284729, 0.9048097729682922, 0.9011247754096985, 0.8965194225311279, 0.8912983536720276, 0.8892468214035034, 0.8833544850349426, 0.8804643750190735, 0.8796342015266418, 0.8790478706359863, 0.8778799772262573, 0.8773852586746216, 0.8746709823608398, 0.8744657635688782, 0.8733075261116028, 0.8699308633804321, 0.8674840927124023, 0.8665860295295715, 0.8648476004600525, 0.8628928065299988, 0.86284339427948, 0.8602966070175171, 0.9411621689796448, 0.9300342202186584, 0.9133736491203308, 0.9066744446754456, 0.9032092690467834, 0.8982296586036682, 0.8921616077423096, 0.8906782865524292, 0.8880242109298706, 0.8822779655456543, 0.8770989179611206, 0.8765887022018433, 0.8764522671699524, 0.876325786113739, 0.8762876391410828, 0.8761787414550781, 0.8759569525718689, 0.8757258057594299, 0.8754832148551941, 0.874897837638855, 0.8745105266571045, 0.8735169768333435, 0.8729375004768372, 0.8701226115226746, 0.8685922026634216, 0.8670240640640259, 0.8669025301933289, 0.8666713833808899, 0.865946888923645, 0.8655998110771179, 0.9349825382232666, 0.9247837662696838, 0.9045246839523315, 0.898215115070343, 0.8938712477684021, 0.8926506638526917, 0.8924314379692078, 0.889232337474823, 0.8820744752883911, 0.8764268159866333, 0.8736149072647095, 0.8699440360069275, 0.866847813129425, 0.8656306266784668, 0.8576523065567017, 0.8556897044181824, 0.8498514890670776, 0.8483189940452576, 0.845577597618103, 0.8331393003463745, 0.8308011889457703, 0.8298718929290771, 0.8290002346038818, 0.8223037123680115, 0.8185299038887024, 0.8179357647895813, 0.816353976726532, 0.814649224281311, 0.8126206398010254, 0.8118881583213806, 0.8096195459365845, 0.8082866072654724, 0.8077230453491211, 0.9681174755096436, 0.960939884185791, 0.9580889344215393, 0.9545135498046875, 0.9463325142860413, 0.9460001587867737, 0.9439644813537598, 0.9429050087928772, 0.9406031966209412, 0.9399133920669556, 0.9391692280769348, 0.9360600113868713, 0.9356125593185425, 0.9328835606575012, 0.9326168298721313, 0.9310240149497986, 0.9305238127708435, 0.9304161071777344, 0.9289926290512085, 0.9285179376602173, 0.9274703860282898, 0.9267929196357727, 0.9263631701469421, 0.9259504675865173, 0.9247661828994751, 0.9240902066230774, 0.9228025078773499, 0.9197542071342468, 0.9196972250938416, 0.9189361929893494, 0.9188533425331116, 0.9168159365653992, 0.9157634377479553, 0.914946436882019, 0.9022053480148315, 0.8836418986320496, 0.8794541358947754, 0.8749226331710815, 0.8722461462020874, 0.866550087928772, 0.8642033338546753, 0.8636219501495361, 0.8625818490982056, 0.8615573644638062, 0.860399603843689, 0.8477553129196167, 0.8409771919250488, 0.8286967277526855, 0.8258434534072876, 0.8252213597297668, 0.8189547061920166, 0.810919463634491, 0.8108680248260498, 0.8082810640335083, 0.8022560477256775, 0.7980454564094543, 0.797958254814148, 0.7956237196922302, 0.7944303750991821, 0.7939581274986267, 0.7937496900558472, 0.792793869972229, 0.7894389629364014, 0.7874528765678406, 0.7836734056472778, 0.7809268236160278, 0.7808111310005188, 0.7799593210220337, 0.7778843641281128, 0.7766280770301819, 0.8723136186599731, 0.8447979092597961, 0.8238127827644348, 0.8182491660118103, 0.8152907490730286, 0.8077554702758789, 0.8053650259971619, 0.800483226776123, 0.7979764938354492, 0.7842990756034851, 0.781541645526886, 0.7750141620635986, 0.7584516406059265, 0.7336933612823486, 0.7319618463516235, 0.7291162014007568, 0.7247089147567749, 0.7141582369804382, 0.7089876532554626, 0.7078951001167297, 0.706667423248291, 0.7036539912223816, 0.7019055485725403, 0.695592999458313, 0.8953779935836792, 0.8945737481117249, 0.8861569762229919, 0.885542631149292, 0.884900689125061, 0.8846139907836914, 0.8831796646118164, 0.8829832673072815, 0.8783081769943237, 0.8778010010719299, 0.8772780299186707, 0.8733162879943848, 0.8726718425750732, 0.8557924628257751, 0.8547906279563904, 0.8543241024017334, 0.8506940007209778, 0.8473577499389648, 0.8472899198532104, 0.8471101522445679, 0.845203697681427, 0.8418802618980408, 0.8415393829345703, 0.8389717936515808, 0.8362252116203308, 0.8300444483757019, 0.8290567994117737, 0.8282021880149841, 0.8565796613693237, 0.8484662175178528, 0.8222835659980774, 0.7976183295249939, 0.7951420545578003, 0.7899135947227478, 0.7889282703399658, 0.7521046996116638, 0.7503066658973694, 0.7494260668754578, 0.7475214004516602, 0.7401275634765625, 0.734038770198822, 0.7316493988037109, 0.73122638463974, 0.7247809171676636, 0.7195274829864502, 0.7114366292953491, 0.7100872993469238, 0.7086628675460815, 0.7081245183944702, 0.7078030705451965, 0.7059727311134338, 0.7050821185112, 0.7006166577339172, 0.6979000568389893, 0.6977167725563049, 0.6911228895187378, 0.691002607345581, 0.9169869422912598, 0.9132623672485352, 0.8942903876304626, 0.8909091949462891, 0.8773210644721985, 0.8768119215965271, 0.8704739212989807, 0.8685767650604248, 0.8676310777664185, 0.8657780885696411, 0.8657689094543457, 0.8633216023445129, 0.8541786670684814, 0.8496217131614685, 0.8489898443222046, 0.8475539684295654, 0.847270667552948, 0.8400469422340393, 0.8389196991920471, 0.838184118270874, 0.836670458316803, 0.8342609405517578, 0.8295084238052368, 0.8281837701797485, 0.8268694281578064, 0.8236168622970581, 0.8195106387138367, 0.8191124200820923, 0.8187607526779175, 0.817772388458252, 0.8152351975440979, 0.814417839050293, 0.8139327168464661, 0.813812792301178, 0.812979519367218, 0.8099241256713867, 0.8050515651702881, 0.8027414679527283, 0.9299544095993042, 0.9124654531478882, 0.9066743850708008, 0.8891632556915283, 0.8877949118614197, 0.8846421837806702, 0.8841259479522705, 0.8785499334335327, 0.8755723834037781, 0.8744092583656311, 0.8740447163581848, 0.872263491153717, 0.8620694279670715, 0.8530992865562439, 0.8506218194961548, 0.8504616022109985, 0.8475854396820068, 0.8473600745201111, 0.8461937308311462, 0.8441799283027649, 0.8430027961730957, 0.8419659733772278, 0.8404395580291748, 0.8393033742904663, 0.8387731909751892, 0.8375263810157776, 0.8359527587890625, 0.9767531156539917, 0.9734451174736023, 0.9724513292312622, 0.9710464477539062, 0.9633713960647583, 0.9608622193336487, 0.9608486890792847, 0.9595478773117065, 0.9554954171180725, 0.9498476982116699, 0.9323253631591797, 0.9302462339401245, 0.9295279383659363, 0.9285992383956909, 0.9270807504653931, 0.9118735790252686, 0.895972490310669, 0.8920304775238037, 0.8892521262168884, 0.8853902816772461, 0.8847437500953674, 0.883530855178833, 0.8803915977478027, 0.8791487812995911, 0.8774937987327576, 0.8746724128723145, 0.8744149208068848, 0.8723462820053101, 0.869633674621582, 0.8681474328041077, 0.8675754070281982, 0.8667950630187988, 0.8666227459907532, 0.8664622902870178, 0.8663486838340759, 0.8661583065986633, 0.8655928373336792, 0.8610532879829407, 0.8598560690879822, 0.8594774007797241, 0.895667314529419, 0.876586377620697, 0.8661995530128479, 0.8542599678039551, 0.8515490293502808, 0.8484477996826172, 0.8463453054428101, 0.8331254720687866, 0.8263660073280334, 0.8255458474159241, 0.8243737816810608, 0.824152946472168, 0.8237771391868591, 0.8234500288963318, 0.8177081942558289, 0.8168167471885681, 0.815455436706543, 0.8111106157302856, 0.8108425140380859, 0.8058140873908997, 0.8024870753288269, 0.8021696209907532, 0.8018999695777893, 0.7985421419143677, 0.796532392501831, 0.9152830839157104, 0.8829940557479858, 0.8499016165733337, 0.8372090458869934, 0.8339614868164062, 0.8307229280471802, 0.8294296860694885, 0.8290609121322632, 0.8212258219718933, 0.819527268409729, 0.8187620043754578, 0.816605269908905, 0.8163704872131348, 0.8155167698860168, 0.8142913579940796, 0.8140563368797302, 0.8136278390884399, 0.8116230964660645, 0.811507523059845, 0.8076366782188416, 0.8068791031837463, 0.8040794730186462, 0.8014289736747742, 0.7990700006484985, 0.7969843745231628, 0.796751081943512, 0.7955948114395142, 0.9406635761260986, 0.9232293367385864, 0.9196798801422119, 0.9118648767471313, 0.8982023000717163, 0.8733459115028381, 0.8700553774833679, 0.8651793003082275, 0.8619366884231567, 0.8601705431938171, 0.8569053411483765, 0.8471795916557312, 0.8455536961555481, 0.8436472415924072, 0.8407931923866272, 0.8396532535552979, 0.8379849791526794, 0.8366092443466187, 0.8351703882217407, 0.832306444644928, 0.8284218311309814, 0.8267205953598022, 0.8242331147193909, 0.822746992111206, 0.8211117386817932, 0.816947340965271, 0.8162208795547485, 0.8130680322647095, 0.8122237920761108, 0.975972056388855, 0.9688317179679871, 0.9566352367401123, 0.9509968161582947, 0.9428896307945251, 0.9410805106163025, 0.9397302269935608, 0.9324901700019836, 0.9323900938034058, 0.9239249229431152, 0.9234818816184998, 0.9187384247779846, 0.9161158204078674, 0.9160833954811096, 0.9084267020225525, 0.9055256247520447, 0.9003622531890869, 0.8990238904953003, 0.8976106643676758, 0.8961798548698425, 0.8947728276252747, 0.894553005695343, 0.8892689347267151, 0.8854150772094727, 0.8832730054855347, 0.8779022693634033, 0.8696595430374146, 0.8665311932563782, 0.8638895153999329, 0.861544132232666, 0.8609815239906311, 0.8450639247894287, 0.8422049880027771, 0.8337980508804321, 0.824916422367096, 0.817151665687561, 0.8800364136695862, 0.8710639476776123, 0.8580541610717773, 0.8531948328018188, 0.8440629839897156, 0.842292308807373, 0.8412234783172607, 0.8389467597007751, 0.8366206288337708, 0.8311307430267334, 0.8295597434043884, 0.8255624175071716, 0.8254523277282715, 0.8223348259925842, 0.8206637501716614, 0.8198736310005188, 0.8169530034065247, 0.8118014931678772, 0.808916449546814, 0.8084027171134949, 0.8078715205192566, 0.807807445526123, 0.8061043620109558, 0.8025658130645752, 0.8006513714790344, 0.7986686825752258, 0.7985420823097229, 0.7975946664810181, 0.7962518334388733, 0.7949052453041077, 0.7913272380828857, 0.791045606136322, 0.886521577835083, 0.8853701949119568, 0.878944456577301, 0.8689835071563721, 0.859494686126709, 0.856894314289093, 0.8472548723220825, 0.8454143404960632, 0.8347859382629395, 0.8343043923377991, 0.8322893977165222, 0.8319275379180908, 0.8190317749977112, 0.8176838159561157, 0.8166128396987915, 0.8139427304267883, 0.8135070204734802, 0.8133506774902344, 0.8121722340583801, 0.8120914101600647, 0.8030440211296082, 0.8024590611457825, 0.8004029989242554, 0.7990537285804749, 0.7968970537185669, 0.7955051064491272, 0.7940257787704468, 0.7926434278488159, 0.7924401164054871, 0.9213488698005676, 0.8961855173110962, 0.8958566188812256, 0.8845208287239075, 0.8828626871109009, 0.8588988184928894, 0.8572635054588318, 0.8526155948638916, 0.8495641350746155, 0.8493533730506897, 0.845971941947937, 0.841787576675415, 0.8389390110969543, 0.8386750817298889, 0.8332130312919617, 0.8315576910972595, 0.8307965397834778, 0.8258680105209351, 0.8246397376060486, 0.8241538405418396, 0.8237452507019043, 0.8234738111495972, 0.8231707215309143, 0.8224053382873535, 0.822401225566864, 0.8215529918670654, 0.8191452026367188, 0.818838894367218, 0.8185428380966187, 0.8174918293952942, 0.8061658143997192, 0.7971174716949463, 0.7786964774131775, 0.7633628845214844, 0.759575366973877, 0.7487443685531616, 0.7479788661003113, 0.7464271187782288, 0.7435274124145508, 0.7304536700248718, 0.7180923819541931, 0.7157791256904602, 0.712429404258728, 0.7106973528862, 0.7087010741233826, 0.7083032131195068, 0.7059973478317261, 0.6999055743217468, 0.6982244849205017, 0.697240948677063, 0.6931471228599548, 0.6867237091064453, 0.6842665076255798, 0.6839845776557922, 0.6818025708198547, 0.6796651482582092, 0.6788203120231628, 0.6770932078361511, 0.67612224817276, 0.675078809261322, 0.6750541925430298, 0.6727856397628784, 0.8929005265235901, 0.8916335701942444, 0.8897665143013, 0.8846262097358704, 0.8836000561714172, 0.8787602186203003, 0.8753523826599121, 0.8680087924003601, 0.8591736555099487, 0.8519800305366516, 0.8489009141921997, 0.8486974239349365, 0.847055196762085, 0.8428421020507812, 0.8391874432563782, 0.8371015191078186, 0.8352339863777161, 0.8294764757156372, 0.8271085619926453, 0.8266037106513977, 0.8251631855964661, 0.8241338133811951, 0.8237783908843994, 0.8218030333518982, 0.8212506175041199, 0.8207868337631226, 0.8204666376113892, 0.8181236386299133, 0.815716028213501, 0.8135592341423035, 0.8130650520324707, 0.8130505681037903, 0.8128686547279358, 0.8110952973365784, 0.9172550439834595, 0.8759294152259827, 0.8441073298454285, 0.8392806649208069, 0.8310014009475708, 0.7951094508171082, 0.7932174801826477, 0.7923292517662048, 0.7892951369285583, 0.7867161631584167, 0.7804102301597595, 0.7791888117790222, 0.7769777178764343, 0.7756209969520569, 0.7745985388755798, 0.7723616361618042, 0.7713842988014221, 0.7675458192825317, 0.7668712139129639, 0.7642882466316223, 0.7592146396636963, 0.7581168413162231, 0.7526378035545349, 0.7449679374694824, 0.7446780800819397, 0.7442663311958313, 0.7416229844093323, 0.7370339035987854, 0.7365692853927612, 0.7342487573623657, 0.7275979518890381, 0.8963674306869507, 0.851096510887146, 0.8281795978546143, 0.8219653367996216, 0.8179129958152771, 0.81772381067276, 0.8148692846298218, 0.8118979930877686, 0.8077018857002258, 0.7982292175292969, 0.7959312200546265, 0.7945270538330078, 0.7940016984939575, 0.7865176200866699, 0.7797237634658813, 0.7747092247009277, 0.770953357219696, 0.7686537504196167, 0.7650344967842102, 0.7604626417160034, 0.756248414516449, 0.7546704411506653, 0.7544527649879456, 0.7534636855125427, 0.7522805333137512, 0.7520714998245239, 0.7454590797424316, 0.7432714104652405, 0.7406270503997803, 0.7404772639274597, 0.8763729333877563, 0.8526600003242493, 0.8467645645141602, 0.8304948210716248, 0.8286893367767334, 0.8178213834762573, 0.8113666772842407, 0.8105531930923462, 0.7964759469032288, 0.791127622127533, 0.7714051008224487, 0.7680932879447937, 0.7576672434806824, 0.756009578704834, 0.7545360922813416, 0.7512924075126648, 0.7477496862411499, 0.7432399392127991, 0.7432230114936829, 0.7408974766731262, 0.7366355061531067, 0.7362088561058044, 0.7313355803489685, 0.7267898321151733, 0.7253844738006592, 0.7245683073997498, 0.7241491675376892, 0.723586916923523, 0.7130868434906006, 0.7127913236618042, 0.7113240957260132, 0.7086669206619263, 0.7079682946205139, 0.7005624771118164, 0.694150984287262, 0.6928465962409973, 0.8180487155914307, 0.812030017375946, 0.8061220049858093, 0.798880398273468, 0.7817969918251038, 0.7669504880905151, 0.7523627281188965, 0.747833251953125, 0.742017388343811, 0.7410186529159546, 0.7331615686416626, 0.7269465327262878, 0.7240383625030518, 0.7189602851867676, 0.7177302241325378, 0.713772714138031, 0.7098448872566223, 0.7077556848526001, 0.7060449719429016, 0.7039279937744141, 0.7022279500961304, 0.7015810608863831, 0.699988603591919, 0.6939089298248291, 0.6904531717300415, 0.6830644607543945, 0.6817277669906616, 0.6801642179489136, 0.677980899810791, 0.6763098835945129, 0.6759020090103149, 0.9335595965385437, 0.9280421137809753, 0.9264898300170898, 0.9235286712646484, 0.9200098514556885, 0.9178394675254822, 0.9161131381988525, 0.9096730947494507, 0.9080582857131958, 0.8994327783584595, 0.8918620347976685, 0.8904162049293518, 0.8898240327835083, 0.884722113609314, 0.8787522912025452, 0.8772158622741699, 0.8758513331413269, 0.8745124936103821, 0.8712666630744934, 0.8672189712524414, 0.8660993576049805, 0.8660881519317627, 0.8621149063110352, 0.8615742325782776, 0.8589295148849487, 0.8581010103225708, 0.9549785852432251, 0.9502583146095276, 0.9479330778121948, 0.9448532462120056, 0.9337619543075562, 0.9326838850975037, 0.9281050562858582, 0.924089789390564, 0.9204067587852478, 0.9197287559509277, 0.9158887267112732, 0.9128983020782471, 0.9121350646018982, 0.9082233309745789, 0.9076951146125793, 0.9065608382225037, 0.9052202105522156, 0.9043644666671753, 0.9030417799949646, 0.8985923528671265, 0.898171067237854, 0.8940327167510986, 0.891751766204834, 0.8875499963760376, 0.8874052166938782, 0.885712742805481, 0.8855212926864624, 0.8837012648582458, 0.8823140263557434, 0.8805763125419617, 0.8804942965507507, 0.8793967962265015, 0.8791334629058838, 0.8786059617996216, 0.9460856318473816, 0.9324250817298889, 0.9282040596008301, 0.9237060546875, 0.9214485287666321, 0.913332462310791, 0.9132080078125, 0.9115163087844849, 0.9052625894546509, 0.9016175866127014, 0.9006120562553406, 0.899390697479248, 0.8941611051559448, 0.8924279808998108, 0.8903559446334839, 0.8896916508674622, 0.8859055042266846, 0.8849727511405945, 0.8815293908119202, 0.8809338212013245, 0.8798967003822327, 0.8796601891517639, 0.8796240091323853, 0.879403293132782, 0.8770442605018616, 0.8734831213951111, 0.8708129525184631, 0.870115339756012, 0.869231641292572, 0.8682723641395569, 0.8668826818466187, 0.948965311050415, 0.9400902390480042, 0.9397302269935608, 0.9373316764831543, 0.9259715676307678, 0.9227287173271179, 0.9220260977745056, 0.9203863143920898, 0.9165104031562805, 0.9120248556137085, 0.9108287692070007, 0.9049298763275146, 0.9037798047065735, 0.9018449783325195, 0.8995116949081421, 0.898797333240509, 0.8983159065246582, 0.8909710645675659, 0.8905050158500671, 0.8888915777206421, 0.8881319165229797, 0.8805304765701294, 0.8789443969726562, 0.8789327144622803, 0.8737518191337585, 0.8725170493125916, 0.8704851865768433, 0.8683760762214661, 0.8633819818496704, 0.8631612658500671, 0.8609620928764343, 0.8565933108329773, 0.9441655874252319, 0.936947226524353, 0.9349685311317444, 0.9211163520812988, 0.9207876324653625, 0.9173285961151123, 0.91688472032547, 0.9127347469329834, 0.9126860499382019, 0.9102671146392822, 0.9050214886665344, 0.9028855562210083, 0.9027470946311951, 0.9004302620887756, 0.8967568874359131, 0.8935421109199524, 0.8914336562156677, 0.884841799736023, 0.8830092549324036, 0.8818373084068298, 0.8793837428092957, 0.8774181008338928, 0.8751529455184937, 0.8693425059318542, 0.8680524826049805, 0.8637159466743469, 0.8633825182914734, 0.8613477945327759, 0.859642744064331, 0.8591454029083252, 0.8571082353591919, 0.8545518517494202, 0.854473352432251, 0.854223370552063, 0.853020966053009, 0.8499051928520203, 0.8171576857566833, 0.816088855266571, 0.8028127551078796, 0.8014559745788574, 0.7994184494018555, 0.7908055782318115, 0.7854791879653931, 0.7834553122520447, 0.7792927622795105, 0.7695228457450867, 0.7551522254943848, 0.7526071071624756, 0.7431172728538513, 0.7426395416259766, 0.7424084544181824, 0.7276356220245361, 0.7273421287536621, 0.725619912147522, 0.725271999835968, 0.723865807056427, 0.7233798503875732, 0.7216119170188904, 0.719825029373169, 0.718991756439209, 0.7189247012138367, 0.9478356838226318, 0.9471951127052307, 0.913715124130249, 0.8817723989486694, 0.8633576035499573, 0.8377752304077148, 0.8314842581748962, 0.8313320279121399, 0.8188326954841614, 0.8101125359535217, 0.8088565468788147, 0.8087709546089172, 0.8034272193908691, 0.8033981919288635, 0.797386646270752, 0.7896298766136169, 0.7875154614448547, 0.7853538990020752, 0.7831416130065918, 0.7689375281333923, 0.7658196091651917, 0.7652699947357178, 0.7539914846420288, 0.750153660774231, 0.7471618056297302, 0.743026077747345, 0.7427278161048889, 0.7347441911697388, 0.7310354709625244, 0.924182653427124, 0.9213607311248779, 0.9042109847068787, 0.8916683793067932, 0.8911089301109314, 0.8907767534255981, 0.8897664546966553, 0.888466477394104, 0.881068229675293, 0.8801442980766296, 0.8783453106880188, 0.8779560327529907, 0.8754952549934387, 0.8699193000793457, 0.8666371703147888, 0.859785258769989, 0.8578293919563293, 0.8550916314125061, 0.8509390950202942, 0.8445812463760376, 0.8430802822113037, 0.8404431939125061, 0.8367587327957153, 0.8365727663040161, 0.8359344601631165, 0.8333638906478882, 0.8331603407859802, 0.8296253085136414, 0.8279769420623779, 0.8279340863227844, 0.8249409794807434, 0.8196243643760681, 0.8183031678199768, 0.8175155520439148, 0.8164427876472473, 0.8587726950645447, 0.8287731409072876, 0.821925699710846, 0.7996329665184021, 0.7986417412757874, 0.7946867346763611, 0.7883240580558777, 0.7846153974533081, 0.7724270820617676, 0.7700254917144775, 0.7672810554504395, 0.7654158473014832, 0.7636634707450867, 0.7614471912384033, 0.757572591304779, 0.7571600675582886, 0.753567636013031, 0.7505694627761841, 0.7476939558982849, 0.747654914855957, 0.743120014667511, 0.7412992715835571, 0.7386054396629333, 0.7360482215881348, 0.7348000407218933, 0.7332360148429871, 0.7309562563896179, 0.7285173535346985, 0.7272737622261047, 0.7791351675987244, 0.7476925849914551, 0.7413604855537415, 0.7361775040626526, 0.7353445291519165, 0.7328231334686279, 0.7310048341751099, 0.7197167873382568, 0.6988657712936401, 0.6965656876564026, 0.6866466999053955, 0.6864396929740906, 0.6767164468765259, 0.6753970980644226, 0.674589216709137, 0.6735036969184875, 0.6726943850517273, 0.6704590320587158, 0.669350266456604, 0.6688405871391296, 0.6681984066963196, 0.6669169068336487, 0.6647802591323853, 0.6646902561187744, 0.6639471650123596, 0.663306474685669, 0.6620625853538513, 0.6616476774215698, 0.6597764492034912, 0.6575614213943481, 0.6564351916313171, 0.6529809236526489, 0.7797974944114685, 0.7734460234642029, 0.7551757097244263, 0.7500360012054443, 0.7455755472183228, 0.7409761548042297, 0.7326947450637817, 0.7308722734451294, 0.7263064384460449, 0.7247155904769897, 0.7229482531547546, 0.7187645435333252, 0.7124617695808411, 0.7120192050933838, 0.7111254334449768, 0.7031952738761902, 0.685545802116394, 0.680121123790741, 0.6710328459739685, 0.6710174679756165, 0.6688042879104614, 0.6640999913215637, 0.6612977385520935, 0.6597707867622375, 0.6585788130760193, 0.6582080721855164, 0.6576172113418579, 0.6532083749771118, 0.8877643942832947, 0.8572856783866882, 0.8571335077285767, 0.8333454132080078, 0.8332468867301941, 0.8294928073883057, 0.8287107944488525, 0.8280938863754272, 0.8251499533653259, 0.8161784410476685, 0.8102526664733887, 0.8086116909980774, 0.8083971738815308, 0.8083500862121582, 0.7945318818092346, 0.7886114716529846, 0.7865158915519714, 0.785720944404602, 0.7824707627296448, 0.7668326497077942, 0.7635064125061035, 0.7633759379386902, 0.7612377405166626, 0.7581689953804016, 0.7563170194625854, 0.7538084387779236, 0.7512133717536926, 0.7457331418991089, 0.744966447353363, 0.9619378447532654, 0.9592580795288086, 0.9583922624588013, 0.9508448839187622, 0.9506871104240417, 0.9489060044288635, 0.9407716393470764, 0.9407163262367249, 0.9388666152954102, 0.9387041330337524, 0.9373937249183655, 0.9372944831848145, 0.9372900724411011, 0.9363027215003967, 0.9359074234962463, 0.9299324154853821, 0.92988121509552, 0.9291179180145264, 0.9291061758995056, 0.9287872314453125, 0.927913248538971, 0.9269513487815857, 0.9260931611061096, 0.9251692295074463, 0.923862874507904, 0.9222716093063354, 0.922135055065155, 0.9219548106193542, 0.917574942111969, 0.9167569875717163, 0.9146531820297241, 0.9143598079681396, 0.9131523966789246, 0.9534533619880676, 0.9514635801315308, 0.9465844631195068, 0.9412139654159546, 0.9377864599227905, 0.9369797706604004, 0.9359297156333923, 0.9351365566253662, 0.9324694275856018, 0.9320363402366638, 0.9318971633911133, 0.9296666383743286, 0.9288612008094788, 0.9271450042724609, 0.9263949394226074, 0.9233604073524475, 0.9223961234092712, 0.9205296039581299, 0.9190909266471863, 0.9184401035308838, 0.9178192019462585, 0.9166296720504761, 0.9165234565734863, 0.9161949157714844, 0.9135841727256775, 0.913058876991272, 0.9128690958023071, 0.9117515087127686, 0.9106373190879822, 0.9091829061508179, 0.9088295698165894, 0.9079083800315857, 0.9059850573539734, 0.9058787822723389, 0.8583757877349854, 0.8570008873939514, 0.8529952168464661, 0.8523730635643005, 0.8517007231712341, 0.8466823101043701, 0.8384873867034912, 0.8340513706207275, 0.8325051665306091, 0.8318006992340088, 0.8281392455101013, 0.8272271156311035, 0.8269731402397156, 0.8250804543495178, 0.8194766044616699, 0.8166301250457764, 0.811316192150116, 0.8033034205436707, 0.7989256978034973, 0.7980720400810242, 0.7944303750991821, 0.7911764979362488, 0.7908003926277161, 0.7897324562072754, 0.7873411774635315, 0.7845273017883301, 0.7786997556686401, 0.7778544425964355, 0.7770633697509766, 0.7767223715782166, 0.7746741771697998, 0.7744545340538025, 0.9649577736854553, 0.960067093372345, 0.9424422383308411, 0.9366751313209534, 0.9360452890396118, 0.9337926506996155, 0.9312673807144165, 0.9282018542289734, 0.9277554154396057, 0.9259271025657654, 0.9248266220092773, 0.9245583415031433, 0.9232487082481384, 0.9204573631286621, 0.9203751683235168, 0.9196829199790955, 0.9193438291549683, 0.9188849925994873, 0.9181746244430542, 0.9169768691062927, 0.9168641567230225, 0.915738046169281, 0.9147913455963135, 0.9140997529029846, 0.9119822978973389, 0.9119725823402405, 0.9104911088943481, 0.9096373319625854, 0.9062739610671997, 0.9057168960571289, 0.9045252799987793, 0.9028008580207825, 0.90137779712677, 0.9013673067092896, 0.8982754945755005, 0.8980841636657715, 0.8796648979187012, 0.8685582280158997, 0.8626589179039001, 0.8281410932540894, 0.8224511742591858, 0.8216213583946228, 0.8190628290176392, 0.8175538182258606, 0.8161420226097107, 0.8126903176307678, 0.8104636073112488, 0.8064902424812317, 0.7982622981071472, 0.7979375720024109, 0.7956289649009705, 0.7909783720970154, 0.7880098223686218, 0.785815417766571, 0.7837804555892944, 0.7719550132751465, 0.7718780636787415, 0.7670578360557556, 0.7658010721206665, 0.7613548636436462, 0.7598845362663269, 0.8736844658851624, 0.8239855170249939, 0.8134318590164185, 0.8096604347229004, 0.807201623916626, 0.8037501573562622, 0.7925112247467041, 0.7867133617401123, 0.7847861051559448, 0.7795183658599854, 0.7773070335388184, 0.7737987041473389, 0.7713991403579712, 0.771137535572052, 0.7645966410636902, 0.7624697685241699, 0.7618871331214905, 0.7604494094848633, 0.7572901248931885, 0.7564029693603516, 0.7558984756469727, 0.7553873658180237, 0.7545233964920044, 0.751593828201294, 0.7462684512138367, 0.745638906955719, 0.744511067867279, 0.7433191537857056, 0.7424084544181824, 0.7421519160270691, 0.7409995198249817, 0.7348830699920654, 0.7332093119621277, 0.7328685522079468, 0.7296553254127502, 0.7328283190727234, 0.7315773367881775, 0.7111346125602722, 0.7072450518608093, 0.7056124806404114, 0.6945570111274719, 0.6923878788948059, 0.6911296248435974, 0.6902017593383789, 0.6791394948959351, 0.6769264340400696, 0.6751492619514465, 0.6744286417961121, 0.6675588488578796, 0.6621350646018982, 0.6551072597503662, 0.6541105508804321, 0.6458653211593628, 0.6458048820495605, 0.6405230164527893, 0.6397486925125122, 0.6376464366912842, 0.6376063823699951, 0.6364005208015442, 0.6302590370178223, 0.629340648651123, 0.6286629438400269, 0.6286134123802185, 0.8983475565910339, 0.8796129822731018, 0.8613085150718689, 0.8583300709724426, 0.8524380326271057, 0.8502426147460938, 0.8472773432731628, 0.8468359708786011, 0.8459429740905762, 0.8397948741912842, 0.8393809795379639, 0.8386533856391907, 0.8375659584999084, 0.8361332416534424, 0.8352878093719482, 0.8329587578773499, 0.8323851823806763, 0.8284980654716492, 0.8274503946304321, 0.8259664177894592, 0.8248794078826904, 0.821871817111969, 0.820887565612793, 0.818228542804718, 0.7846065163612366, 0.7579270005226135, 0.7128450274467468, 0.7124010920524597, 0.707188606262207, 0.6993973255157471, 0.6829785704612732, 0.6816823482513428, 0.6795679330825806, 0.6722280383110046, 0.6696809530258179, 0.661353349685669, 0.6587356328964233, 0.6585289239883423, 0.6545600295066833, 0.6542339324951172, 0.6465551853179932, 0.6447017192840576, 0.6422298550605774, 0.6421043872833252, 0.6406810283660889, 0.6405306458473206, 0.639619767665863, 0.6362974643707275, 0.6356446743011475, 0.6316061019897461, 0.6312462091445923, 0.63052898645401, 0.6284713745117188, 0.6275337934494019, 0.8287779688835144, 0.7885329723358154, 0.7766812443733215, 0.7729319930076599, 0.7655899524688721, 0.7613307237625122, 0.7602152228355408, 0.7599236965179443, 0.7525485157966614, 0.7525045275688171, 0.7469984292984009, 0.7458446621894836, 0.7344576120376587, 0.7334214448928833, 0.7241488099098206, 0.722520649433136, 0.7155410051345825, 0.7110087871551514, 0.710311770439148, 0.7051694393157959, 0.7035325169563293, 0.7032049894332886, 0.7002100348472595, 0.6992570757865906, 0.6964784264564514, 0.6947467923164368, 0.6942600607872009, 0.6925584673881531, 0.689023494720459, 0.8753561973571777, 0.8399549722671509, 0.8176146149635315, 0.8149230480194092, 0.7902295589447021, 0.7775954604148865, 0.7663928866386414, 0.7606475353240967, 0.7586503624916077, 0.7430266737937927, 0.736920952796936, 0.7365199327468872, 0.7363410592079163, 0.732771098613739, 0.731741189956665, 0.7305384874343872, 0.7272668480873108, 0.7253776788711548, 0.7234581112861633, 0.7192080020904541, 0.7161647081375122, 0.712457537651062, 0.7120834589004517, 0.8290039300918579, 0.8237482309341431, 0.8174923062324524, 0.8158254027366638, 0.8043875694274902, 0.8012757897377014, 0.7859414219856262, 0.7859309315681458, 0.7826938629150391, 0.7717073559761047, 0.7599218487739563, 0.7560779452323914, 0.755815327167511, 0.755649745464325, 0.7525452375411987, 0.7476943135261536, 0.74106365442276, 0.7241420745849609, 0.7232935428619385, 0.722986102104187, 0.717963695526123, 0.7171339392662048, 0.7168617844581604, 0.7164270877838135, 0.7160230875015259, 0.714897871017456, 0.7090069055557251, 0.7078938484191895, 0.7052725553512573, 0.7020888328552246], \"xaxis\": \"x\", \"yaxis\": \"y\"}],\n",
              "                        {\"barmode\": \"relative\", \"legend\": {\"tracegroupgap\": 0}, \"template\": {\"data\": {\"bar\": [{\"error_x\": {\"color\": \"#2a3f5f\"}, \"error_y\": {\"color\": \"#2a3f5f\"}, \"marker\": {\"line\": {\"color\": \"#E5ECF6\", \"width\": 0.5}}, \"type\": \"bar\"}], \"barpolar\": [{\"marker\": {\"line\": {\"color\": \"#E5ECF6\", \"width\": 0.5}}, \"type\": \"barpolar\"}], \"carpet\": [{\"aaxis\": {\"endlinecolor\": \"#2a3f5f\", \"gridcolor\": \"white\", \"linecolor\": \"white\", \"minorgridcolor\": \"white\", \"startlinecolor\": \"#2a3f5f\"}, \"baxis\": {\"endlinecolor\": \"#2a3f5f\", \"gridcolor\": \"white\", \"linecolor\": \"white\", \"minorgridcolor\": \"white\", \"startlinecolor\": \"#2a3f5f\"}, \"type\": \"carpet\"}], \"choropleth\": [{\"colorbar\": {\"outlinewidth\": 0, \"ticks\": \"\"}, \"type\": \"choropleth\"}], \"contour\": [{\"colorbar\": {\"outlinewidth\": 0, \"ticks\": \"\"}, \"colorscale\": [[0.0, \"#0d0887\"], [0.1111111111111111, \"#46039f\"], [0.2222222222222222, \"#7201a8\"], [0.3333333333333333, \"#9c179e\"], [0.4444444444444444, \"#bd3786\"], [0.5555555555555556, \"#d8576b\"], [0.6666666666666666, \"#ed7953\"], [0.7777777777777778, \"#fb9f3a\"], [0.8888888888888888, \"#fdca26\"], [1.0, \"#f0f921\"]], \"type\": \"contour\"}], \"contourcarpet\": [{\"colorbar\": {\"outlinewidth\": 0, \"ticks\": \"\"}, \"type\": \"contourcarpet\"}], \"heatmap\": [{\"colorbar\": {\"outlinewidth\": 0, \"ticks\": \"\"}, \"colorscale\": [[0.0, \"#0d0887\"], [0.1111111111111111, \"#46039f\"], [0.2222222222222222, \"#7201a8\"], [0.3333333333333333, \"#9c179e\"], [0.4444444444444444, \"#bd3786\"], [0.5555555555555556, \"#d8576b\"], [0.6666666666666666, \"#ed7953\"], [0.7777777777777778, \"#fb9f3a\"], [0.8888888888888888, \"#fdca26\"], [1.0, \"#f0f921\"]], \"type\": \"heatmap\"}], \"heatmapgl\": [{\"colorbar\": {\"outlinewidth\": 0, \"ticks\": \"\"}, \"colorscale\": [[0.0, \"#0d0887\"], [0.1111111111111111, \"#46039f\"], [0.2222222222222222, \"#7201a8\"], [0.3333333333333333, \"#9c179e\"], [0.4444444444444444, \"#bd3786\"], [0.5555555555555556, \"#d8576b\"], [0.6666666666666666, \"#ed7953\"], [0.7777777777777778, \"#fb9f3a\"], [0.8888888888888888, \"#fdca26\"], [1.0, \"#f0f921\"]], \"type\": \"heatmapgl\"}], \"histogram\": [{\"marker\": {\"colorbar\": {\"outlinewidth\": 0, \"ticks\": \"\"}}, \"type\": \"histogram\"}], \"histogram2d\": [{\"colorbar\": {\"outlinewidth\": 0, \"ticks\": \"\"}, \"colorscale\": [[0.0, \"#0d0887\"], [0.1111111111111111, \"#46039f\"], [0.2222222222222222, \"#7201a8\"], [0.3333333333333333, \"#9c179e\"], [0.4444444444444444, \"#bd3786\"], [0.5555555555555556, \"#d8576b\"], [0.6666666666666666, \"#ed7953\"], [0.7777777777777778, \"#fb9f3a\"], [0.8888888888888888, \"#fdca26\"], [1.0, \"#f0f921\"]], \"type\": \"histogram2d\"}], \"histogram2dcontour\": [{\"colorbar\": {\"outlinewidth\": 0, \"ticks\": \"\"}, \"colorscale\": [[0.0, \"#0d0887\"], [0.1111111111111111, \"#46039f\"], [0.2222222222222222, \"#7201a8\"], [0.3333333333333333, \"#9c179e\"], [0.4444444444444444, \"#bd3786\"], [0.5555555555555556, \"#d8576b\"], [0.6666666666666666, \"#ed7953\"], [0.7777777777777778, \"#fb9f3a\"], [0.8888888888888888, \"#fdca26\"], [1.0, \"#f0f921\"]], \"type\": \"histogram2dcontour\"}], \"mesh3d\": [{\"colorbar\": {\"outlinewidth\": 0, \"ticks\": \"\"}, \"type\": \"mesh3d\"}], \"parcoords\": [{\"line\": {\"colorbar\": {\"outlinewidth\": 0, \"ticks\": \"\"}}, \"type\": \"parcoords\"}], \"pie\": [{\"automargin\": true, \"type\": \"pie\"}], \"scatter\": [{\"marker\": {\"colorbar\": {\"outlinewidth\": 0, \"ticks\": \"\"}}, \"type\": \"scatter\"}], \"scatter3d\": [{\"line\": {\"colorbar\": {\"outlinewidth\": 0, \"ticks\": \"\"}}, \"marker\": {\"colorbar\": {\"outlinewidth\": 0, \"ticks\": \"\"}}, \"type\": \"scatter3d\"}], \"scattercarpet\": [{\"marker\": {\"colorbar\": {\"outlinewidth\": 0, \"ticks\": \"\"}}, \"type\": \"scattercarpet\"}], \"scattergeo\": [{\"marker\": {\"colorbar\": {\"outlinewidth\": 0, \"ticks\": \"\"}}, \"type\": \"scattergeo\"}], \"scattergl\": [{\"marker\": {\"colorbar\": {\"outlinewidth\": 0, \"ticks\": \"\"}}, \"type\": \"scattergl\"}], \"scattermapbox\": [{\"marker\": {\"colorbar\": {\"outlinewidth\": 0, \"ticks\": \"\"}}, \"type\": \"scattermapbox\"}], \"scatterpolar\": [{\"marker\": {\"colorbar\": {\"outlinewidth\": 0, \"ticks\": \"\"}}, \"type\": \"scatterpolar\"}], \"scatterpolargl\": [{\"marker\": {\"colorbar\": {\"outlinewidth\": 0, \"ticks\": \"\"}}, \"type\": \"scatterpolargl\"}], \"scatterternary\": [{\"marker\": {\"colorbar\": {\"outlinewidth\": 0, \"ticks\": \"\"}}, \"type\": \"scatterternary\"}], \"surface\": [{\"colorbar\": {\"outlinewidth\": 0, \"ticks\": \"\"}, \"colorscale\": [[0.0, \"#0d0887\"], [0.1111111111111111, \"#46039f\"], [0.2222222222222222, \"#7201a8\"], [0.3333333333333333, \"#9c179e\"], [0.4444444444444444, \"#bd3786\"], [0.5555555555555556, \"#d8576b\"], [0.6666666666666666, \"#ed7953\"], [0.7777777777777778, \"#fb9f3a\"], [0.8888888888888888, \"#fdca26\"], [1.0, \"#f0f921\"]], \"type\": \"surface\"}], \"table\": [{\"cells\": {\"fill\": {\"color\": \"#EBF0F8\"}, \"line\": {\"color\": \"white\"}}, \"header\": {\"fill\": {\"color\": \"#C8D4E3\"}, \"line\": {\"color\": \"white\"}}, \"type\": \"table\"}]}, \"layout\": {\"annotationdefaults\": {\"arrowcolor\": \"#2a3f5f\", \"arrowhead\": 0, \"arrowwidth\": 1}, \"coloraxis\": {\"colorbar\": {\"outlinewidth\": 0, \"ticks\": \"\"}}, \"colorscale\": {\"diverging\": [[0, \"#8e0152\"], [0.1, \"#c51b7d\"], [0.2, \"#de77ae\"], [0.3, \"#f1b6da\"], [0.4, \"#fde0ef\"], [0.5, \"#f7f7f7\"], [0.6, \"#e6f5d0\"], [0.7, \"#b8e186\"], [0.8, \"#7fbc41\"], [0.9, \"#4d9221\"], [1, \"#276419\"]], \"sequential\": [[0.0, \"#0d0887\"], [0.1111111111111111, \"#46039f\"], [0.2222222222222222, \"#7201a8\"], [0.3333333333333333, \"#9c179e\"], [0.4444444444444444, \"#bd3786\"], [0.5555555555555556, \"#d8576b\"], [0.6666666666666666, \"#ed7953\"], [0.7777777777777778, \"#fb9f3a\"], [0.8888888888888888, \"#fdca26\"], [1.0, \"#f0f921\"]], \"sequentialminus\": [[0.0, \"#0d0887\"], [0.1111111111111111, \"#46039f\"], [0.2222222222222222, \"#7201a8\"], [0.3333333333333333, \"#9c179e\"], [0.4444444444444444, \"#bd3786\"], [0.5555555555555556, \"#d8576b\"], [0.6666666666666666, \"#ed7953\"], [0.7777777777777778, \"#fb9f3a\"], [0.8888888888888888, \"#fdca26\"], [1.0, \"#f0f921\"]]}, \"colorway\": [\"#636efa\", \"#EF553B\", \"#00cc96\", \"#ab63fa\", \"#FFA15A\", \"#19d3f3\", \"#FF6692\", \"#B6E880\", \"#FF97FF\", \"#FECB52\"], \"font\": {\"color\": \"#2a3f5f\"}, \"geo\": {\"bgcolor\": \"white\", \"lakecolor\": \"white\", \"landcolor\": \"#E5ECF6\", \"showlakes\": true, \"showland\": true, \"subunitcolor\": \"white\"}, \"hoverlabel\": {\"align\": \"left\"}, \"hovermode\": \"closest\", \"mapbox\": {\"style\": \"light\"}, \"paper_bgcolor\": \"white\", \"plot_bgcolor\": \"#E5ECF6\", \"polar\": {\"angularaxis\": {\"gridcolor\": \"white\", \"linecolor\": \"white\", \"ticks\": \"\"}, \"bgcolor\": \"#E5ECF6\", \"radialaxis\": {\"gridcolor\": \"white\", \"linecolor\": \"white\", \"ticks\": \"\"}}, \"scene\": {\"xaxis\": {\"backgroundcolor\": \"#E5ECF6\", \"gridcolor\": \"white\", \"gridwidth\": 2, \"linecolor\": \"white\", \"showbackground\": true, \"ticks\": \"\", \"zerolinecolor\": \"white\"}, \"yaxis\": {\"backgroundcolor\": \"#E5ECF6\", \"gridcolor\": \"white\", \"gridwidth\": 2, \"linecolor\": \"white\", \"showbackground\": true, \"ticks\": \"\", \"zerolinecolor\": \"white\"}, \"zaxis\": {\"backgroundcolor\": \"#E5ECF6\", \"gridcolor\": \"white\", \"gridwidth\": 2, \"linecolor\": \"white\", \"showbackground\": true, \"ticks\": \"\", \"zerolinecolor\": \"white\"}}, \"shapedefaults\": {\"line\": {\"color\": \"#2a3f5f\"}}, \"ternary\": {\"aaxis\": {\"gridcolor\": \"white\", \"linecolor\": \"white\", \"ticks\": \"\"}, \"baxis\": {\"gridcolor\": \"white\", \"linecolor\": \"white\", \"ticks\": \"\"}, \"bgcolor\": \"#E5ECF6\", \"caxis\": {\"gridcolor\": \"white\", \"linecolor\": \"white\", \"ticks\": \"\"}}, \"title\": {\"x\": 0.05}, \"xaxis\": {\"automargin\": true, \"gridcolor\": \"white\", \"linecolor\": \"white\", \"ticks\": \"\", \"title\": {\"standoff\": 15}, \"zerolinecolor\": \"white\", \"zerolinewidth\": 2}, \"yaxis\": {\"automargin\": true, \"gridcolor\": \"white\", \"linecolor\": \"white\", \"ticks\": \"\", \"title\": {\"standoff\": 15}, \"zerolinecolor\": \"white\", \"zerolinewidth\": 2}}}, \"title\": {\"text\": \"doc2vec sections\"}, \"xaxis\": {\"anchor\": \"y\", \"domain\": [0.0, 1.0], \"title\": {\"text\": \"score\"}}, \"yaxis\": {\"anchor\": \"x\", \"domain\": [0.0, 1.0], \"title\": {\"text\": \"count\"}}},\n",
              "                        {\"responsive\": true}\n",
              "                    ).then(function(){\n",
              "                            \n",
              "var gd = document.getElementById('6f370258-6860-40fd-86da-24ccdce06856');\n",
              "var x = new MutationObserver(function (mutations, observer) {{\n",
              "        var display = window.getComputedStyle(gd).display;\n",
              "        if (!display || display === 'none') {{\n",
              "            console.log([gd, 'removed!']);\n",
              "            Plotly.purge(gd);\n",
              "            observer.disconnect();\n",
              "        }}\n",
              "}});\n",
              "\n",
              "// Listen for the removal of the full notebook cells\n",
              "var notebookContainer = gd.closest('#notebook-container');\n",
              "if (notebookContainer) {{\n",
              "    x.observe(notebookContainer, {childList: true});\n",
              "}}\n",
              "\n",
              "// Listen for the clearing of the current output cell\n",
              "var outputEl = gd.closest('.output');\n",
              "if (outputEl) {{\n",
              "    x.observe(outputEl, {childList: true});\n",
              "}}\n",
              "\n",
              "                        })\n",
              "                };\n",
              "                \n",
              "            </script>\n",
              "        </div>\n",
              "</body>\n",
              "</html>"
            ]
          },
          "metadata": {}
        }
      ]
    },
    {
      "cell_type": "code",
      "metadata": {
        "id": "OKeaqYxGPMZj"
      },
      "source": [
        "if use_wandb:\n",
        "  wandb.log({\"scores_hist\": fig})"
      ],
      "execution_count": 97,
      "outputs": []
    },
    {
      "cell_type": "code",
      "metadata": {
        "colab": {
          "base_uri": "https://localhost:8080/",
          "height": 49
        },
        "id": "DgV3ccDr5Ux4",
        "outputId": "09f136c3-ed4a-4448-b40e-91d1d8584833"
      },
      "source": [
        "result, details = recommend_tune(df_section_sim, 'Perdido [jazz1350]')\n",
        "result.head(50)"
      ],
      "execution_count": 98,
      "outputs": [
        {
          "output_type": "execute_result",
          "data": {
            "text/html": [
              "<div>\n",
              "<style scoped>\n",
              "    .dataframe tbody tr th:only-of-type {\n",
              "        vertical-align: middle;\n",
              "    }\n",
              "\n",
              "    .dataframe tbody tr th {\n",
              "        vertical-align: top;\n",
              "    }\n",
              "\n",
              "    .dataframe thead th {\n",
              "        text-align: right;\n",
              "    }\n",
              "</style>\n",
              "<table border=\"1\" class=\"dataframe\">\n",
              "  <thead>\n",
              "    <tr style=\"text-align: right;\">\n",
              "      <th></th>\n",
              "      <th>index</th>\n",
              "      <th>reference</th>\n",
              "      <th>similar_title</th>\n",
              "      <th>score</th>\n",
              "      <th>max</th>\n",
              "      <th>score_div_max</th>\n",
              "    </tr>\n",
              "  </thead>\n",
              "  <tbody>\n",
              "  </tbody>\n",
              "</table>\n",
              "</div>"
            ],
            "text/plain": [
              "Empty DataFrame\n",
              "Columns: [index, reference, similar_title, score, max, score_div_max]\n",
              "Index: []"
            ]
          },
          "metadata": {},
          "execution_count": 98
        }
      ]
    },
    {
      "cell_type": "code",
      "metadata": {
        "id": "hLFaFo62XlMS",
        "colab": {
          "base_uri": "https://localhost:8080/"
        },
        "outputId": "28823c92-3f1a-4c5e-be88-505768f8bc8d"
      },
      "source": [
        "dd = pd.DataFrame(columns = recommender_results_cols)\n",
        "\n",
        "for tune in tunes_eval_list:\n",
        "  result, details = recommend_tune(df_sim, tune)\n",
        "  dd['id'] = result['index']\n",
        "  dd['reference'] = tune\n",
        "  dd['method'] = 'doc2vec'\n",
        "  dd['similar'] = result['similar_title']\n",
        "  dd['score_div_max'] = result['score_div_max']\n",
        "  dd['score'] = result['score']\n",
        "\n",
        "recommender_results = recommender_results.append(dd)\n",
        "len(recommender_results)"
      ],
      "execution_count": 99,
      "outputs": [
        {
          "output_type": "execute_result",
          "data": {
            "text/plain": [
              "216"
            ]
          },
          "metadata": {},
          "execution_count": 99
        }
      ]
    },
    {
      "cell_type": "markdown",
      "metadata": {
        "id": "aosPKEWljlm0"
      },
      "source": [
        "### Contrafacts"
      ]
    },
    {
      "cell_type": "code",
      "metadata": {
        "id": "SaYSqTJokGc5"
      },
      "source": [
        "def test_doc2vec_contrafacts(tunes, N=15):\n",
        "  matches = 0\n",
        "  number_of_sections = 0\n",
        "  results = {}\n",
        "\n",
        "  for tune, similar_tune in contrafacts.items():\n",
        "    \n",
        "    # loop over all sections of the tune\n",
        "    sub_match = 0\n",
        "    for s1 in title_to_sectionid[tune]:\n",
        "      sims = model.dv.similar_by_key(s1, topn=N)\n",
        "      # check if the section matches the expected title; consider only the first 15 recommendations\n",
        "      i = 0\n",
        "      for match, value in sims:\n",
        "        # tune match\n",
        "        if (type(match) == str):\n",
        "          titleid = int(match.replace('titleid_', ''))\n",
        "          if titleid_to_title[titleid] == similar_tune:\n",
        "            sub_match += 1\n",
        "\n",
        "        # section match\n",
        "        else:\n",
        "          if sectionid_to_title[match] == similar_tune:\n",
        "            sub_match += 1\n",
        "\n",
        "    # for each title, increase matches if at least one of the section matched the expected title\n",
        "    if sub_match > 0:\n",
        "      matches += 1  \n",
        "      results[tune] = 1\n",
        "    else:\n",
        "      results[tune] = 0\n",
        "  \n",
        "  return matches, results"
      ],
      "execution_count": 100,
      "outputs": []
    },
    {
      "cell_type": "code",
      "metadata": {
        "colab": {
          "base_uri": "https://localhost:8080/"
        },
        "id": "eAjM3lU4ltzP",
        "outputId": "12882779-8d1c-4e48-dca5-b1739c1e6b2d"
      },
      "source": [
        "topN = 15\n",
        "matches, results = test_doc2vec_contrafacts(contrafacts, topN)\n",
        "\n",
        "[print(f\"{val}: {rr}\") for rr, val in results.items()] \n",
        "print() \n",
        "print(f\"Found matches: {matches} out of {len(contrafacts)}: {100*matches/len(contrafacts):.3f}%\")"
      ],
      "execution_count": 101,
      "outputs": [
        {
          "output_type": "stream",
          "name": "stdout",
          "text": [
            "0: 26-2 [jazz1350]\n",
            "0: 52nd Street Theme [jazz1350]\n",
            "1: Ablution [jazz1350]\n",
            "1: Anthropology [jazz1350]\n",
            "0: Ballade [jazz1350]\n",
            "1: Bright Mississippi [jazz1350]\n",
            "0: C.T.A. [jazz1350]\n",
            "1: Cottontail [jazz1350]\n",
            "0: Countdown [jazz1350]\n",
            "0: Dewey Square [jazz1350]\n",
            "0: Dexterity [jazz1350]\n",
            "1: Dig [jazz1350]\n",
            "1: Donna Lee [jazz1350]\n",
            "0: Don't Be That Way [jazz1350]\n",
            "0: Evidence [jazz1350]\n",
            "1: Flintstones [jazz1350]\n",
            "0: Four On Six [jazz1350]\n",
            "0: Freight Train [jazz1350]\n",
            "0: Good Bait [jazz1350]\n",
            "1: Hackensack [jazz1350]\n",
            "1: Half Nelson [jazz1350]\n",
            "1: Hot House [jazz1350]\n",
            "1: Impressions [jazz1350]\n",
            "1: In A Mellow Tone (In A Mellotone) [jazz1350]\n",
            "1: In Walked Bud [jazz1350]\n",
            "1: Ko Ko [jazz1350]\n",
            "0: Lennie's Pennies [jazz1350]\n",
            "0: Little Rootie Tootie [jazz1350]\n",
            "0: Little Willie Leaps [jazz1350]\n",
            "0: Lullaby Of Birdland [jazz1350]\n",
            "0: My Little Suede Shoes [jazz1350]\n",
            "1: Ornithology [jazz1350]\n",
            "1: Quasimodo (Theme) [jazz1350]\n",
            "0: Room 608 [jazz1350]\n",
            "1: Satellite [jazz1350]\n",
            "0: Scrapple From The Apple [jazz1350]\n",
            "0: Tour De Force [jazz1350]\n",
            "0: Wow [jazz1350]\n",
            "1: Yardbird Suite [jazz1350]\n",
            "0: Sweet Sue, Just You [jazz1350]\n",
            "0: These Foolish Things [jazz1350]\n",
            "0: Misty [jazz1350]\n",
            "\n",
            "Found matches: 18 out of 42: 42.857%\n"
          ]
        }
      ]
    },
    {
      "cell_type": "code",
      "metadata": {
        "id": "8C0kzj0Jp425"
      },
      "source": [
        "model_name = 'doc2vec'\n",
        "if use_wandb:\n",
        "  wandb.log(\n",
        "      {model_name: {\n",
        "                'contrafacts': {\n",
        "                    'topN': topN,\n",
        "                    'success': matches/len(contrafacts),\n",
        "                    #'results': results\n",
        "                    }\n",
        "                   },\n",
        "       'all_models': {\n",
        "           model_name: wandb.Table(\n",
        "               columns=[\"Title\", \"Match\"],\n",
        "               data=[[key, value] for key, value in results.items()]),\n",
        "       }\n",
        "       })"
      ],
      "execution_count": 102,
      "outputs": []
    },
    {
      "cell_type": "markdown",
      "metadata": {
        "id": "_UzVV5yn4Q-K"
      },
      "source": [
        "### Save Results for WebApp"
      ]
    },
    {
      "cell_type": "code",
      "metadata": {
        "id": "vqxX8YaWsyh7",
        "outputId": "414ee09a-de89-467a-8390-89b5f5cfa1a8",
        "colab": {
          "base_uri": "https://localhost:8080/"
        }
      },
      "source": [
        "%%time\n",
        "tunes = tunes_eval_list\n",
        "\n",
        "# TODO ADD TITLEID as parameter, is optional but should not be\n",
        "df_sim = get_section_scores_doc2vec(tunes_list)\n",
        "\n",
        "result = None\n",
        "for tune in tunes:\n",
        "  tune_result, details = recommend_tune(df_sim, tune)\n",
        "  if result is None:\n",
        "    result = pd.DataFrame(columns=tune_result.columns)\n",
        "  result = result.append(tune_result)\n",
        "\n",
        "print(f\"Result has {len(result)} rows.\")"
      ],
      "execution_count": 103,
      "outputs": [
        {
          "output_type": "stream",
          "name": "stdout",
          "text": [
            "\n",
            "--------------------------------------------------\n",
            "125 After You've Gone, section1 (A)\n",
            "126 After You've Gone, section2 (B)\n",
            "127 After You've Gone, section3 (A)\n",
            "128 After You've Gone, section4 (C)\n",
            "\n",
            "--------------------------------------------------\n",
            "188 All God's Chillun Got Rhythm, section1 (A)\n",
            "189 All God's Chillun Got Rhythm, section2 (B)\n",
            "190 All God's Chillun Got Rhythm, section3 (A)\n",
            "191 All God's Chillun Got Rhythm, section4 (C)\n",
            "\n",
            "--------------------------------------------------\n",
            "198 All Of Me, section1 (A)\n",
            "199 All Of Me, section2 (B)\n",
            "200 All Of Me, section3 (A)\n",
            "201 All Of Me, section4 (C)\n",
            "\n",
            "--------------------------------------------------\n",
            "474 Blood Count, section1 (A)\n",
            "475 Blood Count, section2 (A)\n",
            "476 Blood Count, section3 (B)\n",
            "477 Blood Count, section4 (A)\n",
            "478 Blood Count, section5 (C)\n",
            "\n",
            "--------------------------------------------------\n",
            "496 Blue Moon, section1 (A)\n",
            "497 Blue Moon, section2 (A)\n",
            "498 Blue Moon, section3 (B)\n",
            "499 Blue Moon, section4 (A)\n",
            "\n",
            "--------------------------------------------------\n",
            "626 But Beautiful, section1 (A)\n",
            "627 But Beautiful, section2 (B)\n",
            "628 But Beautiful, section3 (A)\n",
            "629 But Beautiful, section4 (C)\n",
            "\n",
            "--------------------------------------------------\n",
            "653 Bye Bye Blackbird, section1 (A)\n",
            "654 Bye Bye Blackbird, section2 (B)\n",
            "\n",
            "--------------------------------------------------\n",
            "676 Call Me Irresponsible, section1 (A)\n",
            "677 Call Me Irresponsible, section2 (B)\n",
            "678 Call Me Irresponsible, section3 (A)\n",
            "679 Call Me Irresponsible, section4 (B)\n",
            "\n",
            "--------------------------------------------------\n",
            "826 Corcovado, section1 (A)\n",
            "827 Corcovado, section2 (B)\n",
            "828 Corcovado, section3 (A)\n",
            "829 Corcovado, section4 (C)\n",
            "\n",
            "--------------------------------------------------\n",
            "997 Dinah, section1 (A)\n",
            "998 Dinah, section2 (A)\n",
            "999 Dinah, section3 (B)\n",
            "1000 Dinah, section4 (A)\n",
            "\n",
            "--------------------------------------------------\n",
            "1125 East Of The Sun, section1 (A)\n",
            "1126 East Of The Sun, section2 (B)\n",
            "1127 East Of The Sun, section3 (A)\n",
            "1128 East Of The Sun, section4 (C)\n",
            "\n",
            "--------------------------------------------------\n",
            "1287 Footprints, section0 (nan)\n",
            "\n",
            "--------------------------------------------------\n",
            "1379 Giant Steps, section0 (nan)\n",
            "\n",
            "--------------------------------------------------\n",
            "1538 Honeysuckle Rose, section1 (A)\n",
            "1539 Honeysuckle Rose, section2 (A)\n",
            "1540 Honeysuckle Rose, section3 (B)\n",
            "1541 Honeysuckle Rose, section4 (A)\n",
            "\n",
            "--------------------------------------------------\n",
            "1647 I Got Rhythm, section1 (A)\n",
            "1648 I Got Rhythm, section2 (A)\n",
            "1649 I Got Rhythm, section3 (B)\n",
            "1650 I Got Rhythm, section4 (A)\n",
            "\n",
            "--------------------------------------------------\n",
            "2670 Misty, section1 (A)\n",
            "2671 Misty, section2 (A)\n",
            "2672 Misty, section3 (B)\n",
            "2673 Misty, section4 (A)\n",
            "\n",
            "--------------------------------------------------\n",
            "2857 Naima, section1 (A)\n",
            "2858 Naima, section2 (A)\n",
            "2859 Naima, section3 (B)\n",
            "2860 Naima, section4 (A)\n",
            "\n",
            "--------------------------------------------------\n",
            "5044 Old Fashioned Love, section0 (nan)\n",
            "\n",
            "--------------------------------------------------\n",
            "3142 Perdido, section1 (A)\n",
            "3143 Perdido, section2 (A)\n",
            "3144 Perdido, section3 (B)\n",
            "3145 Perdido, section4 (A)\n",
            "\n",
            "--------------------------------------------------\n",
            "3276 Rockin' Chair, section1 (A)\n",
            "3277 Rockin' Chair, section2 (B)\n",
            "3278 Rockin' Chair, section3 (A)\n",
            "\n",
            "--------------------------------------------------\n",
            "3578 Sophisticated Lady, section1 (A)\n",
            "3579 Sophisticated Lady, section2 (A)\n",
            "3580 Sophisticated Lady, section3 (B)\n",
            "3581 Sophisticated Lady, section4 (A)\n",
            "\n",
            "--------------------------------------------------\n",
            "3746 Sweet Sue, Just You, section1 (A)\n",
            "3747 Sweet Sue, Just You, section2 (A)\n",
            "3748 Sweet Sue, Just You, section3 (B)\n",
            "3749 Sweet Sue, Just You, section4 (A)\n",
            "\n",
            "--------------------------------------------------\n",
            "3860 These Foolish Things, section1 (A)\n",
            "3861 These Foolish Things, section2 (A)\n",
            "3862 These Foolish Things, section3 (B)\n",
            "3863 These Foolish Things, section4 (A)\n",
            "\n",
            "--------------------------------------------------\n",
            "4146 We'll Be Together Again, section1 (A)\n",
            "4147 We'll Be Together Again, section2 (A)\n",
            "4148 We'll Be Together Again, section3 (B)\n",
            "4149 We'll Be Together Again, section4 (A)\n",
            "Result has 1770 rows.\n",
            "CPU times: user 16.4 s, sys: 8.31 s, total: 24.7 s\n",
            "Wall time: 15.9 s\n"
          ]
        }
      ]
    },
    {
      "cell_type": "code",
      "metadata": {
        "id": "AdB5bwh4q9NY"
      },
      "source": [
        "result.to_csv('output/recommender_doc2vec.csv', sep='\\t', encoding='utf8')\n",
        "\n",
        "if use_wandb:\n",
        "  model_artifact = wandb.Artifact(\n",
        "      \"recommender_doc2vec\", \n",
        "      type=\"csv\",\n",
        "      description=\"Recommendations for each Tune using doc2vec Model (csv file)\",\n",
        "      metadata=\"\")\n",
        "\n",
        "  model_artifact.add_file(\"'output/recommender_doc2vec.csv'\")\n",
        "  wandb.log_artifact(model_artifact)"
      ],
      "execution_count": 104,
      "outputs": []
    },
    {
      "cell_type": "markdown",
      "metadata": {
        "id": "XmDZT5t7gjgV"
      },
      "source": [
        "# Venn diagrams for Results"
      ]
    },
    {
      "cell_type": "code",
      "metadata": {
        "id": "1YJ5FLt-2WS4"
      },
      "source": [
        "import matplotlib.pyplot as plt\n",
        "from matplotlib_venn import venn3"
      ],
      "execution_count": 105,
      "outputs": []
    },
    {
      "cell_type": "code",
      "metadata": {
        "id": "U6WrsBcc00ar",
        "colab": {
          "base_uri": "https://localhost:8080/",
          "height": 1000
        },
        "outputId": "228121e8-9cdb-4880-c744-291cb45e022b"
      },
      "source": [
        "for tune in tunes_eval_list:\n",
        "  df, details = recommend_tune(df_tfidf, tune)\n",
        "  tfidf_tunes = list(df.head(30).loc[:,'similar_title'])\n",
        "\n",
        "  df, details = recommend_tune(df_lsi, tune)\n",
        "  lsi_tunes = list(df.head(30).loc[:,'similar_title'])\n",
        "\n",
        "  df, details = recommend_tune(df_word2vec, tune)\n",
        "  word2vec_tunes = list(df.head(30).loc[:,'similar_title'])\n",
        "\n",
        "  set_tfidf = set(tfidf_tunes)\n",
        "  set_lsi = set(lsi_tunes)\n",
        "  set_word2vec = set(word2vec_tunes)\n",
        "\n",
        "  venn3([set_tfidf, set_lsi, set_word2vec], \n",
        "        set_labels=('TF-IDF', 'LSI', 'Doc2Vec'),\n",
        "        )\n",
        "  plt.title(f\"{tune}\")\n",
        "  plt.savefig('plot.png')\n",
        "  \n",
        "  if use_wandb:\n",
        "    wandb.log({\"venn_methods\": wandb.Image('plot.png')})\n",
        "  \n",
        "  plt.show()"
      ],
      "execution_count": 106,
      "outputs": [
        {
          "output_type": "display_data",
          "data": {
            "image/png": "[encoded data removed]",
            "text/plain": [
              "<Figure size 432x288 with 1 Axes>"
            ]
          },
          "metadata": {}
        },
        {
          "output_type": "display_data",
          "data": {
            "image/png": "[encoded data removed]",
            "text/plain": [
              "<Figure size 432x288 with 1 Axes>"
            ]
          },
          "metadata": {}
        },
        {
          "output_type": "display_data",
          "data": {
            "image/png": "[encoded data removed]",
            "text/plain": [
              "<Figure size 432x288 with 1 Axes>"
            ]
          },
          "metadata": {}
        },
        {
          "output_type": "display_data",
          "data": {
            "image/png": "[encoded data removed]",
            "text/plain": [
              "<Figure size 432x288 with 1 Axes>"
            ]
          },
          "metadata": {}
        },
        {
          "output_type": "display_data",
          "data": {
            "image/png": "[encoded data removed]",
            "text/plain": [
              "<Figure size 432x288 with 1 Axes>"
            ]
          },
          "metadata": {}
        },
        {
          "output_type": "display_data",
          "data": {
            "image/png": "[encoded data removed]",
            "text/plain": [
              "<Figure size 432x288 with 1 Axes>"
            ]
          },
          "metadata": {}
        },
        {
          "output_type": "display_data",
          "data": {
            "image/png": "[encoded data removed]",
            "text/plain": [
              "<Figure size 432x288 with 1 Axes>"
            ]
          },
          "metadata": {}
        },
        {
          "output_type": "display_data",
          "data": {
            "image/png": "[encoded data removed]",
            "text/plain": [
              "<Figure size 432x288 with 1 Axes>"
            ]
          },
          "metadata": {}
        },
        {
          "output_type": "display_data",
          "data": {
            "image/png": "[encoded data removed]",
            "text/plain": [
              "<Figure size 432x288 with 1 Axes>"
            ]
          },
          "metadata": {}
        },
        {
          "output_type": "display_data",
          "data": {
            "image/png": "[encoded data removed]",
            "text/plain": [
              "<Figure size 432x288 with 1 Axes>"
            ]
          },
          "metadata": {}
        },
        {
          "output_type": "display_data",
          "data": {
            "image/png": "[encoded data removed]",
            "text/plain": [
              "<Figure size 432x288 with 1 Axes>"
            ]
          },
          "metadata": {}
        },
        {
          "output_type": "display_data",
          "data": {
            "image/png": "[encoded data removed]",
            "text/plain": [
              "<Figure size 432x288 with 1 Axes>"
            ]
          },
          "metadata": {}
        },
        {
          "output_type": "display_data",
          "data": {
            "image/png": "[encoded data removed]",
            "text/plain": [
              "<Figure size 432x288 with 1 Axes>"
            ]
          },
          "metadata": {}
        },
        {
          "output_type": "display_data",
          "data": {
            "image/png": "[encoded data removed]",
            "text/plain": [
              "<Figure size 432x288 with 1 Axes>"
            ]
          },
          "metadata": {}
        },
        {
          "output_type": "display_data",
          "data": {
            "image/png": "[encoded data removed]",
            "text/plain": [
              "<Figure size 432x288 with 1 Axes>"
            ]
          },
          "metadata": {}
        },
        {
          "output_type": "display_data",
          "data": {
            "image/png": "[encoded data removed]",
            "text/plain": [
              "<Figure size 432x288 with 1 Axes>"
            ]
          },
          "metadata": {}
        },
        {
          "output_type": "display_data",
          "data": {
            "image/png": "[encoded data removed]",
            "text/plain": [
              "<Figure size 432x288 with 1 Axes>"
            ]
          },
          "metadata": {}
        },
        {
          "output_type": "display_data",
          "data": {
            "image/png": "[encoded data removed]",
            "text/plain": [
              "<Figure size 432x288 with 1 Axes>"
            ]
          },
          "metadata": {}
        },
        {
          "output_type": "display_data",
          "data": {
            "image/png": "[encoded data removed]",
            "text/plain": [
              "<Figure size 432x288 with 1 Axes>"
            ]
          },
          "metadata": {}
        },
        {
          "output_type": "display_data",
          "data": {
            "image/png": "[encoded data removed]",
            "text/plain": [
              "<Figure size 432x288 with 1 Axes>"
            ]
          },
          "metadata": {}
        },
        {
          "output_type": "display_data",
          "data": {
            "image/png": "[encoded data removed]",
            "text/plain": [
              "<Figure size 432x288 with 1 Axes>"
            ]
          },
          "metadata": {}
        },
        {
          "output_type": "display_data",
          "data": {
            "image/png": "[encoded data removed]",
            "text/plain": [
              "<Figure size 432x288 with 1 Axes>"
            ]
          },
          "metadata": {}
        },
        {
          "output_type": "display_data",
          "data": {
            "image/png": "[encoded data removed]",
            "text/plain": [
              "<Figure size 432x288 with 1 Axes>"
            ]
          },
          "metadata": {}
        },
        {
          "output_type": "display_data",
          "data": {
            "image/png": "[encoded data removed]",
            "text/plain": [
              "<Figure size 432x288 with 1 Axes>"
            ]
          },
          "metadata": {}
        }
      ]
    },
    {
      "cell_type": "code",
      "metadata": {
        "colab": {
          "base_uri": "https://localhost:8080/"
        },
        "id": "BVRU3r-0axgN",
        "outputId": "ecbed624-3a9b-4ecf-d883-d27d42334d6f"
      },
      "source": [
        "# Number of tunes tested\n",
        "len(contrafacts)"
      ],
      "execution_count": 107,
      "outputs": [
        {
          "output_type": "execute_result",
          "data": {
            "text/plain": [
              "42"
            ]
          },
          "metadata": {},
          "execution_count": 107
        }
      ]
    },
    {
      "cell_type": "code",
      "metadata": {
        "colab": {
          "base_uri": "https://localhost:8080/"
        },
        "id": "KRtvi6aea1Fc",
        "outputId": "3aefd233-1287-4bdf-c79e-e0db3d2ca54c"
      },
      "source": [
        "# number of sections in the tunes\n",
        "contrafacts_sections = [title_to_sectionid[contrafacts[cc]] for cc in contrafacts.keys()]\n",
        "len([val for tune in contrafacts_sections for val in tune])\n"
      ],
      "execution_count": 108,
      "outputs": [
        {
          "output_type": "execute_result",
          "data": {
            "text/plain": [
              "143"
            ]
          },
          "metadata": {},
          "execution_count": 108
        }
      ]
    },
    {
      "cell_type": "markdown",
      "metadata": {
        "id": "RhOWHSEU0DQH"
      },
      "source": [
        "# W&B Logging and Finish"
      ]
    },
    {
      "cell_type": "code",
      "metadata": {
        "colab": {
          "base_uri": "https://localhost:8080/",
          "height": 424
        },
        "id": "9yt-cob54ZzN",
        "outputId": "c7ac6c34-7135-4d59-ca3a-18f457cb1f79"
      },
      "source": [
        "recommender_results"
      ],
      "execution_count": 109,
      "outputs": [
        {
          "output_type": "execute_result",
          "data": {
            "text/html": [
              "<div>\n",
              "<style scoped>\n",
              "    .dataframe tbody tr th:only-of-type {\n",
              "        vertical-align: middle;\n",
              "    }\n",
              "\n",
              "    .dataframe tbody tr th {\n",
              "        vertical-align: top;\n",
              "    }\n",
              "\n",
              "    .dataframe thead th {\n",
              "        text-align: right;\n",
              "    }\n",
              "</style>\n",
              "<table border=\"1\" class=\"dataframe\">\n",
              "  <thead>\n",
              "    <tr style=\"text-align: right;\">\n",
              "      <th></th>\n",
              "      <th>reference</th>\n",
              "      <th>id</th>\n",
              "      <th>method</th>\n",
              "      <th>similar</th>\n",
              "      <th>score_div_max</th>\n",
              "      <th>score</th>\n",
              "    </tr>\n",
              "  </thead>\n",
              "  <tbody>\n",
              "    <tr>\n",
              "      <th>0</th>\n",
              "      <td>We'll Be Together Again [jazz1350]</td>\n",
              "      <td>0.0</td>\n",
              "      <td>tfidf</td>\n",
              "      <td>You Stepped Out Of A Dream [jazz1350]</td>\n",
              "      <td>1.000000</td>\n",
              "      <td>0.789605</td>\n",
              "    </tr>\n",
              "    <tr>\n",
              "      <th>1</th>\n",
              "      <td>We'll Be Together Again [jazz1350]</td>\n",
              "      <td>1.0</td>\n",
              "      <td>tfidf</td>\n",
              "      <td>Goodbye [jazz1350]</td>\n",
              "      <td>1.000000</td>\n",
              "      <td>0.856327</td>\n",
              "    </tr>\n",
              "    <tr>\n",
              "      <th>2</th>\n",
              "      <td>We'll Be Together Again [jazz1350]</td>\n",
              "      <td>2.0</td>\n",
              "      <td>tfidf</td>\n",
              "      <td>Lazy Bird [jazz1350]</td>\n",
              "      <td>1.000000</td>\n",
              "      <td>0.729080</td>\n",
              "    </tr>\n",
              "    <tr>\n",
              "      <th>3</th>\n",
              "      <td>We'll Be Together Again [jazz1350]</td>\n",
              "      <td>3.0</td>\n",
              "      <td>tfidf</td>\n",
              "      <td>Tones For Joan's Bones [jazz1350]</td>\n",
              "      <td>0.965223</td>\n",
              "      <td>0.756416</td>\n",
              "    </tr>\n",
              "    <tr>\n",
              "      <th>4</th>\n",
              "      <td>We'll Be Together Again [jazz1350]</td>\n",
              "      <td>4.0</td>\n",
              "      <td>tfidf</td>\n",
              "      <td>It's A Raggy Waltz [jazz1350]</td>\n",
              "      <td>0.947116</td>\n",
              "      <td>0.690523</td>\n",
              "    </tr>\n",
              "    <tr>\n",
              "      <th>...</th>\n",
              "      <td>...</td>\n",
              "      <td>...</td>\n",
              "      <td>...</td>\n",
              "      <td>...</td>\n",
              "      <td>...</td>\n",
              "      <td>...</td>\n",
              "    </tr>\n",
              "    <tr>\n",
              "      <th>67</th>\n",
              "      <td>We'll Be Together Again [jazz1350]</td>\n",
              "      <td>NaN</td>\n",
              "      <td>doc2vec</td>\n",
              "      <td>NaN</td>\n",
              "      <td>NaN</td>\n",
              "      <td>NaN</td>\n",
              "    </tr>\n",
              "    <tr>\n",
              "      <th>68</th>\n",
              "      <td>We'll Be Together Again [jazz1350]</td>\n",
              "      <td>NaN</td>\n",
              "      <td>doc2vec</td>\n",
              "      <td>NaN</td>\n",
              "      <td>NaN</td>\n",
              "      <td>NaN</td>\n",
              "    </tr>\n",
              "    <tr>\n",
              "      <th>69</th>\n",
              "      <td>We'll Be Together Again [jazz1350]</td>\n",
              "      <td>NaN</td>\n",
              "      <td>doc2vec</td>\n",
              "      <td>NaN</td>\n",
              "      <td>NaN</td>\n",
              "      <td>NaN</td>\n",
              "    </tr>\n",
              "    <tr>\n",
              "      <th>70</th>\n",
              "      <td>We'll Be Together Again [jazz1350]</td>\n",
              "      <td>NaN</td>\n",
              "      <td>doc2vec</td>\n",
              "      <td>NaN</td>\n",
              "      <td>NaN</td>\n",
              "      <td>NaN</td>\n",
              "    </tr>\n",
              "    <tr>\n",
              "      <th>71</th>\n",
              "      <td>We'll Be Together Again [jazz1350]</td>\n",
              "      <td>NaN</td>\n",
              "      <td>doc2vec</td>\n",
              "      <td>NaN</td>\n",
              "      <td>NaN</td>\n",
              "      <td>NaN</td>\n",
              "    </tr>\n",
              "  </tbody>\n",
              "</table>\n",
              "<p>216 rows × 6 columns</p>\n",
              "</div>"
            ],
            "text/plain": [
              "                             reference   id  ... score_div_max     score\n",
              "0   We'll Be Together Again [jazz1350]  0.0  ...      1.000000  0.789605\n",
              "1   We'll Be Together Again [jazz1350]  1.0  ...      1.000000  0.856327\n",
              "2   We'll Be Together Again [jazz1350]  2.0  ...      1.000000  0.729080\n",
              "3   We'll Be Together Again [jazz1350]  3.0  ...      0.965223  0.756416\n",
              "4   We'll Be Together Again [jazz1350]  4.0  ...      0.947116  0.690523\n",
              "..                                 ...  ...  ...           ...       ...\n",
              "67  We'll Be Together Again [jazz1350]  NaN  ...           NaN       NaN\n",
              "68  We'll Be Together Again [jazz1350]  NaN  ...           NaN       NaN\n",
              "69  We'll Be Together Again [jazz1350]  NaN  ...           NaN       NaN\n",
              "70  We'll Be Together Again [jazz1350]  NaN  ...           NaN       NaN\n",
              "71  We'll Be Together Again [jazz1350]  NaN  ...           NaN       NaN\n",
              "\n",
              "[216 rows x 6 columns]"
            ]
          },
          "metadata": {},
          "execution_count": 109
        }
      ]
    },
    {
      "cell_type": "code",
      "metadata": {
        "id": "Qm7BPMM_ihop",
        "colab": {
          "base_uri": "https://localhost:8080/",
          "height": 982
        },
        "outputId": "440e809b-1c6b-41db-d318-213c236fb932"
      },
      "source": [
        "recommender_results = recommender_results.reset_index()\n",
        "\n",
        "results = recommender_results.pivot(index=['index', 'reference', 'similar'], columns='method', values=['id', 'score', 'score_div_max'])\n",
        "results.columns = ['_'.join(col) for col in results.columns]\n",
        "results = results.reset_index()\n",
        "results"
      ],
      "execution_count": 110,
      "outputs": [
        {
          "output_type": "execute_result",
          "data": {
            "text/html": [
              "<div>\n",
              "<style scoped>\n",
              "    .dataframe tbody tr th:only-of-type {\n",
              "        vertical-align: middle;\n",
              "    }\n",
              "\n",
              "    .dataframe tbody tr th {\n",
              "        vertical-align: top;\n",
              "    }\n",
              "\n",
              "    .dataframe thead th {\n",
              "        text-align: right;\n",
              "    }\n",
              "</style>\n",
              "<table border=\"1\" class=\"dataframe\">\n",
              "  <thead>\n",
              "    <tr style=\"text-align: right;\">\n",
              "      <th></th>\n",
              "      <th>index</th>\n",
              "      <th>reference</th>\n",
              "      <th>similar</th>\n",
              "      <th>id_doc2vec</th>\n",
              "      <th>id_lsi</th>\n",
              "      <th>id_tfidf</th>\n",
              "      <th>score_doc2vec</th>\n",
              "      <th>score_lsi</th>\n",
              "      <th>score_tfidf</th>\n",
              "      <th>score_div_max_doc2vec</th>\n",
              "      <th>score_div_max_lsi</th>\n",
              "      <th>score_div_max_tfidf</th>\n",
              "    </tr>\n",
              "  </thead>\n",
              "  <tbody>\n",
              "    <tr>\n",
              "      <th>0</th>\n",
              "      <td>0</td>\n",
              "      <td>We'll Be Together Again [jazz1350]</td>\n",
              "      <td>Goodbye [jazz1350]</td>\n",
              "      <td>0.0</td>\n",
              "      <td>0.0</td>\n",
              "      <td>NaN</td>\n",
              "      <td>0.922972</td>\n",
              "      <td>0.922972</td>\n",
              "      <td>NaN</td>\n",
              "      <td>1.0</td>\n",
              "      <td>1.0</td>\n",
              "      <td>NaN</td>\n",
              "    </tr>\n",
              "    <tr>\n",
              "      <th>1</th>\n",
              "      <td>0</td>\n",
              "      <td>We'll Be Together Again [jazz1350]</td>\n",
              "      <td>You Stepped Out Of A Dream [jazz1350]</td>\n",
              "      <td>NaN</td>\n",
              "      <td>NaN</td>\n",
              "      <td>0.0</td>\n",
              "      <td>NaN</td>\n",
              "      <td>NaN</td>\n",
              "      <td>0.789605</td>\n",
              "      <td>NaN</td>\n",
              "      <td>NaN</td>\n",
              "      <td>1.0</td>\n",
              "    </tr>\n",
              "    <tr>\n",
              "      <th>2</th>\n",
              "      <td>1</td>\n",
              "      <td>We'll Be Together Again [jazz1350]</td>\n",
              "      <td>Goodbye [jazz1350]</td>\n",
              "      <td>NaN</td>\n",
              "      <td>NaN</td>\n",
              "      <td>1.0</td>\n",
              "      <td>NaN</td>\n",
              "      <td>NaN</td>\n",
              "      <td>0.856327</td>\n",
              "      <td>NaN</td>\n",
              "      <td>NaN</td>\n",
              "      <td>1.0</td>\n",
              "    </tr>\n",
              "    <tr>\n",
              "      <th>3</th>\n",
              "      <td>1</td>\n",
              "      <td>We'll Be Together Again [jazz1350]</td>\n",
              "      <td>What's New [jazz1350]</td>\n",
              "      <td>1.0</td>\n",
              "      <td>1.0</td>\n",
              "      <td>NaN</td>\n",
              "      <td>0.841625</td>\n",
              "      <td>0.841625</td>\n",
              "      <td>NaN</td>\n",
              "      <td>1.0</td>\n",
              "      <td>1.0</td>\n",
              "      <td>NaN</td>\n",
              "    </tr>\n",
              "    <tr>\n",
              "      <th>4</th>\n",
              "      <td>2</td>\n",
              "      <td>We'll Be Together Again [jazz1350]</td>\n",
              "      <td>Lazy Bird [jazz1350]</td>\n",
              "      <td>NaN</td>\n",
              "      <td>NaN</td>\n",
              "      <td>2.0</td>\n",
              "      <td>NaN</td>\n",
              "      <td>NaN</td>\n",
              "      <td>0.729080</td>\n",
              "      <td>NaN</td>\n",
              "      <td>NaN</td>\n",
              "      <td>1.0</td>\n",
              "    </tr>\n",
              "    <tr>\n",
              "      <th>...</th>\n",
              "      <td>...</td>\n",
              "      <td>...</td>\n",
              "      <td>...</td>\n",
              "      <td>...</td>\n",
              "      <td>...</td>\n",
              "      <td>...</td>\n",
              "      <td>...</td>\n",
              "      <td>...</td>\n",
              "      <td>...</td>\n",
              "      <td>...</td>\n",
              "      <td>...</td>\n",
              "      <td>...</td>\n",
              "    </tr>\n",
              "    <tr>\n",
              "      <th>123</th>\n",
              "      <td>67</td>\n",
              "      <td>We'll Be Together Again [jazz1350]</td>\n",
              "      <td>NaN</td>\n",
              "      <td>NaN</td>\n",
              "      <td>NaN</td>\n",
              "      <td>NaN</td>\n",
              "      <td>NaN</td>\n",
              "      <td>NaN</td>\n",
              "      <td>NaN</td>\n",
              "      <td>NaN</td>\n",
              "      <td>NaN</td>\n",
              "      <td>NaN</td>\n",
              "    </tr>\n",
              "    <tr>\n",
              "      <th>124</th>\n",
              "      <td>68</td>\n",
              "      <td>We'll Be Together Again [jazz1350]</td>\n",
              "      <td>NaN</td>\n",
              "      <td>NaN</td>\n",
              "      <td>NaN</td>\n",
              "      <td>NaN</td>\n",
              "      <td>NaN</td>\n",
              "      <td>NaN</td>\n",
              "      <td>NaN</td>\n",
              "      <td>NaN</td>\n",
              "      <td>NaN</td>\n",
              "      <td>NaN</td>\n",
              "    </tr>\n",
              "    <tr>\n",
              "      <th>125</th>\n",
              "      <td>69</td>\n",
              "      <td>We'll Be Together Again [jazz1350]</td>\n",
              "      <td>NaN</td>\n",
              "      <td>NaN</td>\n",
              "      <td>NaN</td>\n",
              "      <td>NaN</td>\n",
              "      <td>NaN</td>\n",
              "      <td>NaN</td>\n",
              "      <td>NaN</td>\n",
              "      <td>NaN</td>\n",
              "      <td>NaN</td>\n",
              "      <td>NaN</td>\n",
              "    </tr>\n",
              "    <tr>\n",
              "      <th>126</th>\n",
              "      <td>70</td>\n",
              "      <td>We'll Be Together Again [jazz1350]</td>\n",
              "      <td>NaN</td>\n",
              "      <td>NaN</td>\n",
              "      <td>NaN</td>\n",
              "      <td>NaN</td>\n",
              "      <td>NaN</td>\n",
              "      <td>NaN</td>\n",
              "      <td>NaN</td>\n",
              "      <td>NaN</td>\n",
              "      <td>NaN</td>\n",
              "      <td>NaN</td>\n",
              "    </tr>\n",
              "    <tr>\n",
              "      <th>127</th>\n",
              "      <td>71</td>\n",
              "      <td>We'll Be Together Again [jazz1350]</td>\n",
              "      <td>NaN</td>\n",
              "      <td>NaN</td>\n",
              "      <td>NaN</td>\n",
              "      <td>NaN</td>\n",
              "      <td>NaN</td>\n",
              "      <td>NaN</td>\n",
              "      <td>NaN</td>\n",
              "      <td>NaN</td>\n",
              "      <td>NaN</td>\n",
              "      <td>NaN</td>\n",
              "    </tr>\n",
              "  </tbody>\n",
              "</table>\n",
              "<p>128 rows × 12 columns</p>\n",
              "</div>"
            ],
            "text/plain": [
              "     index  ... score_div_max_tfidf\n",
              "0        0  ...                 NaN\n",
              "1        0  ...                 1.0\n",
              "2        1  ...                 1.0\n",
              "3        1  ...                 NaN\n",
              "4        2  ...                 1.0\n",
              "..     ...  ...                 ...\n",
              "123     67  ...                 NaN\n",
              "124     68  ...                 NaN\n",
              "125     69  ...                 NaN\n",
              "126     70  ...                 NaN\n",
              "127     71  ...                 NaN\n",
              "\n",
              "[128 rows x 12 columns]"
            ]
          },
          "metadata": {},
          "execution_count": 110
        }
      ]
    },
    {
      "cell_type": "code",
      "metadata": {
        "id": "ziq-dZ16Sdgg"
      },
      "source": [
        "if use_wandb:\n",
        "  table = wandb.Table(dataframe=results)\n",
        "  wandb.log({\"recommender results\": results})"
      ],
      "execution_count": 111,
      "outputs": []
    },
    {
      "cell_type": "code",
      "metadata": {
        "id": "YMUDRHkm0aMV"
      },
      "source": [
        "if use_wandb:\n",
        "  wandb.finish()"
      ],
      "execution_count": 112,
      "outputs": []
    },
    {
      "cell_type": "code",
      "metadata": {
        "id": "Vn_SFyKt0bYx"
      },
      "source": [
        ""
      ],
      "execution_count": 112,
      "outputs": []
    }
  ]
}