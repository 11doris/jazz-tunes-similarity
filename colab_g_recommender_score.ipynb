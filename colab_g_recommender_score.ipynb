{
  "nbformat": 4,
  "nbformat_minor": 0,
  "metadata": {
    "colab": {
      "name": "colab_g_recommender_score",
      "provenance": [],
      "toc_visible": true,
      "authorship_tag": "ABX9TyOnQGn9MdqtNwzxqVg3zmvP",
      "include_colab_link": true
    },
    "kernelspec": {
      "name": "python3",
      "display_name": "Python 3"
    },
    "language_info": {
      "name": "python"
    },
    "accelerator": "TPU",
    "widgets": {
      "application/vnd.jupyter.widget-state+json": {
        "3a280266f5ad453a90de5bdcb052ec97": {
          "model_module": "@jupyter-widgets/controls",
          "model_name": "VBoxModel",
          "model_module_version": "1.5.0",
          "state": {
            "_view_name": "VBoxView",
            "_dom_classes": [],
            "_model_name": "VBoxModel",
            "_view_module": "@jupyter-widgets/controls",
            "_model_module_version": "1.5.0",
            "_view_count": null,
            "_view_module_version": "1.5.0",
            "box_style": "",
            "layout": "IPY_MODEL_745dc7f1a7ae43f5b6f84bad6c623428",
            "_model_module": "@jupyter-widgets/controls",
            "children": [
              "IPY_MODEL_d5afe590ac77435582a5c1f7aaa2677f",
              "IPY_MODEL_d16453711edc4995acb07217c871f15b"
            ]
          }
        },
        "745dc7f1a7ae43f5b6f84bad6c623428": {
          "model_module": "@jupyter-widgets/base",
          "model_name": "LayoutModel",
          "model_module_version": "1.2.0",
          "state": {
            "_view_name": "LayoutView",
            "grid_template_rows": null,
            "right": null,
            "justify_content": null,
            "_view_module": "@jupyter-widgets/base",
            "overflow": null,
            "_model_module_version": "1.2.0",
            "_view_count": null,
            "flex_flow": null,
            "width": null,
            "min_width": null,
            "border": null,
            "align_items": null,
            "bottom": null,
            "_model_module": "@jupyter-widgets/base",
            "top": null,
            "grid_column": null,
            "overflow_y": null,
            "overflow_x": null,
            "grid_auto_flow": null,
            "grid_area": null,
            "grid_template_columns": null,
            "flex": null,
            "_model_name": "LayoutModel",
            "justify_items": null,
            "grid_row": null,
            "max_height": null,
            "align_content": null,
            "visibility": null,
            "align_self": null,
            "height": null,
            "min_height": null,
            "padding": null,
            "grid_auto_rows": null,
            "grid_gap": null,
            "max_width": null,
            "order": null,
            "_view_module_version": "1.2.0",
            "grid_template_areas": null,
            "object_position": null,
            "object_fit": null,
            "grid_auto_columns": null,
            "margin": null,
            "display": null,
            "left": null
          }
        },
        "d5afe590ac77435582a5c1f7aaa2677f": {
          "model_module": "@jupyter-widgets/controls",
          "model_name": "LabelModel",
          "model_module_version": "1.5.0",
          "state": {
            "_view_name": "LabelView",
            "style": "IPY_MODEL_2cefbfeb0dc4446689080e353bad01da",
            "_dom_classes": [],
            "description": "",
            "_model_name": "LabelModel",
            "placeholder": "​",
            "_view_module": "@jupyter-widgets/controls",
            "_model_module_version": "1.5.0",
            "value": " 4.36MB of 4.36MB uploaded (0.00MB deduped)\r",
            "_view_count": null,
            "_view_module_version": "1.5.0",
            "description_tooltip": null,
            "_model_module": "@jupyter-widgets/controls",
            "layout": "IPY_MODEL_d31086e96a5c4070a40967bdaab376d2"
          }
        },
        "d16453711edc4995acb07217c871f15b": {
          "model_module": "@jupyter-widgets/controls",
          "model_name": "FloatProgressModel",
          "model_module_version": "1.5.0",
          "state": {
            "_view_name": "ProgressView",
            "style": "IPY_MODEL_42befb86ea41496bafa474911f02c614",
            "_dom_classes": [],
            "description": "",
            "_model_name": "FloatProgressModel",
            "bar_style": "",
            "max": 1,
            "_view_module": "@jupyter-widgets/controls",
            "_model_module_version": "1.5.0",
            "value": 1,
            "_view_count": null,
            "_view_module_version": "1.5.0",
            "orientation": "horizontal",
            "min": 0,
            "description_tooltip": null,
            "_model_module": "@jupyter-widgets/controls",
            "layout": "IPY_MODEL_2215cb437bb946e3aff95f3a6843756e"
          }
        },
        "2cefbfeb0dc4446689080e353bad01da": {
          "model_module": "@jupyter-widgets/controls",
          "model_name": "DescriptionStyleModel",
          "model_module_version": "1.5.0",
          "state": {
            "_view_name": "StyleView",
            "_model_name": "DescriptionStyleModel",
            "description_width": "",
            "_view_module": "@jupyter-widgets/base",
            "_model_module_version": "1.5.0",
            "_view_count": null,
            "_view_module_version": "1.2.0",
            "_model_module": "@jupyter-widgets/controls"
          }
        },
        "d31086e96a5c4070a40967bdaab376d2": {
          "model_module": "@jupyter-widgets/base",
          "model_name": "LayoutModel",
          "model_module_version": "1.2.0",
          "state": {
            "_view_name": "LayoutView",
            "grid_template_rows": null,
            "right": null,
            "justify_content": null,
            "_view_module": "@jupyter-widgets/base",
            "overflow": null,
            "_model_module_version": "1.2.0",
            "_view_count": null,
            "flex_flow": null,
            "width": null,
            "min_width": null,
            "border": null,
            "align_items": null,
            "bottom": null,
            "_model_module": "@jupyter-widgets/base",
            "top": null,
            "grid_column": null,
            "overflow_y": null,
            "overflow_x": null,
            "grid_auto_flow": null,
            "grid_area": null,
            "grid_template_columns": null,
            "flex": null,
            "_model_name": "LayoutModel",
            "justify_items": null,
            "grid_row": null,
            "max_height": null,
            "align_content": null,
            "visibility": null,
            "align_self": null,
            "height": null,
            "min_height": null,
            "padding": null,
            "grid_auto_rows": null,
            "grid_gap": null,
            "max_width": null,
            "order": null,
            "_view_module_version": "1.2.0",
            "grid_template_areas": null,
            "object_position": null,
            "object_fit": null,
            "grid_auto_columns": null,
            "margin": null,
            "display": null,
            "left": null
          }
        },
        "42befb86ea41496bafa474911f02c614": {
          "model_module": "@jupyter-widgets/controls",
          "model_name": "ProgressStyleModel",
          "model_module_version": "1.5.0",
          "state": {
            "_view_name": "StyleView",
            "_model_name": "ProgressStyleModel",
            "description_width": "",
            "_view_module": "@jupyter-widgets/base",
            "_model_module_version": "1.5.0",
            "_view_count": null,
            "_view_module_version": "1.2.0",
            "bar_color": null,
            "_model_module": "@jupyter-widgets/controls"
          }
        },
        "2215cb437bb946e3aff95f3a6843756e": {
          "model_module": "@jupyter-widgets/base",
          "model_name": "LayoutModel",
          "model_module_version": "1.2.0",
          "state": {
            "_view_name": "LayoutView",
            "grid_template_rows": null,
            "right": null,
            "justify_content": null,
            "_view_module": "@jupyter-widgets/base",
            "overflow": null,
            "_model_module_version": "1.2.0",
            "_view_count": null,
            "flex_flow": null,
            "width": null,
            "min_width": null,
            "border": null,
            "align_items": null,
            "bottom": null,
            "_model_module": "@jupyter-widgets/base",
            "top": null,
            "grid_column": null,
            "overflow_y": null,
            "overflow_x": null,
            "grid_auto_flow": null,
            "grid_area": null,
            "grid_template_columns": null,
            "flex": null,
            "_model_name": "LayoutModel",
            "justify_items": null,
            "grid_row": null,
            "max_height": null,
            "align_content": null,
            "visibility": null,
            "align_self": null,
            "height": null,
            "min_height": null,
            "padding": null,
            "grid_auto_rows": null,
            "grid_gap": null,
            "max_width": null,
            "order": null,
            "_view_module_version": "1.2.0",
            "grid_template_areas": null,
            "object_position": null,
            "object_fit": null,
            "grid_auto_columns": null,
            "margin": null,
            "display": null,
            "left": null
          }
        }
      }
    }
  },
  "cells": [
    {
      "cell_type": "markdown",
      "metadata": {
        "id": "view-in-github",
        "colab_type": "text"
      },
      "source": [
        "<a href=\"https://colab.research.google.com/github/11doris/jazz-maestro/blob/colab_word_embeddings/colab_g_recommender_score.ipynb\" target=\"_parent\"><img src=\"https://colab.research.google.com/assets/colab-badge.svg\" alt=\"Open In Colab\"/></a>"
      ]
    },
    {
      "cell_type": "markdown",
      "metadata": {
        "id": "YGhakKpa8Dtf"
      },
      "source": [
        "# Sections as Input"
      ]
    },
    {
      "cell_type": "code",
      "metadata": {
        "colab": {
          "base_uri": "https://localhost:8080/"
        },
        "id": "dm5QehpXxo31",
        "outputId": "3c6c9d88-9b4f-41ad-f469-9a1bbc859818"
      },
      "source": [
        "pip install wandb"
      ],
      "execution_count": 1,
      "outputs": [
        {
          "output_type": "stream",
          "name": "stdout",
          "text": [
            "Requirement already satisfied: wandb in /usr/local/lib/python3.7/dist-packages (0.12.7)\n",
            "Requirement already satisfied: Click!=8.0.0,>=7.0 in /usr/local/lib/python3.7/dist-packages (from wandb) (7.1.2)\n",
            "Requirement already satisfied: requests<3,>=2.0.0 in /usr/local/lib/python3.7/dist-packages (from wandb) (2.23.0)\n",
            "Requirement already satisfied: six>=1.13.0 in /usr/local/lib/python3.7/dist-packages (from wandb) (1.15.0)\n",
            "Requirement already satisfied: shortuuid>=0.5.0 in /usr/local/lib/python3.7/dist-packages (from wandb) (1.0.8)\n",
            "Requirement already satisfied: configparser>=3.8.1 in /usr/local/lib/python3.7/dist-packages (from wandb) (5.1.0)\n",
            "Requirement already satisfied: pathtools in /usr/local/lib/python3.7/dist-packages (from wandb) (0.1.2)\n",
            "Requirement already satisfied: GitPython>=1.0.0 in /usr/local/lib/python3.7/dist-packages (from wandb) (3.1.24)\n",
            "Requirement already satisfied: psutil>=5.0.0 in /usr/local/lib/python3.7/dist-packages (from wandb) (5.4.8)\n",
            "Requirement already satisfied: sentry-sdk>=1.0.0 in /usr/local/lib/python3.7/dist-packages (from wandb) (1.5.0)\n",
            "Requirement already satisfied: yaspin>=1.0.0 in /usr/local/lib/python3.7/dist-packages (from wandb) (2.1.0)\n",
            "Requirement already satisfied: promise<3,>=2.0 in /usr/local/lib/python3.7/dist-packages (from wandb) (2.3)\n",
            "Requirement already satisfied: subprocess32>=3.5.3 in /usr/local/lib/python3.7/dist-packages (from wandb) (3.5.4)\n",
            "Requirement already satisfied: docker-pycreds>=0.4.0 in /usr/local/lib/python3.7/dist-packages (from wandb) (0.4.0)\n",
            "Requirement already satisfied: protobuf>=3.12.0 in /usr/local/lib/python3.7/dist-packages (from wandb) (3.17.3)\n",
            "Requirement already satisfied: PyYAML in /usr/local/lib/python3.7/dist-packages (from wandb) (3.13)\n",
            "Requirement already satisfied: python-dateutil>=2.6.1 in /usr/local/lib/python3.7/dist-packages (from wandb) (2.8.2)\n",
            "Requirement already satisfied: gitdb<5,>=4.0.1 in /usr/local/lib/python3.7/dist-packages (from GitPython>=1.0.0->wandb) (4.0.9)\n",
            "Requirement already satisfied: typing-extensions>=3.7.4.3 in /usr/local/lib/python3.7/dist-packages (from GitPython>=1.0.0->wandb) (3.10.0.2)\n",
            "Requirement already satisfied: smmap<6,>=3.0.1 in /usr/local/lib/python3.7/dist-packages (from gitdb<5,>=4.0.1->GitPython>=1.0.0->wandb) (5.0.0)\n",
            "Requirement already satisfied: chardet<4,>=3.0.2 in /usr/local/lib/python3.7/dist-packages (from requests<3,>=2.0.0->wandb) (3.0.4)\n",
            "Requirement already satisfied: certifi>=2017.4.17 in /usr/local/lib/python3.7/dist-packages (from requests<3,>=2.0.0->wandb) (2021.10.8)\n",
            "Requirement already satisfied: urllib3!=1.25.0,!=1.25.1,<1.26,>=1.21.1 in /usr/local/lib/python3.7/dist-packages (from requests<3,>=2.0.0->wandb) (1.24.3)\n",
            "Requirement already satisfied: idna<3,>=2.5 in /usr/local/lib/python3.7/dist-packages (from requests<3,>=2.0.0->wandb) (2.10)\n",
            "Requirement already satisfied: termcolor<2.0.0,>=1.1.0 in /usr/local/lib/python3.7/dist-packages (from yaspin>=1.0.0->wandb) (1.1.0)\n"
          ]
        }
      ]
    },
    {
      "cell_type": "code",
      "metadata": {
        "colab": {
          "base_uri": "https://localhost:8080/"
        },
        "id": "HZG8BDT-xrv3",
        "outputId": "6749a395-1d51-439e-ae41-1e9ed4be9e4a"
      },
      "source": [
        "!wandb login"
      ],
      "execution_count": 2,
      "outputs": [
        {
          "output_type": "stream",
          "name": "stdout",
          "text": [
            "\u001b[34m\u001b[1mwandb\u001b[0m: Currently logged in as: \u001b[33mdoris\u001b[0m (use `wandb login --relogin` to force relogin)\n"
          ]
        }
      ]
    },
    {
      "cell_type": "code",
      "metadata": {
        "id": "WHZBzAXjxz1J"
      },
      "source": [
        "import wandb"
      ],
      "execution_count": 3,
      "outputs": []
    },
    {
      "cell_type": "code",
      "metadata": {
        "colab": {
          "base_uri": "https://localhost:8080/"
        },
        "id": "MUy1ta4_782n",
        "outputId": "f91568d6-fe7b-4803-f881-ca58337d35e4"
      },
      "source": [
        "!pip uninstall gensim -y"
      ],
      "execution_count": 4,
      "outputs": [
        {
          "output_type": "stream",
          "name": "stdout",
          "text": [
            "Found existing installation: gensim 4.1.2\n",
            "Uninstalling gensim-4.1.2:\n",
            "  Successfully uninstalled gensim-4.1.2\n"
          ]
        }
      ]
    },
    {
      "cell_type": "code",
      "metadata": {
        "colab": {
          "base_uri": "https://localhost:8080/"
        },
        "id": "oAroxmvO8GQj",
        "outputId": "657e8a62-7b53-4535-e1ba-0a441ee3f6d8"
      },
      "source": [
        "!pip install gensim"
      ],
      "execution_count": 5,
      "outputs": [
        {
          "output_type": "stream",
          "name": "stdout",
          "text": [
            "Collecting gensim\n",
            "  Using cached gensim-4.1.2-cp37-cp37m-manylinux_2_12_x86_64.manylinux2010_x86_64.whl (24.1 MB)\n",
            "Requirement already satisfied: numpy>=1.17.0 in /usr/local/lib/python3.7/dist-packages (from gensim) (1.19.5)\n",
            "Requirement already satisfied: smart-open>=1.8.1 in /usr/local/lib/python3.7/dist-packages (from gensim) (5.2.1)\n",
            "Requirement already satisfied: scipy>=0.18.1 in /usr/local/lib/python3.7/dist-packages (from gensim) (1.4.1)\n",
            "Installing collected packages: gensim\n",
            "Successfully installed gensim-4.1.2\n"
          ]
        }
      ]
    },
    {
      "cell_type": "code",
      "metadata": {
        "id": "6SZ0zrKX8H-D"
      },
      "source": [
        "import gensim\n",
        "from sklearn.manifold import TSNE\n",
        "import matplotlib.pyplot as plt\n",
        "import pprint\n",
        "import pandas as pd\n",
        "import numpy as np\n",
        "from collections import Counter\n",
        "import plotly.express as px\n",
        "from tqdm import tqdm \n",
        "from gensim.models.doc2vec import Doc2Vec\n",
        "from gensim.models.tfidfmodel import TfidfModel\n",
        "from gensim.models.lsimodel import LsiModel\n",
        "from gensim.models import CoherenceModel\n",
        "from gensim import corpora\n",
        "from gensim import similarities\n",
        "import pickle\n",
        "import os"
      ],
      "execution_count": 6,
      "outputs": []
    },
    {
      "cell_type": "code",
      "metadata": {
        "id": "znWar-PK8KHT"
      },
      "source": [
        "import logging\n",
        "logging.basicConfig(format='%(asctime)s : %(levelname)s : %(message)s', level=logging.INFO)"
      ],
      "execution_count": 7,
      "outputs": []
    },
    {
      "cell_type": "code",
      "metadata": {
        "colab": {
          "base_uri": "https://localhost:8080/"
        },
        "id": "kjCf_Abf8MCc",
        "outputId": "96fa9e22-384d-4c37-8b4c-ecbdb5652acf"
      },
      "source": [
        "print(gensim.__version__)"
      ],
      "execution_count": 8,
      "outputs": [
        {
          "output_type": "stream",
          "name": "stdout",
          "text": [
            "4.1.2\n"
          ]
        }
      ]
    },
    {
      "cell_type": "code",
      "metadata": {
        "id": "_aEonlx-CT6r"
      },
      "source": [
        "!rm data.csv"
      ],
      "execution_count": 9,
      "outputs": []
    },
    {
      "cell_type": "markdown",
      "metadata": {
        "id": "Nk5pPZqk0Pn7"
      },
      "source": [
        "# Configuration\n"
      ]
    },
    {
      "cell_type": "code",
      "metadata": {
        "id": "wcZ18xhgU7MZ"
      },
      "source": [
        "use_wandb = True"
      ],
      "execution_count": 10,
      "outputs": []
    },
    {
      "cell_type": "code",
      "metadata": {
        "id": "A-AD1gxGLYxp"
      },
      "source": [
        "generate_webapp_data = False"
      ],
      "execution_count": 11,
      "outputs": []
    },
    {
      "cell_type": "code",
      "metadata": {
        "id": "GfQbJQmexlxI"
      },
      "source": [
        "chords_repeated = 'rep' \n",
        "chords_preprocessing = 'rootAndDegreesPlus'"
      ],
      "execution_count": 12,
      "outputs": []
    },
    {
      "cell_type": "code",
      "metadata": {
        "id": "buoyWNl0F48Y"
      },
      "source": [
        "ngrams_for_input = [2]"
      ],
      "execution_count": 13,
      "outputs": []
    },
    {
      "cell_type": "code",
      "metadata": {
        "id": "K7qB2_sBvKpB"
      },
      "source": [
        "input_files = {\n",
        "    'sections': {\n",
        "        'rep': {\n",
        "            # M7 and 6 reduced to major triad, m7 reduced to m, dominant 7, m7b5, diminished, and all (b5) left as they are.\n",
        "            'rootAndDegreesPlus': '1BDYukaIj72jmi9PqZVrCAqKbyxg8Z4yq',\n",
        "            'rootAndDegrees7': '',\n",
        "            'rootAndDegreesSimplified': ''\n",
        "        },\n",
        "    },\n",
        "    'tunes': {\n",
        "        'rep': {\n",
        "            'rootAndDegreesPlus': '',\n",
        "            'rootAndDegrees7': '',\n",
        "            'rootAndDegreesSimplified': '',\n",
        "        },\n",
        "        'norep': {\n",
        "            'rootAndDegreesPlus': '',\n",
        "            'rootAndDegrees7': '',\n",
        "            'rootAndDegreesSimplified': '',\n",
        "        }\n",
        "    }\n",
        "}"
      ],
      "execution_count": 14,
      "outputs": []
    },
    {
      "cell_type": "code",
      "metadata": {
        "colab": {
          "base_uri": "https://localhost:8080/"
        },
        "id": "lM6eaQwnyWD3",
        "outputId": "3d9e3669-9716-471a-86ca-f96ea84d7e55"
      },
      "source": [
        "tunes_eval_list = [\n",
        "  \"Sweet Sue, Just You [jazz1350]\",\n",
        "  \"These Foolish Things [jazz1350]\", \n",
        "  \"Blue Moon [jazz1350]\",\n",
        "  \"All Of Me [jazz1350]\",\n",
        "  \"All God's Chillun Got Rhythm [jazz1350]\",\n",
        "  \"I Got Rhythm [jazz1350]\",\n",
        "  \"Bye Bye Blackbird [jazz1350]\",\n",
        "  \"Old Fashioned Love [trad]\",\n",
        "  \"Dinah [jazz1350]\",\n",
        "  \"Honeysuckle Rose [jazz1350]\",\n",
        "  \"Misty [jazz1350]\",\n",
        "  \"We'll Be Together Again [jazz1350]\",\n",
        "  \"East Of The Sun [jazz1350]\",\n",
        "  \"Sophisticated Lady [jazz1350]\",\n",
        "  \"Perdido [jazz1350]\",\n",
        "  \"Naima [jazz1350]\",\n",
        "  \"Call Me Irresponsible [jazz1350]\",\n",
        "  \"Corcovado [jazz1350]\",\n",
        "  \"Footprints [jazz1350]\",\n",
        "  \"Giant Steps [jazz1350]\",\n",
        "  \"But Beautiful [jazz1350]\",\n",
        "  \"Rockin' Chair [jazz1350]\",\n",
        "  \"Blood Count [jazz1350]\",\n",
        "  \"After You've Gone [jazz1350]\",\n",
        "]\n",
        "\n",
        "tunes_eval_list = sorted(tunes_eval_list)\n",
        "tunes_eval_list"
      ],
      "execution_count": 15,
      "outputs": [
        {
          "output_type": "execute_result",
          "data": {
            "text/plain": [
              "[\"After You've Gone [jazz1350]\",\n",
              " \"All God's Chillun Got Rhythm [jazz1350]\",\n",
              " 'All Of Me [jazz1350]',\n",
              " 'Blood Count [jazz1350]',\n",
              " 'Blue Moon [jazz1350]',\n",
              " 'But Beautiful [jazz1350]',\n",
              " 'Bye Bye Blackbird [jazz1350]',\n",
              " 'Call Me Irresponsible [jazz1350]',\n",
              " 'Corcovado [jazz1350]',\n",
              " 'Dinah [jazz1350]',\n",
              " 'East Of The Sun [jazz1350]',\n",
              " 'Footprints [jazz1350]',\n",
              " 'Giant Steps [jazz1350]',\n",
              " 'Honeysuckle Rose [jazz1350]',\n",
              " 'I Got Rhythm [jazz1350]',\n",
              " 'Misty [jazz1350]',\n",
              " 'Naima [jazz1350]',\n",
              " 'Old Fashioned Love [trad]',\n",
              " 'Perdido [jazz1350]',\n",
              " \"Rockin' Chair [jazz1350]\",\n",
              " 'Sophisticated Lady [jazz1350]',\n",
              " 'Sweet Sue, Just You [jazz1350]',\n",
              " 'These Foolish Things [jazz1350]',\n",
              " \"We'll Be Together Again [jazz1350]\"]"
            ]
          },
          "metadata": {},
          "execution_count": 15
        }
      ]
    },
    {
      "cell_type": "code",
      "metadata": {
        "id": "uiI0h4ef0PCD"
      },
      "source": [
        "contrafacts = [\n",
        "               (\"26-2 [jazz1350]\", \"Confirmation [jazz1350]\"),\n",
        "               (\"52nd Street Theme [jazz1350]\", \"I Got Rhythm [jazz1350]\"),\n",
        "               (\"Ablution [jazz1350]\", \"All The Things You Are [jazz1350]\"),\n",
        "               (\"Anthropology [jazz1350]\", \"I Got Rhythm [jazz1350]\"),\n",
        "               (\"Ballade [jazz1350]\", \"As Long As I Live [jazz1350]\"),\n",
        "               (\"Bright Mississippi [jazz1350]\", \"Sweet Georgia Brown [jazz1350]\"),\n",
        "               (\"C.T.A. [jazz1350]\", \"I Got Rhythm [jazz1350]\"),\n",
        "               #( \"Celia [jazz1350]\", \"I Got Rhythm [jazz1350]\"),\n",
        "               (\"Cottontail [jazz1350]\", \"I Got Rhythm [jazz1350]\"),\n",
        "               (\"Countdown [jazz1350]\", \"Tune Up [jazz1350]\"),\n",
        "               (\"Dewey Square [jazz1350]\", \"Oh, Lady Be Good [jazz1350]\"),\n",
        "               (\"Dexterity [jazz1350]\", \"I Got Rhythm [jazz1350]\"),\n",
        "               (\"Dig [jazz1350]\", \"Sweet Georgia Brown [jazz1350]\"),\n",
        "               (\"Donna Lee [jazz1350]\", \"Indiana (Back Home Again In) [jazz1350]\"),\n",
        "               (\"Don't Be That Way [jazz1350]\", \"I Got Rhythm [jazz1350]\"),\n",
        "               #(\"Eternal Triangle [jazz1350]\", \"I Got Rhythm [jazz1350]\"),\n",
        "               (\"Evidence [jazz1350]\", \"Just You, Just Me [jazz1350]\"),\n",
        "               (\"Flintstones [jazz1350]\", \"I Got Rhythm [jazz1350]\"),\n",
        "               (\"Four On Six [jazz1350]\", \"Summertime [jazz1350]\"),\n",
        "               (\"Freight Train [jazz1350]\", \"Blues For Alice [jazz1350]\"),\n",
        "               (\"Good Bait [jazz1350]\", \"I Got Rhythm [jazz1350]\"),\n",
        "               (\"Hackensack [jazz1350]\", \"Oh, Lady Be Good [jazz1350]\"),\n",
        "               (\"Half Nelson [jazz1350]\", \"Lady Bird [jazz1350]\"),\n",
        "               (\"Hot House [jazz1350]\", \"What Is This Thing Called Love [jazz1350]\"),\n",
        "               (\"Impressions [jazz1350]\", \"So What [jazz1350]\"),\n",
        "               (\"In A Mellow Tone (In A Mellotone) [jazz1350]\", \"Rose Room [jazz1350]\"),\n",
        "               (\"In Walked Bud [jazz1350]\", \"Blue Skies [jazz1350]\"),\n",
        "               (\"Ko Ko [jazz1350]\", \"Cherokee [jazz1350]\"),\n",
        "               (\"Lennie's Pennies [jazz1350]\", \"Pennies From Heaven [jazz1350]\"),   ## Lennie's Pennies is in minor and therefore transposed to Amin... not possible to recognize like that\n",
        "               #( \"Let's Call This [jazz1350]\", \"Honeysuckle Rose [jazz1350]\"),\n",
        "               (\"Little Rootie Tootie [jazz1350]\", \"I Got Rhythm [jazz1350]\"),\n",
        "               (\"Little Willie Leaps [jazz1350]\", \"All God's Chillun Got Rhythm [jazz1350]\"),\n",
        "               (\"Lullaby Of Birdland [jazz1350]\", \"Love Me Or Leave Me [jazz1350]\"),\n",
        "               #(\"Moose The Mooche [jazz1350]\", \"I Got Rhythm [jazz1350]\"),\n",
        "               (\"My Little Suede Shoes [jazz1350]\", \"Jeepers Creepers [jazz1350]\"),\n",
        "               #(\"Oleo [jazz1350]\", \"I Got Rhythm [jazz1350]\"),\n",
        "               (\"Ornithology [jazz1350]\", \"How High The Moon [jazz1350]\"),\n",
        "               #(\"Passport [jazz1350]\", \"I Got Rhythm [jazz1350]\"),\n",
        "               (\"Quasimodo (Theme) [jazz1350]\", \"Embraceable You [jazz1350]\"),\n",
        "               #(\"Rhythm-a-ning [jazz1350]\", \"I Got Rhythm [jazz1350]\"),\n",
        "               (\"Room 608 [jazz1350]\", \"I Got Rhythm [jazz1350]\"),\n",
        "               #(\"Salt Peanuts [jazz1350]\", \"I Got Rhythm [jazz1350]\"),\n",
        "               (\"Satellite [jazz1350]\", \"How High The Moon [jazz1350]\"),\n",
        "               (\"Scrapple From The Apple [jazz1350]\", \"Honeysuckle Rose [jazz1350]\"), # A section\n",
        "               (\"Scrapple From The Apple [jazz1350]\", \"I Got Rhythm [jazz1350]\"), # B section\n",
        "               #(\"Segment [jazz1350]\", \"I Got Rhythm [jazz1350]\"),\n",
        "               #(\"Seven Come Eleven [jazz1350]\", \"I Got Rhythm [jazz1350]\"),\n",
        "               #(\"Shaw 'Nuff [jazz1350]\", \"I Got Rhythm [jazz1350]\"),\n",
        "               #(\"Theme, The [jazz1350]\", \"I Got Rhythm [jazz1350]\"),\n",
        "               (\"Tour De Force [jazz1350]\", \"Jeepers Creepers [jazz1350]\"),\n",
        "               (\"Wow [jazz1350]\", \"You Can Depend On Me [jazz1350]\"),\n",
        "               (\"Yardbird Suite [jazz1350]\", \"Rosetta [jazz1350]\"),\n",
        "\n",
        "               # following tunes are not from wikipedia),\n",
        "               (\"Sweet Sue, Just You [jazz1350]\", \"Honeysuckle Rose [jazz1350]\"),  # A section\n",
        "               #(\"All Of Me [jazz1350]\", \"Pennies From Heaven [jazz1350]\"), # bars 25-28 of All of Me are same as bars 17-20 of Pennies From Heaven, but different key!\n",
        "               (\"Sweet Sue, Just You [jazz1350]\", \"Bye Bye Blackbird [jazz1350]\"), # Bridge same\n",
        "               (\"These Foolish Things [jazz1350]\", \"Blue Moon [jazz1350]\"), # first 8 bars same\n",
        "               (\"These Foolish Things [jazz1350]\", \"More Than You Know [jazz1350]\"),\n",
        "               (\"These Foolish Things [jazz1350]\", \"Isn't It A Pity [jazz1350]\"),\n",
        "               (\"These Foolish Things [jazz1350]\", \"Soultrain [jazz1350]\"),\n",
        "               (\"These Foolish Things [jazz1350]\", \"Why Do I Love You [jazz1350]\"),\n",
        "               (\"Misty [jazz1350]\", \"Portrait Of Jennie [jazz1350]\"),\n",
        "               (\"Misty [jazz1350]\", \"September In The Rain [jazz1350]\"),\n",
        "               (\"Misty [jazz1350]\", \"I May Be Wrong [jazz1350]\"),  \n",
        "\n",
        "               # identical tunes\n",
        "               (\"Five Foot Two [trad]\", \"Please Don't Talk About Me When I'm Gone [trad]\"),\n",
        "               (\"What Is This Thing Called Love [jazz1350]\", \"Subconscious Lee [jazz1350]\"),\n",
        "               (\"Sweet Georgia Brown [jazz1350]\", \"Dig [jazz1350]\"),\n",
        "\n",
        "\n",
        "               # almost identical tunes\n",
        "               (\"What Is This Thing Called Love [jazz1350]\", \"Hot House [jazz1350]\"),\n",
        "               (\"Jeannie's Song [jazz1350]\", \"Shiny Stockings [jazz1350]\"),\n",
        "               (\"Alone Together [jazz1350]\", \"Segment [jazz1350]\"),\n",
        "               (\"Baubles, Bangles and Beads [jazz1350]\", \"Bossa Antigua [jazz1350]\"),\n",
        "               (\"There Will Never Be Another You [jazz1350]\", \"A Weaver Of Dreams [jazz1350]\"),\n",
        "               (\"Moten Swing [jazz1350]\", \"Once In A While (Ballad) [trad]\"), # same bridge, similar A\n",
        "               (\"All I Do Is Dream Of You [trad]\", \"L-O-V-E [jazz1350]\"),\n",
        "\n",
        "\n",
        "               # same A section\n",
        "               (\"Nancy (With The Laughing Face) [jazz1350]\", \"Body And Soul [jazz1350]\"),\n",
        "               (\"Exactly Like You [jazz1350]\", \"True (You Don't Love Me ) [trad]\"),\n",
        "               (\"Exactly Like You [jazz1350]\", \"True (You Don't Love Me ) [trad]\"),\n",
        "               (\"Exactly Like You [jazz1350]\", \"Jersey Bounce [trad]\"),\n",
        "               (\"Take The A Train [jazz1350]\", \"Girl From Ipanema, The [jazz1350]\"),\n",
        "               (\"My Heart Stood Still [jazz1350]\", \"All Too Soon [jazz1350]\"),\n",
        "               (\"Undecided [trad]\", \"Broadway [jazz1350]\"),\n",
        "               (\"My Heart Stood Still [jazz1350]\", \"All Too Soon [jazz1350]\"),\n",
        "               (\"Let's Fall In Love [jazz1350]\", \"Heart And Soul [jazz1350]\"),\n",
        "               (\"Come Back To Me [jazz1350]\", \"I Wish I Knew [jazz1350]\"),\n",
        "               (\"Wait Till You See Her [jazz1350]\", \"A Certain Smile [jazz1350]\"),\n",
        "               (\"Killer Joe [jazz1350]\", \"Straight Life [jazz1350]\"),\n",
        "               (\"Softly, As In A Morning Sunrise [jazz1350]\", \"Segment [jazz1350]\"),\n",
        "               (\"Bei Mir Bist Du Schon (Root Hog Or Die) [trad]\", \"Egyptian Fantasy [trad]\"),\n",
        "               (\"Bei Mir Bist Du Schon (Root Hog Or Die) [trad]\", \"Puttin' On The Ritz [jazz1350]\"),\n",
        "               (\"Coquette [trad]\", \"Pretend You're Happy When You're Blue [trad]\"),\n",
        "               (\"Softly, As In A Morning Sunrise [jazz1350]\", \"Strode Rode [jazz1350]\"),\n",
        "               (\"Glory Of Love, The [jazz1350]\", \"I've Got My Fingers Crossed [trad]\"),\n",
        "\n",
        "\n",
        "               # same bridge\n",
        "               (\"If I Had You [jazz1350]\", \"Too Young To Go Steady [jazz1350]\"),\n",
        "               (\"Undecided [jazz1350]\", \"Satin Doll [jazz1350]\"),\n",
        "               (\"Billy Boy [jazz1350]\", \"Elora [jazz1350]\"),\n",
        "               (\"Dearly Beloved [jazz1350]\", \"We See [jazz1350]\"),\n",
        "               (\"Alone Together [jazz1350]\", \"A Night In Tunisia [jazz1350]\"),\n",
        "               (\"A Night In Tunisia [jazz1350]\", \"Segment [jazz1350]\"),\n",
        "               (\"Oh! Lady Be Good [trad]\", \"Sentimental Journey [jazz1350]\"),\n",
        "               (\"You Can Depend On Me [jazz1350]\", \"Move [jazz1350]\"),\n",
        "               (\"I Want To Be Happy [jazz1350]\", \"A Beautiful Friendship [jazz1350]\"),\n",
        "               (\"Flying Home [jazz1350]\", \"Down For Double [jazz1350]\"),\n",
        "               (\"Cheek To Cheek [jazz1350]\", \"Violets For Your Furs [jazz1350]\"),\n",
        "               (\"Let's Fall In Love [jazz1350]\", \"At Last [jazz1350]\"),\n",
        "               (\"Don't Be That Way [jazz1350]\", \"Long Ago And Far Away [jazz1350]\"),\n",
        "               (\"On The Sunny Side Of The Street [jazz1350]\", \"I'm Confessin' That I Love You [jazz1350]\"),\n",
        "               (\"On The Sunny Side Of The Street [jazz1350]\", \"Eclypso [jazz1350]\"),\n",
        "               (\"On The Sunny Side Of The Street [jazz1350]\", \"You Stepped Out Of A Dream [jazz1350]\"),\n",
        "               \n",
        "\n",
        "               # similar A section\n",
        "               (\"I Like The Likes Of You [jazz1350]\", \"Mountain Greenery [jazz1350]\"),\n",
        "               (\"My Secret Love [jazz1350]\", \"Samba De Orfeu [jazz1350]\"),\n",
        "               (\"Let's Call The Whole Thing Off [jazz1350]\", \"Fine And Dandy [jazz1350]\"),\n",
        "\n",
        "\n",
        "               # similar B section\n",
        "               (\"Folks Who Live On The Hill, The [jazz1350]\", \"My One And Only Love [jazz1350]\"),\n",
        "               (\"As Long As I Live [jazz1350]\", \"I'm Glad There Is You [jazz1350]\"),\n",
        "               (\"I May Be Wrong [jazz1350]\", \"Teach Me Tonight [jazz1350]\"),\n",
        "               (\"Am I Blue [jazz1350]\", \"Come Back To Me [jazz1350]\"),\n",
        "               (\"My One And Only Love [jazz1350]\", \"Am I Blue [jazz1350]\"),\n",
        "               (\"On The Sunny Side Of The Street [jazz1350]\", \"September In The Rain [jazz1350]\"),\n",
        "               (\"On The Sunny Side Of The Street [jazz1350]\", \"Mountain Greenery [jazz1350]\"),\n",
        "               (\"On The Sunny Side Of The Street [jazz1350]\", \"There's No You [jazz1350]\"),\n",
        "\n",
        "               # same C section\n",
        "               (\"Bill Bailey [jazz1350]\", \"Bourbon Street Parade [jazz1350]\"),\n",
        "\n",
        "               # Stella C is like Woody B\n",
        "               (\"Woody'n You [jazz1350]\", \"Stella By Starlight [jazz1350]\"),\n",
        "\n",
        "               # similar vocabulary, different progressions\n",
        "               (\"Tangerine [jazz1350]\", \"Tea For Two [jazz1350]\"),\n",
        "               (\"I Can't Give You Anything But Love [jazz1350]\", \"You Can Depend On Me [jazz1350]\"),\n",
        "               (\"This Year's Kisses [jazz1350]\", \"My Monday Date [trad]\"),\n",
        "               (\"A Blossom Fell [jazz1350]\", \"Among My Souvenirs [jazz1350]\"),\n",
        "\n",
        "\n",
        "\n",
        "]"
      ],
      "execution_count": 16,
      "outputs": []
    },
    {
      "cell_type": "markdown",
      "metadata": {
        "id": "gcexO7zK8Pn6"
      },
      "source": [
        "# Initialization\n",
        "\n",
        "## Download the Data"
      ]
    },
    {
      "cell_type": "code",
      "metadata": {
        "id": "JwVJo3Vat8iF"
      },
      "source": [
        "input_data = input_files['sections'][chords_repeated][chords_preprocessing]\n",
        "\n",
        "input_path = f\"https://docs.google.com/uc?export=download&id={input_data}\"\n",
        "data_file_name = 'data.csv'\n"
      ],
      "execution_count": 17,
      "outputs": []
    },
    {
      "cell_type": "code",
      "metadata": {
        "colab": {
          "base_uri": "https://localhost:8080/",
          "height": 36
        },
        "id": "_Dp-fijjB-pU",
        "outputId": "e4b98d07-5687-4697-d8da-8f8868ec0b0f"
      },
      "source": [
        "input_path"
      ],
      "execution_count": 18,
      "outputs": [
        {
          "output_type": "execute_result",
          "data": {
            "application/vnd.google.colaboratory.intrinsic+json": {
              "type": "string"
            },
            "text/plain": [
              "'https://docs.google.com/uc?export=download&id=1BDYukaIj72jmi9PqZVrCAqKbyxg8Z4yq'"
            ]
          },
          "metadata": {},
          "execution_count": 18
        }
      ]
    },
    {
      "cell_type": "code",
      "metadata": {
        "colab": {
          "base_uri": "https://localhost:8080/"
        },
        "id": "1ZVAYUH5t9Li",
        "outputId": "766de6c0-7051-4e4d-a729-697b08f90820"
      },
      "source": [
        "!wget --no-check-certificate \"$input_path\" -O \"$data_file_name\""
      ],
      "execution_count": 19,
      "outputs": [
        {
          "output_type": "stream",
          "name": "stdout",
          "text": [
            "--2021-11-28 10:01:27--  https://docs.google.com/uc?export=download&id=1BDYukaIj72jmi9PqZVrCAqKbyxg8Z4yq\n",
            "Resolving docs.google.com (docs.google.com)... 209.85.145.113, 209.85.145.100, 209.85.145.102, ...\n",
            "Connecting to docs.google.com (docs.google.com)|209.85.145.113|:443... connected.\n",
            "HTTP request sent, awaiting response... 302 Moved Temporarily\n",
            "Location: https://doc-0k-4c-docs.googleusercontent.com/docs/securesc/ha0ro937gcuc7l7deffksulhg5h7mbp1/u0cfk9g1l4j83k18a9l7n92l6usbnsin/1638093675000/14329102864480165501/*/1BDYukaIj72jmi9PqZVrCAqKbyxg8Z4yq?e=download [following]\n",
            "Warning: wildcards not supported in HTTP.\n",
            "--2021-11-28 10:01:27--  https://doc-0k-4c-docs.googleusercontent.com/docs/securesc/ha0ro937gcuc7l7deffksulhg5h7mbp1/u0cfk9g1l4j83k18a9l7n92l6usbnsin/1638093675000/14329102864480165501/*/1BDYukaIj72jmi9PqZVrCAqKbyxg8Z4yq?e=download\n",
            "Resolving doc-0k-4c-docs.googleusercontent.com (doc-0k-4c-docs.googleusercontent.com)... 173.194.193.132, 2607:f8b0:4001:c0f::84\n",
            "Connecting to doc-0k-4c-docs.googleusercontent.com (doc-0k-4c-docs.googleusercontent.com)|173.194.193.132|:443... connected.\n",
            "HTTP request sent, awaiting response... 200 OK\n",
            "Length: 813814 (795K) [text/csv]\n",
            "Saving to: ‘data.csv’\n",
            "\n",
            "data.csv            100%[===================>] 794.74K  --.-KB/s    in 0.007s  \n",
            "\n",
            "2021-11-28 10:01:28 (111 MB/s) - ‘data.csv’ saved [813814/813814]\n",
            "\n"
          ]
        }
      ]
    },
    {
      "cell_type": "markdown",
      "metadata": {
        "id": "Ljs21B7h8YvC"
      },
      "source": [
        "### Read Chords Input Data"
      ]
    },
    {
      "cell_type": "code",
      "metadata": {
        "colab": {
          "base_uri": "https://localhost:8080/",
          "height": 310
        },
        "id": "B7kK418L8aac",
        "outputId": "1e49d119-5495-40a5-fef3-bb218dc4ffc4"
      },
      "source": [
        "df = pd.read_csv(data_file_name, sep='\\t', index_col=\"id\")\n",
        "df = df.reset_index()\n",
        "df.head(5)"
      ],
      "execution_count": 20,
      "outputs": [
        {
          "output_type": "execute_result",
          "data": {
            "text/html": [
              "<div>\n",
              "<style scoped>\n",
              "    .dataframe tbody tr th:only-of-type {\n",
              "        vertical-align: middle;\n",
              "    }\n",
              "\n",
              "    .dataframe tbody tr th {\n",
              "        vertical-align: top;\n",
              "    }\n",
              "\n",
              "    .dataframe thead th {\n",
              "        text-align: right;\n",
              "    }\n",
              "</style>\n",
              "<table border=\"1\" class=\"dataframe\">\n",
              "  <thead>\n",
              "    <tr style=\"text-align: right;\">\n",
              "      <th></th>\n",
              "      <th>id</th>\n",
              "      <th>file_name</th>\n",
              "      <th>title</th>\n",
              "      <th>title_playlist</th>\n",
              "      <th>tune_mode</th>\n",
              "      <th>tune_id</th>\n",
              "      <th>section_name</th>\n",
              "      <th>section_id</th>\n",
              "      <th>chords</th>\n",
              "    </tr>\n",
              "  </thead>\n",
              "  <tbody>\n",
              "    <tr>\n",
              "      <th>0</th>\n",
              "      <td>0</td>\n",
              "      <td>dataset/jazz1350/26-2.xml</td>\n",
              "      <td>26-2</td>\n",
              "      <td>26-2 [jazz1350]</td>\n",
              "      <td>major</td>\n",
              "      <td>0</td>\n",
              "      <td>A</td>\n",
              "      <td>1</td>\n",
              "      <td>C Eb7 G# B7 E G7 Gm C7 F G#7 C# E7 Am D7 Dm G7</td>\n",
              "    </tr>\n",
              "    <tr>\n",
              "      <th>1</th>\n",
              "      <td>1</td>\n",
              "      <td>dataset/jazz1350/26-2.xml</td>\n",
              "      <td>26-2</td>\n",
              "      <td>26-2 [jazz1350]</td>\n",
              "      <td>major</td>\n",
              "      <td>0</td>\n",
              "      <td>A</td>\n",
              "      <td>2</td>\n",
              "      <td>C Eb7 G# B7 E G7 Gm C7 F Eb7 G# B7 E G7 C</td>\n",
              "    </tr>\n",
              "    <tr>\n",
              "      <th>2</th>\n",
              "      <td>2</td>\n",
              "      <td>dataset/jazz1350/26-2.xml</td>\n",
              "      <td>26-2</td>\n",
              "      <td>26-2 [jazz1350]</td>\n",
              "      <td>major</td>\n",
              "      <td>0</td>\n",
              "      <td>B</td>\n",
              "      <td>3</td>\n",
              "      <td>Gm C7 Bm E7 A C7 F Bbm Eb7 G# Dm G7</td>\n",
              "    </tr>\n",
              "    <tr>\n",
              "      <th>3</th>\n",
              "      <td>3</td>\n",
              "      <td>dataset/jazz1350/26-2.xml</td>\n",
              "      <td>26-2</td>\n",
              "      <td>26-2 [jazz1350]</td>\n",
              "      <td>major</td>\n",
              "      <td>0</td>\n",
              "      <td>A</td>\n",
              "      <td>4</td>\n",
              "      <td>C Eb7 G# B7 E G7 Gm C7 F Eb7 G# B7 E G7 C</td>\n",
              "    </tr>\n",
              "    <tr>\n",
              "      <th>4</th>\n",
              "      <td>4</td>\n",
              "      <td>dataset/jazz1350/500 Miles High.xml</td>\n",
              "      <td>500 Miles High</td>\n",
              "      <td>500 Miles High [jazz1350]</td>\n",
              "      <td>minor</td>\n",
              "      <td>1</td>\n",
              "      <td>NaN</td>\n",
              "      <td>0</td>\n",
              "      <td>Am Am Cm Cm Eb Eb Em7b5 A7 Dm Dm Bm7b5 Bm7b5 B...</td>\n",
              "    </tr>\n",
              "  </tbody>\n",
              "</table>\n",
              "</div>"
            ],
            "text/plain": [
              "   id  ...                                             chords\n",
              "0   0  ...     C Eb7 G# B7 E G7 Gm C7 F G#7 C# E7 Am D7 Dm G7\n",
              "1   1  ...          C Eb7 G# B7 E G7 Gm C7 F Eb7 G# B7 E G7 C\n",
              "2   2  ...                Gm C7 Bm E7 A C7 F Bbm Eb7 G# Dm G7\n",
              "3   3  ...          C Eb7 G# B7 E G7 Gm C7 F Eb7 G# B7 E G7 C\n",
              "4   4  ...  Am Am Cm Cm Eb Eb Em7b5 A7 Dm Dm Bm7b5 Bm7b5 B...\n",
              "\n",
              "[5 rows x 9 columns]"
            ]
          },
          "metadata": {},
          "execution_count": 20
        }
      ]
    },
    {
      "cell_type": "markdown",
      "metadata": {
        "id": "OsPcEFbg8gu6"
      },
      "source": [
        "### Meta Data"
      ]
    },
    {
      "cell_type": "code",
      "metadata": {
        "colab": {
          "base_uri": "https://localhost:8080/",
          "height": 206
        },
        "id": "_62YlEVJXOCL",
        "outputId": "ec5a3446-06c7-4969-edb2-54b998f530a3"
      },
      "source": [
        "titles = df.loc[:, ['id', 'tune_id', 'section_id', 'section_name', 'title', 'title_playlist', 'tune_mode']]\n",
        "titles[:5]"
      ],
      "execution_count": 21,
      "outputs": [
        {
          "output_type": "execute_result",
          "data": {
            "text/html": [
              "<div>\n",
              "<style scoped>\n",
              "    .dataframe tbody tr th:only-of-type {\n",
              "        vertical-align: middle;\n",
              "    }\n",
              "\n",
              "    .dataframe tbody tr th {\n",
              "        vertical-align: top;\n",
              "    }\n",
              "\n",
              "    .dataframe thead th {\n",
              "        text-align: right;\n",
              "    }\n",
              "</style>\n",
              "<table border=\"1\" class=\"dataframe\">\n",
              "  <thead>\n",
              "    <tr style=\"text-align: right;\">\n",
              "      <th></th>\n",
              "      <th>id</th>\n",
              "      <th>tune_id</th>\n",
              "      <th>section_id</th>\n",
              "      <th>section_name</th>\n",
              "      <th>title</th>\n",
              "      <th>title_playlist</th>\n",
              "      <th>tune_mode</th>\n",
              "    </tr>\n",
              "  </thead>\n",
              "  <tbody>\n",
              "    <tr>\n",
              "      <th>0</th>\n",
              "      <td>0</td>\n",
              "      <td>0</td>\n",
              "      <td>1</td>\n",
              "      <td>A</td>\n",
              "      <td>26-2</td>\n",
              "      <td>26-2 [jazz1350]</td>\n",
              "      <td>major</td>\n",
              "    </tr>\n",
              "    <tr>\n",
              "      <th>1</th>\n",
              "      <td>1</td>\n",
              "      <td>0</td>\n",
              "      <td>2</td>\n",
              "      <td>A</td>\n",
              "      <td>26-2</td>\n",
              "      <td>26-2 [jazz1350]</td>\n",
              "      <td>major</td>\n",
              "    </tr>\n",
              "    <tr>\n",
              "      <th>2</th>\n",
              "      <td>2</td>\n",
              "      <td>0</td>\n",
              "      <td>3</td>\n",
              "      <td>B</td>\n",
              "      <td>26-2</td>\n",
              "      <td>26-2 [jazz1350]</td>\n",
              "      <td>major</td>\n",
              "    </tr>\n",
              "    <tr>\n",
              "      <th>3</th>\n",
              "      <td>3</td>\n",
              "      <td>0</td>\n",
              "      <td>4</td>\n",
              "      <td>A</td>\n",
              "      <td>26-2</td>\n",
              "      <td>26-2 [jazz1350]</td>\n",
              "      <td>major</td>\n",
              "    </tr>\n",
              "    <tr>\n",
              "      <th>4</th>\n",
              "      <td>4</td>\n",
              "      <td>1</td>\n",
              "      <td>0</td>\n",
              "      <td>NaN</td>\n",
              "      <td>500 Miles High</td>\n",
              "      <td>500 Miles High [jazz1350]</td>\n",
              "      <td>minor</td>\n",
              "    </tr>\n",
              "  </tbody>\n",
              "</table>\n",
              "</div>"
            ],
            "text/plain": [
              "   id  tune_id  section_id  ...           title             title_playlist tune_mode\n",
              "0   0        0           1  ...            26-2            26-2 [jazz1350]     major\n",
              "1   1        0           2  ...            26-2            26-2 [jazz1350]     major\n",
              "2   2        0           3  ...            26-2            26-2 [jazz1350]     major\n",
              "3   3        0           4  ...            26-2            26-2 [jazz1350]     major\n",
              "4   4        1           0  ...  500 Miles High  500 Miles High [jazz1350]     minor\n",
              "\n",
              "[5 rows x 7 columns]"
            ]
          },
          "metadata": {},
          "execution_count": 21
        }
      ]
    },
    {
      "cell_type": "code",
      "metadata": {
        "id": "0vEOjvwt8jUu"
      },
      "source": [
        "titles_dict = titles.to_dict()\n",
        "\n",
        "sectionid_to_title = titles_dict['title_playlist']\n",
        "sectionid_to_titleid = titles_dict['tune_id']\n"
      ],
      "execution_count": 22,
      "outputs": []
    },
    {
      "cell_type": "code",
      "metadata": {
        "id": "Om7pbfnNGO_I"
      },
      "source": [
        "tunes = df.loc[:, ['tune_id', 'title_playlist']].drop_duplicates()\n",
        "tunes = tunes.set_index('tune_id').to_dict()\n",
        "titleid_to_title = tunes['title_playlist']"
      ],
      "execution_count": 23,
      "outputs": []
    },
    {
      "cell_type": "code",
      "metadata": {
        "id": "OvLyxrExxvew"
      },
      "source": [
        "title_to_titleid = {v: k for k, v in titleid_to_title.items()}\n"
      ],
      "execution_count": 24,
      "outputs": []
    },
    {
      "cell_type": "code",
      "metadata": {
        "id": "1H72Y3_d8uNu"
      },
      "source": [
        "titles_rows = titles.to_dict(orient='records')\n",
        "sectionid_to_section = []\n",
        "for i, row in enumerate(titles_rows):\n",
        "  name = f\"{row['title']}, section{row['section_id']} ({row['section_name']})\"\n",
        "  sectionid_to_section.append(name)\n",
        "  "
      ],
      "execution_count": 25,
      "outputs": []
    },
    {
      "cell_type": "code",
      "metadata": {
        "id": "HCeGUk818y8V"
      },
      "source": [
        "title_to_sectionid = {}\n",
        "\n",
        "for row in titles.iterrows():\n",
        "  title = row[1]['title_playlist']\n",
        "  if title not in title_to_sectionid:\n",
        "    title_to_sectionid[title] = [row[1]['id']]\n",
        "  else:\n",
        "    title_to_sectionid[title].append(row[1]['id'])"
      ],
      "execution_count": 26,
      "outputs": []
    },
    {
      "cell_type": "markdown",
      "metadata": {
        "id": "GWXGqImnoHdm"
      },
      "source": [
        "### Create Directories on Colab"
      ]
    },
    {
      "cell_type": "code",
      "metadata": {
        "id": "sDWIxDpIoJv1"
      },
      "source": [
        "!rm -R output\n",
        "!mkdir output"
      ],
      "execution_count": 27,
      "outputs": []
    },
    {
      "cell_type": "markdown",
      "metadata": {
        "id": "tHWe1mKVrF8O"
      },
      "source": [
        "### Test Data"
      ]
    },
    {
      "cell_type": "code",
      "metadata": {
        "id": "V0Bg0wJ7sBBk"
      },
      "source": [
        "tunes_eval_list = sorted(tunes_eval_list)"
      ],
      "execution_count": 28,
      "outputs": []
    },
    {
      "cell_type": "code",
      "metadata": {
        "id": "UE0AGDO_rFVo"
      },
      "source": [
        "#contrafacts_test = []\n",
        "#for reference, compare in contrafacts.items():\n",
        "#  contrafacts_test.append([title_to_sectionid[reference], title_to_sectionid[compare]])"
      ],
      "execution_count": 29,
      "outputs": []
    },
    {
      "cell_type": "markdown",
      "metadata": {
        "id": "LvQ60s_owm82"
      },
      "source": [
        "## Initialization for wandb variables"
      ]
    },
    {
      "cell_type": "code",
      "metadata": {
        "id": "fw7FHHXfwagL"
      },
      "source": [
        "recommender_results_cols = ['reference', 'id', 'method', 'similar', 'score_div_max', 'score']\n",
        "recommender_results = pd.DataFrame(columns=recommender_results_cols)"
      ],
      "execution_count": 30,
      "outputs": []
    },
    {
      "cell_type": "code",
      "metadata": {
        "id": "PfvF20G1JZMa"
      },
      "source": [
        "lsi_config = {\n",
        "    'num_topics': 200,\n",
        "}"
      ],
      "execution_count": 31,
      "outputs": []
    },
    {
      "cell_type": "code",
      "metadata": {
        "id": "eW2f6BdAJl01"
      },
      "source": [
        "doc2vec_config = {\n",
        "    'general': {\n",
        "        'chords_preprocessing': chords_preprocessing,\n",
        "        'chords_repeated': chords_repeated,\n",
        "        'document_tags': 'SectionsTunes',\n",
        "    },\n",
        "    'model': {\n",
        "        'dm': 1,\n",
        "        'vector_size': 100,\n",
        "        'window': 4,\n",
        "        'epochs': 40,\n",
        "        #'workers': 1,\n",
        "        'min_count': 1,\n",
        "        'negative': 10,\n",
        "        'sample': 0.001,\n",
        "        'seed': 42\n",
        "    }\n",
        "}"
      ],
      "execution_count": 32,
      "outputs": []
    },
    {
      "cell_type": "code",
      "metadata": {
        "id": "sxdJ97gdx70_",
        "colab": {
          "base_uri": "https://localhost:8080/",
          "height": 53
        },
        "outputId": "f27e47aa-7d44-4500-ac4f-acfabb6b4e07"
      },
      "source": [
        "if use_wandb:\n",
        "  wandb.init(\n",
        "        # Set entity to specify your username or team name\n",
        "        # ex: entity=\"carey\",\n",
        "        # Set the project where this run will be logged\n",
        "        project=\"jazztunes\", \n",
        "        \n",
        "        # Track hyperparameters and run metadata\n",
        "        config={\n",
        "            \"input_data\": input_path,\n",
        "            \"ngrams_input\": ngrams_for_input,\n",
        "            \"comparison\": \"sections\",\n",
        "            \"lsi\": lsi_config,\n",
        "            \"doc2vec\": doc2vec_config\n",
        "        }\n",
        "    )"
      ],
      "execution_count": 33,
      "outputs": [
        {
          "output_type": "stream",
          "name": "stderr",
          "text": [
            "\u001b[34m\u001b[1mwandb\u001b[0m: Currently logged in as: \u001b[33mdoris\u001b[0m (use `wandb login --relogin` to force relogin)\n"
          ]
        },
        {
          "output_type": "display_data",
          "data": {
            "text/html": [
              "\n",
              "                    Syncing run <strong><a href=\"https://wandb.ai/doris/jazztunes/runs/a1blncyz\" target=\"_blank\">firm-smoke-15</a></strong> to <a href=\"https://wandb.ai/doris/jazztunes\" target=\"_blank\">Weights & Biases</a> (<a href=\"https://docs.wandb.com/integrations/jupyter.html\" target=\"_blank\">docs</a>).<br/>\n",
              "\n",
              "                "
            ],
            "text/plain": [
              "<IPython.core.display.HTML object>"
            ]
          },
          "metadata": {}
        }
      ]
    },
    {
      "cell_type": "code",
      "metadata": {
        "id": "xHOY4TKYVN-g"
      },
      "source": [
        "if use_wandb:\n",
        "  artifact = wandb.Artifact('input_data', type='dataset')\n",
        "  artifact.add_file('data.csv')\n",
        "  wandb.log_artifact(artifact)"
      ],
      "execution_count": 34,
      "outputs": []
    },
    {
      "cell_type": "markdown",
      "metadata": {
        "id": "wox-dMcz84Bt"
      },
      "source": [
        "## Helpers functions"
      ]
    },
    {
      "cell_type": "code",
      "metadata": {
        "id": "2964REdr80Gd"
      },
      "source": [
        "def ngrams(tokens, n=2, sep='-'):\n",
        "    return [sep.join(ngram) for ngram in zip(*[tokens[i:] for i in range(n)])]"
      ],
      "execution_count": 35,
      "outputs": []
    },
    {
      "cell_type": "code",
      "metadata": {
        "id": "W42rugQPNYVP"
      },
      "source": [
        "def raw_chords_to_df(tunes):\n",
        "  tunes_chords = [item for tune in tunes for item in tune]\n",
        "  counts = Counter(tunes_chords)\n",
        "  df = pd.DataFrame(counts.items(),\n",
        "                    columns=['chord', 'count']).sort_values(by='count', ascending=False)\n",
        "\n",
        "  return df"
      ],
      "execution_count": 36,
      "outputs": []
    },
    {
      "cell_type": "markdown",
      "metadata": {
        "id": "umfsNtAdF0jM"
      },
      "source": [
        "# Data Preparation"
      ]
    },
    {
      "cell_type": "code",
      "metadata": {
        "id": "dCLwnqoVGcMw"
      },
      "source": [
        "lines = df.loc[:, 'chords'].tolist()\n",
        "data = [line.split(' ') for line in lines]"
      ],
      "execution_count": 37,
      "outputs": []
    },
    {
      "cell_type": "code",
      "metadata": {
        "colab": {
          "base_uri": "https://localhost:8080/"
        },
        "id": "g7SmApW9F3K6",
        "outputId": "76165b57-71eb-47f5-b21b-f5e9caf64b1d"
      },
      "source": [
        "processed_corpus = []\n",
        "for line in data:\n",
        "  tune_n = []\n",
        "  for n in ngrams_for_input:\n",
        "    tune_n.extend(ngrams(line, n=n))\n",
        "  processed_corpus.append(tune_n)\n",
        "\n",
        "for line in processed_corpus[:5]:\n",
        "  print(line)"
      ],
      "execution_count": 38,
      "outputs": [
        {
          "output_type": "stream",
          "name": "stdout",
          "text": [
            "['C', 'Eb7', 'G#', 'B7', 'E', 'G7', 'Gm', 'C7', 'F', 'G#7', 'C#', 'E7', 'Am', 'D7', 'Dm', 'G7']\n",
            "['C', 'Eb7', 'G#', 'B7', 'E', 'G7', 'Gm', 'C7', 'F', 'Eb7', 'G#', 'B7', 'E', 'G7', 'C']\n",
            "['Gm', 'C7', 'Bm', 'E7', 'A', 'C7', 'F', 'Bbm', 'Eb7', 'G#', 'Dm', 'G7']\n",
            "['C', 'Eb7', 'G#', 'B7', 'E', 'G7', 'Gm', 'C7', 'F', 'Eb7', 'G#', 'B7', 'E', 'G7', 'C']\n",
            "['Am', 'Am', 'Cm', 'Cm', 'Eb', 'Eb', 'Em7b5', 'A7', 'Dm', 'Dm', 'Bm7b5', 'Bm7b5', 'Bbm', 'Bbm', 'Fm', 'Fm', 'E7', 'E7', 'Fm', 'Fm', 'C#', 'C#', 'Fm', 'Fm', 'C#', 'C#']\n"
          ]
        }
      ]
    },
    {
      "cell_type": "markdown",
      "metadata": {
        "id": "Sri0K2DhNagp"
      },
      "source": [
        "#### Corpus Overview"
      ]
    },
    {
      "cell_type": "code",
      "metadata": {
        "colab": {
          "base_uri": "https://localhost:8080/"
        },
        "id": "X2ZqA7IF4ufg",
        "outputId": "3688ef54-42df-400b-b32a-e68698b57f30"
      },
      "source": [
        "tokens = [item for l in processed_corpus for item in l]\n",
        "total_tokens = len(tokens)\n",
        "vocab_size = len(set(tokens))\n",
        "vocab_prop = 100*vocab_size/total_tokens\n",
        "\n",
        "print(f\"Total Number of tokens: {total_tokens}\")\n",
        "print(f\"Size of vocabulary: {vocab_size}\")\n",
        "print(f\"Proportion of vocabulary in corpus: {vocab_prop:.02f}%\")"
      ],
      "execution_count": 39,
      "outputs": [
        {
          "output_type": "stream",
          "name": "stdout",
          "text": [
            "Total Number of tokens: 82622\n",
            "Size of vocabulary: 72\n",
            "Proportion of vocabulary in corpus: 0.09%\n"
          ]
        }
      ]
    },
    {
      "cell_type": "code",
      "metadata": {
        "colab": {
          "base_uri": "https://localhost:8080/",
          "height": 424
        },
        "id": "rULq3jYVNh_x",
        "outputId": "b7bbb45b-d88e-407c-9ba2-40fc96eeff7f"
      },
      "source": [
        "df_chords = raw_chords_to_df(processed_corpus)\n",
        "df_chords"
      ],
      "execution_count": 40,
      "outputs": [
        {
          "output_type": "execute_result",
          "data": {
            "text/html": [
              "<div>\n",
              "<style scoped>\n",
              "    .dataframe tbody tr th:only-of-type {\n",
              "        vertical-align: middle;\n",
              "    }\n",
              "\n",
              "    .dataframe tbody tr th {\n",
              "        vertical-align: top;\n",
              "    }\n",
              "\n",
              "    .dataframe thead th {\n",
              "        text-align: right;\n",
              "    }\n",
              "</style>\n",
              "<table border=\"1\" class=\"dataframe\">\n",
              "  <thead>\n",
              "    <tr style=\"text-align: right;\">\n",
              "      <th></th>\n",
              "      <th>chord</th>\n",
              "      <th>count</th>\n",
              "    </tr>\n",
              "  </thead>\n",
              "  <tbody>\n",
              "    <tr>\n",
              "      <th>0</th>\n",
              "      <td>C</td>\n",
              "      <td>14387</td>\n",
              "    </tr>\n",
              "    <tr>\n",
              "      <th>5</th>\n",
              "      <td>G7</td>\n",
              "      <td>11144</td>\n",
              "    </tr>\n",
              "    <tr>\n",
              "      <th>14</th>\n",
              "      <td>Dm</td>\n",
              "      <td>7991</td>\n",
              "    </tr>\n",
              "    <tr>\n",
              "      <th>12</th>\n",
              "      <td>Am</td>\n",
              "      <td>5724</td>\n",
              "    </tr>\n",
              "    <tr>\n",
              "      <th>21</th>\n",
              "      <td>A7</td>\n",
              "      <td>4467</td>\n",
              "    </tr>\n",
              "    <tr>\n",
              "      <th>...</th>\n",
              "      <td>...</td>\n",
              "      <td>...</td>\n",
              "    </tr>\n",
              "    <tr>\n",
              "      <th>62</th>\n",
              "      <td>Ddim</td>\n",
              "      <td>13</td>\n",
              "    </tr>\n",
              "    <tr>\n",
              "      <th>70</th>\n",
              "      <td>G#7(+b5)</td>\n",
              "      <td>12</td>\n",
              "    </tr>\n",
              "    <tr>\n",
              "      <th>65</th>\n",
              "      <td>F7(+b5)</td>\n",
              "      <td>9</td>\n",
              "    </tr>\n",
              "    <tr>\n",
              "      <th>69</th>\n",
              "      <td>Cm7b5</td>\n",
              "      <td>9</td>\n",
              "    </tr>\n",
              "    <tr>\n",
              "      <th>71</th>\n",
              "      <td>Eb7(+b5)</td>\n",
              "      <td>6</td>\n",
              "    </tr>\n",
              "  </tbody>\n",
              "</table>\n",
              "<p>72 rows × 2 columns</p>\n",
              "</div>"
            ],
            "text/plain": [
              "       chord  count\n",
              "0          C  14387\n",
              "5         G7  11144\n",
              "14        Dm   7991\n",
              "12        Am   5724\n",
              "21        A7   4467\n",
              "..       ...    ...\n",
              "62      Ddim     13\n",
              "70  G#7(+b5)     12\n",
              "65   F7(+b5)      9\n",
              "69     Cm7b5      9\n",
              "71  Eb7(+b5)      6\n",
              "\n",
              "[72 rows x 2 columns]"
            ]
          },
          "metadata": {},
          "execution_count": 40
        }
      ]
    },
    {
      "cell_type": "code",
      "metadata": {
        "colab": {
          "base_uri": "https://localhost:8080/",
          "height": 560
        },
        "id": "G9fknTouNmKm",
        "outputId": "f6a590d4-4b2b-4a19-aaa4-09dc061107ee"
      },
      "source": [
        "df_chords = pd.DataFrame.from_dict(df_chords)\n",
        "df_chords.sort_values(by=['count'], ascending=False, inplace=True)\n",
        "df_chords_top = df_chords.query('count > 100')\n",
        "\n",
        "fig = px.bar(df_chords_top, x='chord', y='count', log_y=True)\n",
        "fig.update_layout(barmode='stack', xaxis={'categoryorder':'total descending'})\n",
        "fig.show()"
      ],
      "execution_count": 41,
      "outputs": [
        {
          "output_type": "stream",
          "name": "stderr",
          "text": [
            "2021-11-28 10:01:34,542 : INFO : NumExpr defaulting to 2 threads.\n"
          ]
        },
        {
          "output_type": "display_data",
          "data": {
            "text/html": [
              "<html>\n",
              "<head><meta charset=\"utf-8\" /></head>\n",
              "<body>\n",
              "    <div>\n",
              "            <script src=\"https://cdnjs.cloudflare.com/ajax/libs/mathjax/2.7.5/MathJax.js?config=TeX-AMS-MML_SVG\"></script><script type=\"text/javascript\">if (window.MathJax) {MathJax.Hub.Config({SVG: {font: \"STIX-Web\"}});}</script>\n",
              "                <script type=\"text/javascript\">window.PlotlyConfig = {MathJaxConfig: 'local'};</script>\n",
              "        <script src=\"https://cdn.plot.ly/plotly-latest.min.js\"></script>    \n",
              "            <div id=\"36514d52-1aaa-4bda-93bf-6c7cd3855526\" class=\"plotly-graph-div\" style=\"height:525px; width:100%;\"></div>\n",
              "            <script type=\"text/javascript\">\n",
              "                \n",
              "                    window.PLOTLYENV=window.PLOTLYENV || {};\n",
              "                    \n",
              "                if (document.getElementById(\"36514d52-1aaa-4bda-93bf-6c7cd3855526\")) {\n",
              "                    Plotly.newPlot(\n",
              "                        '36514d52-1aaa-4bda-93bf-6c7cd3855526',\n",
              "                        [{\"alignmentgroup\": \"True\", \"hoverlabel\": {\"namelength\": 0}, \"hovertemplate\": \"chord=%{x}<br>count=%{y}\", \"legendgroup\": \"\", \"marker\": {\"color\": \"#636efa\"}, \"name\": \"\", \"offsetgroup\": \"\", \"orientation\": \"v\", \"showlegend\": false, \"textposition\": \"auto\", \"type\": \"bar\", \"x\": [\"C\", \"G7\", \"Dm\", \"Am\", \"A7\", \"D7\", \"F\", \"C7\", \"E7\", \"Em\", \"F7\", \"Bb7\", \"Fm\", \"B7\", \"Gm\", \"G#7\", \"Bm7b5\", \"G\", \"Ebdim\", \"Eb7\", \"Cm\", \"F#m7b5\", \"G#\", \"Bm\", \"C#7\", \"Bb\", \"Em7b5\", \"E\", \"F#m\", \"F#7\", \"Eb\", \"F#dim\", \"C#dim\", \"Ebm\", \"C#\", \"A\", \"Dm7b5\", \"Bbm\", \"D\", \"C#m\", \"Cdim\", \"B\", \"G#m\", \"F#\"], \"xaxis\": \"x\", \"y\": [14387, 11144, 7991, 5724, 4467, 3986, 3746, 3428, 3175, 2710, 1722, 1639, 1625, 1408, 1283, 975, 922, 890, 697, 622, 606, 554, 519, 511, 498, 494, 480, 474, 453, 443, 407, 406, 388, 365, 342, 329, 316, 305, 293, 266, 214, 173, 159, 144], \"yaxis\": \"y\"}],\n",
              "                        {\"barmode\": \"stack\", \"legend\": {\"tracegroupgap\": 0}, \"margin\": {\"t\": 60}, \"template\": {\"data\": {\"bar\": [{\"error_x\": {\"color\": \"#2a3f5f\"}, \"error_y\": {\"color\": \"#2a3f5f\"}, \"marker\": {\"line\": {\"color\": \"#E5ECF6\", \"width\": 0.5}}, \"type\": \"bar\"}], \"barpolar\": [{\"marker\": {\"line\": {\"color\": \"#E5ECF6\", \"width\": 0.5}}, \"type\": \"barpolar\"}], \"carpet\": [{\"aaxis\": {\"endlinecolor\": \"#2a3f5f\", \"gridcolor\": \"white\", \"linecolor\": \"white\", \"minorgridcolor\": \"white\", \"startlinecolor\": \"#2a3f5f\"}, \"baxis\": {\"endlinecolor\": \"#2a3f5f\", \"gridcolor\": \"white\", \"linecolor\": \"white\", \"minorgridcolor\": \"white\", \"startlinecolor\": \"#2a3f5f\"}, \"type\": \"carpet\"}], \"choropleth\": [{\"colorbar\": {\"outlinewidth\": 0, \"ticks\": \"\"}, \"type\": \"choropleth\"}], \"contour\": [{\"colorbar\": {\"outlinewidth\": 0, \"ticks\": \"\"}, \"colorscale\": [[0.0, \"#0d0887\"], [0.1111111111111111, \"#46039f\"], [0.2222222222222222, \"#7201a8\"], [0.3333333333333333, \"#9c179e\"], [0.4444444444444444, \"#bd3786\"], [0.5555555555555556, \"#d8576b\"], [0.6666666666666666, \"#ed7953\"], [0.7777777777777778, \"#fb9f3a\"], [0.8888888888888888, \"#fdca26\"], [1.0, \"#f0f921\"]], \"type\": \"contour\"}], \"contourcarpet\": [{\"colorbar\": {\"outlinewidth\": 0, \"ticks\": \"\"}, \"type\": \"contourcarpet\"}], \"heatmap\": [{\"colorbar\": {\"outlinewidth\": 0, \"ticks\": \"\"}, \"colorscale\": [[0.0, \"#0d0887\"], [0.1111111111111111, \"#46039f\"], [0.2222222222222222, \"#7201a8\"], [0.3333333333333333, \"#9c179e\"], [0.4444444444444444, \"#bd3786\"], [0.5555555555555556, \"#d8576b\"], [0.6666666666666666, \"#ed7953\"], [0.7777777777777778, \"#fb9f3a\"], [0.8888888888888888, \"#fdca26\"], [1.0, \"#f0f921\"]], \"type\": \"heatmap\"}], \"heatmapgl\": [{\"colorbar\": {\"outlinewidth\": 0, \"ticks\": \"\"}, \"colorscale\": [[0.0, \"#0d0887\"], [0.1111111111111111, \"#46039f\"], [0.2222222222222222, \"#7201a8\"], [0.3333333333333333, \"#9c179e\"], [0.4444444444444444, \"#bd3786\"], [0.5555555555555556, \"#d8576b\"], [0.6666666666666666, \"#ed7953\"], [0.7777777777777778, \"#fb9f3a\"], [0.8888888888888888, \"#fdca26\"], [1.0, \"#f0f921\"]], \"type\": \"heatmapgl\"}], \"histogram\": [{\"marker\": {\"colorbar\": {\"outlinewidth\": 0, \"ticks\": \"\"}}, \"type\": \"histogram\"}], \"histogram2d\": [{\"colorbar\": {\"outlinewidth\": 0, \"ticks\": \"\"}, \"colorscale\": [[0.0, \"#0d0887\"], [0.1111111111111111, \"#46039f\"], [0.2222222222222222, \"#7201a8\"], [0.3333333333333333, \"#9c179e\"], [0.4444444444444444, \"#bd3786\"], [0.5555555555555556, \"#d8576b\"], [0.6666666666666666, \"#ed7953\"], [0.7777777777777778, \"#fb9f3a\"], [0.8888888888888888, \"#fdca26\"], [1.0, \"#f0f921\"]], \"type\": \"histogram2d\"}], \"histogram2dcontour\": [{\"colorbar\": {\"outlinewidth\": 0, \"ticks\": \"\"}, \"colorscale\": [[0.0, \"#0d0887\"], [0.1111111111111111, \"#46039f\"], [0.2222222222222222, \"#7201a8\"], [0.3333333333333333, \"#9c179e\"], [0.4444444444444444, \"#bd3786\"], [0.5555555555555556, \"#d8576b\"], [0.6666666666666666, \"#ed7953\"], [0.7777777777777778, \"#fb9f3a\"], [0.8888888888888888, \"#fdca26\"], [1.0, \"#f0f921\"]], \"type\": \"histogram2dcontour\"}], \"mesh3d\": [{\"colorbar\": {\"outlinewidth\": 0, \"ticks\": \"\"}, \"type\": \"mesh3d\"}], \"parcoords\": [{\"line\": {\"colorbar\": {\"outlinewidth\": 0, \"ticks\": \"\"}}, \"type\": \"parcoords\"}], \"pie\": [{\"automargin\": true, \"type\": \"pie\"}], \"scatter\": [{\"marker\": {\"colorbar\": {\"outlinewidth\": 0, \"ticks\": \"\"}}, \"type\": \"scatter\"}], \"scatter3d\": [{\"line\": {\"colorbar\": {\"outlinewidth\": 0, \"ticks\": \"\"}}, \"marker\": {\"colorbar\": {\"outlinewidth\": 0, \"ticks\": \"\"}}, \"type\": \"scatter3d\"}], \"scattercarpet\": [{\"marker\": {\"colorbar\": {\"outlinewidth\": 0, \"ticks\": \"\"}}, \"type\": \"scattercarpet\"}], \"scattergeo\": [{\"marker\": {\"colorbar\": {\"outlinewidth\": 0, \"ticks\": \"\"}}, \"type\": \"scattergeo\"}], \"scattergl\": [{\"marker\": {\"colorbar\": {\"outlinewidth\": 0, \"ticks\": \"\"}}, \"type\": \"scattergl\"}], \"scattermapbox\": [{\"marker\": {\"colorbar\": {\"outlinewidth\": 0, \"ticks\": \"\"}}, \"type\": \"scattermapbox\"}], \"scatterpolar\": [{\"marker\": {\"colorbar\": {\"outlinewidth\": 0, \"ticks\": \"\"}}, \"type\": \"scatterpolar\"}], \"scatterpolargl\": [{\"marker\": {\"colorbar\": {\"outlinewidth\": 0, \"ticks\": \"\"}}, \"type\": \"scatterpolargl\"}], \"scatterternary\": [{\"marker\": {\"colorbar\": {\"outlinewidth\": 0, \"ticks\": \"\"}}, \"type\": \"scatterternary\"}], \"surface\": [{\"colorbar\": {\"outlinewidth\": 0, \"ticks\": \"\"}, \"colorscale\": [[0.0, \"#0d0887\"], [0.1111111111111111, \"#46039f\"], [0.2222222222222222, \"#7201a8\"], [0.3333333333333333, \"#9c179e\"], [0.4444444444444444, \"#bd3786\"], [0.5555555555555556, \"#d8576b\"], [0.6666666666666666, \"#ed7953\"], [0.7777777777777778, \"#fb9f3a\"], [0.8888888888888888, \"#fdca26\"], [1.0, \"#f0f921\"]], \"type\": \"surface\"}], \"table\": [{\"cells\": {\"fill\": {\"color\": \"#EBF0F8\"}, \"line\": {\"color\": \"white\"}}, \"header\": {\"fill\": {\"color\": \"#C8D4E3\"}, \"line\": {\"color\": \"white\"}}, \"type\": \"table\"}]}, \"layout\": {\"annotationdefaults\": {\"arrowcolor\": \"#2a3f5f\", \"arrowhead\": 0, \"arrowwidth\": 1}, \"coloraxis\": {\"colorbar\": {\"outlinewidth\": 0, \"ticks\": \"\"}}, \"colorscale\": {\"diverging\": [[0, \"#8e0152\"], [0.1, \"#c51b7d\"], [0.2, \"#de77ae\"], [0.3, \"#f1b6da\"], [0.4, \"#fde0ef\"], [0.5, \"#f7f7f7\"], [0.6, \"#e6f5d0\"], [0.7, \"#b8e186\"], [0.8, \"#7fbc41\"], [0.9, \"#4d9221\"], [1, \"#276419\"]], \"sequential\": [[0.0, \"#0d0887\"], [0.1111111111111111, \"#46039f\"], [0.2222222222222222, \"#7201a8\"], [0.3333333333333333, \"#9c179e\"], [0.4444444444444444, \"#bd3786\"], [0.5555555555555556, \"#d8576b\"], [0.6666666666666666, \"#ed7953\"], [0.7777777777777778, \"#fb9f3a\"], [0.8888888888888888, \"#fdca26\"], [1.0, \"#f0f921\"]], \"sequentialminus\": [[0.0, \"#0d0887\"], [0.1111111111111111, \"#46039f\"], [0.2222222222222222, \"#7201a8\"], [0.3333333333333333, \"#9c179e\"], [0.4444444444444444, \"#bd3786\"], [0.5555555555555556, \"#d8576b\"], [0.6666666666666666, \"#ed7953\"], [0.7777777777777778, \"#fb9f3a\"], [0.8888888888888888, \"#fdca26\"], [1.0, \"#f0f921\"]]}, \"colorway\": [\"#636efa\", \"#EF553B\", \"#00cc96\", \"#ab63fa\", \"#FFA15A\", \"#19d3f3\", \"#FF6692\", \"#B6E880\", \"#FF97FF\", \"#FECB52\"], \"font\": {\"color\": \"#2a3f5f\"}, \"geo\": {\"bgcolor\": \"white\", \"lakecolor\": \"white\", \"landcolor\": \"#E5ECF6\", \"showlakes\": true, \"showland\": true, \"subunitcolor\": \"white\"}, \"hoverlabel\": {\"align\": \"left\"}, \"hovermode\": \"closest\", \"mapbox\": {\"style\": \"light\"}, \"paper_bgcolor\": \"white\", \"plot_bgcolor\": \"#E5ECF6\", \"polar\": {\"angularaxis\": {\"gridcolor\": \"white\", \"linecolor\": \"white\", \"ticks\": \"\"}, \"bgcolor\": \"#E5ECF6\", \"radialaxis\": {\"gridcolor\": \"white\", \"linecolor\": \"white\", \"ticks\": \"\"}}, \"scene\": {\"xaxis\": {\"backgroundcolor\": \"#E5ECF6\", \"gridcolor\": \"white\", \"gridwidth\": 2, \"linecolor\": \"white\", \"showbackground\": true, \"ticks\": \"\", \"zerolinecolor\": \"white\"}, \"yaxis\": {\"backgroundcolor\": \"#E5ECF6\", \"gridcolor\": \"white\", \"gridwidth\": 2, \"linecolor\": \"white\", \"showbackground\": true, \"ticks\": \"\", \"zerolinecolor\": \"white\"}, \"zaxis\": {\"backgroundcolor\": \"#E5ECF6\", \"gridcolor\": \"white\", \"gridwidth\": 2, \"linecolor\": \"white\", \"showbackground\": true, \"ticks\": \"\", \"zerolinecolor\": \"white\"}}, \"shapedefaults\": {\"line\": {\"color\": \"#2a3f5f\"}}, \"ternary\": {\"aaxis\": {\"gridcolor\": \"white\", \"linecolor\": \"white\", \"ticks\": \"\"}, \"baxis\": {\"gridcolor\": \"white\", \"linecolor\": \"white\", \"ticks\": \"\"}, \"bgcolor\": \"#E5ECF6\", \"caxis\": {\"gridcolor\": \"white\", \"linecolor\": \"white\", \"ticks\": \"\"}}, \"title\": {\"x\": 0.05}, \"xaxis\": {\"automargin\": true, \"gridcolor\": \"white\", \"linecolor\": \"white\", \"ticks\": \"\", \"title\": {\"standoff\": 15}, \"zerolinecolor\": \"white\", \"zerolinewidth\": 2}, \"yaxis\": {\"automargin\": true, \"gridcolor\": \"white\", \"linecolor\": \"white\", \"ticks\": \"\", \"title\": {\"standoff\": 15}, \"zerolinecolor\": \"white\", \"zerolinewidth\": 2}}}, \"xaxis\": {\"anchor\": \"y\", \"categoryorder\": \"total descending\", \"domain\": [0.0, 1.0], \"title\": {\"text\": \"chord\"}}, \"yaxis\": {\"anchor\": \"x\", \"domain\": [0.0, 1.0], \"title\": {\"text\": \"count\"}, \"type\": \"log\"}},\n",
              "                        {\"responsive\": true}\n",
              "                    ).then(function(){\n",
              "                            \n",
              "var gd = document.getElementById('36514d52-1aaa-4bda-93bf-6c7cd3855526');\n",
              "var x = new MutationObserver(function (mutations, observer) {{\n",
              "        var display = window.getComputedStyle(gd).display;\n",
              "        if (!display || display === 'none') {{\n",
              "            console.log([gd, 'removed!']);\n",
              "            Plotly.purge(gd);\n",
              "            observer.disconnect();\n",
              "        }}\n",
              "}});\n",
              "\n",
              "// Listen for the removal of the full notebook cells\n",
              "var notebookContainer = gd.closest('#notebook-container');\n",
              "if (notebookContainer) {{\n",
              "    x.observe(notebookContainer, {childList: true});\n",
              "}}\n",
              "\n",
              "// Listen for the clearing of the current output cell\n",
              "var outputEl = gd.closest('.output');\n",
              "if (outputEl) {{\n",
              "    x.observe(outputEl, {childList: true});\n",
              "}}\n",
              "\n",
              "                        })\n",
              "                };\n",
              "                \n",
              "            </script>\n",
              "        </div>\n",
              "</body>\n",
              "</html>"
            ]
          },
          "metadata": {}
        }
      ]
    },
    {
      "cell_type": "markdown",
      "metadata": {
        "id": "cG5dtDpkWwLE"
      },
      "source": [
        "Plot Distribution accoring to Zipf's Law\n",
        "\n",
        "source: https://stats.stackexchange.com/questions/331219/characterizing-fitting-word-count-data-into-zipf-power-law-lognormal"
      ]
    },
    {
      "cell_type": "code",
      "metadata": {
        "id": "tazf9QRST5NP"
      },
      "source": [
        "from collections import Counter\n",
        "\n",
        "counter_of_words = df_chords.set_index('chord').to_dict(orient='dict')\n",
        "counter_of_words = Counter(counter_of_words['count'])\n",
        "counter_of_counts = Counter(counter_of_words.values())\n",
        "\n",
        "word_counts = np.array(list(counter_of_counts.keys()))\n",
        "freq_of_word_counts = np.array(list(counter_of_counts.values()))"
      ],
      "execution_count": 42,
      "outputs": []
    },
    {
      "cell_type": "code",
      "metadata": {
        "colab": {
          "base_uri": "https://localhost:8080/",
          "height": 295
        },
        "id": "Jc80DSe7QlkV",
        "outputId": "ef4868e5-9272-4cf7-e742-c77d6c0ceefa"
      },
      "source": [
        "plt.scatter(np.log(word_counts), np.log(freq_of_word_counts))\n",
        "plt.xlabel('Log of word frequency')\n",
        "plt.ylabel('Log of number of such words')\n",
        "plt.title('Power law for word frequencies')\n",
        "\n",
        "plt.savefig('plot.png')"
      ],
      "execution_count": 43,
      "outputs": [
        {
          "output_type": "display_data",
          "data": {
            "image/png": "[encoded data removed]",
            "text/plain": [
              "<Figure size 432x288 with 1 Axes>"
            ]
          },
          "metadata": {
            "needs_background": "light"
          }
        }
      ]
    },
    {
      "cell_type": "code",
      "metadata": {
        "colab": {
          "base_uri": "https://localhost:8080/"
        },
        "id": "TRQxnw3XXfit",
        "outputId": "d8585376-6300-4dea-a3ab-d0c79bd9e851"
      },
      "source": [
        "def neg_zipf_likelihood(s):\n",
        "    n = sum(freq_of_word_counts)\n",
        "    # for each word count, find the probability that a random word has such word count\n",
        "    probas = word_counts ** (-s) / np.sum(np.arange(1, n+1) **(-s))\n",
        "    log_likelihood = sum(np.log(probas) * word_counts)\n",
        "    return -log_likelihood\n",
        "\n",
        "from scipy.optimize import minimize_scalar\n",
        "s_best = minimize_scalar(neg_zipf_likelihood, [0.1, 3.0] )\n",
        "print(s_best.x)"
      ],
      "execution_count": 44,
      "outputs": [
        {
          "output_type": "stream",
          "name": "stdout",
          "text": [
            "-399.3962569709492\n"
          ]
        },
        {
          "output_type": "stream",
          "name": "stderr",
          "text": [
            "/usr/local/lib/python3.7/dist-packages/ipykernel_launcher.py:4: RuntimeWarning:\n",
            "\n",
            "overflow encountered in power\n",
            "\n",
            "/usr/local/lib/python3.7/dist-packages/ipykernel_launcher.py:4: RuntimeWarning:\n",
            "\n",
            "invalid value encountered in true_divide\n",
            "\n",
            "/usr/local/lib/python3.7/dist-packages/scipy/optimize/optimize.py:1986: RuntimeWarning:\n",
            "\n",
            "invalid value encountered in double_scalars\n",
            "\n",
            "/usr/local/lib/python3.7/dist-packages/scipy/optimize/optimize.py:1987: RuntimeWarning:\n",
            "\n",
            "invalid value encountered in double_scalars\n",
            "\n",
            "/usr/local/lib/python3.7/dist-packages/ipykernel_launcher.py:5: RuntimeWarning:\n",
            "\n",
            "divide by zero encountered in log\n",
            "\n"
          ]
        }
      ]
    },
    {
      "cell_type": "code",
      "metadata": {
        "id": "a1IvM4wh7zOv"
      },
      "source": [
        "if use_wandb:\n",
        "  wandb.log(\n",
        "      {\"corpus\": {\n",
        "              \"total_tokens\": total_tokens,\n",
        "              \"vocab_size\": vocab_size,\n",
        "              \"vocab_proportion_in_corpus\": vocab_prop,\n",
        "              \"zipf_plot\": wandb.Image('plot.png'),\n",
        "              }\n",
        "      }\n",
        "  )"
      ],
      "execution_count": 45,
      "outputs": []
    },
    {
      "cell_type": "markdown",
      "metadata": {
        "id": "LeRGFeTn89Uc"
      },
      "source": [
        "# TF-IDF"
      ]
    },
    {
      "cell_type": "code",
      "metadata": {
        "colab": {
          "base_uri": "https://localhost:8080/"
        },
        "id": "pBdUdBNr9Gmu",
        "outputId": "872b2bcb-f409-46cf-afc5-c293964e4fae"
      },
      "source": [
        "dictionary = corpora.Dictionary(processed_corpus)\n",
        "bow_corpus = [dictionary.doc2bow(text) for text in processed_corpus]\n",
        "tfidf = TfidfModel(bow_corpus)"
      ],
      "execution_count": 46,
      "outputs": [
        {
          "output_type": "stream",
          "name": "stderr",
          "text": [
            "2021-11-28 10:01:35,747 : INFO : adding document #0 to Dictionary(0 unique tokens: [])\n",
            "2021-11-28 10:01:35,863 : INFO : built Dictionary(72 unique tokens: ['Am', 'B7', 'C', 'C#', 'C7']...) from 5391 documents (total 82622 corpus positions)\n",
            "2021-11-28 10:01:35,864 : INFO : Dictionary lifecycle event {'msg': \"built Dictionary(72 unique tokens: ['Am', 'B7', 'C', 'C#', 'C7']...) from 5391 documents (total 82622 corpus positions)\", 'datetime': '2021-11-28T10:01:35.864718', 'gensim': '4.1.2', 'python': '3.7.12 (default, Sep 10 2021, 00:21:48) \\n[GCC 7.5.0]', 'platform': 'Linux-5.4.104+-x86_64-with-Ubuntu-18.04-bionic', 'event': 'created'}\n",
            "2021-11-28 10:01:35,922 : INFO : collecting document frequencies\n",
            "2021-11-28 10:01:35,932 : INFO : PROGRESS: processing document #0\n",
            "2021-11-28 10:01:35,951 : INFO : TfidfModel lifecycle event {'msg': 'calculated IDF weights for 5391 documents and 72 features (41238 matrix non-zeros)', 'datetime': '2021-11-28T10:01:35.951910', 'gensim': '4.1.2', 'python': '3.7.12 (default, Sep 10 2021, 00:21:48) \\n[GCC 7.5.0]', 'platform': 'Linux-5.4.104+-x86_64-with-Ubuntu-18.04-bionic', 'event': 'initialize'}\n"
          ]
        }
      ]
    },
    {
      "cell_type": "code",
      "metadata": {
        "id": "9NK-cuax9Kqk"
      },
      "source": [
        "# dictionary.token2id"
      ],
      "execution_count": 47,
      "outputs": []
    },
    {
      "cell_type": "code",
      "metadata": {
        "id": "til5xlce_y1m"
      },
      "source": [
        "!rm -R index\n",
        "!mkdir index"
      ],
      "execution_count": 48,
      "outputs": []
    },
    {
      "cell_type": "code",
      "metadata": {
        "colab": {
          "base_uri": "https://localhost:8080/"
        },
        "id": "tn_fz2M090IM",
        "outputId": "ac1b9ce2-ba9d-49b8-90b5-124090b23290"
      },
      "source": [
        "# Note: SparseMatrixSimilarity crashes due to lacking memory\n",
        "#from gensim.test.utils import get_tmpfile\n",
        "#index_tmpfile = get_tmpfile(\"index\")\n",
        "#index_tfidf = similarities.Similarity('/content/index/index_tfidf', bow_corpus, num_features=len(dictionary))\n",
        "\n",
        "index_tfidf = similarities.SparseMatrixSimilarity(tfidf[bow_corpus], num_features = len(dictionary))"
      ],
      "execution_count": 49,
      "outputs": [
        {
          "output_type": "stream",
          "name": "stderr",
          "text": [
            "2021-11-28 10:01:36,247 : INFO : creating sparse index\n",
            "2021-11-28 10:01:36,253 : INFO : creating sparse matrix from corpus\n",
            "2021-11-28 10:01:36,256 : INFO : PROGRESS: at document #0\n",
            "2021-11-28 10:01:36,740 : INFO : created <5391x72 sparse matrix of type '<class 'numpy.float32'>'\n",
            "\twith 41238 stored elements in Compressed Sparse Row format>\n"
          ]
        }
      ]
    },
    {
      "cell_type": "code",
      "metadata": {
        "colab": {
          "base_uri": "https://localhost:8080/"
        },
        "id": "VRSUXNPTewqv",
        "outputId": "b6845704-a4a5-446f-dd5a-11aa529d1d4d"
      },
      "source": [
        "tfidf.save('/content/index/tfidf.model')  # save model\n",
        "index_tfidf.save('/content/index/tfidf.index') #save index"
      ],
      "execution_count": 50,
      "outputs": [
        {
          "output_type": "stream",
          "name": "stderr",
          "text": [
            "2021-11-28 10:01:36,760 : INFO : TfidfModel lifecycle event {'fname_or_handle': '/content/index/tfidf.model', 'separately': 'None', 'sep_limit': 10485760, 'ignore': frozenset(), 'datetime': '2021-11-28T10:01:36.760034', 'gensim': '4.1.2', 'python': '3.7.12 (default, Sep 10 2021, 00:21:48) \\n[GCC 7.5.0]', 'platform': 'Linux-5.4.104+-x86_64-with-Ubuntu-18.04-bionic', 'event': 'saving'}\n",
            "2021-11-28 10:01:36,764 : INFO : saved /content/index/tfidf.model\n",
            "2021-11-28 10:01:36,767 : INFO : SparseMatrixSimilarity lifecycle event {'fname_or_handle': '/content/index/tfidf.index', 'separately': 'None', 'sep_limit': 10485760, 'ignore': frozenset(), 'datetime': '2021-11-28T10:01:36.767308', 'gensim': '4.1.2', 'python': '3.7.12 (default, Sep 10 2021, 00:21:48) \\n[GCC 7.5.0]', 'platform': 'Linux-5.4.104+-x86_64-with-Ubuntu-18.04-bionic', 'event': 'saving'}\n",
            "2021-11-28 10:01:36,771 : INFO : saved /content/index/tfidf.index\n"
          ]
        }
      ]
    },
    {
      "cell_type": "markdown",
      "metadata": {
        "id": "ZLK0coIu9Tv5"
      },
      "source": [
        "## Tests"
      ]
    },
    {
      "cell_type": "code",
      "metadata": {
        "id": "Fzrj1qxwDpJT"
      },
      "source": [
        "def get_sim_scores(tunes, index, model):\n",
        "\n",
        "    df_sim = pd.DataFrame(columns=['reference_title',\n",
        "                                   'reference_titleid',\n",
        "                                   'similar_title',\n",
        "                                   'similar_titleid',\n",
        "                                   'ref_section', \n",
        "                                   'similar_section', \n",
        "                                   'score', \n",
        "                                  ])\n",
        "\n",
        "    for tune in tunes:\n",
        "      print()\n",
        "      print(\"-\"*50)\n",
        "      for s1 in title_to_sectionid[tune]:\n",
        "      \n",
        "          query = processed_corpus[s1]\n",
        "          query_bow = dictionary.doc2bow(query)\n",
        "\n",
        "          # perform a similarity query against the corpus\n",
        "          similarities = index[model[query_bow]]\n",
        "          sims = sorted(enumerate(similarities), key=lambda item: -item[1])\n",
        "          \n",
        "          print(s1, sectionid_to_section[s1])\n",
        "          n = 0\n",
        "          for s2, s2_score in sims:\n",
        "            \n",
        "            # store the top N best results\n",
        "            if n > 20:\n",
        "                break\n",
        "            # don't count self-similarity between sections of the same tune\n",
        "            if s2 not in title_to_sectionid[tune]:\n",
        "                n += 1\n",
        "            \n",
        "                # print(f\"\\t{s2_score:.3f} {sectionid_to_section[s2]}\")\n",
        "\n",
        "                df_sim.loc[len(df_sim)] = [tune,\n",
        "                                           title_to_titleid[tune],\n",
        "                                           sectionid_to_title[s2],\n",
        "                                           sectionid_to_titleid[s2],\n",
        "                                           sectionid_to_section[s1], \n",
        "                                           sectionid_to_section[s2], \n",
        "                                           s2_score, \n",
        "                                           ]\n",
        "    return df_sim"
      ],
      "execution_count": 51,
      "outputs": []
    },
    {
      "cell_type": "code",
      "metadata": {
        "id": "OZ0YfkIO9g5V"
      },
      "source": [
        "def recommend_tune(df, tune_name):\n",
        "\n",
        "  df_tune = df.query(f'reference_title == \"{tune_name}\"')\n",
        "  ff = df_tune.iloc[:]\n",
        "\n",
        "  # get the maximum similarity score for each section and store in new column\n",
        "  ff['max'] = ff.groupby('ref_section')['score'].transform('max')\n",
        "\n",
        "  # scale the score with the maxmum value of each section\n",
        "  ff['score_div_max'] = ff['score'] / ff['max']\n",
        "\n",
        "  # consider only the top N tunes for each group\n",
        "  ff = ff.sort_values(['ref_section', 'score_div_max'], ascending=[True, False])\n",
        "  result = ff.groupby('ref_section').head(30)\n",
        "  \n",
        "  # if multiple rows from the same similar tune, keep only the similar_title with the highest score_div_max\n",
        "  result = result.groupby('similar_title').max('score_div_max').sort_values('score_div_max', ascending=False)\n",
        "\n",
        "  # add the name of the reference tune\n",
        "  result['reference'] = tune_name\n",
        "  result['reference_titleid'] = title_to_titleid[tune_name]\n",
        "\n",
        "  result = result.reset_index()\n",
        "  result = result.loc[:, ['reference', 'reference_titleid', 'similar_title', 'score', 'max', 'score_div_max']]\n",
        "  result['similar_titleid'] = result['similar_title'].apply(lambda x: title_to_titleid[x])\n",
        "  result = result.reset_index()\n",
        "  return result, ff"
      ],
      "execution_count": 52,
      "outputs": []
    },
    {
      "cell_type": "markdown",
      "metadata": {
        "id": "S4RKQCihX02Q"
      },
      "source": [
        "### Single Tunes"
      ]
    },
    {
      "cell_type": "code",
      "metadata": {
        "colab": {
          "base_uri": "https://localhost:8080/"
        },
        "id": "5Wz4ZQk_EKZy",
        "outputId": "071a2996-9fad-4b39-96de-a8f42bc6d800"
      },
      "source": [
        "%%time\n",
        "df_sim = get_sim_scores(tunes_eval_list, index_tfidf, tfidf)\n",
        "\n",
        "# save a copy of the results; all results will be concatenated at the end\n",
        "df_tfidf = df_sim[:]"
      ],
      "execution_count": 53,
      "outputs": [
        {
          "output_type": "stream",
          "name": "stdout",
          "text": [
            "\n",
            "--------------------------------------------------\n",
            "125 After You've Gone, section1 (A)\n",
            "126 After You've Gone, section2 (B)\n",
            "127 After You've Gone, section3 (A)\n",
            "128 After You've Gone, section4 (C)\n",
            "\n",
            "--------------------------------------------------\n",
            "188 All God's Chillun Got Rhythm, section1 (A)\n",
            "189 All God's Chillun Got Rhythm, section2 (B)\n",
            "190 All God's Chillun Got Rhythm, section3 (A)\n",
            "191 All God's Chillun Got Rhythm, section4 (C)\n",
            "\n",
            "--------------------------------------------------\n",
            "198 All Of Me, section1 (A)\n",
            "199 All Of Me, section2 (B)\n",
            "200 All Of Me, section3 (A)\n",
            "201 All Of Me, section4 (C)\n",
            "\n",
            "--------------------------------------------------\n",
            "474 Blood Count, section1 (A)\n",
            "475 Blood Count, section2 (A)\n",
            "476 Blood Count, section3 (B)\n",
            "477 Blood Count, section4 (A)\n",
            "478 Blood Count, section5 (C)\n",
            "\n",
            "--------------------------------------------------\n",
            "496 Blue Moon, section1 (A)\n",
            "497 Blue Moon, section2 (A)\n",
            "498 Blue Moon, section3 (B)\n",
            "499 Blue Moon, section4 (A)\n",
            "\n",
            "--------------------------------------------------\n",
            "626 But Beautiful, section1 (A)\n",
            "627 But Beautiful, section2 (B)\n",
            "628 But Beautiful, section3 (A)\n",
            "629 But Beautiful, section4 (C)\n",
            "\n",
            "--------------------------------------------------\n",
            "653 Bye Bye Blackbird, section1 (A)\n",
            "654 Bye Bye Blackbird, section2 (B)\n",
            "\n",
            "--------------------------------------------------\n",
            "676 Call Me Irresponsible, section1 (A)\n",
            "677 Call Me Irresponsible, section2 (B)\n",
            "678 Call Me Irresponsible, section3 (A)\n",
            "679 Call Me Irresponsible, section4 (B)\n",
            "\n",
            "--------------------------------------------------\n",
            "826 Corcovado, section1 (A)\n",
            "827 Corcovado, section2 (B)\n",
            "828 Corcovado, section3 (A)\n",
            "829 Corcovado, section4 (C)\n",
            "\n",
            "--------------------------------------------------\n",
            "997 Dinah, section1 (A)\n",
            "998 Dinah, section2 (A)\n",
            "999 Dinah, section3 (B)\n",
            "1000 Dinah, section4 (A)\n",
            "\n",
            "--------------------------------------------------\n",
            "1125 East Of The Sun, section1 (A)\n",
            "1126 East Of The Sun, section2 (B)\n",
            "1127 East Of The Sun, section3 (A)\n",
            "1128 East Of The Sun, section4 (C)\n",
            "\n",
            "--------------------------------------------------\n",
            "1287 Footprints, section0 (nan)\n",
            "\n",
            "--------------------------------------------------\n",
            "1379 Giant Steps, section0 (nan)\n",
            "\n",
            "--------------------------------------------------\n",
            "1538 Honeysuckle Rose, section1 (A)\n",
            "1539 Honeysuckle Rose, section2 (A)\n",
            "1540 Honeysuckle Rose, section3 (B)\n",
            "1541 Honeysuckle Rose, section4 (A)\n",
            "\n",
            "--------------------------------------------------\n",
            "1647 I Got Rhythm, section1 (A)\n",
            "1648 I Got Rhythm, section2 (A)\n",
            "1649 I Got Rhythm, section3 (B)\n",
            "1650 I Got Rhythm, section4 (A)\n",
            "\n",
            "--------------------------------------------------\n",
            "2670 Misty, section1 (A)\n",
            "2671 Misty, section2 (A)\n",
            "2672 Misty, section3 (B)\n",
            "2673 Misty, section4 (A)\n",
            "\n",
            "--------------------------------------------------\n",
            "2857 Naima, section1 (A)\n",
            "2858 Naima, section2 (A)\n",
            "2859 Naima, section3 (B)\n",
            "2860 Naima, section4 (A)\n",
            "\n",
            "--------------------------------------------------\n",
            "5044 Old Fashioned Love, section0 (nan)\n",
            "\n",
            "--------------------------------------------------\n",
            "3142 Perdido, section1 (A)\n",
            "3143 Perdido, section2 (A)\n",
            "3144 Perdido, section3 (B)\n",
            "3145 Perdido, section4 (A)\n",
            "\n",
            "--------------------------------------------------\n",
            "3276 Rockin' Chair, section1 (A)\n",
            "3277 Rockin' Chair, section2 (B)\n",
            "3278 Rockin' Chair, section3 (A)\n",
            "\n",
            "--------------------------------------------------\n",
            "3578 Sophisticated Lady, section1 (A)\n",
            "3579 Sophisticated Lady, section2 (A)\n",
            "3580 Sophisticated Lady, section3 (B)\n",
            "3581 Sophisticated Lady, section4 (A)\n",
            "\n",
            "--------------------------------------------------\n",
            "3746 Sweet Sue, Just You, section1 (A)\n",
            "3747 Sweet Sue, Just You, section2 (A)\n",
            "3748 Sweet Sue, Just You, section3 (B)\n",
            "3749 Sweet Sue, Just You, section4 (A)\n",
            "\n",
            "--------------------------------------------------\n",
            "3860 These Foolish Things, section1 (A)\n",
            "3861 These Foolish Things, section2 (A)\n",
            "3862 These Foolish Things, section3 (B)\n",
            "3863 These Foolish Things, section4 (A)\n",
            "\n",
            "--------------------------------------------------\n",
            "4146 We'll Be Together Again, section1 (A)\n",
            "4147 We'll Be Together Again, section2 (A)\n",
            "4148 We'll Be Together Again, section3 (B)\n",
            "4149 We'll Be Together Again, section4 (A)\n",
            "CPU times: user 11.2 s, sys: 298 ms, total: 11.5 s\n",
            "Wall time: 11.2 s\n"
          ]
        }
      ]
    },
    {
      "cell_type": "code",
      "metadata": {
        "colab": {
          "base_uri": "https://localhost:8080/",
          "height": 542
        },
        "id": "yzRuIKVh9c8g",
        "outputId": "180ee1f8-d1c5-4472-c751-3f24e6b4cc69"
      },
      "source": [
        "import plotly.express as px\n",
        "fig = px.histogram(df_sim, x=\"score\", nbins=50, title='Scores for TF-IDF')\n",
        "fig.show()"
      ],
      "execution_count": 54,
      "outputs": [
        {
          "output_type": "display_data",
          "data": {
            "text/html": [
              "<html>\n",
              "<head><meta charset=\"utf-8\" /></head>\n",
              "<body>\n",
              "    <div>\n",
              "            <script src=\"https://cdnjs.cloudflare.com/ajax/libs/mathjax/2.7.5/MathJax.js?config=TeX-AMS-MML_SVG\"></script><script type=\"text/javascript\">if (window.MathJax) {MathJax.Hub.Config({SVG: {font: \"STIX-Web\"}});}</script>\n",
              "                <script type=\"text/javascript\">window.PlotlyConfig = {MathJaxConfig: 'local'};</script>\n",
              "        <script src=\"https://cdn.plot.ly/plotly-latest.min.js\"></script>    \n",
              "            <div id=\"84d22311-95c7-4cfa-90c3-3548ca105409\" class=\"plotly-graph-div\" style=\"height:525px; width:100%;\"></div>\n",
              "            <script type=\"text/javascript\">\n",
              "                \n",
              "                    window.PLOTLYENV=window.PLOTLYENV || {};\n",
              "                    \n",
              "                if (document.getElementById(\"84d22311-95c7-4cfa-90c3-3548ca105409\")) {\n",
              "                    Plotly.newPlot(\n",
              "                        '84d22311-95c7-4cfa-90c3-3548ca105409',\n",
              "                        [{\"alignmentgroup\": \"True\", \"bingroup\": \"x\", \"hoverlabel\": {\"namelength\": 0}, \"hovertemplate\": \"score=%{x}<br>count=%{y}\", \"legendgroup\": \"\", \"marker\": {\"color\": \"#636efa\"}, \"name\": \"\", \"nbinsx\": 50, \"offsetgroup\": \"\", \"orientation\": \"v\", \"showlegend\": false, \"type\": \"histogram\", \"x\": [0.9196498990058899, 0.9038835763931274, 0.8636550903320312, 0.8334907293319702, 0.824112594127655, 0.8160545825958252, 0.7915235161781311, 0.7816696166992188, 0.7691226005554199, 0.7691226005554199, 0.7682342529296875, 0.7664930820465088, 0.7659552097320557, 0.7659552097320557, 0.7590219974517822, 0.7588516473770142, 0.7576762437820435, 0.7568140029907227, 0.7529098987579346, 0.7524664998054504, 0.7522726655006409, 0.9814482927322388, 0.8517615795135498, 0.8486486673355103, 0.8482421040534973, 0.8427440524101257, 0.8406634330749512, 0.8275892734527588, 0.8192987442016602, 0.8117809295654297, 0.811701774597168, 0.811701774597168, 0.8079831004142761, 0.8079831004142761, 0.8078351616859436, 0.8078351616859436, 0.8078351616859436, 0.8053922057151794, 0.8053922057151794, 0.8017070293426514, 0.7978596687316895, 0.7978596687316895, 0.9196498990058899, 0.9038835763931274, 0.8636550903320312, 0.8334907293319702, 0.824112594127655, 0.8160545825958252, 0.7915235161781311, 0.7816696166992188, 0.7691226005554199, 0.7691226005554199, 0.7682342529296875, 0.7664930820465088, 0.7659552097320557, 0.7659552097320557, 0.7590219974517822, 0.7588516473770142, 0.7576762437820435, 0.7568140029907227, 0.7529098987579346, 0.7524664998054504, 0.7522726655006409, 0.7988332509994507, 0.7571793794631958, 0.755961000919342, 0.7110116481781006, 0.683812141418457, 0.6770783066749573, 0.6724339723587036, 0.6724339723587036, 0.6716110706329346, 0.6689857840538025, 0.6677476167678833, 0.6676556468009949, 0.6655557155609131, 0.6609022617340088, 0.6595385074615479, 0.6556394696235657, 0.653907299041748, 0.6502991914749146, 0.6501607298851013, 0.6490207314491272, 0.6473608016967773, 0.9397115111351013, 0.9194867610931396, 0.9194867610931396, 0.892963707447052, 0.8918523788452148, 0.8917567729949951, 0.8863569498062134, 0.8863569498062134, 0.8836269378662109, 0.873469889163971, 0.8658664226531982, 0.863305389881134, 0.8624122142791748, 0.8454968333244324, 0.8454968333244324, 0.8427064418792725, 0.8335333466529846, 0.8250203132629395, 0.8226759433746338, 0.8206421136856079, 0.8198801279067993, 0.9380967617034912, 0.9201012849807739, 0.9108278155326843, 0.9017132520675659, 0.8984218239784241, 0.8892538547515869, 0.8833591938018799, 0.8819999694824219, 0.8748977184295654, 0.873773455619812, 0.8668359518051147, 0.8668359518051147, 0.8659693002700806, 0.8640252351760864, 0.8601872324943542, 0.8546648621559143, 0.8543300628662109, 0.8523354530334473, 0.8409455418586731, 0.8396477699279785, 0.8388117551803589, 0.9397115111351013, 0.9194867610931396, 0.9194867610931396, 0.892963707447052, 0.8918523788452148, 0.8917567729949951, 0.8863569498062134, 0.8863569498062134, 0.8836269378662109, 0.873469889163971, 0.8658664226531982, 0.863305389881134, 0.8624122142791748, 0.8454968333244324, 0.8454968333244324, 0.8427064418792725, 0.8335333466529846, 0.8250203132629395, 0.8226759433746338, 0.8206421136856079, 0.8198801279067993, 0.9092954993247986, 0.8951758146286011, 0.8917471766471863, 0.8915888071060181, 0.8810214400291443, 0.8793514966964722, 0.8760710954666138, 0.8750938177108765, 0.8741723299026489, 0.8740540742874146, 0.8690007925033569, 0.8610731959342957, 0.8535624742507935, 0.845422625541687, 0.8442277908325195, 0.8442277908325195, 0.8438037633895874, 0.8438037633895874, 0.8424831628799438, 0.841221034526825, 0.8352027535438538, 0.9245520830154419, 0.9209256172180176, 0.9209256172180176, 0.9174246191978455, 0.8842459917068481, 0.8705299496650696, 0.8699769973754883, 0.8665006160736084, 0.8663963079452515, 0.8644928932189941, 0.8498772382736206, 0.8498772382736206, 0.8334197998046875, 0.8334197998046875, 0.8334197998046875, 0.8334197998046875, 0.8324093818664551, 0.8321807384490967, 0.8175874352455139, 0.799274206161499, 0.799274206161499, 0.9904404878616333, 0.9904404878616333, 0.9904404878616333, 0.9727900624275208, 0.9470866322517395, 0.935715913772583, 0.9347223043441772, 0.9347223043441772, 0.9341075420379639, 0.9341075420379639, 0.9324896931648254, 0.9278632998466492, 0.9278632998466492, 0.9274939894676208, 0.9267227053642273, 0.9218592047691345, 0.9183245897293091, 0.9152311682701111, 0.9132879376411438, 0.9110441207885742, 0.9109437465667725, 0.9245520830154419, 0.9209256172180176, 0.9209256172180176, 0.9174246191978455, 0.8842459917068481, 0.8705299496650696, 0.8699769973754883, 0.8665006160736084, 0.8663963079452515, 0.8644928932189941, 0.8498772382736206, 0.8498772382736206, 0.8334197998046875, 0.8334197998046875, 0.8334197998046875, 0.8334197998046875, 0.8324093818664551, 0.8321807384490967, 0.8175874352455139, 0.799274206161499, 0.799274206161499, 0.949884831905365, 0.9329653978347778, 0.9329653978347778, 0.9198912382125854, 0.8997784852981567, 0.8638937473297119, 0.8620119094848633, 0.86069655418396, 0.8592320680618286, 0.8592320680618286, 0.8582180738449097, 0.8524217009544373, 0.8524217009544373, 0.8512078523635864, 0.8474264144897461, 0.836890459060669, 0.8350417613983154, 0.8280481100082397, 0.8229798078536987, 0.8229163289070129, 0.8206647634506226, 0.8235363960266113, 0.8160116672515869, 0.8121883869171143, 0.8049639463424683, 0.8033714890480042, 0.8033714890480042, 0.7802966833114624, 0.7746341824531555, 0.745071291923523, 0.7420724034309387, 0.7388862371444702, 0.7371229529380798, 0.7367401123046875, 0.7367401123046875, 0.7352069616317749, 0.7351706027984619, 0.7225515842437744, 0.7201423645019531, 0.7191691398620605, 0.7185551524162292, 0.7175139784812927, 0.8888208866119385, 0.8005372285842896, 0.8005372285842896, 0.7900215983390808, 0.7900215983390808, 0.7900215983390808, 0.7897839546203613, 0.7887325286865234, 0.7835365533828735, 0.7667278051376343, 0.7535243630409241, 0.7535243630409241, 0.7535243630409241, 0.7528121471405029, 0.7528121471405029, 0.7526219487190247, 0.7526219487190247, 0.7526219487190247, 0.7526219487190247, 0.7526219487190247, 0.7526219487190247, 0.7598773241043091, 0.6216225028038025, 0.6216225028038025, 0.6216225028038025, 0.6094653606414795, 0.6068716645240784, 0.5978227853775024, 0.5934688448905945, 0.5798888206481934, 0.5612296462059021, 0.5444650650024414, 0.5388853549957275, 0.522502601146698, 0.520549476146698, 0.5154673457145691, 0.511829137802124, 0.4899074137210846, 0.48758044838905334, 0.48498618602752686, 0.48394662141799927, 0.4763314723968506, 0.8888208866119385, 0.8005372285842896, 0.8005372285842896, 0.7900215983390808, 0.7900215983390808, 0.7900215983390808, 0.7897839546203613, 0.7887325286865234, 0.7835365533828735, 0.7667278051376343, 0.7535243630409241, 0.7535243630409241, 0.7535243630409241, 0.7528121471405029, 0.7528121471405029, 0.7526219487190247, 0.7526219487190247, 0.7526219487190247, 0.7526219487190247, 0.7526219487190247, 0.7526219487190247, 0.8256626129150391, 0.7966032028198242, 0.7709292769432068, 0.7641631364822388, 0.7338792085647583, 0.7338792085647583, 0.7338792085647583, 0.7328647375106812, 0.6977938413619995, 0.6977938413619995, 0.6874553561210632, 0.6853927373886108, 0.6758224368095398, 0.6612513065338135, 0.6612513065338135, 0.6558610200881958, 0.6528981328010559, 0.6325947046279907, 0.6146206259727478, 0.6110367178916931, 0.6109567880630493, 0.8933001756668091, 0.8388532400131226, 0.8309425115585327, 0.8306958675384521, 0.8306958675384521, 0.8018500804901123, 0.7803573608398438, 0.7798985242843628, 0.779406726360321, 0.779406726360321, 0.777599573135376, 0.7741724848747253, 0.7672023177146912, 0.7672023177146912, 0.7641288042068481, 0.7599989175796509, 0.7599989175796509, 0.7595903873443604, 0.7595903873443604, 0.7595138549804688, 0.7583276629447937, 0.8060271739959717, 0.7922964096069336, 0.790303111076355, 0.788456916809082, 0.7877241373062134, 0.7853943705558777, 0.7816245555877686, 0.7740349173545837, 0.764266848564148, 0.7627989649772644, 0.7555851340293884, 0.7555851340293884, 0.7422516345977783, 0.7422516345977783, 0.739075243473053, 0.739075243473053, 0.7362512350082397, 0.7362512350082397, 0.7355872392654419, 0.7342073917388916, 0.7342073917388916, 0.8240283131599426, 0.78410404920578, 0.7246643304824829, 0.7194687128067017, 0.7167586088180542, 0.7081409096717834, 0.7038677334785461, 0.6999416351318359, 0.6878319978713989, 0.6820310354232788, 0.6568054556846619, 0.6562180519104004, 0.6538599729537964, 0.6538599729537964, 0.6538599729537964, 0.6538202166557312, 0.6517043113708496, 0.6426697373390198, 0.641345739364624, 0.6390509009361267, 0.6301211714744568, 0.8933001756668091, 0.8388532400131226, 0.8309425115585327, 0.8306958675384521, 0.8306958675384521, 0.8018500804901123, 0.7803573608398438, 0.7798985242843628, 0.779406726360321, 0.779406726360321, 0.777599573135376, 0.7741724848747253, 0.7672023177146912, 0.7672023177146912, 0.7641288042068481, 0.7599989175796509, 0.7599989175796509, 0.7595903873443604, 0.7595903873443604, 0.7595138549804688, 0.7583276629447937, 0.9382315874099731, 0.9106018543243408, 0.9106018543243408, 0.9078210592269897, 0.8945432305335999, 0.8945432305335999, 0.8899151682853699, 0.8815053105354309, 0.8779960870742798, 0.8697571158409119, 0.8584032654762268, 0.8508185744285583, 0.8404878377914429, 0.839050829410553, 0.8374419212341309, 0.8374419212341309, 0.8315833806991577, 0.8207336664199829, 0.8140221238136292, 0.8135877251625061, 0.8098987340927124, 0.9727869033813477, 0.970969021320343, 0.9420433640480042, 0.9116808176040649, 0.8944628238677979, 0.8923947215080261, 0.8923947215080261, 0.8885407447814941, 0.8824141025543213, 0.8808543682098389, 0.878020167350769, 0.8768462538719177, 0.8712124824523926, 0.8662111759185791, 0.8662111759185791, 0.8617545962333679, 0.8617545962333679, 0.8551779985427856, 0.8510341048240662, 0.845887303352356, 0.8456859588623047, 0.9382315874099731, 0.9106018543243408, 0.9106018543243408, 0.9078210592269897, 0.8945432305335999, 0.8945432305335999, 0.8899151682853699, 0.8815053105354309, 0.8779960870742798, 0.8697571158409119, 0.8584032654762268, 0.8508185744285583, 0.8404878377914429, 0.839050829410553, 0.8374419212341309, 0.8374419212341309, 0.8315833806991577, 0.8207336664199829, 0.8140221238136292, 0.8135877251625061, 0.8098987340927124, 0.8907605409622192, 0.8907605409622192, 0.8881603479385376, 0.8881603479385376, 0.8796150088310242, 0.8717153072357178, 0.8604875206947327, 0.8381379246711731, 0.8304458856582642, 0.8288041353225708, 0.8264509439468384, 0.8182826042175293, 0.8182826042175293, 0.8143113255500793, 0.8134340643882751, 0.803749680519104, 0.8018821477890015, 0.8004822134971619, 0.7996741533279419, 0.7983058094978333, 0.7982409000396729, 0.9434819221496582, 0.928325891494751, 0.9075089693069458, 0.9021630883216858, 0.8466262221336365, 0.8431141972541809, 0.8429650068283081, 0.8428629636764526, 0.8427742719650269, 0.8290285468101501, 0.8272480964660645, 0.8261188268661499, 0.8261188268661499, 0.8214958906173706, 0.8147320747375488, 0.811813235282898, 0.8085433840751648, 0.808493435382843, 0.8063919544219971, 0.8063919544219971, 0.8019027709960938, 0.9062701463699341, 0.9062701463699341, 0.8163251876831055, 0.8133508563041687, 0.7995826005935669, 0.7887556552886963, 0.7653709650039673, 0.764266848564148, 0.738884687423706, 0.7361241579055786, 0.7318238615989685, 0.7308263778686523, 0.7307897806167603, 0.7274258136749268, 0.7186199426651001, 0.7186199426651001, 0.7115868926048279, 0.7080963850021362, 0.7013696432113647, 0.7013488411903381, 0.7013488411903381, 0.9159203171730042, 0.9082893133163452, 0.8956456184387207, 0.8930066823959351, 0.8841756582260132, 0.8802178502082825, 0.8751527070999146, 0.8736675977706909, 0.8709447383880615, 0.8706492185592651, 0.8660688400268555, 0.8612551689147949, 0.8601805567741394, 0.8592161536216736, 0.8527505397796631, 0.8492854237556458, 0.8452772498130798, 0.8443493843078613, 0.8440428972244263, 0.8395746350288391, 0.8395746350288391, 0.9588703513145447, 0.9524250030517578, 0.9316670894622803, 0.9173969626426697, 0.9145621061325073, 0.9102996587753296, 0.899443507194519, 0.8923615217208862, 0.88592928647995, 0.878838062286377, 0.8740604519844055, 0.8740604519844055, 0.8698276877403259, 0.8690962791442871, 0.8652142286300659, 0.863305389881134, 0.863305389881134, 0.8630759716033936, 0.8593734502792358, 0.8534756898880005, 0.8507665395736694, 0.9159203171730042, 0.9082893133163452, 0.8956456184387207, 0.8930066823959351, 0.8841756582260132, 0.8802178502082825, 0.8751527070999146, 0.8736675977706909, 0.8709447383880615, 0.8706492185592651, 0.8660688400268555, 0.8612551689147949, 0.8601805567741394, 0.8592161536216736, 0.8527505397796631, 0.8492854237556458, 0.8452772498130798, 0.8443493843078613, 0.8440428972244263, 0.8395746350288391, 0.8395746350288391, 0.9367783069610596, 0.9086948037147522, 0.9036933779716492, 0.9021630883216858, 0.8840393424034119, 0.8707863092422485, 0.8703501224517822, 0.8677821159362793, 0.8656018972396851, 0.8656018972396851, 0.8323448300361633, 0.8267257213592529, 0.8252856731414795, 0.8240259885787964, 0.8203927874565125, 0.8203927874565125, 0.8201265931129456, 0.8137603402137756, 0.8119645118713379, 0.8062160015106201, 0.8059372901916504, 0.8272416591644287, 0.7983249425888062, 0.7897324562072754, 0.7872564196586609, 0.7489164471626282, 0.7435068488121033, 0.7307186126708984, 0.7199659943580627, 0.7112000584602356, 0.7058424353599548, 0.702750027179718, 0.6990242600440979, 0.68756502866745, 0.68756502866745, 0.686433732509613, 0.6772155165672302, 0.6734457015991211, 0.6734457015991211, 0.6560063362121582, 0.6411093473434448, 0.6388982534408569, 0.9488275051116943, 0.8763301968574524, 0.8567236065864563, 0.8495270013809204, 0.8370440006256104, 0.8288654088973999, 0.8274070024490356, 0.8216538429260254, 0.8004121780395508, 0.7927930355072021, 0.789587676525116, 0.7843931913375854, 0.7843931913375854, 0.7790369391441345, 0.7769936323165894, 0.7769936323165894, 0.7759767174720764, 0.7752964496612549, 0.769762396812439, 0.769762396812439, 0.7689474821090698, 0.8272416591644287, 0.7983249425888062, 0.7897324562072754, 0.7872564196586609, 0.7489164471626282, 0.7435068488121033, 0.7307186126708984, 0.7199659943580627, 0.7112000584602356, 0.7058424353599548, 0.702750027179718, 0.6990242600440979, 0.68756502866745, 0.68756502866745, 0.686433732509613, 0.6772155165672302, 0.6734457015991211, 0.6734457015991211, 0.6560063362121582, 0.6411093473434448, 0.6388982534408569, 0.9720892906188965, 0.9578099846839905, 0.9370535612106323, 0.905147910118103, 0.905147910118103, 0.9051464796066284, 0.8790013194084167, 0.8703640699386597, 0.8657833337783813, 0.8358277082443237, 0.8358033895492554, 0.8321431875228882, 0.8321431875228882, 0.8311716914176941, 0.8283655643463135, 0.827326238155365, 0.8232321739196777, 0.8183004260063171, 0.816969096660614, 0.8166980743408203, 0.8166980743408203, 0.9823054671287537, 0.9467687606811523, 0.8759769201278687, 0.8576890826225281, 0.8405819535255432, 0.8402286767959595, 0.8383113145828247, 0.836658775806427, 0.8344063758850098, 0.8344063758850098, 0.824886679649353, 0.8142800331115723, 0.8109053373336792, 0.8101141452789307, 0.8046665787696838, 0.8029888868331909, 0.8029888868331909, 0.7986671924591064, 0.7945870161056519, 0.7920985221862793, 0.7892705202102661, 0.9569911956787109, 0.9569911956787109, 0.9569911956787109, 0.9129670858383179, 0.9033762216567993, 0.9019269943237305, 0.8989858627319336, 0.8917649984359741, 0.8857032060623169, 0.8857032060623169, 0.8856268525123596, 0.8838262557983398, 0.8814467191696167, 0.8788362741470337, 0.8788362741470337, 0.8784105181694031, 0.8779395222663879, 0.8776706457138062, 0.8776706457138062, 0.8767483234405518, 0.8758453130722046, 0.9776827692985535, 0.9776827692985535, 0.9776827692985535, 0.9630857110023499, 0.948072075843811, 0.9405701160430908, 0.939577579498291, 0.939577579498291, 0.939577579498291, 0.939577579498291, 0.939577579498291, 0.939577579498291, 0.939577579498291, 0.9348084330558777, 0.9144744873046875, 0.9104403257369995, 0.9096618890762329, 0.9033953547477722, 0.9033953547477722, 0.9033953547477722, 0.9033953547477722, 0.9270341992378235, 0.9270341992378235, 0.9258881211280823, 0.9258881211280823, 0.9258881211280823, 0.9071986675262451, 0.9071986675262451, 0.90497887134552, 0.8960520625114441, 0.8960520625114441, 0.8954503536224365, 0.8910744190216064, 0.8892680406570435, 0.8884149789810181, 0.8854890465736389, 0.8841819763183594, 0.8841819763183594, 0.8753681182861328, 0.8753681182861328, 0.8734256029129028, 0.8696619272232056, 0.9586360454559326, 0.9575733542442322, 0.9575733542442322, 0.9416491985321045, 0.9398320317268372, 0.9245044589042664, 0.9235355854034424, 0.9110568761825562, 0.905147910118103, 0.9014006853103638, 0.8865976929664612, 0.8764706254005432, 0.866668701171875, 0.8664638996124268, 0.8613173365592957, 0.8599411249160767, 0.8576251268386841, 0.8495101928710938, 0.8447998762130737, 0.8433393239974976, 0.8402732610702515, 0.9714033603668213, 0.9666874408721924, 0.9658952951431274, 0.9635993242263794, 0.9620299339294434, 0.9522378444671631, 0.9498850107192993, 0.9446364641189575, 0.9410858154296875, 0.9410858154296875, 0.9395517706871033, 0.937065839767456, 0.93703293800354, 0.9308275580406189, 0.9259706735610962, 0.9256200790405273, 0.9256200790405273, 0.9231044054031372, 0.9231044054031372, 0.9221500158309937, 0.9221500158309937, 0.9586360454559326, 0.9575733542442322, 0.9575733542442322, 0.9416491985321045, 0.9398320317268372, 0.9245044589042664, 0.9235355854034424, 0.9110568761825562, 0.905147910118103, 0.9014006853103638, 0.8865976929664612, 0.8764706254005432, 0.866668701171875, 0.8664638996124268, 0.8613173365592957, 0.8599411249160767, 0.8576251268386841, 0.8495101928710938, 0.8447998762130737, 0.8433393239974976, 0.8402732610702515, 0.8864080905914307, 0.8726491928100586, 0.8493943214416504, 0.8429691791534424, 0.8403885364532471, 0.8136745691299438, 0.8117293119430542, 0.793415904045105, 0.7902466654777527, 0.7896914482116699, 0.7820013761520386, 0.7742034196853638, 0.770583987236023, 0.7650513052940369, 0.760662853717804, 0.7579823136329651, 0.7491157054901123, 0.7491157054901123, 0.7491157054901123, 0.736641526222229, 0.7349874377250671, 0.8195174336433411, 0.814304530620575, 0.814304530620575, 0.814304530620575, 0.814304530620575, 0.814304530620575, 0.814304530620575, 0.814304530620575, 0.814304530620575, 0.814304530620575, 0.814304530620575, 0.814304530620575, 0.814304530620575, 0.814304530620575, 0.814304530620575, 0.814304530620575, 0.814304530620575, 0.814304530620575, 0.814304530620575, 0.814304530620575, 0.814304530620575, 0.8859416246414185, 0.8542184233665466, 0.8542184233665466, 0.8139802813529968, 0.7915170192718506, 0.6953229904174805, 0.6932423710823059, 0.6889830231666565, 0.6889830231666565, 0.6889830231666565, 0.6869683265686035, 0.6802700757980347, 0.6651354432106018, 0.6611589193344116, 0.6600574254989624, 0.6589483022689819, 0.6586841940879822, 0.6558805704116821, 0.6539225578308105, 0.6491274833679199, 0.6487876772880554, 1.0, 1.0, 0.9468265175819397, 0.8947436809539795, 0.8796350955963135, 0.8687880039215088, 0.8620895743370056, 0.8613554239273071, 0.8588920831680298, 0.8544516563415527, 0.8496817350387573, 0.8496817350387573, 0.8496817350387573, 0.8496817350387573, 0.8482968807220459, 0.8419350385665894, 0.8419350385665894, 0.8397045731544495, 0.8397045731544495, 0.8371249437332153, 0.818954586982727, 1.0000001192092896, 0.8965716361999512, 0.865922749042511, 0.8526025414466858, 0.8503074645996094, 0.8375924825668335, 0.8375924825668335, 0.8375924825668335, 0.8374204635620117, 0.8342785835266113, 0.8304515480995178, 0.8304515480995178, 0.8304515480995178, 0.8221418261528015, 0.820572018623352, 0.8064778447151184, 0.794363260269165, 0.7855495810508728, 0.7855495810508728, 0.7855495810508728, 0.7838582992553711, 1.0000001192092896, 1.0000001192092896, 1.0000001192092896, 1.0000001192092896, 1.0000001192092896, 1.0000001192092896, 1.0000001192092896, 1.0000001192092896, 1.0000001192092896, 1.0000001192092896, 0.9927563071250916, 0.9452508687973022, 0.9452508687973022, 0.9452508687973022, 0.9452508687973022, 0.9251319169998169, 0.9200519919395447, 0.9200519919395447, 0.9136869311332703, 0.9054660797119141, 0.89763343334198, 1.0, 1.0, 0.9468265175819397, 0.8947436809539795, 0.8796350955963135, 0.8687880039215088, 0.8620895743370056, 0.8613554239273071, 0.8588920831680298, 0.8544516563415527, 0.8496817350387573, 0.8496817350387573, 0.8496817350387573, 0.8496817350387573, 0.8482968807220459, 0.8419350385665894, 0.8419350385665894, 0.8397045731544495, 0.8397045731544495, 0.8371249437332153, 0.818954586982727, 1.0, 0.9987550973892212, 0.9460849761962891, 0.8794457912445068, 0.8794457912445068, 0.8784847259521484, 0.8690253496170044, 0.8690253496170044, 0.867087185382843, 0.8662586212158203, 0.8596116900444031, 0.8596116900444031, 0.8540225028991699, 0.8497336506843567, 0.8497336506843567, 0.8483266830444336, 0.8338732719421387, 0.8336036801338196, 0.8328957557678223, 0.8291103839874268, 0.820695161819458, 0.9999999403953552, 0.9987550973892212, 0.944748044013977, 0.8834656476974487, 0.8790454864501953, 0.8790454864501953, 0.8716930747032166, 0.8682700395584106, 0.8682700395584106, 0.8663719892501831, 0.8607791662216187, 0.8607791662216187, 0.8588335514068604, 0.8502942323684692, 0.8452545404434204, 0.8452545404434204, 0.8396735787391663, 0.8351118564605713, 0.8334347009658813, 0.8315479159355164, 0.8227681517601013, 1.0, 1.0, 1.0, 1.0, 1.0, 1.0, 1.0, 1.0, 1.0, 1.0, 1.0, 1.0, 1.0, 1.0, 1.0, 1.0, 1.0, 1.0, 1.0, 1.0, 1.0, 0.9999999403953552, 0.9460849761962891, 0.944748044013977, 0.8436610102653503, 0.8436610102653503, 0.8433859348297119, 0.8369379043579102, 0.825229287147522, 0.8208569884300232, 0.8162757754325867, 0.8162757754325867, 0.8085585832595825, 0.8054484724998474, 0.7932051420211792, 0.7932051420211792, 0.7926450967788696, 0.7891616821289062, 0.7888342142105103, 0.7888342142105103, 0.7868662476539612, 0.7868215441703796, 0.9729369878768921, 0.9378409385681152, 0.9367839097976685, 0.930905282497406, 0.9194040298461914, 0.9139200448989868, 0.912841260433197, 0.912841260433197, 0.9076521396636963, 0.8859456777572632, 0.8813002705574036, 0.878834068775177, 0.878834068775177, 0.8779889941215515, 0.8763647079467773, 0.8728282451629639, 0.8700854778289795, 0.8693118691444397, 0.8668837547302246, 0.866553783416748, 0.857420802116394, 0.911231517791748, 0.9062024354934692, 0.9056870341300964, 0.9056870341300964, 0.8903895616531372, 0.8822072744369507, 0.8745130896568298, 0.8582799434661865, 0.8572845458984375, 0.8505495190620422, 0.8505495190620422, 0.8455908298492432, 0.8390945196151733, 0.8380390405654907, 0.830964207649231, 0.8300701975822449, 0.8290912508964539, 0.8287513256072998, 0.8227652907371521, 0.8224103450775146, 0.8194433450698853, 0.7814693450927734, 0.7363389730453491, 0.7363389730453491, 0.7363389730453491, 0.7263975739479065, 0.7252312302589417, 0.7178820371627808, 0.7177772521972656, 0.7172784209251404, 0.7121984958648682, 0.7039656639099121, 0.694223165512085, 0.6869242191314697, 0.6674089431762695, 0.6658279895782471, 0.6580877304077148, 0.6545461416244507, 0.6520233154296875, 0.6520233154296875, 0.6508787870407104, 0.6495074033737183, 0.9427706003189087, 0.9062951803207397, 0.9047209024429321, 0.9047209024429321, 0.8993239998817444, 0.8981375098228455, 0.8829247951507568, 0.8659026026725769, 0.8511789441108704, 0.8504128456115723, 0.8497911095619202, 0.8497911095619202, 0.8471345901489258, 0.8471345901489258, 0.8447177410125732, 0.8410201668739319, 0.83957839012146, 0.8385570049285889, 0.8378322124481201, 0.8342377543449402, 0.8338267803192139, 0.9097391963005066, 0.8460469245910645, 0.8460469245910645, 0.8460469245910645, 0.802811861038208, 0.8005372285842896, 0.8005372285842896, 0.7937288284301758, 0.7434825897216797, 0.7234790325164795, 0.7182866334915161, 0.7143551111221313, 0.7059990763664246, 0.7023681402206421, 0.7023681402206421, 0.7023681402206421, 0.6977938413619995, 0.6840468645095825, 0.6840468645095825, 0.6840468645095825, 0.6840468645095825, 0.9097391963005066, 0.8460469245910645, 0.8460469245910645, 0.8460469245910645, 0.802811861038208, 0.8005372285842896, 0.8005372285842896, 0.7937288284301758, 0.7434825897216797, 0.7234790325164795, 0.7182866334915161, 0.7143551111221313, 0.7059990763664246, 0.7023681402206421, 0.7023681402206421, 0.7023681402206421, 0.6977938413619995, 0.6840468645095825, 0.6840468645095825, 0.6840468645095825, 0.6840468645095825, 0.9493467807769775, 0.9244412779808044, 0.9042685031890869, 0.9035261273384094, 0.896577000617981, 0.8941102623939514, 0.8837569355964661, 0.8783575892448425, 0.8668264746665955, 0.8628257513046265, 0.8594658374786377, 0.8473003506660461, 0.8402186632156372, 0.8380661010742188, 0.8347304463386536, 0.8234688639640808, 0.8110145926475525, 0.8080711364746094, 0.7955562472343445, 0.7902815937995911, 0.7651933431625366, 0.9352506995201111, 0.9062347412109375, 0.9062347412109375, 0.9062347412109375, 0.8485581874847412, 0.8131669759750366, 0.7897839546203613, 0.7897839546203613, 0.774122953414917, 0.7654568552970886, 0.7641631364822388, 0.7478988170623779, 0.7422770857810974, 0.7409576773643494, 0.7409576773643494, 0.7409576773643494, 0.738761842250824, 0.738761842250824, 0.738761842250824, 0.738761842250824, 0.738761842250824, 0.9177365303039551, 0.9119845628738403, 0.9096488952636719, 0.9096488952636719, 0.9081484079360962, 0.904251217842102, 0.9018292427062988, 0.9018292427062988, 0.8618725538253784, 0.8584439754486084, 0.8584439754486084, 0.8584439754486084, 0.8582825660705566, 0.8569478988647461, 0.8542189598083496, 0.8541035652160645, 0.8541035652160645, 0.8513533473014832, 0.8485958576202393, 0.8485958576202393, 0.8482905626296997, 0.9976428151130676, 0.9781461954116821, 0.9781461954116821, 0.9781461954116821, 0.9672877192497253, 0.9546871185302734, 0.948370099067688, 0.9467965364456177, 0.9439631700515747, 0.9439631700515747, 0.9429830312728882, 0.9429830312728882, 0.9393165707588196, 0.9393165707588196, 0.9247792363166809, 0.9160881042480469, 0.9152786731719971, 0.8973325490951538, 0.8946511745452881, 0.8854105472564697, 0.8774775266647339, 0.9885457754135132, 0.9566552639007568, 0.9553619623184204, 0.9443875551223755, 0.9443875551223755, 0.9443875551223755, 0.9443875551223755, 0.9443875551223755, 0.9332281947135925, 0.9332281947135925, 0.9304504990577698, 0.9304504990577698, 0.9271864891052246, 0.9207314848899841, 0.9203027486801147, 0.9121007323265076, 0.9121007323265076, 0.9108822345733643, 0.9073163270950317, 0.9037560224533081, 0.9017616510391235, 1.0, 1.0, 1.0, 1.0, 1.0, 1.0, 1.0, 1.0, 1.0, 1.0, 1.0, 1.0, 1.0, 1.0, 1.0, 1.0, 1.0, 1.0, 1.0, 1.0, 1.0, 0.9976428151130676, 0.9781461954116821, 0.9781461954116821, 0.9781461954116821, 0.9672877192497253, 0.9546871185302734, 0.948370099067688, 0.9467965364456177, 0.9439631700515747, 0.9439631700515747, 0.9429830312728882, 0.9429830312728882, 0.9393165707588196, 0.9393165707588196, 0.9247792363166809, 0.9160881042480469, 0.9152786731719971, 0.8973325490951538, 0.8946511745452881, 0.8854105472564697, 0.8774775266647339, 0.8496619462966919, 0.8316603899002075, 0.8291205167770386, 0.7820874452590942, 0.7820874452590942, 0.7793135643005371, 0.7779886722564697, 0.7681766152381897, 0.7660828232765198, 0.7660626173019409, 0.759757936000824, 0.7574115991592407, 0.7509980797767639, 0.7509980797767639, 0.7480287551879883, 0.747874915599823, 0.7464084625244141, 0.7442857027053833, 0.7304282188415527, 0.7271254062652588, 0.7256792783737183, 0.888468325138092, 0.8740639686584473, 0.8740639686584473, 0.8509222269058228, 0.839499294757843, 0.8171102404594421, 0.7892820835113525, 0.7716412544250488, 0.7625787258148193, 0.7614648938179016, 0.7585111260414124, 0.7436127066612244, 0.7413585186004639, 0.7396209239959717, 0.7383204698562622, 0.732237696647644, 0.7223139405250549, 0.7209348678588867, 0.7193589806556702, 0.7191710472106934, 0.7173556089401245, 0.9392657279968262, 0.937486469745636, 0.937486469745636, 0.9177169799804688, 0.9159396290779114, 0.9090681076049805, 0.9082458019256592, 0.8768402338027954, 0.863286554813385, 0.8544623851776123, 0.8508940935134888, 0.8470874428749084, 0.8467859029769897, 0.8279964923858643, 0.8279964923858643, 0.8144291639328003, 0.8061329126358032, 0.8033008575439453, 0.7992948889732361, 0.7991962432861328, 0.7991962432861328, 0.9062701463699341, 0.8066403865814209, 0.7807842493057251, 0.7754436135292053, 0.7754436135292053, 0.7721590995788574, 0.7709296941757202, 0.7660318613052368, 0.7555851340293884, 0.7474518418312073, 0.739905834197998, 0.7387206554412842, 0.7308815121650696, 0.7242128849029541, 0.7224470973014832, 0.7224470973014832, 0.7222779989242554, 0.7222779989242554, 0.7147607803344727, 0.7140258550643921, 0.7140258550643921, 0.7657651305198669, 0.765670657157898, 0.765670657157898, 0.7045257091522217, 0.6774738430976868, 0.6623104810714722, 0.6531696319580078, 0.6457844376564026, 0.6261519193649292, 0.6219725608825684, 0.620654284954071, 0.6191982626914978, 0.6191982626914978, 0.609624981880188, 0.6091108918190002, 0.5965717434883118, 0.581506609916687, 0.5733853578567505, 0.5695885419845581, 0.5630911588668823, 0.5626384615898132, 0.8699556589126587, 0.8401718139648438, 0.8081323504447937, 0.7457098960876465, 0.7355364561080933, 0.7078714370727539, 0.6952799558639526, 0.6634620428085327, 0.6614522933959961, 0.651466965675354, 0.6480213403701782, 0.6411024928092957, 0.6411024928092957, 0.630544126033783, 0.6179158687591553, 0.5934650897979736, 0.5934650897979736, 0.5765975117683411, 0.5750842690467834, 0.5747420191764832, 0.5747420191764832, 0.9062701463699341, 0.8066403865814209, 0.7807842493057251, 0.7754436135292053, 0.7754436135292053, 0.7721590995788574, 0.7709296941757202, 0.7660318613052368, 0.7555851340293884, 0.7474518418312073, 0.739905834197998, 0.7387206554412842, 0.7308815121650696, 0.7242128849029541, 0.7224470973014832, 0.7224470973014832, 0.7222779989242554, 0.7222779989242554, 0.7147607803344727, 0.7140258550643921, 0.7140258550643921, 1.0, 1.0, 1.0, 1.0, 1.0, 1.0, 1.0, 1.0, 1.0, 1.0, 1.0, 1.0, 1.0, 1.0, 1.0, 1.0, 0.9944208860397339, 0.9905295968055725, 0.9905295968055725, 0.9905295968055725, 0.9905295968055725, 1.0, 1.0, 1.0, 1.0, 1.0, 1.0, 1.0, 1.0, 1.0, 1.0, 1.0, 1.0, 1.0, 1.0, 1.0, 1.0, 0.9944208860397339, 0.9905295968055725, 0.9905295968055725, 0.9905295968055725, 0.9905295968055725, 0.9398715496063232, 0.8832873106002808, 0.8832873106002808, 0.8765910863876343, 0.8765910863876343, 0.8613219261169434, 0.85297691822052, 0.8174898624420166, 0.8153170347213745, 0.8153170347213745, 0.8150414228439331, 0.8145659565925598, 0.7981322407722473, 0.796714723110199, 0.796714723110199, 0.7949091196060181, 0.7949091196060181, 0.7949091196060181, 0.7949091196060181, 0.789965033531189, 0.7816845774650574, 1.0, 1.0, 1.0, 1.0, 1.0, 1.0, 1.0, 1.0, 1.0, 1.0, 1.0, 1.0, 1.0, 1.0, 1.0, 1.0, 0.9944208860397339, 0.9905295968055725, 0.9905295968055725, 0.9905295968055725, 0.9905295968055725, 0.9695177674293518, 0.9695177674293518, 0.8968499898910522, 0.8879124522209167, 0.8777036070823669, 0.869175136089325, 0.8608163595199585, 0.8548109531402588, 0.8498772978782654, 0.8450978994369507, 0.8372255563735962, 0.8372255563735962, 0.8274361491203308, 0.8272621035575867, 0.8272621035575867, 0.8248668313026428, 0.824647843837738, 0.824647843837738, 0.8227121233940125, 0.8139113187789917, 0.8139113187789917, 0.9867261648178101, 0.8480928540229797, 0.8342849016189575, 0.8257077932357788, 0.8212882876396179, 0.8086245059967041, 0.798618733882904, 0.7955759763717651, 0.7851859331130981, 0.7785604596138, 0.7779886722564697, 0.776634693145752, 0.7725645303726196, 0.7713494300842285, 0.7709022760391235, 0.7678614854812622, 0.7662478089332581, 0.7602005004882812, 0.7544737458229065, 0.7533233165740967, 0.752949595451355, 0.7964389324188232, 0.7625125646591187, 0.7480269074440002, 0.7442456483840942, 0.7374163866043091, 0.7337620258331299, 0.7055330276489258, 0.687975287437439, 0.687975287437439, 0.6707243323326111, 0.6684048175811768, 0.6684048175811768, 0.6594491004943848, 0.6571454405784607, 0.6276423931121826, 0.6224017143249512, 0.6144704818725586, 0.6094651818275452, 0.6092750430107117, 0.6071212291717529, 0.6071212291717529, 0.9734591841697693, 0.9734591841697693, 0.8995101451873779, 0.8904274702072144, 0.8837052583694458, 0.8661141991615295, 0.8659798502922058, 0.8624164462089539, 0.8540998101234436, 0.8297935128211975, 0.8289399147033691, 0.8289399147033691, 0.8245093822479248, 0.8167781829833984, 0.8159909248352051, 0.8117789030075073, 0.8117789030075073, 0.810989260673523, 0.8050928115844727, 0.8050928115844727, 0.8044023513793945, 0.7290802597999573, 0.7043443918228149, 0.7037250995635986, 0.6905232667922974, 0.6622467041015625, 0.6457422971725464, 0.6334652304649353, 0.6311805248260498, 0.6308449506759644, 0.6292427778244019, 0.629122257232666, 0.6243160963058472, 0.6236589550971985, 0.6234256625175476, 0.6234256625175476, 0.6234256625175476, 0.6179705262184143, 0.6145740151405334, 0.6097652316093445, 0.6069437861442566, 0.6064525842666626, 0.7896045446395874, 0.7564160823822021, 0.7036194801330566, 0.7019119262695312, 0.6999136209487915, 0.6969612240791321, 0.696027398109436, 0.696027398109436, 0.696027398109436, 0.6955785751342773, 0.6843704581260681, 0.6823499202728271, 0.678122341632843, 0.6771436333656311, 0.6770724058151245, 0.6684750318527222, 0.6677048206329346, 0.6625443696975708, 0.6625443696975708, 0.6617721319198608, 0.6458940505981445, 0.8563268780708313, 0.8517469167709351, 0.7964529991149902, 0.7691663503646851, 0.7452988028526306, 0.7238565683364868, 0.698153018951416, 0.6474799513816833, 0.634543240070343, 0.6309434175491333, 0.618341326713562, 0.6144569516181946, 0.6068716645240784, 0.6017407774925232, 0.5997387170791626, 0.5997387170791626, 0.5956355929374695, 0.5928167700767517, 0.5867525935173035, 0.5804797410964966, 0.5797851085662842, 0.7896045446395874, 0.7564160823822021, 0.7036194801330566, 0.7019119262695312, 0.6999136209487915, 0.6969612240791321, 0.696027398109436, 0.696027398109436, 0.696027398109436, 0.6955785751342773, 0.6843704581260681, 0.6823499202728271, 0.678122341632843, 0.6771436333656311, 0.6770724058151245, 0.6684750318527222, 0.6677048206329346, 0.6625443696975708, 0.6625443696975708, 0.6617721319198608, 0.6458940505981445], \"xaxis\": \"x\", \"yaxis\": \"y\"}],\n",
              "                        {\"barmode\": \"relative\", \"legend\": {\"tracegroupgap\": 0}, \"template\": {\"data\": {\"bar\": [{\"error_x\": {\"color\": \"#2a3f5f\"}, \"error_y\": {\"color\": \"#2a3f5f\"}, \"marker\": {\"line\": {\"color\": \"#E5ECF6\", \"width\": 0.5}}, \"type\": \"bar\"}], \"barpolar\": [{\"marker\": {\"line\": {\"color\": \"#E5ECF6\", \"width\": 0.5}}, \"type\": \"barpolar\"}], \"carpet\": [{\"aaxis\": {\"endlinecolor\": \"#2a3f5f\", \"gridcolor\": \"white\", \"linecolor\": \"white\", \"minorgridcolor\": \"white\", \"startlinecolor\": \"#2a3f5f\"}, \"baxis\": {\"endlinecolor\": \"#2a3f5f\", \"gridcolor\": \"white\", \"linecolor\": \"white\", \"minorgridcolor\": \"white\", \"startlinecolor\": \"#2a3f5f\"}, \"type\": \"carpet\"}], \"choropleth\": [{\"colorbar\": {\"outlinewidth\": 0, \"ticks\": \"\"}, \"type\": \"choropleth\"}], \"contour\": [{\"colorbar\": {\"outlinewidth\": 0, \"ticks\": \"\"}, \"colorscale\": [[0.0, \"#0d0887\"], [0.1111111111111111, \"#46039f\"], [0.2222222222222222, \"#7201a8\"], [0.3333333333333333, \"#9c179e\"], [0.4444444444444444, \"#bd3786\"], [0.5555555555555556, \"#d8576b\"], [0.6666666666666666, \"#ed7953\"], [0.7777777777777778, \"#fb9f3a\"], [0.8888888888888888, \"#fdca26\"], [1.0, \"#f0f921\"]], \"type\": \"contour\"}], \"contourcarpet\": [{\"colorbar\": {\"outlinewidth\": 0, \"ticks\": \"\"}, \"type\": \"contourcarpet\"}], \"heatmap\": [{\"colorbar\": {\"outlinewidth\": 0, \"ticks\": \"\"}, \"colorscale\": [[0.0, \"#0d0887\"], [0.1111111111111111, \"#46039f\"], [0.2222222222222222, \"#7201a8\"], [0.3333333333333333, \"#9c179e\"], [0.4444444444444444, \"#bd3786\"], [0.5555555555555556, \"#d8576b\"], [0.6666666666666666, \"#ed7953\"], [0.7777777777777778, \"#fb9f3a\"], [0.8888888888888888, \"#fdca26\"], [1.0, \"#f0f921\"]], \"type\": \"heatmap\"}], \"heatmapgl\": [{\"colorbar\": {\"outlinewidth\": 0, \"ticks\": \"\"}, \"colorscale\": [[0.0, \"#0d0887\"], [0.1111111111111111, \"#46039f\"], [0.2222222222222222, \"#7201a8\"], [0.3333333333333333, \"#9c179e\"], [0.4444444444444444, \"#bd3786\"], [0.5555555555555556, \"#d8576b\"], [0.6666666666666666, \"#ed7953\"], [0.7777777777777778, \"#fb9f3a\"], [0.8888888888888888, \"#fdca26\"], [1.0, \"#f0f921\"]], \"type\": \"heatmapgl\"}], \"histogram\": [{\"marker\": {\"colorbar\": {\"outlinewidth\": 0, \"ticks\": \"\"}}, \"type\": \"histogram\"}], \"histogram2d\": [{\"colorbar\": {\"outlinewidth\": 0, \"ticks\": \"\"}, \"colorscale\": [[0.0, \"#0d0887\"], [0.1111111111111111, \"#46039f\"], [0.2222222222222222, \"#7201a8\"], [0.3333333333333333, \"#9c179e\"], [0.4444444444444444, \"#bd3786\"], [0.5555555555555556, \"#d8576b\"], [0.6666666666666666, \"#ed7953\"], [0.7777777777777778, \"#fb9f3a\"], [0.8888888888888888, \"#fdca26\"], [1.0, \"#f0f921\"]], \"type\": \"histogram2d\"}], \"histogram2dcontour\": [{\"colorbar\": {\"outlinewidth\": 0, \"ticks\": \"\"}, \"colorscale\": [[0.0, \"#0d0887\"], [0.1111111111111111, \"#46039f\"], [0.2222222222222222, \"#7201a8\"], [0.3333333333333333, \"#9c179e\"], [0.4444444444444444, \"#bd3786\"], [0.5555555555555556, \"#d8576b\"], [0.6666666666666666, \"#ed7953\"], [0.7777777777777778, \"#fb9f3a\"], [0.8888888888888888, \"#fdca26\"], [1.0, \"#f0f921\"]], \"type\": \"histogram2dcontour\"}], \"mesh3d\": [{\"colorbar\": {\"outlinewidth\": 0, \"ticks\": \"\"}, \"type\": \"mesh3d\"}], \"parcoords\": [{\"line\": {\"colorbar\": {\"outlinewidth\": 0, \"ticks\": \"\"}}, \"type\": \"parcoords\"}], \"pie\": [{\"automargin\": true, \"type\": \"pie\"}], \"scatter\": [{\"marker\": {\"colorbar\": {\"outlinewidth\": 0, \"ticks\": \"\"}}, \"type\": \"scatter\"}], \"scatter3d\": [{\"line\": {\"colorbar\": {\"outlinewidth\": 0, \"ticks\": \"\"}}, \"marker\": {\"colorbar\": {\"outlinewidth\": 0, \"ticks\": \"\"}}, \"type\": \"scatter3d\"}], \"scattercarpet\": [{\"marker\": {\"colorbar\": {\"outlinewidth\": 0, \"ticks\": \"\"}}, \"type\": \"scattercarpet\"}], \"scattergeo\": [{\"marker\": {\"colorbar\": {\"outlinewidth\": 0, \"ticks\": \"\"}}, \"type\": \"scattergeo\"}], \"scattergl\": [{\"marker\": {\"colorbar\": {\"outlinewidth\": 0, \"ticks\": \"\"}}, \"type\": \"scattergl\"}], \"scattermapbox\": [{\"marker\": {\"colorbar\": {\"outlinewidth\": 0, \"ticks\": \"\"}}, \"type\": \"scattermapbox\"}], \"scatterpolar\": [{\"marker\": {\"colorbar\": {\"outlinewidth\": 0, \"ticks\": \"\"}}, \"type\": \"scatterpolar\"}], \"scatterpolargl\": [{\"marker\": {\"colorbar\": {\"outlinewidth\": 0, \"ticks\": \"\"}}, \"type\": \"scatterpolargl\"}], \"scatterternary\": [{\"marker\": {\"colorbar\": {\"outlinewidth\": 0, \"ticks\": \"\"}}, \"type\": \"scatterternary\"}], \"surface\": [{\"colorbar\": {\"outlinewidth\": 0, \"ticks\": \"\"}, \"colorscale\": [[0.0, \"#0d0887\"], [0.1111111111111111, \"#46039f\"], [0.2222222222222222, \"#7201a8\"], [0.3333333333333333, \"#9c179e\"], [0.4444444444444444, \"#bd3786\"], [0.5555555555555556, \"#d8576b\"], [0.6666666666666666, \"#ed7953\"], [0.7777777777777778, \"#fb9f3a\"], [0.8888888888888888, \"#fdca26\"], [1.0, \"#f0f921\"]], \"type\": \"surface\"}], \"table\": [{\"cells\": {\"fill\": {\"color\": \"#EBF0F8\"}, \"line\": {\"color\": \"white\"}}, \"header\": {\"fill\": {\"color\": \"#C8D4E3\"}, \"line\": {\"color\": \"white\"}}, \"type\": \"table\"}]}, \"layout\": {\"annotationdefaults\": {\"arrowcolor\": \"#2a3f5f\", \"arrowhead\": 0, \"arrowwidth\": 1}, \"coloraxis\": {\"colorbar\": {\"outlinewidth\": 0, \"ticks\": \"\"}}, \"colorscale\": {\"diverging\": [[0, \"#8e0152\"], [0.1, \"#c51b7d\"], [0.2, \"#de77ae\"], [0.3, \"#f1b6da\"], [0.4, \"#fde0ef\"], [0.5, \"#f7f7f7\"], [0.6, \"#e6f5d0\"], [0.7, \"#b8e186\"], [0.8, \"#7fbc41\"], [0.9, \"#4d9221\"], [1, \"#276419\"]], \"sequential\": [[0.0, \"#0d0887\"], [0.1111111111111111, \"#46039f\"], [0.2222222222222222, \"#7201a8\"], [0.3333333333333333, \"#9c179e\"], [0.4444444444444444, \"#bd3786\"], [0.5555555555555556, \"#d8576b\"], [0.6666666666666666, \"#ed7953\"], [0.7777777777777778, \"#fb9f3a\"], [0.8888888888888888, \"#fdca26\"], [1.0, \"#f0f921\"]], \"sequentialminus\": [[0.0, \"#0d0887\"], [0.1111111111111111, \"#46039f\"], [0.2222222222222222, \"#7201a8\"], [0.3333333333333333, \"#9c179e\"], [0.4444444444444444, \"#bd3786\"], [0.5555555555555556, \"#d8576b\"], [0.6666666666666666, \"#ed7953\"], [0.7777777777777778, \"#fb9f3a\"], [0.8888888888888888, \"#fdca26\"], [1.0, \"#f0f921\"]]}, \"colorway\": [\"#636efa\", \"#EF553B\", \"#00cc96\", \"#ab63fa\", \"#FFA15A\", \"#19d3f3\", \"#FF6692\", \"#B6E880\", \"#FF97FF\", \"#FECB52\"], \"font\": {\"color\": \"#2a3f5f\"}, \"geo\": {\"bgcolor\": \"white\", \"lakecolor\": \"white\", \"landcolor\": \"#E5ECF6\", \"showlakes\": true, \"showland\": true, \"subunitcolor\": \"white\"}, \"hoverlabel\": {\"align\": \"left\"}, \"hovermode\": \"closest\", \"mapbox\": {\"style\": \"light\"}, \"paper_bgcolor\": \"white\", \"plot_bgcolor\": \"#E5ECF6\", \"polar\": {\"angularaxis\": {\"gridcolor\": \"white\", \"linecolor\": \"white\", \"ticks\": \"\"}, \"bgcolor\": \"#E5ECF6\", \"radialaxis\": {\"gridcolor\": \"white\", \"linecolor\": \"white\", \"ticks\": \"\"}}, \"scene\": {\"xaxis\": {\"backgroundcolor\": \"#E5ECF6\", \"gridcolor\": \"white\", \"gridwidth\": 2, \"linecolor\": \"white\", \"showbackground\": true, \"ticks\": \"\", \"zerolinecolor\": \"white\"}, \"yaxis\": {\"backgroundcolor\": \"#E5ECF6\", \"gridcolor\": \"white\", \"gridwidth\": 2, \"linecolor\": \"white\", \"showbackground\": true, \"ticks\": \"\", \"zerolinecolor\": \"white\"}, \"zaxis\": {\"backgroundcolor\": \"#E5ECF6\", \"gridcolor\": \"white\", \"gridwidth\": 2, \"linecolor\": \"white\", \"showbackground\": true, \"ticks\": \"\", \"zerolinecolor\": \"white\"}}, \"shapedefaults\": {\"line\": {\"color\": \"#2a3f5f\"}}, \"ternary\": {\"aaxis\": {\"gridcolor\": \"white\", \"linecolor\": \"white\", \"ticks\": \"\"}, \"baxis\": {\"gridcolor\": \"white\", \"linecolor\": \"white\", \"ticks\": \"\"}, \"bgcolor\": \"#E5ECF6\", \"caxis\": {\"gridcolor\": \"white\", \"linecolor\": \"white\", \"ticks\": \"\"}}, \"title\": {\"x\": 0.05}, \"xaxis\": {\"automargin\": true, \"gridcolor\": \"white\", \"linecolor\": \"white\", \"ticks\": \"\", \"title\": {\"standoff\": 15}, \"zerolinecolor\": \"white\", \"zerolinewidth\": 2}, \"yaxis\": {\"automargin\": true, \"gridcolor\": \"white\", \"linecolor\": \"white\", \"ticks\": \"\", \"title\": {\"standoff\": 15}, \"zerolinecolor\": \"white\", \"zerolinewidth\": 2}}}, \"title\": {\"text\": \"Scores for TF-IDF\"}, \"xaxis\": {\"anchor\": \"y\", \"domain\": [0.0, 1.0], \"title\": {\"text\": \"score\"}}, \"yaxis\": {\"anchor\": \"x\", \"domain\": [0.0, 1.0], \"title\": {\"text\": \"count\"}}},\n",
              "                        {\"responsive\": true}\n",
              "                    ).then(function(){\n",
              "                            \n",
              "var gd = document.getElementById('84d22311-95c7-4cfa-90c3-3548ca105409');\n",
              "var x = new MutationObserver(function (mutations, observer) {{\n",
              "        var display = window.getComputedStyle(gd).display;\n",
              "        if (!display || display === 'none') {{\n",
              "            console.log([gd, 'removed!']);\n",
              "            Plotly.purge(gd);\n",
              "            observer.disconnect();\n",
              "        }}\n",
              "}});\n",
              "\n",
              "// Listen for the removal of the full notebook cells\n",
              "var notebookContainer = gd.closest('#notebook-container');\n",
              "if (notebookContainer) {{\n",
              "    x.observe(notebookContainer, {childList: true});\n",
              "}}\n",
              "\n",
              "// Listen for the clearing of the current output cell\n",
              "var outputEl = gd.closest('.output');\n",
              "if (outputEl) {{\n",
              "    x.observe(outputEl, {childList: true});\n",
              "}}\n",
              "\n",
              "                        })\n",
              "                };\n",
              "                \n",
              "            </script>\n",
              "        </div>\n",
              "</body>\n",
              "</html>"
            ]
          },
          "metadata": {}
        }
      ]
    },
    {
      "cell_type": "code",
      "metadata": {
        "id": "QIBvHL1aOnOT"
      },
      "source": [
        "if use_wandb:\n",
        "  wandb.log({\"scores_hist\": fig})"
      ],
      "execution_count": 55,
      "outputs": []
    },
    {
      "cell_type": "code",
      "metadata": {
        "colab": {
          "base_uri": "https://localhost:8080/",
          "height": 293
        },
        "id": "ohaxVQ6d9iiD",
        "outputId": "b6a83648-b56a-446c-a693-ec61f37995b8"
      },
      "source": [
        "result, details = recommend_tune(df_sim, \"These Foolish Things [jazz1350]\")\n",
        "result.head(5)"
      ],
      "execution_count": 56,
      "outputs": [
        {
          "output_type": "execute_result",
          "data": {
            "text/html": [
              "<div>\n",
              "<style scoped>\n",
              "    .dataframe tbody tr th:only-of-type {\n",
              "        vertical-align: middle;\n",
              "    }\n",
              "\n",
              "    .dataframe tbody tr th {\n",
              "        vertical-align: top;\n",
              "    }\n",
              "\n",
              "    .dataframe thead th {\n",
              "        text-align: right;\n",
              "    }\n",
              "</style>\n",
              "<table border=\"1\" class=\"dataframe\">\n",
              "  <thead>\n",
              "    <tr style=\"text-align: right;\">\n",
              "      <th></th>\n",
              "      <th>index</th>\n",
              "      <th>reference</th>\n",
              "      <th>reference_titleid</th>\n",
              "      <th>similar_title</th>\n",
              "      <th>score</th>\n",
              "      <th>max</th>\n",
              "      <th>score_div_max</th>\n",
              "      <th>similar_titleid</th>\n",
              "    </tr>\n",
              "  </thead>\n",
              "  <tbody>\n",
              "    <tr>\n",
              "      <th>0</th>\n",
              "      <td>0</td>\n",
              "      <td>These Foolish Things [jazz1350]</td>\n",
              "      <td>1168</td>\n",
              "      <td>I Loves You Porgy [jazz1350]</td>\n",
              "      <td>0.986726</td>\n",
              "      <td>0.986726</td>\n",
              "      <td>1.000000</td>\n",
              "      <td>520</td>\n",
              "    </tr>\n",
              "    <tr>\n",
              "      <th>1</th>\n",
              "      <td>1</td>\n",
              "      <td>These Foolish Things [jazz1350]</td>\n",
              "      <td>1168</td>\n",
              "      <td>More Than You Know [jazz1350]</td>\n",
              "      <td>0.796439</td>\n",
              "      <td>0.796439</td>\n",
              "      <td>1.000000</td>\n",
              "      <td>829</td>\n",
              "    </tr>\n",
              "    <tr>\n",
              "      <th>2</th>\n",
              "      <td>2</td>\n",
              "      <td>These Foolish Things [jazz1350]</td>\n",
              "      <td>1168</td>\n",
              "      <td>What Are You Doing New Years [jazz1350]</td>\n",
              "      <td>0.762513</td>\n",
              "      <td>0.796439</td>\n",
              "      <td>0.957402</td>\n",
              "      <td>1265</td>\n",
              "    </tr>\n",
              "    <tr>\n",
              "      <th>3</th>\n",
              "      <td>3</td>\n",
              "      <td>These Foolish Things [jazz1350]</td>\n",
              "      <td>1168</td>\n",
              "      <td>They Can't Take That Away From Me [jazz1350]</td>\n",
              "      <td>0.748027</td>\n",
              "      <td>0.796439</td>\n",
              "      <td>0.939214</td>\n",
              "      <td>1170</td>\n",
              "    </tr>\n",
              "    <tr>\n",
              "      <th>4</th>\n",
              "      <td>4</td>\n",
              "      <td>These Foolish Things [jazz1350]</td>\n",
              "      <td>1168</td>\n",
              "      <td>If I Had You [jazz1350]</td>\n",
              "      <td>0.744246</td>\n",
              "      <td>0.796439</td>\n",
              "      <td>0.934467</td>\n",
              "      <td>577</td>\n",
              "    </tr>\n",
              "  </tbody>\n",
              "</table>\n",
              "</div>"
            ],
            "text/plain": [
              "   index                        reference  ...  score_div_max similar_titleid\n",
              "0      0  These Foolish Things [jazz1350]  ...       1.000000             520\n",
              "1      1  These Foolish Things [jazz1350]  ...       1.000000             829\n",
              "2      2  These Foolish Things [jazz1350]  ...       0.957402            1265\n",
              "3      3  These Foolish Things [jazz1350]  ...       0.939214            1170\n",
              "4      4  These Foolish Things [jazz1350]  ...       0.934467             577\n",
              "\n",
              "[5 rows x 8 columns]"
            ]
          },
          "metadata": {},
          "execution_count": 56
        }
      ]
    },
    {
      "cell_type": "markdown",
      "metadata": {
        "id": "UveSDI6QWALe"
      },
      "source": [
        "Copy results into a dataframe for later logging to W&B"
      ]
    },
    {
      "cell_type": "code",
      "metadata": {
        "id": "AEEqdXBiT5bl"
      },
      "source": [
        "dd = pd.DataFrame(columns = recommender_results_cols)\n",
        "\n",
        "for tune in tunes_eval_list:\n",
        "  result, details = recommend_tune(df_sim, tune)\n",
        "  dd['id'] = result['index']\n",
        "  dd['method'] = 'tfidf'\n",
        "  dd['reference'] = tune\n",
        "  dd['similar'] = result['similar_title']\n",
        "  dd['score_div_max'] = result['score_div_max']\n",
        "  dd['score'] = result['score']\n",
        "\n",
        "recommender_results = recommender_results.append(dd)"
      ],
      "execution_count": 57,
      "outputs": []
    },
    {
      "cell_type": "markdown",
      "metadata": {
        "id": "wqaUEFqxXZYB"
      },
      "source": [
        "### Test Contrafacts"
      ]
    },
    {
      "cell_type": "markdown",
      "metadata": {
        "id": "563ncYqAfIyN"
      },
      "source": [
        "With the model, query the top N highest matches for each section. For a tune, if at least one section receives the recommendation  for the expected title, increase the match counter."
      ]
    },
    {
      "cell_type": "code",
      "metadata": {
        "id": "RVPtraR-hg0G"
      },
      "source": [
        "def test_contrafacts(tunes, index, model, N=15):\n",
        "  matches = 0\n",
        "  number_of_sections = 0\n",
        "  results = {}\n",
        "\n",
        "  for tune, similar_tune in tunes:\n",
        "\n",
        "    # loop over all sections of the tune\n",
        "    section_matches = 0\n",
        "    for s1 in title_to_sectionid[tune]:\n",
        "      query = processed_corpus[s1]\n",
        "      query_bow = dictionary.doc2bow(query)\n",
        "\n",
        "      # perform a similarity query against the corpus\n",
        "      similarities = index[model[query_bow]]\n",
        "      sims = sorted(enumerate(similarities), key=lambda item: -item[1])\n",
        "\n",
        "      # check if the section matches the expected title; consider only the first 15 recommendations\n",
        "      i = 0\n",
        "      for sectionid, value in sims:\n",
        "        if i >= N:\n",
        "          break\n",
        "        i += 1\n",
        "        if sectionid_to_title[sectionid] == similar_tune:\n",
        "          section_matches += 1\n",
        "\n",
        "    # for each title, increase matches if at least one of the section matched the expected title\n",
        "    if section_matches > 0:\n",
        "      matches += 1  \n",
        "      results[f'{tune}, {similar_tune}'] = 1\n",
        "    else:\n",
        "      results[f'{tune}, {similar_tune}'] = 0\n",
        "  \n",
        "  return matches, results\n"
      ],
      "execution_count": 58,
      "outputs": []
    },
    {
      "cell_type": "code",
      "metadata": {
        "colab": {
          "base_uri": "https://localhost:8080/"
        },
        "id": "Q628rO5DhxWD",
        "outputId": "65ce5395-bc86-43d9-e267-c26eb72da9fd"
      },
      "source": [
        "topN = 15\n",
        "matches, results = test_contrafacts(contrafacts, index_tfidf, tfidf, topN)\n",
        "\n",
        "[print(f\"{val}: {rr}\") for rr, val in results.items()] \n",
        "print() \n",
        "print(f\"Found matches: {matches} out of {len(results)}: {100*matches/len(results):.3f}%\")"
      ],
      "execution_count": 59,
      "outputs": [
        {
          "output_type": "stream",
          "name": "stdout",
          "text": [
            "0: 26-2 [jazz1350], Confirmation [jazz1350]\n",
            "0: 52nd Street Theme [jazz1350], I Got Rhythm [jazz1350]\n",
            "1: Ablution [jazz1350], All The Things You Are [jazz1350]\n",
            "1: Anthropology [jazz1350], I Got Rhythm [jazz1350]\n",
            "0: Ballade [jazz1350], As Long As I Live [jazz1350]\n",
            "1: Bright Mississippi [jazz1350], Sweet Georgia Brown [jazz1350]\n",
            "1: C.T.A. [jazz1350], I Got Rhythm [jazz1350]\n",
            "1: Cottontail [jazz1350], I Got Rhythm [jazz1350]\n",
            "1: Countdown [jazz1350], Tune Up [jazz1350]\n",
            "0: Dewey Square [jazz1350], Oh, Lady Be Good [jazz1350]\n",
            "1: Dexterity [jazz1350], I Got Rhythm [jazz1350]\n",
            "1: Dig [jazz1350], Sweet Georgia Brown [jazz1350]\n",
            "1: Donna Lee [jazz1350], Indiana (Back Home Again In) [jazz1350]\n",
            "0: Don't Be That Way [jazz1350], I Got Rhythm [jazz1350]\n",
            "1: Evidence [jazz1350], Just You, Just Me [jazz1350]\n",
            "1: Flintstones [jazz1350], I Got Rhythm [jazz1350]\n",
            "0: Four On Six [jazz1350], Summertime [jazz1350]\n",
            "1: Freight Train [jazz1350], Blues For Alice [jazz1350]\n",
            "0: Good Bait [jazz1350], I Got Rhythm [jazz1350]\n",
            "1: Hackensack [jazz1350], Oh, Lady Be Good [jazz1350]\n",
            "1: Half Nelson [jazz1350], Lady Bird [jazz1350]\n",
            "1: Hot House [jazz1350], What Is This Thing Called Love [jazz1350]\n",
            "1: Impressions [jazz1350], So What [jazz1350]\n",
            "0: In A Mellow Tone (In A Mellotone) [jazz1350], Rose Room [jazz1350]\n",
            "1: In Walked Bud [jazz1350], Blue Skies [jazz1350]\n",
            "1: Ko Ko [jazz1350], Cherokee [jazz1350]\n",
            "0: Lennie's Pennies [jazz1350], Pennies From Heaven [jazz1350]\n",
            "0: Little Rootie Tootie [jazz1350], I Got Rhythm [jazz1350]\n",
            "0: Little Willie Leaps [jazz1350], All God's Chillun Got Rhythm [jazz1350]\n",
            "0: Lullaby Of Birdland [jazz1350], Love Me Or Leave Me [jazz1350]\n",
            "0: My Little Suede Shoes [jazz1350], Jeepers Creepers [jazz1350]\n",
            "1: Ornithology [jazz1350], How High The Moon [jazz1350]\n",
            "0: Quasimodo (Theme) [jazz1350], Embraceable You [jazz1350]\n",
            "0: Room 608 [jazz1350], I Got Rhythm [jazz1350]\n",
            "1: Satellite [jazz1350], How High The Moon [jazz1350]\n",
            "0: Scrapple From The Apple [jazz1350], Honeysuckle Rose [jazz1350]\n",
            "1: Scrapple From The Apple [jazz1350], I Got Rhythm [jazz1350]\n",
            "1: Tour De Force [jazz1350], Jeepers Creepers [jazz1350]\n",
            "1: Wow [jazz1350], You Can Depend On Me [jazz1350]\n",
            "1: Yardbird Suite [jazz1350], Rosetta [jazz1350]\n",
            "0: Sweet Sue, Just You [jazz1350], Honeysuckle Rose [jazz1350]\n",
            "0: Sweet Sue, Just You [jazz1350], Bye Bye Blackbird [jazz1350]\n",
            "0: These Foolish Things [jazz1350], Blue Moon [jazz1350]\n",
            "1: These Foolish Things [jazz1350], More Than You Know [jazz1350]\n",
            "1: These Foolish Things [jazz1350], Isn't It A Pity [jazz1350]\n",
            "0: These Foolish Things [jazz1350], Soultrain [jazz1350]\n",
            "0: These Foolish Things [jazz1350], Why Do I Love You [jazz1350]\n",
            "1: Misty [jazz1350], Portrait Of Jennie [jazz1350]\n",
            "0: Misty [jazz1350], September In The Rain [jazz1350]\n",
            "1: Misty [jazz1350], I May Be Wrong [jazz1350]\n",
            "1: Five Foot Two [trad], Please Don't Talk About Me When I'm Gone [trad]\n",
            "1: What Is This Thing Called Love [jazz1350], Subconscious Lee [jazz1350]\n",
            "1: Sweet Georgia Brown [jazz1350], Dig [jazz1350]\n",
            "1: What Is This Thing Called Love [jazz1350], Hot House [jazz1350]\n",
            "1: Jeannie's Song [jazz1350], Shiny Stockings [jazz1350]\n",
            "1: Alone Together [jazz1350], Segment [jazz1350]\n",
            "1: Baubles, Bangles and Beads [jazz1350], Bossa Antigua [jazz1350]\n",
            "1: There Will Never Be Another You [jazz1350], A Weaver Of Dreams [jazz1350]\n",
            "1: Moten Swing [jazz1350], Once In A While (Ballad) [trad]\n",
            "1: All I Do Is Dream Of You [trad], L-O-V-E [jazz1350]\n",
            "1: Nancy (With The Laughing Face) [jazz1350], Body And Soul [jazz1350]\n",
            "1: Exactly Like You [jazz1350], True (You Don't Love Me ) [trad]\n",
            "0: Exactly Like You [jazz1350], Jersey Bounce [trad]\n",
            "0: Take The A Train [jazz1350], Girl From Ipanema, The [jazz1350]\n",
            "1: My Heart Stood Still [jazz1350], All Too Soon [jazz1350]\n",
            "1: Undecided [trad], Broadway [jazz1350]\n",
            "1: Let's Fall In Love [jazz1350], Heart And Soul [jazz1350]\n",
            "1: Come Back To Me [jazz1350], I Wish I Knew [jazz1350]\n",
            "1: Wait Till You See Her [jazz1350], A Certain Smile [jazz1350]\n",
            "1: Killer Joe [jazz1350], Straight Life [jazz1350]\n",
            "1: Softly, As In A Morning Sunrise [jazz1350], Segment [jazz1350]\n",
            "1: Bei Mir Bist Du Schon (Root Hog Or Die) [trad], Egyptian Fantasy [trad]\n",
            "1: Bei Mir Bist Du Schon (Root Hog Or Die) [trad], Puttin' On The Ritz [jazz1350]\n",
            "1: Coquette [trad], Pretend You're Happy When You're Blue [trad]\n",
            "1: Softly, As In A Morning Sunrise [jazz1350], Strode Rode [jazz1350]\n",
            "1: Glory Of Love, The [jazz1350], I've Got My Fingers Crossed [trad]\n",
            "1: If I Had You [jazz1350], Too Young To Go Steady [jazz1350]\n",
            "1: Undecided [jazz1350], Satin Doll [jazz1350]\n",
            "1: Billy Boy [jazz1350], Elora [jazz1350]\n",
            "1: Dearly Beloved [jazz1350], We See [jazz1350]\n",
            "1: Alone Together [jazz1350], A Night In Tunisia [jazz1350]\n",
            "1: A Night In Tunisia [jazz1350], Segment [jazz1350]\n",
            "1: Oh! Lady Be Good [trad], Sentimental Journey [jazz1350]\n",
            "1: You Can Depend On Me [jazz1350], Move [jazz1350]\n",
            "1: I Want To Be Happy [jazz1350], A Beautiful Friendship [jazz1350]\n",
            "1: Flying Home [jazz1350], Down For Double [jazz1350]\n",
            "1: Cheek To Cheek [jazz1350], Violets For Your Furs [jazz1350]\n",
            "1: Let's Fall In Love [jazz1350], At Last [jazz1350]\n",
            "1: Don't Be That Way [jazz1350], Long Ago And Far Away [jazz1350]\n",
            "1: On The Sunny Side Of The Street [jazz1350], I'm Confessin' That I Love You [jazz1350]\n",
            "1: On The Sunny Side Of The Street [jazz1350], Eclypso [jazz1350]\n",
            "0: On The Sunny Side Of The Street [jazz1350], You Stepped Out Of A Dream [jazz1350]\n",
            "1: I Like The Likes Of You [jazz1350], Mountain Greenery [jazz1350]\n",
            "0: My Secret Love [jazz1350], Samba De Orfeu [jazz1350]\n",
            "1: Let's Call The Whole Thing Off [jazz1350], Fine And Dandy [jazz1350]\n",
            "1: Folks Who Live On The Hill, The [jazz1350], My One And Only Love [jazz1350]\n",
            "1: As Long As I Live [jazz1350], I'm Glad There Is You [jazz1350]\n",
            "1: I May Be Wrong [jazz1350], Teach Me Tonight [jazz1350]\n",
            "1: Am I Blue [jazz1350], Come Back To Me [jazz1350]\n",
            "1: My One And Only Love [jazz1350], Am I Blue [jazz1350]\n",
            "1: On The Sunny Side Of The Street [jazz1350], September In The Rain [jazz1350]\n",
            "0: On The Sunny Side Of The Street [jazz1350], Mountain Greenery [jazz1350]\n",
            "1: On The Sunny Side Of The Street [jazz1350], There's No You [jazz1350]\n",
            "1: Bill Bailey [jazz1350], Bourbon Street Parade [jazz1350]\n",
            "1: Woody'n You [jazz1350], Stella By Starlight [jazz1350]\n",
            "1: Tangerine [jazz1350], Tea For Two [jazz1350]\n",
            "1: I Can't Give You Anything But Love [jazz1350], You Can Depend On Me [jazz1350]\n",
            "1: This Year's Kisses [jazz1350], My Monday Date [trad]\n",
            "1: A Blossom Fell [jazz1350], Among My Souvenirs [jazz1350]\n",
            "\n",
            "Found matches: 84 out of 109: 77.064%\n"
          ]
        }
      ]
    },
    {
      "cell_type": "code",
      "metadata": {
        "id": "8lKZukYybvMJ"
      },
      "source": [
        "model_name = 'tfidf'\n",
        "if use_wandb:\n",
        "  wandb.log(\n",
        "      {model_name: {\n",
        "                'contrafacts': {\n",
        "                    'topN': topN,\n",
        "                    'success': matches/len(contrafacts),\n",
        "                    #'results': results\n",
        "                    }\n",
        "                   },\n",
        "       'all_models': {\n",
        "           model_name: wandb.Table(\n",
        "               columns=[\"Title\", \"Match\"],\n",
        "               data=[[key, value] for key, value in results.items()]),\n",
        "       }\n",
        "       })"
      ],
      "execution_count": 60,
      "outputs": []
    },
    {
      "cell_type": "markdown",
      "metadata": {
        "id": "Phw7fBDk0px7"
      },
      "source": [
        "## Store TF-IDF Model to W&B"
      ]
    },
    {
      "cell_type": "code",
      "metadata": {
        "id": "KdYWJX-60pdd"
      },
      "source": [
        "if use_wandb:\n",
        "  model_artifact = wandb.Artifact(\n",
        "      \"model_tfidf\", \n",
        "      type=\"model\",\n",
        "      description=\"TF-IDF Model\",\n",
        "      metadata=\"\")\n",
        "\n",
        "  model_artifact.add_file(\"/content/index/tfidf.model\")\n",
        "  model_artifact.add_file(\"/content/index/tfidf.index\")\n",
        "  wandb.log_artifact(model_artifact)"
      ],
      "execution_count": 61,
      "outputs": []
    },
    {
      "cell_type": "markdown",
      "metadata": {
        "id": "Pj0mpWpahPu1"
      },
      "source": [
        "## Get Recommender Data for WebApp\n",
        "\n"
      ]
    },
    {
      "cell_type": "code",
      "metadata": {
        "id": "buRbSTWehvPP"
      },
      "source": [
        "tune_test = [\"These Foolish Things [jazz1350]\",\n",
        "             \"Misty [jazz1350]\"]"
      ],
      "execution_count": 62,
      "outputs": []
    },
    {
      "cell_type": "code",
      "metadata": {
        "colab": {
          "base_uri": "https://localhost:8080/"
        },
        "id": "kwdXs-pZjKKD",
        "outputId": "dc2c16b6-b84a-4851-c943-47a73c9e2a92"
      },
      "source": [
        "%%time\n",
        "if generate_webapp_data:\n",
        "  _tunes = list(tunes['title_playlist'].values())\n",
        "\n",
        "  df_sim = get_sim_scores(_tunes, index_tfidf, tfidf)\n",
        "\n",
        "  result = None\n",
        "  for tune in _tunes:\n",
        "    tune_result, details = recommend_tune(df_sim, tune)\n",
        "    if result is None:\n",
        "      result = pd.DataFrame(columns=tune_result.columns)\n",
        "    result = result.append(tune_result)\n",
        "\n",
        "  # save to file\n",
        "  result.to_csv('output/recommender_tfidf.csv', sep='\\t', encoding='utf8')\n",
        "\n",
        "  # save to wandb\n",
        "  if use_wandb:\n",
        "    model_artifact = wandb.Artifact(\n",
        "        \"recommender_tfidf\", \n",
        "        type=\"csv\",\n",
        "        description=\"Recommendations for each Tune using TF-IDF Model (csv file)\",\n",
        "        metadata=\"\")\n",
        "\n",
        "    model_artifact.add_file('output/recommender_tfidf.csv')\n",
        "    wandb.log_artifact(model_artifact)"
      ],
      "execution_count": 63,
      "outputs": [
        {
          "output_type": "stream",
          "name": "stdout",
          "text": [
            "CPU times: user 7 µs, sys: 0 ns, total: 7 µs\n",
            "Wall time: 19.8 µs\n"
          ]
        }
      ]
    },
    {
      "cell_type": "code",
      "metadata": {
        "id": "uyJxqE5bnx7V"
      },
      "source": [
        ""
      ],
      "execution_count": 63,
      "outputs": []
    },
    {
      "cell_type": "markdown",
      "metadata": {
        "id": "99xHBRsd--OB"
      },
      "source": [
        "# LSA (Latent Semantic Analysis), aka LSI (Latent Semantic Index) "
      ]
    },
    {
      "cell_type": "code",
      "metadata": {
        "id": "adsW9Uh9_JXs"
      },
      "source": [
        "from collections import defaultdict"
      ],
      "execution_count": 64,
      "outputs": []
    },
    {
      "cell_type": "code",
      "metadata": {
        "colab": {
          "base_uri": "https://localhost:8080/"
        },
        "id": "s3AJZGRD_IHW",
        "outputId": "fcd361ca-19e8-4114-e0b3-7a242d07c231"
      },
      "source": [
        "num_topics = lsi_config['num_topics']\n",
        "\n",
        "# remove words that appear only once\n",
        "frequency = defaultdict(int)\n",
        "for text in processed_corpus:\n",
        "    for token in text:\n",
        "        frequency[token] += 1\n",
        "\n",
        "data = [[token for token in text if frequency[token] > 1] for text in processed_corpus]\n",
        "dictionary = corpora.Dictionary(data)\n",
        "\n",
        "# doc2bow counts the number of occurences of each distinct word,\n",
        "# converts the word to its integer word id and returns the result\n",
        "# as a sparse vector\n",
        "\n",
        "bow_corpus = [dictionary.doc2bow(text) for text in data]\n",
        "lsi = LsiModel(bow_corpus, id2word=dictionary, num_topics=num_topics)  # num_topics can be maximum the size of the number of unique tokens"
      ],
      "execution_count": 65,
      "outputs": [
        {
          "output_type": "stream",
          "name": "stderr",
          "text": [
            "2021-11-28 10:01:51,816 : INFO : adding document #0 to Dictionary(0 unique tokens: [])\n",
            "2021-11-28 10:01:51,919 : INFO : built Dictionary(72 unique tokens: ['Am', 'B7', 'C', 'C#', 'C7']...) from 5391 documents (total 82622 corpus positions)\n",
            "2021-11-28 10:01:51,922 : INFO : Dictionary lifecycle event {'msg': \"built Dictionary(72 unique tokens: ['Am', 'B7', 'C', 'C#', 'C7']...) from 5391 documents (total 82622 corpus positions)\", 'datetime': '2021-11-28T10:01:51.922091', 'gensim': '4.1.2', 'python': '3.7.12 (default, Sep 10 2021, 00:21:48) \\n[GCC 7.5.0]', 'platform': 'Linux-5.4.104+-x86_64-with-Ubuntu-18.04-bionic', 'event': 'created'}\n",
            "2021-11-28 10:01:51,984 : INFO : using serial LSI version on this node\n",
            "2021-11-28 10:01:51,986 : INFO : updating model with new documents\n",
            "2021-11-28 10:01:51,989 : INFO : preparing a new chunk of documents\n",
            "2021-11-28 10:01:52,026 : INFO : using 100 extra samples and 2 power iterations\n",
            "2021-11-28 10:01:52,035 : INFO : 1st phase: constructing (72, 300) action matrix\n",
            "2021-11-28 10:01:52,145 : INFO : orthonormalizing (72, 300) action matrix\n",
            "2021-11-28 10:01:52,181 : INFO : 2nd phase: running dense svd on (72, 5391) matrix\n",
            "2021-11-28 10:01:52,242 : INFO : computing the final decomposition\n",
            "2021-11-28 10:01:52,244 : INFO : keeping 72 factors (discarding 0.000% of energy spectrum)\n",
            "2021-11-28 10:01:52,255 : INFO : processed documents up to #5391\n",
            "2021-11-28 10:01:52,257 : INFO : topic #0(398.310): 0.714*\"C\" + 0.508*\"G7\" + 0.286*\"Dm\" + 0.176*\"D7\" + 0.168*\"A7\" + 0.160*\"F\" + 0.150*\"Am\" + 0.115*\"C7\" + 0.092*\"E7\" + 0.080*\"Em\"\n",
            "2021-11-28 10:01:52,258 : INFO : topic #1(168.270): 0.780*\"Am\" + -0.378*\"C\" + 0.342*\"E7\" + 0.266*\"Dm\" + 0.114*\"Bm7b5\" + 0.097*\"Em\" + 0.088*\"A7\" + 0.080*\"D7\" + 0.071*\"F7\" + 0.066*\"B7\"\n",
            "2021-11-28 10:01:52,263 : INFO : topic #2(129.738): -0.652*\"Dm\" + 0.363*\"Am\" + 0.348*\"C\" + -0.270*\"A7\" + -0.263*\"G7\" + 0.232*\"F\" + -0.229*\"Em\" + 0.181*\"E7\" + 0.146*\"D7\" + 0.065*\"G\"\n",
            "2021-11-28 10:01:52,268 : INFO : topic #3(113.617): 0.724*\"C7\" + -0.341*\"C\" + 0.300*\"D7\" + 0.272*\"G7\" + -0.245*\"Dm\" + 0.218*\"F\" + -0.179*\"Am\" + 0.130*\"F7\" + 0.102*\"Gm\" + 0.094*\"Bb7\"\n",
            "2021-11-28 10:01:52,272 : INFO : topic #4(104.284): -0.579*\"D7\" + 0.415*\"C7\" + 0.354*\"F\" + -0.307*\"G7\" + -0.293*\"A7\" + 0.279*\"Dm\" + -0.159*\"E7\" + 0.141*\"C\" + 0.137*\"Em\" + 0.114*\"Gm\"\n",
            "2021-11-28 10:01:52,275 : INFO : LsiModel lifecycle event {'msg': 'trained LsiModel(num_terms=72, num_topics=200, decay=1.0, chunksize=20000) in 0.29s', 'datetime': '2021-11-28T10:01:52.275000', 'gensim': '4.1.2', 'python': '3.7.12 (default, Sep 10 2021, 00:21:48) \\n[GCC 7.5.0]', 'platform': 'Linux-5.4.104+-x86_64-with-Ubuntu-18.04-bionic', 'event': 'created'}\n"
          ]
        }
      ]
    },
    {
      "cell_type": "code",
      "metadata": {
        "id": "EvxSQFfBBNMJ",
        "colab": {
          "base_uri": "https://localhost:8080/"
        },
        "outputId": "a5378f92-f14f-4353-ac95-f49a74934953"
      },
      "source": [
        "index_lsi = similarities.Similarity('/content/index/index_lsi', lsi[bow_corpus], num_features=len(dictionary))"
      ],
      "execution_count": 66,
      "outputs": [
        {
          "output_type": "stream",
          "name": "stderr",
          "text": [
            "2021-11-28 10:01:52,288 : INFO : starting similarity index under /content/index/index_lsi\n"
          ]
        }
      ]
    },
    {
      "cell_type": "code",
      "metadata": {
        "id": "3saA6NY5Tzer"
      },
      "source": [
        "#index_lsi = similarities.SparseMatrixSimilarity(lsi[bow_corpus], num_features = len(dictionary))\n",
        "#index_lsi = similarities.MatrixSimilarity(lsi[bow_corpus])  # transform corpus to LSI space and index it\n"
      ],
      "execution_count": 67,
      "outputs": []
    },
    {
      "cell_type": "code",
      "metadata": {
        "colab": {
          "base_uri": "https://localhost:8080/"
        },
        "id": "F5pbDMVyfEtS",
        "outputId": "52aa169b-9d37-4200-9099-eee13855a143"
      },
      "source": [
        "lsi.save('/content/index/lsi.model')\n",
        "index_lsi.save('/content/index/lsi_matrixsim.index')\n"
      ],
      "execution_count": 68,
      "outputs": [
        {
          "output_type": "stream",
          "name": "stderr",
          "text": [
            "2021-11-28 10:01:52,941 : INFO : Projection lifecycle event {'fname_or_handle': '/content/index/lsi.model.projection', 'separately': 'None', 'sep_limit': 10485760, 'ignore': frozenset(), 'datetime': '2021-11-28T10:01:52.941073', 'gensim': '4.1.2', 'python': '3.7.12 (default, Sep 10 2021, 00:21:48) \\n[GCC 7.5.0]', 'platform': 'Linux-5.4.104+-x86_64-with-Ubuntu-18.04-bionic', 'event': 'saving'}\n",
            "2021-11-28 10:01:52,945 : INFO : saved /content/index/lsi.model.projection\n",
            "2021-11-28 10:01:52,948 : INFO : LsiModel lifecycle event {'fname_or_handle': '/content/index/lsi.model', 'separately': 'None', 'sep_limit': 10485760, 'ignore': ['projection', 'dispatcher'], 'datetime': '2021-11-28T10:01:52.948158', 'gensim': '4.1.2', 'python': '3.7.12 (default, Sep 10 2021, 00:21:48) \\n[GCC 7.5.0]', 'platform': 'Linux-5.4.104+-x86_64-with-Ubuntu-18.04-bionic', 'event': 'saving'}\n",
            "2021-11-28 10:01:52,950 : INFO : not storing attribute projection\n",
            "2021-11-28 10:01:52,951 : INFO : not storing attribute dispatcher\n",
            "2021-11-28 10:01:52,953 : INFO : saved /content/index/lsi.model\n",
            "2021-11-28 10:01:52,955 : INFO : creating matrix with 5391 documents and 72 features\n",
            "2021-11-28 10:01:52,969 : INFO : creating dense shard #0\n",
            "2021-11-28 10:01:52,972 : INFO : saving index shard to /content/index/index_lsi.0\n",
            "2021-11-28 10:01:52,974 : INFO : MatrixSimilarity lifecycle event {'fname_or_handle': '/content/index/index_lsi.0', 'separately': 'None', 'sep_limit': 10485760, 'ignore': frozenset(), 'datetime': '2021-11-28T10:01:52.973991', 'gensim': '4.1.2', 'python': '3.7.12 (default, Sep 10 2021, 00:21:48) \\n[GCC 7.5.0]', 'platform': 'Linux-5.4.104+-x86_64-with-Ubuntu-18.04-bionic', 'event': 'saving'}\n",
            "2021-11-28 10:01:52,982 : INFO : saved /content/index/index_lsi.0\n",
            "2021-11-28 10:01:52,984 : INFO : loading MatrixSimilarity object from /content/index/index_lsi.0\n",
            "2021-11-28 10:01:52,988 : INFO : MatrixSimilarity lifecycle event {'fname': '/content/index/index_lsi.0', 'datetime': '2021-11-28T10:01:52.988459', 'gensim': '4.1.2', 'python': '3.7.12 (default, Sep 10 2021, 00:21:48) \\n[GCC 7.5.0]', 'platform': 'Linux-5.4.104+-x86_64-with-Ubuntu-18.04-bionic', 'event': 'loaded'}\n",
            "2021-11-28 10:01:52,993 : INFO : Similarity lifecycle event {'fname_or_handle': '/content/index/lsi_matrixsim.index', 'separately': 'None', 'sep_limit': 10485760, 'ignore': frozenset(), 'datetime': '2021-11-28T10:01:52.993364', 'gensim': '4.1.2', 'python': '3.7.12 (default, Sep 10 2021, 00:21:48) \\n[GCC 7.5.0]', 'platform': 'Linux-5.4.104+-x86_64-with-Ubuntu-18.04-bionic', 'event': 'saving'}\n",
            "2021-11-28 10:01:52,996 : INFO : saved /content/index/lsi_matrixsim.index\n"
          ]
        }
      ]
    },
    {
      "cell_type": "code",
      "metadata": {
        "colab": {
          "base_uri": "https://localhost:8080/"
        },
        "id": "1udPIceqYk6S",
        "outputId": "ddc4b611-da57-4e5e-eda0-eb7ac43e8968"
      },
      "source": [
        "!ls -la /content/index"
      ],
      "execution_count": 69,
      "outputs": [
        {
          "output_type": "stream",
          "name": "stdout",
          "text": [
            "total 1932\n",
            "drwxr-xr-x 2 root root    4096 Nov 28 10:01 .\n",
            "drwxr-xr-x 1 root root    4096 Nov 28 10:01 ..\n",
            "-rw-r--r-- 1 root root 1553280 Nov 28 10:01 index_lsi.0\n",
            "-rw-r--r-- 1 root root     742 Nov 28 10:01 lsi_matrixsim.index\n",
            "-rw-r--r-- 1 root root    2728 Nov 28 10:01 lsi.model\n",
            "-rw-r--r-- 1 root root   42728 Nov 28 10:01 lsi.model.projection\n",
            "-rw-r--r-- 1 root root  352360 Nov 28 10:01 tfidf.index\n",
            "-rw-r--r-- 1 root root    2782 Nov 28 10:01 tfidf.model\n"
          ]
        }
      ]
    },
    {
      "cell_type": "markdown",
      "metadata": {
        "id": "u05KD64Ai1uo"
      },
      "source": [
        "## Tests"
      ]
    },
    {
      "cell_type": "markdown",
      "metadata": {
        "id": "pDxTCAGv9MmZ"
      },
      "source": [
        "### Test for single tunes"
      ]
    },
    {
      "cell_type": "code",
      "metadata": {
        "colab": {
          "base_uri": "https://localhost:8080/"
        },
        "id": "khASSJ1eEuf5",
        "outputId": "5a231c06-9288-464e-8b79-0d887dbeca49"
      },
      "source": [
        "%%time\n",
        "df_sim = get_sim_scores(tunes_eval_list, index=index_lsi, model=lsi)\n",
        "\n",
        "# save a copy of the results; all results will be concatenated at the end\n",
        "df_lsi = df_sim[:]"
      ],
      "execution_count": 70,
      "outputs": [
        {
          "output_type": "stream",
          "name": "stdout",
          "text": [
            "\n",
            "--------------------------------------------------\n",
            "125 After You've Gone, section1 (A)\n",
            "126 After You've Gone, section2 (B)\n",
            "127 After You've Gone, section3 (A)\n",
            "128 After You've Gone, section4 (C)\n",
            "\n",
            "--------------------------------------------------\n",
            "188 All God's Chillun Got Rhythm, section1 (A)\n",
            "189 All God's Chillun Got Rhythm, section2 (B)\n",
            "190 All God's Chillun Got Rhythm, section3 (A)\n",
            "191 All God's Chillun Got Rhythm, section4 (C)\n",
            "\n",
            "--------------------------------------------------\n",
            "198 All Of Me, section1 (A)\n",
            "199 All Of Me, section2 (B)\n",
            "200 All Of Me, section3 (A)\n",
            "201 All Of Me, section4 (C)\n",
            "\n",
            "--------------------------------------------------\n",
            "474 Blood Count, section1 (A)\n",
            "475 Blood Count, section2 (A)\n",
            "476 Blood Count, section3 (B)\n",
            "477 Blood Count, section4 (A)\n",
            "478 Blood Count, section5 (C)\n",
            "\n",
            "--------------------------------------------------\n",
            "496 Blue Moon, section1 (A)\n",
            "497 Blue Moon, section2 (A)\n",
            "498 Blue Moon, section3 (B)\n",
            "499 Blue Moon, section4 (A)\n",
            "\n",
            "--------------------------------------------------\n",
            "626 But Beautiful, section1 (A)\n",
            "627 But Beautiful, section2 (B)\n",
            "628 But Beautiful, section3 (A)\n",
            "629 But Beautiful, section4 (C)\n",
            "\n",
            "--------------------------------------------------\n",
            "653 Bye Bye Blackbird, section1 (A)\n",
            "654 Bye Bye Blackbird, section2 (B)\n",
            "\n",
            "--------------------------------------------------\n",
            "676 Call Me Irresponsible, section1 (A)\n",
            "677 Call Me Irresponsible, section2 (B)\n",
            "678 Call Me Irresponsible, section3 (A)\n",
            "679 Call Me Irresponsible, section4 (B)\n",
            "\n",
            "--------------------------------------------------\n",
            "826 Corcovado, section1 (A)\n",
            "827 Corcovado, section2 (B)\n",
            "828 Corcovado, section3 (A)\n",
            "829 Corcovado, section4 (C)\n",
            "\n",
            "--------------------------------------------------\n",
            "997 Dinah, section1 (A)\n",
            "998 Dinah, section2 (A)\n",
            "999 Dinah, section3 (B)\n",
            "1000 Dinah, section4 (A)\n",
            "\n",
            "--------------------------------------------------\n",
            "1125 East Of The Sun, section1 (A)\n",
            "1126 East Of The Sun, section2 (B)\n",
            "1127 East Of The Sun, section3 (A)\n",
            "1128 East Of The Sun, section4 (C)\n",
            "\n",
            "--------------------------------------------------\n",
            "1287 Footprints, section0 (nan)\n",
            "\n",
            "--------------------------------------------------\n",
            "1379 Giant Steps, section0 (nan)\n",
            "\n",
            "--------------------------------------------------\n",
            "1538 Honeysuckle Rose, section1 (A)\n",
            "1539 Honeysuckle Rose, section2 (A)\n",
            "1540 Honeysuckle Rose, section3 (B)\n",
            "1541 Honeysuckle Rose, section4 (A)\n",
            "\n",
            "--------------------------------------------------\n",
            "1647 I Got Rhythm, section1 (A)\n",
            "1648 I Got Rhythm, section2 (A)\n",
            "1649 I Got Rhythm, section3 (B)\n",
            "1650 I Got Rhythm, section4 (A)\n",
            "\n",
            "--------------------------------------------------\n",
            "2670 Misty, section1 (A)\n",
            "2671 Misty, section2 (A)\n",
            "2672 Misty, section3 (B)\n",
            "2673 Misty, section4 (A)\n",
            "\n",
            "--------------------------------------------------\n",
            "2857 Naima, section1 (A)\n",
            "2858 Naima, section2 (A)\n",
            "2859 Naima, section3 (B)\n",
            "2860 Naima, section4 (A)\n",
            "\n",
            "--------------------------------------------------\n",
            "5044 Old Fashioned Love, section0 (nan)\n",
            "\n",
            "--------------------------------------------------\n",
            "3142 Perdido, section1 (A)\n",
            "3143 Perdido, section2 (A)\n",
            "3144 Perdido, section3 (B)\n",
            "3145 Perdido, section4 (A)\n",
            "\n",
            "--------------------------------------------------\n",
            "3276 Rockin' Chair, section1 (A)\n",
            "3277 Rockin' Chair, section2 (B)\n",
            "3278 Rockin' Chair, section3 (A)\n",
            "\n",
            "--------------------------------------------------\n",
            "3578 Sophisticated Lady, section1 (A)\n",
            "3579 Sophisticated Lady, section2 (A)\n",
            "3580 Sophisticated Lady, section3 (B)\n",
            "3581 Sophisticated Lady, section4 (A)\n",
            "\n",
            "--------------------------------------------------\n",
            "3746 Sweet Sue, Just You, section1 (A)\n",
            "3747 Sweet Sue, Just You, section2 (A)\n",
            "3748 Sweet Sue, Just You, section3 (B)\n",
            "3749 Sweet Sue, Just You, section4 (A)\n",
            "\n",
            "--------------------------------------------------\n",
            "3860 These Foolish Things, section1 (A)\n",
            "3861 These Foolish Things, section2 (A)\n",
            "3862 These Foolish Things, section3 (B)\n",
            "3863 These Foolish Things, section4 (A)\n",
            "\n",
            "--------------------------------------------------\n",
            "4146 We'll Be Together Again, section1 (A)\n",
            "4147 We'll Be Together Again, section2 (A)\n",
            "4148 We'll Be Together Again, section3 (B)\n",
            "4149 We'll Be Together Again, section4 (A)\n",
            "CPU times: user 14.5 s, sys: 8.42 s, total: 22.9 s\n",
            "Wall time: 13.7 s\n"
          ]
        }
      ]
    },
    {
      "cell_type": "code",
      "metadata": {
        "colab": {
          "base_uri": "https://localhost:8080/",
          "height": 542
        },
        "id": "X31lkvUsDAsU",
        "outputId": "aac29661-15af-4045-ea81-9f4e38d3faa3"
      },
      "source": [
        "import plotly.express as px\n",
        "fig = px.histogram(df_sim, x=\"score\", nbins=50, title='LSI Scores')\n",
        "fig.show()"
      ],
      "execution_count": 71,
      "outputs": [
        {
          "output_type": "display_data",
          "data": {
            "text/html": [
              "<html>\n",
              "<head><meta charset=\"utf-8\" /></head>\n",
              "<body>\n",
              "    <div>\n",
              "            <script src=\"https://cdnjs.cloudflare.com/ajax/libs/mathjax/2.7.5/MathJax.js?config=TeX-AMS-MML_SVG\"></script><script type=\"text/javascript\">if (window.MathJax) {MathJax.Hub.Config({SVG: {font: \"STIX-Web\"}});}</script>\n",
              "                <script type=\"text/javascript\">window.PlotlyConfig = {MathJaxConfig: 'local'};</script>\n",
              "        <script src=\"https://cdn.plot.ly/plotly-latest.min.js\"></script>    \n",
              "            <div id=\"4ce66842-f9ca-4470-ba8a-0ad555a2f420\" class=\"plotly-graph-div\" style=\"height:525px; width:100%;\"></div>\n",
              "            <script type=\"text/javascript\">\n",
              "                \n",
              "                    window.PLOTLYENV=window.PLOTLYENV || {};\n",
              "                    \n",
              "                if (document.getElementById(\"4ce66842-f9ca-4470-ba8a-0ad555a2f420\")) {\n",
              "                    Plotly.newPlot(\n",
              "                        '4ce66842-f9ca-4470-ba8a-0ad555a2f420',\n",
              "                        [{\"alignmentgroup\": \"True\", \"bingroup\": \"x\", \"hoverlabel\": {\"namelength\": 0}, \"hovertemplate\": \"score=%{x}<br>count=%{y}\", \"legendgroup\": \"\", \"marker\": {\"color\": \"#636efa\"}, \"name\": \"\", \"nbinsx\": 50, \"offsetgroup\": \"\", \"orientation\": \"v\", \"showlegend\": false, \"type\": \"histogram\", \"x\": [0.8872442245483398, 0.8333333134651184, 0.8333333134651184, 0.8333333134651184, 0.8268688321113586, 0.8215838074684143, 0.8164966106414795, 0.8164966106414795, 0.8164966106414795, 0.8164966106414795, 0.8164966106414795, 0.8164966106414795, 0.8164965510368347, 0.8164964914321899, 0.8146880865097046, 0.8146880865097046, 0.8146880865097046, 0.8128778338432312, 0.8115026354789734, 0.8082903027534485, 0.8056291937828064, 0.9449111819267273, 0.9449111819267273, 0.9449111819267273, 0.9294209480285645, 0.927730917930603, 0.9237152934074402, 0.9164397716522217, 0.9116846919059753, 0.9116846919059753, 0.9116846919059753, 0.9116846919059753, 0.9092413783073425, 0.9086882472038269, 0.90748530626297, 0.90748530626297, 0.9074851870536804, 0.8989697098731995, 0.8976656198501587, 0.8968700766563416, 0.8964548110961914, 0.8944271802902222, 0.8872442245483398, 0.8333333134651184, 0.8333333134651184, 0.8333333134651184, 0.8268688321113586, 0.8215838074684143, 0.8164966106414795, 0.8164966106414795, 0.8164966106414795, 0.8164966106414795, 0.8164966106414795, 0.8164966106414795, 0.8164965510368347, 0.8164964914321899, 0.8146880865097046, 0.8146880865097046, 0.8146880865097046, 0.8128778338432312, 0.8115026354789734, 0.8082903027534485, 0.8056291937828064, 0.9096581935882568, 0.9022911787033081, 0.9016695618629456, 0.8867155909538269, 0.8795367479324341, 0.8730378746986389, 0.8716936111450195, 0.8716936111450195, 0.8716138601303101, 0.8700222373008728, 0.8700222373008728, 0.8700221180915833, 0.8675329685211182, 0.8675328493118286, 0.8657459020614624, 0.8657053709030151, 0.8657053112983704, 0.8650469183921814, 0.8650146126747131, 0.8633970022201538, 0.8607285618782043, 0.9749999642372131, 0.9695895910263062, 0.9682456851005554, 0.9561829566955566, 0.9560661315917969, 0.9560660719871521, 0.9547033309936523, 0.954594075679779, 0.946340024471283, 0.946340024471283, 0.942927896976471, 0.9407528638839722, 0.9398255348205566, 0.9398255348205566, 0.9389711618423462, 0.9383147954940796, 0.9375001192092896, 0.9360565543174744, 0.9360565543174744, 0.9360565543174744, 0.9359709620475769, 0.9309494495391846, 0.9013878107070923, 0.8966439366340637, 0.8894992470741272, 0.8894990682601929, 0.8882312178611755, 0.8869685530662537, 0.882522702217102, 0.8744746446609497, 0.8702853918075562, 0.8682430982589722, 0.8674725294113159, 0.8608285188674927, 0.8608284592628479, 0.8600261211395264, 0.8593379259109497, 0.8589844703674316, 0.8561726808547974, 0.8561726808547974, 0.8561726808547974, 0.8561726212501526, 0.9749999642372131, 0.9695895910263062, 0.9682456851005554, 0.9561829566955566, 0.9560661315917969, 0.9560660719871521, 0.9547033309936523, 0.954594075679779, 0.946340024471283, 0.946340024471283, 0.942927896976471, 0.9407528638839722, 0.9398255348205566, 0.9398255348205566, 0.9389711618423462, 0.9383147954940796, 0.9375001192092896, 0.9360565543174744, 0.9360565543174744, 0.9360565543174744, 0.9359709620475769, 0.9503288865089417, 0.9503288865089417, 0.9486833810806274, 0.9315559267997742, 0.9302604794502258, 0.9296697378158569, 0.9219545125961304, 0.9219544529914856, 0.9219544529914856, 0.9203579425811768, 0.9203579425811768, 0.9192389249801636, 0.9170605540275574, 0.9135003089904785, 0.9135003089904785, 0.910980224609375, 0.9101914167404175, 0.9101912975311279, 0.9091548323631287, 0.9091548323631287, 0.9091548323631287, 0.9622504115104675, 0.8944272398948669, 0.8944271206855774, 0.8944271206855774, 0.8846516013145447, 0.8750001192092896, 0.8728716373443604, 0.866025447845459, 0.866025447845459, 0.866025447845459, 0.8574929237365723, 0.8534919023513794, 0.8512056469917297, 0.8488746881484985, 0.8488746881484985, 0.8488746881484985, 0.8486685156822205, 0.8463273644447327, 0.8461141586303711, 0.8401681184768677, 0.8391464352607727, 0.9660918116569519, 0.9561829566955566, 0.9449111223220825, 0.9354144334793091, 0.9354143142700195, 0.9354143142700195, 0.9354143142700195, 0.9331389665603638, 0.9331389665603638, 0.9258201122283936, 0.9116846323013306, 0.9083737134933472, 0.9074852466583252, 0.9074852466583252, 0.904106080532074, 0.8970851898193359, 0.8964214324951172, 0.8933250904083252, 0.8908708095550537, 0.8908708095550537, 0.8894992470741272, 0.9622504115104675, 0.8944272398948669, 0.8944271206855774, 0.8944271206855774, 0.8846516013145447, 0.8750001192092896, 0.8728716373443604, 0.866025447845459, 0.866025447845459, 0.866025447845459, 0.8574929237365723, 0.8534919023513794, 0.8512056469917297, 0.8488746881484985, 0.8488746881484985, 0.8488746881484985, 0.8486685156822205, 0.8463273644447327, 0.8461141586303711, 0.8401681184768677, 0.8391464352607727, 0.9770083427429199, 0.9331388473510742, 0.9285714030265808, 0.9265615940093994, 0.9258200526237488, 0.918262243270874, 0.9134141802787781, 0.9104654788970947, 0.9104654788970947, 0.9086881875991821, 0.9086881875991821, 0.9072646498680115, 0.9035079479217529, 0.8987169861793518, 0.8986450433731079, 0.8976656198501587, 0.8976656198501587, 0.8970853090286255, 0.8970853090286255, 0.8966529965400696, 0.8966529965400696, 0.8000190258026123, 0.7397953867912292, 0.7397953867912292, 0.7171372175216675, 0.7106691002845764, 0.7001756429672241, 0.6935279369354248, 0.6885303854942322, 0.6666666269302368, 0.6600984334945679, 0.6471501588821411, 0.6396021842956543, 0.6151477098464966, 0.6137163639068604, 0.612825870513916, 0.596595287322998, 0.589255690574646, 0.589255690574646, 0.589255690574646, 0.5797508955001831, 0.5790660381317139, 0.8488746881484985, 0.8488746881484985, 0.8488746881484985, 0.835504412651062, 0.8333333134651184, 0.8333333134651184, 0.8333333134651184, 0.8333333134651184, 0.8333333134651184, 0.8333333134651184, 0.8333332538604736, 0.8333332538604736, 0.8303364515304565, 0.8249577879905701, 0.8040302991867065, 0.7808687686920166, 0.771135687828064, 0.766032338142395, 0.7647190690040588, 0.7570332884788513, 0.7570332884788513, 0.7216877937316895, 0.7092081308364868, 0.6770032048225403, 0.6527911424636841, 0.6481812000274658, 0.6454972624778748, 0.6435959339141846, 0.6405125856399536, 0.6390096545219421, 0.6375982165336609, 0.62275230884552, 0.621059000492096, 0.621059000492096, 0.6134346723556519, 0.6123724579811096, 0.6123723983764648, 0.6123723983764648, 0.6123723983764648, 0.6092718243598938, 0.601929247379303, 0.601929247379303, 0.8488746881484985, 0.8488746881484985, 0.8488746881484985, 0.835504412651062, 0.8333333134651184, 0.8333333134651184, 0.8333333134651184, 0.8333333134651184, 0.8333333134651184, 0.8333333134651184, 0.8333332538604736, 0.8333332538604736, 0.8303364515304565, 0.8249577879905701, 0.8040302991867065, 0.7808687686920166, 0.771135687828064, 0.766032338142395, 0.7647190690040588, 0.7570332884788513, 0.7570332884788513, 0.836632490158081, 0.757042407989502, 0.699611485004425, 0.673563539981842, 0.6593307256698608, 0.6507270336151123, 0.6465269327163696, 0.6465269327163696, 0.6465269327163696, 0.6465269327163696, 0.6450098752975464, 0.6409778594970703, 0.6329817175865173, 0.6221113204956055, 0.6181224584579468, 0.616767168045044, 0.6144778728485107, 0.609209418296814, 0.6070536375045776, 0.6069631576538086, 0.604125440120697, 0.9782608151435852, 0.9680037498474121, 0.9680037498474121, 0.9609866142272949, 0.9583727717399597, 0.956929087638855, 0.956929087638855, 0.9567298293113708, 0.9567298293113708, 0.953407347202301, 0.9530152082443237, 0.9517337679862976, 0.9515873789787292, 0.9508561491966248, 0.9497161507606506, 0.9497161507606506, 0.9486438632011414, 0.9486438035964966, 0.9486438035964966, 0.948038637638092, 0.9473729133605957, 0.9276336431503296, 0.9261981248855591, 0.9180846214294434, 0.9180846214294434, 0.9140905737876892, 0.9109357595443726, 0.9102991819381714, 0.9095085859298706, 0.9095085859298706, 0.9081083536148071, 0.9081082940101624, 0.9080252051353455, 0.9046624302864075, 0.9007546901702881, 0.9007546901702881, 0.900283932685852, 0.8978642821311951, 0.8973817825317383, 0.8973645567893982, 0.895607590675354, 0.8952859044075012, 0.9284765720367432, 0.9143006801605225, 0.9005004167556763, 0.8965516090393066, 0.8946300745010376, 0.893852710723877, 0.8913376331329346, 0.8858184814453125, 0.8844476938247681, 0.8823398351669312, 0.8820528984069824, 0.8820527791976929, 0.8817845582962036, 0.8791322112083435, 0.8778665065765381, 0.8778665065765381, 0.8773280382156372, 0.8773280382156372, 0.875420868396759, 0.8753762245178223, 0.8727860450744629, 0.9782608151435852, 0.9680037498474121, 0.9680037498474121, 0.9609866142272949, 0.9583727717399597, 0.956929087638855, 0.956929087638855, 0.9567298293113708, 0.9567298293113708, 0.953407347202301, 0.9530152082443237, 0.9517337679862976, 0.9515873789787292, 0.9508561491966248, 0.9497161507606506, 0.9497161507606506, 0.9486438632011414, 0.9486438035964966, 0.9486438035964966, 0.948038637638092, 0.9473729133605957, 0.8346223831176758, 0.8346223831176758, 0.8346222639083862, 0.8132203221321106, 0.8111070394515991, 0.8029550313949585, 0.8029550313949585, 0.8010019659996033, 0.7980239391326904, 0.7980239391326904, 0.780398964881897, 0.7800135016441345, 0.770053505897522, 0.7648661732673645, 0.7648661732673645, 0.7648661136627197, 0.7635416984558105, 0.7635416984558105, 0.7635416984558105, 0.7570332288742065, 0.7539370656013489, 0.9622504711151123, 0.9515374302864075, 0.950262188911438, 0.945967435836792, 0.944444477558136, 0.943564236164093, 0.9372008442878723, 0.9363820552825928, 0.9332565069198608, 0.9239131808280945, 0.9229581356048584, 0.9205665588378906, 0.9152086973190308, 0.9141380786895752, 0.9128710031509399, 0.9097992181777954, 0.9097176790237427, 0.9097176790237427, 0.9080070853233337, 0.908007025718689, 0.9073927998542786, 0.8346223831176758, 0.8346223831176758, 0.8346222639083862, 0.8132203221321106, 0.8111070394515991, 0.8029550313949585, 0.8029550313949585, 0.8010019659996033, 0.7980239391326904, 0.7980239391326904, 0.780398964881897, 0.7800135016441345, 0.770053505897522, 0.7648661732673645, 0.7648661732673645, 0.7648661136627197, 0.7635416984558105, 0.7635416984558105, 0.7635416984558105, 0.7570332288742065, 0.7539370656013489, 0.9435368180274963, 0.9428713917732239, 0.9412417411804199, 0.9324213266372681, 0.9302326440811157, 0.9302326440811157, 0.9279707670211792, 0.9273618459701538, 0.9273618459701538, 0.9244734644889832, 0.9206923246383667, 0.917710542678833, 0.9162613749504089, 0.9153650999069214, 0.9149914979934692, 0.9149914383888245, 0.912018358707428, 0.9093530774116516, 0.9050183892250061, 0.9010819792747498, 0.9010819792747498, 0.9843091368675232, 0.9836212396621704, 0.9777750968933105, 0.9751577377319336, 0.9751577377319336, 0.9751577377319336, 0.9751577377319336, 0.9751577377319336, 0.972415030002594, 0.9722036123275757, 0.9719409942626953, 0.9705231189727783, 0.9692704677581787, 0.9683641195297241, 0.9683641195297241, 0.9683641195297241, 0.9663776159286499, 0.9650869369506836, 0.9640127420425415, 0.9619721174240112, 0.9608385562896729, 0.9513311386108398, 0.9501320123672485, 0.9501192569732666, 0.9417286515235901, 0.9412097334861755, 0.9377430081367493, 0.9377430081367493, 0.9374334216117859, 0.9373601675033569, 0.9349288940429688, 0.934928834438324, 0.934928834438324, 0.9349287748336792, 0.9345024824142456, 0.9345024228096008, 0.9331203103065491, 0.9331203103065491, 0.9331203103065491, 0.9331203103065491, 0.9331203103065491, 0.9320410490036011, 0.9316949248313904, 0.9190183877944946, 0.9170702695846558, 0.9036961793899536, 0.9036961197853088, 0.8948929309844971, 0.8948929309844971, 0.8944271802902222, 0.8944271206855774, 0.8944271206855774, 0.8901636004447937, 0.8857993483543396, 0.8783100843429565, 0.8677217960357666, 0.8666665554046631, 0.8588974475860596, 0.8539918661117554, 0.8500001430511475, 0.8485281467437744, 0.8485281467437744, 0.8480265140533447, 0.9072647094726562, 0.8959786295890808, 0.8816820383071899, 0.8814089298248291, 0.880450963973999, 0.8798826932907104, 0.8703882694244385, 0.8675276041030884, 0.8675276041030884, 0.8675276041030884, 0.8672274351119995, 0.866025447845459, 0.866025447845459, 0.8660253286361694, 0.8576900959014893, 0.8576900959014893, 0.8533201813697815, 0.8528029322624207, 0.8492077589035034, 0.8492077589035034, 0.8492077589035034, 0.9316949248313904, 0.9190183877944946, 0.9170702695846558, 0.9036961793899536, 0.9036961197853088, 0.8948929309844971, 0.8948929309844971, 0.8944271802902222, 0.8944271206855774, 0.8944271206855774, 0.8901636004447937, 0.8857993483543396, 0.8783100843429565, 0.8677217960357666, 0.8666665554046631, 0.8588974475860596, 0.8539918661117554, 0.8500001430511475, 0.8485281467437744, 0.8485281467437744, 0.8480265140533447, 0.9805806875228882, 0.9621024131774902, 0.9476965665817261, 0.9466737508773804, 0.9389157891273499, 0.9351438879966736, 0.9348928332328796, 0.9341285228729248, 0.930949330329895, 0.9302605390548706, 0.928015410900116, 0.9247722625732422, 0.9245002865791321, 0.9229719638824463, 0.9226039052009583, 0.9217865467071533, 0.9201151132583618, 0.9198662042617798, 0.9193195104598999, 0.9193193912506104, 0.9173287153244019, 0.7706745862960815, 0.7537346482276917, 0.7537346482276917, 0.7442084550857544, 0.7089175581932068, 0.7089175581932068, 0.7080881595611572, 0.6928203105926514, 0.6928203105926514, 0.6928203105926514, 0.6831300258636475, 0.6708203554153442, 0.6694387197494507, 0.6666667461395264, 0.6666666865348816, 0.6605782508850098, 0.6605782508850098, 0.6546537280082703, 0.6546537280082703, 0.6531972885131836, 0.6531972289085388, 0.9296696186065674, 0.8999999761581421, 0.8215838670730591, 0.8215838670730591, 0.8215838670730591, 0.8198916912078857, 0.809039831161499, 0.809039831161499, 0.809039831161499, 0.809039831161499, 0.8017836809158325, 0.8013876676559448, 0.800000011920929, 0.7951465845108032, 0.7951465845108032, 0.7937253713607788, 0.7928249835968018, 0.7926291227340698, 0.7905694246292114, 0.7905693054199219, 0.7893521785736084, 0.7706745862960815, 0.7537346482276917, 0.7537346482276917, 0.7442084550857544, 0.7089175581932068, 0.7089175581932068, 0.7080881595611572, 0.6928203105926514, 0.6928203105926514, 0.6928203105926514, 0.6831300258636475, 0.6708203554153442, 0.6694387197494507, 0.6666667461395264, 0.6666666865348816, 0.6605782508850098, 0.6605782508850098, 0.6546537280082703, 0.6546537280082703, 0.6531972885131836, 0.6531972289085388, 0.9583351612091064, 0.9569425582885742, 0.9451889991760254, 0.9442673325538635, 0.9260923862457275, 0.9260923862457275, 0.9150794744491577, 0.9150794744491577, 0.9150793552398682, 0.9101820588111877, 0.910181999206543, 0.9081082344055176, 0.9081082344055176, 0.9074852466583252, 0.9074852466583252, 0.9049228429794312, 0.9049228429794312, 0.9037378430366516, 0.9037378430366516, 0.9037378430366516, 0.9037377834320068, 0.9866902828216553, 0.975784420967102, 0.9674797654151917, 0.9674797654151917, 0.9674797654151917, 0.9655351638793945, 0.9633640050888062, 0.9633640050888062, 0.9621404409408569, 0.9607347846031189, 0.9604803919792175, 0.9593835473060608, 0.9585145115852356, 0.9561829566955566, 0.9561829566955566, 0.9558173418045044, 0.9558172821998596, 0.9556189775466919, 0.9550230503082275, 0.9550230503082275, 0.954993724822998, 0.9532061815261841, 0.9374860525131226, 0.9370892643928528, 0.9353047609329224, 0.9353047609329224, 0.9353047609329224, 0.9332565069198608, 0.9332565069198608, 0.9322020411491394, 0.9313342571258545, 0.9313342571258545, 0.9284088611602783, 0.9279607534408569, 0.9274777173995972, 0.9268475770950317, 0.926847517490387, 0.9268472790718079, 0.9262908697128296, 0.9262435436248779, 0.9247311353683472, 0.9242740869522095, 0.9594032764434814, 0.9574270248413086, 0.9534626007080078, 0.942082405090332, 0.942082405090332, 0.942082405090332, 0.9285403490066528, 0.9284141659736633, 0.9199353456497192, 0.9198660850524902, 0.9173648953437805, 0.9116845726966858, 0.9111469984054565, 0.910578727722168, 0.9103584289550781, 0.9090908169746399, 0.9074425101280212, 0.904534101486206, 0.904534101486206, 0.904534101486206, 0.904534101486206, 0.9798048138618469, 0.9798048138618469, 0.9798048138618469, 0.9770543575286865, 0.9756366014480591, 0.9756366014480591, 0.9743975400924683, 0.9729740023612976, 0.9727162718772888, 0.9716055393218994, 0.9683640003204346, 0.9683640003204346, 0.967993974685669, 0.967993974685669, 0.9677928686141968, 0.9671894311904907, 0.9671893119812012, 0.9671893119812012, 0.9671597480773926, 0.9656091332435608, 0.9656091332435608, 0.9341987371444702, 0.9271726608276367, 0.9166666269302368, 0.9141378402709961, 0.9128709435462952, 0.9112957119941711, 0.9036960601806641, 0.9036960601806641, 0.9036960601806641, 0.9036960601806641, 0.8940593004226685, 0.8911328315734863, 0.8908708095550537, 0.8908708095550537, 0.8897565007209778, 0.888888955116272, 0.888888955116272, 0.8872442841529846, 0.8872442245483398, 0.8872442245483398, 0.884537935256958, 0.9333333373069763, 0.930949330329895, 0.930949330329895, 0.9214785695075989, 0.9128709435462952, 0.9109803438186646, 0.9109802842140198, 0.9098432064056396, 0.9056240916252136, 0.9056240916252136, 0.9036961197853088, 0.9014979600906372, 0.8989331722259521, 0.8981462717056274, 0.8981462121009827, 0.8944272398948669, 0.8944271802902222, 0.8944271206855774, 0.8898984789848328, 0.8807710409164429, 0.8788290023803711, 0.9341987371444702, 0.9271726608276367, 0.9166666269302368, 0.9141378402709961, 0.9128709435462952, 0.9112957119941711, 0.9036960601806641, 0.9036960601806641, 0.9036960601806641, 0.9036960601806641, 0.8940593004226685, 0.8911328315734863, 0.8908708095550537, 0.8908708095550537, 0.8897565007209778, 0.888888955116272, 0.888888955116272, 0.8872442841529846, 0.8872442245483398, 0.8872442245483398, 0.884537935256958, 0.9169092178344727, 0.9101914167404175, 0.8982742428779602, 0.8965518474578857, 0.8863184452056885, 0.8858184814453125, 0.8853155970573425, 0.8853155970573425, 0.8763704299926758, 0.8740284442901611, 0.8735889196395874, 0.870022177696228, 0.8623165488243103, 0.8620792627334595, 0.8596023321151733, 0.8596023321151733, 0.8596023321151733, 0.8534918427467346, 0.8534918427467346, 0.8534917831420898, 0.8534047603607178, 0.9898029565811157, 0.9894988536834717, 0.9829463958740234, 0.9784426689147949, 0.9784426689147949, 0.9647573828697205, 0.9635884165763855, 0.9630868434906006, 0.9630868434906006, 0.9630868434906006, 0.9630868434906006, 0.9630868434906006, 0.9630868434906006, 0.9630868434906006, 0.9630868434906006, 0.9630868434906006, 0.9630868434906006, 0.9630868434906006, 0.9630868434906006, 0.9630868434906006, 0.9630868434906006, 0.928506076335907, 0.8606629967689514, 0.8606629967689514, 0.8013433814048767, 0.7918388843536377, 0.7772119641304016, 0.7693164944648743, 0.7592567205429077, 0.7592564821243286, 0.7590721249580383, 0.7569125890731812, 0.7531184554100037, 0.7531184554100037, 0.7508517503738403, 0.75, 0.7440382242202759, 0.7429777979850769, 0.7423522472381592, 0.7416198253631592, 0.7416198253631592, 0.7416198253631592, 1.0, 1.0, 0.9767818450927734, 0.9675326347351074, 0.963546097278595, 0.9621403813362122, 0.9609690308570862, 0.9603919982910156, 0.9596789479255676, 0.9594032764434814, 0.9534624814987183, 0.9534624814987183, 0.9532307386398315, 0.9493857622146606, 0.9489284753799438, 0.9489284753799438, 0.9489284753799438, 0.9489284753799438, 0.9489284753799438, 0.9486833810806274, 0.9463773965835571, 0.9999999403953552, 0.9765536189079285, 0.9750854969024658, 0.9749135375022888, 0.9749135375022888, 0.9749135375022888, 0.9723448157310486, 0.9723448157310486, 0.9716054201126099, 0.9707252979278564, 0.9673307538032532, 0.9673307538032532, 0.9609690308570862, 0.9609690308570862, 0.9609279036521912, 0.9607689380645752, 0.9607689380645752, 0.9607689380645752, 0.9578133225440979, 0.9575175642967224, 0.9553170204162598, 1.0, 1.0, 1.0, 1.0, 1.0, 1.0, 1.0, 1.0, 1.0, 1.0, 0.9701424241065979, 0.9701423645019531, 0.9354143738746643, 0.9354143738746643, 0.9354143738746643, 0.9354143142700195, 0.9176629781723022, 0.8944272398948669, 0.875, 0.875, 0.866025447845459, 1.0, 1.0, 0.9767818450927734, 0.9675326347351074, 0.963546097278595, 0.9621403813362122, 0.9609690308570862, 0.9603919982910156, 0.9596789479255676, 0.9594032764434814, 0.9534624814987183, 0.9534624814987183, 0.9532307386398315, 0.9493857622146606, 0.9489284753799438, 0.9489284753799438, 0.9489284753799438, 0.9489284753799438, 0.9489284753799438, 0.9486833810806274, 0.9463773965835571, 1.0, 0.9908673167228699, 0.9730124473571777, 0.927105188369751, 0.927105188369751, 0.9233805537223816, 0.9233805537223816, 0.9233805537223816, 0.9233805537223816, 0.9223310351371765, 0.9185587167739868, 0.9150798320770264, 0.9091923236846924, 0.9086883664131165, 0.9086882472038269, 0.9068453311920166, 0.9068453311920166, 0.9068453311920166, 0.9068452715873718, 0.9067235589027405, 0.9057895541191101, 1.0000001192092896, 0.9908673763275146, 0.9720615148544312, 0.9318912625312805, 0.9318912625312805, 0.931891143321991, 0.931891143321991, 0.9284141063690186, 0.9239884614944458, 0.9214065670967102, 0.9185315370559692, 0.9185314774513245, 0.9185314774513245, 0.9132660627365112, 0.9132660627365112, 0.9121594429016113, 0.9121593832969666, 0.908295214176178, 0.907442569732666, 0.903652012348175, 0.9014203548431396, 0.9999999403953552, 0.9999999403953552, 0.9999999403953552, 0.9999999403953552, 0.9999999403953552, 0.9999999403953552, 0.9999999403953552, 0.9999999403953552, 0.9999999403953552, 0.9999999403953552, 0.9999999403953552, 0.9999999403953552, 0.9999999403953552, 0.9999999403953552, 0.9999999403953552, 0.9999999403953552, 0.9999999403953552, 0.9999999403953552, 0.9999999403953552, 0.9999999403953552, 0.9999999403953552, 0.9999999403953552, 0.9730124473571777, 0.9720615148544312, 0.9504968523979187, 0.9495629072189331, 0.9495629072189331, 0.9428291916847229, 0.9428291916847229, 0.9428291320800781, 0.9428291320800781, 0.9428291320800781, 0.9415245056152344, 0.9306779503822327, 0.9306631088256836, 0.9304841756820679, 0.9304841756820679, 0.9304841160774231, 0.9304841160774231, 0.9243422150611877, 0.9210565686225891, 0.9210565686225891, 0.9746794104576111, 0.9550230503082275, 0.9534626603126526, 0.9486833810806274, 0.9486833810806274, 0.9467291831970215, 0.9449111819267273, 0.934198796749115, 0.9316950440406799, 0.9316949844360352, 0.9316949844360352, 0.9316949844360352, 0.9316948652267456, 0.9315560460090637, 0.9296696782112122, 0.9237022995948792, 0.9237022995948792, 0.9237022399902344, 0.9237022399902344, 0.9237022399902344, 0.9216353297233582, 0.9574270248413086, 0.9486833810806274, 0.9449111819267273, 0.942808985710144, 0.941596269607544, 0.9298987984657288, 0.9244735836982727, 0.9238697290420532, 0.9223308563232422, 0.9185585379600525, 0.9185585379600525, 0.9141380190849304, 0.9141379594802856, 0.9141379594802856, 0.9138599634170532, 0.9131711721420288, 0.9128710031509399, 0.9128710031509399, 0.9128709435462952, 0.9128709435462952, 0.9128709435462952, 0.8682430982589722, 0.8362420201301575, 0.827837347984314, 0.827837347984314, 0.8006408214569092, 0.8006408214569092, 0.8006408214569092, 0.8006407022476196, 0.7893521785736084, 0.7893521785736084, 0.7893521785736084, 0.7844644784927368, 0.7692307829856873, 0.7692307829856873, 0.7692307829856873, 0.7627127766609192, 0.7627127170562744, 0.7614996433258057, 0.7526178359985352, 0.7518094778060913, 0.7518094182014465, 0.9565216898918152, 0.9565216898918152, 0.9498989582061768, 0.9457324743270874, 0.9451747536659241, 0.9443699717521667, 0.9437401294708252, 0.9437401294708252, 0.9437401294708252, 0.9383845329284668, 0.9383148550987244, 0.9363821744918823, 0.9363821744918823, 0.9348927736282349, 0.9337990880012512, 0.9337989687919617, 0.9335636496543884, 0.9325048923492432, 0.9325048327445984, 0.9325048327445984, 0.9325047731399536, 0.7893521785736084, 0.7682733535766602, 0.7627700567245483, 0.7627700567245483, 0.7378647923469543, 0.7378647923469543, 0.730296790599823, 0.7302967309951782, 0.7181848287582397, 0.7181848287582397, 0.7181848287582397, 0.71611487865448, 0.7046642303466797, 0.7046642303466797, 0.7046642303466797, 0.6999999284744263, 0.6885303258895874, 0.6761233806610107, 0.6751399636268616, 0.6708204746246338, 0.670820415019989, 0.7893521785736084, 0.7682733535766602, 0.7627700567245483, 0.7627700567245483, 0.7378647923469543, 0.7378647923469543, 0.730296790599823, 0.7302967309951782, 0.7181848287582397, 0.7181848287582397, 0.7181848287582397, 0.71611487865448, 0.7046642303466797, 0.7046642303466797, 0.7046642303466797, 0.6999999284744263, 0.6885303258895874, 0.6761233806610107, 0.6751399636268616, 0.6708204746246338, 0.670820415019989, 0.7427812814712524, 0.7115124464035034, 0.6875, 0.6859943866729736, 0.6717513799667358, 0.6495190858840942, 0.6495190262794495, 0.64549720287323, 0.6324554681777954, 0.6308932304382324, 0.6240376830101013, 0.6172133684158325, 0.6123724579811096, 0.6098575592041016, 0.603509783744812, 0.6030226945877075, 0.6030226349830627, 0.5908789038658142, 0.5892556309700012, 0.5883484482765198, 0.588348388671875, 0.8403582572937012, 0.8403582572937012, 0.8403582572937012, 0.835504412651062, 0.835504412651062, 0.8109307885169983, 0.8109307885169983, 0.8109307885169983, 0.8109307885169983, 0.8109307885169983, 0.8109307885169983, 0.7974143028259277, 0.7912566065788269, 0.785868227481842, 0.7815475463867188, 0.7804216742515564, 0.7804216742515564, 0.7804216742515564, 0.7804216742515564, 0.7802714705467224, 0.7802714705467224, 0.9787956476211548, 0.9640347957611084, 0.9633799195289612, 0.9621022939682007, 0.9621022939682007, 0.9621022939682007, 0.9558526873588562, 0.955649733543396, 0.9537877440452576, 0.9511599540710449, 0.9508497714996338, 0.950750470161438, 0.9501460790634155, 0.9501460790634155, 0.948979914188385, 0.9488522410392761, 0.9476815462112427, 0.947346568107605, 0.9465924501419067, 0.9456577301025391, 0.9456577301025391, 0.9899494051933289, 0.9834450483322144, 0.976186990737915, 0.976186990737915, 0.9682456851005554, 0.9660918116569519, 0.9655351042747498, 0.9648363590240479, 0.9638631343841553, 0.9589265584945679, 0.9561828374862671, 0.9561828374862671, 0.9561828374862671, 0.955778956413269, 0.9547921419143677, 0.9547921419143677, 0.9486833810806274, 0.9486832618713379, 0.9486832618713379, 0.9486832618713379, 0.9486832618713379, 0.9810229539871216, 0.9782320857048035, 0.9782319664955139, 0.9762212038040161, 0.9753615260124207, 0.9746794700622559, 0.9746794700622559, 0.9746794104576111, 0.9746793508529663, 0.9746793508529663, 0.9733285903930664, 0.9713237881660461, 0.9713237881660461, 0.9713237285614014, 0.9694584012031555, 0.9666388630867004, 0.9639604687690735, 0.9637387990951538, 0.9633640050888062, 0.9627198576927185, 0.9627197980880737, 0.9999999403953552, 0.9999999403953552, 0.9999999403953552, 0.9999999403953552, 0.9999999403953552, 0.9999999403953552, 0.9999999403953552, 0.9999999403953552, 0.9999999403953552, 0.9999999403953552, 0.9999999403953552, 0.9999999403953552, 0.9999999403953552, 0.9999999403953552, 0.9999999403953552, 0.9999999403953552, 0.9999999403953552, 0.9999999403953552, 0.9999999403953552, 0.9999999403953552, 0.9999999403953552, 0.9899494051933289, 0.9834450483322144, 0.976186990737915, 0.976186990737915, 0.9682456851005554, 0.9660918116569519, 0.9655351042747498, 0.9648363590240479, 0.9638631343841553, 0.9589265584945679, 0.9561828374862671, 0.9561828374862671, 0.9561828374862671, 0.955778956413269, 0.9547921419143677, 0.9547921419143677, 0.9486833810806274, 0.9486832618713379, 0.9486832618713379, 0.9486832618713379, 0.9486832618713379, 0.9342836737632751, 0.9198662638664246, 0.9177364110946655, 0.9172160625457764, 0.9170347452163696, 0.9121114611625671, 0.9104464054107666, 0.9060911536216736, 0.9001545906066895, 0.8964154124259949, 0.8934179544448853, 0.893246054649353, 0.893197774887085, 0.8927424550056458, 0.8927121162414551, 0.8922709822654724, 0.8920091986656189, 0.884165346622467, 0.8828856348991394, 0.882369875907898, 0.8820672035217285, 0.96076899766922, 0.8932461142539978, 0.8278374671936035, 0.827837347984314, 0.8271702527999878, 0.8240419030189514, 0.8240419030189514, 0.8240419030189514, 0.8207294344902039, 0.8207294344902039, 0.8153742551803589, 0.8153742551803589, 0.8096408843994141, 0.8096408843994141, 0.808190107345581, 0.8062257766723633, 0.8062257766723633, 0.805322527885437, 0.7925939559936523, 0.7925939559936523, 0.7877264022827148, 0.9759000539779663, 0.9566808342933655, 0.9559937715530396, 0.9534624814987183, 0.9486833214759827, 0.9486833214759827, 0.9486833214759827, 0.9486832618713379, 0.946729302406311, 0.9458757638931274, 0.9441176652908325, 0.9433000087738037, 0.9431192874908447, 0.9431192278862, 0.9431192278862, 0.9431191086769104, 0.9395524859428406, 0.9391486048698425, 0.9391485452651978, 0.938971221446991, 0.938971221446991, 0.9298955202102661, 0.8981462717056274, 0.8981462717056274, 0.8832715749740601, 0.8831761479377747, 0.8814826011657715, 0.8814826011657715, 0.879457950592041, 0.8783100843429565, 0.8783100843429565, 0.8763561844825745, 0.8763561844825745, 0.8760629892349243, 0.8755950927734375, 0.8672274351119995, 0.8660255074501038, 0.8640987873077393, 0.8614109754562378, 0.8608285784721375, 0.8608285784721375, 0.8608284592628479, 0.9037378430366516, 0.8770579099655151, 0.8770579099655151, 0.8702853322029114, 0.8702853322029114, 0.8680789470672607, 0.8608285188674927, 0.8605266809463501, 0.8561726808547974, 0.8453637957572937, 0.8453637957572937, 0.8438529372215271, 0.8430888056755066, 0.8425607681274414, 0.8408409357070923, 0.8408408761024475, 0.8408408761024475, 0.8406727313995361, 0.8386279344558716, 0.8386278748512268, 0.8386278748512268, 0.8483819961547852, 0.7203602194786072, 0.6443860530853271, 0.6238502264022827, 0.6238502264022827, 0.5812382102012634, 0.5718627572059631, 0.5607997179031372, 0.5607997179031372, 0.558956503868103, 0.551410973072052, 0.5378561615943909, 0.525749683380127, 0.525749683380127, 0.5231143236160278, 0.5198752284049988, 0.5183439254760742, 0.5082247257232666, 0.493196964263916, 0.4903043508529663, 0.4793012738227844, 0.9298955202102661, 0.8981462717056274, 0.8981462717056274, 0.8832715749740601, 0.8831761479377747, 0.8814826011657715, 0.8814826011657715, 0.879457950592041, 0.8783100843429565, 0.8783100843429565, 0.8763561844825745, 0.8763561844825745, 0.8760629892349243, 0.8755950927734375, 0.8672274351119995, 0.8660255074501038, 0.8640987873077393, 0.8614109754562378, 0.8608285784721375, 0.8608285784721375, 0.8608284592628479, 0.9999998807907104, 0.9999998807907104, 0.9999998807907104, 0.9999998807907104, 0.9999998807907104, 0.9999998807907104, 0.9999998807907104, 0.9999998807907104, 0.9999998807907104, 0.9999998807907104, 0.9999998807907104, 0.9999998807907104, 0.9999998807907104, 0.9999998807907104, 0.9999998807907104, 0.9999998807907104, 0.9960238933563232, 0.9918366074562073, 0.9918366074562073, 0.9855274558067322, 0.9855274558067322, 0.9999998807907104, 0.9999998807907104, 0.9999998807907104, 0.9999998807907104, 0.9999998807907104, 0.9999998807907104, 0.9999998807907104, 0.9999998807907104, 0.9999998807907104, 0.9999998807907104, 0.9999998807907104, 0.9999998807907104, 0.9999998807907104, 0.9999998807907104, 0.9999998807907104, 0.9999998807907104, 0.9960238933563232, 0.9918366074562073, 0.9918366074562073, 0.9855274558067322, 0.9855274558067322, 0.9128708839416504, 0.8406727910041809, 0.8333333730697632, 0.8333333730697632, 0.8198915719985962, 0.8179129362106323, 0.8164966106414795, 0.8017836809158325, 0.8017836809158325, 0.8006407618522644, 0.7947194576263428, 0.7938566207885742, 0.7925940155982971, 0.7905694246292114, 0.7879670262336731, 0.7825079560279846, 0.7825079560279846, 0.7825079560279846, 0.7777777910232544, 0.7745967507362366, 0.7745967507362366, 0.9999998807907104, 0.9999998807907104, 0.9999998807907104, 0.9999998807907104, 0.9999998807907104, 0.9999998807907104, 0.9999998807907104, 0.9999998807907104, 0.9999998807907104, 0.9999998807907104, 0.9999998807907104, 0.9999998807907104, 0.9999998807907104, 0.9999998807907104, 0.9999998807907104, 0.9999998807907104, 0.9960238933563232, 0.9918366074562073, 0.9918366074562073, 0.9855274558067322, 0.9855274558067322, 0.9546686410903931, 0.9525008201599121, 0.9525008201599121, 0.9519716501235962, 0.9519716501235962, 0.9422228932380676, 0.9354143142700195, 0.9274260997772217, 0.9268550872802734, 0.9263021349906921, 0.9263020753860474, 0.9258200526237488, 0.9228396415710449, 0.9207509756088257, 0.9207508563995361, 0.9207367897033691, 0.919238805770874, 0.9192387461662292, 0.9191450476646423, 0.9191450476646423, 0.9187104105949402, 0.9723057150840759, 0.9548636674880981, 0.9548636674880981, 0.9219545125961304, 0.9117647409439087, 0.9115638732910156, 0.9115046262741089, 0.9109358787536621, 0.9106417298316956, 0.9106416702270508, 0.9101820588111877, 0.9101820588111877, 0.910181999206543, 0.9095085859298706, 0.9081082940101624, 0.9074852466583252, 0.906869649887085, 0.9068695306777954, 0.9049358367919922, 0.9049035310745239, 0.903876781463623, 0.9165151715278625, 0.8954430222511292, 0.8954430222511292, 0.8759957551956177, 0.8246211409568787, 0.8164966106414795, 0.8082903623580933, 0.803326427936554, 0.8000000715255737, 0.7999999523162842, 0.7923547625541687, 0.7902633547782898, 0.7855844497680664, 0.7855843901634216, 0.7794228196144104, 0.7786628007888794, 0.7778175473213196, 0.7765803337097168, 0.7761140465736389, 0.774596631526947, 0.77247154712677, 0.9747547507286072, 0.9747547507286072, 0.9667962193489075, 0.9587093591690063, 0.9518173336982727, 0.9518173336982727, 0.9509798288345337, 0.9496715068817139, 0.9476780295372009, 0.9437015056610107, 0.9428712725639343, 0.9428472518920898, 0.942082405090332, 0.9416363835334778, 0.9401747584342957, 0.9364182353019714, 0.9346851706504822, 0.9341986775398254, 0.9337221384048462, 0.9328736066818237, 0.9322981834411621, 0.8101627230644226, 0.785868227481842, 0.7833495140075684, 0.7833495140075684, 0.7713891863822937, 0.7713891863822937, 0.7713891863822937, 0.7710995674133301, 0.7710995674133301, 0.7706746459007263, 0.7693217992782593, 0.7693217992782593, 0.7675225734710693, 0.7658161520957947, 0.7627700567245483, 0.7610525488853455, 0.7562625408172607, 0.7557421922683716, 0.7544335126876831, 0.7537783980369568, 0.7537783980369568, 0.8416253924369812, 0.8416253924369812, 0.8224782943725586, 0.8084520697593689, 0.8060599565505981, 0.8051609992980957, 0.8043997287750244, 0.8043997287750244, 0.8043997287750244, 0.8043996691703796, 0.7893862724304199, 0.7882407903671265, 0.786718487739563, 0.7848839163780212, 0.7811209559440613, 0.7811209559440613, 0.7789808511734009, 0.7778445482254028, 0.7767130732536316, 0.7761139273643494, 0.771743655204773, 0.9229719638824463, 0.8931884169578552, 0.8866356015205383, 0.8825225830078125, 0.8209008574485779, 0.8171505331993103, 0.7783117890357971, 0.7783117890357971, 0.7765803337097168, 0.7627127766609192, 0.7428908348083496, 0.7428908348083496, 0.7131997346878052, 0.7071067690849304, 0.7067392468452454, 0.7067392468452454, 0.7041867971420288, 0.6999132633209229, 0.6933752298355103, 0.6878708600997925, 0.6877464056015015, 0.8416253924369812, 0.8416253924369812, 0.8224782943725586, 0.8084520697593689, 0.8060599565505981, 0.8051609992980957, 0.8043997287750244, 0.8043997287750244, 0.8043997287750244, 0.8043996691703796, 0.7893862724304199, 0.7882407903671265, 0.786718487739563, 0.7848839163780212, 0.7811209559440613, 0.7811209559440613, 0.7789808511734009, 0.7778445482254028, 0.7767130732536316, 0.7761139273643494, 0.771743655204773], \"xaxis\": \"x\", \"yaxis\": \"y\"}],\n",
              "                        {\"barmode\": \"relative\", \"legend\": {\"tracegroupgap\": 0}, \"template\": {\"data\": {\"bar\": [{\"error_x\": {\"color\": \"#2a3f5f\"}, \"error_y\": {\"color\": \"#2a3f5f\"}, \"marker\": {\"line\": {\"color\": \"#E5ECF6\", \"width\": 0.5}}, \"type\": \"bar\"}], \"barpolar\": [{\"marker\": {\"line\": {\"color\": \"#E5ECF6\", \"width\": 0.5}}, \"type\": \"barpolar\"}], \"carpet\": [{\"aaxis\": {\"endlinecolor\": \"#2a3f5f\", \"gridcolor\": \"white\", \"linecolor\": \"white\", \"minorgridcolor\": \"white\", \"startlinecolor\": \"#2a3f5f\"}, \"baxis\": {\"endlinecolor\": \"#2a3f5f\", \"gridcolor\": \"white\", \"linecolor\": \"white\", \"minorgridcolor\": \"white\", \"startlinecolor\": \"#2a3f5f\"}, \"type\": \"carpet\"}], \"choropleth\": [{\"colorbar\": {\"outlinewidth\": 0, \"ticks\": \"\"}, \"type\": \"choropleth\"}], \"contour\": [{\"colorbar\": {\"outlinewidth\": 0, \"ticks\": \"\"}, \"colorscale\": [[0.0, \"#0d0887\"], [0.1111111111111111, \"#46039f\"], [0.2222222222222222, \"#7201a8\"], [0.3333333333333333, \"#9c179e\"], [0.4444444444444444, \"#bd3786\"], [0.5555555555555556, \"#d8576b\"], [0.6666666666666666, \"#ed7953\"], [0.7777777777777778, \"#fb9f3a\"], [0.8888888888888888, \"#fdca26\"], [1.0, \"#f0f921\"]], \"type\": \"contour\"}], \"contourcarpet\": [{\"colorbar\": {\"outlinewidth\": 0, \"ticks\": \"\"}, \"type\": \"contourcarpet\"}], \"heatmap\": [{\"colorbar\": {\"outlinewidth\": 0, \"ticks\": \"\"}, \"colorscale\": [[0.0, \"#0d0887\"], [0.1111111111111111, \"#46039f\"], [0.2222222222222222, \"#7201a8\"], [0.3333333333333333, \"#9c179e\"], [0.4444444444444444, \"#bd3786\"], [0.5555555555555556, \"#d8576b\"], [0.6666666666666666, \"#ed7953\"], [0.7777777777777778, \"#fb9f3a\"], [0.8888888888888888, \"#fdca26\"], [1.0, \"#f0f921\"]], \"type\": \"heatmap\"}], \"heatmapgl\": [{\"colorbar\": {\"outlinewidth\": 0, \"ticks\": \"\"}, \"colorscale\": [[0.0, \"#0d0887\"], [0.1111111111111111, \"#46039f\"], [0.2222222222222222, \"#7201a8\"], [0.3333333333333333, \"#9c179e\"], [0.4444444444444444, \"#bd3786\"], [0.5555555555555556, \"#d8576b\"], [0.6666666666666666, \"#ed7953\"], [0.7777777777777778, \"#fb9f3a\"], [0.8888888888888888, \"#fdca26\"], [1.0, \"#f0f921\"]], \"type\": \"heatmapgl\"}], \"histogram\": [{\"marker\": {\"colorbar\": {\"outlinewidth\": 0, \"ticks\": \"\"}}, \"type\": \"histogram\"}], \"histogram2d\": [{\"colorbar\": {\"outlinewidth\": 0, \"ticks\": \"\"}, \"colorscale\": [[0.0, \"#0d0887\"], [0.1111111111111111, \"#46039f\"], [0.2222222222222222, \"#7201a8\"], [0.3333333333333333, \"#9c179e\"], [0.4444444444444444, \"#bd3786\"], [0.5555555555555556, \"#d8576b\"], [0.6666666666666666, \"#ed7953\"], [0.7777777777777778, \"#fb9f3a\"], [0.8888888888888888, \"#fdca26\"], [1.0, \"#f0f921\"]], \"type\": \"histogram2d\"}], \"histogram2dcontour\": [{\"colorbar\": {\"outlinewidth\": 0, \"ticks\": \"\"}, \"colorscale\": [[0.0, \"#0d0887\"], [0.1111111111111111, \"#46039f\"], [0.2222222222222222, \"#7201a8\"], [0.3333333333333333, \"#9c179e\"], [0.4444444444444444, \"#bd3786\"], [0.5555555555555556, \"#d8576b\"], [0.6666666666666666, \"#ed7953\"], [0.7777777777777778, \"#fb9f3a\"], [0.8888888888888888, \"#fdca26\"], [1.0, \"#f0f921\"]], \"type\": \"histogram2dcontour\"}], \"mesh3d\": [{\"colorbar\": {\"outlinewidth\": 0, \"ticks\": \"\"}, \"type\": \"mesh3d\"}], \"parcoords\": [{\"line\": {\"colorbar\": {\"outlinewidth\": 0, \"ticks\": \"\"}}, \"type\": \"parcoords\"}], \"pie\": [{\"automargin\": true, \"type\": \"pie\"}], \"scatter\": [{\"marker\": {\"colorbar\": {\"outlinewidth\": 0, \"ticks\": \"\"}}, \"type\": \"scatter\"}], \"scatter3d\": [{\"line\": {\"colorbar\": {\"outlinewidth\": 0, \"ticks\": \"\"}}, \"marker\": {\"colorbar\": {\"outlinewidth\": 0, \"ticks\": \"\"}}, \"type\": \"scatter3d\"}], \"scattercarpet\": [{\"marker\": {\"colorbar\": {\"outlinewidth\": 0, \"ticks\": \"\"}}, \"type\": \"scattercarpet\"}], \"scattergeo\": [{\"marker\": {\"colorbar\": {\"outlinewidth\": 0, \"ticks\": \"\"}}, \"type\": \"scattergeo\"}], \"scattergl\": [{\"marker\": {\"colorbar\": {\"outlinewidth\": 0, \"ticks\": \"\"}}, \"type\": \"scattergl\"}], \"scattermapbox\": [{\"marker\": {\"colorbar\": {\"outlinewidth\": 0, \"ticks\": \"\"}}, \"type\": \"scattermapbox\"}], \"scatterpolar\": [{\"marker\": {\"colorbar\": {\"outlinewidth\": 0, \"ticks\": \"\"}}, \"type\": \"scatterpolar\"}], \"scatterpolargl\": [{\"marker\": {\"colorbar\": {\"outlinewidth\": 0, \"ticks\": \"\"}}, \"type\": \"scatterpolargl\"}], \"scatterternary\": [{\"marker\": {\"colorbar\": {\"outlinewidth\": 0, \"ticks\": \"\"}}, \"type\": \"scatterternary\"}], \"surface\": [{\"colorbar\": {\"outlinewidth\": 0, \"ticks\": \"\"}, \"colorscale\": [[0.0, \"#0d0887\"], [0.1111111111111111, \"#46039f\"], [0.2222222222222222, \"#7201a8\"], [0.3333333333333333, \"#9c179e\"], [0.4444444444444444, \"#bd3786\"], [0.5555555555555556, \"#d8576b\"], [0.6666666666666666, \"#ed7953\"], [0.7777777777777778, \"#fb9f3a\"], [0.8888888888888888, \"#fdca26\"], [1.0, \"#f0f921\"]], \"type\": \"surface\"}], \"table\": [{\"cells\": {\"fill\": {\"color\": \"#EBF0F8\"}, \"line\": {\"color\": \"white\"}}, \"header\": {\"fill\": {\"color\": \"#C8D4E3\"}, \"line\": {\"color\": \"white\"}}, \"type\": \"table\"}]}, \"layout\": {\"annotationdefaults\": {\"arrowcolor\": \"#2a3f5f\", \"arrowhead\": 0, \"arrowwidth\": 1}, \"coloraxis\": {\"colorbar\": {\"outlinewidth\": 0, \"ticks\": \"\"}}, \"colorscale\": {\"diverging\": [[0, \"#8e0152\"], [0.1, \"#c51b7d\"], [0.2, \"#de77ae\"], [0.3, \"#f1b6da\"], [0.4, \"#fde0ef\"], [0.5, \"#f7f7f7\"], [0.6, \"#e6f5d0\"], [0.7, \"#b8e186\"], [0.8, \"#7fbc41\"], [0.9, \"#4d9221\"], [1, \"#276419\"]], \"sequential\": [[0.0, \"#0d0887\"], [0.1111111111111111, \"#46039f\"], [0.2222222222222222, \"#7201a8\"], [0.3333333333333333, \"#9c179e\"], [0.4444444444444444, \"#bd3786\"], [0.5555555555555556, \"#d8576b\"], [0.6666666666666666, \"#ed7953\"], [0.7777777777777778, \"#fb9f3a\"], [0.8888888888888888, \"#fdca26\"], [1.0, \"#f0f921\"]], \"sequentialminus\": [[0.0, \"#0d0887\"], [0.1111111111111111, \"#46039f\"], [0.2222222222222222, \"#7201a8\"], [0.3333333333333333, \"#9c179e\"], [0.4444444444444444, \"#bd3786\"], [0.5555555555555556, \"#d8576b\"], [0.6666666666666666, \"#ed7953\"], [0.7777777777777778, \"#fb9f3a\"], [0.8888888888888888, \"#fdca26\"], [1.0, \"#f0f921\"]]}, \"colorway\": [\"#636efa\", \"#EF553B\", \"#00cc96\", \"#ab63fa\", \"#FFA15A\", \"#19d3f3\", \"#FF6692\", \"#B6E880\", \"#FF97FF\", \"#FECB52\"], \"font\": {\"color\": \"#2a3f5f\"}, \"geo\": {\"bgcolor\": \"white\", \"lakecolor\": \"white\", \"landcolor\": \"#E5ECF6\", \"showlakes\": true, \"showland\": true, \"subunitcolor\": \"white\"}, \"hoverlabel\": {\"align\": \"left\"}, \"hovermode\": \"closest\", \"mapbox\": {\"style\": \"light\"}, \"paper_bgcolor\": \"white\", \"plot_bgcolor\": \"#E5ECF6\", \"polar\": {\"angularaxis\": {\"gridcolor\": \"white\", \"linecolor\": \"white\", \"ticks\": \"\"}, \"bgcolor\": \"#E5ECF6\", \"radialaxis\": {\"gridcolor\": \"white\", \"linecolor\": \"white\", \"ticks\": \"\"}}, \"scene\": {\"xaxis\": {\"backgroundcolor\": \"#E5ECF6\", \"gridcolor\": \"white\", \"gridwidth\": 2, \"linecolor\": \"white\", \"showbackground\": true, \"ticks\": \"\", \"zerolinecolor\": \"white\"}, \"yaxis\": {\"backgroundcolor\": \"#E5ECF6\", \"gridcolor\": \"white\", \"gridwidth\": 2, \"linecolor\": \"white\", \"showbackground\": true, \"ticks\": \"\", \"zerolinecolor\": \"white\"}, \"zaxis\": {\"backgroundcolor\": \"#E5ECF6\", \"gridcolor\": \"white\", \"gridwidth\": 2, \"linecolor\": \"white\", \"showbackground\": true, \"ticks\": \"\", \"zerolinecolor\": \"white\"}}, \"shapedefaults\": {\"line\": {\"color\": \"#2a3f5f\"}}, \"ternary\": {\"aaxis\": {\"gridcolor\": \"white\", \"linecolor\": \"white\", \"ticks\": \"\"}, \"baxis\": {\"gridcolor\": \"white\", \"linecolor\": \"white\", \"ticks\": \"\"}, \"bgcolor\": \"#E5ECF6\", \"caxis\": {\"gridcolor\": \"white\", \"linecolor\": \"white\", \"ticks\": \"\"}}, \"title\": {\"x\": 0.05}, \"xaxis\": {\"automargin\": true, \"gridcolor\": \"white\", \"linecolor\": \"white\", \"ticks\": \"\", \"title\": {\"standoff\": 15}, \"zerolinecolor\": \"white\", \"zerolinewidth\": 2}, \"yaxis\": {\"automargin\": true, \"gridcolor\": \"white\", \"linecolor\": \"white\", \"ticks\": \"\", \"title\": {\"standoff\": 15}, \"zerolinecolor\": \"white\", \"zerolinewidth\": 2}}}, \"title\": {\"text\": \"LSI Scores\"}, \"xaxis\": {\"anchor\": \"y\", \"domain\": [0.0, 1.0], \"title\": {\"text\": \"score\"}}, \"yaxis\": {\"anchor\": \"x\", \"domain\": [0.0, 1.0], \"title\": {\"text\": \"count\"}}},\n",
              "                        {\"responsive\": true}\n",
              "                    ).then(function(){\n",
              "                            \n",
              "var gd = document.getElementById('4ce66842-f9ca-4470-ba8a-0ad555a2f420');\n",
              "var x = new MutationObserver(function (mutations, observer) {{\n",
              "        var display = window.getComputedStyle(gd).display;\n",
              "        if (!display || display === 'none') {{\n",
              "            console.log([gd, 'removed!']);\n",
              "            Plotly.purge(gd);\n",
              "            observer.disconnect();\n",
              "        }}\n",
              "}});\n",
              "\n",
              "// Listen for the removal of the full notebook cells\n",
              "var notebookContainer = gd.closest('#notebook-container');\n",
              "if (notebookContainer) {{\n",
              "    x.observe(notebookContainer, {childList: true});\n",
              "}}\n",
              "\n",
              "// Listen for the clearing of the current output cell\n",
              "var outputEl = gd.closest('.output');\n",
              "if (outputEl) {{\n",
              "    x.observe(outputEl, {childList: true});\n",
              "}}\n",
              "\n",
              "                        })\n",
              "                };\n",
              "                \n",
              "            </script>\n",
              "        </div>\n",
              "</body>\n",
              "</html>"
            ]
          },
          "metadata": {}
        }
      ]
    },
    {
      "cell_type": "code",
      "metadata": {
        "id": "RX2JvEEGPGgS"
      },
      "source": [
        "if use_wandb:\n",
        "  wandb.log({\"scores_hist\": fig})"
      ],
      "execution_count": 72,
      "outputs": []
    },
    {
      "cell_type": "code",
      "metadata": {
        "colab": {
          "base_uri": "https://localhost:8080/",
          "height": 1000
        },
        "id": "7N81-XfdDFKV",
        "outputId": "fb513ba4-b330-4c95-97be-6a4931591a48"
      },
      "source": [
        "result, details = recommend_tune(df_sim, 'These Foolish Things [jazz1350]')\n",
        "result.head(30)"
      ],
      "execution_count": 73,
      "outputs": [
        {
          "output_type": "execute_result",
          "data": {
            "text/html": [
              "<div>\n",
              "<style scoped>\n",
              "    .dataframe tbody tr th:only-of-type {\n",
              "        vertical-align: middle;\n",
              "    }\n",
              "\n",
              "    .dataframe tbody tr th {\n",
              "        vertical-align: top;\n",
              "    }\n",
              "\n",
              "    .dataframe thead th {\n",
              "        text-align: right;\n",
              "    }\n",
              "</style>\n",
              "<table border=\"1\" class=\"dataframe\">\n",
              "  <thead>\n",
              "    <tr style=\"text-align: right;\">\n",
              "      <th></th>\n",
              "      <th>index</th>\n",
              "      <th>reference</th>\n",
              "      <th>reference_titleid</th>\n",
              "      <th>similar_title</th>\n",
              "      <th>score</th>\n",
              "      <th>max</th>\n",
              "      <th>score_div_max</th>\n",
              "      <th>similar_titleid</th>\n",
              "    </tr>\n",
              "  </thead>\n",
              "  <tbody>\n",
              "    <tr>\n",
              "      <th>0</th>\n",
              "      <td>0</td>\n",
              "      <td>These Foolish Things [jazz1350]</td>\n",
              "      <td>1168</td>\n",
              "      <td>More Than You Know [jazz1350]</td>\n",
              "      <td>0.916515</td>\n",
              "      <td>0.916515</td>\n",
              "      <td>1.000000</td>\n",
              "      <td>829</td>\n",
              "    </tr>\n",
              "    <tr>\n",
              "      <th>1</th>\n",
              "      <td>1</td>\n",
              "      <td>These Foolish Things [jazz1350]</td>\n",
              "      <td>1168</td>\n",
              "      <td>Way You Look Tonight, The [jazz1350]</td>\n",
              "      <td>0.966796</td>\n",
              "      <td>0.974755</td>\n",
              "      <td>1.000000</td>\n",
              "      <td>1253</td>\n",
              "    </tr>\n",
              "    <tr>\n",
              "      <th>2</th>\n",
              "      <td>2</td>\n",
              "      <td>These Foolish Things [jazz1350]</td>\n",
              "      <td>1168</td>\n",
              "      <td>I Loves You Porgy [jazz1350]</td>\n",
              "      <td>0.974755</td>\n",
              "      <td>0.974755</td>\n",
              "      <td>1.000000</td>\n",
              "      <td>520</td>\n",
              "    </tr>\n",
              "    <tr>\n",
              "      <th>3</th>\n",
              "      <td>3</td>\n",
              "      <td>These Foolish Things [jazz1350]</td>\n",
              "      <td>1168</td>\n",
              "      <td>It's Easy To Remember [jazz1350]</td>\n",
              "      <td>0.951972</td>\n",
              "      <td>0.974755</td>\n",
              "      <td>0.997175</td>\n",
              "      <td>637</td>\n",
              "    </tr>\n",
              "    <tr>\n",
              "      <th>4</th>\n",
              "      <td>4</td>\n",
              "      <td>These Foolish Things [jazz1350]</td>\n",
              "      <td>1168</td>\n",
              "      <td>Stairway To The Stars [jazz1350]</td>\n",
              "      <td>0.942223</td>\n",
              "      <td>0.954669</td>\n",
              "      <td>0.986963</td>\n",
              "      <td>1097</td>\n",
              "    </tr>\n",
              "    <tr>\n",
              "      <th>5</th>\n",
              "      <td>5</td>\n",
              "      <td>These Foolish Things [jazz1350]</td>\n",
              "      <td>1168</td>\n",
              "      <td>Party's Over, The [jazz1350]</td>\n",
              "      <td>0.958709</td>\n",
              "      <td>0.974755</td>\n",
              "      <td>0.983539</td>\n",
              "      <td>935</td>\n",
              "    </tr>\n",
              "    <tr>\n",
              "      <th>6</th>\n",
              "      <td>6</td>\n",
              "      <td>These Foolish Things [jazz1350]</td>\n",
              "      <td>1168</td>\n",
              "      <td>Rosetta [jazz1350]</td>\n",
              "      <td>0.895443</td>\n",
              "      <td>0.916515</td>\n",
              "      <td>0.977008</td>\n",
              "      <td>996</td>\n",
              "    </tr>\n",
              "    <tr>\n",
              "      <th>7</th>\n",
              "      <td>7</td>\n",
              "      <td>These Foolish Things [jazz1350]</td>\n",
              "      <td>1168</td>\n",
              "      <td>Rosetta [trad]</td>\n",
              "      <td>0.895443</td>\n",
              "      <td>0.916515</td>\n",
              "      <td>0.977008</td>\n",
              "      <td>1676</td>\n",
              "    </tr>\n",
              "    <tr>\n",
              "      <th>8</th>\n",
              "      <td>8</td>\n",
              "      <td>These Foolish Things [jazz1350]</td>\n",
              "      <td>1168</td>\n",
              "      <td>They All Laughed [jazz1350]</td>\n",
              "      <td>0.950980</td>\n",
              "      <td>0.974755</td>\n",
              "      <td>0.975609</td>\n",
              "      <td>1169</td>\n",
              "    </tr>\n",
              "    <tr>\n",
              "      <th>9</th>\n",
              "      <td>9</td>\n",
              "      <td>These Foolish Things [jazz1350]</td>\n",
              "      <td>1168</td>\n",
              "      <td>And The Angels Sing [jazz1350]</td>\n",
              "      <td>0.947678</td>\n",
              "      <td>0.974755</td>\n",
              "      <td>0.972222</td>\n",
              "      <td>78</td>\n",
              "    </tr>\n",
              "    <tr>\n",
              "      <th>10</th>\n",
              "      <td>10</td>\n",
              "      <td>These Foolish Things [jazz1350]</td>\n",
              "      <td>1168</td>\n",
              "      <td>Let's Fall In Love [jazz1350]</td>\n",
              "      <td>0.927426</td>\n",
              "      <td>0.954669</td>\n",
              "      <td>0.971464</td>\n",
              "      <td>708</td>\n",
              "    </tr>\n",
              "    <tr>\n",
              "      <th>11</th>\n",
              "      <td>11</td>\n",
              "      <td>These Foolish Things [jazz1350]</td>\n",
              "      <td>1168</td>\n",
              "      <td>Bewitched [jazz1350]</td>\n",
              "      <td>0.942847</td>\n",
              "      <td>0.974755</td>\n",
              "      <td>0.970287</td>\n",
              "      <td>132</td>\n",
              "    </tr>\n",
              "    <tr>\n",
              "      <th>12</th>\n",
              "      <td>12</td>\n",
              "      <td>These Foolish Things [jazz1350]</td>\n",
              "      <td>1168</td>\n",
              "      <td>Easy Street [jazz1350]</td>\n",
              "      <td>0.926302</td>\n",
              "      <td>0.954669</td>\n",
              "      <td>0.970286</td>\n",
              "      <td>343</td>\n",
              "    </tr>\n",
              "    <tr>\n",
              "      <th>13</th>\n",
              "      <td>13</td>\n",
              "      <td>These Foolish Things [jazz1350]</td>\n",
              "      <td>1168</td>\n",
              "      <td>Among My Souvenirs [jazz1350]</td>\n",
              "      <td>0.925820</td>\n",
              "      <td>0.954669</td>\n",
              "      <td>0.969782</td>\n",
              "      <td>75</td>\n",
              "    </tr>\n",
              "    <tr>\n",
              "      <th>14</th>\n",
              "      <td>14</td>\n",
              "      <td>These Foolish Things [jazz1350]</td>\n",
              "      <td>1168</td>\n",
              "      <td>Why Do I Love You [jazz1350]</td>\n",
              "      <td>0.943702</td>\n",
              "      <td>0.974755</td>\n",
              "      <td>0.968143</td>\n",
              "      <td>1286</td>\n",
              "    </tr>\n",
              "    <tr>\n",
              "      <th>15</th>\n",
              "      <td>15</td>\n",
              "      <td>These Foolish Things [jazz1350]</td>\n",
              "      <td>1168</td>\n",
              "      <td>Folks Who Live On The Hill, The [jazz1350]</td>\n",
              "      <td>0.942871</td>\n",
              "      <td>0.974755</td>\n",
              "      <td>0.967291</td>\n",
              "      <td>390</td>\n",
              "    </tr>\n",
              "    <tr>\n",
              "      <th>16</th>\n",
              "      <td>16</td>\n",
              "      <td>These Foolish Things [jazz1350]</td>\n",
              "      <td>1168</td>\n",
              "      <td>If There Is Someone Lovelier [jazz1350]</td>\n",
              "      <td>0.942082</td>\n",
              "      <td>0.974755</td>\n",
              "      <td>0.966481</td>\n",
              "      <td>582</td>\n",
              "    </tr>\n",
              "    <tr>\n",
              "      <th>17</th>\n",
              "      <td>17</td>\n",
              "      <td>These Foolish Things [jazz1350]</td>\n",
              "      <td>1168</td>\n",
              "      <td>It's A Lovely Day Today [jazz1350]</td>\n",
              "      <td>0.941636</td>\n",
              "      <td>0.974755</td>\n",
              "      <td>0.966024</td>\n",
              "      <td>632</td>\n",
              "    </tr>\n",
              "    <tr>\n",
              "      <th>18</th>\n",
              "      <td>18</td>\n",
              "      <td>These Foolish Things [jazz1350]</td>\n",
              "      <td>1168</td>\n",
              "      <td>Manhattan [jazz1350]</td>\n",
              "      <td>0.920751</td>\n",
              "      <td>0.954669</td>\n",
              "      <td>0.964472</td>\n",
              "      <td>774</td>\n",
              "    </tr>\n",
              "    <tr>\n",
              "      <th>19</th>\n",
              "      <td>19</td>\n",
              "      <td>These Foolish Things [jazz1350]</td>\n",
              "      <td>1168</td>\n",
              "      <td>Heart And Soul [jazz1350]</td>\n",
              "      <td>0.934199</td>\n",
              "      <td>0.974755</td>\n",
              "      <td>0.964457</td>\n",
              "      <td>457</td>\n",
              "    </tr>\n",
              "    <tr>\n",
              "      <th>20</th>\n",
              "      <td>20</td>\n",
              "      <td>These Foolish Things [jazz1350]</td>\n",
              "      <td>1168</td>\n",
              "      <td>For Once In My Life [jazz1350]</td>\n",
              "      <td>0.919239</td>\n",
              "      <td>0.954669</td>\n",
              "      <td>0.962888</td>\n",
              "      <td>397</td>\n",
              "    </tr>\n",
              "    <tr>\n",
              "      <th>21</th>\n",
              "      <td>21</td>\n",
              "      <td>These Foolish Things [jazz1350]</td>\n",
              "      <td>1168</td>\n",
              "      <td>Danny Boy [jazz1350]</td>\n",
              "      <td>0.934685</td>\n",
              "      <td>0.974755</td>\n",
              "      <td>0.962888</td>\n",
              "      <td>280</td>\n",
              "    </tr>\n",
              "    <tr>\n",
              "      <th>22</th>\n",
              "      <td>22</td>\n",
              "      <td>These Foolish Things [jazz1350]</td>\n",
              "      <td>1168</td>\n",
              "      <td>Taking A Chance On Love [jazz1350]</td>\n",
              "      <td>0.919145</td>\n",
              "      <td>0.954669</td>\n",
              "      <td>0.962790</td>\n",
              "      <td>1144</td>\n",
              "    </tr>\n",
              "    <tr>\n",
              "      <th>23</th>\n",
              "      <td>23</td>\n",
              "      <td>These Foolish Things [jazz1350]</td>\n",
              "      <td>1168</td>\n",
              "      <td>Miss Otis Regrets [trad]</td>\n",
              "      <td>0.936418</td>\n",
              "      <td>0.974755</td>\n",
              "      <td>0.960671</td>\n",
              "      <td>1609</td>\n",
              "    </tr>\n",
              "    <tr>\n",
              "      <th>24</th>\n",
              "      <td>24</td>\n",
              "      <td>These Foolish Things [jazz1350]</td>\n",
              "      <td>1168</td>\n",
              "      <td>You Keep Coming Back Like A Song [jazz1350]</td>\n",
              "      <td>0.933722</td>\n",
              "      <td>0.974755</td>\n",
              "      <td>0.957905</td>\n",
              "      <td>1317</td>\n",
              "    </tr>\n",
              "    <tr>\n",
              "      <th>25</th>\n",
              "      <td>25</td>\n",
              "      <td>These Foolish Things [jazz1350]</td>\n",
              "      <td>1168</td>\n",
              "      <td>Beyond The Sea [jazz1350]</td>\n",
              "      <td>0.932874</td>\n",
              "      <td>0.974755</td>\n",
              "      <td>0.957034</td>\n",
              "      <td>134</td>\n",
              "    </tr>\n",
              "    <tr>\n",
              "      <th>26</th>\n",
              "      <td>26</td>\n",
              "      <td>These Foolish Things [jazz1350]</td>\n",
              "      <td>1168</td>\n",
              "      <td>For You, For Me, For Evermore [jazz1350]</td>\n",
              "      <td>0.932298</td>\n",
              "      <td>0.974755</td>\n",
              "      <td>0.956444</td>\n",
              "      <td>399</td>\n",
              "    </tr>\n",
              "    <tr>\n",
              "      <th>27</th>\n",
              "      <td>27</td>\n",
              "      <td>These Foolish Things [jazz1350]</td>\n",
              "      <td>1168</td>\n",
              "      <td>Good Life, The [jazz1350]</td>\n",
              "      <td>0.921955</td>\n",
              "      <td>0.972306</td>\n",
              "      <td>0.948215</td>\n",
              "      <td>437</td>\n",
              "    </tr>\n",
              "    <tr>\n",
              "      <th>28</th>\n",
              "      <td>28</td>\n",
              "      <td>These Foolish Things [jazz1350]</td>\n",
              "      <td>1168</td>\n",
              "      <td>Mountain Greenery [jazz1350]</td>\n",
              "      <td>0.911765</td>\n",
              "      <td>0.972306</td>\n",
              "      <td>0.937735</td>\n",
              "      <td>833</td>\n",
              "    </tr>\n",
              "    <tr>\n",
              "      <th>29</th>\n",
              "      <td>29</td>\n",
              "      <td>These Foolish Things [jazz1350]</td>\n",
              "      <td>1168</td>\n",
              "      <td>Dreaming The Hours Away [trad]</td>\n",
              "      <td>0.911505</td>\n",
              "      <td>0.972306</td>\n",
              "      <td>0.937467</td>\n",
              "      <td>1466</td>\n",
              "    </tr>\n",
              "  </tbody>\n",
              "</table>\n",
              "</div>"
            ],
            "text/plain": [
              "    index                        reference  ...  score_div_max similar_titleid\n",
              "0       0  These Foolish Things [jazz1350]  ...       1.000000             829\n",
              "1       1  These Foolish Things [jazz1350]  ...       1.000000            1253\n",
              "2       2  These Foolish Things [jazz1350]  ...       1.000000             520\n",
              "3       3  These Foolish Things [jazz1350]  ...       0.997175             637\n",
              "4       4  These Foolish Things [jazz1350]  ...       0.986963            1097\n",
              "5       5  These Foolish Things [jazz1350]  ...       0.983539             935\n",
              "6       6  These Foolish Things [jazz1350]  ...       0.977008             996\n",
              "7       7  These Foolish Things [jazz1350]  ...       0.977008            1676\n",
              "8       8  These Foolish Things [jazz1350]  ...       0.975609            1169\n",
              "9       9  These Foolish Things [jazz1350]  ...       0.972222              78\n",
              "10     10  These Foolish Things [jazz1350]  ...       0.971464             708\n",
              "11     11  These Foolish Things [jazz1350]  ...       0.970287             132\n",
              "12     12  These Foolish Things [jazz1350]  ...       0.970286             343\n",
              "13     13  These Foolish Things [jazz1350]  ...       0.969782              75\n",
              "14     14  These Foolish Things [jazz1350]  ...       0.968143            1286\n",
              "15     15  These Foolish Things [jazz1350]  ...       0.967291             390\n",
              "16     16  These Foolish Things [jazz1350]  ...       0.966481             582\n",
              "17     17  These Foolish Things [jazz1350]  ...       0.966024             632\n",
              "18     18  These Foolish Things [jazz1350]  ...       0.964472             774\n",
              "19     19  These Foolish Things [jazz1350]  ...       0.964457             457\n",
              "20     20  These Foolish Things [jazz1350]  ...       0.962888             397\n",
              "21     21  These Foolish Things [jazz1350]  ...       0.962888             280\n",
              "22     22  These Foolish Things [jazz1350]  ...       0.962790            1144\n",
              "23     23  These Foolish Things [jazz1350]  ...       0.960671            1609\n",
              "24     24  These Foolish Things [jazz1350]  ...       0.957905            1317\n",
              "25     25  These Foolish Things [jazz1350]  ...       0.957034             134\n",
              "26     26  These Foolish Things [jazz1350]  ...       0.956444             399\n",
              "27     27  These Foolish Things [jazz1350]  ...       0.948215             437\n",
              "28     28  These Foolish Things [jazz1350]  ...       0.937735             833\n",
              "29     29  These Foolish Things [jazz1350]  ...       0.937467            1466\n",
              "\n",
              "[30 rows x 8 columns]"
            ]
          },
          "metadata": {},
          "execution_count": 73
        }
      ]
    },
    {
      "cell_type": "code",
      "metadata": {
        "id": "15ZsHOQmyyah"
      },
      "source": [
        "dd = pd.DataFrame(columns = recommender_results_cols)\n",
        "\n",
        "for tune in tunes_eval_list:\n",
        "  result, details = recommend_tune(df_sim, tune)\n",
        "  dd['id'] = result['index']\n",
        "  dd['reference'] = tune\n",
        "  dd['method'] = 'lsi'\n",
        "  dd['similar'] = result['similar_title']\n",
        "  dd['score_div_max'] = result['score_div_max']\n",
        "  dd['score'] = result['score']\n",
        "\n",
        "recommender_results = recommender_results.append(dd)"
      ],
      "execution_count": 74,
      "outputs": []
    },
    {
      "cell_type": "markdown",
      "metadata": {
        "id": "Ojrjp11ni6Pl"
      },
      "source": [
        "### Tests for Contrafacts"
      ]
    },
    {
      "cell_type": "code",
      "metadata": {
        "colab": {
          "base_uri": "https://localhost:8080/"
        },
        "id": "D0_7m1qji6A-",
        "outputId": "46685000-f3ce-402f-af31-b61fbcdb7f26"
      },
      "source": [
        "topN = 20\n",
        "matches, results = test_contrafacts(contrafacts, index_lsi, lsi, topN)\n",
        "\n",
        "print(f\"Found matches: {matches} out of {len(contrafacts)}: {100*matches/len(contrafacts):.3f}%\")\n",
        "print() \n",
        "print(\"Tunes with no match:\")\n",
        "[print(f\"{val}: {rr}\") for rr, val in results.items() if val==0] \n"
      ],
      "execution_count": 75,
      "outputs": [
        {
          "output_type": "stream",
          "name": "stdout",
          "text": [
            "Found matches: 94 out of 111: 84.685%\n",
            "\n",
            "Tunes with no match:\n",
            "0: 52nd Street Theme [jazz1350], I Got Rhythm [jazz1350]\n",
            "0: Ballade [jazz1350], As Long As I Live [jazz1350]\n",
            "0: Dewey Square [jazz1350], Oh, Lady Be Good [jazz1350]\n",
            "0: Don't Be That Way [jazz1350], I Got Rhythm [jazz1350]\n",
            "0: Good Bait [jazz1350], I Got Rhythm [jazz1350]\n",
            "0: Lennie's Pennies [jazz1350], Pennies From Heaven [jazz1350]\n",
            "0: Little Rootie Tootie [jazz1350], I Got Rhythm [jazz1350]\n",
            "0: Little Willie Leaps [jazz1350], All God's Chillun Got Rhythm [jazz1350]\n",
            "0: My Little Suede Shoes [jazz1350], Jeepers Creepers [jazz1350]\n",
            "0: Quasimodo (Theme) [jazz1350], Embraceable You [jazz1350]\n",
            "0: Room 608 [jazz1350], I Got Rhythm [jazz1350]\n",
            "0: Sweet Sue, Just You [jazz1350], Honeysuckle Rose [jazz1350]\n",
            "0: Sweet Sue, Just You [jazz1350], Bye Bye Blackbird [jazz1350]\n",
            "0: These Foolish Things [jazz1350], Blue Moon [jazz1350]\n",
            "0: These Foolish Things [jazz1350], Soultrain [jazz1350]\n",
            "0: Take The A Train [jazz1350], Girl From Ipanema, The [jazz1350]\n",
            "0: My Secret Love [jazz1350], Samba De Orfeu [jazz1350]\n"
          ]
        },
        {
          "output_type": "execute_result",
          "data": {
            "text/plain": [
              "[None,\n",
              " None,\n",
              " None,\n",
              " None,\n",
              " None,\n",
              " None,\n",
              " None,\n",
              " None,\n",
              " None,\n",
              " None,\n",
              " None,\n",
              " None,\n",
              " None,\n",
              " None,\n",
              " None,\n",
              " None,\n",
              " None]"
            ]
          },
          "metadata": {},
          "execution_count": 75
        }
      ]
    },
    {
      "cell_type": "code",
      "metadata": {
        "id": "RS7LsLASi5-f"
      },
      "source": [
        "model_name = 'lsi'\n",
        "if use_wandb:\n",
        "  wandb.log(\n",
        "      {model_name: {\n",
        "                'contrafacts': {\n",
        "                    'topN': topN,\n",
        "                    'success': matches/len(contrafacts),\n",
        "                    #'results': results\n",
        "                    }\n",
        "                   },\n",
        "       'all_models': {\n",
        "           model_name: wandb.Table(\n",
        "               columns=[\"Title\", \"Match\"],\n",
        "               data=[[key, value] for key, value in results.items()]),\n",
        "       }\n",
        "       })"
      ],
      "execution_count": 76,
      "outputs": []
    },
    {
      "cell_type": "markdown",
      "metadata": {
        "id": "AjZArSmyooWt"
      },
      "source": [
        "### Get Recommender Data for WebApp"
      ]
    },
    {
      "cell_type": "code",
      "metadata": {
        "colab": {
          "base_uri": "https://localhost:8080/"
        },
        "id": "JOBtj15donxK",
        "outputId": "5f6f5b2b-3841-4fd1-cbec-8d8d5d175a53"
      },
      "source": [
        "%%time\n",
        "if generate_webapp_data:\n",
        "  _tunes = list(tunes['title_playlist'].values())\n",
        "\n",
        "  df_sim = get_sim_scores(_tunes, index=index_lsi, model=lsi)\n",
        "\n",
        "  result = None\n",
        "  for tune in _tunes:\n",
        "    tune_result, details = recommend_tune(df_sim, tune)\n",
        "    if result is None:\n",
        "      result = pd.DataFrame(columns=tune_result.columns)\n",
        "    result = result.append(tune_result)\n",
        "\n",
        "  # save to file\n",
        "  result.to_csv('output/recommender_lsi.csv', sep='\\t', encoding='utf8')\n",
        "\n",
        "  # save to W&B\n",
        "  if use_wandb:\n",
        "    model_artifact = wandb.Artifact(\n",
        "        \"recommender_lsi\", \n",
        "        type=\"csv\",\n",
        "        description=\"Recommendations for each Tune using LSI Model (csv file)\",\n",
        "        metadata=\"\")\n",
        "\n",
        "    model_artifact.add_file('output/recommender_lsi.csv')\n",
        "    wandb.log_artifact(model_artifact)"
      ],
      "execution_count": 77,
      "outputs": [
        {
          "output_type": "stream",
          "name": "stdout",
          "text": [
            "CPU times: user 0 ns, sys: 4 µs, total: 4 µs\n",
            "Wall time: 7.15 µs\n"
          ]
        }
      ]
    },
    {
      "cell_type": "markdown",
      "metadata": {
        "id": "lTQKfd0xQQ65"
      },
      "source": [
        "## Store Model to W&B"
      ]
    },
    {
      "cell_type": "code",
      "metadata": {
        "id": "RfAYF7ArQUXo"
      },
      "source": [
        "if use_wandb:\n",
        "  model_artifact = wandb.Artifact(\n",
        "      \"model_lsi\", \n",
        "      type=\"model\",\n",
        "      description=\"LSI model\",\n",
        "      metadata=\"\")\n",
        "\n",
        "  model_artifact.add_file(\"/content/index/lsi.model\")\n",
        "  model_artifact.add_file(\"/content/index/lsi_matrixsim.index\")\n",
        "  model_artifact.add_file(\"/content/index/lsi.model.projection\")\n",
        "  wandb.log_artifact(model_artifact)"
      ],
      "execution_count": 78,
      "outputs": []
    },
    {
      "cell_type": "markdown",
      "metadata": {
        "id": "asScIocQRMPA"
      },
      "source": [
        "## Determine Number of Topics for LSI Model\n",
        "\n",
        "This sample comes from Datacamp: \n",
        "\n",
        "https://www.datacamp.com/community/tutorials/discovering-hidden-topics-python\n"
      ]
    },
    {
      "cell_type": "markdown",
      "metadata": {
        "id": "1TPNWFEPSxZ-"
      },
      "source": [
        "What is the best way to determine k (number of topics) in topic modeling? Identify the optimum number of topics in the given corpus text is a challenging task. We can use the following options for determining the optimum number of topics:\n",
        "\n",
        "* One way to determine the optimum number of topics is to consider each topic as a cluster and find out the effectiveness of a cluster using the Silhouette coefficient.\n",
        "* Topic coherence measure is a realistic measure for identifying the number of topics.\n",
        "\n",
        "Topic Coherence measure is a widely used metric to evaluate topic models. It uses the latent variable models. Each generated topic has a list of words. In topic coherence measure, you will find average/median of pairwise word similarity scores of the words in a topic. The high value of topic coherence score model will be considered as a good topic model. "
      ]
    },
    {
      "cell_type": "code",
      "metadata": {
        "id": "umpCyQQzRLgv"
      },
      "source": [
        "def prepare_corpus(doc_clean):\n",
        "    \"\"\"\n",
        "    Input  : clean document\n",
        "    Purpose: create term dictionary of our courpus and Converting list of documents (corpus) into Document Term Matrix\n",
        "    Output : term dictionary and Document Term Matrix\n",
        "    \"\"\"\n",
        "    # Creating the term dictionary of our courpus, where every unique term is assigned an index. dictionary = corpora.Dictionary(doc_clean)\n",
        "    dictionary = corpora.Dictionary(doc_clean)\n",
        "    # Converting list of documents (corpus) into Document Term Matrix using dictionary prepared above.\n",
        "    doc_term_matrix = [dictionary.doc2bow(doc) for doc in doc_clean]\n",
        "    # generate LDA model\n",
        "    return dictionary, doc_term_matrix"
      ],
      "execution_count": 79,
      "outputs": []
    },
    {
      "cell_type": "code",
      "metadata": {
        "id": "aS2wxIEERcul"
      },
      "source": [
        "def compute_coherence_values(dictionary, doc_term_matrix, doc_clean, stop, start=2, step=3):\n",
        "    \"\"\"\n",
        "    Input   : dictionary : Gensim dictionary\n",
        "              corpus : Gensim corpus\n",
        "              texts : List of input texts\n",
        "              stop : Max num of topics\n",
        "    purpose : Compute c_v coherence for various number of topics\n",
        "    Output  : model_list : List of LSA topic models\n",
        "              coherence_values : Coherence values corresponding to the LDA model with respective number of topics\n",
        "    \"\"\"\n",
        "    coherence_values = []\n",
        "    model_list = []\n",
        "    for num_topics in range(start, stop, step):\n",
        "        # generate LSA model\n",
        "        model = LsiModel(doc_term_matrix, num_topics=num_topics, id2word = dictionary)  # train model\n",
        "        model_list.append(model)\n",
        "        coherencemodel = CoherenceModel(model=model, texts=doc_clean, dictionary=dictionary, coherence='c_v')\n",
        "        coherence_values.append(coherencemodel.get_coherence())\n",
        "    return model_list, coherence_values"
      ],
      "execution_count": 80,
      "outputs": []
    },
    {
      "cell_type": "code",
      "metadata": {
        "id": "DjyzAzWBRfrH"
      },
      "source": [
        "def plot_graph(doc_clean,start, stop, step):\n",
        "    dictionary, doc_term_matrix = prepare_corpus(doc_clean)\n",
        "    model_list, coherence_values = compute_coherence_values(dictionary, doc_term_matrix,doc_clean,\n",
        "                                                            stop, start, step)\n",
        "    # Show graph\n",
        "    x = range(start, stop, step)\n",
        "    plt.plot(x, coherence_values)\n",
        "    plt.xlabel(\"Number of Topics\")\n",
        "    plt.ylabel(\"Coherence score\")\n",
        "    plt.legend((\"coherence_values\"), loc='best')\n",
        "    plt.show()"
      ],
      "execution_count": 81,
      "outputs": []
    },
    {
      "cell_type": "code",
      "metadata": {
        "id": "qy9ZjdcmRhxs"
      },
      "source": [
        "# evaluate a good number of topics for the LSI Model. This takes some time.\n",
        "\n",
        "if False:\n",
        "\n",
        "  start, stop, step = 1, 500, 10\n",
        "  plot_graph(data, start, stop, step)"
      ],
      "execution_count": 82,
      "outputs": []
    },
    {
      "cell_type": "markdown",
      "metadata": {
        "id": "Qo5NgBHFlqgg"
      },
      "source": [
        "For unigrams, the best number of topics seems to be around 20.\n",
        "\n",
        "For unigrams plus bigrams, the coherence score drops down until 100 and then continuously rises until 500 and continues to rise. Same for bigrams-only."
      ]
    },
    {
      "cell_type": "markdown",
      "metadata": {
        "id": "rF_INicGhXKd"
      },
      "source": [
        "# Doc2Vec"
      ]
    },
    {
      "cell_type": "code",
      "metadata": {
        "id": "wflSccBshkIk"
      },
      "source": [
        "def get_tagged_documents(corpus, tags=None):\n",
        "  if tags == 'SectionsTunes':\n",
        "    print('Tagging input data with both section and tune information.')\n",
        "  else:\n",
        "    print('Tagging input data with section informaiton only.')\n",
        "    \n",
        "  for i, tokens in enumerate(corpus):\n",
        "    if tags == 'SectionsTunes':\n",
        "      yield gensim.models.doc2vec.TaggedDocument(tokens, [i, f'titleid_{sectionid_to_titleid[i]}'])\n",
        "    else:\n",
        "      yield gensim.models.doc2vec.TaggedDocument(tokens, [i])  # diatonic chord distance is a bit better"
      ],
      "execution_count": 83,
      "outputs": []
    },
    {
      "cell_type": "code",
      "metadata": {
        "colab": {
          "base_uri": "https://localhost:8080/"
        },
        "id": "_u0RdBI1kYD9",
        "outputId": "862dd6d7-3586-4779-8a5d-a0e0766cfe36"
      },
      "source": [
        "train_corpus = list(get_tagged_documents(processed_corpus, doc2vec_config['general']['document_tags']))\n",
        "train_corpus[1000]"
      ],
      "execution_count": 84,
      "outputs": [
        {
          "output_type": "stream",
          "name": "stdout",
          "text": [
            "Tagging input data with both section and tune information.\n"
          ]
        },
        {
          "output_type": "execute_result",
          "data": {
            "text/plain": [
              "TaggedDocument(words=['C', 'Am', 'Dm', 'G7', 'C', 'F', 'C', 'Am', 'Dm', 'G7', 'C', 'Dm', 'G7'], tags=[1000, 'titleid_308'])"
            ]
          },
          "metadata": {},
          "execution_count": 84
        }
      ]
    },
    {
      "cell_type": "code",
      "metadata": {
        "colab": {
          "base_uri": "https://localhost:8080/"
        },
        "id": "M9adPoy9reaw",
        "outputId": "daaece97-fe27-4350-9cfa-5dec6c377abb"
      },
      "source": [
        "import multiprocessing\n",
        "\n",
        "print(f\"CPU Count: {multiprocessing.cpu_count()}\")\n",
        "print(f\"Config:\")\n",
        "print(doc2vec_config['model'])\n",
        "\n",
        "model = Doc2Vec(train_corpus,\n",
        "                **doc2vec_config['model']\n",
        "                )"
      ],
      "execution_count": 85,
      "outputs": [
        {
          "output_type": "stream",
          "name": "stderr",
          "text": [
            "2021-11-28 10:02:11,997 : INFO : collecting all words and their counts\n",
            "2021-11-28 10:02:11,999 : INFO : PROGRESS: at example #0, processed 0 words (0/s), 0 word types, 0 tags\n",
            "2021-11-28 10:02:12,050 : INFO : collected 72 word types and 7200 unique tags from a corpus of 5391 examples and 82622 words\n",
            "2021-11-28 10:02:12,052 : INFO : Creating a fresh vocabulary\n",
            "2021-11-28 10:02:12,055 : INFO : Doc2Vec lifecycle event {'msg': 'effective_min_count=1 retains 72 unique words (100.0%% of original 72, drops 0)', 'datetime': '2021-11-28T10:02:12.055734', 'gensim': '4.1.2', 'python': '3.7.12 (default, Sep 10 2021, 00:21:48) \\n[GCC 7.5.0]', 'platform': 'Linux-5.4.104+-x86_64-with-Ubuntu-18.04-bionic', 'event': 'prepare_vocab'}\n",
            "2021-11-28 10:02:12,058 : INFO : Doc2Vec lifecycle event {'msg': 'effective_min_count=1 leaves 82622 word corpus (100.0%% of original 82622, drops 0)', 'datetime': '2021-11-28T10:02:12.058355', 'gensim': '4.1.2', 'python': '3.7.12 (default, Sep 10 2021, 00:21:48) \\n[GCC 7.5.0]', 'platform': 'Linux-5.4.104+-x86_64-with-Ubuntu-18.04-bionic', 'event': 'prepare_vocab'}\n",
            "2021-11-28 10:02:12,062 : INFO : deleting the raw counts dictionary of 72 items\n",
            "2021-11-28 10:02:12,064 : INFO : sample=0.001 downsamples 40 most-common words\n",
            "2021-11-28 10:02:12,067 : INFO : Doc2Vec lifecycle event {'msg': 'downsampling leaves estimated 18531.453689281494 word corpus (22.4%% of prior 82622)', 'datetime': '2021-11-28T10:02:12.067180', 'gensim': '4.1.2', 'python': '3.7.12 (default, Sep 10 2021, 00:21:48) \\n[GCC 7.5.0]', 'platform': 'Linux-5.4.104+-x86_64-with-Ubuntu-18.04-bionic', 'event': 'prepare_vocab'}\n",
            "2021-11-28 10:02:12,072 : INFO : estimated required memory for 72 words and 100 dimensions: 4413600 bytes\n",
            "2021-11-28 10:02:12,073 : INFO : resetting layer weights\n",
            "2021-11-28 10:02:12,085 : INFO : Doc2Vec lifecycle event {'msg': 'training model with 3 workers on 72 vocabulary and 100 features, using sg=0 hs=0 sample=0.001 negative=10 window=4 shrink_windows=True', 'datetime': '2021-11-28T10:02:12.085047', 'gensim': '4.1.2', 'python': '3.7.12 (default, Sep 10 2021, 00:21:48) \\n[GCC 7.5.0]', 'platform': 'Linux-5.4.104+-x86_64-with-Ubuntu-18.04-bionic', 'event': 'train'}\n"
          ]
        },
        {
          "output_type": "stream",
          "name": "stdout",
          "text": [
            "CPU Count: 2\n",
            "Config:\n",
            "{'dm': 1, 'vector_size': 100, 'window': 4, 'epochs': 40, 'min_count': 1, 'negative': 10, 'sample': 0.001, 'seed': 42}\n"
          ]
        },
        {
          "output_type": "stream",
          "name": "stderr",
          "text": [
            "2021-11-28 10:02:12,706 : INFO : worker thread finished; awaiting finish of 2 more threads\n",
            "2021-11-28 10:02:12,773 : INFO : worker thread finished; awaiting finish of 1 more threads\n",
            "2021-11-28 10:02:12,786 : INFO : worker thread finished; awaiting finish of 0 more threads\n",
            "2021-11-28 10:02:12,787 : INFO : EPOCH - 1 : training on 82622 raw words (29309 effective words) took 0.7s, 42669 effective words/s\n",
            "2021-11-28 10:02:13,444 : INFO : worker thread finished; awaiting finish of 2 more threads\n",
            "2021-11-28 10:02:13,476 : INFO : worker thread finished; awaiting finish of 1 more threads\n",
            "2021-11-28 10:02:13,482 : INFO : worker thread finished; awaiting finish of 0 more threads\n",
            "2021-11-28 10:02:13,484 : INFO : EPOCH - 2 : training on 82622 raw words (29526 effective words) took 0.7s, 43158 effective words/s\n",
            "2021-11-28 10:02:14,107 : INFO : worker thread finished; awaiting finish of 2 more threads\n",
            "2021-11-28 10:02:14,152 : INFO : worker thread finished; awaiting finish of 1 more threads\n",
            "2021-11-28 10:02:14,163 : INFO : worker thread finished; awaiting finish of 0 more threads\n",
            "2021-11-28 10:02:14,164 : INFO : EPOCH - 3 : training on 82622 raw words (29360 effective words) took 0.7s, 43770 effective words/s\n",
            "2021-11-28 10:02:14,710 : INFO : worker thread finished; awaiting finish of 2 more threads\n",
            "2021-11-28 10:02:14,777 : INFO : worker thread finished; awaiting finish of 1 more threads\n",
            "2021-11-28 10:02:14,783 : INFO : worker thread finished; awaiting finish of 0 more threads\n",
            "2021-11-28 10:02:14,785 : INFO : EPOCH - 4 : training on 82622 raw words (29317 effective words) took 0.6s, 48165 effective words/s\n",
            "2021-11-28 10:02:15,351 : INFO : worker thread finished; awaiting finish of 2 more threads\n",
            "2021-11-28 10:02:15,426 : INFO : worker thread finished; awaiting finish of 1 more threads\n",
            "2021-11-28 10:02:15,432 : INFO : worker thread finished; awaiting finish of 0 more threads\n",
            "2021-11-28 10:02:15,433 : INFO : EPOCH - 5 : training on 82622 raw words (29256 effective words) took 0.6s, 46011 effective words/s\n",
            "2021-11-28 10:02:15,997 : INFO : worker thread finished; awaiting finish of 2 more threads\n",
            "2021-11-28 10:02:16,061 : INFO : worker thread finished; awaiting finish of 1 more threads\n",
            "2021-11-28 10:02:16,069 : INFO : worker thread finished; awaiting finish of 0 more threads\n",
            "2021-11-28 10:02:16,070 : INFO : EPOCH - 6 : training on 82622 raw words (29458 effective words) took 0.6s, 47230 effective words/s\n",
            "2021-11-28 10:02:16,683 : INFO : worker thread finished; awaiting finish of 2 more threads\n",
            "2021-11-28 10:02:16,736 : INFO : worker thread finished; awaiting finish of 1 more threads\n",
            "2021-11-28 10:02:16,739 : INFO : worker thread finished; awaiting finish of 0 more threads\n",
            "2021-11-28 10:02:16,742 : INFO : EPOCH - 7 : training on 82622 raw words (29288 effective words) took 0.7s, 44538 effective words/s\n",
            "2021-11-28 10:02:17,341 : INFO : worker thread finished; awaiting finish of 2 more threads\n",
            "2021-11-28 10:02:17,409 : INFO : worker thread finished; awaiting finish of 1 more threads\n",
            "2021-11-28 10:02:17,411 : INFO : worker thread finished; awaiting finish of 0 more threads\n",
            "2021-11-28 10:02:17,413 : INFO : EPOCH - 8 : training on 82622 raw words (29318 effective words) took 0.7s, 44470 effective words/s\n",
            "2021-11-28 10:02:18,012 : INFO : worker thread finished; awaiting finish of 2 more threads\n",
            "2021-11-28 10:02:18,056 : INFO : worker thread finished; awaiting finish of 1 more threads\n",
            "2021-11-28 10:02:18,064 : INFO : worker thread finished; awaiting finish of 0 more threads\n",
            "2021-11-28 10:02:18,065 : INFO : EPOCH - 9 : training on 82622 raw words (29241 effective words) took 0.6s, 45854 effective words/s\n",
            "2021-11-28 10:02:18,626 : INFO : worker thread finished; awaiting finish of 2 more threads\n",
            "2021-11-28 10:02:18,676 : INFO : worker thread finished; awaiting finish of 1 more threads\n",
            "2021-11-28 10:02:18,683 : INFO : worker thread finished; awaiting finish of 0 more threads\n",
            "2021-11-28 10:02:18,684 : INFO : EPOCH - 10 : training on 82622 raw words (29110 effective words) took 0.6s, 47969 effective words/s\n",
            "2021-11-28 10:02:19,286 : INFO : worker thread finished; awaiting finish of 2 more threads\n",
            "2021-11-28 10:02:19,343 : INFO : worker thread finished; awaiting finish of 1 more threads\n",
            "2021-11-28 10:02:19,354 : INFO : worker thread finished; awaiting finish of 0 more threads\n",
            "2021-11-28 10:02:19,356 : INFO : EPOCH - 11 : training on 82622 raw words (29384 effective words) took 0.7s, 44536 effective words/s\n",
            "2021-11-28 10:02:19,953 : INFO : worker thread finished; awaiting finish of 2 more threads\n",
            "2021-11-28 10:02:20,021 : INFO : worker thread finished; awaiting finish of 1 more threads\n",
            "2021-11-28 10:02:20,031 : INFO : worker thread finished; awaiting finish of 0 more threads\n",
            "2021-11-28 10:02:20,032 : INFO : EPOCH - 12 : training on 82622 raw words (29229 effective words) took 0.7s, 44139 effective words/s\n",
            "2021-11-28 10:02:20,646 : INFO : worker thread finished; awaiting finish of 2 more threads\n",
            "2021-11-28 10:02:20,707 : INFO : worker thread finished; awaiting finish of 1 more threads\n",
            "2021-11-28 10:02:20,715 : INFO : worker thread finished; awaiting finish of 0 more threads\n",
            "2021-11-28 10:02:20,716 : INFO : EPOCH - 13 : training on 82622 raw words (29158 effective words) took 0.7s, 43363 effective words/s\n",
            "2021-11-28 10:02:21,297 : INFO : worker thread finished; awaiting finish of 2 more threads\n",
            "2021-11-28 10:02:21,341 : INFO : worker thread finished; awaiting finish of 1 more threads\n",
            "2021-11-28 10:02:21,346 : INFO : worker thread finished; awaiting finish of 0 more threads\n",
            "2021-11-28 10:02:21,348 : INFO : EPOCH - 14 : training on 82622 raw words (29272 effective words) took 0.6s, 47210 effective words/s\n",
            "2021-11-28 10:02:21,906 : INFO : worker thread finished; awaiting finish of 2 more threads\n",
            "2021-11-28 10:02:21,958 : INFO : worker thread finished; awaiting finish of 1 more threads\n",
            "2021-11-28 10:02:21,965 : INFO : worker thread finished; awaiting finish of 0 more threads\n",
            "2021-11-28 10:02:21,967 : INFO : EPOCH - 15 : training on 82622 raw words (29427 effective words) took 0.6s, 48584 effective words/s\n",
            "2021-11-28 10:02:22,572 : INFO : worker thread finished; awaiting finish of 2 more threads\n",
            "2021-11-28 10:02:22,640 : INFO : worker thread finished; awaiting finish of 1 more threads\n",
            "2021-11-28 10:02:22,656 : INFO : worker thread finished; awaiting finish of 0 more threads\n",
            "2021-11-28 10:02:22,658 : INFO : EPOCH - 16 : training on 82622 raw words (29408 effective words) took 0.7s, 43347 effective words/s\n",
            "2021-11-28 10:02:23,251 : INFO : worker thread finished; awaiting finish of 2 more threads\n",
            "2021-11-28 10:02:23,296 : INFO : worker thread finished; awaiting finish of 1 more threads\n",
            "2021-11-28 10:02:23,308 : INFO : worker thread finished; awaiting finish of 0 more threads\n",
            "2021-11-28 10:02:23,309 : INFO : EPOCH - 17 : training on 82622 raw words (29390 effective words) took 0.6s, 45957 effective words/s\n",
            "2021-11-28 10:02:23,924 : INFO : worker thread finished; awaiting finish of 2 more threads\n",
            "2021-11-28 10:02:23,965 : INFO : worker thread finished; awaiting finish of 1 more threads\n",
            "2021-11-28 10:02:23,976 : INFO : worker thread finished; awaiting finish of 0 more threads\n",
            "2021-11-28 10:02:23,977 : INFO : EPOCH - 18 : training on 82622 raw words (29264 effective words) took 0.7s, 44669 effective words/s\n",
            "2021-11-28 10:02:24,600 : INFO : worker thread finished; awaiting finish of 2 more threads\n",
            "2021-11-28 10:02:24,654 : INFO : worker thread finished; awaiting finish of 1 more threads\n",
            "2021-11-28 10:02:24,663 : INFO : worker thread finished; awaiting finish of 0 more threads\n",
            "2021-11-28 10:02:24,664 : INFO : EPOCH - 19 : training on 82622 raw words (29221 effective words) took 0.7s, 43231 effective words/s\n",
            "2021-11-28 10:02:25,266 : INFO : worker thread finished; awaiting finish of 2 more threads\n",
            "2021-11-28 10:02:25,317 : INFO : worker thread finished; awaiting finish of 1 more threads\n",
            "2021-11-28 10:02:25,324 : INFO : worker thread finished; awaiting finish of 0 more threads\n",
            "2021-11-28 10:02:25,326 : INFO : EPOCH - 20 : training on 82622 raw words (29268 effective words) took 0.6s, 45197 effective words/s\n",
            "2021-11-28 10:02:25,916 : INFO : worker thread finished; awaiting finish of 2 more threads\n",
            "2021-11-28 10:02:25,981 : INFO : worker thread finished; awaiting finish of 1 more threads\n",
            "2021-11-28 10:02:25,994 : INFO : worker thread finished; awaiting finish of 0 more threads\n",
            "2021-11-28 10:02:25,995 : INFO : EPOCH - 21 : training on 82622 raw words (29427 effective words) took 0.7s, 44766 effective words/s\n",
            "2021-11-28 10:02:26,574 : INFO : worker thread finished; awaiting finish of 2 more threads\n",
            "2021-11-28 10:02:26,624 : INFO : worker thread finished; awaiting finish of 1 more threads\n",
            "2021-11-28 10:02:26,634 : INFO : worker thread finished; awaiting finish of 0 more threads\n",
            "2021-11-28 10:02:26,635 : INFO : EPOCH - 22 : training on 82622 raw words (29486 effective words) took 0.6s, 47118 effective words/s\n",
            "2021-11-28 10:02:27,211 : INFO : worker thread finished; awaiting finish of 2 more threads\n",
            "2021-11-28 10:02:27,272 : INFO : worker thread finished; awaiting finish of 1 more threads\n",
            "2021-11-28 10:02:27,278 : INFO : worker thread finished; awaiting finish of 0 more threads\n",
            "2021-11-28 10:02:27,280 : INFO : EPOCH - 23 : training on 82622 raw words (29353 effective words) took 0.6s, 47143 effective words/s\n",
            "2021-11-28 10:02:27,855 : INFO : worker thread finished; awaiting finish of 2 more threads\n",
            "2021-11-28 10:02:27,911 : INFO : worker thread finished; awaiting finish of 1 more threads\n",
            "2021-11-28 10:02:27,916 : INFO : worker thread finished; awaiting finish of 0 more threads\n",
            "2021-11-28 10:02:27,918 : INFO : EPOCH - 24 : training on 82622 raw words (29435 effective words) took 0.6s, 46997 effective words/s\n",
            "2021-11-28 10:02:28,474 : INFO : worker thread finished; awaiting finish of 2 more threads\n",
            "2021-11-28 10:02:28,547 : INFO : worker thread finished; awaiting finish of 1 more threads\n",
            "2021-11-28 10:02:28,557 : INFO : worker thread finished; awaiting finish of 0 more threads\n",
            "2021-11-28 10:02:28,559 : INFO : EPOCH - 25 : training on 82622 raw words (29315 effective words) took 0.6s, 46676 effective words/s\n",
            "2021-11-28 10:02:29,136 : INFO : worker thread finished; awaiting finish of 2 more threads\n",
            "2021-11-28 10:02:29,196 : INFO : worker thread finished; awaiting finish of 1 more threads\n",
            "2021-11-28 10:02:29,201 : INFO : worker thread finished; awaiting finish of 0 more threads\n",
            "2021-11-28 10:02:29,203 : INFO : EPOCH - 26 : training on 82622 raw words (29222 effective words) took 0.6s, 46271 effective words/s\n",
            "2021-11-28 10:02:29,816 : INFO : worker thread finished; awaiting finish of 2 more threads\n",
            "2021-11-28 10:02:29,867 : INFO : worker thread finished; awaiting finish of 1 more threads\n",
            "2021-11-28 10:02:29,877 : INFO : worker thread finished; awaiting finish of 0 more threads\n",
            "2021-11-28 10:02:29,878 : INFO : EPOCH - 27 : training on 82622 raw words (29389 effective words) took 0.7s, 44426 effective words/s\n",
            "2021-11-28 10:02:30,469 : INFO : worker thread finished; awaiting finish of 2 more threads\n",
            "2021-11-28 10:02:30,515 : INFO : worker thread finished; awaiting finish of 1 more threads\n",
            "2021-11-28 10:02:30,528 : INFO : worker thread finished; awaiting finish of 0 more threads\n",
            "2021-11-28 10:02:30,529 : INFO : EPOCH - 28 : training on 82622 raw words (29541 effective words) took 0.6s, 46284 effective words/s\n",
            "2021-11-28 10:02:31,094 : INFO : worker thread finished; awaiting finish of 2 more threads\n",
            "2021-11-28 10:02:31,140 : INFO : worker thread finished; awaiting finish of 1 more threads\n",
            "2021-11-28 10:02:31,148 : INFO : worker thread finished; awaiting finish of 0 more threads\n",
            "2021-11-28 10:02:31,149 : INFO : EPOCH - 29 : training on 82622 raw words (29189 effective words) took 0.6s, 48048 effective words/s\n",
            "2021-11-28 10:02:31,727 : INFO : worker thread finished; awaiting finish of 2 more threads\n",
            "2021-11-28 10:02:31,773 : INFO : worker thread finished; awaiting finish of 1 more threads\n",
            "2021-11-28 10:02:31,785 : INFO : worker thread finished; awaiting finish of 0 more threads\n",
            "2021-11-28 10:02:31,786 : INFO : EPOCH - 30 : training on 82622 raw words (29162 effective words) took 0.6s, 46647 effective words/s\n",
            "2021-11-28 10:02:32,330 : INFO : worker thread finished; awaiting finish of 2 more threads\n",
            "2021-11-28 10:02:32,387 : INFO : worker thread finished; awaiting finish of 1 more threads\n",
            "2021-11-28 10:02:32,394 : INFO : worker thread finished; awaiting finish of 0 more threads\n",
            "2021-11-28 10:02:32,396 : INFO : EPOCH - 31 : training on 82622 raw words (29306 effective words) took 0.6s, 49159 effective words/s\n",
            "2021-11-28 10:02:32,961 : INFO : worker thread finished; awaiting finish of 2 more threads\n",
            "2021-11-28 10:02:33,017 : INFO : worker thread finished; awaiting finish of 1 more threads\n",
            "2021-11-28 10:02:33,023 : INFO : worker thread finished; awaiting finish of 0 more threads\n",
            "2021-11-28 10:02:33,025 : INFO : EPOCH - 32 : training on 82622 raw words (29300 effective words) took 0.6s, 47522 effective words/s\n",
            "2021-11-28 10:02:33,576 : INFO : worker thread finished; awaiting finish of 2 more threads\n",
            "2021-11-28 10:02:33,616 : INFO : worker thread finished; awaiting finish of 1 more threads\n",
            "2021-11-28 10:02:33,628 : INFO : worker thread finished; awaiting finish of 0 more threads\n",
            "2021-11-28 10:02:33,630 : INFO : EPOCH - 33 : training on 82622 raw words (29427 effective words) took 0.6s, 49626 effective words/s\n",
            "2021-11-28 10:02:34,212 : INFO : worker thread finished; awaiting finish of 2 more threads\n",
            "2021-11-28 10:02:34,253 : INFO : worker thread finished; awaiting finish of 1 more threads\n",
            "2021-11-28 10:02:34,255 : INFO : worker thread finished; awaiting finish of 0 more threads\n",
            "2021-11-28 10:02:34,257 : INFO : EPOCH - 34 : training on 82622 raw words (29337 effective words) took 0.6s, 47765 effective words/s\n",
            "2021-11-28 10:02:34,867 : INFO : worker thread finished; awaiting finish of 2 more threads\n",
            "2021-11-28 10:02:34,907 : INFO : worker thread finished; awaiting finish of 1 more threads\n",
            "2021-11-28 10:02:34,920 : INFO : worker thread finished; awaiting finish of 0 more threads\n",
            "2021-11-28 10:02:34,922 : INFO : EPOCH - 35 : training on 82622 raw words (29406 effective words) took 0.6s, 45304 effective words/s\n",
            "2021-11-28 10:02:35,448 : INFO : worker thread finished; awaiting finish of 2 more threads\n",
            "2021-11-28 10:02:35,513 : INFO : worker thread finished; awaiting finish of 1 more threads\n",
            "2021-11-28 10:02:35,519 : INFO : worker thread finished; awaiting finish of 0 more threads\n",
            "2021-11-28 10:02:35,522 : INFO : EPOCH - 36 : training on 82622 raw words (29339 effective words) took 0.6s, 49708 effective words/s\n",
            "2021-11-28 10:02:36,076 : INFO : worker thread finished; awaiting finish of 2 more threads\n",
            "2021-11-28 10:02:36,126 : INFO : worker thread finished; awaiting finish of 1 more threads\n",
            "2021-11-28 10:02:36,133 : INFO : worker thread finished; awaiting finish of 0 more threads\n",
            "2021-11-28 10:02:36,135 : INFO : EPOCH - 37 : training on 82622 raw words (29410 effective words) took 0.6s, 48887 effective words/s\n",
            "2021-11-28 10:02:36,737 : INFO : worker thread finished; awaiting finish of 2 more threads\n",
            "2021-11-28 10:02:36,780 : INFO : worker thread finished; awaiting finish of 1 more threads\n",
            "2021-11-28 10:02:36,792 : INFO : worker thread finished; awaiting finish of 0 more threads\n",
            "2021-11-28 10:02:36,794 : INFO : EPOCH - 38 : training on 82622 raw words (29345 effective words) took 0.6s, 45345 effective words/s\n",
            "2021-11-28 10:02:37,329 : INFO : worker thread finished; awaiting finish of 2 more threads\n",
            "2021-11-28 10:02:37,383 : INFO : worker thread finished; awaiting finish of 1 more threads\n",
            "2021-11-28 10:02:37,387 : INFO : worker thread finished; awaiting finish of 0 more threads\n",
            "2021-11-28 10:02:37,390 : INFO : EPOCH - 39 : training on 82622 raw words (29446 effective words) took 0.6s, 51005 effective words/s\n",
            "2021-11-28 10:02:37,967 : INFO : worker thread finished; awaiting finish of 2 more threads\n",
            "2021-11-28 10:02:38,022 : INFO : worker thread finished; awaiting finish of 1 more threads\n",
            "2021-11-28 10:02:38,031 : INFO : worker thread finished; awaiting finish of 0 more threads\n",
            "2021-11-28 10:02:38,032 : INFO : EPOCH - 40 : training on 82622 raw words (29393 effective words) took 0.6s, 46539 effective words/s\n",
            "2021-11-28 10:02:38,035 : INFO : Doc2Vec lifecycle event {'msg': 'training on 3304880 raw words (1173432 effective words) took 25.9s, 45226 effective words/s', 'datetime': '2021-11-28T10:02:38.034986', 'gensim': '4.1.2', 'python': '3.7.12 (default, Sep 10 2021, 00:21:48) \\n[GCC 7.5.0]', 'platform': 'Linux-5.4.104+-x86_64-with-Ubuntu-18.04-bionic', 'event': 'train'}\n",
            "2021-11-28 10:02:38,036 : INFO : Doc2Vec lifecycle event {'params': 'Doc2Vec(dm/m,d100,n10,w4,s0.001,t3)', 'datetime': '2021-11-28T10:02:38.036071', 'gensim': '4.1.2', 'python': '3.7.12 (default, Sep 10 2021, 00:21:48) \\n[GCC 7.5.0]', 'platform': 'Linux-5.4.104+-x86_64-with-Ubuntu-18.04-bionic', 'event': 'created'}\n"
          ]
        }
      ]
    },
    {
      "cell_type": "code",
      "metadata": {
        "id": "G-cE7gug1Ct5",
        "colab": {
          "base_uri": "https://localhost:8080/"
        },
        "outputId": "bbaf370f-41de-4834-93d7-8985c5a026a5"
      },
      "source": [
        "if use_wandb:\n",
        "  model_artifact = wandb.Artifact(\n",
        "      \"model_doc2vec\", \n",
        "      type=\"model\",\n",
        "      description=\"Doc2Vec model\",\n",
        "      metadata=\"\")\n",
        "\n",
        "  fname = 'doc2vec.model'\n",
        "  model.save(fname)\n",
        "\n",
        "  model_artifact.add_file(fname)\n",
        "  wandb.log_artifact(model_artifact)"
      ],
      "execution_count": 86,
      "outputs": [
        {
          "output_type": "stream",
          "name": "stderr",
          "text": [
            "2021-11-28 10:02:38,054 : INFO : Doc2Vec lifecycle event {'fname_or_handle': 'doc2vec.model', 'separately': 'None', 'sep_limit': 10485760, 'ignore': frozenset(), 'datetime': '2021-11-28T10:02:38.054596', 'gensim': '4.1.2', 'python': '3.7.12 (default, Sep 10 2021, 00:21:48) \\n[GCC 7.5.0]', 'platform': 'Linux-5.4.104+-x86_64-with-Ubuntu-18.04-bionic', 'event': 'saving'}\n",
            "2021-11-28 10:02:38,057 : INFO : not storing attribute cum_table\n",
            "2021-11-28 10:02:38,072 : INFO : saved doc2vec.model\n"
          ]
        }
      ]
    },
    {
      "cell_type": "markdown",
      "metadata": {
        "id": "jJvq2K93xAO5"
      },
      "source": [
        "### Test the distance between C and the diatonic chords\n",
        "\n",
        "Test if the model can capture that the diatonic chords are closer to the root.\n",
        "\n",
        "Do this only if the input corpus contains the unigrams. "
      ]
    },
    {
      "cell_type": "code",
      "metadata": {
        "id": "cH3TJxCfvoFm",
        "colab": {
          "base_uri": "https://localhost:8080/"
        },
        "outputId": "82901082-5c6c-4b9b-83ec-02c3151be005"
      },
      "source": [
        "test_tokens = ['C',\n",
        "              'Dm',\n",
        "              'Em',\n",
        "              'F',\n",
        "              'G7',\n",
        "              'Am',\n",
        "              #'Bm7b5',\n",
        "              'F7',\n",
        "              'D7',\n",
        "              'A7',\n",
        "              'E7',\n",
        "              'B7',\n",
        "              'F#7',\n",
        "               'Cm',\n",
        "               'D']\n",
        "\n",
        "if 1 in ngrams_for_input:\n",
        "  ref = 'C'\n",
        "  for t in test_tokens:\n",
        "    print(f\"{model.wv.similarity(ref, t):.3f}: {ref} <-> {t}\")"
      ],
      "execution_count": 87,
      "outputs": [
        {
          "output_type": "stream",
          "name": "stdout",
          "text": [
            "1.000: C <-> C\n",
            "0.467: C <-> Dm\n",
            "0.476: C <-> Em\n",
            "0.350: C <-> F\n",
            "0.568: C <-> G7\n",
            "0.413: C <-> Am\n",
            "0.073: C <-> F7\n",
            "0.258: C <-> D7\n",
            "0.635: C <-> A7\n",
            "0.422: C <-> E7\n",
            "0.044: C <-> B7\n",
            "0.032: C <-> F#7\n",
            "0.225: C <-> Cm\n",
            "0.240: C <-> D\n"
          ]
        }
      ]
    },
    {
      "cell_type": "code",
      "metadata": {
        "id": "IfIRoWL4kpcB"
      },
      "source": [
        "if 1 in ngrams_for_input:\n",
        "  model.wv.similar_by_word('C', topn=20)"
      ],
      "execution_count": 88,
      "outputs": []
    },
    {
      "cell_type": "markdown",
      "metadata": {
        "id": "ix4n9S3_xQzD"
      },
      "source": [
        "Plot the generated word vectors in 2D space"
      ]
    },
    {
      "cell_type": "code",
      "metadata": {
        "id": "JjT_uNh0wthj",
        "colab": {
          "base_uri": "https://localhost:8080/",
          "height": 711
        },
        "outputId": "9d412ee7-fdf9-4d12-c9d1-2cc9e95868cb"
      },
      "source": [
        "from sklearn.manifold import TSNE\n",
        "\n",
        "# input data: vectors for all tokens\n",
        "weights = model.wv.vectors\n",
        "\n",
        "# only do this when the vocabulary is not too big....\n",
        "if len(weights) < 100:\n",
        "\n",
        "  # do T-SNE\n",
        "  tsne = TSNE(n_components=2, \n",
        "              random_state=42,\n",
        "              perplexity=30,\n",
        "              learning_rate='auto',\n",
        "              init='pca',\n",
        "              n_iter=2000\n",
        "              )\n",
        "  T = tsne.fit_transform(weights)\n",
        "\n",
        "  # plot\n",
        "  projected = pd.DataFrame(T)\n",
        "\n",
        "  fig = px.scatter(\n",
        "      projected, \n",
        "      x=0, y=1,\n",
        "      #color='mode',\n",
        "      text=model.wv.index_to_key,\n",
        "      width=800, height=600,\n",
        "      title=\"T-SNE applied to Chord Vectors for Tunes in Cmaj/Amin\"\n",
        "  )\n",
        "  fig.update_traces(textposition='top center')\n",
        "  fig.update_traces(textfont_size=12, selector=dict(type='scatter'))\n",
        "  fig.show()"
      ],
      "execution_count": 89,
      "outputs": [
        {
          "output_type": "stream",
          "name": "stderr",
          "text": [
            "/usr/local/lib/python3.7/dist-packages/sklearn/manifold/_t_sne.py:986: FutureWarning:\n",
            "\n",
            "The PCA initialization in TSNE will change to have the standard deviation of PC1 equal to 1e-4 in 1.2. This will ensure better convergence.\n",
            "\n"
          ]
        },
        {
          "output_type": "display_data",
          "data": {
            "text/html": [
              "<html>\n",
              "<head><meta charset=\"utf-8\" /></head>\n",
              "<body>\n",
              "    <div>\n",
              "            <script src=\"https://cdnjs.cloudflare.com/ajax/libs/mathjax/2.7.5/MathJax.js?config=TeX-AMS-MML_SVG\"></script><script type=\"text/javascript\">if (window.MathJax) {MathJax.Hub.Config({SVG: {font: \"STIX-Web\"}});}</script>\n",
              "                <script type=\"text/javascript\">window.PlotlyConfig = {MathJaxConfig: 'local'};</script>\n",
              "        <script src=\"https://cdn.plot.ly/plotly-latest.min.js\"></script>    \n",
              "            <div id=\"fec03cf3-2c78-4b5e-a595-79b1d46b5012\" class=\"plotly-graph-div\" style=\"height:600px; width:800px;\"></div>\n",
              "            <script type=\"text/javascript\">\n",
              "                \n",
              "                    window.PLOTLYENV=window.PLOTLYENV || {};\n",
              "                    \n",
              "                if (document.getElementById(\"fec03cf3-2c78-4b5e-a595-79b1d46b5012\")) {\n",
              "                    Plotly.newPlot(\n",
              "                        'fec03cf3-2c78-4b5e-a595-79b1d46b5012',\n",
              "                        [{\"hoverlabel\": {\"namelength\": 0}, \"hovertemplate\": \"0=%{x}<br>1=%{y}<br>text=%{text}\", \"legendgroup\": \"\", \"marker\": {\"color\": \"#636efa\", \"symbol\": \"circle\"}, \"mode\": \"markers+text\", \"name\": \"\", \"showlegend\": false, \"text\": [\"C\", \"G7\", \"Dm\", \"Am\", \"A7\", \"D7\", \"F\", \"C7\", \"E7\", \"Em\", \"F7\", \"Bb7\", \"Fm\", \"B7\", \"Gm\", \"G#7\", \"Bm7b5\", \"G\", \"Ebdim\", \"Eb7\", \"Cm\", \"F#m7b5\", \"G#\", \"Bm\", \"C#7\", \"Bb\", \"Em7b5\", \"E\", \"F#m\", \"F#7\", \"Eb\", \"F#dim\", \"C#dim\", \"Ebm\", \"C#\", \"A\", \"Dm7b5\", \"Bbm\", \"D\", \"C#m\", \"Cdim\", \"B\", \"G#m\", \"F#\", \"G#dim\", \"Am7b5\", \"Fdim\", \"Gdim\", \"G7(+b5)\", \"C#m7b5\", \"E7(+b5)\", \"Adim\", \"F#7(+b5)\", \"Gm7b5\", \"A7(+b5)\", \"B7(+b5)\", \"Edim\", \"G#m7b5\", \"C#7(+b5)\", \"Bb7(+b5)\", \"Fm7b5\", \"D7(+b5)\", \"Bbdim\", \"Bbm7b5\", \"C7(+b5)\", \"Bdim\", \"Ddim\", \"Ebm7b5\", \"G#7(+b5)\", \"F7(+b5)\", \"Cm7b5\", \"Eb7(+b5)\"], \"textfont\": {\"size\": 12}, \"textposition\": \"top center\", \"type\": \"scatter\", \"x\": [5.468664646148682, 5.421082496643066, 4.934406757354736, 4.805596828460693, 5.230838775634766, 4.908401966094971, 4.838840007781982, 4.694912910461426, 5.68679141998291, 5.947098731994629, 4.540593147277832, 5.449077129364014, 4.959593296051025, 4.134711742401123, 5.36584997177124, 4.828727722167969, 6.0570597648620605, 5.481421947479248, 4.825191497802734, 5.670705795288086, 4.568317890167236, 4.49056339263916, 4.513283729553223, 5.4009785652160645, 6.707078456878662, 5.158196449279785, 6.141664028167725, 3.7639760971069336, 3.8216817378997803, 4.191071033477783, 3.9468250274658203, 4.846776485443115, 5.087867259979248, 3.718780040740967, 4.282092571258545, 5.803713321685791, 4.567033767700195, 4.352187156677246, 5.651552677154541, 7.13589334487915, 5.24837064743042, 2.9652390480041504, 4.017251968383789, 4.196781635284424, 2.6239430904388428, 2.985844612121582, 2.8831849098205566, 3.8426434993743896, 1.111993670463562, 6.4057698249816895, 1.3375540971755981, 6.843386650085449, 0.6697059869766235, 4.109744071960449, 1.1880613565444946, 0.7635161876678467, 1.9369635581970215, 6.064833164215088, 1.628889560699463, 1.9376026391983032, 2.6619694232940674, 2.022451877593994, 3.328674077987671, 2.683089256286621, 1.8083674907684326, 3.405944585800171, 6.496917724609375, 2.5928616523742676, 2.0788071155548096, 2.2131214141845703, 2.9141299724578857, 2.6804587841033936], \"xaxis\": \"x\", \"y\": [0.26784271001815796, 0.6985812187194824, 1.0625227689743042, 0.681483805179596, 0.18937763571739197, 1.091443657875061, 0.65944904088974, 0.6126719117164612, 0.7764649987220764, 0.8436480760574341, 1.4261178970336914, 1.2182016372680664, 1.4141167402267456, 1.1614835262298584, 1.2926124334335327, 1.543522596359253, 1.2603384256362915, 1.4986001253128052, 0.26356053352355957, -0.8889713287353516, 2.125509023666382, -0.23322421312332153, 2.3914458751678467, 2.51531982421875, 1.6684012413024902, 1.8910095691680908, 0.7832878828048706, 0.5636700987815857, -0.08868617564439774, -1.2285574674606323, 2.201972007751465, 0.8543776869773865, -0.13984477519989014, 1.9770753383636475, 2.411705493927002, -0.002966532716527581, 1.381588339805603, 3.2221970558166504, 1.8387268781661987, 1.3814563751220703, -0.5943129062652588, 3.426995038986206, 3.9412622451782227, 3.849722385406494, 0.004566162824630737, 1.2990343570709229, -0.18178248405456543, -0.5136280059814453, 1.0520567893981934, 2.8727920055389404, 1.0623317956924438, -0.506690502166748, 2.263418197631836, 2.9092931747436523, 1.6569453477859497, 2.191765546798706, -0.3348903954029083, 3.300250291824341, 2.431016206741333, 2.302603244781494, 3.3540587425231934, 0.9029929041862488, 0.8986600041389465, 4.01153039932251, 0.5713520646095276, 0.8682399392127991, -0.09813414514064789, 1.7172737121582031, 2.1137051582336426, 2.485898017883301, 2.552741050720215, 2.7750439643859863], \"yaxis\": \"y\"}],\n",
              "                        {\"height\": 600, \"legend\": {\"tracegroupgap\": 0}, \"template\": {\"data\": {\"bar\": [{\"error_x\": {\"color\": \"#2a3f5f\"}, \"error_y\": {\"color\": \"#2a3f5f\"}, \"marker\": {\"line\": {\"color\": \"#E5ECF6\", \"width\": 0.5}}, \"type\": \"bar\"}], \"barpolar\": [{\"marker\": {\"line\": {\"color\": \"#E5ECF6\", \"width\": 0.5}}, \"type\": \"barpolar\"}], \"carpet\": [{\"aaxis\": {\"endlinecolor\": \"#2a3f5f\", \"gridcolor\": \"white\", \"linecolor\": \"white\", \"minorgridcolor\": \"white\", \"startlinecolor\": \"#2a3f5f\"}, \"baxis\": {\"endlinecolor\": \"#2a3f5f\", \"gridcolor\": \"white\", \"linecolor\": \"white\", \"minorgridcolor\": \"white\", \"startlinecolor\": \"#2a3f5f\"}, \"type\": \"carpet\"}], \"choropleth\": [{\"colorbar\": {\"outlinewidth\": 0, \"ticks\": \"\"}, \"type\": \"choropleth\"}], \"contour\": [{\"colorbar\": {\"outlinewidth\": 0, \"ticks\": \"\"}, \"colorscale\": [[0.0, \"#0d0887\"], [0.1111111111111111, \"#46039f\"], [0.2222222222222222, \"#7201a8\"], [0.3333333333333333, \"#9c179e\"], [0.4444444444444444, \"#bd3786\"], [0.5555555555555556, \"#d8576b\"], [0.6666666666666666, \"#ed7953\"], [0.7777777777777778, \"#fb9f3a\"], [0.8888888888888888, \"#fdca26\"], [1.0, \"#f0f921\"]], \"type\": \"contour\"}], \"contourcarpet\": [{\"colorbar\": {\"outlinewidth\": 0, \"ticks\": \"\"}, \"type\": \"contourcarpet\"}], \"heatmap\": [{\"colorbar\": {\"outlinewidth\": 0, \"ticks\": \"\"}, \"colorscale\": [[0.0, \"#0d0887\"], [0.1111111111111111, \"#46039f\"], [0.2222222222222222, \"#7201a8\"], [0.3333333333333333, \"#9c179e\"], [0.4444444444444444, \"#bd3786\"], [0.5555555555555556, \"#d8576b\"], [0.6666666666666666, \"#ed7953\"], [0.7777777777777778, \"#fb9f3a\"], [0.8888888888888888, \"#fdca26\"], [1.0, \"#f0f921\"]], \"type\": \"heatmap\"}], \"heatmapgl\": [{\"colorbar\": {\"outlinewidth\": 0, \"ticks\": \"\"}, \"colorscale\": [[0.0, \"#0d0887\"], [0.1111111111111111, \"#46039f\"], [0.2222222222222222, \"#7201a8\"], [0.3333333333333333, \"#9c179e\"], [0.4444444444444444, \"#bd3786\"], [0.5555555555555556, \"#d8576b\"], [0.6666666666666666, \"#ed7953\"], [0.7777777777777778, \"#fb9f3a\"], [0.8888888888888888, \"#fdca26\"], [1.0, \"#f0f921\"]], \"type\": \"heatmapgl\"}], \"histogram\": [{\"marker\": {\"colorbar\": {\"outlinewidth\": 0, \"ticks\": \"\"}}, \"type\": \"histogram\"}], \"histogram2d\": [{\"colorbar\": {\"outlinewidth\": 0, \"ticks\": \"\"}, \"colorscale\": [[0.0, \"#0d0887\"], [0.1111111111111111, \"#46039f\"], [0.2222222222222222, \"#7201a8\"], [0.3333333333333333, \"#9c179e\"], [0.4444444444444444, \"#bd3786\"], [0.5555555555555556, \"#d8576b\"], [0.6666666666666666, \"#ed7953\"], [0.7777777777777778, \"#fb9f3a\"], [0.8888888888888888, \"#fdca26\"], [1.0, \"#f0f921\"]], \"type\": \"histogram2d\"}], \"histogram2dcontour\": [{\"colorbar\": {\"outlinewidth\": 0, \"ticks\": \"\"}, \"colorscale\": [[0.0, \"#0d0887\"], [0.1111111111111111, \"#46039f\"], [0.2222222222222222, \"#7201a8\"], [0.3333333333333333, \"#9c179e\"], [0.4444444444444444, \"#bd3786\"], [0.5555555555555556, \"#d8576b\"], [0.6666666666666666, \"#ed7953\"], [0.7777777777777778, \"#fb9f3a\"], [0.8888888888888888, \"#fdca26\"], [1.0, \"#f0f921\"]], \"type\": \"histogram2dcontour\"}], \"mesh3d\": [{\"colorbar\": {\"outlinewidth\": 0, \"ticks\": \"\"}, \"type\": \"mesh3d\"}], \"parcoords\": [{\"line\": {\"colorbar\": {\"outlinewidth\": 0, \"ticks\": \"\"}}, \"type\": \"parcoords\"}], \"pie\": [{\"automargin\": true, \"type\": \"pie\"}], \"scatter\": [{\"marker\": {\"colorbar\": {\"outlinewidth\": 0, \"ticks\": \"\"}}, \"type\": \"scatter\"}], \"scatter3d\": [{\"line\": {\"colorbar\": {\"outlinewidth\": 0, \"ticks\": \"\"}}, \"marker\": {\"colorbar\": {\"outlinewidth\": 0, \"ticks\": \"\"}}, \"type\": \"scatter3d\"}], \"scattercarpet\": [{\"marker\": {\"colorbar\": {\"outlinewidth\": 0, \"ticks\": \"\"}}, \"type\": \"scattercarpet\"}], \"scattergeo\": [{\"marker\": {\"colorbar\": {\"outlinewidth\": 0, \"ticks\": \"\"}}, \"type\": \"scattergeo\"}], \"scattergl\": [{\"marker\": {\"colorbar\": {\"outlinewidth\": 0, \"ticks\": \"\"}}, \"type\": \"scattergl\"}], \"scattermapbox\": [{\"marker\": {\"colorbar\": {\"outlinewidth\": 0, \"ticks\": \"\"}}, \"type\": \"scattermapbox\"}], \"scatterpolar\": [{\"marker\": {\"colorbar\": {\"outlinewidth\": 0, \"ticks\": \"\"}}, \"type\": \"scatterpolar\"}], \"scatterpolargl\": [{\"marker\": {\"colorbar\": {\"outlinewidth\": 0, \"ticks\": \"\"}}, \"type\": \"scatterpolargl\"}], \"scatterternary\": [{\"marker\": {\"colorbar\": {\"outlinewidth\": 0, \"ticks\": \"\"}}, \"type\": \"scatterternary\"}], \"surface\": [{\"colorbar\": {\"outlinewidth\": 0, \"ticks\": \"\"}, \"colorscale\": [[0.0, \"#0d0887\"], [0.1111111111111111, \"#46039f\"], [0.2222222222222222, \"#7201a8\"], [0.3333333333333333, \"#9c179e\"], [0.4444444444444444, \"#bd3786\"], [0.5555555555555556, \"#d8576b\"], [0.6666666666666666, \"#ed7953\"], [0.7777777777777778, \"#fb9f3a\"], [0.8888888888888888, \"#fdca26\"], [1.0, \"#f0f921\"]], \"type\": \"surface\"}], \"table\": [{\"cells\": {\"fill\": {\"color\": \"#EBF0F8\"}, \"line\": {\"color\": \"white\"}}, \"header\": {\"fill\": {\"color\": \"#C8D4E3\"}, \"line\": {\"color\": \"white\"}}, \"type\": \"table\"}]}, \"layout\": {\"annotationdefaults\": {\"arrowcolor\": \"#2a3f5f\", \"arrowhead\": 0, \"arrowwidth\": 1}, \"coloraxis\": {\"colorbar\": {\"outlinewidth\": 0, \"ticks\": \"\"}}, \"colorscale\": {\"diverging\": [[0, \"#8e0152\"], [0.1, \"#c51b7d\"], [0.2, \"#de77ae\"], [0.3, \"#f1b6da\"], [0.4, \"#fde0ef\"], [0.5, \"#f7f7f7\"], [0.6, \"#e6f5d0\"], [0.7, \"#b8e186\"], [0.8, \"#7fbc41\"], [0.9, \"#4d9221\"], [1, \"#276419\"]], \"sequential\": [[0.0, \"#0d0887\"], [0.1111111111111111, \"#46039f\"], [0.2222222222222222, \"#7201a8\"], [0.3333333333333333, \"#9c179e\"], [0.4444444444444444, \"#bd3786\"], [0.5555555555555556, \"#d8576b\"], [0.6666666666666666, \"#ed7953\"], [0.7777777777777778, \"#fb9f3a\"], [0.8888888888888888, \"#fdca26\"], [1.0, \"#f0f921\"]], \"sequentialminus\": [[0.0, \"#0d0887\"], [0.1111111111111111, \"#46039f\"], [0.2222222222222222, \"#7201a8\"], [0.3333333333333333, \"#9c179e\"], [0.4444444444444444, \"#bd3786\"], [0.5555555555555556, \"#d8576b\"], [0.6666666666666666, \"#ed7953\"], [0.7777777777777778, \"#fb9f3a\"], [0.8888888888888888, \"#fdca26\"], [1.0, \"#f0f921\"]]}, \"colorway\": [\"#636efa\", \"#EF553B\", \"#00cc96\", \"#ab63fa\", \"#FFA15A\", \"#19d3f3\", \"#FF6692\", \"#B6E880\", \"#FF97FF\", \"#FECB52\"], \"font\": {\"color\": \"#2a3f5f\"}, \"geo\": {\"bgcolor\": \"white\", \"lakecolor\": \"white\", \"landcolor\": \"#E5ECF6\", \"showlakes\": true, \"showland\": true, \"subunitcolor\": \"white\"}, \"hoverlabel\": {\"align\": \"left\"}, \"hovermode\": \"closest\", \"mapbox\": {\"style\": \"light\"}, \"paper_bgcolor\": \"white\", \"plot_bgcolor\": \"#E5ECF6\", \"polar\": {\"angularaxis\": {\"gridcolor\": \"white\", \"linecolor\": \"white\", \"ticks\": \"\"}, \"bgcolor\": \"#E5ECF6\", \"radialaxis\": {\"gridcolor\": \"white\", \"linecolor\": \"white\", \"ticks\": \"\"}}, \"scene\": {\"xaxis\": {\"backgroundcolor\": \"#E5ECF6\", \"gridcolor\": \"white\", \"gridwidth\": 2, \"linecolor\": \"white\", \"showbackground\": true, \"ticks\": \"\", \"zerolinecolor\": \"white\"}, \"yaxis\": {\"backgroundcolor\": \"#E5ECF6\", \"gridcolor\": \"white\", \"gridwidth\": 2, \"linecolor\": \"white\", \"showbackground\": true, \"ticks\": \"\", \"zerolinecolor\": \"white\"}, \"zaxis\": {\"backgroundcolor\": \"#E5ECF6\", \"gridcolor\": \"white\", \"gridwidth\": 2, \"linecolor\": \"white\", \"showbackground\": true, \"ticks\": \"\", \"zerolinecolor\": \"white\"}}, \"shapedefaults\": {\"line\": {\"color\": \"#2a3f5f\"}}, \"ternary\": {\"aaxis\": {\"gridcolor\": \"white\", \"linecolor\": \"white\", \"ticks\": \"\"}, \"baxis\": {\"gridcolor\": \"white\", \"linecolor\": \"white\", \"ticks\": \"\"}, \"bgcolor\": \"#E5ECF6\", \"caxis\": {\"gridcolor\": \"white\", \"linecolor\": \"white\", \"ticks\": \"\"}}, \"title\": {\"x\": 0.05}, \"xaxis\": {\"automargin\": true, \"gridcolor\": \"white\", \"linecolor\": \"white\", \"ticks\": \"\", \"title\": {\"standoff\": 15}, \"zerolinecolor\": \"white\", \"zerolinewidth\": 2}, \"yaxis\": {\"automargin\": true, \"gridcolor\": \"white\", \"linecolor\": \"white\", \"ticks\": \"\", \"title\": {\"standoff\": 15}, \"zerolinecolor\": \"white\", \"zerolinewidth\": 2}}}, \"title\": {\"text\": \"T-SNE applied to Chord Vectors for Tunes in Cmaj/Amin\"}, \"width\": 800, \"xaxis\": {\"anchor\": \"y\", \"domain\": [0.0, 1.0], \"title\": {\"text\": \"0\"}}, \"yaxis\": {\"anchor\": \"x\", \"domain\": [0.0, 1.0], \"title\": {\"text\": \"1\"}}},\n",
              "                        {\"responsive\": true}\n",
              "                    ).then(function(){\n",
              "                            \n",
              "var gd = document.getElementById('fec03cf3-2c78-4b5e-a595-79b1d46b5012');\n",
              "var x = new MutationObserver(function (mutations, observer) {{\n",
              "        var display = window.getComputedStyle(gd).display;\n",
              "        if (!display || display === 'none') {{\n",
              "            console.log([gd, 'removed!']);\n",
              "            Plotly.purge(gd);\n",
              "            observer.disconnect();\n",
              "        }}\n",
              "}});\n",
              "\n",
              "// Listen for the removal of the full notebook cells\n",
              "var notebookContainer = gd.closest('#notebook-container');\n",
              "if (notebookContainer) {{\n",
              "    x.observe(notebookContainer, {childList: true});\n",
              "}}\n",
              "\n",
              "// Listen for the clearing of the current output cell\n",
              "var outputEl = gd.closest('.output');\n",
              "if (outputEl) {{\n",
              "    x.observe(outputEl, {childList: true});\n",
              "}}\n",
              "\n",
              "                        })\n",
              "                };\n",
              "                \n",
              "            </script>\n",
              "        </div>\n",
              "</body>\n",
              "</html>"
            ]
          },
          "metadata": {}
        }
      ]
    },
    {
      "cell_type": "markdown",
      "metadata": {
        "id": "ajqb904KDwNV"
      },
      "source": [
        "## Section Similarity\n"
      ]
    },
    {
      "cell_type": "markdown",
      "metadata": {
        "id": "HS_k1g6ujjKP"
      },
      "source": [
        "### Single Tunes"
      ]
    },
    {
      "cell_type": "code",
      "metadata": {
        "id": "mPnEPL_k4TZn"
      },
      "source": [
        "def get_section_scores_doc2vec(tunes):\n",
        "\n",
        "    df_sim = pd.DataFrame(columns=['reference_title',\n",
        "                                   'reference_titleid',\n",
        "                                  'similar_title',\n",
        "                                   'similar_titleid',\n",
        "                                  'ref_section', \n",
        "                                  'similar_section', \n",
        "                                  'score', \n",
        "                                  ])\n",
        "\n",
        "### get titleid from tunes, use enumerate\n",
        "\n",
        "    for tune in tunes:\n",
        "      print()\n",
        "      print(\"-\"*50)\n",
        "      for s1 in title_to_sectionid[tune]:\n",
        "      \n",
        "          # sections are tagged with the numeric sectionid and can be used for querying\n",
        "          sims = model.dv.similar_by_key(s1, topn=20)\n",
        "          \n",
        "          print(s1, sectionid_to_section[s1])\n",
        "          n = 0\n",
        "          for s2, s2_score in sims:\n",
        "              if type(s2) == int:  # only consider similarities to sectionids; tuneids are strings\n",
        "                  # don't count self-similarity between sections of the same tune\n",
        "                  if s2 not in title_to_sectionid[tune]:\n",
        "                      n += 1\n",
        "                  \n",
        "                      # print(f\"\\t{s2_score:.3f} {sectionid_to_section[s2]}\")\n",
        "\n",
        "                      df_sim.loc[len(df_sim)] = [tune,\n",
        "                                                 title_to_titleid[tune],\n",
        "                                                 sectionid_to_title[s2],\n",
        "                                                 sectionid_to_titleid[s2],\n",
        "                                                 sectionid_to_section[s1], \n",
        "                                                 sectionid_to_section[s2], \n",
        "                                                 s2_score, \n",
        "                                                 ]\n",
        "    return df_sim"
      ],
      "execution_count": 90,
      "outputs": []
    },
    {
      "cell_type": "code",
      "metadata": {
        "colab": {
          "base_uri": "https://localhost:8080/"
        },
        "id": "i_d92il649O9",
        "outputId": "15f24101-3ee1-4c39-9887-c73536b12774"
      },
      "source": [
        "_tunes = tunes_eval_list\n",
        "\n",
        "df_sim = get_section_scores_doc2vec(_tunes)\n",
        "\n",
        "result = None\n",
        "for tune in _tunes:\n",
        "  tune_result, details = recommend_tune(df_sim, tune)\n",
        "  if result is None:\n",
        "    result = pd.DataFrame(columns=tune_result.columns)\n",
        "  result = result.append(tune_result)\n",
        "\n",
        "print(f\"Result has {len(result)} rows.\")\n",
        "\n",
        "# save a copy of the results; all results will be concatenated at the end\n",
        "df_doc2vec = df_sim[:]"
      ],
      "execution_count": 91,
      "outputs": [
        {
          "output_type": "stream",
          "name": "stdout",
          "text": [
            "\n",
            "--------------------------------------------------\n",
            "125 After You've Gone, section1 (A)\n",
            "126 After You've Gone, section2 (B)\n",
            "127 After You've Gone, section3 (A)\n",
            "128 After You've Gone, section4 (C)\n",
            "\n",
            "--------------------------------------------------\n",
            "188 All God's Chillun Got Rhythm, section1 (A)\n",
            "189 All God's Chillun Got Rhythm, section2 (B)\n",
            "190 All God's Chillun Got Rhythm, section3 (A)\n",
            "191 All God's Chillun Got Rhythm, section4 (C)\n",
            "\n",
            "--------------------------------------------------\n",
            "198 All Of Me, section1 (A)\n",
            "199 All Of Me, section2 (B)\n",
            "200 All Of Me, section3 (A)\n",
            "201 All Of Me, section4 (C)\n",
            "\n",
            "--------------------------------------------------\n",
            "474 Blood Count, section1 (A)\n",
            "475 Blood Count, section2 (A)\n",
            "476 Blood Count, section3 (B)\n",
            "477 Blood Count, section4 (A)\n",
            "478 Blood Count, section5 (C)\n",
            "\n",
            "--------------------------------------------------\n",
            "496 Blue Moon, section1 (A)\n",
            "497 Blue Moon, section2 (A)\n",
            "498 Blue Moon, section3 (B)\n",
            "499 Blue Moon, section4 (A)\n",
            "\n",
            "--------------------------------------------------\n",
            "626 But Beautiful, section1 (A)\n",
            "627 But Beautiful, section2 (B)\n",
            "628 But Beautiful, section3 (A)\n",
            "629 But Beautiful, section4 (C)\n",
            "\n",
            "--------------------------------------------------\n",
            "653 Bye Bye Blackbird, section1 (A)\n",
            "654 Bye Bye Blackbird, section2 (B)\n",
            "\n",
            "--------------------------------------------------\n",
            "676 Call Me Irresponsible, section1 (A)\n",
            "677 Call Me Irresponsible, section2 (B)\n",
            "678 Call Me Irresponsible, section3 (A)\n",
            "679 Call Me Irresponsible, section4 (B)\n",
            "\n",
            "--------------------------------------------------\n",
            "826 Corcovado, section1 (A)\n",
            "827 Corcovado, section2 (B)\n",
            "828 Corcovado, section3 (A)\n",
            "829 Corcovado, section4 (C)\n",
            "\n",
            "--------------------------------------------------\n",
            "997 Dinah, section1 (A)\n",
            "998 Dinah, section2 (A)\n",
            "999 Dinah, section3 (B)\n",
            "1000 Dinah, section4 (A)\n",
            "\n",
            "--------------------------------------------------\n",
            "1125 East Of The Sun, section1 (A)\n",
            "1126 East Of The Sun, section2 (B)\n",
            "1127 East Of The Sun, section3 (A)\n",
            "1128 East Of The Sun, section4 (C)\n",
            "\n",
            "--------------------------------------------------\n",
            "1287 Footprints, section0 (nan)\n",
            "\n",
            "--------------------------------------------------\n",
            "1379 Giant Steps, section0 (nan)\n",
            "\n",
            "--------------------------------------------------\n",
            "1538 Honeysuckle Rose, section1 (A)\n",
            "1539 Honeysuckle Rose, section2 (A)\n",
            "1540 Honeysuckle Rose, section3 (B)\n",
            "1541 Honeysuckle Rose, section4 (A)\n",
            "\n",
            "--------------------------------------------------\n",
            "1647 I Got Rhythm, section1 (A)\n",
            "1648 I Got Rhythm, section2 (A)\n",
            "1649 I Got Rhythm, section3 (B)\n",
            "1650 I Got Rhythm, section4 (A)\n",
            "\n",
            "--------------------------------------------------\n",
            "2670 Misty, section1 (A)\n",
            "2671 Misty, section2 (A)\n",
            "2672 Misty, section3 (B)\n",
            "2673 Misty, section4 (A)\n",
            "\n",
            "--------------------------------------------------\n",
            "2857 Naima, section1 (A)\n",
            "2858 Naima, section2 (A)\n",
            "2859 Naima, section3 (B)\n",
            "2860 Naima, section4 (A)\n",
            "\n",
            "--------------------------------------------------\n",
            "5044 Old Fashioned Love, section0 (nan)\n",
            "\n",
            "--------------------------------------------------\n",
            "3142 Perdido, section1 (A)\n",
            "3143 Perdido, section2 (A)\n",
            "3144 Perdido, section3 (B)\n",
            "3145 Perdido, section4 (A)\n",
            "\n",
            "--------------------------------------------------\n",
            "3276 Rockin' Chair, section1 (A)\n",
            "3277 Rockin' Chair, section2 (B)\n",
            "3278 Rockin' Chair, section3 (A)\n",
            "\n",
            "--------------------------------------------------\n",
            "3578 Sophisticated Lady, section1 (A)\n",
            "3579 Sophisticated Lady, section2 (A)\n",
            "3580 Sophisticated Lady, section3 (B)\n",
            "3581 Sophisticated Lady, section4 (A)\n",
            "\n",
            "--------------------------------------------------\n",
            "3746 Sweet Sue, Just You, section1 (A)\n",
            "3747 Sweet Sue, Just You, section2 (A)\n",
            "3748 Sweet Sue, Just You, section3 (B)\n",
            "3749 Sweet Sue, Just You, section4 (A)\n",
            "\n",
            "--------------------------------------------------\n",
            "3860 These Foolish Things, section1 (A)\n",
            "3861 These Foolish Things, section2 (A)\n",
            "3862 These Foolish Things, section3 (B)\n",
            "3863 These Foolish Things, section4 (A)\n",
            "\n",
            "--------------------------------------------------\n",
            "4146 We'll Be Together Again, section1 (A)\n",
            "4147 We'll Be Together Again, section2 (A)\n",
            "4148 We'll Be Together Again, section3 (B)\n",
            "4149 We'll Be Together Again, section4 (A)\n",
            "Result has 1015 rows.\n"
          ]
        }
      ]
    },
    {
      "cell_type": "code",
      "metadata": {
        "id": "uNt-_pK9Cc-4",
        "colab": {
          "base_uri": "https://localhost:8080/",
          "height": 206
        },
        "outputId": "92aeda6a-6074-4348-8ac5-c15872b9718e"
      },
      "source": [
        "result.head()"
      ],
      "execution_count": 92,
      "outputs": [
        {
          "output_type": "execute_result",
          "data": {
            "text/html": [
              "<div>\n",
              "<style scoped>\n",
              "    .dataframe tbody tr th:only-of-type {\n",
              "        vertical-align: middle;\n",
              "    }\n",
              "\n",
              "    .dataframe tbody tr th {\n",
              "        vertical-align: top;\n",
              "    }\n",
              "\n",
              "    .dataframe thead th {\n",
              "        text-align: right;\n",
              "    }\n",
              "</style>\n",
              "<table border=\"1\" class=\"dataframe\">\n",
              "  <thead>\n",
              "    <tr style=\"text-align: right;\">\n",
              "      <th></th>\n",
              "      <th>index</th>\n",
              "      <th>reference</th>\n",
              "      <th>reference_titleid</th>\n",
              "      <th>similar_title</th>\n",
              "      <th>score</th>\n",
              "      <th>max</th>\n",
              "      <th>score_div_max</th>\n",
              "      <th>similar_titleid</th>\n",
              "    </tr>\n",
              "  </thead>\n",
              "  <tbody>\n",
              "    <tr>\n",
              "      <th>0</th>\n",
              "      <td>0</td>\n",
              "      <td>After You've Gone [jazz1350]</td>\n",
              "      <td>38</td>\n",
              "      <td>A Time For Love [jazz1350]</td>\n",
              "      <td>0.778831</td>\n",
              "      <td>0.778831</td>\n",
              "      <td>1.000000</td>\n",
              "      <td>26</td>\n",
              "    </tr>\n",
              "    <tr>\n",
              "      <th>1</th>\n",
              "      <td>1</td>\n",
              "      <td>After You've Gone [jazz1350]</td>\n",
              "      <td>38</td>\n",
              "      <td>Star Dust [jazz1350]</td>\n",
              "      <td>0.898224</td>\n",
              "      <td>0.898224</td>\n",
              "      <td>1.000000</td>\n",
              "      <td>1098</td>\n",
              "    </tr>\n",
              "    <tr>\n",
              "      <th>2</th>\n",
              "      <td>2</td>\n",
              "      <td>After You've Gone [jazz1350]</td>\n",
              "      <td>38</td>\n",
              "      <td>Take The A Train [jazz1350]</td>\n",
              "      <td>0.947996</td>\n",
              "      <td>0.947996</td>\n",
              "      <td>1.000000</td>\n",
              "      <td>1143</td>\n",
              "    </tr>\n",
              "    <tr>\n",
              "      <th>3</th>\n",
              "      <td>3</td>\n",
              "      <td>After You've Gone [jazz1350]</td>\n",
              "      <td>38</td>\n",
              "      <td>What'll I Do [jazz1350]</td>\n",
              "      <td>0.896225</td>\n",
              "      <td>0.898224</td>\n",
              "      <td>0.997775</td>\n",
              "      <td>1268</td>\n",
              "    </tr>\n",
              "    <tr>\n",
              "      <th>4</th>\n",
              "      <td>4</td>\n",
              "      <td>After You've Gone [jazz1350]</td>\n",
              "      <td>38</td>\n",
              "      <td>East Of The Sun [jazz1350]</td>\n",
              "      <td>0.890847</td>\n",
              "      <td>0.898224</td>\n",
              "      <td>0.991787</td>\n",
              "      <td>341</td>\n",
              "    </tr>\n",
              "  </tbody>\n",
              "</table>\n",
              "</div>"
            ],
            "text/plain": [
              "  index                     reference  ... score_div_max similar_titleid\n",
              "0     0  After You've Gone [jazz1350]  ...      1.000000              26\n",
              "1     1  After You've Gone [jazz1350]  ...      1.000000            1098\n",
              "2     2  After You've Gone [jazz1350]  ...      1.000000            1143\n",
              "3     3  After You've Gone [jazz1350]  ...      0.997775            1268\n",
              "4     4  After You've Gone [jazz1350]  ...      0.991787             341\n",
              "\n",
              "[5 rows x 8 columns]"
            ]
          },
          "metadata": {},
          "execution_count": 92
        }
      ]
    },
    {
      "cell_type": "code",
      "metadata": {
        "colab": {
          "base_uri": "https://localhost:8080/",
          "height": 542
        },
        "id": "n4dv7VVe5NT4",
        "outputId": "8e2b3aca-6a83-43c1-d687-3d4f51eca899"
      },
      "source": [
        "import plotly.express as px\n",
        "fig = px.histogram(df_sim, x=\"score\", nbins=50, title='doc2vec sections')\n",
        "fig.show()"
      ],
      "execution_count": 93,
      "outputs": [
        {
          "output_type": "display_data",
          "data": {
            "text/html": [
              "<html>\n",
              "<head><meta charset=\"utf-8\" /></head>\n",
              "<body>\n",
              "    <div>\n",
              "            <script src=\"https://cdnjs.cloudflare.com/ajax/libs/mathjax/2.7.5/MathJax.js?config=TeX-AMS-MML_SVG\"></script><script type=\"text/javascript\">if (window.MathJax) {MathJax.Hub.Config({SVG: {font: \"STIX-Web\"}});}</script>\n",
              "                <script type=\"text/javascript\">window.PlotlyConfig = {MathJaxConfig: 'local'};</script>\n",
              "        <script src=\"https://cdn.plot.ly/plotly-latest.min.js\"></script>    \n",
              "            <div id=\"5fc741f6-230e-4401-a93e-5cdbe07fc85c\" class=\"plotly-graph-div\" style=\"height:525px; width:100%;\"></div>\n",
              "            <script type=\"text/javascript\">\n",
              "                \n",
              "                    window.PLOTLYENV=window.PLOTLYENV || {};\n",
              "                    \n",
              "                if (document.getElementById(\"5fc741f6-230e-4401-a93e-5cdbe07fc85c\")) {\n",
              "                    Plotly.newPlot(\n",
              "                        '5fc741f6-230e-4401-a93e-5cdbe07fc85c',\n",
              "                        [{\"alignmentgroup\": \"True\", \"bingroup\": \"x\", \"hoverlabel\": {\"namelength\": 0}, \"hovertemplate\": \"score=%{x}<br>count=%{y}\", \"legendgroup\": \"\", \"marker\": {\"color\": \"#636efa\"}, \"name\": \"\", \"nbinsx\": 50, \"offsetgroup\": \"\", \"orientation\": \"v\", \"showlegend\": false, \"type\": \"histogram\", \"x\": [0.8982235789299011, 0.8962246179580688, 0.8908466100692749, 0.8860094547271729, 0.8763389587402344, 0.8758296966552734, 0.8658660650253296, 0.863126277923584, 0.8537764549255371, 0.8454829454421997, 0.8432857990264893, 0.8400488495826721, 0.8391076326370239, 0.8366070985794067, 0.8353447318077087, 0.8301188349723816, 0.8217669129371643, 0.9479961395263672, 0.893970251083374, 0.8883826732635498, 0.8570340871810913, 0.839015543460846, 0.8383151292800903, 0.8361378312110901, 0.8345887064933777, 0.8276388049125671, 0.8165077567100525, 0.8160527348518372, 0.8131170868873596, 0.8100886344909668, 0.8043763637542725, 0.873319149017334, 0.8500547409057617, 0.8472312688827515, 0.843596875667572, 0.8362312316894531, 0.8213491439819336, 0.8087372183799744, 0.8079330921173096, 0.803694486618042, 0.8030055165290833, 0.8028517961502075, 0.7971323132514954, 0.7969823479652405, 0.7952495813369751, 0.7873030304908752, 0.7850970029830933, 0.7788308262825012, 0.7267476916313171, 0.7220608592033386, 0.7185566425323486, 0.7064055800437927, 0.6999832987785339, 0.6996548771858215, 0.6843699216842651, 0.6751354336738586, 0.6728460788726807, 0.6717691421508789, 0.6670101881027222, 0.6561774611473083, 0.6543776988983154, 0.9474061727523804, 0.8865795135498047, 0.8821304440498352, 0.8793147206306458, 0.8708340525627136, 0.8702228665351868, 0.8599239587783813, 0.841747522354126, 0.8398285508155823, 0.8371420502662659, 0.8339155912399292, 0.8283002376556396, 0.8275091648101807, 0.8177849650382996, 0.8941155076026917, 0.8871726393699646, 0.8870314955711365, 0.8820689916610718, 0.8776276111602783, 0.8720094561576843, 0.8679218292236328, 0.8655133247375488, 0.8614351749420166, 0.8607765436172485, 0.8526813983917236, 0.8501341342926025, 0.847877025604248, 0.8475655913352966, 0.8455316424369812, 0.8418543934822083, 0.8402619957923889, 0.8395466804504395, 0.8320780396461487, 0.9269723296165466, 0.9261831641197205, 0.9221711158752441, 0.9106594920158386, 0.9105811715126038, 0.9062712788581848, 0.9050392508506775, 0.9031090140342712, 0.8994693756103516, 0.8830445408821106, 0.8814293146133423, 0.8784779906272888, 0.8783621191978455, 0.8778122067451477, 0.8757903575897217, 0.872336208820343, 0.8719450235366821, 0.8697763085365295, 0.8644086718559265, 0.938218355178833, 0.9323331117630005, 0.9223015904426575, 0.9172276258468628, 0.9136264324188232, 0.9123562574386597, 0.9089660048484802, 0.8948748707771301, 0.8911070227622986, 0.8794440627098083, 0.8772655725479126, 0.8738729357719421, 0.8727582097053528, 0.8721480965614319, 0.8704031109809875, 0.8649227023124695, 0.8612357378005981, 0.8957391381263733, 0.8859129548072815, 0.8796819448471069, 0.8379018306732178, 0.8365887999534607, 0.8354418873786926, 0.8279153108596802, 0.8245222568511963, 0.8238805532455444, 0.8101760149002075, 0.8067578673362732, 0.80652916431427, 0.9745029807090759, 0.9694488644599915, 0.949820339679718, 0.9497697949409485, 0.9404404163360596, 0.9359762668609619, 0.9285731315612793, 0.9232813715934753, 0.9210246801376343, 0.9195356965065002, 0.9180707931518555, 0.9176906943321228, 0.9147667288780212, 0.9136269092559814, 0.9101989269256592, 0.9091139435768127, 0.9080779552459717, 0.9029136300086975, 0.8987783193588257, 0.8957086205482483, 0.924349308013916, 0.9211922883987427, 0.9175811409950256, 0.9122895002365112, 0.9069650173187256, 0.9019156098365784, 0.8968322277069092, 0.8962938189506531, 0.889353334903717, 0.8882174491882324, 0.8843534588813782, 0.8829058408737183, 0.8826329708099365, 0.8821439146995544, 0.8817552328109741, 0.8757727146148682, 0.8712154626846313, 0.8693124651908875, 0.9002186059951782, 0.8998951315879822, 0.8998895287513733, 0.8982335925102234, 0.8981722593307495, 0.8950701355934143, 0.8813656568527222, 0.8807817101478577, 0.8713380098342896, 0.8694168329238892, 0.862216055393219, 0.8561955690383911, 0.8470615148544312, 0.8435680866241455, 0.8423010110855103, 0.8413078784942627, 0.8402068018913269, 0.8399075865745544, 0.866615891456604, 0.8210740685462952, 0.7839583158493042, 0.7627145648002625, 0.7588173151016235, 0.7490131258964539, 0.746618926525116, 0.7456963062286377, 0.7419534921646118, 0.7351031303405762, 0.73342365026474, 0.7319583296775818, 0.7267618179321289, 0.7149230241775513, 0.7119395136833191, 0.7096872925758362, 0.8562256097793579, 0.8521150350570679, 0.8516502380371094, 0.8502228856086731, 0.8502139449119568, 0.8489206433296204, 0.8293873071670532, 0.8269597887992859, 0.8151353597640991, 0.8106038570404053, 0.8105671405792236, 0.7958422899246216, 0.793612539768219, 0.7933865189552307, 0.7911847829818726, 0.7844035029411316, 0.8053175210952759, 0.8023137450218201, 0.7517879009246826, 0.7482132911682129, 0.7476377487182617, 0.7450012564659119, 0.7446870803833008, 0.7443937659263611, 0.7383736371994019, 0.7343057990074158, 0.7306396961212158, 0.72698974609375, 0.7254384160041809, 0.7169165015220642, 0.7152394652366638, 0.8390156626701355, 0.8213196396827698, 0.820095956325531, 0.8199565410614014, 0.8170607089996338, 0.8140110373497009, 0.8074119091033936, 0.8056641221046448, 0.8011478781700134, 0.7976206541061401, 0.7971064448356628, 0.7969395518302917, 0.7902144193649292, 0.7898182272911072, 0.7880588173866272, 0.7555487155914307, 0.6537100076675415, 0.6382323503494263, 0.6246550679206848, 0.618122935295105, 0.6148723363876343, 0.6026999354362488, 0.58860182762146, 0.5878992080688477, 0.5736895799636841, 0.5704827308654785, 0.5667232871055603, 0.5641215443611145, 0.5611482858657837, 0.8808763027191162, 0.8649487495422363, 0.8610411882400513, 0.8551633358001709, 0.8484360575675964, 0.8483085036277771, 0.8115534782409668, 0.810189425945282, 0.8035863041877747, 0.7993358969688416, 0.7963190674781799, 0.7901382446289062, 0.7855380773544312, 0.7701797485351562, 0.878891110420227, 0.8654235005378723, 0.8582942485809326, 0.8385390043258667, 0.834760308265686, 0.8256451487541199, 0.8218943476676941, 0.8218333721160889, 0.8140087723731995, 0.8119398951530457, 0.8051008582115173, 0.8025549054145813, 0.8020630478858948, 0.8008629679679871, 0.7972918748855591, 0.7877605557441711, 0.7870224714279175, 0.8731281757354736, 0.8604762554168701, 0.8341099619865417, 0.7931917309761047, 0.7792960405349731, 0.771664023399353, 0.7659477591514587, 0.7607331871986389, 0.7526568174362183, 0.7331246137619019, 0.7271850109100342, 0.7211027145385742, 0.7179529666900635, 0.71079421043396, 0.7099304795265198, 0.702228844165802, 0.6977770924568176, 0.6947702765464783, 0.8870885968208313, 0.8507457971572876, 0.8247054815292358, 0.8174135088920593, 0.8139879107475281, 0.8134641647338867, 0.8094124794006348, 0.8037007451057434, 0.8015028834342957, 0.7937775254249573, 0.7807182669639587, 0.7800999283790588, 0.9646211266517639, 0.9331261515617371, 0.930400550365448, 0.9289343357086182, 0.9280254244804382, 0.9275769591331482, 0.9112513661384583, 0.894904613494873, 0.8919276595115662, 0.8856329917907715, 0.8818956017494202, 0.8767854571342468, 0.8762747049331665, 0.8751823306083679, 0.8115848302841187, 0.796593189239502, 0.7804481983184814, 0.7623798847198486, 0.7572948336601257, 0.7533989548683167, 0.7464928030967712, 0.7442235350608826, 0.7412418127059937, 0.7353857159614563, 0.7226130962371826, 0.7194963693618774, 0.7182122468948364, 0.7137705087661743, 0.7132618427276611, 0.7094035744667053, 0.965671718120575, 0.9601030945777893, 0.9586521983146667, 0.95042484998703, 0.9343517422676086, 0.9323179721832275, 0.931440532207489, 0.9246699810028076, 0.9236408472061157, 0.9148285388946533, 0.9020509123802185, 0.8840132355690002, 0.8836862444877625, 0.8829190731048584, 0.8817299008369446, 0.7816279530525208, 0.781181812286377, 0.7671533226966858, 0.7524603605270386, 0.7504529356956482, 0.7472764849662781, 0.7436209917068481, 0.7431893348693848, 0.7387891411781311, 0.7289485335350037, 0.7274767756462097, 0.7272306680679321, 0.7269043922424316, 0.7219452857971191, 0.718996524810791, 0.713433027267456, 0.7115290760993958, 0.7106068730354309, 0.7092527151107788, 0.709205687046051, 0.9124767780303955, 0.907389223575592, 0.904741108417511, 0.9006301164627075, 0.8989450335502625, 0.8981926441192627, 0.8975411653518677, 0.8937132954597473, 0.8928729891777039, 0.8907065987586975, 0.8906472325325012, 0.8898552060127258, 0.8840997219085693, 0.8818234205245972, 0.8784779906272888, 0.8784734010696411, 0.8865554928779602, 0.8849877119064331, 0.8761481642723083, 0.8590320348739624, 0.8532977104187012, 0.848822832107544, 0.8415250182151794, 0.8321106433868408, 0.8303600549697876, 0.8300923109054565, 0.8296455144882202, 0.8296020030975342, 0.8282889723777771, 0.9450778365135193, 0.9432642459869385, 0.9428623914718628, 0.9418177008628845, 0.9417122006416321, 0.9396649599075317, 0.9391149282455444, 0.936380922794342, 0.9353088736534119, 0.9285217523574829, 0.9220114350318909, 0.9213241934776306, 0.9208465814590454, 0.9127221703529358, 0.9117434620857239, 0.9090575575828552, 0.9087726473808289, 0.9517747759819031, 0.8802441954612732, 0.8726239800453186, 0.8575518131256104, 0.8560717105865479, 0.8521831035614014, 0.8501901030540466, 0.8483656048774719, 0.8450726866722107, 0.8436816334724426, 0.8417452573776245, 0.8410040140151978, 0.8357095122337341, 0.9530920386314392, 0.9518482089042664, 0.9413182735443115, 0.9304097294807434, 0.9287270307540894, 0.92741459608078, 0.9219174981117249, 0.9210129380226135, 0.9196639657020569, 0.9182583689689636, 0.9166433811187744, 0.9157565832138062, 0.914765477180481, 0.9105544686317444, 0.9093483686447144, 0.9062228202819824, 0.9059508442878723, 0.9298955798149109, 0.9097656607627869, 0.9056055545806885, 0.89779132604599, 0.8969807028770447, 0.8943861722946167, 0.8927021622657776, 0.8842750787734985, 0.8836703896522522, 0.8830616474151611, 0.882838249206543, 0.8823851346969604, 0.8792677521705627, 0.8775368332862854, 0.8753487467765808, 0.874954879283905, 0.8741196393966675, 0.8659391403198242, 0.8635724782943726, 0.8514731526374817, 0.8240371346473694, 0.7875747084617615, 0.786490261554718, 0.7828730344772339, 0.7725690603256226, 0.7652324438095093, 0.7609987854957581, 0.7604772448539734, 0.7539538145065308, 0.7527512907981873, 0.7246622443199158, 0.681420624256134, 0.6356453895568848, 0.5785509347915649, 0.5666174292564392, 0.5664792060852051, 0.556462287902832, 0.5500615835189819, 0.5483536124229431, 0.5370427370071411, 0.5355486273765564, 0.534995973110199, 0.5341525077819824, 0.532539427280426, 0.5274761319160461, 0.5264601707458496, 0.5259586572647095, 0.5230483412742615, 0.5210482478141785, 0.8844008445739746, 0.8806090354919434, 0.8598241209983826, 0.8158770203590393, 0.8140835165977478, 0.8052436113357544, 0.8024064898490906, 0.7785890698432922, 0.7738683223724365, 0.7681931853294373, 0.7641878724098206, 0.7638267874717712, 0.7599532604217529, 0.7021384239196777, 0.6935701966285706, 0.6789000034332275, 0.6733664870262146, 0.6567797660827637, 0.6567083597183228, 0.6493293642997742, 0.6345989108085632, 0.6341116428375244, 0.6228557229042053, 0.6227450370788574, 0.6171377301216125, 0.6128396391868591, 0.6046735048294067, 0.5967279076576233, 0.5946587920188904, 0.5939836502075195, 0.5926191806793213, 0.5919741988182068, 0.927340567111969, 0.9254031777381897, 0.9182721972465515, 0.9174472689628601, 0.9115925431251526, 0.9081851840019226, 0.9073546528816223, 0.9046570062637329, 0.9041635990142822, 0.9007760286331177, 0.8935245275497437, 0.8912146091461182, 0.8910169005393982, 0.8894341588020325, 0.8891655206680298, 0.9479775428771973, 0.9105018377304077, 0.9101840853691101, 0.9025107026100159, 0.9008210301399231, 0.8960847854614258, 0.8959989547729492, 0.8957684636116028, 0.8936875462532043, 0.881057620048523, 0.8795593976974487, 0.8790236115455627, 0.8757360577583313, 0.8739606142044067, 0.9602270722389221, 0.9521279335021973, 0.9487270712852478, 0.9395485520362854, 0.9230919480323792, 0.9221796989440918, 0.9214023351669312, 0.9186333417892456, 0.9031800031661987, 0.8952050805091858, 0.8934399485588074, 0.8910337686538696, 0.882469117641449, 0.8816378712654114, 0.8753505945205688, 0.87490314245224, 0.8738306164741516, 0.9037953615188599, 0.8856420516967773, 0.8754917979240417, 0.8744755983352661, 0.8724862933158875, 0.872333824634552, 0.8695880174636841, 0.8663405776023865, 0.865504264831543, 0.8603269457817078, 0.855220377445221, 0.8520875573158264, 0.8467520475387573, 0.8463823199272156, 0.8442981243133545, 0.9550865292549133, 0.9309926629066467, 0.9132444262504578, 0.8908465504646301, 0.8881604671478271, 0.8862314224243164, 0.8757748007774353, 0.8725011944770813, 0.8721178770065308, 0.8680672645568848, 0.8641664981842041, 0.8473826050758362, 0.8465914130210876, 0.845335841178894, 0.8451347947120667, 0.8444886207580566, 0.8409165740013123, 0.8396769165992737, 0.971164882183075, 0.9658984541893005, 0.9620583653450012, 0.954109251499176, 0.9536317586898804, 0.9469321370124817, 0.9401075839996338, 0.9326941967010498, 0.9297666549682617, 0.9282181262969971, 0.9218863844871521, 0.9218186140060425, 0.9201491475105286, 0.9185730218887329, 0.9183220863342285, 0.916683554649353, 0.9145664572715759, 0.9138380885124207, 0.9131202101707458, 0.9104950428009033, 0.9428977966308594, 0.904880940914154, 0.889842689037323, 0.8892509341239929, 0.883836567401886, 0.8727697134017944, 0.8686667084693909, 0.8683930039405823, 0.864932656288147, 0.863961935043335, 0.8585351705551147, 0.8571591973304749, 0.8560526371002197, 0.852740466594696, 0.8511585593223572, 0.8503441214561462, 0.8490836024284363, 0.8489044308662415, 0.9204104542732239, 0.8880981206893921, 0.860756516456604, 0.8390858769416809, 0.8263351321220398, 0.7984465956687927, 0.7919999361038208, 0.7902939915657043, 0.7858243584632874, 0.7772042751312256, 0.7769705653190613, 0.9092631936073303, 0.9038636088371277, 0.9005309343338013, 0.8983546495437622, 0.8947935700416565, 0.8925735354423523, 0.8856830596923828, 0.8850823044776917, 0.883651614189148, 0.8827817440032959, 0.8805307745933533, 0.8786678910255432, 0.8736098408699036, 0.8722988367080688, 0.8717973828315735, 0.8700937032699585, 0.8676896095275879, 0.8316945433616638, 0.8197420239448547, 0.8134105205535889, 0.8023527264595032, 0.7963308095932007, 0.7545738816261292, 0.7496628761291504, 0.7420942783355713, 0.73389732837677, 0.7266759872436523, 0.726220965385437, 0.721591591835022, 0.7180120944976807, 0.7159594893455505, 0.9246805906295776, 0.9121388792991638, 0.89015793800354, 0.8859439492225647, 0.8859151601791382, 0.8836545944213867, 0.8748137354850769, 0.8747829794883728, 0.869448184967041, 0.8579460382461548, 0.8567059636116028, 0.8485891819000244, 0.8464561700820923, 0.8438591361045837, 0.8424794673919678, 0.8390297293663025, 0.8363350629806519, 0.9320204257965088, 0.906635582447052, 0.9056075215339661, 0.8977219462394714, 0.8964861035346985, 0.8912922739982605, 0.8897586464881897, 0.9646779298782349, 0.961317777633667, 0.9578030109405518, 0.9479180574417114, 0.9373571872711182, 0.9342832565307617, 0.9318408966064453, 0.9255068302154541, 0.9248164296150208, 0.9204843044281006, 0.9185148477554321, 0.9098511338233948, 0.9055629372596741, 0.9055449962615967, 0.9053442478179932, 0.904246985912323, 0.8980825543403625, 0.8969160914421082, 0.8949556946754456, 0.8942534327507019, 0.9420638084411621, 0.9371911883354187, 0.9262824654579163, 0.9036423563957214, 0.9036367535591125, 0.8944766521453857, 0.8927897214889526, 0.8910400867462158, 0.8896667957305908, 0.885495662689209, 0.8812485933303833, 0.8777817487716675, 0.8765413761138916, 0.8762990832328796, 0.8746187090873718, 0.8716153502464294, 0.8714345097541809, 0.8702749609947205, 0.8695178031921387, 0.8681307435035706, 0.9078149795532227, 0.8975870609283447, 0.8963813781738281, 0.8910936713218689, 0.8872112035751343, 0.8848114013671875, 0.8837785124778748, 0.880495548248291, 0.8774438500404358, 0.8702850341796875, 0.9675078392028809, 0.9336764216423035, 0.9211161732673645, 0.9201231002807617, 0.9190688133239746, 0.9112764000892639, 0.9066229462623596, 0.903499186038971, 0.8950274586677551, 0.882184624671936, 0.8815038204193115, 0.8799675107002258, 0.8799161911010742, 0.8761284947395325, 0.8760910034179688, 0.9803072810173035, 0.9781925082206726, 0.9711315631866455, 0.9653313159942627, 0.9619002342224121, 0.9611639976501465, 0.9582396745681763, 0.953572154045105, 0.9534777402877808, 0.9516474008560181, 0.9515707492828369, 0.9438413977622986, 0.9427827596664429, 0.9425123929977417, 0.9369931221008301, 0.9350152015686035, 0.9340012669563293, 0.9275833964347839, 0.9247976541519165, 0.9186548590660095, 0.9373217225074768, 0.8746187090873718, 0.86455237865448, 0.8628062605857849, 0.8549898266792297, 0.853864312171936, 0.853302001953125, 0.8516913652420044, 0.8481090664863586, 0.845773458480835, 0.8438510894775391, 0.8423386812210083, 0.8340756893157959, 0.8313840627670288, 0.9095832109451294, 0.8899417519569397, 0.8823534250259399, 0.8767816424369812, 0.8709152340888977, 0.8705117106437683, 0.869649350643158, 0.8678212761878967, 0.8578783869743347, 0.8459795713424683, 0.8454829454421997, 0.8304517269134521, 0.82060706615448, 0.8165380358695984, 0.8152823448181152, 0.8137060403823853, 0.8854670524597168, 0.8825912475585938, 0.875809371471405, 0.8728958368301392, 0.8695427775382996, 0.8694654703140259, 0.8655300140380859, 0.8553287386894226, 0.8516822457313538, 0.844869077205658, 0.8421034812927246, 0.8367562294006348, 0.8343273401260376, 0.8187705874443054, 0.8009522557258606, 0.7869057655334473, 0.7839791774749756, 0.7765673398971558, 0.7726759910583496, 0.755966305732727, 0.7478353381156921, 0.731450617313385, 0.7164170742034912, 0.7128216028213501, 0.7124876379966736, 0.7071493864059448, 0.7037513852119446, 0.6987739205360413, 0.6941044330596924, 0.9166916012763977, 0.909587562084198, 0.9040163159370422, 0.8788737654685974, 0.8563028573989868, 0.8559367060661316, 0.8558973073959351, 0.8550950288772583, 0.8519201874732971, 0.8485934734344482, 0.845270574092865, 0.8432896733283997, 0.8426312208175659, 0.8405649065971375, 0.8401930928230286, 0.8264333605766296, 0.8228957653045654, 0.9083197712898254, 0.9014370441436768, 0.8980734944343567, 0.8911671042442322, 0.8783082365989685, 0.8765430450439453, 0.8628501892089844, 0.8610900640487671, 0.8573446273803711, 0.854074239730835, 0.8526014089584351, 0.8514931797981262, 0.8375471830368042, 0.8357649445533752, 0.8324452638626099, 0.8316594362258911, 0.8254086971282959, 0.8921065926551819, 0.8858044743537903, 0.8463038206100464, 0.837697446346283, 0.837676465511322, 0.7892337441444397, 0.7817721366882324, 0.7809593677520752, 0.7788160443305969, 0.7656358480453491, 0.7620308995246887, 0.7556650638580322, 0.7479276061058044, 0.803942859172821, 0.8028404116630554, 0.7690253853797913, 0.7633933424949646, 0.7628836035728455, 0.7426151633262634, 0.7394269704818726, 0.7384154200553894, 0.725791335105896, 0.714669942855835, 0.7060551643371582, 0.7055355310440063, 0.7052238583564758, 0.6985018849372864, 0.6951599717140198, 0.6937899589538574, 0.6937662959098816, 0.8832479119300842, 0.7872098684310913, 0.7863324880599976, 0.7827874422073364, 0.7821560502052307, 0.7775099277496338, 0.7762429714202881, 0.7761474847793579, 0.7553352117538452, 0.7552273273468018, 0.7546517848968506, 0.752082109451294, 0.7473410964012146, 0.7424466609954834, 0.7389387488365173, 0.7373657822608948, 0.9395766854286194, 0.9289443492889404, 0.9288202524185181, 0.9188902378082275, 0.9176425933837891, 0.9156773090362549, 0.910734236240387, 0.9081560969352722, 0.9073683023452759, 0.9034207463264465, 0.9019976854324341, 0.9012619256973267, 0.8979207277297974, 0.8971413373947144, 0.9510647058486938, 0.9299359917640686, 0.9258699417114258, 0.9135804176330566, 0.9134355783462524, 0.9089875817298889, 0.9079787731170654, 0.9054124355316162, 0.904721200466156, 0.9005680084228516, 0.8978869915008545, 0.8952552676200867, 0.8944366574287415, 0.8915255665779114, 0.890863835811615, 0.9284481406211853, 0.9206083416938782, 0.9177811145782471, 0.9079456329345703, 0.9056814312934875, 0.9007868766784668, 0.898833692073822, 0.8918686509132385, 0.8856424689292908, 0.877770721912384, 0.8771907687187195, 0.8765519261360168, 0.8751736879348755, 0.9755434393882751, 0.9673657417297363, 0.9633013010025024, 0.9621843099594116, 0.9586571455001831, 0.958597719669342, 0.9552316069602966, 0.953477680683136, 0.9491713047027588, 0.9479694962501526, 0.94346022605896, 0.943412184715271, 0.9428851008415222, 0.9404487609863281, 0.9403365850448608, 0.9306668043136597, 0.9206047058105469, 0.9132872223854065, 0.9117506742477417, 0.9097568988800049, 0.9551884531974792, 0.940198540687561, 0.9399895071983337, 0.9270368218421936, 0.9155771136283875, 0.9089699387550354, 0.9070197939872742, 0.9069222211837769, 0.8925070762634277, 0.8824232816696167, 0.879302978515625, 0.879091203212738, 0.8653523325920105, 0.8645557761192322, 0.8631590008735657, 0.8890101313591003, 0.8464466333389282, 0.8222493529319763, 0.8179362416267395, 0.8125519156455994, 0.7955342531204224, 0.7819952964782715, 0.7704184055328369, 0.7698720097541809, 0.7680977582931519, 0.7509925365447998, 0.747378945350647, 0.743086576461792, 0.7395038604736328, 0.7387911677360535, 0.9124715328216553, 0.8583955764770508, 0.8395978212356567, 0.8208153247833252, 0.8140714764595032, 0.8094719648361206, 0.7981661558151245, 0.7954503297805786, 0.781974732875824, 0.7815228700637817, 0.7768113017082214, 0.7714112997055054, 0.769289493560791, 0.7671366930007935, 0.7590705156326294, 0.7579505443572998, 0.9244315028190613, 0.9171068072319031, 0.9147294163703918, 0.9078377485275269, 0.9039392471313477, 0.9008355140686035, 0.9007042646408081, 0.8995271325111389, 0.899088978767395, 0.8975279331207275, 0.8973047137260437, 0.886555552482605, 0.8202831149101257, 0.8161388635635376, 0.8116970062255859, 0.8057747483253479, 0.8046014308929443, 0.7992492318153381, 0.7949992418289185, 0.7889297008514404, 0.7885741591453552, 0.7837787866592407, 0.7827288508415222, 0.7787577509880066, 0.7769086360931396, 0.7761501669883728, 0.7761096954345703, 0.7700225114822388, 0.765335738658905, 0.7433554530143738, 0.7274860143661499, 0.722759485244751, 0.7180971503257751, 0.7106887102127075, 0.7037211656570435, 0.6960142850875854, 0.6834266185760498, 0.6832038760185242, 0.6820845603942871, 0.6805815100669861, 0.6774618625640869, 0.6746360063552856, 0.6728376150131226, 0.770563542842865, 0.7564511299133301, 0.7407224774360657, 0.7303719520568848, 0.7289991974830627, 0.7219232320785522, 0.7208319902420044, 0.7192897796630859, 0.7159437537193298, 0.7114924192428589, 0.7113327383995056, 0.7112787961959839, 0.6975286602973938, 0.6888549327850342, 0.6837531924247742, 0.6816197037696838, 0.8373427391052246, 0.8330078721046448, 0.8293745517730713, 0.8260272741317749, 0.8138628602027893, 0.8054330945014954, 0.7996423840522766, 0.775161862373352, 0.767276406288147, 0.7634982466697693, 0.7510690093040466, 0.7481945753097534, 0.745158851146698, 0.742668867111206, 0.739076554775238, 0.7363594174385071, 0.9587941765785217, 0.9546835422515869, 0.9512807726860046, 0.9488069415092468, 0.9443686604499817, 0.9428157806396484, 0.9417266845703125, 0.9383763670921326, 0.9356132745742798, 0.9325557947158813, 0.9321889877319336, 0.9321475625038147, 0.9320870637893677, 0.9302828311920166, 0.9299875497817993, 0.9272810220718384, 0.9250174164772034, 0.923774778842926, 0.9227575659751892, 0.950347900390625, 0.9399632215499878, 0.9292118549346924, 0.92670738697052, 0.9219540953636169, 0.9082271456718445, 0.9079385995864868, 0.9049891233444214, 0.9048371315002441, 0.9034383893013, 0.9030995965003967, 0.9017170667648315, 0.9001460075378418, 0.8899359107017517, 0.8825582265853882, 0.8373600244522095, 0.8251558542251587, 0.821393609046936, 0.8171653747558594, 0.8168846964836121, 0.8154191374778748, 0.8132490515708923, 0.8129305243492126, 0.8085489869117737, 0.8080899715423584, 0.8048070669174194, 0.8008847832679749, 0.7992914915084839, 0.7988535761833191, 0.7917255163192749, 0.9555619955062866, 0.9337105751037598, 0.9286689162254333, 0.9245609641075134, 0.9245272278785706, 0.9242275953292847, 0.9187697172164917, 0.9173207879066467, 0.9149749279022217, 0.9142228364944458, 0.9131434559822083, 0.9125542640686035, 0.9108554720878601, 0.9105920195579529, 0.8727767467498779, 0.8646820783615112, 0.861156702041626, 0.8542627096176147, 0.8529898524284363, 0.8484915494918823, 0.8469899296760559, 0.845265805721283, 0.838901937007904, 0.8370345830917358, 0.8363544344902039, 0.8329405784606934, 0.8280377984046936, 0.8278946280479431, 0.8270606398582458, 0.826911449432373, 0.826088011264801, 0.8254436254501343, 0.825192928314209, 0.8944152593612671, 0.873383104801178, 0.8593456149101257, 0.8282525539398193, 0.8250975012779236, 0.8222493529319763, 0.8169828057289124, 0.8146880269050598, 0.8141089677810669, 0.8139233589172363, 0.8113510608673096, 0.8102331161499023, 0.8096404671669006, 0.8071854710578918, 0.8043826222419739, 0.7808932662010193, 0.7394264340400696, 0.7386760711669922, 0.7357797622680664, 0.7164270877838135, 0.7082940340042114, 0.7016614675521851, 0.6956689357757568, 0.6831120252609253, 0.6779306530952454, 0.6755019426345825, 0.6722368001937866, 0.6652460694313049, 0.6619229912757874, 0.6596940159797668, 0.6566142439842224, 0.650911808013916, 0.8780263662338257, 0.8618913888931274, 0.8531327843666077, 0.8475732207298279, 0.8388293981552124, 0.8264060020446777, 0.8247086405754089, 0.8234010338783264, 0.8229533433914185, 0.8057814836502075, 0.8006077408790588, 0.7999293208122253, 0.7997583150863647, 0.7855169177055359, 0.7982688546180725, 0.7445772290229797, 0.7392204403877258, 0.705658495426178, 0.7035814523696899, 0.7015542984008789, 0.6941084265708923, 0.6909999847412109, 0.6893015503883362, 0.6815739870071411, 0.6762049198150635, 0.675480306148529, 0.6696512699127197, 0.6664028167724609, 0.7864366173744202, 0.7750216126441956, 0.7699852585792542, 0.7689006924629211, 0.7676503658294678, 0.7666987776756287, 0.7597299218177795, 0.7564205527305603, 0.7499191164970398, 0.7497854828834534, 0.7482805252075195, 0.7334654331207275, 0.8501091003417969, 0.8494356274604797, 0.819991409778595, 0.7911875247955322, 0.7772027254104614, 0.7754761576652527, 0.7654265761375427, 0.7652199864387512, 0.7627163529396057, 0.753871500492096, 0.74930739402771, 0.7490284442901611, 0.7703143954277039, 0.763464629650116, 0.7547444105148315, 0.7520557641983032, 0.7498385906219482, 0.7482953667640686, 0.7470127940177917, 0.7465662360191345, 0.7453482151031494, 0.7374733090400696, 0.7341880798339844, 0.7265599370002747, 0.7206386923789978], \"xaxis\": \"x\", \"yaxis\": \"y\"}],\n",
              "                        {\"barmode\": \"relative\", \"legend\": {\"tracegroupgap\": 0}, \"template\": {\"data\": {\"bar\": [{\"error_x\": {\"color\": \"#2a3f5f\"}, \"error_y\": {\"color\": \"#2a3f5f\"}, \"marker\": {\"line\": {\"color\": \"#E5ECF6\", \"width\": 0.5}}, \"type\": \"bar\"}], \"barpolar\": [{\"marker\": {\"line\": {\"color\": \"#E5ECF6\", \"width\": 0.5}}, \"type\": \"barpolar\"}], \"carpet\": [{\"aaxis\": {\"endlinecolor\": \"#2a3f5f\", \"gridcolor\": \"white\", \"linecolor\": \"white\", \"minorgridcolor\": \"white\", \"startlinecolor\": \"#2a3f5f\"}, \"baxis\": {\"endlinecolor\": \"#2a3f5f\", \"gridcolor\": \"white\", \"linecolor\": \"white\", \"minorgridcolor\": \"white\", \"startlinecolor\": \"#2a3f5f\"}, \"type\": \"carpet\"}], \"choropleth\": [{\"colorbar\": {\"outlinewidth\": 0, \"ticks\": \"\"}, \"type\": \"choropleth\"}], \"contour\": [{\"colorbar\": {\"outlinewidth\": 0, \"ticks\": \"\"}, \"colorscale\": [[0.0, \"#0d0887\"], [0.1111111111111111, \"#46039f\"], [0.2222222222222222, \"#7201a8\"], [0.3333333333333333, \"#9c179e\"], [0.4444444444444444, \"#bd3786\"], [0.5555555555555556, \"#d8576b\"], [0.6666666666666666, \"#ed7953\"], [0.7777777777777778, \"#fb9f3a\"], [0.8888888888888888, \"#fdca26\"], [1.0, \"#f0f921\"]], \"type\": \"contour\"}], \"contourcarpet\": [{\"colorbar\": {\"outlinewidth\": 0, \"ticks\": \"\"}, \"type\": \"contourcarpet\"}], \"heatmap\": [{\"colorbar\": {\"outlinewidth\": 0, \"ticks\": \"\"}, \"colorscale\": [[0.0, \"#0d0887\"], [0.1111111111111111, \"#46039f\"], [0.2222222222222222, \"#7201a8\"], [0.3333333333333333, \"#9c179e\"], [0.4444444444444444, \"#bd3786\"], [0.5555555555555556, \"#d8576b\"], [0.6666666666666666, \"#ed7953\"], [0.7777777777777778, \"#fb9f3a\"], [0.8888888888888888, \"#fdca26\"], [1.0, \"#f0f921\"]], \"type\": \"heatmap\"}], \"heatmapgl\": [{\"colorbar\": {\"outlinewidth\": 0, \"ticks\": \"\"}, \"colorscale\": [[0.0, \"#0d0887\"], [0.1111111111111111, \"#46039f\"], [0.2222222222222222, \"#7201a8\"], [0.3333333333333333, \"#9c179e\"], [0.4444444444444444, \"#bd3786\"], [0.5555555555555556, \"#d8576b\"], [0.6666666666666666, \"#ed7953\"], [0.7777777777777778, \"#fb9f3a\"], [0.8888888888888888, \"#fdca26\"], [1.0, \"#f0f921\"]], \"type\": \"heatmapgl\"}], \"histogram\": [{\"marker\": {\"colorbar\": {\"outlinewidth\": 0, \"ticks\": \"\"}}, \"type\": \"histogram\"}], \"histogram2d\": [{\"colorbar\": {\"outlinewidth\": 0, \"ticks\": \"\"}, \"colorscale\": [[0.0, \"#0d0887\"], [0.1111111111111111, \"#46039f\"], [0.2222222222222222, \"#7201a8\"], [0.3333333333333333, \"#9c179e\"], [0.4444444444444444, \"#bd3786\"], [0.5555555555555556, \"#d8576b\"], [0.6666666666666666, \"#ed7953\"], [0.7777777777777778, \"#fb9f3a\"], [0.8888888888888888, \"#fdca26\"], [1.0, \"#f0f921\"]], \"type\": \"histogram2d\"}], \"histogram2dcontour\": [{\"colorbar\": {\"outlinewidth\": 0, \"ticks\": \"\"}, \"colorscale\": [[0.0, \"#0d0887\"], [0.1111111111111111, \"#46039f\"], [0.2222222222222222, \"#7201a8\"], [0.3333333333333333, \"#9c179e\"], [0.4444444444444444, \"#bd3786\"], [0.5555555555555556, \"#d8576b\"], [0.6666666666666666, \"#ed7953\"], [0.7777777777777778, \"#fb9f3a\"], [0.8888888888888888, \"#fdca26\"], [1.0, \"#f0f921\"]], \"type\": \"histogram2dcontour\"}], \"mesh3d\": [{\"colorbar\": {\"outlinewidth\": 0, \"ticks\": \"\"}, \"type\": \"mesh3d\"}], \"parcoords\": [{\"line\": {\"colorbar\": {\"outlinewidth\": 0, \"ticks\": \"\"}}, \"type\": \"parcoords\"}], \"pie\": [{\"automargin\": true, \"type\": \"pie\"}], \"scatter\": [{\"marker\": {\"colorbar\": {\"outlinewidth\": 0, \"ticks\": \"\"}}, \"type\": \"scatter\"}], \"scatter3d\": [{\"line\": {\"colorbar\": {\"outlinewidth\": 0, \"ticks\": \"\"}}, \"marker\": {\"colorbar\": {\"outlinewidth\": 0, \"ticks\": \"\"}}, \"type\": \"scatter3d\"}], \"scattercarpet\": [{\"marker\": {\"colorbar\": {\"outlinewidth\": 0, \"ticks\": \"\"}}, \"type\": \"scattercarpet\"}], \"scattergeo\": [{\"marker\": {\"colorbar\": {\"outlinewidth\": 0, \"ticks\": \"\"}}, \"type\": \"scattergeo\"}], \"scattergl\": [{\"marker\": {\"colorbar\": {\"outlinewidth\": 0, \"ticks\": \"\"}}, \"type\": \"scattergl\"}], \"scattermapbox\": [{\"marker\": {\"colorbar\": {\"outlinewidth\": 0, \"ticks\": \"\"}}, \"type\": \"scattermapbox\"}], \"scatterpolar\": [{\"marker\": {\"colorbar\": {\"outlinewidth\": 0, \"ticks\": \"\"}}, \"type\": \"scatterpolar\"}], \"scatterpolargl\": [{\"marker\": {\"colorbar\": {\"outlinewidth\": 0, \"ticks\": \"\"}}, \"type\": \"scatterpolargl\"}], \"scatterternary\": [{\"marker\": {\"colorbar\": {\"outlinewidth\": 0, \"ticks\": \"\"}}, \"type\": \"scatterternary\"}], \"surface\": [{\"colorbar\": {\"outlinewidth\": 0, \"ticks\": \"\"}, \"colorscale\": [[0.0, \"#0d0887\"], [0.1111111111111111, \"#46039f\"], [0.2222222222222222, \"#7201a8\"], [0.3333333333333333, \"#9c179e\"], [0.4444444444444444, \"#bd3786\"], [0.5555555555555556, \"#d8576b\"], [0.6666666666666666, \"#ed7953\"], [0.7777777777777778, \"#fb9f3a\"], [0.8888888888888888, \"#fdca26\"], [1.0, \"#f0f921\"]], \"type\": \"surface\"}], \"table\": [{\"cells\": {\"fill\": {\"color\": \"#EBF0F8\"}, \"line\": {\"color\": \"white\"}}, \"header\": {\"fill\": {\"color\": \"#C8D4E3\"}, \"line\": {\"color\": \"white\"}}, \"type\": \"table\"}]}, \"layout\": {\"annotationdefaults\": {\"arrowcolor\": \"#2a3f5f\", \"arrowhead\": 0, \"arrowwidth\": 1}, \"coloraxis\": {\"colorbar\": {\"outlinewidth\": 0, \"ticks\": \"\"}}, \"colorscale\": {\"diverging\": [[0, \"#8e0152\"], [0.1, \"#c51b7d\"], [0.2, \"#de77ae\"], [0.3, \"#f1b6da\"], [0.4, \"#fde0ef\"], [0.5, \"#f7f7f7\"], [0.6, \"#e6f5d0\"], [0.7, \"#b8e186\"], [0.8, \"#7fbc41\"], [0.9, \"#4d9221\"], [1, \"#276419\"]], \"sequential\": [[0.0, \"#0d0887\"], [0.1111111111111111, \"#46039f\"], [0.2222222222222222, \"#7201a8\"], [0.3333333333333333, \"#9c179e\"], [0.4444444444444444, \"#bd3786\"], [0.5555555555555556, \"#d8576b\"], [0.6666666666666666, \"#ed7953\"], [0.7777777777777778, \"#fb9f3a\"], [0.8888888888888888, \"#fdca26\"], [1.0, \"#f0f921\"]], \"sequentialminus\": [[0.0, \"#0d0887\"], [0.1111111111111111, \"#46039f\"], [0.2222222222222222, \"#7201a8\"], [0.3333333333333333, \"#9c179e\"], [0.4444444444444444, \"#bd3786\"], [0.5555555555555556, \"#d8576b\"], [0.6666666666666666, \"#ed7953\"], [0.7777777777777778, \"#fb9f3a\"], [0.8888888888888888, \"#fdca26\"], [1.0, \"#f0f921\"]]}, \"colorway\": [\"#636efa\", \"#EF553B\", \"#00cc96\", \"#ab63fa\", \"#FFA15A\", \"#19d3f3\", \"#FF6692\", \"#B6E880\", \"#FF97FF\", \"#FECB52\"], \"font\": {\"color\": \"#2a3f5f\"}, \"geo\": {\"bgcolor\": \"white\", \"lakecolor\": \"white\", \"landcolor\": \"#E5ECF6\", \"showlakes\": true, \"showland\": true, \"subunitcolor\": \"white\"}, \"hoverlabel\": {\"align\": \"left\"}, \"hovermode\": \"closest\", \"mapbox\": {\"style\": \"light\"}, \"paper_bgcolor\": \"white\", \"plot_bgcolor\": \"#E5ECF6\", \"polar\": {\"angularaxis\": {\"gridcolor\": \"white\", \"linecolor\": \"white\", \"ticks\": \"\"}, \"bgcolor\": \"#E5ECF6\", \"radialaxis\": {\"gridcolor\": \"white\", \"linecolor\": \"white\", \"ticks\": \"\"}}, \"scene\": {\"xaxis\": {\"backgroundcolor\": \"#E5ECF6\", \"gridcolor\": \"white\", \"gridwidth\": 2, \"linecolor\": \"white\", \"showbackground\": true, \"ticks\": \"\", \"zerolinecolor\": \"white\"}, \"yaxis\": {\"backgroundcolor\": \"#E5ECF6\", \"gridcolor\": \"white\", \"gridwidth\": 2, \"linecolor\": \"white\", \"showbackground\": true, \"ticks\": \"\", \"zerolinecolor\": \"white\"}, \"zaxis\": {\"backgroundcolor\": \"#E5ECF6\", \"gridcolor\": \"white\", \"gridwidth\": 2, \"linecolor\": \"white\", \"showbackground\": true, \"ticks\": \"\", \"zerolinecolor\": \"white\"}}, \"shapedefaults\": {\"line\": {\"color\": \"#2a3f5f\"}}, \"ternary\": {\"aaxis\": {\"gridcolor\": \"white\", \"linecolor\": \"white\", \"ticks\": \"\"}, \"baxis\": {\"gridcolor\": \"white\", \"linecolor\": \"white\", \"ticks\": \"\"}, \"bgcolor\": \"#E5ECF6\", \"caxis\": {\"gridcolor\": \"white\", \"linecolor\": \"white\", \"ticks\": \"\"}}, \"title\": {\"x\": 0.05}, \"xaxis\": {\"automargin\": true, \"gridcolor\": \"white\", \"linecolor\": \"white\", \"ticks\": \"\", \"title\": {\"standoff\": 15}, \"zerolinecolor\": \"white\", \"zerolinewidth\": 2}, \"yaxis\": {\"automargin\": true, \"gridcolor\": \"white\", \"linecolor\": \"white\", \"ticks\": \"\", \"title\": {\"standoff\": 15}, \"zerolinecolor\": \"white\", \"zerolinewidth\": 2}}}, \"title\": {\"text\": \"doc2vec sections\"}, \"xaxis\": {\"anchor\": \"y\", \"domain\": [0.0, 1.0], \"title\": {\"text\": \"score\"}}, \"yaxis\": {\"anchor\": \"x\", \"domain\": [0.0, 1.0], \"title\": {\"text\": \"count\"}}},\n",
              "                        {\"responsive\": true}\n",
              "                    ).then(function(){\n",
              "                            \n",
              "var gd = document.getElementById('5fc741f6-230e-4401-a93e-5cdbe07fc85c');\n",
              "var x = new MutationObserver(function (mutations, observer) {{\n",
              "        var display = window.getComputedStyle(gd).display;\n",
              "        if (!display || display === 'none') {{\n",
              "            console.log([gd, 'removed!']);\n",
              "            Plotly.purge(gd);\n",
              "            observer.disconnect();\n",
              "        }}\n",
              "}});\n",
              "\n",
              "// Listen for the removal of the full notebook cells\n",
              "var notebookContainer = gd.closest('#notebook-container');\n",
              "if (notebookContainer) {{\n",
              "    x.observe(notebookContainer, {childList: true});\n",
              "}}\n",
              "\n",
              "// Listen for the clearing of the current output cell\n",
              "var outputEl = gd.closest('.output');\n",
              "if (outputEl) {{\n",
              "    x.observe(outputEl, {childList: true});\n",
              "}}\n",
              "\n",
              "                        })\n",
              "                };\n",
              "                \n",
              "            </script>\n",
              "        </div>\n",
              "</body>\n",
              "</html>"
            ]
          },
          "metadata": {}
        }
      ]
    },
    {
      "cell_type": "code",
      "metadata": {
        "id": "OKeaqYxGPMZj"
      },
      "source": [
        "if use_wandb:\n",
        "  wandb.log({\"scores_hist\": fig})"
      ],
      "execution_count": 94,
      "outputs": []
    },
    {
      "cell_type": "code",
      "metadata": {
        "colab": {
          "base_uri": "https://localhost:8080/",
          "height": 1000
        },
        "id": "DgV3ccDr5Ux4",
        "outputId": "7ab7b304-e244-4d4c-d61a-88bed9cd5662"
      },
      "source": [
        "result, details = recommend_tune(df_sim, 'Perdido [jazz1350]')\n",
        "result.head(50)"
      ],
      "execution_count": 95,
      "outputs": [
        {
          "output_type": "execute_result",
          "data": {
            "text/html": [
              "<div>\n",
              "<style scoped>\n",
              "    .dataframe tbody tr th:only-of-type {\n",
              "        vertical-align: middle;\n",
              "    }\n",
              "\n",
              "    .dataframe tbody tr th {\n",
              "        vertical-align: top;\n",
              "    }\n",
              "\n",
              "    .dataframe thead th {\n",
              "        text-align: right;\n",
              "    }\n",
              "</style>\n",
              "<table border=\"1\" class=\"dataframe\">\n",
              "  <thead>\n",
              "    <tr style=\"text-align: right;\">\n",
              "      <th></th>\n",
              "      <th>index</th>\n",
              "      <th>reference</th>\n",
              "      <th>reference_titleid</th>\n",
              "      <th>similar_title</th>\n",
              "      <th>score</th>\n",
              "      <th>max</th>\n",
              "      <th>score_div_max</th>\n",
              "      <th>similar_titleid</th>\n",
              "    </tr>\n",
              "  </thead>\n",
              "  <tbody>\n",
              "    <tr>\n",
              "      <th>0</th>\n",
              "      <td>0</td>\n",
              "      <td>Perdido [jazz1350]</td>\n",
              "      <td>949</td>\n",
              "      <td>Cool One, The [jazz1350]</td>\n",
              "      <td>0.955188</td>\n",
              "      <td>0.955188</td>\n",
              "      <td>1.000000</td>\n",
              "      <td>254</td>\n",
              "    </tr>\n",
              "    <tr>\n",
              "      <th>1</th>\n",
              "      <td>1</td>\n",
              "      <td>Perdido [jazz1350]</td>\n",
              "      <td>949</td>\n",
              "      <td>My Little Suede Shoes [jazz1350]</td>\n",
              "      <td>0.929936</td>\n",
              "      <td>0.951065</td>\n",
              "      <td>1.000000</td>\n",
              "      <td>846</td>\n",
              "    </tr>\n",
              "    <tr>\n",
              "      <th>2</th>\n",
              "      <td>2</td>\n",
              "      <td>Perdido [jazz1350]</td>\n",
              "      <td>949</td>\n",
              "      <td>No Moe [jazz1350]</td>\n",
              "      <td>0.975543</td>\n",
              "      <td>0.975543</td>\n",
              "      <td>1.000000</td>\n",
              "      <td>878</td>\n",
              "    </tr>\n",
              "    <tr>\n",
              "      <th>3</th>\n",
              "      <td>3</td>\n",
              "      <td>Perdido [jazz1350]</td>\n",
              "      <td>949</td>\n",
              "      <td>Just Squeeze Me [jazz1350]</td>\n",
              "      <td>0.951065</td>\n",
              "      <td>0.955188</td>\n",
              "      <td>1.000000</td>\n",
              "      <td>669</td>\n",
              "    </tr>\n",
              "    <tr>\n",
              "      <th>4</th>\n",
              "      <td>4</td>\n",
              "      <td>Perdido [jazz1350]</td>\n",
              "      <td>949</td>\n",
              "      <td>Anthropology [jazz1350]</td>\n",
              "      <td>0.967366</td>\n",
              "      <td>0.975543</td>\n",
              "      <td>0.991617</td>\n",
              "      <td>80</td>\n",
              "    </tr>\n",
              "    <tr>\n",
              "      <th>5</th>\n",
              "      <td>5</td>\n",
              "      <td>Perdido [jazz1350]</td>\n",
              "      <td>949</td>\n",
              "      <td>Jeannie's Song [jazz1350]</td>\n",
              "      <td>0.920608</td>\n",
              "      <td>0.928448</td>\n",
              "      <td>0.991556</td>\n",
              "      <td>649</td>\n",
              "    </tr>\n",
              "    <tr>\n",
              "      <th>6</th>\n",
              "      <td>6</td>\n",
              "      <td>Perdido [jazz1350]</td>\n",
              "      <td>949</td>\n",
              "      <td>Oleo [jazz1350]</td>\n",
              "      <td>0.963301</td>\n",
              "      <td>0.975543</td>\n",
              "      <td>0.987451</td>\n",
              "      <td>899</td>\n",
              "    </tr>\n",
              "    <tr>\n",
              "      <th>7</th>\n",
              "      <td>7</td>\n",
              "      <td>Perdido [jazz1350]</td>\n",
              "      <td>949</td>\n",
              "      <td>Dexterity [jazz1350]</td>\n",
              "      <td>0.962184</td>\n",
              "      <td>0.975543</td>\n",
              "      <td>0.986306</td>\n",
              "      <td>304</td>\n",
              "    </tr>\n",
              "    <tr>\n",
              "      <th>8</th>\n",
              "      <td>8</td>\n",
              "      <td>Perdido [jazz1350]</td>\n",
              "      <td>949</td>\n",
              "      <td>Sunday [trad]</td>\n",
              "      <td>0.958657</td>\n",
              "      <td>0.975543</td>\n",
              "      <td>0.982690</td>\n",
              "      <td>1724</td>\n",
              "    </tr>\n",
              "    <tr>\n",
              "      <th>9</th>\n",
              "      <td>9</td>\n",
              "      <td>Perdido [jazz1350]</td>\n",
              "      <td>949</td>\n",
              "      <td>Thriving From A Riff [jazz1350]</td>\n",
              "      <td>0.958598</td>\n",
              "      <td>0.975543</td>\n",
              "      <td>0.982629</td>\n",
              "      <td>1188</td>\n",
              "    </tr>\n",
              "    <tr>\n",
              "      <th>10</th>\n",
              "      <td>10</td>\n",
              "      <td>Perdido [jazz1350]</td>\n",
              "      <td>949</td>\n",
              "      <td>Passport [jazz1350]</td>\n",
              "      <td>0.955232</td>\n",
              "      <td>0.975543</td>\n",
              "      <td>0.979179</td>\n",
              "      <td>938</td>\n",
              "    </tr>\n",
              "    <tr>\n",
              "      <th>11</th>\n",
              "      <td>11</td>\n",
              "      <td>Perdido [jazz1350]</td>\n",
              "      <td>949</td>\n",
              "      <td>On A Clear Day [jazz1350]</td>\n",
              "      <td>0.913580</td>\n",
              "      <td>0.955188</td>\n",
              "      <td>0.977917</td>\n",
              "      <td>901</td>\n",
              "    </tr>\n",
              "    <tr>\n",
              "      <th>12</th>\n",
              "      <td>12</td>\n",
              "      <td>Perdido [jazz1350]</td>\n",
              "      <td>949</td>\n",
              "      <td>I Got Rhythm [jazz1350]</td>\n",
              "      <td>0.953478</td>\n",
              "      <td>0.975543</td>\n",
              "      <td>0.977381</td>\n",
              "      <td>505</td>\n",
              "    </tr>\n",
              "    <tr>\n",
              "      <th>13</th>\n",
              "      <td>13</td>\n",
              "      <td>Perdido [jazz1350]</td>\n",
              "      <td>949</td>\n",
              "      <td>Under A Blanket Of Blue [jazz1350]</td>\n",
              "      <td>0.908970</td>\n",
              "      <td>0.955188</td>\n",
              "      <td>0.975479</td>\n",
              "      <td>1227</td>\n",
              "    </tr>\n",
              "    <tr>\n",
              "      <th>14</th>\n",
              "      <td>14</td>\n",
              "      <td>Perdido [jazz1350]</td>\n",
              "      <td>949</td>\n",
              "      <td>Always [jazz1350]</td>\n",
              "      <td>0.925870</td>\n",
              "      <td>0.955188</td>\n",
              "      <td>0.973509</td>\n",
              "      <td>73</td>\n",
              "    </tr>\n",
              "    <tr>\n",
              "      <th>15</th>\n",
              "      <td>15</td>\n",
              "      <td>Perdido [jazz1350]</td>\n",
              "      <td>949</td>\n",
              "      <td>I Got Rhythm [trad]</td>\n",
              "      <td>0.949171</td>\n",
              "      <td>0.975543</td>\n",
              "      <td>0.972967</td>\n",
              "      <td>1524</td>\n",
              "    </tr>\n",
              "    <tr>\n",
              "      <th>16</th>\n",
              "      <td>16</td>\n",
              "      <td>Perdido [jazz1350]</td>\n",
              "      <td>949</td>\n",
              "      <td>Shaw 'Nuff [jazz1350]</td>\n",
              "      <td>0.947969</td>\n",
              "      <td>0.975543</td>\n",
              "      <td>0.971735</td>\n",
              "      <td>1033</td>\n",
              "    </tr>\n",
              "    <tr>\n",
              "      <th>17</th>\n",
              "      <td>17</td>\n",
              "      <td>Perdido [jazz1350]</td>\n",
              "      <td>949</td>\n",
              "      <td>Lady is a Tramp, The [jazz1350]</td>\n",
              "      <td>0.927037</td>\n",
              "      <td>0.955188</td>\n",
              "      <td>0.970528</td>\n",
              "      <td>683</td>\n",
              "    </tr>\n",
              "    <tr>\n",
              "      <th>18</th>\n",
              "      <td>18</td>\n",
              "      <td>Perdido [jazz1350]</td>\n",
              "      <td>949</td>\n",
              "      <td>Confessin' (That I Love You) [jazz1350]</td>\n",
              "      <td>0.900787</td>\n",
              "      <td>0.928448</td>\n",
              "      <td>0.970207</td>\n",
              "      <td>250</td>\n",
              "    </tr>\n",
              "    <tr>\n",
              "      <th>19</th>\n",
              "      <td>19</td>\n",
              "      <td>Perdido [jazz1350]</td>\n",
              "      <td>949</td>\n",
              "      <td>Valse Hot [jazz1350]</td>\n",
              "      <td>0.908988</td>\n",
              "      <td>0.955188</td>\n",
              "      <td>0.968103</td>\n",
              "      <td>1236</td>\n",
              "    </tr>\n",
              "    <tr>\n",
              "      <th>20</th>\n",
              "      <td>20</td>\n",
              "      <td>Perdido [jazz1350]</td>\n",
              "      <td>949</td>\n",
              "      <td>Theme, The [jazz1350]</td>\n",
              "      <td>0.943460</td>\n",
              "      <td>0.975543</td>\n",
              "      <td>0.967112</td>\n",
              "      <td>1161</td>\n",
              "    </tr>\n",
              "    <tr>\n",
              "      <th>21</th>\n",
              "      <td>21</td>\n",
              "      <td>Perdido [jazz1350]</td>\n",
              "      <td>949</td>\n",
              "      <td>Robbin's Nest [jazz1350]</td>\n",
              "      <td>0.943412</td>\n",
              "      <td>0.975543</td>\n",
              "      <td>0.967063</td>\n",
              "      <td>992</td>\n",
              "    </tr>\n",
              "    <tr>\n",
              "      <th>22</th>\n",
              "      <td>22</td>\n",
              "      <td>Perdido [jazz1350]</td>\n",
              "      <td>949</td>\n",
              "      <td>Little Peace In C For You [jazz1350]</td>\n",
              "      <td>0.942885</td>\n",
              "      <td>0.975543</td>\n",
              "      <td>0.966523</td>\n",
              "      <td>729</td>\n",
              "    </tr>\n",
              "    <tr>\n",
              "      <th>23</th>\n",
              "      <td>23</td>\n",
              "      <td>Perdido [jazz1350]</td>\n",
              "      <td>949</td>\n",
              "      <td>I Love Being Here With You [jazz1350]</td>\n",
              "      <td>0.940449</td>\n",
              "      <td>0.975543</td>\n",
              "      <td>0.964026</td>\n",
              "      <td>517</td>\n",
              "    </tr>\n",
              "    <tr>\n",
              "      <th>24</th>\n",
              "      <td>24</td>\n",
              "      <td>Perdido [jazz1350]</td>\n",
              "      <td>949</td>\n",
              "      <td>Salt Peanuts [jazz1350]</td>\n",
              "      <td>0.940337</td>\n",
              "      <td>0.975543</td>\n",
              "      <td>0.963911</td>\n",
              "      <td>1005</td>\n",
              "    </tr>\n",
              "    <tr>\n",
              "      <th>25</th>\n",
              "      <td>25</td>\n",
              "      <td>Perdido [jazz1350]</td>\n",
              "      <td>949</td>\n",
              "      <td>How Are Things In Glocca Morra [jazz1350]</td>\n",
              "      <td>0.913436</td>\n",
              "      <td>0.951065</td>\n",
              "      <td>0.960601</td>\n",
              "      <td>477</td>\n",
              "    </tr>\n",
              "    <tr>\n",
              "      <th>26</th>\n",
              "      <td>26</td>\n",
              "      <td>Perdido [jazz1350]</td>\n",
              "      <td>949</td>\n",
              "      <td>Mambo Inn [jazz1350]</td>\n",
              "      <td>0.907979</td>\n",
              "      <td>0.951065</td>\n",
              "      <td>0.954697</td>\n",
              "      <td>770</td>\n",
              "    </tr>\n",
              "    <tr>\n",
              "      <th>27</th>\n",
              "      <td>27</td>\n",
              "      <td>Perdido [jazz1350]</td>\n",
              "      <td>949</td>\n",
              "      <td>Moose The Mooche [jazz1350]</td>\n",
              "      <td>0.930667</td>\n",
              "      <td>0.975543</td>\n",
              "      <td>0.953998</td>\n",
              "      <td>827</td>\n",
              "    </tr>\n",
              "    <tr>\n",
              "      <th>28</th>\n",
              "      <td>28</td>\n",
              "      <td>Perdido [jazz1350]</td>\n",
              "      <td>949</td>\n",
              "      <td>Sometimes I'm Happy [jazz1350]</td>\n",
              "      <td>0.906922</td>\n",
              "      <td>0.955188</td>\n",
              "      <td>0.949469</td>\n",
              "      <td>1073</td>\n",
              "    </tr>\n",
              "    <tr>\n",
              "      <th>29</th>\n",
              "      <td>29</td>\n",
              "      <td>Perdido [jazz1350]</td>\n",
              "      <td>949</td>\n",
              "      <td>As Time Goes By [jazz1350]</td>\n",
              "      <td>0.877191</td>\n",
              "      <td>0.928448</td>\n",
              "      <td>0.944792</td>\n",
              "      <td>90</td>\n",
              "    </tr>\n",
              "    <tr>\n",
              "      <th>30</th>\n",
              "      <td>30</td>\n",
              "      <td>Perdido [jazz1350]</td>\n",
              "      <td>949</td>\n",
              "      <td>Happy Days And Lonely Nights [trad]</td>\n",
              "      <td>0.894437</td>\n",
              "      <td>0.951065</td>\n",
              "      <td>0.944104</td>\n",
              "      <td>1505</td>\n",
              "    </tr>\n",
              "    <tr>\n",
              "      <th>31</th>\n",
              "      <td>31</td>\n",
              "      <td>Perdido [jazz1350]</td>\n",
              "      <td>949</td>\n",
              "      <td>Cottontail [jazz1350]</td>\n",
              "      <td>0.920605</td>\n",
              "      <td>0.975543</td>\n",
              "      <td>0.943684</td>\n",
              "      <td>260</td>\n",
              "    </tr>\n",
              "    <tr>\n",
              "      <th>32</th>\n",
              "      <td>32</td>\n",
              "      <td>Perdido [jazz1350]</td>\n",
              "      <td>949</td>\n",
              "      <td>A Tisket A Tasket [jazz1350]</td>\n",
              "      <td>0.875174</td>\n",
              "      <td>0.928448</td>\n",
              "      <td>0.942620</td>\n",
              "      <td>27</td>\n",
              "    </tr>\n",
              "    <tr>\n",
              "      <th>33</th>\n",
              "      <td>33</td>\n",
              "      <td>Perdido [jazz1350]</td>\n",
              "      <td>949</td>\n",
              "      <td>Our Love is Here to Stay [jazz1350]</td>\n",
              "      <td>0.890864</td>\n",
              "      <td>0.951065</td>\n",
              "      <td>0.936702</td>\n",
              "      <td>925</td>\n",
              "    </tr>\n",
              "    <tr>\n",
              "      <th>34</th>\n",
              "      <td>34</td>\n",
              "      <td>Perdido [jazz1350]</td>\n",
              "      <td>949</td>\n",
              "      <td>Flintstones [jazz1350]</td>\n",
              "      <td>0.913287</td>\n",
              "      <td>0.975543</td>\n",
              "      <td>0.936183</td>\n",
              "      <td>387</td>\n",
              "    </tr>\n",
              "    <tr>\n",
              "      <th>35</th>\n",
              "      <td>35</td>\n",
              "      <td>Perdido [jazz1350]</td>\n",
              "      <td>949</td>\n",
              "      <td>Two Not One [jazz1350]</td>\n",
              "      <td>0.911751</td>\n",
              "      <td>0.975543</td>\n",
              "      <td>0.934608</td>\n",
              "      <td>1223</td>\n",
              "    </tr>\n",
              "    <tr>\n",
              "      <th>36</th>\n",
              "      <td>36</td>\n",
              "      <td>Perdido [jazz1350]</td>\n",
              "      <td>949</td>\n",
              "      <td>All My Tomorrows [jazz1350]</td>\n",
              "      <td>0.892507</td>\n",
              "      <td>0.955188</td>\n",
              "      <td>0.934378</td>\n",
              "      <td>58</td>\n",
              "    </tr>\n",
              "    <tr>\n",
              "      <th>37</th>\n",
              "      <td>37</td>\n",
              "      <td>Perdido [jazz1350]</td>\n",
              "      <td>949</td>\n",
              "      <td>Rhythm-a-ning [jazz1350]</td>\n",
              "      <td>0.909757</td>\n",
              "      <td>0.975543</td>\n",
              "      <td>0.932564</td>\n",
              "      <td>990</td>\n",
              "    </tr>\n",
              "    <tr>\n",
              "      <th>38</th>\n",
              "      <td>38</td>\n",
              "      <td>Perdido [jazz1350]</td>\n",
              "      <td>949</td>\n",
              "      <td>Avalon [jazz1350]</td>\n",
              "      <td>0.879303</td>\n",
              "      <td>0.955188</td>\n",
              "      <td>0.920554</td>\n",
              "      <td>98</td>\n",
              "    </tr>\n",
              "    <tr>\n",
              "      <th>39</th>\n",
              "      <td>39</td>\n",
              "      <td>Perdido [jazz1350]</td>\n",
              "      <td>949</td>\n",
              "      <td>I Get A Kick Out Of You [jazz1350]</td>\n",
              "      <td>0.865352</td>\n",
              "      <td>0.955188</td>\n",
              "      <td>0.905949</td>\n",
              "      <td>502</td>\n",
              "    </tr>\n",
              "    <tr>\n",
              "      <th>40</th>\n",
              "      <td>40</td>\n",
              "      <td>Perdido [jazz1350]</td>\n",
              "      <td>949</td>\n",
              "      <td>Everything Happens To Me [jazz1350]</td>\n",
              "      <td>0.864556</td>\n",
              "      <td>0.955188</td>\n",
              "      <td>0.905115</td>\n",
              "      <td>363</td>\n",
              "    </tr>\n",
              "  </tbody>\n",
              "</table>\n",
              "</div>"
            ],
            "text/plain": [
              "    index           reference  ...  score_div_max similar_titleid\n",
              "0       0  Perdido [jazz1350]  ...       1.000000             254\n",
              "1       1  Perdido [jazz1350]  ...       1.000000             846\n",
              "2       2  Perdido [jazz1350]  ...       1.000000             878\n",
              "3       3  Perdido [jazz1350]  ...       1.000000             669\n",
              "4       4  Perdido [jazz1350]  ...       0.991617              80\n",
              "5       5  Perdido [jazz1350]  ...       0.991556             649\n",
              "6       6  Perdido [jazz1350]  ...       0.987451             899\n",
              "7       7  Perdido [jazz1350]  ...       0.986306             304\n",
              "8       8  Perdido [jazz1350]  ...       0.982690            1724\n",
              "9       9  Perdido [jazz1350]  ...       0.982629            1188\n",
              "10     10  Perdido [jazz1350]  ...       0.979179             938\n",
              "11     11  Perdido [jazz1350]  ...       0.977917             901\n",
              "12     12  Perdido [jazz1350]  ...       0.977381             505\n",
              "13     13  Perdido [jazz1350]  ...       0.975479            1227\n",
              "14     14  Perdido [jazz1350]  ...       0.973509              73\n",
              "15     15  Perdido [jazz1350]  ...       0.972967            1524\n",
              "16     16  Perdido [jazz1350]  ...       0.971735            1033\n",
              "17     17  Perdido [jazz1350]  ...       0.970528             683\n",
              "18     18  Perdido [jazz1350]  ...       0.970207             250\n",
              "19     19  Perdido [jazz1350]  ...       0.968103            1236\n",
              "20     20  Perdido [jazz1350]  ...       0.967112            1161\n",
              "21     21  Perdido [jazz1350]  ...       0.967063             992\n",
              "22     22  Perdido [jazz1350]  ...       0.966523             729\n",
              "23     23  Perdido [jazz1350]  ...       0.964026             517\n",
              "24     24  Perdido [jazz1350]  ...       0.963911            1005\n",
              "25     25  Perdido [jazz1350]  ...       0.960601             477\n",
              "26     26  Perdido [jazz1350]  ...       0.954697             770\n",
              "27     27  Perdido [jazz1350]  ...       0.953998             827\n",
              "28     28  Perdido [jazz1350]  ...       0.949469            1073\n",
              "29     29  Perdido [jazz1350]  ...       0.944792              90\n",
              "30     30  Perdido [jazz1350]  ...       0.944104            1505\n",
              "31     31  Perdido [jazz1350]  ...       0.943684             260\n",
              "32     32  Perdido [jazz1350]  ...       0.942620              27\n",
              "33     33  Perdido [jazz1350]  ...       0.936702             925\n",
              "34     34  Perdido [jazz1350]  ...       0.936183             387\n",
              "35     35  Perdido [jazz1350]  ...       0.934608            1223\n",
              "36     36  Perdido [jazz1350]  ...       0.934378              58\n",
              "37     37  Perdido [jazz1350]  ...       0.932564             990\n",
              "38     38  Perdido [jazz1350]  ...       0.920554              98\n",
              "39     39  Perdido [jazz1350]  ...       0.905949             502\n",
              "40     40  Perdido [jazz1350]  ...       0.905115             363\n",
              "\n",
              "[41 rows x 8 columns]"
            ]
          },
          "metadata": {},
          "execution_count": 95
        }
      ]
    },
    {
      "cell_type": "code",
      "metadata": {
        "id": "hLFaFo62XlMS",
        "colab": {
          "base_uri": "https://localhost:8080/"
        },
        "outputId": "e7d463c0-5525-4f13-d842-c005738846f2"
      },
      "source": [
        "dd = pd.DataFrame(columns = recommender_results_cols)\n",
        "\n",
        "for tune in tunes_eval_list:\n",
        "  result, details = recommend_tune(df_sim, tune)\n",
        "  dd['id'] = result['index']\n",
        "  dd['reference'] = tune\n",
        "  dd['method'] = 'doc2vec'\n",
        "  dd['similar'] = result['similar_title']\n",
        "  dd['score_div_max'] = result['score_div_max']\n",
        "  dd['score'] = result['score']\n",
        "\n",
        "recommender_results = recommender_results.append(dd)\n",
        "len(recommender_results)"
      ],
      "execution_count": 96,
      "outputs": [
        {
          "output_type": "execute_result",
          "data": {
            "text/plain": [
              "152"
            ]
          },
          "metadata": {},
          "execution_count": 96
        }
      ]
    },
    {
      "cell_type": "markdown",
      "metadata": {
        "id": "aosPKEWljlm0"
      },
      "source": [
        "### Contrafacts"
      ]
    },
    {
      "cell_type": "code",
      "metadata": {
        "id": "SaYSqTJokGc5"
      },
      "source": [
        "def test_doc2vec_contrafacts(tunes, N=15):\n",
        "  matches = 0\n",
        "  number_of_sections = 0\n",
        "  results = {}\n",
        "\n",
        "  for tune, similar_tune in contrafacts:\n",
        "    \n",
        "    # loop over all sections of the tune\n",
        "    sub_match = 0\n",
        "    for s1 in title_to_sectionid[tune]:\n",
        "      sims = model.dv.similar_by_key(s1, topn=N)\n",
        "      # check if the section matches the expected title; consider only the first 15 recommendations\n",
        "      i = 0\n",
        "      for match, value in sims:\n",
        "        # tune match\n",
        "        if (type(match) == str):\n",
        "          titleid = int(match.replace('titleid_', ''))\n",
        "          if titleid_to_title[titleid] == similar_tune:\n",
        "            sub_match += 1\n",
        "\n",
        "        # section match\n",
        "        else:\n",
        "          if sectionid_to_title[match] == similar_tune:\n",
        "            sub_match += 1\n",
        "\n",
        "    # for each title, increase matches if at least one of the section matched the expected title\n",
        "    if sub_match > 0:\n",
        "      matches += 1  \n",
        "      results[f'{tune}, {similar_tune}'] = 1\n",
        "    else:\n",
        "      results[f'{tune}, {similar_tune}'] = 0\n",
        "  \n",
        "  return matches, results"
      ],
      "execution_count": 97,
      "outputs": []
    },
    {
      "cell_type": "code",
      "metadata": {
        "colab": {
          "base_uri": "https://localhost:8080/"
        },
        "id": "eAjM3lU4ltzP",
        "outputId": "1402be16-341b-4a2e-86ce-9c0ebc2e9464"
      },
      "source": [
        "topN = 20\n",
        "matches, results = test_doc2vec_contrafacts(contrafacts, topN)\n",
        " \n",
        "print(f\"Found matches: {matches} out of {len(results)}: {100*matches/len(results):.3f}%\")\n",
        "print() \n",
        "for rr, val in results.items():\n",
        "  if val == 0:\n",
        "    print(f\"{val}: {rr}\")\n"
      ],
      "execution_count": 98,
      "outputs": [
        {
          "output_type": "stream",
          "name": "stdout",
          "text": [
            "Found matches: 73 out of 109: 66.972%\n",
            "\n",
            "0: 26-2 [jazz1350], Confirmation [jazz1350]\n",
            "0: 52nd Street Theme [jazz1350], I Got Rhythm [jazz1350]\n",
            "0: Ballade [jazz1350], As Long As I Live [jazz1350]\n",
            "0: C.T.A. [jazz1350], I Got Rhythm [jazz1350]\n",
            "0: Countdown [jazz1350], Tune Up [jazz1350]\n",
            "0: Dewey Square [jazz1350], Oh, Lady Be Good [jazz1350]\n",
            "0: Don't Be That Way [jazz1350], I Got Rhythm [jazz1350]\n",
            "0: Four On Six [jazz1350], Summertime [jazz1350]\n",
            "0: Freight Train [jazz1350], Blues For Alice [jazz1350]\n",
            "0: Good Bait [jazz1350], I Got Rhythm [jazz1350]\n",
            "0: In Walked Bud [jazz1350], Blue Skies [jazz1350]\n",
            "0: Lennie's Pennies [jazz1350], Pennies From Heaven [jazz1350]\n",
            "0: Little Rootie Tootie [jazz1350], I Got Rhythm [jazz1350]\n",
            "0: Little Willie Leaps [jazz1350], All God's Chillun Got Rhythm [jazz1350]\n",
            "0: My Little Suede Shoes [jazz1350], Jeepers Creepers [jazz1350]\n",
            "0: Quasimodo (Theme) [jazz1350], Embraceable You [jazz1350]\n",
            "0: Room 608 [jazz1350], I Got Rhythm [jazz1350]\n",
            "0: Scrapple From The Apple [jazz1350], Honeysuckle Rose [jazz1350]\n",
            "0: Tour De Force [jazz1350], Jeepers Creepers [jazz1350]\n",
            "0: Sweet Sue, Just You [jazz1350], Honeysuckle Rose [jazz1350]\n",
            "0: Sweet Sue, Just You [jazz1350], Bye Bye Blackbird [jazz1350]\n",
            "0: These Foolish Things [jazz1350], Blue Moon [jazz1350]\n",
            "0: These Foolish Things [jazz1350], Isn't It A Pity [jazz1350]\n",
            "0: These Foolish Things [jazz1350], Soultrain [jazz1350]\n",
            "0: Exactly Like You [jazz1350], Jersey Bounce [trad]\n",
            "0: Take The A Train [jazz1350], Girl From Ipanema, The [jazz1350]\n",
            "0: Let's Fall In Love [jazz1350], Heart And Soul [jazz1350]\n",
            "0: Wait Till You See Her [jazz1350], A Certain Smile [jazz1350]\n",
            "0: Bei Mir Bist Du Schon (Root Hog Or Die) [trad], Puttin' On The Ritz [jazz1350]\n",
            "0: Glory Of Love, The [jazz1350], I've Got My Fingers Crossed [trad]\n",
            "0: Don't Be That Way [jazz1350], Long Ago And Far Away [jazz1350]\n",
            "0: On The Sunny Side Of The Street [jazz1350], You Stepped Out Of A Dream [jazz1350]\n",
            "0: My Secret Love [jazz1350], Samba De Orfeu [jazz1350]\n",
            "0: As Long As I Live [jazz1350], I'm Glad There Is You [jazz1350]\n",
            "0: I May Be Wrong [jazz1350], Teach Me Tonight [jazz1350]\n",
            "0: On The Sunny Side Of The Street [jazz1350], There's No You [jazz1350]\n",
            "0: Tangerine [jazz1350], Tea For Two [jazz1350]\n",
            "0: This Year's Kisses [jazz1350], My Monday Date [trad]\n"
          ]
        }
      ]
    },
    {
      "cell_type": "code",
      "metadata": {
        "id": "8C0kzj0Jp425"
      },
      "source": [
        "model_name = 'doc2vec'\n",
        "if use_wandb:\n",
        "  wandb.log(\n",
        "      {model_name: {\n",
        "                'contrafacts': {\n",
        "                    'topN': topN,\n",
        "                    'success': matches/len(contrafacts),\n",
        "                    #'results': results\n",
        "                    }\n",
        "                   },\n",
        "       'all_models': {\n",
        "           model_name: wandb.Table(\n",
        "               columns=[\"Title\", \"Match\"],\n",
        "               data=[[key, value] for key, value in results.items()]),\n",
        "       }\n",
        "       })"
      ],
      "execution_count": 99,
      "outputs": []
    },
    {
      "cell_type": "markdown",
      "metadata": {
        "id": "_UzVV5yn4Q-K"
      },
      "source": [
        "### Save Results for WebApp"
      ]
    },
    {
      "cell_type": "code",
      "metadata": {
        "colab": {
          "base_uri": "https://localhost:8080/"
        },
        "id": "vqxX8YaWsyh7",
        "outputId": "7e0b6778-7c0a-4afc-f529-de35ced6b4e3"
      },
      "source": [
        "%%time\n",
        "if generate_webapp_data:\n",
        "  _tunes = list(tunes['title_playlist'].values())\n",
        "\n",
        "  df_sim = get_section_scores_doc2vec(_tunes)\n",
        "\n",
        "  result = None\n",
        "  for tune in _tunes:\n",
        "    tune_result, details = recommend_tune(df_sim, tune)\n",
        "    if result is None:\n",
        "      result = pd.DataFrame(columns=tune_result.columns)\n",
        "    result = result.append(tune_result)\n",
        "\n",
        "  print(f\"Result has {len(result)} rows.\")\n",
        "\n",
        "  # save to file\n",
        "  result.to_csv('output/recommender_doc2vec.csv', sep='\\t', encoding='utf8')\n",
        "\n",
        "  # save to W&B\n",
        "  if use_wandb:\n",
        "    model_artifact = wandb.Artifact(\n",
        "        \"recommender_doc2vec\", \n",
        "        type=\"csv\",\n",
        "        description=\"Recommendations for each Tune using doc2vec Model (csv file)\",\n",
        "        metadata=\"\")\n",
        "\n",
        "    model_artifact.add_file('output/recommender_doc2vec.csv')\n",
        "    wandb.log_artifact(model_artifact)"
      ],
      "execution_count": 100,
      "outputs": [
        {
          "output_type": "stream",
          "name": "stdout",
          "text": [
            "CPU times: user 3 µs, sys: 1 µs, total: 4 µs\n",
            "Wall time: 7.63 µs\n"
          ]
        }
      ]
    },
    {
      "cell_type": "markdown",
      "metadata": {
        "id": "XmDZT5t7gjgV"
      },
      "source": [
        "# Venn diagrams for Results"
      ]
    },
    {
      "cell_type": "code",
      "metadata": {
        "id": "U6WrsBcc00ar"
      },
      "source": [
        "import matplotlib.pyplot as plt\n",
        "from matplotlib_venn import venn3\n",
        "\n",
        "if False:\n",
        "  for tune in tunes_eval_list:\n",
        "    df, details = recommend_tune(df_tfidf, tune)\n",
        "    tfidf_tunes = list(df.head(30).loc[:,'similar_title'])\n",
        "\n",
        "    df, details = recommend_tune(df_lsi, tune)\n",
        "    lsi_tunes = list(df.head(30).loc[:,'similar_title'])\n",
        "\n",
        "    df, details = recommend_tune(df_doc2vec, tune)\n",
        "    word2vec_tunes = list(df.head(30).loc[:,'similar_title'])\n",
        "\n",
        "    set_tfidf = set(tfidf_tunes)\n",
        "    set_lsi = set(lsi_tunes)\n",
        "    set_word2vec = set(word2vec_tunes)\n",
        "\n",
        "    venn3([set_tfidf, set_lsi, set_word2vec], \n",
        "          set_labels=('TF-IDF', 'LSI', 'Doc2Vec'),\n",
        "          )\n",
        "    plt.title(f\"{tune}\")\n",
        "    plt.savefig('plot.png')\n",
        "    \n",
        "    if use_wandb:\n",
        "      wandb.log({\"venn_methods\": wandb.Image('plot.png')})\n",
        "    \n",
        "    plt.show()"
      ],
      "execution_count": 101,
      "outputs": []
    },
    {
      "cell_type": "markdown",
      "metadata": {
        "id": "RhOWHSEU0DQH"
      },
      "source": [
        "# W&B Logging and Finish"
      ]
    },
    {
      "cell_type": "code",
      "metadata": {
        "id": "YMUDRHkm0aMV",
        "colab": {
          "base_uri": "https://localhost:8080/",
          "height": 125,
          "referenced_widgets": [
            "3a280266f5ad453a90de5bdcb052ec97",
            "745dc7f1a7ae43f5b6f84bad6c623428",
            "d5afe590ac77435582a5c1f7aaa2677f",
            "d16453711edc4995acb07217c871f15b",
            "2cefbfeb0dc4446689080e353bad01da",
            "d31086e96a5c4070a40967bdaab376d2",
            "42befb86ea41496bafa474911f02c614",
            "2215cb437bb946e3aff95f3a6843756e"
          ]
        },
        "outputId": "1db27a09-4af0-49b3-9938-d32a72a11565"
      },
      "source": [
        "if use_wandb:\n",
        "  wandb.finish()"
      ],
      "execution_count": 102,
      "outputs": [
        {
          "output_type": "display_data",
          "data": {
            "text/html": [
              "<br/>Waiting for W&B process to finish, PID 4921... <strong style=\"color:green\">(success).</strong>"
            ],
            "text/plain": [
              "<IPython.core.display.HTML object>"
            ]
          },
          "metadata": {}
        },
        {
          "output_type": "display_data",
          "data": {
            "application/vnd.jupyter.widget-view+json": {
              "model_id": "3a280266f5ad453a90de5bdcb052ec97",
              "version_minor": 0,
              "version_major": 2
            },
            "text/plain": [
              "VBox(children=(Label(value=' 4.30MB of 4.30MB uploaded (0.00MB deduped)\\r'), FloatProgress(value=1.0, max=1.0)…"
            ]
          },
          "metadata": {}
        },
        {
          "output_type": "display_data",
          "data": {
            "text/html": [
              "<style>\n",
              "    table.wandb td:nth-child(1) { padding: 0 10px; text-align: right }\n",
              "    .wandb-row { display: flex; flex-direction: row; flex-wrap: wrap; width: 100% }\n",
              "    .wandb-col { display: flex; flex-direction: column; flex-basis: 100%; flex: 1; padding: 10px; }\n",
              "    </style>\n",
              "<div class=\"wandb-row\"><div class=\"wandb-col\">\n",
              "</div><div class=\"wandb-col\">\n",
              "</div></div>\n",
              "Synced 5 W&B file(s), 7 media file(s), 10 artifact file(s) and 0 other file(s)\n",
              "<br/>Synced <strong style=\"color:#cdcd00\">firm-smoke-15</strong>: <a href=\"https://wandb.ai/doris/jazztunes/runs/a1blncyz\" target=\"_blank\">https://wandb.ai/doris/jazztunes/runs/a1blncyz</a><br/>\n",
              "Find logs at: <code>./wandb/run-20211128_100130-a1blncyz/logs</code><br/>\n"
            ],
            "text/plain": [
              "<IPython.core.display.HTML object>"
            ]
          },
          "metadata": {}
        }
      ]
    },
    {
      "cell_type": "code",
      "metadata": {
        "id": "Vn_SFyKt0bYx"
      },
      "source": [
        "\n"
      ],
      "execution_count": 102,
      "outputs": []
    },
    {
      "cell_type": "code",
      "metadata": {
        "id": "OaSXwXe9ptGr"
      },
      "source": [
        ""
      ],
      "execution_count": 102,
      "outputs": []
    }
  ]
}