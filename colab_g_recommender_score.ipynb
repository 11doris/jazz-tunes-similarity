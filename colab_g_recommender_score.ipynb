{
  "nbformat": 4,
  "nbformat_minor": 0,
  "metadata": {
    "colab": {
      "name": "colab_g_recommender_score",
      "provenance": [],
      "toc_visible": true,
      "authorship_tag": "ABX9TyMy0NdABGcP0+vr6PO/Fhd7",
      "include_colab_link": true
    },
    "kernelspec": {
      "name": "python3",
      "display_name": "Python 3"
    },
    "language_info": {
      "name": "python"
    },
    "accelerator": "TPU",
    "widgets": {
      "application/vnd.jupyter.widget-state+json": {
        "c69a692b561e44d3bd552986dd596479": {
          "model_module": "@jupyter-widgets/controls",
          "model_name": "VBoxModel",
          "model_module_version": "1.5.0",
          "state": {
            "_view_name": "VBoxView",
            "_dom_classes": [],
            "_model_name": "VBoxModel",
            "_view_module": "@jupyter-widgets/controls",
            "_model_module_version": "1.5.0",
            "_view_count": null,
            "_view_module_version": "1.5.0",
            "box_style": "",
            "layout": "IPY_MODEL_3748e94fd61b4598b95e87efd122f536",
            "_model_module": "@jupyter-widgets/controls",
            "children": [
              "IPY_MODEL_c1349a4b6afb42cfbb401120c9e5cf49",
              "IPY_MODEL_a4a9a6b106ca4ebdb39da163f20ed750"
            ]
          }
        },
        "3748e94fd61b4598b95e87efd122f536": {
          "model_module": "@jupyter-widgets/base",
          "model_name": "LayoutModel",
          "model_module_version": "1.2.0",
          "state": {
            "_view_name": "LayoutView",
            "grid_template_rows": null,
            "right": null,
            "justify_content": null,
            "_view_module": "@jupyter-widgets/base",
            "overflow": null,
            "_model_module_version": "1.2.0",
            "_view_count": null,
            "flex_flow": null,
            "width": null,
            "min_width": null,
            "border": null,
            "align_items": null,
            "bottom": null,
            "_model_module": "@jupyter-widgets/base",
            "top": null,
            "grid_column": null,
            "overflow_y": null,
            "overflow_x": null,
            "grid_auto_flow": null,
            "grid_area": null,
            "grid_template_columns": null,
            "flex": null,
            "_model_name": "LayoutModel",
            "justify_items": null,
            "grid_row": null,
            "max_height": null,
            "align_content": null,
            "visibility": null,
            "align_self": null,
            "height": null,
            "min_height": null,
            "padding": null,
            "grid_auto_rows": null,
            "grid_gap": null,
            "max_width": null,
            "order": null,
            "_view_module_version": "1.2.0",
            "grid_template_areas": null,
            "object_position": null,
            "object_fit": null,
            "grid_auto_columns": null,
            "margin": null,
            "display": null,
            "left": null
          }
        },
        "c1349a4b6afb42cfbb401120c9e5cf49": {
          "model_module": "@jupyter-widgets/controls",
          "model_name": "LabelModel",
          "model_module_version": "1.5.0",
          "state": {
            "_view_name": "LabelView",
            "style": "IPY_MODEL_1ed0ca85fa5f47f5b54b5b8c0197ef57",
            "_dom_classes": [],
            "description": "",
            "_model_name": "LabelModel",
            "placeholder": "​",
            "_view_module": "@jupyter-widgets/controls",
            "_model_module_version": "1.5.0",
            "value": " 3.56MB of 3.56MB uploaded (0.00MB deduped)\r",
            "_view_count": null,
            "_view_module_version": "1.5.0",
            "description_tooltip": null,
            "_model_module": "@jupyter-widgets/controls",
            "layout": "IPY_MODEL_f4f143ab2219484eaafae9f78974afa7"
          }
        },
        "a4a9a6b106ca4ebdb39da163f20ed750": {
          "model_module": "@jupyter-widgets/controls",
          "model_name": "FloatProgressModel",
          "model_module_version": "1.5.0",
          "state": {
            "_view_name": "ProgressView",
            "style": "IPY_MODEL_3ec7056efb01445683d9b4d0f32f6df5",
            "_dom_classes": [],
            "description": "",
            "_model_name": "FloatProgressModel",
            "bar_style": "",
            "max": 1,
            "_view_module": "@jupyter-widgets/controls",
            "_model_module_version": "1.5.0",
            "value": 1,
            "_view_count": null,
            "_view_module_version": "1.5.0",
            "orientation": "horizontal",
            "min": 0,
            "description_tooltip": null,
            "_model_module": "@jupyter-widgets/controls",
            "layout": "IPY_MODEL_31915b8cbb1c4abaa1d24280eed9f9a5"
          }
        },
        "1ed0ca85fa5f47f5b54b5b8c0197ef57": {
          "model_module": "@jupyter-widgets/controls",
          "model_name": "DescriptionStyleModel",
          "model_module_version": "1.5.0",
          "state": {
            "_view_name": "StyleView",
            "_model_name": "DescriptionStyleModel",
            "description_width": "",
            "_view_module": "@jupyter-widgets/base",
            "_model_module_version": "1.5.0",
            "_view_count": null,
            "_view_module_version": "1.2.0",
            "_model_module": "@jupyter-widgets/controls"
          }
        },
        "f4f143ab2219484eaafae9f78974afa7": {
          "model_module": "@jupyter-widgets/base",
          "model_name": "LayoutModel",
          "model_module_version": "1.2.0",
          "state": {
            "_view_name": "LayoutView",
            "grid_template_rows": null,
            "right": null,
            "justify_content": null,
            "_view_module": "@jupyter-widgets/base",
            "overflow": null,
            "_model_module_version": "1.2.0",
            "_view_count": null,
            "flex_flow": null,
            "width": null,
            "min_width": null,
            "border": null,
            "align_items": null,
            "bottom": null,
            "_model_module": "@jupyter-widgets/base",
            "top": null,
            "grid_column": null,
            "overflow_y": null,
            "overflow_x": null,
            "grid_auto_flow": null,
            "grid_area": null,
            "grid_template_columns": null,
            "flex": null,
            "_model_name": "LayoutModel",
            "justify_items": null,
            "grid_row": null,
            "max_height": null,
            "align_content": null,
            "visibility": null,
            "align_self": null,
            "height": null,
            "min_height": null,
            "padding": null,
            "grid_auto_rows": null,
            "grid_gap": null,
            "max_width": null,
            "order": null,
            "_view_module_version": "1.2.0",
            "grid_template_areas": null,
            "object_position": null,
            "object_fit": null,
            "grid_auto_columns": null,
            "margin": null,
            "display": null,
            "left": null
          }
        },
        "3ec7056efb01445683d9b4d0f32f6df5": {
          "model_module": "@jupyter-widgets/controls",
          "model_name": "ProgressStyleModel",
          "model_module_version": "1.5.0",
          "state": {
            "_view_name": "StyleView",
            "_model_name": "ProgressStyleModel",
            "description_width": "",
            "_view_module": "@jupyter-widgets/base",
            "_model_module_version": "1.5.0",
            "_view_count": null,
            "_view_module_version": "1.2.0",
            "bar_color": null,
            "_model_module": "@jupyter-widgets/controls"
          }
        },
        "31915b8cbb1c4abaa1d24280eed9f9a5": {
          "model_module": "@jupyter-widgets/base",
          "model_name": "LayoutModel",
          "model_module_version": "1.2.0",
          "state": {
            "_view_name": "LayoutView",
            "grid_template_rows": null,
            "right": null,
            "justify_content": null,
            "_view_module": "@jupyter-widgets/base",
            "overflow": null,
            "_model_module_version": "1.2.0",
            "_view_count": null,
            "flex_flow": null,
            "width": null,
            "min_width": null,
            "border": null,
            "align_items": null,
            "bottom": null,
            "_model_module": "@jupyter-widgets/base",
            "top": null,
            "grid_column": null,
            "overflow_y": null,
            "overflow_x": null,
            "grid_auto_flow": null,
            "grid_area": null,
            "grid_template_columns": null,
            "flex": null,
            "_model_name": "LayoutModel",
            "justify_items": null,
            "grid_row": null,
            "max_height": null,
            "align_content": null,
            "visibility": null,
            "align_self": null,
            "height": null,
            "min_height": null,
            "padding": null,
            "grid_auto_rows": null,
            "grid_gap": null,
            "max_width": null,
            "order": null,
            "_view_module_version": "1.2.0",
            "grid_template_areas": null,
            "object_position": null,
            "object_fit": null,
            "grid_auto_columns": null,
            "margin": null,
            "display": null,
            "left": null
          }
        }
      }
    }
  },
  "cells": [
    {
      "cell_type": "markdown",
      "metadata": {
        "id": "view-in-github",
        "colab_type": "text"
      },
      "source": [
        "<a href=\"https://colab.research.google.com/github/11doris/jazz-maestro/blob/colab_word_embeddings/colab_g_recommender_score.ipynb\" target=\"_parent\"><img src=\"https://colab.research.google.com/assets/colab-badge.svg\" alt=\"Open In Colab\"/></a>"
      ]
    },
    {
      "cell_type": "markdown",
      "metadata": {
        "id": "YGhakKpa8Dtf"
      },
      "source": [
        "# Sections as Input"
      ]
    },
    {
      "cell_type": "code",
      "metadata": {
        "colab": {
          "base_uri": "https://localhost:8080/"
        },
        "id": "dm5QehpXxo31",
        "outputId": "3baf35ae-ef48-4bab-e39c-1eed832e0406"
      },
      "source": [
        "pip install wandb"
      ],
      "execution_count": 1,
      "outputs": [
        {
          "output_type": "stream",
          "name": "stdout",
          "text": [
            "Requirement already satisfied: wandb in /usr/local/lib/python3.7/dist-packages (0.12.7)\n",
            "Requirement already satisfied: PyYAML in /usr/local/lib/python3.7/dist-packages (from wandb) (3.13)\n",
            "Requirement already satisfied: shortuuid>=0.5.0 in /usr/local/lib/python3.7/dist-packages (from wandb) (1.0.8)\n",
            "Requirement already satisfied: docker-pycreds>=0.4.0 in /usr/local/lib/python3.7/dist-packages (from wandb) (0.4.0)\n",
            "Requirement already satisfied: promise<3,>=2.0 in /usr/local/lib/python3.7/dist-packages (from wandb) (2.3)\n",
            "Requirement already satisfied: sentry-sdk>=1.0.0 in /usr/local/lib/python3.7/dist-packages (from wandb) (1.5.0)\n",
            "Requirement already satisfied: Click!=8.0.0,>=7.0 in /usr/local/lib/python3.7/dist-packages (from wandb) (7.1.2)\n",
            "Requirement already satisfied: protobuf>=3.12.0 in /usr/local/lib/python3.7/dist-packages (from wandb) (3.17.3)\n",
            "Requirement already satisfied: psutil>=5.0.0 in /usr/local/lib/python3.7/dist-packages (from wandb) (5.4.8)\n",
            "Requirement already satisfied: requests<3,>=2.0.0 in /usr/local/lib/python3.7/dist-packages (from wandb) (2.23.0)\n",
            "Requirement already satisfied: six>=1.13.0 in /usr/local/lib/python3.7/dist-packages (from wandb) (1.15.0)\n",
            "Requirement already satisfied: yaspin>=1.0.0 in /usr/local/lib/python3.7/dist-packages (from wandb) (2.1.0)\n",
            "Requirement already satisfied: GitPython>=1.0.0 in /usr/local/lib/python3.7/dist-packages (from wandb) (3.1.24)\n",
            "Requirement already satisfied: python-dateutil>=2.6.1 in /usr/local/lib/python3.7/dist-packages (from wandb) (2.8.2)\n",
            "Requirement already satisfied: subprocess32>=3.5.3 in /usr/local/lib/python3.7/dist-packages (from wandb) (3.5.4)\n",
            "Requirement already satisfied: configparser>=3.8.1 in /usr/local/lib/python3.7/dist-packages (from wandb) (5.1.0)\n",
            "Requirement already satisfied: pathtools in /usr/local/lib/python3.7/dist-packages (from wandb) (0.1.2)\n",
            "Requirement already satisfied: gitdb<5,>=4.0.1 in /usr/local/lib/python3.7/dist-packages (from GitPython>=1.0.0->wandb) (4.0.9)\n",
            "Requirement already satisfied: typing-extensions>=3.7.4.3 in /usr/local/lib/python3.7/dist-packages (from GitPython>=1.0.0->wandb) (3.10.0.2)\n",
            "Requirement already satisfied: smmap<6,>=3.0.1 in /usr/local/lib/python3.7/dist-packages (from gitdb<5,>=4.0.1->GitPython>=1.0.0->wandb) (5.0.0)\n",
            "Requirement already satisfied: chardet<4,>=3.0.2 in /usr/local/lib/python3.7/dist-packages (from requests<3,>=2.0.0->wandb) (3.0.4)\n",
            "Requirement already satisfied: idna<3,>=2.5 in /usr/local/lib/python3.7/dist-packages (from requests<3,>=2.0.0->wandb) (2.10)\n",
            "Requirement already satisfied: urllib3!=1.25.0,!=1.25.1,<1.26,>=1.21.1 in /usr/local/lib/python3.7/dist-packages (from requests<3,>=2.0.0->wandb) (1.24.3)\n",
            "Requirement already satisfied: certifi>=2017.4.17 in /usr/local/lib/python3.7/dist-packages (from requests<3,>=2.0.0->wandb) (2021.10.8)\n",
            "Requirement already satisfied: termcolor<2.0.0,>=1.1.0 in /usr/local/lib/python3.7/dist-packages (from yaspin>=1.0.0->wandb) (1.1.0)\n"
          ]
        }
      ]
    },
    {
      "cell_type": "code",
      "metadata": {
        "colab": {
          "base_uri": "https://localhost:8080/"
        },
        "id": "HZG8BDT-xrv3",
        "outputId": "8172f9b0-acd2-420f-b3ff-be1e6e622fe2"
      },
      "source": [
        "!wandb login"
      ],
      "execution_count": 2,
      "outputs": [
        {
          "output_type": "stream",
          "name": "stdout",
          "text": [
            "\u001b[34m\u001b[1mwandb\u001b[0m: Currently logged in as: \u001b[33mdoris\u001b[0m (use `wandb login --relogin` to force relogin)\n"
          ]
        }
      ]
    },
    {
      "cell_type": "code",
      "metadata": {
        "id": "WHZBzAXjxz1J"
      },
      "source": [
        "import wandb"
      ],
      "execution_count": 3,
      "outputs": []
    },
    {
      "cell_type": "code",
      "metadata": {
        "colab": {
          "base_uri": "https://localhost:8080/"
        },
        "id": "MUy1ta4_782n",
        "outputId": "72d7c90d-e21c-4006-94e3-e9247a8d2fd7"
      },
      "source": [
        "!pip uninstall gensim -y"
      ],
      "execution_count": 4,
      "outputs": [
        {
          "output_type": "stream",
          "name": "stdout",
          "text": [
            "Found existing installation: gensim 4.1.2\n",
            "Uninstalling gensim-4.1.2:\n",
            "  Successfully uninstalled gensim-4.1.2\n"
          ]
        }
      ]
    },
    {
      "cell_type": "code",
      "metadata": {
        "colab": {
          "base_uri": "https://localhost:8080/"
        },
        "id": "oAroxmvO8GQj",
        "outputId": "f61f6d3d-a056-41ee-d204-192fb6987986"
      },
      "source": [
        "!pip install gensim"
      ],
      "execution_count": 5,
      "outputs": [
        {
          "output_type": "stream",
          "name": "stdout",
          "text": [
            "Collecting gensim\n",
            "  Using cached gensim-4.1.2-cp37-cp37m-manylinux_2_12_x86_64.manylinux2010_x86_64.whl (24.1 MB)\n",
            "Requirement already satisfied: numpy>=1.17.0 in /usr/local/lib/python3.7/dist-packages (from gensim) (1.19.5)\n",
            "Requirement already satisfied: scipy>=0.18.1 in /usr/local/lib/python3.7/dist-packages (from gensim) (1.4.1)\n",
            "Requirement already satisfied: smart-open>=1.8.1 in /usr/local/lib/python3.7/dist-packages (from gensim) (5.2.1)\n",
            "Installing collected packages: gensim\n",
            "Successfully installed gensim-4.1.2\n"
          ]
        }
      ]
    },
    {
      "cell_type": "code",
      "metadata": {
        "id": "6SZ0zrKX8H-D"
      },
      "source": [
        "import gensim\n",
        "from sklearn.manifold import TSNE\n",
        "import matplotlib.pyplot as plt\n",
        "import pprint\n",
        "import pandas as pd\n",
        "import numpy as np\n",
        "from collections import Counter\n",
        "import plotly.express as px\n",
        "from tqdm import tqdm \n",
        "from gensim.models.doc2vec import Doc2Vec\n",
        "from gensim.models.tfidfmodel import TfidfModel\n",
        "from gensim.models.lsimodel import LsiModel\n",
        "from gensim.models import CoherenceModel\n",
        "from gensim import corpora\n",
        "from gensim import similarities\n",
        "import pickle\n",
        "import os"
      ],
      "execution_count": 6,
      "outputs": []
    },
    {
      "cell_type": "code",
      "metadata": {
        "id": "znWar-PK8KHT"
      },
      "source": [
        "import logging\n",
        "logging.basicConfig(format='%(asctime)s : %(levelname)s : %(message)s', level=logging.INFO)"
      ],
      "execution_count": 7,
      "outputs": []
    },
    {
      "cell_type": "code",
      "metadata": {
        "colab": {
          "base_uri": "https://localhost:8080/"
        },
        "id": "kjCf_Abf8MCc",
        "outputId": "e9aede87-2ed5-4eb5-ca1d-1d3b26030209"
      },
      "source": [
        "print(gensim.__version__)"
      ],
      "execution_count": 8,
      "outputs": [
        {
          "output_type": "stream",
          "name": "stdout",
          "text": [
            "4.1.2\n"
          ]
        }
      ]
    },
    {
      "cell_type": "code",
      "metadata": {
        "id": "_aEonlx-CT6r"
      },
      "source": [
        "!rm data.csv"
      ],
      "execution_count": 9,
      "outputs": []
    },
    {
      "cell_type": "markdown",
      "metadata": {
        "id": "Nk5pPZqk0Pn7"
      },
      "source": [
        "# Configuration\n"
      ]
    },
    {
      "cell_type": "code",
      "metadata": {
        "id": "wcZ18xhgU7MZ"
      },
      "source": [
        "use_wandb = True"
      ],
      "execution_count": 10,
      "outputs": []
    },
    {
      "cell_type": "code",
      "metadata": {
        "id": "A-AD1gxGLYxp"
      },
      "source": [
        "generate_webapp_data = False"
      ],
      "execution_count": 11,
      "outputs": []
    },
    {
      "cell_type": "code",
      "metadata": {
        "id": "GfQbJQmexlxI"
      },
      "source": [
        "chords_repeated = 'rep' \n",
        "chords_preprocessing = 'rootAndDegreesPlus'"
      ],
      "execution_count": 12,
      "outputs": []
    },
    {
      "cell_type": "code",
      "metadata": {
        "id": "buoyWNl0F48Y"
      },
      "source": [
        "ngrams_for_input = [2]"
      ],
      "execution_count": 13,
      "outputs": []
    },
    {
      "cell_type": "code",
      "metadata": {
        "id": "K7qB2_sBvKpB"
      },
      "source": [
        "input_files = {\n",
        "    'sections': {\n",
        "        'rep': {\n",
        "            # M7 and 6 reduced to major triad, m7 reduced to m, dominant 7, m7b5, diminished, and all (b5) left as they are.\n",
        "            'rootAndDegreesPlus': '1BDYukaIj72jmi9PqZVrCAqKbyxg8Z4yq',\n",
        "            'rootAndDegrees7': '',\n",
        "            'rootAndDegreesSimplified': ''\n",
        "        },\n",
        "    },\n",
        "    'tunes': {\n",
        "        'rep': {\n",
        "            'rootAndDegreesPlus': '',\n",
        "            'rootAndDegrees7': '',\n",
        "            'rootAndDegreesSimplified': '',\n",
        "        },\n",
        "        'norep': {\n",
        "            'rootAndDegreesPlus': '',\n",
        "            'rootAndDegrees7': '',\n",
        "            'rootAndDegreesSimplified': '',\n",
        "        }\n",
        "    }\n",
        "}"
      ],
      "execution_count": 14,
      "outputs": []
    },
    {
      "cell_type": "code",
      "metadata": {
        "colab": {
          "base_uri": "https://localhost:8080/"
        },
        "id": "lM6eaQwnyWD3",
        "outputId": "265f431d-c13d-4eae-e183-8c9c80e3a409"
      },
      "source": [
        "tunes_eval_list = [\n",
        "  \"Sweet Sue, Just You [jazz1350]\",\n",
        "  \"These Foolish Things [jazz1350]\", \n",
        "  \"Blue Moon [jazz1350]\",\n",
        "  \"All Of Me [jazz1350]\",\n",
        "  \"All God's Chillun Got Rhythm [jazz1350]\",\n",
        "  \"I Got Rhythm [jazz1350]\",\n",
        "  \"Bye Bye Blackbird [jazz1350]\",\n",
        "  \"Old Fashioned Love [trad]\",\n",
        "  \"Dinah [jazz1350]\",\n",
        "  \"Honeysuckle Rose [jazz1350]\",\n",
        "  \"Misty [jazz1350]\",\n",
        "  \"We'll Be Together Again [jazz1350]\",\n",
        "  \"East Of The Sun [jazz1350]\",\n",
        "  \"Sophisticated Lady [jazz1350]\",\n",
        "  \"Perdido [jazz1350]\",\n",
        "  \"Naima [jazz1350]\",\n",
        "  \"Call Me Irresponsible [jazz1350]\",\n",
        "  \"Corcovado [jazz1350]\",\n",
        "  \"Footprints [jazz1350]\",\n",
        "  \"Giant Steps [jazz1350]\",\n",
        "  \"But Beautiful [jazz1350]\",\n",
        "  \"Rockin' Chair [jazz1350]\",\n",
        "  \"Blood Count [jazz1350]\",\n",
        "  \"After You've Gone [jazz1350]\",\n",
        "]\n",
        "\n",
        "tunes_eval_list = sorted(tunes_eval_list)\n",
        "tunes_eval_list"
      ],
      "execution_count": 15,
      "outputs": [
        {
          "output_type": "execute_result",
          "data": {
            "text/plain": [
              "[\"After You've Gone [jazz1350]\",\n",
              " \"All God's Chillun Got Rhythm [jazz1350]\",\n",
              " 'All Of Me [jazz1350]',\n",
              " 'Blood Count [jazz1350]',\n",
              " 'Blue Moon [jazz1350]',\n",
              " 'But Beautiful [jazz1350]',\n",
              " 'Bye Bye Blackbird [jazz1350]',\n",
              " 'Call Me Irresponsible [jazz1350]',\n",
              " 'Corcovado [jazz1350]',\n",
              " 'Dinah [jazz1350]',\n",
              " 'East Of The Sun [jazz1350]',\n",
              " 'Footprints [jazz1350]',\n",
              " 'Giant Steps [jazz1350]',\n",
              " 'Honeysuckle Rose [jazz1350]',\n",
              " 'I Got Rhythm [jazz1350]',\n",
              " 'Misty [jazz1350]',\n",
              " 'Naima [jazz1350]',\n",
              " 'Old Fashioned Love [trad]',\n",
              " 'Perdido [jazz1350]',\n",
              " \"Rockin' Chair [jazz1350]\",\n",
              " 'Sophisticated Lady [jazz1350]',\n",
              " 'Sweet Sue, Just You [jazz1350]',\n",
              " 'These Foolish Things [jazz1350]',\n",
              " \"We'll Be Together Again [jazz1350]\"]"
            ]
          },
          "metadata": {},
          "execution_count": 15
        }
      ]
    },
    {
      "cell_type": "code",
      "metadata": {
        "id": "uiI0h4ef0PCD",
        "colab": {
          "base_uri": "https://localhost:8080/"
        },
        "outputId": "3c8b82f2-9d26-4615-e2c0-a13b92e29d82"
      },
      "source": [
        "contrafacts = [\n",
        "               (\"26-2 [jazz1350]\", \"Confirmation [jazz1350]\"),\n",
        "               (\"52nd Street Theme [jazz1350]\", \"I Got Rhythm [jazz1350]\"),\n",
        "               (\"Ablution [jazz1350]\", \"All The Things You Are [jazz1350]\"),\n",
        "               (\"Anthropology [jazz1350]\", \"I Got Rhythm [jazz1350]\"),\n",
        "               (\"Ballade [jazz1350]\", \"As Long As I Live [jazz1350]\"),\n",
        "               (\"Bright Mississippi [jazz1350]\", \"Sweet Georgia Brown [jazz1350]\"),\n",
        "               (\"C.T.A. [jazz1350]\", \"I Got Rhythm [jazz1350]\"),\n",
        "               #( \"Celia [jazz1350]\", \"I Got Rhythm [jazz1350]\"),\n",
        "               (\"Cottontail [jazz1350]\", \"I Got Rhythm [jazz1350]\"),\n",
        "               (\"Countdown [jazz1350]\", \"Tune Up [jazz1350]\"),\n",
        "               (\"Dewey Square [jazz1350]\", \"Oh, Lady Be Good [jazz1350]\"),\n",
        "               (\"Dexterity [jazz1350]\", \"I Got Rhythm [jazz1350]\"),\n",
        "               (\"Dig [jazz1350]\", \"Sweet Georgia Brown [jazz1350]\"),\n",
        "               (\"Donna Lee [jazz1350]\", \"Indiana (Back Home Again In) [jazz1350]\"),\n",
        "               (\"Don't Be That Way [jazz1350]\", \"I Got Rhythm [jazz1350]\"),\n",
        "               #(\"Eternal Triangle [jazz1350]\", \"I Got Rhythm [jazz1350]\"),\n",
        "               (\"Evidence [jazz1350]\", \"Just You, Just Me [jazz1350]\"),\n",
        "               (\"Flintstones [jazz1350]\", \"I Got Rhythm [jazz1350]\"),\n",
        "               (\"Four On Six [jazz1350]\", \"Summertime [jazz1350]\"),\n",
        "               (\"Freight Train [jazz1350]\", \"Blues For Alice [jazz1350]\"),\n",
        "               (\"Good Bait [jazz1350]\", \"I Got Rhythm [jazz1350]\"),\n",
        "               (\"Hackensack [jazz1350]\", \"Oh, Lady Be Good [jazz1350]\"),\n",
        "               (\"Half Nelson [jazz1350]\", \"Lady Bird [jazz1350]\"),\n",
        "               (\"Hot House [jazz1350]\", \"What Is This Thing Called Love [jazz1350]\"),\n",
        "               (\"Impressions [jazz1350]\", \"So What [jazz1350]\"),\n",
        "               (\"In A Mellow Tone (In A Mellotone) [jazz1350]\", \"Rose Room [jazz1350]\"),\n",
        "               (\"In Walked Bud [jazz1350]\", \"Blue Skies [jazz1350]\"),\n",
        "               (\"Ko Ko [jazz1350]\", \"Cherokee [jazz1350]\"),\n",
        "               (\"Lennie's Pennies [jazz1350]\", \"Pennies From Heaven [jazz1350]\"),   ## Lennie's Pennies is in minor and therefore transposed to Amin... not possible to recognize like that\n",
        "               #( \"Let's Call This [jazz1350]\", \"Honeysuckle Rose [jazz1350]\"),\n",
        "               (\"Little Rootie Tootie [jazz1350]\", \"I Got Rhythm [jazz1350]\"),\n",
        "               (\"Little Willie Leaps [jazz1350]\", \"All God's Chillun Got Rhythm [jazz1350]\"),\n",
        "               (\"Lullaby Of Birdland [jazz1350]\", \"Love Me Or Leave Me [jazz1350]\"),\n",
        "               #(\"Moose The Mooche [jazz1350]\", \"I Got Rhythm [jazz1350]\"),\n",
        "               (\"My Little Suede Shoes [jazz1350]\", \"Jeepers Creepers [jazz1350]\"),\n",
        "               #(\"Oleo [jazz1350]\", \"I Got Rhythm [jazz1350]\"),\n",
        "               (\"Ornithology [jazz1350]\", \"How High The Moon [jazz1350]\"),\n",
        "               #(\"Passport [jazz1350]\", \"I Got Rhythm [jazz1350]\"),\n",
        "               (\"Quasimodo (Theme) [jazz1350]\", \"Embraceable You [jazz1350]\"),\n",
        "               #(\"Rhythm-a-ning [jazz1350]\", \"I Got Rhythm [jazz1350]\"),\n",
        "               (\"Room 608 [jazz1350]\", \"I Got Rhythm [jazz1350]\"),\n",
        "               #(\"Salt Peanuts [jazz1350]\", \"I Got Rhythm [jazz1350]\"),\n",
        "               (\"Satellite [jazz1350]\", \"How High The Moon [jazz1350]\"),\n",
        "               (\"Scrapple From The Apple [jazz1350]\", \"Honeysuckle Rose [jazz1350]\"), # A section\n",
        "               (\"Scrapple From The Apple [jazz1350]\", \"I Got Rhythm [jazz1350]\"), # B section\n",
        "               #(\"Segment [jazz1350]\", \"I Got Rhythm [jazz1350]\"),\n",
        "               #(\"Seven Come Eleven [jazz1350]\", \"I Got Rhythm [jazz1350]\"),\n",
        "               #(\"Shaw 'Nuff [jazz1350]\", \"I Got Rhythm [jazz1350]\"),\n",
        "               #(\"Theme, The [jazz1350]\", \"I Got Rhythm [jazz1350]\"),\n",
        "               (\"Tour De Force [jazz1350]\", \"Jeepers Creepers [jazz1350]\"),\n",
        "               (\"Wow [jazz1350]\", \"You Can Depend On Me [jazz1350]\"),\n",
        "               (\"Yardbird Suite [jazz1350]\", \"Rosetta [jazz1350]\"),\n",
        "\n",
        "               # following tunes are not from wikipedia),\n",
        "               (\"Sweet Sue, Just You [jazz1350]\", \"Honeysuckle Rose [jazz1350]\"),  # A section\n",
        "               #(\"All Of Me [jazz1350]\", \"Pennies From Heaven [jazz1350]\"), # bars 25-28 of All of Me are same as bars 17-20 of Pennies From Heaven, but different key!\n",
        "               (\"Sweet Sue, Just You [jazz1350]\", \"Bye Bye Blackbird [jazz1350]\"), # Bridge same\n",
        "               (\"These Foolish Things [jazz1350]\", \"Blue Moon [jazz1350]\"), # first 8 bars same\n",
        "               (\"These Foolish Things [jazz1350]\", \"More Than You Know [jazz1350]\"),\n",
        "               (\"These Foolish Things [jazz1350]\", \"Isn't It A Pity [jazz1350]\"),\n",
        "               (\"These Foolish Things [jazz1350]\", \"Soultrain [jazz1350]\"),\n",
        "               (\"These Foolish Things [jazz1350]\", \"Why Do I Love You [jazz1350]\"),\n",
        "               (\"Misty [jazz1350]\", \"Portrait Of Jennie [jazz1350]\"),\n",
        "               (\"Misty [jazz1350]\", \"September In The Rain [jazz1350]\"),\n",
        "               (\"Misty [jazz1350]\", \"I May Be Wrong [jazz1350]\"),                    \n",
        "]"
      ],
      "execution_count": 16,
      "outputs": [
        {
          "output_type": "execute_result",
          "data": {
            "text/plain": [
              "[('26-2 [jazz1350]', 'Confirmation [jazz1350]'),\n",
              " ('52nd Street Theme [jazz1350]', 'I Got Rhythm [jazz1350]'),\n",
              " ('Ablution [jazz1350]', 'All The Things You Are [jazz1350]'),\n",
              " ('Anthropology [jazz1350]', 'I Got Rhythm [jazz1350]'),\n",
              " ('Ballade [jazz1350]', 'As Long As I Live [jazz1350]'),\n",
              " ('Bright Mississippi [jazz1350]', 'Sweet Georgia Brown [jazz1350]'),\n",
              " ('C.T.A. [jazz1350]', 'I Got Rhythm [jazz1350]'),\n",
              " ('Cottontail [jazz1350]', 'I Got Rhythm [jazz1350]'),\n",
              " ('Countdown [jazz1350]', 'Tune Up [jazz1350]'),\n",
              " ('Dewey Square [jazz1350]', 'Oh, Lady Be Good [jazz1350]'),\n",
              " ('Dexterity [jazz1350]', 'I Got Rhythm [jazz1350]'),\n",
              " ('Dig [jazz1350]', 'Sweet Georgia Brown [jazz1350]'),\n",
              " ('Donna Lee [jazz1350]', 'Indiana (Back Home Again In) [jazz1350]'),\n",
              " (\"Don't Be That Way [jazz1350]\", 'I Got Rhythm [jazz1350]'),\n",
              " ('Evidence [jazz1350]', 'Just You, Just Me [jazz1350]'),\n",
              " ('Flintstones [jazz1350]', 'I Got Rhythm [jazz1350]'),\n",
              " ('Four On Six [jazz1350]', 'Summertime [jazz1350]'),\n",
              " ('Freight Train [jazz1350]', 'Blues For Alice [jazz1350]'),\n",
              " ('Good Bait [jazz1350]', 'I Got Rhythm [jazz1350]'),\n",
              " ('Hackensack [jazz1350]', 'Oh, Lady Be Good [jazz1350]'),\n",
              " ('Half Nelson [jazz1350]', 'Lady Bird [jazz1350]'),\n",
              " ('Hot House [jazz1350]', 'What Is This Thing Called Love [jazz1350]'),\n",
              " ('Impressions [jazz1350]', 'So What [jazz1350]'),\n",
              " ('In A Mellow Tone (In A Mellotone) [jazz1350]', 'Rose Room [jazz1350]'),\n",
              " ('In Walked Bud [jazz1350]', 'Blue Skies [jazz1350]'),\n",
              " ('Ko Ko [jazz1350]', 'Cherokee [jazz1350]'),\n",
              " (\"Lennie's Pennies [jazz1350]\", 'Pennies From Heaven [jazz1350]'),\n",
              " ('Little Rootie Tootie [jazz1350]', 'I Got Rhythm [jazz1350]'),\n",
              " ('Little Willie Leaps [jazz1350]', \"All God's Chillun Got Rhythm [jazz1350]\"),\n",
              " ('Lullaby Of Birdland [jazz1350]', 'Love Me Or Leave Me [jazz1350]'),\n",
              " ('My Little Suede Shoes [jazz1350]', 'Jeepers Creepers [jazz1350]'),\n",
              " ('Ornithology [jazz1350]', 'How High The Moon [jazz1350]'),\n",
              " ('Quasimodo (Theme) [jazz1350]', 'Embraceable You [jazz1350]'),\n",
              " ('Room 608 [jazz1350]', 'I Got Rhythm [jazz1350]'),\n",
              " ('Satellite [jazz1350]', 'How High The Moon [jazz1350]'),\n",
              " ('Scrapple From The Apple [jazz1350]', 'Honeysuckle Rose [jazz1350]'),\n",
              " ('Scrapple From The Apple [jazz1350]', 'I Got Rhythm [jazz1350]'),\n",
              " ('Tour De Force [jazz1350]', 'Jeepers Creepers [jazz1350]'),\n",
              " ('Wow [jazz1350]', 'You Can Depend On Me [jazz1350]'),\n",
              " ('Yardbird Suite [jazz1350]', 'Rosetta [jazz1350]'),\n",
              " ('Sweet Sue, Just You [jazz1350]', 'Honeysuckle Rose [jazz1350]'),\n",
              " ('Sweet Sue, Just You [jazz1350]', 'Bye Bye Blackbird [jazz1350]'),\n",
              " ('These Foolish Things [jazz1350]', 'Blue Moon [jazz1350]'),\n",
              " ('These Foolish Things [jazz1350]', 'More Than You Know [jazz1350]'),\n",
              " ('These Foolish Things [jazz1350]', \"Isn't It A Pity [jazz1350]\"),\n",
              " ('These Foolish Things [jazz1350]', 'Soultrain [jazz1350]'),\n",
              " ('These Foolish Things [jazz1350]', 'Why Do I Love You [jazz1350]'),\n",
              " ('Misty [jazz1350]', 'Portrait Of Jennie [jazz1350]'),\n",
              " ('Misty [jazz1350]', 'September In The Rain [jazz1350]'),\n",
              " ('Misty [jazz1350]', 'I May Be Wrong [jazz1350]')]"
            ]
          },
          "metadata": {},
          "execution_count": 16
        }
      ]
    },
    {
      "cell_type": "markdown",
      "metadata": {
        "id": "gcexO7zK8Pn6"
      },
      "source": [
        "# Initialization\n",
        "\n",
        "## Download the Data"
      ]
    },
    {
      "cell_type": "code",
      "metadata": {
        "id": "JwVJo3Vat8iF"
      },
      "source": [
        "input_data = input_files['sections'][chords_repeated][chords_preprocessing]\n",
        "\n",
        "input_path = f\"https://docs.google.com/uc?export=download&id={input_data}\"\n",
        "data_file_name = 'data.csv'\n"
      ],
      "execution_count": 17,
      "outputs": []
    },
    {
      "cell_type": "code",
      "metadata": {
        "colab": {
          "base_uri": "https://localhost:8080/",
          "height": 36
        },
        "id": "_Dp-fijjB-pU",
        "outputId": "def7e156-8ef2-4eb4-833f-632b5eaeb279"
      },
      "source": [
        "input_path"
      ],
      "execution_count": 18,
      "outputs": [
        {
          "output_type": "execute_result",
          "data": {
            "application/vnd.google.colaboratory.intrinsic+json": {
              "type": "string"
            },
            "text/plain": [
              "'https://docs.google.com/uc?export=download&id=1BDYukaIj72jmi9PqZVrCAqKbyxg8Z4yq'"
            ]
          },
          "metadata": {},
          "execution_count": 18
        }
      ]
    },
    {
      "cell_type": "code",
      "metadata": {
        "colab": {
          "base_uri": "https://localhost:8080/"
        },
        "id": "1ZVAYUH5t9Li",
        "outputId": "7356e4d2-1b3a-4bf4-a228-df8c0ad0ebbd"
      },
      "source": [
        "!wget --no-check-certificate \"$input_path\" -O \"$data_file_name\""
      ],
      "execution_count": 19,
      "outputs": [
        {
          "output_type": "stream",
          "name": "stdout",
          "text": [
            "--2021-11-28 07:12:09--  https://docs.google.com/uc?export=download&id=1BDYukaIj72jmi9PqZVrCAqKbyxg8Z4yq\n",
            "Resolving docs.google.com (docs.google.com)... 142.250.136.113, 142.250.136.139, 142.250.136.100, ...\n",
            "Connecting to docs.google.com (docs.google.com)|142.250.136.113|:443... connected.\n",
            "HTTP request sent, awaiting response... 302 Moved Temporarily\n",
            "Location: https://doc-0k-4c-docs.googleusercontent.com/docs/securesc/ha0ro937gcuc7l7deffksulhg5h7mbp1/djbdpg883f95g77dj452hmtohb02hb3u/1638083475000/14329102864480165501/*/1BDYukaIj72jmi9PqZVrCAqKbyxg8Z4yq?e=download [following]\n",
            "Warning: wildcards not supported in HTTP.\n",
            "--2021-11-28 07:12:10--  https://doc-0k-4c-docs.googleusercontent.com/docs/securesc/ha0ro937gcuc7l7deffksulhg5h7mbp1/djbdpg883f95g77dj452hmtohb02hb3u/1638083475000/14329102864480165501/*/1BDYukaIj72jmi9PqZVrCAqKbyxg8Z4yq?e=download\n",
            "Resolving doc-0k-4c-docs.googleusercontent.com (doc-0k-4c-docs.googleusercontent.com)... 173.194.193.132, 2607:f8b0:4001:c0f::84\n",
            "Connecting to doc-0k-4c-docs.googleusercontent.com (doc-0k-4c-docs.googleusercontent.com)|173.194.193.132|:443... connected.\n",
            "HTTP request sent, awaiting response... 200 OK\n",
            "Length: 813814 (795K) [text/csv]\n",
            "Saving to: ‘data.csv’\n",
            "\n",
            "data.csv            100%[===================>] 794.74K  --.-KB/s    in 0.007s  \n",
            "\n",
            "2021-11-28 07:12:10 (109 MB/s) - ‘data.csv’ saved [813814/813814]\n",
            "\n"
          ]
        }
      ]
    },
    {
      "cell_type": "markdown",
      "metadata": {
        "id": "Ljs21B7h8YvC"
      },
      "source": [
        "### Read Chords Input Data"
      ]
    },
    {
      "cell_type": "code",
      "metadata": {
        "colab": {
          "base_uri": "https://localhost:8080/",
          "height": 310
        },
        "id": "B7kK418L8aac",
        "outputId": "ef14911f-c375-458e-e71d-6090d90ba83c"
      },
      "source": [
        "df = pd.read_csv(data_file_name, sep='\\t', index_col=\"id\")\n",
        "df = df.reset_index()\n",
        "df.head(5)"
      ],
      "execution_count": 20,
      "outputs": [
        {
          "output_type": "execute_result",
          "data": {
            "text/html": [
              "<div>\n",
              "<style scoped>\n",
              "    .dataframe tbody tr th:only-of-type {\n",
              "        vertical-align: middle;\n",
              "    }\n",
              "\n",
              "    .dataframe tbody tr th {\n",
              "        vertical-align: top;\n",
              "    }\n",
              "\n",
              "    .dataframe thead th {\n",
              "        text-align: right;\n",
              "    }\n",
              "</style>\n",
              "<table border=\"1\" class=\"dataframe\">\n",
              "  <thead>\n",
              "    <tr style=\"text-align: right;\">\n",
              "      <th></th>\n",
              "      <th>id</th>\n",
              "      <th>file_name</th>\n",
              "      <th>title</th>\n",
              "      <th>title_playlist</th>\n",
              "      <th>tune_mode</th>\n",
              "      <th>tune_id</th>\n",
              "      <th>section_name</th>\n",
              "      <th>section_id</th>\n",
              "      <th>chords</th>\n",
              "    </tr>\n",
              "  </thead>\n",
              "  <tbody>\n",
              "    <tr>\n",
              "      <th>0</th>\n",
              "      <td>0</td>\n",
              "      <td>dataset/jazz1350/26-2.xml</td>\n",
              "      <td>26-2</td>\n",
              "      <td>26-2 [jazz1350]</td>\n",
              "      <td>major</td>\n",
              "      <td>0</td>\n",
              "      <td>A</td>\n",
              "      <td>1</td>\n",
              "      <td>C Eb7 G# B7 E G7 Gm C7 F G#7 C# E7 Am D7 Dm G7</td>\n",
              "    </tr>\n",
              "    <tr>\n",
              "      <th>1</th>\n",
              "      <td>1</td>\n",
              "      <td>dataset/jazz1350/26-2.xml</td>\n",
              "      <td>26-2</td>\n",
              "      <td>26-2 [jazz1350]</td>\n",
              "      <td>major</td>\n",
              "      <td>0</td>\n",
              "      <td>A</td>\n",
              "      <td>2</td>\n",
              "      <td>C Eb7 G# B7 E G7 Gm C7 F Eb7 G# B7 E G7 C</td>\n",
              "    </tr>\n",
              "    <tr>\n",
              "      <th>2</th>\n",
              "      <td>2</td>\n",
              "      <td>dataset/jazz1350/26-2.xml</td>\n",
              "      <td>26-2</td>\n",
              "      <td>26-2 [jazz1350]</td>\n",
              "      <td>major</td>\n",
              "      <td>0</td>\n",
              "      <td>B</td>\n",
              "      <td>3</td>\n",
              "      <td>Gm C7 Bm E7 A C7 F Bbm Eb7 G# Dm G7</td>\n",
              "    </tr>\n",
              "    <tr>\n",
              "      <th>3</th>\n",
              "      <td>3</td>\n",
              "      <td>dataset/jazz1350/26-2.xml</td>\n",
              "      <td>26-2</td>\n",
              "      <td>26-2 [jazz1350]</td>\n",
              "      <td>major</td>\n",
              "      <td>0</td>\n",
              "      <td>A</td>\n",
              "      <td>4</td>\n",
              "      <td>C Eb7 G# B7 E G7 Gm C7 F Eb7 G# B7 E G7 C</td>\n",
              "    </tr>\n",
              "    <tr>\n",
              "      <th>4</th>\n",
              "      <td>4</td>\n",
              "      <td>dataset/jazz1350/500 Miles High.xml</td>\n",
              "      <td>500 Miles High</td>\n",
              "      <td>500 Miles High [jazz1350]</td>\n",
              "      <td>minor</td>\n",
              "      <td>1</td>\n",
              "      <td>NaN</td>\n",
              "      <td>0</td>\n",
              "      <td>Am Am Cm Cm Eb Eb Em7b5 A7 Dm Dm Bm7b5 Bm7b5 B...</td>\n",
              "    </tr>\n",
              "  </tbody>\n",
              "</table>\n",
              "</div>"
            ],
            "text/plain": [
              "   id  ...                                             chords\n",
              "0   0  ...     C Eb7 G# B7 E G7 Gm C7 F G#7 C# E7 Am D7 Dm G7\n",
              "1   1  ...          C Eb7 G# B7 E G7 Gm C7 F Eb7 G# B7 E G7 C\n",
              "2   2  ...                Gm C7 Bm E7 A C7 F Bbm Eb7 G# Dm G7\n",
              "3   3  ...          C Eb7 G# B7 E G7 Gm C7 F Eb7 G# B7 E G7 C\n",
              "4   4  ...  Am Am Cm Cm Eb Eb Em7b5 A7 Dm Dm Bm7b5 Bm7b5 B...\n",
              "\n",
              "[5 rows x 9 columns]"
            ]
          },
          "metadata": {},
          "execution_count": 20
        }
      ]
    },
    {
      "cell_type": "markdown",
      "metadata": {
        "id": "OsPcEFbg8gu6"
      },
      "source": [
        "### Meta Data"
      ]
    },
    {
      "cell_type": "code",
      "metadata": {
        "colab": {
          "base_uri": "https://localhost:8080/",
          "height": 206
        },
        "id": "_62YlEVJXOCL",
        "outputId": "8fe20f09-e1ee-431a-e232-06be17114b93"
      },
      "source": [
        "titles = df.loc[:, ['id', 'tune_id', 'section_id', 'section_name', 'title', 'title_playlist', 'tune_mode']]\n",
        "titles[:5]"
      ],
      "execution_count": 21,
      "outputs": [
        {
          "output_type": "execute_result",
          "data": {
            "text/html": [
              "<div>\n",
              "<style scoped>\n",
              "    .dataframe tbody tr th:only-of-type {\n",
              "        vertical-align: middle;\n",
              "    }\n",
              "\n",
              "    .dataframe tbody tr th {\n",
              "        vertical-align: top;\n",
              "    }\n",
              "\n",
              "    .dataframe thead th {\n",
              "        text-align: right;\n",
              "    }\n",
              "</style>\n",
              "<table border=\"1\" class=\"dataframe\">\n",
              "  <thead>\n",
              "    <tr style=\"text-align: right;\">\n",
              "      <th></th>\n",
              "      <th>id</th>\n",
              "      <th>tune_id</th>\n",
              "      <th>section_id</th>\n",
              "      <th>section_name</th>\n",
              "      <th>title</th>\n",
              "      <th>title_playlist</th>\n",
              "      <th>tune_mode</th>\n",
              "    </tr>\n",
              "  </thead>\n",
              "  <tbody>\n",
              "    <tr>\n",
              "      <th>0</th>\n",
              "      <td>0</td>\n",
              "      <td>0</td>\n",
              "      <td>1</td>\n",
              "      <td>A</td>\n",
              "      <td>26-2</td>\n",
              "      <td>26-2 [jazz1350]</td>\n",
              "      <td>major</td>\n",
              "    </tr>\n",
              "    <tr>\n",
              "      <th>1</th>\n",
              "      <td>1</td>\n",
              "      <td>0</td>\n",
              "      <td>2</td>\n",
              "      <td>A</td>\n",
              "      <td>26-2</td>\n",
              "      <td>26-2 [jazz1350]</td>\n",
              "      <td>major</td>\n",
              "    </tr>\n",
              "    <tr>\n",
              "      <th>2</th>\n",
              "      <td>2</td>\n",
              "      <td>0</td>\n",
              "      <td>3</td>\n",
              "      <td>B</td>\n",
              "      <td>26-2</td>\n",
              "      <td>26-2 [jazz1350]</td>\n",
              "      <td>major</td>\n",
              "    </tr>\n",
              "    <tr>\n",
              "      <th>3</th>\n",
              "      <td>3</td>\n",
              "      <td>0</td>\n",
              "      <td>4</td>\n",
              "      <td>A</td>\n",
              "      <td>26-2</td>\n",
              "      <td>26-2 [jazz1350]</td>\n",
              "      <td>major</td>\n",
              "    </tr>\n",
              "    <tr>\n",
              "      <th>4</th>\n",
              "      <td>4</td>\n",
              "      <td>1</td>\n",
              "      <td>0</td>\n",
              "      <td>NaN</td>\n",
              "      <td>500 Miles High</td>\n",
              "      <td>500 Miles High [jazz1350]</td>\n",
              "      <td>minor</td>\n",
              "    </tr>\n",
              "  </tbody>\n",
              "</table>\n",
              "</div>"
            ],
            "text/plain": [
              "   id  tune_id  section_id  ...           title             title_playlist tune_mode\n",
              "0   0        0           1  ...            26-2            26-2 [jazz1350]     major\n",
              "1   1        0           2  ...            26-2            26-2 [jazz1350]     major\n",
              "2   2        0           3  ...            26-2            26-2 [jazz1350]     major\n",
              "3   3        0           4  ...            26-2            26-2 [jazz1350]     major\n",
              "4   4        1           0  ...  500 Miles High  500 Miles High [jazz1350]     minor\n",
              "\n",
              "[5 rows x 7 columns]"
            ]
          },
          "metadata": {},
          "execution_count": 21
        }
      ]
    },
    {
      "cell_type": "code",
      "metadata": {
        "id": "0vEOjvwt8jUu"
      },
      "source": [
        "titles_dict = titles.to_dict()\n",
        "\n",
        "sectionid_to_title = titles_dict['title_playlist']\n",
        "sectionid_to_titleid = titles_dict['tune_id']\n"
      ],
      "execution_count": 22,
      "outputs": []
    },
    {
      "cell_type": "code",
      "metadata": {
        "id": "Om7pbfnNGO_I"
      },
      "source": [
        "tunes = df.loc[:, ['tune_id', 'title_playlist']].drop_duplicates()\n",
        "tunes = tunes.set_index('tune_id').to_dict()\n",
        "titleid_to_title = tunes['title_playlist']"
      ],
      "execution_count": 23,
      "outputs": []
    },
    {
      "cell_type": "code",
      "metadata": {
        "id": "OvLyxrExxvew"
      },
      "source": [
        "title_to_titleid = {v: k for k, v in titleid_to_title.items()}\n"
      ],
      "execution_count": 24,
      "outputs": []
    },
    {
      "cell_type": "code",
      "metadata": {
        "id": "1H72Y3_d8uNu"
      },
      "source": [
        "titles_rows = titles.to_dict(orient='records')\n",
        "sectionid_to_section = []\n",
        "for i, row in enumerate(titles_rows):\n",
        "  name = f\"{row['title']}, section{row['section_id']} ({row['section_name']})\"\n",
        "  sectionid_to_section.append(name)\n",
        "  "
      ],
      "execution_count": 25,
      "outputs": []
    },
    {
      "cell_type": "code",
      "metadata": {
        "id": "HCeGUk818y8V"
      },
      "source": [
        "title_to_sectionid = {}\n",
        "\n",
        "for row in titles.iterrows():\n",
        "  title = row[1]['title_playlist']\n",
        "  if title not in title_to_sectionid:\n",
        "    title_to_sectionid[title] = [row[1]['id']]\n",
        "  else:\n",
        "    title_to_sectionid[title].append(row[1]['id'])"
      ],
      "execution_count": 26,
      "outputs": []
    },
    {
      "cell_type": "markdown",
      "metadata": {
        "id": "GWXGqImnoHdm"
      },
      "source": [
        "### Create Directories on Colab"
      ]
    },
    {
      "cell_type": "code",
      "metadata": {
        "id": "sDWIxDpIoJv1"
      },
      "source": [
        "!rm -R output\n",
        "!mkdir output"
      ],
      "execution_count": 27,
      "outputs": []
    },
    {
      "cell_type": "markdown",
      "metadata": {
        "id": "tHWe1mKVrF8O"
      },
      "source": [
        "### Test Data"
      ]
    },
    {
      "cell_type": "code",
      "metadata": {
        "id": "V0Bg0wJ7sBBk"
      },
      "source": [
        "tunes_eval_list = sorted(tunes_eval_list)"
      ],
      "execution_count": 28,
      "outputs": []
    },
    {
      "cell_type": "code",
      "metadata": {
        "id": "UE0AGDO_rFVo"
      },
      "source": [
        "#contrafacts_test = []\n",
        "#for reference, compare in contrafacts.items():\n",
        "#  contrafacts_test.append([title_to_sectionid[reference], title_to_sectionid[compare]])"
      ],
      "execution_count": 29,
      "outputs": []
    },
    {
      "cell_type": "markdown",
      "metadata": {
        "id": "LvQ60s_owm82"
      },
      "source": [
        "## Initialization for wandb variables"
      ]
    },
    {
      "cell_type": "code",
      "metadata": {
        "id": "fw7FHHXfwagL"
      },
      "source": [
        "recommender_results_cols = ['reference', 'id', 'method', 'similar', 'score_div_max', 'score']\n",
        "recommender_results = pd.DataFrame(columns=recommender_results_cols)"
      ],
      "execution_count": 30,
      "outputs": []
    },
    {
      "cell_type": "code",
      "metadata": {
        "id": "PfvF20G1JZMa"
      },
      "source": [
        "lsi_config = {\n",
        "    'num_topics': 200,\n",
        "}"
      ],
      "execution_count": 31,
      "outputs": []
    },
    {
      "cell_type": "code",
      "metadata": {
        "id": "eW2f6BdAJl01"
      },
      "source": [
        "doc2vec_config = {\n",
        "    'general': {\n",
        "        'chords_preprocessing': chords_preprocessing,\n",
        "        'chords_repeated': chords_repeated,\n",
        "        'document_tags': 'SectionsTunes',\n",
        "    },\n",
        "    'model': {\n",
        "        'dm': 1,\n",
        "        'vector_size': 100,\n",
        "        'window': 4,\n",
        "        'epochs': 40,\n",
        "        #'workers': 1,\n",
        "        'min_count': 1,\n",
        "        'negative': 10,\n",
        "        'sample': 0.001,\n",
        "        'seed': 42\n",
        "    }\n",
        "}"
      ],
      "execution_count": 32,
      "outputs": []
    },
    {
      "cell_type": "code",
      "metadata": {
        "id": "sxdJ97gdx70_",
        "colab": {
          "base_uri": "https://localhost:8080/",
          "height": 53
        },
        "outputId": "c5a67e00-8fd4-4d74-bbd0-3128d612ad78"
      },
      "source": [
        "if use_wandb:\n",
        "  wandb.init(\n",
        "        # Set entity to specify your username or team name\n",
        "        # ex: entity=\"carey\",\n",
        "        # Set the project where this run will be logged\n",
        "        project=\"jazztunes\", \n",
        "        \n",
        "        # Track hyperparameters and run metadata\n",
        "        config={\n",
        "            \"input_data\": input_path,\n",
        "            \"ngrams_input\": ngrams_for_input,\n",
        "            \"comparison\": \"sections\",\n",
        "            \"lsi\": lsi_config,\n",
        "            \"doc2vec\": doc2vec_config\n",
        "        }\n",
        "    )"
      ],
      "execution_count": 33,
      "outputs": [
        {
          "output_type": "stream",
          "name": "stderr",
          "text": [
            "\u001b[34m\u001b[1mwandb\u001b[0m: Currently logged in as: \u001b[33mdoris\u001b[0m (use `wandb login --relogin` to force relogin)\n"
          ]
        },
        {
          "output_type": "display_data",
          "data": {
            "text/html": [
              "\n",
              "                    Syncing run <strong><a href=\"https://wandb.ai/doris/jazztunes/runs/1id1g79o\" target=\"_blank\">devout-glade-11</a></strong> to <a href=\"https://wandb.ai/doris/jazztunes\" target=\"_blank\">Weights & Biases</a> (<a href=\"https://docs.wandb.com/integrations/jupyter.html\" target=\"_blank\">docs</a>).<br/>\n",
              "\n",
              "                "
            ],
            "text/plain": [
              "<IPython.core.display.HTML object>"
            ]
          },
          "metadata": {}
        }
      ]
    },
    {
      "cell_type": "code",
      "metadata": {
        "id": "xHOY4TKYVN-g"
      },
      "source": [
        "if use_wandb:\n",
        "  artifact = wandb.Artifact('input_data', type='dataset')\n",
        "  artifact.add_file('data.csv')\n",
        "  wandb.log_artifact(artifact)"
      ],
      "execution_count": 34,
      "outputs": []
    },
    {
      "cell_type": "markdown",
      "metadata": {
        "id": "wox-dMcz84Bt"
      },
      "source": [
        "## Helpers functions"
      ]
    },
    {
      "cell_type": "code",
      "metadata": {
        "id": "2964REdr80Gd"
      },
      "source": [
        "def ngrams(tokens, n=2, sep='-'):\n",
        "    return [sep.join(ngram) for ngram in zip(*[tokens[i:] for i in range(n)])]"
      ],
      "execution_count": 35,
      "outputs": []
    },
    {
      "cell_type": "code",
      "metadata": {
        "id": "W42rugQPNYVP"
      },
      "source": [
        "def raw_chords_to_df(tunes):\n",
        "  tunes_chords = [item for tune in tunes for item in tune]\n",
        "  counts = Counter(tunes_chords)\n",
        "  df = pd.DataFrame(counts.items(),\n",
        "                    columns=['chord', 'count']).sort_values(by='count', ascending=False)\n",
        "\n",
        "  return df"
      ],
      "execution_count": 36,
      "outputs": []
    },
    {
      "cell_type": "markdown",
      "metadata": {
        "id": "umfsNtAdF0jM"
      },
      "source": [
        "# Data Preparation"
      ]
    },
    {
      "cell_type": "code",
      "metadata": {
        "id": "dCLwnqoVGcMw"
      },
      "source": [
        "lines = df.loc[:, 'chords'].tolist()\n",
        "data = [line.split(' ') for line in lines]"
      ],
      "execution_count": 37,
      "outputs": []
    },
    {
      "cell_type": "code",
      "metadata": {
        "colab": {
          "base_uri": "https://localhost:8080/"
        },
        "id": "g7SmApW9F3K6",
        "outputId": "6b413f18-346b-440b-ddca-f48a00c473c8"
      },
      "source": [
        "processed_corpus = []\n",
        "for line in data:\n",
        "  tune_n = []\n",
        "  for n in ngrams_for_input:\n",
        "    tune_n.extend(ngrams(line, n=n))\n",
        "  processed_corpus.append(tune_n)\n",
        "\n",
        "for line in processed_corpus[:5]:\n",
        "  print(line)"
      ],
      "execution_count": 38,
      "outputs": [
        {
          "output_type": "stream",
          "name": "stdout",
          "text": [
            "['C', 'Eb7', 'G#', 'B7', 'E', 'G7', 'Gm', 'C7', 'F', 'G#7', 'C#', 'E7', 'Am', 'D7', 'Dm', 'G7']\n",
            "['C', 'Eb7', 'G#', 'B7', 'E', 'G7', 'Gm', 'C7', 'F', 'Eb7', 'G#', 'B7', 'E', 'G7', 'C']\n",
            "['Gm', 'C7', 'Bm', 'E7', 'A', 'C7', 'F', 'Bbm', 'Eb7', 'G#', 'Dm', 'G7']\n",
            "['C', 'Eb7', 'G#', 'B7', 'E', 'G7', 'Gm', 'C7', 'F', 'Eb7', 'G#', 'B7', 'E', 'G7', 'C']\n",
            "['Am', 'Am', 'Cm', 'Cm', 'Eb', 'Eb', 'Em7b5', 'A7', 'Dm', 'Dm', 'Bm7b5', 'Bm7b5', 'Bbm', 'Bbm', 'Fm', 'Fm', 'E7', 'E7', 'Fm', 'Fm', 'C#', 'C#', 'Fm', 'Fm', 'C#', 'C#']\n"
          ]
        }
      ]
    },
    {
      "cell_type": "markdown",
      "metadata": {
        "id": "Sri0K2DhNagp"
      },
      "source": [
        "#### Corpus Overview"
      ]
    },
    {
      "cell_type": "code",
      "metadata": {
        "colab": {
          "base_uri": "https://localhost:8080/"
        },
        "id": "X2ZqA7IF4ufg",
        "outputId": "dfb794ea-797e-45ac-bf87-1eb099d66c2e"
      },
      "source": [
        "tokens = [item for l in processed_corpus for item in l]\n",
        "total_tokens = len(tokens)\n",
        "vocab_size = len(set(tokens))\n",
        "vocab_prop = 100*vocab_size/total_tokens\n",
        "\n",
        "print(f\"Total Number of tokens: {total_tokens}\")\n",
        "print(f\"Size of vocabulary: {vocab_size}\")\n",
        "print(f\"Proportion of vocabulary in corpus: {vocab_prop:.02f}%\")"
      ],
      "execution_count": 39,
      "outputs": [
        {
          "output_type": "stream",
          "name": "stdout",
          "text": [
            "Total Number of tokens: 82622\n",
            "Size of vocabulary: 72\n",
            "Proportion of vocabulary in corpus: 0.09%\n"
          ]
        }
      ]
    },
    {
      "cell_type": "code",
      "metadata": {
        "colab": {
          "base_uri": "https://localhost:8080/",
          "height": 424
        },
        "id": "rULq3jYVNh_x",
        "outputId": "be54b47c-7c0a-4b79-a220-53fb14bfca11"
      },
      "source": [
        "df_chords = raw_chords_to_df(processed_corpus)\n",
        "df_chords"
      ],
      "execution_count": 40,
      "outputs": [
        {
          "output_type": "execute_result",
          "data": {
            "text/html": [
              "<div>\n",
              "<style scoped>\n",
              "    .dataframe tbody tr th:only-of-type {\n",
              "        vertical-align: middle;\n",
              "    }\n",
              "\n",
              "    .dataframe tbody tr th {\n",
              "        vertical-align: top;\n",
              "    }\n",
              "\n",
              "    .dataframe thead th {\n",
              "        text-align: right;\n",
              "    }\n",
              "</style>\n",
              "<table border=\"1\" class=\"dataframe\">\n",
              "  <thead>\n",
              "    <tr style=\"text-align: right;\">\n",
              "      <th></th>\n",
              "      <th>chord</th>\n",
              "      <th>count</th>\n",
              "    </tr>\n",
              "  </thead>\n",
              "  <tbody>\n",
              "    <tr>\n",
              "      <th>0</th>\n",
              "      <td>C</td>\n",
              "      <td>14387</td>\n",
              "    </tr>\n",
              "    <tr>\n",
              "      <th>5</th>\n",
              "      <td>G7</td>\n",
              "      <td>11144</td>\n",
              "    </tr>\n",
              "    <tr>\n",
              "      <th>14</th>\n",
              "      <td>Dm</td>\n",
              "      <td>7991</td>\n",
              "    </tr>\n",
              "    <tr>\n",
              "      <th>12</th>\n",
              "      <td>Am</td>\n",
              "      <td>5724</td>\n",
              "    </tr>\n",
              "    <tr>\n",
              "      <th>21</th>\n",
              "      <td>A7</td>\n",
              "      <td>4467</td>\n",
              "    </tr>\n",
              "    <tr>\n",
              "      <th>...</th>\n",
              "      <td>...</td>\n",
              "      <td>...</td>\n",
              "    </tr>\n",
              "    <tr>\n",
              "      <th>62</th>\n",
              "      <td>Ddim</td>\n",
              "      <td>13</td>\n",
              "    </tr>\n",
              "    <tr>\n",
              "      <th>70</th>\n",
              "      <td>G#7(+b5)</td>\n",
              "      <td>12</td>\n",
              "    </tr>\n",
              "    <tr>\n",
              "      <th>65</th>\n",
              "      <td>F7(+b5)</td>\n",
              "      <td>9</td>\n",
              "    </tr>\n",
              "    <tr>\n",
              "      <th>69</th>\n",
              "      <td>Cm7b5</td>\n",
              "      <td>9</td>\n",
              "    </tr>\n",
              "    <tr>\n",
              "      <th>71</th>\n",
              "      <td>Eb7(+b5)</td>\n",
              "      <td>6</td>\n",
              "    </tr>\n",
              "  </tbody>\n",
              "</table>\n",
              "<p>72 rows × 2 columns</p>\n",
              "</div>"
            ],
            "text/plain": [
              "       chord  count\n",
              "0          C  14387\n",
              "5         G7  11144\n",
              "14        Dm   7991\n",
              "12        Am   5724\n",
              "21        A7   4467\n",
              "..       ...    ...\n",
              "62      Ddim     13\n",
              "70  G#7(+b5)     12\n",
              "65   F7(+b5)      9\n",
              "69     Cm7b5      9\n",
              "71  Eb7(+b5)      6\n",
              "\n",
              "[72 rows x 2 columns]"
            ]
          },
          "metadata": {},
          "execution_count": 40
        }
      ]
    },
    {
      "cell_type": "code",
      "metadata": {
        "colab": {
          "base_uri": "https://localhost:8080/",
          "height": 560
        },
        "id": "G9fknTouNmKm",
        "outputId": "6496df57-e4e1-409c-93c4-0aec6b8cf9f7"
      },
      "source": [
        "df_chords = pd.DataFrame.from_dict(df_chords)\n",
        "df_chords.sort_values(by=['count'], ascending=False, inplace=True)\n",
        "df_chords_top = df_chords.query('count > 100')\n",
        "\n",
        "fig = px.bar(df_chords_top, x='chord', y='count', log_y=True)\n",
        "fig.update_layout(barmode='stack', xaxis={'categoryorder':'total descending'})\n",
        "fig.show()"
      ],
      "execution_count": 41,
      "outputs": [
        {
          "output_type": "stream",
          "name": "stderr",
          "text": [
            "2021-11-28 07:12:17,054 : INFO : NumExpr defaulting to 2 threads.\n"
          ]
        },
        {
          "output_type": "display_data",
          "data": {
            "text/html": [
              "<html>\n",
              "<head><meta charset=\"utf-8\" /></head>\n",
              "<body>\n",
              "    <div>\n",
              "            <script src=\"https://cdnjs.cloudflare.com/ajax/libs/mathjax/2.7.5/MathJax.js?config=TeX-AMS-MML_SVG\"></script><script type=\"text/javascript\">if (window.MathJax) {MathJax.Hub.Config({SVG: {font: \"STIX-Web\"}});}</script>\n",
              "                <script type=\"text/javascript\">window.PlotlyConfig = {MathJaxConfig: 'local'};</script>\n",
              "        <script src=\"https://cdn.plot.ly/plotly-latest.min.js\"></script>    \n",
              "            <div id=\"5bf38097-8b58-49c4-8cd5-84b50694d640\" class=\"plotly-graph-div\" style=\"height:525px; width:100%;\"></div>\n",
              "            <script type=\"text/javascript\">\n",
              "                \n",
              "                    window.PLOTLYENV=window.PLOTLYENV || {};\n",
              "                    \n",
              "                if (document.getElementById(\"5bf38097-8b58-49c4-8cd5-84b50694d640\")) {\n",
              "                    Plotly.newPlot(\n",
              "                        '5bf38097-8b58-49c4-8cd5-84b50694d640',\n",
              "                        [{\"alignmentgroup\": \"True\", \"hoverlabel\": {\"namelength\": 0}, \"hovertemplate\": \"chord=%{x}<br>count=%{y}\", \"legendgroup\": \"\", \"marker\": {\"color\": \"#636efa\"}, \"name\": \"\", \"offsetgroup\": \"\", \"orientation\": \"v\", \"showlegend\": false, \"textposition\": \"auto\", \"type\": \"bar\", \"x\": [\"C\", \"G7\", \"Dm\", \"Am\", \"A7\", \"D7\", \"F\", \"C7\", \"E7\", \"Em\", \"F7\", \"Bb7\", \"Fm\", \"B7\", \"Gm\", \"G#7\", \"Bm7b5\", \"G\", \"Ebdim\", \"Eb7\", \"Cm\", \"F#m7b5\", \"G#\", \"Bm\", \"C#7\", \"Bb\", \"Em7b5\", \"E\", \"F#m\", \"F#7\", \"Eb\", \"F#dim\", \"C#dim\", \"Ebm\", \"C#\", \"A\", \"Dm7b5\", \"Bbm\", \"D\", \"C#m\", \"Cdim\", \"B\", \"G#m\", \"F#\"], \"xaxis\": \"x\", \"y\": [14387, 11144, 7991, 5724, 4467, 3986, 3746, 3428, 3175, 2710, 1722, 1639, 1625, 1408, 1283, 975, 922, 890, 697, 622, 606, 554, 519, 511, 498, 494, 480, 474, 453, 443, 407, 406, 388, 365, 342, 329, 316, 305, 293, 266, 214, 173, 159, 144], \"yaxis\": \"y\"}],\n",
              "                        {\"barmode\": \"stack\", \"legend\": {\"tracegroupgap\": 0}, \"margin\": {\"t\": 60}, \"template\": {\"data\": {\"bar\": [{\"error_x\": {\"color\": \"#2a3f5f\"}, \"error_y\": {\"color\": \"#2a3f5f\"}, \"marker\": {\"line\": {\"color\": \"#E5ECF6\", \"width\": 0.5}}, \"type\": \"bar\"}], \"barpolar\": [{\"marker\": {\"line\": {\"color\": \"#E5ECF6\", \"width\": 0.5}}, \"type\": \"barpolar\"}], \"carpet\": [{\"aaxis\": {\"endlinecolor\": \"#2a3f5f\", \"gridcolor\": \"white\", \"linecolor\": \"white\", \"minorgridcolor\": \"white\", \"startlinecolor\": \"#2a3f5f\"}, \"baxis\": {\"endlinecolor\": \"#2a3f5f\", \"gridcolor\": \"white\", \"linecolor\": \"white\", \"minorgridcolor\": \"white\", \"startlinecolor\": \"#2a3f5f\"}, \"type\": \"carpet\"}], \"choropleth\": [{\"colorbar\": {\"outlinewidth\": 0, \"ticks\": \"\"}, \"type\": \"choropleth\"}], \"contour\": [{\"colorbar\": {\"outlinewidth\": 0, \"ticks\": \"\"}, \"colorscale\": [[0.0, \"#0d0887\"], [0.1111111111111111, \"#46039f\"], [0.2222222222222222, \"#7201a8\"], [0.3333333333333333, \"#9c179e\"], [0.4444444444444444, \"#bd3786\"], [0.5555555555555556, \"#d8576b\"], [0.6666666666666666, \"#ed7953\"], [0.7777777777777778, \"#fb9f3a\"], [0.8888888888888888, \"#fdca26\"], [1.0, \"#f0f921\"]], \"type\": \"contour\"}], \"contourcarpet\": [{\"colorbar\": {\"outlinewidth\": 0, \"ticks\": \"\"}, \"type\": \"contourcarpet\"}], \"heatmap\": [{\"colorbar\": {\"outlinewidth\": 0, \"ticks\": \"\"}, \"colorscale\": [[0.0, \"#0d0887\"], [0.1111111111111111, \"#46039f\"], [0.2222222222222222, \"#7201a8\"], [0.3333333333333333, \"#9c179e\"], [0.4444444444444444, \"#bd3786\"], [0.5555555555555556, \"#d8576b\"], [0.6666666666666666, \"#ed7953\"], [0.7777777777777778, \"#fb9f3a\"], [0.8888888888888888, \"#fdca26\"], [1.0, \"#f0f921\"]], \"type\": \"heatmap\"}], \"heatmapgl\": [{\"colorbar\": {\"outlinewidth\": 0, \"ticks\": \"\"}, \"colorscale\": [[0.0, \"#0d0887\"], [0.1111111111111111, \"#46039f\"], [0.2222222222222222, \"#7201a8\"], [0.3333333333333333, \"#9c179e\"], [0.4444444444444444, \"#bd3786\"], [0.5555555555555556, \"#d8576b\"], [0.6666666666666666, \"#ed7953\"], [0.7777777777777778, \"#fb9f3a\"], [0.8888888888888888, \"#fdca26\"], [1.0, \"#f0f921\"]], \"type\": \"heatmapgl\"}], \"histogram\": [{\"marker\": {\"colorbar\": {\"outlinewidth\": 0, \"ticks\": \"\"}}, \"type\": \"histogram\"}], \"histogram2d\": [{\"colorbar\": {\"outlinewidth\": 0, \"ticks\": \"\"}, \"colorscale\": [[0.0, \"#0d0887\"], [0.1111111111111111, \"#46039f\"], [0.2222222222222222, \"#7201a8\"], [0.3333333333333333, \"#9c179e\"], [0.4444444444444444, \"#bd3786\"], [0.5555555555555556, \"#d8576b\"], [0.6666666666666666, \"#ed7953\"], [0.7777777777777778, \"#fb9f3a\"], [0.8888888888888888, \"#fdca26\"], [1.0, \"#f0f921\"]], \"type\": \"histogram2d\"}], \"histogram2dcontour\": [{\"colorbar\": {\"outlinewidth\": 0, \"ticks\": \"\"}, \"colorscale\": [[0.0, \"#0d0887\"], [0.1111111111111111, \"#46039f\"], [0.2222222222222222, \"#7201a8\"], [0.3333333333333333, \"#9c179e\"], [0.4444444444444444, \"#bd3786\"], [0.5555555555555556, \"#d8576b\"], [0.6666666666666666, \"#ed7953\"], [0.7777777777777778, \"#fb9f3a\"], [0.8888888888888888, \"#fdca26\"], [1.0, \"#f0f921\"]], \"type\": \"histogram2dcontour\"}], \"mesh3d\": [{\"colorbar\": {\"outlinewidth\": 0, \"ticks\": \"\"}, \"type\": \"mesh3d\"}], \"parcoords\": [{\"line\": {\"colorbar\": {\"outlinewidth\": 0, \"ticks\": \"\"}}, \"type\": \"parcoords\"}], \"pie\": [{\"automargin\": true, \"type\": \"pie\"}], \"scatter\": [{\"marker\": {\"colorbar\": {\"outlinewidth\": 0, \"ticks\": \"\"}}, \"type\": \"scatter\"}], \"scatter3d\": [{\"line\": {\"colorbar\": {\"outlinewidth\": 0, \"ticks\": \"\"}}, \"marker\": {\"colorbar\": {\"outlinewidth\": 0, \"ticks\": \"\"}}, \"type\": \"scatter3d\"}], \"scattercarpet\": [{\"marker\": {\"colorbar\": {\"outlinewidth\": 0, \"ticks\": \"\"}}, \"type\": \"scattercarpet\"}], \"scattergeo\": [{\"marker\": {\"colorbar\": {\"outlinewidth\": 0, \"ticks\": \"\"}}, \"type\": \"scattergeo\"}], \"scattergl\": [{\"marker\": {\"colorbar\": {\"outlinewidth\": 0, \"ticks\": \"\"}}, \"type\": \"scattergl\"}], \"scattermapbox\": [{\"marker\": {\"colorbar\": {\"outlinewidth\": 0, \"ticks\": \"\"}}, \"type\": \"scattermapbox\"}], \"scatterpolar\": [{\"marker\": {\"colorbar\": {\"outlinewidth\": 0, \"ticks\": \"\"}}, \"type\": \"scatterpolar\"}], \"scatterpolargl\": [{\"marker\": {\"colorbar\": {\"outlinewidth\": 0, \"ticks\": \"\"}}, \"type\": \"scatterpolargl\"}], \"scatterternary\": [{\"marker\": {\"colorbar\": {\"outlinewidth\": 0, \"ticks\": \"\"}}, \"type\": \"scatterternary\"}], \"surface\": [{\"colorbar\": {\"outlinewidth\": 0, \"ticks\": \"\"}, \"colorscale\": [[0.0, \"#0d0887\"], [0.1111111111111111, \"#46039f\"], [0.2222222222222222, \"#7201a8\"], [0.3333333333333333, \"#9c179e\"], [0.4444444444444444, \"#bd3786\"], [0.5555555555555556, \"#d8576b\"], [0.6666666666666666, \"#ed7953\"], [0.7777777777777778, \"#fb9f3a\"], [0.8888888888888888, \"#fdca26\"], [1.0, \"#f0f921\"]], \"type\": \"surface\"}], \"table\": [{\"cells\": {\"fill\": {\"color\": \"#EBF0F8\"}, \"line\": {\"color\": \"white\"}}, \"header\": {\"fill\": {\"color\": \"#C8D4E3\"}, \"line\": {\"color\": \"white\"}}, \"type\": \"table\"}]}, \"layout\": {\"annotationdefaults\": {\"arrowcolor\": \"#2a3f5f\", \"arrowhead\": 0, \"arrowwidth\": 1}, \"coloraxis\": {\"colorbar\": {\"outlinewidth\": 0, \"ticks\": \"\"}}, \"colorscale\": {\"diverging\": [[0, \"#8e0152\"], [0.1, \"#c51b7d\"], [0.2, \"#de77ae\"], [0.3, \"#f1b6da\"], [0.4, \"#fde0ef\"], [0.5, \"#f7f7f7\"], [0.6, \"#e6f5d0\"], [0.7, \"#b8e186\"], [0.8, \"#7fbc41\"], [0.9, \"#4d9221\"], [1, \"#276419\"]], \"sequential\": [[0.0, \"#0d0887\"], [0.1111111111111111, \"#46039f\"], [0.2222222222222222, \"#7201a8\"], [0.3333333333333333, \"#9c179e\"], [0.4444444444444444, \"#bd3786\"], [0.5555555555555556, \"#d8576b\"], [0.6666666666666666, \"#ed7953\"], [0.7777777777777778, \"#fb9f3a\"], [0.8888888888888888, \"#fdca26\"], [1.0, \"#f0f921\"]], \"sequentialminus\": [[0.0, \"#0d0887\"], [0.1111111111111111, \"#46039f\"], [0.2222222222222222, \"#7201a8\"], [0.3333333333333333, \"#9c179e\"], [0.4444444444444444, \"#bd3786\"], [0.5555555555555556, \"#d8576b\"], [0.6666666666666666, \"#ed7953\"], [0.7777777777777778, \"#fb9f3a\"], [0.8888888888888888, \"#fdca26\"], [1.0, \"#f0f921\"]]}, \"colorway\": [\"#636efa\", \"#EF553B\", \"#00cc96\", \"#ab63fa\", \"#FFA15A\", \"#19d3f3\", \"#FF6692\", \"#B6E880\", \"#FF97FF\", \"#FECB52\"], \"font\": {\"color\": \"#2a3f5f\"}, \"geo\": {\"bgcolor\": \"white\", \"lakecolor\": \"white\", \"landcolor\": \"#E5ECF6\", \"showlakes\": true, \"showland\": true, \"subunitcolor\": \"white\"}, \"hoverlabel\": {\"align\": \"left\"}, \"hovermode\": \"closest\", \"mapbox\": {\"style\": \"light\"}, \"paper_bgcolor\": \"white\", \"plot_bgcolor\": \"#E5ECF6\", \"polar\": {\"angularaxis\": {\"gridcolor\": \"white\", \"linecolor\": \"white\", \"ticks\": \"\"}, \"bgcolor\": \"#E5ECF6\", \"radialaxis\": {\"gridcolor\": \"white\", \"linecolor\": \"white\", \"ticks\": \"\"}}, \"scene\": {\"xaxis\": {\"backgroundcolor\": \"#E5ECF6\", \"gridcolor\": \"white\", \"gridwidth\": 2, \"linecolor\": \"white\", \"showbackground\": true, \"ticks\": \"\", \"zerolinecolor\": \"white\"}, \"yaxis\": {\"backgroundcolor\": \"#E5ECF6\", \"gridcolor\": \"white\", \"gridwidth\": 2, \"linecolor\": \"white\", \"showbackground\": true, \"ticks\": \"\", \"zerolinecolor\": \"white\"}, \"zaxis\": {\"backgroundcolor\": \"#E5ECF6\", \"gridcolor\": \"white\", \"gridwidth\": 2, \"linecolor\": \"white\", \"showbackground\": true, \"ticks\": \"\", \"zerolinecolor\": \"white\"}}, \"shapedefaults\": {\"line\": {\"color\": \"#2a3f5f\"}}, \"ternary\": {\"aaxis\": {\"gridcolor\": \"white\", \"linecolor\": \"white\", \"ticks\": \"\"}, \"baxis\": {\"gridcolor\": \"white\", \"linecolor\": \"white\", \"ticks\": \"\"}, \"bgcolor\": \"#E5ECF6\", \"caxis\": {\"gridcolor\": \"white\", \"linecolor\": \"white\", \"ticks\": \"\"}}, \"title\": {\"x\": 0.05}, \"xaxis\": {\"automargin\": true, \"gridcolor\": \"white\", \"linecolor\": \"white\", \"ticks\": \"\", \"title\": {\"standoff\": 15}, \"zerolinecolor\": \"white\", \"zerolinewidth\": 2}, \"yaxis\": {\"automargin\": true, \"gridcolor\": \"white\", \"linecolor\": \"white\", \"ticks\": \"\", \"title\": {\"standoff\": 15}, \"zerolinecolor\": \"white\", \"zerolinewidth\": 2}}}, \"xaxis\": {\"anchor\": \"y\", \"categoryorder\": \"total descending\", \"domain\": [0.0, 1.0], \"title\": {\"text\": \"chord\"}}, \"yaxis\": {\"anchor\": \"x\", \"domain\": [0.0, 1.0], \"title\": {\"text\": \"count\"}, \"type\": \"log\"}},\n",
              "                        {\"responsive\": true}\n",
              "                    ).then(function(){\n",
              "                            \n",
              "var gd = document.getElementById('5bf38097-8b58-49c4-8cd5-84b50694d640');\n",
              "var x = new MutationObserver(function (mutations, observer) {{\n",
              "        var display = window.getComputedStyle(gd).display;\n",
              "        if (!display || display === 'none') {{\n",
              "            console.log([gd, 'removed!']);\n",
              "            Plotly.purge(gd);\n",
              "            observer.disconnect();\n",
              "        }}\n",
              "}});\n",
              "\n",
              "// Listen for the removal of the full notebook cells\n",
              "var notebookContainer = gd.closest('#notebook-container');\n",
              "if (notebookContainer) {{\n",
              "    x.observe(notebookContainer, {childList: true});\n",
              "}}\n",
              "\n",
              "// Listen for the clearing of the current output cell\n",
              "var outputEl = gd.closest('.output');\n",
              "if (outputEl) {{\n",
              "    x.observe(outputEl, {childList: true});\n",
              "}}\n",
              "\n",
              "                        })\n",
              "                };\n",
              "                \n",
              "            </script>\n",
              "        </div>\n",
              "</body>\n",
              "</html>"
            ]
          },
          "metadata": {}
        }
      ]
    },
    {
      "cell_type": "markdown",
      "metadata": {
        "id": "cG5dtDpkWwLE"
      },
      "source": [
        "Plot Distribution accoring to Zipf's Law\n",
        "\n",
        "source: https://stats.stackexchange.com/questions/331219/characterizing-fitting-word-count-data-into-zipf-power-law-lognormal"
      ]
    },
    {
      "cell_type": "code",
      "metadata": {
        "id": "tazf9QRST5NP"
      },
      "source": [
        "from collections import Counter\n",
        "\n",
        "counter_of_words = df_chords.set_index('chord').to_dict(orient='dict')\n",
        "counter_of_words = Counter(counter_of_words['count'])\n",
        "counter_of_counts = Counter(counter_of_words.values())\n",
        "\n",
        "word_counts = np.array(list(counter_of_counts.keys()))\n",
        "freq_of_word_counts = np.array(list(counter_of_counts.values()))"
      ],
      "execution_count": 42,
      "outputs": []
    },
    {
      "cell_type": "code",
      "metadata": {
        "colab": {
          "base_uri": "https://localhost:8080/",
          "height": 295
        },
        "id": "Jc80DSe7QlkV",
        "outputId": "794c6555-4194-456a-ebfa-e5fcfd08e377"
      },
      "source": [
        "plt.scatter(np.log(word_counts), np.log(freq_of_word_counts))\n",
        "plt.xlabel('Log of word frequency')\n",
        "plt.ylabel('Log of number of such words')\n",
        "plt.title('Power law for word frequencies')\n",
        "\n",
        "plt.savefig('plot.png')"
      ],
      "execution_count": 43,
      "outputs": [
        {
          "output_type": "display_data",
          "data": {
            "image/png": "[encoded data removed]",
            "text/plain": [
              "<Figure size 432x288 with 1 Axes>"
            ]
          },
          "metadata": {
            "needs_background": "light"
          }
        }
      ]
    },
    {
      "cell_type": "code",
      "metadata": {
        "colab": {
          "base_uri": "https://localhost:8080/"
        },
        "id": "TRQxnw3XXfit",
        "outputId": "484b218f-8b40-4ae6-80a3-3e2b13e4409c"
      },
      "source": [
        "def neg_zipf_likelihood(s):\n",
        "    n = sum(freq_of_word_counts)\n",
        "    # for each word count, find the probability that a random word has such word count\n",
        "    probas = word_counts ** (-s) / np.sum(np.arange(1, n+1) **(-s))\n",
        "    log_likelihood = sum(np.log(probas) * word_counts)\n",
        "    return -log_likelihood\n",
        "\n",
        "from scipy.optimize import minimize_scalar\n",
        "s_best = minimize_scalar(neg_zipf_likelihood, [0.1, 3.0] )\n",
        "print(s_best.x)"
      ],
      "execution_count": 44,
      "outputs": [
        {
          "output_type": "stream",
          "name": "stdout",
          "text": [
            "-399.3962569709492\n"
          ]
        },
        {
          "output_type": "stream",
          "name": "stderr",
          "text": [
            "/usr/local/lib/python3.7/dist-packages/ipykernel_launcher.py:4: RuntimeWarning:\n",
            "\n",
            "overflow encountered in power\n",
            "\n",
            "/usr/local/lib/python3.7/dist-packages/ipykernel_launcher.py:4: RuntimeWarning:\n",
            "\n",
            "invalid value encountered in true_divide\n",
            "\n",
            "/usr/local/lib/python3.7/dist-packages/scipy/optimize/optimize.py:1986: RuntimeWarning:\n",
            "\n",
            "invalid value encountered in double_scalars\n",
            "\n",
            "/usr/local/lib/python3.7/dist-packages/scipy/optimize/optimize.py:1987: RuntimeWarning:\n",
            "\n",
            "invalid value encountered in double_scalars\n",
            "\n",
            "/usr/local/lib/python3.7/dist-packages/ipykernel_launcher.py:5: RuntimeWarning:\n",
            "\n",
            "divide by zero encountered in log\n",
            "\n"
          ]
        }
      ]
    },
    {
      "cell_type": "code",
      "metadata": {
        "id": "a1IvM4wh7zOv"
      },
      "source": [
        "if use_wandb:\n",
        "  wandb.log(\n",
        "      {\"corpus\": {\n",
        "              \"total_tokens\": total_tokens,\n",
        "              \"vocab_size\": vocab_size,\n",
        "              \"vocab_proportion_in_corpus\": vocab_prop,\n",
        "              \"zipf_plot\": wandb.Image('plot.png'),\n",
        "              }\n",
        "      }\n",
        "  )"
      ],
      "execution_count": 45,
      "outputs": []
    },
    {
      "cell_type": "markdown",
      "metadata": {
        "id": "LeRGFeTn89Uc"
      },
      "source": [
        "# TF-IDF"
      ]
    },
    {
      "cell_type": "code",
      "metadata": {
        "colab": {
          "base_uri": "https://localhost:8080/"
        },
        "id": "pBdUdBNr9Gmu",
        "outputId": "1aa4e2a9-7d91-4cf2-ec15-62e30dff32a3"
      },
      "source": [
        "dictionary = corpora.Dictionary(processed_corpus)\n",
        "bow_corpus = [dictionary.doc2bow(text) for text in processed_corpus]\n",
        "tfidf = TfidfModel(bow_corpus)"
      ],
      "execution_count": 46,
      "outputs": [
        {
          "output_type": "stream",
          "name": "stderr",
          "text": [
            "2021-11-28 07:12:18,256 : INFO : adding document #0 to Dictionary(0 unique tokens: [])\n",
            "2021-11-28 07:12:18,404 : INFO : built Dictionary(72 unique tokens: ['Am', 'B7', 'C', 'C#', 'C7']...) from 5391 documents (total 82622 corpus positions)\n",
            "2021-11-28 07:12:18,406 : INFO : Dictionary lifecycle event {'msg': \"built Dictionary(72 unique tokens: ['Am', 'B7', 'C', 'C#', 'C7']...) from 5391 documents (total 82622 corpus positions)\", 'datetime': '2021-11-28T07:12:18.406199', 'gensim': '4.1.2', 'python': '3.7.12 (default, Sep 10 2021, 00:21:48) \\n[GCC 7.5.0]', 'platform': 'Linux-5.4.104+-x86_64-with-Ubuntu-18.04-bionic', 'event': 'created'}\n",
            "2021-11-28 07:12:18,468 : INFO : collecting document frequencies\n",
            "2021-11-28 07:12:18,470 : INFO : PROGRESS: processing document #0\n",
            "2021-11-28 07:12:18,486 : INFO : TfidfModel lifecycle event {'msg': 'calculated IDF weights for 5391 documents and 72 features (41238 matrix non-zeros)', 'datetime': '2021-11-28T07:12:18.486050', 'gensim': '4.1.2', 'python': '3.7.12 (default, Sep 10 2021, 00:21:48) \\n[GCC 7.5.0]', 'platform': 'Linux-5.4.104+-x86_64-with-Ubuntu-18.04-bionic', 'event': 'initialize'}\n"
          ]
        }
      ]
    },
    {
      "cell_type": "code",
      "metadata": {
        "id": "9NK-cuax9Kqk"
      },
      "source": [
        "# dictionary.token2id"
      ],
      "execution_count": 47,
      "outputs": []
    },
    {
      "cell_type": "code",
      "metadata": {
        "id": "til5xlce_y1m"
      },
      "source": [
        "!rm -R index\n",
        "!mkdir index"
      ],
      "execution_count": 48,
      "outputs": []
    },
    {
      "cell_type": "code",
      "metadata": {
        "colab": {
          "base_uri": "https://localhost:8080/"
        },
        "id": "tn_fz2M090IM",
        "outputId": "65ec0f0f-9c68-4a05-9287-9d1bfd8bb800"
      },
      "source": [
        "# Note: SparseMatrixSimilarity crashes due to lacking memory\n",
        "#from gensim.test.utils import get_tmpfile\n",
        "#index_tmpfile = get_tmpfile(\"index\")\n",
        "#index_tfidf = similarities.Similarity('/content/index/index_tfidf', bow_corpus, num_features=len(dictionary))\n",
        "\n",
        "index_tfidf = similarities.SparseMatrixSimilarity(tfidf[bow_corpus], num_features = len(dictionary))"
      ],
      "execution_count": 49,
      "outputs": [
        {
          "output_type": "stream",
          "name": "stderr",
          "text": [
            "2021-11-28 07:12:18,765 : INFO : creating sparse index\n",
            "2021-11-28 07:12:18,767 : INFO : creating sparse matrix from corpus\n",
            "2021-11-28 07:12:18,772 : INFO : PROGRESS: at document #0\n",
            "2021-11-28 07:12:19,130 : INFO : created <5391x72 sparse matrix of type '<class 'numpy.float32'>'\n",
            "\twith 41238 stored elements in Compressed Sparse Row format>\n"
          ]
        }
      ]
    },
    {
      "cell_type": "code",
      "metadata": {
        "colab": {
          "base_uri": "https://localhost:8080/"
        },
        "id": "VRSUXNPTewqv",
        "outputId": "5a956a6f-be14-4c47-cc74-7e6d13c1b00e"
      },
      "source": [
        "tfidf.save('/content/index/tfidf.model')  # save model\n",
        "index_tfidf.save('/content/index/tfidf.index') #save index"
      ],
      "execution_count": 50,
      "outputs": [
        {
          "output_type": "stream",
          "name": "stderr",
          "text": [
            "2021-11-28 07:12:19,153 : INFO : TfidfModel lifecycle event {'fname_or_handle': '/content/index/tfidf.model', 'separately': 'None', 'sep_limit': 10485760, 'ignore': frozenset(), 'datetime': '2021-11-28T07:12:19.153897', 'gensim': '4.1.2', 'python': '3.7.12 (default, Sep 10 2021, 00:21:48) \\n[GCC 7.5.0]', 'platform': 'Linux-5.4.104+-x86_64-with-Ubuntu-18.04-bionic', 'event': 'saving'}\n",
            "2021-11-28 07:12:19,163 : INFO : saved /content/index/tfidf.model\n",
            "2021-11-28 07:12:19,166 : INFO : SparseMatrixSimilarity lifecycle event {'fname_or_handle': '/content/index/tfidf.index', 'separately': 'None', 'sep_limit': 10485760, 'ignore': frozenset(), 'datetime': '2021-11-28T07:12:19.166728', 'gensim': '4.1.2', 'python': '3.7.12 (default, Sep 10 2021, 00:21:48) \\n[GCC 7.5.0]', 'platform': 'Linux-5.4.104+-x86_64-with-Ubuntu-18.04-bionic', 'event': 'saving'}\n",
            "2021-11-28 07:12:19,170 : INFO : saved /content/index/tfidf.index\n"
          ]
        }
      ]
    },
    {
      "cell_type": "markdown",
      "metadata": {
        "id": "ZLK0coIu9Tv5"
      },
      "source": [
        "## Tests"
      ]
    },
    {
      "cell_type": "code",
      "metadata": {
        "id": "Fzrj1qxwDpJT"
      },
      "source": [
        "def get_sim_scores(tunes, index, model):\n",
        "\n",
        "    df_sim = pd.DataFrame(columns=['reference_title',\n",
        "                                   'reference_titleid',\n",
        "                                   'similar_title',\n",
        "                                   'similar_titleid',\n",
        "                                   'ref_section', \n",
        "                                   'similar_section', \n",
        "                                   'score', \n",
        "                                  ])\n",
        "\n",
        "    for tune in tunes:\n",
        "      print()\n",
        "      print(\"-\"*50)\n",
        "      for s1 in title_to_sectionid[tune]:\n",
        "      \n",
        "          query = processed_corpus[s1]\n",
        "          query_bow = dictionary.doc2bow(query)\n",
        "\n",
        "          # perform a similarity query against the corpus\n",
        "          similarities = index[model[query_bow]]\n",
        "          sims = sorted(enumerate(similarities), key=lambda item: -item[1])\n",
        "          \n",
        "          print(s1, sectionid_to_section[s1])\n",
        "          n = 0\n",
        "          for s2, s2_score in sims:\n",
        "            \n",
        "            # store the top N best results\n",
        "            if n > 20:\n",
        "                break\n",
        "            # don't count self-similarity between sections of the same tune\n",
        "            if s2 not in title_to_sectionid[tune]:\n",
        "                n += 1\n",
        "            \n",
        "                # print(f\"\\t{s2_score:.3f} {sectionid_to_section[s2]}\")\n",
        "\n",
        "                df_sim.loc[len(df_sim)] = [tune,\n",
        "                                           title_to_titleid[tune],\n",
        "                                           sectionid_to_title[s2],\n",
        "                                           sectionid_to_titleid[s2],\n",
        "                                           sectionid_to_section[s1], \n",
        "                                           sectionid_to_section[s2], \n",
        "                                           s2_score, \n",
        "                                           ]\n",
        "    return df_sim"
      ],
      "execution_count": 51,
      "outputs": []
    },
    {
      "cell_type": "code",
      "metadata": {
        "id": "OZ0YfkIO9g5V"
      },
      "source": [
        "def recommend_tune(df, tune_name):\n",
        "\n",
        "  df_tune = df.query(f'reference_title == \"{tune_name}\"')\n",
        "  ff = df_tune.iloc[:]\n",
        "\n",
        "  # get the maximum similarity score for each section and store in new column\n",
        "  ff['max'] = ff.groupby('ref_section')['score'].transform('max')\n",
        "\n",
        "  # scale the score with the maxmum value of each section\n",
        "  ff['score_div_max'] = ff['score'] / ff['max']\n",
        "\n",
        "  # consider only the top N tunes for each group\n",
        "  ff = ff.sort_values(['ref_section', 'score_div_max'], ascending=[True, False])\n",
        "  result = ff.groupby('ref_section').head(30)\n",
        "  \n",
        "  # if multiple rows from the same similar tune, keep only the similar_title with the highest score_div_max\n",
        "  result = result.groupby('similar_title').max('score_div_max').sort_values('score_div_max', ascending=False)\n",
        "\n",
        "  # add the name of the reference tune\n",
        "  result['reference'] = tune_name\n",
        "  result['reference_titleid'] = title_to_titleid[tune_name]\n",
        "\n",
        "  result = result.reset_index()\n",
        "  result = result.loc[:, ['reference', 'reference_titleid', 'similar_title', 'score', 'max', 'score_div_max']]\n",
        "  result['similar_titleid'] = result['similar_title'].apply(lambda x: title_to_titleid[x])\n",
        "  result = result.reset_index()\n",
        "  return result, ff"
      ],
      "execution_count": 52,
      "outputs": []
    },
    {
      "cell_type": "markdown",
      "metadata": {
        "id": "S4RKQCihX02Q"
      },
      "source": [
        "### Single Tunes"
      ]
    },
    {
      "cell_type": "code",
      "metadata": {
        "colab": {
          "base_uri": "https://localhost:8080/"
        },
        "id": "5Wz4ZQk_EKZy",
        "outputId": "cf0f6393-3a23-4ee9-c1e7-c7051869049d"
      },
      "source": [
        "%%time\n",
        "df_sim = get_sim_scores(tunes_eval_list, index_tfidf, tfidf)\n",
        "\n",
        "# save a copy of the results; all results will be concatenated at the end\n",
        "df_tfidf = df_sim[:]"
      ],
      "execution_count": 53,
      "outputs": [
        {
          "output_type": "stream",
          "name": "stdout",
          "text": [
            "\n",
            "--------------------------------------------------\n",
            "125 After You've Gone, section1 (A)\n",
            "126 After You've Gone, section2 (B)\n",
            "127 After You've Gone, section3 (A)\n",
            "128 After You've Gone, section4 (C)\n",
            "\n",
            "--------------------------------------------------\n",
            "188 All God's Chillun Got Rhythm, section1 (A)\n",
            "189 All God's Chillun Got Rhythm, section2 (B)\n",
            "190 All God's Chillun Got Rhythm, section3 (A)\n",
            "191 All God's Chillun Got Rhythm, section4 (C)\n",
            "\n",
            "--------------------------------------------------\n",
            "198 All Of Me, section1 (A)\n",
            "199 All Of Me, section2 (B)\n",
            "200 All Of Me, section3 (A)\n",
            "201 All Of Me, section4 (C)\n",
            "\n",
            "--------------------------------------------------\n",
            "474 Blood Count, section1 (A)\n",
            "475 Blood Count, section2 (A)\n",
            "476 Blood Count, section3 (B)\n",
            "477 Blood Count, section4 (A)\n",
            "478 Blood Count, section5 (C)\n",
            "\n",
            "--------------------------------------------------\n",
            "496 Blue Moon, section1 (A)\n",
            "497 Blue Moon, section2 (A)\n",
            "498 Blue Moon, section3 (B)\n",
            "499 Blue Moon, section4 (A)\n",
            "\n",
            "--------------------------------------------------\n",
            "626 But Beautiful, section1 (A)\n",
            "627 But Beautiful, section2 (B)\n",
            "628 But Beautiful, section3 (A)\n",
            "629 But Beautiful, section4 (C)\n",
            "\n",
            "--------------------------------------------------\n",
            "653 Bye Bye Blackbird, section1 (A)\n",
            "654 Bye Bye Blackbird, section2 (B)\n",
            "\n",
            "--------------------------------------------------\n",
            "676 Call Me Irresponsible, section1 (A)\n",
            "677 Call Me Irresponsible, section2 (B)\n",
            "678 Call Me Irresponsible, section3 (A)\n",
            "679 Call Me Irresponsible, section4 (B)\n",
            "\n",
            "--------------------------------------------------\n",
            "826 Corcovado, section1 (A)\n",
            "827 Corcovado, section2 (B)\n",
            "828 Corcovado, section3 (A)\n",
            "829 Corcovado, section4 (C)\n",
            "\n",
            "--------------------------------------------------\n",
            "997 Dinah, section1 (A)\n",
            "998 Dinah, section2 (A)\n",
            "999 Dinah, section3 (B)\n",
            "1000 Dinah, section4 (A)\n",
            "\n",
            "--------------------------------------------------\n",
            "1125 East Of The Sun, section1 (A)\n",
            "1126 East Of The Sun, section2 (B)\n",
            "1127 East Of The Sun, section3 (A)\n",
            "1128 East Of The Sun, section4 (C)\n",
            "\n",
            "--------------------------------------------------\n",
            "1287 Footprints, section0 (nan)\n",
            "\n",
            "--------------------------------------------------\n",
            "1379 Giant Steps, section0 (nan)\n",
            "\n",
            "--------------------------------------------------\n",
            "1538 Honeysuckle Rose, section1 (A)\n",
            "1539 Honeysuckle Rose, section2 (A)\n",
            "1540 Honeysuckle Rose, section3 (B)\n",
            "1541 Honeysuckle Rose, section4 (A)\n",
            "\n",
            "--------------------------------------------------\n",
            "1647 I Got Rhythm, section1 (A)\n",
            "1648 I Got Rhythm, section2 (A)\n",
            "1649 I Got Rhythm, section3 (B)\n",
            "1650 I Got Rhythm, section4 (A)\n",
            "\n",
            "--------------------------------------------------\n",
            "2670 Misty, section1 (A)\n",
            "2671 Misty, section2 (A)\n",
            "2672 Misty, section3 (B)\n",
            "2673 Misty, section4 (A)\n",
            "\n",
            "--------------------------------------------------\n",
            "2857 Naima, section1 (A)\n",
            "2858 Naima, section2 (A)\n",
            "2859 Naima, section3 (B)\n",
            "2860 Naima, section4 (A)\n",
            "\n",
            "--------------------------------------------------\n",
            "5044 Old Fashioned Love, section0 (nan)\n",
            "\n",
            "--------------------------------------------------\n",
            "3142 Perdido, section1 (A)\n",
            "3143 Perdido, section2 (A)\n",
            "3144 Perdido, section3 (B)\n",
            "3145 Perdido, section4 (A)\n",
            "\n",
            "--------------------------------------------------\n",
            "3276 Rockin' Chair, section1 (A)\n",
            "3277 Rockin' Chair, section2 (B)\n",
            "3278 Rockin' Chair, section3 (A)\n",
            "\n",
            "--------------------------------------------------\n",
            "3578 Sophisticated Lady, section1 (A)\n",
            "3579 Sophisticated Lady, section2 (A)\n",
            "3580 Sophisticated Lady, section3 (B)\n",
            "3581 Sophisticated Lady, section4 (A)\n",
            "\n",
            "--------------------------------------------------\n",
            "3746 Sweet Sue, Just You, section1 (A)\n",
            "3747 Sweet Sue, Just You, section2 (A)\n",
            "3748 Sweet Sue, Just You, section3 (B)\n",
            "3749 Sweet Sue, Just You, section4 (A)\n",
            "\n",
            "--------------------------------------------------\n",
            "3860 These Foolish Things, section1 (A)\n",
            "3861 These Foolish Things, section2 (A)\n",
            "3862 These Foolish Things, section3 (B)\n",
            "3863 These Foolish Things, section4 (A)\n",
            "\n",
            "--------------------------------------------------\n",
            "4146 We'll Be Together Again, section1 (A)\n",
            "4147 We'll Be Together Again, section2 (A)\n",
            "4148 We'll Be Together Again, section3 (B)\n",
            "4149 We'll Be Together Again, section4 (A)\n",
            "CPU times: user 10.8 s, sys: 253 ms, total: 11 s\n",
            "Wall time: 10.9 s\n"
          ]
        }
      ]
    },
    {
      "cell_type": "code",
      "metadata": {
        "colab": {
          "base_uri": "https://localhost:8080/",
          "height": 542
        },
        "id": "yzRuIKVh9c8g",
        "outputId": "4b4fafdb-8a72-4f51-c108-a01480061316"
      },
      "source": [
        "import plotly.express as px\n",
        "fig = px.histogram(df_sim, x=\"score\", nbins=50, title='Scores for TF-IDF')\n",
        "fig.show()"
      ],
      "execution_count": 54,
      "outputs": [
        {
          "output_type": "display_data",
          "data": {
            "text/html": [
              "<html>\n",
              "<head><meta charset=\"utf-8\" /></head>\n",
              "<body>\n",
              "    <div>\n",
              "            <script src=\"https://cdnjs.cloudflare.com/ajax/libs/mathjax/2.7.5/MathJax.js?config=TeX-AMS-MML_SVG\"></script><script type=\"text/javascript\">if (window.MathJax) {MathJax.Hub.Config({SVG: {font: \"STIX-Web\"}});}</script>\n",
              "                <script type=\"text/javascript\">window.PlotlyConfig = {MathJaxConfig: 'local'};</script>\n",
              "        <script src=\"https://cdn.plot.ly/plotly-latest.min.js\"></script>    \n",
              "            <div id=\"f09ccb8d-5431-493c-940a-74c952c0ca09\" class=\"plotly-graph-div\" style=\"height:525px; width:100%;\"></div>\n",
              "            <script type=\"text/javascript\">\n",
              "                \n",
              "                    window.PLOTLYENV=window.PLOTLYENV || {};\n",
              "                    \n",
              "                if (document.getElementById(\"f09ccb8d-5431-493c-940a-74c952c0ca09\")) {\n",
              "                    Plotly.newPlot(\n",
              "                        'f09ccb8d-5431-493c-940a-74c952c0ca09',\n",
              "                        [{\"alignmentgroup\": \"True\", \"bingroup\": \"x\", \"hoverlabel\": {\"namelength\": 0}, \"hovertemplate\": \"score=%{x}<br>count=%{y}\", \"legendgroup\": \"\", \"marker\": {\"color\": \"#636efa\"}, \"name\": \"\", \"nbinsx\": 50, \"offsetgroup\": \"\", \"orientation\": \"v\", \"showlegend\": false, \"type\": \"histogram\", \"x\": [0.9196498990058899, 0.9038835763931274, 0.8636550903320312, 0.8334907293319702, 0.824112594127655, 0.8160545825958252, 0.7915235161781311, 0.7816696166992188, 0.7691226005554199, 0.7691226005554199, 0.7682342529296875, 0.7664930820465088, 0.7659552097320557, 0.7659552097320557, 0.7590219974517822, 0.7588516473770142, 0.7576762437820435, 0.7568140029907227, 0.7529098987579346, 0.7524664998054504, 0.7522726655006409, 0.9814482927322388, 0.8517615795135498, 0.8486486673355103, 0.8482421040534973, 0.8427440524101257, 0.8406634330749512, 0.8275892734527588, 0.8192987442016602, 0.8117809295654297, 0.811701774597168, 0.811701774597168, 0.8079831004142761, 0.8079831004142761, 0.8078351616859436, 0.8078351616859436, 0.8078351616859436, 0.8053922057151794, 0.8053922057151794, 0.8017070293426514, 0.7978596687316895, 0.7978596687316895, 0.9196498990058899, 0.9038835763931274, 0.8636550903320312, 0.8334907293319702, 0.824112594127655, 0.8160545825958252, 0.7915235161781311, 0.7816696166992188, 0.7691226005554199, 0.7691226005554199, 0.7682342529296875, 0.7664930820465088, 0.7659552097320557, 0.7659552097320557, 0.7590219974517822, 0.7588516473770142, 0.7576762437820435, 0.7568140029907227, 0.7529098987579346, 0.7524664998054504, 0.7522726655006409, 0.7988332509994507, 0.7571793794631958, 0.755961000919342, 0.7110116481781006, 0.683812141418457, 0.6770783066749573, 0.6724339723587036, 0.6724339723587036, 0.6716110706329346, 0.6689857840538025, 0.6677476167678833, 0.6676556468009949, 0.6655557155609131, 0.6609022617340088, 0.6595385074615479, 0.6556394696235657, 0.653907299041748, 0.6502991914749146, 0.6501607298851013, 0.6490207314491272, 0.6473608016967773, 0.9397115111351013, 0.9194867610931396, 0.9194867610931396, 0.892963707447052, 0.8918523788452148, 0.8917567729949951, 0.8863569498062134, 0.8863569498062134, 0.8836269378662109, 0.873469889163971, 0.8658664226531982, 0.863305389881134, 0.8624122142791748, 0.8454968333244324, 0.8454968333244324, 0.8427064418792725, 0.8335333466529846, 0.8250203132629395, 0.8226759433746338, 0.8206421136856079, 0.8198801279067993, 0.9380967617034912, 0.9201012849807739, 0.9108278155326843, 0.9017132520675659, 0.8984218239784241, 0.8892538547515869, 0.8833591938018799, 0.8819999694824219, 0.8748977184295654, 0.873773455619812, 0.8668359518051147, 0.8668359518051147, 0.8659693002700806, 0.8640252351760864, 0.8601872324943542, 0.8546648621559143, 0.8543300628662109, 0.8523354530334473, 0.8409455418586731, 0.8396477699279785, 0.8388117551803589, 0.9397115111351013, 0.9194867610931396, 0.9194867610931396, 0.892963707447052, 0.8918523788452148, 0.8917567729949951, 0.8863569498062134, 0.8863569498062134, 0.8836269378662109, 0.873469889163971, 0.8658664226531982, 0.863305389881134, 0.8624122142791748, 0.8454968333244324, 0.8454968333244324, 0.8427064418792725, 0.8335333466529846, 0.8250203132629395, 0.8226759433746338, 0.8206421136856079, 0.8198801279067993, 0.9092954993247986, 0.8951758146286011, 0.8917471766471863, 0.8915888071060181, 0.8810214400291443, 0.8793514966964722, 0.8760710954666138, 0.8750938177108765, 0.8741723299026489, 0.8740540742874146, 0.8690007925033569, 0.8610731959342957, 0.8535624742507935, 0.845422625541687, 0.8442277908325195, 0.8442277908325195, 0.8438037633895874, 0.8438037633895874, 0.8424831628799438, 0.841221034526825, 0.8352027535438538, 0.9245520830154419, 0.9209256172180176, 0.9209256172180176, 0.9174246191978455, 0.8842459917068481, 0.8705299496650696, 0.8699769973754883, 0.8665006160736084, 0.8663963079452515, 0.8644928932189941, 0.8498772382736206, 0.8498772382736206, 0.8334197998046875, 0.8334197998046875, 0.8334197998046875, 0.8334197998046875, 0.8324093818664551, 0.8321807384490967, 0.8175874352455139, 0.799274206161499, 0.799274206161499, 0.9904404878616333, 0.9904404878616333, 0.9904404878616333, 0.9727900624275208, 0.9470866322517395, 0.935715913772583, 0.9347223043441772, 0.9347223043441772, 0.9341075420379639, 0.9341075420379639, 0.9324896931648254, 0.9278632998466492, 0.9278632998466492, 0.9274939894676208, 0.9267227053642273, 0.9218592047691345, 0.9183245897293091, 0.9152311682701111, 0.9132879376411438, 0.9110441207885742, 0.9109437465667725, 0.9245520830154419, 0.9209256172180176, 0.9209256172180176, 0.9174246191978455, 0.8842459917068481, 0.8705299496650696, 0.8699769973754883, 0.8665006160736084, 0.8663963079452515, 0.8644928932189941, 0.8498772382736206, 0.8498772382736206, 0.8334197998046875, 0.8334197998046875, 0.8334197998046875, 0.8334197998046875, 0.8324093818664551, 0.8321807384490967, 0.8175874352455139, 0.799274206161499, 0.799274206161499, 0.949884831905365, 0.9329653978347778, 0.9329653978347778, 0.9198912382125854, 0.8997784852981567, 0.8638937473297119, 0.8620119094848633, 0.86069655418396, 0.8592320680618286, 0.8592320680618286, 0.8582180738449097, 0.8524217009544373, 0.8524217009544373, 0.8512078523635864, 0.8474264144897461, 0.836890459060669, 0.8350417613983154, 0.8280481100082397, 0.8229798078536987, 0.8229163289070129, 0.8206647634506226, 0.8235363960266113, 0.8160116672515869, 0.8121883869171143, 0.8049639463424683, 0.8033714890480042, 0.8033714890480042, 0.7802966833114624, 0.7746341824531555, 0.745071291923523, 0.7420724034309387, 0.7388862371444702, 0.7371229529380798, 0.7367401123046875, 0.7367401123046875, 0.7352069616317749, 0.7351706027984619, 0.7225515842437744, 0.7201423645019531, 0.7191691398620605, 0.7185551524162292, 0.7175139784812927, 0.8888208866119385, 0.8005372285842896, 0.8005372285842896, 0.7900215983390808, 0.7900215983390808, 0.7900215983390808, 0.7897839546203613, 0.7887325286865234, 0.7835365533828735, 0.7667278051376343, 0.7535243630409241, 0.7535243630409241, 0.7535243630409241, 0.7528121471405029, 0.7528121471405029, 0.7526219487190247, 0.7526219487190247, 0.7526219487190247, 0.7526219487190247, 0.7526219487190247, 0.7526219487190247, 0.7598773241043091, 0.6216225028038025, 0.6216225028038025, 0.6216225028038025, 0.6094653606414795, 0.6068716645240784, 0.5978227853775024, 0.5934688448905945, 0.5798888206481934, 0.5612296462059021, 0.5444650650024414, 0.5388853549957275, 0.522502601146698, 0.520549476146698, 0.5154673457145691, 0.511829137802124, 0.4899074137210846, 0.48758044838905334, 0.48498618602752686, 0.48394662141799927, 0.4763314723968506, 0.8888208866119385, 0.8005372285842896, 0.8005372285842896, 0.7900215983390808, 0.7900215983390808, 0.7900215983390808, 0.7897839546203613, 0.7887325286865234, 0.7835365533828735, 0.7667278051376343, 0.7535243630409241, 0.7535243630409241, 0.7535243630409241, 0.7528121471405029, 0.7528121471405029, 0.7526219487190247, 0.7526219487190247, 0.7526219487190247, 0.7526219487190247, 0.7526219487190247, 0.7526219487190247, 0.8256626129150391, 0.7966032028198242, 0.7709292769432068, 0.7641631364822388, 0.7338792085647583, 0.7338792085647583, 0.7338792085647583, 0.7328647375106812, 0.6977938413619995, 0.6977938413619995, 0.6874553561210632, 0.6853927373886108, 0.6758224368095398, 0.6612513065338135, 0.6612513065338135, 0.6558610200881958, 0.6528981328010559, 0.6325947046279907, 0.6146206259727478, 0.6110367178916931, 0.6109567880630493, 0.8933001756668091, 0.8388532400131226, 0.8309425115585327, 0.8306958675384521, 0.8306958675384521, 0.8018500804901123, 0.7803573608398438, 0.7798985242843628, 0.779406726360321, 0.779406726360321, 0.777599573135376, 0.7741724848747253, 0.7672023177146912, 0.7672023177146912, 0.7641288042068481, 0.7599989175796509, 0.7599989175796509, 0.7595903873443604, 0.7595903873443604, 0.7595138549804688, 0.7583276629447937, 0.8060271739959717, 0.7922964096069336, 0.790303111076355, 0.788456916809082, 0.7877241373062134, 0.7853943705558777, 0.7816245555877686, 0.7740349173545837, 0.764266848564148, 0.7627989649772644, 0.7555851340293884, 0.7555851340293884, 0.7422516345977783, 0.7422516345977783, 0.739075243473053, 0.739075243473053, 0.7362512350082397, 0.7362512350082397, 0.7355872392654419, 0.7342073917388916, 0.7342073917388916, 0.8240283131599426, 0.78410404920578, 0.7246643304824829, 0.7194687128067017, 0.7167586088180542, 0.7081409096717834, 0.7038677334785461, 0.6999416351318359, 0.6878319978713989, 0.6820310354232788, 0.6568054556846619, 0.6562180519104004, 0.6538599729537964, 0.6538599729537964, 0.6538599729537964, 0.6538202166557312, 0.6517043113708496, 0.6426697373390198, 0.641345739364624, 0.6390509009361267, 0.6301211714744568, 0.8933001756668091, 0.8388532400131226, 0.8309425115585327, 0.8306958675384521, 0.8306958675384521, 0.8018500804901123, 0.7803573608398438, 0.7798985242843628, 0.779406726360321, 0.779406726360321, 0.777599573135376, 0.7741724848747253, 0.7672023177146912, 0.7672023177146912, 0.7641288042068481, 0.7599989175796509, 0.7599989175796509, 0.7595903873443604, 0.7595903873443604, 0.7595138549804688, 0.7583276629447937, 0.9382315874099731, 0.9106018543243408, 0.9106018543243408, 0.9078210592269897, 0.8945432305335999, 0.8945432305335999, 0.8899151682853699, 0.8815053105354309, 0.8779960870742798, 0.8697571158409119, 0.8584032654762268, 0.8508185744285583, 0.8404878377914429, 0.839050829410553, 0.8374419212341309, 0.8374419212341309, 0.8315833806991577, 0.8207336664199829, 0.8140221238136292, 0.8135877251625061, 0.8098987340927124, 0.9727869033813477, 0.970969021320343, 0.9420433640480042, 0.9116808176040649, 0.8944628238677979, 0.8923947215080261, 0.8923947215080261, 0.8885407447814941, 0.8824141025543213, 0.8808543682098389, 0.878020167350769, 0.8768462538719177, 0.8712124824523926, 0.8662111759185791, 0.8662111759185791, 0.8617545962333679, 0.8617545962333679, 0.8551779985427856, 0.8510341048240662, 0.845887303352356, 0.8456859588623047, 0.9382315874099731, 0.9106018543243408, 0.9106018543243408, 0.9078210592269897, 0.8945432305335999, 0.8945432305335999, 0.8899151682853699, 0.8815053105354309, 0.8779960870742798, 0.8697571158409119, 0.8584032654762268, 0.8508185744285583, 0.8404878377914429, 0.839050829410553, 0.8374419212341309, 0.8374419212341309, 0.8315833806991577, 0.8207336664199829, 0.8140221238136292, 0.8135877251625061, 0.8098987340927124, 0.8907605409622192, 0.8907605409622192, 0.8881603479385376, 0.8881603479385376, 0.8796150088310242, 0.8717153072357178, 0.8604875206947327, 0.8381379246711731, 0.8304458856582642, 0.8288041353225708, 0.8264509439468384, 0.8182826042175293, 0.8182826042175293, 0.8143113255500793, 0.8134340643882751, 0.803749680519104, 0.8018821477890015, 0.8004822134971619, 0.7996741533279419, 0.7983058094978333, 0.7982409000396729, 0.9434819221496582, 0.928325891494751, 0.9075089693069458, 0.9021630883216858, 0.8466262221336365, 0.8431141972541809, 0.8429650068283081, 0.8428629636764526, 0.8427742719650269, 0.8290285468101501, 0.8272480964660645, 0.8261188268661499, 0.8261188268661499, 0.8214958906173706, 0.8147320747375488, 0.811813235282898, 0.8085433840751648, 0.808493435382843, 0.8063919544219971, 0.8063919544219971, 0.8019027709960938, 0.9062701463699341, 0.9062701463699341, 0.8163251876831055, 0.8133508563041687, 0.7995826005935669, 0.7887556552886963, 0.7653709650039673, 0.764266848564148, 0.738884687423706, 0.7361241579055786, 0.7318238615989685, 0.7308263778686523, 0.7307897806167603, 0.7274258136749268, 0.7186199426651001, 0.7186199426651001, 0.7115868926048279, 0.7080963850021362, 0.7013696432113647, 0.7013488411903381, 0.7013488411903381, 0.9159203171730042, 0.9082893133163452, 0.8956456184387207, 0.8930066823959351, 0.8841756582260132, 0.8802178502082825, 0.8751527070999146, 0.8736675977706909, 0.8709447383880615, 0.8706492185592651, 0.8660688400268555, 0.8612551689147949, 0.8601805567741394, 0.8592161536216736, 0.8527505397796631, 0.8492854237556458, 0.8452772498130798, 0.8443493843078613, 0.8440428972244263, 0.8395746350288391, 0.8395746350288391, 0.9588703513145447, 0.9524250030517578, 0.9316670894622803, 0.9173969626426697, 0.9145621061325073, 0.9102996587753296, 0.899443507194519, 0.8923615217208862, 0.88592928647995, 0.878838062286377, 0.8740604519844055, 0.8740604519844055, 0.8698276877403259, 0.8690962791442871, 0.8652142286300659, 0.863305389881134, 0.863305389881134, 0.8630759716033936, 0.8593734502792358, 0.8534756898880005, 0.8507665395736694, 0.9159203171730042, 0.9082893133163452, 0.8956456184387207, 0.8930066823959351, 0.8841756582260132, 0.8802178502082825, 0.8751527070999146, 0.8736675977706909, 0.8709447383880615, 0.8706492185592651, 0.8660688400268555, 0.8612551689147949, 0.8601805567741394, 0.8592161536216736, 0.8527505397796631, 0.8492854237556458, 0.8452772498130798, 0.8443493843078613, 0.8440428972244263, 0.8395746350288391, 0.8395746350288391, 0.9367783069610596, 0.9086948037147522, 0.9036933779716492, 0.9021630883216858, 0.8840393424034119, 0.8707863092422485, 0.8703501224517822, 0.8677821159362793, 0.8656018972396851, 0.8656018972396851, 0.8323448300361633, 0.8267257213592529, 0.8252856731414795, 0.8240259885787964, 0.8203927874565125, 0.8203927874565125, 0.8201265931129456, 0.8137603402137756, 0.8119645118713379, 0.8062160015106201, 0.8059372901916504, 0.8272416591644287, 0.7983249425888062, 0.7897324562072754, 0.7872564196586609, 0.7489164471626282, 0.7435068488121033, 0.7307186126708984, 0.7199659943580627, 0.7112000584602356, 0.7058424353599548, 0.702750027179718, 0.6990242600440979, 0.68756502866745, 0.68756502866745, 0.686433732509613, 0.6772155165672302, 0.6734457015991211, 0.6734457015991211, 0.6560063362121582, 0.6411093473434448, 0.6388982534408569, 0.9488275051116943, 0.8763301968574524, 0.8567236065864563, 0.8495270013809204, 0.8370440006256104, 0.8288654088973999, 0.8274070024490356, 0.8216538429260254, 0.8004121780395508, 0.7927930355072021, 0.789587676525116, 0.7843931913375854, 0.7843931913375854, 0.7790369391441345, 0.7769936323165894, 0.7769936323165894, 0.7759767174720764, 0.7752964496612549, 0.769762396812439, 0.769762396812439, 0.7689474821090698, 0.8272416591644287, 0.7983249425888062, 0.7897324562072754, 0.7872564196586609, 0.7489164471626282, 0.7435068488121033, 0.7307186126708984, 0.7199659943580627, 0.7112000584602356, 0.7058424353599548, 0.702750027179718, 0.6990242600440979, 0.68756502866745, 0.68756502866745, 0.686433732509613, 0.6772155165672302, 0.6734457015991211, 0.6734457015991211, 0.6560063362121582, 0.6411093473434448, 0.6388982534408569, 0.9720892906188965, 0.9578099846839905, 0.9370535612106323, 0.905147910118103, 0.905147910118103, 0.9051464796066284, 0.8790013194084167, 0.8703640699386597, 0.8657833337783813, 0.8358277082443237, 0.8358033895492554, 0.8321431875228882, 0.8321431875228882, 0.8311716914176941, 0.8283655643463135, 0.827326238155365, 0.8232321739196777, 0.8183004260063171, 0.816969096660614, 0.8166980743408203, 0.8166980743408203, 0.9823054671287537, 0.9467687606811523, 0.8759769201278687, 0.8576890826225281, 0.8405819535255432, 0.8402286767959595, 0.8383113145828247, 0.836658775806427, 0.8344063758850098, 0.8344063758850098, 0.824886679649353, 0.8142800331115723, 0.8109053373336792, 0.8101141452789307, 0.8046665787696838, 0.8029888868331909, 0.8029888868331909, 0.7986671924591064, 0.7945870161056519, 0.7920985221862793, 0.7892705202102661, 0.9569911956787109, 0.9569911956787109, 0.9569911956787109, 0.9129670858383179, 0.9033762216567993, 0.9019269943237305, 0.8989858627319336, 0.8917649984359741, 0.8857032060623169, 0.8857032060623169, 0.8856268525123596, 0.8838262557983398, 0.8814467191696167, 0.8788362741470337, 0.8788362741470337, 0.8784105181694031, 0.8779395222663879, 0.8776706457138062, 0.8776706457138062, 0.8767483234405518, 0.8758453130722046, 0.9776827692985535, 0.9776827692985535, 0.9776827692985535, 0.9630857110023499, 0.948072075843811, 0.9405701160430908, 0.939577579498291, 0.939577579498291, 0.939577579498291, 0.939577579498291, 0.939577579498291, 0.939577579498291, 0.939577579498291, 0.9348084330558777, 0.9144744873046875, 0.9104403257369995, 0.9096618890762329, 0.9033953547477722, 0.9033953547477722, 0.9033953547477722, 0.9033953547477722, 0.9270341992378235, 0.9270341992378235, 0.9258881211280823, 0.9258881211280823, 0.9258881211280823, 0.9071986675262451, 0.9071986675262451, 0.90497887134552, 0.8960520625114441, 0.8960520625114441, 0.8954503536224365, 0.8910744190216064, 0.8892680406570435, 0.8884149789810181, 0.8854890465736389, 0.8841819763183594, 0.8841819763183594, 0.8753681182861328, 0.8753681182861328, 0.8734256029129028, 0.8696619272232056, 0.9586360454559326, 0.9575733542442322, 0.9575733542442322, 0.9416491985321045, 0.9398320317268372, 0.9245044589042664, 0.9235355854034424, 0.9110568761825562, 0.905147910118103, 0.9014006853103638, 0.8865976929664612, 0.8764706254005432, 0.866668701171875, 0.8664638996124268, 0.8613173365592957, 0.8599411249160767, 0.8576251268386841, 0.8495101928710938, 0.8447998762130737, 0.8433393239974976, 0.8402732610702515, 0.9714033603668213, 0.9666874408721924, 0.9658952951431274, 0.9635993242263794, 0.9620299339294434, 0.9522378444671631, 0.9498850107192993, 0.9446364641189575, 0.9410858154296875, 0.9410858154296875, 0.9395517706871033, 0.937065839767456, 0.93703293800354, 0.9308275580406189, 0.9259706735610962, 0.9256200790405273, 0.9256200790405273, 0.9231044054031372, 0.9231044054031372, 0.9221500158309937, 0.9221500158309937, 0.9586360454559326, 0.9575733542442322, 0.9575733542442322, 0.9416491985321045, 0.9398320317268372, 0.9245044589042664, 0.9235355854034424, 0.9110568761825562, 0.905147910118103, 0.9014006853103638, 0.8865976929664612, 0.8764706254005432, 0.866668701171875, 0.8664638996124268, 0.8613173365592957, 0.8599411249160767, 0.8576251268386841, 0.8495101928710938, 0.8447998762130737, 0.8433393239974976, 0.8402732610702515, 0.8864080905914307, 0.8726491928100586, 0.8493943214416504, 0.8429691791534424, 0.8403885364532471, 0.8136745691299438, 0.8117293119430542, 0.793415904045105, 0.7902466654777527, 0.7896914482116699, 0.7820013761520386, 0.7742034196853638, 0.770583987236023, 0.7650513052940369, 0.760662853717804, 0.7579823136329651, 0.7491157054901123, 0.7491157054901123, 0.7491157054901123, 0.736641526222229, 0.7349874377250671, 0.8195174336433411, 0.814304530620575, 0.814304530620575, 0.814304530620575, 0.814304530620575, 0.814304530620575, 0.814304530620575, 0.814304530620575, 0.814304530620575, 0.814304530620575, 0.814304530620575, 0.814304530620575, 0.814304530620575, 0.814304530620575, 0.814304530620575, 0.814304530620575, 0.814304530620575, 0.814304530620575, 0.814304530620575, 0.814304530620575, 0.814304530620575, 0.8859416246414185, 0.8542184233665466, 0.8542184233665466, 0.8139802813529968, 0.7915170192718506, 0.6953229904174805, 0.6932423710823059, 0.6889830231666565, 0.6889830231666565, 0.6889830231666565, 0.6869683265686035, 0.6802700757980347, 0.6651354432106018, 0.6611589193344116, 0.6600574254989624, 0.6589483022689819, 0.6586841940879822, 0.6558805704116821, 0.6539225578308105, 0.6491274833679199, 0.6487876772880554, 1.0, 1.0, 0.9468265175819397, 0.8947436809539795, 0.8796350955963135, 0.8687880039215088, 0.8620895743370056, 0.8613554239273071, 0.8588920831680298, 0.8544516563415527, 0.8496817350387573, 0.8496817350387573, 0.8496817350387573, 0.8496817350387573, 0.8482968807220459, 0.8419350385665894, 0.8419350385665894, 0.8397045731544495, 0.8397045731544495, 0.8371249437332153, 0.818954586982727, 1.0000001192092896, 0.8965716361999512, 0.865922749042511, 0.8526025414466858, 0.8503074645996094, 0.8375924825668335, 0.8375924825668335, 0.8375924825668335, 0.8374204635620117, 0.8342785835266113, 0.8304515480995178, 0.8304515480995178, 0.8304515480995178, 0.8221418261528015, 0.820572018623352, 0.8064778447151184, 0.794363260269165, 0.7855495810508728, 0.7855495810508728, 0.7855495810508728, 0.7838582992553711, 1.0000001192092896, 1.0000001192092896, 1.0000001192092896, 1.0000001192092896, 1.0000001192092896, 1.0000001192092896, 1.0000001192092896, 1.0000001192092896, 1.0000001192092896, 1.0000001192092896, 0.9927563071250916, 0.9452508687973022, 0.9452508687973022, 0.9452508687973022, 0.9452508687973022, 0.9251319169998169, 0.9200519919395447, 0.9200519919395447, 0.9136869311332703, 0.9054660797119141, 0.89763343334198, 1.0, 1.0, 0.9468265175819397, 0.8947436809539795, 0.8796350955963135, 0.8687880039215088, 0.8620895743370056, 0.8613554239273071, 0.8588920831680298, 0.8544516563415527, 0.8496817350387573, 0.8496817350387573, 0.8496817350387573, 0.8496817350387573, 0.8482968807220459, 0.8419350385665894, 0.8419350385665894, 0.8397045731544495, 0.8397045731544495, 0.8371249437332153, 0.818954586982727, 1.0, 0.9987550973892212, 0.9460849761962891, 0.8794457912445068, 0.8794457912445068, 0.8784847259521484, 0.8690253496170044, 0.8690253496170044, 0.867087185382843, 0.8662586212158203, 0.8596116900444031, 0.8596116900444031, 0.8540225028991699, 0.8497336506843567, 0.8497336506843567, 0.8483266830444336, 0.8338732719421387, 0.8336036801338196, 0.8328957557678223, 0.8291103839874268, 0.820695161819458, 0.9999999403953552, 0.9987550973892212, 0.944748044013977, 0.8834656476974487, 0.8790454864501953, 0.8790454864501953, 0.8716930747032166, 0.8682700395584106, 0.8682700395584106, 0.8663719892501831, 0.8607791662216187, 0.8607791662216187, 0.8588335514068604, 0.8502942323684692, 0.8452545404434204, 0.8452545404434204, 0.8396735787391663, 0.8351118564605713, 0.8334347009658813, 0.8315479159355164, 0.8227681517601013, 1.0, 1.0, 1.0, 1.0, 1.0, 1.0, 1.0, 1.0, 1.0, 1.0, 1.0, 1.0, 1.0, 1.0, 1.0, 1.0, 1.0, 1.0, 1.0, 1.0, 1.0, 0.9999999403953552, 0.9460849761962891, 0.944748044013977, 0.8436610102653503, 0.8436610102653503, 0.8433859348297119, 0.8369379043579102, 0.825229287147522, 0.8208569884300232, 0.8162757754325867, 0.8162757754325867, 0.8085585832595825, 0.8054484724998474, 0.7932051420211792, 0.7932051420211792, 0.7926450967788696, 0.7891616821289062, 0.7888342142105103, 0.7888342142105103, 0.7868662476539612, 0.7868215441703796, 0.9729369878768921, 0.9378409385681152, 0.9367839097976685, 0.930905282497406, 0.9194040298461914, 0.9139200448989868, 0.912841260433197, 0.912841260433197, 0.9076521396636963, 0.8859456777572632, 0.8813002705574036, 0.878834068775177, 0.878834068775177, 0.8779889941215515, 0.8763647079467773, 0.8728282451629639, 0.8700854778289795, 0.8693118691444397, 0.8668837547302246, 0.866553783416748, 0.857420802116394, 0.911231517791748, 0.9062024354934692, 0.9056870341300964, 0.9056870341300964, 0.8903895616531372, 0.8822072744369507, 0.8745130896568298, 0.8582799434661865, 0.8572845458984375, 0.8505495190620422, 0.8505495190620422, 0.8455908298492432, 0.8390945196151733, 0.8380390405654907, 0.830964207649231, 0.8300701975822449, 0.8290912508964539, 0.8287513256072998, 0.8227652907371521, 0.8224103450775146, 0.8194433450698853, 0.7814693450927734, 0.7363389730453491, 0.7363389730453491, 0.7363389730453491, 0.7263975739479065, 0.7252312302589417, 0.7178820371627808, 0.7177772521972656, 0.7172784209251404, 0.7121984958648682, 0.7039656639099121, 0.694223165512085, 0.6869242191314697, 0.6674089431762695, 0.6658279895782471, 0.6580877304077148, 0.6545461416244507, 0.6520233154296875, 0.6520233154296875, 0.6508787870407104, 0.6495074033737183, 0.9427706003189087, 0.9062951803207397, 0.9047209024429321, 0.9047209024429321, 0.8993239998817444, 0.8981375098228455, 0.8829247951507568, 0.8659026026725769, 0.8511789441108704, 0.8504128456115723, 0.8497911095619202, 0.8497911095619202, 0.8471345901489258, 0.8471345901489258, 0.8447177410125732, 0.8410201668739319, 0.83957839012146, 0.8385570049285889, 0.8378322124481201, 0.8342377543449402, 0.8338267803192139, 0.9097391963005066, 0.8460469245910645, 0.8460469245910645, 0.8460469245910645, 0.802811861038208, 0.8005372285842896, 0.8005372285842896, 0.7937288284301758, 0.7434825897216797, 0.7234790325164795, 0.7182866334915161, 0.7143551111221313, 0.7059990763664246, 0.7023681402206421, 0.7023681402206421, 0.7023681402206421, 0.6977938413619995, 0.6840468645095825, 0.6840468645095825, 0.6840468645095825, 0.6840468645095825, 0.9097391963005066, 0.8460469245910645, 0.8460469245910645, 0.8460469245910645, 0.802811861038208, 0.8005372285842896, 0.8005372285842896, 0.7937288284301758, 0.7434825897216797, 0.7234790325164795, 0.7182866334915161, 0.7143551111221313, 0.7059990763664246, 0.7023681402206421, 0.7023681402206421, 0.7023681402206421, 0.6977938413619995, 0.6840468645095825, 0.6840468645095825, 0.6840468645095825, 0.6840468645095825, 0.9493467807769775, 0.9244412779808044, 0.9042685031890869, 0.9035261273384094, 0.896577000617981, 0.8941102623939514, 0.8837569355964661, 0.8783575892448425, 0.8668264746665955, 0.8628257513046265, 0.8594658374786377, 0.8473003506660461, 0.8402186632156372, 0.8380661010742188, 0.8347304463386536, 0.8234688639640808, 0.8110145926475525, 0.8080711364746094, 0.7955562472343445, 0.7902815937995911, 0.7651933431625366, 0.9352506995201111, 0.9062347412109375, 0.9062347412109375, 0.9062347412109375, 0.8485581874847412, 0.8131669759750366, 0.7897839546203613, 0.7897839546203613, 0.774122953414917, 0.7654568552970886, 0.7641631364822388, 0.7478988170623779, 0.7422770857810974, 0.7409576773643494, 0.7409576773643494, 0.7409576773643494, 0.738761842250824, 0.738761842250824, 0.738761842250824, 0.738761842250824, 0.738761842250824, 0.9177365303039551, 0.9119845628738403, 0.9096488952636719, 0.9096488952636719, 0.9081484079360962, 0.904251217842102, 0.9018292427062988, 0.9018292427062988, 0.8618725538253784, 0.8584439754486084, 0.8584439754486084, 0.8584439754486084, 0.8582825660705566, 0.8569478988647461, 0.8542189598083496, 0.8541035652160645, 0.8541035652160645, 0.8513533473014832, 0.8485958576202393, 0.8485958576202393, 0.8482905626296997, 0.9976428151130676, 0.9781461954116821, 0.9781461954116821, 0.9781461954116821, 0.9672877192497253, 0.9546871185302734, 0.948370099067688, 0.9467965364456177, 0.9439631700515747, 0.9439631700515747, 0.9429830312728882, 0.9429830312728882, 0.9393165707588196, 0.9393165707588196, 0.9247792363166809, 0.9160881042480469, 0.9152786731719971, 0.8973325490951538, 0.8946511745452881, 0.8854105472564697, 0.8774775266647339, 0.9885457754135132, 0.9566552639007568, 0.9553619623184204, 0.9443875551223755, 0.9443875551223755, 0.9443875551223755, 0.9443875551223755, 0.9443875551223755, 0.9332281947135925, 0.9332281947135925, 0.9304504990577698, 0.9304504990577698, 0.9271864891052246, 0.9207314848899841, 0.9203027486801147, 0.9121007323265076, 0.9121007323265076, 0.9108822345733643, 0.9073163270950317, 0.9037560224533081, 0.9017616510391235, 1.0, 1.0, 1.0, 1.0, 1.0, 1.0, 1.0, 1.0, 1.0, 1.0, 1.0, 1.0, 1.0, 1.0, 1.0, 1.0, 1.0, 1.0, 1.0, 1.0, 1.0, 0.9976428151130676, 0.9781461954116821, 0.9781461954116821, 0.9781461954116821, 0.9672877192497253, 0.9546871185302734, 0.948370099067688, 0.9467965364456177, 0.9439631700515747, 0.9439631700515747, 0.9429830312728882, 0.9429830312728882, 0.9393165707588196, 0.9393165707588196, 0.9247792363166809, 0.9160881042480469, 0.9152786731719971, 0.8973325490951538, 0.8946511745452881, 0.8854105472564697, 0.8774775266647339, 0.8496619462966919, 0.8316603899002075, 0.8291205167770386, 0.7820874452590942, 0.7820874452590942, 0.7793135643005371, 0.7779886722564697, 0.7681766152381897, 0.7660828232765198, 0.7660626173019409, 0.759757936000824, 0.7574115991592407, 0.7509980797767639, 0.7509980797767639, 0.7480287551879883, 0.747874915599823, 0.7464084625244141, 0.7442857027053833, 0.7304282188415527, 0.7271254062652588, 0.7256792783737183, 0.888468325138092, 0.8740639686584473, 0.8740639686584473, 0.8509222269058228, 0.839499294757843, 0.8171102404594421, 0.7892820835113525, 0.7716412544250488, 0.7625787258148193, 0.7614648938179016, 0.7585111260414124, 0.7436127066612244, 0.7413585186004639, 0.7396209239959717, 0.7383204698562622, 0.732237696647644, 0.7223139405250549, 0.7209348678588867, 0.7193589806556702, 0.7191710472106934, 0.7173556089401245, 0.9392657279968262, 0.937486469745636, 0.937486469745636, 0.9177169799804688, 0.9159396290779114, 0.9090681076049805, 0.9082458019256592, 0.8768402338027954, 0.863286554813385, 0.8544623851776123, 0.8508940935134888, 0.8470874428749084, 0.8467859029769897, 0.8279964923858643, 0.8279964923858643, 0.8144291639328003, 0.8061329126358032, 0.8033008575439453, 0.7992948889732361, 0.7991962432861328, 0.7991962432861328, 0.9062701463699341, 0.8066403865814209, 0.7807842493057251, 0.7754436135292053, 0.7754436135292053, 0.7721590995788574, 0.7709296941757202, 0.7660318613052368, 0.7555851340293884, 0.7474518418312073, 0.739905834197998, 0.7387206554412842, 0.7308815121650696, 0.7242128849029541, 0.7224470973014832, 0.7224470973014832, 0.7222779989242554, 0.7222779989242554, 0.7147607803344727, 0.7140258550643921, 0.7140258550643921, 0.7657651305198669, 0.765670657157898, 0.765670657157898, 0.7045257091522217, 0.6774738430976868, 0.6623104810714722, 0.6531696319580078, 0.6457844376564026, 0.6261519193649292, 0.6219725608825684, 0.620654284954071, 0.6191982626914978, 0.6191982626914978, 0.609624981880188, 0.6091108918190002, 0.5965717434883118, 0.581506609916687, 0.5733853578567505, 0.5695885419845581, 0.5630911588668823, 0.5626384615898132, 0.8699556589126587, 0.8401718139648438, 0.8081323504447937, 0.7457098960876465, 0.7355364561080933, 0.7078714370727539, 0.6952799558639526, 0.6634620428085327, 0.6614522933959961, 0.651466965675354, 0.6480213403701782, 0.6411024928092957, 0.6411024928092957, 0.630544126033783, 0.6179158687591553, 0.5934650897979736, 0.5934650897979736, 0.5765975117683411, 0.5750842690467834, 0.5747420191764832, 0.5747420191764832, 0.9062701463699341, 0.8066403865814209, 0.7807842493057251, 0.7754436135292053, 0.7754436135292053, 0.7721590995788574, 0.7709296941757202, 0.7660318613052368, 0.7555851340293884, 0.7474518418312073, 0.739905834197998, 0.7387206554412842, 0.7308815121650696, 0.7242128849029541, 0.7224470973014832, 0.7224470973014832, 0.7222779989242554, 0.7222779989242554, 0.7147607803344727, 0.7140258550643921, 0.7140258550643921, 1.0, 1.0, 1.0, 1.0, 1.0, 1.0, 1.0, 1.0, 1.0, 1.0, 1.0, 1.0, 1.0, 1.0, 1.0, 1.0, 0.9944208860397339, 0.9905295968055725, 0.9905295968055725, 0.9905295968055725, 0.9905295968055725, 1.0, 1.0, 1.0, 1.0, 1.0, 1.0, 1.0, 1.0, 1.0, 1.0, 1.0, 1.0, 1.0, 1.0, 1.0, 1.0, 0.9944208860397339, 0.9905295968055725, 0.9905295968055725, 0.9905295968055725, 0.9905295968055725, 0.9398715496063232, 0.8832873106002808, 0.8832873106002808, 0.8765910863876343, 0.8765910863876343, 0.8613219261169434, 0.85297691822052, 0.8174898624420166, 0.8153170347213745, 0.8153170347213745, 0.8150414228439331, 0.8145659565925598, 0.7981322407722473, 0.796714723110199, 0.796714723110199, 0.7949091196060181, 0.7949091196060181, 0.7949091196060181, 0.7949091196060181, 0.789965033531189, 0.7816845774650574, 1.0, 1.0, 1.0, 1.0, 1.0, 1.0, 1.0, 1.0, 1.0, 1.0, 1.0, 1.0, 1.0, 1.0, 1.0, 1.0, 0.9944208860397339, 0.9905295968055725, 0.9905295968055725, 0.9905295968055725, 0.9905295968055725, 0.9695177674293518, 0.9695177674293518, 0.8968499898910522, 0.8879124522209167, 0.8777036070823669, 0.869175136089325, 0.8608163595199585, 0.8548109531402588, 0.8498772978782654, 0.8450978994369507, 0.8372255563735962, 0.8372255563735962, 0.8274361491203308, 0.8272621035575867, 0.8272621035575867, 0.8248668313026428, 0.824647843837738, 0.824647843837738, 0.8227121233940125, 0.8139113187789917, 0.8139113187789917, 0.9867261648178101, 0.8480928540229797, 0.8342849016189575, 0.8257077932357788, 0.8212882876396179, 0.8086245059967041, 0.798618733882904, 0.7955759763717651, 0.7851859331130981, 0.7785604596138, 0.7779886722564697, 0.776634693145752, 0.7725645303726196, 0.7713494300842285, 0.7709022760391235, 0.7678614854812622, 0.7662478089332581, 0.7602005004882812, 0.7544737458229065, 0.7533233165740967, 0.752949595451355, 0.7964389324188232, 0.7625125646591187, 0.7480269074440002, 0.7442456483840942, 0.7374163866043091, 0.7337620258331299, 0.7055330276489258, 0.687975287437439, 0.687975287437439, 0.6707243323326111, 0.6684048175811768, 0.6684048175811768, 0.6594491004943848, 0.6571454405784607, 0.6276423931121826, 0.6224017143249512, 0.6144704818725586, 0.6094651818275452, 0.6092750430107117, 0.6071212291717529, 0.6071212291717529, 0.9734591841697693, 0.9734591841697693, 0.8995101451873779, 0.8904274702072144, 0.8837052583694458, 0.8661141991615295, 0.8659798502922058, 0.8624164462089539, 0.8540998101234436, 0.8297935128211975, 0.8289399147033691, 0.8289399147033691, 0.8245093822479248, 0.8167781829833984, 0.8159909248352051, 0.8117789030075073, 0.8117789030075073, 0.810989260673523, 0.8050928115844727, 0.8050928115844727, 0.8044023513793945, 0.7290802597999573, 0.7043443918228149, 0.7037250995635986, 0.6905232667922974, 0.6622467041015625, 0.6457422971725464, 0.6334652304649353, 0.6311805248260498, 0.6308449506759644, 0.6292427778244019, 0.629122257232666, 0.6243160963058472, 0.6236589550971985, 0.6234256625175476, 0.6234256625175476, 0.6234256625175476, 0.6179705262184143, 0.6145740151405334, 0.6097652316093445, 0.6069437861442566, 0.6064525842666626, 0.7896045446395874, 0.7564160823822021, 0.7036194801330566, 0.7019119262695312, 0.6999136209487915, 0.6969612240791321, 0.696027398109436, 0.696027398109436, 0.696027398109436, 0.6955785751342773, 0.6843704581260681, 0.6823499202728271, 0.678122341632843, 0.6771436333656311, 0.6770724058151245, 0.6684750318527222, 0.6677048206329346, 0.6625443696975708, 0.6625443696975708, 0.6617721319198608, 0.6458940505981445, 0.8563268780708313, 0.8517469167709351, 0.7964529991149902, 0.7691663503646851, 0.7452988028526306, 0.7238565683364868, 0.698153018951416, 0.6474799513816833, 0.634543240070343, 0.6309434175491333, 0.618341326713562, 0.6144569516181946, 0.6068716645240784, 0.6017407774925232, 0.5997387170791626, 0.5997387170791626, 0.5956355929374695, 0.5928167700767517, 0.5867525935173035, 0.5804797410964966, 0.5797851085662842, 0.7896045446395874, 0.7564160823822021, 0.7036194801330566, 0.7019119262695312, 0.6999136209487915, 0.6969612240791321, 0.696027398109436, 0.696027398109436, 0.696027398109436, 0.6955785751342773, 0.6843704581260681, 0.6823499202728271, 0.678122341632843, 0.6771436333656311, 0.6770724058151245, 0.6684750318527222, 0.6677048206329346, 0.6625443696975708, 0.6625443696975708, 0.6617721319198608, 0.6458940505981445], \"xaxis\": \"x\", \"yaxis\": \"y\"}],\n",
              "                        {\"barmode\": \"relative\", \"legend\": {\"tracegroupgap\": 0}, \"template\": {\"data\": {\"bar\": [{\"error_x\": {\"color\": \"#2a3f5f\"}, \"error_y\": {\"color\": \"#2a3f5f\"}, \"marker\": {\"line\": {\"color\": \"#E5ECF6\", \"width\": 0.5}}, \"type\": \"bar\"}], \"barpolar\": [{\"marker\": {\"line\": {\"color\": \"#E5ECF6\", \"width\": 0.5}}, \"type\": \"barpolar\"}], \"carpet\": [{\"aaxis\": {\"endlinecolor\": \"#2a3f5f\", \"gridcolor\": \"white\", \"linecolor\": \"white\", \"minorgridcolor\": \"white\", \"startlinecolor\": \"#2a3f5f\"}, \"baxis\": {\"endlinecolor\": \"#2a3f5f\", \"gridcolor\": \"white\", \"linecolor\": \"white\", \"minorgridcolor\": \"white\", \"startlinecolor\": \"#2a3f5f\"}, \"type\": \"carpet\"}], \"choropleth\": [{\"colorbar\": {\"outlinewidth\": 0, \"ticks\": \"\"}, \"type\": \"choropleth\"}], \"contour\": [{\"colorbar\": {\"outlinewidth\": 0, \"ticks\": \"\"}, \"colorscale\": [[0.0, \"#0d0887\"], [0.1111111111111111, \"#46039f\"], [0.2222222222222222, \"#7201a8\"], [0.3333333333333333, \"#9c179e\"], [0.4444444444444444, \"#bd3786\"], [0.5555555555555556, \"#d8576b\"], [0.6666666666666666, \"#ed7953\"], [0.7777777777777778, \"#fb9f3a\"], [0.8888888888888888, \"#fdca26\"], [1.0, \"#f0f921\"]], \"type\": \"contour\"}], \"contourcarpet\": [{\"colorbar\": {\"outlinewidth\": 0, \"ticks\": \"\"}, \"type\": \"contourcarpet\"}], \"heatmap\": [{\"colorbar\": {\"outlinewidth\": 0, \"ticks\": \"\"}, \"colorscale\": [[0.0, \"#0d0887\"], [0.1111111111111111, \"#46039f\"], [0.2222222222222222, \"#7201a8\"], [0.3333333333333333, \"#9c179e\"], [0.4444444444444444, \"#bd3786\"], [0.5555555555555556, \"#d8576b\"], [0.6666666666666666, \"#ed7953\"], [0.7777777777777778, \"#fb9f3a\"], [0.8888888888888888, \"#fdca26\"], [1.0, \"#f0f921\"]], \"type\": \"heatmap\"}], \"heatmapgl\": [{\"colorbar\": {\"outlinewidth\": 0, \"ticks\": \"\"}, \"colorscale\": [[0.0, \"#0d0887\"], [0.1111111111111111, \"#46039f\"], [0.2222222222222222, \"#7201a8\"], [0.3333333333333333, \"#9c179e\"], [0.4444444444444444, \"#bd3786\"], [0.5555555555555556, \"#d8576b\"], [0.6666666666666666, \"#ed7953\"], [0.7777777777777778, \"#fb9f3a\"], [0.8888888888888888, \"#fdca26\"], [1.0, \"#f0f921\"]], \"type\": \"heatmapgl\"}], \"histogram\": [{\"marker\": {\"colorbar\": {\"outlinewidth\": 0, \"ticks\": \"\"}}, \"type\": \"histogram\"}], \"histogram2d\": [{\"colorbar\": {\"outlinewidth\": 0, \"ticks\": \"\"}, \"colorscale\": [[0.0, \"#0d0887\"], [0.1111111111111111, \"#46039f\"], [0.2222222222222222, \"#7201a8\"], [0.3333333333333333, \"#9c179e\"], [0.4444444444444444, \"#bd3786\"], [0.5555555555555556, \"#d8576b\"], [0.6666666666666666, \"#ed7953\"], [0.7777777777777778, \"#fb9f3a\"], [0.8888888888888888, \"#fdca26\"], [1.0, \"#f0f921\"]], \"type\": \"histogram2d\"}], \"histogram2dcontour\": [{\"colorbar\": {\"outlinewidth\": 0, \"ticks\": \"\"}, \"colorscale\": [[0.0, \"#0d0887\"], [0.1111111111111111, \"#46039f\"], [0.2222222222222222, \"#7201a8\"], [0.3333333333333333, \"#9c179e\"], [0.4444444444444444, \"#bd3786\"], [0.5555555555555556, \"#d8576b\"], [0.6666666666666666, \"#ed7953\"], [0.7777777777777778, \"#fb9f3a\"], [0.8888888888888888, \"#fdca26\"], [1.0, \"#f0f921\"]], \"type\": \"histogram2dcontour\"}], \"mesh3d\": [{\"colorbar\": {\"outlinewidth\": 0, \"ticks\": \"\"}, \"type\": \"mesh3d\"}], \"parcoords\": [{\"line\": {\"colorbar\": {\"outlinewidth\": 0, \"ticks\": \"\"}}, \"type\": \"parcoords\"}], \"pie\": [{\"automargin\": true, \"type\": \"pie\"}], \"scatter\": [{\"marker\": {\"colorbar\": {\"outlinewidth\": 0, \"ticks\": \"\"}}, \"type\": \"scatter\"}], \"scatter3d\": [{\"line\": {\"colorbar\": {\"outlinewidth\": 0, \"ticks\": \"\"}}, \"marker\": {\"colorbar\": {\"outlinewidth\": 0, \"ticks\": \"\"}}, \"type\": \"scatter3d\"}], \"scattercarpet\": [{\"marker\": {\"colorbar\": {\"outlinewidth\": 0, \"ticks\": \"\"}}, \"type\": \"scattercarpet\"}], \"scattergeo\": [{\"marker\": {\"colorbar\": {\"outlinewidth\": 0, \"ticks\": \"\"}}, \"type\": \"scattergeo\"}], \"scattergl\": [{\"marker\": {\"colorbar\": {\"outlinewidth\": 0, \"ticks\": \"\"}}, \"type\": \"scattergl\"}], \"scattermapbox\": [{\"marker\": {\"colorbar\": {\"outlinewidth\": 0, \"ticks\": \"\"}}, \"type\": \"scattermapbox\"}], \"scatterpolar\": [{\"marker\": {\"colorbar\": {\"outlinewidth\": 0, \"ticks\": \"\"}}, \"type\": \"scatterpolar\"}], \"scatterpolargl\": [{\"marker\": {\"colorbar\": {\"outlinewidth\": 0, \"ticks\": \"\"}}, \"type\": \"scatterpolargl\"}], \"scatterternary\": [{\"marker\": {\"colorbar\": {\"outlinewidth\": 0, \"ticks\": \"\"}}, \"type\": \"scatterternary\"}], \"surface\": [{\"colorbar\": {\"outlinewidth\": 0, \"ticks\": \"\"}, \"colorscale\": [[0.0, \"#0d0887\"], [0.1111111111111111, \"#46039f\"], [0.2222222222222222, \"#7201a8\"], [0.3333333333333333, \"#9c179e\"], [0.4444444444444444, \"#bd3786\"], [0.5555555555555556, \"#d8576b\"], [0.6666666666666666, \"#ed7953\"], [0.7777777777777778, \"#fb9f3a\"], [0.8888888888888888, \"#fdca26\"], [1.0, \"#f0f921\"]], \"type\": \"surface\"}], \"table\": [{\"cells\": {\"fill\": {\"color\": \"#EBF0F8\"}, \"line\": {\"color\": \"white\"}}, \"header\": {\"fill\": {\"color\": \"#C8D4E3\"}, \"line\": {\"color\": \"white\"}}, \"type\": \"table\"}]}, \"layout\": {\"annotationdefaults\": {\"arrowcolor\": \"#2a3f5f\", \"arrowhead\": 0, \"arrowwidth\": 1}, \"coloraxis\": {\"colorbar\": {\"outlinewidth\": 0, \"ticks\": \"\"}}, \"colorscale\": {\"diverging\": [[0, \"#8e0152\"], [0.1, \"#c51b7d\"], [0.2, \"#de77ae\"], [0.3, \"#f1b6da\"], [0.4, \"#fde0ef\"], [0.5, \"#f7f7f7\"], [0.6, \"#e6f5d0\"], [0.7, \"#b8e186\"], [0.8, \"#7fbc41\"], [0.9, \"#4d9221\"], [1, \"#276419\"]], \"sequential\": [[0.0, \"#0d0887\"], [0.1111111111111111, \"#46039f\"], [0.2222222222222222, \"#7201a8\"], [0.3333333333333333, \"#9c179e\"], [0.4444444444444444, \"#bd3786\"], [0.5555555555555556, \"#d8576b\"], [0.6666666666666666, \"#ed7953\"], [0.7777777777777778, \"#fb9f3a\"], [0.8888888888888888, \"#fdca26\"], [1.0, \"#f0f921\"]], \"sequentialminus\": [[0.0, \"#0d0887\"], [0.1111111111111111, \"#46039f\"], [0.2222222222222222, \"#7201a8\"], [0.3333333333333333, \"#9c179e\"], [0.4444444444444444, \"#bd3786\"], [0.5555555555555556, \"#d8576b\"], [0.6666666666666666, \"#ed7953\"], [0.7777777777777778, \"#fb9f3a\"], [0.8888888888888888, \"#fdca26\"], [1.0, \"#f0f921\"]]}, \"colorway\": [\"#636efa\", \"#EF553B\", \"#00cc96\", \"#ab63fa\", \"#FFA15A\", \"#19d3f3\", \"#FF6692\", \"#B6E880\", \"#FF97FF\", \"#FECB52\"], \"font\": {\"color\": \"#2a3f5f\"}, \"geo\": {\"bgcolor\": \"white\", \"lakecolor\": \"white\", \"landcolor\": \"#E5ECF6\", \"showlakes\": true, \"showland\": true, \"subunitcolor\": \"white\"}, \"hoverlabel\": {\"align\": \"left\"}, \"hovermode\": \"closest\", \"mapbox\": {\"style\": \"light\"}, \"paper_bgcolor\": \"white\", \"plot_bgcolor\": \"#E5ECF6\", \"polar\": {\"angularaxis\": {\"gridcolor\": \"white\", \"linecolor\": \"white\", \"ticks\": \"\"}, \"bgcolor\": \"#E5ECF6\", \"radialaxis\": {\"gridcolor\": \"white\", \"linecolor\": \"white\", \"ticks\": \"\"}}, \"scene\": {\"xaxis\": {\"backgroundcolor\": \"#E5ECF6\", \"gridcolor\": \"white\", \"gridwidth\": 2, \"linecolor\": \"white\", \"showbackground\": true, \"ticks\": \"\", \"zerolinecolor\": \"white\"}, \"yaxis\": {\"backgroundcolor\": \"#E5ECF6\", \"gridcolor\": \"white\", \"gridwidth\": 2, \"linecolor\": \"white\", \"showbackground\": true, \"ticks\": \"\", \"zerolinecolor\": \"white\"}, \"zaxis\": {\"backgroundcolor\": \"#E5ECF6\", \"gridcolor\": \"white\", \"gridwidth\": 2, \"linecolor\": \"white\", \"showbackground\": true, \"ticks\": \"\", \"zerolinecolor\": \"white\"}}, \"shapedefaults\": {\"line\": {\"color\": \"#2a3f5f\"}}, \"ternary\": {\"aaxis\": {\"gridcolor\": \"white\", \"linecolor\": \"white\", \"ticks\": \"\"}, \"baxis\": {\"gridcolor\": \"white\", \"linecolor\": \"white\", \"ticks\": \"\"}, \"bgcolor\": \"#E5ECF6\", \"caxis\": {\"gridcolor\": \"white\", \"linecolor\": \"white\", \"ticks\": \"\"}}, \"title\": {\"x\": 0.05}, \"xaxis\": {\"automargin\": true, \"gridcolor\": \"white\", \"linecolor\": \"white\", \"ticks\": \"\", \"title\": {\"standoff\": 15}, \"zerolinecolor\": \"white\", \"zerolinewidth\": 2}, \"yaxis\": {\"automargin\": true, \"gridcolor\": \"white\", \"linecolor\": \"white\", \"ticks\": \"\", \"title\": {\"standoff\": 15}, \"zerolinecolor\": \"white\", \"zerolinewidth\": 2}}}, \"title\": {\"text\": \"Scores for TF-IDF\"}, \"xaxis\": {\"anchor\": \"y\", \"domain\": [0.0, 1.0], \"title\": {\"text\": \"score\"}}, \"yaxis\": {\"anchor\": \"x\", \"domain\": [0.0, 1.0], \"title\": {\"text\": \"count\"}}},\n",
              "                        {\"responsive\": true}\n",
              "                    ).then(function(){\n",
              "                            \n",
              "var gd = document.getElementById('f09ccb8d-5431-493c-940a-74c952c0ca09');\n",
              "var x = new MutationObserver(function (mutations, observer) {{\n",
              "        var display = window.getComputedStyle(gd).display;\n",
              "        if (!display || display === 'none') {{\n",
              "            console.log([gd, 'removed!']);\n",
              "            Plotly.purge(gd);\n",
              "            observer.disconnect();\n",
              "        }}\n",
              "}});\n",
              "\n",
              "// Listen for the removal of the full notebook cells\n",
              "var notebookContainer = gd.closest('#notebook-container');\n",
              "if (notebookContainer) {{\n",
              "    x.observe(notebookContainer, {childList: true});\n",
              "}}\n",
              "\n",
              "// Listen for the clearing of the current output cell\n",
              "var outputEl = gd.closest('.output');\n",
              "if (outputEl) {{\n",
              "    x.observe(outputEl, {childList: true});\n",
              "}}\n",
              "\n",
              "                        })\n",
              "                };\n",
              "                \n",
              "            </script>\n",
              "        </div>\n",
              "</body>\n",
              "</html>"
            ]
          },
          "metadata": {}
        }
      ]
    },
    {
      "cell_type": "code",
      "metadata": {
        "id": "QIBvHL1aOnOT"
      },
      "source": [
        "if use_wandb:\n",
        "  wandb.log({\"scores_hist\": fig})"
      ],
      "execution_count": 55,
      "outputs": []
    },
    {
      "cell_type": "code",
      "metadata": {
        "colab": {
          "base_uri": "https://localhost:8080/",
          "height": 293
        },
        "id": "ohaxVQ6d9iiD",
        "outputId": "c4efb4dd-b175-433c-fb00-43a8babe5c3a"
      },
      "source": [
        "result, details = recommend_tune(df_sim, \"These Foolish Things [jazz1350]\")\n",
        "result.head(5)"
      ],
      "execution_count": 56,
      "outputs": [
        {
          "output_type": "execute_result",
          "data": {
            "text/html": [
              "<div>\n",
              "<style scoped>\n",
              "    .dataframe tbody tr th:only-of-type {\n",
              "        vertical-align: middle;\n",
              "    }\n",
              "\n",
              "    .dataframe tbody tr th {\n",
              "        vertical-align: top;\n",
              "    }\n",
              "\n",
              "    .dataframe thead th {\n",
              "        text-align: right;\n",
              "    }\n",
              "</style>\n",
              "<table border=\"1\" class=\"dataframe\">\n",
              "  <thead>\n",
              "    <tr style=\"text-align: right;\">\n",
              "      <th></th>\n",
              "      <th>index</th>\n",
              "      <th>reference</th>\n",
              "      <th>reference_titleid</th>\n",
              "      <th>similar_title</th>\n",
              "      <th>score</th>\n",
              "      <th>max</th>\n",
              "      <th>score_div_max</th>\n",
              "      <th>similar_titleid</th>\n",
              "    </tr>\n",
              "  </thead>\n",
              "  <tbody>\n",
              "    <tr>\n",
              "      <th>0</th>\n",
              "      <td>0</td>\n",
              "      <td>These Foolish Things [jazz1350]</td>\n",
              "      <td>1168</td>\n",
              "      <td>I Loves You Porgy [jazz1350]</td>\n",
              "      <td>0.986726</td>\n",
              "      <td>0.986726</td>\n",
              "      <td>1.000000</td>\n",
              "      <td>520</td>\n",
              "    </tr>\n",
              "    <tr>\n",
              "      <th>1</th>\n",
              "      <td>1</td>\n",
              "      <td>These Foolish Things [jazz1350]</td>\n",
              "      <td>1168</td>\n",
              "      <td>More Than You Know [jazz1350]</td>\n",
              "      <td>0.796439</td>\n",
              "      <td>0.796439</td>\n",
              "      <td>1.000000</td>\n",
              "      <td>829</td>\n",
              "    </tr>\n",
              "    <tr>\n",
              "      <th>2</th>\n",
              "      <td>2</td>\n",
              "      <td>These Foolish Things [jazz1350]</td>\n",
              "      <td>1168</td>\n",
              "      <td>What Are You Doing New Years [jazz1350]</td>\n",
              "      <td>0.762513</td>\n",
              "      <td>0.796439</td>\n",
              "      <td>0.957402</td>\n",
              "      <td>1265</td>\n",
              "    </tr>\n",
              "    <tr>\n",
              "      <th>3</th>\n",
              "      <td>3</td>\n",
              "      <td>These Foolish Things [jazz1350]</td>\n",
              "      <td>1168</td>\n",
              "      <td>They Can't Take That Away From Me [jazz1350]</td>\n",
              "      <td>0.748027</td>\n",
              "      <td>0.796439</td>\n",
              "      <td>0.939214</td>\n",
              "      <td>1170</td>\n",
              "    </tr>\n",
              "    <tr>\n",
              "      <th>4</th>\n",
              "      <td>4</td>\n",
              "      <td>These Foolish Things [jazz1350]</td>\n",
              "      <td>1168</td>\n",
              "      <td>If I Had You [jazz1350]</td>\n",
              "      <td>0.744246</td>\n",
              "      <td>0.796439</td>\n",
              "      <td>0.934467</td>\n",
              "      <td>577</td>\n",
              "    </tr>\n",
              "  </tbody>\n",
              "</table>\n",
              "</div>"
            ],
            "text/plain": [
              "   index                        reference  ...  score_div_max similar_titleid\n",
              "0      0  These Foolish Things [jazz1350]  ...       1.000000             520\n",
              "1      1  These Foolish Things [jazz1350]  ...       1.000000             829\n",
              "2      2  These Foolish Things [jazz1350]  ...       0.957402            1265\n",
              "3      3  These Foolish Things [jazz1350]  ...       0.939214            1170\n",
              "4      4  These Foolish Things [jazz1350]  ...       0.934467             577\n",
              "\n",
              "[5 rows x 8 columns]"
            ]
          },
          "metadata": {},
          "execution_count": 56
        }
      ]
    },
    {
      "cell_type": "markdown",
      "metadata": {
        "id": "UveSDI6QWALe"
      },
      "source": [
        "Copy results into a dataframe for later logging to W&B"
      ]
    },
    {
      "cell_type": "code",
      "metadata": {
        "id": "AEEqdXBiT5bl"
      },
      "source": [
        "dd = pd.DataFrame(columns = recommender_results_cols)\n",
        "\n",
        "for tune in tunes_eval_list:\n",
        "  result, details = recommend_tune(df_sim, tune)\n",
        "  dd['id'] = result['index']\n",
        "  dd['method'] = 'tfidf'\n",
        "  dd['reference'] = tune\n",
        "  dd['similar'] = result['similar_title']\n",
        "  dd['score_div_max'] = result['score_div_max']\n",
        "  dd['score'] = result['score']\n",
        "\n",
        "recommender_results = recommender_results.append(dd)"
      ],
      "execution_count": 57,
      "outputs": []
    },
    {
      "cell_type": "markdown",
      "metadata": {
        "id": "wqaUEFqxXZYB"
      },
      "source": [
        "### Test Contrafacts"
      ]
    },
    {
      "cell_type": "markdown",
      "metadata": {
        "id": "563ncYqAfIyN"
      },
      "source": [
        "With the model, query the top N highest matches for each section. For a tune, if at least one section receives the recommendation  for the expected title, increase the match counter."
      ]
    },
    {
      "cell_type": "code",
      "metadata": {
        "id": "RVPtraR-hg0G"
      },
      "source": [
        "def test_contrafacts(tunes, index, model, N=15):\n",
        "  matches = 0\n",
        "  number_of_sections = 0\n",
        "  results = {}\n",
        "\n",
        "  for tune, similar_tune in tunes:\n",
        "\n",
        "    # loop over all sections of the tune\n",
        "    section_matches = 0\n",
        "    for s1 in title_to_sectionid[tune]:\n",
        "      query = processed_corpus[s1]\n",
        "      query_bow = dictionary.doc2bow(query)\n",
        "\n",
        "      # perform a similarity query against the corpus\n",
        "      similarities = index[model[query_bow]]\n",
        "      sims = sorted(enumerate(similarities), key=lambda item: -item[1])\n",
        "\n",
        "      # check if the section matches the expected title; consider only the first 15 recommendations\n",
        "      i = 0\n",
        "      for sectionid, value in sims:\n",
        "        if i >= N:\n",
        "          break\n",
        "        i += 1\n",
        "        if sectionid_to_title[sectionid] == similar_tune:\n",
        "          section_matches += 1\n",
        "\n",
        "    # for each title, increase matches if at least one of the section matched the expected title\n",
        "    if section_matches > 0:\n",
        "      matches += 1  \n",
        "      results[f'{tune}, {similar_tune}'] = 1\n",
        "    else:\n",
        "      results[f'{tune}, {similar_tune}'] = 0\n",
        "  \n",
        "  return matches, results\n"
      ],
      "execution_count": 59,
      "outputs": []
    },
    {
      "cell_type": "code",
      "metadata": {
        "colab": {
          "base_uri": "https://localhost:8080/"
        },
        "id": "Q628rO5DhxWD",
        "outputId": "27ef4ea6-dbd0-4df6-8c22-e49836365a2d"
      },
      "source": [
        "topN = 15\n",
        "matches, results = test_contrafacts(contrafacts, index_tfidf, tfidf, topN)\n",
        "\n",
        "[print(f\"{val}: {rr}\") for rr, val in results.items()] \n",
        "print() \n",
        "print(f\"Found matches: {matches} out of {len(results)}: {100*matches/len(results):.3f}%\")"
      ],
      "execution_count": 60,
      "outputs": [
        {
          "output_type": "stream",
          "name": "stdout",
          "text": [
            "0: 26-2 [jazz1350], Confirmation [jazz1350]\n",
            "0: 52nd Street Theme [jazz1350], I Got Rhythm [jazz1350]\n",
            "1: Ablution [jazz1350], All The Things You Are [jazz1350]\n",
            "1: Anthropology [jazz1350], I Got Rhythm [jazz1350]\n",
            "0: Ballade [jazz1350], As Long As I Live [jazz1350]\n",
            "1: Bright Mississippi [jazz1350], Sweet Georgia Brown [jazz1350]\n",
            "1: C.T.A. [jazz1350], I Got Rhythm [jazz1350]\n",
            "1: Cottontail [jazz1350], I Got Rhythm [jazz1350]\n",
            "1: Countdown [jazz1350], Tune Up [jazz1350]\n",
            "0: Dewey Square [jazz1350], Oh, Lady Be Good [jazz1350]\n",
            "1: Dexterity [jazz1350], I Got Rhythm [jazz1350]\n",
            "1: Dig [jazz1350], Sweet Georgia Brown [jazz1350]\n",
            "1: Donna Lee [jazz1350], Indiana (Back Home Again In) [jazz1350]\n",
            "0: Don't Be That Way [jazz1350], I Got Rhythm [jazz1350]\n",
            "1: Evidence [jazz1350], Just You, Just Me [jazz1350]\n",
            "1: Flintstones [jazz1350], I Got Rhythm [jazz1350]\n",
            "0: Four On Six [jazz1350], Summertime [jazz1350]\n",
            "1: Freight Train [jazz1350], Blues For Alice [jazz1350]\n",
            "0: Good Bait [jazz1350], I Got Rhythm [jazz1350]\n",
            "1: Hackensack [jazz1350], Oh, Lady Be Good [jazz1350]\n",
            "1: Half Nelson [jazz1350], Lady Bird [jazz1350]\n",
            "1: Hot House [jazz1350], What Is This Thing Called Love [jazz1350]\n",
            "1: Impressions [jazz1350], So What [jazz1350]\n",
            "0: In A Mellow Tone (In A Mellotone) [jazz1350], Rose Room [jazz1350]\n",
            "1: In Walked Bud [jazz1350], Blue Skies [jazz1350]\n",
            "1: Ko Ko [jazz1350], Cherokee [jazz1350]\n",
            "0: Lennie's Pennies [jazz1350], Pennies From Heaven [jazz1350]\n",
            "0: Little Rootie Tootie [jazz1350], I Got Rhythm [jazz1350]\n",
            "0: Little Willie Leaps [jazz1350], All God's Chillun Got Rhythm [jazz1350]\n",
            "0: Lullaby Of Birdland [jazz1350], Love Me Or Leave Me [jazz1350]\n",
            "0: My Little Suede Shoes [jazz1350], Jeepers Creepers [jazz1350]\n",
            "1: Ornithology [jazz1350], How High The Moon [jazz1350]\n",
            "0: Quasimodo (Theme) [jazz1350], Embraceable You [jazz1350]\n",
            "0: Room 608 [jazz1350], I Got Rhythm [jazz1350]\n",
            "1: Satellite [jazz1350], How High The Moon [jazz1350]\n",
            "0: Scrapple From The Apple [jazz1350], Honeysuckle Rose [jazz1350]\n",
            "1: Scrapple From The Apple [jazz1350], I Got Rhythm [jazz1350]\n",
            "1: Tour De Force [jazz1350], Jeepers Creepers [jazz1350]\n",
            "1: Wow [jazz1350], You Can Depend On Me [jazz1350]\n",
            "1: Yardbird Suite [jazz1350], Rosetta [jazz1350]\n",
            "0: Sweet Sue, Just You [jazz1350], Honeysuckle Rose [jazz1350]\n",
            "0: Sweet Sue, Just You [jazz1350], Bye Bye Blackbird [jazz1350]\n",
            "0: These Foolish Things [jazz1350], Blue Moon [jazz1350]\n",
            "1: These Foolish Things [jazz1350], More Than You Know [jazz1350]\n",
            "1: These Foolish Things [jazz1350], Isn't It A Pity [jazz1350]\n",
            "0: These Foolish Things [jazz1350], Soultrain [jazz1350]\n",
            "0: These Foolish Things [jazz1350], Why Do I Love You [jazz1350]\n",
            "1: Misty [jazz1350], Portrait Of Jennie [jazz1350]\n",
            "0: Misty [jazz1350], September In The Rain [jazz1350]\n",
            "1: Misty [jazz1350], I May Be Wrong [jazz1350]\n",
            "\n",
            "Found matches: 28 out of 50: 56.000%\n"
          ]
        }
      ]
    },
    {
      "cell_type": "code",
      "metadata": {
        "id": "8lKZukYybvMJ"
      },
      "source": [
        "model_name = 'tfidf'\n",
        "if use_wandb:\n",
        "  wandb.log(\n",
        "      {model_name: {\n",
        "                'contrafacts': {\n",
        "                    'topN': topN,\n",
        "                    'success': matches/len(contrafacts),\n",
        "                    #'results': results\n",
        "                    }\n",
        "                   },\n",
        "       'all_models': {\n",
        "           model_name: wandb.Table(\n",
        "               columns=[\"Title\", \"Match\"],\n",
        "               data=[[key, value] for key, value in results.items()]),\n",
        "       }\n",
        "       })"
      ],
      "execution_count": 61,
      "outputs": []
    },
    {
      "cell_type": "markdown",
      "metadata": {
        "id": "Phw7fBDk0px7"
      },
      "source": [
        "## Store TF-IDF Model to W&B"
      ]
    },
    {
      "cell_type": "code",
      "metadata": {
        "id": "KdYWJX-60pdd"
      },
      "source": [
        "if use_wandb:\n",
        "  model_artifact = wandb.Artifact(\n",
        "      \"model_tfidf\", \n",
        "      type=\"model\",\n",
        "      description=\"TF-IDF Model\",\n",
        "      metadata=\"\")\n",
        "\n",
        "  model_artifact.add_file(\"/content/index/tfidf.model\")\n",
        "  model_artifact.add_file(\"/content/index/tfidf.index\")\n",
        "  wandb.log_artifact(model_artifact)"
      ],
      "execution_count": 62,
      "outputs": []
    },
    {
      "cell_type": "markdown",
      "metadata": {
        "id": "Pj0mpWpahPu1"
      },
      "source": [
        "## Get Recommender Data for WebApp\n",
        "\n"
      ]
    },
    {
      "cell_type": "code",
      "metadata": {
        "id": "buRbSTWehvPP"
      },
      "source": [
        "tune_test = [\"These Foolish Things [jazz1350]\",\n",
        "             \"Misty [jazz1350]\"]"
      ],
      "execution_count": 63,
      "outputs": []
    },
    {
      "cell_type": "code",
      "metadata": {
        "colab": {
          "base_uri": "https://localhost:8080/"
        },
        "id": "kwdXs-pZjKKD",
        "outputId": "93bf7ffe-96c7-4470-9c20-423f49f89c20"
      },
      "source": [
        "%%time\n",
        "if generate_webapp_data:\n",
        "  _tunes = list(tunes['title_playlist'].values())\n",
        "\n",
        "  df_sim = get_sim_scores(_tunes, index_tfidf, tfidf)\n",
        "\n",
        "  result = None\n",
        "  for tune in _tunes:\n",
        "    tune_result, details = recommend_tune(df_sim, tune)\n",
        "    if result is None:\n",
        "      result = pd.DataFrame(columns=tune_result.columns)\n",
        "    result = result.append(tune_result)\n",
        "\n",
        "  # save to file\n",
        "  result.to_csv('output/recommender_tfidf.csv', sep='\\t', encoding='utf8')\n",
        "\n",
        "  # save to wandb\n",
        "  if use_wandb:\n",
        "    model_artifact = wandb.Artifact(\n",
        "        \"recommender_tfidf\", \n",
        "        type=\"csv\",\n",
        "        description=\"Recommendations for each Tune using TF-IDF Model (csv file)\",\n",
        "        metadata=\"\")\n",
        "\n",
        "    model_artifact.add_file('output/recommender_tfidf.csv')\n",
        "    wandb.log_artifact(model_artifact)"
      ],
      "execution_count": 64,
      "outputs": [
        {
          "output_type": "stream",
          "name": "stdout",
          "text": [
            "CPU times: user 4 µs, sys: 0 ns, total: 4 µs\n",
            "Wall time: 7.39 µs\n"
          ]
        }
      ]
    },
    {
      "cell_type": "code",
      "metadata": {
        "id": "uyJxqE5bnx7V"
      },
      "source": [
        ""
      ],
      "execution_count": 64,
      "outputs": []
    },
    {
      "cell_type": "markdown",
      "metadata": {
        "id": "99xHBRsd--OB"
      },
      "source": [
        "# LSA (Latent Semantic Analysis), aka LSI (Latent Semantic Index) "
      ]
    },
    {
      "cell_type": "code",
      "metadata": {
        "id": "adsW9Uh9_JXs"
      },
      "source": [
        "from collections import defaultdict"
      ],
      "execution_count": 65,
      "outputs": []
    },
    {
      "cell_type": "code",
      "metadata": {
        "colab": {
          "base_uri": "https://localhost:8080/"
        },
        "id": "s3AJZGRD_IHW",
        "outputId": "6b407f3e-14be-4086-90a1-3e93fbd27f01"
      },
      "source": [
        "num_topics = lsi_config['num_topics']\n",
        "\n",
        "# remove words that appear only once\n",
        "frequency = defaultdict(int)\n",
        "for text in processed_corpus:\n",
        "    for token in text:\n",
        "        frequency[token] += 1\n",
        "\n",
        "data = [[token for token in text if frequency[token] > 1] for text in processed_corpus]\n",
        "dictionary = corpora.Dictionary(data)\n",
        "\n",
        "# doc2bow counts the number of occurences of each distinct word,\n",
        "# converts the word to its integer word id and returns the result\n",
        "# as a sparse vector\n",
        "\n",
        "bow_corpus = [dictionary.doc2bow(text) for text in data]\n",
        "lsi = LsiModel(bow_corpus, id2word=dictionary, num_topics=num_topics)  # num_topics can be maximum the size of the number of unique tokens"
      ],
      "execution_count": 66,
      "outputs": [
        {
          "output_type": "stream",
          "name": "stderr",
          "text": [
            "2021-11-28 07:12:32,484 : INFO : adding document #0 to Dictionary(0 unique tokens: [])\n",
            "2021-11-28 07:12:32,603 : INFO : built Dictionary(72 unique tokens: ['Am', 'B7', 'C', 'C#', 'C7']...) from 5391 documents (total 82622 corpus positions)\n",
            "2021-11-28 07:12:32,604 : INFO : Dictionary lifecycle event {'msg': \"built Dictionary(72 unique tokens: ['Am', 'B7', 'C', 'C#', 'C7']...) from 5391 documents (total 82622 corpus positions)\", 'datetime': '2021-11-28T07:12:32.604647', 'gensim': '4.1.2', 'python': '3.7.12 (default, Sep 10 2021, 00:21:48) \\n[GCC 7.5.0]', 'platform': 'Linux-5.4.104+-x86_64-with-Ubuntu-18.04-bionic', 'event': 'created'}\n",
            "2021-11-28 07:12:32,666 : INFO : using serial LSI version on this node\n",
            "2021-11-28 07:12:32,668 : INFO : updating model with new documents\n",
            "2021-11-28 07:12:32,670 : INFO : preparing a new chunk of documents\n",
            "2021-11-28 07:12:32,713 : INFO : using 100 extra samples and 2 power iterations\n",
            "2021-11-28 07:12:32,715 : INFO : 1st phase: constructing (72, 300) action matrix\n",
            "2021-11-28 07:12:32,814 : INFO : orthonormalizing (72, 300) action matrix\n",
            "2021-11-28 07:12:32,867 : INFO : 2nd phase: running dense svd on (72, 5391) matrix\n",
            "2021-11-28 07:12:32,931 : INFO : computing the final decomposition\n",
            "2021-11-28 07:12:32,934 : INFO : keeping 72 factors (discarding 0.000% of energy spectrum)\n",
            "2021-11-28 07:12:32,941 : INFO : processed documents up to #5391\n",
            "2021-11-28 07:12:32,944 : INFO : topic #0(398.310): 0.714*\"C\" + 0.508*\"G7\" + 0.286*\"Dm\" + 0.176*\"D7\" + 0.168*\"A7\" + 0.160*\"F\" + 0.150*\"Am\" + 0.115*\"C7\" + 0.092*\"E7\" + 0.080*\"Em\"\n",
            "2021-11-28 07:12:32,946 : INFO : topic #1(168.270): 0.780*\"Am\" + -0.378*\"C\" + 0.342*\"E7\" + 0.266*\"Dm\" + 0.114*\"Bm7b5\" + 0.097*\"Em\" + 0.088*\"A7\" + 0.080*\"D7\" + 0.071*\"F7\" + 0.066*\"B7\"\n",
            "2021-11-28 07:12:32,948 : INFO : topic #2(129.738): -0.652*\"Dm\" + 0.363*\"Am\" + 0.348*\"C\" + -0.270*\"A7\" + -0.263*\"G7\" + 0.232*\"F\" + -0.229*\"Em\" + 0.181*\"E7\" + 0.146*\"D7\" + 0.065*\"G\"\n",
            "2021-11-28 07:12:32,951 : INFO : topic #3(113.617): -0.724*\"C7\" + 0.341*\"C\" + -0.300*\"D7\" + -0.272*\"G7\" + 0.245*\"Dm\" + -0.218*\"F\" + 0.179*\"Am\" + -0.130*\"F7\" + -0.102*\"Gm\" + -0.094*\"Bb7\"\n",
            "2021-11-28 07:12:32,953 : INFO : topic #4(104.284): -0.579*\"D7\" + 0.415*\"C7\" + 0.354*\"F\" + -0.307*\"G7\" + -0.293*\"A7\" + 0.279*\"Dm\" + -0.159*\"E7\" + 0.141*\"C\" + 0.137*\"Em\" + 0.114*\"Gm\"\n",
            "2021-11-28 07:12:32,955 : INFO : LsiModel lifecycle event {'msg': 'trained LsiModel(num_terms=72, num_topics=200, decay=1.0, chunksize=20000) in 0.29s', 'datetime': '2021-11-28T07:12:32.955629', 'gensim': '4.1.2', 'python': '3.7.12 (default, Sep 10 2021, 00:21:48) \\n[GCC 7.5.0]', 'platform': 'Linux-5.4.104+-x86_64-with-Ubuntu-18.04-bionic', 'event': 'created'}\n"
          ]
        }
      ]
    },
    {
      "cell_type": "code",
      "metadata": {
        "id": "EvxSQFfBBNMJ",
        "colab": {
          "base_uri": "https://localhost:8080/"
        },
        "outputId": "06f927f5-1b44-41d2-f71a-ff5f80049d44"
      },
      "source": [
        "index_lsi = similarities.Similarity('/content/index/index_lsi', lsi[bow_corpus], num_features=len(dictionary))"
      ],
      "execution_count": 67,
      "outputs": [
        {
          "output_type": "stream",
          "name": "stderr",
          "text": [
            "2021-11-28 07:12:32,968 : INFO : starting similarity index under /content/index/index_lsi\n"
          ]
        }
      ]
    },
    {
      "cell_type": "code",
      "metadata": {
        "id": "3saA6NY5Tzer"
      },
      "source": [
        "#index_lsi = similarities.SparseMatrixSimilarity(lsi[bow_corpus], num_features = len(dictionary))\n",
        "#index_lsi = similarities.MatrixSimilarity(lsi[bow_corpus])  # transform corpus to LSI space and index it\n"
      ],
      "execution_count": 68,
      "outputs": []
    },
    {
      "cell_type": "code",
      "metadata": {
        "colab": {
          "base_uri": "https://localhost:8080/"
        },
        "id": "F5pbDMVyfEtS",
        "outputId": "ae4f376d-ed29-476e-e841-c99e91d79c96"
      },
      "source": [
        "lsi.save('/content/index/lsi.model')\n",
        "index_lsi.save('/content/index/lsi_matrixsim.index')\n"
      ],
      "execution_count": 69,
      "outputs": [
        {
          "output_type": "stream",
          "name": "stderr",
          "text": [
            "2021-11-28 07:12:33,576 : INFO : Projection lifecycle event {'fname_or_handle': '/content/index/lsi.model.projection', 'separately': 'None', 'sep_limit': 10485760, 'ignore': frozenset(), 'datetime': '2021-11-28T07:12:33.576583', 'gensim': '4.1.2', 'python': '3.7.12 (default, Sep 10 2021, 00:21:48) \\n[GCC 7.5.0]', 'platform': 'Linux-5.4.104+-x86_64-with-Ubuntu-18.04-bionic', 'event': 'saving'}\n",
            "2021-11-28 07:12:33,579 : INFO : saved /content/index/lsi.model.projection\n",
            "2021-11-28 07:12:33,581 : INFO : LsiModel lifecycle event {'fname_or_handle': '/content/index/lsi.model', 'separately': 'None', 'sep_limit': 10485760, 'ignore': ['projection', 'dispatcher'], 'datetime': '2021-11-28T07:12:33.581823', 'gensim': '4.1.2', 'python': '3.7.12 (default, Sep 10 2021, 00:21:48) \\n[GCC 7.5.0]', 'platform': 'Linux-5.4.104+-x86_64-with-Ubuntu-18.04-bionic', 'event': 'saving'}\n",
            "2021-11-28 07:12:33,584 : INFO : not storing attribute projection\n",
            "2021-11-28 07:12:33,586 : INFO : not storing attribute dispatcher\n",
            "2021-11-28 07:12:33,588 : INFO : saved /content/index/lsi.model\n",
            "2021-11-28 07:12:33,590 : INFO : creating matrix with 5391 documents and 72 features\n",
            "2021-11-28 07:12:33,601 : INFO : creating dense shard #0\n",
            "2021-11-28 07:12:33,603 : INFO : saving index shard to /content/index/index_lsi.0\n",
            "2021-11-28 07:12:33,606 : INFO : MatrixSimilarity lifecycle event {'fname_or_handle': '/content/index/index_lsi.0', 'separately': 'None', 'sep_limit': 10485760, 'ignore': frozenset(), 'datetime': '2021-11-28T07:12:33.606104', 'gensim': '4.1.2', 'python': '3.7.12 (default, Sep 10 2021, 00:21:48) \\n[GCC 7.5.0]', 'platform': 'Linux-5.4.104+-x86_64-with-Ubuntu-18.04-bionic', 'event': 'saving'}\n",
            "2021-11-28 07:12:33,610 : INFO : saved /content/index/index_lsi.0\n",
            "2021-11-28 07:12:33,613 : INFO : loading MatrixSimilarity object from /content/index/index_lsi.0\n",
            "2021-11-28 07:12:33,616 : INFO : MatrixSimilarity lifecycle event {'fname': '/content/index/index_lsi.0', 'datetime': '2021-11-28T07:12:33.616293', 'gensim': '4.1.2', 'python': '3.7.12 (default, Sep 10 2021, 00:21:48) \\n[GCC 7.5.0]', 'platform': 'Linux-5.4.104+-x86_64-with-Ubuntu-18.04-bionic', 'event': 'loaded'}\n",
            "2021-11-28 07:12:33,620 : INFO : Similarity lifecycle event {'fname_or_handle': '/content/index/lsi_matrixsim.index', 'separately': 'None', 'sep_limit': 10485760, 'ignore': frozenset(), 'datetime': '2021-11-28T07:12:33.620850', 'gensim': '4.1.2', 'python': '3.7.12 (default, Sep 10 2021, 00:21:48) \\n[GCC 7.5.0]', 'platform': 'Linux-5.4.104+-x86_64-with-Ubuntu-18.04-bionic', 'event': 'saving'}\n",
            "2021-11-28 07:12:33,623 : INFO : saved /content/index/lsi_matrixsim.index\n"
          ]
        }
      ]
    },
    {
      "cell_type": "code",
      "metadata": {
        "colab": {
          "base_uri": "https://localhost:8080/"
        },
        "id": "1udPIceqYk6S",
        "outputId": "4143a31e-d76e-4acb-d42e-191101a3c8d4"
      },
      "source": [
        "!ls -la /content/index"
      ],
      "execution_count": 70,
      "outputs": [
        {
          "output_type": "stream",
          "name": "stdout",
          "text": [
            "total 1932\n",
            "drwxr-xr-x 2 root root    4096 Nov 28 07:12 .\n",
            "drwxr-xr-x 1 root root    4096 Nov 28 07:12 ..\n",
            "-rw-r--r-- 1 root root 1553280 Nov 28 07:12 index_lsi.0\n",
            "-rw-r--r-- 1 root root     742 Nov 28 07:12 lsi_matrixsim.index\n",
            "-rw-r--r-- 1 root root    2728 Nov 28 07:12 lsi.model\n",
            "-rw-r--r-- 1 root root   42728 Nov 28 07:12 lsi.model.projection\n",
            "-rw-r--r-- 1 root root  352360 Nov 28 07:12 tfidf.index\n",
            "-rw-r--r-- 1 root root    2782 Nov 28 07:12 tfidf.model\n"
          ]
        }
      ]
    },
    {
      "cell_type": "markdown",
      "metadata": {
        "id": "u05KD64Ai1uo"
      },
      "source": [
        "## Tests"
      ]
    },
    {
      "cell_type": "markdown",
      "metadata": {
        "id": "pDxTCAGv9MmZ"
      },
      "source": [
        "### Test for single tunes"
      ]
    },
    {
      "cell_type": "code",
      "metadata": {
        "colab": {
          "base_uri": "https://localhost:8080/"
        },
        "id": "khASSJ1eEuf5",
        "outputId": "5f58c104-4c18-4c6d-8ba1-736e27ad6aef"
      },
      "source": [
        "%%time\n",
        "df_sim = get_sim_scores(tunes_eval_list, index=index_lsi, model=lsi)\n",
        "\n",
        "# save a copy of the results; all results will be concatenated at the end\n",
        "df_lsi = df_sim[:]"
      ],
      "execution_count": 71,
      "outputs": [
        {
          "output_type": "stream",
          "name": "stdout",
          "text": [
            "\n",
            "--------------------------------------------------\n",
            "125 After You've Gone, section1 (A)\n",
            "126 After You've Gone, section2 (B)\n",
            "127 After You've Gone, section3 (A)\n",
            "128 After You've Gone, section4 (C)\n",
            "\n",
            "--------------------------------------------------\n",
            "188 All God's Chillun Got Rhythm, section1 (A)\n",
            "189 All God's Chillun Got Rhythm, section2 (B)\n",
            "190 All God's Chillun Got Rhythm, section3 (A)\n",
            "191 All God's Chillun Got Rhythm, section4 (C)\n",
            "\n",
            "--------------------------------------------------\n",
            "198 All Of Me, section1 (A)\n",
            "199 All Of Me, section2 (B)\n",
            "200 All Of Me, section3 (A)\n",
            "201 All Of Me, section4 (C)\n",
            "\n",
            "--------------------------------------------------\n",
            "474 Blood Count, section1 (A)\n",
            "475 Blood Count, section2 (A)\n",
            "476 Blood Count, section3 (B)\n",
            "477 Blood Count, section4 (A)\n",
            "478 Blood Count, section5 (C)\n",
            "\n",
            "--------------------------------------------------\n",
            "496 Blue Moon, section1 (A)\n",
            "497 Blue Moon, section2 (A)\n",
            "498 Blue Moon, section3 (B)\n",
            "499 Blue Moon, section4 (A)\n",
            "\n",
            "--------------------------------------------------\n",
            "626 But Beautiful, section1 (A)\n",
            "627 But Beautiful, section2 (B)\n",
            "628 But Beautiful, section3 (A)\n",
            "629 But Beautiful, section4 (C)\n",
            "\n",
            "--------------------------------------------------\n",
            "653 Bye Bye Blackbird, section1 (A)\n",
            "654 Bye Bye Blackbird, section2 (B)\n",
            "\n",
            "--------------------------------------------------\n",
            "676 Call Me Irresponsible, section1 (A)\n",
            "677 Call Me Irresponsible, section2 (B)\n",
            "678 Call Me Irresponsible, section3 (A)\n",
            "679 Call Me Irresponsible, section4 (B)\n",
            "\n",
            "--------------------------------------------------\n",
            "826 Corcovado, section1 (A)\n",
            "827 Corcovado, section2 (B)\n",
            "828 Corcovado, section3 (A)\n",
            "829 Corcovado, section4 (C)\n",
            "\n",
            "--------------------------------------------------\n",
            "997 Dinah, section1 (A)\n",
            "998 Dinah, section2 (A)\n",
            "999 Dinah, section3 (B)\n",
            "1000 Dinah, section4 (A)\n",
            "\n",
            "--------------------------------------------------\n",
            "1125 East Of The Sun, section1 (A)\n",
            "1126 East Of The Sun, section2 (B)\n",
            "1127 East Of The Sun, section3 (A)\n",
            "1128 East Of The Sun, section4 (C)\n",
            "\n",
            "--------------------------------------------------\n",
            "1287 Footprints, section0 (nan)\n",
            "\n",
            "--------------------------------------------------\n",
            "1379 Giant Steps, section0 (nan)\n",
            "\n",
            "--------------------------------------------------\n",
            "1538 Honeysuckle Rose, section1 (A)\n",
            "1539 Honeysuckle Rose, section2 (A)\n",
            "1540 Honeysuckle Rose, section3 (B)\n",
            "1541 Honeysuckle Rose, section4 (A)\n",
            "\n",
            "--------------------------------------------------\n",
            "1647 I Got Rhythm, section1 (A)\n",
            "1648 I Got Rhythm, section2 (A)\n",
            "1649 I Got Rhythm, section3 (B)\n",
            "1650 I Got Rhythm, section4 (A)\n",
            "\n",
            "--------------------------------------------------\n",
            "2670 Misty, section1 (A)\n",
            "2671 Misty, section2 (A)\n",
            "2672 Misty, section3 (B)\n",
            "2673 Misty, section4 (A)\n",
            "\n",
            "--------------------------------------------------\n",
            "2857 Naima, section1 (A)\n",
            "2858 Naima, section2 (A)\n",
            "2859 Naima, section3 (B)\n",
            "2860 Naima, section4 (A)\n",
            "\n",
            "--------------------------------------------------\n",
            "5044 Old Fashioned Love, section0 (nan)\n",
            "\n",
            "--------------------------------------------------\n",
            "3142 Perdido, section1 (A)\n",
            "3143 Perdido, section2 (A)\n",
            "3144 Perdido, section3 (B)\n",
            "3145 Perdido, section4 (A)\n",
            "\n",
            "--------------------------------------------------\n",
            "3276 Rockin' Chair, section1 (A)\n",
            "3277 Rockin' Chair, section2 (B)\n",
            "3278 Rockin' Chair, section3 (A)\n",
            "\n",
            "--------------------------------------------------\n",
            "3578 Sophisticated Lady, section1 (A)\n",
            "3579 Sophisticated Lady, section2 (A)\n",
            "3580 Sophisticated Lady, section3 (B)\n",
            "3581 Sophisticated Lady, section4 (A)\n",
            "\n",
            "--------------------------------------------------\n",
            "3746 Sweet Sue, Just You, section1 (A)\n",
            "3747 Sweet Sue, Just You, section2 (A)\n",
            "3748 Sweet Sue, Just You, section3 (B)\n",
            "3749 Sweet Sue, Just You, section4 (A)\n",
            "\n",
            "--------------------------------------------------\n",
            "3860 These Foolish Things, section1 (A)\n",
            "3861 These Foolish Things, section2 (A)\n",
            "3862 These Foolish Things, section3 (B)\n",
            "3863 These Foolish Things, section4 (A)\n",
            "\n",
            "--------------------------------------------------\n",
            "4146 We'll Be Together Again, section1 (A)\n",
            "4147 We'll Be Together Again, section2 (A)\n",
            "4148 We'll Be Together Again, section3 (B)\n",
            "4149 We'll Be Together Again, section4 (A)\n",
            "CPU times: user 14.4 s, sys: 8.49 s, total: 22.9 s\n",
            "Wall time: 13.8 s\n"
          ]
        }
      ]
    },
    {
      "cell_type": "code",
      "metadata": {
        "colab": {
          "base_uri": "https://localhost:8080/",
          "height": 542
        },
        "id": "X31lkvUsDAsU",
        "outputId": "29118b96-b4c5-4a0d-a831-c6c7d0aa0502"
      },
      "source": [
        "import plotly.express as px\n",
        "fig = px.histogram(df_sim, x=\"score\", nbins=50, title='LSI Scores')\n",
        "fig.show()"
      ],
      "execution_count": 72,
      "outputs": [
        {
          "output_type": "display_data",
          "data": {
            "text/html": [
              "<html>\n",
              "<head><meta charset=\"utf-8\" /></head>\n",
              "<body>\n",
              "    <div>\n",
              "            <script src=\"https://cdnjs.cloudflare.com/ajax/libs/mathjax/2.7.5/MathJax.js?config=TeX-AMS-MML_SVG\"></script><script type=\"text/javascript\">if (window.MathJax) {MathJax.Hub.Config({SVG: {font: \"STIX-Web\"}});}</script>\n",
              "                <script type=\"text/javascript\">window.PlotlyConfig = {MathJaxConfig: 'local'};</script>\n",
              "        <script src=\"https://cdn.plot.ly/plotly-latest.min.js\"></script>    \n",
              "            <div id=\"f881ec1c-40c9-489c-834a-31c37332abee\" class=\"plotly-graph-div\" style=\"height:525px; width:100%;\"></div>\n",
              "            <script type=\"text/javascript\">\n",
              "                \n",
              "                    window.PLOTLYENV=window.PLOTLYENV || {};\n",
              "                    \n",
              "                if (document.getElementById(\"f881ec1c-40c9-489c-834a-31c37332abee\")) {\n",
              "                    Plotly.newPlot(\n",
              "                        'f881ec1c-40c9-489c-834a-31c37332abee',\n",
              "                        [{\"alignmentgroup\": \"True\", \"bingroup\": \"x\", \"hoverlabel\": {\"namelength\": 0}, \"hovertemplate\": \"score=%{x}<br>count=%{y}\", \"legendgroup\": \"\", \"marker\": {\"color\": \"#636efa\"}, \"name\": \"\", \"nbinsx\": 50, \"offsetgroup\": \"\", \"orientation\": \"v\", \"showlegend\": false, \"type\": \"histogram\", \"x\": [0.8872442245483398, 0.8333333134651184, 0.8333333134651184, 0.8333333134651184, 0.8268688321113586, 0.8215838074684143, 0.8164966106414795, 0.8164966106414795, 0.8164966106414795, 0.8164966106414795, 0.8164966106414795, 0.8164966106414795, 0.8164965510368347, 0.8164964914321899, 0.8146880865097046, 0.8146880865097046, 0.8146880865097046, 0.8128778338432312, 0.8115026354789734, 0.8082903027534485, 0.8056291937828064, 0.9449111819267273, 0.9449111819267273, 0.9449111819267273, 0.9294209480285645, 0.927730917930603, 0.9237152934074402, 0.9164397716522217, 0.9116846919059753, 0.9116846919059753, 0.9116846919059753, 0.9116846919059753, 0.9092413783073425, 0.9086882472038269, 0.90748530626297, 0.90748530626297, 0.9074851870536804, 0.8989697098731995, 0.8976656198501587, 0.8968700766563416, 0.8964548110961914, 0.8944271802902222, 0.8872442245483398, 0.8333333134651184, 0.8333333134651184, 0.8333333134651184, 0.8268688321113586, 0.8215838074684143, 0.8164966106414795, 0.8164966106414795, 0.8164966106414795, 0.8164966106414795, 0.8164966106414795, 0.8164966106414795, 0.8164965510368347, 0.8164964914321899, 0.8146880865097046, 0.8146880865097046, 0.8146880865097046, 0.8128778338432312, 0.8115026354789734, 0.8082903027534485, 0.8056291937828064, 0.9096581935882568, 0.9022911787033081, 0.9016695618629456, 0.8867155909538269, 0.8795367479324341, 0.8730378746986389, 0.8716936111450195, 0.8716936111450195, 0.8716138601303101, 0.8700222373008728, 0.8700222373008728, 0.8700221180915833, 0.8675329685211182, 0.8675328493118286, 0.8657459020614624, 0.8657053709030151, 0.8657053112983704, 0.8650469183921814, 0.8650146126747131, 0.8633970022201538, 0.8607285618782043, 0.9749999642372131, 0.9695895910263062, 0.9682456851005554, 0.9561829566955566, 0.9560661315917969, 0.9560660719871521, 0.9547033309936523, 0.954594075679779, 0.946340024471283, 0.946340024471283, 0.942927896976471, 0.9407528638839722, 0.9398255348205566, 0.9398255348205566, 0.9389711618423462, 0.9383147954940796, 0.9375001192092896, 0.9360565543174744, 0.9360565543174744, 0.9360565543174744, 0.9359709620475769, 0.9309494495391846, 0.9013878107070923, 0.8966439366340637, 0.8894992470741272, 0.8894990682601929, 0.8882312178611755, 0.8869685530662537, 0.882522702217102, 0.8744746446609497, 0.8702853918075562, 0.8682430982589722, 0.8674725294113159, 0.8608285188674927, 0.8608284592628479, 0.8600261211395264, 0.8593379259109497, 0.8589844703674316, 0.8561726808547974, 0.8561726808547974, 0.8561726808547974, 0.8561726212501526, 0.9749999642372131, 0.9695895910263062, 0.9682456851005554, 0.9561829566955566, 0.9560661315917969, 0.9560660719871521, 0.9547033309936523, 0.954594075679779, 0.946340024471283, 0.946340024471283, 0.942927896976471, 0.9407528638839722, 0.9398255348205566, 0.9398255348205566, 0.9389711618423462, 0.9383147954940796, 0.9375001192092896, 0.9360565543174744, 0.9360565543174744, 0.9360565543174744, 0.9359709620475769, 0.9503288865089417, 0.9503288865089417, 0.9486833810806274, 0.9315559267997742, 0.9302604794502258, 0.9296697378158569, 0.9219545125961304, 0.9219544529914856, 0.9219544529914856, 0.9203579425811768, 0.9203579425811768, 0.9192389249801636, 0.9170605540275574, 0.9135003089904785, 0.9135003089904785, 0.910980224609375, 0.9101914167404175, 0.9101912975311279, 0.9091548323631287, 0.9091548323631287, 0.9091548323631287, 0.9622504115104675, 0.8944272398948669, 0.8944271206855774, 0.8944271206855774, 0.8846516013145447, 0.8750001192092896, 0.8728716373443604, 0.866025447845459, 0.866025447845459, 0.866025447845459, 0.8574929237365723, 0.8534919023513794, 0.8512056469917297, 0.8488746881484985, 0.8488746881484985, 0.8488746881484985, 0.8486685156822205, 0.8463273644447327, 0.8461141586303711, 0.8401681184768677, 0.8391464352607727, 0.9660918116569519, 0.9561829566955566, 0.9449111223220825, 0.9354144334793091, 0.9354143142700195, 0.9354143142700195, 0.9354143142700195, 0.9331389665603638, 0.9331389665603638, 0.9258201122283936, 0.9116846323013306, 0.9083737134933472, 0.9074852466583252, 0.9074852466583252, 0.904106080532074, 0.8970851898193359, 0.8964214324951172, 0.8933250904083252, 0.8908708095550537, 0.8908708095550537, 0.8894992470741272, 0.9622504115104675, 0.8944272398948669, 0.8944271206855774, 0.8944271206855774, 0.8846516013145447, 0.8750001192092896, 0.8728716373443604, 0.866025447845459, 0.866025447845459, 0.866025447845459, 0.8574929237365723, 0.8534919023513794, 0.8512056469917297, 0.8488746881484985, 0.8488746881484985, 0.8488746881484985, 0.8486685156822205, 0.8463273644447327, 0.8461141586303711, 0.8401681184768677, 0.8391464352607727, 0.9770083427429199, 0.9331388473510742, 0.9285714030265808, 0.9265615940093994, 0.9258200526237488, 0.918262243270874, 0.9134141802787781, 0.9104654788970947, 0.9104654788970947, 0.9086881875991821, 0.9086881875991821, 0.9072646498680115, 0.9035079479217529, 0.8987169861793518, 0.8986450433731079, 0.8976656198501587, 0.8976656198501587, 0.8970853090286255, 0.8970853090286255, 0.8966529965400696, 0.8966529965400696, 0.8000190258026123, 0.7397953867912292, 0.7397953867912292, 0.7171372175216675, 0.7106691002845764, 0.7001756429672241, 0.6935279369354248, 0.6885303854942322, 0.6666666269302368, 0.6600984334945679, 0.6471501588821411, 0.6396021842956543, 0.6151477098464966, 0.6137163639068604, 0.612825870513916, 0.596595287322998, 0.589255690574646, 0.589255690574646, 0.589255690574646, 0.5797508955001831, 0.5790660381317139, 0.8488746881484985, 0.8488746881484985, 0.8488746881484985, 0.835504412651062, 0.8333333134651184, 0.8333333134651184, 0.8333333134651184, 0.8333333134651184, 0.8333333134651184, 0.8333333134651184, 0.8333332538604736, 0.8333332538604736, 0.8303364515304565, 0.8249577879905701, 0.8040302991867065, 0.7808687686920166, 0.771135687828064, 0.766032338142395, 0.7647190690040588, 0.7570332884788513, 0.7570332884788513, 0.7216877937316895, 0.7092081308364868, 0.6770032048225403, 0.6527911424636841, 0.6481812000274658, 0.6454972624778748, 0.6435959339141846, 0.6405125856399536, 0.6390096545219421, 0.6375982165336609, 0.62275230884552, 0.621059000492096, 0.621059000492096, 0.6134346723556519, 0.6123724579811096, 0.6123723983764648, 0.6123723983764648, 0.6123723983764648, 0.6092718243598938, 0.601929247379303, 0.601929247379303, 0.8488746881484985, 0.8488746881484985, 0.8488746881484985, 0.835504412651062, 0.8333333134651184, 0.8333333134651184, 0.8333333134651184, 0.8333333134651184, 0.8333333134651184, 0.8333333134651184, 0.8333332538604736, 0.8333332538604736, 0.8303364515304565, 0.8249577879905701, 0.8040302991867065, 0.7808687686920166, 0.771135687828064, 0.766032338142395, 0.7647190690040588, 0.7570332884788513, 0.7570332884788513, 0.836632490158081, 0.757042407989502, 0.699611485004425, 0.673563539981842, 0.6593307256698608, 0.6507270336151123, 0.6465269327163696, 0.6465269327163696, 0.6465269327163696, 0.6465269327163696, 0.6450098752975464, 0.6409778594970703, 0.6329817175865173, 0.6221113204956055, 0.6181224584579468, 0.616767168045044, 0.6144778728485107, 0.609209418296814, 0.6070536375045776, 0.6069631576538086, 0.604125440120697, 0.9782608151435852, 0.9680037498474121, 0.9680037498474121, 0.9609866142272949, 0.9583727717399597, 0.956929087638855, 0.956929087638855, 0.9567298293113708, 0.9567298293113708, 0.953407347202301, 0.9530152082443237, 0.9517337679862976, 0.9515873789787292, 0.9508561491966248, 0.9497161507606506, 0.9497161507606506, 0.9486438632011414, 0.9486438035964966, 0.9486438035964966, 0.948038637638092, 0.9473729133605957, 0.9276336431503296, 0.9261981248855591, 0.9180846214294434, 0.9180846214294434, 0.9140905737876892, 0.9109357595443726, 0.9102991819381714, 0.9095085859298706, 0.9095085859298706, 0.9081083536148071, 0.9081082940101624, 0.9080252051353455, 0.9046624302864075, 0.9007546901702881, 0.9007546901702881, 0.900283932685852, 0.8978642821311951, 0.8973817825317383, 0.8973645567893982, 0.895607590675354, 0.8952859044075012, 0.9284765720367432, 0.9143006801605225, 0.9005004167556763, 0.8965516090393066, 0.8946300745010376, 0.893852710723877, 0.8913376331329346, 0.8858184814453125, 0.8844476938247681, 0.8823398351669312, 0.8820528984069824, 0.8820527791976929, 0.8817845582962036, 0.8791322112083435, 0.8778665065765381, 0.8778665065765381, 0.8773280382156372, 0.8773280382156372, 0.875420868396759, 0.8753762245178223, 0.8727860450744629, 0.9782608151435852, 0.9680037498474121, 0.9680037498474121, 0.9609866142272949, 0.9583727717399597, 0.956929087638855, 0.956929087638855, 0.9567298293113708, 0.9567298293113708, 0.953407347202301, 0.9530152082443237, 0.9517337679862976, 0.9515873789787292, 0.9508561491966248, 0.9497161507606506, 0.9497161507606506, 0.9486438632011414, 0.9486438035964966, 0.9486438035964966, 0.948038637638092, 0.9473729133605957, 0.8346223831176758, 0.8346223831176758, 0.8346222639083862, 0.8132203221321106, 0.8111070394515991, 0.8029550313949585, 0.8029550313949585, 0.8010019659996033, 0.7980239391326904, 0.7980239391326904, 0.780398964881897, 0.7800135016441345, 0.770053505897522, 0.7648661732673645, 0.7648661732673645, 0.7648661136627197, 0.7635416984558105, 0.7635416984558105, 0.7635416984558105, 0.7570332288742065, 0.7539370656013489, 0.9622504711151123, 0.9515374302864075, 0.950262188911438, 0.945967435836792, 0.944444477558136, 0.943564236164093, 0.9372008442878723, 0.9363820552825928, 0.9332565069198608, 0.9239131808280945, 0.9229581356048584, 0.9205665588378906, 0.9152086973190308, 0.9141380786895752, 0.9128710031509399, 0.9097992181777954, 0.9097176790237427, 0.9097176790237427, 0.9080070853233337, 0.908007025718689, 0.9073927998542786, 0.8346223831176758, 0.8346223831176758, 0.8346222639083862, 0.8132203221321106, 0.8111070394515991, 0.8029550313949585, 0.8029550313949585, 0.8010019659996033, 0.7980239391326904, 0.7980239391326904, 0.780398964881897, 0.7800135016441345, 0.770053505897522, 0.7648661732673645, 0.7648661732673645, 0.7648661136627197, 0.7635416984558105, 0.7635416984558105, 0.7635416984558105, 0.7570332288742065, 0.7539370656013489, 0.9435368180274963, 0.9428713917732239, 0.9412417411804199, 0.9324213266372681, 0.9302326440811157, 0.9302326440811157, 0.9279707670211792, 0.9273618459701538, 0.9273618459701538, 0.9244734644889832, 0.9206923246383667, 0.917710542678833, 0.9162613749504089, 0.9153650999069214, 0.9149914979934692, 0.9149914383888245, 0.912018358707428, 0.9093530774116516, 0.9050183892250061, 0.9010819792747498, 0.9010819792747498, 0.9843091368675232, 0.9836212396621704, 0.9777750968933105, 0.9751577377319336, 0.9751577377319336, 0.9751577377319336, 0.9751577377319336, 0.9751577377319336, 0.972415030002594, 0.9722036123275757, 0.9719409942626953, 0.9705231189727783, 0.9692704677581787, 0.9683641195297241, 0.9683641195297241, 0.9683641195297241, 0.9663776159286499, 0.9650869369506836, 0.9640127420425415, 0.9619721174240112, 0.9608385562896729, 0.9513311386108398, 0.9501320123672485, 0.9501192569732666, 0.9417286515235901, 0.9412097334861755, 0.9377430081367493, 0.9377430081367493, 0.9374334216117859, 0.9373601675033569, 0.9349288940429688, 0.934928834438324, 0.934928834438324, 0.9349287748336792, 0.9345024824142456, 0.9345024228096008, 0.9331203103065491, 0.9331203103065491, 0.9331203103065491, 0.9331203103065491, 0.9331203103065491, 0.9320410490036011, 0.9316949248313904, 0.9190183877944946, 0.9170702695846558, 0.9036961793899536, 0.9036961197853088, 0.8948929309844971, 0.8948929309844971, 0.8944271802902222, 0.8944271206855774, 0.8944271206855774, 0.8901636004447937, 0.8857993483543396, 0.8783100843429565, 0.8677217960357666, 0.8666665554046631, 0.8588974475860596, 0.8539918661117554, 0.8500001430511475, 0.8485281467437744, 0.8485281467437744, 0.8480265140533447, 0.9072647094726562, 0.8959786295890808, 0.8816820383071899, 0.8814089298248291, 0.880450963973999, 0.8798826932907104, 0.8703882694244385, 0.8675276041030884, 0.8675276041030884, 0.8675276041030884, 0.8672274351119995, 0.866025447845459, 0.866025447845459, 0.8660253286361694, 0.8576900959014893, 0.8576900959014893, 0.8533201813697815, 0.8528029322624207, 0.8492077589035034, 0.8492077589035034, 0.8492077589035034, 0.9316949248313904, 0.9190183877944946, 0.9170702695846558, 0.9036961793899536, 0.9036961197853088, 0.8948929309844971, 0.8948929309844971, 0.8944271802902222, 0.8944271206855774, 0.8944271206855774, 0.8901636004447937, 0.8857993483543396, 0.8783100843429565, 0.8677217960357666, 0.8666665554046631, 0.8588974475860596, 0.8539918661117554, 0.8500001430511475, 0.8485281467437744, 0.8485281467437744, 0.8480265140533447, 0.9805806875228882, 0.9621024131774902, 0.9476965665817261, 0.9466737508773804, 0.9389157891273499, 0.9351438879966736, 0.9348928332328796, 0.9341285228729248, 0.930949330329895, 0.9302605390548706, 0.928015410900116, 0.9247722625732422, 0.9245002865791321, 0.9229719638824463, 0.9226039052009583, 0.9217865467071533, 0.9201151132583618, 0.9198662042617798, 0.9193195104598999, 0.9193193912506104, 0.9173287153244019, 0.7706745862960815, 0.7537346482276917, 0.7537346482276917, 0.7442084550857544, 0.7089175581932068, 0.7089175581932068, 0.7080881595611572, 0.6928203105926514, 0.6928203105926514, 0.6928203105926514, 0.6831300258636475, 0.6708203554153442, 0.6694387197494507, 0.6666667461395264, 0.6666666865348816, 0.6605782508850098, 0.6605782508850098, 0.6546537280082703, 0.6546537280082703, 0.6531972885131836, 0.6531972289085388, 0.9296696186065674, 0.8999999761581421, 0.8215838670730591, 0.8215838670730591, 0.8215838670730591, 0.8198916912078857, 0.809039831161499, 0.809039831161499, 0.809039831161499, 0.809039831161499, 0.8017836809158325, 0.8013876676559448, 0.800000011920929, 0.7951465845108032, 0.7951465845108032, 0.7937253713607788, 0.7928249835968018, 0.7926291227340698, 0.7905694246292114, 0.7905693054199219, 0.7893521785736084, 0.7706745862960815, 0.7537346482276917, 0.7537346482276917, 0.7442084550857544, 0.7089175581932068, 0.7089175581932068, 0.7080881595611572, 0.6928203105926514, 0.6928203105926514, 0.6928203105926514, 0.6831300258636475, 0.6708203554153442, 0.6694387197494507, 0.6666667461395264, 0.6666666865348816, 0.6605782508850098, 0.6605782508850098, 0.6546537280082703, 0.6546537280082703, 0.6531972885131836, 0.6531972289085388, 0.9583351612091064, 0.9569425582885742, 0.9451889991760254, 0.9442673325538635, 0.9260923862457275, 0.9260923862457275, 0.9150794744491577, 0.9150794744491577, 0.9150793552398682, 0.9101820588111877, 0.910181999206543, 0.9081082344055176, 0.9081082344055176, 0.9074852466583252, 0.9074852466583252, 0.9049228429794312, 0.9049228429794312, 0.9037378430366516, 0.9037378430366516, 0.9037378430366516, 0.9037377834320068, 0.9866902828216553, 0.975784420967102, 0.9674797654151917, 0.9674797654151917, 0.9674797654151917, 0.9655351638793945, 0.9633640050888062, 0.9633640050888062, 0.9621404409408569, 0.9607347846031189, 0.9604803919792175, 0.9593835473060608, 0.9585145115852356, 0.9561829566955566, 0.9561829566955566, 0.9558173418045044, 0.9558172821998596, 0.9556189775466919, 0.9550230503082275, 0.9550230503082275, 0.954993724822998, 0.9532061815261841, 0.9374860525131226, 0.9370892643928528, 0.9353047609329224, 0.9353047609329224, 0.9353047609329224, 0.9332565069198608, 0.9332565069198608, 0.9322020411491394, 0.9313342571258545, 0.9313342571258545, 0.9284088611602783, 0.9279607534408569, 0.9274777173995972, 0.9268475770950317, 0.926847517490387, 0.9268472790718079, 0.9262908697128296, 0.9262435436248779, 0.9247311353683472, 0.9242740869522095, 0.9594032764434814, 0.9574270248413086, 0.9534626007080078, 0.942082405090332, 0.942082405090332, 0.942082405090332, 0.9285403490066528, 0.9284141659736633, 0.9199353456497192, 0.9198660850524902, 0.9173648953437805, 0.9116845726966858, 0.9111469984054565, 0.910578727722168, 0.9103584289550781, 0.9090908169746399, 0.9074425101280212, 0.904534101486206, 0.904534101486206, 0.904534101486206, 0.904534101486206, 0.9798048138618469, 0.9798048138618469, 0.9798048138618469, 0.9770543575286865, 0.9756366014480591, 0.9756366014480591, 0.9743975400924683, 0.9729740023612976, 0.9727162718772888, 0.9716055393218994, 0.9683640003204346, 0.9683640003204346, 0.967993974685669, 0.967993974685669, 0.9677928686141968, 0.9671894311904907, 0.9671893119812012, 0.9671893119812012, 0.9671597480773926, 0.9656091332435608, 0.9656091332435608, 0.9341987371444702, 0.9271726608276367, 0.9166666269302368, 0.9141378402709961, 0.9128709435462952, 0.9112957119941711, 0.9036960601806641, 0.9036960601806641, 0.9036960601806641, 0.9036960601806641, 0.8940593004226685, 0.8911328315734863, 0.8908708095550537, 0.8908708095550537, 0.8897565007209778, 0.888888955116272, 0.888888955116272, 0.8872442841529846, 0.8872442245483398, 0.8872442245483398, 0.884537935256958, 0.9333333373069763, 0.930949330329895, 0.930949330329895, 0.9214785695075989, 0.9128709435462952, 0.9109803438186646, 0.9109802842140198, 0.9098432064056396, 0.9056240916252136, 0.9056240916252136, 0.9036961197853088, 0.9014979600906372, 0.8989331722259521, 0.8981462717056274, 0.8981462121009827, 0.8944272398948669, 0.8944271802902222, 0.8944271206855774, 0.8898984789848328, 0.8807710409164429, 0.8788290023803711, 0.9341987371444702, 0.9271726608276367, 0.9166666269302368, 0.9141378402709961, 0.9128709435462952, 0.9112957119941711, 0.9036960601806641, 0.9036960601806641, 0.9036960601806641, 0.9036960601806641, 0.8940593004226685, 0.8911328315734863, 0.8908708095550537, 0.8908708095550537, 0.8897565007209778, 0.888888955116272, 0.888888955116272, 0.8872442841529846, 0.8872442245483398, 0.8872442245483398, 0.884537935256958, 0.9169092178344727, 0.9101914167404175, 0.8982742428779602, 0.8965518474578857, 0.8863184452056885, 0.8858184814453125, 0.8853155970573425, 0.8853155970573425, 0.8763704299926758, 0.8740284442901611, 0.8735889196395874, 0.870022177696228, 0.8623165488243103, 0.8620792627334595, 0.8596023321151733, 0.8596023321151733, 0.8596023321151733, 0.8534918427467346, 0.8534918427467346, 0.8534917831420898, 0.8534047603607178, 0.9898029565811157, 0.9894988536834717, 0.9829463958740234, 0.9784426689147949, 0.9784426689147949, 0.9647573828697205, 0.9635884165763855, 0.9630868434906006, 0.9630868434906006, 0.9630868434906006, 0.9630868434906006, 0.9630868434906006, 0.9630868434906006, 0.9630868434906006, 0.9630868434906006, 0.9630868434906006, 0.9630868434906006, 0.9630868434906006, 0.9630868434906006, 0.9630868434906006, 0.9630868434906006, 0.928506076335907, 0.8606629967689514, 0.8606629967689514, 0.8013433814048767, 0.7918388843536377, 0.7772119641304016, 0.7693164944648743, 0.7592567205429077, 0.7592564821243286, 0.7590721249580383, 0.7569125890731812, 0.7531184554100037, 0.7531184554100037, 0.7508517503738403, 0.75, 0.7440382242202759, 0.7429777979850769, 0.7423522472381592, 0.7416198253631592, 0.7416198253631592, 0.7416198253631592, 1.0, 1.0, 0.9767818450927734, 0.9675326347351074, 0.963546097278595, 0.9621403813362122, 0.9609690308570862, 0.9603919982910156, 0.9596789479255676, 0.9594032764434814, 0.9534624814987183, 0.9534624814987183, 0.9532307386398315, 0.9493857622146606, 0.9489284753799438, 0.9489284753799438, 0.9489284753799438, 0.9489284753799438, 0.9489284753799438, 0.9486833810806274, 0.9463773965835571, 0.9999999403953552, 0.9765536189079285, 0.9750854969024658, 0.9749135375022888, 0.9749135375022888, 0.9749135375022888, 0.9723448157310486, 0.9723448157310486, 0.9716054201126099, 0.9707252979278564, 0.9673307538032532, 0.9673307538032532, 0.9609690308570862, 0.9609690308570862, 0.9609279036521912, 0.9607689380645752, 0.9607689380645752, 0.9607689380645752, 0.9578133225440979, 0.9575175642967224, 0.9553170204162598, 1.0, 1.0, 1.0, 1.0, 1.0, 1.0, 1.0, 1.0, 1.0, 1.0, 0.9701424241065979, 0.9701423645019531, 0.9354143738746643, 0.9354143738746643, 0.9354143738746643, 0.9354143142700195, 0.9176629781723022, 0.8944272398948669, 0.875, 0.875, 0.866025447845459, 1.0, 1.0, 0.9767818450927734, 0.9675326347351074, 0.963546097278595, 0.9621403813362122, 0.9609690308570862, 0.9603919982910156, 0.9596789479255676, 0.9594032764434814, 0.9534624814987183, 0.9534624814987183, 0.9532307386398315, 0.9493857622146606, 0.9489284753799438, 0.9489284753799438, 0.9489284753799438, 0.9489284753799438, 0.9489284753799438, 0.9486833810806274, 0.9463773965835571, 1.0, 0.9908673167228699, 0.9730124473571777, 0.927105188369751, 0.927105188369751, 0.9233805537223816, 0.9233805537223816, 0.9233805537223816, 0.9233805537223816, 0.9223310351371765, 0.9185587167739868, 0.9150798320770264, 0.9091923236846924, 0.9086883664131165, 0.9086882472038269, 0.9068453311920166, 0.9068453311920166, 0.9068453311920166, 0.9068452715873718, 0.9067235589027405, 0.9057895541191101, 1.0000001192092896, 0.9908673763275146, 0.9720615148544312, 0.9318912625312805, 0.9318912625312805, 0.931891143321991, 0.931891143321991, 0.9284141063690186, 0.9239884614944458, 0.9214065670967102, 0.9185315370559692, 0.9185314774513245, 0.9185314774513245, 0.9132660627365112, 0.9132660627365112, 0.9121594429016113, 0.9121593832969666, 0.908295214176178, 0.907442569732666, 0.903652012348175, 0.9014203548431396, 0.9999999403953552, 0.9999999403953552, 0.9999999403953552, 0.9999999403953552, 0.9999999403953552, 0.9999999403953552, 0.9999999403953552, 0.9999999403953552, 0.9999999403953552, 0.9999999403953552, 0.9999999403953552, 0.9999999403953552, 0.9999999403953552, 0.9999999403953552, 0.9999999403953552, 0.9999999403953552, 0.9999999403953552, 0.9999999403953552, 0.9999999403953552, 0.9999999403953552, 0.9999999403953552, 0.9999999403953552, 0.9730124473571777, 0.9720615148544312, 0.9504968523979187, 0.9495629072189331, 0.9495629072189331, 0.9428291916847229, 0.9428291916847229, 0.9428291320800781, 0.9428291320800781, 0.9428291320800781, 0.9415245056152344, 0.9306779503822327, 0.9306631088256836, 0.9304841756820679, 0.9304841756820679, 0.9304841160774231, 0.9304841160774231, 0.9243422150611877, 0.9210565686225891, 0.9210565686225891, 0.9746794104576111, 0.9550230503082275, 0.9534626603126526, 0.9486833810806274, 0.9486833810806274, 0.9467291831970215, 0.9449111819267273, 0.934198796749115, 0.9316950440406799, 0.9316949844360352, 0.9316949844360352, 0.9316949844360352, 0.9316948652267456, 0.9315560460090637, 0.9296696782112122, 0.9237022995948792, 0.9237022995948792, 0.9237022399902344, 0.9237022399902344, 0.9237022399902344, 0.9216353297233582, 0.9574270248413086, 0.9486833810806274, 0.9449111819267273, 0.942808985710144, 0.941596269607544, 0.9298987984657288, 0.9244735836982727, 0.9238697290420532, 0.9223308563232422, 0.9185585379600525, 0.9185585379600525, 0.9141380190849304, 0.9141379594802856, 0.9141379594802856, 0.9138599634170532, 0.9131711721420288, 0.9128710031509399, 0.9128710031509399, 0.9128709435462952, 0.9128709435462952, 0.9128709435462952, 0.8682430982589722, 0.8362420201301575, 0.827837347984314, 0.827837347984314, 0.8006408214569092, 0.8006408214569092, 0.8006408214569092, 0.8006407022476196, 0.7893521785736084, 0.7893521785736084, 0.7893521785736084, 0.7844644784927368, 0.7692307829856873, 0.7692307829856873, 0.7692307829856873, 0.7627127766609192, 0.7627127170562744, 0.7614996433258057, 0.7526178359985352, 0.7518094778060913, 0.7518094182014465, 0.9565216898918152, 0.9565216898918152, 0.9498989582061768, 0.9457324743270874, 0.9451747536659241, 0.9443699717521667, 0.9437401294708252, 0.9437401294708252, 0.9437401294708252, 0.9383845329284668, 0.9383148550987244, 0.9363821744918823, 0.9363821744918823, 0.9348927736282349, 0.9337990880012512, 0.9337989687919617, 0.9335636496543884, 0.9325048923492432, 0.9325048327445984, 0.9325048327445984, 0.9325047731399536, 0.7893521785736084, 0.7682733535766602, 0.7627700567245483, 0.7627700567245483, 0.7378647923469543, 0.7378647923469543, 0.730296790599823, 0.7302967309951782, 0.7181848287582397, 0.7181848287582397, 0.7181848287582397, 0.71611487865448, 0.7046642303466797, 0.7046642303466797, 0.7046642303466797, 0.6999999284744263, 0.6885303258895874, 0.6761233806610107, 0.6751399636268616, 0.6708204746246338, 0.670820415019989, 0.7893521785736084, 0.7682733535766602, 0.7627700567245483, 0.7627700567245483, 0.7378647923469543, 0.7378647923469543, 0.730296790599823, 0.7302967309951782, 0.7181848287582397, 0.7181848287582397, 0.7181848287582397, 0.71611487865448, 0.7046642303466797, 0.7046642303466797, 0.7046642303466797, 0.6999999284744263, 0.6885303258895874, 0.6761233806610107, 0.6751399636268616, 0.6708204746246338, 0.670820415019989, 0.7427812814712524, 0.7115124464035034, 0.6875, 0.6859943866729736, 0.6717513799667358, 0.6495190858840942, 0.6495190262794495, 0.64549720287323, 0.6324554681777954, 0.6308932304382324, 0.6240376830101013, 0.6172133684158325, 0.6123724579811096, 0.6098575592041016, 0.603509783744812, 0.6030226945877075, 0.6030226349830627, 0.5908789038658142, 0.5892556309700012, 0.5883484482765198, 0.588348388671875, 0.8403582572937012, 0.8403582572937012, 0.8403582572937012, 0.835504412651062, 0.835504412651062, 0.8109307885169983, 0.8109307885169983, 0.8109307885169983, 0.8109307885169983, 0.8109307885169983, 0.8109307885169983, 0.7974143028259277, 0.7912566065788269, 0.785868227481842, 0.7815475463867188, 0.7804216742515564, 0.7804216742515564, 0.7804216742515564, 0.7804216742515564, 0.7802714705467224, 0.7802714705467224, 0.9787956476211548, 0.9640347957611084, 0.9633799195289612, 0.9621022939682007, 0.9621022939682007, 0.9621022939682007, 0.9558526873588562, 0.955649733543396, 0.9537877440452576, 0.9511599540710449, 0.9508497714996338, 0.950750470161438, 0.9501460790634155, 0.9501460790634155, 0.948979914188385, 0.9488522410392761, 0.9476815462112427, 0.947346568107605, 0.9465924501419067, 0.9456577301025391, 0.9456577301025391, 0.9899494051933289, 0.9834450483322144, 0.976186990737915, 0.976186990737915, 0.9682456851005554, 0.9660918116569519, 0.9655351042747498, 0.9648363590240479, 0.9638631343841553, 0.9589265584945679, 0.9561828374862671, 0.9561828374862671, 0.9561828374862671, 0.955778956413269, 0.9547921419143677, 0.9547921419143677, 0.9486833810806274, 0.9486832618713379, 0.9486832618713379, 0.9486832618713379, 0.9486832618713379, 0.9810229539871216, 0.9782320857048035, 0.9782319664955139, 0.9762212038040161, 0.9753615260124207, 0.9746794700622559, 0.9746794700622559, 0.9746794104576111, 0.9746793508529663, 0.9746793508529663, 0.9733285903930664, 0.9713237881660461, 0.9713237881660461, 0.9713237285614014, 0.9694584012031555, 0.9666388630867004, 0.9639604687690735, 0.9637387990951538, 0.9633640050888062, 0.9627198576927185, 0.9627197980880737, 0.9999999403953552, 0.9999999403953552, 0.9999999403953552, 0.9999999403953552, 0.9999999403953552, 0.9999999403953552, 0.9999999403953552, 0.9999999403953552, 0.9999999403953552, 0.9999999403953552, 0.9999999403953552, 0.9999999403953552, 0.9999999403953552, 0.9999999403953552, 0.9999999403953552, 0.9999999403953552, 0.9999999403953552, 0.9999999403953552, 0.9999999403953552, 0.9999999403953552, 0.9999999403953552, 0.9899494051933289, 0.9834450483322144, 0.976186990737915, 0.976186990737915, 0.9682456851005554, 0.9660918116569519, 0.9655351042747498, 0.9648363590240479, 0.9638631343841553, 0.9589265584945679, 0.9561828374862671, 0.9561828374862671, 0.9561828374862671, 0.955778956413269, 0.9547921419143677, 0.9547921419143677, 0.9486833810806274, 0.9486832618713379, 0.9486832618713379, 0.9486832618713379, 0.9486832618713379, 0.9342836737632751, 0.9198662638664246, 0.9177364110946655, 0.9172160625457764, 0.9170347452163696, 0.9121114611625671, 0.9104464054107666, 0.9060911536216736, 0.9001545906066895, 0.8964154124259949, 0.8934179544448853, 0.893246054649353, 0.893197774887085, 0.8927424550056458, 0.8927121162414551, 0.8922709822654724, 0.8920091986656189, 0.884165346622467, 0.8828856348991394, 0.882369875907898, 0.8820672035217285, 0.96076899766922, 0.8932461142539978, 0.8278374671936035, 0.827837347984314, 0.8271702527999878, 0.8240419030189514, 0.8240419030189514, 0.8240419030189514, 0.8207294344902039, 0.8207294344902039, 0.8153742551803589, 0.8153742551803589, 0.8096408843994141, 0.8096408843994141, 0.808190107345581, 0.8062257766723633, 0.8062257766723633, 0.805322527885437, 0.7925939559936523, 0.7925939559936523, 0.7877264022827148, 0.9759000539779663, 0.9566808342933655, 0.9559937715530396, 0.9534624814987183, 0.9486833214759827, 0.9486833214759827, 0.9486833214759827, 0.9486832618713379, 0.946729302406311, 0.9458757638931274, 0.9441176652908325, 0.9433000087738037, 0.9431192874908447, 0.9431192278862, 0.9431192278862, 0.9431191086769104, 0.9395524859428406, 0.9391486048698425, 0.9391485452651978, 0.938971221446991, 0.938971221446991, 0.9298955202102661, 0.8981462717056274, 0.8981462717056274, 0.8832715749740601, 0.8831761479377747, 0.8814826011657715, 0.8814826011657715, 0.879457950592041, 0.8783100843429565, 0.8783100843429565, 0.8763561844825745, 0.8763561844825745, 0.8760629892349243, 0.8755950927734375, 0.8672274351119995, 0.8660255074501038, 0.8640987873077393, 0.8614109754562378, 0.8608285784721375, 0.8608285784721375, 0.8608284592628479, 0.9037378430366516, 0.8770579099655151, 0.8770579099655151, 0.8702853322029114, 0.8702853322029114, 0.8680789470672607, 0.8608285188674927, 0.8605266809463501, 0.8561726808547974, 0.8453637957572937, 0.8453637957572937, 0.8438529372215271, 0.8430888056755066, 0.8425607681274414, 0.8408409357070923, 0.8408408761024475, 0.8408408761024475, 0.8406727313995361, 0.8386279344558716, 0.8386278748512268, 0.8386278748512268, 0.8483819961547852, 0.7203602194786072, 0.6443860530853271, 0.6238502264022827, 0.6238502264022827, 0.5812382102012634, 0.5718627572059631, 0.5607997179031372, 0.5607997179031372, 0.558956503868103, 0.551410973072052, 0.5378561615943909, 0.525749683380127, 0.525749683380127, 0.5231143236160278, 0.5198752284049988, 0.5183439254760742, 0.5082247257232666, 0.493196964263916, 0.4903043508529663, 0.4793012738227844, 0.9298955202102661, 0.8981462717056274, 0.8981462717056274, 0.8832715749740601, 0.8831761479377747, 0.8814826011657715, 0.8814826011657715, 0.879457950592041, 0.8783100843429565, 0.8783100843429565, 0.8763561844825745, 0.8763561844825745, 0.8760629892349243, 0.8755950927734375, 0.8672274351119995, 0.8660255074501038, 0.8640987873077393, 0.8614109754562378, 0.8608285784721375, 0.8608285784721375, 0.8608284592628479, 0.9999998807907104, 0.9999998807907104, 0.9999998807907104, 0.9999998807907104, 0.9999998807907104, 0.9999998807907104, 0.9999998807907104, 0.9999998807907104, 0.9999998807907104, 0.9999998807907104, 0.9999998807907104, 0.9999998807907104, 0.9999998807907104, 0.9999998807907104, 0.9999998807907104, 0.9999998807907104, 0.9960238933563232, 0.9918366074562073, 0.9918366074562073, 0.9855274558067322, 0.9855274558067322, 0.9999998807907104, 0.9999998807907104, 0.9999998807907104, 0.9999998807907104, 0.9999998807907104, 0.9999998807907104, 0.9999998807907104, 0.9999998807907104, 0.9999998807907104, 0.9999998807907104, 0.9999998807907104, 0.9999998807907104, 0.9999998807907104, 0.9999998807907104, 0.9999998807907104, 0.9999998807907104, 0.9960238933563232, 0.9918366074562073, 0.9918366074562073, 0.9855274558067322, 0.9855274558067322, 0.9128708839416504, 0.8406727910041809, 0.8333333730697632, 0.8333333730697632, 0.8198915719985962, 0.8179129362106323, 0.8164966106414795, 0.8017836809158325, 0.8017836809158325, 0.8006407618522644, 0.7947194576263428, 0.7938566207885742, 0.7925940155982971, 0.7905694246292114, 0.7879670262336731, 0.7825079560279846, 0.7825079560279846, 0.7825079560279846, 0.7777777910232544, 0.7745967507362366, 0.7745967507362366, 0.9999998807907104, 0.9999998807907104, 0.9999998807907104, 0.9999998807907104, 0.9999998807907104, 0.9999998807907104, 0.9999998807907104, 0.9999998807907104, 0.9999998807907104, 0.9999998807907104, 0.9999998807907104, 0.9999998807907104, 0.9999998807907104, 0.9999998807907104, 0.9999998807907104, 0.9999998807907104, 0.9960238933563232, 0.9918366074562073, 0.9918366074562073, 0.9855274558067322, 0.9855274558067322, 0.9546686410903931, 0.9525008201599121, 0.9525008201599121, 0.9519716501235962, 0.9519716501235962, 0.9422228932380676, 0.9354143142700195, 0.9274260997772217, 0.9268550872802734, 0.9263021349906921, 0.9263020753860474, 0.9258200526237488, 0.9228396415710449, 0.9207509756088257, 0.9207508563995361, 0.9207367897033691, 0.919238805770874, 0.9192387461662292, 0.9191450476646423, 0.9191450476646423, 0.9187104105949402, 0.9723057150840759, 0.9548636674880981, 0.9548636674880981, 0.9219545125961304, 0.9117647409439087, 0.9115638732910156, 0.9115046262741089, 0.9109358787536621, 0.9106417298316956, 0.9106416702270508, 0.9101820588111877, 0.9101820588111877, 0.910181999206543, 0.9095085859298706, 0.9081082940101624, 0.9074852466583252, 0.906869649887085, 0.9068695306777954, 0.9049358367919922, 0.9049035310745239, 0.903876781463623, 0.9165151715278625, 0.8954430222511292, 0.8954430222511292, 0.8759957551956177, 0.8246211409568787, 0.8164966106414795, 0.8082903623580933, 0.803326427936554, 0.8000000715255737, 0.7999999523162842, 0.7923547625541687, 0.7902633547782898, 0.7855844497680664, 0.7855843901634216, 0.7794228196144104, 0.7786628007888794, 0.7778175473213196, 0.7765803337097168, 0.7761140465736389, 0.774596631526947, 0.77247154712677, 0.9747547507286072, 0.9747547507286072, 0.9667962193489075, 0.9587093591690063, 0.9518173336982727, 0.9518173336982727, 0.9509798288345337, 0.9496715068817139, 0.9476780295372009, 0.9437015056610107, 0.9428712725639343, 0.9428472518920898, 0.942082405090332, 0.9416363835334778, 0.9401747584342957, 0.9364182353019714, 0.9346851706504822, 0.9341986775398254, 0.9337221384048462, 0.9328736066818237, 0.9322981834411621, 0.8101627230644226, 0.785868227481842, 0.7833495140075684, 0.7833495140075684, 0.7713891863822937, 0.7713891863822937, 0.7713891863822937, 0.7710995674133301, 0.7710995674133301, 0.7706746459007263, 0.7693217992782593, 0.7693217992782593, 0.7675225734710693, 0.7658161520957947, 0.7627700567245483, 0.7610525488853455, 0.7562625408172607, 0.7557421922683716, 0.7544335126876831, 0.7537783980369568, 0.7537783980369568, 0.8416253924369812, 0.8416253924369812, 0.8224782943725586, 0.8084520697593689, 0.8060599565505981, 0.8051609992980957, 0.8043997287750244, 0.8043997287750244, 0.8043997287750244, 0.8043996691703796, 0.7893862724304199, 0.7882407903671265, 0.786718487739563, 0.7848839163780212, 0.7811209559440613, 0.7811209559440613, 0.7789808511734009, 0.7778445482254028, 0.7767130732536316, 0.7761139273643494, 0.771743655204773, 0.9229719638824463, 0.8931884169578552, 0.8866356015205383, 0.8825225830078125, 0.8209008574485779, 0.8171505331993103, 0.7783117890357971, 0.7783117890357971, 0.7765803337097168, 0.7627127766609192, 0.7428908348083496, 0.7428908348083496, 0.7131997346878052, 0.7071067690849304, 0.7067392468452454, 0.7067392468452454, 0.7041867971420288, 0.6999132633209229, 0.6933752298355103, 0.6878708600997925, 0.6877464056015015, 0.8416253924369812, 0.8416253924369812, 0.8224782943725586, 0.8084520697593689, 0.8060599565505981, 0.8051609992980957, 0.8043997287750244, 0.8043997287750244, 0.8043997287750244, 0.8043996691703796, 0.7893862724304199, 0.7882407903671265, 0.786718487739563, 0.7848839163780212, 0.7811209559440613, 0.7811209559440613, 0.7789808511734009, 0.7778445482254028, 0.7767130732536316, 0.7761139273643494, 0.771743655204773], \"xaxis\": \"x\", \"yaxis\": \"y\"}],\n",
              "                        {\"barmode\": \"relative\", \"legend\": {\"tracegroupgap\": 0}, \"template\": {\"data\": {\"bar\": [{\"error_x\": {\"color\": \"#2a3f5f\"}, \"error_y\": {\"color\": \"#2a3f5f\"}, \"marker\": {\"line\": {\"color\": \"#E5ECF6\", \"width\": 0.5}}, \"type\": \"bar\"}], \"barpolar\": [{\"marker\": {\"line\": {\"color\": \"#E5ECF6\", \"width\": 0.5}}, \"type\": \"barpolar\"}], \"carpet\": [{\"aaxis\": {\"endlinecolor\": \"#2a3f5f\", \"gridcolor\": \"white\", \"linecolor\": \"white\", \"minorgridcolor\": \"white\", \"startlinecolor\": \"#2a3f5f\"}, \"baxis\": {\"endlinecolor\": \"#2a3f5f\", \"gridcolor\": \"white\", \"linecolor\": \"white\", \"minorgridcolor\": \"white\", \"startlinecolor\": \"#2a3f5f\"}, \"type\": \"carpet\"}], \"choropleth\": [{\"colorbar\": {\"outlinewidth\": 0, \"ticks\": \"\"}, \"type\": \"choropleth\"}], \"contour\": [{\"colorbar\": {\"outlinewidth\": 0, \"ticks\": \"\"}, \"colorscale\": [[0.0, \"#0d0887\"], [0.1111111111111111, \"#46039f\"], [0.2222222222222222, \"#7201a8\"], [0.3333333333333333, \"#9c179e\"], [0.4444444444444444, \"#bd3786\"], [0.5555555555555556, \"#d8576b\"], [0.6666666666666666, \"#ed7953\"], [0.7777777777777778, \"#fb9f3a\"], [0.8888888888888888, \"#fdca26\"], [1.0, \"#f0f921\"]], \"type\": \"contour\"}], \"contourcarpet\": [{\"colorbar\": {\"outlinewidth\": 0, \"ticks\": \"\"}, \"type\": \"contourcarpet\"}], \"heatmap\": [{\"colorbar\": {\"outlinewidth\": 0, \"ticks\": \"\"}, \"colorscale\": [[0.0, \"#0d0887\"], [0.1111111111111111, \"#46039f\"], [0.2222222222222222, \"#7201a8\"], [0.3333333333333333, \"#9c179e\"], [0.4444444444444444, \"#bd3786\"], [0.5555555555555556, \"#d8576b\"], [0.6666666666666666, \"#ed7953\"], [0.7777777777777778, \"#fb9f3a\"], [0.8888888888888888, \"#fdca26\"], [1.0, \"#f0f921\"]], \"type\": \"heatmap\"}], \"heatmapgl\": [{\"colorbar\": {\"outlinewidth\": 0, \"ticks\": \"\"}, \"colorscale\": [[0.0, \"#0d0887\"], [0.1111111111111111, \"#46039f\"], [0.2222222222222222, \"#7201a8\"], [0.3333333333333333, \"#9c179e\"], [0.4444444444444444, \"#bd3786\"], [0.5555555555555556, \"#d8576b\"], [0.6666666666666666, \"#ed7953\"], [0.7777777777777778, \"#fb9f3a\"], [0.8888888888888888, \"#fdca26\"], [1.0, \"#f0f921\"]], \"type\": \"heatmapgl\"}], \"histogram\": [{\"marker\": {\"colorbar\": {\"outlinewidth\": 0, \"ticks\": \"\"}}, \"type\": \"histogram\"}], \"histogram2d\": [{\"colorbar\": {\"outlinewidth\": 0, \"ticks\": \"\"}, \"colorscale\": [[0.0, \"#0d0887\"], [0.1111111111111111, \"#46039f\"], [0.2222222222222222, \"#7201a8\"], [0.3333333333333333, \"#9c179e\"], [0.4444444444444444, \"#bd3786\"], [0.5555555555555556, \"#d8576b\"], [0.6666666666666666, \"#ed7953\"], [0.7777777777777778, \"#fb9f3a\"], [0.8888888888888888, \"#fdca26\"], [1.0, \"#f0f921\"]], \"type\": \"histogram2d\"}], \"histogram2dcontour\": [{\"colorbar\": {\"outlinewidth\": 0, \"ticks\": \"\"}, \"colorscale\": [[0.0, \"#0d0887\"], [0.1111111111111111, \"#46039f\"], [0.2222222222222222, \"#7201a8\"], [0.3333333333333333, \"#9c179e\"], [0.4444444444444444, \"#bd3786\"], [0.5555555555555556, \"#d8576b\"], [0.6666666666666666, \"#ed7953\"], [0.7777777777777778, \"#fb9f3a\"], [0.8888888888888888, \"#fdca26\"], [1.0, \"#f0f921\"]], \"type\": \"histogram2dcontour\"}], \"mesh3d\": [{\"colorbar\": {\"outlinewidth\": 0, \"ticks\": \"\"}, \"type\": \"mesh3d\"}], \"parcoords\": [{\"line\": {\"colorbar\": {\"outlinewidth\": 0, \"ticks\": \"\"}}, \"type\": \"parcoords\"}], \"pie\": [{\"automargin\": true, \"type\": \"pie\"}], \"scatter\": [{\"marker\": {\"colorbar\": {\"outlinewidth\": 0, \"ticks\": \"\"}}, \"type\": \"scatter\"}], \"scatter3d\": [{\"line\": {\"colorbar\": {\"outlinewidth\": 0, \"ticks\": \"\"}}, \"marker\": {\"colorbar\": {\"outlinewidth\": 0, \"ticks\": \"\"}}, \"type\": \"scatter3d\"}], \"scattercarpet\": [{\"marker\": {\"colorbar\": {\"outlinewidth\": 0, \"ticks\": \"\"}}, \"type\": \"scattercarpet\"}], \"scattergeo\": [{\"marker\": {\"colorbar\": {\"outlinewidth\": 0, \"ticks\": \"\"}}, \"type\": \"scattergeo\"}], \"scattergl\": [{\"marker\": {\"colorbar\": {\"outlinewidth\": 0, \"ticks\": \"\"}}, \"type\": \"scattergl\"}], \"scattermapbox\": [{\"marker\": {\"colorbar\": {\"outlinewidth\": 0, \"ticks\": \"\"}}, \"type\": \"scattermapbox\"}], \"scatterpolar\": [{\"marker\": {\"colorbar\": {\"outlinewidth\": 0, \"ticks\": \"\"}}, \"type\": \"scatterpolar\"}], \"scatterpolargl\": [{\"marker\": {\"colorbar\": {\"outlinewidth\": 0, \"ticks\": \"\"}}, \"type\": \"scatterpolargl\"}], \"scatterternary\": [{\"marker\": {\"colorbar\": {\"outlinewidth\": 0, \"ticks\": \"\"}}, \"type\": \"scatterternary\"}], \"surface\": [{\"colorbar\": {\"outlinewidth\": 0, \"ticks\": \"\"}, \"colorscale\": [[0.0, \"#0d0887\"], [0.1111111111111111, \"#46039f\"], [0.2222222222222222, \"#7201a8\"], [0.3333333333333333, \"#9c179e\"], [0.4444444444444444, \"#bd3786\"], [0.5555555555555556, \"#d8576b\"], [0.6666666666666666, \"#ed7953\"], [0.7777777777777778, \"#fb9f3a\"], [0.8888888888888888, \"#fdca26\"], [1.0, \"#f0f921\"]], \"type\": \"surface\"}], \"table\": [{\"cells\": {\"fill\": {\"color\": \"#EBF0F8\"}, \"line\": {\"color\": \"white\"}}, \"header\": {\"fill\": {\"color\": \"#C8D4E3\"}, \"line\": {\"color\": \"white\"}}, \"type\": \"table\"}]}, \"layout\": {\"annotationdefaults\": {\"arrowcolor\": \"#2a3f5f\", \"arrowhead\": 0, \"arrowwidth\": 1}, \"coloraxis\": {\"colorbar\": {\"outlinewidth\": 0, \"ticks\": \"\"}}, \"colorscale\": {\"diverging\": [[0, \"#8e0152\"], [0.1, \"#c51b7d\"], [0.2, \"#de77ae\"], [0.3, \"#f1b6da\"], [0.4, \"#fde0ef\"], [0.5, \"#f7f7f7\"], [0.6, \"#e6f5d0\"], [0.7, \"#b8e186\"], [0.8, \"#7fbc41\"], [0.9, \"#4d9221\"], [1, \"#276419\"]], \"sequential\": [[0.0, \"#0d0887\"], [0.1111111111111111, \"#46039f\"], [0.2222222222222222, \"#7201a8\"], [0.3333333333333333, \"#9c179e\"], [0.4444444444444444, \"#bd3786\"], [0.5555555555555556, \"#d8576b\"], [0.6666666666666666, \"#ed7953\"], [0.7777777777777778, \"#fb9f3a\"], [0.8888888888888888, \"#fdca26\"], [1.0, \"#f0f921\"]], \"sequentialminus\": [[0.0, \"#0d0887\"], [0.1111111111111111, \"#46039f\"], [0.2222222222222222, \"#7201a8\"], [0.3333333333333333, \"#9c179e\"], [0.4444444444444444, \"#bd3786\"], [0.5555555555555556, \"#d8576b\"], [0.6666666666666666, \"#ed7953\"], [0.7777777777777778, \"#fb9f3a\"], [0.8888888888888888, \"#fdca26\"], [1.0, \"#f0f921\"]]}, \"colorway\": [\"#636efa\", \"#EF553B\", \"#00cc96\", \"#ab63fa\", \"#FFA15A\", \"#19d3f3\", \"#FF6692\", \"#B6E880\", \"#FF97FF\", \"#FECB52\"], \"font\": {\"color\": \"#2a3f5f\"}, \"geo\": {\"bgcolor\": \"white\", \"lakecolor\": \"white\", \"landcolor\": \"#E5ECF6\", \"showlakes\": true, \"showland\": true, \"subunitcolor\": \"white\"}, \"hoverlabel\": {\"align\": \"left\"}, \"hovermode\": \"closest\", \"mapbox\": {\"style\": \"light\"}, \"paper_bgcolor\": \"white\", \"plot_bgcolor\": \"#E5ECF6\", \"polar\": {\"angularaxis\": {\"gridcolor\": \"white\", \"linecolor\": \"white\", \"ticks\": \"\"}, \"bgcolor\": \"#E5ECF6\", \"radialaxis\": {\"gridcolor\": \"white\", \"linecolor\": \"white\", \"ticks\": \"\"}}, \"scene\": {\"xaxis\": {\"backgroundcolor\": \"#E5ECF6\", \"gridcolor\": \"white\", \"gridwidth\": 2, \"linecolor\": \"white\", \"showbackground\": true, \"ticks\": \"\", \"zerolinecolor\": \"white\"}, \"yaxis\": {\"backgroundcolor\": \"#E5ECF6\", \"gridcolor\": \"white\", \"gridwidth\": 2, \"linecolor\": \"white\", \"showbackground\": true, \"ticks\": \"\", \"zerolinecolor\": \"white\"}, \"zaxis\": {\"backgroundcolor\": \"#E5ECF6\", \"gridcolor\": \"white\", \"gridwidth\": 2, \"linecolor\": \"white\", \"showbackground\": true, \"ticks\": \"\", \"zerolinecolor\": \"white\"}}, \"shapedefaults\": {\"line\": {\"color\": \"#2a3f5f\"}}, \"ternary\": {\"aaxis\": {\"gridcolor\": \"white\", \"linecolor\": \"white\", \"ticks\": \"\"}, \"baxis\": {\"gridcolor\": \"white\", \"linecolor\": \"white\", \"ticks\": \"\"}, \"bgcolor\": \"#E5ECF6\", \"caxis\": {\"gridcolor\": \"white\", \"linecolor\": \"white\", \"ticks\": \"\"}}, \"title\": {\"x\": 0.05}, \"xaxis\": {\"automargin\": true, \"gridcolor\": \"white\", \"linecolor\": \"white\", \"ticks\": \"\", \"title\": {\"standoff\": 15}, \"zerolinecolor\": \"white\", \"zerolinewidth\": 2}, \"yaxis\": {\"automargin\": true, \"gridcolor\": \"white\", \"linecolor\": \"white\", \"ticks\": \"\", \"title\": {\"standoff\": 15}, \"zerolinecolor\": \"white\", \"zerolinewidth\": 2}}}, \"title\": {\"text\": \"LSI Scores\"}, \"xaxis\": {\"anchor\": \"y\", \"domain\": [0.0, 1.0], \"title\": {\"text\": \"score\"}}, \"yaxis\": {\"anchor\": \"x\", \"domain\": [0.0, 1.0], \"title\": {\"text\": \"count\"}}},\n",
              "                        {\"responsive\": true}\n",
              "                    ).then(function(){\n",
              "                            \n",
              "var gd = document.getElementById('f881ec1c-40c9-489c-834a-31c37332abee');\n",
              "var x = new MutationObserver(function (mutations, observer) {{\n",
              "        var display = window.getComputedStyle(gd).display;\n",
              "        if (!display || display === 'none') {{\n",
              "            console.log([gd, 'removed!']);\n",
              "            Plotly.purge(gd);\n",
              "            observer.disconnect();\n",
              "        }}\n",
              "}});\n",
              "\n",
              "// Listen for the removal of the full notebook cells\n",
              "var notebookContainer = gd.closest('#notebook-container');\n",
              "if (notebookContainer) {{\n",
              "    x.observe(notebookContainer, {childList: true});\n",
              "}}\n",
              "\n",
              "// Listen for the clearing of the current output cell\n",
              "var outputEl = gd.closest('.output');\n",
              "if (outputEl) {{\n",
              "    x.observe(outputEl, {childList: true});\n",
              "}}\n",
              "\n",
              "                        })\n",
              "                };\n",
              "                \n",
              "            </script>\n",
              "        </div>\n",
              "</body>\n",
              "</html>"
            ]
          },
          "metadata": {}
        }
      ]
    },
    {
      "cell_type": "code",
      "metadata": {
        "id": "RX2JvEEGPGgS"
      },
      "source": [
        "if use_wandb:\n",
        "  wandb.log({\"scores_hist\": fig})"
      ],
      "execution_count": 73,
      "outputs": []
    },
    {
      "cell_type": "code",
      "metadata": {
        "colab": {
          "base_uri": "https://localhost:8080/",
          "height": 1000
        },
        "id": "7N81-XfdDFKV",
        "outputId": "90c7dbe0-0ca8-4c3e-8c4e-5a8495a6f709"
      },
      "source": [
        "result, details = recommend_tune(df_sim, 'These Foolish Things [jazz1350]')\n",
        "result.head(30)"
      ],
      "execution_count": 74,
      "outputs": [
        {
          "output_type": "execute_result",
          "data": {
            "text/html": [
              "<div>\n",
              "<style scoped>\n",
              "    .dataframe tbody tr th:only-of-type {\n",
              "        vertical-align: middle;\n",
              "    }\n",
              "\n",
              "    .dataframe tbody tr th {\n",
              "        vertical-align: top;\n",
              "    }\n",
              "\n",
              "    .dataframe thead th {\n",
              "        text-align: right;\n",
              "    }\n",
              "</style>\n",
              "<table border=\"1\" class=\"dataframe\">\n",
              "  <thead>\n",
              "    <tr style=\"text-align: right;\">\n",
              "      <th></th>\n",
              "      <th>index</th>\n",
              "      <th>reference</th>\n",
              "      <th>reference_titleid</th>\n",
              "      <th>similar_title</th>\n",
              "      <th>score</th>\n",
              "      <th>max</th>\n",
              "      <th>score_div_max</th>\n",
              "      <th>similar_titleid</th>\n",
              "    </tr>\n",
              "  </thead>\n",
              "  <tbody>\n",
              "    <tr>\n",
              "      <th>0</th>\n",
              "      <td>0</td>\n",
              "      <td>These Foolish Things [jazz1350]</td>\n",
              "      <td>1168</td>\n",
              "      <td>More Than You Know [jazz1350]</td>\n",
              "      <td>0.916515</td>\n",
              "      <td>0.916515</td>\n",
              "      <td>1.000000</td>\n",
              "      <td>829</td>\n",
              "    </tr>\n",
              "    <tr>\n",
              "      <th>1</th>\n",
              "      <td>1</td>\n",
              "      <td>These Foolish Things [jazz1350]</td>\n",
              "      <td>1168</td>\n",
              "      <td>Way You Look Tonight, The [jazz1350]</td>\n",
              "      <td>0.966796</td>\n",
              "      <td>0.974755</td>\n",
              "      <td>1.000000</td>\n",
              "      <td>1253</td>\n",
              "    </tr>\n",
              "    <tr>\n",
              "      <th>2</th>\n",
              "      <td>2</td>\n",
              "      <td>These Foolish Things [jazz1350]</td>\n",
              "      <td>1168</td>\n",
              "      <td>I Loves You Porgy [jazz1350]</td>\n",
              "      <td>0.974755</td>\n",
              "      <td>0.974755</td>\n",
              "      <td>1.000000</td>\n",
              "      <td>520</td>\n",
              "    </tr>\n",
              "    <tr>\n",
              "      <th>3</th>\n",
              "      <td>3</td>\n",
              "      <td>These Foolish Things [jazz1350]</td>\n",
              "      <td>1168</td>\n",
              "      <td>It's Easy To Remember [jazz1350]</td>\n",
              "      <td>0.951972</td>\n",
              "      <td>0.974755</td>\n",
              "      <td>0.997175</td>\n",
              "      <td>637</td>\n",
              "    </tr>\n",
              "    <tr>\n",
              "      <th>4</th>\n",
              "      <td>4</td>\n",
              "      <td>These Foolish Things [jazz1350]</td>\n",
              "      <td>1168</td>\n",
              "      <td>Stairway To The Stars [jazz1350]</td>\n",
              "      <td>0.942223</td>\n",
              "      <td>0.954669</td>\n",
              "      <td>0.986963</td>\n",
              "      <td>1097</td>\n",
              "    </tr>\n",
              "    <tr>\n",
              "      <th>5</th>\n",
              "      <td>5</td>\n",
              "      <td>These Foolish Things [jazz1350]</td>\n",
              "      <td>1168</td>\n",
              "      <td>Party's Over, The [jazz1350]</td>\n",
              "      <td>0.958709</td>\n",
              "      <td>0.974755</td>\n",
              "      <td>0.983539</td>\n",
              "      <td>935</td>\n",
              "    </tr>\n",
              "    <tr>\n",
              "      <th>6</th>\n",
              "      <td>6</td>\n",
              "      <td>These Foolish Things [jazz1350]</td>\n",
              "      <td>1168</td>\n",
              "      <td>Rosetta [jazz1350]</td>\n",
              "      <td>0.895443</td>\n",
              "      <td>0.916515</td>\n",
              "      <td>0.977008</td>\n",
              "      <td>996</td>\n",
              "    </tr>\n",
              "    <tr>\n",
              "      <th>7</th>\n",
              "      <td>7</td>\n",
              "      <td>These Foolish Things [jazz1350]</td>\n",
              "      <td>1168</td>\n",
              "      <td>Rosetta [trad]</td>\n",
              "      <td>0.895443</td>\n",
              "      <td>0.916515</td>\n",
              "      <td>0.977008</td>\n",
              "      <td>1676</td>\n",
              "    </tr>\n",
              "    <tr>\n",
              "      <th>8</th>\n",
              "      <td>8</td>\n",
              "      <td>These Foolish Things [jazz1350]</td>\n",
              "      <td>1168</td>\n",
              "      <td>They All Laughed [jazz1350]</td>\n",
              "      <td>0.950980</td>\n",
              "      <td>0.974755</td>\n",
              "      <td>0.975609</td>\n",
              "      <td>1169</td>\n",
              "    </tr>\n",
              "    <tr>\n",
              "      <th>9</th>\n",
              "      <td>9</td>\n",
              "      <td>These Foolish Things [jazz1350]</td>\n",
              "      <td>1168</td>\n",
              "      <td>And The Angels Sing [jazz1350]</td>\n",
              "      <td>0.947678</td>\n",
              "      <td>0.974755</td>\n",
              "      <td>0.972222</td>\n",
              "      <td>78</td>\n",
              "    </tr>\n",
              "    <tr>\n",
              "      <th>10</th>\n",
              "      <td>10</td>\n",
              "      <td>These Foolish Things [jazz1350]</td>\n",
              "      <td>1168</td>\n",
              "      <td>Let's Fall In Love [jazz1350]</td>\n",
              "      <td>0.927426</td>\n",
              "      <td>0.954669</td>\n",
              "      <td>0.971464</td>\n",
              "      <td>708</td>\n",
              "    </tr>\n",
              "    <tr>\n",
              "      <th>11</th>\n",
              "      <td>11</td>\n",
              "      <td>These Foolish Things [jazz1350]</td>\n",
              "      <td>1168</td>\n",
              "      <td>Bewitched [jazz1350]</td>\n",
              "      <td>0.942847</td>\n",
              "      <td>0.974755</td>\n",
              "      <td>0.970287</td>\n",
              "      <td>132</td>\n",
              "    </tr>\n",
              "    <tr>\n",
              "      <th>12</th>\n",
              "      <td>12</td>\n",
              "      <td>These Foolish Things [jazz1350]</td>\n",
              "      <td>1168</td>\n",
              "      <td>Easy Street [jazz1350]</td>\n",
              "      <td>0.926302</td>\n",
              "      <td>0.954669</td>\n",
              "      <td>0.970286</td>\n",
              "      <td>343</td>\n",
              "    </tr>\n",
              "    <tr>\n",
              "      <th>13</th>\n",
              "      <td>13</td>\n",
              "      <td>These Foolish Things [jazz1350]</td>\n",
              "      <td>1168</td>\n",
              "      <td>Among My Souvenirs [jazz1350]</td>\n",
              "      <td>0.925820</td>\n",
              "      <td>0.954669</td>\n",
              "      <td>0.969782</td>\n",
              "      <td>75</td>\n",
              "    </tr>\n",
              "    <tr>\n",
              "      <th>14</th>\n",
              "      <td>14</td>\n",
              "      <td>These Foolish Things [jazz1350]</td>\n",
              "      <td>1168</td>\n",
              "      <td>Why Do I Love You [jazz1350]</td>\n",
              "      <td>0.943702</td>\n",
              "      <td>0.974755</td>\n",
              "      <td>0.968143</td>\n",
              "      <td>1286</td>\n",
              "    </tr>\n",
              "    <tr>\n",
              "      <th>15</th>\n",
              "      <td>15</td>\n",
              "      <td>These Foolish Things [jazz1350]</td>\n",
              "      <td>1168</td>\n",
              "      <td>Folks Who Live On The Hill, The [jazz1350]</td>\n",
              "      <td>0.942871</td>\n",
              "      <td>0.974755</td>\n",
              "      <td>0.967291</td>\n",
              "      <td>390</td>\n",
              "    </tr>\n",
              "    <tr>\n",
              "      <th>16</th>\n",
              "      <td>16</td>\n",
              "      <td>These Foolish Things [jazz1350]</td>\n",
              "      <td>1168</td>\n",
              "      <td>If There Is Someone Lovelier [jazz1350]</td>\n",
              "      <td>0.942082</td>\n",
              "      <td>0.974755</td>\n",
              "      <td>0.966481</td>\n",
              "      <td>582</td>\n",
              "    </tr>\n",
              "    <tr>\n",
              "      <th>17</th>\n",
              "      <td>17</td>\n",
              "      <td>These Foolish Things [jazz1350]</td>\n",
              "      <td>1168</td>\n",
              "      <td>It's A Lovely Day Today [jazz1350]</td>\n",
              "      <td>0.941636</td>\n",
              "      <td>0.974755</td>\n",
              "      <td>0.966024</td>\n",
              "      <td>632</td>\n",
              "    </tr>\n",
              "    <tr>\n",
              "      <th>18</th>\n",
              "      <td>18</td>\n",
              "      <td>These Foolish Things [jazz1350]</td>\n",
              "      <td>1168</td>\n",
              "      <td>Manhattan [jazz1350]</td>\n",
              "      <td>0.920751</td>\n",
              "      <td>0.954669</td>\n",
              "      <td>0.964472</td>\n",
              "      <td>774</td>\n",
              "    </tr>\n",
              "    <tr>\n",
              "      <th>19</th>\n",
              "      <td>19</td>\n",
              "      <td>These Foolish Things [jazz1350]</td>\n",
              "      <td>1168</td>\n",
              "      <td>Heart And Soul [jazz1350]</td>\n",
              "      <td>0.934199</td>\n",
              "      <td>0.974755</td>\n",
              "      <td>0.964457</td>\n",
              "      <td>457</td>\n",
              "    </tr>\n",
              "    <tr>\n",
              "      <th>20</th>\n",
              "      <td>20</td>\n",
              "      <td>These Foolish Things [jazz1350]</td>\n",
              "      <td>1168</td>\n",
              "      <td>For Once In My Life [jazz1350]</td>\n",
              "      <td>0.919239</td>\n",
              "      <td>0.954669</td>\n",
              "      <td>0.962888</td>\n",
              "      <td>397</td>\n",
              "    </tr>\n",
              "    <tr>\n",
              "      <th>21</th>\n",
              "      <td>21</td>\n",
              "      <td>These Foolish Things [jazz1350]</td>\n",
              "      <td>1168</td>\n",
              "      <td>Danny Boy [jazz1350]</td>\n",
              "      <td>0.934685</td>\n",
              "      <td>0.974755</td>\n",
              "      <td>0.962888</td>\n",
              "      <td>280</td>\n",
              "    </tr>\n",
              "    <tr>\n",
              "      <th>22</th>\n",
              "      <td>22</td>\n",
              "      <td>These Foolish Things [jazz1350]</td>\n",
              "      <td>1168</td>\n",
              "      <td>Taking A Chance On Love [jazz1350]</td>\n",
              "      <td>0.919145</td>\n",
              "      <td>0.954669</td>\n",
              "      <td>0.962790</td>\n",
              "      <td>1144</td>\n",
              "    </tr>\n",
              "    <tr>\n",
              "      <th>23</th>\n",
              "      <td>23</td>\n",
              "      <td>These Foolish Things [jazz1350]</td>\n",
              "      <td>1168</td>\n",
              "      <td>Miss Otis Regrets [trad]</td>\n",
              "      <td>0.936418</td>\n",
              "      <td>0.974755</td>\n",
              "      <td>0.960671</td>\n",
              "      <td>1609</td>\n",
              "    </tr>\n",
              "    <tr>\n",
              "      <th>24</th>\n",
              "      <td>24</td>\n",
              "      <td>These Foolish Things [jazz1350]</td>\n",
              "      <td>1168</td>\n",
              "      <td>You Keep Coming Back Like A Song [jazz1350]</td>\n",
              "      <td>0.933722</td>\n",
              "      <td>0.974755</td>\n",
              "      <td>0.957905</td>\n",
              "      <td>1317</td>\n",
              "    </tr>\n",
              "    <tr>\n",
              "      <th>25</th>\n",
              "      <td>25</td>\n",
              "      <td>These Foolish Things [jazz1350]</td>\n",
              "      <td>1168</td>\n",
              "      <td>Beyond The Sea [jazz1350]</td>\n",
              "      <td>0.932874</td>\n",
              "      <td>0.974755</td>\n",
              "      <td>0.957034</td>\n",
              "      <td>134</td>\n",
              "    </tr>\n",
              "    <tr>\n",
              "      <th>26</th>\n",
              "      <td>26</td>\n",
              "      <td>These Foolish Things [jazz1350]</td>\n",
              "      <td>1168</td>\n",
              "      <td>For You, For Me, For Evermore [jazz1350]</td>\n",
              "      <td>0.932298</td>\n",
              "      <td>0.974755</td>\n",
              "      <td>0.956444</td>\n",
              "      <td>399</td>\n",
              "    </tr>\n",
              "    <tr>\n",
              "      <th>27</th>\n",
              "      <td>27</td>\n",
              "      <td>These Foolish Things [jazz1350]</td>\n",
              "      <td>1168</td>\n",
              "      <td>Good Life, The [jazz1350]</td>\n",
              "      <td>0.921955</td>\n",
              "      <td>0.972306</td>\n",
              "      <td>0.948215</td>\n",
              "      <td>437</td>\n",
              "    </tr>\n",
              "    <tr>\n",
              "      <th>28</th>\n",
              "      <td>28</td>\n",
              "      <td>These Foolish Things [jazz1350]</td>\n",
              "      <td>1168</td>\n",
              "      <td>Mountain Greenery [jazz1350]</td>\n",
              "      <td>0.911765</td>\n",
              "      <td>0.972306</td>\n",
              "      <td>0.937735</td>\n",
              "      <td>833</td>\n",
              "    </tr>\n",
              "    <tr>\n",
              "      <th>29</th>\n",
              "      <td>29</td>\n",
              "      <td>These Foolish Things [jazz1350]</td>\n",
              "      <td>1168</td>\n",
              "      <td>Dreaming The Hours Away [trad]</td>\n",
              "      <td>0.911505</td>\n",
              "      <td>0.972306</td>\n",
              "      <td>0.937467</td>\n",
              "      <td>1466</td>\n",
              "    </tr>\n",
              "  </tbody>\n",
              "</table>\n",
              "</div>"
            ],
            "text/plain": [
              "    index                        reference  ...  score_div_max similar_titleid\n",
              "0       0  These Foolish Things [jazz1350]  ...       1.000000             829\n",
              "1       1  These Foolish Things [jazz1350]  ...       1.000000            1253\n",
              "2       2  These Foolish Things [jazz1350]  ...       1.000000             520\n",
              "3       3  These Foolish Things [jazz1350]  ...       0.997175             637\n",
              "4       4  These Foolish Things [jazz1350]  ...       0.986963            1097\n",
              "5       5  These Foolish Things [jazz1350]  ...       0.983539             935\n",
              "6       6  These Foolish Things [jazz1350]  ...       0.977008             996\n",
              "7       7  These Foolish Things [jazz1350]  ...       0.977008            1676\n",
              "8       8  These Foolish Things [jazz1350]  ...       0.975609            1169\n",
              "9       9  These Foolish Things [jazz1350]  ...       0.972222              78\n",
              "10     10  These Foolish Things [jazz1350]  ...       0.971464             708\n",
              "11     11  These Foolish Things [jazz1350]  ...       0.970287             132\n",
              "12     12  These Foolish Things [jazz1350]  ...       0.970286             343\n",
              "13     13  These Foolish Things [jazz1350]  ...       0.969782              75\n",
              "14     14  These Foolish Things [jazz1350]  ...       0.968143            1286\n",
              "15     15  These Foolish Things [jazz1350]  ...       0.967291             390\n",
              "16     16  These Foolish Things [jazz1350]  ...       0.966481             582\n",
              "17     17  These Foolish Things [jazz1350]  ...       0.966024             632\n",
              "18     18  These Foolish Things [jazz1350]  ...       0.964472             774\n",
              "19     19  These Foolish Things [jazz1350]  ...       0.964457             457\n",
              "20     20  These Foolish Things [jazz1350]  ...       0.962888             397\n",
              "21     21  These Foolish Things [jazz1350]  ...       0.962888             280\n",
              "22     22  These Foolish Things [jazz1350]  ...       0.962790            1144\n",
              "23     23  These Foolish Things [jazz1350]  ...       0.960671            1609\n",
              "24     24  These Foolish Things [jazz1350]  ...       0.957905            1317\n",
              "25     25  These Foolish Things [jazz1350]  ...       0.957034             134\n",
              "26     26  These Foolish Things [jazz1350]  ...       0.956444             399\n",
              "27     27  These Foolish Things [jazz1350]  ...       0.948215             437\n",
              "28     28  These Foolish Things [jazz1350]  ...       0.937735             833\n",
              "29     29  These Foolish Things [jazz1350]  ...       0.937467            1466\n",
              "\n",
              "[30 rows x 8 columns]"
            ]
          },
          "metadata": {},
          "execution_count": 74
        }
      ]
    },
    {
      "cell_type": "code",
      "metadata": {
        "id": "15ZsHOQmyyah"
      },
      "source": [
        "dd = pd.DataFrame(columns = recommender_results_cols)\n",
        "\n",
        "for tune in tunes_eval_list:\n",
        "  result, details = recommend_tune(df_sim, tune)\n",
        "  dd['id'] = result['index']\n",
        "  dd['reference'] = tune\n",
        "  dd['method'] = 'lsi'\n",
        "  dd['similar'] = result['similar_title']\n",
        "  dd['score_div_max'] = result['score_div_max']\n",
        "  dd['score'] = result['score']\n",
        "\n",
        "recommender_results = recommender_results.append(dd)"
      ],
      "execution_count": 75,
      "outputs": []
    },
    {
      "cell_type": "markdown",
      "metadata": {
        "id": "Ojrjp11ni6Pl"
      },
      "source": [
        "### Tests for Contrafacts"
      ]
    },
    {
      "cell_type": "code",
      "metadata": {
        "colab": {
          "base_uri": "https://localhost:8080/"
        },
        "id": "D0_7m1qji6A-",
        "outputId": "c5b03aa8-5896-44ec-e22d-d7b76e30859c"
      },
      "source": [
        "topN = 15\n",
        "matches, results = test_contrafacts(contrafacts, index_lsi, lsi, topN)\n",
        "\n",
        "[print(f\"{val}: {rr}\") for rr, val in results.items()] \n",
        "print() \n",
        "print(f\"Found matches: {matches} out of {len(contrafacts)}: {100*matches/len(contrafacts):.3f}%\")"
      ],
      "execution_count": 76,
      "outputs": [
        {
          "output_type": "stream",
          "name": "stdout",
          "text": [
            "1: 26-2 [jazz1350], Confirmation [jazz1350]\n",
            "0: 52nd Street Theme [jazz1350], I Got Rhythm [jazz1350]\n",
            "1: Ablution [jazz1350], All The Things You Are [jazz1350]\n",
            "1: Anthropology [jazz1350], I Got Rhythm [jazz1350]\n",
            "0: Ballade [jazz1350], As Long As I Live [jazz1350]\n",
            "1: Bright Mississippi [jazz1350], Sweet Georgia Brown [jazz1350]\n",
            "1: C.T.A. [jazz1350], I Got Rhythm [jazz1350]\n",
            "1: Cottontail [jazz1350], I Got Rhythm [jazz1350]\n",
            "0: Countdown [jazz1350], Tune Up [jazz1350]\n",
            "0: Dewey Square [jazz1350], Oh, Lady Be Good [jazz1350]\n",
            "1: Dexterity [jazz1350], I Got Rhythm [jazz1350]\n",
            "1: Dig [jazz1350], Sweet Georgia Brown [jazz1350]\n",
            "1: Donna Lee [jazz1350], Indiana (Back Home Again In) [jazz1350]\n",
            "0: Don't Be That Way [jazz1350], I Got Rhythm [jazz1350]\n",
            "1: Evidence [jazz1350], Just You, Just Me [jazz1350]\n",
            "1: Flintstones [jazz1350], I Got Rhythm [jazz1350]\n",
            "1: Four On Six [jazz1350], Summertime [jazz1350]\n",
            "1: Freight Train [jazz1350], Blues For Alice [jazz1350]\n",
            "0: Good Bait [jazz1350], I Got Rhythm [jazz1350]\n",
            "0: Hackensack [jazz1350], Oh, Lady Be Good [jazz1350]\n",
            "1: Half Nelson [jazz1350], Lady Bird [jazz1350]\n",
            "1: Hot House [jazz1350], What Is This Thing Called Love [jazz1350]\n",
            "1: Impressions [jazz1350], So What [jazz1350]\n",
            "1: In A Mellow Tone (In A Mellotone) [jazz1350], Rose Room [jazz1350]\n",
            "1: In Walked Bud [jazz1350], Blue Skies [jazz1350]\n",
            "1: Ko Ko [jazz1350], Cherokee [jazz1350]\n",
            "0: Lennie's Pennies [jazz1350], Pennies From Heaven [jazz1350]\n",
            "0: Little Rootie Tootie [jazz1350], I Got Rhythm [jazz1350]\n",
            "0: Little Willie Leaps [jazz1350], All God's Chillun Got Rhythm [jazz1350]\n",
            "0: Lullaby Of Birdland [jazz1350], Love Me Or Leave Me [jazz1350]\n",
            "0: My Little Suede Shoes [jazz1350], Jeepers Creepers [jazz1350]\n",
            "1: Ornithology [jazz1350], How High The Moon [jazz1350]\n",
            "0: Quasimodo (Theme) [jazz1350], Embraceable You [jazz1350]\n",
            "0: Room 608 [jazz1350], I Got Rhythm [jazz1350]\n",
            "1: Satellite [jazz1350], How High The Moon [jazz1350]\n",
            "1: Scrapple From The Apple [jazz1350], Honeysuckle Rose [jazz1350]\n",
            "1: Scrapple From The Apple [jazz1350], I Got Rhythm [jazz1350]\n",
            "1: Tour De Force [jazz1350], Jeepers Creepers [jazz1350]\n",
            "0: Wow [jazz1350], You Can Depend On Me [jazz1350]\n",
            "1: Yardbird Suite [jazz1350], Rosetta [jazz1350]\n",
            "0: Sweet Sue, Just You [jazz1350], Honeysuckle Rose [jazz1350]\n",
            "0: Sweet Sue, Just You [jazz1350], Bye Bye Blackbird [jazz1350]\n",
            "0: These Foolish Things [jazz1350], Blue Moon [jazz1350]\n",
            "1: These Foolish Things [jazz1350], More Than You Know [jazz1350]\n",
            "1: These Foolish Things [jazz1350], Isn't It A Pity [jazz1350]\n",
            "0: These Foolish Things [jazz1350], Soultrain [jazz1350]\n",
            "1: These Foolish Things [jazz1350], Why Do I Love You [jazz1350]\n",
            "1: Misty [jazz1350], Portrait Of Jennie [jazz1350]\n",
            "0: Misty [jazz1350], September In The Rain [jazz1350]\n",
            "1: Misty [jazz1350], I May Be Wrong [jazz1350]\n",
            "\n",
            "Found matches: 30 out of 50: 60.000%\n"
          ]
        }
      ]
    },
    {
      "cell_type": "code",
      "metadata": {
        "id": "RS7LsLASi5-f"
      },
      "source": [
        "model_name = 'lsi'\n",
        "if use_wandb:\n",
        "  wandb.log(\n",
        "      {model_name: {\n",
        "                'contrafacts': {\n",
        "                    'topN': topN,\n",
        "                    'success': matches/len(contrafacts),\n",
        "                    #'results': results\n",
        "                    }\n",
        "                   },\n",
        "       'all_models': {\n",
        "           model_name: wandb.Table(\n",
        "               columns=[\"Title\", \"Match\"],\n",
        "               data=[[key, value] for key, value in results.items()]),\n",
        "       }\n",
        "       })"
      ],
      "execution_count": 77,
      "outputs": []
    },
    {
      "cell_type": "markdown",
      "metadata": {
        "id": "AjZArSmyooWt"
      },
      "source": [
        "### Get Recommender Data for WebApp"
      ]
    },
    {
      "cell_type": "code",
      "metadata": {
        "colab": {
          "base_uri": "https://localhost:8080/"
        },
        "id": "JOBtj15donxK",
        "outputId": "c07b1bef-ab6e-44ce-9759-e80fff8cf8fb"
      },
      "source": [
        "%%time\n",
        "if generate_webapp_data:\n",
        "  _tunes = list(tunes['title_playlist'].values())\n",
        "\n",
        "  df_sim = get_sim_scores(_tunes, index=index_lsi, model=lsi)\n",
        "\n",
        "  result = None\n",
        "  for tune in _tunes:\n",
        "    tune_result, details = recommend_tune(df_sim, tune)\n",
        "    if result is None:\n",
        "      result = pd.DataFrame(columns=tune_result.columns)\n",
        "    result = result.append(tune_result)\n",
        "\n",
        "  # save to file\n",
        "  result.to_csv('output/recommender_lsi.csv', sep='\\t', encoding='utf8')\n",
        "\n",
        "  # save to W&B\n",
        "  if use_wandb:\n",
        "    model_artifact = wandb.Artifact(\n",
        "        \"recommender_lsi\", \n",
        "        type=\"csv\",\n",
        "        description=\"Recommendations for each Tune using LSI Model (csv file)\",\n",
        "        metadata=\"\")\n",
        "\n",
        "    model_artifact.add_file('output/recommender_lsi.csv')\n",
        "    wandb.log_artifact(model_artifact)"
      ],
      "execution_count": 78,
      "outputs": [
        {
          "output_type": "stream",
          "name": "stdout",
          "text": [
            "CPU times: user 4 µs, sys: 1e+03 ns, total: 5 µs\n",
            "Wall time: 10.5 µs\n"
          ]
        }
      ]
    },
    {
      "cell_type": "markdown",
      "metadata": {
        "id": "lTQKfd0xQQ65"
      },
      "source": [
        "## Store Model to W&B"
      ]
    },
    {
      "cell_type": "code",
      "metadata": {
        "id": "RfAYF7ArQUXo"
      },
      "source": [
        "if use_wandb:\n",
        "  model_artifact = wandb.Artifact(\n",
        "      \"model_lsi\", \n",
        "      type=\"model\",\n",
        "      description=\"LSI model\",\n",
        "      metadata=\"\")\n",
        "\n",
        "  model_artifact.add_file(\"/content/index/lsi.model\")\n",
        "  model_artifact.add_file(\"/content/index/lsi_matrixsim.index\")\n",
        "  model_artifact.add_file(\"/content/index/lsi.model.projection\")\n",
        "  wandb.log_artifact(model_artifact)"
      ],
      "execution_count": 79,
      "outputs": []
    },
    {
      "cell_type": "markdown",
      "metadata": {
        "id": "asScIocQRMPA"
      },
      "source": [
        "## Determine Number of Topics for LSI Model\n",
        "\n",
        "This sample comes from Datacamp: \n",
        "\n",
        "https://www.datacamp.com/community/tutorials/discovering-hidden-topics-python\n"
      ]
    },
    {
      "cell_type": "markdown",
      "metadata": {
        "id": "1TPNWFEPSxZ-"
      },
      "source": [
        "What is the best way to determine k (number of topics) in topic modeling? Identify the optimum number of topics in the given corpus text is a challenging task. We can use the following options for determining the optimum number of topics:\n",
        "\n",
        "* One way to determine the optimum number of topics is to consider each topic as a cluster and find out the effectiveness of a cluster using the Silhouette coefficient.\n",
        "* Topic coherence measure is a realistic measure for identifying the number of topics.\n",
        "\n",
        "Topic Coherence measure is a widely used metric to evaluate topic models. It uses the latent variable models. Each generated topic has a list of words. In topic coherence measure, you will find average/median of pairwise word similarity scores of the words in a topic. The high value of topic coherence score model will be considered as a good topic model. "
      ]
    },
    {
      "cell_type": "code",
      "metadata": {
        "id": "umpCyQQzRLgv"
      },
      "source": [
        "def prepare_corpus(doc_clean):\n",
        "    \"\"\"\n",
        "    Input  : clean document\n",
        "    Purpose: create term dictionary of our courpus and Converting list of documents (corpus) into Document Term Matrix\n",
        "    Output : term dictionary and Document Term Matrix\n",
        "    \"\"\"\n",
        "    # Creating the term dictionary of our courpus, where every unique term is assigned an index. dictionary = corpora.Dictionary(doc_clean)\n",
        "    dictionary = corpora.Dictionary(doc_clean)\n",
        "    # Converting list of documents (corpus) into Document Term Matrix using dictionary prepared above.\n",
        "    doc_term_matrix = [dictionary.doc2bow(doc) for doc in doc_clean]\n",
        "    # generate LDA model\n",
        "    return dictionary, doc_term_matrix"
      ],
      "execution_count": 80,
      "outputs": []
    },
    {
      "cell_type": "code",
      "metadata": {
        "id": "aS2wxIEERcul"
      },
      "source": [
        "def compute_coherence_values(dictionary, doc_term_matrix, doc_clean, stop, start=2, step=3):\n",
        "    \"\"\"\n",
        "    Input   : dictionary : Gensim dictionary\n",
        "              corpus : Gensim corpus\n",
        "              texts : List of input texts\n",
        "              stop : Max num of topics\n",
        "    purpose : Compute c_v coherence for various number of topics\n",
        "    Output  : model_list : List of LSA topic models\n",
        "              coherence_values : Coherence values corresponding to the LDA model with respective number of topics\n",
        "    \"\"\"\n",
        "    coherence_values = []\n",
        "    model_list = []\n",
        "    for num_topics in range(start, stop, step):\n",
        "        # generate LSA model\n",
        "        model = LsiModel(doc_term_matrix, num_topics=num_topics, id2word = dictionary)  # train model\n",
        "        model_list.append(model)\n",
        "        coherencemodel = CoherenceModel(model=model, texts=doc_clean, dictionary=dictionary, coherence='c_v')\n",
        "        coherence_values.append(coherencemodel.get_coherence())\n",
        "    return model_list, coherence_values"
      ],
      "execution_count": 81,
      "outputs": []
    },
    {
      "cell_type": "code",
      "metadata": {
        "id": "DjyzAzWBRfrH"
      },
      "source": [
        "def plot_graph(doc_clean,start, stop, step):\n",
        "    dictionary, doc_term_matrix = prepare_corpus(doc_clean)\n",
        "    model_list, coherence_values = compute_coherence_values(dictionary, doc_term_matrix,doc_clean,\n",
        "                                                            stop, start, step)\n",
        "    # Show graph\n",
        "    x = range(start, stop, step)\n",
        "    plt.plot(x, coherence_values)\n",
        "    plt.xlabel(\"Number of Topics\")\n",
        "    plt.ylabel(\"Coherence score\")\n",
        "    plt.legend((\"coherence_values\"), loc='best')\n",
        "    plt.show()"
      ],
      "execution_count": 82,
      "outputs": []
    },
    {
      "cell_type": "code",
      "metadata": {
        "id": "qy9ZjdcmRhxs"
      },
      "source": [
        "# evaluate a good number of topics for the LSI Model. This takes some time.\n",
        "\n",
        "if False:\n",
        "\n",
        "  start, stop, step = 1, 500, 10\n",
        "  plot_graph(data, start, stop, step)"
      ],
      "execution_count": 83,
      "outputs": []
    },
    {
      "cell_type": "markdown",
      "metadata": {
        "id": "Qo5NgBHFlqgg"
      },
      "source": [
        "For unigrams, the best number of topics seems to be around 20.\n",
        "\n",
        "For unigrams plus bigrams, the coherence score drops down until 100 and then continuously rises until 500 and continues to rise. Same for bigrams-only."
      ]
    },
    {
      "cell_type": "markdown",
      "metadata": {
        "id": "rF_INicGhXKd"
      },
      "source": [
        "# Doc2Vec"
      ]
    },
    {
      "cell_type": "code",
      "metadata": {
        "id": "wflSccBshkIk"
      },
      "source": [
        "def get_tagged_documents(corpus, tags=None):\n",
        "  if tags == 'SectionsTunes':\n",
        "    print('Tagging input data with both section and tune information.')\n",
        "  else:\n",
        "    print('Tagging input data with section informaiton only.')\n",
        "    \n",
        "  for i, tokens in enumerate(corpus):\n",
        "    if tags == 'SectionsTunes':\n",
        "      yield gensim.models.doc2vec.TaggedDocument(tokens, [i, f'titleid_{sectionid_to_titleid[i]}'])\n",
        "    else:\n",
        "      yield gensim.models.doc2vec.TaggedDocument(tokens, [i])  # diatonic chord distance is a bit better"
      ],
      "execution_count": 84,
      "outputs": []
    },
    {
      "cell_type": "code",
      "metadata": {
        "colab": {
          "base_uri": "https://localhost:8080/"
        },
        "id": "_u0RdBI1kYD9",
        "outputId": "48e7b36a-b81b-4220-fb03-d0cb68752331"
      },
      "source": [
        "train_corpus = list(get_tagged_documents(processed_corpus, doc2vec_config['general']['document_tags']))\n",
        "train_corpus[1000]"
      ],
      "execution_count": 85,
      "outputs": [
        {
          "output_type": "stream",
          "name": "stdout",
          "text": [
            "Tagging input data with both section and tune information.\n"
          ]
        },
        {
          "output_type": "execute_result",
          "data": {
            "text/plain": [
              "TaggedDocument(words=['C', 'Am', 'Dm', 'G7', 'C', 'F', 'C', 'Am', 'Dm', 'G7', 'C', 'Dm', 'G7'], tags=[1000, 'titleid_308'])"
            ]
          },
          "metadata": {},
          "execution_count": 85
        }
      ]
    },
    {
      "cell_type": "code",
      "metadata": {
        "colab": {
          "base_uri": "https://localhost:8080/"
        },
        "id": "M9adPoy9reaw",
        "outputId": "cc1c0c13-5ed7-49ca-c759-e81f9911daa4"
      },
      "source": [
        "import multiprocessing\n",
        "\n",
        "print(f\"CPU Count: {multiprocessing.cpu_count()}\")\n",
        "print(f\"Config:\")\n",
        "print(doc2vec_config['model'])\n",
        "\n",
        "model = Doc2Vec(train_corpus,\n",
        "                **doc2vec_config['model']\n",
        "                )"
      ],
      "execution_count": 86,
      "outputs": [
        {
          "output_type": "stream",
          "name": "stderr",
          "text": [
            "2021-11-28 07:12:50,580 : INFO : collecting all words and their counts\n",
            "2021-11-28 07:12:50,581 : INFO : PROGRESS: at example #0, processed 0 words (0/s), 0 word types, 0 tags\n"
          ]
        },
        {
          "output_type": "stream",
          "name": "stdout",
          "text": [
            "CPU Count: 2\n",
            "Config:\n",
            "{'dm': 1, 'vector_size': 100, 'window': 4, 'epochs': 40, 'min_count': 1, 'negative': 10, 'sample': 0.001, 'seed': 42}\n"
          ]
        },
        {
          "output_type": "stream",
          "name": "stderr",
          "text": [
            "2021-11-28 07:12:50,640 : INFO : collected 72 word types and 7200 unique tags from a corpus of 5391 examples and 82622 words\n",
            "2021-11-28 07:12:50,653 : INFO : Creating a fresh vocabulary\n",
            "2021-11-28 07:12:50,659 : INFO : Doc2Vec lifecycle event {'msg': 'effective_min_count=1 retains 72 unique words (100.0%% of original 72, drops 0)', 'datetime': '2021-11-28T07:12:50.659308', 'gensim': '4.1.2', 'python': '3.7.12 (default, Sep 10 2021, 00:21:48) \\n[GCC 7.5.0]', 'platform': 'Linux-5.4.104+-x86_64-with-Ubuntu-18.04-bionic', 'event': 'prepare_vocab'}\n",
            "2021-11-28 07:12:50,660 : INFO : Doc2Vec lifecycle event {'msg': 'effective_min_count=1 leaves 82622 word corpus (100.0%% of original 82622, drops 0)', 'datetime': '2021-11-28T07:12:50.660660', 'gensim': '4.1.2', 'python': '3.7.12 (default, Sep 10 2021, 00:21:48) \\n[GCC 7.5.0]', 'platform': 'Linux-5.4.104+-x86_64-with-Ubuntu-18.04-bionic', 'event': 'prepare_vocab'}\n",
            "2021-11-28 07:12:50,664 : INFO : deleting the raw counts dictionary of 72 items\n",
            "2021-11-28 07:12:50,665 : INFO : sample=0.001 downsamples 40 most-common words\n",
            "2021-11-28 07:12:50,668 : INFO : Doc2Vec lifecycle event {'msg': 'downsampling leaves estimated 18531.453689281494 word corpus (22.4%% of prior 82622)', 'datetime': '2021-11-28T07:12:50.668097', 'gensim': '4.1.2', 'python': '3.7.12 (default, Sep 10 2021, 00:21:48) \\n[GCC 7.5.0]', 'platform': 'Linux-5.4.104+-x86_64-with-Ubuntu-18.04-bionic', 'event': 'prepare_vocab'}\n",
            "2021-11-28 07:12:50,672 : INFO : estimated required memory for 72 words and 100 dimensions: 4413600 bytes\n",
            "2021-11-28 07:12:50,674 : INFO : resetting layer weights\n",
            "2021-11-28 07:12:50,686 : INFO : Doc2Vec lifecycle event {'msg': 'training model with 3 workers on 72 vocabulary and 100 features, using sg=0 hs=0 sample=0.001 negative=10 window=4 shrink_windows=True', 'datetime': '2021-11-28T07:12:50.686892', 'gensim': '4.1.2', 'python': '3.7.12 (default, Sep 10 2021, 00:21:48) \\n[GCC 7.5.0]', 'platform': 'Linux-5.4.104+-x86_64-with-Ubuntu-18.04-bionic', 'event': 'train'}\n",
            "2021-11-28 07:12:51,319 : INFO : worker thread finished; awaiting finish of 2 more threads\n",
            "2021-11-28 07:12:51,384 : INFO : worker thread finished; awaiting finish of 1 more threads\n",
            "2021-11-28 07:12:51,391 : INFO : worker thread finished; awaiting finish of 0 more threads\n",
            "2021-11-28 07:12:51,392 : INFO : EPOCH - 1 : training on 82622 raw words (29256 effective words) took 0.7s, 42299 effective words/s\n",
            "2021-11-28 07:12:51,992 : INFO : worker thread finished; awaiting finish of 2 more threads\n",
            "2021-11-28 07:12:52,041 : INFO : worker thread finished; awaiting finish of 1 more threads\n",
            "2021-11-28 07:12:52,050 : INFO : worker thread finished; awaiting finish of 0 more threads\n",
            "2021-11-28 07:12:52,051 : INFO : EPOCH - 2 : training on 82622 raw words (29377 effective words) took 0.6s, 45336 effective words/s\n",
            "2021-11-28 07:12:52,638 : INFO : worker thread finished; awaiting finish of 2 more threads\n",
            "2021-11-28 07:12:52,691 : INFO : worker thread finished; awaiting finish of 1 more threads\n",
            "2021-11-28 07:12:52,699 : INFO : worker thread finished; awaiting finish of 0 more threads\n",
            "2021-11-28 07:12:52,700 : INFO : EPOCH - 3 : training on 82622 raw words (29221 effective words) took 0.6s, 46341 effective words/s\n",
            "2021-11-28 07:12:53,299 : INFO : worker thread finished; awaiting finish of 2 more threads\n",
            "2021-11-28 07:12:53,347 : INFO : worker thread finished; awaiting finish of 1 more threads\n",
            "2021-11-28 07:12:53,357 : INFO : worker thread finished; awaiting finish of 0 more threads\n",
            "2021-11-28 07:12:53,359 : INFO : EPOCH - 4 : training on 82622 raw words (29202 effective words) took 0.6s, 45050 effective words/s\n",
            "2021-11-28 07:12:54,003 : INFO : worker thread finished; awaiting finish of 2 more threads\n",
            "2021-11-28 07:12:54,050 : INFO : worker thread finished; awaiting finish of 1 more threads\n",
            "2021-11-28 07:12:54,058 : INFO : worker thread finished; awaiting finish of 0 more threads\n",
            "2021-11-28 07:12:54,060 : INFO : EPOCH - 5 : training on 82622 raw words (29265 effective words) took 0.7s, 42604 effective words/s\n",
            "2021-11-28 07:12:54,655 : INFO : worker thread finished; awaiting finish of 2 more threads\n",
            "2021-11-28 07:12:54,715 : INFO : worker thread finished; awaiting finish of 1 more threads\n",
            "2021-11-28 07:12:54,729 : INFO : worker thread finished; awaiting finish of 0 more threads\n",
            "2021-11-28 07:12:54,731 : INFO : EPOCH - 6 : training on 82622 raw words (29399 effective words) took 0.7s, 44583 effective words/s\n",
            "2021-11-28 07:12:55,346 : INFO : worker thread finished; awaiting finish of 2 more threads\n",
            "2021-11-28 07:12:55,409 : INFO : worker thread finished; awaiting finish of 1 more threads\n",
            "2021-11-28 07:12:55,421 : INFO : worker thread finished; awaiting finish of 0 more threads\n",
            "2021-11-28 07:12:55,422 : INFO : EPOCH - 7 : training on 82622 raw words (29158 effective words) took 0.7s, 42850 effective words/s\n",
            "2021-11-28 07:12:56,037 : INFO : worker thread finished; awaiting finish of 2 more threads\n",
            "2021-11-28 07:12:56,094 : INFO : worker thread finished; awaiting finish of 1 more threads\n",
            "2021-11-28 07:12:56,101 : INFO : worker thread finished; awaiting finish of 0 more threads\n",
            "2021-11-28 07:12:56,103 : INFO : EPOCH - 8 : training on 82622 raw words (29234 effective words) took 0.7s, 43859 effective words/s\n",
            "2021-11-28 07:12:56,679 : INFO : worker thread finished; awaiting finish of 2 more threads\n",
            "2021-11-28 07:12:56,732 : INFO : worker thread finished; awaiting finish of 1 more threads\n",
            "2021-11-28 07:12:56,742 : INFO : worker thread finished; awaiting finish of 0 more threads\n",
            "2021-11-28 07:12:56,743 : INFO : EPOCH - 9 : training on 82622 raw words (29464 effective words) took 0.6s, 46878 effective words/s\n",
            "2021-11-28 07:12:57,345 : INFO : worker thread finished; awaiting finish of 2 more threads\n",
            "2021-11-28 07:12:57,405 : INFO : worker thread finished; awaiting finish of 1 more threads\n",
            "2021-11-28 07:12:57,413 : INFO : worker thread finished; awaiting finish of 0 more threads\n",
            "2021-11-28 07:12:57,414 : INFO : EPOCH - 10 : training on 82622 raw words (29236 effective words) took 0.7s, 44324 effective words/s\n",
            "2021-11-28 07:12:58,021 : INFO : worker thread finished; awaiting finish of 2 more threads\n",
            "2021-11-28 07:12:58,097 : INFO : worker thread finished; awaiting finish of 1 more threads\n",
            "2021-11-28 07:12:58,103 : INFO : worker thread finished; awaiting finish of 0 more threads\n",
            "2021-11-28 07:12:58,104 : INFO : EPOCH - 11 : training on 82622 raw words (29375 effective words) took 0.7s, 43439 effective words/s\n",
            "2021-11-28 07:12:58,661 : INFO : worker thread finished; awaiting finish of 2 more threads\n",
            "2021-11-28 07:12:58,725 : INFO : worker thread finished; awaiting finish of 1 more threads\n",
            "2021-11-28 07:12:58,739 : INFO : worker thread finished; awaiting finish of 0 more threads\n",
            "2021-11-28 07:12:58,744 : INFO : EPOCH - 12 : training on 82622 raw words (29189 effective words) took 0.6s, 46475 effective words/s\n",
            "2021-11-28 07:12:59,325 : INFO : worker thread finished; awaiting finish of 2 more threads\n",
            "2021-11-28 07:12:59,380 : INFO : worker thread finished; awaiting finish of 1 more threads\n",
            "2021-11-28 07:12:59,390 : INFO : worker thread finished; awaiting finish of 0 more threads\n",
            "2021-11-28 07:12:59,392 : INFO : EPOCH - 13 : training on 82622 raw words (29284 effective words) took 0.6s, 45943 effective words/s\n",
            "2021-11-28 07:12:59,929 : INFO : worker thread finished; awaiting finish of 2 more threads\n",
            "2021-11-28 07:12:59,990 : INFO : worker thread finished; awaiting finish of 1 more threads\n",
            "2021-11-28 07:12:59,999 : INFO : worker thread finished; awaiting finish of 0 more threads\n",
            "2021-11-28 07:13:00,000 : INFO : EPOCH - 14 : training on 82622 raw words (29284 effective words) took 0.6s, 49139 effective words/s\n",
            "2021-11-28 07:13:00,552 : INFO : worker thread finished; awaiting finish of 2 more threads\n",
            "2021-11-28 07:13:00,603 : INFO : worker thread finished; awaiting finish of 1 more threads\n",
            "2021-11-28 07:13:00,614 : INFO : worker thread finished; awaiting finish of 0 more threads\n",
            "2021-11-28 07:13:00,620 : INFO : EPOCH - 15 : training on 82622 raw words (29350 effective words) took 0.6s, 48356 effective words/s\n",
            "2021-11-28 07:13:01,169 : INFO : worker thread finished; awaiting finish of 2 more threads\n",
            "2021-11-28 07:13:01,242 : INFO : worker thread finished; awaiting finish of 1 more threads\n",
            "2021-11-28 07:13:01,246 : INFO : worker thread finished; awaiting finish of 0 more threads\n",
            "2021-11-28 07:13:01,249 : INFO : EPOCH - 16 : training on 82622 raw words (29247 effective words) took 0.6s, 47494 effective words/s\n",
            "2021-11-28 07:13:01,854 : INFO : worker thread finished; awaiting finish of 2 more threads\n",
            "2021-11-28 07:13:01,898 : INFO : worker thread finished; awaiting finish of 1 more threads\n",
            "2021-11-28 07:13:01,905 : INFO : worker thread finished; awaiting finish of 0 more threads\n",
            "2021-11-28 07:13:01,906 : INFO : EPOCH - 17 : training on 82622 raw words (29088 effective words) took 0.6s, 44933 effective words/s\n",
            "2021-11-28 07:13:02,459 : INFO : worker thread finished; awaiting finish of 2 more threads\n",
            "2021-11-28 07:13:02,516 : INFO : worker thread finished; awaiting finish of 1 more threads\n",
            "2021-11-28 07:13:02,525 : INFO : worker thread finished; awaiting finish of 0 more threads\n",
            "2021-11-28 07:13:02,526 : INFO : EPOCH - 18 : training on 82622 raw words (29239 effective words) took 0.6s, 48124 effective words/s\n",
            "2021-11-28 07:13:03,098 : INFO : worker thread finished; awaiting finish of 2 more threads\n",
            "2021-11-28 07:13:03,125 : INFO : worker thread finished; awaiting finish of 1 more threads\n",
            "2021-11-28 07:13:03,141 : INFO : worker thread finished; awaiting finish of 0 more threads\n",
            "2021-11-28 07:13:03,143 : INFO : EPOCH - 19 : training on 82622 raw words (29127 effective words) took 0.6s, 48227 effective words/s\n",
            "2021-11-28 07:13:03,702 : INFO : worker thread finished; awaiting finish of 2 more threads\n",
            "2021-11-28 07:13:03,748 : INFO : worker thread finished; awaiting finish of 1 more threads\n",
            "2021-11-28 07:13:03,757 : INFO : worker thread finished; awaiting finish of 0 more threads\n",
            "2021-11-28 07:13:03,759 : INFO : EPOCH - 20 : training on 82622 raw words (29042 effective words) took 0.6s, 48236 effective words/s\n",
            "2021-11-28 07:13:04,334 : INFO : worker thread finished; awaiting finish of 2 more threads\n",
            "2021-11-28 07:13:04,384 : INFO : worker thread finished; awaiting finish of 1 more threads\n",
            "2021-11-28 07:13:04,395 : INFO : worker thread finished; awaiting finish of 0 more threads\n",
            "2021-11-28 07:13:04,396 : INFO : EPOCH - 21 : training on 82622 raw words (29161 effective words) took 0.6s, 46663 effective words/s\n",
            "2021-11-28 07:13:04,993 : INFO : worker thread finished; awaiting finish of 2 more threads\n",
            "2021-11-28 07:13:05,059 : INFO : worker thread finished; awaiting finish of 1 more threads\n",
            "2021-11-28 07:13:05,064 : INFO : worker thread finished; awaiting finish of 0 more threads\n",
            "2021-11-28 07:13:05,067 : INFO : EPOCH - 22 : training on 82622 raw words (29135 effective words) took 0.7s, 44324 effective words/s\n",
            "2021-11-28 07:13:05,681 : INFO : worker thread finished; awaiting finish of 2 more threads\n",
            "2021-11-28 07:13:05,743 : INFO : worker thread finished; awaiting finish of 1 more threads\n",
            "2021-11-28 07:13:05,749 : INFO : worker thread finished; awaiting finish of 0 more threads\n",
            "2021-11-28 07:13:05,751 : INFO : EPOCH - 23 : training on 82622 raw words (29368 effective words) took 0.7s, 44122 effective words/s\n",
            "2021-11-28 07:13:06,303 : INFO : worker thread finished; awaiting finish of 2 more threads\n",
            "2021-11-28 07:13:06,364 : INFO : worker thread finished; awaiting finish of 1 more threads\n",
            "2021-11-28 07:13:06,371 : INFO : worker thread finished; awaiting finish of 0 more threads\n",
            "2021-11-28 07:13:06,372 : INFO : EPOCH - 24 : training on 82622 raw words (29410 effective words) took 0.6s, 48228 effective words/s\n",
            "2021-11-28 07:13:06,942 : INFO : worker thread finished; awaiting finish of 2 more threads\n",
            "2021-11-28 07:13:07,019 : INFO : worker thread finished; awaiting finish of 1 more threads\n",
            "2021-11-28 07:13:07,028 : INFO : worker thread finished; awaiting finish of 0 more threads\n",
            "2021-11-28 07:13:07,030 : INFO : EPOCH - 25 : training on 82622 raw words (29484 effective words) took 0.6s, 45648 effective words/s\n",
            "2021-11-28 07:13:07,606 : INFO : worker thread finished; awaiting finish of 2 more threads\n",
            "2021-11-28 07:13:07,663 : INFO : worker thread finished; awaiting finish of 1 more threads\n",
            "2021-11-28 07:13:07,674 : INFO : worker thread finished; awaiting finish of 0 more threads\n",
            "2021-11-28 07:13:07,675 : INFO : EPOCH - 26 : training on 82622 raw words (29123 effective words) took 0.6s, 46010 effective words/s\n",
            "2021-11-28 07:13:08,260 : INFO : worker thread finished; awaiting finish of 2 more threads\n",
            "2021-11-28 07:13:08,321 : INFO : worker thread finished; awaiting finish of 1 more threads\n",
            "2021-11-28 07:13:08,327 : INFO : worker thread finished; awaiting finish of 0 more threads\n",
            "2021-11-28 07:13:08,329 : INFO : EPOCH - 27 : training on 82622 raw words (29232 effective words) took 0.6s, 45517 effective words/s\n",
            "2021-11-28 07:13:08,898 : INFO : worker thread finished; awaiting finish of 2 more threads\n",
            "2021-11-28 07:13:08,948 : INFO : worker thread finished; awaiting finish of 1 more threads\n",
            "2021-11-28 07:13:08,957 : INFO : worker thread finished; awaiting finish of 0 more threads\n",
            "2021-11-28 07:13:08,959 : INFO : EPOCH - 28 : training on 82622 raw words (29167 effective words) took 0.6s, 47175 effective words/s\n",
            "2021-11-28 07:13:09,503 : INFO : worker thread finished; awaiting finish of 2 more threads\n",
            "2021-11-28 07:13:09,555 : INFO : worker thread finished; awaiting finish of 1 more threads\n",
            "2021-11-28 07:13:09,564 : INFO : worker thread finished; awaiting finish of 0 more threads\n",
            "2021-11-28 07:13:09,565 : INFO : EPOCH - 29 : training on 82622 raw words (29149 effective words) took 0.6s, 49078 effective words/s\n",
            "2021-11-28 07:13:10,156 : INFO : worker thread finished; awaiting finish of 2 more threads\n",
            "2021-11-28 07:13:10,205 : INFO : worker thread finished; awaiting finish of 1 more threads\n",
            "2021-11-28 07:13:10,208 : INFO : worker thread finished; awaiting finish of 0 more threads\n",
            "2021-11-28 07:13:10,209 : INFO : EPOCH - 30 : training on 82622 raw words (29287 effective words) took 0.6s, 46524 effective words/s\n",
            "2021-11-28 07:13:10,838 : INFO : worker thread finished; awaiting finish of 2 more threads\n",
            "2021-11-28 07:13:10,859 : INFO : worker thread finished; awaiting finish of 1 more threads\n",
            "2021-11-28 07:13:10,870 : INFO : worker thread finished; awaiting finish of 0 more threads\n",
            "2021-11-28 07:13:10,873 : INFO : EPOCH - 31 : training on 82622 raw words (29427 effective words) took 0.6s, 45281 effective words/s\n",
            "2021-11-28 07:13:11,457 : INFO : worker thread finished; awaiting finish of 2 more threads\n",
            "2021-11-28 07:13:11,511 : INFO : worker thread finished; awaiting finish of 1 more threads\n",
            "2021-11-28 07:13:11,518 : INFO : worker thread finished; awaiting finish of 0 more threads\n",
            "2021-11-28 07:13:11,519 : INFO : EPOCH - 32 : training on 82622 raw words (29353 effective words) took 0.6s, 46699 effective words/s\n",
            "2021-11-28 07:13:12,145 : INFO : worker thread finished; awaiting finish of 2 more threads\n",
            "2021-11-28 07:13:12,201 : INFO : worker thread finished; awaiting finish of 1 more threads\n",
            "2021-11-28 07:13:12,210 : INFO : worker thread finished; awaiting finish of 0 more threads\n",
            "2021-11-28 07:13:12,213 : INFO : EPOCH - 33 : training on 82622 raw words (29434 effective words) took 0.7s, 43033 effective words/s\n",
            "2021-11-28 07:13:12,802 : INFO : worker thread finished; awaiting finish of 2 more threads\n",
            "2021-11-28 07:13:12,853 : INFO : worker thread finished; awaiting finish of 1 more threads\n",
            "2021-11-28 07:13:12,862 : INFO : worker thread finished; awaiting finish of 0 more threads\n",
            "2021-11-28 07:13:12,864 : INFO : EPOCH - 34 : training on 82622 raw words (29383 effective words) took 0.6s, 46093 effective words/s\n",
            "2021-11-28 07:13:13,469 : INFO : worker thread finished; awaiting finish of 2 more threads\n",
            "2021-11-28 07:13:13,524 : INFO : worker thread finished; awaiting finish of 1 more threads\n",
            "2021-11-28 07:13:13,530 : INFO : worker thread finished; awaiting finish of 0 more threads\n",
            "2021-11-28 07:13:13,531 : INFO : EPOCH - 35 : training on 82622 raw words (29104 effective words) took 0.7s, 44423 effective words/s\n",
            "2021-11-28 07:13:14,120 : INFO : worker thread finished; awaiting finish of 2 more threads\n",
            "2021-11-28 07:13:14,174 : INFO : worker thread finished; awaiting finish of 1 more threads\n",
            "2021-11-28 07:13:14,183 : INFO : worker thread finished; awaiting finish of 0 more threads\n",
            "2021-11-28 07:13:14,184 : INFO : EPOCH - 36 : training on 82622 raw words (29353 effective words) took 0.6s, 45634 effective words/s\n",
            "2021-11-28 07:13:14,766 : INFO : worker thread finished; awaiting finish of 2 more threads\n",
            "2021-11-28 07:13:14,828 : INFO : worker thread finished; awaiting finish of 1 more threads\n",
            "2021-11-28 07:13:14,837 : INFO : worker thread finished; awaiting finish of 0 more threads\n",
            "2021-11-28 07:13:14,838 : INFO : EPOCH - 37 : training on 82622 raw words (29410 effective words) took 0.6s, 45763 effective words/s\n",
            "2021-11-28 07:13:15,423 : INFO : worker thread finished; awaiting finish of 2 more threads\n",
            "2021-11-28 07:13:15,472 : INFO : worker thread finished; awaiting finish of 1 more threads\n",
            "2021-11-28 07:13:15,484 : INFO : worker thread finished; awaiting finish of 0 more threads\n",
            "2021-11-28 07:13:15,485 : INFO : EPOCH - 38 : training on 82622 raw words (29340 effective words) took 0.6s, 46138 effective words/s\n",
            "2021-11-28 07:13:16,081 : INFO : worker thread finished; awaiting finish of 2 more threads\n",
            "2021-11-28 07:13:16,137 : INFO : worker thread finished; awaiting finish of 1 more threads\n",
            "2021-11-28 07:13:16,145 : INFO : worker thread finished; awaiting finish of 0 more threads\n",
            "2021-11-28 07:13:16,147 : INFO : EPOCH - 39 : training on 82622 raw words (29313 effective words) took 0.6s, 45214 effective words/s\n",
            "2021-11-28 07:13:16,691 : INFO : worker thread finished; awaiting finish of 2 more threads\n",
            "2021-11-28 07:13:16,757 : INFO : worker thread finished; awaiting finish of 1 more threads\n",
            "2021-11-28 07:13:16,763 : INFO : worker thread finished; awaiting finish of 0 more threads\n",
            "2021-11-28 07:13:16,764 : INFO : EPOCH - 40 : training on 82622 raw words (29336 effective words) took 0.6s, 48508 effective words/s\n",
            "2021-11-28 07:13:16,768 : INFO : Doc2Vec lifecycle event {'msg': 'training on 3304880 raw words (1171006 effective words) took 26.1s, 44900 effective words/s', 'datetime': '2021-11-28T07:13:16.768928', 'gensim': '4.1.2', 'python': '3.7.12 (default, Sep 10 2021, 00:21:48) \\n[GCC 7.5.0]', 'platform': 'Linux-5.4.104+-x86_64-with-Ubuntu-18.04-bionic', 'event': 'train'}\n",
            "2021-11-28 07:13:16,772 : INFO : Doc2Vec lifecycle event {'params': 'Doc2Vec(dm/m,d100,n10,w4,s0.001,t3)', 'datetime': '2021-11-28T07:13:16.772136', 'gensim': '4.1.2', 'python': '3.7.12 (default, Sep 10 2021, 00:21:48) \\n[GCC 7.5.0]', 'platform': 'Linux-5.4.104+-x86_64-with-Ubuntu-18.04-bionic', 'event': 'created'}\n"
          ]
        }
      ]
    },
    {
      "cell_type": "code",
      "metadata": {
        "id": "G-cE7gug1Ct5",
        "colab": {
          "base_uri": "https://localhost:8080/"
        },
        "outputId": "61f31acb-4f1f-4116-ff61-a3f658172f02"
      },
      "source": [
        "if use_wandb:\n",
        "  model_artifact = wandb.Artifact(\n",
        "      \"model_doc2vec\", \n",
        "      type=\"model\",\n",
        "      description=\"Doc2Vec model\",\n",
        "      metadata=\"\")\n",
        "\n",
        "  fname = 'doc2vec.model'\n",
        "  model.save(fname)\n",
        "\n",
        "  model_artifact.add_file(fname)\n",
        "  wandb.log_artifact(model_artifact)"
      ],
      "execution_count": 87,
      "outputs": [
        {
          "output_type": "stream",
          "name": "stderr",
          "text": [
            "2021-11-28 07:13:16,790 : INFO : Doc2Vec lifecycle event {'fname_or_handle': 'doc2vec.model', 'separately': 'None', 'sep_limit': 10485760, 'ignore': frozenset(), 'datetime': '2021-11-28T07:13:16.790471', 'gensim': '4.1.2', 'python': '3.7.12 (default, Sep 10 2021, 00:21:48) \\n[GCC 7.5.0]', 'platform': 'Linux-5.4.104+-x86_64-with-Ubuntu-18.04-bionic', 'event': 'saving'}\n",
            "2021-11-28 07:13:16,792 : INFO : not storing attribute cum_table\n",
            "2021-11-28 07:13:16,810 : INFO : saved doc2vec.model\n"
          ]
        }
      ]
    },
    {
      "cell_type": "markdown",
      "metadata": {
        "id": "jJvq2K93xAO5"
      },
      "source": [
        "### Test the distance between C and the diatonic chords\n",
        "\n",
        "Test if the model can capture that the diatonic chords are closer to the root.\n",
        "\n",
        "Do this only if the input corpus contains the unigrams. "
      ]
    },
    {
      "cell_type": "code",
      "metadata": {
        "id": "cH3TJxCfvoFm",
        "colab": {
          "base_uri": "https://localhost:8080/"
        },
        "outputId": "cf2e807e-7015-4f87-cd16-793c2c47c47b"
      },
      "source": [
        "test_tokens = ['C',\n",
        "              'Dm',\n",
        "              'Em',\n",
        "              'F',\n",
        "              'G7',\n",
        "              'Am',\n",
        "              #'Bm7b5',\n",
        "              'F7',\n",
        "              'D7',\n",
        "              'A7',\n",
        "              'E7',\n",
        "              'B7',\n",
        "              'F#7',\n",
        "               'Cm',\n",
        "               'D']\n",
        "\n",
        "if 1 in ngrams_for_input:\n",
        "  ref = 'C'\n",
        "  for t in test_tokens:\n",
        "    print(f\"{model.wv.similarity(ref, t):.3f}: {ref} <-> {t}\")"
      ],
      "execution_count": 88,
      "outputs": [
        {
          "output_type": "stream",
          "name": "stdout",
          "text": [
            "1.000: C <-> C\n",
            "0.568: C <-> Dm\n",
            "0.500: C <-> Em\n",
            "0.362: C <-> F\n",
            "0.639: C <-> G7\n",
            "0.412: C <-> Am\n",
            "0.347: C <-> F7\n",
            "0.215: C <-> D7\n",
            "0.675: C <-> A7\n",
            "0.488: C <-> E7\n",
            "0.220: C <-> B7\n",
            "-0.007: C <-> F#7\n",
            "0.251: C <-> Cm\n",
            "0.103: C <-> D\n"
          ]
        }
      ]
    },
    {
      "cell_type": "code",
      "metadata": {
        "id": "IfIRoWL4kpcB"
      },
      "source": [
        "if 1 in ngrams_for_input:\n",
        "  model.wv.similar_by_word('C', topn=20)"
      ],
      "execution_count": 89,
      "outputs": []
    },
    {
      "cell_type": "markdown",
      "metadata": {
        "id": "ix4n9S3_xQzD"
      },
      "source": [
        "Plot the generated word vectors in 2D space"
      ]
    },
    {
      "cell_type": "code",
      "metadata": {
        "id": "JjT_uNh0wthj",
        "colab": {
          "base_uri": "https://localhost:8080/",
          "height": 711
        },
        "outputId": "9097e278-2aa2-4444-dde4-6ace528fbff6"
      },
      "source": [
        "from sklearn.manifold import TSNE\n",
        "\n",
        "# input data: vectors for all tokens\n",
        "weights = model.wv.vectors\n",
        "\n",
        "# only do this when the vocabulary is not too big....\n",
        "if len(weights) < 100:\n",
        "\n",
        "  # do T-SNE\n",
        "  tsne = TSNE(n_components=2, \n",
        "              random_state=42,\n",
        "              perplexity=30,\n",
        "              learning_rate='auto',\n",
        "              init='pca',\n",
        "              n_iter=2000\n",
        "              )\n",
        "  T = tsne.fit_transform(weights)\n",
        "\n",
        "  # plot\n",
        "  projected = pd.DataFrame(T)\n",
        "\n",
        "  fig = px.scatter(\n",
        "      projected, \n",
        "      x=0, y=1,\n",
        "      #color='mode',\n",
        "      text=model.wv.index_to_key,\n",
        "      width=800, height=600,\n",
        "      title=\"T-SNE applied to Chord Vectors for Tunes in Cmaj/Amin\"\n",
        "  )\n",
        "  fig.update_traces(textposition='top center')\n",
        "  fig.update_traces(textfont_size=12, selector=dict(type='scatter'))\n",
        "  fig.show()"
      ],
      "execution_count": 90,
      "outputs": [
        {
          "output_type": "stream",
          "name": "stderr",
          "text": [
            "/usr/local/lib/python3.7/dist-packages/sklearn/manifold/_t_sne.py:986: FutureWarning:\n",
            "\n",
            "The PCA initialization in TSNE will change to have the standard deviation of PC1 equal to 1e-4 in 1.2. This will ensure better convergence.\n",
            "\n"
          ]
        },
        {
          "output_type": "display_data",
          "data": {
            "text/html": [
              "<html>\n",
              "<head><meta charset=\"utf-8\" /></head>\n",
              "<body>\n",
              "    <div>\n",
              "            <script src=\"https://cdnjs.cloudflare.com/ajax/libs/mathjax/2.7.5/MathJax.js?config=TeX-AMS-MML_SVG\"></script><script type=\"text/javascript\">if (window.MathJax) {MathJax.Hub.Config({SVG: {font: \"STIX-Web\"}});}</script>\n",
              "                <script type=\"text/javascript\">window.PlotlyConfig = {MathJaxConfig: 'local'};</script>\n",
              "        <script src=\"https://cdn.plot.ly/plotly-latest.min.js\"></script>    \n",
              "            <div id=\"4fd7f0be-f7a8-4d29-89bf-8185a90331a1\" class=\"plotly-graph-div\" style=\"height:600px; width:800px;\"></div>\n",
              "            <script type=\"text/javascript\">\n",
              "                \n",
              "                    window.PLOTLYENV=window.PLOTLYENV || {};\n",
              "                    \n",
              "                if (document.getElementById(\"4fd7f0be-f7a8-4d29-89bf-8185a90331a1\")) {\n",
              "                    Plotly.newPlot(\n",
              "                        '4fd7f0be-f7a8-4d29-89bf-8185a90331a1',\n",
              "                        [{\"hoverlabel\": {\"namelength\": 0}, \"hovertemplate\": \"0=%{x}<br>1=%{y}<br>text=%{text}\", \"legendgroup\": \"\", \"marker\": {\"color\": \"#636efa\", \"symbol\": \"circle\"}, \"mode\": \"markers+text\", \"name\": \"\", \"showlegend\": false, \"text\": [\"C\", \"G7\", \"Dm\", \"Am\", \"A7\", \"D7\", \"F\", \"C7\", \"E7\", \"Em\", \"F7\", \"Bb7\", \"Fm\", \"B7\", \"Gm\", \"G#7\", \"Bm7b5\", \"G\", \"Ebdim\", \"Eb7\", \"Cm\", \"F#m7b5\", \"G#\", \"Bm\", \"C#7\", \"Bb\", \"Em7b5\", \"E\", \"F#m\", \"F#7\", \"Eb\", \"F#dim\", \"C#dim\", \"Ebm\", \"C#\", \"A\", \"Dm7b5\", \"Bbm\", \"D\", \"C#m\", \"Cdim\", \"B\", \"G#m\", \"F#\", \"G#dim\", \"Am7b5\", \"Fdim\", \"Gdim\", \"G7(+b5)\", \"C#m7b5\", \"E7(+b5)\", \"Adim\", \"F#7(+b5)\", \"Gm7b5\", \"A7(+b5)\", \"B7(+b5)\", \"Edim\", \"G#m7b5\", \"C#7(+b5)\", \"Bb7(+b5)\", \"Fm7b5\", \"D7(+b5)\", \"Bbdim\", \"Bbm7b5\", \"C7(+b5)\", \"Bdim\", \"Ddim\", \"Ebm7b5\", \"G#7(+b5)\", \"F7(+b5)\", \"Cm7b5\", \"Eb7(+b5)\"], \"textfont\": {\"size\": 12}, \"textposition\": \"top center\", \"type\": \"scatter\", \"x\": [2.2626209259033203, 2.091092824935913, 1.8935283422470093, 2.5833704471588135, 2.5297088623046875, 2.2345173358917236, 2.0247418880462646, 2.172528028488159, 1.792846918106079, 2.2198691368103027, 1.6411943435668945, 1.4121251106262207, 1.4475091695785522, 3.033200740814209, 1.9432013034820557, 2.114671468734741, 2.188161611557007, 2.582456111907959, 2.5431058406829834, 2.5886390209198, 1.2599025964736938, 2.7107009887695312, 0.8750818967819214, 3.2351410388946533, 1.3419146537780762, 1.4459493160247803, 1.4449007511138916, 3.12725567817688, 3.1333365440368652, 4.127407550811768, 0.583382248878479, 2.2064154148101807, 2.9620611667633057, -0.16297341883182526, 0.6285902857780457, 2.500624179840088, 2.0404014587402344, 0.535129725933075, 3.3565220832824707, 1.3245283365249634, 3.308357000350952, 0.2074074149131775, -0.46161335706710815, -0.5301976799964905, 3.8472208976745605, 1.7842113971710205, 3.5385663509368896, 3.985511302947998, 1.8407166004180908, 4.565059661865234, 2.0643739700317383, -0.03068723902106285, 3.676213264465332, 0.3464009463787079, 2.6260170936584473, 3.332345724105835, 0.46600088477134705, 4.3307719230651855, 2.6872777938842773, 1.7344363927841187, 0.33725717663764954, 1.295767068862915, 2.2169384956359863, -0.06339934468269348, 1.9979863166809082, 2.125757932662964, 0.4886208772659302, 2.835846424102783, 1.83675217628479, 1.5181273221969604, 1.0392603874206543, 1.0667898654937744], \"xaxis\": \"x\", \"y\": [-2.23858380317688, -2.028867721557617, -1.4685416221618652, -1.6990317106246948, -2.1552884578704834, -1.202309012413025, -1.7557857036590576, -1.3824348449707031, -1.88078773021698, -1.9562839269638062, -1.5290547609329224, -1.9168716669082642, -1.595004916191101, -1.093037724494934, -1.4788846969604492, -0.779337465763092, -2.7475645542144775, -1.3956429958343506, -2.0908615589141846, -3.592024087905884, -0.7821290493011475, -0.8951219916343689, -1.1158661842346191, -1.113847255706787, -2.9893062114715576, -1.0164470672607422, -2.3927483558654785, -0.13885660469532013, -0.030352506786584854, 0.2858043909072876, -0.4095916748046875, -1.2720425128936768, -2.271829843521118, -1.279256820678711, -1.407804250717163, -2.7852489948272705, -0.6956759691238403, -0.6646368503570557, -0.892400324344635, -3.1449239253997803, -2.2276298999786377, 0.4275124669075012, -0.5012840032577515, -0.37930184602737427, -2.631316661834717, 0.4007306396961212, 0.5527917146682739, -1.7036404609680176, 2.5550308227539062, -1.1818451881408691, 2.299764633178711, -3.0808515548706055, 1.7911081314086914, -1.6429177522659302, 2.147512674331665, 1.9728113412857056, 1.8226443529129028, -0.7404738664627075, 1.4796993732452393, 1.423850655555725, 0.5154414176940918, 1.914976954460144, 0.10139501839876175, 1.029526948928833, 1.8833433389663696, -0.029602907598018646, -2.417748212814331, 0.8504680395126343, 1.1269071102142334, 1.002866268157959, 0.6920062303543091, 0.599481463432312], \"yaxis\": \"y\"}],\n",
              "                        {\"height\": 600, \"legend\": {\"tracegroupgap\": 0}, \"template\": {\"data\": {\"bar\": [{\"error_x\": {\"color\": \"#2a3f5f\"}, \"error_y\": {\"color\": \"#2a3f5f\"}, \"marker\": {\"line\": {\"color\": \"#E5ECF6\", \"width\": 0.5}}, \"type\": \"bar\"}], \"barpolar\": [{\"marker\": {\"line\": {\"color\": \"#E5ECF6\", \"width\": 0.5}}, \"type\": \"barpolar\"}], \"carpet\": [{\"aaxis\": {\"endlinecolor\": \"#2a3f5f\", \"gridcolor\": \"white\", \"linecolor\": \"white\", \"minorgridcolor\": \"white\", \"startlinecolor\": \"#2a3f5f\"}, \"baxis\": {\"endlinecolor\": \"#2a3f5f\", \"gridcolor\": \"white\", \"linecolor\": \"white\", \"minorgridcolor\": \"white\", \"startlinecolor\": \"#2a3f5f\"}, \"type\": \"carpet\"}], \"choropleth\": [{\"colorbar\": {\"outlinewidth\": 0, \"ticks\": \"\"}, \"type\": \"choropleth\"}], \"contour\": [{\"colorbar\": {\"outlinewidth\": 0, \"ticks\": \"\"}, \"colorscale\": [[0.0, \"#0d0887\"], [0.1111111111111111, \"#46039f\"], [0.2222222222222222, \"#7201a8\"], [0.3333333333333333, \"#9c179e\"], [0.4444444444444444, \"#bd3786\"], [0.5555555555555556, \"#d8576b\"], [0.6666666666666666, \"#ed7953\"], [0.7777777777777778, \"#fb9f3a\"], [0.8888888888888888, \"#fdca26\"], [1.0, \"#f0f921\"]], \"type\": \"contour\"}], \"contourcarpet\": [{\"colorbar\": {\"outlinewidth\": 0, \"ticks\": \"\"}, \"type\": \"contourcarpet\"}], \"heatmap\": [{\"colorbar\": {\"outlinewidth\": 0, \"ticks\": \"\"}, \"colorscale\": [[0.0, \"#0d0887\"], [0.1111111111111111, \"#46039f\"], [0.2222222222222222, \"#7201a8\"], [0.3333333333333333, \"#9c179e\"], [0.4444444444444444, \"#bd3786\"], [0.5555555555555556, \"#d8576b\"], [0.6666666666666666, \"#ed7953\"], [0.7777777777777778, \"#fb9f3a\"], [0.8888888888888888, \"#fdca26\"], [1.0, \"#f0f921\"]], \"type\": \"heatmap\"}], \"heatmapgl\": [{\"colorbar\": {\"outlinewidth\": 0, \"ticks\": \"\"}, \"colorscale\": [[0.0, \"#0d0887\"], [0.1111111111111111, \"#46039f\"], [0.2222222222222222, \"#7201a8\"], [0.3333333333333333, \"#9c179e\"], [0.4444444444444444, \"#bd3786\"], [0.5555555555555556, \"#d8576b\"], [0.6666666666666666, \"#ed7953\"], [0.7777777777777778, \"#fb9f3a\"], [0.8888888888888888, \"#fdca26\"], [1.0, \"#f0f921\"]], \"type\": \"heatmapgl\"}], \"histogram\": [{\"marker\": {\"colorbar\": {\"outlinewidth\": 0, \"ticks\": \"\"}}, \"type\": \"histogram\"}], \"histogram2d\": [{\"colorbar\": {\"outlinewidth\": 0, \"ticks\": \"\"}, \"colorscale\": [[0.0, \"#0d0887\"], [0.1111111111111111, \"#46039f\"], [0.2222222222222222, \"#7201a8\"], [0.3333333333333333, \"#9c179e\"], [0.4444444444444444, \"#bd3786\"], [0.5555555555555556, \"#d8576b\"], [0.6666666666666666, \"#ed7953\"], [0.7777777777777778, \"#fb9f3a\"], [0.8888888888888888, \"#fdca26\"], [1.0, \"#f0f921\"]], \"type\": \"histogram2d\"}], \"histogram2dcontour\": [{\"colorbar\": {\"outlinewidth\": 0, \"ticks\": \"\"}, \"colorscale\": [[0.0, \"#0d0887\"], [0.1111111111111111, \"#46039f\"], [0.2222222222222222, \"#7201a8\"], [0.3333333333333333, \"#9c179e\"], [0.4444444444444444, \"#bd3786\"], [0.5555555555555556, \"#d8576b\"], [0.6666666666666666, \"#ed7953\"], [0.7777777777777778, \"#fb9f3a\"], [0.8888888888888888, \"#fdca26\"], [1.0, \"#f0f921\"]], \"type\": \"histogram2dcontour\"}], \"mesh3d\": [{\"colorbar\": {\"outlinewidth\": 0, \"ticks\": \"\"}, \"type\": \"mesh3d\"}], \"parcoords\": [{\"line\": {\"colorbar\": {\"outlinewidth\": 0, \"ticks\": \"\"}}, \"type\": \"parcoords\"}], \"pie\": [{\"automargin\": true, \"type\": \"pie\"}], \"scatter\": [{\"marker\": {\"colorbar\": {\"outlinewidth\": 0, \"ticks\": \"\"}}, \"type\": \"scatter\"}], \"scatter3d\": [{\"line\": {\"colorbar\": {\"outlinewidth\": 0, \"ticks\": \"\"}}, \"marker\": {\"colorbar\": {\"outlinewidth\": 0, \"ticks\": \"\"}}, \"type\": \"scatter3d\"}], \"scattercarpet\": [{\"marker\": {\"colorbar\": {\"outlinewidth\": 0, \"ticks\": \"\"}}, \"type\": \"scattercarpet\"}], \"scattergeo\": [{\"marker\": {\"colorbar\": {\"outlinewidth\": 0, \"ticks\": \"\"}}, \"type\": \"scattergeo\"}], \"scattergl\": [{\"marker\": {\"colorbar\": {\"outlinewidth\": 0, \"ticks\": \"\"}}, \"type\": \"scattergl\"}], \"scattermapbox\": [{\"marker\": {\"colorbar\": {\"outlinewidth\": 0, \"ticks\": \"\"}}, \"type\": \"scattermapbox\"}], \"scatterpolar\": [{\"marker\": {\"colorbar\": {\"outlinewidth\": 0, \"ticks\": \"\"}}, \"type\": \"scatterpolar\"}], \"scatterpolargl\": [{\"marker\": {\"colorbar\": {\"outlinewidth\": 0, \"ticks\": \"\"}}, \"type\": \"scatterpolargl\"}], \"scatterternary\": [{\"marker\": {\"colorbar\": {\"outlinewidth\": 0, \"ticks\": \"\"}}, \"type\": \"scatterternary\"}], \"surface\": [{\"colorbar\": {\"outlinewidth\": 0, \"ticks\": \"\"}, \"colorscale\": [[0.0, \"#0d0887\"], [0.1111111111111111, \"#46039f\"], [0.2222222222222222, \"#7201a8\"], [0.3333333333333333, \"#9c179e\"], [0.4444444444444444, \"#bd3786\"], [0.5555555555555556, \"#d8576b\"], [0.6666666666666666, \"#ed7953\"], [0.7777777777777778, \"#fb9f3a\"], [0.8888888888888888, \"#fdca26\"], [1.0, \"#f0f921\"]], \"type\": \"surface\"}], \"table\": [{\"cells\": {\"fill\": {\"color\": \"#EBF0F8\"}, \"line\": {\"color\": \"white\"}}, \"header\": {\"fill\": {\"color\": \"#C8D4E3\"}, \"line\": {\"color\": \"white\"}}, \"type\": \"table\"}]}, \"layout\": {\"annotationdefaults\": {\"arrowcolor\": \"#2a3f5f\", \"arrowhead\": 0, \"arrowwidth\": 1}, \"coloraxis\": {\"colorbar\": {\"outlinewidth\": 0, \"ticks\": \"\"}}, \"colorscale\": {\"diverging\": [[0, \"#8e0152\"], [0.1, \"#c51b7d\"], [0.2, \"#de77ae\"], [0.3, \"#f1b6da\"], [0.4, \"#fde0ef\"], [0.5, \"#f7f7f7\"], [0.6, \"#e6f5d0\"], [0.7, \"#b8e186\"], [0.8, \"#7fbc41\"], [0.9, \"#4d9221\"], [1, \"#276419\"]], \"sequential\": [[0.0, \"#0d0887\"], [0.1111111111111111, \"#46039f\"], [0.2222222222222222, \"#7201a8\"], [0.3333333333333333, \"#9c179e\"], [0.4444444444444444, \"#bd3786\"], [0.5555555555555556, \"#d8576b\"], [0.6666666666666666, \"#ed7953\"], [0.7777777777777778, \"#fb9f3a\"], [0.8888888888888888, \"#fdca26\"], [1.0, \"#f0f921\"]], \"sequentialminus\": [[0.0, \"#0d0887\"], [0.1111111111111111, \"#46039f\"], [0.2222222222222222, \"#7201a8\"], [0.3333333333333333, \"#9c179e\"], [0.4444444444444444, \"#bd3786\"], [0.5555555555555556, \"#d8576b\"], [0.6666666666666666, \"#ed7953\"], [0.7777777777777778, \"#fb9f3a\"], [0.8888888888888888, \"#fdca26\"], [1.0, \"#f0f921\"]]}, \"colorway\": [\"#636efa\", \"#EF553B\", \"#00cc96\", \"#ab63fa\", \"#FFA15A\", \"#19d3f3\", \"#FF6692\", \"#B6E880\", \"#FF97FF\", \"#FECB52\"], \"font\": {\"color\": \"#2a3f5f\"}, \"geo\": {\"bgcolor\": \"white\", \"lakecolor\": \"white\", \"landcolor\": \"#E5ECF6\", \"showlakes\": true, \"showland\": true, \"subunitcolor\": \"white\"}, \"hoverlabel\": {\"align\": \"left\"}, \"hovermode\": \"closest\", \"mapbox\": {\"style\": \"light\"}, \"paper_bgcolor\": \"white\", \"plot_bgcolor\": \"#E5ECF6\", \"polar\": {\"angularaxis\": {\"gridcolor\": \"white\", \"linecolor\": \"white\", \"ticks\": \"\"}, \"bgcolor\": \"#E5ECF6\", \"radialaxis\": {\"gridcolor\": \"white\", \"linecolor\": \"white\", \"ticks\": \"\"}}, \"scene\": {\"xaxis\": {\"backgroundcolor\": \"#E5ECF6\", \"gridcolor\": \"white\", \"gridwidth\": 2, \"linecolor\": \"white\", \"showbackground\": true, \"ticks\": \"\", \"zerolinecolor\": \"white\"}, \"yaxis\": {\"backgroundcolor\": \"#E5ECF6\", \"gridcolor\": \"white\", \"gridwidth\": 2, \"linecolor\": \"white\", \"showbackground\": true, \"ticks\": \"\", \"zerolinecolor\": \"white\"}, \"zaxis\": {\"backgroundcolor\": \"#E5ECF6\", \"gridcolor\": \"white\", \"gridwidth\": 2, \"linecolor\": \"white\", \"showbackground\": true, \"ticks\": \"\", \"zerolinecolor\": \"white\"}}, \"shapedefaults\": {\"line\": {\"color\": \"#2a3f5f\"}}, \"ternary\": {\"aaxis\": {\"gridcolor\": \"white\", \"linecolor\": \"white\", \"ticks\": \"\"}, \"baxis\": {\"gridcolor\": \"white\", \"linecolor\": \"white\", \"ticks\": \"\"}, \"bgcolor\": \"#E5ECF6\", \"caxis\": {\"gridcolor\": \"white\", \"linecolor\": \"white\", \"ticks\": \"\"}}, \"title\": {\"x\": 0.05}, \"xaxis\": {\"automargin\": true, \"gridcolor\": \"white\", \"linecolor\": \"white\", \"ticks\": \"\", \"title\": {\"standoff\": 15}, \"zerolinecolor\": \"white\", \"zerolinewidth\": 2}, \"yaxis\": {\"automargin\": true, \"gridcolor\": \"white\", \"linecolor\": \"white\", \"ticks\": \"\", \"title\": {\"standoff\": 15}, \"zerolinecolor\": \"white\", \"zerolinewidth\": 2}}}, \"title\": {\"text\": \"T-SNE applied to Chord Vectors for Tunes in Cmaj/Amin\"}, \"width\": 800, \"xaxis\": {\"anchor\": \"y\", \"domain\": [0.0, 1.0], \"title\": {\"text\": \"0\"}}, \"yaxis\": {\"anchor\": \"x\", \"domain\": [0.0, 1.0], \"title\": {\"text\": \"1\"}}},\n",
              "                        {\"responsive\": true}\n",
              "                    ).then(function(){\n",
              "                            \n",
              "var gd = document.getElementById('4fd7f0be-f7a8-4d29-89bf-8185a90331a1');\n",
              "var x = new MutationObserver(function (mutations, observer) {{\n",
              "        var display = window.getComputedStyle(gd).display;\n",
              "        if (!display || display === 'none') {{\n",
              "            console.log([gd, 'removed!']);\n",
              "            Plotly.purge(gd);\n",
              "            observer.disconnect();\n",
              "        }}\n",
              "}});\n",
              "\n",
              "// Listen for the removal of the full notebook cells\n",
              "var notebookContainer = gd.closest('#notebook-container');\n",
              "if (notebookContainer) {{\n",
              "    x.observe(notebookContainer, {childList: true});\n",
              "}}\n",
              "\n",
              "// Listen for the clearing of the current output cell\n",
              "var outputEl = gd.closest('.output');\n",
              "if (outputEl) {{\n",
              "    x.observe(outputEl, {childList: true});\n",
              "}}\n",
              "\n",
              "                        })\n",
              "                };\n",
              "                \n",
              "            </script>\n",
              "        </div>\n",
              "</body>\n",
              "</html>"
            ]
          },
          "metadata": {}
        }
      ]
    },
    {
      "cell_type": "markdown",
      "metadata": {
        "id": "ajqb904KDwNV"
      },
      "source": [
        "## Section Similarity\n"
      ]
    },
    {
      "cell_type": "markdown",
      "metadata": {
        "id": "HS_k1g6ujjKP"
      },
      "source": [
        "### Single Tunes"
      ]
    },
    {
      "cell_type": "code",
      "metadata": {
        "id": "mPnEPL_k4TZn"
      },
      "source": [
        "def get_section_scores_doc2vec(tunes):\n",
        "\n",
        "    df_sim = pd.DataFrame(columns=['reference_title',\n",
        "                                   'reference_titleid',\n",
        "                                  'similar_title',\n",
        "                                   'similar_titleid',\n",
        "                                  'ref_section', \n",
        "                                  'similar_section', \n",
        "                                  'score', \n",
        "                                  ])\n",
        "\n",
        "### get titleid from tunes, use enumerate\n",
        "\n",
        "    for tune in tunes:\n",
        "      print()\n",
        "      print(\"-\"*50)\n",
        "      for s1 in title_to_sectionid[tune]:\n",
        "      \n",
        "          # sections are tagged with the numeric sectionid and can be used for querying\n",
        "          sims = model.dv.similar_by_key(s1, topn=20)\n",
        "          \n",
        "          print(s1, sectionid_to_section[s1])\n",
        "          n = 0\n",
        "          for s2, s2_score in sims:\n",
        "              if type(s2) == int:  # only consider similarities to sectionids; tuneids are strings\n",
        "                  # don't count self-similarity between sections of the same tune\n",
        "                  if s2 not in title_to_sectionid[tune]:\n",
        "                      n += 1\n",
        "                  \n",
        "                      # print(f\"\\t{s2_score:.3f} {sectionid_to_section[s2]}\")\n",
        "\n",
        "                      df_sim.loc[len(df_sim)] = [tune,\n",
        "                                                 title_to_titleid[tune],\n",
        "                                                 sectionid_to_title[s2],\n",
        "                                                 sectionid_to_titleid[s2],\n",
        "                                                 sectionid_to_section[s1], \n",
        "                                                 sectionid_to_section[s2], \n",
        "                                                 s2_score, \n",
        "                                                 ]\n",
        "    return df_sim"
      ],
      "execution_count": 91,
      "outputs": []
    },
    {
      "cell_type": "code",
      "metadata": {
        "colab": {
          "base_uri": "https://localhost:8080/"
        },
        "id": "i_d92il649O9",
        "outputId": "6298a5df-d3f0-4bb8-8118-cb45e1ecb2a3"
      },
      "source": [
        "_tunes = tunes_eval_list\n",
        "\n",
        "df_sim = get_section_scores_doc2vec(_tunes)\n",
        "\n",
        "result = None\n",
        "for tune in _tunes:\n",
        "  tune_result, details = recommend_tune(df_sim, tune)\n",
        "  if result is None:\n",
        "    result = pd.DataFrame(columns=tune_result.columns)\n",
        "  result = result.append(tune_result)\n",
        "\n",
        "print(f\"Result has {len(result)} rows.\")\n",
        "\n",
        "# save a copy of the results; all results will be concatenated at the end\n",
        "df_doc2vec = df_sim[:]"
      ],
      "execution_count": 92,
      "outputs": [
        {
          "output_type": "stream",
          "name": "stdout",
          "text": [
            "\n",
            "--------------------------------------------------\n",
            "125 After You've Gone, section1 (A)\n",
            "126 After You've Gone, section2 (B)\n",
            "127 After You've Gone, section3 (A)\n",
            "128 After You've Gone, section4 (C)\n",
            "\n",
            "--------------------------------------------------\n",
            "188 All God's Chillun Got Rhythm, section1 (A)\n",
            "189 All God's Chillun Got Rhythm, section2 (B)\n",
            "190 All God's Chillun Got Rhythm, section3 (A)\n",
            "191 All God's Chillun Got Rhythm, section4 (C)\n",
            "\n",
            "--------------------------------------------------\n",
            "198 All Of Me, section1 (A)\n",
            "199 All Of Me, section2 (B)\n",
            "200 All Of Me, section3 (A)\n",
            "201 All Of Me, section4 (C)\n",
            "\n",
            "--------------------------------------------------\n",
            "474 Blood Count, section1 (A)\n",
            "475 Blood Count, section2 (A)\n",
            "476 Blood Count, section3 (B)\n",
            "477 Blood Count, section4 (A)\n",
            "478 Blood Count, section5 (C)\n",
            "\n",
            "--------------------------------------------------\n",
            "496 Blue Moon, section1 (A)\n",
            "497 Blue Moon, section2 (A)\n",
            "498 Blue Moon, section3 (B)\n",
            "499 Blue Moon, section4 (A)\n",
            "\n",
            "--------------------------------------------------\n",
            "626 But Beautiful, section1 (A)\n",
            "627 But Beautiful, section2 (B)\n",
            "628 But Beautiful, section3 (A)\n",
            "629 But Beautiful, section4 (C)\n",
            "\n",
            "--------------------------------------------------\n",
            "653 Bye Bye Blackbird, section1 (A)\n",
            "654 Bye Bye Blackbird, section2 (B)\n",
            "\n",
            "--------------------------------------------------\n",
            "676 Call Me Irresponsible, section1 (A)\n",
            "677 Call Me Irresponsible, section2 (B)\n",
            "678 Call Me Irresponsible, section3 (A)\n",
            "679 Call Me Irresponsible, section4 (B)\n",
            "\n",
            "--------------------------------------------------\n",
            "826 Corcovado, section1 (A)\n",
            "827 Corcovado, section2 (B)\n",
            "828 Corcovado, section3 (A)\n",
            "829 Corcovado, section4 (C)\n",
            "\n",
            "--------------------------------------------------\n",
            "997 Dinah, section1 (A)\n",
            "998 Dinah, section2 (A)\n",
            "999 Dinah, section3 (B)\n",
            "1000 Dinah, section4 (A)\n",
            "\n",
            "--------------------------------------------------\n",
            "1125 East Of The Sun, section1 (A)\n",
            "1126 East Of The Sun, section2 (B)\n",
            "1127 East Of The Sun, section3 (A)\n",
            "1128 East Of The Sun, section4 (C)\n",
            "\n",
            "--------------------------------------------------\n",
            "1287 Footprints, section0 (nan)\n",
            "\n",
            "--------------------------------------------------\n",
            "1379 Giant Steps, section0 (nan)\n",
            "\n",
            "--------------------------------------------------\n",
            "1538 Honeysuckle Rose, section1 (A)\n",
            "1539 Honeysuckle Rose, section2 (A)\n",
            "1540 Honeysuckle Rose, section3 (B)\n",
            "1541 Honeysuckle Rose, section4 (A)\n",
            "\n",
            "--------------------------------------------------\n",
            "1647 I Got Rhythm, section1 (A)\n",
            "1648 I Got Rhythm, section2 (A)\n",
            "1649 I Got Rhythm, section3 (B)\n",
            "1650 I Got Rhythm, section4 (A)\n",
            "\n",
            "--------------------------------------------------\n",
            "2670 Misty, section1 (A)\n",
            "2671 Misty, section2 (A)\n",
            "2672 Misty, section3 (B)\n",
            "2673 Misty, section4 (A)\n",
            "\n",
            "--------------------------------------------------\n",
            "2857 Naima, section1 (A)\n",
            "2858 Naima, section2 (A)\n",
            "2859 Naima, section3 (B)\n",
            "2860 Naima, section4 (A)\n",
            "\n",
            "--------------------------------------------------\n",
            "5044 Old Fashioned Love, section0 (nan)\n",
            "\n",
            "--------------------------------------------------\n",
            "3142 Perdido, section1 (A)\n",
            "3143 Perdido, section2 (A)\n",
            "3144 Perdido, section3 (B)\n",
            "3145 Perdido, section4 (A)\n",
            "\n",
            "--------------------------------------------------\n",
            "3276 Rockin' Chair, section1 (A)\n",
            "3277 Rockin' Chair, section2 (B)\n",
            "3278 Rockin' Chair, section3 (A)\n",
            "\n",
            "--------------------------------------------------\n",
            "3578 Sophisticated Lady, section1 (A)\n",
            "3579 Sophisticated Lady, section2 (A)\n",
            "3580 Sophisticated Lady, section3 (B)\n",
            "3581 Sophisticated Lady, section4 (A)\n",
            "\n",
            "--------------------------------------------------\n",
            "3746 Sweet Sue, Just You, section1 (A)\n",
            "3747 Sweet Sue, Just You, section2 (A)\n",
            "3748 Sweet Sue, Just You, section3 (B)\n",
            "3749 Sweet Sue, Just You, section4 (A)\n",
            "\n",
            "--------------------------------------------------\n",
            "3860 These Foolish Things, section1 (A)\n",
            "3861 These Foolish Things, section2 (A)\n",
            "3862 These Foolish Things, section3 (B)\n",
            "3863 These Foolish Things, section4 (A)\n",
            "\n",
            "--------------------------------------------------\n",
            "4146 We'll Be Together Again, section1 (A)\n",
            "4147 We'll Be Together Again, section2 (A)\n",
            "4148 We'll Be Together Again, section3 (B)\n",
            "4149 We'll Be Together Again, section4 (A)\n",
            "Result has 1044 rows.\n"
          ]
        }
      ]
    },
    {
      "cell_type": "code",
      "metadata": {
        "id": "uNt-_pK9Cc-4",
        "colab": {
          "base_uri": "https://localhost:8080/",
          "height": 293
        },
        "outputId": "ee9f2ada-9b24-4dbe-9e48-962551d62932"
      },
      "source": [
        "result.head()"
      ],
      "execution_count": 93,
      "outputs": [
        {
          "output_type": "execute_result",
          "data": {
            "text/html": [
              "<div>\n",
              "<style scoped>\n",
              "    .dataframe tbody tr th:only-of-type {\n",
              "        vertical-align: middle;\n",
              "    }\n",
              "\n",
              "    .dataframe tbody tr th {\n",
              "        vertical-align: top;\n",
              "    }\n",
              "\n",
              "    .dataframe thead th {\n",
              "        text-align: right;\n",
              "    }\n",
              "</style>\n",
              "<table border=\"1\" class=\"dataframe\">\n",
              "  <thead>\n",
              "    <tr style=\"text-align: right;\">\n",
              "      <th></th>\n",
              "      <th>index</th>\n",
              "      <th>reference</th>\n",
              "      <th>reference_titleid</th>\n",
              "      <th>similar_title</th>\n",
              "      <th>score</th>\n",
              "      <th>max</th>\n",
              "      <th>score_div_max</th>\n",
              "      <th>similar_titleid</th>\n",
              "    </tr>\n",
              "  </thead>\n",
              "  <tbody>\n",
              "    <tr>\n",
              "      <th>0</th>\n",
              "      <td>0</td>\n",
              "      <td>After You've Gone [jazz1350]</td>\n",
              "      <td>38</td>\n",
              "      <td>I Can't Believe...You're In Love... [jazz1350]</td>\n",
              "      <td>0.844449</td>\n",
              "      <td>0.844449</td>\n",
              "      <td>1.000000</td>\n",
              "      <td>488</td>\n",
              "    </tr>\n",
              "    <tr>\n",
              "      <th>1</th>\n",
              "      <td>1</td>\n",
              "      <td>After You've Gone [jazz1350]</td>\n",
              "      <td>38</td>\n",
              "      <td>Worth The Wait [jazz1350]</td>\n",
              "      <td>0.708770</td>\n",
              "      <td>0.708770</td>\n",
              "      <td>1.000000</td>\n",
              "      <td>1300</td>\n",
              "    </tr>\n",
              "    <tr>\n",
              "      <th>2</th>\n",
              "      <td>2</td>\n",
              "      <td>After You've Gone [jazz1350]</td>\n",
              "      <td>38</td>\n",
              "      <td>New York, New York [jazz1350]</td>\n",
              "      <td>0.921503</td>\n",
              "      <td>0.921503</td>\n",
              "      <td>1.000000</td>\n",
              "      <td>870</td>\n",
              "    </tr>\n",
              "    <tr>\n",
              "      <th>3</th>\n",
              "      <td>3</td>\n",
              "      <td>After You've Gone [jazz1350]</td>\n",
              "      <td>38</td>\n",
              "      <td>Someday You'll Be Sorry [jazz1350]</td>\n",
              "      <td>0.903798</td>\n",
              "      <td>0.903798</td>\n",
              "      <td>1.000000</td>\n",
              "      <td>1070</td>\n",
              "    </tr>\n",
              "    <tr>\n",
              "      <th>4</th>\n",
              "      <td>4</td>\n",
              "      <td>After You've Gone [jazz1350]</td>\n",
              "      <td>38</td>\n",
              "      <td>Exactly Like You [trad]</td>\n",
              "      <td>0.841606</td>\n",
              "      <td>0.844449</td>\n",
              "      <td>0.996633</td>\n",
              "      <td>1477</td>\n",
              "    </tr>\n",
              "  </tbody>\n",
              "</table>\n",
              "</div>"
            ],
            "text/plain": [
              "  index                     reference  ... score_div_max similar_titleid\n",
              "0     0  After You've Gone [jazz1350]  ...      1.000000             488\n",
              "1     1  After You've Gone [jazz1350]  ...      1.000000            1300\n",
              "2     2  After You've Gone [jazz1350]  ...      1.000000             870\n",
              "3     3  After You've Gone [jazz1350]  ...      1.000000            1070\n",
              "4     4  After You've Gone [jazz1350]  ...      0.996633            1477\n",
              "\n",
              "[5 rows x 8 columns]"
            ]
          },
          "metadata": {},
          "execution_count": 93
        }
      ]
    },
    {
      "cell_type": "code",
      "metadata": {
        "colab": {
          "base_uri": "https://localhost:8080/",
          "height": 542
        },
        "id": "n4dv7VVe5NT4",
        "outputId": "afbd3287-97ed-4f12-de88-5bc8ffa84cb6"
      },
      "source": [
        "import plotly.express as px\n",
        "fig = px.histogram(df_sim, x=\"score\", nbins=50, title='doc2vec sections')\n",
        "fig.show()"
      ],
      "execution_count": 94,
      "outputs": [
        {
          "output_type": "display_data",
          "data": {
            "text/html": [
              "<html>\n",
              "<head><meta charset=\"utf-8\" /></head>\n",
              "<body>\n",
              "    <div>\n",
              "            <script src=\"https://cdnjs.cloudflare.com/ajax/libs/mathjax/2.7.5/MathJax.js?config=TeX-AMS-MML_SVG\"></script><script type=\"text/javascript\">if (window.MathJax) {MathJax.Hub.Config({SVG: {font: \"STIX-Web\"}});}</script>\n",
              "                <script type=\"text/javascript\">window.PlotlyConfig = {MathJaxConfig: 'local'};</script>\n",
              "        <script src=\"https://cdn.plot.ly/plotly-latest.min.js\"></script>    \n",
              "            <div id=\"86382b38-bf05-4e0b-81b0-80caf42622d3\" class=\"plotly-graph-div\" style=\"height:525px; width:100%;\"></div>\n",
              "            <script type=\"text/javascript\">\n",
              "                \n",
              "                    window.PLOTLYENV=window.PLOTLYENV || {};\n",
              "                    \n",
              "                if (document.getElementById(\"86382b38-bf05-4e0b-81b0-80caf42622d3\")) {\n",
              "                    Plotly.newPlot(\n",
              "                        '86382b38-bf05-4e0b-81b0-80caf42622d3',\n",
              "                        [{\"alignmentgroup\": \"True\", \"bingroup\": \"x\", \"hoverlabel\": {\"namelength\": 0}, \"hovertemplate\": \"score=%{x}<br>count=%{y}\", \"legendgroup\": \"\", \"marker\": {\"color\": \"#636efa\"}, \"name\": \"\", \"nbinsx\": 50, \"offsetgroup\": \"\", \"orientation\": \"v\", \"showlegend\": false, \"type\": \"histogram\", \"x\": [0.9037982821464539, 0.8860205411911011, 0.8853483200073242, 0.8827655911445618, 0.8778887391090393, 0.8605430722236633, 0.8600793480873108, 0.8593194484710693, 0.8530722856521606, 0.8498414754867554, 0.8421120643615723, 0.8420862555503845, 0.8348987102508545, 0.8339838981628418, 0.8319795727729797, 0.8318452835083008, 0.8444494605064392, 0.8416063785552979, 0.82379150390625, 0.8098548054695129, 0.805407702922821, 0.8023171424865723, 0.8014096021652222, 0.8011437058448792, 0.7989366054534912, 0.7989107370376587, 0.7900976538658142, 0.7875444293022156, 0.7804878354072571, 0.7712239623069763, 0.7657998204231262, 0.9215030670166016, 0.8771952986717224, 0.8585764765739441, 0.8530478477478027, 0.8469652533531189, 0.8466439843177795, 0.8385722637176514, 0.8305495381355286, 0.8157140016555786, 0.8082184791564941, 0.8080698251724243, 0.8079540729522705, 0.806908905506134, 0.8050422072410583, 0.7087703347206116, 0.6925512552261353, 0.6910855770111084, 0.6902462244033813, 0.6787917017936707, 0.6739767789840698, 0.6712332963943481, 0.6696898341178894, 0.664196252822876, 0.6619150638580322, 0.6556780338287354, 0.6535793542861938, 0.8907277584075928, 0.8779913187026978, 0.8742287158966064, 0.8712288737297058, 0.8606948256492615, 0.8547034859657288, 0.8424660563468933, 0.8395078778266907, 0.8298656344413757, 0.8255394697189331, 0.8170144557952881, 0.8168191909790039, 0.8147652745246887, 0.8093785643577576, 0.8075467348098755, 0.8073357343673706, 0.8778607249259949, 0.8738909363746643, 0.8668551445007324, 0.8653942942619324, 0.8653803467750549, 0.8608978390693665, 0.8563808798789978, 0.8525642156600952, 0.8484876155853271, 0.8477103114128113, 0.845547616481781, 0.8430258631706238, 0.8426015377044678, 0.8370708227157593, 0.8362036943435669, 0.8337807059288025, 0.8336470127105713, 0.8287742137908936, 0.8247212171554565, 0.9262692928314209, 0.9052293300628662, 0.8978646993637085, 0.8921571373939514, 0.8871676325798035, 0.8791698217391968, 0.8782059550285339, 0.8717184066772461, 0.8702659010887146, 0.8647608757019043, 0.8609194755554199, 0.8538402915000916, 0.8529158234596252, 0.8524401187896729, 0.850716233253479, 0.8492165207862854, 0.8979285359382629, 0.8741360306739807, 0.8650662302970886, 0.8588113784790039, 0.8529044985771179, 0.8331515192985535, 0.8271962404251099, 0.8260558247566223, 0.8226346969604492, 0.8206037878990173, 0.8192515969276428, 0.813909113407135, 0.8138105273246765, 0.8134427070617676, 0.8132286667823792, 0.8032722473144531, 0.9434084296226501, 0.9090234041213989, 0.8786819577217102, 0.8551202416419983, 0.8480429649353027, 0.8410792350769043, 0.8331558108329773, 0.8304495811462402, 0.8239638209342957, 0.8232174515724182, 0.8224577307701111, 0.8171471357345581, 0.8150691986083984, 0.9816778898239136, 0.9626675844192505, 0.9624199271202087, 0.9519622325897217, 0.9481837153434753, 0.9468846321105957, 0.9416866302490234, 0.9413856863975525, 0.9321643710136414, 0.9274469017982483, 0.9253629446029663, 0.9239493608474731, 0.9190897941589355, 0.9177941679954529, 0.917513906955719, 0.9155550599098206, 0.9131683707237244, 0.9125359058380127, 0.9004313945770264, 0.9122551083564758, 0.8846981525421143, 0.8782659769058228, 0.856163501739502, 0.8482615351676941, 0.8481557369232178, 0.8478008508682251, 0.8470584154129028, 0.8468316197395325, 0.8447474241256714, 0.8430826663970947, 0.8390275239944458, 0.8372415900230408, 0.8348075151443481, 0.9167597889900208, 0.9108473658561707, 0.9060460925102234, 0.8979253172874451, 0.8967594504356384, 0.8923649191856384, 0.8807337880134583, 0.87090665102005, 0.8664405345916748, 0.861502468585968, 0.8563200235366821, 0.8509387373924255, 0.8482584953308105, 0.8474373817443848, 0.8452109098434448, 0.8444856405258179, 0.8434600234031677, 0.8426182270050049, 0.8422678112983704, 0.8521050810813904, 0.8308022022247314, 0.8187010288238525, 0.7948160171508789, 0.7795904278755188, 0.7788620591163635, 0.7787104845046997, 0.778568685054779, 0.7783548831939697, 0.7752929329872131, 0.7748000621795654, 0.7644292712211609, 0.762405276298523, 0.7577624320983887, 0.7497614622116089, 0.7462545037269592, 0.738297164440155, 0.7376502752304077, 0.9093028903007507, 0.9032937288284302, 0.8838722109794617, 0.8152381181716919, 0.8037634491920471, 0.8023171424865723, 0.8011122345924377, 0.7966694831848145, 0.7955723404884338, 0.7943547368049622, 0.7877669334411621, 0.7726050615310669, 0.7313989996910095, 0.7276186943054199, 0.7271218299865723, 0.7176629304885864, 0.7161595225334167, 0.7159034013748169, 0.7141806483268738, 0.7100839018821716, 0.7100774049758911, 0.7020347714424133, 0.7012012004852295, 0.7003793120384216, 0.7002624273300171, 0.8608752489089966, 0.8514634966850281, 0.8507644534111023, 0.8454537987709045, 0.8401734828948975, 0.8233476877212524, 0.8196725249290466, 0.7946590185165405, 0.7943993210792542, 0.7923316359519958, 0.7910623550415039, 0.7880895137786865, 0.7805495858192444, 0.7797102928161621, 0.7778754830360413, 0.6372469663619995, 0.6311889290809631, 0.5745338201522827, 0.5742778182029724, 0.5682585835456848, 0.5671869516372681, 0.5617265701293945, 0.5580840110778809, 0.5570864081382751, 0.5543074607849121, 0.5540602803230286, 0.5518382787704468, 0.5503086447715759, 0.530346155166626, 0.5263189673423767, 0.9101542830467224, 0.8852024674415588, 0.8722840547561646, 0.8561002016067505, 0.856025755405426, 0.8484870791435242, 0.8458009362220764, 0.8397319912910461, 0.8358432650566101, 0.8356513381004333, 0.8307178616523743, 0.8217236399650574, 0.8579736948013306, 0.8479932546615601, 0.8357976078987122, 0.827699601650238, 0.8273626565933228, 0.8272516131401062, 0.8230960965156555, 0.8177197575569153, 0.8059951663017273, 0.7760440707206726, 0.7715575695037842, 0.769739031791687, 0.7656958103179932, 0.757864773273468, 0.8770108819007874, 0.8435566425323486, 0.8271864056587219, 0.8145540356636047, 0.8135210871696472, 0.804474413394928, 0.799462080001831, 0.7591968178749084, 0.7579793930053711, 0.7450640201568604, 0.7433833479881287, 0.735792338848114, 0.7282693386077881, 0.7278944253921509, 0.7203497886657715, 0.7164865136146545, 0.7041638493537903, 0.7031952738761902, 0.8706014156341553, 0.8599180579185486, 0.8528819680213928, 0.8522020578384399, 0.8332512378692627, 0.8276864886283875, 0.8173083066940308, 0.801794171333313, 0.7961450219154358, 0.7913722395896912, 0.7909283638000488, 0.7907160520553589, 0.7858540415763855, 0.7821933627128601, 0.7798212766647339, 0.777572512626648, 0.9451979398727417, 0.9361315369606018, 0.9203616380691528, 0.9134231805801392, 0.9113172888755798, 0.9066780209541321, 0.8977679014205933, 0.8907251358032227, 0.8904531598091125, 0.8858388662338257, 0.8850764036178589, 0.8814425468444824, 0.868960976600647, 0.8193007111549377, 0.8026004433631897, 0.796028733253479, 0.7747026085853577, 0.7616652250289917, 0.7125281691551208, 0.7105826735496521, 0.6980910897254944, 0.6914021968841553, 0.6913549304008484, 0.6864352822303772, 0.679227352142334, 0.6722797155380249, 0.6720789074897766, 0.6605473756790161, 0.6553579568862915, 0.6551772356033325, 0.652307391166687, 0.651540994644165, 0.648176908493042, 0.9472253322601318, 0.931733250617981, 0.9227105379104614, 0.9072465300559998, 0.9057753086090088, 0.9044864773750305, 0.9036585688591003, 0.8981186747550964, 0.8974752426147461, 0.8942726850509644, 0.8938525915145874, 0.8926283717155457, 0.8853808641433716, 0.8851392269134521, 0.8344979882240295, 0.833534836769104, 0.7809615135192871, 0.7702581286430359, 0.7701462507247925, 0.7669323682785034, 0.7568779587745667, 0.7500614523887634, 0.7477689385414124, 0.7402653098106384, 0.7386158108711243, 0.735471785068512, 0.7343756556510925, 0.733914315700531, 0.73287433385849, 0.7285217642784119, 0.7282362580299377, 0.7245842218399048, 0.7243728041648865, 0.7235993146896362, 0.9372522234916687, 0.9305973052978516, 0.9216405153274536, 0.9201477766036987, 0.9052358865737915, 0.8999221324920654, 0.8995124101638794, 0.897618293762207, 0.8968433737754822, 0.8961998820304871, 0.8942753672599792, 0.8929504752159119, 0.8925167918205261, 0.8919260501861572, 0.8905831575393677, 0.8898835778236389, 0.8912422060966492, 0.8629316687583923, 0.8541350960731506, 0.8471511602401733, 0.8343433141708374, 0.8253473043441772, 0.8193392157554626, 0.8165286183357239, 0.8150852918624878, 0.81314617395401, 0.812866747379303, 0.8099392652511597, 0.8078157901763916, 0.9574407339096069, 0.9571923613548279, 0.9469806551933289, 0.9463124871253967, 0.9437278509140015, 0.9435238838195801, 0.9434782862663269, 0.9421144723892212, 0.9415360689163208, 0.9409373998641968, 0.9400762319564819, 0.9397703409194946, 0.9384405016899109, 0.9383235573768616, 0.9373504519462585, 0.9372099041938782, 0.9489785432815552, 0.9305360913276672, 0.9080348014831543, 0.9002806544303894, 0.8919558525085449, 0.887198269367218, 0.8768548965454102, 0.8622048497200012, 0.8549834489822388, 0.8540825247764587, 0.8514464497566223, 0.8507162928581238, 0.8455953001976013, 0.8453414440155029, 0.8422493934631348, 0.8419224619865417, 0.8399496078491211, 0.9344433546066284, 0.9320363998413086, 0.9318701028823853, 0.9285757541656494, 0.9285215735435486, 0.9278923273086548, 0.9260801076889038, 0.925701916217804, 0.921468198299408, 0.9195654392242432, 0.9194140434265137, 0.919258177280426, 0.9183502197265625, 0.9151984453201294, 0.9147142767906189, 0.9125717878341675, 0.9112245440483093, 0.9064947366714478, 0.8861388564109802, 0.8857430219650269, 0.8566544055938721, 0.8536847829818726, 0.8381764888763428, 0.8345164656639099, 0.833101212978363, 0.8321359753608704, 0.8267836570739746, 0.825265645980835, 0.8235718607902527, 0.8220074772834778, 0.8201671242713928, 0.8195064067840576, 0.8174998760223389, 0.814895749092102, 0.8119874596595764, 0.8677072525024414, 0.8452680706977844, 0.8408441543579102, 0.8359166383743286, 0.8249399065971375, 0.8223044872283936, 0.8033655881881714, 0.7992784380912781, 0.7753291130065918, 0.7654691338539124, 0.764952540397644, 0.7646913528442383, 0.7591275572776794, 0.6979874968528748, 0.6834211945533752, 0.6777876019477844, 0.6761935353279114, 0.6710563898086548, 0.6619925498962402, 0.655829131603241, 0.650169849395752, 0.6413788199424744, 0.639443039894104, 0.629436194896698, 0.6247548460960388, 0.6120592355728149, 0.6106332540512085, 0.6031922698020935, 0.6012107133865356, 0.5945062637329102, 0.5908729434013367, 0.5900218486785889, 0.5850722193717957, 0.8996524214744568, 0.8542525172233582, 0.8221871852874756, 0.8214513063430786, 0.8152294158935547, 0.8067833781242371, 0.7987682819366455, 0.7890302538871765, 0.7815018892288208, 0.7731844186782837, 0.7704413533210754, 0.7704253792762756, 0.7491052150726318, 0.7038137912750244, 0.6984069347381592, 0.6799587607383728, 0.6718568801879883, 0.6706429123878479, 0.6698099374771118, 0.6663777828216553, 0.6430131793022156, 0.6395586133003235, 0.6347323060035706, 0.6311203241348267, 0.6257390379905701, 0.6247458457946777, 0.6204502582550049, 0.6021201014518738, 0.5903879404067993, 0.587019145488739, 0.5852643251419067, 0.583695113658905, 0.9152006506919861, 0.9013142585754395, 0.8960747122764587, 0.8930092453956604, 0.8796752691268921, 0.8777665495872498, 0.876888632774353, 0.8724672794342041, 0.8692622184753418, 0.8678333759307861, 0.8663291335105896, 0.8631839752197266, 0.8617647290229797, 0.9304373860359192, 0.9151159524917603, 0.9146647453308105, 0.9099158644676208, 0.9045505523681641, 0.9037653207778931, 0.9036650061607361, 0.9031611680984497, 0.8974512219429016, 0.8949384689331055, 0.8946004509925842, 0.8945247530937195, 0.8940605521202087, 0.8940210938453674, 0.8933310508728027, 0.8906167149543762, 0.8893585205078125, 0.965825080871582, 0.9614785313606262, 0.9593137502670288, 0.9563227295875549, 0.9418472051620483, 0.9382921457290649, 0.9295007586479187, 0.9294049143791199, 0.9214596748352051, 0.9210681319236755, 0.9184244871139526, 0.9173985719680786, 0.917279064655304, 0.9159367680549622, 0.9059343934059143, 0.900822639465332, 0.89987713098526, 0.8988386392593384, 0.8982977271080017, 0.9447949528694153, 0.9402393698692322, 0.9397587180137634, 0.9352856278419495, 0.933122992515564, 0.9322802424430847, 0.9285688400268555, 0.9189417362213135, 0.9181573987007141, 0.9175117015838623, 0.9173915386199951, 0.9142866134643555, 0.9054898619651794, 0.9044087529182434, 0.9038892388343811, 0.9032205939292908, 0.9028612971305847, 0.9002178907394409, 0.8997890949249268, 0.897943377494812, 0.903968095779419, 0.8999902606010437, 0.8941856622695923, 0.8937678933143616, 0.885318398475647, 0.8852069973945618, 0.8542559742927551, 0.8539923429489136, 0.8492813110351562, 0.8485231995582581, 0.8469651937484741, 0.8434784412384033, 0.8389800190925598, 0.8348986506462097, 0.8307995796203613, 0.8278393745422363, 0.8268287181854248, 0.9776764512062073, 0.9675341844558716, 0.964091956615448, 0.964032769203186, 0.9628903865814209, 0.9564132690429688, 0.9485368132591248, 0.9442117214202881, 0.9441795349121094, 0.9433319568634033, 0.9420561194419861, 0.9412188529968262, 0.9408582448959351, 0.9398229122161865, 0.9393419623374939, 0.9387627243995667, 0.9379397630691528, 0.9369294047355652, 0.9356367588043213, 0.9324301481246948, 0.9309524893760681, 0.9084893465042114, 0.9077208042144775, 0.9051274061203003, 0.8974905014038086, 0.8920580744743347, 0.8837866187095642, 0.8833167552947998, 0.8809672594070435, 0.8727739453315735, 0.8645322918891907, 0.859098494052887, 0.8587543368339539, 0.8548364043235779, 0.8502529859542847, 0.8513901233673096, 0.8189080357551575, 0.799127459526062, 0.7932173609733582, 0.7895510792732239, 0.7889131903648376, 0.7866283655166626, 0.7842601537704468, 0.7838952541351318, 0.7598113417625427, 0.7558304667472839, 0.7511746287345886, 0.920235812664032, 0.9138765335083008, 0.9090890288352966, 0.907831072807312, 0.9060569405555725, 0.9047873020172119, 0.8968441486358643, 0.8954669237136841, 0.8921799659729004, 0.8909257054328918, 0.8905540108680725, 0.8881766200065613, 0.8864473104476929, 0.8808881044387817, 0.87864089012146, 0.8510079383850098, 0.8409237861633301, 0.8308466076850891, 0.8197760581970215, 0.8087296485900879, 0.7765838503837585, 0.7562793493270874, 0.749451756477356, 0.7435901165008545, 0.7419757843017578, 0.7372667193412781, 0.7311257719993591, 0.726841151714325, 0.897809624671936, 0.8958230018615723, 0.8884221315383911, 0.8790391087532043, 0.8648359179496765, 0.8644322752952576, 0.86168372631073, 0.8612533807754517, 0.860408365726471, 0.8577873706817627, 0.8566455245018005, 0.8566343784332275, 0.8540395498275757, 0.8473759293556213, 0.8431597352027893, 0.927449107170105, 0.8892356753349304, 0.8856435418128967, 0.8852036595344543, 0.8840123414993286, 0.8788607120513916, 0.8768941164016724, 0.8761798143386841, 0.8685826063156128, 0.8668947815895081, 0.8616602420806885, 0.860424816608429, 0.8578049540519714, 0.9540046453475952, 0.9359486699104309, 0.9358113408088684, 0.9312992095947266, 0.9171190857887268, 0.9144633412361145, 0.9126563668251038, 0.9126334190368652, 0.9104207754135132, 0.9039090871810913, 0.9019211530685425, 0.8929153084754944, 0.8913067579269409, 0.8833954930305481, 0.8832288384437561, 0.8815131187438965, 0.8790659308433533, 0.8620579242706299, 0.8606560230255127, 0.8593704700469971, 0.9361333847045898, 0.9274001717567444, 0.9246894717216492, 0.9138694405555725, 0.9063845276832581, 0.90440434217453, 0.8917697072029114, 0.890052080154419, 0.8870876431465149, 0.879819929599762, 0.8796298503875732, 0.8779854774475098, 0.8774111866950989, 0.8761504888534546, 0.8741152882575989, 0.8737319707870483, 0.8736031651496887, 0.8733377456665039, 0.8670269846916199, 0.8644837737083435, 0.9524266719818115, 0.9452447891235352, 0.9223034977912903, 0.9111783504486084, 0.9094558954238892, 0.9053961038589478, 0.9051144123077393, 0.9032308459281921, 0.897208571434021, 0.8957750797271729, 0.8851978182792664, 0.8903800249099731, 0.887207567691803, 0.8834073543548584, 0.8815520405769348, 0.8771324753761292, 0.8759944438934326, 0.8751653432846069, 0.8648782968521118, 0.86159348487854, 0.8580148816108704, 0.8550490736961365, 0.8511335849761963, 0.9655015468597412, 0.9553841352462769, 0.9474015235900879, 0.9423675537109375, 0.9422661066055298, 0.9354423880577087, 0.935414731502533, 0.9350672960281372, 0.932689368724823, 0.9319729804992676, 0.931522786617279, 0.9313596487045288, 0.9239104986190796, 0.9227495789527893, 0.9219423532485962, 0.9209079146385193, 0.9167109727859497, 0.9107949137687683, 0.9054886698722839, 0.9054192900657654, 0.9203634858131409, 0.9145102500915527, 0.8958231806755066, 0.8819711208343506, 0.8796885013580322, 0.8771897554397583, 0.8734295964241028, 0.8716520071029663, 0.8710601329803467, 0.8668808937072754, 0.8529083132743835, 0.852033257484436, 0.8510700464248657, 0.845493495464325, 0.8453134894371033, 0.8446258902549744, 0.8983974456787109, 0.8771108388900757, 0.8721601366996765, 0.867622435092926, 0.8665484189987183, 0.8543655276298523, 0.8464609980583191, 0.8440378904342651, 0.839181125164032, 0.8387979865074158, 0.8383616805076599, 0.8367618918418884, 0.8332884907722473, 0.8324390053749084, 0.8303956985473633, 0.8265451192855835, 0.931465208530426, 0.9191591143608093, 0.9043493270874023, 0.902183473110199, 0.8994709253311157, 0.8981012105941772, 0.8968276381492615, 0.8961080312728882, 0.8946796655654907, 0.8912480473518372, 0.8890284895896912, 0.8863180875778198, 0.8852078914642334, 0.8841943740844727, 0.8832067847251892, 0.8820207715034485, 0.8511906266212463, 0.8346418738365173, 0.7902891635894775, 0.7847043871879578, 0.7657425999641418, 0.7311282157897949, 0.7222771644592285, 0.7216207981109619, 0.7192434668540955, 0.7176916003227234, 0.715736448764801, 0.7156767845153809, 0.7086712718009949, 0.7083050012588501, 0.7035905122756958, 0.702630877494812, 0.7018914818763733, 0.697816789150238, 0.9320670962333679, 0.9189658164978027, 0.9178123474121094, 0.9156864285469055, 0.9107915163040161, 0.902484118938446, 0.8990774154663086, 0.8925761580467224, 0.8916906714439392, 0.8862625956535339, 0.8819234371185303, 0.8818390369415283, 0.8803969621658325, 0.8763859868049622, 0.8760145306587219, 0.8711147904396057, 0.8683623671531677, 0.8790329098701477, 0.8679439425468445, 0.8577612638473511, 0.8437028527259827, 0.8317126631736755, 0.822412371635437, 0.8212263584136963, 0.805925726890564, 0.803945004940033, 0.8004119396209717, 0.8003396391868591, 0.7989668846130371, 0.8956319689750671, 0.8618886470794678, 0.8429406881332397, 0.8198221921920776, 0.816690981388092, 0.8079168796539307, 0.7919183969497681, 0.7900831699371338, 0.7820046544075012, 0.7716958522796631, 0.7671204209327698, 0.7670382857322693, 0.7655084729194641, 0.7649891972541809, 0.8669216632843018, 0.8456094264984131, 0.8351408243179321, 0.8348910808563232, 0.8273739218711853, 0.8261735439300537, 0.8036218285560608, 0.7994620203971863, 0.7879666090011597, 0.773265540599823, 0.7635483145713806, 0.7626685500144958, 0.7570944428443909, 0.75642329454422, 0.7555854916572571, 0.7441898584365845, 0.7365302443504333, 0.7341559529304504, 0.7327457070350647, 0.7255436778068542, 0.8608754277229309, 0.8237751126289368, 0.8019428849220276, 0.8007876873016357, 0.7840398550033569, 0.7818166017532349, 0.7788665294647217, 0.7767607569694519, 0.7733120322227478, 0.7690972685813904, 0.7687786817550659, 0.7637394666671753, 0.7601451873779297, 0.7500476241111755, 0.748996913433075, 0.9246736764907837, 0.9111652970314026, 0.9077470898628235, 0.906944990158081, 0.904008150100708, 0.8977239727973938, 0.8949143290519714, 0.8928990364074707, 0.8925199508666992, 0.8847158551216125, 0.8800056576728821, 0.8782668113708496, 0.8773432970046997, 0.9411909580230713, 0.9345728754997253, 0.9286014437675476, 0.9083441495895386, 0.9073643684387207, 0.9006739258766174, 0.8909667730331421, 0.89079749584198, 0.8900541067123413, 0.8823516368865967, 0.8798061013221741, 0.8781397938728333, 0.8739528656005859, 0.8696696162223816, 0.8681661486625671, 0.9348044395446777, 0.9276604652404785, 0.9215892553329468, 0.9208828806877136, 0.9198827147483826, 0.9191411137580872, 0.9167616963386536, 0.9147565364837646, 0.9140498042106628, 0.9106259346008301, 0.9105628132820129, 0.9079936146736145, 0.9078605771064758, 0.9071589112281799, 0.9061717391014099, 0.9054305553436279, 0.9041150808334351, 0.902545154094696, 0.9020084142684937, 0.9551339745521545, 0.9544320702552795, 0.9527838826179504, 0.9502798914909363, 0.9454726576805115, 0.942960262298584, 0.9424498081207275, 0.9412877559661865, 0.9324682354927063, 0.9293729662895203, 0.928966760635376, 0.9272183179855347, 0.9227495789527893, 0.9218518733978271, 0.9164350032806396, 0.9144513010978699, 0.9110876321792603, 0.9093169569969177, 0.9070025682449341, 0.9019011855125427, 0.9511478543281555, 0.9433557391166687, 0.9326657652854919, 0.9232937693595886, 0.9123691916465759, 0.9048144817352295, 0.8970933556556702, 0.8948175311088562, 0.8870739936828613, 0.8867770433425903, 0.885352373123169, 0.8846292495727539, 0.8845742344856262, 0.8801180720329285, 0.8786105513572693, 0.878154456615448, 0.8781431913375854, 0.8702741861343384, 0.8323330879211426, 0.804295003414154, 0.8036730289459229, 0.7810983061790466, 0.771121621131897, 0.7698565721511841, 0.7654138803482056, 0.7630462646484375, 0.7589572072029114, 0.7572348713874817, 0.7561774253845215, 0.7555439472198486, 0.7519113421440125, 0.7518093585968018, 0.7502223253250122, 0.9220619201660156, 0.9001380801200867, 0.8714442253112793, 0.8633362650871277, 0.8564358353614807, 0.8509619235992432, 0.8451738953590393, 0.8420038223266602, 0.8349476456642151, 0.8277106881141663, 0.8271243572235107, 0.8191390633583069, 0.816948652267456, 0.8101223707199097, 0.8053402304649353, 0.8049861788749695, 0.8010349869728088, 0.9170207977294922, 0.9164761304855347, 0.9057302474975586, 0.895459771156311, 0.8954349160194397, 0.8951526880264282, 0.8945777416229248, 0.8880130648612976, 0.8876869678497314, 0.8794487714767456, 0.8789362907409668, 0.8759180903434753, 0.8749603629112244, 0.8742066025733948, 0.8739325404167175, 0.8708282709121704, 0.8692001700401306, 0.8678081631660461, 0.8653620481491089, 0.865212082862854, 0.877962589263916, 0.8623060584068298, 0.8526701331138611, 0.8336585760116577, 0.8323972821235657, 0.8318074941635132, 0.8171026706695557, 0.8166463375091553, 0.8099391460418701, 0.7860181927680969, 0.7840518355369568, 0.7814647555351257, 0.774469792842865, 0.7694786787033081, 0.7513100504875183, 0.7762740850448608, 0.774693489074707, 0.6955235004425049, 0.685016930103302, 0.6786722540855408, 0.66969233751297, 0.650250256061554, 0.6472395062446594, 0.6460821628570557, 0.6443419456481934, 0.6340453624725342, 0.6334303021430969, 0.6314548254013062, 0.6284178495407104, 0.6213062405586243, 0.8169049620628357, 0.7861508727073669, 0.7684112787246704, 0.766511857509613, 0.7619861960411072, 0.7544975280761719, 0.745994508266449, 0.7369993925094604, 0.7249962687492371, 0.7176654934883118, 0.7150161862373352, 0.7124354839324951, 0.7022671103477478, 0.7003992795944214, 0.6992349028587341, 0.6913418173789978, 0.8912422060966492, 0.8652381896972656, 0.8564972877502441, 0.8441929817199707, 0.8436192274093628, 0.8379474878311157, 0.8331366777420044, 0.8312806487083435, 0.8296064138412476, 0.8196942210197449, 0.8168573379516602, 0.810295045375824, 0.8041075468063354, 0.8029671311378479, 0.7962723970413208, 0.7932559847831726, 0.959703803062439, 0.9580594301223755, 0.9543195962905884, 0.9537361860275269, 0.9451413154602051, 0.9443869590759277, 0.9408407211303711, 0.9407824873924255, 0.9402468800544739, 0.9400621652603149, 0.9393929839134216, 0.9387141466140747, 0.9384209513664246, 0.9367383122444153, 0.9366123676300049, 0.9366068243980408, 0.9364734292030334, 0.9361690282821655, 0.9497652053833008, 0.9474226832389832, 0.9461251497268677, 0.941138505935669, 0.9401013851165771, 0.9376238584518433, 0.9370599389076233, 0.9348570704460144, 0.9346701502799988, 0.9343770146369934, 0.9324421882629395, 0.9307728409767151, 0.9307373762130737, 0.9305242300033569, 0.9302957653999329, 0.9302039742469788, 0.93244868516922, 0.9158487319946289, 0.9144085049629211, 0.8837472200393677, 0.863511323928833, 0.8529312610626221, 0.851118266582489, 0.8472274541854858, 0.8451711535453796, 0.8358648419380188, 0.8289391994476318, 0.8218305110931396, 0.8193725943565369, 0.8118106722831726, 0.8073439598083496, 0.8054844737052917, 0.8033050894737244, 0.9620797634124756, 0.9571975469589233, 0.9507297277450562, 0.9480892419815063, 0.9479076266288757, 0.9461067318916321, 0.945672869682312, 0.9430844187736511, 0.9424445033073425, 0.94191974401474, 0.9406319260597229, 0.9338555335998535, 0.9332792162895203, 0.9331923127174377, 0.9304583668708801, 0.9289476275444031, 0.9265892505645752, 0.9250776171684265, 0.9236499071121216, 0.9235867261886597, 0.9115651249885559, 0.8869600892066956, 0.8729740977287292, 0.8648590445518494, 0.863816499710083, 0.8553023934364319, 0.8551688194274902, 0.8542097210884094, 0.8505499958992004, 0.8491456508636475, 0.8415018320083618, 0.8313213586807251, 0.8265580534934998, 0.8216255307197571, 0.8192256689071655, 0.8149427175521851, 0.813628077507019, 0.8123339414596558, 0.8076581358909607, 0.8999228477478027, 0.889676570892334, 0.8594410419464111, 0.8490275144577026, 0.848855197429657, 0.840782880783081, 0.8383176922798157, 0.8382228016853333, 0.8316835761070251, 0.8254907131195068, 0.8186787962913513, 0.8166083097457886, 0.8139961957931519, 0.8069382309913635, 0.8061202168464661, 0.8031013011932373, 0.8063716292381287, 0.7888672947883606, 0.7725071310997009, 0.7698700428009033, 0.767325222492218, 0.7483116388320923, 0.7434195876121521, 0.7261381149291992, 0.7233434319496155, 0.7219870090484619, 0.719180166721344, 0.7170057892799377, 0.7156341671943665, 0.7137284278869629, 0.7049702405929565, 0.8977321982383728, 0.8852844834327698, 0.8677942752838135, 0.8509817123413086, 0.8395748138427734, 0.832871675491333, 0.8274513483047485, 0.8255084156990051, 0.82108473777771, 0.8193926811218262, 0.817876935005188, 0.8154393434524536, 0.8115253448486328, 0.8108581900596619, 0.807191014289856, 0.8038800358772278, 0.8035743236541748, 0.8029403686523438, 0.8058459758758545, 0.7770035266876221, 0.7598600387573242, 0.7546340823173523, 0.7064727544784546, 0.705100417137146, 0.7033141851425171, 0.7024396061897278, 0.6996722221374512, 0.6918951869010925, 0.6859627366065979, 0.6773441433906555, 0.8403918147087097, 0.8130242824554443, 0.7919893264770508, 0.7881607413291931, 0.7870680689811707, 0.7808982729911804, 0.7740629315376282, 0.7646429538726807, 0.7600353360176086, 0.7545884847640991, 0.7538341283798218, 0.751420259475708, 0.7499347925186157, 0.7484920620918274, 0.8733348250389099, 0.8447767496109009, 0.8320503830909729, 0.7945688962936401, 0.7887042164802551, 0.7860792279243469, 0.7786871194839478, 0.7762746810913086, 0.7690353989601135, 0.7390046715736389, 0.7285401821136475, 0.7265678644180298, 0.8202536702156067, 0.8088131546974182, 0.7978604435920715, 0.7943597435951233, 0.7537301778793335, 0.7330504655838013, 0.721036970615387, 0.7143179774284363, 0.7142447233200073, 0.7136703729629517, 0.7108669281005859, 0.704207718372345, 0.6978165507316589], \"xaxis\": \"x\", \"yaxis\": \"y\"}],\n",
              "                        {\"barmode\": \"relative\", \"legend\": {\"tracegroupgap\": 0}, \"template\": {\"data\": {\"bar\": [{\"error_x\": {\"color\": \"#2a3f5f\"}, \"error_y\": {\"color\": \"#2a3f5f\"}, \"marker\": {\"line\": {\"color\": \"#E5ECF6\", \"width\": 0.5}}, \"type\": \"bar\"}], \"barpolar\": [{\"marker\": {\"line\": {\"color\": \"#E5ECF6\", \"width\": 0.5}}, \"type\": \"barpolar\"}], \"carpet\": [{\"aaxis\": {\"endlinecolor\": \"#2a3f5f\", \"gridcolor\": \"white\", \"linecolor\": \"white\", \"minorgridcolor\": \"white\", \"startlinecolor\": \"#2a3f5f\"}, \"baxis\": {\"endlinecolor\": \"#2a3f5f\", \"gridcolor\": \"white\", \"linecolor\": \"white\", \"minorgridcolor\": \"white\", \"startlinecolor\": \"#2a3f5f\"}, \"type\": \"carpet\"}], \"choropleth\": [{\"colorbar\": {\"outlinewidth\": 0, \"ticks\": \"\"}, \"type\": \"choropleth\"}], \"contour\": [{\"colorbar\": {\"outlinewidth\": 0, \"ticks\": \"\"}, \"colorscale\": [[0.0, \"#0d0887\"], [0.1111111111111111, \"#46039f\"], [0.2222222222222222, \"#7201a8\"], [0.3333333333333333, \"#9c179e\"], [0.4444444444444444, \"#bd3786\"], [0.5555555555555556, \"#d8576b\"], [0.6666666666666666, \"#ed7953\"], [0.7777777777777778, \"#fb9f3a\"], [0.8888888888888888, \"#fdca26\"], [1.0, \"#f0f921\"]], \"type\": \"contour\"}], \"contourcarpet\": [{\"colorbar\": {\"outlinewidth\": 0, \"ticks\": \"\"}, \"type\": \"contourcarpet\"}], \"heatmap\": [{\"colorbar\": {\"outlinewidth\": 0, \"ticks\": \"\"}, \"colorscale\": [[0.0, \"#0d0887\"], [0.1111111111111111, \"#46039f\"], [0.2222222222222222, \"#7201a8\"], [0.3333333333333333, \"#9c179e\"], [0.4444444444444444, \"#bd3786\"], [0.5555555555555556, \"#d8576b\"], [0.6666666666666666, \"#ed7953\"], [0.7777777777777778, \"#fb9f3a\"], [0.8888888888888888, \"#fdca26\"], [1.0, \"#f0f921\"]], \"type\": \"heatmap\"}], \"heatmapgl\": [{\"colorbar\": {\"outlinewidth\": 0, \"ticks\": \"\"}, \"colorscale\": [[0.0, \"#0d0887\"], [0.1111111111111111, \"#46039f\"], [0.2222222222222222, \"#7201a8\"], [0.3333333333333333, \"#9c179e\"], [0.4444444444444444, \"#bd3786\"], [0.5555555555555556, \"#d8576b\"], [0.6666666666666666, \"#ed7953\"], [0.7777777777777778, \"#fb9f3a\"], [0.8888888888888888, \"#fdca26\"], [1.0, \"#f0f921\"]], \"type\": \"heatmapgl\"}], \"histogram\": [{\"marker\": {\"colorbar\": {\"outlinewidth\": 0, \"ticks\": \"\"}}, \"type\": \"histogram\"}], \"histogram2d\": [{\"colorbar\": {\"outlinewidth\": 0, \"ticks\": \"\"}, \"colorscale\": [[0.0, \"#0d0887\"], [0.1111111111111111, \"#46039f\"], [0.2222222222222222, \"#7201a8\"], [0.3333333333333333, \"#9c179e\"], [0.4444444444444444, \"#bd3786\"], [0.5555555555555556, \"#d8576b\"], [0.6666666666666666, \"#ed7953\"], [0.7777777777777778, \"#fb9f3a\"], [0.8888888888888888, \"#fdca26\"], [1.0, \"#f0f921\"]], \"type\": \"histogram2d\"}], \"histogram2dcontour\": [{\"colorbar\": {\"outlinewidth\": 0, \"ticks\": \"\"}, \"colorscale\": [[0.0, \"#0d0887\"], [0.1111111111111111, \"#46039f\"], [0.2222222222222222, \"#7201a8\"], [0.3333333333333333, \"#9c179e\"], [0.4444444444444444, \"#bd3786\"], [0.5555555555555556, \"#d8576b\"], [0.6666666666666666, \"#ed7953\"], [0.7777777777777778, \"#fb9f3a\"], [0.8888888888888888, \"#fdca26\"], [1.0, \"#f0f921\"]], \"type\": \"histogram2dcontour\"}], \"mesh3d\": [{\"colorbar\": {\"outlinewidth\": 0, \"ticks\": \"\"}, \"type\": \"mesh3d\"}], \"parcoords\": [{\"line\": {\"colorbar\": {\"outlinewidth\": 0, \"ticks\": \"\"}}, \"type\": \"parcoords\"}], \"pie\": [{\"automargin\": true, \"type\": \"pie\"}], \"scatter\": [{\"marker\": {\"colorbar\": {\"outlinewidth\": 0, \"ticks\": \"\"}}, \"type\": \"scatter\"}], \"scatter3d\": [{\"line\": {\"colorbar\": {\"outlinewidth\": 0, \"ticks\": \"\"}}, \"marker\": {\"colorbar\": {\"outlinewidth\": 0, \"ticks\": \"\"}}, \"type\": \"scatter3d\"}], \"scattercarpet\": [{\"marker\": {\"colorbar\": {\"outlinewidth\": 0, \"ticks\": \"\"}}, \"type\": \"scattercarpet\"}], \"scattergeo\": [{\"marker\": {\"colorbar\": {\"outlinewidth\": 0, \"ticks\": \"\"}}, \"type\": \"scattergeo\"}], \"scattergl\": [{\"marker\": {\"colorbar\": {\"outlinewidth\": 0, \"ticks\": \"\"}}, \"type\": \"scattergl\"}], \"scattermapbox\": [{\"marker\": {\"colorbar\": {\"outlinewidth\": 0, \"ticks\": \"\"}}, \"type\": \"scattermapbox\"}], \"scatterpolar\": [{\"marker\": {\"colorbar\": {\"outlinewidth\": 0, \"ticks\": \"\"}}, \"type\": \"scatterpolar\"}], \"scatterpolargl\": [{\"marker\": {\"colorbar\": {\"outlinewidth\": 0, \"ticks\": \"\"}}, \"type\": \"scatterpolargl\"}], \"scatterternary\": [{\"marker\": {\"colorbar\": {\"outlinewidth\": 0, \"ticks\": \"\"}}, \"type\": \"scatterternary\"}], \"surface\": [{\"colorbar\": {\"outlinewidth\": 0, \"ticks\": \"\"}, \"colorscale\": [[0.0, \"#0d0887\"], [0.1111111111111111, \"#46039f\"], [0.2222222222222222, \"#7201a8\"], [0.3333333333333333, \"#9c179e\"], [0.4444444444444444, \"#bd3786\"], [0.5555555555555556, \"#d8576b\"], [0.6666666666666666, \"#ed7953\"], [0.7777777777777778, \"#fb9f3a\"], [0.8888888888888888, \"#fdca26\"], [1.0, \"#f0f921\"]], \"type\": \"surface\"}], \"table\": [{\"cells\": {\"fill\": {\"color\": \"#EBF0F8\"}, \"line\": {\"color\": \"white\"}}, \"header\": {\"fill\": {\"color\": \"#C8D4E3\"}, \"line\": {\"color\": \"white\"}}, \"type\": \"table\"}]}, \"layout\": {\"annotationdefaults\": {\"arrowcolor\": \"#2a3f5f\", \"arrowhead\": 0, \"arrowwidth\": 1}, \"coloraxis\": {\"colorbar\": {\"outlinewidth\": 0, \"ticks\": \"\"}}, \"colorscale\": {\"diverging\": [[0, \"#8e0152\"], [0.1, \"#c51b7d\"], [0.2, \"#de77ae\"], [0.3, \"#f1b6da\"], [0.4, \"#fde0ef\"], [0.5, \"#f7f7f7\"], [0.6, \"#e6f5d0\"], [0.7, \"#b8e186\"], [0.8, \"#7fbc41\"], [0.9, \"#4d9221\"], [1, \"#276419\"]], \"sequential\": [[0.0, \"#0d0887\"], [0.1111111111111111, \"#46039f\"], [0.2222222222222222, \"#7201a8\"], [0.3333333333333333, \"#9c179e\"], [0.4444444444444444, \"#bd3786\"], [0.5555555555555556, \"#d8576b\"], [0.6666666666666666, \"#ed7953\"], [0.7777777777777778, \"#fb9f3a\"], [0.8888888888888888, \"#fdca26\"], [1.0, \"#f0f921\"]], \"sequentialminus\": [[0.0, \"#0d0887\"], [0.1111111111111111, \"#46039f\"], [0.2222222222222222, \"#7201a8\"], [0.3333333333333333, \"#9c179e\"], [0.4444444444444444, \"#bd3786\"], [0.5555555555555556, \"#d8576b\"], [0.6666666666666666, \"#ed7953\"], [0.7777777777777778, \"#fb9f3a\"], [0.8888888888888888, \"#fdca26\"], [1.0, \"#f0f921\"]]}, \"colorway\": [\"#636efa\", \"#EF553B\", \"#00cc96\", \"#ab63fa\", \"#FFA15A\", \"#19d3f3\", \"#FF6692\", \"#B6E880\", \"#FF97FF\", \"#FECB52\"], \"font\": {\"color\": \"#2a3f5f\"}, \"geo\": {\"bgcolor\": \"white\", \"lakecolor\": \"white\", \"landcolor\": \"#E5ECF6\", \"showlakes\": true, \"showland\": true, \"subunitcolor\": \"white\"}, \"hoverlabel\": {\"align\": \"left\"}, \"hovermode\": \"closest\", \"mapbox\": {\"style\": \"light\"}, \"paper_bgcolor\": \"white\", \"plot_bgcolor\": \"#E5ECF6\", \"polar\": {\"angularaxis\": {\"gridcolor\": \"white\", \"linecolor\": \"white\", \"ticks\": \"\"}, \"bgcolor\": \"#E5ECF6\", \"radialaxis\": {\"gridcolor\": \"white\", \"linecolor\": \"white\", \"ticks\": \"\"}}, \"scene\": {\"xaxis\": {\"backgroundcolor\": \"#E5ECF6\", \"gridcolor\": \"white\", \"gridwidth\": 2, \"linecolor\": \"white\", \"showbackground\": true, \"ticks\": \"\", \"zerolinecolor\": \"white\"}, \"yaxis\": {\"backgroundcolor\": \"#E5ECF6\", \"gridcolor\": \"white\", \"gridwidth\": 2, \"linecolor\": \"white\", \"showbackground\": true, \"ticks\": \"\", \"zerolinecolor\": \"white\"}, \"zaxis\": {\"backgroundcolor\": \"#E5ECF6\", \"gridcolor\": \"white\", \"gridwidth\": 2, \"linecolor\": \"white\", \"showbackground\": true, \"ticks\": \"\", \"zerolinecolor\": \"white\"}}, \"shapedefaults\": {\"line\": {\"color\": \"#2a3f5f\"}}, \"ternary\": {\"aaxis\": {\"gridcolor\": \"white\", \"linecolor\": \"white\", \"ticks\": \"\"}, \"baxis\": {\"gridcolor\": \"white\", \"linecolor\": \"white\", \"ticks\": \"\"}, \"bgcolor\": \"#E5ECF6\", \"caxis\": {\"gridcolor\": \"white\", \"linecolor\": \"white\", \"ticks\": \"\"}}, \"title\": {\"x\": 0.05}, \"xaxis\": {\"automargin\": true, \"gridcolor\": \"white\", \"linecolor\": \"white\", \"ticks\": \"\", \"title\": {\"standoff\": 15}, \"zerolinecolor\": \"white\", \"zerolinewidth\": 2}, \"yaxis\": {\"automargin\": true, \"gridcolor\": \"white\", \"linecolor\": \"white\", \"ticks\": \"\", \"title\": {\"standoff\": 15}, \"zerolinecolor\": \"white\", \"zerolinewidth\": 2}}}, \"title\": {\"text\": \"doc2vec sections\"}, \"xaxis\": {\"anchor\": \"y\", \"domain\": [0.0, 1.0], \"title\": {\"text\": \"score\"}}, \"yaxis\": {\"anchor\": \"x\", \"domain\": [0.0, 1.0], \"title\": {\"text\": \"count\"}}},\n",
              "                        {\"responsive\": true}\n",
              "                    ).then(function(){\n",
              "                            \n",
              "var gd = document.getElementById('86382b38-bf05-4e0b-81b0-80caf42622d3');\n",
              "var x = new MutationObserver(function (mutations, observer) {{\n",
              "        var display = window.getComputedStyle(gd).display;\n",
              "        if (!display || display === 'none') {{\n",
              "            console.log([gd, 'removed!']);\n",
              "            Plotly.purge(gd);\n",
              "            observer.disconnect();\n",
              "        }}\n",
              "}});\n",
              "\n",
              "// Listen for the removal of the full notebook cells\n",
              "var notebookContainer = gd.closest('#notebook-container');\n",
              "if (notebookContainer) {{\n",
              "    x.observe(notebookContainer, {childList: true});\n",
              "}}\n",
              "\n",
              "// Listen for the clearing of the current output cell\n",
              "var outputEl = gd.closest('.output');\n",
              "if (outputEl) {{\n",
              "    x.observe(outputEl, {childList: true});\n",
              "}}\n",
              "\n",
              "                        })\n",
              "                };\n",
              "                \n",
              "            </script>\n",
              "        </div>\n",
              "</body>\n",
              "</html>"
            ]
          },
          "metadata": {}
        }
      ]
    },
    {
      "cell_type": "code",
      "metadata": {
        "id": "OKeaqYxGPMZj"
      },
      "source": [
        "if use_wandb:\n",
        "  wandb.log({\"scores_hist\": fig})"
      ],
      "execution_count": 95,
      "outputs": []
    },
    {
      "cell_type": "code",
      "metadata": {
        "colab": {
          "base_uri": "https://localhost:8080/",
          "height": 1000
        },
        "id": "DgV3ccDr5Ux4",
        "outputId": "adb3ed24-3ab7-488a-9f17-610a0b3132d4"
      },
      "source": [
        "result, details = recommend_tune(df_sim, 'Perdido [jazz1350]')\n",
        "result.head(50)"
      ],
      "execution_count": 96,
      "outputs": [
        {
          "output_type": "execute_result",
          "data": {
            "text/html": [
              "<div>\n",
              "<style scoped>\n",
              "    .dataframe tbody tr th:only-of-type {\n",
              "        vertical-align: middle;\n",
              "    }\n",
              "\n",
              "    .dataframe tbody tr th {\n",
              "        vertical-align: top;\n",
              "    }\n",
              "\n",
              "    .dataframe thead th {\n",
              "        text-align: right;\n",
              "    }\n",
              "</style>\n",
              "<table border=\"1\" class=\"dataframe\">\n",
              "  <thead>\n",
              "    <tr style=\"text-align: right;\">\n",
              "      <th></th>\n",
              "      <th>index</th>\n",
              "      <th>reference</th>\n",
              "      <th>reference_titleid</th>\n",
              "      <th>similar_title</th>\n",
              "      <th>score</th>\n",
              "      <th>max</th>\n",
              "      <th>score_div_max</th>\n",
              "      <th>similar_titleid</th>\n",
              "    </tr>\n",
              "  </thead>\n",
              "  <tbody>\n",
              "    <tr>\n",
              "      <th>0</th>\n",
              "      <td>0</td>\n",
              "      <td>Perdido [jazz1350]</td>\n",
              "      <td>949</td>\n",
              "      <td>Happy Days And Lonely Nights [trad]</td>\n",
              "      <td>0.951148</td>\n",
              "      <td>0.955134</td>\n",
              "      <td>1.000000</td>\n",
              "      <td>1505</td>\n",
              "    </tr>\n",
              "    <tr>\n",
              "      <th>1</th>\n",
              "      <td>1</td>\n",
              "      <td>Perdido [jazz1350]</td>\n",
              "      <td>949</td>\n",
              "      <td>Ladies Of Calcutta, The [trad]</td>\n",
              "      <td>0.934804</td>\n",
              "      <td>0.934804</td>\n",
              "      <td>1.000000</td>\n",
              "      <td>1574</td>\n",
              "    </tr>\n",
              "    <tr>\n",
              "      <th>2</th>\n",
              "      <td>2</td>\n",
              "      <td>Perdido [jazz1350]</td>\n",
              "      <td>949</td>\n",
              "      <td>Oleo [jazz1350]</td>\n",
              "      <td>0.955134</td>\n",
              "      <td>0.955134</td>\n",
              "      <td>1.000000</td>\n",
              "      <td>899</td>\n",
              "    </tr>\n",
              "    <tr>\n",
              "      <th>3</th>\n",
              "      <td>3</td>\n",
              "      <td>Perdido [jazz1350]</td>\n",
              "      <td>949</td>\n",
              "      <td>Cool One, The [jazz1350]</td>\n",
              "      <td>0.943356</td>\n",
              "      <td>0.951148</td>\n",
              "      <td>1.000000</td>\n",
              "      <td>254</td>\n",
              "    </tr>\n",
              "    <tr>\n",
              "      <th>4</th>\n",
              "      <td>4</td>\n",
              "      <td>Perdido [jazz1350]</td>\n",
              "      <td>949</td>\n",
              "      <td>Flintstones [jazz1350]</td>\n",
              "      <td>0.954432</td>\n",
              "      <td>0.955134</td>\n",
              "      <td>0.999265</td>\n",
              "      <td>387</td>\n",
              "    </tr>\n",
              "    <tr>\n",
              "      <th>5</th>\n",
              "      <td>5</td>\n",
              "      <td>Perdido [jazz1350]</td>\n",
              "      <td>949</td>\n",
              "      <td>Deed I Do [trad]</td>\n",
              "      <td>0.952784</td>\n",
              "      <td>0.955134</td>\n",
              "      <td>0.997540</td>\n",
              "      <td>1447</td>\n",
              "    </tr>\n",
              "    <tr>\n",
              "      <th>6</th>\n",
              "      <td>6</td>\n",
              "      <td>Perdido [jazz1350]</td>\n",
              "      <td>949</td>\n",
              "      <td>Passport [jazz1350]</td>\n",
              "      <td>0.950280</td>\n",
              "      <td>0.955134</td>\n",
              "      <td>0.994918</td>\n",
              "      <td>938</td>\n",
              "    </tr>\n",
              "    <tr>\n",
              "      <th>7</th>\n",
              "      <td>7</td>\n",
              "      <td>Perdido [jazz1350]</td>\n",
              "      <td>949</td>\n",
              "      <td>I've Never Been In Love Before [jazz1350]</td>\n",
              "      <td>0.927660</td>\n",
              "      <td>0.934804</td>\n",
              "      <td>0.992358</td>\n",
              "      <td>571</td>\n",
              "    </tr>\n",
              "    <tr>\n",
              "      <th>8</th>\n",
              "      <td>8</td>\n",
              "      <td>Perdido [jazz1350]</td>\n",
              "      <td>949</td>\n",
              "      <td>I Got Rhythm [trad]</td>\n",
              "      <td>0.945473</td>\n",
              "      <td>0.955134</td>\n",
              "      <td>0.989885</td>\n",
              "      <td>1524</td>\n",
              "    </tr>\n",
              "    <tr>\n",
              "      <th>9</th>\n",
              "      <td>9</td>\n",
              "      <td>Perdido [jazz1350]</td>\n",
              "      <td>949</td>\n",
              "      <td>C.T.A. [jazz1350]</td>\n",
              "      <td>0.942960</td>\n",
              "      <td>0.955134</td>\n",
              "      <td>0.987254</td>\n",
              "      <td>211</td>\n",
              "    </tr>\n",
              "    <tr>\n",
              "      <th>10</th>\n",
              "      <td>10</td>\n",
              "      <td>Perdido [jazz1350]</td>\n",
              "      <td>949</td>\n",
              "      <td>Anthropology [jazz1350]</td>\n",
              "      <td>0.942450</td>\n",
              "      <td>0.955134</td>\n",
              "      <td>0.986720</td>\n",
              "      <td>80</td>\n",
              "    </tr>\n",
              "    <tr>\n",
              "      <th>11</th>\n",
              "      <td>11</td>\n",
              "      <td>Perdido [jazz1350]</td>\n",
              "      <td>949</td>\n",
              "      <td>Valse Hot [jazz1350]</td>\n",
              "      <td>0.928601</td>\n",
              "      <td>0.951148</td>\n",
              "      <td>0.986624</td>\n",
              "      <td>1236</td>\n",
              "    </tr>\n",
              "    <tr>\n",
              "      <th>12</th>\n",
              "      <td>12</td>\n",
              "      <td>Perdido [jazz1350]</td>\n",
              "      <td>949</td>\n",
              "      <td>Across The Alley From The Alamo [jazz1350]</td>\n",
              "      <td>0.921589</td>\n",
              "      <td>0.934804</td>\n",
              "      <td>0.985863</td>\n",
              "      <td>32</td>\n",
              "    </tr>\n",
              "    <tr>\n",
              "      <th>13</th>\n",
              "      <td>13</td>\n",
              "      <td>Perdido [jazz1350]</td>\n",
              "      <td>949</td>\n",
              "      <td>Salt Peanuts [jazz1350]</td>\n",
              "      <td>0.941288</td>\n",
              "      <td>0.955134</td>\n",
              "      <td>0.985503</td>\n",
              "      <td>1005</td>\n",
              "    </tr>\n",
              "    <tr>\n",
              "      <th>14</th>\n",
              "      <td>14</td>\n",
              "      <td>Perdido [jazz1350]</td>\n",
              "      <td>949</td>\n",
              "      <td>Should I Reveal [trad]</td>\n",
              "      <td>0.920883</td>\n",
              "      <td>0.934804</td>\n",
              "      <td>0.985108</td>\n",
              "      <td>1693</td>\n",
              "    </tr>\n",
              "    <tr>\n",
              "      <th>15</th>\n",
              "      <td>15</td>\n",
              "      <td>Perdido [jazz1350]</td>\n",
              "      <td>949</td>\n",
              "      <td>My Secret Love [jazz1350]</td>\n",
              "      <td>0.919883</td>\n",
              "      <td>0.934804</td>\n",
              "      <td>0.984038</td>\n",
              "      <td>853</td>\n",
              "    </tr>\n",
              "    <tr>\n",
              "      <th>16</th>\n",
              "      <td>16</td>\n",
              "      <td>Perdido [jazz1350]</td>\n",
              "      <td>949</td>\n",
              "      <td>Ac-Cent-Tchu-Ate The Positive [jazz1350]</td>\n",
              "      <td>0.919141</td>\n",
              "      <td>0.934804</td>\n",
              "      <td>0.983244</td>\n",
              "      <td>31</td>\n",
              "    </tr>\n",
              "    <tr>\n",
              "      <th>17</th>\n",
              "      <td>17</td>\n",
              "      <td>Perdido [jazz1350]</td>\n",
              "      <td>949</td>\n",
              "      <td>You Can Depend On Me [trad]</td>\n",
              "      <td>0.916762</td>\n",
              "      <td>0.934804</td>\n",
              "      <td>0.980699</td>\n",
              "      <td>1797</td>\n",
              "    </tr>\n",
              "    <tr>\n",
              "      <th>18</th>\n",
              "      <td>18</td>\n",
              "      <td>Perdido [jazz1350]</td>\n",
              "      <td>949</td>\n",
              "      <td>Avalon [jazz1350]</td>\n",
              "      <td>0.932666</td>\n",
              "      <td>0.951148</td>\n",
              "      <td>0.980569</td>\n",
              "      <td>98</td>\n",
              "    </tr>\n",
              "    <tr>\n",
              "      <th>19</th>\n",
              "      <td>19</td>\n",
              "      <td>Perdido [jazz1350]</td>\n",
              "      <td>949</td>\n",
              "      <td>Cherry Pink And Apple Blossom White [trad]</td>\n",
              "      <td>0.914757</td>\n",
              "      <td>0.934804</td>\n",
              "      <td>0.978554</td>\n",
              "      <td>1425</td>\n",
              "    </tr>\n",
              "    <tr>\n",
              "      <th>20</th>\n",
              "      <td>20</td>\n",
              "      <td>Perdido [jazz1350]</td>\n",
              "      <td>949</td>\n",
              "      <td>My Little Suede Shoes [jazz1350]</td>\n",
              "      <td>0.914050</td>\n",
              "      <td>0.934804</td>\n",
              "      <td>0.977798</td>\n",
              "      <td>846</td>\n",
              "    </tr>\n",
              "    <tr>\n",
              "      <th>21</th>\n",
              "      <td>21</td>\n",
              "      <td>Perdido [jazz1350]</td>\n",
              "      <td>949</td>\n",
              "      <td>No Moe [jazz1350]</td>\n",
              "      <td>0.932468</td>\n",
              "      <td>0.955134</td>\n",
              "      <td>0.976270</td>\n",
              "      <td>878</td>\n",
              "    </tr>\n",
              "    <tr>\n",
              "      <th>22</th>\n",
              "      <td>22</td>\n",
              "      <td>Perdido [jazz1350]</td>\n",
              "      <td>949</td>\n",
              "      <td>So Many Stars [jazz1350]</td>\n",
              "      <td>0.910626</td>\n",
              "      <td>0.934804</td>\n",
              "      <td>0.974135</td>\n",
              "      <td>1056</td>\n",
              "    </tr>\n",
              "    <tr>\n",
              "      <th>23</th>\n",
              "      <td>23</td>\n",
              "      <td>Perdido [jazz1350]</td>\n",
              "      <td>949</td>\n",
              "      <td>Confessin' (That I Love You) [jazz1350]</td>\n",
              "      <td>0.910563</td>\n",
              "      <td>0.934804</td>\n",
              "      <td>0.974068</td>\n",
              "      <td>250</td>\n",
              "    </tr>\n",
              "    <tr>\n",
              "      <th>24</th>\n",
              "      <td>24</td>\n",
              "      <td>Perdido [jazz1350]</td>\n",
              "      <td>949</td>\n",
              "      <td>Cottage For Sale [jazz1350]</td>\n",
              "      <td>0.929373</td>\n",
              "      <td>0.955134</td>\n",
              "      <td>0.973029</td>\n",
              "      <td>259</td>\n",
              "    </tr>\n",
              "    <tr>\n",
              "      <th>25</th>\n",
              "      <td>25</td>\n",
              "      <td>Perdido [jazz1350]</td>\n",
              "      <td>949</td>\n",
              "      <td>Robbin's Nest [jazz1350]</td>\n",
              "      <td>0.928967</td>\n",
              "      <td>0.955134</td>\n",
              "      <td>0.972604</td>\n",
              "      <td>992</td>\n",
              "    </tr>\n",
              "    <tr>\n",
              "      <th>26</th>\n",
              "      <td>26</td>\n",
              "      <td>Perdido [jazz1350]</td>\n",
              "      <td>949</td>\n",
              "      <td>Yes Sir, That's My Baby [trad]</td>\n",
              "      <td>0.907994</td>\n",
              "      <td>0.934804</td>\n",
              "      <td>0.971319</td>\n",
              "      <td>1791</td>\n",
              "    </tr>\n",
              "    <tr>\n",
              "      <th>27</th>\n",
              "      <td>27</td>\n",
              "      <td>Perdido [jazz1350]</td>\n",
              "      <td>949</td>\n",
              "      <td>You Broke Your Promise [trad]</td>\n",
              "      <td>0.907861</td>\n",
              "      <td>0.934804</td>\n",
              "      <td>0.971177</td>\n",
              "      <td>1796</td>\n",
              "    </tr>\n",
              "    <tr>\n",
              "      <th>28</th>\n",
              "      <td>28</td>\n",
              "      <td>Perdido [jazz1350]</td>\n",
              "      <td>949</td>\n",
              "      <td>Theme, The [jazz1350]</td>\n",
              "      <td>0.927218</td>\n",
              "      <td>0.955134</td>\n",
              "      <td>0.970773</td>\n",
              "      <td>1161</td>\n",
              "    </tr>\n",
              "    <tr>\n",
              "      <th>29</th>\n",
              "      <td>29</td>\n",
              "      <td>Perdido [jazz1350]</td>\n",
              "      <td>949</td>\n",
              "      <td>I Get A Kick Out Of You [jazz1350]</td>\n",
              "      <td>0.906172</td>\n",
              "      <td>0.941191</td>\n",
              "      <td>0.969370</td>\n",
              "      <td>502</td>\n",
              "    </tr>\n",
              "    <tr>\n",
              "      <th>30</th>\n",
              "      <td>30</td>\n",
              "      <td>Perdido [jazz1350]</td>\n",
              "      <td>949</td>\n",
              "      <td>S'posin' [jazz1350]</td>\n",
              "      <td>0.905431</td>\n",
              "      <td>0.934804</td>\n",
              "      <td>0.968578</td>\n",
              "      <td>1001</td>\n",
              "    </tr>\n",
              "    <tr>\n",
              "      <th>31</th>\n",
              "      <td>31</td>\n",
              "      <td>Perdido [jazz1350]</td>\n",
              "      <td>949</td>\n",
              "      <td>I Want To Be Happy [trad]</td>\n",
              "      <td>0.904115</td>\n",
              "      <td>0.934804</td>\n",
              "      <td>0.967170</td>\n",
              "      <td>1531</td>\n",
              "    </tr>\n",
              "    <tr>\n",
              "      <th>32</th>\n",
              "      <td>32</td>\n",
              "      <td>Perdido [jazz1350]</td>\n",
              "      <td>949</td>\n",
              "      <td>I Got Rhythm [jazz1350]</td>\n",
              "      <td>0.922750</td>\n",
              "      <td>0.955134</td>\n",
              "      <td>0.966094</td>\n",
              "      <td>505</td>\n",
              "    </tr>\n",
              "    <tr>\n",
              "      <th>33</th>\n",
              "      <td>33</td>\n",
              "      <td>Perdido [jazz1350]</td>\n",
              "      <td>949</td>\n",
              "      <td>Mambo Inn [jazz1350]</td>\n",
              "      <td>0.902545</td>\n",
              "      <td>0.934804</td>\n",
              "      <td>0.965491</td>\n",
              "      <td>770</td>\n",
              "    </tr>\n",
              "    <tr>\n",
              "      <th>34</th>\n",
              "      <td>34</td>\n",
              "      <td>Perdido [jazz1350]</td>\n",
              "      <td>949</td>\n",
              "      <td>Dexterity [jazz1350]</td>\n",
              "      <td>0.921852</td>\n",
              "      <td>0.955134</td>\n",
              "      <td>0.965155</td>\n",
              "      <td>304</td>\n",
              "    </tr>\n",
              "    <tr>\n",
              "      <th>35</th>\n",
              "      <td>35</td>\n",
              "      <td>Perdido [jazz1350]</td>\n",
              "      <td>949</td>\n",
              "      <td>Sometimes I'm Happy [jazz1350]</td>\n",
              "      <td>0.908344</td>\n",
              "      <td>0.941191</td>\n",
              "      <td>0.965101</td>\n",
              "      <td>1073</td>\n",
              "    </tr>\n",
              "    <tr>\n",
              "      <th>36</th>\n",
              "      <td>36</td>\n",
              "      <td>Perdido [jazz1350]</td>\n",
              "      <td>949</td>\n",
              "      <td>Don't Take Your Love From Me [jazz1350]</td>\n",
              "      <td>0.902008</td>\n",
              "      <td>0.934804</td>\n",
              "      <td>0.964917</td>\n",
              "      <td>326</td>\n",
              "    </tr>\n",
              "    <tr>\n",
              "      <th>37</th>\n",
              "      <td>37</td>\n",
              "      <td>Perdido [jazz1350]</td>\n",
              "      <td>949</td>\n",
              "      <td>Under A Blanket Of Blue [jazz1350]</td>\n",
              "      <td>0.907364</td>\n",
              "      <td>0.941191</td>\n",
              "      <td>0.964060</td>\n",
              "      <td>1227</td>\n",
              "    </tr>\n",
              "    <tr>\n",
              "      <th>38</th>\n",
              "      <td>38</td>\n",
              "      <td>Perdido [jazz1350]</td>\n",
              "      <td>949</td>\n",
              "      <td>I Can't Believe...You're In Love... [jazz1350]</td>\n",
              "      <td>0.916435</td>\n",
              "      <td>0.955134</td>\n",
              "      <td>0.959483</td>\n",
              "      <td>488</td>\n",
              "    </tr>\n",
              "    <tr>\n",
              "      <th>39</th>\n",
              "      <td>39</td>\n",
              "      <td>Perdido [jazz1350]</td>\n",
              "      <td>949</td>\n",
              "      <td>All My Tomorrows [jazz1350]</td>\n",
              "      <td>0.912369</td>\n",
              "      <td>0.951148</td>\n",
              "      <td>0.959230</td>\n",
              "      <td>58</td>\n",
              "    </tr>\n",
              "    <tr>\n",
              "      <th>40</th>\n",
              "      <td>40</td>\n",
              "      <td>Perdido [jazz1350]</td>\n",
              "      <td>949</td>\n",
              "      <td>Thriving From A Riff [jazz1350]</td>\n",
              "      <td>0.914451</td>\n",
              "      <td>0.955134</td>\n",
              "      <td>0.957406</td>\n",
              "      <td>1188</td>\n",
              "    </tr>\n",
              "    <tr>\n",
              "      <th>41</th>\n",
              "      <td>41</td>\n",
              "      <td>Perdido [jazz1350]</td>\n",
              "      <td>949</td>\n",
              "      <td>A Tisket A Tasket [jazz1350]</td>\n",
              "      <td>0.900674</td>\n",
              "      <td>0.951148</td>\n",
              "      <td>0.956951</td>\n",
              "      <td>27</td>\n",
              "    </tr>\n",
              "    <tr>\n",
              "      <th>42</th>\n",
              "      <td>42</td>\n",
              "      <td>Perdido [jazz1350]</td>\n",
              "      <td>949</td>\n",
              "      <td>Sunday [trad]</td>\n",
              "      <td>0.911088</td>\n",
              "      <td>0.955134</td>\n",
              "      <td>0.953885</td>\n",
              "      <td>1724</td>\n",
              "    </tr>\n",
              "    <tr>\n",
              "      <th>43</th>\n",
              "      <td>43</td>\n",
              "      <td>Perdido [jazz1350]</td>\n",
              "      <td>949</td>\n",
              "      <td>Forever Sonny [jazz1350]</td>\n",
              "      <td>0.909317</td>\n",
              "      <td>0.955134</td>\n",
              "      <td>0.952031</td>\n",
              "      <td>401</td>\n",
              "    </tr>\n",
              "    <tr>\n",
              "      <th>44</th>\n",
              "      <td>44</td>\n",
              "      <td>Perdido [jazz1350]</td>\n",
              "      <td>949</td>\n",
              "      <td>Lady is a Tramp, The [jazz1350]</td>\n",
              "      <td>0.904814</td>\n",
              "      <td>0.951148</td>\n",
              "      <td>0.951287</td>\n",
              "      <td>683</td>\n",
              "    </tr>\n",
              "    <tr>\n",
              "      <th>45</th>\n",
              "      <td>45</td>\n",
              "      <td>Perdido [jazz1350]</td>\n",
              "      <td>949</td>\n",
              "      <td>I'm Confessin' That I Love You [jazz1350]</td>\n",
              "      <td>0.890967</td>\n",
              "      <td>0.941191</td>\n",
              "      <td>0.946638</td>\n",
              "      <td>554</td>\n",
              "    </tr>\n",
              "    <tr>\n",
              "      <th>46</th>\n",
              "      <td>46</td>\n",
              "      <td>Perdido [jazz1350]</td>\n",
              "      <td>949</td>\n",
              "      <td>Little Peace In C For You [jazz1350]</td>\n",
              "      <td>0.901901</td>\n",
              "      <td>0.955134</td>\n",
              "      <td>0.944267</td>\n",
              "      <td>729</td>\n",
              "    </tr>\n",
              "    <tr>\n",
              "      <th>47</th>\n",
              "      <td>47</td>\n",
              "      <td>Perdido [jazz1350]</td>\n",
              "      <td>949</td>\n",
              "      <td>Crazy He Calls Me [jazz1350]</td>\n",
              "      <td>0.882352</td>\n",
              "      <td>0.941191</td>\n",
              "      <td>0.937484</td>\n",
              "      <td>265</td>\n",
              "    </tr>\n",
              "    <tr>\n",
              "      <th>48</th>\n",
              "      <td>48</td>\n",
              "      <td>Perdido [jazz1350]</td>\n",
              "      <td>949</td>\n",
              "      <td>Fantasy in D (or Ugetsu) [jazz1350]</td>\n",
              "      <td>0.886777</td>\n",
              "      <td>0.951148</td>\n",
              "      <td>0.932323</td>\n",
              "      <td>374</td>\n",
              "    </tr>\n",
              "    <tr>\n",
              "      <th>49</th>\n",
              "      <td>49</td>\n",
              "      <td>Perdido [jazz1350]</td>\n",
              "      <td>949</td>\n",
              "      <td>Webb City [jazz1350]</td>\n",
              "      <td>0.885352</td>\n",
              "      <td>0.951148</td>\n",
              "      <td>0.930825</td>\n",
              "      <td>1258</td>\n",
              "    </tr>\n",
              "  </tbody>\n",
              "</table>\n",
              "</div>"
            ],
            "text/plain": [
              "    index           reference  ...  score_div_max similar_titleid\n",
              "0       0  Perdido [jazz1350]  ...       1.000000            1505\n",
              "1       1  Perdido [jazz1350]  ...       1.000000            1574\n",
              "2       2  Perdido [jazz1350]  ...       1.000000             899\n",
              "3       3  Perdido [jazz1350]  ...       1.000000             254\n",
              "4       4  Perdido [jazz1350]  ...       0.999265             387\n",
              "5       5  Perdido [jazz1350]  ...       0.997540            1447\n",
              "6       6  Perdido [jazz1350]  ...       0.994918             938\n",
              "7       7  Perdido [jazz1350]  ...       0.992358             571\n",
              "8       8  Perdido [jazz1350]  ...       0.989885            1524\n",
              "9       9  Perdido [jazz1350]  ...       0.987254             211\n",
              "10     10  Perdido [jazz1350]  ...       0.986720              80\n",
              "11     11  Perdido [jazz1350]  ...       0.986624            1236\n",
              "12     12  Perdido [jazz1350]  ...       0.985863              32\n",
              "13     13  Perdido [jazz1350]  ...       0.985503            1005\n",
              "14     14  Perdido [jazz1350]  ...       0.985108            1693\n",
              "15     15  Perdido [jazz1350]  ...       0.984038             853\n",
              "16     16  Perdido [jazz1350]  ...       0.983244              31\n",
              "17     17  Perdido [jazz1350]  ...       0.980699            1797\n",
              "18     18  Perdido [jazz1350]  ...       0.980569              98\n",
              "19     19  Perdido [jazz1350]  ...       0.978554            1425\n",
              "20     20  Perdido [jazz1350]  ...       0.977798             846\n",
              "21     21  Perdido [jazz1350]  ...       0.976270             878\n",
              "22     22  Perdido [jazz1350]  ...       0.974135            1056\n",
              "23     23  Perdido [jazz1350]  ...       0.974068             250\n",
              "24     24  Perdido [jazz1350]  ...       0.973029             259\n",
              "25     25  Perdido [jazz1350]  ...       0.972604             992\n",
              "26     26  Perdido [jazz1350]  ...       0.971319            1791\n",
              "27     27  Perdido [jazz1350]  ...       0.971177            1796\n",
              "28     28  Perdido [jazz1350]  ...       0.970773            1161\n",
              "29     29  Perdido [jazz1350]  ...       0.969370             502\n",
              "30     30  Perdido [jazz1350]  ...       0.968578            1001\n",
              "31     31  Perdido [jazz1350]  ...       0.967170            1531\n",
              "32     32  Perdido [jazz1350]  ...       0.966094             505\n",
              "33     33  Perdido [jazz1350]  ...       0.965491             770\n",
              "34     34  Perdido [jazz1350]  ...       0.965155             304\n",
              "35     35  Perdido [jazz1350]  ...       0.965101            1073\n",
              "36     36  Perdido [jazz1350]  ...       0.964917             326\n",
              "37     37  Perdido [jazz1350]  ...       0.964060            1227\n",
              "38     38  Perdido [jazz1350]  ...       0.959483             488\n",
              "39     39  Perdido [jazz1350]  ...       0.959230              58\n",
              "40     40  Perdido [jazz1350]  ...       0.957406            1188\n",
              "41     41  Perdido [jazz1350]  ...       0.956951              27\n",
              "42     42  Perdido [jazz1350]  ...       0.953885            1724\n",
              "43     43  Perdido [jazz1350]  ...       0.952031             401\n",
              "44     44  Perdido [jazz1350]  ...       0.951287             683\n",
              "45     45  Perdido [jazz1350]  ...       0.946638             554\n",
              "46     46  Perdido [jazz1350]  ...       0.944267             729\n",
              "47     47  Perdido [jazz1350]  ...       0.937484             265\n",
              "48     48  Perdido [jazz1350]  ...       0.932323             374\n",
              "49     49  Perdido [jazz1350]  ...       0.930825            1258\n",
              "\n",
              "[50 rows x 8 columns]"
            ]
          },
          "metadata": {},
          "execution_count": 96
        }
      ]
    },
    {
      "cell_type": "code",
      "metadata": {
        "id": "hLFaFo62XlMS",
        "colab": {
          "base_uri": "https://localhost:8080/"
        },
        "outputId": "4d24ee7d-acce-437d-99e6-583b39de5b55"
      },
      "source": [
        "dd = pd.DataFrame(columns = recommender_results_cols)\n",
        "\n",
        "for tune in tunes_eval_list:\n",
        "  result, details = recommend_tune(df_sim, tune)\n",
        "  dd['id'] = result['index']\n",
        "  dd['reference'] = tune\n",
        "  dd['method'] = 'doc2vec'\n",
        "  dd['similar'] = result['similar_title']\n",
        "  dd['score_div_max'] = result['score_div_max']\n",
        "  dd['score'] = result['score']\n",
        "\n",
        "recommender_results = recommender_results.append(dd)\n",
        "len(recommender_results)"
      ],
      "execution_count": 97,
      "outputs": [
        {
          "output_type": "execute_result",
          "data": {
            "text/plain": [
              "152"
            ]
          },
          "metadata": {},
          "execution_count": 97
        }
      ]
    },
    {
      "cell_type": "markdown",
      "metadata": {
        "id": "aosPKEWljlm0"
      },
      "source": [
        "### Contrafacts"
      ]
    },
    {
      "cell_type": "code",
      "metadata": {
        "id": "SaYSqTJokGc5"
      },
      "source": [
        "def test_doc2vec_contrafacts(tunes, N=15):\n",
        "  matches = 0\n",
        "  number_of_sections = 0\n",
        "  results = {}\n",
        "\n",
        "  for tune, similar_tune in contrafacts:\n",
        "    \n",
        "    # loop over all sections of the tune\n",
        "    sub_match = 0\n",
        "    for s1 in title_to_sectionid[tune]:\n",
        "      sims = model.dv.similar_by_key(s1, topn=N)\n",
        "      # check if the section matches the expected title; consider only the first 15 recommendations\n",
        "      i = 0\n",
        "      for match, value in sims:\n",
        "        # tune match\n",
        "        if (type(match) == str):\n",
        "          titleid = int(match.replace('titleid_', ''))\n",
        "          if titleid_to_title[titleid] == similar_tune:\n",
        "            sub_match += 1\n",
        "\n",
        "        # section match\n",
        "        else:\n",
        "          if sectionid_to_title[match] == similar_tune:\n",
        "            sub_match += 1\n",
        "\n",
        "    # for each title, increase matches if at least one of the section matched the expected title\n",
        "    if sub_match > 0:\n",
        "      matches += 1  \n",
        "      results[f'{tune}, {similar_tune}'] = 1\n",
        "    else:\n",
        "      results[f'{tune}, {similar_tune}'] = 0\n",
        "  \n",
        "  return matches, results"
      ],
      "execution_count": 98,
      "outputs": []
    },
    {
      "cell_type": "code",
      "metadata": {
        "colab": {
          "base_uri": "https://localhost:8080/"
        },
        "id": "eAjM3lU4ltzP",
        "outputId": "4c4b7d69-a2fe-423d-f1e0-63244d8e74fe"
      },
      "source": [
        "topN = 15\n",
        "matches, results = test_doc2vec_contrafacts(contrafacts, topN)\n",
        "\n",
        "[print(f\"{val}: {rr}\") for rr, val in results.items()] \n",
        "print() \n",
        "print(f\"Found matches: {matches} out of {len(results)}: {100*matches/len(results):.3f}%\")"
      ],
      "execution_count": 99,
      "outputs": [
        {
          "output_type": "stream",
          "name": "stdout",
          "text": [
            "0: 26-2 [jazz1350], Confirmation [jazz1350]\n",
            "0: 52nd Street Theme [jazz1350], I Got Rhythm [jazz1350]\n",
            "1: Ablution [jazz1350], All The Things You Are [jazz1350]\n",
            "1: Anthropology [jazz1350], I Got Rhythm [jazz1350]\n",
            "1: Ballade [jazz1350], As Long As I Live [jazz1350]\n",
            "1: Bright Mississippi [jazz1350], Sweet Georgia Brown [jazz1350]\n",
            "1: C.T.A. [jazz1350], I Got Rhythm [jazz1350]\n",
            "1: Cottontail [jazz1350], I Got Rhythm [jazz1350]\n",
            "0: Countdown [jazz1350], Tune Up [jazz1350]\n",
            "0: Dewey Square [jazz1350], Oh, Lady Be Good [jazz1350]\n",
            "0: Dexterity [jazz1350], I Got Rhythm [jazz1350]\n",
            "1: Dig [jazz1350], Sweet Georgia Brown [jazz1350]\n",
            "1: Donna Lee [jazz1350], Indiana (Back Home Again In) [jazz1350]\n",
            "0: Don't Be That Way [jazz1350], I Got Rhythm [jazz1350]\n",
            "1: Evidence [jazz1350], Just You, Just Me [jazz1350]\n",
            "0: Flintstones [jazz1350], I Got Rhythm [jazz1350]\n",
            "0: Four On Six [jazz1350], Summertime [jazz1350]\n",
            "0: Freight Train [jazz1350], Blues For Alice [jazz1350]\n",
            "0: Good Bait [jazz1350], I Got Rhythm [jazz1350]\n",
            "1: Hackensack [jazz1350], Oh, Lady Be Good [jazz1350]\n",
            "1: Half Nelson [jazz1350], Lady Bird [jazz1350]\n",
            "1: Hot House [jazz1350], What Is This Thing Called Love [jazz1350]\n",
            "1: Impressions [jazz1350], So What [jazz1350]\n",
            "1: In A Mellow Tone (In A Mellotone) [jazz1350], Rose Room [jazz1350]\n",
            "1: In Walked Bud [jazz1350], Blue Skies [jazz1350]\n",
            "1: Ko Ko [jazz1350], Cherokee [jazz1350]\n",
            "0: Lennie's Pennies [jazz1350], Pennies From Heaven [jazz1350]\n",
            "0: Little Rootie Tootie [jazz1350], I Got Rhythm [jazz1350]\n",
            "0: Little Willie Leaps [jazz1350], All God's Chillun Got Rhythm [jazz1350]\n",
            "0: Lullaby Of Birdland [jazz1350], Love Me Or Leave Me [jazz1350]\n",
            "0: My Little Suede Shoes [jazz1350], Jeepers Creepers [jazz1350]\n",
            "1: Ornithology [jazz1350], How High The Moon [jazz1350]\n",
            "1: Quasimodo (Theme) [jazz1350], Embraceable You [jazz1350]\n",
            "0: Room 608 [jazz1350], I Got Rhythm [jazz1350]\n",
            "1: Satellite [jazz1350], How High The Moon [jazz1350]\n",
            "0: Scrapple From The Apple [jazz1350], Honeysuckle Rose [jazz1350]\n",
            "0: Scrapple From The Apple [jazz1350], I Got Rhythm [jazz1350]\n",
            "0: Tour De Force [jazz1350], Jeepers Creepers [jazz1350]\n",
            "1: Wow [jazz1350], You Can Depend On Me [jazz1350]\n",
            "1: Yardbird Suite [jazz1350], Rosetta [jazz1350]\n",
            "0: Sweet Sue, Just You [jazz1350], Honeysuckle Rose [jazz1350]\n",
            "0: Sweet Sue, Just You [jazz1350], Bye Bye Blackbird [jazz1350]\n",
            "0: These Foolish Things [jazz1350], Blue Moon [jazz1350]\n",
            "0: These Foolish Things [jazz1350], More Than You Know [jazz1350]\n",
            "1: These Foolish Things [jazz1350], Isn't It A Pity [jazz1350]\n",
            "0: These Foolish Things [jazz1350], Soultrain [jazz1350]\n",
            "0: These Foolish Things [jazz1350], Why Do I Love You [jazz1350]\n",
            "1: Misty [jazz1350], Portrait Of Jennie [jazz1350]\n",
            "1: Misty [jazz1350], September In The Rain [jazz1350]\n",
            "0: Misty [jazz1350], I May Be Wrong [jazz1350]\n",
            "\n",
            "Found matches: 24 out of 50: 48.000%\n"
          ]
        }
      ]
    },
    {
      "cell_type": "code",
      "metadata": {
        "id": "8C0kzj0Jp425"
      },
      "source": [
        "model_name = 'doc2vec'\n",
        "if use_wandb:\n",
        "  wandb.log(\n",
        "      {model_name: {\n",
        "                'contrafacts': {\n",
        "                    'topN': topN,\n",
        "                    'success': matches/len(contrafacts),\n",
        "                    #'results': results\n",
        "                    }\n",
        "                   },\n",
        "       'all_models': {\n",
        "           model_name: wandb.Table(\n",
        "               columns=[\"Title\", \"Match\"],\n",
        "               data=[[key, value] for key, value in results.items()]),\n",
        "       }\n",
        "       })"
      ],
      "execution_count": 100,
      "outputs": []
    },
    {
      "cell_type": "markdown",
      "metadata": {
        "id": "_UzVV5yn4Q-K"
      },
      "source": [
        "### Save Results for WebApp"
      ]
    },
    {
      "cell_type": "code",
      "metadata": {
        "colab": {
          "base_uri": "https://localhost:8080/"
        },
        "id": "vqxX8YaWsyh7",
        "outputId": "a33ddb32-900d-40c0-9579-50984470c9c6"
      },
      "source": [
        "%%time\n",
        "if generate_webapp_data:\n",
        "  _tunes = list(tunes['title_playlist'].values())\n",
        "\n",
        "  df_sim = get_section_scores_doc2vec(_tunes)\n",
        "\n",
        "  result = None\n",
        "  for tune in _tunes:\n",
        "    tune_result, details = recommend_tune(df_sim, tune)\n",
        "    if result is None:\n",
        "      result = pd.DataFrame(columns=tune_result.columns)\n",
        "    result = result.append(tune_result)\n",
        "\n",
        "  print(f\"Result has {len(result)} rows.\")\n",
        "\n",
        "  # save to file\n",
        "  result.to_csv('output/recommender_doc2vec.csv', sep='\\t', encoding='utf8')\n",
        "\n",
        "  # save to W&B\n",
        "  if use_wandb:\n",
        "    model_artifact = wandb.Artifact(\n",
        "        \"recommender_doc2vec\", \n",
        "        type=\"csv\",\n",
        "        description=\"Recommendations for each Tune using doc2vec Model (csv file)\",\n",
        "        metadata=\"\")\n",
        "\n",
        "    model_artifact.add_file('output/recommender_doc2vec.csv')\n",
        "    wandb.log_artifact(model_artifact)"
      ],
      "execution_count": 101,
      "outputs": [
        {
          "output_type": "stream",
          "name": "stdout",
          "text": [
            "CPU times: user 3 µs, sys: 1 µs, total: 4 µs\n",
            "Wall time: 8.11 µs\n"
          ]
        }
      ]
    },
    {
      "cell_type": "markdown",
      "metadata": {
        "id": "XmDZT5t7gjgV"
      },
      "source": [
        "# Venn diagrams for Results"
      ]
    },
    {
      "cell_type": "code",
      "metadata": {
        "id": "U6WrsBcc00ar"
      },
      "source": [
        "import matplotlib.pyplot as plt\n",
        "from matplotlib_venn import venn3\n",
        "\n",
        "if False:\n",
        "  for tune in tunes_eval_list:\n",
        "    df, details = recommend_tune(df_tfidf, tune)\n",
        "    tfidf_tunes = list(df.head(30).loc[:,'similar_title'])\n",
        "\n",
        "    df, details = recommend_tune(df_lsi, tune)\n",
        "    lsi_tunes = list(df.head(30).loc[:,'similar_title'])\n",
        "\n",
        "    df, details = recommend_tune(df_doc2vec, tune)\n",
        "    word2vec_tunes = list(df.head(30).loc[:,'similar_title'])\n",
        "\n",
        "    set_tfidf = set(tfidf_tunes)\n",
        "    set_lsi = set(lsi_tunes)\n",
        "    set_word2vec = set(word2vec_tunes)\n",
        "\n",
        "    venn3([set_tfidf, set_lsi, set_word2vec], \n",
        "          set_labels=('TF-IDF', 'LSI', 'Doc2Vec'),\n",
        "          )\n",
        "    plt.title(f\"{tune}\")\n",
        "    plt.savefig('plot.png')\n",
        "    \n",
        "    if use_wandb:\n",
        "      wandb.log({\"venn_methods\": wandb.Image('plot.png')})\n",
        "    \n",
        "    plt.show()"
      ],
      "execution_count": 102,
      "outputs": []
    },
    {
      "cell_type": "markdown",
      "metadata": {
        "id": "RhOWHSEU0DQH"
      },
      "source": [
        "# W&B Logging and Finish"
      ]
    },
    {
      "cell_type": "code",
      "metadata": {
        "id": "YMUDRHkm0aMV",
        "colab": {
          "base_uri": "https://localhost:8080/",
          "height": 125,
          "referenced_widgets": [
            "c69a692b561e44d3bd552986dd596479",
            "3748e94fd61b4598b95e87efd122f536",
            "c1349a4b6afb42cfbb401120c9e5cf49",
            "a4a9a6b106ca4ebdb39da163f20ed750",
            "1ed0ca85fa5f47f5b54b5b8c0197ef57",
            "f4f143ab2219484eaafae9f78974afa7",
            "3ec7056efb01445683d9b4d0f32f6df5",
            "31915b8cbb1c4abaa1d24280eed9f9a5"
          ]
        },
        "outputId": "68ab4c5c-4e2d-4b3f-f8e3-f03481d417ce"
      },
      "source": [
        "if use_wandb:\n",
        "  wandb.finish()"
      ],
      "execution_count": 103,
      "outputs": [
        {
          "output_type": "display_data",
          "data": {
            "text/html": [
              "<br/>Waiting for W&B process to finish, PID 873... <strong style=\"color:green\">(success).</strong>"
            ],
            "text/plain": [
              "<IPython.core.display.HTML object>"
            ]
          },
          "metadata": {}
        },
        {
          "output_type": "display_data",
          "data": {
            "application/vnd.jupyter.widget-view+json": {
              "model_id": "c69a692b561e44d3bd552986dd596479",
              "version_minor": 0,
              "version_major": 2
            },
            "text/plain": [
              "VBox(children=(Label(value=' 3.50MB of 3.50MB uploaded (0.00MB deduped)\\r'), FloatProgress(value=1.0, max=1.0)…"
            ]
          },
          "metadata": {}
        },
        {
          "output_type": "display_data",
          "data": {
            "text/html": [
              "<style>\n",
              "    table.wandb td:nth-child(1) { padding: 0 10px; text-align: right }\n",
              "    .wandb-row { display: flex; flex-direction: row; flex-wrap: wrap; width: 100% }\n",
              "    .wandb-col { display: flex; flex-direction: column; flex-basis: 100%; flex: 1; padding: 10px; }\n",
              "    </style>\n",
              "<div class=\"wandb-row\"><div class=\"wandb-col\">\n",
              "</div><div class=\"wandb-col\">\n",
              "</div></div>\n",
              "Synced 5 W&B file(s), 7 media file(s), 9 artifact file(s) and 0 other file(s)\n",
              "<br/>Synced <strong style=\"color:#cdcd00\">devout-glade-11</strong>: <a href=\"https://wandb.ai/doris/jazztunes/runs/1id1g79o\" target=\"_blank\">https://wandb.ai/doris/jazztunes/runs/1id1g79o</a><br/>\n",
              "Find logs at: <code>./wandb/run-20211128_071212-1id1g79o/logs</code><br/>\n"
            ],
            "text/plain": [
              "<IPython.core.display.HTML object>"
            ]
          },
          "metadata": {}
        }
      ]
    },
    {
      "cell_type": "code",
      "metadata": {
        "id": "Vn_SFyKt0bYx"
      },
      "source": [
        "\n"
      ],
      "execution_count": 103,
      "outputs": []
    },
    {
      "cell_type": "code",
      "metadata": {
        "id": "OaSXwXe9ptGr"
      },
      "source": [
        ""
      ],
      "execution_count": 103,
      "outputs": []
    }
  ]
}