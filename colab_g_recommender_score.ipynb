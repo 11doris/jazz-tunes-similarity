{
  "nbformat": 4,
  "nbformat_minor": 0,
  "metadata": {
    "colab": {
      "name": "colab_g_recommender_score",
      "provenance": [],
      "toc_visible": true,
      "authorship_tag": "ABX9TyM3qKZCnwUBCB2d2IESU16w",
      "include_colab_link": true
    },
    "kernelspec": {
      "name": "python3",
      "display_name": "Python 3"
    },
    "language_info": {
      "name": "python"
    },
    "accelerator": "TPU"
  },
  "cells": [
    {
      "cell_type": "markdown",
      "metadata": {
        "id": "view-in-github",
        "colab_type": "text"
      },
      "source": [
        "<a href=\"https://colab.research.google.com/github/11doris/jazz-maestro/blob/colab_word_embeddings/colab_g_recommender_score.ipynb\" target=\"_parent\"><img src=\"https://colab.research.google.com/assets/colab-badge.svg\" alt=\"Open In Colab\"/></a>"
      ]
    },
    {
      "cell_type": "markdown",
      "metadata": {
        "id": "YGhakKpa8Dtf"
      },
      "source": [
        "# Sections as Input"
      ]
    },
    {
      "cell_type": "code",
      "metadata": {
        "colab": {
          "base_uri": "https://localhost:8080/"
        },
        "id": "dm5QehpXxo31",
        "outputId": "3921daf2-e01b-4597-d0f6-21c934062a91"
      },
      "source": [
        "pip install wandb"
      ],
      "execution_count": 1,
      "outputs": [
        {
          "output_type": "stream",
          "name": "stdout",
          "text": [
            "Collecting wandb\n",
            "  Downloading wandb-0.12.7-py2.py3-none-any.whl (1.7 MB)\n",
            "\u001b[?25l\r\u001b[K     |▏                               | 10 kB 21.2 MB/s eta 0:00:01\r\u001b[K     |▍                               | 20 kB 17.8 MB/s eta 0:00:01\r\u001b[K     |▋                               | 30 kB 21.7 MB/s eta 0:00:01\r\u001b[K     |▊                               | 40 kB 23.4 MB/s eta 0:00:01\r\u001b[K     |█                               | 51 kB 6.7 MB/s eta 0:00:01\r\u001b[K     |█▏                              | 61 kB 6.6 MB/s eta 0:00:01\r\u001b[K     |█▍                              | 71 kB 5.7 MB/s eta 0:00:01\r\u001b[K     |█▌                              | 81 kB 6.3 MB/s eta 0:00:01\r\u001b[K     |█▊                              | 92 kB 6.4 MB/s eta 0:00:01\r\u001b[K     |██                              | 102 kB 5.6 MB/s eta 0:00:01\r\u001b[K     |██▏                             | 112 kB 5.6 MB/s eta 0:00:01\r\u001b[K     |██▎                             | 122 kB 5.6 MB/s eta 0:00:01\r\u001b[K     |██▌                             | 133 kB 5.6 MB/s eta 0:00:01\r\u001b[K     |██▊                             | 143 kB 5.6 MB/s eta 0:00:01\r\u001b[K     |███                             | 153 kB 5.6 MB/s eta 0:00:01\r\u001b[K     |███                             | 163 kB 5.6 MB/s eta 0:00:01\r\u001b[K     |███▎                            | 174 kB 5.6 MB/s eta 0:00:01\r\u001b[K     |███▌                            | 184 kB 5.6 MB/s eta 0:00:01\r\u001b[K     |███▊                            | 194 kB 5.6 MB/s eta 0:00:01\r\u001b[K     |███▉                            | 204 kB 5.6 MB/s eta 0:00:01\r\u001b[K     |████                            | 215 kB 5.6 MB/s eta 0:00:01\r\u001b[K     |████▎                           | 225 kB 5.6 MB/s eta 0:00:01\r\u001b[K     |████▌                           | 235 kB 5.6 MB/s eta 0:00:01\r\u001b[K     |████▋                           | 245 kB 5.6 MB/s eta 0:00:01\r\u001b[K     |████▉                           | 256 kB 5.6 MB/s eta 0:00:01\r\u001b[K     |█████                           | 266 kB 5.6 MB/s eta 0:00:01\r\u001b[K     |█████▎                          | 276 kB 5.6 MB/s eta 0:00:01\r\u001b[K     |█████▍                          | 286 kB 5.6 MB/s eta 0:00:01\r\u001b[K     |█████▋                          | 296 kB 5.6 MB/s eta 0:00:01\r\u001b[K     |█████▉                          | 307 kB 5.6 MB/s eta 0:00:01\r\u001b[K     |██████                          | 317 kB 5.6 MB/s eta 0:00:01\r\u001b[K     |██████▏                         | 327 kB 5.6 MB/s eta 0:00:01\r\u001b[K     |██████▍                         | 337 kB 5.6 MB/s eta 0:00:01\r\u001b[K     |██████▋                         | 348 kB 5.6 MB/s eta 0:00:01\r\u001b[K     |██████▉                         | 358 kB 5.6 MB/s eta 0:00:01\r\u001b[K     |███████                         | 368 kB 5.6 MB/s eta 0:00:01\r\u001b[K     |███████▏                        | 378 kB 5.6 MB/s eta 0:00:01\r\u001b[K     |███████▍                        | 389 kB 5.6 MB/s eta 0:00:01\r\u001b[K     |███████▋                        | 399 kB 5.6 MB/s eta 0:00:01\r\u001b[K     |███████▊                        | 409 kB 5.6 MB/s eta 0:00:01\r\u001b[K     |████████                        | 419 kB 5.6 MB/s eta 0:00:01\r\u001b[K     |████████▏                       | 430 kB 5.6 MB/s eta 0:00:01\r\u001b[K     |████████▍                       | 440 kB 5.6 MB/s eta 0:00:01\r\u001b[K     |████████▌                       | 450 kB 5.6 MB/s eta 0:00:01\r\u001b[K     |████████▊                       | 460 kB 5.6 MB/s eta 0:00:01\r\u001b[K     |█████████                       | 471 kB 5.6 MB/s eta 0:00:01\r\u001b[K     |█████████                       | 481 kB 5.6 MB/s eta 0:00:01\r\u001b[K     |█████████▎                      | 491 kB 5.6 MB/s eta 0:00:01\r\u001b[K     |█████████▌                      | 501 kB 5.6 MB/s eta 0:00:01\r\u001b[K     |█████████▊                      | 512 kB 5.6 MB/s eta 0:00:01\r\u001b[K     |█████████▉                      | 522 kB 5.6 MB/s eta 0:00:01\r\u001b[K     |██████████                      | 532 kB 5.6 MB/s eta 0:00:01\r\u001b[K     |██████████▎                     | 542 kB 5.6 MB/s eta 0:00:01\r\u001b[K     |██████████▌                     | 552 kB 5.6 MB/s eta 0:00:01\r\u001b[K     |██████████▋                     | 563 kB 5.6 MB/s eta 0:00:01\r\u001b[K     |██████████▉                     | 573 kB 5.6 MB/s eta 0:00:01\r\u001b[K     |███████████                     | 583 kB 5.6 MB/s eta 0:00:01\r\u001b[K     |███████████▎                    | 593 kB 5.6 MB/s eta 0:00:01\r\u001b[K     |███████████▍                    | 604 kB 5.6 MB/s eta 0:00:01\r\u001b[K     |███████████▋                    | 614 kB 5.6 MB/s eta 0:00:01\r\u001b[K     |███████████▉                    | 624 kB 5.6 MB/s eta 0:00:01\r\u001b[K     |████████████                    | 634 kB 5.6 MB/s eta 0:00:01\r\u001b[K     |████████████▏                   | 645 kB 5.6 MB/s eta 0:00:01\r\u001b[K     |████████████▍                   | 655 kB 5.6 MB/s eta 0:00:01\r\u001b[K     |████████████▋                   | 665 kB 5.6 MB/s eta 0:00:01\r\u001b[K     |████████████▉                   | 675 kB 5.6 MB/s eta 0:00:01\r\u001b[K     |█████████████                   | 686 kB 5.6 MB/s eta 0:00:01\r\u001b[K     |█████████████▏                  | 696 kB 5.6 MB/s eta 0:00:01\r\u001b[K     |█████████████▍                  | 706 kB 5.6 MB/s eta 0:00:01\r\u001b[K     |█████████████▋                  | 716 kB 5.6 MB/s eta 0:00:01\r\u001b[K     |█████████████▊                  | 727 kB 5.6 MB/s eta 0:00:01\r\u001b[K     |██████████████                  | 737 kB 5.6 MB/s eta 0:00:01\r\u001b[K     |██████████████▏                 | 747 kB 5.6 MB/s eta 0:00:01\r\u001b[K     |██████████████▍                 | 757 kB 5.6 MB/s eta 0:00:01\r\u001b[K     |██████████████▌                 | 768 kB 5.6 MB/s eta 0:00:01\r\u001b[K     |██████████████▊                 | 778 kB 5.6 MB/s eta 0:00:01\r\u001b[K     |███████████████                 | 788 kB 5.6 MB/s eta 0:00:01\r\u001b[K     |███████████████▏                | 798 kB 5.6 MB/s eta 0:00:01\r\u001b[K     |███████████████▎                | 808 kB 5.6 MB/s eta 0:00:01\r\u001b[K     |███████████████▌                | 819 kB 5.6 MB/s eta 0:00:01\r\u001b[K     |███████████████▊                | 829 kB 5.6 MB/s eta 0:00:01\r\u001b[K     |████████████████                | 839 kB 5.6 MB/s eta 0:00:01\r\u001b[K     |████████████████                | 849 kB 5.6 MB/s eta 0:00:01\r\u001b[K     |████████████████▎               | 860 kB 5.6 MB/s eta 0:00:01\r\u001b[K     |████████████████▌               | 870 kB 5.6 MB/s eta 0:00:01\r\u001b[K     |████████████████▊               | 880 kB 5.6 MB/s eta 0:00:01\r\u001b[K     |████████████████▉               | 890 kB 5.6 MB/s eta 0:00:01\r\u001b[K     |█████████████████               | 901 kB 5.6 MB/s eta 0:00:01\r\u001b[K     |█████████████████▎              | 911 kB 5.6 MB/s eta 0:00:01\r\u001b[K     |█████████████████▍              | 921 kB 5.6 MB/s eta 0:00:01\r\u001b[K     |█████████████████▋              | 931 kB 5.6 MB/s eta 0:00:01\r\u001b[K     |█████████████████▉              | 942 kB 5.6 MB/s eta 0:00:01\r\u001b[K     |██████████████████              | 952 kB 5.6 MB/s eta 0:00:01\r\u001b[K     |██████████████████▏             | 962 kB 5.6 MB/s eta 0:00:01\r\u001b[K     |██████████████████▍             | 972 kB 5.6 MB/s eta 0:00:01\r\u001b[K     |██████████████████▋             | 983 kB 5.6 MB/s eta 0:00:01\r\u001b[K     |██████████████████▉             | 993 kB 5.6 MB/s eta 0:00:01\r\u001b[K     |███████████████████             | 1.0 MB 5.6 MB/s eta 0:00:01\r\u001b[K     |███████████████████▏            | 1.0 MB 5.6 MB/s eta 0:00:01\r\u001b[K     |███████████████████▍            | 1.0 MB 5.6 MB/s eta 0:00:01\r\u001b[K     |███████████████████▋            | 1.0 MB 5.6 MB/s eta 0:00:01\r\u001b[K     |███████████████████▊            | 1.0 MB 5.6 MB/s eta 0:00:01\r\u001b[K     |████████████████████            | 1.1 MB 5.6 MB/s eta 0:00:01\r\u001b[K     |████████████████████▏           | 1.1 MB 5.6 MB/s eta 0:00:01\r\u001b[K     |████████████████████▍           | 1.1 MB 5.6 MB/s eta 0:00:01\r\u001b[K     |████████████████████▌           | 1.1 MB 5.6 MB/s eta 0:00:01\r\u001b[K     |████████████████████▊           | 1.1 MB 5.6 MB/s eta 0:00:01\r\u001b[K     |█████████████████████           | 1.1 MB 5.6 MB/s eta 0:00:01\r\u001b[K     |█████████████████████▏          | 1.1 MB 5.6 MB/s eta 0:00:01\r\u001b[K     |█████████████████████▎          | 1.1 MB 5.6 MB/s eta 0:00:01\r\u001b[K     |█████████████████████▌          | 1.1 MB 5.6 MB/s eta 0:00:01\r\u001b[K     |█████████████████████▊          | 1.1 MB 5.6 MB/s eta 0:00:01\r\u001b[K     |██████████████████████          | 1.2 MB 5.6 MB/s eta 0:00:01\r\u001b[K     |██████████████████████          | 1.2 MB 5.6 MB/s eta 0:00:01\r\u001b[K     |██████████████████████▎         | 1.2 MB 5.6 MB/s eta 0:00:01\r\u001b[K     |██████████████████████▌         | 1.2 MB 5.6 MB/s eta 0:00:01\r\u001b[K     |██████████████████████▊         | 1.2 MB 5.6 MB/s eta 0:00:01\r\u001b[K     |██████████████████████▉         | 1.2 MB 5.6 MB/s eta 0:00:01\r\u001b[K     |███████████████████████         | 1.2 MB 5.6 MB/s eta 0:00:01\r\u001b[K     |███████████████████████▎        | 1.2 MB 5.6 MB/s eta 0:00:01\r\u001b[K     |███████████████████████▌        | 1.2 MB 5.6 MB/s eta 0:00:01\r\u001b[K     |███████████████████████▋        | 1.2 MB 5.6 MB/s eta 0:00:01\r\u001b[K     |███████████████████████▉        | 1.3 MB 5.6 MB/s eta 0:00:01\r\u001b[K     |████████████████████████        | 1.3 MB 5.6 MB/s eta 0:00:01\r\u001b[K     |████████████████████████▎       | 1.3 MB 5.6 MB/s eta 0:00:01\r\u001b[K     |████████████████████████▍       | 1.3 MB 5.6 MB/s eta 0:00:01\r\u001b[K     |████████████████████████▋       | 1.3 MB 5.6 MB/s eta 0:00:01\r\u001b[K     |████████████████████████▉       | 1.3 MB 5.6 MB/s eta 0:00:01\r\u001b[K     |█████████████████████████       | 1.3 MB 5.6 MB/s eta 0:00:01\r\u001b[K     |█████████████████████████▏      | 1.3 MB 5.6 MB/s eta 0:00:01\r\u001b[K     |█████████████████████████▍      | 1.3 MB 5.6 MB/s eta 0:00:01\r\u001b[K     |█████████████████████████▋      | 1.4 MB 5.6 MB/s eta 0:00:01\r\u001b[K     |█████████████████████████▊      | 1.4 MB 5.6 MB/s eta 0:00:01\r\u001b[K     |██████████████████████████      | 1.4 MB 5.6 MB/s eta 0:00:01\r\u001b[K     |██████████████████████████▏     | 1.4 MB 5.6 MB/s eta 0:00:01\r\u001b[K     |██████████████████████████▍     | 1.4 MB 5.6 MB/s eta 0:00:01\r\u001b[K     |██████████████████████████▌     | 1.4 MB 5.6 MB/s eta 0:00:01\r\u001b[K     |██████████████████████████▊     | 1.4 MB 5.6 MB/s eta 0:00:01\r\u001b[K     |███████████████████████████     | 1.4 MB 5.6 MB/s eta 0:00:01\r\u001b[K     |███████████████████████████▏    | 1.4 MB 5.6 MB/s eta 0:00:01\r\u001b[K     |███████████████████████████▎    | 1.4 MB 5.6 MB/s eta 0:00:01\r\u001b[K     |███████████████████████████▌    | 1.5 MB 5.6 MB/s eta 0:00:01\r\u001b[K     |███████████████████████████▊    | 1.5 MB 5.6 MB/s eta 0:00:01\r\u001b[K     |████████████████████████████    | 1.5 MB 5.6 MB/s eta 0:00:01\r\u001b[K     |████████████████████████████    | 1.5 MB 5.6 MB/s eta 0:00:01\r\u001b[K     |████████████████████████████▎   | 1.5 MB 5.6 MB/s eta 0:00:01\r\u001b[K     |████████████████████████████▌   | 1.5 MB 5.6 MB/s eta 0:00:01\r\u001b[K     |████████████████████████████▊   | 1.5 MB 5.6 MB/s eta 0:00:01\r\u001b[K     |████████████████████████████▉   | 1.5 MB 5.6 MB/s eta 0:00:01\r\u001b[K     |█████████████████████████████   | 1.5 MB 5.6 MB/s eta 0:00:01\r\u001b[K     |█████████████████████████████▎  | 1.5 MB 5.6 MB/s eta 0:00:01\r\u001b[K     |█████████████████████████████▌  | 1.6 MB 5.6 MB/s eta 0:00:01\r\u001b[K     |█████████████████████████████▋  | 1.6 MB 5.6 MB/s eta 0:00:01\r\u001b[K     |█████████████████████████████▉  | 1.6 MB 5.6 MB/s eta 0:00:01\r\u001b[K     |██████████████████████████████  | 1.6 MB 5.6 MB/s eta 0:00:01\r\u001b[K     |██████████████████████████████▎ | 1.6 MB 5.6 MB/s eta 0:00:01\r\u001b[K     |██████████████████████████████▍ | 1.6 MB 5.6 MB/s eta 0:00:01\r\u001b[K     |██████████████████████████████▋ | 1.6 MB 5.6 MB/s eta 0:00:01\r\u001b[K     |██████████████████████████████▉ | 1.6 MB 5.6 MB/s eta 0:00:01\r\u001b[K     |███████████████████████████████ | 1.6 MB 5.6 MB/s eta 0:00:01\r\u001b[K     |███████████████████████████████▏| 1.6 MB 5.6 MB/s eta 0:00:01\r\u001b[K     |███████████████████████████████▍| 1.7 MB 5.6 MB/s eta 0:00:01\r\u001b[K     |███████████████████████████████▋| 1.7 MB 5.6 MB/s eta 0:00:01\r\u001b[K     |███████████████████████████████▉| 1.7 MB 5.6 MB/s eta 0:00:01\r\u001b[K     |████████████████████████████████| 1.7 MB 5.6 MB/s eta 0:00:01\r\u001b[K     |████████████████████████████████| 1.7 MB 5.6 MB/s \n",
            "\u001b[?25hCollecting shortuuid>=0.5.0\n",
            "  Downloading shortuuid-1.0.8-py3-none-any.whl (9.5 kB)\n",
            "Requirement already satisfied: PyYAML in /usr/local/lib/python3.7/dist-packages (from wandb) (3.13)\n",
            "Requirement already satisfied: Click!=8.0.0,>=7.0 in /usr/local/lib/python3.7/dist-packages (from wandb) (7.1.2)\n",
            "Requirement already satisfied: six>=1.13.0 in /usr/local/lib/python3.7/dist-packages (from wandb) (1.15.0)\n",
            "Collecting configparser>=3.8.1\n",
            "  Downloading configparser-5.1.0-py3-none-any.whl (19 kB)\n",
            "Collecting GitPython>=1.0.0\n",
            "  Downloading GitPython-3.1.24-py3-none-any.whl (180 kB)\n",
            "\u001b[K     |████████████████████████████████| 180 kB 57.8 MB/s \n",
            "\u001b[?25hCollecting docker-pycreds>=0.4.0\n",
            "  Downloading docker_pycreds-0.4.0-py2.py3-none-any.whl (9.0 kB)\n",
            "Collecting pathtools\n",
            "  Downloading pathtools-0.1.2.tar.gz (11 kB)\n",
            "Requirement already satisfied: psutil>=5.0.0 in /usr/local/lib/python3.7/dist-packages (from wandb) (5.4.8)\n",
            "Collecting sentry-sdk>=1.0.0\n",
            "  Downloading sentry_sdk-1.5.0-py2.py3-none-any.whl (140 kB)\n",
            "\u001b[K     |████████████████████████████████| 140 kB 53.7 MB/s \n",
            "\u001b[?25hRequirement already satisfied: protobuf>=3.12.0 in /usr/local/lib/python3.7/dist-packages (from wandb) (3.17.3)\n",
            "Requirement already satisfied: requests<3,>=2.0.0 in /usr/local/lib/python3.7/dist-packages (from wandb) (2.23.0)\n",
            "Requirement already satisfied: promise<3,>=2.0 in /usr/local/lib/python3.7/dist-packages (from wandb) (2.3)\n",
            "Collecting yaspin>=1.0.0\n",
            "  Downloading yaspin-2.1.0-py3-none-any.whl (18 kB)\n",
            "Collecting subprocess32>=3.5.3\n",
            "  Downloading subprocess32-3.5.4.tar.gz (97 kB)\n",
            "\u001b[K     |████████████████████████████████| 97 kB 5.3 MB/s \n",
            "\u001b[?25hRequirement already satisfied: python-dateutil>=2.6.1 in /usr/local/lib/python3.7/dist-packages (from wandb) (2.8.2)\n",
            "Requirement already satisfied: typing-extensions>=3.7.4.3 in /usr/local/lib/python3.7/dist-packages (from GitPython>=1.0.0->wandb) (3.10.0.2)\n",
            "Collecting gitdb<5,>=4.0.1\n",
            "  Downloading gitdb-4.0.9-py3-none-any.whl (63 kB)\n",
            "\u001b[K     |████████████████████████████████| 63 kB 1.3 MB/s \n",
            "\u001b[?25hCollecting smmap<6,>=3.0.1\n",
            "  Downloading smmap-5.0.0-py3-none-any.whl (24 kB)\n",
            "Requirement already satisfied: idna<3,>=2.5 in /usr/local/lib/python3.7/dist-packages (from requests<3,>=2.0.0->wandb) (2.10)\n",
            "Requirement already satisfied: chardet<4,>=3.0.2 in /usr/local/lib/python3.7/dist-packages (from requests<3,>=2.0.0->wandb) (3.0.4)\n",
            "Requirement already satisfied: certifi>=2017.4.17 in /usr/local/lib/python3.7/dist-packages (from requests<3,>=2.0.0->wandb) (2021.10.8)\n",
            "Requirement already satisfied: urllib3!=1.25.0,!=1.25.1,<1.26,>=1.21.1 in /usr/local/lib/python3.7/dist-packages (from requests<3,>=2.0.0->wandb) (1.24.3)\n",
            "Requirement already satisfied: termcolor<2.0.0,>=1.1.0 in /usr/local/lib/python3.7/dist-packages (from yaspin>=1.0.0->wandb) (1.1.0)\n",
            "Building wheels for collected packages: subprocess32, pathtools\n",
            "  Building wheel for subprocess32 (setup.py) ... \u001b[?25l\u001b[?25hdone\n",
            "  Created wheel for subprocess32: filename=subprocess32-3.5.4-py3-none-any.whl size=6502 sha256=7f32fbecce2aa255ed37a578f484203706d2a18de9596ea021f08048ac3be527\n",
            "  Stored in directory: /root/.cache/pip/wheels/50/ca/fa/8fca8d246e64f19488d07567547ddec8eb084e8c0d7a59226a\n",
            "  Building wheel for pathtools (setup.py) ... \u001b[?25l\u001b[?25hdone\n",
            "  Created wheel for pathtools: filename=pathtools-0.1.2-py3-none-any.whl size=8807 sha256=384c3686cf5dc4a33de49b2febd017294c18f9fbf2d5bc5dea4e897f98f50704\n",
            "  Stored in directory: /root/.cache/pip/wheels/3e/31/09/fa59cef12cdcfecc627b3d24273699f390e71828921b2cbba2\n",
            "Successfully built subprocess32 pathtools\n",
            "Installing collected packages: smmap, gitdb, yaspin, subprocess32, shortuuid, sentry-sdk, pathtools, GitPython, docker-pycreds, configparser, wandb\n",
            "Successfully installed GitPython-3.1.24 configparser-5.1.0 docker-pycreds-0.4.0 gitdb-4.0.9 pathtools-0.1.2 sentry-sdk-1.5.0 shortuuid-1.0.8 smmap-5.0.0 subprocess32-3.5.4 wandb-0.12.7 yaspin-2.1.0\n"
          ]
        }
      ]
    },
    {
      "cell_type": "code",
      "metadata": {
        "colab": {
          "base_uri": "https://localhost:8080/"
        },
        "id": "HZG8BDT-xrv3",
        "outputId": "6e463c17-f8e0-490b-8d39-6a1dff3cf4b6"
      },
      "source": [
        "!wandb login"
      ],
      "execution_count": 2,
      "outputs": [
        {
          "output_type": "stream",
          "name": "stdout",
          "text": [
            "\u001b[34m\u001b[1mwandb\u001b[0m: You can find your API key in your browser here: https://wandb.ai/authorize\n",
            "\u001b[34m\u001b[1mwandb\u001b[0m: Paste an API key from your profile and hit enter, or press ctrl+c to quit: \n",
            "\u001b[34m\u001b[1mwandb\u001b[0m: Appending key for api.wandb.ai to your netrc file: /root/.netrc\n"
          ]
        }
      ]
    },
    {
      "cell_type": "code",
      "metadata": {
        "id": "WHZBzAXjxz1J"
      },
      "source": [
        "import wandb"
      ],
      "execution_count": 3,
      "outputs": []
    },
    {
      "cell_type": "code",
      "metadata": {
        "colab": {
          "base_uri": "https://localhost:8080/"
        },
        "id": "MUy1ta4_782n",
        "outputId": "49f526e9-931f-49de-ce6a-de86eaf8b2c5"
      },
      "source": [
        "!pip uninstall gensim -y"
      ],
      "execution_count": 4,
      "outputs": [
        {
          "output_type": "stream",
          "name": "stdout",
          "text": [
            "Found existing installation: gensim 3.6.0\n",
            "Uninstalling gensim-3.6.0:\n",
            "  Successfully uninstalled gensim-3.6.0\n"
          ]
        }
      ]
    },
    {
      "cell_type": "code",
      "metadata": {
        "colab": {
          "base_uri": "https://localhost:8080/"
        },
        "id": "oAroxmvO8GQj",
        "outputId": "eba49581-cc0d-4fb1-b335-b963f138bed5"
      },
      "source": [
        "!pip install gensim"
      ],
      "execution_count": 5,
      "outputs": [
        {
          "output_type": "stream",
          "name": "stdout",
          "text": [
            "Collecting gensim\n",
            "  Downloading gensim-4.1.2-cp37-cp37m-manylinux_2_12_x86_64.manylinux2010_x86_64.whl (24.1 MB)\n",
            "\u001b[K     |████████████████████████████████| 24.1 MB 1.7 MB/s \n",
            "\u001b[?25hRequirement already satisfied: smart-open>=1.8.1 in /usr/local/lib/python3.7/dist-packages (from gensim) (5.2.1)\n",
            "Requirement already satisfied: scipy>=0.18.1 in /usr/local/lib/python3.7/dist-packages (from gensim) (1.4.1)\n",
            "Requirement already satisfied: numpy>=1.17.0 in /usr/local/lib/python3.7/dist-packages (from gensim) (1.19.5)\n",
            "Installing collected packages: gensim\n",
            "Successfully installed gensim-4.1.2\n"
          ]
        }
      ]
    },
    {
      "cell_type": "code",
      "metadata": {
        "id": "6SZ0zrKX8H-D"
      },
      "source": [
        "import gensim\n",
        "from sklearn.manifold import TSNE\n",
        "import matplotlib.pyplot as plt\n",
        "import pprint\n",
        "import pandas as pd\n",
        "import numpy as np\n",
        "from collections import Counter\n",
        "import plotly.express as px\n",
        "from tqdm import tqdm \n",
        "from gensim.models.doc2vec import Doc2Vec\n",
        "from gensim.models.tfidfmodel import TfidfModel\n",
        "from gensim.models.lsimodel import LsiModel\n",
        "from gensim.models import CoherenceModel\n",
        "from gensim import corpora\n",
        "from gensim import similarities\n",
        "import pickle\n",
        "import os\n",
        "import zipfile\n"
      ],
      "execution_count": 6,
      "outputs": []
    },
    {
      "cell_type": "code",
      "metadata": {
        "id": "znWar-PK8KHT"
      },
      "source": [
        "import logging\n",
        "logging.basicConfig(format='%(asctime)s : %(levelname)s : %(message)s', level=logging.INFO)"
      ],
      "execution_count": 7,
      "outputs": []
    },
    {
      "cell_type": "code",
      "metadata": {
        "colab": {
          "base_uri": "https://localhost:8080/"
        },
        "id": "kjCf_Abf8MCc",
        "outputId": "7f114e7b-e2ae-4b4e-98d5-45e7a65bfeb2"
      },
      "source": [
        "print(gensim.__version__)"
      ],
      "execution_count": 8,
      "outputs": [
        {
          "output_type": "stream",
          "name": "stdout",
          "text": [
            "4.1.2\n"
          ]
        }
      ]
    },
    {
      "cell_type": "code",
      "metadata": {
        "id": "_aEonlx-CT6r",
        "colab": {
          "base_uri": "https://localhost:8080/"
        },
        "outputId": "3fd780fb-0f9d-4df9-8f15-5f0645faf520"
      },
      "source": [
        "!rm data.csv"
      ],
      "execution_count": 9,
      "outputs": [
        {
          "output_type": "stream",
          "name": "stdout",
          "text": [
            "rm: cannot remove 'data.csv': No such file or directory\n"
          ]
        }
      ]
    },
    {
      "cell_type": "code",
      "metadata": {
        "id": "Xhfwd9iMZ99Q"
      },
      "source": [
        "pd.set_option('display.max_rows', 500)\n",
        "pd.set_option('display.max_columns', 500)\n",
        "pd.set_option('display.width', 1000)"
      ],
      "execution_count": 10,
      "outputs": []
    },
    {
      "cell_type": "markdown",
      "metadata": {
        "id": "Nk5pPZqk0Pn7"
      },
      "source": [
        "# Configuration\n"
      ]
    },
    {
      "cell_type": "code",
      "metadata": {
        "id": "wcZ18xhgU7MZ"
      },
      "source": [
        "use_wandb = True"
      ],
      "execution_count": 11,
      "outputs": []
    },
    {
      "cell_type": "code",
      "metadata": {
        "id": "A-AD1gxGLYxp"
      },
      "source": [
        "generate_webapp_data = True"
      ],
      "execution_count": 12,
      "outputs": []
    },
    {
      "cell_type": "code",
      "metadata": {
        "id": "GfQbJQmexlxI"
      },
      "source": [
        "docu = 'sections'\n",
        "#docu = 'tunes'\n",
        "chords_preprocessing = 'rootAndDegreesPlus'"
      ],
      "execution_count": 13,
      "outputs": []
    },
    {
      "cell_type": "code",
      "metadata": {
        "id": "buoyWNl0F48Y"
      },
      "source": [
        "ngrams_for_input = [1]"
      ],
      "execution_count": 14,
      "outputs": []
    },
    {
      "cell_type": "code",
      "metadata": {
        "id": "wzcT4kkmc49a"
      },
      "source": [
        "phrases_threshold = 1.0  # 1.0 for no phrases"
      ],
      "execution_count": 15,
      "outputs": []
    },
    {
      "cell_type": "code",
      "metadata": {
        "id": "H9AFlUZ1lpGC"
      },
      "source": [
        "remove_repetitions = False"
      ],
      "execution_count": 16,
      "outputs": []
    },
    {
      "cell_type": "code",
      "metadata": {
        "id": "K7qB2_sBvKpB"
      },
      "source": [
        "input_files = {\n",
        "    'sections': {\n",
        "        # M7 and 6 reduced to major triad, m7 reduced to m, dominant 7, m7b5, diminished, and all (b5) left as they are.\n",
        "        'rootAndDegreesPlus': '1NP6trpfnEPnFqJbmcuClvkBB28PNdF8c',\n",
        "        'rootAndDegrees7': '',\n",
        "        'rootAndDegreesSimplified': '1vyC9voFf2vpcKmS5kZBJ9Rafm7wuuzD8',\n",
        "    },\n",
        "    'tunes': {\n",
        "        'rootAndDegreesPlus': '',\n",
        "        'rootAndDegrees7': '',\n",
        "        'rootAndDegreesSimplified': '',\n",
        "    }\n",
        "}"
      ],
      "execution_count": 17,
      "outputs": []
    },
    {
      "cell_type": "code",
      "metadata": {
        "colab": {
          "base_uri": "https://localhost:8080/"
        },
        "id": "lM6eaQwnyWD3",
        "outputId": "6cd3f8e1-61e1-4bf0-cd16-c9adc6366484"
      },
      "source": [
        "tunes_eval_list = [\n",
        "  \"Sweet Sue, Just You [jazz1350]\",\n",
        "  \"On The Sunny Side Of The Street [jazz1350]\",\n",
        "  \"These Foolish Things [jazz1350]\", \n",
        "  \"Blue Moon [jazz1350]\",\n",
        "  \"I Got Rhythm [jazz1350]\",\n",
        "  \"Old Fashioned Love [trad]\",\n",
        "  \"Exactly Like You [jazz1350]\",\n",
        "  \"Honeysuckle Rose [jazz1350]\",\n",
        "  \"Misty [jazz1350]\",\n",
        "  \"Wow [jazz1350]\",\n",
        "  \"Take The A Train [jazz1350]\"\n",
        "]\n",
        "\n",
        "tunes_eval_list = sorted(tunes_eval_list)\n",
        "tunes_eval_list"
      ],
      "execution_count": 18,
      "outputs": [
        {
          "output_type": "execute_result",
          "data": {
            "text/plain": [
              "['Blue Moon [jazz1350]',\n",
              " 'Exactly Like You [jazz1350]',\n",
              " 'Honeysuckle Rose [jazz1350]',\n",
              " 'I Got Rhythm [jazz1350]',\n",
              " 'Misty [jazz1350]',\n",
              " 'Old Fashioned Love [trad]',\n",
              " 'On The Sunny Side Of The Street [jazz1350]',\n",
              " 'Sweet Sue, Just You [jazz1350]',\n",
              " 'Take The A Train [jazz1350]',\n",
              " 'These Foolish Things [jazz1350]',\n",
              " 'Wow [jazz1350]']"
            ]
          },
          "metadata": {},
          "execution_count": 18
        }
      ]
    },
    {
      "cell_type": "code",
      "metadata": {
        "id": "uiI0h4ef0PCD"
      },
      "source": [
        "contrafacts = [\n",
        "               (\"26-2 [jazz1350]\", \"Confirmation [jazz1350]\"),\n",
        "               (\"52nd Street Theme [jazz1350]\", \"I Got Rhythm [jazz1350]\"),\n",
        "               (\"Ablution [jazz1350]\", \"All The Things You Are [jazz1350]\"),\n",
        "               (\"Anthropology [jazz1350]\", \"I Got Rhythm [jazz1350]\"),\n",
        "               (\"Ballade [jazz1350]\", \"As Long As I Live [jazz1350]\"),\n",
        "               (\"Bright Mississippi [jazz1350]\", \"Sweet Georgia Brown [jazz1350]\"),\n",
        "               (\"C.T.A. [jazz1350]\", \"I Got Rhythm [jazz1350]\"),\n",
        "               #( \"Celia [jazz1350]\", \"I Got Rhythm [jazz1350]\"),\n",
        "               (\"Cottontail [jazz1350]\", \"I Got Rhythm [jazz1350]\"),\n",
        "               (\"Countdown [jazz1350]\", \"Tune Up [jazz1350]\"),\n",
        "               (\"Dewey Square [jazz1350]\", \"Oh, Lady Be Good [jazz1350]\"),\n",
        "               (\"Dexterity [jazz1350]\", \"I Got Rhythm [jazz1350]\"),\n",
        "               (\"Dig [jazz1350]\", \"Sweet Georgia Brown [jazz1350]\"),\n",
        "               (\"Donna Lee [jazz1350]\", \"Indiana (Back Home Again In) [jazz1350]\"),\n",
        "               (\"Don't Be That Way [jazz1350]\", \"I Got Rhythm [jazz1350]\"),\n",
        "               #(\"Eternal Triangle [jazz1350]\", \"I Got Rhythm [jazz1350]\"),\n",
        "               (\"Evidence [jazz1350]\", \"Just You, Just Me [jazz1350]\"),\n",
        "               (\"Flintstones [jazz1350]\", \"I Got Rhythm [jazz1350]\"),\n",
        "               (\"Four On Six [jazz1350]\", \"Summertime [jazz1350]\"),\n",
        "               (\"Freight Train [jazz1350]\", \"Blues For Alice [jazz1350]\"),\n",
        "               (\"Good Bait [jazz1350]\", \"I Got Rhythm [jazz1350]\"),\n",
        "               (\"Hackensack [jazz1350]\", \"Oh, Lady Be Good [jazz1350]\"),\n",
        "               (\"Half Nelson [jazz1350]\", \"Lady Bird [jazz1350]\"),\n",
        "               (\"Hot House [jazz1350]\", \"What Is This Thing Called Love [jazz1350]\"),\n",
        "               (\"Impressions [jazz1350]\", \"So What [jazz1350]\"),\n",
        "               (\"In A Mellow Tone (In A Mellotone) [jazz1350]\", \"Rose Room [jazz1350]\"),\n",
        "               (\"In Walked Bud [jazz1350]\", \"Blue Skies [jazz1350]\"),\n",
        "               (\"Ko Ko [jazz1350]\", \"Cherokee [jazz1350]\"),\n",
        "               (\"Lennie's Pennies [jazz1350]\", \"Pennies From Heaven [jazz1350]\"),   ## Lennie's Pennies is in minor and therefore transposed to Amin... not possible to recognize like that\n",
        "               #( \"Let's Call This [jazz1350]\", \"Honeysuckle Rose [jazz1350]\"),\n",
        "               (\"Little Rootie Tootie [jazz1350]\", \"I Got Rhythm [jazz1350]\"),\n",
        "               (\"Little Willie Leaps [jazz1350]\", \"All God's Chillun Got Rhythm [jazz1350]\"),\n",
        "               (\"Lullaby Of Birdland [jazz1350]\", \"Love Me Or Leave Me [jazz1350]\"),\n",
        "               #(\"Moose The Mooche [jazz1350]\", \"I Got Rhythm [jazz1350]\"),\n",
        "               (\"My Little Suede Shoes [jazz1350]\", \"Jeepers Creepers [jazz1350]\"),\n",
        "               #(\"Oleo [jazz1350]\", \"I Got Rhythm [jazz1350]\"),\n",
        "               (\"Ornithology [jazz1350]\", \"How High The Moon [jazz1350]\"),\n",
        "               #(\"Passport [jazz1350]\", \"I Got Rhythm [jazz1350]\"),\n",
        "               (\"Quasimodo (Theme) [jazz1350]\", \"Embraceable You [jazz1350]\"),\n",
        "               #(\"Rhythm-a-ning [jazz1350]\", \"I Got Rhythm [jazz1350]\"),\n",
        "               (\"Room 608 [jazz1350]\", \"I Got Rhythm [jazz1350]\"),\n",
        "               #(\"Salt Peanuts [jazz1350]\", \"I Got Rhythm [jazz1350]\"),\n",
        "               (\"Satellite [jazz1350]\", \"How High The Moon [jazz1350]\"),\n",
        "               (\"Scrapple From The Apple [jazz1350]\", \"Honeysuckle Rose [jazz1350]\"), # A section\n",
        "               (\"Scrapple From The Apple [jazz1350]\", \"I Got Rhythm [jazz1350]\"), # B section\n",
        "               #(\"Segment [jazz1350]\", \"I Got Rhythm [jazz1350]\"),\n",
        "               #(\"Seven Come Eleven [jazz1350]\", \"I Got Rhythm [jazz1350]\"),\n",
        "               #(\"Shaw 'Nuff [jazz1350]\", \"I Got Rhythm [jazz1350]\"),\n",
        "               #(\"Theme, The [jazz1350]\", \"I Got Rhythm [jazz1350]\"),\n",
        "               (\"Tour De Force [jazz1350]\", \"Jeepers Creepers [jazz1350]\"),\n",
        "               (\"Wow [jazz1350]\", \"You Can Depend On Me [jazz1350]\"),\n",
        "               (\"Yardbird Suite [jazz1350]\", \"Rosetta [jazz1350]\"),\n",
        "\n",
        "               # following tunes are not from wikipedia),\n",
        "               (\"Sweet Sue, Just You [jazz1350]\", \"Honeysuckle Rose [jazz1350]\"),  # A section\n",
        "               #(\"All Of Me [jazz1350]\", \"Pennies From Heaven [jazz1350]\"), # bars 25-28 of All of Me are same as bars 17-20 of Pennies From Heaven, but different key!\n",
        "               (\"Sweet Sue, Just You [jazz1350]\", \"Bye Bye Blackbird [jazz1350]\"), # Bridge same\n",
        "               (\"These Foolish Things [jazz1350]\", \"Blue Moon [jazz1350]\"), # first 8 bars same\n",
        "               (\"These Foolish Things [jazz1350]\", \"More Than You Know [jazz1350]\"),\n",
        "               (\"These Foolish Things [jazz1350]\", \"Isn't It A Pity [jazz1350]\"),\n",
        "               (\"These Foolish Things [jazz1350]\", \"Soultrane [jazz1350]\"),\n",
        "               (\"These Foolish Things [jazz1350]\", \"Why Do I Love You [jazz1350]\"),\n",
        "               (\"Misty [jazz1350]\", \"Portrait Of Jennie [jazz1350]\"),\n",
        "               (\"Misty [jazz1350]\", \"September In The Rain [jazz1350]\"),\n",
        "               (\"Misty [jazz1350]\", \"I May Be Wrong [jazz1350]\"),  \n",
        "\n",
        "               # identical tunes\n",
        "               (\"Five Foot Two [trad]\", \"Please Don't Talk About Me When I'm Gone [trad]\"),\n",
        "               (\"What Is This Thing Called Love [jazz1350]\", \"Subconscious Lee [jazz1350]\"),\n",
        "               (\"Sweet Georgia Brown [jazz1350]\", \"Dig [jazz1350]\"),\n",
        "\n",
        "\n",
        "               # almost identical tunes\n",
        "               (\"What Is This Thing Called Love [jazz1350]\", \"Hot House [jazz1350]\"),\n",
        "               (\"Jeannie's Song [jazz1350]\", \"Shiny Stockings [jazz1350]\"),\n",
        "               (\"Alone Together [jazz1350]\", \"Segment [jazz1350]\"),\n",
        "               (\"Baubles, Bangles and Beads [jazz1350]\", \"Bossa Antigua [jazz1350]\"),\n",
        "               (\"There Will Never Be Another You [jazz1350]\", \"A Weaver Of Dreams [jazz1350]\"),\n",
        "               (\"Moten Swing [jazz1350]\", \"Once In A While (Ballad) [trad]\"), # same bridge, similar A\n",
        "               (\"All I Do Is Dream Of You [trad]\", \"L-O-V-E [jazz1350]\"),\n",
        "\n",
        "\n",
        "               # same A section\n",
        "               (\"Nancy (With The Laughing Face) [jazz1350]\", \"Body And Soul [jazz1350]\"),\n",
        "               (\"Exactly Like You [jazz1350]\", \"True (You Don't Love Me ) [trad]\"),\n",
        "               (\"Exactly Like You [jazz1350]\", \"True (You Don't Love Me ) [trad]\"),\n",
        "               (\"Exactly Like You [jazz1350]\", \"Jersey Bounce [trad]\"),\n",
        "               (\"Take The A Train [jazz1350]\", \"Girl From Ipanema, The [jazz1350]\"),\n",
        "               (\"My Heart Stood Still [jazz1350]\", \"All Too Soon [jazz1350]\"),\n",
        "               (\"Undecided [jazz1350]\", \"Broadway [jazz1350]\"),\n",
        "               (\"My Heart Stood Still [jazz1350]\", \"All Too Soon [jazz1350]\"),\n",
        "               (\"Let's Fall In Love [jazz1350]\", \"Heart And Soul [jazz1350]\"),\n",
        "               (\"Come Back To Me [jazz1350]\", \"I Wish I Knew [jazz1350]\"),\n",
        "               (\"Wait Till You See Her [jazz1350]\", \"A Certain Smile [jazz1350]\"),\n",
        "               (\"Killer Joe [jazz1350]\", \"Straight Life [jazz1350]\"),\n",
        "               (\"Softly, As In A Morning Sunrise [jazz1350]\", \"Segment [jazz1350]\"),\n",
        "               (\"Bei Mir Bist Du Schon (Root Hog Or Die) [trad]\", \"Egyptian Fantasy [trad]\"),\n",
        "               (\"Bei Mir Bist Du Schon (Root Hog Or Die) [trad]\", \"Puttin' On The Ritz [jazz1350]\"),\n",
        "               (\"Coquette [trad]\", \"Pretend You're Happy When You're Blue [trad]\"),\n",
        "               (\"Softly, As In A Morning Sunrise [jazz1350]\", \"Strode Rode [jazz1350]\"),\n",
        "               (\"Glory Of Love, The [jazz1350]\", \"I've Got My Fingers Crossed [trad]\"),\n",
        "\n",
        "\n",
        "               # same bridge\n",
        "               (\"If I Had You [jazz1350]\", \"Too Young To Go Steady [jazz1350]\"),\n",
        "               (\"Undecided [jazz1350]\", \"Satin Doll [jazz1350]\"),\n",
        "               (\"Billy Boy [jazz1350]\", \"Elora [jazz1350]\"),\n",
        "               (\"Dearly Beloved [jazz1350]\", \"We See [jazz1350]\"),\n",
        "               (\"Alone Together [jazz1350]\", \"A Night In Tunisia [jazz1350]\"),\n",
        "               (\"A Night In Tunisia [jazz1350]\", \"Segment [jazz1350]\"),\n",
        "               (\"Oh! Lady Be Good [trad]\", \"Sentimental Journey [jazz1350]\"),\n",
        "               (\"You Can Depend On Me [jazz1350]\", \"Move [jazz1350]\"),\n",
        "               (\"I Want To Be Happy [jazz1350]\", \"A Beautiful Friendship [jazz1350]\"),\n",
        "               (\"Flying Home [jazz1350]\", \"Down For Double [jazz1350]\"),\n",
        "               (\"Cheek To Cheek [jazz1350]\", \"Violets For Your Furs [jazz1350]\"),\n",
        "               (\"Let's Fall In Love [jazz1350]\", \"At Last [jazz1350]\"),\n",
        "               (\"Don't Be That Way [jazz1350]\", \"Long Ago And Far Away [jazz1350]\"),\n",
        "               (\"On The Sunny Side Of The Street [jazz1350]\", \"I'm Confessin' That I Love You [jazz1350]\"),\n",
        "               (\"On The Sunny Side Of The Street [jazz1350]\", \"Eclypso [jazz1350]\"),\n",
        "               (\"On The Sunny Side Of The Street [jazz1350]\", \"You Stepped Out Of A Dream [jazz1350]\"),\n",
        "               \n",
        "\n",
        "               # similar A section\n",
        "               (\"I Like The Likes Of You [jazz1350]\", \"Mountain Greenery [jazz1350]\"),\n",
        "               (\"My Secret Love [jazz1350]\", \"Samba De Orfeu [jazz1350]\"),\n",
        "               (\"Let's Call The Whole Thing Off [jazz1350]\", \"Fine And Dandy [jazz1350]\"),\n",
        "\n",
        "\n",
        "               # similar B section\n",
        "               (\"Folks Who Live On The Hill, The [jazz1350]\", \"My One And Only Love [jazz1350]\"),\n",
        "               (\"As Long As I Live [jazz1350]\", \"I'm Glad There Is You [jazz1350]\"),\n",
        "               (\"I May Be Wrong [jazz1350]\", \"Teach Me Tonight [jazz1350]\"),\n",
        "               (\"Am I Blue [jazz1350]\", \"Come Back To Me [jazz1350]\"),\n",
        "               (\"My One And Only Love [jazz1350]\", \"Am I Blue [jazz1350]\"),\n",
        "               (\"On The Sunny Side Of The Street [jazz1350]\", \"September In The Rain [jazz1350]\"),\n",
        "               (\"On The Sunny Side Of The Street [jazz1350]\", \"Mountain Greenery [jazz1350]\"),\n",
        "               (\"On The Sunny Side Of The Street [jazz1350]\", \"There's No You [jazz1350]\"),\n",
        "               (\"These Foolish Things [jazz1350]\", \"Embraceable You [jazz1350]\"),\n",
        "               (\"These Foolish Things [jazz1350]\", \"Rosetta [jazz1350]\"),\n",
        "\n",
        "               # same C section\n",
        "               (\"Bill Bailey [jazz1350]\", \"Bourbon Street Parade [jazz1350]\"),\n",
        "\n",
        "               # Stella C is like Woody B\n",
        "               (\"Woody'n You [jazz1350]\", \"Stella By Starlight [jazz1350]\"),\n",
        "\n",
        "               # similar vocabulary, different progressions\n",
        "               (\"Tangerine [jazz1350]\", \"Tea For Two [jazz1350]\"),\n",
        "               (\"I Can't Give You Anything But Love [jazz1350]\", \"You Can Depend On Me [jazz1350]\"),\n",
        "               (\"This Year's Kisses [jazz1350]\", \"My Monday Date [trad]\"),\n",
        "               (\"A Blossom Fell [jazz1350]\", \"Among My Souvenirs [jazz1350]\"),\n",
        "\n",
        "]"
      ],
      "execution_count": 19,
      "outputs": []
    },
    {
      "cell_type": "code",
      "metadata": {
        "colab": {
          "base_uri": "https://localhost:8080/"
        },
        "id": "V2OXaDW9R31b",
        "outputId": "570d8b1b-5256-4d0b-f514-335517fb1973"
      },
      "source": [
        "len(contrafacts)"
      ],
      "execution_count": 20,
      "outputs": [
        {
          "output_type": "execute_result",
          "data": {
            "text/plain": [
              "113"
            ]
          },
          "metadata": {},
          "execution_count": 20
        }
      ]
    },
    {
      "cell_type": "markdown",
      "metadata": {
        "id": "gcexO7zK8Pn6"
      },
      "source": [
        "# Initialization\n",
        "\n",
        "## Download the Data"
      ]
    },
    {
      "cell_type": "code",
      "metadata": {
        "id": "JwVJo3Vat8iF"
      },
      "source": [
        "input_data = input_files[docu][chords_preprocessing]\n",
        "\n",
        "input_path = f\"https://docs.google.com/uc?export=download&id={input_data}\"\n",
        "data_file_name = 'data.csv'\n"
      ],
      "execution_count": 21,
      "outputs": []
    },
    {
      "cell_type": "code",
      "metadata": {
        "colab": {
          "base_uri": "https://localhost:8080/",
          "height": 36
        },
        "id": "_Dp-fijjB-pU",
        "outputId": "81d8afb3-9d10-4922-8cf6-a0b4c6f24217"
      },
      "source": [
        "input_path"
      ],
      "execution_count": 22,
      "outputs": [
        {
          "output_type": "execute_result",
          "data": {
            "application/vnd.google.colaboratory.intrinsic+json": {
              "type": "string"
            },
            "text/plain": [
              "'https://docs.google.com/uc?export=download&id=1NP6trpfnEPnFqJbmcuClvkBB28PNdF8c'"
            ]
          },
          "metadata": {},
          "execution_count": 22
        }
      ]
    },
    {
      "cell_type": "code",
      "metadata": {
        "colab": {
          "base_uri": "https://localhost:8080/"
        },
        "id": "1ZVAYUH5t9Li",
        "outputId": "5affffb8-0767-4a7c-b2f9-908b2feec28c"
      },
      "source": [
        "!wget --no-check-certificate \"$input_path\" -O \"$data_file_name\""
      ],
      "execution_count": 23,
      "outputs": [
        {
          "output_type": "stream",
          "name": "stdout",
          "text": [
            "--2021-12-03 08:46:18--  https://docs.google.com/uc?export=download&id=1NP6trpfnEPnFqJbmcuClvkBB28PNdF8c\n",
            "Resolving docs.google.com (docs.google.com)... 142.250.98.138, 142.250.98.139, 142.250.98.113, ...\n",
            "Connecting to docs.google.com (docs.google.com)|142.250.98.138|:443... connected.\n",
            "HTTP request sent, awaiting response... 302 Moved Temporarily\n",
            "Location: https://doc-0g-4c-docs.googleusercontent.com/docs/securesc/ha0ro937gcuc7l7deffksulhg5h7mbp1/6sso135ks3i2qcsck98tna0ns3232b5c/1638521175000/14329102864480165501/*/1NP6trpfnEPnFqJbmcuClvkBB28PNdF8c?e=download [following]\n",
            "Warning: wildcards not supported in HTTP.\n",
            "--2021-12-03 08:46:19--  https://doc-0g-4c-docs.googleusercontent.com/docs/securesc/ha0ro937gcuc7l7deffksulhg5h7mbp1/6sso135ks3i2qcsck98tna0ns3232b5c/1638521175000/14329102864480165501/*/1NP6trpfnEPnFqJbmcuClvkBB28PNdF8c?e=download\n",
            "Resolving doc-0g-4c-docs.googleusercontent.com (doc-0g-4c-docs.googleusercontent.com)... 172.217.203.132, 2607:f8b0:400c:c07::84\n",
            "Connecting to doc-0g-4c-docs.googleusercontent.com (doc-0g-4c-docs.googleusercontent.com)|172.217.203.132|:443... connected.\n",
            "HTTP request sent, awaiting response... 200 OK\n",
            "Length: 815328 (796K) [text/csv]\n",
            "Saving to: ‘data.csv’\n",
            "\n",
            "data.csv            100%[===================>] 796.22K  --.-KB/s    in 0.008s  \n",
            "\n",
            "2021-12-03 08:46:19 (93.4 MB/s) - ‘data.csv’ saved [815328/815328]\n",
            "\n"
          ]
        }
      ]
    },
    {
      "cell_type": "markdown",
      "metadata": {
        "id": "Ljs21B7h8YvC"
      },
      "source": [
        "### Read Chords Input Data"
      ]
    },
    {
      "cell_type": "code",
      "metadata": {
        "colab": {
          "base_uri": "https://localhost:8080/",
          "height": 310
        },
        "id": "B7kK418L8aac",
        "outputId": "a428e19a-2b64-410f-bb89-7629e0ed5daf"
      },
      "source": [
        "df = pd.read_csv(data_file_name, sep='\\t', index_col=\"id\")\n",
        "df = df.reset_index()\n",
        "df.head(5)"
      ],
      "execution_count": 24,
      "outputs": [
        {
          "output_type": "execute_result",
          "data": {
            "text/html": [
              "<div>\n",
              "<style scoped>\n",
              "    .dataframe tbody tr th:only-of-type {\n",
              "        vertical-align: middle;\n",
              "    }\n",
              "\n",
              "    .dataframe tbody tr th {\n",
              "        vertical-align: top;\n",
              "    }\n",
              "\n",
              "    .dataframe thead th {\n",
              "        text-align: right;\n",
              "    }\n",
              "</style>\n",
              "<table border=\"1\" class=\"dataframe\">\n",
              "  <thead>\n",
              "    <tr style=\"text-align: right;\">\n",
              "      <th></th>\n",
              "      <th>id</th>\n",
              "      <th>file_name</th>\n",
              "      <th>title</th>\n",
              "      <th>title_playlist</th>\n",
              "      <th>tune_mode</th>\n",
              "      <th>tune_id</th>\n",
              "      <th>section_name</th>\n",
              "      <th>section_id</th>\n",
              "      <th>chords</th>\n",
              "    </tr>\n",
              "  </thead>\n",
              "  <tbody>\n",
              "    <tr>\n",
              "      <th>0</th>\n",
              "      <td>0</td>\n",
              "      <td>dataset/jazz1350/26-2.xml</td>\n",
              "      <td>26-2</td>\n",
              "      <td>26-2 [jazz1350]</td>\n",
              "      <td>major</td>\n",
              "      <td>0</td>\n",
              "      <td>A</td>\n",
              "      <td>1</td>\n",
              "      <td>C Eb7 G# B7 E G7 Gm C7 F G#7 C# E7 Am D7 Dm G7</td>\n",
              "    </tr>\n",
              "    <tr>\n",
              "      <th>1</th>\n",
              "      <td>1</td>\n",
              "      <td>dataset/jazz1350/26-2.xml</td>\n",
              "      <td>26-2</td>\n",
              "      <td>26-2 [jazz1350]</td>\n",
              "      <td>major</td>\n",
              "      <td>0</td>\n",
              "      <td>A</td>\n",
              "      <td>2</td>\n",
              "      <td>C Eb7 G# B7 E G7 Gm C7 F Eb7 G# B7 E G7 C</td>\n",
              "    </tr>\n",
              "    <tr>\n",
              "      <th>2</th>\n",
              "      <td>2</td>\n",
              "      <td>dataset/jazz1350/26-2.xml</td>\n",
              "      <td>26-2</td>\n",
              "      <td>26-2 [jazz1350]</td>\n",
              "      <td>major</td>\n",
              "      <td>0</td>\n",
              "      <td>B</td>\n",
              "      <td>3</td>\n",
              "      <td>Gm C7 Bm E7 A C7 F Bbm Eb7 G# Dm G7</td>\n",
              "    </tr>\n",
              "    <tr>\n",
              "      <th>3</th>\n",
              "      <td>3</td>\n",
              "      <td>dataset/jazz1350/26-2.xml</td>\n",
              "      <td>26-2</td>\n",
              "      <td>26-2 [jazz1350]</td>\n",
              "      <td>major</td>\n",
              "      <td>0</td>\n",
              "      <td>A</td>\n",
              "      <td>4</td>\n",
              "      <td>C Eb7 G# B7 E G7 Gm C7 F Eb7 G# B7 E G7 C</td>\n",
              "    </tr>\n",
              "    <tr>\n",
              "      <th>4</th>\n",
              "      <td>4</td>\n",
              "      <td>dataset/jazz1350/500 Miles High.xml</td>\n",
              "      <td>500 Miles High</td>\n",
              "      <td>500 Miles High [jazz1350]</td>\n",
              "      <td>minor</td>\n",
              "      <td>1</td>\n",
              "      <td>A</td>\n",
              "      <td>1</td>\n",
              "      <td>Am Am Cm Cm Eb Eb Em7b5 A7 Dm Dm Bm7b5 Bm7b5 B...</td>\n",
              "    </tr>\n",
              "  </tbody>\n",
              "</table>\n",
              "</div>"
            ],
            "text/plain": [
              "   id                            file_name           title             title_playlist tune_mode  tune_id section_name  section_id                                             chords\n",
              "0   0            dataset/jazz1350/26-2.xml            26-2            26-2 [jazz1350]     major        0            A           1     C Eb7 G# B7 E G7 Gm C7 F G#7 C# E7 Am D7 Dm G7\n",
              "1   1            dataset/jazz1350/26-2.xml            26-2            26-2 [jazz1350]     major        0            A           2          C Eb7 G# B7 E G7 Gm C7 F Eb7 G# B7 E G7 C\n",
              "2   2            dataset/jazz1350/26-2.xml            26-2            26-2 [jazz1350]     major        0            B           3                Gm C7 Bm E7 A C7 F Bbm Eb7 G# Dm G7\n",
              "3   3            dataset/jazz1350/26-2.xml            26-2            26-2 [jazz1350]     major        0            A           4          C Eb7 G# B7 E G7 Gm C7 F Eb7 G# B7 E G7 C\n",
              "4   4  dataset/jazz1350/500 Miles High.xml  500 Miles High  500 Miles High [jazz1350]     minor        1            A           1  Am Am Cm Cm Eb Eb Em7b5 A7 Dm Dm Bm7b5 Bm7b5 B..."
            ]
          },
          "metadata": {},
          "execution_count": 24
        }
      ]
    },
    {
      "cell_type": "markdown",
      "metadata": {
        "id": "OsPcEFbg8gu6"
      },
      "source": [
        "### Meta Data"
      ]
    },
    {
      "cell_type": "code",
      "metadata": {
        "colab": {
          "base_uri": "https://localhost:8080/",
          "height": 206
        },
        "id": "_62YlEVJXOCL",
        "outputId": "fff793db-f017-4e64-c6a7-afd3365e2adb"
      },
      "source": [
        "titles = df.loc[:, ['id', 'tune_id', 'section_id', 'section_name', 'title', 'title_playlist', 'tune_mode']]\n",
        "titles[:5]"
      ],
      "execution_count": 25,
      "outputs": [
        {
          "output_type": "execute_result",
          "data": {
            "text/html": [
              "<div>\n",
              "<style scoped>\n",
              "    .dataframe tbody tr th:only-of-type {\n",
              "        vertical-align: middle;\n",
              "    }\n",
              "\n",
              "    .dataframe tbody tr th {\n",
              "        vertical-align: top;\n",
              "    }\n",
              "\n",
              "    .dataframe thead th {\n",
              "        text-align: right;\n",
              "    }\n",
              "</style>\n",
              "<table border=\"1\" class=\"dataframe\">\n",
              "  <thead>\n",
              "    <tr style=\"text-align: right;\">\n",
              "      <th></th>\n",
              "      <th>id</th>\n",
              "      <th>tune_id</th>\n",
              "      <th>section_id</th>\n",
              "      <th>section_name</th>\n",
              "      <th>title</th>\n",
              "      <th>title_playlist</th>\n",
              "      <th>tune_mode</th>\n",
              "    </tr>\n",
              "  </thead>\n",
              "  <tbody>\n",
              "    <tr>\n",
              "      <th>0</th>\n",
              "      <td>0</td>\n",
              "      <td>0</td>\n",
              "      <td>1</td>\n",
              "      <td>A</td>\n",
              "      <td>26-2</td>\n",
              "      <td>26-2 [jazz1350]</td>\n",
              "      <td>major</td>\n",
              "    </tr>\n",
              "    <tr>\n",
              "      <th>1</th>\n",
              "      <td>1</td>\n",
              "      <td>0</td>\n",
              "      <td>2</td>\n",
              "      <td>A</td>\n",
              "      <td>26-2</td>\n",
              "      <td>26-2 [jazz1350]</td>\n",
              "      <td>major</td>\n",
              "    </tr>\n",
              "    <tr>\n",
              "      <th>2</th>\n",
              "      <td>2</td>\n",
              "      <td>0</td>\n",
              "      <td>3</td>\n",
              "      <td>B</td>\n",
              "      <td>26-2</td>\n",
              "      <td>26-2 [jazz1350]</td>\n",
              "      <td>major</td>\n",
              "    </tr>\n",
              "    <tr>\n",
              "      <th>3</th>\n",
              "      <td>3</td>\n",
              "      <td>0</td>\n",
              "      <td>4</td>\n",
              "      <td>A</td>\n",
              "      <td>26-2</td>\n",
              "      <td>26-2 [jazz1350]</td>\n",
              "      <td>major</td>\n",
              "    </tr>\n",
              "    <tr>\n",
              "      <th>4</th>\n",
              "      <td>4</td>\n",
              "      <td>1</td>\n",
              "      <td>1</td>\n",
              "      <td>A</td>\n",
              "      <td>500 Miles High</td>\n",
              "      <td>500 Miles High [jazz1350]</td>\n",
              "      <td>minor</td>\n",
              "    </tr>\n",
              "  </tbody>\n",
              "</table>\n",
              "</div>"
            ],
            "text/plain": [
              "   id  tune_id  section_id section_name           title             title_playlist tune_mode\n",
              "0   0        0           1            A            26-2            26-2 [jazz1350]     major\n",
              "1   1        0           2            A            26-2            26-2 [jazz1350]     major\n",
              "2   2        0           3            B            26-2            26-2 [jazz1350]     major\n",
              "3   3        0           4            A            26-2            26-2 [jazz1350]     major\n",
              "4   4        1           1            A  500 Miles High  500 Miles High [jazz1350]     minor"
            ]
          },
          "metadata": {},
          "execution_count": 25
        }
      ]
    },
    {
      "cell_type": "code",
      "metadata": {
        "id": "0vEOjvwt8jUu"
      },
      "source": [
        "titles_dict = titles.to_dict()\n",
        "\n",
        "sectionid_to_title = titles_dict['title_playlist']\n",
        "sectionid_to_titleid = titles_dict['tune_id']\n"
      ],
      "execution_count": 26,
      "outputs": []
    },
    {
      "cell_type": "code",
      "metadata": {
        "id": "Om7pbfnNGO_I"
      },
      "source": [
        "tunes = df.loc[:, ['tune_id', 'title_playlist']].drop_duplicates()\n",
        "tunes = tunes.set_index('tune_id').to_dict()\n",
        "titleid_to_title = tunes['title_playlist']"
      ],
      "execution_count": 27,
      "outputs": []
    },
    {
      "cell_type": "code",
      "metadata": {
        "colab": {
          "base_uri": "https://localhost:8080/"
        },
        "id": "MdUrEFKj7kVA",
        "outputId": "7c3a5c9a-7e61-4118-cf71-5b7eb3a52bf9"
      },
      "source": [
        "len(titleid_to_title)"
      ],
      "execution_count": 28,
      "outputs": [
        {
          "output_type": "execute_result",
          "data": {
            "text/plain": [
              "1692"
            ]
          },
          "metadata": {},
          "execution_count": 28
        }
      ]
    },
    {
      "cell_type": "code",
      "metadata": {
        "id": "OvLyxrExxvew"
      },
      "source": [
        "title_to_titleid = {v: k for k, v in titleid_to_title.items()}\n"
      ],
      "execution_count": 29,
      "outputs": []
    },
    {
      "cell_type": "code",
      "metadata": {
        "id": "1H72Y3_d8uNu"
      },
      "source": [
        "titles_rows = titles.to_dict(orient='records')\n",
        "sectionid_to_section = []\n",
        "for i, row in enumerate(titles_rows):\n",
        "  name = f\"{row['title']}, section{row['section_id']} ({row['section_name']})\"\n",
        "  sectionid_to_section.append(name)\n",
        "  "
      ],
      "execution_count": 30,
      "outputs": []
    },
    {
      "cell_type": "code",
      "metadata": {
        "id": "1W7RfTQpaIEz"
      },
      "source": [
        "sectionid_to_sectionlabel = []\n",
        "for i, row in enumerate(titles_rows):\n",
        "  sectionid_to_sectionlabel.append(row['section_name'])\n",
        "  "
      ],
      "execution_count": 31,
      "outputs": []
    },
    {
      "cell_type": "code",
      "metadata": {
        "id": "HCeGUk818y8V"
      },
      "source": [
        "title_to_sectionid = {}\n",
        "\n",
        "for row in titles.iterrows():\n",
        "  title = row[1]['title_playlist']\n",
        "  if title not in title_to_sectionid:\n",
        "    title_to_sectionid[title] = [row[1]['id']]\n",
        "  else:\n",
        "    title_to_sectionid[title].append(row[1]['id'])"
      ],
      "execution_count": 32,
      "outputs": []
    },
    {
      "cell_type": "markdown",
      "metadata": {
        "id": "GWXGqImnoHdm"
      },
      "source": [
        "### Create Directories on Colab"
      ]
    },
    {
      "cell_type": "code",
      "metadata": {
        "id": "sDWIxDpIoJv1",
        "colab": {
          "base_uri": "https://localhost:8080/"
        },
        "outputId": "d62e6d26-9806-49c6-fb62-4315477d4349"
      },
      "source": [
        "!rm -R output\n",
        "!mkdir output"
      ],
      "execution_count": 33,
      "outputs": [
        {
          "output_type": "stream",
          "name": "stdout",
          "text": [
            "rm: cannot remove 'output': No such file or directory\n"
          ]
        }
      ]
    },
    {
      "cell_type": "markdown",
      "metadata": {
        "id": "LvQ60s_owm82"
      },
      "source": [
        "## Initialization for wandb variables"
      ]
    },
    {
      "cell_type": "code",
      "metadata": {
        "id": "fw7FHHXfwagL"
      },
      "source": [
        "recommender_results_cols = ['reference', 'id', 'method', 'similar', 'score_div_max', 'score']\n",
        "recommender_results = pd.DataFrame(columns=recommender_results_cols)"
      ],
      "execution_count": 34,
      "outputs": []
    },
    {
      "cell_type": "code",
      "metadata": {
        "id": "PfvF20G1JZMa"
      },
      "source": [
        "lsi_config = {\n",
        "    'num_topics': 100, #22, # 100 gives a better value for the contrafacts test\n",
        "}"
      ],
      "execution_count": 35,
      "outputs": []
    },
    {
      "cell_type": "code",
      "metadata": {
        "id": "eW2f6BdAJl01"
      },
      "source": [
        "doc2vec_config = {\n",
        "    'general': {\n",
        "        'chords_preprocessing': chords_preprocessing,\n",
        "        'tag_sections_and_tunes': False,\n",
        "    },\n",
        "    'model': {\n",
        "        'dm': 1,\n",
        "        'vector_size': 100,\n",
        "        'window': 2,\n",
        "        'epochs': 40,\n",
        "        #'workers': 1,\n",
        "        'min_count': 1,\n",
        "        'negative': 10,\n",
        "        'sample': 0.001,\n",
        "        'seed': 42\n",
        "    }\n",
        "}"
      ],
      "execution_count": 36,
      "outputs": []
    },
    {
      "cell_type": "code",
      "metadata": {
        "id": "sxdJ97gdx70_",
        "colab": {
          "base_uri": "https://localhost:8080/",
          "height": 53
        },
        "outputId": "6f1aea25-01eb-40d7-91e5-3e02d7e05a50"
      },
      "source": [
        "if use_wandb:\n",
        "  wandb.init(\n",
        "        # Set entity to specify your username or team name\n",
        "        # ex: entity=\"carey\",\n",
        "        # Set the project where this run will be logged\n",
        "        project=\"jazztunes\", \n",
        "        \n",
        "        # Track hyperparameters and run metadata\n",
        "        config={\n",
        "            \"input_data\": input_path,\n",
        "            \"ngrams_input\": ngrams_for_input,\n",
        "            \"comparison\": docu,\n",
        "            \"lsi\": lsi_config,\n",
        "            \"doc2vec\": doc2vec_config,\n",
        "            \"remove_repeated_chords\": remove_repetitions,\n",
        "            \"phrases_threshold\": phrases_threshold,\n",
        "        }\n",
        "    )"
      ],
      "execution_count": 37,
      "outputs": [
        {
          "output_type": "stream",
          "name": "stderr",
          "text": [
            "\u001b[34m\u001b[1mwandb\u001b[0m: Currently logged in as: \u001b[33mdoris\u001b[0m (use `wandb login --relogin` to force relogin)\n"
          ]
        },
        {
          "output_type": "display_data",
          "data": {
            "text/html": [
              "\n",
              "                    Syncing run <strong><a href=\"https://wandb.ai/doris/jazztunes/runs/1ivhga86\" target=\"_blank\">easy-oath-51</a></strong> to <a href=\"https://wandb.ai/doris/jazztunes\" target=\"_blank\">Weights & Biases</a> (<a href=\"https://docs.wandb.com/integrations/jupyter.html\" target=\"_blank\">docs</a>).<br/>\n",
              "\n",
              "                "
            ],
            "text/plain": [
              "<IPython.core.display.HTML object>"
            ]
          },
          "metadata": {}
        }
      ]
    },
    {
      "cell_type": "code",
      "metadata": {
        "id": "xHOY4TKYVN-g"
      },
      "source": [
        "if use_wandb:\n",
        "  artifact = wandb.Artifact('input_data', type='dataset')\n",
        "  artifact.add_file('data.csv')\n",
        "  wandb.log_artifact(artifact)"
      ],
      "execution_count": 38,
      "outputs": []
    },
    {
      "cell_type": "markdown",
      "metadata": {
        "id": "wox-dMcz84Bt"
      },
      "source": [
        "## Helpers functions"
      ]
    },
    {
      "cell_type": "code",
      "metadata": {
        "id": "2964REdr80Gd"
      },
      "source": [
        "def ngrams(tokens, n=2, sep='-'):\n",
        "    return [sep.join(ngram) for ngram in zip(*[tokens[i:] for i in range(n)])]"
      ],
      "execution_count": 39,
      "outputs": []
    },
    {
      "cell_type": "code",
      "metadata": {
        "id": "W42rugQPNYVP"
      },
      "source": [
        "def raw_chords_to_df(tunes):\n",
        "  tunes_chords = [item for tune in tunes for item in tune]\n",
        "  counts = Counter(tunes_chords)\n",
        "  df = pd.DataFrame(counts.items(),\n",
        "                    columns=['chord', 'count']).sort_values(by='count', ascending=False)\n",
        "\n",
        "  return df"
      ],
      "execution_count": 40,
      "outputs": []
    },
    {
      "cell_type": "markdown",
      "metadata": {
        "id": "umfsNtAdF0jM"
      },
      "source": [
        "# Data Preparation"
      ]
    },
    {
      "cell_type": "code",
      "metadata": {
        "id": "FeRqVmphCS6m"
      },
      "source": [
        "def remove_chord_repetitions(chords):\n",
        "  previous = ''\n",
        "  chords_norep = []\n",
        "  for c in chords:\n",
        "    if c != previous:\n",
        "      chords_norep.append(c)\n",
        "      previous = c\n",
        "  return chords_norep\n",
        "  "
      ],
      "execution_count": 41,
      "outputs": []
    },
    {
      "cell_type": "code",
      "metadata": {
        "id": "dCLwnqoVGcMw"
      },
      "source": [
        "lines = df.loc[:, 'chords'].tolist()\n",
        "data = [line.split(' ') for line in lines]"
      ],
      "execution_count": 42,
      "outputs": []
    },
    {
      "cell_type": "code",
      "metadata": {
        "colab": {
          "base_uri": "https://localhost:8080/"
        },
        "id": "g7SmApW9F3K6",
        "outputId": "c771e9c9-ba7a-4bd2-f773-54babb11bcff"
      },
      "source": [
        "processed_corpus = []\n",
        "for line in data:\n",
        "  tune_n = []\n",
        "  if remove_repetitions:\n",
        "    line = remove_chord_repetitions(line)\n",
        "  for n in ngrams_for_input:\n",
        "    tune_n.extend(ngrams(line, n=n))\n",
        "  processed_corpus.append(tune_n)\n",
        "\n",
        "for line in processed_corpus[:10]:\n",
        "  print(line)"
      ],
      "execution_count": 43,
      "outputs": [
        {
          "output_type": "stream",
          "name": "stdout",
          "text": [
            "['C', 'Eb7', 'G#', 'B7', 'E', 'G7', 'Gm', 'C7', 'F', 'G#7', 'C#', 'E7', 'Am', 'D7', 'Dm', 'G7']\n",
            "['C', 'Eb7', 'G#', 'B7', 'E', 'G7', 'Gm', 'C7', 'F', 'Eb7', 'G#', 'B7', 'E', 'G7', 'C']\n",
            "['Gm', 'C7', 'Bm', 'E7', 'A', 'C7', 'F', 'Bbm', 'Eb7', 'G#', 'Dm', 'G7']\n",
            "['C', 'Eb7', 'G#', 'B7', 'E', 'G7', 'Gm', 'C7', 'F', 'Eb7', 'G#', 'B7', 'E', 'G7', 'C']\n",
            "['Am', 'Am', 'Cm', 'Cm', 'Eb', 'Eb', 'Em7b5', 'A7', 'Dm', 'Dm', 'Bm7b5', 'Bm7b5', 'Bbm', 'Bbm', 'Fm', 'Fm', 'E7', 'E7', 'Fm', 'Fm', 'C#', 'C#', 'Fm', 'Fm', 'C#', 'C#']\n",
            "['Am', 'C#', 'Bm7b5', 'E7', 'Am', 'C#', 'Bm7b5', 'E7', 'Cm', 'F7', 'Bb', 'G#m', 'C#7', 'F#m7b5', 'B7', 'E', 'E', 'E7']\n",
            "['Am', 'C#', 'Bm7b5', 'E7', 'Am', 'C#', 'Bm7b5', 'E7', 'Cm', 'F7', 'Bb', 'G#m', 'C#7', 'F#m7b5', 'B7', 'Em', 'Em']\n",
            "['C', 'Am', 'Dm', 'G7', 'C', 'Am', 'Dm', 'G7', 'C', 'Am', 'Dm', 'G7', 'C', 'G7', 'C']\n",
            "['C', 'Am', 'Dm', 'G7', 'C', 'Am', 'Dm', 'G7', 'C', 'Am', 'Dm', 'G7', 'C', 'G7', 'C']\n",
            "['C7', 'C7', 'F', 'F', 'D7', 'D7', 'G7', 'G7']\n"
          ]
        }
      ]
    },
    {
      "cell_type": "code",
      "metadata": {
        "colab": {
          "base_uri": "https://localhost:8080/"
        },
        "id": "iERQjgxNsV6Q",
        "outputId": "aad297ce-df46-4337-e3a6-5a3895f024c1"
      },
      "source": [
        "len(processed_corpus)"
      ],
      "execution_count": 44,
      "outputs": [
        {
          "output_type": "execute_result",
          "data": {
            "text/plain": [
              "5552"
            ]
          },
          "metadata": {},
          "execution_count": 44
        }
      ]
    },
    {
      "cell_type": "markdown",
      "metadata": {
        "id": "_mWldntzbgqd"
      },
      "source": [
        "#### Use Phrases"
      ]
    },
    {
      "cell_type": "code",
      "metadata": {
        "colab": {
          "base_uri": "https://localhost:8080/"
        },
        "id": "JV1cJPbWbgXY",
        "outputId": "7b71e4ef-a66b-419f-d98d-c64bf1a9c425"
      },
      "source": [
        "def make_bigrams(texts, thres=0.2):\n",
        "  bigram = gensim.models.Phrases(texts, min_count=1, threshold=thres, connector_words=[], scoring='npmi')\n",
        "  bigram_mod = gensim.models.phrases.Phraser(bigram)\n",
        "  return [bigram_mod[doc] for doc in texts]\n",
        "\n",
        "\n",
        "processed_corpus = make_bigrams(data, thres=phrases_threshold)\n",
        "\n",
        "for i in processed_corpus[:10]:\n",
        "  print(i)"
      ],
      "execution_count": 45,
      "outputs": [
        {
          "output_type": "stream",
          "name": "stderr",
          "text": [
            "2021-12-03 08:46:50,747 : INFO : collecting all words and their counts\n",
            "2021-12-03 08:46:50,750 : INFO : PROGRESS: at sentence #0, processed 0 words and 0 word types\n",
            "2021-12-03 08:46:50,853 : INFO : collected 1772 token types (unigram + bigrams) from a corpus of 76986 words and 5552 sentences\n",
            "2021-12-03 08:46:50,856 : INFO : merged Phrases<1772 vocab, min_count=1, threshold=1.0, max_vocab_size=40000000>\n",
            "2021-12-03 08:46:50,859 : INFO : Phrases lifecycle event {'msg': 'built Phrases<1772 vocab, min_count=1, threshold=1.0, max_vocab_size=40000000> in 0.11s', 'datetime': '2021-12-03T08:46:50.859435', 'gensim': '4.1.2', 'python': '3.7.12 (default, Sep 10 2021, 00:21:48) \\n[GCC 7.5.0]', 'platform': 'Linux-5.4.104+-x86_64-with-Ubuntu-18.04-bionic', 'event': 'created'}\n",
            "2021-12-03 08:46:50,862 : INFO : exporting phrases from Phrases<1772 vocab, min_count=1, threshold=1.0, max_vocab_size=40000000>\n",
            "2021-12-03 08:46:50,873 : INFO : FrozenPhrases lifecycle event {'msg': 'exported FrozenPhrases<0 phrases, min_count=1, threshold=1.0> from Phrases<1772 vocab, min_count=1, threshold=1.0, max_vocab_size=40000000> in 0.01s', 'datetime': '2021-12-03T08:46:50.873748', 'gensim': '4.1.2', 'python': '3.7.12 (default, Sep 10 2021, 00:21:48) \\n[GCC 7.5.0]', 'platform': 'Linux-5.4.104+-x86_64-with-Ubuntu-18.04-bionic', 'event': 'created'}\n"
          ]
        },
        {
          "output_type": "stream",
          "name": "stdout",
          "text": [
            "['C', 'Eb7', 'G#', 'B7', 'E', 'G7', 'Gm', 'C7', 'F', 'G#7', 'C#', 'E7', 'Am', 'D7', 'Dm', 'G7']\n",
            "['C', 'Eb7', 'G#', 'B7', 'E', 'G7', 'Gm', 'C7', 'F', 'Eb7', 'G#', 'B7', 'E', 'G7', 'C']\n",
            "['Gm', 'C7', 'Bm', 'E7', 'A', 'C7', 'F', 'Bbm', 'Eb7', 'G#', 'Dm', 'G7']\n",
            "['C', 'Eb7', 'G#', 'B7', 'E', 'G7', 'Gm', 'C7', 'F', 'Eb7', 'G#', 'B7', 'E', 'G7', 'C']\n",
            "['Am', 'Am', 'Cm', 'Cm', 'Eb', 'Eb', 'Em7b5', 'A7', 'Dm', 'Dm', 'Bm7b5', 'Bm7b5', 'Bbm', 'Bbm', 'Fm', 'Fm', 'E7', 'E7', 'Fm', 'Fm', 'C#', 'C#', 'Fm', 'Fm', 'C#', 'C#']\n",
            "['Am', 'C#', 'Bm7b5', 'E7', 'Am', 'C#', 'Bm7b5', 'E7', 'Cm', 'F7', 'Bb', 'G#m', 'C#7', 'F#m7b5', 'B7', 'E', 'E', 'E7']\n",
            "['Am', 'C#', 'Bm7b5', 'E7', 'Am', 'C#', 'Bm7b5', 'E7', 'Cm', 'F7', 'Bb', 'G#m', 'C#7', 'F#m7b5', 'B7', 'Em', 'Em']\n",
            "['C', 'Am', 'Dm', 'G7', 'C', 'Am', 'Dm', 'G7', 'C', 'Am', 'Dm', 'G7', 'C', 'G7', 'C']\n",
            "['C', 'Am', 'Dm', 'G7', 'C', 'Am', 'Dm', 'G7', 'C', 'Am', 'Dm', 'G7', 'C', 'G7', 'C']\n",
            "['C7', 'C7', 'F', 'F', 'D7', 'D7', 'G7', 'G7']\n"
          ]
        }
      ]
    },
    {
      "cell_type": "code",
      "metadata": {
        "colab": {
          "base_uri": "https://localhost:8080/"
        },
        "id": "E3sOp7OtsZNw",
        "outputId": "d41e7aeb-1fa8-4a23-ec10-996bdcb1c036"
      },
      "source": [
        "len(processed_corpus)"
      ],
      "execution_count": 46,
      "outputs": [
        {
          "output_type": "execute_result",
          "data": {
            "text/plain": [
              "5552"
            ]
          },
          "metadata": {},
          "execution_count": 46
        }
      ]
    },
    {
      "cell_type": "markdown",
      "metadata": {
        "id": "Sri0K2DhNagp"
      },
      "source": [
        "#### Corpus Overview"
      ]
    },
    {
      "cell_type": "code",
      "metadata": {
        "colab": {
          "base_uri": "https://localhost:8080/"
        },
        "id": "X2ZqA7IF4ufg",
        "outputId": "a12eb36b-2a43-45f2-ce6e-d631cafd7abd"
      },
      "source": [
        "tokens = [item for l in processed_corpus for item in l]\n",
        "total_tokens = len(tokens)\n",
        "vocab_size = len(set(tokens))\n",
        "vocab_prop = 100*vocab_size/total_tokens\n",
        "\n",
        "print(f\"Total Number of tokens: {total_tokens}\")\n",
        "print(f\"Size of vocabulary: {vocab_size}\")\n",
        "print(f\"Proportion of vocabulary in corpus: {vocab_prop:.02f}%\")"
      ],
      "execution_count": 47,
      "outputs": [
        {
          "output_type": "stream",
          "name": "stdout",
          "text": [
            "Total Number of tokens: 76986\n",
            "Size of vocabulary: 60\n",
            "Proportion of vocabulary in corpus: 0.08%\n"
          ]
        }
      ]
    },
    {
      "cell_type": "code",
      "metadata": {
        "colab": {
          "base_uri": "https://localhost:8080/",
          "height": 363
        },
        "id": "rULq3jYVNh_x",
        "outputId": "04fbfc8b-439b-4bfd-c8db-169053a6699c"
      },
      "source": [
        "df_chords = raw_chords_to_df(processed_corpus)\n",
        "df_chords.head(10)"
      ],
      "execution_count": 48,
      "outputs": [
        {
          "output_type": "execute_result",
          "data": {
            "text/html": [
              "<div>\n",
              "<style scoped>\n",
              "    .dataframe tbody tr th:only-of-type {\n",
              "        vertical-align: middle;\n",
              "    }\n",
              "\n",
              "    .dataframe tbody tr th {\n",
              "        vertical-align: top;\n",
              "    }\n",
              "\n",
              "    .dataframe thead th {\n",
              "        text-align: right;\n",
              "    }\n",
              "</style>\n",
              "<table border=\"1\" class=\"dataframe\">\n",
              "  <thead>\n",
              "    <tr style=\"text-align: right;\">\n",
              "      <th></th>\n",
              "      <th>chord</th>\n",
              "      <th>count</th>\n",
              "    </tr>\n",
              "  </thead>\n",
              "  <tbody>\n",
              "    <tr>\n",
              "      <th>0</th>\n",
              "      <td>C</td>\n",
              "      <td>12928</td>\n",
              "    </tr>\n",
              "    <tr>\n",
              "      <th>5</th>\n",
              "      <td>G7</td>\n",
              "      <td>10214</td>\n",
              "    </tr>\n",
              "    <tr>\n",
              "      <th>14</th>\n",
              "      <td>Dm</td>\n",
              "      <td>7514</td>\n",
              "    </tr>\n",
              "    <tr>\n",
              "      <th>12</th>\n",
              "      <td>Am</td>\n",
              "      <td>5501</td>\n",
              "    </tr>\n",
              "    <tr>\n",
              "      <th>21</th>\n",
              "      <td>A7</td>\n",
              "      <td>4201</td>\n",
              "    </tr>\n",
              "    <tr>\n",
              "      <th>13</th>\n",
              "      <td>D7</td>\n",
              "      <td>3638</td>\n",
              "    </tr>\n",
              "    <tr>\n",
              "      <th>8</th>\n",
              "      <td>F</td>\n",
              "      <td>3432</td>\n",
              "    </tr>\n",
              "    <tr>\n",
              "      <th>7</th>\n",
              "      <td>C7</td>\n",
              "      <td>3263</td>\n",
              "    </tr>\n",
              "    <tr>\n",
              "      <th>11</th>\n",
              "      <td>E7</td>\n",
              "      <td>3055</td>\n",
              "    </tr>\n",
              "    <tr>\n",
              "      <th>29</th>\n",
              "      <td>Em</td>\n",
              "      <td>2578</td>\n",
              "    </tr>\n",
              "  </tbody>\n",
              "</table>\n",
              "</div>"
            ],
            "text/plain": [
              "   chord  count\n",
              "0      C  12928\n",
              "5     G7  10214\n",
              "14    Dm   7514\n",
              "12    Am   5501\n",
              "21    A7   4201\n",
              "13    D7   3638\n",
              "8      F   3432\n",
              "7     C7   3263\n",
              "11    E7   3055\n",
              "29    Em   2578"
            ]
          },
          "metadata": {},
          "execution_count": 48
        }
      ]
    },
    {
      "cell_type": "code",
      "metadata": {
        "colab": {
          "base_uri": "https://localhost:8080/",
          "height": 560
        },
        "id": "G9fknTouNmKm",
        "outputId": "6962eab8-929b-4e0a-c651-3a5ef4db6374"
      },
      "source": [
        "df_chords = pd.DataFrame.from_dict(df_chords)\n",
        "df_chords.sort_values(by=['count'], ascending=False, inplace=True)\n",
        "df_chords_top = df_chords.query('count > 100')\n",
        "\n",
        "fig = px.bar(df_chords_top, x='chord', y='count', log_y=True)\n",
        "fig.update_layout(barmode='stack', xaxis={'categoryorder':'total descending'})\n",
        "fig.show()"
      ],
      "execution_count": 49,
      "outputs": [
        {
          "output_type": "stream",
          "name": "stderr",
          "text": [
            "2021-12-03 08:46:51,135 : INFO : NumExpr defaulting to 2 threads.\n"
          ]
        },
        {
          "output_type": "display_data",
          "data": {
            "text/html": [
              "<html>\n",
              "<head><meta charset=\"utf-8\" /></head>\n",
              "<body>\n",
              "    <div>\n",
              "            <script src=\"https://cdnjs.cloudflare.com/ajax/libs/mathjax/2.7.5/MathJax.js?config=TeX-AMS-MML_SVG\"></script><script type=\"text/javascript\">if (window.MathJax) {MathJax.Hub.Config({SVG: {font: \"STIX-Web\"}});}</script>\n",
              "                <script type=\"text/javascript\">window.PlotlyConfig = {MathJaxConfig: 'local'};</script>\n",
              "        <script src=\"https://cdn.plot.ly/plotly-latest.min.js\"></script>    \n",
              "            <div id=\"ed9dc5c8-f1a3-4058-aafa-4bd1bd2908e5\" class=\"plotly-graph-div\" style=\"height:525px; width:100%;\"></div>\n",
              "            <script type=\"text/javascript\">\n",
              "                \n",
              "                    window.PLOTLYENV=window.PLOTLYENV || {};\n",
              "                    \n",
              "                if (document.getElementById(\"ed9dc5c8-f1a3-4058-aafa-4bd1bd2908e5\")) {\n",
              "                    Plotly.newPlot(\n",
              "                        'ed9dc5c8-f1a3-4058-aafa-4bd1bd2908e5',\n",
              "                        [{\"alignmentgroup\": \"True\", \"hoverlabel\": {\"namelength\": 0}, \"hovertemplate\": \"chord=%{x}<br>count=%{y}\", \"legendgroup\": \"\", \"marker\": {\"color\": \"#636efa\"}, \"name\": \"\", \"offsetgroup\": \"\", \"orientation\": \"v\", \"showlegend\": false, \"textposition\": \"auto\", \"type\": \"bar\", \"x\": [\"C\", \"G7\", \"Dm\", \"Am\", \"A7\", \"D7\", \"F\", \"C7\", \"E7\", \"Em\", \"F7\", \"Bb7\", \"Fm\", \"B7\", \"Gm\", \"G#7\", \"Bm7b5\", \"G\", \"Ebdim\", \"Eb7\", \"Cm\", \"F#m7b5\", \"C#7\", \"Bm\", \"G#\", \"Bb\", \"Em7b5\", \"F#7\", \"E\", \"F#m\", \"Eb\", \"F#dim\", \"C#dim\", \"Ebm\", \"C#\", \"A\", \"Dm7b5\", \"Bbm\", \"D\", \"C#m\", \"Cdim\", \"G#m\", \"B\", \"F#\"], \"xaxis\": \"x\", \"y\": [12928, 10214, 7514, 5501, 4201, 3638, 3432, 3263, 3055, 2578, 1665, 1636, 1521, 1366, 1246, 931, 914, 752, 634, 609, 591, 548, 517, 505, 487, 475, 470, 465, 442, 442, 385, 374, 354, 347, 329, 314, 312, 294, 291, 237, 184, 150, 149, 139], \"yaxis\": \"y\"}],\n",
              "                        {\"barmode\": \"stack\", \"legend\": {\"tracegroupgap\": 0}, \"margin\": {\"t\": 60}, \"template\": {\"data\": {\"bar\": [{\"error_x\": {\"color\": \"#2a3f5f\"}, \"error_y\": {\"color\": \"#2a3f5f\"}, \"marker\": {\"line\": {\"color\": \"#E5ECF6\", \"width\": 0.5}}, \"type\": \"bar\"}], \"barpolar\": [{\"marker\": {\"line\": {\"color\": \"#E5ECF6\", \"width\": 0.5}}, \"type\": \"barpolar\"}], \"carpet\": [{\"aaxis\": {\"endlinecolor\": \"#2a3f5f\", \"gridcolor\": \"white\", \"linecolor\": \"white\", \"minorgridcolor\": \"white\", \"startlinecolor\": \"#2a3f5f\"}, \"baxis\": {\"endlinecolor\": \"#2a3f5f\", \"gridcolor\": \"white\", \"linecolor\": \"white\", \"minorgridcolor\": \"white\", \"startlinecolor\": \"#2a3f5f\"}, \"type\": \"carpet\"}], \"choropleth\": [{\"colorbar\": {\"outlinewidth\": 0, \"ticks\": \"\"}, \"type\": \"choropleth\"}], \"contour\": [{\"colorbar\": {\"outlinewidth\": 0, \"ticks\": \"\"}, \"colorscale\": [[0.0, \"#0d0887\"], [0.1111111111111111, \"#46039f\"], [0.2222222222222222, \"#7201a8\"], [0.3333333333333333, \"#9c179e\"], [0.4444444444444444, \"#bd3786\"], [0.5555555555555556, \"#d8576b\"], [0.6666666666666666, \"#ed7953\"], [0.7777777777777778, \"#fb9f3a\"], [0.8888888888888888, \"#fdca26\"], [1.0, \"#f0f921\"]], \"type\": \"contour\"}], \"contourcarpet\": [{\"colorbar\": {\"outlinewidth\": 0, \"ticks\": \"\"}, \"type\": \"contourcarpet\"}], \"heatmap\": [{\"colorbar\": {\"outlinewidth\": 0, \"ticks\": \"\"}, \"colorscale\": [[0.0, \"#0d0887\"], [0.1111111111111111, \"#46039f\"], [0.2222222222222222, \"#7201a8\"], [0.3333333333333333, \"#9c179e\"], [0.4444444444444444, \"#bd3786\"], [0.5555555555555556, \"#d8576b\"], [0.6666666666666666, \"#ed7953\"], [0.7777777777777778, \"#fb9f3a\"], [0.8888888888888888, \"#fdca26\"], [1.0, \"#f0f921\"]], \"type\": \"heatmap\"}], \"heatmapgl\": [{\"colorbar\": {\"outlinewidth\": 0, \"ticks\": \"\"}, \"colorscale\": [[0.0, \"#0d0887\"], [0.1111111111111111, \"#46039f\"], [0.2222222222222222, \"#7201a8\"], [0.3333333333333333, \"#9c179e\"], [0.4444444444444444, \"#bd3786\"], [0.5555555555555556, \"#d8576b\"], [0.6666666666666666, \"#ed7953\"], [0.7777777777777778, \"#fb9f3a\"], [0.8888888888888888, \"#fdca26\"], [1.0, \"#f0f921\"]], \"type\": \"heatmapgl\"}], \"histogram\": [{\"marker\": {\"colorbar\": {\"outlinewidth\": 0, \"ticks\": \"\"}}, \"type\": \"histogram\"}], \"histogram2d\": [{\"colorbar\": {\"outlinewidth\": 0, \"ticks\": \"\"}, \"colorscale\": [[0.0, \"#0d0887\"], [0.1111111111111111, \"#46039f\"], [0.2222222222222222, \"#7201a8\"], [0.3333333333333333, \"#9c179e\"], [0.4444444444444444, \"#bd3786\"], [0.5555555555555556, \"#d8576b\"], [0.6666666666666666, \"#ed7953\"], [0.7777777777777778, \"#fb9f3a\"], [0.8888888888888888, \"#fdca26\"], [1.0, \"#f0f921\"]], \"type\": \"histogram2d\"}], \"histogram2dcontour\": [{\"colorbar\": {\"outlinewidth\": 0, \"ticks\": \"\"}, \"colorscale\": [[0.0, \"#0d0887\"], [0.1111111111111111, \"#46039f\"], [0.2222222222222222, \"#7201a8\"], [0.3333333333333333, \"#9c179e\"], [0.4444444444444444, \"#bd3786\"], [0.5555555555555556, \"#d8576b\"], [0.6666666666666666, \"#ed7953\"], [0.7777777777777778, \"#fb9f3a\"], [0.8888888888888888, \"#fdca26\"], [1.0, \"#f0f921\"]], \"type\": \"histogram2dcontour\"}], \"mesh3d\": [{\"colorbar\": {\"outlinewidth\": 0, \"ticks\": \"\"}, \"type\": \"mesh3d\"}], \"parcoords\": [{\"line\": {\"colorbar\": {\"outlinewidth\": 0, \"ticks\": \"\"}}, \"type\": \"parcoords\"}], \"pie\": [{\"automargin\": true, \"type\": \"pie\"}], \"scatter\": [{\"marker\": {\"colorbar\": {\"outlinewidth\": 0, \"ticks\": \"\"}}, \"type\": \"scatter\"}], \"scatter3d\": [{\"line\": {\"colorbar\": {\"outlinewidth\": 0, \"ticks\": \"\"}}, \"marker\": {\"colorbar\": {\"outlinewidth\": 0, \"ticks\": \"\"}}, \"type\": \"scatter3d\"}], \"scattercarpet\": [{\"marker\": {\"colorbar\": {\"outlinewidth\": 0, \"ticks\": \"\"}}, \"type\": \"scattercarpet\"}], \"scattergeo\": [{\"marker\": {\"colorbar\": {\"outlinewidth\": 0, \"ticks\": \"\"}}, \"type\": \"scattergeo\"}], \"scattergl\": [{\"marker\": {\"colorbar\": {\"outlinewidth\": 0, \"ticks\": \"\"}}, \"type\": \"scattergl\"}], \"scattermapbox\": [{\"marker\": {\"colorbar\": {\"outlinewidth\": 0, \"ticks\": \"\"}}, \"type\": \"scattermapbox\"}], \"scatterpolar\": [{\"marker\": {\"colorbar\": {\"outlinewidth\": 0, \"ticks\": \"\"}}, \"type\": \"scatterpolar\"}], \"scatterpolargl\": [{\"marker\": {\"colorbar\": {\"outlinewidth\": 0, \"ticks\": \"\"}}, \"type\": \"scatterpolargl\"}], \"scatterternary\": [{\"marker\": {\"colorbar\": {\"outlinewidth\": 0, \"ticks\": \"\"}}, \"type\": \"scatterternary\"}], \"surface\": [{\"colorbar\": {\"outlinewidth\": 0, \"ticks\": \"\"}, \"colorscale\": [[0.0, \"#0d0887\"], [0.1111111111111111, \"#46039f\"], [0.2222222222222222, \"#7201a8\"], [0.3333333333333333, \"#9c179e\"], [0.4444444444444444, \"#bd3786\"], [0.5555555555555556, \"#d8576b\"], [0.6666666666666666, \"#ed7953\"], [0.7777777777777778, \"#fb9f3a\"], [0.8888888888888888, \"#fdca26\"], [1.0, \"#f0f921\"]], \"type\": \"surface\"}], \"table\": [{\"cells\": {\"fill\": {\"color\": \"#EBF0F8\"}, \"line\": {\"color\": \"white\"}}, \"header\": {\"fill\": {\"color\": \"#C8D4E3\"}, \"line\": {\"color\": \"white\"}}, \"type\": \"table\"}]}, \"layout\": {\"annotationdefaults\": {\"arrowcolor\": \"#2a3f5f\", \"arrowhead\": 0, \"arrowwidth\": 1}, \"coloraxis\": {\"colorbar\": {\"outlinewidth\": 0, \"ticks\": \"\"}}, \"colorscale\": {\"diverging\": [[0, \"#8e0152\"], [0.1, \"#c51b7d\"], [0.2, \"#de77ae\"], [0.3, \"#f1b6da\"], [0.4, \"#fde0ef\"], [0.5, \"#f7f7f7\"], [0.6, \"#e6f5d0\"], [0.7, \"#b8e186\"], [0.8, \"#7fbc41\"], [0.9, \"#4d9221\"], [1, \"#276419\"]], \"sequential\": [[0.0, \"#0d0887\"], [0.1111111111111111, \"#46039f\"], [0.2222222222222222, \"#7201a8\"], [0.3333333333333333, \"#9c179e\"], [0.4444444444444444, \"#bd3786\"], [0.5555555555555556, \"#d8576b\"], [0.6666666666666666, \"#ed7953\"], [0.7777777777777778, \"#fb9f3a\"], [0.8888888888888888, \"#fdca26\"], [1.0, \"#f0f921\"]], \"sequentialminus\": [[0.0, \"#0d0887\"], [0.1111111111111111, \"#46039f\"], [0.2222222222222222, \"#7201a8\"], [0.3333333333333333, \"#9c179e\"], [0.4444444444444444, \"#bd3786\"], [0.5555555555555556, \"#d8576b\"], [0.6666666666666666, \"#ed7953\"], [0.7777777777777778, \"#fb9f3a\"], [0.8888888888888888, \"#fdca26\"], [1.0, \"#f0f921\"]]}, \"colorway\": [\"#636efa\", \"#EF553B\", \"#00cc96\", \"#ab63fa\", \"#FFA15A\", \"#19d3f3\", \"#FF6692\", \"#B6E880\", \"#FF97FF\", \"#FECB52\"], \"font\": {\"color\": \"#2a3f5f\"}, \"geo\": {\"bgcolor\": \"white\", \"lakecolor\": \"white\", \"landcolor\": \"#E5ECF6\", \"showlakes\": true, \"showland\": true, \"subunitcolor\": \"white\"}, \"hoverlabel\": {\"align\": \"left\"}, \"hovermode\": \"closest\", \"mapbox\": {\"style\": \"light\"}, \"paper_bgcolor\": \"white\", \"plot_bgcolor\": \"#E5ECF6\", \"polar\": {\"angularaxis\": {\"gridcolor\": \"white\", \"linecolor\": \"white\", \"ticks\": \"\"}, \"bgcolor\": \"#E5ECF6\", \"radialaxis\": {\"gridcolor\": \"white\", \"linecolor\": \"white\", \"ticks\": \"\"}}, \"scene\": {\"xaxis\": {\"backgroundcolor\": \"#E5ECF6\", \"gridcolor\": \"white\", \"gridwidth\": 2, \"linecolor\": \"white\", \"showbackground\": true, \"ticks\": \"\", \"zerolinecolor\": \"white\"}, \"yaxis\": {\"backgroundcolor\": \"#E5ECF6\", \"gridcolor\": \"white\", \"gridwidth\": 2, \"linecolor\": \"white\", \"showbackground\": true, \"ticks\": \"\", \"zerolinecolor\": \"white\"}, \"zaxis\": {\"backgroundcolor\": \"#E5ECF6\", \"gridcolor\": \"white\", \"gridwidth\": 2, \"linecolor\": \"white\", \"showbackground\": true, \"ticks\": \"\", \"zerolinecolor\": \"white\"}}, \"shapedefaults\": {\"line\": {\"color\": \"#2a3f5f\"}}, \"ternary\": {\"aaxis\": {\"gridcolor\": \"white\", \"linecolor\": \"white\", \"ticks\": \"\"}, \"baxis\": {\"gridcolor\": \"white\", \"linecolor\": \"white\", \"ticks\": \"\"}, \"bgcolor\": \"#E5ECF6\", \"caxis\": {\"gridcolor\": \"white\", \"linecolor\": \"white\", \"ticks\": \"\"}}, \"title\": {\"x\": 0.05}, \"xaxis\": {\"automargin\": true, \"gridcolor\": \"white\", \"linecolor\": \"white\", \"ticks\": \"\", \"title\": {\"standoff\": 15}, \"zerolinecolor\": \"white\", \"zerolinewidth\": 2}, \"yaxis\": {\"automargin\": true, \"gridcolor\": \"white\", \"linecolor\": \"white\", \"ticks\": \"\", \"title\": {\"standoff\": 15}, \"zerolinecolor\": \"white\", \"zerolinewidth\": 2}}}, \"xaxis\": {\"anchor\": \"y\", \"categoryorder\": \"total descending\", \"domain\": [0.0, 1.0], \"title\": {\"text\": \"chord\"}}, \"yaxis\": {\"anchor\": \"x\", \"domain\": [0.0, 1.0], \"title\": {\"text\": \"count\"}, \"type\": \"log\"}},\n",
              "                        {\"responsive\": true}\n",
              "                    ).then(function(){\n",
              "                            \n",
              "var gd = document.getElementById('ed9dc5c8-f1a3-4058-aafa-4bd1bd2908e5');\n",
              "var x = new MutationObserver(function (mutations, observer) {{\n",
              "        var display = window.getComputedStyle(gd).display;\n",
              "        if (!display || display === 'none') {{\n",
              "            console.log([gd, 'removed!']);\n",
              "            Plotly.purge(gd);\n",
              "            observer.disconnect();\n",
              "        }}\n",
              "}});\n",
              "\n",
              "// Listen for the removal of the full notebook cells\n",
              "var notebookContainer = gd.closest('#notebook-container');\n",
              "if (notebookContainer) {{\n",
              "    x.observe(notebookContainer, {childList: true});\n",
              "}}\n",
              "\n",
              "// Listen for the clearing of the current output cell\n",
              "var outputEl = gd.closest('.output');\n",
              "if (outputEl) {{\n",
              "    x.observe(outputEl, {childList: true});\n",
              "}}\n",
              "\n",
              "                        })\n",
              "                };\n",
              "                \n",
              "            </script>\n",
              "        </div>\n",
              "</body>\n",
              "</html>"
            ]
          },
          "metadata": {}
        }
      ]
    },
    {
      "cell_type": "markdown",
      "metadata": {
        "id": "cG5dtDpkWwLE"
      },
      "source": [
        "Plot Distribution accoring to Zipf's Law\n",
        "\n",
        "source: https://stats.stackexchange.com/questions/331219/characterizing-fitting-word-count-data-into-zipf-power-law-lognormal"
      ]
    },
    {
      "cell_type": "code",
      "metadata": {
        "id": "tazf9QRST5NP"
      },
      "source": [
        "from collections import Counter\n",
        "\n",
        "counter_of_words = df_chords.set_index('chord').to_dict(orient='dict')\n",
        "counter_of_words = Counter(counter_of_words['count'])\n",
        "\n",
        "word_counts = sorted(counter_of_words.values(), reverse=True)\n",
        "frequency_rank = np.array(list(range(1, len(word_counts) + 1)))"
      ],
      "execution_count": 50,
      "outputs": []
    },
    {
      "cell_type": "code",
      "metadata": {
        "colab": {
          "base_uri": "https://localhost:8080/",
          "height": 223
        },
        "id": "Jc80DSe7QlkV",
        "outputId": "8bf85e2f-1d16-420f-c8e5-677fd6b95655"
      },
      "source": [
        "plt.figure(figsize=(20, 3))\n",
        "\n",
        "plt.subplot(1, 2, 1)\n",
        "\n",
        "n = 30\n",
        "df_top = df_chords_top.head(n)\n",
        "plt.bar(df_top['chord'], np.log(df_top['count']))\n",
        "plt.xlabel('')\n",
        "plt.ylabel('Absolute Counts (log)')\n",
        "plt.title(f'Top {n} Most Frequent Chords in the Corpus')\n",
        "ax = plt.gca()\n",
        "ax.set_xticklabels(labels=df_chords_top['chord'],rotation=90);\n",
        "\n",
        "plt.subplot(1, 2, 2)\n",
        "\n",
        "plt.scatter(np.log(frequency_rank), np.log(word_counts))\n",
        "plt.xlabel('Frequency Rank of Token (log)')\n",
        "plt.ylabel('Absolute Count of Token (log)')\n",
        "plt.title('Zipf Plot for Chord Frequencies')\n",
        "\n",
        "plt.savefig('plot.png')"
      ],
      "execution_count": 51,
      "outputs": [
        {
          "output_type": "display_data",
          "data": {
            "image/png": "[encoded data removed]",
            "text/plain": [
              "<Figure size 1440x216 with 2 Axes>"
            ]
          },
          "metadata": {
            "needs_background": "light"
          }
        }
      ]
    },
    {
      "cell_type": "code",
      "metadata": {
        "colab": {
          "base_uri": "https://localhost:8080/",
          "height": 205
        },
        "id": "g-hNqtE_sYBE",
        "outputId": "4f5e3e8a-38c5-45e0-ea25-58d6086d620f"
      },
      "source": [
        "plt.figure(figsize=(22, 3))\n",
        "\n",
        "n = 100\n",
        "\n",
        "df_top = df_chords_top.head(n)\n",
        "plt.bar(df_top['chord'], np.log(df_top['count']))\n",
        "plt.xlabel('')\n",
        "plt.ylabel('Absolute Counts (log)')\n",
        "plt.title(f'Top {n} Most Frequent Chords and n-gram Chords in the Corpus')\n",
        "ax = plt.gca()\n",
        "ax.set_xticklabels(labels=df_chords_top['chord'],rotation=90);"
      ],
      "execution_count": 52,
      "outputs": [
        {
          "output_type": "display_data",
          "data": {
            "image/png": "[encoded data removed]",
            "text/plain": [
              "<Figure size 1584x216 with 1 Axes>"
            ]
          },
          "metadata": {
            "needs_background": "light"
          }
        }
      ]
    },
    {
      "cell_type": "code",
      "metadata": {
        "id": "a1IvM4wh7zOv"
      },
      "source": [
        "if use_wandb:\n",
        "  wandb.log(\n",
        "      {\"corpus\": {\n",
        "              \"total_tokens\": total_tokens,\n",
        "              \"vocab_size\": vocab_size,\n",
        "              \"vocab_proportion_in_corpus\": vocab_prop,\n",
        "              \"zipf_plot\": wandb.Image('plot.png'),\n",
        "              }\n",
        "      }\n",
        "  )"
      ],
      "execution_count": 53,
      "outputs": []
    },
    {
      "cell_type": "markdown",
      "metadata": {
        "id": "LeRGFeTn89Uc"
      },
      "source": [
        "# TF-IDF"
      ]
    },
    {
      "cell_type": "code",
      "metadata": {
        "colab": {
          "base_uri": "https://localhost:8080/"
        },
        "id": "pBdUdBNr9Gmu",
        "outputId": "25036357-dd7f-4900-8451-a26bb1c6da5a"
      },
      "source": [
        "dictionary = corpora.Dictionary(processed_corpus)\n",
        "bow_corpus = [dictionary.doc2bow(text) for text in processed_corpus]\n",
        "tfidf = TfidfModel(bow_corpus)"
      ],
      "execution_count": 54,
      "outputs": [
        {
          "output_type": "stream",
          "name": "stderr",
          "text": [
            "2021-12-03 08:46:53,918 : INFO : adding document #0 to Dictionary(0 unique tokens: [])\n",
            "2021-12-03 08:46:54,059 : INFO : built Dictionary(60 unique tokens: ['Am', 'B7', 'C', 'C#', 'C7']...) from 5552 documents (total 76986 corpus positions)\n",
            "2021-12-03 08:46:54,061 : INFO : Dictionary lifecycle event {'msg': \"built Dictionary(60 unique tokens: ['Am', 'B7', 'C', 'C#', 'C7']...) from 5552 documents (total 76986 corpus positions)\", 'datetime': '2021-12-03T08:46:54.061326', 'gensim': '4.1.2', 'python': '3.7.12 (default, Sep 10 2021, 00:21:48) \\n[GCC 7.5.0]', 'platform': 'Linux-5.4.104+-x86_64-with-Ubuntu-18.04-bionic', 'event': 'created'}\n",
            "2021-12-03 08:46:54,143 : INFO : collecting document frequencies\n",
            "2021-12-03 08:46:54,145 : INFO : PROGRESS: processing document #0\n",
            "2021-12-03 08:46:54,164 : INFO : TfidfModel lifecycle event {'msg': 'calculated IDF weights for 5552 documents and 60 features (41155 matrix non-zeros)', 'datetime': '2021-12-03T08:46:54.163945', 'gensim': '4.1.2', 'python': '3.7.12 (default, Sep 10 2021, 00:21:48) \\n[GCC 7.5.0]', 'platform': 'Linux-5.4.104+-x86_64-with-Ubuntu-18.04-bionic', 'event': 'initialize'}\n"
          ]
        }
      ]
    },
    {
      "cell_type": "code",
      "metadata": {
        "id": "9NK-cuax9Kqk"
      },
      "source": [
        "# dictionary.token2id"
      ],
      "execution_count": 55,
      "outputs": []
    },
    {
      "cell_type": "code",
      "metadata": {
        "id": "til5xlce_y1m",
        "colab": {
          "base_uri": "https://localhost:8080/"
        },
        "outputId": "db169778-9b91-4642-c4c7-cc3a2d8ffed7"
      },
      "source": [
        "!rm -R index\n",
        "!mkdir index"
      ],
      "execution_count": 56,
      "outputs": [
        {
          "output_type": "stream",
          "name": "stdout",
          "text": [
            "rm: cannot remove 'index': No such file or directory\n"
          ]
        }
      ]
    },
    {
      "cell_type": "code",
      "metadata": {
        "colab": {
          "base_uri": "https://localhost:8080/"
        },
        "id": "tn_fz2M090IM",
        "outputId": "bf760cc1-cf52-45e6-f059-30babc6f84ef"
      },
      "source": [
        "# Note: SparseMatrixSimilarity crashes due to lacking memory\n",
        "#from gensim.test.utils import get_tmpfile\n",
        "#index_tmpfile = get_tmpfile(\"index\")\n",
        "#index_tfidf = similarities.Similarity('/content/index/index_tfidf', bow_corpus, num_features=len(dictionary))\n",
        "\n",
        "index_tfidf = similarities.SparseMatrixSimilarity(tfidf[bow_corpus], num_features = len(dictionary))"
      ],
      "execution_count": 57,
      "outputs": [
        {
          "output_type": "stream",
          "name": "stderr",
          "text": [
            "2021-12-03 08:46:54,477 : INFO : creating sparse index\n",
            "2021-12-03 08:46:54,479 : INFO : creating sparse matrix from corpus\n",
            "2021-12-03 08:46:54,481 : INFO : PROGRESS: at document #0\n",
            "2021-12-03 08:46:54,856 : INFO : created <5552x60 sparse matrix of type '<class 'numpy.float32'>'\n",
            "\twith 41155 stored elements in Compressed Sparse Row format>\n"
          ]
        }
      ]
    },
    {
      "cell_type": "code",
      "metadata": {
        "colab": {
          "base_uri": "https://localhost:8080/"
        },
        "id": "VRSUXNPTewqv",
        "outputId": "32b3b52a-b171-4106-a5e5-ee77a1108ff2"
      },
      "source": [
        "tfidf.save('/content/index/tfidf.model')  # save model\n",
        "index_tfidf.save('/content/index/tfidf.index') #save index"
      ],
      "execution_count": 58,
      "outputs": [
        {
          "output_type": "stream",
          "name": "stderr",
          "text": [
            "2021-12-03 08:46:54,878 : INFO : TfidfModel lifecycle event {'fname_or_handle': '/content/index/tfidf.model', 'separately': 'None', 'sep_limit': 10485760, 'ignore': frozenset(), 'datetime': '2021-12-03T08:46:54.878866', 'gensim': '4.1.2', 'python': '3.7.12 (default, Sep 10 2021, 00:21:48) \\n[GCC 7.5.0]', 'platform': 'Linux-5.4.104+-x86_64-with-Ubuntu-18.04-bionic', 'event': 'saving'}\n",
            "2021-12-03 08:46:54,886 : INFO : saved /content/index/tfidf.model\n",
            "2021-12-03 08:46:54,889 : INFO : SparseMatrixSimilarity lifecycle event {'fname_or_handle': '/content/index/tfidf.index', 'separately': 'None', 'sep_limit': 10485760, 'ignore': frozenset(), 'datetime': '2021-12-03T08:46:54.889389', 'gensim': '4.1.2', 'python': '3.7.12 (default, Sep 10 2021, 00:21:48) \\n[GCC 7.5.0]', 'platform': 'Linux-5.4.104+-x86_64-with-Ubuntu-18.04-bionic', 'event': 'saving'}\n",
            "2021-12-03 08:46:54,893 : INFO : saved /content/index/tfidf.index\n"
          ]
        }
      ]
    },
    {
      "cell_type": "markdown",
      "metadata": {
        "id": "ZLK0coIu9Tv5"
      },
      "source": [
        "## Tests"
      ]
    },
    {
      "cell_type": "code",
      "metadata": {
        "id": "Fzrj1qxwDpJT"
      },
      "source": [
        "def get_sim_scores(tunes, index, model, topn=50):\n",
        "\n",
        "    df_sim = pd.DataFrame(columns=['reference_title',\n",
        "                                   'reference_titleid',\n",
        "                                   'similar_title',\n",
        "                                   'similar_titleid',\n",
        "                                   'ref_section', \n",
        "                                   'ref_section_label',\n",
        "                                   'ref_sectionid',\n",
        "                                   'similar_section',\n",
        "                                   'similar_section_label',\n",
        "                                   'similar_sectionid',\n",
        "                                   'score', \n",
        "                                  ])\n",
        "\n",
        "    for tune in tqdm(tunes):\n",
        "      for s1 in title_to_sectionid[tune]:\n",
        "      \n",
        "          query = processed_corpus[s1]\n",
        "          query_bow = dictionary.doc2bow(query)\n",
        "\n",
        "          # perform a similarity query against the corpus\n",
        "          similarities = index[model[query_bow]]\n",
        "          sims = sorted(enumerate(similarities), key=lambda item: -item[1])\n",
        "          \n",
        "          n = 0\n",
        "          for s2, s2_score in sims:\n",
        "            \n",
        "            # store the top N best results\n",
        "            if n > topn:\n",
        "                break\n",
        "            # don't count self-similarity between sections of the same tune\n",
        "            if s2 not in title_to_sectionid[tune]:\n",
        "                # print(f\"\\t{s2_score:.3f} {sectionid_to_section[s2]}\")\n",
        "                n += 1\n",
        "                df_sim.loc[len(df_sim)] = [tune,\n",
        "                                           title_to_titleid[tune],\n",
        "                                           sectionid_to_title[s2],\n",
        "                                           sectionid_to_titleid[s2],\n",
        "                                           sectionid_to_section[s1],\n",
        "                                           sectionid_to_sectionlabel[s1],\n",
        "                                           s1,\n",
        "                                           sectionid_to_section[s2], \n",
        "                                           sectionid_to_sectionlabel[s2],\n",
        "                                           s2,\n",
        "                                           s2_score, \n",
        "                                           ]\n",
        "    return df_sim"
      ],
      "execution_count": 59,
      "outputs": []
    },
    {
      "cell_type": "code",
      "metadata": {
        "id": "OZ0YfkIO9g5V"
      },
      "source": [
        "def recommend_tune(df, tune_name):\n",
        "\n",
        "  threshold = 0.5 # arbitrary value, selected based on distribution of max scores\n",
        "\n",
        "  df_tune = df.query(f'reference_title == \"{tune_name}\"')\n",
        "  ff = df_tune.iloc[:]\n",
        "\n",
        "  # get the maximum similarity score for each section and store in new column\n",
        "  ff['max'] = ff.groupby('ref_section')['score'].transform('max')\n",
        "\n",
        "  # consider only results for scores above threshold\n",
        "  ff = ff.loc[(ff['max'] > threshold)]\n",
        "\n",
        "  # scale the score with the maxmum value of each section\n",
        "  ff['score_div_max'] = ff['score'] / ff['max']\n",
        "\n",
        "  # for each similar title, aggregate all of its sections using the median value\n",
        "  result = ff.groupby('similar_title').median().sort_values('score_div_max', ascending=False)\n",
        "    \n",
        "  # if multiple rows from the same similar tune, keep only the similar_title with the highest score_div_max\n",
        "  result = result.groupby('similar_title').max('score_div_max').sort_values('score_div_max', ascending=False)\n",
        "\n",
        "  # add the name of the reference tune\n",
        "  result['reference'] = tune_name\n",
        "  result['reference_titleid'] = title_to_titleid[tune_name]\n",
        "\n",
        "  result = result.reset_index()\n",
        "  result = result.loc[:, ['reference', 'reference_titleid', 'similar_title', 'score', 'max', 'score_div_max']]\n",
        "  result['similar_titleid'] = result['similar_title'].apply(lambda x: title_to_titleid[x])\n",
        "  result = result.reset_index()\n",
        "  return result, ff"
      ],
      "execution_count": 60,
      "outputs": []
    },
    {
      "cell_type": "markdown",
      "metadata": {
        "id": "S4RKQCihX02Q"
      },
      "source": [
        "### Single Tunes"
      ]
    },
    {
      "cell_type": "code",
      "metadata": {
        "colab": {
          "base_uri": "https://localhost:8080/"
        },
        "id": "5Wz4ZQk_EKZy",
        "outputId": "b6293743-38ea-4f24-f3ef-dae36e82072a"
      },
      "source": [
        "%%time\n",
        "df_sim = get_sim_scores(tunes_eval_list, index_tfidf, tfidf)\n",
        "\n",
        "# save a copy of the results; all results will be concatenated at the end\n",
        "df_tfidf = df_sim[:]"
      ],
      "execution_count": 61,
      "outputs": [
        {
          "output_type": "stream",
          "name": "stderr",
          "text": [
            "100%|██████████| 11/11 [00:16<00:00,  1.54s/it]"
          ]
        },
        {
          "output_type": "stream",
          "name": "stdout",
          "text": [
            "CPU times: user 16.9 s, sys: 246 ms, total: 17.1 s\n",
            "Wall time: 17 s\n"
          ]
        },
        {
          "output_type": "stream",
          "name": "stderr",
          "text": [
            "\n"
          ]
        }
      ]
    },
    {
      "cell_type": "code",
      "metadata": {
        "colab": {
          "base_uri": "https://localhost:8080/",
          "height": 542
        },
        "id": "yzRuIKVh9c8g",
        "outputId": "896b44a1-9315-4c01-820e-71698461eec9"
      },
      "source": [
        "import plotly.express as px\n",
        "fig = px.histogram(df_sim, x=\"score\", nbins=50, title='Scores for TF-IDF')\n",
        "fig.show()"
      ],
      "execution_count": 62,
      "outputs": [
        {
          "output_type": "display_data",
          "data": {
            "text/html": [
              "<html>\n",
              "<head><meta charset=\"utf-8\" /></head>\n",
              "<body>\n",
              "    <div>\n",
              "            <script src=\"https://cdnjs.cloudflare.com/ajax/libs/mathjax/2.7.5/MathJax.js?config=TeX-AMS-MML_SVG\"></script><script type=\"text/javascript\">if (window.MathJax) {MathJax.Hub.Config({SVG: {font: \"STIX-Web\"}});}</script>\n",
              "                <script type=\"text/javascript\">window.PlotlyConfig = {MathJaxConfig: 'local'};</script>\n",
              "        <script src=\"https://cdn.plot.ly/plotly-latest.min.js\"></script>    \n",
              "            <div id=\"03006575-5a29-4e64-af09-9ad114f2a934\" class=\"plotly-graph-div\" style=\"height:525px; width:100%;\"></div>\n",
              "            <script type=\"text/javascript\">\n",
              "                \n",
              "                    window.PLOTLYENV=window.PLOTLYENV || {};\n",
              "                    \n",
              "                if (document.getElementById(\"03006575-5a29-4e64-af09-9ad114f2a934\")) {\n",
              "                    Plotly.newPlot(\n",
              "                        '03006575-5a29-4e64-af09-9ad114f2a934',\n",
              "                        [{\"alignmentgroup\": \"True\", \"bingroup\": \"x\", \"hoverlabel\": {\"namelength\": 0}, \"hovertemplate\": \"score=%{x}<br>count=%{y}\", \"legendgroup\": \"\", \"marker\": {\"color\": \"#636efa\"}, \"name\": \"\", \"nbinsx\": 50, \"offsetgroup\": \"\", \"orientation\": \"v\", \"showlegend\": false, \"type\": \"histogram\", \"x\": [0.8958429098129272, 0.8435322046279907, 0.835577130317688, 0.835577130317688, 0.8340808153152466, 0.8042460680007935, 0.7869724035263062, 0.7869724035263062, 0.7858445644378662, 0.7800403833389282, 0.778501033782959, 0.7780500650405884, 0.7733263969421387, 0.7733263969421387, 0.7727919816970825, 0.7727919816970825, 0.7688270807266235, 0.7678866982460022, 0.7678866982460022, 0.7669938802719116, 0.7638133764266968, 0.7638133764266968, 0.7638133764266968, 0.7606950998306274, 0.7600997686386108, 0.7570538520812988, 0.7566021680831909, 0.7566021680831909, 0.7513030171394348, 0.7499478459358215, 0.7454587817192078, 0.7439826130867004, 0.7439826130867004, 0.7437714338302612, 0.7437714338302612, 0.7423353791236877, 0.7409393787384033, 0.7387337684631348, 0.7360628247261047, 0.735489547252655, 0.735489547252655, 0.7343495488166809, 0.7288712859153748, 0.7288712859153748, 0.7288712859153748, 0.7254025936126709, 0.7240242958068848, 0.7223215103149414, 0.7135099172592163, 0.7135017514228821, 0.7133879065513611, 0.8061448335647583, 0.7876214385032654, 0.7869694828987122, 0.7845368981361389, 0.7808165550231934, 0.7738400101661682, 0.7646052837371826, 0.7603909969329834, 0.753797709941864, 0.753797709941864, 0.7433172464370728, 0.7433172464370728, 0.7369266152381897, 0.7369266152381897, 0.7361853122711182, 0.7361853122711182, 0.7359152436256409, 0.7320308685302734, 0.7320308685302734, 0.7291111350059509, 0.7236660122871399, 0.7211558818817139, 0.7160627841949463, 0.7142289280891418, 0.7129892110824585, 0.7118061780929565, 0.7041598558425903, 0.7039348483085632, 0.7039242386817932, 0.7027379274368286, 0.702631950378418, 0.7019397020339966, 0.6998217105865479, 0.6934722661972046, 0.6934722661972046, 0.6898245811462402, 0.688957691192627, 0.6878020763397217, 0.6824553608894348, 0.681862473487854, 0.6794766783714294, 0.6696867942810059, 0.6696867942810059, 0.6657354831695557, 0.6639503240585327, 0.6637647151947021, 0.6637647151947021, 0.6597853899002075, 0.658911406993866, 0.658664345741272, 0.6584086418151855, 0.829371452331543, 0.7902547717094421, 0.7245074510574341, 0.7228918075561523, 0.722311794757843, 0.7168692946434021, 0.7115778923034668, 0.7058984041213989, 0.6971665620803833, 0.695448100566864, 0.6935620307922363, 0.6734167337417603, 0.6581182479858398, 0.6580631136894226, 0.6559193134307861, 0.650112509727478, 0.6494601368904114, 0.6454031467437744, 0.6454031467437744, 0.6454031467437744, 0.6429208517074585, 0.6378710865974426, 0.6359567642211914, 0.6354587078094482, 0.6306527256965637, 0.6297816038131714, 0.6297816038131714, 0.6296826601028442, 0.6270885467529297, 0.6207326650619507, 0.6184116005897522, 0.6176216006278992, 0.6174253821372986, 0.6170617938041687, 0.6100994944572449, 0.6099222898483276, 0.603488564491272, 0.6030880808830261, 0.6006466746330261, 0.5994148254394531, 0.5961517095565796, 0.5952475666999817, 0.5843797326087952, 0.5812479257583618, 0.5798789262771606, 0.5778655409812927, 0.5692514777183533, 0.5681034922599792, 0.5662438869476318, 0.5662065744400024, 0.5653228759765625, 0.8958429098129272, 0.8435322046279907, 0.835577130317688, 0.835577130317688, 0.8340808153152466, 0.8042460680007935, 0.7869724035263062, 0.7869724035263062, 0.7858445644378662, 0.7800403833389282, 0.778501033782959, 0.7780500650405884, 0.7733263969421387, 0.7733263969421387, 0.7727919816970825, 0.7727919816970825, 0.7688270807266235, 0.7678866982460022, 0.7678866982460022, 0.7669938802719116, 0.7638133764266968, 0.7638133764266968, 0.7638133764266968, 0.7606950998306274, 0.7600997686386108, 0.7570538520812988, 0.7566021680831909, 0.7566021680831909, 0.7513030171394348, 0.7499478459358215, 0.7454587817192078, 0.7439826130867004, 0.7439826130867004, 0.7437714338302612, 0.7437714338302612, 0.7423353791236877, 0.7409393787384033, 0.7387337684631348, 0.7360628247261047, 0.735489547252655, 0.735489547252655, 0.7343495488166809, 0.7288712859153748, 0.7288712859153748, 0.7288712859153748, 0.7254025936126709, 0.7240242958068848, 0.7223215103149414, 0.7135099172592163, 0.7135017514228821, 0.7133879065513611, 0.9865334630012512, 0.9865334630012512, 0.9865334630012512, 0.9865334630012512, 0.9792592525482178, 0.9792592525482178, 0.9792592525482178, 0.9792592525482178, 0.9792592525482178, 0.9792592525482178, 0.9754658937454224, 0.9754658937454224, 0.972370982170105, 0.972370982170105, 0.972370982170105, 0.9655553698539734, 0.9655553698539734, 0.9655553698539734, 0.9642163515090942, 0.9642163515090942, 0.9375134110450745, 0.9298183917999268, 0.9298183917999268, 0.9298183917999268, 0.9237403869628906, 0.9207956194877625, 0.9207956194877625, 0.9190418720245361, 0.915471076965332, 0.9048850536346436, 0.8974560499191284, 0.8973565101623535, 0.8876246213912964, 0.887535572052002, 0.8834623098373413, 0.8832924962043762, 0.8830907344818115, 0.8830907344818115, 0.8830907344818115, 0.8824326992034912, 0.8812039494514465, 0.8806641101837158, 0.8686086535453796, 0.8686086535453796, 0.8686086535453796, 0.8686086535453796, 0.8686086535453796, 0.8686086535453796, 0.864630937576294, 0.8645370006561279, 0.8602137565612793, 0.9999999403953552, 0.9999999403953552, 0.9999999403953552, 0.9999999403953552, 0.9999999403953552, 0.9999999403953552, 0.9450194835662842, 0.8930343985557556, 0.8870058655738831, 0.8870058655738831, 0.8870058655738831, 0.8870058655738831, 0.8870058655738831, 0.8870058655738831, 0.8852946162223816, 0.8852946162223816, 0.8852946162223816, 0.8824522495269775, 0.8824522495269775, 0.8824522495269775, 0.8800463676452637, 0.8800463676452637, 0.870792031288147, 0.868498682975769, 0.8682260513305664, 0.8682260513305664, 0.8682260513305664, 0.8682260513305664, 0.8668508529663086, 0.8621717691421509, 0.8621717691421509, 0.8581580519676208, 0.8498742580413818, 0.8476202487945557, 0.8475960493087769, 0.8431174755096436, 0.8431174755096436, 0.8417863845825195, 0.8410487771034241, 0.8395798206329346, 0.8333527445793152, 0.8274455666542053, 0.8251352906227112, 0.8251352906227112, 0.8251352906227112, 0.8217468857765198, 0.8210901021957397, 0.820465624332428, 0.820465624332428, 0.8196888566017151, 0.814374566078186, 0.9074901342391968, 0.8945474624633789, 0.8718158602714539, 0.8659167289733887, 0.8648488521575928, 0.8626042604446411, 0.8337979912757874, 0.8184764385223389, 0.808846116065979, 0.8051244616508484, 0.8041189908981323, 0.7999695539474487, 0.7997565269470215, 0.7986274361610413, 0.7985038161277771, 0.7974920868873596, 0.796629786491394, 0.7953668832778931, 0.7945681810379028, 0.7944293022155762, 0.7917008399963379, 0.7868367433547974, 0.7807267308235168, 0.7801250219345093, 0.7801250219345093, 0.7798702716827393, 0.7727925777435303, 0.7727270126342773, 0.7727270126342773, 0.7719910144805908, 0.7680177688598633, 0.7672955989837646, 0.7634362578392029, 0.7624943852424622, 0.7585110664367676, 0.7527929544448853, 0.7517073750495911, 0.7497153282165527, 0.7482897043228149, 0.7482897043228149, 0.747190535068512, 0.743126630783081, 0.7400573492050171, 0.7400573492050171, 0.7396121025085449, 0.7392587661743164, 0.7392587661743164, 0.7383737564086914, 0.7344393134117126, 0.7342605590820312, 0.732601523399353, 0.9865334630012512, 0.9865334630012512, 0.9865334630012512, 0.9865334630012512, 0.9792592525482178, 0.9792592525482178, 0.9792592525482178, 0.9792592525482178, 0.9792592525482178, 0.9792592525482178, 0.9754658937454224, 0.9754658937454224, 0.972370982170105, 0.972370982170105, 0.972370982170105, 0.9655553698539734, 0.9655553698539734, 0.9655553698539734, 0.9642163515090942, 0.9642163515090942, 0.9375134110450745, 0.9298183917999268, 0.9298183917999268, 0.9298183917999268, 0.9237403869628906, 0.9207956194877625, 0.9207956194877625, 0.9190418720245361, 0.915471076965332, 0.9048850536346436, 0.8974560499191284, 0.8973565101623535, 0.8876246213912964, 0.887535572052002, 0.8834623098373413, 0.8832924962043762, 0.8830907344818115, 0.8830907344818115, 0.8830907344818115, 0.8824326992034912, 0.8812039494514465, 0.8806641101837158, 0.8686086535453796, 0.8686086535453796, 0.8686086535453796, 0.8686086535453796, 0.8686086535453796, 0.8686086535453796, 0.864630937576294, 0.8645370006561279, 0.8602137565612793, 0.9485045671463013, 0.898042619228363, 0.883078932762146, 0.8723570108413696, 0.8673951625823975, 0.8631460666656494, 0.8626935482025146, 0.8584426641464233, 0.8546486496925354, 0.851908266544342, 0.851908266544342, 0.851908266544342, 0.851908266544342, 0.845037043094635, 0.845037043094635, 0.8420412540435791, 0.8420412540435791, 0.8403463959693909, 0.8246389627456665, 0.8246389627456665, 0.8219013214111328, 0.8213285207748413, 0.8120055794715881, 0.8079525232315063, 0.7968358993530273, 0.7934597134590149, 0.7896178960800171, 0.7858048677444458, 0.7858048677444458, 0.7842270731925964, 0.7787973284721375, 0.7754460573196411, 0.7728215456008911, 0.7659125328063965, 0.7655983567237854, 0.7653880715370178, 0.7645512223243713, 0.7644628286361694, 0.7600337862968445, 0.7600337862968445, 0.7600337862968445, 0.7600337862968445, 0.7600337862968445, 0.7580440044403076, 0.7577467560768127, 0.7556056380271912, 0.7556056380271912, 0.75534588098526, 0.7541413903236389, 0.7521131038665771, 0.7468221187591553, 0.9015316963195801, 0.885891854763031, 0.8818907737731934, 0.8702478408813477, 0.8575162291526794, 0.8445819020271301, 0.8445819020271301, 0.8445819020271301, 0.8443772792816162, 0.8382324576377869, 0.8382324576377869, 0.8382324576377869, 0.8304158449172974, 0.8289274573326111, 0.8154107928276062, 0.8135805130004883, 0.8085643649101257, 0.8040298223495483, 0.7980771064758301, 0.7980771064758301, 0.7980771064758301, 0.7947591543197632, 0.7937474250793457, 0.7937474250793457, 0.7937474250793457, 0.7934078574180603, 0.7934078574180603, 0.780106782913208, 0.7793298959732056, 0.7786107063293457, 0.7786107063293457, 0.7786107063293457, 0.7784530520439148, 0.7784530520439148, 0.7773226499557495, 0.77638840675354, 0.7752090692520142, 0.7752090692520142, 0.7724575400352478, 0.7694286108016968, 0.7688274383544922, 0.7635416984558105, 0.762681245803833, 0.7565006017684937, 0.7546044588088989, 0.7546044588088989, 0.7541215419769287, 0.7539578676223755, 0.7538607120513916, 0.7538607120513916, 0.7538607120513916, 1.0, 1.0, 1.0, 1.0, 1.0, 1.0, 1.0, 1.0, 1.0, 1.0, 1.0, 1.0, 1.0, 1.0, 1.0, 1.0, 0.9962229132652283, 0.9916524887084961, 0.9893366694450378, 0.9466521143913269, 0.9466521143913269, 0.9249987006187439, 0.9210915565490723, 0.9210915565490723, 0.9210915565490723, 0.9210915565490723, 0.9210915565490723, 0.9210915565490723, 0.918899655342102, 0.9130530953407288, 0.9062644839286804, 0.8835698366165161, 0.8835698366165161, 0.8835698366165161, 0.8703786134719849, 0.8680021166801453, 0.866299033164978, 0.8549287915229797, 0.8492812514305115, 0.8430880904197693, 0.83670574426651, 0.8352168798446655, 0.8341186046600342, 0.8341186046600342, 0.8336515426635742, 0.8312863707542419, 0.8302700519561768, 0.8273152112960815, 0.8263739943504333, 0.8254510164260864, 0.8235802054405212, 0.9485045671463013, 0.898042619228363, 0.883078932762146, 0.8723570108413696, 0.8673951625823975, 0.8631460666656494, 0.8626935482025146, 0.8584426641464233, 0.8546486496925354, 0.851908266544342, 0.851908266544342, 0.851908266544342, 0.851908266544342, 0.845037043094635, 0.845037043094635, 0.8420412540435791, 0.8420412540435791, 0.8403463959693909, 0.8246389627456665, 0.8246389627456665, 0.8219013214111328, 0.8213285207748413, 0.8120055794715881, 0.8079525232315063, 0.7968358993530273, 0.7934597134590149, 0.7896178960800171, 0.7858048677444458, 0.7858048677444458, 0.7842270731925964, 0.7787973284721375, 0.7754460573196411, 0.7728215456008911, 0.7659125328063965, 0.7655983567237854, 0.7653880715370178, 0.7645512223243713, 0.7644628286361694, 0.7600337862968445, 0.7600337862968445, 0.7600337862968445, 0.7600337862968445, 0.7600337862968445, 0.7580440044403076, 0.7577467560768127, 0.7556056380271912, 0.7556056380271912, 0.75534588098526, 0.7541413903236389, 0.7521131038665771, 0.7468221187591553, 0.880292534828186, 0.8791124820709229, 0.8705078363418579, 0.8705078363418579, 0.8680554628372192, 0.8656494617462158, 0.8601181507110596, 0.8601181507110596, 0.8517029285430908, 0.8507622480392456, 0.8458418846130371, 0.8344268798828125, 0.8340259790420532, 0.8331013321876526, 0.8299072980880737, 0.8230969905853271, 0.8230969905853271, 0.8162600994110107, 0.8058899641036987, 0.793220043182373, 0.793220043182373, 0.793220043182373, 0.7834604382514954, 0.7834604382514954, 0.7834604382514954, 0.7834604382514954, 0.7834604382514954, 0.7786531448364258, 0.777035117149353, 0.7742143869400024, 0.7737997174263, 0.7737997174263, 0.7737241983413696, 0.7737241983413696, 0.7733880281448364, 0.7733880281448364, 0.7733880281448364, 0.766727089881897, 0.7635762691497803, 0.748892068862915, 0.748892068862915, 0.7479702234268188, 0.7451475858688354, 0.7301433682441711, 0.7300341129302979, 0.7264785170555115, 0.7254870533943176, 0.7254870533943176, 0.7254870533943176, 0.7243502140045166, 0.7229737043380737, 0.8838152885437012, 0.8799136281013489, 0.8707651495933533, 0.8698135018348694, 0.8698135018348694, 0.8674242496490479, 0.8612139225006104, 0.8612139225006104, 0.8562142848968506, 0.8476549983024597, 0.8465268611907959, 0.8401576280593872, 0.835572361946106, 0.8336502313613892, 0.8318634033203125, 0.825045645236969, 0.825045645236969, 0.8206773996353149, 0.8095848560333252, 0.7935497760772705, 0.7935497760772705, 0.7935497760772705, 0.7870525121688843, 0.7870525121688843, 0.7870525121688843, 0.7870525121688843, 0.7870525121688843, 0.7790350914001465, 0.7789127230644226, 0.7773115634918213, 0.7764757871627808, 0.7764757871627808, 0.7764757871627808, 0.7761260271072388, 0.7761260271072388, 0.7742824554443359, 0.7742824554443359, 0.7675445079803467, 0.7602613568305969, 0.7496813535690308, 0.7496813535690308, 0.7402666211128235, 0.736025333404541, 0.7343083620071411, 0.7329747676849365, 0.7302730679512024, 0.7289331555366516, 0.7264598608016968, 0.7264598608016968, 0.7264598608016968, 0.7257817387580872, 1.0, 1.0, 1.0, 1.0, 1.0, 1.0, 1.0, 1.0, 1.0, 1.0, 1.0, 1.0, 1.0, 1.0, 1.0, 1.0, 1.0, 1.0, 1.0, 1.0, 1.0, 1.0, 1.0, 1.0, 1.0, 1.0, 1.0, 1.0, 1.0, 0.9887288808822632, 0.988286018371582, 0.9802014231681824, 0.9720480442047119, 0.9511497020721436, 0.9455856680870056, 0.9110645651817322, 0.9110645651817322, 0.9110645651817322, 0.9110645651817322, 0.9110645651817322, 0.9110645651817322, 0.9008853435516357, 0.8797846436500549, 0.8792739510536194, 0.8792739510536194, 0.8771798610687256, 0.8702576756477356, 0.8702576756477356, 0.8702576756477356, 0.8702576756477356, 0.8676861524581909, 0.8454798460006714, 0.8454798460006714, 0.8428095579147339, 0.8391244411468506, 0.827386736869812, 0.818473219871521, 0.8141347765922546, 0.8141347765922546, 0.8053411841392517, 0.8049166798591614, 0.7949251532554626, 0.7908725738525391, 0.7908725738525391, 0.78996741771698, 0.7892624735832214, 0.7889338731765747, 0.7887269258499146, 0.788512110710144, 0.7853488922119141, 0.7852017879486084, 0.7852017879486084, 0.782514214515686, 0.782514214515686, 0.782514214515686, 0.782514214515686, 0.782514214515686, 0.7751986980438232, 0.7751986980438232, 0.7739526033401489, 0.7739526033401489, 0.7739526033401489, 0.7731353640556335, 0.7722345590591431, 0.7629896402359009, 0.7607651948928833, 0.758349597454071, 0.758349597454071, 0.7547022104263306, 0.7519301772117615, 0.7519301772117615, 0.751030683517456, 0.751030683517456, 0.750497043132782, 0.7496959567070007, 0.7496959567070007, 0.7475517988204956, 0.7475517988204956, 0.7475517988204956, 0.7475517988204956, 0.7470438480377197, 0.7470438480377197, 0.972668468952179, 0.9562027454376221, 0.936367392539978, 0.935332179069519, 0.930642306804657, 0.9156858921051025, 0.9114280343055725, 0.9078465104103088, 0.8864794969558716, 0.8804004192352295, 0.8778381943702698, 0.8768509030342102, 0.8768509030342102, 0.8756878972053528, 0.8705687522888184, 0.868373453617096, 0.8677542805671692, 0.8666373491287231, 0.8653395771980286, 0.8600869178771973, 0.8553066849708557, 0.8539038300514221, 0.8531832695007324, 0.8531832695007324, 0.8530003428459167, 0.8502975702285767, 0.8498190641403198, 0.8456724286079407, 0.8445299863815308, 0.82993483543396, 0.828026294708252, 0.8262603282928467, 0.8261624574661255, 0.8246772289276123, 0.8229652047157288, 0.8180572390556335, 0.8170511722564697, 0.8168331384658813, 0.8156077861785889, 0.8147035837173462, 0.8147035837173462, 0.8130249381065369, 0.8114193677902222, 0.8112881183624268, 0.8107650876045227, 0.8102824091911316, 0.8085873126983643, 0.8084158897399902, 0.8081023693084717, 0.8075087070465088, 0.8069263100624084, 0.9099448919296265, 0.9059582948684692, 0.9059582948684692, 0.9051620364189148, 0.9024602174758911, 0.8863584399223328, 0.8817734122276306, 0.881229043006897, 0.8710590600967407, 0.8709944486618042, 0.8558013439178467, 0.8550945520401001, 0.8513002991676331, 0.8513002991676331, 0.8416145443916321, 0.8360153436660767, 0.8355835676193237, 0.8316679000854492, 0.8310027122497559, 0.8292737007141113, 0.8291066884994507, 0.8285259008407593, 0.820319652557373, 0.8194559812545776, 0.8180760145187378, 0.8164839744567871, 0.8157403469085693, 0.8155640363693237, 0.8137621879577637, 0.8137621879577637, 0.8128145933151245, 0.8118160963058472, 0.8117144703865051, 0.8036688566207886, 0.8026973009109497, 0.8026973009109497, 0.8015756607055664, 0.8001238107681274, 0.7995147705078125, 0.7988319396972656, 0.7966172099113464, 0.7966172099113464, 0.7941258549690247, 0.7938801646232605, 0.7936842441558838, 0.7908743619918823, 0.7900813817977905, 0.7896314859390259, 0.7881208062171936, 0.7881208062171936, 0.787708580493927, 0.8881476521492004, 0.7800465822219849, 0.7331991791725159, 0.7331991791725159, 0.7331991791725159, 0.7238506078720093, 0.723086953163147, 0.7204571962356567, 0.716404914855957, 0.7136520147323608, 0.7115932703018188, 0.7030288577079773, 0.6920500993728638, 0.6897033452987671, 0.6666076183319092, 0.6663045883178711, 0.6572767496109009, 0.6539273262023926, 0.6539273262023926, 0.6535863280296326, 0.6530593037605286, 0.6469094753265381, 0.6450096368789673, 0.6397773027420044, 0.6381734609603882, 0.6377469301223755, 0.6357426643371582, 0.6357426643371582, 0.6321892738342285, 0.6274812817573547, 0.6268388628959656, 0.6248688697814941, 0.6243626475334167, 0.6225553750991821, 0.6220733523368835, 0.6220733523368835, 0.6207808256149292, 0.6185638904571533, 0.6185638904571533, 0.6174899339675903, 0.6170448660850525, 0.6073775291442871, 0.6030657291412354, 0.6002917289733887, 0.597291111946106, 0.5972501635551453, 0.594955325126648, 0.594955325126648, 0.5859808921813965, 0.5859808921813965, 0.5858473777770996, 0.9411954879760742, 0.905387282371521, 0.9041074514389038, 0.9041074514389038, 0.8982329368591309, 0.8979312181472778, 0.8957416415214539, 0.8810699582099915, 0.8724850416183472, 0.863949716091156, 0.8586501479148865, 0.8565094470977783, 0.8500322103500366, 0.8500322103500366, 0.8489212393760681, 0.8456249833106995, 0.8456249833106995, 0.8437090516090393, 0.8392816781997681, 0.8385125398635864, 0.8368949294090271, 0.8368356823921204, 0.8357481956481934, 0.8310040831565857, 0.8310040831565857, 0.8302280306816101, 0.8297816514968872, 0.8296973705291748, 0.8283573389053345, 0.8257988691329956, 0.8198761940002441, 0.81794273853302, 0.8171977996826172, 0.8170461058616638, 0.815902590751648, 0.8145521283149719, 0.8117161989212036, 0.8098609447479248, 0.8090960383415222, 0.8051140308380127, 0.8051140308380127, 0.8038719296455383, 0.8038719296455383, 0.8026910424232483, 0.8019013404846191, 0.7973417043685913, 0.7960196733474731, 0.7947028279304504, 0.7941743731498718, 0.7941743731498718, 0.7932305932044983, 0.9332401156425476, 0.9132866859436035, 0.9120166301727295, 0.9120166301727295, 0.9118817448616028, 0.9118817448616028, 0.9118817448616028, 0.8740013241767883, 0.8624383211135864, 0.8457816243171692, 0.8411173820495605, 0.8411173820495605, 0.8411173820495605, 0.8384263515472412, 0.8380576372146606, 0.8356924057006836, 0.8329092264175415, 0.8300944566726685, 0.8279262781143188, 0.8254904747009277, 0.8245922327041626, 0.8178971409797668, 0.8173447847366333, 0.8105175495147705, 0.8094469904899597, 0.8074135780334473, 0.8068310618400574, 0.8040724992752075, 0.8040724992752075, 0.8025661706924438, 0.8015432357788086, 0.8003900051116943, 0.8002721071243286, 0.8002721071243286, 0.7989915609359741, 0.7985382080078125, 0.7984517812728882, 0.7967069149017334, 0.7963675260543823, 0.7929890155792236, 0.7929890155792236, 0.7899895906448364, 0.7899895906448364, 0.7892593741416931, 0.7892593741416931, 0.7892593741416931, 0.7887768745422363, 0.7867079973220825, 0.7867079973220825, 0.7867079973220825, 0.7867079973220825, 0.9259737133979797, 0.8774781823158264, 0.8669770956039429, 0.8640718460083008, 0.8617362976074219, 0.8575140237808228, 0.852475643157959, 0.8504242897033691, 0.8497220873832703, 0.848401665687561, 0.847855806350708, 0.8459546566009521, 0.8459546566009521, 0.8459546566009521, 0.8442742824554443, 0.8363050222396851, 0.8320950269699097, 0.8312026262283325, 0.8312026262283325, 0.8248375654220581, 0.8183940649032593, 0.8182069063186646, 0.8182069063186646, 0.8182069063186646, 0.8162244558334351, 0.8146796226501465, 0.8146796226501465, 0.8143336176872253, 0.8046290874481201, 0.8014997243881226, 0.8007734417915344, 0.7985217571258545, 0.7981427907943726, 0.7950119376182556, 0.7923051714897156, 0.7883249521255493, 0.7878528833389282, 0.7857840657234192, 0.783089280128479, 0.783089280128479, 0.7811691164970398, 0.7811691164970398, 0.7786225080490112, 0.7786225080490112, 0.7754886150360107, 0.7743161916732788, 0.7736414670944214, 0.769460916519165, 0.7629677057266235, 0.76140296459198, 0.759787917137146, 0.9066141247749329, 0.8943661451339722, 0.8943661451339722, 0.8881938457489014, 0.8594598770141602, 0.8530550599098206, 0.8474902510643005, 0.8474902510643005, 0.8471688032150269, 0.8308923244476318, 0.8255848288536072, 0.8209187984466553, 0.8209187984466553, 0.817954957485199, 0.8136048913002014, 0.8104252815246582, 0.8086441159248352, 0.8086441159248352, 0.808539628982544, 0.8073995113372803, 0.798539400100708, 0.7969605326652527, 0.793687105178833, 0.7935720682144165, 0.7934108972549438, 0.7920666933059692, 0.7911053895950317, 0.7904049754142761, 0.7879510521888733, 0.7873728275299072, 0.7868576645851135, 0.7864438891410828, 0.7860416173934937, 0.7850028276443481, 0.783438503742218, 0.7819733023643494, 0.7816266417503357, 0.7807326316833496, 0.7804352641105652, 0.7790639996528625, 0.7772047519683838, 0.7772047519683838, 0.7771462798118591, 0.7762911319732666, 0.7760100364685059, 0.7752959728240967, 0.7752146124839783, 0.7741168737411499, 0.7741168737411499, 0.7741168737411499, 0.7736066579818726, 0.9476857781410217, 0.9366888403892517, 0.9170061349868774, 0.913958728313446, 0.895980954170227, 0.8738855719566345, 0.8737186789512634, 0.8716760277748108, 0.8659177422523499, 0.8646599054336548, 0.8580554723739624, 0.8516791462898254, 0.8513264656066895, 0.8497498631477356, 0.8497498631477356, 0.8492452502250671, 0.8489991426467896, 0.8482383489608765, 0.8482383489608765, 0.8478118777275085, 0.8463177680969238, 0.8375838398933411, 0.8371880650520325, 0.8353472948074341, 0.833613932132721, 0.8332732915878296, 0.8332732915878296, 0.8332732915878296, 0.8332732915878296, 0.8332732915878296, 0.8332732915878296, 0.831996738910675, 0.831996738910675, 0.831996738910675, 0.831996738910675, 0.8281405568122864, 0.8257184624671936, 0.8257184624671936, 0.8216094374656677, 0.8216094374656677, 0.82068932056427, 0.82068932056427, 0.8175026774406433, 0.8159128427505493, 0.8154301643371582, 0.8152571320533752, 0.8152571320533752, 0.8127414584159851, 0.807196319103241, 0.8034955859184265, 0.802341878414154, 1.0, 0.9869139194488525, 0.973982572555542, 0.9678550958633423, 0.9555251598358154, 0.9471299648284912, 0.9471299648284912, 0.9360228776931763, 0.9321947693824768, 0.9293904900550842, 0.9287993907928467, 0.9287993907928467, 0.9259675145149231, 0.9259675145149231, 0.922349750995636, 0.9152820706367493, 0.9136645793914795, 0.9136382341384888, 0.9136382341384888, 0.9136382341384888, 0.9025176763534546, 0.9005892276763916, 0.8957117795944214, 0.8754155039787292, 0.8679723143577576, 0.8604357242584229, 0.8560999631881714, 0.8525379300117493, 0.8518244028091431, 0.8518244028091431, 0.8493696451187134, 0.8493696451187134, 0.8493136167526245, 0.8481517434120178, 0.8476357460021973, 0.8411413431167603, 0.8348150849342346, 0.8278602361679077, 0.8272218108177185, 0.8245677947998047, 0.8234792351722717, 0.8224847316741943, 0.8205333948135376, 0.8161431550979614, 0.8156745433807373, 0.8156745433807373, 0.8129960298538208, 0.8127880096435547, 0.8116109371185303, 0.8116109371185303, 0.8116109371185303, 0.9475931525230408, 0.9412500262260437, 0.9175382852554321, 0.9172189831733704, 0.9015167951583862, 0.8879708647727966, 0.885500967502594, 0.8700510859489441, 0.870048463344574, 0.8660982847213745, 0.8638406991958618, 0.8624671101570129, 0.8602743744850159, 0.8598261475563049, 0.849564790725708, 0.8478025794029236, 0.8478025794029236, 0.847342312335968, 0.844624936580658, 0.844624936580658, 0.843865156173706, 0.8402518033981323, 0.8400839567184448, 0.8361109495162964, 0.8361109495162964, 0.8361109495162964, 0.8361109495162964, 0.8361109495162964, 0.8361109495162964, 0.8345565795898438, 0.8336946368217468, 0.8321757316589355, 0.8321757316589355, 0.8321757316589355, 0.8321757316589355, 0.831828773021698, 0.831828773021698, 0.8296161890029907, 0.8278384208679199, 0.8240048885345459, 0.8240048885345459, 0.8212055563926697, 0.8212055563926697, 0.8208356499671936, 0.8177069425582886, 0.8150165677070618, 0.8090721368789673, 0.8079288005828857, 0.8079288005828857, 0.8074647188186646, 0.801096498966217, 1.0, 1.0, 1.0, 1.0, 1.0, 1.0, 1.0, 1.0, 1.0, 1.0, 1.0, 1.0, 1.0, 1.0, 1.0, 1.0, 1.0, 0.9941765069961548, 0.9910722970962524, 0.9910722970962524, 0.9802830815315247, 0.9802830815315247, 0.9802830815315247, 0.9798097610473633, 0.9732869267463684, 0.9732869267463684, 0.9682309627532959, 0.9682309627532959, 0.9508110880851746, 0.9508110880851746, 0.9508110880851746, 0.9443057179450989, 0.9443057179450989, 0.9443057179450989, 0.9429289102554321, 0.939850389957428, 0.939850389957428, 0.939850389957428, 0.9294095039367676, 0.9286620616912842, 0.9193914532661438, 0.9193914532661438, 0.9183841347694397, 0.9111078381538391, 0.9109385013580322, 0.8903345465660095, 0.8871888518333435, 0.8827196359634399, 0.8804922699928284, 0.8762533068656921, 0.8631002306938171, 1.0, 1.0, 1.0, 1.0, 1.0, 1.0, 1.0, 1.0, 1.0, 1.0, 1.0, 1.0, 1.0, 1.0, 1.0, 1.0, 1.0, 0.9941765069961548, 0.9910722970962524, 0.9910722970962524, 0.9802830815315247, 0.9802830815315247, 0.9802830815315247, 0.9798097610473633, 0.9732869267463684, 0.9732869267463684, 0.9682309627532959, 0.9682309627532959, 0.9508110880851746, 0.9508110880851746, 0.9508110880851746, 0.9443057179450989, 0.9443057179450989, 0.9443057179450989, 0.9429289102554321, 0.939850389957428, 0.939850389957428, 0.939850389957428, 0.9294095039367676, 0.9286620616912842, 0.9193914532661438, 0.9193914532661438, 0.9183841347694397, 0.9111078381538391, 0.9109385013580322, 0.8903345465660095, 0.8871888518333435, 0.8827196359634399, 0.8804922699928284, 0.8762533068656921, 0.8631002306938171, 0.8816655278205872, 0.8816655278205872, 0.8752365112304688, 0.8752365112304688, 0.8516034483909607, 0.8123316168785095, 0.8007546663284302, 0.8007546663284302, 0.7959240674972534, 0.7948943972587585, 0.7934681177139282, 0.7927682399749756, 0.7927682399749756, 0.7927682399749756, 0.7927682399749756, 0.7927682399749756, 0.7926374673843384, 0.7926346063613892, 0.787940263748169, 0.7830889821052551, 0.7766828536987305, 0.7747068405151367, 0.7729814052581787, 0.7691972255706787, 0.7685768604278564, 0.7685136795043945, 0.7681026458740234, 0.7637964487075806, 0.7615618109703064, 0.7577533721923828, 0.7519813776016235, 0.7500369548797607, 0.7484478950500488, 0.7456496357917786, 0.7447891235351562, 0.7446490526199341, 0.741538405418396, 0.7395191788673401, 0.7394504547119141, 0.7376891374588013, 0.7376891374588013, 0.736492931842804, 0.736492931842804, 0.7360469102859497, 0.7318598628044128, 0.7287537455558777, 0.7287537455558777, 0.7278817296028137, 0.716486930847168, 0.7146679759025574, 0.7144041657447815, 1.0, 1.0, 1.0, 1.0, 1.0, 1.0, 1.0, 1.0, 1.0, 1.0, 1.0, 1.0, 1.0, 1.0, 1.0, 1.0, 1.0, 0.9941765069961548, 0.9910722970962524, 0.9910722970962524, 0.9802830815315247, 0.9802830815315247, 0.9802830815315247, 0.9798097610473633, 0.9732869267463684, 0.9732869267463684, 0.9682309627532959, 0.9682309627532959, 0.9508110880851746, 0.9508110880851746, 0.9508110880851746, 0.9443057179450989, 0.9443057179450989, 0.9443057179450989, 0.9429289102554321, 0.939850389957428, 0.939850389957428, 0.939850389957428, 0.9294095039367676, 0.9286620616912842, 0.9193914532661438, 0.9193914532661438, 0.9183841347694397, 0.9111078381538391, 0.9109385013580322, 0.8903345465660095, 0.8871888518333435, 0.8827196359634399, 0.8804922699928284, 0.8762533068656921, 0.8631002306938171, 0.9754658937454224, 0.9754658937454224, 0.9722521305084229, 0.9722521305084229, 0.9722521305084229, 0.9722521305084229, 0.9532045125961304, 0.9532045125961304, 0.9532045125961304, 0.9150352478027344, 0.9150352478027344, 0.9150352478027344, 0.9150352478027344, 0.9150352478027344, 0.9150352478027344, 0.9149668216705322, 0.9132699966430664, 0.9132699966430664, 0.9132699966430664, 0.9103378057479858, 0.9103378057479858, 0.9103378057479858, 0.889416515827179, 0.889416515827179, 0.8852759003639221, 0.874405026435852, 0.874096691608429, 0.8697600960731506, 0.8697600960731506, 0.8640837669372559, 0.862697184085846, 0.8588811159133911, 0.8538441061973572, 0.8535929918289185, 0.852202832698822, 0.8477141261100769, 0.8438061475753784, 0.8409283757209778, 0.8401088118553162, 0.8395591974258423, 0.8362634181976318, 0.8334540128707886, 0.832598090171814, 0.8253721594810486, 0.8247742056846619, 0.8222742676734924, 0.820465624332428, 0.820465624332428, 0.820465624332428, 0.820465624332428, 0.820465624332428, 0.9797983169555664, 0.8984209299087524, 0.8584863543510437, 0.8520487546920776, 0.8453460335731506, 0.8381083607673645, 0.8214501142501831, 0.8182296752929688, 0.8084932565689087, 0.8070191144943237, 0.8046920299530029, 0.7968041300773621, 0.7897945046424866, 0.7897945046424866, 0.7897945046424866, 0.7897945046424866, 0.7897945046424866, 0.7897945046424866, 0.7897945046424866, 0.788612425327301, 0.7876564264297485, 0.7870191335678101, 0.7870191335678101, 0.785525918006897, 0.7829160690307617, 0.7829160690307617, 0.7812406420707703, 0.7779076099395752, 0.7757853269577026, 0.7721265554428101, 0.7721265554428101, 0.7719018459320068, 0.7719018459320068, 0.7694297432899475, 0.7694297432899475, 0.7694297432899475, 0.7683951258659363, 0.7669254541397095, 0.7573889493942261, 0.7521134614944458, 0.7490882873535156, 0.7467845678329468, 0.7467845678329468, 0.7456302642822266, 0.745143473148346, 0.7450607419013977, 0.7445895671844482, 0.743613600730896, 0.7424027919769287, 0.7424027919769287, 0.7401670217514038, 0.9472371935844421, 0.9472371935844421, 0.926934003829956, 0.9257895946502686, 0.9215318560600281, 0.9215318560600281, 0.9215318560600281, 0.9143552184104919, 0.9143552184104919, 0.9087615609169006, 0.9087615609169006, 0.9065912365913391, 0.9065912365913391, 0.9065912365913391, 0.9065912365913391, 0.8918736577033997, 0.884101390838623, 0.8666409254074097, 0.8645821213722229, 0.8540732264518738, 0.8513994216918945, 0.8513994216918945, 0.8457764387130737, 0.8400701880455017, 0.8400701880455017, 0.8400701880455017, 0.8332241177558899, 0.8325608372688293, 0.8325608372688293, 0.8302146196365356, 0.8302146196365356, 0.821524441242218, 0.8180387616157532, 0.8143138885498047, 0.8134564161300659, 0.8051238059997559, 0.803928554058075, 0.8024344444274902, 0.8022187352180481, 0.800628662109375, 0.7948346734046936, 0.7944953441619873, 0.7903631925582886, 0.789650022983551, 0.7884314060211182, 0.7850640416145325, 0.7827357053756714, 0.7783873081207275, 0.7781835198402405, 0.7744633555412292, 0.7698207497596741, 0.9754658937454224, 0.9754658937454224, 0.9722521305084229, 0.9722521305084229, 0.9722521305084229, 0.9722521305084229, 0.9532045125961304, 0.9532045125961304, 0.9532045125961304, 0.9150352478027344, 0.9150352478027344, 0.9150352478027344, 0.9150352478027344, 0.9150352478027344, 0.9150352478027344, 0.9149668216705322, 0.9132699966430664, 0.9132699966430664, 0.9132699966430664, 0.9103378057479858, 0.9103378057479858, 0.9103378057479858, 0.889416515827179, 0.889416515827179, 0.8852759003639221, 0.874405026435852, 0.874096691608429, 0.8697600960731506, 0.8697600960731506, 0.8640837669372559, 0.862697184085846, 0.8588811159133911, 0.8538441061973572, 0.8535929918289185, 0.852202832698822, 0.8477141261100769, 0.8438061475753784, 0.8409283757209778, 0.8401088118553162, 0.8395591974258423, 0.8362634181976318, 0.8334540128707886, 0.832598090171814, 0.8253721594810486, 0.8247742056846619, 0.8222742676734924, 0.820465624332428, 0.820465624332428, 0.820465624332428, 0.820465624332428, 0.820465624332428, 0.969287097454071, 0.969287097454071, 0.8984261751174927, 0.8926079273223877, 0.8822934627532959, 0.8707305192947388, 0.8625521063804626, 0.8566968441009521, 0.8526467084884644, 0.8490979075431824, 0.8416882753372192, 0.8416882753372192, 0.8323220014572144, 0.8323220014572144, 0.8300647139549255, 0.8238559365272522, 0.8238347172737122, 0.8229637145996094, 0.8187476396560669, 0.8147202134132385, 0.8130350708961487, 0.8104084134101868, 0.8087353706359863, 0.8077781200408936, 0.8020726442337036, 0.8011798858642578, 0.8003361225128174, 0.8003361225128174, 0.7999106645584106, 0.7999106645584106, 0.7995813488960266, 0.798747718334198, 0.797822892665863, 0.7941151857376099, 0.7889727354049683, 0.7889727354049683, 0.7889727354049683, 0.7883345484733582, 0.7846078276634216, 0.7846078276634216, 0.7799146175384521, 0.7795937061309814, 0.7792531251907349, 0.7790024280548096, 0.7780054807662964, 0.777163565158844, 0.7767805457115173, 0.771000325679779, 0.7693881392478943, 0.7681998014450073, 0.7676835656166077, 0.986770749092102, 0.8458721041679382, 0.8352880477905273, 0.8230003118515015, 0.820292592048645, 0.8047093749046326, 0.7975093126296997, 0.7956638336181641, 0.7844300270080566, 0.776709794998169, 0.7752772569656372, 0.7741602659225464, 0.7715100646018982, 0.7711691856384277, 0.7701634168624878, 0.7683355808258057, 0.7658794522285461, 0.7643097043037415, 0.7584869861602783, 0.7559733390808105, 0.7520285248756409, 0.7508244514465332, 0.7508244514465332, 0.7499481439590454, 0.7391817569732666, 0.7371329665184021, 0.7357689738273621, 0.7340841293334961, 0.7303287982940674, 0.730000376701355, 0.7267436385154724, 0.7262968420982361, 0.725330114364624, 0.7252278327941895, 0.7250914573669434, 0.7236244678497314, 0.7231007218360901, 0.7228298187255859, 0.7228298187255859, 0.7227597832679749, 0.7208782434463501, 0.7199422121047974, 0.7187809944152832, 0.7170963287353516, 0.7170659303665161, 0.7158654928207397, 0.715667724609375, 0.71384197473526, 0.7128910422325134, 0.7128819227218628, 0.7126851677894592, 0.7976984977722168, 0.7614908218383789, 0.7482939958572388, 0.7440052032470703, 0.7354974746704102, 0.7348832488059998, 0.7071646451950073, 0.6932049989700317, 0.6727948784828186, 0.6727948784828186, 0.6699512004852295, 0.6626728177070618, 0.6545577049255371, 0.6294574737548828, 0.6228421926498413, 0.6170031428337097, 0.6147900223731995, 0.6044712066650391, 0.6032077074050903, 0.6010501384735107, 0.6010501384735107, 0.5929843187332153, 0.5912487506866455, 0.5899420976638794, 0.5880303382873535, 0.5783169269561768, 0.5781043767929077, 0.5770007967948914, 0.5735510587692261, 0.5702764987945557, 0.5661740303039551, 0.5637868642807007, 0.5632648468017578, 0.5612602233886719, 0.5612602233886719, 0.5556076169013977, 0.5550439357757568, 0.5505344271659851, 0.550255298614502, 0.5486494302749634, 0.5486494302749634, 0.5476745367050171, 0.5410716533660889, 0.5410443544387817, 0.5408323407173157, 0.5375156402587891, 0.5367270112037659, 0.5365482568740845, 0.5345106720924377, 0.5342168807983398, 0.5322759747505188, 0.9732776880264282, 0.9732776880264282, 0.9031830430030823, 0.8922232389450073, 0.8880332112312317, 0.8676120042800903, 0.8674810528755188, 0.8642743229866028, 0.8567102551460266, 0.8338377475738525, 0.8338377475738525, 0.8291265964508057, 0.8287903666496277, 0.8235726952552795, 0.8208414912223816, 0.8171512484550476, 0.8171512484550476, 0.8143166303634644, 0.8100223541259766, 0.809657871723175, 0.809519350528717, 0.8059864640235901, 0.804215669631958, 0.8016693592071533, 0.7995220422744751, 0.7985106110572815, 0.7956353425979614, 0.7956353425979614, 0.795233964920044, 0.7935217618942261, 0.7904549241065979, 0.7901552319526672, 0.7890722751617432, 0.7840338945388794, 0.7840338945388794, 0.7840338945388794, 0.7835410237312317, 0.7824023962020874, 0.7824023962020874, 0.7811410427093506, 0.7810853123664856, 0.7810853123664856, 0.7773675322532654, 0.7773269414901733, 0.7771968245506287, 0.777123749256134, 0.7762311100959778, 0.7736983299255371, 0.7717965245246887, 0.7715839743614197, 0.7715192437171936, 0.6966603994369507, 0.6492840051651001, 0.6057332754135132, 0.5633484721183777, 0.5625311136245728, 0.5557332038879395, 0.5555093288421631, 0.5477161407470703, 0.546951949596405, 0.5417597889900208, 0.5378127098083496, 0.5265171527862549, 0.5262595415115356, 0.5236916542053223, 0.5152119994163513, 0.511464536190033, 0.5088223218917847, 0.5078252553939819, 0.5071505308151245, 0.507077157497406, 0.507077157497406, 0.5051605701446533, 0.5017107129096985, 0.4948323369026184, 0.48991119861602783, 0.4854031205177307, 0.4826628565788269, 0.48195797204971313, 0.4813564121723175, 0.4798617959022522, 0.4798617959022522, 0.47701141238212585, 0.47636014223098755, 0.47438931465148926, 0.4727022647857666, 0.47215497493743896, 0.47215497493743896, 0.4720011353492737, 0.4716130793094635, 0.4716130793094635, 0.47099217772483826, 0.47041553258895874, 0.4687954783439636, 0.4687610864639282, 0.4685192406177521, 0.4679338037967682, 0.467893123626709, 0.4677083194255829, 0.4675362706184387, 0.4658798575401306, 0.46584805846214294, 0.7812210321426392, 0.7211436033248901, 0.6818240880966187, 0.628913402557373, 0.6249449253082275, 0.6133409142494202, 0.6122146248817444, 0.6055821180343628, 0.6023395657539368, 0.5875431299209595, 0.5807075500488281, 0.5779495239257812, 0.5735460519790649, 0.5721935629844666, 0.5704775452613831, 0.5686261653900146, 0.5686261653900146, 0.5664769411087036, 0.5626083612442017, 0.5591056942939758, 0.5452501773834229, 0.5438253879547119, 0.5404580235481262, 0.5368430018424988, 0.5368430018424988, 0.5363562703132629, 0.5363562703132629, 0.5287632942199707, 0.5269330143928528, 0.5256978273391724, 0.522464394569397, 0.5201321244239807, 0.5199176669120789, 0.5197031497955322, 0.5159757733345032, 0.5150400400161743, 0.5117328763008118, 0.5116561055183411, 0.5064806938171387, 0.5064806938171387, 0.5064806938171387, 0.5049585103988647, 0.5039690136909485, 0.503856897354126, 0.5035436153411865, 0.502240777015686, 0.5002071261405945, 0.49880680441856384, 0.49880680441856384, 0.4903785288333893, 0.4896481931209564, 1.0, 1.0, 0.9889284372329712, 0.9889284372329712, 0.9850647449493408, 0.9566843509674072, 0.9471206665039062, 0.9446145296096802, 0.9446145296096802, 0.9256858825683594, 0.9184869527816772, 0.9136382341384888, 0.9136382341384888, 0.8969820737838745, 0.892341136932373, 0.8898677825927734, 0.8861818313598633, 0.8861818313598633, 0.8836398720741272, 0.879461944103241, 0.8670458793640137, 0.8647387027740479, 0.8580678701400757, 0.8525675535202026, 0.8297510147094727, 0.8235802054405212, 0.8235802054405212, 0.8235802054405212, 0.8235802054405212, 0.8235802054405212, 0.8235802054405212, 0.8235802054405212, 0.8235802054405212, 0.8235802054405212, 0.8235802054405212, 0.8235802054405212, 0.8235802054405212, 0.8235802054405212, 0.8235802054405212, 0.8235802054405212, 0.8235802054405212, 0.8235802054405212, 0.8228127360343933, 0.8204694986343384, 0.8187210559844971, 0.8176964521408081, 0.8167054057121277, 0.8146328926086426, 0.8130682110786438, 0.8130577206611633, 0.8035393953323364, 0.6966603994369507, 0.6492840051651001, 0.6057332754135132, 0.5633484721183777, 0.5625311136245728, 0.5557332038879395, 0.5555093288421631, 0.5477161407470703, 0.546951949596405, 0.5417597889900208, 0.5378127098083496, 0.5265171527862549, 0.5262595415115356, 0.5236916542053223, 0.5152119994163513, 0.511464536190033, 0.5088223218917847, 0.5078252553939819, 0.5071505308151245, 0.507077157497406, 0.507077157497406, 0.5051605701446533, 0.5017107129096985, 0.4948323369026184, 0.48991119861602783, 0.4854031205177307, 0.4826628565788269, 0.48195797204971313, 0.4813564121723175, 0.4798617959022522, 0.4798617959022522, 0.47701141238212585, 0.47636014223098755, 0.47438931465148926, 0.4727022647857666, 0.47215497493743896, 0.47215497493743896, 0.4720011353492737, 0.4716130793094635, 0.4716130793094635, 0.47099217772483826, 0.47041553258895874, 0.4687954783439636, 0.4687610864639282, 0.4685192406177521, 0.4679338037967682, 0.467893123626709, 0.4677083194255829, 0.4675362706184387, 0.4658798575401306, 0.46584805846214294], \"xaxis\": \"x\", \"yaxis\": \"y\"}],\n",
              "                        {\"barmode\": \"relative\", \"legend\": {\"tracegroupgap\": 0}, \"template\": {\"data\": {\"bar\": [{\"error_x\": {\"color\": \"#2a3f5f\"}, \"error_y\": {\"color\": \"#2a3f5f\"}, \"marker\": {\"line\": {\"color\": \"#E5ECF6\", \"width\": 0.5}}, \"type\": \"bar\"}], \"barpolar\": [{\"marker\": {\"line\": {\"color\": \"#E5ECF6\", \"width\": 0.5}}, \"type\": \"barpolar\"}], \"carpet\": [{\"aaxis\": {\"endlinecolor\": \"#2a3f5f\", \"gridcolor\": \"white\", \"linecolor\": \"white\", \"minorgridcolor\": \"white\", \"startlinecolor\": \"#2a3f5f\"}, \"baxis\": {\"endlinecolor\": \"#2a3f5f\", \"gridcolor\": \"white\", \"linecolor\": \"white\", \"minorgridcolor\": \"white\", \"startlinecolor\": \"#2a3f5f\"}, \"type\": \"carpet\"}], \"choropleth\": [{\"colorbar\": {\"outlinewidth\": 0, \"ticks\": \"\"}, \"type\": \"choropleth\"}], \"contour\": [{\"colorbar\": {\"outlinewidth\": 0, \"ticks\": \"\"}, \"colorscale\": [[0.0, \"#0d0887\"], [0.1111111111111111, \"#46039f\"], [0.2222222222222222, \"#7201a8\"], [0.3333333333333333, \"#9c179e\"], [0.4444444444444444, \"#bd3786\"], [0.5555555555555556, \"#d8576b\"], [0.6666666666666666, \"#ed7953\"], [0.7777777777777778, \"#fb9f3a\"], [0.8888888888888888, \"#fdca26\"], [1.0, \"#f0f921\"]], \"type\": \"contour\"}], \"contourcarpet\": [{\"colorbar\": {\"outlinewidth\": 0, \"ticks\": \"\"}, \"type\": \"contourcarpet\"}], \"heatmap\": [{\"colorbar\": {\"outlinewidth\": 0, \"ticks\": \"\"}, \"colorscale\": [[0.0, \"#0d0887\"], [0.1111111111111111, \"#46039f\"], [0.2222222222222222, \"#7201a8\"], [0.3333333333333333, \"#9c179e\"], [0.4444444444444444, \"#bd3786\"], [0.5555555555555556, \"#d8576b\"], [0.6666666666666666, \"#ed7953\"], [0.7777777777777778, \"#fb9f3a\"], [0.8888888888888888, \"#fdca26\"], [1.0, \"#f0f921\"]], \"type\": \"heatmap\"}], \"heatmapgl\": [{\"colorbar\": {\"outlinewidth\": 0, \"ticks\": \"\"}, \"colorscale\": [[0.0, \"#0d0887\"], [0.1111111111111111, \"#46039f\"], [0.2222222222222222, \"#7201a8\"], [0.3333333333333333, \"#9c179e\"], [0.4444444444444444, \"#bd3786\"], [0.5555555555555556, \"#d8576b\"], [0.6666666666666666, \"#ed7953\"], [0.7777777777777778, \"#fb9f3a\"], [0.8888888888888888, \"#fdca26\"], [1.0, \"#f0f921\"]], \"type\": \"heatmapgl\"}], \"histogram\": [{\"marker\": {\"colorbar\": {\"outlinewidth\": 0, \"ticks\": \"\"}}, \"type\": \"histogram\"}], \"histogram2d\": [{\"colorbar\": {\"outlinewidth\": 0, \"ticks\": \"\"}, \"colorscale\": [[0.0, \"#0d0887\"], [0.1111111111111111, \"#46039f\"], [0.2222222222222222, \"#7201a8\"], [0.3333333333333333, \"#9c179e\"], [0.4444444444444444, \"#bd3786\"], [0.5555555555555556, \"#d8576b\"], [0.6666666666666666, \"#ed7953\"], [0.7777777777777778, \"#fb9f3a\"], [0.8888888888888888, \"#fdca26\"], [1.0, \"#f0f921\"]], \"type\": \"histogram2d\"}], \"histogram2dcontour\": [{\"colorbar\": {\"outlinewidth\": 0, \"ticks\": \"\"}, \"colorscale\": [[0.0, \"#0d0887\"], [0.1111111111111111, \"#46039f\"], [0.2222222222222222, \"#7201a8\"], [0.3333333333333333, \"#9c179e\"], [0.4444444444444444, \"#bd3786\"], [0.5555555555555556, \"#d8576b\"], [0.6666666666666666, \"#ed7953\"], [0.7777777777777778, \"#fb9f3a\"], [0.8888888888888888, \"#fdca26\"], [1.0, \"#f0f921\"]], \"type\": \"histogram2dcontour\"}], \"mesh3d\": [{\"colorbar\": {\"outlinewidth\": 0, \"ticks\": \"\"}, \"type\": \"mesh3d\"}], \"parcoords\": [{\"line\": {\"colorbar\": {\"outlinewidth\": 0, \"ticks\": \"\"}}, \"type\": \"parcoords\"}], \"pie\": [{\"automargin\": true, \"type\": \"pie\"}], \"scatter\": [{\"marker\": {\"colorbar\": {\"outlinewidth\": 0, \"ticks\": \"\"}}, \"type\": \"scatter\"}], \"scatter3d\": [{\"line\": {\"colorbar\": {\"outlinewidth\": 0, \"ticks\": \"\"}}, \"marker\": {\"colorbar\": {\"outlinewidth\": 0, \"ticks\": \"\"}}, \"type\": \"scatter3d\"}], \"scattercarpet\": [{\"marker\": {\"colorbar\": {\"outlinewidth\": 0, \"ticks\": \"\"}}, \"type\": \"scattercarpet\"}], \"scattergeo\": [{\"marker\": {\"colorbar\": {\"outlinewidth\": 0, \"ticks\": \"\"}}, \"type\": \"scattergeo\"}], \"scattergl\": [{\"marker\": {\"colorbar\": {\"outlinewidth\": 0, \"ticks\": \"\"}}, \"type\": \"scattergl\"}], \"scattermapbox\": [{\"marker\": {\"colorbar\": {\"outlinewidth\": 0, \"ticks\": \"\"}}, \"type\": \"scattermapbox\"}], \"scatterpolar\": [{\"marker\": {\"colorbar\": {\"outlinewidth\": 0, \"ticks\": \"\"}}, \"type\": \"scatterpolar\"}], \"scatterpolargl\": [{\"marker\": {\"colorbar\": {\"outlinewidth\": 0, \"ticks\": \"\"}}, \"type\": \"scatterpolargl\"}], \"scatterternary\": [{\"marker\": {\"colorbar\": {\"outlinewidth\": 0, \"ticks\": \"\"}}, \"type\": \"scatterternary\"}], \"surface\": [{\"colorbar\": {\"outlinewidth\": 0, \"ticks\": \"\"}, \"colorscale\": [[0.0, \"#0d0887\"], [0.1111111111111111, \"#46039f\"], [0.2222222222222222, \"#7201a8\"], [0.3333333333333333, \"#9c179e\"], [0.4444444444444444, \"#bd3786\"], [0.5555555555555556, \"#d8576b\"], [0.6666666666666666, \"#ed7953\"], [0.7777777777777778, \"#fb9f3a\"], [0.8888888888888888, \"#fdca26\"], [1.0, \"#f0f921\"]], \"type\": \"surface\"}], \"table\": [{\"cells\": {\"fill\": {\"color\": \"#EBF0F8\"}, \"line\": {\"color\": \"white\"}}, \"header\": {\"fill\": {\"color\": \"#C8D4E3\"}, \"line\": {\"color\": \"white\"}}, \"type\": \"table\"}]}, \"layout\": {\"annotationdefaults\": {\"arrowcolor\": \"#2a3f5f\", \"arrowhead\": 0, \"arrowwidth\": 1}, \"coloraxis\": {\"colorbar\": {\"outlinewidth\": 0, \"ticks\": \"\"}}, \"colorscale\": {\"diverging\": [[0, \"#8e0152\"], [0.1, \"#c51b7d\"], [0.2, \"#de77ae\"], [0.3, \"#f1b6da\"], [0.4, \"#fde0ef\"], [0.5, \"#f7f7f7\"], [0.6, \"#e6f5d0\"], [0.7, \"#b8e186\"], [0.8, \"#7fbc41\"], [0.9, \"#4d9221\"], [1, \"#276419\"]], \"sequential\": [[0.0, \"#0d0887\"], [0.1111111111111111, \"#46039f\"], [0.2222222222222222, \"#7201a8\"], [0.3333333333333333, \"#9c179e\"], [0.4444444444444444, \"#bd3786\"], [0.5555555555555556, \"#d8576b\"], [0.6666666666666666, \"#ed7953\"], [0.7777777777777778, \"#fb9f3a\"], [0.8888888888888888, \"#fdca26\"], [1.0, \"#f0f921\"]], \"sequentialminus\": [[0.0, \"#0d0887\"], [0.1111111111111111, \"#46039f\"], [0.2222222222222222, \"#7201a8\"], [0.3333333333333333, \"#9c179e\"], [0.4444444444444444, \"#bd3786\"], [0.5555555555555556, \"#d8576b\"], [0.6666666666666666, \"#ed7953\"], [0.7777777777777778, \"#fb9f3a\"], [0.8888888888888888, \"#fdca26\"], [1.0, \"#f0f921\"]]}, \"colorway\": [\"#636efa\", \"#EF553B\", \"#00cc96\", \"#ab63fa\", \"#FFA15A\", \"#19d3f3\", \"#FF6692\", \"#B6E880\", \"#FF97FF\", \"#FECB52\"], \"font\": {\"color\": \"#2a3f5f\"}, \"geo\": {\"bgcolor\": \"white\", \"lakecolor\": \"white\", \"landcolor\": \"#E5ECF6\", \"showlakes\": true, \"showland\": true, \"subunitcolor\": \"white\"}, \"hoverlabel\": {\"align\": \"left\"}, \"hovermode\": \"closest\", \"mapbox\": {\"style\": \"light\"}, \"paper_bgcolor\": \"white\", \"plot_bgcolor\": \"#E5ECF6\", \"polar\": {\"angularaxis\": {\"gridcolor\": \"white\", \"linecolor\": \"white\", \"ticks\": \"\"}, \"bgcolor\": \"#E5ECF6\", \"radialaxis\": {\"gridcolor\": \"white\", \"linecolor\": \"white\", \"ticks\": \"\"}}, \"scene\": {\"xaxis\": {\"backgroundcolor\": \"#E5ECF6\", \"gridcolor\": \"white\", \"gridwidth\": 2, \"linecolor\": \"white\", \"showbackground\": true, \"ticks\": \"\", \"zerolinecolor\": \"white\"}, \"yaxis\": {\"backgroundcolor\": \"#E5ECF6\", \"gridcolor\": \"white\", \"gridwidth\": 2, \"linecolor\": \"white\", \"showbackground\": true, \"ticks\": \"\", \"zerolinecolor\": \"white\"}, \"zaxis\": {\"backgroundcolor\": \"#E5ECF6\", \"gridcolor\": \"white\", \"gridwidth\": 2, \"linecolor\": \"white\", \"showbackground\": true, \"ticks\": \"\", \"zerolinecolor\": \"white\"}}, \"shapedefaults\": {\"line\": {\"color\": \"#2a3f5f\"}}, \"ternary\": {\"aaxis\": {\"gridcolor\": \"white\", \"linecolor\": \"white\", \"ticks\": \"\"}, \"baxis\": {\"gridcolor\": \"white\", \"linecolor\": \"white\", \"ticks\": \"\"}, \"bgcolor\": \"#E5ECF6\", \"caxis\": {\"gridcolor\": \"white\", \"linecolor\": \"white\", \"ticks\": \"\"}}, \"title\": {\"x\": 0.05}, \"xaxis\": {\"automargin\": true, \"gridcolor\": \"white\", \"linecolor\": \"white\", \"ticks\": \"\", \"title\": {\"standoff\": 15}, \"zerolinecolor\": \"white\", \"zerolinewidth\": 2}, \"yaxis\": {\"automargin\": true, \"gridcolor\": \"white\", \"linecolor\": \"white\", \"ticks\": \"\", \"title\": {\"standoff\": 15}, \"zerolinecolor\": \"white\", \"zerolinewidth\": 2}}}, \"title\": {\"text\": \"Scores for TF-IDF\"}, \"xaxis\": {\"anchor\": \"y\", \"domain\": [0.0, 1.0], \"title\": {\"text\": \"score\"}}, \"yaxis\": {\"anchor\": \"x\", \"domain\": [0.0, 1.0], \"title\": {\"text\": \"count\"}}},\n",
              "                        {\"responsive\": true}\n",
              "                    ).then(function(){\n",
              "                            \n",
              "var gd = document.getElementById('03006575-5a29-4e64-af09-9ad114f2a934');\n",
              "var x = new MutationObserver(function (mutations, observer) {{\n",
              "        var display = window.getComputedStyle(gd).display;\n",
              "        if (!display || display === 'none') {{\n",
              "            console.log([gd, 'removed!']);\n",
              "            Plotly.purge(gd);\n",
              "            observer.disconnect();\n",
              "        }}\n",
              "}});\n",
              "\n",
              "// Listen for the removal of the full notebook cells\n",
              "var notebookContainer = gd.closest('#notebook-container');\n",
              "if (notebookContainer) {{\n",
              "    x.observe(notebookContainer, {childList: true});\n",
              "}}\n",
              "\n",
              "// Listen for the clearing of the current output cell\n",
              "var outputEl = gd.closest('.output');\n",
              "if (outputEl) {{\n",
              "    x.observe(outputEl, {childList: true});\n",
              "}}\n",
              "\n",
              "                        })\n",
              "                };\n",
              "                \n",
              "            </script>\n",
              "        </div>\n",
              "</body>\n",
              "</html>"
            ]
          },
          "metadata": {}
        }
      ]
    },
    {
      "cell_type": "code",
      "metadata": {
        "id": "QIBvHL1aOnOT"
      },
      "source": [
        "if use_wandb:\n",
        "  wandb.log({\"scores_hist\": fig})"
      ],
      "execution_count": 63,
      "outputs": []
    },
    {
      "cell_type": "code",
      "metadata": {
        "colab": {
          "base_uri": "https://localhost:8080/",
          "height": 1000
        },
        "id": "ohaxVQ6d9iiD",
        "outputId": "f6927523-a72e-473f-c17d-8a7c4a3839a0"
      },
      "source": [
        "result, details = recommend_tune(df_sim, \"Blue Moon [jazz1350]\")\n",
        "result.head(30)"
      ],
      "execution_count": 64,
      "outputs": [
        {
          "output_type": "execute_result",
          "data": {
            "text/html": [
              "<div>\n",
              "<style scoped>\n",
              "    .dataframe tbody tr th:only-of-type {\n",
              "        vertical-align: middle;\n",
              "    }\n",
              "\n",
              "    .dataframe tbody tr th {\n",
              "        vertical-align: top;\n",
              "    }\n",
              "\n",
              "    .dataframe thead th {\n",
              "        text-align: right;\n",
              "    }\n",
              "</style>\n",
              "<table border=\"1\" class=\"dataframe\">\n",
              "  <thead>\n",
              "    <tr style=\"text-align: right;\">\n",
              "      <th></th>\n",
              "      <th>index</th>\n",
              "      <th>reference</th>\n",
              "      <th>reference_titleid</th>\n",
              "      <th>similar_title</th>\n",
              "      <th>score</th>\n",
              "      <th>max</th>\n",
              "      <th>score_div_max</th>\n",
              "      <th>similar_titleid</th>\n",
              "    </tr>\n",
              "  </thead>\n",
              "  <tbody>\n",
              "    <tr>\n",
              "      <th>0</th>\n",
              "      <td>0</td>\n",
              "      <td>Blue Moon [jazz1350]</td>\n",
              "      <td>158</td>\n",
              "      <td>Home Cookin' [jazz1350]</td>\n",
              "      <td>0.829371</td>\n",
              "      <td>0.829371</td>\n",
              "      <td>1.000000</td>\n",
              "      <td>467</td>\n",
              "    </tr>\n",
              "    <tr>\n",
              "      <th>1</th>\n",
              "      <td>1</td>\n",
              "      <td>Blue Moon [jazz1350]</td>\n",
              "      <td>158</td>\n",
              "      <td>It Could Happen To You [jazz1350]</td>\n",
              "      <td>0.806145</td>\n",
              "      <td>0.806145</td>\n",
              "      <td>1.000000</td>\n",
              "      <td>618</td>\n",
              "    </tr>\n",
              "    <tr>\n",
              "      <th>2</th>\n",
              "      <td>2</td>\n",
              "      <td>Blue Moon [jazz1350]</td>\n",
              "      <td>158</td>\n",
              "      <td>Things We Did Last Summer, The [jazz1350]</td>\n",
              "      <td>0.786969</td>\n",
              "      <td>0.806145</td>\n",
              "      <td>0.976214</td>\n",
              "      <td>1172</td>\n",
              "    </tr>\n",
              "    <tr>\n",
              "      <th>3</th>\n",
              "      <td>3</td>\n",
              "      <td>Blue Moon [jazz1350]</td>\n",
              "      <td>158</td>\n",
              "      <td>Teach Me Tonight [jazz1350]</td>\n",
              "      <td>0.784537</td>\n",
              "      <td>0.806145</td>\n",
              "      <td>0.973196</td>\n",
              "      <td>1145</td>\n",
              "    </tr>\n",
              "    <tr>\n",
              "      <th>4</th>\n",
              "      <td>4</td>\n",
              "      <td>Blue Moon [jazz1350]</td>\n",
              "      <td>158</td>\n",
              "      <td>Nice 'n Easy [jazz1350]</td>\n",
              "      <td>0.780817</td>\n",
              "      <td>0.806145</td>\n",
              "      <td>0.968581</td>\n",
              "      <td>868</td>\n",
              "    </tr>\n",
              "    <tr>\n",
              "      <th>5</th>\n",
              "      <td>5</td>\n",
              "      <td>Blue Moon [jazz1350]</td>\n",
              "      <td>158</td>\n",
              "      <td>That Old Feeling [jazz1350]</td>\n",
              "      <td>0.769223</td>\n",
              "      <td>0.806145</td>\n",
              "      <td>0.954199</td>\n",
              "      <td>1153</td>\n",
              "    </tr>\n",
              "    <tr>\n",
              "      <th>6</th>\n",
              "      <td>6</td>\n",
              "      <td>Blue Moon [jazz1350]</td>\n",
              "      <td>158</td>\n",
              "      <td>Bye Bye Blackbird [jazz1350]</td>\n",
              "      <td>0.760391</td>\n",
              "      <td>0.806145</td>\n",
              "      <td>0.943244</td>\n",
              "      <td>205</td>\n",
              "    </tr>\n",
              "    <tr>\n",
              "      <th>7</th>\n",
              "      <td>7</td>\n",
              "      <td>Blue Moon [jazz1350]</td>\n",
              "      <td>158</td>\n",
              "      <td>Don't Be That Way [jazz1350]</td>\n",
              "      <td>0.843532</td>\n",
              "      <td>0.895843</td>\n",
              "      <td>0.941607</td>\n",
              "      <td>315</td>\n",
              "    </tr>\n",
              "    <tr>\n",
              "      <th>8</th>\n",
              "      <td>8</td>\n",
              "      <td>Blue Moon [jazz1350]</td>\n",
              "      <td>158</td>\n",
              "      <td>Sophisticated Lady [jazz1350]</td>\n",
              "      <td>0.753798</td>\n",
              "      <td>0.806145</td>\n",
              "      <td>0.935065</td>\n",
              "      <td>1077</td>\n",
              "    </tr>\n",
              "    <tr>\n",
              "      <th>9</th>\n",
              "      <td>9</td>\n",
              "      <td>Blue Moon [jazz1350]</td>\n",
              "      <td>158</td>\n",
              "      <td>Moonlight In Vermont [jazz1350]</td>\n",
              "      <td>0.835577</td>\n",
              "      <td>0.895843</td>\n",
              "      <td>0.932727</td>\n",
              "      <td>820</td>\n",
              "    </tr>\n",
              "    <tr>\n",
              "      <th>10</th>\n",
              "      <td>10</td>\n",
              "      <td>Blue Moon [jazz1350]</td>\n",
              "      <td>158</td>\n",
              "      <td>Look For The Silver Lining [jazz1350]</td>\n",
              "      <td>0.834081</td>\n",
              "      <td>0.895843</td>\n",
              "      <td>0.931057</td>\n",
              "      <td>737</td>\n",
              "    </tr>\n",
              "    <tr>\n",
              "      <th>11</th>\n",
              "      <td>11</td>\n",
              "      <td>Blue Moon [jazz1350]</td>\n",
              "      <td>158</td>\n",
              "      <td>Touch Of Your Lips, The [jazz1350]</td>\n",
              "      <td>0.743317</td>\n",
              "      <td>0.806145</td>\n",
              "      <td>0.922064</td>\n",
              "      <td>1202</td>\n",
              "    </tr>\n",
              "    <tr>\n",
              "      <th>12</th>\n",
              "      <td>12</td>\n",
              "      <td>Blue Moon [jazz1350]</td>\n",
              "      <td>158</td>\n",
              "      <td>It's You Or No One [jazz1350]</td>\n",
              "      <td>0.751622</td>\n",
              "      <td>0.817758</td>\n",
              "      <td>0.918639</td>\n",
              "      <td>640</td>\n",
              "    </tr>\n",
              "    <tr>\n",
              "      <th>13</th>\n",
              "      <td>13</td>\n",
              "      <td>Blue Moon [jazz1350]</td>\n",
              "      <td>158</td>\n",
              "      <td>At Last [jazz1350]</td>\n",
              "      <td>0.822895</td>\n",
              "      <td>0.895843</td>\n",
              "      <td>0.918571</td>\n",
              "      <td>92</td>\n",
              "    </tr>\n",
              "    <tr>\n",
              "      <th>14</th>\n",
              "      <td>14</td>\n",
              "      <td>Blue Moon [jazz1350]</td>\n",
              "      <td>158</td>\n",
              "      <td>Don't Go To Strangers [jazz1350]</td>\n",
              "      <td>0.736927</td>\n",
              "      <td>0.806145</td>\n",
              "      <td>0.914137</td>\n",
              "      <td>320</td>\n",
              "    </tr>\n",
              "    <tr>\n",
              "      <th>15</th>\n",
              "      <td>15</td>\n",
              "      <td>Blue Moon [jazz1350]</td>\n",
              "      <td>158</td>\n",
              "      <td>All God's Chillun Got Rhythm [jazz1350]</td>\n",
              "      <td>0.736185</td>\n",
              "      <td>0.806145</td>\n",
              "      <td>0.913217</td>\n",
              "      <td>57</td>\n",
              "    </tr>\n",
              "    <tr>\n",
              "      <th>16</th>\n",
              "      <td>16</td>\n",
              "      <td>Blue Moon [jazz1350]</td>\n",
              "      <td>158</td>\n",
              "      <td>Old Folks [jazz1350]</td>\n",
              "      <td>0.732031</td>\n",
              "      <td>0.806145</td>\n",
              "      <td>0.908064</td>\n",
              "      <td>895</td>\n",
              "    </tr>\n",
              "    <tr>\n",
              "      <th>17</th>\n",
              "      <td>17</td>\n",
              "      <td>Blue Moon [jazz1350]</td>\n",
              "      <td>158</td>\n",
              "      <td>One I Love (Belongs To Somebody Else), The [ja...</td>\n",
              "      <td>0.729111</td>\n",
              "      <td>0.806145</td>\n",
              "      <td>0.904442</td>\n",
              "      <td>912</td>\n",
              "    </tr>\n",
              "    <tr>\n",
              "      <th>18</th>\n",
              "      <td>18</td>\n",
              "      <td>Blue Moon [jazz1350]</td>\n",
              "      <td>158</td>\n",
              "      <td>Day By Day [jazz1350]</td>\n",
              "      <td>0.723666</td>\n",
              "      <td>0.806145</td>\n",
              "      <td>0.897687</td>\n",
              "      <td>281</td>\n",
              "    </tr>\n",
              "    <tr>\n",
              "      <th>19</th>\n",
              "      <td>19</td>\n",
              "      <td>Blue Moon [jazz1350]</td>\n",
              "      <td>158</td>\n",
              "      <td>I've Got You Under My Skin [jazz1350]</td>\n",
              "      <td>0.711806</td>\n",
              "      <td>0.806145</td>\n",
              "      <td>0.882976</td>\n",
              "      <td>565</td>\n",
              "    </tr>\n",
              "    <tr>\n",
              "      <th>20</th>\n",
              "      <td>20</td>\n",
              "      <td>Blue Moon [jazz1350]</td>\n",
              "      <td>158</td>\n",
              "      <td>Long Ago And Far Away [jazz1350]</td>\n",
              "      <td>0.786972</td>\n",
              "      <td>0.895843</td>\n",
              "      <td>0.878471</td>\n",
              "      <td>735</td>\n",
              "    </tr>\n",
              "    <tr>\n",
              "      <th>21</th>\n",
              "      <td>21</td>\n",
              "      <td>Blue Moon [jazz1350]</td>\n",
              "      <td>158</td>\n",
              "      <td>It Was So Good While It Lasted [jazz1350]</td>\n",
              "      <td>0.707942</td>\n",
              "      <td>0.806145</td>\n",
              "      <td>0.878182</td>\n",
              "      <td>624</td>\n",
              "    </tr>\n",
              "    <tr>\n",
              "      <th>22</th>\n",
              "      <td>22</td>\n",
              "      <td>Blue Moon [jazz1350]</td>\n",
              "      <td>158</td>\n",
              "      <td>Sleepy Time Gal [trad]</td>\n",
              "      <td>0.785845</td>\n",
              "      <td>0.895843</td>\n",
              "      <td>0.877212</td>\n",
              "      <td>1608</td>\n",
              "    </tr>\n",
              "    <tr>\n",
              "      <th>23</th>\n",
              "      <td>23</td>\n",
              "      <td>Blue Moon [jazz1350]</td>\n",
              "      <td>158</td>\n",
              "      <td>It's Been A Long Long Time [jazz1350]</td>\n",
              "      <td>0.703935</td>\n",
              "      <td>0.806145</td>\n",
              "      <td>0.873211</td>\n",
              "      <td>632</td>\n",
              "    </tr>\n",
              "    <tr>\n",
              "      <th>24</th>\n",
              "      <td>24</td>\n",
              "      <td>Blue Moon [jazz1350]</td>\n",
              "      <td>158</td>\n",
              "      <td>Don't Take Your Love From Me [jazz1350]</td>\n",
              "      <td>0.703924</td>\n",
              "      <td>0.806145</td>\n",
              "      <td>0.873198</td>\n",
              "      <td>323</td>\n",
              "    </tr>\n",
              "    <tr>\n",
              "      <th>25</th>\n",
              "      <td>25</td>\n",
              "      <td>Blue Moon [jazz1350]</td>\n",
              "      <td>158</td>\n",
              "      <td>For All We Know [jazz1350]</td>\n",
              "      <td>0.702738</td>\n",
              "      <td>0.806145</td>\n",
              "      <td>0.871727</td>\n",
              "      <td>390</td>\n",
              "    </tr>\n",
              "    <tr>\n",
              "      <th>26</th>\n",
              "      <td>26</td>\n",
              "      <td>Blue Moon [jazz1350]</td>\n",
              "      <td>158</td>\n",
              "      <td>When I Fall In Love [jazz1350]</td>\n",
              "      <td>0.702632</td>\n",
              "      <td>0.806145</td>\n",
              "      <td>0.871595</td>\n",
              "      <td>1266</td>\n",
              "    </tr>\n",
              "    <tr>\n",
              "      <th>27</th>\n",
              "      <td>27</td>\n",
              "      <td>Blue Moon [jazz1350]</td>\n",
              "      <td>158</td>\n",
              "      <td>Idaho [trad]</td>\n",
              "      <td>0.722312</td>\n",
              "      <td>0.829371</td>\n",
              "      <td>0.870915</td>\n",
              "      <td>1502</td>\n",
              "    </tr>\n",
              "    <tr>\n",
              "      <th>28</th>\n",
              "      <td>28</td>\n",
              "      <td>Blue Moon [jazz1350]</td>\n",
              "      <td>158</td>\n",
              "      <td>Try A Little Tenderness [jazz1350]</td>\n",
              "      <td>0.702027</td>\n",
              "      <td>0.806145</td>\n",
              "      <td>0.870844</td>\n",
              "      <td>1213</td>\n",
              "    </tr>\n",
              "    <tr>\n",
              "      <th>29</th>\n",
              "      <td>29</td>\n",
              "      <td>Blue Moon [jazz1350]</td>\n",
              "      <td>158</td>\n",
              "      <td>Tea For Two [jazz1350]</td>\n",
              "      <td>0.701940</td>\n",
              "      <td>0.806145</td>\n",
              "      <td>0.870736</td>\n",
              "      <td>1144</td>\n",
              "    </tr>\n",
              "  </tbody>\n",
              "</table>\n",
              "</div>"
            ],
            "text/plain": [
              "    index             reference  reference_titleid                                      similar_title     score       max  score_div_max  similar_titleid\n",
              "0       0  Blue Moon [jazz1350]                158                            Home Cookin' [jazz1350]  0.829371  0.829371       1.000000              467\n",
              "1       1  Blue Moon [jazz1350]                158                  It Could Happen To You [jazz1350]  0.806145  0.806145       1.000000              618\n",
              "2       2  Blue Moon [jazz1350]                158          Things We Did Last Summer, The [jazz1350]  0.786969  0.806145       0.976214             1172\n",
              "3       3  Blue Moon [jazz1350]                158                        Teach Me Tonight [jazz1350]  0.784537  0.806145       0.973196             1145\n",
              "4       4  Blue Moon [jazz1350]                158                            Nice 'n Easy [jazz1350]  0.780817  0.806145       0.968581              868\n",
              "5       5  Blue Moon [jazz1350]                158                        That Old Feeling [jazz1350]  0.769223  0.806145       0.954199             1153\n",
              "6       6  Blue Moon [jazz1350]                158                       Bye Bye Blackbird [jazz1350]  0.760391  0.806145       0.943244              205\n",
              "7       7  Blue Moon [jazz1350]                158                       Don't Be That Way [jazz1350]  0.843532  0.895843       0.941607              315\n",
              "8       8  Blue Moon [jazz1350]                158                      Sophisticated Lady [jazz1350]  0.753798  0.806145       0.935065             1077\n",
              "9       9  Blue Moon [jazz1350]                158                    Moonlight In Vermont [jazz1350]  0.835577  0.895843       0.932727              820\n",
              "10     10  Blue Moon [jazz1350]                158              Look For The Silver Lining [jazz1350]  0.834081  0.895843       0.931057              737\n",
              "11     11  Blue Moon [jazz1350]                158                 Touch Of Your Lips, The [jazz1350]  0.743317  0.806145       0.922064             1202\n",
              "12     12  Blue Moon [jazz1350]                158                      It's You Or No One [jazz1350]  0.751622  0.817758       0.918639              640\n",
              "13     13  Blue Moon [jazz1350]                158                                 At Last [jazz1350]  0.822895  0.895843       0.918571               92\n",
              "14     14  Blue Moon [jazz1350]                158                   Don't Go To Strangers [jazz1350]  0.736927  0.806145       0.914137              320\n",
              "15     15  Blue Moon [jazz1350]                158            All God's Chillun Got Rhythm [jazz1350]  0.736185  0.806145       0.913217               57\n",
              "16     16  Blue Moon [jazz1350]                158                               Old Folks [jazz1350]  0.732031  0.806145       0.908064              895\n",
              "17     17  Blue Moon [jazz1350]                158  One I Love (Belongs To Somebody Else), The [ja...  0.729111  0.806145       0.904442              912\n",
              "18     18  Blue Moon [jazz1350]                158                              Day By Day [jazz1350]  0.723666  0.806145       0.897687              281\n",
              "19     19  Blue Moon [jazz1350]                158              I've Got You Under My Skin [jazz1350]  0.711806  0.806145       0.882976              565\n",
              "20     20  Blue Moon [jazz1350]                158                   Long Ago And Far Away [jazz1350]  0.786972  0.895843       0.878471              735\n",
              "21     21  Blue Moon [jazz1350]                158          It Was So Good While It Lasted [jazz1350]  0.707942  0.806145       0.878182              624\n",
              "22     22  Blue Moon [jazz1350]                158                             Sleepy Time Gal [trad]  0.785845  0.895843       0.877212             1608\n",
              "23     23  Blue Moon [jazz1350]                158              It's Been A Long Long Time [jazz1350]  0.703935  0.806145       0.873211              632\n",
              "24     24  Blue Moon [jazz1350]                158            Don't Take Your Love From Me [jazz1350]  0.703924  0.806145       0.873198              323\n",
              "25     25  Blue Moon [jazz1350]                158                         For All We Know [jazz1350]  0.702738  0.806145       0.871727              390\n",
              "26     26  Blue Moon [jazz1350]                158                     When I Fall In Love [jazz1350]  0.702632  0.806145       0.871595             1266\n",
              "27     27  Blue Moon [jazz1350]                158                                       Idaho [trad]  0.722312  0.829371       0.870915             1502\n",
              "28     28  Blue Moon [jazz1350]                158                 Try A Little Tenderness [jazz1350]  0.702027  0.806145       0.870844             1213\n",
              "29     29  Blue Moon [jazz1350]                158                             Tea For Two [jazz1350]  0.701940  0.806145       0.870736             1144"
            ]
          },
          "metadata": {},
          "execution_count": 64
        }
      ]
    },
    {
      "cell_type": "markdown",
      "metadata": {
        "id": "UveSDI6QWALe"
      },
      "source": [
        "Copy results into a dataframe for later logging to W&B"
      ]
    },
    {
      "cell_type": "code",
      "metadata": {
        "id": "AEEqdXBiT5bl"
      },
      "source": [
        "dd = pd.DataFrame(columns = recommender_results_cols)\n",
        "\n",
        "for tune in tunes_eval_list:\n",
        "  result, details = recommend_tune(df_sim, tune)\n",
        "  dd['id'] = result['index']\n",
        "  dd['method'] = 'tfidf'\n",
        "  dd['reference'] = tune\n",
        "  dd['similar'] = result['similar_title']\n",
        "  dd['score_div_max'] = result['score_div_max']\n",
        "  dd['score'] = result['score']\n",
        "\n",
        "recommender_results = recommender_results.append(dd)"
      ],
      "execution_count": 65,
      "outputs": []
    },
    {
      "cell_type": "markdown",
      "metadata": {
        "id": "wqaUEFqxXZYB"
      },
      "source": [
        "### Test Contrafacts"
      ]
    },
    {
      "cell_type": "markdown",
      "metadata": {
        "id": "563ncYqAfIyN"
      },
      "source": [
        "With the model, query the top N highest matches for each section. For a tune, if at least one section receives the recommendation  for the expected title, increase the match counter."
      ]
    },
    {
      "cell_type": "code",
      "metadata": {
        "id": "RVPtraR-hg0G"
      },
      "source": [
        "def test_contrafacts(tunes, index, model, N=15):\n",
        "  matches = 0\n",
        "  number_of_sections = 0\n",
        "  results = {}\n",
        "\n",
        "  for tune, similar_tune in tunes:\n",
        "\n",
        "    # loop over all sections of the tune\n",
        "    section_matches = 0\n",
        "    for s1 in title_to_sectionid[tune]:\n",
        "      query = processed_corpus[s1]\n",
        "      query_bow = dictionary.doc2bow(query)\n",
        "\n",
        "      # perform a similarity query against the corpus\n",
        "      similarities = index[model[query_bow]]\n",
        "      sims = sorted(enumerate(similarities), key=lambda item: -item[1])\n",
        "\n",
        "      # check if the section matches the expected title; consider only the first 15 recommendations\n",
        "      i = 0\n",
        "      for sectionid, value in sims:\n",
        "        if i >= N:\n",
        "          break\n",
        "        i += 1\n",
        "        if sectionid_to_title[sectionid] == similar_tune:\n",
        "          section_matches += 1\n",
        "\n",
        "    # for each title, increase matches if at least one of the section matched the expected title\n",
        "    if section_matches > 0:\n",
        "      matches += 1  \n",
        "      results[f'{tune}, {similar_tune}'] = 1\n",
        "    else:\n",
        "      results[f'{tune}, {similar_tune}'] = 0\n",
        "  \n",
        "  return matches, results\n"
      ],
      "execution_count": 66,
      "outputs": []
    },
    {
      "cell_type": "code",
      "metadata": {
        "colab": {
          "base_uri": "https://localhost:8080/"
        },
        "id": "Q628rO5DhxWD",
        "outputId": "cba002cc-7e05-4b83-dd70-d23b2da03570"
      },
      "source": [
        "topN = 20\n",
        "matches, results = test_contrafacts(contrafacts, index_tfidf, tfidf, topN)\n",
        "\n",
        "print(f\"Found matches: {matches} out of {len(results)}: {100*matches/len(results):.3f}%\")\n",
        "print() \n",
        "for rr, val in results.items():\n",
        "  if val == 0:\n",
        "    print(f\"{val}: {rr}\")"
      ],
      "execution_count": 67,
      "outputs": [
        {
          "output_type": "stream",
          "name": "stdout",
          "text": [
            "Found matches: 88 out of 111: 79.279%\n",
            "\n",
            "0: 52nd Street Theme [jazz1350], I Got Rhythm [jazz1350]\n",
            "0: Ballade [jazz1350], As Long As I Live [jazz1350]\n",
            "0: Dewey Square [jazz1350], Oh, Lady Be Good [jazz1350]\n",
            "0: Don't Be That Way [jazz1350], I Got Rhythm [jazz1350]\n",
            "0: Good Bait [jazz1350], I Got Rhythm [jazz1350]\n",
            "0: In A Mellow Tone (In A Mellotone) [jazz1350], Rose Room [jazz1350]\n",
            "0: Lennie's Pennies [jazz1350], Pennies From Heaven [jazz1350]\n",
            "0: Little Rootie Tootie [jazz1350], I Got Rhythm [jazz1350]\n",
            "0: Little Willie Leaps [jazz1350], All God's Chillun Got Rhythm [jazz1350]\n",
            "0: Lullaby Of Birdland [jazz1350], Love Me Or Leave Me [jazz1350]\n",
            "0: My Little Suede Shoes [jazz1350], Jeepers Creepers [jazz1350]\n",
            "0: Quasimodo (Theme) [jazz1350], Embraceable You [jazz1350]\n",
            "0: Room 608 [jazz1350], I Got Rhythm [jazz1350]\n",
            "0: Scrapple From The Apple [jazz1350], Honeysuckle Rose [jazz1350]\n",
            "0: Sweet Sue, Just You [jazz1350], Honeysuckle Rose [jazz1350]\n",
            "0: Sweet Sue, Just You [jazz1350], Bye Bye Blackbird [jazz1350]\n",
            "0: These Foolish Things [jazz1350], Blue Moon [jazz1350]\n",
            "0: These Foolish Things [jazz1350], Soultrane [jazz1350]\n",
            "0: These Foolish Things [jazz1350], Why Do I Love You [jazz1350]\n",
            "0: Misty [jazz1350], September In The Rain [jazz1350]\n",
            "0: Exactly Like You [jazz1350], Jersey Bounce [trad]\n",
            "0: Take The A Train [jazz1350], Girl From Ipanema, The [jazz1350]\n",
            "0: On The Sunny Side Of The Street [jazz1350], You Stepped Out Of A Dream [jazz1350]\n",
            "0: My Secret Love [jazz1350], Samba De Orfeu [jazz1350]\n",
            "0: On The Sunny Side Of The Street [jazz1350], Mountain Greenery [jazz1350]\n"
          ]
        }
      ]
    },
    {
      "cell_type": "code",
      "metadata": {
        "id": "8lKZukYybvMJ"
      },
      "source": [
        "model_name = 'tfidf'\n",
        "if use_wandb:\n",
        "  wandb.log(\n",
        "      {model_name: {\n",
        "                'contrafacts': {\n",
        "                    'topN': topN,\n",
        "                    'success': matches/len(contrafacts),\n",
        "                    #'results': results\n",
        "                    }\n",
        "                   },\n",
        "       'all_models': {\n",
        "           model_name: wandb.Table(\n",
        "               columns=[\"Title\", \"Match\"],\n",
        "               data=[[key, value] for key, value in results.items()]),\n",
        "       }\n",
        "       })"
      ],
      "execution_count": 68,
      "outputs": []
    },
    {
      "cell_type": "markdown",
      "metadata": {
        "id": "Phw7fBDk0px7"
      },
      "source": [
        "## Store TF-IDF Model to W&B"
      ]
    },
    {
      "cell_type": "code",
      "metadata": {
        "id": "KdYWJX-60pdd"
      },
      "source": [
        "if use_wandb:\n",
        "  model_artifact = wandb.Artifact(\n",
        "      \"model_tfidf\", \n",
        "      type=\"model\",\n",
        "      description=\"TF-IDF Model\",\n",
        "      metadata=\"\")\n",
        "\n",
        "  model_artifact.add_file(\"/content/index/tfidf.model\")\n",
        "  model_artifact.add_file(\"/content/index/tfidf.index\")\n",
        "  wandb.log_artifact(model_artifact)"
      ],
      "execution_count": 69,
      "outputs": []
    },
    {
      "cell_type": "markdown",
      "metadata": {
        "id": "Pj0mpWpahPu1"
      },
      "source": [
        "## Get Recommender Data for WebApp\n",
        "\n"
      ]
    },
    {
      "cell_type": "code",
      "metadata": {
        "id": "buRbSTWehvPP"
      },
      "source": [
        "tune_test = [\"These Foolish Things [jazz1350]\",\n",
        "             \"Misty [jazz1350]\"]"
      ],
      "execution_count": 70,
      "outputs": []
    },
    {
      "cell_type": "code",
      "metadata": {
        "colab": {
          "base_uri": "https://localhost:8080/"
        },
        "id": "ohlLHE935UN-",
        "outputId": "134f70d2-3615-4c39-bb00-b85b83f449cd"
      },
      "source": [
        "%%time\n",
        "if True:\n",
        "  #_tunes = list(tunes['title_playlist'].values())\n",
        "  _tunes = tunes_eval_list\n",
        "\n",
        "  method = 'tfidf'\n",
        "\n",
        "  df_sim = get_sim_scores(_tunes, index_tfidf, tfidf, topn=50)\n",
        "\n",
        "  # save to file\n",
        "  (df_sim\n",
        "   .loc[:,['reference_title',\n",
        "           'reference_titleid',\n",
        "           'similar_title',\n",
        "           'similar_titleid',\n",
        "           'ref_section_label',\n",
        "           'similar_section_label',\n",
        "           'score'\n",
        "           ]]\n",
        "   .reset_index()\n",
        "   .groupby(['reference_titleid', 'reference_title', \n",
        "             'similar_titleid','similar_title', \n",
        "             'ref_section_label', 'similar_section_label'])\n",
        "   .max('score')\n",
        "   .sort_values('score', ascending=False)\n",
        "   .reset_index()\n",
        "   .to_csv(f'output/recommender_{method}.csv', encoding='utf8')\n",
        "  )\n",
        "\n",
        "  with zipfile.ZipFile(f'output/recommender_{method}.zip', 'w') as zf:\n",
        "    zf.write(f'output/recommender_{method}.csv')\n",
        "\n",
        "  # save to wandb\n",
        "  if use_wandb:\n",
        "    model_artifact = wandb.Artifact(\n",
        "        f\"recommender_{method}\", \n",
        "        type=\"csv\",\n",
        "        description=f\"Recommendations for each Tune using {method} Model (csv file)\",\n",
        "        metadata=\"\")\n",
        "\n",
        "    model_artifact.add_file(f'output/recommender_{method}.zip')\n",
        "    wandb.log_artifact(model_artifact)"
      ],
      "execution_count": 71,
      "outputs": [
        {
          "output_type": "stream",
          "name": "stderr",
          "text": [
            "100%|██████████| 11/11 [00:16<00:00,  1.51s/it]"
          ]
        },
        {
          "output_type": "stream",
          "name": "stdout",
          "text": [
            "CPU times: user 16.7 s, sys: 213 ms, total: 16.9 s\n",
            "Wall time: 16.8 s\n"
          ]
        },
        {
          "output_type": "stream",
          "name": "stderr",
          "text": [
            "\n"
          ]
        }
      ]
    },
    {
      "cell_type": "markdown",
      "metadata": {
        "id": "99xHBRsd--OB"
      },
      "source": [
        "# LSA (Latent Semantic Analysis), aka LSI (Latent Semantic Index) "
      ]
    },
    {
      "cell_type": "code",
      "metadata": {
        "id": "adsW9Uh9_JXs"
      },
      "source": [
        "from collections import defaultdict"
      ],
      "execution_count": 72,
      "outputs": []
    },
    {
      "cell_type": "code",
      "metadata": {
        "colab": {
          "base_uri": "https://localhost:8080/"
        },
        "id": "s3AJZGRD_IHW",
        "outputId": "b89097c1-36ff-46cf-e463-a585875ab489"
      },
      "source": [
        "num_topics = lsi_config['num_topics']\n",
        "\n",
        "# remove words that appear only once\n",
        "frequency = defaultdict(int)\n",
        "for text in processed_corpus:\n",
        "    for token in text:\n",
        "        frequency[token] += 1\n",
        "\n",
        "data = [[token for token in text if frequency[token] > 1] for text in processed_corpus]\n",
        "dictionary = corpora.Dictionary(data)\n",
        "\n",
        "# doc2bow counts the number of occurences of each distinct word,\n",
        "# converts the word to its integer word id and returns the result\n",
        "# as a sparse vector\n",
        "\n",
        "bow_corpus = [dictionary.doc2bow(text) for text in data]\n",
        "lsi = LsiModel(bow_corpus, id2word=dictionary, num_topics=num_topics)  # num_topics can be maximum the size of the number of unique tokens"
      ],
      "execution_count": 73,
      "outputs": [
        {
          "output_type": "stream",
          "name": "stderr",
          "text": [
            "2021-12-03 08:47:33,517 : INFO : adding document #0 to Dictionary(0 unique tokens: [])\n",
            "2021-12-03 08:47:33,633 : INFO : built Dictionary(60 unique tokens: ['Am', 'B7', 'C', 'C#', 'C7']...) from 5552 documents (total 76986 corpus positions)\n",
            "2021-12-03 08:47:33,642 : INFO : Dictionary lifecycle event {'msg': \"built Dictionary(60 unique tokens: ['Am', 'B7', 'C', 'C#', 'C7']...) from 5552 documents (total 76986 corpus positions)\", 'datetime': '2021-12-03T08:47:33.641945', 'gensim': '4.1.2', 'python': '3.7.12 (default, Sep 10 2021, 00:21:48) \\n[GCC 7.5.0]', 'platform': 'Linux-5.4.104+-x86_64-with-Ubuntu-18.04-bionic', 'event': 'created'}\n",
            "2021-12-03 08:47:33,712 : INFO : using serial LSI version on this node\n",
            "2021-12-03 08:47:33,720 : INFO : updating model with new documents\n",
            "2021-12-03 08:47:33,728 : INFO : preparing a new chunk of documents\n",
            "2021-12-03 08:47:33,773 : INFO : using 100 extra samples and 2 power iterations\n",
            "2021-12-03 08:47:33,778 : INFO : 1st phase: constructing (60, 200) action matrix\n",
            "2021-12-03 08:47:33,851 : INFO : orthonormalizing (60, 200) action matrix\n",
            "2021-12-03 08:47:33,895 : INFO : 2nd phase: running dense svd on (60, 5552) matrix\n",
            "2021-12-03 08:47:33,988 : INFO : computing the final decomposition\n",
            "2021-12-03 08:47:33,990 : INFO : keeping 60 factors (discarding 0.000% of energy spectrum)\n",
            "2021-12-03 08:47:33,993 : INFO : processed documents up to #5552\n",
            "2021-12-03 08:47:33,996 : INFO : topic #0(328.718): 0.685*\"C\" + 0.503*\"G7\" + 0.340*\"Dm\" + 0.180*\"Am\" + 0.178*\"A7\" + 0.153*\"F\" + 0.150*\"D7\" + 0.118*\"C7\" + 0.100*\"Em\" + 0.097*\"E7\"\n",
            "2021-12-03 08:47:33,999 : INFO : topic #1(158.604): 0.806*\"Am\" + -0.388*\"C\" + 0.339*\"E7\" + 0.182*\"Dm\" + 0.121*\"Bm7b5\" + 0.092*\"D7\" + 0.068*\"Em\" + 0.067*\"F7\" + 0.058*\"B7\" + 0.053*\"C7\"\n",
            "2021-12-03 08:47:34,002 : INFO : topic #2(119.081): 0.580*\"Dm\" + -0.485*\"C\" + -0.330*\"Am\" + 0.315*\"G7\" + 0.292*\"A7\" + 0.231*\"Em\" + -0.197*\"F\" + -0.139*\"E7\" + -0.068*\"D7\" + 0.065*\"Bb7\"\n",
            "2021-12-03 08:47:34,003 : INFO : topic #3(105.929): -0.784*\"C7\" + 0.313*\"Dm\" + -0.267*\"D7\" + -0.244*\"F\" + 0.210*\"C\" + -0.159*\"F7\" + -0.144*\"G7\" + 0.140*\"Am\" + -0.122*\"Gm\" + -0.110*\"Bb7\"\n",
            "2021-12-03 08:47:34,006 : INFO : topic #4(90.925): -0.573*\"D7\" + -0.432*\"G7\" + 0.367*\"Dm\" + 0.348*\"C7\" + 0.297*\"F\" + -0.195*\"A7\" + 0.166*\"Em\" + 0.143*\"C\" + -0.141*\"E7\" + 0.115*\"Gm\"\n",
            "2021-12-03 08:47:34,008 : INFO : LsiModel lifecycle event {'msg': 'trained LsiModel(num_terms=60, num_topics=100, decay=1.0, chunksize=20000) in 0.29s', 'datetime': '2021-12-03T08:47:34.008618', 'gensim': '4.1.2', 'python': '3.7.12 (default, Sep 10 2021, 00:21:48) \\n[GCC 7.5.0]', 'platform': 'Linux-5.4.104+-x86_64-with-Ubuntu-18.04-bionic', 'event': 'created'}\n"
          ]
        }
      ]
    },
    {
      "cell_type": "code",
      "metadata": {
        "id": "EvxSQFfBBNMJ",
        "colab": {
          "base_uri": "https://localhost:8080/"
        },
        "outputId": "b63d65f8-709d-4f51-9366-ba1ad0892d93"
      },
      "source": [
        "index_lsi = similarities.Similarity('/content/index/index_lsi', lsi[bow_corpus], num_features=len(dictionary))"
      ],
      "execution_count": 74,
      "outputs": [
        {
          "output_type": "stream",
          "name": "stderr",
          "text": [
            "2021-12-03 08:47:34,021 : INFO : starting similarity index under /content/index/index_lsi\n"
          ]
        }
      ]
    },
    {
      "cell_type": "code",
      "metadata": {
        "id": "3saA6NY5Tzer"
      },
      "source": [
        "#index_lsi = similarities.SparseMatrixSimilarity(lsi[bow_corpus], num_features = len(dictionary))\n",
        "#index_lsi = similarities.MatrixSimilarity(lsi[bow_corpus])  # transform corpus to LSI space and index it\n"
      ],
      "execution_count": 75,
      "outputs": []
    },
    {
      "cell_type": "code",
      "metadata": {
        "colab": {
          "base_uri": "https://localhost:8080/"
        },
        "id": "F5pbDMVyfEtS",
        "outputId": "06b1cf73-2ac3-40a6-f832-e90e809c03eb"
      },
      "source": [
        "lsi.save('/content/index/lsi.model')\n",
        "index_lsi.save('/content/index/lsi_matrixsim.index')\n"
      ],
      "execution_count": 76,
      "outputs": [
        {
          "output_type": "stream",
          "name": "stderr",
          "text": [
            "2021-12-03 08:47:34,651 : INFO : Projection lifecycle event {'fname_or_handle': '/content/index/lsi.model.projection', 'separately': 'None', 'sep_limit': 10485760, 'ignore': frozenset(), 'datetime': '2021-12-03T08:47:34.651658', 'gensim': '4.1.2', 'python': '3.7.12 (default, Sep 10 2021, 00:21:48) \\n[GCC 7.5.0]', 'platform': 'Linux-5.4.104+-x86_64-with-Ubuntu-18.04-bionic', 'event': 'saving'}\n",
            "2021-12-03 08:47:34,658 : INFO : saved /content/index/lsi.model.projection\n",
            "2021-12-03 08:47:34,661 : INFO : LsiModel lifecycle event {'fname_or_handle': '/content/index/lsi.model', 'separately': 'None', 'sep_limit': 10485760, 'ignore': ['projection', 'dispatcher'], 'datetime': '2021-12-03T08:47:34.661449', 'gensim': '4.1.2', 'python': '3.7.12 (default, Sep 10 2021, 00:21:48) \\n[GCC 7.5.0]', 'platform': 'Linux-5.4.104+-x86_64-with-Ubuntu-18.04-bionic', 'event': 'saving'}\n",
            "2021-12-03 08:47:34,668 : INFO : not storing attribute projection\n",
            "2021-12-03 08:47:34,670 : INFO : not storing attribute dispatcher\n",
            "2021-12-03 08:47:34,674 : INFO : saved /content/index/lsi.model\n",
            "2021-12-03 08:47:34,676 : INFO : creating matrix with 5552 documents and 60 features\n",
            "2021-12-03 08:47:34,690 : INFO : creating dense shard #0\n",
            "2021-12-03 08:47:34,694 : INFO : saving index shard to /content/index/index_lsi.0\n",
            "2021-12-03 08:47:34,696 : INFO : MatrixSimilarity lifecycle event {'fname_or_handle': '/content/index/index_lsi.0', 'separately': 'None', 'sep_limit': 10485760, 'ignore': frozenset(), 'datetime': '2021-12-03T08:47:34.696289', 'gensim': '4.1.2', 'python': '3.7.12 (default, Sep 10 2021, 00:21:48) \\n[GCC 7.5.0]', 'platform': 'Linux-5.4.104+-x86_64-with-Ubuntu-18.04-bionic', 'event': 'saving'}\n",
            "2021-12-03 08:47:34,704 : INFO : saved /content/index/index_lsi.0\n",
            "2021-12-03 08:47:34,712 : INFO : loading MatrixSimilarity object from /content/index/index_lsi.0\n",
            "2021-12-03 08:47:34,718 : INFO : MatrixSimilarity lifecycle event {'fname': '/content/index/index_lsi.0', 'datetime': '2021-12-03T08:47:34.718135', 'gensim': '4.1.2', 'python': '3.7.12 (default, Sep 10 2021, 00:21:48) \\n[GCC 7.5.0]', 'platform': 'Linux-5.4.104+-x86_64-with-Ubuntu-18.04-bionic', 'event': 'loaded'}\n",
            "2021-12-03 08:47:34,726 : INFO : Similarity lifecycle event {'fname_or_handle': '/content/index/lsi_matrixsim.index', 'separately': 'None', 'sep_limit': 10485760, 'ignore': frozenset(), 'datetime': '2021-12-03T08:47:34.726158', 'gensim': '4.1.2', 'python': '3.7.12 (default, Sep 10 2021, 00:21:48) \\n[GCC 7.5.0]', 'platform': 'Linux-5.4.104+-x86_64-with-Ubuntu-18.04-bionic', 'event': 'saving'}\n",
            "2021-12-03 08:47:34,749 : INFO : saved /content/index/lsi_matrixsim.index\n"
          ]
        }
      ]
    },
    {
      "cell_type": "code",
      "metadata": {
        "colab": {
          "base_uri": "https://localhost:8080/"
        },
        "id": "1udPIceqYk6S",
        "outputId": "4a5cfd53-2e05-40aa-9038-ae9857eecbd8"
      },
      "source": [
        "!ls -la /content/index"
      ],
      "execution_count": 77,
      "outputs": [
        {
          "output_type": "stream",
          "name": "stdout",
          "text": [
            "total 1704\n",
            "drwxr-xr-x 2 root root    4096 Dec  3 08:47 .\n",
            "drwxr-xr-x 1 root root    4096 Dec  3 08:46 ..\n",
            "-rw-r--r-- 1 root root 1333152 Dec  3 08:47 index_lsi.0\n",
            "-rw-r--r-- 1 root root     742 Dec  3 08:47 lsi_matrixsim.index\n",
            "-rw-r--r-- 1 root root    2434 Dec  3 08:47 lsi.model\n",
            "-rw-r--r-- 1 root root   29960 Dec  3 08:47 lsi.model.projection\n",
            "-rw-r--r-- 1 root root  352340 Dec  3 08:46 tfidf.index\n",
            "-rw-r--r-- 1 root root    2458 Dec  3 08:46 tfidf.model\n"
          ]
        }
      ]
    },
    {
      "cell_type": "markdown",
      "metadata": {
        "id": "u05KD64Ai1uo"
      },
      "source": [
        "## Tests"
      ]
    },
    {
      "cell_type": "markdown",
      "metadata": {
        "id": "pDxTCAGv9MmZ"
      },
      "source": [
        "### Test for single tunes"
      ]
    },
    {
      "cell_type": "code",
      "metadata": {
        "colab": {
          "base_uri": "https://localhost:8080/"
        },
        "id": "khASSJ1eEuf5",
        "outputId": "ff8207fa-cf25-464d-e6d6-eca6b8b1212e"
      },
      "source": [
        "%%time\n",
        "df_sim = get_sim_scores(tunes_eval_list, index=index_lsi, model=lsi)\n",
        "\n",
        "# save a copy of the results; all results will be concatenated at the end\n",
        "df_lsi = df_sim[:]"
      ],
      "execution_count": 78,
      "outputs": [
        {
          "output_type": "stream",
          "name": "stderr",
          "text": [
            "100%|██████████| 11/11 [00:18<00:00,  1.68s/it]"
          ]
        },
        {
          "output_type": "stream",
          "name": "stdout",
          "text": [
            "CPU times: user 18.9 s, sys: 4.51 s, total: 23.4 s\n",
            "Wall time: 18.5 s\n"
          ]
        },
        {
          "output_type": "stream",
          "name": "stderr",
          "text": [
            "\n"
          ]
        }
      ]
    },
    {
      "cell_type": "code",
      "metadata": {
        "colab": {
          "base_uri": "https://localhost:8080/",
          "height": 542
        },
        "id": "X31lkvUsDAsU",
        "outputId": "d5f588c1-b9d9-4f46-a9ef-bb5ce2da5d6f"
      },
      "source": [
        "import plotly.express as px\n",
        "fig = px.histogram(df_sim, x=\"score\", nbins=50, title='LSI Scores')\n",
        "fig.show()"
      ],
      "execution_count": 79,
      "outputs": [
        {
          "output_type": "display_data",
          "data": {
            "text/html": [
              "<html>\n",
              "<head><meta charset=\"utf-8\" /></head>\n",
              "<body>\n",
              "    <div>\n",
              "            <script src=\"https://cdnjs.cloudflare.com/ajax/libs/mathjax/2.7.5/MathJax.js?config=TeX-AMS-MML_SVG\"></script><script type=\"text/javascript\">if (window.MathJax) {MathJax.Hub.Config({SVG: {font: \"STIX-Web\"}});}</script>\n",
              "                <script type=\"text/javascript\">window.PlotlyConfig = {MathJaxConfig: 'local'};</script>\n",
              "        <script src=\"https://cdn.plot.ly/plotly-latest.min.js\"></script>    \n",
              "            <div id=\"277c3594-407f-4100-91d7-fb8e213bc1c6\" class=\"plotly-graph-div\" style=\"height:525px; width:100%;\"></div>\n",
              "            <script type=\"text/javascript\">\n",
              "                \n",
              "                    window.PLOTLYENV=window.PLOTLYENV || {};\n",
              "                    \n",
              "                if (document.getElementById(\"277c3594-407f-4100-91d7-fb8e213bc1c6\")) {\n",
              "                    Plotly.newPlot(\n",
              "                        '277c3594-407f-4100-91d7-fb8e213bc1c6',\n",
              "                        [{\"alignmentgroup\": \"True\", \"bingroup\": \"x\", \"hoverlabel\": {\"namelength\": 0}, \"hovertemplate\": \"score=%{x}<br>count=%{y}\", \"legendgroup\": \"\", \"marker\": {\"color\": \"#636efa\"}, \"name\": \"\", \"nbinsx\": 50, \"offsetgroup\": \"\", \"orientation\": \"v\", \"showlegend\": false, \"type\": \"histogram\", \"x\": [0.9782608151435852, 0.9680039286613464, 0.9680039286613464, 0.9609864354133606, 0.9583727121353149, 0.9583727121353149, 0.956929087638855, 0.956929087638855, 0.9567298889160156, 0.9567298889160156, 0.953407347202301, 0.9530152678489685, 0.9517338275909424, 0.9515873193740845, 0.9508562088012695, 0.9497162103652954, 0.9497162103652954, 0.9486438035964966, 0.9486438035964966, 0.9486438035964966, 0.9480385780334473, 0.9473729133605957, 0.9457324743270874, 0.9457324743270874, 0.945545494556427, 0.9455454349517822, 0.9443843960762024, 0.9430418610572815, 0.9430418610572815, 0.9421554207801819, 0.9418281316757202, 0.9409438967704773, 0.9405701756477356, 0.9405701756477356, 0.9405701756477356, 0.9383149147033691, 0.9383148550987244, 0.937636137008667, 0.9362574815750122, 0.9355852007865906, 0.9347826838493347, 0.9337990283966064, 0.9337990283966064, 0.9337990283966064, 0.9327823519706726, 0.9326990246772766, 0.9302014708518982, 0.9267780184745789, 0.9260297417640686, 0.9239885807037354, 0.9229961633682251, 0.9276337623596191, 0.9261981248855591, 0.9180846810340881, 0.9180846810340881, 0.9166985750198364, 0.9166985750198364, 0.9140905141830444, 0.910935640335083, 0.9102990627288818, 0.9095086455345154, 0.9095086455345154, 0.9081082940101624, 0.9081081748008728, 0.9080253839492798, 0.9007546901702881, 0.9007546901702881, 0.900283932685852, 0.8978642821311951, 0.8973817825317383, 0.8973646759986877, 0.8952860236167908, 0.8951714634895325, 0.8932596445083618, 0.8926786184310913, 0.8926785588264465, 0.8917928338050842, 0.8911328315734863, 0.8911328315734863, 0.8911328315734863, 0.8892972469329834, 0.8892971873283386, 0.888540506362915, 0.887778103351593, 0.8875745534896851, 0.8868440985679626, 0.8860760927200317, 0.8860760927200317, 0.8860760927200317, 0.8858785629272461, 0.8856149911880493, 0.8850129842758179, 0.8838581442832947, 0.8831852674484253, 0.8823530673980713, 0.8823530673980713, 0.8823530077934265, 0.882352888584137, 0.882009744644165, 0.8820096850395203, 0.8799552917480469, 0.8799552321434021, 0.9284766912460327, 0.914300799369812, 0.9109803438186646, 0.900500476360321, 0.8965517282485962, 0.8946301341056824, 0.8938527703285217, 0.8913376331329346, 0.8858184218406677, 0.8844478726387024, 0.8823398351669312, 0.8820527195930481, 0.8817845582962036, 0.8797065019607544, 0.8791322112083435, 0.8778665661811829, 0.8778665661811829, 0.8754208087921143, 0.8753762245178223, 0.8753761649131775, 0.8727861642837524, 0.8725833296775818, 0.8719775676727295, 0.8718128204345703, 0.8703171014785767, 0.8703169822692871, 0.8703169822692871, 0.8703169822692871, 0.870022177696228, 0.8685104846954346, 0.8671485781669617, 0.8671485781669617, 0.8671485185623169, 0.8656303286552429, 0.8630339503288269, 0.8630338907241821, 0.8630338907241821, 0.8630338907241821, 0.8620791435241699, 0.8620690107345581, 0.8620690107345581, 0.8620690107345581, 0.8620690107345581, 0.8620689511299133, 0.8612779974937439, 0.8608582019805908, 0.8608582019805908, 0.8598552942276001, 0.859855055809021, 0.8596023321151733, 0.8596023321151733, 0.9782608151435852, 0.9680039286613464, 0.9680039286613464, 0.9609864354133606, 0.9583727121353149, 0.9583727121353149, 0.956929087638855, 0.956929087638855, 0.9567298889160156, 0.9567298889160156, 0.953407347202301, 0.9530152678489685, 0.9517338275909424, 0.9515873193740845, 0.9508562088012695, 0.9497162103652954, 0.9497162103652954, 0.9486438035964966, 0.9486438035964966, 0.9486438035964966, 0.9480385780334473, 0.9473729133605957, 0.9457324743270874, 0.9457324743270874, 0.945545494556427, 0.9455454349517822, 0.9443843960762024, 0.9430418610572815, 0.9430418610572815, 0.9421554207801819, 0.9418281316757202, 0.9409438967704773, 0.9405701756477356, 0.9405701756477356, 0.9405701756477356, 0.9383149147033691, 0.9383148550987244, 0.937636137008667, 0.9362574815750122, 0.9355852007865906, 0.9347826838493347, 0.9337990283966064, 0.9337990283966064, 0.9337990283966064, 0.9327823519706726, 0.9326990246772766, 0.9302014708518982, 0.9267780184745789, 0.9260297417640686, 0.9239885807037354, 0.9229961633682251, 0.9789450168609619, 0.9789450168609619, 0.9780193567276001, 0.9780193567276001, 0.9780193567276001, 0.9780193567276001, 0.9780193567276001, 0.9780193567276001, 0.9680038690567017, 0.9680038690567017, 0.9680038690567017, 0.9613049030303955, 0.9591663479804993, 0.9591663479804993, 0.9591663479804993, 0.9591663479804993, 0.9567296504974365, 0.955532968044281, 0.955532968044281, 0.9542196989059448, 0.9533288478851318, 0.9527594447135925, 0.9517336487770081, 0.9516249895095825, 0.9477928280830383, 0.9457324147224426, 0.9451119899749756, 0.9451119899749756, 0.9443126916885376, 0.9441068172454834, 0.9430418610572815, 0.9399424195289612, 0.9383148550987244, 0.9363822340965271, 0.9363822340965271, 0.9363822340965271, 0.9363821744918823, 0.9363821148872375, 0.9363821148872375, 0.9337990880012512, 0.9337990880012512, 0.9337990880012512, 0.9337990880012512, 0.9337990880012512, 0.9337990880012512, 0.9337990880012512, 0.9337990880012512, 0.9337990283966064, 0.9337990283966064, 0.9337990283966064, 0.9335638284683228, 1.0, 1.0, 1.0, 1.0, 1.0, 1.0, 0.9670912623405457, 0.9642364978790283, 0.963624119758606, 0.9629138112068176, 0.9629138112068176, 0.9629138112068176, 0.9622505307197571, 0.9622505307197571, 0.9622505307197571, 0.954785943031311, 0.954785943031311, 0.954785943031311, 0.954785943031311, 0.954785943031311, 0.954785943031311, 0.9524850249290466, 0.9467293620109558, 0.946729302406311, 0.9449112415313721, 0.9449111223220825, 0.9444445371627808, 0.9444445371627808, 0.9444444179534912, 0.9444444179534912, 0.9433000087738037, 0.9428091049194336, 0.9428091049194336, 0.9428091049194336, 0.942808985710144, 0.942808985710144, 0.942808985710144, 0.9428089261054993, 0.9428089261054993, 0.9428089261054993, 0.9428089261054993, 0.9389095902442932, 0.9375, 0.9337990283966064, 0.9333333969116211, 0.9301754832267761, 0.9297198057174683, 0.9296697378158569, 0.9291626214981079, 0.9287014007568359, 0.9279607534408569, 0.9109802842140198, 0.8989331126213074, 0.8970853686332703, 0.8970851898193359, 0.8952738642692566, 0.895273745059967, 0.8914002180099487, 0.8885233402252197, 0.8871256709098816, 0.8856149315834045, 0.8852704167366028, 0.8807710409164429, 0.8807709217071533, 0.8783100247383118, 0.8767139911651611, 0.8728716373443604, 0.8728716373443604, 0.8672274351119995, 0.8662301898002625, 0.8662301898002625, 0.8662300705909729, 0.866025447845459, 0.8660253882408142, 0.8660253286361694, 0.8631113171577454, 0.8630338907241821, 0.8614110350608826, 0.8608285188674927, 0.8608285188674927, 0.8608283996582031, 0.8606629967689514, 0.8606629967689514, 0.8606629967689514, 0.8603174090385437, 0.8593378067016602, 0.8589058518409729, 0.8581164479255676, 0.8573213815689087, 0.8573213815689087, 0.857159435749054, 0.8563488125801086, 0.8553987741470337, 0.8539126515388489, 0.8520129323005676, 0.8520128726959229, 0.8516885042190552, 0.8516883254051208, 0.8511921763420105, 0.8489526510238647, 0.848528265953064, 0.848528265953064, 0.9789450168609619, 0.9789450168609619, 0.9780193567276001, 0.9780193567276001, 0.9780193567276001, 0.9780193567276001, 0.9780193567276001, 0.9780193567276001, 0.9680038690567017, 0.9680038690567017, 0.9680038690567017, 0.9613049030303955, 0.9591663479804993, 0.9591663479804993, 0.9591663479804993, 0.9591663479804993, 0.9567296504974365, 0.955532968044281, 0.955532968044281, 0.9542196989059448, 0.9533288478851318, 0.9527594447135925, 0.9517336487770081, 0.9516249895095825, 0.9477928280830383, 0.9457324147224426, 0.9451119899749756, 0.9451119899749756, 0.9443126916885376, 0.9441068172454834, 0.9430418610572815, 0.9399424195289612, 0.9383148550987244, 0.9363822340965271, 0.9363822340965271, 0.9363822340965271, 0.9363821744918823, 0.9363821148872375, 0.9363821148872375, 0.9337990880012512, 0.9337990880012512, 0.9337990880012512, 0.9337990880012512, 0.9337990880012512, 0.9337990880012512, 0.9337990880012512, 0.9337990880012512, 0.9337990283966064, 0.9337990283966064, 0.9337990283966064, 0.9335638284683228, 0.9767817258834839, 0.9675326347351074, 0.9635461568832397, 0.9621405005455017, 0.9603921175003052, 0.9596788883209229, 0.9594032764434814, 0.9534624814987183, 0.9534624814987183, 0.953230619430542, 0.952627956867218, 0.9493857622146606, 0.9489284157752991, 0.9489284157752991, 0.9489284157752991, 0.9489284157752991, 0.9489284157752991, 0.9486833810806274, 0.9463775157928467, 0.9436285495758057, 0.9430053234100342, 0.9429904222488403, 0.9429904222488403, 0.9429903626441956, 0.9408842921257019, 0.9400193095207214, 0.9391485452651978, 0.9389862418174744, 0.9389862418174744, 0.9389862418174744, 0.9389711022377014, 0.9389710426330566, 0.9354953765869141, 0.9354953765869141, 0.9354143142700195, 0.9339475631713867, 0.9339475631713867, 0.9339475631713867, 0.9336222410202026, 0.9333809614181519, 0.9311283230781555, 0.9295159578323364, 0.9293403625488281, 0.9282792806625366, 0.9282792806625366, 0.9276014566421509, 0.9276014566421509, 0.9276014566421509, 0.9276013970375061, 0.9276013970375061, 0.9276013970375061, 0.9765536785125732, 0.9750855565071106, 0.9749135375022888, 0.9749135375022888, 0.9749135375022888, 0.9723449349403381, 0.9723449349403381, 0.9716054201126099, 0.9707253575325012, 0.9673306345939636, 0.9673306345939636, 0.9624354243278503, 0.9609277844429016, 0.9607689380645752, 0.9607689380645752, 0.9607689380645752, 0.9578132033348083, 0.9575175642967224, 0.955316960811615, 0.9542196989059448, 0.9534240365028381, 0.9529259204864502, 0.9518744945526123, 0.9516487121582031, 0.9516487121582031, 0.9516487121582031, 0.9516487121582031, 0.9516487121582031, 0.9516487121582031, 0.9516485929489136, 0.9516485929489136, 0.951034426689148, 0.951034426689148, 0.950933039188385, 0.950933039188385, 0.9487438797950745, 0.9476128816604614, 0.9464575052261353, 0.9460287094116211, 0.9448347091674805, 0.9448346495628357, 0.9435641765594482, 0.9429903626441956, 0.9429903030395508, 0.9421114325523376, 0.9415132403373718, 0.9415131211280823, 0.940772294998169, 0.9405398964881897, 0.9388344883918762, 0.9366541504859924, 1.0000001192092896, 1.0000001192092896, 1.0000001192092896, 1.0000001192092896, 1.0000001192092896, 1.0000001192092896, 1.0000001192092896, 1.0000001192092896, 1.0000001192092896, 1.0000001192092896, 1.0000001192092896, 1.0000001192092896, 1.0000001192092896, 1.0000001192092896, 1.0000001192092896, 1.0000001192092896, 0.9701424837112427, 0.9701424837112427, 0.9701424837112427, 0.9354144334793091, 0.9354144334793091, 0.9354144334793091, 0.9354143142700195, 0.9354143142700195, 0.9176629185676575, 0.8944271802902222, 0.8944271802902222, 0.875, 0.875, 0.8728715777397156, 0.866025447845459, 0.866025447845459, 0.866025447845459, 0.8534917831420898, 0.8504200577735901, 0.8486683964729309, 0.8391463756561279, 0.8333333730697632, 0.8320503234863281, 0.8320503234863281, 0.8249578475952148, 0.8164964914321899, 0.8164964914321899, 0.8111070990562439, 0.8082903623580933, 0.8082239031791687, 0.8082238435745239, 0.8017837405204773, 0.8017837405204773, 0.8017837405204773, 0.8017836809158325, 0.9767817258834839, 0.9675326347351074, 0.9635461568832397, 0.9621405005455017, 0.9603921175003052, 0.9596788883209229, 0.9594032764434814, 0.9534624814987183, 0.9534624814987183, 0.953230619430542, 0.952627956867218, 0.9493857622146606, 0.9489284157752991, 0.9489284157752991, 0.9489284157752991, 0.9489284157752991, 0.9489284157752991, 0.9486833810806274, 0.9463775157928467, 0.9436285495758057, 0.9430053234100342, 0.9429904222488403, 0.9429904222488403, 0.9429903626441956, 0.9408842921257019, 0.9400193095207214, 0.9391485452651978, 0.9389862418174744, 0.9389862418174744, 0.9389862418174744, 0.9389711022377014, 0.9389710426330566, 0.9354953765869141, 0.9354953765869141, 0.9354143142700195, 0.9339475631713867, 0.9339475631713867, 0.9339475631713867, 0.9336222410202026, 0.9333809614181519, 0.9311283230781555, 0.9295159578323364, 0.9293403625488281, 0.9282792806625366, 0.9282792806625366, 0.9276014566421509, 0.9276014566421509, 0.9276014566421509, 0.9276013970375061, 0.9276013970375061, 0.9276013970375061, 0.9271050691604614, 0.9233806133270264, 0.9233806133270264, 0.923380434513092, 0.9223309755325317, 0.9185587167739868, 0.9150798320770264, 0.9091922044754028, 0.9086883068084717, 0.9086881875991821, 0.9068453311920166, 0.9068453311920166, 0.9068452715873718, 0.9068452715873718, 0.9067235589027405, 0.9057894349098206, 0.90572589635849, 0.9057257175445557, 0.9036961197853088, 0.9036961197853088, 0.9036425352096558, 0.9035078883171082, 0.9027075171470642, 0.9004502892494202, 0.9000000357627869, 0.8992518186569214, 0.8977310657501221, 0.8977310657501221, 0.8959787487983704, 0.8959787487983704, 0.8959787487983704, 0.8948381543159485, 0.8944272398948669, 0.8944270610809326, 0.8901635408401489, 0.890049159526825, 0.8894600868225098, 0.888956606388092, 0.8874119520187378, 0.8874119520187378, 0.8861469626426697, 0.8858796954154968, 0.885879635810852, 0.8858795762062073, 0.885614812374115, 0.885614812374115, 0.8854378461837769, 0.8851410150527954, 0.8851410150527954, 0.8851410150527954, 0.883787989616394, 0.931891143321991, 0.931891143321991, 0.9318910837173462, 0.9284141659736633, 0.9239885210990906, 0.9214065074920654, 0.9185315370559692, 0.9185314178466797, 0.9185314178466797, 0.913266122341156, 0.9121593832969666, 0.9121593236923218, 0.9082950949668884, 0.9074424505233765, 0.904534101486206, 0.9036519527435303, 0.9014201760292053, 0.8994011878967285, 0.8994011282920837, 0.8994011282920837, 0.8994011282920837, 0.8983222246170044, 0.8971500396728516, 0.8956221342086792, 0.8929462432861328, 0.8927096128463745, 0.892413318157196, 0.8924132585525513, 0.8922685980796814, 0.8922685980796814, 0.8922685384750366, 0.8922268152236938, 0.8919914960861206, 0.889898419380188, 0.8892278075218201, 0.8883363604545593, 0.8883362412452698, 0.8883362412452698, 0.8882347941398621, 0.8876253366470337, 0.8871638178825378, 0.886405348777771, 0.8864052295684814, 0.885258674621582, 0.8841818571090698, 0.883959949016571, 0.883959949016571, 0.8838563561439514, 0.8838563561439514, 0.8838563561439514, 0.8838563561439514, 0.9999999403953552, 0.9999999403953552, 0.9999999403953552, 0.9999999403953552, 0.9999999403953552, 0.9999999403953552, 0.9999999403953552, 0.9999999403953552, 0.9999999403953552, 0.9999999403953552, 0.9999999403953552, 0.9999999403953552, 0.9999999403953552, 0.9999999403953552, 0.9999999403953552, 0.9999999403953552, 0.9999999403953552, 0.9999999403953552, 0.9999999403953552, 0.9999999403953552, 0.9999999403953552, 0.9999999403953552, 0.9999999403953552, 0.9999999403953552, 0.9999999403953552, 0.9999999403953552, 0.9999999403953552, 0.9999999403953552, 0.9999999403953552, 0.981980562210083, 0.9701424837112427, 0.9594033360481262, 0.9444445371627808, 0.9354143738746643, 0.9354143142700195, 0.9354143142700195, 0.9191449880599976, 0.9176629185676575, 0.9036961197853088, 0.8845380544662476, 0.8845379948616028, 0.875, 0.8749999403953552, 0.8749998807907104, 0.8660255074501038, 0.866025447845459, 0.866025447845459, 0.8486684560775757, 0.8486684560775757, 0.8387421369552612, 0.8340575695037842, 0.9504969716072083, 0.9495629072189331, 0.9428292512893677, 0.9428292512893677, 0.9428290724754333, 0.9428290724754333, 0.9415245056152344, 0.9306780099868774, 0.9306631684303284, 0.9304842948913574, 0.9304842948913574, 0.9304842352867126, 0.9304842352867126, 0.9243423342704773, 0.9210566282272339, 0.9210566282272339, 0.9187795519828796, 0.9186933040618896, 0.9173649549484253, 0.9173649549484253, 0.9173648953437805, 0.9163298010826111, 0.9163298010826111, 0.9154753684997559, 0.9150522947311401, 0.9150522351264954, 0.9150522351264954, 0.914393961429596, 0.9143939018249512, 0.9141045212745667, 0.9137173891067505, 0.9137173891067505, 0.9121593832969666, 0.9121593832969666, 0.9121593832969666, 0.9121593832969666, 0.9121593832969666, 0.912159264087677, 0.9121033549308777, 0.9121033549308777, 0.9116846323013306, 0.9116846323013306, 0.9116846323013306, 0.9101129770278931, 0.908599317073822, 0.9073387384414673, 0.9053541421890259, 0.9053541421890259, 0.9053540825843811, 0.9053540825843811, 0.9053540825843811, 0.9746793508529663, 0.955022931098938, 0.9534626603126526, 0.9486833810806274, 0.9486832022666931, 0.946729302406311, 0.9449111223220825, 0.9341986775398254, 0.9316949844360352, 0.9316949248313904, 0.9316949248313904, 0.9316949248313904, 0.9316949248313904, 0.9315560460090637, 0.930260419845581, 0.9296696782112122, 0.9237022995948792, 0.9237022995948792, 0.9237022399902344, 0.9237021207809448, 0.9237021207809448, 0.9216353297233582, 0.9209108352661133, 0.9203580617904663, 0.9203580617904663, 0.9203579425811768, 0.9190182089805603, 0.9170604348182678, 0.9141740798950195, 0.9135003089904785, 0.9135003089904785, 0.9135002493858337, 0.9135002493858337, 0.9135002493858337, 0.9132592678070068, 0.9128710031509399, 0.9101698398590088, 0.910169780254364, 0.9091920852661133, 0.9091548919677734, 0.9091547727584839, 0.9081292152404785, 0.9079594612121582, 0.9079594016075134, 0.9071147441864014, 0.9071147441864014, 0.9071147441864014, 0.9071147441864014, 0.9068452715873718, 0.9068452715873718, 0.9057894945144653, 0.9574270844459534, 0.9486832618713379, 0.9449111223220825, 0.9432421922683716, 0.942808985710144, 0.9415960907936096, 0.9381941556930542, 0.9359708428382874, 0.9338592290878296, 0.9298988580703735, 0.9244734048843384, 0.9238697290420532, 0.9223309755325317, 0.9185587167739868, 0.918558657169342, 0.9141380190849304, 0.9141379594802856, 0.9141378998756409, 0.9133461713790894, 0.9131711721420288, 0.9128709435462952, 0.9128709435462952, 0.9128708839416504, 0.9128708839416504, 0.9128708839416504, 0.9128708839416504, 0.9128708839416504, 0.9128708839416504, 0.9128708839416504, 0.9128708839416504, 0.9128708243370056, 0.9128708243370056, 0.9114654660224915, 0.9112957715988159, 0.9112957715988159, 0.9112956523895264, 0.9097177386283875, 0.9097177386283875, 0.9082950353622437, 0.9072183966636658, 0.9060607552528381, 0.905821681022644, 0.905821681022644, 0.905821681022644, 0.9056544303894043, 0.9036960601806641, 0.9036960601806641, 0.9036960601806641, 0.9035253524780273, 0.9030570387840271, 0.9027305245399475, 0.8682432174682617, 0.8362420201301575, 0.8278374671936035, 0.827837347984314, 0.8006408214569092, 0.8006408214569092, 0.8006407022476196, 0.7893521785736084, 0.7893521785736084, 0.7844644784927368, 0.769230842590332, 0.7692307829856873, 0.762712836265564, 0.7627127170562744, 0.7614996433258057, 0.7526178359985352, 0.7526177763938904, 0.7518094778060913, 0.7518093585968018, 0.7472647428512573, 0.7412494421005249, 0.7412494421005249, 0.7412494421005249, 0.7412493824958801, 0.7412493824958801, 0.7399400472640991, 0.7399400472640991, 0.7396003007888794, 0.7354356050491333, 0.7354356050491333, 0.7354356050491333, 0.7282021045684814, 0.7275328636169434, 0.7262730598449707, 0.7242068648338318, 0.723842442035675, 0.7211102843284607, 0.7211102247238159, 0.7211102247238159, 0.7205767631530762, 0.7205767631530762, 0.7205767035484314, 0.7205766439437866, 0.7198740243911743, 0.7198740243911743, 0.7190924882888794, 0.7161149382591248, 0.71611487865448, 0.71611487865448, 0.7141502499580383, 0.7095748782157898, 0.9565218091011047, 0.9565218091011047, 0.9498990178108215, 0.9457324743270874, 0.9451746940612793, 0.944369912147522, 0.9437403678894043, 0.9437402486801147, 0.9437402486801147, 0.9383847117424011, 0.9383148550987244, 0.9383148550987244, 0.9363822340965271, 0.9348928332328796, 0.933799147605896, 0.933799147605896, 0.9335638284683228, 0.9329904317855835, 0.9325047731399536, 0.9325047731399536, 0.9325047731399536, 0.9325047731399536, 0.9325047731399536, 0.9308957457542419, 0.9292837977409363, 0.9292836785316467, 0.9270649552345276, 0.926980197429657, 0.9267345070838928, 0.9255481362342834, 0.9231327176094055, 0.9231327176094055, 0.922958254814148, 0.9223131537437439, 0.9221463203430176, 0.921512246131897, 0.9215121865272522, 0.9215121269226074, 0.9194622039794922, 0.9187147617340088, 0.9163796305656433, 0.9152493476867676, 0.9149284958839417, 0.9149284958839417, 0.9138712882995605, 0.9136645197868347, 0.9136644601821899, 0.9132886528968811, 0.9132886528968811, 0.9132886528968811, 0.9132886528968811, 0.9503289461135864, 0.9503289461135864, 0.9503289461135864, 0.949999988079071, 0.949999988079071, 0.949999988079071, 0.949999988079071, 0.9486833214759827, 0.9486833214759827, 0.9486833214759827, 0.9486832618713379, 0.9447658061981201, 0.9437826871871948, 0.9395322203636169, 0.9315885305404663, 0.9260129928588867, 0.9252128601074219, 0.9237021803855896, 0.9231327176094055, 0.922531247138977, 0.9223780632019043, 0.9219545125961304, 0.9203580617904663, 0.9203580617904663, 0.9203580617904663, 0.9198335409164429, 0.9185588359832764, 0.9185587763786316, 0.9170605540275574, 0.9149490594863892, 0.9130463600158691, 0.9128710031509399, 0.9128708243370056, 0.9124254584312439, 0.9103991985321045, 0.9103991985321045, 0.9103991985321045, 0.9102588891983032, 0.9091548323631287, 0.9091548323631287, 0.9091548323631287, 0.9091548323631287, 0.9091548323631287, 0.9091548323631287, 0.9085408449172974, 0.9076087474822998, 0.9073202610015869, 0.9068452715873718, 0.9068452715873718, 0.9057255387306213, 0.9054062366485596, 0.9727044105529785, 0.9727044105529785, 0.9723232984542847, 0.970725417137146, 0.9707252383232117, 0.9707252383232117, 0.9707252383232117, 0.9707252383232117, 0.9707252383232117, 0.9707252383232117, 0.9673722386360168, 0.9673722386360168, 0.9626695513725281, 0.961269199848175, 0.961269199848175, 0.960845947265625, 0.9602954387664795, 0.959778904914856, 0.9572302103042603, 0.9569487571716309, 0.9569321870803833, 0.9569321870803833, 0.9569320678710938, 0.9569320678710938, 0.9569320678710938, 0.9522343873977661, 0.9522343873977661, 0.9522343873977661, 0.9488521814346313, 0.9473310112953186, 0.9456576704978943, 0.9451168179512024, 0.9451167583465576, 0.9447560906410217, 0.944756031036377, 0.9443395137786865, 0.9443395137786865, 0.9429903626441956, 0.942990243434906, 0.9428845643997192, 0.9428845643997192, 0.9428845643997192, 0.9426640272140503, 0.9426639080047607, 0.9413574934005737, 0.941357433795929, 0.9413573741912842, 0.9413573741912842, 0.9409592747688293, 0.9409592151641846, 0.9409592151641846, 0.9526609778404236, 0.9163419604301453, 0.9163419604301453, 0.9116846323013306, 0.9091372489929199, 0.9064249992370605, 0.9047619104385376, 0.9014979600906372, 0.9014410972595215, 0.9014410972595215, 0.9011271595954895, 0.9011271595954895, 0.9011270999908447, 0.9008853435516357, 0.900885283946991, 0.8997353911399841, 0.8987170457839966, 0.8981773257255554, 0.8970853686332703, 0.8970853686332703, 0.8970853090286255, 0.8970852494239807, 0.893197774887085, 0.8921425938606262, 0.8914850354194641, 0.8914850354194641, 0.8914850354194641, 0.8908708691596985, 0.8908708095550537, 0.8908708095550537, 0.8882558941841125, 0.8882347941398621, 0.8872442841529846, 0.8860777616500854, 0.8849904537200928, 0.8839600086212158, 0.883959949016571, 0.8819171190261841, 0.8813610076904297, 0.878462016582489, 0.8783100843429565, 0.8765010833740234, 0.8760229349136353, 0.8754655718803406, 0.8754655718803406, 0.8754655122756958, 0.8748178482055664, 0.8748178482055664, 0.8743855953216553, 0.8728716373443604, 0.8728716373443604, 0.9689629077911377, 0.9279607534408569, 0.9244223237037659, 0.9168188571929932, 0.9128709435462952, 0.9026708602905273, 0.8944272398948669, 0.8944271802902222, 0.8944271206855774, 0.8944271206855774, 0.8944271206855774, 0.8944271206855774, 0.8944270610809326, 0.8898887634277344, 0.8892973065376282, 0.8892972469329834, 0.8890008926391602, 0.8890008330345154, 0.8846516609191895, 0.883883535861969, 0.8838834762573242, 0.8824418783187866, 0.8819171786308289, 0.8819171190261841, 0.8819171190261841, 0.876794695854187, 0.8754656314849854, 0.8751899600028992, 0.8743855953216553, 0.8743855953216553, 0.8720983862876892, 0.8705716729164124, 0.8703883290290833, 0.8703883290290833, 0.8688099980354309, 0.8666667342185974, 0.866578221321106, 0.8660255074501038, 0.866025447845459, 0.8660253882408142, 0.8660253882408142, 0.8660253286361694, 0.865181028842926, 0.8651808500289917, 0.8651808500289917, 0.8647908568382263, 0.8618575930595398, 0.8618574738502502, 0.8606630563735962, 0.8606630563735962, 0.8606629371643066, 1.0, 0.9647637605667114, 0.9534626007080078, 0.9534626007080078, 0.9438798427581787, 0.9128709435462952, 0.9128709435462952, 0.9128708839416504, 0.9128708839416504, 0.9128708839416504, 0.9128708839416504, 0.908738911151886, 0.9036961197853088, 0.9036961197853088, 0.8999999761581421, 0.8999999761581421, 0.8944272398948669, 0.8944271206855774, 0.8854377865791321, 0.8854377269744873, 0.8854377269744873, 0.8808302879333496, 0.8807709813117981, 0.8770579695701599, 0.8764598369598389, 0.8720815181732178, 0.8705715537071228, 0.870571494102478, 0.8696264028549194, 0.8696262836456299, 0.8552360534667969, 0.851942777633667, 0.8499999642372131, 0.8451542854309082, 0.8451542854309082, 0.8451542854309082, 0.8451542854309082, 0.8451541662216187, 0.8436614871025085, 0.8432741165161133, 0.8391463756561279, 0.8391463756561279, 0.8385254740715027, 0.8302780389785767, 0.8280787467956543, 0.8221921920776367, 0.8221083283424377, 0.8215838670730591, 0.8215838670730591, 0.8164965510368347, 0.8142565488815308, 0.9660918116569519, 0.9578413963317871, 0.9443004131317139, 0.9385907649993896, 0.9330596923828125, 0.925242006778717, 0.9205666184425354, 0.9205665588378906, 0.9150180816650391, 0.9145520925521851, 0.9132660031318665, 0.912159264087677, 0.9116845726966858, 0.9100314974784851, 0.9091373682022095, 0.9091055393218994, 0.9047619104385376, 0.9014410972595215, 0.9014410376548767, 0.9014410376548767, 0.9011271595954895, 0.9011271595954895, 0.9011270999908447, 0.9002983570098877, 0.9001488089561462, 0.8981773257255554, 0.8970853090286255, 0.8970851898193359, 0.8970851898193359, 0.8970851898193359, 0.8970851898193359, 0.8970851898193359, 0.8970851898193359, 0.8931977152824402, 0.8908709287643433, 0.8908708095550537, 0.8890258073806763, 0.8882558345794678, 0.8882348537445068, 0.8839600086212158, 0.883959949016571, 0.8827130794525146, 0.8819171786308289, 0.8819171190261841, 0.8813609480857849, 0.8797653317451477, 0.878462016582489, 0.8775799870491028, 0.8765011429786682, 0.8765009641647339, 0.8765009641647339, 1.0000001192092896, 1.0, 1.0, 1.0, 1.0, 1.0, 1.0, 1.0, 1.0, 1.0, 1.0, 1.0, 1.0, 1.0, 1.0, 1.0, 1.0, 0.996023952960968, 0.991836667060852, 0.991836667060852, 0.985527515411377, 0.985527515411377, 0.9855274558067322, 0.9855274558067322, 0.9855274558067322, 0.9847320318222046, 0.9847320318222046, 0.9847319722175598, 0.9829463362693787, 0.9805806875228882, 0.9801961779594421, 0.9801960587501526, 0.9801960587501526, 0.9799578785896301, 0.9799118638038635, 0.9797959923744202, 0.9797959327697754, 0.9797958731651306, 0.9789450168609619, 0.9771398305892944, 0.9771398305892944, 0.9737290143966675, 0.9737289547920227, 0.9737289547920227, 0.971825361251831, 0.971825361251831, 0.970725417137146, 0.9695897698402405, 0.9684746265411377, 0.9684746265411377, 0.9684746265411377, 1.0000001192092896, 1.0, 1.0, 1.0, 1.0, 1.0, 1.0, 1.0, 1.0, 1.0, 1.0, 1.0, 1.0, 1.0, 1.0, 1.0, 1.0, 0.996023952960968, 0.991836667060852, 0.991836667060852, 0.985527515411377, 0.985527515411377, 0.9855274558067322, 0.9855274558067322, 0.9855274558067322, 0.9847320318222046, 0.9847320318222046, 0.9847319722175598, 0.9829463362693787, 0.9805806875228882, 0.9801961779594421, 0.9801960587501526, 0.9801960587501526, 0.9799578785896301, 0.9799118638038635, 0.9797959923744202, 0.9797959327697754, 0.9797958731651306, 0.9789450168609619, 0.9771398305892944, 0.9771398305892944, 0.9737290143966675, 0.9737289547920227, 0.9737289547920227, 0.971825361251831, 0.971825361251831, 0.970725417137146, 0.9695897698402405, 0.9684746265411377, 0.9684746265411377, 0.9684746265411377, 0.8333333134651184, 0.8333333134651184, 0.8198915719985962, 0.8179128766059875, 0.8164966106414795, 0.8017836809158325, 0.8017836809158325, 0.8006407618522644, 0.7947194576263428, 0.7947194576263428, 0.7947194576263428, 0.7938566207885742, 0.7938566207885742, 0.7905694246292114, 0.7879670262336731, 0.7825080156326294, 0.7777777314186096, 0.774596631526947, 0.774596631526947, 0.7715167999267578, 0.771516740322113, 0.766032338142395, 0.7637626528739929, 0.7593264579772949, 0.7593264579772949, 0.7505553960800171, 0.7504787445068359, 0.75, 0.75, 0.75, 0.75, 0.75, 0.7492687106132507, 0.7426106929779053, 0.7395740747451782, 0.738548994064331, 0.738548994064331, 0.7385489344596863, 0.7378647923469543, 0.7365694642066956, 0.7359800934791565, 0.7359800338745117, 0.7359800338745117, 0.7359800338745117, 0.7332355976104736, 0.73321932554245, 0.7329409122467041, 0.7319251298904419, 0.7315635681152344, 0.730296790599823, 0.7302967309951782, 1.0000001192092896, 1.0, 1.0, 1.0, 1.0, 1.0, 1.0, 1.0, 1.0, 1.0, 1.0, 1.0, 1.0, 1.0, 1.0, 1.0, 1.0, 0.996023952960968, 0.991836667060852, 0.991836667060852, 0.985527515411377, 0.985527515411377, 0.9855274558067322, 0.9855274558067322, 0.9855274558067322, 0.9847320318222046, 0.9847320318222046, 0.9847319722175598, 0.9829463362693787, 0.9805806875228882, 0.9801961779594421, 0.9801960587501526, 0.9801960587501526, 0.9799578785896301, 0.9799118638038635, 0.9797959923744202, 0.9797959327697754, 0.9797958731651306, 0.9789450168609619, 0.9771398305892944, 0.9771398305892944, 0.9737290143966675, 0.9737289547920227, 0.9737289547920227, 0.971825361251831, 0.971825361251831, 0.970725417137146, 0.9695897698402405, 0.9684746265411377, 0.9684746265411377, 0.9684746265411377, 0.9770083427429199, 0.9770083427429199, 0.9770083427429199, 0.9770083427429199, 0.9601587057113647, 0.9601587057113647, 0.9601587057113647, 0.9601587057113647, 0.955532968044281, 0.955532968044281, 0.9485040307044983, 0.9430897235870361, 0.9398273229598999, 0.9389158487319946, 0.9381027221679688, 0.9354143738746643, 0.9354143142700195, 0.9320070743560791, 0.9274260401725769, 0.9274259805679321, 0.9258201122283936, 0.9239131808280945, 0.9211323857307434, 0.9185585975646973, 0.9169091582298279, 0.9169091582298279, 0.9165151715278625, 0.9165151715278625, 0.9153028130531311, 0.9150180220603943, 0.9145520329475403, 0.9134141206741333, 0.9124212265014648, 0.9100315570831299, 0.9100315570831299, 0.9100315570831299, 0.9100314378738403, 0.9100314378738403, 0.9091055989265442, 0.907264769077301, 0.907264769077301, 0.9072646498680115, 0.9064249396324158, 0.906424880027771, 0.9014978408813477, 0.9014978408813477, 0.9014978408813477, 0.9014410376548767, 0.9011271595954895, 0.9008852243423462, 0.8997354507446289, 0.92406165599823, 0.9216354489326477, 0.9216354489326477, 0.9216354489326477, 0.9216354489326477, 0.9146592020988464, 0.9146592020988464, 0.9146592020988464, 0.9146592020988464, 0.9146592020988464, 0.9146592020988464, 0.9146592020988464, 0.9146591424942017, 0.9102991819381714, 0.9102991819381714, 0.9095085859298706, 0.9095085859298706, 0.9074851870536804, 0.9074851274490356, 0.8911328315734863, 0.8911328315734863, 0.8911328315734863, 0.8868439197540283, 0.8856148719787598, 0.88300621509552, 0.8829943537712097, 0.8823529481887817, 0.882352888584137, 0.8820460438728333, 0.8790491223335266, 0.8790491223335266, 0.8790491223335266, 0.8790490627288818, 0.8790490031242371, 0.8790490031242371, 0.8767141103744507, 0.8767140507698059, 0.8767140507698059, 0.8767139911651611, 0.875516951084137, 0.8751749396324158, 0.8751749396324158, 0.8751749396324158, 0.8744746446609497, 0.8744746446609497, 0.8734848499298096, 0.8732725977897644, 0.8731282949447632, 0.8731282949447632, 0.8731282353401184, 0.8724024295806885, 0.8660253882408142, 0.8660253882408142, 0.8552359938621521, 0.8552359342575073, 0.8552359342575073, 0.8552359342575073, 0.8552359342575073, 0.8552359342575073, 0.8552359342575073, 0.8552359342575073, 0.8528029322624207, 0.8500000834465027, 0.8485281467437744, 0.8332380056381226, 0.8320502638816833, 0.8320502042770386, 0.8246210813522339, 0.8221921920776367, 0.8221921920776367, 0.8221921920776367, 0.8170593976974487, 0.8164966106414795, 0.8164964914321899, 0.8111071586608887, 0.8082903623580933, 0.8049845099449158, 0.804984450340271, 0.804984450340271, 0.8023774027824402, 0.8017836809158325, 0.8017836809158325, 0.800000011920929, 0.800000011920929, 0.800000011920929, 0.800000011920929, 0.800000011920929, 0.800000011920929, 0.800000011920929, 0.800000011920929, 0.800000011920929, 0.800000011920929, 0.800000011920929, 0.800000011920929, 0.800000011920929, 0.800000011920929, 0.800000011920929, 0.800000011920929, 0.800000011920929, 0.800000011920929, 0.7999999523162842, 0.7999999523162842, 0.9770083427429199, 0.9770083427429199, 0.9770083427429199, 0.9770083427429199, 0.9601587057113647, 0.9601587057113647, 0.9601587057113647, 0.9601587057113647, 0.955532968044281, 0.955532968044281, 0.9485040307044983, 0.9430897235870361, 0.9398273229598999, 0.9389158487319946, 0.9381027221679688, 0.9354143738746643, 0.9354143142700195, 0.9320070743560791, 0.9274260401725769, 0.9274259805679321, 0.9258201122283936, 0.9239131808280945, 0.9211323857307434, 0.9185585975646973, 0.9169091582298279, 0.9169091582298279, 0.9165151715278625, 0.9165151715278625, 0.9153028130531311, 0.9150180220603943, 0.9145520329475403, 0.9134141206741333, 0.9124212265014648, 0.9100315570831299, 0.9100315570831299, 0.9100315570831299, 0.9100314378738403, 0.9100314378738403, 0.9091055989265442, 0.907264769077301, 0.907264769077301, 0.9072646498680115, 0.9064249396324158, 0.906424880027771, 0.9014978408813477, 0.9014978408813477, 0.9014978408813477, 0.9014410376548767, 0.9011271595954895, 0.9008852243423462, 0.8997354507446289, 0.9546687602996826, 0.9525009989738464, 0.9525009989738464, 0.9519716501235962, 0.9519716501235962, 0.9422229528427124, 0.9354143738746643, 0.9274261593818665, 0.9268551468849182, 0.9263021945953369, 0.9263021945953369, 0.9258201122283936, 0.9228394031524658, 0.9207509160041809, 0.9207508563995361, 0.9207369685173035, 0.9192388653755188, 0.9192387461662292, 0.9191449284553528, 0.9191449284553528, 0.9187105894088745, 0.9181762933731079, 0.9176628589630127, 0.9166666865348816, 0.9165785312652588, 0.9149913787841797, 0.9148908257484436, 0.913907527923584, 0.9133462905883789, 0.9133462905883789, 0.9133462905883789, 0.9133461713790894, 0.9128710031509399, 0.9128708839416504, 0.912495493888855, 0.9120291471481323, 0.9095087051391602, 0.9095086455345154, 0.9095085859298706, 0.9091371297836304, 0.9070371985435486, 0.906845211982727, 0.9065508246421814, 0.9062499403953552, 0.9061030149459839, 0.905821681022644, 0.9052647352218628, 0.9052647352218628, 0.9036961793899536, 0.9036960601806641, 0.9030821323394775, 0.9723055362701416, 0.9548637866973877, 0.9548637866973877, 0.9219544529914856, 0.9117646813392639, 0.9115638136863708, 0.9106417298316956, 0.9106417298316956, 0.9101821184158325, 0.9101821184158325, 0.910181999206543, 0.9095085859298706, 0.9081082940101624, 0.9074851274490356, 0.906869649887085, 0.9068695902824402, 0.9049034714698792, 0.9049034714698792, 0.9038770198822021, 0.8997353911399841, 0.8991816639900208, 0.8990276455879211, 0.8986451625823975, 0.8986450433731079, 0.8978642225265503, 0.897364616394043, 0.8958088159561157, 0.8956222534179688, 0.8951714038848877, 0.8934147953987122, 0.8932597041130066, 0.8932597041130066, 0.8932597041130066, 0.893088698387146, 0.8930885195732117, 0.8926785588264465, 0.8917926549911499, 0.8917016386985779, 0.8917016386985779, 0.8917016386985779, 0.8917016386985779, 0.8911328911781311, 0.8902638554573059, 0.8902638554573059, 0.8901259899139404, 0.8892972469329834, 0.8885403871536255, 0.8885403871536255, 0.8880652189254761, 0.8877781629562378, 0.8876720666885376, 0.9165151119232178, 0.8954430222511292, 0.8759956359863281, 0.8246210813522339, 0.8164965510368347, 0.8082904815673828, 0.8033263683319092, 0.8000000715255737, 0.800000011920929, 0.7923548221588135, 0.7902633547782898, 0.7855844497680664, 0.7794228196144104, 0.7786628603935242, 0.7778174877166748, 0.7765803337097168, 0.7765802145004272, 0.7761140465736389, 0.7745965719223022, 0.77247154712677, 0.771516740322113, 0.7666981816291809, 0.7666981220245361, 0.7615772485733032, 0.7602630853652954, 0.7602630853652954, 0.7559289336204529, 0.754342257976532, 0.75424724817276, 0.75424724817276, 0.7521398663520813, 0.7506518363952637, 0.75, 0.75, 0.75, 0.7483314871788025, 0.7483314871788025, 0.7483314275741577, 0.7462185621261597, 0.742781400680542, 0.7424620985984802, 0.7424620985984802, 0.7365895509719849, 0.7365894913673401, 0.7348469495773315, 0.7341303825378418, 0.7341303825378418, 0.7341303825378418, 0.7341303825378418, 0.7333332896232605, 0.7313103675842285, 0.9747545719146729, 0.9747545719146729, 0.9667962789535522, 0.9587092995643616, 0.9518172740936279, 0.9518172740936279, 0.9509798288345337, 0.9496715068817139, 0.9476781487464905, 0.9428713321685791, 0.9428471922874451, 0.9420824646949768, 0.9416363835334778, 0.9401747584342957, 0.9364182949066162, 0.9346851110458374, 0.9341987371444702, 0.9337221384048462, 0.9328736066818237, 0.9322980046272278, 0.9320953488349915, 0.9318181872367859, 0.9318181276321411, 0.9318180680274963, 0.9312904477119446, 0.9307578802108765, 0.9307577610015869, 0.9304842948913574, 0.9304841756820679, 0.9303739070892334, 0.9303739070892334, 0.9296600818634033, 0.9296600818634033, 0.9296600818634033, 0.929659903049469, 0.928840696811676, 0.928840696811676, 0.928032398223877, 0.927730917930603, 0.9266964793205261, 0.9266964793205261, 0.9266964197158813, 0.926070511341095, 0.9255914092063904, 0.9238227009773254, 0.9238226413726807, 0.9238226413726807, 0.9231862425804138, 0.9231861233711243, 0.9231861233711243, 0.9226115345954895, 0.8351914286613464, 0.8277380466461182, 0.8275158405303955, 0.8189231157302856, 0.8188811540603638, 0.8162789344787598, 0.8160261511802673, 0.8153742551803589, 0.811679482460022, 0.810092568397522, 0.8085428476333618, 0.8085428476333618, 0.808121919631958, 0.807645320892334, 0.8071416616439819, 0.8067792654037476, 0.8045383095741272, 0.8036971688270569, 0.8028966188430786, 0.8028966188430786, 0.8017838001251221, 0.8017838001251221, 0.8017837405204773, 0.8017837405204773, 0.8017836809158325, 0.8017836809158325, 0.8017836809158325, 0.8001322150230408, 0.800132155418396, 0.798595666885376, 0.7977240085601807, 0.7977240085601807, 0.7977240085601807, 0.7977240085601807, 0.7970812320709229, 0.7970811128616333, 0.7968190908432007, 0.7968189716339111, 0.795592188835144, 0.7940667271614075, 0.7940667271614075, 0.7940667271614075, 0.7937253713607788, 0.7937253713607788, 0.7935754656791687, 0.7935754656791687, 0.791888415813446, 0.7909114360809326, 0.7908746004104614, 0.7905693054199219, 0.7899529933929443, 0.8744151592254639, 0.8649205565452576, 0.8640986680984497, 0.8581366539001465, 0.8556888103485107, 0.8556888103485107, 0.8521977066993713, 0.8521977066993713, 0.8521977066993713, 0.8475794792175293, 0.8475793600082397, 0.8467804193496704, 0.8467804193496704, 0.8451542854309082, 0.8451542258262634, 0.8451542258262634, 0.8447368741035461, 0.8447368741035461, 0.8447368144989014, 0.8432741165161133, 0.8432741165161133, 0.8432741165161133, 0.8432741165161133, 0.8432741165161133, 0.8432741165161133, 0.8432741165161133, 0.8432741165161133, 0.8432741165161133, 0.8432741165161133, 0.8432741165161133, 0.8432741165161133, 0.8432741165161133, 0.8432741165161133, 0.8432741165161133, 0.8432741165161133, 0.8432741165161133, 0.8432741165161133, 0.8432741165161133, 0.8432741165161133, 0.8432740569114685, 0.8424397110939026, 0.8413341045379639, 0.8413341045379639, 0.8392542004585266, 0.8378849029541016, 0.8377078771591187, 0.8371577858924866, 0.8366602063179016, 0.8366602063179016, 0.8344919085502625, 0.8326663374900818, 1.0, 1.0, 0.9354144334793091, 0.9354144334793091, 0.9354144334793091, 0.9354144334793091, 0.9354144334793091, 0.9354144334793091, 0.9354144334793091, 0.9354144334793091, 0.9354144334793091, 0.9354144334793091, 0.9354144334793091, 0.9354144334793091, 0.9354144334793091, 0.9354144334793091, 0.9354144334793091, 0.9354144334793091, 0.9354144334793091, 0.9354143142700195, 0.933138906955719, 0.9258201122283936, 0.9258201122283936, 0.9258201122283936, 0.9197089672088623, 0.9074852466583252, 0.9074852466583252, 0.9074851870536804, 0.896421492099762, 0.8894991874694824, 0.8894991874694824, 0.8728715777397156, 0.8728715777397156, 0.8685990571975708, 0.867110013961792, 0.866025447845459, 0.8571428656578064, 0.8571428060531616, 0.8571428060531616, 0.8571428060531616, 0.8571428060531616, 0.8571428060531616, 0.8571428060531616, 0.8552359938621521, 0.8552359342575073, 0.8451542854309082, 0.8451542854309082, 0.8451542854309082, 0.8366599678993225, 0.8189229965209961, 0.8160262107849121, 0.8351914286613464, 0.8277380466461182, 0.8275158405303955, 0.8189231157302856, 0.8188811540603638, 0.8162789344787598, 0.8160261511802673, 0.8153742551803589, 0.811679482460022, 0.810092568397522, 0.8085428476333618, 0.8085428476333618, 0.808121919631958, 0.807645320892334, 0.8071416616439819, 0.8067792654037476, 0.8045383095741272, 0.8036971688270569, 0.8028966188430786, 0.8028966188430786, 0.8017838001251221, 0.8017838001251221, 0.8017837405204773, 0.8017837405204773, 0.8017836809158325, 0.8017836809158325, 0.8017836809158325, 0.8001322150230408, 0.800132155418396, 0.798595666885376, 0.7977240085601807, 0.7977240085601807, 0.7977240085601807, 0.7977240085601807, 0.7970812320709229, 0.7970811128616333, 0.7968190908432007, 0.7968189716339111, 0.795592188835144, 0.7940667271614075, 0.7940667271614075, 0.7940667271614075, 0.7937253713607788, 0.7937253713607788, 0.7935754656791687, 0.7935754656791687, 0.791888415813446, 0.7909114360809326, 0.7908746004104614, 0.7905693054199219, 0.7899529933929443], \"xaxis\": \"x\", \"yaxis\": \"y\"}],\n",
              "                        {\"barmode\": \"relative\", \"legend\": {\"tracegroupgap\": 0}, \"template\": {\"data\": {\"bar\": [{\"error_x\": {\"color\": \"#2a3f5f\"}, \"error_y\": {\"color\": \"#2a3f5f\"}, \"marker\": {\"line\": {\"color\": \"#E5ECF6\", \"width\": 0.5}}, \"type\": \"bar\"}], \"barpolar\": [{\"marker\": {\"line\": {\"color\": \"#E5ECF6\", \"width\": 0.5}}, \"type\": \"barpolar\"}], \"carpet\": [{\"aaxis\": {\"endlinecolor\": \"#2a3f5f\", \"gridcolor\": \"white\", \"linecolor\": \"white\", \"minorgridcolor\": \"white\", \"startlinecolor\": \"#2a3f5f\"}, \"baxis\": {\"endlinecolor\": \"#2a3f5f\", \"gridcolor\": \"white\", \"linecolor\": \"white\", \"minorgridcolor\": \"white\", \"startlinecolor\": \"#2a3f5f\"}, \"type\": \"carpet\"}], \"choropleth\": [{\"colorbar\": {\"outlinewidth\": 0, \"ticks\": \"\"}, \"type\": \"choropleth\"}], \"contour\": [{\"colorbar\": {\"outlinewidth\": 0, \"ticks\": \"\"}, \"colorscale\": [[0.0, \"#0d0887\"], [0.1111111111111111, \"#46039f\"], [0.2222222222222222, \"#7201a8\"], [0.3333333333333333, \"#9c179e\"], [0.4444444444444444, \"#bd3786\"], [0.5555555555555556, \"#d8576b\"], [0.6666666666666666, \"#ed7953\"], [0.7777777777777778, \"#fb9f3a\"], [0.8888888888888888, \"#fdca26\"], [1.0, \"#f0f921\"]], \"type\": \"contour\"}], \"contourcarpet\": [{\"colorbar\": {\"outlinewidth\": 0, \"ticks\": \"\"}, \"type\": \"contourcarpet\"}], \"heatmap\": [{\"colorbar\": {\"outlinewidth\": 0, \"ticks\": \"\"}, \"colorscale\": [[0.0, \"#0d0887\"], [0.1111111111111111, \"#46039f\"], [0.2222222222222222, \"#7201a8\"], [0.3333333333333333, \"#9c179e\"], [0.4444444444444444, \"#bd3786\"], [0.5555555555555556, \"#d8576b\"], [0.6666666666666666, \"#ed7953\"], [0.7777777777777778, \"#fb9f3a\"], [0.8888888888888888, \"#fdca26\"], [1.0, \"#f0f921\"]], \"type\": \"heatmap\"}], \"heatmapgl\": [{\"colorbar\": {\"outlinewidth\": 0, \"ticks\": \"\"}, \"colorscale\": [[0.0, \"#0d0887\"], [0.1111111111111111, \"#46039f\"], [0.2222222222222222, \"#7201a8\"], [0.3333333333333333, \"#9c179e\"], [0.4444444444444444, \"#bd3786\"], [0.5555555555555556, \"#d8576b\"], [0.6666666666666666, \"#ed7953\"], [0.7777777777777778, \"#fb9f3a\"], [0.8888888888888888, \"#fdca26\"], [1.0, \"#f0f921\"]], \"type\": \"heatmapgl\"}], \"histogram\": [{\"marker\": {\"colorbar\": {\"outlinewidth\": 0, \"ticks\": \"\"}}, \"type\": \"histogram\"}], \"histogram2d\": [{\"colorbar\": {\"outlinewidth\": 0, \"ticks\": \"\"}, \"colorscale\": [[0.0, \"#0d0887\"], [0.1111111111111111, \"#46039f\"], [0.2222222222222222, \"#7201a8\"], [0.3333333333333333, \"#9c179e\"], [0.4444444444444444, \"#bd3786\"], [0.5555555555555556, \"#d8576b\"], [0.6666666666666666, \"#ed7953\"], [0.7777777777777778, \"#fb9f3a\"], [0.8888888888888888, \"#fdca26\"], [1.0, \"#f0f921\"]], \"type\": \"histogram2d\"}], \"histogram2dcontour\": [{\"colorbar\": {\"outlinewidth\": 0, \"ticks\": \"\"}, \"colorscale\": [[0.0, \"#0d0887\"], [0.1111111111111111, \"#46039f\"], [0.2222222222222222, \"#7201a8\"], [0.3333333333333333, \"#9c179e\"], [0.4444444444444444, \"#bd3786\"], [0.5555555555555556, \"#d8576b\"], [0.6666666666666666, \"#ed7953\"], [0.7777777777777778, \"#fb9f3a\"], [0.8888888888888888, \"#fdca26\"], [1.0, \"#f0f921\"]], \"type\": \"histogram2dcontour\"}], \"mesh3d\": [{\"colorbar\": {\"outlinewidth\": 0, \"ticks\": \"\"}, \"type\": \"mesh3d\"}], \"parcoords\": [{\"line\": {\"colorbar\": {\"outlinewidth\": 0, \"ticks\": \"\"}}, \"type\": \"parcoords\"}], \"pie\": [{\"automargin\": true, \"type\": \"pie\"}], \"scatter\": [{\"marker\": {\"colorbar\": {\"outlinewidth\": 0, \"ticks\": \"\"}}, \"type\": \"scatter\"}], \"scatter3d\": [{\"line\": {\"colorbar\": {\"outlinewidth\": 0, \"ticks\": \"\"}}, \"marker\": {\"colorbar\": {\"outlinewidth\": 0, \"ticks\": \"\"}}, \"type\": \"scatter3d\"}], \"scattercarpet\": [{\"marker\": {\"colorbar\": {\"outlinewidth\": 0, \"ticks\": \"\"}}, \"type\": \"scattercarpet\"}], \"scattergeo\": [{\"marker\": {\"colorbar\": {\"outlinewidth\": 0, \"ticks\": \"\"}}, \"type\": \"scattergeo\"}], \"scattergl\": [{\"marker\": {\"colorbar\": {\"outlinewidth\": 0, \"ticks\": \"\"}}, \"type\": \"scattergl\"}], \"scattermapbox\": [{\"marker\": {\"colorbar\": {\"outlinewidth\": 0, \"ticks\": \"\"}}, \"type\": \"scattermapbox\"}], \"scatterpolar\": [{\"marker\": {\"colorbar\": {\"outlinewidth\": 0, \"ticks\": \"\"}}, \"type\": \"scatterpolar\"}], \"scatterpolargl\": [{\"marker\": {\"colorbar\": {\"outlinewidth\": 0, \"ticks\": \"\"}}, \"type\": \"scatterpolargl\"}], \"scatterternary\": [{\"marker\": {\"colorbar\": {\"outlinewidth\": 0, \"ticks\": \"\"}}, \"type\": \"scatterternary\"}], \"surface\": [{\"colorbar\": {\"outlinewidth\": 0, \"ticks\": \"\"}, \"colorscale\": [[0.0, \"#0d0887\"], [0.1111111111111111, \"#46039f\"], [0.2222222222222222, \"#7201a8\"], [0.3333333333333333, \"#9c179e\"], [0.4444444444444444, \"#bd3786\"], [0.5555555555555556, \"#d8576b\"], [0.6666666666666666, \"#ed7953\"], [0.7777777777777778, \"#fb9f3a\"], [0.8888888888888888, \"#fdca26\"], [1.0, \"#f0f921\"]], \"type\": \"surface\"}], \"table\": [{\"cells\": {\"fill\": {\"color\": \"#EBF0F8\"}, \"line\": {\"color\": \"white\"}}, \"header\": {\"fill\": {\"color\": \"#C8D4E3\"}, \"line\": {\"color\": \"white\"}}, \"type\": \"table\"}]}, \"layout\": {\"annotationdefaults\": {\"arrowcolor\": \"#2a3f5f\", \"arrowhead\": 0, \"arrowwidth\": 1}, \"coloraxis\": {\"colorbar\": {\"outlinewidth\": 0, \"ticks\": \"\"}}, \"colorscale\": {\"diverging\": [[0, \"#8e0152\"], [0.1, \"#c51b7d\"], [0.2, \"#de77ae\"], [0.3, \"#f1b6da\"], [0.4, \"#fde0ef\"], [0.5, \"#f7f7f7\"], [0.6, \"#e6f5d0\"], [0.7, \"#b8e186\"], [0.8, \"#7fbc41\"], [0.9, \"#4d9221\"], [1, \"#276419\"]], \"sequential\": [[0.0, \"#0d0887\"], [0.1111111111111111, \"#46039f\"], [0.2222222222222222, \"#7201a8\"], [0.3333333333333333, \"#9c179e\"], [0.4444444444444444, \"#bd3786\"], [0.5555555555555556, \"#d8576b\"], [0.6666666666666666, \"#ed7953\"], [0.7777777777777778, \"#fb9f3a\"], [0.8888888888888888, \"#fdca26\"], [1.0, \"#f0f921\"]], \"sequentialminus\": [[0.0, \"#0d0887\"], [0.1111111111111111, \"#46039f\"], [0.2222222222222222, \"#7201a8\"], [0.3333333333333333, \"#9c179e\"], [0.4444444444444444, \"#bd3786\"], [0.5555555555555556, \"#d8576b\"], [0.6666666666666666, \"#ed7953\"], [0.7777777777777778, \"#fb9f3a\"], [0.8888888888888888, \"#fdca26\"], [1.0, \"#f0f921\"]]}, \"colorway\": [\"#636efa\", \"#EF553B\", \"#00cc96\", \"#ab63fa\", \"#FFA15A\", \"#19d3f3\", \"#FF6692\", \"#B6E880\", \"#FF97FF\", \"#FECB52\"], \"font\": {\"color\": \"#2a3f5f\"}, \"geo\": {\"bgcolor\": \"white\", \"lakecolor\": \"white\", \"landcolor\": \"#E5ECF6\", \"showlakes\": true, \"showland\": true, \"subunitcolor\": \"white\"}, \"hoverlabel\": {\"align\": \"left\"}, \"hovermode\": \"closest\", \"mapbox\": {\"style\": \"light\"}, \"paper_bgcolor\": \"white\", \"plot_bgcolor\": \"#E5ECF6\", \"polar\": {\"angularaxis\": {\"gridcolor\": \"white\", \"linecolor\": \"white\", \"ticks\": \"\"}, \"bgcolor\": \"#E5ECF6\", \"radialaxis\": {\"gridcolor\": \"white\", \"linecolor\": \"white\", \"ticks\": \"\"}}, \"scene\": {\"xaxis\": {\"backgroundcolor\": \"#E5ECF6\", \"gridcolor\": \"white\", \"gridwidth\": 2, \"linecolor\": \"white\", \"showbackground\": true, \"ticks\": \"\", \"zerolinecolor\": \"white\"}, \"yaxis\": {\"backgroundcolor\": \"#E5ECF6\", \"gridcolor\": \"white\", \"gridwidth\": 2, \"linecolor\": \"white\", \"showbackground\": true, \"ticks\": \"\", \"zerolinecolor\": \"white\"}, \"zaxis\": {\"backgroundcolor\": \"#E5ECF6\", \"gridcolor\": \"white\", \"gridwidth\": 2, \"linecolor\": \"white\", \"showbackground\": true, \"ticks\": \"\", \"zerolinecolor\": \"white\"}}, \"shapedefaults\": {\"line\": {\"color\": \"#2a3f5f\"}}, \"ternary\": {\"aaxis\": {\"gridcolor\": \"white\", \"linecolor\": \"white\", \"ticks\": \"\"}, \"baxis\": {\"gridcolor\": \"white\", \"linecolor\": \"white\", \"ticks\": \"\"}, \"bgcolor\": \"#E5ECF6\", \"caxis\": {\"gridcolor\": \"white\", \"linecolor\": \"white\", \"ticks\": \"\"}}, \"title\": {\"x\": 0.05}, \"xaxis\": {\"automargin\": true, \"gridcolor\": \"white\", \"linecolor\": \"white\", \"ticks\": \"\", \"title\": {\"standoff\": 15}, \"zerolinecolor\": \"white\", \"zerolinewidth\": 2}, \"yaxis\": {\"automargin\": true, \"gridcolor\": \"white\", \"linecolor\": \"white\", \"ticks\": \"\", \"title\": {\"standoff\": 15}, \"zerolinecolor\": \"white\", \"zerolinewidth\": 2}}}, \"title\": {\"text\": \"LSI Scores\"}, \"xaxis\": {\"anchor\": \"y\", \"domain\": [0.0, 1.0], \"title\": {\"text\": \"score\"}}, \"yaxis\": {\"anchor\": \"x\", \"domain\": [0.0, 1.0], \"title\": {\"text\": \"count\"}}},\n",
              "                        {\"responsive\": true}\n",
              "                    ).then(function(){\n",
              "                            \n",
              "var gd = document.getElementById('277c3594-407f-4100-91d7-fb8e213bc1c6');\n",
              "var x = new MutationObserver(function (mutations, observer) {{\n",
              "        var display = window.getComputedStyle(gd).display;\n",
              "        if (!display || display === 'none') {{\n",
              "            console.log([gd, 'removed!']);\n",
              "            Plotly.purge(gd);\n",
              "            observer.disconnect();\n",
              "        }}\n",
              "}});\n",
              "\n",
              "// Listen for the removal of the full notebook cells\n",
              "var notebookContainer = gd.closest('#notebook-container');\n",
              "if (notebookContainer) {{\n",
              "    x.observe(notebookContainer, {childList: true});\n",
              "}}\n",
              "\n",
              "// Listen for the clearing of the current output cell\n",
              "var outputEl = gd.closest('.output');\n",
              "if (outputEl) {{\n",
              "    x.observe(outputEl, {childList: true});\n",
              "}}\n",
              "\n",
              "                        })\n",
              "                };\n",
              "                \n",
              "            </script>\n",
              "        </div>\n",
              "</body>\n",
              "</html>"
            ]
          },
          "metadata": {}
        }
      ]
    },
    {
      "cell_type": "code",
      "metadata": {
        "colab": {
          "base_uri": "https://localhost:8080/"
        },
        "id": "1dfSZoYYkmLI",
        "outputId": "6eb4c6fe-c588-43a5-a0e6-6465cbd5fa11"
      },
      "source": [
        "title_to_titleid['Take The A Train [jazz1350]']"
      ],
      "execution_count": 80,
      "outputs": [
        {
          "output_type": "execute_result",
          "data": {
            "text/plain": [
              "1140"
            ]
          },
          "metadata": {},
          "execution_count": 80
        }
      ]
    },
    {
      "cell_type": "code",
      "metadata": {
        "colab": {
          "base_uri": "https://localhost:8080/"
        },
        "id": "oOxh5Po3XwbQ",
        "outputId": "86cee6f0-c687-4814-a8c1-fd2014920676"
      },
      "source": [
        "title_to_sectionid['Take The A Train [jazz1350]']"
      ],
      "execution_count": 81,
      "outputs": [
        {
          "output_type": "execute_result",
          "data": {
            "text/plain": [
              "[3817, 3818, 3819, 3820]"
            ]
          },
          "metadata": {},
          "execution_count": 81
        }
      ]
    },
    {
      "cell_type": "code",
      "metadata": {
        "colab": {
          "base_uri": "https://localhost:8080/",
          "height": 36
        },
        "id": "GszJ90u1X1-P",
        "outputId": "d14a1594-c598-4dc7-d112-24fad2b3817f"
      },
      "source": [
        "sectionid_to_section[3764]"
      ],
      "execution_count": 82,
      "outputs": [
        {
          "output_type": "execute_result",
          "data": {
            "application/vnd.google.colaboratory.intrinsic+json": {
              "type": "string"
            },
            "text/plain": [
              "'Sun down, section1 (intro)'"
            ]
          },
          "metadata": {},
          "execution_count": 82
        }
      ]
    },
    {
      "cell_type": "code",
      "metadata": {
        "colab": {
          "base_uri": "https://localhost:8080/",
          "height": 36
        },
        "id": "withD8eraVjN",
        "outputId": "807f3252-7ab6-4f74-9d41-93d7d8979827"
      },
      "source": [
        "sectionid_to_sectionlabel[3764]"
      ],
      "execution_count": 83,
      "outputs": [
        {
          "output_type": "execute_result",
          "data": {
            "application/vnd.google.colaboratory.intrinsic+json": {
              "type": "string"
            },
            "text/plain": [
              "'intro'"
            ]
          },
          "metadata": {},
          "execution_count": 83
        }
      ]
    },
    {
      "cell_type": "code",
      "metadata": {
        "colab": {
          "base_uri": "https://localhost:8080/",
          "height": 1000
        },
        "id": "Nv0zz_L9eR4p",
        "outputId": "d96ae458-b0e0-4178-d984-dd2a78f8a7f7"
      },
      "source": [
        "foolish = (df_sim[df_sim['reference_titleid'] == 1140]\n",
        "           .reset_index()\n",
        "           .drop(columns=['reference_titleid',\n",
        "                          'ref_section', \n",
        "                          'ref_sectionid',\n",
        "                          'similar_titleid', \n",
        "                          'similar_section',\n",
        "                          'similar_sectionid', \n",
        "                          'index'])\n",
        "           .groupby(['reference_title', 'similar_title', 'ref_section_label', 'similar_section_label'])\n",
        "           .max('score')\n",
        "           .sort_values('score', ascending=False)\n",
        "           .reset_index()\n",
        ")\n",
        "\n",
        "foolish"
      ],
      "execution_count": 84,
      "outputs": [
        {
          "output_type": "execute_result",
          "data": {
            "text/html": [
              "<div>\n",
              "<style scoped>\n",
              "    .dataframe tbody tr th:only-of-type {\n",
              "        vertical-align: middle;\n",
              "    }\n",
              "\n",
              "    .dataframe tbody tr th {\n",
              "        vertical-align: top;\n",
              "    }\n",
              "\n",
              "    .dataframe thead th {\n",
              "        text-align: right;\n",
              "    }\n",
              "</style>\n",
              "<table border=\"1\" class=\"dataframe\">\n",
              "  <thead>\n",
              "    <tr style=\"text-align: right;\">\n",
              "      <th></th>\n",
              "      <th>reference_title</th>\n",
              "      <th>similar_title</th>\n",
              "      <th>ref_section_label</th>\n",
              "      <th>similar_section_label</th>\n",
              "      <th>score</th>\n",
              "    </tr>\n",
              "  </thead>\n",
              "  <tbody>\n",
              "    <tr>\n",
              "      <th>0</th>\n",
              "      <td>Take The A Train [jazz1350]</td>\n",
              "      <td>Crazy Rhythm [jazz1350]</td>\n",
              "      <td>A</td>\n",
              "      <td>A</td>\n",
              "      <td>0.977008</td>\n",
              "    </tr>\n",
              "    <tr>\n",
              "      <th>1</th>\n",
              "      <td>Take The A Train [jazz1350]</td>\n",
              "      <td>Moten Swing [jazz1350]</td>\n",
              "      <td>A</td>\n",
              "      <td>A</td>\n",
              "      <td>0.977008</td>\n",
              "    </tr>\n",
              "    <tr>\n",
              "      <th>2</th>\n",
              "      <td>Take The A Train [jazz1350]</td>\n",
              "      <td>Jersey Bounce [jazz1350]</td>\n",
              "      <td>A</td>\n",
              "      <td>A</td>\n",
              "      <td>0.977008</td>\n",
              "    </tr>\n",
              "    <tr>\n",
              "      <th>3</th>\n",
              "      <td>Take The A Train [jazz1350]</td>\n",
              "      <td>Lady's In Love With You, The [jazz1350]</td>\n",
              "      <td>A</td>\n",
              "      <td>A</td>\n",
              "      <td>0.960159</td>\n",
              "    </tr>\n",
              "    <tr>\n",
              "      <th>4</th>\n",
              "      <td>Take The A Train [jazz1350]</td>\n",
              "      <td>Alexander's Ragtime Band [jazz1350]</td>\n",
              "      <td>A</td>\n",
              "      <td>B</td>\n",
              "      <td>0.960159</td>\n",
              "    </tr>\n",
              "    <tr>\n",
              "      <th>5</th>\n",
              "      <td>Take The A Train [jazz1350]</td>\n",
              "      <td>Exactly Like You [jazz1350]</td>\n",
              "      <td>A</td>\n",
              "      <td>A</td>\n",
              "      <td>0.955533</td>\n",
              "    </tr>\n",
              "    <tr>\n",
              "      <th>6</th>\n",
              "      <td>Take The A Train [jazz1350]</td>\n",
              "      <td>One I Love (Belongs To Somebody Else), The [ja...</td>\n",
              "      <td>A</td>\n",
              "      <td>A</td>\n",
              "      <td>0.948504</td>\n",
              "    </tr>\n",
              "    <tr>\n",
              "      <th>7</th>\n",
              "      <td>Take The A Train [jazz1350]</td>\n",
              "      <td>People Will Say We're In Love [jazz1350]</td>\n",
              "      <td>A</td>\n",
              "      <td>A</td>\n",
              "      <td>0.943090</td>\n",
              "    </tr>\n",
              "    <tr>\n",
              "      <th>8</th>\n",
              "      <td>Take The A Train [jazz1350]</td>\n",
              "      <td>For You, For Me, For Evermore [jazz1350]</td>\n",
              "      <td>A</td>\n",
              "      <td>B</td>\n",
              "      <td>0.939827</td>\n",
              "    </tr>\n",
              "    <tr>\n",
              "      <th>9</th>\n",
              "      <td>Take The A Train [jazz1350]</td>\n",
              "      <td>You Made Me Love You [jazz1350]</td>\n",
              "      <td>A</td>\n",
              "      <td>A</td>\n",
              "      <td>0.938916</td>\n",
              "    </tr>\n",
              "    <tr>\n",
              "      <th>10</th>\n",
              "      <td>Take The A Train [jazz1350]</td>\n",
              "      <td>Roll Along Prarie Moon [trad]</td>\n",
              "      <td>A</td>\n",
              "      <td>B</td>\n",
              "      <td>0.938103</td>\n",
              "    </tr>\n",
              "    <tr>\n",
              "      <th>11</th>\n",
              "      <td>Take The A Train [jazz1350]</td>\n",
              "      <td>Peg O' My Heart [trad]</td>\n",
              "      <td>A</td>\n",
              "      <td>A</td>\n",
              "      <td>0.935414</td>\n",
              "    </tr>\n",
              "    <tr>\n",
              "      <th>12</th>\n",
              "      <td>Take The A Train [jazz1350]</td>\n",
              "      <td>Darktown Strutters' Ball [trad]</td>\n",
              "      <td>A</td>\n",
              "      <td>A</td>\n",
              "      <td>0.935414</td>\n",
              "    </tr>\n",
              "    <tr>\n",
              "      <th>13</th>\n",
              "      <td>Take The A Train [jazz1350]</td>\n",
              "      <td>All Through The Day [jazz1350]</td>\n",
              "      <td>A</td>\n",
              "      <td>A</td>\n",
              "      <td>0.932007</td>\n",
              "    </tr>\n",
              "    <tr>\n",
              "      <th>14</th>\n",
              "      <td>Take The A Train [jazz1350]</td>\n",
              "      <td>Are You Lonesome Tonight [trad]</td>\n",
              "      <td>A</td>\n",
              "      <td>D</td>\n",
              "      <td>0.927426</td>\n",
              "    </tr>\n",
              "    <tr>\n",
              "      <th>15</th>\n",
              "      <td>Take The A Train [jazz1350]</td>\n",
              "      <td>Só Danço Samba [jazz1350]</td>\n",
              "      <td>A</td>\n",
              "      <td>A</td>\n",
              "      <td>0.927426</td>\n",
              "    </tr>\n",
              "    <tr>\n",
              "      <th>16</th>\n",
              "      <td>Take The A Train [jazz1350]</td>\n",
              "      <td>And The Angels Sing [jazz1350]</td>\n",
              "      <td>A</td>\n",
              "      <td>A</td>\n",
              "      <td>0.925820</td>\n",
              "    </tr>\n",
              "    <tr>\n",
              "      <th>17</th>\n",
              "      <td>Take The A Train [jazz1350]</td>\n",
              "      <td>Mood Indigo [jazz1350]</td>\n",
              "      <td>A</td>\n",
              "      <td>A</td>\n",
              "      <td>0.924062</td>\n",
              "    </tr>\n",
              "    <tr>\n",
              "      <th>18</th>\n",
              "      <td>Take The A Train [jazz1350]</td>\n",
              "      <td>Don't Bring Lulu [trad]</td>\n",
              "      <td>A</td>\n",
              "      <td>C</td>\n",
              "      <td>0.923913</td>\n",
              "    </tr>\n",
              "    <tr>\n",
              "      <th>19</th>\n",
              "      <td>Take The A Train [jazz1350]</td>\n",
              "      <td>Same Old Love, The [trad]</td>\n",
              "      <td>A</td>\n",
              "      <td>A</td>\n",
              "      <td>0.921132</td>\n",
              "    </tr>\n",
              "    <tr>\n",
              "      <th>20</th>\n",
              "      <td>Take The A Train [jazz1350]</td>\n",
              "      <td>One I Love Belongs To Somebody Else, The [trad]</td>\n",
              "      <td>A</td>\n",
              "      <td>A</td>\n",
              "      <td>0.918559</td>\n",
              "    </tr>\n",
              "    <tr>\n",
              "      <th>21</th>\n",
              "      <td>Take The A Train [jazz1350]</td>\n",
              "      <td>A Wonderful Day Like Today [jazz1350]</td>\n",
              "      <td>A</td>\n",
              "      <td>A</td>\n",
              "      <td>0.916909</td>\n",
              "    </tr>\n",
              "    <tr>\n",
              "      <th>22</th>\n",
              "      <td>Take The A Train [jazz1350]</td>\n",
              "      <td>Falling In Love With Love [jazz1350]</td>\n",
              "      <td>A</td>\n",
              "      <td>A</td>\n",
              "      <td>0.916909</td>\n",
              "    </tr>\n",
              "    <tr>\n",
              "      <th>23</th>\n",
              "      <td>Take The A Train [jazz1350]</td>\n",
              "      <td>Gypsy, The [trad]</td>\n",
              "      <td>A</td>\n",
              "      <td>A</td>\n",
              "      <td>0.916515</td>\n",
              "    </tr>\n",
              "    <tr>\n",
              "      <th>24</th>\n",
              "      <td>Take The A Train [jazz1350]</td>\n",
              "      <td>Don't Sit Under The Apple Tree [trad]</td>\n",
              "      <td>A</td>\n",
              "      <td>A</td>\n",
              "      <td>0.915303</td>\n",
              "    </tr>\n",
              "    <tr>\n",
              "      <th>25</th>\n",
              "      <td>Take The A Train [jazz1350]</td>\n",
              "      <td>Don't Sweetheart Me [trad]</td>\n",
              "      <td>A</td>\n",
              "      <td>A</td>\n",
              "      <td>0.914659</td>\n",
              "    </tr>\n",
              "    <tr>\n",
              "      <th>26</th>\n",
              "      <td>Take The A Train [jazz1350]</td>\n",
              "      <td>I Can't Escape From You (San Jacinto Stomp) [t...</td>\n",
              "      <td>A</td>\n",
              "      <td>A</td>\n",
              "      <td>0.914659</td>\n",
              "    </tr>\n",
              "    <tr>\n",
              "      <th>27</th>\n",
              "      <td>Take The A Train [jazz1350]</td>\n",
              "      <td>Memories [trad]</td>\n",
              "      <td>A</td>\n",
              "      <td>A</td>\n",
              "      <td>0.914659</td>\n",
              "    </tr>\n",
              "    <tr>\n",
              "      <th>28</th>\n",
              "      <td>Take The A Train [jazz1350]</td>\n",
              "      <td>Abe My Boy [trad]</td>\n",
              "      <td>A</td>\n",
              "      <td>A</td>\n",
              "      <td>0.914659</td>\n",
              "    </tr>\n",
              "    <tr>\n",
              "      <th>29</th>\n",
              "      <td>Take The A Train [jazz1350]</td>\n",
              "      <td>True (You Don't Love Me ) [trad]</td>\n",
              "      <td>A</td>\n",
              "      <td>A</td>\n",
              "      <td>0.914659</td>\n",
              "    </tr>\n",
              "    <tr>\n",
              "      <th>30</th>\n",
              "      <td>Take The A Train [jazz1350]</td>\n",
              "      <td>Sleepy Time Gal [trad]</td>\n",
              "      <td>A</td>\n",
              "      <td>C</td>\n",
              "      <td>0.914659</td>\n",
              "    </tr>\n",
              "    <tr>\n",
              "      <th>31</th>\n",
              "      <td>Take The A Train [jazz1350]</td>\n",
              "      <td>When Day Is Done [trad]</td>\n",
              "      <td>A</td>\n",
              "      <td>A</td>\n",
              "      <td>0.914552</td>\n",
              "    </tr>\n",
              "    <tr>\n",
              "      <th>32</th>\n",
              "      <td>Take The A Train [jazz1350]</td>\n",
              "      <td>Groovin' High [jazz1350]</td>\n",
              "      <td>A</td>\n",
              "      <td>A</td>\n",
              "      <td>0.913414</td>\n",
              "    </tr>\n",
              "    <tr>\n",
              "      <th>33</th>\n",
              "      <td>Take The A Train [jazz1350]</td>\n",
              "      <td>Ask Me Now [jazz1350]</td>\n",
              "      <td>A</td>\n",
              "      <td>B</td>\n",
              "      <td>0.910032</td>\n",
              "    </tr>\n",
              "    <tr>\n",
              "      <th>34</th>\n",
              "      <td>Take The A Train [jazz1350]</td>\n",
              "      <td>Bark For Barksdale [jazz1350]</td>\n",
              "      <td>A</td>\n",
              "      <td>A</td>\n",
              "      <td>0.910031</td>\n",
              "    </tr>\n",
              "    <tr>\n",
              "      <th>35</th>\n",
              "      <td>Take The A Train [jazz1350]</td>\n",
              "      <td>If There Is Someone Lovelier [jazz1350]</td>\n",
              "      <td>A</td>\n",
              "      <td>A</td>\n",
              "      <td>0.909106</td>\n",
              "    </tr>\n",
              "    <tr>\n",
              "      <th>36</th>\n",
              "      <td>Take The A Train [jazz1350]</td>\n",
              "      <td>All That I Ask Is Love [trad]</td>\n",
              "      <td>A</td>\n",
              "      <td>C</td>\n",
              "      <td>0.907485</td>\n",
              "    </tr>\n",
              "    <tr>\n",
              "      <th>37</th>\n",
              "      <td>Take The A Train [jazz1350]</td>\n",
              "      <td>After You've Gone [jazz1350]</td>\n",
              "      <td>A</td>\n",
              "      <td>B</td>\n",
              "      <td>0.907485</td>\n",
              "    </tr>\n",
              "    <tr>\n",
              "      <th>38</th>\n",
              "      <td>Take The A Train [jazz1350]</td>\n",
              "      <td>Ugly Child [trad]</td>\n",
              "      <td>A</td>\n",
              "      <td>A</td>\n",
              "      <td>0.907265</td>\n",
              "    </tr>\n",
              "    <tr>\n",
              "      <th>39</th>\n",
              "      <td>Take The A Train [jazz1350]</td>\n",
              "      <td>Ja-Da [trad]</td>\n",
              "      <td>A</td>\n",
              "      <td>A</td>\n",
              "      <td>0.907265</td>\n",
              "    </tr>\n",
              "    <tr>\n",
              "      <th>40</th>\n",
              "      <td>Take The A Train [jazz1350]</td>\n",
              "      <td>You're Driving Me Crazy [trad]</td>\n",
              "      <td>A</td>\n",
              "      <td>A</td>\n",
              "      <td>0.907265</td>\n",
              "    </tr>\n",
              "    <tr>\n",
              "      <th>41</th>\n",
              "      <td>Take The A Train [jazz1350]</td>\n",
              "      <td>Desafinado [jazz1350]</td>\n",
              "      <td>A</td>\n",
              "      <td>A</td>\n",
              "      <td>0.906425</td>\n",
              "    </tr>\n",
              "    <tr>\n",
              "      <th>42</th>\n",
              "      <td>Take The A Train [jazz1350]</td>\n",
              "      <td>I'm Gonna Sit Right Down and Write Myself A Le...</td>\n",
              "      <td>A</td>\n",
              "      <td>A</td>\n",
              "      <td>0.906425</td>\n",
              "    </tr>\n",
              "    <tr>\n",
              "      <th>43</th>\n",
              "      <td>Take The A Train [jazz1350]</td>\n",
              "      <td>I'm Crazy 'Bout My Baby [trad]</td>\n",
              "      <td>A</td>\n",
              "      <td>A</td>\n",
              "      <td>0.901498</td>\n",
              "    </tr>\n",
              "    <tr>\n",
              "      <th>44</th>\n",
              "      <td>Take The A Train [jazz1350]</td>\n",
              "      <td>In A Shanty In Old Shanty Town [jazz1350]</td>\n",
              "      <td>A</td>\n",
              "      <td>B</td>\n",
              "      <td>0.901127</td>\n",
              "    </tr>\n",
              "    <tr>\n",
              "      <th>45</th>\n",
              "      <td>Take The A Train [jazz1350]</td>\n",
              "      <td>Roses Of Picardy [trad]</td>\n",
              "      <td>A</td>\n",
              "      <td>B</td>\n",
              "      <td>0.900885</td>\n",
              "    </tr>\n",
              "    <tr>\n",
              "      <th>46</th>\n",
              "      <td>Take The A Train [jazz1350]</td>\n",
              "      <td>Dearly Beloved [jazz1350]</td>\n",
              "      <td>A</td>\n",
              "      <td>C</td>\n",
              "      <td>0.899735</td>\n",
              "    </tr>\n",
              "    <tr>\n",
              "      <th>47</th>\n",
              "      <td>Take The A Train [jazz1350]</td>\n",
              "      <td>On Treasure Island [trad]</td>\n",
              "      <td>A</td>\n",
              "      <td>A</td>\n",
              "      <td>0.891133</td>\n",
              "    </tr>\n",
              "    <tr>\n",
              "      <th>48</th>\n",
              "      <td>Take The A Train [jazz1350]</td>\n",
              "      <td>My Honey's Loving Arms [trad]</td>\n",
              "      <td>A</td>\n",
              "      <td>C</td>\n",
              "      <td>0.885615</td>\n",
              "    </tr>\n",
              "    <tr>\n",
              "      <th>49</th>\n",
              "      <td>Take The A Train [jazz1350]</td>\n",
              "      <td>Little Girl Blue [jazz1350]</td>\n",
              "      <td>A</td>\n",
              "      <td>A</td>\n",
              "      <td>0.883006</td>\n",
              "    </tr>\n",
              "    <tr>\n",
              "      <th>50</th>\n",
              "      <td>Take The A Train [jazz1350]</td>\n",
              "      <td>You Must Have Been A Beautiful Baby [trad]</td>\n",
              "      <td>A</td>\n",
              "      <td>verse</td>\n",
              "      <td>0.882994</td>\n",
              "    </tr>\n",
              "    <tr>\n",
              "      <th>51</th>\n",
              "      <td>Take The A Train [jazz1350]</td>\n",
              "      <td>Chicago Buzz [trad]</td>\n",
              "      <td>A</td>\n",
              "      <td>A</td>\n",
              "      <td>0.882353</td>\n",
              "    </tr>\n",
              "    <tr>\n",
              "      <th>52</th>\n",
              "      <td>Take The A Train [jazz1350]</td>\n",
              "      <td>I Love You So Much It Hurts [trad]</td>\n",
              "      <td>A</td>\n",
              "      <td>A</td>\n",
              "      <td>0.882046</td>\n",
              "    </tr>\n",
              "    <tr>\n",
              "      <th>53</th>\n",
              "      <td>Take The A Train [jazz1350]</td>\n",
              "      <td>On The Alamo [trad]</td>\n",
              "      <td>A</td>\n",
              "      <td>A</td>\n",
              "      <td>0.879049</td>\n",
              "    </tr>\n",
              "    <tr>\n",
              "      <th>54</th>\n",
              "      <td>Take The A Train [jazz1350]</td>\n",
              "      <td>Girl From Ipanema, The [jazz1350]</td>\n",
              "      <td>A</td>\n",
              "      <td>A</td>\n",
              "      <td>0.879049</td>\n",
              "    </tr>\n",
              "    <tr>\n",
              "      <th>55</th>\n",
              "      <td>Take The A Train [jazz1350]</td>\n",
              "      <td>I May Be Wrong (But I Think You're Wonderful) ...</td>\n",
              "      <td>A</td>\n",
              "      <td>A</td>\n",
              "      <td>0.876714</td>\n",
              "    </tr>\n",
              "    <tr>\n",
              "      <th>56</th>\n",
              "      <td>Take The A Train [jazz1350]</td>\n",
              "      <td>I've Got A Feeling I'm Falling [trad]</td>\n",
              "      <td>A</td>\n",
              "      <td>A</td>\n",
              "      <td>0.876714</td>\n",
              "    </tr>\n",
              "    <tr>\n",
              "      <th>57</th>\n",
              "      <td>Take The A Train [jazz1350]</td>\n",
              "      <td>Somebody Else Is Taking My Place [trad]</td>\n",
              "      <td>A</td>\n",
              "      <td>A</td>\n",
              "      <td>0.876714</td>\n",
              "    </tr>\n",
              "    <tr>\n",
              "      <th>58</th>\n",
              "      <td>Take The A Train [jazz1350]</td>\n",
              "      <td>I Love You So Much It Hurts [trad]</td>\n",
              "      <td>A</td>\n",
              "      <td>B</td>\n",
              "      <td>0.875517</td>\n",
              "    </tr>\n",
              "    <tr>\n",
              "      <th>59</th>\n",
              "      <td>Take The A Train [jazz1350]</td>\n",
              "      <td>Sentimental Journey [jazz1350]</td>\n",
              "      <td>A</td>\n",
              "      <td>A</td>\n",
              "      <td>0.875175</td>\n",
              "    </tr>\n",
              "    <tr>\n",
              "      <th>60</th>\n",
              "      <td>Take The A Train [jazz1350]</td>\n",
              "      <td>Ko Ko [jazz1350]</td>\n",
              "      <td>A</td>\n",
              "      <td>A</td>\n",
              "      <td>0.874475</td>\n",
              "    </tr>\n",
              "    <tr>\n",
              "      <th>61</th>\n",
              "      <td>Take The A Train [jazz1350]</td>\n",
              "      <td>Cherokee [jazz1350]</td>\n",
              "      <td>A</td>\n",
              "      <td>A</td>\n",
              "      <td>0.874475</td>\n",
              "    </tr>\n",
              "    <tr>\n",
              "      <th>62</th>\n",
              "      <td>Take The A Train [jazz1350]</td>\n",
              "      <td>Darktown Strutters' Ball [trad]</td>\n",
              "      <td>A</td>\n",
              "      <td>B</td>\n",
              "      <td>0.873485</td>\n",
              "    </tr>\n",
              "    <tr>\n",
              "      <th>63</th>\n",
              "      <td>Take The A Train [jazz1350]</td>\n",
              "      <td>Stumbling [trad]</td>\n",
              "      <td>A</td>\n",
              "      <td>A</td>\n",
              "      <td>0.873273</td>\n",
              "    </tr>\n",
              "    <tr>\n",
              "      <th>64</th>\n",
              "      <td>Take The A Train [jazz1350]</td>\n",
              "      <td>Tricotism [jazz1350]</td>\n",
              "      <td>A</td>\n",
              "      <td>A</td>\n",
              "      <td>0.873128</td>\n",
              "    </tr>\n",
              "    <tr>\n",
              "      <th>65</th>\n",
              "      <td>Take The A Train [jazz1350]</td>\n",
              "      <td>Working Man Blues [trad]</td>\n",
              "      <td>A</td>\n",
              "      <td>B</td>\n",
              "      <td>0.873128</td>\n",
              "    </tr>\n",
              "    <tr>\n",
              "      <th>66</th>\n",
              "      <td>Take The A Train [jazz1350]</td>\n",
              "      <td>A Pretty Girl Is Like A Melody [jazz1350]</td>\n",
              "      <td>A</td>\n",
              "      <td>A</td>\n",
              "      <td>0.872402</td>\n",
              "    </tr>\n",
              "    <tr>\n",
              "      <th>67</th>\n",
              "      <td>Take The A Train [jazz1350]</td>\n",
              "      <td>You Can Depend On Me [jazz1350]</td>\n",
              "      <td>B</td>\n",
              "      <td>B</td>\n",
              "      <td>0.866025</td>\n",
              "    </tr>\n",
              "    <tr>\n",
              "      <th>68</th>\n",
              "      <td>Take The A Train [jazz1350]</td>\n",
              "      <td>Move [jazz1350]</td>\n",
              "      <td>B</td>\n",
              "      <td>B</td>\n",
              "      <td>0.866025</td>\n",
              "    </tr>\n",
              "    <tr>\n",
              "      <th>69</th>\n",
              "      <td>Take The A Train [jazz1350]</td>\n",
              "      <td>Breezin' Along With The Breeze [trad]</td>\n",
              "      <td>B</td>\n",
              "      <td>B</td>\n",
              "      <td>0.855236</td>\n",
              "    </tr>\n",
              "    <tr>\n",
              "      <th>70</th>\n",
              "      <td>Take The A Train [jazz1350]</td>\n",
              "      <td>Wow [jazz1350]</td>\n",
              "      <td>B</td>\n",
              "      <td>C</td>\n",
              "      <td>0.855236</td>\n",
              "    </tr>\n",
              "    <tr>\n",
              "      <th>71</th>\n",
              "      <td>Take The A Train [jazz1350]</td>\n",
              "      <td>Memories [trad]</td>\n",
              "      <td>B</td>\n",
              "      <td>B</td>\n",
              "      <td>0.855236</td>\n",
              "    </tr>\n",
              "    <tr>\n",
              "      <th>72</th>\n",
              "      <td>Take The A Train [jazz1350]</td>\n",
              "      <td>Indiana [trad]</td>\n",
              "      <td>B</td>\n",
              "      <td>B</td>\n",
              "      <td>0.855236</td>\n",
              "    </tr>\n",
              "    <tr>\n",
              "      <th>73</th>\n",
              "      <td>Take The A Train [jazz1350]</td>\n",
              "      <td>Abe My Boy [trad]</td>\n",
              "      <td>B</td>\n",
              "      <td>B</td>\n",
              "      <td>0.855236</td>\n",
              "    </tr>\n",
              "    <tr>\n",
              "      <th>74</th>\n",
              "      <td>Take The A Train [jazz1350]</td>\n",
              "      <td>Cheers [jazz1350]</td>\n",
              "      <td>B</td>\n",
              "      <td>B</td>\n",
              "      <td>0.855236</td>\n",
              "    </tr>\n",
              "    <tr>\n",
              "      <th>75</th>\n",
              "      <td>Take The A Train [jazz1350]</td>\n",
              "      <td>Don't Sweetheart Me [trad]</td>\n",
              "      <td>B</td>\n",
              "      <td>B</td>\n",
              "      <td>0.855236</td>\n",
              "    </tr>\n",
              "    <tr>\n",
              "      <th>76</th>\n",
              "      <td>Take The A Train [jazz1350]</td>\n",
              "      <td>Let's Cool One [jazz1350]</td>\n",
              "      <td>B</td>\n",
              "      <td>B</td>\n",
              "      <td>0.855236</td>\n",
              "    </tr>\n",
              "    <tr>\n",
              "      <th>77</th>\n",
              "      <td>Take The A Train [jazz1350]</td>\n",
              "      <td>White Cliffs Of Dover, The [trad]</td>\n",
              "      <td>B</td>\n",
              "      <td>B</td>\n",
              "      <td>0.852803</td>\n",
              "    </tr>\n",
              "    <tr>\n",
              "      <th>78</th>\n",
              "      <td>Take The A Train [jazz1350]</td>\n",
              "      <td>We'll Meet Again [trad]</td>\n",
              "      <td>B</td>\n",
              "      <td>B</td>\n",
              "      <td>0.850000</td>\n",
              "    </tr>\n",
              "    <tr>\n",
              "      <th>79</th>\n",
              "      <td>Take The A Train [jazz1350]</td>\n",
              "      <td>Lotus Eaters Bittersweet [jazz1350]</td>\n",
              "      <td>B</td>\n",
              "      <td>A</td>\n",
              "      <td>0.848528</td>\n",
              "    </tr>\n",
              "    <tr>\n",
              "      <th>80</th>\n",
              "      <td>Take The A Train [jazz1350]</td>\n",
              "      <td>A Wonderful Day Like Today [jazz1350]</td>\n",
              "      <td>B</td>\n",
              "      <td>B</td>\n",
              "      <td>0.833238</td>\n",
              "    </tr>\n",
              "    <tr>\n",
              "      <th>81</th>\n",
              "      <td>Take The A Train [jazz1350]</td>\n",
              "      <td>Under A Blanket Of Blue [jazz1350]</td>\n",
              "      <td>B</td>\n",
              "      <td>B</td>\n",
              "      <td>0.832050</td>\n",
              "    </tr>\n",
              "    <tr>\n",
              "      <th>82</th>\n",
              "      <td>Take The A Train [jazz1350]</td>\n",
              "      <td>I Can't Give You Anything But Love [jazz1350]</td>\n",
              "      <td>B</td>\n",
              "      <td>B</td>\n",
              "      <td>0.832050</td>\n",
              "    </tr>\n",
              "    <tr>\n",
              "      <th>83</th>\n",
              "      <td>Take The A Train [jazz1350]</td>\n",
              "      <td>Just Squeeze Me [jazz1350]</td>\n",
              "      <td>B</td>\n",
              "      <td>B</td>\n",
              "      <td>0.824621</td>\n",
              "    </tr>\n",
              "    <tr>\n",
              "      <th>84</th>\n",
              "      <td>Take The A Train [jazz1350]</td>\n",
              "      <td>On The Sunny Side Of The Street [jazz1350]</td>\n",
              "      <td>B</td>\n",
              "      <td>B</td>\n",
              "      <td>0.822192</td>\n",
              "    </tr>\n",
              "    <tr>\n",
              "      <th>85</th>\n",
              "      <td>Take The A Train [jazz1350]</td>\n",
              "      <td>Joker, The [jazz1350]</td>\n",
              "      <td>B</td>\n",
              "      <td>B</td>\n",
              "      <td>0.822192</td>\n",
              "    </tr>\n",
              "    <tr>\n",
              "      <th>86</th>\n",
              "      <td>Take The A Train [jazz1350]</td>\n",
              "      <td>I'm Confessin' That I Love You [jazz1350]</td>\n",
              "      <td>B</td>\n",
              "      <td>B</td>\n",
              "      <td>0.822192</td>\n",
              "    </tr>\n",
              "    <tr>\n",
              "      <th>87</th>\n",
              "      <td>Take The A Train [jazz1350]</td>\n",
              "      <td>I'm Coming Virginia [trad]</td>\n",
              "      <td>B</td>\n",
              "      <td>C</td>\n",
              "      <td>0.817059</td>\n",
              "    </tr>\n",
              "    <tr>\n",
              "      <th>88</th>\n",
              "      <td>Take The A Train [jazz1350]</td>\n",
              "      <td>Pennies From Heaven [jazz1350]</td>\n",
              "      <td>B</td>\n",
              "      <td>A</td>\n",
              "      <td>0.816497</td>\n",
              "    </tr>\n",
              "    <tr>\n",
              "      <th>89</th>\n",
              "      <td>Take The A Train [jazz1350]</td>\n",
              "      <td>Weary Bules (AKA Shake It And Break It) [trad]</td>\n",
              "      <td>B</td>\n",
              "      <td>B</td>\n",
              "      <td>0.816496</td>\n",
              "    </tr>\n",
              "    <tr>\n",
              "      <th>90</th>\n",
              "      <td>Take The A Train [jazz1350]</td>\n",
              "      <td>Palo Alto [jazz1350]</td>\n",
              "      <td>B</td>\n",
              "      <td>B</td>\n",
              "      <td>0.811107</td>\n",
              "    </tr>\n",
              "    <tr>\n",
              "      <th>91</th>\n",
              "      <td>Take The A Train [jazz1350]</td>\n",
              "      <td>Só Danço Samba [jazz1350]</td>\n",
              "      <td>B</td>\n",
              "      <td>B</td>\n",
              "      <td>0.808290</td>\n",
              "    </tr>\n",
              "    <tr>\n",
              "      <th>92</th>\n",
              "      <td>Take The A Train [jazz1350]</td>\n",
              "      <td>Easter Parade [trad]</td>\n",
              "      <td>B</td>\n",
              "      <td>B</td>\n",
              "      <td>0.804985</td>\n",
              "    </tr>\n",
              "    <tr>\n",
              "      <th>93</th>\n",
              "      <td>Take The A Train [jazz1350]</td>\n",
              "      <td>I Like The Likes Of You [jazz1350]</td>\n",
              "      <td>B</td>\n",
              "      <td>B</td>\n",
              "      <td>0.804984</td>\n",
              "    </tr>\n",
              "    <tr>\n",
              "      <th>94</th>\n",
              "      <td>Take The A Train [jazz1350]</td>\n",
              "      <td>Scotch And Soda [jazz1350]</td>\n",
              "      <td>B</td>\n",
              "      <td>B</td>\n",
              "      <td>0.804984</td>\n",
              "    </tr>\n",
              "    <tr>\n",
              "      <th>95</th>\n",
              "      <td>Take The A Train [jazz1350]</td>\n",
              "      <td>Big Butter And Egg Man [trad]</td>\n",
              "      <td>B</td>\n",
              "      <td>B</td>\n",
              "      <td>0.802377</td>\n",
              "    </tr>\n",
              "    <tr>\n",
              "      <th>96</th>\n",
              "      <td>Take The A Train [jazz1350]</td>\n",
              "      <td>Blue Hawaii [trad]</td>\n",
              "      <td>B</td>\n",
              "      <td>B</td>\n",
              "      <td>0.801784</td>\n",
              "    </tr>\n",
              "    <tr>\n",
              "      <th>97</th>\n",
              "      <td>Take The A Train [jazz1350]</td>\n",
              "      <td>Are You Lonesome Tonight [trad]</td>\n",
              "      <td>B</td>\n",
              "      <td>C</td>\n",
              "      <td>0.801784</td>\n",
              "    </tr>\n",
              "    <tr>\n",
              "      <th>98</th>\n",
              "      <td>Take The A Train [jazz1350]</td>\n",
              "      <td>Chicken [trad]</td>\n",
              "      <td>B</td>\n",
              "      <td>B</td>\n",
              "      <td>0.800000</td>\n",
              "    </tr>\n",
              "    <tr>\n",
              "      <th>99</th>\n",
              "      <td>Take The A Train [jazz1350]</td>\n",
              "      <td>Yes Sir, That's My Baby [trad]</td>\n",
              "      <td>B</td>\n",
              "      <td>B</td>\n",
              "      <td>0.800000</td>\n",
              "    </tr>\n",
              "    <tr>\n",
              "      <th>100</th>\n",
              "      <td>Take The A Train [jazz1350]</td>\n",
              "      <td>You Belong To Me [trad]</td>\n",
              "      <td>B</td>\n",
              "      <td>B</td>\n",
              "      <td>0.800000</td>\n",
              "    </tr>\n",
              "    <tr>\n",
              "      <th>101</th>\n",
              "      <td>Take The A Train [jazz1350]</td>\n",
              "      <td>All Alone By The Telephone [trad]</td>\n",
              "      <td>B</td>\n",
              "      <td>C</td>\n",
              "      <td>0.800000</td>\n",
              "    </tr>\n",
              "    <tr>\n",
              "      <th>102</th>\n",
              "      <td>Take The A Train [jazz1350]</td>\n",
              "      <td>52nd Street Theme [jazz1350]</td>\n",
              "      <td>B</td>\n",
              "      <td>B</td>\n",
              "      <td>0.800000</td>\n",
              "    </tr>\n",
              "    <tr>\n",
              "      <th>103</th>\n",
              "      <td>Take The A Train [jazz1350]</td>\n",
              "      <td>Coquette [trad]</td>\n",
              "      <td>B</td>\n",
              "      <td>B</td>\n",
              "      <td>0.800000</td>\n",
              "    </tr>\n",
              "    <tr>\n",
              "      <th>104</th>\n",
              "      <td>Take The A Train [jazz1350]</td>\n",
              "      <td>Darkness On The Delta [trad]</td>\n",
              "      <td>B</td>\n",
              "      <td>B</td>\n",
              "      <td>0.800000</td>\n",
              "    </tr>\n",
              "    <tr>\n",
              "      <th>105</th>\n",
              "      <td>Take The A Train [jazz1350]</td>\n",
              "      <td>Honeysuckle Rose [jazz1350]</td>\n",
              "      <td>B</td>\n",
              "      <td>B</td>\n",
              "      <td>0.800000</td>\n",
              "    </tr>\n",
              "    <tr>\n",
              "      <th>106</th>\n",
              "      <td>Take The A Train [jazz1350]</td>\n",
              "      <td>Serpent's Tooth [jazz1350]</td>\n",
              "      <td>B</td>\n",
              "      <td>B</td>\n",
              "      <td>0.800000</td>\n",
              "    </tr>\n",
              "    <tr>\n",
              "      <th>107</th>\n",
              "      <td>Take The A Train [jazz1350]</td>\n",
              "      <td>I Can't Dance, I've Got Ants In My Pants [trad]</td>\n",
              "      <td>B</td>\n",
              "      <td>B</td>\n",
              "      <td>0.800000</td>\n",
              "    </tr>\n",
              "    <tr>\n",
              "      <th>108</th>\n",
              "      <td>Take The A Train [jazz1350]</td>\n",
              "      <td>I'm Alone Because I Love You [trad]</td>\n",
              "      <td>B</td>\n",
              "      <td>B</td>\n",
              "      <td>0.800000</td>\n",
              "    </tr>\n",
              "    <tr>\n",
              "      <th>109</th>\n",
              "      <td>Take The A Train [jazz1350]</td>\n",
              "      <td>P.S. I Love You [jazz1350]</td>\n",
              "      <td>B</td>\n",
              "      <td>B</td>\n",
              "      <td>0.800000</td>\n",
              "    </tr>\n",
              "    <tr>\n",
              "      <th>110</th>\n",
              "      <td>Take The A Train [jazz1350]</td>\n",
              "      <td>Out In The Cold Again [trad]</td>\n",
              "      <td>B</td>\n",
              "      <td>B</td>\n",
              "      <td>0.800000</td>\n",
              "    </tr>\n",
              "    <tr>\n",
              "      <th>111</th>\n",
              "      <td>Take The A Train [jazz1350]</td>\n",
              "      <td>I'm Crazy 'Bout My Baby [trad]</td>\n",
              "      <td>B</td>\n",
              "      <td>B</td>\n",
              "      <td>0.800000</td>\n",
              "    </tr>\n",
              "    <tr>\n",
              "      <th>112</th>\n",
              "      <td>Take The A Train [jazz1350]</td>\n",
              "      <td>I've Got My Fingers Crossed [trad]</td>\n",
              "      <td>B</td>\n",
              "      <td>B</td>\n",
              "      <td>0.800000</td>\n",
              "    </tr>\n",
              "    <tr>\n",
              "      <th>113</th>\n",
              "      <td>Take The A Train [jazz1350]</td>\n",
              "      <td>Jumpin' At The Woodside [trad]</td>\n",
              "      <td>B</td>\n",
              "      <td>B</td>\n",
              "      <td>0.800000</td>\n",
              "    </tr>\n",
              "    <tr>\n",
              "      <th>114</th>\n",
              "      <td>Take The A Train [jazz1350]</td>\n",
              "      <td>Nevertheless (I'm In Love With You) [trad]</td>\n",
              "      <td>B</td>\n",
              "      <td>B</td>\n",
              "      <td>0.800000</td>\n",
              "    </tr>\n",
              "    <tr>\n",
              "      <th>115</th>\n",
              "      <td>Take The A Train [jazz1350]</td>\n",
              "      <td>Ladies Of Calcutta, The [trad]</td>\n",
              "      <td>B</td>\n",
              "      <td>B</td>\n",
              "      <td>0.800000</td>\n",
              "    </tr>\n",
              "    <tr>\n",
              "      <th>116</th>\n",
              "      <td>Take The A Train [jazz1350]</td>\n",
              "      <td>Phase Dance [jazz1350]</td>\n",
              "      <td>B</td>\n",
              "      <td>B</td>\n",
              "      <td>0.800000</td>\n",
              "    </tr>\n",
              "    <tr>\n",
              "      <th>117</th>\n",
              "      <td>Take The A Train [jazz1350]</td>\n",
              "      <td>Sentimental Journey [jazz1350]</td>\n",
              "      <td>B</td>\n",
              "      <td>B</td>\n",
              "      <td>0.800000</td>\n",
              "    </tr>\n",
              "  </tbody>\n",
              "</table>\n",
              "</div>"
            ],
            "text/plain": [
              "                 reference_title                                      similar_title ref_section_label similar_section_label     score\n",
              "0    Take The A Train [jazz1350]                            Crazy Rhythm [jazz1350]                 A                     A  0.977008\n",
              "1    Take The A Train [jazz1350]                             Moten Swing [jazz1350]                 A                     A  0.977008\n",
              "2    Take The A Train [jazz1350]                           Jersey Bounce [jazz1350]                 A                     A  0.977008\n",
              "3    Take The A Train [jazz1350]            Lady's In Love With You, The [jazz1350]                 A                     A  0.960159\n",
              "4    Take The A Train [jazz1350]                Alexander's Ragtime Band [jazz1350]                 A                     B  0.960159\n",
              "5    Take The A Train [jazz1350]                        Exactly Like You [jazz1350]                 A                     A  0.955533\n",
              "6    Take The A Train [jazz1350]  One I Love (Belongs To Somebody Else), The [ja...                 A                     A  0.948504\n",
              "7    Take The A Train [jazz1350]           People Will Say We're In Love [jazz1350]                 A                     A  0.943090\n",
              "8    Take The A Train [jazz1350]           For You, For Me, For Evermore [jazz1350]                 A                     B  0.939827\n",
              "9    Take The A Train [jazz1350]                    You Made Me Love You [jazz1350]                 A                     A  0.938916\n",
              "10   Take The A Train [jazz1350]                      Roll Along Prarie Moon [trad]                 A                     B  0.938103\n",
              "11   Take The A Train [jazz1350]                             Peg O' My Heart [trad]                 A                     A  0.935414\n",
              "12   Take The A Train [jazz1350]                    Darktown Strutters' Ball [trad]                 A                     A  0.935414\n",
              "13   Take The A Train [jazz1350]                     All Through The Day [jazz1350]                 A                     A  0.932007\n",
              "14   Take The A Train [jazz1350]                    Are You Lonesome Tonight [trad]                 A                     D  0.927426\n",
              "15   Take The A Train [jazz1350]                          Só Danço Samba [jazz1350]                 A                     A  0.927426\n",
              "16   Take The A Train [jazz1350]                     And The Angels Sing [jazz1350]                 A                     A  0.925820\n",
              "17   Take The A Train [jazz1350]                             Mood Indigo [jazz1350]                 A                     A  0.924062\n",
              "18   Take The A Train [jazz1350]                            Don't Bring Lulu [trad]                 A                     C  0.923913\n",
              "19   Take The A Train [jazz1350]                          Same Old Love, The [trad]                 A                     A  0.921132\n",
              "20   Take The A Train [jazz1350]    One I Love Belongs To Somebody Else, The [trad]                 A                     A  0.918559\n",
              "21   Take The A Train [jazz1350]              A Wonderful Day Like Today [jazz1350]                 A                     A  0.916909\n",
              "22   Take The A Train [jazz1350]               Falling In Love With Love [jazz1350]                 A                     A  0.916909\n",
              "23   Take The A Train [jazz1350]                                  Gypsy, The [trad]                 A                     A  0.916515\n",
              "24   Take The A Train [jazz1350]              Don't Sit Under The Apple Tree [trad]                 A                     A  0.915303\n",
              "25   Take The A Train [jazz1350]                         Don't Sweetheart Me [trad]                 A                     A  0.914659\n",
              "26   Take The A Train [jazz1350]  I Can't Escape From You (San Jacinto Stomp) [t...                 A                     A  0.914659\n",
              "27   Take The A Train [jazz1350]                                    Memories [trad]                 A                     A  0.914659\n",
              "28   Take The A Train [jazz1350]                                  Abe My Boy [trad]                 A                     A  0.914659\n",
              "29   Take The A Train [jazz1350]                   True (You Don't Love Me ) [trad]                 A                     A  0.914659\n",
              "30   Take The A Train [jazz1350]                             Sleepy Time Gal [trad]                 A                     C  0.914659\n",
              "31   Take The A Train [jazz1350]                            When Day Is Done [trad]                 A                     A  0.914552\n",
              "32   Take The A Train [jazz1350]                           Groovin' High [jazz1350]                 A                     A  0.913414\n",
              "33   Take The A Train [jazz1350]                              Ask Me Now [jazz1350]                 A                     B  0.910032\n",
              "34   Take The A Train [jazz1350]                      Bark For Barksdale [jazz1350]                 A                     A  0.910031\n",
              "35   Take The A Train [jazz1350]            If There Is Someone Lovelier [jazz1350]                 A                     A  0.909106\n",
              "36   Take The A Train [jazz1350]                      All That I Ask Is Love [trad]                 A                     C  0.907485\n",
              "37   Take The A Train [jazz1350]                       After You've Gone [jazz1350]                 A                     B  0.907485\n",
              "38   Take The A Train [jazz1350]                                  Ugly Child [trad]                 A                     A  0.907265\n",
              "39   Take The A Train [jazz1350]                                       Ja-Da [trad]                 A                     A  0.907265\n",
              "40   Take The A Train [jazz1350]                     You're Driving Me Crazy [trad]                 A                     A  0.907265\n",
              "41   Take The A Train [jazz1350]                              Desafinado [jazz1350]                 A                     A  0.906425\n",
              "42   Take The A Train [jazz1350]  I'm Gonna Sit Right Down and Write Myself A Le...                 A                     A  0.906425\n",
              "43   Take The A Train [jazz1350]                     I'm Crazy 'Bout My Baby [trad]                 A                     A  0.901498\n",
              "44   Take The A Train [jazz1350]          In A Shanty In Old Shanty Town [jazz1350]                 A                     B  0.901127\n",
              "45   Take The A Train [jazz1350]                            Roses Of Picardy [trad]                 A                     B  0.900885\n",
              "46   Take The A Train [jazz1350]                          Dearly Beloved [jazz1350]                 A                     C  0.899735\n",
              "47   Take The A Train [jazz1350]                          On Treasure Island [trad]                 A                     A  0.891133\n",
              "48   Take The A Train [jazz1350]                      My Honey's Loving Arms [trad]                 A                     C  0.885615\n",
              "49   Take The A Train [jazz1350]                        Little Girl Blue [jazz1350]                 A                     A  0.883006\n",
              "50   Take The A Train [jazz1350]         You Must Have Been A Beautiful Baby [trad]                 A                 verse  0.882994\n",
              "51   Take The A Train [jazz1350]                                Chicago Buzz [trad]                 A                     A  0.882353\n",
              "52   Take The A Train [jazz1350]                 I Love You So Much It Hurts [trad]                 A                     A  0.882046\n",
              "53   Take The A Train [jazz1350]                                On The Alamo [trad]                 A                     A  0.879049\n",
              "54   Take The A Train [jazz1350]                  Girl From Ipanema, The [jazz1350]                 A                     A  0.879049\n",
              "55   Take The A Train [jazz1350]  I May Be Wrong (But I Think You're Wonderful) ...                 A                     A  0.876714\n",
              "56   Take The A Train [jazz1350]              I've Got A Feeling I'm Falling [trad]                 A                     A  0.876714\n",
              "57   Take The A Train [jazz1350]            Somebody Else Is Taking My Place [trad]                 A                     A  0.876714\n",
              "58   Take The A Train [jazz1350]                 I Love You So Much It Hurts [trad]                 A                     B  0.875517\n",
              "59   Take The A Train [jazz1350]                     Sentimental Journey [jazz1350]                 A                     A  0.875175\n",
              "60   Take The A Train [jazz1350]                                   Ko Ko [jazz1350]                 A                     A  0.874475\n",
              "61   Take The A Train [jazz1350]                                Cherokee [jazz1350]                 A                     A  0.874475\n",
              "62   Take The A Train [jazz1350]                    Darktown Strutters' Ball [trad]                 A                     B  0.873485\n",
              "63   Take The A Train [jazz1350]                                   Stumbling [trad]                 A                     A  0.873273\n",
              "64   Take The A Train [jazz1350]                               Tricotism [jazz1350]                 A                     A  0.873128\n",
              "65   Take The A Train [jazz1350]                           Working Man Blues [trad]                 A                     B  0.873128\n",
              "66   Take The A Train [jazz1350]          A Pretty Girl Is Like A Melody [jazz1350]                 A                     A  0.872402\n",
              "67   Take The A Train [jazz1350]                    You Can Depend On Me [jazz1350]                 B                     B  0.866025\n",
              "68   Take The A Train [jazz1350]                                    Move [jazz1350]                 B                     B  0.866025\n",
              "69   Take The A Train [jazz1350]              Breezin' Along With The Breeze [trad]                 B                     B  0.855236\n",
              "70   Take The A Train [jazz1350]                                     Wow [jazz1350]                 B                     C  0.855236\n",
              "71   Take The A Train [jazz1350]                                    Memories [trad]                 B                     B  0.855236\n",
              "72   Take The A Train [jazz1350]                                     Indiana [trad]                 B                     B  0.855236\n",
              "73   Take The A Train [jazz1350]                                  Abe My Boy [trad]                 B                     B  0.855236\n",
              "74   Take The A Train [jazz1350]                                  Cheers [jazz1350]                 B                     B  0.855236\n",
              "75   Take The A Train [jazz1350]                         Don't Sweetheart Me [trad]                 B                     B  0.855236\n",
              "76   Take The A Train [jazz1350]                          Let's Cool One [jazz1350]                 B                     B  0.855236\n",
              "77   Take The A Train [jazz1350]                  White Cliffs Of Dover, The [trad]                 B                     B  0.852803\n",
              "78   Take The A Train [jazz1350]                            We'll Meet Again [trad]                 B                     B  0.850000\n",
              "79   Take The A Train [jazz1350]                Lotus Eaters Bittersweet [jazz1350]                 B                     A  0.848528\n",
              "80   Take The A Train [jazz1350]              A Wonderful Day Like Today [jazz1350]                 B                     B  0.833238\n",
              "81   Take The A Train [jazz1350]                 Under A Blanket Of Blue [jazz1350]                 B                     B  0.832050\n",
              "82   Take The A Train [jazz1350]      I Can't Give You Anything But Love [jazz1350]                 B                     B  0.832050\n",
              "83   Take The A Train [jazz1350]                         Just Squeeze Me [jazz1350]                 B                     B  0.824621\n",
              "84   Take The A Train [jazz1350]         On The Sunny Side Of The Street [jazz1350]                 B                     B  0.822192\n",
              "85   Take The A Train [jazz1350]                              Joker, The [jazz1350]                 B                     B  0.822192\n",
              "86   Take The A Train [jazz1350]          I'm Confessin' That I Love You [jazz1350]                 B                     B  0.822192\n",
              "87   Take The A Train [jazz1350]                         I'm Coming Virginia [trad]                 B                     C  0.817059\n",
              "88   Take The A Train [jazz1350]                     Pennies From Heaven [jazz1350]                 B                     A  0.816497\n",
              "89   Take The A Train [jazz1350]     Weary Bules (AKA Shake It And Break It) [trad]                 B                     B  0.816496\n",
              "90   Take The A Train [jazz1350]                               Palo Alto [jazz1350]                 B                     B  0.811107\n",
              "91   Take The A Train [jazz1350]                          Só Danço Samba [jazz1350]                 B                     B  0.808290\n",
              "92   Take The A Train [jazz1350]                               Easter Parade [trad]                 B                     B  0.804985\n",
              "93   Take The A Train [jazz1350]                 I Like The Likes Of You [jazz1350]                 B                     B  0.804984\n",
              "94   Take The A Train [jazz1350]                         Scotch And Soda [jazz1350]                 B                     B  0.804984\n",
              "95   Take The A Train [jazz1350]                      Big Butter And Egg Man [trad]                 B                     B  0.802377\n",
              "96   Take The A Train [jazz1350]                                 Blue Hawaii [trad]                 B                     B  0.801784\n",
              "97   Take The A Train [jazz1350]                    Are You Lonesome Tonight [trad]                 B                     C  0.801784\n",
              "98   Take The A Train [jazz1350]                                     Chicken [trad]                 B                     B  0.800000\n",
              "99   Take The A Train [jazz1350]                     Yes Sir, That's My Baby [trad]                 B                     B  0.800000\n",
              "100  Take The A Train [jazz1350]                            You Belong To Me [trad]                 B                     B  0.800000\n",
              "101  Take The A Train [jazz1350]                  All Alone By The Telephone [trad]                 B                     C  0.800000\n",
              "102  Take The A Train [jazz1350]                       52nd Street Theme [jazz1350]                 B                     B  0.800000\n",
              "103  Take The A Train [jazz1350]                                    Coquette [trad]                 B                     B  0.800000\n",
              "104  Take The A Train [jazz1350]                       Darkness On The Delta [trad]                 B                     B  0.800000\n",
              "105  Take The A Train [jazz1350]                        Honeysuckle Rose [jazz1350]                 B                     B  0.800000\n",
              "106  Take The A Train [jazz1350]                         Serpent's Tooth [jazz1350]                 B                     B  0.800000\n",
              "107  Take The A Train [jazz1350]    I Can't Dance, I've Got Ants In My Pants [trad]                 B                     B  0.800000\n",
              "108  Take The A Train [jazz1350]                I'm Alone Because I Love You [trad]                 B                     B  0.800000\n",
              "109  Take The A Train [jazz1350]                         P.S. I Love You [jazz1350]                 B                     B  0.800000\n",
              "110  Take The A Train [jazz1350]                       Out In The Cold Again [trad]                 B                     B  0.800000\n",
              "111  Take The A Train [jazz1350]                     I'm Crazy 'Bout My Baby [trad]                 B                     B  0.800000\n",
              "112  Take The A Train [jazz1350]                 I've Got My Fingers Crossed [trad]                 B                     B  0.800000\n",
              "113  Take The A Train [jazz1350]                     Jumpin' At The Woodside [trad]                 B                     B  0.800000\n",
              "114  Take The A Train [jazz1350]         Nevertheless (I'm In Love With You) [trad]                 B                     B  0.800000\n",
              "115  Take The A Train [jazz1350]                     Ladies Of Calcutta, The [trad]                 B                     B  0.800000\n",
              "116  Take The A Train [jazz1350]                             Phase Dance [jazz1350]                 B                     B  0.800000\n",
              "117  Take The A Train [jazz1350]                     Sentimental Journey [jazz1350]                 B                     B  0.800000"
            ]
          },
          "metadata": {},
          "execution_count": 84
        }
      ]
    },
    {
      "cell_type": "code",
      "metadata": {
        "id": "RX2JvEEGPGgS"
      },
      "source": [
        "if use_wandb:\n",
        "  wandb.log({\"scores_hist\": fig})"
      ],
      "execution_count": 85,
      "outputs": []
    },
    {
      "cell_type": "code",
      "metadata": {
        "colab": {
          "base_uri": "https://localhost:8080/",
          "height": 1000
        },
        "id": "7N81-XfdDFKV",
        "outputId": "54e1e479-e4ad-44cc-8a81-2bb836549ee0"
      },
      "source": [
        "result, details = recommend_tune(df_sim, 'These Foolish Things [jazz1350]')\n",
        "result.head(30)"
      ],
      "execution_count": 86,
      "outputs": [
        {
          "output_type": "execute_result",
          "data": {
            "text/html": [
              "<div>\n",
              "<style scoped>\n",
              "    .dataframe tbody tr th:only-of-type {\n",
              "        vertical-align: middle;\n",
              "    }\n",
              "\n",
              "    .dataframe tbody tr th {\n",
              "        vertical-align: top;\n",
              "    }\n",
              "\n",
              "    .dataframe thead th {\n",
              "        text-align: right;\n",
              "    }\n",
              "</style>\n",
              "<table border=\"1\" class=\"dataframe\">\n",
              "  <thead>\n",
              "    <tr style=\"text-align: right;\">\n",
              "      <th></th>\n",
              "      <th>index</th>\n",
              "      <th>reference</th>\n",
              "      <th>reference_titleid</th>\n",
              "      <th>similar_title</th>\n",
              "      <th>score</th>\n",
              "      <th>max</th>\n",
              "      <th>score_div_max</th>\n",
              "      <th>similar_titleid</th>\n",
              "    </tr>\n",
              "  </thead>\n",
              "  <tbody>\n",
              "    <tr>\n",
              "      <th>0</th>\n",
              "      <td>0</td>\n",
              "      <td>These Foolish Things [jazz1350]</td>\n",
              "      <td>1165</td>\n",
              "      <td>More Than You Know [jazz1350]</td>\n",
              "      <td>0.916515</td>\n",
              "      <td>0.916515</td>\n",
              "      <td>1.000000</td>\n",
              "      <td>826</td>\n",
              "    </tr>\n",
              "    <tr>\n",
              "      <th>1</th>\n",
              "      <td>1</td>\n",
              "      <td>These Foolish Things [jazz1350]</td>\n",
              "      <td>1165</td>\n",
              "      <td>I Loves You Porgy [jazz1350]</td>\n",
              "      <td>0.954864</td>\n",
              "      <td>0.972306</td>\n",
              "      <td>0.997729</td>\n",
              "      <td>517</td>\n",
              "    </tr>\n",
              "    <tr>\n",
              "      <th>2</th>\n",
              "      <td>2</td>\n",
              "      <td>These Foolish Things [jazz1350]</td>\n",
              "      <td>1165</td>\n",
              "      <td>Way You Look Tonight, The [jazz1350]</td>\n",
              "      <td>0.942543</td>\n",
              "      <td>0.972306</td>\n",
              "      <td>0.977049</td>\n",
              "      <td>1250</td>\n",
              "    </tr>\n",
              "    <tr>\n",
              "      <th>3</th>\n",
              "      <td>3</td>\n",
              "      <td>These Foolish Things [jazz1350]</td>\n",
              "      <td>1165</td>\n",
              "      <td>Rosetta [jazz1350]</td>\n",
              "      <td>0.895443</td>\n",
              "      <td>0.916515</td>\n",
              "      <td>0.977008</td>\n",
              "      <td>993</td>\n",
              "    </tr>\n",
              "    <tr>\n",
              "      <th>4</th>\n",
              "      <td>4</td>\n",
              "      <td>These Foolish Things [jazz1350]</td>\n",
              "      <td>1165</td>\n",
              "      <td>It's Easy To Remember [jazz1350]</td>\n",
              "      <td>0.951817</td>\n",
              "      <td>0.972306</td>\n",
              "      <td>0.976469</td>\n",
              "      <td>634</td>\n",
              "    </tr>\n",
              "    <tr>\n",
              "      <th>5</th>\n",
              "      <td>5</td>\n",
              "      <td>These Foolish Things [jazz1350]</td>\n",
              "      <td>1165</td>\n",
              "      <td>They All Laughed [jazz1350]</td>\n",
              "      <td>0.926855</td>\n",
              "      <td>0.972306</td>\n",
              "      <td>0.970866</td>\n",
              "      <td>1166</td>\n",
              "    </tr>\n",
              "    <tr>\n",
              "      <th>6</th>\n",
              "      <td>6</td>\n",
              "      <td>These Foolish Things [jazz1350]</td>\n",
              "      <td>1165</td>\n",
              "      <td>Easy Street [jazz1350]</td>\n",
              "      <td>0.926302</td>\n",
              "      <td>0.954669</td>\n",
              "      <td>0.970286</td>\n",
              "      <td>340</td>\n",
              "    </tr>\n",
              "    <tr>\n",
              "      <th>7</th>\n",
              "      <td>7</td>\n",
              "      <td>These Foolish Things [jazz1350]</td>\n",
              "      <td>1165</td>\n",
              "      <td>Among My Souvenirs [jazz1350]</td>\n",
              "      <td>0.925820</td>\n",
              "      <td>0.954669</td>\n",
              "      <td>0.969782</td>\n",
              "      <td>75</td>\n",
              "    </tr>\n",
              "    <tr>\n",
              "      <th>8</th>\n",
              "      <td>8</td>\n",
              "      <td>These Foolish Things [jazz1350]</td>\n",
              "      <td>1165</td>\n",
              "      <td>Bewitched [jazz1350]</td>\n",
              "      <td>0.926302</td>\n",
              "      <td>0.972306</td>\n",
              "      <td>0.967266</td>\n",
              "      <td>131</td>\n",
              "    </tr>\n",
              "    <tr>\n",
              "      <th>9</th>\n",
              "      <td>9</td>\n",
              "      <td>These Foolish Things [jazz1350]</td>\n",
              "      <td>1165</td>\n",
              "      <td>Party's Over, The [jazz1350]</td>\n",
              "      <td>0.922839</td>\n",
              "      <td>0.972306</td>\n",
              "      <td>0.966659</td>\n",
              "      <td>932</td>\n",
              "    </tr>\n",
              "    <tr>\n",
              "      <th>10</th>\n",
              "      <td>10</td>\n",
              "      <td>These Foolish Things [jazz1350]</td>\n",
              "      <td>1165</td>\n",
              "      <td>Manhattan [jazz1350]</td>\n",
              "      <td>0.920751</td>\n",
              "      <td>0.954669</td>\n",
              "      <td>0.964472</td>\n",
              "      <td>771</td>\n",
              "    </tr>\n",
              "    <tr>\n",
              "      <th>11</th>\n",
              "      <td>11</td>\n",
              "      <td>These Foolish Things [jazz1350]</td>\n",
              "      <td>1165</td>\n",
              "      <td>And The Angels Sing [jazz1350]</td>\n",
              "      <td>0.920751</td>\n",
              "      <td>0.972306</td>\n",
              "      <td>0.964472</td>\n",
              "      <td>78</td>\n",
              "    </tr>\n",
              "    <tr>\n",
              "      <th>12</th>\n",
              "      <td>12</td>\n",
              "      <td>These Foolish Things [jazz1350]</td>\n",
              "      <td>1165</td>\n",
              "      <td>Let's Fall In Love [jazz1350]</td>\n",
              "      <td>0.928955</td>\n",
              "      <td>0.964712</td>\n",
              "      <td>0.963023</td>\n",
              "      <td>705</td>\n",
              "    </tr>\n",
              "    <tr>\n",
              "      <th>13</th>\n",
              "      <td>13</td>\n",
              "      <td>These Foolish Things [jazz1350]</td>\n",
              "      <td>1165</td>\n",
              "      <td>I Gotta Right To Sing The Blues [jazz1350]</td>\n",
              "      <td>0.918176</td>\n",
              "      <td>0.954669</td>\n",
              "      <td>0.961775</td>\n",
              "      <td>504</td>\n",
              "    </tr>\n",
              "    <tr>\n",
              "      <th>14</th>\n",
              "      <td>14</td>\n",
              "      <td>These Foolish Things [jazz1350]</td>\n",
              "      <td>1165</td>\n",
              "      <td>Danny Boy [jazz1350]</td>\n",
              "      <td>0.926962</td>\n",
              "      <td>0.964712</td>\n",
              "      <td>0.960890</td>\n",
              "      <td>278</td>\n",
              "    </tr>\n",
              "    <tr>\n",
              "      <th>15</th>\n",
              "      <td>15</td>\n",
              "      <td>These Foolish Things [jazz1350]</td>\n",
              "      <td>1165</td>\n",
              "      <td>Folks Who Live On The Hill, The [jazz1350]</td>\n",
              "      <td>0.916851</td>\n",
              "      <td>0.963487</td>\n",
              "      <td>0.960386</td>\n",
              "      <td>387</td>\n",
              "    </tr>\n",
              "    <tr>\n",
              "      <th>16</th>\n",
              "      <td>16</td>\n",
              "      <td>These Foolish Things [jazz1350]</td>\n",
              "      <td>1165</td>\n",
              "      <td>Heart And Soul [jazz1350]</td>\n",
              "      <td>0.920737</td>\n",
              "      <td>0.954669</td>\n",
              "      <td>0.958394</td>\n",
              "      <td>454</td>\n",
              "    </tr>\n",
              "    <tr>\n",
              "      <th>17</th>\n",
              "      <td>17</td>\n",
              "      <td>These Foolish Things [jazz1350]</td>\n",
              "      <td>1165</td>\n",
              "      <td>I'm Old Fashioned [jazz1350]</td>\n",
              "      <td>0.913908</td>\n",
              "      <td>0.954669</td>\n",
              "      <td>0.957303</td>\n",
              "      <td>557</td>\n",
              "    </tr>\n",
              "    <tr>\n",
              "      <th>18</th>\n",
              "      <td>18</td>\n",
              "      <td>These Foolish Things [jazz1350]</td>\n",
              "      <td>1165</td>\n",
              "      <td>Stairway To The Stars [jazz1350]</td>\n",
              "      <td>0.932095</td>\n",
              "      <td>0.972306</td>\n",
              "      <td>0.956236</td>\n",
              "      <td>1094</td>\n",
              "    </tr>\n",
              "    <tr>\n",
              "      <th>19</th>\n",
              "      <td>19</td>\n",
              "      <td>These Foolish Things [jazz1350]</td>\n",
              "      <td>1165</td>\n",
              "      <td>Just Friends [jazz1350]</td>\n",
              "      <td>0.912871</td>\n",
              "      <td>0.954669</td>\n",
              "      <td>0.956217</td>\n",
              "      <td>661</td>\n",
              "    </tr>\n",
              "    <tr>\n",
              "      <th>20</th>\n",
              "      <td>20</td>\n",
              "      <td>These Foolish Things [jazz1350]</td>\n",
              "      <td>1165</td>\n",
              "      <td>Some Enchanted Evening [jazz1350]</td>\n",
              "      <td>0.912495</td>\n",
              "      <td>0.954669</td>\n",
              "      <td>0.955824</td>\n",
              "      <td>1060</td>\n",
              "    </tr>\n",
              "    <tr>\n",
              "      <th>21</th>\n",
              "      <td>21</td>\n",
              "      <td>These Foolish Things [jazz1350]</td>\n",
              "      <td>1165</td>\n",
              "      <td>Over The Rainbow (Somewhere) [jazz1350]</td>\n",
              "      <td>0.921660</td>\n",
              "      <td>0.964712</td>\n",
              "      <td>0.955373</td>\n",
              "      <td>925</td>\n",
              "    </tr>\n",
              "    <tr>\n",
              "      <th>22</th>\n",
              "      <td>22</td>\n",
              "      <td>These Foolish Things [jazz1350]</td>\n",
              "      <td>1165</td>\n",
              "      <td>My Heart Stood Still [jazz1350]</td>\n",
              "      <td>0.921503</td>\n",
              "      <td>0.964712</td>\n",
              "      <td>0.955226</td>\n",
              "      <td>839</td>\n",
              "    </tr>\n",
              "    <tr>\n",
              "      <th>23</th>\n",
              "      <td>23</td>\n",
              "      <td>These Foolish Things [jazz1350]</td>\n",
              "      <td>1165</td>\n",
              "      <td>For Sentimental Reasons [jazz1350]</td>\n",
              "      <td>0.921503</td>\n",
              "      <td>0.964712</td>\n",
              "      <td>0.955226</td>\n",
              "      <td>395</td>\n",
              "    </tr>\n",
              "    <tr>\n",
              "      <th>24</th>\n",
              "      <td>24</td>\n",
              "      <td>These Foolish Things [jazz1350]</td>\n",
              "      <td>1165</td>\n",
              "      <td>All Too Soon [jazz1350]</td>\n",
              "      <td>0.921503</td>\n",
              "      <td>0.964712</td>\n",
              "      <td>0.955226</td>\n",
              "      <td>67</td>\n",
              "    </tr>\n",
              "    <tr>\n",
              "      <th>25</th>\n",
              "      <td>25</td>\n",
              "      <td>These Foolish Things [jazz1350]</td>\n",
              "      <td>1165</td>\n",
              "      <td>Haunted Heart [jazz1350]</td>\n",
              "      <td>0.909509</td>\n",
              "      <td>0.972306</td>\n",
              "      <td>0.952696</td>\n",
              "      <td>451</td>\n",
              "    </tr>\n",
              "    <tr>\n",
              "      <th>26</th>\n",
              "      <td>26</td>\n",
              "      <td>These Foolish Things [jazz1350]</td>\n",
              "      <td>1165</td>\n",
              "      <td>Blue Room, The [jazz1350]</td>\n",
              "      <td>0.909509</td>\n",
              "      <td>0.954669</td>\n",
              "      <td>0.952695</td>\n",
              "      <td>159</td>\n",
              "    </tr>\n",
              "    <tr>\n",
              "      <th>27</th>\n",
              "      <td>27</td>\n",
              "      <td>These Foolish Things [jazz1350]</td>\n",
              "      <td>1165</td>\n",
              "      <td>Nearness Of You, The [jazz1350]</td>\n",
              "      <td>0.909137</td>\n",
              "      <td>0.954669</td>\n",
              "      <td>0.952306</td>\n",
              "      <td>861</td>\n",
              "    </tr>\n",
              "    <tr>\n",
              "      <th>28</th>\n",
              "      <td>28</td>\n",
              "      <td>These Foolish Things [jazz1350]</td>\n",
              "      <td>1165</td>\n",
              "      <td>Long Ago And Far Away [jazz1350]</td>\n",
              "      <td>0.917819</td>\n",
              "      <td>0.964712</td>\n",
              "      <td>0.951360</td>\n",
              "      <td>735</td>\n",
              "    </tr>\n",
              "    <tr>\n",
              "      <th>29</th>\n",
              "      <td>29</td>\n",
              "      <td>These Foolish Things [jazz1350]</td>\n",
              "      <td>1165</td>\n",
              "      <td>Mountain Greenery [jazz1350]</td>\n",
              "      <td>0.910637</td>\n",
              "      <td>0.963487</td>\n",
              "      <td>0.950765</td>\n",
              "      <td>830</td>\n",
              "    </tr>\n",
              "  </tbody>\n",
              "</table>\n",
              "</div>"
            ],
            "text/plain": [
              "    index                        reference  reference_titleid                               similar_title     score       max  score_div_max  similar_titleid\n",
              "0       0  These Foolish Things [jazz1350]               1165               More Than You Know [jazz1350]  0.916515  0.916515       1.000000              826\n",
              "1       1  These Foolish Things [jazz1350]               1165                I Loves You Porgy [jazz1350]  0.954864  0.972306       0.997729              517\n",
              "2       2  These Foolish Things [jazz1350]               1165        Way You Look Tonight, The [jazz1350]  0.942543  0.972306       0.977049             1250\n",
              "3       3  These Foolish Things [jazz1350]               1165                          Rosetta [jazz1350]  0.895443  0.916515       0.977008              993\n",
              "4       4  These Foolish Things [jazz1350]               1165            It's Easy To Remember [jazz1350]  0.951817  0.972306       0.976469              634\n",
              "5       5  These Foolish Things [jazz1350]               1165                 They All Laughed [jazz1350]  0.926855  0.972306       0.970866             1166\n",
              "6       6  These Foolish Things [jazz1350]               1165                      Easy Street [jazz1350]  0.926302  0.954669       0.970286              340\n",
              "7       7  These Foolish Things [jazz1350]               1165               Among My Souvenirs [jazz1350]  0.925820  0.954669       0.969782               75\n",
              "8       8  These Foolish Things [jazz1350]               1165                        Bewitched [jazz1350]  0.926302  0.972306       0.967266              131\n",
              "9       9  These Foolish Things [jazz1350]               1165                Party's Over, The [jazz1350]  0.922839  0.972306       0.966659              932\n",
              "10     10  These Foolish Things [jazz1350]               1165                        Manhattan [jazz1350]  0.920751  0.954669       0.964472              771\n",
              "11     11  These Foolish Things [jazz1350]               1165              And The Angels Sing [jazz1350]  0.920751  0.972306       0.964472               78\n",
              "12     12  These Foolish Things [jazz1350]               1165               Let's Fall In Love [jazz1350]  0.928955  0.964712       0.963023              705\n",
              "13     13  These Foolish Things [jazz1350]               1165  I Gotta Right To Sing The Blues [jazz1350]  0.918176  0.954669       0.961775              504\n",
              "14     14  These Foolish Things [jazz1350]               1165                        Danny Boy [jazz1350]  0.926962  0.964712       0.960890              278\n",
              "15     15  These Foolish Things [jazz1350]               1165  Folks Who Live On The Hill, The [jazz1350]  0.916851  0.963487       0.960386              387\n",
              "16     16  These Foolish Things [jazz1350]               1165                   Heart And Soul [jazz1350]  0.920737  0.954669       0.958394              454\n",
              "17     17  These Foolish Things [jazz1350]               1165                I'm Old Fashioned [jazz1350]  0.913908  0.954669       0.957303              557\n",
              "18     18  These Foolish Things [jazz1350]               1165            Stairway To The Stars [jazz1350]  0.932095  0.972306       0.956236             1094\n",
              "19     19  These Foolish Things [jazz1350]               1165                     Just Friends [jazz1350]  0.912871  0.954669       0.956217              661\n",
              "20     20  These Foolish Things [jazz1350]               1165           Some Enchanted Evening [jazz1350]  0.912495  0.954669       0.955824             1060\n",
              "21     21  These Foolish Things [jazz1350]               1165     Over The Rainbow (Somewhere) [jazz1350]  0.921660  0.964712       0.955373              925\n",
              "22     22  These Foolish Things [jazz1350]               1165             My Heart Stood Still [jazz1350]  0.921503  0.964712       0.955226              839\n",
              "23     23  These Foolish Things [jazz1350]               1165          For Sentimental Reasons [jazz1350]  0.921503  0.964712       0.955226              395\n",
              "24     24  These Foolish Things [jazz1350]               1165                     All Too Soon [jazz1350]  0.921503  0.964712       0.955226               67\n",
              "25     25  These Foolish Things [jazz1350]               1165                    Haunted Heart [jazz1350]  0.909509  0.972306       0.952696              451\n",
              "26     26  These Foolish Things [jazz1350]               1165                   Blue Room, The [jazz1350]  0.909509  0.954669       0.952695              159\n",
              "27     27  These Foolish Things [jazz1350]               1165             Nearness Of You, The [jazz1350]  0.909137  0.954669       0.952306              861\n",
              "28     28  These Foolish Things [jazz1350]               1165            Long Ago And Far Away [jazz1350]  0.917819  0.964712       0.951360              735\n",
              "29     29  These Foolish Things [jazz1350]               1165                Mountain Greenery [jazz1350]  0.910637  0.963487       0.950765              830"
            ]
          },
          "metadata": {},
          "execution_count": 86
        }
      ]
    },
    {
      "cell_type": "code",
      "metadata": {
        "id": "15ZsHOQmyyah"
      },
      "source": [
        "dd = pd.DataFrame(columns = recommender_results_cols)\n",
        "\n",
        "for tune in tunes_eval_list:\n",
        "  result, details = recommend_tune(df_sim, tune)\n",
        "  dd['id'] = result['index']\n",
        "  dd['reference'] = tune\n",
        "  dd['method'] = 'lsi'\n",
        "  dd['similar'] = result['similar_title']\n",
        "  dd['score_div_max'] = result['score_div_max']\n",
        "  dd['score'] = result['score']\n",
        "\n",
        "recommender_results = recommender_results.append(dd)"
      ],
      "execution_count": 87,
      "outputs": []
    },
    {
      "cell_type": "markdown",
      "metadata": {
        "id": "Ojrjp11ni6Pl"
      },
      "source": [
        "### Tests for Contrafacts"
      ]
    },
    {
      "cell_type": "code",
      "metadata": {
        "colab": {
          "base_uri": "https://localhost:8080/"
        },
        "id": "D0_7m1qji6A-",
        "outputId": "9488e15a-35a6-498d-f48b-3ee9bc167649"
      },
      "source": [
        "topN = 20\n",
        "matches, results = test_contrafacts(contrafacts, index_lsi, lsi, topN)\n",
        "\n",
        "print(f\"Found matches: {matches} out of {len(results)}: {100*matches/len(results):.3f}%\")\n",
        "print() \n",
        "for rr, val in results.items():\n",
        "  if val == 0:\n",
        "    print(f\"{val}: {rr}\")\n"
      ],
      "execution_count": 88,
      "outputs": [
        {
          "output_type": "stream",
          "name": "stdout",
          "text": [
            "Found matches: 92 out of 111: 82.883%\n",
            "\n",
            "0: 52nd Street Theme [jazz1350], I Got Rhythm [jazz1350]\n",
            "0: Ballade [jazz1350], As Long As I Live [jazz1350]\n",
            "0: Dewey Square [jazz1350], Oh, Lady Be Good [jazz1350]\n",
            "0: Don't Be That Way [jazz1350], I Got Rhythm [jazz1350]\n",
            "0: Good Bait [jazz1350], I Got Rhythm [jazz1350]\n",
            "0: Lennie's Pennies [jazz1350], Pennies From Heaven [jazz1350]\n",
            "0: Little Rootie Tootie [jazz1350], I Got Rhythm [jazz1350]\n",
            "0: Little Willie Leaps [jazz1350], All God's Chillun Got Rhythm [jazz1350]\n",
            "0: My Little Suede Shoes [jazz1350], Jeepers Creepers [jazz1350]\n",
            "0: Quasimodo (Theme) [jazz1350], Embraceable You [jazz1350]\n",
            "0: Room 608 [jazz1350], I Got Rhythm [jazz1350]\n",
            "0: Wow [jazz1350], You Can Depend On Me [jazz1350]\n",
            "0: Sweet Sue, Just You [jazz1350], Honeysuckle Rose [jazz1350]\n",
            "0: Sweet Sue, Just You [jazz1350], Bye Bye Blackbird [jazz1350]\n",
            "0: These Foolish Things [jazz1350], Blue Moon [jazz1350]\n",
            "0: These Foolish Things [jazz1350], Soultrane [jazz1350]\n",
            "0: These Foolish Things [jazz1350], Why Do I Love You [jazz1350]\n",
            "0: Exactly Like You [jazz1350], Jersey Bounce [trad]\n",
            "0: Take The A Train [jazz1350], Girl From Ipanema, The [jazz1350]\n",
            "0: My Secret Love [jazz1350], Samba De Orfeu [jazz1350]\n",
            "0: These Foolish Things [jazz1350], Embraceable You [jazz1350]\n"
          ]
        }
      ]
    },
    {
      "cell_type": "code",
      "metadata": {
        "id": "RS7LsLASi5-f"
      },
      "source": [
        "model_name = 'lsi'\n",
        "if use_wandb:\n",
        "  wandb.log(\n",
        "      {model_name: {\n",
        "                'contrafacts': {\n",
        "                    'topN': topN,\n",
        "                    'success': matches/len(contrafacts),\n",
        "                    #'results': results\n",
        "                    }\n",
        "                   },\n",
        "       'all_models': {\n",
        "           model_name: wandb.Table(\n",
        "               columns=[\"Title\", \"Match\"],\n",
        "               data=[[key, value] for key, value in results.items()]),\n",
        "       }\n",
        "       })"
      ],
      "execution_count": 89,
      "outputs": []
    },
    {
      "cell_type": "markdown",
      "metadata": {
        "id": "AjZArSmyooWt"
      },
      "source": [
        "### Get Recommender Data for WebApp"
      ]
    },
    {
      "cell_type": "code",
      "metadata": {
        "colab": {
          "base_uri": "https://localhost:8080/"
        },
        "id": "ZP1_YD4liiF3",
        "outputId": "33072460-d200-4336-e663-d011dc8ee53a"
      },
      "source": [
        "result.columns"
      ],
      "execution_count": 90,
      "outputs": [
        {
          "output_type": "execute_result",
          "data": {
            "text/plain": [
              "Index(['index', 'reference', 'reference_titleid', 'similar_title', 'score', 'max', 'score_div_max', 'similar_titleid'], dtype='object')"
            ]
          },
          "metadata": {},
          "execution_count": 90
        }
      ]
    },
    {
      "cell_type": "code",
      "metadata": {
        "colab": {
          "base_uri": "https://localhost:8080/"
        },
        "id": "JfMygz-ejgXG",
        "outputId": "47197d30-08ee-4b83-b16d-731f684ecd65"
      },
      "source": [
        "%%time\n",
        "if generate_webapp_data:\n",
        "  _tunes = list(tunes['title_playlist'].values())\n",
        "  #_tunes = tunes_eval_list\n",
        "\n",
        "  method = 'lsi'\n",
        "\n",
        "  # save the mapping between titleid and title to disk\n",
        "  pd.DataFrame.from_dict(tunes).to_csv(f'output/index_{method}.csv', index_label='titleid')\n",
        "  with zipfile.ZipFile(f'output/index_{method}.zip', 'w') as zf:\n",
        "    zf.write(f'output/index_{method}.csv')\n",
        "\n",
        "  df_sim = get_sim_scores(_tunes, index_lsi, lsi, topn=30)\n",
        "\n",
        "  # save to file\n",
        "  (df_sim\n",
        "   .loc[:,[#'reference_title',\n",
        "           'reference_titleid',\n",
        "           #'similar_title',\n",
        "           'similar_titleid',\n",
        "           'ref_section_label',\n",
        "           'similar_section_label',\n",
        "           'score'\n",
        "           ]]\n",
        "   .groupby(['reference_titleid', \n",
        "          #'reference_title', \n",
        "          'similar_titleid',\n",
        "          #'similar_title', \n",
        "          'ref_section_label', \n",
        "          'similar_section_label'])\n",
        "   .max('score')\n",
        "   .reset_index()\n",
        "   .to_csv(f'output/recommender_{method}.csv', encoding='utf8', index=False)\n",
        "  )\n",
        "  \n",
        "  with zipfile.ZipFile(f'output/recommender_{method}.zip', 'w') as zf:\n",
        "    zf.write(f'output/recommender_{method}.csv')\n",
        "\n",
        "  # save to wandb\n",
        "  if use_wandb:\n",
        "    model_artifact = wandb.Artifact(\n",
        "        f\"recommender_{method}\", \n",
        "        type=\"csv\",\n",
        "        description=f\"Recommendations for each Tune using {method} Model (csv file)\",\n",
        "        metadata=\"\")\n",
        "\n",
        "    model_artifact.add_file(f'output/recommender_{method}.zip')\n",
        "    model_artifact.add_file(f'output/index_{method}.zip')\n",
        "    wandb.log_artifact(model_artifact)"
      ],
      "execution_count": null,
      "outputs": [
        {
          "output_type": "stream",
          "name": "stderr",
          "text": [
            " 11%|█         | 190/1692 [03:47<39:34,  1.58s/it]"
          ]
        }
      ]
    },
    {
      "cell_type": "markdown",
      "metadata": {
        "id": "lTQKfd0xQQ65"
      },
      "source": [
        "## Store Model to W&B"
      ]
    },
    {
      "cell_type": "code",
      "metadata": {
        "id": "RfAYF7ArQUXo"
      },
      "source": [
        "if use_wandb:\n",
        "  model_artifact = wandb.Artifact(\n",
        "      \"model_lsi\", \n",
        "      type=\"model\",\n",
        "      description=\"LSI model\",\n",
        "      metadata=\"\")\n",
        "\n",
        "  model_artifact.add_file(\"/content/index/lsi.model\")\n",
        "  model_artifact.add_file(\"/content/index/lsi_matrixsim.index\")\n",
        "  model_artifact.add_file(\"/content/index/lsi.model.projection\")\n",
        "  wandb.log_artifact(model_artifact)"
      ],
      "execution_count": null,
      "outputs": []
    },
    {
      "cell_type": "markdown",
      "metadata": {
        "id": "asScIocQRMPA"
      },
      "source": [
        "## Determine Number of Topics for LSI Model\n",
        "\n",
        "This sample comes from Datacamp: \n",
        "\n",
        "https://www.datacamp.com/community/tutorials/discovering-hidden-topics-python\n"
      ]
    },
    {
      "cell_type": "markdown",
      "metadata": {
        "id": "1TPNWFEPSxZ-"
      },
      "source": [
        "What is the best way to determine k (number of topics) in topic modeling? Identify the optimum number of topics in the given corpus text is a challenging task. We can use the following options for determining the optimum number of topics:\n",
        "\n",
        "* One way to determine the optimum number of topics is to consider each topic as a cluster and find out the effectiveness of a cluster using the Silhouette coefficient.\n",
        "* Topic coherence measure is a realistic measure for identifying the number of topics.\n",
        "\n",
        "Topic Coherence measure is a widely used metric to evaluate topic models. It uses the latent variable models. Each generated topic has a list of words. In topic coherence measure, you will find average/median of pairwise word similarity scores of the words in a topic. The high value of topic coherence score model will be considered as a good topic model. "
      ]
    },
    {
      "cell_type": "code",
      "metadata": {
        "id": "umpCyQQzRLgv"
      },
      "source": [
        "def prepare_corpus(doc_clean):\n",
        "    \"\"\"\n",
        "    Input  : clean document\n",
        "    Purpose: create term dictionary of our courpus and Converting list of documents (corpus) into Document Term Matrix\n",
        "    Output : term dictionary and Document Term Matrix\n",
        "    \"\"\"\n",
        "    # Creating the term dictionary of our courpus, where every unique term is assigned an index. dictionary = corpora.Dictionary(doc_clean)\n",
        "    dictionary = corpora.Dictionary(doc_clean)\n",
        "    # Converting list of documents (corpus) into Document Term Matrix using dictionary prepared above.\n",
        "    doc_term_matrix = [dictionary.doc2bow(doc) for doc in doc_clean]\n",
        "    # generate LDA model\n",
        "    return dictionary, doc_term_matrix"
      ],
      "execution_count": null,
      "outputs": []
    },
    {
      "cell_type": "code",
      "metadata": {
        "id": "aS2wxIEERcul"
      },
      "source": [
        "def compute_coherence_values(dictionary, doc_term_matrix, doc_clean, stop, start=2, step=3):\n",
        "    \"\"\"\n",
        "    Input   : dictionary : Gensim dictionary\n",
        "              corpus : Gensim corpus\n",
        "              texts : List of input texts\n",
        "              stop : Max num of topics\n",
        "    purpose : Compute c_v coherence for various number of topics\n",
        "    Output  : model_list : List of LSA topic models\n",
        "              coherence_values : Coherence values corresponding to the LDA model with respective number of topics\n",
        "    \"\"\"\n",
        "    coherence_values = []\n",
        "    model_list = []\n",
        "    for num_topics in range(start, stop, step):\n",
        "        # generate LSA model\n",
        "        model = LsiModel(doc_term_matrix, num_topics=num_topics, id2word = dictionary)  # train model\n",
        "        model_list.append(model)\n",
        "        coherencemodel = CoherenceModel(model=model, texts=doc_clean, dictionary=dictionary, coherence='c_v')\n",
        "        coherence_values.append(coherencemodel.get_coherence())\n",
        "    return model_list, coherence_values"
      ],
      "execution_count": null,
      "outputs": []
    },
    {
      "cell_type": "code",
      "metadata": {
        "id": "DjyzAzWBRfrH"
      },
      "source": [
        "def plot_graph(doc_clean,start, stop, step):\n",
        "    dictionary, doc_term_matrix = prepare_corpus(doc_clean)\n",
        "\n",
        "    runs = 5\n",
        "    for i in range(runs):\n",
        "      model_list, coherence_values = compute_coherence_values(dictionary, \n",
        "                                                              doc_term_matrix,\n",
        "                                                              doc_clean,\n",
        "                                                              stop, start, step)\n",
        "      # Show graph\n",
        "      x = range(start, stop, step)\n",
        "      plt.plot(x, coherence_values, color='blue')\n",
        "\n",
        "    plt.xlabel(\"Number of Topics\")\n",
        "    plt.ylabel(\"Coherence score\")\n",
        "    plt.show()"
      ],
      "execution_count": null,
      "outputs": []
    },
    {
      "cell_type": "code",
      "metadata": {
        "id": "qy9ZjdcmRhxs"
      },
      "source": [
        "# evaluate a good number of topics for the LSI Model. This takes some time.\n",
        "\n",
        "if False:\n",
        "\n",
        "  start, stop, step = 2, 50, 2\n",
        "  plot_graph(data, start, stop, step)"
      ],
      "execution_count": null,
      "outputs": []
    },
    {
      "cell_type": "markdown",
      "metadata": {
        "id": "Qo5NgBHFlqgg"
      },
      "source": [
        "For unigrams, the best number of topics that is most consistently for the 5 runs seems to be around 22.\n",
        "\n",
        "For unigrams plus bigrams, the coherence score drops down until 100 and then continuously rises until 500 and continues to rise. Same for bigrams-only."
      ]
    },
    {
      "cell_type": "markdown",
      "metadata": {
        "id": "rF_INicGhXKd"
      },
      "source": [
        "# Doc2Vec"
      ]
    },
    {
      "cell_type": "code",
      "metadata": {
        "id": "wflSccBshkIk"
      },
      "source": [
        "def get_tagged_documents(corpus, tag_sections_and_tunes=False):\n",
        "  if tag_sections_and_tunes:\n",
        "    print('Tagging input data with both section and tune information.')\n",
        "  else:\n",
        "    print('Tagging input data with section informaiton only.')\n",
        "    \n",
        "  for i, tokens in enumerate(corpus):\n",
        "    if tag_sections_and_tunes:\n",
        "      yield gensim.models.doc2vec.TaggedDocument(tokens, [i, f'titleid_{sectionid_to_titleid[i]}'])\n",
        "    else:\n",
        "      yield gensim.models.doc2vec.TaggedDocument(tokens, [i])  # diatonic chord distance is a bit better"
      ],
      "execution_count": null,
      "outputs": []
    },
    {
      "cell_type": "code",
      "metadata": {
        "id": "_u0RdBI1kYD9"
      },
      "source": [
        "train_corpus = list(get_tagged_documents(processed_corpus, doc2vec_config['general']['tag_sections_and_tunes']))\n",
        "train_corpus[1000]"
      ],
      "execution_count": null,
      "outputs": []
    },
    {
      "cell_type": "code",
      "metadata": {
        "id": "M9adPoy9reaw"
      },
      "source": [
        "import multiprocessing\n",
        "\n",
        "print(f\"CPU Count: {multiprocessing.cpu_count()}\")\n",
        "print(f\"Config:\")\n",
        "print(doc2vec_config['model'])\n",
        "\n",
        "model = Doc2Vec(train_corpus,\n",
        "                **doc2vec_config['model']\n",
        "                )"
      ],
      "execution_count": null,
      "outputs": []
    },
    {
      "cell_type": "code",
      "metadata": {
        "id": "G-cE7gug1Ct5"
      },
      "source": [
        "if use_wandb:\n",
        "  model_artifact = wandb.Artifact(\n",
        "      \"model_doc2vec\", \n",
        "      type=\"model\",\n",
        "      description=\"Doc2Vec model\",\n",
        "      metadata=\"\")\n",
        "\n",
        "  fname = 'doc2vec.model'\n",
        "  model.save(fname)\n",
        "\n",
        "  model_artifact.add_file(fname)\n",
        "  wandb.log_artifact(model_artifact)"
      ],
      "execution_count": null,
      "outputs": []
    },
    {
      "cell_type": "markdown",
      "metadata": {
        "id": "jJvq2K93xAO5"
      },
      "source": [
        "### Test the distance between C and the diatonic chords\n",
        "\n",
        "Test if the model can capture that the diatonic chords are closer to the root.\n",
        "\n",
        "Do this only if the input corpus contains the unigrams. "
      ]
    },
    {
      "cell_type": "code",
      "metadata": {
        "id": "cH3TJxCfvoFm"
      },
      "source": [
        "test_tokens = ['C',\n",
        "              'Dm',\n",
        "              'Em',\n",
        "              'F',\n",
        "              'G7',\n",
        "              'Am',\n",
        "              #'Bm7b5',\n",
        "              'F7',\n",
        "              'D7',\n",
        "              'A7',\n",
        "              'E7',\n",
        "              'B7',\n",
        "              'F#7',\n",
        "               'Cm',\n",
        "               'D']\n",
        "\n",
        "if 1 in ngrams_for_input:\n",
        "  ref = 'C'\n",
        "  for t in test_tokens:\n",
        "    print(f\"{model.wv.similarity(ref, t):.3f}: {ref} <-> {t}\")"
      ],
      "execution_count": null,
      "outputs": []
    },
    {
      "cell_type": "code",
      "metadata": {
        "id": "IfIRoWL4kpcB"
      },
      "source": [
        "if 1 in ngrams_for_input:\n",
        "  print(model.wv.similar_by_word('C', topn=20))"
      ],
      "execution_count": null,
      "outputs": []
    },
    {
      "cell_type": "code",
      "metadata": {
        "id": "Y3ekrldg7c8k"
      },
      "source": [
        "if 1 in ngrams_for_input:\n",
        "  # 20 closest chords to 'C'\n",
        "  vectors = []\n",
        "  chord_names = []\n",
        "  similar_chords = model.wv.similar_by_word('C', topn=10)\n",
        "  for c in similar_chords:\n",
        "    vectors.append(model.wv.get_vector(c[0]))\n",
        "    chord_names.append(c[0])\n",
        "\n",
        "  weights = np.array(vectors)\n"
      ],
      "execution_count": null,
      "outputs": []
    },
    {
      "cell_type": "markdown",
      "metadata": {
        "id": "ix4n9S3_xQzD"
      },
      "source": [
        "Plot the generated word vectors in 2D space"
      ]
    },
    {
      "cell_type": "code",
      "metadata": {
        "id": "JjT_uNh0wthj"
      },
      "source": [
        "from sklearn.manifold import TSNE\n",
        "\n",
        "# input data: vectors for all tokens\n",
        "weights = model.wv.vectors\n",
        "\n",
        "# only do this when the vocabulary is not too big....\n",
        "if len(weights) < 100:\n",
        "\n",
        "  # do T-SNE\n",
        "  tsne = TSNE(n_components=2, \n",
        "              random_state=42,\n",
        "              perplexity=30,\n",
        "              learning_rate='auto',\n",
        "              init='pca',\n",
        "              n_iter=2000\n",
        "              )\n",
        "  T = tsne.fit_transform(weights)\n",
        "\n",
        "  # plot\n",
        "  projected = pd.DataFrame(T)\n",
        "\n",
        "  fig = px.scatter(\n",
        "      projected, \n",
        "      x=0, y=1,\n",
        "      #color='mode',\n",
        "      text=model.wv.index_to_key,\n",
        "      width=800, height=600,\n",
        "      title=\"T-SNE applied to Chord Vectors for Tunes in Cmaj/Amin\"\n",
        "  )\n",
        "  fig.update_traces(textposition='top center')\n",
        "  fig.update_traces(textfont_size=12, selector=dict(type='scatter'))\n",
        "  fig.show()"
      ],
      "execution_count": null,
      "outputs": []
    },
    {
      "cell_type": "markdown",
      "metadata": {
        "id": "ajqb904KDwNV"
      },
      "source": [
        "## Section Similarity\n"
      ]
    },
    {
      "cell_type": "markdown",
      "metadata": {
        "id": "HS_k1g6ujjKP"
      },
      "source": [
        "### Single Tunes"
      ]
    },
    {
      "cell_type": "code",
      "metadata": {
        "id": "mPnEPL_k4TZn"
      },
      "source": [
        "def get_section_scores_doc2vec(tunes):\n",
        "\n",
        "  df_sim = pd.DataFrame(columns=['reference_title',\n",
        "                                  'reference_titleid',\n",
        "                                  'similar_title',\n",
        "                                  'similar_titleid',\n",
        "                                  'ref_section', \n",
        "                                  'ref_section_label',\n",
        "                                  'ref_sectionid',\n",
        "                                  'similar_section',\n",
        "                                  'similar_section_label',\n",
        "                                  'similar_sectionid',\n",
        "                                  'score', \n",
        "                                ])\n",
        "\n",
        "  tag_sections_and_tunes = doc2vec_config['general']['tag_sections_and_tunes']\n",
        "\n",
        "  ### get titleid from tunes, use enumerate\n",
        "\n",
        "  for tune in tunes:\n",
        "    print()\n",
        "    print(\"-\"*50)\n",
        "    for s1 in title_to_sectionid[tune]:\n",
        "    \n",
        "      # sections are tagged with the numeric sectionid and can be used for querying\n",
        "      sims = model.dv.similar_by_key(s1, topn=20)\n",
        "      \n",
        "      print(s1, sectionid_to_section[s1])\n",
        "      n = 0\n",
        "      for s2, s2_score in sims:\n",
        "\n",
        "        # if the sections are tagged with both sectionid and tuneid:\n",
        "        if tag_sections_and_tunes:\n",
        "          # only consider similarities to tuneids, ignore sectionids\n",
        "          if type(s2) == str: \n",
        "            s2 = int(s2.replace('titleid_', ''))\n",
        "            # don't count self-similarity between sections of the same tune\n",
        "            if s2 not in title_to_sectionid[tune]:\n",
        "              n += 1\n",
        "          \n",
        "              # print(f\"\\t{s2_score:.3f} {sectionid_to_section[s2]}\")\n",
        "\n",
        "              df_sim.loc[len(df_sim)] = [tune,\n",
        "                                          title_to_titleid[tune],\n",
        "                                          sectionid_to_title[s2],\n",
        "                                          sectionid_to_titleid[s2],\n",
        "                                          sectionid_to_section[s1],\n",
        "                                          sectionid_to_sectionlabel[s1],\n",
        "                                          s1,\n",
        "                                          sectionid_to_section[s2], \n",
        "                                          sectionid_to_sectionlabel[s2],\n",
        "                                          s2,\n",
        "                                          s2_score, \n",
        "                                          ]\n",
        "        else:\n",
        "          if type(s2) == int: \n",
        "            # don't count self-similarity between sections of the same tune\n",
        "            if s2 not in title_to_sectionid[tune]:\n",
        "              n += 1\n",
        "          \n",
        "              # print(f\"\\t{s2_score:.3f} {sectionid_to_section[s2]}\")\n",
        "\n",
        "              df_sim.loc[len(df_sim)] = [tune,\n",
        "                                          title_to_titleid[tune],\n",
        "                                          sectionid_to_title[s2],\n",
        "                                          sectionid_to_titleid[s2],\n",
        "                                          sectionid_to_section[s1],\n",
        "                                          sectionid_to_sectionlabel[s1],\n",
        "                                          s1,\n",
        "                                          sectionid_to_section[s2], \n",
        "                                          sectionid_to_sectionlabel[s2],\n",
        "                                          s2,\n",
        "                                          s2_score,  \n",
        "                                          ]            \n",
        "\n",
        "  print()\n",
        "  if tag_sections_and_tunes:\n",
        "    print(f\"Sections are tagged with the tune id, therefore only the tune similarity is evaluated.\")\n",
        "  else:\n",
        "    print(f\"Sections are tagged only with the section id, therefore only section similarity is evaluated.\")\n",
        "\n",
        "  return df_sim"
      ],
      "execution_count": null,
      "outputs": []
    },
    {
      "cell_type": "code",
      "metadata": {
        "id": "i_d92il649O9"
      },
      "source": [
        "_tunes = tunes_eval_list\n",
        "\n",
        "df_sim = get_section_scores_doc2vec(_tunes)\n",
        "\n",
        "result = None\n",
        "for tune in _tunes:\n",
        "  tune_result, details = recommend_tune(df_sim, tune)\n",
        "  if result is None:\n",
        "    result = pd.DataFrame(columns=tune_result.columns)\n",
        "  result = result.append(tune_result)\n",
        "\n",
        "print(f\"Result has {len(result)} rows.\")\n",
        "\n",
        "# save a copy of the results; all results will be concatenated at the end\n",
        "df_doc2vec = df_sim[:]"
      ],
      "execution_count": null,
      "outputs": []
    },
    {
      "cell_type": "code",
      "metadata": {
        "id": "n4dv7VVe5NT4"
      },
      "source": [
        "import plotly.express as px\n",
        "fig = px.histogram(df_sim, x=\"score\", nbins=50, title='doc2vec sections')\n",
        "fig.show()"
      ],
      "execution_count": null,
      "outputs": []
    },
    {
      "cell_type": "code",
      "metadata": {
        "id": "OKeaqYxGPMZj"
      },
      "source": [
        "if use_wandb:\n",
        "  wandb.log({\"scores_hist\": fig})"
      ],
      "execution_count": null,
      "outputs": []
    },
    {
      "cell_type": "code",
      "metadata": {
        "id": "DgV3ccDr5Ux4"
      },
      "source": [
        "result, details = recommend_tune(df_sim, 'On The Sunny Side Of The Street [jazz1350]')\n",
        "result.head(10)"
      ],
      "execution_count": null,
      "outputs": []
    },
    {
      "cell_type": "code",
      "metadata": {
        "id": "hLFaFo62XlMS"
      },
      "source": [
        "dd = pd.DataFrame(columns = recommender_results_cols)\n",
        "\n",
        "for tune in tunes_eval_list:\n",
        "  result, details = recommend_tune(df_sim, tune)\n",
        "  dd['id'] = result['index']\n",
        "  dd['reference'] = tune\n",
        "  dd['method'] = 'doc2vec'\n",
        "  dd['similar'] = result['similar_title']\n",
        "  dd['score_div_max'] = result['score_div_max']\n",
        "  dd['score'] = result['score']\n",
        "\n",
        "recommender_results = recommender_results.append(dd)\n",
        "len(recommender_results)"
      ],
      "execution_count": null,
      "outputs": []
    },
    {
      "cell_type": "markdown",
      "metadata": {
        "id": "aosPKEWljlm0"
      },
      "source": [
        "### Contrafacts"
      ]
    },
    {
      "cell_type": "code",
      "metadata": {
        "id": "SaYSqTJokGc5"
      },
      "source": [
        "def test_doc2vec_contrafacts(tunes, N=15):\n",
        "  \"\"\"\n",
        "  Evaluates if the expected tune matches by either a tune similarity or section similarity match.\n",
        "  \"\"\"\n",
        "\n",
        "  matches = 0\n",
        "  number_of_sections = 0\n",
        "  results = {}\n",
        "\n",
        "  for tune, similar_tune in contrafacts:\n",
        "    \n",
        "    # loop over all sections of the tune\n",
        "    sub_match = 0\n",
        "    for s1 in title_to_sectionid[tune]:\n",
        "      sims = model.dv.similar_by_key(s1, topn=N)\n",
        "      # check if the section matches the expected title; consider only the first N recommendations\n",
        "      i = 0\n",
        "      for match, value in sims:\n",
        "        # tune match\n",
        "        if (type(match) == str):\n",
        "          titleid = int(match.replace('titleid_', ''))\n",
        "          if titleid_to_title[titleid] == similar_tune:\n",
        "            sub_match += 1\n",
        "\n",
        "        # section match\n",
        "        else:\n",
        "          if sectionid_to_title[match] == similar_tune:\n",
        "            sub_match += 1\n",
        "\n",
        "    # for each title, increase matches if at least one of the section matched the expected title\n",
        "    if sub_match > 0:\n",
        "      matches += 1  \n",
        "      results[f'{tune}, {similar_tune}'] = 1\n",
        "    else:\n",
        "      results[f'{tune}, {similar_tune}'] = 0\n",
        "  \n",
        "  return matches, results"
      ],
      "execution_count": null,
      "outputs": []
    },
    {
      "cell_type": "code",
      "metadata": {
        "id": "eAjM3lU4ltzP"
      },
      "source": [
        "topN = 20\n",
        "matches, results = test_doc2vec_contrafacts(contrafacts, topN)\n",
        " \n",
        "print(f\"Found matches: {matches} out of {len(results)}: {100*matches/len(results):.3f}%\")\n",
        "print() \n",
        "for rr, val in results.items():\n",
        "  if val == 0:\n",
        "    print(f\"{val}: {rr}\")\n"
      ],
      "execution_count": null,
      "outputs": []
    },
    {
      "cell_type": "code",
      "metadata": {
        "id": "8C0kzj0Jp425"
      },
      "source": [
        "model_name = 'doc2vec'\n",
        "if use_wandb:\n",
        "  wandb.log(\n",
        "      {model_name: {\n",
        "                'contrafacts': {\n",
        "                    'topN': topN,\n",
        "                    'success': matches/len(contrafacts),\n",
        "                    #'results': results\n",
        "                    }\n",
        "                   },\n",
        "       'all_models': {\n",
        "           model_name: wandb.Table(\n",
        "               columns=[\"Title\", \"Match\"],\n",
        "               data=[[key, value] for key, value in results.items()]),\n",
        "       }\n",
        "       })"
      ],
      "execution_count": null,
      "outputs": []
    },
    {
      "cell_type": "markdown",
      "metadata": {
        "id": "_UzVV5yn4Q-K"
      },
      "source": [
        "### Save Results for WebApp"
      ]
    },
    {
      "cell_type": "code",
      "metadata": {
        "id": "g1zPB9-05bvQ"
      },
      "source": [
        "%%time\n",
        "if False:\n",
        "  #_tunes = list(tunes['title_playlist'].values())\n",
        "  _tunes = tunes_eval_list\n",
        "\n",
        "  method = 'doc2vec'\n",
        "\n",
        "  df_sim = get_section_scores_doc2vec(_tunes)\n",
        "\n",
        "  # save to file\n",
        "  (df_sim\n",
        "   .loc[:,['reference_title',\n",
        "           'reference_titleid',\n",
        "           'similar_title',\n",
        "           'similar_titleid',\n",
        "           'ref_section_label',\n",
        "           'similar_section_label',\n",
        "           'score'\n",
        "           ]]\n",
        "   .reset_index()\n",
        "   .groupby(['reference_titleid', 'reference_title', \n",
        "             'similar_titleid','similar_title', \n",
        "             'ref_section_label', 'similar_section_label'])\n",
        "   .max('score')\n",
        "   .sort_values('score', ascending=False)\n",
        "   .reset_index()\n",
        "   .to_csv(f'output/recommender_{method}.csv', encoding='utf8')\n",
        "  )\n",
        "\n",
        "  with zipfile.ZipFile(f'output/recommender_{method}.zip', 'w') as zf:\n",
        "    zf.write(f'output/recommender_{method}.csv')\n",
        "\n",
        "  # save to wandb\n",
        "  if use_wandb:\n",
        "    model_artifact = wandb.Artifact(\n",
        "        f\"recommender_{method}\", \n",
        "        type=\"csv\",\n",
        "        description=f\"Recommendations for each Tune using {method} Model (csv file)\",\n",
        "        metadata=\"\")\n",
        "\n",
        "    model_artifact.add_file(f'output/recommender_{method}.zip')\n",
        "    wandb.log_artifact(model_artifact)"
      ],
      "execution_count": null,
      "outputs": []
    },
    {
      "cell_type": "code",
      "metadata": {
        "id": "nS_bRwHehOUr"
      },
      "source": [
        "%%time\n",
        "if True:\n",
        "  #_tunes = list(tunes['title_playlist'].values())\n",
        "  _tunes = tunes_eval_list\n",
        "\n",
        "  method = 'doc2vec'\n",
        "\n",
        "  df_sim = get_section_scores_doc2vec(_tunes)\n",
        "\n",
        "  result = None\n",
        "  for tune in _tunes:\n",
        "    tune_result, details = recommend_tune(df_sim, tune)\n",
        "    if result is None:\n",
        "      result = pd.DataFrame(columns=tune_result.columns)\n",
        "    result = result.append(tune_result)\n",
        "\n",
        "  # save to file\n",
        "  (result\n",
        "   .loc[:,['reference_titleid',\n",
        "           'similar_titleid',\n",
        "           'score']]\n",
        "   .to_csv(f'output/recommender_{method}.csv', encoding='utf8')\n",
        "  )\n",
        "  with zipfile.ZipFile(f'output/recommender_{method}.zip', 'w') as zf:\n",
        "    zf.write(f'output/recommender_{method}.csv')\n",
        "\n",
        "\n",
        "  # save to wandb\n",
        "  if use_wandb:\n",
        "    model_artifact = wandb.Artifact(\n",
        "        f\"recommender_{method}\", \n",
        "        type=\"csv\",\n",
        "        description=f\"Recommendations for each Tune using {method} Model (csv file)\",\n",
        "        metadata=\"\")\n",
        "\n",
        "    model_artifact.add_file(f'output/recommender_{method}.zip')\n",
        "    wandb.log_artifact(model_artifact)"
      ],
      "execution_count": null,
      "outputs": []
    },
    {
      "cell_type": "markdown",
      "metadata": {
        "id": "XmDZT5t7gjgV"
      },
      "source": [
        "# Venn diagrams for Results"
      ]
    },
    {
      "cell_type": "code",
      "metadata": {
        "id": "U6WrsBcc00ar"
      },
      "source": [
        "import matplotlib.pyplot as plt\n",
        "from matplotlib_venn import venn3\n",
        "\n",
        "if False:\n",
        "  for tune in tunes_eval_list:\n",
        "    df, details = recommend_tune(df_tfidf, tune)\n",
        "    tfidf_tunes = list(df.head(30).loc[:,'similar_title'])\n",
        "\n",
        "    df, details = recommend_tune(df_lsi, tune)\n",
        "    lsi_tunes = list(df.head(30).loc[:,'similar_title'])\n",
        "\n",
        "    df, details = recommend_tune(df_doc2vec, tune)\n",
        "    word2vec_tunes = list(df.head(30).loc[:,'similar_title'])\n",
        "\n",
        "    set_tfidf = set(tfidf_tunes)\n",
        "    set_lsi = set(lsi_tunes)\n",
        "    set_word2vec = set(word2vec_tunes)\n",
        "\n",
        "    venn3([set_tfidf, set_lsi, set_word2vec], \n",
        "          set_labels=('TF-IDF', 'LSI', 'Doc2Vec'),\n",
        "          )\n",
        "    plt.title(f\"{tune}\")\n",
        "    plt.savefig('plot.png')\n",
        "    \n",
        "    if use_wandb:\n",
        "      wandb.log({\"venn_methods\": wandb.Image('plot.png')})\n",
        "    \n",
        "    plt.show()"
      ],
      "execution_count": null,
      "outputs": []
    },
    {
      "cell_type": "markdown",
      "metadata": {
        "id": "RhOWHSEU0DQH"
      },
      "source": [
        "# W&B Logging and Finish"
      ]
    },
    {
      "cell_type": "code",
      "metadata": {
        "id": "YMUDRHkm0aMV"
      },
      "source": [
        "if use_wandb:\n",
        "  wandb.finish()"
      ],
      "execution_count": null,
      "outputs": []
    },
    {
      "cell_type": "code",
      "metadata": {
        "id": "Vn_SFyKt0bYx"
      },
      "source": [
        "\n"
      ],
      "execution_count": null,
      "outputs": []
    },
    {
      "cell_type": "code",
      "metadata": {
        "id": "OaSXwXe9ptGr"
      },
      "source": [
        "\n"
      ],
      "execution_count": null,
      "outputs": []
    },
    {
      "cell_type": "code",
      "metadata": {
        "id": "I_3n7hZ0OF-r"
      },
      "source": [
        ""
      ],
      "execution_count": null,
      "outputs": []
    }
  ]
}