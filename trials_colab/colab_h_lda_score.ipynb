{
  "nbformat": 4,
  "nbformat_minor": 0,
  "metadata": {
    "colab": {
      "name": "colab_g_recommender_score",
      "provenance": [],
      "toc_visible": true,
      "authorship_tag": "ABX9TyOl6CP194eW+h0rzaUMwj0L",
      "include_colab_link": true
    },
    "kernelspec": {
      "name": "python3",
      "display_name": "Python 3"
    },
    "language_info": {
      "name": "python"
    },
    "accelerator": "TPU",
    "widgets": {
      "application/vnd.jupyter.widget-state+json": {
        "4f1ff6629f5f474a9c10f69043e7e694": {
          "model_module": "@jupyter-widgets/controls",
          "model_name": "VBoxModel",
          "model_module_version": "1.5.0",
          "state": {
            "_view_name": "VBoxView",
            "_dom_classes": [],
            "_model_name": "VBoxModel",
            "_view_module": "@jupyter-widgets/controls",
            "_model_module_version": "1.5.0",
            "_view_count": null,
            "_view_module_version": "1.5.0",
            "box_style": "",
            "layout": "IPY_MODEL_d41f0169c8724ff7893fa8a162d0b432",
            "_model_module": "@jupyter-widgets/controls",
            "children": [
              "IPY_MODEL_72ad786e4c0546c9b6f349d4c460c3f6",
              "IPY_MODEL_b76b00e317b04f22ae85da3f477a11af"
            ]
          }
        },
        "d41f0169c8724ff7893fa8a162d0b432": {
          "model_module": "@jupyter-widgets/base",
          "model_name": "LayoutModel",
          "model_module_version": "1.2.0",
          "state": {
            "_view_name": "LayoutView",
            "grid_template_rows": null,
            "right": null,
            "justify_content": null,
            "_view_module": "@jupyter-widgets/base",
            "overflow": null,
            "_model_module_version": "1.2.0",
            "_view_count": null,
            "flex_flow": null,
            "width": null,
            "min_width": null,
            "border": null,
            "align_items": null,
            "bottom": null,
            "_model_module": "@jupyter-widgets/base",
            "top": null,
            "grid_column": null,
            "overflow_y": null,
            "overflow_x": null,
            "grid_auto_flow": null,
            "grid_area": null,
            "grid_template_columns": null,
            "flex": null,
            "_model_name": "LayoutModel",
            "justify_items": null,
            "grid_row": null,
            "max_height": null,
            "align_content": null,
            "visibility": null,
            "align_self": null,
            "height": null,
            "min_height": null,
            "padding": null,
            "grid_auto_rows": null,
            "grid_gap": null,
            "max_width": null,
            "order": null,
            "_view_module_version": "1.2.0",
            "grid_template_areas": null,
            "object_position": null,
            "object_fit": null,
            "grid_auto_columns": null,
            "margin": null,
            "display": null,
            "left": null
          }
        },
        "72ad786e4c0546c9b6f349d4c460c3f6": {
          "model_module": "@jupyter-widgets/controls",
          "model_name": "LabelModel",
          "model_module_version": "1.5.0",
          "state": {
            "_view_name": "LabelView",
            "style": "IPY_MODEL_5d93a8f05c974ed4a04dce8245cf9a17",
            "_dom_classes": [],
            "description": "",
            "_model_name": "LabelModel",
            "placeholder": "​",
            "_view_module": "@jupyter-widgets/controls",
            "_model_module_version": "1.5.0",
            "value": " 0.01MB of 0.01MB uploaded (0.00MB deduped)\r",
            "_view_count": null,
            "_view_module_version": "1.5.0",
            "description_tooltip": null,
            "_model_module": "@jupyter-widgets/controls",
            "layout": "IPY_MODEL_cfbe4d8e42ab4dc7a2748b6fc2ccbf77"
          }
        },
        "b76b00e317b04f22ae85da3f477a11af": {
          "model_module": "@jupyter-widgets/controls",
          "model_name": "FloatProgressModel",
          "model_module_version": "1.5.0",
          "state": {
            "_view_name": "ProgressView",
            "style": "IPY_MODEL_8de94e257fd14f98afe2b8631b6b0efe",
            "_dom_classes": [],
            "description": "",
            "_model_name": "FloatProgressModel",
            "bar_style": "",
            "max": 1,
            "_view_module": "@jupyter-widgets/controls",
            "_model_module_version": "1.5.0",
            "value": 1,
            "_view_count": null,
            "_view_module_version": "1.5.0",
            "orientation": "horizontal",
            "min": 0,
            "description_tooltip": null,
            "_model_module": "@jupyter-widgets/controls",
            "layout": "IPY_MODEL_15564d92912e4ab694205769e81e2c29"
          }
        },
        "5d93a8f05c974ed4a04dce8245cf9a17": {
          "model_module": "@jupyter-widgets/controls",
          "model_name": "DescriptionStyleModel",
          "model_module_version": "1.5.0",
          "state": {
            "_view_name": "StyleView",
            "_model_name": "DescriptionStyleModel",
            "description_width": "",
            "_view_module": "@jupyter-widgets/base",
            "_model_module_version": "1.5.0",
            "_view_count": null,
            "_view_module_version": "1.2.0",
            "_model_module": "@jupyter-widgets/controls"
          }
        },
        "cfbe4d8e42ab4dc7a2748b6fc2ccbf77": {
          "model_module": "@jupyter-widgets/base",
          "model_name": "LayoutModel",
          "model_module_version": "1.2.0",
          "state": {
            "_view_name": "LayoutView",
            "grid_template_rows": null,
            "right": null,
            "justify_content": null,
            "_view_module": "@jupyter-widgets/base",
            "overflow": null,
            "_model_module_version": "1.2.0",
            "_view_count": null,
            "flex_flow": null,
            "width": null,
            "min_width": null,
            "border": null,
            "align_items": null,
            "bottom": null,
            "_model_module": "@jupyter-widgets/base",
            "top": null,
            "grid_column": null,
            "overflow_y": null,
            "overflow_x": null,
            "grid_auto_flow": null,
            "grid_area": null,
            "grid_template_columns": null,
            "flex": null,
            "_model_name": "LayoutModel",
            "justify_items": null,
            "grid_row": null,
            "max_height": null,
            "align_content": null,
            "visibility": null,
            "align_self": null,
            "height": null,
            "min_height": null,
            "padding": null,
            "grid_auto_rows": null,
            "grid_gap": null,
            "max_width": null,
            "order": null,
            "_view_module_version": "1.2.0",
            "grid_template_areas": null,
            "object_position": null,
            "object_fit": null,
            "grid_auto_columns": null,
            "margin": null,
            "display": null,
            "left": null
          }
        },
        "8de94e257fd14f98afe2b8631b6b0efe": {
          "model_module": "@jupyter-widgets/controls",
          "model_name": "ProgressStyleModel",
          "model_module_version": "1.5.0",
          "state": {
            "_view_name": "StyleView",
            "_model_name": "ProgressStyleModel",
            "description_width": "",
            "_view_module": "@jupyter-widgets/base",
            "_model_module_version": "1.5.0",
            "_view_count": null,
            "_view_module_version": "1.2.0",
            "bar_color": null,
            "_model_module": "@jupyter-widgets/controls"
          }
        },
        "15564d92912e4ab694205769e81e2c29": {
          "model_module": "@jupyter-widgets/base",
          "model_name": "LayoutModel",
          "model_module_version": "1.2.0",
          "state": {
            "_view_name": "LayoutView",
            "grid_template_rows": null,
            "right": null,
            "justify_content": null,
            "_view_module": "@jupyter-widgets/base",
            "overflow": null,
            "_model_module_version": "1.2.0",
            "_view_count": null,
            "flex_flow": null,
            "width": null,
            "min_width": null,
            "border": null,
            "align_items": null,
            "bottom": null,
            "_model_module": "@jupyter-widgets/base",
            "top": null,
            "grid_column": null,
            "overflow_y": null,
            "overflow_x": null,
            "grid_auto_flow": null,
            "grid_area": null,
            "grid_template_columns": null,
            "flex": null,
            "_model_name": "LayoutModel",
            "justify_items": null,
            "grid_row": null,
            "max_height": null,
            "align_content": null,
            "visibility": null,
            "align_self": null,
            "height": null,
            "min_height": null,
            "padding": null,
            "grid_auto_rows": null,
            "grid_gap": null,
            "max_width": null,
            "order": null,
            "_view_module_version": "1.2.0",
            "grid_template_areas": null,
            "object_position": null,
            "object_fit": null,
            "grid_auto_columns": null,
            "margin": null,
            "display": null,
            "left": null
          }
        },
        "d5d8e9791dd24c238bb48b9829687b49": {
          "model_module": "@jupyter-widgets/controls",
          "model_name": "VBoxModel",
          "model_module_version": "1.5.0",
          "state": {
            "_view_name": "VBoxView",
            "_dom_classes": [],
            "_model_name": "VBoxModel",
            "_view_module": "@jupyter-widgets/controls",
            "_model_module_version": "1.5.0",
            "_view_count": null,
            "_view_module_version": "1.5.0",
            "box_style": "",
            "layout": "IPY_MODEL_83a7ec23412648c0b5fb565a35bdf3a0",
            "_model_module": "@jupyter-widgets/controls",
            "children": [
              "IPY_MODEL_17f26237c7d44d00b5bb8206feec4bb9",
              "IPY_MODEL_913737cb44ad4fc88b2afcaa06a54cf5"
            ]
          }
        },
        "83a7ec23412648c0b5fb565a35bdf3a0": {
          "model_module": "@jupyter-widgets/base",
          "model_name": "LayoutModel",
          "model_module_version": "1.2.0",
          "state": {
            "_view_name": "LayoutView",
            "grid_template_rows": null,
            "right": null,
            "justify_content": null,
            "_view_module": "@jupyter-widgets/base",
            "overflow": null,
            "_model_module_version": "1.2.0",
            "_view_count": null,
            "flex_flow": null,
            "width": null,
            "min_width": null,
            "border": null,
            "align_items": null,
            "bottom": null,
            "_model_module": "@jupyter-widgets/base",
            "top": null,
            "grid_column": null,
            "overflow_y": null,
            "overflow_x": null,
            "grid_auto_flow": null,
            "grid_area": null,
            "grid_template_columns": null,
            "flex": null,
            "_model_name": "LayoutModel",
            "justify_items": null,
            "grid_row": null,
            "max_height": null,
            "align_content": null,
            "visibility": null,
            "align_self": null,
            "height": null,
            "min_height": null,
            "padding": null,
            "grid_auto_rows": null,
            "grid_gap": null,
            "max_width": null,
            "order": null,
            "_view_module_version": "1.2.0",
            "grid_template_areas": null,
            "object_position": null,
            "object_fit": null,
            "grid_auto_columns": null,
            "margin": null,
            "display": null,
            "left": null
          }
        },
        "17f26237c7d44d00b5bb8206feec4bb9": {
          "model_module": "@jupyter-widgets/controls",
          "model_name": "LabelModel",
          "model_module_version": "1.5.0",
          "state": {
            "_view_name": "LabelView",
            "style": "IPY_MODEL_fdc53c6dbdb2428a936973c8c7fbdba5",
            "_dom_classes": [],
            "description": "",
            "_model_name": "LabelModel",
            "placeholder": "​",
            "_view_module": "@jupyter-widgets/controls",
            "_model_module_version": "1.5.0",
            "value": " 1.02MB of 1.02MB uploaded (0.00MB deduped)\r",
            "_view_count": null,
            "_view_module_version": "1.5.0",
            "description_tooltip": null,
            "_model_module": "@jupyter-widgets/controls",
            "layout": "IPY_MODEL_9f2e53ebf9184344b993957dc2abc112"
          }
        },
        "913737cb44ad4fc88b2afcaa06a54cf5": {
          "model_module": "@jupyter-widgets/controls",
          "model_name": "FloatProgressModel",
          "model_module_version": "1.5.0",
          "state": {
            "_view_name": "ProgressView",
            "style": "IPY_MODEL_2357ba5094c849e29a793aa84493a08c",
            "_dom_classes": [],
            "description": "",
            "_model_name": "FloatProgressModel",
            "bar_style": "",
            "max": 1,
            "_view_module": "@jupyter-widgets/controls",
            "_model_module_version": "1.5.0",
            "value": 1,
            "_view_count": null,
            "_view_module_version": "1.5.0",
            "orientation": "horizontal",
            "min": 0,
            "description_tooltip": null,
            "_model_module": "@jupyter-widgets/controls",
            "layout": "IPY_MODEL_9f954a6d733049e2904852da7df023b7"
          }
        },
        "fdc53c6dbdb2428a936973c8c7fbdba5": {
          "model_module": "@jupyter-widgets/controls",
          "model_name": "DescriptionStyleModel",
          "model_module_version": "1.5.0",
          "state": {
            "_view_name": "StyleView",
            "_model_name": "DescriptionStyleModel",
            "description_width": "",
            "_view_module": "@jupyter-widgets/base",
            "_model_module_version": "1.5.0",
            "_view_count": null,
            "_view_module_version": "1.2.0",
            "_model_module": "@jupyter-widgets/controls"
          }
        },
        "9f2e53ebf9184344b993957dc2abc112": {
          "model_module": "@jupyter-widgets/base",
          "model_name": "LayoutModel",
          "model_module_version": "1.2.0",
          "state": {
            "_view_name": "LayoutView",
            "grid_template_rows": null,
            "right": null,
            "justify_content": null,
            "_view_module": "@jupyter-widgets/base",
            "overflow": null,
            "_model_module_version": "1.2.0",
            "_view_count": null,
            "flex_flow": null,
            "width": null,
            "min_width": null,
            "border": null,
            "align_items": null,
            "bottom": null,
            "_model_module": "@jupyter-widgets/base",
            "top": null,
            "grid_column": null,
            "overflow_y": null,
            "overflow_x": null,
            "grid_auto_flow": null,
            "grid_area": null,
            "grid_template_columns": null,
            "flex": null,
            "_model_name": "LayoutModel",
            "justify_items": null,
            "grid_row": null,
            "max_height": null,
            "align_content": null,
            "visibility": null,
            "align_self": null,
            "height": null,
            "min_height": null,
            "padding": null,
            "grid_auto_rows": null,
            "grid_gap": null,
            "max_width": null,
            "order": null,
            "_view_module_version": "1.2.0",
            "grid_template_areas": null,
            "object_position": null,
            "object_fit": null,
            "grid_auto_columns": null,
            "margin": null,
            "display": null,
            "left": null
          }
        },
        "2357ba5094c849e29a793aa84493a08c": {
          "model_module": "@jupyter-widgets/controls",
          "model_name": "ProgressStyleModel",
          "model_module_version": "1.5.0",
          "state": {
            "_view_name": "StyleView",
            "_model_name": "ProgressStyleModel",
            "description_width": "",
            "_view_module": "@jupyter-widgets/base",
            "_model_module_version": "1.5.0",
            "_view_count": null,
            "_view_module_version": "1.2.0",
            "bar_color": null,
            "_model_module": "@jupyter-widgets/controls"
          }
        },
        "9f954a6d733049e2904852da7df023b7": {
          "model_module": "@jupyter-widgets/base",
          "model_name": "LayoutModel",
          "model_module_version": "1.2.0",
          "state": {
            "_view_name": "LayoutView",
            "grid_template_rows": null,
            "right": null,
            "justify_content": null,
            "_view_module": "@jupyter-widgets/base",
            "overflow": null,
            "_model_module_version": "1.2.0",
            "_view_count": null,
            "flex_flow": null,
            "width": null,
            "min_width": null,
            "border": null,
            "align_items": null,
            "bottom": null,
            "_model_module": "@jupyter-widgets/base",
            "top": null,
            "grid_column": null,
            "overflow_y": null,
            "overflow_x": null,
            "grid_auto_flow": null,
            "grid_area": null,
            "grid_template_columns": null,
            "flex": null,
            "_model_name": "LayoutModel",
            "justify_items": null,
            "grid_row": null,
            "max_height": null,
            "align_content": null,
            "visibility": null,
            "align_self": null,
            "height": null,
            "min_height": null,
            "padding": null,
            "grid_auto_rows": null,
            "grid_gap": null,
            "max_width": null,
            "order": null,
            "_view_module_version": "1.2.0",
            "grid_template_areas": null,
            "object_position": null,
            "object_fit": null,
            "grid_auto_columns": null,
            "margin": null,
            "display": null,
            "left": null
          }
        }
      }
    }
  },
  "cells": [
    {
      "cell_type": "markdown",
      "metadata": {
        "id": "view-in-github",
        "colab_type": "text"
      },
      "source": [
        "<a href=\"https://colab.research.google.com/github/11doris/jazz-maestro/blob/colab_word_embeddings/colab_h_lda_score.ipynb\" target=\"_parent\"><img src=\"https://colab.research.google.com/assets/colab-badge.svg\" alt=\"Open In Colab\"/></a>"
      ]
    },
    {
      "cell_type": "markdown",
      "metadata": {
        "id": "YGhakKpa8Dtf"
      },
      "source": [
        "# Sections as Input"
      ]
    },
    {
      "cell_type": "code",
      "metadata": {
        "colab": {
          "base_uri": "https://localhost:8080/"
        },
        "id": "dm5QehpXxo31",
        "outputId": "9aa4fc46-57bb-498e-c9b4-af8e7670aea1"
      },
      "source": [
        "pip install wandb"
      ],
      "execution_count": 1,
      "outputs": [
        {
          "output_type": "stream",
          "name": "stdout",
          "text": [
            "Requirement already satisfied: wandb in /usr/local/lib/python3.7/dist-packages (0.12.7)\n",
            "Requirement already satisfied: python-dateutil>=2.6.1 in /usr/local/lib/python3.7/dist-packages (from wandb) (2.8.2)\n",
            "Requirement already satisfied: promise<3,>=2.0 in /usr/local/lib/python3.7/dist-packages (from wandb) (2.3)\n",
            "Requirement already satisfied: requests<3,>=2.0.0 in /usr/local/lib/python3.7/dist-packages (from wandb) (2.23.0)\n",
            "Requirement already satisfied: six>=1.13.0 in /usr/local/lib/python3.7/dist-packages (from wandb) (1.15.0)\n",
            "Requirement already satisfied: pathtools in /usr/local/lib/python3.7/dist-packages (from wandb) (0.1.2)\n",
            "Requirement already satisfied: subprocess32>=3.5.3 in /usr/local/lib/python3.7/dist-packages (from wandb) (3.5.4)\n",
            "Requirement already satisfied: GitPython>=1.0.0 in /usr/local/lib/python3.7/dist-packages (from wandb) (3.1.24)\n",
            "Requirement already satisfied: Click!=8.0.0,>=7.0 in /usr/local/lib/python3.7/dist-packages (from wandb) (7.1.2)\n",
            "Requirement already satisfied: psutil>=5.0.0 in /usr/local/lib/python3.7/dist-packages (from wandb) (5.4.8)\n",
            "Requirement already satisfied: docker-pycreds>=0.4.0 in /usr/local/lib/python3.7/dist-packages (from wandb) (0.4.0)\n",
            "Requirement already satisfied: configparser>=3.8.1 in /usr/local/lib/python3.7/dist-packages (from wandb) (5.1.0)\n",
            "Requirement already satisfied: protobuf>=3.12.0 in /usr/local/lib/python3.7/dist-packages (from wandb) (3.17.3)\n",
            "Requirement already satisfied: PyYAML in /usr/local/lib/python3.7/dist-packages (from wandb) (3.13)\n",
            "Requirement already satisfied: yaspin>=1.0.0 in /usr/local/lib/python3.7/dist-packages (from wandb) (2.1.0)\n",
            "Requirement already satisfied: shortuuid>=0.5.0 in /usr/local/lib/python3.7/dist-packages (from wandb) (1.0.8)\n",
            "Requirement already satisfied: sentry-sdk>=1.0.0 in /usr/local/lib/python3.7/dist-packages (from wandb) (1.5.0)\n",
            "Requirement already satisfied: typing-extensions>=3.7.4.3 in /usr/local/lib/python3.7/dist-packages (from GitPython>=1.0.0->wandb) (3.10.0.2)\n",
            "Requirement already satisfied: gitdb<5,>=4.0.1 in /usr/local/lib/python3.7/dist-packages (from GitPython>=1.0.0->wandb) (4.0.9)\n",
            "Requirement already satisfied: smmap<6,>=3.0.1 in /usr/local/lib/python3.7/dist-packages (from gitdb<5,>=4.0.1->GitPython>=1.0.0->wandb) (5.0.0)\n",
            "Requirement already satisfied: chardet<4,>=3.0.2 in /usr/local/lib/python3.7/dist-packages (from requests<3,>=2.0.0->wandb) (3.0.4)\n",
            "Requirement already satisfied: certifi>=2017.4.17 in /usr/local/lib/python3.7/dist-packages (from requests<3,>=2.0.0->wandb) (2021.10.8)\n",
            "Requirement already satisfied: urllib3!=1.25.0,!=1.25.1,<1.26,>=1.21.1 in /usr/local/lib/python3.7/dist-packages (from requests<3,>=2.0.0->wandb) (1.24.3)\n",
            "Requirement already satisfied: idna<3,>=2.5 in /usr/local/lib/python3.7/dist-packages (from requests<3,>=2.0.0->wandb) (2.10)\n",
            "Requirement already satisfied: termcolor<2.0.0,>=1.1.0 in /usr/local/lib/python3.7/dist-packages (from yaspin>=1.0.0->wandb) (1.1.0)\n"
          ]
        }
      ]
    },
    {
      "cell_type": "code",
      "metadata": {
        "colab": {
          "base_uri": "https://localhost:8080/"
        },
        "id": "HZG8BDT-xrv3",
        "outputId": "5080e58c-58ca-4f12-a75e-c524ca1b9087"
      },
      "source": [
        "!wandb login"
      ],
      "execution_count": 2,
      "outputs": [
        {
          "output_type": "stream",
          "name": "stdout",
          "text": [
            "\u001b[34m\u001b[1mwandb\u001b[0m: Currently logged in as: \u001b[33mdoris\u001b[0m (use `wandb login --relogin` to force relogin)\n"
          ]
        }
      ]
    },
    {
      "cell_type": "code",
      "metadata": {
        "colab": {
          "base_uri": "https://localhost:8080/"
        },
        "id": "MUy1ta4_782n",
        "outputId": "3630edde-c267-4620-c773-96d719e118c6"
      },
      "source": [
        "!pip uninstall gensim -y"
      ],
      "execution_count": 3,
      "outputs": [
        {
          "output_type": "stream",
          "name": "stdout",
          "text": [
            "Found existing installation: gensim 4.1.2\n",
            "Uninstalling gensim-4.1.2:\n",
            "  Successfully uninstalled gensim-4.1.2\n"
          ]
        }
      ]
    },
    {
      "cell_type": "code",
      "metadata": {
        "colab": {
          "base_uri": "https://localhost:8080/"
        },
        "id": "oAroxmvO8GQj",
        "outputId": "fd732416-ad87-48f2-c253-f705bb036fdf"
      },
      "source": [
        "!pip install gensim"
      ],
      "execution_count": 4,
      "outputs": [
        {
          "output_type": "stream",
          "name": "stdout",
          "text": [
            "Collecting gensim\n",
            "  Using cached gensim-4.1.2-cp37-cp37m-manylinux_2_12_x86_64.manylinux2010_x86_64.whl (24.1 MB)\n",
            "Requirement already satisfied: smart-open>=1.8.1 in /usr/local/lib/python3.7/dist-packages (from gensim) (5.2.1)\n",
            "Requirement already satisfied: numpy>=1.17.0 in /usr/local/lib/python3.7/dist-packages (from gensim) (1.21.4)\n",
            "Requirement already satisfied: scipy>=0.18.1 in /usr/local/lib/python3.7/dist-packages (from gensim) (1.4.1)\n",
            "Installing collected packages: gensim\n",
            "Successfully installed gensim-4.1.2\n"
          ]
        }
      ]
    },
    {
      "cell_type": "code",
      "metadata": {
        "colab": {
          "base_uri": "https://localhost:8080/"
        },
        "id": "DpTg28-B6n4e",
        "outputId": "5eb9e7b2-857a-475b-f357-5bc1acaef9b4"
      },
      "source": [
        "pip install pyLDAvis"
      ],
      "execution_count": 5,
      "outputs": [
        {
          "output_type": "stream",
          "name": "stdout",
          "text": [
            "Requirement already satisfied: pyLDAvis in /usr/local/lib/python3.7/dist-packages (3.3.1)\n",
            "Requirement already satisfied: setuptools in /usr/local/lib/python3.7/dist-packages (from pyLDAvis) (57.4.0)\n",
            "Requirement already satisfied: scipy in /usr/local/lib/python3.7/dist-packages (from pyLDAvis) (1.4.1)\n",
            "Requirement already satisfied: sklearn in /usr/local/lib/python3.7/dist-packages (from pyLDAvis) (0.0)\n",
            "Requirement already satisfied: numexpr in /usr/local/lib/python3.7/dist-packages (from pyLDAvis) (2.7.3)\n",
            "Requirement already satisfied: future in /usr/local/lib/python3.7/dist-packages (from pyLDAvis) (0.16.0)\n",
            "Requirement already satisfied: scikit-learn in /usr/local/lib/python3.7/dist-packages (from pyLDAvis) (1.0.1)\n",
            "Requirement already satisfied: pandas>=1.2.0 in /usr/local/lib/python3.7/dist-packages (from pyLDAvis) (1.3.4)\n",
            "Requirement already satisfied: gensim in /usr/local/lib/python3.7/dist-packages (from pyLDAvis) (4.1.2)\n",
            "Requirement already satisfied: jinja2 in /usr/local/lib/python3.7/dist-packages (from pyLDAvis) (2.11.3)\n",
            "Requirement already satisfied: numpy>=1.20.0 in /usr/local/lib/python3.7/dist-packages (from pyLDAvis) (1.21.4)\n",
            "Requirement already satisfied: joblib in /usr/local/lib/python3.7/dist-packages (from pyLDAvis) (1.1.0)\n",
            "Requirement already satisfied: funcy in /usr/local/lib/python3.7/dist-packages (from pyLDAvis) (1.16)\n",
            "Requirement already satisfied: pytz>=2017.3 in /usr/local/lib/python3.7/dist-packages (from pandas>=1.2.0->pyLDAvis) (2018.9)\n",
            "Requirement already satisfied: python-dateutil>=2.7.3 in /usr/local/lib/python3.7/dist-packages (from pandas>=1.2.0->pyLDAvis) (2.8.2)\n",
            "Requirement already satisfied: six>=1.5 in /usr/local/lib/python3.7/dist-packages (from python-dateutil>=2.7.3->pandas>=1.2.0->pyLDAvis) (1.15.0)\n",
            "Requirement already satisfied: smart-open>=1.8.1 in /usr/local/lib/python3.7/dist-packages (from gensim->pyLDAvis) (5.2.1)\n",
            "Requirement already satisfied: MarkupSafe>=0.23 in /usr/local/lib/python3.7/dist-packages (from jinja2->pyLDAvis) (2.0.1)\n",
            "Requirement already satisfied: threadpoolctl>=2.0.0 in /usr/local/lib/python3.7/dist-packages (from scikit-learn->pyLDAvis) (3.0.0)\n"
          ]
        }
      ]
    },
    {
      "cell_type": "code",
      "metadata": {
        "id": "WHZBzAXjxz1J"
      },
      "source": [
        "import wandb"
      ],
      "execution_count": 6,
      "outputs": []
    },
    {
      "cell_type": "code",
      "metadata": {
        "id": "6SZ0zrKX8H-D"
      },
      "source": [
        "import gensim\n",
        "from sklearn.manifold import TSNE\n",
        "import matplotlib.pyplot as plt\n",
        "import pprint\n",
        "import pandas as pd\n",
        "import numpy as np\n",
        "from collections import Counter\n",
        "import plotly.express as px\n",
        "from tqdm import tqdm \n",
        "from gensim.models.doc2vec import Doc2Vec\n",
        "from gensim.models.tfidfmodel import TfidfModel\n",
        "from gensim.models.lsimodel import LsiModel\n",
        "from gensim.models import CoherenceModel\n",
        "from gensim import corpora\n",
        "from gensim import similarities\n",
        "import pickle\n",
        "import os\n",
        "import zipfile\n",
        "from gensim.models.phrases import Phrases"
      ],
      "execution_count": 7,
      "outputs": []
    },
    {
      "cell_type": "code",
      "metadata": {
        "id": "znWar-PK8KHT"
      },
      "source": [
        "import logging\n",
        "logging.basicConfig(format='%(asctime)s : %(levelname)s : %(message)s', level=logging.INFO)"
      ],
      "execution_count": 8,
      "outputs": []
    },
    {
      "cell_type": "code",
      "metadata": {
        "colab": {
          "base_uri": "https://localhost:8080/"
        },
        "id": "kjCf_Abf8MCc",
        "outputId": "c56ad992-8beb-45a2-babd-d1dd23d8239d"
      },
      "source": [
        "print(gensim.__version__)"
      ],
      "execution_count": 9,
      "outputs": [
        {
          "output_type": "stream",
          "name": "stdout",
          "text": [
            "4.1.2\n"
          ]
        }
      ]
    },
    {
      "cell_type": "code",
      "metadata": {
        "id": "_aEonlx-CT6r"
      },
      "source": [
        "!rm data.csv"
      ],
      "execution_count": 10,
      "outputs": []
    },
    {
      "cell_type": "code",
      "metadata": {
        "id": "Xhfwd9iMZ99Q"
      },
      "source": [
        "pd.set_option('display.max_rows', 500)\n",
        "pd.set_option('display.max_columns', 500)\n",
        "pd.set_option('display.width', 1000)"
      ],
      "execution_count": 11,
      "outputs": []
    },
    {
      "cell_type": "markdown",
      "metadata": {
        "id": "Nk5pPZqk0Pn7"
      },
      "source": [
        "# Configuration\n"
      ]
    },
    {
      "cell_type": "code",
      "metadata": {
        "id": "wcZ18xhgU7MZ"
      },
      "source": [
        "use_wandb = True"
      ],
      "execution_count": 12,
      "outputs": []
    },
    {
      "cell_type": "code",
      "metadata": {
        "id": "A-AD1gxGLYxp"
      },
      "source": [
        "generate_webapp_data = False"
      ],
      "execution_count": 13,
      "outputs": []
    },
    {
      "cell_type": "code",
      "metadata": {
        "id": "GfQbJQmexlxI"
      },
      "source": [
        "#docu = 'sections'\n",
        "docu = 'tunes'\n",
        "chords_preprocessing = 'rootAndDegreesSimplified'"
      ],
      "execution_count": 83,
      "outputs": []
    },
    {
      "cell_type": "code",
      "metadata": {
        "id": "ckR2EN5_LXOd"
      },
      "source": [
        "phrases_threshold = 1.0  # 1.0 for no phrases"
      ],
      "execution_count": 84,
      "outputs": []
    },
    {
      "cell_type": "code",
      "metadata": {
        "id": "H9AFlUZ1lpGC"
      },
      "source": [
        "remove_repetitions = False"
      ],
      "execution_count": 85,
      "outputs": []
    },
    {
      "cell_type": "code",
      "metadata": {
        "id": "VnmK3ok0NB31"
      },
      "source": [
        "ngrams_for_input = [1]"
      ],
      "execution_count": 86,
      "outputs": []
    },
    {
      "cell_type": "code",
      "metadata": {
        "id": "K7qB2_sBvKpB"
      },
      "source": [
        "input_files = {\n",
        "    'sections': {\n",
        "        # M7 and 6 reduced to major triad, m7 reduced to m, dominant 7, m7b5, diminished, and all (b5) left as they are.\n",
        "        'rootAndDegreesPlus': '1BDYukaIj72jmi9PqZVrCAqKbyxg8Z4yq',\n",
        "        'rootAndDegrees7': '',\n",
        "        'rootAndDegreesSimplified': '1h9dRRpbTSEE_x9CpbQ9rOi-GXKcCFUCU'\n",
        "    },\n",
        "    'tunes': {\n",
        "        'rootAndDegreesPlus': '1PhLEjyD4oNfFDm8N9_rDTXQmzkIk759w',\n",
        "        'rootAndDegrees7': '',\n",
        "        'rootAndDegreesSimplified': '1WtxC58-xpk99nmGfrp28kg6ftLfMnLXT',\n",
        "    }\n",
        "}"
      ],
      "execution_count": 87,
      "outputs": []
    },
    {
      "cell_type": "code",
      "metadata": {
        "colab": {
          "base_uri": "https://localhost:8080/"
        },
        "id": "lM6eaQwnyWD3",
        "outputId": "55a6fdb9-ed2f-4aaf-cc83-45ca5c3c98c7"
      },
      "source": [
        "tunes_eval_list = [\n",
        "  \"Sweet Sue, Just You [jazz1350]\",\n",
        "  \"On The Sunny Side Of The Street [jazz1350]\",\n",
        "  \"These Foolish Things [jazz1350]\", \n",
        "  \"Blue Moon [jazz1350]\",\n",
        "  \"All Of Me [jazz1350]\",\n",
        "  \"All God's Chillun Got Rhythm [jazz1350]\",\n",
        "  \"I Got Rhythm [jazz1350]\",\n",
        "  \"Bye Bye Blackbird [jazz1350]\",\n",
        "  \"Old Fashioned Love [trad]\",\n",
        "  \"Exactly Like You [jazz1350]\",\n",
        "  \"Honeysuckle Rose [jazz1350]\",\n",
        "  \"Misty [jazz1350]\",\n",
        "  \"Naima [jazz1350]\",\n",
        "]\n",
        "\n",
        "tunes_eval_list = sorted(tunes_eval_list)\n",
        "tunes_eval_list"
      ],
      "execution_count": 88,
      "outputs": [
        {
          "output_type": "execute_result",
          "data": {
            "text/plain": [
              "[\"All God's Chillun Got Rhythm [jazz1350]\",\n",
              " 'All Of Me [jazz1350]',\n",
              " 'Blue Moon [jazz1350]',\n",
              " 'Bye Bye Blackbird [jazz1350]',\n",
              " 'Exactly Like You [jazz1350]',\n",
              " 'Honeysuckle Rose [jazz1350]',\n",
              " 'I Got Rhythm [jazz1350]',\n",
              " 'Misty [jazz1350]',\n",
              " 'Naima [jazz1350]',\n",
              " 'Old Fashioned Love [trad]',\n",
              " 'On The Sunny Side Of The Street [jazz1350]',\n",
              " 'Sweet Sue, Just You [jazz1350]',\n",
              " 'These Foolish Things [jazz1350]']"
            ]
          },
          "metadata": {},
          "execution_count": 88
        }
      ]
    },
    {
      "cell_type": "code",
      "metadata": {
        "id": "uiI0h4ef0PCD"
      },
      "source": [
        "contrafacts = [\n",
        "               (\"26-2 [jazz1350]\", \"Confirmation [jazz1350]\"),\n",
        "               (\"52nd Street Theme [jazz1350]\", \"I Got Rhythm [jazz1350]\"),\n",
        "               (\"Ablution [jazz1350]\", \"All The Things You Are [jazz1350]\"),\n",
        "               (\"Anthropology [jazz1350]\", \"I Got Rhythm [jazz1350]\"),\n",
        "               (\"Ballade [jazz1350]\", \"As Long As I Live [jazz1350]\"),\n",
        "               (\"Bright Mississippi [jazz1350]\", \"Sweet Georgia Brown [jazz1350]\"),\n",
        "               (\"C.T.A. [jazz1350]\", \"I Got Rhythm [jazz1350]\"),\n",
        "               #( \"Celia [jazz1350]\", \"I Got Rhythm [jazz1350]\"),\n",
        "               (\"Cottontail [jazz1350]\", \"I Got Rhythm [jazz1350]\"),\n",
        "               (\"Countdown [jazz1350]\", \"Tune Up [jazz1350]\"),\n",
        "               (\"Dewey Square [jazz1350]\", \"Oh, Lady Be Good [jazz1350]\"),\n",
        "               (\"Dexterity [jazz1350]\", \"I Got Rhythm [jazz1350]\"),\n",
        "               (\"Dig [jazz1350]\", \"Sweet Georgia Brown [jazz1350]\"),\n",
        "               (\"Donna Lee [jazz1350]\", \"Indiana (Back Home Again In) [jazz1350]\"),\n",
        "               (\"Don't Be That Way [jazz1350]\", \"I Got Rhythm [jazz1350]\"),\n",
        "               #(\"Eternal Triangle [jazz1350]\", \"I Got Rhythm [jazz1350]\"),\n",
        "               (\"Evidence [jazz1350]\", \"Just You, Just Me [jazz1350]\"),\n",
        "               (\"Flintstones [jazz1350]\", \"I Got Rhythm [jazz1350]\"),\n",
        "               (\"Four On Six [jazz1350]\", \"Summertime [jazz1350]\"),\n",
        "               (\"Freight Train [jazz1350]\", \"Blues For Alice [jazz1350]\"),\n",
        "               (\"Good Bait [jazz1350]\", \"I Got Rhythm [jazz1350]\"),\n",
        "               (\"Hackensack [jazz1350]\", \"Oh, Lady Be Good [jazz1350]\"),\n",
        "               (\"Half Nelson [jazz1350]\", \"Lady Bird [jazz1350]\"),\n",
        "               (\"Hot House [jazz1350]\", \"What Is This Thing Called Love [jazz1350]\"),\n",
        "               (\"Impressions [jazz1350]\", \"So What [jazz1350]\"),\n",
        "               (\"In A Mellow Tone (In A Mellotone) [jazz1350]\", \"Rose Room [jazz1350]\"),\n",
        "               (\"In Walked Bud [jazz1350]\", \"Blue Skies [jazz1350]\"),\n",
        "               (\"Ko Ko [jazz1350]\", \"Cherokee [jazz1350]\"),\n",
        "               (\"Lennie's Pennies [jazz1350]\", \"Pennies From Heaven [jazz1350]\"),   ## Lennie's Pennies is in minor and therefore transposed to Amin... not possible to recognize like that\n",
        "               #( \"Let's Call This [jazz1350]\", \"Honeysuckle Rose [jazz1350]\"),\n",
        "               (\"Little Rootie Tootie [jazz1350]\", \"I Got Rhythm [jazz1350]\"),\n",
        "               (\"Little Willie Leaps [jazz1350]\", \"All God's Chillun Got Rhythm [jazz1350]\"),\n",
        "               (\"Lullaby Of Birdland [jazz1350]\", \"Love Me Or Leave Me [jazz1350]\"),\n",
        "               #(\"Moose The Mooche [jazz1350]\", \"I Got Rhythm [jazz1350]\"),\n",
        "               (\"My Little Suede Shoes [jazz1350]\", \"Jeepers Creepers [jazz1350]\"),\n",
        "               #(\"Oleo [jazz1350]\", \"I Got Rhythm [jazz1350]\"),\n",
        "               (\"Ornithology [jazz1350]\", \"How High The Moon [jazz1350]\"),\n",
        "               #(\"Passport [jazz1350]\", \"I Got Rhythm [jazz1350]\"),\n",
        "               (\"Quasimodo (Theme) [jazz1350]\", \"Embraceable You [jazz1350]\"),\n",
        "               #(\"Rhythm-a-ning [jazz1350]\", \"I Got Rhythm [jazz1350]\"),\n",
        "               (\"Room 608 [jazz1350]\", \"I Got Rhythm [jazz1350]\"),\n",
        "               #(\"Salt Peanuts [jazz1350]\", \"I Got Rhythm [jazz1350]\"),\n",
        "               (\"Satellite [jazz1350]\", \"How High The Moon [jazz1350]\"),\n",
        "               (\"Scrapple From The Apple [jazz1350]\", \"Honeysuckle Rose [jazz1350]\"), # A section\n",
        "               (\"Scrapple From The Apple [jazz1350]\", \"I Got Rhythm [jazz1350]\"), # B section\n",
        "               #(\"Segment [jazz1350]\", \"I Got Rhythm [jazz1350]\"),\n",
        "               #(\"Seven Come Eleven [jazz1350]\", \"I Got Rhythm [jazz1350]\"),\n",
        "               #(\"Shaw 'Nuff [jazz1350]\", \"I Got Rhythm [jazz1350]\"),\n",
        "               #(\"Theme, The [jazz1350]\", \"I Got Rhythm [jazz1350]\"),\n",
        "               (\"Tour De Force [jazz1350]\", \"Jeepers Creepers [jazz1350]\"),\n",
        "               (\"Wow [jazz1350]\", \"You Can Depend On Me [jazz1350]\"),\n",
        "               (\"Yardbird Suite [jazz1350]\", \"Rosetta [jazz1350]\"),\n",
        "\n",
        "               # following tunes are not from wikipedia),\n",
        "               (\"Sweet Sue, Just You [jazz1350]\", \"Honeysuckle Rose [jazz1350]\"),  # A section\n",
        "               #(\"All Of Me [jazz1350]\", \"Pennies From Heaven [jazz1350]\"), # bars 25-28 of All of Me are same as bars 17-20 of Pennies From Heaven, but different key!\n",
        "               (\"Sweet Sue, Just You [jazz1350]\", \"Bye Bye Blackbird [jazz1350]\"), # Bridge same\n",
        "               (\"These Foolish Things [jazz1350]\", \"Blue Moon [jazz1350]\"), # first 8 bars same\n",
        "               (\"These Foolish Things [jazz1350]\", \"More Than You Know [jazz1350]\"),\n",
        "               (\"These Foolish Things [jazz1350]\", \"Isn't It A Pity [jazz1350]\"),\n",
        "               (\"These Foolish Things [jazz1350]\", \"Soultrain [jazz1350]\"),\n",
        "               (\"These Foolish Things [jazz1350]\", \"Why Do I Love You [jazz1350]\"),\n",
        "               (\"Misty [jazz1350]\", \"Portrait Of Jennie [jazz1350]\"),\n",
        "               (\"Misty [jazz1350]\", \"September In The Rain [jazz1350]\"),\n",
        "               (\"Misty [jazz1350]\", \"I May Be Wrong [jazz1350]\"),  \n",
        "\n",
        "               # identical tunes\n",
        "               (\"Five Foot Two [trad]\", \"Please Don't Talk About Me When I'm Gone [trad]\"),\n",
        "               (\"What Is This Thing Called Love [jazz1350]\", \"Subconscious Lee [jazz1350]\"),\n",
        "               (\"Sweet Georgia Brown [jazz1350]\", \"Dig [jazz1350]\"),\n",
        "\n",
        "\n",
        "               # almost identical tunes\n",
        "               (\"What Is This Thing Called Love [jazz1350]\", \"Hot House [jazz1350]\"),\n",
        "               (\"Jeannie's Song [jazz1350]\", \"Shiny Stockings [jazz1350]\"),\n",
        "               (\"Alone Together [jazz1350]\", \"Segment [jazz1350]\"),\n",
        "               (\"Baubles, Bangles and Beads [jazz1350]\", \"Bossa Antigua [jazz1350]\"),\n",
        "               (\"There Will Never Be Another You [jazz1350]\", \"A Weaver Of Dreams [jazz1350]\"),\n",
        "               (\"Moten Swing [jazz1350]\", \"Once In A While (Ballad) [trad]\"), # same bridge, similar A\n",
        "               (\"All I Do Is Dream Of You [trad]\", \"L-O-V-E [jazz1350]\"),\n",
        "\n",
        "\n",
        "               # same A section\n",
        "               (\"Nancy (With The Laughing Face) [jazz1350]\", \"Body And Soul [jazz1350]\"),\n",
        "               (\"Exactly Like You [jazz1350]\", \"True (You Don't Love Me ) [trad]\"),\n",
        "               (\"Exactly Like You [jazz1350]\", \"True (You Don't Love Me ) [trad]\"),\n",
        "               (\"Exactly Like You [jazz1350]\", \"Jersey Bounce [trad]\"),\n",
        "               (\"Take The A Train [jazz1350]\", \"Girl From Ipanema, The [jazz1350]\"),\n",
        "               (\"My Heart Stood Still [jazz1350]\", \"All Too Soon [jazz1350]\"),\n",
        "               (\"Undecided [jazz1350]\", \"Broadway [jazz1350]\"),\n",
        "               (\"My Heart Stood Still [jazz1350]\", \"All Too Soon [jazz1350]\"),\n",
        "               (\"Let's Fall In Love [jazz1350]\", \"Heart And Soul [jazz1350]\"),\n",
        "               (\"Come Back To Me [jazz1350]\", \"I Wish I Knew [jazz1350]\"),\n",
        "               (\"Wait Till You See Her [jazz1350]\", \"A Certain Smile [jazz1350]\"),\n",
        "               (\"Killer Joe [jazz1350]\", \"Straight Life [jazz1350]\"),\n",
        "               (\"Softly, As In A Morning Sunrise [jazz1350]\", \"Segment [jazz1350]\"),\n",
        "               (\"Bei Mir Bist Du Schon (Root Hog Or Die) [trad]\", \"Egyptian Fantasy [trad]\"),\n",
        "               (\"Bei Mir Bist Du Schon (Root Hog Or Die) [trad]\", \"Puttin' On The Ritz [jazz1350]\"),\n",
        "               (\"Coquette [trad]\", \"Pretend You're Happy When You're Blue [trad]\"),\n",
        "               (\"Softly, As In A Morning Sunrise [jazz1350]\", \"Strode Rode [jazz1350]\"),\n",
        "               (\"Glory Of Love, The [jazz1350]\", \"I've Got My Fingers Crossed [trad]\"),\n",
        "\n",
        "\n",
        "               # same bridge\n",
        "               (\"If I Had You [jazz1350]\", \"Too Young To Go Steady [jazz1350]\"),\n",
        "               (\"Undecided [jazz1350]\", \"Satin Doll [jazz1350]\"),\n",
        "               (\"Billy Boy [jazz1350]\", \"Elora [jazz1350]\"),\n",
        "               (\"Dearly Beloved [jazz1350]\", \"We See [jazz1350]\"),\n",
        "               (\"Alone Together [jazz1350]\", \"A Night In Tunisia [jazz1350]\"),\n",
        "               (\"A Night In Tunisia [jazz1350]\", \"Segment [jazz1350]\"),\n",
        "               (\"Oh! Lady Be Good [trad]\", \"Sentimental Journey [jazz1350]\"),\n",
        "               (\"You Can Depend On Me [jazz1350]\", \"Move [jazz1350]\"),\n",
        "               (\"I Want To Be Happy [jazz1350]\", \"A Beautiful Friendship [jazz1350]\"),\n",
        "               (\"Flying Home [jazz1350]\", \"Down For Double [jazz1350]\"),\n",
        "               (\"Cheek To Cheek [jazz1350]\", \"Violets For Your Furs [jazz1350]\"),\n",
        "               (\"Let's Fall In Love [jazz1350]\", \"At Last [jazz1350]\"),\n",
        "               (\"Don't Be That Way [jazz1350]\", \"Long Ago And Far Away [jazz1350]\"),\n",
        "               (\"On The Sunny Side Of The Street [jazz1350]\", \"I'm Confessin' That I Love You [jazz1350]\"),\n",
        "               (\"On The Sunny Side Of The Street [jazz1350]\", \"Eclypso [jazz1350]\"),\n",
        "               (\"On The Sunny Side Of The Street [jazz1350]\", \"You Stepped Out Of A Dream [jazz1350]\"),\n",
        "               \n",
        "\n",
        "               # similar A section\n",
        "               (\"I Like The Likes Of You [jazz1350]\", \"Mountain Greenery [jazz1350]\"),\n",
        "               (\"My Secret Love [jazz1350]\", \"Samba De Orfeu [jazz1350]\"),\n",
        "               (\"Let's Call The Whole Thing Off [jazz1350]\", \"Fine And Dandy [jazz1350]\"),\n",
        "\n",
        "\n",
        "               # similar B section\n",
        "               (\"Folks Who Live On The Hill, The [jazz1350]\", \"My One And Only Love [jazz1350]\"),\n",
        "               (\"As Long As I Live [jazz1350]\", \"I'm Glad There Is You [jazz1350]\"),\n",
        "               (\"I May Be Wrong [jazz1350]\", \"Teach Me Tonight [jazz1350]\"),\n",
        "               (\"Am I Blue [jazz1350]\", \"Come Back To Me [jazz1350]\"),\n",
        "               (\"My One And Only Love [jazz1350]\", \"Am I Blue [jazz1350]\"),\n",
        "               (\"On The Sunny Side Of The Street [jazz1350]\", \"September In The Rain [jazz1350]\"),\n",
        "               (\"On The Sunny Side Of The Street [jazz1350]\", \"Mountain Greenery [jazz1350]\"),\n",
        "               (\"On The Sunny Side Of The Street [jazz1350]\", \"There's No You [jazz1350]\"),\n",
        "               (\"These Foolish Things [jazz1350]\", \"Embraceable You [jazz1350]\"),\n",
        "               (\"These Foolish Things [jazz1350]\", \"Rosetta [jazz1350]\"),\n",
        "\n",
        "               # same C section\n",
        "               (\"Bill Bailey [jazz1350]\", \"Bourbon Street Parade [jazz1350]\"),\n",
        "\n",
        "               # Stella C is like Woody B\n",
        "               (\"Woody'n You [jazz1350]\", \"Stella By Starlight [jazz1350]\"),\n",
        "\n",
        "               # similar vocabulary, different progressions\n",
        "               (\"Tangerine [jazz1350]\", \"Tea For Two [jazz1350]\"),\n",
        "               (\"I Can't Give You Anything But Love [jazz1350]\", \"You Can Depend On Me [jazz1350]\"),\n",
        "               (\"This Year's Kisses [jazz1350]\", \"My Monday Date [trad]\"),\n",
        "               (\"A Blossom Fell [jazz1350]\", \"Among My Souvenirs [jazz1350]\"),\n",
        "\n",
        "\n",
        "\n",
        "]"
      ],
      "execution_count": 89,
      "outputs": []
    },
    {
      "cell_type": "markdown",
      "metadata": {
        "id": "gcexO7zK8Pn6"
      },
      "source": [
        "# Initialization\n",
        "\n",
        "## Download the Data"
      ]
    },
    {
      "cell_type": "code",
      "metadata": {
        "id": "JwVJo3Vat8iF"
      },
      "source": [
        "input_data = input_files[docu][chords_preprocessing]\n",
        "\n",
        "input_path = f\"https://docs.google.com/uc?export=download&id={input_data}\"\n",
        "data_file_name = 'data.csv'\n"
      ],
      "execution_count": 90,
      "outputs": []
    },
    {
      "cell_type": "code",
      "metadata": {
        "colab": {
          "base_uri": "https://localhost:8080/",
          "height": 36
        },
        "id": "_Dp-fijjB-pU",
        "outputId": "c18a679f-bd67-404c-acdf-f6a618ffff0a"
      },
      "source": [
        "input_path"
      ],
      "execution_count": 91,
      "outputs": [
        {
          "output_type": "execute_result",
          "data": {
            "application/vnd.google.colaboratory.intrinsic+json": {
              "type": "string"
            },
            "text/plain": [
              "'https://docs.google.com/uc?export=download&id=1WtxC58-xpk99nmGfrp28kg6ftLfMnLXT'"
            ]
          },
          "metadata": {},
          "execution_count": 91
        }
      ]
    },
    {
      "cell_type": "code",
      "metadata": {
        "colab": {
          "base_uri": "https://localhost:8080/"
        },
        "id": "1ZVAYUH5t9Li",
        "outputId": "3cb3f5d4-3340-4f40-ab25-2f8dc15685bc"
      },
      "source": [
        "!wget --no-check-certificate \"$input_path\" -O \"$data_file_name\""
      ],
      "execution_count": 92,
      "outputs": [
        {
          "output_type": "stream",
          "name": "stdout",
          "text": [
            "--2021-11-29 20:09:28--  https://docs.google.com/uc?export=download&id=1WtxC58-xpk99nmGfrp28kg6ftLfMnLXT\n",
            "Resolving docs.google.com (docs.google.com)... 172.253.119.113, 172.253.119.139, 172.253.119.100, ...\n",
            "Connecting to docs.google.com (docs.google.com)|172.253.119.113|:443... connected.\n",
            "HTTP request sent, awaiting response... 302 Moved Temporarily\n",
            "Location: https://doc-0s-4c-docs.googleusercontent.com/docs/securesc/ha0ro937gcuc7l7deffksulhg5h7mbp1/2qdaq6sop6c9iobmj7pfbj7coet6gbp4/1638216525000/14329102864480165501/*/1WtxC58-xpk99nmGfrp28kg6ftLfMnLXT?e=download [following]\n",
            "Warning: wildcards not supported in HTTP.\n",
            "--2021-11-29 20:09:28--  https://doc-0s-4c-docs.googleusercontent.com/docs/securesc/ha0ro937gcuc7l7deffksulhg5h7mbp1/2qdaq6sop6c9iobmj7pfbj7coet6gbp4/1638216525000/14329102864480165501/*/1WtxC58-xpk99nmGfrp28kg6ftLfMnLXT?e=download\n",
            "Resolving doc-0s-4c-docs.googleusercontent.com (doc-0s-4c-docs.googleusercontent.com)... 173.194.195.132, 2607:f8b0:4001:c11::84\n",
            "Connecting to doc-0s-4c-docs.googleusercontent.com (doc-0s-4c-docs.googleusercontent.com)|173.194.195.132|:443... connected.\n",
            "HTTP request sent, awaiting response... 200 OK\n",
            "Length: 461598 (451K) [text/csv]\n",
            "Saving to: ‘data.csv’\n",
            "\n",
            "data.csv            100%[===================>] 450.78K  --.-KB/s    in 0.004s  \n",
            "\n",
            "2021-11-29 20:09:29 (119 MB/s) - ‘data.csv’ saved [461598/461598]\n",
            "\n"
          ]
        }
      ]
    },
    {
      "cell_type": "markdown",
      "metadata": {
        "id": "Ljs21B7h8YvC"
      },
      "source": [
        "### Read Chords Input Data"
      ]
    },
    {
      "cell_type": "code",
      "metadata": {
        "colab": {
          "base_uri": "https://localhost:8080/",
          "height": 692
        },
        "id": "B7kK418L8aac",
        "outputId": "11884c89-4bea-432e-93fc-89a5ca134f28"
      },
      "source": [
        "df = pd.read_csv(data_file_name, sep='\\t', index_col=\"id\")\n",
        "df = df.reset_index()\n",
        "df.head(5)"
      ],
      "execution_count": 93,
      "outputs": [
        {
          "output_type": "execute_result",
          "data": {
            "text/html": [
              "<div>\n",
              "<style scoped>\n",
              "    .dataframe tbody tr th:only-of-type {\n",
              "        vertical-align: middle;\n",
              "    }\n",
              "\n",
              "    .dataframe tbody tr th {\n",
              "        vertical-align: top;\n",
              "    }\n",
              "\n",
              "    .dataframe thead th {\n",
              "        text-align: right;\n",
              "    }\n",
              "</style>\n",
              "<table border=\"1\" class=\"dataframe\">\n",
              "  <thead>\n",
              "    <tr style=\"text-align: right;\">\n",
              "      <th></th>\n",
              "      <th>id</th>\n",
              "      <th>file_name</th>\n",
              "      <th>title</th>\n",
              "      <th>title_playlist</th>\n",
              "      <th>tune_mode</th>\n",
              "      <th>tune_id</th>\n",
              "      <th>section_name</th>\n",
              "      <th>section_id</th>\n",
              "      <th>chords</th>\n",
              "    </tr>\n",
              "  </thead>\n",
              "  <tbody>\n",
              "    <tr>\n",
              "      <th>0</th>\n",
              "      <td>0</td>\n",
              "      <td>dataset/jazz1350/26-2.xml</td>\n",
              "      <td>26-2</td>\n",
              "      <td>26-2 [jazz1350]</td>\n",
              "      <td>major</td>\n",
              "      <td>0</td>\n",
              "      <td>NaN</td>\n",
              "      <td>0</td>\n",
              "      <td>CM7 Eb7 G#M7 B7 EM7 G7 Gm7 C7 FM7 G#7 C#M7 E7 Am7 D7 Dm7 G7 CM7 Eb7 G#M7 B7 EM7 G7 Gm7 C7 FM7 Eb7 G#M7 B7 EM7 G7 CM7 Gm7 C7 Bm7 E7 AM7 C7 FM7 Bbm7 Eb7 G#M7 Dm7 G7 CM7 Eb7 G#M7 B7 EM7 G7 Gm7 C7 FM7 Eb7 G#M7 B7 EM7 G7 CM7</td>\n",
              "    </tr>\n",
              "    <tr>\n",
              "      <th>1</th>\n",
              "      <td>1</td>\n",
              "      <td>dataset/jazz1350/500 Miles High.xml</td>\n",
              "      <td>500 Miles High</td>\n",
              "      <td>500 Miles High [jazz1350]</td>\n",
              "      <td>minor</td>\n",
              "      <td>1</td>\n",
              "      <td>NaN</td>\n",
              "      <td>0</td>\n",
              "      <td>Am7 Am7 Cm7 Cm7 EbM7 EbM7 Em7b5 A7 Dm7 Dm7 Bm7b5 Bm7b5 Bbm7 Bbm7 Fm7 Fm7 E7 E7 Fm7 Fm7 C#M7 C#M7 Fm7 Fm7 C#M7 C#M7</td>\n",
              "    </tr>\n",
              "    <tr>\n",
              "      <th>2</th>\n",
              "      <td>2</td>\n",
              "      <td>dataset/jazz1350/502 Blues.xml</td>\n",
              "      <td>502 Blues</td>\n",
              "      <td>502 Blues [jazz1350]</td>\n",
              "      <td>minor</td>\n",
              "      <td>2</td>\n",
              "      <td>NaN</td>\n",
              "      <td>0</td>\n",
              "      <td>Am7 C#M7 Bm7b5 E7 Am7 C#M7 Bm7b5 E7 Cm7 F7 BbM7 G#m7 C#7 F#m7b5 B7 EM7 EM7 E7 Am7 C#M7 Bm7b5 E7 Am7 C#M7 Bm7b5 E7 Cm7 F7 BbM7 G#m7 C#7 F#m7b5 B7 Em7 Em7</td>\n",
              "    </tr>\n",
              "    <tr>\n",
              "      <th>3</th>\n",
              "      <td>3</td>\n",
              "      <td>dataset/jazz1350/52nd Street Theme.xml</td>\n",
              "      <td>52nd Street Theme</td>\n",
              "      <td>52nd Street Theme [jazz1350]</td>\n",
              "      <td>major</td>\n",
              "      <td>3</td>\n",
              "      <td>NaN</td>\n",
              "      <td>0</td>\n",
              "      <td>C Am7 Dm7 G7 C Am7 Dm7 G7 C Am7 Dm7 G7 C G7 C C Am7 Dm7 G7 C Am7 Dm7 G7 C Am7 Dm7 G7 C G7 C C7 C7 F6 F6 D7 D7 G7 G7 C Am7 Dm7 G7 C Am7 Dm7 G7 C Am7 Dm7 G7 C G7 C</td>\n",
              "    </tr>\n",
              "    <tr>\n",
              "      <th>4</th>\n",
              "      <td>4</td>\n",
              "      <td>dataset/jazz1350/9.20 Special.xml</td>\n",
              "      <td>9.20 Special</td>\n",
              "      <td>9.20 Special [jazz1350]</td>\n",
              "      <td>major</td>\n",
              "      <td>4</td>\n",
              "      <td>NaN</td>\n",
              "      <td>0</td>\n",
              "      <td>C7 Ebm6 C7 Ebm6 Bb Bb7 A7 G#7 G7 C7 F#dim7 C7 G#7 G7 C7 Ebm6 C7 Ebm6 Bb Bb7 A7 G#7 G7 C7 F#dim7 C7 F7 Bb Bb Eb Eb6 Eb6 Eb6 G7 F F6 F7 F7 C7 Ebm6 C7 Ebm6 Bb Bb7 A7 G#7 G7 C7 F#dim7 C6 F7 Bb D7</td>\n",
              "    </tr>\n",
              "  </tbody>\n",
              "</table>\n",
              "</div>"
            ],
            "text/plain": [
              "   id                               file_name              title                title_playlist tune_mode  tune_id  section_name  section_id                                                                                                                                                                                                                       chords\n",
              "0  0   dataset/jazz1350/26-2.xml               26-2               26-2 [jazz1350]               major     0       NaN            0           CM7 Eb7 G#M7 B7 EM7 G7 Gm7 C7 FM7 G#7 C#M7 E7 Am7 D7 Dm7 G7 CM7 Eb7 G#M7 B7 EM7 G7 Gm7 C7 FM7 Eb7 G#M7 B7 EM7 G7 CM7 Gm7 C7 Bm7 E7 AM7 C7 FM7 Bbm7 Eb7 G#M7 Dm7 G7 CM7 Eb7 G#M7 B7 EM7 G7 Gm7 C7 FM7 Eb7 G#M7 B7 EM7 G7 CM7\n",
              "1  1   dataset/jazz1350/500 Miles High.xml     500 Miles High     500 Miles High [jazz1350]     minor     1       NaN            0           Am7 Am7 Cm7 Cm7 EbM7 EbM7 Em7b5 A7 Dm7 Dm7 Bm7b5 Bm7b5 Bbm7 Bbm7 Fm7 Fm7 E7 E7 Fm7 Fm7 C#M7 C#M7 Fm7 Fm7 C#M7 C#M7                                                                                                         \n",
              "2  2   dataset/jazz1350/502 Blues.xml          502 Blues          502 Blues [jazz1350]          minor     2       NaN            0           Am7 C#M7 Bm7b5 E7 Am7 C#M7 Bm7b5 E7 Cm7 F7 BbM7 G#m7 C#7 F#m7b5 B7 EM7 EM7 E7 Am7 C#M7 Bm7b5 E7 Am7 C#M7 Bm7b5 E7 Cm7 F7 BbM7 G#m7 C#7 F#m7b5 B7 Em7 Em7                                                                   \n",
              "3  3   dataset/jazz1350/52nd Street Theme.xml  52nd Street Theme  52nd Street Theme [jazz1350]  major     3       NaN            0           C Am7 Dm7 G7 C Am7 Dm7 G7 C Am7 Dm7 G7 C G7 C C Am7 Dm7 G7 C Am7 Dm7 G7 C Am7 Dm7 G7 C G7 C C7 C7 F6 F6 D7 D7 G7 G7 C Am7 Dm7 G7 C Am7 Dm7 G7 C Am7 Dm7 G7 C G7 C                                                          \n",
              "4  4   dataset/jazz1350/9.20 Special.xml       9.20 Special       9.20 Special [jazz1350]       major     4       NaN            0           C7 Ebm6 C7 Ebm6 Bb Bb7 A7 G#7 G7 C7 F#dim7 C7 G#7 G7 C7 Ebm6 C7 Ebm6 Bb Bb7 A7 G#7 G7 C7 F#dim7 C7 F7 Bb Bb Eb Eb6 Eb6 Eb6 G7 F F6 F7 F7 C7 Ebm6 C7 Ebm6 Bb Bb7 A7 G#7 G7 C7 F#dim7 C6 F7 Bb D7                            "
            ]
          },
          "metadata": {},
          "execution_count": 93
        }
      ]
    },
    {
      "cell_type": "markdown",
      "metadata": {
        "id": "OsPcEFbg8gu6"
      },
      "source": [
        "### Meta Data"
      ]
    },
    {
      "cell_type": "code",
      "metadata": {
        "colab": {
          "base_uri": "https://localhost:8080/",
          "height": 206
        },
        "id": "_62YlEVJXOCL",
        "outputId": "cbfb039f-3fb6-4f75-bb45-ab15ee84276a"
      },
      "source": [
        "titles = df.loc[:, ['id', 'tune_id', 'section_id', 'section_name', 'title', 'title_playlist', 'tune_mode']]\n",
        "titles[:5]"
      ],
      "execution_count": 94,
      "outputs": [
        {
          "output_type": "execute_result",
          "data": {
            "text/html": [
              "<div>\n",
              "<style scoped>\n",
              "    .dataframe tbody tr th:only-of-type {\n",
              "        vertical-align: middle;\n",
              "    }\n",
              "\n",
              "    .dataframe tbody tr th {\n",
              "        vertical-align: top;\n",
              "    }\n",
              "\n",
              "    .dataframe thead th {\n",
              "        text-align: right;\n",
              "    }\n",
              "</style>\n",
              "<table border=\"1\" class=\"dataframe\">\n",
              "  <thead>\n",
              "    <tr style=\"text-align: right;\">\n",
              "      <th></th>\n",
              "      <th>id</th>\n",
              "      <th>tune_id</th>\n",
              "      <th>section_id</th>\n",
              "      <th>section_name</th>\n",
              "      <th>title</th>\n",
              "      <th>title_playlist</th>\n",
              "      <th>tune_mode</th>\n",
              "    </tr>\n",
              "  </thead>\n",
              "  <tbody>\n",
              "    <tr>\n",
              "      <th>0</th>\n",
              "      <td>0</td>\n",
              "      <td>0</td>\n",
              "      <td>0</td>\n",
              "      <td>NaN</td>\n",
              "      <td>26-2</td>\n",
              "      <td>26-2 [jazz1350]</td>\n",
              "      <td>major</td>\n",
              "    </tr>\n",
              "    <tr>\n",
              "      <th>1</th>\n",
              "      <td>1</td>\n",
              "      <td>1</td>\n",
              "      <td>0</td>\n",
              "      <td>NaN</td>\n",
              "      <td>500 Miles High</td>\n",
              "      <td>500 Miles High [jazz1350]</td>\n",
              "      <td>minor</td>\n",
              "    </tr>\n",
              "    <tr>\n",
              "      <th>2</th>\n",
              "      <td>2</td>\n",
              "      <td>2</td>\n",
              "      <td>0</td>\n",
              "      <td>NaN</td>\n",
              "      <td>502 Blues</td>\n",
              "      <td>502 Blues [jazz1350]</td>\n",
              "      <td>minor</td>\n",
              "    </tr>\n",
              "    <tr>\n",
              "      <th>3</th>\n",
              "      <td>3</td>\n",
              "      <td>3</td>\n",
              "      <td>0</td>\n",
              "      <td>NaN</td>\n",
              "      <td>52nd Street Theme</td>\n",
              "      <td>52nd Street Theme [jazz1350]</td>\n",
              "      <td>major</td>\n",
              "    </tr>\n",
              "    <tr>\n",
              "      <th>4</th>\n",
              "      <td>4</td>\n",
              "      <td>4</td>\n",
              "      <td>0</td>\n",
              "      <td>NaN</td>\n",
              "      <td>9.20 Special</td>\n",
              "      <td>9.20 Special [jazz1350]</td>\n",
              "      <td>major</td>\n",
              "    </tr>\n",
              "  </tbody>\n",
              "</table>\n",
              "</div>"
            ],
            "text/plain": [
              "   id  tune_id  section_id  section_name              title                title_playlist tune_mode\n",
              "0  0   0        0          NaN            26-2               26-2 [jazz1350]               major   \n",
              "1  1   1        0          NaN            500 Miles High     500 Miles High [jazz1350]     minor   \n",
              "2  2   2        0          NaN            502 Blues          502 Blues [jazz1350]          minor   \n",
              "3  3   3        0          NaN            52nd Street Theme  52nd Street Theme [jazz1350]  major   \n",
              "4  4   4        0          NaN            9.20 Special       9.20 Special [jazz1350]       major   "
            ]
          },
          "metadata": {},
          "execution_count": 94
        }
      ]
    },
    {
      "cell_type": "code",
      "metadata": {
        "id": "0vEOjvwt8jUu"
      },
      "source": [
        "titles_dict = titles.to_dict()\n",
        "\n",
        "sectionid_to_title = titles_dict['title_playlist']\n",
        "sectionid_to_titleid = titles_dict['tune_id']\n"
      ],
      "execution_count": 95,
      "outputs": []
    },
    {
      "cell_type": "code",
      "metadata": {
        "id": "Om7pbfnNGO_I"
      },
      "source": [
        "tunes = df.loc[:, ['tune_id', 'title_playlist']].drop_duplicates()\n",
        "tunes = tunes.set_index('tune_id').to_dict()\n",
        "titleid_to_title = tunes['title_playlist']"
      ],
      "execution_count": 96,
      "outputs": []
    },
    {
      "cell_type": "code",
      "metadata": {
        "id": "OvLyxrExxvew"
      },
      "source": [
        "title_to_titleid = {v: k for k, v in titleid_to_title.items()}\n"
      ],
      "execution_count": 97,
      "outputs": []
    },
    {
      "cell_type": "code",
      "metadata": {
        "id": "1H72Y3_d8uNu"
      },
      "source": [
        "titles_rows = titles.to_dict(orient='records')\n",
        "sectionid_to_section = []\n",
        "for i, row in enumerate(titles_rows):\n",
        "  name = f\"{row['title']}, section{row['section_id']} ({row['section_name']})\"\n",
        "  sectionid_to_section.append(name)\n",
        "  "
      ],
      "execution_count": 98,
      "outputs": []
    },
    {
      "cell_type": "code",
      "metadata": {
        "id": "HCeGUk818y8V"
      },
      "source": [
        "title_to_sectionid = {}\n",
        "\n",
        "for row in titles.iterrows():\n",
        "  title = row[1]['title_playlist']\n",
        "  if title not in title_to_sectionid:\n",
        "    title_to_sectionid[title] = [row[1]['id']]\n",
        "  else:\n",
        "    title_to_sectionid[title].append(row[1]['id'])"
      ],
      "execution_count": 99,
      "outputs": []
    },
    {
      "cell_type": "markdown",
      "metadata": {
        "id": "GWXGqImnoHdm"
      },
      "source": [
        "### Create Directories on Colab"
      ]
    },
    {
      "cell_type": "code",
      "metadata": {
        "id": "sDWIxDpIoJv1"
      },
      "source": [
        "!rm -R output\n",
        "!mkdir output"
      ],
      "execution_count": 100,
      "outputs": []
    },
    {
      "cell_type": "markdown",
      "metadata": {
        "id": "LvQ60s_owm82"
      },
      "source": [
        "## Initialization for wandb variables"
      ]
    },
    {
      "cell_type": "code",
      "metadata": {
        "id": "fw7FHHXfwagL"
      },
      "source": [
        "recommender_results_cols = ['reference', 'id', 'method', 'similar', 'score_div_max', 'score']\n",
        "recommender_results = pd.DataFrame(columns=recommender_results_cols)"
      ],
      "execution_count": 101,
      "outputs": []
    },
    {
      "cell_type": "code",
      "metadata": {
        "id": "sxdJ97gdx70_",
        "colab": {
          "base_uri": "https://localhost:8080/",
          "height": 177,
          "referenced_widgets": [
            "4f1ff6629f5f474a9c10f69043e7e694",
            "d41f0169c8724ff7893fa8a162d0b432",
            "72ad786e4c0546c9b6f349d4c460c3f6",
            "b76b00e317b04f22ae85da3f477a11af",
            "5d93a8f05c974ed4a04dce8245cf9a17",
            "cfbe4d8e42ab4dc7a2748b6fc2ccbf77",
            "8de94e257fd14f98afe2b8631b6b0efe",
            "15564d92912e4ab694205769e81e2c29"
          ]
        },
        "outputId": "bf086b17-82e1-4e4a-ad8f-78f2b4e7e2ff"
      },
      "source": [
        "if use_wandb:\n",
        "  wandb.init(\n",
        "        # Set entity to specify your username or team name\n",
        "        # ex: entity=\"carey\",\n",
        "        # Set the project where this run will be logged\n",
        "        project=\"jazztunes-phrases\", \n",
        "        \n",
        "        # Track hyperparameters and run metadata\n",
        "        config={\n",
        "            \"input_data\": input_path,\n",
        "            \"ngrams_input\": ngrams_for_input,\n",
        "            \"comparison\": \"sections\",\n",
        "            \"remove_repeated_chords\": remove_repetitions,\n",
        "            \"phrases_threshold\": phrases_threshold,\n",
        "\n",
        "        }\n",
        "    )"
      ],
      "execution_count": 105,
      "outputs": [
        {
          "output_type": "display_data",
          "data": {
            "text/html": [
              "Finishing last run (ID:2miwlsby) before initializing another..."
            ],
            "text/plain": [
              "<IPython.core.display.HTML object>"
            ]
          },
          "metadata": {}
        },
        {
          "output_type": "display_data",
          "data": {
            "text/html": [
              "<br/>Waiting for W&B process to finish, PID 3520... <strong style=\"color:green\">(success).</strong>"
            ],
            "text/plain": [
              "<IPython.core.display.HTML object>"
            ]
          },
          "metadata": {}
        },
        {
          "output_type": "display_data",
          "data": {
            "application/vnd.jupyter.widget-view+json": {
              "model_id": "4f1ff6629f5f474a9c10f69043e7e694",
              "version_minor": 0,
              "version_major": 2
            },
            "text/plain": [
              "VBox(children=(Label(value=' 0.00MB of 0.00MB uploaded (0.00MB deduped)\\r'), FloatProgress(value=1.0, max=1.0)…"
            ]
          },
          "metadata": {}
        },
        {
          "output_type": "display_data",
          "data": {
            "text/html": [
              "<style>\n",
              "    table.wandb td:nth-child(1) { padding: 0 10px; text-align: right }\n",
              "    .wandb-row { display: flex; flex-direction: row; flex-wrap: wrap; width: 100% }\n",
              "    .wandb-col { display: flex; flex-direction: column; flex-basis: 100%; flex: 1; padding: 10px; }\n",
              "    </style>\n",
              "<div class=\"wandb-row\"><div class=\"wandb-col\">\n",
              "</div><div class=\"wandb-col\">\n",
              "</div></div>\n",
              "Synced 4 W&B file(s), 0 media file(s), 0 artifact file(s) and 0 other file(s)\n",
              "<br/>Synced <strong style=\"color:#cdcd00\">likely-wildflower-16</strong>: <a href=\"https://wandb.ai/doris/jazztunes-phrases/runs/2miwlsby\" target=\"_blank\">https://wandb.ai/doris/jazztunes-phrases/runs/2miwlsby</a><br/>\n",
              "Find logs at: <code>./wandb/run-20211129_200950-2miwlsby/logs</code><br/>\n"
            ],
            "text/plain": [
              "<IPython.core.display.HTML object>"
            ]
          },
          "metadata": {}
        },
        {
          "output_type": "display_data",
          "data": {
            "text/html": [
              "Successfully finished last run (ID:2miwlsby). Initializing new run:<br/>"
            ],
            "text/plain": [
              "<IPython.core.display.HTML object>"
            ]
          },
          "metadata": {}
        },
        {
          "output_type": "display_data",
          "data": {
            "text/html": [
              "\n",
              "                    Syncing run <strong><a href=\"https://wandb.ai/doris/jazztunes-phrases/runs/18ntdthf\" target=\"_blank\">expert-paper-17</a></strong> to <a href=\"https://wandb.ai/doris/jazztunes-phrases\" target=\"_blank\">Weights & Biases</a> (<a href=\"https://docs.wandb.com/integrations/jupyter.html\" target=\"_blank\">docs</a>).<br/>\n",
              "\n",
              "                "
            ],
            "text/plain": [
              "<IPython.core.display.HTML object>"
            ]
          },
          "metadata": {}
        }
      ]
    },
    {
      "cell_type": "code",
      "metadata": {
        "id": "xHOY4TKYVN-g"
      },
      "source": [
        "if use_wandb:\n",
        "  artifact = wandb.Artifact('input_data', type='dataset')\n",
        "  artifact.add_file('data.csv')\n",
        "  wandb.log_artifact(artifact)"
      ],
      "execution_count": 106,
      "outputs": []
    },
    {
      "cell_type": "markdown",
      "metadata": {
        "id": "wox-dMcz84Bt"
      },
      "source": [
        "## Helpers functions"
      ]
    },
    {
      "cell_type": "code",
      "metadata": {
        "id": "2964REdr80Gd"
      },
      "source": [
        "def ngrams(tokens, n=2, sep='-'):\n",
        "    return [sep.join(ngram) for ngram in zip(*[tokens[i:] for i in range(n)])]"
      ],
      "execution_count": 107,
      "outputs": []
    },
    {
      "cell_type": "code",
      "metadata": {
        "id": "W42rugQPNYVP"
      },
      "source": [
        "def raw_chords_to_df(tunes):\n",
        "  tunes_chords = [item for tune in tunes for item in tune]\n",
        "  counts = Counter(tunes_chords)\n",
        "  df = pd.DataFrame(counts.items(),\n",
        "                    columns=['chord', 'count']).sort_values(by='count', ascending=False)\n",
        "\n",
        "  return df"
      ],
      "execution_count": 108,
      "outputs": []
    },
    {
      "cell_type": "markdown",
      "metadata": {
        "id": "umfsNtAdF0jM"
      },
      "source": [
        "# Data Preparation"
      ]
    },
    {
      "cell_type": "code",
      "metadata": {
        "id": "FeRqVmphCS6m"
      },
      "source": [
        "def remove_chord_repetitions(chords):\n",
        "  previous = ''\n",
        "  chords_norep = []\n",
        "  for c in chords:\n",
        "    if c != previous:\n",
        "      chords_norep.append(c)\n",
        "      previous = c\n",
        "  return chords_norep\n",
        "  "
      ],
      "execution_count": 109,
      "outputs": []
    },
    {
      "cell_type": "code",
      "metadata": {
        "id": "dCLwnqoVGcMw"
      },
      "source": [
        "lines = df.loc[:, 'chords'].tolist()\n",
        "data = [line.split(' ') for line in lines]"
      ],
      "execution_count": 110,
      "outputs": []
    },
    {
      "cell_type": "code",
      "metadata": {
        "colab": {
          "base_uri": "https://localhost:8080/"
        },
        "id": "g7SmApW9F3K6",
        "outputId": "ddf1029e-56e6-4903-b86c-9248a23945d5"
      },
      "source": [
        "processed_corpus = []\n",
        "for line in data:\n",
        "  tune_n = []\n",
        "  if remove_repetitions:\n",
        "    line = remove_chord_repetitions(line)\n",
        "  for n in ngrams_for_input:\n",
        "    tune_n.extend(ngrams(line, n=n))\n",
        "  processed_corpus.append(tune_n)\n",
        "\n",
        "for line in processed_corpus[:10]:\n",
        "  print(line)"
      ],
      "execution_count": 111,
      "outputs": [
        {
          "output_type": "stream",
          "name": "stdout",
          "text": [
            "['CM7', 'Eb7', 'G#M7', 'B7', 'EM7', 'G7', 'Gm7', 'C7', 'FM7', 'G#7', 'C#M7', 'E7', 'Am7', 'D7', 'Dm7', 'G7', 'CM7', 'Eb7', 'G#M7', 'B7', 'EM7', 'G7', 'Gm7', 'C7', 'FM7', 'Eb7', 'G#M7', 'B7', 'EM7', 'G7', 'CM7', 'Gm7', 'C7', 'Bm7', 'E7', 'AM7', 'C7', 'FM7', 'Bbm7', 'Eb7', 'G#M7', 'Dm7', 'G7', 'CM7', 'Eb7', 'G#M7', 'B7', 'EM7', 'G7', 'Gm7', 'C7', 'FM7', 'Eb7', 'G#M7', 'B7', 'EM7', 'G7', 'CM7']\n",
            "['Am7', 'Am7', 'Cm7', 'Cm7', 'EbM7', 'EbM7', 'Em7b5', 'A7', 'Dm7', 'Dm7', 'Bm7b5', 'Bm7b5', 'Bbm7', 'Bbm7', 'Fm7', 'Fm7', 'E7', 'E7', 'Fm7', 'Fm7', 'C#M7', 'C#M7', 'Fm7', 'Fm7', 'C#M7', 'C#M7']\n",
            "['Am7', 'C#M7', 'Bm7b5', 'E7', 'Am7', 'C#M7', 'Bm7b5', 'E7', 'Cm7', 'F7', 'BbM7', 'G#m7', 'C#7', 'F#m7b5', 'B7', 'EM7', 'EM7', 'E7', 'Am7', 'C#M7', 'Bm7b5', 'E7', 'Am7', 'C#M7', 'Bm7b5', 'E7', 'Cm7', 'F7', 'BbM7', 'G#m7', 'C#7', 'F#m7b5', 'B7', 'Em7', 'Em7']\n",
            "['C', 'Am7', 'Dm7', 'G7', 'C', 'Am7', 'Dm7', 'G7', 'C', 'Am7', 'Dm7', 'G7', 'C', 'G7', 'C', 'C', 'Am7', 'Dm7', 'G7', 'C', 'Am7', 'Dm7', 'G7', 'C', 'Am7', 'Dm7', 'G7', 'C', 'G7', 'C', 'C7', 'C7', 'F6', 'F6', 'D7', 'D7', 'G7', 'G7', 'C', 'Am7', 'Dm7', 'G7', 'C', 'Am7', 'Dm7', 'G7', 'C', 'Am7', 'Dm7', 'G7', 'C', 'G7', 'C']\n",
            "['C7', 'Ebm6', 'C7', 'Ebm6', 'Bb', 'Bb7', 'A7', 'G#7', 'G7', 'C7', 'F#dim7', 'C7', 'G#7', 'G7', 'C7', 'Ebm6', 'C7', 'Ebm6', 'Bb', 'Bb7', 'A7', 'G#7', 'G7', 'C7', 'F#dim7', 'C7', 'F7', 'Bb', 'Bb', 'Eb', 'Eb6', 'Eb6', 'Eb6', 'G7', 'F', 'F6', 'F7', 'F7', 'C7', 'Ebm6', 'C7', 'Ebm6', 'Bb', 'Bb7', 'A7', 'G#7', 'G7', 'C7', 'F#dim7', 'C6', 'F7', 'Bb', 'D7']\n",
            "['Dm7', 'G7', 'CM7', 'C#m7', 'F#7', 'BM7', 'Em7', 'A7', 'Gm7b5', 'F#m7', 'B7', 'Em7', 'A7', 'F#m7', 'B7', 'Em7', 'Gm6', 'F#m7', 'Fdim7', 'Em7', 'A7', 'Dm7', 'G7', 'CM7', 'C#m7', 'F#7', 'BM7', 'Em7', 'A7', 'Gm7b5', 'F#m7', 'B7', 'Dm7', 'G7', 'Em7', 'A7', 'Dm7', 'FmM7', 'Em7', 'Ebdim7', 'Dm7', 'G7', 'CM7', 'Fm7', 'Bb7', 'Gm7', 'F#dim7', 'Fm7', 'Bb7', 'EbM7', 'Ebm7', 'G#7', 'C#M7', 'Em7', 'Ebm7', 'G#7', 'C#M7', 'Em7', 'A7', 'Dm7', 'G7', 'CM7', 'C#m7', 'F#7', 'BM7', 'Em7', 'A7', 'Gm7b5', 'F#m7', 'B7', 'Em7', 'A7', 'F#m7', 'B7', 'Em7', 'Gm6', 'F#m7', 'Fdim7', 'Em7', 'A7', 'DM7', 'Dm7', 'G7', 'Em7', 'A7', 'D7', 'G#7', 'G#dim', 'Adim', 'Bbdim', 'Bdim', 'C', 'C#M7', 'CM7']\n",
            "['CM7', 'F#7', 'FM7', 'Em7b5', 'A7', 'Am7', 'D7', 'Dm7', 'G7', 'CM7', 'F#7', 'FM7', 'Em7b5', 'A7', 'Am7', 'D7', 'Dm7', 'G7', 'Gm7', 'C7', 'FM7', 'Bb7', 'Em7', 'A7', 'D7', 'G7', 'CM7', 'F#7', 'FM7', 'Em7b5', 'A7', 'Dm7', 'G7', 'C6', 'A7', 'D7', 'G7']\n",
            "['C6', 'C#dim', 'Dm7', 'G7', 'G7', 'C6', 'CM7', 'Ebdim', 'Dm7', 'G7', 'Dm7', 'G7', 'C6', 'C#dim', 'G7', 'G7', 'C6', 'C#dim', 'Dm7', 'G7', 'G7', 'C6', 'C7', 'FM7', 'CM7', 'Dm7', 'C6', 'C7', 'FM7', 'Fm6', 'CM7', 'Ebdim7', 'Dm7', 'G7', 'C6', 'Dm7', 'G7']\n",
            "['Dm7', 'G7', 'CM7', 'CM7', 'Dm7', 'G7', 'CM7', 'CM7', 'Bm7', 'E7', 'Am7', 'D7', 'GM7', 'Am7', 'D7', 'Dm7', 'G7', 'C', 'G7', 'Dm7', 'G7', 'CM7', 'CM7', 'Dm7', 'G7', 'CM7', 'CM7', 'EM7', 'FM7', 'A7', 'Dm7', 'Fm6', 'E7', 'CM7', 'Am7', 'Dm7', 'G7', 'CM7', 'CM7']\n",
            "['CM7', 'Fm', 'CM7', 'Fm', 'CM7', 'Fm', 'Bm7b5', 'E7', 'Am7', 'E7', 'Am7', 'E7', 'Am7', 'D7', 'G7', 'G7', 'CM7', 'Fm', 'CM7', 'Fm', 'CM7', 'E7(+b5)', 'FM7', 'Bb7', 'C', 'G#6', 'Am7', 'D7', 'G7', 'G7']\n"
          ]
        }
      ]
    },
    {
      "cell_type": "code",
      "metadata": {
        "colab": {
          "base_uri": "https://localhost:8080/"
        },
        "id": "LB8GSXPwBcyU",
        "outputId": "d9b4934e-a3d4-46d0-8118-aff4c0541ca8"
      },
      "source": [
        "processed_corpus[1077]"
      ],
      "execution_count": 112,
      "outputs": [
        {
          "output_type": "execute_result",
          "data": {
            "text/plain": [
              "['CM7',\n",
              " 'Ebdim7',\n",
              " 'Dm7',\n",
              " 'G7',\n",
              " 'CM7',\n",
              " 'A7',\n",
              " 'Dm7',\n",
              " 'G7',\n",
              " 'Em7',\n",
              " 'A7',\n",
              " 'Dm7',\n",
              " 'G7',\n",
              " 'Fm7',\n",
              " 'Bb7',\n",
              " 'Em7',\n",
              " 'A7',\n",
              " 'Dm7',\n",
              " 'G7',\n",
              " 'CM7',\n",
              " 'Ebdim7',\n",
              " 'Dm7',\n",
              " 'G7',\n",
              " 'CM7',\n",
              " 'A7',\n",
              " 'Dm7',\n",
              " 'G7',\n",
              " 'Em7',\n",
              " 'A7',\n",
              " 'Dm7',\n",
              " 'G7',\n",
              " 'C6',\n",
              " 'C6',\n",
              " 'C6',\n",
              " 'F#m7b5',\n",
              " 'B7',\n",
              " 'EM7',\n",
              " 'EM7',\n",
              " 'F#m7',\n",
              " 'B7',\n",
              " 'EM7',\n",
              " 'EM7',\n",
              " 'Bbm7b5',\n",
              " 'Eb7',\n",
              " 'G#m7',\n",
              " 'G#m7',\n",
              " 'C#7',\n",
              " 'C#7',\n",
              " 'F#7',\n",
              " 'F#7',\n",
              " 'B7',\n",
              " 'B7',\n",
              " 'CM7',\n",
              " 'Ebdim7',\n",
              " 'Dm7',\n",
              " 'G7',\n",
              " 'Gm7',\n",
              " 'C7',\n",
              " 'FM7',\n",
              " 'Bb7',\n",
              " 'Em7',\n",
              " 'A7',\n",
              " 'Dm7',\n",
              " 'G7',\n",
              " 'C6',\n",
              " 'A7',\n",
              " 'Dm7',\n",
              " 'G7']"
            ]
          },
          "metadata": {},
          "execution_count": 112
        }
      ]
    },
    {
      "cell_type": "markdown",
      "metadata": {
        "id": "Sri0K2DhNagp"
      },
      "source": [
        "#### Corpus Overview"
      ]
    },
    {
      "cell_type": "code",
      "metadata": {
        "colab": {
          "base_uri": "https://localhost:8080/"
        },
        "id": "X2ZqA7IF4ufg",
        "outputId": "fe6a22e9-93df-4af4-f2c9-22956125166a"
      },
      "source": [
        "tokens = [item for l in processed_corpus for item in l]\n",
        "total_tokens = len(tokens)\n",
        "vocab_size = len(set(tokens))\n",
        "vocab_prop = 100*vocab_size/total_tokens\n",
        "\n",
        "print(f\"Total Number of tokens: {total_tokens}\")\n",
        "print(f\"Size of vocabulary: {vocab_size}\")\n",
        "print(f\"Proportion of vocabulary in corpus: {vocab_prop:.02f}%\")"
      ],
      "execution_count": 113,
      "outputs": [
        {
          "output_type": "stream",
          "name": "stdout",
          "text": [
            "Total Number of tokens: 79498\n",
            "Size of vocabulary: 154\n",
            "Proportion of vocabulary in corpus: 0.19%\n"
          ]
        }
      ]
    },
    {
      "cell_type": "code",
      "metadata": {
        "colab": {
          "base_uri": "https://localhost:8080/",
          "height": 206
        },
        "id": "rULq3jYVNh_x",
        "outputId": "fa945dcb-1d96-473d-bff0-2fb068637b41"
      },
      "source": [
        "df_chords = raw_chords_to_df(processed_corpus)\n",
        "df_chords.head()"
      ],
      "execution_count": 114,
      "outputs": [
        {
          "output_type": "execute_result",
          "data": {
            "text/html": [
              "<div>\n",
              "<style scoped>\n",
              "    .dataframe tbody tr th:only-of-type {\n",
              "        vertical-align: middle;\n",
              "    }\n",
              "\n",
              "    .dataframe tbody tr th {\n",
              "        vertical-align: top;\n",
              "    }\n",
              "\n",
              "    .dataframe thead th {\n",
              "        text-align: right;\n",
              "    }\n",
              "</style>\n",
              "<table border=\"1\" class=\"dataframe\">\n",
              "  <thead>\n",
              "    <tr style=\"text-align: right;\">\n",
              "      <th></th>\n",
              "      <th>chord</th>\n",
              "      <th>count</th>\n",
              "    </tr>\n",
              "  </thead>\n",
              "  <tbody>\n",
              "    <tr>\n",
              "      <th>5</th>\n",
              "      <td>G7</td>\n",
              "      <td>10468</td>\n",
              "    </tr>\n",
              "    <tr>\n",
              "      <th>14</th>\n",
              "      <td>Dm7</td>\n",
              "      <td>6970</td>\n",
              "    </tr>\n",
              "    <tr>\n",
              "      <th>30</th>\n",
              "      <td>C</td>\n",
              "      <td>5837</td>\n",
              "    </tr>\n",
              "    <tr>\n",
              "      <th>0</th>\n",
              "      <td>CM7</td>\n",
              "      <td>5068</td>\n",
              "    </tr>\n",
              "    <tr>\n",
              "      <th>21</th>\n",
              "      <td>A7</td>\n",
              "      <td>4261</td>\n",
              "    </tr>\n",
              "  </tbody>\n",
              "</table>\n",
              "</div>"
            ],
            "text/plain": [
              "   chord  count\n",
              "5   G7    10468\n",
              "14  Dm7   6970 \n",
              "30  C     5837 \n",
              "0   CM7   5068 \n",
              "21  A7    4261 "
            ]
          },
          "metadata": {},
          "execution_count": 114
        }
      ]
    },
    {
      "cell_type": "code",
      "metadata": {
        "colab": {
          "base_uri": "https://localhost:8080/",
          "height": 542
        },
        "id": "G9fknTouNmKm",
        "outputId": "b2a3e913-f78c-4a3b-9007-df11baabee8d"
      },
      "source": [
        "df_chords = pd.DataFrame.from_dict(df_chords)\n",
        "df_chords.sort_values(by=['count'], ascending=False, inplace=True)\n",
        "df_chords_top = df_chords  #df_chords.query('count > 100')\n",
        "\n",
        "fig = px.bar(df_chords_top, x='chord', y='count', log_y=True)\n",
        "fig.update_layout(barmode='stack', xaxis={'categoryorder':'total descending'})\n",
        "fig.show()"
      ],
      "execution_count": 115,
      "outputs": [
        {
          "output_type": "display_data",
          "data": {
            "text/html": [
              "<html>\n",
              "<head><meta charset=\"utf-8\" /></head>\n",
              "<body>\n",
              "    <div>\n",
              "            <script src=\"https://cdnjs.cloudflare.com/ajax/libs/mathjax/2.7.5/MathJax.js?config=TeX-AMS-MML_SVG\"></script><script type=\"text/javascript\">if (window.MathJax) {MathJax.Hub.Config({SVG: {font: \"STIX-Web\"}});}</script>\n",
              "                <script type=\"text/javascript\">window.PlotlyConfig = {MathJaxConfig: 'local'};</script>\n",
              "        <script src=\"https://cdn.plot.ly/plotly-latest.min.js\"></script>    \n",
              "            <div id=\"c9d376e6-0b8d-4b7d-aa98-b0baced1eee2\" class=\"plotly-graph-div\" style=\"height:525px; width:100%;\"></div>\n",
              "            <script type=\"text/javascript\">\n",
              "                \n",
              "                    window.PLOTLYENV=window.PLOTLYENV || {};\n",
              "                    \n",
              "                if (document.getElementById(\"c9d376e6-0b8d-4b7d-aa98-b0baced1eee2\")) {\n",
              "                    Plotly.newPlot(\n",
              "                        'c9d376e6-0b8d-4b7d-aa98-b0baced1eee2',\n",
              "                        [{\"alignmentgroup\": \"True\", \"hoverlabel\": {\"namelength\": 0}, \"hovertemplate\": \"chord=%{x}<br>count=%{y}\", \"legendgroup\": \"\", \"marker\": {\"color\": \"#636efa\"}, \"name\": \"\", \"offsetgroup\": \"\", \"orientation\": \"v\", \"showlegend\": false, \"textposition\": \"auto\", \"type\": \"bar\", \"x\": [\"G7\", \"Dm7\", \"C\", \"CM7\", \"A7\", \"D7\", \"Am7\", \"C7\", \"E7\", \"C6\", \"Em7\", \"FM7\", \"F7\", \"Bb7\", \"F\", \"Am\", \"B7\", \"Gm7\", \"Bm7b5\", \"G#7\", \"Fm7\", \"Eb7\", \"Dm\", \"G\", \"F#m7b5\", \"Ebdim7\", \"Em7b5\", \"C#7\", \"Bm7\", \"F#m7\", \"Cm7\", \"F#7\", \"G#M7\", \"Fm\", \"BbM7\", \"Am6\", \"F6\", \"Fm6\", \"Dm7b5\", \"Ebm7\", \"EbM7\", \"C#M7\", \"EM7\", \"Bbm7\", \"F#dim7\", \"C#dim7\", \"Em\", \"C#m7\", \"GM7\", \"AM7\", \"G13\", \"DM7\", \"Ebdim\", \"E\", \"G#m7\", \"F#dim\", \"Cm\", \"C#dim\", \"BM7\", \"Dm6\", \"F#M7\", \"Cdim7\", \"A\", \"Cdim\", \"D13\", \"C13\", \"G#\", \"Bb\", \"D\", \"Gm\", \"Am7b5\", \"G6\", \"Eb\", \"AmM7\", \"Bb13\", \"G7(+b5)\", \"G#dim7\", \"F13\", \"G#13\", \"C#m7b5\", \"FmM7\", \"E13\", \"E7(+b5)\", \"Fdim7\", \"Bm\", \"C#\", \"Bb6\", \"Cm6\", \"F#7(+b5)\", \"Gm7b5\", \"E6\", \"Gdim\", \"A7(+b5)\", \"Gm6\", \"B7(+b5)\", \"A6\", \"G#dim\", \"G#m7b5\", \"B13\", \"Eb13\", \"A13\", \"B\", \"D6\", \"Eb6\", \"F#\", \"Bb7(+b5)\", \"C#7(+b5)\", \"Edim7\", \"F#13\", \"Adim7\", \"DmM7\", \"Gdim7\", \"Fm7b5\", \"CmM7\", \"G#6\", \"Ebm6\", \"D7(+b5)\", \"Adim\", \"Bbm6\", \"C#13\", \"Bbm\", \"Bbm7b5\", \"C7(+b5)\", \"C#6\", \"Fdim\", \"Ebm\", \"Em6\", \"Ebm7b5\", \"Bbdim7\", \"G#7(+b5)\", \"EmM7\", \"Ddim7\", \"Edim\", \"G#m\", \"Cm7b5\", \"F7(+b5)\", \"GmM7\", \"C#m\", \"Bdim\", \"F#m\", \"F#6\", \"Bm6\", \"Bbdim\", \"F#mM7\", \"Eb7(+b5)\", \"B6\", \"EbmM7\", \"Bdim7\", \"BmM7\", \"Ddim\", \"C#mM7\", \"F#m6\", \"C#m6\", \"BbmM7\"], \"xaxis\": \"x\", \"y\": [10468, 6970, 5837, 5068, 4261, 3720, 3704, 3243, 3009, 2752, 2350, 1740, 1627, 1555, 1517, 1455, 1318, 1128, 913, 882, 793, 578, 559, 558, 552, 485, 476, 474, 454, 433, 420, 403, 397, 389, 354, 349, 334, 327, 314, 309, 299, 283, 266, 262, 255, 250, 246, 226, 213, 193, 181, 178, 165, 149, 147, 125, 121, 121, 116, 115, 109, 108, 96, 92, 90, 89, 88, 87, 84, 83, 82, 72, 72, 69, 60, 56, 55, 55, 52, 51, 48, 47, 46, 46, 45, 42, 41, 40, 40, 40, 37, 37, 37, 36, 36, 35, 34, 34, 33, 32, 29, 29, 28, 28, 28, 27, 27, 26, 26, 24, 23, 23, 23, 22, 21, 21, 20, 20, 19, 18, 16, 16, 15, 14, 14, 13, 13, 13, 12, 12, 11, 10, 10, 9, 9, 9, 9, 9, 8, 8, 7, 7, 6, 6, 6, 6, 5, 5, 5, 3, 3, 2, 2, 1], \"yaxis\": \"y\"}],\n",
              "                        {\"barmode\": \"stack\", \"legend\": {\"tracegroupgap\": 0}, \"margin\": {\"t\": 60}, \"template\": {\"data\": {\"bar\": [{\"error_x\": {\"color\": \"#2a3f5f\"}, \"error_y\": {\"color\": \"#2a3f5f\"}, \"marker\": {\"line\": {\"color\": \"#E5ECF6\", \"width\": 0.5}}, \"type\": \"bar\"}], \"barpolar\": [{\"marker\": {\"line\": {\"color\": \"#E5ECF6\", \"width\": 0.5}}, \"type\": \"barpolar\"}], \"carpet\": [{\"aaxis\": {\"endlinecolor\": \"#2a3f5f\", \"gridcolor\": \"white\", \"linecolor\": \"white\", \"minorgridcolor\": \"white\", \"startlinecolor\": \"#2a3f5f\"}, \"baxis\": {\"endlinecolor\": \"#2a3f5f\", \"gridcolor\": \"white\", \"linecolor\": \"white\", \"minorgridcolor\": \"white\", \"startlinecolor\": \"#2a3f5f\"}, \"type\": \"carpet\"}], \"choropleth\": [{\"colorbar\": {\"outlinewidth\": 0, \"ticks\": \"\"}, \"type\": \"choropleth\"}], \"contour\": [{\"colorbar\": {\"outlinewidth\": 0, \"ticks\": \"\"}, \"colorscale\": [[0.0, \"#0d0887\"], [0.1111111111111111, \"#46039f\"], [0.2222222222222222, \"#7201a8\"], [0.3333333333333333, \"#9c179e\"], [0.4444444444444444, \"#bd3786\"], [0.5555555555555556, \"#d8576b\"], [0.6666666666666666, \"#ed7953\"], [0.7777777777777778, \"#fb9f3a\"], [0.8888888888888888, \"#fdca26\"], [1.0, \"#f0f921\"]], \"type\": \"contour\"}], \"contourcarpet\": [{\"colorbar\": {\"outlinewidth\": 0, \"ticks\": \"\"}, \"type\": \"contourcarpet\"}], \"heatmap\": [{\"colorbar\": {\"outlinewidth\": 0, \"ticks\": \"\"}, \"colorscale\": [[0.0, \"#0d0887\"], [0.1111111111111111, \"#46039f\"], [0.2222222222222222, \"#7201a8\"], [0.3333333333333333, \"#9c179e\"], [0.4444444444444444, \"#bd3786\"], [0.5555555555555556, \"#d8576b\"], [0.6666666666666666, \"#ed7953\"], [0.7777777777777778, \"#fb9f3a\"], [0.8888888888888888, \"#fdca26\"], [1.0, \"#f0f921\"]], \"type\": \"heatmap\"}], \"heatmapgl\": [{\"colorbar\": {\"outlinewidth\": 0, \"ticks\": \"\"}, \"colorscale\": [[0.0, \"#0d0887\"], [0.1111111111111111, \"#46039f\"], [0.2222222222222222, \"#7201a8\"], [0.3333333333333333, \"#9c179e\"], [0.4444444444444444, \"#bd3786\"], [0.5555555555555556, \"#d8576b\"], [0.6666666666666666, \"#ed7953\"], [0.7777777777777778, \"#fb9f3a\"], [0.8888888888888888, \"#fdca26\"], [1.0, \"#f0f921\"]], \"type\": \"heatmapgl\"}], \"histogram\": [{\"marker\": {\"colorbar\": {\"outlinewidth\": 0, \"ticks\": \"\"}}, \"type\": \"histogram\"}], \"histogram2d\": [{\"colorbar\": {\"outlinewidth\": 0, \"ticks\": \"\"}, \"colorscale\": [[0.0, \"#0d0887\"], [0.1111111111111111, \"#46039f\"], [0.2222222222222222, \"#7201a8\"], [0.3333333333333333, \"#9c179e\"], [0.4444444444444444, \"#bd3786\"], [0.5555555555555556, \"#d8576b\"], [0.6666666666666666, \"#ed7953\"], [0.7777777777777778, \"#fb9f3a\"], [0.8888888888888888, \"#fdca26\"], [1.0, \"#f0f921\"]], \"type\": \"histogram2d\"}], \"histogram2dcontour\": [{\"colorbar\": {\"outlinewidth\": 0, \"ticks\": \"\"}, \"colorscale\": [[0.0, \"#0d0887\"], [0.1111111111111111, \"#46039f\"], [0.2222222222222222, \"#7201a8\"], [0.3333333333333333, \"#9c179e\"], [0.4444444444444444, \"#bd3786\"], [0.5555555555555556, \"#d8576b\"], [0.6666666666666666, \"#ed7953\"], [0.7777777777777778, \"#fb9f3a\"], [0.8888888888888888, \"#fdca26\"], [1.0, \"#f0f921\"]], \"type\": \"histogram2dcontour\"}], \"mesh3d\": [{\"colorbar\": {\"outlinewidth\": 0, \"ticks\": \"\"}, \"type\": \"mesh3d\"}], \"parcoords\": [{\"line\": {\"colorbar\": {\"outlinewidth\": 0, \"ticks\": \"\"}}, \"type\": \"parcoords\"}], \"pie\": [{\"automargin\": true, \"type\": \"pie\"}], \"scatter\": [{\"marker\": {\"colorbar\": {\"outlinewidth\": 0, \"ticks\": \"\"}}, \"type\": \"scatter\"}], \"scatter3d\": [{\"line\": {\"colorbar\": {\"outlinewidth\": 0, \"ticks\": \"\"}}, \"marker\": {\"colorbar\": {\"outlinewidth\": 0, \"ticks\": \"\"}}, \"type\": \"scatter3d\"}], \"scattercarpet\": [{\"marker\": {\"colorbar\": {\"outlinewidth\": 0, \"ticks\": \"\"}}, \"type\": \"scattercarpet\"}], \"scattergeo\": [{\"marker\": {\"colorbar\": {\"outlinewidth\": 0, \"ticks\": \"\"}}, \"type\": \"scattergeo\"}], \"scattergl\": [{\"marker\": {\"colorbar\": {\"outlinewidth\": 0, \"ticks\": \"\"}}, \"type\": \"scattergl\"}], \"scattermapbox\": [{\"marker\": {\"colorbar\": {\"outlinewidth\": 0, \"ticks\": \"\"}}, \"type\": \"scattermapbox\"}], \"scatterpolar\": [{\"marker\": {\"colorbar\": {\"outlinewidth\": 0, \"ticks\": \"\"}}, \"type\": \"scatterpolar\"}], \"scatterpolargl\": [{\"marker\": {\"colorbar\": {\"outlinewidth\": 0, \"ticks\": \"\"}}, \"type\": \"scatterpolargl\"}], \"scatterternary\": [{\"marker\": {\"colorbar\": {\"outlinewidth\": 0, \"ticks\": \"\"}}, \"type\": \"scatterternary\"}], \"surface\": [{\"colorbar\": {\"outlinewidth\": 0, \"ticks\": \"\"}, \"colorscale\": [[0.0, \"#0d0887\"], [0.1111111111111111, \"#46039f\"], [0.2222222222222222, \"#7201a8\"], [0.3333333333333333, \"#9c179e\"], [0.4444444444444444, \"#bd3786\"], [0.5555555555555556, \"#d8576b\"], [0.6666666666666666, \"#ed7953\"], [0.7777777777777778, \"#fb9f3a\"], [0.8888888888888888, \"#fdca26\"], [1.0, \"#f0f921\"]], \"type\": \"surface\"}], \"table\": [{\"cells\": {\"fill\": {\"color\": \"#EBF0F8\"}, \"line\": {\"color\": \"white\"}}, \"header\": {\"fill\": {\"color\": \"#C8D4E3\"}, \"line\": {\"color\": \"white\"}}, \"type\": \"table\"}]}, \"layout\": {\"annotationdefaults\": {\"arrowcolor\": \"#2a3f5f\", \"arrowhead\": 0, \"arrowwidth\": 1}, \"coloraxis\": {\"colorbar\": {\"outlinewidth\": 0, \"ticks\": \"\"}}, \"colorscale\": {\"diverging\": [[0, \"#8e0152\"], [0.1, \"#c51b7d\"], [0.2, \"#de77ae\"], [0.3, \"#f1b6da\"], [0.4, \"#fde0ef\"], [0.5, \"#f7f7f7\"], [0.6, \"#e6f5d0\"], [0.7, \"#b8e186\"], [0.8, \"#7fbc41\"], [0.9, \"#4d9221\"], [1, \"#276419\"]], \"sequential\": [[0.0, \"#0d0887\"], [0.1111111111111111, \"#46039f\"], [0.2222222222222222, \"#7201a8\"], [0.3333333333333333, \"#9c179e\"], [0.4444444444444444, \"#bd3786\"], [0.5555555555555556, \"#d8576b\"], [0.6666666666666666, \"#ed7953\"], [0.7777777777777778, \"#fb9f3a\"], [0.8888888888888888, \"#fdca26\"], [1.0, \"#f0f921\"]], \"sequentialminus\": [[0.0, \"#0d0887\"], [0.1111111111111111, \"#46039f\"], [0.2222222222222222, \"#7201a8\"], [0.3333333333333333, \"#9c179e\"], [0.4444444444444444, \"#bd3786\"], [0.5555555555555556, \"#d8576b\"], [0.6666666666666666, \"#ed7953\"], [0.7777777777777778, \"#fb9f3a\"], [0.8888888888888888, \"#fdca26\"], [1.0, \"#f0f921\"]]}, \"colorway\": [\"#636efa\", \"#EF553B\", \"#00cc96\", \"#ab63fa\", \"#FFA15A\", \"#19d3f3\", \"#FF6692\", \"#B6E880\", \"#FF97FF\", \"#FECB52\"], \"font\": {\"color\": \"#2a3f5f\"}, \"geo\": {\"bgcolor\": \"white\", \"lakecolor\": \"white\", \"landcolor\": \"#E5ECF6\", \"showlakes\": true, \"showland\": true, \"subunitcolor\": \"white\"}, \"hoverlabel\": {\"align\": \"left\"}, \"hovermode\": \"closest\", \"mapbox\": {\"style\": \"light\"}, \"paper_bgcolor\": \"white\", \"plot_bgcolor\": \"#E5ECF6\", \"polar\": {\"angularaxis\": {\"gridcolor\": \"white\", \"linecolor\": \"white\", \"ticks\": \"\"}, \"bgcolor\": \"#E5ECF6\", \"radialaxis\": {\"gridcolor\": \"white\", \"linecolor\": \"white\", \"ticks\": \"\"}}, \"scene\": {\"xaxis\": {\"backgroundcolor\": \"#E5ECF6\", \"gridcolor\": \"white\", \"gridwidth\": 2, \"linecolor\": \"white\", \"showbackground\": true, \"ticks\": \"\", \"zerolinecolor\": \"white\"}, \"yaxis\": {\"backgroundcolor\": \"#E5ECF6\", \"gridcolor\": \"white\", \"gridwidth\": 2, \"linecolor\": \"white\", \"showbackground\": true, \"ticks\": \"\", \"zerolinecolor\": \"white\"}, \"zaxis\": {\"backgroundcolor\": \"#E5ECF6\", \"gridcolor\": \"white\", \"gridwidth\": 2, \"linecolor\": \"white\", \"showbackground\": true, \"ticks\": \"\", \"zerolinecolor\": \"white\"}}, \"shapedefaults\": {\"line\": {\"color\": \"#2a3f5f\"}}, \"ternary\": {\"aaxis\": {\"gridcolor\": \"white\", \"linecolor\": \"white\", \"ticks\": \"\"}, \"baxis\": {\"gridcolor\": \"white\", \"linecolor\": \"white\", \"ticks\": \"\"}, \"bgcolor\": \"#E5ECF6\", \"caxis\": {\"gridcolor\": \"white\", \"linecolor\": \"white\", \"ticks\": \"\"}}, \"title\": {\"x\": 0.05}, \"xaxis\": {\"automargin\": true, \"gridcolor\": \"white\", \"linecolor\": \"white\", \"ticks\": \"\", \"title\": {\"standoff\": 15}, \"zerolinecolor\": \"white\", \"zerolinewidth\": 2}, \"yaxis\": {\"automargin\": true, \"gridcolor\": \"white\", \"linecolor\": \"white\", \"ticks\": \"\", \"title\": {\"standoff\": 15}, \"zerolinecolor\": \"white\", \"zerolinewidth\": 2}}}, \"xaxis\": {\"anchor\": \"y\", \"categoryorder\": \"total descending\", \"domain\": [0.0, 1.0], \"title\": {\"text\": \"chord\"}}, \"yaxis\": {\"anchor\": \"x\", \"domain\": [0.0, 1.0], \"title\": {\"text\": \"count\"}, \"type\": \"log\"}},\n",
              "                        {\"responsive\": true}\n",
              "                    ).then(function(){\n",
              "                            \n",
              "var gd = document.getElementById('c9d376e6-0b8d-4b7d-aa98-b0baced1eee2');\n",
              "var x = new MutationObserver(function (mutations, observer) {{\n",
              "        var display = window.getComputedStyle(gd).display;\n",
              "        if (!display || display === 'none') {{\n",
              "            console.log([gd, 'removed!']);\n",
              "            Plotly.purge(gd);\n",
              "            observer.disconnect();\n",
              "        }}\n",
              "}});\n",
              "\n",
              "// Listen for the removal of the full notebook cells\n",
              "var notebookContainer = gd.closest('#notebook-container');\n",
              "if (notebookContainer) {{\n",
              "    x.observe(notebookContainer, {childList: true});\n",
              "}}\n",
              "\n",
              "// Listen for the clearing of the current output cell\n",
              "var outputEl = gd.closest('.output');\n",
              "if (outputEl) {{\n",
              "    x.observe(outputEl, {childList: true});\n",
              "}}\n",
              "\n",
              "                        })\n",
              "                };\n",
              "                \n",
              "            </script>\n",
              "        </div>\n",
              "</body>\n",
              "</html>"
            ]
          },
          "metadata": {}
        }
      ]
    },
    {
      "cell_type": "code",
      "metadata": {
        "colab": {
          "base_uri": "https://localhost:8080/",
          "height": 168
        },
        "id": "Jw6X1jvdM1dz",
        "outputId": "c899346c-cb2c-4184-8710-c411799cdde4"
      },
      "source": [
        "from collections import Counter\n",
        "\n",
        "counter_of_words = df_chords.set_index('chord').to_dict(orient='dict')\n",
        "counter_of_words = Counter(counter_of_words['count'])\n",
        "\n",
        "word_counts = sorted(counter_of_words.values(), reverse=True)\n",
        "frequency_rank = np.array(list(range(1, len(word_counts) + 1)))\n",
        "\n",
        "# plot\n",
        "plt.figure(figsize=(20, 3))\n",
        "plt.subplot(1, 2, 1)\n",
        "\n",
        "n = 30\n",
        "df_top = df_chords_top.head(n)\n",
        "plt.bar(df_top['chord'], np.log(df_top['count']))\n",
        "plt.xlabel('')\n",
        "plt.ylabel('Absolute Counts (log)')\n",
        "plt.title(f'Top {n} Most Frequent Chords in the Corpus')\n",
        "ax = plt.gca()\n",
        "ax.set_xticklabels(labels=df_chords_top['chord'],rotation=90);\n",
        "\n",
        "plt.subplot(1, 2, 2)\n",
        "\n",
        "plt.scatter(np.log(frequency_rank), np.log(word_counts))\n",
        "plt.xlabel('Frequency Rank of Token (log)')\n",
        "plt.ylabel('Absolute Count of Token (log)')\n",
        "plt.title('Zipf Plot for Chord Frequencies')\n",
        "\n",
        "plt.subplots_adjust(bottom=0.3, top=0.7)\n",
        "\n",
        "plt.savefig('plot.png')"
      ],
      "execution_count": 116,
      "outputs": [
        {
          "output_type": "display_data",
          "data": {
            "image/png": "[encoded data removed]",
            "text/plain": [
              "<Figure size 1440x216 with 2 Axes>"
            ]
          },
          "metadata": {
            "needs_background": "light"
          }
        }
      ]
    },
    {
      "cell_type": "code",
      "metadata": {
        "colab": {
          "base_uri": "https://localhost:8080/",
          "height": 258
        },
        "id": "hLcrxEEISvp1",
        "outputId": "7620a4e0-e97c-4b62-a57f-554ea8a9d07d"
      },
      "source": [
        "n = 100\n",
        "\n",
        "plt.figure(figsize=(20, 8))\n",
        "\n",
        "df_top = df_chords_top.head(n)\n",
        "plt.subplot(2, 1, 2)\n",
        "plt.bar(df_top['chord'], np.log(df_top['count']))\n",
        "plt.xlabel('')\n",
        "plt.ylabel('Absolute Counts (log)')\n",
        "plt.title(f'Top {n} Most Frequent Phrases in the Corpus')\n",
        "ax = plt.gca()\n",
        "ax.set_xticklabels(labels=df_chords_top['chord'],rotation=90);\n",
        "\n",
        "plt.savefig('plot_top.png')"
      ],
      "execution_count": 117,
      "outputs": [
        {
          "output_type": "display_data",
          "data": {
            "image/png": "[encoded data removed]",
            "text/plain": [
              "<Figure size 1440x576 with 1 Axes>"
            ]
          },
          "metadata": {
            "needs_background": "light"
          }
        }
      ]
    },
    {
      "cell_type": "code",
      "metadata": {
        "id": "a1IvM4wh7zOv"
      },
      "source": [
        "if use_wandb:\n",
        "  wandb.log(\n",
        "      {\"corpus\": {\n",
        "              \"total_tokens\": total_tokens,\n",
        "              \"vocab_size\": vocab_size,\n",
        "              \"vocab_proportion_in_corpus\": vocab_prop,\n",
        "              \"zipf_plot\": wandb.Image('plot.png'),\n",
        "              \"top_plot\": wandb.Image('plot_top.png'),\n",
        "              }\n",
        "      }\n",
        "  )"
      ],
      "execution_count": 118,
      "outputs": []
    },
    {
      "cell_type": "markdown",
      "metadata": {
        "id": "gItyP84yIR9P"
      },
      "source": [
        "#### Phrases"
      ]
    },
    {
      "cell_type": "code",
      "metadata": {
        "colab": {
          "base_uri": "https://localhost:8080/"
        },
        "id": "m5jGeci5JQMr",
        "outputId": "38b2a055-96fc-451f-c988-945908681ac1"
      },
      "source": [
        "def make_bigrams(texts, thres=0.2):\n",
        "  bigram = gensim.models.Phrases(texts, min_count=1, threshold=thres, connector_words=[], scoring='npmi')\n",
        "  bigram_mod = gensim.models.phrases.Phraser(bigram)\n",
        "  return [bigram_mod[doc] for doc in texts]\n",
        "\n",
        "\n",
        "thres = 0.6\n",
        "processed_corpus = make_bigrams(data, thres=thres)\n",
        "\n",
        "for i in processed_corpus[:10]:\n",
        "  print(i)"
      ],
      "execution_count": 119,
      "outputs": [
        {
          "output_type": "stream",
          "name": "stderr",
          "text": [
            "2021-11-29 20:10:57,630 : INFO : collecting all words and their counts\n",
            "2021-11-29 20:10:57,632 : INFO : PROGRESS: at sentence #0, processed 0 words and 0 word types\n",
            "2021-11-29 20:10:57,736 : INFO : collected 3969 token types (unigram + bigrams) from a corpus of 79498 words and 1740 sentences\n",
            "2021-11-29 20:10:57,738 : INFO : merged Phrases<3969 vocab, min_count=1, threshold=0.6, max_vocab_size=40000000>\n",
            "2021-11-29 20:10:57,739 : INFO : Phrases lifecycle event {'msg': 'built Phrases<3969 vocab, min_count=1, threshold=0.6, max_vocab_size=40000000> in 0.11s', 'datetime': '2021-11-29T20:10:57.739615', 'gensim': '4.1.2', 'python': '3.7.12 (default, Sep 10 2021, 00:21:48) \\n[GCC 7.5.0]', 'platform': 'Linux-5.4.104+-x86_64-with-Ubuntu-18.04-bionic', 'event': 'created'}\n",
            "2021-11-29 20:10:57,743 : INFO : exporting phrases from Phrases<3969 vocab, min_count=1, threshold=0.6, max_vocab_size=40000000>\n",
            "2021-11-29 20:10:57,760 : INFO : FrozenPhrases lifecycle event {'msg': 'exported FrozenPhrases<49 phrases, min_count=1, threshold=0.6> from Phrases<3969 vocab, min_count=1, threshold=0.6, max_vocab_size=40000000> in 0.01s', 'datetime': '2021-11-29T20:10:57.760550', 'gensim': '4.1.2', 'python': '3.7.12 (default, Sep 10 2021, 00:21:48) \\n[GCC 7.5.0]', 'platform': 'Linux-5.4.104+-x86_64-with-Ubuntu-18.04-bionic', 'event': 'created'}\n"
          ]
        },
        {
          "output_type": "stream",
          "name": "stdout",
          "text": [
            "['CM7', 'Eb7_G#M7', 'B7', 'EM7', 'G7', 'Gm7_C7', 'FM7', 'G#7', 'C#M7', 'E7', 'Am7', 'D7', 'Dm7_G7', 'CM7', 'Eb7_G#M7', 'B7', 'EM7', 'G7', 'Gm7_C7', 'FM7', 'Eb7_G#M7', 'B7', 'EM7', 'G7', 'CM7', 'Gm7_C7', 'Bm7', 'E7', 'AM7', 'C7', 'FM7', 'Bbm7_Eb7', 'G#M7', 'Dm7_G7', 'CM7', 'Eb7_G#M7', 'B7', 'EM7', 'G7', 'Gm7_C7', 'FM7', 'Eb7_G#M7', 'B7', 'EM7', 'G7', 'CM7']\n",
            "['Am7', 'Am7', 'Cm7', 'Cm7', 'EbM7', 'EbM7', 'Em7b5', 'A7', 'Dm7', 'Dm7', 'Bm7b5', 'Bm7b5', 'Bbm7', 'Bbm7', 'Fm7', 'Fm7', 'E7', 'E7', 'Fm7', 'Fm7', 'C#M7', 'C#M7', 'Fm7', 'Fm7', 'C#M7', 'C#M7']\n",
            "['Am7', 'C#M7', 'Bm7b5_E7', 'Am7', 'C#M7', 'Bm7b5_E7', 'Cm7', 'F7', 'BbM7', 'G#m7_C#7', 'F#m7b5_B7', 'EM7', 'EM7', 'E7', 'Am7', 'C#M7', 'Bm7b5_E7', 'Am7', 'C#M7', 'Bm7b5_E7', 'Cm7', 'F7', 'BbM7', 'G#m7_C#7', 'F#m7b5_B7', 'Em7', 'Em7']\n",
            "['C', 'Am7', 'Dm7_G7', 'C', 'Am7', 'Dm7_G7', 'C', 'Am7', 'Dm7_G7', 'C', 'G7', 'C', 'C', 'Am7', 'Dm7_G7', 'C', 'Am7', 'Dm7_G7', 'C', 'Am7', 'Dm7_G7', 'C', 'G7', 'C', 'C7', 'C7', 'F6', 'F6', 'D7', 'D7', 'G7', 'G7', 'C', 'Am7', 'Dm7_G7', 'C', 'Am7', 'Dm7_G7', 'C', 'Am7', 'Dm7_G7', 'C', 'G7', 'C']\n",
            "['C7', 'Ebm6', 'C7', 'Ebm6', 'Bb', 'Bb7', 'A7', 'G#7', 'G7', 'C7', 'F#dim7', 'C7', 'G#7', 'G7', 'C7', 'Ebm6', 'C7', 'Ebm6', 'Bb', 'Bb7', 'A7', 'G#7', 'G7', 'C7', 'F#dim7', 'C7', 'F7', 'Bb', 'Bb', 'Eb', 'Eb6', 'Eb6', 'Eb6', 'G7', 'F', 'F6', 'F7', 'F7', 'C7', 'Ebm6', 'C7', 'Ebm6', 'Bb', 'Bb7', 'A7', 'G#7', 'G7', 'C7', 'F#dim7', 'C6', 'F7', 'Bb', 'D7']\n",
            "['Dm7_G7', 'CM7', 'C#m7_F#7', 'BM7', 'Em7', 'A7', 'Gm7b5', 'F#m7_B7', 'Em7', 'A7', 'F#m7_B7', 'Em7', 'Gm6', 'F#m7', 'Fdim7', 'Em7', 'A7', 'Dm7_G7', 'CM7', 'C#m7_F#7', 'BM7', 'Em7', 'A7', 'Gm7b5', 'F#m7_B7', 'Dm7_G7', 'Em7', 'A7', 'Dm7', 'FmM7', 'Em7', 'Ebdim7', 'Dm7_G7', 'CM7', 'Fm7_Bb7', 'Gm7', 'F#dim7', 'Fm7_Bb7', 'EbM7', 'Ebm7_G#7', 'C#M7', 'Em7', 'Ebm7_G#7', 'C#M7', 'Em7', 'A7', 'Dm7_G7', 'CM7', 'C#m7_F#7', 'BM7', 'Em7', 'A7', 'Gm7b5', 'F#m7_B7', 'Em7', 'A7', 'F#m7_B7', 'Em7', 'Gm6', 'F#m7', 'Fdim7', 'Em7', 'A7', 'DM7', 'Dm7_G7', 'Em7', 'A7', 'D7', 'G#7', 'G#dim', 'Adim', 'Bbdim_Bdim', 'C', 'C#M7', 'CM7']\n",
            "['CM7', 'F#7', 'FM7', 'Em7b5', 'A7', 'Am7', 'D7', 'Dm7_G7', 'CM7', 'F#7', 'FM7', 'Em7b5', 'A7', 'Am7', 'D7', 'Dm7_G7', 'Gm7_C7', 'FM7', 'Bb7', 'Em7', 'A7', 'D7', 'G7', 'CM7', 'F#7', 'FM7', 'Em7b5', 'A7', 'Dm7_G7', 'C6', 'A7', 'D7', 'G7']\n",
            "['C6', 'C#dim', 'Dm7_G7', 'G7', 'C6', 'CM7', 'Ebdim', 'Dm7_G7', 'Dm7_G7', 'C6', 'C#dim', 'G7', 'G7', 'C6', 'C#dim', 'Dm7_G7', 'G7', 'C6', 'C7', 'FM7', 'CM7', 'Dm7', 'C6', 'C7', 'FM7', 'Fm6', 'CM7', 'Ebdim7', 'Dm7_G7', 'C6', 'Dm7_G7']\n",
            "['Dm7_G7', 'CM7', 'CM7', 'Dm7_G7', 'CM7', 'CM7', 'Bm7', 'E7', 'Am7', 'D7', 'GM7', 'Am7', 'D7', 'Dm7_G7', 'C', 'G7', 'Dm7_G7', 'CM7', 'CM7', 'Dm7_G7', 'CM7', 'CM7', 'EM7', 'FM7', 'A7', 'Dm7', 'Fm6', 'E7', 'CM7', 'Am7', 'Dm7_G7', 'CM7', 'CM7']\n",
            "['CM7', 'Fm', 'CM7', 'Fm', 'CM7', 'Fm', 'Bm7b5_E7', 'Am7', 'E7', 'Am7', 'E7', 'Am7', 'D7', 'G7', 'G7', 'CM7', 'Fm', 'CM7', 'Fm', 'CM7', 'E7(+b5)', 'FM7', 'Bb7', 'C', 'G#6', 'Am7', 'D7', 'G7', 'G7']\n"
          ]
        }
      ]
    },
    {
      "cell_type": "code",
      "metadata": {
        "colab": {
          "base_uri": "https://localhost:8080/"
        },
        "id": "E5zB6KP2B27Q",
        "outputId": "5f9d9734-4186-4a31-b21f-1827647229bc"
      },
      "source": [
        "processed_corpus[1077]"
      ],
      "execution_count": 120,
      "outputs": [
        {
          "output_type": "execute_result",
          "data": {
            "text/plain": [
              "['CM7',\n",
              " 'Ebdim7',\n",
              " 'Dm7_G7',\n",
              " 'CM7',\n",
              " 'A7',\n",
              " 'Dm7_G7',\n",
              " 'Em7',\n",
              " 'A7',\n",
              " 'Dm7_G7',\n",
              " 'Fm7_Bb7',\n",
              " 'Em7',\n",
              " 'A7',\n",
              " 'Dm7_G7',\n",
              " 'CM7',\n",
              " 'Ebdim7',\n",
              " 'Dm7_G7',\n",
              " 'CM7',\n",
              " 'A7',\n",
              " 'Dm7_G7',\n",
              " 'Em7',\n",
              " 'A7',\n",
              " 'Dm7_G7',\n",
              " 'C6',\n",
              " 'C6',\n",
              " 'C6',\n",
              " 'F#m7b5_B7',\n",
              " 'EM7',\n",
              " 'EM7',\n",
              " 'F#m7_B7',\n",
              " 'EM7',\n",
              " 'EM7',\n",
              " 'Bbm7b5',\n",
              " 'Eb7',\n",
              " 'G#m7',\n",
              " 'G#m7_C#7',\n",
              " 'C#7',\n",
              " 'F#7',\n",
              " 'F#7',\n",
              " 'B7',\n",
              " 'B7',\n",
              " 'CM7',\n",
              " 'Ebdim7',\n",
              " 'Dm7_G7',\n",
              " 'Gm7_C7',\n",
              " 'FM7',\n",
              " 'Bb7',\n",
              " 'Em7',\n",
              " 'A7',\n",
              " 'Dm7_G7',\n",
              " 'C6',\n",
              " 'A7',\n",
              " 'Dm7_G7']"
            ]
          },
          "metadata": {},
          "execution_count": 120
        }
      ]
    },
    {
      "cell_type": "code",
      "metadata": {
        "colab": {
          "base_uri": "https://localhost:8080/"
        },
        "id": "872mzXfEMPn_",
        "outputId": "6ef470dd-dbfe-4ca1-c19d-e1b0bac4bf64"
      },
      "source": [
        "tokens = [item for l in processed_corpus for item in l]\n",
        "total_tokens = len(tokens)\n",
        "vocab_size = len(set(tokens))\n",
        "vocab_prop = 100*vocab_size/total_tokens\n",
        "\n",
        "df_chords = raw_chords_to_df(processed_corpus)\n",
        "\n",
        "print(f\"Total Number of tokens: {total_tokens}\")\n",
        "print(f\"Size of vocabulary: {vocab_size}\")\n",
        "print(f\"Proportion of vocabulary in corpus: {vocab_prop:.02f}%\")"
      ],
      "execution_count": 121,
      "outputs": [
        {
          "output_type": "stream",
          "name": "stdout",
          "text": [
            "Total Number of tokens: 71100\n",
            "Size of vocabulary: 200\n",
            "Proportion of vocabulary in corpus: 0.28%\n"
          ]
        }
      ]
    },
    {
      "cell_type": "code",
      "metadata": {
        "colab": {
          "base_uri": "https://localhost:8080/",
          "height": 542
        },
        "id": "1Za4emDFMbx3",
        "outputId": "959787ce-d135-4dd6-fbbf-384a520e678c"
      },
      "source": [
        "df_chords = pd.DataFrame.from_dict(df_chords)\n",
        "df_chords.sort_values(by=['count'], ascending=False, inplace=True)\n",
        "#df_chords_top = df_chords.query('count > 100')\n",
        "df_chords_top = df_chords\n",
        "\n",
        "fig = px.bar(df_chords_top, x='chord', y='count', log_y=True)\n",
        "fig.update_layout(barmode='stack', xaxis={'categoryorder':'total descending'})\n",
        "fig.show()"
      ],
      "execution_count": 122,
      "outputs": [
        {
          "output_type": "display_data",
          "data": {
            "text/html": [
              "<html>\n",
              "<head><meta charset=\"utf-8\" /></head>\n",
              "<body>\n",
              "    <div>\n",
              "            <script src=\"https://cdnjs.cloudflare.com/ajax/libs/mathjax/2.7.5/MathJax.js?config=TeX-AMS-MML_SVG\"></script><script type=\"text/javascript\">if (window.MathJax) {MathJax.Hub.Config({SVG: {font: \"STIX-Web\"}});}</script>\n",
              "                <script type=\"text/javascript\">window.PlotlyConfig = {MathJaxConfig: 'local'};</script>\n",
              "        <script src=\"https://cdn.plot.ly/plotly-latest.min.js\"></script>    \n",
              "            <div id=\"4b7b0f75-81c0-4a41-a7bd-679d743e6975\" class=\"plotly-graph-div\" style=\"height:525px; width:100%;\"></div>\n",
              "            <script type=\"text/javascript\">\n",
              "                \n",
              "                    window.PLOTLYENV=window.PLOTLYENV || {};\n",
              "                    \n",
              "                if (document.getElementById(\"4b7b0f75-81c0-4a41-a7bd-679d743e6975\")) {\n",
              "                    Plotly.newPlot(\n",
              "                        '4b7b0f75-81c0-4a41-a7bd-679d743e6975',\n",
              "                        [{\"alignmentgroup\": \"True\", \"hoverlabel\": {\"namelength\": 0}, \"hovertemplate\": \"chord=%{x}<br>count=%{y}\", \"legendgroup\": \"\", \"marker\": {\"color\": \"#636efa\"}, \"name\": \"\", \"offsetgroup\": \"\", \"orientation\": \"v\", \"showlegend\": false, \"textposition\": \"auto\", \"type\": \"bar\", \"x\": [\"C\", \"G7\", \"CM7\", \"Dm7_G7\", \"A7\", \"D7\", \"Am7\", \"C6\", \"C7\", \"Em7\", \"E7\", \"Dm7\", \"FM7\", \"F7\", \"F\", \"Am\", \"Bb7\", \"Gm7_C7\", \"Bm7b5_E7\", \"B7\", \"G#7\", \"Dm\", \"G\", \"Ebdim7\", \"Em7b5\", \"Bm7\", \"Cm7\", \"Fm7_Bb7\", \"C#7\", \"Fm\", \"Fm7\", \"Eb7\", \"BbM7\", \"F6\", \"Fm6\", \"G#M7\", \"Dm7b5\", \"F#m7b5_B7\", \"EbM7\", \"F#7\", \"Gm7\", \"C#M7\", \"EM7\", \"F#m7_B7\", \"F#dim7\", \"C#dim7\", \"Em\", \"F#m7b5\", \"GM7\", \"AM7\", \"Am6\", \"Ebm7_G#7\", \"G13\", \"DM7\", \"F#m7\", \"Ebdim\", \"E\", \"Bbm7_Eb7\", \"C#m7\", \"F#dim\", \"Ebm7\", \"C#dim\", \"BM7\", \"Bbm7\", \"Dm6\", \"F#M7\", \"Cdim7\", \"Bm7b5\", \"A\", \"Cdim\", \"D13\", \"G#\", \"Bb\", \"C#m7_F#7\", \"D\", \"G#m7\", \"Gm\", \"Am7b5\", \"Am6_Am6\", \"Eb7_G#M7\", \"Cm\", \"G6\", \"G#m7_C#7\", \"Eb\", \"AmM7\", \"G7(+b5)\", \"G#dim7\", \"C13\", \"G#13\", \"Fdim7\", \"E7(+b5)\", \"Bb13\", \"F#7(+b5)\", \"Gm7b5\", \"Gdim\", \"A7(+b5)\", \"E6\", \"Bb6\", \"B7(+b5)\", \"G#dim\", \"G#m7b5\", \"C#m7b5_F#7\", \"C#\", \"F13\", \"E13\", \"FmM7\", \"Cm6\", \"A13\", \"B\", \"Eb6\", \"D6\", \"F#\", \"Bb7(+b5)\", \"Edim7\", \"Cm_Cm\", \"A6\", \"Eb13\", \"Adim7\", \"Gdim7\", \"DmM7\", \"Fm7b5\", \"Gm6\", \"CmM7\", \"Bm\", \"G#6\", \"Ebm6\", \"Adim\", \"F#13\", \"D7(+b5)\", \"C#13\", \"C13_C13\", \"B13\", \"Bbm6\", \"C#m7b5\", \"C#7(+b5)\", \"Bb13_B13\", \"Bbm7b5\", \"Fdim\", \"Ebm\", \"Ebm7b5\", \"Em6\", \"G#7(+b5)\", \"Bm_Bm\", \"C7(+b5)\", \"Bbm\", \"Ddim7\", \"Bbdim7\", \"Edim\", \"C#_Eb\", \"Cm7b5\", \"FmM7_FmM7\", \"G#m\", \"C#m\", \"E13_E13\", \"F13_F13\", \"Bm6\", \"Gm6_Gm6\", \"Bdim\", \"EmM7\", \"Eb7(+b5)\", \"F#13_F13\", \"C#6\", \"AmM7_GmM7\", \"C#7(+b5)_C#7(+b5)\", \"A6_A6\", \"F#m\", \"EbmM7\", \"F7(+b5)\", \"Bbdim\", \"F#mM7\", \"Cm6_Cm6\", \"F#6_G6\", \"Eb13_Eb13\", \"F#6\", \"C#6_C#6\", \"Ddim\", \"Bb6_B6\", \"Bdim7_Bbdim7\", \"Bb6_Bdim7\", \"Bbm_Bbm\", \"Bbm_Bbm7b5\", \"F7(+b5)_F7(+b5)\", \"C#m6\", \"C7(+b5)_C7(+b5)\", \"C#6_B6\", \"EmM7_EmM7\", \"BmM7_BmM7\", \"BmM7\", \"Bbdim_Bdim\", \"GmM7\", \"GmM7_GmM7\", \"B6\", \"C#mM7_C#mM7\", \"F#m6\", \"Bdim7\", \"BbmM7\", \"F#m_F#mM7\", \"C#mM7\", \"Bbm6_F#m6\", \"F#m_F#m\"], \"xaxis\": \"x\", \"y\": [5837, 5546, 5068, 4922, 4261, 3720, 3704, 2752, 2399, 2350, 2203, 2048, 1740, 1627, 1517, 1455, 1143, 844, 806, 747, 696, 559, 558, 485, 476, 454, 420, 412, 410, 389, 381, 360, 354, 334, 327, 325, 314, 309, 299, 285, 284, 283, 266, 262, 255, 250, 246, 243, 213, 193, 189, 186, 181, 178, 171, 165, 149, 146, 141, 125, 123, 121, 116, 116, 115, 109, 108, 107, 96, 92, 90, 88, 87, 85, 84, 83, 83, 82, 80, 72, 69, 68, 64, 63, 63, 56, 55, 53, 52, 46, 46, 45, 40, 40, 37, 37, 37, 36, 36, 34, 34, 33, 33, 33, 31, 30, 30, 29, 29, 28, 28, 28, 27, 26, 26, 25, 24, 24, 23, 23, 23, 22, 22, 21, 21, 21, 20, 20, 20, 18, 18, 18, 18, 18, 17, 15, 14, 14, 13, 13, 13, 12, 12, 11, 10, 10, 10, 10, 9, 9, 9, 9, 9, 8, 8, 7, 7, 7, 7, 6, 6, 6, 6, 5, 5, 5, 5, 5, 5, 5, 5, 4, 4, 3, 3, 3, 3, 2, 2, 2, 2, 2, 2, 2, 2, 2, 2, 1, 1, 1, 1, 1, 1, 1, 1, 1, 1, 1, 1, 1], \"yaxis\": \"y\"}],\n",
              "                        {\"barmode\": \"stack\", \"legend\": {\"tracegroupgap\": 0}, \"margin\": {\"t\": 60}, \"template\": {\"data\": {\"bar\": [{\"error_x\": {\"color\": \"#2a3f5f\"}, \"error_y\": {\"color\": \"#2a3f5f\"}, \"marker\": {\"line\": {\"color\": \"#E5ECF6\", \"width\": 0.5}}, \"type\": \"bar\"}], \"barpolar\": [{\"marker\": {\"line\": {\"color\": \"#E5ECF6\", \"width\": 0.5}}, \"type\": \"barpolar\"}], \"carpet\": [{\"aaxis\": {\"endlinecolor\": \"#2a3f5f\", \"gridcolor\": \"white\", \"linecolor\": \"white\", \"minorgridcolor\": \"white\", \"startlinecolor\": \"#2a3f5f\"}, \"baxis\": {\"endlinecolor\": \"#2a3f5f\", \"gridcolor\": \"white\", \"linecolor\": \"white\", \"minorgridcolor\": \"white\", \"startlinecolor\": \"#2a3f5f\"}, \"type\": \"carpet\"}], \"choropleth\": [{\"colorbar\": {\"outlinewidth\": 0, \"ticks\": \"\"}, \"type\": \"choropleth\"}], \"contour\": [{\"colorbar\": {\"outlinewidth\": 0, \"ticks\": \"\"}, \"colorscale\": [[0.0, \"#0d0887\"], [0.1111111111111111, \"#46039f\"], [0.2222222222222222, \"#7201a8\"], [0.3333333333333333, \"#9c179e\"], [0.4444444444444444, \"#bd3786\"], [0.5555555555555556, \"#d8576b\"], [0.6666666666666666, \"#ed7953\"], [0.7777777777777778, \"#fb9f3a\"], [0.8888888888888888, \"#fdca26\"], [1.0, \"#f0f921\"]], \"type\": \"contour\"}], \"contourcarpet\": [{\"colorbar\": {\"outlinewidth\": 0, \"ticks\": \"\"}, \"type\": \"contourcarpet\"}], \"heatmap\": [{\"colorbar\": {\"outlinewidth\": 0, \"ticks\": \"\"}, \"colorscale\": [[0.0, \"#0d0887\"], [0.1111111111111111, \"#46039f\"], [0.2222222222222222, \"#7201a8\"], [0.3333333333333333, \"#9c179e\"], [0.4444444444444444, \"#bd3786\"], [0.5555555555555556, \"#d8576b\"], [0.6666666666666666, \"#ed7953\"], [0.7777777777777778, \"#fb9f3a\"], [0.8888888888888888, \"#fdca26\"], [1.0, \"#f0f921\"]], \"type\": \"heatmap\"}], \"heatmapgl\": [{\"colorbar\": {\"outlinewidth\": 0, \"ticks\": \"\"}, \"colorscale\": [[0.0, \"#0d0887\"], [0.1111111111111111, \"#46039f\"], [0.2222222222222222, \"#7201a8\"], [0.3333333333333333, \"#9c179e\"], [0.4444444444444444, \"#bd3786\"], [0.5555555555555556, \"#d8576b\"], [0.6666666666666666, \"#ed7953\"], [0.7777777777777778, \"#fb9f3a\"], [0.8888888888888888, \"#fdca26\"], [1.0, \"#f0f921\"]], \"type\": \"heatmapgl\"}], \"histogram\": [{\"marker\": {\"colorbar\": {\"outlinewidth\": 0, \"ticks\": \"\"}}, \"type\": \"histogram\"}], \"histogram2d\": [{\"colorbar\": {\"outlinewidth\": 0, \"ticks\": \"\"}, \"colorscale\": [[0.0, \"#0d0887\"], [0.1111111111111111, \"#46039f\"], [0.2222222222222222, \"#7201a8\"], [0.3333333333333333, \"#9c179e\"], [0.4444444444444444, \"#bd3786\"], [0.5555555555555556, \"#d8576b\"], [0.6666666666666666, \"#ed7953\"], [0.7777777777777778, \"#fb9f3a\"], [0.8888888888888888, \"#fdca26\"], [1.0, \"#f0f921\"]], \"type\": \"histogram2d\"}], \"histogram2dcontour\": [{\"colorbar\": {\"outlinewidth\": 0, \"ticks\": \"\"}, \"colorscale\": [[0.0, \"#0d0887\"], [0.1111111111111111, \"#46039f\"], [0.2222222222222222, \"#7201a8\"], [0.3333333333333333, \"#9c179e\"], [0.4444444444444444, \"#bd3786\"], [0.5555555555555556, \"#d8576b\"], [0.6666666666666666, \"#ed7953\"], [0.7777777777777778, \"#fb9f3a\"], [0.8888888888888888, \"#fdca26\"], [1.0, \"#f0f921\"]], \"type\": \"histogram2dcontour\"}], \"mesh3d\": [{\"colorbar\": {\"outlinewidth\": 0, \"ticks\": \"\"}, \"type\": \"mesh3d\"}], \"parcoords\": [{\"line\": {\"colorbar\": {\"outlinewidth\": 0, \"ticks\": \"\"}}, \"type\": \"parcoords\"}], \"pie\": [{\"automargin\": true, \"type\": \"pie\"}], \"scatter\": [{\"marker\": {\"colorbar\": {\"outlinewidth\": 0, \"ticks\": \"\"}}, \"type\": \"scatter\"}], \"scatter3d\": [{\"line\": {\"colorbar\": {\"outlinewidth\": 0, \"ticks\": \"\"}}, \"marker\": {\"colorbar\": {\"outlinewidth\": 0, \"ticks\": \"\"}}, \"type\": \"scatter3d\"}], \"scattercarpet\": [{\"marker\": {\"colorbar\": {\"outlinewidth\": 0, \"ticks\": \"\"}}, \"type\": \"scattercarpet\"}], \"scattergeo\": [{\"marker\": {\"colorbar\": {\"outlinewidth\": 0, \"ticks\": \"\"}}, \"type\": \"scattergeo\"}], \"scattergl\": [{\"marker\": {\"colorbar\": {\"outlinewidth\": 0, \"ticks\": \"\"}}, \"type\": \"scattergl\"}], \"scattermapbox\": [{\"marker\": {\"colorbar\": {\"outlinewidth\": 0, \"ticks\": \"\"}}, \"type\": \"scattermapbox\"}], \"scatterpolar\": [{\"marker\": {\"colorbar\": {\"outlinewidth\": 0, \"ticks\": \"\"}}, \"type\": \"scatterpolar\"}], \"scatterpolargl\": [{\"marker\": {\"colorbar\": {\"outlinewidth\": 0, \"ticks\": \"\"}}, \"type\": \"scatterpolargl\"}], \"scatterternary\": [{\"marker\": {\"colorbar\": {\"outlinewidth\": 0, \"ticks\": \"\"}}, \"type\": \"scatterternary\"}], \"surface\": [{\"colorbar\": {\"outlinewidth\": 0, \"ticks\": \"\"}, \"colorscale\": [[0.0, \"#0d0887\"], [0.1111111111111111, \"#46039f\"], [0.2222222222222222, \"#7201a8\"], [0.3333333333333333, \"#9c179e\"], [0.4444444444444444, \"#bd3786\"], [0.5555555555555556, \"#d8576b\"], [0.6666666666666666, \"#ed7953\"], [0.7777777777777778, \"#fb9f3a\"], [0.8888888888888888, \"#fdca26\"], [1.0, \"#f0f921\"]], \"type\": \"surface\"}], \"table\": [{\"cells\": {\"fill\": {\"color\": \"#EBF0F8\"}, \"line\": {\"color\": \"white\"}}, \"header\": {\"fill\": {\"color\": \"#C8D4E3\"}, \"line\": {\"color\": \"white\"}}, \"type\": \"table\"}]}, \"layout\": {\"annotationdefaults\": {\"arrowcolor\": \"#2a3f5f\", \"arrowhead\": 0, \"arrowwidth\": 1}, \"coloraxis\": {\"colorbar\": {\"outlinewidth\": 0, \"ticks\": \"\"}}, \"colorscale\": {\"diverging\": [[0, \"#8e0152\"], [0.1, \"#c51b7d\"], [0.2, \"#de77ae\"], [0.3, \"#f1b6da\"], [0.4, \"#fde0ef\"], [0.5, \"#f7f7f7\"], [0.6, \"#e6f5d0\"], [0.7, \"#b8e186\"], [0.8, \"#7fbc41\"], [0.9, \"#4d9221\"], [1, \"#276419\"]], \"sequential\": [[0.0, \"#0d0887\"], [0.1111111111111111, \"#46039f\"], [0.2222222222222222, \"#7201a8\"], [0.3333333333333333, \"#9c179e\"], [0.4444444444444444, \"#bd3786\"], [0.5555555555555556, \"#d8576b\"], [0.6666666666666666, \"#ed7953\"], [0.7777777777777778, \"#fb9f3a\"], [0.8888888888888888, \"#fdca26\"], [1.0, \"#f0f921\"]], \"sequentialminus\": [[0.0, \"#0d0887\"], [0.1111111111111111, \"#46039f\"], [0.2222222222222222, \"#7201a8\"], [0.3333333333333333, \"#9c179e\"], [0.4444444444444444, \"#bd3786\"], [0.5555555555555556, \"#d8576b\"], [0.6666666666666666, \"#ed7953\"], [0.7777777777777778, \"#fb9f3a\"], [0.8888888888888888, \"#fdca26\"], [1.0, \"#f0f921\"]]}, \"colorway\": [\"#636efa\", \"#EF553B\", \"#00cc96\", \"#ab63fa\", \"#FFA15A\", \"#19d3f3\", \"#FF6692\", \"#B6E880\", \"#FF97FF\", \"#FECB52\"], \"font\": {\"color\": \"#2a3f5f\"}, \"geo\": {\"bgcolor\": \"white\", \"lakecolor\": \"white\", \"landcolor\": \"#E5ECF6\", \"showlakes\": true, \"showland\": true, \"subunitcolor\": \"white\"}, \"hoverlabel\": {\"align\": \"left\"}, \"hovermode\": \"closest\", \"mapbox\": {\"style\": \"light\"}, \"paper_bgcolor\": \"white\", \"plot_bgcolor\": \"#E5ECF6\", \"polar\": {\"angularaxis\": {\"gridcolor\": \"white\", \"linecolor\": \"white\", \"ticks\": \"\"}, \"bgcolor\": \"#E5ECF6\", \"radialaxis\": {\"gridcolor\": \"white\", \"linecolor\": \"white\", \"ticks\": \"\"}}, \"scene\": {\"xaxis\": {\"backgroundcolor\": \"#E5ECF6\", \"gridcolor\": \"white\", \"gridwidth\": 2, \"linecolor\": \"white\", \"showbackground\": true, \"ticks\": \"\", \"zerolinecolor\": \"white\"}, \"yaxis\": {\"backgroundcolor\": \"#E5ECF6\", \"gridcolor\": \"white\", \"gridwidth\": 2, \"linecolor\": \"white\", \"showbackground\": true, \"ticks\": \"\", \"zerolinecolor\": \"white\"}, \"zaxis\": {\"backgroundcolor\": \"#E5ECF6\", \"gridcolor\": \"white\", \"gridwidth\": 2, \"linecolor\": \"white\", \"showbackground\": true, \"ticks\": \"\", \"zerolinecolor\": \"white\"}}, \"shapedefaults\": {\"line\": {\"color\": \"#2a3f5f\"}}, \"ternary\": {\"aaxis\": {\"gridcolor\": \"white\", \"linecolor\": \"white\", \"ticks\": \"\"}, \"baxis\": {\"gridcolor\": \"white\", \"linecolor\": \"white\", \"ticks\": \"\"}, \"bgcolor\": \"#E5ECF6\", \"caxis\": {\"gridcolor\": \"white\", \"linecolor\": \"white\", \"ticks\": \"\"}}, \"title\": {\"x\": 0.05}, \"xaxis\": {\"automargin\": true, \"gridcolor\": \"white\", \"linecolor\": \"white\", \"ticks\": \"\", \"title\": {\"standoff\": 15}, \"zerolinecolor\": \"white\", \"zerolinewidth\": 2}, \"yaxis\": {\"automargin\": true, \"gridcolor\": \"white\", \"linecolor\": \"white\", \"ticks\": \"\", \"title\": {\"standoff\": 15}, \"zerolinecolor\": \"white\", \"zerolinewidth\": 2}}}, \"xaxis\": {\"anchor\": \"y\", \"categoryorder\": \"total descending\", \"domain\": [0.0, 1.0], \"title\": {\"text\": \"chord\"}}, \"yaxis\": {\"anchor\": \"x\", \"domain\": [0.0, 1.0], \"title\": {\"text\": \"count\"}, \"type\": \"log\"}},\n",
              "                        {\"responsive\": true}\n",
              "                    ).then(function(){\n",
              "                            \n",
              "var gd = document.getElementById('4b7b0f75-81c0-4a41-a7bd-679d743e6975');\n",
              "var x = new MutationObserver(function (mutations, observer) {{\n",
              "        var display = window.getComputedStyle(gd).display;\n",
              "        if (!display || display === 'none') {{\n",
              "            console.log([gd, 'removed!']);\n",
              "            Plotly.purge(gd);\n",
              "            observer.disconnect();\n",
              "        }}\n",
              "}});\n",
              "\n",
              "// Listen for the removal of the full notebook cells\n",
              "var notebookContainer = gd.closest('#notebook-container');\n",
              "if (notebookContainer) {{\n",
              "    x.observe(notebookContainer, {childList: true});\n",
              "}}\n",
              "\n",
              "// Listen for the clearing of the current output cell\n",
              "var outputEl = gd.closest('.output');\n",
              "if (outputEl) {{\n",
              "    x.observe(outputEl, {childList: true});\n",
              "}}\n",
              "\n",
              "                        })\n",
              "                };\n",
              "                \n",
              "            </script>\n",
              "        </div>\n",
              "</body>\n",
              "</html>"
            ]
          },
          "metadata": {}
        }
      ]
    },
    {
      "cell_type": "code",
      "metadata": {
        "colab": {
          "base_uri": "https://localhost:8080/",
          "height": 177
        },
        "id": "vkTVENxyMh5h",
        "outputId": "6d257737-1aa4-43e5-b61f-8e58943f15c9"
      },
      "source": [
        "from collections import Counter\n",
        "\n",
        "counter_of_words = df_chords.set_index('chord').to_dict(orient='dict')\n",
        "counter_of_words = Counter(counter_of_words['count'])\n",
        "\n",
        "word_counts = sorted(counter_of_words.values(), reverse=True)\n",
        "frequency_rank = np.array(list(range(1, len(word_counts) + 1)))\n",
        "\n",
        "# plot\n",
        "plt.figure(figsize=(20, 3))\n",
        "plt.subplot(1, 2, 1)\n",
        "\n",
        "n = 30\n",
        "df_top = df_chords_top.head(n)\n",
        "plt.bar(df_top['chord'], np.log(df_top['count']))\n",
        "plt.xlabel('')\n",
        "plt.ylabel('Absolute Counts (log)')\n",
        "plt.title(f'Top {n} Most Frequent Phrases in the Corpus (threshold={thres})')\n",
        "ax = plt.gca()\n",
        "ax.set_xticklabels(labels=df_chords_top['chord'],rotation=90);\n",
        "\n",
        "plt.subplot(1, 2, 2)\n",
        "plt.scatter(np.log(frequency_rank), np.log(word_counts))\n",
        "plt.xlabel('Frequency Rank of Token (log)')\n",
        "plt.ylabel('Absolute Count of Token (log)')\n",
        "plt.title('Zipf Plot for Phrases Frequencies')\n",
        "\n",
        "plt.subplots_adjust(bottom=0.3, top=0.7)\n",
        "\n",
        "plt.savefig('plot.png')"
      ],
      "execution_count": 123,
      "outputs": [
        {
          "output_type": "display_data",
          "data": {
            "image/png": "[encoded data removed]",
            "text/plain": [
              "<Figure size 1440x216 with 2 Axes>"
            ]
          },
          "metadata": {
            "needs_background": "light"
          }
        }
      ]
    },
    {
      "cell_type": "code",
      "metadata": {
        "colab": {
          "base_uri": "https://localhost:8080/",
          "height": 268
        },
        "id": "84Xz_jA6Q51x",
        "outputId": "db377d5a-ee68-4c28-cac9-793e85510fb3"
      },
      "source": [
        "n = 100\n",
        "\n",
        "plt.figure(figsize=(20, 8))\n",
        "\n",
        "df_top = df_chords_top.head(n)\n",
        "plt.subplot(2, 1, 2)\n",
        "plt.bar(df_top['chord'], np.log(df_top['count']))\n",
        "plt.xlabel('')\n",
        "plt.ylabel('Absolute Counts (log)')\n",
        "plt.title(f'Top {n} Most Frequent Phrases in the Corpus (threshold={thres})')\n",
        "ax = plt.gca()\n",
        "ax.set_xticklabels(labels=df_chords_top['chord'],rotation=90);\n",
        "\n",
        "plt.savefig('plot_top.png')"
      ],
      "execution_count": 124,
      "outputs": [
        {
          "output_type": "display_data",
          "data": {
            "image/png": "[encoded data removed]",
            "text/plain": [
              "<Figure size 1440x576 with 1 Axes>"
            ]
          },
          "metadata": {
            "needs_background": "light"
          }
        }
      ]
    },
    {
      "cell_type": "code",
      "metadata": {
        "id": "kT7wPCJ2Sf0s"
      },
      "source": [
        "if use_wandb:\n",
        "  wandb.log(\n",
        "      {\"phrases\": {\n",
        "              \"total_tokens\": total_tokens,\n",
        "              \"vocab_size\": vocab_size,\n",
        "              \"vocab_proportion_in_corpus\": vocab_prop,\n",
        "              \"zipf_plot\": wandb.Image('plot.png'),\n",
        "              \"top_plot\": wandb.Image('plot_top.png'),\n",
        "              }\n",
        "      }\n",
        "  )"
      ],
      "execution_count": 125,
      "outputs": []
    },
    {
      "cell_type": "markdown",
      "metadata": {
        "id": "LeRGFeTn89Uc"
      },
      "source": [
        "# Test Helpers"
      ]
    },
    {
      "cell_type": "code",
      "metadata": {
        "id": "til5xlce_y1m"
      },
      "source": [
        "!rm -R index\n",
        "!mkdir index"
      ],
      "execution_count": 126,
      "outputs": []
    },
    {
      "cell_type": "code",
      "metadata": {
        "id": "Fzrj1qxwDpJT"
      },
      "source": [
        "def get_sim_scores(tunes, index, model):\n",
        "\n",
        "    df_sim = pd.DataFrame(columns=['reference_title',\n",
        "                                   'reference_titleid',\n",
        "                                   'similar_title',\n",
        "                                   'similar_titleid',\n",
        "                                   'ref_section', \n",
        "                                   'similar_section', \n",
        "                                   'score', \n",
        "                                  ])\n",
        "\n",
        "    for tune in tunes:\n",
        "      print()\n",
        "      print(\"-\"*50)\n",
        "      for s1 in title_to_sectionid[tune]:\n",
        "      \n",
        "          query = processed_corpus[s1]\n",
        "          query_bow = dictionary.doc2bow(query)\n",
        "\n",
        "          # perform a similarity query against the corpus\n",
        "          similarities = index[model[query_bow]]\n",
        "          sims = sorted(enumerate(similarities), key=lambda item: -item[1])\n",
        "          \n",
        "          print(s1, sectionid_to_section[s1])\n",
        "          n = 0\n",
        "          for s2, s2_score in sims:\n",
        "            \n",
        "            # store the top N best results\n",
        "            if n > 30:\n",
        "                break\n",
        "            # don't count self-similarity between sections of the same tune\n",
        "            if s2 not in title_to_sectionid[tune]:\n",
        "                n += 1\n",
        "            \n",
        "                # print(f\"\\t{s2_score:.3f} {sectionid_to_section[s2]}\")\n",
        "\n",
        "                df_sim.loc[len(df_sim)] = [tune,\n",
        "                                           title_to_titleid[tune],\n",
        "                                           sectionid_to_title[s2],\n",
        "                                           sectionid_to_titleid[s2],\n",
        "                                           sectionid_to_section[s1], \n",
        "                                           sectionid_to_section[s2], \n",
        "                                           s2_score, \n",
        "                                           ]\n",
        "    return df_sim"
      ],
      "execution_count": 127,
      "outputs": []
    },
    {
      "cell_type": "code",
      "metadata": {
        "id": "OZ0YfkIO9g5V"
      },
      "source": [
        "def recommend_tune(df, tune_name):\n",
        "\n",
        "  threshold = 0.5 # arbitrary value, selected based on distribution of max scores\n",
        "\n",
        "  df_tune = df.query(f'reference_title == \"{tune_name}\"')\n",
        "  ff = df_tune.iloc[:]\n",
        "\n",
        "  # get the maximum similarity score for each section and store in new column\n",
        "  ff['max'] = ff.groupby('ref_section')['score'].transform('max')\n",
        "\n",
        "  # consider only results for scores above threshold\n",
        "  ff = ff.loc[(ff['max'] > threshold)]\n",
        "\n",
        "  # scale the score with the maxmum value of each section\n",
        "  ff['score_div_max'] = ff['score'] / ff['max']\n",
        "\n",
        "  # for each similar title, aggregate all of its sections using the median value\n",
        "  result = ff.groupby('similar_title').median().sort_values('score_div_max', ascending=False)\n",
        "    \n",
        "  # if multiple rows from the same similar tune, keep only the similar_title with the highest score_div_max\n",
        "  result = result.groupby('similar_title').max('score_div_max').sort_values('score_div_max', ascending=False)\n",
        "\n",
        "  # add the name of the reference tune\n",
        "  result['reference'] = tune_name\n",
        "  result['reference_titleid'] = title_to_titleid[tune_name]\n",
        "\n",
        "  result = result.reset_index()\n",
        "  result = result.loc[:, ['reference', 'reference_titleid', 'similar_title', 'score', 'max', 'score_div_max']]\n",
        "  result['similar_titleid'] = result['similar_title'].apply(lambda x: title_to_titleid[x])\n",
        "  result = result.reset_index()\n",
        "  return result, ff"
      ],
      "execution_count": 128,
      "outputs": []
    },
    {
      "cell_type": "code",
      "metadata": {
        "id": "Z30pqnGr4g70"
      },
      "source": [
        "def test_contrafacts(tunes, index, model, N=15):\n",
        "  matches = 0\n",
        "  number_of_sections = 0\n",
        "  results = {}\n",
        "\n",
        "  for tune, similar_tune in tunes:\n",
        "\n",
        "    # loop over all sections of the tune\n",
        "    section_matches = 0\n",
        "    for s1 in title_to_sectionid[tune]:\n",
        "      query = processed_corpus[s1]\n",
        "      query_bow = dictionary.doc2bow(query)\n",
        "\n",
        "      # perform a similarity query against the corpus\n",
        "      similarities = index[model[query_bow]]\n",
        "      sims = sorted(enumerate(similarities), key=lambda item: -item[1])\n",
        "\n",
        "      # check if the section matches the expected title; consider only the first 15 recommendations\n",
        "      i = 0\n",
        "      for sectionid, value in sims:\n",
        "        if i >= N:\n",
        "          break\n",
        "        i += 1\n",
        "        if sectionid_to_title[sectionid] == similar_tune:\n",
        "          section_matches += 1\n",
        "\n",
        "    # for each title, increase matches if at least one of the section matched the expected title\n",
        "    if section_matches > 0:\n",
        "      matches += 1  \n",
        "      results[f'{tune}, {similar_tune}'] = 1\n",
        "    else:\n",
        "      results[f'{tune}, {similar_tune}'] = 0\n",
        "  \n",
        "  return matches, results"
      ],
      "execution_count": 129,
      "outputs": []
    },
    {
      "cell_type": "markdown",
      "metadata": {
        "id": "HWxE-I7V5nns"
      },
      "source": [
        "# Train LDA Model"
      ]
    },
    {
      "cell_type": "code",
      "metadata": {
        "colab": {
          "base_uri": "https://localhost:8080/"
        },
        "id": "d_OadvDD5pcU",
        "outputId": "7ad209cd-b9e1-47bf-d981-c28bd4d4c0c3"
      },
      "source": [
        "from gensim.test.utils import common_texts\n",
        "import gensim.models as models\n",
        "import gensim.corpora as corpora\n",
        "from gensim.corpora.dictionary import Dictionary\n",
        "\n",
        "# Create a corpus from a list of texts\n",
        "id2word = corpora.Dictionary(processed_corpus)"
      ],
      "execution_count": 130,
      "outputs": [
        {
          "output_type": "stream",
          "name": "stderr",
          "text": [
            "2021-11-29 20:11:40,254 : INFO : adding document #0 to Dictionary(0 unique tokens: [])\n",
            "2021-11-29 20:11:40,348 : INFO : built Dictionary(200 unique tokens: ['AM7', 'Am7', 'B7', 'Bbm7_Eb7', 'Bm7']...) from 1740 documents (total 71100 corpus positions)\n",
            "2021-11-29 20:11:40,350 : INFO : Dictionary lifecycle event {'msg': \"built Dictionary(200 unique tokens: ['AM7', 'Am7', 'B7', 'Bbm7_Eb7', 'Bm7']...) from 1740 documents (total 71100 corpus positions)\", 'datetime': '2021-11-29T20:11:40.350401', 'gensim': '4.1.2', 'python': '3.7.12 (default, Sep 10 2021, 00:21:48) \\n[GCC 7.5.0]', 'platform': 'Linux-5.4.104+-x86_64-with-Ubuntu-18.04-bionic', 'event': 'created'}\n"
          ]
        }
      ]
    },
    {
      "cell_type": "code",
      "metadata": {
        "id": "5hArBYoV6AeH"
      },
      "source": [
        "# Create Corpus: Term Document Frequency\n",
        "corpus = [id2word.doc2bow(tune) for tune in processed_corpus]"
      ],
      "execution_count": 131,
      "outputs": []
    },
    {
      "cell_type": "code",
      "metadata": {
        "colab": {
          "base_uri": "https://localhost:8080/"
        },
        "id": "61bu1isz6FAC",
        "outputId": "8e11c320-6aab-4699-8330-2ca47c28083f"
      },
      "source": [
        "%%time\n",
        "TOTAL_TOPICS = 30\n",
        "lda_model = gensim.models.LdaModel(corpus=corpus, \n",
        "                                   id2word=id2word, \n",
        "                                   chunksize=200, \n",
        "                                   alpha='auto', \n",
        "                                   eta='auto', \n",
        "                                   #eta=0.1,\n",
        "                                   random_state=42,\n",
        "                                   #iterations=500, \n",
        "                                   num_topics=TOTAL_TOPICS, \n",
        "                                   passes=20, \n",
        "                                   per_word_topics=True,\n",
        "                                   eval_every=None,\n",
        "                                   update_every=0,  # batch learning, start from scratch everytime (<> online learning)\n",
        "                                   )"
      ],
      "execution_count": 132,
      "outputs": [
        {
          "output_type": "stream",
          "name": "stderr",
          "text": [
            "2021-11-29 20:11:44,827 : INFO : using autotuned alpha, starting with [0.033333335, 0.033333335, 0.033333335, 0.033333335, 0.033333335, 0.033333335, 0.033333335, 0.033333335, 0.033333335, 0.033333335, 0.033333335, 0.033333335, 0.033333335, 0.033333335, 0.033333335, 0.033333335, 0.033333335, 0.033333335, 0.033333335, 0.033333335, 0.033333335, 0.033333335, 0.033333335, 0.033333335, 0.033333335, 0.033333335, 0.033333335, 0.033333335, 0.033333335, 0.033333335]\n",
            "2021-11-29 20:11:44,830 : INFO : using serial LDA version on this node\n",
            "2021-11-29 20:11:44,837 : INFO : running batch LDA training, 30 topics, 20 passes over the supplied corpus of 1740 documents, updating model once every 1740 documents, evaluating perplexity every 0 documents, iterating 50x with a convergence threshold of 0.001000\n",
            "2021-11-29 20:11:44,838 : INFO : PROGRESS: pass 0, at document #200/1740\n",
            "2021-11-29 20:11:45,006 : INFO : optimized alpha [0.028749231, 0.029594164, 0.028749604, 0.03040694, 0.02947545, 0.031426664, 0.033515368, 0.031073313, 0.028745245, 0.02982864, 0.03965853, 0.031143377, 0.02856107, 0.029114027, 0.035033137, 0.02856107, 0.030471554, 0.033334292, 0.028749488, 0.028934151, 0.02856107, 0.02856107, 0.029299213, 0.030051826, 0.0312909, 0.029492332, 0.030581236, 0.033944193, 0.03439345, 0.031849805]\n",
            "2021-11-29 20:11:45,008 : INFO : PROGRESS: pass 0, at document #400/1740\n",
            "2021-11-29 20:11:45,185 : INFO : optimized alpha [0.025193783, 0.02656821, 0.02503375, 0.027768707, 0.026213612, 0.030181238, 0.033119984, 0.028787004, 0.025512466, 0.027254235, 0.045727648, 0.029166369, 0.024893725, 0.025464276, 0.03735745, 0.024893725, 0.027280517, 0.03311069, 0.025351953, 0.025487961, 0.025211552, 0.025047604, 0.027033014, 0.027213193, 0.029294552, 0.025582252, 0.027048115, 0.034631215, 0.034146722, 0.03148767]\n",
            "2021-11-29 20:11:45,188 : INFO : PROGRESS: pass 0, at document #600/1740\n",
            "2021-11-29 20:11:45,357 : INFO : optimized alpha [0.022253446, 0.023651412, 0.022130609, 0.02525321, 0.023882406, 0.029672768, 0.03167997, 0.025886223, 0.022770468, 0.024845697, 0.05607631, 0.026657358, 0.022022936, 0.022460537, 0.039197747, 0.022022936, 0.024854569, 0.033845287, 0.022514004, 0.022881687, 0.02240622, 0.02214126, 0.025421396, 0.025564235, 0.026865581, 0.022550631, 0.024253173, 0.036574826, 0.035504587, 0.030058162]\n",
            "2021-11-29 20:11:45,360 : INFO : PROGRESS: pass 0, at document #800/1740\n",
            "2021-11-29 20:11:45,527 : INFO : optimized alpha [0.020162065, 0.02140841, 0.019927768, 0.023344561, 0.02158759, 0.028616387, 0.030538257, 0.024697013, 0.02033594, 0.023142904, 0.06484144, 0.024771908, 0.019745514, 0.020330574, 0.042823035, 0.019745514, 0.023180893, 0.03576573, 0.020376703, 0.020783978, 0.020283768, 0.01983932, 0.023588857, 0.023956906, 0.025969615, 0.020642472, 0.021625182, 0.035401445, 0.03551715, 0.028981555]\n",
            "2021-11-29 20:11:45,530 : INFO : PROGRESS: pass 0, at document #1000/1740\n",
            "2021-11-29 20:11:45,737 : INFO : optimized alpha [0.018256843, 0.019606994, 0.018066533, 0.022533465, 0.019750629, 0.028251233, 0.027188111, 0.023831327, 0.018615313, 0.021258105, 0.07447353, 0.022824679, 0.018023068, 0.018501759, 0.042467453, 0.017918129, 0.021400994, 0.03655889, 0.018430715, 0.01898285, 0.01867325, 0.018198458, 0.022245755, 0.022427345, 0.023925649, 0.018868381, 0.020698374, 0.03482175, 0.03841375, 0.027569473]\n",
            "2021-11-29 20:11:45,738 : INFO : PROGRESS: pass 0, at document #1200/1740\n",
            "2021-11-29 20:11:45,925 : INFO : optimized alpha [0.016678851, 0.018516593, 0.016521253, 0.020853862, 0.018313974, 0.027093565, 0.0260543, 0.023714367, 0.017167468, 0.020236868, 0.08531968, 0.021274136, 0.016485216, 0.017373001, 0.042635478, 0.016492872, 0.020369131, 0.033905797, 0.016822549, 0.01737609, 0.017518267, 0.016726125, 0.020012908, 0.020963263, 0.022886036, 0.017284906, 0.0191154, 0.036264103, 0.0401219, 0.027667798]\n",
            "2021-11-29 20:11:45,927 : INFO : PROGRESS: pass 0, at document #1400/1740\n",
            "2021-11-29 20:11:46,093 : INFO : optimized alpha [0.015505823, 0.01793209, 0.015196565, 0.023337169, 0.016977143, 0.0249982, 0.025342174, 0.022268355, 0.016098822, 0.018883163, 0.08596328, 0.02180917, 0.015166304, 0.015908271, 0.04111666, 0.015172741, 0.018897373, 0.032462366, 0.015545671, 0.01609262, 0.016187802, 0.015368399, 0.01849527, 0.01941188, 0.020576477, 0.01619028, 0.018140797, 0.033660963, 0.03877756, 0.02624188]\n",
            "2021-11-29 20:11:46,095 : INFO : PROGRESS: pass 0, at document #1600/1740\n",
            "2021-11-29 20:11:46,284 : INFO : optimized alpha [0.014305815, 0.017541982, 0.014124518, 0.035780832, 0.016678326, 0.021881081, 0.02241738, 0.020047758, 0.0152081065, 0.017399514, 0.060202472, 0.02783564, 0.014018249, 0.01464517, 0.032697562, 0.014023719, 0.017215371, 0.028273968, 0.014501502, 0.015305908, 0.01496529, 0.014189541, 0.016882233, 0.017636238, 0.01901806, 0.015457883, 0.017346444, 0.028202845, 0.03588196, 0.023363926]\n",
            "2021-11-29 20:11:46,287 : INFO : PROGRESS: pass 0, at document #1740/1740\n",
            "2021-11-29 20:11:46,399 : INFO : optimized alpha [0.013252446, 0.017392825, 0.013097671, 0.052911766, 0.015748544, 0.01941784, 0.019832017, 0.018435681, 0.014807892, 0.015972609, 0.050118666, 0.034288183, 0.013006789, 0.013541251, 0.027202105, 0.013011474, 0.015690174, 0.02505102, 0.013623803, 0.015011589, 0.013812602, 0.013153213, 0.01541547, 0.01625896, 0.017879536, 0.01479679, 0.016700843, 0.024558397, 0.0358477, 0.021269327]\n",
            "2021-11-29 20:11:46,404 : INFO : topic #12 (0.013): 0.140*\"G7\" + 0.094*\"EbM7\" + 0.048*\"FM7\" + 0.048*\"DmM7\" + 0.048*\"Bm7b5_E7\" + 0.048*\"C#7\" + 0.048*\"Dm7b5\" + 0.048*\"G#M7\" + 0.048*\"G#7\" + 0.048*\"CM7\"\n",
            "2021-11-29 20:11:46,406 : INFO : topic #15 (0.013): 0.071*\"F#M7\" + 0.067*\"G#13\" + 0.057*\"F#dim7\" + 0.057*\"Bbm7\" + 0.049*\"E7\" + 0.045*\"C\" + 0.045*\"G7(+b5)\" + 0.045*\"Am7\" + 0.029*\"Bb13\" + 0.026*\"Eb13\"\n",
            "2021-11-29 20:11:46,408 : INFO : topic #28 (0.036): 0.117*\"A7\" + 0.094*\"D7\" + 0.092*\"Dm7_G7\" + 0.091*\"G7\" + 0.069*\"CM7\" + 0.062*\"C6\" + 0.058*\"C\" + 0.040*\"Em7\" + 0.035*\"C7\" + 0.030*\"Dm7\"\n",
            "2021-11-29 20:11:46,411 : INFO : topic #10 (0.050): 0.090*\"G7\" + 0.076*\"CM7\" + 0.074*\"Dm7_G7\" + 0.059*\"Am7\" + 0.057*\"C6\" + 0.056*\"A7\" + 0.055*\"Am\" + 0.051*\"D7\" + 0.047*\"F7\" + 0.036*\"Em7\"\n",
            "2021-11-29 20:11:46,413 : INFO : topic #3 (0.053): 0.283*\"C\" + 0.173*\"G7\" + 0.102*\"F\" + 0.079*\"D7\" + 0.046*\"C7\" + 0.046*\"A7\" + 0.038*\"E7\" + 0.035*\"Am\" + 0.025*\"Dm\" + 0.024*\"Fm\"\n",
            "2021-11-29 20:11:46,416 : INFO : topic diff=16.277012, rho=1.000000\n",
            "2021-11-29 20:11:46,419 : INFO : PROGRESS: pass 1, at document #200/1740\n",
            "2021-11-29 20:11:46,564 : INFO : optimized alpha [0.013163747, 0.017082172, 0.012887941, 0.04923042, 0.015608027, 0.01932533, 0.019980177, 0.018105244, 0.014649015, 0.015799059, 0.048761655, 0.033010036, 0.012820598, 0.013808845, 0.027166424, 0.0127845425, 0.01575029, 0.02450632, 0.013480875, 0.014894592, 0.013795962, 0.012879636, 0.0154604595, 0.016180411, 0.017795807, 0.014663489, 0.01709105, 0.025597468, 0.035329513, 0.02201166]\n",
            "2021-11-29 20:11:46,567 : INFO : PROGRESS: pass 1, at document #400/1740\n",
            "2021-11-29 20:11:46,733 : INFO : optimized alpha [0.013106821, 0.016663937, 0.012767711, 0.04629531, 0.01536593, 0.01932175, 0.020117883, 0.017752638, 0.014467372, 0.015549818, 0.047438927, 0.03159645, 0.012575936, 0.014026049, 0.02765606, 0.012561405, 0.015704112, 0.023859363, 0.013464673, 0.014751747, 0.013839111, 0.012714081, 0.01554391, 0.016094996, 0.017563036, 0.014457662, 0.017114254, 0.026915902, 0.035061188, 0.022923937]\n",
            "2021-11-29 20:11:46,737 : INFO : PROGRESS: pass 1, at document #600/1740\n",
            "2021-11-29 20:11:46,898 : INFO : optimized alpha [0.012952457, 0.01629351, 0.012582916, 0.043727715, 0.0151804015, 0.019246994, 0.020545516, 0.017459407, 0.014196793, 0.015358172, 0.046652704, 0.030244946, 0.012397913, 0.014084927, 0.027887141, 0.012325342, 0.015553104, 0.023485448, 0.013276942, 0.014516432, 0.013682561, 0.012511125, 0.015823107, 0.016087318, 0.017427279, 0.0142102605, 0.017187126, 0.028694902, 0.035399355, 0.024057329]\n",
            "2021-11-29 20:11:46,900 : INFO : PROGRESS: pass 1, at document #800/1740\n",
            "2021-11-29 20:11:47,085 : INFO : optimized alpha [0.012906028, 0.015941847, 0.012444645, 0.04131756, 0.014998726, 0.019301513, 0.020800613, 0.017358731, 0.014116796, 0.015187736, 0.04574937, 0.029320858, 0.0122259045, 0.014275786, 0.027903449, 0.012212315, 0.01568496, 0.023087947, 0.013158708, 0.014360169, 0.01367973, 0.012296133, 0.01602515, 0.016107954, 0.017273461, 0.013950904, 0.0172577, 0.029704342, 0.03530625, 0.025054343]\n",
            "2021-11-29 20:11:47,087 : INFO : PROGRESS: pass 1, at document #1000/1740\n",
            "2021-11-29 20:11:47,252 : INFO : optimized alpha [0.012823054, 0.015636092, 0.012294151, 0.03921152, 0.014876237, 0.019457389, 0.020717168, 0.017239159, 0.0139099555, 0.015132308, 0.044967808, 0.028140765, 0.012043898, 0.014446972, 0.028097233, 0.012011631, 0.01579193, 0.022542328, 0.01304748, 0.0142349135, 0.013701195, 0.012073619, 0.01610491, 0.01621019, 0.016991876, 0.013794157, 0.017391186, 0.030989934, 0.035108767, 0.025742527]\n",
            "2021-11-29 20:11:47,256 : INFO : PROGRESS: pass 1, at document #1200/1740\n",
            "2021-11-29 20:11:47,426 : INFO : optimized alpha [0.012778351, 0.015368792, 0.012090019, 0.037087064, 0.014757806, 0.019293034, 0.020770635, 0.017125418, 0.0136654, 0.01495935, 0.04378346, 0.027057175, 0.011848707, 0.014778333, 0.028195854, 0.01181832, 0.015823733, 0.021984423, 0.012897782, 0.014044245, 0.013812957, 0.011858406, 0.015971482, 0.016202144, 0.016854605, 0.013597653, 0.017490754, 0.032734215, 0.035103664, 0.026589435]\n",
            "2021-11-29 20:11:47,427 : INFO : PROGRESS: pass 1, at document #1400/1740\n",
            "2021-11-29 20:11:47,605 : INFO : optimized alpha [0.0126946075, 0.015085463, 0.011929542, 0.038610056, 0.014546099, 0.01909885, 0.020823607, 0.016816141, 0.013535605, 0.014787675, 0.042368326, 0.026553255, 0.011621374, 0.014728309, 0.028182345, 0.011592153, 0.015797675, 0.02148929, 0.012810766, 0.013835782, 0.01380938, 0.011630704, 0.015862394, 0.016010799, 0.016475268, 0.013448801, 0.017668452, 0.032660585, 0.034413263, 0.027001902]\n",
            "2021-11-29 20:11:47,607 : INFO : PROGRESS: pass 1, at document #1600/1740\n",
            "2021-11-29 20:11:47,756 : INFO : optimized alpha [0.0124344565, 0.01490964, 0.011886868, 0.0479047, 0.014320227, 0.018510185, 0.020123899, 0.016413942, 0.013669315, 0.014434692, 0.0396182, 0.027408285, 0.01140334, 0.014401369, 0.026901461, 0.011375215, 0.01539485, 0.020744167, 0.012545831, 0.013724157, 0.013545578, 0.011412319, 0.015481727, 0.01575015, 0.016063517, 0.013242385, 0.017474124, 0.03105035, 0.03307711, 0.025915354]\n",
            "2021-11-29 20:11:47,757 : INFO : PROGRESS: pass 1, at document #1740/1740\n",
            "2021-11-29 20:11:47,859 : INFO : optimized alpha [0.012183327, 0.014717703, 0.011817348, 0.059006672, 0.014116534, 0.017953843, 0.019466396, 0.015976425, 0.013894619, 0.014096297, 0.037170053, 0.028421208, 0.011192123, 0.01409607, 0.02572708, 0.011165039, 0.0150099555, 0.020045538, 0.012290182, 0.013697894, 0.013277271, 0.011226264, 0.015092478, 0.0155617595, 0.015717465, 0.0130782435, 0.017337514, 0.029633734, 0.032093238, 0.024883656]\n",
            "2021-11-29 20:11:47,863 : INFO : topic #12 (0.011): 0.164*\"G7\" + 0.121*\"EbM7\" + 0.103*\"F#7(+b5)\" + 0.085*\"Dm7b5\" + 0.074*\"DmM7\" + 0.057*\"G#M7\" + 0.055*\"G#7\" + 0.041*\"Bb7\" + 0.039*\"FM7\" + 0.038*\"CM7\"\n",
            "2021-11-29 20:11:47,866 : INFO : topic #15 (0.011): 0.169*\"Bbm7\" + 0.146*\"G#13\" + 0.099*\"G7(+b5)\" + 0.078*\"F#M7\" + 0.042*\"F#dim7\" + 0.041*\"E7\" + 0.039*\"Am7\" + 0.037*\"G#7(+b5)\" + 0.033*\"Bb13\" + 0.032*\"Eb13\"\n",
            "2021-11-29 20:11:47,868 : INFO : topic #28 (0.032): 0.122*\"A7\" + 0.105*\"D7\" + 0.101*\"G7\" + 0.088*\"Dm7_G7\" + 0.068*\"C6\" + 0.068*\"CM7\" + 0.048*\"C\" + 0.037*\"Em7\" + 0.035*\"C7\" + 0.027*\"Dm7\"\n",
            "2021-11-29 20:11:47,871 : INFO : topic #10 (0.037): 0.090*\"G7\" + 0.075*\"CM7\" + 0.072*\"Dm7_G7\" + 0.063*\"Am\" + 0.058*\"Am7\" + 0.057*\"C6\" + 0.055*\"A7\" + 0.051*\"D7\" + 0.049*\"F7\" + 0.038*\"E7\"\n",
            "2021-11-29 20:11:47,873 : INFO : topic #3 (0.059): 0.298*\"C\" + 0.181*\"G7\" + 0.099*\"F\" + 0.085*\"D7\" + 0.049*\"A7\" + 0.045*\"C7\" + 0.037*\"E7\" + 0.034*\"Am\" + 0.025*\"Dm\" + 0.024*\"Fm\"\n",
            "2021-11-29 20:11:47,876 : INFO : topic diff=0.450674, rho=0.305709\n",
            "2021-11-29 20:11:47,880 : INFO : PROGRESS: pass 2, at document #200/1740\n",
            "2021-11-29 20:11:48,048 : INFO : optimized alpha [0.012338415, 0.014494062, 0.011757928, 0.05443045, 0.014043386, 0.017728696, 0.01951024, 0.015726017, 0.013805118, 0.014024759, 0.03612175, 0.027705627, 0.01111526, 0.014682724, 0.025478447, 0.011054582, 0.015164431, 0.019671036, 0.012222859, 0.013655598, 0.013423416, 0.011047581, 0.015200518, 0.015699083, 0.015621686, 0.013010994, 0.017781416, 0.030748025, 0.03203527, 0.025776489]\n",
            "2021-11-29 20:11:48,049 : INFO : PROGRESS: pass 2, at document #400/1740\n",
            "2021-11-29 20:11:48,229 : INFO : optimized alpha [0.012561159, 0.014163066, 0.011768837, 0.05099107, 0.0139445, 0.017700596, 0.019520596, 0.015479982, 0.013714268, 0.013926148, 0.034954797, 0.026851462, 0.011053776, 0.01505521, 0.025423143, 0.010943714, 0.015265264, 0.019244073, 0.012356106, 0.013590137, 0.01353829, 0.010987336, 0.01539284, 0.01581601, 0.015450704, 0.012882214, 0.017881507, 0.03228441, 0.031913247, 0.026655162]\n",
            "2021-11-29 20:11:48,231 : INFO : PROGRESS: pass 2, at document #600/1740\n",
            "2021-11-29 20:11:48,415 : INFO : optimized alpha [0.012537588, 0.013910246, 0.011760401, 0.047934253, 0.013827752, 0.017583879, 0.020097654, 0.015196471, 0.013540192, 0.013915707, 0.03433094, 0.025962256, 0.010992198, 0.015337078, 0.025406048, 0.010884473, 0.015199962, 0.01895715, 0.01229999, 0.013441978, 0.0134730665, 0.010910248, 0.015560624, 0.015926572, 0.01528094, 0.0127166305, 0.018220376, 0.034341395, 0.03241219, 0.028018933]\n",
            "2021-11-29 20:11:48,416 : INFO : PROGRESS: pass 2, at document #800/1740\n",
            "2021-11-29 20:11:48,585 : INFO : optimized alpha [0.012761059, 0.013667379, 0.011700335, 0.045271482, 0.01367168, 0.01755236, 0.020432144, 0.0151340235, 0.013516129, 0.013905609, 0.03341701, 0.025350071, 0.010981151, 0.015735228, 0.025430977, 0.010906813, 0.0154843265, 0.018681578, 0.012338658, 0.013401038, 0.013511119, 0.010754727, 0.015797423, 0.016060537, 0.015146208, 0.012576404, 0.018586522, 0.035164222, 0.03259611, 0.029063696]\n",
            "2021-11-29 20:11:48,587 : INFO : PROGRESS: pass 2, at document #1000/1740\n",
            "2021-11-29 20:11:48,770 : INFO : optimized alpha [0.012853773, 0.013521192, 0.0117152855, 0.042688653, 0.013669159, 0.017588938, 0.020324197, 0.014986651, 0.013415944, 0.013858329, 0.03275942, 0.024667755, 0.010957177, 0.01618676, 0.025426641, 0.010834724, 0.015654856, 0.018342447, 0.012398492, 0.013343988, 0.013654599, 0.01065483, 0.015894754, 0.016348196, 0.014905673, 0.012519597, 0.018875489, 0.03673622, 0.03262303, 0.030158825]\n",
            "2021-11-29 20:11:48,771 : INFO : PROGRESS: pass 2, at document #1200/1740\n",
            "2021-11-29 20:11:48,939 : INFO : optimized alpha [0.0129833035, 0.013360104, 0.0116241295, 0.04021923, 0.01364728, 0.01740673, 0.02040867, 0.014959611, 0.01327702, 0.013834314, 0.031942826, 0.023840474, 0.010933029, 0.01681626, 0.025386417, 0.010701272, 0.015682071, 0.017933168, 0.012327849, 0.013208112, 0.013798925, 0.010573179, 0.015787218, 0.016479926, 0.014764361, 0.0123889325, 0.01907398, 0.039053, 0.03286793, 0.03137565]\n",
            "2021-11-29 20:11:48,940 : INFO : PROGRESS: pass 2, at document #1400/1740\n",
            "2021-11-29 20:11:49,105 : INFO : optimized alpha [0.0130129885, 0.01318232, 0.011638707, 0.04186103, 0.013480236, 0.017255835, 0.020463547, 0.014769319, 0.01324131, 0.013744101, 0.03107379, 0.023665814, 0.0108426055, 0.016953513, 0.025186522, 0.0105380565, 0.015680995, 0.017622832, 0.012294588, 0.013034726, 0.013875719, 0.010413816, 0.015755735, 0.016532157, 0.014490648, 0.012289494, 0.019381458, 0.039068233, 0.03223398, 0.03177805]\n",
            "2021-11-29 20:11:49,107 : INFO : PROGRESS: pass 2, at document #1600/1740\n",
            "2021-11-29 20:11:49,247 : INFO : optimized alpha [0.012787512, 0.013087513, 0.011969391, 0.051562823, 0.013237104, 0.016791634, 0.019810844, 0.014474347, 0.013408341, 0.013449555, 0.029570037, 0.024500854, 0.010675414, 0.016582169, 0.024198087, 0.01036488, 0.015297621, 0.017138679, 0.012058883, 0.012927074, 0.013596692, 0.010260209, 0.015392996, 0.016307995, 0.014163248, 0.01216544, 0.019178804, 0.036821023, 0.031023202, 0.030307218]\n",
            "2021-11-29 20:11:49,249 : INFO : PROGRESS: pass 2, at document #1740/1740\n",
            "2021-11-29 20:11:49,349 : INFO : optimized alpha [0.012531711, 0.012932858, 0.0122081265, 0.062931515, 0.013076521, 0.016350642, 0.019197121, 0.014146634, 0.013679589, 0.0131665915, 0.028203743, 0.025711799, 0.010497124, 0.016188027, 0.023282716, 0.010196807, 0.014931584, 0.016679281, 0.011831399, 0.01286119, 0.013335974, 0.010117473, 0.015055398, 0.016141357, 0.013879962, 0.012065424, 0.01914849, 0.03495393, 0.030154862, 0.029005641]\n",
            "2021-11-29 20:11:49,353 : INFO : topic #21 (0.010): 0.214*\"F7\" + 0.189*\"F#m7\" + 0.151*\"Eb7\" + 0.079*\"Em7\" + 0.057*\"Ebm\" + 0.038*\"CM7\" + 0.022*\"Em\" + 0.021*\"C#m7\" + 0.019*\"DM7\" + 0.016*\"C6\"\n",
            "2021-11-29 20:11:49,356 : INFO : topic #15 (0.010): 0.242*\"Bbm7\" + 0.160*\"G#13\" + 0.142*\"G7(+b5)\" + 0.064*\"F#M7\" + 0.042*\"G#7(+b5)\" + 0.038*\"E7\" + 0.036*\"Bb13\" + 0.035*\"F#dim7\" + 0.034*\"Am7\" + 0.031*\"Eb13\"\n",
            "2021-11-29 20:11:49,359 : INFO : topic #28 (0.030): 0.125*\"A7\" + 0.117*\"D7\" + 0.113*\"G7\" + 0.083*\"Dm7_G7\" + 0.074*\"C6\" + 0.067*\"CM7\" + 0.039*\"C\" + 0.035*\"C7\" + 0.033*\"Em7\" + 0.028*\"E7\"\n",
            "2021-11-29 20:11:49,362 : INFO : topic #27 (0.035): 0.205*\"CM7\" + 0.187*\"Dm7_G7\" + 0.106*\"A7\" + 0.055*\"Em7\" + 0.035*\"C6\" + 0.034*\"Dm7\" + 0.032*\"D7\" + 0.029*\"Bb7\" + 0.028*\"G7\" + 0.028*\"FM7\"\n",
            "2021-11-29 20:11:49,365 : INFO : topic #3 (0.063): 0.310*\"C\" + 0.188*\"G7\" + 0.098*\"F\" + 0.089*\"D7\" + 0.051*\"A7\" + 0.043*\"C7\" + 0.035*\"E7\" + 0.031*\"Am\" + 0.024*\"Fm\" + 0.022*\"Dm\"\n",
            "2021-11-29 20:11:49,368 : INFO : topic diff=0.425847, rho=0.292353\n",
            "2021-11-29 20:11:49,372 : INFO : PROGRESS: pass 3, at document #200/1740\n",
            "2021-11-29 20:11:49,532 : INFO : optimized alpha [0.012712974, 0.012776391, 0.012231203, 0.058063667, 0.01306653, 0.016191019, 0.019270197, 0.013969885, 0.013656057, 0.013156583, 0.027577277, 0.02518616, 0.010572147, 0.01690345, 0.023066828, 0.010128012, 0.015099091, 0.016361883, 0.011775806, 0.012799679, 0.013532304, 0.0100216, 0.015177539, 0.016341025, 0.013873348, 0.0120043475, 0.019670604, 0.036263525, 0.030309126, 0.030016094]\n",
            "2021-11-29 20:11:49,534 : INFO : PROGRESS: pass 3, at document #400/1740\n",
            "2021-11-29 20:11:49,730 : INFO : optimized alpha [0.012944158, 0.0125653725, 0.012443832, 0.05421886, 0.013014881, 0.016246844, 0.019367293, 0.013856442, 0.013611487, 0.013158336, 0.026886396, 0.024566531, 0.0105845155, 0.017430846, 0.022953479, 0.010058612, 0.01527932, 0.016028108, 0.011957063, 0.0127926525, 0.013647379, 0.010012822, 0.015384, 0.016558986, 0.01376289, 0.011970347, 0.020004958, 0.03806952, 0.030491637, 0.03101348]\n",
            "2021-11-29 20:11:49,733 : INFO : PROGRESS: pass 3, at document #600/1740\n",
            "2021-11-29 20:11:49,906 : INFO : optimized alpha [0.012987505, 0.012397624, 0.012494073, 0.051252518, 0.012983284, 0.016083924, 0.02006713, 0.013665712, 0.0135440845, 0.013144017, 0.026480088, 0.023835596, 0.01070148, 0.017809466, 0.022752808, 0.010047781, 0.01530347, 0.015847942, 0.011946128, 0.012673102, 0.013697818, 0.010045754, 0.015520992, 0.016698208, 0.013654073, 0.011855035, 0.020337151, 0.040022835, 0.031146873, 0.032407183]\n",
            "2021-11-29 20:11:49,909 : INFO : PROGRESS: pass 3, at document #800/1740\n",
            "2021-11-29 20:11:50,073 : INFO : optimized alpha [0.013256158, 0.012270879, 0.012580422, 0.048426256, 0.012896078, 0.01611687, 0.020416638, 0.013661015, 0.013559536, 0.013207424, 0.025898634, 0.02333307, 0.010879715, 0.018330257, 0.02251034, 0.010108392, 0.01560129, 0.015583199, 0.012056205, 0.012667611, 0.013730467, 0.010035904, 0.015725205, 0.017057948, 0.013610417, 0.011744391, 0.020784467, 0.041072525, 0.0314146, 0.033479795]\n",
            "2021-11-29 20:11:50,076 : INFO : PROGRESS: pass 3, at document #1000/1740\n",
            "2021-11-29 20:11:50,242 : INFO : optimized alpha [0.0133577, 0.012151544, 0.012725629, 0.045472123, 0.012944428, 0.01615724, 0.02037409, 0.013601498, 0.013500816, 0.013176817, 0.025363754, 0.022970064, 0.010997944, 0.018823875, 0.02239463, 0.010070311, 0.015830494, 0.015358212, 0.012151963, 0.012664851, 0.013865915, 0.010014127, 0.015840648, 0.017375987, 0.013472575, 0.01172439, 0.021149892, 0.0424756, 0.0314905, 0.03480357]\n",
            "2021-11-29 20:11:50,244 : INFO : PROGRESS: pass 3, at document #1200/1740\n",
            "2021-11-29 20:11:50,400 : INFO : optimized alpha [0.013554086, 0.012019855, 0.012684991, 0.04269045, 0.013012649, 0.016077245, 0.020547695, 0.01358526, 0.01342316, 0.0132444715, 0.024815049, 0.022355778, 0.0111480085, 0.019488962, 0.022252353, 0.010033382, 0.015961483, 0.015096518, 0.012124704, 0.012590533, 0.014024114, 0.010035737, 0.015812421, 0.017510341, 0.013397619, 0.011604146, 0.021325704, 0.04468885, 0.03180652, 0.03612288]\n",
            "2021-11-29 20:11:50,402 : INFO : PROGRESS: pass 3, at document #1400/1740\n",
            "2021-11-29 20:11:50,568 : INFO : optimized alpha [0.013651464, 0.011925109, 0.012863938, 0.04411857, 0.01287251, 0.015996633, 0.020717345, 0.013486895, 0.013425128, 0.013232523, 0.024301052, 0.022279624, 0.011264547, 0.019717025, 0.022050649, 0.00995361, 0.01600113, 0.014931881, 0.012132184, 0.012498658, 0.01417622, 0.009942183, 0.01575988, 0.017689303, 0.013226053, 0.011553006, 0.021622019, 0.044969544, 0.031367052, 0.036328904]\n",
            "2021-11-29 20:11:50,570 : INFO : PROGRESS: pass 3, at document #1600/1740\n",
            "2021-11-29 20:11:50,708 : INFO : optimized alpha [0.01339232, 0.011849704, 0.013267645, 0.053748883, 0.012679918, 0.0156141, 0.020075899, 0.013234769, 0.013622822, 0.0129707325, 0.023418725, 0.02320936, 0.011106769, 0.019279344, 0.021324052, 0.00980547, 0.015618381, 0.014598561, 0.011912113, 0.0124457795, 0.013916345, 0.009836713, 0.0154112745, 0.017506298, 0.012964518, 0.011470638, 0.021365339, 0.04209793, 0.030420717, 0.03447222]\n",
            "2021-11-29 20:11:50,710 : INFO : PROGRESS: pass 3, at document #1740/1740\n",
            "2021-11-29 20:11:50,816 : INFO : optimized alpha [0.013123649, 0.011688422, 0.013607125, 0.065057725, 0.012542755, 0.015248926, 0.019472355, 0.012972379, 0.013911376, 0.012718706, 0.02259765, 0.024454148, 0.01092196, 0.018842686, 0.020643188, 0.009661423, 0.015253008, 0.01427933, 0.011699538, 0.012444059, 0.013710611, 0.0097119445, 0.015087316, 0.01741348, 0.012712733, 0.011415876, 0.02131027, 0.039912336, 0.029632311, 0.032844603]\n",
            "2021-11-29 20:11:50,820 : INFO : topic #15 (0.010): 0.269*\"Bbm7\" + 0.165*\"G#13\" + 0.163*\"G7(+b5)\" + 0.059*\"F#M7\" + 0.041*\"G#7(+b5)\" + 0.036*\"Bb13\" + 0.035*\"E7\" + 0.034*\"Eb13\" + 0.031*\"Am7\" + 0.030*\"F#dim7\"\n",
            "2021-11-29 20:11:50,822 : INFO : topic #21 (0.010): 0.312*\"F7\" + 0.180*\"F#m7\" + 0.169*\"Eb7\" + 0.076*\"Em7\" + 0.045*\"Ebm\" + 0.033*\"CM7\" + 0.024*\"DM7\" + 0.020*\"Em\" + 0.015*\"C#m7\" + 0.011*\"C6\"\n",
            "2021-11-29 20:11:50,825 : INFO : topic #29 (0.033): 0.198*\"C6\" + 0.158*\"Dm7_G7\" + 0.091*\"Em7\" + 0.091*\"A7\" + 0.079*\"Dm7\" + 0.031*\"D7\" + 0.028*\"CM7\" + 0.028*\"Am7\" + 0.023*\"Ebdim7\" + 0.021*\"FM7\"\n",
            "2021-11-29 20:11:50,827 : INFO : topic #27 (0.040): 0.214*\"CM7\" + 0.191*\"Dm7_G7\" + 0.110*\"A7\" + 0.058*\"Em7\" + 0.034*\"C6\" + 0.033*\"Dm7\" + 0.032*\"D7\" + 0.029*\"FM7\" + 0.028*\"Bb7\" + 0.028*\"G7\"\n",
            "2021-11-29 20:11:50,829 : INFO : topic #3 (0.065): 0.321*\"C\" + 0.194*\"G7\" + 0.097*\"F\" + 0.092*\"D7\" + 0.052*\"A7\" + 0.042*\"C7\" + 0.034*\"E7\" + 0.027*\"Am\" + 0.024*\"Fm\" + 0.020*\"Dm\"\n",
            "2021-11-29 20:11:50,831 : INFO : topic diff=0.377385, rho=0.280607\n",
            "2021-11-29 20:11:50,834 : INFO : PROGRESS: pass 4, at document #200/1740\n",
            "2021-11-29 20:11:50,979 : INFO : optimized alpha [0.013350257, 0.0115736555, 0.013644402, 0.060154054, 0.0125785405, 0.015130475, 0.019592663, 0.012857194, 0.013865719, 0.012753865, 0.022288721, 0.023951033, 0.01108014, 0.019531671, 0.020444768, 0.009658727, 0.015451634, 0.014067432, 0.011728021, 0.012411766, 0.013917992, 0.009736205, 0.015224142, 0.017616173, 0.012729016, 0.011402765, 0.021753287, 0.041271836, 0.029807152, 0.033848092]\n",
            "2021-11-29 20:11:50,981 : INFO : PROGRESS: pass 4, at document #400/1740\n",
            "2021-11-29 20:11:51,153 : INFO : optimized alpha [0.013610205, 0.011426451, 0.013866786, 0.056180052, 0.012575873, 0.015204404, 0.019653752, 0.012796291, 0.013876293, 0.012766702, 0.021854974, 0.023395069, 0.011116302, 0.020027636, 0.020454159, 0.009628364, 0.015709216, 0.013819456, 0.011952036, 0.012412574, 0.014025914, 0.009759528, 0.01538196, 0.017886663, 0.01267094, 0.011387246, 0.022082249, 0.043272864, 0.030012129, 0.03495783]\n",
            "2021-11-29 20:11:51,155 : INFO : PROGRESS: pass 4, at document #600/1740\n",
            "2021-11-29 20:11:51,342 : INFO : optimized alpha [0.013624211, 0.011299728, 0.0139704915, 0.053098388, 0.0126078, 0.015103817, 0.02027925, 0.012647775, 0.013882125, 0.012832835, 0.021627277, 0.02279929, 0.011273528, 0.020490821, 0.020344941, 0.009625258, 0.015726611, 0.013676411, 0.011991972, 0.012325966, 0.01409041, 0.0098218955, 0.015536307, 0.018025981, 0.012595701, 0.011323639, 0.022559093, 0.045388147, 0.030614879, 0.036420193]\n",
            "2021-11-29 20:11:51,343 : INFO : PROGRESS: pass 4, at document #800/1740\n",
            "2021-11-29 20:11:51,498 : INFO : optimized alpha [0.0138853295, 0.011222775, 0.0140360845, 0.049988873, 0.012638339, 0.015135074, 0.020616202, 0.012610521, 0.014025423, 0.013024877, 0.021257812, 0.02243934, 0.011462495, 0.021102803, 0.020174922, 0.009700887, 0.016101468, 0.013443145, 0.012149444, 0.012328439, 0.014173905, 0.009884158, 0.015754249, 0.018321387, 0.012576842, 0.01127789, 0.023004131, 0.04629882, 0.030896947, 0.03745458]\n",
            "2021-11-29 20:11:51,499 : INFO : PROGRESS: pass 4, at document #1000/1740\n",
            "2021-11-29 20:11:51,693 : INFO : optimized alpha [0.013996797, 0.011181538, 0.014166316, 0.047108576, 0.012759813, 0.015257214, 0.020690538, 0.012577375, 0.013978987, 0.013055164, 0.020856373, 0.022168169, 0.011653525, 0.021548131, 0.020056559, 0.009724388, 0.01632206, 0.01331728, 0.012258946, 0.012333469, 0.014340658, 0.009961476, 0.015932154, 0.018672489, 0.012474131, 0.011267808, 0.023266178, 0.04762973, 0.03103817, 0.03870017]\n",
            "2021-11-29 20:11:51,697 : INFO : PROGRESS: pass 4, at document #1200/1740\n",
            "2021-11-29 20:11:51,859 : INFO : optimized alpha [0.0141463205, 0.011081573, 0.014174036, 0.04445678, 0.01286548, 0.015226482, 0.02085738, 0.012599417, 0.013894704, 0.013161045, 0.020448798, 0.0215969, 0.011830241, 0.022301193, 0.019887546, 0.00970926, 0.0165178, 0.013120609, 0.012282837, 0.012270916, 0.014491216, 0.010066038, 0.015927557, 0.01888499, 0.0124437185, 0.011211042, 0.023551615, 0.0496298, 0.031456895, 0.039966874]\n",
            "2021-11-29 20:11:51,860 : INFO : PROGRESS: pass 4, at document #1400/1740\n",
            "2021-11-29 20:11:52,005 : INFO : optimized alpha [0.014254275, 0.011028926, 0.014397323, 0.045944963, 0.012789158, 0.015154023, 0.021018662, 0.012531076, 0.013926892, 0.013172372, 0.019994793, 0.021554936, 0.011971721, 0.022692746, 0.019781005, 0.00964093, 0.016663967, 0.012948046, 0.012289144, 0.012175214, 0.014676048, 0.010073399, 0.015877035, 0.019122148, 0.012326032, 0.011186909, 0.023963526, 0.049796466, 0.03123013, 0.04001063]\n",
            "2021-11-29 20:11:52,018 : INFO : PROGRESS: pass 4, at document #1600/1740\n",
            "2021-11-29 20:11:52,142 : INFO : optimized alpha [0.014022051, 0.010940039, 0.014923734, 0.055493735, 0.012625819, 0.014825726, 0.02038731, 0.012341549, 0.014154689, 0.012924303, 0.019423418, 0.022576388, 0.011799597, 0.02214798, 0.019221772, 0.009508024, 0.016267024, 0.012708349, 0.012073218, 0.012149486, 0.014408462, 0.009969881, 0.0155387, 0.019003447, 0.012108806, 0.011117035, 0.02364969, 0.0464926, 0.030292556, 0.037905846]\n",
            "2021-11-29 20:11:52,144 : INFO : PROGRESS: pass 4, at document #1740/1740\n",
            "2021-11-29 20:11:52,250 : INFO : optimized alpha [0.013740177, 0.010790232, 0.015347462, 0.066580385, 0.012471826, 0.014510626, 0.019791646, 0.012123174, 0.014518451, 0.012684825, 0.018882718, 0.023897894, 0.011599977, 0.021578524, 0.018692229, 0.009378398, 0.015887706, 0.012476805, 0.011864234, 0.012178854, 0.014195072, 0.009906113, 0.015223483, 0.018870566, 0.011898587, 0.011072529, 0.023376299, 0.04390374, 0.029548837, 0.03608813]\n",
            "2021-11-29 20:11:52,255 : INFO : topic #15 (0.009): 0.287*\"Bbm7\" + 0.170*\"G7(+b5)\" + 0.168*\"G#13\" + 0.056*\"F#M7\" + 0.039*\"G#7(+b5)\" + 0.038*\"Eb13\" + 0.035*\"Bb13\" + 0.032*\"E7\" + 0.029*\"Am7\" + 0.028*\"F#dim7\"\n",
            "2021-11-29 20:11:52,257 : INFO : topic #21 (0.010): 0.448*\"F7\" + 0.161*\"Eb7\" + 0.134*\"F#m7\" + 0.066*\"Em7\" + 0.033*\"Ebm\" + 0.028*\"CM7\" + 0.022*\"DM7\" + 0.016*\"Em\" + 0.012*\"C#m7\" + 0.009*\"G#7\"\n",
            "2021-11-29 20:11:52,262 : INFO : topic #29 (0.036): 0.215*\"C6\" + 0.158*\"Dm7_G7\" + 0.091*\"Em7\" + 0.089*\"A7\" + 0.080*\"Dm7\" + 0.030*\"D7\" + 0.027*\"Am7\" + 0.026*\"CM7\" + 0.024*\"Ebdim7\" + 0.022*\"FM7\"\n",
            "2021-11-29 20:11:52,265 : INFO : topic #27 (0.044): 0.219*\"CM7\" + 0.194*\"Dm7_G7\" + 0.114*\"A7\" + 0.061*\"Em7\" + 0.033*\"Dm7\" + 0.032*\"C6\" + 0.031*\"D7\" + 0.029*\"FM7\" + 0.027*\"Bb7\" + 0.026*\"G7\"\n",
            "2021-11-29 20:11:52,266 : INFO : topic #3 (0.067): 0.329*\"C\" + 0.198*\"G7\" + 0.096*\"F\" + 0.095*\"D7\" + 0.054*\"A7\" + 0.042*\"C7\" + 0.033*\"E7\" + 0.024*\"Fm\" + 0.024*\"Am\" + 0.019*\"Dm\"\n",
            "2021-11-29 20:11:52,268 : INFO : topic diff=0.344216, rho=0.270172\n",
            "2021-11-29 20:11:52,272 : INFO : PROGRESS: pass 5, at document #200/1740\n",
            "2021-11-29 20:11:52,422 : INFO : optimized alpha [0.014015462, 0.010731312, 0.01537628, 0.061759736, 0.012526173, 0.014458127, 0.019962206, 0.012051291, 0.014520886, 0.012805835, 0.018680125, 0.02351469, 0.011816579, 0.022413814, 0.018573958, 0.009393234, 0.016039075, 0.012330898, 0.011940407, 0.01215511, 0.014452915, 0.009994338, 0.015400293, 0.01912685, 0.011912398, 0.011052192, 0.023915512, 0.0451796, 0.02977485, 0.03713178]\n",
            "2021-11-29 20:11:52,424 : INFO : PROGRESS: pass 5, at document #400/1740\n",
            "2021-11-29 20:11:52,589 : INFO : optimized alpha [0.014325345, 0.010614264, 0.015586864, 0.05784522, 0.012643289, 0.014542547, 0.020180805, 0.01199564, 0.014599325, 0.012870818, 0.018402416, 0.02301043, 0.011937921, 0.023038132, 0.018555466, 0.009382066, 0.016294789, 0.012153175, 0.012191267, 0.012162323, 0.014611489, 0.010147385, 0.015574792, 0.019477094, 0.011875285, 0.011044976, 0.024268273, 0.046940506, 0.03031519, 0.03818068]\n",
            "2021-11-29 20:11:52,591 : INFO : PROGRESS: pass 5, at document #600/1740\n",
            "2021-11-29 20:11:52,768 : INFO : optimized alpha [0.014385178, 0.010528494, 0.01566714, 0.054703984, 0.012658631, 0.014485484, 0.0208207, 0.01192359, 0.0146339955, 0.012954218, 0.018310633, 0.02249632, 0.012199969, 0.02359445, 0.018486187, 0.009396046, 0.016359663, 0.011996786, 0.012277327, 0.012102645, 0.014725944, 0.01028656, 0.015759382, 0.019662526, 0.011822126, 0.011021557, 0.024841612, 0.048819125, 0.030896332, 0.03954643]\n",
            "2021-11-29 20:11:52,769 : INFO : PROGRESS: pass 5, at document #800/1740\n",
            "2021-11-29 20:11:52,929 : INFO : optimized alpha [0.014659087, 0.010444181, 0.015747666, 0.05163101, 0.012740808, 0.014529461, 0.02120081, 0.011903495, 0.014788055, 0.013194618, 0.018071644, 0.022138802, 0.012481364, 0.024220798, 0.01834321, 0.009495976, 0.01672637, 0.011829359, 0.012510831, 0.012123585, 0.014820167, 0.0104670655, 0.015992641, 0.019988779, 0.011819525, 0.010985029, 0.025281722, 0.049472366, 0.031172883, 0.04040049]\n",
            "2021-11-29 20:11:52,932 : INFO : PROGRESS: pass 5, at document #1000/1740\n",
            "2021-11-29 20:11:53,089 : INFO : optimized alpha [0.014780717, 0.010433974, 0.015857559, 0.048842277, 0.012927318, 0.014638303, 0.021320041, 0.0119027, 0.014748967, 0.013347639, 0.017825007, 0.021868031, 0.012684318, 0.024825644, 0.018238198, 0.00954732, 0.016984057, 0.01175057, 0.012649679, 0.01221337, 0.014980222, 0.010567501, 0.016144263, 0.020428183, 0.011740774, 0.01099621, 0.025630603, 0.050563764, 0.031449325, 0.041596826]\n",
            "2021-11-29 20:11:53,092 : INFO : PROGRESS: pass 5, at document #1200/1740\n",
            "2021-11-29 20:11:53,240 : INFO : optimized alpha [0.014921918, 0.010356157, 0.015834842, 0.046195928, 0.01311685, 0.014665797, 0.021419141, 0.011951801, 0.014710053, 0.013522381, 0.017614253, 0.021392532, 0.01288865, 0.025739912, 0.018112812, 0.009537114, 0.017193882, 0.0116107315, 0.012703413, 0.01217429, 0.015103939, 0.01076602, 0.016182454, 0.02069534, 0.011758176, 0.010949135, 0.025867302, 0.052622076, 0.03203842, 0.04296347]\n",
            "2021-11-29 20:11:53,243 : INFO : PROGRESS: pass 5, at document #1400/1740\n",
            "2021-11-29 20:11:53,394 : INFO : optimized alpha [0.015039936, 0.010334306, 0.016046345, 0.047620896, 0.013110225, 0.0145928245, 0.021573419, 0.011916268, 0.014730634, 0.013567458, 0.01726308, 0.021424944, 0.013007218, 0.026143627, 0.01806601, 0.009501188, 0.017354181, 0.011505334, 0.012705102, 0.012118226, 0.015281767, 0.010879355, 0.016130514, 0.021071797, 0.011664086, 0.010932324, 0.026238779, 0.05264621, 0.031791586, 0.042930294]\n",
            "2021-11-29 20:11:53,397 : INFO : PROGRESS: pass 5, at document #1600/1740\n",
            "2021-11-29 20:11:53,520 : INFO : optimized alpha [0.01479055, 0.010270507, 0.016625794, 0.0571468, 0.012944927, 0.014302091, 0.020967973, 0.011754417, 0.014970214, 0.013316134, 0.016856272, 0.02244639, 0.012862428, 0.02546011, 0.0176205, 0.00937792, 0.016943064, 0.011324589, 0.012484703, 0.012112466, 0.015003411, 0.010804564, 0.015796917, 0.020925952, 0.011478318, 0.010886478, 0.025764301, 0.049110968, 0.030904597, 0.040603045]\n",
            "2021-11-29 20:11:53,521 : INFO : PROGRESS: pass 5, at document #1740/1740\n",
            "2021-11-29 20:11:53,620 : INFO : optimized alpha [0.014490984, 0.010145738, 0.017113598, 0.0682646, 0.01286315, 0.014021976, 0.020366127, 0.011565191, 0.015320608, 0.01309849, 0.016467227, 0.02381915, 0.01266032, 0.0247702, 0.017195394, 0.009257465, 0.01655, 0.011148946, 0.012271239, 0.012143411, 0.014751672, 0.0107682785, 0.015485582, 0.020817617, 0.011297874, 0.010849489, 0.025307966, 0.046336252, 0.030098146, 0.038517073]\n",
            "2021-11-29 20:11:53,624 : INFO : topic #15 (0.009): 0.297*\"Bbm7\" + 0.177*\"G7(+b5)\" + 0.168*\"G#13\" + 0.055*\"F#M7\" + 0.041*\"Eb13\" + 0.038*\"G#7(+b5)\" + 0.036*\"Bb13\" + 0.028*\"E7\" + 0.027*\"Am7\" + 0.027*\"F#dim7\"\n",
            "2021-11-29 20:11:53,626 : INFO : topic #1 (0.010): 0.163*\"C\" + 0.102*\"D7\" + 0.099*\"Bm7b5\" + 0.097*\"Dm7\" + 0.072*\"G7\" + 0.065*\"A7\" + 0.052*\"Am7\" + 0.033*\"Dm7_G7\" + 0.026*\"C6\" + 0.024*\"E7\"\n",
            "2021-11-29 20:11:53,629 : INFO : topic #29 (0.039): 0.230*\"C6\" + 0.159*\"Dm7_G7\" + 0.090*\"Em7\" + 0.088*\"A7\" + 0.080*\"Dm7\" + 0.030*\"D7\" + 0.026*\"Am7\" + 0.026*\"Ebdim7\" + 0.024*\"CM7\" + 0.022*\"FM7\"\n",
            "2021-11-29 20:11:53,631 : INFO : topic #27 (0.046): 0.222*\"CM7\" + 0.198*\"Dm7_G7\" + 0.118*\"A7\" + 0.063*\"Em7\" + 0.033*\"Dm7\" + 0.031*\"D7\" + 0.031*\"C6\" + 0.030*\"FM7\" + 0.026*\"Bb7\" + 0.025*\"G7\"\n",
            "2021-11-29 20:11:53,633 : INFO : topic #3 (0.068): 0.336*\"C\" + 0.202*\"G7\" + 0.097*\"D7\" + 0.096*\"F\" + 0.055*\"A7\" + 0.041*\"C7\" + 0.032*\"E7\" + 0.024*\"Fm\" + 0.021*\"Am\" + 0.018*\"Dm\"\n",
            "2021-11-29 20:11:53,636 : INFO : topic diff=0.332485, rho=0.260820\n",
            "2021-11-29 20:11:53,639 : INFO : PROGRESS: pass 6, at document #200/1740\n",
            "2021-11-29 20:11:53,824 : INFO : optimized alpha [0.014761969, 0.010102566, 0.017111015, 0.063518375, 0.012946538, 0.0140202595, 0.020525275, 0.011509668, 0.015311163, 0.01329611, 0.016372671, 0.02345913, 0.012939881, 0.02568357, 0.01710469, 0.009274642, 0.016735962, 0.0110585205, 0.012359525, 0.012138998, 0.015061082, 0.01092018, 0.01565856, 0.021101456, 0.011335633, 0.010849091, 0.025855321, 0.047348063, 0.030356856, 0.039462224]\n",
            "2021-11-29 20:11:53,826 : INFO : PROGRESS: pass 6, at document #400/1740\n",
            "2021-11-29 20:11:53,991 : INFO : optimized alpha [0.015106566, 0.010019296, 0.017327776, 0.059733212, 0.01310977, 0.014092976, 0.020792844, 0.011527926, 0.015399934, 0.01342566, 0.016212624, 0.023015233, 0.0131365135, 0.026355272, 0.01710188, 0.009267161, 0.017051078, 0.010911161, 0.012654798, 0.012148945, 0.015233045, 0.011168268, 0.01580922, 0.021515796, 0.011327132, 0.010861136, 0.026276626, 0.04900673, 0.030848395, 0.040621687]\n",
            "2021-11-29 20:11:53,993 : INFO : PROGRESS: pass 6, at document #600/1740\n",
            "2021-11-29 20:11:54,160 : INFO : optimized alpha [0.015175947, 0.009963527, 0.01742436, 0.056514334, 0.013237473, 0.014105705, 0.021476846, 0.011500825, 0.015443404, 0.013555753, 0.016162565, 0.022526538, 0.0134157175, 0.026944222, 0.017031731, 0.009283466, 0.017114555, 0.010823724, 0.012736488, 0.012109379, 0.015418367, 0.011389836, 0.015976628, 0.021695528, 0.011302926, 0.010843474, 0.026784712, 0.05067826, 0.031345233, 0.042002458]\n",
            "2021-11-29 20:11:54,161 : INFO : PROGRESS: pass 6, at document #800/1740\n",
            "2021-11-29 20:11:54,321 : INFO : optimized alpha [0.015444605, 0.009908601, 0.017499857, 0.053441804, 0.013314301, 0.01421246, 0.02182219, 0.011505712, 0.015648702, 0.013826845, 0.016029904, 0.022189105, 0.013768141, 0.027647609, 0.016919045, 0.009382091, 0.017519135, 0.010696796, 0.013000191, 0.012120042, 0.015544368, 0.011599001, 0.016205832, 0.022053648, 0.011325159, 0.010813478, 0.027226876, 0.051411364, 0.031616915, 0.043011174]\n",
            "2021-11-29 20:11:54,322 : INFO : PROGRESS: pass 6, at document #1000/1740\n",
            "2021-11-29 20:11:54,470 : INFO : optimized alpha [0.015577878, 0.009920873, 0.01760802, 0.050586406, 0.013497177, 0.014325508, 0.021876592, 0.011513537, 0.015636394, 0.014063586, 0.01586576, 0.021936156, 0.013984419, 0.02836443, 0.016839633, 0.009434589, 0.01781455, 0.010632043, 0.013168309, 0.012194905, 0.015737964, 0.011840848, 0.016397262, 0.02253327, 0.011262021, 0.010839768, 0.02764796, 0.05278571, 0.032063004, 0.04431908]\n",
            "2021-11-29 20:11:54,472 : INFO : PROGRESS: pass 6, at document #1200/1740\n",
            "2021-11-29 20:11:54,611 : INFO : optimized alpha [0.015710698, 0.009844719, 0.017527908, 0.04801642, 0.01375076, 0.014323864, 0.021967437, 0.011582186, 0.015603909, 0.014273047, 0.015687656, 0.021460934, 0.0142212, 0.029354602, 0.016762782, 0.009440006, 0.018017052, 0.010527281, 0.013250856, 0.012160253, 0.015914384, 0.012160985, 0.016435403, 0.022769222, 0.0112876855, 0.010813364, 0.027948007, 0.05481397, 0.032552786, 0.045694906]\n",
            "2021-11-29 20:11:54,617 : INFO : PROGRESS: pass 6, at document #1400/1740\n",
            "2021-11-29 20:11:54,761 : INFO : optimized alpha [0.01583951, 0.009845502, 0.017790088, 0.04934637, 0.013771771, 0.014283626, 0.02214261, 0.011558408, 0.015671909, 0.014366321, 0.015445226, 0.021528475, 0.014382748, 0.02963726, 0.016732955, 0.009408642, 0.018215293, 0.010479205, 0.013246512, 0.012109251, 0.016145261, 0.01234434, 0.016385041, 0.023180518, 0.011224072, 0.010815129, 0.028279375, 0.054769997, 0.032388493, 0.04555837]\n",
            "2021-11-29 20:11:54,762 : INFO : PROGRESS: pass 6, at document #1600/1740\n",
            "2021-11-29 20:11:54,895 : INFO : optimized alpha [0.015613658, 0.009757383, 0.0184035, 0.058895454, 0.013613215, 0.014017922, 0.021504376, 0.011414323, 0.015923545, 0.014097535, 0.015134568, 0.022695452, 0.0141873555, 0.028769234, 0.016368357, 0.009293335, 0.017806929, 0.010336172, 0.013017984, 0.012106694, 0.01584718, 0.012225728, 0.016056692, 0.023091668, 0.011059986, 0.010802695, 0.027688384, 0.051196933, 0.03159628, 0.043051638]\n",
            "2021-11-29 20:11:54,897 : INFO : PROGRESS: pass 6, at document #1740/1740\n",
            "2021-11-29 20:11:54,997 : INFO : optimized alpha [0.015323462, 0.009651091, 0.019025918, 0.06993024, 0.013571446, 0.013761275, 0.020900656, 0.0112441415, 0.016335439, 0.013864129, 0.01483542, 0.02408434, 0.0140028065, 0.027906014, 0.016018469, 0.009180514, 0.017392872, 0.010196617, 0.012796637, 0.012139442, 0.015605893, 0.012166215, 0.015749898, 0.023008103, 0.010920453, 0.010770526, 0.027267158, 0.04831024, 0.030848948, 0.040808998]\n",
            "2021-11-29 20:11:55,002 : INFO : topic #15 (0.009): 0.305*\"Bbm7\" + 0.180*\"G7(+b5)\" + 0.167*\"G#13\" + 0.055*\"F#M7\" + 0.044*\"Eb13\" + 0.036*\"G#7(+b5)\" + 0.036*\"Bb13\" + 0.026*\"Am7\" + 0.026*\"F#dim7\" + 0.025*\"E7\"\n",
            "2021-11-29 20:11:55,013 : INFO : topic #1 (0.010): 0.152*\"C\" + 0.124*\"Bm7b5\" + 0.106*\"Dm7\" + 0.100*\"D7\" + 0.067*\"G7\" + 0.065*\"A7\" + 0.049*\"Am7\" + 0.032*\"Dm7_G7\" + 0.025*\"C6\" + 0.025*\"Cdim\"\n",
            "2021-11-29 20:11:55,014 : INFO : topic #29 (0.041): 0.243*\"C6\" + 0.159*\"Dm7_G7\" + 0.090*\"Em7\" + 0.087*\"A7\" + 0.081*\"Dm7\" + 0.029*\"D7\" + 0.026*\"Ebdim7\" + 0.026*\"Am7\" + 0.022*\"FM7\" + 0.022*\"CM7\"\n",
            "2021-11-29 20:11:55,018 : INFO : topic #27 (0.048): 0.224*\"CM7\" + 0.202*\"Dm7_G7\" + 0.122*\"A7\" + 0.065*\"Em7\" + 0.032*\"Dm7\" + 0.031*\"D7\" + 0.030*\"C6\" + 0.029*\"FM7\" + 0.025*\"Bb7\" + 0.024*\"G7\"\n",
            "2021-11-29 20:11:55,021 : INFO : topic #3 (0.070): 0.342*\"C\" + 0.204*\"G7\" + 0.098*\"D7\" + 0.095*\"F\" + 0.056*\"A7\" + 0.041*\"C7\" + 0.031*\"E7\" + 0.024*\"Fm\" + 0.019*\"Am\" + 0.018*\"Dm\"\n",
            "2021-11-29 20:11:55,027 : INFO : topic diff=0.328715, rho=0.252377\n",
            "2021-11-29 20:11:55,031 : INFO : PROGRESS: pass 7, at document #200/1740\n",
            "2021-11-29 20:11:55,197 : INFO : optimized alpha [0.015610048, 0.009619035, 0.019009633, 0.06525565, 0.013682169, 0.013768301, 0.021111883, 0.011198629, 0.016370479, 0.01413456, 0.014786581, 0.023734886, 0.014354165, 0.028892774, 0.015964229, 0.009199742, 0.017571218, 0.010105159, 0.012928678, 0.0121536255, 0.015912334, 0.012345241, 0.015900463, 0.023350146, 0.010963295, 0.010773462, 0.027792133, 0.04925344, 0.031215878, 0.04176167]\n",
            "2021-11-29 20:11:55,200 : INFO : PROGRESS: pass 7, at document #400/1740\n",
            "2021-11-29 20:11:55,363 : INFO : optimized alpha [0.015972083, 0.0095501775, 0.019254696, 0.061606742, 0.013909379, 0.013845309, 0.021348786, 0.0111953, 0.016507372, 0.014348444, 0.0146430535, 0.023334093, 0.014635142, 0.029681893, 0.0159688, 0.009206615, 0.01792598, 0.010001828, 0.013255071, 0.012196627, 0.016097525, 0.012568989, 0.01608897, 0.023775341, 0.010990159, 0.010788678, 0.028289178, 0.051013198, 0.031695366, 0.042935938]\n",
            "2021-11-29 20:11:55,368 : INFO : PROGRESS: pass 7, at document #600/1740\n",
            "2021-11-29 20:11:55,516 : INFO : optimized alpha [0.016091298, 0.009518098, 0.019344697, 0.05849856, 0.014134607, 0.013865998, 0.022028415, 0.011205344, 0.016576963, 0.0145629775, 0.014595712, 0.02279737, 0.014915422, 0.030308438, 0.01591255, 0.009224989, 0.01802107, 0.00993802, 0.013364766, 0.012160883, 0.01629662, 0.012886303, 0.016233828, 0.023971796, 0.010974704, 0.010761925, 0.02880394, 0.052747197, 0.032341376, 0.04444007]\n",
            "2021-11-29 20:11:55,518 : INFO : PROGRESS: pass 7, at document #800/1740\n",
            "2021-11-29 20:11:55,670 : INFO : optimized alpha [0.01639516, 0.0094858, 0.019389164, 0.055439495, 0.014238627, 0.01397546, 0.02231153, 0.011216997, 0.016794981, 0.014999577, 0.014494722, 0.022498485, 0.015292749, 0.031094594, 0.015838165, 0.009334246, 0.0184659, 0.009838459, 0.013677108, 0.0121739665, 0.016475279, 0.013111591, 0.016480796, 0.024356063, 0.011002749, 0.0107366955, 0.02943081, 0.053526897, 0.03259685, 0.04548347]\n",
            "2021-11-29 20:11:55,697 : INFO : PROGRESS: pass 7, at document #1000/1740\n",
            "2021-11-29 20:11:55,844 : INFO : optimized alpha [0.016539803, 0.009480612, 0.019470537, 0.052427355, 0.014505283, 0.014126626, 0.022424154, 0.011231331, 0.016806828, 0.015273153, 0.014400309, 0.022339394, 0.015541033, 0.03193466, 0.015792249, 0.009387477, 0.018825566, 0.009780863, 0.013875593, 0.012249372, 0.016701465, 0.013422203, 0.016649509, 0.024910852, 0.010977711, 0.010781577, 0.029854262, 0.054918673, 0.03294622, 0.046807364]\n",
            "2021-11-29 20:11:55,846 : INFO : PROGRESS: pass 7, at document #1200/1740\n",
            "2021-11-29 20:11:55,992 : INFO : optimized alpha [0.016663251, 0.009405312, 0.019348921, 0.049788162, 0.014758465, 0.014168204, 0.022626778, 0.011316897, 0.01681704, 0.015533871, 0.014274104, 0.02195547, 0.015811384, 0.032916, 0.015747987, 0.009395281, 0.018994987, 0.009712074, 0.0139699485, 0.012218109, 0.016891206, 0.013802391, 0.01668839, 0.025200078, 0.011022385, 0.01077281, 0.030074846, 0.056974366, 0.033510793, 0.048143376]\n",
            "2021-11-29 20:11:55,993 : INFO : PROGRESS: pass 7, at document #1400/1740\n",
            "2021-11-29 20:11:56,152 : INFO : optimized alpha [0.016782476, 0.009389757, 0.01966752, 0.051157445, 0.014803725, 0.0141368, 0.022796586, 0.0113292625, 0.016889399, 0.015669195, 0.0140941255, 0.022104105, 0.016019978, 0.03316591, 0.01576514, 0.00937903, 0.019183347, 0.009704982, 0.013974746, 0.012170886, 0.017115567, 0.01401581, 0.016639313, 0.025711076, 0.010968795, 0.010790754, 0.030289216, 0.056881435, 0.033426948, 0.04791848]\n",
            "2021-11-29 20:11:56,154 : INFO : PROGRESS: pass 7, at document #1600/1740\n",
            "2021-11-29 20:11:56,273 : INFO : optimized alpha [0.016536525, 0.009303807, 0.020364083, 0.060645044, 0.01466058, 0.013888673, 0.022151684, 0.011184053, 0.01713349, 0.01536438, 0.013847492, 0.023290364, 0.015801799, 0.032101914, 0.015476408, 0.009269793, 0.018726565, 0.009588023, 0.013732271, 0.012170316, 0.016794365, 0.013894656, 0.016316438, 0.025649376, 0.010819396, 0.010781582, 0.029695211, 0.053277645, 0.032729514, 0.0452666]\n",
            "2021-11-29 20:11:56,279 : INFO : PROGRESS: pass 7, at document #1740/1740\n",
            "2021-11-29 20:11:56,372 : INFO : optimized alpha [0.01622508, 0.009212692, 0.021139, 0.071617976, 0.01457634, 0.0136485, 0.021541003, 0.011028295, 0.017574321, 0.015098274, 0.013608741, 0.024719791, 0.015661262, 0.031170443, 0.015178207, 0.009162784, 0.018290037, 0.009473543, 0.013497476, 0.012225992, 0.016532397, 0.013804364, 0.016043754, 0.025540499, 0.010692884, 0.010790748, 0.029258216, 0.050289147, 0.032014824, 0.04289874]\n",
            "2021-11-29 20:11:56,376 : INFO : topic #15 (0.009): 0.309*\"Bbm7\" + 0.181*\"G7(+b5)\" + 0.166*\"G#13\" + 0.055*\"F#M7\" + 0.045*\"Eb13\" + 0.040*\"Bb13\" + 0.035*\"G#7(+b5)\" + 0.025*\"F#dim7\" + 0.024*\"Am7\" + 0.023*\"E7\"\n",
            "2021-11-29 20:11:56,380 : INFO : topic #1 (0.009): 0.153*\"Bm7b5\" + 0.137*\"C\" + 0.112*\"Dm7\" + 0.098*\"D7\" + 0.064*\"A7\" + 0.063*\"G7\" + 0.048*\"Am7\" + 0.031*\"Dm7_G7\" + 0.028*\"Cdim\" + 0.024*\"C6\"\n",
            "2021-11-29 20:11:56,385 : INFO : topic #29 (0.043): 0.255*\"C6\" + 0.160*\"Dm7_G7\" + 0.089*\"Em7\" + 0.087*\"A7\" + 0.082*\"Dm7\" + 0.029*\"D7\" + 0.027*\"Ebdim7\" + 0.025*\"Am7\" + 0.021*\"G7\" + 0.021*\"FM7\"\n",
            "2021-11-29 20:11:56,393 : INFO : topic #27 (0.050): 0.225*\"CM7\" + 0.206*\"Dm7_G7\" + 0.125*\"A7\" + 0.067*\"Em7\" + 0.032*\"Dm7\" + 0.030*\"D7\" + 0.029*\"FM7\" + 0.029*\"C6\" + 0.024*\"Bb7\" + 0.024*\"Gm7_C7\"\n",
            "2021-11-29 20:11:56,400 : INFO : topic #3 (0.072): 0.347*\"C\" + 0.207*\"G7\" + 0.099*\"D7\" + 0.095*\"F\" + 0.056*\"A7\" + 0.040*\"C7\" + 0.030*\"E7\" + 0.023*\"Fm\" + 0.018*\"Dm\" + 0.017*\"Am\"\n",
            "2021-11-29 20:11:56,401 : INFO : topic diff=0.330197, rho=0.244704\n",
            "2021-11-29 20:11:56,407 : INFO : PROGRESS: pass 8, at document #200/1740\n",
            "2021-11-29 20:11:56,547 : INFO : optimized alpha [0.016547773, 0.009189758, 0.021104597, 0.06696363, 0.014750111, 0.013694635, 0.021750167, 0.011003409, 0.017634235, 0.015387835, 0.01358865, 0.024396801, 0.01601929, 0.032268025, 0.0151859475, 0.00920528, 0.01848319, 0.009412654, 0.013625942, 0.012242041, 0.016816797, 0.014046199, 0.01617318, 0.02588171, 0.010739026, 0.010782858, 0.029795684, 0.05141589, 0.03245159, 0.043714643]\n",
            "2021-11-29 20:11:56,551 : INFO : PROGRESS: pass 8, at document #400/1740\n",
            "2021-11-29 20:11:56,701 : INFO : optimized alpha [0.016928457, 0.0091326395, 0.021324677, 0.0633172, 0.015046142, 0.013774362, 0.022010509, 0.0110058915, 0.017779684, 0.015617314, 0.013501034, 0.024051217, 0.016395641, 0.03311015, 0.01519053, 0.009213948, 0.018877767, 0.009329196, 0.014003244, 0.012286227, 0.01701656, 0.014321023, 0.016398598, 0.026344808, 0.010783124, 0.01080018, 0.030411458, 0.05320942, 0.032916803, 0.04491146]\n",
            "2021-11-29 20:11:56,702 : INFO : PROGRESS: pass 8, at document #600/1740\n",
            "2021-11-29 20:11:56,868 : INFO : optimized alpha [0.017039085, 0.009109159, 0.021381082, 0.06025935, 0.015304569, 0.013783075, 0.022711115, 0.011007496, 0.017833132, 0.015866218, 0.013481035, 0.02356547, 0.01669346, 0.03381216, 0.015157812, 0.009233722, 0.018986987, 0.009281016, 0.014141508, 0.012253444, 0.017230399, 0.014699435, 0.016542181, 0.026557975, 0.010773873, 0.010776683, 0.030935926, 0.054979764, 0.033716805, 0.046405856]\n",
            "2021-11-29 20:11:56,870 : INFO : PROGRESS: pass 8, at document #800/1740\n",
            "2021-11-29 20:11:57,007 : INFO : optimized alpha [0.017401183, 0.009086175, 0.021439755, 0.057160657, 0.01547181, 0.013927562, 0.023102988, 0.011010476, 0.018042222, 0.016333323, 0.0134128565, 0.023257233, 0.017096331, 0.034767915, 0.015107988, 0.009341881, 0.019385882, 0.009200145, 0.014505628, 0.01226855, 0.017402565, 0.01501088, 0.016786527, 0.026951142, 0.010819069, 0.010754584, 0.03157664, 0.055671126, 0.034181356, 0.04739708]\n",
            "2021-11-29 20:11:57,010 : INFO : PROGRESS: pass 8, at document #1000/1740\n",
            "2021-11-29 20:11:57,150 : INFO : optimized alpha [0.017578801, 0.009098531, 0.021513807, 0.05434276, 0.01577422, 0.0141124865, 0.02326732, 0.011029778, 0.018036593, 0.016685996, 0.0133331735, 0.023002626, 0.01737933, 0.035703015, 0.015064938, 0.009395699, 0.01976694, 0.009179276, 0.014753816, 0.012344619, 0.017625358, 0.015400878, 0.016933769, 0.027553525, 0.010800417, 0.010800937, 0.032044083, 0.056934137, 0.03459101, 0.048767675]\n",
            "2021-11-29 20:11:57,154 : INFO : PROGRESS: pass 8, at document #1200/1740\n",
            "2021-11-29 20:11:57,296 : INFO : optimized alpha [0.017735377, 0.009034492, 0.02136863, 0.051638465, 0.016044008, 0.014157755, 0.02334664, 0.011143313, 0.018073177, 0.01704677, 0.01325664, 0.022613531, 0.01766571, 0.03696599, 0.015023033, 0.009416485, 0.019976515, 0.009125192, 0.014877053, 0.012316311, 0.017766427, 0.015834067, 0.016993152, 0.027831186, 0.010835023, 0.010807998, 0.032321986, 0.059055477, 0.035090774, 0.050267767]\n",
            "2021-11-29 20:11:57,299 : INFO : PROGRESS: pass 8, at document #1400/1740\n",
            "2021-11-29 20:11:57,443 : INFO : optimized alpha [0.017886622, 0.009036562, 0.021698397, 0.05305768, 0.016151452, 0.01412925, 0.02353953, 0.011160473, 0.018195942, 0.017215744, 0.013130888, 0.02275784, 0.01788449, 0.03719667, 0.0150564425, 0.009402604, 0.020181084, 0.009115906, 0.014889553, 0.012271976, 0.018006917, 0.016136516, 0.016946025, 0.028351525, 0.0107890805, 0.01082789, 0.032407947, 0.058992375, 0.03493082, 0.050226428]\n",
            "2021-11-29 20:11:57,445 : INFO : PROGRESS: pass 8, at document #1600/1740\n",
            "2021-11-29 20:11:57,576 : INFO : optimized alpha [0.017615603, 0.008961906, 0.02246013, 0.06273258, 0.015959943, 0.013893061, 0.02288433, 0.011026641, 0.018453281, 0.016865145, 0.012926889, 0.023977337, 0.017658914, 0.036027107, 0.014806623, 0.009297988, 0.019699395, 0.009017574, 0.014627271, 0.012302783, 0.01766678, 0.015966525, 0.016626924, 0.028283847, 0.010664357, 0.010834221, 0.03181136, 0.05529434, 0.034123935, 0.047511574]\n",
            "2021-11-29 20:11:57,578 : INFO : PROGRESS: pass 8, at document #1740/1740\n",
            "2021-11-29 20:11:57,669 : INFO : optimized alpha [0.017307462, 0.008882038, 0.023238223, 0.07372918, 0.015823657, 0.013663723, 0.022262419, 0.010882161, 0.018894171, 0.016557025, 0.012728333, 0.025488371, 0.017505836, 0.034871526, 0.014546145, 0.00919525, 0.019238448, 0.008920939, 0.014373062, 0.012379423, 0.01738719, 0.015858948, 0.016356736, 0.028048823, 0.010547659, 0.010845235, 0.03130096, 0.052215874, 0.033497754, 0.045017026]\n",
            "2021-11-29 20:11:57,676 : INFO : topic #17 (0.009): 0.077*\"Em7\" + 0.073*\"A7\" + 0.073*\"Dm7_G7\" + 0.062*\"FM7\" + 0.061*\"C7\" + 0.052*\"CM7\" + 0.038*\"G7\" + 0.037*\"E7\" + 0.035*\"Am7\" + 0.030*\"G#7\"\n",
            "2021-11-29 20:11:57,678 : INFO : topic #1 (0.009): 0.183*\"Bm7b5\" + 0.122*\"C\" + 0.118*\"Dm7\" + 0.096*\"D7\" + 0.063*\"A7\" + 0.059*\"G7\" + 0.046*\"Am7\" + 0.030*\"Cdim\" + 0.029*\"Dm7_G7\" + 0.023*\"E7\"\n",
            "2021-11-29 20:11:57,681 : INFO : topic #29 (0.045): 0.266*\"C6\" + 0.160*\"Dm7_G7\" + 0.088*\"Em7\" + 0.086*\"A7\" + 0.082*\"Dm7\" + 0.028*\"D7\" + 0.027*\"Ebdim7\" + 0.024*\"Am7\" + 0.021*\"G7\" + 0.021*\"FM7\"\n",
            "2021-11-29 20:11:57,684 : INFO : topic #27 (0.052): 0.225*\"CM7\" + 0.210*\"Dm7_G7\" + 0.129*\"A7\" + 0.069*\"Em7\" + 0.032*\"Dm7\" + 0.030*\"D7\" + 0.029*\"FM7\" + 0.028*\"C6\" + 0.024*\"Gm7_C7\" + 0.023*\"Bb7\"\n",
            "2021-11-29 20:11:57,685 : INFO : topic #3 (0.074): 0.351*\"C\" + 0.209*\"G7\" + 0.100*\"D7\" + 0.095*\"F\" + 0.057*\"A7\" + 0.040*\"C7\" + 0.029*\"E7\" + 0.023*\"Fm\" + 0.018*\"Dm\" + 0.015*\"Am\"\n",
            "2021-11-29 20:11:57,688 : INFO : topic diff=0.332287, rho=0.237691\n",
            "2021-11-29 20:11:57,691 : INFO : PROGRESS: pass 9, at document #200/1740\n",
            "2021-11-29 20:11:57,853 : INFO : optimized alpha [0.017648725, 0.008865665, 0.023213463, 0.06911617, 0.016028062, 0.013696325, 0.022491358, 0.010863123, 0.018958963, 0.016887225, 0.01271119, 0.02518797, 0.017949335, 0.036047064, 0.014568566, 0.009238357, 0.019493332, 0.008851756, 0.014496809, 0.012396504, 0.017710006, 0.016174078, 0.016504709, 0.028355816, 0.010608215, 0.010839496, 0.031815484, 0.05331429, 0.033794228, 0.045795083]\n",
            "2021-11-29 20:11:57,873 : INFO : PROGRESS: pass 9, at document #400/1740\n",
            "2021-11-29 20:11:58,015 : INFO : optimized alpha [0.018133033, 0.008827436, 0.023411145, 0.06531437, 0.016381133, 0.013794244, 0.02280115, 0.010857151, 0.019091649, 0.017192475, 0.01266281, 0.024863437, 0.018415283, 0.03684911, 0.014621351, 0.009248462, 0.01991141, 0.008782979, 0.014861524, 0.012441351, 0.01792501, 0.016544567, 0.016728386, 0.028893527, 0.010667233, 0.010858353, 0.032409754, 0.055147137, 0.03432585, 0.046919893]\n",
            "2021-11-29 20:11:58,021 : INFO : PROGRESS: pass 9, at document #600/1740\n",
            "2021-11-29 20:11:58,170 : INFO : optimized alpha [0.018294947, 0.00881035, 0.023429811, 0.062202796, 0.016694566, 0.013839156, 0.023583613, 0.010889024, 0.019127836, 0.017459322, 0.01266043, 0.024366481, 0.018708467, 0.03754337, 0.0146225, 0.009269491, 0.020058988, 0.008746258, 0.015029594, 0.0124105755, 0.01817508, 0.017032508, 0.01691001, 0.029126959, 0.010699754, 0.010850034, 0.0329822, 0.056940854, 0.035078682, 0.048682194]\n",
            "2021-11-29 20:11:58,172 : INFO : PROGRESS: pass 9, at document #800/1740\n",
            "2021-11-29 20:11:58,319 : INFO : optimized alpha [0.018656356, 0.008793655, 0.023479404, 0.05920664, 0.016872836, 0.013984774, 0.023914678, 0.010921705, 0.019349415, 0.018001707, 0.012643265, 0.023989556, 0.019160138, 0.0385588, 0.014607002, 0.009376869, 0.020432016, 0.008679376, 0.0153972525, 0.012441532, 0.018340755, 0.017446121, 0.017172445, 0.02958915, 0.010747076, 0.010830283, 0.03371775, 0.057769027, 0.03559822, 0.04963271]\n",
            "2021-11-29 20:11:58,321 : INFO : PROGRESS: pass 9, at document #1000/1740\n",
            "2021-11-29 20:11:58,471 : INFO : optimized alpha [0.018867437, 0.008810048, 0.023573777, 0.05630451, 0.017214833, 0.014236174, 0.024083057, 0.01094408, 0.019346815, 0.018421452, 0.012599696, 0.023758328, 0.019480398, 0.03950039, 0.01457952, 0.009431163, 0.020808749, 0.008667007, 0.015698213, 0.012517846, 0.018558431, 0.01789057, 0.017337643, 0.030207427, 0.010745318, 0.010877518, 0.034233846, 0.059169732, 0.0359027, 0.051046703]\n",
            "2021-11-29 20:11:58,473 : INFO : PROGRESS: pass 9, at document #1200/1740\n",
            "2021-11-29 20:11:58,603 : INFO : optimized alpha [0.019056108, 0.008754332, 0.023377918, 0.05359685, 0.017521422, 0.014317043, 0.024298403, 0.011044681, 0.01941154, 0.018763158, 0.01255806, 0.023331711, 0.019780435, 0.04070238, 0.014569651, 0.009463956, 0.021059176, 0.00863395, 0.01585173, 0.012505442, 0.01866999, 0.01833981, 0.01737603, 0.030512003, 0.010782049, 0.010886229, 0.034526862, 0.060969613, 0.036475964, 0.052521903]\n",
            "2021-11-29 20:11:58,605 : INFO : PROGRESS: pass 9, at document #1400/1740\n",
            "2021-11-29 20:11:58,732 : INFO : optimized alpha [0.019217603, 0.008760796, 0.023771329, 0.05500131, 0.017634684, 0.014293897, 0.024362972, 0.011078249, 0.019565223, 0.018941624, 0.012485519, 0.023501137, 0.020006364, 0.041028034, 0.014630201, 0.009452023, 0.021280315, 0.008621689, 0.015872227, 0.012477179, 0.018906906, 0.018681379, 0.01732855, 0.031039055, 0.010764044, 0.010907528, 0.03464561, 0.060974978, 0.036469813, 0.05243792]\n",
            "2021-11-29 20:11:58,734 : INFO : PROGRESS: pass 9, at document #1600/1740\n",
            "2021-11-29 20:11:58,863 : INFO : optimized alpha [0.018913178, 0.008694829, 0.024572046, 0.06491418, 0.017408188, 0.014063234, 0.023694852, 0.01095276, 0.019813482, 0.018536674, 0.012309516, 0.024806563, 0.019745305, 0.039632767, 0.014422849, 0.009351144, 0.020794708, 0.008537752, 0.015587835, 0.012537577, 0.018547647, 0.01844365, 0.017010115, 0.031085994, 0.0106458785, 0.010915387, 0.03400887, 0.057125226, 0.03566389, 0.04948088]\n",
            "2021-11-29 20:11:58,866 : INFO : PROGRESS: pass 9, at document #1740/1740\n",
            "2021-11-29 20:11:58,982 : INFO : optimized alpha [0.018538803, 0.008623713, 0.025452299, 0.07592904, 0.017270725, 0.013838824, 0.023058156, 0.010816624, 0.020252869, 0.018178876, 0.012137572, 0.026363999, 0.019507082, 0.038266722, 0.014186816, 0.009251904, 0.020304231, 0.008455025, 0.015312148, 0.012634763, 0.018250601, 0.018278206, 0.0167399, 0.030865833, 0.010535188, 0.010945824, 0.03347912, 0.05398341, 0.03505788, 0.046894815]\n",
            "2021-11-29 20:11:58,985 : INFO : topic #17 (0.008): 0.078*\"Em7\" + 0.073*\"A7\" + 0.071*\"Dm7_G7\" + 0.060*\"C7\" + 0.060*\"FM7\" + 0.048*\"CM7\" + 0.037*\"E7\" + 0.036*\"G7\" + 0.034*\"Am7\" + 0.031*\"G#7\"\n",
            "2021-11-29 20:11:58,988 : INFO : topic #1 (0.009): 0.211*\"Bm7b5\" + 0.123*\"Dm7\" + 0.108*\"C\" + 0.093*\"D7\" + 0.061*\"A7\" + 0.055*\"G7\" + 0.045*\"Am7\" + 0.032*\"Cdim\" + 0.028*\"Dm7_G7\" + 0.025*\"B\"\n",
            "2021-11-29 20:11:58,990 : INFO : topic #29 (0.047): 0.277*\"C6\" + 0.161*\"Dm7_G7\" + 0.088*\"Em7\" + 0.085*\"A7\" + 0.082*\"Dm7\" + 0.028*\"D7\" + 0.027*\"Ebdim7\" + 0.024*\"Am7\" + 0.021*\"G7\" + 0.020*\"FM7\"\n",
            "2021-11-29 20:11:58,993 : INFO : topic #27 (0.054): 0.225*\"CM7\" + 0.214*\"Dm7_G7\" + 0.132*\"A7\" + 0.070*\"Em7\" + 0.032*\"Dm7\" + 0.030*\"D7\" + 0.028*\"FM7\" + 0.028*\"C6\" + 0.024*\"Gm7_C7\" + 0.024*\"Em7b5\"\n",
            "2021-11-29 20:11:58,998 : INFO : topic #3 (0.076): 0.355*\"C\" + 0.211*\"G7\" + 0.100*\"D7\" + 0.094*\"F\" + 0.057*\"A7\" + 0.039*\"C7\" + 0.028*\"E7\" + 0.023*\"Fm\" + 0.018*\"Dm\" + 0.013*\"Am\"\n",
            "2021-11-29 20:11:59,002 : INFO : topic diff=0.334733, rho=0.231249\n",
            "2021-11-29 20:11:59,008 : INFO : PROGRESS: pass 10, at document #200/1740\n",
            "2021-11-29 20:11:59,165 : INFO : optimized alpha [0.018879361, 0.00861234, 0.025380773, 0.07143192, 0.017527455, 0.013872807, 0.023255467, 0.010801674, 0.020345964, 0.01857305, 0.012146594, 0.026021805, 0.019935044, 0.03965448, 0.014250919, 0.009295579, 0.020553766, 0.008416479, 0.015448032, 0.012651928, 0.018592726, 0.01861477, 0.016867645, 0.031160906, 0.010596662, 0.0109416945, 0.033968292, 0.055001527, 0.03545906, 0.047704484]\n",
            "2021-11-29 20:11:59,167 : INFO : PROGRESS: pass 10, at document #400/1740\n",
            "2021-11-29 20:11:59,315 : INFO : optimized alpha [0.019368624, 0.00858035, 0.025577046, 0.06781209, 0.017962523, 0.014034963, 0.02361644, 0.01081181, 0.020533662, 0.018895105, 0.012154156, 0.02565704, 0.02045307, 0.04050522, 0.014328017, 0.00930694, 0.021006048, 0.00835849, 0.015834363, 0.01269667, 0.018803691, 0.01903301, 0.01709015, 0.031633217, 0.010680883, 0.010986858, 0.034614533, 0.056780305, 0.036052458, 0.048809983]\n",
            "2021-11-29 20:11:59,317 : INFO : PROGRESS: pass 10, at document #600/1740\n",
            "2021-11-29 20:11:59,478 : INFO : optimized alpha [0.019563956, 0.008568141, 0.025609642, 0.064670965, 0.018336277, 0.014128169, 0.024290523, 0.010846, 0.020547962, 0.01917829, 0.012161927, 0.025178388, 0.020735797, 0.041186545, 0.014321428, 0.009328891, 0.021096379, 0.008339463, 0.016051766, 0.012666044, 0.01911343, 0.01953864, 0.017270576, 0.031849016, 0.010715212, 0.010992326, 0.035240036, 0.058670085, 0.036835406, 0.050567262]\n",
            "2021-11-29 20:11:59,479 : INFO : PROGRESS: pass 10, at document #800/1740\n",
            "2021-11-29 20:11:59,618 : INFO : optimized alpha [0.019923469, 0.008556237, 0.025646964, 0.06164193, 0.018523019, 0.0142568145, 0.024676997, 0.010880806, 0.02075839, 0.019824356, 0.012155684, 0.024820311, 0.02126025, 0.0422588, 0.014332317, 0.009435507, 0.02151504, 0.00829224, 0.016423117, 0.012696737, 0.019294223, 0.019979928, 0.017531818, 0.032273937, 0.010775918, 0.010973739, 0.035992656, 0.059338793, 0.037420146, 0.051488303]\n",
            "2021-11-29 20:11:59,619 : INFO : PROGRESS: pass 10, at document #1000/1740\n",
            "2021-11-29 20:11:59,795 : INFO : optimized alpha [0.020171035, 0.0085756285, 0.025733648, 0.058779866, 0.01892881, 0.014507595, 0.02485558, 0.010867827, 0.020758467, 0.020295488, 0.012152562, 0.024579074, 0.02156955, 0.043306395, 0.014331336, 0.009490213, 0.021914948, 0.0082951365, 0.016743569, 0.012772892, 0.019506766, 0.020478519, 0.017716944, 0.033050142, 0.010776591, 0.011033508, 0.03647616, 0.060737632, 0.037830118, 0.052894577]\n",
            "2021-11-29 20:11:59,797 : INFO : PROGRESS: pass 10, at document #1200/1740\n",
            "2021-11-29 20:11:59,945 : INFO : optimized alpha [0.020396456, 0.008526679, 0.02551084, 0.05587885, 0.019297175, 0.01457181, 0.02510023, 0.010956172, 0.02078122, 0.020727413, 0.0121645415, 0.024170926, 0.021907357, 0.044476718, 0.014280916, 0.009523883, 0.022159215, 0.008269302, 0.016872553, 0.012775438, 0.019655408, 0.021097574, 0.017755235, 0.03356944, 0.010839247, 0.011043027, 0.03685598, 0.062694825, 0.038425833, 0.054354154]\n",
            "2021-11-29 20:11:59,947 : INFO : PROGRESS: pass 10, at document #1400/1740\n",
            "2021-11-29 20:12:00,090 : INFO : optimized alpha [0.02052213, 0.008526491, 0.025888283, 0.057268064, 0.019479675, 0.014583275, 0.025070023, 0.010992194, 0.020968724, 0.020888705, 0.01210464, 0.024334831, 0.022114199, 0.044853035, 0.0143472245, 0.009513584, 0.022372665, 0.008272132, 0.016901374, 0.012761689, 0.019886281, 0.021430647, 0.017707678, 0.034055285, 0.0108253965, 0.011077254, 0.036965195, 0.06273722, 0.038469214, 0.054367997]\n",
            "2021-11-29 20:12:00,092 : INFO : PROGRESS: pass 10, at document #1600/1740\n",
            "2021-11-29 20:12:00,231 : INFO : optimized alpha [0.020208558, 0.0084677115, 0.0268152, 0.067351684, 0.019204991, 0.014354019, 0.024392951, 0.0108745685, 0.021206558, 0.020443084, 0.011946678, 0.025689509, 0.02187046, 0.04322665, 0.014158079, 0.009415999, 0.021859443, 0.008198351, 0.016593475, 0.012821724, 0.019505465, 0.021135205, 0.017390145, 0.03406437, 0.010711462, 0.011098352, 0.036243368, 0.05883233, 0.03777254, 0.051332112]\n",
            "2021-11-29 20:12:00,234 : INFO : PROGRESS: pass 10, at document #1740/1740\n",
            "2021-11-29 20:12:00,329 : INFO : optimized alpha [0.019831788, 0.008403854, 0.027706238, 0.078634836, 0.019090043, 0.014130593, 0.023748115, 0.010746314, 0.021643296, 0.020024605, 0.011791895, 0.027256316, 0.02157343, 0.041646585, 0.013940708, 0.009319838, 0.021341503, 0.0081254495, 0.016294928, 0.012918281, 0.019188588, 0.02089829, 0.017119875, 0.033746254, 0.010604606, 0.011128917, 0.035695795, 0.05575219, 0.037094798, 0.048669197]\n",
            "2021-11-29 20:12:00,332 : INFO : topic #17 (0.008): 0.080*\"Em7\" + 0.073*\"A7\" + 0.067*\"Dm7_G7\" + 0.060*\"C7\" + 0.058*\"FM7\" + 0.044*\"CM7\" + 0.037*\"E7\" + 0.035*\"G7\" + 0.033*\"G#7\" + 0.033*\"Am7\"\n",
            "2021-11-29 20:12:00,337 : INFO : topic #1 (0.008): 0.238*\"Bm7b5\" + 0.127*\"Dm7\" + 0.096*\"C\" + 0.091*\"D7\" + 0.060*\"A7\" + 0.051*\"G7\" + 0.043*\"Am7\" + 0.033*\"Cdim\" + 0.026*\"Dm7_G7\" + 0.026*\"B\"\n",
            "2021-11-29 20:12:00,345 : INFO : topic #29 (0.049): 0.286*\"C6\" + 0.162*\"Dm7_G7\" + 0.087*\"Em7\" + 0.085*\"A7\" + 0.082*\"Dm7\" + 0.027*\"D7\" + 0.027*\"Ebdim7\" + 0.023*\"Am7\" + 0.021*\"G7\" + 0.019*\"FM7\"\n",
            "2021-11-29 20:12:00,348 : INFO : topic #27 (0.056): 0.225*\"CM7\" + 0.217*\"Dm7_G7\" + 0.135*\"A7\" + 0.072*\"Em7\" + 0.032*\"Dm7\" + 0.029*\"D7\" + 0.028*\"FM7\" + 0.027*\"C6\" + 0.025*\"Em7b5\" + 0.024*\"Gm7_C7\"\n",
            "2021-11-29 20:12:00,354 : INFO : topic #3 (0.079): 0.359*\"C\" + 0.212*\"G7\" + 0.100*\"D7\" + 0.094*\"F\" + 0.057*\"A7\" + 0.039*\"C7\" + 0.027*\"E7\" + 0.023*\"Fm\" + 0.018*\"Dm\" + 0.012*\"Am\"\n",
            "2021-11-29 20:12:00,358 : INFO : topic diff=0.336027, rho=0.225303\n",
            "2021-11-29 20:12:00,365 : INFO : PROGRESS: pass 11, at document #200/1740\n",
            "2021-11-29 20:12:00,517 : INFO : optimized alpha [0.02017035, 0.008396493, 0.027644776, 0.07391938, 0.019402996, 0.014180421, 0.024024652, 0.010747023, 0.02171999, 0.020461645, 0.011820624, 0.026934404, 0.022002032, 0.042936638, 0.014010232, 0.009364014, 0.021585537, 0.008084565, 0.016425615, 0.01294942, 0.01950827, 0.021252044, 0.017303936, 0.034022555, 0.010654656, 0.011137326, 0.036274392, 0.056884028, 0.037639085, 0.049470816]\n",
            "2021-11-29 20:12:00,519 : INFO : PROGRESS: pass 11, at document #400/1740\n",
            "2021-11-29 20:12:00,669 : INFO : optimized alpha [0.0206631, 0.008369435, 0.027806528, 0.07010561, 0.019823631, 0.014357604, 0.024353486, 0.010759664, 0.021895196, 0.020851167, 0.011834883, 0.026617263, 0.022528024, 0.04379288, 0.014107397, 0.009376335, 0.022025798, 0.008034412, 0.016852748, 0.01302112, 0.019735921, 0.021765517, 0.017505815, 0.03449441, 0.010739029, 0.011194732, 0.03689305, 0.058658853, 0.038168754, 0.050671604]\n",
            "2021-11-29 20:12:00,671 : INFO : PROGRESS: pass 11, at document #600/1740\n",
            "2021-11-29 20:12:00,847 : INFO : optimized alpha [0.020803064, 0.008370352, 0.027794732, 0.067051396, 0.020219533, 0.014434403, 0.025136566, 0.010808008, 0.02191306, 0.021221535, 0.011862161, 0.026091723, 0.022822035, 0.04451598, 0.014124475, 0.009399121, 0.022105552, 0.008020713, 0.017085955, 0.012989652, 0.020064848, 0.022329124, 0.017665634, 0.034840994, 0.010798495, 0.011200454, 0.037533093, 0.0603426, 0.038978774, 0.052574404]\n",
            "2021-11-29 20:12:00,850 : INFO : PROGRESS: pass 11, at document #800/1740\n",
            "2021-11-29 20:12:01,012 : INFO : optimized alpha [0.02115944, 0.008362174, 0.027788805, 0.0638293, 0.02048053, 0.014611121, 0.025548194, 0.010844392, 0.022135204, 0.021890076, 0.011862804, 0.02577793, 0.023377217, 0.04560576, 0.014141846, 0.009505041, 0.022539446, 0.00797139, 0.017478885, 0.013019616, 0.020238757, 0.022769224, 0.0179256, 0.035217885, 0.010871748, 0.011182064, 0.03826175, 0.061096486, 0.03962782, 0.053358585]\n",
            "2021-11-29 20:12:01,014 : INFO : PROGRESS: pass 11, at document #1000/1740\n",
            "2021-11-29 20:12:01,155 : INFO : optimized alpha [0.021422686, 0.008383771, 0.027838409, 0.060966384, 0.020910641, 0.014861212, 0.0257247, 0.010834638, 0.022139495, 0.02239326, 0.011866204, 0.025463272, 0.023673175, 0.04661898, 0.014147768, 0.009560025, 0.02298825, 0.007969218, 0.017800054, 0.013106534, 0.020468485, 0.023374662, 0.018110039, 0.035976034, 0.010885984, 0.01124198, 0.038712513, 0.06262465, 0.040095787, 0.05483678]\n",
            "2021-11-29 20:12:01,157 : INFO : PROGRESS: pass 11, at document #1200/1740\n",
            "2021-11-29 20:12:01,307 : INFO : optimized alpha [0.021687692, 0.008340244, 0.027560655, 0.05797862, 0.021323461, 0.014920399, 0.026023788, 0.010935601, 0.022143094, 0.022941306, 0.0118839545, 0.025041701, 0.024025613, 0.047759164, 0.014153478, 0.009604826, 0.023225548, 0.00794903, 0.017961726, 0.013108331, 0.020654628, 0.024023563, 0.018148003, 0.036489956, 0.010936698, 0.011251718, 0.03909778, 0.06472762, 0.040663783, 0.056389097]\n",
            "2021-11-29 20:12:01,309 : INFO : PROGRESS: pass 11, at document #1400/1740\n",
            "2021-11-29 20:12:01,457 : INFO : optimized alpha [0.021774715, 0.008343183, 0.02791699, 0.059564784, 0.021462472, 0.014931156, 0.026037157, 0.010985704, 0.02231755, 0.023155788, 0.01183309, 0.025140952, 0.02420844, 0.048052166, 0.014223211, 0.009595702, 0.023430655, 0.007955471, 0.01797836, 0.013079013, 0.020833708, 0.024362303, 0.01807888, 0.037049938, 0.01092436, 0.011285927, 0.039199766, 0.0646644, 0.04066069, 0.056293983]\n",
            "2021-11-29 20:12:01,459 : INFO : PROGRESS: pass 11, at document #1600/1740\n",
            "2021-11-29 20:12:01,570 : INFO : optimized alpha [0.021431137, 0.0082900375, 0.02888481, 0.06980967, 0.021131901, 0.014701104, 0.0253381, 0.010873474, 0.02256819, 0.022629548, 0.011688584, 0.026546644, 0.023934793, 0.04624003, 0.014046127, 0.009500668, 0.02289114, 0.007890145, 0.017644882, 0.013138234, 0.020432381, 0.023945667, 0.017762015, 0.03701926, 0.010813419, 0.011307058, 0.03857035, 0.060624443, 0.039993968, 0.053177647]\n",
            "2021-11-29 20:12:01,572 : INFO : PROGRESS: pass 11, at document #1740/1740\n",
            "2021-11-29 20:12:01,674 : INFO : optimized alpha [0.021022657, 0.008231927, 0.029826066, 0.0813453, 0.020975238, 0.014476667, 0.02467183, 0.010750674, 0.023001174, 0.022135526, 0.011546687, 0.028154701, 0.02357788, 0.044488233, 0.013841237, 0.009406914, 0.022347242, 0.007825479, 0.017321613, 0.013296993, 0.020096729, 0.023701368, 0.017491696, 0.036665622, 0.01070929, 0.011337477, 0.03793681, 0.057380546, 0.03937411, 0.05044092]\n",
            "2021-11-29 20:12:01,678 : INFO : topic #17 (0.008): 0.081*\"Em7\" + 0.072*\"A7\" + 0.064*\"Dm7_G7\" + 0.059*\"C7\" + 0.056*\"FM7\" + 0.041*\"CM7\" + 0.036*\"E7\" + 0.034*\"G#7\" + 0.034*\"G7\" + 0.031*\"Am7\"\n",
            "2021-11-29 20:12:01,681 : INFO : topic #1 (0.008): 0.262*\"Bm7b5\" + 0.131*\"Dm7\" + 0.089*\"D7\" + 0.085*\"C\" + 0.058*\"A7\" + 0.048*\"G7\" + 0.042*\"Am7\" + 0.034*\"Cdim\" + 0.028*\"B\" + 0.025*\"Dm7_G7\"\n",
            "2021-11-29 20:12:01,683 : INFO : topic #29 (0.050): 0.295*\"C6\" + 0.163*\"Dm7_G7\" + 0.086*\"Em7\" + 0.084*\"A7\" + 0.081*\"Dm7\" + 0.027*\"D7\" + 0.027*\"Ebdim7\" + 0.023*\"Am7\" + 0.021*\"G7\" + 0.019*\"F6\"\n",
            "2021-11-29 20:12:01,685 : INFO : topic #27 (0.057): 0.225*\"CM7\" + 0.221*\"Dm7_G7\" + 0.138*\"A7\" + 0.073*\"Em7\" + 0.031*\"Dm7\" + 0.029*\"D7\" + 0.027*\"FM7\" + 0.026*\"C6\" + 0.026*\"Em7b5\" + 0.024*\"Gm7_C7\"\n",
            "2021-11-29 20:12:01,688 : INFO : topic #3 (0.081): 0.362*\"C\" + 0.213*\"G7\" + 0.100*\"D7\" + 0.094*\"F\" + 0.057*\"A7\" + 0.039*\"C7\" + 0.026*\"E7\" + 0.023*\"Fm\" + 0.018*\"Dm\" + 0.011*\"Am\"\n",
            "2021-11-29 20:12:01,690 : INFO : topic diff=0.336132, rho=0.219793\n",
            "2021-11-29 20:12:01,693 : INFO : PROGRESS: pass 12, at document #200/1740\n",
            "2021-11-29 20:12:01,870 : INFO : optimized alpha [0.021381404, 0.008227636, 0.029750505, 0.07642878, 0.02132793, 0.014542018, 0.02480497, 0.010765328, 0.023110058, 0.022582639, 0.011592028, 0.027852276, 0.024052657, 0.04591507, 0.013928952, 0.009451454, 0.02263431, 0.007790611, 0.017446205, 0.013326918, 0.020414408, 0.024067502, 0.017675351, 0.037010185, 0.010759857, 0.011346406, 0.038530976, 0.0586451, 0.04006572, 0.05122899]\n",
            "2021-11-29 20:12:01,873 : INFO : PROGRESS: pass 12, at document #400/1740\n",
            "2021-11-29 20:12:02,034 : INFO : optimized alpha [0.021899752, 0.008213331, 0.029911533, 0.07270121, 0.021702755, 0.014734534, 0.025216712, 0.010768, 0.023270922, 0.023121575, 0.011610572, 0.027490402, 0.024685625, 0.04673249, 0.014013197, 0.009474698, 0.023074562, 0.007746961, 0.0179159, 0.013398792, 0.020638097, 0.02466124, 0.01785735, 0.037518147, 0.01086725, 0.011403822, 0.03912015, 0.060448844, 0.0407004, 0.05236225]\n",
            "2021-11-29 20:12:02,037 : INFO : PROGRESS: pass 12, at document #600/1740\n",
            "2021-11-29 20:12:02,183 : INFO : optimized alpha [0.0220748, 0.008216901, 0.029888298, 0.06971706, 0.02211966, 0.014826714, 0.026005398, 0.010817612, 0.023267956, 0.0236132, 0.011654619, 0.026858795, 0.02504394, 0.04744981, 0.014050344, 0.009498088, 0.023142256, 0.007754378, 0.018146066, 0.013365832, 0.020965366, 0.025229566, 0.018016769, 0.037853144, 0.010926892, 0.01140974, 0.039859608, 0.062328037, 0.041487582, 0.054351624]\n",
            "2021-11-29 20:12:02,186 : INFO : PROGRESS: pass 12, at document #800/1740\n",
            "2021-11-29 20:12:02,324 : INFO : optimized alpha [0.022475574, 0.008211745, 0.029905498, 0.06677956, 0.022485798, 0.014987301, 0.026413746, 0.010855575, 0.023477694, 0.024329137, 0.011660405, 0.026447007, 0.025601206, 0.048560295, 0.014072322, 0.00960358, 0.023608798, 0.0077279466, 0.01854251, 0.013409268, 0.021133091, 0.025713036, 0.018296203, 0.038173404, 0.011023941, 0.011403994, 0.040605254, 0.063013725, 0.042339973, 0.055184077]\n",
            "2021-11-29 20:12:02,326 : INFO : PROGRESS: pass 12, at document #1000/1740\n",
            "2021-11-29 20:12:02,457 : INFO : optimized alpha [0.02275513, 0.008235004, 0.029916193, 0.06366582, 0.022963354, 0.015237194, 0.026612474, 0.010848275, 0.023463063, 0.02488959, 0.011681447, 0.026188571, 0.025990257, 0.04959386, 0.014082992, 0.009658761, 0.024080688, 0.0077372952, 0.018863786, 0.013498138, 0.021358099, 0.026476474, 0.018480329, 0.038946133, 0.011050784, 0.0114638, 0.041064028, 0.064728364, 0.04271305, 0.056685727]\n",
            "2021-11-29 20:12:02,459 : INFO : PROGRESS: pass 12, at document #1200/1740\n",
            "2021-11-29 20:12:02,609 : INFO : optimized alpha [0.022987137, 0.008195765, 0.029613994, 0.060532954, 0.023372917, 0.015333329, 0.026935479, 0.010949141, 0.023472477, 0.025475789, 0.011728395, 0.025788726, 0.026383644, 0.05086741, 0.014093602, 0.009703879, 0.024337403, 0.007729401, 0.019018803, 0.013498275, 0.021515654, 0.027231716, 0.018518103, 0.039417498, 0.011125819, 0.011473443, 0.041498076, 0.0666727, 0.043194063, 0.05824196]\n",
            "2021-11-29 20:12:02,616 : INFO : PROGRESS: pass 12, at document #1400/1740\n",
            "2021-11-29 20:12:02,762 : INFO : optimized alpha [0.023058826, 0.008201131, 0.029949203, 0.062101137, 0.023613794, 0.01532602, 0.027007759, 0.010988209, 0.023684073, 0.025691755, 0.01168394, 0.02596618, 0.026593314, 0.051082846, 0.014166029, 0.009706329, 0.02456008, 0.0077467277, 0.019065626, 0.01346742, 0.021689724, 0.027597826, 0.018469788, 0.039936386, 0.01112619, 0.011507861, 0.04159075, 0.066653505, 0.043320395, 0.05818804]\n",
            "2021-11-29 20:12:02,765 : INFO : PROGRESS: pass 12, at document #1600/1740\n",
            "2021-11-29 20:12:02,882 : INFO : optimized alpha [0.022684315, 0.008152587, 0.030926876, 0.0726755, 0.023218714, 0.0150938975, 0.026287476, 0.010880909, 0.02397323, 0.025097756, 0.01154901, 0.027437432, 0.02628116, 0.049154505, 0.013998515, 0.009613204, 0.023964325, 0.0076874048, 0.018706478, 0.013569605, 0.021272229, 0.027092727, 0.018172808, 0.039914843, 0.011016004, 0.0115537075, 0.040968973, 0.062543385, 0.04255915, 0.05499902]\n",
            "2021-11-29 20:12:02,884 : INFO : PROGRESS: pass 12, at document #1740/1740\n",
            "2021-11-29 20:12:02,975 : INFO : optimized alpha [0.022243448, 0.008099207, 0.031872835, 0.084439054, 0.02304842, 0.014867307, 0.025600687, 0.010763137, 0.024437224, 0.02451257, 0.011416333, 0.029106732, 0.02589264, 0.04724103, 0.01380361, 0.009521272, 0.023393461, 0.0076404484, 0.018358512, 0.013770756, 0.020921798, 0.026752952, 0.017901277, 0.039644808, 0.010895289, 0.0116016455, 0.040315807, 0.059433524, 0.041918863, 0.0521942]\n",
            "2021-11-29 20:12:02,979 : INFO : topic #17 (0.008): 0.082*\"Em7\" + 0.071*\"A7\" + 0.061*\"Dm7_G7\" + 0.058*\"C7\" + 0.054*\"FM7\" + 0.037*\"CM7\" + 0.036*\"E7\" + 0.034*\"G#7\" + 0.032*\"G7\" + 0.032*\"Gm7b5\"\n",
            "2021-11-29 20:12:02,981 : INFO : topic #1 (0.008): 0.284*\"Bm7b5\" + 0.134*\"Dm7\" + 0.086*\"D7\" + 0.075*\"C\" + 0.056*\"A7\" + 0.045*\"G7\" + 0.041*\"Am7\" + 0.035*\"Cdim\" + 0.030*\"B\" + 0.023*\"Dm7_G7\"\n",
            "2021-11-29 20:12:02,983 : INFO : topic #29 (0.052): 0.304*\"C6\" + 0.164*\"Dm7_G7\" + 0.086*\"Em7\" + 0.084*\"A7\" + 0.081*\"Dm7\" + 0.027*\"D7\" + 0.026*\"Ebdim7\" + 0.022*\"Am7\" + 0.022*\"G7\" + 0.020*\"F6\"\n",
            "2021-11-29 20:12:03,000 : INFO : topic #27 (0.059): 0.224*\"CM7\" + 0.224*\"Dm7_G7\" + 0.141*\"A7\" + 0.074*\"Em7\" + 0.031*\"Dm7\" + 0.028*\"D7\" + 0.027*\"Em7b5\" + 0.027*\"FM7\" + 0.026*\"C6\" + 0.024*\"Gm7_C7\"\n",
            "2021-11-29 20:12:03,003 : INFO : topic #3 (0.084): 0.366*\"C\" + 0.214*\"G7\" + 0.100*\"D7\" + 0.094*\"F\" + 0.057*\"A7\" + 0.039*\"C7\" + 0.025*\"E7\" + 0.023*\"Fm\" + 0.019*\"Dm\" + 0.010*\"Am\"\n",
            "2021-11-29 20:12:03,005 : INFO : topic diff=0.335536, rho=0.214669\n",
            "2021-11-29 20:12:03,008 : INFO : PROGRESS: pass 13, at document #200/1740\n",
            "2021-11-29 20:12:03,151 : INFO : optimized alpha [0.022575634, 0.008097319, 0.031753063, 0.079631776, 0.023442062, 0.014947662, 0.025812203, 0.010791146, 0.024554389, 0.025011105, 0.011464055, 0.028759249, 0.026361598, 0.048708513, 0.013908075, 0.0095660165, 0.023702398, 0.0076177134, 0.018495696, 0.013798432, 0.021261368, 0.027125053, 0.018084012, 0.03988909, 0.010945877, 0.011610188, 0.04088219, 0.06061175, 0.042489845, 0.052964747]\n",
            "2021-11-29 20:12:03,154 : INFO : PROGRESS: pass 13, at document #400/1740\n",
            "2021-11-29 20:12:03,301 : INFO : optimized alpha [0.02307131, 0.008085876, 0.031881567, 0.07564458, 0.023935169, 0.015139838, 0.026249383, 0.010807345, 0.024725862, 0.02555333, 0.011498316, 0.02835437, 0.027028397, 0.04967346, 0.013979182, 0.009589739, 0.024167275, 0.0075783497, 0.018972468, 0.013868803, 0.021504175, 0.027746933, 0.018303512, 0.040353157, 0.011053519, 0.011679409, 0.041524958, 0.062581584, 0.04309665, 0.05419855]\n",
            "2021-11-29 20:12:03,303 : INFO : PROGRESS: pass 13, at document #600/1740\n",
            "2021-11-29 20:12:03,451 : INFO : optimized alpha [0.023260893, 0.008091541, 0.031818114, 0.07241366, 0.024346026, 0.015295948, 0.027066967, 0.0108691, 0.024751848, 0.026017884, 0.011532541, 0.027801853, 0.027398217, 0.050478637, 0.014034749, 0.00961355, 0.024248714, 0.0075957216, 0.019218426, 0.0138326725, 0.021805933, 0.02830861, 0.018500375, 0.040672563, 0.011125059, 0.011684766, 0.042282637, 0.06438819, 0.044051487, 0.056247387]\n",
            "2021-11-29 20:12:03,454 : INFO : PROGRESS: pass 13, at document #800/1740\n",
            "2021-11-29 20:12:03,597 : INFO : optimized alpha [0.02365845, 0.008088721, 0.031797983, 0.06926063, 0.024729447, 0.015455487, 0.02746975, 0.0108961975, 0.024972925, 0.026865734, 0.01155412, 0.027373865, 0.028009068, 0.05149954, 0.014059857, 0.009718539, 0.024793284, 0.0075645125, 0.019636909, 0.013888711, 0.021991283, 0.028773654, 0.018758703, 0.04097936, 0.011221934, 0.011678352, 0.042997997, 0.0649068, 0.04498011, 0.057118196]\n",
            "2021-11-29 20:12:03,599 : INFO : PROGRESS: pass 13, at document #1000/1740\n",
            "2021-11-29 20:12:03,734 : INFO : optimized alpha [0.023956303, 0.0081048235, 0.031774867, 0.066136055, 0.025336519, 0.0157224, 0.027664874, 0.010890938, 0.024962243, 0.027486054, 0.0116146915, 0.02713086, 0.028320974, 0.05249876, 0.014089271, 0.009773946, 0.025237367, 0.007583783, 0.019978257, 0.013976383, 0.022257943, 0.02968594, 0.018942285, 0.041766725, 0.011272734, 0.011737858, 0.04346743, 0.06698268, 0.045456555, 0.05862022]\n",
            "2021-11-29 20:12:03,736 : INFO : PROGRESS: pass 13, at document #1200/1740\n",
            "2021-11-29 20:12:03,915 : INFO : optimized alpha [0.024205249, 0.008069332, 0.031425845, 0.06288869, 0.025899183, 0.01583431, 0.027953869, 0.011003263, 0.025001025, 0.0281726, 0.01170091, 0.026716435, 0.028666921, 0.05386385, 0.014118183, 0.009829586, 0.025540616, 0.00757841, 0.02012639, 0.0139740305, 0.022456266, 0.030573662, 0.018958228, 0.04219, 0.011359543, 0.0117470985, 0.043860584, 0.069074996, 0.04599159, 0.06017167]\n",
            "2021-11-29 20:12:03,917 : INFO : PROGRESS: pass 13, at document #1400/1740\n",
            "2021-11-29 20:12:04,068 : INFO : optimized alpha [0.024210708, 0.0080765495, 0.031706054, 0.06450788, 0.026138326, 0.015857892, 0.028019505, 0.011054974, 0.025248775, 0.028447662, 0.01166025, 0.026920488, 0.028908784, 0.05404841, 0.01420754, 0.009842847, 0.025697682, 0.0076051652, 0.020161476, 0.013954947, 0.022646977, 0.03099802, 0.018928975, 0.04266193, 0.011371359, 0.011793248, 0.043991998, 0.06875822, 0.046176154, 0.05987151]\n",
            "2021-11-29 20:12:04,070 : INFO : PROGRESS: pass 13, at document #1600/1740\n",
            "2021-11-29 20:12:04,185 : INFO : optimized alpha [0.02380976, 0.008031902, 0.032688603, 0.075267754, 0.025659489, 0.015619312, 0.027275288, 0.010950851, 0.025524657, 0.027680561, 0.0115312375, 0.028409736, 0.028529558, 0.05195315, 0.014046235, 0.009750909, 0.025099639, 0.007550274, 0.019797174, 0.014055794, 0.022208853, 0.030391263, 0.018629348, 0.042704802, 0.011260829, 0.011838632, 0.043288592, 0.064642504, 0.04535676, 0.056630217]\n",
            "2021-11-29 20:12:04,187 : INFO : PROGRESS: pass 13, at document #1740/1740\n",
            "2021-11-29 20:12:04,293 : INFO : optimized alpha [0.023340745, 0.007982488, 0.033633545, 0.08719325, 0.025426622, 0.015386128, 0.026564773, 0.010836205, 0.02598262, 0.02703636, 0.01140412, 0.030138431, 0.028158577, 0.049882308, 0.013857642, 0.009660008, 0.024497848, 0.0075071305, 0.019422652, 0.014277149, 0.021839205, 0.029938921, 0.018326743, 0.042412262, 0.011139603, 0.0119035235, 0.04262019, 0.06123999, 0.044612225, 0.053771578]\n",
            "2021-11-29 20:12:04,298 : INFO : topic #17 (0.008): 0.082*\"Em7\" + 0.070*\"A7\" + 0.058*\"Dm7_G7\" + 0.057*\"C7\" + 0.052*\"FM7\" + 0.036*\"G#7\" + 0.035*\"E7\" + 0.035*\"Gm7b5\" + 0.034*\"CM7\" + 0.031*\"G7\"\n",
            "2021-11-29 20:12:04,300 : INFO : topic #1 (0.008): 0.304*\"Bm7b5\" + 0.135*\"Dm7\" + 0.084*\"D7\" + 0.066*\"C\" + 0.054*\"A7\" + 0.041*\"G7\" + 0.040*\"Am7\" + 0.036*\"Cdim\" + 0.032*\"B\" + 0.023*\"E7\"\n",
            "2021-11-29 20:12:04,303 : INFO : topic #29 (0.054): 0.312*\"C6\" + 0.165*\"Dm7_G7\" + 0.085*\"Em7\" + 0.083*\"A7\" + 0.080*\"Dm7\" + 0.026*\"Ebdim7\" + 0.026*\"D7\" + 0.022*\"Am7\" + 0.022*\"G7\" + 0.020*\"F6\"\n",
            "2021-11-29 20:12:04,305 : INFO : topic #27 (0.061): 0.227*\"Dm7_G7\" + 0.224*\"CM7\" + 0.144*\"A7\" + 0.075*\"Em7\" + 0.031*\"Dm7\" + 0.028*\"D7\" + 0.027*\"Em7b5\" + 0.026*\"FM7\" + 0.025*\"C6\" + 0.024*\"Gm7_C7\"\n",
            "2021-11-29 20:12:04,307 : INFO : topic #3 (0.087): 0.369*\"C\" + 0.215*\"G7\" + 0.100*\"D7\" + 0.094*\"F\" + 0.057*\"A7\" + 0.038*\"C7\" + 0.025*\"E7\" + 0.023*\"Fm\" + 0.019*\"Dm\" + 0.009*\"Am\"\n",
            "2021-11-29 20:12:04,308 : INFO : topic diff=0.332710, rho=0.209888\n",
            "2021-11-29 20:12:04,313 : INFO : PROGRESS: pass 14, at document #200/1740\n",
            "2021-11-29 20:12:04,470 : INFO : optimized alpha [0.023669273, 0.007982635, 0.033477712, 0.082076736, 0.025863368, 0.015480664, 0.026769087, 0.010853755, 0.026106684, 0.02761936, 0.011453178, 0.02980734, 0.028708765, 0.05144833, 0.013963064, 0.00970487, 0.024880417, 0.0074948804, 0.01957253, 0.01431695, 0.022174522, 0.03034085, 0.018508902, 0.042599175, 0.011189921, 0.01192373, 0.04319986, 0.06260408, 0.045190673, 0.054531246]\n",
            "2021-11-29 20:12:04,472 : INFO : PROGRESS: pass 14, at document #400/1740\n",
            "2021-11-29 20:12:04,626 : INFO : optimized alpha [0.02421325, 0.007973572, 0.03358013, 0.07826938, 0.026406664, 0.015656069, 0.02722955, 0.010871225, 0.026287457, 0.02828341, 0.011500878, 0.029353255, 0.029469268, 0.05251106, 0.01406496, 0.009728871, 0.025370061, 0.007466561, 0.020075552, 0.014385383, 0.022413582, 0.03099464, 0.018727824, 0.043017447, 0.011297389, 0.011992496, 0.04381278, 0.06447791, 0.04575997, 0.055793222]\n",
            "2021-11-29 20:12:04,628 : INFO : PROGRESS: pass 14, at document #600/1740\n",
            "2021-11-29 20:12:04,791 : INFO : optimized alpha [0.0243937, 0.007989232, 0.033518016, 0.075112596, 0.026804915, 0.015811, 0.028054083, 0.010933536, 0.026315827, 0.028798968, 0.01154853, 0.028748274, 0.029880203, 0.053482708, 0.0141220605, 0.009752926, 0.02546467, 0.007485083, 0.020337993, 0.014360272, 0.022759084, 0.031568576, 0.018943345, 0.04328258, 0.01136873, 0.011996908, 0.044590086, 0.06633274, 0.046642162, 0.057856787]\n",
            "2021-11-29 20:12:04,793 : INFO : PROGRESS: pass 14, at document #800/1740\n",
            "2021-11-29 20:12:04,923 : INFO : optimized alpha [0.024788525, 0.007996577, 0.03356737, 0.071816795, 0.02717367, 0.01598647, 0.028495114, 0.010973004, 0.026572851, 0.029638728, 0.0115958, 0.028398693, 0.030486824, 0.05463749, 0.014164008, 0.009857646, 0.02596756, 0.007456771, 0.02077994, 0.014399161, 0.022961156, 0.03203522, 0.01920118, 0.043627046, 0.011465389, 0.011989596, 0.04527772, 0.06719591, 0.047599778, 0.058722902]\n",
            "2021-11-29 20:12:04,925 : INFO : PROGRESS: pass 14, at document #1000/1740\n",
            "2021-11-29 20:12:05,065 : INFO : optimized alpha [0.025053905, 0.00803035, 0.033510156, 0.06857353, 0.027810797, 0.016236713, 0.02871376, 0.010969034, 0.026562989, 0.030384433, 0.011681141, 0.028138775, 0.030834606, 0.055529613, 0.014195117, 0.009923073, 0.026466247, 0.0075001586, 0.021163285, 0.01448496, 0.023272699, 0.03299184, 0.019383393, 0.044428103, 0.01152779, 0.012048373, 0.045710243, 0.06898715, 0.048137233, 0.060152665]\n",
            "2021-11-29 20:12:05,067 : INFO : PROGRESS: pass 14, at document #1200/1740\n",
            "2021-11-29 20:12:05,211 : INFO : optimized alpha [0.0253481, 0.007997602, 0.03311799, 0.065215275, 0.02839985, 0.0163475, 0.029059462, 0.011081148, 0.026632233, 0.031112785, 0.011755817, 0.027676633, 0.031187443, 0.056990214, 0.014226212, 0.009978771, 0.026789954, 0.0074964925, 0.021302793, 0.014479659, 0.023440106, 0.033986483, 0.019398153, 0.045031838, 0.011614247, 0.012056912, 0.046157982, 0.07116223, 0.048734877, 0.061565682]\n",
            "2021-11-29 20:12:05,213 : INFO : PROGRESS: pass 14, at document #1400/1740\n",
            "2021-11-29 20:12:05,359 : INFO : optimized alpha [0.025417091, 0.00800616, 0.0334453, 0.06674599, 0.028548462, 0.016402608, 0.029110834, 0.011133467, 0.026891617, 0.031349797, 0.011717558, 0.027874941, 0.03145948, 0.05709721, 0.014331314, 0.009982014, 0.026907466, 0.007516097, 0.021324554, 0.014457207, 0.02362453, 0.034440033, 0.019347087, 0.04549569, 0.011626064, 0.012114925, 0.046287585, 0.07087121, 0.049003407, 0.061324414]\n",
            "2021-11-29 20:12:05,361 : INFO : PROGRESS: pass 14, at document #1600/1740\n",
            "2021-11-29 20:12:05,482 : INFO : optimized alpha [0.02498732, 0.007964385, 0.03443002, 0.07760417, 0.02801517, 0.016157145, 0.02833837, 0.011031982, 0.027151467, 0.030454129, 0.011592264, 0.02937181, 0.030999599, 0.054884467, 0.014173743, 0.009891082, 0.02627619, 0.0074645397, 0.020931898, 0.014571702, 0.023164876, 0.03369169, 0.019045942, 0.045602243, 0.011514907, 0.012171892, 0.04555413, 0.06666524, 0.04818382, 0.058054592]\n",
            "2021-11-29 20:12:05,483 : INFO : PROGRESS: pass 14, at document #1740/1740\n",
            "2021-11-29 20:12:05,590 : INFO : optimized alpha [0.024488468, 0.0079179695, 0.03557033, 0.0896891, 0.027759356, 0.015917242, 0.027644385, 0.010920112, 0.027640497, 0.029697359, 0.011468748, 0.031065837, 0.030551687, 0.05264599, 0.013989107, 0.009801151, 0.025681918, 0.0074354, 0.020529367, 0.01483717, 0.022741713, 0.03311826, 0.018741533, 0.045352157, 0.0114099765, 0.012236129, 0.044810466, 0.06329264, 0.0473926, 0.05516652]\n",
            "2021-11-29 20:12:05,593 : INFO : topic #17 (0.007): 0.082*\"Em7\" + 0.068*\"A7\" + 0.056*\"C7\" + 0.054*\"Dm7_G7\" + 0.050*\"FM7\" + 0.037*\"G#7\" + 0.037*\"Gm7b5\" + 0.035*\"D6\" + 0.035*\"E7\" + 0.030*\"Am6\"\n",
            "2021-11-29 20:12:05,597 : INFO : topic #1 (0.008): 0.321*\"Bm7b5\" + 0.137*\"Dm7\" + 0.082*\"D7\" + 0.058*\"C\" + 0.052*\"A7\" + 0.040*\"Am7\" + 0.038*\"G7\" + 0.037*\"Cdim\" + 0.033*\"B\" + 0.028*\"E7(+b5)\"\n",
            "2021-11-29 20:12:05,602 : INFO : topic #29 (0.055): 0.320*\"C6\" + 0.166*\"Dm7_G7\" + 0.084*\"Em7\" + 0.082*\"A7\" + 0.080*\"Dm7\" + 0.026*\"Ebdim7\" + 0.026*\"D7\" + 0.022*\"G7\" + 0.021*\"Am7\" + 0.021*\"F6\"\n",
            "2021-11-29 20:12:05,616 : INFO : topic #27 (0.063): 0.230*\"Dm7_G7\" + 0.223*\"CM7\" + 0.146*\"A7\" + 0.076*\"Em7\" + 0.031*\"Dm7\" + 0.028*\"Em7b5\" + 0.028*\"D7\" + 0.025*\"FM7\" + 0.025*\"C6\" + 0.024*\"Gm7_C7\"\n",
            "2021-11-29 20:12:05,620 : INFO : topic #3 (0.090): 0.372*\"C\" + 0.216*\"G7\" + 0.099*\"D7\" + 0.094*\"F\" + 0.057*\"A7\" + 0.038*\"C7\" + 0.024*\"E7\" + 0.023*\"Fm\" + 0.019*\"Dm\" + 0.009*\"F#dim\"\n",
            "2021-11-29 20:12:05,622 : INFO : topic diff=0.328697, rho=0.205412\n",
            "2021-11-29 20:12:05,626 : INFO : PROGRESS: pass 15, at document #200/1740\n",
            "2021-11-29 20:12:05,767 : INFO : optimized alpha [0.024812458, 0.007919591, 0.035371557, 0.08476352, 0.028156897, 0.01602599, 0.027900511, 0.010949739, 0.027797546, 0.030383935, 0.011518564, 0.030722868, 0.031091869, 0.054254834, 0.014137404, 0.009846118, 0.026035443, 0.007417358, 0.020672265, 0.014859174, 0.023098677, 0.033550996, 0.018923052, 0.04547136, 0.011471349, 0.012242855, 0.045452252, 0.064511046, 0.048079483, 0.05585714]\n",
            "2021-11-29 20:12:05,769 : INFO : PROGRESS: pass 15, at document #400/1740\n",
            "2021-11-29 20:12:05,943 : INFO : optimized alpha [0.025332361, 0.007912234, 0.035475772, 0.080883764, 0.028666599, 0.016217465, 0.028420096, 0.010968045, 0.02806909, 0.031050012, 0.0115786875, 0.030318169, 0.031920716, 0.05534501, 0.014254365, 0.0098803155, 0.026523462, 0.0073913173, 0.021223452, 0.014925272, 0.023356639, 0.03431178, 0.019141132, 0.045928016, 0.011578597, 0.012311017, 0.04607816, 0.0662502, 0.048599087, 0.057088204]\n",
            "2021-11-29 20:12:05,950 : INFO : PROGRESS: pass 15, at document #600/1740\n",
            "2021-11-29 20:12:06,104 : INFO : optimized alpha [0.02550339, 0.007928922, 0.035373826, 0.077530995, 0.029048504, 0.01637153, 0.029307147, 0.011042057, 0.028207397, 0.031585418, 0.01162701, 0.029757183, 0.03230923, 0.056383867, 0.014341085, 0.009904513, 0.026606336, 0.007410665, 0.021481633, 0.014896669, 0.023699827, 0.034893766, 0.01935613, 0.046079878, 0.011672833, 0.012314432, 0.04687693, 0.06815427, 0.049498934, 0.05948551]\n",
            "2021-11-29 20:12:06,106 : INFO : PROGRESS: pass 15, at document #800/1740\n",
            "2021-11-29 20:12:06,242 : INFO : optimized alpha [0.02584113, 0.007937529, 0.03539236, 0.07423793, 0.02940098, 0.016545884, 0.029731318, 0.011082031, 0.028446112, 0.032438785, 0.011698764, 0.02935724, 0.032972295, 0.0576197, 0.014398028, 0.010008936, 0.02712245, 0.00739218, 0.021969968, 0.014932816, 0.023919849, 0.03535615, 0.019613225, 0.046368957, 0.011769127, 0.01230602, 0.04753189, 0.06919438, 0.05042484, 0.06040058]\n",
            "2021-11-29 20:12:06,245 : INFO : PROGRESS: pass 15, at document #1000/1740\n",
            "2021-11-29 20:12:06,381 : INFO : optimized alpha [0.026100606, 0.007963786, 0.035299737, 0.07096388, 0.030038046, 0.01679645, 0.029970966, 0.011090475, 0.02840404, 0.03335602, 0.011784749, 0.029055804, 0.03325806, 0.058465876, 0.014458796, 0.0100743165, 0.027648544, 0.0074280994, 0.022375256, 0.015016685, 0.02427647, 0.036387835, 0.019794635, 0.047273472, 0.011843022, 0.01236417, 0.048021223, 0.07095174, 0.051018193, 0.06182772]\n",
            "2021-11-29 20:12:06,383 : INFO : PROGRESS: pass 15, at document #1200/1740\n",
            "2021-11-29 20:12:06,515 : INFO : optimized alpha [0.026415678, 0.007933459, 0.034861397, 0.06757781, 0.030653069, 0.01692257, 0.030242328, 0.011213503, 0.02850203, 0.034190778, 0.011871812, 0.028579017, 0.0335831, 0.06002978, 0.014489985, 0.010130044, 0.02796701, 0.0074258954, 0.022505099, 0.014992836, 0.024461415, 0.03745876, 0.019829249, 0.04783128, 0.011929189, 0.012371727, 0.048479024, 0.07321056, 0.051620577, 0.06335362]\n",
            "2021-11-29 20:12:06,524 : INFO : PROGRESS: pass 15, at document #1400/1740\n",
            "2021-11-29 20:12:06,939 : INFO : optimized alpha [0.026364459, 0.007943181, 0.03516758, 0.06901151, 0.030799259, 0.016974062, 0.030310528, 0.011277693, 0.028769938, 0.034453027, 0.011859047, 0.028833222, 0.033855986, 0.060116377, 0.014609871, 0.010143713, 0.028072191, 0.0074537625, 0.022512479, 0.014966719, 0.024638396, 0.03786389, 0.019776797, 0.048386596, 0.0119400155, 0.012441641, 0.048606087, 0.07300541, 0.051775843, 0.06315122]\n",
            "2021-11-29 20:12:06,941 : INFO : PROGRESS: pass 15, at document #1600/1740\n",
            "2021-11-29 20:12:07,061 : INFO : optimized alpha [0.02591604, 0.007903957, 0.036185957, 0.080034964, 0.030188799, 0.016720895, 0.029504031, 0.011189032, 0.0290082, 0.03344797, 0.01173544, 0.030348776, 0.033318385, 0.057790563, 0.014452091, 0.010053273, 0.027380269, 0.0074124485, 0.022090212, 0.015094829, 0.024155663, 0.036965806, 0.019453589, 0.048470978, 0.011826984, 0.012510481, 0.047792297, 0.068707176, 0.051024303, 0.05981131]\n",
            "2021-11-29 20:12:07,063 : INFO : PROGRESS: pass 15, at document #1740/1740\n",
            "2021-11-29 20:12:07,161 : INFO : optimized alpha [0.02539741, 0.007860166, 0.03733253, 0.09226258, 0.029874355, 0.016473275, 0.028778156, 0.011078125, 0.02948686, 0.03256082, 0.011613439, 0.032153666, 0.0328249, 0.055382762, 0.014267088, 0.009963734, 0.026716795, 0.007385254, 0.021658171, 0.015338801, 0.023710398, 0.036263324, 0.019147374, 0.048199415, 0.011720122, 0.012573758, 0.04704303, 0.06534268, 0.050134808, 0.05685568]\n",
            "2021-11-29 20:12:07,164 : INFO : topic #17 (0.007): 0.081*\"Em7\" + 0.067*\"A7\" + 0.056*\"C7\" + 0.051*\"Dm7_G7\" + 0.048*\"FM7\" + 0.040*\"G#7\" + 0.039*\"D6\" + 0.039*\"Gm7b5\" + 0.034*\"E7\" + 0.032*\"Am6\"\n",
            "2021-11-29 20:12:07,170 : INFO : topic #1 (0.008): 0.336*\"Bm7b5\" + 0.137*\"Dm7\" + 0.079*\"D7\" + 0.051*\"C\" + 0.050*\"A7\" + 0.039*\"Am7\" + 0.037*\"Cdim\" + 0.036*\"G7\" + 0.036*\"E7(+b5)\" + 0.034*\"B\"\n",
            "2021-11-29 20:12:07,175 : INFO : topic #29 (0.057): 0.328*\"C6\" + 0.167*\"Dm7_G7\" + 0.083*\"Em7\" + 0.082*\"A7\" + 0.079*\"Dm7\" + 0.026*\"Ebdim7\" + 0.026*\"D7\" + 0.022*\"G7\" + 0.021*\"Am7\" + 0.021*\"F6\"\n",
            "2021-11-29 20:12:07,178 : INFO : topic #27 (0.065): 0.232*\"Dm7_G7\" + 0.223*\"CM7\" + 0.148*\"A7\" + 0.077*\"Em7\" + 0.031*\"Dm7\" + 0.029*\"Em7b5\" + 0.027*\"D7\" + 0.025*\"C6\" + 0.025*\"FM7\" + 0.024*\"Gm7_C7\"\n",
            "2021-11-29 20:12:07,183 : INFO : topic #3 (0.092): 0.375*\"C\" + 0.217*\"G7\" + 0.099*\"D7\" + 0.094*\"F\" + 0.057*\"A7\" + 0.038*\"C7\" + 0.023*\"E7\" + 0.023*\"Fm\" + 0.020*\"Dm\" + 0.009*\"F#dim\"\n",
            "2021-11-29 20:12:07,187 : INFO : topic diff=0.322700, rho=0.201211\n",
            "2021-11-29 20:12:07,190 : INFO : PROGRESS: pass 16, at document #200/1740\n",
            "2021-11-29 20:12:07,335 : INFO : optimized alpha [0.025717933, 0.007863038, 0.037094913, 0.087039605, 0.030342551, 0.016580185, 0.029054884, 0.011119223, 0.029676996, 0.03333394, 0.011663458, 0.03182534, 0.033318337, 0.05703936, 0.014415747, 0.010008656, 0.027093414, 0.0073688133, 0.021814195, 0.015373244, 0.02406538, 0.03668963, 0.01932819, 0.048249196, 0.011792555, 0.012591831, 0.047657166, 0.0667842, 0.05077478, 0.0575367]\n",
            "2021-11-29 20:12:07,337 : INFO : PROGRESS: pass 16, at document #400/1740\n",
            "2021-11-29 20:12:07,502 : INFO : optimized alpha [0.026237417, 0.007857168, 0.037207574, 0.08322423, 0.030902097, 0.016803866, 0.02954482, 0.011137736, 0.029958397, 0.034028728, 0.011735295, 0.03136721, 0.034183383, 0.058210418, 0.014532405, 0.010042845, 0.027580623, 0.007351898, 0.022371836, 0.015437217, 0.024342662, 0.037434187, 0.01954546, 0.048743308, 0.01191128, 0.012659235, 0.048299946, 0.06851792, 0.05119152, 0.058821995]\n",
            "2021-11-29 20:12:07,504 : INFO : PROGRESS: pass 16, at document #600/1740\n",
            "2021-11-29 20:12:07,645 : INFO : optimized alpha [0.026401449, 0.007874682, 0.03714196, 0.079696335, 0.0312944, 0.016973076, 0.030438486, 0.01122271, 0.030128602, 0.034615293, 0.01179094, 0.030785149, 0.034616966, 0.059223033, 0.014633915, 0.010067009, 0.027652705, 0.0073791766, 0.022669353, 0.015404932, 0.024682535, 0.038058065, 0.019740226, 0.048972778, 0.012028686, 0.012661088, 0.049070667, 0.07049347, 0.0521177, 0.06112524]\n",
            "2021-11-29 20:12:07,647 : INFO : PROGRESS: pass 16, at document #800/1740\n",
            "2021-11-29 20:12:07,783 : INFO : optimized alpha [0.02681351, 0.007884383, 0.03712886, 0.07633107, 0.031652234, 0.017163593, 0.030822802, 0.011273856, 0.030344877, 0.035511553, 0.011874675, 0.03036668, 0.03533917, 0.060608722, 0.014705456, 0.010171219, 0.028222835, 0.007362132, 0.023160974, 0.015438639, 0.024896694, 0.038549587, 0.01999689, 0.04919679, 0.01212469, 0.012663728, 0.049695734, 0.07168437, 0.05306881, 0.062163446]\n",
            "2021-11-29 20:12:07,785 : INFO : PROGRESS: pass 16, at document #1000/1740\n",
            "2021-11-29 20:12:07,936 : INFO : optimized alpha [0.027067296, 0.0079112, 0.03703842, 0.07306913, 0.03234738, 0.01741453, 0.031053439, 0.0112709515, 0.030356113, 0.03640781, 0.011960755, 0.030049136, 0.035627, 0.061532382, 0.014751399, 0.010236533, 0.028718783, 0.0073908987, 0.023565937, 0.01552077, 0.025226258, 0.039618745, 0.02017801, 0.05017123, 0.012210305, 0.012721018, 0.05015563, 0.073708974, 0.05367609, 0.063587636]\n",
            "2021-11-29 20:12:07,940 : INFO : PROGRESS: pass 16, at document #1200/1740\n",
            "2021-11-29 20:12:08,078 : INFO : optimized alpha [0.02745704, 0.007882888, 0.03655418, 0.06952435, 0.032953527, 0.017538678, 0.03144903, 0.01141607, 0.030453432, 0.037243698, 0.012047629, 0.02958481, 0.0359931, 0.063069336, 0.014812094, 0.010302292, 0.029031182, 0.007389725, 0.023685183, 0.015493503, 0.02540444, 0.04076417, 0.020191507, 0.050723456, 0.012295804, 0.01272711, 0.050577607, 0.075945385, 0.0541189, 0.06511361]\n",
            "2021-11-29 20:12:08,080 : INFO : PROGRESS: pass 16, at document #1400/1740\n",
            "2021-11-29 20:12:08,210 : INFO : optimized alpha [0.027392138, 0.007893594, 0.03687422, 0.071258, 0.03312717, 0.017604435, 0.031599935, 0.011480235, 0.03069916, 0.037459757, 0.012035315, 0.029767303, 0.036302656, 0.06312284, 0.014961239, 0.010315986, 0.029185016, 0.007417918, 0.023653911, 0.015479735, 0.025599739, 0.041114468, 0.020138944, 0.051273957, 0.012305192, 0.012808937, 0.050713316, 0.075541094, 0.054442655, 0.06487899]\n",
            "2021-11-29 20:12:08,212 : INFO : PROGRESS: pass 16, at document #1600/1740\n",
            "2021-11-29 20:12:08,362 : INFO : optimized alpha [0.026922144, 0.007848719, 0.03792801, 0.082502365, 0.0324336, 0.017341942, 0.030755077, 0.011391659, 0.030942373, 0.03631323, 0.011912599, 0.031325385, 0.03568256, 0.0608702, 0.014801552, 0.01022582, 0.028494287, 0.0073786513, 0.023203855, 0.0156225255, 0.025096359, 0.040069997, 0.01981586, 0.051438715, 0.012189312, 0.01287697, 0.04988026, 0.071098074, 0.053720664, 0.06148112]\n",
            "2021-11-29 20:12:08,364 : INFO : PROGRESS: pass 16, at document #1740/1740\n",
            "2021-11-29 20:12:08,470 : INFO : optimized alpha [0.026380008, 0.0078072627, 0.038959555, 0.09488778, 0.0320544, 0.017084744, 0.029992405, 0.0112806475, 0.031449653, 0.03529688, 0.011791204, 0.033055246, 0.03518291, 0.05827365, 0.014614162, 0.010136365, 0.027842239, 0.0073530283, 0.022743568, 0.015911832, 0.024630621, 0.039296366, 0.019509003, 0.051072832, 0.012079443, 0.012939005, 0.049133316, 0.06751174, 0.052800134, 0.058464818]\n",
            "2021-11-29 20:12:08,473 : INFO : topic #17 (0.007): 0.081*\"Em7\" + 0.065*\"A7\" + 0.056*\"C7\" + 0.048*\"Dm7_G7\" + 0.047*\"FM7\" + 0.043*\"D6\" + 0.042*\"G#7\" + 0.041*\"Gm7b5\" + 0.034*\"E7\" + 0.033*\"Am6\"\n",
            "2021-11-29 20:12:08,479 : INFO : topic #1 (0.008): 0.351*\"Bm7b5\" + 0.136*\"Dm7\" + 0.077*\"D7\" + 0.047*\"A7\" + 0.044*\"C\" + 0.043*\"E7(+b5)\" + 0.038*\"Am7\" + 0.038*\"Cdim\" + 0.035*\"B\" + 0.033*\"G7\"\n",
            "2021-11-29 20:12:08,488 : INFO : topic #29 (0.058): 0.335*\"C6\" + 0.167*\"Dm7_G7\" + 0.082*\"Em7\" + 0.081*\"A7\" + 0.079*\"Dm7\" + 0.025*\"Ebdim7\" + 0.025*\"D7\" + 0.022*\"G7\" + 0.021*\"F6\" + 0.020*\"Am7\"\n",
            "2021-11-29 20:12:08,499 : INFO : topic #27 (0.068): 0.235*\"Dm7_G7\" + 0.223*\"CM7\" + 0.151*\"A7\" + 0.078*\"Em7\" + 0.031*\"Dm7\" + 0.029*\"Em7b5\" + 0.027*\"D7\" + 0.025*\"C6\" + 0.024*\"FM7\" + 0.024*\"Gm7_C7\"\n",
            "2021-11-29 20:12:08,500 : INFO : topic #3 (0.095): 0.378*\"C\" + 0.218*\"G7\" + 0.098*\"D7\" + 0.094*\"F\" + 0.056*\"A7\" + 0.038*\"C7\" + 0.023*\"Fm\" + 0.022*\"E7\" + 0.020*\"Dm\" + 0.009*\"F#dim\"\n",
            "2021-11-29 20:12:08,503 : INFO : topic diff=0.315945, rho=0.197257\n",
            "2021-11-29 20:12:08,507 : INFO : PROGRESS: pass 17, at document #200/1740\n",
            "2021-11-29 20:12:08,638 : INFO : optimized alpha [0.026696734, 0.00781887, 0.03868874, 0.08984965, 0.03260521, 0.017189618, 0.030353867, 0.0113322865, 0.031702485, 0.036163304, 0.011841327, 0.032616578, 0.035728592, 0.060029488, 0.014777167, 0.010181282, 0.028186865, 0.007352361, 0.022892443, 0.01595883, 0.024984114, 0.039685782, 0.019670308, 0.051297147, 0.012151327, 0.01296865, 0.049722675, 0.06884489, 0.053353883, 0.059246376]\n",
            "2021-11-29 20:12:08,640 : INFO : PROGRESS: pass 17, at document #400/1740\n",
            "2021-11-29 20:12:08,782 : INFO : optimized alpha [0.027214939, 0.007821849, 0.038777046, 0.08580896, 0.033184525, 0.017430047, 0.030870333, 0.011339461, 0.031990293, 0.036848642, 0.011924655, 0.032213263, 0.036592424, 0.06110748, 0.014907268, 0.010215354, 0.028699955, 0.007336656, 0.023477862, 0.016019864, 0.025257312, 0.040482823, 0.019867681, 0.05168506, 0.012269814, 0.013035058, 0.05038285, 0.07063195, 0.053871177, 0.06057993]\n",
            "2021-11-29 20:12:08,784 : INFO : PROGRESS: pass 17, at document #600/1740\n",
            "2021-11-29 20:12:08,952 : INFO : optimized alpha [0.027370695, 0.007840012, 0.03868244, 0.08233661, 0.033553373, 0.01761529, 0.031795375, 0.011413116, 0.032160893, 0.037527964, 0.012007614, 0.031586505, 0.037036747, 0.062013406, 0.015022601, 0.010239468, 0.02875953, 0.007364193, 0.023771344, 0.015982894, 0.025593188, 0.041072525, 0.020062119, 0.051941, 0.012399026, 0.013035162, 0.051127758, 0.07267314, 0.054821573, 0.06301027]\n",
            "2021-11-29 20:12:08,954 : INFO : PROGRESS: pass 17, at document #800/1740\n",
            "2021-11-29 20:12:09,071 : INFO : optimized alpha [0.027779285, 0.0078505315, 0.038642332, 0.078764364, 0.03391864, 0.017856173, 0.03220221, 0.011475139, 0.032468013, 0.038537506, 0.012091139, 0.031126799, 0.03774685, 0.06349458, 0.015093244, 0.0103434, 0.029300967, 0.0073483004, 0.02426432, 0.016028851, 0.025776565, 0.04151793, 0.020318137, 0.052239403, 0.012506431, 0.013036096, 0.051722553, 0.07380694, 0.0556845, 0.064086705]\n",
            "2021-11-29 20:12:09,074 : INFO : PROGRESS: pass 17, at document #1000/1740\n",
            "2021-11-29 20:12:09,206 : INFO : optimized alpha [0.028053062, 0.007877753, 0.03856081, 0.07540556, 0.03463911, 0.018124241, 0.032481316, 0.011472097, 0.0325029, 0.039472718, 0.0121768955, 0.03083022, 0.03803643, 0.06437057, 0.01516739, 0.010408522, 0.029765878, 0.0073843882, 0.024667619, 0.016108332, 0.026103325, 0.04261914, 0.020498903, 0.05317558, 0.012603251, 0.013092264, 0.052202653, 0.07583291, 0.05613253, 0.0655515]\n",
            "2021-11-29 20:12:09,209 : INFO : PROGRESS: pass 17, at document #1200/1740\n",
            "2021-11-29 20:12:09,338 : INFO : optimized alpha [0.028438361, 0.007866485, 0.038039546, 0.07175626, 0.035266794, 0.018263366, 0.03290125, 0.011605876, 0.032565046, 0.040379193, 0.012263552, 0.030356333, 0.03840957, 0.06588307, 0.015226734, 0.010474233, 0.030072162, 0.007391218, 0.02480049, 0.016076492, 0.02625028, 0.043798104, 0.020492006, 0.053769074, 0.012700435, 0.013096796, 0.052641578, 0.07831314, 0.056587756, 0.06711851]\n",
            "2021-11-29 20:12:09,341 : INFO : PROGRESS: pass 17, at document #1400/1740\n",
            "2021-11-29 20:12:09,473 : INFO : optimized alpha [0.028361049, 0.007877819, 0.038413037, 0.07345273, 0.035366263, 0.018360926, 0.033034824, 0.011670013, 0.03287569, 0.040579937, 0.012262822, 0.03050631, 0.038683377, 0.06593616, 0.015375386, 0.010487841, 0.03021647, 0.0074195545, 0.024778385, 0.016074084, 0.026463784, 0.044133924, 0.020440077, 0.05430759, 0.012720335, 0.013190418, 0.052734036, 0.07796493, 0.05686771, 0.06684457]\n",
            "2021-11-29 20:12:09,475 : INFO : PROGRESS: pass 17, at document #1600/1740\n",
            "2021-11-29 20:12:09,614 : INFO : optimized alpha [0.027871177, 0.007834764, 0.039503288, 0.08476711, 0.03459056, 0.018085055, 0.03214286, 0.011569977, 0.03308803, 0.039235126, 0.012139731, 0.032072596, 0.037980273, 0.06366074, 0.015212092, 0.010397799, 0.029500619, 0.0073817205, 0.024300553, 0.016215593, 0.02594318, 0.042950135, 0.020118542, 0.054391894, 0.01260048, 0.013257373, 0.051941052, 0.073479764, 0.0562899, 0.06340641]\n",
            "2021-11-29 20:12:09,615 : INFO : PROGRESS: pass 17, at document #1740/1740\n",
            "2021-11-29 20:12:09,711 : INFO : optimized alpha [0.027307594, 0.0077949725, 0.04058332, 0.09713517, 0.034195088, 0.017814483, 0.031335812, 0.011459203, 0.033577796, 0.03802328, 0.012017781, 0.0338532, 0.03751114, 0.060899172, 0.015020629, 0.010308329, 0.028781278, 0.007357198, 0.023812244, 0.016505688, 0.025460383, 0.04205799, 0.01981255, 0.053924236, 0.012486573, 0.0133358855, 0.05120162, 0.06987733, 0.055197593, 0.06030134]\n",
            "2021-11-29 20:12:09,718 : INFO : topic #17 (0.007): 0.081*\"Em7\" + 0.063*\"A7\" + 0.056*\"C7\" + 0.046*\"D6\" + 0.045*\"FM7\" + 0.045*\"Dm7_G7\" + 0.045*\"G#7\" + 0.043*\"Gm7b5\" + 0.035*\"Am6\" + 0.034*\"E7\"\n",
            "2021-11-29 20:12:09,724 : INFO : topic #1 (0.008): 0.363*\"Bm7b5\" + 0.134*\"Dm7\" + 0.075*\"D7\" + 0.054*\"E7(+b5)\" + 0.046*\"A7\" + 0.039*\"Cdim\" + 0.038*\"C\" + 0.038*\"Am7\" + 0.035*\"B\" + 0.031*\"G7\"\n",
            "2021-11-29 20:12:09,732 : INFO : topic #13 (0.061): 0.722*\"Am7\" + 0.128*\"Bm7b5_E7\" + 0.062*\"Dm7\" + 0.032*\"E7\" + 0.024*\"D7\" + 0.009*\"F7\" + 0.004*\"Bm7\" + 0.003*\"CM7\" + 0.003*\"Bm_Bm\" + 0.003*\"Dm7_G7\"\n",
            "2021-11-29 20:12:09,736 : INFO : topic #27 (0.070): 0.237*\"Dm7_G7\" + 0.222*\"CM7\" + 0.153*\"A7\" + 0.078*\"Em7\" + 0.030*\"Dm7\" + 0.030*\"Em7b5\" + 0.027*\"D7\" + 0.024*\"C6\" + 0.024*\"Gm7_C7\" + 0.024*\"FM7\"\n",
            "2021-11-29 20:12:09,742 : INFO : topic #3 (0.097): 0.380*\"C\" + 0.219*\"G7\" + 0.098*\"D7\" + 0.094*\"F\" + 0.056*\"A7\" + 0.037*\"C7\" + 0.023*\"Fm\" + 0.022*\"E7\" + 0.020*\"Dm\" + 0.009*\"F#dim\"\n",
            "2021-11-29 20:12:09,746 : INFO : topic diff=0.307909, rho=0.193528\n",
            "2021-11-29 20:12:09,750 : INFO : PROGRESS: pass 18, at document #200/1740\n",
            "2021-11-29 20:12:09,908 : INFO : optimized alpha [0.027620459, 0.0078072078, 0.040277988, 0.092158005, 0.034765355, 0.0179334, 0.031758577, 0.011533076, 0.033864044, 0.03894225, 0.01206767, 0.033371992, 0.038146358, 0.06276425, 0.015182306, 0.010353168, 0.029151771, 0.007350161, 0.024043351, 0.016549464, 0.025812076, 0.042404465, 0.01995437, 0.054083098, 0.012569448, 0.013364085, 0.05176366, 0.071327336, 0.05576932, 0.061009094]\n",
            "2021-11-29 20:12:09,912 : INFO : PROGRESS: pass 18, at document #400/1740\n",
            "2021-11-29 20:12:10,064 : INFO : optimized alpha [0.028136726, 0.0078109587, 0.04034025, 0.08814211, 0.03533103, 0.018191092, 0.032268725, 0.011551193, 0.034158655, 0.039646927, 0.012150755, 0.0329184, 0.03900394, 0.063865624, 0.0153264515, 0.0103870835, 0.029662734, 0.0073354347, 0.024610572, 0.016607303, 0.02613082, 0.04321902, 0.02015148, 0.05445685, 0.012699511, 0.013429319, 0.052489463, 0.07316925, 0.0562551, 0.062242005]\n",
            "2021-11-29 20:12:10,066 : INFO : PROGRESS: pass 18, at document #600/1740\n",
            "2021-11-29 20:12:10,214 : INFO : optimized alpha [0.028284857, 0.007829596, 0.040216748, 0.08451148, 0.035807114, 0.018374579, 0.033142094, 0.011647342, 0.034327175, 0.04039133, 0.01224536, 0.03228528, 0.03945818, 0.06485455, 0.01544113, 0.0104111545, 0.029727207, 0.0073631597, 0.024923023, 0.016565468, 0.026489276, 0.043894693, 0.020346068, 0.05470056, 0.012816498, 0.013427523, 0.053255703, 0.075508945, 0.057402328, 0.0646779]\n",
            "2021-11-29 20:12:10,216 : INFO : PROGRESS: pass 18, at document #800/1740\n",
            "2021-11-29 20:12:10,359 : INFO : optimized alpha [0.028690645, 0.007855603, 0.040150113, 0.08104496, 0.03614634, 0.018597318, 0.033676147, 0.011709138, 0.03461173, 0.041434437, 0.012352081, 0.031786226, 0.04019879, 0.06624296, 0.015510511, 0.01051489, 0.030293033, 0.0073410957, 0.02544112, 0.0166083, 0.026691958, 0.044334017, 0.020601796, 0.055046137, 0.0129358675, 0.013439308, 0.053870484, 0.076699905, 0.058346, 0.06581279]\n",
            "2021-11-29 20:12:10,361 : INFO : PROGRESS: pass 18, at document #1000/1740\n",
            "2021-11-29 20:12:10,494 : INFO : optimized alpha [0.028987216, 0.007883046, 0.040042117, 0.07767732, 0.03689159, 0.018847262, 0.03400842, 0.011705569, 0.034574047, 0.042368274, 0.01243751, 0.031423282, 0.04048774, 0.067254305, 0.015568466, 0.010579823, 0.030754969, 0.007377211, 0.025842234, 0.016700933, 0.027015245, 0.045465294, 0.020743022, 0.05599286, 0.013044728, 0.013494152, 0.05436427, 0.0785438, 0.059015296, 0.06721197]\n",
            "2021-11-29 20:12:10,496 : INFO : PROGRESS: pass 18, at document #1200/1740\n",
            "2021-11-29 20:12:10,631 : INFO : optimized alpha [0.029368442, 0.007872709, 0.03948493, 0.07393987, 0.03754081, 0.018983684, 0.034421034, 0.01183926, 0.03459959, 0.043219462, 0.012523887, 0.030946687, 0.040865276, 0.06886805, 0.015626527, 0.01064537, 0.031147541, 0.007384614, 0.025964504, 0.016664278, 0.027155196, 0.0467628, 0.020717023, 0.05653119, 0.013141207, 0.013496701, 0.054813348, 0.081145436, 0.059474245, 0.06871982]\n",
            "2021-11-29 20:12:10,633 : INFO : PROGRESS: pass 18, at document #1400/1740\n",
            "2021-11-29 20:12:10,776 : INFO : optimized alpha [0.02930802, 0.007884587, 0.039804596, 0.07580083, 0.037632547, 0.019077651, 0.034572367, 0.011903172, 0.034949828, 0.043363012, 0.01252259, 0.031120913, 0.041099045, 0.06896039, 0.01577475, 0.01065895, 0.031304076, 0.0074201175, 0.025927415, 0.016657742, 0.027337365, 0.04704073, 0.02064726, 0.05706781, 0.013159107, 0.013589666, 0.055015706, 0.08100725, 0.059691347, 0.06849397]\n",
            "2021-11-29 20:12:10,778 : INFO : PROGRESS: pass 18, at document #1600/1740\n",
            "2021-11-29 20:12:10,901 : INFO : optimized alpha [0.02879878, 0.007842946, 0.041004423, 0.08726625, 0.036770727, 0.018789448, 0.033627115, 0.011802394, 0.035129607, 0.041922577, 0.012398375, 0.03278148, 0.04034783, 0.066582024, 0.015608081, 0.010568948, 0.030560033, 0.0073901317, 0.025420427, 0.016797299, 0.026798865, 0.04576438, 0.020329857, 0.057076182, 0.013034745, 0.013655356, 0.054144684, 0.076138906, 0.059162725, 0.06502094]\n",
            "2021-11-29 20:12:10,906 : INFO : PROGRESS: pass 18, at document #1740/1740\n",
            "2021-11-29 20:12:10,995 : INFO : optimized alpha [0.02821473, 0.007804468, 0.042079464, 0.09993332, 0.03630972, 0.018506661, 0.03277057, 0.01169078, 0.03564702, 0.04064098, 0.012275207, 0.03456638, 0.039807465, 0.063730836, 0.015412915, 0.010479441, 0.029856032, 0.007366583, 0.024903063, 0.017088292, 0.026298707, 0.044753343, 0.020027421, 0.0565175, 0.012916361, 0.013733255, 0.053331163, 0.072267905, 0.057948496, 0.06185884]\n",
            "2021-11-29 20:12:10,999 : INFO : topic #17 (0.007): 0.080*\"Em7\" + 0.061*\"A7\" + 0.056*\"C7\" + 0.050*\"D6\" + 0.046*\"G#7\" + 0.045*\"Gm7b5\" + 0.044*\"FM7\" + 0.042*\"Dm7_G7\" + 0.037*\"Am6\" + 0.033*\"E7\"\n",
            "2021-11-29 20:12:11,009 : INFO : topic #1 (0.008): 0.374*\"Bm7b5\" + 0.131*\"Dm7\" + 0.073*\"D7\" + 0.064*\"E7(+b5)\" + 0.043*\"A7\" + 0.039*\"Cdim\" + 0.037*\"Am7\" + 0.036*\"B\" + 0.034*\"C\" + 0.029*\"G7\"\n",
            "2021-11-29 20:12:11,010 : INFO : topic #13 (0.064): 0.724*\"Am7\" + 0.127*\"Bm7b5_E7\" + 0.063*\"Dm7\" + 0.032*\"E7\" + 0.024*\"D7\" + 0.009*\"F7\" + 0.003*\"Bm7\" + 0.003*\"CM7\" + 0.003*\"Bm_Bm\" + 0.003*\"Dm7_G7\"\n",
            "2021-11-29 20:12:11,022 : INFO : topic #27 (0.072): 0.240*\"Dm7_G7\" + 0.221*\"CM7\" + 0.155*\"A7\" + 0.079*\"Em7\" + 0.030*\"Em7b5\" + 0.030*\"Dm7\" + 0.026*\"D7\" + 0.024*\"C6\" + 0.024*\"Gm7_C7\" + 0.023*\"FM7\"\n",
            "2021-11-29 20:12:11,033 : INFO : topic #3 (0.100): 0.383*\"C\" + 0.220*\"G7\" + 0.097*\"D7\" + 0.095*\"F\" + 0.056*\"A7\" + 0.037*\"C7\" + 0.023*\"Fm\" + 0.021*\"E7\" + 0.021*\"Dm\" + 0.009*\"F#dim\"\n",
            "2021-11-29 20:12:11,037 : INFO : topic diff=0.298754, rho=0.190003\n",
            "2021-11-29 20:12:11,041 : INFO : PROGRESS: pass 19, at document #200/1740\n",
            "2021-11-29 20:12:11,189 : INFO : optimized alpha [0.028523367, 0.007817166, 0.041743625, 0.09472225, 0.036933154, 0.018622829, 0.03317995, 0.0117756035, 0.035941556, 0.04167809, 0.012324686, 0.034147706, 0.040425576, 0.06564429, 0.015575567, 0.010524174, 0.030250743, 0.0073602563, 0.025151681, 0.017128835, 0.026648164, 0.04509681, 0.020189127, 0.05672218, 0.012998321, 0.0137468595, 0.053958472, 0.073684886, 0.058585417, 0.06266337]\n",
            "2021-11-29 20:12:11,192 : INFO : PROGRESS: pass 19, at document #400/1740\n",
            "2021-11-29 20:12:11,332 : INFO : optimized alpha [0.029065121, 0.007821514, 0.041783165, 0.09069806, 0.037508186, 0.018898804, 0.03371685, 0.011793254, 0.03630782, 0.042368744, 0.01240743, 0.033659816, 0.0412741, 0.066702016, 0.01571952, 0.010557962, 0.030788498, 0.007346353, 0.025722414, 0.017183548, 0.02696356, 0.045928497, 0.020404793, 0.057091236, 0.01315246, 0.013811002, 0.05470308, 0.07552696, 0.059139803, 0.063962236]\n",
            "2021-11-29 20:12:11,334 : INFO : PROGRESS: pass 19, at document #600/1740\n",
            "2021-11-29 20:12:11,513 : INFO : optimized alpha [0.02917621, 0.007840451, 0.041593574, 0.08697223, 0.0379967, 0.019080436, 0.034650113, 0.01187766, 0.03644012, 0.04316707, 0.012501676, 0.033014487, 0.041659005, 0.067642555, 0.015863407, 0.010591746, 0.030883824, 0.007371582, 0.026053183, 0.017136686, 0.027343264, 0.046568595, 0.020618435, 0.057484012, 0.013293401, 0.0138072, 0.055490904, 0.07780547, 0.0602628, 0.06634234]\n",
            "2021-11-29 20:12:11,515 : INFO : PROGRESS: pass 19, at document #800/1740\n",
            "2021-11-29 20:12:11,640 : INFO : optimized alpha [0.029606024, 0.007873944, 0.041503146, 0.08321243, 0.038305793, 0.019337934, 0.035178337, 0.011939092, 0.0367623, 0.044314224, 0.012608134, 0.03254101, 0.04245593, 0.068995915, 0.015931157, 0.010695205, 0.031479247, 0.0073504243, 0.026595695, 0.017176101, 0.027539926, 0.046955, 0.020873519, 0.057817176, 0.0134123005, 0.013817214, 0.056166384, 0.078887716, 0.061224744, 0.06752947]\n",
            "2021-11-29 20:12:11,642 : INFO : PROGRESS: pass 19, at document #1000/1740\n",
            "2021-11-29 20:12:11,778 : INFO : optimized alpha [0.029923914, 0.007901544, 0.041409712, 0.07975681, 0.03903919, 0.019623514, 0.035538033, 0.0119573185, 0.036713976, 0.045318954, 0.012693158, 0.032231793, 0.042708993, 0.06997828, 0.01598748, 0.010759883, 0.031936478, 0.007386445, 0.026993671, 0.017266225, 0.02785948, 0.048071552, 0.021053376, 0.0587226, 0.0135332495, 0.013870756, 0.056774784, 0.08047254, 0.061806712, 0.06904545]\n",
            "2021-11-29 20:12:11,780 : INFO : PROGRESS: pass 19, at document #1200/1740\n",
            "2021-11-29 20:12:11,902 : INFO : optimized alpha [0.030300077, 0.007891905, 0.040819675, 0.07592128, 0.039672125, 0.01975623, 0.03601095, 0.012090848, 0.036765054, 0.046248745, 0.012790917, 0.03174281, 0.043094482, 0.07149647, 0.016043836, 0.010825132, 0.032288916, 0.0073942402, 0.027104255, 0.01722479, 0.027992725, 0.049444575, 0.021047616, 0.059254825, 0.013628628, 0.013858287, 0.057123218, 0.082929425, 0.062145066, 0.070647575]\n",
            "2021-11-29 20:12:11,932 : INFO : PROGRESS: pass 19, at document #1400/1740\n",
            "2021-11-29 20:12:12,062 : INFO : optimized alpha [0.0301994, 0.00790416, 0.04112369, 0.07778203, 0.03972389, 0.019864313, 0.03607056, 0.012154369, 0.03712042, 0.046404693, 0.012788819, 0.03191558, 0.04337181, 0.07159006, 0.016191332, 0.0108384965, 0.032504097, 0.0074297334, 0.027051572, 0.017230641, 0.02816895, 0.049759258, 0.020997273, 0.059841868, 0.0136439195, 0.013950506, 0.05732987, 0.08271676, 0.06242574, 0.070447996]\n",
            "2021-11-29 20:12:12,064 : INFO : PROGRESS: pass 19, at document #1600/1740\n",
            "2021-11-29 20:12:12,185 : INFO : optimized alpha [0.029673012, 0.0078637, 0.042324036, 0.089549854, 0.038783405, 0.019561647, 0.035104416, 0.0120525, 0.03729579, 0.044805035, 0.012663319, 0.033520073, 0.042568516, 0.069144815, 0.016020885, 0.010748351, 0.031694535, 0.007401391, 0.026516275, 0.017401883, 0.027614294, 0.04835716, 0.020679247, 0.05982876, 0.013514132, 0.014015136, 0.0564314, 0.07797549, 0.06194375, 0.066888995]\n",
            "2021-11-29 20:12:12,190 : INFO : PROGRESS: pass 19, at document #1740/1740\n",
            "2021-11-29 20:12:12,273 : INFO : optimized alpha [0.02906989, 0.007826253, 0.043391313, 0.102329925, 0.038260307, 0.019264176, 0.034197178, 0.011939532, 0.03778702, 0.043442443, 0.012538614, 0.035312597, 0.04195754, 0.06605594, 0.015821317, 0.0106585035, 0.030914377, 0.0073885885, 0.025969965, 0.017693209, 0.027097607, 0.047234528, 0.020375432, 0.059169114, 0.013390195, 0.014091838, 0.05553481, 0.074011445, 0.060611084, 0.06363969]\n",
            "2021-11-29 20:12:12,280 : INFO : topic #17 (0.007): 0.078*\"Em7\" + 0.059*\"A7\" + 0.055*\"C7\" + 0.053*\"D6\" + 0.047*\"Gm7b5\" + 0.047*\"G#7\" + 0.042*\"FM7\" + 0.040*\"Dm7_G7\" + 0.037*\"Am6\" + 0.033*\"Eb7\"\n",
            "2021-11-29 20:12:12,282 : INFO : topic #1 (0.008): 0.385*\"Bm7b5\" + 0.128*\"Dm7\" + 0.073*\"E7(+b5)\" + 0.071*\"D7\" + 0.041*\"A7\" + 0.040*\"Cdim\" + 0.037*\"Am7\" + 0.036*\"B\" + 0.029*\"C\" + 0.027*\"G7\"\n",
            "2021-11-29 20:12:12,284 : INFO : topic #13 (0.066): 0.726*\"Am7\" + 0.127*\"Bm7b5_E7\" + 0.064*\"Dm7\" + 0.032*\"E7\" + 0.024*\"D7\" + 0.008*\"F7\" + 0.003*\"Bm7\" + 0.003*\"CM7\" + 0.003*\"Bm_Bm\" + 0.003*\"Dm7_G7\"\n",
            "2021-11-29 20:12:12,287 : INFO : topic #27 (0.074): 0.242*\"Dm7_G7\" + 0.221*\"CM7\" + 0.157*\"A7\" + 0.080*\"Em7\" + 0.031*\"Em7b5\" + 0.030*\"Dm7\" + 0.026*\"D7\" + 0.024*\"C6\" + 0.023*\"Gm7_C7\" + 0.022*\"FM7\"\n",
            "2021-11-29 20:12:12,289 : INFO : topic #3 (0.102): 0.385*\"C\" + 0.220*\"G7\" + 0.096*\"D7\" + 0.095*\"F\" + 0.055*\"A7\" + 0.037*\"C7\" + 0.022*\"Fm\" + 0.021*\"Dm\" + 0.021*\"E7\" + 0.009*\"F#dim\"\n",
            "2021-11-29 20:12:12,291 : INFO : topic diff=0.289103, rho=0.186663\n",
            "2021-11-29 20:12:12,294 : INFO : LdaModel lifecycle event {'msg': 'trained LdaModel(num_terms=200, num_topics=30, decay=0.5, chunksize=200) in 27.46s', 'datetime': '2021-11-29T20:12:12.294416', 'gensim': '4.1.2', 'python': '3.7.12 (default, Sep 10 2021, 00:21:48) \\n[GCC 7.5.0]', 'platform': 'Linux-5.4.104+-x86_64-with-Ubuntu-18.04-bionic', 'event': 'created'}\n"
          ]
        },
        {
          "output_type": "stream",
          "name": "stdout",
          "text": [
            "CPU times: user 26.3 s, sys: 585 ms, total: 26.9 s\n",
            "Wall time: 27.5 s\n"
          ]
        }
      ]
    },
    {
      "cell_type": "code",
      "metadata": {
        "colab": {
          "base_uri": "https://localhost:8080/"
        },
        "id": "vL-RbJZ-6JQa",
        "outputId": "62fc3651-8c3d-4e1b-f775-c7112d887f93"
      },
      "source": [
        "lda_model.print_topics()"
      ],
      "execution_count": 133,
      "outputs": [
        {
          "output_type": "stream",
          "name": "stderr",
          "text": [
            "2021-11-29 20:12:15,740 : INFO : topic #17 (0.007): 0.078*\"Em7\" + 0.059*\"A7\" + 0.055*\"C7\" + 0.053*\"D6\" + 0.047*\"Gm7b5\" + 0.047*\"G#7\" + 0.042*\"FM7\" + 0.040*\"Dm7_G7\" + 0.037*\"Am6\" + 0.033*\"Eb7\"\n",
            "2021-11-29 20:12:15,745 : INFO : topic #1 (0.008): 0.385*\"Bm7b5\" + 0.128*\"Dm7\" + 0.073*\"E7(+b5)\" + 0.071*\"D7\" + 0.041*\"A7\" + 0.040*\"Cdim\" + 0.037*\"Am7\" + 0.036*\"B\" + 0.029*\"C\" + 0.027*\"G7\"\n",
            "2021-11-29 20:12:15,749 : INFO : topic #15 (0.011): 0.317*\"Bbm7\" + 0.182*\"G7(+b5)\" + 0.158*\"G#13\" + 0.072*\"Bb13\" + 0.056*\"F#M7\" + 0.054*\"Eb13\" + 0.033*\"G#7(+b5)\" + 0.023*\"F#dim7\" + 0.020*\"Ebm7\" + 0.015*\"C#M7\"\n",
            "2021-11-29 20:12:15,752 : INFO : topic #7 (0.012): 0.171*\"A7\" + 0.128*\"Dm7\" + 0.083*\"D13\" + 0.058*\"CM7\" + 0.057*\"G6\" + 0.044*\"Em7\" + 0.040*\"D7\" + 0.031*\"Bb7\" + 0.028*\"C13\" + 0.028*\"Am7\"\n",
            "2021-11-29 20:12:15,758 : INFO : topic #10 (0.013): 0.229*\"F#m7b5\" + 0.068*\"G7\" + 0.056*\"CM7\" + 0.047*\"F7\" + 0.045*\"A7\" + 0.042*\"Am7\" + 0.040*\"E7\" + 0.039*\"Dm7_G7\" + 0.035*\"FM7\" + 0.033*\"D7\"\n",
            "2021-11-29 20:12:15,760 : INFO : topic #24 (0.013): 0.261*\"Bm7\" + 0.147*\"Am7\" + 0.139*\"CM7\" + 0.072*\"Dm7\" + 0.036*\"D7\" + 0.036*\"B7(+b5)\" + 0.029*\"Fm\" + 0.029*\"A7(+b5)\" + 0.017*\"C#7(+b5)\" + 0.016*\"G#m7\"\n",
            "2021-11-29 20:12:15,763 : INFO : topic #25 (0.014): 0.169*\"Cdim7\" + 0.129*\"F\" + 0.104*\"Gm\" + 0.096*\"Bb\" + 0.084*\"Eb\" + 0.070*\"G7\" + 0.064*\"C7\" + 0.033*\"Ebm6\" + 0.022*\"F7\" + 0.020*\"C6\"\n",
            "2021-11-29 20:12:15,765 : INFO : topic #14 (0.016): 0.097*\"CM7\" + 0.087*\"F6\" + 0.074*\"G7\" + 0.063*\"Gm7_C7\" + 0.063*\"Fm6\" + 0.054*\"C6\" + 0.043*\"Em7\" + 0.041*\"FM7\" + 0.039*\"Am7b5\" + 0.039*\"Am7\"\n",
            "2021-11-29 20:12:15,767 : INFO : topic #19 (0.018): 0.234*\"G\" + 0.086*\"E\" + 0.085*\"G#\" + 0.078*\"D\" + 0.075*\"A\" + 0.074*\"C\" + 0.059*\"Cm\" + 0.037*\"G7\" + 0.033*\"C#\" + 0.025*\"F\"\n",
            "2021-11-29 20:12:15,769 : INFO : topic #5 (0.019): 0.103*\"FM7\" + 0.082*\"DM7\" + 0.077*\"GM7\" + 0.076*\"CM7\" + 0.071*\"Em7\" + 0.060*\"AM7\" + 0.051*\"BM7\" + 0.047*\"Bm7\" + 0.041*\"EM7\" + 0.039*\"Am7\"\n",
            "2021-11-29 20:12:15,772 : INFO : topic #2 (0.043): 0.756*\"Am\" + 0.164*\"Dm\" + 0.025*\"Bm7b5_E7\" + 0.023*\"A7\" + 0.008*\"G7\" + 0.004*\"G\" + 0.003*\"E7(+b5)\" + 0.002*\"D7\" + 0.002*\"Edim\" + 0.002*\"F#m7_B7\"\n",
            "2021-11-29 20:12:15,774 : INFO : topic #9 (0.043): 0.271*\"CM7\" + 0.170*\"FM7\" + 0.147*\"Dm7_G7\" + 0.058*\"Dm7\" + 0.057*\"Ebdim7\" + 0.054*\"C#dim7\" + 0.051*\"Gm7_C7\" + 0.039*\"G7\" + 0.036*\"D7\" + 0.018*\"A7\"\n",
            "2021-11-29 20:12:15,776 : INFO : topic #21 (0.047): 0.879*\"F7\" + 0.050*\"Eb7\" + 0.024*\"Em7\" + 0.010*\"Ebm\" + 0.007*\"F#m7\" + 0.007*\"CM7\" + 0.006*\"F#7\" + 0.003*\"G#7\" + 0.002*\"F#dim7\" + 0.002*\"DM7\"\n",
            "2021-11-29 20:12:15,778 : INFO : topic #26 (0.056): 0.715*\"C7\" + 0.114*\"F7\" + 0.049*\"G7\" + 0.033*\"Dm7_G7\" + 0.020*\"F#dim7\" + 0.020*\"A7\" + 0.005*\"Em7\" + 0.004*\"G#7\" + 0.003*\"D7\" + 0.003*\"Bb7\"\n",
            "2021-11-29 20:12:15,780 : INFO : topic #23 (0.059): 0.677*\"E7\" + 0.043*\"A7\" + 0.039*\"Bm7\" + 0.033*\"Am7\" + 0.027*\"D7\" + 0.022*\"Dm7\" + 0.017*\"F#7\" + 0.017*\"F7\" + 0.014*\"G7\" + 0.014*\"Am\"\n",
            "2021-11-29 20:12:15,783 : INFO : topic #28 (0.061): 0.316*\"D7\" + 0.178*\"G7\" + 0.176*\"A7\" + 0.074*\"C6\" + 0.042*\"Dm7_G7\" + 0.039*\"CM7\" + 0.029*\"E7\" + 0.015*\"Gm7_C7\" + 0.015*\"F#dim7\" + 0.014*\"F6\"\n",
            "2021-11-29 20:12:15,785 : INFO : topic #29 (0.064): 0.356*\"C6\" + 0.170*\"Dm7_G7\" + 0.079*\"A7\" + 0.079*\"Em7\" + 0.077*\"Dm7\" + 0.025*\"Ebdim7\" + 0.025*\"D7\" + 0.022*\"F6\" + 0.022*\"G7\" + 0.019*\"Am7\"\n",
            "2021-11-29 20:12:15,787 : INFO : topic #13 (0.066): 0.726*\"Am7\" + 0.127*\"Bm7b5_E7\" + 0.064*\"Dm7\" + 0.032*\"E7\" + 0.024*\"D7\" + 0.008*\"F7\" + 0.003*\"Bm7\" + 0.003*\"CM7\" + 0.003*\"Bm_Bm\" + 0.003*\"Dm7_G7\"\n",
            "2021-11-29 20:12:15,790 : INFO : topic #27 (0.074): 0.242*\"Dm7_G7\" + 0.221*\"CM7\" + 0.157*\"A7\" + 0.080*\"Em7\" + 0.031*\"Em7b5\" + 0.030*\"Dm7\" + 0.026*\"D7\" + 0.024*\"C6\" + 0.023*\"Gm7_C7\" + 0.022*\"FM7\"\n",
            "2021-11-29 20:12:15,792 : INFO : topic #3 (0.102): 0.385*\"C\" + 0.220*\"G7\" + 0.096*\"D7\" + 0.095*\"F\" + 0.055*\"A7\" + 0.037*\"C7\" + 0.022*\"Fm\" + 0.021*\"Dm\" + 0.021*\"E7\" + 0.009*\"F#dim\"\n"
          ]
        },
        {
          "output_type": "execute_result",
          "data": {
            "text/plain": [
              "[(17,\n",
              "  '0.078*\"Em7\" + 0.059*\"A7\" + 0.055*\"C7\" + 0.053*\"D6\" + 0.047*\"Gm7b5\" + 0.047*\"G#7\" + 0.042*\"FM7\" + 0.040*\"Dm7_G7\" + 0.037*\"Am6\" + 0.033*\"Eb7\"'),\n",
              " (1,\n",
              "  '0.385*\"Bm7b5\" + 0.128*\"Dm7\" + 0.073*\"E7(+b5)\" + 0.071*\"D7\" + 0.041*\"A7\" + 0.040*\"Cdim\" + 0.037*\"Am7\" + 0.036*\"B\" + 0.029*\"C\" + 0.027*\"G7\"'),\n",
              " (15,\n",
              "  '0.317*\"Bbm7\" + 0.182*\"G7(+b5)\" + 0.158*\"G#13\" + 0.072*\"Bb13\" + 0.056*\"F#M7\" + 0.054*\"Eb13\" + 0.033*\"G#7(+b5)\" + 0.023*\"F#dim7\" + 0.020*\"Ebm7\" + 0.015*\"C#M7\"'),\n",
              " (7,\n",
              "  '0.171*\"A7\" + 0.128*\"Dm7\" + 0.083*\"D13\" + 0.058*\"CM7\" + 0.057*\"G6\" + 0.044*\"Em7\" + 0.040*\"D7\" + 0.031*\"Bb7\" + 0.028*\"C13\" + 0.028*\"Am7\"'),\n",
              " (10,\n",
              "  '0.229*\"F#m7b5\" + 0.068*\"G7\" + 0.056*\"CM7\" + 0.047*\"F7\" + 0.045*\"A7\" + 0.042*\"Am7\" + 0.040*\"E7\" + 0.039*\"Dm7_G7\" + 0.035*\"FM7\" + 0.033*\"D7\"'),\n",
              " (24,\n",
              "  '0.261*\"Bm7\" + 0.147*\"Am7\" + 0.139*\"CM7\" + 0.072*\"Dm7\" + 0.036*\"D7\" + 0.036*\"B7(+b5)\" + 0.029*\"Fm\" + 0.029*\"A7(+b5)\" + 0.017*\"C#7(+b5)\" + 0.016*\"G#m7\"'),\n",
              " (25,\n",
              "  '0.169*\"Cdim7\" + 0.129*\"F\" + 0.104*\"Gm\" + 0.096*\"Bb\" + 0.084*\"Eb\" + 0.070*\"G7\" + 0.064*\"C7\" + 0.033*\"Ebm6\" + 0.022*\"F7\" + 0.020*\"C6\"'),\n",
              " (14,\n",
              "  '0.097*\"CM7\" + 0.087*\"F6\" + 0.074*\"G7\" + 0.063*\"Gm7_C7\" + 0.063*\"Fm6\" + 0.054*\"C6\" + 0.043*\"Em7\" + 0.041*\"FM7\" + 0.039*\"Am7b5\" + 0.039*\"Am7\"'),\n",
              " (19,\n",
              "  '0.234*\"G\" + 0.086*\"E\" + 0.085*\"G#\" + 0.078*\"D\" + 0.075*\"A\" + 0.074*\"C\" + 0.059*\"Cm\" + 0.037*\"G7\" + 0.033*\"C#\" + 0.025*\"F\"'),\n",
              " (5,\n",
              "  '0.103*\"FM7\" + 0.082*\"DM7\" + 0.077*\"GM7\" + 0.076*\"CM7\" + 0.071*\"Em7\" + 0.060*\"AM7\" + 0.051*\"BM7\" + 0.047*\"Bm7\" + 0.041*\"EM7\" + 0.039*\"Am7\"'),\n",
              " (2,\n",
              "  '0.756*\"Am\" + 0.164*\"Dm\" + 0.025*\"Bm7b5_E7\" + 0.023*\"A7\" + 0.008*\"G7\" + 0.004*\"G\" + 0.003*\"E7(+b5)\" + 0.002*\"D7\" + 0.002*\"Edim\" + 0.002*\"F#m7_B7\"'),\n",
              " (9,\n",
              "  '0.271*\"CM7\" + 0.170*\"FM7\" + 0.147*\"Dm7_G7\" + 0.058*\"Dm7\" + 0.057*\"Ebdim7\" + 0.054*\"C#dim7\" + 0.051*\"Gm7_C7\" + 0.039*\"G7\" + 0.036*\"D7\" + 0.018*\"A7\"'),\n",
              " (21,\n",
              "  '0.879*\"F7\" + 0.050*\"Eb7\" + 0.024*\"Em7\" + 0.010*\"Ebm\" + 0.007*\"F#m7\" + 0.007*\"CM7\" + 0.006*\"F#7\" + 0.003*\"G#7\" + 0.002*\"F#dim7\" + 0.002*\"DM7\"'),\n",
              " (26,\n",
              "  '0.715*\"C7\" + 0.114*\"F7\" + 0.049*\"G7\" + 0.033*\"Dm7_G7\" + 0.020*\"F#dim7\" + 0.020*\"A7\" + 0.005*\"Em7\" + 0.004*\"G#7\" + 0.003*\"D7\" + 0.003*\"Bb7\"'),\n",
              " (23,\n",
              "  '0.677*\"E7\" + 0.043*\"A7\" + 0.039*\"Bm7\" + 0.033*\"Am7\" + 0.027*\"D7\" + 0.022*\"Dm7\" + 0.017*\"F#7\" + 0.017*\"F7\" + 0.014*\"G7\" + 0.014*\"Am\"'),\n",
              " (28,\n",
              "  '0.316*\"D7\" + 0.178*\"G7\" + 0.176*\"A7\" + 0.074*\"C6\" + 0.042*\"Dm7_G7\" + 0.039*\"CM7\" + 0.029*\"E7\" + 0.015*\"Gm7_C7\" + 0.015*\"F#dim7\" + 0.014*\"F6\"'),\n",
              " (29,\n",
              "  '0.356*\"C6\" + 0.170*\"Dm7_G7\" + 0.079*\"A7\" + 0.079*\"Em7\" + 0.077*\"Dm7\" + 0.025*\"Ebdim7\" + 0.025*\"D7\" + 0.022*\"F6\" + 0.022*\"G7\" + 0.019*\"Am7\"'),\n",
              " (13,\n",
              "  '0.726*\"Am7\" + 0.127*\"Bm7b5_E7\" + 0.064*\"Dm7\" + 0.032*\"E7\" + 0.024*\"D7\" + 0.008*\"F7\" + 0.003*\"Bm7\" + 0.003*\"CM7\" + 0.003*\"Bm_Bm\" + 0.003*\"Dm7_G7\"'),\n",
              " (27,\n",
              "  '0.242*\"Dm7_G7\" + 0.221*\"CM7\" + 0.157*\"A7\" + 0.080*\"Em7\" + 0.031*\"Em7b5\" + 0.030*\"Dm7\" + 0.026*\"D7\" + 0.024*\"C6\" + 0.023*\"Gm7_C7\" + 0.022*\"FM7\"'),\n",
              " (3,\n",
              "  '0.385*\"C\" + 0.220*\"G7\" + 0.096*\"D7\" + 0.095*\"F\" + 0.055*\"A7\" + 0.037*\"C7\" + 0.022*\"Fm\" + 0.021*\"Dm\" + 0.021*\"E7\" + 0.009*\"F#dim\"')]"
            ]
          },
          "metadata": {},
          "execution_count": 133
        }
      ]
    },
    {
      "cell_type": "markdown",
      "metadata": {
        "id": "mujJhleqAxfz"
      },
      "source": [
        "## Evaluating Topic Model Quality\n",
        "\n",
        "We can use perplexity and coherence scores as measures to evaluate the topic\n",
        "model. Typically, lower the perplexity, the better the model. Similarly, the lower the\n",
        "UMass score and the higher the Cv score in coherence, the better the model."
      ]
    },
    {
      "cell_type": "code",
      "metadata": {
        "colab": {
          "base_uri": "https://localhost:8080/"
        },
        "id": "lpOX2TrCA2QZ",
        "outputId": "52d81e3d-9696-4abc-8aed-25633c9f0000"
      },
      "source": [
        "cv_coherence_model_lda = gensim.models.CoherenceModel(model=lda_model, corpus=corpus, \n",
        "                                                      texts=data,\n",
        "                                                      dictionary=id2word, \n",
        "                                                      coherence='c_v')\n",
        "avg_coherence_cv = cv_coherence_model_lda.get_coherence()\n",
        "\n",
        "umass_coherence_model_lda = gensim.models.CoherenceModel(model=lda_model, corpus=corpus, \n",
        "                                                         texts=data,\n",
        "                                                         dictionary=id2word, \n",
        "                                                         coherence='u_mass')\n",
        "avg_coherence_umass = umass_coherence_model_lda.get_coherence()\n",
        "\n",
        "perplexity = lda_model.log_perplexity(corpus)\n",
        "\n",
        "print('Avg. Coherence Score (Cv):', avg_coherence_cv)\n",
        "print('Avg. Coherence Score (UMass):', avg_coherence_umass)\n",
        "print('Model Perplexity:', perplexity)"
      ],
      "execution_count": 134,
      "outputs": [
        {
          "output_type": "stream",
          "name": "stderr",
          "text": [
            "2021-11-29 20:12:18,106 : INFO : using WordOccurrenceAccumulator to estimate probabilities from sliding windows\n",
            "2021-11-29 20:12:18,205 : INFO : WordOccurrenceAccumulator accumulated stats from 1000 documents\n",
            "/usr/local/lib/python3.7/dist-packages/gensim/topic_coherence/direct_confirmation_measure.py:204: RuntimeWarning:\n",
            "\n",
            "divide by zero encountered in double_scalars\n",
            "\n",
            "/usr/local/lib/python3.7/dist-packages/gensim/topic_coherence/indirect_confirmation_measure.py:323: RuntimeWarning:\n",
            "\n",
            "invalid value encountered in double_scalars\n",
            "\n",
            "2021-11-29 20:12:19,585 : INFO : CorpusAccumulator accumulated stats from 1000 documents\n",
            "2021-11-29 20:12:20,947 : INFO : -3.289 per-word bound, 9.8 perplexity estimate based on a held-out corpus of 1740 documents with 71100 words\n"
          ]
        },
        {
          "output_type": "stream",
          "name": "stdout",
          "text": [
            "Avg. Coherence Score (Cv): nan\n",
            "Avg. Coherence Score (UMass): -2.5969261086991224\n",
            "Model Perplexity: -3.28889771908857\n"
          ]
        }
      ]
    },
    {
      "cell_type": "code",
      "metadata": {
        "colab": {
          "base_uri": "https://localhost:8080/"
        },
        "id": "FKPiGvqiBFqL",
        "outputId": "9fb93880-c83e-49ec-9d05-3c56fd60db1e"
      },
      "source": [
        "%%time\n",
        "# Evaluate different Topic Sizes\n",
        "\n",
        "if False:\n",
        "\n",
        "  try_topics = [5, 10, 20, 30, 50, 70, 100]\n",
        "\n",
        "  topic_quality = pd.DataFrame(columns=['num_topics', 'cv', 'umass', 'perp'])\n",
        "\n",
        "  for t in try_topics:\n",
        "\n",
        "    lda_model = gensim.models.LdaModel(corpus=corpus, \n",
        "                                      id2word=id2word, \n",
        "                                      chunksize=200, \n",
        "                                      alpha='auto', \n",
        "                                      eta='auto', \n",
        "                                      #eta=0.1,\n",
        "                                      random_state=42,\n",
        "                                      #iterations=500, \n",
        "                                      num_topics=t, \n",
        "                                      passes=20, \n",
        "                                      per_word_topics=True,\n",
        "                                      eval_every=None,\n",
        "                                      update_every=0,  # batch learning, start from scratch everytime (<> online learning)\n",
        "                                      )\n",
        "\n",
        "\n",
        "    cv_coherence_model_lda = gensim.models.CoherenceModel(model=lda_model, corpus=corpus, \n",
        "                                                          texts=data,\n",
        "                                                          dictionary=id2word, \n",
        "                                                          coherence='c_v')\n",
        "    avg_coherence_cv = cv_coherence_model_lda.get_coherence()\n",
        "\n",
        "    umass_coherence_model_lda = gensim.models.CoherenceModel(model=lda_model, corpus=corpus, \n",
        "                                                            texts=data,\n",
        "                                                            dictionary=id2word, \n",
        "                                                            coherence='u_mass')\n",
        "    avg_coherence_umass = umass_coherence_model_lda.get_coherence()\n",
        "\n",
        "    perplexity = lda_model.log_perplexity(corpus)\n",
        "\n",
        "    print('Num Topics: ', t)\n",
        "    print('Avg. Coherence Score (Cv):', avg_coherence_cv)\n",
        "    print('Avg. Coherence Score (UMass):', avg_coherence_umass)\n",
        "    print('Model Perplexity:', perplexity)\n",
        "\n",
        "    topic_quality.loc[len(topic_quality)] =[t, avg_coherence_cv, avg_coherence_umass, perplexity]\n",
        "\n",
        "    print(topic_quality)\n"
      ],
      "execution_count": 135,
      "outputs": [
        {
          "output_type": "stream",
          "name": "stdout",
          "text": [
            "CPU times: user 4 µs, sys: 0 ns, total: 4 µs\n",
            "Wall time: 8.11 µs\n"
          ]
        }
      ]
    },
    {
      "cell_type": "markdown",
      "metadata": {
        "id": "AzghpvJz704K"
      },
      "source": [
        "### Dominant Tunes in Topics"
      ]
    },
    {
      "cell_type": "code",
      "metadata": {
        "id": "3_ZKhMa77pP5"
      },
      "source": [
        "topics = [[(term, round(wt, 3)) \n",
        "               for term, wt in lda_model.show_topic(n, topn=20)] \n",
        "                   for n in range(0, lda_model.num_topics)]\n",
        "\n",
        "topics_df = pd.DataFrame([[term for term, wt in topic] \n",
        "                              for topic in topics], \n",
        "                         columns = ['Term'+str(i) for i in range(1, 21)],\n",
        "                         index=['Topic '+str(t) for t in range(1, lda_model.num_topics+1)]).T\n"
      ],
      "execution_count": 136,
      "outputs": []
    },
    {
      "cell_type": "code",
      "metadata": {
        "colab": {
          "base_uri": "https://localhost:8080/"
        },
        "id": "shmVrxLP8K5l",
        "outputId": "c02f2e5e-cde0-4734-e79d-117ce4d38abb"
      },
      "source": [
        "pd.set_option('display.max_colwidth', -1)\n",
        "topics_df = pd.DataFrame([', '.join([term for term, wt in topic])  \n",
        "                              for topic in topics],\n",
        "                         columns = ['TermsPerTopic'],\n",
        "                         index=['Topic'+str(t) for t in range(1, lda_model.num_topics+1)]\n",
        "                         )\n"
      ],
      "execution_count": 137,
      "outputs": [
        {
          "output_type": "stream",
          "name": "stderr",
          "text": [
            "/usr/local/lib/python3.7/dist-packages/ipykernel_launcher.py:1: FutureWarning:\n",
            "\n",
            "Passing a negative integer is deprecated in version 1.0 and will not be supported in future version. Instead, use None to not limit the column width.\n",
            "\n"
          ]
        }
      ]
    },
    {
      "cell_type": "code",
      "metadata": {
        "colab": {
          "base_uri": "https://localhost:8080/",
          "height": 206
        },
        "id": "gtZLNg7i-V7i",
        "outputId": "a61172a1-4af0-49dc-fff7-49d9186b58c9"
      },
      "source": [
        "titles.head()"
      ],
      "execution_count": 138,
      "outputs": [
        {
          "output_type": "execute_result",
          "data": {
            "text/html": [
              "<div>\n",
              "<style scoped>\n",
              "    .dataframe tbody tr th:only-of-type {\n",
              "        vertical-align: middle;\n",
              "    }\n",
              "\n",
              "    .dataframe tbody tr th {\n",
              "        vertical-align: top;\n",
              "    }\n",
              "\n",
              "    .dataframe thead th {\n",
              "        text-align: right;\n",
              "    }\n",
              "</style>\n",
              "<table border=\"1\" class=\"dataframe\">\n",
              "  <thead>\n",
              "    <tr style=\"text-align: right;\">\n",
              "      <th></th>\n",
              "      <th>id</th>\n",
              "      <th>tune_id</th>\n",
              "      <th>section_id</th>\n",
              "      <th>section_name</th>\n",
              "      <th>title</th>\n",
              "      <th>title_playlist</th>\n",
              "      <th>tune_mode</th>\n",
              "    </tr>\n",
              "  </thead>\n",
              "  <tbody>\n",
              "    <tr>\n",
              "      <th>0</th>\n",
              "      <td>0</td>\n",
              "      <td>0</td>\n",
              "      <td>0</td>\n",
              "      <td>NaN</td>\n",
              "      <td>26-2</td>\n",
              "      <td>26-2 [jazz1350]</td>\n",
              "      <td>major</td>\n",
              "    </tr>\n",
              "    <tr>\n",
              "      <th>1</th>\n",
              "      <td>1</td>\n",
              "      <td>1</td>\n",
              "      <td>0</td>\n",
              "      <td>NaN</td>\n",
              "      <td>500 Miles High</td>\n",
              "      <td>500 Miles High [jazz1350]</td>\n",
              "      <td>minor</td>\n",
              "    </tr>\n",
              "    <tr>\n",
              "      <th>2</th>\n",
              "      <td>2</td>\n",
              "      <td>2</td>\n",
              "      <td>0</td>\n",
              "      <td>NaN</td>\n",
              "      <td>502 Blues</td>\n",
              "      <td>502 Blues [jazz1350]</td>\n",
              "      <td>minor</td>\n",
              "    </tr>\n",
              "    <tr>\n",
              "      <th>3</th>\n",
              "      <td>3</td>\n",
              "      <td>3</td>\n",
              "      <td>0</td>\n",
              "      <td>NaN</td>\n",
              "      <td>52nd Street Theme</td>\n",
              "      <td>52nd Street Theme [jazz1350]</td>\n",
              "      <td>major</td>\n",
              "    </tr>\n",
              "    <tr>\n",
              "      <th>4</th>\n",
              "      <td>4</td>\n",
              "      <td>4</td>\n",
              "      <td>0</td>\n",
              "      <td>NaN</td>\n",
              "      <td>9.20 Special</td>\n",
              "      <td>9.20 Special [jazz1350]</td>\n",
              "      <td>major</td>\n",
              "    </tr>\n",
              "  </tbody>\n",
              "</table>\n",
              "</div>"
            ],
            "text/plain": [
              "   id  tune_id  section_id  section_name              title                title_playlist tune_mode\n",
              "0  0   0        0          NaN            26-2               26-2 [jazz1350]               major   \n",
              "1  1   1        0          NaN            500 Miles High     500 Miles High [jazz1350]     minor   \n",
              "2  2   2        0          NaN            502 Blues          502 Blues [jazz1350]          minor   \n",
              "3  3   3        0          NaN            52nd Street Theme  52nd Street Theme [jazz1350]  major   \n",
              "4  4   4        0          NaN            9.20 Special       9.20 Special [jazz1350]       major   "
            ]
          },
          "metadata": {},
          "execution_count": 138
        }
      ]
    },
    {
      "cell_type": "code",
      "metadata": {
        "id": "gjlC0MRu_zmc"
      },
      "source": [
        "corpus_topics = [sorted(topics[0], key=lambda record: -record[1])[0] for topics in lda_model[corpus] ]"
      ],
      "execution_count": 139,
      "outputs": []
    },
    {
      "cell_type": "code",
      "metadata": {
        "id": "-mmS3ifZ8U0v"
      },
      "source": [
        "corpus_topic_df = pd.DataFrame()\n",
        "corpus_topic_df['Document'] = range(0, len(data))\n",
        "corpus_topic_df['DominantTopic'] = [item[0]+1 for item in corpus_topics]\n",
        "corpus_topic_df['Contribution%'] = [round(item[1]*100, 2) for item in corpus_topics]\n",
        "#corpus_topic_df['TopicDesc'] = [topics_df.iloc[t[0]]['TermsPerTopic'] for t in corpus_topics]\n",
        "corpus_topic_df['Tunes'] = processed_corpus\n",
        "corpus_topic_df['Title'] = titles['title_playlist']\n",
        "corpus_topic_df['Section'] = titles['section_id'].map(str) + '_' + titles['section_name'].map(str)\n"
      ],
      "execution_count": 140,
      "outputs": []
    },
    {
      "cell_type": "code",
      "metadata": {
        "colab": {
          "base_uri": "https://localhost:8080/",
          "height": 1000
        },
        "id": "tt0tw6FF82aY",
        "outputId": "f3838434-a625-46dd-dc4a-e5aaa45e0040"
      },
      "source": [
        "corpus_topic_df.groupby('DominantTopic').apply(lambda topic_set: (topic_set.sort_values(by=['Contribution%'], \n",
        "                                                                                         ascending=False)\n",
        "                                                                             .iloc[0])\n",
        ")\n"
      ],
      "execution_count": 141,
      "outputs": [
        {
          "output_type": "execute_result",
          "data": {
            "text/html": [
              "<div>\n",
              "<style scoped>\n",
              "    .dataframe tbody tr th:only-of-type {\n",
              "        vertical-align: middle;\n",
              "    }\n",
              "\n",
              "    .dataframe tbody tr th {\n",
              "        vertical-align: top;\n",
              "    }\n",
              "\n",
              "    .dataframe thead th {\n",
              "        text-align: right;\n",
              "    }\n",
              "</style>\n",
              "<table border=\"1\" class=\"dataframe\">\n",
              "  <thead>\n",
              "    <tr style=\"text-align: right;\">\n",
              "      <th></th>\n",
              "      <th>Document</th>\n",
              "      <th>DominantTopic</th>\n",
              "      <th>Contribution%</th>\n",
              "      <th>Tunes</th>\n",
              "      <th>Title</th>\n",
              "      <th>Section</th>\n",
              "    </tr>\n",
              "    <tr>\n",
              "      <th>DominantTopic</th>\n",
              "      <th></th>\n",
              "      <th></th>\n",
              "      <th></th>\n",
              "      <th></th>\n",
              "      <th></th>\n",
              "      <th></th>\n",
              "    </tr>\n",
              "  </thead>\n",
              "  <tbody>\n",
              "    <tr>\n",
              "      <th>1</th>\n",
              "      <td>1323</td>\n",
              "      <td>1</td>\n",
              "      <td>62.12</td>\n",
              "      <td>[G#m7b5, C#7, F#m7_B7, Bm7, E7, Am7, F#7, G#m7b5, C#7, F#m7, F#m, Ebm7b5, G#7, D7, C#7, G#m7b5, C#7, F#m7_B7, Bm7, E7, G7, F#7, Bm7, G7, C#7, F#7, F7, E7, Am7, B, Bb]</td>\n",
              "      <td>You Won't Forget Me [jazz1350]</td>\n",
              "      <td>0_nan</td>\n",
              "    </tr>\n",
              "    <tr>\n",
              "      <th>2</th>\n",
              "      <td>1128</td>\n",
              "      <td>2</td>\n",
              "      <td>56.97</td>\n",
              "      <td>[Am7, Bm7b5, Am7, Bm7b5, Am7, Bm7b5, Am7, Bm7b5, Am7, Bm7b5, Am7, Bm7b5, Am7, Bm7b5, Am7, Bm7b5, Am7, Bm7b5, Am7, Bm7b5, Am7, Bm7b5, Am7, A7, Dm7, Dm7, E7, E7, FM7, FM7, Bm7b5, E7(+b5), Am7, Bm7b5, Am7, Bm7b5, Am7, Bm7b5, Am7, Bm7b5]</td>\n",
              "      <td>Sunshower [jazz1350]</td>\n",
              "      <td>0_nan</td>\n",
              "    </tr>\n",
              "    <tr>\n",
              "      <th>3</th>\n",
              "      <td>382</td>\n",
              "      <td>3</td>\n",
              "      <td>71.57</td>\n",
              "      <td>[Am, Am, Am, Am, Am, Am, E7, Am, Am, Am, Am, Am, Am, Am, E7, Am, E7, Am, E7, Am, E7, Am, E7, Am]</td>\n",
              "      <td>Fever [jazz1350]</td>\n",
              "      <td>0_nan</td>\n",
              "    </tr>\n",
              "    <tr>\n",
              "      <th>4</th>\n",
              "      <td>1398</td>\n",
              "      <td>4</td>\n",
              "      <td>98.56</td>\n",
              "      <td>[C, C, C, C, C, G7, C, C7, F, F, C, C, G7, G7, C, C, F, F, C, C, G7, G7, C, C, G7, G7, C, C, G7, G7, C, C, G7, G7, C, C7, F, F#dim7, C, A7, D7, G7, C, F, F, C, C, G7, G7, C, C, G7, G7, C, C, G7, G7, C, C, C, C, C, C, C, G7, C]</td>\n",
              "      <td>Bogalusa Strut [trad]</td>\n",
              "      <td>0_nan</td>\n",
              "    </tr>\n",
              "    <tr>\n",
              "      <th>5</th>\n",
              "      <td>1106</td>\n",
              "      <td>5</td>\n",
              "      <td>50.73</td>\n",
              "      <td>[C7, Bb7, C7, Bb7, C7, Bb7, C7, Bb7, C7, Bb7, C7, Bb7, C7, Bb7, C7, Bb7, C7, Bb7, C7, Bb7, C7, Bb7, C7, Bb7]</td>\n",
              "      <td>Straight Life [jazz1350]</td>\n",
              "      <td>0_nan</td>\n",
              "    </tr>\n",
              "    <tr>\n",
              "      <th>6</th>\n",
              "      <td>1149</td>\n",
              "      <td>6</td>\n",
              "      <td>98.64</td>\n",
              "      <td>[GM7, GM7, F#m7, F#m7, GM7, GM7, F#m7, F#m7, GM7, GM7, F#m7, F#m7, GM7, F#m7, CM7, CM7, BM7, GM7, EM7, CM7, BM7, GM7, EM7, CM7, F#m7_B7, EM7, E7, Eb7, DM7, C#7, CM7, CM7, BM7, GM7, EM7, CM7, BM7, GM7, EM7, CM7, B7, Bb7, A7, G#m7, Em7, C#m7, Ebm7, Em7, F#m7, GM7, GM7, F#m7, F#m7, Em7, A13, DM7, CM7, BM7, GM7, EM7, CM7, BM7, GM7, EM7, CM7, EM7, CM7, BM7, GM7, EM7, CM7, BM7, GM7, EM7, CM7, BM7]</td>\n",
              "      <td>Tell me a bedtime story [jazz1350]</td>\n",
              "      <td>0_nan</td>\n",
              "    </tr>\n",
              "    <tr>\n",
              "      <th>7</th>\n",
              "      <td>346</td>\n",
              "      <td>7</td>\n",
              "      <td>97.60</td>\n",
              "      <td>[Dm7_G7, Em7, Am7, Dm7_G7, CM7, Em7, Dm7_G7, Em7, Am7, Dm7_G7, CM7, A7, Dm7_G7, Em7, Am7, Dm7_G7, CM7, Em7, Dm7_G7, Em7, Am7, Dm7_G7, CM7, Gm7_C7, FM7, FM7, Am7, D7, Dm7_G7, A7, Dm7_G7, Em7, Am7, Dm7_G7, CM7, Em7, Dm7_G7, Em7, Am7, Dm7_G7, CM7, A7]</td>\n",
              "      <td>Eclypso [jazz1350]</td>\n",
              "      <td>0_nan</td>\n",
              "    </tr>\n",
              "    <tr>\n",
              "      <th>8</th>\n",
              "      <td>766</td>\n",
              "      <td>8</td>\n",
              "      <td>97.15</td>\n",
              "      <td>[A7, G6, A7, G6, A7, G6, A7, G6, A7, G6, A7, G6, A7, G6, A7, G6, FM7, G6, FM7, G6, FM7, G6, FM7, G6, F#7, Gm7_C7, FM7, Fm7_Bb7, A7, G6, A7, G6, A7, G6, A7, G6]</td>\n",
              "      <td>Mahjong [jazz1350]</td>\n",
              "      <td>0_nan</td>\n",
              "    </tr>\n",
              "    <tr>\n",
              "      <th>9</th>\n",
              "      <td>269</td>\n",
              "      <td>9</td>\n",
              "      <td>65.83</td>\n",
              "      <td>[B7, B7, B7, B7, B7, B7, B7, B7, B7, B7, C#7, C#7, C7, C7, B7, B7, Bb7, Bb7, A7, F#7, Bm, F#7, Bm, F#7, B7, B7, B7, B7, B7, B7, C#7, C#7, C7, C7, B7, B7, Bb7, Bb7, A7, Bm, G7, C#m7b5_F#7, Bm, G#m, C#7, Ebm, D7, C#m, F#7, B7, B7, C#7, C#7, C7, C7, B7, B7, Bb7, Bb7, A7, F#7, Bm, F#7, Bm_Bm, Bm, F#7]</td>\n",
              "      <td>Crisis [jazz1350]</td>\n",
              "      <td>0_nan</td>\n",
              "    </tr>\n",
              "    <tr>\n",
              "      <th>10</th>\n",
              "      <td>490</td>\n",
              "      <td>10</td>\n",
              "      <td>96.48</td>\n",
              "      <td>[CM7, Ebdim7, Dm7_G7, CM7, Ebdim7, Dm7_G7, CM7, Gm7_C7, FM7, FM7, D7, D7, Dm7_G7, CM7, Ebdim7, Dm7_G7, CM7, Gm7_C7, FM7, FM7, FM7, F#dim7, CM7, A7, Dm7_G7, C6, A7, Dm7_G7]</td>\n",
              "      <td>I Can't Give You Anything But Love [jazz1350]</td>\n",
              "      <td>0_nan</td>\n",
              "    </tr>\n",
              "    <tr>\n",
              "      <th>11</th>\n",
              "      <td>1085</td>\n",
              "      <td>11</td>\n",
              "      <td>73.32</td>\n",
              "      <td>[D7, G7, F6, Fm6, CM7, F#7(+b5), B7(+b5), E7, Am7, Am7, F#m7b5, F7, Em7, F#7, FM7, F#m7b5_B7, Em7, A7, Dm7, A7, Dm7_G7, CM7, FM7, Em7b5, A7, D7, G7, F6, Fm6, CM7, F#7(+b5), B7(+b5), E7, Am7, Am7, F#m7b5, F7, Em7, F#7, FM7, F#m7b5_B7, Bb7, A7, F#m7b5, Fm6, Em7, Em7b5, D7, G7, D, D]</td>\n",
              "      <td>Souvenir [jazz1350]</td>\n",
              "      <td>0_nan</td>\n",
              "    </tr>\n",
              "    <tr>\n",
              "      <th>12</th>\n",
              "      <td>1513</td>\n",
              "      <td>12</td>\n",
              "      <td>97.06</td>\n",
              "      <td>[C, C, Ebdim, Dm7_G7, Dm7_G7, C, C, C, Ebdim, Dm7_G7, C, G, C, Dm7_G7, C, C, Ebdim, Dm7_G7, Dm7_G7, Am, C7, F, F, F#dim, C, Dm7_G7, C, F, C, F, C, Dm7_G7, C, C]</td>\n",
              "      <td>I'm Just Wild About Harry [trad]</td>\n",
              "      <td>0_nan</td>\n",
              "    </tr>\n",
              "    <tr>\n",
              "      <th>13</th>\n",
              "      <td>440</td>\n",
              "      <td>13</td>\n",
              "      <td>55.62</td>\n",
              "      <td>[G#7, G#7, G7, G#7, G7, Cm7, Cm7, Am7b5, G#7, Cm7, G#7, G7, Cm7, Dm7b5, G#7, G7, C#7, CM7, Dm7b5, G7, G#7, G#7, G7, G#7, G7, Cm7, Cm7, Am7b5, G#7, Cm7, G#7, G7, Cm7, Dm7b5, G#7, G7, C#7, CM7, Bb7, A7, Dm7_G7, C6, C6, Fm7_Bb7, EbM7, Dm7b5, G7]</td>\n",
              "      <td>Goodbye [jazz1350]</td>\n",
              "      <td>0_nan</td>\n",
              "    </tr>\n",
              "    <tr>\n",
              "      <th>14</th>\n",
              "      <td>794</td>\n",
              "      <td>14</td>\n",
              "      <td>96.97</td>\n",
              "      <td>[Am7, Am7, Am7, Am7, Am7, Am7, Am7, Am7, Am7, Am7, Am7, Am7, Am7, Am7, Am7, Am7, Bm_Bm, Bm_Bm, Bm_Bm, Bm_Bm, Bm_Bm, Bm_Bm, Bm_Bm, Bm_Bm, Am7, Am7, Am7, Am7, Am7, Am7, Am7, Am7]</td>\n",
              "      <td>Milestones (New) [jazz1350]</td>\n",
              "      <td>0_nan</td>\n",
              "    </tr>\n",
              "    <tr>\n",
              "      <th>15</th>\n",
              "      <td>22</td>\n",
              "      <td>15</td>\n",
              "      <td>51.06</td>\n",
              "      <td>[F#dim7, F6, C6, C6, F#dim7, F6, C6, C6, F#dim7, F6, C6, C6, D7, G7, C6, F#dim7, F6, C6, C6, F#dim7, F6, C6, C6, F#dim7, F6, C6, C6, D7, G7, C6, C7, F6, F#dim7, C6, Gm7_C7, F6, F#dim7, C6, A7, Dm7b5, G7, F#dim7, F6, C6, C6, F#dim7, F6, C6, C6, F#dim7, F6, C6, C6, D7, G7, C6]</td>\n",
              "      <td>A Smooth One [jazz1350]</td>\n",
              "      <td>0_nan</td>\n",
              "    </tr>\n",
              "    <tr>\n",
              "      <th>16</th>\n",
              "      <td>1087</td>\n",
              "      <td>16</td>\n",
              "      <td>64.50</td>\n",
              "      <td>[C#7(+b5)_C#7(+b5), G#7(+b5), E7, Am7, Bb13, Bb7, Bbm7, Eb13, G#13, G#13, G#13, G7(+b5), G7(+b5), F#M7, F#M7, F#dim7, F#dim7, Eb7, Eb13, Ebm7, D7, C#7(+b5), C7, FM7, Bbm7, Am7, E7, Am7, E7, C#7(+b5)_C#7(+b5), G#7(+b5), E7, Am7b5, Bb13, Bb7, A7, A13, G#13, G#13, G7(+b5), G7(+b5), F#M7, F#M7, F#dim7, F#dim7, Fm, C#M7, C#M7, F#M7, F#M7, C, Bb, C, Bbm7, Am7, E7, C, Bb, C, Bbm7]</td>\n",
              "      <td>Speak Like A Child [jazz1350]</td>\n",
              "      <td>0_nan</td>\n",
              "    </tr>\n",
              "    <tr>\n",
              "      <th>17</th>\n",
              "      <td>277</td>\n",
              "      <td>17</td>\n",
              "      <td>80.10</td>\n",
              "      <td>[CM7, Cm7, F7, Em7, Dm7, C#m7_F#7, Cm7, F7, Em7, A7, Ebm7_G#7, Dm7, G#m7_C#7, CM7, CM7, CM7, CM7, CM7, Cm7, F7, Em7, Dm7, C#m7_F#7, Cm7, F7, Em7, A7, Ebm7_G#7, Dm7, G#m7_C#7, CM7, CM7, CM7, CM7, CM7, Cm7, F7, Em7, Dm7, C#m7_F#7, Cm7, F7, Em7, A7, Ebm7_G#7, Dm7, G#m7_C#7, CM7, CM7]</td>\n",
              "      <td>Dance Of The Infidels [jazz1350]</td>\n",
              "      <td>0_nan</td>\n",
              "    </tr>\n",
              "    <tr>\n",
              "      <th>18</th>\n",
              "      <td>890</td>\n",
              "      <td>18</td>\n",
              "      <td>90.78</td>\n",
              "      <td>[Am6, Eb7, G#7, C#m7, C7, FM7, E7, Am6, C13, E13_E13, Am6, Eb7, G#7, C#m7, C7, FM7, E7, Am6, C13, E13_E13, EbM7, E7, Cm7, F7, C#m7_F#7, F#m7_B7, B7, E13_E13, Am6, Eb7, G#7, C#m7, C7, FM7, E7, Am6, C13, E13_E13]</td>\n",
              "      <td>Off Minor [jazz1350]</td>\n",
              "      <td>0_nan</td>\n",
              "    </tr>\n",
              "    <tr>\n",
              "      <th>19</th>\n",
              "      <td>650</td>\n",
              "      <td>19</td>\n",
              "      <td>74.12</td>\n",
              "      <td>[Cm7, Cm7, Cm7, Cm7, Cm7, Cm7, Cm7, Cm7, Bbm7_Eb7, G#M7, C#7, Dm7_G7, CM7, G7, Cm7, Cm7, Cm7, Cm7, Cm7, Cm7, Cm7, Cm7, Bbm7_Eb7, G#M7, C#7, Dm7_G7, CM7, Gm7_C7, FM7, Bm7b5_E7, AM7, AM7, Am7, D7, Dm7_G7, Cm7, Cm7, Cm7, Cm7, Cm7, Cm7, Cm7, Cm7, Bbm7_Eb7, G#M7, C#7, Dm7_G7, CM7, G7]</td>\n",
              "      <td>Jeannine [jazz1350]</td>\n",
              "      <td>0_nan</td>\n",
              "    </tr>\n",
              "    <tr>\n",
              "      <th>20</th>\n",
              "      <td>764</td>\n",
              "      <td>20</td>\n",
              "      <td>97.86</td>\n",
              "      <td>[G#, G#, E, E, C, C, G#, G#, G, G, Eb, Eb, B, B, G, G, F#, Bb, D, C, F#, F#, F#, F#, A, A, F, F, C#, C#, A, A, G#, G#, E, E, C, C, G#, G#, G, B, Eb, C#, G, Bb, Dm7, Dm7]</td>\n",
              "      <td>Ma Belle Hélène [jazz1350]</td>\n",
              "      <td>0_nan</td>\n",
              "    </tr>\n",
              "    <tr>\n",
              "      <th>21</th>\n",
              "      <td>274</td>\n",
              "      <td>21</td>\n",
              "      <td>82.18</td>\n",
              "      <td>[Bbm7, C#m7, Em7, Gm7, Cm7, D7, Gm7, A7, Dm7, Bm7, G#m7, Fm7, Dm7, Eb, Ebm7, F#m7]</td>\n",
              "      <td>Cyclic Episode [jazz1350]</td>\n",
              "      <td>0_nan</td>\n",
              "    </tr>\n",
              "    <tr>\n",
              "      <th>22</th>\n",
              "      <td>900</td>\n",
              "      <td>22</td>\n",
              "      <td>67.10</td>\n",
              "      <td>[F7, F7, F7, F7, Eb7, Eb7, Eb7, Eb7, EmM7_EmM7, EmM7_EmM7, F7, F7, F7, F7, Eb7, Eb7, Eb7, Eb7, Em7, F#m7, Em7, F#m7, Em7, F#m7, Em7, Gm7, F#7]</td>\n",
              "      <td>Oliloqui Valley [jazz1350]</td>\n",
              "      <td>0_nan</td>\n",
              "    </tr>\n",
              "    <tr>\n",
              "      <th>23</th>\n",
              "      <td>123</td>\n",
              "      <td>23</td>\n",
              "      <td>95.21</td>\n",
              "      <td>[Am6_Am6, Dm6, Dm6, Dm6, A7, Bm7b5_E7, Am6_Am6, Em7b5, A7, Dm6, Dm6, Am6, F#m7b5_B7, E7, Am6_Am6, Dm6, Am6, Bm7b5_E7, Am6, A7, Dm6, Am6, B7, F7, E7, Am6_Am6, Dm6, Dm6, Dm6, A7, Bm7b5_E7, Am6_Am6, Em7b5, A7, Dm6, Dm6, Am6, F#m7b5_B7, E7, Am6_Am6]</td>\n",
              "      <td>Besame Mucho [jazz1350]</td>\n",
              "      <td>0_nan</td>\n",
              "    </tr>\n",
              "    <tr>\n",
              "      <th>24</th>\n",
              "      <td>220</td>\n",
              "      <td>24</td>\n",
              "      <td>59.07</td>\n",
              "      <td>[E7, E7, E7, E7, E7, E7, E7, E7, E7, E7, E7, E7, Am, Am, Am, Am, E7, E7, E7, E7, E7, E7, E7, E7, E7, E7, E7, E7, Am, Am, Am, Am, A7, A7, A7, A7, D7, D7, D7, D7, G7, G7, G7, G7, C6, C6, B7, F7]</td>\n",
              "      <td>Caravan [jazz1350]</td>\n",
              "      <td>0_nan</td>\n",
              "    </tr>\n",
              "    <tr>\n",
              "      <th>25</th>\n",
              "      <td>739</td>\n",
              "      <td>25</td>\n",
              "      <td>77.86</td>\n",
              "      <td>[Am7, Bm7, CM7, Bm7, Am7, Bm7, CM7, Bm7, Am7, Bm7, CM7, Bm7, Am7, Bm7, CM7, Bm7, Am7, G7, CM7, FM7, F7, F#7, F7, E7, Am7, Bm7, CM7, E7, Am7, Bm7, CM7, Bm7]</td>\n",
              "      <td>Lonnie's Lament [jazz1350]</td>\n",
              "      <td>0_nan</td>\n",
              "    </tr>\n",
              "    <tr>\n",
              "      <th>26</th>\n",
              "      <td>1404</td>\n",
              "      <td>26</td>\n",
              "      <td>74.71</td>\n",
              "      <td>[F, F7, Bb, Bb, F, F, G7, C7, F, F7, Bb, Bb, F, C7, F, C7, F]</td>\n",
              "      <td>Brownskin Mama [trad]</td>\n",
              "      <td>0_nan</td>\n",
              "    </tr>\n",
              "    <tr>\n",
              "      <th>27</th>\n",
              "      <td>595</td>\n",
              "      <td>27</td>\n",
              "      <td>92.95</td>\n",
              "      <td>[C7, C7, C7, C7, C7, C7, C7, C7, C7, C7, C7, C7, C7, C7, C7, C7, C7, C7, C7, C7, C7, C7, C7, C7, F#7, G7, Cm7, Cm7, F#7, G7, G#7, G7, C7, C7, C7, C7, C7, C7, C7, C7]</td>\n",
              "      <td>In Pursuit Of The 27th Man [jazz1350]</td>\n",
              "      <td>0_nan</td>\n",
              "    </tr>\n",
              "    <tr>\n",
              "      <th>28</th>\n",
              "      <td>846</td>\n",
              "      <td>28</td>\n",
              "      <td>97.39</td>\n",
              "      <td>[Dm7_G7, CM7, Dm7_G7, CM7, Dm7_G7, Em7, A7, Dm7_G7, CM7, Dm7_G7, CM7, Dm7_G7, CM7, Dm7_G7, Em7, A7, Dm7_G7, CM7, FM7, Em7, A7, Dm7_G7, CM7, FM7, Em7, A7, Dm7_G7, CM7, Dm7_G7, CM7, Dm7_G7, CM7, Dm7_G7, Em7, A7, Dm7_G7, CM7]</td>\n",
              "      <td>My Little Suede Shoes [jazz1350]</td>\n",
              "      <td>0_nan</td>\n",
              "    </tr>\n",
              "    <tr>\n",
              "      <th>29</th>\n",
              "      <td>1164</td>\n",
              "      <td>29</td>\n",
              "      <td>91.43</td>\n",
              "      <td>[A7, A7, D7, D7, E7, A7, D7, D7, G7, A7, A7, D7, D7, E7, A7, D7, G7, C6, A7, D7, G7, C6, B7, Bb7]</td>\n",
              "      <td>There'll Be Some Changes Made [jazz1350]</td>\n",
              "      <td>0_nan</td>\n",
              "    </tr>\n",
              "    <tr>\n",
              "      <th>30</th>\n",
              "      <td>98</td>\n",
              "      <td>30</td>\n",
              "      <td>96.55</td>\n",
              "      <td>[Dm7, Dm7_G7, G7, C6, C6, C6, A7, Dm7, Dm7_G7, G7, C6, C6, C6, C6, Em7, Em7, A7, A7, Dm7, Dm7, Fm7_Bb7, C6, C6, A7, A7, Dm7_G7, C6, C6]</td>\n",
              "      <td>Avalon [jazz1350]</td>\n",
              "      <td>0_nan</td>\n",
              "    </tr>\n",
              "  </tbody>\n",
              "</table>\n",
              "</div>"
            ],
            "text/plain": [
              "               Document  DominantTopic  Contribution%                                                                                                                                                                                                                                                                                                                                                                                                       Tunes                                          Title Section\n",
              "DominantTopic                                                                                                                                                                                                                                                                                                                                                                                                                                                                                                           \n",
              "1              1323      1              62.12          [G#m7b5, C#7, F#m7_B7, Bm7, E7, Am7, F#7, G#m7b5, C#7, F#m7, F#m, Ebm7b5, G#7, D7, C#7, G#m7b5, C#7, F#m7_B7, Bm7, E7, G7, F#7, Bm7, G7, C#7, F#7, F7, E7, Am7, B, Bb]                                                                                                                                                                                                                                      You Won't Forget Me [jazz1350]                 0_nan \n",
              "2              1128      2              56.97          [Am7, Bm7b5, Am7, Bm7b5, Am7, Bm7b5, Am7, Bm7b5, Am7, Bm7b5, Am7, Bm7b5, Am7, Bm7b5, Am7, Bm7b5, Am7, Bm7b5, Am7, Bm7b5, Am7, Bm7b5, Am7, A7, Dm7, Dm7, E7, E7, FM7, FM7, Bm7b5, E7(+b5), Am7, Bm7b5, Am7, Bm7b5, Am7, Bm7b5, Am7, Bm7b5]                                                                                                                                                                   Sunshower [jazz1350]                           0_nan \n",
              "3              382       3              71.57          [Am, Am, Am, Am, Am, Am, E7, Am, Am, Am, Am, Am, Am, Am, E7, Am, E7, Am, E7, Am, E7, Am, E7, Am]                                                                                                                                                                                                                                                                                                            Fever [jazz1350]                               0_nan \n",
              "4              1398      4              98.56          [C, C, C, C, C, G7, C, C7, F, F, C, C, G7, G7, C, C, F, F, C, C, G7, G7, C, C, G7, G7, C, C, G7, G7, C, C, G7, G7, C, C7, F, F#dim7, C, A7, D7, G7, C, F, F, C, C, G7, G7, C, C, G7, G7, C, C, G7, G7, C, C, C, C, C, C, C, G7, C]                                                                                                                                                                          Bogalusa Strut [trad]                          0_nan \n",
              "5              1106      5              50.73          [C7, Bb7, C7, Bb7, C7, Bb7, C7, Bb7, C7, Bb7, C7, Bb7, C7, Bb7, C7, Bb7, C7, Bb7, C7, Bb7, C7, Bb7, C7, Bb7]                                                                                                                                                                                                                                                                                                Straight Life [jazz1350]                       0_nan \n",
              "6              1149      6              98.64          [GM7, GM7, F#m7, F#m7, GM7, GM7, F#m7, F#m7, GM7, GM7, F#m7, F#m7, GM7, F#m7, CM7, CM7, BM7, GM7, EM7, CM7, BM7, GM7, EM7, CM7, F#m7_B7, EM7, E7, Eb7, DM7, C#7, CM7, CM7, BM7, GM7, EM7, CM7, BM7, GM7, EM7, CM7, B7, Bb7, A7, G#m7, Em7, C#m7, Ebm7, Em7, F#m7, GM7, GM7, F#m7, F#m7, Em7, A13, DM7, CM7, BM7, GM7, EM7, CM7, BM7, GM7, EM7, CM7, EM7, CM7, BM7, GM7, EM7, CM7, BM7, GM7, EM7, CM7, BM7]  Tell me a bedtime story [jazz1350]             0_nan \n",
              "7              346       7              97.60          [Dm7_G7, Em7, Am7, Dm7_G7, CM7, Em7, Dm7_G7, Em7, Am7, Dm7_G7, CM7, A7, Dm7_G7, Em7, Am7, Dm7_G7, CM7, Em7, Dm7_G7, Em7, Am7, Dm7_G7, CM7, Gm7_C7, FM7, FM7, Am7, D7, Dm7_G7, A7, Dm7_G7, Em7, Am7, Dm7_G7, CM7, Em7, Dm7_G7, Em7, Am7, Dm7_G7, CM7, A7]                                                                                                                                                    Eclypso [jazz1350]                             0_nan \n",
              "8              766       8              97.15          [A7, G6, A7, G6, A7, G6, A7, G6, A7, G6, A7, G6, A7, G6, A7, G6, FM7, G6, FM7, G6, FM7, G6, FM7, G6, F#7, Gm7_C7, FM7, Fm7_Bb7, A7, G6, A7, G6, A7, G6, A7, G6]                                                                                                                                                                                                                                             Mahjong [jazz1350]                             0_nan \n",
              "9              269       9              65.83          [B7, B7, B7, B7, B7, B7, B7, B7, B7, B7, C#7, C#7, C7, C7, B7, B7, Bb7, Bb7, A7, F#7, Bm, F#7, Bm, F#7, B7, B7, B7, B7, B7, B7, C#7, C#7, C7, C7, B7, B7, Bb7, Bb7, A7, Bm, G7, C#m7b5_F#7, Bm, G#m, C#7, Ebm, D7, C#m, F#7, B7, B7, C#7, C#7, C7, C7, B7, B7, Bb7, Bb7, A7, F#7, Bm, F#7, Bm_Bm, Bm, F#7]                                                                                                  Crisis [jazz1350]                              0_nan \n",
              "10             490       10             96.48          [CM7, Ebdim7, Dm7_G7, CM7, Ebdim7, Dm7_G7, CM7, Gm7_C7, FM7, FM7, D7, D7, Dm7_G7, CM7, Ebdim7, Dm7_G7, CM7, Gm7_C7, FM7, FM7, FM7, F#dim7, CM7, A7, Dm7_G7, C6, A7, Dm7_G7]                                                                                                                                                                                                                                 I Can't Give You Anything But Love [jazz1350]  0_nan \n",
              "11             1085      11             73.32          [D7, G7, F6, Fm6, CM7, F#7(+b5), B7(+b5), E7, Am7, Am7, F#m7b5, F7, Em7, F#7, FM7, F#m7b5_B7, Em7, A7, Dm7, A7, Dm7_G7, CM7, FM7, Em7b5, A7, D7, G7, F6, Fm6, CM7, F#7(+b5), B7(+b5), E7, Am7, Am7, F#m7b5, F7, Em7, F#7, FM7, F#m7b5_B7, Bb7, A7, F#m7b5, Fm6, Em7, Em7b5, D7, G7, D, D]                                                                                                                   Souvenir [jazz1350]                            0_nan \n",
              "12             1513      12             97.06          [C, C, Ebdim, Dm7_G7, Dm7_G7, C, C, C, Ebdim, Dm7_G7, C, G, C, Dm7_G7, C, C, Ebdim, Dm7_G7, Dm7_G7, Am, C7, F, F, F#dim, C, Dm7_G7, C, F, C, F, C, Dm7_G7, C, C]                                                                                                                                                                                                                                            I'm Just Wild About Harry [trad]               0_nan \n",
              "13             440       13             55.62          [G#7, G#7, G7, G#7, G7, Cm7, Cm7, Am7b5, G#7, Cm7, G#7, G7, Cm7, Dm7b5, G#7, G7, C#7, CM7, Dm7b5, G7, G#7, G#7, G7, G#7, G7, Cm7, Cm7, Am7b5, G#7, Cm7, G#7, G7, Cm7, Dm7b5, G#7, G7, C#7, CM7, Bb7, A7, Dm7_G7, C6, C6, Fm7_Bb7, EbM7, Dm7b5, G7]                                                                                                                                                          Goodbye [jazz1350]                             0_nan \n",
              "14             794       14             96.97          [Am7, Am7, Am7, Am7, Am7, Am7, Am7, Am7, Am7, Am7, Am7, Am7, Am7, Am7, Am7, Am7, Bm_Bm, Bm_Bm, Bm_Bm, Bm_Bm, Bm_Bm, Bm_Bm, Bm_Bm, Bm_Bm, Am7, Am7, Am7, Am7, Am7, Am7, Am7, Am7]                                                                                                                                                                                                                            Milestones (New) [jazz1350]                    0_nan \n",
              "15             22        15             51.06          [F#dim7, F6, C6, C6, F#dim7, F6, C6, C6, F#dim7, F6, C6, C6, D7, G7, C6, F#dim7, F6, C6, C6, F#dim7, F6, C6, C6, F#dim7, F6, C6, C6, D7, G7, C6, C7, F6, F#dim7, C6, Gm7_C7, F6, F#dim7, C6, A7, Dm7b5, G7, F#dim7, F6, C6, C6, F#dim7, F6, C6, C6, F#dim7, F6, C6, C6, D7, G7, C6]                                                                                                                         A Smooth One [jazz1350]                        0_nan \n",
              "16             1087      16             64.50          [C#7(+b5)_C#7(+b5), G#7(+b5), E7, Am7, Bb13, Bb7, Bbm7, Eb13, G#13, G#13, G#13, G7(+b5), G7(+b5), F#M7, F#M7, F#dim7, F#dim7, Eb7, Eb13, Ebm7, D7, C#7(+b5), C7, FM7, Bbm7, Am7, E7, Am7, E7, C#7(+b5)_C#7(+b5), G#7(+b5), E7, Am7b5, Bb13, Bb7, A7, A13, G#13, G#13, G7(+b5), G7(+b5), F#M7, F#M7, F#dim7, F#dim7, Fm, C#M7, C#M7, F#M7, F#M7, C, Bb, C, Bbm7, Am7, E7, C, Bb, C, Bbm7]                    Speak Like A Child [jazz1350]                  0_nan \n",
              "17             277       17             80.10          [CM7, Cm7, F7, Em7, Dm7, C#m7_F#7, Cm7, F7, Em7, A7, Ebm7_G#7, Dm7, G#m7_C#7, CM7, CM7, CM7, CM7, CM7, Cm7, F7, Em7, Dm7, C#m7_F#7, Cm7, F7, Em7, A7, Ebm7_G#7, Dm7, G#m7_C#7, CM7, CM7, CM7, CM7, CM7, Cm7, F7, Em7, Dm7, C#m7_F#7, Cm7, F7, Em7, A7, Ebm7_G#7, Dm7, G#m7_C#7, CM7, CM7]                                                                                                                   Dance Of The Infidels [jazz1350]               0_nan \n",
              "18             890       18             90.78          [Am6, Eb7, G#7, C#m7, C7, FM7, E7, Am6, C13, E13_E13, Am6, Eb7, G#7, C#m7, C7, FM7, E7, Am6, C13, E13_E13, EbM7, E7, Cm7, F7, C#m7_F#7, F#m7_B7, B7, E13_E13, Am6, Eb7, G#7, C#m7, C7, FM7, E7, Am6, C13, E13_E13]                                                                                                                                                                                          Off Minor [jazz1350]                           0_nan \n",
              "19             650       19             74.12          [Cm7, Cm7, Cm7, Cm7, Cm7, Cm7, Cm7, Cm7, Bbm7_Eb7, G#M7, C#7, Dm7_G7, CM7, G7, Cm7, Cm7, Cm7, Cm7, Cm7, Cm7, Cm7, Cm7, Bbm7_Eb7, G#M7, C#7, Dm7_G7, CM7, Gm7_C7, FM7, Bm7b5_E7, AM7, AM7, Am7, D7, Dm7_G7, Cm7, Cm7, Cm7, Cm7, Cm7, Cm7, Cm7, Cm7, Bbm7_Eb7, G#M7, C#7, Dm7_G7, CM7, G7]                                                                                                                    Jeannine [jazz1350]                            0_nan \n",
              "20             764       20             97.86          [G#, G#, E, E, C, C, G#, G#, G, G, Eb, Eb, B, B, G, G, F#, Bb, D, C, F#, F#, F#, F#, A, A, F, F, C#, C#, A, A, G#, G#, E, E, C, C, G#, G#, G, B, Eb, C#, G, Bb, Dm7, Dm7]                                                                                                                                                                                                                                   Ma Belle Hélène [jazz1350]                     0_nan \n",
              "21             274       21             82.18          [Bbm7, C#m7, Em7, Gm7, Cm7, D7, Gm7, A7, Dm7, Bm7, G#m7, Fm7, Dm7, Eb, Ebm7, F#m7]                                                                                                                                                                                                                                                                                                                          Cyclic Episode [jazz1350]                      0_nan \n",
              "22             900       22             67.10          [F7, F7, F7, F7, Eb7, Eb7, Eb7, Eb7, EmM7_EmM7, EmM7_EmM7, F7, F7, F7, F7, Eb7, Eb7, Eb7, Eb7, Em7, F#m7, Em7, F#m7, Em7, F#m7, Em7, Gm7, F#7]                                                                                                                                                                                                                                                              Oliloqui Valley [jazz1350]                     0_nan \n",
              "23             123       23             95.21          [Am6_Am6, Dm6, Dm6, Dm6, A7, Bm7b5_E7, Am6_Am6, Em7b5, A7, Dm6, Dm6, Am6, F#m7b5_B7, E7, Am6_Am6, Dm6, Am6, Bm7b5_E7, Am6, A7, Dm6, Am6, B7, F7, E7, Am6_Am6, Dm6, Dm6, Dm6, A7, Bm7b5_E7, Am6_Am6, Em7b5, A7, Dm6, Dm6, Am6, F#m7b5_B7, E7, Am6_Am6]                                                                                                                                                       Besame Mucho [jazz1350]                        0_nan \n",
              "24             220       24             59.07          [E7, E7, E7, E7, E7, E7, E7, E7, E7, E7, E7, E7, Am, Am, Am, Am, E7, E7, E7, E7, E7, E7, E7, E7, E7, E7, E7, E7, Am, Am, Am, Am, A7, A7, A7, A7, D7, D7, D7, D7, G7, G7, G7, G7, C6, C6, B7, F7]                                                                                                                                                                                                            Caravan [jazz1350]                             0_nan \n",
              "25             739       25             77.86          [Am7, Bm7, CM7, Bm7, Am7, Bm7, CM7, Bm7, Am7, Bm7, CM7, Bm7, Am7, Bm7, CM7, Bm7, Am7, G7, CM7, FM7, F7, F#7, F7, E7, Am7, Bm7, CM7, E7, Am7, Bm7, CM7, Bm7]                                                                                                                                                                                                                                                 Lonnie's Lament [jazz1350]                     0_nan \n",
              "26             1404      26             74.71          [F, F7, Bb, Bb, F, F, G7, C7, F, F7, Bb, Bb, F, C7, F, C7, F]                                                                                                                                                                                                                                                                                                                                               Brownskin Mama [trad]                          0_nan \n",
              "27             595       27             92.95          [C7, C7, C7, C7, C7, C7, C7, C7, C7, C7, C7, C7, C7, C7, C7, C7, C7, C7, C7, C7, C7, C7, C7, C7, F#7, G7, Cm7, Cm7, F#7, G7, G#7, G7, C7, C7, C7, C7, C7, C7, C7, C7]                                                                                                                                                                                                                                       In Pursuit Of The 27th Man [jazz1350]          0_nan \n",
              "28             846       28             97.39          [Dm7_G7, CM7, Dm7_G7, CM7, Dm7_G7, Em7, A7, Dm7_G7, CM7, Dm7_G7, CM7, Dm7_G7, CM7, Dm7_G7, Em7, A7, Dm7_G7, CM7, FM7, Em7, A7, Dm7_G7, CM7, FM7, Em7, A7, Dm7_G7, CM7, Dm7_G7, CM7, Dm7_G7, CM7, Dm7_G7, Em7, A7, Dm7_G7, CM7]                                                                                                                                                                              My Little Suede Shoes [jazz1350]               0_nan \n",
              "29             1164      29             91.43          [A7, A7, D7, D7, E7, A7, D7, D7, G7, A7, A7, D7, D7, E7, A7, D7, G7, C6, A7, D7, G7, C6, B7, Bb7]                                                                                                                                                                                                                                                                                                           There'll Be Some Changes Made [jazz1350]       0_nan \n",
              "30             98        30             96.55          [Dm7, Dm7_G7, G7, C6, C6, C6, A7, Dm7, Dm7_G7, G7, C6, C6, C6, C6, Em7, Em7, A7, A7, Dm7, Dm7, Fm7_Bb7, C6, C6, A7, A7, Dm7_G7, C6, C6]                                                                                                                                                                                                                                                                     Avalon [jazz1350]                              0_nan "
            ]
          },
          "metadata": {},
          "execution_count": 141
        }
      ]
    },
    {
      "cell_type": "markdown",
      "metadata": {
        "id": "zKFANyrq8-Of"
      },
      "source": [
        "### List the Tunes of the individual Topics"
      ]
    },
    {
      "cell_type": "code",
      "metadata": {
        "id": "pq5cDvY09AKT"
      },
      "source": [
        "def display_tunes_per_topic(df, topic):\n",
        "  tunes = df.query(f\"DominantTopic == {topic}\").sort_values('Contribution%', ascending=False)\n",
        "  print(f\"\\n*** TOPIC {n} ***\")\n",
        "  print(f\"{len(tunes)} tunes\")\n",
        "  return tunes"
      ],
      "execution_count": 142,
      "outputs": []
    },
    {
      "cell_type": "code",
      "metadata": {
        "id": "RnqCeVLO9CDu"
      },
      "source": [
        "topic_result = corpus_topic_df.loc[:, ['DominantTopic', 'Contribution%', 'Title', 'Section', 'Tunes']]"
      ],
      "execution_count": 143,
      "outputs": []
    },
    {
      "cell_type": "code",
      "metadata": {
        "colab": {
          "base_uri": "https://localhost:8080/"
        },
        "id": "1nvMRep99KMj",
        "outputId": "c8e5f8c4-7f0c-4088-9b56-bb4e1d32da45"
      },
      "source": [
        "for n in range(1, TOTAL_TOPICS+1):\n",
        "  print(display_tunes_per_topic(topic_result, topic=n).head(30))"
      ],
      "execution_count": 144,
      "outputs": [
        {
          "output_type": "stream",
          "name": "stdout",
          "text": [
            "\n",
            "*** TOPIC 1 ***\n",
            "18 tunes\n",
            "      DominantTopic  Contribution%                                 Title Section                                                                                                                                                                                                                                                                                                                             Tunes\n",
            "1323  1              62.12          You Won't Forget Me [jazz1350]        0_nan   [G#m7b5, C#7, F#m7_B7, Bm7, E7, Am7, F#7, G#m7b5, C#7, F#m7, F#m, Ebm7b5, G#7, D7, C#7, G#m7b5, C#7, F#m7_B7, Bm7, E7, G7, F#7, Bm7, G7, C#7, F#7, F7, E7, Am7, B, Bb]                                                                                                                                                          \n",
            "356   1              60.73          Epistrophy [jazz1350]                 0_nan   [C7, C#7, C7, C#7, C7, C#7, C7, C#7, D7, Eb7, D7, Eb7, D7, Eb7, D7, Eb7, D7, Eb7, D7, Eb7, D7, Eb7, D7, Eb7, C7, C#7, C7, C#7, C7, C#7, C7, C#7, Fm7, Fm7, Fm7, Fm7_Bb7, Bb7, C7, C#7, D7, Eb7, D7, Eb7, D7, Eb7, D7, Eb7, C7, C#7, C7, C#7, C7, C#7, C7, C#7]                                                                  \n",
            "1310  1              58.02          You Better Leave it Alone [jazz1350]  0_nan   [C13_C13, C13_C13, F13_F13, F13, F7, C13_C13, Bb13, A7, Dm7, G13, C13, G13, C13_C13, C13_C13, F13_F13, F13, F7, C13_C13, Bb13, A7, Dm7, G13, C7, C7]                                                                                                                                                                            \n",
            "607   1              52.75          Interchange [jazz1350]                0_nan   [Bb7, A13, G#7, G13, F#m7b5, Bb, Fm7, Fm7_Bb7, A13, G#7, G13, F#m7b5, Bb, Fm7, C#7, Eb7, Eb7, Em7b5, Em7b5, Eb7, Eb7, Em7b5, Em7b5, Eb7, Eb7, Em7b5, Em7b5, Eb7, Eb7, Em7b5, Em7b5, Fm7, Fm7, Am6, Am7, Am6, Am7, Am6, Am7, Am6_Am6]                                                                                            \n",
            "767   1              49.61          Maiden Voyage [jazz1350]              0_nan   [C7, C7, C7, C7, Eb7, Eb7, Eb7, Eb7, C7, C7, C7, C7, Eb7, Eb7, Eb7, Eb7, C#7, C#7, C#7, C#7, Bm7, Bm7, Bm7, Bm7, C7, C7, C7, C7, Eb7, Eb7, Eb7, Eb7]                                                                                                                                                                            \n",
            "120   1              40.50          Bemsha Swing [jazz1350]               0_nan   [C, A7, G#7, C#7, C, Eb7, D7, C#7, C, A7, G#7, C#7, C, Bb7, G#7, F#7, F, D7, C#7, F#7, F, G#7, G7, C#7, C, A7, G#7, C#7, C, C#M7, C#M7]                                                                                                                                                                                         \n",
            "859   1              40.40          Naima [jazz1350]                      0_nan   [Dm7, Gm7, Eb7, C#7, CM7, Dm7, Gm7, Eb7, C#7, CM7, EbM7, D7, EbM7, D7, G#7, EbM7, CM7, Bb13, Dm7, Gm7, Eb7, C#7, CM7, Eb7, C#7, CM7, Eb7, C#7, CM7, Eb7, C#7, CM7, FM7, CM7, FM7, CM7, FM7, CM7]                                                                                                                                \n",
            "722   1              36.18          Litha [jazz1350]                      0_nan   [CM7, Bm7, AM7, G#m7, F#M7, Fm7, EbM7, EbM7, EbM7, EbM7, CM7, CM7, CM7, CM7, C#M7, C#M7, C#M7, C#M7, BbM7, BbM7, BbM7, BbM7, Eb7, Eb7, Eb7, Eb7, A7, A7, A7, A7, Dm7, Dm7, Dm7, Dm7, Dm7, Dm7, Dm7, Dm7, G#7, G#7, G#7, G#7, G#7, G#7, G#7, G#7, Gm7, Gm7, Gm7, Gm7, Gm7, Gm7, Gm7, Gm7, C#7, C#7, C#7, C#7, C#7, C#7, C#7, C#7]\n",
            "117   1              34.44          Beauty And The Beast [jazz1350]       0_nan   [C13_C13, C13_C13, C13_C13, C13_C13, B7, Em7, F#7, B7, Em7, Dm7_G7, Cm7, Bbm7_Eb7, G#M7, G7, C13_C13, C13_C13, B7, Em7, F#7, B7, Em7, Dm7_G7, Cm7, Bbm7_Eb7, G#M7, G7, F#m7_B7, Em7, A7, Dm7b5, G7, C13_C13, C13_C13]                                                                                                           \n",
            "917   1              29.89          One Note Samba [jazz1350]             0_nan   [Em7, Eb7, Dm7, C#7, Em7, Eb7, Dm7, C#7, Gm7_C7, FM7, Bb7, Em7, Eb7, Dm7, C#7, C6, Fm7_Bb7, EbM7, EbM7, Ebm7_G#7, C#M7, Dm7b5, G7, Em7, Eb7, Dm7, C#7, Em7, Eb7, Dm7, C#7, Gm7_C7, FM7, Bb7, Eb6, D7, C#M7, C6]                                                                                                                 \n",
            "1220  1              29.34          Twisted Blues [jazz1350]              0_nan   [F7, F#7, F7, F#7, F7, F#7, F7, F#7, F7, F#dim7, CM7, Bbm7_Eb7, Am7, D7, Ebm7_G#7, Dm7_G7, C#m7_F#7, Am7, D7, G#7, C#7, C7]                                                                                                                                                                                                     \n",
            "192   1              29.13          Brilliant Corners [jazz1350]          0_nan   [CM7, Eb7, Eb7, CM7, Eb7, Eb7, G#7, G7, C, E7, Eb7, G#7, G7, C, Bb7, G#7, G7, C, E7, Eb7, G#7, G7, C, C, Bm7, E7, Em7, A7, G#7, C#7, F#7, F#m7_B7, Bb7, A7, G#7, G7, C, E7, Eb7, G#7, G7, C, Bb7, G#7, G7, C, E7, Eb7, G#7, G7, C]                                                                                              \n",
            "1031  1              27.17          Seven Steps To Heaven [jazz1350]      0_nan   [C13, Bb13, C13, Bb13, C13, Bb13, C13_C13, CM7, F7, Bm7b5_E7, Am7, Eb7, D7, Dm7_G7, Bb6_B6, C6, CM7, F7, Bm7b5_E7, Am7, Eb7, D7, Dm7_G7, Bb6_B6, C6, GM7, Am7, Bm7, Cm7, F7, BbM7, Ebm7_G#7, C#M7, Dm7_G7, CM7, F7, Bm7b5_E7, Am7, Eb7, D7, Dm7_G7, Bb6_B6, C6]                                                                 \n",
            "960   1              26.12          Played Twice [jazz1350]               0_nan   [CM7, C#7, C#7, A7, CM7, C#7, Gm7_C7, F7, F7, F7, F7, CM7, C#7, C#13, C13, A7, DM7]                                                                                                                                                                                                                                             \n",
            "180   1              26.03          Born To Be Blue [jazz1350]            0_nan   [C7, C#7, C7, F#7, F7, Eb7_G#M7, G7, Cm7, C#7, Cm7, F7, Fm7, D7, Dm7b5, G7, C7, C#7, C7, F#7, F7, Eb7_G#M7, G7, Cm7, C#7, Cm7, F7, Fm7, G#7, G7, Cm6, G#m7_C#7, G#m7_C#7, G#m7_C#7, F#M7, C#m7_F#7, BM7, G#m7, Fm7_Bb7, EbM7, Dm7b5, G7, C7, C#7, C7, F#7, F7, Eb7_G#M7, G7, Cm7, C#7, Cm7, F7, Fm7, G#7, G7, Cm6, C#7]         \n",
            "1047  1              23.79          Skippy [jazz1350]                     0_nan   [F#7, B7, E7, A7, D7, C#7, C7, F7, Bb7, A7, D7, C#7, C7, B7, Bb7, A7, G#7, G7, C7, B7, Bb7, A7, D7, C#7, C7, Bb7, Eb7, G#7, C#7, F#7, B7, E7, A7, D7, C#7, C7, F7, Bb7, A7, D7, C#7, C7, F7, Bb7, F7, E7, Eb7, D7, C#7, C7, B7, Bb7, Eb7, D7, C#7, C7, B7, Bb7, A7, G#7, Dm7_G7, Dm7_G7, Dm7_G7, CM7]                           \n",
            "692   1              21.15          Laurie [jazz1350]                     0_nan   [CM7, F#7, F#7, Bm7, Bm7, E7, Am7b5, D7, Dm7, Dm7_G7, Gm7_C7, Fm7_Bb7, Em7b5, Eb7, Eb7, D7, D7, C#7, CM7, F#7, F#7, Bm7, Bm7, E7, Am7b5, D7, Dm7, Dm7_G7, Gm7_C7, Fm7_Bb7, Am7, Bm7, C#m7, Ebm7, Dm7b5, G7, C7, Bb7, G#7, G7, G7]                                                                                               \n",
            "979   1              20.20          Radio [jazz1350]                      0_nan   [CM7, B7, Em7, A7, Am7, F#7, Bm7, E7, C#m7b5_F#7, Bm7, G7, AM7, C#7, F#m7_B7, Bm7, C#7, F#m7_B7, F7, Bb7, Eb7, D7, C#7, F#7, B7, Bb7, Ebm7, B7, Ebm7, B7, Am7b5, D7, Gm7, A7, Dm7_G7, F7, Bb7, AM7, G#7]                                                                                                                        \n",
            "\n",
            "*** TOPIC 2 ***\n",
            "2 tunes\n",
            "      DominantTopic  Contribution%                           Title Section                                                                                                                                                                                                                                                   Tunes\n",
            "1128  2              56.97          Sunshower [jazz1350]            0_nan   [Am7, Bm7b5, Am7, Bm7b5, Am7, Bm7b5, Am7, Bm7b5, Am7, Bm7b5, Am7, Bm7b5, Am7, Bm7b5, Am7, Bm7b5, Am7, Bm7b5, Am7, Bm7b5, Am7, Bm7b5, Am7, A7, Dm7, Dm7, E7, E7, FM7, FM7, Bm7b5, E7(+b5), Am7, Bm7b5, Am7, Bm7b5, Am7, Bm7b5, Am7, Bm7b5]             \n",
            "414   2              33.38          Funk In Deep Freeze [jazz1350]  0_nan   [Am7, F7, Bm7b5, E7(+b5), Am7, Eb7, D7, G7, C7, F7, Bm7b5_E7, Am7, F7, Bm7b5, E7(+b5), Am7, Eb7, D7, G7, C7, F7, Bm7b5, E7(+b5), Am6, Em7, A7, DM7, DM7, Gm7_C7, FM7, E7(+b5), Am7, F7, Bm7b5, E7(+b5), Am7, Eb7, D7, G7, C7, F7, Bm7b5, E7(+b5), Am6]\n",
            "\n",
            "*** TOPIC 3 ***\n",
            "37 tunes\n",
            "      DominantTopic  Contribution%                                           Title Section                                                                                                                                                                                                                                                                                                                  Tunes\n",
            "382   3              71.57          Fever [jazz1350]                                0_nan   [Am, Am, Am, Am, Am, Am, E7, Am, Am, Am, Am, Am, Am, Am, E7, Am, E7, Am, E7, Am, E7, Am, E7, Am]                                                                                                                                                                                                                     \n",
            "1384  3              70.21          Bei Mir Bist Du Schon (Root Hog Or Die) [trad]  0_nan   [Am, Am, Am, Am, E7, E7, Am, E7, Am, Am, Am, Am, E7, E7, Am, Dm, Am, Dm, Dm, Am, Am, Dm, Dm, E7, E7, Am, Am, Am, Am, E7, E7, Am, Am]                                                                                                                                                                                 \n",
            "1569  3              69.98          Minnie The Moocher [trad]                       0_nan   [Am, Dm, Am, E7, Am, E7, Am, Dm, E7, Am, Dm, E7, Am, E7, Am, Am, Am, Am, Am, Am, Am, Am, E7, Am, Am, E7]                                                                                                                                                                                                             \n",
            "883   3              68.34          Nothing Personal [jazz1350]                     0_nan   [Am, Am, Am, Am, Am, Am, Am, Am, Am, Am, Am, Am, Am, Am, Am, Am, D7, D7, D7, D7, Am, Am, Am, G7, F#7, F7, F7, E7, E7, Am, Am, Am, Am]                                                                                                                                                                                \n",
            "444   3              65.72          Green Chimneys [jazz1350]                       0_nan   [Am, Am, Am, Am, Am, Am, Am, Am, Am, Am, Am, Am, Am, Am, Am, Am, G7, G7, C7, G7, G7, C7, G7, G7, C7, G7, G7, C7, Am, Am, Am, Am, Am, Am, Am, Am]                                                                                                                                                                     \n",
            "1298  3              64.34          Work Song [jazz1350]                            0_nan   [Am, Am, Am, Am, Am, Am, E7, E7, Am, Am, Am, Am, A7, D7, B7, E7, Am]                                                                                                                                                                                                                                                 \n",
            "1641  3              63.25          Shout 'Em, Aunt Tillie [trad]                   0_nan   [G, Am, Am, G, Am, Am, G, Am, Am, G, Am, Am, Am, E7, E7, Am, E7, E7, E7, Am, Am, E7, Am, Am, G, Am, Am, G, Am, Am, G, Am, Am, G, Am, Am, Am, E7, E7, Am, E7, E7, E7, Am, Am, E7, Am, Am, A7, A7, Dm, Dm, E7, E7, Am, Am, Am, Am, Am, Am, Dm, Dm, Am, Am, E7, E7, Am, Am]                                             \n",
            "1567  3              56.24          Midnight In Moscow [trad]                       0_nan   [Am, Dm, Am, E7, Am, G7, C, F, G7, C, B7, E7, Am, Am, Dm, Dm, Am, E7, Am, C7, E7, Am, Am, Dm, Dm, Am, E7, Am, Am]                                                                                                                                                                                                    \n",
            "1093  3              55.77          St. James Infirmary [jazz1350]                  0_nan   [Am, E7, Am, E7, Am, Dm, Am, E7, Am, E7, Am, E7, Dm, E7, Am]                                                                                                                                                                                                                                                         \n",
            "1435  3              54.10          Diga Diga Doo [trad]                            0_nan   [Am, E7, Am, Am, E7, Am, Am, E7, Am, Am, E7, Am, G7, C, G7, E7, Am, E7, Am, E7, Am, G#7, G7, Am, Am, Am, Am, E7, Am, E7, Am, E7, Am, Am, Am, Am, E7, Am, E7, Am, G7, G7, C, C, A7, A7, Dm, Dm, E7, Am, Am, Am, Am, E7, Am, E7, Am, E7]                                                                               \n",
            "1667  3              53.05          Summertime [trad]                               0_nan   [Am, E7, Am, E7, Am, E7, Am, Dm, Dm, Ebdim, E, B7, E7, Am, E7, Am, E7, Am, E7, Am, Cdim, C, Am, Bm7b5_E7, Am, Dm, Am]                                                                                                                                                                                                \n",
            "413   3              50.22          Full House [jazz1350]                           0_nan   [Am, D7, Am, D7, Am, D7, Am, E7, Am, D7, Am, D7, Am, D7, Am, Am, Am, D7, Am, D7, Am, D7, Am, E7, Am, D7, Am, D7, Am, D7, Am, Am, Dm7_G7, CM7, F7, BbM7, EbM7, Bm7, E7(+b5), Am, D7, Am, D7, Am, D7, Am, E7, Am, D7, Am, D7, Am, D7, Am, Am]                                                                          \n",
            "114   3              47.29          Be-Bop [jazz1350]                               0_nan   [Am, Bm7b5, Am, Dm6, Am, Bm7b5_E7, Am, Bm7b5, Am, Dm6, Am, Bm7b5_E7, Am, Am, Bm7b5, Am, Dm6, Am, Bm7b5_E7, Am, Bm7b5, Am, Dm6, Am, Bm7b5_E7, Am, Am7, D7, GM7, GM7, Gm7_C7, FM7, Bm7b5_E7, Am, Bm7b5, Am, Dm6, Am, Bm7b5_E7, Am, Bm7b5, Am, Dm6, Am, Bm7b5_E7, Am]                                                   \n",
            "983   3              45.37          Recado Bossa Nova [jazz1350]                    0_nan   [Am, Am, E7, E7, Em7b5, A7, Dm, Dm, Bm7b5_E7, Am, Am, B7, B7, E7, E7, Am, Am, E7, E7, Em7b5, A7, Dm, Dm, Bm7b5_E7, Am, Am, Bb7, E7, Am, Am, A7, A7, Dm, Dm, B7, B7, Em, E7]                                                                                                                                          \n",
            "896   3              43.56          Old Country, The [jazz1350]                     0_nan   [Am, Bm7b5_E7, Am, Am, A7, Dm7_G7, G7, CM7, CM7, Bm7b5_E7, Am, Am, F#7, F7, Bm7b5_E7, Am]                                                                                                                                                                                                                            \n",
            "1397  3              42.49          Blues My Naughy Sweetie Gives To Me [trad]      0_nan   [Am, Am, Fdim, Am, Am, A7, Dm, Dm, Bbdim, Dm, Dm, E7, E7, Am, Am, B7, B7, E7, E7, Am, Am, Fdim, Am, Am, A7, Dm, Dm, E7, E7, A7, A7, D7, D7, G7, D7, G7, C, E7]                                                                                                                                                       \n",
            "1457  3              40.25          Everybody Loves My Baby [trad]                  0_nan   [Am, E7, Am, E7, Am, Am, Am, E7, Am, E7, Am, E7, Am, Am, Am, E7, Am, Am, Am, Am7, D7, G7, C, E7, Am, Am, Am, Am, B7, B7, E7, G7, C7, C7, C7, C7, D7, D7, D7, G7, E7, Am, Am, Am, Am7, D7, G7, C, E7]                                                                                                                 \n",
            "1017  3              39.88          Sea Journey [jazz1350]                          0_nan   [Am, Am, Am, Am, Am, Am, Am, Am, Am, Am, Am, Am, Am, Am, Am, Am, Dm7, Em7, Am7, Am7, G7, G7, F#m7b5, F#m7b5, FM7, FM7, E7, E7, Am, Am, Am, Am, G7, G7, F#m7b5, F#m7b5, Dm7, CM7, FM7, E7, FM7, FM7, E7, E7, FM7, FM7, Em7, A7, DM7, C#m7, Bm7b5_E7, Am, Am, Dm7, CM7, FM7, E7]                                       \n",
            "953   3              37.66          Petit Fleur [jazz1350]                          0_nan   [E7, E7, Am, Am, B7, B7, E7, E7, E7, E7, C6, C6, Dm7, Dm7, Am, Am, Bm7b5_E7, Am, Am, B7, B7, E7, E7, E7, E7, Am, Am, B7, E7, Am, E7, Am, A7, A7, Dm, Dm, G7, G7, C6, Bm7b5_E7, E7, Am, Am, B7, E7, Am, E7, Am]                                                                                                       \n",
            "46    3              37.24          Airegin [jazz1350]                              0_nan   [Am, E7(+b5), Am, A7, Dm, A7(+b5), Dm, Dm, FM7, F#m7_B7, EM7, Fm7_Bb7, EbM7, Em7, A7, DM7, DM7, Dm7_G7, CM7, Bm7b5_E7, Am, E7(+b5), Am, A7, Dm, A7(+b5), Dm, Dm, FM7, F#m7_B7, Em7b5, A7, Dm7_G7, CM7, Bm7b5_E7]                                                                                                     \n",
            "773   3              36.88          Manha De Carnaval (Black Orpheus) [jazz1350]    0_nan   [Am, Bm7b5_E7, Am, Bm7b5_E7, Am, Dm7_G7, CM7, A7, Dm7_G7, CM7, FM7, Bm7b5_E7, Am, Bm7b5_E7, Am, Bm7b5_E7, Am, Am, Em7b5, A7, Dm, Dm, Dm7, Bm7b5_E7, Am, Am7, FM7, Bm7b5_E7, Am, Bm7b5_E7, Am, Dm7, Am7, Dm7, Am7, Dm7, Em7, Am]                                                                                      \n",
            "116   3              36.02          Beautiful Love [jazz1350]                       0_nan   [Bm7b5_E7, Am, Am, Dm7_G7, CM7, Bm7b5_E7, Am, Dm7, F7, E7, Am, D7, Bm7b5_E7, Bm7b5_E7, Am, Am, Dm7_G7, CM7, Bm7b5_E7, Am, Dm7, F7, E7, Am, F#7, F7, E7, Am, Am]                                                                                                                                                      \n",
            "79    3              34.99          Angel Eyes [jazz1350]                           0_nan   [Am, B7, Bb7, Am, F7, Am, F#m7b5, Bm7b5_E7, Am, B7, Bb7, Am, F#7(+b5), F7, E7, Am, Am, B7, Bb7, Am, F7, Am, F#m7b5, Bm7b5_E7, Am, B7, Bb7, Am, F#7(+b5), F7, E7, Am, Gm7_C7, FM7, D7, Gm7_C7, FM7, F#m7_B7, EM7, Bbm7_Eb7, Bm7, E7, Am, B7, Bb7, Am, F7, Am, F#m7b5, Bm7b5_E7, Am, B7, Bb7, Am, F#7(+b5), F7, E7, Am]\n",
            "1230  3              34.98          United [jazz1350]                               0_nan   [Bm7b5_E7, Am, Am, Bm7b5_E7, Am, Am, Gm7_C7, FM7, Ebm7_G#7, C#M7, Dm7_G7, CM7, CM7]                                                                                                                                                                                                                                  \n",
            "317   3              33.90          Domingo [jazz1350]                              0_nan   [Am, Am, E7, E7, Gm, Gm, D, Fm6, Am, Am, B7, Bm7b5_E7, Am, C7, F7, E7, Am, Am, E7, E7, Gm, Gm, D, Fm6, Am, Am, B7, Bm7b5_E7, Am, Bm7, Cm7, C#m7_F#7, Dm7_G7, CM7, FM7, F#m7b5_B7, Em7, F7, Bm7b5_E7, Am]                                                                                                             \n",
            "622   3              31.91          It Don't Mean A Thing [jazz1350]                0_nan   [Am, Am, Am, D7, F7, E7, Am, D7, Ebdim7, C6, E7(+b5), Am, Am, Am, D7, F7, E7, Am, D7, G7, C6, C6, Gm7_C7, F6, F6, Am7, D7, G7, E7, Am, Am, Am, D7, F7, E7, Am, D7, Ebdim7, C6, C6]                                                                                                                                   \n",
            "879   3              31.67          No Moon At All [jazz1350]                       0_nan   [Am, E7, Am, D6, Bm7b5, Am, F7, E7, Am, F7, E7, Am, E7, Am, D6, Bm7b5, Am, F7, E7, Am, F7, E7, A7, A7, D7, D7, G7, G7, C6, Bm7b5_E7, Am, E7, Am, D6, Bm7b5, Am, F7, E7, Am, F7, E7]                                                                                                                                  \n",
            "25    3              31.30          A Taste Of Honey [jazz1350]                     0_nan   [Am, AmM7, Am7, D7, Am, AmM7, Am7, D7, Am, Am, FM7, Em7, Am, Am, Am7, D7, Am7, D7, FM7, Em7, Am, Bm7b5_E7]                                                                                                                                                                                                           \n",
            "958   3              29.24          Pink Panther, The [jazz1350]                    0_nan   [Am, Am, F7, F7, Am, Am, Bb7, Bb7, Am, Am, F7, F7, Am, F7, E7, Am, Am, Cm6_Cm6, G#7, G#7, Cm6_Cm6, C#7, C#7, Cm_Cm, G#7, G#7, Cm, G#7, G7, Cm_Cm]                                                                                                                                                                    \n",
            "18    3              27.20          A Night In Tunisia [jazz1350]                   0_nan   [Bb7, Am, Bb7, Am, Bb7, Am, Bm7b5_E7, Am, Bb7, Am, Bb7, Am, Bb7, Am, Bm7b5_E7, Am, Em7b5, A7, Dm7, Dm7, Dm7b5, G7, CM7, Bm7b5_E7, Bb7, Am, Bb7, Am, Bb7, Am, Bm7b5_E7, Am, Bm7b5, Bm7b5, Bb7, Bb7, Am7, Am7, D7, D7, DmM7, Dm7, C#7, C#7, CM7, CM7, Bm7b5_E7]                                                        \n",
            "\n",
            "*** TOPIC 4 ***\n",
            "341 tunes\n",
            "      DominantTopic  Contribution%                                           Title Section                                                                                                                                                                                                                               Tunes\n",
            "1398  4              98.56          Bogalusa Strut [trad]                           0_nan   [C, C, C, C, C, G7, C, C7, F, F, C, C, G7, G7, C, C, F, F, C, C, G7, G7, C, C, G7, G7, C, C, G7, G7, C, C, G7, G7, C, C7, F, F#dim7, C, A7, D7, G7, C, F, F, C, C, G7, G7, C, C, G7, G7, C, C, G7, G7, C, C, C, C, C, C, C, G7, C]\n",
            "1432  4              98.47          Davenport Blues [trad]                          0_nan   [C, C, C7, F, F, F#dim, C, C, D7, G7, C, C, C7, F, F, F#dim, C, C, D7, G7, C, F, C, G7, C, F, C, G7, C, F, C, G7, C, C7, F, F, C, A7, D7, D7, G7, C, F, C, G7, C, C7, F, F, E7, E7, C, E7, Am, Cdim, C, F, C, G7, C, F, C]        \n",
            "1725  4              97.71          Yes Sir, That's My Baby [trad]                  0_nan   [C, C, G7, G7, G7, G7, C, G, C, C, G7, G7, G7, G7, C, F, C, C7, C7, F, F, D7, D7, G7, G7, C, C, G7, G7, G7, G7, C, C, C, C, G7, G7, G7, G7, C, G]                                                                                 \n",
            "1414  4              97.65          Chicago Buzz [trad]                             0_nan   [C, D7, G7, G7, C, C, C, C, D7, D7, D7, D7, G7, G#7, C, A7, Cdim, D7, G7, C, F, F, C, C, G7, G7, C, F, F, C, C, C, C7, F, Fm, C, C, D7, G7, C]                                                                                    \n",
            "1681  4              97.65          That's My Weakness Now [trad]                   0_nan   [C, C, C, C, G7, G7, D7, G7, C, C, C, C, C, G7, G7, D7, G7, C, C7, F, Fm, F#dim, C, C, G7, C, Am, C, A7, D7, G7, C, C, C, C, G7, G7, D7, G7, C]                                                                                   \n",
            "1346  4              97.59          Ain't That A Grand And Glorious Feeling [trad]  0_nan   [C, C, C7, F, F, C, A7, D7, G7, C, C, C7, F, F, C, C, A7, D7, G7, C, E7, E7, A7, A7, D7, D7, G7, G7, C, C, C7, F, F, C, C, A7, D7, G7, C]                                                                                         \n",
            "1719  4              97.59          Wooden Heart [trad]                             0_nan   [C, G7, C, C, C, C, G7, G7, C, G7, C, G7, C, C, C, C, G7, G7, C, C, G7, G7, C, G7, C7, F, F, G7, G7, C, G7, C, C, C, C, G7, G7, C, C]                                                                                             \n",
            "1676  4              97.59          Sweethearts On Parade [trad]                    0_nan   [C, C, G7, G7, C, G, C, G7, C, C, G7, G7, C, C7, F, Fm, C, F, C, C7, F, F#dim, C, A7, Dm, A7, D7, G7, C, C, G7, G7, C, C7, F, Fm, C, F, C]                                                                                        \n",
            "1545  4              97.53          Lights Out [trad]                               0_nan   [C, C, G, C, C, C, F, C, G, D7, G7, G7, G7, Gdim, G7, G7, G7, G7, C, C7, F, F, F, F, C, C, D7, G7, C, C, G, C, C, F, D7, G7, C, C]                                                                                                \n",
            "1720  4              97.53          Working Man Blues [trad]                        0_nan   [C, G7, C, C7, F, F, C, G7, G7, C, F, C, G7, C, C, D7, D7, G7, G7, C, G7, C, C, D7, D7, G7, G7, C, F, C, C, C, F, D7, G7, G7, C, C]                                                                                               \n",
            "1480  4              97.53          Goody-Goody [trad]                              0_nan   [C, C, C, C, C, C, A7, A7, Dm, A7, Dm, Dm, A7, Dm, D7, D7, D7, G7, C, C, C, C, C7, C7, F, F, F, F, C, A7, C, C, A7, A7, D7, G7, C, C]                                                                                             \n",
            "1423  4              97.53          Collegiate [trad]                               0_nan   [C, C, C, C, G7, G7, D7, G7, C, G7, C, C, C, C, G7, G7, D7, G7, C, C7, F, Fm, C, E7, Am, D7, D7, G7, G7, C, C, C, C, G7, G7, D7, G7, C]                                                                                           \n",
            "1380  4              97.47          Beautiful Dreamer [trad]                        0_nan   [C, C, Dm, Dm, G7, G7, G7, C, C, C, Dm, Dm, G7, G7, G7, C, G7, G7, C, C, D7, D7, G7, G7, C, C, Dm, Dm, G7, G7, G7, C, A7, Dm, C, G7, C]                                                                                           \n",
            "1484  4              97.47          Harbour Lights [trad]                           0_nan   [G7, G7, Adim, C, Adim, C, G7, G7, C, C7, G7, G7, Adim, C, Adim, C, G7, G7, C, F, Fm, C, C, D7, D7, G7, G7, G7, G7, Adim, C, Adim, C, G7, G7, C, C]                                                                               \n",
            "1596  4              97.47          Old Grey Mare, The [trad]                       0_nan   [C, C, G7, C, C, G7, G7, C, C, C, C, G7, C, C, G7, G7, C, F, C, C, F, C, C, C, F, C, C, G7, C, C, G7, C, C, G7, G7, C, C]                                                                                                         \n",
            "1658  4              97.40          South [trad]                                    0_nan   [C, C, C, C, G7, G7, G7, C, C, C, C, C, G7, G7, G7, C, G7, Gdim, G7, C, G, C, G7, Gdim, G7, C, G7, Gdim, G7, C, G, C, A7, Dm, G7, C]                                                                                              \n",
            "1600  4              97.40          On Treasure Island [trad]                       0_nan   [C, C, D7, D7, G7, G7, C, C, G7, C, C, D7, D7, G7, G7, C, C, Fm, Fm, C, C, Fm, Fm, D7, G7, Gdim, G7, C, C, D7, D7, G7, G7, C, C, G7]                                                                                              \n",
            "1714  4              97.40          Why Don't You Go Down To New Orleans [trad]     0_nan   [C, C, C, C, G7, G7, C, G7, G, C, C, C, C, G7, G7, C, F, C, C7, F, Fm, C7, C7, F, Fm, D7, G7, G, C, C, C, C, G7, G7, C, C]                                                                                                        \n",
            "1426  4              97.33          Crazy Rhythm [trad]                             0_nan   [C, C, C, C, G7, G7, C, G7, C, C, C, C, G7, G7, C, C, C7, C7, F, F, Fm, Fm, C, A7, D7, G7, C, C, D7, D7, G7, G7, C, C, G7]                                                                                                        \n",
            "1496  4              97.33          I Get The Blues When It Rains [trad]            0_nan   [C, F, C, G7, G7, G7, G7, C, C7, F, F#dim, C, A7, D7, D7, G7, G7, C, F, C, G7, G7, G7, G7, E7, Am, C7, F, F#dim, C, A7, D7, G7, C, C]                                                                                             \n",
            "1391  4              97.33          Blue Eyes Crying In The Rain [trad]             0_nan   [C, C, G7, C, C, G7, G7, C, C, C, C, G7, C, C, G7, G7, C, C7, F, F, F, F, C, A7, D7, G7, C, C, G7, C, C, G7, G7, C, C]                                                                                                            \n",
            "1486  4              97.25          Hard Times [trad]                               0_nan   [C, C, F, C, C, D7, G7, G7, C, C, F, C, C, D7, G7, C, C, C, C, F, C, C, C, D7, G7, C, C, F, C, C, D7, G7, C, C]                                                                                                                   \n",
            "1606  4              97.25          Out Of The Gallion [trad]                       0_nan   [C, F, C, F, C, D7, G7, C, G7, C, F, C, F, C, D7, G7, C, F, C, G7, C, F, C, C7, F, Fm, C, A7, D7, G7, C, F, C, G7]                                                                                                                \n",
            "1448  4              97.25          Don't Sweetheart Me [trad]                      0_nan   [C, C, D7, D7, G7, G7, C, G7, C, C, D7, D7, G7, G7, C, C7, F, F, C, A7, D7, D7, G7, G7, C, C, D7, D7, G7, G7, C, F, C, G7]                                                                                                        \n",
            "1450  4              97.25          Drifting And Dreaming [trad]                    0_nan   [F, F, C, C, G7, G7, C, C7, F, F, C, C, G7, G7, C, F, C, E7, A7, A, D7, D7, G7, G7, C, C7, F, F, C, C, G7, G7, C, C]                                                                                                              \n",
            "1392  4              97.25          Blue Hawaii [trad]                              0_nan   [C, F, C, A7, D7, G7, C, G7, C, F, C, A7, D7, G7, C, F, C, F, F, C, C, D7, D7, Dm, G7, C, F, C, A7, D7, G7, C, F, C]                                                                                                              \n",
            "1610  4              97.17          Peggy O'Neil [trad]                             0_nan   [C, C, C, C, C, C, Cdim, G7, G7, G7, G7, G7, G7, G7, G7, C, C, C, Cdim, G7, G7, C, Cdim, G7, G7, C, A7, D7, D7, D7, G7, C, C]                                                                                                     \n",
            "1420  4              97.17          Ciribiribin [trad]                              0_nan   [C, C, C, C, C, C, G7, G7, G7, G7, G7, G7, G7, G7, C, G7, C, C, C, C, C7, C7, F, F, F, F, F#dim, C, C, G7, G7, C, C]                                                                                                              \n",
            "1640  4              97.17          Should I Reveal [trad]                          0_nan   [C, C, C, C, G7, G7, C, C, G7, C, C, C, C, G7, G7, C, C, C7, F, C7, F, D7, D7, G7, G7, C, C, C, C, G7, G7, C, G7]                                                                                                                 \n",
            "1425  4              97.11          Coquette [trad]                                 0_nan   [C, C, G7, G7, G7, G7, C, G7, C, C, G7, G7, G7, G7, C, F, C, C7, C7, F, F, D7, D7, G7, G7, C, C, G7, G7, G7, G7, C, C, G7]                                                                                                        \n",
            "\n",
            "*** TOPIC 5 ***\n",
            "10 tunes\n",
            "      DominantTopic  Contribution%                                    Title Section                                                                                                                                                                                                                                                                                                                                                                                                                                                                                                                                Tunes\n",
            "1106  5              50.73          Straight Life [jazz1350]                 0_nan   [C7, Bb7, C7, Bb7, C7, Bb7, C7, Bb7, C7, Bb7, C7, Bb7, C7, Bb7, C7, Bb7, C7, Bb7, C7, Bb7, C7, Bb7, C7, Bb7]                                                                                                                                                                                                                                                                                                                                                                                                                       \n",
            "35    5              50.03          African Queen, The [jazz1350]            0_nan   [Am7, Bb7, Am7, Bb7, Am7, Bb7, Am7, Bb7, Am7, Bb7, Am7, Bb7, Am7, Bb7, Am7, Bb7, Am7, Bb7, Am7, Bb7, Am7, Bb7, Am7, Bb7, Am7, Bb7, Am7, Bb7, Am7, Bb7, Am7, Bb7, G7, F#7, F7, E7, Am7, Bb7, Am7, Bb7, Am7, Bb7, Am7, Bb7]                                                                                                                                                                                                                                                                                                          \n",
            "676   5              47.21          Killer Joe [jazz1350]                    0_nan   [C7, Bb7, C7, Bb7, C7, Bb7, C7, Bb7, C7, Bb7, C7, Bb7, C7, Bb7, C7, Bb7, Em7b5, A7, Ebm7_G#7, A7, G#7, Em7, A7, C7, Bb7, C7, Bb7, C7, Bb7, C7, Bb7]                                                                                                                                                                                                                                                                                                                                                                                \n",
            "439   5              45.70          Goodbye Pork Pie Hat [jazz1350]          0_nan   [C7, G#13, C#M7, F#7, Bb7, G#13, Bb7, C7, Fm7, G#13, Dm7b5, G7, A7, D13, G#7, C#M7, F#13, F7, G7, Bb7, C7, G#7, C#M7, F#7, C7, G#13, C#M7, F#7, Bb7, G#13, Bb7, C7, Fm7, G#13, Dm7b5, G7, A7, D13, G#7, C#M7, F#13, F7, G7, Bb7, C7, G#7, C#M7, F#7, CmM7, Fm7, CmM7, Fm7, CmM7, Fm7, CmM7, F#7, Fm, Fm6, G#7, G7, CmM7, F7, CmM7, F7, Am7b5, D7, Ebm7, G#m7, G7, CmM7, F7, CmM7, F7, C7, G#13, C#M7, F#7, Bb7, G#13, Bb7, C7, Fm7, G#13, Dm7b5, G7, A7, D13, G#7, C#M7, F#13, F7, G7, Bb7, C7, G#7, C#M7, F#7, C#M7, F#7, C7, ...]\n",
            "12    5              44.11          A Flower Is A Lovesome Thing [jazz1350]  0_nan   [Bb7, Bb7, Bb7, Bb7, A7, D7, G7, C7, C#M7, D7, C#M7, C6, Bb7, Bb7, Bb7, Bb7, A7, D7, G7, C7, C#M7, D7, C#M7, C6, Dm7_G7, CM7, Ebm7_G#7, C#M7, Gm7b5, C7, C#M7, G7, F#7, FM7, G7, Bb7, Bb7, Bb7, Bb7, A7, D7, G7, C7, C#M7, D7, C#M7, C6]                                                                                                                                                                                                                                                                                           \n",
            "882   5              42.69          Nostalgia In Times Square [jazz1350]     0_nan   [C7, Bb7, C7, Bb7, C7, Bb7, C7, Bb7, Ebm7_G#7, Ebm7_G#7, C7, Bb7, C7, Bb7, Am7, D7, Gm7_C7, Fm7_Bb7, C7]                                                                                                                                                                                                                                                                                                                                                                                                                           \n",
            "903   5              41.73          On Broadway [jazz1350]                   0_nan   [C7, Bb7, C7, Bb7, C7, Bb7, C7, Bb7, C7, Bb7, C7, Bb7, C7, Bb7, C7, Bb7, F7, Eb7, F7, Eb7, F7, Eb7, F7, G7, C7, Bb7, C7, Bb7, C7, Bb7, C7, Bb7]                                                                                                                                                                                                                                                                                                                                                                                    \n",
            "1176  5              40.33          Think Of One [jazz1350]                  0_nan   [C, F#7(+b5), Am7, Bb7, Eb13, G#7, C#13, C, F#7, Am7, Bb7, Eb7, G#7, C#7, C, F#7(+b5), Am7, Bb7, Eb13, G#7, C#13, C, F#7, Am7, Bb7, Eb7, G#7, C#7, Gm7_C7, FM7, D7, D7, D7(+b5), Dm7_G7, C, F#7(+b5), Am7, Bb7, Eb13, G#7, C#13, C, F#7(+b5), Am7, Bb7, Eb7, G#7, C#7]                                                                                                                                                                                                                                                             \n",
            "811   5              26.39          Monk's Dream [jazz1350]                  0_nan   [CM7, F7, Bb7, CM7, F7, Bb7, CM7, F7, Bm7, Bb7, A7, G#7, G7, CM7, F7, Bb7, CM7, F7, Bb7, CM7, F7, Bm7, Bb7, A7, G#7, G7, C7, C7, C7, C7, C7, C7, C7, C7, CM7, F7, Bb7, CM7, F7, Bb7, CM7, F7, Bm7, Bb7, A7, G#7, G7]                                                                                                                                                                                                                                                                                                               \n",
            "1375  5              20.15          Ballin' The Jack [trad]                  0_nan   [C, D7, G7, G#7, F7, Bb7, B7, B7, G#7, G7, C, D7, G7, G#7, F7, Bb7, B7, B7, G#7, G7, C7, C7, F7, F7, Bb7, Bb7, Eb, G7, G#7, G7, C7, C7, F7, F7, B7, Eb, C7, Fm, Bb7, Eb]                                                                                                                                                                                                                                                                                                                                                           \n",
            "\n",
            "*** TOPIC 6 ***\n",
            "51 tunes\n",
            "      DominantTopic  Contribution%                                                   Title Section                                                                                                                                                                                                                                                                                                                                                                                                                                              Tunes\n",
            "1149  6              98.64          Tell me a bedtime story [jazz1350]                      0_nan   [GM7, GM7, F#m7, F#m7, GM7, GM7, F#m7, F#m7, GM7, GM7, F#m7, F#m7, GM7, F#m7, CM7, CM7, BM7, GM7, EM7, CM7, BM7, GM7, EM7, CM7, F#m7_B7, EM7, E7, Eb7, DM7, C#7, CM7, CM7, BM7, GM7, EM7, CM7, BM7, GM7, EM7, CM7, B7, Bb7, A7, G#m7, Em7, C#m7, Ebm7, Em7, F#m7, GM7, GM7, F#m7, F#m7, Em7, A13, DM7, CM7, BM7, GM7, EM7, CM7, BM7, GM7, EM7, CM7, EM7, CM7, BM7, GM7, EM7, CM7, BM7, GM7, EM7, CM7, BM7]                                       \n",
            "374   6              91.81          Fantasy in D (or Ugetsu) [jazz1350]                     0_nan   [DM7, Em7, DM7, Em7, DM7, Em7, DM7, Em7, EbM7, Em7, EbM7, Em7, EbM7, Em7, EbM7, Em7, DM7, CM7, DM7, CM7, DM7, G#7, GM7, C#m7b5_F#7, Bm7, CM7, Bm7, E13, GM7, F#13, G#13, Bb13, Eb13, DM7, CM7, DM7, CM7, DM7, G#7, GM7, C#m7b5_F#7, Bm7, CM7, Bm7, E13, GM7, F#13, G#13, Bb13, Eb13, DM7, Em7, DM7, Em7, DM7, Em7, DM7, Em7, DM7, CM7, DM7, CM7, DM7, G#7, GM7, C#m7b5_F#7, Bm7, CM7, Bm7, E13, Bbm7_Eb7, DM7, Em7, DM7, Em7, DM7, Em7, DM7, Em7]\n",
            "970   6              79.07          Punjab [jazz1350]                                       0_nan   [GM7, AM7, BM7, CM7, GM7, AM7, BM7, CM7, DM7, DM7, Bb13, BM7, G#M7, Fm7b5, Bb7, EM7, EM7, EM7, EM7, Eb7_G#M7, G13, F#13, BM7, E7, F7, F7, F7, GM7, AM7, BM7, CM7]                                                                                                                                                                                                                                                                                \n",
            "371   6              78.12          Falling Grace [jazz1350]                                0_nan   [CM7, CM7, F#7, Bm7, Am7, D7, GM7, F#7, Bm7, E7, AM7, Bbm7b5, Eb7, G#m7, C#m7_F#7, BM7, Em7, Fdim7, DM7, GM7, G#m7b5, C#7, F#m7, Fm7, Em7, A7, DM7, GM7, CM7, FM7]                                                                                                                                                                                                                                                                               \n",
            "862   6              65.09          Nascimento [jazz1350]                                   0_nan   [GM7, C7, GM7, C7, GM7, C7, GM7, C7, BM7, BM7, Fm7b5, Bb7, Ebm7, Ebm7, Cm7b5, F7, BbM7, Am7b5, D7, GM7, F#m7b5_B7, EM7, Ebm7b5, G#7, C#M7, F#7, GM7, C7, GM7, C7, BM7, BM7, Fm7b5, Bb7, BbM7, Am7b5, D7, Bm7b5_E7, Am7, D7, GM7, C7, GM7, C7, GM7, C7, GM7, C7]                                                                                                                                                                                  \n",
            "1290  6              63.64          Windows [jazz1350]                                      0_nan   [Am7, Am7, Am7, Am7, F#m7b5, F#m7b5, F#m7b5_B7, Em7, Em7, Em7, Em7, C7, C7, C7, C7, DM7, DM7, DM7, DM7, DM7, DM7, DM7, DM7, F#7, G7, F#7, G7, F#7, G7, F#7, G7, DM7, DM7, Bm7, Bm7, G#m7b5, G#m7b5, C#7, C#7, F#m7, F#m7_B7, B7, DM7, C#m7, Bm7, Bb7, AM7, AM7, Bm7, Bm7, AM7, AM7, Bm7, Bm7]                                                                                                                                                    \n",
            "1217  6              61.86          Tune Up [jazz1350]                                      0_nan   [F#m7_B7, EM7, EM7, Em7, A7, DM7, DM7, Dm7_G7, CM7, Am7, F#m7, G7, CM7, B7, F#m7_B7, EM7, EM7, Em7, A7, DM7, DM7, Dm7_G7, CM7, Am7, F#m7_B7, EM7, EM7]                                                                                                                                                                                                                                                                                           \n",
            "315   6              60.53          Dolphin Dance [jazz1350]                                0_nan   [CM7, BbM7, CM7, Bm7b5_E7, Am7, FM7, Am7, F#m7_B7, EM7, Fm7, Dm7, Dm7, E7, Am7, Am7, F#m7_B7, EM7, E7, F#, CM7, D7, B, D7, C#m7_F#7, C7, F#m7_B7, G#m7_C#7, Bm7, Bbm7_Eb7, BM7, AM7, BM7, AM7, BbM7, G13, FM7, E7]                                                                                                                                                                                                                               \n",
            "37    6              58.43          Afro Centric [jazz1350]                                 0_nan   [CM7, CM7, CM7, CM7, Bm7, Bm7, Bm7, Bm7, CM7, CM7, CM7, CM7, GM7, GM7, GM7, GM7, FM7, FM7, FM7, FM7, Em7, FM7, Em7, FM7, F#m7b5, BM7]                                                                                                                                                                                                                                                                                                            \n",
            "63    6              57.86          All The Things You Are [jazz1350]                       0_nan   [Am7, Dm7_G7, CM7, FM7, F#m7_B7, EM7, EM7, Em7, Am7, D7, GM7, CM7, C#m7_F#7, BM7, BM7, C#m7_F#7, BM7, BM7, Bbm7b5, Eb7_G#M7, E7, Am7, Dm7_G7, CM7, FM7, FmM7, Em7, Ebdim7, Dm7_G7, CM7, Bm7b5_E7]                                                                                                                                                                                                                                                \n",
            "867   6              56.38          Never Will I Marry [jazz1350]                           0_nan   [FM7, FM7, Em7, Em7, FM7, FM7, Em7, FM7, BbM7, BbM7, Bm7, E7, Am7, F#m7_B7, EM7, C#7, F#m7_B7, EM7, FM7, FM7, Em7, Am7, Dm7, Dm7_G7, CM7]                                                                                                                                                                                                                                                                                                        \n",
            "202   6              55.63          Butterfly Dreams [jazz1350]                             0_nan   [BM7, G#m7, F#m7_B7, Am7, D7, G#M7, B7(+b5), CM7, G#M7, FM7, Em7, Em7, Em7, Em7, Ebm7, Ebm7, DM7, DM7, BM7, BM7, BM7, BM7, CM7, G#M7, FM7, Em7, Em7, Em7, Em7, Ebm7, Ebm7, DM7, DM7, BM7, BM7, BM7, BM7, Fm7, Fm7, Fm7, Fm7, C#m7, C#m7, C#m7, C#m7]                                                                                                                                                                                             \n",
            "362   6              53.26          Everybody's Song But My Own [jazz1350]                  0_nan   [Dm7, E7, Am7, Am7, F#m7b5_B7, B7, Em7, G#M7, Dm7, E7, Am7, Am7, F#m7b5_B7, B7, Em7, Em7, C#m7b5_F#7, BM7, EM7, BM7, EM7, BM7, Bbm7b5, Eb7, G#m7, G#m7, Fm7b5, Bb7, EbM7, Em7, DM7, Ebm7, Dm7, E7, Am7, CM7, F#m7b5_B7, B7, Em7, GM7, C#m7b5_F#7, Bm7, BbM7, Am7, Ebm7, G#13, GM7, G#M7, GM7, G#M7, C#M7, Cm7]                                                                                                                                   \n",
            "137   6              51.11          Bill's Hit Tune [jazz1350]                              0_nan   [Bm7b5_E7, E7, Am7, FM7, Bm7b5_E7, Am7, A7, Dm7_G7, G7, CM7, FM7, Bm7b5_E7, E13, AM7, DM7, G#m7b5, C#7, F#m7, F#m7, Ebm7b5, G#7, C#m7, C#m7, Bbm7b5, Eb7, G#m7, G#m7, Fm7b5, Bb7, EbM7, C7, Bm7b5_E7, E13, AM7, F#7, Bm7b5_E7, Am7, Am7]                                                                                                                                                                                                         \n",
            "128   6              47.75          Better Days Ahead [jazz1350]                            0_nan   [E, BM7, G, DM7, G#7, GM7, Em7, F#m7, Bm7, Am7, D7, G#m7_C#7, F#M7, Fm7b5, Bb7, Ebm7_G#7, G#m7_C#7, F#M7, C13, BM7, Bbm7, Ebm7, C#m7, C7, C#, F#M7, DM7, E, DM7, F#M7, DM7, E, GM7, Ebm7, G#13, G#m7_C#7, GM7]                                                                                                                                                                                                                                   \n",
            "1013  6              47.74          Say the Brother's Name [jazz1350]                       0_nan   [CM7, CM7, Bm7, FM7, Em, Em, CM7, G, BbM7, BbM7, Bb7, EbM7, Dm7, G#, Gm, Fm7, G#M7, F#M7, BM7, EM7, Ebm7, C#m7, AM7, G#m7, AM7, AM7, G#m7, AM7, AM7, F#m7, E, CM7, Bm7, E, CM7, C, G6, C#7, C#7, Em7, Em7, FM7, F#m7, G7, CM7, FM7, F#m7, G7, CM7, FM7, F#m7, G7]                                                                                                                                                                                \n",
            "941   6              44.85          Pee Wee [jazz1350]                                      0_nan   [CM7, D, E, C#m7, G#M7, AM7, BbM7, BbM7, F#7, F#7(+b5), E7, CM7, FM7, F#7, F#7(+b5), DM7, CM7, FM7, C7, E, E, E]                                                                                                                                                                                                                                                                                                                                 \n",
            "30    6              44.36          Ablution [jazz1350]                                     0_nan   [Am7, Dm7_G7, CM7, F6, B7, EM7, EM7, Em7, Am7, D7, G7, CM7, F#7, BM7, BM7, C#m7_F#7, BM7, BM7, Bbm7_Eb7, G#M7, E7, Am7, Dm7_G7, CM7, FM7, Bb7, Em7, Ebdim7, Dm7, C#M7, C6, E7]                                                                                                                                                                                                                                                                   \n",
            "919   6              43.60          Onmo [jazz1350]                                         0_nan   [CM7, CM7, GM7, GM7, Bm_Bm, G#7(+b5), GM7, E, F7(+b5), Bbm, C#, F#M7, Ebm, BM7, G7(+b5)]                                                                                                                                                                                                                                                                                                                                                         \n",
            "612   6              42.64          Is That So [jazz1350]                                   0_nan   [Fm7, Ebm7, BM7, C#m7, AM7, DM7, GM7, F#7, F13, E7, EbM7, Am7, D7, GM7, Cm7, F7, BbM7, A7, G#13, G7, F#M7, Ebm7, C#m7, AM7, Bm7, GM7, CM7, FM7, E7, Eb13, D7, C#M7, Gm7_C7, G#m7_C#7, Am7, D7, EbM7, Cm7, Bbm7, F#M7, G#m7, EM7, AM7, DM7, FM7]                                                                                                                                                                                                  \n",
            "602   6              41.83          Incentive [jazz1350]                                    0_nan   [F#m7b5, B13, Em7b5, A13, Dm7b5, G13, C#m7_F#7, FM7, E13, Am7, Am7, F#m7_B7, EM7, C#m7, F#m7, B13, E6, Dm7_G7, F#m7b5, B13, Em7b5, A13, Dm7b5, G13, C#m7_F#7, FM7, E13, Am7, Am7, D13, Ebdim7, Em7, A7, Dm7_G7, B13, CM7]                                                                                                                                                                                                                        \n",
            "910   6              41.27          Once Upon A Summertime (La Valse Des Lilas) [jazz1350]  0_nan   [Am6, G7, FM7, E7, Am7, CM7, Bm7b5_E7, Am7, Am, F#m7b5_B7, E7, Em7, A13, D6, G7, G7, A6, F#m7, B13, B7, E7, E7, AM7, E, F#m7, Bm7, E7, AM7, E, F#m7, Bm7, E7, Em7, A7, D6, G7, G7, A6, F#m7, B13, B7, E7, E7, Am6, Bm7b5_E7, FM7, BbM7, A6]                                                                                                                                                                                                      \n",
            "1265  6              40.90          What Are You Doing The Rest Of Your Life [jazz1350]     0_nan   [Am, Am, Am7, F#m7b5, FM7, FM7, Dm7, Dm7, Bm7, E7, Am, Am, Am7, F#m7b5, FM7, FM7, Dm7, Bm7b5_E7, AM7, AM7, Bm7, E7, AM7, F#m7, Bm7, E7, AM7, G#m7_C#7, F#M7, Gm7_C7, FM7, E7, Am, Am, Am7, F#m7b5, FM7, FM7, Dm7, Dm7, Bm7, E7, FM7, Bm7b5_E7, FM7, F7, Am7, Bm7b5_E7, Am, Bm7b5_E7]                                                                                                                                                             \n",
            "897   6              39.75          Old Devil Moon [jazz1350]                               0_nan   [C6, Bb6, C6, Bb6, C6, Bb6, C7, C7, FM7, FM7, Fm7_Bb7, Ebm7_G#7, C#M7, G7, C6, Bb6, C6, Bb6, AM7, AM7, Am7, D7, Dm7_G7, C6, Bb6, C6, Bb6, C6, Bb6, C7, C7, FM7, FM7, Fm7_Bb7, Ebm7_G#7, C#M7, G7, C6, Bb6, C6, Bb6, C6, Bb6, Em7, A7, Dm7_G7, C6, Bb6]                                                                                                                                                                                           \n",
            "430   6              39.46          Gloria's Step [jazz1350]                                0_nan   [CM7, BbM7, AM7, G#M7, G7, Cm7, CM7, BbM7, AM7, G#M7, G7, Cm7, Bm7, CM7, Em7, Bm7b5, Dm7b5, Am7b5, Cm7b5, Fm7b5, Bb7, Bb7]                                                                                                                                                                                                                                                                                                                       \n",
            "858   6              39.40          Nacada [jazz1350]                                       0_nan   [CM7, Am7, G#M7, E7, Am7, D13, C#M7, F#7, Fm7b5, Bb7, AM7, D13, GM7, Em7, EbM7, G#7, Dm7_G7, GM7, Em7, EbM7, G#7, GM7]                                                                                                                                                                                                                                                                                                                           \n",
            "1246  6              39.22          Walkin' up [jazz1350]                                   0_nan   [CM7, BbM7, G#M7, F#M7, FM7, B13, EM7, AM7, EbM7, G#M7, C#M7, F#M7, BM7, EM7, AM7, DM7, CM7, BbM7, G#M7, F#M7, FM7, B13, EM7, AM7, EbM7, G#M7, C#M7, F#M7, BM7, EM7, AM7, DM7, G#7, G#7, G#7, G#7, G7, G7, G7, G7, CM7, BbM7, G#M7, F#M7, FM7, B13, EM7, AM7, EbM7, G#M7, C#M7, F#M7, BM7, EM7, AM7, DM7]                                                                                                                                        \n",
            "968   6              38.70          Prism [jazz1350]                                        0_nan   [Am, FM7, F#m7b5, Ebm7b5, G#7, C#m7, Em7, B13, C, Em7, E7, Dm7, Am7, F#m7b5, F#7, Bm, BmM7, GM7, DM7, Dm7, C#7, C#7, C#m7_F#7, G#m7, D, G#7, C#7, C#7, C#7, C#, AM7, F#m, G#m7b5, DM7, C#m7_F#7, G#m7b5, GM7, F#7, E, F#, DM7, G7, C#m7b5, DM7, B, B, C, C#, D]                                                                                                                                                                                  \n",
            "686   6              38.47          Lament [jazz1350]                                       0_nan   [Am, Gm7_C7, FM7, Bm7, E7, AM7, C#m7b5_F#7, Bm7, G#m7b5, C#7, F#m, E7, Dm7, C#m7, F#m7, Bm7, G#m7b5, C#7, F#m, Gm7_C7, FM7, Bm7b5_E7, Am, Gm7_C7, FM7, Bm7, E7, AM7, C#m7b5_F#7, Bm7, G#m7b5, C#7, F#m, E7, Dm7, C#m7, F#m7, Ebm7b5, Dm7_G7, AM7, F#m7, F7, E7, AM7, Bm7b5_E7]                                                                                                                                                                   \n",
            "1231  6              38.00          Unity Village [jazz1350]                                0_nan   [Am, E7, FM7, FM7, Am, E7, FM7, BbM7, AM7, C#m7, G#m7, Eb7, F#m7_B7, EM7, E, EM7, E, C, G, Eb, Bb, Bb, C, F, B, E, E7]                                                                                                                                                                                                                                                                                                                           \n",
            "\n",
            "*** TOPIC 7 ***\n",
            "106 tunes\n",
            "      DominantTopic  Contribution%                                         Title Section                                                                                                                                                                                                                                                                                                                                                                                                                          Tunes\n",
            "346   7              97.60          Eclypso [jazz1350]                            0_nan   [Dm7_G7, Em7, Am7, Dm7_G7, CM7, Em7, Dm7_G7, Em7, Am7, Dm7_G7, CM7, A7, Dm7_G7, Em7, Am7, Dm7_G7, CM7, Em7, Dm7_G7, Em7, Am7, Dm7_G7, CM7, Gm7_C7, FM7, FM7, Am7, D7, Dm7_G7, A7, Dm7_G7, Em7, Am7, Dm7_G7, CM7, Em7, Dm7_G7, Em7, Am7, Dm7_G7, CM7, A7]                                                                                                                                                                     \n",
            "616   7              88.24          Isn't It A Pity [jazz1350]                    0_nan   [CM7, Am7, F#m7b5_B7, Em7, A7, Dm7_G7, CM7, Gm7_C7, FM7, Em7, Dm7_G7, Em7, A7, Dm7_G7, CM7, Am7, F#m7b5_B7, Em7, A7, Dm7_G7, CM7, Gm7_C7, FM7, Em7, Dm7_G7, C6, F#m7b5_B7, Em7, C#7, F#m7b5_B7, Em7, A7, D7, GM7, Em7, Am7, D7, G7, F7, C#7, CM7, Am7, F#m7b5_B7, Em7, A7, Dm7_G7, CM7, Gm7_C7, FM7, Em7, Dm7_G7, C6, Am7, Dm7_G7]                                                                                           \n",
            "792   7              84.83          Milano [jazz1350]                             0_nan   [Dm7_G7, CM7, Am7, Dm7_G7, C7, F#7, FM7, Dm7_G7, Em7, A7, Dm7_G7, CM7, A7, Dm7_G7, CM7, Am7, Dm7_G7, C7, F#7, FM7, Dm7_G7, Em7, A7, Dm7_G7, Gm7_C7, FM7, Fm7, Em7, Am7, Dm7_G7, C7, Gm7_C7, FM7, Fm7, Em7, Am7, Fm7b5, B7, Em7, A7, Dm7_G7, CM7, Am7, Dm7_G7, C7, F#7, FM7, Dm7_G7, Em7, A7, Dm7_G7, C6, A7, Em7, A7, Dm7_G7, C6]                                                                                            \n",
            "569   7              82.62          I've Grown Accustomed To Her Face [jazz1350]  0_nan   [CM7, F7, Em7, Am7, Dm7_G7, FM7, F#m7b5_B7, Em7, A7, Dm7, A7, Dm7_G7, CM7, F7, Em7, Am7, Dm7_G7, FM7, F#m7b5_B7, Em7, A7, Dm7_G7, E7, A7, F#m7b5, Fm7_Bb7, Em7, A7, Dm7, Dm7, C6, G7]                                                                                                                                                                                                                                        \n",
            "1322  7              82.27          You Turned The Tables on Me [jazz1350]        0_nan   [Dm7_G7, CM7, Dm7, Em7, A7, Dm7_G7, CM7, Gm7_C7, FM7, Bb7(+b5), Em7, Ebdim, Dm7, Ebdim, Em7, A7, Dm7, A7, Dm7_G7, CM7, Am7, D7, Gm7_C7, FM7, FM7, Fm7_Bb7, CM7, Ebdim, Dm7, A7, Dm7_G7, CM7, CM7]                                                                                                                                                                                                                            \n",
            "1179  7              81.09          This I Dig Of You [jazz1350]                  0_nan   [CM7, Dm7, Em7, Dm7, Em7, Dm7, CM7, Gm7_C7, FM7, F#m7b5_B7, Em7, A7, Ebm7_G#7, Dm7_G7, CM7, Dm7, Em7, Dm7, Em7, Dm7, CM7, Gm7_C7, FM7, F#m7b5_B7, Em7, A7, Dm7_G7, CM7, CM7]                                                                                                                                                                                                                                                 \n",
            "147   7              76.59          Blackberry Winter [jazz1350]                  0_nan   [CM7, Em7, Am7, Dm7_G7, CM7, Dm7, Em7, FM7, Em7, Am7, Dm7_G7, C6, Am7, Dm7_G7, CM7, Em7, Am7, Dm7_G7, CM7, Dm7, Em7, FM7, Em7, Am7, Dm7_G7, C6, FM7, C6, Gm7_C7, Am7, Dm7, Gm7_C7, FM7, Em, EmM7, Em7, Em6, F#7, B7, Em7, A7, Dm7_G7, CM7, Em7, Am7, Dm7_G7, CM7, Dm7, Em7, FM7, Em7, Am7, Dm7_G7, C6, Dm7_G7]                                                                                                               \n",
            "1010  7              74.24          Satin Doll [jazz1350]                         0_nan   [Dm7_G7, Dm7_G7, Em7, A7, Em7, A7, Am7, D7, G#m7_C#7, CM7, F7, Em7, A7, Dm7_G7, Dm7_G7, Em7, A7, Em7, A7, Am7, D7, G#m7_C#7, CM7, CM7, Gm7_C7, Gm7_C7, FM7, FM7, Am7, D7, Am7, D7, G7, G7, Dm7_G7, Dm7_G7, Em7, A7, Em7, A7, Am7, D7, G#m7_C#7, CM7, F7, Em7, A7]                                                                                                                                                            \n",
            "390   7              72.26          Folks Who Live On The Hill, The [jazz1350]    0_nan   [CM7, F#7, FM7, G7, CM7, Ebdim7, Dm7, Am7, G7, Am7, Dm7_G7, CM7, C7, FM7, G7, Em7, A7, Dm7_G7, C6, Am7, Dm7_G7, CM7, F#7, FM7, G7, CM7, Ebdim7, Dm7, Am7, G7, Am7, Dm7_G7, CM7, C7, FM7, G7, Em7, A7, Dm7_G7, C6, F#7, B7, Em7, F#m7b5_B7, Em7, EmM7, Em7, A7, D7, G6, G7, Em7, A7, Dm7_G7, CM7, F#7, FM7, G7, CM7, Ebdim7, Dm7, Am7, G7, Am7, Dm7_G7, CM7, C7, FM7, G7, Em7, A7, Dm7_G7, Em7b5, A7, Dm7_G7, C6, Am7, Dm7_G7]\n",
            "851   7              72.06          My One And Only Love [jazz1350]               0_nan   [CM7, Am7, Dm7_G7, G#dim, Am7, FM7, Em7, A7, Dm7_G7, G#dim, Am7, D7, Dm7_G7, Em7, A7, Dm7_G7, CM7, Am7, Dm7_G7, G#dim, Am7, FM7, Em7, A7, Dm7_G7, G#dim, Am7, D7, Dm7_G7, C6, F#m7b5_B7, Em7, F#m7b5_B7, Em7, F#m7b5_B7, Em, EmM7, Em7, A7, Dm7, A7, Dm7_G7, CM7, Am7, Dm7_G7, G#dim, Am7, FM7, Em7, A7, Dm7_G7, G#dim, Am7, D7, Dm7_G7, C6, G7]                                                                             \n",
            "52    7              71.57          Alice In Wonderland [jazz1350]                0_nan   [Dm7_G7, CM7, FM7, Bm7b5_E7, Am7, Eb7, Dm7_G7, Em7, Am7, Dm7_G7, Em7, A7, Dm7_G7, CM7, FM7, Bm7b5_E7, Am7, Eb7, Dm7_G7, Em7, Am7, Dm7_G7, CM7, CM7, D7, G7, Em7, Am7, Dm7_G7, CM7, FM7, F#m7b5_B7, Em7, A7, Dm7, A7, Dm7_G7]                                                                                                                                                                                                 \n",
            "380   7              69.13          Feel Like Makin' Love [jazz1350]              0_nan   [Dm7_G7, CM7, Bb7, A7, Dm7_G7, CM7, F#7, FM7, Em7, Dm7, Am7, FM7, Em7, Bb7, Am7, C7, C#7, D7]                                                                                                                                                                                                                                                                                                                                \n",
            "524   7              67.67          I Remember Clifford [jazz1350]                0_nan   [FM7, G7, E7, E7, Am7, Gm7, Fm7, Ebm7, Dm7_G7, CM7, E7, FM7, F#dim7, G7, G#dim7, Am7, Am7, F#m7b5_B7, Em7, Em7, C#m7b5_F#7, Dm7_G7, CM7, E7, FM7, F#dim7, G7, G#dim7, Am7, Am7, F#m7b5_B7, Em7b5, A7, Dm7_G7, Em7, FM7, F#m7b5_B7, Em7, A7, Dm7, G7(+b5), CM7, Bm7b5_E7, Am7, Am7, F#m7b5_B7, Em7, A7, Dm7_G7, CM7, E7, FM7, F#dim7, G7, G#dim7, Am7, Am7, F#m7b5_B7, Em7b5, A7, Dm7, G7(+b5), CM7]                          \n",
            "257   7              67.26          Corcovado [jazz1350]                          0_nan   [Am6_Am6, G#dim7, G#dim7, Gm7_C7, Fdim7, FM7, FM7, Fm7_Bb7, Em7, A7, D7, D7, Dm7_G7, Am6_Am6, G#dim7, G#dim7, Gm7_C7, Fdim7, FM7, FM7, Fm7_Bb7, Em7, Am7, Dm7_G7, Em7, A7, Dm7_G7, C6]                                                                                                                                                                                                                                       \n",
            "461   7              65.95          Hello [jazz1350]                              0_nan   [Dm7, Em7, A7, Dm7_G7, CM7, F7, Em7, Am7, Dm7, Em7, Dm7_G7, CM7, Dm7, Em7, Am7, Dm7, Em7, A7, Dm7_G7, CM7, F7, Em7, Am7, Dm7, Em7, Dm7_G7, Gm7_C7, FM7, C, Bm7, E7, Am7, Gm7_C7, FM7, C, Bm7, E7, Am7, D7, Dm, Em7b5, A7, Dm7, Em7, A7, Dm7_G7, CM7, F7, Em7, Am7, Dm7, Dm7_G7, CM7, CM7]                                                                                                                                    \n",
            "1233  7              64.46          Up Jumped Spring [jazz1350]                   0_nan   [CM7, A7, Dm7_G7, G#dim7, Am7, Gm7, F#m7b5_B7, Em7, Fm7, Em7, Fm7, C#7, F#7, Dm7b5, G7, CM7, A7, Dm7_G7, G#dim7, Am7, Gm7, F#m7b5_B7, Em7, Fm7, Em7, Fm7, Dm7_G7, C6, Bm7b5_E7, Am7, D7, GM7, Em7, Bbm7, Fm7, Dm7_G7, Dm7_G7, C#M7, CM7]                                                                                                                                                                                     \n",
            "624   7              63.64          It Might As Well Be Spring [jazz1350]         0_nan   [CM7, Dm7, Em7, A7, Dm7_G7, CM7, CM7, Gm7_C7, FM7, F#m7b5_B7, Em7, A7, Dm7_G7, Em7, Am7, Dm7_G7, CM7, Dm7, Em7, A7, Dm7_G7, CM7, CM7, Gm7_C7, FM7, F#m7b5_B7, Em7, A7, Dm7_G7, CM7, Gm7_C7, FM7, Dm7, Gm7_C7, Gm7_C7, FM7, Em7b5, A7, Dm7, Dm7, Bm7b5_E7, Am7, D7, Dm7_G7, Em7, A7, D7, D7, Fm7_Bb7, CM7, CM7, Am7, Am7, F#m7b5, Fm6, Em7, A7, Dm7_G7, CM7, CM7, Dm7_G7]                                                     \n",
            "980   7              63.10          Rainbow Connection, The [jazz1350]            0_nan   [CM7, A7, Dm7_G7, CM7, Am7, FM7, G7, CM7, A7, Dm7_G7, CM7, Am7, FM7, FM7, FM7, FM7, FM7, FM7, Em7, Em7, A7, A7, Dm7_G7, Em7, A7, Dm7, G13, C6, Am7, Dm7_G7, C6, E7, Am7, Dm7_G7, G7, CM7, CM7]                                                                                                                                                                                                                               \n",
            "1171  7              62.22          They Didn't Believe Me [jazz1350]             0_nan   [Dm7_G7, CM7, Em7, A7, Dm7_G7, CM7, Am7, Dm7_G7, Em7, Am7, Em7, F#m7b5_B7, Em7, A7, Dm7_G7, CM7, Am7, Dm7_G7, CM7, Bb7(+b5), A7, Dm7_G7, CM7, Dm7, Em7, A7, Dm7_G7, CM7, CM7]                                                                                                                                                                                                                                                \n",
            "1168  7              62.10          These Foolish Things [jazz1350]               0_nan   [CM7, Am7, Dm7_G7, CM7, Am7, Dm7_G7, Gm7_C7, FM7, E7, A7, D7, Dm7_G7, CM7, Am7, Dm7_G7, CM7, Am7, Dm7_G7, Gm7_C7, FM7, E7, A7, D7, G7, C6, F#m7b5_B7, Em7, C#m7b5, F#m7b5_B7, Em7, A7, D7, GM7, Em7, Am7, D7, G7, C#dim7, Dm7_G7, CM7, Am7, Dm7_G7, CM7, Am7, Dm7_G7, Gm7_C7, FM7, E7, A7, D7, G7, C6, Dm7_G7]                                                                                                               \n",
            "297   7              61.79          Del Sasser [jazz1350]                         0_nan   [CM7, B7, Am7, Am7, F#m7b5, Fm6, Em7, A7, Dm7_G7, CM7, CM7, Dm7_G7, CM7, CM7, Dm7_G7, CM7, CM7, CM7, B7, Am7, Am7, F#m7b5, FmM7, Em7, A7, Dm7_G7, C6, C6, Dm7_G7, CM7, CM7, Dm7_G7, CM7, CM7, CM7, B7, Am7, Am7, F#m7b5, FmM7, Em7, A7, Dm7_G7, C6, C6, Gm7_C7, FM7, FM7, Gm7_C7, FM7, FM7, Em7, A7, DM7, DM7, Dm7_G7, Em7, A7]                                                                                              \n",
            "1203  7              61.72          Too Young To Go Steady [jazz1350]             0_nan   [CM7, Am7, Dm7_G7, CM7, Am7, Dm7_G7, Em7, A7, Dm7, Bm7b5_E7, Am7, D7, Dm7_G7, CM7, Am7, Dm7_G7, CM7, Am7, Dm7_G7, Em7, A7, Dm7_G7, C6, F#m7b5_B7, Em7, F#m7b5_B7, Em7, F#m7b5_B7, Em7, F#m7b5_B7, Em7, A7, Dm7_G7, CM7, Am7, Dm7_G7, CM7, Am7, Dm7_G7, Em7, A7, Dm7_G7, C6, A7, Dm7_G7]                                                                                                                                      \n",
            "745   7              60.34          Loop, The [jazz1350]                          0_nan   [CM7, Am7, Dm7_G7, G#dim7, Am7, Am7, F#m7b5, FmM7, FM7, Ebdim7, Dm7, E7, Am7, B7, Em7, A7, Dm7_G7, CM7, Am7, Dm7_G7, G#dim7, Am7, Am7, F#m7b5, FmM7, C, Ebdim7, Dm7, E7, Am7, D7, Dm7_G7, F#7, FM7, F#dim7, C, Fm7, Am7, Fm7, C, F#dim7, FM7, Bb7, Em7, A7, Ebm7_G#7, Dm7_G7]                                                                                                                                                \n",
            "521   7              58.18          I May Be Wrong [jazz1350]                     0_nan   [CM7, Gm7_C7, FM7, Bb7, CM7, Am7, D7, Dm7_G7, C6, G7, CM7, Gm7_C7, FM7, Bb7, CM7, Am7, D7, Dm7_G7, C6, A7, Dm7_G7, Em7, A7, Dm7_G7, F#m7b5_B7, Em7, A7, Am7, D7, Dm7_G7, CM7, Gm7_C7, FM7, Bb7, CM7, Am7, D7, Dm7_G7, C6, G7]                                                                                                                                                                                                \n",
            "10    7              58.08          A Felicidade [jazz1350]                       0_nan   [Am7, Am7, CM7, CM7, Em7, B7, Em7, A7, Dm7_G7, Am7, Am7, CM7, CM7, Em7, B7, Em7, A7, Dm7_G7, CM7, CM7, Bm7b5_E7, Am7, Am7, Gm7_C7, FM7, Dm7, Am7, D7, Am7, Bm7b5_E7, Am7, G7, CM7, F7, CM7, CM7, Gm7_C7, FM7, FM7, Dm7_G7, CM7, CM7, F#m7b5_B7, Em7, A7, Dm7_G7, Am7, Am7, D7, Dm7, Am7, Bm7b5_E7, Am7, Am7]                                                                                                                 \n",
            "1170  7              56.93          They Can't Take That Away From Me [jazz1350]  0_nan   [CM7, Dm7, Em7, Ebdim7, Dm7_G7, Gm7_C7, FM7, Em7, A7, Dm7_G7, CM7, Dm7, Em7, Ebdim7, Dm7_G7, Gm7_C7, FM7, G7, C6, F#m7b5_B7, Em7, B7, Em7, B7, Em7, C#m7b5, F#m7b5_B7, Em7, B7, Em7, A7, D7, G7, CM7, Dm7, Em7, Ebdim7, Dm7_G7, Gm7_C7, FM7, G7, C6, Fm6, E7, A7, D7, G7, C6, G7]                                                                                                                                            \n",
            "1157  7              56.06          That's All [jazz1350]                         0_nan   [CM7, Dm7, Em7, Dm7_G7, CM7, F7, Em7, A7, F#m7b5, Fm7, CM7, A7, Dm7_G7, Em7, A7, Dm7_G7, CM7, Dm7, Em7, Dm7_G7, CM7, F7, Em7, A7, F#m7b5, Fm7, CM7, A7, Dm7_G7, C6, Gm7_C7, Am7, Dm7, Gm7_C7, FM7, Am7, D7, Bm7, Em7, Am7, D7, Dm7_G7, CM7, Dm7, Em7, Dm7_G7, CM7, F7, Em7, A7, F#m7b5, Fm7, CM7, A7, Dm7_G7, C6, G7]                                                                                                        \n",
            "656   7              55.93          Joker, The [jazz1350]                         0_nan   [C, A7, Dm7_G7, Em7, Eb7, Dm7_G7, Gm7_C7, F, Fm7, Em7, A7, Dm7_G7, C, A7, Dm7_G7, Em7, Eb7, Dm7_G7, Gm7_C7, F, Fm7, Dm7_G7, C, Gm7, F#7, FM7, FM7, Am7, D7, Dm7_G7]                                                                                                                                                                                                                                                          \n",
            "17    7              55.68          A Lovely Way To Spend An Evening [jazz1350]   0_nan   [FM7, Dm7_G7, Em7, Am7, Dm7_G7, CM7, Gm7_C7, FM7, Dm7_G7, Em7, Am7, Dm7_G7, C6, Gm7_C7, FM7, Bb7, Em7, Am7, Dm7_G7, CM7, Bm7b5_E7, Am7, D7, G7, Gm7_C7, FM7, Dm7_G7, Em7, Am7, Dm7_G7, CM7, Gm7_C7]                                                                                                                                                                                                                          \n",
            "1098  7              55.48          Star Dust [jazz1350]                          0_nan   [CM7, F7, E7, A7, Dm7_G7, Em7, Am7, F#m7_B7, Dm7_G7, CM7, F7, E7, A7, Dm7_G7, Em7, Am7, Dm7_G7, CM7, C7, FM7, FM7, FmM7, Fm7_Bb7, CM7, Em7, A7, Dm7, A7, Dm7_G7, Dm7_G7, CM7, Dm7, Ebdim, Em7, Am7, D7, Am7, D7, G7, Dm7_G7, C7, FM7, FM7, FmM7, Fm7_Bb7, CM7, Em7, A7, Dm7, A7, Dm7, Fm7_Bb7, CM7, Am7, Em7, A7, Dm7_G7, CM7, Gm7_C7]                                                                                       \n",
            "\n",
            "*** TOPIC 8 ***\n",
            "24 tunes\n",
            "      DominantTopic  Contribution%                                      Title Section                                                                                                                                                                                                                                                                                                                                                                                                                                                                                      Tunes\n",
            "766   8              97.15          Mahjong [jazz1350]                         0_nan   [A7, G6, A7, G6, A7, G6, A7, G6, A7, G6, A7, G6, A7, G6, A7, G6, FM7, G6, FM7, G6, FM7, G6, FM7, G6, F#7, Gm7_C7, FM7, Fm7_Bb7, A7, G6, A7, G6, A7, G6, A7, G6]                                                                                                                                                                                                                                                                                                                          \n",
            "1296  8              88.67          Wives And Lovers [jazz1350]                0_nan   [Dm7, G6, Dm7, G6, Dm7, G6, Dm7, G6, Em6, A7, Em7, A7, Em7, A7, Em7, A7, Am7, D7, F#m7b5_B7, CM7, CM7, F#m7_B7, BbM7, Em7, A7, Dm7, G6, Dm7, G6, Dm7, G6, Dm7, G6, Em6, A7, Em7, A7, Em7, A7, Em7, A7, Am7, D7, F#m7b5_B7, CM7, CM7, F#m7_B7, BbM7, Em7, A7, Dm7, G6, Dm7, G6, Dm7, G6, C6, C#dim7, Dm7, G6, Dm7, G6, Dm7, G6, CM7, A7, Dm7, G6, Dm7, G6, Dm7, G6, C6, C6]                                                                                                               \n",
            "1083  8              60.67          Soultrane [jazz1350]                       0_nan   [CM7, Em7b5, A7, Dm7, Bb7, Fm7_Bb7, Bdim, CM7, E7, A7, D7, G7, Em, Eb7, Dm, C#7, CM7, Em7b5, A7, Dm7, Bb7, Fm7_Bb7, Bdim, CM7, E7, A7, D7, G7, C6, F#m7b5_B7, Em7, F#m7b5_B7, Em7, A7, G#7, GM7, Em7, Am7b5, D7, Dm7, Gdim7, G#7(+b5), G7, C#7, CM7, Em7b5, A7, Dm7, Bb7, Fm7_Bb7, Bdim, CM7, E7, A7, D7, G7, C6, Dm7]                                                                                                                                                                   \n",
            "1272  8              53.09          When Lights Are Low [jazz1350]             0_nan   [CM7, Dm7, Em7, Dm7, CM7, Dm7, Em7, A7, Dm7, Dm7, Bb7, A7, Dm7_G7, C6, G7(+b5), CM7, Dm7, Em7, Dm7, CM7, Dm7, Em7, A7, Dm7, Dm7, Bb7, A7, Dm7_G7, C6, F#7, F6, Gm7, Am7, Gm7, F6, Gm7, Am7, D7, Gm7, Eb7, D7, Gm7_C7, F6, G7(+b5), CM7, Dm7, Em7, Dm7, CM7, Dm7, Em7, A7, Dm7, Dm7, Bb7, A7, Dm7_G7, C6, G7(+b5)]                                                                                                                                                                        \n",
            "1195  8              49.16          Tis Autumn [jazz1350]                      0_nan   [Dm7_G7, CM7, Dm7, Em7, A7, Dm7, Bb7, Am7, D13, Dm7, G13, C6, A7, Dm7_G7, CM7, Dm7, Em7, A7, Dm7, Bb7, Am7, D13, Dm7, G13, C6, Gm7_C7, Gm7_C7, F6, C7, F6, Am7, D7, Am7, D7, Dm7, A7, D7, G7, Dm7_G7, CM7, Dm7, Em7, A7, Dm7, Bb7, Am7, D13, Dm7, G13, C6, A7]                                                                                                                                                                                                                           \n",
            "687   8              48.47          Lamp Is Low, The [jazz1350]                0_nan   [Dm7, Dm7, G13, G13, G7, C6, F7, Em7, A7, Dm7, Dm7, G13, G13, G7, C6, F7, C6, C6, Gm7, Gm7_C7, C7, C7, FM7, FM7, Bb7, Bb7, D13, D13, G13, F7, Em7, A7, Dm7b5, G7, C6, Em7, A7]                                                                                                                                                                                                                                                                                                           \n",
            "1225  8              48.10          Ugly Beauty [jazz1350]                     0_nan   [C#m7b5_F#7, C#m7b5, CM7, D7, Dm7, G13, CM7, CM7, C#m7b5_F#7, C#m7b5, CM7, D7, Dm7, G13, CM7, CM7, Gm7_C7, A7, Em7, A7, G7, G7, Gm7, F#7(+b5), C#m7b5_F#7, C#m7b5, CM7, D7, Dm7, G13, G13, CM7]                                                                                                                                                                                                                                                                                          \n",
            "779   8              46.41          Maybe I Should Change My Ways [jazz1350]   0_nan   [Dm7b5, G7, CM7, F13, E7, A7, D13, C#13, C13, FM7, FM7, FM7, Fm6, Bb7, CM7, Em7, Eb7, Dm7b5, A7, D7, G7, CM7, CM7, Dm7b5, G7, CM7, F13, E7, A7, D13, C#13, C13, FM7, FM7, FM7, Fm6, Bb7, CM7, Em7, Eb7, Dm7b5, A7, D7, G7, C6, C6]                                                                                                                                                                                                                                                       \n",
            "247   8              45.49          Comrade Conrad [jazz1350]                  0_nan   [Cm7, F7, F7, BbM7, EbM7, Am7b5, D7, Gm7, Gm7, EbM7, D7, Gm7, Gm7, Em7b5, A7, Dm7, Dm7, Gm7_C7, C7, FM7, BbM7, Em7b5, A7, Dm7, Dm7, BbM7, A7, Dm7, Dm7, Bm7b5_E7, Am7, Am7]                                                                                                                                                                                                                                                                                                              \n",
            "1126  8              42.96          Sun down [jazz1350]                        0_nan   [C13, Cm7, F7, C13, Gm7_C7, Cm7, F7, Cm7, F7, C13, Em7, A7, Dm7, Em7, Dm7, Fm7, Em7, Ebm7, Dm7_G7, C13, Cm7, F7, C13, Gm7_C7, Cm7, F7, Cm7, F7, C13, Em7, Ebm7, Dm7, Dm7, C13, Eb13, D13, C#13]                                                                                                                                                                                                                                                                                          \n",
            "579   8              42.03          If I Ruled The World [jazz1350]            0_nan   [FM7, FM7, F6, G7, F7, Em7, Bb7, A7, A7, D13, G#7, G7, C, C6, CM7, Gm7, C13, Bm7, E7, F13, E, E7, Am, AmM7, Am7, D13, Em7, A7, D13, G, G7, C, C6, CM7, Gm7, C13, Bm7, E7, F13, E, E7, Am, AmM7, Am7, D13, Em7, A7, D13, D7, Bm7, E7, AM7, F#m7, Bm7, E7, C#m7, F#m7, F#m7, Dm7_G7, G7, Em7, Am7, Dm7, Dm7, Bm7b5_E7, Am7, Am7, F#m7b5_B7, Dm7_G7, C, C6, CM7, FM7, Bm7, F13, E7, E7, Am, AmM7, Am7, D7, G6, Em7b5, A7, A7, Dm7, Fm6, Em7, Bb7, A7, A7, Dm7_G7, G, G7, C, C, F, Fm, G7, C]\n",
            "1182  8              40.81          This Masquerade [jazz1350]                 0_nan   [Am7, D13, Am7, D13, Am7, D13, Am7, D13, Am, AmM7, Am7, D13, Am, F7, Bm7b5_E7, Am, AmM7, Am7, D13, F7, Bm7b5_E7, Am, Am, G#m7_C#7, Gm7, C13, FM7, D7, Gm7, C13, FM7, FM7, F#m7, B13, B7, EM7, EM7, Bm7, B13, B7, E7, Bb7, Am7, D13, Am7, D13, Bm7, B13, B7, E7, Bb7]                                                                                                                                                                                                                     \n",
            "570   8              38.75          I've Heard That Song Before [jazz1350]     0_nan   [CM7, C6, C6, Bm7, E7, E7, A7, A7, D7, D7, Dm7, G13, Dm7_G7, C6, G7, C6, Am7, D7, Dm7_G7, CM7, C6, C6, Bm7, E7, E7, A7, A7, Dm7, A7, Dm7, F13, Bb7, C6, B7, BbM7, A7, Dm7, G#7(+b5), G13, C6, Dm7_G7]                                                                                                                                                                                                                                                                                    \n",
            "1056  8              38.29          So Many Stars [jazz1350]                   0_nan   [G13, G13, Gm7_C7, C13, FM7, Bb13, Em, C, Em6, Em7, EmM7, Em7, A7, G13, G13, C6, A7, A7, G13, G13, Gm7_C7, C13, FM7, Bb13, Em, C, Em6, Em7, EmM7, Em7, A7, G13, G13, C6, FM7, F#m7, F13, Em7, A13, Dm7, G13, E13, E7, A7, A7, G13, G13, Em7, A7, Dm7, G13, C6, C6]                                                                                                                                                                                                                       \n",
            "585   8              37.30          If You Never Come To Me [jazz1350]         0_nan   [CM7, BM7, BbM7, A7, Dm7, Dm7, Fm7_Bb7, E7, A7, D7, G7, C7, F7, CM7, C#7]                                                                                                                                                                                                                                                                                                                                                                                                                \n",
            "349   8              37.20          El Cajon [jazz1350]                        0_nan   [E7, Bb7, A13, D7, D13, Dm7, G#7, G7, G7, C7, C13, FM7, E7, A7, A7, D7, D13, G7, Gdim7, G13, F7, E7, Bb7, A13, D7, D13, Dm7, G#7, G7, G7, C7, C13, FM7, E7, A7, A7, D7, G#7, G13, CM7, F7, C7, Bb7, A7, D7, G#7, G7, Bb13_B13, C13]                                                                                                                                                                                                                                                      \n",
            "1189  8              35.11          Tickle-Toe [jazz1350]                      0_nan   [Am7, E7, Am7, E7, Am7, A7, Dm7, A7, Dm7, A7, Dm7, Gm7_C7, F7, Bb7, CM7, Em7, A7, D7, Am7, D7, D7, G7, E7, Am7, E7, Am7, E7, Am7, A7, Dm7, A7, Dm7, A7, Dm7, Gm7_C7, F7, Bb7, CM7, A7, D7, G7, CM7, Bm7b5_E7]                                                                                                                                                                                                                                                                            \n",
            "1329  8              32.07          You're My Thrill [jazz1350]                0_nan   [E13, Bm7b5, E13_E13, Em7b5, A7, D7, Bb7, Am, F7, E13, Bm7b5, E13_E13, Em7b5, A7, D7, Bb7, Am, F7, A7, A7, Dm7, Dm7, B7, B7, EM7, F7, Eb7, E13, Bm7b5, E13_E13, Em7b5, A7, Bm7, G13, A6_A6]                                                                                                                                                                                                                                                                                              \n",
            "287   8              30.17          Daybreak [jazz1350]                        0_nan   [C6, F13, CM7, A7, D13, D7, G7, G13, F6, G#7, G13, C6, Am7, Am7b5, GM7, C#m7, F#13, Am7, D7, Dm7, G13, G7, Gm7, C13, F6, Bb7, Em7, A13, A7, Dm7_G7, C6, C6]                                                                                                                                                                                                                                                                                                                              \n",
            "999   8              27.86          Ruby, My Dear [jazz1350]                   0_nan   [Dm7_G7, CM7, Em7, A7, DM7, Gm7_C7, FM7, Gm7, C#13, G#m7, G7(+b5), G7, Dm7_G7, CM7, Em7, A7, DM7, Gm7_C7, FM7, Gm7, C#13, G#m7, G7(+b5), F#M7, G#m7, C#13, F#6_G6, G#dim7, Am7, AmM7, Am7, AmM7, Bm7, Cm7, F7(+b5), C7, Dm7_G7, CM7, Em7, A7, DM7, Gm7_C7, FM7, Gm7, C#13, Eb6, G#7, G7, Eb6, G#7, G7, F#7(+b5), F7(+b5), Bb6]                                                                                                                                                           \n",
            "597   8              27.57          In The Middle Of A Kiss [jazz1350]         0_nan   [Am7, Gm7, F7, E7, Am7, D7, Gm7_C7, FM7, Em7b5, A7, Dm7, Dm7, Bm7b5, Bbm6, Am7, D7, Dm7, G13, Cdim7, CM7, CM7, CM7, Am7, Am7b5, D13, Dm7_G7, Bm7b5_E7, Am7, Gm7, F7, E7, Am7, D7, Gm7_C7, FM7, Em7b5, A7, Dm7, C#7, C7, C7, FM7, Fm7, Bb13, CM7, Bb7, A7, Dm7, Em7, FM7, G7, C6, F7, E7, Bb13, A7, Dm7, Em7, FM7, G7, C6, Fm6, C6]                                                                                                                                                       \n",
            "975   8              26.07          Quasimodo (Theme) [jazz1350]               0_nan   [C, F7, Em7, A7, Dm7_G7, Dm7_G7, C, CM7, Bm7b5_E7, Am, Am, F#m7_B7, Em, Am7b5, D7, G, E7, Am7, D13, Dm7, A7, Dm7_G7, C, F7, Em7, A7, Dm7_G7, Dm7_G7, Gm7, D7, Gm7_C7, F6, Bm7, E7, Am, Am, Fm7, BbmM7, C, Am, Dm7, F6, Em7, A7, Dm7, G13, Em7, A7, Dm7, G13, C]                                                                                                                                                                                                                          \n",
            "627   8              25.47          It Was So Good While It Lasted [jazz1350]  0_nan   [CM7, B7, Em7b5, A7, Dm7, Dm7, Bb7, Am7, Am7, F#m7b5, D7, Am7, D13, G#7, G7, CM7, B7, Em7b5, A7, Dm7, Dm7, Bb7, Am7, Am7, F#m7b5, D7, Dm7, G13, C6, F7, EM7, Fdim7, F#m7_B7, B7, G#m7, Gdim7, F#m7_B7, GM7, G#dim7, Am7, D7, Dm7_G7, G7, CM7, B7, Em7b5, A7, Dm7, Dm7, Bb7, Am7, Am7, F#m7b5, D7, Dm7, G13, C6, G7]                                                                                                                                                                      \n",
            "1183  8              25.27          This Time The Dream's On Me [jazz1350]     0_nan   [CM7, Bb7, A7, Dm7, Fm6, G7, Bb7, A7, Dm7_G7, CM7, C#dim7, Dm7_G7, CM7, Bb7, A7, Dm7, Fm6, G7, Bb7, A7, Dm7_G7, CM7, Dm7b5, CM7, Bm7, E7, Em7, A7, F#m7b5, Fm6, Em7, Ebdim7, Dm7, C#dim7, Dm7, G13, CM7, Bb7, A7, Dm7, Fm6, G7, Bb7, A7, Dm7_G7, CM7, Dm7b5, Em7, G13]                                                                                                                                                                                                                   \n",
            "\n",
            "*** TOPIC 9 ***\n",
            "6 tunes\n",
            "      DominantTopic  Contribution%                         Title Section                                                                                                                                                                                                                                                                                                       Tunes\n",
            "269   9              65.83          Crisis [jazz1350]             0_nan   [B7, B7, B7, B7, B7, B7, B7, B7, B7, B7, C#7, C#7, C7, C7, B7, B7, Bb7, Bb7, A7, F#7, Bm, F#7, Bm, F#7, B7, B7, B7, B7, B7, B7, C#7, C#7, C7, C7, B7, B7, Bb7, Bb7, A7, Bm, G7, C#m7b5_F#7, Bm, G#m, C#7, Ebm, D7, C#m, F#7, B7, B7, C#7, C#7, C7, C7, B7, B7, Bb7, Bb7, A7, F#7, Bm, F#7, Bm_Bm, Bm, F#7]\n",
            "1650  9              54.88          Some Of These Days [trad]     0_nan   [F#7, F#7, Bm_Bm, F#7, F#7, Bm_Bm, B7, B7, E7, E7, E7, E7, A7, A7, D7, D7, G, G, B7, B7, Em, Em, G, G#dim, D, B7, E7, A7, D, D]                                                                                                                                                                           \n",
            "937   9              42.04          Passion Flower [jazz1350]     0_nan   [B7, B7, B7, B7, A7, G#13, G7, CM7, CM7, B7, B7, B7, B7, A7, G#13, G7, CM7, CM7, F#M7, F7, E7, Eb7, D7, C#7, F#M7, Eb7, G#7, C#7, F#7, B7, B7, B7, B7, A7, G#13, G7, CM7, CM7]                                                                                                                            \n",
            "235   9              37.28          Chelsea Bridge [jazz1350]     0_nan   [AmM7_GmM7, AmM7_GmM7, A7, Dm7_G7, C6, C6, B7, Bb7, AmM7_GmM7, AmM7_GmM7, A7, Dm7_G7, C6, C6, B7, Bb7, Fm7_Bb7, EbM7, Cm7, Fm7, Bb7(+b5), Bbm7_Eb7, G#M7, G#m, C#7, F#M7, F#m7_B7, C7, B7, Bb7, AmM7_GmM7, AmM7_GmM7, A7, Dm7_G7, C6, C6, B7, Bb7]                                                        \n",
            "1326  9              23.73          You're Everything [jazz1350]  0_nan   [CM7, Bm6, BbM7, A7, Gm7, BbM7, B7, Bbm7, Am7, G#m7_C#7, Gm7_C7, FM7, Fm7, CM7, Bm6, BbM7, A7, Dm, F#M7, CM7, B7, Bb13, A7, G#7, G7, CM7, Gm7, CM7, G#M7, GM7, F#7, Bm, Em7, Bm, Bb7, EbM7, D7, Gm7_C7, FM7, Fm7, CM7, Bm6, BbM7, A7, Dm, F#M7, CM7, B7, Bb13, A7, G#7, G7, CM7, Gm7, CM7, Gm7]           \n",
            "100   9              22.31          Backstage Sally [jazz1350]    0_nan   [Am6, F#7, B7, E7, Gm7_C7, Em7, A7, Dm6, C7, B7, Bb7, Am7, D7, Gm7_C7, F#7, B7, E7, A7, D7, G7, Bm7b5_E7, Am6, F#7, B7, E7, Am7, C7, FM7, Bb7]                                                                                                                                                            \n",
            "\n",
            "*** TOPIC 10 ***\n",
            "129 tunes\n",
            "      DominantTopic  Contribution%                                                          Title Section                                                                                                                                                                                                                                                                                                                                     Tunes\n",
            "490   10             96.48          I Can't Give You Anything But Love [jazz1350]                  0_nan   [CM7, Ebdim7, Dm7_G7, CM7, Ebdim7, Dm7_G7, CM7, Gm7_C7, FM7, FM7, D7, D7, Dm7_G7, CM7, Ebdim7, Dm7_G7, CM7, Gm7_C7, FM7, FM7, FM7, F#dim7, CM7, A7, Dm7_G7, C6, A7, Dm7_G7]                                                                                                                                                             \n",
            "886   10             95.82          Nutty [jazz1350]                                               0_nan   [CM7, C#dim7, Dm7, Ebdim7, CM7, Dm7_G7, G7, CM7, C#dim7, Dm7_G7, CM7, Dm7_G7, CM7, C#dim7, Dm7, Ebdim7, CM7, Dm7_G7, G7, CM7, C#dim7, Dm7_G7, CM7, C7, FM7, D7, Gm7_C7, FM7, Gm7_C7, C7, FM7, D7, Gm7_C7, FM7, Dm7, C#7(+b5), CM7, C#dim7, Dm7, Ebdim7, CM7, Dm7_G7, G7, CM7, C#dim7, Dm7_G7, CM7, G7, CM7, CM7]                        \n",
            "1184  10             90.62          This Year's Kisses [jazz1350]                                  0_nan   [CM7, CM7, C#dim7, Dm7_G7, Dm7_G7, CM7, C#dim7, Dm7_G7, CM7, CM7, C#dim7, Dm7_G7, Dm7_G7, CM7, Gm7_C7, FM7, FM7, Fm7, Fm7, CM7, D7, Dm7_G7, CM7, CM7, C#dim7, Dm7_G7, Dm7_G7, Em7, A7, Dm7_G7, C6, Ebdim7, Dm7_G7]                                                                                                                      \n",
            "1113  10             84.71          Strike Up The Band [jazz1350]                                  0_nan   [CM7, CM7, C#dim7, C#dim7, Dm7_G7, CM7, Gm7_C7, FM7, FM7, F#dim7, F#dim7, Gm7_C7, FM7, FM7, Dm7_G7, CM7, CM7, Bm7b5_E7, Am7, D7, Dm7_G7, CM7, CM7, Em7b5, A7, Dm7_G7, CM7, Dm7_G7]                                                                                                                                                      \n",
            "49    10             84.69          Alexander's Ragtime Band [jazz1350]                            0_nan   [CM7, CM7, D7, G7, CM7, FM7, FM7, FM7, FM7, CM7, CM7, CM7, CM7, D7, D7, G7, Dm7_G7, CM7, CM7, D7, G7, CM7, FM7, FM7, FM7, FM7, CM7, C7, FM7, F#dim7, CM7, CM7, G7, CM7]                                                                                                                                                                 \n",
            "1316  10             82.17          You Keep Coming Back Like A Song [jazz1350]                    0_nan   [CM7, Dm7_G7, CM7, Dm7_G7, CM7, C#dim7, Dm7_G7, CM7, C7, FM7, F#dim7, CM7, Am7, Dm7_G7, CM7, Am7, D7, G7, G7, CM7, Dm7_G7, CM7, Dm7_G7, CM7, C#dim7, Dm7_G7, E7, E7, FM7, F#dim7, CM7, C7, FM7, Fm7, CM7, Am7, Dm7_G7, CM7, CM7]                                                                                                        \n",
            "1309  10             80.17          You Better Go Now [jazz1350]                                   0_nan   [CM7, G7, CM7, C#dim7, Dm7_G7, Dm7_G7, CM7, G7, CM7, C#dim7, Dm7_G7, G7, CM7, C#dim7, Dm7_G7, C, Dm7, Em7, F, Dm7_G7, CM7, C#dim7, Dm7_G7, CM7, D7, Dm7_G7, CM7, G7, CM7, C#dim7, Dm7_G7, Dm7_G7, CM7, A7, Dm7_G7, C, F, CM7, CM7]                                                                                                      \n",
            "32    10             78.07          Across The Alley From The Alamo [jazz1350]                     0_nan   [CM7, CM7, CM7, CM7, G7, G7, Dm7_G7, CM7, CM7, CM7, CM7, CM7, G7, G7, Dm7_G7, CM7, FM7, CM7, FM7, Fm7, CM7, E7, Am7, D7, D7, G7, CM7, CM7, CM7, CM7, G7, G7, Dm7_G7, CM7]                                                                                                                                                               \n",
            "534   10             75.71          I Was Doing All Right [jazz1350]                               0_nan   [CM7, C#dim7, Dm7_G7, CM7, C#dim7, Dm7_G7, C7, FM7, Fm6, CM7, G7, CM7, Dm7_G7, CM7, C#dim7, Dm7_G7, CM7, C#dim7, Dm7_G7, C7, FM7, Fm6, CM7, G7, CM7, E7, A7, A7, D7, D7, AM7, F#m7, C#m7, DM7, AM7, Dm7, Ebdim7, CM7, C#dim7, Dm7_G7, CM7, C#dim7, Dm7_G7, C7, FM7, Fm6, CM7, G7, Dm7_G7, CM7, A7, Dm7_G7]                              \n",
            "373   10             73.31          Falling In Love With Love [jazz1350]                           0_nan   [CM7, CM7, CM7, CM7, Dm7, Dm7_G7, G7, Dm7, Dm7_G7, G7, CM7, CM7, CM7, CM7, CM7, CM7, CM7, CM7, Bm7b5, Bm7b5_E7, E7, Am7, Am7, D7, D7, Dm7, Dm7_G7, G7, CM7, CM7, CM7, CM7, Dm7, Dm7_G7, G7, Dm7, Dm7_G7, G7, CM7, CM7, CM7, CM7, CM7, CM7, CM7, CM7, Bb7, Bb7, A7, A7, Dm7, C#dim7, Dm7_G7, CM7, Am7, Dm7_G7]                           \n",
            "179   10             70.84          Boplicity [jazz1350]                                           0_nan   [Dm7, CM7, Dm7_G7, CM7, Gm7_C7, FM7, Dm7, Dm7_G7, CM7, Dm7, CM7, Dm7_G7, CM7, Gm7_C7, FM7, Dm7, Dm7_G7, CM7, Gm7_C7, Gm7, F#7, FM7, FM7, Fm7_Bb7, Fm7, E7, EbM7, Ebm7, Dm7_G7, Dm7, CM7, Dm7_G7, CM7, Gm7_C7, FM7, Dm7, Dm7_G7, CM7]                                                                                                    \n",
            "342   10             66.62          Easy Living [jazz1350]                                         0_nan   [CM7, C#dim7, Dm7, Ebdim7, CM7, Gm7_C7, FM7, Bb7, CM7, Am7, Dm7_G7, Em7, A7, Dm7_G7, CM7, C#dim7, Dm7, Ebdim7, CM7, Gm7_C7, FM7, Bb7, CM7, Am7, Dm7_G7, CM7, F7, Bbm7_Eb7, G#M7, Fm7, Bbm7_Eb7, Cm7, F7, Bbm7_Eb7, G#M7, G#M7, Fm7, Fm7, Dm7b5, G7, CM7, C#dim7, Dm7, Ebdim7, CM7, Gm7_C7, FM7, Bb7, CM7, Am7, Dm7_G7, CM7, Am7, Dm7_G7]\n",
            "429   10             66.21          Glad To Be Unhappy [jazz1350]                                  0_nan   [Dm7, BbM7, G7, G7, Dm7, Bb7, G7, G7, C, C7, FM7, F#dim7, CM7, Dm7_G7, CM7, FM7, F#dim7, CM7, Dm7_G7, CM7, Dm7, BbM7, G7, G7, CM7, Am7, Dm7_G7, CM7, CM7]                                                                                                                                                                               \n",
            "1023  10             65.29          September In The Rain [jazz1350]                               0_nan   [CM7, Gm7_C7, FM7, FM7, Bb7, Dm7_G7, C6, A7, Dm7_G7, CM7, Gm7_C7, FM7, FM7, Bb7, Dm7_G7, C6, C6, Gm7_C7, Gm7_C7, FM7, FM7, Am7, D7, Am7, D7, Dm7_G7, CM7, Gm7_C7, FM7, FM7, Bb7, Dm7_G7, C6, A7, Dm7_G7]                                                                                                                                \n",
            "632   10             64.56          It's A Lovely Day Today [jazz1350]                             0_nan   [CM7, Am7, Dm7_G7, CM7, Gm7_C7, FM7, Fm7, CM7, Ebdim7, Dm7_G7, CM7, Am7, Dm7_G7, CM7, Am7, Dm7_G7, CM7, E7, Am7, D7, G7, CM7, Am7, Dm7_G7, CM7, Gm7_C7, FM7, Fm7, CM7, Ebdim7, Dm7_G7, CM7, Am7, Dm7_G7, CM7, Am7, Dm7_G7, CM7, E7, Am7, Bb7, A7, FM7, FmM7, CM7, D7, Dm7_G7, C6, Dm7_G7]                                               \n",
            "1029  10             63.03          Serpent's Tooth [jazz1350]                                     0_nan   [CM7, C#dim7, Dm7, Ebdim7, Em7, E7, FM7, BbM7, CM7, F#7, FM7, Bb7, Em7, A7, Dm7_G7, CM7, C#dim7, Dm7, Ebdim7, Em7, E7, FM7, BbM7, CM7, F#7, FM7, Bb7, CM7, C6, C7, C7, FM7, FM7, D7, D7, G7, G7, CM7, C#dim7, Dm7, Ebdim7, Em7, E7, FM7, Bb7, CM7, F#7, FM7, Bb7, CM7, C6]                                                              \n",
            "1335  10             61.77          Zing Went The Strings Of My Heart [jazz1350]                   0_nan   [CM7, CM7, Am7, Am7, Dm7, Dm7_G7, G7, FM7, FM7, Fm7, Fm7, Am7, D7, Dm7_G7, CM7, CM7, Am7, Am7, Dm7, Dm7_G7, G7, FM7, FM7, Fm7, Fm7, Am7, D7, G7, CM7, CM7, Dm7_G7, CM7, Dm7_G7, CM7, B7, Em7, D7, Dm7_G7, CM7, CM7, Am7, Am7, Dm7, Dm7_G7, G7, FM7, FM7, Fm7, Fm7, Am7, D7, G7, CM7, CM7]                                               \n",
            "689   10             61.56          Last Time I Saw Paris, The [jazz1350]                          0_nan   [CM7, CM7, CM7, CM7, C#dim7, Dm7_G7, Fm7, G7, Dm7_G7, CM7, CM7, CM7, CM7, C#dim7, Dm7_G7, Fm7, G7, Bb7, B7, CM7, Am7, D7, GM7, E7, Am7, D7, GM7, Bm7, E7, AM7, F#7, Bm7, E7, Dm7_G7, CM7, CM7, CM7, CM7, C#dim7, Dm7_G7, Dm7_G7, Bb7, B7, CM7]                                                                                          \n",
            "75    10             61.40          Among My Souvenirs [jazz1350]                                  0_nan   [CM7, C#dim, Dm7_G7, CM7, CM7, Ebdim, Dm7_G7, CM7, CM7, C#dim, Dm7_G7, CM7, CM7, Ebdim, Dm7_G7, CM7, C7, FM7, Dm7_G7, CM7, Am7, Dm7_G7, E7, Am7, D7, G7, CM7, C#dim, Dm7_G7, G7, CM7, CM7, Ebdim, Dm7_G7, C6, Dm7_G7]                                                                                                                   \n",
            "377   10             59.72          Fascination [jazz1350]                                         0_nan   [C6, Ebdim7, CM7, CM7, CM7, Ebdim7, Dm7_G7, Dm7, Dm7, Dm7, Dm7, Dm7, Dm7, G#7, G7, C6, Ebdim7, CM7, CM7, CM7, Ebdim7, Dm7_G7, Dm7, Dm7_G7, G7, Dm7_G7, C6, G7]                                                                                                                                                                          \n",
            "1062  10             58.59          Solitude [jazz1350]                                            0_nan   [CM7, CM7, C7, FM7, Bb7, Dm7_G7, CM7, D7, G7, CM7, CM7, C7, FM7, Bb7, Dm7_G7, CM7, Gm7_C7, F6, F#dim7, C6, C7, F6, F#dim7, C6, A7, Dm7_G7, CM7, CM7, C7, FM7, Bb7, Dm7_G7, CM7, C#dim7, Dm7_G7]                                                                                                                                         \n",
            "557   10             58.21          I'm Gonna Sit Right Down and Write Myself A Letter [jazz1350]  0_nan   [CM7, C#dim7, Dm7_G7, CM7, CM7, G7, CM7, CM7, CM7, E7, F, A7, Dm7, Dm7_G7, CM7, Gm7, A7, D7, D7, G7, G7, CM7, CM7, G7, CM7, CM7, CM7, E7, F, A7, Dm7, FM7, Fm7, CM7, Gm7, A7, D7, G7, CM7, CM7]                                                                                                                                         \n",
            "290   10             58.11          Dear Lord [jazz1350]                                           0_nan   [CM7, CM7, CM7, CM7, Dm7, Dm7, Dm7, Dm7, CM7, CM7, CM7, CM7, Am, AmM7, Am7, Am6, Am, AmM7, Am7, Am6, Dm7, Dm7_G7, G7, G7, G7, G7, G7, CM7, Am7, Dm7_G7, CM7, CM7, CM7, CM7, Dm7, Dm7, Dm7, Dm7, CM7, CM7, CM7, CM7, FM7, FM7, FM7, FM7, FM7, FM7, FM7, FM7, Em7, Em7, FM7, FM7, Dm7, Em7, FM7, G7, G#M7, G#M7, CM7, CM7]                \n",
            "1167  10             57.71          There's No You [jazz1350]                                      0_nan   [CM7, Bb7, CM7, G#7, CM7, Em7, Ebdim7, Dm7_G7, CM7, Bb7, CM7, G#7, CM7, Em7, Ebdim7, Dm7_G7, CM7, Gm7_C7, Gm7_C7, FM7, C7, FM7, Am7, D7, Am7, D7, Dm7_G7, CM7, Bb7, CM7, G#7, CM7, Em7, Ebdim7, Dm7_G7, CM7]                                                                                                                            \n",
            "141   10             57.70          Birth Of The Blues, The [jazz1350]                             0_nan   [CM7, C#dim7, Dm7_G7, CM7, E7, FM7, F#dim7, G7, Dm7_G7, C6, Ebdim7, Dm7, C#7, CM7, C#dim7, Dm7_G7, CM7, E7, FM7, F#dim7, G7, Dm7_G7, C6, F7, C6, E7, E7, E7, E7, A7, A7, D7, Dm7, C#7, CM7, C#dim7, Dm7_G7, CM7, E7, FM7, F#dim7, G7, Dm7_G7, C6, Ebdim7, Dm7_G7]                                                                       \n",
            "1255  10             57.70          We See [jazz1350]                                              0_nan   [CM7, Bb7, G#7, Dm7_G7, Gm7_C7, FM7, Bb7, D7, G7, CM7, Bb7, G#7, Dm7_G7, Gm7_C7, FM7, Bb7, D7, G7, Dm7_G7, Dm7_G7, Dm7_G7, Dm7_G7, CM7, Bb7, G#7, Dm7_G7, Gm7_C7, FM7, Bb7, D7, G7, CM7]                                                                                                                                                \n",
            "751   10             57.66          Love Nest, The [jazz1350]                                      0_nan   [CM7, CM7, G7, CM7, C7, FM7, FM7, C7, FM7, FM7, G7, G7, CM7, A7, Dm7, A7, Dm7, D7, G7, G7, CM7, CM7, G7, CM7, C7, FM7, FM7, C7, FM7, FM7, G7, G7, Em7b5, A7, Dm7, Dm7_G7, CM7, CM7]                                                                                                                                                     \n",
            "24    10             57.57          A Sunday Kind Of Love [jazz1350]                               0_nan   [CM7, C#dim7, Dm7_G7, Em7, A7, FM7, Fm7, Em7, A7, Dm7_G7, CM7, Am7b5, Dm7, G#7, G7, CM7, C#dim7, Dm7_G7, Em7, A7, FM7, Fm7, Em7, A7, Dm7_G7, CM7, CM7, Gm7_C7, Gm7_C7, FM7, C7, FM7, D7, Am7, D7, G7, C#dim7, Dm7, CM7, C#dim7, Dm7_G7, Em7, A7, FM7, Fm7, Em7, A7, Dm7_G7, CM7, Dm7, Fm, CM7]                                          \n",
            "198   10             56.81          Bunko [jazz1350]                                               0_nan   [CM7, Edim7, Dm7_G7, CM7, Edim7, Dm7_G7, Gm7_C7, FM7, F#dim7, CM7, D7, G7, CM7, CM7, CM7, Edim7, Dm7_G7, CM7, Edim7, Dm7_G7, Gm7_C7, FM7, F#dim7, CM7, D7, G7, CM7, CM7, Gm7_C7, FM7, FM7, Fm7_Bb7, EbM7, Dm7_G7, CM7, Edim7, Dm7_G7, CM7, Edim7, Dm7_G7, Gm7_C7, FM7, F#dim7, CM7, D7, G7, CM7, CM7]                                   \n",
            "151   10             55.62          Blue (And Broken Hearted) [jazz1350]                           0_nan   [CM7, CM7, Ebdim7, Ebdim7, E7, E7, A7, A7, Dm7, Dm7, Fm7, G7, CM7, Ebdim7, Dm7_G7, CM7, CM7, Ebdim7, Ebdim7, E7, E7, A7, A7, Dm7, Dm7, Bb7, CM7, A7, Dm7b5, G7, CM7, CM7]                                                                                                                                                               \n",
            "\n",
            "*** TOPIC 11 ***\n",
            "8 tunes\n",
            "      DominantTopic  Contribution%                                Title Section                                                                                                                                                                                                                                                                                                                                                          Tunes\n",
            "1085  11             73.32          Souvenir [jazz1350]                  0_nan   [D7, G7, F6, Fm6, CM7, F#7(+b5), B7(+b5), E7, Am7, Am7, F#m7b5, F7, Em7, F#7, FM7, F#m7b5_B7, Em7, A7, Dm7, A7, Dm7_G7, CM7, FM7, Em7b5, A7, D7, G7, F6, Fm6, CM7, F#7(+b5), B7(+b5), E7, Am7, Am7, F#m7b5, F7, Em7, F#7, FM7, F#m7b5_B7, Bb7, A7, F#m7b5, Fm6, Em7, Em7b5, D7, G7, D, D]                                                                    \n",
            "1198  11             51.76          Tonight I Shall Sleep [jazz1350]     0_nan   [CM7, Bm7b5_E7, Am7, Am7, F#m7b5, F7, Em7b5, A7, Em7b5, A7, D13, Em7, Fdim7, F#m7b5, Dm7_G7, CM7, B7, Bb7, A7(+b5), D7, Em7, Fdim7, F#m7b5, Ebm7_G#7, Dm7_G7, CM7, Bm7b5_E7, Am7, Am7, F#m7b5, F7, Em7b5, A7, Em7b5, A7, D13, Em7, Fdim7, F#m7b5, FM7, Bb7, E7, Am7, D13, Ebdim7, Em7, Am7, G#7, G7, CM7, Eb7_G#M7, G13, CM7, B13, BbM7, A7, D13, C#M7, D, D]\n",
            "1071  11             43.69          Someone To Watch Over Me [jazz1350]  0_nan   [CM7, C7, FM7, Fdim7, CM7, Ebdim7, G7, C#dim7, Dm7, Edim, F6, F#m7b5, G7, E7, A7, Dm7_G7, CM7, C7, FM7, Fdim7, CM7, Ebdim7, G7, C#dim7, Dm7, Edim, F6, F#m7b5, G7, C6, C7, FM7, FM7, Fm6, C6, F#m7b5_B7, E7, A7, Dm7_G7, CM7, C7, FM7, Fdim7, CM7, Ebdim7, G7, C#dim7, Dm7, Edim, F6, F#m7b5, G7, C6, Dm7_G7]                                                \n",
            "531   11             38.79          I Used To Be Color Blind [jazz1350]  0_nan   [CM7, CM7, F#m7b5, Fm6, Em7, F#m7_B7, E7, E7, Em7, Ebdim7, Em7, A7, Dm7_G7, CM7, Bm7b5_E7, Am7, Am7, F#m7b5, F7, EbM7, Dm7_G7, CM7, CM7, F#m7b5, Fm6, Em7, Em7b5, A7, Dm7, A7, Dm7, FM7, Fm6, Bb7, Am7, Am7, F#m7b5, F7, F7, D13, G13, CM7, C6, Dm7_G7]                                                                                                      \n",
            "417   11             36.59          Gary's Notebook [jazz1350]           0_nan   [Am, Bb7(+b5), Am, Bb7(+b5), Am, Bb7(+b5), Am, Bb7(+b5), Am, Bb7(+b5), Am, Bb7(+b5), Am, Bb7(+b5), Am, A7(+b5), Dm6, Eb7(+b5), Dm6, Dm6, Am, Bb7(+b5), Am, Am6, Cm7, F7, Bm7, E7, Am, Bb7(+b5), Am, Bb7(+b5)]                                                                                                                                                \n",
            "302   11             35.20          Devil May Care [jazz1350]            0_nan   [Am, F#m7b5, B7(+b5), E7, Am, F#m7b5_B7, E7, Am, F#m7b5, F7, E7, Am, F#m7b5_B7, E7, Am, Am7, F#dim7, Cdim7, Bm7b5_E7, Am, Am, Eb7, Dm7_G7, C6, Ebdim7, Dm7_G7, C, C, C6, CM7, Cm7, F7, BbM7, BbM7, Bm7b5_E7, AM7, F7, E7, Am, F#m7b5_B7, E7, Am, F#m7b5_B7, E7, Am, Am7, F#m7b5, F13_F13, Bm7b5, E7(+b5), Am, Am]                                            \n",
            "82    11             33.85          April In Paris [jazz1350]            0_nan   [G7, CM7, Dm7b5, G7, CM7, CM7, Gm7_C7, FM7, FM7, Bm7b5_E7, Am, Am, F#m7b5_B7, Bm7, E7, Em7b5, A7, F#m7b5, Fdim7, C, Ebdim7, Dm7b5, G7, C6, Bm7b5_E7, Am, Am, F#m7b5_B7, EM7, Dm7_G7, G7, CM7, Em7b5, A7, D7, Dm7b5, G7, C6, C6]                                                                                                                              \n",
            "673   11             28.49          Keepin' Myself For You [jazz1350]    0_nan   [CM7, C#dim7, D7, G13, F#m7b5, Fm7, Em7b5, A7, Dm7, Fm6, G7, G7, C6, Ebdim7, Dm7_G7, CM7, C#dim7, D7, G13, F#m7b5, Fm7, Em7b5, A7, Dm7, Fm6, G7, G7, C6, Dm7, C6, G#7, C#M7, Bbm7, Ebm7_G#7, C#M7, Bbm7, Bbm, G7, CM7, Am7, Am, F#m7b5_B7, Em7, Eb7, Dm7, C#7, CM7, C#dim7, D7, G13, F#m7b5, Fm7, Em7b5, A7, Dm7, Fm6, Dm7_G7, C6, A7, Dm7_G7]               \n",
            "\n",
            "*** TOPIC 12 ***\n",
            "89 tunes\n",
            "      DominantTopic  Contribution%                                     Title Section                                                                                                                                                                                                                                                                                                                                                                                                               Tunes\n",
            "1513  12             97.06          I'm Just Wild About Harry [trad]          0_nan   [C, C, Ebdim, Dm7_G7, Dm7_G7, C, C, C, Ebdim, Dm7_G7, C, G, C, Dm7_G7, C, C, Ebdim, Dm7_G7, Dm7_G7, Am, C7, F, F, F#dim, C, Dm7_G7, C, F, C, F, C, Dm7_G7, C, C]                                                                                                                                                                                                                                                  \n",
            "1692  12             94.83          Until The Real Thing Comes Along [trad]   0_nan   [C, G, C, A7, Dm7_G7, C, F, G7, C, G, C, A7, Dm7_G7, C, F, C, B7, E, Fdim, F#m7_B7, E, Gdim, F#m7_B7, E, Fdim, F#m7_B7, E, Gdim, G7, C, G, C, A7, Dm7_G7, C, F, C]                                                                                                                                                                                                                                                \n",
            "1608  12             94.42          Painting The Clouds With Sunshine [trad]  0_nan   [C, Ebdim, Dm7_G7, C, C, F, G7, C, Am, Dm7_G7, C, Am, Dm7_G7, C, Ebdim, Dm7_G7, C, Am, Em, B7, Em, Am7, D7, G, G7, C, C, F, C, C, C#dim, Dm7_G7, C, C#dim, Dm7_G7, C, C, F, C, C, C#dim, Dm7_G7, C, F, C7, F, Fm, C, C, D7, Ebdim, Dm7_G7, C, C, F, C, C, C#dim, Dm7_G7, C, F, C]                                                                                                                                 \n",
            "663   12             94.00          Just A-Sittin' And A-Rockin [jazz1350]    0_nan   [C, F, C, F, C, F, C, F, C, F, C, F, C, F, C, C, F, C, F, C, F, C, F, C, F, C, F, C, F, C, Em, Em, Em6, Em, Em, Em, Em7, B7, E, F, E6, Fdim7, F#m7_B7, Dm7_G7, C, F, C, F, C, F, C, F, C, F, C, F, C, F, C]                                                                                                                                                                                                       \n",
            "1419  12             90.21          Cielito Lindo [trad]                      0_nan   [C, Cdim, G7, C, Cdim, G7, C, C, Cdim, Dm7_G7, G7, Dm7_G7, Dm7, G, G7, C, C, C, Cdim, G7, C, Cdim, G7, C, C, Cdim, Dm7_G7, G7, Dm7_G7, Dm7, G, G7, C, C, C, C, F, F, G7, G7, C, C, C, C#dim, Dm7_G7, Dm7_G7, C, C]                                                                                                                                                                                                \n",
            "1583  12             88.36          My Monday Date [trad]                     0_nan   [C, Em, Cdim, Dm7, Dm7, Dm7_G7, G7, G, C, Cdim, G7, C, Em, Cdim, Dm7, Dm7, Dm7_G7, G7, G, C, C7, F, F, Fm, C, C, D7, D7, G7, G7, C, Em, Cdim, Dm7, Dm7, Dm7_G7, G7, G, C, C]                                                                                                                                                                                                                                      \n",
            "1543  12             87.47          Learnin' The Blues [trad]                 0_nan   [Dm7_G7, C, C, C#dim, Dm7_G7, C, C, C, F, Fm, F7, C, C, C#dim, Dm7, G, F7, C, C, Dm7_G7, C, C, C#dim, Dm7_G7, C, C, C, F, Fm, F7, C, C, C#dim, Dm7, G, F7, C, C, F, Fm, F, F7, C, C, C, F, Fm, F, F7, G7, G7, Gdim, Dm7_G7, C, C, C#dim, Dm7_G7, C, C, C, F, Fm, F7, C, C, C#dim, Dm7, G, F7, C, C]                                                                                                               \n",
            "1500  12             85.89          I Never Knew [trad]                       0_nan   [C, Fm, C, Fm, C, Dm7_G7, C, G7, C, Fm, C, Fm, C, Dm7_G7, C, C, Em, B7, Em, B7, Em, B7, Em, G7, C, Fm, C, Fm, C, Dm7_G7, C, C]                                                                                                                                                                                                                                                                                    \n",
            "1727  12             85.74          You Always Hurt The One You Love [trad]   0_nan   [C, Em, Em, Am, C, Ebdim, Dm7_G7, Dm, Dm, Dm, Dm7_G7, G, C, C, C7, C7, F, F, D7, D7, G7, G, C, Em, Em7, A7, D7, G, C, C]                                                                                                                                                                                                                                                                                          \n",
            "1338  12             83.88          'S Wonderful [trad]                       0_nan   [C, C, C#dim, C#dim, Dm7_G7, C, C, C, C, C#dim, C#dim, Dm7_G7, C, F#m7_B7, E, F#m7_B7, E, F#m7_B7, Em7, A7, D7, G7, C, C, Ebdim, Ebdim, Dm7_G7, C, C, C, C, C#dim, C#dim, Dm7_G7, C, C, C, C, C#dim, C#dim, Dm7_G7, C, F#m7_B7, E, F#m7_B7, E, F#m7_B7, Em7, A7, D7, Em7, A7, Dm7_G7, C, C]                                                                                                                       \n",
            "1611  12             83.41          Pennies From Heaven [trad]                0_nan   [C, Ebdim, Dm7_G7, C, Ebdim, Dm7_G7, C7, C7, F, F, D7, D7, G7, G7, C, Ebdim, Dm7_G7, C7, C7, F, F, F, Fm, C, A7, Dm7_G7, C, C]                                                                                                                                                                                                                                                                                    \n",
            "870   12             81.44          New York, New York [jazz1350]             0_nan   [C, C, Dm7_G7, C, C, Dm7_G7, C, C, Dm7_G7, C, C, Gm7_C7, F, Fm, C, C, Em7, A7, Dm7_G7, C, C, Dm7_G7, C, C, Gm7_C7, F, Fm, C, A7, Dm7, Em7, F, G7, C, C, Dm7_G7]                                                                                                                                                                                                                                                   \n",
            "1345  12             78.55          Ain't Misbehavin' [trad]                  0_nan   [C, C#dim, Dm7, G, C, C7, F, Fm, C, A7, Dm7_G7, E7, A7, D7, G, C, C#dim, Dm7, G, C, C7, F, Fm, C, A7, Dm7_G7, C, F7, C, E7, Am, F7, Am, A7, G, E7, Am7, D7, G7, A7, D7, G7, C, C#dim, Dm7, G, C, C7, F, Fm, C, A7, Dm7_G7, C, F7, C, G]                                                                                                                                                                           \n",
            "1663  12             78.51          Stranger On The Shore [trad]              0_nan   [C, Dm7_G7, C, C7, F, Fm, C, Am7, D7, Dm7_G7, C, Dm7_G7, C, C7, F, Fm, C, Am7, Em, C7, Dm7_G7, C, C7, F, C, Dm7_G7, C, C7, F, Em, D7, Dm7_G7, C, Dm7_G7, C, C7, F, Fm, C, Am7, Em, C7, Dm7_G7, C, G7, C, Dm7_G7, C, C7, F, Fm, C, Am7, D7, Dm7_G7, C, Dm7_G7, C, C7, F, Fm, C, Am7, Em, C7, Dm7_G7, C, C7, F, C, Dm7_G7, C, C7, F, Em, D7, Dm7_G7, C, Dm7_G7, C, C7, F, Fm, C, Am7, Em, C7, Dm7_G7, C, G7, G#7, C]\n",
            "1458  12             77.92          Everybody Loves Somebody [trad]           0_nan   [C, C, F, A7, Dm, Bb, G7, C, Ebdim, Dm7_G7, G7, C, Dm7_G7, C, C, F, A7, Dm, Bb, G7, C, Ebdim, Dm7_G7, C, C7, Gm7_C7, F, C, F, Fdim, C, Am, E, Am7, D7, Dm7, Gdim, Dm7_G7, C, C, F, A7, Dm, Bb, G7, C, Ebdim, Dm7_G7, C]                                                                                                                                                                                           \n",
            "280   12             77.20          Danny Boy [jazz1350]                      0_nan   [C, C, C7, F, F, C, Am7, Dm7_G7, C, C, F, D7, C, Am, Dm7_G7, C, Dm7_G7, C, Dm7_G7, C, Dm7_G7, Am, F, A7, Dm7_G7, C, C7, F, F#dim7, C, Am, F, F#dim7, C, Am, Dm7_G7, C, Dm7_G7]                                                                                                                                                                                                                                    \n",
            "1660  12             76.80          Spread A Little Happiness [trad]          0_nan   [C, C, C, Em7b5, A7, F, Eb, F, G7, C, C, D7, G7, C, C, C, B7, Em, C6, Am, Am, D7, G, G, Dm7_G7, C, G, Am, Em, F, F, Fm, Em7b5, A7, F, Fm, C, Cdim, Dm, G, C, C, D7, G7, C, G, Am, Em, F, F, Fm, Em7b5, A7, F, Fm, C, Cdim, Dm, G, C, C7, F, C, G7, A, Am, G, G7, C, G, F, Em, F6, F6, Am, Dm7_G7, C, G, Am, Em, F, F, Fm, Em7b5, A7, F, Fm, C, Cdim, Dm7_G7, C, C]                                                \n",
            "1374  12             76.74          Back In Your Own Backyard [trad]          0_nan   [C, C#dim, Dm7, Dm7_G7, G7, C, G7, C, C#dim, Dm7, Dm7_G7, G7, C, F, C, Em, Em, A7, A7, D7, D7, G7, G7, C, C#dim, Dm7, Dm7_G7, G7, C, C]                                                                                                                                                                                                                                                                           \n",
            "1690  12             76.48          True Love [trad]                          0_nan   [C, F, F#dim, C, Dm7_G7, Cdim, C, C, F, F#dim, C, Dm7_G7, Dm7_G7, C, Fm7_Bb7, Eb, C7, Fm7_Bb7, Eb, G7, C, F, F#dim, C, Dm7_G7, C, C]                                                                                                                                                                                                                                                                              \n",
            "1601  12             74.60          Once In A While (Ballad) [trad]           0_nan   [C, C, Em7, A7, Dm7_G7, C, Am, Dm7_G7, C, C, Em7, A7, Dm7_G7, C, F, C, B7, E, C#m, F#m7_B7, E, C#m, F#m7_B7, E, C#m, F#m7_B7, E, Ebdim, Dm7_G7, C, C, Em7, A7, Dm7_G7, C, F, C]                                                                                                                                                                                                                                   \n",
            "1408  12             73.93          Cabaret [trad]                            0_nan   [C, G, C, G, C, G, C7, C7, Dm, Ebdim, Em7, A7, Dm7_G7, C, C#dim, G, C, G, C, G, C, G, C7, C7, Dm, Ebdim, Em7, A7, Dm7_G7, C, C, C7, Fm, Fm, C, C, Am, C, C6, D7, G7, C, G, C, G, C, G, C7, C7, Dm, Ebdim, Em7, A7, Dm7_G7, C, G7]                                                                                                                                                                                 \n",
            "1520  12             73.63          I've Got My Fingers Crossed [trad]        0_nan   [C, Am7, Dm7_G7, C, C7, F, Fm, C, Am7, Dm7_G7, C, Am7, Dm7_G7, C, Am7, Dm7_G7, C, C7, F, Fm, C, Am7, Dm7_G7, C, F, C, C7, C7, F, F, D7, D7, G7, G7, C, Am7, Dm7_G7, C, C7, F, Fm, C, Am7, Dm7_G7, C, C]                                                                                                                                                                                                           \n",
            "1407  12             72.81          C'Est Magnifique [trad]                   0_nan   [C, Em, Am, Am, C, A7, Dm7_G7, Dm, Dm, Dm, Dm7_G7, G7, C, C, C, Em, Am, Am, C, C7, F, F, F, Fm, C, A7, Dm7_G7, C, C]                                                                                                                                                                                                                                                                                              \n",
            "1575  12             71.99          Music, Maestro, Please [trad]             0_nan   [C, E, E7, A7, A7, D7, Dm7, G, C, Ebdim, Dm7_G7, C, E, E7, A7, A7, D7, Dm7, G, C, Dm7, C, C7, F, C7, C, Am, F, D7, Em, G, Am, D7, Dm7, G, C, E, E7, A7, A7, F, Fm, C, G#7, Dm7_G7, C]                                                                                                                                                                                                                             \n",
            "1679  12             71.10          That's Life I Guess [trad]                0_nan   [C, C#dim, Dm7_G7, C, C#dim, Dm7_G7, C, Bb7, A7, D7, G7, C, C#dim, Dm7_G7, C, C#dim, Dm7_G7, C, Bb7, A7, D7, G7, C, B7, Em, B7, Em, B7, Em, B7, Em, B7, Em, G7, C, C#dim, Dm7_G7, C, C#dim, Dm7_G7, C, Bb7, A7, D7, G7, C]                                                                                                                                                                                        \n",
            "1554  12             70.85          Makin' Whoopee [trad]                     0_nan   [C, C#dim, Dm7_G7, C7, F, Fm, C, Am7, G#7, G7, C, Am7, Dm7_G7, C, C#dim, Dm7_G7, C7, F, Fm, C, Am7, G#7, G7, C, F, C, C#dim, Dm, Dm7b5, G7, C, C#dim, Dm, Dm7b5, G7, C, G, C, C#dim, Dm7_G7, C7, F, Fm, C, Am7, G#7, G7, C, C]                                                                                                                                                                                    \n",
            "1701  12             69.67          What A Wonderful World [trad]             0_nan   [C, Em, F, Em, Dm7, C, E7, Am, G#, Dm7_G7, C, FM7, G7, C, Em, F, Em, Dm7, C, E7, Am, G#, Dm7_G7, C, F, C, G7, C, G7, C, Am, G, Am, G, Am, G, Dm7_G7, C, Em, F, Em, Dm7, C, E7, Am, G#, Dm7_G7, C, Dm7_G7]                                                                                                                                                                                                         \n",
            "1624  12             67.75          Rosalie [trad]                            0_nan   [G7, G7, Gdim, Dm7_G7, C, C, Cdim, C, C, Cdim, G7, G7, Gdim, Dm7_G7, C, Ebdim, Dm7_G7, G7, G7, Gdim, Dm7_G7, C, E7, Am, C7, F, Fm, C, A7, D7, Dm7_G7, C, C]                                                                                                                                                                                                                                                       \n",
            "1451  12             67.75          Drop Me Off In Harlem [trad]              0_nan   [C, C#dim, Dm7_G7, C#dim, Dm7_G7, Bm7b5_E7, Am7, C7, F, G7, C, C, C#dim, Dm7_G7, C#dim, Dm7_G7, Bm7b5_E7, Am7, C7, F, G7, C, C7, C, F, F, Bb, Eb, D7, G7, C, C#dim, Dm7_G7, C#dim, Dm7_G7, Bm7b5_E7, Am7, C7, F, G7, C]                                                                                                                                                                                           \n",
            "1488  12             66.26          Home (When Shadows Fall) [trad]           0_nan   [C, B7, Dm, Em, G7, Dm, Em, G, C, Am, Dm7_G7, C, B7, Dm, Em, G7, Dm, Em, G, C, F, C, Fm, Fm, C, C, Fm, Dm7b5, G7, F, G7, G, C, B7, Dm, Em, G7, Dm, Em, G, C, F, C]                                                                                                                                                                                                                                                \n",
            "\n",
            "*** TOPIC 13 ***\n",
            "16 tunes\n",
            "      DominantTopic  Contribution%                                      Title Section                                                                                                                                                                                                                                                                                                    Tunes\n",
            "440   13             55.62          Goodbye [jazz1350]                         0_nan   [G#7, G#7, G7, G#7, G7, Cm7, Cm7, Am7b5, G#7, Cm7, G#7, G7, Cm7, Dm7b5, G#7, G7, C#7, CM7, Dm7b5, G7, G#7, G#7, G7, G#7, G7, Cm7, Cm7, Am7b5, G#7, Cm7, G#7, G7, Cm7, Dm7b5, G#7, G7, C#7, CM7, Bb7, A7, Dm7_G7, C6, C6, Fm7_Bb7, EbM7, Dm7b5, G7]                                                     \n",
            "961   13             47.17          Poinciana [jazz1350]                       0_nan   [G7, G7, G7, G7, G7, G7, C6, C6, G7, G7, G7, G7, G7, G7, C6, C6, C6, C6, Gm, Gm, Fm7, Dm7b5, G7, C6, C6, G7, G7, G7, G7, G7, G7, C6, C6, Fm7, Fm7, GM7, GM7, Fm7, Fm7, G7, G7, C6, C6, Gm, Gm, Fm7, Dm7b5, G7, C6, G7]                                                                                 \n",
            "704   13             45.72          Let's Call This [jazz1350]                 0_nan   [G7, G7, G7, G7, G7, G7, B7, Bb7, A7, G#7, G7, G7, G7, G7, G7, G7, G7, B7, Bb7, A7, G#7, G7, C7, C7, F7, F7, D7, D7, Em7, Eb7, Dm7, C#7, G7, G7, G7, G7, G7, G7, B7, Bb7, A7, C6]                                                                                                                      \n",
            "157   13             44.41          Blue Lou [jazz1350]                        0_nan   [Dm7b5, G7, Dm7b5, G7, CM7, FM7, Dm7_G7, Dm7b5, G7, Dm7b5, G7, CM7, FM7, D7, G7, CM7, GM7, G#dim7, Am7, D7, GM7, G#dim7, Am7, D7, G7, Dm7b5, G7, Dm7b5, G7, CM7, FM7, D7, G7, CM7]                                                                                                                     \n",
            "865   13             43.37          Nefertiti [jazz1350]                       0_nan   [CM7, FM7, Bm7b5_E7, EbM7, EbM7, Dm7b5, G7, G#M7, C#7, F#7(+b5), Bb7, G#7, G7, DmM7, G7]                                                                                                                                                                                                               \n",
            "410   13             42.08          Friday The 13th [jazz1350]                 0_nan   [CM7, Bb7, G#7, G7, CM7, Bb7, G#7, G7, CM7, Bb7, G#7, G7, CM7, Bb7, G#7, G7]                                                                                                                                                                                                                           \n",
            "1551  13             38.66          Love Song Of The Nile [trad]               0_nan   [C, C, G7, G7, Dm7_G7, C, C7, G#7, G#7, C, C, G#7, G#7, G7, G7, C, C, G7, G7, Dm7_G7, C, C7, G#7, G#7, C, C, G7, G7, C, C]                                                                                                                                                                             \n",
            "721   13             35.98          Linger Awhile [jazz1350]                   0_nan   [C6, C6, G7, C7, C7, G#7, G7, G7, Gdim7, G7, G7, G7, G7, Dm7_G7, G7, CM7, CM7, Cdim7, CM7, CM7, G7, Am7, Am7, E7, E7, A7, A7, D7, Dm7_G7, C6, C6, G7, C7, C7, G#7, G7, G7, C6, Dm7_G7]                                                                                                                 \n",
            "389   13             35.59          Flying Home [jazz1350]                     0_nan   [CM7, C, Am7, G#7, G7, CM7, C, Am7, G#7, G7, CM7, C, Am7, G#7, G7, C6, G7, CM7, C, Am7, G#7, G7, CM7, C, Am7, G#7, G7, CM7, C, Am7, G#7, G7, C6, C6, C7, C7, F7, F7, D7, D7, G7, G7, CM7, C, Am7, G#7, G7, CM7, C, Am7, G#7, G7, CM7, C, Am7, G#7, G7, C6, G7]                                         \n",
            "278   13             33.98          Dancing In The Dark [jazz1350]             0_nan   [CM7, CM7, Cdim7, Cdim7, Dm7, Dm7, Dm7b5, G7, CM7, Cm7, Em7b5, A7, Dm7b5, Dm7b5, Dm7b5, G#7, G7, CM7, CM7, Cdim7, Cdim7, Dm7, Dm7, Dm7b5, Dm7b5, G7, CM7, Cm7, Eb7, C#7, C6, Dm7b5, G7, C6, Dm7_G7]                                                                                                    \n",
            "1009  13             32.88          Satellite [jazz1350]                       0_nan   [CM7, Eb7_G#M7, B7, EM7, G7, Cm7, F7, BbM7, C#7, F#M7, A7, DM7, F7, Bbm7_Eb7, G#M7, Dm7b5, G7, Cm7, Dm7b5, G7, CM7, Bbm7_Eb7, G#M7, B7, EM7, G7, CM7, Eb7_G#M7, B7, EM7, G7, Cm7, F7, BbM7, C#7, F#M7, A7, DM7, F7, Bbm7_Eb7, G#M7, Dm7b5, G7, CM7, Fm7_Bb7, G7, G7, G7, G7, G7, G7, G7, G7]           \n",
            "1257  13             29.38          We'll Be Together Again [jazz1350]         0_nan   [C6, G#7, Dm7_G7, Am7, D7, Bbm7_Eb7, G#M7, C#M7, Dm7b5, G#7, G7, G13, C6, G#7, Dm7_G7, Am7, D7, Bbm7_Eb7, G#M7, C#M7, Dm7b5, G13, C6, G#7, G7, Cm6, Am7b5, G#7, G7, Cm6, Am7b5, G#7, G7, F#7, F7, Dm7b5, G#7, G7, G13, C6, G#7, Dm7_G7, Am7, D7, Bbm7_Eb7, G#M7, C#M7, Dm7b5, G13, C6]                 \n",
            "1268  13             28.26          What's New [jazz1350]                      0_nan   [C6, Bbm7_Eb7, G#M7, Dm7b5, G7, Cm7, Am7b5, Dm7b5, G7, C6, Am7, Dm7_G7, C6, Bbm7_Eb7, G#M7, Dm7b5, G7, Cm7, Am7b5, Dm7b5, G7, C6, Gm7_C7, F6, Ebm7_G#7, C#M7, Gm7b5, C7, Fm7, Dm7b5, Gm7b5, C7, Fm6, Dm7b5, G7, C6, Bbm7_Eb7, G#M7, Dm7b5, G7, Cm7, Am7b5, Dm7b5, G7, C6, Am7, Dm7_G7]                 \n",
            "707   13             26.69          Let's Face The Music And Dance [jazz1350]  0_nan   [Cm_Cm, Dm7b5, G7, Cm_Cm, Dm7b5, G7, CM7, Gm7_C7, FM7, Bb7, Cm, Dm7b5, G7, Cm_Cm, Cm, Cm6, CmM7, Cm7, G7, G#7, Dm7, Dm7_G7, G7, C6, C7, FM7, Bb7, C6, Bbm7_Eb7, G#M7, Bbm7_Eb7, G#M7, Bbm7_Eb7, G#M7, G#M7, G7, G7, Am7, Bb7, Dm7_G7, C6, G7]                                                          \n",
            "394   13             26.39          For Heaven's Sake [jazz1350]               0_nan   [Dm7b5, G7, Em7, A7, Dm7b5, G7, CM7, F#7, Fm7, Em7, Ebdim7, Dm7_G7, C6, Dm7b5, G7, Em7, A7, Dm7b5, G7, CM7, F#7, Fm7, Em7, Ebdim7, Dm7_G7, C6, Bbm7_Eb7, G#M7, F7, Bbm7_Eb7, G#M7, Cm6, Am7b5, Dm7b5, G7, Cm7, Fm7, Fm7, Dm7_G7, Dm7b5, G7, Em7, A7, Dm7b5, G7, CM7, F#7, Fm7, Em7, Ebdim7, Dm7_G7, C6]\n",
            "1159  13             19.84          Thelonious [jazz1350]                      0_nan   [C, Bb7, G#7, G7, F#7, F7, E7, Eb7, D7, G7, G#, C#7(+b5), C7, F7, G#7, G7, C, Bb7, G#7, G7, F#7, F7, E7, Eb7, D7, G7, G#, C#7(+b5), C7, F7, G#7, G7, Dm7_G7, CM7, E7, Fm7_Bb7, E7, Eb7, Eb7, A7, D7(+b5), G7, C, Bb7, G#7, G7, F#7, F7, E7, Eb7, D7, G7, G#, C#7(+b5), C7, F7, G#7, G7, Dm7_G7, CM7]   \n",
            "\n",
            "*** TOPIC 14 ***\n",
            "71 tunes\n",
            "      DominantTopic  Contribution%                                       Title Section                                                                                                                                                                                                                                                                                     Tunes\n",
            "794   14             96.97          Milestones (New) [jazz1350]                 0_nan   [Am7, Am7, Am7, Am7, Am7, Am7, Am7, Am7, Am7, Am7, Am7, Am7, Am7, Am7, Am7, Am7, Bm_Bm, Bm_Bm, Bm_Bm, Bm_Bm, Bm_Bm, Bm_Bm, Bm_Bm, Bm_Bm, Am7, Am7, Am7, Am7, Am7, Am7, Am7, Am7]                                                                                                        \n",
            "1037  14             91.53          Shutterbug [jazz1350]                       0_nan   [Am7, Am7, Am7, Am7, Am7, Am7, Am7, Am7, Dm7, Dm7, Dm7, Dm7, Am7, Am7, Am7, Am7, Cm7, F7, Bm7b5_E7, Am7, Am7]                                                                                                                                                                           \n",
            "392   14             86.14          Footprints [jazz1350]                       0_nan   [Am7, Am7, Am7, Am7, Am7, Am7, Am7, Am7, Dm7, Dm7, Dm7, Dm7, Am7, Am7, Am7, Am7, Ebm7b5, D7, C#7(+b5), F#7(+b5), Am7, Am7, Am7, Am7]                                                                                                                                                    \n",
            "101   14             86.12          Bags and Trane [jazz1350]                   0_nan   [Am7, Dm7, Am7, Am7, Dm7, Dm7, Am7, Am7, F7, E7, Am7, Am7]                                                                                                                                                                                                                              \n",
            "835   14             86.11          Mr. P.C. [jazz1350]                         0_nan   [Am7, Am7, Am7, Am7, Dm7, Dm7, Am7, Am7, F7, E7, Am7, Am7]                                                                                                                                                                                                                              \n",
            "357   14             86.11          Equinox [jazz1350]                          0_nan   [Am7, Am7, Am7, Am7, Dm7, Dm7, Am7, Am7, F7, E7, Am7, Am7]                                                                                                                                                                                                                              \n",
            "175   14             85.29          Bohemia After Dark [jazz1350]               0_nan   [Am7, Bm7b5_E7, Am7, Bm7b5_E7, Am7, Bm7b5_E7, Am7, E7, Am7, Am7, Bm7b5_E7, Am7, Bm7b5_E7, Am7, Bm7b5_E7, Am7, Am7, D7, D7, D7, D7, D7, D7, Bm7b5_E7, Am7, Bm7b5_E7, Am7, Bm7b5_E7, Am7, Bm7b5_E7, Am7, Am7]                                                                             \n",
            "1114  14             84.04          Strode Rode [jazz1350]                      0_nan   [Am7, Bm7b5_E7, Am7, Bm7b5_E7, Am7, Bm7b5_E7, Am7, Bm7b5_E7, Dm7, F7, E7, Am7, Bm7b5_E7, Am7, Bm7b5_E7, Am7, Bm7b5_E7, Am7, Bm7b5_E7, Am7, Bm7b5_E7, Dm7, F7, E7, Am7, Am7, Dm7_G7, Cm7, F7, E7, Am7, Bm7b5_E7, Am7, Bm7b5_E7, Am7, Bm7b5_E7, Am7, Bm7b5_E7, Dm7, F7, E7, Am7, Bm7b5_E7]\n",
            "221   14             77.66          Catch Me [jazz1350]                         0_nan   [Am7, Am7, Am7, Am7, Am7, Am7, Am7, E7, Am7, Am7, Am7, Am7, Am7, Am7, Am7, Am7, E7, Am7, Em7b5, A7, Dm7, Dm7, Dm7_G7, C7, E7, Am7, Am7, Am7, Am7, Am7, Am7, Am7, E7, Am7]                                                                                                               \n",
            "1059  14             72.53          So What [jazz1350]                          0_nan   [Am7, Am7, Am7, Am7, Am7, Am7, Am7, Am7, Am7, Am7, Am7, Am7, Am7, Am7, Am7, Am7, Bbm7, Bbm7, Bbm7, Bbm7, Bbm7, Bbm7, Bbm7, Bbm7, Am7, Am7, Am7, Am7, Am7, Am7, Am7, Am7]                                                                                                                \n",
            "588   14             72.53          Impressions [jazz1350]                      0_nan   [Am7, Am7, Am7, Am7, Am7, Am7, Am7, Am7, Am7, Am7, Am7, Am7, Am7, Am7, Am7, Am7, Bbm7, Bbm7, Bbm7, Bbm7, Bbm7, Bbm7, Bbm7, Bbm7, Am7, Am7, Am7, Am7, Am7, Am7, Am7, Am7]                                                                                                                \n",
            "258   14             71.26          Core, The [jazz1350]                        0_nan   [Am7, Am7, Am7, Am7, Am7, Am7, Am7, Am7, Am7, Am7, Am7, Am7, C7, Bm7, AM7, AM7]                                                                                                                                                                                                         \n",
            "887   14             71.05          Nutville [jazz1350]                         0_nan   [Am7, Am7, Am7, Am7, Am7, Am7, Am7, Am7, Dm7, Dm7, Dm7, Bb7, Am7, Am7, Am7, Am7, F7, E7, Eb7, D7, F7, E7, Am7, Am7, Am7, Am7, Gm, Fm7, E7, Am7]                                                                                                                                         \n",
            "655   14             70.70          Jody Grind, The [jazz1350]                  0_nan   [Am7, Am7, Am7, Am7, D7, D7, Am7, Am7, G#13, Bb13, Am7, Am7]                                                                                                                                                                                                                            \n",
            "1060  14             69.00          Softly, As In A Morning Sunrise [jazz1350]  0_nan   [Am7, Bm7b5_E7, Am7, Bm7b5_E7, Am7, Bm7b5_E7, Am7, Bm7b5_E7, Am7, Bm7b5_E7, Am7, Bm7b5_E7, Am7, Bm7b5_E7, Am7, Dm7_G7, CM7, CM7, A7, A7, Dm7, Ebdim7, Bm7b5_E7, Am7, Bm7b5_E7, Am7, Bm7b5_E7, Am7, Bm7b5_E7, Am7, Bm7b5_E7]                                                             \n",
            "153   14             68.63          Blue Bossa [jazz1350]                       0_nan   [Am7, Am7, Dm7, Dm7, Bm7b5_E7, Am7, Am7, Cm7, F7, BbM7, BbM7, Bm7b5_E7, Am7, Bm7b5_E7]                                                                                                                                                                                                  \n",
            "1021  14             68.48          Segment [jazz1350]                          0_nan   [Am7, Bm7b5_E7, Am7, Bm7b5_E7, Am7, Bm7b5_E7, Am7, Bm7b5_E7, Am7, Bm7b5_E7, Am7, Bm7b5_E7, Am7, Bm7b5_E7, Am7, Bm7b5_E7, Em7b5, A7, Dm7, Dm7, Dm7b5, G7, CM7, Bm7b5_E7, Am7, Bm7b5_E7, Am7, Bm7b5_E7, Am7, Bm7b5_E7, Am7, Bm7b5_E7]                                                     \n",
            "658   14             66.43          Joshua [jazz1350]                           0_nan   [Am7, Am7, Am7, Am7, Am7, Am7, Am7, Am7, Am7, Gm7, Fm7, Gm7, Am7, Am7, Am7, Am7, Am7, Am7, Am7, Am7, Am7, Am7, Am7, Gm7, Fm7, Gm7, Am7, Dm7_G7, CM7, Cm7, F7, BbM7, Bbm7_Eb7, G#M7, D7, Gm7, Fm7, B7, E7, Am7, Am7, Am7, Am7, Am7, Am7, Am7, Am7, Am7, Gm7, Fm7, Gm7, Am7, Am7]         \n",
            "731   14             64.80          Little Sunflower [jazz1350]                 0_nan   [Am7, Am7, Am7, Am7, Am7, Am7, Am7, Am7, Am7, Am7, Am7, Am7, Am7, Am7, Am7, Am7, BbM7, BbM7, BbM7, BbM7, AM7, AM7, AM7, AM7, Am7, Am7, Am7, Am7, Am7, Am7, Am7, Am7, Am7, Am7, Am7, Am7, Am7, Am7, Am7, Am7, BbM7, BbM7, BbM7, BbM7, AM7, AM7, AM7, AM7]                                \n",
            "169   14             62.14          Blues For Wood [jazz1350]                   0_nan   [Am7, Am7, Am7, Am7, F7, F7, Am7, Am7, F7, DM7, Bm7b5_E7, Am7]                                                                                                                                                                                                                          \n",
            "1125  14             59.60          Summertime [jazz1350]                       0_nan   [Am7, Am7, E7, Am7, Am7, A7, Dm7, F7, B7, E7, Am7, Am7, E7, Am7, D7, G7, CM7, Am7, Bm7b5_E7, Am7, Bm7b5_E7]                                                                                                                                                                             \n",
            "1050  14             55.24          Slow Hot Wind [jazz1350]                    0_nan   [Am7, F7, Am7, Am7, Eb7, Dm7, Dm7, Am7, Am7, Am7, F7, Am7, Am7, Eb7, Dm7, Dm7, Am7, Am7, F#7, FM7, EM7, EbM7, EbM7, Ebm7_G#7, EbM7, CM7, Bm7, E7, Am7, F7, Am7, Am7, Eb7, Dm7, Dm7, Am7, Bm7b5_E7]                                                                                      \n",
            "991   14             54.04          Road Song [jazz1350]                        0_nan   [Am7, Am7, Bm7b5_E7, Am7, Am7, FM7, F#m7b5, Dm7, E7, Am7, Am7, Am7, Bm7b5_E7, Am7, Am7, FM7, F#m7b5, Dm7, E7, Am7, Dm7_G7, CM7, C#m7_F#7, Cm7, F7, BbM7, Bm7, E7, Am7, Am7, Bm7b5_E7, Am7, Am7, FM7, F#m7b5, Dm7, E7, Am7]                                                              \n",
            "1291  14             53.72          Witch Hunt [jazz1350]                       0_nan   [Am7, Am7, Am7, Am7, Am7, Am7, Am7, Am7, C7, C7, C7, C7, Am7, Am7, Am7, Am7, EbM7, D7, C#M7, C7, C7, Fm7, F#, Fm7, E7]                                                                                                                                                                  \n",
            "122   14             53.44          Bernie's Tune [jazz1350]                    0_nan   [Am7, Am7, F7, F7, Bm7b5_E7, Am7, Bm7b5_E7, Am7, Am7, F7, F7, Bm7b5_E7, Am7, Gm7_C7, F6, Dm7, Gm7_C7, F6, Dm7, Gm7_C7, F6, Dm7, Gm7_C7, F6, Bm7b5_E7, Am7, Am7, F7, F7, Bm7b5_E7, Am7, Am7]                                                                                             \n",
            "1130  14             52.24          Sway [jazz1350]                             0_nan   [Bm7b5_E7, Bm7b5_E7, Am7, Am7, F7, E7, F7, E7, Am7, Am7, Bm7b5_E7, Bm7b5_E7, Am7, Am7, F7, E7, F7, E7, Am7, Am7, G7, G7, CM7, CM7, E7, E7, Am7, E7, Bm7b5_E7, Bm7b5_E7, Am7, Am7, F7, E7, F7, E7, Am7, Am7]                                                                             \n",
            "1025  14             52.05          Serenade To A Cuckoo [jazz1350]             0_nan   [Am7, Bm7b5_E7, Am7, Bm7b5_E7, Am7, Bm7b5_E7, Am7, A7, Dm7_G7, CM7, FM7, Bm7b5_E7, Am7, A7, Dm7_G7, CM7, FM7, Bm7b5_E7, Am7, A7]                                                                                                                                                        \n",
            "404   14             51.44          Four On Six [jazz1350]                      0_nan   [Am7, Am7, Am7, Am7, Dm7_G7, Cm7, F7, Bm7, E7, Fm7_Bb7, Am7, Am7, Am7, Dm7_G7, CM7, Am7, F7, E7, Am7, Bm7b5_E7]                                                                                                                                                                         \n",
            "1119  14             51.32          Sugar [jazz1350]                            0_nan   [Am7, Bm7b5_E7, Am7, E7, Am7, Am7, E7, E7, Am7, Eb7, Dm7, C7, Bm7b5_E7, F7, E7]                                                                                                                                                                                                         \n",
            "225   14             51.18          Chameleon [jazz1350]                        0_nan   [Am7, D7, Am7, D7, Am7, D7, Am7, D7, Am7, D7, Am7, D7, Am7, D7, Am7, D7, Am7, D7, Am7, D7]                                                                                                                                                                                              \n",
            "\n",
            "*** TOPIC 15 ***\n",
            "41 tunes\n",
            "      DominantTopic  Contribution%                                        Title Section                                                                                                                                                                                                                                                                                                                                                                                Tunes\n",
            "22    15             51.06          A Smooth One [jazz1350]                      0_nan   [F#dim7, F6, C6, C6, F#dim7, F6, C6, C6, F#dim7, F6, C6, C6, D7, G7, C6, F#dim7, F6, C6, C6, F#dim7, F6, C6, C6, F#dim7, F6, C6, C6, D7, G7, C6, C7, F6, F#dim7, C6, Gm7_C7, F6, F#dim7, C6, A7, Dm7b5, G7, F#dim7, F6, C6, C6, F#dim7, F6, C6, C6, F#dim7, F6, C6, C6, D7, G7, C6]                                                                                                \n",
            "957   15             50.72          Ping Pong [jazz1350]                         0_nan   [Bb13_B13, Bb13_B13, Bb13_B13, Bb13_B13, Bb13_B13, Bb13_B13, Bb13_B13, Bb13_B13, C#M7, Cm7, F7, BbM7, G#M7, G7, F#M7, Fm7_Bb7, EbM7, D7, C#M7, Cm7, F7, Bb13_B13, Bb13_B13, Bb13_B13, Bb13_B13, Bb13_B13, Bb13_B13, C#M7, Cm7, F7, BbM7, G#M7, G7, F#M7, Fm7_Bb7, EbM7, Bbm7_Eb7, G#M7, F#M7, Fm7_Bb7, F#m7_B7]                                                                    \n",
            "95    15             50.55          Autumn In New York [jazz1350]                0_nan   [Dm7, Em7, F6, G7, CM7, Dm7, Em7, A7, Dm7, Em7, F6, G7, Em7b5, A7, Dm7, Fm7_Bb7, EbM7, EbM7, D7, Gm7, Em7b5, Am7b5, D7, GM7, G7, G7, Dm7, Em7, F6, G7, CM7, Dm7, Em7, A7, G#7, Gm7, Am7, Bbm6, C7, Fm6, Ebm7, C#7, Cm7, G7, Cm7, Bbm7_Eb7, G#M7, Eb7_G#M7, Eb7, Dm7, Em7, Fm6, G7, Cm_Cm, A7]                                                                                      \n",
            "1315  15             50.16          You Go To My Head [jazz1350]                 0_nan   [CM7, Em7, Fm7_Bb7, EbM7, Dm7b5, G7, Cm7, Am7b5, Dm7b5, G7, CM7, Am7, Dm7_G7, CM7, Em7, Fm7_Bb7, EbM7, Dm7b5, G7, Cm7, Am7b5, Dm7b5, G7, CM7, Gm7_C7, FM7, F#dim7, C6, C6, F#m7_B7, G#m7_C#7, F#m7_B7, EM7, G7, CM7, Em7, Fm7_Bb7, EbM7, Dm7b5, G7, Cm7, Am7b5, Dm7b5, G7, CM7, Gm7_C7, FM7, Bb7, CM7, G6, Am7, Am, F#m7b5_B7, Em7, A7, Dm7_G7, CM7, Am7, Dm7_G7]                  \n",
            "313   15             50.11          Do You Know What It Means [jazz1350]         0_nan   [CM7, G7, CM7, Am7, Em7, Am7, D7, F6, F#dim7, C6, A7, Dm7, G#7, G7, CM7, G7, CM7, Am7, Em7, Am7, D7, F6, F#dim7, C6, A7, Dm7_G7, C6, Bbm7_Eb7, G#6, Adim7, Bbm7_Eb7, G#6, Am7, D7, GM7, Em7, Am7, D7, Dm7_G7, CM7, G7, CM7, Am7, Em7, Am7, D7, F6, F#dim7, C6, A7, Dm7_G7, C6]                                                                                                     \n",
            "1266  15             47.74          What Is This Thing Called Love [jazz1350]    0_nan   [Gm7b5, C7, Fm6, Fm6, Dm7b5, G7, CM7, CM7, Gm7b5, C7, Fm6, Fm6, Dm7b5, G7, CM7, CM7, Cm7, F7, BbM7, BbM7, G#7, G#7, Dm7b5, G7, Gm7b5, C7, Fm6, Fm6, Dm7b5, G7, CM7, CM7]                                                                                                                                                                                                           \n",
            "61    15             47.56          All Of You [jazz1350]                        0_nan   [Fm6, CM7, Fm6, Fm6, Fm6, CM7, Fm6, Fm6, Em7, A7, Dm7_G7, CM7, B7, Bb7, A7, Dm7_G7, Fm6, CM7, Fm6, Fm6, Fm6, CM7, Em7, A7, FM7, F#m7b5_B7, Em7, A7, Dm7, A7, Dm7_G7, C6, C6]                                                                                                                                                                                                       \n",
            "648   15             46.27          Je Ne Sais Pas [jazz1350]                    0_nan   [CM7, Fm7_Bb7, EbM7, G#7, Dm7_G7, CM7, A7, FM7, F#dim7, CM7, A7, Dm7_G7, C6, CM7, Fm7_Bb7, EbM7, G#7, Dm7_G7, CM7, A7, FM7, F#dim7, CM7, A7, Dm7_G7, C6, F6, F#dim7, C6, C7, F6, F#dim7, CM7, A7, Dm7_G7, CM7, Fm7_Bb7, EbM7, G#7, Dm7_G7, CM7, A7, FM7, F#dim7, CM7, A7, Dm7_G7, C6]                                                                                              \n",
            "1324  15             45.00          You'd Be So Nice To Come Home To [jazz1350]  0_nan   [Am7, Bm7b5_E7, Am7, E7, Am7, Gm7_C7, FM7, FM7, Bm7b5_E7, Am7, Am7, F#m7b5_B7, Bm7b5_E7, Am7, Bm7b5_E7, Am7, E7, Am7, Gm7_C7, FM7, FM7, F#dim7, C6, G#dim7, Am, D7, G#7, G7, C6, Bm7b5_E7]                                                                                                                                                                                         \n",
            "442   15             44.97          Grand Central [jazz1350]                     0_nan   [Em7, Am7, D7, Gm7_C7, Fm7_Bb7, Am7, Bb7, Am7, Bb7, Em7, Am7, D7, Gm7_C7, Fm7_Bb7, Am7, Bb7, Am7, Am7, Fm7_Bb7, Fm7_Bb7, Fm7_Bb7, Fm7_Bb7, Fm7_Bb7, Fm7_Bb7, Am7, Eb7_G#M7, B7, Em7, Am7, D7, Gm7_C7, Fm7_Bb7, Am7, Bb7, Am7, Bb7, Am7, Bb7, Am7, Am7]                                                                                                                             \n",
            "1132  15             43.56          Sweet And Lovely [jazz1350]                  0_nan   [Gm7_C7, Gm7_C7, F7, BbM7, Eb7, CM7, G7, C6, Gm7_C7, Gm7_C7, F7, BbM7, Eb7, CM7, G7, C6, Fm7_Bb7, CM7, Fm7_Bb7, CM7, G#m7_C#7, EbM7, Ebm7_G#7, Dm7_G7, Gm7_C7, Gm7_C7, F7, BbM7, Eb7, CM7, G7, C6]                                                                                                                                                                                 \n",
            "66    15             42.05          All Through The Night [jazz1350]             0_nan   [CM7, Bm7b5_E7, Am7, G#7, Gm7_C7, FM7, Fm7_Bb7, EbM7, EbM7, Em7b5, A7, Dm7b5, G7, C6, A7, Dm7_G7, CM7, Bm7b5_E7, Am7, G#7, Gm7_C7, FM7, Fm7_Bb7, EbM7, EbM7, BM7, B7, Fm7b5, Bb7, EbM7, EbM7, Dm7b5, G7, Cm7, Am7b5, Dm7b5, G7, Bbm7_Eb7, G#6, G#6, Dm7b5, G7, Cm7, Cm7, Am7b5, D7, Dm7b5, G7, CM7, Bm7b5_E7, Am7, G#7, Gm7_C7, FM7, FM7, Fm7_Bb7, Em7, A7, Dm7_G7, C6, A7, Dm7_G7]\n",
            "691   15             41.25          Laura [jazz1350]                             0_nan   [Am7, D7, G6, G6, Gm7_C7, FM7, FM7, Fm7_Bb7, Bb7, EbM7, Cm7, Am7b5, D7(+b5), D7(+b5), D7, GM7, E7, Am7, D7, G6, G6, Gm7_C7, FM7, FM7, Fm7, Fm7, Dm7b5, G7, CM7, Am7, D7, D7, G7, C6, Bm7b5_E7]                                                                                                                                                                                     \n",
            "1240  15             39.67          Virgo [jazz1350]                             0_nan   [CM7, Fm7_Bb7, Am7b5, F13, EM7, Em7, Cm7, F7, Bm7b5, Bb13, AM7, Am7, Gm7_C7, Bb7, A7, Dm7, Eb7_G#M7, Am7, D7, Dm7, G#m7_C#7, CM7, Fm7_Bb7, Am7b5, F13, EM7, Em7, Cm7, F7, Bm7b5, Bb13, Am7, G#7, Gm7_C7, FM7, B7, E7, Am7, Dm7_G7]                                                                                                                                                 \n",
            "474   15             39.42          Hot House [jazz1350]                         0_nan   [Gm7b5, C7, FmM7_FmM7, Dm7b5, G7, CM7, CM7, Gm7b5, C7, FmM7_FmM7, Dm7b5, G7, CM7, CM7, Cm7, F7, BbM7, BbM7, G#7, G#7, G7, G7, Gm7b5, C7, FmM7_FmM7, Dm7b5, G7, CM7, CM7]                                                                                                                                                                                                           \n",
            "432   15             39.25          God Bless The Child [jazz1350]               0_nan   [CM7, C7, F6, CM7, C7, F6, Gm7_C7, Gm7_C7, FM7, Fm6, Em7, A7, Dm7_G7, C6, Dm7_G7, CM7, C7, F6, CM7, C7, F6, Gm7_C7, Gm7_C7, FM7, Fm6, Em7, A7, Dm7_G7, C6, Bm7b5_E7, Am, AmM7, Am7, Am6, Em7, Bm7b5_E7, Am, AmM7, Am7, Am6, Em7, A7, Dm7_G7, CM7, C7, F6, CM7, C7, F6, Gm7_C7, Gm7_C7, FM7, Fm6, Em7, A7, Dm7_G7, C6, Dm7_G7]                                                      \n",
            "149   15             38.32          Blood Count [jazz1350]                       0_nan   [Eb7, D13, C#13, G#m7_C#7, Cm_Cm, Cm6, Gm7_C7, Eb7, D13, C#13, G#m7_C#7, CM7, CM7, C6, Gm7_C7, FM7, F7, Fm6, G#7, Am7b5, D7(+b5), G13, G#13, A13, Bb13, Eb7, D13, C#13, G#m7_C#7, CM7, CM7, C6, Gm7_C7, FM7, Fm6, Em7, Am7, Am7, F#m7b5_B7, Em7, Eb7, Dm7, C#7, C7, Eb7, Dm7, C#7, Em7, Eb7, Dm7, C#7, F, F#, A, Bb, B, G#]                                                        \n",
            "1116  15             38.06          Struttin' With Some Barbecue [jazz1350]      0_nan   [CM7, CM7, C6, C6, CM7, CM7, A7, A7, Dm7_G7, G#dim, Am7, Am7, D7, D7, G7, G7, CM7, CM7, C6, C6, Gm7_C7, F6, F6, F6, Fm6, CM7, A7, Dm7_G7, C6, G#7, G7]                                                                                                                                                                                                                             \n",
            "1007  15             38.03          San Francisco Holiday [jazz1350]             0_nan   [F#m7b5_B7, Em7b5, A7, G7, Dm7, G13, F#m7b5_B7, Em7b5, A7, G7, G7, F#m7b5_B7, Em7b5, A7, G7, Dm7, G13, F#m7b5_B7, Em7b5, A7, G7, G7, Am7b5, Am7b5, D7, Am7b5, D7, Am7b5, D7, Am7b5, Am7b5, D7, Am7b5, D7, Am7b5, D7, F#m7b5_B7, Em7b5, A7, G7, Dm7, G13, F#m7b5_B7, Em7b5, A7, G7, G#7]                                                                                            \n",
            "1112  15             37.26          Street Of Dreams [jazz1350]                  0_nan   [Cm6, G#7, G7, Cm6, G#7, G7, Cm6, Bb7, G#7, G7, Cm6, F#7, Gm7b5, C7, Fm6, G7, C#7, Cm6, G#7, G7, Cm, Bb7, G#7, G7, Am7b5, G#7, Dm7_G7, D7, Dm7_G7, CM7, FM7, Em7, A7, D7, Dm7_G7, CM7, G7, Gm7_C7, F6, Bb7, CM7, Bb7, A7, D7, G#7, Dm7_G7, C6]                                                                                                                                     \n",
            "737   15             37.25          Lonesome Road, The [jazz1350]                0_nan   [C6, C7, Fm6, Fm6, C, G7, C, F#dim7, Dm7_G7, C6, C7, Fm6, Fm6, C, G7, C, C, F#m7b5_B7, Em7, Em7, F#m7b5_B7, Em7, Eb7, Dm7_G7, C6, C7, Fm6, Fm6, C, G7, C, C]                                                                                                                                                                                                                       \n",
            "845   15             35.11          My Little Brown Book [jazz1350]              0_nan   [C6, G7, C7, FM7, Fm6, Bb7, C, C, Dm7_G7, Em7, Eb7, Dm7_G7, C6, G7, C7, FM7, Fm6, Bb7, C, C, Dm7_G7, Em7, Eb7_G#M7, Bb7, EbM7, C7, Fm7_Bb7, EbM7, F#dim7, Fm7_Bb7, EbM7, C7, Fm7_Bb7, EbM7, Am7b5, G#7, G7, C6, G7, C7, FM7, Fm6, Bb7, C, C, Dm7_G7, CM7, Ebm7_G#7, C#M7, Dm7b5, G7, CM7]                                                                                          \n",
            "1252  15             34.15          Wave [jazz1350]                              0_nan   [CM7, G#dim7, Gm7_C7, FM7, Fm6, E13, E7, A7, A7, D7, G#7, G7, Cm7, F7, Cm7, F7, CM7, G#dim7, Gm7_C7, FM7, Fm6, E13, E7, A7, A7, D7, G#7, G7, Cm7, F7, Cm7, F7, Fm7_Bb7, EbM7, EbM7, Ebm7_G#7, C#M7, G7, CM7, G#dim7, Gm7_C7, FM7, Fm6, E13, E7, A7, A7, D7, G#7, G7, Cm7, F7, Cm7, F7]                                                                                             \n",
            "480   15             33.93          How Insensitive [jazz1350]                   0_nan   [Am, Am, G#dim7, G#dim7, Gm6_Gm6, D7, D7, FM7, FM7, BbM7, BbM7, Bm7b5_E7, Am, Am, G#7, Gm6_Gm6, F#dim7, F#dim7, FM7, Bm7b5_E7, Am, Am, G#7, Gm7_C7, F#m7_B7, FM7, E7, Am, Am]                                                                                                                                                                                                      \n",
            "215   15             33.48          Can't Help Lovin' Dat Man [jazz1350]         0_nan   [CM7, Am7, Dm7_G7, CM7, Gm7_C7, F6, Bb7, Em7, Am7, G#7, G7, C6, C#dim7, Dm7_G7, CM7, Am7, Dm7_G7, CM7, Gm7_C7, F6, Bb7, Em7, Am7, G#7, G7, C6, C#dim7, Gm7_C7, F6, F#dim7, CM7, D7, CM7, E7, Dm7, C#M7, G7, CM7, Am7, Dm7_G7, CM7, Gm7_C7, F6, Bb7, Em7, Am7, G#7, G7, C6, Dm7_G7]                                                                                                 \n",
            "419   15             32.81          Gentle Rain, The [jazz1350]                  0_nan   [Am6_Am6, E7, E7, Gm6, C7, F6, F6, F#m7b5_B7, Em7b5, A7, Dm7b5, Bm7b5_E7, Am6, Bb7, Am6_Am6, E7, E7, Gm6, C7, F6, F6, F#m7b5_B7, Em7b5, A7, Dm7b5, Bm7b5_E7, Am7, D7, Gm7_C7, F6, C7, F6, Em7, Am6, Bb7]                                                                                                                                                                           \n",
            "1232  15             32.04          Unrequited [jazz1350]                        0_nan   [Em7, CM7, Am7, B7, Cm7, Cm7, Am7b5, D7, BbM7, EbM7, Cm7, D7, Ebm7, F7, F#dim7, Gm7, G7, B, F7(+b5), F7, Bbm6_F#m6, E6, Eb7, G#7, C#m7, Am7, G, B7, CM7, B7, BbM7, G#m]                                                                                                                                                                                                            \n",
            "64    15             31.86          All The Way [jazz1350]                       0_nan   [CM7, E7, Am7, D7, G7, Dm7, Bbm6, G7, C6, Gm7_C7, FM7, G7, G7, E7, Am7, FM7, G7, G#dim7, Am7, Fm6, G7, CM7, E7, Am7, D7, G7, Dm7, Bbm6, G7, C6, Gm7_C7, FM7, G7, G7, E7, Am7, Fm6, CM7, Bb7, A7, F#m7b5, G7, Em7b5, A7, Dm7_G7, C6, G7]                                                                                                                                            \n",
            "1024  15             30.51          September Song [jazz1350]                    0_nan   [F7, F7, CM7, Dm7, Em7, Am7, D7, D7, G7, G7, CM7, G7, CM7, F7, F7, CM7, Dm7, Em7, Am7, D7, D7, G7, G7, CM7, G7, CM7, Fm6, Fm6, F#dim7, F#dim7, Fm6, Fm6, F#dim7, CM7, F7, F7, CM7, Dm7, Em7, Am7, D7, D7, G7, G7, CM7, G7, CM7]                                                                                                                                                    \n",
            "1327  15             30.39          You're Laughing At Me [jazz1350]             0_nan   [C6, Dm7b5, G7, CM7, Em7, Am7, G#dim7, CM7, F#dim7, B7, Em7, Am7, Fm7_Bb7, EbM7, Bb7, Bb7, EbM7, Bb7, Bb7, GM7, D7, Dm7_G7, G#m7, C#13, C6, Dm7b5, G7, CM7, Em7, Am7, G#dim7, CM7, F#dim7, B7, EM7, E7, E7, Am7, C7, F6, Fm6, Em7, A7, Ebdim7, Dm6, C#dim7, Dm7, B7, Ddim7, C6, Dm7_G7]                                                                                            \n",
            "\n",
            "*** TOPIC 16 ***\n",
            "1 tunes\n",
            "      DominantTopic  Contribution%                          Title Section                                                                                                                                                                                                                                                                                                                                                                                     Tunes\n",
            "1087  16             64.5           Speak Like A Child [jazz1350]  0_nan   [C#7(+b5)_C#7(+b5), G#7(+b5), E7, Am7, Bb13, Bb7, Bbm7, Eb13, G#13, G#13, G#13, G7(+b5), G7(+b5), F#M7, F#M7, F#dim7, F#dim7, Eb7, Eb13, Ebm7, D7, C#7(+b5), C7, FM7, Bbm7, Am7, E7, Am7, E7, C#7(+b5)_C#7(+b5), G#7(+b5), E7, Am7b5, Bb13, Bb7, A7, A13, G#13, G#13, G7(+b5), G7(+b5), F#M7, F#M7, F#dim7, F#dim7, Fm, C#M7, C#M7, F#M7, F#M7, C, Bb, C, Bbm7, Am7, E7, C, Bb, C, Bbm7]\n",
            "\n",
            "*** TOPIC 17 ***\n",
            "66 tunes\n",
            "      DominantTopic  Contribution%                                  Title Section                                                                                                                                                                                                                                                                                                                                                                                                           Tunes\n",
            "277   17             80.10          Dance Of The Infidels [jazz1350]       0_nan   [CM7, Cm7, F7, Em7, Dm7, C#m7_F#7, Cm7, F7, Em7, A7, Ebm7_G#7, Dm7, G#m7_C#7, CM7, CM7, CM7, CM7, CM7, Cm7, F7, Em7, Dm7, C#m7_F#7, Cm7, F7, Em7, A7, Ebm7_G#7, Dm7, G#m7_C#7, CM7, CM7, CM7, CM7, CM7, Cm7, F7, Em7, Dm7, C#m7_F#7, Cm7, F7, Em7, A7, Ebm7_G#7, Dm7, G#m7_C#7, CM7, CM7]                                                                                                                     \n",
            "743   17             78.84          Look To The Sky [jazz1350]             0_nan   [CM7, CM7, Cm7, F7, CM7, CM7, Em7, A7, Dm7, Dm7, Fm7_Bb7, Em7, Ebdim7, Dm7, G7(+b5), CM7, CM7, Cm7, F7, CM7, CM7, Em7, A7, Dm7, Dm7, Fm7_Bb7, EbM7, C#M7, CM7, CM7, CM7, Em7, A7, Dm7, C#M7, CM7, Fm7_Bb7, EbM7, C#M7, CM7, CM7]                                                                                                                                                                              \n",
            "253   17             75.65          Continuum [jazz1350]                   0_nan   [CM7, CM7, CM7, CM7, CM7, FM7, FM7, CM7, CM7, CM7, CM7, CM7, CM7, F#m7, Fm7, Cdim7, CM7, CM7, B7, Bb7, CM7, Gm7, Fm7, CM7]                                                                                                                                                                                                                                                                                    \n",
            "405   17             73.22          Four [jazz1350]                        0_nan   [CM7, CM7, Cm7, F7, Dm7, Dm7, Fm7_Bb7, CM7, Ebm7_G#7, Dm7_G7, CM7, Ebm7_G#7, Dm7_G7, CM7, CM7, Cm7, F7, Dm7, Dm7, Fm7_Bb7, CM7, Ebm7_G#7, Dm7_G7, Em7, Ebm7, Dm7_G7, CM7, CM7]                                                                                                                                                                                                                                \n",
            "644   17             71.66          Jackie-ing [jazz1350]                  0_nan   [CM7, CM7, CM7, CM7, CM7, CM7, Dm7_G7, G7, CM7, CM7, A7, G7, D7, CM7, CM7, CM7, CM7]                                                                                                                                                                                                                                                                                                                          \n",
            "763   17             71.64          Lyresto [jazz1350]                     0_nan   [EbM7, Gm7_C7, Fm7_Bb7, EbM7, Gm7_C7, G#m7_C#7, Gm7, F#m7_B7, Fm7, Fm7_Bb7, Gm7_C7, Fm7_Bb7, EbM7, Gm7_C7, Fm7_Bb7, EbM7, Gm7_C7, G#m7_C#7, Bbm7_Eb7, G#m7_C#7, EbM7, C7, Fm7_Bb7, EbM7, C7, Fm7_Bb7]                                                                                                                                                                                                         \n",
            "682   17             71.36          Lady Bird [jazz1350]                   0_nan   [CM7, CM7, Fm7_Bb7, CM7, CM7, Bbm7_Eb7, G#M7, G#M7, Am7, D7, Dm7_G7, CM7, EbM7, G#M7, C#M7]                                                                                                                                                                                                                                                                                                                   \n",
            "758   17             65.68          Lullaby In Rhythm [jazz1350]           0_nan   [CM7, CM7, Ddim7, CM7, Ebm7_G#7, C#M7, Dm7_G7, CM7, G7, CM7, CM7, Ddim7, CM7, Ebm7_G#7, C#M7, Dm7_G7, CM7, Fm7_Bb7, CM7, Bm7b5_E7, Am7, D7, G7, G#7, G7, CM7, CM7, Ddim7, CM7, Ebm7_G#7, C#M7, Dm7_G7, CM7]                                                                                                                                                                                                   \n",
            "1     17             64.01          500 Miles High [jazz1350]              0_nan   [Am7, Am7, Cm7, Cm7, EbM7, EbM7, Em7b5, A7, Dm7, Dm7, Bm7b5, Bm7b5, Bbm7, Bbm7, Fm7, Fm7, E7, E7, Fm7, Fm7, C#M7, C#M7, Fm7, Fm7, C#M7, C#M7]                                                                                                                                                                                                                                                                 \n",
            "1111  17             60.02          Strayhorn [jazz1350]                   0_nan   [CM7, Dm7b5, Cdim7, CM7, Cdim7, Fm7, CM7, Dm7, G, CM7, Dm7b5, Cdim7, CM7, Cdim7, Fm7, CM7, F#7, FM7, G, Em7, EbM7, Bb, EbM7, Em, A7, DM7, G#7, FM7, CM7, Dm7b5, Cdim7, CM7, Cdim7, Fm7, CM7, Fm7, CM7, Dm7, G]                                                                                                                                                                                                \n",
            "448   17             58.73          Half Nelson [jazz1350]                 0_nan   [CM7, CM7, Fm7_Bb7, CM7, CM7, Bm7, E7, Bbm7_Eb7, G#M7, G#M7, Am7, D7, Dm7_G7, CM7, EbM7, G#M7, C#M7]                                                                                                                                                                                                                                                                                                          \n",
            "874   17             57.90          Night And Day [jazz1350]               0_nan   [G#M7, G7, CM7, CM7, G#M7, G7, CM7, CM7, F#m7b5, Fm7, Em7, Ebdim7, Dm7_G7, CM7, CM7, G#M7, G7, CM7, CM7, G#M7, G7, CM7, CM7, F#m7b5, Fm7, Em7, Ebdim7, Dm7_G7, CM7, Bb7, EbM7, EbM7, CM7, CM7, EbM7, EbM7, CM7, CM7, F#m7b5, Fm7, Em7, Ebdim7, Dm7_G7, C6, C6]                                                                                                                                                \n",
            "463   17             56.87          Here's That Sunny Day [jazz1350]       0_nan   [C, C, F, F, C, C, F, F, CM7, CM7, FM7, FM7, CM7, CM7, EbM7, EbM7, G#M7, G#M7, C#M7, C#M7, Dm7_G7, Ebm7_G#7, C#M7, C#M7, G7, C, C, F, F, CM7, CM7, FM7, FM7, CM7, CM7, EbM7, EbM7, Dm7_G7, Gm7_C7, Fm7_Bb7, EbM7, G#M7, C#7, C#7, Dm7b5, G7, CM7, CM7, FM7, FM7, CM7, CM7, EbM7, EbM7, G#M7, G#M7, C#M7, C#M7, Dm7_G7, Em7, A7, Dm7_G7, Dm7_G7, Ebm7_G#7, Dm7_G7, Em7, Eb7, Dm7_G7, Em, Eb7, Dm7_G7, CM7, CM7]\n",
            "1034  17             55.93          She's Funny That Way [jazz1350]        0_nan   [CM7, G7, CM7, G7, CM7, G7, Em7b5, A7, FM7, Fm7, CM7, D7, Dm7, Gm7, CM7, G7, CM7, G7, CM7, G7, Em7b5, A7, FM7, Fm7, CM7, G7, CM7, C7, Fm7, Fm7, CM7, G7, CM7, Fm7, CM7, D7, G7, CM7, G7, CM7, G7, CM7, G7, Em7b5, A7, FM7, Fm7, CM7, G7, CM7]                                                                                                                                                                 \n",
            "115   17             54.45          Beatrice [jazz1350]                    0_nan   [CM7, C#M7, CM7, BbM7, Am7, BbM7, Am7, Gm7, Fm7, Em7, FM7, Bm7b5_E7, Am7, Dm7, C#M7, Cm7, C#M7]                                                                                                                                                                                                                                                                                                               \n",
            "223   17             54.26          Central Park West [jazz1350]           0_nan   [CM7, Fm7_Bb7, EbM7, Bm7, E7, AM7, G#m7_C#7, F#M7, Dm7_G7, CM7, Fm7_Bb7, EbM7, Dm7_G7, CM7, Dm7, CM7, Dm7, Dm7_G7]                                                                                                                                                                                                                                                                                            \n",
            "1051  17             53.85          Smile [jazz1350]                       0_nan   [CM7, CM7, CM7, CM7, CM7, Ebdim7, Dm7, A7, Dm7, Dm7, Fm7_Bb7, CM7, CM7, Dm7_G7, CM7, CM7, CM7, CM7, CM7, Ebdim7, Dm7, A7, Dm7, Dm7, Fm7_Bb7, CM7, CM7, Dm7_G7, C6, C6]                                                                                                                                                                                                                                        \n",
            "944   17             52.86          Pensativa [jazz1350]                   0_nan   [CM7, C#7, CM7, C#7, CM7, A7, G#M7, D7, C#M7, Cm7, F7, Bbm7_Eb7, G#M7, Dm7, C#7, CM7, B7, CM7, C#7, CM7, C#7, CM7, A7, G#M7, D7, C#M7, Cm7, F7, Bbm7_Eb7, G#M7, Dm7, C#7, CM7, Gm7_C7, F#M7, Ebm7, BM7, Bb7, G#m7_C#7, F#M7, Fm7, E7, EbM7, EbM7, Cm7, Fm7_Bb7, EbM7, EbM7, G#m7_C#7]                                                                                                                         \n",
            "850   17             50.43          My Old Flame [jazz1350]                0_nan   [CM7, Em7b5, A7, Dm7, Fm7_Bb7, CM7, Fm7_Bb7, EbM7, G#7, Dm7_G7, CM7, Em7b5, A7, Dm7, Fm7_Bb7, CM7, Fm7_Bb7, EbM7, G#7, Dm7_G7, CM7, Fm7_Bb7, EbM7, Cm7, Fm7_Bb7, C#7, C7, F7, Fm7_Bb7, Dm7b5, G7, Cm7, Am7, D7, Dm7_G7, CM7, Em7b5, A7, Dm7, Fm7_Bb7, CM7, Fm7_Bb7, EbM7, G#7, Dm7_G7, C6]                                                                                                                    \n",
            "659   17             50.24          Joy Spring [jazz1350]                  0_nan   [CM7, Dm7_G7, CM7, Fm7_Bb7, Em7, Eb7, Dm7_G7, CM7, Ebm7_G#7, C#M7, Ebm7_G#7, C#M7, F#m7_B7, Fm7, E7, Ebm7_G#7, C#M7, Em7, A7, DM7, Dm7_G7, CM7, Cm7, F7, BbM7, Ebm7_G#7, C#M7, Dm7_G7, CM7, Dm7_G7, CM7, Fm7_Bb7, Em7, Eb7, Dm7_G7, CM7, Dm7_G7]                                                                                                                                                              \n",
            "605   17             50.19          Infant Eyes [jazz1350]                 0_nan   [Em7, Dm7, CM7, F#13, EbM7, D7, Cm7, G7, G7(+b5), CM7, C#M7, CM7, C#M7, G#M7, G7, Fm7, C7, B7, Em7, Dm7, CM7, F#13, EbM7, D7, Cm7, G7, G7]                                                                                                                                                                                                                                                                    \n",
            "969   17             50.15          Progression [jazz1350]                 0_nan   [CM7, C#M7, G#7, A7, G#7, C#M7, G7, D7, G7, CM7, C#M7, F#7, E7, A7, D7, C#M7, Dm7, D7, Gm7_C7, Fm7_Bb7, CM7, E7, Am7, D7, Dm7_G7, CM7, C#M7, F#7, E7, A7, D7, C#M7, Dm7_G7, CM7]                                                                                                                                                                                                                              \n",
            "173   17             49.83          Bluesette [jazz1350]                   0_nan   [CM7, CM7, Bm7b5_E7, Am7, D7, Gm7_C7, FM7, FM7, Fm7_Bb7, EbM7, EbM7, Ebm7_G#7, C#M7, C#M7, Dm7_G7, Em7, A7, Dm7_G7]                                                                                                                                                                                                                                                                                           \n",
            "1044  17             48.65          Sippin' At Bells [jazz1350]            0_nan   [CM7, Cm7, F7, Em7, Dm7, C#m7_F#7, FM7, Fm7_Bb7, Em7, Ebm7_G#7, Dm7_G7, G#m7_C#7, Em7, Eb7_G#M7, C#7, CM7, Cm7, F7, Em7, Dm7, C#m7_F#7, FM7, Fm7_Bb7, Em7, Ebm7_G#7, Dm7_G7, G#m7_C#7, Em7, Eb7_G#M7, C6, C6]                                                                                                                                                                                                 \n",
            "1304  17             47.60          Yes And No [jazz1350]                  0_nan   [C7, C7, C7, C7, CM7, CM7, CM7, CM7, Gm7_C7, FM7, Eb7_G#M7, G#M7, Dm7, Dm7, C7, C7, C7, C7, CM7, CM7, CM7, CM7, Gm7_C7, FM7, Eb7_G#M7, G#M7, Dm7, Dm7, Gm7b5, Gm7b5, C7, C7, Fm7, Fm7_Bb7, Bb7, Ebm7, Ebm7_G#7, G#7, C#M7, C#M7, Gm7_C7]                                                                                                                                                                      \n",
            "84    17             47.40          April Skies [jazz1350]                 0_nan   [CM7, Dm7, Em7, F7, Cm7, F7, Cm7, F7, Dm7_G7, Em7, A7, Dm7_G7, CM7, CM7, Fm7_Bb7, EbM7, Gm7, F#7, Fm7, Bb7(+b5), EbM7, EbM7, Dm7_G7, CM7, CM7, Bm7, E7, AM7, Dm7_G7]                                                                                                                                                                                                                                          \n",
            "249   17             45.54          Conception [jazz1350]                  0_nan   [Dm7b5, G7, CM7, Bbm7, G#M7, GM7, Gm7_C7, F7, E7, A7, G#7, G7, F#7, Fm7_Bb7, EbM7, G#M7, Dm7_G7, CM7, Dm7b5, G7, CM7, Bbm7, G#M7, GM7, Gm7_C7, F7, E7, A7, G#7, G7, F#7, Fm7_Bb7, EbM7, G#M7, Dm7_G7, CM7, Fm7, Bb7(+b5), EbM7, Fm7, Gm7_C7, F#m7_B7, Fm7_Bb7, Ebm7_G#7, Dm7b5, G7, CM7, Bbm7, G#M7, GM7, Gm7_C7, F7, E7, A7, G#7, G7, F#7, Fm7_Bb7, EbM7, G#M7, Dm7_G7, CM7]                                 \n",
            "426   17             44.89          Girl From Ipanema, The [jazz1350]      0_nan   [CM7, CM7, D7, D7, Dm7, C#7, CM7, C#7, CM7, CM7, D7, D7, Dm7, C#7, CM7, CM7, C#M7, C#M7, F#7, F#7, C#m7, C#m7, A7, A7, Dm7, Dm7, Bb7, Bb7, Em7, A7(+b5), Dm7, G7(+b5), CM7, CM7, D7, D7, Dm7, C#7, CM7, C#7]                                                                                                                                                                                                  \n",
            "1320  17             43.65          You Stepped Out Of A Dream [jazz1350]  0_nan   [CM7, CM7, C#M7, C#M7, Bbm7_Eb7, G#M7, G#M7, Gm7_C7, FM7, FM7, Am7, D7, Ebm7_G#7, Dm7_G7, CM7, CM7, C#M7, C#M7, Bbm7_Eb7, F#7, F7, Dm7b5, G7, Em7, A7, Dm7_G7, CM7, A7, Dm7_G7]                                                                                                                                                                                                                               \n",
            "814   17             43.56          Moon Alley [jazz1350]                  0_nan   [CM7, CM7, CM7, Cm_Cm, Fm, Bbm, Cm, CM7, CM7, CM7, CM7, CM7, Cm_Cm, Fm, Bbm, Cm, CM7, CM7, Fm, Fm, C#M7, C#M7, Bbm_Bbm, G#M7, C#M7, CM7, CM7, CM7, Cm_Cm, Fm, Bbm, Cm, CM7, CM7, Cm, CM7, CM7, Cm, CM7, CM7, Cm, CM7, CM7, Cm]                                                                                                                                                                                \n",
            "\n",
            "*** TOPIC 18 ***\n",
            "8 tunes\n",
            "      DominantTopic  Contribution%                                  Title Section                                                                                                                                                                                                                                                                                                                                                                                                                                                                               Tunes\n",
            "890   18             90.78          Off Minor [jazz1350]                   0_nan   [Am6, Eb7, G#7, C#m7, C7, FM7, E7, Am6, C13, E13_E13, Am6, Eb7, G#7, C#m7, C7, FM7, E7, Am6, C13, E13_E13, EbM7, E7, Cm7, F7, C#m7_F#7, F#m7_B7, B7, E13_E13, Am6, Eb7, G#7, C#m7, C7, FM7, E7, Am6, C13, E13_E13]                                                                                                                                                                                                                                                                \n",
            "130   18             53.64          Better Than Anything [jazz1350]        0_nan   [D6, Am7, D6, Am7, D6, Am7, D6, D, G#7, G6, Dm7, G6, Dm7, D6, Am7, D6, D6, D7, G#7, G7, F#7, F7, E7, EbM7, D6, Am7, D6, Am7]                                                                                                                                                                                                                                                                                                                                                      \n",
            "43    18             47.82          Ahmid-6 [jazz1350]                     0_nan   [Dm7, C#m7, Dm7, C#m7, F#m7_B7, Em7, A7, G, F, Em, Dm7, CM7, B7, BbM7, Am7b5, D7, F#m7b5_B7, Em7b5, A7, Dm7, Em7, Fm7_Bb7, Eb7, Eb7_G#M7, G#M7, G#7, G#7, C#M7, C#M7, Dm7b5, G7, Cm7, F7, Fm7_Bb7, Gm7b5, C7, Fm7, F#m7, Gm7, Cm7, F#m7_B7, Em7, A7, A7, A7, A7, Dm7, C#m7, Dm7, C#m7, F#m7_B7, Em7, A7, Am7, Am7, D7, GM7, Bb7, EbM7, B7, EM7, G7, CM7, G#7, C#M7, E7, AM7, C7, FM7, FM7, Em7, Em7, FM7, FM7, Em7, Em7]                                                          \n",
            "5     18             45.74          A Ballad [jazz1350]                    0_nan   [Dm7_G7, CM7, C#m7_F#7, BM7, Em7, A7, Gm7b5, F#m7_B7, Em7, A7, F#m7_B7, Em7, Gm6, F#m7, Fdim7, Em7, A7, Dm7_G7, CM7, C#m7_F#7, BM7, Em7, A7, Gm7b5, F#m7_B7, Dm7_G7, Em7, A7, Dm7, FmM7, Em7, Ebdim7, Dm7_G7, CM7, Fm7_Bb7, Gm7, F#dim7, Fm7_Bb7, EbM7, Ebm7_G#7, C#M7, Em7, Ebm7_G#7, C#M7, Em7, A7, Dm7_G7, CM7, C#m7_F#7, BM7, Em7, A7, Gm7b5, F#m7_B7, Em7, A7, F#m7_B7, Em7, Gm6, F#m7, Fdim7, Em7, A7, DM7, Dm7_G7, Em7, A7, D7, G#7, G#dim, Adim, Bbdim_Bdim, C, C#M7, CM7]\n",
            "782   18             33.15          Mc Jolt [jazz1350]                     0_nan   [Bbm7, Bbm7, Am7, Am7, FM7, Em7, G#7, G#7, C#m7, Eb7, G#m7, B7, Dm7, E7, Am7, C7, Bbm7, Bbm7, Am7, Am7, FM7, Em7, G#7, G#7, C#m7, Eb7, G#m7, B7, Dm7, E7, Am7, C7, Dm7, E7, Am7, C7, Bbm7, Bbm7, Am7, Am7]                                                                                                                                                                                                                                                                        \n",
            "369   18             31.55          Eye of the Hurricane [jazz1350]        0_nan   [Am6, D6, G7, C7, FM7, E7, E, Bbm7, Dm, E, G7, G7, G7, G7, E, Am7, Am7, Am6, D6, G7, C7, FM7, E7, E, C#M7, EM7, E, G7, G7, G7, G7, E, E, Am7, Am7]                                                                                                                                                                                                                                                                                                                                \n",
            "1319  18             29.98          You Must Believe In Spring [jazz1350]  0_nan   [Bm7b5_E7, E7, Am7, Dm7_G7, G7, CM7, F#m7b5_B7, Em7b5, A7, Dm7_G7, CM7, Bm7b5_E7, Bm7b5_E7, E7, Am7, Dm7_G7, G7, CM7, F#m7b5_B7, Fm7b5, Bb7, Ebm7_G#7, C#M7, Cm7b5, F7, Cm7b5, F7, F7, Bbm7, Ebm7_G#7, G#7, C#M7, Gm7b5, C7, Fm7b5, Bb7, Ebm7_G#7, C#M7, F#M7, Cm7b5, F7, Bbm6]                                                                                                                                                                                                   \n",
            "1215  18             24.03          Troubled Waters [jazz1350]             0_nan   [Am6, Dm7, Ebdim7, E7, F7, E7, Eb7, D7, Ebdim7, Dm7_G7, CM7, C, Am, Am, F13, E7, Am6, Dm7, Ebdim7, E7, F7, E7, Eb7, D7, Ebdim7, Dm7_G7, CM7, C, Am, Am, F#m7b5_B7, Em7, Bb7, A7, D13, Ebdim7, E7, E7, AM7, Bm7, C#m7, C7, Bm7, C7, FM7, E7, Am6, Dm7, Ebdim7, E7, F7, E7, Eb7, D7, Ebdim7, Dm7_G7, CM7, C, Am, G#dim, Dm7b5, Fm7_Bb7, GM7]                                                                                                                                        \n",
            "\n",
            "*** TOPIC 19 ***\n",
            "16 tunes\n",
            "      DominantTopic  Contribution%                                 Title Section                                                                                                                                                                                                                                                                                                                                                                                        Tunes\n",
            "650   19             74.12          Jeannine [jazz1350]                   0_nan   [Cm7, Cm7, Cm7, Cm7, Cm7, Cm7, Cm7, Cm7, Bbm7_Eb7, G#M7, C#7, Dm7_G7, CM7, G7, Cm7, Cm7, Cm7, Cm7, Cm7, Cm7, Cm7, Cm7, Bbm7_Eb7, G#M7, C#7, Dm7_G7, CM7, Gm7_C7, FM7, Bm7b5_E7, AM7, AM7, Am7, D7, Dm7_G7, Cm7, Cm7, Cm7, Cm7, Cm7, Cm7, Cm7, Cm7, Bbm7_Eb7, G#M7, C#7, Dm7_G7, CM7, G7]                                                                                                   \n",
            "606   19             64.57          Inner Urge [jazz1350]                 0_nan   [Bm7b5, Bm7b5, Bm7b5, Bm7b5, BbM7, BbM7, BbM7, BbM7, G#M7, G#M7, G#M7, G#M7, F#M7, F#M7, F#M7, F#M7, AM7, F#M7, GM7, EM7, FM7, DM7, Eb7, CM7]                                                                                                                                                                                                                                              \n",
            "1337  19             54.16          Zoltan [jazz1350]                     0_nan   [CM7, CM7, CM7, CM7, BbM7, BbM7, BbM7, BbM7, CM7, CM7, CM7, CM7, BbM7, BbM7, BbM7, BbM7, F#M7, F#M7, F#M7, FM7, EbM7, EbM7, EbM7, FM7, G#M7, BbM7, CM7, CM7, CM7, CM7, BbM7, BbM7, BbM7, BbM7]                                                                                                                                                                                             \n",
            "298   19             49.02          Deluge [jazz1350]                     0_nan   [Am7, BbM7, BbM7, Am7, BbM7, BbM7, Am7, BbM7, BbM7, Am7, Eb7, D7, Cm7, F7, Am7, Eb7, D7, Cm7, F7, Am7, BbM7, BbM7]                                                                                                                                                                                                                                                                         \n",
            "184   19             48.97          Boy Next Door, The [jazz1350]         0_nan   [BbM7, G7, Cm7, F7, BbM7, Gm7_C7, C7, Cm7, F7, BbM7, Gm7, Em7b5, A7, Dm7, C#7, Cm7, F7, BbM7, G7, Cm7, F7, BbM7, Gm7_C7, F#7, BbM7, BbM7, Em7b5, C7, F#7, F7, BbM7, BbM7]                                                                                                                                                                                                                  \n",
            "984   19             45.07          Recordame [jazz1350]                  0_nan   [Am, Am, Am, Am, Cm_Cm, Cm, Cm7, F7, BbM7, Bbm7_Eb7, G#M7, G#m7_C#7, F#M7, Gm7_C7, FM7, E7]                                                                                                                                                                                                                                                                                                \n",
            "955   19             43.33          Phase Dance [jazz1350]                0_nan   [Am7, Am7, Am7, Am7, G#M7, G#M7, G#M7, G#M7, Am7, Am7, Am7, Am7, G#M7, G#M7, G#M7, G#M7, FM7, FM7, FM7, FM7, F6, F6, F6, F6, Am7, Am7, Am7, Am7, G#M7, G#M7, G#M7, G#M7]                                                                                                                                                                                                                   \n",
            "861   19             40.74          Nardis [jazz1350]                     0_nan   [Am7, BbM7, E7, FM7, Dm7, BbM7, AM7, Am7, Am7, BbM7, E7, FM7, Dm7, BbM7, AM7, Am7, Dm7, BbM7, Dm7, BbM7, Gm7_C7, FM7, BbM7, Am7, BbM7, E7, FM7, Dm7, BbM7, AM7, Am7]                                                                                                                                                                                                                       \n",
            "400   19             33.93          Forest Flower [jazz1350]              0_nan   [AM7, AM7, GM7, GM7, CM7, CM7, BbM7, BbM7, C#m7, Dm7b5, G7, CM7, CM7, Cm7, B7, BbM7, BbM7, AM7, AM7, GM7, GM7, CM7, CM7, BbM7, BbM7, C#m7, Dm7b5, G7, CM7, CM7, Cm7, B7, BbM7, BbM7, Cm7, Bb7, EbM7, EbM7, Bb7, G#7, F#M7, F#M7, F#m7, Am7, Cm7, Ebm7, C6, C6]                                                                                                                             \n",
            "354   19             32.90          End Of A Love Affair, The [jazz1350]  0_nan   [Dm7_G7, CM7, Cm7, F7, BbM7, Bbm7_Eb7, Bbm7_Eb7, G#M7, Dm7_G7, CM7, Dm7_G7, CM7, Cm7, F7, BbM7, Bbm7_Eb7, Bbm7_Eb7, G#M7, Dm7_G7, CM7, Am7, D7, Am7, D7, Am7, D7, Am7, D7, GM7, Em7, A7, Am7, D7, Dm7_G7, Dm7_G7, CM7, Cm7, F7, BbM7, Bbm7_Eb7, Bbm7_Eb7, G#M7, Dm7_G7, Gm7_C7, FM7, Fm6, Bb7, CM7, Ebdim7, Dm7, C#dim7, Dm7_G7, C6, C6]                                                   \n",
            "276   19             32.84          Daahoud [jazz1350]                    0_nan   [Cm7, F7, Bbm7_Eb7, G#M7, Dm7_G7, Cm7, G#7, G7, CM7, CM7, Cm7, F7, Bbm7_Eb7, G#M7, Dm7_G7, Cm7, G#7, G7, CM7, CM7, Gm7_C7, FM7, FM7, Fm7_Bb7, EbM7, Dm7_G7, Cm7, F7, Bbm7_Eb7, G#M7, Dm7_G7, Cm7, G#7, G7, CM7, CM7, EbM7, Cm7, F7, Am7b5, G#7, G7]                                                                                                                                        \n",
            "1089  19             29.60          Speak No Evil [jazz1350]              0_nan   [Am7, BbM7, Am7, BbM7, Am7, BbM7, Am7, BbM7, Cm7, C#m7, Am7, Bm7, Gm7, F#7(+b5), Gm7, F#7(+b5), Gm7, Am7, BbM7, Am7, BbM7, Am7, BbM7, Am7, BbM7, Cm7, C#m7, Am7, Bm7, Gm7, F#7(+b5), Gm7, F#7(+b5), Gm7, F#m7b5, F7, Em7, Eb7, Dm7_G7, CM7, BbM7, Am7, BbM7, Am7, BbM7, Am7, BbM7, Am7, BbM7, Cm7, C#m7, Am7, Bm7, Gm7, F#7(+b5), Gm7, F#7(+b5), Gm7]                                      \n",
            "723   19             29.27          Little B's Poem [jazz1350]            0_nan   [BbM7, Am7, BbM7, Am7, Gm7, FM7, Gm7, E7, Am7, Bbm7_Eb7, G#M7, Am7, D7, GM7, F7, E7, E7, E7, Am7, Am, Am]                                                                                                                                                                                                                                                                                  \n",
            "791   19             25.31          Midnight Sun [jazz1350]               0_nan   [CM7, C6, CM7, Cm7, F7, F7, BbM7, Bb6, BbM7, Bbm7_Eb7, Eb7_G#M7, G#6, G#M7, G#m7_C#7, C#7, CM7, Dm7_G7, CM7, C6, CM7, Cm7, F7, F7, BbM7, Bb6, BbM7, Bbm7_Eb7, Eb7_G#M7, G#6, G#M7, G#m7_C#7, C#7, CM7, Am7, F#m7b5_B7, EM7, Em7, A7, DM7, Em7, Eb7, DM7, Dm7_G7, Em7, Eb7, Dm7, C#7, CM7, C6, CM7, Cm7, F7, F7, BbM7, Bb6, BbM7, Bbm7_Eb7, Eb7_G#M7, G#6, G#M7, G#m7_C#7, C#7, CM7, Dm7_G7]\n",
            "672   19             24.47          Katrina Ballerina [jazz1350]          0_nan   [Am7, G7, FM7, G7, BbM7, G#M7, G#m7, Bbm7, E7, E7, Am7, G7, FM7, G7, BbM7, G#M7, Bm7b5_E7, Am7, BbM7, C7, BbM7, C7, BbM7, C7, BbM7, C7, BM7, C#7, BM7, C#7, Em7, Dm7, Dm7, Cm7, Cm7, Bbm7, E7, Am7, G7, FM7, G7, BbM7, G#M7, Bm7b5_E7, Am7, C7, C7, C7, C7, C7, C7, C7, E7]                                                                                                                \n",
            "666   19             22.91          Just In Tune [jazz1350]               0_nan   [D7, D7, Dm7b5, G7, Cm7, Cm7, Am7, Am7, Dm, Bb, Dm, Bb, Dm, Dm, BbM7, Bm7b5_E7, D7, D7, Dm7b5, G7, Cm7, Cm7, Am7, Am7, FM7, EbM7, G#M7, Gm7_C7, C7, C7, C7]                                                                                                                                                                                                                                \n",
            "\n",
            "*** TOPIC 20 ***\n",
            "12 tunes\n",
            "      DominantTopic  Contribution%                       Title Section                                                                                                                                                                                                                                                                                                                                                                                                               Tunes\n",
            "764   20             97.86          Ma Belle Hélène [jazz1350]  0_nan   [G#, G#, E, E, C, C, G#, G#, G, G, Eb, Eb, B, B, G, G, F#, Bb, D, C, F#, F#, F#, F#, A, A, F, F, C#, C#, A, A, G#, G#, E, E, C, C, G#, G#, G, B, Eb, C#, G, Bb, Dm7, Dm7]                                                                                                                                                                                                                                         \n",
            "1474  20             57.58          Georgia Bo-Bo [trad]        0_nan   [G, Am7, G, Cm, G, D7, G, G, Am7, G, Bbdim, Bm, F#7, Bm, D7, G, Am7, G, Cm, G, D7, G, D, D, F#7, B7, E7, A7, D7, G, G, G, G7, C, C, C#dim, G, G, A7, Eb7, D7, G, Gdim, D7, G]                                                                                                                                                                                                                                     \n",
            "679   20             55.70          La Fiesta [jazz1350]        0_nan   [G, G#, Bb7, G#, G, G, G#, Bb7, G#, G, G, G#, Bb7, G#, G, G, G#, Bb7, G#, G, C, C, C, C, CM7, E7, FM7, F#dim7, CM7, G#dim7, Am7, D7, G7, CM7, FM7, FM7, Em7, A7, Dm7, G, G, G#, Bb7, G#, G, C, C, C, Dm7_G7, CM7, FM7, CM7, FM7, CM7, FM7, Bb, G#, G, G#, Bb, G#, G, CM7, FM7, CM7, FM7, CM7, FM7, G#, Bb7, G#, G, CM7]                                                                                           \n",
            "110   20             48.88          Bat, The [jazz1350]         0_nan   [C, G, Am, D7, G, Dm7_G7, C, G, Am, D7, G, Dm, F#, Eb13, G#m7, F#m7_B7, Fm7b5, EM7, F#, B, G#m7, G13, F#13_F13, Bbm_Bbm7b5, Eb7_G#M7, Eb, C#, C#m, G#, C#, Dm7b5, G7, C, G, Am, D7, G, Dm7_G7, C, G, Am, D7, G, Dm, F#, Eb13, G#m7, F#m7_B7, Fm7b5, EM7, F#, B, G#m7, G13, F#13_F13, Bbm_Bbm7b5, Eb7_G#M7, Eb, C#, C#m, G#, C#, Dm7b5, G7, C#, G#, C#, G#, C#, G#]                                                \n",
            "453   20             46.48          Harlequin [jazz1350]        0_nan   [C, C, Em7, Em7, F#, E, G, C#_Eb, F#, E, G, C#_Eb, G, G, G7, Fm7, CM7, C#m7, CM7, F#m7, F#m7, F#, E, G, C#_Eb, G7, Fm7, Dm7, G, Gm7, G7, BbM7, BbM7, E, Em7, F#7, B7, Bm7b5, Dm7_G7, C#m7_F#7, Cm7, F7, G, G, G7, Fm7, CM7, C#m7, CM7, EbM7, Eb13, Dm7_G7, C7, Ebm7, G#13, Ebm7, G#13, Ebm7, G#13, Em7, Em7, F#, E, G, C#_Eb, Em7, Em7, F#, E, G, C#_Eb]                                                          \n",
            "375   20             45.58          Farmer's Trust [jazz1350]   0_nan   [GM7, Bm7, G, C#m7_F#7, F#7, Bm, Am7, D7, D7, F, G, F, C, G, G, G7, C, C, Em7, C, G#, Bb, C#_Eb, C#, G#, G7, F#6, Gm7b5, C7, Fm7, Cm7, Gm7, G#M7, G#7, C, C, G#M7, Bb, C, C, D, GM7, Bm7, G, C#m7_F#7, F#7, Bm, Am7, D7, D7, F, G, F, C, G, G, G7, C, C, Em7, C, G#, Bb, C#_Eb, C#, G#, G7, F#6, Gm7b5, C7, Fm7, Cm7, Gm7, G#M7, G#7, C, C, G#M7, Bb, C, C, D, C, C, G#M7, Bb, C, C, C]                           \n",
            "807   20             40.50          Moanin' [jazz1350]          0_nan   [E, D, A, E, E, D, A, E, E, D, A, E, E, D, A, E, E, D, A, E, E, D, A, E, E, D, A, E, E, D, A, E, Dm7, C7, B7, E7, Am7, A7, Eb7, Dm7, C7, B7, Bm7b5_E7, Am7, C7, B7, E7, Am7, C7, B7, E7, Am7, C7, B7, E7, Am7, C7, B7, E7, Dm7, C7, B7, E7, Am7, A7, Eb7, Dm7, C7, B7, Bm7b5_E7, Dm7, C7, B7, E7, Am7, A7, Eb7, Dm7, C7, B7, Bm7b5_E7]                                                                            \n",
            "36    20             37.83          Afro Blue [jazz1350]        0_nan   [Am7, Bm7, CM7, Bm7, Am7, Am7, Bm7, CM7, Bm7, Am7, G, G, F, G, Am7, G, G, F, G, Am7]                                                                                                                                                                                                                                                                                                                              \n",
            "1040  20             36.78          Sidewinder [jazz1350]       0_nan   [A, B7, C7, A, B7, C7, A, B7, C7, A, B7, C7, A, B7, C7, A, B7, C7, A, B7, C7, A, B7, C7, A, E7, F7, A, E7, F7, A, E7, F7, A, E7, F7, A, B7, C7, A, B7, C7, A, B7, C7, A, Em7b5, A7, A, Dm7_G7, A, Dm7_G7, A, Dm7_G7, A, Dm7_G7, A, B7, C7, A, B7, C7, C7, A, A]                                                                                                                                                   \n",
            "690   20             32.60          Last Train Home [jazz1350]  0_nan   [C, D, Bb, C, C, Em, Em7, Am, F, G7, G7, G7, Am, E7, Am, FM7, FM7, Em7, Am7, Em7, Am7, Am7, F6, F6, F6, G, C, G, G, Am7, G, G, C, G, G, Am7, G, G]                                                                                                                                                                                                                                                                \n",
            "685   20             30.87          Lakes [jazz1350]            0_nan   [C, G, F, G, C, G, F, G, C, G, Am, Am, C, D, F, CM7, E7, E7, Am7, Dm, F, G, CM7, Dm7, F, G#, G, G#dim, Am, Am, C, G, Gm7, FM7, E, Bm7, Bb7, Am, C7, FM7, Em7, EbM7, Dm7, Em7, E, D7, C#, C, Bb, G#, G7, C7, C, Dm7, Em7, FM7, G7, C, G, F, G, Bb, G#, G7, C7, C, Dm7, Em7, FM7, G7, CM7, Bb7, EbM7, F#7, BM7, A7, DM7, C7, FM7, Eb7_G#M7, B7, EM7, F7, BbM7, G7, C, G, F, G, Bb, G#, G7, C7, C, Dm7, Em7, FM7, G7]\n",
            "1004  20             21.33          Sail Away [jazz1350]        0_nan   [Em7, A7(+b5), Dm7_G7, Fdim7, Am7, D, G7, Em7, Bbm7_Eb7, Dm7_G7, Fdim7, Am7, Fm7_Bb7, Gm7, C7(+b5), Fm7_Bb7, G#dim7, Cm7, Am7, D7(+b5), GM7, Dm7, A, A, B7, EM7, AM7, Ebm7, G#, B, Eb7, Eb7(+b5), E7, E7, E7, AM7, F#m7, CM7, BbM7, G#M7, G7, Em7, A7(+b5), Dm7_G7, C6, Am7, F#m7_B7, C, A7(+b5), Dm7, G, G7, CM7, G13, CM7, G13, CM7, G13, CM7, G13, F, D, Em, E, F, BbM7, G, Cm7]                               \n",
            "\n",
            "*** TOPIC 21 ***\n",
            "28 tunes\n",
            "      DominantTopic  Contribution%                              Title Section                                                                                                                                                                                                                                                                                                                                                                                                                                                                                                                             Tunes\n",
            "274   21             82.18          Cyclic Episode [jazz1350]          0_nan   [Bbm7, C#m7, Em7, Gm7, Cm7, D7, Gm7, A7, Dm7, Bm7, G#m7, Fm7, Dm7, Eb, Ebm7, F#m7]                                                                                                                                                                                                                                                                                                                                                                                                                                              \n",
            "801   21             79.05          Minor Strain [jazz1350]            0_nan   [Gm7, Gm7, Gm7, Gm7, Gm7, Gm7, Gm7, Gm7, Fm7, Fm7, Fm7, Fm7, Gm7, Gm7, Gm7, Gm7, Cm7, Cm7, Ebm7_G#7, Dm7, Dm7_G7, C, Dm7, Ebdim, Em7]                                                                                                                                                                                                                                                                                                                                                                                           \n",
            "1207  21             75.73          Toy Tune [jazz1350]                0_nan   [Fm7, Em7, Gm7, F#m7, F#m7, G#, Fm7, F#M7, C#M7, Bm6, AM7, Dm7, CM7, B7(+b5), Fm7, Em7, Gm7, F#m7, F#m7, G#, Fm7, F#M7, C#M7, Bm6, AM7, Dm7, CM7, C#13, Cm7, Bbm7, Am7b5, D7, Gdim7, F#7(+b5), Fm7, Em7, Gm7, F#m7, F#m7, G#, Fm7, F#M7, C#M7, Bm6, AM7, Dm7, CM7, B7(+b5)]                                                                                                                                                                                                                                                     \n",
            "465   21             73.35          Heyoke [jazz1350]                  0_nan   [CM7, CM7, F#m7, G#7, C#m7, C#m7, Fm7, EM7, EbM7, EbM7, F#M7, F#M7, AM7, DM7, CM7, EM7, G#M7, C#M7, CM7, CM7, F#m7, G#7, C#m7, C#m7, Fm7, EM7, EbM7, EbM7, F#M7, F#M7, AM7, DM7, C#m7, Bbm7, EM7, EM7, Eb7, Eb7]                                                                                                                                                                                                                                                                                                                \n",
            "1041  21             62.06          Silver's Serenade [jazz1350]       0_nan   [Am7, Am7, Ebm7, Ebm7, Dm7, Dm7, G#m7, G#m7, Dm7, Dm7, Fm7, Fm7, E7, EbM7, Fm7, Gm7, G#M7, Dm7_G7, G7, C6, CM7]                                                                                                                                                                                                                                                                                                                                                                                                                 \n",
            "145   21             56.46          Black Narcissus [jazz1350]         0_nan   [Am7, Bm7, Am7, Bm7, Am7, Bm7, Am7, CM7, Gm7, Am7, Gm7, Am7, Gm7, Am7, Gm7, BbM7, EM7, F#M7, BM7, C#M7, EM7, F#M7, BM7, G#M7, AM7, BM7, C#M7]                                                                                                                                                                                                                                                                                                                                                                                   \n",
            "1192  21             55.81          Time Remembered [jazz1350]         0_nan   [Am7, BbM7, EbM7, Dm7, Gm7, Cm7, Fm7, C#M7, F#M7, Gm7, Cm7, Fm7, Bbm7, Ebm7, Dm7, Am7, Am7, C#m7, Gm7, Bbm7, Em7, Am7, Fm7, C#M7, Cm7, Bbm7, Bbm7]                                                                                                                                                                                                                                                                                                                                                                              \n",
            "103   21             55.36          Balance, The [jazz1350]            0_nan   [Am7, F#m7, Gm7, Am7, F#m7, Gm7, Bm7b5_E7, Gm7, F#m7b5_B7, Em7, EbM7, Em7, EbM7]                                                                                                                                                                                                                                                                                                                                                                                                                                                \n",
            "306   21             54.66          Dienda [jazz1350]                  0_nan   [Gm7, F, F#M7, Gm7, F, F, F, F, F, Bbm, Dm7, G13, F#M7, Fm7, C, F, Dm7, BbM7, A7, Fm7, Bb, Bb, Fm7, Fm7, Dm7b5, E, C6, C7(+b5), Fm7, C#13, Dm7, Dm7, F#, Bbm, Fm7, Gm7, F#M7, BbM7, BbM7, C, C#M7, Gm7, F, F#M7, Gm7, F, F, F, Gm7, F, F#M7, Gm7, F, F, Gm7, F, F#M7, Gm7, F, F, F]                                                                                                                                                                                                                                             \n",
            "1014  21             53.88          Scene [jazz1350]                   0_nan   [Fm7, Bbm7, Ebm7, G#m7, C#m7, F#m7, Bm7, Em7, DM7, CM7, GM7, Em7, C#m7, CM7, Bm7, BbM7, FM7, FM7, D, D, Fm7, Bbm7, Ebm7, G#m7, C#m7, F#m7, Bm7, Em7, DM7, Gm7, FM7, Em7, Fm7, EbM7, Dm7, Dm7, CM7, CM7]                                                                                                                                                                                                                                                                                                                         \n",
            "187   21             47.05          Brazilian Suite [jazz1350]         0_nan   [Gm7, Dm7, Gm7, Dm7, Gm7, Dm7, Gm7, Dm7, Gm7, Gm7, EbM7, Dm7, Cm7, D7, C#7(+b5), C7, BM7, Bb7, A7, D7, Gm7, D7, Gm7, Bb7, Em7b5, A7, Ebm7_G#7, C#M7, Dm7_G7, CM7, Am7, Dm7_G7, CM7, Am7, DM7, D7, Gm7, Gm7, DM7, Dm7, Cm7, D7, Gm7, Dm7, Gm7, Dm7, DM7, Dm7, Cm7, D7, CM7, CM7]                                                                                                                                                                                                                                                 \n",
            "1081  21             42.40          Sorcerer, The [jazz1350]           0_nan   [CM7, C#M7, Ebm7, EM7, CM7, C#M7, G#13, C#7, Gm7, F#m7, C#, G#m7, Bm7, F#mM7, G#7, F#]                                                                                                                                                                                                                                                                                                                                                                                                                                          \n",
            "484   21             42.18          Humpty Dumpty [jazz1350]           0_nan   [EbM7, DM7, F#M7, FM7, A7(+b5), BbM7, Bbm7, Bbm7, Bbm7, Bbm7, Dm7, Bm7, G#m7, G#m7, Fm7, G#m7, F#M7, Bb7]                                                                                                                                                                                                                                                                                                                                                                                                                       \n",
            "262   21             40.75          Countdown [jazz1350]               0_nan   [F#m7, G7, CM7, Eb7_G#M7, B7, EM7, Em7, F7, BbM7, C#7, F#M7, A7, DM7, Dm7, Eb7_G#M7, B7, EM7, G7, CM7, F#m7, G7, CM7, B7, F#m7, G7, CM7, Eb7_G#M7, G7, CM7, B7, EM7, CM7, G#M7, EM7, CM7, G#M7, EM7]                                                                                                                                                                                                                                                                                                                            \n",
            "826   21             40.13          Moontrane, The [jazz1350]          0_nan   [G#M7, G#M7, Gm7, Gm7, Bb6, Eb7_G#M7, C#M7, CM7, Bbm7_Eb7, G#M7, G#M7, Gm7, Gm7, Bb6, Eb7_G#M7, C#M7, CM7, Ebm7_G#7, C#M7, Ebm7_G#7, C#M7, C#M7, Gm7, Fm7, Ebm7, G#m7, F#m7, Bm7, Am7, Am7, G#M7, G#M7, Gm7, Gm7, Bb6, Eb7_G#M7, C#M7, CM7, CM7]                                                                                                                                                                                                                                                                                \n",
            "219   21             38.60          Captain Marvel [jazz1350]          0_nan   [Em7, Em7, Bm7, Bm7, F#m7, F#m7, Bbm7, Bbm7, Gm7b5, C7, C#M7, F#M7, Cm7, F7, BbM7, BbM7, EbM7, EbM7, BbM7, C#7, Cm7, F7, F#dim, Gm7, Gm7, G#M7, G#M7, Dm7, EbM7, Em7b5, EbM7, Dm7, C#7, Cm7, Cm7, Gm, F, Eb, F, Gm7, F, Eb, F, Gm, F, Eb, F, Gm7, F, Eb, Gm7, Gm7, FmM7_FmM7, Dm7, Dm7, FM7, FM7, EbM7, EbM7, Em, Em, Em, Cm7, Cm7, Cm7, C, C, F, Gm]                                                                                                                                                                           \n",
            "982   21             38.44          Re Person I Knew [jazz1350]        0_nan   [C6, C, F#, BbM7, Fm7, Fm7, Cm7, Cm7, FmM7, Cm7, Fm7, BbM7, FmM7, BbM7, Fm7, C#]                                                                                                                                                                                                                                                                                                                                                                                                                                                \n",
            "914   21             37.61          One For My Baby [jazz1350]         0_nan   [CM7, Dm7, CM7, Dm7, CM7, Dm7, CM7, Dm7, CM7, Dm7, CM7, Dm7, CM7, Gm7, Gm7_C7, FM7, FM7, Bb7, CM7, Dm7, Em7, A7, E7, A7, Dm7, Em7, F, F, C6, F#m7b5_B7, EM7, F#m7, EM7, F#m7, EM7, F#m7, EM7, F#m7, EM7, F#m7, EM7, F#m7, EM7, Bm7, Bm7, E7, AM7, AM7, D7, EM7, F#m7, G#m7_C#7, G#7, C#7, F#m7, G#m7, A, A, E6, Bm7, E7, Em7, A7, Em7, A7, G#7, C#7, F#7, A, E6, E7, Em7, A7, Em7, A7, F#7, C7, B7, EM7, F#m7, EM7, F#m7, EM7, F#m7, EM7, F#m7, EM7, F#m7, EM7, F#m7, EM7, Bm7, Bm7, E7, AM7, AM7, D7, EM7, F#m7, G#m7_C#7, ...]\n",
            "718   21             35.24          Limbo [jazz1350]                   0_nan   [Ebm7, F#7, CM7, F7, Bb7, DM7, G, G, G#M7, F#M7, F#7, GM7, F#M7, FM7, EM7, C#m7, A7, Ebm7, D7]                                                                                                                                                                                                                                                                                                                                                                                                                                  \n",
            "1121  21             34.91          Summer In Central Park [jazz1350]  0_nan   [C6, E7, Am7, D13, G#6, C#6, Dm7, E13, AM7, AM7, Am7, Am7, AM7, AM7, Am7, Am7, AM7, AM7, Dm7_G7, C6, E7, Am7, D13, G#6, C#6, E6, A6, G#6, G#6, Dm7_G7, Eb6, C#6, C6, Dm7_G7]                                                                                                                                                                                                                                                                                                                                                    \n",
            "819   21             32.98          Moonchild [jazz1350]               0_nan   [F#m7_B7, Cdim, C#m7, Am7, F#m7, C#m7, Gm7, A7, Dm7, Bbm7_Eb7, Dm7, Am7, Am7]                                                                                                                                                                                                                                                                                                                                                                                                                                                   \n",
            "76    21             31.25          Ana Maria [jazz1350]               0_nan   [CM7, G#M7, C7, G#M7, F#M7, BM7, C#m7, Eb, Cm7, F7, G, F7, C#_Eb, C#, C7, G#M7, C7, G#M7, CM7, C7, G#, A7(+b5), G#7, GM7, Bb7, Ebm7, C#m7, Eb, Cm7, F7, EbM7, Dm7, Bbm7_Eb7, Eb7, F#7, F#7, Em7, Em7, G#m7, G#m7, GM7, Bb7, Ebm7, C#m7, Eb, Cm7, F7, EbM7, Dm7, Bbm7, Am7, C7, G#M7, EbM7, Dm7, Bbm7, Am7]                                                                                                                                                                                                                      \n",
            "314   21             31.19          Dolores [jazz1350]                 0_nan   [C#m7, Em7, A7, DM7, G#m7_C#7, F#m7, G#m7b5, C#7, CM7, CM7, C#m7, Em7, A7, DM7, G#m7_C#7, F#m7, G#m7b5, C#7, CM7, CM7, F#m7, F#m7, C#7, F#m7, F#m7, C#7, F#m7, G#7, C#m7, Em7, A7, DM7, G#m7_C#7, F#m7, G#m7b5, C#7, CM7, CM7, CM7, CM7, F#m7, F#m7, C#7, F#m7, F#m7, C#7, F#m7, G#7]                                                                                                                                                                                                                                           \n",
            "959   21             28.74          Pinocchio [jazz1350]               0_nan   [Am6_Am6, Ebm7, Gm6_Gm6, Ebm7, G#M7, G#M7, C#mM7_C#mM7, C#m6, AM7, FmM7, Am6_Am6, G7, Bb7, F7, C13, CmM7, CmM7]                                                                                                                                                                                                                                                                                                                                                                                                                 \n",
            "806   21             26.71          Miyako [jazz1350]                  0_nan   [C7, C7, A7, A7, Gm7, F#m7, Fm7_Bb7, EbM7, Cm7, Bbm7, G#M7, G7, CM7, Cm7, Bm7, E7, Am7b5, D7, Gm7b5, C7, Fm7, Ebm7, Dm7_G7, C#m7_F#7, Dm7_G7]                                                                                                                                                                                                                                                                                                                                                                                   \n",
            "124   21             26.27          Bess You Is My Woman [jazz1350]    0_nan   [CM7, G7, C, Em7b5, FM7, Fm6, Am7, Am7, F#m7b5, F7, C, Bb7, EbM7, G7, CM7, G7, C, Am7, B7, C#m7, C#m7, A7, EM7, Bbm7b5, Eb7, G#6, C#7, Eb7_G#M7, G#m7, D7, G7, CM7, G7, C, Em7b5, FM7, Fm6, Am7, Am7, F#m7b5, F7, C, Bb7, EbM7, G7, CM7, G7, C, Am7, B7, C#m7, C#m7, A7, EM7, Bbm7b5, Eb7, G#6, C#7, Eb7_G#M7, G#m7, D7, G7, E, B7, E7, B7, C#m6, G#7, C#m7, C7, EM7, EM7, Am7b5, E6, E6, Am7b5, E6, E7, AM7, F#m7, EM7, E7, AM7, F#m7, EM7, B7, Em7, Em7]                                                                      \n",
            "593   21             24.68          In Her Family [jazz1350]           0_nan   [Em7, BbM7, CM7, Bm7, Am7, CM7, D, CM7, Am7, Em7, D, F, C, F#M7, C, F#M7, C, F#M7, C, Em7, BbM7, CM7, Bm7, Am7, CM7, D, CM7, Am7, Em7, D, F, C, F#M7, C, F#M7, C, F#M7, C, G#M7, Bb, F#M7, G#, EM7, C, Dm7, Dm7, Bm7, F#m7, Bbm7, Fm7, Am7, Em7, CM7, CM7, C, F#M7, C, C]                                                                                                                                                                                                                                                       \n",
            "1200  21             19.85          Tonight [jazz1350]                 0_nan   [C, D7, C, D7, C, Am7, Bm7, Bb7, EbM7, F7, Eb7, Fm7, Fm7, Dm7b5, G, G7, G#M7, G#M7, Dm7b5, Fm7, Fm7, F#M7, Ebm7, D, D7, D7(+b5), C, D7, C, C6, Am7, Em7, Dm7_G7, CM7, CM7]                                                                                                                                                                                                                                                                                                                                                      \n",
            "\n",
            "*** TOPIC 22 ***\n",
            "4 tunes\n",
            "      DominantTopic  Contribution%                       Title Section                                                                                                                                                                                                                                              Tunes\n",
            "900   22             67.10          Oliloqui Valley [jazz1350]  0_nan   [F7, F7, F7, F7, Eb7, Eb7, Eb7, Eb7, EmM7_EmM7, EmM7_EmM7, F7, F7, F7, F7, Eb7, Eb7, Eb7, Eb7, Em7, F#m7, Em7, F#m7, Em7, F#m7, Em7, Gm7, F#7]                                                                                                   \n",
            "176   22             47.95          Bolivia [jazz1350]          0_nan   [F7, F7, F7, F7, F7, F7, F7, F7, F7, F7, F7, F7, F7, F7, F7, F7, C#M7, G13, CM7, F#13, FM7, E7, Am7, BbM7, Am7, Am7, F#m7b5, Fm7_Bb7, EbM7, A7, G#M7, G7, F7, F7, F7, F7, F7, F7, F7, F7, Am7, Am7, F#m7b5, Fm7_Bb7, EbM7, A7, G#M7, G7]         \n",
            "1027  22             29.46          Serene [jazz1350]           0_nan   [CM7, F7, Bb7, C7, F7, B7(+b5), CM7, Bbm7_Eb7, Dm7b5, G7(+b5), G#m7_C#7, F7, F7, F7, EbM7, D7, F#7, F#7]                                                                                                                                         \n",
            "85    22             26.97          April [jazz1350]            0_nan   [CM7, CM7, F7, F7, F7, F7, F7, F7, G#7, G7, Em7b5, A7, Dm7_G7, CM7, CM7, Fm7, Fm7, F#dim7, EbM7, EbM7, Edim7, Fm7_Bb7, Gm7, Gm7, Dm7_G7, CM7, CM7, Bm7, E7, AM7, G#7, G7, CM7, CM7, F7, F7, F7, F7, F7, F7, G#7, G7, Em7b5, A7, Dm7_G7, CM7, CM7]\n",
            "\n",
            "*** TOPIC 23 ***\n",
            "43 tunes\n",
            "      DominantTopic  Contribution%                                       Title Section                                                                                                                                                                                                                                                                                                                         Tunes\n",
            "123   23             95.21          Besame Mucho [jazz1350]                     0_nan   [Am6_Am6, Dm6, Dm6, Dm6, A7, Bm7b5_E7, Am6_Am6, Em7b5, A7, Dm6, Dm6, Am6, F#m7b5_B7, E7, Am6_Am6, Dm6, Am6, Bm7b5_E7, Am6, A7, Dm6, Am6, B7, F7, E7, Am6_Am6, Dm6, Dm6, Dm6, A7, Bm7b5_E7, Am6_Am6, Em7b5, A7, Dm6, Dm6, Am6, F#m7b5_B7, E7, Am6_Am6]                                                                       \n",
            "293   23             93.49          Decision [jazz1350]                         0_nan   [Am6, Bm7b5_E7, Am6, Em7b5, A7, Dm7, Dm7, Em7b5, A7, Dm7, Bm7b5_E7, Am6, Bm7b5_E7, Am6, Bm7b5_E7]                                                                                                                                                                                                                           \n",
            "140   23             86.32          Birk's Works [jazz1350]                     0_nan   [Am6, Bm7b5_E7, Am6, Em7b5, A7, Dm7, Dm7, Am6_Am6, Cm7, F7, Bm7b5_E7, Am6_Am6]                                                                                                                                                                                                                                              \n",
            "608   23             85.68          Interplay [jazz1350]                        0_nan   [Am6_Am6, Am6_Am6, A7, Dm7, Dm7, Am6_Am6, F7, E7, Am6, Bm7b5_E7]                                                                                                                                                                                                                                                            \n",
            "671   23             82.41          Kary's Trance [jazz1350]                    0_nan   [Am6_Am6, Dm6, Dm6, Bm7b5_E7, Am, Am6_Am6, Am6, Dm6, Dm6, Bm7b5_E7, Am6_Am6, G7, G7, CM7, CM7, Bm7b5, Bm7b5_E7, E7, Am6_Am6, Dm6, Dm6, Bm7b5_E7, Am6_Am6]                                                                                                                                                                   \n",
            "69    23             78.28          Alone Together [jazz1350]                   0_nan   [Am6, Bm7b5_E7, Am6, Bm7b5_E7, Am6, Em7b5, A7, Dm7, Dm7, F#m7_B7, Dm7_G7, CM7, Bm7b5_E7, AM7, AM7, Am6, Bm7b5_E7, Am6, Bm7b5_E7, Am6, Em7b5, A7, Dm7, Dm7, F#m7_B7, Dm7_G7, CM7, Bm7b5_E7, AM7, AM7, Em7b5, A7, Dm6, Dm6, Dm7b5, G7, CM7, Bm7b5_E7, Am6, Bm7b5_E7, Am6, Bm7b5_E7, Am6, F#m7b5, F7, E7, Am6, Bm7b5_E7]       \n",
            "1241  23             77.92          Voyage [jazz1350]                           0_nan   [Am6_Am6, Bbm6, A7, Dm7, Bm7b5_E7, Am6, Bm7b5_E7, Am6_Am6, Bbm6, A7, Dm7, Bm7b5_E7, Am6_Am6, FM7, G#m7_C#7, F#M7, Am7, D7, GM7, Bbm7_Eb7, G#M7, Bm7b5_E7, Am6_Am6, Bbm6, A7, Dm7, Bm7b5_E7, Am6, Bm7b5_E7]                                                                                                                  \n",
            "241   23             75.14          Close Your Eyes [jazz1350]                  0_nan   [Bm7b5_E7, Bm7b5_E7, Am6, F#m7b5, Bm7b5_E7, Am6_Am6, Bm7b5_E7, Bm7b5_E7, Am6, F#m7b5, Bm7b5_E7, AM7, AM7, Em7, A7, Em7, A7, D7, D7, F7, E7, Bm7b5_E7, Bm7b5_E7, Am6, F#m7b5, Bm7b5_E7, Am6_Am6]                                                                                                                             \n",
            "841   23             74.27          My Heart Belongs To Daddy [jazz1350]        0_nan   [Am6_Am6, Am6, Dm6, E7, Bm7b5_E7, Bm7b5_E7, Am6_Am6, Am6_Am6, Dm6, E7, Bm7b5_E7, Bm7b5_E7, Am6_Am6, Am6_Am6, E7, E7, E7, E7, AM7, AM7, AM7, A7, DM7, Dm6, A6, Bm7b5_E7, Am6, Bm7b5_E7]                                                                                                                                      \n",
            "232   23             70.52          Cheese Cake [jazz1350]                      0_nan   [Am6, Bm7b5_E7, Am6, A7, Dm6, A7, Dm6, Dm6, Bm7b5_E7, Dm7_G7, Cm7, F7, Bm7b5_E7, Am6, Bm7b5_E7, Am6, Bm7b5_E7, Am6, A7, Dm6, A7, Dm6, Dm6, Bm7b5_E7, Dm7_G7, Cm7, F7, Bm7b5_E7, Am6_Am6, Em7, A7, Dm7_G7, Cm7, F7, Bm7b5_E7]                                                                                                \n",
            "1256  23             69.58          We Will Meet Again [jazz1350]               0_nan   [Am6_Am6, Dm7, Dm7, Bm7b5_E7, Am6_Am6, FM7, E7, Am6_Am6, F#m7b5_B7, E7, E13]                                                                                                                                                                                                                                                \n",
            "550   23             68.66          I'm A Fool To Want You [jazz1350]           0_nan   [Am6, Em7b5, A7, Dm6, Bm7b5_E7, Am7, Dm7, F7, E7, E7, Am6, Em7b5, A7, Dm6, Bm7b5_E7, Am7, Dm7, Bm7b5_E7, Am6, Dm, DmM7, Dm7_G7, CM7, Em7, A7, Dm, DmM7, Dm7_G7, CM7, CM7, Bm7b5_E7, Am7, Am7, Cm7, F7, Bm7b5_E7, Am6, Em7b5, A7, Dm6, Bm7b5_E7, Am7, Dm7, Bm7b5_E7, Am6]                                                    \n",
            "573   23             63.81          Idle Moments [jazz1350]                     0_nan   [Am, AmM7, Am7, Am6, Am, AmM7, Am7, Am6, Am, AmM7, Am7, Am6, Bm7b5_E7, Am, AmM7, Am7, Am6, Bm7b5_E7, Am7, Dm6, E7, FM7, Dm6, E7, F7, Bm7b5_E7, Am, E7]                                                                                                                                                                      \n",
            "699   23             58.25          Lennie's Pennies [jazz1350]                 0_nan   [Am6_Am6, B7, Bb7, Am6_Am6, B7, E7, Em7b5, A7, Dm6, Dm6, Am6, B7, B7, E7, Am6_Am6, B7, E7, A7, A7, Dm6, Dm6, Dm6, Bm7b5, Am6, F#7, Bm7b5_E7, Am6_Am6]                                                                                                                                                                       \n",
            "424   23             57.84          Get Out Of Town [jazz1350]                  0_nan   [Am6_Am6, Am6_Am6, Am6_Am6, Em7b5, A7, Dm7_G7, CM7, F7, F#m7b5_B7, Bm7b5_E7, AM7, AM7, Am6_Am6, Am6_Am6, Em7b5, A7, Dm7, Fm7_Bb7, CM7, F7, Em7b5, A7, Dm7, Dm7b5, G7, C6, Bm7b5_E7]                                                                                                                                         \n",
            "239   23             52.64          Chucho [jazz1350]                           0_nan   [Am, Bm7b5_E7, Am, Bm7b5_E7, Am, Bm7b5_E7, Am, Bm7b5_E7, Am, Bm7b5_E7, Am, A7, Dm, Dm7, Bm7b5_E7, Am, G#m, Gm7_C7, F7, Bm7b5_E7, Am, E7]                                                                                                                                                                                    \n",
            "246   23             51.18          Comes Love [jazz1350]                       0_nan   [Am6_Am6, E7, E7, Bm7b5_E7, Am6, Bm7b5_E7, Am6_Am6, E7, E7, Bm7b5_E7, Am6, F7, E7, A7, A7, Dm, A7, Dm7_G7, G7, C, E7, Am6_Am6, E7, E7, Bm7b5_E7, Am6, Dm, Am6, Bb7]                                                                                                                                                         \n",
            "800   23             48.64          Minor Mood [jazz1350]                       0_nan   [Am7, Dm6, E7, Am7, D7, Dm7, Dm7_G7, Bm7b5_E7, Am7, Am7, F7, F7, E7, AmM7, E7(+b5), Am7, Bm7b5_E7, Am7, Em7b5, A7, Dm7, Dm7, E7, E7, Bm7b5, CM7, Bm7b5_E7, AmM7, AmM7]                                                                                                                                                      \n",
            "802   23             48.16          Minority [jazz1350]                         0_nan   [AmM7, Am6, Bm7, E7, AmM7, Am6, Em7, A7, Dm7_G7, Cm7, F7, Bbm7_Eb7, Bm7, E7(+b5)]                                                                                                                                                                                                                                           \n",
            "1307  23             47.34          You And The Night And The Music [jazz1350]  0_nan   [Am, Bm7b5_E7, Am, A7, Dm7, Bm7b5_E7, AM7, AM7, Am, Bm7b5_E7, Am, A7, Dm7, Bm7b5_E7, AM7, AM7, F7, F7, E7, E7, F7, F7, E7, F7, E7, Am, Bm7b5_E7, Am, A7, Dm7, Bm7b5_E7, Am, F#m7b5, Bm7b5_E7, Am]                                                                                                                           \n",
            "863   23             46.77          Nature Boy [jazz1350]                       0_nan   [Am, Bm7b5_E7, Am, Bm7b5_E7, Am, AmM7, Am7, Am6, Dm6, Am, Bm7b5_E7, E7, Am, Am, B7, B7, E7, E7, Am, Bm7b5_E7, Am, Bm7b5_E7, Am, AmM7, Am7, Am6, Dm6, Am, Bm7b5_E7, E7, Am, F#m7b5_B7, E7, Am, Bm7b5_E7]                                                                                                                     \n",
            "96    23             46.21          Autumn Leaves [jazz1350]                    0_nan   [Dm7_G7, CM7, FM7, Bm7b5_E7, Am6_Am6, Dm7_G7, CM7, FM7, Bm7b5_E7, Am6_Am6, Bm7b5_E7, Am6_Am6, Dm7_G7, CM7, FM7, Bm7b5_E7, Am7, G#7, Gm7, F#7, Bm7b5_E7, Am6_Am6]                                                                                                                                                            \n",
            "518   23             44.93          I Love Paris [jazz1350]                     0_nan   [Am6_Am6, Am6_Am6, Am6_Am6, Bm7b5_E7, Bm7b5_E7, Bm7b5_E7, Bm7b5_E7, Am6_Am6, E7, A6_A6, A6_A6, A6, C#m7, Cdim7, Bm7, E7, D6, D6, C#m7_F#7, Bm7, E7, A6, Bm7b5_E7]                                                                                                                                                           \n",
            "591   23             44.71          In a Sentimental Mood [jazz1350]            0_nan   [Am, AmM7, Am7, Am6, Dm, DmM7, Dm7, Dm7, E7, Am, A7, Dm7_G7, C6, Bm7b5_E7, Am, AmM7, Am7, Am6, Dm, DmM7, Dm7, Dm7, E7, Am, A7, Dm7_G7, C6, Bbm7_Eb7, G#M7, Fm7, Bbm7_Eb7, G#6, F7, Bbm7_Eb7, G#M7, Fm7, Bbm7_Eb7, Dm7_G7, Am, AmM7, Am7, Am6, Dm, DmM7, Dm7, Dm7, E7, Am, A7, Dm7_G7, C6, Bm7b5_E7]                         \n",
            "1306  23             42.72          Yesterdays [jazz1350]                       0_nan   [Am, Bm7b5_E7, Am, Bm7b5_E7, Am, AmM7, Am7, F#m7b5_B7, E7, A7, D13, G7, C13, FM7, Bm7b5_E7]                                                                                                                                                                                                                                 \n",
            "888   23             40.26          O Grande Amor [jazz1350]                    0_nan   [Am, G#dim7, Gm7_C7, Bm7b5_E7, Am, A7, Dm7_G7, CM7, FM7, BbM7, BbM7, Bm7b5_E7, Am, G#dim7, Gm7_C7, Bm7b5_E7, Em7b5, A7, Dm7, Ebdim7, C, FM7, BbM7, Bm7b5_E7, Am, E7]                                                                                                                                                        \n",
            "156   23             39.67          Blue In Green [jazz1350]                    0_nan   [Dm6, E7, Am7, G#7, Gm7_C7, FM7, E7, Am6, B7, Em7, Am7, Dm6, E7, Am6_Am6]                                                                                                                                                                                                                                                   \n",
            "415   23             38.66          Funkallero [jazz1350]                       0_nan   [B7, E7, Am6_Am6, B7, E7, Am6_Am6, Gm7, Gm7_C7, FM7, Bb7, Am7, Dm7, B7, E7, Am6_Am6]                                                                                                                                                                                                                                        \n",
            "784   23             37.42          Meaning Of The Blues, The [jazz1350]        0_nan   [Am, Am, Am6, Am7, Dm7, Dm7, Bm7b5_E7, Am, AmM7, Am7, Am6, Dm7, Fm6, G7, CM7, Am7, Dm7_G7, CM7, Bm7b5_E7, Am, Am, Am6, Am7, Dm7, F7, E7, Am, Am, Am6, Am7, Dm7, Dm7, Bm7b5_E7, Am, AmM7, Am7, Am6, Dm7, Fm6, G7, Gm7_C7, C7, FM7, Fm6, Bb7, Am, Am, Am6, Am7, Dm7, F7, E7, Am]                                              \n",
            "634   23             36.44          It's All Right With Me [jazz1350]           0_nan   [Am, AmM7, Am7, Am6, Am7, Am7, Dm7, Dm7, Ebdim7, Ebdim7, Em7b5, A7, D7, D7, Bm7b5_E7, Am, AmM7, Am7, Am6, Am7, Am7, Dm7, Dm7, Ebdim7, Ebdim7, Em7b5, A7, Dm7_G7, C6, C6, Gm6_Gm6, Cdim7, Cdim7, Fdim7, Fdim7, CM7, CM7, Gm6_Gm6, Cdim7, Cdim7, Fdim7, Fdim7, Bm7b5_E7, D7, D7, Dm7_G7, CM7, C7, FM7, F#dim7, G7, G7, C6, E7]\n",
            "\n",
            "*** TOPIC 24 ***\n",
            "22 tunes\n",
            "      DominantTopic  Contribution%                              Title Section                                                                                                                                                                                                                                                                                                                                                                                                    Tunes\n",
            "220   24             59.07          Caravan [jazz1350]                 0_nan   [E7, E7, E7, E7, E7, E7, E7, E7, E7, E7, E7, E7, Am, Am, Am, Am, E7, E7, E7, E7, E7, E7, E7, E7, E7, E7, E7, E7, Am, Am, Am, Am, A7, A7, A7, A7, D7, D7, D7, D7, G7, G7, G7, G7, C6, C6, B7, F7]                                                                                                                                                                                                       \n",
            "441   24             47.27          Got A Match [jazz1350]             0_nan   [Am7, E7, Am7, A7, Dm7, A7, Dm7, Dm7, Bm7, E7, Cm7, F7, BbM7, Bm7, E7, Am7, Bm7b5_E7, Am7, E7]                                                                                                                                                                                                                                                                                                         \n",
            "1150  24             42.63          Tempus Fugit [jazz1350]            0_nan   [Dm7, E7, Am7, E7, Am7, Dm7, E7, Am7, B7, E7, Am, Dm7, E7, Am7, E7, Am7, Dm7, E7, Am7, B7, E7, Am, Bm7b5_E7, Am7, B7, E7, E7, A7, A7, Dm7, E7, Am7, E7, Am7, Dm7, E7, Am7, B7, E7, Am]                                                                                                                                                                                                                 \n",
            "310   24             41.60          Diverse [jazz1350]                 0_nan   [Am, Bm7, E7, Am, Bm7, E7, Am, E7, Am, E7, Am, Bm7, E7, Am, Bm7, E7, Am, E7, Am, Am, Em7, A7, Dm, Dm, Dm7_G7, CM7, E7, Am, Bm7, E7, Am, Bm7, E7, Am, E7, Am, E7]                                                                                                                                                                                                                                       \n",
            "848   24             40.95          My Man's Gone Now [jazz1350]       0_nan   [Am7, BbM7, Am7, E13, A7, Dm7, E7, E7, Am7, BbM7, Am7, E7, Am7, BbM7, Am7, E13, A7, Dm7, E7, E7, Am7, BbM7, Am7, E7, Eb13, Eb7_G#M7, E13, E7, Am7, F#13, F#7, Bm7, Dm7, E7, Am7, BbM7, Am7, E7]                                                                                                                                                                                                        \n",
            "732   24             40.13          Little Waltz [jazz1350]            0_nan   [Am, E7, Gm7, FM7, B7, E7, Am7, E7, Am, E7, Gm7, FM7, B7, E7, Am7, E7, Am, Am, F#m7b5_B7, E7, A7, Dm7_G7, C, B7, E7, Am, E7, Gm7, FM7, B7, E7, Am7, E7]                                                                                                                                                                                                                                                \n",
            "23    24             35.90          A Sound For Sore Ears [jazz1350]   0_nan   [G7, G7, G7, G7, G7, G7, G7, G7, E7, E7, E7, E7, E7, E7, E7, E7, G#m7_C#7, F#M7, Gm7_C7, FM7, FM7, DM7, BM7, G#M7]                                                                                                                                                                                                                                                                                     \n",
            "396   24             35.86          For Minors Only [jazz1350]         0_nan   [Am7, E7, Am7, E7, Am7, E7, Am7, A7, Dm7, A7, Dm7, A7, Dm7, A7, Dm7, A7, Bm7, E7, Cm7, F7, Bm7, E7, Am7, Am7, F7, E7, Am7, E7, Am7, E7, Am7, E7, Am7, E7, Am7, A7, Dm7, A7, Dm7, A7, Dm7, A7, Dm7, A7, Bm7, E7, Cm7, F7, Bm7, E7, Am7, Am7, F7, E7, Am7, Am7]                                                                                                                                          \n",
            "973   24             33.86          Puttin' On The Ritz [jazz1350]     0_nan   [A, Cdim7, Bm7, E7, A, Cdim7, Bm7, E7, C, Ebdim7, Dm7_G7, C, Ebdim7, Dm7_G7, E6, Fdim7, F#m7_B7, E6, Fdim7, F#m7_B7, C#m7_F#7, B7, E7, Am, Am, Am, Am, E7, E7, Am, Am, F7, E7, Am, Am, Am, Am, E7, E7, Am, Am, A7, Dm7, A7, Dm7_G7, C, G7, C, F7, E7, Am, Am, Am, Am, E7, E7, Am, Am, F7, E7]                                                                                                          \n",
            "1286  24             31.53          Why Don't You Do Right [jazz1350]  0_nan   [Am7, F#m7b5, F7, E7, Am7, F#m7b5, F7, E7, Dm7, Dm7, E7, Am7, F#m7b5, F7, E7, F7, E7, F7, E7, Am7, F#m7b5, F7, E7]                                                                                                                                                                                                                                                                                     \n",
            "780   24             30.36          Maybe September [jazz1350]         0_nan   [Am, Am, Am7, F#m7b5, FM7, E7, Am7, D13, Am7, G#13, G7, G7, CM7, E7, Am7, Am7, F#m7b5, F7, Bm7b5_E7, Am, Am, Am7, F#m7b5, FM7, E7, Am7, D13, Am7, G#13, G7, G7, CM7, Bm7b5, Am7, Am7, F#m7b5, Fm7, Am7, E7, A7, A7, E7, E7, AM7, F#7, E7, E7, AM7, Edim7, E7, E7, Bm7b5, F#7, E7, E7, Em7, Bm7b5]                                                                                                      \n",
            "728   24             28.87          Little Niles [jazz1350]            0_nan   [Am, Am6, F7, E7, Am, Am6, F7, E7, Am, Am, Am6, Am, C#7(+b5), F#7, B7(+b5), E7, Am, Am6, F7, E7, Am, Am6, F7, E7, Am, Am, Am6, Am, C#7(+b5), F#7, B7(+b5), E7, Edim7, Edim7, Edim7, Edim7, Am, Am6, F7, E7, Fdim7, Fdim7, Fdim7, Fdim7, Am, Am6, F7, E7, Am, Am6, F7, E7, Am, Am6, F7, E7, Am, Am, Am6, Am, C#7(+b5), F#7, B7(+b5), E7]                                                                \n",
            "1287  24             28.38          Wild Flower [jazz1350]             0_nan   [CM7, Bbm7, B7, E7, E7, CM7, Bbm7, B7, E7, E7, A7, Dm7, G13, CM7, BbM7, Am7, D13, Gm7, F#7, FM7, Dm7, Bbm7, B7, E7, E7, CM7, Bbm7, B7, E7, E7, A7, Dm7, G13, CM7, Cm7, Cm7, F13, BbM7, EbM7, Bbm7, F7, E7, E7]                                                                                                                                                                                         \n",
            "831   24             28.29          Morning [jazz1350]                 0_nan   [Bm7, E7, Am7, D7, Bm7, E7, Am7, D7, Dm7_G7, Em7, A7, Bm7, E7, Am7, D7, Bm7, E7, Am7, D7, Bm7, E7, Am7, D7, Dm7_G7, Em7, A7, Bm7, E7, Am7, Dm7, Dm7, C6, C6, Dm7, Dm7, E7, E7, Bm7, E7, Am7, D7, Bm7, E7, Am7, D7, Dm7_G7, Em7, A7, Bm7, E7, Am7]                                                                                                                                                      \n",
            "1054  24             27.49          Sno' Peas [jazz1350]               0_nan   [A7, Dm7, E7, Am7, A7, Dm7, E7, Am7, A7, Dm7_G7, F#mM7, F#m7, Bbm7, Dm7, Fm7, Am7, A7, Dm7, E7, Am7, A7, Dm7_G7, F#mM7, F#m7, G#7, Dm7, C#mM7, FmM7, F#mM7, Bbm7, Ebm7, Dm7, A7, Dm7_G7, F#mM7, F#m7, Bbm7, Dm7, Fm7, Am7]                                                                                                                                                                             \n",
            "434   24             26.54          Golden Earring [jazz1350]          0_nan   [Am, E7, Am, Am7, F#m7b5, F7, Bm7b5_E7, Am, B7, E7, F7, E7, Am, Am, E7, Am, Am7, F#m7b5, F7, Bm7b5_E7, Am, B7, E7, F7, E7, Am, Dm7_G7, CM7, CM7, Cm7, F7, F#m7b5, F7, E7, E7, Am, E7, Am, Am7, F#m7b5, F7, E7, Am, B7, E7, F7, E7, Am]                                                                                                                                                                 \n",
            "177   24             26.39          Boo Boo's Birthday [jazz1350]      0_nan   [CM7, B7, E7, E7, F7, E7, Eb7, D7, C#M7, C#7, CM7, B7, E7, E7, F7, E7, Eb7, D7, C#M7, C#7, Gm7, C#7, F#7, FM7, CM7, FM7, CM7]                                                                                                                                                                                                                                                                          \n",
            "379   24             25.02          Fee-Fi-Fo-Fum [jazz1350]           0_nan   [F7, E7, Am7, BbM7, C#M7, E7, Em7, A7, F7, E7, Am7, BbM7, D7, G7, C7, F7, F7, C7, C7, F7, F7, Cm7, F7, Bm7, E7, F7, E7, Am7, BbM7, C#M7, E7, Em7, A7, F7, E7, EbM7, D7, C#M7, C#M7]                                                                                                                                                                                                                    \n",
            "359   24             23.50          Estate [jazz1350]                  0_nan   [Am7, Am7, Dm7, E7, Am7, Am7, Dm7_G7, C7, C7, FM7, FM7, E7, E7, Am7, Am7, Dm7, E7, Am7, Am7, Dm7_G7, C7, C7, FM7, FM7, E7, E7, AM7, AM7, Ebm7b5, G#7, C#m7_F#7, Dm7_G7, C7, C7, FM7, FM7, E7, E7]                                                                                                                                                                                                      \n",
            "88    24             22.64          Armando's Rhumba [jazz1350]        0_nan   [Am7, B7, E7, Am7, Am7, B7, E7, Am7, A7, Dm7, B7, Em7, Fdim7, B7, G7, G7, G7, G7, C6, E7]                                                                                                                                                                                                                                                                                                              \n",
            "48    24             20.67          Aisha [jazz1350]                   0_nan   [Am7, Gm7, Am7, Fm7, Fm7_Bb7, Gm7_C7, Am7, D7, G7, C7, Fm, E7, Am7, Gm7, Am7, Fm7, Fm7_Bb7, Gm7_C7, Am7, D7, Gm7_C7, Bm7, E7, AM7, D7, AM7, D7, C#M7, F#7, C#M7, F#7, BM7, E7, BM7, E7, EbM7, F#M7, AM7, Bm7, E7, Am7, Gm7, Am7, Fm7, Fm7_Bb7, Gm7_C7, Am7, D7, G7, C7, Fm, E7, Gm7_C7, Fm7_Bb7, Ebm7_G#7, F#13]                                                                                       \n",
            "997   24             16.28          Round Midnight [jazz1350]          0_nan   [Ebm7b5, G#7, C#m7b5_F#7, Bm7b5_E7, Am7, D7, G7, C7, F7, E7, Am7, Am7, F#dim7, Dm7_G7, Am6, Fm7_Bb7, Em7, A7, Dm7_G7, Am7, D7, F#m7b5, F7, E7, Am7, Am7, F#dim7, Dm7_G7, Am6, Fm7_Bb7, Em7, A7, Dm7_G7, Am7, D7, F#m7b5, F7, E7, A6, F#m7b5, F7, E7, F#m7b5, F7, E7, Dm7, Bm7, E7, F#m7b5_B7, G7, F7, Dm7, Bm7, E7, F#m7b5_B7, F#m7b5_B7, Cm7, F7, Cm7, F7, Fm7_Bb7, Bm7, E7, A, D, G, C, E7(+b5), AM7]\n",
            "\n",
            "*** TOPIC 25 ***\n",
            "15 tunes\n",
            "      DominantTopic  Contribution%                             Title Section                                                                                                                                                                                                                                                                                                                                                                                                                                                                                                                 Tunes\n",
            "739   25             77.86          Lonnie's Lament [jazz1350]        0_nan   [Am7, Bm7, CM7, Bm7, Am7, Bm7, CM7, Bm7, Am7, Bm7, CM7, Bm7, Am7, Bm7, CM7, Bm7, Am7, G7, CM7, FM7, F7, F#7, F7, E7, Am7, Bm7, CM7, E7, Am7, Bm7, CM7, Bm7]                                                                                                                                                                                                                                                                                                                                                         \n",
            "339   25             68.15          E.S.P. [jazz1350]                 0_nan   [B7(+b5), B7(+b5), CM7, CM7, B7(+b5), B7(+b5), BbM7, BbM7, A7(+b5), Bb7, B7(+b5), CM7, BbM7, Am7, D7, Dm7, C#7, B7(+b5), B7(+b5), CM7, CM7, B7(+b5), B7(+b5), BbM7, BbM7, A7(+b5), Bb7, B7(+b5), CM7, BbM7, G#7, Dm7, G#m7_C#7, CM7]                                                                                                                                                                                                                                                                                \n",
            "1131  25             64.64          Sweeping Up [jazz1350]            0_nan   [G7, CM7, Bm7, Em, Am7, Em, Dm7]                                                                                                                                                                                                                                                                                                                                                                                                                                                                                    \n",
            "736   25             62.78          Lonely Dreams [jazz1350]          0_nan   [A7(+b5), Ebm7_G#7, A7(+b5), Ebm7_G#7, Dm7_G7, C#7(+b5), CM7, Bm7b5_E7, A7(+b5), Ebm7_G#7, A7(+b5), Ebm7_G#7, Dm7_G7, C#7(+b5), CM7, Bm7, E7, Bm7, C#m7b5_F#7, Bm7, C#m7b5_F#7, Bm7, C#m7b5_F#7, Dm7_G7, CM7, C#dim7, Dm7_G7, CM7, Bm7b5, Bb7(+b5), A7(+b5), Ebm7_G#7, A7(+b5), Ebm7_G#7, Dm7_G7, C#7(+b5), CM7, CM7]                                                                                                                                                                                               \n",
            "1076  25             59.58          Song For My Lady [jazz1350]       0_nan   [Am7, D7, Dm7, C, Am7, D7, Dm7, C, Am7, D7, Dm7, C, Am7, D7, Dm7, C, Am7, D7, Dm7, C, G#m7, G#m7, G#m7, G#m7, Am7, D7, Dm7, C, Am7, D7, Dm7, C, Am7, D7, Dm7, C, Am7, D7, Dm7, C, CM7, CM7, CM7, CM7, CM7, CM7, CM7, CM7, G#m7, G#m7, G#m7, G#m7, Am7, D7, Dm7, C]                                                                                                                                                                                                                                                  \n",
            "789   25             59.49          Midnight Blue [jazz1350]          0_nan   [Am7, Bm7, CM7, Bm7, Am7, Bm7, CM7, Bm7, Am7, Bm7, CM7, Bm7, Am7, Bm7, CM7, Bm7, Am7, Bm7, CM7, E7, Am7, Bm7, CM7, E7, Am7, Bm7, CM7, E7, Am7, E7, Am7, Bm7b5_E7, Am7, D7, Dm7, Cm7, E7, Am, Am, E7, Am7, Bm7, CM7, Bm7, Am7, Bm7, CM7, Bm7, Am7, Bm7, CM7, E7, Am7, Bm7, CM7, E7, Am7, Bm7, CM7, E7, Am7, E7, Am7, Bm7b5_E7, Am7, D7, Am7, Bm7, CM7, Bm7, Am7, Bm7, CM7, Bm7, Am7, Bm7, CM7, Bm7, Am7, Bm7, CM7, Bm7b5_E7, Am7, Am7, Dm7, Dm7, F7, E7, Dm7, Cm7, E7, Am, Am, E7, Am7, Bm7, CM7, Bm7, Am7, Bm7, ...]\n",
            "609   25             47.11          Invitation [jazz1350]             0_nan   [Am7, Am7, Am7, Am7, Am7, D7, G7, G7, Cm7, Cm7, Cm7, Cm7, Cm7, F7, Bb7, Bb7, Bbm7_Eb7, Eb7(+b5), G#m7, G#m7, G#m7_C#7, C#7(+b5), F#m7, F#m7, F#m7_B7, B7(+b5), Em7, Em7, C#m7b5, C7, B7(+b5), E7(+b5), G#7, G#7, D7(+b5), G7(+b5), CmM7, CmM7]                                                                                                                                                                                                                                                                      \n",
            "350   25             42.41          El Gaucho [jazz1350]              0_nan   [CM7, BbM7, Am7, F7, F#7, B7, Cm7, C#M7, Cm7, C#M7, BbM7, BbM7, BbM7, Gm7, Am7, D7, Gm7, Am7, Bm7, Bm7, Bm7, Bm7, Bm7]                                                                                                                                                                                                                                                                                                                                                                                              \n",
            "716   25             41.37          Like Sonny [jazz1350]             0_nan   [Bm7, Bm7, Dm7, Dm7, Fm7, Fm7, G7, CM7, CM7, F#m7, F#m7, Dm7, Dm7, Bbm7, Bbm7_Eb7, G#M7, Cm7, F7, Bm7, Bm7, Dm7, Dm7, Fm7, Fm7, G7, CM7, CM7]                                                                                                                                                                                                                                                                                                                                                                       \n",
            "9     25             41.21          A Child Is Born [jazz1350]        0_nan   [CM7, Fm, CM7, Fm, CM7, Fm, Bm7b5_E7, Am7, E7, Am7, E7, Am7, D7, G7, G7, CM7, Fm, CM7, Fm, CM7, E7(+b5), FM7, Bb7, C, G#6, Am7, D7, G7, G7]                                                                                                                                                                                                                                                                                                                                                                         \n",
            "1042  25             40.03          Simone [jazz1350]                 0_nan   [Am7, Bm7, Am7, Bb7, Am7, Bm7, Em7, A7, Dm7, Em7, Fm7_Bb7, Am7, Bm7, CM7, C#m7, Cm7, F7, Bm7, E7, Am7, Bm7, Am7, Bb7]                                                                                                                                                                                                                                                                                                                                                                                               \n",
            "1103  25             39.76          Stolen Moments [jazz1350]         0_nan   [Am7, Bm7, CM7, Bm7, Am7, Bm7, CM7, Bm7, Am7, Am6, Am7, Am6, Dm7, Dm6, Am7, Am6, Bm, Cm, C#m, Dm, Ebm, Dm, C#m, Cm, Bm7, Cdim7, A7, Dm, Am, E7]                                                                                                                                                                                                                                                                                                                                                                     \n",
            "462   25             33.93          Here's That Rainy Day [jazz1350]  0_nan   [Cm, CmM7, Bbm6, Eb7_G#M7, C#M7, Dm7_G7, CM7, Gm7_C7, Fm7_Bb7, EbM7, G#M7, Dm7_G7, CM7, Am7, Dm7_G7, Cm, CmM7, Bbm6, Eb7_G#M7, C#M7, Dm7_G7, CM7, Gm7_C7, FM7, Dm7_G7, Em7, Am7, D7, Dm7_G7, C6, Am7, Dm7_G7]                                                                                                                                                                                                                                                                                                       \n",
            "71    25             28.00          Along Came Betty [jazz1350]       0_nan   [Dm7, Ebm7_G#7, Dm7, Ebm7_G#7, C#M7, C7, BM7, Bb7, Bbm7, Bm7, E7, Bbm7, Bm7, E7, AM7, C#7, F#m7_B7, Em7, A7, C#m7b5_F#7, Bm7, Bm7, G#m7b5, C#7, Am7, D7, Dm7, Ebm7_G#7, Dm7, Ebm7_G#7, Em7b5, A7, Dm7b5, G7, CM7, Ebm7_G#7]                                                                                                                                                                                                                                                                                         \n",
            "529   25             21.61          I Think Of You [jazz1350]         0_nan   [CM7, Bb13, Bm7, E7, Am7, Am, F#m7b5, Fm7, Em7, A7, Dm7_G7, G7, CM7, G7, CM7, Bb13, Bm7, E7, Am7, Am, F#m7b5, Fm7, Em7, A7, Dm7_G7, G7, C6, F#7, Fm, C7, Fm, C7, Fm, FmM7, Fm6, Fm, CM7, A7, Ebm7_G#7, Dm7, G13, G7, CM7, Bb13, Bm7, E7, Am7, Am, F#m7b5, Fm7, Em7, A7, Dm7, G13, C6, C6]                                                                                                                                                                                                                           \n",
            "\n",
            "*** TOPIC 26 ***\n",
            "9 tunes\n",
            "      DominantTopic  Contribution%                                Title Section                                                                                                                                                                                                                                                  Tunes\n",
            "1404  26             74.71          Brownskin Mama [trad]                0_nan   [F, F7, Bb, Bb, F, F, G7, C7, F, F7, Bb, Bb, F, C7, F, C7, F]                                                                                                                                                                                        \n",
            "1645  26             62.89          Singin' The Blues [trad]             0_nan   [Fm7_Bb7, Eb, Eb, Fm7_Bb7, Eb, Eb, G7, G7, C7, C7, F7, F7, Bb7, Bb7, Fm7_Bb7, Eb, Eb, Bbm, C7, C7, Fm, Fm, G#, Adim7, Eb, C7, F7, Bb7, Eb, Eb]                                                                                                       \n",
            "1385  26             52.70          Big Butter And Egg Man [trad]        0_nan   [F, F, G7, G7, Gm7_C7, F, F, F, G#dim7, Gm, C7, Gm7_C7, F, Fdim7, F, F7, F7, Bb, Bb, D7, D7, G7, C7, F, F, G7, G7, Gm7_C7, F, F]                                                                                                                     \n",
            "1540  26             50.99          Just A Closer Walk With Thee [trad]  0_nan   [Bb, Bb, Bbdim7, F7, F7, F7, F7, Bb, F7, F, Bb, Bb7, Eb, Ebm, Bb, F7, Bb, Eb, Bb]                                                                                                                                                                    \n",
            "1381  26             47.44          Beautiful Ohio [trad]                0_nan   [F, F, C7, C7, C7, C7, F, F, F, Fdim, C7, C7, C7, C7, F, F, F, F, C7, C7, C7, C7, F, F, F, F, Gm, Fdim, F, C7, F, F]                                                                                                                                 \n",
            "47    26             44.60          Airmail Special [jazz1350]           0_nan   [C6, C6, C6, C6, C6, C6, C6, C6, Cdim7, Cdim7, Cdim7, Cdim7, Cdim7, Bdim7_Bbdim7, G#7, G7, C, C, F, G, C, C, F, G, C, C7, F, F#dim7, C, C, C, C, F, G, C, C, F, G, C, C7, F, F#dim7, C, C, Cdim7, Cdim7, Cdim7, Cdim7, Cdim7, Bdim7_Bbdim7, G#7, G7] \n",
            "4     26             44.29          9.20 Special [jazz1350]              0_nan   [C7, Ebm6, C7, Ebm6, Bb, Bb7, A7, G#7, G7, C7, F#dim7, C7, G#7, G7, C7, Ebm6, C7, Ebm6, Bb, Bb7, A7, G#7, G7, C7, F#dim7, C7, F7, Bb, Bb, Eb, Eb6, Eb6, Eb6, G7, F, F6, F7, F7, C7, Ebm6, C7, Ebm6, Bb, Bb7, A7, G#7, G7, C7, F#dim7, C6, F7, Bb, D7]\n",
            "1074  26             40.44          Somewhere [jazz1350]                 0_nan   [G, G7, C7, F, Dm7_G7, C7, F, G, G7, Em, Am, F, Bb, G, G, G7, C7, F, Dm7_G7, C7, F, G, G7, Em, Am, F, Bb, Gm, Eb, G#, Fm, Cm, Dm7, G#, Fm6, Eb, D, Bm7, G, G7, C7, F, Dm7_G7, C7, F, G, G7, Em, Am, F, Bb, Gm, Eb, G#, F, C, C7, F]                  \n",
            "927   26             19.08          Out Of This World [jazz1350]         0_nan   [Gm, Cm7, C7, Cm7, Gm, Cm7, C7, C7, Cm7, Cm6, Fm7, F7, C6, C#dim7, Dm7_G7, Gm, Cm7, C7, Cm7, Gm, Cm7, C7, C7, Cm7, Cm6, Fm7, F7, C6, C6, C6, Bm7b5_E7, Am6_Am6, Am6_Am6, Am6, Adim7, F7, E7, Am, Am, Am6, F7, Am6, F7, E7, E7, A7, D7, G7]           \n",
            "\n",
            "*** TOPIC 27 ***\n",
            "63 tunes\n",
            "      DominantTopic  Contribution%                                         Title Section                                                                                                                                                                                                                                                                                                  Tunes\n",
            "595   27             92.95          In Pursuit Of The 27th Man [jazz1350]         0_nan   [C7, C7, C7, C7, C7, C7, C7, C7, C7, C7, C7, C7, C7, C7, C7, C7, C7, C7, C7, C7, C7, C7, C7, C7, F#7, G7, Cm7, Cm7, F#7, G7, G#7, G7, C7, C7, C7, C7, C7, C7, C7, C7]                                                                                                                                \n",
            "661   27             92.26          Jumpin With Symphony Sid [jazz1350]           0_nan   [C7, C7, C7, C7, F7, F7, C7, C7, G7, F7, C7, C7]                                                                                                                                                                                                                                                     \n",
            "166   27             92.26          Bluehawk [jazz1350]                           0_nan   [C7, F7, C7, C7, F7, F7, C7, C7, G7, G7, C7, C7]                                                                                                                                                                                                                                                     \n",
            "210   27             92.26          C-Jam Blues [jazz1350]                        0_nan   [C7, C7, C7, C7, F7, F7, C7, C7, G7, G7, C7, C7]                                                                                                                                                                                                                                                     \n",
            "158   27             92.26          Blue Monk [jazz1350]                          0_nan   [C7, F7, C7, C7, F7, F7, C7, C7, G7, G7, C7, C7]                                                                                                                                                                                                                                                     \n",
            "163   27             92.26          Blue Sphere [jazz1350]                        0_nan   [C7, F7, C7, C7, F7, F7, C7, C7, G7, G7, C7, C7]                                                                                                                                                                                                                                                     \n",
            "170   27             91.62          Blues In The Closet [jazz1350]                0_nan   [C7, C7, C7, C7, F7, F7, C7, C7, Dm7_G7, C7, C7]                                                                                                                                                                                                                                                     \n",
            "1045  27             89.77          Sister Sadie [jazz1350]                       0_nan   [C7, C7, C7, C7, C7, C7, C7, C7, C7, C7, C7, C7, C7, C7, C7, C7, F7, F7, C7, C7, F7, Eb7, D7, C#7, C7, C7, C7, C7, C7, C7, C7, C7]                                                                                                                                                                   \n",
            "55    27             86.47          All Blues [jazz1350]                          0_nan   [C7, C7, C7, C7, C7, C7, C7, C7, F7, F7, F7, F7, C7, C7, C7, C7, G7, G7, G#7, G7, C7, C7, C7, C7]                                                                                                                                                                                                    \n",
            "167   27             84.39          Blues Five Spot [jazz1350]                    0_nan   [C7, F7, C7, C7, F7, Bb7, C7, C7, G7, G7, C7, C7]                                                                                                                                                                                                                                                    \n",
            "1210  27             81.57          Trane’s Blues [jazz1350]                      0_nan   [C7, F7, C7, C7, F7, F7, C7, C7, Dm7_G7, C7, C7]                                                                                                                                                                                                                                                     \n",
            "804   27             81.53          Misterioso [jazz1350]                         0_nan   [C7, F7, C7, C7, F7, F7, C7, C7, Dm7_G7, C7, C7(+b5)]                                                                                                                                                                                                                                                \n",
            "1152  27             81.52          Tenor Madness [jazz1350]                      0_nan   [C7, F7, C7, C7, F7, F7, C7, C7, Dm7_G7, C7, G7]                                                                                                                                                                                                                                                     \n",
            "934   27             81.51          Parker's Mood [jazz1350]                      0_nan   [C7, F7, C7, C7, F7, F7, C7, C7, Dm7_G7, C7, G7]                                                                                                                                                                                                                                                     \n",
            "264   27             78.00          Cousin Mary [jazz1350]                        0_nan   [C7, C7, C7, C7, F7, F7, C7, C7, F#7, F7, C7, C7]                                                                                                                                                                                                                                                    \n",
            "99    27             75.59          Ba-lue Bolivar Ba-lues-are [jazz1350]         0_nan   [C7, F7, C7, C7, F7, Bb7, F7, Am7b5, D7(+b5), Dm7_G7, C7(+b5), C7]                                                                                                                                                                                                                                   \n",
            "951   27             75.14          Perhaps [jazz1350]                            0_nan   [C7, C7, C7, C7, F7, F7, C7, Em7, G#7, Dm7_G7, C7, Dm7_G7, Dm7_G7, C7]                                                                                                                                                                                                                               \n",
            "33    27             74.99          Adam's Apple [jazz1350]                       0_nan   [C7, C7, C7, C7, C7, C7, C7, C7, Bb7, Bb7, Bb7, Bb7, C7, C7, C7, C7, Cm7, F7, Dm7_G7, C7, C7, C7, C7]                                                                                                                                                                                                \n",
            "407   27             74.49          Freddie Freeloader [jazz1350]                 0_nan   [C7, C7, C7, C7, F7, F7, C7, C7, G7, F7, Bb7, Bb7, C7, C7, C7, C7, F7, F7, C7, C7, G7, F7, C7, C7]                                                                                                                                                                                                   \n",
            "229   27             74.12          Chasin' The Trane [jazz1350]                  0_nan   [C7, F7, C7, C7, F7, F7, C7, Em7, A7, Dm7_G7, C7, C7]                                                                                                                                                                                                                                                \n",
            "735   27             72.98          Locomotion [jazz1350]                         0_nan   [C7, C7, C7, C7, F7, F7, C7, C7, Dm7_G7, C7, C7, C7, C7, C7, C7, F7, F7, C7, C7, Dm7_G7, C7, C7, Bb7, Bb7, A7, A7, G#7, G#7, G7, G7, C7, C7, C7, C7, F7, F7, C7, C7, Dm7_G7, C7, C7, C7(+b5)_C7(+b5), Bb7(+b5), Bb7(+b5), G#7(+b5), G#7(+b5), E7(+b5), E7(+b5), D7(+b5), D7(+b5), C#7, C#7, C#7, C#7]\n",
            "129   27             72.30          Better Git It In Your Soul [jazz1350]         0_nan   [C7, C7, C7, C7, C7, C7, F7, F7, F7, F7, C7, C7, C7, C7, C7, C7, C7, F7, F7, F7, C7, F7, C7, F7, C7, F7, C7, Am7, Dm7_G7, C7, C7, C7, C7, C7, C7, F7, F7, F7, C7]                                                                                                                                    \n",
            "348   27             72.21          Eighty One [jazz1350]                         0_nan   [C7, F7, C7, C7, F7, F7, C7, C7, G7, F7, C7, C7]                                                                                                                                                                                                                                                     \n",
            "1094  27             72.20          St. Louis Blues [jazz1350]                    0_nan   [C7, F7, C7, C7, F7, F7, C7, C7, G7, F7, C7, G7]                                                                                                                                                                                                                                                     \n",
            "125   27             72.18          Bessie's Blues [jazz1350]                     0_nan   [C7, F7, C7, C7, F7, F7, C7, C7, G7, F7, C7, G7]                                                                                                                                                                                                                                                     \n",
            "1078  27             71.94          Sonnymoon For Two [jazz1350]                  0_nan   [C7, F7, C7, C7, F7, F7, C7, C7, Dm7_G7, C7, A7, Dm7_G7]                                                                                                                                                                                                                                             \n",
            "1174  27             71.81          Things Ain't What They Used To Be [jazz1350]  0_nan   [C7, F7, C7, C7, F7, F7, C7, C7, Dm7_G7, C7, A7, Dm7_G7]                                                                                                                                                                                                                                             \n",
            "776   27             64.80          Manteca [jazz1350]                            0_nan   [C7, C7, C7, C7, C7, C7, C7, C7, C7, C7, C7, C7, C7, C7, C7, Bb7, G#M7, C#M7, G7, C7, C7, C7, C7, C7, C7, C7, C7, Bbm7, Eb13, G#M7, C#7, C7, F7, BbM7, BbM7, Bbm7_Eb7, G#M7, G#m7b5, C#7, Gm7b5, C7, Dm7b5, G7, C7, C7, C7, C7, C7, C7, C7, Bb7, G#M7, C#M7, G7]                                     \n",
            "106   27             64.51          Barbados [jazz1350]                           0_nan   [C7, F7, C7, C7, F7, F#dim7, C7, Em7, A7, Dm7_G7, C7, A7, Dm7_G7]                                                                                                                                                                                                                                    \n",
            "1251  27             62.53          Watermelon Man [jazz1350]                     0_nan   [C7, C7, C7, C7, F7, F7, C7, C7, G7, F7, G7, F7, G7, F7, C7, C7]                                                                                                                                                                                                                                     \n",
            "\n",
            "*** TOPIC 28 ***\n",
            "271 tunes\n",
            "      DominantTopic  Contribution%                                    Title Section                                                                                                                                                                                                                                                                                                                                                       Tunes\n",
            "846   28             97.39          My Little Suede Shoes [jazz1350]         0_nan   [Dm7_G7, CM7, Dm7_G7, CM7, Dm7_G7, Em7, A7, Dm7_G7, CM7, Dm7_G7, CM7, Dm7_G7, CM7, Dm7_G7, Em7, A7, Dm7_G7, CM7, FM7, Em7, A7, Dm7_G7, CM7, FM7, Em7, A7, Dm7_G7, CM7, Dm7_G7, CM7, Dm7_G7, CM7, Dm7_G7, Em7, A7, Dm7_G7, CM7]                                                                                                                            \n",
            "864   28             97.17          Nearness Of You, The [jazz1350]          0_nan   [CM7, Gm7_C7, FM7, Fdim7, Em7, A7, Dm7_G7, Em7, A7, Dm7_G7, CM7, Gm7_C7, FM7, Fdim7, Em7, A7, Dm7_G7, CM7, Bb7, C6, Dm7_G7, CM7, Gm7_C7, FM7, Em7b5, A7, D7, Dm7_G7, Em7b5, A7, Dm7_G7, CM7, Am7, Dm7_G7]                                                                                                                                                 \n",
            "409   28             96.90          Frenesi [jazz1350]                       0_nan   [Dm7_G7, Dm7_G7, Dm7_G7, Dm7_G7, CM7, Dm7_G7, CM7, CM7, Dm7_G7, Dm7_G7, Dm7_G7, Dm7_G7, CM7, Dm7_G7, CM7, CM7, EM7, F7, EM7, EM7, EM7, Dm7_G7, G7, Dm7_G7, Dm7_G7, Dm7_G7, Dm7_G7, CM7, Dm7_G7, CM7, CM7]                                                                                                                                                 \n",
            "1227  28             96.80          Under A Blanket Of Blue [jazz1350]       0_nan   [Dm7_G7, CM7, Em7, A7, Dm7_G7, CM7, A7, Dm7_G7, CM7, Em7, A7, Dm7_G7, CM7, Fm6, CM7, Gm7_C7, FM7, FM7, D7, Am7, D7, Dm7_G7, Dm7_G7, CM7, Em7, A7, Dm7_G7, CM7, Fm6, CM7]                                                                                                                                                                                  \n",
            "139   28             94.10          Billy Boy [jazz1350]                     0_nan   [CM7, A7, Dm7_G7, Em7, A7, Dm7_G7, CM7, F7, Em7, A7, Dm7_G7, Dm7_G7, Em7b5, A7, Dm7_G7, Em7, A7, Dm7_G7, CM7, A7, Dm7_G7, Em7, A7, Dm7_G7, CM7, F7, Em7, A7, Dm7_G7, Dm7_G7, Em7b5, A7, Dm7_G7, CM7, Gm7_C7, FM7, Fm6, CM7, Bm7b5_E7, Am7, D7, Dm7_G7, CM7, A7, Dm7_G7, Em7, A7, Dm7_G7, CM7, F7, Em7, A7, Dm7_G7, Dm7_G7, Em7b5, A7, Dm7_G7, CM7, Dm7_G7]\n",
            "1147  28             93.99          Tea For Two [jazz1350]                   0_nan   [Dm7_G7, Dm7_G7, CM7, F7, Em7, A7, Dm7_G7, Dm7_G7, CM7, CM7, F#m7_B7, F#m7_B7, EM7, A7, G#m7_C#7, F#m7_B7, F#m7_B7, EM7, G7, Dm7_G7, Dm7_G7, CM7, F7, Em7, A7, Dm7_G7, Dm7_G7, Em7b5, A7, Dm7, Edim7, FM7, Edim7, Dm7, Dm7, Bb7, Em7, Ebdim7, Dm7_G7, C6, Em7b5, A7]                                                                                      \n",
            "1239  28             92.86          Violets For Your Furs [jazz1350]         0_nan   [Dm7_G7, CM7, Fm7_Bb7, CM7, A7, Dm7_G7, CM7, Em7, A7, Dm7, A7, Dm7_G7, CM7, A7, Dm7_G7, CM7, A7, Dm7_G7, CM7, A7, D7, Dm7_G7, Dm7_G7, CM7, Fm7_Bb7, CM7, A7, Dm7_G7, CM7, Em7, A7, Dm7, FM7, Bb7, CM7, Bb7, A7, G#7, G7, C6, A7, Dm7_G7, C6, A7]                                                                                                          \n",
            "933   28             91.81          Parisian Thoroughfare [jazz1350]         0_nan   [CM7, Dm7_G7, Em7, A7, Dm7_G7, CM7, Dm7_G7, CM7, Dm7_G7, CM7, Dm7_G7, Em7, A7, Dm7_G7, CM7, Dm7_G7, CM7, F#m7_B7, EM7, F#m7_B7, EM7, Em7, A7, DM7, Am7, D7, Dm7, G7(+b5), CM7, Dm7_G7, Em7, A7, Dm7_G7, CM7, Dm7_G7, CM7, Dm7_G7]                                                                                                                         \n",
            "945   28             91.77          Pent Up House [jazz1350]                 0_nan   [Dm7_G7, CM7, CM7, Dm7_G7, CM7, CM7, Gm7_C7, Fm7_Bb7, Dm7_G7, CM7, CM7]                                                                                                                                                                                                                                                                                   \n",
            "756   28             90.56          Lover [jazz1350]                         0_nan   [CM7, CM7, F#m7_B7, Fm7_Bb7, Em7, A7, Ebm7_G#7, Dm7_G7, Em7, A7, Dm7_G7, CM7, CM7, F#m7_B7, Fm7_Bb7, Em7, A7, Ebm7_G#7, Dm7_G7, CM7, Dm7, CM7, F#m7_B7, EM7, C#m7, F#m7_B7, EM7, C#m7, F#m7_B7, GM7, Em7, Am7, D7, Em7, A7, Dm7_G7]                                                                                                                       \n",
            "224   28             89.10          Ceora [jazz1350]                         0_nan   [CM7, Dm7_G7, CM7, Gm7_C7, FM7, F#m7_B7, Em7, A7, Dm7_G7, Em7, A7, F#m7_B7, Em7, A7, Dm7_G7, CM7, Dm7_G7, CM7, Gm7_C7, FM7, F#m7_B7, Em7, A7(+b5), Dm7_G7, Em7b5, A7(+b5), Dm7_G7, CM7, Dm7_G7]                                                                                                                                                           \n",
            "1267  28             89.02          What'll I Do [jazz1350]                  0_nan   [CM7, Fm7_Bb7, CM7, Fm7_Bb7, Em7, A7, Dm7_G7, C6, Dm7_G7, CM7, Fm7_Bb7, CM7, Fm7_Bb7, Em7, A7, Dm7_G7, C6, Gm7_C7, FM7, Gm7_C7, FM7, Bb7, Em7, A7, D7, Dm7_G7, CM7, Fm7_Bb7, CM7, Fm7_Bb7, Em7, A7, Dm7_G7, C6, Dm7_G7]                                                                                                                                   \n",
            "537   28             88.56          I Wish I Knew [jazz1350]                 0_nan   [Dm7_G7, Dm7_G7, CM7, F7, CM7, Em7, A7, Dm7_G7, CM7, CM7, E7, Am7, D7, G7, Dm7, Em7, A7, Dm7_G7, Dm7_G7, CM7, F7, CM7, Em7, A7, Dm7_G7, Em7b5, A7, Dm7_G7, C6, Em7, A7]                                                                                                                                                                                   \n",
            "1115  28             88.44          Strollin' [jazz1350]                     0_nan   [CM7, CM7, Ebm7_G#7, Dm7_G7, CM7, CM7, Gm7_C7, F#m7_B7, Em7, Am7, Dm7_G7, CM7, Am7, D7, G7, CM7, CM7, Ebm7_G#7, Dm7_G7, CM7, CM7, Gm7_C7, F#m7_B7, Em7, Am7, D7, Fm7_Bb7, Em7, A7, Dm7_G7, CM7, Am7, Dm7_G7, CM7, F7, Em7, A7, Dm7_G7, CM7]                                                                                                               \n",
            "502   28             86.57          I Get A Kick Out Of You [jazz1350]       0_nan   [Dm7_G7, CM7, Em7, A7, Dm7_G7, CM7, Em7, A7, Dm7_G7, Em7b5, A7, Dm7_G7, C6, Em7, A7, Dm7_G7, CM7, Em7, A7, Dm7_G7, CM7, Em7, A7, Dm7_G7, Em7b5, A7, Dm7_G7, C6, C6, Gm7_C7, Gm7_C7, Em7b5, Em7b5, A7, A7, Dm6, Bm7b5, Em7b5, A7, D7, D7, Dm7_G7]                                                                                                          \n",
            "952   28             86.45          Peri's Scope [jazz1350]                  0_nan   [Dm7_G7, Em7, A7, Dm7_G7, CM7, A7, Dm7_G7, CM7, E7, E7, FM7, G7, Em7, A7, Dm7_G7, Gm7_C7, FM7, B7, Bb7, A7, Dm7_G7, Em7, A7, Dm7_G7, Em7b5, A7, Dm7_G7, CM7, CM7, A7]                                                                                                                                                                                     \n",
            "402   28             86.39          Four Brothers [jazz1350]                 0_nan   [D7, Dm7_G7, CM7, A7, Dm7, Em7, A7, Dm7_G7, CM7, A7, D7, Dm7_G7, CM7, A7, Dm7, Em7, A7, Dm7_G7, C6, Fm7_Bb7, EbM7, G#m7_C#7, F#M7, F#m7_B7, EM7, Fdim7, F#m7_B7, Em7, A7, D7, Dm7_G7, CM7, A7, Dm7, Em7, A7, Dm7_G7, C6]                                                                                                                                  \n",
            "435   28             85.82          Gone With The Wind [jazz1350]            0_nan   [Dm7_G7, CM7, A7, Dm7_G7, CM7, F#m7_B7, E6, C#7, F#m7_B7, EM7, Em, Ebdim7, Dm7_G7, CM7, B7, Bb7, A7, Dm7_G7, Dm7_G7, CM7, A7, Dm7_G7, CM7, F#m7_B7, E6, C#7, F#m7_B7, EM7, Dm7, Am7, Dm7_G7, Em7b5, A7, Dm7_G7, CM7, Em7b5, A7]                                                                                                                           \n",
            "446   28             85.17          Groovin' High [jazz1350]                 0_nan   [CM7, CM7, F#m7_B7, CM7, CM7, Em7, A7, D7, D7, Dm7_G7, Em7, Ebm7, Dm7_G7, CM7, CM7, F#m7_B7, CM7, CM7, Em7, A7, D7, D7, Dm7_G7, Dm7, Fm7_Bb7, C6, Dm7_G7]                                                                                                                                                                                                 \n",
            "1006  28             84.89          Samba De Orfeu [jazz1350]                0_nan   [CM7, CM7, CM7, CM7, CM7, F7, Em7, A7, Dm7_G7, Dm7_G7, Dm7_G7, Dm7_G7, Bb7, A7, Dm7_G7, CM7, CM7, CM7, CM7, CM7, F7, Em7, A7, Dm7_G7, Dm7_G7, Dm7_G7, Dm7_G7, CM7, CM7, Gm7_C7, FM7, FM7, Fm7_Bb7, EbM7, Dm7_G7]                                                                                                                                          \n",
            "254   28             84.64          Cool One, The [jazz1350]                 0_nan   [Em7, A7, Em7, A7, Dm7_G7, Dm7_G7, Em7, A7, Em7, A7, Dm7_G7, Dm7_G7, CM7, CM7, Em7b5, A7, F#m7b5, Dm7b5, G7, CM7, F7, Em7, A7, Em7, A7, Dm7_G7, Dm7_G7]                                                                                                                                                                                                   \n",
            "344   28             83.13          Easy To Love [jazz1350]                  0_nan   [Dm7, Em7b5, A7, Dm7_G7, CM7, FM7, Em7, A7, Dm7_G7, CM7, FM7, Em7, A7, Dm7_G7, CM7, FM7, Em7, A7, Dm7, Em7b5, A7, Dm7_G7, CM7, FM7, Em7, A7, Dm7, Bb7, CM7, Em7, Ebdim7, Dm7_G7, C6, Em7, A7]                                                                                                                                                             \n",
            "408   28             82.14          Freight Train [jazz1350]                 0_nan   [CM7, Bm7b5_E7, Am7, G#m7, Gm7_C7, FM7, Fm7_Bb7, Em7, A7, Ebm7_G#7, Dm7_G7, Em7, A7, Dm7_G7]                                                                                                                                                                                                                                                              \n",
            "423   28             81.30          Get Me To The Church On Time [jazz1350]  0_nan   [CM7, CM7, CM7, CM7, CM7, CM7, CM7, CM7, Dm7_G7, Dm7_G7, Dm7_G7, C6, C6, CM7, CM7, CM7, CM7, CM7, CM7, CM7, CM7, Dm7_G7, Dm7_G7, Dm7_G7, C6, C6, FM7, FM7, CM7, CM7, D7, D7, Dm7_G7, Dm7_G7, Em7, A7, Dm7, Fm7_Bb7, Em7, A7, Dm7_G7, Em7, A7, Dm7_G7, C6, C6]                                                                                             \n",
            "523   28             81.14          I Only Have Eyes For You [jazz1350]      0_nan   [Dm7_G7, Dm7_G7, CM7, CM7, F7, Em7, Ebm7_G#7, Dm7_G7, Dm7_G7, CM7, CM7, E7, A7, A7, Dm7_G7, G7, Em7, A7, Dm7b5, G7, Em7, Ebm7_G#7, Dm7_G7, Dm7_G7, CM7, F7, Bb7, A7, Dm7_G7, C6, Em7, A7]                                                                                                                                                                 \n",
            "568   28             81.06          I've Got You Under My Skin [jazz1350]    0_nan   [Dm7_G7, CM7, A7, Dm7_G7, CM7, A7, Dm7_G7, CM7, A7, Dm7_G7, CM7, A7, Dm7_G7, CM7, A7, Dm7b5, G7, CM7, CM7, Bm7, E7, AM7, AM7, Dm7_G7, CM7, CM7, Dm7_G7, CM7, A7, Dm7_G7, CM7, E7, Am7, Dm7_G7, CM7, Am7, Dm7_G7, CM7, Gm7_C7, FM7, Bb7, CM7, Em7b5, A7, Dm7_G7, CM7, CM7]                                                                                 \n",
            "527   28             79.28          I Should Care [jazz1350]                 0_nan   [Dm7_G7, Em7, A7, Dm7_G7, CM7, Em7b5, A7, Dm7, Fm7_Bb7, CM7, Bm7b5_E7, Gm7_C7, FM7, Bm7b5_E7, Am7, Am7, D7, Dm7_G7, F#m7b5_B7, Em7, A7, Dm7_G7, CM7, Em7b5, A7, Dm7, Fm7_Bb7, CM7, Bm7b5_E7, Am7, D7, Dm7_G7, C6, F7, Em7, A7]                                                                                                                            \n",
            "1141  28             78.83          Tadd's Delight [jazz1350]                0_nan   [Dm7, Dm7_G7, CM7, Em7b5, A7, Dm7, Dm7_G7, CM7, Gm7_C7, FM7, Bb7, CM7, A7, D7, D7, G7, Em7, A7, Dm7, Dm7_G7, CM7, Em7b5, A7, Dm7, Dm7_G7, CM7, Gm7_C7, FM7, Bb7, CM7, Em7, A7, Am7, D7, Dm7_G7, CM7, A7]                                                                                                                                                  \n",
            "1236  28             78.18          Valse Hot [jazz1350]                     0_nan   [CM7, FM7, Em7, A7, Dm7_G7, CM7, A7, Dm7, Fm7, Em7, A7, Dm7_G7, CM7, G7]                                                                                                                                                                                                                                                                                  \n",
            "770   28             77.79          Mambo Inn [jazz1350]                     0_nan   [Dm7_G7, CM7, A7, Dm7_G7, CM7, A7, Dm7_G7, Em7, A7, Dm7_G7, C6, A7, Dm7_G7, CM7, A7, Dm7_G7, CM7, A7, Dm7_G7, Em7, A7, Dm7_G7, C6, F#7, Fm7_Bb7, EbM7, Bb, Cm7, Cm7, Am7, D7, Dm7, Em7, A7, Dm7_G7, CM7, A7, Dm7_G7, CM7, A7, Dm7_G7, Em7, A7, Dm7_G7, C6]                                                                                                \n",
            "\n",
            "*** TOPIC 29 ***\n",
            "84 tunes\n",
            "      DominantTopic  Contribution%                                           Title Section                                                                                                                                                                                                                                                                                             Tunes\n",
            "1164  29             91.43          There'll Be Some Changes Made [jazz1350]        0_nan   [A7, A7, D7, D7, E7, A7, D7, D7, G7, A7, A7, D7, D7, E7, A7, D7, G7, C6, A7, D7, G7, C6, B7, Bb7]                                                                                                                                                                                               \n",
            "190   29             87.66          Bright Mississippi [jazz1350]                   0_nan   [A7, A7, A7, A7, D7, D7, D7, D7, G7, G7, G7, G7, CM7, CM7, Bm7b5_E7, A7, A7, A7, A7, D7, D7, D7, D7, Am, E7, Am, E7, CM7, A7, Dm7_G7, C6]                                                                                                                                                       \n",
            "592   29             85.19          In A Shanty In Old Shanty Town [jazz1350]       0_nan   [CM7, E7, A7, A7, D7, C#7, D7, D7, G7, G7, C6, C6, A7, D7, D7, Dm7_G7, CM7, E7, A7, A7, D7, C#7, D7, D7, F6, Fm6, CM7, E7, A7, Dm7_G7, C6, G7]                                                                                                                                                  \n",
            "749   29             83.67          Love Is Just Around The Corner [jazz1350]       0_nan   [D7, G7, CM7, A7, D7, G7, CM7, A7, D7, G7, Em7, A7, D7, G7, C6, A7, D7, G7, CM7, A7, D7, G7, CM7, A7, D7, G7, Em7, A7, D7, G7, C6, Bm7, E7, Am7, Bm7, E7, Am7, D7, Ddim7, D7, Ddim7, D7, G7, D7, G7, CM7, A7, D7, G7, CM7, A7, D7, G7, Em7, A7, D7, G7, C6, A7]                                 \n",
            "307   29             82.49          Dig [jazz1350]                                  0_nan   [A7, A7, A7, A7, D7, D7, D7, D7, G7, G7, G7, G7, CM7, Dm7_G7, CM7, Bm7b5_E7, A7, A7, A7, A7, D7, D7, D7, D7, Am, Bm7b5_E7, Am, Dm7_G7, C7, B7, Bb7, A7, D7, G7, C6]                                                                                                                             \n",
            "1134  29             82.49          Sweet Georgia Brown [jazz1350]                  0_nan   [A7, A7, A7, A7, D7, D7, D7, D7, G7, G7, G7, G7, CM7, Dm7_G7, CM7, Bm7b5_E7, A7, A7, A7, A7, D7, D7, D7, D7, Am, Bm7b5_E7, Am, Dm7_G7, C7, B7, Bb7, A7, D7, G7, C6]                                                                                                                             \n",
            "1221  29             80.66          Twisted [jazz1350]                              0_nan   [A7, G7, G7, A7, A7, G7, G7, A7, A7, G7, G7, A7, A7, G7, G7, A7, A7, D7, D7, Em7, A7, D7, D7, A7, C#m7, F#m7, Bm7, E7, A7, F#m7, Bm7, E7]                                                                                                                                                       \n",
            "695   29             77.94          Lazy River [jazz1350]                           0_nan   [A7, A7, G#7, G7, C#dim, D7, D7, Eb7, D7, G7, G7, G#7, G7, C6, G7, C6, A7, A7, G#7, G7, C#dim, D7, D7, Eb7, D7, F6, F#dim7, C6, A7, D7, G7, C6, A7, D7, G7, C6, E7]                                                                                                                             \n",
            "761   29             73.49          Lulu's Back In Town [jazz1350]                  0_nan   [A7, D7, G7, CM7, A7, D7, G7, CM7, E7, FM7, F#dim7, CM7, A7, D7, G7, C6, A7, D7, G7, CM7, A7, D7, G7, CM7, E7, FM7, F#dim7, CM7, A7, D7, G7, C6, FM7, F#dim7, C, C7, FM7, F#dim7, C6, C7, F#m7b5_B7, C, Eb7, D7, D7, G7, A7, D7, G7, CM7, A7, D7, G7, CM7, E7, FM7, F#dim7, CM7, A7, D7, G7, C6]\n",
            "498   29             73.12          I Don't Know Enough About You [jazz1350]        0_nan   [D7, G7, C7, B7, Bb7, A7, D7, G7, C6, G#7, G7, D7, G7, C7, B7, Bb7, A7, D7, Em7, A7, D7, G7, C6, Bm7, E7, A7, A7, D7, D7, G7, G7, D7, G7, C7, B7, Bb7, A7, D7, Em7, A7, D7, G7, C6]                                                                                                             \n",
            "330   29             65.60          Down For Double [jazz1350]                      0_nan   [C6, A7, D7, G7, C6, A7, D7, G7, C6, A7, D7, G7, C6, Am7, Dm7_G7, C6, A7, D7, G7, C6, A7, D7, G7, C6, A7, D7, G7, C6, Dm7, Ebdim7, C6, C7, C7, F7, F7, D7, D7, G7, G7, C6, A7, D7, G7, C6, A7, D7, G7, C6, A7, D7, G7, C6, C6]                                                                  \n",
            "488   29             64.06          I Can't Believe...You're In Love... [jazz1350]  0_nan   [F6, Bb7, CM7, D7, G7, G7, CM7, Gm7_C7, F6, Bb7, CM7, D7, G7, G7, C6, F7, C6, E13_E13, A7, A7, D7, D7, G7, G7, C7, F6, Bb7, CM7, D7, G7, G7, CM7, Gm7_C7]                                                                                                                                       \n",
            "553   29             63.53          I'm Beginning To See The Light [jazz1350]       0_nan   [D7, G7, C6, A7(+b5), D7, G7, G#7, D7, G7, C7, Bb7, A7, D7, G7, C6, D7, G7, C6, A7(+b5), D7, G7, G#7, D7, G7, C7, Bb7, A7, D7, G7, C6, E7, E7, Eb7, Eb7, D7, D7, G#7, G7, D7, G7, C6, A7(+b5), D7, G7, G#7, D7, G7, C7, Bb7, A7, D7, G7, C6]                                                    \n",
            "590   29             62.33          In A Mellow Tone (In A Mellotone) [jazz1350]    0_nan   [D7, G7, C6, C6, Gm7_C7, FM7, FM7, F6, Bb7, C6, A7, D7, D7, G7, A7, D7, G7, C6, C6, Gm7_C7, FM7, FM7, F7, F#dim7, C6, A7, D7, G7, C6, A7]                                                                                                                                                       \n",
            "418   29             61.71          Gee Baby, Ain't I Good To You [jazz1350]        0_nan   [A7, F7, E7, A7, D7, G7, C6, E7, A7, F7, E7, A7, D7, G7, C6, C7, F6, F#dim7, C6, C7, F6, F#dim7, Bm7b5_E7, A7, F7, E7, A7, D7, G7, C6, F7, E7]                                                                                                                                                  \n",
            "575   29             61.30          If I Could Be With You [jazz1350]               0_nan   [CM7, C#dim7, Dm7_G7, CM7, C#dim7, Dm7_G7, C6, C6, A7, D7, G7, GM7, E7, A7, D7, G6, D7, G7, Dm7_G7, G7, C6, E7, A7, D7, G7, C6, A7, D7, G7, Dm7_G7, G7, C6, E7, A7, F6, F#dim7, C6, A7, D7, G7, C6]                                                                                             \n",
            "576   29             61.11          If I Didn't Care [jazz1350]                     0_nan   [C6, G7, C6, C6, G7, C6, D7, D7, D7, D7, D7, D7, E7, E7, Am7, Am7, D7, D7, Dm7, Fm6, G7, C6, G7, C6, C6, G7, C6, D7, Am7, D7, Am7, D7, D7, Bm7b5_E7, A7, A7, D7, Dm7_G7, C6, Dm7_G7]                                                                                                            \n",
            "581   29             57.89          If I Were A Bell [jazz1350]                     0_nan   [D7, G7, CM7, CM7, Em7b5, A7, D7, G7, C6, C7, F6, G7, C6, Bm7b5_E7, Am7, Am7, F#m7b5_B7, EM7, Dm7_G7, D7, G7, CM7, CM7, Em7b5, A7, D7, G7, C6, C7, F6, F#dim7, C6, F7, Em7b5, A7, Dm7_G7, C6, Em7b5, A7]                                                                                        \n",
            "495   29             56.76          I Cried For You [jazz1350]                      0_nan   [CM7, Em7, A7, Am7, D7, Dm7_G7, C6, G7, C6, CM7, Em7, A7, Dm7_G7, G7, G7, Ebdim7, G7, C#7(+b5), CM7, Em7, A7, Am7, D7, Dm7_G7, F7, E7, E7, A7, A7, A7, A7, D7, D7, D7, G7, CM7, Em7, A7, Am7, D7, Dm7_G7, C6, Dm7_G7]                                                                           \n",
            "411   29             56.67          Frim Fram Sauce, The [jazz1350]                 0_nan   [C6, C6, D7, D7, F6, F#dim7, C, A7, D7, G7, C6, G7, C6, C6, D7, D7, F6, F#dim7, C, A7, D7, G7, C6, Gm7_C7, Am7, D7, Gm7_C7, F6, Am7, D7, GM7, G#dim7, Am7, D7, Dm7_G7, C6, C6, D7, D7, F6, F#dim7, C, A7, D7, G7, C6, G7]                                                                       \n",
            "1284  29             54.43          Who's Sorry Now [jazz1350]                      0_nan   [CM7, CM7, E7, E7, A7, A7, D7, D7, G7, G7, CM7, D7, GM7, D7, G7, Fm6, G7, Dm7_G7, CM7, CM7, E7, E7, A7, A7, Dm7, A7, FM7, Fm6, CM7, A7, D7, Fm7, G7, CM7, G7, CM7]                                                                                                                              \n",
            "623   29             53.58          It Had To Be You [jazz1350]                     0_nan   [CM7, G7, CM7, Bb7, A7, Em7, A7, D7, Am7, D7, Am7, D7, Am7, D7, G7, Bm7b5_E7, Am7, E7, Am7, Eb7, D7, Am7, D7, Dm7_G7, G7, CM7, G7, CM7, Bb7, A7, Em7, A7, D7, Am7, D7, Am7, D7, Am7, D7, Gm7_C7, FM7, Bb7, CM7, E7, Am7, Ebdim7, G7, C#dim7, G7, G7, C6, A7, Dm7_G7]                            \n",
            "1363  29             52.72          Anytime You're Feeling Lonely [trad]            0_nan   [A7, A7, D7, D7, G7, G7, C, C7, F, Fm, C, A7, D7, D7, G7, G7, A7, A7, D7, D7, G7, G7, E7, E7, A7, A7, D7, D7, G7, G7, C, C]                                                                                                                                                                     \n",
            "1564  29             51.86          Memphis Blues [trad]                            0_nan   [D7, D7, G, G, D7, D7, B7, B7, E7, E7, A7, A7, D7, D7, G, D7, G, D7, A7, D7, G, G]                                                                                                                                                                                                              \n",
            "507   29             50.65          I Gotta Right To Sing The Blues [jazz1350]      0_nan   [Am7, D7, Am7, D7, Dm7_G7, G7, Gm7_C7, Gm7_C7, Em7b5, A7, Am7, D7, Am7, D7, Dm7_G7, Dm7_G7, C6, Dm7, Ebdim7, C6, F6, F#dim7, C6, A7, Am7, D7, Am7, D7, Dm7_G7, G7, Gm7_C7, Gm7_C7, Em7b5, A7, Am7, D7, Am7, D7, Bb7, Bb7, Am7, D7, Dm7_G7, C6, Em7, A7]                                         \n",
            "1465  29             49.94          Fish Seller, The [trad]                         0_nan   [G, D7, D7, G, E7, Am, A7, D7, G, D7, D7, G, E7, Am7, D7, G, D, A7, A7, D, D, A7, A7, D, D, A7, A7, D, D, A7, A7, D, C, G7, G7, C, A7, Dm, D7, G7, C, G7, G7, C, A7, Dm7_G7, C7]                                                                                                                \n",
            "1160  29             49.60          Them There Eyes [jazz1350]                      0_nan   [CM7, CM7, CM7, CM7, C6, A7, D7, D7, Dm7_G7, E7, Am7, D7, D7, G7, G7, CM7, CM7, CM7, CM7, C7, C7, FM7, FM7, FM7, F#dim7, CM7, D7, G7, CM7, A7, D7, G7, C6, G7]                                                                                                                                  \n",
            "1022  29             48.95          Sentimental Journey [jazz1350]                  0_nan   [C6, C6, C6, D7, G7, C6, C7, F7, F#dim7, C6, A7, D7, G7, C6, C6, C6, C6, D7, G7, C6, C7, F7, F#dim7, C6, A7, D7, G7, C6, F6, F6, C6, C6, D7, D7, G7, G7, C6, C6, C6, D7, G7, C6, C7, F7, F#dim7, C6, A7, D7, G7, C6]                                                                            \n",
            "504   29             48.55          I Got It Bad [jazz1350]                         0_nan   [Cdim, CM7, E7, Am7, D7, Am7, D7, Dm7, E7, A7, D7, G7, C6, Am7, Dm7_G7, Cdim, CM7, E7, Am7, D7, Am7, D7, Dm7, E7, A7, D7, G7, C6, F#dim7, Gm7_C7, F6, F6, Bb7, Bb7, CM7, Em7, A7, Dm7_G7, Cdim, CM7, E7, Am7, D7, Am7, D7, Dm7, E7, A7, D7, G7, C6, Am7, Dm7_G7]                                \n",
            "868   29             48.54          Nevertheless [jazz1350]                         0_nan   [C6, Ebdim7, Dm6, G7, Em7b5, A7, Dm7, A7, D7, G7, CM7, Am7, Dm7_G7, C6, Ebdim7, Dm6, G7, Em7b5, A7, Dm7, A7, D7, G7, CM7, CM7, Am, G#m, Gm7_C7, Gm7_C7, FM7, FM7, A7, D7, A7, D7, Dm7_G7, C6, Ebdim7, Dm6, G7, Em7b5, A7, Dm7, A7, D7, G7, CM7, Dm7_G7]                                         \n",
            "\n",
            "*** TOPIC 30 ***\n",
            "149 tunes\n",
            "      DominantTopic  Contribution%                                        Title Section                                                                                                                                                                                                                                                                                                      Tunes\n",
            "98    30             96.55          Avalon [jazz1350]                            0_nan   [Dm7, Dm7_G7, G7, C6, C6, C6, A7, Dm7, Dm7_G7, G7, C6, C6, C6, C6, Em7, Em7, A7, A7, Dm7, Dm7, Fm7_Bb7, C6, C6, A7, A7, Dm7_G7, C6, C6]                                                                                                                                                                  \n",
            "1277  30             89.13          When You're Smilin' [jazz1350]               0_nan   [C6, C6, C6, C6, Em7, A7, Dm7_G7, Dm7, Dm7, Dm7, Dm7_G7, G7, C6, C6, C7, C7, F6, F6, Am7, D7, Dm7_G7, C6, C6, Em7, A7, Dm7_G7, C6, C6]                                                                                                                                                                   \n",
            "785   30             86.31          Meditation [jazz1350]                        0_nan   [C6, C6, B7, B7, C6, C6, Em7, A7, Dm7, Dm7, Fm6, Fm6, Em7, A7, Dm7_G7, C6, C6, B7, B7, C6, C6, Em7, A7, Dm7, Dm7, Fm6, Fm6, Em7, A7, Dm7_G7, FM7, FM7, Fm6, Fm6, Em7, Ebdim7, Dm7_G7, Em7, A7, Dm7_G7, C6, Dm7_G7]                                                                                       \n",
            "834   30             85.93          Move [jazz1350]                              0_nan   [C6, F7, C6, C#dim7, Dm7_G7, C6, C6, C6, F7, C6, C#dim7, Dm7_G7, C6, C6, Gm7_C7, F6, F6, D7, D7, Dm7_G7, C6, F7, C6, C#dim7, Dm7_G7, C6, C6]                                                                                                                                                             \n",
            "1030  30             83.91          Seven Come Eleven [jazz1350]                 0_nan   [C6, C6, C6, C6, C6, C6, C6, C6, C6, C6, C6, C6, C6, C6, C6, C6, B7, B7, E7, E7, A7, A7, D7, G7, C6, C6, C6, C6, C6, C6, C6, C6]                                                                                                                                                                         \n",
            "1136  30             83.41          Sweet Sue, Just You [jazz1350]               0_nan   [Dm7_G7, Dm7_G7, C6, C6, C6, C6, Dm7_G7, Dm7_G7, C6, C6, C6, C6, CM7, Em, Gm, A7, Dm7, Dm7, Fm7, Fm7, Dm7_G7, Dm7_G7, C6, C6, C6, C6]                                                                                                                                                                    \n",
            "765   30             80.86          Mack The Knife [jazz1350]                    0_nan   [C6, C6, Dm7, Dm7_G7, G7, C6, C6, Am7, Am7, Dm7, Dm7, Dm7, Dm7_G7, C6, C6]                                                                                                                                                                                                                               \n",
            "485   30             80.76          Hungaria [jazz1350]                          0_nan   [C6, C6, C#6_C#6, C6, C6, A7, A7, D7, D7, G7, G7, C, Ebdim7, Dm7_G7, C6, C6, C#6_C#6, C6, C6, A7, A7, Dm7, Fm6, C, Ebdim7, Dm7_G7, C6, C6]                                                                                                                                                               \n",
            "1153  30             79.62          Thanks For The Memory [jazz1350]             0_nan   [Dm7_G7, C6, C6, C#dim7, Dm7_G7, C6, C#dim7, Dm7, Edim7, F6, Dm7_G7, Dm7_G7, C6, C6, C#dim7, Dm7_G7, C6, C#dim7, Dm7, Edim7, F6, Dm7, Bm7b5, E7(+b5), EbM7, Fm7_Bb7, EbM7, Edim7, GM7, Em7, Am7, D7, Dm7_G7, Dm7_G7, C6, C6, C#dim7, Dm7_G7, C6, C#dim7, Dm7, Edim7, F6, Dm7_G7, C6, A7]                 \n",
            "93    30             79.17          At Long Last Love [jazz1350]                 0_nan   [C6, Am7, Dm7_G7, C6, Am7, Dm7_G7, C6, Dm7, Em7, A7, Dm7, Em7, A7, Dm7, Em7, A7, Dm7_G7, Dm7, Dm7_G7, C6, C6, G13, C6, Am7, Dm7_G7, C6, Dm7, G13, C13, Gm7_C7, F6, F6, FM7, Bb7, Em7, A7, Dm7_G7, C6, Dm7, G13]                                                                                          \n",
            "1313  30             79.08          You Do Something To Me [jazz1350]            0_nan   [C6, B7, C6, C6, C6, Em7, A7, Dm7_G7, A7, Dm7, A7, Dm7, A7, D7, D7, Dm7_G7, Em7, Ebdim7, Dm7, C#dim7, Ebm7_G#7, Dm7_G7, Ebm7_G#7, Dm7_G7, C6, B7, C6, Em7, A7, D7, G7, C6, Dm7_G7]                                                                                                                       \n",
            "706   30             78.48          Let's Do It (Let's Fall In Love) [jazz1350]  0_nan   [C6, C#dim7, Dm7_G7, C6, C7, F6, Fm6, Em7, A7, Dm7_G7, E7, A7, D7, G7, C6, C#dim7, Dm7_G7, C6, C7, F6, Fm6, Em7, A7, Dm7_G7, C6, F7, C6, E7, Am6, Dm7, Dm6, Em7, Gm7_C7, F6, Fm7_Bb7, Eb6, Dm7_G7, C6, C#dim7, Dm7_G7, C6, C7, F7, C6, Am7, Dm7_G7, C6, A7, Dm7_G7]                                      \n",
            "651   30             78.36          Jeepers Creepers [jazz1350]                  0_nan   [Dm7_G7, C6, Am7, Dm7_G7, C6, Am7, Dm7_G7, C6, Am7, Dm7_G7, C6, Dm7_G7, C6, Am7, Dm7_G7, C6, Am7, Dm7_G7, C6, Am7, Dm7_G7, C6, Gm7_C7, F6, Dm7, Gm7_C7, F6, Am7, D7, GM7, Em7, Am7, D7, Dm7_G7, Dm7_G7, C6, Am7, Dm7_G7, C6, Am7, Dm7_G7, Bb7, A7, Dm7_G7, C6, A7, Dm7_G7, C6]                           \n",
            "1049  30             75.21          Skyliner [jazz1350]                          0_nan   [C6, C6, A7, A7, Dm7, Dm7, Fm7_Bb7, Em7, Bb7, Dm7, G13, C6, D7, Dm7_G7, C6, C6, A7, A7, Dm7, Dm7, Fm7_Bb7, Em7, Bb7, Dm7, G13, C6, Dm7_G7, C6, C6, F#m7_B7, EM7, EM7, Am7, D7, GM7, GM7, Ebm7_G#7, C#M7, C#M7, Dm7, Dm7, G13, G13, G7, C6, Dm7_G7, C6, Dm7_G7]                                           \n",
            "837   30             74.90          My Buddy [jazz1350]                          0_nan   [CM7, C#dim7, Dm7, G13, C6, Ebdim7, Dm7_G7, C6, C6, C7, A7, A7, Dm7, D7, Dm7_G7, CM7, C#dim7, Dm7, G13, C6, Ebdim7, Dm7_G7, C6, C6, C7, A7, A7, Dm7, G13, C6, C6]                                                                                                                                        \n",
            "286   30             74.19          Day In, Day Out [jazz1350]                   0_nan   [C6, C6, Dm7_G7, C6, Dm7, Ebdim7, C6, Em7, Ebdim7, Dm6, G7, Dm7_G7, Dm7_G7, Em7, A7, Dm7_G7, C6, C6, Dm7_G7, C6, Dm7, Ebdim7, C6, Cm7, F7, GM7, G#7, GM7, G#7, GM7, Em7, Ebm7, Dm7_G7, Bb7, A7, D7, Fm6, Em7, A7, D7, G7, CM7, F7, Em7, A7, D7, Fm6, Em7, A7, Dm7_G7, C6, A7, Dm7_G7]                    \n",
            "1155  30             74.00          That Old Devil Called Love [jazz1350]        0_nan   [Dm7, C#dim7, Dm7_G7, G7, Em7, F7, Em7, A7, D7, Fm6, Em7, Ebdim7, Dm7, A7, Dm7, C#dim7, Dm7_G7, G7, Em7, F7, Em7, A7, D7, Fm6, Dm7, Dm7, C6, Ebdim7, Dm7_G7, Em7, Ebm7, Dm7, G13, C6, Bb7, Am6, G#dim7, Am7, F#m7b5, Am7, D13, Dm7, A7, Dm7, C#dim7, Dm7_G7, G7, Em7, F7, Em7, A7, D7, Fm6, Dm7, Dm7, C6]\n",
            "992   30             72.69          Robbin's Nest [jazz1350]                     0_nan   [C6, C6, G#7, G#7, Em7, Ebdim7, Dm7_G7, C6, Ebdim7, Dm7_G7, C6, C6, G#7, G#7, Em7, Ebdim7, Dm7_G7, C6, C6, E7, E7, A7, A7, D7, D7, G7, G7, Dm7_G7, C6, C6, G#7, G#7, Em7, Ebdim7, Dm7_G7, C6, Dm7_G7]                                                                                                    \n",
            "266   30             72.65          Crazy Rhythm [jazz1350]                      0_nan   [C6, C6, C6, A7, Dm7_G7, C6, A7, Dm7_G7, C6, C6, C6, A7, Dm7_G7, C6, C6, Gm7_C7, FM7, FM7, Fm7_Bb7, E7, A7, D7, G7, C6, C6, D7, D7, Dm7_G7, C6, A7, Dm7_G7]                                                                                                                                              \n",
            "1263  30             71.45          What A Little Moonlight Can Do [jazz1350]    0_nan   [C6, C6, Em7, A7, Dm7_G7, Dm7_G7, Dm7, A7, Dm7_G7, C6, C6, Gm7_C7, FM7, FM7, Bb7, Bb7, C6, Dm7, Em7, A7, D7, D7, D7, D7, Dm7, C#dim7, Dm7, Ebdim7, C6, C6, Em7, A7, Dm7_G7, Dm7_G7, Dm7, Dm7, Bm7b5_E7, Am7, G#7, Gm7b5, C7, FM7, FM7, Bb7, Bb7, C6, Dm7, Em7, A7, Dm7, A7, Dm7_G7, C6, C6, Dm7_G7]      \n",
            "279   30             70.53          Dancing On The Ceiling [jazz1350]            0_nan   [C6, C7, C7, F6, G7, Em7, Ebm7, Dm7_G7, C6, A7, Dm7_G7, C6, G7, C6, C7, C7, F6, G7, Em7, Ebm7, Dm7_G7, C6, A7, Dm7_G7, C6, Dm7_G7, G7, CM7, Gm7_C7, F6, Bb7, C6, A7, Dm7_G7, C6, C7, C7, F6, G7, Em7, Ebm7, Dm7_G7, C6, A7, Dm7_G7, G7, C6, A7, Dm7_G7]                                                  \n",
            "70    30             69.74          Alone Too Long [jazz1350]                    0_nan   [C6, C6, C#dim7, Dm7_G7, Dm7_G7, Dm7_G7, C6, Am7, Dm7_G7, C6, C6, C#dim7, Dm7_G7, Dm7_G7, Dm7_G7, C6, Bm7b5_E7, Am, Am, Am, F7, E7, Am6_Am6, Am, Am, D7, Dm7_G7, C6, C6, C#dim7, Dm7_G7, Dm7_G7, Dm7_G7, C6, Am7, Dm7_G7]                                                                                \n",
            "133   30             69.59          Beyond The Blue Horizon [jazz1350]           0_nan   [C6, C6, Cdim7, Fm7, G7, C6, C6, A7, A7, Dm7, Fm6, C6, Cm6, D7, D7, Dm7_G7, C6, C6, Cdim7, Fm7, G7, C6, Edim7, A7, A7, Dm7, Fm6, C6, Am7, Dm7_G7, C6, Dm7_G7]                                                                                                                                            \n",
            "275   30             69.52          Cynthia's In Love [jazz1350]                 0_nan   [Dm7, G13, G7, C6, Fm6, Em7, Ebdim7, Dm7_G7, Em7, A7, Dm7, G13, G7, C6, Fm6, Em7, Ebdim7, Dm7_G7, Gm7, F#7, FM7, F#m7b5_B7, Em7, A13, Dm7, Ebm7, G#13, Dm7, G13, Bb7, A7, Dm7, G13, G7, C6, Fm6, Em7, Ebdim7, Dm7, G#7, G7, G7, C6, C6]                                                                  \n",
            "188   30             69.17          Breeze And I, The [jazz1350]                 0_nan   [C6, C6, C6, C6, Bbm7, Bbm7, C6, C6, G7, C6, C6, C6, C6, Bbm7, Bbm7, C6, C6, Dm7, Dm7, CM7, Am7, Dm7_G7, CM7, A7, Dm7, Dm7, CM7, Am7, Dm7_G7, C6, C6, G7, C6, C6, G7]                                                                                                                                    \n",
            "1312  30             69.07          You Can Depend On Me [jazz1350]              0_nan   [Dm7, G13, CM7, Em7, Ebdim7, Dm7_G7, C6, Em7b5, A7, Dm7, G13, CM7, Em7, Ebdim7, Dm7_G7, C6, C6, Gm7_C7, F6, F6, D7, D7, Dm7_G7, Dm7, G13, CM7, Em7, Ebdim7, Dm7_G7, C6, Em7b5, A7]                                                                                                                       \n",
            "949   30             68.91          Perdido [jazz1350]                           0_nan   [Dm7_G7, C6, Em7, A7, Dm7_G7, C6, Em7, A7, Dm7_G7, C6, Em7, A7, Dm7_G7, C6, C6, E7, E7, A7, A7, D7, D7, G7, G7, Dm7_G7, C6, Em7, A7, Dm7_G7, C6, Em7, A7]                                                                                                                                                \n",
            "228   30             68.41          Chase, The [jazz1350]                        0_nan   [C6, C6, F7, F7, C6, Fm7_Bb7, Dm7_G7, C6, C6, C6, F7, F7, C6, Fm7_Bb7, Dm7_G7, C6, Gm7_C7, Gm7_C7, Am7, Dm7, Am7, Dm7, Bbm7_Eb7, Bbm7_Eb7, Am7, Dm7, G#m7_C#7, C6, C6, F7, F7, C6, Fm7_Bb7, Dm7_G7, C6]                                                                                                  \n",
            "833   30             67.90          Mountain Greenery [jazz1350]                 0_nan   [C6, Am7, Dm7_G7, C6, Am7, Dm7_G7, C6, Am7, D7, Em7, A7, Dm7_G7, C6, Am7, Dm7_G7, C6, Am7, Dm7_G7, C6, Am7, D7, G7, Gm7_C7, F6, Gm7_C7, F6, Bb7, Am7, D7, Dm7_G7, C6, Am7, Dm7_G7, C6, Am7, Dm7_G7, C6, Am7, Dm7_G7, C6, Am7, Dm7_G7]                                                                    \n",
            "452   30             67.53          Happy Little Sunbeam [jazz1350]              0_nan   [Dm7_G7, C6, C6, Ebm7, Dm7_G7, Gm7_C7, Fm7_Bb7, EbM7, Cm7, Bb6, Am7, D7, GM7, Am7, D7, GM7, Ebm7, Dm7_G7, C6, C6, Ebm7, Dm7_G7, Em7, A7, F#m7_B7, Em7, A7, Dm7_G7, Bb7(+b5), A7, Dm7_G7, C6, C6]                                                                                                         \n"
          ]
        }
      ]
    },
    {
      "cell_type": "markdown",
      "metadata": {
        "id": "IdYROp0qYnf1"
      },
      "source": [
        "## Visualizing Topics"
      ]
    },
    {
      "cell_type": "code",
      "metadata": {
        "colab": {
          "base_uri": "https://localhost:8080/",
          "height": 955
        },
        "id": "u1rT7_f3YpYo",
        "outputId": "45073075-383d-4367-9a71-1b2c6a2220ea"
      },
      "source": [
        "import pyLDAvis.gensim_models\n",
        "\n",
        "pyLDAvis.enable_notebook()\n",
        "vis = pyLDAvis.gensim_models.prepare(lda_model, corpus, dictionary=lda_model.id2word, mds='pcoa')\n",
        "vis"
      ],
      "execution_count": 145,
      "outputs": [
        {
          "output_type": "stream",
          "name": "stderr",
          "text": [
            "/usr/local/lib/python3.7/dist-packages/pyLDAvis/_prepare.py:247: FutureWarning:\n",
            "\n",
            "In a future version of pandas all arguments of DataFrame.drop except for the argument 'labels' will be keyword-only\n",
            "\n"
          ]
        },
        {
          "output_type": "execute_result",
          "data": {
            "text/html": [
              "\n",
              "<link rel=\"stylesheet\" type=\"text/css\" href=\"https://cdn.jsdelivr.net/gh/bmabey/pyLDAvis@3.3.1/pyLDAvis/js/ldavis.v1.0.0.css\">\n",
              "\n",
              "\n",
              "<div id=\"ldavis_el2852140704638393552398728153\"></div>\n",
              "<script type=\"text/javascript\">\n",
              "\n",
              "var ldavis_el2852140704638393552398728153_data = {\"mdsDat\": {\"x\": [0.29051000721858317, -0.18646936729426578, -0.1296576498215036, 0.004136749288111382, -0.1713231767499512, -0.22064600993371242, 0.21221480279070085, -0.11408059665993406, -0.20145662525184868, 0.18555935195937542, -0.05296223533586014, 0.17055110007470825, 0.1576275620462628, -0.1749126159505853, -0.10466139208500393, 0.10568843070059036, -0.11285096130203649, 0.046776396299985354, 0.1330476027250132, -0.13411739288937757, -0.007518302490389948, 0.1722369371826706, -0.14714197715839633, 0.24851818525888067, -0.1525982076993541, -0.08928659404629286, 0.24950515032610612, -0.07629365972109965, 0.11630425859247602, -0.016699770073850772], \"y\": [0.18851436847772726, 0.126715637667405, 0.15269882031624513, 0.208232263477414, 0.11562776622511078, 0.09497999651816501, 0.19482103961551156, -0.08273763572688118, -0.059866553848533594, -0.03244964894054951, 0.005000632608659552, 0.013528562592112072, -0.08471569348552012, -0.08274116157367611, -0.26810582552113793, -0.278950137174911, 0.06255703148616501, -0.1031349402234885, -0.03644621425209379, 0.004937224641530979, -0.20137511765302396, 0.08419670880069637, 0.04751393562748906, 0.02453697356236665, -0.050470764481862926, 0.07523706531720037, 0.04405869326782295, 0.04076857097816476, -0.3005726732536679, 0.09764107495555865], \"topics\": [1, 2, 3, 4, 5, 6, 7, 8, 9, 10, 11, 12, 13, 14, 15, 16, 17, 18, 19, 20, 21, 22, 23, 24, 25, 26, 27, 28, 29, 30], \"cluster\": [1, 1, 1, 1, 1, 1, 1, 1, 1, 1, 1, 1, 1, 1, 1, 1, 1, 1, 1, 1, 1, 1, 1, 1, 1, 1, 1, 1, 1, 1], \"Freq\": [15.434153870870004, 10.848548403478713, 7.642256804996165, 6.269385356848571, 6.228973423577577, 5.085973190281378, 5.003955180569887, 4.89647436338721, 3.3313176874541344, 3.193022148444898, 2.8618124527405797, 2.664563771132858, 2.4839055489832855, 2.40472038747009, 1.9887599404299496, 1.898047521335055, 1.8911585692688546, 1.7892609249412643, 1.765268811683582, 1.7597488285021528, 1.6887702800677977, 1.5270564110752585, 1.4716920611080835, 1.4527509543390509, 1.1687402824455857, 1.02528340094651, 0.8786087638085981, 0.5655623538973095, 0.44636673098647667, 0.3338615749291251]}, \"tinfo\": {\"Term\": [\"C\", \"Am7\", \"G7\", \"C7\", \"Am\", \"F7\", \"CM7\", \"E7\", \"C6\", \"Bb7\", \"F\", \"A7\", \"Dm7_G7\", \"B7\", \"D7\", \"Dm7\", \"Em7\", \"FM7\", \"Bm7b5_E7\", \"G\", \"C#7\", \"Dm\", \"G#7\", \"Bm7\", \"BbM7\", \"Cm7\", \"Dm7b5\", \"Eb7\", \"G#M7\", \"F#m7b5\", \"F#dim\", \"Bbdim\", \"Adim\", \"C\", \"Ddim\", \"F\", \"Fm\", \"Gdim\", \"G7\", \"Dm\", \"Cdim\", \"Fdim\", \"D7\", \"G#dim\", \"Gm\", \"Ebdim\", \"C7\", \"G\", \"A7\", \"Bbdim7\", \"E7\", \"G#m\", \"Em\", \"A\", \"Gdim7\", \"Am\", \"Em6\", \"G#7\", \"C#dim\", \"GmM7\", \"Fm6\", \"Dm7_G7\", \"Am7\", \"B7\", \"F#dim7\", \"Eb13_Eb13\", \"C#6_B6\", \"F#m7_B7\", \"Cm6_Cm6\", \"Em7b5\", \"Bdim7\", \"Edim7\", \"Dm7_G7\", \"EM7\", \"CM7\", \"Fm7_Bb7\", \"A7\", \"Em7\", \"Gm7_C7\", \"E6\", \"Bbm7b5\", \"Ebm7_G#7\", \"F#m7b5_B7\", \"Fdim7\", \"Fm6\", \"Dm7\", \"Ebdim7\", \"Bb7\", \"FM7\", \"Ebm7\", \"G#m7\", \"C6\", \"C#m7\", \"D7\", \"GM7\", \"F7\", \"Am7\", \"G7\", \"Bm7b5_E7\", \"E7\", \"B7\", \"G#7\", \"C#6_C#6\", \"C6\", \"F7(+b5)_F7(+b5)\", \"Bb6_Bdim7\", \"F6\", \"Eb6\", \"EmM7\", \"Ebdim7\", \"Fm6\", \"G13\", \"Dm7\", \"Edim7\", \"Dm7_G7\", \"Em7\", \"Em6\", \"Bb6\", \"C#dim7\", \"Fm7_Bb7\", \"G6\", \"A7\", \"G#6\", \"F#m7b5_B7\", \"Gm7_C7\", \"G#dim7\", \"GM7\", \"Ebm7\", \"Em7b5\", \"FM7\", \"Ebm7_G#7\", \"G#m7_C#7\", \"F#m7_B7\", \"D7\", \"Bb7\", \"Am7\", \"G7\", \"G#7\", \"CM7\", \"Fm7\", \"E7\", \"C7\", \"F7\", \"F#m_F#m\", \"BbmM7\", \"D7\", \"F#dim7\", \"F6\", \"A7\", \"Gdim7\", \"Em6\", \"G#dim\", \"G7\", \"E13_E13\", \"C6\", \"Em7b5\", \"Edim7\", \"Gm7_C7\", \"A7(+b5)\", \"F13\", \"E7\", \"Am7b5\", \"G#dim7\", \"Bb7\", \"C#dim\", \"GM7\", \"Dm7_G7\", \"CM7\", \"F#dim\", \"FM7\", \"C7\", \"F#m7b5_B7\", \"Eb7\", \"G#7\", \"Em7\", \"Ebdim7\", \"Dm7\", \"Am7\", \"B7\", \"F7\", \"Fm6\", \"C\", \"C#dim7\", \"BmM7\", \"Ebdim7\", \"FM7\", \"Gm7_C7\", \"CM7\", \"F#dim7\", \"Dm7_G7\", \"Dm7\", \"Em6\", \"Fm6\", \"Fm7\", \"Gm7\", \"C#7(+b5)\", \"D7\", \"Em7\", \"G7\", \"C13\", \"F#m_F#mM7\", \"F#m6\", \"GmM7\", \"GmM7_GmM7\", \"Bbdim_Bdim\", \"C7\", \"Bbm6_F#m6\", \"Bdim7\", \"F#m_F#m\", \"B6\", \"BbmM7\", \"C#mM7_C#mM7\", \"A7\", \"Am7\", \"Bm7b5_E7\", \"F#7\", \"C6\", \"Em7b5\", \"Bbm7_Eb7\", \"F6\", \"Bb7\", \"Am7b5\", \"E7\", \"Eb7\", \"G#7\", \"F7\", \"C\", \"Fm\", \"C#m7b5\", \"FmM7\", \"EmM7\", \"B6\", \"F#m7b5_B7\", \"G#dim7\", \"Em7\", \"C#m7b5_F#7\", \"Bb7(+b5)\", \"FM7\", \"Gm7_C7\", \"Am7\", \"F#m7b5\", \"Dm7_G7\", \"CM7\", \"F#7\", \"Ebdim7\", \"G#m7_C#7\", \"Ebdim\", \"Fm7\", \"A7\", \"Ebm7_G#7\", \"Dm7\", \"Fm7b5\", \"Fm6\", \"Fm7_Bb7\", \"D7\", \"F#dim7\", \"Bm7\", \"GM7\", \"E7\", \"G7\", \"Bm7b5_E7\", \"B7\", \"C6\", \"F7\", \"Bb7\", \"C#dim\", \"Ebdim\", \"Fdim\", \"Em\", \"Cdim\", \"Bdim\", \"Gdim\", \"C#m\", \"E\", \"G\", \"Fm\", \"C\", \"F\", \"C#6\", \"Adim\", \"A\", \"F#dim\", \"Bbdim7\", \"E6\", \"F#m7_B7\", \"Dm7_G7\", \"FmM7\", \"Eb\", \"G7\", \"Dm\", \"Dm7\", \"C7\", \"D7\", \"Gm\", \"A7\", \"B7\", \"Am\", \"E7\", \"Am7\", \"G#7\", \"Em7\", \"F6\", \"FM7\", \"Bm_Bm\", \"Am7\", \"Bm7b5_E7\", \"Dm7\", \"E7\", \"F#7(+b5)\", \"Bm7\", \"D7\", \"GmM7\", \"GmM7_GmM7\", \"Bbdim_Bdim\", \"Bbm6_F#m6\", \"Bdim7\", \"F#m_F#m\", \"B6\", \"F#m6\", \"F#m_F#mM7\", \"BbmM7\", \"C#mM7_C#mM7\", \"C#mM7\", \"BmM7\", \"F7\", \"Cm7\", \"C7(+b5)_C7(+b5)\", \"F7(+b5)_F7(+b5)\", \"Bb6_Bdim7\", \"BmM7_BmM7\", \"C#6_B6\", \"Bbm_Bbm\", \"BbM7\", \"C#m7\", \"Gm7\", \"Fm7\", \"CM7\", \"Dm7_G7\", \"GM7\", \"EM7\", \"A7\", \"Em7b5\", \"F#7\", \"B7\", \"F#\", \"G7\", \"FmM7\", \"C#M7\", \"F#m7\", \"Eb7\", \"C#\", \"Em7\", \"C6\", \"C#M7\", \"EbM7\", \"Ebm7_G#7\", \"Adim7\", \"C#m7_F#7\", \"G#m7_C#7\", \"Fm7b5\", \"Fm7_Bb7\", \"Fm7\", \"G#M7\", \"Bb7(+b5)\", \"CM7\", \"Cm7\", \"Ebm7b5\", \"Cm7b5\", \"Dm7\", \"Bbm7_Eb7\", \"Gm7\", \"A7(+b5)\", \"F#7\", \"BM7\", \"Fdim7\", \"Ebm7\", \"FM7\", \"G#7\", \"Ebm6\", \"Em7\", \"Gm7_C7\", \"DM7\", \"GmM7\", \"F#M7\", \"Dm7_G7\", \"A7\", \"G7\", \"Am7\", \"F7\", \"Em7b5\", \"D7\", \"E7\", \"C7\", \"C#m6\", \"C#mM7_C#mM7\", \"D7(+b5)\", \"F#13_F13\", \"C7(+b5)\", \"F#dim7\", \"F7\", \"A7(+b5)\", \"E7(+b5)\", \"Am7b5\", \"F#13\", \"Gm7b5\", \"F#7\", \"G7\", \"Cm7b5\", \"GmM7\", \"GmM7_GmM7\", \"Bbdim_Bdim\", \"Bbm6_F#m6\", \"Bdim7\", \"F#m_F#m\", \"B6\", \"F#m6\", \"F#m_F#mM7\", \"BbmM7\", \"C#mM7\", \"BmM7\", \"Dm7_G7\", \"EmM7_EmM7\", \"G#7\", \"A7\", \"F#dim\", \"Cm7\", \"Bb7\", \"Em7\", \"C#7\", \"Ebm7_G#7\", \"Em7b5\", \"Eb7\", \"C#m7_F#7\", \"Gm7_C7\", \"D7\", \"Ebm7\", \"C\", \"Am7\", \"F\", \"F#mM7\", \"A6_A6\", \"E7\", \"C#mM7\", \"Edim7\", \"Bm7\", \"Fdim7\", \"F#m\", \"F#7\", \"D6\", \"C#m7_F#7\", \"F#13\", \"Gdim7\", \"Ebm7b5\", \"AM7\", \"A6\", \"Eb7_G#M7\", \"Gm7_C7\", \"Fm7_Bb7\", \"B7\", \"Dm7\", \"B7(+b5)\", \"A7\", \"F7\", \"Am\", \"GmM7\", \"GmM7_GmM7\", \"Bbdim_Bdim\", \"BbmM7\", \"Am7\", \"F#m7b5_B7\", \"D7\", \"F#dim7\", \"C#m7b5_F#7\", \"FM7\", \"G7\", \"Dm7_G7\", \"Em7\", \"CM7\", \"Bb7\", \"C7\", \"Gm7\", \"Bm7b5_E7\", \"G#7\", \"C6\", \"Dm7b5\", \"F#7(+b5)\", \"G#7\", \"G7\", \"EbM7\", \"DmM7\", \"G#M7\", \"GmM7\", \"GmM7_GmM7\", \"Bbdim_Bdim\", \"Bbm6_F#m6\", \"Bdim7\", \"F#m_F#m\", \"B6\", \"F#m6\", \"F#m_F#mM7\", \"BbmM7\", \"C#mM7_C#mM7\", \"C#mM7\", \"BmM7\", \"CM7\", \"C7(+b5)_C7(+b5)\", \"F7(+b5)_F7(+b5)\", \"Bb6_Bdim7\", \"BmM7_BmM7\", \"C#6_B6\", \"Bbm_Bbm\", \"C#m6\", \"Bbm_Bbm7b5\", \"Bdim7_Bbdim7\", \"FM7\", \"Bb7\", \"C#7\", \"Bm7b5_E7\", \"AM7\", \"Am7\", \"B7\", \"Bbm7_Eb7\", \"Bm7\", \"C#M7\", \"C7\", \"D7\", \"Dm7_G7\", \"E7\", \"EM7\", \"Eb7_G#M7\", \"Gm7_C7\", \"A7\", \"Bbm7\", \"Bm7b5\", \"Cm7\", \"Dm7\", \"Am\", \"Dm\", \"Edim\", \"E7(+b5)\", \"Bm7b5_E7\", \"A7(+b5)\", \"GmM7\", \"GmM7_GmM7\", \"Bbdim_Bdim\", \"Bbm6_F#m6\", \"Bdim7\", \"F#m_F#m\", \"B6\", \"F#m6\", \"F#m_F#mM7\", \"BbmM7\", \"C#mM7_C#mM7\", \"C#mM7\", \"BmM7\", \"G\", \"C7(+b5)_C7(+b5)\", \"F7(+b5)_F7(+b5)\", \"Bb6_Bdim7\", \"BmM7_BmM7\", \"C#6_B6\", \"Bbm_Bbm\", \"C#m6\", \"Bbm_Bbm7b5\", \"Bdim7_Bbdim7\", \"F#m7_B7\", \"A7\", \"Em7b5\", \"G7\", \"Gm7_C7\", \"FM7\", \"D7\", \"Gdim\", \"Dm7_G7\", \"G#7\", \"C\", \"CM7\", \"EbM7\", \"DM7\", \"C7\", \"Fm7_Bb7\", \"Am7\", \"Em7\", \"EM7\", \"E\", \"F\", \"C6\", \"Fm6\", \"DM7\", \"B13\", \"BM7\", \"Bbm7b5\", \"Bb6\", \"F7(+b5)\", \"GM7\", \"Ebm7b5\", \"E13\", \"AM7\", \"F#m6\", \"F#m_F#mM7\", \"Fm7b5\", \"C#m7b5_F#7\", \"F#m7\", \"A6\", \"C#m7_F#7\", \"EM7\", \"Gm6_Gm6\", \"G#m7_C#7\", \"Cm7b5\", \"F#13\", \"G#m7\", \"Bm7\", \"F#m7_B7\", \"A13\", \"FM7\", \"C#m7\", \"G#13\", \"D7(+b5)\", \"F#7\", \"Em7\", \"CM7\", \"EbM7\", \"E7\", \"Am7\", \"D7\", \"Bb7\", \"Dm7\", \"G7\", \"C7\", \"G#7\", \"Bm6\", \"C#m7\", \"Gm7\", \"Ebm7\", \"E6\", \"C7(+b5)\", \"F#m7\", \"Bbm\", \"F#M7\", \"F#13\", \"G#m7\", \"C#6\", \"Fm7\", \"EM7\", \"G#6\", \"Eb7_G#M7\", \"AM7\", \"Bbdim7\", \"FmM7\", \"EbM7\", \"Bbm7\", \"F#\", \"BM7\", \"Bbm6\", \"C#M7\", \"C#13\", \"DM7\", \"C13\", \"Cm7\", \"G#M7\", \"Dm7\", \"Em7\", \"Bm7\", \"CM7\", \"BbM7\", \"G#7\", \"F\", \"Ebm\", \"EmM7_EmM7\", \"F7\", \"Eb7\", \"F#m7\", \"F#7\", \"GmM7\", \"GmM7_GmM7\", \"Bbdim_Bdim\", \"Bbm6_F#m6\", \"Bdim7\", \"F#m_F#m\", \"B6\", \"F#m6\", \"F#m_F#mM7\", \"BbmM7\", \"C#mM7_C#mM7\", \"C#mM7\", \"BmM7\", \"DM7\", \"Em7\", \"C7(+b5)_C7(+b5)\", \"F7(+b5)_F7(+b5)\", \"Bb6_Bdim7\", \"BmM7_BmM7\", \"C#6_B6\", \"Bbm_Bbm\", \"C#m6\", \"Bbm_Bbm7b5\", \"Bdim7_Bbdim7\", \"F#dim7\", \"G#7\", \"Em\", \"CM7\", \"Gm7\", \"C#m7\", \"C6\", \"Am7\", \"FM7\", \"Dm7_G7\", \"Fm7\", \"Bm7\", \"C#dim7\", \"D\", \"G#m7\", \"Ebm7\", \"Dm7\", \"Bbm7\", \"G7\", \"F#m7_B7\", \"GM7\", \"BbM7\", \"Gm7_C7\", \"A7\", \"Bb13_B13\", \"FmM7_FmM7\", \"EbmM7\", \"Cm6\", \"Am7b5\", \"Bbdim7\", \"Bbm6_F#m6\", \"Bbm6\", \"F6\", \"C7(+b5)_C7(+b5)\", \"BmM7_BmM7\", \"D7(+b5)\", \"G#6\", \"C#6\", \"Fm6\", \"Gm7b5\", \"F#dim7\", \"F7(+b5)\", \"G#dim7\", \"Fm7_Bb7\", \"Gm7_C7\", \"EbM7\", \"G#m7_C#7\", \"Bbm7_Eb7\", \"Adim7\", \"Eb7_G#M7\", \"F#m7b5_B7\", \"Dm7b5\", \"Cm7\", \"G#7\", \"GM7\", \"CM7\", \"FM7\", \"C6\", \"Em7\", \"G7\", \"Am7\", \"Em7b5\", \"A7\", \"Dm7_G7\", \"D7\", \"Dm7\", \"F7\", \"E7\", \"C7\", \"G#m7b5\", \"C#7\", \"C13_C13\", \"F13_F13\", \"A13\", \"F#m\", \"Eb7\", \"G13\", \"Bb13\", \"Eb7_G#M7\", \"F#7\", \"C13\", \"Ebm7b5\", \"G#7\", \"C#m7_F#7\", \"F#m7_B7\", \"Fm7\", \"B\", \"F13\", \"A7(+b5)\", \"Bb\", \"GmM7\", \"GmM7_GmM7\", \"Bbdim_Bdim\", \"Bbm6_F#m6\", \"Bdim7\", \"Bm7\", \"F#m_F#m\", \"B6\", \"F#m6\", \"D7\", \"Fm7_Bb7\", \"Em7b5\", \"Bbm7_Eb7\", \"A7\", \"Dm7\", \"F#m7\", \"Bb7\", \"Em7\", \"B7\", \"F7\", \"G7\", \"CM7\", \"Dm7b5\", \"E7\", \"C7\", \"CmM7\", \"Bb7\", \"G#7\", \"C#13\", \"Eb13\", \"C#M7\", \"F#7\", \"D7(+b5)\", \"F#13\", \"Ebm7_G#7\", \"Gm7b5\", \"F#7(+b5)\", \"C7\", \"Eb7\", \"GmM7\", \"GmM7_GmM7\", \"Bbdim_Bdim\", \"Bbm6_F#m6\", \"BbmM7\", \"Bdim7\", \"F#m_F#m\", \"B6\", \"F#m6\", \"F#m_F#mM7\", \"C#mM7_C#mM7\", \"C#mM7\", \"BmM7\", \"C7(+b5)_C7(+b5)\", \"F7(+b5)_F7(+b5)\", \"Bdim7_Bbdim7\", \"G#13\", \"G7\", \"Gm7_C7\", \"D13\", \"FM7\", \"D7\", \"A7\", \"Em\", \"F7\", \"Am7b5\", \"E7\", \"Fm\", \"B7(+b5)\", \"Fm6\", \"Dm7_G7\", \"Am\", \"C\", \"Am7\", \"CM7\", \"C6\", \"Dm7\", \"Am6_Am6\", \"Dm6\", \"DmM7\", \"Am6\", \"AmM7\", \"Gm6_Gm6\", \"A6\", \"Eb7(+b5)\", \"G#m\", \"Bm7b5_E7\", \"Bbm6\", \"E7(+b5)\", \"Fdim7\", \"G#dim7\", \"Em7b5\", \"C#m7b5\", \"Ebm7b5\", \"AM7\", \"F#m7b5_B7\", \"Dm7\", \"C7(+b5)\", \"Bm7b5\", \"C#7(+b5)\", \"E7\", \"A7\", \"Am7\", \"GmM7\", \"GmM7_GmM7\", \"Bbdim_Bdim\", \"Bbm6_F#m6\", \"F#m7b5\", \"FM7\", \"F7\", \"Am\", \"Gm7_C7\", \"D7\", \"Cm7\", \"Dm7_G7\", \"CM7\", \"Em7\", \"BbM7\", \"Bbm7_Eb7\", \"Cm7\", \"G#M7\", \"E13\", \"F#M7\", \"AM7\", \"GM7\", \"F7\", \"Adim7\", \"DM7\", \"Eb7\", \"GmM7\", \"GmM7_GmM7\", \"Bbdim_Bdim\", \"Bbm6_F#m6\", \"Bdim7\", \"F#m_F#m\", \"B6\", \"F#m6\", \"F#m_F#mM7\", \"BbmM7\", \"C#mM7_C#mM7\", \"C#mM7\", \"BmM7\", \"FM7\", \"B7\", \"C7(+b5)_C7(+b5)\", \"F7(+b5)_F7(+b5)\", \"Bb6_Bdim7\", \"Gm7_C7\", \"Fm6\", \"Bm7b5\", \"CM7\", \"EM7\", \"G7\", \"F#7\", \"G#7\", \"D7\", \"A7\", \"Am7\", \"EbM7\", \"C#M7\", \"Gm7\", \"G#\", \"Bb7\", \"Em7b5\", \"C\", \"AmM7_GmM7\", \"B7\", \"Bm\", \"F#6_G6\", \"Gm6\", \"G#m\", \"Em\", \"Bm_Bm\", \"C#m\", \"Bb7(+b5)\", \"G#dim\", \"Ebm\", \"F#7\", \"G\", \"C#m7b5_F#7\", \"Bb7\", \"A7\", \"Dm\", \"Fm6\", \"GmM7\", \"GmM7_GmM7\", \"Bbdim_Bdim\", \"Bbm6_F#m6\", \"Bdim7\", \"F#m_F#m\", \"B6\", \"F#m6\", \"F#m_F#mM7\", \"BbmM7\", \"C#mM7_C#mM7\", \"D7\", \"G7\", \"C#dim\", \"C\", \"Eb7\", \"C7\", \"E7\", \"Dm7_G7\", \"Fm\", \"Am6\", \"Am7\", \"F7\", \"D13\", \"G6\", \"F13\", \"Gdim7\", \"C#13\", \"C13\", \"Em6\", \"Bdim\", \"Eb6\", \"F#13_F13\", \"F#6_G6\", \"B13\", \"G#7(+b5)\", \"AmM7\", \"G13\", \"C#m7b5_F#7\", \"Bm6\", \"Gm7\", \"Dm7\", \"BM7\", \"F7(+b5)\", \"A7\", \"Bm7\", \"Em7b5\", \"Am7b5\", \"Bb7\", \"F#m7b5_B7\", \"G#m7\", \"Em7\", \"Bb13\", \"F#7\", \"CM7\", \"E7\", \"D7\", \"FM7\", \"Am7\", \"G7\", \"Fm7_Bb7\", \"Gm7_C7\", \"F7\", \"BbM7\", \"C#\", \"G#\", \"D\", \"Cm_Cm\", \"C#_Eb\", \"Cm\", \"F#\", \"A\", \"F#6\", \"B\", \"E\", \"G\", \"Bb\", \"Bm\", \"G#dim\", \"Eb6\", \"Fm7b5\", \"Eb13\", \"Eb\", \"G#dim7\", \"C#m7_F#7\", \"Fm6\", \"G#m7_C#7\", \"Gdim\", \"Gm7b5\", \"F#7\", \"GM7\", \"GmM7\", \"GmM7_GmM7\", \"Bbdim_Bdim\", \"F\", \"C\", \"F13\", \"G#7\", \"G7\", \"D7\", \"Dm7\", \"Em7\", \"E7\", \"C7\", \"Ddim7\", \"B7(+b5)\", \"C#7(+b5)\", \"Bbm_Bbm\", \"A7(+b5)\", \"C#7(+b5)_C#7(+b5)\", \"Eb7(+b5)\", \"Bm7\", \"BmM7_BmM7\", \"Bbm\", \"G#6\", \"C#m7b5_F#7\", \"CmM7\", \"D7(+b5)\", \"G#m7\", \"Cm\", \"Bbm6\", \"Bb6\", \"G#m7_C#7\", \"C#m7b5\", \"Ebm7_G#7\", \"Eb7_G#M7\", \"Fm\", \"E7(+b5)\", \"D6\", \"Bbm7_Eb7\", \"Am7\", \"Dm7\", \"Em\", \"CM7\", \"D7\", \"Cm7\", \"Em7\", \"G#M7\", \"G7\", \"E7\", \"Dm7_G7\", \"F#m7b5\", \"Bb6_B6\", \"Bb7(+b5)\", \"Cm6_Cm6\", \"Fdim7\", \"Edim\", \"B7(+b5)\", \"Fdim\", \"Fm6\", \"F#m7b5_B7\", \"F#7(+b5)\", \"Em7b5\", \"G13\", \"Eb7_G#M7\", \"D\", \"A7(+b5)\", \"Bm7b5_E7\", \"G#dim7\", \"Ebdim7\", \"F7\", \"F6\", \"GmM7\", \"GmM7_GmM7\", \"Bbdim_Bdim\", \"Bbm6_F#m6\", \"BmM7\", \"FM7\", \"Bdim7\", \"F#m_F#m\", \"B6\", \"E7\", \"Am\", \"Fm7\", \"D13\", \"Dm7\", \"G7\", \"Em7\", \"CM7\", \"Am7\", \"A7\", \"C6\", \"D7\", \"Dm7_G7\", \"Bb7\", \"C7\", \"G#7\", \"B7\", \"Cdim7\", \"Ebm6\", \"Eb\", \"Gm\", \"Bdim7_Bbdim7\", \"Bbm_Bbm7b5\", \"Bb\", \"Edim\", \"C#m\", \"Adim7\", \"F#13_F13\", \"Cm6\", \"Eb6\", \"Gm7b5\", \"F\", \"Em\", \"F#dim7\", \"Fm7_Bb7\", \"Fm\", \"Fm6\", \"GmM7\", \"GmM7_GmM7\", \"Bbdim_Bdim\", \"Bbm6_F#m6\", \"Bdim7\", \"F#m_F#m\", \"B6\", \"F#m6\", \"F#m_F#mM7\", \"BbmM7\", \"C7\", \"G#\", \"Cm7\", \"Am6_Am6\", \"G7\", \"G\", \"F7\", \"C6\", \"F#dim\", \"G#7\", \"D7\", \"Em7b5\", \"C\", \"Dm7_G7\", \"A7\", \"D6\", \"E13_E13\", \"Cm7b5\", \"Gm7b5\", \"GmM7\", \"GmM7_GmM7\", \"Bbdim_Bdim\", \"Gm6\", \"G#dim\", \"C7(+b5)_C7(+b5)\", \"Fdim7\", \"A6\", \"Am6\", \"C13\", \"C#m7\", \"C#m7_F#7\", \"Adim\", \"F#m7_B7\", \"Eb7\", \"Bbm6\", \"F#m7b5_B7\", \"Bb7(+b5)\", \"Eb7_G#M7\", \"FmM7\", \"G#7\", \"Fm7_Bb7\", \"Am7b5\", \"Bbm6_F#m6\", \"Bdim7\", \"F#m_F#m\", \"Em7\", \"C7\", \"FM7\", \"A7\", \"E7\", \"Dm7\", \"Dm7_G7\", \"Gm7_C7\", \"Am7\", \"D7\", \"G7\", \"CM7\", \"C#M7\", \"F7\", \"G7(+b5)\", \"G#13\", \"Bbm7\", \"G#7(+b5)\", \"Eb13\", \"Bb13\", \"C#7(+b5)_C#7(+b5)\", \"F#M7\", \"A13\", \"C#7(+b5)\", \"Ebm7\", \"F#dim7\", \"Bb\", \"Am7b5\", \"GmM7\", \"GmM7_GmM7\", \"Bbdim_Bdim\", \"Bbm6_F#m6\", \"Bdim7\", \"F#m_F#m\", \"B6\", \"F#m6\", \"F#m_F#mM7\", \"BbmM7\", \"C#mM7_C#mM7\", \"C#mM7\", \"BmM7\", \"C#M7\", \"C7(+b5)_C7(+b5)\", \"F7(+b5)_F7(+b5)\", \"E7\", \"Am7\", \"C\", \"Bb7\", \"Fm\", \"A7\", \"D7\", \"C7\", \"FM7\", \"Eb7\", \"AM7\", \"B7\", \"Bbm7_Eb7\", \"Bm7\", \"CM7\", \"Bm7b5\", \"E7(+b5)\", \"B\", \"Cdim\", \"GmM7\", \"GmM7_GmM7\", \"Bbdim_Bdim\", \"Bbm6_F#m6\", \"Bdim7\", \"F#m_F#m\", \"B6\", \"F#m6\", \"F#m_F#mM7\", \"BbmM7\", \"C#mM7_C#mM7\", \"C#mM7\", \"Dm7\", \"BmM7\", \"Ddim\", \"C7(+b5)_C7(+b5)\", \"F7(+b5)_F7(+b5)\", \"Bb6_Bdim7\", \"BmM7_BmM7\", \"C#6_B6\", \"Bbm_Bbm\", \"C#m6\", \"Bbm_Bbm7b5\", \"Bdim7_Bbdim7\", \"EmM7_EmM7\", \"Bb6_B6\", \"D7\", \"Gm7\", \"Cdim7\", \"F#dim7\", \"A7\", \"Am7\", \"Gm7_C7\", \"F#7\", \"E7\", \"FM7\", \"C\", \"G7\", \"Bb7\", \"Dm7_G7\", \"C6\", \"F\", \"G\", \"Bm7b5_E7\", \"Em7\", \"D13\", \"Ebm7_G#7\", \"Fm7\", \"CM7\", \"Dm7b5\", \"Ebdim7\", \"C7\", \"Dm\"], \"Freq\": [5675.0, 3811.0, 5598.0, 2398.0, 1486.0, 1763.0, 5124.0, 2201.0, 2631.0, 1182.0, 1478.0, 4181.0, 4858.0, 754.0, 3688.0, 2037.0, 2297.0, 1801.0, 806.0, 557.0, 407.0, 561.0, 731.0, 449.0, 362.0, 424.0, 349.0, 365.0, 329.0, 209.0, 102.99052199807315, 4.884091182236653, 15.856830022972039, 4229.527343215482, 2.914808468333335, 1038.1945710007626, 246.7627607162803, 18.90142180886983, 2417.9587080193032, 233.03591968850702, 32.780918282189496, 4.869993277141651, 1057.9996167233992, 8.34371587892032, 15.368830824126505, 28.6695600994248, 407.50811322095115, 87.28543911467834, 605.5113129868233, 1.1106574723153053, 227.28898733889272, 1.0006034610417105, 19.861989225124397, 5.785603061061752, 1.0570907345995495, 62.826943898834216, 0.438527423176171, 22.251252945587158, 3.337743704926053, 0.03246532132102924, 5.121660780225918, 30.083597035143562, 11.33621931962387, 2.735047563011387, 1.9600982522620347, 3.9191145764821025, 1.973764403076896, 152.75692448655516, 2.933003375874394, 239.51857939527324, 1.0018302360341864, 10.783351689195827, 1866.9755449670688, 90.4439688231555, 1702.887474482046, 126.63215789021206, 1210.6608475545152, 617.2652928000603, 179.735862686758, 6.906028528427855, 2.5326604971875257, 31.27988108214056, 43.040350569909656, 5.185979216607565, 37.96689910189666, 230.0984112285278, 51.0044774739238, 117.8232339634614, 172.81374382124713, 10.290580963016621, 6.73609538865354, 184.35305580575962, 8.905421949778075, 199.23480464978036, 9.36546784507084, 55.918765795073575, 97.64337414947565, 95.30507345745032, 22.141860868752364, 31.335244987670528, 15.40042538106245, 13.44510326637194, 2.855321625794414, 1935.3392319105158, 1.9122124448690268, 1.9124847617254483, 119.95063496413376, 10.487952580186555, 2.4136417126239142, 135.45303836173935, 80.10750974666793, 40.49323189811309, 416.36348353315844, 5.3856367206667635, 924.9672156152436, 427.0312904853604, 2.5468637997254766, 5.405684428287128, 33.61926874755701, 44.90055465623841, 7.648703658236077, 427.9262255176379, 2.1416779825324737, 28.36088275249443, 70.45407517764265, 3.9776962658586825, 15.005988428853849, 8.482623268128645, 22.21167842225447, 79.47920612619984, 8.086995899107935, 2.732355541832434, 10.810187235464394, 135.2009355760816, 44.46316254750752, 105.19636219453548, 117.28359213751806, 18.150304974336702, 41.72616623304527, 9.602506572678358, 14.518861963516027, 12.21065621396673, 10.005564617918312, 1.0150209373575199, 1.0167338443629925, 1409.884222252478, 66.18660526298088, 62.73114090766368, 785.0095527656487, 4.542174540632465, 2.0724200256079617, 4.774035999191857, 793.3627695427026, 1.0304670034676864, 329.0728291558475, 54.18037971016268, 2.484446972107155, 66.96770798200585, 2.853541296206523, 2.1261386366730646, 128.96228655284435, 4.072155764311532, 2.6266770866985802, 57.3082279463578, 5.569991912360099, 8.764719219972744, 185.36774666869155, 175.53847432882395, 3.6609244597758, 46.286681518782615, 52.70752487758257, 6.121496205340057, 7.469074726419069, 14.534727712123775, 39.79660109275104, 9.643951719903963, 23.686470638540293, 34.68392648564149, 10.281622493724521, 11.765504485426465, 5.042152681243308, 9.167204819743304, 238.63339412750244, 1.1204848995300583, 250.45169641246878, 753.6293505647315, 224.68859167220887, 1200.0745407501051, 59.60641517078361, 649.4903360476536, 258.98802145806553, 1.6574594732387646, 32.61812073321543, 33.96470687907105, 20.7888139047344, 1.1706282951072917, 157.94242206966865, 74.50599788914586, 172.0629177541795, 1.6175125781278976, 0.040896916053227976, 0.040556814388363595, 0.037730810627357794, 0.037730810627357794, 0.037730810627357794, 47.59072404232441, 0.037730810627357794, 0.037730810627357794, 0.037730810627357794, 0.037730810627357794, 0.037730810627357794, 0.037730810627357794, 77.9275529967827, 62.01336621507552, 12.0155426413653, 4.471379484726874, 36.07541792174677, 4.599811024927987, 1.7045511496882129, 3.299059957710659, 10.324209678725337, 0.7932651023130922, 9.875828150841226, 1.9202464410963813, 2.201720483942474, 2.4684752280254076, 2.4549242339663477, 1.71273830527018, 13.387903840306793, 20.41570343387862, 4.387349701544883, 1.0173725364301542, 139.31460435474946, 24.53794775839048, 661.6708789760335, 7.952234329370698, 4.8150999395035035, 286.5416880723586, 111.67180027901958, 458.42068356117113, 23.59685682151389, 515.3108505897018, 508.587251675642, 26.76631390700228, 38.968013842169164, 4.496596295632711, 10.522470625847124, 23.86033177174678, 251.27811505684946, 11.04174282840926, 117.8497715812094, 1.0311606513242186, 9.394792012589862, 11.729196944234237, 105.25337617502073, 6.25682241312508, 9.678294312316543, 4.320913071977009, 40.95210812573135, 59.11420894680651, 12.444431882520947, 11.472872634235543, 17.77315246770774, 13.856320029438331, 11.533047296684398, 106.0717001311232, 118.26996433417733, 7.752431403086177, 129.5221266094878, 45.9432334046883, 3.871547435452248, 15.299477322264448, 3.993339436943681, 54.0846695862898, 183.75599515632297, 95.02787564215126, 1298.6434451843988, 319.4115284086873, 0.989554783046879, 2.643149190593891, 12.72068753770876, 12.64237365673492, 1.014672962186177, 3.5543629636252363, 23.39720054110955, 389.570931380086, 2.021262091222857, 3.1608276351467652, 246.68445069033496, 20.63792931873859, 68.32603310239631, 77.03164732020063, 112.66966862583196, 1.8615202880539938, 80.62474185750635, 13.543013937538422, 20.559736379446814, 17.010884960216114, 21.76725292460072, 7.297252472025954, 8.349244640989081, 4.6121234709653605, 4.584661839644182, 9.201701270748112, 2528.3226091333686, 441.3380549971885, 221.69356840170255, 111.0946645304939, 1.9146902895655928, 10.749464304679249, 83.37078715868758, 0.03521105962937438, 0.03521105962937438, 0.03521105962937438, 0.03521105962937438, 0.03521105962937438, 0.03521105962937438, 0.03521105962937438, 0.03521105962937438, 0.03521105962937438, 0.03521105962937438, 0.03521105962937438, 0.03521105962937438, 0.03521105962937438, 28.96241332588443, 5.9370487222838415, 0.03521105962937438, 0.03521105962937438, 0.03521105962937438, 0.03521105962937438, 0.03521105962937438, 0.03521105962937438, 4.2656871809077295, 1.2060307807205568, 1.6932329835215871, 1.4969049220019188, 9.930098585608432, 8.92698928636842, 0.6600940070743263, 0.6900931357350248, 1.623368508222345, 0.4633689157713852, 0.2622217323767873, 0.3160541987280706, 0.08497790642385315, 0.4068235054461271, 0.07949469562279987, 0.1343675920222899, 0.08830306252184993, 0.09967168765568106, 0.0599853767775157, 0.1010843742877194, 0.07340550399328961, 198.17385485206546, 177.50397380412647, 105.04157744029352, 13.713108405751262, 34.45857902183404, 24.887201886976392, 8.916155962513812, 125.8557949233679, 111.68362112387732, 80.22156946685574, 6.272947015776948, 817.25114293952, 48.47257436499971, 1.3710785317533694, 0.8244669725928573, 160.20412527953943, 10.706978759147862, 15.41108212280053, 1.9934264203281393, 13.652914915199906, 5.314515542063666, 1.894573432986759, 4.727134060422303, 67.87541745549186, 22.154696462268415, 0.6544109177767957, 65.76918462869334, 23.112981243645585, 3.4395009953127262, 0.03276535193582837, 1.7704595841868775, 58.12504478798009, 44.25853369895178, 24.589798065332236, 16.252244654765907, 10.797321385094936, 5.620409872004008, 11.938613127896453, 6.029287736644683, 1624.280303442804, 2.030173013899795, 1.0372280443779325, 6.280149774478071, 2.0557910956010392, 3.3017929675594972, 44.64245823474101, 258.6508069373503, 4.5941202197788344, 4.510195276823586, 6.4228201688936375, 1.1730069299506478, 1.5356319646481946, 6.347936606449363, 111.93307091164152, 0.1708646649977518, 0.033547486467269697, 0.033547486467269697, 0.033547486467269697, 0.033547486467269697, 0.033547486467269697, 0.033547486467269697, 0.033547486467269697, 0.033547486467269697, 0.033547486467269697, 0.033547486467269697, 0.033547486467269697, 0.033547486467269697, 75.34540282089684, 0.040066855600049765, 8.46481159650286, 44.388206474622734, 1.3306156882928897, 2.9131291005680877, 6.6870356836235345, 11.445702685728355, 2.6606525802303556, 1.3844461279624265, 2.728608822459103, 2.0794032118512957, 0.6351702614972928, 3.3452071871559985, 7.653376106879487, 0.6605403725681827, 4.7563935745937, 2.0987618356156226, 1.2020710964365338, 5.059497169964685, 5.049647869280321, 1377.4656196020392, 1.0397156783326358, 6.822952632885499, 79.40621238680758, 5.926804132392782, 0.775129482100115, 35.3685194488157, 2.5094956939647095, 8.156920788243937, 1.5053018099076148, 1.6837232656852075, 0.8208027715128362, 10.903420313539437, 0.9133429680907682, 2.2778187282854345, 26.618179004966542, 10.552783314168707, 16.993150545073977, 45.10867908005575, 0.7784096213792574, 88.28686869587317, 34.40986555224828, 27.943221201970285, 0.03368788981223343, 0.03368788981223343, 0.03368788981223343, 0.035155635922402215, 67.31053209354253, 4.782243856342268, 54.13534191516827, 3.5546372520827245, 0.43805019435324183, 13.957478583697283, 28.38628718467529, 15.783032963616934, 7.147430950842669, 7.267014915703018, 4.312552072912749, 3.871621763487453, 2.47634088230313, 2.6860018895046056, 2.603075420510254, 2.6696268941460333, 317.74316986347714, 38.16087753019566, 297.35020639162116, 1115.7953426760319, 19.895855733558395, 0.9621821112938882, 9.371350890141905, 0.037711726382046, 0.037711726382046, 0.037711726382046, 0.037711726382046, 0.037711726382046, 0.037711726382046, 0.037711726382046, 0.037711726382046, 0.037711726382046, 0.037711726382046, 0.037711726382046, 0.037711726382046, 0.037711726382046, 71.30671600864049, 0.037711726382046, 0.037711726382046, 0.037711726382046, 0.037711726382046, 0.037711726382046, 0.037711726382046, 0.037711726382046, 0.037711726382046, 0.037711726382046, 10.599802169498275, 4.942708114962209, 0.8231965173625999, 0.4637989910123154, 0.037711726382046, 0.037711726382046, 0.037711726382046, 0.037711726382046, 0.037711726382046, 0.037711726382046, 0.037711726382046, 0.037711726382046, 0.037711726382046, 0.037711726382046, 0.037711726382046, 0.037711726382046, 0.037711726382046, 0.037711726382046, 0.037711726382046, 0.037711726382046, 0.037711726382046, 0.037711726382046, 1334.6226122559676, 289.14568836050404, 3.2211193510122103, 4.72202744380173, 44.370057396762626, 1.6163481302026732, 0.03429469102849512, 0.03429469102849512, 0.03429469102849512, 0.03429469102849512, 0.03429469102849512, 0.03429469102849512, 0.03429469102849512, 0.03429469102849512, 0.03429469102849512, 0.03429469102849512, 0.03429469102849512, 0.03429469102849512, 0.03429469102849512, 7.114975376068414, 0.03429469102849512, 0.03429469102849512, 0.03429469102849512, 0.03429469102849512, 0.03429469102849512, 0.03429469102849512, 0.03429469102849512, 0.03429469102849512, 0.03429469102849512, 2.7696858810200164, 41.43859289854761, 1.9186153770252736, 13.501499186507747, 2.358700354863774, 2.3695737144878977, 3.5075294865520834, 0.16998174639466768, 2.4077806611051957, 0.8176711645987016, 2.240984060505087, 0.7323747499342511, 0.1694824049272543, 0.14078864570019858, 0.24274080960112518, 0.10366923164655995, 0.14366002618463644, 0.12562233722982694, 0.07199628891806008, 0.05677405831525963, 0.05761808160258797, 0.03429619123735566, 0.03429544916402207, 139.91312355547115, 14.379056324208229, 87.7068562322382, 11.206980232036301, 25.90612207128341, 3.766000154184723, 131.14806078395702, 7.522314137393523, 17.26277416694957, 101.7795203222406, 1.0145100697859202, 1.0142741057120266, 10.027358108218111, 12.640511243789335, 51.14804956136071, 6.807790638542174, 23.528196554883344, 69.29156465992386, 2.005363621553791, 14.135761938283164, 1.9283276710052302, 4.177857481641955, 16.00629960913797, 79.56970829188657, 29.332859429457933, 3.1318805924651087, 176.41623354898616, 10.755260401831864, 3.572906502974835, 1.238676935193884, 17.0968194693856, 120.79456151246373, 130.63509976753954, 16.612415380517383, 49.979282382067076, 66.45810089510461, 34.74190519649695, 14.63064040372209, 17.285171944517764, 23.0004316042947, 17.239182138480185, 10.853223210921985, 6.197350306110027, 105.34694056348779, 211.05056027885996, 85.10046822845658, 25.277975598501268, 7.05697447996488, 99.46842439852973, 6.130866717592174, 60.85832234676844, 11.188847529457604, 42.62484691324274, 2.980577728217967, 158.08846812669356, 88.54743257712289, 6.404213231274813, 20.678695332717847, 44.950886239107085, 2.0454316019878047, 5.906150608124397, 43.88192600590429, 18.11862877105879, 3.777254184312031, 14.26080019111509, 2.1714588919077236, 31.019550188678803, 2.073291234688398, 17.019985660066705, 4.895945748341568, 26.21940217524327, 18.035055798997387, 84.5316262959654, 41.9526574704078, 15.514875439755459, 30.114180275373837, 9.959036782357014, 7.686627463437218, 7.450953446867191, 13.219469387273021, 2.3030976426137966, 1186.2803101333122, 67.62051273546015, 9.828103175199821, 8.458889721283581, 0.0379171635454564, 0.0379171635454564, 0.0379171635454564, 0.0379171635454564, 0.0379171635454564, 0.0379171635454564, 0.0379171635454564, 0.0379171635454564, 0.0379171635454564, 0.0379171635454564, 0.0379171635454564, 0.0379171635454564, 0.0379171635454564, 2.6766615298429635, 32.10101425695543, 0.0379171635454564, 0.0379171635454564, 0.0379171635454564, 0.0379171635454564, 0.0379171635454564, 0.0379171635454564, 0.0379171635454564, 0.0379171635454564, 0.0379171635454564, 3.050891694493098, 4.580029010864967, 1.433798845984131, 9.011796606354743, 0.8497719665552352, 0.3563728378964475, 0.600668575879802, 0.060015049648280645, 0.05482117678294749, 0.053652230870610725, 0.046484092856663724, 0.046598680476073885, 0.04428035789951385, 0.04254011366154371, 0.042130686304186794, 0.042132060962860096, 0.044388749735903635, 0.041495530173683334, 0.04313142308986414, 0.04043456124538673, 0.0400823884217728, 0.04006440003113361, 0.040114444971084656, 0.04009233751392082, 13.885942750970472, 8.335795815694079, 4.63203831103033, 22.626304144523395, 53.062930690378494, 5.348121487652618, 0.954898178000034, 7.0925204853322885, 116.55592077810832, 0.9553065742691531, 0.9578827266643339, 6.617201701784746, 5.893569846863494, 1.8647732110013573, 84.47603161996176, 9.932559796887672, 50.609369807542755, 0.9566551898523632, 7.165968574182792, 41.676869004991, 84.94731559238134, 22.28223318366295, 4.320810299502559, 9.964751253206902, 1.49197613556402, 4.261888219460682, 17.528238886869595, 18.47643953824308, 21.41331869981113, 33.131830288558334, 9.24630254020327, 129.83554361986222, 54.64828837822668, 72.84815676610546, 57.415888303713544, 99.5103640172544, 53.02589858774794, 14.14286830326673, 32.26674273915934, 32.69914876425484, 27.56490044243876, 20.370879787536808, 10.64004238914412, 9.696786322419515, 8.538818695677696, 33.30059770193248, 387.8968998553187, 17.860001151236517, 7.818830018296252, 21.385492943883328, 4.257813020319018, 227.04549501858477, 92.57274748828999, 21.246315013130857, 31.66548508873022, 105.52854346444514, 14.751453122673842, 2.0093421288869093, 69.08981575919022, 4.04370743553814, 11.381020260045748, 16.39607608958471, 1.2284259202086758, 1.3421959108488903, 0.7787327045686212, 1.8311839809429826, 0.03306498435730785, 0.03306498435730785, 0.03306498435730785, 0.03306498435730785, 0.03306498435730785, 7.550229763174352, 0.03306498435730785, 0.03306498435730785, 0.03306498435730785, 52.73743374390721, 5.549228002411492, 5.79750782942123, 1.8342294978494202, 38.627104286478634, 18.356770514064568, 1.9557016961220555, 9.959204016278285, 10.935949450111066, 5.221901579717936, 6.901552434036071, 11.777741934046603, 4.002931512623548, 2.271081529301183, 2.693426183802746, 2.2950646046907766, 18.607424505164236, 809.4353225081176, 151.86090100283187, 4.037728171861935, 4.378357799666402, 29.92939432619497, 28.806949782846456, 1.9665222554922654, 1.6754501176919716, 11.319011313205463, 1.907744267843207, 1.2337776872672155, 51.79248194122328, 7.602183928739105, 0.03521784362597501, 0.03521784362597501, 0.03521784362597501, 0.03521784362597501, 0.03632644619037451, 0.03521784362597501, 0.03521784362597501, 0.03521784362597501, 0.03521784362597501, 0.03521784362597501, 0.03521784362597501, 0.03521784362597501, 0.03521784362597501, 0.03521784362597501, 0.03521784362597501, 0.03672894573361864, 0.5437064310626105, 36.76448486731512, 5.57591407586208, 0.8018596535190287, 8.796357967719288, 15.579263750502284, 14.117946741296493, 1.4101049289895804, 5.552693705277734, 0.5329891458751502, 5.718028237708992, 1.587929250481686, 0.2776427470808197, 1.0778994798035404, 5.392587701294691, 1.9363949497336645, 3.5280965606970183, 2.6968023259156153, 2.90390693272662, 1.8731314212051142, 1.1943181069728595, 71.6320008875542, 101.3449209048859, 20.169845812053683, 155.34949829823944, 48.16839594908923, 4.56800839250875, 11.422961352806057, 2.4749622973533496, 3.2077042819755786, 233.13379525879085, 4.9203498784147115, 11.02547590736797, 10.596493660000354, 9.974686429780476, 61.096375409040746, 1.6802292638465381, 1.162910678531267, 11.727532980432272, 13.21153224506183, 87.79972531347892, 0.49625393377140464, 3.671790664775253, 0.6641949282697962, 74.20078823095135, 70.3404851865033, 64.06709130944672, 0.03050878303720675, 0.03050878303720675, 0.03050878303720675, 0.03050878303720675, 3.015389680153474, 24.06591281672448, 22.925812485127043, 16.459505065952698, 9.455887025759985, 28.963088716287047, 5.02311533188745, 18.59381482650684, 16.93295688239307, 5.268362738905663, 326.5715259875121, 107.39579679008075, 295.2492425557919, 203.26315039535004, 12.600626976275235, 25.73997486250399, 16.584526209838742, 15.662021781445988, 36.49484598858663, 0.496211757254912, 3.5229279805849893, 7.272675812565534, 0.034180694712378876, 0.034180694712378876, 0.034180694712378876, 0.034180694712378876, 0.034180694712378876, 0.034180694712378876, 0.034180694712378876, 0.034180694712378876, 0.034180694712378876, 0.034180694712378876, 0.034180694712378876, 0.034180694712378876, 0.034180694712378876, 26.829818114872925, 9.61580346834488, 0.034180694712378876, 0.034180694712378876, 0.034180694712378876, 9.679489129313103, 3.254858549393375, 0.9826837352966096, 36.95604955875126, 1.93924520619909, 22.32228097595879, 1.7254435041277167, 2.519994559583447, 7.494476382662152, 6.883995461596936, 6.372979284668082, 1.041341378609616, 0.9108317478260315, 0.8295618983983226, 0.358958463170494, 1.5617018224303258, 0.5064748092636757, 0.5764161556165399, 6.106241066033562, 648.2199999711008, 16.525535973213284, 3.075381725822313, 12.126011803419255, 4.577298732323953, 60.97956133673819, 3.3794018053309327, 1.1611479220927157, 2.641576018002527, 3.292281546217782, 1.3599688812979098, 17.23544609685036, 27.537526006697902, 1.2141689511546727, 33.697851601391804, 101.46229668346398, 12.235754243554359, 6.456629677472942, 0.0338176464447458, 0.0338176464447458, 0.0338176464447458, 0.0338176464447458, 0.0338176464447458, 0.0338176464447458, 0.0338176464447458, 0.0338176464447458, 0.0338176464447458, 0.0338176464447458, 0.0338176464447458, 37.38081315041756, 28.440900535050073, 1.084356905988734, 21.196297790517498, 2.299301046475099, 5.898261800386752, 5.523761299550508, 5.670677942190974, 0.9076061545768119, 0.5238838646898142, 2.886829592130682, 1.1247114955744875, 87.15653892379011, 59.50841111787839, 28.976846055001506, 15.451448286403036, 12.20535851308273, 29.41495884402819, 6.708932684774854, 3.155136483627807, 8.938572078463793, 2.0897758920062475, 1.0728487329445977, 3.4005102743585685, 2.207871257717651, 9.643926925181718, 28.608211991087696, 3.266443406801953, 0.6945514195045988, 19.114839195171836, 134.09973975639545, 5.00579567540302, 0.25327462216937785, 178.4948520035718, 18.62620776400742, 17.512020281072807, 2.339346657313141, 32.570836199524926, 7.623320594723182, 1.8453378753131549, 46.22881032134456, 0.9058162952878719, 5.429464264704292, 60.94704639405148, 28.485047463595045, 41.48788133345125, 22.43886060066333, 29.010347788786436, 21.93090267044653, 6.8939011772307754, 8.16073555146811, 6.009120368480508, 4.910413964809009, 33.868251833674826, 88.30503932079456, 80.66573110713513, 25.402052723062916, 9.266723410084944, 60.637302346346104, 24.729890628262204, 77.47803650318885, 3.11354245653282, 18.431039490414296, 88.58765030528504, 241.97015045999703, 21.247808620169746, 4.594955589494009, 3.8052551202661204, 2.877638174186484, 2.2008769074878862, 2.410648591217817, 5.568473589011549, 3.0756247805432673, 4.762108697156579, 14.945824350577134, 2.925810675991651, 1.5902792401731523, 1.308563607961278, 5.788677822256767, 4.006904662576508, 0.03442566983235214, 0.03442566983235214, 0.03442566983235214, 25.587062372945635, 76.32813771217053, 0.5592448371802091, 8.675729340222121, 38.23707842528879, 12.275495701477483, 6.625189367222371, 5.312151282543558, 4.0373803089498645, 3.192213932450002, 9.66195516627364, 29.69076617832818, 13.75289987130003, 1.972342764931536, 23.699477233561865, 2.95356628150065, 3.2442050096720916, 217.08218020911866, 1.0004120112986348, 3.675513576471439, 5.764527381046738, 7.305222028290365, 4.210461974369089, 3.422273234685339, 13.545920484305162, 8.695801130962804, 2.038746923204201, 3.7625237335106885, 5.921705584100006, 1.2802504092839087, 12.509687015121028, 4.475919956902131, 23.78838964948222, 2.7434738610032428, 1.2567691593749242, 6.684540029913426, 122.22336184322825, 60.08888167208706, 7.1011084120996975, 115.40027963344562, 30.104204888050994, 5.944320640659652, 10.589207310951263, 4.844380072682365, 10.711660002562482, 6.042293938182918, 6.183017369743092, 167.07021731623811, 2.5275026169917325, 9.593991658667935, 1.694837768995268, 10.07607843291112, 1.233676089159298, 3.745335609511127, 0.8625037210004233, 18.696088297585455, 16.36919390179134, 2.3977042662280033, 16.61726301249787, 6.236343467370881, 2.3717017567112713, 2.8585441416498787, 0.8740570256234296, 16.953177939129592, 1.073320576214158, 9.734529892295942, 34.03397237472799, 4.872666032680313, 0.027799112924706597, 0.027799112924706597, 0.027799112924706597, 0.028320334556940246, 0.030085776952704982, 25.778681647395914, 0.027799112924706597, 0.027799112924706597, 0.027799112924706597, 28.9496119927301, 17.375618876241365, 4.485239656232525, 1.159582914142889, 20.22150775379645, 49.555636644458296, 20.59230926613001, 40.921822456678925, 30.54133266301633, 32.46394159351665, 21.477659742706624, 23.69312562610298, 28.409409649603116, 5.65210110391541, 6.461810230916985, 3.0467987055268844, 2.9634367656626353, 105.83231136015192, 20.411825118308, 52.18918048319952, 64.78657144359077, 2.039146018768369, 2.0337887632426788, 59.673444916263705, 5.4987244224012795, 3.6824124821820456, 7.539606498562602, 2.033146759444715, 5.057844386061724, 4.609395279118174, 2.907937440192012, 80.4326932842384, 11.672459841201862, 7.3408826152045075, 9.22229990749717, 8.082892394905578, 6.499469586828779, 0.03352200414022814, 0.03352200414022814, 0.03352200414022814, 0.03352200414022814, 0.03352200414022814, 0.03352200414022814, 0.03352200414022814, 0.03352200414022814, 0.03352200414022814, 0.03352200414022814, 39.66817139378883, 1.314493176817638, 5.406825665788185, 1.0001657029116213, 43.55083350011752, 5.411973331945306, 13.920519190104525, 12.651652062539771, 0.9366369254118285, 3.4853981848323934, 11.667877673632526, 2.358853437958228, 4.982509734688162, 3.916344470516461, 2.7841697546772797, 21.142864889519306, 6.115487572809607, 5.358340118360301, 18.863778634828652, 0.9028487642396634, 0.9028487642396634, 0.9017024239623563, 8.695074516567058, 12.006957560816996, 0.8999450891857265, 6.504902473349394, 3.527045983669388, 15.070816160697092, 2.7847408457964873, 6.948920021753256, 4.100756149333701, 0.9015300609722777, 11.273689261905728, 13.297331505557475, 0.6139250446525985, 9.650840684878611, 0.8092707341964549, 2.2267347180343173, 0.8876682754089599, 18.779496971291074, 7.731284340812976, 1.423862199144208, 0.02914474950482238, 0.02914474950482238, 0.02914474950482238, 31.514109845695497, 22.181502359563687, 16.81525620082631, 23.767959407643716, 13.057384247434271, 10.408014728729972, 16.183268806833713, 5.379871167547893, 9.455028838176906, 9.177264709357043, 9.988266188928073, 7.107249050527776, 2.909292720493528, 3.430534693181224, 57.64548313634524, 50.2404931625249, 100.69446884760545, 10.442859700525185, 17.013492283388025, 22.925883935615563, 2.144047773862588, 17.6834721044494, 3.9544688097860132, 1.0934824018788092, 6.217698568248989, 7.146831922815165, 2.1908942699367255, 1.5599911271915208, 0.03531205983081209, 0.03531205983081209, 0.03531205983081209, 0.03531205983081209, 0.03531205983081209, 0.03531205983081209, 0.03531205983081209, 0.03531205983081209, 0.03531205983081209, 0.03531205983081209, 0.03531205983081209, 0.03531205983081209, 0.03531205983081209, 4.7502500715998845, 0.03531205983081209, 0.03531205983081209, 2.148979520670027, 2.9492306998953572, 0.09408372752703865, 0.057716052700100315, 0.04373587650557277, 0.040108081906213434, 0.03840306088663603, 0.03705191895087524, 0.037020283637250614, 0.03701096161089276, 0.03531205983081209, 0.03531205983081209, 0.03531205983081209, 0.03531205983081209, 0.03531205983081209, 91.46553862374829, 17.333545891432813, 8.530860657929843, 9.386333607227886, 0.03018323242046714, 0.03018323242046714, 0.03018323242046714, 0.03018323242046714, 0.03018323242046714, 0.03018323242046714, 0.03018323242046714, 0.03018323242046714, 0.03018323242046714, 0.03018323242046714, 0.03018323242046714, 0.03018323242046714, 30.484202241262025, 0.03018323242046714, 0.05328263934752783, 0.03018323242046714, 0.03018323242046714, 0.03018323242046714, 0.03018323242046714, 0.03018323242046714, 0.03018323242046714, 0.03018323242046714, 0.03018323242046714, 0.03018323242046714, 0.03018323242046714, 0.03018323242046714, 16.790183251199288, 1.46631598382285, 0.5676980503468559, 1.074515074080934, 9.692662409047266, 8.713587413987673, 2.565587170383567, 1.0316888775080413, 4.7648595273274035, 3.5091750475935157, 6.962074576745113, 6.303554888332029, 1.429185849689716, 3.28982485725747, 1.9197663707428583, 0.7419468136423529, 0.4274895911136893, 0.3953399882606596, 0.44636479629499015, 0.13157672385287628, 0.1695437998029832, 0.2191387476037203, 0.5316555965305649, 0.19189860098570016, 0.18426527378649138, 0.2525036314814948, 0.17434958650779372], \"Total\": [5675.0, 3811.0, 5598.0, 2398.0, 1486.0, 1763.0, 5124.0, 2201.0, 2631.0, 1182.0, 1478.0, 4181.0, 4858.0, 754.0, 3688.0, 2037.0, 2297.0, 1801.0, 806.0, 557.0, 407.0, 561.0, 731.0, 449.0, 362.0, 424.0, 349.0, 365.0, 329.0, 209.0, 122.76572812782423, 5.8598336348758915, 20.34086402978788, 5675.3577641414895, 3.9156911729616795, 1478.7078837156082, 379.35854975221434, 36.93671448655888, 5598.951711097851, 561.0772158987314, 89.32748699227042, 14.392473227881137, 3688.598650290088, 33.20876076435484, 83.825077927647, 160.42021134717984, 2398.8454505099385, 557.6414056944102, 4181.563316031354, 10.445724572560234, 2201.8430667263274, 9.733845074265286, 242.05527058183924, 98.78330903376646, 24.537234429022323, 1486.261486678712, 14.282836092265033, 731.3920459954015, 117.74372411617875, 1.8721780535704997, 315.87691464536, 4858.173966638996, 3811.4102461701546, 754.9693495910496, 259.22268764038955, 4.885183085756689, 2.939832912351481, 254.6223617386783, 5.5729676305786215, 459.655668055979, 1.9679673366709716, 26.442255886688088, 4858.173966638996, 260.7747005315177, 5124.818502562235, 400.084861154334, 4181.563316031354, 2297.7657105458866, 852.1028286253113, 37.061013992798735, 14.769353617433046, 183.82354707820645, 298.42465736327034, 42.914674972637755, 315.87691464536, 2037.6957380476558, 503.2427212462503, 1182.510105556729, 1801.1426411863476, 121.54192719511128, 82.37425945413811, 2631.045175477376, 138.4657121298395, 3688.598650290088, 210.2935034315978, 1763.7710881953149, 3811.4102461701546, 5598.951711097851, 806.6416066502724, 2201.8430667263274, 754.9693495910496, 731.3920459954015, 3.8358340013200163, 2631.045175477376, 2.885340353455919, 2.8880464277864473, 317.9538288929005, 28.79836715009233, 7.80572668730492, 503.2427212462503, 315.87691464536, 178.6583460714833, 2037.6957380476558, 26.442255886688088, 4858.173966638996, 2297.7657105458866, 14.282836092265033, 36.24207096766262, 276.55098728090337, 400.084861154334, 70.81350876078933, 4181.563316031354, 21.122844156625842, 298.42465736327034, 852.1028286253113, 53.861371018312695, 210.2935034315978, 121.54192719511128, 459.655668055979, 1801.1426411863476, 183.82354707820645, 63.72036431453243, 254.6223617386783, 3688.598650290088, 1182.510105556729, 3811.4102461701546, 5598.951711097851, 731.3920459954015, 5124.818502562235, 378.5625560122815, 2201.8430667263274, 2398.8454505099385, 1763.7710881953149, 1.9801068343433101, 1.9850293507102434, 3688.598650290088, 259.22268764038955, 317.9538288929005, 4181.563316031354, 24.537234429022323, 14.282836092265033, 33.20876076435484, 5598.951711097851, 8.116938146345161, 2631.045175477376, 459.655668055979, 26.442255886688088, 852.1028286253113, 37.29618585467967, 35.07655966871817, 2201.8430667263274, 78.67727733016902, 53.861371018312695, 1182.510105556729, 117.74372411617875, 210.2935034315978, 4858.173966638996, 5124.818502562235, 122.76572812782423, 1801.1426411863476, 2398.8454505099385, 298.42465736327034, 365.2298075501709, 731.3920459954015, 2297.7657105458866, 503.2427212462503, 2037.6957380476558, 3811.4102461701546, 754.9693495910496, 1763.7710881953149, 315.87691464536, 5675.3577641414895, 276.55098728090337, 2.0836154726245266, 503.2427212462503, 1801.1426411863476, 852.1028286253113, 5124.818502562235, 259.22268764038955, 4858.173966638996, 2037.6957380476558, 14.282836092265033, 315.87691464536, 378.5625560122815, 282.93525675396154, 17.770015858350366, 3688.598650290088, 2297.7657105458866, 5598.951711097851, 54.690633911461134, 1.984181286292768, 1.9841449033539993, 1.8721780535704997, 1.8721780535704997, 1.8728840581617234, 2398.8454505099385, 1.9230409831421815, 1.9679673366709716, 1.9801068343433101, 1.9829036587700308, 1.9850293507102434, 2.0021545967463217, 4181.563316031354, 3811.4102461701546, 806.6416066502724, 287.6901462449771, 2631.045175477376, 459.655668055979, 148.34958274216714, 317.9538288929005, 1182.510105556729, 78.67727733016902, 2201.8430667263274, 365.2298075501709, 731.3920459954015, 1763.7710881953149, 5675.3577641414895, 379.35854975221434, 18.619640820737914, 30.41038416996219, 7.80572668730492, 1.9829036587700308, 298.42465736327034, 53.861371018312695, 2297.7657105458866, 33.698845170014614, 25.810812459968044, 1801.1426411863476, 852.1028286253113, 3811.4102461701546, 209.78490500677873, 4858.173966638996, 5124.818502562235, 287.6901462449771, 503.2427212462503, 63.72036431453243, 160.42021134717984, 378.5625560122815, 4181.563316031354, 183.82354707820645, 2037.6957380476558, 23.69945726199163, 315.87691464536, 400.084861154334, 3688.598650290088, 259.22268764038955, 449.6388217834915, 210.2935034315978, 2201.8430667263274, 5598.951711097851, 806.6416066502724, 754.9693495910496, 2631.045175477376, 1763.7710881953149, 1182.510105556729, 117.74372411617875, 160.42021134717984, 14.392473227881137, 242.05527058183924, 89.32748699227042, 7.9688011084095836, 36.93671448655888, 9.880623765773823, 150.44977473216866, 557.6414056944102, 379.35854975221434, 5675.3577641414895, 1478.7078837156082, 6.745927268425446, 20.34086402978788, 98.78330903376646, 122.76572812782423, 10.445724572560234, 37.061013992798735, 254.6223617386783, 4858.173966638996, 30.41038416996219, 64.27240238062906, 5598.951711097851, 561.0772158987314, 2037.6957380476558, 2398.8454505099385, 3688.598650290088, 83.825077927647, 4181.563316031354, 754.9693495910496, 1486.261486678712, 2201.8430667263274, 3811.4102461701546, 731.3920459954015, 2297.7657105458866, 317.9538288929005, 1801.1426411863476, 13.53355742905049, 3811.4102461701546, 806.6416066502724, 2037.6957380476558, 2201.8430667263274, 45.08001178380635, 449.6388217834915, 3688.598650290088, 1.8721780535704997, 1.8721780535704997, 1.8728840581617234, 1.9230409831421815, 1.9679673366709716, 1.9801068343433101, 1.9829036587700308, 1.9841449033539993, 1.984181286292768, 1.9850293507102434, 2.0021545967463217, 2.0074423369333965, 2.0836154726245266, 1763.7710881953149, 424.7703721609247, 2.7943661226656777, 2.885340353455919, 2.8880464277864473, 2.8933651388983033, 2.939832912351481, 2.950788695531382, 362.90920921015135, 138.4657121298395, 282.93525675396154, 378.5625560122815, 5124.818502562235, 4858.173966638996, 210.2935034315978, 260.7747005315177, 4181.563316031354, 459.655668055979, 287.6901462449771, 754.9693495910496, 29.696161953697004, 5598.951711097851, 30.41038416996219, 281.0609434315874, 170.25198997925932, 365.2298075501709, 35.06636978422996, 2297.7657105458866, 2631.045175477376, 281.0609434315874, 295.58811639766316, 183.82354707820645, 24.68077323136141, 84.58110307990239, 63.72036431453243, 23.69945726199163, 400.084861154334, 378.5625560122815, 329.8032352945093, 25.810812459968044, 5124.818502562235, 424.7703721609247, 13.75445309301349, 9.189330380217587, 2037.6957380476558, 148.34958274216714, 282.93525675396154, 37.29618585467967, 287.6901462449771, 115.42703620741655, 42.914674972637755, 121.54192719511128, 1801.1426411863476, 731.3920459954015, 22.095943841464624, 2297.7657105458866, 852.1028286253113, 176.87708748486986, 1.8721780535704997, 110.24449983909126, 4858.173966638996, 4181.563316031354, 5598.951711097851, 3811.4102461701546, 1763.7710881953149, 459.655668055979, 3688.598650290088, 2201.8430667263274, 2398.8454505099385, 3.0017095057016356, 2.0021545967463217, 20.50354619528292, 7.099278603512134, 11.818966637894146, 259.22268764038955, 1763.7710881953149, 37.29618585467967, 44.16188773026484, 78.67727733016902, 20.803474754185363, 37.658243934946015, 287.6901462449771, 5598.951711097851, 9.189330380217587, 1.8721780535704997, 1.8721780535704997, 1.8728840581617234, 1.9230409831421815, 1.9679673366709716, 1.9801068343433101, 1.9829036587700308, 1.9841449033539993, 1.984181286292768, 1.9850293507102434, 2.0074423369333965, 2.0836154726245266, 4858.173966638996, 3.2721257688690857, 731.3920459954015, 4181.563316031354, 122.76572812782423, 424.7703721609247, 1182.510105556729, 2297.7657105458866, 407.56660543922135, 183.82354707820645, 459.655668055979, 365.2298075501709, 84.58110307990239, 852.1028286253113, 3688.598650290088, 121.54192719511128, 5675.3577641414895, 3811.4102461701546, 1478.7078837156082, 6.048129206406636, 6.045902062725614, 2201.8430667263274, 2.0074423369333965, 26.442255886688088, 449.6388217834915, 42.914674972637755, 5.971256212517374, 287.6901462449771, 25.947839183671462, 84.58110307990239, 20.803474754185363, 24.537234429022323, 13.75445309301349, 191.01160920653652, 24.335160796460535, 71.0406600256934, 852.1028286253113, 400.084861154334, 754.9693495910496, 2037.6957380476558, 35.56145663209728, 4181.563316031354, 1763.7710881953149, 1486.261486678712, 1.8721780535704997, 1.8721780535704997, 1.8728840581617234, 1.9850293507102434, 3811.4102461701546, 298.42465736327034, 3688.598650290088, 259.22268764038955, 33.698845170014614, 1801.1426411863476, 5598.951711097851, 4858.173966638996, 2297.7657105458866, 5124.818502562235, 1182.510105556729, 2398.8454505099385, 282.93525675396154, 806.6416066502724, 731.3920459954015, 2631.045175477376, 349.73844178451475, 45.08001178380635, 731.3920459954015, 5598.951711097851, 295.58811639766316, 22.226450505234435, 329.8032352945093, 1.8721780535704997, 1.8721780535704997, 1.8728840581617234, 1.9230409831421815, 1.9679673366709716, 1.9801068343433101, 1.9829036587700308, 1.9841449033539993, 1.984181286292768, 1.9850293507102434, 2.0021545967463217, 2.0074423369333965, 2.0836154726245266, 5124.818502562235, 2.7943661226656777, 2.885340353455919, 2.8880464277864473, 2.8933651388983033, 2.939832912351481, 2.950788695531382, 3.0017095057016356, 3.0080803471186477, 3.0094883917345454, 1801.1426411863476, 1182.510105556729, 407.56660543922135, 806.6416066502724, 191.01160920653652, 3811.4102461701546, 754.9693495910496, 148.34958274216714, 449.6388217834915, 281.0609434315874, 2398.8454505099385, 3688.598650290088, 4858.173966638996, 2201.8430667263274, 260.7747005315177, 71.0406600256934, 852.1028286253113, 4181.563316031354, 122.17860896140547, 98.05733442254198, 424.7703721609247, 2037.6957380476558, 1486.261486678712, 561.0772158987314, 10.876012309278382, 44.16188773026484, 806.6416066502724, 37.29618585467967, 1.8721780535704997, 1.8721780535704997, 1.8728840581617234, 1.9230409831421815, 1.9679673366709716, 1.9801068343433101, 1.9829036587700308, 1.9841449033539993, 1.984181286292768, 1.9850293507102434, 2.0021545967463217, 2.0074423369333965, 2.0836154726245266, 557.6414056944102, 2.7943661226656777, 2.885340353455919, 2.8880464277864473, 2.8933651388983033, 2.939832912351481, 2.950788695531382, 3.0017095057016356, 3.0080803471186477, 3.0094883917345454, 254.6223617386783, 4181.563316031354, 459.655668055979, 5598.951711097851, 852.1028286253113, 1801.1426411863476, 3688.598650290088, 36.93671448655888, 4858.173966638996, 731.3920459954015, 5675.3577641414895, 5124.818502562235, 295.58811639766316, 176.87708748486986, 2398.8454505099385, 400.084861154334, 3811.4102461701546, 2297.7657105458866, 260.7747005315177, 150.44977473216866, 1478.7078837156082, 2631.045175477376, 315.87691464536, 176.87708748486986, 18.912096555470377, 115.42703620741655, 14.769353617433046, 36.24207096766262, 5.879700264904337, 210.2935034315978, 13.75445309301349, 32.04465462152412, 191.01160920653652, 1.9841449033539993, 1.984181286292768, 23.69945726199163, 33.698845170014614, 170.25198997925932, 24.335160796460535, 84.58110307990239, 260.7747005315177, 7.547235804658378, 63.72036431453243, 9.189330380217587, 20.803474754185363, 82.37425945413811, 449.6388217834915, 254.6223617386783, 29.96897127682731, 1801.1426411863476, 138.4657121298395, 55.754501342443625, 20.50354619528292, 287.6901462449771, 2297.7657105458866, 5124.818502562235, 295.58811639766316, 2201.8430667263274, 3811.4102461701546, 3688.598650290088, 1182.510105556729, 2037.6957380476558, 5598.951711097851, 2398.8454505099385, 731.3920459954015, 7.890389936765858, 138.4657121298395, 282.93525675396154, 121.54192719511128, 37.061013992798735, 11.818966637894146, 170.25198997925932, 10.774549399137525, 110.24449983909126, 20.803474754185363, 82.37425945413811, 6.745927268425446, 378.5625560122815, 260.7747005315177, 21.122844156625842, 71.0406600256934, 191.01160920653652, 10.445724572560234, 30.41038416996219, 295.58811639766316, 122.17860896140547, 29.696161953697004, 115.42703620741655, 17.79209188554286, 281.0609434315874, 19.621739134589, 176.87708748486986, 54.690633911461134, 424.7703721609247, 329.8032352945093, 2037.6957380476558, 2297.7657105458866, 449.6388217834915, 5124.818502562235, 362.90920921015135, 731.3920459954015, 1478.7078837156082, 15.605074096218916, 3.2721257688690857, 1763.7710881953149, 365.2298075501709, 170.25198997925932, 287.6901462449771, 1.8721780535704997, 1.8721780535704997, 1.8728840581617234, 1.9230409831421815, 1.9679673366709716, 1.9801068343433101, 1.9829036587700308, 1.9841449033539993, 1.984181286292768, 1.9850293507102434, 2.0021545967463217, 2.0074423369333965, 2.0836154726245266, 176.87708748486986, 2297.7657105458866, 2.7943661226656777, 2.885340353455919, 2.8880464277864473, 2.8933651388983033, 2.939832912351481, 2.950788695531382, 3.0017095057016356, 3.0080803471186477, 3.0094883917345454, 259.22268764038955, 731.3920459954015, 242.05527058183924, 5124.818502562235, 282.93525675396154, 138.4657121298395, 2631.045175477376, 3811.4102461701546, 1801.1426411863476, 4858.173966638996, 378.5625560122815, 449.6388217834915, 276.55098728090337, 86.96299318790366, 82.37425945413811, 121.54192719511128, 2037.6957380476558, 122.17860896140547, 5598.951711097851, 254.6223617386783, 210.2935034315978, 362.90920921015135, 852.1028286253113, 4181.563316031354, 14.883691535097698, 9.32687393251765, 5.62623514327587, 29.19562539859013, 78.67727733016902, 10.445724572560234, 1.9230409831421815, 17.79209188554286, 317.9538288929005, 2.7943661226656777, 2.8933651388983033, 20.50354619528292, 21.122844156625842, 6.745927268425446, 315.87691464536, 37.658243934946015, 259.22268764038955, 5.879700264904337, 53.861371018312695, 400.084861154334, 852.1028286253113, 295.58811639766316, 63.72036431453243, 148.34958274216714, 24.68077323136141, 71.0406600256934, 298.42465736327034, 349.73844178451475, 424.7703721609247, 731.3920459954015, 210.2935034315978, 5124.818502562235, 1801.1426411863476, 2631.045175477376, 2297.7657105458866, 5598.951711097851, 3811.4102461701546, 459.655668055979, 4181.563316031354, 4858.173966638996, 3688.598650290088, 2037.6957380476558, 1763.7710881953149, 2201.8430667263274, 2398.8454505099385, 34.716416844871404, 407.56660543922135, 18.851726548781137, 8.927157493127597, 29.96897127682731, 5.971256212517374, 365.2298075501709, 178.6583460714833, 47.10204711072339, 71.0406600256934, 287.6901462449771, 54.690633911461134, 13.75445309301349, 731.3920459954015, 84.58110307990239, 254.6223617386783, 378.5625560122815, 29.660485436743873, 35.07655966871817, 37.29618585467967, 89.00772484718357, 1.8721780535704997, 1.8721780535704997, 1.8728840581617234, 1.9230409831421815, 1.9679673366709716, 449.6388217834915, 1.9801068343433101, 1.9829036587700308, 1.9841449033539993, 3688.598650290088, 400.084861154334, 459.655668055979, 148.34958274216714, 4181.563316031354, 2037.6957380476558, 170.25198997925932, 1182.510105556729, 2297.7657105458866, 754.9693495910496, 1763.7710881953149, 5598.951711097851, 5124.818502562235, 349.73844178451475, 2201.8430667263274, 2398.8454505099385, 23.88254139827341, 1182.510105556729, 731.3920459954015, 19.621739134589, 26.21818828931642, 281.0609434315874, 287.6901462449771, 20.50354619528292, 20.803474754185363, 183.82354707820645, 37.658243934946015, 45.08001178380635, 2398.8454505099385, 365.2298075501709, 1.8721780535704997, 1.8721780535704997, 1.8728840581617234, 1.9230409831421815, 1.9850293507102434, 1.9679673366709716, 1.9801068343433101, 1.9829036587700308, 1.9841449033539993, 1.984181286292768, 2.0021545967463217, 2.0074423369333965, 2.0836154726245266, 2.7943661226656777, 2.885340353455919, 3.0094883917345454, 55.754501342443625, 5598.951711097851, 852.1028286253113, 94.12808376001965, 1801.1426411863476, 3688.598650290088, 4181.563316031354, 242.05527058183924, 1763.7710881953149, 78.67727733016902, 2201.8430667263274, 379.35854975221434, 35.56145663209728, 315.87691464536, 4858.173966638996, 1486.261486678712, 5675.3577641414895, 3811.4102461701546, 5124.818502562235, 2631.045175477376, 2037.6957380476558, 74.383026438118, 106.3783265087309, 22.226450505234435, 173.385436240808, 59.84748401761693, 7.547235804658378, 24.335160796460535, 6.6909724224219564, 9.733845074265286, 806.6416066502724, 17.79209188554286, 44.16188773026484, 42.914674972637755, 53.861371018312695, 459.655668055979, 18.619640820737914, 13.75445309301349, 191.01160920653652, 298.42465736327034, 2037.6957380476558, 11.818966637894146, 98.05733442254198, 17.770015858350366, 2201.8430667263274, 4181.563316031354, 3811.4102461701546, 1.8721780535704997, 1.8721780535704997, 1.8728840581617234, 1.9230409831421815, 209.78490500677873, 1801.1426411863476, 1763.7710881953149, 1486.261486678712, 852.1028286253113, 3688.598650290088, 424.7703721609247, 4858.173966638996, 5124.818502562235, 2297.7657105458866, 362.90920921015135, 148.34958274216714, 424.7703721609247, 329.8032352945093, 32.04465462152412, 110.24449983909126, 191.01160920653652, 210.2935034315978, 1763.7710881953149, 24.68077323136141, 176.87708748486986, 365.2298075501709, 1.8721780535704997, 1.8721780535704997, 1.8728840581617234, 1.9230409831421815, 1.9679673366709716, 1.9801068343433101, 1.9829036587700308, 1.9841449033539993, 1.984181286292768, 1.9850293507102434, 2.0021545967463217, 2.0074423369333965, 2.0836154726245266, 1801.1426411863476, 754.9693495910496, 2.7943661226656777, 2.885340353455919, 2.8880464277864473, 852.1028286253113, 315.87691464536, 98.05733442254198, 5124.818502562235, 260.7747005315177, 5598.951711097851, 287.6901462449771, 731.3920459954015, 3688.598650290088, 4181.563316031354, 3811.4102461701546, 295.58811639766316, 281.0609434315874, 282.93525675396154, 91.78198942350693, 1182.510105556729, 459.655668055979, 5675.3577641414895, 7.0846769148198705, 754.9693495910496, 22.38588008867397, 5.0800845500057195, 21.91296328538481, 9.733845074265286, 242.05527058183924, 13.53355742905049, 9.880623765773823, 25.810812459968044, 33.20876076435484, 15.605074096218916, 287.6901462449771, 557.6414056944102, 33.698845170014614, 1182.510105556729, 4181.563316031354, 561.0772158987314, 315.87691464536, 1.8721780535704997, 1.8721780535704997, 1.8728840581617234, 1.9230409831421815, 1.9679673366709716, 1.9801068343433101, 1.9829036587700308, 1.9841449033539993, 1.984181286292768, 1.9850293507102434, 2.0021545967463217, 3688.598650290088, 5598.951711097851, 117.74372411617875, 5675.3577641414895, 365.2298075501709, 2398.8454505099385, 2201.8430667263274, 4858.173966638996, 379.35854975221434, 173.385436240808, 3811.4102461701546, 1763.7710881953149, 94.12808376001965, 70.81350876078933, 35.07655966871817, 24.537234429022323, 19.621739134589, 54.690633911461134, 14.282836092265033, 7.9688011084095836, 28.79836715009233, 7.099278603512134, 5.0800845500057195, 18.912096555470377, 13.660043018756465, 59.84748401761693, 178.6583460714833, 33.698845170014614, 7.890389936765858, 282.93525675396154, 2037.6957380476558, 115.42703620741655, 5.879700264904337, 4181.563316031354, 449.6388217834915, 459.655668055979, 78.67727733016902, 1182.510105556729, 298.42465736327034, 82.37425945413811, 2297.7657105458866, 47.10204711072339, 287.6901462449771, 5124.818502562235, 2201.8430667263274, 3688.598650290088, 1801.1426411863476, 3811.4102461701546, 5598.951711097851, 400.084861154334, 852.1028286253113, 1763.7710881953149, 362.90920921015135, 35.06636978422996, 91.78198942350693, 86.96299318790366, 27.69955776168948, 10.288632779721935, 71.66219174531867, 29.696161953697004, 98.78330903376646, 4.0919354649129955, 29.660485436743873, 150.44977473216866, 557.6414056944102, 89.00772484718357, 22.38588008867397, 33.20876076435484, 28.79836715009233, 23.69945726199163, 26.21818828931642, 64.27240238062906, 53.861371018312695, 84.58110307990239, 315.87691464536, 63.72036431453243, 36.93671448655888, 37.658243934946015, 287.6901462449771, 210.2935034315978, 1.8721780535704997, 1.8721780535704997, 1.8728840581617234, 1478.7078837156082, 5675.3577641414895, 35.07655966871817, 731.3920459954015, 5598.951711097851, 3688.598650290088, 2037.6957380476558, 2297.7657105458866, 2201.8430667263274, 2398.8454505099385, 10.761282367272928, 35.56145663209728, 17.770015858350366, 2.950788695531382, 37.29618585467967, 6.045091442236078, 6.6909724224219564, 449.6388217834915, 2.8933651388983033, 10.774549399137525, 21.122844156625842, 33.698845170014614, 23.88254139827341, 20.50354619528292, 82.37425945413811, 71.66219174531867, 17.79209188554286, 36.24207096766262, 63.72036431453243, 18.619640820737914, 183.82354707820645, 71.0406600256934, 379.35854975221434, 44.16188773026484, 25.947839183671462, 148.34958274216714, 3811.4102461701546, 2037.6957380476558, 242.05527058183924, 5124.818502562235, 3688.598650290088, 424.7703721609247, 2297.7657105458866, 329.8032352945093, 5598.951711097851, 2201.8430667263274, 4858.173966638996, 209.78490500677873, 3.499726892950335, 25.810812459968044, 5.5729676305786215, 42.914674972637755, 10.876012309278382, 35.56145663209728, 14.392473227881137, 315.87691464536, 298.42465736327034, 45.08001178380635, 459.655668055979, 178.6583460714833, 71.0406600256934, 86.96299318790366, 37.29618585467967, 806.6416066502724, 53.861371018312695, 503.2427212462503, 1763.7710881953149, 317.9538288929005, 1.8721780535704997, 1.8721780535704997, 1.8728840581617234, 1.9230409831421815, 2.0836154726245266, 1801.1426411863476, 1.9679673366709716, 1.9801068343433101, 1.9829036587700308, 2201.8430667263274, 1486.261486678712, 378.5625560122815, 94.12808376001965, 2037.6957380476558, 5598.951711097851, 2297.7657105458866, 5124.818502562235, 3811.4102461701546, 4181.563316031354, 2631.045175477376, 3688.598650290088, 4858.173966638996, 1182.510105556729, 2398.8454505099385, 731.3920459954015, 754.9693495910496, 109.4477783507581, 22.095943841464624, 64.27240238062906, 83.825077927647, 3.0094883917345454, 3.0080803471186477, 89.00772484718357, 10.876012309278382, 9.880623765773823, 24.68077323136141, 7.099278603512134, 29.19562539859013, 28.79836715009233, 37.658243934946015, 1478.7078837156082, 242.05527058183924, 259.22268764038955, 400.084861154334, 379.35854975221434, 315.87691464536, 1.8721780535704997, 1.8721780535704997, 1.8728840581617234, 1.9230409831421815, 1.9679673366709716, 1.9801068343433101, 1.9829036587700308, 1.9841449033539993, 1.984181286292768, 1.9850293507102434, 2398.8454505099385, 91.78198942350693, 424.7703721609247, 74.383026438118, 5598.951711097851, 557.6414056944102, 1763.7710881953149, 2631.045175477376, 122.76572812782423, 731.3920459954015, 3688.598650290088, 459.655668055979, 5675.3577641414895, 4858.173966638996, 4181.563316031354, 25.947839183671462, 8.116938146345161, 9.189330380217587, 37.658243934946015, 1.8721780535704997, 1.8721780535704997, 1.8728840581617234, 21.91296328538481, 33.20876076435484, 2.7943661226656777, 42.914674972637755, 24.335160796460535, 173.385436240808, 54.690633911461134, 138.4657121298395, 84.58110307990239, 20.34086402978788, 254.6223617386783, 365.2298075501709, 17.79209188554286, 298.42465736327034, 25.810812459968044, 71.0406600256934, 30.41038416996219, 731.3920459954015, 400.084861154334, 78.67727733016902, 1.9230409831421815, 1.9679673366709716, 1.9801068343433101, 2297.7657105458866, 2398.8454505099385, 1801.1426411863476, 4181.563316031354, 2201.8430667263274, 2037.6957380476558, 4858.173966638996, 852.1028286253113, 3811.4102461701546, 3688.598650290088, 5598.951711097851, 5124.818502562235, 281.0609434315874, 1763.7710881953149, 60.20070777199064, 55.754501342443625, 122.17860896140547, 13.660043018756465, 26.21818828931642, 47.10204711072339, 6.045091442236078, 110.24449983909126, 29.96897127682731, 17.770015858350366, 121.54192719511128, 259.22268764038955, 89.00772484718357, 78.67727733016902, 1.8721780535704997, 1.8721780535704997, 1.8728840581617234, 1.9230409831421815, 1.9679673366709716, 1.9801068343433101, 1.9829036587700308, 1.9841449033539993, 1.984181286292768, 1.9850293507102434, 2.0021545967463217, 2.0074423369333965, 2.0836154726245266, 281.0609434315874, 2.7943661226656777, 2.885340353455919, 2201.8430667263274, 3811.4102461701546, 5675.3577641414895, 1182.510105556729, 379.35854975221434, 4181.563316031354, 3688.598650290088, 2398.8454505099385, 1801.1426411863476, 365.2298075501709, 191.01160920653652, 754.9693495910496, 148.34958274216714, 449.6388217834915, 5124.818502562235, 98.05733442254198, 44.16188773026484, 29.660485436743873, 89.32748699227042, 1.8721780535704997, 1.8721780535704997, 1.8728840581617234, 1.9230409831421815, 1.9679673366709716, 1.9801068343433101, 1.9829036587700308, 1.9841449033539993, 1.984181286292768, 1.9850293507102434, 2.0021545967463217, 2.0074423369333965, 2037.6957380476558, 2.0836154726245266, 3.9156911729616795, 2.7943661226656777, 2.885340353455919, 2.8880464277864473, 2.8933651388983033, 2.939832912351481, 2.950788695531382, 3.0017095057016356, 3.0080803471186477, 3.0094883917345454, 3.2721257688690857, 3.499726892950335, 3688.598650290088, 282.93525675396154, 109.4477783507581, 259.22268764038955, 4181.563316031354, 3811.4102461701546, 852.1028286253113, 287.6901462449771, 2201.8430667263274, 1801.1426411863476, 5675.3577641414895, 5598.951711097851, 1182.510105556729, 4858.173966638996, 2631.045175477376, 1478.7078837156082, 557.6414056944102, 806.6416066502724, 2297.7657105458866, 94.12808376001965, 183.82354707820645, 378.5625560122815, 5124.818502562235, 349.73844178451475, 503.2427212462503, 2398.8454505099385, 561.0772158987314], \"Category\": [\"Default\", \"Default\", \"Default\", \"Default\", \"Default\", \"Default\", \"Default\", \"Default\", \"Default\", \"Default\", \"Default\", \"Default\", \"Default\", \"Default\", \"Default\", \"Default\", \"Default\", \"Default\", \"Default\", \"Default\", \"Default\", \"Default\", \"Default\", \"Default\", \"Default\", \"Default\", \"Default\", \"Default\", \"Default\", \"Default\", \"Topic1\", \"Topic1\", \"Topic1\", \"Topic1\", \"Topic1\", \"Topic1\", \"Topic1\", \"Topic1\", \"Topic1\", \"Topic1\", \"Topic1\", \"Topic1\", \"Topic1\", \"Topic1\", \"Topic1\", \"Topic1\", \"Topic1\", \"Topic1\", \"Topic1\", \"Topic1\", \"Topic1\", \"Topic1\", \"Topic1\", \"Topic1\", \"Topic1\", \"Topic1\", \"Topic1\", \"Topic1\", \"Topic1\", \"Topic1\", \"Topic1\", \"Topic1\", \"Topic1\", \"Topic1\", \"Topic1\", \"Topic2\", \"Topic2\", \"Topic2\", \"Topic2\", \"Topic2\", \"Topic2\", \"Topic2\", \"Topic2\", \"Topic2\", \"Topic2\", \"Topic2\", \"Topic2\", \"Topic2\", \"Topic2\", \"Topic2\", \"Topic2\", \"Topic2\", \"Topic2\", \"Topic2\", \"Topic2\", \"Topic2\", \"Topic2\", \"Topic2\", \"Topic2\", \"Topic2\", \"Topic2\", \"Topic2\", \"Topic2\", \"Topic2\", \"Topic2\", \"Topic2\", \"Topic2\", \"Topic2\", \"Topic2\", \"Topic2\", \"Topic2\", \"Topic2\", \"Topic3\", \"Topic3\", \"Topic3\", \"Topic3\", \"Topic3\", \"Topic3\", \"Topic3\", \"Topic3\", \"Topic3\", \"Topic3\", \"Topic3\", \"Topic3\", \"Topic3\", \"Topic3\", \"Topic3\", \"Topic3\", \"Topic3\", \"Topic3\", \"Topic3\", \"Topic3\", \"Topic3\", \"Topic3\", \"Topic3\", \"Topic3\", \"Topic3\", \"Topic3\", \"Topic3\", \"Topic3\", \"Topic3\", \"Topic3\", \"Topic3\", \"Topic3\", \"Topic3\", \"Topic3\", \"Topic3\", \"Topic3\", \"Topic3\", \"Topic3\", \"Topic3\", \"Topic3\", \"Topic3\", \"Topic4\", \"Topic4\", \"Topic4\", \"Topic4\", \"Topic4\", \"Topic4\", \"Topic4\", \"Topic4\", \"Topic4\", \"Topic4\", \"Topic4\", \"Topic4\", \"Topic4\", \"Topic4\", \"Topic4\", \"Topic4\", \"Topic4\", \"Topic4\", \"Topic4\", \"Topic4\", \"Topic4\", \"Topic4\", \"Topic4\", \"Topic4\", \"Topic4\", \"Topic4\", \"Topic4\", \"Topic4\", \"Topic4\", \"Topic4\", \"Topic4\", \"Topic4\", \"Topic4\", \"Topic4\", \"Topic4\", \"Topic4\", \"Topic4\", \"Topic4\", \"Topic4\", \"Topic5\", \"Topic5\", \"Topic5\", \"Topic5\", \"Topic5\", \"Topic5\", \"Topic5\", \"Topic5\", \"Topic5\", \"Topic5\", \"Topic5\", \"Topic5\", \"Topic5\", \"Topic5\", \"Topic5\", \"Topic5\", \"Topic5\", \"Topic5\", \"Topic5\", \"Topic5\", \"Topic5\", \"Topic5\", \"Topic5\", \"Topic5\", \"Topic5\", \"Topic5\", \"Topic5\", \"Topic5\", \"Topic5\", \"Topic5\", \"Topic5\", \"Topic5\", \"Topic5\", \"Topic5\", \"Topic5\", \"Topic5\", \"Topic5\", \"Topic5\", \"Topic5\", \"Topic5\", \"Topic5\", \"Topic5\", \"Topic5\", \"Topic5\", \"Topic5\", \"Topic5\", \"Topic6\", \"Topic6\", \"Topic6\", \"Topic6\", \"Topic6\", \"Topic6\", \"Topic6\", \"Topic6\", \"Topic6\", \"Topic6\", \"Topic6\", \"Topic6\", \"Topic6\", \"Topic6\", \"Topic6\", \"Topic6\", \"Topic6\", \"Topic6\", \"Topic6\", \"Topic6\", \"Topic6\", \"Topic6\", \"Topic6\", \"Topic6\", \"Topic6\", \"Topic6\", \"Topic6\", \"Topic6\", \"Topic6\", \"Topic6\", \"Topic6\", \"Topic6\", \"Topic6\", \"Topic6\", \"Topic6\", \"Topic6\", \"Topic6\", \"Topic7\", \"Topic7\", \"Topic7\", \"Topic7\", \"Topic7\", \"Topic7\", \"Topic7\", \"Topic7\", \"Topic7\", \"Topic7\", \"Topic7\", \"Topic7\", \"Topic7\", \"Topic7\", \"Topic7\", \"Topic7\", \"Topic7\", \"Topic7\", \"Topic7\", \"Topic7\", \"Topic7\", \"Topic7\", \"Topic7\", \"Topic7\", \"Topic7\", \"Topic7\", \"Topic7\", \"Topic7\", \"Topic7\", \"Topic7\", \"Topic7\", \"Topic7\", \"Topic7\", \"Topic7\", \"Topic7\", \"Topic7\", \"Topic7\", \"Topic7\", \"Topic8\", \"Topic8\", \"Topic8\", \"Topic8\", \"Topic8\", \"Topic8\", \"Topic8\", \"Topic8\", \"Topic8\", \"Topic8\", \"Topic8\", \"Topic8\", \"Topic8\", \"Topic8\", \"Topic8\", \"Topic8\", \"Topic8\", \"Topic8\", \"Topic8\", \"Topic8\", \"Topic8\", \"Topic8\", \"Topic8\", \"Topic8\", \"Topic8\", \"Topic8\", \"Topic8\", \"Topic8\", \"Topic8\", \"Topic8\", \"Topic8\", \"Topic8\", \"Topic8\", \"Topic8\", \"Topic8\", \"Topic8\", \"Topic8\", \"Topic8\", \"Topic8\", \"Topic8\", \"Topic8\", \"Topic8\", \"Topic8\", \"Topic8\", \"Topic8\", \"Topic8\", \"Topic8\", \"Topic8\", \"Topic8\", \"Topic8\", \"Topic9\", \"Topic9\", \"Topic9\", \"Topic9\", \"Topic9\", \"Topic9\", \"Topic9\", \"Topic9\", \"Topic9\", \"Topic9\", \"Topic9\", \"Topic9\", \"Topic9\", \"Topic9\", \"Topic9\", \"Topic9\", \"Topic9\", \"Topic9\", \"Topic9\", \"Topic9\", \"Topic9\", \"Topic9\", \"Topic9\", \"Topic9\", \"Topic9\", \"Topic9\", \"Topic9\", \"Topic9\", \"Topic9\", \"Topic9\", \"Topic9\", \"Topic9\", \"Topic9\", \"Topic9\", \"Topic9\", \"Topic9\", \"Topic9\", \"Topic9\", \"Topic9\", \"Topic10\", \"Topic10\", \"Topic10\", \"Topic10\", \"Topic10\", \"Topic10\", \"Topic10\", \"Topic10\", \"Topic10\", \"Topic10\", \"Topic10\", \"Topic10\", \"Topic10\", \"Topic10\", \"Topic10\", \"Topic10\", \"Topic10\", \"Topic10\", \"Topic10\", \"Topic10\", \"Topic10\", \"Topic10\", \"Topic10\", \"Topic10\", \"Topic10\", \"Topic10\", \"Topic10\", \"Topic10\", \"Topic10\", \"Topic10\", \"Topic10\", \"Topic10\", \"Topic10\", \"Topic10\", \"Topic10\", \"Topic10\", \"Topic10\", \"Topic10\", \"Topic10\", \"Topic10\", \"Topic10\", \"Topic10\", \"Topic10\", \"Topic10\", \"Topic10\", \"Topic10\", \"Topic10\", \"Topic11\", \"Topic11\", \"Topic11\", \"Topic11\", \"Topic11\", \"Topic11\", \"Topic11\", \"Topic11\", \"Topic11\", \"Topic11\", \"Topic11\", \"Topic11\", \"Topic11\", \"Topic11\", \"Topic11\", \"Topic11\", \"Topic11\", \"Topic11\", \"Topic11\", \"Topic11\", \"Topic11\", \"Topic11\", \"Topic11\", \"Topic11\", \"Topic11\", \"Topic11\", \"Topic11\", \"Topic11\", \"Topic11\", \"Topic11\", \"Topic11\", \"Topic11\", \"Topic11\", \"Topic11\", \"Topic11\", \"Topic11\", \"Topic11\", \"Topic11\", \"Topic11\", \"Topic11\", \"Topic11\", \"Topic11\", \"Topic11\", \"Topic11\", \"Topic11\", \"Topic12\", \"Topic12\", \"Topic12\", \"Topic12\", \"Topic12\", \"Topic12\", \"Topic12\", \"Topic12\", \"Topic12\", \"Topic12\", \"Topic12\", \"Topic12\", \"Topic12\", \"Topic12\", \"Topic12\", \"Topic12\", \"Topic12\", \"Topic12\", \"Topic12\", \"Topic12\", \"Topic12\", \"Topic12\", \"Topic12\", \"Topic12\", \"Topic12\", \"Topic12\", \"Topic12\", \"Topic12\", \"Topic12\", \"Topic12\", \"Topic12\", \"Topic12\", \"Topic12\", \"Topic12\", \"Topic12\", \"Topic12\", \"Topic12\", \"Topic12\", \"Topic12\", \"Topic12\", \"Topic12\", \"Topic12\", \"Topic12\", \"Topic12\", \"Topic12\", \"Topic12\", \"Topic12\", \"Topic12\", \"Topic12\", \"Topic12\", \"Topic12\", \"Topic12\", \"Topic13\", \"Topic13\", \"Topic13\", \"Topic13\", \"Topic13\", \"Topic13\", \"Topic13\", \"Topic13\", \"Topic13\", \"Topic13\", \"Topic13\", \"Topic13\", \"Topic13\", \"Topic13\", \"Topic13\", \"Topic13\", \"Topic13\", \"Topic13\", \"Topic13\", \"Topic13\", \"Topic13\", \"Topic13\", \"Topic13\", \"Topic13\", \"Topic13\", \"Topic13\", \"Topic13\", \"Topic13\", \"Topic13\", \"Topic13\", \"Topic13\", \"Topic13\", \"Topic13\", \"Topic13\", \"Topic13\", \"Topic13\", \"Topic13\", \"Topic13\", \"Topic13\", \"Topic13\", \"Topic13\", \"Topic13\", \"Topic13\", \"Topic13\", \"Topic13\", \"Topic13\", \"Topic13\", \"Topic13\", \"Topic13\", \"Topic13\", \"Topic13\", \"Topic13\", \"Topic14\", \"Topic14\", \"Topic14\", \"Topic14\", \"Topic14\", \"Topic14\", \"Topic14\", \"Topic14\", \"Topic14\", \"Topic14\", \"Topic14\", \"Topic14\", \"Topic14\", \"Topic14\", \"Topic14\", \"Topic14\", \"Topic14\", \"Topic14\", \"Topic14\", \"Topic14\", \"Topic14\", \"Topic14\", \"Topic14\", \"Topic14\", \"Topic14\", \"Topic14\", \"Topic14\", \"Topic14\", \"Topic14\", \"Topic14\", \"Topic14\", \"Topic14\", \"Topic14\", \"Topic14\", \"Topic14\", \"Topic14\", \"Topic14\", \"Topic14\", \"Topic14\", \"Topic14\", \"Topic14\", \"Topic14\", \"Topic15\", \"Topic15\", \"Topic15\", \"Topic15\", \"Topic15\", \"Topic15\", \"Topic15\", \"Topic15\", \"Topic15\", \"Topic15\", \"Topic15\", \"Topic15\", \"Topic15\", \"Topic15\", \"Topic15\", \"Topic15\", \"Topic15\", \"Topic15\", \"Topic15\", \"Topic15\", \"Topic15\", \"Topic15\", \"Topic15\", \"Topic15\", \"Topic15\", \"Topic15\", \"Topic15\", \"Topic15\", \"Topic15\", \"Topic15\", \"Topic15\", \"Topic15\", \"Topic15\", \"Topic15\", \"Topic15\", \"Topic15\", \"Topic15\", \"Topic16\", \"Topic16\", \"Topic16\", \"Topic16\", \"Topic16\", \"Topic16\", \"Topic16\", \"Topic16\", \"Topic16\", \"Topic16\", \"Topic16\", \"Topic16\", \"Topic16\", \"Topic16\", \"Topic16\", \"Topic16\", \"Topic16\", \"Topic16\", \"Topic16\", \"Topic16\", \"Topic16\", \"Topic16\", \"Topic16\", \"Topic16\", \"Topic16\", \"Topic16\", \"Topic16\", \"Topic16\", \"Topic16\", \"Topic16\", \"Topic16\", \"Topic16\", \"Topic16\", \"Topic16\", \"Topic16\", \"Topic16\", \"Topic16\", \"Topic16\", \"Topic16\", \"Topic16\", \"Topic16\", \"Topic16\", \"Topic16\", \"Topic16\", \"Topic16\", \"Topic16\", \"Topic16\", \"Topic16\", \"Topic16\", \"Topic16\", \"Topic16\", \"Topic16\", \"Topic16\", \"Topic16\", \"Topic17\", \"Topic17\", \"Topic17\", \"Topic17\", \"Topic17\", \"Topic17\", \"Topic17\", \"Topic17\", \"Topic17\", \"Topic17\", \"Topic17\", \"Topic17\", \"Topic17\", \"Topic17\", \"Topic17\", \"Topic17\", \"Topic17\", \"Topic17\", \"Topic17\", \"Topic17\", \"Topic17\", \"Topic17\", \"Topic17\", \"Topic17\", \"Topic17\", \"Topic17\", \"Topic17\", \"Topic17\", \"Topic17\", \"Topic17\", \"Topic17\", \"Topic17\", \"Topic17\", \"Topic17\", \"Topic17\", \"Topic17\", \"Topic17\", \"Topic17\", \"Topic17\", \"Topic17\", \"Topic17\", \"Topic17\", \"Topic17\", \"Topic17\", \"Topic17\", \"Topic18\", \"Topic18\", \"Topic18\", \"Topic18\", \"Topic18\", \"Topic18\", \"Topic18\", \"Topic18\", \"Topic18\", \"Topic18\", \"Topic18\", \"Topic18\", \"Topic18\", \"Topic18\", \"Topic18\", \"Topic18\", \"Topic18\", \"Topic18\", \"Topic18\", \"Topic18\", \"Topic18\", \"Topic18\", \"Topic18\", \"Topic18\", \"Topic18\", \"Topic18\", \"Topic18\", \"Topic18\", \"Topic18\", \"Topic18\", \"Topic18\", \"Topic18\", \"Topic18\", \"Topic18\", \"Topic18\", \"Topic18\", \"Topic18\", \"Topic18\", \"Topic18\", \"Topic18\", \"Topic18\", \"Topic18\", \"Topic18\", \"Topic18\", \"Topic18\", \"Topic18\", \"Topic19\", \"Topic19\", \"Topic19\", \"Topic19\", \"Topic19\", \"Topic19\", \"Topic19\", \"Topic19\", \"Topic19\", \"Topic19\", \"Topic19\", \"Topic19\", \"Topic19\", \"Topic19\", \"Topic19\", \"Topic19\", \"Topic19\", \"Topic19\", \"Topic19\", \"Topic19\", \"Topic19\", \"Topic19\", \"Topic19\", \"Topic19\", \"Topic19\", \"Topic19\", \"Topic19\", \"Topic19\", \"Topic19\", \"Topic19\", \"Topic19\", \"Topic19\", \"Topic19\", \"Topic19\", \"Topic19\", \"Topic19\", \"Topic19\", \"Topic19\", \"Topic19\", \"Topic19\", \"Topic19\", \"Topic19\", \"Topic19\", \"Topic19\", \"Topic19\", \"Topic19\", \"Topic19\", \"Topic19\", \"Topic19\", \"Topic19\", \"Topic19\", \"Topic20\", \"Topic20\", \"Topic20\", \"Topic20\", \"Topic20\", \"Topic20\", \"Topic20\", \"Topic20\", \"Topic20\", \"Topic20\", \"Topic20\", \"Topic20\", \"Topic20\", \"Topic20\", \"Topic20\", \"Topic20\", \"Topic20\", \"Topic20\", \"Topic20\", \"Topic20\", \"Topic20\", \"Topic20\", \"Topic20\", \"Topic20\", \"Topic20\", \"Topic20\", \"Topic20\", \"Topic20\", \"Topic20\", \"Topic20\", \"Topic20\", \"Topic20\", \"Topic20\", \"Topic20\", \"Topic20\", \"Topic20\", \"Topic20\", \"Topic20\", \"Topic20\", \"Topic20\", \"Topic21\", \"Topic21\", \"Topic21\", \"Topic21\", \"Topic21\", \"Topic21\", \"Topic21\", \"Topic21\", \"Topic21\", \"Topic21\", \"Topic21\", \"Topic21\", \"Topic21\", \"Topic21\", \"Topic21\", \"Topic21\", \"Topic21\", \"Topic21\", \"Topic21\", \"Topic21\", \"Topic21\", \"Topic21\", \"Topic21\", \"Topic21\", \"Topic21\", \"Topic21\", \"Topic21\", \"Topic21\", \"Topic21\", \"Topic21\", \"Topic21\", \"Topic21\", \"Topic21\", \"Topic21\", \"Topic21\", \"Topic21\", \"Topic21\", \"Topic21\", \"Topic21\", \"Topic21\", \"Topic21\", \"Topic21\", \"Topic21\", \"Topic21\", \"Topic21\", \"Topic21\", \"Topic21\", \"Topic21\", \"Topic22\", \"Topic22\", \"Topic22\", \"Topic22\", \"Topic22\", \"Topic22\", \"Topic22\", \"Topic22\", \"Topic22\", \"Topic22\", \"Topic22\", \"Topic22\", \"Topic22\", \"Topic22\", \"Topic22\", \"Topic22\", \"Topic22\", \"Topic22\", \"Topic22\", \"Topic22\", \"Topic22\", \"Topic22\", \"Topic22\", \"Topic22\", \"Topic22\", \"Topic22\", \"Topic22\", \"Topic22\", \"Topic22\", \"Topic22\", \"Topic22\", \"Topic22\", \"Topic22\", \"Topic22\", \"Topic22\", \"Topic22\", \"Topic22\", \"Topic22\", \"Topic22\", \"Topic22\", \"Topic22\", \"Topic22\", \"Topic23\", \"Topic23\", \"Topic23\", \"Topic23\", \"Topic23\", \"Topic23\", \"Topic23\", \"Topic23\", \"Topic23\", \"Topic23\", \"Topic23\", \"Topic23\", \"Topic23\", \"Topic23\", \"Topic23\", \"Topic23\", \"Topic23\", \"Topic23\", \"Topic23\", \"Topic23\", \"Topic23\", \"Topic23\", \"Topic23\", \"Topic23\", \"Topic23\", \"Topic23\", \"Topic23\", \"Topic23\", \"Topic23\", \"Topic23\", \"Topic23\", \"Topic23\", \"Topic23\", \"Topic23\", \"Topic23\", \"Topic23\", \"Topic23\", \"Topic23\", \"Topic23\", \"Topic23\", \"Topic23\", \"Topic24\", \"Topic24\", \"Topic24\", \"Topic24\", \"Topic24\", \"Topic24\", \"Topic24\", \"Topic24\", \"Topic24\", \"Topic24\", \"Topic24\", \"Topic24\", \"Topic24\", \"Topic24\", \"Topic24\", \"Topic24\", \"Topic24\", \"Topic24\", \"Topic24\", \"Topic24\", \"Topic24\", \"Topic24\", \"Topic24\", \"Topic24\", \"Topic24\", \"Topic24\", \"Topic24\", \"Topic24\", \"Topic24\", \"Topic24\", \"Topic24\", \"Topic24\", \"Topic24\", \"Topic24\", \"Topic24\", \"Topic24\", \"Topic24\", \"Topic24\", \"Topic24\", \"Topic24\", \"Topic25\", \"Topic25\", \"Topic25\", \"Topic25\", \"Topic25\", \"Topic25\", \"Topic25\", \"Topic25\", \"Topic25\", \"Topic25\", \"Topic25\", \"Topic25\", \"Topic25\", \"Topic25\", \"Topic25\", \"Topic25\", \"Topic25\", \"Topic25\", \"Topic25\", \"Topic25\", \"Topic25\", \"Topic25\", \"Topic25\", \"Topic25\", \"Topic25\", \"Topic25\", \"Topic25\", \"Topic25\", \"Topic25\", \"Topic25\", \"Topic25\", \"Topic25\", \"Topic25\", \"Topic25\", \"Topic25\", \"Topic25\", \"Topic25\", \"Topic26\", \"Topic26\", \"Topic26\", \"Topic26\", \"Topic26\", \"Topic26\", \"Topic26\", \"Topic26\", \"Topic26\", \"Topic26\", \"Topic26\", \"Topic26\", \"Topic26\", \"Topic26\", \"Topic26\", \"Topic26\", \"Topic26\", \"Topic26\", \"Topic26\", \"Topic26\", \"Topic26\", \"Topic26\", \"Topic26\", \"Topic26\", \"Topic26\", \"Topic26\", \"Topic26\", \"Topic26\", \"Topic26\", \"Topic26\", \"Topic26\", \"Topic26\", \"Topic26\", \"Topic26\", \"Topic26\", \"Topic26\", \"Topic26\", \"Topic26\", \"Topic26\", \"Topic26\", \"Topic26\", \"Topic26\", \"Topic26\", \"Topic26\", \"Topic26\", \"Topic26\", \"Topic26\", \"Topic27\", \"Topic27\", \"Topic27\", \"Topic27\", \"Topic27\", \"Topic27\", \"Topic27\", \"Topic27\", \"Topic27\", \"Topic27\", \"Topic27\", \"Topic27\", \"Topic27\", \"Topic27\", \"Topic27\", \"Topic27\", \"Topic27\", \"Topic27\", \"Topic27\", \"Topic27\", \"Topic27\", \"Topic27\", \"Topic27\", \"Topic27\", \"Topic27\", \"Topic27\", \"Topic27\", \"Topic27\", \"Topic27\", \"Topic27\", \"Topic27\", \"Topic27\", \"Topic27\", \"Topic27\", \"Topic27\", \"Topic27\", \"Topic27\", \"Topic27\", \"Topic27\", \"Topic27\", \"Topic27\", \"Topic27\", \"Topic27\", \"Topic27\", \"Topic27\", \"Topic28\", \"Topic28\", \"Topic28\", \"Topic28\", \"Topic28\", \"Topic28\", \"Topic28\", \"Topic28\", \"Topic28\", \"Topic28\", \"Topic28\", \"Topic28\", \"Topic28\", \"Topic28\", \"Topic28\", \"Topic28\", \"Topic28\", \"Topic28\", \"Topic28\", \"Topic28\", \"Topic28\", \"Topic28\", \"Topic28\", \"Topic28\", \"Topic28\", \"Topic28\", \"Topic28\", \"Topic28\", \"Topic28\", \"Topic28\", \"Topic28\", \"Topic28\", \"Topic28\", \"Topic28\", \"Topic28\", \"Topic28\", \"Topic28\", \"Topic28\", \"Topic28\", \"Topic28\", \"Topic28\", \"Topic28\", \"Topic28\", \"Topic28\", \"Topic29\", \"Topic29\", \"Topic29\", \"Topic29\", \"Topic29\", \"Topic29\", \"Topic29\", \"Topic29\", \"Topic29\", \"Topic29\", \"Topic29\", \"Topic29\", \"Topic29\", \"Topic29\", \"Topic29\", \"Topic29\", \"Topic29\", \"Topic29\", \"Topic29\", \"Topic29\", \"Topic29\", \"Topic29\", \"Topic29\", \"Topic29\", \"Topic29\", \"Topic29\", \"Topic29\", \"Topic29\", \"Topic29\", \"Topic29\", \"Topic29\", \"Topic29\", \"Topic29\", \"Topic29\", \"Topic29\", \"Topic29\", \"Topic29\", \"Topic29\", \"Topic29\", \"Topic29\", \"Topic29\", \"Topic29\", \"Topic29\", \"Topic29\", \"Topic29\", \"Topic30\", \"Topic30\", \"Topic30\", \"Topic30\", \"Topic30\", \"Topic30\", \"Topic30\", \"Topic30\", \"Topic30\", \"Topic30\", \"Topic30\", \"Topic30\", \"Topic30\", \"Topic30\", \"Topic30\", \"Topic30\", \"Topic30\", \"Topic30\", \"Topic30\", \"Topic30\", \"Topic30\", \"Topic30\", \"Topic30\", \"Topic30\", \"Topic30\", \"Topic30\", \"Topic30\", \"Topic30\", \"Topic30\", \"Topic30\", \"Topic30\", \"Topic30\", \"Topic30\", \"Topic30\", \"Topic30\", \"Topic30\", \"Topic30\", \"Topic30\", \"Topic30\", \"Topic30\", \"Topic30\", \"Topic30\", \"Topic30\", \"Topic30\", \"Topic30\", \"Topic30\", \"Topic30\", \"Topic30\", \"Topic30\", \"Topic30\", \"Topic30\", \"Topic30\", \"Topic30\", \"Topic30\", \"Topic30\", \"Topic30\", \"Topic30\"], \"logprob\": [30.0, 29.0, 28.0, 27.0, 26.0, 25.0, 24.0, 23.0, 22.0, 21.0, 20.0, 19.0, 18.0, 17.0, 16.0, 15.0, 14.0, 13.0, 12.0, 11.0, 10.0, 9.0, 8.0, 7.0, 6.0, 5.0, 4.0, 3.0, 2.0, 1.0, -4.6686, -7.7173, -6.5397, -0.9534, -8.2335, -2.358, -3.7948, -6.364, -1.5126, -3.8521, -5.8134, -7.7202, -2.3391, -7.1817, -6.5709, -5.9474, -3.2932, -4.8341, -2.8972, -9.1983, -3.877, -9.3027, -6.3144, -7.5479, -9.2477, -5.1629, -10.1276, -6.2009, -8.098, -12.7308, -7.6698, -5.8993, -6.8753, -8.2971, -8.6303, -7.5848, -8.2708, -3.9219, -7.8747, -3.4721, -8.9489, -6.5727, -1.4186, -4.446, -1.5106, -4.1094, -1.8518, -2.5254, -3.7592, -7.0183, -8.0214, -5.5077, -5.1886, -7.3047, -5.314, -3.5122, -5.0188, -4.1815, -3.7985, -6.6195, -7.0432, -3.7339, -6.764, -3.6562, -6.7137, -4.9268, -4.3694, -4.3936, -5.8532, -5.506, -6.2163, -6.3521, -7.5512, -1.0323, -7.9521, -7.952, -3.8133, -6.2501, -7.7192, -3.6917, -4.217, -4.8992, -2.5688, -6.9166, -1.7706, -2.5435, -7.6655, -6.9129, -5.0853, -4.7959, -6.5658, -2.5414, -7.8388, -5.2554, -4.3454, -7.2197, -5.8919, -6.4623, -5.4997, -4.2249, -6.5101, -7.5952, -6.2199, -3.6936, -4.8057, -3.9445, -3.8358, -5.7017, -4.8692, -6.3383, -5.9249, -6.0981, -6.2972, -8.3874, -8.3858, -1.1511, -4.2099, -4.2635, -1.7367, -6.8889, -7.6736, -6.8392, -1.7261, -8.3723, -2.6061, -4.41, -7.4923, -4.1981, -7.3538, -7.648, -3.5428, -6.9982, -7.4366, -4.3539, -6.685, -6.2316, -3.18, -3.2345, -7.1046, -4.5675, -4.4376, -6.5905, -6.3916, -5.7258, -4.7186, -6.136, -5.2374, -4.8561, -6.072, -5.9372, -6.7845, -6.1867, -2.921, -8.2821, -2.8726, -1.771, -2.9812, -1.3057, -4.3081, -1.9197, -2.8391, -7.8906, -4.911, -4.8706, -5.3615, -8.2383, -3.3337, -4.085, -3.248, -7.915, -11.5926, -11.6009, -11.6732, -11.6732, -11.6732, -4.5332, -11.6732, -11.6732, -11.6732, -11.6732, -11.6732, -11.6732, -4.0401, -4.2685, -5.9097, -6.8982, -4.8103, -6.8699, -7.8626, -7.2022, -6.0614, -8.6275, -6.1058, -7.7434, -7.6066, -7.4923, -7.4978, -7.8578, -5.5988, -5.1769, -6.7144, -8.1759, -3.2564, -4.9929, -1.6984, -6.1197, -6.6214, -2.5353, -3.4776, -2.0654, -5.032, -1.9484, -1.9615, -4.906, -4.5304, -6.6898, -5.8396, -5.0209, -2.6666, -5.7915, -3.4237, -8.1625, -5.953, -5.7311, -3.5368, -6.3595, -5.9233, -6.7297, -4.4808, -4.1137, -5.6719, -5.7532, -5.3155, -5.5644, -5.7479, -3.5128, -3.4039, -6.1289, -3.313, -4.3495, -6.8232, -5.4491, -6.7923, -4.1864, -2.9633, -3.6227, -1.0078, -2.4104, -8.1874, -7.2049, -5.6337, -5.6398, -8.1623, -6.9087, -5.0243, -2.2119, -7.4732, -7.0261, -2.6688, -5.1498, -3.9526, -3.8327, -3.4524, -7.5555, -3.7871, -5.571, -5.1536, -5.343, -5.0965, -6.1894, -6.0547, -6.6482, -6.6542, -5.9358, -0.3199, -2.0654, -2.7539, -3.4448, -7.5056, -5.7803, -3.7319, -11.5016, -11.5016, -11.5016, -11.5016, -11.5016, -11.5016, -11.5016, -11.5016, -11.5016, -11.5016, -11.5016, -11.5016, -11.5016, -4.7892, -6.374, -11.5016, -11.5016, -11.5016, -11.5016, -11.5016, -11.5016, -6.7046, -7.9679, -7.6285, -7.7518, -5.8596, -5.9661, -8.5706, -8.5261, -7.6707, -8.9244, -9.4938, -9.307, -10.6206, -9.0546, -10.6873, -10.1624, -10.5822, -10.4611, -10.9688, -10.447, -10.7669, -2.4809, -2.591, -3.1157, -5.1517, -4.2303, -4.5557, -5.5822, -2.9349, -3.0544, -3.3852, -5.9338, -1.0641, -3.889, -7.4544, -7.9631, -2.6936, -5.3991, -5.035, -7.0802, -5.1561, -6.0996, -7.131, -6.2167, -3.5524, -4.672, -8.1941, -3.5839, -4.6296, -6.5347, -11.1884, -7.1988, -3.7074, -3.98, -4.5677, -4.9818, -5.3907, -6.0436, -5.2903, -5.9734, -0.3348, -7.0195, -7.6911, -5.8902, -7.007, -6.5332, -3.929, -2.1722, -6.2029, -6.2213, -5.8678, -7.5681, -7.2987, -5.8795, -3.0097, -9.4945, -11.1224, -11.1224, -11.1224, -11.1224, -11.1224, -11.1224, -11.1224, -11.1224, -11.1224, -11.1224, -11.1224, -11.1224, -3.4056, -10.9448, -5.5917, -3.9347, -7.442, -6.6584, -5.8275, -5.29, -6.7491, -7.4023, -6.7238, -6.9956, -8.1815, -6.5201, -5.6925, -8.1423, -6.1682, -6.9863, -7.5436, -5.9969, -5.9988, -0.3901, -7.5792, -5.6978, -3.2436, -5.8386, -7.8729, -4.0523, -6.698, -5.5193, -7.2091, -7.0971, -7.8156, -5.2291, -7.7088, -6.7949, -4.3365, -5.2617, -4.7853, -3.8091, -7.8686, -3.1375, -4.0798, -4.288, -11.0087, -11.0087, -11.0087, -10.9661, -3.4088, -6.0532, -3.6266, -6.3499, -8.4435, -4.9821, -4.2722, -4.8592, -5.6514, -5.6348, -6.1566, -6.2645, -6.7113, -6.6301, -6.6614, -6.6362, -1.7855, -3.9049, -1.8518, -0.5294, -4.5562, -7.5853, -5.3091, -10.8245, -10.8245, -10.8245, -10.8245, -10.8245, -10.8245, -10.8245, -10.8245, -10.8245, -10.8245, -10.8245, -10.8245, -10.8245, -3.2797, -10.8245, -10.8245, -10.8245, -10.8245, -10.8245, -10.8245, -10.8245, -10.8245, -10.8245, -5.1859, -5.9488, -7.7413, -8.315, -10.8245, -10.8245, -10.8245, -10.8245, -10.8245, -10.8245, -10.8245, -10.8245, -10.8245, -10.8245, -10.8245, -10.8245, -10.8245, -10.8245, -10.8245, -10.8245, -10.8245, -10.8245, -0.2801, -1.8096, -6.3068, -5.9243, -3.6839, -6.9963, -10.8493, -10.8493, -10.8493, -10.8493, -10.8493, -10.8493, -10.8493, -10.8493, -10.8493, -10.8493, -10.8493, -10.8493, -10.8493, -5.5143, -10.8493, -10.8493, -10.8493, -10.8493, -10.8493, -10.8493, -10.8493, -10.8493, -10.8493, -6.4578, -3.7523, -6.8249, -4.8737, -6.6184, -6.6138, -6.2216, -9.2486, -6.5978, -7.6778, -6.6696, -7.788, -9.2515, -9.437, -8.8923, -9.7431, -9.4168, -9.551, -10.1076, -10.3452, -10.3304, -10.8492, -10.8492, -2.5031, -4.7783, -2.9701, -5.0276, -4.1896, -6.1181, -2.5678, -5.4262, -4.5956, -2.8213, -7.4297, -7.4299, -5.1388, -4.9072, -3.5094, -5.526, -4.2859, -3.2058, -6.7483, -4.7954, -6.7875, -6.0143, -4.6711, -3.0675, -4.0654, -6.3025, -2.2713, -5.0687, -6.1707, -7.2301, -4.6052, -2.65, -2.5717, -4.634, -3.5325, -3.2475, -3.8962, -4.761, -4.5943, -4.3086, -4.5969, -5.0596, -5.4301, -2.5969, -1.9021, -2.8104, -4.0243, -5.3002, -2.6543, -5.4408, -3.1456, -4.8393, -3.5017, -6.1621, -2.191, -2.7706, -5.3972, -4.2251, -3.4486, -6.5386, -5.4782, -3.4727, -4.3572, -5.9252, -4.5967, -6.4788, -3.8196, -6.525, -4.4198, -5.6658, -3.9877, -4.3619, -2.8171, -3.5176, -4.5124, -3.8492, -4.9557, -5.2147, -5.2458, -4.6258, -6.3732, -0.1289, -2.9936, -4.9223, -5.0723, -10.4798, -10.4798, -10.4798, -10.4798, -10.4798, -10.4798, -10.4798, -10.4798, -10.4798, -10.4798, -10.4798, -10.4798, -10.4798, -6.2229, -3.7386, -10.4798, -10.4798, -10.4798, -10.4798, -10.4798, -10.4798, -10.4798, -10.4798, -10.4798, -6.0921, -5.6858, -6.8472, -5.009, -7.3703, -8.2393, -7.7172, -10.0207, -10.1112, -10.1327, -10.2761, -10.2737, -10.3247, -10.3648, -10.3745, -10.3744, -10.3223, -10.3897, -10.351, -10.4156, -10.4243, -10.4248, -10.4235, -10.4241, -4.573, -5.0833, -5.6709, -4.0847, -3.2324, -5.5271, -7.25, -5.2448, -2.4455, -7.2496, -7.2469, -5.3142, -5.43, -6.5807, -2.7674, -4.908, -3.2797, -7.2482, -5.2345, -3.4739, -2.7618, -4.1001, -5.7404, -4.9048, -6.8038, -5.7541, -4.34, -4.2874, -4.1398, -3.7034, -4.9796, -2.3376, -3.2029, -2.9155, -3.1535, -2.6036, -3.2331, -4.5547, -3.7298, -3.7165, -3.8873, -4.1898, -4.8392, -4.9321, -5.0592, -3.6429, -1.1877, -4.2659, -5.0919, -4.0858, -5.6997, -1.7233, -2.6205, -4.0923, -3.6932, -2.4895, -4.4571, -6.4507, -2.9131, -5.7513, -4.7165, -4.3514, -6.9427, -6.8542, -7.3986, -6.5435, -10.5578, -10.5578, -10.5578, -10.5578, -10.5578, -5.1269, -10.5578, -10.5578, -10.5578, -3.1831, -5.4348, -5.391, -6.5419, -3.4945, -4.2385, -6.4777, -4.85, -4.7564, -5.4956, -5.2167, -4.6823, -5.7614, -6.3282, -6.1577, -6.3177, -4.2114, -0.4386, -2.112, -5.7393, -5.6583, -3.7361, -3.7744, -6.4587, -6.6189, -4.7085, -6.4891, -6.9249, -3.1877, -5.1065, -10.4812, -10.4812, -10.4812, -10.4812, -10.4502, -10.4812, -10.4812, -10.4812, -10.4812, -10.4812, -10.4812, -10.4812, -10.4812, -10.4812, -10.4812, -10.4392, -7.7443, -3.5304, -5.4165, -7.3558, -4.9606, -4.389, -4.4875, -6.7913, -5.4207, -7.7642, -5.3914, -6.6725, -8.4164, -7.06, -5.45, -6.4741, -5.8742, -6.1429, -6.0689, -6.5074, -6.9574, -2.8603, -2.5133, -4.1277, -2.0862, -3.2571, -5.6128, -4.6962, -6.2256, -5.9663, -1.6802, -5.5385, -4.7316, -4.7713, -4.8318, -3.0194, -6.6129, -6.9809, -4.6699, -4.5508, -2.6568, -7.8325, -5.8312, -7.541, -2.8251, -2.8785, -2.9719, -10.6216, -10.6216, -10.6216, -10.6216, -6.0281, -3.951, -3.9996, -4.3309, -4.8852, -3.7658, -5.5178, -4.209, -4.3026, -5.4701, -1.302, -2.4142, -1.4029, -1.7762, -4.5569, -3.8426, -4.2822, -4.3394, -3.4935, -7.7914, -5.8314, -5.1065, -10.4668, -10.4668, -10.4668, -10.4668, -10.4668, -10.4668, -10.4668, -10.4668, -10.4668, -10.4668, -10.4668, -10.4668, -10.4668, -3.8012, -4.8273, -10.4668, -10.4668, -10.4668, -4.8207, -5.9105, -7.1081, -3.4809, -6.4284, -3.9851, -6.5452, -6.1664, -5.0765, -5.1615, -5.2386, -7.0502, -7.1841, -7.2775, -8.1152, -6.6449, -7.771, -7.6416, -5.1807, -0.5158, -4.1851, -5.8666, -4.4947, -5.4689, -2.8795, -5.7723, -6.8406, -6.0186, -5.7984, -6.6826, -4.143, -3.6745, -6.796, -3.4726, -2.3703, -4.4857, -5.1249, -10.3768, -10.3768, -10.3768, -10.3768, -10.3768, -10.3768, -10.3768, -10.3768, -10.3768, -10.3768, -10.3768, -3.3689, -3.6422, -6.909, -3.9362, -6.1574, -5.2154, -5.281, -5.2547, -7.087, -7.6365, -5.9299, -6.8725, -2.4854, -2.867, -3.5866, -4.2154, -4.4512, -3.5716, -5.0496, -5.8041, -4.7627, -6.216, -6.8828, -5.7292, -6.1611, -4.6868, -3.5994, -5.7694, -7.3176, -4.0026, -2.0545, -5.3425, -8.3264, -1.7685, -4.0285, -4.0902, -6.1032, -3.4697, -4.9219, -6.3404, -3.1195, -7.052, -5.2612, -2.8431, -3.6037, -3.2277, -3.8423, -3.5854, -3.8652, -5.0224, -4.8538, -5.1598, -5.3617, -3.4177, -2.4593, -2.5498, -3.7053, -4.7137, -2.8352, -3.7321, -2.5901, -5.8044, -4.0261, -2.4561, -1.4513, -3.8839, -5.4152, -5.6037, -5.8832, -6.1513, -6.0602, -5.223, -5.8166, -5.3794, -4.2357, -5.8666, -6.4762, -6.6712, -5.1842, -5.5521, -10.3091, -10.3091, -10.3091, -3.698, -2.6051, -7.5213, -4.7796, -3.2963, -4.4325, -5.0493, -5.2701, -5.5445, -5.7794, -4.4544, -3.3318, -4.1013, -6.0434, -3.5571, -5.6396, -5.5457, -1.3423, -6.7222, -5.4209, -4.9709, -4.734, -5.285, -5.4923, -4.1165, -4.5598, -6.0103, -5.3975, -4.944, -6.4755, -4.1961, -5.2239, -3.5534, -5.7134, -6.4941, -4.8228, -1.9167, -2.6268, -4.7623, -1.9742, -3.3179, -4.9402, -4.3628, -5.1448, -4.3513, -4.9238, -4.9008, -1.4732, -5.6644, -4.3305, -6.0641, -4.2815, -6.3816, -5.2711, -6.7396, -3.6633, -3.7962, -5.7171, -3.7812, -4.7612, -5.728, -5.5413, -6.7263, -3.7612, -6.5209, -4.316, -3.0643, -5.008, -10.1744, -10.1744, -10.1744, -10.1558, -10.0953, -3.3421, -10.1744, -10.1744, -10.1744, -3.2261, -3.7366, -5.0908, -6.4436, -3.5849, -2.6885, -3.5667, -2.88, -3.1726, -3.1115, -3.5246, -3.4265, -3.2449, -4.8596, -4.7257, -5.4776, -5.5053, -1.7754, -3.4211, -2.4824, -2.2662, -5.7247, -5.7274, -2.3484, -4.7327, -5.1337, -4.4171, -5.7277, -4.8163, -4.9092, -5.3698, -2.0498, -3.98, -4.4438, -4.2156, -4.3475, -4.5655, -9.8328, -9.8328, -9.8328, -9.8328, -9.8328, -9.8328, -9.8328, -9.8328, -9.8328, -9.8328, -2.7567, -6.1638, -4.7496, -6.4371, -2.6633, -4.7486, -3.8039, -3.8995, -6.5027, -5.1887, -3.9804, -5.5791, -4.8313, -5.0721, -5.4133, -2.9454, -4.1859, -4.3181, -3.0595, -6.0989, -6.0989, -6.1002, -3.834, -3.5113, -6.1022, -4.1242, -4.7363, -3.284, -4.9726, -4.0582, -4.5856, -6.1004, -3.5743, -3.4092, -6.4846, -3.7297, -6.2084, -5.1962, -6.1159, -3.064, -3.9515, -5.6434, -9.5322, -9.5322, -9.5322, -2.5463, -2.8975, -3.1745, -2.8284, -3.4274, -3.6542, -3.2128, -4.3141, -3.7502, -3.78, -3.6953, -4.0356, -4.9288, -4.764, -1.7057, -1.8432, -1.148, -3.4141, -2.9261, -2.6278, -4.9974, -2.8874, -4.3852, -5.6707, -3.9327, -3.7934, -4.9757, -5.3154, -9.1036, -9.1036, -9.1036, -9.1036, -9.1036, -9.1036, -9.1036, -9.1036, -9.1036, -9.1036, -9.1036, -9.1036, -9.1036, -4.2019, -9.1036, -9.1036, -4.9951, -4.6785, -8.1236, -8.6123, -8.8896, -8.9762, -9.0197, -9.0555, -9.0563, -9.0566, -9.1036, -9.1036, -9.1036, -9.1036, -9.1036, -0.9537, -2.617, -3.326, -3.2304, -8.9701, -8.9701, -8.9701, -8.9701, -8.9701, -8.9701, -8.9701, -8.9701, -8.9701, -8.9701, -8.9701, -8.9701, -2.0524, -8.9701, -8.4018, -8.9701, -8.9701, -8.9701, -8.9701, -8.9701, -8.9701, -8.9701, -8.9701, -8.9701, -8.9701, -8.9701, -2.6488, -5.0869, -6.0358, -5.3978, -3.1983, -3.3048, -4.5275, -5.4384, -3.9084, -4.2143, -3.5292, -3.6285, -5.1125, -4.2788, -4.8174, -5.7681, -6.3195, -6.3977, -6.2763, -7.4978, -7.2443, -6.9877, -6.1014, -7.1204, -7.161, -6.846, -7.2163], \"loglift\": [30.0, 29.0, 28.0, 27.0, 26.0, 25.0, 24.0, 23.0, 22.0, 21.0, 20.0, 19.0, 18.0, 17.0, 16.0, 15.0, 14.0, 13.0, 12.0, 11.0, 10.0, 9.0, 8.0, 7.0, 6.0, 5.0, 4.0, 3.0, 2.0, 1.0, 1.6929, 1.6864, 1.6196, 1.5745, 1.5734, 1.5149, 1.4385, 1.1986, 1.0289, 0.9899, 0.8661, 0.785, 0.6197, 0.4873, 0.1722, 0.1466, 0.0959, 0.0141, -0.0638, -0.3727, -0.4022, -0.4064, -0.6318, -0.969, -1.2761, -1.295, -1.6148, -1.624, -1.6946, -2.1861, -2.2533, -3.2159, -3.9492, -3.7519, -3.0161, 2.0008, 1.8227, 1.7102, 1.5792, 1.5693, 1.546, 1.3242, 1.2648, 1.1622, 1.1194, 1.0707, 0.9816, 0.9067, 0.6649, 0.541, 0.4579, 0.4501, 0.2848, 0.1079, 0.1025, 0.0401, -0.068, -0.0851, -0.1228, -0.2479, -0.2827, -0.4371, -0.5228, -0.6974, -0.8903, -1.2302, -1.4433, -1.8521, -1.3743, -2.0312, -1.6711, -1.7752, 2.2763, 2.2644, 2.1601, 2.1593, 1.5967, 1.5614, 1.3978, 1.259, 1.1995, 1.0871, 0.9835, 0.9802, 0.9128, 0.8886, 0.8473, 0.6687, 0.4642, 0.3843, 0.346, 0.292, 0.2827, 0.218, 0.0787, -0.0342, -0.0686, -0.0908, -0.4584, -0.5492, -0.5522, -0.5779, -0.5878, -0.7348, -0.7093, -1.0184, -1.2943, -1.1248, -2.2392, -1.1029, -2.4501, -2.709, -2.6006, 2.1013, 2.1005, 1.8078, 1.4043, 1.1464, 1.0967, 1.0827, 0.8392, 0.8299, 0.8154, 0.7056, 0.6906, 0.6313, 0.4046, 0.226, 0.1992, -0.0337, -0.068, -0.1917, -0.2512, -0.2575, -0.2816, -0.4083, -0.4966, -0.6045, -0.7431, -0.8918, -1.0485, -1.1172, -1.1203, -1.1489, -1.2864, -1.1852, -1.6852, -1.93, -1.5268, -2.2405, -1.368, -3.6588, 2.6285, 2.1556, 2.0782, 1.9047, 1.443, 1.3242, 1.306, 0.7637, 0.7132, 0.6222, 0.5055, 0.3649, 0.1652, 0.056, -0.3748, -0.6529, -0.7065, -0.7448, -1.1059, -1.1143, -1.1284, -1.1284, -1.1288, -1.1441, -1.1552, -1.1783, -1.1845, -1.1859, -1.187, -1.1955, -1.2067, -1.3424, -1.4307, -1.3882, -1.5136, -1.8285, -1.6903, -1.7923, -1.9649, -1.821, -2.631, -2.4721, -3.0298, -3.7957, -4.9698, -2.6244, 2.6488, 2.5802, 2.4026, 2.3113, 2.2169, 2.1925, 1.7338, 1.5347, 1.2996, 1.1404, 0.9465, 0.8607, 0.7937, 0.735, 0.6685, 0.6039, 0.4204, 0.3275, 0.2544, 0.2145, 0.1668, 0.1664, 0.1285, -0.1561, -0.5365, -0.5509, -0.5779, -0.7453, -0.8599, -0.9064, -1.006, -1.5722, -1.1929, -1.208, -2.0188, -1.8678, -1.6515, 2.8905, 2.6901, 2.3762, 2.3696, 2.33, 2.2731, 2.1136, 2.089, 1.9719, 1.8848, 1.6106, 1.5201, 1.4625, 1.0755, 0.9543, 0.9452, 0.7217, 0.6633, 0.6506, 0.6078, 0.4716, 0.2839, -0.0174, -0.1273, -0.3078, -0.4003, -0.4436, -0.4936, -0.8124, -0.9537, -1.0259, -1.2857, -1.8683, -2.1704, -1.6125, -2.6226, -1.2383, -2.9785, 2.6309, 2.6062, 2.4136, 0.7984, 0.03, -0.1422, -0.7169, -0.773, -0.9568, -0.9568, -0.9572, -0.9836, -1.0067, -1.0129, -1.0143, -1.0149, -1.0149, -1.0154, -1.024, -1.0266, -1.0638, -1.0926, -1.2537, -1.3573, -1.3894, -1.3903, -1.3922, -1.4081, -1.4118, -1.4269, -1.7266, -2.1019, -2.5163, -3.2296, -3.2827, -2.7472, -2.9179, -4.8373, -3.8831, -3.9838, -4.7619, -2.8397, -6.5131, -2.9302, -4.6291, -4.5476, -5.1897, -3.3542, -7.0148, -7.4702, 3.0524, 2.8918, 2.8422, 2.8141, 2.5038, 2.4617, 2.4242, 2.2453, 2.1811, 1.9881, 1.9873, 1.5659, 1.2313, 1.096, 0.9907, 0.8587, 0.7731, 0.4917, 0.4728, 0.3539, 0.3236, 0.2816, 0.1549, 0.1233, -0.0951, -0.1176, -0.1517, -0.2055, -0.5383, -0.6437, -0.7297, -1.024, -1.1466, -2.0262, -2.0557, -1.6941, -1.0023, -2.3314, -2.4986, 3.0543, 3.0531, 2.7865, 2.261, 2.2049, 2.169, 1.6852, 1.5245, 1.3501, 1.1627, 0.9387, 0.5687, 0.2446, -0.3696, -0.4682, -0.5407, -0.5777, -0.5777, -0.5781, -0.6045, -0.6276, -0.6337, -0.6352, -0.6358, -0.6358, -0.6362, -0.6475, -0.6847, -0.7221, -0.9584, -1.0148, -1.1013, -1.0804, -1.5381, -1.731, -1.8579, -1.5874, -1.4445, -1.6825, -1.7242, -1.4474, -2.096, -2.7337, -1.7708, -3.6402, -4.0602, -3.6707, 3.3752, 3.3737, 3.0847, 2.8958, 2.199, 1.8198, 1.574, 1.512, 1.4577, 1.2177, 1.2149, 0.9276, 0.8745, 0.7349, 0.6905, 0.2711, 0.1137, 0.0876, -0.0816, -0.2402, -0.2568, -0.268, -0.3041, -0.3832, -0.4201, -0.464, -0.464, -0.4644, -0.4799, -0.4827, -0.5799, -0.6678, -0.7357, -0.7892, -1.3064, -1.7307, -2.1758, -2.2192, -3.0048, -2.0601, -2.8754, -1.1847, -2.1511, -2.0845, -3.3395, 3.5292, 3.4585, 2.7251, 2.0121, 0.9267, 0.4853, 0.0643, -0.2798, -0.2798, -0.2801, -0.3066, -0.3297, -0.3358, -0.3372, -0.3378, -0.3379, -0.3383, -0.3469, -0.3495, -0.3868, -0.6497, -0.6803, -0.7123, -0.7132, -0.7151, -0.731, -0.7347, -0.7518, -0.754, -0.7544, -1.5102, -1.8524, -2.5796, -3.8361, -4.905, -7.8984, -6.2793, -4.6522, -5.7611, -5.2912, -7.4354, -7.8657, -8.1411, -7.3497, -5.2163, -3.9159, -6.4004, -7.9911, -4.4581, -4.2382, -5.7042, -7.2722, 3.5877, 3.0324, 2.4785, 1.4597, 0.795, 0.5566, -0.3045, -0.3045, -0.3049, -0.3313, -0.3544, -0.3606, -0.362, -0.3626, -0.3626, -0.3631, -0.3717, -0.3743, -0.4115, -0.6662, -0.705, -0.7371, -0.738, -0.7398, -0.7558, -0.7595, -0.7766, -0.7787, -0.7792, -0.8257, -0.9189, -1.7835, -2.3322, -2.1943, -2.9381, -3.2628, -1.6859, -3.9144, -3.1009, -4.1416, -5.158, -3.7686, -3.4406, -5.5032, -4.5629, -6.4907, -6.1188, -4.4995, -4.187, -6.4575, -7.5525, -5.4328, 3.4933, 3.4537, 3.4531, 3.4517, 3.392, 3.2822, 3.2556, 3.1242, 3.1092, 3.0982, 3.057, 3.0567, 2.8676, 2.7472, 2.5252, 2.4539, 2.4482, 2.4024, 2.4024, 2.2219, 2.1663, 2.1224, 2.0894, 1.9959, 1.5667, 1.4692, 1.4044, 1.1725, 0.9802, 0.9212, 0.9047, 0.7821, 0.0583, 0.8489, -0.0577, -0.3214, -0.9373, -0.6645, -1.042, -1.7671, -1.2078, -0.4828, 3.6761, 3.6443, 3.6245, 3.5612, 3.535, 3.402, 3.3802, 3.3538, 3.3235, 3.2975, 3.2588, 3.1008, 3.0444, 2.8375, 2.7243, 2.6835, 2.4709, 2.2871, 2.2789, 2.0102, 2.0091, 1.8556, 1.8265, 1.8143, 1.7137, 1.6702, 1.5766, 1.5044, 1.1326, 1.0115, 0.7352, -0.0855, 0.551, -1.2192, 0.322, -0.6378, -1.3729, 3.7984, 3.6132, 3.5677, 2.2777, 1.1123, 0.4377, 0.0649, 0.0649, 0.0645, 0.0381, 0.015, 0.0088, 0.0074, 0.0068, 0.0068, 0.0064, -0.0022, -0.0049, -0.0421, -0.2265, -0.3065, -0.3356, -0.3676, -0.3686, -0.3704, -0.3864, -0.3901, -0.4072, -0.4093, -0.4098, -0.4779, -1.1089, -1.1645, -2.379, -1.8437, -1.9981, -4.4205, -7.0946, -6.4355, -7.4493, -5.0407, -5.2103, -4.7753, -3.6584, -3.6139, -4.0029, -6.77, -4.0233, -7.8095, -4.7835, -4.601, -5.1471, -5.9994, -7.5907, 3.8986, 3.8556, 3.7735, 3.7131, 3.5741, 3.2985, 3.2679, 3.0483, 2.9644, 2.8947, 2.8625, 2.8371, 2.6915, 2.6822, 2.6491, 2.6352, 2.3344, 2.1522, 1.9509, 1.7063, 1.6623, 1.3828, 1.2769, 1.2675, 1.1621, 1.1544, 1.1333, 1.0273, 0.9804, 0.8735, 0.8437, 0.2924, 0.4727, 0.3812, 0.2786, -0.0621, -0.307, 0.4867, -0.8964, -1.0331, -0.9285, -0.6375, -1.1426, -1.4573, -1.6701, 3.9817, 3.9739, 3.9693, 3.8908, 3.6859, 3.6852, 3.548, 3.3659, 3.2272, 3.2153, 3.0205, 2.713, 2.0998, 1.6638, 0.9828, 0.9155, 0.884, 0.8393, 0.7601, 0.1544, 0.1396, -0.013, -0.013, -0.0134, -0.0398, -0.0629, -0.0635, -0.0691, -0.0705, -0.0711, -0.2243, -0.2547, -0.3497, -0.3696, -0.6611, -0.6862, -0.4432, -0.7535, -1.3243, -0.9504, -1.5201, -2.1408, -3.1315, -1.0136, -2.6829, -2.9286, 3.7873, 3.6578, 2.4649, 2.4559, 2.2471, 1.7971, 1.7356, 1.6925, 1.5178, 1.2494, 1.0542, 0.4385, 0.2014, 0.1648, 0.0636, 0.0636, 0.0632, 0.0368, 0.036, 0.0137, 0.0075, 0.0061, 0.0055, 0.0055, -0.0036, -0.0062, -0.0434, -0.3369, -0.369, -0.3691, -0.5934, -0.9889, -0.9924, -0.7286, -1.285, -1.4302, -1.6541, -1.1086, -1.7241, -0.9577, -1.9166, -1.4392, -0.8158, -1.6435, -2.7665, -2.6063, -3.3463, -3.2168, -3.4389, -3.2107, -3.4051, 4.0023, 3.9915, 3.9429, 3.9302, 3.8229, 3.5379, 3.2837, 3.0455, 2.9299, 2.7987, 2.7546, 2.6523, 2.6413, 2.3536, 2.022, 1.6347, 1.5696, 1.2496, 0.9226, 0.8955, 0.8696, 0.7551, 0.7533, 0.6497, -0.0451, -0.0458, -0.0768, -0.0768, -0.0772, -0.1036, -0.2024, -0.2754, -0.3029, -0.4631, -0.4611, -0.807, -0.3975, -1.5256, -1.6726, -2.038, 3.9757, 3.7581, 3.7174, 3.5972, 3.1478, 2.6265, 1.6373, 1.4839, 0.2031, 0.1744, 0.165, 0.1648, 0.078, 0.078, 0.0776, 0.0512, 0.0281, 0.0219, 0.0205, 0.0199, 0.0199, 0.0194, 0.0109, 0.0082, -0.029, -0.1255, -0.2821, -0.3225, -0.3546, -0.3555, -0.3965, -0.494, -0.5219, -0.851, -0.8202, -1.4436, -1.0352, -1.5895, -2.1177, -2.3281, -2.3125, -1.5673, -1.6508, -1.7509, -1.4628, -2.5484, -2.7296, -5.1136, 4.0332, 4.0294, 3.8783, 3.6799, 3.5901, 3.4273, 2.8032, 2.7944, 2.0407, 1.9024, 1.8706, 1.7417, 1.3669, 1.1737, 0.8584, 0.6239, 0.4631, 0.3563, 0.2916, 0.168, 0.168, 0.1676, 0.1411, 0.1181, 0.1119, 0.1105, 0.1099, 0.1098, 0.1094, 0.1008, -0.41, -1.1007, -0.5057, -1.4082, -0.8861, -1.8263, -1.8062, -2.5713, -1.8536, -1.6202, -3.0038, -3.1759, 4.1418, 4.0448, 4.0277, 3.7563, 3.744, 3.5986, 3.4631, 3.2923, 3.0488, 2.9958, 2.6637, 2.5029, 2.3963, 2.3933, 2.387, 1.885, 1.7886, 1.524, 1.4978, 1.0807, 1.074, 1.0649, 1.0349, 0.9512, 0.7033, 0.6268, 0.5515, 0.4201, 0.3127, 0.2675, 0.2487, -0.2131, -0.1289, -0.2688, -0.1666, -0.6593, -1.3237, 0.1577, -0.4296, -1.4632, -0.084, 4.1969, 4.1931, 4.1565, 4.1451, 4.1271, 4.0647, 4.0487, 3.9888, 3.9585, 3.7559, 3.7021, 3.3968, 2.7992, 2.6482, 2.0653, 1.9284, 1.8551, 1.8452, 1.7857, 1.3688, 1.3547, 1.1808, 1.1508, 1.0864, 0.8721, 0.3257, 0.2712, 0.2357, 0.2357, 0.2353, 0.1749, -0.0771, 0.093, -0.2027, -0.7548, -1.4737, -1.497, -1.838, -2.0697, -2.3903, 4.3415, 4.2688, 4.193, 4.0464, 3.9958, 3.733, 3.7254, 3.7211, 3.3872, 3.3737, 3.1506, 2.9204, 2.7137, 2.659, 2.6441, 2.3401, 2.2828, 2.1841, 2.0734, 1.7721, 1.7618, 1.6847, 1.68, 1.6706, 1.4217, 1.3495, 1.0093, 0.9255, 0.9203, 0.6558, -0.3591, 0.1801, -0.9306, 0.2286, -1.8098, -1.449, -2.2174, 4.3525, 4.2547, 3.5905, 3.3899, 3.1312, 2.4036, 2.3294, 1.7656, 1.7532, 1.6771, 1.6463, 1.2602, 1.2251, 1.1806, 1.165, 0.8267, 0.7178, 0.6645, 0.6348, 0.6324, 0.4019, 0.3703, 0.3703, 0.37, 0.3621, 0.3424, 0.3336, 0.3204, 0.3143, 0.3129, 0.2487, 0.1312, 0.1446, 0.1836, -0.0326, -0.147, -0.1346, -0.25, -0.2465, -0.2781, -0.2279, -0.4676, -0.5615, -0.7632, -1.3366, -0.9007, -0.9601, 4.701, 4.6553, 4.5263, 4.477, 4.3453, 4.3432, 4.3347, 4.0525, 3.7476, 3.5487, 3.4842, 2.9815, 2.9024, 2.1735, 1.8231, 1.7027, 1.1704, 0.9645, 0.8859, 0.851, 0.7119, 0.7119, 0.7116, 0.6851, 0.662, 0.6559, 0.6545, 0.6538, 0.6538, 0.6534, 0.6324, 0.4886, 0.3707, 0.4255, -0.1218, 0.0995, -0.1073, -0.6028, -0.1412, -0.6118, -1.0216, -0.5377, -2.3034, -2.3887, -2.5799, 4.9703, 4.892, 4.6357, 4.4838, 4.4458, 4.4458, 4.4442, 4.2508, 4.1578, 4.0421, 3.2884, 3.2436, 2.7323, 2.1976, 2.1831, 2.1486, 2.0588, 2.0578, 1.8621, 1.8085, 1.7436, 1.7127, 1.7124, 1.6412, 1.5129, 1.2287, 1.1631, 0.9857, 0.9626, 0.9565, 0.8858, 0.4916, 0.5012, 0.005, 0.0474, -0.1019, -0.5293, 0.1101, -0.8241, -0.8212, -1.1538, -1.4056, 0.6044, -1.0674, 5.3684, 5.3076, 5.2184, 5.1432, 4.9793, 4.6917, 4.3752, 3.5817, 3.3865, 2.6236, 2.4389, 1.8208, 1.7074, 1.4911, 1.4412, 1.4412, 1.4408, 1.4143, 1.3913, 1.3851, 1.3837, 1.3831, 1.383, 1.3826, 1.374, 1.3714, 1.3341, 1.3314, 1.0406, 1.0086, -1.5203, -1.7524, -5.5957, -4.5158, -3.6563, -6.1428, -6.0608, -5.6664, -5.3807, -3.7853, -3.1841, -4.5584, -2.9313, -4.0402, -6.4736, 5.6326, 4.767, 4.4561, 3.4491, 1.5746, 1.5746, 1.5743, 1.5478, 1.5247, 1.5186, 1.5172, 1.5165, 1.5165, 1.5161, 1.5075, 1.5049, 1.4998, 1.4676, 1.4051, 1.1741, 1.1421, 1.1411, 1.1393, 1.1234, 1.1197, 1.1025, 1.1004, 1.1, 1.0163, 0.949, 0.31, 0.4397, 0.4406, 0.2164, -0.3649, -0.3787, -0.1033, 0.0715, -0.4336, -0.5386, -1.0012, -1.087, -1.0161, -1.5954, -1.5207, -1.8952, -1.4713, -1.9187, -2.8441, -0.8706, -1.2864, -1.7522, -3.4714, -1.8058, -2.2103, -3.4569, -2.3744]}, \"token.table\": {\"Topic\": [1, 4, 7, 11, 24, 14, 18, 29, 11, 14, 15, 20, 28, 11, 1, 2, 3, 4, 5, 6, 7, 8, 9, 10, 11, 13, 14, 15, 17, 18, 19, 20, 21, 22, 23, 24, 26, 27, 28, 30, 4, 9, 10, 13, 18, 25, 26, 5, 6, 9, 11, 14, 15, 20, 21, 1, 7, 28, 9, 14, 17, 27, 1, 4, 7, 11, 13, 14, 19, 20, 24, 26, 20, 22, 28, 20, 27, 1, 2, 3, 4, 5, 6, 7, 8, 9, 10, 11, 14, 15, 17, 19, 20, 21, 22, 23, 24, 25, 26, 28, 29, 30, 4, 5, 10, 14, 15, 17, 19, 23, 28, 29, 20, 23, 22, 18, 24, 30, 14, 23, 6, 1, 2, 3, 4, 6, 7, 10, 11, 14, 17, 18, 19, 20, 21, 22, 23, 26, 28, 11, 25, 26, 9, 14, 15, 17, 23, 28, 7, 15, 18, 24, 27, 29, 14, 18, 23, 29, 17, 3, 14, 25, 26, 3, 1, 2, 3, 4, 5, 6, 7, 9, 10, 11, 12, 14, 15, 17, 18, 19, 20, 21, 22, 23, 24, 25, 26, 28, 30, 3, 6, 9, 22, 26, 28, 8, 9, 14, 15, 17, 21, 23, 25, 1, 1, 7, 15, 17, 28, 15, 25, 15, 17, 20, 25, 28, 17, 9, 15, 25, 29, 2, 3, 5, 9, 14, 17, 18, 20, 21, 25, 2, 14, 4, 25, 27, 7, 23, 2, 27, 22, 24, 15, 23, 2, 3, 4, 6, 8, 9, 11, 14, 15, 17, 18, 20, 23, 24, 25, 26, 28, 20, 21, 30, 2, 3, 4, 5, 6, 8, 9, 11, 13, 14, 17, 20, 23, 25, 26, 28, 5, 17, 25, 8, 22, 1, 2, 3, 4, 5, 7, 10, 11, 13, 14, 19, 21, 22, 23, 24, 25, 26, 27, 28, 30, 24, 15, 19, 23, 7, 15, 17, 2, 3, 2, 3, 10, 12, 14, 17, 18, 19, 22, 25, 5, 20, 25, 29, 25, 29, 9, 10, 14, 15, 17, 19, 21, 25, 28, 29, 24, 1, 4, 7, 22, 27, 2, 3, 5, 26, 28, 7, 22, 27, 10, 2, 8, 11, 14, 15, 23, 25, 28, 3, 9, 10, 11, 14, 18, 23, 24, 28, 6, 14, 20, 25, 6, 14, 22, 23, 25, 11, 10, 5, 15, 18, 23, 28, 18, 2, 3, 4, 5, 6, 7, 9, 11, 14, 15, 16, 17, 19, 20, 22, 23, 26, 27, 28, 30, 1, 2, 3, 4, 5, 6, 7, 10, 11, 14, 17, 18, 19, 20, 22, 23, 24, 25, 26, 27, 28, 10, 15, 17, 28, 2, 3, 4, 5, 6, 7, 8, 9, 10, 11, 12, 13, 14, 15, 16, 17, 18, 19, 20, 21, 23, 24, 25, 26, 28, 30, 1, 7, 30, 9, 27, 30, 1, 24, 25, 17, 27, 2, 26, 2, 3, 5, 8, 9, 10, 15, 17, 20, 21, 23, 25, 26, 27, 28, 9, 14, 28, 19, 25, 17, 24, 1, 15, 23, 24, 26, 14, 15, 19, 23, 26, 11, 25, 28, 1, 2, 3, 4, 5, 6, 7, 8, 9, 10, 11, 13, 14, 17, 18, 19, 20, 21, 22, 23, 24, 25, 26, 27, 28, 30, 10, 14, 17, 19, 25, 2, 6, 9, 14, 15, 16, 21, 1, 25, 1, 7, 13, 22, 23, 26, 28, 3, 20, 26, 1, 2, 3, 4, 5, 6, 7, 8, 9, 11, 14, 15, 17, 18, 19, 20, 23, 24, 25, 26, 27, 28, 30, 1, 2, 3, 4, 5, 6, 7, 8, 9, 10, 11, 13, 14, 15, 17, 18, 19, 20, 22, 23, 24, 25, 26, 27, 28, 30, 2, 9, 12, 17, 18, 26, 28, 12, 20, 7, 14, 15, 24, 28, 14, 15, 21, 4, 28, 2, 7, 15, 1, 2, 3, 4, 5, 6, 7, 8, 9, 10, 11, 14, 15, 17, 18, 19, 20, 22, 23, 24, 25, 26, 28, 29, 30, 3, 10, 13, 14, 20, 25, 30, 2, 3, 8, 9, 14, 15, 17, 21, 26, 28, 7, 15, 24, 27, 14, 19, 24, 29, 2, 3, 17, 23, 24, 27, 2, 3, 4, 5, 6, 9, 10, 14, 15, 16, 17, 18, 19, 21, 22, 23, 26, 28, 20, 25, 11, 14, 15, 17, 18, 25, 26, 28, 2, 3, 9, 12, 14, 15, 17, 21, 23, 26, 28, 1, 3, 6, 7, 1, 2, 3, 4, 5, 6, 9, 14, 17, 20, 26, 28, 16, 22, 9, 27, 2, 3, 9, 10, 14, 15, 29, 2, 3, 6, 9, 10, 14, 19, 25, 28, 9, 11, 14, 18, 20, 17, 13, 26, 27, 2, 3, 4, 11, 1, 3, 4, 7, 15, 16, 19, 22, 23, 25, 27, 3, 4, 5, 23, 2, 3, 4, 5, 6, 7, 9, 10, 11, 14, 15, 16, 17, 18, 19, 20, 23, 24, 25, 26, 28, 2, 3, 4, 5, 6, 9, 10, 13, 17, 18, 20, 21, 23, 26, 27, 28, 3, 6, 16, 1, 5, 7, 10, 15, 24, 25, 27, 30, 15, 24, 10, 11, 14, 15, 19, 10, 23, 27, 24, 22, 23, 2, 4, 5, 6, 9, 10, 11, 14, 16, 18, 19, 21, 22, 23, 24, 25, 26, 28, 30, 8, 12, 19, 26, 9, 14, 15, 21, 29, 1, 4, 7, 10, 27, 1, 2, 3, 4, 5, 6, 10, 11, 16, 17, 26, 27, 28, 29, 30, 11, 18, 14, 11, 14, 15, 16, 18, 23, 25, 28, 2, 3, 6, 7, 9, 13, 14, 17, 18, 23, 25, 26, 28, 2, 3, 6, 9, 14, 17, 18, 20, 26, 2, 3, 4, 6, 9, 11, 14, 15, 17, 20, 23, 26, 28, 11, 4, 14, 4, 17, 18, 23, 24, 18, 1, 2, 3, 4, 5, 7, 17, 26, 1, 2, 3, 4, 5, 6, 7, 8, 9, 10, 11, 14, 15, 16, 17, 18, 19, 20, 21, 22, 23, 25, 26, 27, 28, 14, 17, 3, 2, 3, 4, 5, 6, 7, 9, 11, 12, 13, 14, 15, 17, 19, 20, 21, 23, 25, 26, 28, 30, 1, 7, 26, 2, 9, 11, 14, 20, 26, 28, 1, 5, 7, 19, 22, 25, 27, 1, 2, 3, 4, 5, 6, 7, 9, 17, 19, 20, 21, 22, 23, 24, 26, 27, 2, 3, 4, 5, 6, 8, 9, 11, 14, 15, 17, 18, 19, 23, 25, 26, 2, 3, 4, 5, 6, 9, 11, 17, 18, 20, 23, 25, 26, 27, 28, 6, 9, 14, 24, 6, 7, 15, 28, 17, 1, 4, 6, 7, 13, 19, 22, 24, 25, 27, 24, 27, 14, 19, 29, 3, 15, 17, 25, 1, 2, 3, 4, 5, 7, 9, 10, 11, 12, 13, 14, 15, 16, 17, 18, 19, 20, 21, 22, 23, 24, 25, 26, 27, 28, 23, 29, 2, 9, 12, 14, 15, 17, 18, 21, 24, 25, 1, 4, 22, 24, 28, 3, 4, 6, 9, 17, 20, 24, 26, 1, 20, 22, 2, 14, 15, 23, 25, 2, 3, 6, 9, 14, 17, 23, 24, 25, 18, 3, 4, 6, 14, 15, 17, 18, 23, 26, 3, 4, 17, 23, 1, 2, 3, 4, 5, 6, 7, 9, 10, 11, 12, 13, 14, 17, 18, 19, 21, 22, 23, 24, 25, 26, 27, 28, 30, 14, 29, 2, 3, 4, 6, 8, 9, 11, 14, 15, 17, 21, 23, 24, 26, 28, 1, 7, 24, 1, 2, 4, 11, 23, 1, 7, 27, 22, 28, 14, 20, 3, 5, 6, 8, 9, 11, 15, 16, 17, 21, 23, 28, 30, 1, 2, 3, 4, 5, 6, 7, 9, 10, 11, 13, 14, 17, 19, 20, 21, 23, 26, 28, 30, 10, 17, 19, 24, 27, 28, 28, 28], \"Freq\": [0.06073900599896951, 0.010123167666494919, 0.13160117966443394, 0.010123167666494919, 0.7794839103201088, 0.10010353616374107, 0.7007247531461874, 0.13347138155165475, 0.04109280429104239, 0.2876496300372967, 0.04109280429104239, 0.4520208472014663, 0.16437121716416955, 0.8270064496787266, 0.14492187591102737, 0.2896046068123006, 0.10235406417478501, 0.18772883265702392, 0.018653310760825305, 0.06002539744829682, 0.019370745790087816, 0.0004782900195083412, 0.010522380429183506, 0.010522380429183506, 0.021044760858367012, 0.009804945399920995, 0.0019131600780333648, 0.0004782900195083412, 0.007652640312133459, 0.009326655380412652, 0.0033480301365583884, 0.01674015068279194, 0.0016740150682791942, 0.02415364598517123, 0.04256781173624236, 0.0002391450097541706, 0.007652640312133459, 0.0007174350292625118, 0.005739480234100094, 0.002391450097541706, 0.08043717960032581, 0.053624786400217214, 0.13406196600054304, 0.053624786400217214, 0.026812393200108607, 0.6434974368026065, 0.026812393200108607, 0.0052352838874768215, 0.0052352838874768215, 0.0052352838874768215, 0.05758812276224504, 0.5339989565226358, 0.235587774936457, 0.06282340664972186, 0.08899982608710597, 0.7865939213088016, 0.1474863602454003, 0.0491621200818001, 0.5672431681439565, 0.04051736915313975, 0.04051736915313975, 0.324138953225118, 0.04238823421360634, 0.000672829114501688, 0.014129411404535447, 0.018839215206047262, 0.8982268678597534, 0.000672829114501688, 0.001345658229003376, 0.010765265832027008, 0.000672829114501688, 0.011438094946528695, 0.8939620498732477, 0.005767497095956436, 0.08651245643934655, 0.967962765805173, 0.013443927302849625, 0.002886070847674612, 0.02571226755201018, 0.02754885809143948, 0.009182952697146493, 0.01626694477780236, 0.12016549529408839, 0.005772141695349224, 0.6632715548110382, 0.004197921232981254, 0.0005247401541226568, 0.017578795163109, 0.017316425086047672, 0.0010494803082453136, 0.013905614084250404, 0.0007871102311839851, 0.016791684931925017, 0.0015742204623679702, 0.0007871102311839851, 0.007608732234778523, 0.0007871102311839851, 0.032009149401482064, 0.00813347238890118, 0.0023613306935519555, 0.0007871102311839851, 0.0023613306935519555, 0.050840600180074975, 0.012710150045018744, 0.07626090027011247, 0.050840600180074975, 0.03813045013505623, 0.6736379523859934, 0.012710150045018744, 0.025420300090037488, 0.012710150045018744, 0.025420300090037488, 0.802038728743727, 0.16709140182160978, 0.8468981821103343, 0.033714889870318315, 0.6068680176657297, 0.30343400883286487, 0.7402669481375115, 0.15862863174375247, 0.5043109359232747, 0.003973671251190574, 0.01986835625595287, 0.0026491141674603825, 0.013245570837301913, 0.014570127921032103, 0.018543799172222677, 0.0013245570837301913, 0.02251747042341325, 0.006622785418650957, 0.003973671251190574, 0.006622785418650957, 0.0013245570837301913, 0.003973671251190574, 0.013245570837301913, 0.8583129902571639, 0.0013245570837301913, 0.003973671251190574, 0.003973671251190574, 0.028120332930834272, 0.8436099879250282, 0.11248133172333709, 0.04331740781263111, 0.7623863775023076, 0.12128874187536712, 0.008663481562526222, 0.04331740781263111, 0.008663481562526222, 0.022469959808924217, 0.011234979904462108, 0.022469959808924217, 0.23593457799370426, 0.6740987942677265, 0.022469959808924217, 0.02123049976255357, 0.445840495013625, 0.02123049976255357, 0.4883014945387321, 0.9406268577245209, 0.13796121100423053, 0.7173982972219988, 0.11036896880338443, 0.8572097457213137, 0.6925096427666874, 0.0008456587350086089, 0.09978773073101584, 0.03720898434037879, 0.0482025478954907, 0.008456587350086088, 0.010147904820103306, 0.0008456587350086089, 0.0016913174700172178, 0.0059196111450602615, 0.0033826349400344355, 0.004228293675043044, 0.012684881025129132, 0.0008456587350086089, 0.0059196111450602615, 0.008456587350086088, 0.6841379166219645, 0.0008456587350086089, 0.0016913174700172178, 0.0287523969902927, 0.027906738255284093, 0.0008456587350086089, 0.0008456587350086089, 0.005073952410051653, 0.0016913174700172178, 0.0008456587350086089, 0.03874345302190608, 0.19371726510953038, 0.23246071813143648, 0.11623035906571824, 0.38743453021906077, 0.03874345302190608, 0.01102204049521296, 0.01102204049521296, 0.019288570866622678, 0.027555101238032398, 0.00275551012380324, 0.9010518104836595, 0.013777550619016199, 0.00551102024760648, 0.8532665450161535, 0.09573294729854256, 0.09573294729854256, 0.19146589459708513, 0.47866473649271285, 0.5339358812106724, 0.556867835278595, 0.3712452235190633, 0.11240949141146915, 0.393433219940142, 0.28102372852867286, 0.11240949141146915, 0.056204745705734575, 0.5200097183399779, 0.008184738789388952, 0.14732529820900114, 0.008184738789388952, 0.8266586177282842, 0.006740834598355484, 0.020222503795066453, 0.013481669196710969, 0.07414918058191033, 0.026963338393421937, 0.06740834598355484, 0.013481669196710969, 0.006740834598355484, 0.7212693020240368, 0.04718584218848839, 0.2031233104513756, 0.7447854716550439, 0.5037708886481704, 0.6777848929097369, 0.6648758574270602, 0.5019575649565085, 0.37646817371738134, 0.5081385149875544, 0.6645647830019648, 0.7594072662169341, 0.2233550782990983, 0.7604186926228518, 0.1267364487704753, 0.006672021753149574, 0.002224007251049858, 0.002224007251049858, 0.02224007251049858, 0.02446407976154844, 0.002224007251049858, 0.1756965728329388, 0.17792058008398864, 0.03558411601679773, 0.002224007251049858, 0.017792058008398864, 0.002224007251049858, 0.042256137769947306, 0.002224007251049858, 0.48260957347781924, 0.004448014502099716, 0.002224007251049858, 0.04079246109998741, 0.010198115274996852, 0.9280284900247135, 0.027273574557304385, 0.004958831737691707, 0.0037191238032687796, 0.014876495213075118, 0.014876495213075118, 0.5467111990805106, 0.0024794158688458533, 0.0037191238032687796, 0.05454714911460877, 0.006198539672114633, 0.0024794158688458533, 0.2888519487205419, 0.0012397079344229267, 0.0012397079344229267, 0.02107503488518975, 0.0037191238032687796, 0.4799350039095255, 0.3456183205348104, 0.3456183205348104, 0.6650136187164676, 0.22167120623882255, 0.7453274623013781, 0.00017620034569772533, 0.00035240069139545066, 0.0015858031112795281, 0.00035240069139545066, 0.22888424906134522, 0.0008810017284886267, 0.000528601037093176, 0.00035240069139545066, 0.00017620034569772533, 0.0007048013827909013, 0.00017620034569772533, 0.003700207259652232, 0.00017620034569772533, 0.013391226273027126, 0.00035240069139545066, 0.00035240069139545066, 0.0008810017284886267, 0.00035240069139545066, 0.0012334024198840774, 0.9695899578202266, 0.10192776421507004, 0.20385552843014007, 0.6115665852904203, 0.14823758991303326, 0.4447127697390998, 0.2964751798260665, 0.68031077262832, 0.7820984951297729, 0.004907173387880159, 0.0024535866939400797, 0.007360760081820239, 0.0024535866939400797, 0.014721520163640478, 0.004907173387880159, 0.9519916372487509, 0.0024535866939400797, 0.0024535866939400797, 0.0024535866939400797, 0.05627456992561359, 0.05627456992561359, 0.7878439789585903, 0.05627456992561359, 0.4962704085896012, 0.3308469390597341, 0.7044735479164677, 0.0035579472116993313, 0.02134768327019599, 0.11029636356267927, 0.007115894423398663, 0.10673841635097994, 0.0035579472116993313, 0.007115894423398663, 0.010673841635097995, 0.017789736058496656, 0.874751795762239, 0.025479064999166103, 0.050958129998332206, 0.9002602966372023, 0.008493021666388701, 0.008493021666388701, 0.0036159697343053124, 0.12294297096638063, 0.8642167664989697, 0.0036159697343053124, 0.0036159697343053124, 0.4048327408089231, 0.10120818520223078, 0.4048327408089231, 0.6662869928622588, 0.064998040753661, 0.007222004528184556, 0.007222004528184556, 0.07944204981003011, 0.7583104754593784, 0.014444009056369111, 0.007222004528184556, 0.05055403169729189, 0.011822971841066158, 0.40198104259624934, 0.011822971841066158, 0.09458377472852926, 0.2837513241855878, 0.04729188736426463, 0.011822971841066158, 0.059114859205330786, 0.04729188736426463, 0.6981874744608956, 0.05370672880468427, 0.10741345760936855, 0.05370672880468427, 0.2373968591398033, 0.3857698961021804, 0.029674607392475412, 0.08902382217742623, 0.2077222517473279, 0.49814631364585904, 0.49946193047484366, 0.036569332936199045, 0.09142333234049761, 0.27426999702149285, 0.5302553275748861, 0.05485399940429857, 0.9548197059522803, 0.06993418498282346, 0.7354491735965402, 0.12504536336602673, 0.013682775322726328, 0.006841387661363164, 0.00038007709229795355, 0.00038007709229795355, 0.0011402312768938607, 0.001900385461489768, 0.00038007709229795355, 0.00038007709229795355, 0.02774562773775061, 0.0007601541845959071, 0.0007601541845959071, 0.00038007709229795355, 0.00038007709229795355, 0.007981618938257025, 0.004941002199873396, 0.00038007709229795355, 0.0007601541845959071, 0.17008181994937135, 0.002501203234549579, 0.005002406469099158, 0.022093961905187948, 0.020009625876396632, 0.002501203234549579, 0.03209877484338626, 0.6769923421514193, 0.0016674688230330526, 0.007086742497890474, 0.0037518048518243685, 0.0008337344115165263, 0.021677094699429685, 0.00041686720575826315, 0.002501203234549579, 0.00041686720575826315, 0.0012506016172747895, 0.00041686720575826315, 0.002501203234549579, 0.016674688230330525, 0.00917107852668179, 0.25382929759538836, 0.5922683610559062, 0.3578629127689441, 0.3578629127689441, 0.33230445120125873, 0.008195412184646427, 0.03434267963089931, 0.23415463384704077, 0.09932059052345313, 0.00019512886153920066, 0.0019512886153920065, 0.15942027987752694, 0.00019512886153920066, 0.0013659020307744045, 0.013854149169283247, 0.00019512886153920066, 0.025561880861635286, 0.00585386584617602, 0.001756159753852806, 0.025366752000096086, 0.0007805154461568027, 0.000585386584617602, 0.003317190646166411, 0.007219767876950424, 0.01190286055389124, 0.00019512886153920066, 0.022439819077008073, 0.008000283323107227, 0.0013659020307744045, 0.00019512886153920066, 0.36942716190880326, 0.5149590741759076, 0.10075286233876452, 0.009136777512241512, 0.9684984162976003, 0.009136777512241512, 0.013954359692959363, 0.8512159412705211, 0.12558923723663426, 0.7877892556160376, 0.1712585338295734, 0.5383128341781739, 0.35887522278544925, 0.0023542131597190327, 0.0023542131597190327, 0.0023542131597190327, 0.014125278958314197, 0.11300223166651358, 0.0070626394791570984, 0.061209542152694855, 0.04943847635409969, 0.011771065798595165, 0.6944928821171147, 0.0023542131597190327, 0.014125278958314197, 0.0023542131597190327, 0.011771065798595165, 0.0023542131597190327, 0.10882185737415197, 0.21764371474830393, 0.5441092868707599, 0.7955602246490235, 0.16748636308400497, 0.03610165940566291, 0.9025414851415727, 0.011499144214588712, 0.011499144214588712, 0.011499144214588712, 0.9314306813816857, 0.03449743264376614, 0.010623821924915719, 0.021247643849831438, 0.010623821924915719, 0.9242725074676675, 0.010623821924915719, 0.11561656362846003, 0.03853885454282001, 0.8093159453992202, 0.28682979643686474, 0.053950027874230706, 0.03659926514080978, 0.3822589914706799, 0.04283469549813292, 0.028466095109518714, 0.03063494045119633, 0.02250177041990527, 0.0032532680125164247, 0.0021688453416776163, 0.01463970605632391, 0.0010844226708388081, 0.009488698369839572, 0.007590958695871657, 0.014368600388614209, 0.004337690683355233, 0.00786206436358136, 0.0018977396739679143, 0.010030909705258976, 0.011115332376097783, 0.0032532680125164247, 0.008133170031291062, 0.006506536025032849, 0.0032532680125164247, 0.0024399510093873183, 0.004608796351064935, 0.2926323057901257, 0.048772050965020956, 0.3414043567551467, 0.09754410193004191, 0.14631615289506286, 0.028268217614266754, 0.016960930568560052, 0.016960930568560052, 0.7915100931994692, 0.09611193988850697, 0.016960930568560052, 0.022614574091413403, 0.7661482653982935, 0.9292572816797252, 0.4152726102534416, 0.03742800349923722, 0.5150806195847408, 0.0213874305709927, 0.003564571761832117, 0.0017822858809160584, 0.0017822858809160584, 0.018800822175331477, 0.9494415198542395, 0.009400411087665738, 0.0009815008014475348, 0.1128725921664665, 0.20415216670108724, 0.011778009617370418, 0.12710435378745574, 0.05790854728540455, 0.03337102724921618, 0.10894658896067635, 0.07852006411580278, 0.02208376803256953, 0.008342756812304045, 0.04171378406152022, 0.009815008014475348, 0.008833507213027813, 0.0004907504007237674, 0.04318603526369153, 0.06576055369698483, 0.0034352528050663714, 0.02944502404342604, 0.009815008014475348, 0.0004907504007237674, 0.004907504007237674, 0.01472251202171302, 0.006175159680573304, 0.3843007707876786, 0.19040075681767685, 0.03808015136353537, 0.13358928775640247, 0.10600690784984171, 0.08027707584745294, 0.0018525479041719911, 0.011938642049108387, 0.015437899201433259, 0.003293418496305762, 0.00041167731203822024, 0.001646709248152881, 0.00020583865601911012, 0.006792675648630634, 0.00020583865601911012, 0.0010291932800955506, 0.003910934464363092, 0.0012350319361146608, 0.0008233546240764405, 0.00041167731203822024, 0.0012350319361146608, 0.005763482368535083, 0.0008233546240764405, 0.003293418496305762, 0.0006175159680573304, 0.00285927962307367, 0.01143711849229468, 0.909250920137427, 0.05146703321532606, 0.00571855924614734, 0.00285927962307367, 0.00571855924614734, 0.044991439355757466, 0.8998287871151494, 0.35892376772335505, 0.02658694575728556, 0.00664673643932139, 0.5915595430996037, 0.00664673643932139, 0.5305096965713978, 0.03120645273949399, 0.40568388561342184, 0.12319916475528067, 0.7391949885316841, 0.1888777247530291, 0.10793012843030235, 0.6745633026893897, 0.10309544918544115, 0.014079114205941302, 0.00681247461577805, 0.05858728169569123, 0.004541649743852033, 0.018620763949793336, 0.007720804564548456, 0.050412312156757566, 0.00272498984631122, 0.00045416497438520334, 0.625385169728425, 0.022708248719260166, 0.00045416497438520334, 0.004541649743852033, 0.00136249492315561, 0.00272498984631122, 0.033608208104505044, 0.00272498984631122, 0.012716619282785693, 0.0018166598975408134, 0.00272498984631122, 0.013170784257170897, 0.005904144667007643, 0.0009083299487704067, 0.0022708248719260165, 0.022643959563229545, 0.11321979781614773, 0.11321979781614773, 0.04528791912645909, 0.249083555195525, 0.06793187868968864, 0.3849473125749023, 0.3451255041864095, 0.0038347278242934395, 0.0038347278242934395, 0.0038347278242934395, 0.2645962198762473, 0.3412907763621161, 0.007669455648586879, 0.007669455648586879, 0.007669455648586879, 0.011504183472880318, 0.04667633212515741, 0.031117554750104942, 0.09335266425031483, 0.8090564235027284, 0.038141460766283664, 0.15256584306513465, 0.07628292153256733, 0.6484048330268223, 0.8188024747040613, 0.3472419095111071, 0.03472419095111071, 0.3125177185599964, 0.10417257285333213, 0.17362095475555356, 0.008214006463828657, 0.010952008618438208, 0.019166015082266865, 0.005476004309219104, 0.002738002154609552, 0.005476004309219104, 0.005476004309219104, 0.016428012927657314, 0.008214006463828657, 0.18618414651344956, 0.01369001077304776, 0.6215264890963683, 0.021904017236876416, 0.019166015082266865, 0.005476004309219104, 0.008214006463828657, 0.002738002154609552, 0.03559402800992418, 0.2989102142011299, 0.4483653213016949, 0.028152891587390327, 0.028152891587390327, 0.29560536166759843, 0.05630578317478065, 0.4504462653982452, 0.05630578317478065, 0.028152891587390327, 0.028152891587390327, 0.020298515627495756, 0.010149257813747878, 0.6021892969490408, 0.06766171875831918, 0.057512460944571304, 0.1488557812683022, 0.0744278906341511, 0.0033830859379159594, 0.0033830859379159594, 0.0033830859379159594, 0.006766171875831919, 0.18077522624152692, 0.006233628491087135, 0.06856991340195849, 0.7355681619482819, 0.0019871126948911655, 0.10134274743944943, 0.26826021381030735, 0.019871126948911653, 0.49677817372279137, 0.07749739510075546, 0.003974225389782331, 0.0019871126948911655, 0.0019871126948911655, 0.0019871126948911655, 0.019871126948911653, 0.0019871126948911655, 0.8330623693193407, 0.06408172071687236, 0.045257175125663934, 0.9051435025132787, 0.08227613491718785, 0.06582090793375028, 0.04113806745859393, 0.008227613491718785, 0.03291045396687514, 0.6993471467960968, 0.04936568095031271, 0.16863998379277964, 0.04351999581749152, 0.05983999424905084, 0.5711999451045762, 0.00543999947718644, 0.00543999947718644, 0.05983999424905084, 0.07071999320342372, 0.00543999947718644, 0.07270372680306317, 0.07270372680306317, 0.5816298144245053, 0.14540745360612634, 0.07270372680306317, 0.888693748603041, 0.2758363924837309, 0.09194546416124363, 0.45972732080621814, 0.4160008150264428, 0.189091279557474, 0.07563651182298961, 0.2647277913804636, 0.08262575713358809, 0.020656439283397023, 0.0041312878566794045, 0.5370674213683226, 0.008262575713358809, 0.0041312878566794045, 0.0041312878566794045, 0.2520085592574437, 0.0041312878566794045, 0.028919014996755834, 0.04957545428015286, 0.21004231796965522, 0.14002821197977017, 0.14002821197977017, 0.49009874192919556, 0.2685217196723758, 0.18583269740697647, 0.017408215213768286, 0.032640403525815535, 0.28810596178786513, 0.0034816430427536574, 0.028723555102717672, 0.004787259183786279, 0.00304643766240945, 0.052659851021649065, 0.018278625974456703, 0.01392657217101463, 0.02480670667961981, 0.004787259183786279, 0.00043520538034420717, 0.0021760269017210357, 0.02001944749583353, 0.0021760269017210357, 0.004787259183786279, 0.009139312987228351, 0.01392657217101463, 0.5221299696249404, 0.0478619138822862, 0.11747924316561159, 0.010877707700519592, 0.015228790780727428, 0.01305324924062351, 0.006526624620311755, 0.004351083080207836, 0.030457581561454856, 0.01305324924062351, 0.132708033946339, 0.002175541540103918, 0.03915974772187053, 0.036984206181766614, 0.004351083080207836, 0.004351083080207836, 0.2562221405026595, 0.512444281005319, 0.6112234496081859, 0.7019642022816407, 0.000676266090830097, 0.21572888297480095, 0.000676266090830097, 0.0047338626358106786, 0.01758291836158252, 0.000676266090830097, 0.05410128726640776, 0.000676266090830097, 0.13469754125926778, 0.8418596328704235, 0.0480688929044805, 0.096137785808961, 0.192275571617922, 0.5287578219492856, 0.096137785808961, 0.2817187649193773, 0.2817187649193773, 0.2817187649193773, 0.7331493924388632, 0.5905413523081269, 0.1968471174360423, 0.010427885831881801, 0.0034759619439606003, 0.013903847775842401, 0.09385097248693622, 0.048663467215448404, 0.020855771663763602, 0.12165866803862102, 0.05909135304733021, 0.027807695551684802, 0.36845196605982367, 0.10080289637485741, 0.006951923887921201, 0.05909135304733021, 0.017379809719803, 0.020855771663763602, 0.006951923887921201, 0.006951923887921201, 0.0034759619439606003, 0.0034759619439606003, 0.04436556071882928, 0.8429456536577563, 0.02218278035941464, 0.04436556071882928, 0.0181414946135102, 0.0181414946135102, 0.5533155857120611, 0.23583942997563256, 0.16327345152159178, 0.8389963678849844, 0.032582383218834346, 0.10589274546121162, 0.008145595804708586, 0.008145595804708586, 0.007715374060061167, 0.007715374060061167, 0.01157306109009175, 0.2546073439820185, 0.231461221801835, 0.0231461221801835, 0.17359591635137625, 0.015430748120122333, 0.01157306109009175, 0.19674203853155975, 0.0038576870300305833, 0.027003809210214082, 0.0038576870300305833, 0.027003809210214082, 0.0038576870300305833, 0.16746894864496495, 0.6698757945798598, 0.5039954482707385, 0.005873646470281043, 0.2995559699843332, 0.5814910005578232, 0.05873646470281043, 0.011747292940562086, 0.011747292940562086, 0.011747292940562086, 0.005873646470281043, 0.6008898784664701, 0.0432012330923606, 0.003927384826578236, 0.09032985101129944, 0.011782154479734708, 0.011782154479734708, 0.11389415997076885, 0.007854769653156473, 0.0432012330923606, 0.011782154479734708, 0.007854769653156473, 0.003927384826578236, 0.0432012330923606, 0.004766787200288254, 0.009533574400576507, 0.11440289280691808, 0.01430036160086476, 0.023833936001441267, 0.004766787200288254, 0.009533574400576507, 0.01430036160086476, 0.7960534624481383, 0.14408997024550954, 0.09382602713661085, 0.02010557724355947, 0.46577920614246104, 0.003350929540593245, 0.016754647702966224, 0.030158365865339203, 0.003350929540593245, 0.060316731730678405, 0.04356208402771218, 0.02680743632474596, 0.05361487264949192, 0.03350929540593245, 0.8267019154788594, 0.5050232556424884, 0.5039862067585538, 0.05701813458586224, 0.02850906729293112, 0.02850906729293112, 0.8267629514950025, 0.02850906729293112, 0.8961419137232258, 0.0031451107334733177, 0.009435332200419953, 0.3774132880167981, 0.19814197620881902, 0.009435332200419953, 0.01572555366736659, 0.36797795581637815, 0.01572555366736659, 0.0005669669985480921, 0.03175015191869316, 0.005669669985480921, 0.006803603982577106, 0.0011339339970961842, 0.00793753797967329, 0.0005669669985480921, 0.016442042957894674, 0.006236636984029014, 0.14684445262395587, 0.019276877950635134, 0.0005669669985480921, 0.0022678679941923684, 0.6724228602780373, 0.006236636984029014, 0.003968768989836645, 0.003401801991288553, 0.01304024096660612, 0.020410811947731318, 0.0005669669985480921, 0.003401801991288553, 0.0011339339970961842, 0.019276877950635134, 0.00793753797967329, 0.0017009009956442764, 0.6803067877245066, 0.17007669693112665, 0.6931591268269264, 0.09605013841993722, 0.04386104586806382, 0.025539343163682726, 0.4186231466394951, 0.15934329321689006, 0.002776015561269862, 0.03775381163327012, 0.0077728435715556125, 0.006107234234793695, 0.0011104062245079448, 0.09771574775669913, 0.0011104062245079448, 0.03053617117396848, 0.0049968280102857515, 0.013324874694095335, 0.014990484030857253, 0.01221446846958739, 0.0005552031122539724, 0.01443528091860328, 0.00943845290831753, 0.0022208124490158895, 0.34740380758978845, 0.5558460921436615, 0.06948076151795769, 0.11651026142427928, 0.04660410456971171, 0.13981231370913513, 0.023302052284855854, 0.2563225751334144, 0.23302052284855856, 0.16311436599399098, 0.6510990727936223, 0.005272057269583986, 0.2504227203052394, 0.005272057269583986, 0.002636028634791993, 0.06326468723500783, 0.021088229078335945, 0.01582895035432893, 0.12030002269289987, 0.25326320566926286, 0.01582895035432893, 0.10447107233857093, 0.028492110637792074, 0.009497370212597358, 0.003165790070865786, 0.265926365952726, 0.003165790070865786, 0.006331580141731572, 0.009497370212597358, 0.018994740425194716, 0.009497370212597358, 0.047486851062986786, 0.060150011346449934, 0.018994740425194716, 0.013207856721671617, 0.026415713443343234, 0.0026415713443343233, 0.08981342570736699, 0.06339771226402376, 0.0026415713443343233, 0.2958559905654442, 0.0026415713443343233, 0.01584942806600594, 0.41736827240482305, 0.0026415713443343233, 0.04226514150934917, 0.0026415713443343233, 0.0026415713443343233, 0.0026415713443343233, 0.010566285377337293, 0.3174326557460252, 0.11247613786276484, 0.002499469730283663, 0.004998939460567326, 0.029993636763403955, 0.31493318601574155, 0.02749416703312029, 0.10497772867191385, 0.014996818381701978, 0.004998939460567326, 0.01749628811198564, 0.002499469730283663, 0.004998939460567326, 0.022495227572552966, 0.019995757842269302, 0.04219505910811576, 0.3797555319730418, 0.42195059108115757, 0.08439011821623152, 0.6576700869091607, 0.06576700869091608, 0.19730102607274824, 0.03288350434545804, 0.8577364782543512, 0.15601423981718524, 0.0017932671243354626, 0.0017932671243354626, 0.3299611508777251, 0.012552869870348237, 0.0017932671243354626, 0.05021147948139295, 0.43397064408918196, 0.0017932671243354626, 0.008966335621677313, 0.9587937737320575, 0.010895383792409745, 0.0717430862744523, 0.017935771568613076, 0.8967885784306538, 0.09468421890395083, 0.28405265671185254, 0.28405265671185254, 0.28405265671185254, 0.030079627089817054, 0.01777432509852826, 0.02461060398257759, 0.02050883665214799, 0.002734511553619732, 0.009570790437669062, 0.030079627089817054, 0.010938046214478928, 0.004101767330429598, 0.4060749657125302, 0.001367255776809866, 0.015039813544908527, 0.010938046214478928, 0.006836278884049331, 0.04511944063472558, 0.09434064859988076, 0.20782287807509964, 0.001367255776809866, 0.004101767330429598, 0.001367255776809866, 0.005469023107239464, 0.012305301991288795, 0.002734511553619732, 0.004101767330429598, 0.004101767330429598, 0.025977859759387455, 0.14641242324448178, 0.7320621162224089, 0.0030321109467195346, 0.24256887573756275, 0.02728899852047581, 0.009096332840158603, 0.05457799704095162, 0.012128443786878138, 0.006064221893439069, 0.6155185221840656, 0.0030321109467195346, 0.015160554733597672, 0.24090028702868457, 0.15056267939292786, 0.09033760763575671, 0.12045014351434229, 0.36135043054302685, 0.07426472673040596, 0.05569854504780447, 0.46415454206503726, 0.01856618168260149, 0.12996327177821043, 0.1856618168260149, 0.05569854504780447, 0.01856618168260149, 0.1027343246548929, 0.3082029739646787, 0.5136716232744645, 0.08497800218643849, 0.19423543356900227, 0.5220077277166936, 0.024279429196125284, 0.16995600437287697, 0.04708071010378393, 0.04708071010378393, 0.06277428013837857, 0.3923392508648661, 0.219709980484325, 0.06277428013837857, 0.015693570034594644, 0.04708071010378393, 0.09416142020756786, 0.9505589285743075, 0.2238910237308227, 0.02238910237308227, 0.005597275593270568, 0.011194551186541135, 0.011194551186541135, 0.005597275593270568, 0.5205466301741628, 0.16232099220484644, 0.0335836535596234, 0.11297279488048385, 0.014121599360060482, 0.014121599360060482, 0.847295961603629, 0.43186655730700607, 0.01696746192893531, 0.02089676890195191, 0.14163365589100738, 0.0307200363344934, 0.010537686882180876, 0.04411540101523181, 0.004465121560246134, 0.02000374458990268, 0.00500093614747567, 0.19932302644938743, 0.002500468073737835, 0.004107911835426443, 0.017860486240984536, 0.0021432583489181443, 0.006608379909164279, 0.003929306973016598, 0.00500093614747567, 0.003929306973016598, 0.006786984771574123, 0.001964653486508299, 0.008930243120492268, 0.007858613946033197, 0.0017860486240984536, 0.0010716291744590721, 0.016611100384192928, 0.9634438222831898, 0.04279732779727754, 0.07132887966212924, 0.04279732779727754, 0.019021034576567796, 0.004755258644141949, 0.004755258644141949, 0.009510517288283898, 0.6229388823825953, 0.019021034576567796, 0.04279732779727754, 0.07608413830627118, 0.004755258644141949, 0.019021034576567796, 0.009510517288283898, 0.004755258644141949, 0.5143933418039665, 0.4061000066873419, 0.05414666755831226, 0.04075438912615242, 0.04075438912615242, 0.20377194563076206, 0.08150877825230483, 0.6113158368922862, 0.1789440626938294, 0.023859208359177254, 0.7754242716732608, 0.547621051690603, 0.41071578876795223, 0.26499768282919434, 0.6624942070729858, 0.003534377480815665, 0.07422192709712896, 0.010603132442446995, 0.00706875496163133, 0.05301566221223498, 0.00706875496163133, 0.7457536484521053, 0.003534377480815665, 0.003534377480815665, 0.003534377480815665, 0.06715317213549764, 0.00706875496163133, 0.003534377480815665, 0.0023471345626519973, 0.2112421106386798, 0.08214970969281991, 0.07862900784884191, 0.26405263829834974, 0.13143953550851187, 0.0023471345626519973, 0.026992047470497972, 0.003520701843977996, 0.03168631659580197, 0.0023471345626519973, 0.011735672813259988, 0.0997532189127099, 0.007041403687955992, 0.010562105531933989, 0.011735672813259988, 0.00938853825060799, 0.003520701843977996, 0.005867836406629994, 0.003520701843977996, 0.05310922101027776, 0.2655461050513888, 0.05310922101027776, 0.02655461050513888, 0.07966383151541664, 0.5045375995976388, 0.5341372302131537, 0.5341372302131537], \"Term\": [\"A\", \"A\", \"A\", \"A\", \"A\", \"A13\", \"A13\", \"A13\", \"A6\", \"A6\", \"A6\", \"A6\", \"A6\", \"A6_A6\", \"A7\", \"A7\", \"A7\", \"A7\", \"A7\", \"A7\", \"A7\", \"A7\", \"A7\", \"A7\", \"A7\", \"A7\", \"A7\", \"A7\", \"A7\", \"A7\", \"A7\", \"A7\", \"A7\", \"A7\", \"A7\", \"A7\", \"A7\", \"A7\", \"A7\", \"A7\", \"A7(+b5)\", \"A7(+b5)\", \"A7(+b5)\", \"A7(+b5)\", \"A7(+b5)\", \"A7(+b5)\", \"A7(+b5)\", \"AM7\", \"AM7\", \"AM7\", \"AM7\", \"AM7\", \"AM7\", \"AM7\", \"AM7\", \"Adim\", \"Adim\", \"Adim\", \"Adim7\", \"Adim7\", \"Adim7\", \"Adim7\", \"Am\", \"Am\", \"Am\", \"Am\", \"Am\", \"Am\", \"Am\", \"Am\", \"Am\", \"Am\", \"Am6\", \"Am6\", \"Am6\", \"Am6_Am6\", \"Am6_Am6\", \"Am7\", \"Am7\", \"Am7\", \"Am7\", \"Am7\", \"Am7\", \"Am7\", \"Am7\", \"Am7\", \"Am7\", \"Am7\", \"Am7\", \"Am7\", \"Am7\", \"Am7\", \"Am7\", \"Am7\", \"Am7\", \"Am7\", \"Am7\", \"Am7\", \"Am7\", \"Am7\", \"Am7\", \"Am7\", \"Am7b5\", \"Am7b5\", \"Am7b5\", \"Am7b5\", \"Am7b5\", \"Am7b5\", \"Am7b5\", \"Am7b5\", \"Am7b5\", \"Am7b5\", \"AmM7\", \"AmM7\", \"AmM7_GmM7\", \"B\", \"B\", \"B\", \"B13\", \"B13\", \"B6\", \"B7\", \"B7\", \"B7\", \"B7\", \"B7\", \"B7\", \"B7\", \"B7\", \"B7\", \"B7\", \"B7\", \"B7\", \"B7\", \"B7\", \"B7\", \"B7\", \"B7\", \"B7\", \"B7(+b5)\", \"B7(+b5)\", \"B7(+b5)\", \"BM7\", \"BM7\", \"BM7\", \"BM7\", \"BM7\", \"BM7\", \"Bb\", \"Bb\", \"Bb\", \"Bb\", \"Bb\", \"Bb\", \"Bb13\", \"Bb13\", \"Bb13\", \"Bb13\", \"Bb13_B13\", \"Bb6\", \"Bb6\", \"Bb6\", \"Bb6_B6\", \"Bb6_Bdim7\", \"Bb7\", \"Bb7\", \"Bb7\", \"Bb7\", \"Bb7\", \"Bb7\", \"Bb7\", \"Bb7\", \"Bb7\", \"Bb7\", \"Bb7\", \"Bb7\", \"Bb7\", \"Bb7\", \"Bb7\", \"Bb7\", \"Bb7\", \"Bb7\", \"Bb7\", \"Bb7\", \"Bb7\", \"Bb7\", \"Bb7\", \"Bb7\", \"Bb7\", \"Bb7(+b5)\", \"Bb7(+b5)\", \"Bb7(+b5)\", \"Bb7(+b5)\", \"Bb7(+b5)\", \"Bb7(+b5)\", \"BbM7\", \"BbM7\", \"BbM7\", \"BbM7\", \"BbM7\", \"BbM7\", \"BbM7\", \"BbM7\", \"Bbdim\", \"Bbdim7\", \"Bbdim7\", \"Bbdim7\", \"Bbdim7\", \"Bbdim_Bdim\", \"Bbm\", \"Bbm\", \"Bbm6\", \"Bbm6\", \"Bbm6\", \"Bbm6\", \"Bbm6\", \"Bbm6_F#m6\", \"Bbm7\", \"Bbm7\", \"Bbm7\", \"Bbm7\", \"Bbm7_Eb7\", \"Bbm7_Eb7\", \"Bbm7_Eb7\", \"Bbm7_Eb7\", \"Bbm7_Eb7\", \"Bbm7_Eb7\", \"Bbm7_Eb7\", \"Bbm7_Eb7\", \"Bbm7_Eb7\", \"Bbm7_Eb7\", \"Bbm7b5\", \"Bbm7b5\", \"BbmM7\", \"Bbm_Bbm\", \"Bbm_Bbm7b5\", \"Bdim\", \"Bdim\", \"Bdim7\", \"Bdim7_Bbdim7\", \"Bm\", \"Bm\", \"Bm6\", \"Bm6\", \"Bm7\", \"Bm7\", \"Bm7\", \"Bm7\", \"Bm7\", \"Bm7\", \"Bm7\", \"Bm7\", \"Bm7\", \"Bm7\", \"Bm7\", \"Bm7\", \"Bm7\", \"Bm7\", \"Bm7\", \"Bm7\", \"Bm7\", \"Bm7b5\", \"Bm7b5\", \"Bm7b5\", \"Bm7b5_E7\", \"Bm7b5_E7\", \"Bm7b5_E7\", \"Bm7b5_E7\", \"Bm7b5_E7\", \"Bm7b5_E7\", \"Bm7b5_E7\", \"Bm7b5_E7\", \"Bm7b5_E7\", \"Bm7b5_E7\", \"Bm7b5_E7\", \"Bm7b5_E7\", \"Bm7b5_E7\", \"Bm7b5_E7\", \"Bm7b5_E7\", \"Bm7b5_E7\", \"BmM7\", \"BmM7_BmM7\", \"BmM7_BmM7\", \"Bm_Bm\", \"Bm_Bm\", \"C\", \"C\", \"C\", \"C\", \"C\", \"C\", \"C\", \"C\", \"C\", \"C\", \"C\", \"C\", \"C\", \"C\", \"C\", \"C\", \"C\", \"C\", \"C\", \"C\", \"C#\", \"C#13\", \"C#13\", \"C#13\", \"C#6\", \"C#6\", \"C#6\", \"C#6_B6\", \"C#6_C#6\", \"C#7\", \"C#7\", \"C#7\", \"C#7\", \"C#7\", \"C#7\", \"C#7\", \"C#7\", \"C#7\", \"C#7\", \"C#7(+b5)\", \"C#7(+b5)\", \"C#7(+b5)\", \"C#7(+b5)\", \"C#7(+b5)_C#7(+b5)\", \"C#7(+b5)_C#7(+b5)\", \"C#M7\", \"C#M7\", \"C#M7\", \"C#M7\", \"C#M7\", \"C#M7\", \"C#M7\", \"C#M7\", \"C#M7\", \"C#M7\", \"C#_Eb\", \"C#dim\", \"C#dim\", \"C#dim\", \"C#dim\", \"C#dim\", \"C#dim7\", \"C#dim7\", \"C#dim7\", \"C#dim7\", \"C#dim7\", \"C#m\", \"C#m\", \"C#m\", \"C#m6\", \"C#m7\", \"C#m7\", \"C#m7\", \"C#m7\", \"C#m7\", \"C#m7\", \"C#m7\", \"C#m7\", \"C#m7_F#7\", \"C#m7_F#7\", \"C#m7_F#7\", \"C#m7_F#7\", \"C#m7_F#7\", \"C#m7_F#7\", \"C#m7_F#7\", \"C#m7_F#7\", \"C#m7_F#7\", \"C#m7b5\", \"C#m7b5\", \"C#m7b5\", \"C#m7b5\", \"C#m7b5_F#7\", \"C#m7b5_F#7\", \"C#m7b5_F#7\", \"C#m7b5_F#7\", \"C#m7b5_F#7\", \"C#mM7\", \"C#mM7_C#mM7\", \"C13\", \"C13\", \"C13\", \"C13\", \"C13\", \"C13_C13\", \"C6\", \"C6\", \"C6\", \"C6\", \"C6\", \"C6\", \"C6\", \"C6\", \"C6\", \"C6\", \"C6\", \"C6\", \"C6\", \"C6\", \"C6\", \"C6\", \"C6\", \"C6\", \"C6\", \"C6\", \"C7\", \"C7\", \"C7\", \"C7\", \"C7\", \"C7\", \"C7\", \"C7\", \"C7\", \"C7\", \"C7\", \"C7\", \"C7\", \"C7\", \"C7\", \"C7\", \"C7\", \"C7\", \"C7\", \"C7\", \"C7\", \"C7(+b5)\", \"C7(+b5)\", \"C7(+b5)_C7(+b5)\", \"C7(+b5)_C7(+b5)\", \"CM7\", \"CM7\", \"CM7\", \"CM7\", \"CM7\", \"CM7\", \"CM7\", \"CM7\", \"CM7\", \"CM7\", \"CM7\", \"CM7\", \"CM7\", \"CM7\", \"CM7\", \"CM7\", \"CM7\", \"CM7\", \"CM7\", \"CM7\", \"CM7\", \"CM7\", \"CM7\", \"CM7\", \"CM7\", \"CM7\", \"Cdim\", \"Cdim\", \"Cdim\", \"Cdim7\", \"Cdim7\", \"Cdim7\", \"Cm\", \"Cm\", \"Cm\", \"Cm6\", \"Cm6\", \"Cm6_Cm6\", \"Cm6_Cm6\", \"Cm7\", \"Cm7\", \"Cm7\", \"Cm7\", \"Cm7\", \"Cm7\", \"Cm7\", \"Cm7\", \"Cm7\", \"Cm7\", \"Cm7\", \"Cm7\", \"Cm7\", \"Cm7\", \"Cm7\", \"Cm7b5\", \"Cm7b5\", \"Cm7b5\", \"CmM7\", \"CmM7\", \"Cm_Cm\", \"Cm_Cm\", \"D\", \"D\", \"D\", \"D\", \"D\", \"D13\", \"D13\", \"D13\", \"D13\", \"D13\", \"D6\", \"D6\", \"D6\", \"D7\", \"D7\", \"D7\", \"D7\", \"D7\", \"D7\", \"D7\", \"D7\", \"D7\", \"D7\", \"D7\", \"D7\", \"D7\", \"D7\", \"D7\", \"D7\", \"D7\", \"D7\", \"D7\", \"D7\", \"D7\", \"D7\", \"D7\", \"D7\", \"D7\", \"D7\", \"D7(+b5)\", \"D7(+b5)\", \"D7(+b5)\", \"D7(+b5)\", \"D7(+b5)\", \"DM7\", \"DM7\", \"DM7\", \"DM7\", \"DM7\", \"DM7\", \"DM7\", \"Ddim\", \"Ddim7\", \"Dm\", \"Dm\", \"Dm\", \"Dm\", \"Dm\", \"Dm\", \"Dm\", \"Dm6\", \"Dm6\", \"Dm6\", \"Dm7\", \"Dm7\", \"Dm7\", \"Dm7\", \"Dm7\", \"Dm7\", \"Dm7\", \"Dm7\", \"Dm7\", \"Dm7\", \"Dm7\", \"Dm7\", \"Dm7\", \"Dm7\", \"Dm7\", \"Dm7\", \"Dm7\", \"Dm7\", \"Dm7\", \"Dm7\", \"Dm7\", \"Dm7\", \"Dm7\", \"Dm7_G7\", \"Dm7_G7\", \"Dm7_G7\", \"Dm7_G7\", \"Dm7_G7\", \"Dm7_G7\", \"Dm7_G7\", \"Dm7_G7\", \"Dm7_G7\", \"Dm7_G7\", \"Dm7_G7\", \"Dm7_G7\", \"Dm7_G7\", \"Dm7_G7\", \"Dm7_G7\", \"Dm7_G7\", \"Dm7_G7\", \"Dm7_G7\", \"Dm7_G7\", \"Dm7_G7\", \"Dm7_G7\", \"Dm7_G7\", \"Dm7_G7\", \"Dm7_G7\", \"Dm7_G7\", \"Dm7_G7\", \"Dm7b5\", \"Dm7b5\", \"Dm7b5\", \"Dm7b5\", \"Dm7b5\", \"Dm7b5\", \"Dm7b5\", \"DmM7\", \"DmM7\", \"E\", \"E\", \"E\", \"E\", \"E\", \"E13\", \"E13\", \"E13\", \"E13_E13\", \"E13_E13\", \"E6\", \"E6\", \"E6\", \"E7\", \"E7\", \"E7\", \"E7\", \"E7\", \"E7\", \"E7\", \"E7\", \"E7\", \"E7\", \"E7\", \"E7\", \"E7\", \"E7\", \"E7\", \"E7\", \"E7\", \"E7\", \"E7\", \"E7\", \"E7\", \"E7\", \"E7\", \"E7\", \"E7\", \"E7(+b5)\", \"E7(+b5)\", \"E7(+b5)\", \"E7(+b5)\", \"E7(+b5)\", \"E7(+b5)\", \"E7(+b5)\", \"EM7\", \"EM7\", \"EM7\", \"EM7\", \"EM7\", \"EM7\", \"EM7\", \"EM7\", \"EM7\", \"EM7\", \"Eb\", \"Eb\", \"Eb\", \"Eb\", \"Eb13\", \"Eb13\", \"Eb13\", \"Eb13\", \"Eb13_Eb13\", \"Eb6\", \"Eb6\", \"Eb6\", \"Eb6\", \"Eb6\", \"Eb7\", \"Eb7\", \"Eb7\", \"Eb7\", \"Eb7\", \"Eb7\", \"Eb7\", \"Eb7\", \"Eb7\", \"Eb7\", \"Eb7\", \"Eb7\", \"Eb7\", \"Eb7\", \"Eb7\", \"Eb7\", \"Eb7\", \"Eb7\", \"Eb7(+b5)\", \"Eb7(+b5)\", \"Eb7_G#M7\", \"Eb7_G#M7\", \"Eb7_G#M7\", \"Eb7_G#M7\", \"Eb7_G#M7\", \"Eb7_G#M7\", \"Eb7_G#M7\", \"Eb7_G#M7\", \"EbM7\", \"EbM7\", \"EbM7\", \"EbM7\", \"EbM7\", \"EbM7\", \"EbM7\", \"EbM7\", \"EbM7\", \"EbM7\", \"EbM7\", \"Ebdim\", \"Ebdim\", \"Ebdim\", \"Ebdim\", \"Ebdim7\", \"Ebdim7\", \"Ebdim7\", \"Ebdim7\", \"Ebdim7\", \"Ebdim7\", \"Ebdim7\", \"Ebdim7\", \"Ebdim7\", \"Ebdim7\", \"Ebdim7\", \"Ebdim7\", \"Ebm\", \"Ebm\", \"Ebm6\", \"Ebm6\", \"Ebm7\", \"Ebm7\", \"Ebm7\", \"Ebm7\", \"Ebm7\", \"Ebm7\", \"Ebm7\", \"Ebm7_G#7\", \"Ebm7_G#7\", \"Ebm7_G#7\", \"Ebm7_G#7\", \"Ebm7_G#7\", \"Ebm7_G#7\", \"Ebm7_G#7\", \"Ebm7_G#7\", \"Ebm7_G#7\", \"Ebm7b5\", \"Ebm7b5\", \"Ebm7b5\", \"Ebm7b5\", \"Ebm7b5\", \"EbmM7\", \"Edim\", \"Edim\", \"Edim\", \"Edim7\", \"Edim7\", \"Edim7\", \"Edim7\", \"Em\", \"Em\", \"Em\", \"Em\", \"Em\", \"Em\", \"Em\", \"Em\", \"Em\", \"Em\", \"Em\", \"Em6\", \"Em6\", \"Em6\", \"Em6\", \"Em7\", \"Em7\", \"Em7\", \"Em7\", \"Em7\", \"Em7\", \"Em7\", \"Em7\", \"Em7\", \"Em7\", \"Em7\", \"Em7\", \"Em7\", \"Em7\", \"Em7\", \"Em7\", \"Em7\", \"Em7\", \"Em7\", \"Em7\", \"Em7\", \"Em7b5\", \"Em7b5\", \"Em7b5\", \"Em7b5\", \"Em7b5\", \"Em7b5\", \"Em7b5\", \"Em7b5\", \"Em7b5\", \"Em7b5\", \"Em7b5\", \"Em7b5\", \"Em7b5\", \"Em7b5\", \"Em7b5\", \"Em7b5\", \"EmM7\", \"EmM7\", \"EmM7_EmM7\", \"F\", \"F\", \"F\", \"F\", \"F\", \"F\", \"F\", \"F\", \"F\", \"F#\", \"F#\", \"F#13\", \"F#13\", \"F#13\", \"F#13\", \"F#13\", \"F#13_F13\", \"F#13_F13\", \"F#13_F13\", \"F#6\", \"F#6_G6\", \"F#6_G6\", \"F#7\", \"F#7\", \"F#7\", \"F#7\", \"F#7\", \"F#7\", \"F#7\", \"F#7\", \"F#7\", \"F#7\", \"F#7\", \"F#7\", \"F#7\", \"F#7\", \"F#7\", \"F#7\", \"F#7\", \"F#7\", \"F#7\", \"F#7(+b5)\", \"F#7(+b5)\", \"F#7(+b5)\", \"F#7(+b5)\", \"F#M7\", \"F#M7\", \"F#M7\", \"F#M7\", \"F#M7\", \"F#dim\", \"F#dim\", \"F#dim\", \"F#dim\", \"F#dim\", \"F#dim7\", \"F#dim7\", \"F#dim7\", \"F#dim7\", \"F#dim7\", \"F#dim7\", \"F#dim7\", \"F#dim7\", \"F#dim7\", \"F#dim7\", \"F#dim7\", \"F#dim7\", \"F#dim7\", \"F#dim7\", \"F#dim7\", \"F#m\", \"F#m\", \"F#m6\", \"F#m7\", \"F#m7\", \"F#m7\", \"F#m7\", \"F#m7\", \"F#m7\", \"F#m7\", \"F#m7\", \"F#m7_B7\", \"F#m7_B7\", \"F#m7_B7\", \"F#m7_B7\", \"F#m7_B7\", \"F#m7_B7\", \"F#m7_B7\", \"F#m7_B7\", \"F#m7_B7\", \"F#m7_B7\", \"F#m7_B7\", \"F#m7_B7\", \"F#m7_B7\", \"F#m7b5\", \"F#m7b5\", \"F#m7b5\", \"F#m7b5\", \"F#m7b5\", \"F#m7b5\", \"F#m7b5\", \"F#m7b5\", \"F#m7b5\", \"F#m7b5_B7\", \"F#m7b5_B7\", \"F#m7b5_B7\", \"F#m7b5_B7\", \"F#m7b5_B7\", \"F#m7b5_B7\", \"F#m7b5_B7\", \"F#m7b5_B7\", \"F#m7b5_B7\", \"F#m7b5_B7\", \"F#m7b5_B7\", \"F#m7b5_B7\", \"F#m7b5_B7\", \"F#mM7\", \"F#m_F#m\", \"F#m_F#mM7\", \"F13\", \"F13\", \"F13\", \"F13\", \"F13\", \"F13_F13\", \"F6\", \"F6\", \"F6\", \"F6\", \"F6\", \"F6\", \"F6\", \"F6\", \"F7\", \"F7\", \"F7\", \"F7\", \"F7\", \"F7\", \"F7\", \"F7\", \"F7\", \"F7\", \"F7\", \"F7\", \"F7\", \"F7\", \"F7\", \"F7\", \"F7\", \"F7\", \"F7\", \"F7\", \"F7\", \"F7\", \"F7\", \"F7\", \"F7\", \"F7(+b5)\", \"F7(+b5)\", \"F7(+b5)_F7(+b5)\", \"FM7\", \"FM7\", \"FM7\", \"FM7\", \"FM7\", \"FM7\", \"FM7\", \"FM7\", \"FM7\", \"FM7\", \"FM7\", \"FM7\", \"FM7\", \"FM7\", \"FM7\", \"FM7\", \"FM7\", \"FM7\", \"FM7\", \"FM7\", \"FM7\", \"Fdim\", \"Fdim\", \"Fdim\", \"Fdim7\", \"Fdim7\", \"Fdim7\", \"Fdim7\", \"Fdim7\", \"Fdim7\", \"Fdim7\", \"Fm\", \"Fm\", \"Fm\", \"Fm\", \"Fm\", \"Fm\", \"Fm\", \"Fm6\", \"Fm6\", \"Fm6\", \"Fm6\", \"Fm6\", \"Fm6\", \"Fm6\", \"Fm6\", \"Fm6\", \"Fm6\", \"Fm6\", \"Fm6\", \"Fm6\", \"Fm6\", \"Fm6\", \"Fm6\", \"Fm6\", \"Fm7\", \"Fm7\", \"Fm7\", \"Fm7\", \"Fm7\", \"Fm7\", \"Fm7\", \"Fm7\", \"Fm7\", \"Fm7\", \"Fm7\", \"Fm7\", \"Fm7\", \"Fm7\", \"Fm7\", \"Fm7\", \"Fm7_Bb7\", \"Fm7_Bb7\", \"Fm7_Bb7\", \"Fm7_Bb7\", \"Fm7_Bb7\", \"Fm7_Bb7\", \"Fm7_Bb7\", \"Fm7_Bb7\", \"Fm7_Bb7\", \"Fm7_Bb7\", \"Fm7_Bb7\", \"Fm7_Bb7\", \"Fm7_Bb7\", \"Fm7_Bb7\", \"Fm7_Bb7\", \"Fm7b5\", \"Fm7b5\", \"Fm7b5\", \"Fm7b5\", \"FmM7\", \"FmM7\", \"FmM7\", \"FmM7\", \"FmM7_FmM7\", \"G\", \"G\", \"G\", \"G\", \"G\", \"G\", \"G\", \"G\", \"G\", \"G\", \"G#\", \"G#\", \"G#13\", \"G#13\", \"G#13\", \"G#6\", \"G#6\", \"G#6\", \"G#6\", \"G#7\", \"G#7\", \"G#7\", \"G#7\", \"G#7\", \"G#7\", \"G#7\", \"G#7\", \"G#7\", \"G#7\", \"G#7\", \"G#7\", \"G#7\", \"G#7\", \"G#7\", \"G#7\", \"G#7\", \"G#7\", \"G#7\", \"G#7\", \"G#7\", \"G#7\", \"G#7\", \"G#7\", \"G#7\", \"G#7\", \"G#7(+b5)\", \"G#7(+b5)\", \"G#M7\", \"G#M7\", \"G#M7\", \"G#M7\", \"G#M7\", \"G#M7\", \"G#M7\", \"G#M7\", \"G#M7\", \"G#M7\", \"G#dim\", \"G#dim\", \"G#dim\", \"G#dim\", \"G#dim\", \"G#dim7\", \"G#dim7\", \"G#dim7\", \"G#dim7\", \"G#dim7\", \"G#dim7\", \"G#dim7\", \"G#dim7\", \"G#m\", \"G#m\", \"G#m\", \"G#m7\", \"G#m7\", \"G#m7\", \"G#m7\", \"G#m7\", \"G#m7_C#7\", \"G#m7_C#7\", \"G#m7_C#7\", \"G#m7_C#7\", \"G#m7_C#7\", \"G#m7_C#7\", \"G#m7_C#7\", \"G#m7_C#7\", \"G#m7_C#7\", \"G#m7b5\", \"G13\", \"G13\", \"G13\", \"G13\", \"G13\", \"G13\", \"G13\", \"G13\", \"G13\", \"G6\", \"G6\", \"G6\", \"G6\", \"G7\", \"G7\", \"G7\", \"G7\", \"G7\", \"G7\", \"G7\", \"G7\", \"G7\", \"G7\", \"G7\", \"G7\", \"G7\", \"G7\", \"G7\", \"G7\", \"G7\", \"G7\", \"G7\", \"G7\", \"G7\", \"G7\", \"G7\", \"G7\", \"G7\", \"G7(+b5)\", \"G7(+b5)\", \"GM7\", \"GM7\", \"GM7\", \"GM7\", \"GM7\", \"GM7\", \"GM7\", \"GM7\", \"GM7\", \"GM7\", \"GM7\", \"GM7\", \"GM7\", \"GM7\", \"GM7\", \"Gdim\", \"Gdim\", \"Gdim\", \"Gdim7\", \"Gdim7\", \"Gdim7\", \"Gdim7\", \"Gdim7\", \"Gm\", \"Gm\", \"Gm\", \"Gm6\", \"Gm6\", \"Gm6_Gm6\", \"Gm6_Gm6\", \"Gm7\", \"Gm7\", \"Gm7\", \"Gm7\", \"Gm7\", \"Gm7\", \"Gm7\", \"Gm7\", \"Gm7\", \"Gm7\", \"Gm7\", \"Gm7\", \"Gm7\", \"Gm7_C7\", \"Gm7_C7\", \"Gm7_C7\", \"Gm7_C7\", \"Gm7_C7\", \"Gm7_C7\", \"Gm7_C7\", \"Gm7_C7\", \"Gm7_C7\", \"Gm7_C7\", \"Gm7_C7\", \"Gm7_C7\", \"Gm7_C7\", \"Gm7_C7\", \"Gm7_C7\", \"Gm7_C7\", \"Gm7_C7\", \"Gm7_C7\", \"Gm7_C7\", \"Gm7_C7\", \"Gm7b5\", \"Gm7b5\", \"Gm7b5\", \"Gm7b5\", \"Gm7b5\", \"Gm7b5\", \"GmM7\", \"GmM7_GmM7\"]}, \"R\": 30, \"lambda.step\": 0.01, \"plot.opts\": {\"xlab\": \"PC1\", \"ylab\": \"PC2\"}, \"topic.order\": [4, 28, 30, 29, 10, 7, 12, 14, 17, 27, 24, 13, 3, 6, 21, 22, 15, 1, 5, 23, 19, 9, 8, 20, 25, 11, 26, 18, 16, 2]};\n",
              "\n",
              "function LDAvis_load_lib(url, callback){\n",
              "  var s = document.createElement('script');\n",
              "  s.src = url;\n",
              "  s.async = true;\n",
              "  s.onreadystatechange = s.onload = callback;\n",
              "  s.onerror = function(){console.warn(\"failed to load library \" + url);};\n",
              "  document.getElementsByTagName(\"head\")[0].appendChild(s);\n",
              "}\n",
              "\n",
              "if(typeof(LDAvis) !== \"undefined\"){\n",
              "   // already loaded: just create the visualization\n",
              "   !function(LDAvis){\n",
              "       new LDAvis(\"#\" + \"ldavis_el2852140704638393552398728153\", ldavis_el2852140704638393552398728153_data);\n",
              "   }(LDAvis);\n",
              "}else if(typeof define === \"function\" && define.amd){\n",
              "   // require.js is available: use it to load d3/LDAvis\n",
              "   require.config({paths: {d3: \"https://d3js.org/d3.v5\"}});\n",
              "   require([\"d3\"], function(d3){\n",
              "      window.d3 = d3;\n",
              "      LDAvis_load_lib(\"https://cdn.jsdelivr.net/gh/bmabey/pyLDAvis@3.3.1/pyLDAvis/js/ldavis.v3.0.0.js\", function(){\n",
              "        new LDAvis(\"#\" + \"ldavis_el2852140704638393552398728153\", ldavis_el2852140704638393552398728153_data);\n",
              "      });\n",
              "    });\n",
              "}else{\n",
              "    // require.js not available: dynamically load d3 & LDAvis\n",
              "    LDAvis_load_lib(\"https://d3js.org/d3.v5.js\", function(){\n",
              "         LDAvis_load_lib(\"https://cdn.jsdelivr.net/gh/bmabey/pyLDAvis@3.3.1/pyLDAvis/js/ldavis.v3.0.0.js\", function(){\n",
              "                 new LDAvis(\"#\" + \"ldavis_el2852140704638393552398728153\", ldavis_el2852140704638393552398728153_data);\n",
              "            })\n",
              "         });\n",
              "}\n",
              "</script>"
            ],
            "text/plain": [
              "PreparedData(topic_coordinates=              x         y  topics  cluster       Freq\n",
              "topic                                                \n",
              "3      0.290510  0.188514  1       1        15.434154\n",
              "27    -0.186469  0.126716  2       1        10.848548\n",
              "29    -0.129658  0.152699  3       1        7.642257 \n",
              "28     0.004137  0.208232  4       1        6.269385 \n",
              "9     -0.171323  0.115628  5       1        6.228973 \n",
              "6     -0.220646  0.094980  6       1        5.085973 \n",
              "11     0.212215  0.194821  7       1        5.003955 \n",
              "13    -0.114081 -0.082738  8       1        4.896474 \n",
              "16    -0.201457 -0.059867  9       1        3.331318 \n",
              "26     0.185559 -0.032450  10      1        3.193022 \n",
              "23    -0.052962  0.005001  11      1        2.861812 \n",
              "12     0.170551  0.013529  12      1        2.664564 \n",
              "2      0.157628 -0.084716  13      1        2.483906 \n",
              "5     -0.174913 -0.082741  14      1        2.404720 \n",
              "20    -0.104661 -0.268106  15      1        1.988760 \n",
              "21     0.105688 -0.278950  16      1        1.898048 \n",
              "14    -0.112851  0.062557  17      1        1.891159 \n",
              "0      0.046776 -0.103135  18      1        1.789261 \n",
              "4      0.133048 -0.036446  19      1        1.765269 \n",
              "22    -0.134117  0.004937  20      1        1.759749 \n",
              "18    -0.007518 -0.201375  21      1        1.688770 \n",
              "8      0.172237  0.084197  22      1        1.527056 \n",
              "7     -0.147142  0.047514  23      1        1.471692 \n",
              "19     0.248518  0.024537  24      1        1.452751 \n",
              "24    -0.152598 -0.050471  25      1        1.168740 \n",
              "10    -0.089287  0.075237  26      1        1.025283 \n",
              "25     0.249505  0.044059  27      1        0.878609 \n",
              "17    -0.076294  0.040769  28      1        0.565562 \n",
              "15     0.116304 -0.300573  29      1        0.446367 \n",
              "1     -0.016700  0.097641  30      1        0.333862 , topic_info=      Term         Freq        Total Category  logprob  loglift\n",
              "32  C       5675.000000  5675.000000  Default  30.0000  30.0000\n",
              "1   Am7     3811.000000  3811.000000  Default  29.0000  29.0000\n",
              "16  G7      5598.000000  5598.000000  Default  28.0000  28.0000\n",
              "6   C7      2398.000000  2398.000000  Default  27.0000  27.0000\n",
              "74  Am      1486.000000  1486.000000  Default  26.0000  26.0000\n",
              "..  ..              ...          ...      ...      ...      ...\n",
              "7   CM7     0.531656     5124.818503  Topic30 -6.1014  -3.4714 \n",
              "70  Dm7b5   0.191899     349.738442   Topic30 -7.1204  -1.8058 \n",
              "47  Ebdim7  0.184265     503.242721   Topic30 -7.1610  -2.2103 \n",
              "6   C7      0.252504     2398.845451  Topic30 -6.8460  -3.4569 \n",
              "93  Dm      0.174350     561.077216   Topic30 -7.2163  -2.3744 \n",
              "\n",
              "[1349 rows x 6 columns], token_table=      Topic      Freq       Term\n",
              "term                            \n",
              "113   1      0.060739  A        \n",
              "113   4      0.010123  A        \n",
              "113   7      0.131601  A        \n",
              "113   11     0.010123  A        \n",
              "113   24     0.779484  A        \n",
              "...   ..          ... ..        \n",
              "57    24     0.026555  Gm7b5    \n",
              "57    27     0.079664  Gm7b5    \n",
              "57    28     0.504538  Gm7b5    \n",
              "185   28     0.534137  GmM7     \n",
              "186   28     0.534137  GmM7_GmM7\n",
              "\n",
              "[1283 rows x 3 columns], R=30, lambda_step=0.01, plot_opts={'xlab': 'PC1', 'ylab': 'PC2'}, topic_order=[4, 28, 30, 29, 10, 7, 12, 14, 17, 27, 24, 13, 3, 6, 21, 22, 15, 1, 5, 23, 19, 9, 8, 20, 25, 11, 26, 18, 16, 2])"
            ]
          },
          "metadata": {},
          "execution_count": 145
        }
      ]
    },
    {
      "cell_type": "code",
      "metadata": {
        "id": "ba67FJ7SFXi0"
      },
      "source": [
        "with open('pyldavis.html', 'w') as f:\n",
        "  pyLDAvis.save_html(vis, f)"
      ],
      "execution_count": 146,
      "outputs": []
    },
    {
      "cell_type": "code",
      "metadata": {
        "id": "NHxwhMzJLvtf"
      },
      "source": [
        "if use_wandb:\n",
        "  artifact = wandb.Artifact('lda_vis', type='html')\n",
        "  artifact.add_file('pyldavis.html')\n",
        "  wandb.log_artifact(artifact)"
      ],
      "execution_count": 147,
      "outputs": []
    },
    {
      "cell_type": "markdown",
      "metadata": {
        "id": "BWAhrLawYqH-"
      },
      "source": [
        "## Distance Metrics\n"
      ]
    },
    {
      "cell_type": "code",
      "metadata": {
        "colab": {
          "base_uri": "https://localhost:8080/"
        },
        "id": "5uDvLfQw9WyQ",
        "outputId": "005b2a00-4caf-43a6-e41a-81c5b30f9ca6"
      },
      "source": [
        "from gensim.matutils import jaccard\n",
        "\n",
        "# element 0 of the result from lda_model contains the topics that a tune belongs to, with the respective probabilities\n",
        "jaccard(lda_model[corpus[505]][0], lda_model[corpus[925]][0])"
      ],
      "execution_count": 148,
      "outputs": [
        {
          "output_type": "execute_result",
          "data": {
            "text/plain": [
              "0.835400645488711"
            ]
          },
          "metadata": {},
          "execution_count": 148
        }
      ]
    },
    {
      "cell_type": "code",
      "metadata": {
        "id": "FjL7pfZq9Ypj"
      },
      "source": [
        "topic_result.loc[:, ['DominantTopic']].to_csv('topics.csv', index=True, index_label='id')"
      ],
      "execution_count": 149,
      "outputs": []
    },
    {
      "cell_type": "markdown",
      "metadata": {
        "id": "RhOWHSEU0DQH"
      },
      "source": [
        "# W&B Logging and Finish"
      ]
    },
    {
      "cell_type": "code",
      "metadata": {
        "id": "YMUDRHkm0aMV",
        "colab": {
          "base_uri": "https://localhost:8080/",
          "height": 125,
          "referenced_widgets": [
            "d5d8e9791dd24c238bb48b9829687b49",
            "83a7ec23412648c0b5fb565a35bdf3a0",
            "17f26237c7d44d00b5bb8206feec4bb9",
            "913737cb44ad4fc88b2afcaa06a54cf5",
            "fdc53c6dbdb2428a936973c8c7fbdba5",
            "9f2e53ebf9184344b993957dc2abc112",
            "2357ba5094c849e29a793aa84493a08c",
            "9f954a6d733049e2904852da7df023b7"
          ]
        },
        "outputId": "6e83e2a1-b1bb-4ed3-c1c5-1cc2f96864af"
      },
      "source": [
        "if use_wandb:\n",
        "  wandb.finish()"
      ],
      "execution_count": 150,
      "outputs": [
        {
          "output_type": "display_data",
          "data": {
            "text/html": [
              "<br/>Waiting for W&B process to finish, PID 3574... <strong style=\"color:green\">(success).</strong>"
            ],
            "text/plain": [
              "<IPython.core.display.HTML object>"
            ]
          },
          "metadata": {}
        },
        {
          "output_type": "display_data",
          "data": {
            "application/vnd.jupyter.widget-view+json": {
              "model_id": "d5d8e9791dd24c238bb48b9829687b49",
              "version_minor": 0,
              "version_major": 2
            },
            "text/plain": [
              "VBox(children=(Label(value=' 0.71MB of 0.71MB uploaded (0.00MB deduped)\\r'), FloatProgress(value=1.0, max=1.0)…"
            ]
          },
          "metadata": {}
        },
        {
          "output_type": "display_data",
          "data": {
            "text/html": [
              "<style>\n",
              "    table.wandb td:nth-child(1) { padding: 0 10px; text-align: right }\n",
              "    .wandb-row { display: flex; flex-direction: row; flex-wrap: wrap; width: 100% }\n",
              "    .wandb-col { display: flex; flex-direction: column; flex-basis: 100%; flex: 1; padding: 10px; }\n",
              "    </style>\n",
              "<div class=\"wandb-row\"><div class=\"wandb-col\">\n",
              "</div><div class=\"wandb-col\">\n",
              "</div></div>\n",
              "Synced 5 W&B file(s), 4 media file(s), 2 artifact file(s) and 0 other file(s)\n",
              "<br/>Synced <strong style=\"color:#cdcd00\">expert-paper-17</strong>: <a href=\"https://wandb.ai/doris/jazztunes-phrases/runs/18ntdthf\" target=\"_blank\">https://wandb.ai/doris/jazztunes-phrases/runs/18ntdthf</a><br/>\n",
              "Find logs at: <code>./wandb/run-20211129_201012-18ntdthf/logs</code><br/>\n"
            ],
            "text/plain": [
              "<IPython.core.display.HTML object>"
            ]
          },
          "metadata": {}
        }
      ]
    }
  ]
}