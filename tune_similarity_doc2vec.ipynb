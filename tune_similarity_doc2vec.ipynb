{
  "nbformat": 4,
  "nbformat_minor": 0,
  "metadata": {
    "colab": {
      "name": "embeddings.ipynb",
      "provenance": [],
      "toc_visible": true,
      "authorship_tag": "ABX9TyOxNuRglpqaOXzC8KKYQHuC",
      "include_colab_link": true
    },
    "kernelspec": {
      "name": "python3",
      "display_name": "Python 3"
    },
    "language_info": {
      "name": "python"
    },
    "accelerator": "TPU"
  },
  "cells": [
    {
      "cell_type": "markdown",
      "metadata": {
        "id": "view-in-github",
        "colab_type": "text"
      },
      "source": [
        "<a href=\"https://colab.research.google.com/github/11doris/jazz-maestro/blob/colab_word_embeddings/tune_similarity_doc2vec.ipynb\" target=\"_parent\"><img src=\"https://colab.research.google.com/assets/colab-badge.svg\" alt=\"Open In Colab\"/></a>"
      ]
    },
    {
      "cell_type": "code",
      "metadata": {
        "id": "VoXIB1O5-7ji",
        "colab": {
          "base_uri": "https://localhost:8080/"
        },
        "outputId": "30afbdc1-463f-4fcd-d139-267aab7afe86"
      },
      "source": [
        "!pip uninstall gensim -y"
      ],
      "execution_count": 1,
      "outputs": [
        {
          "output_type": "stream",
          "name": "stdout",
          "text": [
            "Found existing installation: gensim 3.6.0\n",
            "Uninstalling gensim-3.6.0:\n",
            "  Successfully uninstalled gensim-3.6.0\n"
          ]
        }
      ]
    },
    {
      "cell_type": "code",
      "metadata": {
        "colab": {
          "base_uri": "https://localhost:8080/"
        },
        "id": "XHIcitVKDLB4",
        "outputId": "73e8c100-1b57-4979-eced-b8d20bf8aa29"
      },
      "source": [
        "!pip install gensim"
      ],
      "execution_count": 2,
      "outputs": [
        {
          "output_type": "stream",
          "name": "stdout",
          "text": [
            "Collecting gensim\n",
            "  Downloading gensim-4.1.2-cp37-cp37m-manylinux_2_12_x86_64.manylinux2010_x86_64.whl (24.1 MB)\n",
            "\u001b[K     |████████████████████████████████| 24.1 MB 2.5 kB/s \n",
            "\u001b[?25hRequirement already satisfied: scipy>=0.18.1 in /usr/local/lib/python3.7/dist-packages (from gensim) (1.4.1)\n",
            "Requirement already satisfied: smart-open>=1.8.1 in /usr/local/lib/python3.7/dist-packages (from gensim) (5.2.1)\n",
            "Requirement already satisfied: numpy>=1.17.0 in /usr/local/lib/python3.7/dist-packages (from gensim) (1.19.5)\n",
            "Installing collected packages: gensim\n",
            "Successfully installed gensim-4.1.2\n"
          ]
        }
      ]
    },
    {
      "cell_type": "code",
      "metadata": {
        "id": "yFHWhc4BDNx9"
      },
      "source": [
        "import gensim\n",
        "from sklearn.manifold import TSNE\n",
        "import matplotlib.pyplot as plt\n",
        "import pprint\n",
        "import pandas as pd\n",
        "import numpy as np\n",
        "from collections import Counter\n",
        "import plotly.express as px\n",
        "from tqdm import tqdm \n",
        "from gensim.models.doc2vec import Doc2Vec\n",
        "import pickle\n",
        "import os"
      ],
      "execution_count": 3,
      "outputs": []
    },
    {
      "cell_type": "code",
      "metadata": {
        "id": "xxEAVQCpDQ7N"
      },
      "source": [
        "import logging\n",
        "logging.basicConfig(format='%(asctime)s : %(levelname)s : %(message)s', level=logging.INFO)"
      ],
      "execution_count": 4,
      "outputs": []
    },
    {
      "cell_type": "code",
      "metadata": {
        "colab": {
          "base_uri": "https://localhost:8080/"
        },
        "id": "HsmSsqPeDSr_",
        "outputId": "b8840c05-090f-4750-fa06-51958fe39254"
      },
      "source": [
        "print(gensim.__version__)"
      ],
      "execution_count": 5,
      "outputs": [
        {
          "output_type": "stream",
          "name": "stdout",
          "text": [
            "4.1.2\n"
          ]
        }
      ]
    },
    {
      "cell_type": "markdown",
      "metadata": {
        "id": "t-mBCpiCFFf9"
      },
      "source": [
        "# Initialization\n",
        "\n",
        "## Download the Data"
      ]
    },
    {
      "cell_type": "markdown",
      "metadata": {
        "id": "x0vxbCbNEUco"
      },
      "source": [
        "Full chords:"
      ]
    },
    {
      "cell_type": "code",
      "metadata": {
        "colab": {
          "base_uri": "https://localhost:8080/"
        },
        "id": "jO0Yysm1DXug",
        "outputId": "b810867c-6727-4fcf-b571-cd58e5e0e5a2"
      },
      "source": [
        "!wget --no-check-certificate 'https://docs.google.com/uc?export=download&id=1H8uRflGJGQecZlmy4jTK8aqKlyc-8C6y' -O input_seq.txt"
      ],
      "execution_count": 6,
      "outputs": [
        {
          "output_type": "stream",
          "name": "stdout",
          "text": [
            "--2021-11-10 09:04:52--  https://docs.google.com/uc?export=download&id=1H8uRflGJGQecZlmy4jTK8aqKlyc-8C6y\n",
            "Resolving docs.google.com (docs.google.com)... 142.250.125.100, 142.250.125.113, 142.250.125.138, ...\n",
            "Connecting to docs.google.com (docs.google.com)|142.250.125.100|:443... connected.\n",
            "HTTP request sent, awaiting response... 302 Moved Temporarily\n",
            "Location: https://doc-14-4c-docs.googleusercontent.com/docs/securesc/ha0ro937gcuc7l7deffksulhg5h7mbp1/oealvn04ofhfi7dumcgd0rl9i6h2n816/1636535025000/14329102864480165501/*/1H8uRflGJGQecZlmy4jTK8aqKlyc-8C6y?e=download [following]\n",
            "Warning: wildcards not supported in HTTP.\n",
            "--2021-11-10 09:04:52--  https://doc-14-4c-docs.googleusercontent.com/docs/securesc/ha0ro937gcuc7l7deffksulhg5h7mbp1/oealvn04ofhfi7dumcgd0rl9i6h2n816/1636535025000/14329102864480165501/*/1H8uRflGJGQecZlmy4jTK8aqKlyc-8C6y?e=download\n",
            "Resolving doc-14-4c-docs.googleusercontent.com (doc-14-4c-docs.googleusercontent.com)... 142.250.125.132, 2607:f8b0:4001:c2f::84\n",
            "Connecting to doc-14-4c-docs.googleusercontent.com (doc-14-4c-docs.googleusercontent.com)|142.250.125.132|:443... connected.\n",
            "HTTP request sent, awaiting response... 200 OK\n",
            "Length: 323978 (316K) [text/plain]\n",
            "Saving to: ‘input_seq.txt’\n",
            "\n",
            "input_seq.txt       100%[===================>] 316.38K  --.-KB/s    in 0.003s  \n",
            "\n",
            "2021-11-10 09:04:52 (110 MB/s) - ‘input_seq.txt’ saved [323978/323978]\n",
            "\n"
          ]
        }
      ]
    },
    {
      "cell_type": "markdown",
      "metadata": {
        "id": "KQ5v_VidEXeU"
      },
      "source": [
        "Simplified chords:"
      ]
    },
    {
      "cell_type": "code",
      "metadata": {
        "colab": {
          "base_uri": "https://localhost:8080/"
        },
        "id": "N19Fy2rzEgLe",
        "outputId": "96b12960-72de-4008-8605-91dbfaf65517"
      },
      "source": [
        "!wget --no-check-certificate 'https://docs.google.com/uc?export=download&id=1fRbL2qj3eMHUsvnLbrn_ah6bOU58RaJ_' -O input_seq.txt"
      ],
      "execution_count": 7,
      "outputs": [
        {
          "output_type": "stream",
          "name": "stdout",
          "text": [
            "--2021-11-10 09:04:53--  https://docs.google.com/uc?export=download&id=1fRbL2qj3eMHUsvnLbrn_ah6bOU58RaJ_\n",
            "Resolving docs.google.com (docs.google.com)... 142.250.125.139, 142.250.125.101, 142.250.125.113, ...\n",
            "Connecting to docs.google.com (docs.google.com)|142.250.125.139|:443... connected.\n",
            "HTTP request sent, awaiting response... 302 Moved Temporarily\n",
            "Location: https://doc-10-4c-docs.googleusercontent.com/docs/securesc/ha0ro937gcuc7l7deffksulhg5h7mbp1/bhcfaf8c66g6qvk27d6hqrvg9i0djf7r/1636535025000/14329102864480165501/*/1fRbL2qj3eMHUsvnLbrn_ah6bOU58RaJ_?e=download [following]\n",
            "Warning: wildcards not supported in HTTP.\n",
            "--2021-11-10 09:04:53--  https://doc-10-4c-docs.googleusercontent.com/docs/securesc/ha0ro937gcuc7l7deffksulhg5h7mbp1/bhcfaf8c66g6qvk27d6hqrvg9i0djf7r/1636535025000/14329102864480165501/*/1fRbL2qj3eMHUsvnLbrn_ah6bOU58RaJ_?e=download\n",
            "Resolving doc-10-4c-docs.googleusercontent.com (doc-10-4c-docs.googleusercontent.com)... 142.250.125.132, 2607:f8b0:4001:c2f::84\n",
            "Connecting to doc-10-4c-docs.googleusercontent.com (doc-10-4c-docs.googleusercontent.com)|142.250.125.132|:443... connected.\n",
            "HTTP request sent, awaiting response... 200 OK\n",
            "Length: 323985 (316K) [text/plain]\n",
            "Saving to: ‘input_seq.txt’\n",
            "\n",
            "input_seq.txt       100%[===================>] 316.39K  --.-KB/s    in 0.003s  \n",
            "\n",
            "2021-11-10 09:04:53 (106 MB/s) - ‘input_seq.txt’ saved [323985/323985]\n",
            "\n"
          ]
        }
      ]
    },
    {
      "cell_type": "markdown",
      "metadata": {
        "id": "3jMvZYsqEdvX"
      },
      "source": [
        "Meta Data:"
      ]
    },
    {
      "cell_type": "code",
      "metadata": {
        "colab": {
          "base_uri": "https://localhost:8080/"
        },
        "id": "NMjowLVYDZea",
        "outputId": "3c6e83ad-3ebe-4522-b12a-dc37cb6bcb75"
      },
      "source": [
        "!wget --no-check-certificate 'https://docs.google.com/uc?export=download&id=1Gy68KSn98UhfQm9YeRHjP6JsBzlN5z-S' -O input_meta.csv"
      ],
      "execution_count": 8,
      "outputs": [
        {
          "output_type": "stream",
          "name": "stdout",
          "text": [
            "--2021-11-10 09:04:53--  https://docs.google.com/uc?export=download&id=1Gy68KSn98UhfQm9YeRHjP6JsBzlN5z-S\n",
            "Resolving docs.google.com (docs.google.com)... 142.250.125.139, 142.250.125.100, 142.250.125.113, ...\n",
            "Connecting to docs.google.com (docs.google.com)|142.250.125.139|:443... connected.\n",
            "HTTP request sent, awaiting response... 302 Moved Temporarily\n",
            "Location: https://doc-0k-4c-docs.googleusercontent.com/docs/securesc/ha0ro937gcuc7l7deffksulhg5h7mbp1/58tm7ombjd8jpgjdlu0rq3ls4mb5qo9s/1636535025000/14329102864480165501/*/1Gy68KSn98UhfQm9YeRHjP6JsBzlN5z-S?e=download [following]\n",
            "Warning: wildcards not supported in HTTP.\n",
            "--2021-11-10 09:04:54--  https://doc-0k-4c-docs.googleusercontent.com/docs/securesc/ha0ro937gcuc7l7deffksulhg5h7mbp1/58tm7ombjd8jpgjdlu0rq3ls4mb5qo9s/1636535025000/14329102864480165501/*/1Gy68KSn98UhfQm9YeRHjP6JsBzlN5z-S?e=download\n",
            "Resolving doc-0k-4c-docs.googleusercontent.com (doc-0k-4c-docs.googleusercontent.com)... 142.250.125.132, 2607:f8b0:4001:c2f::84\n",
            "Connecting to doc-0k-4c-docs.googleusercontent.com (doc-0k-4c-docs.googleusercontent.com)|142.250.125.132|:443... connected.\n",
            "HTTP request sent, awaiting response... 200 OK\n",
            "Length: 611295 (597K) [text/csv]\n",
            "Saving to: ‘input_meta.csv’\n",
            "\n",
            "input_meta.csv      100%[===================>] 596.97K  --.-KB/s    in 0.005s  \n",
            "\n",
            "2021-11-10 09:04:54 (117 MB/s) - ‘input_meta.csv’ saved [611295/611295]\n",
            "\n"
          ]
        }
      ]
    },
    {
      "cell_type": "code",
      "metadata": {
        "id": "HNnxW3deDdje"
      },
      "source": [
        "path_to_file = '/content/input_seq.txt'\n",
        "\n",
        "with open(path_to_file) as f: \n",
        "  lines = f.read().splitlines()"
      ],
      "execution_count": 9,
      "outputs": []
    },
    {
      "cell_type": "code",
      "metadata": {
        "id": "pStsp1IPDfOI"
      },
      "source": [
        "data = [line.split(' ') for line in lines]"
      ],
      "execution_count": 10,
      "outputs": []
    },
    {
      "cell_type": "markdown",
      "metadata": {
        "id": "NC15DweTFUWw"
      },
      "source": [
        "### Meta Data"
      ]
    },
    {
      "cell_type": "code",
      "metadata": {
        "id": "4QZ8gPCHDjIm",
        "colab": {
          "base_uri": "https://localhost:8080/"
        },
        "outputId": "cb888eca-10e1-40b8-f2a9-a22802ff13b3"
      },
      "source": [
        "meta = pd.read_csv('input_meta.csv', sep='\\t')\n",
        "meta.columns"
      ],
      "execution_count": 11,
      "outputs": [
        {
          "output_type": "execute_result",
          "data": {
            "text/plain": [
              "Index(['id', 'file_name', 'title', 'composer', 'year', 'year_truncated',\n",
              "       'tonality', 'tune_key', 'tune_mode', 'structure', 'num_bars',\n",
              "       'time_signature', 'cycle_fifths_order', 'style', 'musicbrainz_id',\n",
              "       'wikidata_id', 'wikidata_allmusic', 'wiki_link', 'wikidata_description',\n",
              "       'lyricist'],\n",
              "      dtype='object')"
            ]
          },
          "metadata": {},
          "execution_count": 11
        }
      ]
    },
    {
      "cell_type": "code",
      "metadata": {
        "id": "217DwGWsDlqJ"
      },
      "source": [
        "titles = meta.loc[:, ['id', 'title', 'tune_mode']].drop_duplicates()\n",
        "titles.set_index('id', inplace=True)"
      ],
      "execution_count": 12,
      "outputs": []
    },
    {
      "cell_type": "code",
      "metadata": {
        "id": "aFtbz6ulDoXh"
      },
      "source": [
        "assert len(data) == len(titles)"
      ],
      "execution_count": 13,
      "outputs": []
    },
    {
      "cell_type": "code",
      "metadata": {
        "id": "TwGCFho32SIj",
        "colab": {
          "base_uri": "https://localhost:8080/",
          "height": 36
        },
        "outputId": "17268f04-c422-4a45-b312-182481f9dc2f"
      },
      "source": [
        "titles_dict = titles.to_dict()\n",
        "index_to_title = titles_dict['title']\n",
        "index_to_title[1170]"
      ],
      "execution_count": 14,
      "outputs": [
        {
          "output_type": "execute_result",
          "data": {
            "application/vnd.google.colaboratory.intrinsic+json": {
              "type": "string"
            },
            "text/plain": [
              "'These Foolish Things'"
            ]
          },
          "metadata": {},
          "execution_count": 14
        }
      ]
    },
    {
      "cell_type": "code",
      "metadata": {
        "id": "aoscgat43gt6",
        "colab": {
          "base_uri": "https://localhost:8080/"
        },
        "outputId": "15cc83e1-b6bf-4d36-cf42-7db8fff97a2e"
      },
      "source": [
        "title_to_index = {value: index for index, value in index_to_title.items()}\n",
        "title_to_index['These Foolish Things']"
      ],
      "execution_count": 16,
      "outputs": [
        {
          "output_type": "execute_result",
          "data": {
            "text/plain": [
              "1170"
            ]
          },
          "metadata": {},
          "execution_count": 16
        }
      ]
    },
    {
      "cell_type": "markdown",
      "metadata": {
        "id": "9Jzw61sAxXzO"
      },
      "source": [
        "# Visualize Chord N-Grams\n",
        "\n"
      ]
    },
    {
      "cell_type": "code",
      "metadata": {
        "id": "8yqyjnmXxg78"
      },
      "source": [
        "def ngrams(tokens, n=2, sep='-'):\n",
        "    return [sep.join(ngram) for ngram in zip(*[tokens[i:] for i in range(n)])]"
      ],
      "execution_count": 17,
      "outputs": []
    },
    {
      "cell_type": "code",
      "metadata": {
        "id": "Da8qR5CLz7xH"
      },
      "source": [
        "def list_to_ngrams(data, n=2, sep='-'):\n",
        "  out = []\n",
        "  for row in data:\n",
        "    out.append(ngrams(row, n, sep))\n",
        "\n",
        "  return out"
      ],
      "execution_count": 18,
      "outputs": []
    },
    {
      "cell_type": "code",
      "metadata": {
        "id": "KKLg2fp70YoA"
      },
      "source": [
        "data_ngrams = list_to_ngrams(data, 3)"
      ],
      "execution_count": 19,
      "outputs": []
    },
    {
      "cell_type": "code",
      "metadata": {
        "id": "8gWegjzG_q7U"
      },
      "source": [
        "def raw_chords_to_df(tunes):\n",
        "  tunes_chords = [item for tune in tunes for item in tune]\n",
        "  counts = Counter(tunes_chords)\n",
        "  df = pd.DataFrame(counts.items(),\n",
        "                    columns=['chord', 'count']).sort_values(by='count', ascending=False)\n",
        "\n",
        "  return df"
      ],
      "execution_count": 20,
      "outputs": []
    },
    {
      "cell_type": "code",
      "metadata": {
        "colab": {
          "base_uri": "https://localhost:8080/",
          "height": 363
        },
        "id": "ukqcAMdo_vao",
        "outputId": "f43f9b82-a0bb-4f07-f532-7293461d15e9"
      },
      "source": [
        "df_chords = raw_chords_to_df(data_ngrams)\n",
        "df_chords.head(10)"
      ],
      "execution_count": 21,
      "outputs": [
        {
          "output_type": "execute_result",
          "data": {
            "text/html": [
              "<div>\n",
              "<style scoped>\n",
              "    .dataframe tbody tr th:only-of-type {\n",
              "        vertical-align: middle;\n",
              "    }\n",
              "\n",
              "    .dataframe tbody tr th {\n",
              "        vertical-align: top;\n",
              "    }\n",
              "\n",
              "    .dataframe thead th {\n",
              "        text-align: right;\n",
              "    }\n",
              "</style>\n",
              "<table border=\"1\" class=\"dataframe\">\n",
              "  <thead>\n",
              "    <tr style=\"text-align: right;\">\n",
              "      <th></th>\n",
              "      <th>chord</th>\n",
              "      <th>count</th>\n",
              "    </tr>\n",
              "  </thead>\n",
              "  <tbody>\n",
              "    <tr>\n",
              "      <th>14</th>\n",
              "      <td>Dm7-G7-CM7</td>\n",
              "      <td>1628</td>\n",
              "    </tr>\n",
              "    <tr>\n",
              "      <th>76</th>\n",
              "      <td>G7-C-C</td>\n",
              "      <td>1471</td>\n",
              "    </tr>\n",
              "    <tr>\n",
              "      <th>136</th>\n",
              "      <td>A7-Dm7-G7</td>\n",
              "      <td>1427</td>\n",
              "    </tr>\n",
              "    <tr>\n",
              "      <th>900</th>\n",
              "      <td>C-C-C</td>\n",
              "      <td>1056</td>\n",
              "    </tr>\n",
              "    <tr>\n",
              "      <th>184</th>\n",
              "      <td>Dm7-G7-C6</td>\n",
              "      <td>996</td>\n",
              "    </tr>\n",
              "    <tr>\n",
              "      <th>86</th>\n",
              "      <td>G7-G7-C</td>\n",
              "      <td>967</td>\n",
              "    </tr>\n",
              "    <tr>\n",
              "      <th>135</th>\n",
              "      <td>Em7-A7-Dm7</td>\n",
              "      <td>828</td>\n",
              "    </tr>\n",
              "    <tr>\n",
              "      <th>862</th>\n",
              "      <td>D7-G7-C</td>\n",
              "      <td>760</td>\n",
              "    </tr>\n",
              "    <tr>\n",
              "      <th>182</th>\n",
              "      <td>A7-D7-G7</td>\n",
              "      <td>742</td>\n",
              "    </tr>\n",
              "    <tr>\n",
              "      <th>71</th>\n",
              "      <td>Am7-Dm7-G7</td>\n",
              "      <td>650</td>\n",
              "    </tr>\n",
              "  </tbody>\n",
              "</table>\n",
              "</div>"
            ],
            "text/plain": [
              "          chord  count\n",
              "14   Dm7-G7-CM7   1628\n",
              "76       G7-C-C   1471\n",
              "136   A7-Dm7-G7   1427\n",
              "900       C-C-C   1056\n",
              "184   Dm7-G7-C6    996\n",
              "86      G7-G7-C    967\n",
              "135  Em7-A7-Dm7    828\n",
              "862     D7-G7-C    760\n",
              "182    A7-D7-G7    742\n",
              "71   Am7-Dm7-G7    650"
            ]
          },
          "metadata": {},
          "execution_count": 21
        }
      ]
    },
    {
      "cell_type": "code",
      "metadata": {
        "colab": {
          "base_uri": "https://localhost:8080/",
          "height": 561
        },
        "id": "WK4uY6c2BMiL",
        "outputId": "55896f7a-c401-4f0b-adda-6b2695b666b9"
      },
      "source": [
        "df_chords = pd.DataFrame.from_dict(df_chords)\n",
        "df_chords.sort_values(by=['count'], ascending=False, inplace=True)\n",
        "df_chords_top = df_chords.query('count > 100')\n",
        "\n",
        "fig = px.bar(df_chords_top, x='chord', y='count', log_y=True)\n",
        "fig.update_layout(barmode='stack', xaxis={'categoryorder':'total descending'})\n",
        "fig.show()"
      ],
      "execution_count": 22,
      "outputs": [
        {
          "output_type": "stream",
          "name": "stderr",
          "text": [
            "2021-11-10 09:05:50,524 : INFO : NumExpr defaulting to 2 threads.\n"
          ]
        },
        {
          "output_type": "display_data",
          "data": {
            "text/html": [
              "<html>\n",
              "<head><meta charset=\"utf-8\" /></head>\n",
              "<body>\n",
              "    <div>\n",
              "            <script src=\"https://cdnjs.cloudflare.com/ajax/libs/mathjax/2.7.5/MathJax.js?config=TeX-AMS-MML_SVG\"></script><script type=\"text/javascript\">if (window.MathJax) {MathJax.Hub.Config({SVG: {font: \"STIX-Web\"}});}</script>\n",
              "                <script type=\"text/javascript\">window.PlotlyConfig = {MathJaxConfig: 'local'};</script>\n",
              "        <script src=\"https://cdn.plot.ly/plotly-latest.min.js\"></script>    \n",
              "            <div id=\"8874030b-5187-4135-8470-e6d232312384\" class=\"plotly-graph-div\" style=\"height:525px; width:100%;\"></div>\n",
              "            <script type=\"text/javascript\">\n",
              "                \n",
              "                    window.PLOTLYENV=window.PLOTLYENV || {};\n",
              "                    \n",
              "                if (document.getElementById(\"8874030b-5187-4135-8470-e6d232312384\")) {\n",
              "                    Plotly.newPlot(\n",
              "                        '8874030b-5187-4135-8470-e6d232312384',\n",
              "                        [{\"alignmentgroup\": \"True\", \"hoverlabel\": {\"namelength\": 0}, \"hovertemplate\": \"chord=%{x}<br>count=%{y}\", \"legendgroup\": \"\", \"marker\": {\"color\": \"#636efa\"}, \"name\": \"\", \"offsetgroup\": \"\", \"orientation\": \"v\", \"showlegend\": false, \"textposition\": \"auto\", \"type\": \"bar\", \"x\": [\"Dm7-G7-CM7\", \"G7-C-C\", \"A7-Dm7-G7\", \"C-C-C\", \"Dm7-G7-C6\", \"G7-G7-C\", \"Em7-A7-Dm7\", \"D7-G7-C\", \"A7-D7-G7\", \"Am7-Dm7-G7\", \"C-G7-C\", \"G7-G7-G7\", \"C-C-G7\", \"Dm7-G7-C\", \"D7-G7-G7\", \"C-C7-F\", \"D7-Dm7-G7\", \"D7-D7-G7\", \"Gm7-C7-FM7\", \"C-G7-G7\", \"G7-Dm7-G7\", \"Bm7b5-E7-Am7\", \"Dm7-G7-Dm7\", \"G7-CM7-CM7\", \"C-A7-D7\", \"Dm7-G7-Em7\", \"G7-C-G7\", \"A7-D7-D7\", \"G7-C-C7\", \"C7-F-F\", \"C-F-C\", \"Am7-D7-Dm7\", \"C7-C7-C7\", \"G7-Em7-A7\", \"G7-C6-C6\", \"E7-Am7-D7\", \"F-Fm-C\", \"CM7-Am7-Dm7\", \"C6-Dm7-G7\", \"A7-A7-D7\", \"Em7b5-A7-Dm7\", \"Am7-Am7-Am7\", \"Ebdim7-Dm7-G7\", \"CM7-A7-Dm7\", \"G7-CM7-Am7\", \"G7-C6-Dm7\", \"CM7-Dm7-G7\", \"G7-C-F\", \"F-C-C\", \"E7-Am-Am\", \"C-C-F\", \"E7-A7-A7\", \"CM7-CM7-CM7\", \"G7-CM7-Dm7\", \"Am7-D7-G7\", \"D7-G7-C6\", \"CM7-Gm7-C7\", \"D7-D7-D7\", \"F-F-C\", \"C-C-C7\", \"E7-Am7-Am7\", \"C7-F-Fm\", \"C6-Am7-Dm7\", \"G7-CM7-A7\", \"C-C-D7\", \"C7-FM7-Bb7\", \"Am-Am-Am\", \"Dm7-G7-G7\", \"G7-C6-Am7\", \"Bm7b5-E7-Am\", \"F-F#dim-C\", \"C#dim7-Dm7-G7\", \"G7-Gm7-C7\", \"G7-CM7-F7\", \"D7-G7-CM7\", \"F#m7b5-B7-Em7\", \"Em7-Am7-Dm7\", \"Em7-Ebdim7-Dm7\", \"C7-C7-F\", \"Bb7-Em7-A7\", \"C-D7-G7\", \"Am-E7-Am\", \"G7-C-A7\", \"Dm7-G7-C7\", \"F-F-F\", \"Dm7-G7-Gm7\", \"G7-G7-CM7\", \"CM7-G7-CM7\", \"CM7-Bm7b5-E7\", \"C-C-A7\", \"A7-Dm7-Dm7\", \"G#7-Dm7-G7\", \"C7-FM7-FM7\", \"G7-CM7-G7\", \"E7-A7-D7\", \"CM7-F7-Em7\", \"Dm7-Dm7-G7\", \"F7-Em7-A7\", \"CM7-C#dim7-Dm7\", \"G7-CM7-Gm7\", \"G7-C6-G7\", \"CM7-C7-FM7\", \"B7-Em7-A7\", \"G7-C-E7\", \"D7-D7-Dm7\", \"F-C-G7\", \"Ebdim-Dm7-G7\", \"G7-CM7-C7\", \"E7-Am-E7\", \"C6-A7-Dm7\", \"C-D7-D7\", \"Em7-A7-D7\", \"Bb7-A7-D7\", \"C6-Gm7-C7\", \"Am7-Bm7b5-E7\", \"E7-E7-A7\", \"G7-C7-C7\", \"D7-Am7-D7\", \"G-C-C\", \"CM7-Dm7-Em7\", \"G7-C6-A7\", \"Ebm7-G#7-Dm7\", \"Fm7-Bb7-EbM7\", \"C-Dm7-G7\", \"CM7-Em7-A7\", \"Dm7b5-G7-CM7\", \"Fm7-Bb7-Em7\", \"E7-E7-Am\"], \"xaxis\": \"x\", \"y\": [1628, 1471, 1427, 1056, 996, 967, 828, 760, 742, 650, 627, 616, 589, 581, 530, 524, 518, 500, 497, 491, 434, 417, 371, 369, 365, 336, 331, 328, 327, 322, 316, 296, 285, 280, 272, 271, 266, 260, 254, 251, 249, 244, 242, 236, 229, 226, 225, 223, 218, 211, 203, 202, 201, 198, 193, 191, 190, 186, 184, 182, 181, 181, 178, 176, 175, 171, 170, 170, 167, 167, 164, 156, 155, 155, 153, 152, 150, 149, 141, 140, 140, 139, 136, 136, 135, 134, 133, 131, 131, 130, 130, 130, 129, 129, 128, 127, 127, 125, 125, 125, 123, 122, 122, 122, 121, 121, 114, 113, 111, 110, 110, 109, 108, 107, 106, 106, 105, 105, 105, 105, 104, 103, 103, 102, 102, 102, 101, 101], \"yaxis\": \"y\"}],\n",
              "                        {\"barmode\": \"stack\", \"legend\": {\"tracegroupgap\": 0}, \"margin\": {\"t\": 60}, \"template\": {\"data\": {\"bar\": [{\"error_x\": {\"color\": \"#2a3f5f\"}, \"error_y\": {\"color\": \"#2a3f5f\"}, \"marker\": {\"line\": {\"color\": \"#E5ECF6\", \"width\": 0.5}}, \"type\": \"bar\"}], \"barpolar\": [{\"marker\": {\"line\": {\"color\": \"#E5ECF6\", \"width\": 0.5}}, \"type\": \"barpolar\"}], \"carpet\": [{\"aaxis\": {\"endlinecolor\": \"#2a3f5f\", \"gridcolor\": \"white\", \"linecolor\": \"white\", \"minorgridcolor\": \"white\", \"startlinecolor\": \"#2a3f5f\"}, \"baxis\": {\"endlinecolor\": \"#2a3f5f\", \"gridcolor\": \"white\", \"linecolor\": \"white\", \"minorgridcolor\": \"white\", \"startlinecolor\": \"#2a3f5f\"}, \"type\": \"carpet\"}], \"choropleth\": [{\"colorbar\": {\"outlinewidth\": 0, \"ticks\": \"\"}, \"type\": \"choropleth\"}], \"contour\": [{\"colorbar\": {\"outlinewidth\": 0, \"ticks\": \"\"}, \"colorscale\": [[0.0, \"#0d0887\"], [0.1111111111111111, \"#46039f\"], [0.2222222222222222, \"#7201a8\"], [0.3333333333333333, \"#9c179e\"], [0.4444444444444444, \"#bd3786\"], [0.5555555555555556, \"#d8576b\"], [0.6666666666666666, \"#ed7953\"], [0.7777777777777778, \"#fb9f3a\"], [0.8888888888888888, \"#fdca26\"], [1.0, \"#f0f921\"]], \"type\": \"contour\"}], \"contourcarpet\": [{\"colorbar\": {\"outlinewidth\": 0, \"ticks\": \"\"}, \"type\": \"contourcarpet\"}], \"heatmap\": [{\"colorbar\": {\"outlinewidth\": 0, \"ticks\": \"\"}, \"colorscale\": [[0.0, \"#0d0887\"], [0.1111111111111111, \"#46039f\"], [0.2222222222222222, \"#7201a8\"], [0.3333333333333333, \"#9c179e\"], [0.4444444444444444, \"#bd3786\"], [0.5555555555555556, \"#d8576b\"], [0.6666666666666666, \"#ed7953\"], [0.7777777777777778, \"#fb9f3a\"], [0.8888888888888888, \"#fdca26\"], [1.0, \"#f0f921\"]], \"type\": \"heatmap\"}], \"heatmapgl\": [{\"colorbar\": {\"outlinewidth\": 0, \"ticks\": \"\"}, \"colorscale\": [[0.0, \"#0d0887\"], [0.1111111111111111, \"#46039f\"], [0.2222222222222222, \"#7201a8\"], [0.3333333333333333, \"#9c179e\"], [0.4444444444444444, \"#bd3786\"], [0.5555555555555556, \"#d8576b\"], [0.6666666666666666, \"#ed7953\"], [0.7777777777777778, \"#fb9f3a\"], [0.8888888888888888, \"#fdca26\"], [1.0, \"#f0f921\"]], \"type\": \"heatmapgl\"}], \"histogram\": [{\"marker\": {\"colorbar\": {\"outlinewidth\": 0, \"ticks\": \"\"}}, \"type\": \"histogram\"}], \"histogram2d\": [{\"colorbar\": {\"outlinewidth\": 0, \"ticks\": \"\"}, \"colorscale\": [[0.0, \"#0d0887\"], [0.1111111111111111, \"#46039f\"], [0.2222222222222222, \"#7201a8\"], [0.3333333333333333, \"#9c179e\"], [0.4444444444444444, \"#bd3786\"], [0.5555555555555556, \"#d8576b\"], [0.6666666666666666, \"#ed7953\"], [0.7777777777777778, \"#fb9f3a\"], [0.8888888888888888, \"#fdca26\"], [1.0, \"#f0f921\"]], \"type\": \"histogram2d\"}], \"histogram2dcontour\": [{\"colorbar\": {\"outlinewidth\": 0, \"ticks\": \"\"}, \"colorscale\": [[0.0, \"#0d0887\"], [0.1111111111111111, \"#46039f\"], [0.2222222222222222, \"#7201a8\"], [0.3333333333333333, \"#9c179e\"], [0.4444444444444444, \"#bd3786\"], [0.5555555555555556, \"#d8576b\"], [0.6666666666666666, \"#ed7953\"], [0.7777777777777778, \"#fb9f3a\"], [0.8888888888888888, \"#fdca26\"], [1.0, \"#f0f921\"]], \"type\": \"histogram2dcontour\"}], \"mesh3d\": [{\"colorbar\": {\"outlinewidth\": 0, \"ticks\": \"\"}, \"type\": \"mesh3d\"}], \"parcoords\": [{\"line\": {\"colorbar\": {\"outlinewidth\": 0, \"ticks\": \"\"}}, \"type\": \"parcoords\"}], \"pie\": [{\"automargin\": true, \"type\": \"pie\"}], \"scatter\": [{\"marker\": {\"colorbar\": {\"outlinewidth\": 0, \"ticks\": \"\"}}, \"type\": \"scatter\"}], \"scatter3d\": [{\"line\": {\"colorbar\": {\"outlinewidth\": 0, \"ticks\": \"\"}}, \"marker\": {\"colorbar\": {\"outlinewidth\": 0, \"ticks\": \"\"}}, \"type\": \"scatter3d\"}], \"scattercarpet\": [{\"marker\": {\"colorbar\": {\"outlinewidth\": 0, \"ticks\": \"\"}}, \"type\": \"scattercarpet\"}], \"scattergeo\": [{\"marker\": {\"colorbar\": {\"outlinewidth\": 0, \"ticks\": \"\"}}, \"type\": \"scattergeo\"}], \"scattergl\": [{\"marker\": {\"colorbar\": {\"outlinewidth\": 0, \"ticks\": \"\"}}, \"type\": \"scattergl\"}], \"scattermapbox\": [{\"marker\": {\"colorbar\": {\"outlinewidth\": 0, \"ticks\": \"\"}}, \"type\": \"scattermapbox\"}], \"scatterpolar\": [{\"marker\": {\"colorbar\": {\"outlinewidth\": 0, \"ticks\": \"\"}}, \"type\": \"scatterpolar\"}], \"scatterpolargl\": [{\"marker\": {\"colorbar\": {\"outlinewidth\": 0, \"ticks\": \"\"}}, \"type\": \"scatterpolargl\"}], \"scatterternary\": [{\"marker\": {\"colorbar\": {\"outlinewidth\": 0, \"ticks\": \"\"}}, \"type\": \"scatterternary\"}], \"surface\": [{\"colorbar\": {\"outlinewidth\": 0, \"ticks\": \"\"}, \"colorscale\": [[0.0, \"#0d0887\"], [0.1111111111111111, \"#46039f\"], [0.2222222222222222, \"#7201a8\"], [0.3333333333333333, \"#9c179e\"], [0.4444444444444444, \"#bd3786\"], [0.5555555555555556, \"#d8576b\"], [0.6666666666666666, \"#ed7953\"], [0.7777777777777778, \"#fb9f3a\"], [0.8888888888888888, \"#fdca26\"], [1.0, \"#f0f921\"]], \"type\": \"surface\"}], \"table\": [{\"cells\": {\"fill\": {\"color\": \"#EBF0F8\"}, \"line\": {\"color\": \"white\"}}, \"header\": {\"fill\": {\"color\": \"#C8D4E3\"}, \"line\": {\"color\": \"white\"}}, \"type\": \"table\"}]}, \"layout\": {\"annotationdefaults\": {\"arrowcolor\": \"#2a3f5f\", \"arrowhead\": 0, \"arrowwidth\": 1}, \"coloraxis\": {\"colorbar\": {\"outlinewidth\": 0, \"ticks\": \"\"}}, \"colorscale\": {\"diverging\": [[0, \"#8e0152\"], [0.1, \"#c51b7d\"], [0.2, \"#de77ae\"], [0.3, \"#f1b6da\"], [0.4, \"#fde0ef\"], [0.5, \"#f7f7f7\"], [0.6, \"#e6f5d0\"], [0.7, \"#b8e186\"], [0.8, \"#7fbc41\"], [0.9, \"#4d9221\"], [1, \"#276419\"]], \"sequential\": [[0.0, \"#0d0887\"], [0.1111111111111111, \"#46039f\"], [0.2222222222222222, \"#7201a8\"], [0.3333333333333333, \"#9c179e\"], [0.4444444444444444, \"#bd3786\"], [0.5555555555555556, \"#d8576b\"], [0.6666666666666666, \"#ed7953\"], [0.7777777777777778, \"#fb9f3a\"], [0.8888888888888888, \"#fdca26\"], [1.0, \"#f0f921\"]], \"sequentialminus\": [[0.0, \"#0d0887\"], [0.1111111111111111, \"#46039f\"], [0.2222222222222222, \"#7201a8\"], [0.3333333333333333, \"#9c179e\"], [0.4444444444444444, \"#bd3786\"], [0.5555555555555556, \"#d8576b\"], [0.6666666666666666, \"#ed7953\"], [0.7777777777777778, \"#fb9f3a\"], [0.8888888888888888, \"#fdca26\"], [1.0, \"#f0f921\"]]}, \"colorway\": [\"#636efa\", \"#EF553B\", \"#00cc96\", \"#ab63fa\", \"#FFA15A\", \"#19d3f3\", \"#FF6692\", \"#B6E880\", \"#FF97FF\", \"#FECB52\"], \"font\": {\"color\": \"#2a3f5f\"}, \"geo\": {\"bgcolor\": \"white\", \"lakecolor\": \"white\", \"landcolor\": \"#E5ECF6\", \"showlakes\": true, \"showland\": true, \"subunitcolor\": \"white\"}, \"hoverlabel\": {\"align\": \"left\"}, \"hovermode\": \"closest\", \"mapbox\": {\"style\": \"light\"}, \"paper_bgcolor\": \"white\", \"plot_bgcolor\": \"#E5ECF6\", \"polar\": {\"angularaxis\": {\"gridcolor\": \"white\", \"linecolor\": \"white\", \"ticks\": \"\"}, \"bgcolor\": \"#E5ECF6\", \"radialaxis\": {\"gridcolor\": \"white\", \"linecolor\": \"white\", \"ticks\": \"\"}}, \"scene\": {\"xaxis\": {\"backgroundcolor\": \"#E5ECF6\", \"gridcolor\": \"white\", \"gridwidth\": 2, \"linecolor\": \"white\", \"showbackground\": true, \"ticks\": \"\", \"zerolinecolor\": \"white\"}, \"yaxis\": {\"backgroundcolor\": \"#E5ECF6\", \"gridcolor\": \"white\", \"gridwidth\": 2, \"linecolor\": \"white\", \"showbackground\": true, \"ticks\": \"\", \"zerolinecolor\": \"white\"}, \"zaxis\": {\"backgroundcolor\": \"#E5ECF6\", \"gridcolor\": \"white\", \"gridwidth\": 2, \"linecolor\": \"white\", \"showbackground\": true, \"ticks\": \"\", \"zerolinecolor\": \"white\"}}, \"shapedefaults\": {\"line\": {\"color\": \"#2a3f5f\"}}, \"ternary\": {\"aaxis\": {\"gridcolor\": \"white\", \"linecolor\": \"white\", \"ticks\": \"\"}, \"baxis\": {\"gridcolor\": \"white\", \"linecolor\": \"white\", \"ticks\": \"\"}, \"bgcolor\": \"#E5ECF6\", \"caxis\": {\"gridcolor\": \"white\", \"linecolor\": \"white\", \"ticks\": \"\"}}, \"title\": {\"x\": 0.05}, \"xaxis\": {\"automargin\": true, \"gridcolor\": \"white\", \"linecolor\": \"white\", \"ticks\": \"\", \"title\": {\"standoff\": 15}, \"zerolinecolor\": \"white\", \"zerolinewidth\": 2}, \"yaxis\": {\"automargin\": true, \"gridcolor\": \"white\", \"linecolor\": \"white\", \"ticks\": \"\", \"title\": {\"standoff\": 15}, \"zerolinecolor\": \"white\", \"zerolinewidth\": 2}}}, \"xaxis\": {\"anchor\": \"y\", \"categoryorder\": \"total descending\", \"domain\": [0.0, 1.0], \"title\": {\"text\": \"chord\"}}, \"yaxis\": {\"anchor\": \"x\", \"domain\": [0.0, 1.0], \"title\": {\"text\": \"count\"}, \"type\": \"log\"}},\n",
              "                        {\"responsive\": true}\n",
              "                    ).then(function(){\n",
              "                            \n",
              "var gd = document.getElementById('8874030b-5187-4135-8470-e6d232312384');\n",
              "var x = new MutationObserver(function (mutations, observer) {{\n",
              "        var display = window.getComputedStyle(gd).display;\n",
              "        if (!display || display === 'none') {{\n",
              "            console.log([gd, 'removed!']);\n",
              "            Plotly.purge(gd);\n",
              "            observer.disconnect();\n",
              "        }}\n",
              "}});\n",
              "\n",
              "// Listen for the removal of the full notebook cells\n",
              "var notebookContainer = gd.closest('#notebook-container');\n",
              "if (notebookContainer) {{\n",
              "    x.observe(notebookContainer, {childList: true});\n",
              "}}\n",
              "\n",
              "// Listen for the clearing of the current output cell\n",
              "var outputEl = gd.closest('.output');\n",
              "if (outputEl) {{\n",
              "    x.observe(outputEl, {childList: true});\n",
              "}}\n",
              "\n",
              "                        })\n",
              "                };\n",
              "                \n",
              "            </script>\n",
              "        </div>\n",
              "</body>\n",
              "</html>"
            ]
          },
          "metadata": {}
        }
      ]
    },
    {
      "cell_type": "markdown",
      "metadata": {
        "id": "JThs0wKvKJxq"
      },
      "source": [
        "# Doc2Vec Embeddings\n",
        "\n",
        "## Read and Tag Data"
      ]
    },
    {
      "cell_type": "code",
      "metadata": {
        "id": "SiIHBvYTKMUp"
      },
      "source": [
        "import smart_open\n",
        "\n",
        "def read_corpus(fname, ngram_size, tokens_only=False):\n",
        "    with smart_open.open(fname, encoding=\"iso-8859-1\") as f:\n",
        "        for i, line in enumerate(f):\n",
        "            tokens = ngrams(line.split(), ngram_size, '-')\n",
        "            if tokens_only:\n",
        "                yield tokens\n",
        "            else:\n",
        "                # For training data, add tags\n",
        "                yield gensim.models.doc2vec.TaggedDocument(tokens, [i])"
      ],
      "execution_count": 23,
      "outputs": []
    },
    {
      "cell_type": "markdown",
      "metadata": {
        "id": "XjZUY8izs9iO"
      },
      "source": [
        "## Doc2Vec Hyperparameters"
      ]
    },
    {
      "cell_type": "code",
      "metadata": {
        "colab": {
          "base_uri": "https://localhost:8080/"
        },
        "id": "Ec75_lW6QKQx",
        "outputId": "802cc4d6-3bf2-410d-8fef-ca1a4cdfe448"
      },
      "source": [
        "!rm -R models_doc2vec\n",
        "!rm -R traindata_doc2vec"
      ],
      "execution_count": 24,
      "outputs": [
        {
          "output_type": "stream",
          "name": "stdout",
          "text": [
            "rm: cannot remove 'models_doc2vec': No such file or directory\n",
            "rm: cannot remove 'traindata_doc2vec': No such file or directory\n"
          ]
        }
      ]
    },
    {
      "cell_type": "code",
      "metadata": {
        "id": "W7VmXy78tdi6"
      },
      "source": [
        "!mkdir models_doc2vec\n",
        "!mkdir traindata_doc2vec"
      ],
      "execution_count": 25,
      "outputs": []
    },
    {
      "cell_type": "code",
      "metadata": {
        "colab": {
          "base_uri": "https://localhost:8080/"
        },
        "id": "-sFxdOs1tWl2",
        "outputId": "1543bcca-0c21-47a8-ca34-7621bb5e336e"
      },
      "source": [
        "model_path = './models_doc2vec'\n",
        "model_prefix = 'autos'\n",
        "data_path = './traindata_doc2vec'\n",
        "\n",
        "param_grid = {'d2v': {'variant': [#'pv-dm', \n",
        "                                  'pv-dbow'], \n",
        "                      'window': [\n",
        "                                 #2, 3, \n",
        "                                 4, \n",
        "                                 #10\n",
        "                                 ],\n",
        "                      'sample': [0.1],\n",
        "                      'ngrams': [\n",
        "                                 #1, 2, \n",
        "                                 3, \n",
        "                                 #4\n",
        "                                 ],\n",
        "                     }\n",
        "              }\n",
        "size = 100\n",
        "epochs = 50\n",
        "\n",
        "for algo, params in param_grid.items():\n",
        "    for variant in params['variant']:\n",
        "        dm = 1 if variant == 'pv-dm' else 0\n",
        "        for ngram_size in params['ngrams']:\n",
        "            \n",
        "            # prepare data with the provided ngram size\n",
        "            train_corpus = list(read_corpus(path_to_file, ngram_size=ngram_size))\n",
        "\n",
        "            # evaluate different window sizes\n",
        "            for window in params['window']:\n",
        "\n",
        "                # evaluate the effect of different sample sizes\n",
        "                for sample in params['sample']:\n",
        "\n",
        "                    # calculate the model\n",
        "                    if algo == 'd2v':\n",
        "                        model = gensim.models.doc2vec.Doc2Vec(vector_size=size, \n",
        "                                                              window=window,\n",
        "                                                              dm = dm,\n",
        "                                                              min_count=5, \n",
        "                                                              sample = sample, # threshold for configuring which higher-frequency words are randomly downsampled\n",
        "                                                              epochs=epochs,\n",
        "                                                              )\n",
        "                        model.build_vocab(train_corpus)\n",
        "                        model.train(train_corpus, \n",
        "                                    total_examples=model.corpus_count, \n",
        "                                    epochs=model.epochs)\n",
        "\n",
        "                    else:\n",
        "                        model = gensim.models.FastText(data_ngrams, vector_size=size, window=window, sg=sg, epochs=50)\n",
        "\n",
        "                    file_name = f\"{model_path}/{model_prefix}_{algo}_{variant}_{ngram_size}_{window}_{sample}\"\n",
        "                    model.save(file_name + '.model')\n",
        "\n",
        "                    file_name = f\"{data_path}/{model_prefix}_{algo}_{variant}_{ngram_size}_{window}_{sample}\"\n",
        "                    with open(file_name + '.train', 'wb') as f:\n",
        "                          # Pickle the 'data' dictionary using the highest protocol available.\n",
        "                          pickle.dump(train_corpus, f, pickle.HIGHEST_PROTOCOL)"
      ],
      "execution_count": 27,
      "outputs": [
        {
          "output_type": "stream",
          "name": "stderr",
          "text": [
            "2021-11-10 09:06:49,470 : INFO : Doc2Vec lifecycle event {'params': 'Doc2Vec(dbow,d100,n5,mc5,s0.1,t3)', 'datetime': '2021-11-10T09:06:49.470749', 'gensim': '4.1.2', 'python': '3.7.12 (default, Sep 10 2021, 00:21:48) \\n[GCC 7.5.0]', 'platform': 'Linux-5.4.104+-x86_64-with-Ubuntu-18.04-bionic', 'event': 'created'}\n",
            "2021-11-10 09:06:49,472 : INFO : collecting all words and their counts\n",
            "2021-11-10 09:06:49,473 : INFO : PROGRESS: at example #0, processed 0 words (0/s), 0 word types, 0 tags\n",
            "2021-11-10 09:06:49,506 : INFO : collected 13442 word types and 2046 unique tags from a corpus of 2046 examples and 89538 words\n",
            "2021-11-10 09:06:49,508 : INFO : Creating a fresh vocabulary\n",
            "2021-11-10 09:06:49,530 : INFO : Doc2Vec lifecycle event {'msg': 'effective_min_count=5 retains 2440 unique words (18.152060705252193%% of original 13442, drops 11002)', 'datetime': '2021-11-10T09:06:49.530773', 'gensim': '4.1.2', 'python': '3.7.12 (default, Sep 10 2021, 00:21:48) \\n[GCC 7.5.0]', 'platform': 'Linux-5.4.104+-x86_64-with-Ubuntu-18.04-bionic', 'event': 'prepare_vocab'}\n",
            "2021-11-10 09:06:49,532 : INFO : Doc2Vec lifecycle event {'msg': 'effective_min_count=5 leaves 71559 word corpus (79.92025732091402%% of original 89538, drops 17979)', 'datetime': '2021-11-10T09:06:49.532693', 'gensim': '4.1.2', 'python': '3.7.12 (default, Sep 10 2021, 00:21:48) \\n[GCC 7.5.0]', 'platform': 'Linux-5.4.104+-x86_64-with-Ubuntu-18.04-bionic', 'event': 'prepare_vocab'}\n",
            "2021-11-10 09:06:49,554 : INFO : deleting the raw counts dictionary of 13442 items\n",
            "2021-11-10 09:06:49,556 : INFO : sample=0.1 downsamples 0 most-common words\n",
            "2021-11-10 09:06:49,557 : INFO : Doc2Vec lifecycle event {'msg': 'downsampling leaves estimated 71559 word corpus (100.0%% of prior 71559)', 'datetime': '2021-11-10T09:06:49.557778', 'gensim': '4.1.2', 'python': '3.7.12 (default, Sep 10 2021, 00:21:48) \\n[GCC 7.5.0]', 'platform': 'Linux-5.4.104+-x86_64-with-Ubuntu-18.04-bionic', 'event': 'prepare_vocab'}\n",
            "2021-11-10 09:06:49,595 : INFO : estimated required memory for 2440 words and 100 dimensions: 4399600 bytes\n",
            "2021-11-10 09:06:49,597 : INFO : resetting layer weights\n",
            "2021-11-10 09:06:49,611 : INFO : Doc2Vec lifecycle event {'msg': 'training model with 3 workers on 2440 vocabulary and 100 features, using sg=1 hs=0 sample=0.1 negative=5 window=4 shrink_windows=True', 'datetime': '2021-11-10T09:06:49.611491', 'gensim': '4.1.2', 'python': '3.7.12 (default, Sep 10 2021, 00:21:48) \\n[GCC 7.5.0]', 'platform': 'Linux-5.4.104+-x86_64-with-Ubuntu-18.04-bionic', 'event': 'train'}\n",
            "2021-11-10 09:06:49,796 : INFO : worker thread finished; awaiting finish of 2 more threads\n",
            "2021-11-10 09:06:49,800 : INFO : worker thread finished; awaiting finish of 1 more threads\n",
            "2021-11-10 09:06:49,809 : INFO : worker thread finished; awaiting finish of 0 more threads\n",
            "2021-11-10 09:06:49,810 : INFO : EPOCH - 1 : training on 89538 raw words (73605 effective words) took 0.2s, 394183 effective words/s\n",
            "2021-11-10 09:06:49,976 : INFO : worker thread finished; awaiting finish of 2 more threads\n",
            "2021-11-10 09:06:49,990 : INFO : worker thread finished; awaiting finish of 1 more threads\n",
            "2021-11-10 09:06:49,996 : INFO : worker thread finished; awaiting finish of 0 more threads\n",
            "2021-11-10 09:06:49,997 : INFO : EPOCH - 2 : training on 89538 raw words (73605 effective words) took 0.2s, 422750 effective words/s\n",
            "2021-11-10 09:06:50,184 : INFO : worker thread finished; awaiting finish of 2 more threads\n",
            "2021-11-10 09:06:50,190 : INFO : worker thread finished; awaiting finish of 1 more threads\n",
            "2021-11-10 09:06:50,194 : INFO : worker thread finished; awaiting finish of 0 more threads\n",
            "2021-11-10 09:06:50,196 : INFO : EPOCH - 3 : training on 89538 raw words (73605 effective words) took 0.2s, 386360 effective words/s\n",
            "2021-11-10 09:06:50,357 : INFO : worker thread finished; awaiting finish of 2 more threads\n",
            "2021-11-10 09:06:50,376 : INFO : worker thread finished; awaiting finish of 1 more threads\n",
            "2021-11-10 09:06:50,383 : INFO : worker thread finished; awaiting finish of 0 more threads\n",
            "2021-11-10 09:06:50,384 : INFO : EPOCH - 4 : training on 89538 raw words (73605 effective words) took 0.2s, 410221 effective words/s\n",
            "2021-11-10 09:06:50,568 : INFO : worker thread finished; awaiting finish of 2 more threads\n",
            "2021-11-10 09:06:50,576 : INFO : worker thread finished; awaiting finish of 1 more threads\n",
            "2021-11-10 09:06:50,583 : INFO : worker thread finished; awaiting finish of 0 more threads\n",
            "2021-11-10 09:06:50,584 : INFO : EPOCH - 5 : training on 89538 raw words (73605 effective words) took 0.2s, 383819 effective words/s\n",
            "2021-11-10 09:06:50,767 : INFO : worker thread finished; awaiting finish of 2 more threads\n",
            "2021-11-10 09:06:50,776 : INFO : worker thread finished; awaiting finish of 1 more threads\n",
            "2021-11-10 09:06:50,783 : INFO : worker thread finished; awaiting finish of 0 more threads\n",
            "2021-11-10 09:06:50,784 : INFO : EPOCH - 6 : training on 89538 raw words (73605 effective words) took 0.2s, 382706 effective words/s\n",
            "2021-11-10 09:06:50,949 : INFO : worker thread finished; awaiting finish of 2 more threads\n",
            "2021-11-10 09:06:50,958 : INFO : worker thread finished; awaiting finish of 1 more threads\n",
            "2021-11-10 09:06:50,966 : INFO : worker thread finished; awaiting finish of 0 more threads\n",
            "2021-11-10 09:06:50,968 : INFO : EPOCH - 7 : training on 89538 raw words (73605 effective words) took 0.2s, 420522 effective words/s\n",
            "2021-11-10 09:06:51,132 : INFO : worker thread finished; awaiting finish of 2 more threads\n",
            "2021-11-10 09:06:51,137 : INFO : worker thread finished; awaiting finish of 1 more threads\n",
            "2021-11-10 09:06:51,145 : INFO : worker thread finished; awaiting finish of 0 more threads\n",
            "2021-11-10 09:06:51,148 : INFO : EPOCH - 8 : training on 89538 raw words (73605 effective words) took 0.2s, 425471 effective words/s\n",
            "2021-11-10 09:06:51,333 : INFO : worker thread finished; awaiting finish of 2 more threads\n",
            "2021-11-10 09:06:51,345 : INFO : worker thread finished; awaiting finish of 1 more threads\n",
            "2021-11-10 09:06:51,347 : INFO : worker thread finished; awaiting finish of 0 more threads\n",
            "2021-11-10 09:06:51,352 : INFO : EPOCH - 9 : training on 89538 raw words (73605 effective words) took 0.2s, 374753 effective words/s\n",
            "2021-11-10 09:06:51,520 : INFO : worker thread finished; awaiting finish of 2 more threads\n",
            "2021-11-10 09:06:51,531 : INFO : worker thread finished; awaiting finish of 1 more threads\n",
            "2021-11-10 09:06:51,540 : INFO : worker thread finished; awaiting finish of 0 more threads\n",
            "2021-11-10 09:06:51,542 : INFO : EPOCH - 10 : training on 89538 raw words (73605 effective words) took 0.2s, 406466 effective words/s\n",
            "2021-11-10 09:06:51,710 : INFO : worker thread finished; awaiting finish of 2 more threads\n",
            "2021-11-10 09:06:51,719 : INFO : worker thread finished; awaiting finish of 1 more threads\n",
            "2021-11-10 09:06:51,727 : INFO : worker thread finished; awaiting finish of 0 more threads\n",
            "2021-11-10 09:06:51,728 : INFO : EPOCH - 11 : training on 89538 raw words (73605 effective words) took 0.2s, 414289 effective words/s\n",
            "2021-11-10 09:06:51,915 : INFO : worker thread finished; awaiting finish of 2 more threads\n",
            "2021-11-10 09:06:51,926 : INFO : worker thread finished; awaiting finish of 1 more threads\n",
            "2021-11-10 09:06:51,934 : INFO : worker thread finished; awaiting finish of 0 more threads\n",
            "2021-11-10 09:06:51,935 : INFO : EPOCH - 12 : training on 89538 raw words (73605 effective words) took 0.2s, 373365 effective words/s\n",
            "2021-11-10 09:06:52,093 : INFO : worker thread finished; awaiting finish of 2 more threads\n",
            "2021-11-10 09:06:52,108 : INFO : worker thread finished; awaiting finish of 1 more threads\n",
            "2021-11-10 09:06:52,117 : INFO : worker thread finished; awaiting finish of 0 more threads\n",
            "2021-11-10 09:06:52,119 : INFO : EPOCH - 13 : training on 89538 raw words (73605 effective words) took 0.2s, 416381 effective words/s\n",
            "2021-11-10 09:06:52,282 : INFO : worker thread finished; awaiting finish of 2 more threads\n",
            "2021-11-10 09:06:52,303 : INFO : worker thread finished; awaiting finish of 1 more threads\n",
            "2021-11-10 09:06:52,314 : INFO : worker thread finished; awaiting finish of 0 more threads\n",
            "2021-11-10 09:06:52,315 : INFO : EPOCH - 14 : training on 89538 raw words (73605 effective words) took 0.2s, 388576 effective words/s\n",
            "2021-11-10 09:06:52,471 : INFO : worker thread finished; awaiting finish of 2 more threads\n",
            "2021-11-10 09:06:52,492 : INFO : worker thread finished; awaiting finish of 1 more threads\n",
            "2021-11-10 09:06:52,503 : INFO : worker thread finished; awaiting finish of 0 more threads\n",
            "2021-11-10 09:06:52,507 : INFO : EPOCH - 15 : training on 89538 raw words (73605 effective words) took 0.2s, 400262 effective words/s\n",
            "2021-11-10 09:06:52,682 : INFO : worker thread finished; awaiting finish of 2 more threads\n",
            "2021-11-10 09:06:52,693 : INFO : worker thread finished; awaiting finish of 1 more threads\n",
            "2021-11-10 09:06:52,701 : INFO : worker thread finished; awaiting finish of 0 more threads\n",
            "2021-11-10 09:06:52,702 : INFO : EPOCH - 16 : training on 89538 raw words (73605 effective words) took 0.2s, 388218 effective words/s\n",
            "2021-11-10 09:06:52,862 : INFO : worker thread finished; awaiting finish of 2 more threads\n",
            "2021-11-10 09:06:52,870 : INFO : worker thread finished; awaiting finish of 1 more threads\n",
            "2021-11-10 09:06:52,877 : INFO : worker thread finished; awaiting finish of 0 more threads\n",
            "2021-11-10 09:06:52,879 : INFO : EPOCH - 17 : training on 89538 raw words (73605 effective words) took 0.2s, 435652 effective words/s\n",
            "2021-11-10 09:06:53,039 : INFO : worker thread finished; awaiting finish of 2 more threads\n",
            "2021-11-10 09:06:53,049 : INFO : worker thread finished; awaiting finish of 1 more threads\n",
            "2021-11-10 09:06:53,061 : INFO : worker thread finished; awaiting finish of 0 more threads\n",
            "2021-11-10 09:06:53,063 : INFO : EPOCH - 18 : training on 89538 raw words (73605 effective words) took 0.2s, 419854 effective words/s\n",
            "2021-11-10 09:06:53,247 : INFO : worker thread finished; awaiting finish of 2 more threads\n",
            "2021-11-10 09:06:53,255 : INFO : worker thread finished; awaiting finish of 1 more threads\n",
            "2021-11-10 09:06:53,263 : INFO : worker thread finished; awaiting finish of 0 more threads\n",
            "2021-11-10 09:06:53,264 : INFO : EPOCH - 19 : training on 89538 raw words (73605 effective words) took 0.2s, 384817 effective words/s\n",
            "2021-11-10 09:06:53,425 : INFO : worker thread finished; awaiting finish of 2 more threads\n",
            "2021-11-10 09:06:53,435 : INFO : worker thread finished; awaiting finish of 1 more threads\n",
            "2021-11-10 09:06:53,443 : INFO : worker thread finished; awaiting finish of 0 more threads\n",
            "2021-11-10 09:06:53,444 : INFO : EPOCH - 20 : training on 89538 raw words (73605 effective words) took 0.2s, 425036 effective words/s\n",
            "2021-11-10 09:06:53,612 : INFO : worker thread finished; awaiting finish of 2 more threads\n",
            "2021-11-10 09:06:53,626 : INFO : worker thread finished; awaiting finish of 1 more threads\n",
            "2021-11-10 09:06:53,632 : INFO : worker thread finished; awaiting finish of 0 more threads\n",
            "2021-11-10 09:06:53,637 : INFO : EPOCH - 21 : training on 89538 raw words (73605 effective words) took 0.2s, 402074 effective words/s\n",
            "2021-11-10 09:06:53,801 : INFO : worker thread finished; awaiting finish of 2 more threads\n",
            "2021-11-10 09:06:53,807 : INFO : worker thread finished; awaiting finish of 1 more threads\n",
            "2021-11-10 09:06:53,811 : INFO : worker thread finished; awaiting finish of 0 more threads\n",
            "2021-11-10 09:06:53,812 : INFO : EPOCH - 22 : training on 89538 raw words (73605 effective words) took 0.2s, 436736 effective words/s\n",
            "2021-11-10 09:06:53,987 : INFO : worker thread finished; awaiting finish of 2 more threads\n",
            "2021-11-10 09:06:53,997 : INFO : worker thread finished; awaiting finish of 1 more threads\n",
            "2021-11-10 09:06:54,005 : INFO : worker thread finished; awaiting finish of 0 more threads\n",
            "2021-11-10 09:06:54,006 : INFO : EPOCH - 23 : training on 89538 raw words (73605 effective words) took 0.2s, 397142 effective words/s\n",
            "2021-11-10 09:06:54,185 : INFO : worker thread finished; awaiting finish of 2 more threads\n",
            "2021-11-10 09:06:54,194 : INFO : worker thread finished; awaiting finish of 1 more threads\n",
            "2021-11-10 09:06:54,202 : INFO : worker thread finished; awaiting finish of 0 more threads\n",
            "2021-11-10 09:06:54,205 : INFO : EPOCH - 24 : training on 89538 raw words (73605 effective words) took 0.2s, 389376 effective words/s\n",
            "2021-11-10 09:06:54,378 : INFO : worker thread finished; awaiting finish of 2 more threads\n",
            "2021-11-10 09:06:54,393 : INFO : worker thread finished; awaiting finish of 1 more threads\n",
            "2021-11-10 09:06:54,401 : INFO : worker thread finished; awaiting finish of 0 more threads\n",
            "2021-11-10 09:06:54,404 : INFO : EPOCH - 25 : training on 89538 raw words (73605 effective words) took 0.2s, 387333 effective words/s\n",
            "2021-11-10 09:06:54,573 : INFO : worker thread finished; awaiting finish of 2 more threads\n",
            "2021-11-10 09:06:54,580 : INFO : worker thread finished; awaiting finish of 1 more threads\n",
            "2021-11-10 09:06:54,589 : INFO : worker thread finished; awaiting finish of 0 more threads\n",
            "2021-11-10 09:06:54,593 : INFO : EPOCH - 26 : training on 89538 raw words (73605 effective words) took 0.2s, 406994 effective words/s\n",
            "2021-11-10 09:06:54,763 : INFO : worker thread finished; awaiting finish of 2 more threads\n",
            "2021-11-10 09:06:54,781 : INFO : worker thread finished; awaiting finish of 1 more threads\n",
            "2021-11-10 09:06:54,789 : INFO : worker thread finished; awaiting finish of 0 more threads\n",
            "2021-11-10 09:06:54,791 : INFO : EPOCH - 27 : training on 89538 raw words (73605 effective words) took 0.2s, 387644 effective words/s\n",
            "2021-11-10 09:06:54,971 : INFO : worker thread finished; awaiting finish of 2 more threads\n",
            "2021-11-10 09:06:54,981 : INFO : worker thread finished; awaiting finish of 1 more threads\n",
            "2021-11-10 09:06:54,987 : INFO : worker thread finished; awaiting finish of 0 more threads\n",
            "2021-11-10 09:06:54,988 : INFO : EPOCH - 28 : training on 89538 raw words (73605 effective words) took 0.2s, 394503 effective words/s\n",
            "2021-11-10 09:06:55,158 : INFO : worker thread finished; awaiting finish of 2 more threads\n",
            "2021-11-10 09:06:55,168 : INFO : worker thread finished; awaiting finish of 1 more threads\n",
            "2021-11-10 09:06:55,178 : INFO : worker thread finished; awaiting finish of 0 more threads\n",
            "2021-11-10 09:06:55,179 : INFO : EPOCH - 29 : training on 89538 raw words (73605 effective words) took 0.2s, 406270 effective words/s\n",
            "2021-11-10 09:06:55,353 : INFO : worker thread finished; awaiting finish of 2 more threads\n",
            "2021-11-10 09:06:55,367 : INFO : worker thread finished; awaiting finish of 1 more threads\n",
            "2021-11-10 09:06:55,380 : INFO : worker thread finished; awaiting finish of 0 more threads\n",
            "2021-11-10 09:06:55,381 : INFO : EPOCH - 30 : training on 89538 raw words (73605 effective words) took 0.2s, 381725 effective words/s\n",
            "2021-11-10 09:06:55,554 : INFO : worker thread finished; awaiting finish of 2 more threads\n",
            "2021-11-10 09:06:55,557 : INFO : worker thread finished; awaiting finish of 1 more threads\n",
            "2021-11-10 09:06:55,568 : INFO : worker thread finished; awaiting finish of 0 more threads\n",
            "2021-11-10 09:06:55,570 : INFO : EPOCH - 31 : training on 89538 raw words (73605 effective words) took 0.2s, 412182 effective words/s\n",
            "2021-11-10 09:06:55,747 : INFO : worker thread finished; awaiting finish of 2 more threads\n",
            "2021-11-10 09:06:55,758 : INFO : worker thread finished; awaiting finish of 1 more threads\n",
            "2021-11-10 09:06:55,763 : INFO : worker thread finished; awaiting finish of 0 more threads\n",
            "2021-11-10 09:06:55,764 : INFO : EPOCH - 32 : training on 89538 raw words (73605 effective words) took 0.2s, 392749 effective words/s\n",
            "2021-11-10 09:06:55,942 : INFO : worker thread finished; awaiting finish of 2 more threads\n",
            "2021-11-10 09:06:55,955 : INFO : worker thread finished; awaiting finish of 1 more threads\n",
            "2021-11-10 09:06:55,959 : INFO : worker thread finished; awaiting finish of 0 more threads\n",
            "2021-11-10 09:06:55,961 : INFO : EPOCH - 33 : training on 89538 raw words (73605 effective words) took 0.2s, 389987 effective words/s\n",
            "2021-11-10 09:06:56,135 : INFO : worker thread finished; awaiting finish of 2 more threads\n",
            "2021-11-10 09:06:56,145 : INFO : worker thread finished; awaiting finish of 1 more threads\n",
            "2021-11-10 09:06:56,155 : INFO : worker thread finished; awaiting finish of 0 more threads\n",
            "2021-11-10 09:06:56,156 : INFO : EPOCH - 34 : training on 89538 raw words (73605 effective words) took 0.2s, 393495 effective words/s\n",
            "2021-11-10 09:06:56,333 : INFO : worker thread finished; awaiting finish of 2 more threads\n",
            "2021-11-10 09:06:56,341 : INFO : worker thread finished; awaiting finish of 1 more threads\n",
            "2021-11-10 09:06:56,343 : INFO : worker thread finished; awaiting finish of 0 more threads\n",
            "2021-11-10 09:06:56,348 : INFO : EPOCH - 35 : training on 89538 raw words (73605 effective words) took 0.2s, 404461 effective words/s\n",
            "2021-11-10 09:06:56,505 : INFO : worker thread finished; awaiting finish of 2 more threads\n",
            "2021-11-10 09:06:56,516 : INFO : worker thread finished; awaiting finish of 1 more threads\n",
            "2021-11-10 09:06:56,522 : INFO : worker thread finished; awaiting finish of 0 more threads\n",
            "2021-11-10 09:06:56,526 : INFO : EPOCH - 36 : training on 89538 raw words (73605 effective words) took 0.2s, 431707 effective words/s\n",
            "2021-11-10 09:06:56,692 : INFO : worker thread finished; awaiting finish of 2 more threads\n",
            "2021-11-10 09:06:56,699 : INFO : worker thread finished; awaiting finish of 1 more threads\n",
            "2021-11-10 09:06:56,703 : INFO : worker thread finished; awaiting finish of 0 more threads\n",
            "2021-11-10 09:06:56,705 : INFO : EPOCH - 37 : training on 89538 raw words (73605 effective words) took 0.2s, 427227 effective words/s\n",
            "2021-11-10 09:06:56,883 : INFO : worker thread finished; awaiting finish of 2 more threads\n",
            "2021-11-10 09:06:56,891 : INFO : worker thread finished; awaiting finish of 1 more threads\n",
            "2021-11-10 09:06:56,892 : INFO : worker thread finished; awaiting finish of 0 more threads\n",
            "2021-11-10 09:06:56,894 : INFO : EPOCH - 38 : training on 89538 raw words (73605 effective words) took 0.2s, 413813 effective words/s\n",
            "2021-11-10 09:06:57,063 : INFO : worker thread finished; awaiting finish of 2 more threads\n",
            "2021-11-10 09:06:57,072 : INFO : worker thread finished; awaiting finish of 1 more threads\n",
            "2021-11-10 09:06:57,080 : INFO : worker thread finished; awaiting finish of 0 more threads\n",
            "2021-11-10 09:06:57,082 : INFO : EPOCH - 39 : training on 89538 raw words (73605 effective words) took 0.2s, 417090 effective words/s\n",
            "2021-11-10 09:06:57,234 : INFO : worker thread finished; awaiting finish of 2 more threads\n",
            "2021-11-10 09:06:57,249 : INFO : worker thread finished; awaiting finish of 1 more threads\n",
            "2021-11-10 09:06:57,254 : INFO : worker thread finished; awaiting finish of 0 more threads\n",
            "2021-11-10 09:06:57,261 : INFO : EPOCH - 40 : training on 89538 raw words (73605 effective words) took 0.2s, 431149 effective words/s\n",
            "2021-11-10 09:06:57,427 : INFO : worker thread finished; awaiting finish of 2 more threads\n",
            "2021-11-10 09:06:57,437 : INFO : worker thread finished; awaiting finish of 1 more threads\n",
            "2021-11-10 09:06:57,447 : INFO : worker thread finished; awaiting finish of 0 more threads\n",
            "2021-11-10 09:06:57,448 : INFO : EPOCH - 41 : training on 89538 raw words (73605 effective words) took 0.2s, 411930 effective words/s\n",
            "2021-11-10 09:06:57,617 : INFO : worker thread finished; awaiting finish of 2 more threads\n",
            "2021-11-10 09:06:57,629 : INFO : worker thread finished; awaiting finish of 1 more threads\n",
            "2021-11-10 09:06:57,635 : INFO : worker thread finished; awaiting finish of 0 more threads\n",
            "2021-11-10 09:06:57,636 : INFO : EPOCH - 42 : training on 89538 raw words (73605 effective words) took 0.2s, 415844 effective words/s\n",
            "2021-11-10 09:06:57,810 : INFO : worker thread finished; awaiting finish of 2 more threads\n",
            "2021-11-10 09:06:57,816 : INFO : worker thread finished; awaiting finish of 1 more threads\n",
            "2021-11-10 09:06:57,824 : INFO : worker thread finished; awaiting finish of 0 more threads\n",
            "2021-11-10 09:06:57,826 : INFO : EPOCH - 43 : training on 89538 raw words (73605 effective words) took 0.2s, 409299 effective words/s\n",
            "2021-11-10 09:06:57,998 : INFO : worker thread finished; awaiting finish of 2 more threads\n",
            "2021-11-10 09:06:58,014 : INFO : worker thread finished; awaiting finish of 1 more threads\n",
            "2021-11-10 09:06:58,019 : INFO : worker thread finished; awaiting finish of 0 more threads\n",
            "2021-11-10 09:06:58,021 : INFO : EPOCH - 44 : training on 89538 raw words (73605 effective words) took 0.2s, 390673 effective words/s\n",
            "2021-11-10 09:06:58,187 : INFO : worker thread finished; awaiting finish of 2 more threads\n",
            "2021-11-10 09:06:58,195 : INFO : worker thread finished; awaiting finish of 1 more threads\n",
            "2021-11-10 09:06:58,201 : INFO : worker thread finished; awaiting finish of 0 more threads\n",
            "2021-11-10 09:06:58,202 : INFO : EPOCH - 45 : training on 89538 raw words (73605 effective words) took 0.2s, 426500 effective words/s\n",
            "2021-11-10 09:06:58,370 : INFO : worker thread finished; awaiting finish of 2 more threads\n",
            "2021-11-10 09:06:58,390 : INFO : worker thread finished; awaiting finish of 1 more threads\n",
            "2021-11-10 09:06:58,397 : INFO : worker thread finished; awaiting finish of 0 more threads\n",
            "2021-11-10 09:06:58,399 : INFO : EPOCH - 46 : training on 89538 raw words (73605 effective words) took 0.2s, 393620 effective words/s\n",
            "2021-11-10 09:06:58,574 : INFO : worker thread finished; awaiting finish of 2 more threads\n",
            "2021-11-10 09:06:58,583 : INFO : worker thread finished; awaiting finish of 1 more threads\n",
            "2021-11-10 09:06:58,590 : INFO : worker thread finished; awaiting finish of 0 more threads\n",
            "2021-11-10 09:06:58,592 : INFO : EPOCH - 47 : training on 89538 raw words (73605 effective words) took 0.2s, 396994 effective words/s\n",
            "2021-11-10 09:06:58,752 : INFO : worker thread finished; awaiting finish of 2 more threads\n",
            "2021-11-10 09:06:58,758 : INFO : worker thread finished; awaiting finish of 1 more threads\n",
            "2021-11-10 09:06:58,762 : INFO : worker thread finished; awaiting finish of 0 more threads\n",
            "2021-11-10 09:06:58,763 : INFO : EPOCH - 48 : training on 89538 raw words (73605 effective words) took 0.2s, 449292 effective words/s\n",
            "2021-11-10 09:06:58,926 : INFO : worker thread finished; awaiting finish of 2 more threads\n",
            "2021-11-10 09:06:58,934 : INFO : worker thread finished; awaiting finish of 1 more threads\n",
            "2021-11-10 09:06:58,944 : INFO : worker thread finished; awaiting finish of 0 more threads\n",
            "2021-11-10 09:06:58,945 : INFO : EPOCH - 49 : training on 89538 raw words (73605 effective words) took 0.2s, 421919 effective words/s\n",
            "2021-11-10 09:06:59,112 : INFO : worker thread finished; awaiting finish of 2 more threads\n",
            "2021-11-10 09:06:59,126 : INFO : worker thread finished; awaiting finish of 1 more threads\n",
            "2021-11-10 09:06:59,131 : INFO : worker thread finished; awaiting finish of 0 more threads\n",
            "2021-11-10 09:06:59,141 : INFO : EPOCH - 50 : training on 89538 raw words (73605 effective words) took 0.2s, 394554 effective words/s\n",
            "2021-11-10 09:06:59,144 : INFO : Doc2Vec lifecycle event {'msg': 'training on 4476900 raw words (3680250 effective words) took 9.5s, 386202 effective words/s', 'datetime': '2021-11-10T09:06:59.144026', 'gensim': '4.1.2', 'python': '3.7.12 (default, Sep 10 2021, 00:21:48) \\n[GCC 7.5.0]', 'platform': 'Linux-5.4.104+-x86_64-with-Ubuntu-18.04-bionic', 'event': 'train'}\n",
            "2021-11-10 09:06:59,147 : INFO : Doc2Vec lifecycle event {'fname_or_handle': './models_doc2vec/autos_d2v_pv-dbow_3_4_0.1.model', 'separately': 'None', 'sep_limit': 10485760, 'ignore': frozenset(), 'datetime': '2021-11-10T09:06:59.147083', 'gensim': '4.1.2', 'python': '3.7.12 (default, Sep 10 2021, 00:21:48) \\n[GCC 7.5.0]', 'platform': 'Linux-5.4.104+-x86_64-with-Ubuntu-18.04-bionic', 'event': 'saving'}\n",
            "2021-11-10 09:06:59,149 : INFO : not storing attribute cum_table\n",
            "2021-11-10 09:06:59,165 : INFO : saved ./models_doc2vec/autos_d2v_pv-dbow_3_4_0.1.model\n"
          ]
        }
      ]
    },
    {
      "cell_type": "code",
      "metadata": {
        "colab": {
          "base_uri": "https://localhost:8080/"
        },
        "id": "Wrn--6lvufvF",
        "outputId": "09a67e9a-6d19-4149-e190-1ae1ae573d11"
      },
      "source": [
        "from gensim.models import KeyedVectors\n",
        "\n",
        "from os import listdir\n",
        "from os.path import isfile, join\n",
        "\n",
        "names = [f for f in listdir(model_path) if isfile(join(model_path, f))]\n",
        "print(names)\n",
        "models = {}\n",
        "\n",
        "for name in names:\n",
        "    file_name = f\"{model_path}/{name}\"\n",
        "    print(file_name)\n",
        "    models[name] = Doc2Vec.load(file_name)"
      ],
      "execution_count": 28,
      "outputs": [
        {
          "output_type": "stream",
          "name": "stderr",
          "text": [
            "2021-11-10 09:07:01,752 : INFO : loading Doc2Vec object from ./models_doc2vec/autos_d2v_pv-dbow_3_4_0.1.model\n",
            "2021-11-10 09:07:01,760 : INFO : loading dv recursively from ./models_doc2vec/autos_d2v_pv-dbow_3_4_0.1.model.dv.* with mmap=None\n",
            "2021-11-10 09:07:01,761 : INFO : loading wv recursively from ./models_doc2vec/autos_d2v_pv-dbow_3_4_0.1.model.wv.* with mmap=None\n",
            "2021-11-10 09:07:01,763 : INFO : setting ignored attribute cum_table to None\n",
            "2021-11-10 09:07:01,803 : INFO : Doc2Vec lifecycle event {'fname': './models_doc2vec/autos_d2v_pv-dbow_3_4_0.1.model', 'datetime': '2021-11-10T09:07:01.803874', 'gensim': '4.1.2', 'python': '3.7.12 (default, Sep 10 2021, 00:21:48) \\n[GCC 7.5.0]', 'platform': 'Linux-5.4.104+-x86_64-with-Ubuntu-18.04-bionic', 'event': 'loaded'}\n"
          ]
        },
        {
          "output_type": "stream",
          "name": "stdout",
          "text": [
            "['autos_d2v_pv-dbow_3_4_0.1.model']\n",
            "./models_doc2vec/autos_d2v_pv-dbow_3_4_0.1.model\n"
          ]
        }
      ]
    },
    {
      "cell_type": "code",
      "metadata": {
        "id": "6kWnjGitYTIn",
        "colab": {
          "base_uri": "https://localhost:8080/"
        },
        "outputId": "831aec80-4b30-4c80-ba37-8c9ae4ca0a06"
      },
      "source": [
        "names = [f for f in listdir(data_path) if isfile(join(data_path, f))]\n",
        "print(names)\n",
        "data = {}\n",
        "\n",
        "for name in names:\n",
        "    file_name = f\"{data_path}/{name}\"\n",
        "    print(file_name)\n",
        "    with open(file_name, 'rb') as f:\n",
        "        data[name] = pickle.load(f)"
      ],
      "execution_count": 29,
      "outputs": [
        {
          "output_type": "stream",
          "name": "stdout",
          "text": [
            "['autos_d2v_pv-dbow_3_4_0.1.train']\n",
            "./traindata_doc2vec/autos_d2v_pv-dbow_3_4_0.1.train\n"
          ]
        }
      ]
    },
    {
      "cell_type": "code",
      "metadata": {
        "colab": {
          "base_uri": "https://localhost:8080/"
        },
        "id": "cREjX750wdsN",
        "outputId": "ea5de05c-2446-46e4-b146-df60475452d1"
      },
      "source": [
        "for name, m in models.items():\n",
        "  print(m)"
      ],
      "execution_count": 30,
      "outputs": [
        {
          "output_type": "stream",
          "name": "stdout",
          "text": [
            "Doc2Vec(dbow,d100,n5,mc5,s0.1,t3)\n"
          ]
        }
      ]
    },
    {
      "cell_type": "code",
      "metadata": {
        "id": "7XYMTPjQulID"
      },
      "source": [
        "def compare_doc_models(models, **kwargs):\n",
        "\n",
        "    passes = 3\n",
        "\n",
        "    df = pd.DataFrame()\n",
        "    names = []\n",
        "    scores = []\n",
        "    runs = []\n",
        "\n",
        "    for p in range(passes):\n",
        "      print(f\"\\n*** Run {p}\")\n",
        "      for name, model in models.items():\n",
        "        ranks = []\n",
        "        second_ranks = []\n",
        "        similarities = []\n",
        "\n",
        "        print(name)\n",
        "\n",
        "        # load the training corpus data\n",
        "        train_name = os.path.splitext(name)[0] + '.train'\n",
        "        train_corpus = data[train_name]\n",
        "        print(train_corpus[:5])\n",
        "\n",
        "        # use the model to infer the similarity for a tune\n",
        "        for doc_id in range(len(train_corpus)):\n",
        "            inferred_vector = model.infer_vector(train_corpus[doc_id].words)\n",
        "            sims = model.dv.most_similar([inferred_vector], topn=len(model.dv))\n",
        "            similarities.append(sims)\n",
        "            rank = [docid for docid, sim in sims].index(doc_id)\n",
        "            ranks.append(rank)\n",
        "\n",
        "            second_ranks.append(sims[1])\n",
        "\n",
        "        counter = Counter(ranks)\n",
        "        print(counter)\n",
        "\n",
        "        tunes_sim = counter[0]\n",
        "        tunes_not_sim = len(train_corpus) - counter[0]\n",
        "        score = 100 * tunes_not_sim/(tunes_sim+tunes_not_sim)\n",
        "\n",
        "        print(f\"\\tTunes similar to themselves in first place: {tunes_sim}\")\n",
        "        print(f\"\\tTunes not similar in first place: {tunes_not_sim}\")\n",
        "        print(f\"\\t% of tunes not similar to themselves in first place: {score:.2f}%\")\n",
        "\n",
        "        names.append(name)\n",
        "        scores.append(score)\n",
        "        runs.append(p)\n",
        "      \n",
        "    df = pd.DataFrame({'name': names, \n",
        "                        'score': scores,\n",
        "                        'pass': runs\n",
        "                      })\n",
        "\n",
        "    return df"
      ],
      "execution_count": 31,
      "outputs": []
    },
    {
      "cell_type": "code",
      "metadata": {
        "colab": {
          "base_uri": "https://localhost:8080/"
        },
        "id": "-Fyg-L7Evc2Q",
        "outputId": "5fbfe96f-a0c8-4031-c773-386dd8b7a7fa"
      },
      "source": [
        "df_score = compare_doc_models(models)"
      ],
      "execution_count": 32,
      "outputs": [
        {
          "output_type": "stream",
          "name": "stdout",
          "text": [
            "\n",
            "*** Run 0\n",
            "autos_d2v_pv-dbow_3_4_0.1.model\n",
            "[TaggedDocument(words=['CM7-Eb7-G#M7', 'Eb7-G#M7-B7', 'G#M7-B7-EM7', 'B7-EM7-G7', 'EM7-G7-Gm7', 'G7-Gm7-C7', 'Gm7-C7-FM7', 'C7-FM7-G#7', 'FM7-G#7-C#M7', 'G#7-C#M7-E7', 'C#M7-E7-Am7', 'E7-Am7-D7', 'Am7-D7-Dm7', 'D7-Dm7-G7', 'Dm7-G7-CM7', 'G7-CM7-Eb7', 'CM7-Eb7-G#M7', 'Eb7-G#M7-B7', 'G#M7-B7-EM7', 'B7-EM7-G7', 'EM7-G7-Gm7', 'G7-Gm7-C7', 'Gm7-C7-FM7', 'C7-FM7-Eb7', 'FM7-Eb7-G#M7', 'Eb7-G#M7-B7', 'G#M7-B7-EM7', 'B7-EM7-G7', 'EM7-G7-CM7', 'G7-CM7-Gm7', 'CM7-Gm7-C7', 'Gm7-C7-Bm7', 'C7-Bm7-E7', 'Bm7-E7-AM7', 'E7-AM7-C7', 'AM7-C7-FM7', 'C7-FM7-Bbm7', 'FM7-Bbm7-Eb7', 'Bbm7-Eb7-G#M7', 'Eb7-G#M7-Dm7', 'G#M7-Dm7-G7', 'Dm7-G7-CM7', 'G7-CM7-Eb7', 'CM7-Eb7-G#M7', 'Eb7-G#M7-B7', 'G#M7-B7-EM7', 'B7-EM7-G7', 'EM7-G7-Gm7', 'G7-Gm7-C7', 'Gm7-C7-FM7', 'C7-FM7-Eb7', 'FM7-Eb7-G#M7', 'Eb7-G#M7-B7', 'G#M7-B7-EM7', 'B7-EM7-G7', 'EM7-G7-CM7'], tags=[0]), TaggedDocument(words=['Am7-Am7-Cm7', 'Am7-Cm7-Cm7', 'Cm7-Cm7-EbM7', 'Cm7-EbM7-EbM7', 'EbM7-EbM7-Em7b5', 'EbM7-Em7b5-A7', 'Em7b5-A7-Dm7', 'A7-Dm7-Dm7', 'Dm7-Dm7-Bm7b5', 'Dm7-Bm7b5-Bm7b5', 'Bm7b5-Bm7b5-Bbm7', 'Bm7b5-Bbm7-Bbm7', 'Bbm7-Bbm7-Fm7', 'Bbm7-Fm7-Fm7', 'Fm7-Fm7-E7', 'Fm7-E7-E7', 'E7-E7-Fm7', 'E7-Fm7-Fm7', 'Fm7-Fm7-C#M7', 'Fm7-C#M7-C#M7', 'C#M7-C#M7-Fm7', 'C#M7-Fm7-Fm7', 'Fm7-Fm7-C#M7', 'Fm7-C#M7-C#M7'], tags=[1]), TaggedDocument(words=['Am7-C#M7-Bm7b5', 'C#M7-Bm7b5-E7', 'Bm7b5-E7-Am7', 'E7-Am7-C#M7', 'Am7-C#M7-Bm7b5', 'C#M7-Bm7b5-E7', 'Bm7b5-E7-Cm7', 'E7-Cm7-F7', 'Cm7-F7-BbM7', 'F7-BbM7-G#m7', 'BbM7-G#m7-C#7', 'G#m7-C#7-F#m7b5', 'C#7-F#m7b5-B7', 'F#m7b5-B7-EM7', 'B7-EM7-EM7', 'EM7-EM7-E7', 'EM7-E7-Am7', 'E7-Am7-C#M7', 'Am7-C#M7-Bm7b5', 'C#M7-Bm7b5-E7', 'Bm7b5-E7-Am7', 'E7-Am7-C#M7', 'Am7-C#M7-Bm7b5', 'C#M7-Bm7b5-E7', 'Bm7b5-E7-Cm7', 'E7-Cm7-F7', 'Cm7-F7-BbM7', 'F7-BbM7-G#m7', 'BbM7-G#m7-C#7', 'G#m7-C#7-F#m7b5', 'C#7-F#m7b5-B7', 'F#m7b5-B7-Em7', 'B7-Em7-Em7'], tags=[2]), TaggedDocument(words=['C-Am7-Dm7', 'Am7-Dm7-G7', 'Dm7-G7-C', 'G7-C-Am7', 'C-Am7-Dm7', 'Am7-Dm7-G7', 'Dm7-G7-C', 'G7-C-Am7', 'C-Am7-Dm7', 'Am7-Dm7-G7', 'Dm7-G7-C', 'G7-C-G7', 'C-G7-C', 'G7-C-C', 'C-C-Am7', 'C-Am7-Dm7', 'Am7-Dm7-G7', 'Dm7-G7-C', 'G7-C-Am7', 'C-Am7-Dm7', 'Am7-Dm7-G7', 'Dm7-G7-C', 'G7-C-Am7', 'C-Am7-Dm7', 'Am7-Dm7-G7', 'Dm7-G7-C', 'G7-C-G7', 'C-G7-C', 'G7-C-C7', 'C-C7-C7', 'C7-C7-F6', 'C7-F6-F6', 'F6-F6-D7', 'F6-D7-D7', 'D7-D7-G7', 'D7-G7-G7', 'G7-G7-C', 'G7-C-Am7', 'C-Am7-Dm7', 'Am7-Dm7-G7', 'Dm7-G7-C', 'G7-C-Am7', 'C-Am7-Dm7', 'Am7-Dm7-G7', 'Dm7-G7-C', 'G7-C-Am7', 'C-Am7-Dm7', 'Am7-Dm7-G7', 'Dm7-G7-C', 'G7-C-G7', 'C-G7-C'], tags=[3]), TaggedDocument(words=['C7-Ebm6-C7', 'Ebm6-C7-Ebm6', 'C7-Ebm6-Bb', 'Ebm6-Bb-Bb7', 'Bb-Bb7-A7', 'Bb7-A7-G#7', 'A7-G#7-G7', 'G#7-G7-C7', 'G7-C7-F#dim7', 'C7-F#dim7-C7', 'F#dim7-C7-G#7', 'C7-G#7-G7', 'G#7-G7-C7', 'G7-C7-Ebm6', 'C7-Ebm6-C7', 'Ebm6-C7-Ebm6', 'C7-Ebm6-Bb', 'Ebm6-Bb-Bb7', 'Bb-Bb7-A7', 'Bb7-A7-G#7', 'A7-G#7-G7', 'G#7-G7-C7', 'G7-C7-F#dim7', 'C7-F#dim7-C7', 'F#dim7-C7-F7', 'C7-F7-Bb', 'F7-Bb-Bb', 'Bb-Bb-Eb', 'Bb-Eb-Eb6', 'Eb-Eb6-Eb6', 'Eb6-Eb6-Eb6', 'Eb6-Eb6-G7', 'Eb6-G7-F', 'G7-F-F6', 'F-F6-F7', 'F6-F7-F7', 'F7-F7-C7', 'F7-C7-Ebm6', 'C7-Ebm6-C7', 'Ebm6-C7-Ebm6', 'C7-Ebm6-Bb', 'Ebm6-Bb-Bb7', 'Bb-Bb7-A7', 'Bb7-A7-G#7', 'A7-G#7-G7', 'G#7-G7-C7', 'G7-C7-F#dim7', 'C7-F#dim7-C6', 'F#dim7-C6-F7', 'C6-F7-Bb', 'F7-Bb-D7'], tags=[4])]\n",
            "Counter({0: 1986, 1: 41, 2: 5, 3: 3, 7: 2, 372: 1, 5: 1, 1730: 1, 824: 1, 2004: 1, 1646: 1, 157: 1, 1522: 1, 4: 1})\n",
            "\tTunes similar to themselves in first place: 1986\n",
            "\tTunes not similar in first place: 60\n",
            "\t% of tunes not similar to themselves in first place: 2.93%\n",
            "\n",
            "*** Run 1\n",
            "autos_d2v_pv-dbow_3_4_0.1.model\n",
            "[TaggedDocument(words=['CM7-Eb7-G#M7', 'Eb7-G#M7-B7', 'G#M7-B7-EM7', 'B7-EM7-G7', 'EM7-G7-Gm7', 'G7-Gm7-C7', 'Gm7-C7-FM7', 'C7-FM7-G#7', 'FM7-G#7-C#M7', 'G#7-C#M7-E7', 'C#M7-E7-Am7', 'E7-Am7-D7', 'Am7-D7-Dm7', 'D7-Dm7-G7', 'Dm7-G7-CM7', 'G7-CM7-Eb7', 'CM7-Eb7-G#M7', 'Eb7-G#M7-B7', 'G#M7-B7-EM7', 'B7-EM7-G7', 'EM7-G7-Gm7', 'G7-Gm7-C7', 'Gm7-C7-FM7', 'C7-FM7-Eb7', 'FM7-Eb7-G#M7', 'Eb7-G#M7-B7', 'G#M7-B7-EM7', 'B7-EM7-G7', 'EM7-G7-CM7', 'G7-CM7-Gm7', 'CM7-Gm7-C7', 'Gm7-C7-Bm7', 'C7-Bm7-E7', 'Bm7-E7-AM7', 'E7-AM7-C7', 'AM7-C7-FM7', 'C7-FM7-Bbm7', 'FM7-Bbm7-Eb7', 'Bbm7-Eb7-G#M7', 'Eb7-G#M7-Dm7', 'G#M7-Dm7-G7', 'Dm7-G7-CM7', 'G7-CM7-Eb7', 'CM7-Eb7-G#M7', 'Eb7-G#M7-B7', 'G#M7-B7-EM7', 'B7-EM7-G7', 'EM7-G7-Gm7', 'G7-Gm7-C7', 'Gm7-C7-FM7', 'C7-FM7-Eb7', 'FM7-Eb7-G#M7', 'Eb7-G#M7-B7', 'G#M7-B7-EM7', 'B7-EM7-G7', 'EM7-G7-CM7'], tags=[0]), TaggedDocument(words=['Am7-Am7-Cm7', 'Am7-Cm7-Cm7', 'Cm7-Cm7-EbM7', 'Cm7-EbM7-EbM7', 'EbM7-EbM7-Em7b5', 'EbM7-Em7b5-A7', 'Em7b5-A7-Dm7', 'A7-Dm7-Dm7', 'Dm7-Dm7-Bm7b5', 'Dm7-Bm7b5-Bm7b5', 'Bm7b5-Bm7b5-Bbm7', 'Bm7b5-Bbm7-Bbm7', 'Bbm7-Bbm7-Fm7', 'Bbm7-Fm7-Fm7', 'Fm7-Fm7-E7', 'Fm7-E7-E7', 'E7-E7-Fm7', 'E7-Fm7-Fm7', 'Fm7-Fm7-C#M7', 'Fm7-C#M7-C#M7', 'C#M7-C#M7-Fm7', 'C#M7-Fm7-Fm7', 'Fm7-Fm7-C#M7', 'Fm7-C#M7-C#M7'], tags=[1]), TaggedDocument(words=['Am7-C#M7-Bm7b5', 'C#M7-Bm7b5-E7', 'Bm7b5-E7-Am7', 'E7-Am7-C#M7', 'Am7-C#M7-Bm7b5', 'C#M7-Bm7b5-E7', 'Bm7b5-E7-Cm7', 'E7-Cm7-F7', 'Cm7-F7-BbM7', 'F7-BbM7-G#m7', 'BbM7-G#m7-C#7', 'G#m7-C#7-F#m7b5', 'C#7-F#m7b5-B7', 'F#m7b5-B7-EM7', 'B7-EM7-EM7', 'EM7-EM7-E7', 'EM7-E7-Am7', 'E7-Am7-C#M7', 'Am7-C#M7-Bm7b5', 'C#M7-Bm7b5-E7', 'Bm7b5-E7-Am7', 'E7-Am7-C#M7', 'Am7-C#M7-Bm7b5', 'C#M7-Bm7b5-E7', 'Bm7b5-E7-Cm7', 'E7-Cm7-F7', 'Cm7-F7-BbM7', 'F7-BbM7-G#m7', 'BbM7-G#m7-C#7', 'G#m7-C#7-F#m7b5', 'C#7-F#m7b5-B7', 'F#m7b5-B7-Em7', 'B7-Em7-Em7'], tags=[2]), TaggedDocument(words=['C-Am7-Dm7', 'Am7-Dm7-G7', 'Dm7-G7-C', 'G7-C-Am7', 'C-Am7-Dm7', 'Am7-Dm7-G7', 'Dm7-G7-C', 'G7-C-Am7', 'C-Am7-Dm7', 'Am7-Dm7-G7', 'Dm7-G7-C', 'G7-C-G7', 'C-G7-C', 'G7-C-C', 'C-C-Am7', 'C-Am7-Dm7', 'Am7-Dm7-G7', 'Dm7-G7-C', 'G7-C-Am7', 'C-Am7-Dm7', 'Am7-Dm7-G7', 'Dm7-G7-C', 'G7-C-Am7', 'C-Am7-Dm7', 'Am7-Dm7-G7', 'Dm7-G7-C', 'G7-C-G7', 'C-G7-C', 'G7-C-C7', 'C-C7-C7', 'C7-C7-F6', 'C7-F6-F6', 'F6-F6-D7', 'F6-D7-D7', 'D7-D7-G7', 'D7-G7-G7', 'G7-G7-C', 'G7-C-Am7', 'C-Am7-Dm7', 'Am7-Dm7-G7', 'Dm7-G7-C', 'G7-C-Am7', 'C-Am7-Dm7', 'Am7-Dm7-G7', 'Dm7-G7-C', 'G7-C-Am7', 'C-Am7-Dm7', 'Am7-Dm7-G7', 'Dm7-G7-C', 'G7-C-G7', 'C-G7-C'], tags=[3]), TaggedDocument(words=['C7-Ebm6-C7', 'Ebm6-C7-Ebm6', 'C7-Ebm6-Bb', 'Ebm6-Bb-Bb7', 'Bb-Bb7-A7', 'Bb7-A7-G#7', 'A7-G#7-G7', 'G#7-G7-C7', 'G7-C7-F#dim7', 'C7-F#dim7-C7', 'F#dim7-C7-G#7', 'C7-G#7-G7', 'G#7-G7-C7', 'G7-C7-Ebm6', 'C7-Ebm6-C7', 'Ebm6-C7-Ebm6', 'C7-Ebm6-Bb', 'Ebm6-Bb-Bb7', 'Bb-Bb7-A7', 'Bb7-A7-G#7', 'A7-G#7-G7', 'G#7-G7-C7', 'G7-C7-F#dim7', 'C7-F#dim7-C7', 'F#dim7-C7-F7', 'C7-F7-Bb', 'F7-Bb-Bb', 'Bb-Bb-Eb', 'Bb-Eb-Eb6', 'Eb-Eb6-Eb6', 'Eb6-Eb6-Eb6', 'Eb6-Eb6-G7', 'Eb6-G7-F', 'G7-F-F6', 'F-F6-F7', 'F6-F7-F7', 'F7-F7-C7', 'F7-C7-Ebm6', 'C7-Ebm6-C7', 'Ebm6-C7-Ebm6', 'C7-Ebm6-Bb', 'Ebm6-Bb-Bb7', 'Bb-Bb7-A7', 'Bb7-A7-G#7', 'A7-G#7-G7', 'G#7-G7-C7', 'G7-C7-F#dim7', 'C7-F#dim7-C6', 'F#dim7-C6-F7', 'C6-F7-Bb', 'F7-Bb-D7'], tags=[4])]\n",
            "Counter({0: 1986, 1: 40, 2: 5, 5: 3, 3: 2, 4: 2, 372: 1, 1730: 1, 824: 1, 2004: 1, 1646: 1, 6: 1, 157: 1, 1522: 1})\n",
            "\tTunes similar to themselves in first place: 1986\n",
            "\tTunes not similar in first place: 60\n",
            "\t% of tunes not similar to themselves in first place: 2.93%\n",
            "\n",
            "*** Run 2\n",
            "autos_d2v_pv-dbow_3_4_0.1.model\n",
            "[TaggedDocument(words=['CM7-Eb7-G#M7', 'Eb7-G#M7-B7', 'G#M7-B7-EM7', 'B7-EM7-G7', 'EM7-G7-Gm7', 'G7-Gm7-C7', 'Gm7-C7-FM7', 'C7-FM7-G#7', 'FM7-G#7-C#M7', 'G#7-C#M7-E7', 'C#M7-E7-Am7', 'E7-Am7-D7', 'Am7-D7-Dm7', 'D7-Dm7-G7', 'Dm7-G7-CM7', 'G7-CM7-Eb7', 'CM7-Eb7-G#M7', 'Eb7-G#M7-B7', 'G#M7-B7-EM7', 'B7-EM7-G7', 'EM7-G7-Gm7', 'G7-Gm7-C7', 'Gm7-C7-FM7', 'C7-FM7-Eb7', 'FM7-Eb7-G#M7', 'Eb7-G#M7-B7', 'G#M7-B7-EM7', 'B7-EM7-G7', 'EM7-G7-CM7', 'G7-CM7-Gm7', 'CM7-Gm7-C7', 'Gm7-C7-Bm7', 'C7-Bm7-E7', 'Bm7-E7-AM7', 'E7-AM7-C7', 'AM7-C7-FM7', 'C7-FM7-Bbm7', 'FM7-Bbm7-Eb7', 'Bbm7-Eb7-G#M7', 'Eb7-G#M7-Dm7', 'G#M7-Dm7-G7', 'Dm7-G7-CM7', 'G7-CM7-Eb7', 'CM7-Eb7-G#M7', 'Eb7-G#M7-B7', 'G#M7-B7-EM7', 'B7-EM7-G7', 'EM7-G7-Gm7', 'G7-Gm7-C7', 'Gm7-C7-FM7', 'C7-FM7-Eb7', 'FM7-Eb7-G#M7', 'Eb7-G#M7-B7', 'G#M7-B7-EM7', 'B7-EM7-G7', 'EM7-G7-CM7'], tags=[0]), TaggedDocument(words=['Am7-Am7-Cm7', 'Am7-Cm7-Cm7', 'Cm7-Cm7-EbM7', 'Cm7-EbM7-EbM7', 'EbM7-EbM7-Em7b5', 'EbM7-Em7b5-A7', 'Em7b5-A7-Dm7', 'A7-Dm7-Dm7', 'Dm7-Dm7-Bm7b5', 'Dm7-Bm7b5-Bm7b5', 'Bm7b5-Bm7b5-Bbm7', 'Bm7b5-Bbm7-Bbm7', 'Bbm7-Bbm7-Fm7', 'Bbm7-Fm7-Fm7', 'Fm7-Fm7-E7', 'Fm7-E7-E7', 'E7-E7-Fm7', 'E7-Fm7-Fm7', 'Fm7-Fm7-C#M7', 'Fm7-C#M7-C#M7', 'C#M7-C#M7-Fm7', 'C#M7-Fm7-Fm7', 'Fm7-Fm7-C#M7', 'Fm7-C#M7-C#M7'], tags=[1]), TaggedDocument(words=['Am7-C#M7-Bm7b5', 'C#M7-Bm7b5-E7', 'Bm7b5-E7-Am7', 'E7-Am7-C#M7', 'Am7-C#M7-Bm7b5', 'C#M7-Bm7b5-E7', 'Bm7b5-E7-Cm7', 'E7-Cm7-F7', 'Cm7-F7-BbM7', 'F7-BbM7-G#m7', 'BbM7-G#m7-C#7', 'G#m7-C#7-F#m7b5', 'C#7-F#m7b5-B7', 'F#m7b5-B7-EM7', 'B7-EM7-EM7', 'EM7-EM7-E7', 'EM7-E7-Am7', 'E7-Am7-C#M7', 'Am7-C#M7-Bm7b5', 'C#M7-Bm7b5-E7', 'Bm7b5-E7-Am7', 'E7-Am7-C#M7', 'Am7-C#M7-Bm7b5', 'C#M7-Bm7b5-E7', 'Bm7b5-E7-Cm7', 'E7-Cm7-F7', 'Cm7-F7-BbM7', 'F7-BbM7-G#m7', 'BbM7-G#m7-C#7', 'G#m7-C#7-F#m7b5', 'C#7-F#m7b5-B7', 'F#m7b5-B7-Em7', 'B7-Em7-Em7'], tags=[2]), TaggedDocument(words=['C-Am7-Dm7', 'Am7-Dm7-G7', 'Dm7-G7-C', 'G7-C-Am7', 'C-Am7-Dm7', 'Am7-Dm7-G7', 'Dm7-G7-C', 'G7-C-Am7', 'C-Am7-Dm7', 'Am7-Dm7-G7', 'Dm7-G7-C', 'G7-C-G7', 'C-G7-C', 'G7-C-C', 'C-C-Am7', 'C-Am7-Dm7', 'Am7-Dm7-G7', 'Dm7-G7-C', 'G7-C-Am7', 'C-Am7-Dm7', 'Am7-Dm7-G7', 'Dm7-G7-C', 'G7-C-Am7', 'C-Am7-Dm7', 'Am7-Dm7-G7', 'Dm7-G7-C', 'G7-C-G7', 'C-G7-C', 'G7-C-C7', 'C-C7-C7', 'C7-C7-F6', 'C7-F6-F6', 'F6-F6-D7', 'F6-D7-D7', 'D7-D7-G7', 'D7-G7-G7', 'G7-G7-C', 'G7-C-Am7', 'C-Am7-Dm7', 'Am7-Dm7-G7', 'Dm7-G7-C', 'G7-C-Am7', 'C-Am7-Dm7', 'Am7-Dm7-G7', 'Dm7-G7-C', 'G7-C-Am7', 'C-Am7-Dm7', 'Am7-Dm7-G7', 'Dm7-G7-C', 'G7-C-G7', 'C-G7-C'], tags=[3]), TaggedDocument(words=['C7-Ebm6-C7', 'Ebm6-C7-Ebm6', 'C7-Ebm6-Bb', 'Ebm6-Bb-Bb7', 'Bb-Bb7-A7', 'Bb7-A7-G#7', 'A7-G#7-G7', 'G#7-G7-C7', 'G7-C7-F#dim7', 'C7-F#dim7-C7', 'F#dim7-C7-G#7', 'C7-G#7-G7', 'G#7-G7-C7', 'G7-C7-Ebm6', 'C7-Ebm6-C7', 'Ebm6-C7-Ebm6', 'C7-Ebm6-Bb', 'Ebm6-Bb-Bb7', 'Bb-Bb7-A7', 'Bb7-A7-G#7', 'A7-G#7-G7', 'G#7-G7-C7', 'G7-C7-F#dim7', 'C7-F#dim7-C7', 'F#dim7-C7-F7', 'C7-F7-Bb', 'F7-Bb-Bb', 'Bb-Bb-Eb', 'Bb-Eb-Eb6', 'Eb-Eb6-Eb6', 'Eb6-Eb6-Eb6', 'Eb6-Eb6-G7', 'Eb6-G7-F', 'G7-F-F6', 'F-F6-F7', 'F6-F7-F7', 'F7-F7-C7', 'F7-C7-Ebm6', 'C7-Ebm6-C7', 'Ebm6-C7-Ebm6', 'C7-Ebm6-Bb', 'Ebm6-Bb-Bb7', 'Bb-Bb7-A7', 'Bb7-A7-G#7', 'A7-G#7-G7', 'G#7-G7-C7', 'G7-C7-F#dim7', 'C7-F#dim7-C6', 'F#dim7-C6-F7', 'C6-F7-Bb', 'F7-Bb-D7'], tags=[4])]\n",
            "Counter({0: 1990, 1: 38, 2: 4, 4: 3, 3: 2, 372: 1, 1730: 1, 824: 1, 2004: 1, 1646: 1, 6: 1, 157: 1, 5: 1, 1522: 1})\n",
            "\tTunes similar to themselves in first place: 1990\n",
            "\tTunes not similar in first place: 56\n",
            "\t% of tunes not similar to themselves in first place: 2.74%\n"
          ]
        }
      ]
    },
    {
      "cell_type": "code",
      "metadata": {
        "id": "MCE-dKYzaMAK",
        "colab": {
          "base_uri": "https://localhost:8080/",
          "height": 112
        },
        "outputId": "b6ac348b-672b-4248-eb10-dc1c603a5070"
      },
      "source": [
        "pd.pivot_table(df_score, index = 'name', values = 'score', columns='pass')"
      ],
      "execution_count": 33,
      "outputs": [
        {
          "output_type": "execute_result",
          "data": {
            "text/html": [
              "<div>\n",
              "<style scoped>\n",
              "    .dataframe tbody tr th:only-of-type {\n",
              "        vertical-align: middle;\n",
              "    }\n",
              "\n",
              "    .dataframe tbody tr th {\n",
              "        vertical-align: top;\n",
              "    }\n",
              "\n",
              "    .dataframe thead th {\n",
              "        text-align: right;\n",
              "    }\n",
              "</style>\n",
              "<table border=\"1\" class=\"dataframe\">\n",
              "  <thead>\n",
              "    <tr style=\"text-align: right;\">\n",
              "      <th>pass</th>\n",
              "      <th>0</th>\n",
              "      <th>1</th>\n",
              "      <th>2</th>\n",
              "    </tr>\n",
              "    <tr>\n",
              "      <th>name</th>\n",
              "      <th></th>\n",
              "      <th></th>\n",
              "      <th></th>\n",
              "    </tr>\n",
              "  </thead>\n",
              "  <tbody>\n",
              "    <tr>\n",
              "      <th>autos_d2v_pv-dbow_3_4_0.1.model</th>\n",
              "      <td>2.932551</td>\n",
              "      <td>2.932551</td>\n",
              "      <td>2.737048</td>\n",
              "    </tr>\n",
              "  </tbody>\n",
              "</table>\n",
              "</div>"
            ],
            "text/plain": [
              "pass                                    0         1         2\n",
              "name                                                         \n",
              "autos_d2v_pv-dbow_3_4_0.1.model  2.932551  2.932551  2.737048"
            ]
          },
          "metadata": {},
          "execution_count": 33
        }
      ]
    },
    {
      "cell_type": "code",
      "metadata": {
        "id": "0vMsuHCuasyR",
        "colab": {
          "base_uri": "https://localhost:8080/"
        },
        "outputId": "e70de36b-d0fa-4468-c4f8-6847fe0b2aea"
      },
      "source": [
        "import time\n",
        "t = time.localtime()\n",
        "timestamp = time.strftime('%Y%m%d_%H%M%S', t)\n",
        "print(timestamp)"
      ],
      "execution_count": 34,
      "outputs": [
        {
          "output_type": "stream",
          "name": "stdout",
          "text": [
            "20211110_090824\n"
          ]
        }
      ]
    },
    {
      "cell_type": "code",
      "metadata": {
        "id": "HVdpHPwScifc"
      },
      "source": [
        "score_filename = f'score_{timestamp}.csv'\n",
        "df_score.to_csv(score_filename)"
      ],
      "execution_count": 35,
      "outputs": []
    },
    {
      "cell_type": "code",
      "metadata": {
        "colab": {
          "base_uri": "https://localhost:8080/"
        },
        "id": "Qrgmoam8eBgA",
        "outputId": "ef018f98-3e1e-419e-ed0e-c38bde43a2fc"
      },
      "source": [
        " !zip -r models.zip models_doc2vec/ "
      ],
      "execution_count": 36,
      "outputs": [
        {
          "output_type": "stream",
          "name": "stdout",
          "text": [
            "  adding: models_doc2vec/ (stored 0%)\n",
            "  adding: models_doc2vec/autos_d2v_pv-dbow_3_4_0.1.model (deflated 10%)\n"
          ]
        }
      ]
    },
    {
      "cell_type": "code",
      "metadata": {
        "colab": {
          "base_uri": "https://localhost:8080/",
          "height": 17
        },
        "id": "DWDwaoDBwQmv",
        "outputId": "7e61a8f2-a8a9-4225-e2eb-4c8535f71338"
      },
      "source": [
        "from google.colab import files\n",
        "files.download(\"models.zip\")"
      ],
      "execution_count": 37,
      "outputs": [
        {
          "output_type": "display_data",
          "data": {
            "application/javascript": [
              "\n",
              "    async function download(id, filename, size) {\n",
              "      if (!google.colab.kernel.accessAllowed) {\n",
              "        return;\n",
              "      }\n",
              "      const div = document.createElement('div');\n",
              "      const label = document.createElement('label');\n",
              "      label.textContent = `Downloading \"${filename}\": `;\n",
              "      div.appendChild(label);\n",
              "      const progress = document.createElement('progress');\n",
              "      progress.max = size;\n",
              "      div.appendChild(progress);\n",
              "      document.body.appendChild(div);\n",
              "\n",
              "      const buffers = [];\n",
              "      let downloaded = 0;\n",
              "\n",
              "      const channel = await google.colab.kernel.comms.open(id);\n",
              "      // Send a message to notify the kernel that we're ready.\n",
              "      channel.send({})\n",
              "\n",
              "      for await (const message of channel.messages) {\n",
              "        // Send a message to notify the kernel that we're ready.\n",
              "        channel.send({})\n",
              "        if (message.buffers) {\n",
              "          for (const buffer of message.buffers) {\n",
              "            buffers.push(buffer);\n",
              "            downloaded += buffer.byteLength;\n",
              "            progress.value = downloaded;\n",
              "          }\n",
              "        }\n",
              "      }\n",
              "      const blob = new Blob(buffers, {type: 'application/binary'});\n",
              "      const a = document.createElement('a');\n",
              "      a.href = window.URL.createObjectURL(blob);\n",
              "      a.download = filename;\n",
              "      div.appendChild(a);\n",
              "      a.click();\n",
              "      div.remove();\n",
              "    }\n",
              "  "
            ],
            "text/plain": [
              "<IPython.core.display.Javascript object>"
            ]
          },
          "metadata": {}
        },
        {
          "output_type": "display_data",
          "data": {
            "application/javascript": [
              "download(\"download_0bd2da24-1294-467e-91a3-e98bc5f810de\", \"models.zip\", 2579001)"
            ],
            "text/plain": [
              "<IPython.core.display.Javascript object>"
            ]
          },
          "metadata": {}
        }
      ]
    },
    {
      "cell_type": "code",
      "metadata": {
        "colab": {
          "base_uri": "https://localhost:8080/",
          "height": 17
        },
        "id": "r8rLDQ41w16O",
        "outputId": "9aefff3c-91c4-4fcf-ada2-036700ac55e5"
      },
      "source": [
        "files.download(score_filename)"
      ],
      "execution_count": 38,
      "outputs": [
        {
          "output_type": "display_data",
          "data": {
            "application/javascript": [
              "\n",
              "    async function download(id, filename, size) {\n",
              "      if (!google.colab.kernel.accessAllowed) {\n",
              "        return;\n",
              "      }\n",
              "      const div = document.createElement('div');\n",
              "      const label = document.createElement('label');\n",
              "      label.textContent = `Downloading \"${filename}\": `;\n",
              "      div.appendChild(label);\n",
              "      const progress = document.createElement('progress');\n",
              "      progress.max = size;\n",
              "      div.appendChild(progress);\n",
              "      document.body.appendChild(div);\n",
              "\n",
              "      const buffers = [];\n",
              "      let downloaded = 0;\n",
              "\n",
              "      const channel = await google.colab.kernel.comms.open(id);\n",
              "      // Send a message to notify the kernel that we're ready.\n",
              "      channel.send({})\n",
              "\n",
              "      for await (const message of channel.messages) {\n",
              "        // Send a message to notify the kernel that we're ready.\n",
              "        channel.send({})\n",
              "        if (message.buffers) {\n",
              "          for (const buffer of message.buffers) {\n",
              "            buffers.push(buffer);\n",
              "            downloaded += buffer.byteLength;\n",
              "            progress.value = downloaded;\n",
              "          }\n",
              "        }\n",
              "      }\n",
              "      const blob = new Blob(buffers, {type: 'application/binary'});\n",
              "      const a = document.createElement('a');\n",
              "      a.href = window.URL.createObjectURL(blob);\n",
              "      a.download = filename;\n",
              "      div.appendChild(a);\n",
              "      a.click();\n",
              "      div.remove();\n",
              "    }\n",
              "  "
            ],
            "text/plain": [
              "<IPython.core.display.Javascript object>"
            ]
          },
          "metadata": {}
        },
        {
          "output_type": "display_data",
          "data": {
            "application/javascript": [
              "download(\"download_57fe7765-3787-4769-89a3-47515db43709\", \"score_20211110_090824.csv\", 180)"
            ],
            "text/plain": [
              "<IPython.core.display.Javascript object>"
            ]
          },
          "metadata": {}
        }
      ]
    },
    {
      "cell_type": "markdown",
      "metadata": {
        "id": "c6bUr7lyK1OZ"
      },
      "source": [
        "### Assess the best Model"
      ]
    },
    {
      "cell_type": "code",
      "metadata": {
        "id": "NYOIoCtMosr4"
      },
      "source": [
        "best_model = 'autos_d2v_pv-dbow_3_4_0.1'"
      ],
      "execution_count": 39,
      "outputs": []
    },
    {
      "cell_type": "code",
      "metadata": {
        "id": "rzL5KDWS_ZdN"
      },
      "source": [
        "model = models[f\"{best_model}.model\"]"
      ],
      "execution_count": 40,
      "outputs": []
    },
    {
      "cell_type": "markdown",
      "metadata": {
        "id": "-mf-y-6B7395"
      },
      "source": [
        "#### Assess self-similarity"
      ]
    },
    {
      "cell_type": "code",
      "metadata": {
        "id": "HjA_mx5jMOUy"
      },
      "source": [
        "ranks = []\n",
        "second_ranks = []\n",
        "similarities = []\n",
        "\n",
        "train_corpus = data[f\"{best_model}.train\"]\n",
        "\n",
        "for doc_id in range(len(train_corpus)):\n",
        "    inferred_vector = model.infer_vector(train_corpus[doc_id].words)\n",
        "    sims = model.dv.most_similar([inferred_vector], topn=len(model.dv))\n",
        "    similarities.append(sims)\n",
        "    rank = [docid for docid, sim in sims].index(doc_id)\n",
        "    ranks.append(rank)\n",
        "\n",
        "    second_ranks.append(sims[1])"
      ],
      "execution_count": 41,
      "outputs": []
    },
    {
      "cell_type": "code",
      "metadata": {
        "colab": {
          "base_uri": "https://localhost:8080/"
        },
        "id": "hYg7KzFZL-De",
        "outputId": "3917ab1b-fb0a-4bd8-f09e-3d174fa84117"
      },
      "source": [
        "import collections\n",
        "\n",
        "counter = collections.Counter(ranks)\n",
        "print(counter)\n",
        "\n",
        "tunes_sim = counter[0]\n",
        "tunes_not_sim = len(train_corpus) - counter[0]\n",
        "\n",
        "print()\n",
        "print(f\"Tunes similar to themselves in first place: {tunes_sim}\")\n",
        "print(f\"Tunes not similar in first place: {tunes_not_sim}\")\n",
        "print(f\"% of tunes not similar to themselves in first place: {100 * tunes_not_sim/(tunes_sim + tunes_not_sim):.2f}%\")"
      ],
      "execution_count": 42,
      "outputs": [
        {
          "output_type": "stream",
          "name": "stdout",
          "text": [
            "Counter({0: 1988, 1: 38, 2: 5, 3: 3, 7: 2, 4: 2, 372: 1, 1730: 1, 824: 1, 2004: 1, 1646: 1, 5: 1, 157: 1, 1522: 1})\n",
            "\n",
            "Tunes similar to themselves in first place: 1988\n",
            "Tunes not similar in first place: 58\n",
            "% of tunes not similar to themselves in first place: 2.83%\n"
          ]
        }
      ]
    },
    {
      "cell_type": "code",
      "metadata": {
        "colab": {
          "base_uri": "https://localhost:8080/"
        },
        "id": "fTm6HACQMuhu",
        "outputId": "da10bd8c-5077-46af-a7b2-9b3cfc021433"
      },
      "source": [
        "print('Tunes that are similar to other tunes before they are similar to themselves:')\n",
        "for tune_index, value in enumerate(ranks):\n",
        "  if value > 0:\n",
        "    print(f\"'{titles.iloc[tune_index, 0]}': {value}\")"
      ],
      "execution_count": 43,
      "outputs": [
        {
          "output_type": "stream",
          "name": "stdout",
          "text": [
            "Tunes that are similar to other tunes before they are similar to themselves:\n",
            "'Anthropology': 7\n",
            "'Arise, Her Eyes': 372\n",
            "'Bags' Groove': 1\n",
            "'Basin Street Blues': 1\n",
            "'Bessie's Blues': 1\n",
            "'Billie's Bounce': 3\n",
            "'Blue Monk': 2\n",
            "'Blue Room, The': 1\n",
            "'Blue Skies': 1\n",
            "'Blue Sphere': 1\n",
            "'Bye Bye Blues': 1\n",
            "'Creole Love Call': 1\n",
            "'Cyclic Episode': 2\n",
            "'Get Happy': 1\n",
            "'I Can't Give You Anything But Love': 1\n",
            "'Ko Ko': 1\n",
            "'Lazy River': 1\n",
            "'Moose The Mooche': 7\n",
            "'Mr. P.C.': 1\n",
            "'No Moe': 3\n",
            "'Now's The Time': 3\n",
            "'Oleo': 1\n",
            "'Onmo': 1730\n",
            "'Pee Wee': 824\n",
            "'Pinocchio': 2004\n",
            "'Re Person I Knew': 1646\n",
            "'Rosetta': 1\n",
            "'Salt Peanuts': 2\n",
            "'Shaw 'Nuff': 5\n",
            "'So What': 1\n",
            "'Sorcerer, The': 157\n",
            "'St. Louis Blues': 2\n",
            "'Struttin' With Some Barbecue': 1\n",
            "'Sway': 1\n",
            "'Sweet Georgia Brown': 1\n",
            "'Tenor Madness': 1\n",
            "'Theme, The': 4\n",
            "'Things Ain't What They Used To Be': 1\n",
            "'Toy Tune': 1522\n",
            "'Trane’s Blues': 1\n",
            "'Walkin'': 4\n",
            "'You Can Depend On Me': 1\n",
            "'Birth Of The Blues, The': 1\n",
            "'C'est Si Bon': 1\n",
            "'Five Foot Two': 1\n",
            "'Honeysuckle Rose': 1\n",
            "'I Got Rhythm': 1\n",
            "'I Scream, You Scream (Ice Cream!)': 1\n",
            "'I Surrender, Dear': 1\n",
            "'Lazy River': 1\n",
            "'Martha (Maizie)': 1\n",
            "'On A Coconut Island': 2\n",
            "'On The Sunny Side Of The Street': 1\n",
            "'Out Of Nowhere': 1\n",
            "'Preacher, The': 1\n",
            "'Rose Room': 1\n",
            "'Rosetta': 1\n",
            "'Whe The Midnight Choo Choo Leaves For Alabam': 1\n"
          ]
        }
      ]
    },
    {
      "cell_type": "markdown",
      "metadata": {
        "id": "l9ZGogQ8pMuT"
      },
      "source": [
        "#### Determine Similarity of Tunes"
      ]
    },
    {
      "cell_type": "code",
      "metadata": {
        "id": "PR5oLV3v62jK"
      },
      "source": [
        "assert(len(model.dv.vectors == len(list(title_to_index.keys()))))"
      ],
      "execution_count": 44,
      "outputs": []
    },
    {
      "cell_type": "code",
      "metadata": {
        "id": "iY2ulbmg9WwQ"
      },
      "source": [
        "tunes_eval_list = [\n",
        "  'These Foolish Things', \n",
        "  'Blue Moon',\n",
        "  'Hundred Years From Today, A',\n",
        "  \"All God's Chillun Got Rhythm\",\n",
        "  'I Got Rhythm',\n",
        "  'Bye Bye Blackbird',\n",
        "  'Old Fashioned Love',\n",
        "  'Dinah',\n",
        "  'Honeysuckle Rose'\n",
        "]"
      ],
      "execution_count": 45,
      "outputs": []
    },
    {
      "cell_type": "code",
      "metadata": {
        "id": "A-FyrPBz9alo",
        "colab": {
          "base_uri": "https://localhost:8080/"
        },
        "outputId": "3d138619-f5e9-4144-f724-0f6e004fd3c1"
      },
      "source": [
        "for tune in tunes_eval_list:\n",
        "  sim = model.dv.most_similar(title_to_index[tune])\n",
        "\n",
        "  print()\n",
        "  print(f\"'{tune}' is most similar to:\")\n",
        "  for index, value in sim:\n",
        "    print(f'\\t{value:.3f}: {index_to_title[index]}')\n"
      ],
      "execution_count": 46,
      "outputs": [
        {
          "output_type": "stream",
          "name": "stdout",
          "text": [
            "\n",
            "'These Foolish Things' is most similar to:\n",
            "\t0.748: Isn't It A Pity\n",
            "\t0.745: Mimi\n",
            "\t0.703: It's A Lovely Day Today\n",
            "\t0.702: A Foggy Day\n",
            "\t0.700: They Can't Take That Away From Me\n",
            "\t0.698: Long Ago And Far Away\n",
            "\t0.687: Heart And Soul\n",
            "\t0.681: Star-Crossed Lovers, The\n",
            "\t0.680: At Last\n",
            "\t0.679: Wouldn't It Be Loverly\n",
            "\n",
            "'Blue Moon' is most similar to:\n",
            "\t0.724: Flamingo\n",
            "\t0.722: At Last\n",
            "\t0.709: My Heart Stood Still\n",
            "\t0.707: Jeepers Creepers\n",
            "\t0.687: Sophisticated Lady\n",
            "\t0.687: Teach Me Tonight\n",
            "\t0.682: It Could Happen To You\n",
            "\t0.680: Long Ago And Far Away\n",
            "\t0.679: Misty\n",
            "\t0.676: Here's That Rainy Day\n",
            "\n",
            "'Hundred Years From Today, A' is most similar to:\n",
            "\t0.636: Chicken\n",
            "\t0.617: Love Is The Sweetest Thing\n",
            "\t0.595: I May Be Wrong (But I Think You're Wonderful)\n",
            "\t0.591: Nightingale Sang In Berkeley Square , A\n",
            "\t0.589: When Somebody Thinks You're Wonderful\n",
            "\t0.583: Save It Pretty Mama\n",
            "\t0.580: Aged And Mellow Blues\n",
            "\t0.578: White Cliffs Of Dover, The\n",
            "\t0.563: Float Me Down The River\n",
            "\t0.562: That's My Weakness Now\n",
            "\n",
            "'All God's Chillun Got Rhythm' is most similar to:\n",
            "\t0.822: Thou Swell\n",
            "\t0.764: Too Young To Go Steady\n",
            "\t0.732: Come Back To Me\n",
            "\t0.728: Emily\n",
            "\t0.725: Things We Did Last Summer, The\n",
            "\t0.724: Nearness Of You, The\n",
            "\t0.720: Best Thing For You Is Me, The\n",
            "\t0.718: Taking A Chance On Love\n",
            "\t0.711: At Last\n",
            "\t0.710: Party's Over, The\n",
            "\n",
            "'I Got Rhythm' is most similar to:\n",
            "\t0.997: I Got Rhythm\n",
            "\t0.841: Cottontail\n",
            "\t0.786: Hackensack\n",
            "\t0.747: Rhythm-a-ning\n",
            "\t0.724: C.T.A.\n",
            "\t0.722: Who Cares\n",
            "\t0.709: Oh, What A Beautiful Mornin'\n",
            "\t0.704: Barbados\n",
            "\t0.703: Down For Double\n",
            "\t0.701: Get Happy\n",
            "\n",
            "'Bye Bye Blackbird' is most similar to:\n",
            "\t0.825: Smile Darn Ya Smile\n",
            "\t0.802: When You're Smiling\n",
            "\t0.763: Don't Give Up The Ship\n",
            "\t0.756: Thriller Rag\n",
            "\t0.755: C'Est Magnifique\n",
            "\t0.748: Blue Christmas\n",
            "\t0.745: Is It True What They Say About Dixie\n",
            "\t0.742: Bring Me Sunshine\n",
            "\t0.724: Idaho\n",
            "\t0.724: Cherry Pink And Apple Blossom White\n",
            "\n",
            "'Old Fashioned Love' is most similar to:\n",
            "\t0.842: Rent Party Blues\n",
            "\t0.830: Sporting Life Blues\n",
            "\t0.825: I Want A Girl (Just Like The Girl That Married Dear Old Dad)\n",
            "\t0.821: Indiana\n",
            "\t0.813: Don't Sweetheart Me\n",
            "\t0.812: Love Letters In The Sand\n",
            "\t0.809: When The Swallows Return To Capistrano\n",
            "\t0.809: Lonesome Road  1, The\n",
            "\t0.807: If You See My Saviour ( Tell The Lord I'm Coming Home)\n",
            "\t0.805: Way Down Upon The Swanee River\n",
            "\n",
            "'Dinah' is most similar to:\n",
            "\t0.732: Alone Too Long\n",
            "\t0.688: Autumn Leaves\n",
            "\t0.684: Leaving\n",
            "\t0.668: My Shining Hour\n",
            "\t0.650: It's A Lovely Day Today\n",
            "\t0.648: Don't Be That Way\n",
            "\t0.643: Penthouse Serenade\n",
            "\t0.638: Cry Me A River\n",
            "\t0.638: A Taste Of Honey\n",
            "\t0.632: Fever\n",
            "\n",
            "'Honeysuckle Rose' is most similar to:\n",
            "\t0.999: Honeysuckle Rose\n",
            "\t0.826: Perdido\n",
            "\t0.771: Hackensack\n",
            "\t0.726: Sweet Sue, Just You\n",
            "\t0.725: Speak Low\n",
            "\t0.722: Robbin's Nest\n",
            "\t0.716: Cheers\n",
            "\t0.713: When You're Smilin'\n",
            "\t0.703: Move\n",
            "\t0.701: Cottontail\n"
          ]
        }
      ]
    },
    {
      "cell_type": "markdown",
      "metadata": {
        "id": "qA4kJ2bRJLx7"
      },
      "source": [
        "#### Evaluate Similarity for Jazz Contrafacts\n",
        "\n",
        "A contrafact is a musical composition built using the chord progression of a pre-existing song, but with a new melody and arrangement. Typically the original tune's progression and song form will be reused but occasionally just a section will be reused in the new composition.\n",
        "\n",
        "https://en.wikipedia.org/wiki/List_of_jazz_contrafacts\n"
      ]
    },
    {
      "cell_type": "code",
      "metadata": {
        "id": "sXT2hjMKJWUa"
      },
      "source": [
        "contrafacts = {\n",
        "               \"26-2\": \"Confirmation\",\n",
        "               \"52nd Street Theme\": \"I Got Rhythm\",\n",
        "               \"Ablution\": \"All The Things You Are\",\n",
        "               \"Anthropology\": \"I Got Rhythm\",\n",
        "               \"Ballade\": \"As Long As I Live\",\n",
        "               \"Bright Mississippi\": \"Sweet Georgia Brown\",\n",
        "               \"C.T.A.\": \"I Got Rhythm\",\n",
        "               \"Celia\": \"I Got Rhythm\",\n",
        "               \"Cottontail\": \"I Got Rhythm\",\n",
        "               \"Countdown\": \"Tune Up\",\n",
        "               \"Dewey Square\": \"Oh, Lady Be Good\",\n",
        "               \"Dexterity\": \"I Got Rhythm\",\n",
        "               \"Dig\": \"Sweet Georgia Brown\",\n",
        "               \"Donna Lee\": \"Indiana (Back Home Again In)\",\n",
        "               \"Don't Be That Way\": \"I Got Rhythm\",\n",
        "               \"Eternal Triangle\": \"I Got Rhythm\",\n",
        "               \"Evidence\": \"Just You, Just Me\",\n",
        "               \"Flintstones\": \"I Got Rhythm\",\n",
        "               \"Four On Six\": \"Summertime\",\n",
        "               \"Freight Train\": \"Blues For Alice\",\n",
        "               \"Good Bait\": \"I Got Rhythm\",\n",
        "               \"Hackensack\": \"Oh, Lady Be Good\",\n",
        "               \"Half Nelson\": \"Lady Bird\",\n",
        "               \"Hot House\": \"What Is This Thing Called Love\",\n",
        "               \"Impressions\": \"So What\",\n",
        "               \"In A Mellow Tone (In A Mellotone)\": \"Rose Room\",\n",
        "               \"In Walked Bud\": \"Blue Skies\",\n",
        "               \"Ko Ko\": \"Cherokee\",\n",
        "               \"Lennie's Pennies\": \"Pennies From Heaven\",   ## Lennie's Pennies is in minor and therefore transposed to Amin... not possible to recognize like that\n",
        "               # \"Let's Call This\": \"Honeysuckle Rose\",\n",
        "               \"Little Rootie Tootie\": \"I Got Rhythm\",\n",
        "               \"Little Willie Leaps\": \"All God's Chillun Got Rhythm\",\n",
        "               \"Lullaby Of Birdland\": \"Love Me Or Leave Me\",\n",
        "               \"Moose The Mooche\": \"I Got Rhythm\",\n",
        "               \"My Little Suede Shoes\": \"Jeepers Creepers\",\n",
        "               \"Oleo\": \"I Got Rhythm\",\n",
        "               \"Ornithology\": \"How High The Moon\",\n",
        "               \"Passport\": \"I Got Rhythm\",\n",
        "               \"Quasimodo (Theme)\": \"Embraceable You\",\n",
        "               \"Rhythm-a-ning\": \"I Got Rhythm\",\n",
        "               \"Room 608\": \"I Got Rhythm\",\n",
        "               \"Salt Peanuts\": \"I Got Rhythm\",\n",
        "               \"Satellite\": \"How High The Moon\",\n",
        "               \"Scrapple From The Apple\": \"Honeysuckle Rose\", # A section\n",
        "               \"Scrapple From The Apple\": \"I Got Rhythm\", # B section\n",
        "               \"Segment\": \"I Got Rhythm\",\n",
        "               \"Seven Come Eleven\": \"I Got Rhythm\",\n",
        "               \"Shaw 'Nuff\": \"I Got Rhythm\",\n",
        "               \"Theme, The\": \"I Got Rhythm\",\n",
        "               \"Tour De Force\": \"Jeepers Creepers\",\n",
        "               \"Wow\": \"You Can Depend On Me\",\n",
        "               \"Yardbird Suite\": \"Rosetta\",\n",
        "               # following tunes are not from wikipedia:\n",
        "               \"Sweet Sue, Just You\": \"Honeysuckle Rose\",  # A section\n",
        "               # \"All Of Me\": \"Pennies From Heaven\", # bars 25-28 of All of Me are same as bars 17-20 of Pennies From Heaven, but different key!\n",
        "}"
      ],
      "execution_count": 56,
      "outputs": []
    },
    {
      "cell_type": "code",
      "metadata": {
        "id": "V5xFnOnkYddj"
      },
      "source": [
        "contrafacts_test = []\n",
        "for reference, compare in contrafacts.items():\n",
        "  contrafacts_test.append([title_to_index[reference], title_to_index[compare]])\n"
      ],
      "execution_count": 60,
      "outputs": []
    },
    {
      "cell_type": "code",
      "metadata": {
        "id": "tsAGpLArbTyd",
        "outputId": "0bb02336-bb2e-48ba-e3a7-c2d0abd06015",
        "colab": {
          "base_uri": "https://localhost:8080/"
        }
      },
      "source": [
        "most_sim = model.dv.most_similar(1)\n",
        "for i in most_sim:\n",
        "  if 247 == i[0]:\n",
        "    print(\"found!\")"
      ],
      "execution_count": 75,
      "outputs": [
        {
          "output_type": "stream",
          "name": "stdout",
          "text": [
            "found!\n"
          ]
        }
      ]
    },
    {
      "cell_type": "code",
      "metadata": {
        "id": "s-Ou3czcZbuq",
        "outputId": "a828c3a2-44a7-4cb6-f870-d8b24e511c4c",
        "colab": {
          "base_uri": "https://localhost:8080/"
        }
      },
      "source": [
        "similarity_found = 0\n",
        "\n",
        "for tune1, tune2 in contrafacts.items():\n",
        "  index1 = title_to_index[tune1]\n",
        "  index2 = title_to_index[tune2]\n",
        "\n",
        "  sim = model.dv.similarity(index1, index2)\n",
        "  most_sim = model.dv.most_similar(index1, topn=5)\n",
        "  \n",
        "  # check whether the index2 was found among the topn similar tunes\n",
        "  for i in most_sim:\n",
        "    if index2 == i[0]:\n",
        "      similarity_found += 1\n",
        "\n",
        "  print()\n",
        "  print(f\"'{tune1}' to '{tune2}': {sim}\")\n",
        "  print(f\"'{tune1}' is most similar to:\")\n",
        "  for index, value in most_sim:\n",
        "    print(f'\\t{value:.3f}: {index_to_title[index]}')\n",
        "\n",
        "\n",
        "print()\n",
        "num_tunes = len(contrafacts)\n",
        "print(f\"Number of tunes tested: {num_tunes}\")\n",
        "print(f\"Number of similarities found: {similarity_found}\")\n",
        "print(f\"Result: {100 * similarity_found / num_tunes}%\")"
      ],
      "execution_count": 77,
      "outputs": [
        {
          "output_type": "stream",
          "name": "stdout",
          "text": [
            "\n",
            "'26-2' to 'Confirmation': 0.5461316704750061\n",
            "'26-2' is most similar to:\n",
            "\t0.805: Giant Steps\n",
            "\t0.785: Countdown\n",
            "\t0.779: Satellite\n",
            "\t0.734: I Won't Dance\n",
            "\t0.729: Lady Bird\n",
            "\n",
            "'52nd Street Theme' to 'I Got Rhythm': 0.6068105101585388\n",
            "'52nd Street Theme' is most similar to:\n",
            "\t0.816: I've Got My Fingers Crossed\n",
            "\t0.755: Cherry Pink And Apple Blossom White\n",
            "\t0.723: One Sweet Letter From You (alt.)\n",
            "\t0.714: Ol' Man River\n",
            "\t0.713: Stranger On The Shore\n",
            "\n",
            "'Ablution' to 'All The Things You Are': 0.8708407282829285\n",
            "'Ablution' is most similar to:\n",
            "\t0.871: All The Things You Are\n",
            "\t0.711: Dolphin, The\n",
            "\t0.709: So Tender\n",
            "\t0.704: Tune Up\n",
            "\t0.698: Unrequited\n",
            "\n",
            "'Anthropology' to 'I Got Rhythm': 0.6775551438331604\n",
            "'Anthropology' is most similar to:\n",
            "\t0.998: Passport\n",
            "\t0.998: No Moe\n",
            "\t0.998: Shaw 'Nuff\n",
            "\t0.998: Oleo\n",
            "\t0.998: Theme, The\n",
            "\n",
            "'Ballade' to 'As Long As I Live': 0.37266454100608826\n",
            "'Ballade' is most similar to:\n",
            "\t0.723: September In The Rain\n",
            "\t0.677: After You've Gone\n",
            "\t0.639: Crazy Rhythm\n",
            "\t0.613: Under A Blanket Of Blue\n",
            "\t0.612: You Turned The Tables on Me\n",
            "\n",
            "'Bright Mississippi' to 'Sweet Georgia Brown': 0.6871902346611023\n",
            "'Bright Mississippi' is most similar to:\n",
            "\t0.761: Sweet Georgia Brown  (1925)\n",
            "\t0.725: Old Country, The\n",
            "\t0.694: Caravan\n",
            "\t0.689: No Moon At All\n",
            "\t0.687: Sweet Georgia Brown\n",
            "\n",
            "'C.T.A.' to 'I Got Rhythm': 0.7242698669433594\n",
            "'C.T.A.' is most similar to:\n",
            "\t0.744: Hackensack\n",
            "\t0.731: I Got Rhythm\n",
            "\t0.724: I Got Rhythm\n",
            "\t0.714: Ill Wind\n",
            "\t0.712: There'll Be Some Changes Made\n",
            "\n",
            "'Celia' to 'I Got Rhythm': 0.2132989466190338\n",
            "'Celia' is most similar to:\n",
            "\t0.796: Girl From Ipanema, The\n",
            "\t0.687: Night We Called It A Day, The\n",
            "\t0.658: Gregory Is Here\n",
            "\t0.647: Pensativa\n",
            "\t0.637: Eronel\n",
            "\n",
            "'Cottontail' to 'I Got Rhythm': 0.8411911129951477\n",
            "'Cottontail' is most similar to:\n",
            "\t0.841: I Got Rhythm\n",
            "\t0.840: I Got Rhythm\n",
            "\t0.784: Get Happy\n",
            "\t0.777: Get Happy\n",
            "\t0.748: Let's Do It (Let's Fall In Love)\n",
            "\n",
            "'Countdown' to 'Tune Up': 0.7529732584953308\n",
            "'Countdown' is most similar to:\n",
            "\t0.887: Giant Steps\n",
            "\t0.855: Satellite\n",
            "\t0.789: Night Dreamer\n",
            "\t0.785: 26-2\n",
            "\t0.779: Summer Serenade\n",
            "\n",
            "'Dewey Square' to 'Oh, Lady Be Good': 0.4444434940814972\n",
            "'Dewey Square' is most similar to:\n",
            "\t0.755: On A Slow Boat To China\n",
            "\t0.738: Sid's Delight\n",
            "\t0.734: Violets For Your Furs\n",
            "\t0.718: I Can't Give You Anything But Love\n",
            "\t0.714: I Can't Give You Anything But Love\n",
            "\n",
            "'Dexterity' to 'I Got Rhythm': 0.6168293356895447\n",
            "'Dexterity' is most similar to:\n",
            "\t0.929: Passport\n",
            "\t0.928: Anthropology\n",
            "\t0.927: Shaw 'Nuff\n",
            "\t0.926: No Moe\n",
            "\t0.926: Salt Peanuts\n",
            "\n",
            "'Dig' to 'Sweet Georgia Brown': 0.9977300763130188\n",
            "'Dig' is most similar to:\n",
            "\t0.998: Sweet Georgia Brown\n",
            "\t0.681: Bright Mississippi\n",
            "\t0.659: Dear Old Stockholm\n",
            "\t0.658: Sweet Georgia Brown  (1925)\n",
            "\t0.631: There'll Be Some Changes Made\n",
            "\n",
            "'Donna Lee' to 'Indiana (Back Home Again In)': 0.6846048831939697\n",
            "'Donna Lee' is most similar to:\n",
            "\t0.704: Dewey Square\n",
            "\t0.685: Indiana (Back Home Again In)\n",
            "\t0.671: Sid's Delight\n",
            "\t0.659: In Pursuit Of The 27th Man\n",
            "\t0.653: Dexterity\n",
            "\n",
            "'Don't Be That Way' to 'I Got Rhythm': 0.3577457666397095\n",
            "'Don't Be That Way' is most similar to:\n",
            "\t0.745: It's A Lovely Day Today\n",
            "\t0.715: I Guess I'll Have To Change My Plan\n",
            "\t0.715: I'm In The Mood For Love\n",
            "\t0.714: Mimi\n",
            "\t0.706: Party's Over, The\n",
            "\n",
            "'Eternal Triangle' to 'I Got Rhythm': 0.4778258800506592\n",
            "'Eternal Triangle' is most similar to:\n",
            "\t0.727: Better Days Ahead\n",
            "\t0.710: Minority\n",
            "\t0.688: Again\n",
            "\t0.687: Days And Nights Waiting\n",
            "\t0.680: Milano\n",
            "\n",
            "'Evidence' to 'Just You, Just Me': 0.47116029262542725\n",
            "'Evidence' is most similar to:\n",
            "\t0.681: Sometimes I'm Happy\n",
            "\t0.670: Eronel\n",
            "\t0.646: Au Privave\n",
            "\t0.645: Now's The Time\n",
            "\t0.645: Pfrancing (No Blues)\n",
            "\n",
            "'Flintstones' to 'I Got Rhythm': 0.65242600440979\n",
            "'Flintstones' is most similar to:\n",
            "\t0.879: Do Your Duty\n",
            "\t0.861: Rhythm-a-ning\n",
            "\t0.837: At Sundown\n",
            "\t0.827: In A Shanty In Old Shanty Town\n",
            "\t0.789: I Love Being Here With You\n",
            "\n",
            "'Four On Six' to 'Summertime': 0.32167649269104004\n",
            "'Four On Six' is most similar to:\n",
            "\t0.876: Road Song\n",
            "\t0.846: Strode Rode\n",
            "\t0.837: Slow Hot Wind\n",
            "\t0.832: Joshua\n",
            "\t0.821: Mr. P.C.\n",
            "\n",
            "'Freight Train' to 'Blues For Alice': 0.8097403049468994\n",
            "'Freight Train' is most similar to:\n",
            "\t0.810: Blues For Alice\n",
            "\t0.788: Bluesette\n",
            "\t0.761: Barbara\n",
            "\t0.760: I'll Close My Eyes\n",
            "\t0.758: I Remember You\n",
            "\n",
            "'Good Bait' to 'I Got Rhythm': 0.5204673409461975\n",
            "'Good Bait' is most similar to:\n",
            "\t0.780: Mountain Greenery\n",
            "\t0.772: For Sentimental Reasons\n",
            "\t0.762: Moonlight In Vermont\n",
            "\t0.735: Get Happy\n",
            "\t0.726: All Too Soon\n",
            "\n",
            "'Hackensack' to 'Oh, Lady Be Good': 0.4908406436443329\n",
            "'Hackensack' is most similar to:\n",
            "\t0.856: Perdido\n",
            "\t0.812: Cheers\n",
            "\t0.788: I Got Rhythm\n",
            "\t0.786: I Got Rhythm\n",
            "\t0.771: Honeysuckle Rose\n",
            "\n",
            "'Half Nelson' to 'Lady Bird': 0.968104362487793\n",
            "'Half Nelson' is most similar to:\n",
            "\t0.968: Lady Bird\n",
            "\t0.794: Moontrane, The\n",
            "\t0.765: Giant Steps\n",
            "\t0.762: I Won't Dance\n",
            "\t0.753: Lazy Bird\n",
            "\n",
            "'Hot House' to 'What Is This Thing Called Love': 0.9113290905952454\n",
            "'Hot House' is most similar to:\n",
            "\t0.951: Subconscious Lee\n",
            "\t0.911: What Is This Thing Called Love\n",
            "\t0.905: Forest Flower\n",
            "\t0.821: Like Sonny\n",
            "\t0.808: Ladies In Mercedes\n",
            "\n",
            "'Impressions' to 'So What': 0.9989055395126343\n",
            "'Impressions' is most similar to:\n",
            "\t0.999: So What\n",
            "\t0.991: Core, The\n",
            "\t0.983: Humpty Dumpty\n",
            "\t0.982: Milestones (New)\n",
            "\t0.977: Little Sunflower\n",
            "\n",
            "'In A Mellow Tone (In A Mellotone)' to 'Rose Room': 0.7296813130378723\n",
            "'In A Mellow Tone (In A Mellotone)' is most similar to:\n",
            "\t0.823: Crazy Rhythm\n",
            "\t0.804: Lady's In Love With You, The\n",
            "\t0.791: There'll Be Some Changes Made\n",
            "\t0.789: Sentimental Journey\n",
            "\t0.782: Só Danço Samba\n",
            "\n",
            "'In Walked Bud' to 'Blue Skies': 0.24614772200584412\n",
            "'In Walked Bud' is most similar to:\n",
            "\t0.755: Come Back To Me\n",
            "\t0.722: It Only Happens When I Dance With You\n",
            "\t0.715: I See Your Face Before Me\n",
            "\t0.691: Haunted Heart\n",
            "\t0.689: It's Been A Long Long Time\n",
            "\n",
            "'Ko Ko' to 'Cherokee': 0.997477114200592\n",
            "'Ko Ko' is most similar to:\n",
            "\t0.997: Cherokee\n",
            "\t0.724: Lady's In Love With You, The\n",
            "\t0.716: Take The A Train\n",
            "\t0.715: Old Devil Moon\n",
            "\t0.702: Almost Like Being In Love\n",
            "\n",
            "'Lennie's Pennies' to 'Pennies From Heaven': 0.09884361177682877\n",
            "'Lennie's Pennies' is most similar to:\n",
            "\t0.890: Besame Mucho\n",
            "\t0.834: My Heart Belongs To Daddy\n",
            "\t0.822: We Will Meet Again\n",
            "\t0.822: I Love Paris\n",
            "\t0.821: Interplay\n",
            "\n",
            "'Little Rootie Tootie' to 'I Got Rhythm': 0.40487900376319885\n",
            "'Little Rootie Tootie' is most similar to:\n",
            "\t0.658: Two Not One\n",
            "\t0.642: Line For Lyons\n",
            "\t0.639: Thriving From A Riff\n",
            "\t0.635: Mambo Inn\n",
            "\t0.608: All Too Soon\n",
            "\n",
            "'Little Willie Leaps' to 'All God's Chillun Got Rhythm': 0.6736034750938416\n",
            "'Little Willie Leaps' is most similar to:\n",
            "\t0.828: Parisian Thoroughfare\n",
            "\t0.805: My Little Suede Shoes\n",
            "\t0.794: Say It (Over And Over Again)\n",
            "\t0.760: Mambo Inn\n",
            "\t0.745: Crazy He Calls Me\n",
            "\n",
            "'Lullaby Of Birdland' to 'Love Me Or Leave Me': 0.3888058364391327\n",
            "'Lullaby Of Birdland' is most similar to:\n",
            "\t0.678: Beautiful Love\n",
            "\t0.647: Don't Explain\n",
            "\t0.631: Devil May Care\n",
            "\t0.627: Autumn Leaves\n",
            "\t0.617: Come Rain Or Come Shine\n",
            "\n",
            "'Moose The Mooche' to 'I Got Rhythm': 0.6817001104354858\n",
            "'Moose The Mooche' is most similar to:\n",
            "\t0.999: Shaw 'Nuff\n",
            "\t0.998: Passport\n",
            "\t0.998: Oleo\n",
            "\t0.998: Theme, The\n",
            "\t0.998: No Moe\n",
            "\n",
            "'My Little Suede Shoes' to 'Jeepers Creepers': 0.4573267996311188\n",
            "'My Little Suede Shoes' is most similar to:\n",
            "\t0.903: Parisian Thoroughfare\n",
            "\t0.865: Criss Cross\n",
            "\t0.822: Valse Hot\n",
            "\t0.805: Little Willie Leaps\n",
            "\t0.792: Stars Fell On Alabama\n",
            "\n",
            "'Oleo' to 'I Got Rhythm': 0.6699327826499939\n",
            "'Oleo' is most similar to:\n",
            "\t0.998: Theme, The\n",
            "\t0.998: Passport\n",
            "\t0.998: Shaw 'Nuff\n",
            "\t0.998: Moose The Mooche\n",
            "\t0.998: No Moe\n",
            "\n",
            "'Ornithology' to 'How High The Moon': 0.9625651240348816\n",
            "'Ornithology' is most similar to:\n",
            "\t0.963: How High The Moon\n",
            "\t0.829: Lennie-Bird\n",
            "\t0.785: Call Me\n",
            "\t0.765: Baubles, Bangles and Beads\n",
            "\t0.750: Afternoon In Paris\n",
            "\n",
            "'Passport' to 'I Got Rhythm': 0.6691896915435791\n",
            "'Passport' is most similar to:\n",
            "\t0.999: Shaw 'Nuff\n",
            "\t0.998: No Moe\n",
            "\t0.998: Oleo\n",
            "\t0.998: Anthropology\n",
            "\t0.998: Moose The Mooche\n",
            "\n",
            "'Quasimodo (Theme)' to 'Embraceable You': 0.41488316655158997\n",
            "'Quasimodo (Theme)' is most similar to:\n",
            "\t0.649: Quasimodo (Blowing Changes)\n",
            "\t0.646: Lullaby Of The Leaves\n",
            "\t0.638: Puttin' On The Ritz\n",
            "\t0.629: What A Difference A Day Made\n",
            "\t0.610: Mame\n",
            "\n",
            "'Rhythm-a-ning' to 'I Got Rhythm': 0.7467211484909058\n",
            "'Rhythm-a-ning' is most similar to:\n",
            "\t0.861: Flintstones\n",
            "\t0.833: Do Your Duty\n",
            "\t0.813: In A Shanty In Old Shanty Town\n",
            "\t0.802: Billie's Bounce\n",
            "\t0.802: Walkin'\n",
            "\n",
            "'Room 608' to 'I Got Rhythm': 0.4816935062408447\n",
            "'Room 608' is most similar to:\n",
            "\t0.763: Crosscurrent\n",
            "\t0.710: Theme, The\n",
            "\t0.708: Anthropology\n",
            "\t0.708: Passport\n",
            "\t0.706: Moose The Mooche\n",
            "\n",
            "'Salt Peanuts' to 'I Got Rhythm': 0.6853759288787842\n",
            "'Salt Peanuts' is most similar to:\n",
            "\t0.998: Oleo\n",
            "\t0.997: No Moe\n",
            "\t0.997: Theme, The\n",
            "\t0.997: Anthropology\n",
            "\t0.997: Moose The Mooche\n",
            "\n",
            "'Satellite' to 'How High The Moon': 0.6291961073875427\n",
            "'Satellite' is most similar to:\n",
            "\t0.880: Giant Steps\n",
            "\t0.855: Countdown\n",
            "\t0.788: Night Dreamer\n",
            "\t0.786: Dolphin, The\n",
            "\t0.779: 26-2\n",
            "\n",
            "'Scrapple From The Apple' to 'I Got Rhythm': 0.4086723327636719\n",
            "'Scrapple From The Apple' is most similar to:\n",
            "\t0.819: Two Not One\n",
            "\t0.787: Who's Sorry Now\n",
            "\t0.680: Cottage For Sale\n",
            "\t0.669: St. Thomas\n",
            "\t0.666: Thriving From A Riff\n",
            "\n",
            "'Segment' to 'I Got Rhythm': 0.23017683625221252\n",
            "'Segment' is most similar to:\n",
            "\t0.828: Softly, As In A Morning Sunrise\n",
            "\t0.828: Strode Rode\n",
            "\t0.796: Gentle Wind And Falling Tear\n",
            "\t0.794: Minor Mood\n",
            "\t0.788: Bohemia After Dark\n",
            "\n",
            "'Seven Come Eleven' to 'I Got Rhythm': 0.5466446876525879\n",
            "'Seven Come Eleven' is most similar to:\n",
            "\t0.774: Sentimental Journey\n",
            "\t0.760: Four In One\n",
            "\t0.752: Preacher, The\n",
            "\t0.737: Preacher, The\n",
            "\t0.711: I Mean You\n",
            "\n",
            "'Shaw 'Nuff' to 'I Got Rhythm': 0.6661571860313416\n",
            "'Shaw 'Nuff' is most similar to:\n",
            "\t0.999: No Moe\n",
            "\t0.999: Passport\n",
            "\t0.999: Moose The Mooche\n",
            "\t0.998: Oleo\n",
            "\t0.998: Anthropology\n",
            "\n",
            "'Theme, The' to 'I Got Rhythm': 0.6729483604431152\n",
            "'Theme, The' is most similar to:\n",
            "\t0.998: Oleo\n",
            "\t0.998: Moose The Mooche\n",
            "\t0.998: No Moe\n",
            "\t0.998: Passport\n",
            "\t0.998: Shaw 'Nuff\n",
            "\n",
            "'Tour De Force' to 'Jeepers Creepers': 0.5573179125785828\n",
            "'Tour De Force' is most similar to:\n",
            "\t0.746: Sun down\n",
            "\t0.676: Happy Little Sunbeam\n",
            "\t0.675: Dancing On The Ceiling\n",
            "\t0.661: Godchild\n",
            "\t0.640: Darn That Dream\n",
            "\n",
            "'Wow' to 'You Can Depend On Me': 0.5639852285385132\n",
            "'Wow' is most similar to:\n",
            "\t0.786: Cheers\n",
            "\t0.763: This Year's Kisses\n",
            "\t0.732: Exactly Like You\n",
            "\t0.725: Take The A Train\n",
            "\t0.713: Best Things In Life Are Free, The\n",
            "\n",
            "'Yardbird Suite' to 'Rosetta': 0.7949689030647278\n",
            "'Yardbird Suite' is most similar to:\n",
            "\t0.795: Rosetta\n",
            "\t0.792: Rosetta\n",
            "\t0.729: I'm Getting Sentimental Over You\n",
            "\t0.668: Too Young To Go Steady\n",
            "\t0.665: Hallucinations\n",
            "\n",
            "'Sweet Sue, Just You' to 'Honeysuckle Rose': 0.7256758213043213\n",
            "'Sweet Sue, Just You' is most similar to:\n",
            "\t0.816: Avalon\n",
            "\t0.804: Dearly Beloved\n",
            "\t0.803: Moten Swing\n",
            "\t0.790: When You're Smilin'\n",
            "\t0.774: Robbin's Nest\n",
            "\n",
            "Number of tunes tested: 51\n",
            "Number of similarities found: 13\n",
            "Result: 25.49019607843137%\n"
          ]
        }
      ]
    },
    {
      "cell_type": "code",
      "metadata": {
        "id": "1JgUYrctZuOY",
        "outputId": "683e8662-15c6-4cae-a075-65d014beb1d2",
        "colab": {
          "base_uri": "https://localhost:8080/"
        }
      },
      "source": [
        "model.dv.similarity(0, 1)"
      ],
      "execution_count": 62,
      "outputs": [
        {
          "output_type": "execute_result",
          "data": {
            "text/plain": [
              "0.35312873"
            ]
          },
          "metadata": {},
          "execution_count": 62
        }
      ]
    },
    {
      "cell_type": "markdown",
      "metadata": {
        "id": "QpCnkrYt81CI"
      },
      "source": [
        "#### Download Model"
      ]
    },
    {
      "cell_type": "code",
      "metadata": {
        "id": "jrwDVjSD7Upb"
      },
      "source": [
        "from google.colab import files\n",
        "files.download(f\"{model_path}/{best_model}.model\")\n",
        "files.download(f\"{data_path}/{best_model}.train\")"
      ],
      "execution_count": null,
      "outputs": []
    }
  ]
}