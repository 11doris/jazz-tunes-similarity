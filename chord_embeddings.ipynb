{
  "nbformat": 4,
  "nbformat_minor": 0,
  "metadata": {
    "colab": {
      "name": "Untitled0.ipynb",
      "provenance": [],
      "authorship_tag": "ABX9TyOtyRONbse4bWnaNotHSnEj",
      "include_colab_link": true
    },
    "kernelspec": {
      "name": "python3",
      "display_name": "Python 3"
    },
    "language_info": {
      "name": "python"
    }
  },
  "cells": [
    {
      "cell_type": "markdown",
      "metadata": {
        "id": "view-in-github",
        "colab_type": "text"
      },
      "source": [
        "<a href=\"https://colab.research.google.com/github/11doris/jazz-maestro/blob/colab_word_embeddings/chord_embeddings.ipynb\" target=\"_parent\"><img src=\"https://colab.research.google.com/assets/colab-badge.svg\" alt=\"Open In Colab\"/></a>"
      ]
    },
    {
      "cell_type": "markdown",
      "metadata": {
        "id": "5Qr4G4HLGFah"
      },
      "source": [
        "### Download Data"
      ]
    },
    {
      "cell_type": "markdown",
      "metadata": {
        "id": "-7p_6ctoFVFr"
      },
      "source": [
        "Download the file with the input sequences from Google Drive:"
      ]
    },
    {
      "cell_type": "code",
      "metadata": {
        "colab": {
          "base_uri": "https://localhost:8080/"
        },
        "id": "emWM8LcPFEND",
        "outputId": "34274293-7fe8-4b0c-95ae-2ecc2ceccb09"
      },
      "source": [
        "!wget --no-check-certificate 'https://docs.google.com/uc?export=download&id=1H8uRflGJGQecZlmy4jTK8aqKlyc-8C6y' -O input_seq.txt"
      ],
      "execution_count": 3,
      "outputs": [
        {
          "output_type": "stream",
          "name": "stdout",
          "text": [
            "--2021-10-25 10:56:27--  https://docs.google.com/uc?export=download&id=1H8uRflGJGQecZlmy4jTK8aqKlyc-8C6y\n",
            "Resolving docs.google.com (docs.google.com)... 74.125.195.100, 74.125.195.113, 74.125.195.102, ...\n",
            "Connecting to docs.google.com (docs.google.com)|74.125.195.100|:443... connected.\n",
            "HTTP request sent, awaiting response... 302 Moved Temporarily\n",
            "Location: https://doc-14-4c-docs.googleusercontent.com/docs/securesc/ha0ro937gcuc7l7deffksulhg5h7mbp1/92v7t7te9haj4f1k05ok376kbo9vgeak/1635159375000/14329102864480165501/*/1H8uRflGJGQecZlmy4jTK8aqKlyc-8C6y?e=download [following]\n",
            "Warning: wildcards not supported in HTTP.\n",
            "--2021-10-25 10:56:27--  https://doc-14-4c-docs.googleusercontent.com/docs/securesc/ha0ro937gcuc7l7deffksulhg5h7mbp1/92v7t7te9haj4f1k05ok376kbo9vgeak/1635159375000/14329102864480165501/*/1H8uRflGJGQecZlmy4jTK8aqKlyc-8C6y?e=download\n",
            "Resolving doc-14-4c-docs.googleusercontent.com (doc-14-4c-docs.googleusercontent.com)... 74.125.197.132, 2607:f8b0:400e:c03::84\n",
            "Connecting to doc-14-4c-docs.googleusercontent.com (doc-14-4c-docs.googleusercontent.com)|74.125.197.132|:443... connected.\n",
            "HTTP request sent, awaiting response... 200 OK\n",
            "Length: 454214 (444K) [text/plain]\n",
            "Saving to: ‘input_seq.txt’\n",
            "\n",
            "input_seq.txt       100%[===================>] 443.57K  --.-KB/s    in 0.005s  \n",
            "\n",
            "2021-10-25 10:56:28 (86.9 MB/s) - ‘input_seq.txt’ saved [454214/454214]\n",
            "\n"
          ]
        }
      ]
    },
    {
      "cell_type": "markdown",
      "metadata": {
        "id": "wKIOJzFjFrdN"
      },
      "source": [
        "Download the file with the meta data from Google Drive:\n"
      ]
    },
    {
      "cell_type": "code",
      "metadata": {
        "colab": {
          "base_uri": "https://localhost:8080/"
        },
        "id": "f1Hy8ONUFvkO",
        "outputId": "9a0eaf92-2dad-4fea-ba8f-20dc144f5843"
      },
      "source": [
        "!wget --no-check-certificate 'https://docs.google.com/uc?export=download&id=1Gy68KSn98UhfQm9YeRHjP6JsBzlN5z-S' -O input_meta.txt"
      ],
      "execution_count": 4,
      "outputs": [
        {
          "output_type": "stream",
          "name": "stdout",
          "text": [
            "--2021-10-25 10:56:28--  https://docs.google.com/uc?export=download&id=1Gy68KSn98UhfQm9YeRHjP6JsBzlN5z-S\n",
            "Resolving docs.google.com (docs.google.com)... 74.125.195.100, 74.125.195.113, 74.125.195.102, ...\n",
            "Connecting to docs.google.com (docs.google.com)|74.125.195.100|:443... connected.\n",
            "HTTP request sent, awaiting response... 302 Moved Temporarily\n",
            "Location: https://doc-0k-4c-docs.googleusercontent.com/docs/securesc/ha0ro937gcuc7l7deffksulhg5h7mbp1/gfkspis525q8bbropk4nn6e6af85ivsr/1635159375000/14329102864480165501/*/1Gy68KSn98UhfQm9YeRHjP6JsBzlN5z-S?e=download [following]\n",
            "Warning: wildcards not supported in HTTP.\n",
            "--2021-10-25 10:56:29--  https://doc-0k-4c-docs.googleusercontent.com/docs/securesc/ha0ro937gcuc7l7deffksulhg5h7mbp1/gfkspis525q8bbropk4nn6e6af85ivsr/1635159375000/14329102864480165501/*/1Gy68KSn98UhfQm9YeRHjP6JsBzlN5z-S?e=download\n",
            "Resolving doc-0k-4c-docs.googleusercontent.com (doc-0k-4c-docs.googleusercontent.com)... 74.125.197.132, 2607:f8b0:400e:c03::84\n",
            "Connecting to doc-0k-4c-docs.googleusercontent.com (doc-0k-4c-docs.googleusercontent.com)|74.125.197.132|:443... connected.\n",
            "HTTP request sent, awaiting response... 200 OK\n",
            "Length: 613215 (599K) [text/csv]\n",
            "Saving to: ‘input_meta.txt’\n",
            "\n",
            "input_meta.txt      100%[===================>] 598.84K  --.-KB/s    in 0.005s  \n",
            "\n",
            "2021-10-25 10:56:29 (121 MB/s) - ‘input_meta.txt’ saved [613215/613215]\n",
            "\n"
          ]
        }
      ]
    },
    {
      "cell_type": "code",
      "metadata": {
        "id": "mOSfFBrtGC6a"
      },
      "source": [
        ""
      ],
      "execution_count": null,
      "outputs": []
    }
  ]
}