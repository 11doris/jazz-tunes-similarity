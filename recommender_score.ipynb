{
  "nbformat": 4,
  "nbformat_minor": 0,
  "metadata": {
    "colab": {
      "name": "recommender_score",
      "provenance": [],
      "toc_visible": true,
      "authorship_tag": "ABX9TyNxvqo8IxmEtjaZxA7aBYiE",
      "include_colab_link": true
    },
    "kernelspec": {
      "name": "python3",
      "display_name": "Python 3"
    },
    "language_info": {
      "name": "python"
    },
    "accelerator": "TPU",
    "widgets": {
      "application/vnd.jupyter.widget-state+json": {
        "b0f9d7a0201a461c8c650e8b7c8c2ea9": {
          "model_module": "@jupyter-widgets/controls",
          "model_name": "VBoxModel",
          "model_module_version": "1.5.0",
          "state": {
            "_view_name": "VBoxView",
            "_dom_classes": [],
            "_model_name": "VBoxModel",
            "_view_module": "@jupyter-widgets/controls",
            "_model_module_version": "1.5.0",
            "_view_count": null,
            "_view_module_version": "1.5.0",
            "box_style": "",
            "layout": "IPY_MODEL_4514c8d4941149e6b9935b3a2cd41704",
            "_model_module": "@jupyter-widgets/controls",
            "children": [
              "IPY_MODEL_6fe42a542ffd4409abb8c0b67ae53d48",
              "IPY_MODEL_d31f37da34864d328186770735a5bee6"
            ]
          }
        },
        "4514c8d4941149e6b9935b3a2cd41704": {
          "model_module": "@jupyter-widgets/base",
          "model_name": "LayoutModel",
          "model_module_version": "1.2.0",
          "state": {
            "_view_name": "LayoutView",
            "grid_template_rows": null,
            "right": null,
            "justify_content": null,
            "_view_module": "@jupyter-widgets/base",
            "overflow": null,
            "_model_module_version": "1.2.0",
            "_view_count": null,
            "flex_flow": null,
            "width": null,
            "min_width": null,
            "border": null,
            "align_items": null,
            "bottom": null,
            "_model_module": "@jupyter-widgets/base",
            "top": null,
            "grid_column": null,
            "overflow_y": null,
            "overflow_x": null,
            "grid_auto_flow": null,
            "grid_area": null,
            "grid_template_columns": null,
            "flex": null,
            "_model_name": "LayoutModel",
            "justify_items": null,
            "grid_row": null,
            "max_height": null,
            "align_content": null,
            "visibility": null,
            "align_self": null,
            "height": null,
            "min_height": null,
            "padding": null,
            "grid_auto_rows": null,
            "grid_gap": null,
            "max_width": null,
            "order": null,
            "_view_module_version": "1.2.0",
            "grid_template_areas": null,
            "object_position": null,
            "object_fit": null,
            "grid_auto_columns": null,
            "margin": null,
            "display": null,
            "left": null
          }
        },
        "6fe42a542ffd4409abb8c0b67ae53d48": {
          "model_module": "@jupyter-widgets/controls",
          "model_name": "LabelModel",
          "model_module_version": "1.5.0",
          "state": {
            "_view_name": "LabelView",
            "style": "IPY_MODEL_e8a4c694fe414ce19428c5e83a1df61d",
            "_dom_classes": [],
            "description": "",
            "_model_name": "LabelModel",
            "placeholder": "​",
            "_view_module": "@jupyter-widgets/controls",
            "_model_module_version": "1.5.0",
            "value": " 3.99MB of 3.99MB uploaded (0.00MB deduped)\r",
            "_view_count": null,
            "_view_module_version": "1.5.0",
            "description_tooltip": null,
            "_model_module": "@jupyter-widgets/controls",
            "layout": "IPY_MODEL_ba863ee5eb984a8f84680420450c20f1"
          }
        },
        "d31f37da34864d328186770735a5bee6": {
          "model_module": "@jupyter-widgets/controls",
          "model_name": "FloatProgressModel",
          "model_module_version": "1.5.0",
          "state": {
            "_view_name": "ProgressView",
            "style": "IPY_MODEL_edcc533f1e704e3f98ebe3df6a93e9ef",
            "_dom_classes": [],
            "description": "",
            "_model_name": "FloatProgressModel",
            "bar_style": "",
            "max": 1,
            "_view_module": "@jupyter-widgets/controls",
            "_model_module_version": "1.5.0",
            "value": 1,
            "_view_count": null,
            "_view_module_version": "1.5.0",
            "orientation": "horizontal",
            "min": 0,
            "description_tooltip": null,
            "_model_module": "@jupyter-widgets/controls",
            "layout": "IPY_MODEL_72ddcdc8d81442db89a4fef04bd7c37c"
          }
        },
        "e8a4c694fe414ce19428c5e83a1df61d": {
          "model_module": "@jupyter-widgets/controls",
          "model_name": "DescriptionStyleModel",
          "model_module_version": "1.5.0",
          "state": {
            "_view_name": "StyleView",
            "_model_name": "DescriptionStyleModel",
            "description_width": "",
            "_view_module": "@jupyter-widgets/base",
            "_model_module_version": "1.5.0",
            "_view_count": null,
            "_view_module_version": "1.2.0",
            "_model_module": "@jupyter-widgets/controls"
          }
        },
        "ba863ee5eb984a8f84680420450c20f1": {
          "model_module": "@jupyter-widgets/base",
          "model_name": "LayoutModel",
          "model_module_version": "1.2.0",
          "state": {
            "_view_name": "LayoutView",
            "grid_template_rows": null,
            "right": null,
            "justify_content": null,
            "_view_module": "@jupyter-widgets/base",
            "overflow": null,
            "_model_module_version": "1.2.0",
            "_view_count": null,
            "flex_flow": null,
            "width": null,
            "min_width": null,
            "border": null,
            "align_items": null,
            "bottom": null,
            "_model_module": "@jupyter-widgets/base",
            "top": null,
            "grid_column": null,
            "overflow_y": null,
            "overflow_x": null,
            "grid_auto_flow": null,
            "grid_area": null,
            "grid_template_columns": null,
            "flex": null,
            "_model_name": "LayoutModel",
            "justify_items": null,
            "grid_row": null,
            "max_height": null,
            "align_content": null,
            "visibility": null,
            "align_self": null,
            "height": null,
            "min_height": null,
            "padding": null,
            "grid_auto_rows": null,
            "grid_gap": null,
            "max_width": null,
            "order": null,
            "_view_module_version": "1.2.0",
            "grid_template_areas": null,
            "object_position": null,
            "object_fit": null,
            "grid_auto_columns": null,
            "margin": null,
            "display": null,
            "left": null
          }
        },
        "edcc533f1e704e3f98ebe3df6a93e9ef": {
          "model_module": "@jupyter-widgets/controls",
          "model_name": "ProgressStyleModel",
          "model_module_version": "1.5.0",
          "state": {
            "_view_name": "StyleView",
            "_model_name": "ProgressStyleModel",
            "description_width": "",
            "_view_module": "@jupyter-widgets/base",
            "_model_module_version": "1.5.0",
            "_view_count": null,
            "_view_module_version": "1.2.0",
            "bar_color": null,
            "_model_module": "@jupyter-widgets/controls"
          }
        },
        "72ddcdc8d81442db89a4fef04bd7c37c": {
          "model_module": "@jupyter-widgets/base",
          "model_name": "LayoutModel",
          "model_module_version": "1.2.0",
          "state": {
            "_view_name": "LayoutView",
            "grid_template_rows": null,
            "right": null,
            "justify_content": null,
            "_view_module": "@jupyter-widgets/base",
            "overflow": null,
            "_model_module_version": "1.2.0",
            "_view_count": null,
            "flex_flow": null,
            "width": null,
            "min_width": null,
            "border": null,
            "align_items": null,
            "bottom": null,
            "_model_module": "@jupyter-widgets/base",
            "top": null,
            "grid_column": null,
            "overflow_y": null,
            "overflow_x": null,
            "grid_auto_flow": null,
            "grid_area": null,
            "grid_template_columns": null,
            "flex": null,
            "_model_name": "LayoutModel",
            "justify_items": null,
            "grid_row": null,
            "max_height": null,
            "align_content": null,
            "visibility": null,
            "align_self": null,
            "height": null,
            "min_height": null,
            "padding": null,
            "grid_auto_rows": null,
            "grid_gap": null,
            "max_width": null,
            "order": null,
            "_view_module_version": "1.2.0",
            "grid_template_areas": null,
            "object_position": null,
            "object_fit": null,
            "grid_auto_columns": null,
            "margin": null,
            "display": null,
            "left": null
          }
        }
      }
    }
  },
  "cells": [
    {
      "cell_type": "markdown",
      "metadata": {
        "id": "view-in-github",
        "colab_type": "text"
      },
      "source": [
        "<a href=\"https://colab.research.google.com/github/11doris/jazz-maestro/blob/colab_word_embeddings/recommender_score.ipynb\" target=\"_parent\"><img src=\"https://colab.research.google.com/assets/colab-badge.svg\" alt=\"Open In Colab\"/></a>"
      ]
    },
    {
      "cell_type": "markdown",
      "metadata": {
        "id": "YGhakKpa8Dtf"
      },
      "source": [
        "# Sections as Input"
      ]
    },
    {
      "cell_type": "code",
      "metadata": {
        "colab": {
          "base_uri": "https://localhost:8080/"
        },
        "id": "dm5QehpXxo31",
        "outputId": "8f168449-33b3-4b16-848c-bc987139e785"
      },
      "source": [
        "pip install wandb"
      ],
      "execution_count": 1,
      "outputs": [
        {
          "output_type": "stream",
          "name": "stdout",
          "text": [
            "Requirement already satisfied: wandb in /usr/local/lib/python3.7/dist-packages (0.12.7)\n",
            "Requirement already satisfied: shortuuid>=0.5.0 in /usr/local/lib/python3.7/dist-packages (from wandb) (1.0.8)\n",
            "Requirement already satisfied: sentry-sdk>=1.0.0 in /usr/local/lib/python3.7/dist-packages (from wandb) (1.5.0)\n",
            "Requirement already satisfied: python-dateutil>=2.6.1 in /usr/local/lib/python3.7/dist-packages (from wandb) (2.8.2)\n",
            "Requirement already satisfied: Click!=8.0.0,>=7.0 in /usr/local/lib/python3.7/dist-packages (from wandb) (7.1.2)\n",
            "Requirement already satisfied: psutil>=5.0.0 in /usr/local/lib/python3.7/dist-packages (from wandb) (5.4.8)\n",
            "Requirement already satisfied: promise<3,>=2.0 in /usr/local/lib/python3.7/dist-packages (from wandb) (2.3)\n",
            "Requirement already satisfied: protobuf>=3.12.0 in /usr/local/lib/python3.7/dist-packages (from wandb) (3.17.3)\n",
            "Requirement already satisfied: PyYAML in /usr/local/lib/python3.7/dist-packages (from wandb) (3.13)\n",
            "Requirement already satisfied: yaspin>=1.0.0 in /usr/local/lib/python3.7/dist-packages (from wandb) (2.1.0)\n",
            "Requirement already satisfied: pathtools in /usr/local/lib/python3.7/dist-packages (from wandb) (0.1.2)\n",
            "Requirement already satisfied: six>=1.13.0 in /usr/local/lib/python3.7/dist-packages (from wandb) (1.15.0)\n",
            "Requirement already satisfied: subprocess32>=3.5.3 in /usr/local/lib/python3.7/dist-packages (from wandb) (3.5.4)\n",
            "Requirement already satisfied: docker-pycreds>=0.4.0 in /usr/local/lib/python3.7/dist-packages (from wandb) (0.4.0)\n",
            "Requirement already satisfied: requests<3,>=2.0.0 in /usr/local/lib/python3.7/dist-packages (from wandb) (2.23.0)\n",
            "Requirement already satisfied: GitPython>=1.0.0 in /usr/local/lib/python3.7/dist-packages (from wandb) (3.1.24)\n",
            "Requirement already satisfied: configparser>=3.8.1 in /usr/local/lib/python3.7/dist-packages (from wandb) (5.1.0)\n",
            "Requirement already satisfied: typing-extensions>=3.7.4.3 in /usr/local/lib/python3.7/dist-packages (from GitPython>=1.0.0->wandb) (3.10.0.2)\n",
            "Requirement already satisfied: gitdb<5,>=4.0.1 in /usr/local/lib/python3.7/dist-packages (from GitPython>=1.0.0->wandb) (4.0.9)\n",
            "Requirement already satisfied: smmap<6,>=3.0.1 in /usr/local/lib/python3.7/dist-packages (from gitdb<5,>=4.0.1->GitPython>=1.0.0->wandb) (5.0.0)\n",
            "Requirement already satisfied: certifi>=2017.4.17 in /usr/local/lib/python3.7/dist-packages (from requests<3,>=2.0.0->wandb) (2021.10.8)\n",
            "Requirement already satisfied: idna<3,>=2.5 in /usr/local/lib/python3.7/dist-packages (from requests<3,>=2.0.0->wandb) (2.10)\n",
            "Requirement already satisfied: urllib3!=1.25.0,!=1.25.1,<1.26,>=1.21.1 in /usr/local/lib/python3.7/dist-packages (from requests<3,>=2.0.0->wandb) (1.24.3)\n",
            "Requirement already satisfied: chardet<4,>=3.0.2 in /usr/local/lib/python3.7/dist-packages (from requests<3,>=2.0.0->wandb) (3.0.4)\n",
            "Requirement already satisfied: termcolor<2.0.0,>=1.1.0 in /usr/local/lib/python3.7/dist-packages (from yaspin>=1.0.0->wandb) (1.1.0)\n"
          ]
        }
      ]
    },
    {
      "cell_type": "code",
      "metadata": {
        "colab": {
          "base_uri": "https://localhost:8080/"
        },
        "id": "HZG8BDT-xrv3",
        "outputId": "3b8048ae-d5b1-4e90-ecea-f2b9aabd1c50"
      },
      "source": [
        "!wandb login"
      ],
      "execution_count": 2,
      "outputs": [
        {
          "output_type": "stream",
          "name": "stdout",
          "text": [
            "\u001b[34m\u001b[1mwandb\u001b[0m: Currently logged in as: \u001b[33mdoris\u001b[0m (use `wandb login --relogin` to force relogin)\n"
          ]
        }
      ]
    },
    {
      "cell_type": "code",
      "metadata": {
        "id": "WHZBzAXjxz1J"
      },
      "source": [
        "import wandb"
      ],
      "execution_count": 3,
      "outputs": []
    },
    {
      "cell_type": "code",
      "metadata": {
        "colab": {
          "base_uri": "https://localhost:8080/"
        },
        "id": "MUy1ta4_782n",
        "outputId": "e230d45c-fda9-4fb6-c4fd-416321b59363"
      },
      "source": [
        "!pip uninstall gensim -y"
      ],
      "execution_count": 4,
      "outputs": [
        {
          "output_type": "stream",
          "name": "stdout",
          "text": [
            "Found existing installation: gensim 4.1.2\n",
            "Uninstalling gensim-4.1.2:\n",
            "  Successfully uninstalled gensim-4.1.2\n"
          ]
        }
      ]
    },
    {
      "cell_type": "code",
      "metadata": {
        "colab": {
          "base_uri": "https://localhost:8080/"
        },
        "id": "oAroxmvO8GQj",
        "outputId": "d6df822d-d2f8-428a-f339-2a561bd2045e"
      },
      "source": [
        "!pip install gensim"
      ],
      "execution_count": 5,
      "outputs": [
        {
          "output_type": "stream",
          "name": "stdout",
          "text": [
            "Collecting gensim\n",
            "  Using cached gensim-4.1.2-cp37-cp37m-manylinux_2_12_x86_64.manylinux2010_x86_64.whl (24.1 MB)\n",
            "Requirement already satisfied: scipy>=0.18.1 in /usr/local/lib/python3.7/dist-packages (from gensim) (1.4.1)\n",
            "Requirement already satisfied: smart-open>=1.8.1 in /usr/local/lib/python3.7/dist-packages (from gensim) (5.2.1)\n",
            "Requirement already satisfied: numpy>=1.17.0 in /usr/local/lib/python3.7/dist-packages (from gensim) (1.19.5)\n",
            "Installing collected packages: gensim\n",
            "Successfully installed gensim-4.1.2\n"
          ]
        }
      ]
    },
    {
      "cell_type": "code",
      "metadata": {
        "id": "6SZ0zrKX8H-D"
      },
      "source": [
        "import gensim\n",
        "from sklearn.manifold import TSNE\n",
        "import matplotlib.pyplot as plt\n",
        "import pprint\n",
        "import pandas as pd\n",
        "import numpy as np\n",
        "from collections import Counter\n",
        "import plotly.express as px\n",
        "from tqdm import tqdm \n",
        "from gensim.models.doc2vec import Doc2Vec\n",
        "from gensim.models.tfidfmodel import TfidfModel\n",
        "from gensim.models.lsimodel import LsiModel\n",
        "from gensim.models import CoherenceModel\n",
        "from gensim import corpora\n",
        "from gensim import similarities\n",
        "import pickle\n",
        "import os"
      ],
      "execution_count": 6,
      "outputs": []
    },
    {
      "cell_type": "code",
      "metadata": {
        "id": "znWar-PK8KHT"
      },
      "source": [
        "import logging\n",
        "logging.basicConfig(format='%(asctime)s : %(levelname)s : %(message)s', level=logging.INFO)"
      ],
      "execution_count": 7,
      "outputs": []
    },
    {
      "cell_type": "code",
      "metadata": {
        "colab": {
          "base_uri": "https://localhost:8080/"
        },
        "id": "kjCf_Abf8MCc",
        "outputId": "40845936-18db-4c44-b093-ec2e03ffc37e"
      },
      "source": [
        "print(gensim.__version__)"
      ],
      "execution_count": 8,
      "outputs": [
        {
          "output_type": "stream",
          "name": "stdout",
          "text": [
            "4.1.2\n"
          ]
        }
      ]
    },
    {
      "cell_type": "code",
      "metadata": {
        "id": "_aEonlx-CT6r"
      },
      "source": [
        "!rm data.csv"
      ],
      "execution_count": 9,
      "outputs": []
    },
    {
      "cell_type": "markdown",
      "metadata": {
        "id": "Nk5pPZqk0Pn7"
      },
      "source": [
        "# Configuration\n"
      ]
    },
    {
      "cell_type": "code",
      "metadata": {
        "id": "wcZ18xhgU7MZ"
      },
      "source": [
        "use_wandb = True"
      ],
      "execution_count": 10,
      "outputs": []
    },
    {
      "cell_type": "code",
      "metadata": {
        "id": "GfQbJQmexlxI"
      },
      "source": [
        "chords_repeated = 'rep' \n",
        "chords_preprocessing = 'rootAndDegreesPlus'"
      ],
      "execution_count": 11,
      "outputs": []
    },
    {
      "cell_type": "code",
      "metadata": {
        "id": "buoyWNl0F48Y"
      },
      "source": [
        "ngrams_for_input = [1]"
      ],
      "execution_count": 12,
      "outputs": []
    },
    {
      "cell_type": "code",
      "metadata": {
        "id": "K7qB2_sBvKpB"
      },
      "source": [
        "input_files = {\n",
        "    'sections': {\n",
        "        'rep': {\n",
        "            # M7 and 6 reduced to major triad, m7 reduced to m, dominant 7, m7b5, diminished, and all (b5) left as they are.\n",
        "            'rootAndDegreesPlus': '17djlZRWFSUCviOxRTOF-nwbbZqU5gUP9',\n",
        "            'rootAndDegrees7': '1lQTBMYk7Ui_mbOopUTjOs4MV_4c1a8bO',\n",
        "            'rootAndDegreesSimplified': '1lVm6r0T3i1hbyZqPJXNKf90uh14MOKkb'\n",
        "        },\n",
        "    },\n",
        "    'tunes': {\n",
        "        'rep': {\n",
        "            'rootAndDegreesPlus': '',\n",
        "            'rootAndDegrees7': '',\n",
        "            'rootAndDegreesSimplified': '',\n",
        "        },\n",
        "        'norep': {\n",
        "            'rootAndDegreesPlus': '',\n",
        "            'rootAndDegrees7': '',\n",
        "            'rootAndDegreesSimplified': '',\n",
        "        }\n",
        "    }\n",
        "}"
      ],
      "execution_count": 13,
      "outputs": []
    },
    {
      "cell_type": "code",
      "metadata": {
        "colab": {
          "base_uri": "https://localhost:8080/"
        },
        "id": "lM6eaQwnyWD3",
        "outputId": "dd67c6cd-259f-4398-9b28-23690dddc470"
      },
      "source": [
        "tunes_eval_list = [\n",
        "  \"Sweet Sue, Just You\",\n",
        "  \"These Foolish Things\", \n",
        "  \"Blue Moon\",\n",
        "  \"All Of Me\",\n",
        "  \"All God's Chillun Got Rhythm\",\n",
        "  \"I Got Rhythm\",\n",
        "  \"Bye Bye Blackbird\",\n",
        "  \"Old Fashioned Love\",\n",
        "  \"Dinah\",\n",
        "  \"Honeysuckle Rose\",\n",
        "  \"Misty\",\n",
        "  \"We'll Be Together Again\",\n",
        "  \"East Of The Sun\",\n",
        "  \"Sophisticated Lady\",\n",
        "  \"Perdido\",\n",
        "  \"Naima\",\n",
        "  \"Call Me Irresponsible\",\n",
        "  \"Corcovado\",\n",
        "  \"Footprints\",\n",
        "  \"Giant Steps\",\n",
        "  \"But Beautiful\",\n",
        "  \"Rockin' Chair\",\n",
        "  \"Blood Count\",\n",
        "  \"After You've Gone\",\n",
        "]\n",
        "\n",
        "tunes_eval_list = sorted(tunes_eval_list)\n",
        "tunes_eval_list"
      ],
      "execution_count": 14,
      "outputs": [
        {
          "output_type": "execute_result",
          "data": {
            "text/plain": [
              "[\"After You've Gone\",\n",
              " \"All God's Chillun Got Rhythm\",\n",
              " 'All Of Me',\n",
              " 'Blood Count',\n",
              " 'Blue Moon',\n",
              " 'But Beautiful',\n",
              " 'Bye Bye Blackbird',\n",
              " 'Call Me Irresponsible',\n",
              " 'Corcovado',\n",
              " 'Dinah',\n",
              " 'East Of The Sun',\n",
              " 'Footprints',\n",
              " 'Giant Steps',\n",
              " 'Honeysuckle Rose',\n",
              " 'I Got Rhythm',\n",
              " 'Misty',\n",
              " 'Naima',\n",
              " 'Old Fashioned Love',\n",
              " 'Perdido',\n",
              " \"Rockin' Chair\",\n",
              " 'Sophisticated Lady',\n",
              " 'Sweet Sue, Just You',\n",
              " 'These Foolish Things',\n",
              " \"We'll Be Together Again\"]"
            ]
          },
          "metadata": {},
          "execution_count": 14
        }
      ]
    },
    {
      "cell_type": "code",
      "metadata": {
        "id": "uiI0h4ef0PCD"
      },
      "source": [
        "contrafacts = {\n",
        "               \"26-2\": \"Confirmation\",\n",
        "               \"52nd Street Theme\": \"I Got Rhythm\",\n",
        "               \"Ablution\": \"All The Things You Are\",\n",
        "               \"Anthropology\": \"I Got Rhythm\",\n",
        "               \"Ballade\": \"As Long As I Live\",\n",
        "               \"Bright Mississippi\": \"Sweet Georgia Brown\",\n",
        "               \"C.T.A.\": \"I Got Rhythm\",\n",
        "               # \"Celia\": \"I Got Rhythm\",\n",
        "               \"Cottontail\": \"I Got Rhythm\",\n",
        "               \"Countdown\": \"Tune Up\",\n",
        "               \"Dewey Square\": \"Oh, Lady Be Good\",\n",
        "               \"Dexterity\": \"I Got Rhythm\",\n",
        "               \"Dig\": \"Sweet Georgia Brown\",\n",
        "               \"Donna Lee\": \"Indiana (Back Home Again In)\",\n",
        "               \"Don't Be That Way\": \"I Got Rhythm\",\n",
        "               #\"Eternal Triangle\": \"I Got Rhythm\",\n",
        "               \"Evidence\": \"Just You, Just Me\",\n",
        "               \"Flintstones\": \"I Got Rhythm\",\n",
        "               \"Four On Six\": \"Summertime\",\n",
        "               \"Freight Train\": \"Blues For Alice\",\n",
        "               \"Good Bait\": \"I Got Rhythm\",\n",
        "               \"Hackensack\": \"Oh, Lady Be Good\",\n",
        "               \"Half Nelson\": \"Lady Bird\",\n",
        "               \"Hot House\": \"What Is This Thing Called Love\",\n",
        "               \"Impressions\": \"So What\",\n",
        "               \"In A Mellow Tone (In A Mellotone)\": \"Rose Room\",\n",
        "               \"In Walked Bud\": \"Blue Skies\",\n",
        "               \"Ko Ko\": \"Cherokee\",\n",
        "               \"Lennie's Pennies\": \"Pennies From Heaven\",   ## Lennie's Pennies is in minor and therefore transposed to Amin... not possible to recognize like that\n",
        "               # \"Let's Call This\": \"Honeysuckle Rose\",\n",
        "               \"Little Rootie Tootie\": \"I Got Rhythm\",\n",
        "               \"Little Willie Leaps\": \"All God's Chillun Got Rhythm\",\n",
        "               \"Lullaby Of Birdland\": \"Love Me Or Leave Me\",\n",
        "               #\"Moose The Mooche\": \"I Got Rhythm\",\n",
        "               \"My Little Suede Shoes\": \"Jeepers Creepers\",\n",
        "               #\"Oleo\": \"I Got Rhythm\",\n",
        "               \"Ornithology\": \"How High The Moon\",\n",
        "               #\"Passport\": \"I Got Rhythm\",\n",
        "               \"Quasimodo (Theme)\": \"Embraceable You\",\n",
        "               #\"Rhythm-a-ning\": \"I Got Rhythm\",\n",
        "               \"Room 608\": \"I Got Rhythm\",\n",
        "               #\"Salt Peanuts\": \"I Got Rhythm\",\n",
        "               \"Satellite\": \"How High The Moon\",\n",
        "               \"Scrapple From The Apple\": \"Honeysuckle Rose\", # A section\n",
        "               \"Scrapple From The Apple\": \"I Got Rhythm\", # B section\n",
        "               #\"Segment\": \"I Got Rhythm\",\n",
        "               #\"Seven Come Eleven\": \"I Got Rhythm\",\n",
        "               #\"Shaw 'Nuff\": \"I Got Rhythm\",\n",
        "               #\"Theme, The\": \"I Got Rhythm\",\n",
        "               \"Tour De Force\": \"Jeepers Creepers\",\n",
        "               \"Wow\": \"You Can Depend On Me\",\n",
        "               \"Yardbird Suite\": \"Rosetta\",\n",
        "\n",
        "               # following tunes are not from wikipedia:\n",
        "               \"Sweet Sue, Just You\": \"Honeysuckle Rose\",  # A section\n",
        "               # \"All Of Me\": \"Pennies From Heaven\", # bars 25-28 of All of Me are same as bars 17-20 of Pennies From Heaven, but different key!\n",
        "               \"Sweet Sue, Just You\": \"Bye Bye Blackbird\", # Bridge same\n",
        "               \"These Foolish Things\": \"Blue Moon\", # first 8 bars same\n",
        "               \"These Foolish Things\": \"More Than You Know\",\n",
        "               \"These Foolish Things\": \"Isn't It A Pity\",\n",
        "               \"These Foolish Things\": \"Soultrain\",\n",
        "               \"These Foolish Things\": \"Why Do I Love You\",\n",
        "               \"Misty\": \"Portrait Of Jennie\",\n",
        "               \"Misty\": \"September In The Rain\",\n",
        "               \"Misty\": \"I May Be Wrong\",             \n",
        "               \n",
        "}"
      ],
      "execution_count": 15,
      "outputs": []
    },
    {
      "cell_type": "markdown",
      "metadata": {
        "id": "gcexO7zK8Pn6"
      },
      "source": [
        "# Initialization\n",
        "\n",
        "## Download the Data"
      ]
    },
    {
      "cell_type": "code",
      "metadata": {
        "id": "JwVJo3Vat8iF"
      },
      "source": [
        "input_data = input_files['sections'][chords_repeated][chords_preprocessing]\n",
        "\n",
        "input_path = f\"https://docs.google.com/uc?export=download&id={input_data}\"\n",
        "data_file_name = 'data.csv'\n"
      ],
      "execution_count": 16,
      "outputs": []
    },
    {
      "cell_type": "code",
      "metadata": {
        "colab": {
          "base_uri": "https://localhost:8080/",
          "height": 36
        },
        "id": "_Dp-fijjB-pU",
        "outputId": "6f4c4077-d2e0-43f0-82d5-b1c1b0845152"
      },
      "source": [
        "input_path"
      ],
      "execution_count": 17,
      "outputs": [
        {
          "output_type": "execute_result",
          "data": {
            "application/vnd.google.colaboratory.intrinsic+json": {
              "type": "string"
            },
            "text/plain": [
              "'https://docs.google.com/uc?export=download&id=17djlZRWFSUCviOxRTOF-nwbbZqU5gUP9'"
            ]
          },
          "metadata": {},
          "execution_count": 17
        }
      ]
    },
    {
      "cell_type": "code",
      "metadata": {
        "colab": {
          "base_uri": "https://localhost:8080/"
        },
        "id": "1ZVAYUH5t9Li",
        "outputId": "c835aa0e-d738-4f1c-d6ea-34d6553ba1df"
      },
      "source": [
        "!wget --no-check-certificate \"$input_path\" -O \"$data_file_name\""
      ],
      "execution_count": 18,
      "outputs": [
        {
          "output_type": "stream",
          "name": "stdout",
          "text": [
            "--2021-11-25 11:10:41--  https://docs.google.com/uc?export=download&id=17djlZRWFSUCviOxRTOF-nwbbZqU5gUP9\n",
            "Resolving docs.google.com (docs.google.com)... 142.250.1.113, 142.250.1.101, 142.250.1.102, ...\n",
            "Connecting to docs.google.com (docs.google.com)|142.250.1.113|:443... connected.\n",
            "HTTP request sent, awaiting response... 302 Moved Temporarily\n",
            "Location: https://doc-0s-4c-docs.googleusercontent.com/docs/securesc/ha0ro937gcuc7l7deffksulhg5h7mbp1/l6tdo57ilndu769nfv93sanbq87m2vhg/1637838600000/14329102864480165501/*/17djlZRWFSUCviOxRTOF-nwbbZqU5gUP9?e=download [following]\n",
            "Warning: wildcards not supported in HTTP.\n",
            "--2021-11-25 11:10:42--  https://doc-0s-4c-docs.googleusercontent.com/docs/securesc/ha0ro937gcuc7l7deffksulhg5h7mbp1/l6tdo57ilndu769nfv93sanbq87m2vhg/1637838600000/14329102864480165501/*/17djlZRWFSUCviOxRTOF-nwbbZqU5gUP9?e=download\n",
            "Resolving doc-0s-4c-docs.googleusercontent.com (doc-0s-4c-docs.googleusercontent.com)... 142.250.136.132, 2607:f8b0:4001:c34::84\n",
            "Connecting to doc-0s-4c-docs.googleusercontent.com (doc-0s-4c-docs.googleusercontent.com)|142.250.136.132|:443... connected.\n",
            "HTTP request sent, awaiting response... 200 OK\n",
            "Length: 662603 (647K) [text/csv]\n",
            "Saving to: ‘data.csv’\n",
            "\n",
            "data.csv            100%[===================>] 647.07K  --.-KB/s    in 0.009s  \n",
            "\n",
            "2021-11-25 11:10:42 (72.9 MB/s) - ‘data.csv’ saved [662603/662603]\n",
            "\n"
          ]
        }
      ]
    },
    {
      "cell_type": "markdown",
      "metadata": {
        "id": "Ljs21B7h8YvC"
      },
      "source": [
        "### Read Chords Input Data"
      ]
    },
    {
      "cell_type": "code",
      "metadata": {
        "colab": {
          "base_uri": "https://localhost:8080/",
          "height": 241
        },
        "id": "B7kK418L8aac",
        "outputId": "3c4376fe-f6b2-4b41-9496-d25f69c7c6e7"
      },
      "source": [
        "df = pd.read_csv(data_file_name, sep='\\t', index_col=\"id\")\n",
        "df = df.reset_index()\n",
        "df.head(5)"
      ],
      "execution_count": 19,
      "outputs": [
        {
          "output_type": "execute_result",
          "data": {
            "text/html": [
              "<div>\n",
              "<style scoped>\n",
              "    .dataframe tbody tr th:only-of-type {\n",
              "        vertical-align: middle;\n",
              "    }\n",
              "\n",
              "    .dataframe tbody tr th {\n",
              "        vertical-align: top;\n",
              "    }\n",
              "\n",
              "    .dataframe thead th {\n",
              "        text-align: right;\n",
              "    }\n",
              "</style>\n",
              "<table border=\"1\" class=\"dataframe\">\n",
              "  <thead>\n",
              "    <tr style=\"text-align: right;\">\n",
              "      <th></th>\n",
              "      <th>id</th>\n",
              "      <th>file_name</th>\n",
              "      <th>title</th>\n",
              "      <th>tune_mode</th>\n",
              "      <th>tune_id</th>\n",
              "      <th>section_name</th>\n",
              "      <th>section_id</th>\n",
              "      <th>chords</th>\n",
              "    </tr>\n",
              "  </thead>\n",
              "  <tbody>\n",
              "    <tr>\n",
              "      <th>0</th>\n",
              "      <td>0</td>\n",
              "      <td>dataset/jazz1350/26-2.xml</td>\n",
              "      <td>26-2</td>\n",
              "      <td>major</td>\n",
              "      <td>0</td>\n",
              "      <td>A</td>\n",
              "      <td>1</td>\n",
              "      <td>C Eb7 G# B7 E G7 Gm C7 F G#7 C# E7 Am D7 Dm G7</td>\n",
              "    </tr>\n",
              "    <tr>\n",
              "      <th>1</th>\n",
              "      <td>1</td>\n",
              "      <td>dataset/jazz1350/26-2.xml</td>\n",
              "      <td>26-2</td>\n",
              "      <td>major</td>\n",
              "      <td>0</td>\n",
              "      <td>A</td>\n",
              "      <td>2</td>\n",
              "      <td>C Eb7 G# B7 E G7 Gm C7 F Eb7 G# B7 E G7 C</td>\n",
              "    </tr>\n",
              "    <tr>\n",
              "      <th>2</th>\n",
              "      <td>2</td>\n",
              "      <td>dataset/jazz1350/26-2.xml</td>\n",
              "      <td>26-2</td>\n",
              "      <td>major</td>\n",
              "      <td>0</td>\n",
              "      <td>B</td>\n",
              "      <td>3</td>\n",
              "      <td>Gm C7 Bm E7 A C7 F Bbm Eb7 G# Dm G7</td>\n",
              "    </tr>\n",
              "    <tr>\n",
              "      <th>3</th>\n",
              "      <td>3</td>\n",
              "      <td>dataset/jazz1350/26-2.xml</td>\n",
              "      <td>26-2</td>\n",
              "      <td>major</td>\n",
              "      <td>0</td>\n",
              "      <td>A</td>\n",
              "      <td>4</td>\n",
              "      <td>C Eb7 G# B7 E G7 Gm C7 F Eb7 G# B7 E G7 C</td>\n",
              "    </tr>\n",
              "    <tr>\n",
              "      <th>4</th>\n",
              "      <td>4</td>\n",
              "      <td>dataset/jazz1350/500 Miles High.xml</td>\n",
              "      <td>500 Miles High</td>\n",
              "      <td>minor</td>\n",
              "      <td>1</td>\n",
              "      <td>NaN</td>\n",
              "      <td>0</td>\n",
              "      <td>Am Am Cm Cm Eb Eb Em7b5 A7 Dm Dm Bm7b5 Bm7b5 B...</td>\n",
              "    </tr>\n",
              "  </tbody>\n",
              "</table>\n",
              "</div>"
            ],
            "text/plain": [
              "   id  ...                                             chords\n",
              "0   0  ...     C Eb7 G# B7 E G7 Gm C7 F G#7 C# E7 Am D7 Dm G7\n",
              "1   1  ...          C Eb7 G# B7 E G7 Gm C7 F Eb7 G# B7 E G7 C\n",
              "2   2  ...                Gm C7 Bm E7 A C7 F Bbm Eb7 G# Dm G7\n",
              "3   3  ...          C Eb7 G# B7 E G7 Gm C7 F Eb7 G# B7 E G7 C\n",
              "4   4  ...  Am Am Cm Cm Eb Eb Em7b5 A7 Dm Dm Bm7b5 Bm7b5 B...\n",
              "\n",
              "[5 rows x 8 columns]"
            ]
          },
          "metadata": {},
          "execution_count": 19
        }
      ]
    },
    {
      "cell_type": "markdown",
      "metadata": {
        "id": "OsPcEFbg8gu6"
      },
      "source": [
        "### Meta Data"
      ]
    },
    {
      "cell_type": "code",
      "metadata": {
        "colab": {
          "base_uri": "https://localhost:8080/",
          "height": 206
        },
        "id": "_62YlEVJXOCL",
        "outputId": "3e89feb5-2a7a-4f65-ce6e-888b8dd2e852"
      },
      "source": [
        "titles = df.loc[:, ['id', 'tune_id', 'section_id', 'section_name', 'title', 'tune_mode']]\n",
        "titles[:5]"
      ],
      "execution_count": 20,
      "outputs": [
        {
          "output_type": "execute_result",
          "data": {
            "text/html": [
              "<div>\n",
              "<style scoped>\n",
              "    .dataframe tbody tr th:only-of-type {\n",
              "        vertical-align: middle;\n",
              "    }\n",
              "\n",
              "    .dataframe tbody tr th {\n",
              "        vertical-align: top;\n",
              "    }\n",
              "\n",
              "    .dataframe thead th {\n",
              "        text-align: right;\n",
              "    }\n",
              "</style>\n",
              "<table border=\"1\" class=\"dataframe\">\n",
              "  <thead>\n",
              "    <tr style=\"text-align: right;\">\n",
              "      <th></th>\n",
              "      <th>id</th>\n",
              "      <th>tune_id</th>\n",
              "      <th>section_id</th>\n",
              "      <th>section_name</th>\n",
              "      <th>title</th>\n",
              "      <th>tune_mode</th>\n",
              "    </tr>\n",
              "  </thead>\n",
              "  <tbody>\n",
              "    <tr>\n",
              "      <th>0</th>\n",
              "      <td>0</td>\n",
              "      <td>0</td>\n",
              "      <td>1</td>\n",
              "      <td>A</td>\n",
              "      <td>26-2</td>\n",
              "      <td>major</td>\n",
              "    </tr>\n",
              "    <tr>\n",
              "      <th>1</th>\n",
              "      <td>1</td>\n",
              "      <td>0</td>\n",
              "      <td>2</td>\n",
              "      <td>A</td>\n",
              "      <td>26-2</td>\n",
              "      <td>major</td>\n",
              "    </tr>\n",
              "    <tr>\n",
              "      <th>2</th>\n",
              "      <td>2</td>\n",
              "      <td>0</td>\n",
              "      <td>3</td>\n",
              "      <td>B</td>\n",
              "      <td>26-2</td>\n",
              "      <td>major</td>\n",
              "    </tr>\n",
              "    <tr>\n",
              "      <th>3</th>\n",
              "      <td>3</td>\n",
              "      <td>0</td>\n",
              "      <td>4</td>\n",
              "      <td>A</td>\n",
              "      <td>26-2</td>\n",
              "      <td>major</td>\n",
              "    </tr>\n",
              "    <tr>\n",
              "      <th>4</th>\n",
              "      <td>4</td>\n",
              "      <td>1</td>\n",
              "      <td>0</td>\n",
              "      <td>NaN</td>\n",
              "      <td>500 Miles High</td>\n",
              "      <td>minor</td>\n",
              "    </tr>\n",
              "  </tbody>\n",
              "</table>\n",
              "</div>"
            ],
            "text/plain": [
              "   id  tune_id  section_id section_name           title tune_mode\n",
              "0   0        0           1            A            26-2     major\n",
              "1   1        0           2            A            26-2     major\n",
              "2   2        0           3            B            26-2     major\n",
              "3   3        0           4            A            26-2     major\n",
              "4   4        1           0          NaN  500 Miles High     minor"
            ]
          },
          "metadata": {},
          "execution_count": 20
        }
      ]
    },
    {
      "cell_type": "code",
      "metadata": {
        "id": "0vEOjvwt8jUu"
      },
      "source": [
        "titles_dict = titles.to_dict()\n",
        "\n",
        "sectionid_to_title = titles_dict['title']\n",
        "sectionid_to_titleid = titles_dict['tune_id']\n"
      ],
      "execution_count": 21,
      "outputs": []
    },
    {
      "cell_type": "code",
      "metadata": {
        "id": "Om7pbfnNGO_I"
      },
      "source": [
        "tunes = df.loc[:, ['tune_id', 'title']].drop_duplicates()\n",
        "tunes = tunes.set_index('tune_id').to_dict()\n",
        "titleid_to_title = tunes['title']"
      ],
      "execution_count": 22,
      "outputs": []
    },
    {
      "cell_type": "code",
      "metadata": {
        "id": "1H72Y3_d8uNu"
      },
      "source": [
        "titles_rows = titles.to_dict(orient='records')\n",
        "sectionid_to_section = []\n",
        "for i, row in enumerate(titles_rows):\n",
        "  name = f\"{row['title']}, section{row['section_id']} ({row['section_name']})\"\n",
        "  sectionid_to_section.append(name)\n",
        "  "
      ],
      "execution_count": 23,
      "outputs": []
    },
    {
      "cell_type": "code",
      "metadata": {
        "id": "HCeGUk818y8V"
      },
      "source": [
        "title_to_sectionid = {}\n",
        "\n",
        "for row in titles.iterrows():\n",
        "  title = row[1]['title']\n",
        "  if title not in title_to_sectionid:\n",
        "    title_to_sectionid[title] = [row[1]['id']]\n",
        "  else:\n",
        "    title_to_sectionid[title].append(row[1]['id'])"
      ],
      "execution_count": 24,
      "outputs": []
    },
    {
      "cell_type": "markdown",
      "metadata": {
        "id": "tHWe1mKVrF8O"
      },
      "source": [
        "### Test Data"
      ]
    },
    {
      "cell_type": "code",
      "metadata": {
        "id": "V0Bg0wJ7sBBk"
      },
      "source": [
        "tunes_eval_list = sorted(tunes_eval_list)"
      ],
      "execution_count": 25,
      "outputs": []
    },
    {
      "cell_type": "code",
      "metadata": {
        "id": "UE0AGDO_rFVo"
      },
      "source": [
        "#contrafacts_test = []\n",
        "#for reference, compare in contrafacts.items():\n",
        "#  contrafacts_test.append([title_to_sectionid[reference], title_to_sectionid[compare]])"
      ],
      "execution_count": 26,
      "outputs": []
    },
    {
      "cell_type": "markdown",
      "metadata": {
        "id": "LvQ60s_owm82"
      },
      "source": [
        "## Initialization for wandb variables"
      ]
    },
    {
      "cell_type": "code",
      "metadata": {
        "id": "fw7FHHXfwagL"
      },
      "source": [
        "recommender_results_cols = ['reference', 'id', 'method', 'similar', 'score_div_max', 'score']\n",
        "recommender_results = pd.DataFrame(columns=recommender_results_cols)"
      ],
      "execution_count": 27,
      "outputs": []
    },
    {
      "cell_type": "code",
      "metadata": {
        "id": "PfvF20G1JZMa"
      },
      "source": [
        "lsi_config = {\n",
        "    'num_topics': 200,\n",
        "}"
      ],
      "execution_count": 28,
      "outputs": []
    },
    {
      "cell_type": "code",
      "metadata": {
        "id": "eW2f6BdAJl01"
      },
      "source": [
        "doc2vec_config = {\n",
        "    'general': {\n",
        "        'chords_preprocessing': chords_preprocessing,\n",
        "        'chords_repeated': chords_repeated,\n",
        "        'document_tags': 'SectionsTunes',\n",
        "    },\n",
        "    'model': {\n",
        "        'dm': 1,\n",
        "        'vector_size': 100,\n",
        "        'window': 4,\n",
        "        'epochs': 40,\n",
        "        #'workers': 1,\n",
        "        'min_count': 1,\n",
        "        'negative': 10,\n",
        "        'sample': 0.001,\n",
        "        'seed': 42\n",
        "    }\n",
        "}"
      ],
      "execution_count": 29,
      "outputs": []
    },
    {
      "cell_type": "code",
      "metadata": {
        "id": "sxdJ97gdx70_",
        "colab": {
          "base_uri": "https://localhost:8080/",
          "height": 53
        },
        "outputId": "b11c792d-1512-44ca-8f3e-ab1cd6b05579"
      },
      "source": [
        "if use_wandb:\n",
        "  wandb.init(\n",
        "        # Set entity to specify your username or team name\n",
        "        # ex: entity=\"carey\",\n",
        "        # Set the project where this run will be logged\n",
        "        project=\"jazztunes\", \n",
        "        \n",
        "        # Track hyperparameters and run metadata\n",
        "        config={\n",
        "            \"input_data\": input_path,\n",
        "            \"ngrams_input\": ngrams_for_input,\n",
        "            \"comparison\": \"sections\",\n",
        "            \"lsi\": lsi_config,\n",
        "            \"doc2vec\": doc2vec_config\n",
        "        }\n",
        "    )"
      ],
      "execution_count": 30,
      "outputs": [
        {
          "output_type": "stream",
          "name": "stderr",
          "text": [
            "\u001b[34m\u001b[1mwandb\u001b[0m: Currently logged in as: \u001b[33mdoris\u001b[0m (use `wandb login --relogin` to force relogin)\n"
          ]
        },
        {
          "output_type": "display_data",
          "data": {
            "text/html": [
              "\n",
              "                    Syncing run <strong><a href=\"https://wandb.ai/doris/jazztunes/runs/m3i8cpaw\" target=\"_blank\">visionary-sun-9</a></strong> to <a href=\"https://wandb.ai/doris/jazztunes\" target=\"_blank\">Weights & Biases</a> (<a href=\"https://docs.wandb.com/integrations/jupyter.html\" target=\"_blank\">docs</a>).<br/>\n",
              "\n",
              "                "
            ],
            "text/plain": [
              "<IPython.core.display.HTML object>"
            ]
          },
          "metadata": {}
        }
      ]
    },
    {
      "cell_type": "code",
      "metadata": {
        "id": "xHOY4TKYVN-g"
      },
      "source": [
        "if use_wandb:\n",
        "  artifact = wandb.Artifact('input_data', type='dataset')\n",
        "  artifact.add_file('data.csv')\n",
        "  wandb.log_artifact(artifact)"
      ],
      "execution_count": 31,
      "outputs": []
    },
    {
      "cell_type": "markdown",
      "metadata": {
        "id": "wox-dMcz84Bt"
      },
      "source": [
        "## Helpers functions"
      ]
    },
    {
      "cell_type": "code",
      "metadata": {
        "id": "2964REdr80Gd"
      },
      "source": [
        "def ngrams(tokens, n=2, sep='-'):\n",
        "    return [sep.join(ngram) for ngram in zip(*[tokens[i:] for i in range(n)])]"
      ],
      "execution_count": 32,
      "outputs": []
    },
    {
      "cell_type": "code",
      "metadata": {
        "id": "W42rugQPNYVP"
      },
      "source": [
        "def raw_chords_to_df(tunes):\n",
        "  tunes_chords = [item for tune in tunes for item in tune]\n",
        "  counts = Counter(tunes_chords)\n",
        "  df = pd.DataFrame(counts.items(),\n",
        "                    columns=['chord', 'count']).sort_values(by='count', ascending=False)\n",
        "\n",
        "  return df"
      ],
      "execution_count": 33,
      "outputs": []
    },
    {
      "cell_type": "markdown",
      "metadata": {
        "id": "umfsNtAdF0jM"
      },
      "source": [
        "# Data Preparation"
      ]
    },
    {
      "cell_type": "code",
      "metadata": {
        "id": "dCLwnqoVGcMw"
      },
      "source": [
        "lines = df.loc[:, 'chords'].tolist()\n",
        "data = [line.split(' ') for line in lines]"
      ],
      "execution_count": 34,
      "outputs": []
    },
    {
      "cell_type": "code",
      "metadata": {
        "colab": {
          "base_uri": "https://localhost:8080/"
        },
        "id": "g7SmApW9F3K6",
        "outputId": "42a96896-7803-4bd4-e4b7-aa4d5918660d"
      },
      "source": [
        "processed_corpus = []\n",
        "for line in data:\n",
        "  tune_n = []\n",
        "  for n in ngrams_for_input:\n",
        "    tune_n.extend(ngrams(line, n=n))\n",
        "  processed_corpus.append(tune_n)\n",
        "\n",
        "for line in processed_corpus[:5]:\n",
        "  print(line)"
      ],
      "execution_count": 35,
      "outputs": [
        {
          "output_type": "stream",
          "name": "stdout",
          "text": [
            "['C', 'Eb7', 'G#', 'B7', 'E', 'G7', 'Gm', 'C7', 'F', 'G#7', 'C#', 'E7', 'Am', 'D7', 'Dm', 'G7']\n",
            "['C', 'Eb7', 'G#', 'B7', 'E', 'G7', 'Gm', 'C7', 'F', 'Eb7', 'G#', 'B7', 'E', 'G7', 'C']\n",
            "['Gm', 'C7', 'Bm', 'E7', 'A', 'C7', 'F', 'Bbm', 'Eb7', 'G#', 'Dm', 'G7']\n",
            "['C', 'Eb7', 'G#', 'B7', 'E', 'G7', 'Gm', 'C7', 'F', 'Eb7', 'G#', 'B7', 'E', 'G7', 'C']\n",
            "['Am', 'Am', 'Cm', 'Cm', 'Eb', 'Eb', 'Em7b5', 'A7', 'Dm', 'Dm', 'Bm7b5', 'Bm7b5', 'Bbm', 'Bbm', 'Fm', 'Fm', 'E7', 'E7', 'Fm', 'Fm', 'C#', 'C#', 'Fm', 'Fm', 'C#', 'C#']\n"
          ]
        }
      ]
    },
    {
      "cell_type": "markdown",
      "metadata": {
        "id": "Sri0K2DhNagp"
      },
      "source": [
        "#### Corpus Overview"
      ]
    },
    {
      "cell_type": "code",
      "metadata": {
        "colab": {
          "base_uri": "https://localhost:8080/"
        },
        "id": "X2ZqA7IF4ufg",
        "outputId": "cf352f3e-b49b-4161-b876-9a5519fea0ce"
      },
      "source": [
        "tokens = [item for l in processed_corpus for item in l]\n",
        "total_tokens = len(tokens)\n",
        "vocab_size = len(set(tokens))\n",
        "vocab_prop = 100*vocab_size/total_tokens\n",
        "\n",
        "print(f\"Total Number of tokens: {total_tokens}\")\n",
        "print(f\"Size of vocabulary: {vocab_size}\")\n",
        "print(f\"Proportion of vocabulary in corpus: {vocab_prop:.02f}%\")"
      ],
      "execution_count": 36,
      "outputs": [
        {
          "output_type": "stream",
          "name": "stdout",
          "text": [
            "Total Number of tokens: 82622\n",
            "Size of vocabulary: 72\n",
            "Proportion of vocabulary in corpus: 0.09%\n"
          ]
        }
      ]
    },
    {
      "cell_type": "code",
      "metadata": {
        "colab": {
          "base_uri": "https://localhost:8080/",
          "height": 424
        },
        "id": "rULq3jYVNh_x",
        "outputId": "cea334d9-c604-4883-9c64-c7cfe891a7c7"
      },
      "source": [
        "df_chords = raw_chords_to_df(processed_corpus)\n",
        "df_chords"
      ],
      "execution_count": 37,
      "outputs": [
        {
          "output_type": "execute_result",
          "data": {
            "text/html": [
              "<div>\n",
              "<style scoped>\n",
              "    .dataframe tbody tr th:only-of-type {\n",
              "        vertical-align: middle;\n",
              "    }\n",
              "\n",
              "    .dataframe tbody tr th {\n",
              "        vertical-align: top;\n",
              "    }\n",
              "\n",
              "    .dataframe thead th {\n",
              "        text-align: right;\n",
              "    }\n",
              "</style>\n",
              "<table border=\"1\" class=\"dataframe\">\n",
              "  <thead>\n",
              "    <tr style=\"text-align: right;\">\n",
              "      <th></th>\n",
              "      <th>chord</th>\n",
              "      <th>count</th>\n",
              "    </tr>\n",
              "  </thead>\n",
              "  <tbody>\n",
              "    <tr>\n",
              "      <th>0</th>\n",
              "      <td>C</td>\n",
              "      <td>14387</td>\n",
              "    </tr>\n",
              "    <tr>\n",
              "      <th>5</th>\n",
              "      <td>G7</td>\n",
              "      <td>11144</td>\n",
              "    </tr>\n",
              "    <tr>\n",
              "      <th>14</th>\n",
              "      <td>Dm</td>\n",
              "      <td>7991</td>\n",
              "    </tr>\n",
              "    <tr>\n",
              "      <th>12</th>\n",
              "      <td>Am</td>\n",
              "      <td>5724</td>\n",
              "    </tr>\n",
              "    <tr>\n",
              "      <th>21</th>\n",
              "      <td>A7</td>\n",
              "      <td>4467</td>\n",
              "    </tr>\n",
              "    <tr>\n",
              "      <th>...</th>\n",
              "      <td>...</td>\n",
              "      <td>...</td>\n",
              "    </tr>\n",
              "    <tr>\n",
              "      <th>62</th>\n",
              "      <td>Ddim</td>\n",
              "      <td>13</td>\n",
              "    </tr>\n",
              "    <tr>\n",
              "      <th>70</th>\n",
              "      <td>G#7(+b5)</td>\n",
              "      <td>12</td>\n",
              "    </tr>\n",
              "    <tr>\n",
              "      <th>65</th>\n",
              "      <td>F7(+b5)</td>\n",
              "      <td>9</td>\n",
              "    </tr>\n",
              "    <tr>\n",
              "      <th>69</th>\n",
              "      <td>Cm7b5</td>\n",
              "      <td>9</td>\n",
              "    </tr>\n",
              "    <tr>\n",
              "      <th>71</th>\n",
              "      <td>Eb7(+b5)</td>\n",
              "      <td>6</td>\n",
              "    </tr>\n",
              "  </tbody>\n",
              "</table>\n",
              "<p>72 rows × 2 columns</p>\n",
              "</div>"
            ],
            "text/plain": [
              "       chord  count\n",
              "0          C  14387\n",
              "5         G7  11144\n",
              "14        Dm   7991\n",
              "12        Am   5724\n",
              "21        A7   4467\n",
              "..       ...    ...\n",
              "62      Ddim     13\n",
              "70  G#7(+b5)     12\n",
              "65   F7(+b5)      9\n",
              "69     Cm7b5      9\n",
              "71  Eb7(+b5)      6\n",
              "\n",
              "[72 rows x 2 columns]"
            ]
          },
          "metadata": {},
          "execution_count": 37
        }
      ]
    },
    {
      "cell_type": "code",
      "metadata": {
        "colab": {
          "base_uri": "https://localhost:8080/",
          "height": 560
        },
        "id": "G9fknTouNmKm",
        "outputId": "065d1b6c-570c-41d5-ce51-2f9791ddeeed"
      },
      "source": [
        "df_chords = pd.DataFrame.from_dict(df_chords)\n",
        "df_chords.sort_values(by=['count'], ascending=False, inplace=True)\n",
        "df_chords_top = df_chords.query('count > 100')\n",
        "\n",
        "fig = px.bar(df_chords_top, x='chord', y='count', log_y=True)\n",
        "fig.update_layout(barmode='stack', xaxis={'categoryorder':'total descending'})\n",
        "fig.show()"
      ],
      "execution_count": 38,
      "outputs": [
        {
          "output_type": "stream",
          "name": "stderr",
          "text": [
            "2021-11-25 11:10:48,268 : INFO : NumExpr defaulting to 2 threads.\n"
          ]
        },
        {
          "output_type": "display_data",
          "data": {
            "text/html": [
              "<html>\n",
              "<head><meta charset=\"utf-8\" /></head>\n",
              "<body>\n",
              "    <div>\n",
              "            <script src=\"https://cdnjs.cloudflare.com/ajax/libs/mathjax/2.7.5/MathJax.js?config=TeX-AMS-MML_SVG\"></script><script type=\"text/javascript\">if (window.MathJax) {MathJax.Hub.Config({SVG: {font: \"STIX-Web\"}});}</script>\n",
              "                <script type=\"text/javascript\">window.PlotlyConfig = {MathJaxConfig: 'local'};</script>\n",
              "        <script src=\"https://cdn.plot.ly/plotly-latest.min.js\"></script>    \n",
              "            <div id=\"b9a0c3a2-ef60-405e-9d04-b4dca8ab450e\" class=\"plotly-graph-div\" style=\"height:525px; width:100%;\"></div>\n",
              "            <script type=\"text/javascript\">\n",
              "                \n",
              "                    window.PLOTLYENV=window.PLOTLYENV || {};\n",
              "                    \n",
              "                if (document.getElementById(\"b9a0c3a2-ef60-405e-9d04-b4dca8ab450e\")) {\n",
              "                    Plotly.newPlot(\n",
              "                        'b9a0c3a2-ef60-405e-9d04-b4dca8ab450e',\n",
              "                        [{\"alignmentgroup\": \"True\", \"hoverlabel\": {\"namelength\": 0}, \"hovertemplate\": \"chord=%{x}<br>count=%{y}\", \"legendgroup\": \"\", \"marker\": {\"color\": \"#636efa\"}, \"name\": \"\", \"offsetgroup\": \"\", \"orientation\": \"v\", \"showlegend\": false, \"textposition\": \"auto\", \"type\": \"bar\", \"x\": [\"C\", \"G7\", \"Dm\", \"Am\", \"A7\", \"D7\", \"F\", \"C7\", \"E7\", \"Em\", \"F7\", \"Bb7\", \"Fm\", \"B7\", \"Gm\", \"G#7\", \"Bm7b5\", \"G\", \"Ebdim\", \"Eb7\", \"Cm\", \"F#m7b5\", \"G#\", \"Bm\", \"C#7\", \"Bb\", \"Em7b5\", \"E\", \"F#m\", \"F#7\", \"Eb\", \"F#dim\", \"C#dim\", \"Ebm\", \"C#\", \"A\", \"Dm7b5\", \"Bbm\", \"D\", \"C#m\", \"Cdim\", \"B\", \"G#m\", \"F#\"], \"xaxis\": \"x\", \"y\": [14387, 11144, 7991, 5724, 4467, 3986, 3746, 3428, 3175, 2710, 1722, 1639, 1625, 1408, 1283, 975, 922, 890, 697, 622, 606, 554, 519, 511, 498, 494, 480, 474, 453, 443, 407, 406, 388, 365, 342, 329, 316, 305, 293, 266, 214, 173, 159, 144], \"yaxis\": \"y\"}],\n",
              "                        {\"barmode\": \"stack\", \"legend\": {\"tracegroupgap\": 0}, \"margin\": {\"t\": 60}, \"template\": {\"data\": {\"bar\": [{\"error_x\": {\"color\": \"#2a3f5f\"}, \"error_y\": {\"color\": \"#2a3f5f\"}, \"marker\": {\"line\": {\"color\": \"#E5ECF6\", \"width\": 0.5}}, \"type\": \"bar\"}], \"barpolar\": [{\"marker\": {\"line\": {\"color\": \"#E5ECF6\", \"width\": 0.5}}, \"type\": \"barpolar\"}], \"carpet\": [{\"aaxis\": {\"endlinecolor\": \"#2a3f5f\", \"gridcolor\": \"white\", \"linecolor\": \"white\", \"minorgridcolor\": \"white\", \"startlinecolor\": \"#2a3f5f\"}, \"baxis\": {\"endlinecolor\": \"#2a3f5f\", \"gridcolor\": \"white\", \"linecolor\": \"white\", \"minorgridcolor\": \"white\", \"startlinecolor\": \"#2a3f5f\"}, \"type\": \"carpet\"}], \"choropleth\": [{\"colorbar\": {\"outlinewidth\": 0, \"ticks\": \"\"}, \"type\": \"choropleth\"}], \"contour\": [{\"colorbar\": {\"outlinewidth\": 0, \"ticks\": \"\"}, \"colorscale\": [[0.0, \"#0d0887\"], [0.1111111111111111, \"#46039f\"], [0.2222222222222222, \"#7201a8\"], [0.3333333333333333, \"#9c179e\"], [0.4444444444444444, \"#bd3786\"], [0.5555555555555556, \"#d8576b\"], [0.6666666666666666, \"#ed7953\"], [0.7777777777777778, \"#fb9f3a\"], [0.8888888888888888, \"#fdca26\"], [1.0, \"#f0f921\"]], \"type\": \"contour\"}], \"contourcarpet\": [{\"colorbar\": {\"outlinewidth\": 0, \"ticks\": \"\"}, \"type\": \"contourcarpet\"}], \"heatmap\": [{\"colorbar\": {\"outlinewidth\": 0, \"ticks\": \"\"}, \"colorscale\": [[0.0, \"#0d0887\"], [0.1111111111111111, \"#46039f\"], [0.2222222222222222, \"#7201a8\"], [0.3333333333333333, \"#9c179e\"], [0.4444444444444444, \"#bd3786\"], [0.5555555555555556, \"#d8576b\"], [0.6666666666666666, \"#ed7953\"], [0.7777777777777778, \"#fb9f3a\"], [0.8888888888888888, \"#fdca26\"], [1.0, \"#f0f921\"]], \"type\": \"heatmap\"}], \"heatmapgl\": [{\"colorbar\": {\"outlinewidth\": 0, \"ticks\": \"\"}, \"colorscale\": [[0.0, \"#0d0887\"], [0.1111111111111111, \"#46039f\"], [0.2222222222222222, \"#7201a8\"], [0.3333333333333333, \"#9c179e\"], [0.4444444444444444, \"#bd3786\"], [0.5555555555555556, \"#d8576b\"], [0.6666666666666666, \"#ed7953\"], [0.7777777777777778, \"#fb9f3a\"], [0.8888888888888888, \"#fdca26\"], [1.0, \"#f0f921\"]], \"type\": \"heatmapgl\"}], \"histogram\": [{\"marker\": {\"colorbar\": {\"outlinewidth\": 0, \"ticks\": \"\"}}, \"type\": \"histogram\"}], \"histogram2d\": [{\"colorbar\": {\"outlinewidth\": 0, \"ticks\": \"\"}, \"colorscale\": [[0.0, \"#0d0887\"], [0.1111111111111111, \"#46039f\"], [0.2222222222222222, \"#7201a8\"], [0.3333333333333333, \"#9c179e\"], [0.4444444444444444, \"#bd3786\"], [0.5555555555555556, \"#d8576b\"], [0.6666666666666666, \"#ed7953\"], [0.7777777777777778, \"#fb9f3a\"], [0.8888888888888888, \"#fdca26\"], [1.0, \"#f0f921\"]], \"type\": \"histogram2d\"}], \"histogram2dcontour\": [{\"colorbar\": {\"outlinewidth\": 0, \"ticks\": \"\"}, \"colorscale\": [[0.0, \"#0d0887\"], [0.1111111111111111, \"#46039f\"], [0.2222222222222222, \"#7201a8\"], [0.3333333333333333, \"#9c179e\"], [0.4444444444444444, \"#bd3786\"], [0.5555555555555556, \"#d8576b\"], [0.6666666666666666, \"#ed7953\"], [0.7777777777777778, \"#fb9f3a\"], [0.8888888888888888, \"#fdca26\"], [1.0, \"#f0f921\"]], \"type\": \"histogram2dcontour\"}], \"mesh3d\": [{\"colorbar\": {\"outlinewidth\": 0, \"ticks\": \"\"}, \"type\": \"mesh3d\"}], \"parcoords\": [{\"line\": {\"colorbar\": {\"outlinewidth\": 0, \"ticks\": \"\"}}, \"type\": \"parcoords\"}], \"pie\": [{\"automargin\": true, \"type\": \"pie\"}], \"scatter\": [{\"marker\": {\"colorbar\": {\"outlinewidth\": 0, \"ticks\": \"\"}}, \"type\": \"scatter\"}], \"scatter3d\": [{\"line\": {\"colorbar\": {\"outlinewidth\": 0, \"ticks\": \"\"}}, \"marker\": {\"colorbar\": {\"outlinewidth\": 0, \"ticks\": \"\"}}, \"type\": \"scatter3d\"}], \"scattercarpet\": [{\"marker\": {\"colorbar\": {\"outlinewidth\": 0, \"ticks\": \"\"}}, \"type\": \"scattercarpet\"}], \"scattergeo\": [{\"marker\": {\"colorbar\": {\"outlinewidth\": 0, \"ticks\": \"\"}}, \"type\": \"scattergeo\"}], \"scattergl\": [{\"marker\": {\"colorbar\": {\"outlinewidth\": 0, \"ticks\": \"\"}}, \"type\": \"scattergl\"}], \"scattermapbox\": [{\"marker\": {\"colorbar\": {\"outlinewidth\": 0, \"ticks\": \"\"}}, \"type\": \"scattermapbox\"}], \"scatterpolar\": [{\"marker\": {\"colorbar\": {\"outlinewidth\": 0, \"ticks\": \"\"}}, \"type\": \"scatterpolar\"}], \"scatterpolargl\": [{\"marker\": {\"colorbar\": {\"outlinewidth\": 0, \"ticks\": \"\"}}, \"type\": \"scatterpolargl\"}], \"scatterternary\": [{\"marker\": {\"colorbar\": {\"outlinewidth\": 0, \"ticks\": \"\"}}, \"type\": \"scatterternary\"}], \"surface\": [{\"colorbar\": {\"outlinewidth\": 0, \"ticks\": \"\"}, \"colorscale\": [[0.0, \"#0d0887\"], [0.1111111111111111, \"#46039f\"], [0.2222222222222222, \"#7201a8\"], [0.3333333333333333, \"#9c179e\"], [0.4444444444444444, \"#bd3786\"], [0.5555555555555556, \"#d8576b\"], [0.6666666666666666, \"#ed7953\"], [0.7777777777777778, \"#fb9f3a\"], [0.8888888888888888, \"#fdca26\"], [1.0, \"#f0f921\"]], \"type\": \"surface\"}], \"table\": [{\"cells\": {\"fill\": {\"color\": \"#EBF0F8\"}, \"line\": {\"color\": \"white\"}}, \"header\": {\"fill\": {\"color\": \"#C8D4E3\"}, \"line\": {\"color\": \"white\"}}, \"type\": \"table\"}]}, \"layout\": {\"annotationdefaults\": {\"arrowcolor\": \"#2a3f5f\", \"arrowhead\": 0, \"arrowwidth\": 1}, \"coloraxis\": {\"colorbar\": {\"outlinewidth\": 0, \"ticks\": \"\"}}, \"colorscale\": {\"diverging\": [[0, \"#8e0152\"], [0.1, \"#c51b7d\"], [0.2, \"#de77ae\"], [0.3, \"#f1b6da\"], [0.4, \"#fde0ef\"], [0.5, \"#f7f7f7\"], [0.6, \"#e6f5d0\"], [0.7, \"#b8e186\"], [0.8, \"#7fbc41\"], [0.9, \"#4d9221\"], [1, \"#276419\"]], \"sequential\": [[0.0, \"#0d0887\"], [0.1111111111111111, \"#46039f\"], [0.2222222222222222, \"#7201a8\"], [0.3333333333333333, \"#9c179e\"], [0.4444444444444444, \"#bd3786\"], [0.5555555555555556, \"#d8576b\"], [0.6666666666666666, \"#ed7953\"], [0.7777777777777778, \"#fb9f3a\"], [0.8888888888888888, \"#fdca26\"], [1.0, \"#f0f921\"]], \"sequentialminus\": [[0.0, \"#0d0887\"], [0.1111111111111111, \"#46039f\"], [0.2222222222222222, \"#7201a8\"], [0.3333333333333333, \"#9c179e\"], [0.4444444444444444, \"#bd3786\"], [0.5555555555555556, \"#d8576b\"], [0.6666666666666666, \"#ed7953\"], [0.7777777777777778, \"#fb9f3a\"], [0.8888888888888888, \"#fdca26\"], [1.0, \"#f0f921\"]]}, \"colorway\": [\"#636efa\", \"#EF553B\", \"#00cc96\", \"#ab63fa\", \"#FFA15A\", \"#19d3f3\", \"#FF6692\", \"#B6E880\", \"#FF97FF\", \"#FECB52\"], \"font\": {\"color\": \"#2a3f5f\"}, \"geo\": {\"bgcolor\": \"white\", \"lakecolor\": \"white\", \"landcolor\": \"#E5ECF6\", \"showlakes\": true, \"showland\": true, \"subunitcolor\": \"white\"}, \"hoverlabel\": {\"align\": \"left\"}, \"hovermode\": \"closest\", \"mapbox\": {\"style\": \"light\"}, \"paper_bgcolor\": \"white\", \"plot_bgcolor\": \"#E5ECF6\", \"polar\": {\"angularaxis\": {\"gridcolor\": \"white\", \"linecolor\": \"white\", \"ticks\": \"\"}, \"bgcolor\": \"#E5ECF6\", \"radialaxis\": {\"gridcolor\": \"white\", \"linecolor\": \"white\", \"ticks\": \"\"}}, \"scene\": {\"xaxis\": {\"backgroundcolor\": \"#E5ECF6\", \"gridcolor\": \"white\", \"gridwidth\": 2, \"linecolor\": \"white\", \"showbackground\": true, \"ticks\": \"\", \"zerolinecolor\": \"white\"}, \"yaxis\": {\"backgroundcolor\": \"#E5ECF6\", \"gridcolor\": \"white\", \"gridwidth\": 2, \"linecolor\": \"white\", \"showbackground\": true, \"ticks\": \"\", \"zerolinecolor\": \"white\"}, \"zaxis\": {\"backgroundcolor\": \"#E5ECF6\", \"gridcolor\": \"white\", \"gridwidth\": 2, \"linecolor\": \"white\", \"showbackground\": true, \"ticks\": \"\", \"zerolinecolor\": \"white\"}}, \"shapedefaults\": {\"line\": {\"color\": \"#2a3f5f\"}}, \"ternary\": {\"aaxis\": {\"gridcolor\": \"white\", \"linecolor\": \"white\", \"ticks\": \"\"}, \"baxis\": {\"gridcolor\": \"white\", \"linecolor\": \"white\", \"ticks\": \"\"}, \"bgcolor\": \"#E5ECF6\", \"caxis\": {\"gridcolor\": \"white\", \"linecolor\": \"white\", \"ticks\": \"\"}}, \"title\": {\"x\": 0.05}, \"xaxis\": {\"automargin\": true, \"gridcolor\": \"white\", \"linecolor\": \"white\", \"ticks\": \"\", \"title\": {\"standoff\": 15}, \"zerolinecolor\": \"white\", \"zerolinewidth\": 2}, \"yaxis\": {\"automargin\": true, \"gridcolor\": \"white\", \"linecolor\": \"white\", \"ticks\": \"\", \"title\": {\"standoff\": 15}, \"zerolinecolor\": \"white\", \"zerolinewidth\": 2}}}, \"xaxis\": {\"anchor\": \"y\", \"categoryorder\": \"total descending\", \"domain\": [0.0, 1.0], \"title\": {\"text\": \"chord\"}}, \"yaxis\": {\"anchor\": \"x\", \"domain\": [0.0, 1.0], \"title\": {\"text\": \"count\"}, \"type\": \"log\"}},\n",
              "                        {\"responsive\": true}\n",
              "                    ).then(function(){\n",
              "                            \n",
              "var gd = document.getElementById('b9a0c3a2-ef60-405e-9d04-b4dca8ab450e');\n",
              "var x = new MutationObserver(function (mutations, observer) {{\n",
              "        var display = window.getComputedStyle(gd).display;\n",
              "        if (!display || display === 'none') {{\n",
              "            console.log([gd, 'removed!']);\n",
              "            Plotly.purge(gd);\n",
              "            observer.disconnect();\n",
              "        }}\n",
              "}});\n",
              "\n",
              "// Listen for the removal of the full notebook cells\n",
              "var notebookContainer = gd.closest('#notebook-container');\n",
              "if (notebookContainer) {{\n",
              "    x.observe(notebookContainer, {childList: true});\n",
              "}}\n",
              "\n",
              "// Listen for the clearing of the current output cell\n",
              "var outputEl = gd.closest('.output');\n",
              "if (outputEl) {{\n",
              "    x.observe(outputEl, {childList: true});\n",
              "}}\n",
              "\n",
              "                        })\n",
              "                };\n",
              "                \n",
              "            </script>\n",
              "        </div>\n",
              "</body>\n",
              "</html>"
            ]
          },
          "metadata": {}
        }
      ]
    },
    {
      "cell_type": "markdown",
      "metadata": {
        "id": "cG5dtDpkWwLE"
      },
      "source": [
        "Plot Distribution accoring to Zipf's Law\n",
        "\n",
        "source: https://stats.stackexchange.com/questions/331219/characterizing-fitting-word-count-data-into-zipf-power-law-lognormal"
      ]
    },
    {
      "cell_type": "code",
      "metadata": {
        "id": "tazf9QRST5NP"
      },
      "source": [
        "from collections import Counter\n",
        "\n",
        "counter_of_words = df_chords.set_index('chord').to_dict(orient='dict')\n",
        "counter_of_words = Counter(counter_of_words['count'])\n",
        "counter_of_counts = Counter(counter_of_words.values())\n",
        "\n",
        "word_counts = np.array(list(counter_of_counts.keys()))\n",
        "freq_of_word_counts = np.array(list(counter_of_counts.values()))"
      ],
      "execution_count": 39,
      "outputs": []
    },
    {
      "cell_type": "code",
      "metadata": {
        "colab": {
          "base_uri": "https://localhost:8080/",
          "height": 295
        },
        "id": "Jc80DSe7QlkV",
        "outputId": "09d10d35-0ff3-4636-c4eb-5c8a7773cdc9"
      },
      "source": [
        "plt.scatter(np.log(word_counts), np.log(freq_of_word_counts))\n",
        "plt.xlabel('Log of word frequency')\n",
        "plt.ylabel('Log of number of such words')\n",
        "plt.title('Power law for word frequencies')\n",
        "\n",
        "plt.savefig('plot.png')"
      ],
      "execution_count": 40,
      "outputs": [
        {
          "output_type": "display_data",
          "data": {
            "image/png": "[encoded data removed]",
            "text/plain": [
              "<Figure size 432x288 with 1 Axes>"
            ]
          },
          "metadata": {
            "needs_background": "light"
          }
        }
      ]
    },
    {
      "cell_type": "code",
      "metadata": {
        "colab": {
          "base_uri": "https://localhost:8080/"
        },
        "id": "TRQxnw3XXfit",
        "outputId": "a3002d82-e0fb-4ad5-9a9d-b04d951d30b3"
      },
      "source": [
        "def neg_zipf_likelihood(s):\n",
        "    n = sum(freq_of_word_counts)\n",
        "    # for each word count, find the probability that a random word has such word count\n",
        "    probas = word_counts ** (-s) / np.sum(np.arange(1, n+1) **(-s))\n",
        "    log_likelihood = sum(np.log(probas) * word_counts)\n",
        "    return -log_likelihood\n",
        "\n",
        "from scipy.optimize import minimize_scalar\n",
        "s_best = minimize_scalar(neg_zipf_likelihood, [0.1, 3.0] )\n",
        "print(s_best.x)"
      ],
      "execution_count": 41,
      "outputs": [
        {
          "output_type": "stream",
          "name": "stdout",
          "text": [
            "-399.3962569709492\n"
          ]
        },
        {
          "output_type": "stream",
          "name": "stderr",
          "text": [
            "/usr/local/lib/python3.7/dist-packages/ipykernel_launcher.py:4: RuntimeWarning:\n",
            "\n",
            "overflow encountered in power\n",
            "\n",
            "/usr/local/lib/python3.7/dist-packages/ipykernel_launcher.py:4: RuntimeWarning:\n",
            "\n",
            "invalid value encountered in true_divide\n",
            "\n",
            "/usr/local/lib/python3.7/dist-packages/scipy/optimize/optimize.py:1986: RuntimeWarning:\n",
            "\n",
            "invalid value encountered in double_scalars\n",
            "\n",
            "/usr/local/lib/python3.7/dist-packages/scipy/optimize/optimize.py:1987: RuntimeWarning:\n",
            "\n",
            "invalid value encountered in double_scalars\n",
            "\n",
            "/usr/local/lib/python3.7/dist-packages/ipykernel_launcher.py:5: RuntimeWarning:\n",
            "\n",
            "divide by zero encountered in log\n",
            "\n"
          ]
        }
      ]
    },
    {
      "cell_type": "code",
      "metadata": {
        "id": "a1IvM4wh7zOv"
      },
      "source": [
        "if use_wandb:\n",
        "  wandb.log(\n",
        "      {\"corpus\": {\n",
        "              \"total_tokens\": total_tokens,\n",
        "              \"vocab_size\": vocab_size,\n",
        "              \"vocab_proportion_in_corpus\": vocab_prop,\n",
        "              \"zipf_plot\": wandb.Image('plot.png'),\n",
        "              }\n",
        "      }\n",
        "  )"
      ],
      "execution_count": 42,
      "outputs": []
    },
    {
      "cell_type": "markdown",
      "metadata": {
        "id": "LeRGFeTn89Uc"
      },
      "source": [
        "# TF-IDF"
      ]
    },
    {
      "cell_type": "code",
      "metadata": {
        "colab": {
          "base_uri": "https://localhost:8080/"
        },
        "id": "pBdUdBNr9Gmu",
        "outputId": "fd073d94-99c8-4c70-d1ca-1ab753d2b0cd"
      },
      "source": [
        "dictionary = corpora.Dictionary(processed_corpus)\n",
        "bow_corpus = [dictionary.doc2bow(text) for text in processed_corpus]\n",
        "tfidf = TfidfModel(bow_corpus)"
      ],
      "execution_count": 43,
      "outputs": [
        {
          "output_type": "stream",
          "name": "stderr",
          "text": [
            "2021-11-25 11:10:49,523 : INFO : adding document #0 to Dictionary(0 unique tokens: [])\n",
            "2021-11-25 11:10:49,639 : INFO : built Dictionary(72 unique tokens: ['Am', 'B7', 'C', 'C#', 'C7']...) from 5391 documents (total 82622 corpus positions)\n",
            "2021-11-25 11:10:49,642 : INFO : Dictionary lifecycle event {'msg': \"built Dictionary(72 unique tokens: ['Am', 'B7', 'C', 'C#', 'C7']...) from 5391 documents (total 82622 corpus positions)\", 'datetime': '2021-11-25T11:10:49.642117', 'gensim': '4.1.2', 'python': '3.7.12 (default, Sep 10 2021, 00:21:48) \\n[GCC 7.5.0]', 'platform': 'Linux-5.4.104+-x86_64-with-Ubuntu-18.04-bionic', 'event': 'created'}\n",
            "2021-11-25 11:10:49,698 : INFO : collecting document frequencies\n",
            "2021-11-25 11:10:49,700 : INFO : PROGRESS: processing document #0\n",
            "2021-11-25 11:10:49,715 : INFO : TfidfModel lifecycle event {'msg': 'calculated IDF weights for 5391 documents and 72 features (41238 matrix non-zeros)', 'datetime': '2021-11-25T11:10:49.715124', 'gensim': '4.1.2', 'python': '3.7.12 (default, Sep 10 2021, 00:21:48) \\n[GCC 7.5.0]', 'platform': 'Linux-5.4.104+-x86_64-with-Ubuntu-18.04-bionic', 'event': 'initialize'}\n"
          ]
        }
      ]
    },
    {
      "cell_type": "code",
      "metadata": {
        "id": "9NK-cuax9Kqk"
      },
      "source": [
        "# dictionary.token2id"
      ],
      "execution_count": 44,
      "outputs": []
    },
    {
      "cell_type": "code",
      "metadata": {
        "id": "til5xlce_y1m"
      },
      "source": [
        "!rm -R index\n",
        "!mkdir index"
      ],
      "execution_count": 45,
      "outputs": []
    },
    {
      "cell_type": "code",
      "metadata": {
        "colab": {
          "base_uri": "https://localhost:8080/"
        },
        "id": "tn_fz2M090IM",
        "outputId": "326947c8-7218-41a0-8805-df12794bf172"
      },
      "source": [
        "# Note: SparseMatrixSimilarity crashes due to lacking memory\n",
        "#from gensim.test.utils import get_tmpfile\n",
        "#index_tmpfile = get_tmpfile(\"index\")\n",
        "#index_tfidf = similarities.Similarity('/content/index/index_tfidf', bow_corpus, num_features=len(dictionary))\n",
        "\n",
        "index_tfidf = similarities.SparseMatrixSimilarity(tfidf[bow_corpus], num_features = len(dictionary))"
      ],
      "execution_count": 46,
      "outputs": [
        {
          "output_type": "stream",
          "name": "stderr",
          "text": [
            "2021-11-25 11:10:50,039 : INFO : creating sparse index\n",
            "2021-11-25 11:10:50,041 : INFO : creating sparse matrix from corpus\n",
            "2021-11-25 11:10:50,045 : INFO : PROGRESS: at document #0\n",
            "2021-11-25 11:10:50,632 : INFO : created <5391x72 sparse matrix of type '<class 'numpy.float32'>'\n",
            "\twith 41238 stored elements in Compressed Sparse Row format>\n"
          ]
        }
      ]
    },
    {
      "cell_type": "code",
      "metadata": {
        "colab": {
          "base_uri": "https://localhost:8080/"
        },
        "id": "VRSUXNPTewqv",
        "outputId": "cd43aaa1-d3c5-49b5-ef01-c9cfb5fec940"
      },
      "source": [
        "tfidf.save('/content/index/tfidf.model')  # save model\n",
        "index_tfidf.save('/content/index/tfidf.index') #save index"
      ],
      "execution_count": 47,
      "outputs": [
        {
          "output_type": "stream",
          "name": "stderr",
          "text": [
            "2021-11-25 11:10:50,651 : INFO : TfidfModel lifecycle event {'fname_or_handle': '/content/index/tfidf.model', 'separately': 'None', 'sep_limit': 10485760, 'ignore': frozenset(), 'datetime': '2021-11-25T11:10:50.651599', 'gensim': '4.1.2', 'python': '3.7.12 (default, Sep 10 2021, 00:21:48) \\n[GCC 7.5.0]', 'platform': 'Linux-5.4.104+-x86_64-with-Ubuntu-18.04-bionic', 'event': 'saving'}\n",
            "2021-11-25 11:10:50,655 : INFO : saved /content/index/tfidf.model\n",
            "2021-11-25 11:10:50,658 : INFO : SparseMatrixSimilarity lifecycle event {'fname_or_handle': '/content/index/tfidf.index', 'separately': 'None', 'sep_limit': 10485760, 'ignore': frozenset(), 'datetime': '2021-11-25T11:10:50.658329', 'gensim': '4.1.2', 'python': '3.7.12 (default, Sep 10 2021, 00:21:48) \\n[GCC 7.5.0]', 'platform': 'Linux-5.4.104+-x86_64-with-Ubuntu-18.04-bionic', 'event': 'saving'}\n",
            "2021-11-25 11:10:50,661 : INFO : saved /content/index/tfidf.index\n"
          ]
        }
      ]
    },
    {
      "cell_type": "markdown",
      "metadata": {
        "id": "ZLK0coIu9Tv5"
      },
      "source": [
        "## Tests"
      ]
    },
    {
      "cell_type": "markdown",
      "metadata": {
        "id": "S4RKQCihX02Q"
      },
      "source": [
        "### Single Tunes"
      ]
    },
    {
      "cell_type": "code",
      "metadata": {
        "id": "Fzrj1qxwDpJT"
      },
      "source": [
        "def get_sim_scores(tunes, index, model):\n",
        "\n",
        "    df_sim = pd.DataFrame(columns=['reference_title',\n",
        "                                  'similar_title',\n",
        "                                  'ref_section', \n",
        "                                  'similar_section', \n",
        "                                  'score', \n",
        "                                  ])\n",
        "\n",
        "    for tune in tunes:\n",
        "      print()\n",
        "      print(\"-\"*50)\n",
        "      for s1 in title_to_sectionid[tune]:\n",
        "      \n",
        "          query = processed_corpus[s1]\n",
        "          query_bow = dictionary.doc2bow(query)\n",
        "\n",
        "          # perform a similarity query against the corpus\n",
        "          similarities = index[model[query_bow]]\n",
        "          sims = sorted(enumerate(similarities), key=lambda item: -item[1])\n",
        "          \n",
        "          print(s1, sectionid_to_section[s1])\n",
        "          n = 0\n",
        "          for s2, s2_score in sims:\n",
        "            \n",
        "            # store the top N best results\n",
        "            if n > 40:\n",
        "                break\n",
        "            # don't count self-similarity between sections of the same tune\n",
        "            if s2 not in title_to_sectionid[tune]:\n",
        "                n += 1\n",
        "            \n",
        "                # print(f\"\\t{s2_score:.3f} {sectionid_to_section[s2]}\")\n",
        "\n",
        "                df_sim.loc[len(df_sim)] = [tune,\n",
        "                                sectionid_to_title[s2],\n",
        "                                sectionid_to_section[s1], \n",
        "                                sectionid_to_section[s2], \n",
        "                                s2_score, \n",
        "                                ]\n",
        "    return df_sim"
      ],
      "execution_count": 48,
      "outputs": []
    },
    {
      "cell_type": "code",
      "metadata": {
        "colab": {
          "base_uri": "https://localhost:8080/"
        },
        "id": "5Wz4ZQk_EKZy",
        "outputId": "f7de32fb-81f6-4b0c-e10f-c63c30d59c47"
      },
      "source": [
        "%%time\n",
        "df_sim = get_sim_scores(tunes_eval_list, index_tfidf, tfidf)\n",
        "df_tfidf = df_sim[:]"
      ],
      "execution_count": 49,
      "outputs": [
        {
          "output_type": "stream",
          "name": "stdout",
          "text": [
            "\n",
            "--------------------------------------------------\n",
            "125 After You've Gone, section1 (A)\n",
            "126 After You've Gone, section2 (B)\n",
            "127 After You've Gone, section3 (A)\n",
            "128 After You've Gone, section4 (C)\n",
            "\n",
            "--------------------------------------------------\n",
            "188 All God's Chillun Got Rhythm, section1 (A)\n",
            "189 All God's Chillun Got Rhythm, section2 (B)\n",
            "190 All God's Chillun Got Rhythm, section3 (A)\n",
            "191 All God's Chillun Got Rhythm, section4 (C)\n",
            "\n",
            "--------------------------------------------------\n",
            "198 All Of Me, section1 (A)\n",
            "199 All Of Me, section2 (B)\n",
            "200 All Of Me, section3 (A)\n",
            "201 All Of Me, section4 (C)\n",
            "\n",
            "--------------------------------------------------\n",
            "474 Blood Count, section1 (A)\n",
            "475 Blood Count, section2 (A)\n",
            "476 Blood Count, section3 (B)\n",
            "477 Blood Count, section4 (A)\n",
            "478 Blood Count, section5 (C)\n",
            "\n",
            "--------------------------------------------------\n",
            "496 Blue Moon, section1 (A)\n",
            "497 Blue Moon, section2 (A)\n",
            "498 Blue Moon, section3 (B)\n",
            "499 Blue Moon, section4 (A)\n",
            "\n",
            "--------------------------------------------------\n",
            "626 But Beautiful, section1 (A)\n",
            "627 But Beautiful, section2 (B)\n",
            "628 But Beautiful, section3 (A)\n",
            "629 But Beautiful, section4 (C)\n",
            "\n",
            "--------------------------------------------------\n",
            "653 Bye Bye Blackbird, section1 (A)\n",
            "654 Bye Bye Blackbird, section2 (B)\n",
            "4559 Bye Bye Blackbird, section1 (A)\n",
            "\n",
            "--------------------------------------------------\n",
            "676 Call Me Irresponsible, section1 (A)\n",
            "677 Call Me Irresponsible, section2 (B)\n",
            "678 Call Me Irresponsible, section3 (A)\n",
            "679 Call Me Irresponsible, section4 (B)\n",
            "\n",
            "--------------------------------------------------\n",
            "826 Corcovado, section1 (A)\n",
            "827 Corcovado, section2 (B)\n",
            "828 Corcovado, section3 (A)\n",
            "829 Corcovado, section4 (C)\n",
            "\n",
            "--------------------------------------------------\n",
            "997 Dinah, section1 (A)\n",
            "998 Dinah, section2 (A)\n",
            "999 Dinah, section3 (B)\n",
            "1000 Dinah, section4 (A)\n",
            "\n",
            "--------------------------------------------------\n",
            "1125 East Of The Sun, section1 (A)\n",
            "1126 East Of The Sun, section2 (B)\n",
            "1127 East Of The Sun, section3 (A)\n",
            "1128 East Of The Sun, section4 (C)\n",
            "\n",
            "--------------------------------------------------\n",
            "1287 Footprints, section0 (nan)\n",
            "\n",
            "--------------------------------------------------\n",
            "1379 Giant Steps, section0 (nan)\n",
            "\n",
            "--------------------------------------------------\n",
            "1538 Honeysuckle Rose, section1 (A)\n",
            "1539 Honeysuckle Rose, section2 (A)\n",
            "1540 Honeysuckle Rose, section3 (B)\n",
            "1541 Honeysuckle Rose, section4 (A)\n",
            "4781 Honeysuckle Rose, section1 (A)\n",
            "4782 Honeysuckle Rose, section2 (A)\n",
            "4783 Honeysuckle Rose, section3 (B)\n",
            "4784 Honeysuckle Rose, section4 (A)\n",
            "\n",
            "--------------------------------------------------\n",
            "1647 I Got Rhythm, section1 (A)\n",
            "1648 I Got Rhythm, section2 (A)\n",
            "1649 I Got Rhythm, section3 (B)\n",
            "1650 I Got Rhythm, section4 (A)\n",
            "4809 I Got Rhythm, section1 (A)\n",
            "4810 I Got Rhythm, section2 (A)\n",
            "4811 I Got Rhythm, section3 (B)\n",
            "4812 I Got Rhythm, section4 (A)\n",
            "\n",
            "--------------------------------------------------\n",
            "2670 Misty, section1 (A)\n",
            "2671 Misty, section2 (A)\n",
            "2672 Misty, section3 (B)\n",
            "2673 Misty, section4 (A)\n",
            "\n",
            "--------------------------------------------------\n",
            "2857 Naima, section1 (A)\n",
            "2858 Naima, section2 (A)\n",
            "2859 Naima, section3 (B)\n",
            "2860 Naima, section4 (A)\n",
            "\n",
            "--------------------------------------------------\n",
            "5044 Old Fashioned Love, section0 (nan)\n",
            "\n",
            "--------------------------------------------------\n",
            "3142 Perdido, section1 (A)\n",
            "3143 Perdido, section2 (A)\n",
            "3144 Perdido, section3 (B)\n",
            "3145 Perdido, section4 (A)\n",
            "\n",
            "--------------------------------------------------\n",
            "3276 Rockin' Chair, section1 (A)\n",
            "3277 Rockin' Chair, section2 (B)\n",
            "3278 Rockin' Chair, section3 (A)\n",
            "5110 Rockin' Chair, section1 (A)\n",
            "5111 Rockin' Chair, section2 (B)\n",
            "5112 Rockin' Chair, section3 (A)\n",
            "\n",
            "--------------------------------------------------\n",
            "3578 Sophisticated Lady, section1 (A)\n",
            "3579 Sophisticated Lady, section2 (A)\n",
            "3580 Sophisticated Lady, section3 (B)\n",
            "3581 Sophisticated Lady, section4 (A)\n",
            "\n",
            "--------------------------------------------------\n",
            "3746 Sweet Sue, Just You, section1 (A)\n",
            "3747 Sweet Sue, Just You, section2 (A)\n",
            "3748 Sweet Sue, Just You, section3 (B)\n",
            "3749 Sweet Sue, Just You, section4 (A)\n",
            "\n",
            "--------------------------------------------------\n",
            "3860 These Foolish Things, section1 (A)\n",
            "3861 These Foolish Things, section2 (A)\n",
            "3862 These Foolish Things, section3 (B)\n",
            "3863 These Foolish Things, section4 (A)\n",
            "\n",
            "--------------------------------------------------\n",
            "4146 We'll Be Together Again, section1 (A)\n",
            "4147 We'll Be Together Again, section2 (A)\n",
            "4148 We'll Be Together Again, section3 (B)\n",
            "4149 We'll Be Together Again, section4 (A)\n",
            "CPU times: user 16.9 s, sys: 386 ms, total: 17.3 s\n",
            "Wall time: 17 s\n"
          ]
        }
      ]
    },
    {
      "cell_type": "code",
      "metadata": {
        "colab": {
          "base_uri": "https://localhost:8080/",
          "height": 542
        },
        "id": "yzRuIKVh9c8g",
        "outputId": "5df32457-e831-4afd-812f-a67cee1e1325"
      },
      "source": [
        "import plotly.express as px\n",
        "fig = px.histogram(df_sim, x=\"score\", nbins=50, title='Scores for TF-IDF')\n",
        "fig.show()"
      ],
      "execution_count": 50,
      "outputs": [
        {
          "output_type": "display_data",
          "data": {
            "text/html": [
              "<html>\n",
              "<head><meta charset=\"utf-8\" /></head>\n",
              "<body>\n",
              "    <div>\n",
              "            <script src=\"https://cdnjs.cloudflare.com/ajax/libs/mathjax/2.7.5/MathJax.js?config=TeX-AMS-MML_SVG\"></script><script type=\"text/javascript\">if (window.MathJax) {MathJax.Hub.Config({SVG: {font: \"STIX-Web\"}});}</script>\n",
              "                <script type=\"text/javascript\">window.PlotlyConfig = {MathJaxConfig: 'local'};</script>\n",
              "        <script src=\"https://cdn.plot.ly/plotly-latest.min.js\"></script>    \n",
              "            <div id=\"b15b6034-a290-438c-8489-6873a2b5c0ef\" class=\"plotly-graph-div\" style=\"height:525px; width:100%;\"></div>\n",
              "            <script type=\"text/javascript\">\n",
              "                \n",
              "                    window.PLOTLYENV=window.PLOTLYENV || {};\n",
              "                    \n",
              "                if (document.getElementById(\"b15b6034-a290-438c-8489-6873a2b5c0ef\")) {\n",
              "                    Plotly.newPlot(\n",
              "                        'b15b6034-a290-438c-8489-6873a2b5c0ef',\n",
              "                        [{\"alignmentgroup\": \"True\", \"bingroup\": \"x\", \"hoverlabel\": {\"namelength\": 0}, \"hovertemplate\": \"score=%{x}<br>count=%{y}\", \"legendgroup\": \"\", \"marker\": {\"color\": \"#636efa\"}, \"name\": \"\", \"nbinsx\": 50, \"offsetgroup\": \"\", \"orientation\": \"v\", \"showlegend\": false, \"type\": \"histogram\", \"x\": [0.9196498990058899, 0.9038835763931274, 0.8636550903320312, 0.8334907293319702, 0.824112594127655, 0.8160545825958252, 0.7915235161781311, 0.7816696166992188, 0.7691226005554199, 0.7691226005554199, 0.7682342529296875, 0.7664930820465088, 0.7659552097320557, 0.7659552097320557, 0.7590219974517822, 0.7588516473770142, 0.7576762437820435, 0.7568140029907227, 0.7529098987579346, 0.7524664998054504, 0.7522726655006409, 0.7520843744277954, 0.7520843744277954, 0.7520843744277954, 0.7471569776535034, 0.7444037199020386, 0.7423614263534546, 0.74235999584198, 0.739997148513794, 0.7390285730361938, 0.7368913888931274, 0.734599232673645, 0.7338535785675049, 0.7325950860977173, 0.7304829359054565, 0.7280595302581787, 0.7270792722702026, 0.7263361215591431, 0.7245472073554993, 0.7174606919288635, 0.7159350514411926, 0.9814482927322388, 0.8517615795135498, 0.8486486673355103, 0.8482421040534973, 0.8427440524101257, 0.8406634330749512, 0.8275892734527588, 0.8192987442016602, 0.8117809295654297, 0.811701774597168, 0.811701774597168, 0.8079831004142761, 0.8079831004142761, 0.8078351616859436, 0.8078351616859436, 0.8078351616859436, 0.8053922057151794, 0.8053922057151794, 0.8017070293426514, 0.7978596687316895, 0.7978596687316895, 0.7962182760238647, 0.7962182760238647, 0.7962182760238647, 0.7943533658981323, 0.7922220230102539, 0.7917803525924683, 0.7917803525924683, 0.7917803525924683, 0.7903007864952087, 0.7761004567146301, 0.7713346481323242, 0.7694153785705566, 0.7662871479988098, 0.7635675668716431, 0.759512186050415, 0.759512186050415, 0.7588400840759277, 0.7561815977096558, 0.7525441646575928, 0.737202525138855, 0.9196498990058899, 0.9038835763931274, 0.8636550903320312, 0.8334907293319702, 0.824112594127655, 0.8160545825958252, 0.7915235161781311, 0.7816696166992188, 0.7691226005554199, 0.7691226005554199, 0.7682342529296875, 0.7664930820465088, 0.7659552097320557, 0.7659552097320557, 0.7590219974517822, 0.7588516473770142, 0.7576762437820435, 0.7568140029907227, 0.7529098987579346, 0.7524664998054504, 0.7522726655006409, 0.7520843744277954, 0.7520843744277954, 0.7520843744277954, 0.7471569776535034, 0.7444037199020386, 0.7423614263534546, 0.74235999584198, 0.739997148513794, 0.7390285730361938, 0.7368913888931274, 0.734599232673645, 0.7338535785675049, 0.7325950860977173, 0.7304829359054565, 0.7280595302581787, 0.7270792722702026, 0.7263361215591431, 0.7245472073554993, 0.7174606919288635, 0.7159350514411926, 0.7988332509994507, 0.7571793794631958, 0.755961000919342, 0.7110116481781006, 0.683812141418457, 0.6770783066749573, 0.6724339723587036, 0.6724339723587036, 0.6716110706329346, 0.6689857840538025, 0.6677476167678833, 0.6676556468009949, 0.6655557155609131, 0.6609022617340088, 0.6595385074615479, 0.6556394696235657, 0.653907299041748, 0.6502991914749146, 0.6501607298851013, 0.6490207314491272, 0.6473608016967773, 0.6473608016967773, 0.6439809203147888, 0.6433144807815552, 0.6419485807418823, 0.6411663293838501, 0.6411663293838501, 0.6401801109313965, 0.640103816986084, 0.6380766034126282, 0.6368190050125122, 0.6332792639732361, 0.6311559677124023, 0.6309893131256104, 0.6304101347923279, 0.6253141164779663, 0.6229937076568604, 0.6200482249259949, 0.6190189123153687, 0.6189002394676208, 0.6177464127540588, 0.9397115111351013, 0.9194867610931396, 0.9194867610931396, 0.892963707447052, 0.8918523788452148, 0.8917567729949951, 0.8863569498062134, 0.8863569498062134, 0.8836269378662109, 0.873469889163971, 0.8658664226531982, 0.863305389881134, 0.8624122142791748, 0.8454968333244324, 0.8454968333244324, 0.8427064418792725, 0.8335333466529846, 0.8250203132629395, 0.8226759433746338, 0.8206421136856079, 0.8198801279067993, 0.8148050904273987, 0.8144387006759644, 0.8143880367279053, 0.8139020800590515, 0.8115921020507812, 0.8063544631004333, 0.8053866624832153, 0.8049531579017639, 0.8035845756530762, 0.8021021485328674, 0.8019027709960938, 0.800730288028717, 0.799741268157959, 0.797563910484314, 0.7940771579742432, 0.7916789650917053, 0.7886238694190979, 0.7854465842247009, 0.7853098511695862, 0.7853098511695862, 0.9380967617034912, 0.9201012849807739, 0.9108278155326843, 0.9017132520675659, 0.8984218239784241, 0.8892538547515869, 0.8833591938018799, 0.8819999694824219, 0.8748977184295654, 0.873773455619812, 0.8668359518051147, 0.8668359518051147, 0.8659693002700806, 0.8640252351760864, 0.8601872324943542, 0.8546648621559143, 0.8543300628662109, 0.8523354530334473, 0.8409455418586731, 0.8396477699279785, 0.8388117551803589, 0.8376345634460449, 0.8376345634460449, 0.8333179354667664, 0.8320283889770508, 0.8320283889770508, 0.8316603899002075, 0.8315098285675049, 0.8297417163848877, 0.8285934925079346, 0.825969934463501, 0.8251199722290039, 0.8248232007026672, 0.8242313861846924, 0.8222854137420654, 0.8216500282287598, 0.8194229602813721, 0.8184525966644287, 0.8165206909179688, 0.8148767948150635, 0.8086245059967041, 0.9397115111351013, 0.9194867610931396, 0.9194867610931396, 0.892963707447052, 0.8918523788452148, 0.8917567729949951, 0.8863569498062134, 0.8863569498062134, 0.8836269378662109, 0.873469889163971, 0.8658664226531982, 0.863305389881134, 0.8624122142791748, 0.8454968333244324, 0.8454968333244324, 0.8427064418792725, 0.8335333466529846, 0.8250203132629395, 0.8226759433746338, 0.8206421136856079, 0.8198801279067993, 0.8148050904273987, 0.8144387006759644, 0.8143880367279053, 0.8139020800590515, 0.8115921020507812, 0.8063544631004333, 0.8053866624832153, 0.8049531579017639, 0.8035845756530762, 0.8021021485328674, 0.8019027709960938, 0.800730288028717, 0.799741268157959, 0.797563910484314, 0.7940771579742432, 0.7916789650917053, 0.7886238694190979, 0.7854465842247009, 0.7853098511695862, 0.7853098511695862, 0.9092954993247986, 0.8951758146286011, 0.8917471766471863, 0.8915888071060181, 0.8810214400291443, 0.8793514966964722, 0.8760710954666138, 0.8750938177108765, 0.8741723299026489, 0.8740540742874146, 0.8690007925033569, 0.8610731959342957, 0.8535624742507935, 0.845422625541687, 0.8442277908325195, 0.8442277908325195, 0.8438037633895874, 0.8438037633895874, 0.8424831628799438, 0.841221034526825, 0.8352027535438538, 0.8349018096923828, 0.8266713619232178, 0.8264580965042114, 0.8162604570388794, 0.8153887391090393, 0.8144327998161316, 0.8141549825668335, 0.8111577033996582, 0.8111577033996582, 0.8102318048477173, 0.8086626529693604, 0.8021758794784546, 0.801570475101471, 0.796245276927948, 0.7939655780792236, 0.7933088541030884, 0.7919511795043945, 0.7881073951721191, 0.7860948443412781, 0.7854905128479004, 0.9245520830154419, 0.9209256172180176, 0.9209256172180176, 0.9174246191978455, 0.8842459917068481, 0.8705299496650696, 0.8699769973754883, 0.8665006160736084, 0.8663963079452515, 0.8644928932189941, 0.8498772382736206, 0.8498772382736206, 0.8334197998046875, 0.8334197998046875, 0.8334197998046875, 0.8334197998046875, 0.8324093818664551, 0.8321807384490967, 0.8175874352455139, 0.799274206161499, 0.799274206161499, 0.799274206161499, 0.7957618832588196, 0.7942184805870056, 0.7938315868377686, 0.792604923248291, 0.7905980348587036, 0.7905980348587036, 0.7887603640556335, 0.7885164618492126, 0.7855602502822876, 0.7842437028884888, 0.7842437028884888, 0.7826164960861206, 0.7817665338516235, 0.7817665338516235, 0.7804127931594849, 0.7743963003158569, 0.7719557881355286, 0.7704613208770752, 0.7690445780754089, 0.9904404878616333, 0.9904404878616333, 0.9904404878616333, 0.9727900624275208, 0.9470866322517395, 0.935715913772583, 0.9347223043441772, 0.9347223043441772, 0.9341075420379639, 0.9341075420379639, 0.9324896931648254, 0.9278632998466492, 0.9278632998466492, 0.9274939894676208, 0.9267227053642273, 0.9218592047691345, 0.9183245897293091, 0.9152311682701111, 0.9132879376411438, 0.9110441207885742, 0.9109437465667725, 0.8839449286460876, 0.8726488351821899, 0.8680610060691833, 0.866985559463501, 0.8658866286277771, 0.8651968836784363, 0.8645103573799133, 0.8621498942375183, 0.8560949563980103, 0.853860080242157, 0.8479548692703247, 0.8479548692703247, 0.8465121984481812, 0.8454249501228333, 0.8454249501228333, 0.8426265120506287, 0.8418941497802734, 0.8416450619697571, 0.8390549421310425, 0.8337148427963257, 0.9245520830154419, 0.9209256172180176, 0.9209256172180176, 0.9174246191978455, 0.8842459917068481, 0.8705299496650696, 0.8699769973754883, 0.8665006160736084, 0.8663963079452515, 0.8644928932189941, 0.8498772382736206, 0.8498772382736206, 0.8334197998046875, 0.8334197998046875, 0.8334197998046875, 0.8334197998046875, 0.8324093818664551, 0.8321807384490967, 0.8175874352455139, 0.799274206161499, 0.799274206161499, 0.799274206161499, 0.7957618832588196, 0.7942184805870056, 0.7938315868377686, 0.792604923248291, 0.7905980348587036, 0.7905980348587036, 0.7887603640556335, 0.7885164618492126, 0.7855602502822876, 0.7842437028884888, 0.7842437028884888, 0.7826164960861206, 0.7817665338516235, 0.7817665338516235, 0.7804127931594849, 0.7743963003158569, 0.7719557881355286, 0.7704613208770752, 0.7690445780754089, 0.949884831905365, 0.9329653978347778, 0.9329653978347778, 0.9198912382125854, 0.8997784852981567, 0.8638937473297119, 0.8620119094848633, 0.86069655418396, 0.8592320680618286, 0.8592320680618286, 0.8582180738449097, 0.8524217009544373, 0.8524217009544373, 0.8512078523635864, 0.8474264144897461, 0.836890459060669, 0.8350417613983154, 0.8280481100082397, 0.8229798078536987, 0.8229163289070129, 0.8206647634506226, 0.8177601099014282, 0.8140424489974976, 0.8132263422012329, 0.8132263422012329, 0.813092827796936, 0.8130879402160645, 0.8112082481384277, 0.8103513717651367, 0.8101230263710022, 0.8079258799552917, 0.8049681186676025, 0.804000198841095, 0.804000198841095, 0.8030858039855957, 0.7999894618988037, 0.7979123592376709, 0.7944203615188599, 0.7935808897018433, 0.7935808897018433, 0.7901158928871155, 0.8235363960266113, 0.8160116672515869, 0.8121883869171143, 0.8049639463424683, 0.8033714890480042, 0.8033714890480042, 0.7802966833114624, 0.7746341824531555, 0.745071291923523, 0.7420724034309387, 0.7388862371444702, 0.7371229529380798, 0.7367401123046875, 0.7367401123046875, 0.7352069616317749, 0.7351706027984619, 0.7225515842437744, 0.7201423645019531, 0.7191691398620605, 0.7185551524162292, 0.7175139784812927, 0.7157052755355835, 0.7151883840560913, 0.7151883840560913, 0.7140706777572632, 0.6992431879043579, 0.6926118731498718, 0.6887525320053101, 0.6872329711914062, 0.680305004119873, 0.6733143925666809, 0.673061192035675, 0.673061192035675, 0.671902596950531, 0.6686307787895203, 0.6686307787895203, 0.6677604913711548, 0.6577584147453308, 0.6553854942321777, 0.6401349306106567, 0.6373518109321594, 0.8888208866119385, 0.8005372285842896, 0.8005372285842896, 0.7900215983390808, 0.7900215983390808, 0.7900215983390808, 0.7897839546203613, 0.7887325286865234, 0.7835365533828735, 0.7667278051376343, 0.7535243630409241, 0.7535243630409241, 0.7535243630409241, 0.7528121471405029, 0.7528121471405029, 0.7526219487190247, 0.7526219487190247, 0.7526219487190247, 0.7526219487190247, 0.7526219487190247, 0.7526219487190247, 0.7357237935066223, 0.7357237935066223, 0.7357237935066223, 0.7316656708717346, 0.7116043567657471, 0.7111107707023621, 0.711104691028595, 0.711104691028595, 0.710640549659729, 0.6953305602073669, 0.6869952082633972, 0.6866628527641296, 0.68463134765625, 0.6783994436264038, 0.6719048023223877, 0.6655678153038025, 0.6586906313896179, 0.6581341028213501, 0.65219646692276, 0.6508903503417969, 0.7598773241043091, 0.6216225028038025, 0.6216225028038025, 0.6216225028038025, 0.6094653606414795, 0.6068716645240784, 0.5978227853775024, 0.5934688448905945, 0.5798888206481934, 0.5612296462059021, 0.5444650650024414, 0.5388853549957275, 0.522502601146698, 0.520549476146698, 0.5154673457145691, 0.511829137802124, 0.4899074137210846, 0.48758044838905334, 0.48498618602752686, 0.48394662141799927, 0.4763314723968506, 0.4704214632511139, 0.46967583894729614, 0.46835610270500183, 0.4681409001350403, 0.464672327041626, 0.4641335606575012, 0.4582619071006775, 0.4582619071006775, 0.4534752368927002, 0.45203855633735657, 0.45203855633735657, 0.45203855633735657, 0.45203855633735657, 0.44460055232048035, 0.44460055232048035, 0.44460055232048035, 0.4434477686882019, 0.4433066248893738, 0.44276541471481323, 0.4423691928386688, 0.8888208866119385, 0.8005372285842896, 0.8005372285842896, 0.7900215983390808, 0.7900215983390808, 0.7900215983390808, 0.7897839546203613, 0.7887325286865234, 0.7835365533828735, 0.7667278051376343, 0.7535243630409241, 0.7535243630409241, 0.7535243630409241, 0.7528121471405029, 0.7528121471405029, 0.7526219487190247, 0.7526219487190247, 0.7526219487190247, 0.7526219487190247, 0.7526219487190247, 0.7526219487190247, 0.7357237935066223, 0.7357237935066223, 0.7357237935066223, 0.7316656708717346, 0.7116043567657471, 0.7111107707023621, 0.711104691028595, 0.711104691028595, 0.710640549659729, 0.6953305602073669, 0.6869952082633972, 0.6866628527641296, 0.68463134765625, 0.6783994436264038, 0.6719048023223877, 0.6655678153038025, 0.6586906313896179, 0.6581341028213501, 0.65219646692276, 0.6508903503417969, 0.8256626129150391, 0.7966032028198242, 0.7709292769432068, 0.7641631364822388, 0.7338792085647583, 0.7338792085647583, 0.7338792085647583, 0.7328647375106812, 0.6977938413619995, 0.6977938413619995, 0.6874553561210632, 0.6853927373886108, 0.6758224368095398, 0.6612513065338135, 0.6612513065338135, 0.6558610200881958, 0.6528981328010559, 0.6325947046279907, 0.6146206259727478, 0.6110367178916931, 0.6109567880630493, 0.6104909181594849, 0.6100600957870483, 0.6015530824661255, 0.6006861925125122, 0.6006861925125122, 0.5995577573776245, 0.5920734405517578, 0.5903062224388123, 0.5856696367263794, 0.5842015147209167, 0.5833631753921509, 0.579399824142456, 0.5784536600112915, 0.5784536600112915, 0.5774929523468018, 0.5774929523468018, 0.5774929523468018, 0.5743519067764282, 0.5719600319862366, 0.5719600319862366, 0.8933001756668091, 0.8388532400131226, 0.8309425115585327, 0.8306958675384521, 0.8306958675384521, 0.8018500804901123, 0.7803573608398438, 0.7798985242843628, 0.779406726360321, 0.779406726360321, 0.777599573135376, 0.7741724848747253, 0.7672023177146912, 0.7672023177146912, 0.7641288042068481, 0.7599989175796509, 0.7599989175796509, 0.7595903873443604, 0.7595903873443604, 0.7595138549804688, 0.7583276629447937, 0.754923939704895, 0.754923939704895, 0.754923939704895, 0.7545021772384644, 0.753126323223114, 0.7504846453666687, 0.7424701452255249, 0.7396420240402222, 0.7351247668266296, 0.7351247668266296, 0.7350060939788818, 0.733483076095581, 0.733483076095581, 0.7321872711181641, 0.7318012714385986, 0.7286954522132874, 0.7286954522132874, 0.7270418405532837, 0.7249692678451538, 0.7249692678451538, 0.8060271739959717, 0.7922964096069336, 0.790303111076355, 0.788456916809082, 0.7877241373062134, 0.7853943705558777, 0.7816245555877686, 0.7740349173545837, 0.764266848564148, 0.7627989649772644, 0.7555851340293884, 0.7555851340293884, 0.7422516345977783, 0.7422516345977783, 0.739075243473053, 0.739075243473053, 0.7362512350082397, 0.7362512350082397, 0.7355872392654419, 0.7342073917388916, 0.7342073917388916, 0.7257616519927979, 0.7240099906921387, 0.7157902717590332, 0.7123734354972839, 0.7116974592208862, 0.7115635871887207, 0.7077223062515259, 0.7076535820960999, 0.7068063616752625, 0.7058719396591187, 0.7014266848564148, 0.7011780738830566, 0.6973915696144104, 0.6973915696144104, 0.6952229142189026, 0.6898021101951599, 0.6855069398880005, 0.6827013492584229, 0.6817157864570618, 0.675003170967102, 0.8240283131599426, 0.78410404920578, 0.7246643304824829, 0.7194687128067017, 0.7167586088180542, 0.7081409096717834, 0.7038677334785461, 0.6999416351318359, 0.6878319978713989, 0.6820310354232788, 0.6568054556846619, 0.6562180519104004, 0.6538599729537964, 0.6538599729537964, 0.6538599729537964, 0.6538202166557312, 0.6517043113708496, 0.6426697373390198, 0.641345739364624, 0.6390509009361267, 0.6301211714744568, 0.6291141510009766, 0.6281273365020752, 0.6264535188674927, 0.6226780414581299, 0.6209642291069031, 0.6185563802719116, 0.6152039766311646, 0.6144315600395203, 0.6130352020263672, 0.6130101084709167, 0.6105774641036987, 0.6084623336791992, 0.60792076587677, 0.6021481156349182, 0.5963396430015564, 0.5934290289878845, 0.5899207592010498, 0.5877324342727661, 0.5847985744476318, 0.5736384987831116, 0.8933001756668091, 0.8388532400131226, 0.8309425115585327, 0.8306958675384521, 0.8306958675384521, 0.8018500804901123, 0.7803573608398438, 0.7798985242843628, 0.779406726360321, 0.779406726360321, 0.777599573135376, 0.7741724848747253, 0.7672023177146912, 0.7672023177146912, 0.7641288042068481, 0.7599989175796509, 0.7599989175796509, 0.7595903873443604, 0.7595903873443604, 0.7595138549804688, 0.7583276629447937, 0.754923939704895, 0.754923939704895, 0.754923939704895, 0.7545021772384644, 0.753126323223114, 0.7504846453666687, 0.7424701452255249, 0.7396420240402222, 0.7351247668266296, 0.7351247668266296, 0.7350060939788818, 0.733483076095581, 0.733483076095581, 0.7321872711181641, 0.7318012714385986, 0.7286954522132874, 0.7286954522132874, 0.7270418405532837, 0.7249692678451538, 0.7249692678451538, 0.9382315874099731, 0.9106018543243408, 0.9106018543243408, 0.9078210592269897, 0.8945432305335999, 0.8945432305335999, 0.8899151682853699, 0.8815053105354309, 0.8779960870742798, 0.8697571158409119, 0.8584032654762268, 0.8508185744285583, 0.8404878377914429, 0.839050829410553, 0.8374419212341309, 0.8374419212341309, 0.8315833806991577, 0.8207336664199829, 0.8140221238136292, 0.8135877251625061, 0.8098987340927124, 0.8095626831054688, 0.8067116737365723, 0.8014845848083496, 0.8002190589904785, 0.7980751991271973, 0.7973915338516235, 0.794553279876709, 0.791086733341217, 0.7903101444244385, 0.7885880470275879, 0.7885420322418213, 0.7885420322418213, 0.7876542806625366, 0.7841812372207642, 0.7804253101348877, 0.7792696356773376, 0.7792696356773376, 0.7765580415725708, 0.7765178680419922, 0.7755371332168579, 0.9727869033813477, 0.970969021320343, 0.9420433640480042, 0.9116808176040649, 0.8944628238677979, 0.8923947215080261, 0.8923947215080261, 0.8885407447814941, 0.8824141025543213, 0.8808543682098389, 0.878020167350769, 0.8768462538719177, 0.8712124824523926, 0.8662111759185791, 0.8662111759185791, 0.8617545962333679, 0.8617545962333679, 0.8551779985427856, 0.8510341048240662, 0.845887303352356, 0.8456859588623047, 0.8454684019088745, 0.8413792848587036, 0.8390040397644043, 0.8390040397644043, 0.8283773064613342, 0.8258047103881836, 0.8164576292037964, 0.8164280652999878, 0.814202606678009, 0.814202606678009, 0.8130785822868347, 0.8118199110031128, 0.8077182769775391, 0.8075056672096252, 0.8074648976325989, 0.8053199648857117, 0.80381840467453, 0.803563117980957, 0.8023645281791687, 0.8008039593696594, 0.9382315874099731, 0.9106018543243408, 0.9106018543243408, 0.9078210592269897, 0.8945432305335999, 0.8945432305335999, 0.8899151682853699, 0.8815053105354309, 0.8779960870742798, 0.8697571158409119, 0.8584032654762268, 0.8508185744285583, 0.8404878377914429, 0.839050829410553, 0.8374419212341309, 0.8374419212341309, 0.8315833806991577, 0.8207336664199829, 0.8140221238136292, 0.8135877251625061, 0.8098987340927124, 0.8095626831054688, 0.8067116737365723, 0.8014845848083496, 0.8002190589904785, 0.7980751991271973, 0.7973915338516235, 0.794553279876709, 0.791086733341217, 0.7903101444244385, 0.7885880470275879, 0.7885420322418213, 0.7885420322418213, 0.7876542806625366, 0.7841812372207642, 0.7804253101348877, 0.7792696356773376, 0.7792696356773376, 0.7765580415725708, 0.7765178680419922, 0.7755371332168579, 0.8907605409622192, 0.8907605409622192, 0.8881603479385376, 0.8881603479385376, 0.8796150088310242, 0.8717153072357178, 0.8604875206947327, 0.8381379246711731, 0.8304458856582642, 0.8288041353225708, 0.8264509439468384, 0.8182826042175293, 0.8182826042175293, 0.8143113255500793, 0.8134340643882751, 0.803749680519104, 0.8018821477890015, 0.8004822134971619, 0.7996741533279419, 0.7983058094978333, 0.7982409000396729, 0.7949161529541016, 0.7933555841445923, 0.7933555841445923, 0.7930272221565247, 0.7930272221565247, 0.7887824773788452, 0.7887824773788452, 0.7887824773788452, 0.7873685956001282, 0.7873685956001282, 0.7872574329376221, 0.7868430614471436, 0.785815954208374, 0.7823376059532166, 0.7809036374092102, 0.7809036374092102, 0.7809036374092102, 0.7809036374092102, 0.7807348370552063, 0.7802766561508179, 0.9434819221496582, 0.928325891494751, 0.9075089693069458, 0.9021630883216858, 0.8466262221336365, 0.8431141972541809, 0.8429650068283081, 0.8428629636764526, 0.8427742719650269, 0.8290285468101501, 0.8272480964660645, 0.8261188268661499, 0.8261188268661499, 0.8214958906173706, 0.8147320747375488, 0.811813235282898, 0.8085433840751648, 0.808493435382843, 0.8063919544219971, 0.8063919544219971, 0.8019027709960938, 0.8019027709960938, 0.8011347055435181, 0.7975443005561829, 0.7961540818214417, 0.7936240434646606, 0.7934329509735107, 0.7916268110275269, 0.790030837059021, 0.7890666723251343, 0.7856588959693909, 0.7856588959693909, 0.7850852012634277, 0.781430721282959, 0.7808881998062134, 0.7808881998062134, 0.7781732082366943, 0.7772074937820435, 0.7763091325759888, 0.7676542401313782, 0.7672832012176514, 0.9062701463699341, 0.9062701463699341, 0.8163251876831055, 0.8133508563041687, 0.7995826005935669, 0.7887556552886963, 0.7653709650039673, 0.764266848564148, 0.738884687423706, 0.7361241579055786, 0.7318238615989685, 0.7308263778686523, 0.7307897806167603, 0.7274258136749268, 0.7186199426651001, 0.7186199426651001, 0.7115868926048279, 0.7080963850021362, 0.7013696432113647, 0.7013488411903381, 0.7013488411903381, 0.699652373790741, 0.6991533041000366, 0.6978016495704651, 0.6943079829216003, 0.6922152042388916, 0.6876507997512817, 0.6872959136962891, 0.6872959136962891, 0.687239408493042, 0.685708224773407, 0.685708224773407, 0.6820380687713623, 0.6794185638427734, 0.6771212816238403, 0.6756483316421509, 0.6756483316421509, 0.6744850873947144, 0.674102246761322, 0.672876238822937, 0.6724757552146912, 0.8469980359077454, 0.8452754616737366, 0.8403805494308472, 0.8394734263420105, 0.8394734263420105, 0.8394734263420105, 0.8314687013626099, 0.8253914713859558, 0.8069430589675903, 0.802880585193634, 0.802880585193634, 0.7998927235603333, 0.7998927235603333, 0.7835018634796143, 0.7818700671195984, 0.7768282890319824, 0.7706067562103271, 0.7699934244155884, 0.7691550850868225, 0.7677634358406067, 0.7552840709686279, 0.752594530582428, 0.7501635551452637, 0.7478981614112854, 0.7443112730979919, 0.7432941198348999, 0.7422431707382202, 0.7389945983886719, 0.7373008728027344, 0.735400915145874, 0.7348779439926147, 0.7242313623428345, 0.723260223865509, 0.723260223865509, 0.7224029898643494, 0.7202622294425964, 0.7202622294425964, 0.718446671962738, 0.7181969881057739, 0.7181969881057739, 0.715648353099823, 0.9159203171730042, 0.9082893133163452, 0.8956456184387207, 0.8930066823959351, 0.8841756582260132, 0.8802178502082825, 0.8751527070999146, 0.8736675977706909, 0.8709447383880615, 0.8706492185592651, 0.8660688400268555, 0.8612551689147949, 0.8601805567741394, 0.8592161536216736, 0.8527505397796631, 0.8492854237556458, 0.8452772498130798, 0.8443493843078613, 0.8440428972244263, 0.8395746350288391, 0.8395746350288391, 0.8361401557922363, 0.8361401557922363, 0.8102759718894958, 0.8086092472076416, 0.8078513145446777, 0.8074493408203125, 0.806550920009613, 0.806550920009613, 0.8041384220123291, 0.7971072793006897, 0.7860841751098633, 0.7804924249649048, 0.7772917747497559, 0.7770946025848389, 0.7770946025848389, 0.7742623090744019, 0.7725504040718079, 0.7698040008544922, 0.7684147357940674, 0.7681910991668701, 0.9588703513145447, 0.9524250030517578, 0.9316670894622803, 0.9173969626426697, 0.9145621061325073, 0.9102996587753296, 0.899443507194519, 0.8923615217208862, 0.88592928647995, 0.878838062286377, 0.8740604519844055, 0.8740604519844055, 0.8698276877403259, 0.8690962791442871, 0.8652142286300659, 0.863305389881134, 0.863305389881134, 0.8630759716033936, 0.8593734502792358, 0.8534756898880005, 0.8507665395736694, 0.8446609973907471, 0.8446609973907471, 0.8330965042114258, 0.8323801755905151, 0.8323801755905151, 0.8291202783584595, 0.8258851766586304, 0.8258851766586304, 0.8239695429801941, 0.823807954788208, 0.8227845430374146, 0.8227845430374146, 0.8222399353981018, 0.8150359392166138, 0.8140221238136292, 0.8140221238136292, 0.8109166622161865, 0.8051156997680664, 0.7999272346496582, 0.7998975515365601, 0.9159203171730042, 0.9082893133163452, 0.8956456184387207, 0.8930066823959351, 0.8841756582260132, 0.8802178502082825, 0.8751527070999146, 0.8736675977706909, 0.8709447383880615, 0.8706492185592651, 0.8660688400268555, 0.8612551689147949, 0.8601805567741394, 0.8592161536216736, 0.8527505397796631, 0.8492854237556458, 0.8452772498130798, 0.8443493843078613, 0.8440428972244263, 0.8395746350288391, 0.8395746350288391, 0.8361401557922363, 0.8361401557922363, 0.8102759718894958, 0.8086092472076416, 0.8078513145446777, 0.8074493408203125, 0.806550920009613, 0.806550920009613, 0.8041384220123291, 0.7971072793006897, 0.7860841751098633, 0.7804924249649048, 0.7772917747497559, 0.7770946025848389, 0.7770946025848389, 0.7742623090744019, 0.7725504040718079, 0.7698040008544922, 0.7684147357940674, 0.7681910991668701, 0.9367783069610596, 0.9086948037147522, 0.9036933779716492, 0.9021630883216858, 0.8840393424034119, 0.8707863092422485, 0.8703501224517822, 0.8677821159362793, 0.8656018972396851, 0.8656018972396851, 0.8323448300361633, 0.8267257213592529, 0.8252856731414795, 0.8240259885787964, 0.8203927874565125, 0.8203927874565125, 0.8201265931129456, 0.8137603402137756, 0.8119645118713379, 0.8062160015106201, 0.8059372901916504, 0.8051719665527344, 0.8023523092269897, 0.8022775650024414, 0.8000009059906006, 0.799741268157959, 0.799741268157959, 0.7974147200584412, 0.7974147200584412, 0.7951129674911499, 0.7942882776260376, 0.7941666841506958, 0.7917532920837402, 0.7914847731590271, 0.7901334762573242, 0.7869397401809692, 0.7863978743553162, 0.7807744741439819, 0.7807744741439819, 0.7792148590087891, 0.7788881063461304, 0.8272416591644287, 0.7983249425888062, 0.7897324562072754, 0.7872564196586609, 0.7489164471626282, 0.7435068488121033, 0.7307186126708984, 0.7199659943580627, 0.7112000584602356, 0.7058424353599548, 0.702750027179718, 0.6990242600440979, 0.68756502866745, 0.68756502866745, 0.686433732509613, 0.6772155165672302, 0.6734457015991211, 0.6734457015991211, 0.6560063362121582, 0.6411093473434448, 0.6388982534408569, 0.6247720718383789, 0.618139922618866, 0.6143041849136353, 0.6084206700325012, 0.6058427691459656, 0.6005450487136841, 0.5976806879043579, 0.5934125185012817, 0.5887811779975891, 0.5804396867752075, 0.5751236081123352, 0.5636666417121887, 0.5498180985450745, 0.5483484864234924, 0.5423818826675415, 0.5411844253540039, 0.5316497087478638, 0.5265776515007019, 0.5192992091178894, 0.5171930193901062, 0.9488275051116943, 0.8763301968574524, 0.8567236065864563, 0.8495270013809204, 0.8370440006256104, 0.8288654088973999, 0.8274070024490356, 0.8216538429260254, 0.8004121780395508, 0.7927930355072021, 0.789587676525116, 0.7843931913375854, 0.7843931913375854, 0.7790369391441345, 0.7769936323165894, 0.7769936323165894, 0.7759767174720764, 0.7752964496612549, 0.769762396812439, 0.769762396812439, 0.7689474821090698, 0.7649865746498108, 0.758327841758728, 0.7568072080612183, 0.7561531066894531, 0.7515515089035034, 0.747969388961792, 0.7463557720184326, 0.7448859810829163, 0.7414804697036743, 0.7410879135131836, 0.734351634979248, 0.734351634979248, 0.7308627367019653, 0.723529577255249, 0.7222676277160645, 0.7219786643981934, 0.7193387746810913, 0.7166111469268799, 0.7135568261146545, 0.7134373188018799, 0.8272416591644287, 0.7983249425888062, 0.7897324562072754, 0.7872564196586609, 0.7489164471626282, 0.7435068488121033, 0.7307186126708984, 0.7199659943580627, 0.7112000584602356, 0.7058424353599548, 0.702750027179718, 0.6990242600440979, 0.68756502866745, 0.68756502866745, 0.686433732509613, 0.6772155165672302, 0.6734457015991211, 0.6734457015991211, 0.6560063362121582, 0.6411093473434448, 0.6388982534408569, 0.6247720718383789, 0.618139922618866, 0.6143041849136353, 0.6084206700325012, 0.6058427691459656, 0.6005450487136841, 0.5976806879043579, 0.5934125185012817, 0.5887811779975891, 0.5804396867752075, 0.5751236081123352, 0.5636666417121887, 0.5498180985450745, 0.5483484864234924, 0.5423818826675415, 0.5411844253540039, 0.5316497087478638, 0.5265776515007019, 0.5192992091178894, 0.5171930193901062, 0.9720892906188965, 0.9578099846839905, 0.9370535612106323, 0.905147910118103, 0.905147910118103, 0.9051464796066284, 0.8790013194084167, 0.8703640699386597, 0.8657833337783813, 0.8358277082443237, 0.8358033895492554, 0.8321431875228882, 0.8321431875228882, 0.8311716914176941, 0.8283655643463135, 0.827326238155365, 0.8232321739196777, 0.8183004260063171, 0.816969096660614, 0.8166980743408203, 0.8166980743408203, 0.814965009689331, 0.8108347654342651, 0.8100229501724243, 0.809891939163208, 0.8083155155181885, 0.8064645528793335, 0.8064645528793335, 0.8050772547721863, 0.8045989274978638, 0.8023098111152649, 0.7905993461608887, 0.7863381505012512, 0.785620927810669, 0.785620927810669, 0.7854453921318054, 0.7840256690979004, 0.7815321683883667, 0.7757341265678406, 0.7750649452209473, 0.7712115049362183, 0.9823054671287537, 0.9467687606811523, 0.8759769201278687, 0.8576890826225281, 0.8405819535255432, 0.8402286767959595, 0.8383113145828247, 0.836658775806427, 0.8344063758850098, 0.8344063758850098, 0.824886679649353, 0.8142800331115723, 0.8109053373336792, 0.8101141452789307, 0.8046665787696838, 0.8029888868331909, 0.8029888868331909, 0.7986671924591064, 0.7945870161056519, 0.7920985221862793, 0.7892705202102661, 0.7892705202102661, 0.7834324836730957, 0.7804635763168335, 0.7804635763168335, 0.7786853313446045, 0.778123140335083, 0.7775814533233643, 0.7775814533233643, 0.7773823738098145, 0.7773823738098145, 0.7740079164505005, 0.7735186815261841, 0.7689897418022156, 0.7677057385444641, 0.7674835920333862, 0.7669771313667297, 0.766526997089386, 0.7635402679443359, 0.7603997588157654, 0.7595625519752502, 0.9569911956787109, 0.9569911956787109, 0.9569911956787109, 0.9129670858383179, 0.9033762216567993, 0.9019269943237305, 0.8989858627319336, 0.8917649984359741, 0.8857032060623169, 0.8857032060623169, 0.8856268525123596, 0.8838262557983398, 0.8814467191696167, 0.8788362741470337, 0.8788362741470337, 0.8784105181694031, 0.8779395222663879, 0.8776706457138062, 0.8776706457138062, 0.8767483234405518, 0.8758453130722046, 0.8747246861457825, 0.8735836744308472, 0.87245774269104, 0.87245774269104, 0.8701225519180298, 0.8701225519180298, 0.8650967478752136, 0.8648367524147034, 0.8644636273384094, 0.8631269335746765, 0.8622348308563232, 0.8602527379989624, 0.859343409538269, 0.8592655658721924, 0.8592655658721924, 0.8592655658721924, 0.8592655658721924, 0.8564645648002625, 0.8564645648002625, 0.8557719588279724, 0.9776827692985535, 0.9776827692985535, 0.9776827692985535, 0.9630857110023499, 0.948072075843811, 0.9405701160430908, 0.939577579498291, 0.939577579498291, 0.939577579498291, 0.939577579498291, 0.939577579498291, 0.939577579498291, 0.939577579498291, 0.9348084330558777, 0.9144744873046875, 0.9104403257369995, 0.9096618890762329, 0.9033953547477722, 0.9033953547477722, 0.9033953547477722, 0.9033953547477722, 0.8986890316009521, 0.8986890316009521, 0.8982325196266174, 0.8970104455947876, 0.896312952041626, 0.8928160667419434, 0.8912834525108337, 0.8859655261039734, 0.8819149136543274, 0.8789923191070557, 0.8739763498306274, 0.8734010457992554, 0.8734010457992554, 0.8734010457992554, 0.8734010457992554, 0.8734010457992554, 0.8734010457992554, 0.8734010457992554, 0.8734010457992554, 0.8734010457992554, 0.9270341992378235, 0.9270341992378235, 0.9258881211280823, 0.9258881211280823, 0.9258881211280823, 0.9071986675262451, 0.9071986675262451, 0.90497887134552, 0.8960520625114441, 0.8960520625114441, 0.8954503536224365, 0.8910744190216064, 0.8892680406570435, 0.8884149789810181, 0.8854890465736389, 0.8841819763183594, 0.8841819763183594, 0.8753681182861328, 0.8753681182861328, 0.8734256029129028, 0.8696619272232056, 0.861203670501709, 0.8575502634048462, 0.8575502634048462, 0.8567999005317688, 0.8553246259689331, 0.854486346244812, 0.8534590005874634, 0.8485583066940308, 0.8451602458953857, 0.8397481441497803, 0.8383845686912537, 0.8382435441017151, 0.8317129015922546, 0.8309769034385681, 0.8172683715820312, 0.8147502541542053, 0.8101051449775696, 0.8090176582336426, 0.8055130839347839, 0.8045473098754883, 0.9586360454559326, 0.9575733542442322, 0.9575733542442322, 0.9416491985321045, 0.9398320317268372, 0.9245044589042664, 0.9235355854034424, 0.9110568761825562, 0.905147910118103, 0.9014006853103638, 0.8865976929664612, 0.8764706254005432, 0.866668701171875, 0.8664638996124268, 0.8613173365592957, 0.8599411249160767, 0.8576251268386841, 0.8495101928710938, 0.8447998762130737, 0.8433393239974976, 0.8402732610702515, 0.829391360282898, 0.8240033984184265, 0.817215085029602, 0.8112596869468689, 0.8112596869468689, 0.7977177500724792, 0.794784426689148, 0.7924818992614746, 0.7902839183807373, 0.7893571257591248, 0.7872436046600342, 0.7859655618667603, 0.7844440937042236, 0.7815629243850708, 0.7807279229164124, 0.7807279229164124, 0.7773406505584717, 0.7769936323165894, 0.7746695280075073, 0.7716912627220154, 0.9714033603668213, 0.9666874408721924, 0.9658952951431274, 0.9635993242263794, 0.9620299339294434, 0.9522378444671631, 0.9498850107192993, 0.9446364641189575, 0.9410858154296875, 0.9410858154296875, 0.9395517706871033, 0.937065839767456, 0.93703293800354, 0.9308275580406189, 0.9259706735610962, 0.9256200790405273, 0.9256200790405273, 0.9231044054031372, 0.9231044054031372, 0.9221500158309937, 0.9221500158309937, 0.9204398989677429, 0.9179599285125732, 0.9175553321838379, 0.9172093868255615, 0.9164569973945618, 0.9142947196960449, 0.9141861200332642, 0.9141861200332642, 0.9134469032287598, 0.9131096601486206, 0.9131096601486206, 0.9126734733581543, 0.9126734733581543, 0.9126734733581543, 0.9111785888671875, 0.9111785888671875, 0.9095170497894287, 0.909422755241394, 0.9092589020729065, 0.9089718461036682, 0.9586360454559326, 0.9575733542442322, 0.9575733542442322, 0.9416491985321045, 0.9398320317268372, 0.9245044589042664, 0.9235355854034424, 0.9110568761825562, 0.905147910118103, 0.9014006853103638, 0.8865976929664612, 0.8764706254005432, 0.866668701171875, 0.8664638996124268, 0.8613173365592957, 0.8599411249160767, 0.8576251268386841, 0.8495101928710938, 0.8447998762130737, 0.8433393239974976, 0.8402732610702515, 0.829391360282898, 0.8240033984184265, 0.817215085029602, 0.8112596869468689, 0.8112596869468689, 0.7977177500724792, 0.794784426689148, 0.7924818992614746, 0.7902839183807373, 0.7893571257591248, 0.7872436046600342, 0.7859655618667603, 0.7844440937042236, 0.7815629243850708, 0.7807279229164124, 0.7807279229164124, 0.7773406505584717, 0.7769936323165894, 0.7746695280075073, 0.7716912627220154, 0.8864080905914307, 0.8726491928100586, 0.8493943214416504, 0.8429691791534424, 0.8403885364532471, 0.8136745691299438, 0.8117293119430542, 0.793415904045105, 0.7902466654777527, 0.7896914482116699, 0.7820013761520386, 0.7742034196853638, 0.770583987236023, 0.7650513052940369, 0.760662853717804, 0.7579823136329651, 0.7491157054901123, 0.7491157054901123, 0.7491157054901123, 0.736641526222229, 0.7349874377250671, 0.7349874377250671, 0.7345964908599854, 0.7304980754852295, 0.729279637336731, 0.7233650088310242, 0.7172300815582275, 0.7162532806396484, 0.710085391998291, 0.710085391998291, 0.710085391998291, 0.710085391998291, 0.7090682983398438, 0.7015398740768433, 0.6973698735237122, 0.6961855292320251, 0.6952965259552002, 0.6941157579421997, 0.692876935005188, 0.6911220550537109, 0.6895649433135986, 0.8195174336433411, 0.814304530620575, 0.814304530620575, 0.814304530620575, 0.814304530620575, 0.814304530620575, 0.814304530620575, 0.814304530620575, 0.814304530620575, 0.814304530620575, 0.814304530620575, 0.814304530620575, 0.814304530620575, 0.814304530620575, 0.814304530620575, 0.814304530620575, 0.814304530620575, 0.814304530620575, 0.814304530620575, 0.814304530620575, 0.814304530620575, 0.814304530620575, 0.814304530620575, 0.814304530620575, 0.814304530620575, 0.8117126822471619, 0.8035580515861511, 0.8035580515861511, 0.8035580515861511, 0.7966907024383545, 0.7894206047058105, 0.7894206047058105, 0.7817214131355286, 0.7797952890396118, 0.7791058421134949, 0.7790307402610779, 0.7789461612701416, 0.7785455584526062, 0.7769820094108582, 0.7769820094108582, 0.7582499980926514, 0.8859416246414185, 0.8542184233665466, 0.8542184233665466, 0.8139802813529968, 0.7915170192718506, 0.6953229904174805, 0.6932423710823059, 0.6889830231666565, 0.6889830231666565, 0.6889830231666565, 0.6869683265686035, 0.6802700757980347, 0.6651354432106018, 0.6611589193344116, 0.6600574254989624, 0.6589483022689819, 0.6586841940879822, 0.6558805704116821, 0.6539225578308105, 0.6491274833679199, 0.6487876772880554, 0.6478725075721741, 0.6458379030227661, 0.6447881460189819, 0.6426306962966919, 0.6399982571601868, 0.6398983597755432, 0.6355142593383789, 0.6354126334190369, 0.6276334524154663, 0.6265485286712646, 0.625734269618988, 0.6241642832756042, 0.622726321220398, 0.6215647459030151, 0.6214452981948853, 0.6205032467842102, 0.6201972961425781, 0.6163961887359619, 0.6160873174667358, 0.6160873174667358, 0.9468265175819397, 0.8947436809539795, 0.8796350955963135, 0.8687880039215088, 0.8620895743370056, 0.8613554239273071, 0.8588920831680298, 0.8544516563415527, 0.8496817350387573, 0.8496817350387573, 0.8496817350387573, 0.8496817350387573, 0.8482968807220459, 0.8419350385665894, 0.8419350385665894, 0.8397045731544495, 0.8397045731544495, 0.8371249437332153, 0.818954586982727, 0.818954586982727, 0.818654477596283, 0.8155856728553772, 0.8064849376678467, 0.8000234961509705, 0.7943310141563416, 0.7926051020622253, 0.7889665365219116, 0.7889665365219116, 0.7887517809867859, 0.7855013608932495, 0.7803846597671509, 0.7702526450157166, 0.7683843374252319, 0.7674529552459717, 0.7625212073326111, 0.758752703666687, 0.7576194405555725, 0.7567411065101624, 0.7566778063774109, 0.7549323439598083, 0.7511546015739441, 0.8965716361999512, 0.865922749042511, 0.8526025414466858, 0.8503074645996094, 0.8375924825668335, 0.8375924825668335, 0.8375924825668335, 0.8374204635620117, 0.8342785835266113, 0.8304515480995178, 0.8304515480995178, 0.8304515480995178, 0.8221418261528015, 0.820572018623352, 0.8064778447151184, 0.794363260269165, 0.7855495810508728, 0.7855495810508728, 0.7855495810508728, 0.7838582992553711, 0.7823235988616943, 0.7823235988616943, 0.7823235988616943, 0.7746706008911133, 0.7746706008911133, 0.7693134546279907, 0.7682977318763733, 0.7680973410606384, 0.7680579423904419, 0.7680579423904419, 0.7680579423904419, 0.7680579423904419, 0.7680579423904419, 0.7680016756057739, 0.7663156986236572, 0.7663156986236572, 0.7663156986236572, 0.7657234072685242, 0.763256311416626, 0.7602769136428833, 0.7593881487846375, 1.0000001192092896, 1.0000001192092896, 1.0000001192092896, 1.0000001192092896, 1.0000001192092896, 1.0000001192092896, 1.0000001192092896, 1.0000001192092896, 1.0000001192092896, 0.9927563071250916, 0.9452508687973022, 0.9452508687973022, 0.9452508687973022, 0.9452508687973022, 0.9251319169998169, 0.9200519919395447, 0.9200519919395447, 0.9136869311332703, 0.9054660797119141, 0.89763343334198, 0.8828694224357605, 0.8684292435646057, 0.8483601212501526, 0.8438881635665894, 0.8424009680747986, 0.8368710279464722, 0.8324595093727112, 0.8295950889587402, 0.8277209401130676, 0.8276130557060242, 0.8258223533630371, 0.8243687748908997, 0.8243687748908997, 0.8243687748908997, 0.8193985819816589, 0.8193662762641907, 0.8146452903747559, 0.8146452903747559, 0.8146452903747559, 0.8114499449729919, 0.8114499449729919, 0.9468265175819397, 0.8947436809539795, 0.8796350955963135, 0.8687880039215088, 0.8620895743370056, 0.8613554239273071, 0.8588920831680298, 0.8544516563415527, 0.8496817350387573, 0.8496817350387573, 0.8496817350387573, 0.8496817350387573, 0.8482968807220459, 0.8419350385665894, 0.8419350385665894, 0.8397045731544495, 0.8397045731544495, 0.8371249437332153, 0.818954586982727, 0.818954586982727, 0.818654477596283, 0.8155856728553772, 0.8064849376678467, 0.8000234961509705, 0.7943310141563416, 0.7926051020622253, 0.7889665365219116, 0.7889665365219116, 0.7887517809867859, 0.7855013608932495, 0.7803846597671509, 0.7702526450157166, 0.7683843374252319, 0.7674529552459717, 0.7625212073326111, 0.758752703666687, 0.7576194405555725, 0.7567411065101624, 0.7566778063774109, 0.7549323439598083, 0.7511546015739441, 0.9468265175819397, 0.8947436809539795, 0.8796350955963135, 0.8687880039215088, 0.8620895743370056, 0.8613554239273071, 0.8588920831680298, 0.8544516563415527, 0.8496817350387573, 0.8496817350387573, 0.8496817350387573, 0.8496817350387573, 0.8482968807220459, 0.8419350385665894, 0.8419350385665894, 0.8397045731544495, 0.8397045731544495, 0.8371249437332153, 0.818954586982727, 0.818954586982727, 0.818654477596283, 0.8155856728553772, 0.8064849376678467, 0.8000234961509705, 0.7943310141563416, 0.7926051020622253, 0.7889665365219116, 0.7889665365219116, 0.7887517809867859, 0.7855013608932495, 0.7803846597671509, 0.7702526450157166, 0.7683843374252319, 0.7674529552459717, 0.7625212073326111, 0.758752703666687, 0.7576194405555725, 0.7567411065101624, 0.7566778063774109, 0.7549323439598083, 0.7511546015739441, 0.8965716361999512, 0.865922749042511, 0.8526025414466858, 0.8503074645996094, 0.8375924825668335, 0.8375924825668335, 0.8375924825668335, 0.8374204635620117, 0.8342785835266113, 0.8304515480995178, 0.8304515480995178, 0.8304515480995178, 0.8221418261528015, 0.820572018623352, 0.8064778447151184, 0.794363260269165, 0.7855495810508728, 0.7855495810508728, 0.7855495810508728, 0.7838582992553711, 0.7823235988616943, 0.7823235988616943, 0.7823235988616943, 0.7746706008911133, 0.7746706008911133, 0.7693134546279907, 0.7682977318763733, 0.7680973410606384, 0.7680579423904419, 0.7680579423904419, 0.7680579423904419, 0.7680579423904419, 0.7680579423904419, 0.7680016756057739, 0.7663156986236572, 0.7663156986236572, 0.7663156986236572, 0.7657234072685242, 0.763256311416626, 0.7602769136428833, 0.7593881487846375, 1.0000001192092896, 1.0000001192092896, 1.0000001192092896, 1.0000001192092896, 1.0000001192092896, 1.0000001192092896, 1.0000001192092896, 1.0000001192092896, 1.0000001192092896, 0.9927563071250916, 0.9452508687973022, 0.9452508687973022, 0.9452508687973022, 0.9452508687973022, 0.9251319169998169, 0.9200519919395447, 0.9200519919395447, 0.9136869311332703, 0.9054660797119141, 0.89763343334198, 0.8828694224357605, 0.8684292435646057, 0.8483601212501526, 0.8438881635665894, 0.8424009680747986, 0.8368710279464722, 0.8324595093727112, 0.8295950889587402, 0.8277209401130676, 0.8276130557060242, 0.8258223533630371, 0.8243687748908997, 0.8243687748908997, 0.8243687748908997, 0.8193985819816589, 0.8193662762641907, 0.8146452903747559, 0.8146452903747559, 0.8146452903747559, 0.8114499449729919, 0.8114499449729919, 0.9468265175819397, 0.8947436809539795, 0.8796350955963135, 0.8687880039215088, 0.8620895743370056, 0.8613554239273071, 0.8588920831680298, 0.8544516563415527, 0.8496817350387573, 0.8496817350387573, 0.8496817350387573, 0.8496817350387573, 0.8482968807220459, 0.8419350385665894, 0.8419350385665894, 0.8397045731544495, 0.8397045731544495, 0.8371249437332153, 0.818954586982727, 0.818954586982727, 0.818654477596283, 0.8155856728553772, 0.8064849376678467, 0.8000234961509705, 0.7943310141563416, 0.7926051020622253, 0.7889665365219116, 0.7889665365219116, 0.7887517809867859, 0.7855013608932495, 0.7803846597671509, 0.7702526450157166, 0.7683843374252319, 0.7674529552459717, 0.7625212073326111, 0.758752703666687, 0.7576194405555725, 0.7567411065101624, 0.7566778063774109, 0.7549323439598083, 0.7511546015739441, 0.8794457912445068, 0.8794457912445068, 0.8784847259521484, 0.8690253496170044, 0.8690253496170044, 0.867087185382843, 0.8662586212158203, 0.8596116900444031, 0.8596116900444031, 0.8540225028991699, 0.8497336506843567, 0.8497336506843567, 0.8483266830444336, 0.8338732719421387, 0.8336036801338196, 0.8328957557678223, 0.8291103839874268, 0.820695161819458, 0.820695161819458, 0.8134678602218628, 0.8062784075737, 0.7937476634979248, 0.7937476634979248, 0.7937476634979248, 0.7834206819534302, 0.7834206819534302, 0.7834206819534302, 0.7834206819534302, 0.7834206819534302, 0.7797865271568298, 0.7765061259269714, 0.7765061259269714, 0.7765061259269714, 0.7759801149368286, 0.7746627330780029, 0.7746627330780029, 0.7742090225219727, 0.7742090225219727, 0.7737841606140137, 0.7651283740997314, 0.7476723194122314, 0.8834656476974487, 0.8790454864501953, 0.8790454864501953, 0.8716930747032166, 0.8682700395584106, 0.8682700395584106, 0.8663719892501831, 0.8607791662216187, 0.8607791662216187, 0.8588335514068604, 0.8502942323684692, 0.8452545404434204, 0.8452545404434204, 0.8396735787391663, 0.8351118564605713, 0.8334347009658813, 0.8315479159355164, 0.8227681517601013, 0.8227681517601013, 0.8181366920471191, 0.8102051615715027, 0.7941124439239502, 0.7941124439239502, 0.7941124439239502, 0.7872361540794373, 0.7872361540794373, 0.7872361540794373, 0.7872361540794373, 0.7872361540794373, 0.7801184058189392, 0.7798235416412354, 0.7798235416412354, 0.7798235416412354, 0.7780921459197998, 0.7771652340888977, 0.7771652340888977, 0.7770695686340332, 0.7747765779495239, 0.7747765779495239, 0.7616468667984009, 0.7470914125442505, 1.0, 1.0, 1.0, 1.0, 1.0, 1.0, 1.0, 1.0, 1.0, 1.0, 1.0, 1.0, 1.0, 1.0, 1.0, 1.0, 1.0, 1.0, 1.0, 1.0, 1.0, 1.0, 0.9900484085083008, 0.9896509647369385, 0.9801968336105347, 0.9528630971908569, 0.9528630971908569, 0.9396994113922119, 0.9396994113922119, 0.9116767644882202, 0.9027641415596008, 0.8989138007164001, 0.8923777937889099, 0.8821513056755066, 0.8813478350639343, 0.8719934225082397, 0.8711957931518555, 0.8711957931518555, 0.8711957931518555, 0.8706673383712769, 0.8690966963768005, 0.8436610102653503, 0.8436610102653503, 0.8433859348297119, 0.8369379043579102, 0.825229287147522, 0.8208569884300232, 0.8162757754325867, 0.8162757754325867, 0.8085585832595825, 0.8054484724998474, 0.7932051420211792, 0.7932051420211792, 0.7926450967788696, 0.7891616821289062, 0.7888342142105103, 0.7888342142105103, 0.7868662476539612, 0.7868215441703796, 0.7862323522567749, 0.7851698994636536, 0.7851698994636536, 0.7834347486495972, 0.7834347486495972, 0.7826142311096191, 0.7826142311096191, 0.7826142311096191, 0.7826142311096191, 0.7826142311096191, 0.7749543786048889, 0.7749543786048889, 0.7749543786048889, 0.7738732099533081, 0.7735525369644165, 0.7735525369644165, 0.7729343175888062, 0.7638723254203796, 0.7591098546981812, 0.7567384243011475, 0.7567384243011475, 0.7542982697486877, 0.750883936882019, 0.8794457912445068, 0.8794457912445068, 0.8784847259521484, 0.8690253496170044, 0.8690253496170044, 0.867087185382843, 0.8662586212158203, 0.8596116900444031, 0.8596116900444031, 0.8540225028991699, 0.8497336506843567, 0.8497336506843567, 0.8483266830444336, 0.8338732719421387, 0.8336036801338196, 0.8328957557678223, 0.8291103839874268, 0.820695161819458, 0.820695161819458, 0.8134678602218628, 0.8062784075737, 0.7937476634979248, 0.7937476634979248, 0.7937476634979248, 0.7834206819534302, 0.7834206819534302, 0.7834206819534302, 0.7834206819534302, 0.7834206819534302, 0.7797865271568298, 0.7765061259269714, 0.7765061259269714, 0.7765061259269714, 0.7759801149368286, 0.7746627330780029, 0.7746627330780029, 0.7742090225219727, 0.7742090225219727, 0.7737841606140137, 0.7651283740997314, 0.7476723194122314, 0.8834656476974487, 0.8790454864501953, 0.8790454864501953, 0.8716930747032166, 0.8682700395584106, 0.8682700395584106, 0.8663719892501831, 0.8607791662216187, 0.8607791662216187, 0.8588335514068604, 0.8502942323684692, 0.8452545404434204, 0.8452545404434204, 0.8396735787391663, 0.8351118564605713, 0.8334347009658813, 0.8315479159355164, 0.8227681517601013, 0.8227681517601013, 0.8181366920471191, 0.8102051615715027, 0.7941124439239502, 0.7941124439239502, 0.7941124439239502, 0.7872361540794373, 0.7872361540794373, 0.7872361540794373, 0.7872361540794373, 0.7872361540794373, 0.7801184058189392, 0.7798235416412354, 0.7798235416412354, 0.7798235416412354, 0.7780921459197998, 0.7771652340888977, 0.7771652340888977, 0.7770695686340332, 0.7747765779495239, 0.7747765779495239, 0.7616468667984009, 0.7470914125442505, 1.0, 1.0, 1.0, 1.0, 1.0, 1.0, 1.0, 1.0, 1.0, 1.0, 1.0, 1.0, 1.0, 1.0, 1.0, 1.0, 1.0, 1.0, 1.0, 1.0, 1.0, 1.0, 0.9900484085083008, 0.9896509647369385, 0.9801968336105347, 0.9528630971908569, 0.9528630971908569, 0.9396994113922119, 0.9396994113922119, 0.9116767644882202, 0.9027641415596008, 0.8989138007164001, 0.8923777937889099, 0.8821513056755066, 0.8813478350639343, 0.8719934225082397, 0.8711957931518555, 0.8711957931518555, 0.8711957931518555, 0.8706673383712769, 0.8690966963768005, 0.8436610102653503, 0.8436610102653503, 0.8433859348297119, 0.8369379043579102, 0.825229287147522, 0.8208569884300232, 0.8162757754325867, 0.8162757754325867, 0.8085585832595825, 0.8054484724998474, 0.7932051420211792, 0.7932051420211792, 0.7926450967788696, 0.7891616821289062, 0.7888342142105103, 0.7888342142105103, 0.7868662476539612, 0.7868215441703796, 0.7862323522567749, 0.7851698994636536, 0.7851698994636536, 0.7834347486495972, 0.7834347486495972, 0.7826142311096191, 0.7826142311096191, 0.7826142311096191, 0.7826142311096191, 0.7826142311096191, 0.7749543786048889, 0.7749543786048889, 0.7749543786048889, 0.7738732099533081, 0.7735525369644165, 0.7735525369644165, 0.7729343175888062, 0.7638723254203796, 0.7591098546981812, 0.7567384243011475, 0.7567384243011475, 0.7542982697486877, 0.750883936882019, 0.9729369878768921, 0.9378409385681152, 0.9367839097976685, 0.930905282497406, 0.9194040298461914, 0.9139200448989868, 0.912841260433197, 0.912841260433197, 0.9076521396636963, 0.8859456777572632, 0.8813002705574036, 0.878834068775177, 0.878834068775177, 0.8779889941215515, 0.8763647079467773, 0.8728282451629639, 0.8700854778289795, 0.8693118691444397, 0.8668837547302246, 0.866553783416748, 0.857420802116394, 0.8569439649581909, 0.8539477586746216, 0.8539477586746216, 0.853687047958374, 0.8535317778587341, 0.8512336015701294, 0.844699501991272, 0.8439221382141113, 0.829987645149231, 0.829125702381134, 0.8284497261047363, 0.8280516266822815, 0.82573401927948, 0.8243188261985779, 0.8205113410949707, 0.8195643424987793, 0.8193523287773132, 0.8179498910903931, 0.8149603009223938, 0.8149603009223938, 0.911231517791748, 0.9062024354934692, 0.9056870341300964, 0.9056870341300964, 0.8903895616531372, 0.8822072744369507, 0.8745130896568298, 0.8582799434661865, 0.8572845458984375, 0.8505495190620422, 0.8505495190620422, 0.8455908298492432, 0.8390945196151733, 0.8380390405654907, 0.830964207649231, 0.8300701975822449, 0.8290912508964539, 0.8287513256072998, 0.8227652907371521, 0.8224103450775146, 0.8194433450698853, 0.8180016875267029, 0.8176114559173584, 0.8159886598587036, 0.8141642808914185, 0.8121335506439209, 0.8121335506439209, 0.8115015625953674, 0.8101100325584412, 0.809411883354187, 0.807533860206604, 0.807533860206604, 0.8072469234466553, 0.8059313297271729, 0.8051468729972839, 0.8026597499847412, 0.8013622760772705, 0.7999041080474854, 0.7976597547531128, 0.7964744567871094, 0.7959005832672119, 0.7814693450927734, 0.7363389730453491, 0.7363389730453491, 0.7363389730453491, 0.7263975739479065, 0.7252312302589417, 0.7178820371627808, 0.7177772521972656, 0.7172784209251404, 0.7121984958648682, 0.7039656639099121, 0.694223165512085, 0.6869242191314697, 0.6674089431762695, 0.6658279895782471, 0.6580877304077148, 0.6545461416244507, 0.6520233154296875, 0.6520233154296875, 0.6508787870407104, 0.6495074033737183, 0.6419552564620972, 0.6393580436706543, 0.6371086239814758, 0.6351751685142517, 0.6351751685142517, 0.6306595802307129, 0.6275777220726013, 0.6275777220726013, 0.6266812086105347, 0.624549925327301, 0.6241674423217773, 0.6228458285331726, 0.6228458285331726, 0.6222013235092163, 0.622161865234375, 0.61704421043396, 0.6160329580307007, 0.609229326248169, 0.6058465838432312, 0.6012109518051147, 0.9427706003189087, 0.9062951803207397, 0.9047209024429321, 0.9047209024429321, 0.8993239998817444, 0.8981375098228455, 0.8829247951507568, 0.8659026026725769, 0.8511789441108704, 0.8504128456115723, 0.8497911095619202, 0.8497911095619202, 0.8471345901489258, 0.8471345901489258, 0.8447177410125732, 0.8410201668739319, 0.83957839012146, 0.8385570049285889, 0.8378322124481201, 0.8342377543449402, 0.8338267803192139, 0.8332780599594116, 0.8309563398361206, 0.8306030035018921, 0.82956463098526, 0.82956463098526, 0.8253822326660156, 0.8202883005142212, 0.8202623128890991, 0.8192474842071533, 0.8185029625892639, 0.8181504011154175, 0.8173012733459473, 0.8156272172927856, 0.8126488924026489, 0.8086466193199158, 0.8081861138343811, 0.8061347007751465, 0.8061347007751465, 0.8060280084609985, 0.8060280084609985, 0.9097391963005066, 0.8460469245910645, 0.8460469245910645, 0.8460469245910645, 0.802811861038208, 0.8005372285842896, 0.8005372285842896, 0.7937288284301758, 0.7434825897216797, 0.7234790325164795, 0.7182866334915161, 0.7143551111221313, 0.7059990763664246, 0.7023681402206421, 0.7023681402206421, 0.7023681402206421, 0.6977938413619995, 0.6840468645095825, 0.6840468645095825, 0.6840468645095825, 0.6840468645095825, 0.6840468645095825, 0.6840468645095825, 0.6833488941192627, 0.682421088218689, 0.682421088218689, 0.682421088218689, 0.6778498291969299, 0.6778498291969299, 0.6778498291969299, 0.6777706146240234, 0.6707901358604431, 0.6689879298210144, 0.6689879298210144, 0.6687225103378296, 0.6682268381118774, 0.6646579504013062, 0.655017614364624, 0.655017614364624, 0.6511251926422119, 0.6429445147514343, 0.9097391963005066, 0.8460469245910645, 0.8460469245910645, 0.8460469245910645, 0.802811861038208, 0.8005372285842896, 0.8005372285842896, 0.7937288284301758, 0.7434825897216797, 0.7234790325164795, 0.7182866334915161, 0.7143551111221313, 0.7059990763664246, 0.7023681402206421, 0.7023681402206421, 0.7023681402206421, 0.6977938413619995, 0.6840468645095825, 0.6840468645095825, 0.6840468645095825, 0.6840468645095825, 0.6840468645095825, 0.6840468645095825, 0.6833488941192627, 0.682421088218689, 0.682421088218689, 0.682421088218689, 0.6778498291969299, 0.6778498291969299, 0.6778498291969299, 0.6777706146240234, 0.6707901358604431, 0.6689879298210144, 0.6689879298210144, 0.6687225103378296, 0.6682268381118774, 0.6646579504013062, 0.655017614364624, 0.655017614364624, 0.6511251926422119, 0.6429445147514343, 0.9493467807769775, 0.9244412779808044, 0.9042685031890869, 0.9035261273384094, 0.896577000617981, 0.8941102623939514, 0.8837569355964661, 0.8783575892448425, 0.8668264746665955, 0.8628257513046265, 0.8594658374786377, 0.8473003506660461, 0.8402186632156372, 0.8380661010742188, 0.8347304463386536, 0.8234688639640808, 0.8110145926475525, 0.8080711364746094, 0.7955562472343445, 0.7902815937995911, 0.7651933431625366, 0.7450246810913086, 0.7424039244651794, 0.734421968460083, 0.7063576579093933, 0.705629825592041, 0.7025793194770813, 0.6987249255180359, 0.6933835744857788, 0.6888644099235535, 0.6811469197273254, 0.6751523017883301, 0.6655810475349426, 0.6652465462684631, 0.6652465462684631, 0.6629372239112854, 0.6629372239112854, 0.6629372239112854, 0.6627476215362549, 0.6530790328979492, 0.6520212888717651, 0.9352506995201111, 0.9062347412109375, 0.9062347412109375, 0.9062347412109375, 0.8485581874847412, 0.8131669759750366, 0.7897839546203613, 0.7897839546203613, 0.774122953414917, 0.7654568552970886, 0.7641631364822388, 0.7478988170623779, 0.7422770857810974, 0.7409576773643494, 0.7409576773643494, 0.7409576773643494, 0.738761842250824, 0.738761842250824, 0.738761842250824, 0.738761842250824, 0.738761842250824, 0.738761842250824, 0.7357392311096191, 0.717276930809021, 0.717276930809021, 0.7171168327331543, 0.7171168327331543, 0.7171168327331543, 0.716755747795105, 0.7047099471092224, 0.7047099471092224, 0.6765755414962769, 0.6715120077133179, 0.6715120077133179, 0.6682698130607605, 0.6607940196990967, 0.6607940196990967, 0.6607940196990967, 0.6605090498924255, 0.6581626534461975, 0.6559146642684937, 0.9177365303039551, 0.9119845628738403, 0.9096488952636719, 0.9096488952636719, 0.9081484079360962, 0.904251217842102, 0.9018292427062988, 0.9018292427062988, 0.8618725538253784, 0.8584439754486084, 0.8584439754486084, 0.8584439754486084, 0.8582825660705566, 0.8569478988647461, 0.8542189598083496, 0.8541035652160645, 0.8541035652160645, 0.8513533473014832, 0.8485958576202393, 0.8485958576202393, 0.8482905626296997, 0.8478075861930847, 0.8451354503631592, 0.8448294401168823, 0.8437269330024719, 0.8431684374809265, 0.8390293717384338, 0.8390293717384338, 0.8378759622573853, 0.8347932696342468, 0.8284028768539429, 0.827637791633606, 0.8214833736419678, 0.8212018013000488, 0.8194168210029602, 0.8186293244361877, 0.8182486295700073, 0.814314603805542, 0.8141485452651978, 0.8141485452651978, 0.808264434337616, 0.9976428151130676, 0.9781461954116821, 0.9781461954116821, 0.9781461954116821, 0.9672877192497253, 0.9546871185302734, 0.948370099067688, 0.9467965364456177, 0.9439631700515747, 0.9439631700515747, 0.9429830312728882, 0.9429830312728882, 0.9393165707588196, 0.9393165707588196, 0.9247792363166809, 0.9160881042480469, 0.9152786731719971, 0.8973325490951538, 0.8946511745452881, 0.8854105472564697, 0.8774775266647339, 0.8768754005432129, 0.8726288080215454, 0.8686153888702393, 0.8574738502502441, 0.8558905124664307, 0.8558905124664307, 0.8549875020980835, 0.8549690842628479, 0.8540439605712891, 0.8517740964889526, 0.8517740964889526, 0.8514063358306885, 0.8505016565322876, 0.8435962796211243, 0.8400490880012512, 0.838626503944397, 0.8379431962966919, 0.8377485275268555, 0.836715817451477, 0.836715817451477, 0.9885457754135132, 0.9566552639007568, 0.9553619623184204, 0.9443875551223755, 0.9443875551223755, 0.9443875551223755, 0.9443875551223755, 0.9443875551223755, 0.9332281947135925, 0.9332281947135925, 0.9304504990577698, 0.9304504990577698, 0.9271864891052246, 0.9207314848899841, 0.9203027486801147, 0.9121007323265076, 0.9121007323265076, 0.9108822345733643, 0.9073163270950317, 0.9037560224533081, 0.9017616510391235, 0.9002354741096497, 0.8997653722763062, 0.8978051543235779, 0.8923460245132446, 0.8923460245132446, 0.8756341934204102, 0.8687677383422852, 0.8685656785964966, 0.8685656785964966, 0.8679837584495544, 0.8676613569259644, 0.8626586198806763, 0.858870804309845, 0.8570171594619751, 0.8570171594619751, 0.8561842441558838, 0.8547975420951843, 0.8519195318222046, 0.8489540219306946, 0.8447374701499939, 1.0, 1.0, 1.0, 1.0, 1.0, 1.0, 1.0, 1.0, 1.0, 1.0, 1.0, 1.0, 1.0, 1.0, 1.0, 1.0, 1.0, 1.0, 1.0, 1.0, 1.0, 1.0, 1.0, 0.9900484085083008, 0.9896509647369385, 0.9801968336105347, 0.9528630971908569, 0.9528630971908569, 0.9396994113922119, 0.9396994113922119, 0.9116767644882202, 0.9027641415596008, 0.8989138007164001, 0.8923777937889099, 0.8821513056755066, 0.8813478350639343, 0.8719934225082397, 0.8711957931518555, 0.8711957931518555, 0.8711957931518555, 0.8706673383712769, 0.9976428151130676, 0.9781461954116821, 0.9781461954116821, 0.9781461954116821, 0.9672877192497253, 0.9546871185302734, 0.948370099067688, 0.9467965364456177, 0.9439631700515747, 0.9439631700515747, 0.9429830312728882, 0.9429830312728882, 0.9393165707588196, 0.9393165707588196, 0.9247792363166809, 0.9160881042480469, 0.9152786731719971, 0.8973325490951538, 0.8946511745452881, 0.8854105472564697, 0.8774775266647339, 0.8768754005432129, 0.8726288080215454, 0.8686153888702393, 0.8574738502502441, 0.8558905124664307, 0.8558905124664307, 0.8549875020980835, 0.8549690842628479, 0.8540439605712891, 0.8517740964889526, 0.8517740964889526, 0.8514063358306885, 0.8505016565322876, 0.8435962796211243, 0.8400490880012512, 0.838626503944397, 0.8379431962966919, 0.8377485275268555, 0.836715817451477, 0.836715817451477, 0.8496619462966919, 0.8316603899002075, 0.8291205167770386, 0.7820874452590942, 0.7820874452590942, 0.7793135643005371, 0.7779886722564697, 0.7681766152381897, 0.7660828232765198, 0.7660626173019409, 0.759757936000824, 0.7574115991592407, 0.7509980797767639, 0.7509980797767639, 0.7480287551879883, 0.747874915599823, 0.7464084625244141, 0.7442857027053833, 0.7304282188415527, 0.7271254062652588, 0.7256792783737183, 0.7223233580589294, 0.7193299531936646, 0.7148916721343994, 0.7131490707397461, 0.7131490707397461, 0.7131490707397461, 0.7104533910751343, 0.7102032899856567, 0.7059305310249329, 0.705155074596405, 0.7043361663818359, 0.7017303705215454, 0.7012844085693359, 0.6991230845451355, 0.6979132890701294, 0.6979132890701294, 0.6968877911567688, 0.6968877911567688, 0.6958479881286621, 0.6926758885383606, 0.888468325138092, 0.8740639686584473, 0.8740639686584473, 0.839499294757843, 0.8171102404594421, 0.7892820835113525, 0.7716412544250488, 0.7625787258148193, 0.7614648938179016, 0.7585111260414124, 0.7436127066612244, 0.7413585186004639, 0.7396209239959717, 0.7383204698562622, 0.732237696647644, 0.7223139405250549, 0.7209348678588867, 0.7193589806556702, 0.7191710472106934, 0.7173556089401245, 0.7173556089401245, 0.7173556089401245, 0.7160305380821228, 0.7105890512466431, 0.7105890512466431, 0.7099814414978027, 0.7099814414978027, 0.709675669670105, 0.709675669670105, 0.7067266702651978, 0.7020403742790222, 0.7020403742790222, 0.6996925473213196, 0.6996925473213196, 0.6958529353141785, 0.6957566738128662, 0.6949033737182617, 0.6905200481414795, 0.6873031854629517, 0.6838266849517822, 0.6832725405693054, 0.9392657279968262, 0.937486469745636, 0.937486469745636, 0.9177169799804688, 0.9159396290779114, 0.9090681076049805, 0.9082458019256592, 0.8768402338027954, 0.863286554813385, 0.8544623851776123, 0.8470874428749084, 0.8467859029769897, 0.8279964923858643, 0.8279964923858643, 0.8144291639328003, 0.8061329126358032, 0.8033008575439453, 0.7992948889732361, 0.7991962432861328, 0.7991962432861328, 0.7977946996688843, 0.7957998514175415, 0.7957065105438232, 0.7957065105438232, 0.7952762842178345, 0.7945574522018433, 0.7909247875213623, 0.7905585169792175, 0.7905585169792175, 0.7904382944107056, 0.7894957661628723, 0.7872904539108276, 0.7818305492401123, 0.7767595648765564, 0.7729334831237793, 0.7643652558326721, 0.7643652558326721, 0.7643652558326721, 0.760437548160553, 0.7590619325637817, 0.7552293539047241, 0.7740089297294617, 0.6601051688194275, 0.6499941945075989, 0.6499941945075989, 0.6499941945075989, 0.6011600494384766, 0.5494610071182251, 0.5489139556884766, 0.5479736924171448, 0.5408487319946289, 0.536536455154419, 0.5154673457145691, 0.5096901059150696, 0.5096901059150696, 0.5015838146209717, 0.4914649724960327, 0.48952680826187134, 0.4888879060745239, 0.48267731070518494, 0.4739132821559906, 0.4738684296607971, 0.47251269221305847, 0.4635715186595917, 0.463055282831192, 0.4609200656414032, 0.4609200656414032, 0.45866039395332336, 0.45724257826805115, 0.4571450352668762, 0.45664116740226746, 0.45239198207855225, 0.45110711455345154, 0.44799384474754333, 0.4469219446182251, 0.44589775800704956, 0.44503143429756165, 0.4438329041004181, 0.4424950182437897, 0.44189974665641785, 0.44158935546875, 0.44095444679260254, 0.9295533299446106, 0.8948701620101929, 0.8913988471031189, 0.8451665639877319, 0.8430330753326416, 0.8430330753326416, 0.8430330753326416, 0.8350811004638672, 0.8350811004638672, 0.8343669772148132, 0.8343669772148132, 0.8340076804161072, 0.8340076804161072, 0.8250346779823303, 0.8250346779823303, 0.8222755193710327, 0.8222755193710327, 0.8166473507881165, 0.8077155947685242, 0.8029788136482239, 0.8029788136482239, 0.8029788136482239, 0.8029788136482239, 0.8027662038803101, 0.8009745478630066, 0.8009745478630066, 0.8009745478630066, 0.8009745478630066, 0.8004589080810547, 0.8003147840499878, 0.8003147840499878, 0.7988631129264832, 0.7926620244979858, 0.7840428948402405, 0.781478762626648, 0.781478762626648, 0.781478762626648, 0.7814330458641052, 0.7735247015953064, 0.7735247015953064, 0.7734465003013611, 0.9397629499435425, 0.8875511884689331, 0.8875511884689331, 0.8847531080245972, 0.8697603344917297, 0.8548679351806641, 0.8530961275100708, 0.8530961275100708, 0.8446482419967651, 0.8446482419967651, 0.8439888954162598, 0.8386262059211731, 0.8386262059211731, 0.8320510983467102, 0.8246565461158752, 0.8227728009223938, 0.822283923625946, 0.8219903707504272, 0.8180465698242188, 0.8145291805267334, 0.8125015497207642, 0.8114362955093384, 0.8098089694976807, 0.809200644493103, 0.8088093400001526, 0.807871401309967, 0.807871401309967, 0.8075544238090515, 0.8069504499435425, 0.8052990436553955, 0.8052990436553955, 0.8030548095703125, 0.8025611639022827, 0.8025611639022827, 0.8015856742858887, 0.8014807105064392, 0.8009642362594604, 0.7995397448539734, 0.7995397448539734, 0.7995397448539734, 0.7995397448539734, 0.9062701463699341, 0.8066403865814209, 0.7807842493057251, 0.7754436135292053, 0.7754436135292053, 0.7721590995788574, 0.7709296941757202, 0.7660318613052368, 0.7555851340293884, 0.7474518418312073, 0.739905834197998, 0.7387206554412842, 0.7308815121650696, 0.7242128849029541, 0.7224470973014832, 0.7224470973014832, 0.7222779989242554, 0.7222779989242554, 0.7147607803344727, 0.7140258550643921, 0.7140258550643921, 0.7107537388801575, 0.7107537388801575, 0.7083965539932251, 0.7059696912765503, 0.7031418085098267, 0.7031418085098267, 0.7030802965164185, 0.7021714448928833, 0.7005205154418945, 0.6991653442382812, 0.6965649724006653, 0.6953229904174805, 0.694598913192749, 0.6899999380111694, 0.6868244409561157, 0.6859696507453918, 0.6854541301727295, 0.682839572429657, 0.682679295539856, 0.6761291027069092, 0.7657651305198669, 0.765670657157898, 0.765670657157898, 0.7045257091522217, 0.6774738430976868, 0.6623104810714722, 0.6531696319580078, 0.6457844376564026, 0.6261519193649292, 0.6219725608825684, 0.620654284954071, 0.6191982626914978, 0.6191982626914978, 0.609624981880188, 0.6091108918190002, 0.5965717434883118, 0.581506609916687, 0.5733853578567505, 0.5695885419845581, 0.5630911588668823, 0.5626384615898132, 0.5626384615898132, 0.5566037893295288, 0.5534744262695312, 0.5534337759017944, 0.5464982390403748, 0.5455524921417236, 0.5422582030296326, 0.5378354787826538, 0.5354601740837097, 0.5324081778526306, 0.5286108255386353, 0.5286108255386353, 0.5253465175628662, 0.5238779187202454, 0.5238779187202454, 0.5236217975616455, 0.5236217975616455, 0.5230088829994202, 0.5219463109970093, 0.5219463109970093, 0.8699556589126587, 0.8401718139648438, 0.8081323504447937, 0.7457098960876465, 0.7355364561080933, 0.7078714370727539, 0.6952799558639526, 0.6634620428085327, 0.6614522933959961, 0.651466965675354, 0.6480213403701782, 0.6411024928092957, 0.6411024928092957, 0.630544126033783, 0.6179158687591553, 0.5934650897979736, 0.5934650897979736, 0.5765975117683411, 0.5750842690467834, 0.5747420191764832, 0.5747420191764832, 0.5687912702560425, 0.5666857361793518, 0.5634992718696594, 0.5547699332237244, 0.5532349944114685, 0.5532349944114685, 0.5531227588653564, 0.5424010753631592, 0.534174382686615, 0.5318097472190857, 0.5317988395690918, 0.5218935012817383, 0.5191609263420105, 0.5153648257255554, 0.5152435302734375, 0.5109545588493347, 0.5074003338813782, 0.5074003338813782, 0.5046405792236328, 0.4892565608024597, 0.9062701463699341, 0.8066403865814209, 0.7807842493057251, 0.7754436135292053, 0.7754436135292053, 0.7721590995788574, 0.7709296941757202, 0.7660318613052368, 0.7555851340293884, 0.7474518418312073, 0.739905834197998, 0.7387206554412842, 0.7308815121650696, 0.7242128849029541, 0.7224470973014832, 0.7224470973014832, 0.7222779989242554, 0.7222779989242554, 0.7147607803344727, 0.7140258550643921, 0.7140258550643921, 0.7107537388801575, 0.7107537388801575, 0.7083965539932251, 0.7059696912765503, 0.7031418085098267, 0.7031418085098267, 0.7030802965164185, 0.7021714448928833, 0.7005205154418945, 0.6991653442382812, 0.6965649724006653, 0.6953229904174805, 0.694598913192749, 0.6899999380111694, 0.6868244409561157, 0.6859696507453918, 0.6854541301727295, 0.682839572429657, 0.682679295539856, 0.6761291027069092, 1.0, 1.0, 1.0, 1.0, 1.0, 1.0, 1.0, 1.0, 1.0, 1.0, 1.0, 1.0, 1.0, 1.0, 1.0, 1.0, 0.9944208860397339, 0.9905295968055725, 0.9905295968055725, 0.9905295968055725, 0.9905295968055725, 0.9905295968055725, 0.9808494448661804, 0.9808494448661804, 0.9808494448661804, 0.9798116683959961, 0.9744719862937927, 0.9744719862937927, 0.9669567346572876, 0.9669567346572876, 0.9545735120773315, 0.9545735120773315, 0.9545735120773315, 0.9504737854003906, 0.9452416300773621, 0.9452416300773621, 0.9452416300773621, 0.9435021281242371, 0.9435021281242371, 0.9435021281242371, 0.9411081671714783, 1.0, 1.0, 1.0, 1.0, 1.0, 1.0, 1.0, 1.0, 1.0, 1.0, 1.0, 1.0, 1.0, 1.0, 1.0, 1.0, 0.9944208860397339, 0.9905295968055725, 0.9905295968055725, 0.9905295968055725, 0.9905295968055725, 0.9905295968055725, 0.9808494448661804, 0.9808494448661804, 0.9808494448661804, 0.9798116683959961, 0.9744719862937927, 0.9744719862937927, 0.9669567346572876, 0.9669567346572876, 0.9545735120773315, 0.9545735120773315, 0.9545735120773315, 0.9504737854003906, 0.9452416300773621, 0.9452416300773621, 0.9452416300773621, 0.9435021281242371, 0.9435021281242371, 0.9435021281242371, 0.9411081671714783, 0.9398715496063232, 0.8832873106002808, 0.8832873106002808, 0.8765910863876343, 0.8765910863876343, 0.8613219261169434, 0.85297691822052, 0.8174898624420166, 0.8153170347213745, 0.8153170347213745, 0.8150414228439331, 0.8145659565925598, 0.7981322407722473, 0.796714723110199, 0.796714723110199, 0.7949091196060181, 0.7949091196060181, 0.7949091196060181, 0.7949091196060181, 0.789965033531189, 0.7816845774650574, 0.7759459614753723, 0.7740294933319092, 0.7740294933319092, 0.7737823128700256, 0.7737823128700256, 0.7715936899185181, 0.7668019533157349, 0.7651765942573547, 0.7616372108459473, 0.757994532585144, 0.7524065971374512, 0.7469854950904846, 0.7458614110946655, 0.743948757648468, 0.7415343523025513, 0.7399240732192993, 0.7387595176696777, 0.7381738424301147, 0.7381738424301147, 0.7327588200569153, 1.0, 1.0, 1.0, 1.0, 1.0, 1.0, 1.0, 1.0, 1.0, 1.0, 1.0, 1.0, 1.0, 1.0, 1.0, 1.0, 0.9944208860397339, 0.9905295968055725, 0.9905295968055725, 0.9905295968055725, 0.9905295968055725, 0.9905295968055725, 0.9808494448661804, 0.9808494448661804, 0.9808494448661804, 0.9798116683959961, 0.9744719862937927, 0.9744719862937927, 0.9669567346572876, 0.9669567346572876, 0.9545735120773315, 0.9545735120773315, 0.9545735120773315, 0.9504737854003906, 0.9452416300773621, 0.9452416300773621, 0.9452416300773621, 0.9435021281242371, 0.9435021281242371, 0.9435021281242371, 0.9411081671714783, 0.9695177674293518, 0.9695177674293518, 0.8968499898910522, 0.8879124522209167, 0.8777036070823669, 0.869175136089325, 0.8608163595199585, 0.8548109531402588, 0.8498772978782654, 0.8450978994369507, 0.8372255563735962, 0.8372255563735962, 0.8274361491203308, 0.8272621035575867, 0.8272621035575867, 0.8248668313026428, 0.824647843837738, 0.824647843837738, 0.8227121233940125, 0.8139113187789917, 0.8139113187789917, 0.812803328037262, 0.8058006763458252, 0.8058006763458252, 0.8054883480072021, 0.8052049279212952, 0.8043004274368286, 0.8029115200042725, 0.8003694415092468, 0.8003694415092468, 0.8003694415092468, 0.7991394996643066, 0.7981918454170227, 0.7955729365348816, 0.7937085628509521, 0.7933970093727112, 0.7858265042304993, 0.7858265042304993, 0.7858265042304993, 0.7836799621582031, 0.7836486101150513, 0.9867261648178101, 0.8480928540229797, 0.8342849016189575, 0.8257077932357788, 0.8212882876396179, 0.8086245059967041, 0.798618733882904, 0.7955759763717651, 0.7851859331130981, 0.7785604596138, 0.7779886722564697, 0.776634693145752, 0.7725645303726196, 0.7713494300842285, 0.7709022760391235, 0.7678614854812622, 0.7662478089332581, 0.7602005004882812, 0.7544737458229065, 0.7533233165740967, 0.752949595451355, 0.7451817989349365, 0.7451817989349365, 0.739663302898407, 0.7380138635635376, 0.7329596877098083, 0.7327721118927002, 0.7304404973983765, 0.7293397188186646, 0.7261651754379272, 0.7261400818824768, 0.7257462739944458, 0.725636899471283, 0.724058985710144, 0.7231282591819763, 0.7230076193809509, 0.7230076193809509, 0.7223924398422241, 0.7217037677764893, 0.7214125990867615, 0.7204875946044922, 0.7964389324188232, 0.7625125646591187, 0.7480269074440002, 0.7442456483840942, 0.7374163866043091, 0.7337620258331299, 0.7055330276489258, 0.687975287437439, 0.687975287437439, 0.6707243323326111, 0.6684048175811768, 0.6684048175811768, 0.6594491004943848, 0.6571454405784607, 0.6276423931121826, 0.6224017143249512, 0.6144704818725586, 0.6094651818275452, 0.6092750430107117, 0.6071212291717529, 0.6071212291717529, 0.6040551662445068, 0.5886058211326599, 0.5878739356994629, 0.5872795581817627, 0.5863760709762573, 0.581099808216095, 0.5750330090522766, 0.5746109485626221, 0.5744403600692749, 0.5723339915275574, 0.567828893661499, 0.564230740070343, 0.5633624792098999, 0.5627568960189819, 0.560238242149353, 0.560238242149353, 0.5581337809562683, 0.5543071627616882, 0.5492461919784546, 0.5487229228019714, 0.9734591841697693, 0.9734591841697693, 0.8995101451873779, 0.8904274702072144, 0.8837052583694458, 0.8661141991615295, 0.8659798502922058, 0.8624164462089539, 0.8540998101234436, 0.8297935128211975, 0.8289399147033691, 0.8289399147033691, 0.8245093822479248, 0.8167781829833984, 0.8159909248352051, 0.8117789030075073, 0.8117789030075073, 0.810989260673523, 0.8050928115844727, 0.8050928115844727, 0.8044023513793945, 0.8034543395042419, 0.8024153709411621, 0.8024153709411621, 0.8023885488510132, 0.8021827340126038, 0.8015308380126953, 0.7979112267494202, 0.7947000861167908, 0.791430652141571, 0.791430652141571, 0.7904989123344421, 0.789039671421051, 0.7869737148284912, 0.7869737148284912, 0.7855926752090454, 0.7824302911758423, 0.7817971706390381, 0.7815167903900146, 0.7809706926345825, 0.7808557748794556, 0.7290802597999573, 0.7043443918228149, 0.7037250995635986, 0.6905232667922974, 0.6622467041015625, 0.6457422971725464, 0.6334652304649353, 0.6311805248260498, 0.6308449506759644, 0.6292427778244019, 0.629122257232666, 0.6243160963058472, 0.6236589550971985, 0.6234256625175476, 0.6234256625175476, 0.6234256625175476, 0.6179705262184143, 0.6145740151405334, 0.6097652316093445, 0.6069437861442566, 0.6064525842666626, 0.6002575755119324, 0.5960756540298462, 0.5938910245895386, 0.593449056148529, 0.593168318271637, 0.593168318271637, 0.5927807092666626, 0.5927807092666626, 0.5923286080360413, 0.5861104726791382, 0.5861104726791382, 0.5861104726791382, 0.5836657881736755, 0.5807270407676697, 0.5799584984779358, 0.5790602564811707, 0.5784614086151123, 0.5759580731391907, 0.5757526159286499, 0.5720968842506409, 0.7896045446395874, 0.7564160823822021, 0.7036194801330566, 0.7019119262695312, 0.6999136209487915, 0.6969612240791321, 0.696027398109436, 0.696027398109436, 0.696027398109436, 0.6955785751342773, 0.6843704581260681, 0.6823499202728271, 0.678122341632843, 0.6771436333656311, 0.6770724058151245, 0.6684750318527222, 0.6677048206329346, 0.6625443696975708, 0.6625443696975708, 0.6617721319198608, 0.6458940505981445, 0.6456263661384583, 0.6453150510787964, 0.6435455083847046, 0.6429280042648315, 0.6373997926712036, 0.635347843170166, 0.6347757577896118, 0.6333044767379761, 0.6324875354766846, 0.6270365715026855, 0.6253798604011536, 0.6215487718582153, 0.6129730343818665, 0.6109079718589783, 0.6054584383964539, 0.604513943195343, 0.604513943195343, 0.6021690964698792, 0.6017323136329651, 0.5954934358596802, 0.8563268780708313, 0.8517469167709351, 0.7964529991149902, 0.7691663503646851, 0.7452988028526306, 0.7238565683364868, 0.698153018951416, 0.6474799513816833, 0.634543240070343, 0.6309434175491333, 0.618341326713562, 0.6144569516181946, 0.6068716645240784, 0.6017407774925232, 0.5997387170791626, 0.5997387170791626, 0.5956355929374695, 0.5928167700767517, 0.5867525935173035, 0.5804797410964966, 0.5797851085662842, 0.5776000618934631, 0.5771750807762146, 0.5746689438819885, 0.5683728456497192, 0.5683728456497192, 0.5666664838790894, 0.566632866859436, 0.5627018213272095, 0.5609595775604248, 0.5538551807403564, 0.5517821311950684, 0.5498220920562744, 0.5495703220367432, 0.5495703220367432, 0.5488632917404175, 0.5463428497314453, 0.5463428497314453, 0.5463428497314453, 0.5458165407180786, 0.5458165407180786, 0.7896045446395874, 0.7564160823822021, 0.7036194801330566, 0.7019119262695312, 0.6999136209487915, 0.6969612240791321, 0.696027398109436, 0.696027398109436, 0.696027398109436, 0.6955785751342773, 0.6843704581260681, 0.6823499202728271, 0.678122341632843, 0.6771436333656311, 0.6770724058151245, 0.6684750318527222, 0.6677048206329346, 0.6625443696975708, 0.6625443696975708, 0.6617721319198608, 0.6458940505981445, 0.6456263661384583, 0.6453150510787964, 0.6435455083847046, 0.6429280042648315, 0.6373997926712036, 0.635347843170166, 0.6347757577896118, 0.6333044767379761, 0.6324875354766846, 0.6270365715026855, 0.6253798604011536, 0.6215487718582153, 0.6129730343818665, 0.6109079718589783, 0.6054584383964539, 0.604513943195343, 0.604513943195343, 0.6021690964698792, 0.6017323136329651, 0.5954934358596802], \"xaxis\": \"x\", \"yaxis\": \"y\"}],\n",
              "                        {\"barmode\": \"relative\", \"legend\": {\"tracegroupgap\": 0}, \"template\": {\"data\": {\"bar\": [{\"error_x\": {\"color\": \"#2a3f5f\"}, \"error_y\": {\"color\": \"#2a3f5f\"}, \"marker\": {\"line\": {\"color\": \"#E5ECF6\", \"width\": 0.5}}, \"type\": \"bar\"}], \"barpolar\": [{\"marker\": {\"line\": {\"color\": \"#E5ECF6\", \"width\": 0.5}}, \"type\": \"barpolar\"}], \"carpet\": [{\"aaxis\": {\"endlinecolor\": \"#2a3f5f\", \"gridcolor\": \"white\", \"linecolor\": \"white\", \"minorgridcolor\": \"white\", \"startlinecolor\": \"#2a3f5f\"}, \"baxis\": {\"endlinecolor\": \"#2a3f5f\", \"gridcolor\": \"white\", \"linecolor\": \"white\", \"minorgridcolor\": \"white\", \"startlinecolor\": \"#2a3f5f\"}, \"type\": \"carpet\"}], \"choropleth\": [{\"colorbar\": {\"outlinewidth\": 0, \"ticks\": \"\"}, \"type\": \"choropleth\"}], \"contour\": [{\"colorbar\": {\"outlinewidth\": 0, \"ticks\": \"\"}, \"colorscale\": [[0.0, \"#0d0887\"], [0.1111111111111111, \"#46039f\"], [0.2222222222222222, \"#7201a8\"], [0.3333333333333333, \"#9c179e\"], [0.4444444444444444, \"#bd3786\"], [0.5555555555555556, \"#d8576b\"], [0.6666666666666666, \"#ed7953\"], [0.7777777777777778, \"#fb9f3a\"], [0.8888888888888888, \"#fdca26\"], [1.0, \"#f0f921\"]], \"type\": \"contour\"}], \"contourcarpet\": [{\"colorbar\": {\"outlinewidth\": 0, \"ticks\": \"\"}, \"type\": \"contourcarpet\"}], \"heatmap\": [{\"colorbar\": {\"outlinewidth\": 0, \"ticks\": \"\"}, \"colorscale\": [[0.0, \"#0d0887\"], [0.1111111111111111, \"#46039f\"], [0.2222222222222222, \"#7201a8\"], [0.3333333333333333, \"#9c179e\"], [0.4444444444444444, \"#bd3786\"], [0.5555555555555556, \"#d8576b\"], [0.6666666666666666, \"#ed7953\"], [0.7777777777777778, \"#fb9f3a\"], [0.8888888888888888, \"#fdca26\"], [1.0, \"#f0f921\"]], \"type\": \"heatmap\"}], \"heatmapgl\": [{\"colorbar\": {\"outlinewidth\": 0, \"ticks\": \"\"}, \"colorscale\": [[0.0, \"#0d0887\"], [0.1111111111111111, \"#46039f\"], [0.2222222222222222, \"#7201a8\"], [0.3333333333333333, \"#9c179e\"], [0.4444444444444444, \"#bd3786\"], [0.5555555555555556, \"#d8576b\"], [0.6666666666666666, \"#ed7953\"], [0.7777777777777778, \"#fb9f3a\"], [0.8888888888888888, \"#fdca26\"], [1.0, \"#f0f921\"]], \"type\": \"heatmapgl\"}], \"histogram\": [{\"marker\": {\"colorbar\": {\"outlinewidth\": 0, \"ticks\": \"\"}}, \"type\": \"histogram\"}], \"histogram2d\": [{\"colorbar\": {\"outlinewidth\": 0, \"ticks\": \"\"}, \"colorscale\": [[0.0, \"#0d0887\"], [0.1111111111111111, \"#46039f\"], [0.2222222222222222, \"#7201a8\"], [0.3333333333333333, \"#9c179e\"], [0.4444444444444444, \"#bd3786\"], [0.5555555555555556, \"#d8576b\"], [0.6666666666666666, \"#ed7953\"], [0.7777777777777778, \"#fb9f3a\"], [0.8888888888888888, \"#fdca26\"], [1.0, \"#f0f921\"]], \"type\": \"histogram2d\"}], \"histogram2dcontour\": [{\"colorbar\": {\"outlinewidth\": 0, \"ticks\": \"\"}, \"colorscale\": [[0.0, \"#0d0887\"], [0.1111111111111111, \"#46039f\"], [0.2222222222222222, \"#7201a8\"], [0.3333333333333333, \"#9c179e\"], [0.4444444444444444, \"#bd3786\"], [0.5555555555555556, \"#d8576b\"], [0.6666666666666666, \"#ed7953\"], [0.7777777777777778, \"#fb9f3a\"], [0.8888888888888888, \"#fdca26\"], [1.0, \"#f0f921\"]], \"type\": \"histogram2dcontour\"}], \"mesh3d\": [{\"colorbar\": {\"outlinewidth\": 0, \"ticks\": \"\"}, \"type\": \"mesh3d\"}], \"parcoords\": [{\"line\": {\"colorbar\": {\"outlinewidth\": 0, \"ticks\": \"\"}}, \"type\": \"parcoords\"}], \"pie\": [{\"automargin\": true, \"type\": \"pie\"}], \"scatter\": [{\"marker\": {\"colorbar\": {\"outlinewidth\": 0, \"ticks\": \"\"}}, \"type\": \"scatter\"}], \"scatter3d\": [{\"line\": {\"colorbar\": {\"outlinewidth\": 0, \"ticks\": \"\"}}, \"marker\": {\"colorbar\": {\"outlinewidth\": 0, \"ticks\": \"\"}}, \"type\": \"scatter3d\"}], \"scattercarpet\": [{\"marker\": {\"colorbar\": {\"outlinewidth\": 0, \"ticks\": \"\"}}, \"type\": \"scattercarpet\"}], \"scattergeo\": [{\"marker\": {\"colorbar\": {\"outlinewidth\": 0, \"ticks\": \"\"}}, \"type\": \"scattergeo\"}], \"scattergl\": [{\"marker\": {\"colorbar\": {\"outlinewidth\": 0, \"ticks\": \"\"}}, \"type\": \"scattergl\"}], \"scattermapbox\": [{\"marker\": {\"colorbar\": {\"outlinewidth\": 0, \"ticks\": \"\"}}, \"type\": \"scattermapbox\"}], \"scatterpolar\": [{\"marker\": {\"colorbar\": {\"outlinewidth\": 0, \"ticks\": \"\"}}, \"type\": \"scatterpolar\"}], \"scatterpolargl\": [{\"marker\": {\"colorbar\": {\"outlinewidth\": 0, \"ticks\": \"\"}}, \"type\": \"scatterpolargl\"}], \"scatterternary\": [{\"marker\": {\"colorbar\": {\"outlinewidth\": 0, \"ticks\": \"\"}}, \"type\": \"scatterternary\"}], \"surface\": [{\"colorbar\": {\"outlinewidth\": 0, \"ticks\": \"\"}, \"colorscale\": [[0.0, \"#0d0887\"], [0.1111111111111111, \"#46039f\"], [0.2222222222222222, \"#7201a8\"], [0.3333333333333333, \"#9c179e\"], [0.4444444444444444, \"#bd3786\"], [0.5555555555555556, \"#d8576b\"], [0.6666666666666666, \"#ed7953\"], [0.7777777777777778, \"#fb9f3a\"], [0.8888888888888888, \"#fdca26\"], [1.0, \"#f0f921\"]], \"type\": \"surface\"}], \"table\": [{\"cells\": {\"fill\": {\"color\": \"#EBF0F8\"}, \"line\": {\"color\": \"white\"}}, \"header\": {\"fill\": {\"color\": \"#C8D4E3\"}, \"line\": {\"color\": \"white\"}}, \"type\": \"table\"}]}, \"layout\": {\"annotationdefaults\": {\"arrowcolor\": \"#2a3f5f\", \"arrowhead\": 0, \"arrowwidth\": 1}, \"coloraxis\": {\"colorbar\": {\"outlinewidth\": 0, \"ticks\": \"\"}}, \"colorscale\": {\"diverging\": [[0, \"#8e0152\"], [0.1, \"#c51b7d\"], [0.2, \"#de77ae\"], [0.3, \"#f1b6da\"], [0.4, \"#fde0ef\"], [0.5, \"#f7f7f7\"], [0.6, \"#e6f5d0\"], [0.7, \"#b8e186\"], [0.8, \"#7fbc41\"], [0.9, \"#4d9221\"], [1, \"#276419\"]], \"sequential\": [[0.0, \"#0d0887\"], [0.1111111111111111, \"#46039f\"], [0.2222222222222222, \"#7201a8\"], [0.3333333333333333, \"#9c179e\"], [0.4444444444444444, \"#bd3786\"], [0.5555555555555556, \"#d8576b\"], [0.6666666666666666, \"#ed7953\"], [0.7777777777777778, \"#fb9f3a\"], [0.8888888888888888, \"#fdca26\"], [1.0, \"#f0f921\"]], \"sequentialminus\": [[0.0, \"#0d0887\"], [0.1111111111111111, \"#46039f\"], [0.2222222222222222, \"#7201a8\"], [0.3333333333333333, \"#9c179e\"], [0.4444444444444444, \"#bd3786\"], [0.5555555555555556, \"#d8576b\"], [0.6666666666666666, \"#ed7953\"], [0.7777777777777778, \"#fb9f3a\"], [0.8888888888888888, \"#fdca26\"], [1.0, \"#f0f921\"]]}, \"colorway\": [\"#636efa\", \"#EF553B\", \"#00cc96\", \"#ab63fa\", \"#FFA15A\", \"#19d3f3\", \"#FF6692\", \"#B6E880\", \"#FF97FF\", \"#FECB52\"], \"font\": {\"color\": \"#2a3f5f\"}, \"geo\": {\"bgcolor\": \"white\", \"lakecolor\": \"white\", \"landcolor\": \"#E5ECF6\", \"showlakes\": true, \"showland\": true, \"subunitcolor\": \"white\"}, \"hoverlabel\": {\"align\": \"left\"}, \"hovermode\": \"closest\", \"mapbox\": {\"style\": \"light\"}, \"paper_bgcolor\": \"white\", \"plot_bgcolor\": \"#E5ECF6\", \"polar\": {\"angularaxis\": {\"gridcolor\": \"white\", \"linecolor\": \"white\", \"ticks\": \"\"}, \"bgcolor\": \"#E5ECF6\", \"radialaxis\": {\"gridcolor\": \"white\", \"linecolor\": \"white\", \"ticks\": \"\"}}, \"scene\": {\"xaxis\": {\"backgroundcolor\": \"#E5ECF6\", \"gridcolor\": \"white\", \"gridwidth\": 2, \"linecolor\": \"white\", \"showbackground\": true, \"ticks\": \"\", \"zerolinecolor\": \"white\"}, \"yaxis\": {\"backgroundcolor\": \"#E5ECF6\", \"gridcolor\": \"white\", \"gridwidth\": 2, \"linecolor\": \"white\", \"showbackground\": true, \"ticks\": \"\", \"zerolinecolor\": \"white\"}, \"zaxis\": {\"backgroundcolor\": \"#E5ECF6\", \"gridcolor\": \"white\", \"gridwidth\": 2, \"linecolor\": \"white\", \"showbackground\": true, \"ticks\": \"\", \"zerolinecolor\": \"white\"}}, \"shapedefaults\": {\"line\": {\"color\": \"#2a3f5f\"}}, \"ternary\": {\"aaxis\": {\"gridcolor\": \"white\", \"linecolor\": \"white\", \"ticks\": \"\"}, \"baxis\": {\"gridcolor\": \"white\", \"linecolor\": \"white\", \"ticks\": \"\"}, \"bgcolor\": \"#E5ECF6\", \"caxis\": {\"gridcolor\": \"white\", \"linecolor\": \"white\", \"ticks\": \"\"}}, \"title\": {\"x\": 0.05}, \"xaxis\": {\"automargin\": true, \"gridcolor\": \"white\", \"linecolor\": \"white\", \"ticks\": \"\", \"title\": {\"standoff\": 15}, \"zerolinecolor\": \"white\", \"zerolinewidth\": 2}, \"yaxis\": {\"automargin\": true, \"gridcolor\": \"white\", \"linecolor\": \"white\", \"ticks\": \"\", \"title\": {\"standoff\": 15}, \"zerolinecolor\": \"white\", \"zerolinewidth\": 2}}}, \"title\": {\"text\": \"Scores for TF-IDF\"}, \"xaxis\": {\"anchor\": \"y\", \"domain\": [0.0, 1.0], \"title\": {\"text\": \"score\"}}, \"yaxis\": {\"anchor\": \"x\", \"domain\": [0.0, 1.0], \"title\": {\"text\": \"count\"}}},\n",
              "                        {\"responsive\": true}\n",
              "                    ).then(function(){\n",
              "                            \n",
              "var gd = document.getElementById('b15b6034-a290-438c-8489-6873a2b5c0ef');\n",
              "var x = new MutationObserver(function (mutations, observer) {{\n",
              "        var display = window.getComputedStyle(gd).display;\n",
              "        if (!display || display === 'none') {{\n",
              "            console.log([gd, 'removed!']);\n",
              "            Plotly.purge(gd);\n",
              "            observer.disconnect();\n",
              "        }}\n",
              "}});\n",
              "\n",
              "// Listen for the removal of the full notebook cells\n",
              "var notebookContainer = gd.closest('#notebook-container');\n",
              "if (notebookContainer) {{\n",
              "    x.observe(notebookContainer, {childList: true});\n",
              "}}\n",
              "\n",
              "// Listen for the clearing of the current output cell\n",
              "var outputEl = gd.closest('.output');\n",
              "if (outputEl) {{\n",
              "    x.observe(outputEl, {childList: true});\n",
              "}}\n",
              "\n",
              "                        })\n",
              "                };\n",
              "                \n",
              "            </script>\n",
              "        </div>\n",
              "</body>\n",
              "</html>"
            ]
          },
          "metadata": {}
        }
      ]
    },
    {
      "cell_type": "code",
      "metadata": {
        "id": "QIBvHL1aOnOT"
      },
      "source": [
        "if use_wandb:\n",
        "  wandb.log({\"scores_hist\": fig})"
      ],
      "execution_count": 51,
      "outputs": []
    },
    {
      "cell_type": "code",
      "metadata": {
        "id": "OZ0YfkIO9g5V"
      },
      "source": [
        "def recommend_tune(df, tune_name):\n",
        "\n",
        "  df_tune = df.query(f'reference_title == \"{tune_name}\"')\n",
        "  ff = df_tune.iloc[:]\n",
        "\n",
        "  # get the maximum similarity score for each section and store in new column\n",
        "  ff['max'] = ff.groupby('ref_section')['score'].transform('max')\n",
        "\n",
        "  # scale the score with the maxmum value of each section\n",
        "  ff['score_div_max'] = ff['score'] / ff['max']\n",
        "\n",
        "  # consider only the top N tunes for each group\n",
        "  ff = ff.sort_values(['ref_section', 'score_div_max'], ascending=[True, False])\n",
        "  result = ff.groupby('ref_section').head(30)\n",
        "  \n",
        "  # if multiple rows from the same similar tune, keep only the similar_title with the highest score_div_max\n",
        "  result = result.groupby('similar_title').max('score_div_max').sort_values('score_div_max', ascending=False)\n",
        "  \n",
        "  # add the name of the reference tune\n",
        "  result['reference'] = tune_name\n",
        "  result = result.reset_index()\n",
        "  result = result.loc[:, ['reference', 'similar_title', 'score', 'max', 'score_div_max']]\n",
        "  result = result.reset_index()\n",
        "  return result, ff"
      ],
      "execution_count": 52,
      "outputs": []
    },
    {
      "cell_type": "code",
      "metadata": {
        "colab": {
          "base_uri": "https://localhost:8080/",
          "height": 206
        },
        "id": "ohaxVQ6d9iiD",
        "outputId": "87167fce-0335-4ec5-f0b8-84ace0f19fd6"
      },
      "source": [
        "result, details = recommend_tune(df_sim, \"These Foolish Things\")\n",
        "result.head(5)"
      ],
      "execution_count": 53,
      "outputs": [
        {
          "output_type": "execute_result",
          "data": {
            "text/html": [
              "<div>\n",
              "<style scoped>\n",
              "    .dataframe tbody tr th:only-of-type {\n",
              "        vertical-align: middle;\n",
              "    }\n",
              "\n",
              "    .dataframe tbody tr th {\n",
              "        vertical-align: top;\n",
              "    }\n",
              "\n",
              "    .dataframe thead th {\n",
              "        text-align: right;\n",
              "    }\n",
              "</style>\n",
              "<table border=\"1\" class=\"dataframe\">\n",
              "  <thead>\n",
              "    <tr style=\"text-align: right;\">\n",
              "      <th></th>\n",
              "      <th>index</th>\n",
              "      <th>reference</th>\n",
              "      <th>similar_title</th>\n",
              "      <th>score</th>\n",
              "      <th>max</th>\n",
              "      <th>score_div_max</th>\n",
              "    </tr>\n",
              "  </thead>\n",
              "  <tbody>\n",
              "    <tr>\n",
              "      <th>0</th>\n",
              "      <td>0</td>\n",
              "      <td>These Foolish Things</td>\n",
              "      <td>I Loves You Porgy</td>\n",
              "      <td>0.986726</td>\n",
              "      <td>0.986726</td>\n",
              "      <td>1.000000</td>\n",
              "    </tr>\n",
              "    <tr>\n",
              "      <th>1</th>\n",
              "      <td>1</td>\n",
              "      <td>These Foolish Things</td>\n",
              "      <td>More Than You Know</td>\n",
              "      <td>0.796439</td>\n",
              "      <td>0.796439</td>\n",
              "      <td>1.000000</td>\n",
              "    </tr>\n",
              "    <tr>\n",
              "      <th>2</th>\n",
              "      <td>2</td>\n",
              "      <td>These Foolish Things</td>\n",
              "      <td>What Are You Doing New Years</td>\n",
              "      <td>0.762513</td>\n",
              "      <td>0.796439</td>\n",
              "      <td>0.957402</td>\n",
              "    </tr>\n",
              "    <tr>\n",
              "      <th>3</th>\n",
              "      <td>3</td>\n",
              "      <td>These Foolish Things</td>\n",
              "      <td>They Can't Take That Away From Me</td>\n",
              "      <td>0.748027</td>\n",
              "      <td>0.796439</td>\n",
              "      <td>0.939214</td>\n",
              "    </tr>\n",
              "    <tr>\n",
              "      <th>4</th>\n",
              "      <td>4</td>\n",
              "      <td>These Foolish Things</td>\n",
              "      <td>If I Had You</td>\n",
              "      <td>0.744246</td>\n",
              "      <td>0.796439</td>\n",
              "      <td>0.934467</td>\n",
              "    </tr>\n",
              "  </tbody>\n",
              "</table>\n",
              "</div>"
            ],
            "text/plain": [
              "   index             reference  ...       max  score_div_max\n",
              "0      0  These Foolish Things  ...  0.986726       1.000000\n",
              "1      1  These Foolish Things  ...  0.796439       1.000000\n",
              "2      2  These Foolish Things  ...  0.796439       0.957402\n",
              "3      3  These Foolish Things  ...  0.796439       0.939214\n",
              "4      4  These Foolish Things  ...  0.796439       0.934467\n",
              "\n",
              "[5 rows x 6 columns]"
            ]
          },
          "metadata": {},
          "execution_count": 53
        }
      ]
    },
    {
      "cell_type": "markdown",
      "metadata": {
        "id": "UveSDI6QWALe"
      },
      "source": [
        "Copy results into a dataframe for later logging to W&B"
      ]
    },
    {
      "cell_type": "code",
      "metadata": {
        "id": "AEEqdXBiT5bl"
      },
      "source": [
        "dd = pd.DataFrame(columns = recommender_results_cols)\n",
        "\n",
        "for tune in tunes_eval_list:\n",
        "  result, details = recommend_tune(df_sim, tune)\n",
        "  dd['id'] = result['index']\n",
        "  dd['method'] = 'tfidf'\n",
        "  dd['reference'] = tune\n",
        "  dd['similar'] = result['similar_title']\n",
        "  dd['score_div_max'] = result['score_div_max']\n",
        "  dd['score'] = result['score']\n",
        "\n",
        "recommender_results = recommender_results.append(dd)"
      ],
      "execution_count": 54,
      "outputs": []
    },
    {
      "cell_type": "markdown",
      "metadata": {
        "id": "wqaUEFqxXZYB"
      },
      "source": [
        "### Test Contrafacts"
      ]
    },
    {
      "cell_type": "markdown",
      "metadata": {
        "id": "563ncYqAfIyN"
      },
      "source": [
        "With the model, query the top N highest matches for each section. For a tune, if at least one section receives the recommendation  for the expected title, increase the match counter."
      ]
    },
    {
      "cell_type": "code",
      "metadata": {
        "id": "RVPtraR-hg0G"
      },
      "source": [
        "def test_contrafacts(tunes, index, model, N=15):\n",
        "  matches = 0\n",
        "  number_of_sections = 0\n",
        "  results = {}\n",
        "\n",
        "  for tune, similar_tune in tunes.items():\n",
        "    \n",
        "    # loop over all sections of the tune\n",
        "    section_matches = 0\n",
        "    for s1 in title_to_sectionid[tune]:\n",
        "      query = processed_corpus[s1]\n",
        "      query_bow = dictionary.doc2bow(query)\n",
        "\n",
        "      # perform a similarity query against the corpus\n",
        "      similarities = index[model[query_bow]]\n",
        "      sims = sorted(enumerate(similarities), key=lambda item: -item[1])\n",
        "\n",
        "      # check if the section matches the expected title; consider only the first 15 recommendations\n",
        "      i = 0\n",
        "      for sectionid, value in sims:\n",
        "        if i >= N:\n",
        "          break\n",
        "        i += 1\n",
        "        if sectionid_to_title[sectionid] == similar_tune:\n",
        "          section_matches += 1\n",
        "\n",
        "    # for each title, increase matches if at least one of the section matched the expected title\n",
        "    if section_matches > 0:\n",
        "      matches += 1  \n",
        "      results[tune] = 1\n",
        "    else:\n",
        "      results[tune] = 0\n",
        "  \n",
        "  return matches, results\n"
      ],
      "execution_count": 55,
      "outputs": []
    },
    {
      "cell_type": "code",
      "metadata": {
        "colab": {
          "base_uri": "https://localhost:8080/"
        },
        "id": "Q628rO5DhxWD",
        "outputId": "365c9e19-6561-4d96-c9b0-e432cc21b2ff"
      },
      "source": [
        "topN = 15\n",
        "matches, results = test_contrafacts(contrafacts, index_tfidf, tfidf, topN)\n",
        "\n",
        "[print(f\"{val}: {rr}\") for rr, val in results.items()] \n",
        "print() \n",
        "print(f\"Found matches: {matches} out of {len(contrafacts)}: {100*matches/len(contrafacts):.3f}%\")"
      ],
      "execution_count": 56,
      "outputs": [
        {
          "output_type": "stream",
          "name": "stdout",
          "text": [
            "0: 26-2\n",
            "0: 52nd Street Theme\n",
            "1: Ablution\n",
            "1: Anthropology\n",
            "0: Ballade\n",
            "1: Bright Mississippi\n",
            "1: C.T.A.\n",
            "1: Cottontail\n",
            "1: Countdown\n",
            "0: Dewey Square\n",
            "1: Dexterity\n",
            "1: Dig\n",
            "1: Donna Lee\n",
            "0: Don't Be That Way\n",
            "1: Evidence\n",
            "1: Flintstones\n",
            "0: Four On Six\n",
            "1: Freight Train\n",
            "0: Good Bait\n",
            "1: Hackensack\n",
            "1: Half Nelson\n",
            "1: Hot House\n",
            "1: Impressions\n",
            "0: In A Mellow Tone (In A Mellotone)\n",
            "1: In Walked Bud\n",
            "1: Ko Ko\n",
            "0: Lennie's Pennies\n",
            "0: Little Rootie Tootie\n",
            "0: Little Willie Leaps\n",
            "0: Lullaby Of Birdland\n",
            "0: My Little Suede Shoes\n",
            "1: Ornithology\n",
            "0: Quasimodo (Theme)\n",
            "0: Room 608\n",
            "1: Satellite\n",
            "1: Scrapple From The Apple\n",
            "1: Tour De Force\n",
            "1: Wow\n",
            "1: Yardbird Suite\n",
            "0: Sweet Sue, Just You\n",
            "0: These Foolish Things\n",
            "1: Misty\n",
            "\n",
            "Found matches: 25 out of 42: 59.524%\n"
          ]
        }
      ]
    },
    {
      "cell_type": "code",
      "metadata": {
        "id": "8lKZukYybvMJ"
      },
      "source": [
        "model_name = 'tfidf'\n",
        "if use_wandb:\n",
        "  wandb.log(\n",
        "      {model_name: {\n",
        "                'contrafacts': {\n",
        "                    'topN': topN,\n",
        "                    'success': matches/len(contrafacts),\n",
        "                    #'results': results\n",
        "                    }\n",
        "                   },\n",
        "       'all_models': {\n",
        "           model_name: wandb.Table(\n",
        "               columns=[\"Title\", \"Match\"],\n",
        "               data=[[key, value] for key, value in results.items()]),\n",
        "       }\n",
        "       })"
      ],
      "execution_count": 57,
      "outputs": []
    },
    {
      "cell_type": "markdown",
      "metadata": {
        "id": "Phw7fBDk0px7"
      },
      "source": [
        "## Store TF-IDF Model to W&B"
      ]
    },
    {
      "cell_type": "code",
      "metadata": {
        "id": "KdYWJX-60pdd"
      },
      "source": [
        "if use_wandb:\n",
        "  model_artifact = wandb.Artifact(\n",
        "      \"model_tfidf\", \n",
        "      type=\"model\",\n",
        "      description=\"TF-IDF Model\",\n",
        "      metadata=\"\")\n",
        "\n",
        "  model_artifact.add_file(\"/content/index/tfidf.model\")\n",
        "  model_artifact.add_file(\"/content/index/tfidf.index\")\n",
        "  wandb.log_artifact(model_artifact)"
      ],
      "execution_count": 58,
      "outputs": []
    },
    {
      "cell_type": "markdown",
      "metadata": {
        "id": "99xHBRsd--OB"
      },
      "source": [
        "# LSA (Latent Semantic Analysis), aka LSI (Latent Semantic Index) "
      ]
    },
    {
      "cell_type": "code",
      "metadata": {
        "id": "adsW9Uh9_JXs"
      },
      "source": [
        "from collections import defaultdict"
      ],
      "execution_count": 59,
      "outputs": []
    },
    {
      "cell_type": "code",
      "metadata": {
        "colab": {
          "base_uri": "https://localhost:8080/"
        },
        "id": "s3AJZGRD_IHW",
        "outputId": "7ecf1737-4268-4dfd-cce2-d0025eacc982"
      },
      "source": [
        "num_topics = lsi_config['num_topics']\n",
        "\n",
        "# remove words that appear only once\n",
        "frequency = defaultdict(int)\n",
        "for text in processed_corpus:\n",
        "    for token in text:\n",
        "        frequency[token] += 1\n",
        "\n",
        "data = [[token for token in text if frequency[token] > 1] for text in processed_corpus]\n",
        "dictionary = corpora.Dictionary(data)\n",
        "\n",
        "# doc2bow counts the number of occurences of each distinct word,\n",
        "# converts the word to its integer word id and returns the result\n",
        "# as a sparse vector\n",
        "\n",
        "bow_corpus = [dictionary.doc2bow(text) for text in data]\n",
        "lsi = LsiModel(bow_corpus, id2word=dictionary, num_topics=num_topics)  # num_topics can be maximum the size of the number of unique tokens"
      ],
      "execution_count": 60,
      "outputs": [
        {
          "output_type": "stream",
          "name": "stderr",
          "text": [
            "2021-11-25 11:11:09,954 : INFO : adding document #0 to Dictionary(0 unique tokens: [])\n",
            "2021-11-25 11:11:10,066 : INFO : built Dictionary(72 unique tokens: ['Am', 'B7', 'C', 'C#', 'C7']...) from 5391 documents (total 82622 corpus positions)\n",
            "2021-11-25 11:11:10,071 : INFO : Dictionary lifecycle event {'msg': \"built Dictionary(72 unique tokens: ['Am', 'B7', 'C', 'C#', 'C7']...) from 5391 documents (total 82622 corpus positions)\", 'datetime': '2021-11-25T11:11:10.071235', 'gensim': '4.1.2', 'python': '3.7.12 (default, Sep 10 2021, 00:21:48) \\n[GCC 7.5.0]', 'platform': 'Linux-5.4.104+-x86_64-with-Ubuntu-18.04-bionic', 'event': 'created'}\n",
            "2021-11-25 11:11:10,133 : INFO : using serial LSI version on this node\n",
            "2021-11-25 11:11:10,141 : INFO : updating model with new documents\n",
            "2021-11-25 11:11:10,143 : INFO : preparing a new chunk of documents\n",
            "2021-11-25 11:11:10,184 : INFO : using 100 extra samples and 2 power iterations\n",
            "2021-11-25 11:11:10,195 : INFO : 1st phase: constructing (72, 300) action matrix\n",
            "2021-11-25 11:11:10,306 : INFO : orthonormalizing (72, 300) action matrix\n",
            "2021-11-25 11:11:10,339 : INFO : 2nd phase: running dense svd on (72, 5391) matrix\n",
            "2021-11-25 11:11:10,393 : INFO : computing the final decomposition\n",
            "2021-11-25 11:11:10,396 : INFO : keeping 72 factors (discarding 0.000% of energy spectrum)\n",
            "2021-11-25 11:11:10,407 : INFO : processed documents up to #5391\n",
            "2021-11-25 11:11:10,410 : INFO : topic #0(398.310): -0.714*\"C\" + -0.508*\"G7\" + -0.286*\"Dm\" + -0.176*\"D7\" + -0.168*\"A7\" + -0.160*\"F\" + -0.150*\"Am\" + -0.115*\"C7\" + -0.092*\"E7\" + -0.080*\"Em\"\n",
            "2021-11-25 11:11:10,415 : INFO : topic #1(168.270): 0.780*\"Am\" + -0.378*\"C\" + 0.342*\"E7\" + 0.266*\"Dm\" + 0.114*\"Bm7b5\" + 0.097*\"Em\" + 0.088*\"A7\" + 0.080*\"D7\" + 0.071*\"F7\" + 0.066*\"B7\"\n",
            "2021-11-25 11:11:10,424 : INFO : topic #2(129.738): 0.652*\"Dm\" + -0.363*\"Am\" + -0.348*\"C\" + 0.270*\"A7\" + 0.263*\"G7\" + -0.232*\"F\" + 0.229*\"Em\" + -0.181*\"E7\" + -0.146*\"D7\" + -0.065*\"G\"\n",
            "2021-11-25 11:11:10,427 : INFO : topic #3(113.617): -0.724*\"C7\" + 0.341*\"C\" + -0.300*\"D7\" + -0.272*\"G7\" + 0.245*\"Dm\" + -0.218*\"F\" + 0.179*\"Am\" + -0.130*\"F7\" + -0.102*\"Gm\" + -0.094*\"Bb7\"\n",
            "2021-11-25 11:11:10,429 : INFO : topic #4(104.284): -0.579*\"D7\" + 0.415*\"C7\" + 0.354*\"F\" + -0.307*\"G7\" + -0.293*\"A7\" + 0.279*\"Dm\" + -0.159*\"E7\" + 0.141*\"C\" + 0.137*\"Em\" + 0.114*\"Gm\"\n",
            "2021-11-25 11:11:10,432 : INFO : LsiModel lifecycle event {'msg': 'trained LsiModel(num_terms=72, num_topics=200, decay=1.0, chunksize=20000) in 0.29s', 'datetime': '2021-11-25T11:11:10.432108', 'gensim': '4.1.2', 'python': '3.7.12 (default, Sep 10 2021, 00:21:48) \\n[GCC 7.5.0]', 'platform': 'Linux-5.4.104+-x86_64-with-Ubuntu-18.04-bionic', 'event': 'created'}\n"
          ]
        }
      ]
    },
    {
      "cell_type": "code",
      "metadata": {
        "id": "EvxSQFfBBNMJ",
        "colab": {
          "base_uri": "https://localhost:8080/"
        },
        "outputId": "bc708896-29b9-440c-cf67-35ad097e4263"
      },
      "source": [
        "index_lsi = similarities.Similarity('/content/index/index_lsi', lsi[bow_corpus], num_features=len(dictionary))"
      ],
      "execution_count": 61,
      "outputs": [
        {
          "output_type": "stream",
          "name": "stderr",
          "text": [
            "2021-11-25 11:11:10,442 : INFO : starting similarity index under /content/index/index_lsi\n"
          ]
        }
      ]
    },
    {
      "cell_type": "code",
      "metadata": {
        "id": "3saA6NY5Tzer"
      },
      "source": [
        "#index_lsi = similarities.SparseMatrixSimilarity(lsi[bow_corpus], num_features = len(dictionary))\n",
        "#index_lsi = similarities.MatrixSimilarity(lsi[bow_corpus])  # transform corpus to LSI space and index it\n"
      ],
      "execution_count": 62,
      "outputs": []
    },
    {
      "cell_type": "code",
      "metadata": {
        "colab": {
          "base_uri": "https://localhost:8080/"
        },
        "id": "F5pbDMVyfEtS",
        "outputId": "026d50c0-4e03-47d9-ba70-c87090f20752"
      },
      "source": [
        "lsi.save('/content/index/lsi.model')\n",
        "index_lsi.save('/content/index/lsi_matrixsim.index')\n"
      ],
      "execution_count": 63,
      "outputs": [
        {
          "output_type": "stream",
          "name": "stderr",
          "text": [
            "2021-11-25 11:11:11,126 : INFO : Projection lifecycle event {'fname_or_handle': '/content/index/lsi.model.projection', 'separately': 'None', 'sep_limit': 10485760, 'ignore': frozenset(), 'datetime': '2021-11-25T11:11:11.126613', 'gensim': '4.1.2', 'python': '3.7.12 (default, Sep 10 2021, 00:21:48) \\n[GCC 7.5.0]', 'platform': 'Linux-5.4.104+-x86_64-with-Ubuntu-18.04-bionic', 'event': 'saving'}\n",
            "2021-11-25 11:11:11,132 : INFO : saved /content/index/lsi.model.projection\n",
            "2021-11-25 11:11:11,135 : INFO : LsiModel lifecycle event {'fname_or_handle': '/content/index/lsi.model', 'separately': 'None', 'sep_limit': 10485760, 'ignore': ['projection', 'dispatcher'], 'datetime': '2021-11-25T11:11:11.135202', 'gensim': '4.1.2', 'python': '3.7.12 (default, Sep 10 2021, 00:21:48) \\n[GCC 7.5.0]', 'platform': 'Linux-5.4.104+-x86_64-with-Ubuntu-18.04-bionic', 'event': 'saving'}\n",
            "2021-11-25 11:11:11,138 : INFO : not storing attribute projection\n",
            "2021-11-25 11:11:11,140 : INFO : not storing attribute dispatcher\n",
            "2021-11-25 11:11:11,143 : INFO : saved /content/index/lsi.model\n",
            "2021-11-25 11:11:11,145 : INFO : creating matrix with 5391 documents and 72 features\n",
            "2021-11-25 11:11:11,160 : INFO : creating dense shard #0\n",
            "2021-11-25 11:11:11,163 : INFO : saving index shard to /content/index/index_lsi.0\n",
            "2021-11-25 11:11:11,164 : INFO : MatrixSimilarity lifecycle event {'fname_or_handle': '/content/index/index_lsi.0', 'separately': 'None', 'sep_limit': 10485760, 'ignore': frozenset(), 'datetime': '2021-11-25T11:11:11.164841', 'gensim': '4.1.2', 'python': '3.7.12 (default, Sep 10 2021, 00:21:48) \\n[GCC 7.5.0]', 'platform': 'Linux-5.4.104+-x86_64-with-Ubuntu-18.04-bionic', 'event': 'saving'}\n",
            "2021-11-25 11:11:11,172 : INFO : saved /content/index/index_lsi.0\n",
            "2021-11-25 11:11:11,174 : INFO : loading MatrixSimilarity object from /content/index/index_lsi.0\n",
            "2021-11-25 11:11:11,180 : INFO : MatrixSimilarity lifecycle event {'fname': '/content/index/index_lsi.0', 'datetime': '2021-11-25T11:11:11.180424', 'gensim': '4.1.2', 'python': '3.7.12 (default, Sep 10 2021, 00:21:48) \\n[GCC 7.5.0]', 'platform': 'Linux-5.4.104+-x86_64-with-Ubuntu-18.04-bionic', 'event': 'loaded'}\n",
            "2021-11-25 11:11:11,184 : INFO : Similarity lifecycle event {'fname_or_handle': '/content/index/lsi_matrixsim.index', 'separately': 'None', 'sep_limit': 10485760, 'ignore': frozenset(), 'datetime': '2021-11-25T11:11:11.184724', 'gensim': '4.1.2', 'python': '3.7.12 (default, Sep 10 2021, 00:21:48) \\n[GCC 7.5.0]', 'platform': 'Linux-5.4.104+-x86_64-with-Ubuntu-18.04-bionic', 'event': 'saving'}\n",
            "2021-11-25 11:11:11,191 : INFO : saved /content/index/lsi_matrixsim.index\n"
          ]
        }
      ]
    },
    {
      "cell_type": "code",
      "metadata": {
        "colab": {
          "base_uri": "https://localhost:8080/"
        },
        "id": "1udPIceqYk6S",
        "outputId": "2737c855-4dcb-4262-93f5-8929c5866feb"
      },
      "source": [
        "!ls -la /content/index"
      ],
      "execution_count": 64,
      "outputs": [
        {
          "output_type": "stream",
          "name": "stdout",
          "text": [
            "total 1932\n",
            "drwxr-xr-x 2 root root    4096 Nov 25 11:11 .\n",
            "drwxr-xr-x 1 root root    4096 Nov 25 11:10 ..\n",
            "-rw-r--r-- 1 root root 1553280 Nov 25 11:11 index_lsi.0\n",
            "-rw-r--r-- 1 root root     742 Nov 25 11:11 lsi_matrixsim.index\n",
            "-rw-r--r-- 1 root root    2728 Nov 25 11:11 lsi.model\n",
            "-rw-r--r-- 1 root root   42728 Nov 25 11:11 lsi.model.projection\n",
            "-rw-r--r-- 1 root root  352360 Nov 25 11:10 tfidf.index\n",
            "-rw-r--r-- 1 root root    2782 Nov 25 11:10 tfidf.model\n"
          ]
        }
      ]
    },
    {
      "cell_type": "markdown",
      "metadata": {
        "id": "u05KD64Ai1uo"
      },
      "source": [
        "## Tests"
      ]
    },
    {
      "cell_type": "markdown",
      "metadata": {
        "id": "pDxTCAGv9MmZ"
      },
      "source": [
        "### Test for single tunes"
      ]
    },
    {
      "cell_type": "code",
      "metadata": {
        "colab": {
          "base_uri": "https://localhost:8080/"
        },
        "id": "khASSJ1eEuf5",
        "outputId": "1961ad68-8d8c-4802-f7be-fadb04151e56"
      },
      "source": [
        "%%time\n",
        "df_sim = get_sim_scores(tunes_eval_list, index=index_lsi, model=lsi)\n",
        "df_lsi = df_sim[:]"
      ],
      "execution_count": 65,
      "outputs": [
        {
          "output_type": "stream",
          "name": "stdout",
          "text": [
            "\n",
            "--------------------------------------------------\n",
            "125 After You've Gone, section1 (A)\n",
            "126 After You've Gone, section2 (B)\n",
            "127 After You've Gone, section3 (A)\n",
            "128 After You've Gone, section4 (C)\n",
            "\n",
            "--------------------------------------------------\n",
            "188 All God's Chillun Got Rhythm, section1 (A)\n",
            "189 All God's Chillun Got Rhythm, section2 (B)\n",
            "190 All God's Chillun Got Rhythm, section3 (A)\n",
            "191 All God's Chillun Got Rhythm, section4 (C)\n",
            "\n",
            "--------------------------------------------------\n",
            "198 All Of Me, section1 (A)\n",
            "199 All Of Me, section2 (B)\n",
            "200 All Of Me, section3 (A)\n",
            "201 All Of Me, section4 (C)\n",
            "\n",
            "--------------------------------------------------\n",
            "474 Blood Count, section1 (A)\n",
            "475 Blood Count, section2 (A)\n",
            "476 Blood Count, section3 (B)\n",
            "477 Blood Count, section4 (A)\n",
            "478 Blood Count, section5 (C)\n",
            "\n",
            "--------------------------------------------------\n",
            "496 Blue Moon, section1 (A)\n",
            "497 Blue Moon, section2 (A)\n",
            "498 Blue Moon, section3 (B)\n",
            "499 Blue Moon, section4 (A)\n",
            "\n",
            "--------------------------------------------------\n",
            "626 But Beautiful, section1 (A)\n",
            "627 But Beautiful, section2 (B)\n",
            "628 But Beautiful, section3 (A)\n",
            "629 But Beautiful, section4 (C)\n",
            "\n",
            "--------------------------------------------------\n",
            "653 Bye Bye Blackbird, section1 (A)\n",
            "654 Bye Bye Blackbird, section2 (B)\n",
            "4559 Bye Bye Blackbird, section1 (A)\n",
            "\n",
            "--------------------------------------------------\n",
            "676 Call Me Irresponsible, section1 (A)\n",
            "677 Call Me Irresponsible, section2 (B)\n",
            "678 Call Me Irresponsible, section3 (A)\n",
            "679 Call Me Irresponsible, section4 (B)\n",
            "\n",
            "--------------------------------------------------\n",
            "826 Corcovado, section1 (A)\n",
            "827 Corcovado, section2 (B)\n",
            "828 Corcovado, section3 (A)\n",
            "829 Corcovado, section4 (C)\n",
            "\n",
            "--------------------------------------------------\n",
            "997 Dinah, section1 (A)\n",
            "998 Dinah, section2 (A)\n",
            "999 Dinah, section3 (B)\n",
            "1000 Dinah, section4 (A)\n",
            "\n",
            "--------------------------------------------------\n",
            "1125 East Of The Sun, section1 (A)\n",
            "1126 East Of The Sun, section2 (B)\n",
            "1127 East Of The Sun, section3 (A)\n",
            "1128 East Of The Sun, section4 (C)\n",
            "\n",
            "--------------------------------------------------\n",
            "1287 Footprints, section0 (nan)\n",
            "\n",
            "--------------------------------------------------\n",
            "1379 Giant Steps, section0 (nan)\n",
            "\n",
            "--------------------------------------------------\n",
            "1538 Honeysuckle Rose, section1 (A)\n",
            "1539 Honeysuckle Rose, section2 (A)\n",
            "1540 Honeysuckle Rose, section3 (B)\n",
            "1541 Honeysuckle Rose, section4 (A)\n",
            "4781 Honeysuckle Rose, section1 (A)\n",
            "4782 Honeysuckle Rose, section2 (A)\n",
            "4783 Honeysuckle Rose, section3 (B)\n",
            "4784 Honeysuckle Rose, section4 (A)\n",
            "\n",
            "--------------------------------------------------\n",
            "1647 I Got Rhythm, section1 (A)\n",
            "1648 I Got Rhythm, section2 (A)\n",
            "1649 I Got Rhythm, section3 (B)\n",
            "1650 I Got Rhythm, section4 (A)\n",
            "4809 I Got Rhythm, section1 (A)\n",
            "4810 I Got Rhythm, section2 (A)\n",
            "4811 I Got Rhythm, section3 (B)\n",
            "4812 I Got Rhythm, section4 (A)\n",
            "\n",
            "--------------------------------------------------\n",
            "2670 Misty, section1 (A)\n",
            "2671 Misty, section2 (A)\n",
            "2672 Misty, section3 (B)\n",
            "2673 Misty, section4 (A)\n",
            "\n",
            "--------------------------------------------------\n",
            "2857 Naima, section1 (A)\n",
            "2858 Naima, section2 (A)\n",
            "2859 Naima, section3 (B)\n",
            "2860 Naima, section4 (A)\n",
            "\n",
            "--------------------------------------------------\n",
            "5044 Old Fashioned Love, section0 (nan)\n",
            "\n",
            "--------------------------------------------------\n",
            "3142 Perdido, section1 (A)\n",
            "3143 Perdido, section2 (A)\n",
            "3144 Perdido, section3 (B)\n",
            "3145 Perdido, section4 (A)\n",
            "\n",
            "--------------------------------------------------\n",
            "3276 Rockin' Chair, section1 (A)\n",
            "3277 Rockin' Chair, section2 (B)\n",
            "3278 Rockin' Chair, section3 (A)\n",
            "5110 Rockin' Chair, section1 (A)\n",
            "5111 Rockin' Chair, section2 (B)\n",
            "5112 Rockin' Chair, section3 (A)\n",
            "\n",
            "--------------------------------------------------\n",
            "3578 Sophisticated Lady, section1 (A)\n",
            "3579 Sophisticated Lady, section2 (A)\n",
            "3580 Sophisticated Lady, section3 (B)\n",
            "3581 Sophisticated Lady, section4 (A)\n",
            "\n",
            "--------------------------------------------------\n",
            "3746 Sweet Sue, Just You, section1 (A)\n",
            "3747 Sweet Sue, Just You, section2 (A)\n",
            "3748 Sweet Sue, Just You, section3 (B)\n",
            "3749 Sweet Sue, Just You, section4 (A)\n",
            "\n",
            "--------------------------------------------------\n",
            "3860 These Foolish Things, section1 (A)\n",
            "3861 These Foolish Things, section2 (A)\n",
            "3862 These Foolish Things, section3 (B)\n",
            "3863 These Foolish Things, section4 (A)\n",
            "\n",
            "--------------------------------------------------\n",
            "4146 We'll Be Together Again, section1 (A)\n",
            "4147 We'll Be Together Again, section2 (A)\n",
            "4148 We'll Be Together Again, section3 (B)\n",
            "4149 We'll Be Together Again, section4 (A)\n",
            "CPU times: user 20.4 s, sys: 9.54 s, total: 29.9 s\n",
            "Wall time: 19.6 s\n"
          ]
        }
      ]
    },
    {
      "cell_type": "code",
      "metadata": {
        "colab": {
          "base_uri": "https://localhost:8080/",
          "height": 542
        },
        "id": "X31lkvUsDAsU",
        "outputId": "86c1fa2b-c535-415c-ac6a-83ce2e21906b"
      },
      "source": [
        "import plotly.express as px\n",
        "fig = px.histogram(df_sim, x=\"score\", nbins=50, title='LSI Scores')\n",
        "fig.show()"
      ],
      "execution_count": 66,
      "outputs": [
        {
          "output_type": "display_data",
          "data": {
            "text/html": [
              "<html>\n",
              "<head><meta charset=\"utf-8\" /></head>\n",
              "<body>\n",
              "    <div>\n",
              "            <script src=\"https://cdnjs.cloudflare.com/ajax/libs/mathjax/2.7.5/MathJax.js?config=TeX-AMS-MML_SVG\"></script><script type=\"text/javascript\">if (window.MathJax) {MathJax.Hub.Config({SVG: {font: \"STIX-Web\"}});}</script>\n",
              "                <script type=\"text/javascript\">window.PlotlyConfig = {MathJaxConfig: 'local'};</script>\n",
              "        <script src=\"https://cdn.plot.ly/plotly-latest.min.js\"></script>    \n",
              "            <div id=\"00f4ba8f-e586-4d98-9d35-03bea62d3a6e\" class=\"plotly-graph-div\" style=\"height:525px; width:100%;\"></div>\n",
              "            <script type=\"text/javascript\">\n",
              "                \n",
              "                    window.PLOTLYENV=window.PLOTLYENV || {};\n",
              "                    \n",
              "                if (document.getElementById(\"00f4ba8f-e586-4d98-9d35-03bea62d3a6e\")) {\n",
              "                    Plotly.newPlot(\n",
              "                        '00f4ba8f-e586-4d98-9d35-03bea62d3a6e',\n",
              "                        [{\"alignmentgroup\": \"True\", \"bingroup\": \"x\", \"hoverlabel\": {\"namelength\": 0}, \"hovertemplate\": \"score=%{x}<br>count=%{y}\", \"legendgroup\": \"\", \"marker\": {\"color\": \"#636efa\"}, \"name\": \"\", \"nbinsx\": 50, \"offsetgroup\": \"\", \"orientation\": \"v\", \"showlegend\": false, \"type\": \"histogram\", \"x\": [0.8872442245483398, 0.8333333134651184, 0.8333333134651184, 0.8333333134651184, 0.8268688321113586, 0.8215838074684143, 0.8164966106414795, 0.8164966106414795, 0.8164966106414795, 0.8164966106414795, 0.8164966106414795, 0.8164966106414795, 0.8164965510368347, 0.8164964914321899, 0.8146880865097046, 0.8146880865097046, 0.8146880865097046, 0.8128778338432312, 0.8115026354789734, 0.8082903027534485, 0.8056291937828064, 0.8022767305374146, 0.8017836809158325, 0.8006407618522644, 0.8006407618522644, 0.8006407618522644, 0.796097993850708, 0.7960029244422913, 0.7938566207885742, 0.7938566207885742, 0.7938566207885742, 0.7938565611839294, 0.7937363982200623, 0.7925938963890076, 0.7924057841300964, 0.7905694246292114, 0.7905694246292114, 0.7874259948730469, 0.7844645380973816, 0.7835467457771301, 0.7833494544029236, 0.9449111819267273, 0.9449111819267273, 0.9449111819267273, 0.9294209480285645, 0.927730917930603, 0.9237152934074402, 0.9164397716522217, 0.9116846919059753, 0.9116846919059753, 0.9116846919059753, 0.9116846919059753, 0.9092413783073425, 0.9086882472038269, 0.90748530626297, 0.90748530626297, 0.9074851870536804, 0.8989697098731995, 0.8976656198501587, 0.8968700766563416, 0.8964548110961914, 0.8944271802902222, 0.8933250308036804, 0.8933250308036804, 0.8933250308036804, 0.8928571939468384, 0.8916451334953308, 0.8916451334953308, 0.8916451334953308, 0.8914850354194641, 0.8910421133041382, 0.8910420536994934, 0.889499306678772, 0.889499306678772, 0.8894991278648376, 0.8887815475463867, 0.8838084936141968, 0.8828535079956055, 0.8824974894523621, 0.8821085691452026, 0.8819171190261841, 0.8819171190261841, 0.8872442245483398, 0.8333333134651184, 0.8333333134651184, 0.8333333134651184, 0.8268688321113586, 0.8215838074684143, 0.8164966106414795, 0.8164966106414795, 0.8164966106414795, 0.8164966106414795, 0.8164966106414795, 0.8164966106414795, 0.8164965510368347, 0.8164964914321899, 0.8146880865097046, 0.8146880865097046, 0.8146880865097046, 0.8128778338432312, 0.8115026354789734, 0.8082903027534485, 0.8056291937828064, 0.8022767305374146, 0.8017836809158325, 0.8006407618522644, 0.8006407618522644, 0.8006407618522644, 0.796097993850708, 0.7960029244422913, 0.7938566207885742, 0.7938566207885742, 0.7938566207885742, 0.7938565611839294, 0.7937363982200623, 0.7925938963890076, 0.7924057841300964, 0.7905694246292114, 0.7905694246292114, 0.7874259948730469, 0.7844645380973816, 0.7835467457771301, 0.7833494544029236, 0.9096581935882568, 0.9022911787033081, 0.9016695618629456, 0.8867155909538269, 0.8795367479324341, 0.8730378746986389, 0.8716936111450195, 0.8716936111450195, 0.8716138601303101, 0.8700222373008728, 0.8700222373008728, 0.8700221180915833, 0.8675329685211182, 0.8675328493118286, 0.8657459020614624, 0.8657053709030151, 0.8657053112983704, 0.8650469183921814, 0.8650146126747131, 0.8633970022201538, 0.8607285618782043, 0.8598892688751221, 0.859207272529602, 0.8589556813240051, 0.8589556813240051, 0.8589556813240051, 0.8575894236564636, 0.8570745587348938, 0.857074499130249, 0.855844259262085, 0.8553988337516785, 0.8536584973335266, 0.8528679609298706, 0.8520770072937012, 0.8519977331161499, 0.8519828915596008, 0.8502658009529114, 0.8502658009529114, 0.8502658009529114, 0.8501022458076477, 0.847586989402771, 0.9749999642372131, 0.9695895910263062, 0.9682456851005554, 0.9561829566955566, 0.9560661315917969, 0.9560660719871521, 0.9547033309936523, 0.954594075679779, 0.946340024471283, 0.946340024471283, 0.942927896976471, 0.9407528638839722, 0.9398255348205566, 0.9398255348205566, 0.9389711618423462, 0.9383147954940796, 0.9375001192092896, 0.9360565543174744, 0.9360565543174744, 0.9360565543174744, 0.9359709620475769, 0.9354143142700195, 0.9341285228729248, 0.9341285228729248, 0.932773232460022, 0.9284766316413879, 0.9284766316413879, 0.9282791018486023, 0.9280776977539062, 0.9280776977539062, 0.9280775785446167, 0.9274260401725769, 0.9263022541999817, 0.9263021349906921, 0.9250001311302185, 0.9250001311302185, 0.923186182975769, 0.92317134141922, 0.9231711626052856, 0.9223309755325317, 0.9214785695075989, 0.9309494495391846, 0.9013878107070923, 0.8966439366340637, 0.8894992470741272, 0.8894990682601929, 0.8882312178611755, 0.8869685530662537, 0.882522702217102, 0.8744746446609497, 0.8702853918075562, 0.8682430982589722, 0.8674725294113159, 0.8608285188674927, 0.8608284592628479, 0.8600261211395264, 0.8593379259109497, 0.8589844703674316, 0.8561726808547974, 0.8561726808547974, 0.8561726808547974, 0.8561726212501526, 0.8561726212501526, 0.8559209704399109, 0.8540168404579163, 0.8530422449111938, 0.8492078185081482, 0.8492077589035034, 0.8492076992988586, 0.8492076992988586, 0.8473185896873474, 0.8473184704780579, 0.8473184704780579, 0.8468303084373474, 0.8468303084373474, 0.8459098935127258, 0.8438529968261719, 0.8438195586204529, 0.8406728506088257, 0.8386279344558716, 0.8383355140686035, 0.8376104831695557, 0.9749999642372131, 0.9695895910263062, 0.9682456851005554, 0.9561829566955566, 0.9560661315917969, 0.9560660719871521, 0.9547033309936523, 0.954594075679779, 0.946340024471283, 0.946340024471283, 0.942927896976471, 0.9407528638839722, 0.9398255348205566, 0.9398255348205566, 0.9389711618423462, 0.9383147954940796, 0.9375001192092896, 0.9360565543174744, 0.9360565543174744, 0.9360565543174744, 0.9359709620475769, 0.9354143142700195, 0.9341285228729248, 0.9341285228729248, 0.932773232460022, 0.9284766316413879, 0.9284766316413879, 0.9282791018486023, 0.9280776977539062, 0.9280776977539062, 0.9280775785446167, 0.9274260401725769, 0.9263022541999817, 0.9263021349906921, 0.9250001311302185, 0.9250001311302185, 0.923186182975769, 0.92317134141922, 0.9231711626052856, 0.9223309755325317, 0.9214785695075989, 0.9503288865089417, 0.9503288865089417, 0.9486833810806274, 0.9315559267997742, 0.9302604794502258, 0.9296697378158569, 0.9219545125961304, 0.9219544529914856, 0.9219544529914856, 0.9203579425811768, 0.9203579425811768, 0.9192389249801636, 0.9170605540275574, 0.9135003089904785, 0.9135003089904785, 0.910980224609375, 0.9101914167404175, 0.9101912975311279, 0.9091548323631287, 0.9091548323631287, 0.9091548323631287, 0.908738911151886, 0.908025324344635, 0.9080252647399902, 0.9071148633956909, 0.9071148037910461, 0.9071148037910461, 0.9071147441864014, 0.9068452715873718, 0.9068452715873718, 0.9068452715873718, 0.9057894945144653, 0.9057894945144653, 0.9057893753051758, 0.904534101486206, 0.9014912843704224, 0.9012492299079895, 0.9000000953674316, 0.9000000953674316, 0.9000000953674316, 0.8999999761581421, 0.9622504115104675, 0.8944272398948669, 0.8944271206855774, 0.8944271206855774, 0.8846516013145447, 0.8750001192092896, 0.8728716373443604, 0.866025447845459, 0.866025447845459, 0.866025447845459, 0.8574929237365723, 0.8534919023513794, 0.8512056469917297, 0.8488746881484985, 0.8488746881484985, 0.8488746881484985, 0.8486685156822205, 0.8463273644447327, 0.8461141586303711, 0.8401681184768677, 0.8391464352607727, 0.8391464352607727, 0.8360797166824341, 0.8356289863586426, 0.8320502638816833, 0.8320502638816833, 0.8249579668045044, 0.8249579668045044, 0.8249579668045044, 0.8249579071998596, 0.816496729850769, 0.8164966106414795, 0.8164965510368347, 0.8111070394515991, 0.8111070394515991, 0.8111070394515991, 0.8111070394515991, 0.8111070394515991, 0.8111070394515991, 0.8084521293640137, 0.8082239031791687, 0.9660918116569519, 0.9561829566955566, 0.9449111223220825, 0.9354144334793091, 0.9354143142700195, 0.9354143142700195, 0.9354143142700195, 0.9331389665603638, 0.9331389665603638, 0.9258201122283936, 0.9116846323013306, 0.9083737134933472, 0.9074852466583252, 0.9074852466583252, 0.904106080532074, 0.8970851898193359, 0.8964214324951172, 0.8933250904083252, 0.8908708095550537, 0.8908708095550537, 0.8894992470741272, 0.8894991278648376, 0.867110013961792, 0.867110013961792, 0.8671099543571472, 0.8583951592445374, 0.8583950996398926, 0.8583325147628784, 0.8583325147628784, 0.857142984867096, 0.8571428656578064, 0.8571428060531616, 0.8552359938621521, 0.8547043800354004, 0.8528029322624207, 0.8486684560775757, 0.8486684560775757, 0.8486684560775757, 0.8486683964729309, 0.8486683964729309, 0.8463272452354431, 0.9622504115104675, 0.8944272398948669, 0.8944271206855774, 0.8944271206855774, 0.8846516013145447, 0.8750001192092896, 0.8728716373443604, 0.866025447845459, 0.866025447845459, 0.866025447845459, 0.8574929237365723, 0.8534919023513794, 0.8512056469917297, 0.8488746881484985, 0.8488746881484985, 0.8488746881484985, 0.8486685156822205, 0.8463273644447327, 0.8461141586303711, 0.8401681184768677, 0.8391464352607727, 0.8391464352607727, 0.8360797166824341, 0.8356289863586426, 0.8320502638816833, 0.8320502638816833, 0.8249579668045044, 0.8249579668045044, 0.8249579668045044, 0.8249579071998596, 0.816496729850769, 0.8164966106414795, 0.8164965510368347, 0.8111070394515991, 0.8111070394515991, 0.8111070394515991, 0.8111070394515991, 0.8111070394515991, 0.8111070394515991, 0.8084521293640137, 0.8082239031791687, 0.9770083427429199, 0.9331388473510742, 0.9285714030265808, 0.9265615940093994, 0.9258200526237488, 0.918262243270874, 0.9134141802787781, 0.9104654788970947, 0.9104654788970947, 0.9086881875991821, 0.9086881875991821, 0.9072646498680115, 0.9035079479217529, 0.8987169861793518, 0.8986450433731079, 0.8976656198501587, 0.8976656198501587, 0.8970853090286255, 0.8970853090286255, 0.8966529965400696, 0.8966529965400696, 0.8966333270072937, 0.8966333270072937, 0.8966332674026489, 0.8966332674026489, 0.8950414657592773, 0.8934051394462585, 0.8933250308036804, 0.8916451334953308, 0.8916451334953308, 0.891042172908783, 0.8910421133041382, 0.8910421133041382, 0.8908708095550537, 0.8908708095550537, 0.8908708095550537, 0.8890520334243774, 0.8872442245483398, 0.8872442245483398, 0.8864052295684814, 0.8864052295684814, 0.8000190258026123, 0.7397953867912292, 0.7397953867912292, 0.7171372175216675, 0.7106691002845764, 0.7001756429672241, 0.6935279369354248, 0.6885303854942322, 0.6666666269302368, 0.6600984334945679, 0.6471501588821411, 0.6396021842956543, 0.6151477098464966, 0.6137163639068604, 0.612825870513916, 0.596595287322998, 0.589255690574646, 0.589255690574646, 0.589255690574646, 0.5797508955001831, 0.5790660381317139, 0.5783517360687256, 0.5735393166542053, 0.5714631080627441, 0.566138505935669, 0.5594308972358704, 0.5590169429779053, 0.5443310737609863, 0.5039526224136353, 0.5039526224136353, 0.5, 0.5, 0.490653395652771, 0.4898979961872101, 0.48686450719833374, 0.48112523555755615, 0.48112523555755615, 0.48112520575523376, 0.4733646512031555, 0.4733646512031555, 0.471404492855072, 0.8488746881484985, 0.8488746881484985, 0.8488746881484985, 0.835504412651062, 0.8333333134651184, 0.8333333134651184, 0.8333333134651184, 0.8333333134651184, 0.8333333134651184, 0.8333333134651184, 0.8333332538604736, 0.8333332538604736, 0.8303364515304565, 0.8249577879905701, 0.8040302991867065, 0.7808687686920166, 0.771135687828064, 0.766032338142395, 0.7647190690040588, 0.7570332884788513, 0.7570332884788513, 0.7570332884788513, 0.7453559637069702, 0.7453559041023254, 0.7440698146820068, 0.7431604862213135, 0.7385489344596863, 0.7378647923469543, 0.7378647923469543, 0.7378647327423096, 0.7378647327423096, 0.7378647327423096, 0.7362101078033447, 0.7315635085105896, 0.7288109064102173, 0.7276068925857544, 0.726483166217804, 0.7190924882888794, 0.7190924882888794, 0.7184211611747742, 0.7171087265014648, 0.7216877937316895, 0.7092081308364868, 0.6770032048225403, 0.6527911424636841, 0.6481812000274658, 0.6454972624778748, 0.6435959339141846, 0.6405125856399536, 0.6390096545219421, 0.6375982165336609, 0.62275230884552, 0.621059000492096, 0.621059000492096, 0.6134346723556519, 0.6123724579811096, 0.6123723983764648, 0.6123723983764648, 0.6123723983764648, 0.6092718243598938, 0.601929247379303, 0.601929247379303, 0.5958795547485352, 0.589255690574646, 0.5863954424858093, 0.5833333134651184, 0.5809474587440491, 0.5809474587440491, 0.5809474587440491, 0.5797508955001831, 0.5778967142105103, 0.5773502588272095, 0.5773501992225647, 0.5669466853141785, 0.566138505935669, 0.5619514584541321, 0.5601120591163635, 0.5601120591163635, 0.5601120591163635, 0.555555522441864, 0.5539116859436035, 0.547722578048706, 0.8488746881484985, 0.8488746881484985, 0.8488746881484985, 0.835504412651062, 0.8333333134651184, 0.8333333134651184, 0.8333333134651184, 0.8333333134651184, 0.8333333134651184, 0.8333333134651184, 0.8333332538604736, 0.8333332538604736, 0.8303364515304565, 0.8249577879905701, 0.8040302991867065, 0.7808687686920166, 0.771135687828064, 0.766032338142395, 0.7647190690040588, 0.7570332884788513, 0.7570332884788513, 0.7570332884788513, 0.7453559637069702, 0.7453559041023254, 0.7440698146820068, 0.7431604862213135, 0.7385489344596863, 0.7378647923469543, 0.7378647923469543, 0.7378647327423096, 0.7378647327423096, 0.7378647327423096, 0.7362101078033447, 0.7315635085105896, 0.7288109064102173, 0.7276068925857544, 0.726483166217804, 0.7190924882888794, 0.7190924882888794, 0.7184211611747742, 0.7171087265014648, 0.836632490158081, 0.757042407989502, 0.699611485004425, 0.673563539981842, 0.6593307256698608, 0.6507270336151123, 0.6465269327163696, 0.6465269327163696, 0.6465269327163696, 0.6465269327163696, 0.6450098752975464, 0.6409778594970703, 0.6329817175865173, 0.6221113204956055, 0.6181224584579468, 0.616767168045044, 0.6144778728485107, 0.609209418296814, 0.6070536375045776, 0.6069631576538086, 0.604125440120697, 0.6036725044250488, 0.6031628847122192, 0.6021971702575684, 0.6020092368125916, 0.599666953086853, 0.5996668934822083, 0.5994906425476074, 0.5994906425476074, 0.5952290296554565, 0.594788670539856, 0.5888107419013977, 0.5865241289138794, 0.5864024758338928, 0.585707426071167, 0.5857073664665222, 0.5835803151130676, 0.5830095410346985, 0.5827715396881104, 0.5827714800834656, 0.5793535113334656, 0.9782608151435852, 0.9680037498474121, 0.9680037498474121, 0.9609866142272949, 0.9583727717399597, 0.956929087638855, 0.956929087638855, 0.9567298293113708, 0.9567298293113708, 0.953407347202301, 0.9530152082443237, 0.9517337679862976, 0.9515873789787292, 0.9508561491966248, 0.9497161507606506, 0.9497161507606506, 0.9486438632011414, 0.9486438035964966, 0.9486438035964966, 0.948038637638092, 0.9473729133605957, 0.9455454349517822, 0.9455453753471375, 0.9443844556808472, 0.9430418610572815, 0.9430418610572815, 0.9421554207801819, 0.9418280124664307, 0.9409439563751221, 0.9405699968338013, 0.9405699968338013, 0.9405699968338013, 0.9405400156974792, 0.9383147954940796, 0.9383147954940796, 0.9376363158226013, 0.9362573027610779, 0.9355852603912354, 0.9347825646400452, 0.9337990283966064, 0.9337990283966064, 0.9276336431503296, 0.9261981248855591, 0.9180846214294434, 0.9180846214294434, 0.9140905737876892, 0.9109357595443726, 0.9102991819381714, 0.9095085859298706, 0.9095085859298706, 0.9081083536148071, 0.9081082940101624, 0.9080252051353455, 0.9046624302864075, 0.9007546901702881, 0.9007546901702881, 0.900283932685852, 0.8978642821311951, 0.8973817825317383, 0.8973645567893982, 0.895607590675354, 0.8952859044075012, 0.8951715230941772, 0.8932595252990723, 0.8926785588264465, 0.8926784992218018, 0.8917926549911499, 0.8911328911781311, 0.8911328911781311, 0.8911327719688416, 0.8892973065376282, 0.8892971873283386, 0.8885402679443359, 0.8877780437469482, 0.8875744938850403, 0.8868440389633179, 0.8860759139060974, 0.8860759139060974, 0.8860759139060974, 0.8858783841133118, 0.8856148719787598, 0.8856148719787598, 0.9284765720367432, 0.9143006801605225, 0.9005004167556763, 0.8965516090393066, 0.8946300745010376, 0.893852710723877, 0.8913376331329346, 0.8858184814453125, 0.8844476938247681, 0.8823398351669312, 0.8820528984069824, 0.8820527791976929, 0.8817845582962036, 0.8791322112083435, 0.8778665065765381, 0.8778665065765381, 0.8773280382156372, 0.8773280382156372, 0.875420868396759, 0.8753762245178223, 0.8727860450744629, 0.872583270072937, 0.8719774484634399, 0.8718128204345703, 0.8703169822692871, 0.8703169822692871, 0.8703169822692871, 0.8703169822692871, 0.8700221180915833, 0.8685104250907898, 0.8671486377716064, 0.8671485781669617, 0.8671485185623169, 0.8656302690505981, 0.8630340099334717, 0.8630340099334717, 0.8630338907241821, 0.8620791435241699, 0.8620690107345581, 0.8620690107345581, 0.8620690107345581, 0.9782608151435852, 0.9680037498474121, 0.9680037498474121, 0.9609866142272949, 0.9583727717399597, 0.956929087638855, 0.956929087638855, 0.9567298293113708, 0.9567298293113708, 0.953407347202301, 0.9530152082443237, 0.9517337679862976, 0.9515873789787292, 0.9508561491966248, 0.9497161507606506, 0.9497161507606506, 0.9486438632011414, 0.9486438035964966, 0.9486438035964966, 0.948038637638092, 0.9473729133605957, 0.9455454349517822, 0.9455453753471375, 0.9443844556808472, 0.9430418610572815, 0.9430418610572815, 0.9421554207801819, 0.9418280124664307, 0.9409439563751221, 0.9405699968338013, 0.9405699968338013, 0.9405699968338013, 0.9405400156974792, 0.9383147954940796, 0.9383147954940796, 0.9376363158226013, 0.9362573027610779, 0.9355852603912354, 0.9347825646400452, 0.9337990283966064, 0.9337990283966064, 0.8346223831176758, 0.8346223831176758, 0.8346222639083862, 0.8132203221321106, 0.8111070394515991, 0.8029550313949585, 0.8029550313949585, 0.8010019659996033, 0.7980239391326904, 0.7980239391326904, 0.780398964881897, 0.7800135016441345, 0.770053505897522, 0.7648661732673645, 0.7648661732673645, 0.7648661136627197, 0.7635416984558105, 0.7635416984558105, 0.7635416984558105, 0.7570332288742065, 0.7539370656013489, 0.7539370059967041, 0.7530940175056458, 0.7456010580062866, 0.744161069393158, 0.7417380809783936, 0.7368420958518982, 0.7367883324623108, 0.7357671856880188, 0.7357671856880188, 0.7346970438957214, 0.7341303825378418, 0.7341303825378418, 0.7299964427947998, 0.7299964427947998, 0.7299964427947998, 0.728492796421051, 0.7283956408500671, 0.7276068329811096, 0.726483166217804, 0.7254762649536133, 0.9622504711151123, 0.9515374302864075, 0.950262188911438, 0.945967435836792, 0.944444477558136, 0.943564236164093, 0.9372008442878723, 0.9363820552825928, 0.9332565069198608, 0.9239131808280945, 0.9229581356048584, 0.9205665588378906, 0.9152086973190308, 0.9141380786895752, 0.9128710031509399, 0.9097992181777954, 0.9097176790237427, 0.9097176790237427, 0.9080070853233337, 0.908007025718689, 0.9073927998542786, 0.9072648286819458, 0.907218337059021, 0.9036961793899536, 0.9035253524780273, 0.9026709794998169, 0.9019752740859985, 0.9019752144813538, 0.9014410972595215, 0.8986914753913879, 0.8986914157867432, 0.8986914157867432, 0.8981462717056274, 0.8981462717056274, 0.8981462717056274, 0.8936836123466492, 0.8934270739555359, 0.8925848603248596, 0.8923542499542236, 0.8911328315734863, 0.8911328315734863, 0.8346223831176758, 0.8346223831176758, 0.8346222639083862, 0.8132203221321106, 0.8111070394515991, 0.8029550313949585, 0.8029550313949585, 0.8010019659996033, 0.7980239391326904, 0.7980239391326904, 0.780398964881897, 0.7800135016441345, 0.770053505897522, 0.7648661732673645, 0.7648661732673645, 0.7648661136627197, 0.7635416984558105, 0.7635416984558105, 0.7635416984558105, 0.7570332288742065, 0.7539370656013489, 0.7539370059967041, 0.7530940175056458, 0.7456010580062866, 0.744161069393158, 0.7417380809783936, 0.7368420958518982, 0.7367883324623108, 0.7357671856880188, 0.7357671856880188, 0.7346970438957214, 0.7341303825378418, 0.7341303825378418, 0.7299964427947998, 0.7299964427947998, 0.7299964427947998, 0.728492796421051, 0.7283956408500671, 0.7276068329811096, 0.726483166217804, 0.7254762649536133, 0.9435368180274963, 0.9428713917732239, 0.9412417411804199, 0.9324213266372681, 0.9302326440811157, 0.9302326440811157, 0.9279707670211792, 0.9273618459701538, 0.9273618459701538, 0.9244734644889832, 0.9206923246383667, 0.917710542678833, 0.9162613749504089, 0.9153650999069214, 0.9149914979934692, 0.9149914383888245, 0.912018358707428, 0.9093530774116516, 0.9050183892250061, 0.9010819792747498, 0.9010819792747498, 0.9010819792747498, 0.8993874788284302, 0.8972229361534119, 0.8966530561447144, 0.8966529965400696, 0.8934130668640137, 0.8921492099761963, 0.8921491503715515, 0.8921319842338562, 0.890953779220581, 0.8905872106552124, 0.8903481960296631, 0.8896204233169556, 0.8896204233169556, 0.889211893081665, 0.8892118334770203, 0.8892118334770203, 0.8876720070838928, 0.8852571845054626, 0.8842288255691528, 0.9843091368675232, 0.9836212396621704, 0.9777750968933105, 0.9751577377319336, 0.9751577377319336, 0.9751577377319336, 0.9751577377319336, 0.9751577377319336, 0.972415030002594, 0.9722036123275757, 0.9719409942626953, 0.9705231189727783, 0.9692704677581787, 0.9683641195297241, 0.9683641195297241, 0.9683641195297241, 0.9663776159286499, 0.9650869369506836, 0.9640127420425415, 0.9619721174240112, 0.9608385562896729, 0.9569486975669861, 0.9562594890594482, 0.9553254246711731, 0.9553254246711731, 0.9553254246711731, 0.955297589302063, 0.955297589302063, 0.9541301131248474, 0.9541300535202026, 0.9532413482666016, 0.9532413482666016, 0.9532334208488464, 0.9528306722640991, 0.9528305530548096, 0.9525640606880188, 0.952564001083374, 0.952564001083374, 0.9523038864135742, 0.9513515830039978, 0.950914740562439, 0.9513311386108398, 0.9501320123672485, 0.9501192569732666, 0.9417286515235901, 0.9412097334861755, 0.9377430081367493, 0.9377430081367493, 0.9374334216117859, 0.9373601675033569, 0.9349288940429688, 0.934928834438324, 0.934928834438324, 0.9349287748336792, 0.9345024824142456, 0.9345024228096008, 0.9331203103065491, 0.9331203103065491, 0.9331203103065491, 0.9331203103065491, 0.9331203103065491, 0.9320410490036011, 0.9315560460090637, 0.9311728477478027, 0.9301145672798157, 0.9299209117889404, 0.9297347664833069, 0.9297347068786621, 0.9292548894882202, 0.9263104200363159, 0.9251285791397095, 0.9242495894432068, 0.9242495894432068, 0.924249529838562, 0.9236085414886475, 0.9229729771614075, 0.9224556684494019, 0.9224556088447571, 0.9212563037872314, 0.9207664728164673, 0.9207664132118225, 0.920751690864563, 0.9642366170883179, 0.9640074372291565, 0.9640074372291565, 0.9640074372291565, 0.9640073776245117, 0.9633924961090088, 0.9607347846031189, 0.9572985172271729, 0.9541200399398804, 0.95402991771698, 0.9536611437797546, 0.9534624814987183, 0.9534624814987183, 0.9534624814987183, 0.9529973864555359, 0.9529973864555359, 0.9517784118652344, 0.950641393661499, 0.9500337839126587, 0.9500337839126587, 0.9497606754302979, 0.9497606754302979, 0.9495812654495239, 0.9487231969833374, 0.9487231969833374, 0.9486833810806274, 0.9481194019317627, 0.9474503397941589, 0.9474503397941589, 0.9472365379333496, 0.944735586643219, 0.9438799619674683, 0.9438799023628235, 0.9433414936065674, 0.9415839314460754, 0.9409146308898926, 0.9405823349952698, 0.9405790567398071, 0.9396635293960571, 0.9396635293960571, 0.9390186071395874, 0.9316949248313904, 0.9190183877944946, 0.9170702695846558, 0.9036961793899536, 0.9036961197853088, 0.8948929309844971, 0.8948929309844971, 0.8944271802902222, 0.8944271206855774, 0.8944271206855774, 0.8901636004447937, 0.8857993483543396, 0.8783100843429565, 0.8677217960357666, 0.8666665554046631, 0.8588974475860596, 0.8539918661117554, 0.8500001430511475, 0.8485281467437744, 0.8485281467437744, 0.8480265140533447, 0.845402717590332, 0.8451544046401978, 0.8451544046401978, 0.8451541066169739, 0.8432739973068237, 0.8432739973068237, 0.843273937702179, 0.843273937702179, 0.8391463756561279, 0.8385255336761475, 0.8385255336761475, 0.8380036354064941, 0.8342977166175842, 0.8342976570129395, 0.8329509496688843, 0.8305395841598511, 0.8304547667503357, 0.8302051424980164, 0.8295150995254517, 0.8280786871910095, 0.9072647094726562, 0.8959786295890808, 0.8816820383071899, 0.8814089298248291, 0.880450963973999, 0.8798826932907104, 0.8703882694244385, 0.8675276041030884, 0.8675276041030884, 0.8675276041030884, 0.8672274351119995, 0.866025447845459, 0.866025447845459, 0.8660253286361694, 0.8576900959014893, 0.8576900959014893, 0.8533201813697815, 0.8528029322624207, 0.8492077589035034, 0.8492077589035034, 0.8492077589035034, 0.8492076992988586, 0.8486684560775757, 0.8486684560775757, 0.8486683368682861, 0.8486683368682861, 0.8463272452354431, 0.8432740569114685, 0.8432740569114685, 0.843273937702179, 0.8432209491729736, 0.8429272174835205, 0.8416253924369812, 0.8416253924369812, 0.8406727313995361, 0.8401679992675781, 0.8391463756561279, 0.8364283442497253, 0.8364283442497253, 0.8364283442497253, 0.8333333730697632, 0.9316949248313904, 0.9190183877944946, 0.9170702695846558, 0.9036961793899536, 0.9036961197853088, 0.8948929309844971, 0.8948929309844971, 0.8944271802902222, 0.8944271206855774, 0.8944271206855774, 0.8901636004447937, 0.8857993483543396, 0.8783100843429565, 0.8677217960357666, 0.8666665554046631, 0.8588974475860596, 0.8539918661117554, 0.8500001430511475, 0.8485281467437744, 0.8485281467437744, 0.8480265140533447, 0.845402717590332, 0.8451544046401978, 0.8451544046401978, 0.8451541066169739, 0.8432739973068237, 0.8432739973068237, 0.843273937702179, 0.843273937702179, 0.8391463756561279, 0.8385255336761475, 0.8385255336761475, 0.8380036354064941, 0.8342977166175842, 0.8342976570129395, 0.8329509496688843, 0.8305395841598511, 0.8304547667503357, 0.8302051424980164, 0.8295150995254517, 0.8280786871910095, 0.9805806875228882, 0.9621024131774902, 0.9476965665817261, 0.9466737508773804, 0.9389157891273499, 0.9351438879966736, 0.9348928332328796, 0.9341285228729248, 0.930949330329895, 0.9302605390548706, 0.928015410900116, 0.9247722625732422, 0.9245002865791321, 0.9229719638824463, 0.9226039052009583, 0.9217865467071533, 0.9201151132583618, 0.9198662042617798, 0.9193195104598999, 0.9193193912506104, 0.9173287153244019, 0.9172639846801758, 0.9171444773674011, 0.9150180816650391, 0.9139701128005981, 0.9107077121734619, 0.9107077121734619, 0.9107077121734619, 0.9107077121734619, 0.9104369878768921, 0.9104369878768921, 0.9095880389213562, 0.9095878601074219, 0.9095878601074219, 0.9078413248062134, 0.9078413248062134, 0.9078413248062134, 0.9078412652015686, 0.9078412652015686, 0.9073928594589233, 0.907078742980957, 0.7706745862960815, 0.7537346482276917, 0.7537346482276917, 0.7442084550857544, 0.7089175581932068, 0.7089175581932068, 0.7080881595611572, 0.6928203105926514, 0.6928203105926514, 0.6928203105926514, 0.6831300258636475, 0.6708203554153442, 0.6694387197494507, 0.6666667461395264, 0.6666666865348816, 0.6605782508850098, 0.6605782508850098, 0.6546537280082703, 0.6546537280082703, 0.6531972885131836, 0.6531972289085388, 0.6531972289085388, 0.6531972289085388, 0.6531972289085388, 0.649234414100647, 0.6459752321243286, 0.6454972624778748, 0.64549720287323, 0.6390097141265869, 0.6374552845954895, 0.6350853443145752, 0.632455587387085, 0.632455587387085, 0.632455587387085, 0.632455587387085, 0.632455587387085, 0.632455587387085, 0.632455587387085, 0.6282808780670166, 0.6262242794036865, 0.6262242794036865, 0.9296696186065674, 0.8999999761581421, 0.8215838670730591, 0.8215838670730591, 0.8215838670730591, 0.8198916912078857, 0.809039831161499, 0.809039831161499, 0.809039831161499, 0.809039831161499, 0.8017836809158325, 0.8013876676559448, 0.800000011920929, 0.7951465845108032, 0.7951465845108032, 0.7937253713607788, 0.7928249835968018, 0.7926291227340698, 0.7905694246292114, 0.7905693054199219, 0.7893521785736084, 0.7889319658279419, 0.7826237678527832, 0.7726674675941467, 0.7694838047027588, 0.7694836854934692, 0.7669650316238403, 0.7669649720191956, 0.7613869905471802, 0.7606388330459595, 0.7606388330459595, 0.7606388330459595, 0.7590721249580383, 0.7589466571807861, 0.7589465975761414, 0.7505552768707275, 0.7453559637069702, 0.7453559637069702, 0.7453559637069702, 0.7452412843704224, 0.7452412843704224, 0.7706745862960815, 0.7537346482276917, 0.7537346482276917, 0.7442084550857544, 0.7089175581932068, 0.7089175581932068, 0.7080881595611572, 0.6928203105926514, 0.6928203105926514, 0.6928203105926514, 0.6831300258636475, 0.6708203554153442, 0.6694387197494507, 0.6666667461395264, 0.6666666865348816, 0.6605782508850098, 0.6605782508850098, 0.6546537280082703, 0.6546537280082703, 0.6531972885131836, 0.6531972289085388, 0.6531972289085388, 0.6531972289085388, 0.6531972289085388, 0.649234414100647, 0.6459752321243286, 0.6454972624778748, 0.64549720287323, 0.6390097141265869, 0.6374552845954895, 0.6350853443145752, 0.632455587387085, 0.632455587387085, 0.632455587387085, 0.632455587387085, 0.632455587387085, 0.632455587387085, 0.632455587387085, 0.6282808780670166, 0.6262242794036865, 0.6262242794036865, 0.9583351612091064, 0.9569425582885742, 0.9451889991760254, 0.9442673325538635, 0.9260923862457275, 0.9260923862457275, 0.9150794744491577, 0.9150794744491577, 0.9150793552398682, 0.9101820588111877, 0.910181999206543, 0.9081082344055176, 0.9081082344055176, 0.9074852466583252, 0.9074852466583252, 0.9049228429794312, 0.9049228429794312, 0.9037378430366516, 0.9037378430366516, 0.9037378430366516, 0.9037377834320068, 0.9024852514266968, 0.9019122123718262, 0.9019121527671814, 0.9019120931625366, 0.9008466005325317, 0.9003676176071167, 0.9003676176071167, 0.9003676176071167, 0.9003676176071167, 0.9003675580024719, 0.8997353911399841, 0.8995005488395691, 0.8932459950447083, 0.8932459354400635, 0.8930885195732117, 0.8917016983032227, 0.8911328315734863, 0.8910122513771057, 0.8902637958526611, 0.8902637958526611, 0.9866902828216553, 0.975784420967102, 0.9674797654151917, 0.9674797654151917, 0.9674797654151917, 0.9655351638793945, 0.9633640050888062, 0.9633640050888062, 0.9621404409408569, 0.9607347846031189, 0.9604803919792175, 0.9593835473060608, 0.9585145115852356, 0.9561829566955566, 0.9561829566955566, 0.9558173418045044, 0.9558172821998596, 0.9556189775466919, 0.9550230503082275, 0.9550230503082275, 0.954993724822998, 0.9545941352844238, 0.9545941352844238, 0.953462541103363, 0.953462541103363, 0.9520360231399536, 0.9520360231399536, 0.9515025615692139, 0.9503288269042969, 0.9490707516670227, 0.9486833810806274, 0.9471880197525024, 0.9468951225280762, 0.9465078711509705, 0.9455945491790771, 0.9455945491790771, 0.9438798427581787, 0.9438797831535339, 0.9438797831535339, 0.9432422518730164, 0.9428277611732483, 0.9532061815261841, 0.9374860525131226, 0.9370892643928528, 0.9353047609329224, 0.9353047609329224, 0.9353047609329224, 0.9332565069198608, 0.9332565069198608, 0.9322020411491394, 0.9313342571258545, 0.9313342571258545, 0.9284088611602783, 0.9279607534408569, 0.9274777173995972, 0.9268475770950317, 0.926847517490387, 0.9268472790718079, 0.9262908697128296, 0.9262435436248779, 0.9247311353683472, 0.9242740869522095, 0.9242740273475647, 0.92406165599823, 0.9236371517181396, 0.9215506315231323, 0.9213557243347168, 0.9210566282272339, 0.9207508563995361, 0.9206015467643738, 0.9206015467643738, 0.920558512210846, 0.9202830791473389, 0.9190074801445007, 0.9190074801445007, 0.9190074801445007, 0.9165445566177368, 0.9165445566177368, 0.9165444374084473, 0.9164396524429321, 0.9133691787719727, 0.9133690595626831, 0.9594032764434814, 0.9574270248413086, 0.9534626007080078, 0.942082405090332, 0.942082405090332, 0.942082405090332, 0.9285403490066528, 0.9284141659736633, 0.9199353456497192, 0.9198660850524902, 0.9173648953437805, 0.9116845726966858, 0.9111469984054565, 0.910578727722168, 0.9103584289550781, 0.9090908169746399, 0.9074425101280212, 0.904534101486206, 0.904534101486206, 0.904534101486206, 0.904534101486206, 0.904534101486206, 0.904534101486206, 0.904534101486206, 0.8983221650123596, 0.8935250639915466, 0.8869684934616089, 0.8780540227890015, 0.8764597177505493, 0.8761903643608093, 0.8746731877326965, 0.8746731877326965, 0.8727860450744629, 0.8709883689880371, 0.8709883093833923, 0.8703882098197937, 0.8678333163261414, 0.8664001822471619, 0.8664001822471619, 0.8656574487686157, 0.8624395132064819, 0.9798048138618469, 0.9798048138618469, 0.9798048138618469, 0.9770543575286865, 0.9756366014480591, 0.9756366014480591, 0.9743975400924683, 0.9729740023612976, 0.9727162718772888, 0.9716055393218994, 0.9683640003204346, 0.9683640003204346, 0.967993974685669, 0.967993974685669, 0.9677928686141968, 0.9671894311904907, 0.9671893119812012, 0.9671893119812012, 0.9671597480773926, 0.9656091332435608, 0.9656091332435608, 0.9641643166542053, 0.9641643166542053, 0.9624354243278503, 0.9611613750457764, 0.96076899766922, 0.9592544436454773, 0.9586621522903442, 0.9559042453765869, 0.9559042453765869, 0.9552585482597351, 0.9548386931419373, 0.9548198580741882, 0.953349769115448, 0.9533497095108032, 0.9528706073760986, 0.9517623782157898, 0.9515216946601868, 0.9512699842453003, 0.950933039188385, 0.9488521814346313, 0.9341987371444702, 0.9271726608276367, 0.9166666269302368, 0.9141378402709961, 0.9128709435462952, 0.9112957119941711, 0.9036960601806641, 0.9036960601806641, 0.9036960601806641, 0.9036960601806641, 0.8940593004226685, 0.8911328315734863, 0.8908708095550537, 0.8908708095550537, 0.8897565007209778, 0.888888955116272, 0.888888955116272, 0.8872442841529846, 0.8872442245483398, 0.8872442245483398, 0.884537935256958, 0.8819170594215393, 0.8819169998168945, 0.8816820383071899, 0.8807048201560974, 0.8804508447647095, 0.8783100843429565, 0.8728715777397156, 0.8672274351119995, 0.8672274351119995, 0.8660255074501038, 0.866025447845459, 0.866025447845459, 0.8660253286361694, 0.8660253286361694, 0.8660253286361694, 0.864392876625061, 0.861640453338623, 0.8576900959014893, 0.8565861582756042, 0.8564858436584473, 0.9333333373069763, 0.930949330329895, 0.930949330329895, 0.9214785695075989, 0.9128709435462952, 0.9109803438186646, 0.9109802842140198, 0.9098432064056396, 0.9056240916252136, 0.9056240916252136, 0.9036961197853088, 0.9014979600906372, 0.8989331722259521, 0.8981462717056274, 0.8981462121009827, 0.8944272398948669, 0.8944271802902222, 0.8944271206855774, 0.8898984789848328, 0.8807710409164429, 0.8788290023803711, 0.8765009641647339, 0.8755950331687927, 0.8741913437843323, 0.8739803433418274, 0.8728715181350708, 0.8682430982589722, 0.8666667342185974, 0.8666666746139526, 0.866249144077301, 0.8660255074501038, 0.8660253286361694, 0.8608284592628479, 0.8606629967689514, 0.8606629371643066, 0.8593379259109497, 0.8581165075302124, 0.8563488721847534, 0.8563488125801086, 0.8533104062080383, 0.8520128726959229, 0.9341987371444702, 0.9271726608276367, 0.9166666269302368, 0.9141378402709961, 0.9128709435462952, 0.9112957119941711, 0.9036960601806641, 0.9036960601806641, 0.9036960601806641, 0.9036960601806641, 0.8940593004226685, 0.8911328315734863, 0.8908708095550537, 0.8908708095550537, 0.8897565007209778, 0.888888955116272, 0.888888955116272, 0.8872442841529846, 0.8872442245483398, 0.8872442245483398, 0.884537935256958, 0.8819170594215393, 0.8819169998168945, 0.8816820383071899, 0.8807048201560974, 0.8804508447647095, 0.8783100843429565, 0.8728715777397156, 0.8672274351119995, 0.8672274351119995, 0.8660255074501038, 0.866025447845459, 0.866025447845459, 0.8660253286361694, 0.8660253286361694, 0.8660253286361694, 0.864392876625061, 0.861640453338623, 0.8576900959014893, 0.8565861582756042, 0.8564858436584473, 0.9169092178344727, 0.9101914167404175, 0.8982742428779602, 0.8965518474578857, 0.8863184452056885, 0.8858184814453125, 0.8853155970573425, 0.8853155970573425, 0.8763704299926758, 0.8740284442901611, 0.8735889196395874, 0.870022177696228, 0.8623165488243103, 0.8620792627334595, 0.8596023321151733, 0.8596023321151733, 0.8596023321151733, 0.8534918427467346, 0.8534918427467346, 0.8534917831420898, 0.8534047603607178, 0.8518433570861816, 0.8495482206344604, 0.8495482206344604, 0.8478026390075684, 0.8457281589508057, 0.843695878982544, 0.843695878982544, 0.843695878982544, 0.843695878982544, 0.8436958193778992, 0.8434653878211975, 0.8434653282165527, 0.8434653282165527, 0.843465268611908, 0.8410214781761169, 0.8403611183166504, 0.8403611183166504, 0.8398387432098389, 0.8396798372268677, 0.8376106023788452, 0.9898029565811157, 0.9894988536834717, 0.9829463958740234, 0.9784426689147949, 0.9784426689147949, 0.9647573828697205, 0.9635884165763855, 0.9630868434906006, 0.9630868434906006, 0.9630868434906006, 0.9630868434906006, 0.9630868434906006, 0.9630868434906006, 0.9630868434906006, 0.9630868434906006, 0.9630868434906006, 0.9630868434906006, 0.9630868434906006, 0.9630868434906006, 0.9630868434906006, 0.9630868434906006, 0.9630868434906006, 0.9630868434906006, 0.9630868434906006, 0.9630868434906006, 0.9630868434906006, 0.9630868434906006, 0.9630868434906006, 0.9630868434906006, 0.9630868434906006, 0.9630868434906006, 0.9603469371795654, 0.9603468775749207, 0.9603468775749207, 0.9583727717399597, 0.9556496739387512, 0.9556496739387512, 0.9556496739387512, 0.9543273448944092, 0.9513653516769409, 0.9500913023948669, 0.928506076335907, 0.8606629967689514, 0.8606629967689514, 0.8013433814048767, 0.7918388843536377, 0.7772119641304016, 0.7693164944648743, 0.7592567205429077, 0.7592564821243286, 0.7590721249580383, 0.7569125890731812, 0.7531184554100037, 0.7531184554100037, 0.7508517503738403, 0.75, 0.7440382242202759, 0.7429777979850769, 0.7423522472381592, 0.7416198253631592, 0.7416198253631592, 0.7416198253631592, 0.7416198253631592, 0.7378648519515991, 0.7378647923469543, 0.7378647923469543, 0.7267220616340637, 0.726722002029419, 0.721687912940979, 0.7199608087539673, 0.7183811664581299, 0.7171370983123779, 0.7144345641136169, 0.7080880999565125, 0.7079098224639893, 0.705024003982544, 0.705024003982544, 0.705024003982544, 0.7050238847732544, 0.7034175992012024, 0.7028168439865112, 0.7016464471817017, 0.9767818450927734, 0.9675326347351074, 0.963546097278595, 0.9621403813362122, 0.9603919982910156, 0.9596789479255676, 0.9594032764434814, 0.9534624814987183, 0.9534624814987183, 0.9532307386398315, 0.9493857622146606, 0.9489284753799438, 0.9489284753799438, 0.9489284753799438, 0.9489284753799438, 0.9489284753799438, 0.9486833810806274, 0.9463773965835571, 0.9436284899711609, 0.9430055022239685, 0.9429904222488403, 0.9429903030395508, 0.9429903030395508, 0.9408842921257019, 0.9400193691253662, 0.939148485660553, 0.9389861822128296, 0.9389861822128296, 0.9389861822128296, 0.9389711022377014, 0.9389711022377014, 0.9354953169822693, 0.9354953169822693, 0.9354143142700195, 0.9339475035667419, 0.9339475035667419, 0.9339475035667419, 0.9336221218109131, 0.9333809614181519, 0.9311283826828003, 0.9295160174369812, 0.9765536189079285, 0.9750854969024658, 0.9749135375022888, 0.9749135375022888, 0.9749135375022888, 0.9723448157310486, 0.9723448157310486, 0.9716054201126099, 0.9707252979278564, 0.9673307538032532, 0.9673307538032532, 0.9609279036521912, 0.9607689380645752, 0.9607689380645752, 0.9607689380645752, 0.9578133225440979, 0.9575175642967224, 0.9553170204162598, 0.9542195796966553, 0.9534239768981934, 0.9529258012771606, 0.9518745541572571, 0.9516486525535583, 0.9516486525535583, 0.9516485929489136, 0.9516485929489136, 0.9516485929489136, 0.9516485929489136, 0.9516485929489136, 0.9516485929489136, 0.9510344862937927, 0.9510344862937927, 0.950933039188385, 0.950933039188385, 0.9487437605857849, 0.9478946924209595, 0.9476128220558167, 0.9464575052261353, 0.9460287690162659, 0.9448347091674805, 0.9448346495628357, 1.0, 1.0, 1.0, 1.0, 1.0, 1.0, 1.0, 1.0, 1.0, 0.9701424241065979, 0.9701423645019531, 0.9354143738746643, 0.9354143738746643, 0.9354143738746643, 0.9354143142700195, 0.9176629781723022, 0.8944272398948669, 0.875, 0.875, 0.866025447845459, 0.866025447845459, 0.866025447845459, 0.866025447845459, 0.8504201173782349, 0.8498365879058838, 0.8333332538604736, 0.8320503234863281, 0.8320503234863281, 0.8320503234863281, 0.8249579668045044, 0.8249578475952148, 0.8164966106414795, 0.8164966106414795, 0.8126046061515808, 0.8111474514007568, 0.8111070990562439, 0.8082239031791687, 0.8082238435745239, 0.8017838597297668, 0.8017838001251221, 0.8017838001251221, 0.9767818450927734, 0.9675326347351074, 0.963546097278595, 0.9621403813362122, 0.9603919982910156, 0.9596789479255676, 0.9594032764434814, 0.9534624814987183, 0.9534624814987183, 0.9532307386398315, 0.9493857622146606, 0.9489284753799438, 0.9489284753799438, 0.9489284753799438, 0.9489284753799438, 0.9489284753799438, 0.9486833810806274, 0.9463773965835571, 0.9436284899711609, 0.9430055022239685, 0.9429904222488403, 0.9429903030395508, 0.9429903030395508, 0.9408842921257019, 0.9400193691253662, 0.939148485660553, 0.9389861822128296, 0.9389861822128296, 0.9389861822128296, 0.9389711022377014, 0.9389711022377014, 0.9354953169822693, 0.9354953169822693, 0.9354143142700195, 0.9339475035667419, 0.9339475035667419, 0.9339475035667419, 0.9336221218109131, 0.9333809614181519, 0.9311283826828003, 0.9295160174369812, 0.9767818450927734, 0.9675326347351074, 0.963546097278595, 0.9621403813362122, 0.9603919982910156, 0.9596789479255676, 0.9594032764434814, 0.9534624814987183, 0.9534624814987183, 0.9532307386398315, 0.9493857622146606, 0.9489284753799438, 0.9489284753799438, 0.9489284753799438, 0.9489284753799438, 0.9489284753799438, 0.9486833810806274, 0.9463773965835571, 0.9436284899711609, 0.9430055022239685, 0.9429904222488403, 0.9429903030395508, 0.9429903030395508, 0.9408842921257019, 0.9400193691253662, 0.939148485660553, 0.9389861822128296, 0.9389861822128296, 0.9389861822128296, 0.9389711022377014, 0.9389711022377014, 0.9354953169822693, 0.9354953169822693, 0.9354143142700195, 0.9339475035667419, 0.9339475035667419, 0.9339475035667419, 0.9336221218109131, 0.9333809614181519, 0.9311283826828003, 0.9295160174369812, 0.9765536189079285, 0.9750854969024658, 0.9749135375022888, 0.9749135375022888, 0.9749135375022888, 0.9723448157310486, 0.9723448157310486, 0.9716054201126099, 0.9707252979278564, 0.9673307538032532, 0.9673307538032532, 0.9609279036521912, 0.9607689380645752, 0.9607689380645752, 0.9607689380645752, 0.9578133225440979, 0.9575175642967224, 0.9553170204162598, 0.9542195796966553, 0.9534239768981934, 0.9529258012771606, 0.9518745541572571, 0.9516486525535583, 0.9516486525535583, 0.9516485929489136, 0.9516485929489136, 0.9516485929489136, 0.9516485929489136, 0.9516485929489136, 0.9516485929489136, 0.9510344862937927, 0.9510344862937927, 0.950933039188385, 0.950933039188385, 0.9487437605857849, 0.9478946924209595, 0.9476128220558167, 0.9464575052261353, 0.9460287690162659, 0.9448347091674805, 0.9448346495628357, 1.0, 1.0, 1.0, 1.0, 1.0, 1.0, 1.0, 1.0, 1.0, 0.9701424241065979, 0.9701423645019531, 0.9354143738746643, 0.9354143738746643, 0.9354143738746643, 0.9354143142700195, 0.9176629781723022, 0.8944272398948669, 0.875, 0.875, 0.866025447845459, 0.866025447845459, 0.866025447845459, 0.866025447845459, 0.8504201173782349, 0.8498365879058838, 0.8333332538604736, 0.8320503234863281, 0.8320503234863281, 0.8320503234863281, 0.8249579668045044, 0.8249578475952148, 0.8164966106414795, 0.8164966106414795, 0.8126046061515808, 0.8111474514007568, 0.8111070990562439, 0.8082239031791687, 0.8082238435745239, 0.8017838597297668, 0.8017838001251221, 0.8017838001251221, 0.9767818450927734, 0.9675326347351074, 0.963546097278595, 0.9621403813362122, 0.9603919982910156, 0.9596789479255676, 0.9594032764434814, 0.9534624814987183, 0.9534624814987183, 0.9532307386398315, 0.9493857622146606, 0.9489284753799438, 0.9489284753799438, 0.9489284753799438, 0.9489284753799438, 0.9489284753799438, 0.9486833810806274, 0.9463773965835571, 0.9436284899711609, 0.9430055022239685, 0.9429904222488403, 0.9429903030395508, 0.9429903030395508, 0.9408842921257019, 0.9400193691253662, 0.939148485660553, 0.9389861822128296, 0.9389861822128296, 0.9389861822128296, 0.9389711022377014, 0.9389711022377014, 0.9354953169822693, 0.9354953169822693, 0.9354143142700195, 0.9339475035667419, 0.9339475035667419, 0.9339475035667419, 0.9336221218109131, 0.9333809614181519, 0.9311283826828003, 0.9295160174369812, 0.927105188369751, 0.927105188369751, 0.9233805537223816, 0.9233805537223816, 0.9233805537223816, 0.9233805537223816, 0.9223310351371765, 0.9185587167739868, 0.9150798320770264, 0.9091923236846924, 0.9086883664131165, 0.9086882472038269, 0.9068453311920166, 0.9068453311920166, 0.9068453311920166, 0.9068452715873718, 0.9067235589027405, 0.9057895541191101, 0.9057895541191101, 0.9057257175445557, 0.9057255983352661, 0.9036961197853088, 0.9036961197853088, 0.9036425352096558, 0.9035078883171082, 0.9027075171470642, 0.9004503488540649, 0.9000000357627869, 0.8992518186569214, 0.8977311253547668, 0.8977310657501221, 0.8959786891937256, 0.8959786891937256, 0.8959786891937256, 0.8948382139205933, 0.8944272994995117, 0.8944272398948669, 0.8901636004447937, 0.8894600868225098, 0.888956606388092, 0.8889341950416565, 0.9318912625312805, 0.9318912625312805, 0.931891143321991, 0.931891143321991, 0.9284141063690186, 0.9239884614944458, 0.9214065670967102, 0.9185315370559692, 0.9185314774513245, 0.9185314774513245, 0.9132660627365112, 0.9132660627365112, 0.9121594429016113, 0.9121593832969666, 0.908295214176178, 0.907442569732666, 0.903652012348175, 0.9014203548431396, 0.8994011878967285, 0.8994011878967285, 0.8994011878967285, 0.8994011878967285, 0.8983222246170044, 0.8971500396728516, 0.895622193813324, 0.8927095532417297, 0.8924134969711304, 0.8924133777618408, 0.8922686576843262, 0.8922686576843262, 0.8922268748283386, 0.8919916152954102, 0.891455352306366, 0.889898419380188, 0.8897131681442261, 0.8883363604545593, 0.8883363604545593, 0.8883362412452698, 0.8882347941398621, 0.8876253962516785, 0.8871639966964722, 0.9999999403953552, 0.9999999403953552, 0.9999999403953552, 0.9999999403953552, 0.9999999403953552, 0.9999999403953552, 0.9999999403953552, 0.9999999403953552, 0.9999999403953552, 0.9999999403953552, 0.9999999403953552, 0.9999999403953552, 0.9999999403953552, 0.9999999403953552, 0.9999999403953552, 0.9999999403953552, 0.9999999403953552, 0.9999999403953552, 0.9999999403953552, 0.9999999403953552, 0.9999999403953552, 0.9999999403953552, 0.9819805026054382, 0.9701424837112427, 0.9701424837112427, 0.9594032764434814, 0.9444443583488464, 0.9354143738746643, 0.9354143738746643, 0.9176629185676575, 0.9036961197853088, 0.8872443437576294, 0.884537935256958, 0.883883535861969, 0.8816820383071899, 0.8757291436195374, 0.8750000596046448, 0.8750000596046448, 0.8750000596046448, 0.875, 0.8660253882408142, 0.9504968523979187, 0.9495629072189331, 0.9495629072189331, 0.9428291916847229, 0.9428291916847229, 0.9428291320800781, 0.9428291320800781, 0.9428291320800781, 0.9415245056152344, 0.9306779503822327, 0.9306631088256836, 0.9304841756820679, 0.9304841756820679, 0.9304841160774231, 0.9304841160774231, 0.9243422150611877, 0.9210565686225891, 0.9210565686225891, 0.9187794923782349, 0.9186933636665344, 0.9173650741577148, 0.9173650741577148, 0.9173649549484253, 0.9163297414779663, 0.9163297414779663, 0.9154754877090454, 0.9150522351264954, 0.9150521755218506, 0.9150521755218506, 0.9143939018249512, 0.9143939018249512, 0.9141045212745667, 0.9137173295021057, 0.9137173295021057, 0.9121594429016113, 0.9121593236923218, 0.9121593236923218, 0.9121593236923218, 0.9121593236923218, 0.9121593236923218, 0.9121033549308777, 0.927105188369751, 0.927105188369751, 0.9233805537223816, 0.9233805537223816, 0.9233805537223816, 0.9233805537223816, 0.9223310351371765, 0.9185587167739868, 0.9150798320770264, 0.9091923236846924, 0.9086883664131165, 0.9086882472038269, 0.9068453311920166, 0.9068453311920166, 0.9068453311920166, 0.9068452715873718, 0.9067235589027405, 0.9057895541191101, 0.9057895541191101, 0.9057257175445557, 0.9057255983352661, 0.9036961197853088, 0.9036961197853088, 0.9036425352096558, 0.9035078883171082, 0.9027075171470642, 0.9004503488540649, 0.9000000357627869, 0.8992518186569214, 0.8977311253547668, 0.8977310657501221, 0.8959786891937256, 0.8959786891937256, 0.8959786891937256, 0.8948382139205933, 0.8944272994995117, 0.8944272398948669, 0.8901636004447937, 0.8894600868225098, 0.888956606388092, 0.8889341950416565, 0.9318912625312805, 0.9318912625312805, 0.931891143321991, 0.931891143321991, 0.9284141063690186, 0.9239884614944458, 0.9214065670967102, 0.9185315370559692, 0.9185314774513245, 0.9185314774513245, 0.9132660627365112, 0.9132660627365112, 0.9121594429016113, 0.9121593832969666, 0.908295214176178, 0.907442569732666, 0.903652012348175, 0.9014203548431396, 0.8994011878967285, 0.8994011878967285, 0.8994011878967285, 0.8994011878967285, 0.8983222246170044, 0.8971500396728516, 0.895622193813324, 0.8927095532417297, 0.8924134969711304, 0.8924133777618408, 0.8922686576843262, 0.8922686576843262, 0.8922268748283386, 0.8919916152954102, 0.891455352306366, 0.889898419380188, 0.8897131681442261, 0.8883363604545593, 0.8883363604545593, 0.8883362412452698, 0.8882347941398621, 0.8876253962516785, 0.8871639966964722, 0.9999999403953552, 0.9999999403953552, 0.9999999403953552, 0.9999999403953552, 0.9999999403953552, 0.9999999403953552, 0.9999999403953552, 0.9999999403953552, 0.9999999403953552, 0.9999999403953552, 0.9999999403953552, 0.9999999403953552, 0.9999999403953552, 0.9999999403953552, 0.9999999403953552, 0.9999999403953552, 0.9999999403953552, 0.9999999403953552, 0.9999999403953552, 0.9999999403953552, 0.9999999403953552, 0.9999999403953552, 0.9819805026054382, 0.9701424837112427, 0.9701424837112427, 0.9594032764434814, 0.9444443583488464, 0.9354143738746643, 0.9354143738746643, 0.9176629185676575, 0.9036961197853088, 0.8872443437576294, 0.884537935256958, 0.883883535861969, 0.8816820383071899, 0.8757291436195374, 0.8750000596046448, 0.8750000596046448, 0.8750000596046448, 0.875, 0.8660253882408142, 0.9504968523979187, 0.9495629072189331, 0.9495629072189331, 0.9428291916847229, 0.9428291916847229, 0.9428291320800781, 0.9428291320800781, 0.9428291320800781, 0.9415245056152344, 0.9306779503822327, 0.9306631088256836, 0.9304841756820679, 0.9304841756820679, 0.9304841160774231, 0.9304841160774231, 0.9243422150611877, 0.9210565686225891, 0.9210565686225891, 0.9187794923782349, 0.9186933636665344, 0.9173650741577148, 0.9173650741577148, 0.9173649549484253, 0.9163297414779663, 0.9163297414779663, 0.9154754877090454, 0.9150522351264954, 0.9150521755218506, 0.9150521755218506, 0.9143939018249512, 0.9143939018249512, 0.9141045212745667, 0.9137173295021057, 0.9137173295021057, 0.9121594429016113, 0.9121593236923218, 0.9121593236923218, 0.9121593236923218, 0.9121593236923218, 0.9121593236923218, 0.9121033549308777, 0.9746794104576111, 0.9550230503082275, 0.9534626603126526, 0.9486833810806274, 0.9486833810806274, 0.9467291831970215, 0.9449111819267273, 0.934198796749115, 0.9316950440406799, 0.9316949844360352, 0.9316949844360352, 0.9316949844360352, 0.9316948652267456, 0.9315560460090637, 0.9296696782112122, 0.9237022995948792, 0.9237022995948792, 0.9237022399902344, 0.9237022399902344, 0.9237022399902344, 0.9216353297233582, 0.9209108948707581, 0.9203580021858215, 0.920357882976532, 0.920357882976532, 0.9190182685852051, 0.9190182685852051, 0.9170606136322021, 0.9141740798950195, 0.9135003089904785, 0.9135003089904785, 0.9135003089904785, 0.9135002493858337, 0.9135002493858337, 0.9132592678070068, 0.9128709435462952, 0.9128708243370056, 0.9101698398590088, 0.9101698398590088, 0.9101697206497192, 0.9091920852661133, 0.9574270248413086, 0.9486833810806274, 0.9449111819267273, 0.942808985710144, 0.941596269607544, 0.9298987984657288, 0.9244735836982727, 0.9238697290420532, 0.9223308563232422, 0.9185585379600525, 0.9185585379600525, 0.9141380190849304, 0.9141379594802856, 0.9141379594802856, 0.9138599634170532, 0.9131711721420288, 0.9128710031509399, 0.9128710031509399, 0.9128709435462952, 0.9128709435462952, 0.9128709435462952, 0.9128709435462952, 0.9128708839416504, 0.9112957119941711, 0.9103457927703857, 0.9097176194190979, 0.9097176194190979, 0.9082950949668884, 0.9082950949668884, 0.9072184562683105, 0.9060606956481934, 0.9058215618133545, 0.9058215618133545, 0.9058215618133545, 0.9056545495986938, 0.9036961197853088, 0.9036961197853088, 0.9036961197853088, 0.9035252928733826, 0.9035096168518066, 0.9027306437492371, 0.8682430982589722, 0.8362420201301575, 0.827837347984314, 0.827837347984314, 0.8006408214569092, 0.8006408214569092, 0.8006408214569092, 0.8006407022476196, 0.7893521785736084, 0.7893521785736084, 0.7893521785736084, 0.7844644784927368, 0.7692307829856873, 0.7692307829856873, 0.7692307829856873, 0.7627127766609192, 0.7627127170562744, 0.7614996433258057, 0.7526178359985352, 0.7518094778060913, 0.7518094182014465, 0.7472647428512573, 0.7433851361274719, 0.7412493824958801, 0.7412492632865906, 0.7412492632865906, 0.7412492632865906, 0.7399401068687439, 0.7399400472640991, 0.7396003007888794, 0.7354354858398438, 0.7354354858398438, 0.7354354858398438, 0.7282019853591919, 0.7275329232215881, 0.724206805229187, 0.7238423824310303, 0.7211102843284607, 0.7211102247238159, 0.7211101651191711, 0.7205767035484314, 0.9565216898918152, 0.9565216898918152, 0.9498989582061768, 0.9457324743270874, 0.9451747536659241, 0.9443699717521667, 0.9437401294708252, 0.9437401294708252, 0.9437401294708252, 0.9383845329284668, 0.9383148550987244, 0.9363821744918823, 0.9363821744918823, 0.9348927736282349, 0.9337990880012512, 0.9337989687919617, 0.9335636496543884, 0.9325048923492432, 0.9325048327445984, 0.9325048327445984, 0.9325047731399536, 0.9308956861495972, 0.9292836785316467, 0.929283618927002, 0.9274377822875977, 0.9267343878746033, 0.9255481362342834, 0.9255481362342834, 0.9231326580047607, 0.9229581952095032, 0.9223132133483887, 0.921512246131897, 0.921512246131897, 0.921512246131897, 0.920067310333252, 0.9194622039794922, 0.9191833734512329, 0.918714702129364, 0.9170674085617065, 0.9163795709609985, 0.915249228477478, 0.7893521785736084, 0.7682733535766602, 0.7627700567245483, 0.7627700567245483, 0.7378647923469543, 0.7378647923469543, 0.730296790599823, 0.7302967309951782, 0.7181848287582397, 0.7181848287582397, 0.7181848287582397, 0.71611487865448, 0.7046642303466797, 0.7046642303466797, 0.7046642303466797, 0.6999999284744263, 0.6885303258895874, 0.6761233806610107, 0.6751399636268616, 0.6708204746246338, 0.670820415019989, 0.6708203554153442, 0.6643638014793396, 0.6529286503791809, 0.6527534127235413, 0.6507914066314697, 0.6425754427909851, 0.640444815158844, 0.6368938684463501, 0.636881411075592, 0.636396050453186, 0.636396050453186, 0.6331738233566284, 0.632455587387085, 0.632455587387085, 0.632455587387085, 0.632455587387085, 0.632455587387085, 0.632455587387085, 0.632455587387085, 0.632455587387085, 0.7893521785736084, 0.7682733535766602, 0.7627700567245483, 0.7627700567245483, 0.7378647923469543, 0.7378647923469543, 0.730296790599823, 0.7302967309951782, 0.7181848287582397, 0.7181848287582397, 0.7181848287582397, 0.71611487865448, 0.7046642303466797, 0.7046642303466797, 0.7046642303466797, 0.6999999284744263, 0.6885303258895874, 0.6761233806610107, 0.6751399636268616, 0.6708204746246338, 0.670820415019989, 0.6708203554153442, 0.6643638014793396, 0.6529286503791809, 0.6527534127235413, 0.6507914066314697, 0.6425754427909851, 0.640444815158844, 0.6368938684463501, 0.636881411075592, 0.636396050453186, 0.636396050453186, 0.6331738233566284, 0.632455587387085, 0.632455587387085, 0.632455587387085, 0.632455587387085, 0.632455587387085, 0.632455587387085, 0.632455587387085, 0.632455587387085, 0.7427812814712524, 0.7115124464035034, 0.6875, 0.6859943866729736, 0.6717513799667358, 0.6495190858840942, 0.6495190262794495, 0.64549720287323, 0.6324554681777954, 0.6308932304382324, 0.6240376830101013, 0.6172133684158325, 0.6123724579811096, 0.6098575592041016, 0.603509783744812, 0.6030226945877075, 0.6030226349830627, 0.5908789038658142, 0.5892556309700012, 0.5883484482765198, 0.588348388671875, 0.5657523274421692, 0.561341404914856, 0.5604485273361206, 0.553398609161377, 0.5393193364143372, 0.5375872254371643, 0.5345224738121033, 0.5345224738121033, 0.5330017805099487, 0.5303300619125366, 0.5252257585525513, 0.5163977146148682, 0.5138701796531677, 0.5103104114532471, 0.5085834264755249, 0.5051814913749695, 0.5051814913749695, 0.5031153559684753, 0.5031153559684753, 0.5031153559684753, 0.8403582572937012, 0.8403582572937012, 0.8403582572937012, 0.835504412651062, 0.835504412651062, 0.8109307885169983, 0.8109307885169983, 0.8109307885169983, 0.8109307885169983, 0.8109307885169983, 0.8109307885169983, 0.7974143028259277, 0.7912566065788269, 0.785868227481842, 0.7815475463867188, 0.7804216742515564, 0.7804216742515564, 0.7804216742515564, 0.7804216742515564, 0.7802714705467224, 0.7802714705467224, 0.7779698371887207, 0.7742251753807068, 0.769530177116394, 0.7679476141929626, 0.7675662040710449, 0.7673122882843018, 0.7656166553497314, 0.7647885084152222, 0.7634850144386292, 0.7622517347335815, 0.7619224786758423, 0.7610738277435303, 0.7610738277435303, 0.7608797550201416, 0.7582875490188599, 0.7576549053192139, 0.7558647990226746, 0.7558647990226746, 0.7551923394203186, 0.7551923394203186, 0.9787956476211548, 0.9640347957611084, 0.9633799195289612, 0.9621022939682007, 0.9621022939682007, 0.9621022939682007, 0.9558526873588562, 0.955649733543396, 0.9537877440452576, 0.9511599540710449, 0.9508497714996338, 0.950750470161438, 0.9501460790634155, 0.9501460790634155, 0.948979914188385, 0.9488522410392761, 0.9476815462112427, 0.947346568107605, 0.9465924501419067, 0.9456577301025391, 0.9456577301025391, 0.9447561502456665, 0.9434391856193542, 0.9412353038787842, 0.9409593343734741, 0.9405803680419922, 0.9405162334442139, 0.9399007558822632, 0.9399007558822632, 0.9399007558822632, 0.9385019540786743, 0.9379648566246033, 0.9378902316093445, 0.9378902316093445, 0.9376354813575745, 0.9374703168869019, 0.9367507100105286, 0.9361648559570312, 0.9349470138549805, 0.9349470138549805, 0.9333308339118958, 0.9899494051933289, 0.9834450483322144, 0.976186990737915, 0.976186990737915, 0.9682456851005554, 0.9660918116569519, 0.9655351042747498, 0.9648363590240479, 0.9638631343841553, 0.9589265584945679, 0.9561828374862671, 0.9561828374862671, 0.9561828374862671, 0.955778956413269, 0.9547921419143677, 0.9547921419143677, 0.9486833810806274, 0.9486832618713379, 0.9486832618713379, 0.9486832618713379, 0.9486832618713379, 0.9486832618713379, 0.9431191682815552, 0.9431191086769104, 0.9431191086769104, 0.942990243434906, 0.939552366733551, 0.9393364191055298, 0.9341987371444702, 0.9341987371444702, 0.9333333373069763, 0.9333332777023315, 0.9326733350753784, 0.9325048327445984, 0.9325048327445984, 0.9309494495391846, 0.9309493899345398, 0.930949330329895, 0.9302606582641602, 0.9302605986595154, 0.9302605390548706, 0.9810229539871216, 0.9782320857048035, 0.9782319664955139, 0.9762212038040161, 0.9753615260124207, 0.9746794700622559, 0.9746794700622559, 0.9746794104576111, 0.9746793508529663, 0.9746793508529663, 0.9733285903930664, 0.9713237881660461, 0.9713237881660461, 0.9713237285614014, 0.9694584012031555, 0.9666388630867004, 0.9639604687690735, 0.9637387990951538, 0.9633640050888062, 0.9627198576927185, 0.9627197980880737, 0.9627197980880737, 0.9614822864532471, 0.9602859616279602, 0.9602859020233154, 0.9592421650886536, 0.9592421054840088, 0.9575798511505127, 0.9575797915458679, 0.9571064710617065, 0.9567298889160156, 0.9557896256446838, 0.9557563066482544, 0.9550175666809082, 0.954427182674408, 0.953821063041687, 0.9538208246231079, 0.9511897563934326, 0.9477583169937134, 0.9477583169937134, 0.9477583169937134, 0.9999999403953552, 0.9999999403953552, 0.9999999403953552, 0.9999999403953552, 0.9999999403953552, 0.9999999403953552, 0.9999999403953552, 0.9999999403953552, 0.9999999403953552, 0.9999999403953552, 0.9999999403953552, 0.9999999403953552, 0.9999999403953552, 0.9999999403953552, 0.9999999403953552, 0.9999999403953552, 0.9999999403953552, 0.9999999403953552, 0.9999999403953552, 0.9999999403953552, 0.9999999403953552, 0.9999999403953552, 0.9999999403953552, 0.9819805026054382, 0.9701424837112427, 0.9701424837112427, 0.9594032764434814, 0.9444443583488464, 0.9354143738746643, 0.9354143738746643, 0.9176629185676575, 0.9036961197853088, 0.8872443437576294, 0.884537935256958, 0.883883535861969, 0.8816820383071899, 0.8757291436195374, 0.8750000596046448, 0.8750000596046448, 0.8750000596046448, 0.875, 0.9899494051933289, 0.9834450483322144, 0.976186990737915, 0.976186990737915, 0.9682456851005554, 0.9660918116569519, 0.9655351042747498, 0.9648363590240479, 0.9638631343841553, 0.9589265584945679, 0.9561828374862671, 0.9561828374862671, 0.9561828374862671, 0.955778956413269, 0.9547921419143677, 0.9547921419143677, 0.9486833810806274, 0.9486832618713379, 0.9486832618713379, 0.9486832618713379, 0.9486832618713379, 0.9486832618713379, 0.9431191682815552, 0.9431191086769104, 0.9431191086769104, 0.942990243434906, 0.939552366733551, 0.9393364191055298, 0.9341987371444702, 0.9341987371444702, 0.9333333373069763, 0.9333332777023315, 0.9326733350753784, 0.9325048327445984, 0.9325048327445984, 0.9309494495391846, 0.9309493899345398, 0.930949330329895, 0.9302606582641602, 0.9302605986595154, 0.9302605390548706, 0.9198662638664246, 0.9177364110946655, 0.9172160625457764, 0.9170347452163696, 0.9121114611625671, 0.9104464054107666, 0.9060911536216736, 0.9001545906066895, 0.8964154124259949, 0.8934179544448853, 0.893246054649353, 0.893197774887085, 0.8927424550056458, 0.8927121162414551, 0.8922709822654724, 0.8920091986656189, 0.884165346622467, 0.8828856348991394, 0.882369875907898, 0.8820672035217285, 0.880704939365387, 0.880704939365387, 0.8807048797607422, 0.8807047605514526, 0.8803901672363281, 0.8800392746925354, 0.879304051399231, 0.879304051399231, 0.879304051399231, 0.8793039917945862, 0.8782753944396973, 0.8775799870491028, 0.8775146007537842, 0.8775146007537842, 0.8765509128570557, 0.8759853839874268, 0.8755629062652588, 0.8755444884300232, 0.8752736449241638, 0.8736882209777832, 0.8736602067947388, 0.8932461142539978, 0.8278374671936035, 0.827837347984314, 0.8271702527999878, 0.8240419030189514, 0.8240419030189514, 0.8240419030189514, 0.8207294344902039, 0.8207294344902039, 0.8153742551803589, 0.8153742551803589, 0.8096408843994141, 0.8096408843994141, 0.808190107345581, 0.8062257766723633, 0.8062257766723633, 0.805322527885437, 0.7925939559936523, 0.7925939559936523, 0.7877264022827148, 0.7877264022827148, 0.7867957949638367, 0.7783117890357971, 0.7724872827529907, 0.7687060832977295, 0.7687060832977295, 0.7687060236930847, 0.7687060236930847, 0.7687060236930847, 0.7687060236930847, 0.7687060236930847, 0.7686577439308167, 0.7686577439308167, 0.7686576843261719, 0.7666357159614563, 0.7648661732673645, 0.7635417580604553, 0.7635416388511658, 0.762712836265564, 0.7627127170562744, 0.7614996433258057, 0.9759000539779663, 0.9566808342933655, 0.9559937715530396, 0.9534624814987183, 0.9486833214759827, 0.9486833214759827, 0.9486833214759827, 0.9486832618713379, 0.946729302406311, 0.9458757638931274, 0.9441176652908325, 0.9433000087738037, 0.9431192874908447, 0.9431192278862, 0.9431192278862, 0.9431191086769104, 0.9395524859428406, 0.9391486048698425, 0.9391485452651978, 0.938971221446991, 0.938971221446991, 0.9389709234237671, 0.9381389617919922, 0.9359709620475769, 0.9355127215385437, 0.9341988563537598, 0.9341988563537598, 0.9326733350753784, 0.9325048923492432, 0.9300538301467896, 0.9296698570251465, 0.9296697974205017, 0.9296697378158569, 0.9296697378158569, 0.9296697378158569, 0.9296696782112122, 0.9296696782112122, 0.9274495244026184, 0.9271051287651062, 0.9250000715255737, 0.9250000715255737, 0.9141060709953308, 0.9136654734611511, 0.9130866527557373, 0.9104530811309814, 0.9098770618438721, 0.909732460975647, 0.9080536365509033, 0.9080536365509033, 0.9080536365509033, 0.9073960781097412, 0.9067557454109192, 0.9043628573417664, 0.9043628573417664, 0.9024935960769653, 0.9024935960769653, 0.9017109274864197, 0.9016594886779785, 0.9002127051353455, 0.8992061614990234, 0.8938984870910645, 0.8938984870910645, 0.8938984870910645, 0.8938528895378113, 0.8935383558273315, 0.8932370543479919, 0.8932370543479919, 0.8907917737960815, 0.890772819519043, 0.889768123626709, 0.8891938328742981, 0.8889013528823853, 0.8887142539024353, 0.8887142539024353, 0.8877811431884766, 0.8875746130943298, 0.8868008852005005, 0.8859450817108154, 0.8846598863601685, 0.8844363689422607, 0.8844363689422607, 0.8842595219612122, 0.9095085859298706, 0.861640453338623, 0.8616403937339783, 0.8609459400177002, 0.8576900959014893, 0.8576900959014893, 0.8576900959014893, 0.8542422652244568, 0.8542422652244568, 0.8486684560775757, 0.8486684560775757, 0.8427008390426636, 0.8427008390426636, 0.8391463756561279, 0.8391463756561279, 0.8382062911987305, 0.8249579071998596, 0.8249579071998596, 0.8198915123939514, 0.8198915123939514, 0.810092568397522, 0.8040302991867065, 0.8029549717903137, 0.800094723701477, 0.8000946640968323, 0.8000946640968323, 0.8000946044921875, 0.8000946044921875, 0.8000946044921875, 0.8000946044921875, 0.8000442981719971, 0.8000442981719971, 0.8000442981719971, 0.7979398965835571, 0.7960979342460632, 0.7947194576263428, 0.794719398021698, 0.7938566207885742, 0.7938566207885742, 0.7925940155982971, 0.7925938367843628, 0.9624356031417847, 0.9624356031417847, 0.9611613154411316, 0.9594032764434814, 0.9594032764434814, 0.9585144519805908, 0.9583486318588257, 0.9583332538604736, 0.9583332538604736, 0.9525793194770813, 0.9499310851097107, 0.9478945732116699, 0.947622537612915, 0.9476127624511719, 0.9474209547042847, 0.9467530846595764, 0.946729302406311, 0.9462184906005859, 0.9451890587806702, 0.9451890587806702, 0.9449111223220825, 0.9428090453147888, 0.9406402111053467, 0.9406402111053467, 0.9406402111053467, 0.9405966997146606, 0.9389709234237671, 0.9389709234237671, 0.9389709234237671, 0.9389529228210449, 0.9389529228210449, 0.9380984902381897, 0.9379366636276245, 0.9365857839584351, 0.9363821148872375, 0.9363820552825928, 0.9363820552825928, 0.9359709024429321, 0.9354142546653748, 0.934743344783783, 0.9343111515045166, 0.9298955202102661, 0.8981462717056274, 0.8981462717056274, 0.8832715749740601, 0.8831761479377747, 0.8814826011657715, 0.8814826011657715, 0.879457950592041, 0.8783100843429565, 0.8783100843429565, 0.8763561844825745, 0.8763561844825745, 0.8760629892349243, 0.8755950927734375, 0.8672274351119995, 0.8660255074501038, 0.8640987873077393, 0.8614109754562378, 0.8608285784721375, 0.8608285784721375, 0.8608284592628479, 0.860663115978241, 0.8606629967689514, 0.8606629967689514, 0.8589058518409729, 0.8573215007781982, 0.857159435749054, 0.855688750743866, 0.852573573589325, 0.852573573589325, 0.8510497808456421, 0.8475794792175293, 0.8475793600082397, 0.8467803001403809, 0.8454028964042664, 0.8454028367996216, 0.8454028367996216, 0.8454028367996216, 0.8432741165161133, 0.8432739973068237, 0.8432739973068237, 0.9037378430366516, 0.8770579099655151, 0.8770579099655151, 0.8702853322029114, 0.8702853322029114, 0.8680789470672607, 0.8608285188674927, 0.8605266809463501, 0.8561726808547974, 0.8453637957572937, 0.8453637957572937, 0.8438529372215271, 0.8430888056755066, 0.8425607681274414, 0.8408409357070923, 0.8408408761024475, 0.8408408761024475, 0.8406727313995361, 0.8386279344558716, 0.8386278748512268, 0.8386278748512268, 0.8385565280914307, 0.8376106023788452, 0.8376104831695557, 0.8372344970703125, 0.837234377861023, 0.8362419009208679, 0.8334936499595642, 0.8334935903549194, 0.8334935903549194, 0.8332051634788513, 0.8332051634788513, 0.8323543071746826, 0.8320503830909729, 0.8320503234863281, 0.8320502638816833, 0.8303365111351013, 0.8295879364013672, 0.8295877575874329, 0.8287419676780701, 0.8287419676780701, 0.8483819961547852, 0.7203602194786072, 0.6443860530853271, 0.6238502264022827, 0.6238502264022827, 0.5812382102012634, 0.5718627572059631, 0.5607997179031372, 0.5607997179031372, 0.558956503868103, 0.551410973072052, 0.5378561615943909, 0.525749683380127, 0.525749683380127, 0.5231143236160278, 0.5198752284049988, 0.5183439254760742, 0.5082247257232666, 0.493196964263916, 0.4903043508529663, 0.4793012738227844, 0.4784713387489319, 0.4784713387489319, 0.4698092043399811, 0.45945948362350464, 0.4512709677219391, 0.4512709677219391, 0.4461134076118469, 0.441893994808197, 0.4359286427497864, 0.43423569202423096, 0.42624133825302124, 0.42624133825302124, 0.42624133825302124, 0.4184914827346802, 0.4113547205924988, 0.4109974801540375, 0.40766096115112305, 0.40686675906181335, 0.40686675906181335, 0.4043681025505066, 0.9298955202102661, 0.8981462717056274, 0.8981462717056274, 0.8832715749740601, 0.8831761479377747, 0.8814826011657715, 0.8814826011657715, 0.879457950592041, 0.8783100843429565, 0.8783100843429565, 0.8763561844825745, 0.8763561844825745, 0.8760629892349243, 0.8755950927734375, 0.8672274351119995, 0.8660255074501038, 0.8640987873077393, 0.8614109754562378, 0.8608285784721375, 0.8608285784721375, 0.8608284592628479, 0.860663115978241, 0.8606629967689514, 0.8606629967689514, 0.8589058518409729, 0.8573215007781982, 0.857159435749054, 0.855688750743866, 0.852573573589325, 0.852573573589325, 0.8510497808456421, 0.8475794792175293, 0.8475793600082397, 0.8467803001403809, 0.8454028964042664, 0.8454028367996216, 0.8454028367996216, 0.8454028367996216, 0.8432741165161133, 0.8432739973068237, 0.8432739973068237, 0.9999998807907104, 0.9999998807907104, 0.9999998807907104, 0.9999998807907104, 0.9999998807907104, 0.9999998807907104, 0.9999998807907104, 0.9999998807907104, 0.9999998807907104, 0.9999998807907104, 0.9999998807907104, 0.9999998807907104, 0.9999998807907104, 0.9999998807907104, 0.9999998807907104, 0.9999998807907104, 0.9960238933563232, 0.9918366074562073, 0.9918366074562073, 0.9855274558067322, 0.9855274558067322, 0.9855274558067322, 0.9855273962020874, 0.9855273962020874, 0.9855273962020874, 0.9855273962020874, 0.9855273962020874, 0.9847319722175598, 0.9847319722175598, 0.984731912612915, 0.984119713306427, 0.9829463362693787, 0.9805806875228882, 0.9801960587501526, 0.9799578785896301, 0.9797958731651306, 0.9771397709846497, 0.9771397709846497, 0.9737289547920227, 0.9737289547920227, 0.9737289547920227, 0.9999998807907104, 0.9999998807907104, 0.9999998807907104, 0.9999998807907104, 0.9999998807907104, 0.9999998807907104, 0.9999998807907104, 0.9999998807907104, 0.9999998807907104, 0.9999998807907104, 0.9999998807907104, 0.9999998807907104, 0.9999998807907104, 0.9999998807907104, 0.9999998807907104, 0.9999998807907104, 0.9960238933563232, 0.9918366074562073, 0.9918366074562073, 0.9855274558067322, 0.9855274558067322, 0.9855274558067322, 0.9855273962020874, 0.9855273962020874, 0.9855273962020874, 0.9855273962020874, 0.9855273962020874, 0.9847319722175598, 0.9847319722175598, 0.984731912612915, 0.984119713306427, 0.9829463362693787, 0.9805806875228882, 0.9801960587501526, 0.9799578785896301, 0.9797958731651306, 0.9771397709846497, 0.9771397709846497, 0.9737289547920227, 0.9737289547920227, 0.9737289547920227, 0.9128708839416504, 0.8406727910041809, 0.8333333730697632, 0.8333333730697632, 0.8198915719985962, 0.8179129362106323, 0.8164966106414795, 0.8017836809158325, 0.8017836809158325, 0.8006407618522644, 0.7947194576263428, 0.7938566207885742, 0.7925940155982971, 0.7905694246292114, 0.7879670262336731, 0.7825079560279846, 0.7825079560279846, 0.7825079560279846, 0.7777777910232544, 0.7745967507362366, 0.7745967507362366, 0.774596631526947, 0.771516740322113, 0.766032338142395, 0.7637626528739929, 0.7593264579772949, 0.7593263387680054, 0.7505553960800171, 0.7505553960800171, 0.7504787445068359, 0.7500000596046448, 0.75, 0.75, 0.75, 0.75, 0.7499999403953552, 0.7492685914039612, 0.7469136714935303, 0.7426106929779053, 0.7395740747451782, 0.738548994064331, 0.9999998807907104, 0.9999998807907104, 0.9999998807907104, 0.9999998807907104, 0.9999998807907104, 0.9999998807907104, 0.9999998807907104, 0.9999998807907104, 0.9999998807907104, 0.9999998807907104, 0.9999998807907104, 0.9999998807907104, 0.9999998807907104, 0.9999998807907104, 0.9999998807907104, 0.9999998807907104, 0.9960238933563232, 0.9918366074562073, 0.9918366074562073, 0.9855274558067322, 0.9855274558067322, 0.9855274558067322, 0.9855273962020874, 0.9855273962020874, 0.9855273962020874, 0.9855273962020874, 0.9855273962020874, 0.9847319722175598, 0.9847319722175598, 0.984731912612915, 0.984119713306427, 0.9829463362693787, 0.9805806875228882, 0.9801960587501526, 0.9799578785896301, 0.9797958731651306, 0.9771397709846497, 0.9771397709846497, 0.9737289547920227, 0.9737289547920227, 0.9737289547920227, 0.9546686410903931, 0.9525008201599121, 0.9525008201599121, 0.9519716501235962, 0.9519716501235962, 0.9422228932380676, 0.9354143142700195, 0.9274260997772217, 0.9268550872802734, 0.9263021349906921, 0.9263020753860474, 0.9258200526237488, 0.9228396415710449, 0.9207509756088257, 0.9207508563995361, 0.9207367897033691, 0.919238805770874, 0.9192387461662292, 0.9191450476646423, 0.9191450476646423, 0.9187104105949402, 0.9181763529777527, 0.9176629185676575, 0.9166666269302368, 0.916578471660614, 0.916578471660614, 0.9149913787841797, 0.9148908853530884, 0.9141378998756409, 0.9139076471328735, 0.9133462905883789, 0.9133462905883789, 0.9133462905883789, 0.9133462905883789, 0.9128708839416504, 0.9128707647323608, 0.9124954342842102, 0.9120291471481323, 0.9095085859298706, 0.9095085859298706, 0.9095085263252258, 0.9723057150840759, 0.9548636674880981, 0.9548636674880981, 0.9219545125961304, 0.9117647409439087, 0.9115638732910156, 0.9115046262741089, 0.9109358787536621, 0.9106417298316956, 0.9106416702270508, 0.9101820588111877, 0.9101820588111877, 0.910181999206543, 0.9095085859298706, 0.9081082940101624, 0.9074852466583252, 0.906869649887085, 0.9068695306777954, 0.9049358367919922, 0.9049035310745239, 0.903876781463623, 0.8997353315353394, 0.899181604385376, 0.8990275859832764, 0.8986452221870422, 0.8986451029777527, 0.8981249928474426, 0.8978642821311951, 0.897364616394043, 0.8958086967468262, 0.8956221342086792, 0.8951714038848877, 0.8948381543159485, 0.8938431739807129, 0.8934147357940674, 0.893259584903717, 0.893259584903717, 0.893259584903717, 0.8930886387825012, 0.8930885791778564, 0.8926785588264465, 0.9165151715278625, 0.8954430222511292, 0.8954430222511292, 0.8759957551956177, 0.8246211409568787, 0.8164966106414795, 0.8082903623580933, 0.803326427936554, 0.8000000715255737, 0.7999999523162842, 0.7923547625541687, 0.7902633547782898, 0.7855844497680664, 0.7855843901634216, 0.7794228196144104, 0.7786628007888794, 0.7778175473213196, 0.7765803337097168, 0.7761140465736389, 0.774596631526947, 0.77247154712677, 0.7715167999267578, 0.7666981816291809, 0.7666981816291809, 0.7615772485733032, 0.7602630853652954, 0.7602630853652954, 0.7559288740158081, 0.754342257976532, 0.7542471885681152, 0.752139687538147, 0.75, 0.75, 0.7499999403953552, 0.7483315467834473, 0.7483314871788025, 0.7483314275741577, 0.7462185621261597, 0.7427813410758972, 0.7424620985984802, 0.7424620985984802, 0.9747547507286072, 0.9747547507286072, 0.9667962193489075, 0.9587093591690063, 0.9518173336982727, 0.9518173336982727, 0.9509798288345337, 0.9496715068817139, 0.9476780295372009, 0.9437015056610107, 0.9428712725639343, 0.9428472518920898, 0.942082405090332, 0.9416363835334778, 0.9401747584342957, 0.9364182353019714, 0.9346851706504822, 0.9341986775398254, 0.9337221384048462, 0.9328736066818237, 0.9322981834411621, 0.9320951700210571, 0.9318182468414307, 0.9318181276321411, 0.9318181276321411, 0.9312905073165894, 0.9307577610015869, 0.9307577610015869, 0.9304842948913574, 0.9304841160774231, 0.9303739666938782, 0.9303739666938782, 0.9296600222587585, 0.9296600222587585, 0.9296600222587585, 0.9296600222587585, 0.928840696811676, 0.928840696811676, 0.928032398223877, 0.9277308583259583, 0.9266964197158813, 0.8101627230644226, 0.785868227481842, 0.7833495140075684, 0.7833495140075684, 0.7713891863822937, 0.7713891863822937, 0.7713891863822937, 0.7710995674133301, 0.7710995674133301, 0.7706746459007263, 0.7693217992782593, 0.7693217992782593, 0.7675225734710693, 0.7658161520957947, 0.7627700567245483, 0.7610525488853455, 0.7562625408172607, 0.7557421922683716, 0.7544335126876831, 0.7537783980369568, 0.7537783980369568, 0.753778338432312, 0.753778338432312, 0.7462025284767151, 0.7416198253631592, 0.7407437562942505, 0.7399957180023193, 0.7398300170898438, 0.7392480373382568, 0.7392479777336121, 0.7385489344596863, 0.7336740493774414, 0.7336739897727966, 0.732134222984314, 0.7309738397598267, 0.7278603315353394, 0.7275475859642029, 0.7275475263595581, 0.7252405285835266, 0.7248824238777161, 0.7248824238777161, 0.8416253924369812, 0.8416253924369812, 0.8224782943725586, 0.8084520697593689, 0.8060599565505981, 0.8051609992980957, 0.8043997287750244, 0.8043997287750244, 0.8043997287750244, 0.8043996691703796, 0.7893862724304199, 0.7882407903671265, 0.786718487739563, 0.7848839163780212, 0.7811209559440613, 0.7811209559440613, 0.7789808511734009, 0.7778445482254028, 0.7767130732536316, 0.7761139273643494, 0.771743655204773, 0.7694869041442871, 0.7680293917655945, 0.7678360939025879, 0.7678359746932983, 0.7673643827438354, 0.7669650316238403, 0.7669649720191956, 0.7669649124145508, 0.7662411332130432, 0.7656415700912476, 0.7647058963775635, 0.7643157839775085, 0.7641791105270386, 0.7634862661361694, 0.7633986473083496, 0.7622548341751099, 0.7622547149658203, 0.7612432241439819, 0.7610424160957336, 0.7605466842651367, 0.9229719638824463, 0.8931884169578552, 0.8866356015205383, 0.8825225830078125, 0.8209008574485779, 0.8171505331993103, 0.7783117890357971, 0.7783117890357971, 0.7765803337097168, 0.7627127766609192, 0.7428908348083496, 0.7428908348083496, 0.7131997346878052, 0.7071067690849304, 0.7067392468452454, 0.7067392468452454, 0.7041867971420288, 0.6999132633209229, 0.6933752298355103, 0.6878708600997925, 0.6877464056015015, 0.6805446743965149, 0.6796437501907349, 0.6713795065879822, 0.6695340871810913, 0.6605286002159119, 0.6605286002159119, 0.6577935218811035, 0.6577935218811035, 0.6577935218811035, 0.6577935218811035, 0.6537203788757324, 0.6527139544487, 0.6445033550262451, 0.6405125856399536, 0.639039158821106, 0.6379052400588989, 0.6379052400588989, 0.6362847685813904, 0.6362847685813904, 0.6362847685813904, 0.8416253924369812, 0.8416253924369812, 0.8224782943725586, 0.8084520697593689, 0.8060599565505981, 0.8051609992980957, 0.8043997287750244, 0.8043997287750244, 0.8043997287750244, 0.8043996691703796, 0.7893862724304199, 0.7882407903671265, 0.786718487739563, 0.7848839163780212, 0.7811209559440613, 0.7811209559440613, 0.7789808511734009, 0.7778445482254028, 0.7767130732536316, 0.7761139273643494, 0.771743655204773, 0.7694869041442871, 0.7680293917655945, 0.7678360939025879, 0.7678359746932983, 0.7673643827438354, 0.7669650316238403, 0.7669649720191956, 0.7669649124145508, 0.7662411332130432, 0.7656415700912476, 0.7647058963775635, 0.7643157839775085, 0.7641791105270386, 0.7634862661361694, 0.7633986473083496, 0.7622548341751099, 0.7622547149658203, 0.7612432241439819, 0.7610424160957336, 0.7605466842651367], \"xaxis\": \"x\", \"yaxis\": \"y\"}],\n",
              "                        {\"barmode\": \"relative\", \"legend\": {\"tracegroupgap\": 0}, \"template\": {\"data\": {\"bar\": [{\"error_x\": {\"color\": \"#2a3f5f\"}, \"error_y\": {\"color\": \"#2a3f5f\"}, \"marker\": {\"line\": {\"color\": \"#E5ECF6\", \"width\": 0.5}}, \"type\": \"bar\"}], \"barpolar\": [{\"marker\": {\"line\": {\"color\": \"#E5ECF6\", \"width\": 0.5}}, \"type\": \"barpolar\"}], \"carpet\": [{\"aaxis\": {\"endlinecolor\": \"#2a3f5f\", \"gridcolor\": \"white\", \"linecolor\": \"white\", \"minorgridcolor\": \"white\", \"startlinecolor\": \"#2a3f5f\"}, \"baxis\": {\"endlinecolor\": \"#2a3f5f\", \"gridcolor\": \"white\", \"linecolor\": \"white\", \"minorgridcolor\": \"white\", \"startlinecolor\": \"#2a3f5f\"}, \"type\": \"carpet\"}], \"choropleth\": [{\"colorbar\": {\"outlinewidth\": 0, \"ticks\": \"\"}, \"type\": \"choropleth\"}], \"contour\": [{\"colorbar\": {\"outlinewidth\": 0, \"ticks\": \"\"}, \"colorscale\": [[0.0, \"#0d0887\"], [0.1111111111111111, \"#46039f\"], [0.2222222222222222, \"#7201a8\"], [0.3333333333333333, \"#9c179e\"], [0.4444444444444444, \"#bd3786\"], [0.5555555555555556, \"#d8576b\"], [0.6666666666666666, \"#ed7953\"], [0.7777777777777778, \"#fb9f3a\"], [0.8888888888888888, \"#fdca26\"], [1.0, \"#f0f921\"]], \"type\": \"contour\"}], \"contourcarpet\": [{\"colorbar\": {\"outlinewidth\": 0, \"ticks\": \"\"}, \"type\": \"contourcarpet\"}], \"heatmap\": [{\"colorbar\": {\"outlinewidth\": 0, \"ticks\": \"\"}, \"colorscale\": [[0.0, \"#0d0887\"], [0.1111111111111111, \"#46039f\"], [0.2222222222222222, \"#7201a8\"], [0.3333333333333333, \"#9c179e\"], [0.4444444444444444, \"#bd3786\"], [0.5555555555555556, \"#d8576b\"], [0.6666666666666666, \"#ed7953\"], [0.7777777777777778, \"#fb9f3a\"], [0.8888888888888888, \"#fdca26\"], [1.0, \"#f0f921\"]], \"type\": \"heatmap\"}], \"heatmapgl\": [{\"colorbar\": {\"outlinewidth\": 0, \"ticks\": \"\"}, \"colorscale\": [[0.0, \"#0d0887\"], [0.1111111111111111, \"#46039f\"], [0.2222222222222222, \"#7201a8\"], [0.3333333333333333, \"#9c179e\"], [0.4444444444444444, \"#bd3786\"], [0.5555555555555556, \"#d8576b\"], [0.6666666666666666, \"#ed7953\"], [0.7777777777777778, \"#fb9f3a\"], [0.8888888888888888, \"#fdca26\"], [1.0, \"#f0f921\"]], \"type\": \"heatmapgl\"}], \"histogram\": [{\"marker\": {\"colorbar\": {\"outlinewidth\": 0, \"ticks\": \"\"}}, \"type\": \"histogram\"}], \"histogram2d\": [{\"colorbar\": {\"outlinewidth\": 0, \"ticks\": \"\"}, \"colorscale\": [[0.0, \"#0d0887\"], [0.1111111111111111, \"#46039f\"], [0.2222222222222222, \"#7201a8\"], [0.3333333333333333, \"#9c179e\"], [0.4444444444444444, \"#bd3786\"], [0.5555555555555556, \"#d8576b\"], [0.6666666666666666, \"#ed7953\"], [0.7777777777777778, \"#fb9f3a\"], [0.8888888888888888, \"#fdca26\"], [1.0, \"#f0f921\"]], \"type\": \"histogram2d\"}], \"histogram2dcontour\": [{\"colorbar\": {\"outlinewidth\": 0, \"ticks\": \"\"}, \"colorscale\": [[0.0, \"#0d0887\"], [0.1111111111111111, \"#46039f\"], [0.2222222222222222, \"#7201a8\"], [0.3333333333333333, \"#9c179e\"], [0.4444444444444444, \"#bd3786\"], [0.5555555555555556, \"#d8576b\"], [0.6666666666666666, \"#ed7953\"], [0.7777777777777778, \"#fb9f3a\"], [0.8888888888888888, \"#fdca26\"], [1.0, \"#f0f921\"]], \"type\": \"histogram2dcontour\"}], \"mesh3d\": [{\"colorbar\": {\"outlinewidth\": 0, \"ticks\": \"\"}, \"type\": \"mesh3d\"}], \"parcoords\": [{\"line\": {\"colorbar\": {\"outlinewidth\": 0, \"ticks\": \"\"}}, \"type\": \"parcoords\"}], \"pie\": [{\"automargin\": true, \"type\": \"pie\"}], \"scatter\": [{\"marker\": {\"colorbar\": {\"outlinewidth\": 0, \"ticks\": \"\"}}, \"type\": \"scatter\"}], \"scatter3d\": [{\"line\": {\"colorbar\": {\"outlinewidth\": 0, \"ticks\": \"\"}}, \"marker\": {\"colorbar\": {\"outlinewidth\": 0, \"ticks\": \"\"}}, \"type\": \"scatter3d\"}], \"scattercarpet\": [{\"marker\": {\"colorbar\": {\"outlinewidth\": 0, \"ticks\": \"\"}}, \"type\": \"scattercarpet\"}], \"scattergeo\": [{\"marker\": {\"colorbar\": {\"outlinewidth\": 0, \"ticks\": \"\"}}, \"type\": \"scattergeo\"}], \"scattergl\": [{\"marker\": {\"colorbar\": {\"outlinewidth\": 0, \"ticks\": \"\"}}, \"type\": \"scattergl\"}], \"scattermapbox\": [{\"marker\": {\"colorbar\": {\"outlinewidth\": 0, \"ticks\": \"\"}}, \"type\": \"scattermapbox\"}], \"scatterpolar\": [{\"marker\": {\"colorbar\": {\"outlinewidth\": 0, \"ticks\": \"\"}}, \"type\": \"scatterpolar\"}], \"scatterpolargl\": [{\"marker\": {\"colorbar\": {\"outlinewidth\": 0, \"ticks\": \"\"}}, \"type\": \"scatterpolargl\"}], \"scatterternary\": [{\"marker\": {\"colorbar\": {\"outlinewidth\": 0, \"ticks\": \"\"}}, \"type\": \"scatterternary\"}], \"surface\": [{\"colorbar\": {\"outlinewidth\": 0, \"ticks\": \"\"}, \"colorscale\": [[0.0, \"#0d0887\"], [0.1111111111111111, \"#46039f\"], [0.2222222222222222, \"#7201a8\"], [0.3333333333333333, \"#9c179e\"], [0.4444444444444444, \"#bd3786\"], [0.5555555555555556, \"#d8576b\"], [0.6666666666666666, \"#ed7953\"], [0.7777777777777778, \"#fb9f3a\"], [0.8888888888888888, \"#fdca26\"], [1.0, \"#f0f921\"]], \"type\": \"surface\"}], \"table\": [{\"cells\": {\"fill\": {\"color\": \"#EBF0F8\"}, \"line\": {\"color\": \"white\"}}, \"header\": {\"fill\": {\"color\": \"#C8D4E3\"}, \"line\": {\"color\": \"white\"}}, \"type\": \"table\"}]}, \"layout\": {\"annotationdefaults\": {\"arrowcolor\": \"#2a3f5f\", \"arrowhead\": 0, \"arrowwidth\": 1}, \"coloraxis\": {\"colorbar\": {\"outlinewidth\": 0, \"ticks\": \"\"}}, \"colorscale\": {\"diverging\": [[0, \"#8e0152\"], [0.1, \"#c51b7d\"], [0.2, \"#de77ae\"], [0.3, \"#f1b6da\"], [0.4, \"#fde0ef\"], [0.5, \"#f7f7f7\"], [0.6, \"#e6f5d0\"], [0.7, \"#b8e186\"], [0.8, \"#7fbc41\"], [0.9, \"#4d9221\"], [1, \"#276419\"]], \"sequential\": [[0.0, \"#0d0887\"], [0.1111111111111111, \"#46039f\"], [0.2222222222222222, \"#7201a8\"], [0.3333333333333333, \"#9c179e\"], [0.4444444444444444, \"#bd3786\"], [0.5555555555555556, \"#d8576b\"], [0.6666666666666666, \"#ed7953\"], [0.7777777777777778, \"#fb9f3a\"], [0.8888888888888888, \"#fdca26\"], [1.0, \"#f0f921\"]], \"sequentialminus\": [[0.0, \"#0d0887\"], [0.1111111111111111, \"#46039f\"], [0.2222222222222222, \"#7201a8\"], [0.3333333333333333, \"#9c179e\"], [0.4444444444444444, \"#bd3786\"], [0.5555555555555556, \"#d8576b\"], [0.6666666666666666, \"#ed7953\"], [0.7777777777777778, \"#fb9f3a\"], [0.8888888888888888, \"#fdca26\"], [1.0, \"#f0f921\"]]}, \"colorway\": [\"#636efa\", \"#EF553B\", \"#00cc96\", \"#ab63fa\", \"#FFA15A\", \"#19d3f3\", \"#FF6692\", \"#B6E880\", \"#FF97FF\", \"#FECB52\"], \"font\": {\"color\": \"#2a3f5f\"}, \"geo\": {\"bgcolor\": \"white\", \"lakecolor\": \"white\", \"landcolor\": \"#E5ECF6\", \"showlakes\": true, \"showland\": true, \"subunitcolor\": \"white\"}, \"hoverlabel\": {\"align\": \"left\"}, \"hovermode\": \"closest\", \"mapbox\": {\"style\": \"light\"}, \"paper_bgcolor\": \"white\", \"plot_bgcolor\": \"#E5ECF6\", \"polar\": {\"angularaxis\": {\"gridcolor\": \"white\", \"linecolor\": \"white\", \"ticks\": \"\"}, \"bgcolor\": \"#E5ECF6\", \"radialaxis\": {\"gridcolor\": \"white\", \"linecolor\": \"white\", \"ticks\": \"\"}}, \"scene\": {\"xaxis\": {\"backgroundcolor\": \"#E5ECF6\", \"gridcolor\": \"white\", \"gridwidth\": 2, \"linecolor\": \"white\", \"showbackground\": true, \"ticks\": \"\", \"zerolinecolor\": \"white\"}, \"yaxis\": {\"backgroundcolor\": \"#E5ECF6\", \"gridcolor\": \"white\", \"gridwidth\": 2, \"linecolor\": \"white\", \"showbackground\": true, \"ticks\": \"\", \"zerolinecolor\": \"white\"}, \"zaxis\": {\"backgroundcolor\": \"#E5ECF6\", \"gridcolor\": \"white\", \"gridwidth\": 2, \"linecolor\": \"white\", \"showbackground\": true, \"ticks\": \"\", \"zerolinecolor\": \"white\"}}, \"shapedefaults\": {\"line\": {\"color\": \"#2a3f5f\"}}, \"ternary\": {\"aaxis\": {\"gridcolor\": \"white\", \"linecolor\": \"white\", \"ticks\": \"\"}, \"baxis\": {\"gridcolor\": \"white\", \"linecolor\": \"white\", \"ticks\": \"\"}, \"bgcolor\": \"#E5ECF6\", \"caxis\": {\"gridcolor\": \"white\", \"linecolor\": \"white\", \"ticks\": \"\"}}, \"title\": {\"x\": 0.05}, \"xaxis\": {\"automargin\": true, \"gridcolor\": \"white\", \"linecolor\": \"white\", \"ticks\": \"\", \"title\": {\"standoff\": 15}, \"zerolinecolor\": \"white\", \"zerolinewidth\": 2}, \"yaxis\": {\"automargin\": true, \"gridcolor\": \"white\", \"linecolor\": \"white\", \"ticks\": \"\", \"title\": {\"standoff\": 15}, \"zerolinecolor\": \"white\", \"zerolinewidth\": 2}}}, \"title\": {\"text\": \"LSI Scores\"}, \"xaxis\": {\"anchor\": \"y\", \"domain\": [0.0, 1.0], \"title\": {\"text\": \"score\"}}, \"yaxis\": {\"anchor\": \"x\", \"domain\": [0.0, 1.0], \"title\": {\"text\": \"count\"}}},\n",
              "                        {\"responsive\": true}\n",
              "                    ).then(function(){\n",
              "                            \n",
              "var gd = document.getElementById('00f4ba8f-e586-4d98-9d35-03bea62d3a6e');\n",
              "var x = new MutationObserver(function (mutations, observer) {{\n",
              "        var display = window.getComputedStyle(gd).display;\n",
              "        if (!display || display === 'none') {{\n",
              "            console.log([gd, 'removed!']);\n",
              "            Plotly.purge(gd);\n",
              "            observer.disconnect();\n",
              "        }}\n",
              "}});\n",
              "\n",
              "// Listen for the removal of the full notebook cells\n",
              "var notebookContainer = gd.closest('#notebook-container');\n",
              "if (notebookContainer) {{\n",
              "    x.observe(notebookContainer, {childList: true});\n",
              "}}\n",
              "\n",
              "// Listen for the clearing of the current output cell\n",
              "var outputEl = gd.closest('.output');\n",
              "if (outputEl) {{\n",
              "    x.observe(outputEl, {childList: true});\n",
              "}}\n",
              "\n",
              "                        })\n",
              "                };\n",
              "                \n",
              "            </script>\n",
              "        </div>\n",
              "</body>\n",
              "</html>"
            ]
          },
          "metadata": {}
        }
      ]
    },
    {
      "cell_type": "code",
      "metadata": {
        "id": "RX2JvEEGPGgS"
      },
      "source": [
        "if use_wandb:\n",
        "  wandb.log({\"scores_hist\": fig})"
      ],
      "execution_count": 67,
      "outputs": []
    },
    {
      "cell_type": "code",
      "metadata": {
        "colab": {
          "base_uri": "https://localhost:8080/",
          "height": 990
        },
        "id": "7N81-XfdDFKV",
        "outputId": "a1e686e5-db0e-44df-f7d2-ae4e0ca95699"
      },
      "source": [
        "result, details = recommend_tune(df_sim, 'These Foolish Things')\n",
        "result.head(30)"
      ],
      "execution_count": 68,
      "outputs": [
        {
          "output_type": "execute_result",
          "data": {
            "text/html": [
              "<div>\n",
              "<style scoped>\n",
              "    .dataframe tbody tr th:only-of-type {\n",
              "        vertical-align: middle;\n",
              "    }\n",
              "\n",
              "    .dataframe tbody tr th {\n",
              "        vertical-align: top;\n",
              "    }\n",
              "\n",
              "    .dataframe thead th {\n",
              "        text-align: right;\n",
              "    }\n",
              "</style>\n",
              "<table border=\"1\" class=\"dataframe\">\n",
              "  <thead>\n",
              "    <tr style=\"text-align: right;\">\n",
              "      <th></th>\n",
              "      <th>index</th>\n",
              "      <th>reference</th>\n",
              "      <th>similar_title</th>\n",
              "      <th>score</th>\n",
              "      <th>max</th>\n",
              "      <th>score_div_max</th>\n",
              "    </tr>\n",
              "  </thead>\n",
              "  <tbody>\n",
              "    <tr>\n",
              "      <th>0</th>\n",
              "      <td>0</td>\n",
              "      <td>These Foolish Things</td>\n",
              "      <td>I Loves You Porgy</td>\n",
              "      <td>0.974755</td>\n",
              "      <td>0.974755</td>\n",
              "      <td>1.000000</td>\n",
              "    </tr>\n",
              "    <tr>\n",
              "      <th>1</th>\n",
              "      <td>1</td>\n",
              "      <td>These Foolish Things</td>\n",
              "      <td>Way You Look Tonight, The</td>\n",
              "      <td>0.966796</td>\n",
              "      <td>0.974755</td>\n",
              "      <td>1.000000</td>\n",
              "    </tr>\n",
              "    <tr>\n",
              "      <th>2</th>\n",
              "      <td>2</td>\n",
              "      <td>These Foolish Things</td>\n",
              "      <td>More Than You Know</td>\n",
              "      <td>0.916515</td>\n",
              "      <td>0.916515</td>\n",
              "      <td>1.000000</td>\n",
              "    </tr>\n",
              "    <tr>\n",
              "      <th>3</th>\n",
              "      <td>3</td>\n",
              "      <td>These Foolish Things</td>\n",
              "      <td>It's Easy To Remember</td>\n",
              "      <td>0.951972</td>\n",
              "      <td>0.974755</td>\n",
              "      <td>0.997175</td>\n",
              "    </tr>\n",
              "    <tr>\n",
              "      <th>4</th>\n",
              "      <td>4</td>\n",
              "      <td>These Foolish Things</td>\n",
              "      <td>Stairway To The Stars</td>\n",
              "      <td>0.942223</td>\n",
              "      <td>0.974755</td>\n",
              "      <td>0.986963</td>\n",
              "    </tr>\n",
              "    <tr>\n",
              "      <th>5</th>\n",
              "      <td>5</td>\n",
              "      <td>These Foolish Things</td>\n",
              "      <td>Party's Over, The</td>\n",
              "      <td>0.958709</td>\n",
              "      <td>0.974755</td>\n",
              "      <td>0.983539</td>\n",
              "    </tr>\n",
              "    <tr>\n",
              "      <th>6</th>\n",
              "      <td>6</td>\n",
              "      <td>These Foolish Things</td>\n",
              "      <td>Rosetta</td>\n",
              "      <td>0.895443</td>\n",
              "      <td>0.916515</td>\n",
              "      <td>0.977008</td>\n",
              "    </tr>\n",
              "    <tr>\n",
              "      <th>7</th>\n",
              "      <td>7</td>\n",
              "      <td>These Foolish Things</td>\n",
              "      <td>They All Laughed</td>\n",
              "      <td>0.950980</td>\n",
              "      <td>0.974755</td>\n",
              "      <td>0.975609</td>\n",
              "    </tr>\n",
              "    <tr>\n",
              "      <th>8</th>\n",
              "      <td>8</td>\n",
              "      <td>These Foolish Things</td>\n",
              "      <td>And The Angels Sing</td>\n",
              "      <td>0.947678</td>\n",
              "      <td>0.974755</td>\n",
              "      <td>0.972222</td>\n",
              "    </tr>\n",
              "    <tr>\n",
              "      <th>9</th>\n",
              "      <td>9</td>\n",
              "      <td>These Foolish Things</td>\n",
              "      <td>Let's Fall In Love</td>\n",
              "      <td>0.930484</td>\n",
              "      <td>0.974755</td>\n",
              "      <td>0.971464</td>\n",
              "    </tr>\n",
              "    <tr>\n",
              "      <th>10</th>\n",
              "      <td>10</td>\n",
              "      <td>These Foolish Things</td>\n",
              "      <td>Bewitched</td>\n",
              "      <td>0.942847</td>\n",
              "      <td>0.974755</td>\n",
              "      <td>0.970287</td>\n",
              "    </tr>\n",
              "    <tr>\n",
              "      <th>11</th>\n",
              "      <td>11</td>\n",
              "      <td>These Foolish Things</td>\n",
              "      <td>Easy Street</td>\n",
              "      <td>0.926302</td>\n",
              "      <td>0.954669</td>\n",
              "      <td>0.970286</td>\n",
              "    </tr>\n",
              "    <tr>\n",
              "      <th>12</th>\n",
              "      <td>12</td>\n",
              "      <td>These Foolish Things</td>\n",
              "      <td>Among My Souvenirs</td>\n",
              "      <td>0.925820</td>\n",
              "      <td>0.954669</td>\n",
              "      <td>0.969782</td>\n",
              "    </tr>\n",
              "    <tr>\n",
              "      <th>13</th>\n",
              "      <td>13</td>\n",
              "      <td>These Foolish Things</td>\n",
              "      <td>Why Do I Love You</td>\n",
              "      <td>0.943702</td>\n",
              "      <td>0.974755</td>\n",
              "      <td>0.968143</td>\n",
              "    </tr>\n",
              "    <tr>\n",
              "      <th>14</th>\n",
              "      <td>14</td>\n",
              "      <td>These Foolish Things</td>\n",
              "      <td>Folks Who Live On The Hill, The</td>\n",
              "      <td>0.942871</td>\n",
              "      <td>0.974755</td>\n",
              "      <td>0.967291</td>\n",
              "    </tr>\n",
              "    <tr>\n",
              "      <th>15</th>\n",
              "      <td>15</td>\n",
              "      <td>These Foolish Things</td>\n",
              "      <td>If There Is Someone Lovelier</td>\n",
              "      <td>0.942082</td>\n",
              "      <td>0.974755</td>\n",
              "      <td>0.966481</td>\n",
              "    </tr>\n",
              "    <tr>\n",
              "      <th>16</th>\n",
              "      <td>16</td>\n",
              "      <td>These Foolish Things</td>\n",
              "      <td>It's A Lovely Day Today</td>\n",
              "      <td>0.941636</td>\n",
              "      <td>0.974755</td>\n",
              "      <td>0.966024</td>\n",
              "    </tr>\n",
              "    <tr>\n",
              "      <th>17</th>\n",
              "      <td>17</td>\n",
              "      <td>These Foolish Things</td>\n",
              "      <td>Manhattan</td>\n",
              "      <td>0.920751</td>\n",
              "      <td>0.954669</td>\n",
              "      <td>0.964472</td>\n",
              "    </tr>\n",
              "    <tr>\n",
              "      <th>18</th>\n",
              "      <td>18</td>\n",
              "      <td>These Foolish Things</td>\n",
              "      <td>Heart And Soul</td>\n",
              "      <td>0.934199</td>\n",
              "      <td>0.974755</td>\n",
              "      <td>0.964457</td>\n",
              "    </tr>\n",
              "    <tr>\n",
              "      <th>19</th>\n",
              "      <td>19</td>\n",
              "      <td>These Foolish Things</td>\n",
              "      <td>For Once In My Life</td>\n",
              "      <td>0.919239</td>\n",
              "      <td>0.954669</td>\n",
              "      <td>0.962888</td>\n",
              "    </tr>\n",
              "    <tr>\n",
              "      <th>20</th>\n",
              "      <td>20</td>\n",
              "      <td>These Foolish Things</td>\n",
              "      <td>Danny Boy</td>\n",
              "      <td>0.934685</td>\n",
              "      <td>0.974755</td>\n",
              "      <td>0.962888</td>\n",
              "    </tr>\n",
              "    <tr>\n",
              "      <th>21</th>\n",
              "      <td>21</td>\n",
              "      <td>These Foolish Things</td>\n",
              "      <td>Taking A Chance On Love</td>\n",
              "      <td>0.919145</td>\n",
              "      <td>0.954669</td>\n",
              "      <td>0.962790</td>\n",
              "    </tr>\n",
              "    <tr>\n",
              "      <th>22</th>\n",
              "      <td>22</td>\n",
              "      <td>These Foolish Things</td>\n",
              "      <td>I Gotta Right To Sing The Blues</td>\n",
              "      <td>0.918176</td>\n",
              "      <td>0.954669</td>\n",
              "      <td>0.961775</td>\n",
              "    </tr>\n",
              "    <tr>\n",
              "      <th>23</th>\n",
              "      <td>23</td>\n",
              "      <td>These Foolish Things</td>\n",
              "      <td>Miss Otis Regrets</td>\n",
              "      <td>0.936418</td>\n",
              "      <td>0.974755</td>\n",
              "      <td>0.960671</td>\n",
              "    </tr>\n",
              "    <tr>\n",
              "      <th>24</th>\n",
              "      <td>24</td>\n",
              "      <td>These Foolish Things</td>\n",
              "      <td>Too Young To Go Steady</td>\n",
              "      <td>0.916578</td>\n",
              "      <td>0.972306</td>\n",
              "      <td>0.960101</td>\n",
              "    </tr>\n",
              "    <tr>\n",
              "      <th>25</th>\n",
              "      <td>25</td>\n",
              "      <td>These Foolish Things</td>\n",
              "      <td>Beyond The Sea</td>\n",
              "      <td>0.932874</td>\n",
              "      <td>0.974755</td>\n",
              "      <td>0.958333</td>\n",
              "    </tr>\n",
              "    <tr>\n",
              "      <th>26</th>\n",
              "      <td>26</td>\n",
              "      <td>These Foolish Things</td>\n",
              "      <td>You Keep Coming Back Like A Song</td>\n",
              "      <td>0.933722</td>\n",
              "      <td>0.974755</td>\n",
              "      <td>0.957905</td>\n",
              "    </tr>\n",
              "    <tr>\n",
              "      <th>27</th>\n",
              "      <td>27</td>\n",
              "      <td>These Foolish Things</td>\n",
              "      <td>I'm Old Fashioned</td>\n",
              "      <td>0.913908</td>\n",
              "      <td>0.954669</td>\n",
              "      <td>0.957304</td>\n",
              "    </tr>\n",
              "    <tr>\n",
              "      <th>28</th>\n",
              "      <td>28</td>\n",
              "      <td>These Foolish Things</td>\n",
              "      <td>For You, For Me, For Evermore</td>\n",
              "      <td>0.932298</td>\n",
              "      <td>0.974755</td>\n",
              "      <td>0.956444</td>\n",
              "    </tr>\n",
              "    <tr>\n",
              "      <th>29</th>\n",
              "      <td>29</td>\n",
              "      <td>These Foolish Things</td>\n",
              "      <td>Wouldn't It Be Loverly</td>\n",
              "      <td>0.931818</td>\n",
              "      <td>0.974755</td>\n",
              "      <td>0.955951</td>\n",
              "    </tr>\n",
              "  </tbody>\n",
              "</table>\n",
              "</div>"
            ],
            "text/plain": [
              "    index             reference  ...       max  score_div_max\n",
              "0       0  These Foolish Things  ...  0.974755       1.000000\n",
              "1       1  These Foolish Things  ...  0.974755       1.000000\n",
              "2       2  These Foolish Things  ...  0.916515       1.000000\n",
              "3       3  These Foolish Things  ...  0.974755       0.997175\n",
              "4       4  These Foolish Things  ...  0.974755       0.986963\n",
              "5       5  These Foolish Things  ...  0.974755       0.983539\n",
              "6       6  These Foolish Things  ...  0.916515       0.977008\n",
              "7       7  These Foolish Things  ...  0.974755       0.975609\n",
              "8       8  These Foolish Things  ...  0.974755       0.972222\n",
              "9       9  These Foolish Things  ...  0.974755       0.971464\n",
              "10     10  These Foolish Things  ...  0.974755       0.970287\n",
              "11     11  These Foolish Things  ...  0.954669       0.970286\n",
              "12     12  These Foolish Things  ...  0.954669       0.969782\n",
              "13     13  These Foolish Things  ...  0.974755       0.968143\n",
              "14     14  These Foolish Things  ...  0.974755       0.967291\n",
              "15     15  These Foolish Things  ...  0.974755       0.966481\n",
              "16     16  These Foolish Things  ...  0.974755       0.966024\n",
              "17     17  These Foolish Things  ...  0.954669       0.964472\n",
              "18     18  These Foolish Things  ...  0.974755       0.964457\n",
              "19     19  These Foolish Things  ...  0.954669       0.962888\n",
              "20     20  These Foolish Things  ...  0.974755       0.962888\n",
              "21     21  These Foolish Things  ...  0.954669       0.962790\n",
              "22     22  These Foolish Things  ...  0.954669       0.961775\n",
              "23     23  These Foolish Things  ...  0.974755       0.960671\n",
              "24     24  These Foolish Things  ...  0.972306       0.960101\n",
              "25     25  These Foolish Things  ...  0.974755       0.958333\n",
              "26     26  These Foolish Things  ...  0.974755       0.957905\n",
              "27     27  These Foolish Things  ...  0.954669       0.957304\n",
              "28     28  These Foolish Things  ...  0.974755       0.956444\n",
              "29     29  These Foolish Things  ...  0.974755       0.955951\n",
              "\n",
              "[30 rows x 6 columns]"
            ]
          },
          "metadata": {},
          "execution_count": 68
        }
      ]
    },
    {
      "cell_type": "code",
      "metadata": {
        "id": "15ZsHOQmyyah"
      },
      "source": [
        "dd = pd.DataFrame(columns = recommender_results_cols)\n",
        "\n",
        "for tune in tunes_eval_list:\n",
        "  result, details = recommend_tune(df_sim, tune)\n",
        "  dd['id'] = result['index']\n",
        "  dd['reference'] = tune\n",
        "  dd['method'] = 'lsi'\n",
        "  dd['similar'] = result['similar_title']\n",
        "  dd['score_div_max'] = result['score_div_max']\n",
        "  dd['score'] = result['score']\n",
        "\n",
        "recommender_results = recommender_results.append(dd)"
      ],
      "execution_count": 69,
      "outputs": []
    },
    {
      "cell_type": "markdown",
      "metadata": {
        "id": "Ojrjp11ni6Pl"
      },
      "source": [
        "### Tests for Contrafacts"
      ]
    },
    {
      "cell_type": "code",
      "metadata": {
        "colab": {
          "base_uri": "https://localhost:8080/"
        },
        "id": "D0_7m1qji6A-",
        "outputId": "62c30741-c62b-4ec2-fa9f-227d3860b4fe"
      },
      "source": [
        "topN = 15\n",
        "matches, results = test_contrafacts(contrafacts, index_lsi, lsi, topN)\n",
        "\n",
        "[print(f\"{val}: {rr}\") for rr, val in results.items()] \n",
        "print() \n",
        "print(f\"Found matches: {matches} out of {len(contrafacts)}: {100*matches/len(contrafacts):.3f}%\")"
      ],
      "execution_count": 70,
      "outputs": [
        {
          "output_type": "stream",
          "name": "stdout",
          "text": [
            "1: 26-2\n",
            "0: 52nd Street Theme\n",
            "1: Ablution\n",
            "1: Anthropology\n",
            "1: Ballade\n",
            "1: Bright Mississippi\n",
            "1: C.T.A.\n",
            "1: Cottontail\n",
            "0: Countdown\n",
            "0: Dewey Square\n",
            "1: Dexterity\n",
            "1: Dig\n",
            "1: Donna Lee\n",
            "0: Don't Be That Way\n",
            "1: Evidence\n",
            "1: Flintstones\n",
            "1: Four On Six\n",
            "1: Freight Train\n",
            "0: Good Bait\n",
            "0: Hackensack\n",
            "1: Half Nelson\n",
            "1: Hot House\n",
            "1: Impressions\n",
            "1: In A Mellow Tone (In A Mellotone)\n",
            "1: In Walked Bud\n",
            "1: Ko Ko\n",
            "0: Lennie's Pennies\n",
            "0: Little Rootie Tootie\n",
            "0: Little Willie Leaps\n",
            "0: Lullaby Of Birdland\n",
            "0: My Little Suede Shoes\n",
            "1: Ornithology\n",
            "0: Quasimodo (Theme)\n",
            "0: Room 608\n",
            "1: Satellite\n",
            "1: Scrapple From The Apple\n",
            "1: Tour De Force\n",
            "0: Wow\n",
            "1: Yardbird Suite\n",
            "0: Sweet Sue, Just You\n",
            "1: These Foolish Things\n",
            "1: Misty\n",
            "\n",
            "Found matches: 27 out of 42: 64.286%\n"
          ]
        }
      ]
    },
    {
      "cell_type": "code",
      "metadata": {
        "id": "RS7LsLASi5-f"
      },
      "source": [
        "model_name = 'lsi'\n",
        "if use_wandb:\n",
        "  wandb.log(\n",
        "      {model_name: {\n",
        "                'contrafacts': {\n",
        "                    'topN': topN,\n",
        "                    'success': matches/len(contrafacts),\n",
        "                    #'results': results\n",
        "                    }\n",
        "                   },\n",
        "       'all_models': {\n",
        "           model_name: wandb.Table(\n",
        "               columns=[\"Title\", \"Match\"],\n",
        "               data=[[key, value] for key, value in results.items()]),\n",
        "       }\n",
        "       })"
      ],
      "execution_count": 71,
      "outputs": []
    },
    {
      "cell_type": "markdown",
      "metadata": {
        "id": "asScIocQRMPA"
      },
      "source": [
        "## Determine Number of Topics for LSI Model\n",
        "\n",
        "This sample comes from Datacamp: \n",
        "\n",
        "https://www.datacamp.com/community/tutorials/discovering-hidden-topics-python\n"
      ]
    },
    {
      "cell_type": "markdown",
      "metadata": {
        "id": "1TPNWFEPSxZ-"
      },
      "source": [
        "What is the best way to determine k (number of topics) in topic modeling? Identify the optimum number of topics in the given corpus text is a challenging task. We can use the following options for determining the optimum number of topics:\n",
        "\n",
        "* One way to determine the optimum number of topics is to consider each topic as a cluster and find out the effectiveness of a cluster using the Silhouette coefficient.\n",
        "* Topic coherence measure is a realistic measure for identifying the number of topics.\n",
        "\n",
        "Topic Coherence measure is a widely used metric to evaluate topic models. It uses the latent variable models. Each generated topic has a list of words. In topic coherence measure, you will find average/median of pairwise word similarity scores of the words in a topic. The high value of topic coherence score model will be considered as a good topic model. "
      ]
    },
    {
      "cell_type": "code",
      "metadata": {
        "id": "umpCyQQzRLgv"
      },
      "source": [
        "def prepare_corpus(doc_clean):\n",
        "    \"\"\"\n",
        "    Input  : clean document\n",
        "    Purpose: create term dictionary of our courpus and Converting list of documents (corpus) into Document Term Matrix\n",
        "    Output : term dictionary and Document Term Matrix\n",
        "    \"\"\"\n",
        "    # Creating the term dictionary of our courpus, where every unique term is assigned an index. dictionary = corpora.Dictionary(doc_clean)\n",
        "    dictionary = corpora.Dictionary(doc_clean)\n",
        "    # Converting list of documents (corpus) into Document Term Matrix using dictionary prepared above.\n",
        "    doc_term_matrix = [dictionary.doc2bow(doc) for doc in doc_clean]\n",
        "    # generate LDA model\n",
        "    return dictionary, doc_term_matrix"
      ],
      "execution_count": 72,
      "outputs": []
    },
    {
      "cell_type": "code",
      "metadata": {
        "id": "aS2wxIEERcul"
      },
      "source": [
        "def compute_coherence_values(dictionary, doc_term_matrix, doc_clean, stop, start=2, step=3):\n",
        "    \"\"\"\n",
        "    Input   : dictionary : Gensim dictionary\n",
        "              corpus : Gensim corpus\n",
        "              texts : List of input texts\n",
        "              stop : Max num of topics\n",
        "    purpose : Compute c_v coherence for various number of topics\n",
        "    Output  : model_list : List of LSA topic models\n",
        "              coherence_values : Coherence values corresponding to the LDA model with respective number of topics\n",
        "    \"\"\"\n",
        "    coherence_values = []\n",
        "    model_list = []\n",
        "    for num_topics in range(start, stop, step):\n",
        "        # generate LSA model\n",
        "        model = LsiModel(doc_term_matrix, num_topics=num_topics, id2word = dictionary)  # train model\n",
        "        model_list.append(model)\n",
        "        coherencemodel = CoherenceModel(model=model, texts=doc_clean, dictionary=dictionary, coherence='c_v')\n",
        "        coherence_values.append(coherencemodel.get_coherence())\n",
        "    return model_list, coherence_values"
      ],
      "execution_count": 73,
      "outputs": []
    },
    {
      "cell_type": "code",
      "metadata": {
        "id": "DjyzAzWBRfrH"
      },
      "source": [
        "def plot_graph(doc_clean,start, stop, step):\n",
        "    dictionary, doc_term_matrix = prepare_corpus(doc_clean)\n",
        "    model_list, coherence_values = compute_coherence_values(dictionary, doc_term_matrix,doc_clean,\n",
        "                                                            stop, start, step)\n",
        "    # Show graph\n",
        "    x = range(start, stop, step)\n",
        "    plt.plot(x, coherence_values)\n",
        "    plt.xlabel(\"Number of Topics\")\n",
        "    plt.ylabel(\"Coherence score\")\n",
        "    plt.legend((\"coherence_values\"), loc='best')\n",
        "    plt.show()"
      ],
      "execution_count": 74,
      "outputs": []
    },
    {
      "cell_type": "code",
      "metadata": {
        "id": "qy9ZjdcmRhxs"
      },
      "source": [
        "# evaluate a good number of topics for the LSI Model. This takes some time.\n",
        "\n",
        "if False:\n",
        "\n",
        "  start, stop, step = 1, 500, 10\n",
        "  plot_graph(data, start, stop, step)"
      ],
      "execution_count": 75,
      "outputs": []
    },
    {
      "cell_type": "markdown",
      "metadata": {
        "id": "Qo5NgBHFlqgg"
      },
      "source": [
        "For unigrams, the best number of topics seems to be around 20.\n",
        "\n",
        "For unigrams plus bigrams, the coherence score drops down until 100 and then continuously rises until 500 and continues to rise. Same for bigrams-only."
      ]
    },
    {
      "cell_type": "markdown",
      "metadata": {
        "id": "lTQKfd0xQQ65"
      },
      "source": [
        "Store Model to W&B"
      ]
    },
    {
      "cell_type": "code",
      "metadata": {
        "id": "RfAYF7ArQUXo"
      },
      "source": [
        "if use_wandb:\n",
        "  model_artifact = wandb.Artifact(\n",
        "      \"model_lsi\", \n",
        "      type=\"model\",\n",
        "      description=\"LSI model\",\n",
        "      metadata=\"\")\n",
        "\n",
        "  model_artifact.add_file(\"/content/index/lsi.model\")\n",
        "  model_artifact.add_file(\"/content/index/lsi_matrixsim.index\")\n",
        "  model_artifact.add_file(\"/content/index/lsi.model.projection\")\n",
        "  wandb.log_artifact(model_artifact)"
      ],
      "execution_count": 76,
      "outputs": []
    },
    {
      "cell_type": "markdown",
      "metadata": {
        "id": "rF_INicGhXKd"
      },
      "source": [
        "# Doc2Vec"
      ]
    },
    {
      "cell_type": "code",
      "metadata": {
        "id": "wflSccBshkIk"
      },
      "source": [
        "def get_tagged_documents(corpus, tags=None):\n",
        "  if tags == 'SectionsTunes':\n",
        "    print('Tagging input data with both section and tune information.')\n",
        "  else:\n",
        "    print('Tagging input data with section informaiton only.')\n",
        "    \n",
        "  for i, tokens in enumerate(corpus):\n",
        "    if tags == 'SectionsTunes':\n",
        "      yield gensim.models.doc2vec.TaggedDocument(tokens, [i, f'titleid_{sectionid_to_titleid[i]}'])\n",
        "    else:\n",
        "      yield gensim.models.doc2vec.TaggedDocument(tokens, [i])  # diatonic chord distance is a bit better"
      ],
      "execution_count": 77,
      "outputs": []
    },
    {
      "cell_type": "code",
      "metadata": {
        "colab": {
          "base_uri": "https://localhost:8080/"
        },
        "id": "_u0RdBI1kYD9",
        "outputId": "3c77d6ec-80c5-4f26-e349-4b3251aca5b2"
      },
      "source": [
        "train_corpus = list(get_tagged_documents(processed_corpus, doc2vec_config['general']['document_tags']))\n",
        "train_corpus[1000]"
      ],
      "execution_count": 78,
      "outputs": [
        {
          "output_type": "stream",
          "name": "stdout",
          "text": [
            "Tagging input data with both section and tune information.\n"
          ]
        },
        {
          "output_type": "execute_result",
          "data": {
            "text/plain": [
              "TaggedDocument(words=['C', 'Am', 'Dm', 'G7', 'C', 'F', 'C', 'Am', 'Dm', 'G7', 'C', 'Dm', 'G7'], tags=[1000, 'titleid_308'])"
            ]
          },
          "metadata": {},
          "execution_count": 78
        }
      ]
    },
    {
      "cell_type": "code",
      "metadata": {
        "colab": {
          "base_uri": "https://localhost:8080/"
        },
        "id": "M9adPoy9reaw",
        "outputId": "0db6be77-a5cc-4b69-c00b-5746c9ec993d"
      },
      "source": [
        "import multiprocessing\n",
        "\n",
        "print(f\"CPU Count: {multiprocessing.cpu_count()}\")\n",
        "print(f\"Config:\")\n",
        "print(doc2vec_config['model'])\n",
        "\n",
        "model = Doc2Vec(train_corpus,\n",
        "                **doc2vec_config['model']\n",
        "                )"
      ],
      "execution_count": 79,
      "outputs": [
        {
          "output_type": "stream",
          "name": "stderr",
          "text": [
            "2021-11-25 11:11:33,890 : INFO : collecting all words and their counts\n",
            "2021-11-25 11:11:33,894 : INFO : PROGRESS: at example #0, processed 0 words (0/s), 0 word types, 0 tags\n",
            "2021-11-25 11:11:33,948 : INFO : collected 72 word types and 7200 unique tags from a corpus of 5391 examples and 82622 words\n",
            "2021-11-25 11:11:33,949 : INFO : Creating a fresh vocabulary\n",
            "2021-11-25 11:11:33,951 : INFO : Doc2Vec lifecycle event {'msg': 'effective_min_count=1 retains 72 unique words (100.0%% of original 72, drops 0)', 'datetime': '2021-11-25T11:11:33.951432', 'gensim': '4.1.2', 'python': '3.7.12 (default, Sep 10 2021, 00:21:48) \\n[GCC 7.5.0]', 'platform': 'Linux-5.4.104+-x86_64-with-Ubuntu-18.04-bionic', 'event': 'prepare_vocab'}\n",
            "2021-11-25 11:11:33,953 : INFO : Doc2Vec lifecycle event {'msg': 'effective_min_count=1 leaves 82622 word corpus (100.0%% of original 82622, drops 0)', 'datetime': '2021-11-25T11:11:33.953511', 'gensim': '4.1.2', 'python': '3.7.12 (default, Sep 10 2021, 00:21:48) \\n[GCC 7.5.0]', 'platform': 'Linux-5.4.104+-x86_64-with-Ubuntu-18.04-bionic', 'event': 'prepare_vocab'}\n",
            "2021-11-25 11:11:33,957 : INFO : deleting the raw counts dictionary of 72 items\n",
            "2021-11-25 11:11:33,961 : INFO : sample=0.001 downsamples 40 most-common words\n",
            "2021-11-25 11:11:33,963 : INFO : Doc2Vec lifecycle event {'msg': 'downsampling leaves estimated 18531.453689281494 word corpus (22.4%% of prior 82622)', 'datetime': '2021-11-25T11:11:33.963522', 'gensim': '4.1.2', 'python': '3.7.12 (default, Sep 10 2021, 00:21:48) \\n[GCC 7.5.0]', 'platform': 'Linux-5.4.104+-x86_64-with-Ubuntu-18.04-bionic', 'event': 'prepare_vocab'}\n",
            "2021-11-25 11:11:33,968 : INFO : estimated required memory for 72 words and 100 dimensions: 4413600 bytes\n",
            "2021-11-25 11:11:33,970 : INFO : resetting layer weights\n",
            "2021-11-25 11:11:33,980 : INFO : Doc2Vec lifecycle event {'msg': 'training model with 3 workers on 72 vocabulary and 100 features, using sg=0 hs=0 sample=0.001 negative=10 window=4 shrink_windows=True', 'datetime': '2021-11-25T11:11:33.980498', 'gensim': '4.1.2', 'python': '3.7.12 (default, Sep 10 2021, 00:21:48) \\n[GCC 7.5.0]', 'platform': 'Linux-5.4.104+-x86_64-with-Ubuntu-18.04-bionic', 'event': 'train'}\n"
          ]
        },
        {
          "output_type": "stream",
          "name": "stdout",
          "text": [
            "CPU Count: 2\n",
            "Config:\n",
            "{'dm': 1, 'vector_size': 100, 'window': 4, 'epochs': 40, 'min_count': 1, 'negative': 10, 'sample': 0.001, 'seed': 42}\n"
          ]
        },
        {
          "output_type": "stream",
          "name": "stderr",
          "text": [
            "2021-11-25 11:11:34,646 : INFO : worker thread finished; awaiting finish of 2 more threads\n",
            "2021-11-25 11:11:34,703 : INFO : worker thread finished; awaiting finish of 1 more threads\n",
            "2021-11-25 11:11:34,720 : INFO : worker thread finished; awaiting finish of 0 more threads\n",
            "2021-11-25 11:11:34,722 : INFO : EPOCH - 1 : training on 82622 raw words (29230 effective words) took 0.7s, 40394 effective words/s\n",
            "2021-11-25 11:11:35,419 : INFO : worker thread finished; awaiting finish of 2 more threads\n",
            "2021-11-25 11:11:35,456 : INFO : worker thread finished; awaiting finish of 1 more threads\n",
            "2021-11-25 11:11:35,467 : INFO : worker thread finished; awaiting finish of 0 more threads\n",
            "2021-11-25 11:11:35,468 : INFO : EPOCH - 2 : training on 82622 raw words (29271 effective words) took 0.7s, 39995 effective words/s\n",
            "2021-11-25 11:11:36,135 : INFO : worker thread finished; awaiting finish of 2 more threads\n",
            "2021-11-25 11:11:36,207 : INFO : worker thread finished; awaiting finish of 1 more threads\n",
            "2021-11-25 11:11:36,213 : INFO : worker thread finished; awaiting finish of 0 more threads\n",
            "2021-11-25 11:11:36,217 : INFO : EPOCH - 3 : training on 82622 raw words (29224 effective words) took 0.7s, 39664 effective words/s\n",
            "2021-11-25 11:11:36,815 : INFO : worker thread finished; awaiting finish of 2 more threads\n",
            "2021-11-25 11:11:36,890 : INFO : worker thread finished; awaiting finish of 1 more threads\n",
            "2021-11-25 11:11:36,896 : INFO : worker thread finished; awaiting finish of 0 more threads\n",
            "2021-11-25 11:11:36,898 : INFO : EPOCH - 4 : training on 82622 raw words (29396 effective words) took 0.7s, 44047 effective words/s\n",
            "2021-11-25 11:11:37,580 : INFO : worker thread finished; awaiting finish of 2 more threads\n",
            "2021-11-25 11:11:37,630 : INFO : worker thread finished; awaiting finish of 1 more threads\n",
            "2021-11-25 11:11:37,638 : INFO : worker thread finished; awaiting finish of 0 more threads\n",
            "2021-11-25 11:11:37,639 : INFO : EPOCH - 5 : training on 82622 raw words (29388 effective words) took 0.7s, 40331 effective words/s\n",
            "2021-11-25 11:11:38,290 : INFO : worker thread finished; awaiting finish of 2 more threads\n",
            "2021-11-25 11:11:38,362 : INFO : worker thread finished; awaiting finish of 1 more threads\n",
            "2021-11-25 11:11:38,371 : INFO : worker thread finished; awaiting finish of 0 more threads\n",
            "2021-11-25 11:11:38,372 : INFO : EPOCH - 6 : training on 82622 raw words (29302 effective words) took 0.7s, 40729 effective words/s\n",
            "2021-11-25 11:11:39,031 : INFO : worker thread finished; awaiting finish of 2 more threads\n",
            "2021-11-25 11:11:39,085 : INFO : worker thread finished; awaiting finish of 1 more threads\n",
            "2021-11-25 11:11:39,096 : INFO : worker thread finished; awaiting finish of 0 more threads\n",
            "2021-11-25 11:11:39,098 : INFO : EPOCH - 7 : training on 82622 raw words (29028 effective words) took 0.7s, 40704 effective words/s\n",
            "2021-11-25 11:11:39,768 : INFO : worker thread finished; awaiting finish of 2 more threads\n",
            "2021-11-25 11:11:39,795 : INFO : worker thread finished; awaiting finish of 1 more threads\n",
            "2021-11-25 11:11:39,803 : INFO : worker thread finished; awaiting finish of 0 more threads\n",
            "2021-11-25 11:11:39,804 : INFO : EPOCH - 8 : training on 82622 raw words (29356 effective words) took 0.7s, 42271 effective words/s\n",
            "2021-11-25 11:11:40,546 : INFO : worker thread finished; awaiting finish of 2 more threads\n",
            "2021-11-25 11:11:40,591 : INFO : worker thread finished; awaiting finish of 1 more threads\n",
            "2021-11-25 11:11:40,595 : INFO : worker thread finished; awaiting finish of 0 more threads\n",
            "2021-11-25 11:11:40,599 : INFO : EPOCH - 9 : training on 82622 raw words (29333 effective words) took 0.8s, 37548 effective words/s\n",
            "2021-11-25 11:11:41,248 : INFO : worker thread finished; awaiting finish of 2 more threads\n",
            "2021-11-25 11:11:41,323 : INFO : worker thread finished; awaiting finish of 1 more threads\n",
            "2021-11-25 11:11:41,334 : INFO : worker thread finished; awaiting finish of 0 more threads\n",
            "2021-11-25 11:11:41,335 : INFO : EPOCH - 10 : training on 82622 raw words (29264 effective words) took 0.7s, 41132 effective words/s\n",
            "2021-11-25 11:11:42,005 : INFO : worker thread finished; awaiting finish of 2 more threads\n",
            "2021-11-25 11:11:42,032 : INFO : worker thread finished; awaiting finish of 1 more threads\n",
            "2021-11-25 11:11:42,045 : INFO : worker thread finished; awaiting finish of 0 more threads\n",
            "2021-11-25 11:11:42,046 : INFO : EPOCH - 11 : training on 82622 raw words (29339 effective words) took 0.7s, 41982 effective words/s\n",
            "2021-11-25 11:11:42,759 : INFO : worker thread finished; awaiting finish of 2 more threads\n",
            "2021-11-25 11:11:42,774 : INFO : worker thread finished; awaiting finish of 1 more threads\n",
            "2021-11-25 11:11:42,786 : INFO : worker thread finished; awaiting finish of 0 more threads\n",
            "2021-11-25 11:11:42,787 : INFO : EPOCH - 12 : training on 82622 raw words (29312 effective words) took 0.7s, 40410 effective words/s\n",
            "2021-11-25 11:11:43,497 : INFO : worker thread finished; awaiting finish of 2 more threads\n",
            "2021-11-25 11:11:43,557 : INFO : worker thread finished; awaiting finish of 1 more threads\n",
            "2021-11-25 11:11:43,567 : INFO : worker thread finished; awaiting finish of 0 more threads\n",
            "2021-11-25 11:11:43,568 : INFO : EPOCH - 13 : training on 82622 raw words (29255 effective words) took 0.8s, 38259 effective words/s\n",
            "2021-11-25 11:11:44,230 : INFO : worker thread finished; awaiting finish of 2 more threads\n",
            "2021-11-25 11:11:44,303 : INFO : worker thread finished; awaiting finish of 1 more threads\n",
            "2021-11-25 11:11:44,312 : INFO : worker thread finished; awaiting finish of 0 more threads\n",
            "2021-11-25 11:11:44,313 : INFO : EPOCH - 14 : training on 82622 raw words (29388 effective words) took 0.7s, 40439 effective words/s\n",
            "2021-11-25 11:11:45,021 : INFO : worker thread finished; awaiting finish of 2 more threads\n",
            "2021-11-25 11:11:45,088 : INFO : worker thread finished; awaiting finish of 1 more threads\n",
            "2021-11-25 11:11:45,089 : INFO : worker thread finished; awaiting finish of 0 more threads\n",
            "2021-11-25 11:11:45,090 : INFO : EPOCH - 15 : training on 82622 raw words (29362 effective words) took 0.8s, 38545 effective words/s\n",
            "2021-11-25 11:11:45,736 : INFO : worker thread finished; awaiting finish of 2 more threads\n",
            "2021-11-25 11:11:45,813 : INFO : worker thread finished; awaiting finish of 1 more threads\n",
            "2021-11-25 11:11:45,818 : INFO : worker thread finished; awaiting finish of 0 more threads\n",
            "2021-11-25 11:11:45,821 : INFO : EPOCH - 16 : training on 82622 raw words (29417 effective words) took 0.7s, 41219 effective words/s\n",
            "2021-11-25 11:11:46,471 : INFO : worker thread finished; awaiting finish of 2 more threads\n",
            "2021-11-25 11:11:46,535 : INFO : worker thread finished; awaiting finish of 1 more threads\n",
            "2021-11-25 11:11:46,540 : INFO : worker thread finished; awaiting finish of 0 more threads\n",
            "2021-11-25 11:11:46,541 : INFO : EPOCH - 17 : training on 82622 raw words (29251 effective words) took 0.7s, 41304 effective words/s\n",
            "2021-11-25 11:11:47,181 : INFO : worker thread finished; awaiting finish of 2 more threads\n",
            "2021-11-25 11:11:47,251 : INFO : worker thread finished; awaiting finish of 1 more threads\n",
            "2021-11-25 11:11:47,258 : INFO : worker thread finished; awaiting finish of 0 more threads\n",
            "2021-11-25 11:11:47,261 : INFO : EPOCH - 18 : training on 82622 raw words (29161 effective words) took 0.7s, 41281 effective words/s\n",
            "2021-11-25 11:11:47,913 : INFO : worker thread finished; awaiting finish of 2 more threads\n",
            "2021-11-25 11:11:47,963 : INFO : worker thread finished; awaiting finish of 1 more threads\n",
            "2021-11-25 11:11:47,971 : INFO : worker thread finished; awaiting finish of 0 more threads\n",
            "2021-11-25 11:11:47,972 : INFO : EPOCH - 19 : training on 82622 raw words (29354 effective words) took 0.7s, 42017 effective words/s\n",
            "2021-11-25 11:11:48,623 : INFO : worker thread finished; awaiting finish of 2 more threads\n",
            "2021-11-25 11:11:48,676 : INFO : worker thread finished; awaiting finish of 1 more threads\n",
            "2021-11-25 11:11:48,685 : INFO : worker thread finished; awaiting finish of 0 more threads\n",
            "2021-11-25 11:11:48,686 : INFO : EPOCH - 20 : training on 82622 raw words (29221 effective words) took 0.7s, 41666 effective words/s\n",
            "2021-11-25 11:11:49,349 : INFO : worker thread finished; awaiting finish of 2 more threads\n",
            "2021-11-25 11:11:49,411 : INFO : worker thread finished; awaiting finish of 1 more threads\n",
            "2021-11-25 11:11:49,421 : INFO : worker thread finished; awaiting finish of 0 more threads\n",
            "2021-11-25 11:11:49,423 : INFO : EPOCH - 21 : training on 82622 raw words (29286 effective words) took 0.7s, 40469 effective words/s\n",
            "2021-11-25 11:11:50,068 : INFO : worker thread finished; awaiting finish of 2 more threads\n",
            "2021-11-25 11:11:50,142 : INFO : worker thread finished; awaiting finish of 1 more threads\n",
            "2021-11-25 11:11:50,149 : INFO : worker thread finished; awaiting finish of 0 more threads\n",
            "2021-11-25 11:11:50,151 : INFO : EPOCH - 22 : training on 82622 raw words (29043 effective words) took 0.7s, 40572 effective words/s\n",
            "2021-11-25 11:11:50,854 : INFO : worker thread finished; awaiting finish of 2 more threads\n",
            "2021-11-25 11:11:50,922 : INFO : worker thread finished; awaiting finish of 1 more threads\n",
            "2021-11-25 11:11:50,927 : INFO : worker thread finished; awaiting finish of 0 more threads\n",
            "2021-11-25 11:11:50,929 : INFO : EPOCH - 23 : training on 82622 raw words (29211 effective words) took 0.8s, 38117 effective words/s\n",
            "2021-11-25 11:11:51,619 : INFO : worker thread finished; awaiting finish of 2 more threads\n",
            "2021-11-25 11:11:51,678 : INFO : worker thread finished; awaiting finish of 1 more threads\n",
            "2021-11-25 11:11:51,687 : INFO : worker thread finished; awaiting finish of 0 more threads\n",
            "2021-11-25 11:11:51,689 : INFO : EPOCH - 24 : training on 82622 raw words (29367 effective words) took 0.7s, 39493 effective words/s\n",
            "2021-11-25 11:11:52,362 : INFO : worker thread finished; awaiting finish of 2 more threads\n",
            "2021-11-25 11:11:52,418 : INFO : worker thread finished; awaiting finish of 1 more threads\n",
            "2021-11-25 11:11:52,432 : INFO : worker thread finished; awaiting finish of 0 more threads\n",
            "2021-11-25 11:11:52,434 : INFO : EPOCH - 25 : training on 82622 raw words (29361 effective words) took 0.7s, 40452 effective words/s\n",
            "2021-11-25 11:11:53,081 : INFO : worker thread finished; awaiting finish of 2 more threads\n",
            "2021-11-25 11:11:53,149 : INFO : worker thread finished; awaiting finish of 1 more threads\n",
            "2021-11-25 11:11:53,159 : INFO : worker thread finished; awaiting finish of 0 more threads\n",
            "2021-11-25 11:11:53,161 : INFO : EPOCH - 26 : training on 82622 raw words (29301 effective words) took 0.7s, 41070 effective words/s\n",
            "2021-11-25 11:11:53,800 : INFO : worker thread finished; awaiting finish of 2 more threads\n",
            "2021-11-25 11:11:53,865 : INFO : worker thread finished; awaiting finish of 1 more threads\n",
            "2021-11-25 11:11:53,876 : INFO : worker thread finished; awaiting finish of 0 more threads\n",
            "2021-11-25 11:11:53,877 : INFO : EPOCH - 27 : training on 82622 raw words (29203 effective words) took 0.7s, 41671 effective words/s\n",
            "2021-11-25 11:11:54,586 : INFO : worker thread finished; awaiting finish of 2 more threads\n",
            "2021-11-25 11:11:54,629 : INFO : worker thread finished; awaiting finish of 1 more threads\n",
            "2021-11-25 11:11:54,640 : INFO : worker thread finished; awaiting finish of 0 more threads\n",
            "2021-11-25 11:11:54,641 : INFO : EPOCH - 28 : training on 82622 raw words (29240 effective words) took 0.8s, 38928 effective words/s\n",
            "2021-11-25 11:11:55,297 : INFO : worker thread finished; awaiting finish of 2 more threads\n",
            "2021-11-25 11:11:55,368 : INFO : worker thread finished; awaiting finish of 1 more threads\n",
            "2021-11-25 11:11:55,378 : INFO : worker thread finished; awaiting finish of 0 more threads\n",
            "2021-11-25 11:11:55,380 : INFO : EPOCH - 29 : training on 82622 raw words (29526 effective words) took 0.7s, 40732 effective words/s\n",
            "2021-11-25 11:11:56,030 : INFO : worker thread finished; awaiting finish of 2 more threads\n",
            "2021-11-25 11:11:56,088 : INFO : worker thread finished; awaiting finish of 1 more threads\n",
            "2021-11-25 11:11:56,096 : INFO : worker thread finished; awaiting finish of 0 more threads\n",
            "2021-11-25 11:11:56,098 : INFO : EPOCH - 30 : training on 82622 raw words (29281 effective words) took 0.7s, 41696 effective words/s\n",
            "2021-11-25 11:11:56,717 : INFO : worker thread finished; awaiting finish of 2 more threads\n",
            "2021-11-25 11:11:56,772 : INFO : worker thread finished; awaiting finish of 1 more threads\n",
            "2021-11-25 11:11:56,784 : INFO : worker thread finished; awaiting finish of 0 more threads\n",
            "2021-11-25 11:11:56,785 : INFO : EPOCH - 31 : training on 82622 raw words (29386 effective words) took 0.7s, 43509 effective words/s\n",
            "2021-11-25 11:11:57,463 : INFO : worker thread finished; awaiting finish of 2 more threads\n",
            "2021-11-25 11:11:57,513 : INFO : worker thread finished; awaiting finish of 1 more threads\n",
            "2021-11-25 11:11:57,521 : INFO : worker thread finished; awaiting finish of 0 more threads\n",
            "2021-11-25 11:11:57,525 : INFO : EPOCH - 32 : training on 82622 raw words (29297 effective words) took 0.7s, 40406 effective words/s\n",
            "2021-11-25 11:11:58,180 : INFO : worker thread finished; awaiting finish of 2 more threads\n",
            "2021-11-25 11:11:58,247 : INFO : worker thread finished; awaiting finish of 1 more threads\n",
            "2021-11-25 11:11:58,258 : INFO : worker thread finished; awaiting finish of 0 more threads\n",
            "2021-11-25 11:11:58,265 : INFO : EPOCH - 33 : training on 82622 raw words (29296 effective words) took 0.7s, 40499 effective words/s\n",
            "2021-11-25 11:11:58,962 : INFO : worker thread finished; awaiting finish of 2 more threads\n",
            "2021-11-25 11:11:59,000 : INFO : worker thread finished; awaiting finish of 1 more threads\n",
            "2021-11-25 11:11:59,012 : INFO : worker thread finished; awaiting finish of 0 more threads\n",
            "2021-11-25 11:11:59,013 : INFO : EPOCH - 34 : training on 82622 raw words (29522 effective words) took 0.7s, 40343 effective words/s\n",
            "2021-11-25 11:11:59,702 : INFO : worker thread finished; awaiting finish of 2 more threads\n",
            "2021-11-25 11:11:59,766 : INFO : worker thread finished; awaiting finish of 1 more threads\n",
            "2021-11-25 11:11:59,772 : INFO : worker thread finished; awaiting finish of 0 more threads\n",
            "2021-11-25 11:11:59,774 : INFO : EPOCH - 35 : training on 82622 raw words (29249 effective words) took 0.7s, 39171 effective words/s\n",
            "2021-11-25 11:12:00,452 : INFO : worker thread finished; awaiting finish of 2 more threads\n",
            "2021-11-25 11:12:00,505 : INFO : worker thread finished; awaiting finish of 1 more threads\n",
            "2021-11-25 11:12:00,517 : INFO : worker thread finished; awaiting finish of 0 more threads\n",
            "2021-11-25 11:12:00,519 : INFO : EPOCH - 36 : training on 82622 raw words (29300 effective words) took 0.7s, 40174 effective words/s\n",
            "2021-11-25 11:12:01,154 : INFO : worker thread finished; awaiting finish of 2 more threads\n",
            "2021-11-25 11:12:01,221 : INFO : worker thread finished; awaiting finish of 1 more threads\n",
            "2021-11-25 11:12:01,227 : INFO : worker thread finished; awaiting finish of 0 more threads\n",
            "2021-11-25 11:12:01,230 : INFO : EPOCH - 37 : training on 82622 raw words (29468 effective words) took 0.7s, 42960 effective words/s\n",
            "2021-11-25 11:12:01,856 : INFO : worker thread finished; awaiting finish of 2 more threads\n",
            "2021-11-25 11:12:01,901 : INFO : worker thread finished; awaiting finish of 1 more threads\n",
            "2021-11-25 11:12:01,913 : INFO : worker thread finished; awaiting finish of 0 more threads\n",
            "2021-11-25 11:12:01,915 : INFO : EPOCH - 38 : training on 82622 raw words (29239 effective words) took 0.7s, 43393 effective words/s\n",
            "2021-11-25 11:12:02,623 : INFO : worker thread finished; awaiting finish of 2 more threads\n",
            "2021-11-25 11:12:02,678 : INFO : worker thread finished; awaiting finish of 1 more threads\n",
            "2021-11-25 11:12:02,693 : INFO : worker thread finished; awaiting finish of 0 more threads\n",
            "2021-11-25 11:12:02,695 : INFO : EPOCH - 39 : training on 82622 raw words (29341 effective words) took 0.8s, 38316 effective words/s\n",
            "2021-11-25 11:12:03,395 : INFO : worker thread finished; awaiting finish of 2 more threads\n",
            "2021-11-25 11:12:03,456 : INFO : worker thread finished; awaiting finish of 1 more threads\n",
            "2021-11-25 11:12:03,467 : INFO : worker thread finished; awaiting finish of 0 more threads\n",
            "2021-11-25 11:12:03,468 : INFO : EPOCH - 40 : training on 82622 raw words (29498 effective words) took 0.8s, 38771 effective words/s\n",
            "2021-11-25 11:12:03,472 : INFO : Doc2Vec lifecycle event {'msg': 'training on 3304880 raw words (1172267 effective words) took 29.5s, 39754 effective words/s', 'datetime': '2021-11-25T11:12:03.472164', 'gensim': '4.1.2', 'python': '3.7.12 (default, Sep 10 2021, 00:21:48) \\n[GCC 7.5.0]', 'platform': 'Linux-5.4.104+-x86_64-with-Ubuntu-18.04-bionic', 'event': 'train'}\n",
            "2021-11-25 11:12:03,476 : INFO : Doc2Vec lifecycle event {'params': 'Doc2Vec(dm/m,d100,n10,w4,s0.001,t3)', 'datetime': '2021-11-25T11:12:03.476025', 'gensim': '4.1.2', 'python': '3.7.12 (default, Sep 10 2021, 00:21:48) \\n[GCC 7.5.0]', 'platform': 'Linux-5.4.104+-x86_64-with-Ubuntu-18.04-bionic', 'event': 'created'}\n"
          ]
        }
      ]
    },
    {
      "cell_type": "code",
      "metadata": {
        "id": "G-cE7gug1Ct5",
        "colab": {
          "base_uri": "https://localhost:8080/"
        },
        "outputId": "71941966-ff7a-457d-fa6d-1c20b117a953"
      },
      "source": [
        "if use_wandb:\n",
        "  model_artifact = wandb.Artifact(\n",
        "      \"model_doc2vec\", \n",
        "      type=\"model\",\n",
        "      description=\"Doc2Vec model\",\n",
        "      metadata=\"\")\n",
        "\n",
        "  fname = 'doc2vec.model'\n",
        "  model.save(fname)\n",
        "\n",
        "  model_artifact.add_file(fname)\n",
        "  wandb.log_artifact(model_artifact)"
      ],
      "execution_count": 80,
      "outputs": [
        {
          "output_type": "stream",
          "name": "stderr",
          "text": [
            "2021-11-25 11:12:03,491 : INFO : Doc2Vec lifecycle event {'fname_or_handle': 'doc2vec.model', 'separately': 'None', 'sep_limit': 10485760, 'ignore': frozenset(), 'datetime': '2021-11-25T11:12:03.491578', 'gensim': '4.1.2', 'python': '3.7.12 (default, Sep 10 2021, 00:21:48) \\n[GCC 7.5.0]', 'platform': 'Linux-5.4.104+-x86_64-with-Ubuntu-18.04-bionic', 'event': 'saving'}\n",
            "2021-11-25 11:12:03,495 : INFO : not storing attribute cum_table\n",
            "2021-11-25 11:12:03,509 : INFO : saved doc2vec.model\n"
          ]
        }
      ]
    },
    {
      "cell_type": "markdown",
      "metadata": {
        "id": "jJvq2K93xAO5"
      },
      "source": [
        "### Test the distance between C and the diatonic chords\n",
        "\n",
        "Test if the model can capture that the diatonic chords are closer to the root.\n",
        "\n",
        "Do this only if the input corpus contains the unigrams. "
      ]
    },
    {
      "cell_type": "code",
      "metadata": {
        "id": "cH3TJxCfvoFm",
        "colab": {
          "base_uri": "https://localhost:8080/"
        },
        "outputId": "17ab341c-58f0-4383-f328-6c71b54bd6da"
      },
      "source": [
        "test_tokens = ['C',\n",
        "              'Dm',\n",
        "              'Em',\n",
        "              'F',\n",
        "              'G7',\n",
        "              'Am',\n",
        "              #'Bm7b5',\n",
        "              'F7',\n",
        "              'D7',\n",
        "              'A7',\n",
        "              'E7',\n",
        "              'B7',\n",
        "              'F#7',\n",
        "               'Cm',\n",
        "               'D']\n",
        "\n",
        "if 1 in ngrams_for_input:\n",
        "  ref = 'C'\n",
        "  for t in test_tokens:\n",
        "    print(f\"{model.wv.similarity(ref, t):.3f}: {ref} <-> {t}\")"
      ],
      "execution_count": 81,
      "outputs": [
        {
          "output_type": "stream",
          "name": "stdout",
          "text": [
            "1.000: C <-> C\n",
            "0.273: C <-> Dm\n",
            "0.454: C <-> Em\n",
            "0.360: C <-> F\n",
            "0.538: C <-> G7\n",
            "0.457: C <-> Am\n",
            "0.270: C <-> F7\n",
            "0.274: C <-> D7\n",
            "0.625: C <-> A7\n",
            "0.451: C <-> E7\n",
            "0.360: C <-> B7\n",
            "-0.058: C <-> F#7\n",
            "0.299: C <-> Cm\n",
            "0.180: C <-> D\n"
          ]
        }
      ]
    },
    {
      "cell_type": "code",
      "metadata": {
        "id": "IfIRoWL4kpcB"
      },
      "source": [
        "if 1 in ngrams_for_input:\n",
        "  model.wv.similar_by_word('C', topn=20)"
      ],
      "execution_count": 82,
      "outputs": []
    },
    {
      "cell_type": "markdown",
      "metadata": {
        "id": "ix4n9S3_xQzD"
      },
      "source": [
        "Plot the generated word vectors in 2D space"
      ]
    },
    {
      "cell_type": "code",
      "metadata": {
        "id": "JjT_uNh0wthj",
        "colab": {
          "base_uri": "https://localhost:8080/",
          "height": 711
        },
        "outputId": "dfa3f3c5-2588-443c-c2bc-c64da8d06ac2"
      },
      "source": [
        "from sklearn.manifold import TSNE\n",
        "\n",
        "# input data: vectors for all tokens\n",
        "weights = model.wv.vectors\n",
        "\n",
        "# only do this when the vocabulary is not too big....\n",
        "if len(weights) < 100:\n",
        "\n",
        "  # do T-SNE\n",
        "  tsne = TSNE(n_components=2, \n",
        "              random_state=42,\n",
        "              perplexity=30,\n",
        "              learning_rate='auto',\n",
        "              init='pca',\n",
        "              n_iter=2000\n",
        "              )\n",
        "  T = tsne.fit_transform(weights)\n",
        "\n",
        "  # plot\n",
        "  projected = pd.DataFrame(T)\n",
        "\n",
        "  fig = px.scatter(\n",
        "      projected, \n",
        "      x=0, y=1,\n",
        "      #color='mode',\n",
        "      text=model.wv.index_to_key,\n",
        "      width=800, height=600,\n",
        "      title=\"T-SNE applied to Chord Vectors for Tunes in Cmaj/Amin\"\n",
        "  )\n",
        "  fig.update_traces(textposition='top center')\n",
        "  fig.update_traces(textfont_size=12, selector=dict(type='scatter'))\n",
        "  fig.show()"
      ],
      "execution_count": 83,
      "outputs": [
        {
          "output_type": "stream",
          "name": "stderr",
          "text": [
            "/usr/local/lib/python3.7/dist-packages/sklearn/manifold/_t_sne.py:986: FutureWarning:\n",
            "\n",
            "The PCA initialization in TSNE will change to have the standard deviation of PC1 equal to 1e-4 in 1.2. This will ensure better convergence.\n",
            "\n"
          ]
        },
        {
          "output_type": "display_data",
          "data": {
            "text/html": [
              "<html>\n",
              "<head><meta charset=\"utf-8\" /></head>\n",
              "<body>\n",
              "    <div>\n",
              "            <script src=\"https://cdnjs.cloudflare.com/ajax/libs/mathjax/2.7.5/MathJax.js?config=TeX-AMS-MML_SVG\"></script><script type=\"text/javascript\">if (window.MathJax) {MathJax.Hub.Config({SVG: {font: \"STIX-Web\"}});}</script>\n",
              "                <script type=\"text/javascript\">window.PlotlyConfig = {MathJaxConfig: 'local'};</script>\n",
              "        <script src=\"https://cdn.plot.ly/plotly-latest.min.js\"></script>    \n",
              "            <div id=\"074374ae-acbf-47e4-9c2a-21163703d747\" class=\"plotly-graph-div\" style=\"height:600px; width:800px;\"></div>\n",
              "            <script type=\"text/javascript\">\n",
              "                \n",
              "                    window.PLOTLYENV=window.PLOTLYENV || {};\n",
              "                    \n",
              "                if (document.getElementById(\"074374ae-acbf-47e4-9c2a-21163703d747\")) {\n",
              "                    Plotly.newPlot(\n",
              "                        '074374ae-acbf-47e4-9c2a-21163703d747',\n",
              "                        [{\"hoverlabel\": {\"namelength\": 0}, \"hovertemplate\": \"0=%{x}<br>1=%{y}<br>text=%{text}\", \"legendgroup\": \"\", \"marker\": {\"color\": \"#636efa\", \"symbol\": \"circle\"}, \"mode\": \"markers+text\", \"name\": \"\", \"showlegend\": false, \"text\": [\"C\", \"G7\", \"Dm\", \"Am\", \"A7\", \"D7\", \"F\", \"C7\", \"E7\", \"Em\", \"F7\", \"Bb7\", \"Fm\", \"B7\", \"Gm\", \"G#7\", \"Bm7b5\", \"G\", \"Ebdim\", \"Eb7\", \"Cm\", \"F#m7b5\", \"G#\", \"Bm\", \"C#7\", \"Bb\", \"Em7b5\", \"E\", \"F#m\", \"F#7\", \"Eb\", \"F#dim\", \"C#dim\", \"Ebm\", \"C#\", \"A\", \"Dm7b5\", \"Bbm\", \"D\", \"C#m\", \"Cdim\", \"B\", \"G#m\", \"F#\", \"G#dim\", \"Am7b5\", \"Fdim\", \"Gdim\", \"G7(+b5)\", \"C#m7b5\", \"E7(+b5)\", \"Adim\", \"F#7(+b5)\", \"Gm7b5\", \"A7(+b5)\", \"B7(+b5)\", \"Edim\", \"G#m7b5\", \"C#7(+b5)\", \"Bb7(+b5)\", \"Fm7b5\", \"D7(+b5)\", \"Bbdim\", \"Bbm7b5\", \"C7(+b5)\", \"Bdim\", \"Ddim\", \"Ebm7b5\", \"G#7(+b5)\", \"F7(+b5)\", \"Cm7b5\", \"Eb7(+b5)\"], \"textfont\": {\"size\": 12}, \"textposition\": \"top center\", \"type\": \"scatter\", \"x\": [-2.7858381271362305, -2.4279937744140625, -2.296302556991577, -2.7304654121398926, -2.8623526096343994, -2.709289312362671, -2.5025596618652344, -2.5656497478485107, -2.421788454055786, -2.471850633621216, -1.9621299505233765, -1.7814260721206665, -2.158020496368408, -3.17824387550354, -2.0695290565490723, -2.814568281173706, -2.1054437160491943, -3.211789846420288, -2.724456310272217, -2.845322608947754, -1.4079310894012451, -2.9331278800964355, -1.0521109104156494, -3.2653677463531494, -1.7035309076309204, -1.5240613222122192, -1.9150025844573975, -1.7419004440307617, -3.9813501834869385, -3.538616180419922, -1.177573800086975, -2.1418328285217285, -3.193782091140747, -0.4617489278316498, -0.8780369162559509, -2.856562614440918, -2.2444605827331543, -0.30879655480384827, -3.3704562187194824, -1.9290127754211426, -3.7372124195098877, 0.5488970279693604, 0.24246160686016083, 0.2835298478603363, -2.254167079925537, -0.41627925634384155, -2.24658465385437, -4.249593734741211, 0.6979189515113831, -4.253422737121582, 0.29402732849121094, -1.8507448434829712, -3.4229795932769775, -0.6814905405044556, 0.09975749254226685, -0.18407607078552246, -0.9934695959091187, -4.787347793579102, -0.4058191478252411, -0.1187986508011818, 0.6518558859825134, 0.3884030282497406, -1.533079743385315, 1.0033152103424072, -0.7526407837867737, -1.3273675441741943, -3.746087074279785, -0.9329259991645813, -0.395370215177536, -0.36652305722236633, 0.03869464993476868, -0.2082756608724594], \"xaxis\": \"x\", \"y\": [-4.1182541847229, -4.19528865814209, -4.7611002922058105, -4.559464454650879, -4.009227275848389, -5.234905242919922, -4.167985916137695, -4.861484527587891, -4.484681606292725, -5.156835079193115, -4.3083953857421875, -5.137180805206299, -4.537412643432617, -4.628530025482178, -4.612234592437744, -5.579881191253662, -3.8006410598754883, -4.990165710449219, -4.11392879486084, -2.731055974960327, -4.623826503753662, -5.9262847900390625, -4.7075514793396, -5.014996528625488, -3.414302349090576, -4.8431196212768555, -5.431804180145264, -6.254642486572266, -5.029452800750732, -6.9029154777526855, -3.5562939643859863, -5.407454013824463, -3.781379222869873, -3.5533480644226074, -4.192349910736084, -3.1450388431549072, -5.2783308029174805, -4.647511005401611, -5.688729286193848, -2.7247729301452637, -3.3945577144622803, -4.240869522094727, -3.7931621074676514, -3.843891143798828, -6.559715747833252, -6.06388521194458, -7.4478631019592285, -4.374701499938965, -7.441490650177002, -5.792609214782715, -7.433377265930176, -7.236717700958252, -7.313538551330566, -4.268433570861816, -7.714845180511475, -8.1025390625, -2.4052951335906982, -5.582827091217041, -7.951294422149658, -6.550074577331543, -5.671060562133789, -6.538002014160156, -6.766880035400391, -4.896418571472168, -6.876861572265625, -6.105958461761475, -4.142940998077393, -7.548433303833008, -6.7761359214782715, -6.80248498916626, -5.786435604095459, -5.387680530548096], \"yaxis\": \"y\"}],\n",
              "                        {\"height\": 600, \"legend\": {\"tracegroupgap\": 0}, \"template\": {\"data\": {\"bar\": [{\"error_x\": {\"color\": \"#2a3f5f\"}, \"error_y\": {\"color\": \"#2a3f5f\"}, \"marker\": {\"line\": {\"color\": \"#E5ECF6\", \"width\": 0.5}}, \"type\": \"bar\"}], \"barpolar\": [{\"marker\": {\"line\": {\"color\": \"#E5ECF6\", \"width\": 0.5}}, \"type\": \"barpolar\"}], \"carpet\": [{\"aaxis\": {\"endlinecolor\": \"#2a3f5f\", \"gridcolor\": \"white\", \"linecolor\": \"white\", \"minorgridcolor\": \"white\", \"startlinecolor\": \"#2a3f5f\"}, \"baxis\": {\"endlinecolor\": \"#2a3f5f\", \"gridcolor\": \"white\", \"linecolor\": \"white\", \"minorgridcolor\": \"white\", \"startlinecolor\": \"#2a3f5f\"}, \"type\": \"carpet\"}], \"choropleth\": [{\"colorbar\": {\"outlinewidth\": 0, \"ticks\": \"\"}, \"type\": \"choropleth\"}], \"contour\": [{\"colorbar\": {\"outlinewidth\": 0, \"ticks\": \"\"}, \"colorscale\": [[0.0, \"#0d0887\"], [0.1111111111111111, \"#46039f\"], [0.2222222222222222, \"#7201a8\"], [0.3333333333333333, \"#9c179e\"], [0.4444444444444444, \"#bd3786\"], [0.5555555555555556, \"#d8576b\"], [0.6666666666666666, \"#ed7953\"], [0.7777777777777778, \"#fb9f3a\"], [0.8888888888888888, \"#fdca26\"], [1.0, \"#f0f921\"]], \"type\": \"contour\"}], \"contourcarpet\": [{\"colorbar\": {\"outlinewidth\": 0, \"ticks\": \"\"}, \"type\": \"contourcarpet\"}], \"heatmap\": [{\"colorbar\": {\"outlinewidth\": 0, \"ticks\": \"\"}, \"colorscale\": [[0.0, \"#0d0887\"], [0.1111111111111111, \"#46039f\"], [0.2222222222222222, \"#7201a8\"], [0.3333333333333333, \"#9c179e\"], [0.4444444444444444, \"#bd3786\"], [0.5555555555555556, \"#d8576b\"], [0.6666666666666666, \"#ed7953\"], [0.7777777777777778, \"#fb9f3a\"], [0.8888888888888888, \"#fdca26\"], [1.0, \"#f0f921\"]], \"type\": \"heatmap\"}], \"heatmapgl\": [{\"colorbar\": {\"outlinewidth\": 0, \"ticks\": \"\"}, \"colorscale\": [[0.0, \"#0d0887\"], [0.1111111111111111, \"#46039f\"], [0.2222222222222222, \"#7201a8\"], [0.3333333333333333, \"#9c179e\"], [0.4444444444444444, \"#bd3786\"], [0.5555555555555556, \"#d8576b\"], [0.6666666666666666, \"#ed7953\"], [0.7777777777777778, \"#fb9f3a\"], [0.8888888888888888, \"#fdca26\"], [1.0, \"#f0f921\"]], \"type\": \"heatmapgl\"}], \"histogram\": [{\"marker\": {\"colorbar\": {\"outlinewidth\": 0, \"ticks\": \"\"}}, \"type\": \"histogram\"}], \"histogram2d\": [{\"colorbar\": {\"outlinewidth\": 0, \"ticks\": \"\"}, \"colorscale\": [[0.0, \"#0d0887\"], [0.1111111111111111, \"#46039f\"], [0.2222222222222222, \"#7201a8\"], [0.3333333333333333, \"#9c179e\"], [0.4444444444444444, \"#bd3786\"], [0.5555555555555556, \"#d8576b\"], [0.6666666666666666, \"#ed7953\"], [0.7777777777777778, \"#fb9f3a\"], [0.8888888888888888, \"#fdca26\"], [1.0, \"#f0f921\"]], \"type\": \"histogram2d\"}], \"histogram2dcontour\": [{\"colorbar\": {\"outlinewidth\": 0, \"ticks\": \"\"}, \"colorscale\": [[0.0, \"#0d0887\"], [0.1111111111111111, \"#46039f\"], [0.2222222222222222, \"#7201a8\"], [0.3333333333333333, \"#9c179e\"], [0.4444444444444444, \"#bd3786\"], [0.5555555555555556, \"#d8576b\"], [0.6666666666666666, \"#ed7953\"], [0.7777777777777778, \"#fb9f3a\"], [0.8888888888888888, \"#fdca26\"], [1.0, \"#f0f921\"]], \"type\": \"histogram2dcontour\"}], \"mesh3d\": [{\"colorbar\": {\"outlinewidth\": 0, \"ticks\": \"\"}, \"type\": \"mesh3d\"}], \"parcoords\": [{\"line\": {\"colorbar\": {\"outlinewidth\": 0, \"ticks\": \"\"}}, \"type\": \"parcoords\"}], \"pie\": [{\"automargin\": true, \"type\": \"pie\"}], \"scatter\": [{\"marker\": {\"colorbar\": {\"outlinewidth\": 0, \"ticks\": \"\"}}, \"type\": \"scatter\"}], \"scatter3d\": [{\"line\": {\"colorbar\": {\"outlinewidth\": 0, \"ticks\": \"\"}}, \"marker\": {\"colorbar\": {\"outlinewidth\": 0, \"ticks\": \"\"}}, \"type\": \"scatter3d\"}], \"scattercarpet\": [{\"marker\": {\"colorbar\": {\"outlinewidth\": 0, \"ticks\": \"\"}}, \"type\": \"scattercarpet\"}], \"scattergeo\": [{\"marker\": {\"colorbar\": {\"outlinewidth\": 0, \"ticks\": \"\"}}, \"type\": \"scattergeo\"}], \"scattergl\": [{\"marker\": {\"colorbar\": {\"outlinewidth\": 0, \"ticks\": \"\"}}, \"type\": \"scattergl\"}], \"scattermapbox\": [{\"marker\": {\"colorbar\": {\"outlinewidth\": 0, \"ticks\": \"\"}}, \"type\": \"scattermapbox\"}], \"scatterpolar\": [{\"marker\": {\"colorbar\": {\"outlinewidth\": 0, \"ticks\": \"\"}}, \"type\": \"scatterpolar\"}], \"scatterpolargl\": [{\"marker\": {\"colorbar\": {\"outlinewidth\": 0, \"ticks\": \"\"}}, \"type\": \"scatterpolargl\"}], \"scatterternary\": [{\"marker\": {\"colorbar\": {\"outlinewidth\": 0, \"ticks\": \"\"}}, \"type\": \"scatterternary\"}], \"surface\": [{\"colorbar\": {\"outlinewidth\": 0, \"ticks\": \"\"}, \"colorscale\": [[0.0, \"#0d0887\"], [0.1111111111111111, \"#46039f\"], [0.2222222222222222, \"#7201a8\"], [0.3333333333333333, \"#9c179e\"], [0.4444444444444444, \"#bd3786\"], [0.5555555555555556, \"#d8576b\"], [0.6666666666666666, \"#ed7953\"], [0.7777777777777778, \"#fb9f3a\"], [0.8888888888888888, \"#fdca26\"], [1.0, \"#f0f921\"]], \"type\": \"surface\"}], \"table\": [{\"cells\": {\"fill\": {\"color\": \"#EBF0F8\"}, \"line\": {\"color\": \"white\"}}, \"header\": {\"fill\": {\"color\": \"#C8D4E3\"}, \"line\": {\"color\": \"white\"}}, \"type\": \"table\"}]}, \"layout\": {\"annotationdefaults\": {\"arrowcolor\": \"#2a3f5f\", \"arrowhead\": 0, \"arrowwidth\": 1}, \"coloraxis\": {\"colorbar\": {\"outlinewidth\": 0, \"ticks\": \"\"}}, \"colorscale\": {\"diverging\": [[0, \"#8e0152\"], [0.1, \"#c51b7d\"], [0.2, \"#de77ae\"], [0.3, \"#f1b6da\"], [0.4, \"#fde0ef\"], [0.5, \"#f7f7f7\"], [0.6, \"#e6f5d0\"], [0.7, \"#b8e186\"], [0.8, \"#7fbc41\"], [0.9, \"#4d9221\"], [1, \"#276419\"]], \"sequential\": [[0.0, \"#0d0887\"], [0.1111111111111111, \"#46039f\"], [0.2222222222222222, \"#7201a8\"], [0.3333333333333333, \"#9c179e\"], [0.4444444444444444, \"#bd3786\"], [0.5555555555555556, \"#d8576b\"], [0.6666666666666666, \"#ed7953\"], [0.7777777777777778, \"#fb9f3a\"], [0.8888888888888888, \"#fdca26\"], [1.0, \"#f0f921\"]], \"sequentialminus\": [[0.0, \"#0d0887\"], [0.1111111111111111, \"#46039f\"], [0.2222222222222222, \"#7201a8\"], [0.3333333333333333, \"#9c179e\"], [0.4444444444444444, \"#bd3786\"], [0.5555555555555556, \"#d8576b\"], [0.6666666666666666, \"#ed7953\"], [0.7777777777777778, \"#fb9f3a\"], [0.8888888888888888, \"#fdca26\"], [1.0, \"#f0f921\"]]}, \"colorway\": [\"#636efa\", \"#EF553B\", \"#00cc96\", \"#ab63fa\", \"#FFA15A\", \"#19d3f3\", \"#FF6692\", \"#B6E880\", \"#FF97FF\", \"#FECB52\"], \"font\": {\"color\": \"#2a3f5f\"}, \"geo\": {\"bgcolor\": \"white\", \"lakecolor\": \"white\", \"landcolor\": \"#E5ECF6\", \"showlakes\": true, \"showland\": true, \"subunitcolor\": \"white\"}, \"hoverlabel\": {\"align\": \"left\"}, \"hovermode\": \"closest\", \"mapbox\": {\"style\": \"light\"}, \"paper_bgcolor\": \"white\", \"plot_bgcolor\": \"#E5ECF6\", \"polar\": {\"angularaxis\": {\"gridcolor\": \"white\", \"linecolor\": \"white\", \"ticks\": \"\"}, \"bgcolor\": \"#E5ECF6\", \"radialaxis\": {\"gridcolor\": \"white\", \"linecolor\": \"white\", \"ticks\": \"\"}}, \"scene\": {\"xaxis\": {\"backgroundcolor\": \"#E5ECF6\", \"gridcolor\": \"white\", \"gridwidth\": 2, \"linecolor\": \"white\", \"showbackground\": true, \"ticks\": \"\", \"zerolinecolor\": \"white\"}, \"yaxis\": {\"backgroundcolor\": \"#E5ECF6\", \"gridcolor\": \"white\", \"gridwidth\": 2, \"linecolor\": \"white\", \"showbackground\": true, \"ticks\": \"\", \"zerolinecolor\": \"white\"}, \"zaxis\": {\"backgroundcolor\": \"#E5ECF6\", \"gridcolor\": \"white\", \"gridwidth\": 2, \"linecolor\": \"white\", \"showbackground\": true, \"ticks\": \"\", \"zerolinecolor\": \"white\"}}, \"shapedefaults\": {\"line\": {\"color\": \"#2a3f5f\"}}, \"ternary\": {\"aaxis\": {\"gridcolor\": \"white\", \"linecolor\": \"white\", \"ticks\": \"\"}, \"baxis\": {\"gridcolor\": \"white\", \"linecolor\": \"white\", \"ticks\": \"\"}, \"bgcolor\": \"#E5ECF6\", \"caxis\": {\"gridcolor\": \"white\", \"linecolor\": \"white\", \"ticks\": \"\"}}, \"title\": {\"x\": 0.05}, \"xaxis\": {\"automargin\": true, \"gridcolor\": \"white\", \"linecolor\": \"white\", \"ticks\": \"\", \"title\": {\"standoff\": 15}, \"zerolinecolor\": \"white\", \"zerolinewidth\": 2}, \"yaxis\": {\"automargin\": true, \"gridcolor\": \"white\", \"linecolor\": \"white\", \"ticks\": \"\", \"title\": {\"standoff\": 15}, \"zerolinecolor\": \"white\", \"zerolinewidth\": 2}}}, \"title\": {\"text\": \"T-SNE applied to Chord Vectors for Tunes in Cmaj/Amin\"}, \"width\": 800, \"xaxis\": {\"anchor\": \"y\", \"domain\": [0.0, 1.0], \"title\": {\"text\": \"0\"}}, \"yaxis\": {\"anchor\": \"x\", \"domain\": [0.0, 1.0], \"title\": {\"text\": \"1\"}}},\n",
              "                        {\"responsive\": true}\n",
              "                    ).then(function(){\n",
              "                            \n",
              "var gd = document.getElementById('074374ae-acbf-47e4-9c2a-21163703d747');\n",
              "var x = new MutationObserver(function (mutations, observer) {{\n",
              "        var display = window.getComputedStyle(gd).display;\n",
              "        if (!display || display === 'none') {{\n",
              "            console.log([gd, 'removed!']);\n",
              "            Plotly.purge(gd);\n",
              "            observer.disconnect();\n",
              "        }}\n",
              "}});\n",
              "\n",
              "// Listen for the removal of the full notebook cells\n",
              "var notebookContainer = gd.closest('#notebook-container');\n",
              "if (notebookContainer) {{\n",
              "    x.observe(notebookContainer, {childList: true});\n",
              "}}\n",
              "\n",
              "// Listen for the clearing of the current output cell\n",
              "var outputEl = gd.closest('.output');\n",
              "if (outputEl) {{\n",
              "    x.observe(outputEl, {childList: true});\n",
              "}}\n",
              "\n",
              "                        })\n",
              "                };\n",
              "                \n",
              "            </script>\n",
              "        </div>\n",
              "</body>\n",
              "</html>"
            ]
          },
          "metadata": {}
        }
      ]
    },
    {
      "cell_type": "markdown",
      "metadata": {
        "id": "ajqb904KDwNV"
      },
      "source": [
        "## Section Similarity\n"
      ]
    },
    {
      "cell_type": "markdown",
      "metadata": {
        "id": "HS_k1g6ujjKP"
      },
      "source": [
        "### Single Tunes"
      ]
    },
    {
      "cell_type": "code",
      "metadata": {
        "id": "mPnEPL_k4TZn"
      },
      "source": [
        "def get_section_scores_doc2vec(tunes):\n",
        "\n",
        "    df_sim = pd.DataFrame(columns=['reference_title',\n",
        "                                  'similar_title',\n",
        "                                  'ref_section', \n",
        "                                  'similar_section', \n",
        "                                  'score', \n",
        "                                  ])\n",
        "\n",
        "    for tune in tunes:\n",
        "      print()\n",
        "      print(\"-\"*50)\n",
        "      for s1 in title_to_sectionid[tune]:\n",
        "      \n",
        "          # sections are tagged with the numeric sectionid and can be used for querying\n",
        "          sims = model.dv.similar_by_key(s1, topn=40)\n",
        "          \n",
        "          print(s1, sectionid_to_section[s1])\n",
        "          n = 0\n",
        "          for s2, s2_score in sims:\n",
        "              if type(s2) == int:  # only consider similarities to sectionids; tuneids are strings\n",
        "                  # don't count self-similarity between sections of the same tune\n",
        "                  if s2 not in title_to_sectionid[tune]:\n",
        "                      n += 1\n",
        "                  \n",
        "                      # print(f\"\\t{s2_score:.3f} {sectionid_to_section[s2]}\")\n",
        "\n",
        "                      df_sim.loc[len(df_sim)] = [tune,\n",
        "                                      sectionid_to_title[s2],\n",
        "                                      sectionid_to_section[s1], \n",
        "                                      sectionid_to_section[s2], \n",
        "                                      s2_score, \n",
        "                                      ]\n",
        "    return df_sim"
      ],
      "execution_count": 84,
      "outputs": []
    },
    {
      "cell_type": "code",
      "metadata": {
        "colab": {
          "base_uri": "https://localhost:8080/"
        },
        "id": "i_d92il649O9",
        "outputId": "73509aa4-bb47-44c9-db2f-0c27fe6ebfa6"
      },
      "source": [
        "df_section_sim = get_section_scores_doc2vec(tunes_eval_list)\n",
        "df_word2vec = df_section_sim[:]"
      ],
      "execution_count": 85,
      "outputs": [
        {
          "output_type": "stream",
          "name": "stdout",
          "text": [
            "\n",
            "--------------------------------------------------\n",
            "125 After You've Gone, section1 (A)\n",
            "126 After You've Gone, section2 (B)\n",
            "127 After You've Gone, section3 (A)\n",
            "128 After You've Gone, section4 (C)\n",
            "\n",
            "--------------------------------------------------\n",
            "188 All God's Chillun Got Rhythm, section1 (A)\n",
            "189 All God's Chillun Got Rhythm, section2 (B)\n",
            "190 All God's Chillun Got Rhythm, section3 (A)\n",
            "191 All God's Chillun Got Rhythm, section4 (C)\n",
            "\n",
            "--------------------------------------------------\n",
            "198 All Of Me, section1 (A)\n",
            "199 All Of Me, section2 (B)\n",
            "200 All Of Me, section3 (A)\n",
            "201 All Of Me, section4 (C)\n",
            "\n",
            "--------------------------------------------------\n",
            "474 Blood Count, section1 (A)\n",
            "475 Blood Count, section2 (A)\n",
            "476 Blood Count, section3 (B)\n",
            "477 Blood Count, section4 (A)\n",
            "478 Blood Count, section5 (C)\n",
            "\n",
            "--------------------------------------------------\n",
            "496 Blue Moon, section1 (A)\n",
            "497 Blue Moon, section2 (A)\n",
            "498 Blue Moon, section3 (B)\n",
            "499 Blue Moon, section4 (A)\n",
            "\n",
            "--------------------------------------------------\n",
            "626 But Beautiful, section1 (A)\n",
            "627 But Beautiful, section2 (B)\n",
            "628 But Beautiful, section3 (A)\n",
            "629 But Beautiful, section4 (C)\n",
            "\n",
            "--------------------------------------------------\n",
            "653 Bye Bye Blackbird, section1 (A)\n",
            "654 Bye Bye Blackbird, section2 (B)\n",
            "4559 Bye Bye Blackbird, section1 (A)\n",
            "\n",
            "--------------------------------------------------\n",
            "676 Call Me Irresponsible, section1 (A)\n",
            "677 Call Me Irresponsible, section2 (B)\n",
            "678 Call Me Irresponsible, section3 (A)\n",
            "679 Call Me Irresponsible, section4 (B)\n",
            "\n",
            "--------------------------------------------------\n",
            "826 Corcovado, section1 (A)\n",
            "827 Corcovado, section2 (B)\n",
            "828 Corcovado, section3 (A)\n",
            "829 Corcovado, section4 (C)\n",
            "\n",
            "--------------------------------------------------\n",
            "997 Dinah, section1 (A)\n",
            "998 Dinah, section2 (A)\n",
            "999 Dinah, section3 (B)\n",
            "1000 Dinah, section4 (A)\n",
            "\n",
            "--------------------------------------------------\n",
            "1125 East Of The Sun, section1 (A)\n",
            "1126 East Of The Sun, section2 (B)\n",
            "1127 East Of The Sun, section3 (A)\n",
            "1128 East Of The Sun, section4 (C)\n",
            "\n",
            "--------------------------------------------------\n",
            "1287 Footprints, section0 (nan)\n",
            "\n",
            "--------------------------------------------------\n",
            "1379 Giant Steps, section0 (nan)\n",
            "\n",
            "--------------------------------------------------\n",
            "1538 Honeysuckle Rose, section1 (A)\n",
            "1539 Honeysuckle Rose, section2 (A)\n",
            "1540 Honeysuckle Rose, section3 (B)\n",
            "1541 Honeysuckle Rose, section4 (A)\n",
            "4781 Honeysuckle Rose, section1 (A)\n",
            "4782 Honeysuckle Rose, section2 (A)\n",
            "4783 Honeysuckle Rose, section3 (B)\n",
            "4784 Honeysuckle Rose, section4 (A)\n",
            "\n",
            "--------------------------------------------------\n",
            "1647 I Got Rhythm, section1 (A)\n",
            "1648 I Got Rhythm, section2 (A)\n",
            "1649 I Got Rhythm, section3 (B)\n",
            "1650 I Got Rhythm, section4 (A)\n",
            "4809 I Got Rhythm, section1 (A)\n",
            "4810 I Got Rhythm, section2 (A)\n",
            "4811 I Got Rhythm, section3 (B)\n",
            "4812 I Got Rhythm, section4 (A)\n",
            "\n",
            "--------------------------------------------------\n",
            "2670 Misty, section1 (A)\n",
            "2671 Misty, section2 (A)\n",
            "2672 Misty, section3 (B)\n",
            "2673 Misty, section4 (A)\n",
            "\n",
            "--------------------------------------------------\n",
            "2857 Naima, section1 (A)\n",
            "2858 Naima, section2 (A)\n",
            "2859 Naima, section3 (B)\n",
            "2860 Naima, section4 (A)\n",
            "\n",
            "--------------------------------------------------\n",
            "5044 Old Fashioned Love, section0 (nan)\n",
            "\n",
            "--------------------------------------------------\n",
            "3142 Perdido, section1 (A)\n",
            "3143 Perdido, section2 (A)\n",
            "3144 Perdido, section3 (B)\n",
            "3145 Perdido, section4 (A)\n",
            "\n",
            "--------------------------------------------------\n",
            "3276 Rockin' Chair, section1 (A)\n",
            "3277 Rockin' Chair, section2 (B)\n",
            "3278 Rockin' Chair, section3 (A)\n",
            "5110 Rockin' Chair, section1 (A)\n",
            "5111 Rockin' Chair, section2 (B)\n",
            "5112 Rockin' Chair, section3 (A)\n",
            "\n",
            "--------------------------------------------------\n",
            "3578 Sophisticated Lady, section1 (A)\n",
            "3579 Sophisticated Lady, section2 (A)\n",
            "3580 Sophisticated Lady, section3 (B)\n",
            "3581 Sophisticated Lady, section4 (A)\n",
            "\n",
            "--------------------------------------------------\n",
            "3746 Sweet Sue, Just You, section1 (A)\n",
            "3747 Sweet Sue, Just You, section2 (A)\n",
            "3748 Sweet Sue, Just You, section3 (B)\n",
            "3749 Sweet Sue, Just You, section4 (A)\n",
            "\n",
            "--------------------------------------------------\n",
            "3860 These Foolish Things, section1 (A)\n",
            "3861 These Foolish Things, section2 (A)\n",
            "3862 These Foolish Things, section3 (B)\n",
            "3863 These Foolish Things, section4 (A)\n",
            "\n",
            "--------------------------------------------------\n",
            "4146 We'll Be Together Again, section1 (A)\n",
            "4147 We'll Be Together Again, section2 (A)\n",
            "4148 We'll Be Together Again, section3 (B)\n",
            "4149 We'll Be Together Again, section4 (A)\n"
          ]
        }
      ]
    },
    {
      "cell_type": "code",
      "metadata": {
        "colab": {
          "base_uri": "https://localhost:8080/",
          "height": 542
        },
        "id": "n4dv7VVe5NT4",
        "outputId": "9933e493-cd07-4ed6-b5cb-552a574fa1e4"
      },
      "source": [
        "import plotly.express as px\n",
        "fig = px.histogram(df_section_sim, x=\"score\", nbins=50, title='doc2vec sections')\n",
        "fig.show()"
      ],
      "execution_count": 86,
      "outputs": [
        {
          "output_type": "display_data",
          "data": {
            "text/html": [
              "<html>\n",
              "<head><meta charset=\"utf-8\" /></head>\n",
              "<body>\n",
              "    <div>\n",
              "            <script src=\"https://cdnjs.cloudflare.com/ajax/libs/mathjax/2.7.5/MathJax.js?config=TeX-AMS-MML_SVG\"></script><script type=\"text/javascript\">if (window.MathJax) {MathJax.Hub.Config({SVG: {font: \"STIX-Web\"}});}</script>\n",
              "                <script type=\"text/javascript\">window.PlotlyConfig = {MathJaxConfig: 'local'};</script>\n",
              "        <script src=\"https://cdn.plot.ly/plotly-latest.min.js\"></script>    \n",
              "            <div id=\"2de7c5c7-0df7-4c2b-8cb9-45d8f4a424dd\" class=\"plotly-graph-div\" style=\"height:525px; width:100%;\"></div>\n",
              "            <script type=\"text/javascript\">\n",
              "                \n",
              "                    window.PLOTLYENV=window.PLOTLYENV || {};\n",
              "                    \n",
              "                if (document.getElementById(\"2de7c5c7-0df7-4c2b-8cb9-45d8f4a424dd\")) {\n",
              "                    Plotly.newPlot(\n",
              "                        '2de7c5c7-0df7-4c2b-8cb9-45d8f4a424dd',\n",
              "                        [{\"alignmentgroup\": \"True\", \"bingroup\": \"x\", \"hoverlabel\": {\"namelength\": 0}, \"hovertemplate\": \"score=%{x}<br>count=%{y}\", \"legendgroup\": \"\", \"marker\": {\"color\": \"#636efa\"}, \"name\": \"\", \"nbinsx\": 50, \"offsetgroup\": \"\", \"orientation\": \"v\", \"showlegend\": false, \"type\": \"histogram\", \"x\": [0.8923802971839905, 0.8864068388938904, 0.8843657374382019, 0.8839211463928223, 0.8792133331298828, 0.8701172471046448, 0.8664640188217163, 0.8655891418457031, 0.8594381809234619, 0.8558628559112549, 0.8540557026863098, 0.8535512089729309, 0.8486534953117371, 0.8476302623748779, 0.8470004796981812, 0.8408821821212769, 0.837885320186615, 0.835737407207489, 0.8349077105522156, 0.8305124640464783, 0.828624427318573, 0.8278309106826782, 0.8264294862747192, 0.8233455419540405, 0.8195375204086304, 0.818717360496521, 0.8176226615905762, 0.8123714923858643, 0.809588611125946, 0.8089697360992432, 0.808853268623352, 0.9304682612419128, 0.8977860808372498, 0.8792547583580017, 0.8789867758750916, 0.8773285150527954, 0.8623483777046204, 0.8516190052032471, 0.8433716297149658, 0.8407738208770752, 0.8383519053459167, 0.8312134146690369, 0.8299667239189148, 0.8286137580871582, 0.8284040689468384, 0.8252838253974915, 0.8183660507202148, 0.8172122240066528, 0.8154919743537903, 0.8145385980606079, 0.8143863677978516, 0.8133065104484558, 0.8112867474555969, 0.8107581734657288, 0.8090943098068237, 0.8076430559158325, 0.8069689869880676, 0.8069061636924744, 0.8025880455970764, 0.7984210848808289, 0.7962583899497986, 0.7959981560707092, 0.7905538082122803, 0.7851560115814209, 0.7838054299354553, 0.8960342407226562, 0.8913062214851379, 0.8760234713554382, 0.8636970520019531, 0.8636311292648315, 0.8545593023300171, 0.8519799113273621, 0.8342334628105164, 0.831102728843689, 0.8265979290008545, 0.8246805667877197, 0.8207316398620605, 0.820194661617279, 0.8191021084785461, 0.8175851106643677, 0.8165628910064697, 0.8100804090499878, 0.7921768426895142, 0.7918313145637512, 0.7898011207580566, 0.7890264391899109, 0.7889124751091003, 0.7879244685173035, 0.7835118174552917, 0.7832680344581604, 0.7829352021217346, 0.7813653349876404, 0.7801174521446228, 0.7788564562797546, 0.7745642066001892, 0.7719190716743469, 0.7687822580337524, 0.8121767640113831, 0.7002267837524414, 0.6941558122634888, 0.6939319968223572, 0.6902170777320862, 0.6801639199256897, 0.6757668256759644, 0.6737735867500305, 0.6727267503738403, 0.6676084995269775, 0.6654431223869324, 0.6579627990722656, 0.6551963686943054, 0.6463215947151184, 0.6444913148880005, 0.6349395513534546, 0.6342820525169373, 0.6290150284767151, 0.6288098692893982, 0.6286391019821167, 0.627682626247406, 0.6269455552101135, 0.6265904307365417, 0.6248295903205872, 0.6222675442695618, 0.6217882633209229, 0.6176209449768066, 0.616424560546875, 0.6147642135620117, 0.6139098405838013, 0.6116907000541687, 0.6102378964424133, 0.9303756356239319, 0.9212108254432678, 0.9162638783454895, 0.9152035713195801, 0.9079655408859253, 0.9066812992095947, 0.8941336870193481, 0.8925501108169556, 0.8876407146453857, 0.8843498826026917, 0.8772596120834351, 0.876829981803894, 0.8761844038963318, 0.8737465739250183, 0.8735398650169373, 0.871082603931427, 0.8710326552391052, 0.866624653339386, 0.8648692965507507, 0.8627275228500366, 0.8577349185943604, 0.8549765348434448, 0.8515325784683228, 0.8439784049987793, 0.8431504368782043, 0.8414174914360046, 0.8406752347946167, 0.9017736911773682, 0.8768425583839417, 0.8756078481674194, 0.8696150779724121, 0.8574922680854797, 0.8552431464195251, 0.8497357368469238, 0.8407512307167053, 0.8400964736938477, 0.8367912769317627, 0.830916702747345, 0.8284357786178589, 0.8277245163917542, 0.8184611201286316, 0.8180779218673706, 0.8155989646911621, 0.8146398663520813, 0.8145717978477478, 0.8139040470123291, 0.8133999109268188, 0.8122941255569458, 0.8119788765907288, 0.8112481832504272, 0.8104347586631775, 0.8070199489593506, 0.8049584627151489, 0.8019496202468872, 0.8019120693206787, 0.8013521432876587, 0.8003137707710266, 0.7987013459205627, 0.7942589521408081, 0.7918832302093506, 0.7914806604385376, 0.9360612034797668, 0.9197612404823303, 0.9143345952033997, 0.9120261073112488, 0.9112988710403442, 0.9104541540145874, 0.909383237361908, 0.9006615281105042, 0.8984973430633545, 0.892341136932373, 0.8916136026382446, 0.8908500671386719, 0.8901751637458801, 0.8822425007820129, 0.8811239004135132, 0.8808882236480713, 0.8804535269737244, 0.8802418112754822, 0.8794136047363281, 0.8706962466239929, 0.8686093688011169, 0.866934597492218, 0.8617852926254272, 0.8613678216934204, 0.8591232895851135, 0.857347846031189, 0.8541609048843384, 0.8537881970405579, 0.9087311029434204, 0.8940107822418213, 0.8867868185043335, 0.8845003247261047, 0.8752320408821106, 0.8664324283599854, 0.8655810952186584, 0.8385170698165894, 0.8314622640609741, 0.8300979733467102, 0.8249757289886475, 0.8249416351318359, 0.82198166847229, 0.8179633617401123, 0.8167500495910645, 0.8167012929916382, 0.8162870407104492, 0.8147266507148743, 0.814076840877533, 0.8126643300056458, 0.8095441460609436, 0.8090624809265137, 0.8071495294570923, 0.8069412112236023, 0.8063617944717407, 0.8040819764137268, 0.7997349500656128, 0.7989071011543274, 0.79726642370224, 0.7971068024635315, 0.9150737524032593, 0.8994901180267334, 0.8962195515632629, 0.8959621787071228, 0.8870395421981812, 0.8796030879020691, 0.8777158260345459, 0.8764978647232056, 0.8753801584243774, 0.8714829683303833, 0.8577451705932617, 0.8574888706207275, 0.8564020395278931, 0.8558302521705627, 0.8531337976455688, 0.8518049120903015, 0.8496795296669006, 0.8464307188987732, 0.8428235054016113, 0.8425067067146301, 0.8415058255195618, 0.835213303565979, 0.8309441804885864, 0.8279482126235962, 0.8277397155761719, 0.8274519443511963, 0.8209611773490906, 0.8181639313697815, 0.8119673728942871, 0.811095118522644, 0.9624931812286377, 0.9579988718032837, 0.9535049796104431, 0.9484376311302185, 0.9472565054893494, 0.9461188316345215, 0.9455913305282593, 0.9410074949264526, 0.9396077394485474, 0.9368904232978821, 0.9364637732505798, 0.9291182160377502, 0.92875736951828, 0.9232876896858215, 0.9209361672401428, 0.9171045422554016, 0.913267195224762, 0.910685122013092, 0.9040104150772095, 0.9004223942756653, 0.8975329399108887, 0.896664023399353, 0.8965833187103271, 0.8906059861183167, 0.8903413414955139, 0.8864027857780457, 0.8863806128501892, 0.8860606551170349, 0.8853532075881958, 0.8849591016769409, 0.8825715780258179, 0.8811889290809631, 0.8781487345695496, 0.8746634721755981, 0.8741414546966553, 0.8740996718406677, 0.8725152015686035, 0.8997243046760559, 0.8960805535316467, 0.8844156265258789, 0.8780876398086548, 0.8617928624153137, 0.857456624507904, 0.8489755392074585, 0.8424729704856873, 0.8380473852157593, 0.8300832509994507, 0.8271108269691467, 0.8263664841651917, 0.8180041313171387, 0.8165071606636047, 0.8136276602745056, 0.8115087747573853, 0.8113909959793091, 0.8113021850585938, 0.8111719489097595, 0.8106981515884399, 0.8094722628593445, 0.8053141832351685, 0.803624153137207, 0.799584686756134, 0.799476146697998, 0.7988303303718567, 0.7973760366439819, 0.9218395948410034, 0.9212437868118286, 0.9146685600280762, 0.8971580266952515, 0.8970807790756226, 0.8961387276649475, 0.8897294402122498, 0.8679159879684448, 0.8672058582305908, 0.8664352297782898, 0.862284243106842, 0.8590439558029175, 0.8586658835411072, 0.8584900498390198, 0.856259286403656, 0.8511832356452942, 0.8507128953933716, 0.8477641344070435, 0.8418124318122864, 0.840944766998291, 0.8314730525016785, 0.8300346732139587, 0.8293448686599731, 0.8251692056655884, 0.8242344260215759, 0.8234099745750427, 0.8169297575950623, 0.8166536688804626, 0.8142754435539246, 0.8137816190719604, 0.811307430267334, 0.8110811710357666, 0.8057334423065186, 0.8025544881820679, 0.7937037944793701, 0.7910863161087036, 0.7620509266853333, 0.7616806030273438, 0.7608537077903748, 0.7605330348014832, 0.756407618522644, 0.7479008436203003, 0.7466387748718262, 0.7457929253578186, 0.7358654737472534, 0.734905481338501, 0.7293195724487305, 0.726449191570282, 0.723237931728363, 0.719697892665863, 0.7193238139152527, 0.7184128165245056, 0.7128070592880249, 0.7122005224227905, 0.7045313715934753, 0.7028977870941162, 0.6921436786651611, 0.6913231015205383, 0.6906841993331909, 0.6877211332321167, 0.6873931884765625, 0.6868087649345398, 0.6863322854042053, 0.8715689778327942, 0.8437545299530029, 0.8366343975067139, 0.8311858177185059, 0.8309581279754639, 0.8294024467468262, 0.8287782073020935, 0.8272373080253601, 0.8262297511100769, 0.8102796077728271, 0.8090510964393616, 0.8056728839874268, 0.7954525947570801, 0.7859242558479309, 0.7857183814048767, 0.779003381729126, 0.7781232595443726, 0.7768863439559937, 0.775905966758728, 0.7697020769119263, 0.7685810923576355, 0.761760950088501, 0.7608264088630676, 0.7596033811569214, 0.7579423189163208, 0.7550374865531921, 0.7530827522277832, 0.7526668310165405, 0.7516547441482544, 0.7509040236473083, 0.7438935041427612, 0.7379477024078369, 0.7615151405334473, 0.74916672706604, 0.7473902702331543, 0.7456150650978088, 0.7453297972679138, 0.7384531497955322, 0.7383806705474854, 0.735548198223114, 0.7334309220314026, 0.73138827085495, 0.7268890738487244, 0.7188634872436523, 0.7164422273635864, 0.7060456871986389, 0.70517498254776, 0.7046231031417847, 0.7028030157089233, 0.7025408744812012, 0.6982605457305908, 0.6928861737251282, 0.6927240490913391, 0.6923868656158447, 0.6900402307510376, 0.6894174814224243, 0.6866657137870789, 0.6817126870155334, 0.6806668043136597, 0.6787251234054565, 0.6785358786582947, 0.9139835834503174, 0.8742877840995789, 0.8706408739089966, 0.8412543535232544, 0.839150071144104, 0.8385437726974487, 0.832728922367096, 0.8289264440536499, 0.8279345035552979, 0.8211037516593933, 0.8206762671470642, 0.8137322068214417, 0.7922742366790771, 0.7857726812362671, 0.7804452776908875, 0.7749172449111938, 0.7744705677032471, 0.7736117839813232, 0.7734197974205017, 0.7696508169174194, 0.7671372294425964, 0.7634243965148926, 0.7608228921890259, 0.7607390880584717, 0.7606605887413025, 0.7594319581985474, 0.7586522102355957, 0.7532978653907776, 0.7504730820655823, 0.7497552633285522, 0.6960331797599792, 0.6506206393241882, 0.6247598528862, 0.6228911280632019, 0.6144750118255615, 0.6044462323188782, 0.5951000452041626, 0.5874033570289612, 0.5854647755622864, 0.582485020160675, 0.5810735821723938, 0.5804928541183472, 0.5766381025314331, 0.5748515129089355, 0.5701438188552856, 0.5652985572814941, 0.5652768611907959, 0.563768208026886, 0.5536767244338989, 0.5521032810211182, 0.5449434518814087, 0.5404767394065857, 0.5380863547325134, 0.5342127680778503, 0.5328404903411865, 0.5283096432685852, 0.5279600024223328, 0.5269455909729004, 0.5265554785728455, 0.5252636075019836, 0.5225813984870911, 0.8349810838699341, 0.8004743456840515, 0.7932937741279602, 0.7810508608818054, 0.7740659713745117, 0.7724899053573608, 0.7713949680328369, 0.7685412764549255, 0.7684609293937683, 0.7678871750831604, 0.766261637210846, 0.7647779583930969, 0.7645924091339111, 0.7596834897994995, 0.7580360174179077, 0.7516506910324097, 0.7495774030685425, 0.7494374513626099, 0.7479698657989502, 0.7458283305168152, 0.7448698282241821, 0.7444724440574646, 0.7422064542770386, 0.7410090565681458, 0.7391923069953918, 0.7339344620704651, 0.8336874842643738, 0.8112307786941528, 0.778385579586029, 0.7695185542106628, 0.7687938213348389, 0.7657474279403687, 0.7639247179031372, 0.7619373202323914, 0.7604605555534363, 0.7592527270317078, 0.7580065131187439, 0.745271623134613, 0.7421757578849792, 0.7401143312454224, 0.736900269985199, 0.7361781001091003, 0.7284209728240967, 0.7281368374824524, 0.7224043607711792, 0.7185274958610535, 0.7181443572044373, 0.7179328799247742, 0.7172863483428955, 0.7166702747344971, 0.7129329442977905, 0.7121840119361877, 0.7095374464988708, 0.7091495394706726, 0.7038654088973999, 0.8440765738487244, 0.8308492302894592, 0.8247244358062744, 0.791379451751709, 0.7749013304710388, 0.7686753869056702, 0.7300363779067993, 0.7251884937286377, 0.7232884764671326, 0.7148971557617188, 0.7100923657417297, 0.7096607089042664, 0.7059933543205261, 0.7050513029098511, 0.7030042409896851, 0.7027256488800049, 0.7027138471603394, 0.7006534934043884, 0.6914845108985901, 0.6903770565986633, 0.6874887347221375, 0.6869643330574036, 0.6845337748527527, 0.6840726137161255, 0.6800841093063354, 0.6764900088310242, 0.6748785376548767, 0.6700039505958557, 0.6693403124809265, 0.6689801812171936, 0.6617063879966736, 0.6592587828636169, 0.653806746006012, 0.641053318977356, 0.6396117806434631, 0.6374130249023438, 0.8608331680297852, 0.8607321977615356, 0.8531549572944641, 0.8481810688972473, 0.8339284062385559, 0.814995527267456, 0.7985299825668335, 0.7984673380851746, 0.79340660572052, 0.7919051051139832, 0.7888911366462708, 0.7876987457275391, 0.783044695854187, 0.7787556052207947, 0.7771135568618774, 0.7757703065872192, 0.772687554359436, 0.7638559341430664, 0.7637331485748291, 0.758806049823761, 0.7478293776512146, 0.7477111220359802, 0.7469102144241333, 0.7463215589523315, 0.7462658286094666, 0.7441242933273315, 0.7396317720413208, 0.7369194030761719, 0.7359463572502136, 0.9596049785614014, 0.9534817337989807, 0.9208498001098633, 0.9185114502906799, 0.9148447513580322, 0.9146029949188232, 0.9134494066238403, 0.9132363200187683, 0.909757673740387, 0.9049034714698792, 0.9045544266700745, 0.8999854326248169, 0.8983560800552368, 0.892926812171936, 0.8915794491767883, 0.8874853253364563, 0.8843691349029541, 0.882986307144165, 0.8820390701293945, 0.8805863857269287, 0.8782904744148254, 0.873383104801178, 0.8721882104873657, 0.8687163591384888, 0.865602433681488, 0.8648456335067749, 0.8618153929710388, 0.8617377281188965, 0.8509897589683533, 0.8501842617988586, 0.8499753475189209, 0.8493781089782715, 0.8132379055023193, 0.7902683615684509, 0.7802597880363464, 0.7777212858200073, 0.7731502056121826, 0.7625882625579834, 0.7541202902793884, 0.754106342792511, 0.7540006637573242, 0.7526503205299377, 0.7512876391410828, 0.744950532913208, 0.7383019924163818, 0.7371701598167419, 0.7345651388168335, 0.7335283160209656, 0.7319889068603516, 0.7274113297462463, 0.7236054539680481, 0.7216050028800964, 0.7194029092788696, 0.7193504571914673, 0.7162771224975586, 0.7162619233131409, 0.7104803919792175, 0.7044901251792908, 0.7042412757873535, 0.7026612162590027, 0.7003641128540039, 0.6997208595275879, 0.6993552446365356, 0.6946178674697876, 0.6926639676094055, 0.6910011768341064, 0.689338207244873, 0.6818506121635437, 0.6802430152893066, 0.9217008352279663, 0.921281099319458, 0.9147936701774597, 0.9090337157249451, 0.8989419937133789, 0.8910081386566162, 0.8677650094032288, 0.8627477884292603, 0.8582845330238342, 0.8573232889175415, 0.8549559116363525, 0.8518403172492981, 0.8427459001541138, 0.8406139612197876, 0.8400971293449402, 0.8389135599136353, 0.8345715403556824, 0.8331688046455383, 0.8305714130401611, 0.828589916229248, 0.8283510804176331, 0.8262254595756531, 0.825168251991272, 0.8198882937431335, 0.8179211616516113, 0.8162526488304138, 0.8123303055763245, 0.812176525592804, 0.8177471160888672, 0.7936494946479797, 0.7851108908653259, 0.7718758583068848, 0.771863579750061, 0.7712937593460083, 0.7654468417167664, 0.7639173865318298, 0.7615883350372314, 0.7562150955200195, 0.7500963807106018, 0.7437945008277893, 0.7421250343322754, 0.7369102239608765, 0.7281028628349304, 0.7268681526184082, 0.7268648147583008, 0.7265037298202515, 0.7259585857391357, 0.7200727462768555, 0.7174996137619019, 0.7147269248962402, 0.7107765674591064, 0.7107252478599548, 0.7083004117012024, 0.6982370018959045, 0.6981514096260071, 0.697912871837616, 0.6972342729568481, 0.6921290755271912, 0.6908116340637207, 0.6848522424697876, 0.6845721006393433, 0.6824781894683838, 0.6822062730789185, 0.6819223165512085, 0.6808246374130249, 0.6806771755218506, 0.679768979549408, 0.6780903935432434, 0.9592510461807251, 0.9501165151596069, 0.9376863241195679, 0.9362841844558716, 0.9252992868423462, 0.9210828542709351, 0.920302152633667, 0.916404664516449, 0.9158423542976379, 0.913459062576294, 0.913017988204956, 0.9121451377868652, 0.9066199660301208, 0.9056578874588013, 0.9006847143173218, 0.9004271626472473, 0.8993393778800964, 0.8983256220817566, 0.8942614793777466, 0.8922026753425598, 0.8912755250930786, 0.8911846280097961, 0.8894549608230591, 0.8891482353210449, 0.8854327201843262, 0.8839801549911499, 0.8818800449371338, 0.8808881044387817, 0.880499005317688, 0.879314661026001, 0.875170111656189, 0.8739807605743408, 0.8409874439239502, 0.822796642780304, 0.8095759153366089, 0.8070327639579773, 0.8047070503234863, 0.8019099831581116, 0.7921863198280334, 0.7884886860847473, 0.7868826985359192, 0.7847548127174377, 0.7782310247421265, 0.777494490146637, 0.7756845951080322, 0.7716849446296692, 0.7694390416145325, 0.7687926888465881, 0.7673301100730896, 0.7666558623313904, 0.7659046053886414, 0.7638471722602844, 0.7634817361831665, 0.7614055871963501, 0.7607912421226501, 0.759949803352356, 0.8753674030303955, 0.8736757636070251, 0.8572799563407898, 0.854234516620636, 0.8510252237319946, 0.8469051122665405, 0.840933084487915, 0.8321378827095032, 0.8299607038497925, 0.828453779220581, 0.8203428983688354, 0.816277265548706, 0.8156608939170837, 0.8131610751152039, 0.8120675086975098, 0.8112079501152039, 0.808610737323761, 0.8083348870277405, 0.8050535917282104, 0.8031537532806396, 0.8024377822875977, 0.8015385866165161, 0.8015103936195374, 0.8013599514961243, 0.9248867034912109, 0.9209396243095398, 0.9183081388473511, 0.9128793478012085, 0.9107216000556946, 0.9082192182540894, 0.9070510864257812, 0.9043217897415161, 0.8995410203933716, 0.8945503234863281, 0.8924034833908081, 0.8920449018478394, 0.8879048228263855, 0.8873829245567322, 0.885039210319519, 0.8838046789169312, 0.8836738467216492, 0.8826853632926941, 0.8758777976036072, 0.875037431716919, 0.873484194278717, 0.8729700446128845, 0.8729236125946045, 0.8720005750656128, 0.8714417219161987, 0.8713895678520203, 0.8704284429550171, 0.8694779276847839, 0.8686871528625488, 0.8637305498123169, 0.8605891466140747, 0.8579858541488647, 0.8575937747955322, 0.9359287619590759, 0.9301897287368774, 0.8952538967132568, 0.8935881853103638, 0.8914565443992615, 0.8892561793327332, 0.8862500786781311, 0.8756190538406372, 0.8705002665519714, 0.8667696118354797, 0.8640797138214111, 0.8556898236274719, 0.8347439765930176, 0.8313969373703003, 0.8286993503570557, 0.8251933455467224, 0.8227092027664185, 0.8197575807571411, 0.8177546262741089, 0.8175456523895264, 0.8113683462142944, 0.8076478242874146, 0.8066146969795227, 0.8037097454071045, 0.8028996586799622, 0.7984551787376404, 0.7970675826072693, 0.7941592931747437, 0.9598657488822937, 0.9501053690910339, 0.9338681101799011, 0.9325798749923706, 0.9307679533958435, 0.9293645024299622, 0.9260774254798889, 0.9249372482299805, 0.9219667315483093, 0.9195508360862732, 0.9188476800918579, 0.9163309335708618, 0.9156649112701416, 0.9154481291770935, 0.9153261184692383, 0.9106493592262268, 0.9072204232215881, 0.9053034782409668, 0.9043921232223511, 0.9032050371170044, 0.8997547626495361, 0.8993953466415405, 0.8987786173820496, 0.8973458409309387, 0.8973281979560852, 0.8972585797309875, 0.8935714960098267, 0.8927710056304932, 0.8925195932388306, 0.8901283740997314, 0.8889713287353516, 0.8873453736305237, 0.886501669883728, 0.8856105208396912, 0.9282864928245544, 0.9281116127967834, 0.9189707636833191, 0.9134436845779419, 0.9116708636283875, 0.910426914691925, 0.9097985625267029, 0.9093437790870667, 0.9083064794540405, 0.9075751900672913, 0.9051700234413147, 0.9033520221710205, 0.9022939205169678, 0.8947752118110657, 0.8947280645370483, 0.8909977674484253, 0.8848695755004883, 0.8839802742004395, 0.882986307144165, 0.8810060024261475, 0.8803781867027283, 0.8747470378875732, 0.8733569979667664, 0.8723697662353516, 0.8716779947280884, 0.8700687885284424, 0.8698378205299377, 0.8649200201034546, 0.8637418150901794, 0.8564215302467346, 0.854266881942749, 0.8542070984840393, 0.8530842065811157, 0.846711277961731, 0.8929743766784668, 0.8539962768554688, 0.851234495639801, 0.8381921052932739, 0.8265576958656311, 0.8218796253204346, 0.8112768530845642, 0.806800901889801, 0.8034002780914307, 0.7966657280921936, 0.7879835963249207, 0.7850592732429504, 0.7841134071350098, 0.7772294282913208, 0.773761510848999, 0.770294725894928, 0.7665826082229614, 0.7626243233680725, 0.7622342109680176, 0.7583372592926025, 0.7548727989196777, 0.7534505724906921, 0.7455015182495117, 0.7438182234764099, 0.7397377490997314, 0.6559469699859619, 0.6339837312698364, 0.6295275688171387, 0.6261976957321167, 0.621218204498291, 0.6088247299194336, 0.5962966680526733, 0.5924387574195862, 0.5915210247039795, 0.5865015387535095, 0.58546382188797, 0.5849220752716064, 0.5818265676498413, 0.5794259309768677, 0.5783551335334778, 0.5736737251281738, 0.5623326301574707, 0.5617517232894897, 0.5575163960456848, 0.5564436316490173, 0.5487377643585205, 0.5404102802276611, 0.5381997227668762, 0.522739827632904, 0.5211069583892822, 0.5205832123756409, 0.5158824324607849, 0.5145451426506042, 0.5069695115089417, 0.5063613057136536, 0.5058804154396057, 0.49675706028938293, 0.4959232807159424, 0.492597371339798, 0.49122732877731323, 0.4888165593147278, 0.48701509833335876, 0.4851662516593933, 0.4827370047569275, 0.9029096364974976, 0.8912644386291504, 0.8349339365959167, 0.8157334327697754, 0.8036822080612183, 0.7998204827308655, 0.7899665236473083, 0.7839638590812683, 0.778611421585083, 0.7745378017425537, 0.76937335729599, 0.7615547180175781, 0.7588211894035339, 0.7574183940887451, 0.7545987963676453, 0.752549409866333, 0.7478886246681213, 0.7438066005706787, 0.7437425851821899, 0.7400043606758118, 0.739861011505127, 0.7371474504470825, 0.7334034442901611, 0.7283779382705688, 0.7262954115867615, 0.7240780591964722, 0.7208360433578491, 0.7023256421089172, 0.6785591840744019, 0.678248941898346, 0.6716167330741882, 0.6596171259880066, 0.6586948037147522, 0.6561734080314636, 0.6557358503341675, 0.6551568508148193, 0.6484279036521912, 0.6456874012947083, 0.64509516954422, 0.6279644966125488, 0.6273759603500366, 0.624151885509491, 0.6205573678016663, 0.6115519404411316, 0.6079241037368774, 0.5994106531143188, 0.5939355492591858, 0.5907381772994995, 0.5868797302246094, 0.5850794315338135, 0.5838596224784851, 0.5814411640167236, 0.5807519555091858, 0.5793328881263733, 0.5793048739433289, 0.5784581899642944, 0.5783059597015381, 0.5775598883628845, 0.5743238925933838, 0.5715946555137634, 0.5713226199150085, 0.5708902478218079, 0.5701183080673218, 0.5698966383934021, 0.5682716965675354, 0.9297234416007996, 0.9196561574935913, 0.9118297100067139, 0.9092639088630676, 0.9076168537139893, 0.9074317812919617, 0.9010745882987976, 0.894924521446228, 0.8844435811042786, 0.8817312121391296, 0.8786839246749878, 0.8734933137893677, 0.8724281191825867, 0.8713980317115784, 0.8653691411018372, 0.8555346131324768, 0.8533129096031189, 0.8519343137741089, 0.8514708876609802, 0.8457285761833191, 0.8456756472587585, 0.8453843593597412, 0.843413770198822, 0.8424897789955139, 0.8415271043777466, 0.8393206000328064, 0.8386406302452087, 0.8384908437728882, 0.8381035327911377, 0.8373738527297974, 0.8367030024528503, 0.8360916972160339, 0.9231945872306824, 0.8974515199661255, 0.8919350504875183, 0.8817105293273926, 0.881207287311554, 0.8800432682037354, 0.8701172471046448, 0.8698541522026062, 0.8672493696212769, 0.8664564490318298, 0.8644410967826843, 0.8639699816703796, 0.8617624044418335, 0.8563734292984009, 0.8554896712303162, 0.8545981049537659, 0.8543133735656738, 0.8538244366645813, 0.8521744608879089, 0.8487033843994141, 0.8473537564277649, 0.8442400693893433, 0.8429551720619202, 0.8413233160972595, 0.8391227722167969, 0.8381572961807251, 0.8381367921829224, 0.837336540222168, 0.835684061050415, 0.832959771156311, 0.9580076932907104, 0.9412690997123718, 0.931564211845398, 0.9261042475700378, 0.9239562153816223, 0.9210302829742432, 0.9186073541641235, 0.913267195224762, 0.9076706767082214, 0.9069745540618896, 0.897577166557312, 0.8919297456741333, 0.8898853063583374, 0.8855873346328735, 0.882994532585144, 0.8771050572395325, 0.8751245737075806, 0.8750455975532532, 0.8744468688964844, 0.8727649450302124, 0.8719010949134827, 0.8711804747581482, 0.8698312044143677, 0.8696784377098083, 0.8695070743560791, 0.8690297603607178, 0.8688591718673706, 0.8651095032691956, 0.8646277189254761, 0.8639058470726013, 0.8638055324554443, 0.8637320399284363, 0.8620022535324097, 0.8619527220726013, 0.8600655794143677, 0.8591069579124451, 0.8589316606521606, 0.9282982349395752, 0.9261550307273865, 0.9207938313484192, 0.918694257736206, 0.9144080877304077, 0.9143766760826111, 0.9106050729751587, 0.9094893932342529, 0.9051112532615662, 0.9034923315048218, 0.9016495943069458, 0.8986669778823853, 0.8942586183547974, 0.8924664855003357, 0.8897925615310669, 0.8886356353759766, 0.8864439129829407, 0.8855243921279907, 0.8846866488456726, 0.8825142979621887, 0.8786196708679199, 0.8759244680404663, 0.874961256980896, 0.8744658827781677, 0.8743044137954712, 0.8731369376182556, 0.8719097971916199, 0.8701120018959045, 0.8696421384811401, 0.8694878220558167, 0.867744505405426, 0.9484583735466003, 0.9365372061729431, 0.9233049750328064, 0.896664559841156, 0.8964931964874268, 0.8956447243690491, 0.8926873207092285, 0.8909363746643066, 0.8861034512519836, 0.8855799436569214, 0.8831679821014404, 0.8763114809989929, 0.86848384141922, 0.868025541305542, 0.8661900162696838, 0.8652002811431885, 0.864434540271759, 0.8630131483078003, 0.8574681282043457, 0.8564527630805969, 0.8537259697914124, 0.8527262210845947, 0.8494478464126587, 0.8481807708740234, 0.8480352163314819, 0.8478830456733704, 0.8468492031097412, 0.8465600609779358, 0.8454895615577698, 0.8449693918228149, 0.8420546650886536, 0.8416568040847778, 0.8406139016151428, 0.8404666781425476, 0.8377979397773743, 0.8373075723648071, 0.9649419188499451, 0.9646762609481812, 0.9502190947532654, 0.9445462226867676, 0.9404581785202026, 0.9363136887550354, 0.9314435124397278, 0.9305678606033325, 0.9272213578224182, 0.9270667433738708, 0.9221622943878174, 0.9178198575973511, 0.9174007177352905, 0.9161666035652161, 0.9147478938102722, 0.9145048260688782, 0.9144352674484253, 0.9140139222145081, 0.9107908010482788, 0.9096824526786804, 0.9091734886169434, 0.9079310894012451, 0.9076001644134521, 0.90665203332901, 0.9061975479125977, 0.905570924282074, 0.9047811031341553, 0.9042849540710449, 0.9042707085609436, 0.899104654788971, 0.8977627158164978, 0.8975295424461365, 0.8968036770820618, 0.8954817056655884, 0.8949495553970337, 0.891241192817688, 0.890836775302887, 0.9417616724967957, 0.9243161082267761, 0.8888977766036987, 0.8847832083702087, 0.8822935819625854, 0.8776786923408508, 0.8725073933601379, 0.871080219745636, 0.8662251234054565, 0.8651548624038696, 0.8580371737480164, 0.8565622568130493, 0.8557029962539673, 0.8540557622909546, 0.8524426817893982, 0.8519799113273621, 0.8510783910751343, 0.8498859405517578, 0.8469991087913513, 0.8434256911277771, 0.8397053480148315, 0.8363487720489502, 0.8363368511199951, 0.8359516859054565, 0.8344931602478027, 0.8259668350219727, 0.82496577501297, 0.8241935968399048, 0.8198442459106445, 0.817396342754364, 0.816929817199707, 0.8163686990737915, 0.8161341547966003, 0.8140942454338074, 0.812414824962616, 0.8963407278060913, 0.8834471106529236, 0.8563105463981628, 0.8522634506225586, 0.84224534034729, 0.8397260904312134, 0.8384873270988464, 0.8382565379142761, 0.824559211730957, 0.8193132877349854, 0.7970848083496094, 0.7648409605026245, 0.7586223483085632, 0.7551971673965454, 0.7520242929458618, 0.7515710592269897, 0.7466762065887451, 0.742341935634613, 0.7338146567344666, 0.7266047596931458, 0.7139206528663635, 0.713277280330658, 0.7122922539710999, 0.7116473317146301, 0.7079474925994873, 0.7079120874404907, 0.7078615427017212, 0.7044534683227539, 0.9037572145462036, 0.8995994925498962, 0.899152398109436, 0.8956021070480347, 0.8951981067657471, 0.8951685428619385, 0.8911260366439819, 0.8889167308807373, 0.8841344118118286, 0.8825232982635498, 0.8815926909446716, 0.881334125995636, 0.8778426051139832, 0.8719411492347717, 0.8695269227027893, 0.8676416277885437, 0.866592288017273, 0.8660218119621277, 0.8653827905654907, 0.865003764629364, 0.8539673686027527, 0.8534398078918457, 0.8512263894081116, 0.8477731943130493, 0.8431063294410706, 0.8412721157073975, 0.8377567529678345, 0.8504907488822937, 0.8286970853805542, 0.8110329508781433, 0.8077783584594727, 0.793522298336029, 0.7857464551925659, 0.7845476269721985, 0.7759305238723755, 0.7755267024040222, 0.7737376093864441, 0.7678802609443665, 0.7592678666114807, 0.7508730888366699, 0.748873770236969, 0.7463520765304565, 0.7456998229026794, 0.7445391416549683, 0.7427701950073242, 0.7427260279655457, 0.7387706637382507, 0.7349996566772461, 0.732201337814331, 0.7297390699386597, 0.7295591831207275, 0.7271903157234192, 0.7268102169036865, 0.7221279740333557, 0.7202572822570801, 0.7200534343719482, 0.7170923948287964, 0.7168427109718323, 0.71648108959198, 0.9223455786705017, 0.9147576689720154, 0.9137865304946899, 0.9036351442337036, 0.9012969136238098, 0.8955689668655396, 0.8913746476173401, 0.8904320001602173, 0.888052225112915, 0.8809642195701599, 0.8771401643753052, 0.8739523887634277, 0.8729326128959656, 0.8725157380104065, 0.872463047504425, 0.8719452023506165, 0.8705033659934998, 0.8683363795280457, 0.8629791736602783, 0.8627380728721619, 0.8607784509658813, 0.8548391461372375, 0.8542631268501282, 0.8531624674797058, 0.8509132862091064, 0.8482227921485901, 0.8461132049560547, 0.8436823487281799, 0.841641366481781, 0.9287891387939453, 0.9222499132156372, 0.921967625617981, 0.920793890953064, 0.9207718372344971, 0.9175812005996704, 0.9105511903762817, 0.9099306464195251, 0.9081847071647644, 0.9056903719902039, 0.9054105877876282, 0.9052062630653381, 0.9046777486801147, 0.904476523399353, 0.9029881954193115, 0.9016522169113159, 0.9014229774475098, 0.9009328484535217, 0.9739106297492981, 0.9575970768928528, 0.9520742297172546, 0.9428431987762451, 0.9417336583137512, 0.9197982549667358, 0.9185527563095093, 0.9183931946754456, 0.8980932235717773, 0.8849554657936096, 0.8763459920883179, 0.8721787333488464, 0.8719139695167542, 0.8703466057777405, 0.869622528553009, 0.8642022609710693, 0.8612942099571228, 0.8551815748214722, 0.8466489911079407, 0.8444660902023315, 0.8427770137786865, 0.8426557779312134, 0.8410622477531433, 0.8407739400863647, 0.8380745053291321, 0.8350623250007629, 0.8343460559844971, 0.8327472805976868, 0.8314787149429321, 0.8277878761291504, 0.827382504940033, 0.8247471451759338, 0.818593442440033, 0.8176684975624084, 0.8166034817695618, 0.9271981120109558, 0.9167393445968628, 0.9134266376495361, 0.9038557410240173, 0.8932815790176392, 0.8912535309791565, 0.8835061192512512, 0.8833774328231812, 0.8832614421844482, 0.8799660801887512, 0.8791806101799011, 0.8782220482826233, 0.8773905634880066, 0.875637412071228, 0.8713920712471008, 0.8668818473815918, 0.8648477792739868, 0.8624783158302307, 0.8619456887245178, 0.8608624339103699, 0.8584005832672119, 0.8565590381622314, 0.8550993800163269, 0.854949951171875, 0.8545259237289429, 0.8533749580383301, 0.8523445725440979, 0.8501721024513245, 0.8499183654785156, 0.8480232357978821, 0.8468446731567383, 0.8467872142791748, 0.8452582955360413, 0.8433356285095215, 0.8414889574050903, 0.840367317199707, 0.8372277021408081, 0.8360022306442261, 0.8358796834945679, 0.8838275074958801, 0.8805736899375916, 0.8756018877029419, 0.8661081194877625, 0.8643279671669006, 0.8615016937255859, 0.8558284640312195, 0.8538291454315186, 0.850620448589325, 0.8497174978256226, 0.8394046425819397, 0.8389684557914734, 0.8362350463867188, 0.832868754863739, 0.8318779468536377, 0.830855667591095, 0.8286718130111694, 0.8252838253974915, 0.8246744275093079, 0.8221679925918579, 0.8168132305145264, 0.8153971433639526, 0.8152273893356323, 0.8128516674041748, 0.812234103679657, 0.8121424913406372, 0.8119015097618103, 0.8114343881607056, 0.8101033568382263, 0.8095291256904602, 0.8035106658935547, 0.8031832575798035, 0.9363898634910583, 0.9340799450874329, 0.9178522825241089, 0.9160050749778748, 0.912468671798706, 0.9120249152183533, 0.9099273085594177, 0.9093174338340759, 0.9048689007759094, 0.904321014881134, 0.901883065700531, 0.8996421098709106, 0.8993427753448486, 0.8986330628395081, 0.8972221612930298, 0.8962489366531372, 0.8956204056739807, 0.8938445448875427, 0.8915184140205383, 0.8914926648139954, 0.8912031650543213, 0.8909974098205566, 0.8897559642791748, 0.8893076777458191, 0.8891143202781677, 0.888018786907196, 0.8878999352455139, 0.9609683156013489, 0.9608141183853149, 0.9566983580589294, 0.9464854001998901, 0.9441121816635132, 0.9343523979187012, 0.9336405396461487, 0.9310328960418701, 0.9238182306289673, 0.9232621192932129, 0.9191485047340393, 0.9189919829368591, 0.9180018305778503, 0.9167212247848511, 0.9151700139045715, 0.9136461615562439, 0.9123342037200928, 0.9113776087760925, 0.9024217128753662, 0.8973866701126099, 0.8897491693496704, 0.8894132375717163, 0.8847057223320007, 0.8825780749320984, 0.8775805830955505, 0.8721991777420044, 0.8718302249908447, 0.8708529472351074, 0.8661307692527771, 0.859174370765686, 0.8571017384529114, 0.846727728843689, 0.8462752103805542, 0.8445262312889099, 0.8439478278160095, 0.8437369465827942, 0.8431400656700134, 0.8416135311126709, 0.9419340491294861, 0.9247329235076904, 0.9221068024635315, 0.9214305877685547, 0.9130752086639404, 0.9128602743148804, 0.9054872393608093, 0.9038042426109314, 0.9027842879295349, 0.9019985795021057, 0.8950903415679932, 0.8830646872520447, 0.8808763027191162, 0.873805582523346, 0.8717741966247559, 0.8685059547424316, 0.8668299317359924, 0.8641864657402039, 0.86305171251297, 0.8615032434463501, 0.8599429130554199, 0.8597305417060852, 0.8573293089866638, 0.854067325592041, 0.8488622307777405, 0.8487751483917236, 0.8485583066940308, 0.8480822443962097, 0.8444299697875977, 0.8430297374725342, 0.8428167700767517, 0.8413762450218201, 0.8401926159858704, 0.8389788269996643, 0.838108241558075, 0.8319941163063049, 0.890783429145813, 0.8867357969284058, 0.8779953718185425, 0.8743067979812622, 0.8539265990257263, 0.8536810874938965, 0.8443388938903809, 0.8378008604049683, 0.8360521793365479, 0.8358174562454224, 0.8336681127548218, 0.8303837776184082, 0.8275692462921143, 0.8236365914344788, 0.8233540058135986, 0.816593587398529, 0.8155356645584106, 0.8150352835655212, 0.8149499297142029, 0.8146979212760925, 0.9419514536857605, 0.9041971564292908, 0.8949196338653564, 0.8941435217857361, 0.8925710320472717, 0.8908558487892151, 0.887215256690979, 0.8865823149681091, 0.8810796141624451, 0.8792850375175476, 0.87891685962677, 0.877689778804779, 0.872170090675354, 0.8719016313552856, 0.867482602596283, 0.8668931126594543, 0.8634704947471619, 0.8614583015441895, 0.8613325953483582, 0.8569764494895935, 0.8559118509292603, 0.9697023034095764, 0.968828022480011, 0.9653064608573914, 0.961871862411499, 0.9590900540351868, 0.956654965877533, 0.954689621925354, 0.9519112706184387, 0.9500196576118469, 0.9491557478904724, 0.947751522064209, 0.9438524842262268, 0.9433894753456116, 0.9433301091194153, 0.9392538666725159, 0.9360707998275757, 0.9358428120613098, 0.9352483749389648, 0.9316294193267822, 0.920255184173584, 0.9159989953041077, 0.909939706325531, 0.898222804069519, 0.8884671926498413, 0.8848246932029724, 0.8798782825469971, 0.8685742616653442, 0.8685581684112549, 0.8662672638893127, 0.8455668687820435, 0.8409984707832336, 0.8399759531021118, 0.8378533124923706, 0.8324347138404846, 0.8309773206710815, 0.8272700309753418, 0.9035730361938477, 0.8757305145263672, 0.8632006049156189, 0.8604105114936829, 0.8549745082855225, 0.8531624674797058, 0.8520453572273254, 0.8517584800720215, 0.8494616150856018, 0.8494294881820679, 0.8476762771606445, 0.8428702354431152, 0.8401925563812256, 0.83734530210495, 0.8316873908042908, 0.828088641166687, 0.8263904452323914, 0.8249049782752991, 0.8234729766845703, 0.8196651339530945, 0.8194349408149719, 0.8192026615142822, 0.8185816407203674, 0.8157179951667786, 0.8142701387405396, 0.8138213753700256, 0.812518298625946, 0.812142550945282, 0.8113665580749512, 0.8081249594688416, 0.807632565498352, 0.8066628575325012, 0.8036167621612549, 0.9029037952423096, 0.8801526427268982, 0.878734290599823, 0.8732345104217529, 0.8725526928901672, 0.8712694048881531, 0.8676359057426453, 0.8591460585594177, 0.8535320162773132, 0.8475610017776489, 0.8452277183532715, 0.842041015625, 0.8412545919418335, 0.8379726409912109, 0.8290084600448608, 0.828975260257721, 0.8286187648773193, 0.8272556662559509, 0.8234322667121887, 0.8180503249168396, 0.8158337473869324, 0.8150936365127563, 0.8146297335624695, 0.8143123984336853, 0.8141987919807434, 0.8140416145324707, 0.8969148993492126, 0.88169926404953, 0.8772311210632324, 0.8624184727668762, 0.8589221239089966, 0.8512352705001831, 0.8413208723068237, 0.8397205471992493, 0.8370926976203918, 0.8180165886878967, 0.8079491853713989, 0.8014819622039795, 0.7978414297103882, 0.7923226952552795, 0.786799967288971, 0.7855527997016907, 0.783579409122467, 0.7835583686828613, 0.7793020009994507, 0.7791056036949158, 0.7785567045211792, 0.7758213877677917, 0.7755278944969177, 0.7733011245727539, 0.7675918936729431, 0.9643146395683289, 0.9378464818000793, 0.9355917572975159, 0.9324424266815186, 0.9292131662368774, 0.9224658012390137, 0.916674017906189, 0.9155469536781311, 0.9145119786262512, 0.9110517501831055, 0.9107602834701538, 0.9087586402893066, 0.9064502716064453, 0.9063467383384705, 0.9027277231216431, 0.897568941116333, 0.896353542804718, 0.8949293494224548, 0.8936233520507812, 0.892037570476532, 0.89090895652771, 0.8880171775817871, 0.8825562596321106, 0.8822177052497864, 0.8806677460670471, 0.8795151710510254, 0.8768905997276306, 0.8698064684867859, 0.8618844747543335, 0.858227550983429, 0.8567566871643066, 0.8531874418258667, 0.8458716869354248, 0.8450957536697388, 0.9161927103996277, 0.8978335857391357, 0.8859995007514954, 0.8811987042427063, 0.8802142143249512, 0.8722167611122131, 0.8664413690567017, 0.8609139919281006, 0.8600584864616394, 0.8559156060218811, 0.8554943799972534, 0.846327543258667, 0.845824658870697, 0.841057538986206, 0.8395519256591797, 0.8387197256088257, 0.8292810916900635, 0.8281760215759277, 0.8275589346885681, 0.8274827599525452, 0.8233291506767273, 0.82137531042099, 0.8176348209381104, 0.8986465930938721, 0.8921416997909546, 0.8896477818489075, 0.8878306150436401, 0.8860889673233032, 0.8817015886306763, 0.8795693516731262, 0.8662576079368591, 0.8650168180465698, 0.8618977665901184, 0.8615243434906006, 0.8599802851676941, 0.8539658188819885, 0.8530319929122925, 0.8523800373077393, 0.8507384657859802, 0.8493255376815796, 0.847105085849762, 0.846083402633667, 0.8456839323043823, 0.8455619812011719, 0.8441526889801025, 0.8372994065284729, 0.837192177772522, 0.8365623950958252, 0.836448073387146, 0.8354585766792297, 0.8350445628166199, 0.8339204788208008, 0.8987279534339905, 0.8770037293434143, 0.8710892796516418, 0.8704410791397095, 0.8542967438697815, 0.8493029475212097, 0.8464868664741516, 0.835760772228241, 0.834836483001709, 0.8327837586402893, 0.8297606110572815, 0.8276888132095337, 0.8255617618560791, 0.8246182203292847, 0.8241254091262817, 0.8230120539665222, 0.8229832053184509, 0.8214860558509827, 0.8208682537078857, 0.8207747340202332, 0.8204618096351624, 0.8181116580963135, 0.8162961006164551, 0.8157064914703369, 0.8147796988487244, 0.8146723508834839, 0.8754644989967346, 0.801056444644928, 0.7895233631134033, 0.7855010032653809, 0.7663451433181763, 0.7575176954269409, 0.7498283982276917, 0.7488670945167542, 0.7484484314918518, 0.7447522282600403, 0.7314906716346741, 0.7301163077354431, 0.722189724445343, 0.7178963422775269, 0.7088080644607544, 0.7074084281921387, 0.7005677819252014, 0.6976108551025391, 0.6935673952102661, 0.693142294883728, 0.6891916990280151, 0.6890220046043396, 0.6882545351982117, 0.6872674822807312, 0.681937038898468, 0.6816982626914978, 0.6789247989654541, 0.6777322292327881, 0.6769484281539917, 0.6759600639343262, 0.6754450798034668, 0.6722984313964844, 0.6721261739730835, 0.6694740653038025, 0.8828705549240112, 0.8658452033996582, 0.8583172559738159, 0.8569855093955994, 0.8406145572662354, 0.8380905985832214, 0.8264458775520325, 0.8253971338272095, 0.8208774328231812, 0.8194402456283569, 0.8140829801559448, 0.8120678067207336, 0.8102927207946777, 0.8102779984474182, 0.8092991709709167, 0.8069713711738586, 0.8039092421531677, 0.8018186688423157, 0.8012180328369141, 0.7981084585189819, 0.794426679611206, 0.7861809134483337, 0.7843684554100037, 0.7828436493873596, 0.778113603591919, 0.7773107886314392, 0.77537602186203, 0.7712523341178894, 0.7698296308517456, 0.7659387588500977, 0.7658356428146362, 0.7653056979179382, 0.7645782828330994, 0.764491617679596, 0.7644252777099609, 0.763090968132019, 0.9139836430549622, 0.9088892340660095, 0.8480185270309448, 0.8364951014518738, 0.8309581875801086, 0.8251224160194397, 0.8142102956771851, 0.808207631111145, 0.8049535751342773, 0.8048942685127258, 0.794837474822998, 0.7940670251846313, 0.7897257804870605, 0.7852466106414795, 0.7851852178573608, 0.7838876247406006, 0.7766537070274353, 0.7659268975257874, 0.7615751624107361, 0.7609738707542419, 0.7596655488014221, 0.7559944987297058, 0.754719078540802, 0.7544364333152771, 0.7528141140937805, 0.7513489127159119, 0.7492372989654541, 0.7456324696540833, 0.739098310470581, 0.8974728584289551, 0.8659976720809937, 0.8279292583465576, 0.8204241394996643, 0.8171631097793579, 0.8137322068214417, 0.79765784740448, 0.7967881560325623, 0.7781232595443726, 0.7761776447296143, 0.7730811238288879, 0.7730329632759094, 0.769432544708252, 0.7684783935546875, 0.7642427682876587, 0.7624518275260925, 0.7623711824417114, 0.7595349550247192, 0.7591630816459656, 0.7542526721954346, 0.7536872029304504, 0.7493670582771301, 0.7453970909118652, 0.7423556447029114, 0.7417207360267639, 0.7416703701019287, 0.7376523613929749, 0.7369217276573181, 0.7367209196090698, 0.7311699390411377, 0.730530858039856, 0.7299619317054749, 0.7959856390953064, 0.7880422472953796, 0.7845412492752075, 0.7716271877288818, 0.7705351710319519, 0.7705156207084656, 0.7702027559280396, 0.7593626379966736, 0.754828929901123, 0.7539387941360474, 0.7481792569160461, 0.727772057056427, 0.7257602214813232, 0.7187246084213257, 0.7137939929962158, 0.710715651512146, 0.7059934139251709, 0.6988601684570312, 0.6982627511024475, 0.6960954666137695, 0.6901148557662964, 0.6893805861473083, 0.686185896396637, 0.6857413649559021, 0.6844513416290283, 0.683309018611908, 0.6826463937759399, 0.6820549368858337, 0.6719828248023987, 0.6712344884872437, 0.6706185340881348, 0.6692696809768677, 0.8287781476974487, 0.7946082353591919, 0.7910673022270203, 0.7894616723060608, 0.7869601249694824, 0.7696508169174194, 0.766778290271759, 0.7508289217948914, 0.7494343519210815, 0.7443567514419556, 0.7438879013061523, 0.7402286529541016, 0.7375020384788513, 0.7361696362495422, 0.7353485822677612, 0.7305921316146851, 0.7297459244728088, 0.7248890995979309, 0.7166907787322998, 0.7158675789833069, 0.7114871144294739, 0.701777458190918, 0.7000309824943542, 0.6971266865730286, 0.6909204721450806, 0.689795732498169, 0.688657820224762, 0.6879792809486389, 0.6875649690628052, 0.6861109733581543, 0.6860906481742859, 0.6844144463539124, 0.9197112321853638, 0.9112104773521423, 0.911039412021637, 0.909689724445343, 0.9093302488327026, 0.9081916213035583, 0.9075064659118652, 0.9034019708633423, 0.9032579064369202, 0.9019531607627869, 0.8986871242523193, 0.8955226540565491, 0.8928014636039734, 0.8925710320472717, 0.8911488652229309, 0.8887012600898743, 0.8886389136314392, 0.8849727511405945, 0.884613037109375, 0.8840007185935974, 0.883347749710083, 0.8806742429733276, 0.8744748830795288, 0.8740915060043335, 0.8723263740539551, 0.8695902824401855, 0.8663392663002014, 0.8639625906944275, 0.8615054488182068, 0.8610162138938904, 0.9446116089820862, 0.918701171875, 0.9180460572242737, 0.9124666452407837, 0.9116266369819641, 0.9089758992195129, 0.9085552096366882, 0.9083257913589478, 0.9065990447998047, 0.9063094258308411, 0.9028372168540955, 0.8985232710838318, 0.8981471061706543, 0.8962926864624023, 0.8951104879379272, 0.8914923071861267, 0.888563334941864, 0.8877295851707458, 0.8828412890434265, 0.8732044100761414, 0.8722850680351257, 0.8669439554214478, 0.8668344020843506, 0.8646146655082703, 0.8612391352653503, 0.8592102527618408, 0.8557393550872803, 0.8545822501182556, 0.8535380959510803, 0.84955233335495, 0.8482059836387634, 0.8473544120788574, 0.8468794822692871, 0.9234414100646973, 0.9197351336479187, 0.9168893694877625, 0.9117525219917297, 0.9090229868888855, 0.9072498083114624, 0.906276524066925, 0.9045639634132385, 0.8829925060272217, 0.8779809474945068, 0.8742838501930237, 0.8685209155082703, 0.866917073726654, 0.8642042279243469, 0.8619668483734131, 0.8588894605636597, 0.8561091423034668, 0.8535921573638916, 0.8508862853050232, 0.8498696088790894, 0.8484728932380676, 0.847369372844696, 0.8471194505691528, 0.8469356894493103, 0.8465813994407654, 0.8462513089179993, 0.8424522280693054, 0.8420872688293457, 0.8399821519851685, 0.8388016819953918, 0.9484980702400208, 0.9481158256530762, 0.9478232264518738, 0.9463701844215393, 0.9383977055549622, 0.9323154091835022, 0.9315719604492188, 0.9277277588844299, 0.925045371055603, 0.9202269315719604, 0.9172949194908142, 0.9144443869590759, 0.914181649684906, 0.9099394679069519, 0.9065393209457397, 0.9062029719352722, 0.9026034474372864, 0.8995235562324524, 0.8988011479377747, 0.8976527452468872, 0.8970972299575806, 0.8902778625488281, 0.8898376822471619, 0.8810060620307922, 0.8732872605323792, 0.8716180324554443, 0.8661839962005615, 0.8518396019935608, 0.8512243628501892, 0.8500767350196838, 0.8450958132743835, 0.8445847630500793, 0.8444454669952393, 0.8429791331291199, 0.838042140007019, 0.9456940293312073, 0.9367864727973938, 0.9237195253372192, 0.921079158782959, 0.915912926197052, 0.9136596918106079, 0.9128032922744751, 0.9114416241645813, 0.9099279046058655, 0.9082608819007874, 0.9071438908576965, 0.9063199758529663, 0.9042546153068542, 0.9039286375045776, 0.9021102786064148, 0.9000476598739624, 0.899274468421936, 0.8985729217529297, 0.8980652689933777, 0.8972282409667969, 0.895753026008606, 0.8946674466133118, 0.8932535648345947, 0.8911184668540955, 0.8900778889656067, 0.8868870139122009, 0.8862358927726746, 0.8844279050827026, 0.883812665939331, 0.8823015093803406, 0.8794414401054382, 0.8787215352058411, 0.8765808343887329, 0.8016527891159058, 0.7970659732818604, 0.7963842749595642, 0.791522741317749, 0.7896879315376282, 0.7799095511436462, 0.7763691544532776, 0.7726510167121887, 0.7693381309509277, 0.7679211497306824, 0.7666277885437012, 0.755809485912323, 0.7552533149719238, 0.7492896318435669, 0.7446191310882568, 0.7418822646141052, 0.7415927052497864, 0.7295718789100647, 0.7234817147254944, 0.7225160002708435, 0.719272255897522, 0.7120729684829712, 0.7093190550804138, 0.7044291496276855, 0.6933000683784485, 0.6922022700309753, 0.6909731030464172, 0.6904788017272949, 0.6891711354255676, 0.6876685619354248, 0.6867663860321045, 0.9337096214294434, 0.8698181509971619, 0.8619534969329834, 0.8547198176383972, 0.8486461043357849, 0.8332311511039734, 0.8192624449729919, 0.812808632850647, 0.8049412965774536, 0.79010009765625, 0.7796312570571899, 0.7755941152572632, 0.768547773361206, 0.76824551820755, 0.763057291507721, 0.7624596953392029, 0.7618778347969055, 0.7560162544250488, 0.7517356872558594, 0.7512061595916748, 0.7506231665611267, 0.7497216463088989, 0.7491554617881775, 0.7488450407981873, 0.745026707649231, 0.7440535426139832, 0.743730902671814, 0.7422855496406555, 0.7402904033660889, 0.7373042702674866, 0.7364186644554138, 0.9329904317855835, 0.9316454529762268, 0.9267210364341736, 0.9235293865203857, 0.9173818826675415, 0.9152042865753174, 0.9108293652534485, 0.9107998013496399, 0.910579264163971, 0.9093404412269592, 0.9011380672454834, 0.8966420292854309, 0.8822746872901917, 0.8761745691299438, 0.8750397562980652, 0.8748672604560852, 0.8729678988456726, 0.8724067807197571, 0.8712202310562134, 0.8693748116493225, 0.8688600063323975, 0.8672807216644287, 0.8661600351333618, 0.8615495562553406, 0.859889805316925, 0.8588676452636719, 0.8580236434936523, 0.8569855093955994, 0.8539667725563049, 0.8535556197166443, 0.8492969274520874, 0.8471283316612244, 0.8464182615280151, 0.844282329082489, 0.8419676423072815, 0.8416167497634888, 0.7732875347137451, 0.7335781455039978, 0.7287179231643677, 0.726833701133728, 0.7250628471374512, 0.7057105898857117, 0.7018914818763733, 0.701536238193512, 0.6955679059028625, 0.6915953159332275, 0.6874925494194031, 0.6868042349815369, 0.6786338090896606, 0.6741001605987549, 0.6662974953651428, 0.6662567257881165, 0.6645623445510864, 0.6584636569023132, 0.6576132774353027, 0.6564406752586365, 0.6562942266464233, 0.6546654105186462, 0.654358983039856, 0.6540738940238953, 0.6422765254974365, 0.6353198885917664, 0.6270707845687866, 0.6257318258285522, 0.6196902990341187, 0.618297278881073, 0.8647651672363281, 0.8612223863601685, 0.8529308438301086, 0.8519883751869202, 0.8512392640113831, 0.8477396965026855, 0.8474894762039185, 0.8392651677131653, 0.834801971912384, 0.831461489200592, 0.8302378058433533, 0.8261450529098511, 0.8206433057785034, 0.8194161653518677, 0.8170213103294373, 0.8154115676879883, 0.8138803839683533, 0.8074105978012085, 0.8073969483375549, 0.8037065863609314, 0.8014140725135803, 0.8013095259666443, 0.8009675145149231, 0.7999607920646667, 0.7888084650039673, 0.7880431413650513, 0.7842560410499573, 0.7833691835403442, 0.7812216281890869, 0.7788006663322449, 0.7755831480026245, 0.7742618322372437, 0.7732696533203125, 0.7701393961906433, 0.9235410690307617, 0.9224162697792053, 0.907985508441925, 0.8994635343551636, 0.8788614273071289, 0.876930296421051, 0.876209020614624, 0.8752484321594238, 0.8738808035850525, 0.8730894923210144, 0.8722510933876038, 0.869536280632019, 0.868451714515686, 0.8682569265365601, 0.8650457859039307, 0.8623808026313782, 0.86222243309021, 0.8581129312515259, 0.8570789098739624, 0.8562960028648376, 0.8557004928588867, 0.8524962067604065, 0.845672070980072, 0.8428090810775757, 0.8409761786460876, 0.8381860256195068, 0.8375084400177002, 0.8374490737915039, 0.836715042591095, 0.8336508870124817, 0.8310211300849915, 0.8289481401443481, 0.8288280367851257, 0.8722273111343384, 0.822210431098938, 0.8194798827171326, 0.8188749551773071, 0.8163079619407654, 0.8125208020210266, 0.8108741641044617, 0.7940500378608704, 0.7915483713150024, 0.7868826389312744, 0.7844095826148987, 0.7629625201225281, 0.7624479532241821, 0.7526853084564209, 0.7512091398239136, 0.7493807077407837, 0.7491478323936462, 0.7470757961273193, 0.7469390034675598, 0.7465599775314331, 0.7454231977462769, 0.745303750038147, 0.7448984980583191, 0.7415811419487, 0.7414571642875671, 0.7400082945823669, 0.7393020391464233, 0.7357545495033264, 0.7345842123031616, 0.7329391837120056, 0.7308669090270996, 0.749980092048645, 0.733292281627655, 0.7296162843704224, 0.7272776961326599, 0.7246518731117249, 0.7241856455802917, 0.7223376631736755, 0.7221300601959229, 0.7199481129646301, 0.7141780853271484, 0.7100188732147217, 0.7085023522377014, 0.7041519284248352, 0.7029002904891968, 0.7004579305648804, 0.6993229985237122, 0.6971483826637268, 0.6933651566505432, 0.6895514726638794, 0.6863475441932678, 0.6843315362930298, 0.6790980100631714, 0.6784152388572693, 0.6772134900093079, 0.673599123954773, 0.6676250100135803, 0.6668417453765869, 0.663323700428009, 0.6610894203186035, 0.7978859543800354, 0.7738623023033142, 0.7701565027236938, 0.7608873844146729, 0.7586286067962646, 0.7534002661705017, 0.7412824630737305, 0.7411382794380188, 0.7243789434432983, 0.7237617373466492, 0.7078500390052795, 0.7057886123657227, 0.7044489979743958, 0.6969855427742004, 0.6917930841445923, 0.6754499077796936, 0.6741674542427063, 0.6735079884529114, 0.6732265949249268, 0.6704710125923157, 0.6684003472328186, 0.6671330332756042, 0.6626485586166382, 0.6547399163246155, 0.6493721008300781, 0.6491767764091492, 0.64873206615448, 0.8409875631332397, 0.8223199248313904, 0.820814847946167, 0.8042871356010437, 0.8022764325141907, 0.7943026423454285, 0.7886121869087219, 0.7875694632530212, 0.7849218249320984, 0.7647457718849182, 0.7634699940681458, 0.759762704372406, 0.7567980289459229, 0.7540023922920227, 0.7421745657920837, 0.7392557859420776, 0.7357390522956848, 0.7340801358222961, 0.7241358160972595, 0.7221693992614746, 0.7169758677482605, 0.7168025374412537, 0.7164123058319092, 0.7152842879295349, 0.7135148644447327, 0.7092130780220032, 0.7085288763046265, 0.7084758281707764, 0.9638639092445374, 0.9606533646583557, 0.9594933986663818, 0.9577937126159668, 0.9554899334907532, 0.9553377628326416, 0.9547790884971619, 0.9532302618026733, 0.9420459866523743, 0.9417920112609863, 0.9377924799919128, 0.9377273321151733, 0.9374590516090393, 0.9364375472068787, 0.9320003986358643, 0.9307948350906372, 0.9307703971862793, 0.9306043982505798, 0.9299309849739075, 0.9298328757286072, 0.929512083530426, 0.9284015893936157, 0.9271775484085083, 0.9261854887008667, 0.923243522644043, 0.9213771820068359, 0.9208411574363708, 0.9206613302230835, 0.919846773147583, 0.9177276492118835, 0.9174644351005554, 0.9167183041572571, 0.9147164225578308, 0.9144593477249146, 0.9141295552253723, 0.9138975143432617, 0.9132225513458252, 0.9114230275154114, 0.9110262989997864, 0.9477001428604126, 0.9473697543144226, 0.9392901659011841, 0.9313469529151917, 0.925141453742981, 0.9240198135375977, 0.9239411354064941, 0.9216716885566711, 0.9145225286483765, 0.9117684364318848, 0.911686360836029, 0.9114533066749573, 0.9097541570663452, 0.9086638689041138, 0.9066752791404724, 0.9061374068260193, 0.9035149216651917, 0.8990691304206848, 0.8972457647323608, 0.8959429860115051, 0.8935275077819824, 0.8928620219230652, 0.8925397396087646, 0.8917532563209534, 0.8904936909675598, 0.8901975154876709, 0.8888051509857178, 0.8885120749473572, 0.8883063793182373, 0.8864918947219849, 0.8838016390800476, 0.8830838203430176, 0.8828415274620056, 0.8820705413818359, 0.9229929447174072, 0.8964357376098633, 0.8904677629470825, 0.8856120109558105, 0.8625530004501343, 0.856011688709259, 0.8556880950927734, 0.8536964058876038, 0.851784348487854, 0.8479475378990173, 0.8319308161735535, 0.8262267708778381, 0.8226436376571655, 0.8185741305351257, 0.8163864612579346, 0.8155359029769897, 0.815203845500946, 0.8147574663162231, 0.8118762969970703, 0.8110236525535583, 0.8094958066940308, 0.8065716624259949, 0.803917407989502, 0.7964673638343811, 0.7953118681907654, 0.7933552265167236, 0.7836229801177979, 0.7816156148910522, 0.7801899313926697, 0.773952841758728, 0.7731809616088867, 0.9362630844116211, 0.9329014420509338, 0.928621232509613, 0.9249001741409302, 0.9240854978561401, 0.9230837821960449, 0.9214771389961243, 0.916848361492157, 0.9160070419311523, 0.915737509727478, 0.9138423800468445, 0.9137614965438843, 0.91180020570755, 0.9097817540168762, 0.9093336462974548, 0.9092647433280945, 0.9027425646781921, 0.8999556303024292, 0.8940726518630981, 0.892989456653595, 0.8902870416641235, 0.8894522786140442, 0.8890859484672546, 0.8880083560943604, 0.8876664042472839, 0.8780577182769775, 0.8771882057189941, 0.8763695359230042, 0.8762441277503967, 0.9107574820518494, 0.9041064977645874, 0.8902722597122192, 0.876317024230957, 0.8676285743713379, 0.8674177527427673, 0.8665552735328674, 0.8555395603179932, 0.854854941368103, 0.8492047786712646, 0.8455016016960144, 0.8440181612968445, 0.8425338268280029, 0.832699716091156, 0.8274623155593872, 0.8257524371147156, 0.8199829459190369, 0.8189889788627625, 0.8161574006080627, 0.8143989443778992, 0.8076551556587219, 0.8063373565673828, 0.8049837946891785, 0.8010233640670776, 0.798634946346283, 0.7968728542327881, 0.7962479591369629, 0.7946662306785583, 0.7942799925804138, 0.7923393845558167, 0.7902479767799377, 0.7893961071968079, 0.7868365049362183, 0.7860779762268066, 0.7845777869224548, 0.7823371887207031, 0.8054432272911072, 0.7934830784797668, 0.7933223247528076, 0.7852736115455627, 0.775911271572113, 0.731110692024231, 0.7157526016235352, 0.7125467658042908, 0.7117728590965271, 0.7117194533348083, 0.7066531181335449, 0.7044253945350647, 0.7040318846702576, 0.702669620513916, 0.6984467506408691, 0.696601390838623, 0.6952927708625793, 0.6925390362739563, 0.6921798586845398, 0.6917212009429932, 0.6913463473320007, 0.6830557584762573, 0.6818022727966309, 0.6787258386611938, 0.675947904586792, 0.6752457618713379, 0.6751194000244141, 0.6732021570205688, 0.6722052097320557, 0.7764258980751038, 0.765735924243927, 0.7511115074157715, 0.7346450090408325, 0.7308521270751953, 0.7301125526428223, 0.7290115356445312, 0.7192768454551697, 0.7118077278137207, 0.7110137343406677, 0.7072231769561768, 0.7069743275642395, 0.7069422006607056, 0.70531165599823, 0.7049611806869507, 0.7028012275695801, 0.6990689635276794, 0.6968245506286621, 0.689780056476593, 0.6879115104675293, 0.6873371601104736, 0.6857173442840576, 0.6841675043106079, 0.6837891936302185, 0.6799888014793396, 0.6796067953109741, 0.6781349778175354, 0.6771013140678406, 0.6758279204368591, 0.6729741096496582, 0.6649286150932312, 0.6643855571746826, 0.8340399861335754, 0.8132601380348206, 0.8025270700454712, 0.8023740649223328, 0.8020427823066711, 0.7926083207130432, 0.7915322184562683, 0.7879578471183777, 0.7835039496421814, 0.7818979620933533, 0.7811321020126343, 0.7777992486953735, 0.7776157259941101, 0.7764772176742554, 0.774156928062439, 0.773770809173584, 0.7736425995826721, 0.7691949605941772, 0.7646562457084656, 0.7629054188728333, 0.7822525501251221, 0.7494412064552307, 0.7441960573196411, 0.7435417175292969, 0.7007479071617126, 0.6994382739067078, 0.6960824728012085, 0.687122106552124, 0.6831454038619995, 0.6792308688163757, 0.6781143546104431, 0.674902081489563, 0.6730450987815857, 0.6695341467857361, 0.6649101972579956, 0.6584140062332153, 0.6563217043876648, 0.6543200612068176, 0.6430776119232178, 0.6412330269813538, 0.6396949291229248, 0.6375808715820312, 0.632686197757721, 0.6320694088935852, 0.6280918121337891, 0.6280705332756042, 0.6262788772583008, 0.6262041926383972, 0.6256344318389893, 0.6225342750549316, 0.6204909682273865, 0.8384794592857361, 0.8082696199417114, 0.7899136543273926, 0.7804427742958069, 0.7574959993362427, 0.7532365322113037, 0.7496197819709778, 0.7487963438034058, 0.7332719564437866, 0.7268143892288208, 0.7203207015991211, 0.713735818862915, 0.7109434008598328, 0.7096844911575317, 0.7090149521827698, 0.7040271759033203, 0.7002789974212646, 0.7002286911010742, 0.6997091174125671, 0.6987114548683167, 0.6978825330734253, 0.6971360445022583, 0.6944179534912109, 0.6886051297187805, 0.6867284774780273, 0.6834675073623657, 0.6773210167884827, 0.6768895387649536, 0.6752415895462036, 0.6741973757743835, 0.6740973591804504, 0.8586907386779785, 0.8135305643081665, 0.7990320324897766, 0.7941647171974182, 0.7898855805397034, 0.7708399891853333, 0.7685853838920593, 0.7523269653320312, 0.742220401763916, 0.7421519160270691, 0.7396145462989807, 0.7360687255859375, 0.7334308624267578, 0.7296791076660156, 0.7284876108169556, 0.7260098457336426, 0.7255938053131104, 0.7235983610153198, 0.7191341519355774, 0.7179793119430542, 0.7144776582717896, 0.7127253413200378, 0.7114150524139404, 0.7105775475502014, 0.7064151763916016, 0.8433569073677063, 0.8127868175506592, 0.8036270141601562, 0.7859121561050415, 0.7841097116470337, 0.784053385257721, 0.7769440412521362, 0.7708798050880432, 0.7674300670623779, 0.766657292842865, 0.765328049659729, 0.752861499786377, 0.7516655325889587, 0.7493521571159363, 0.7483037114143372, 0.7461106777191162, 0.7299588322639465, 0.7298577427864075, 0.7245380282402039, 0.7229936122894287, 0.7217647433280945, 0.7115479111671448, 0.7085376381874084, 0.7027117609977722, 0.7016885876655579, 0.6999558806419373, 0.6992500424385071, 0.6992149353027344, 0.6819071173667908], \"xaxis\": \"x\", \"yaxis\": \"y\"}],\n",
              "                        {\"barmode\": \"relative\", \"legend\": {\"tracegroupgap\": 0}, \"template\": {\"data\": {\"bar\": [{\"error_x\": {\"color\": \"#2a3f5f\"}, \"error_y\": {\"color\": \"#2a3f5f\"}, \"marker\": {\"line\": {\"color\": \"#E5ECF6\", \"width\": 0.5}}, \"type\": \"bar\"}], \"barpolar\": [{\"marker\": {\"line\": {\"color\": \"#E5ECF6\", \"width\": 0.5}}, \"type\": \"barpolar\"}], \"carpet\": [{\"aaxis\": {\"endlinecolor\": \"#2a3f5f\", \"gridcolor\": \"white\", \"linecolor\": \"white\", \"minorgridcolor\": \"white\", \"startlinecolor\": \"#2a3f5f\"}, \"baxis\": {\"endlinecolor\": \"#2a3f5f\", \"gridcolor\": \"white\", \"linecolor\": \"white\", \"minorgridcolor\": \"white\", \"startlinecolor\": \"#2a3f5f\"}, \"type\": \"carpet\"}], \"choropleth\": [{\"colorbar\": {\"outlinewidth\": 0, \"ticks\": \"\"}, \"type\": \"choropleth\"}], \"contour\": [{\"colorbar\": {\"outlinewidth\": 0, \"ticks\": \"\"}, \"colorscale\": [[0.0, \"#0d0887\"], [0.1111111111111111, \"#46039f\"], [0.2222222222222222, \"#7201a8\"], [0.3333333333333333, \"#9c179e\"], [0.4444444444444444, \"#bd3786\"], [0.5555555555555556, \"#d8576b\"], [0.6666666666666666, \"#ed7953\"], [0.7777777777777778, \"#fb9f3a\"], [0.8888888888888888, \"#fdca26\"], [1.0, \"#f0f921\"]], \"type\": \"contour\"}], \"contourcarpet\": [{\"colorbar\": {\"outlinewidth\": 0, \"ticks\": \"\"}, \"type\": \"contourcarpet\"}], \"heatmap\": [{\"colorbar\": {\"outlinewidth\": 0, \"ticks\": \"\"}, \"colorscale\": [[0.0, \"#0d0887\"], [0.1111111111111111, \"#46039f\"], [0.2222222222222222, \"#7201a8\"], [0.3333333333333333, \"#9c179e\"], [0.4444444444444444, \"#bd3786\"], [0.5555555555555556, \"#d8576b\"], [0.6666666666666666, \"#ed7953\"], [0.7777777777777778, \"#fb9f3a\"], [0.8888888888888888, \"#fdca26\"], [1.0, \"#f0f921\"]], \"type\": \"heatmap\"}], \"heatmapgl\": [{\"colorbar\": {\"outlinewidth\": 0, \"ticks\": \"\"}, \"colorscale\": [[0.0, \"#0d0887\"], [0.1111111111111111, \"#46039f\"], [0.2222222222222222, \"#7201a8\"], [0.3333333333333333, \"#9c179e\"], [0.4444444444444444, \"#bd3786\"], [0.5555555555555556, \"#d8576b\"], [0.6666666666666666, \"#ed7953\"], [0.7777777777777778, \"#fb9f3a\"], [0.8888888888888888, \"#fdca26\"], [1.0, \"#f0f921\"]], \"type\": \"heatmapgl\"}], \"histogram\": [{\"marker\": {\"colorbar\": {\"outlinewidth\": 0, \"ticks\": \"\"}}, \"type\": \"histogram\"}], \"histogram2d\": [{\"colorbar\": {\"outlinewidth\": 0, \"ticks\": \"\"}, \"colorscale\": [[0.0, \"#0d0887\"], [0.1111111111111111, \"#46039f\"], [0.2222222222222222, \"#7201a8\"], [0.3333333333333333, \"#9c179e\"], [0.4444444444444444, \"#bd3786\"], [0.5555555555555556, \"#d8576b\"], [0.6666666666666666, \"#ed7953\"], [0.7777777777777778, \"#fb9f3a\"], [0.8888888888888888, \"#fdca26\"], [1.0, \"#f0f921\"]], \"type\": \"histogram2d\"}], \"histogram2dcontour\": [{\"colorbar\": {\"outlinewidth\": 0, \"ticks\": \"\"}, \"colorscale\": [[0.0, \"#0d0887\"], [0.1111111111111111, \"#46039f\"], [0.2222222222222222, \"#7201a8\"], [0.3333333333333333, \"#9c179e\"], [0.4444444444444444, \"#bd3786\"], [0.5555555555555556, \"#d8576b\"], [0.6666666666666666, \"#ed7953\"], [0.7777777777777778, \"#fb9f3a\"], [0.8888888888888888, \"#fdca26\"], [1.0, \"#f0f921\"]], \"type\": \"histogram2dcontour\"}], \"mesh3d\": [{\"colorbar\": {\"outlinewidth\": 0, \"ticks\": \"\"}, \"type\": \"mesh3d\"}], \"parcoords\": [{\"line\": {\"colorbar\": {\"outlinewidth\": 0, \"ticks\": \"\"}}, \"type\": \"parcoords\"}], \"pie\": [{\"automargin\": true, \"type\": \"pie\"}], \"scatter\": [{\"marker\": {\"colorbar\": {\"outlinewidth\": 0, \"ticks\": \"\"}}, \"type\": \"scatter\"}], \"scatter3d\": [{\"line\": {\"colorbar\": {\"outlinewidth\": 0, \"ticks\": \"\"}}, \"marker\": {\"colorbar\": {\"outlinewidth\": 0, \"ticks\": \"\"}}, \"type\": \"scatter3d\"}], \"scattercarpet\": [{\"marker\": {\"colorbar\": {\"outlinewidth\": 0, \"ticks\": \"\"}}, \"type\": \"scattercarpet\"}], \"scattergeo\": [{\"marker\": {\"colorbar\": {\"outlinewidth\": 0, \"ticks\": \"\"}}, \"type\": \"scattergeo\"}], \"scattergl\": [{\"marker\": {\"colorbar\": {\"outlinewidth\": 0, \"ticks\": \"\"}}, \"type\": \"scattergl\"}], \"scattermapbox\": [{\"marker\": {\"colorbar\": {\"outlinewidth\": 0, \"ticks\": \"\"}}, \"type\": \"scattermapbox\"}], \"scatterpolar\": [{\"marker\": {\"colorbar\": {\"outlinewidth\": 0, \"ticks\": \"\"}}, \"type\": \"scatterpolar\"}], \"scatterpolargl\": [{\"marker\": {\"colorbar\": {\"outlinewidth\": 0, \"ticks\": \"\"}}, \"type\": \"scatterpolargl\"}], \"scatterternary\": [{\"marker\": {\"colorbar\": {\"outlinewidth\": 0, \"ticks\": \"\"}}, \"type\": \"scatterternary\"}], \"surface\": [{\"colorbar\": {\"outlinewidth\": 0, \"ticks\": \"\"}, \"colorscale\": [[0.0, \"#0d0887\"], [0.1111111111111111, \"#46039f\"], [0.2222222222222222, \"#7201a8\"], [0.3333333333333333, \"#9c179e\"], [0.4444444444444444, \"#bd3786\"], [0.5555555555555556, \"#d8576b\"], [0.6666666666666666, \"#ed7953\"], [0.7777777777777778, \"#fb9f3a\"], [0.8888888888888888, \"#fdca26\"], [1.0, \"#f0f921\"]], \"type\": \"surface\"}], \"table\": [{\"cells\": {\"fill\": {\"color\": \"#EBF0F8\"}, \"line\": {\"color\": \"white\"}}, \"header\": {\"fill\": {\"color\": \"#C8D4E3\"}, \"line\": {\"color\": \"white\"}}, \"type\": \"table\"}]}, \"layout\": {\"annotationdefaults\": {\"arrowcolor\": \"#2a3f5f\", \"arrowhead\": 0, \"arrowwidth\": 1}, \"coloraxis\": {\"colorbar\": {\"outlinewidth\": 0, \"ticks\": \"\"}}, \"colorscale\": {\"diverging\": [[0, \"#8e0152\"], [0.1, \"#c51b7d\"], [0.2, \"#de77ae\"], [0.3, \"#f1b6da\"], [0.4, \"#fde0ef\"], [0.5, \"#f7f7f7\"], [0.6, \"#e6f5d0\"], [0.7, \"#b8e186\"], [0.8, \"#7fbc41\"], [0.9, \"#4d9221\"], [1, \"#276419\"]], \"sequential\": [[0.0, \"#0d0887\"], [0.1111111111111111, \"#46039f\"], [0.2222222222222222, \"#7201a8\"], [0.3333333333333333, \"#9c179e\"], [0.4444444444444444, \"#bd3786\"], [0.5555555555555556, \"#d8576b\"], [0.6666666666666666, \"#ed7953\"], [0.7777777777777778, \"#fb9f3a\"], [0.8888888888888888, \"#fdca26\"], [1.0, \"#f0f921\"]], \"sequentialminus\": [[0.0, \"#0d0887\"], [0.1111111111111111, \"#46039f\"], [0.2222222222222222, \"#7201a8\"], [0.3333333333333333, \"#9c179e\"], [0.4444444444444444, \"#bd3786\"], [0.5555555555555556, \"#d8576b\"], [0.6666666666666666, \"#ed7953\"], [0.7777777777777778, \"#fb9f3a\"], [0.8888888888888888, \"#fdca26\"], [1.0, \"#f0f921\"]]}, \"colorway\": [\"#636efa\", \"#EF553B\", \"#00cc96\", \"#ab63fa\", \"#FFA15A\", \"#19d3f3\", \"#FF6692\", \"#B6E880\", \"#FF97FF\", \"#FECB52\"], \"font\": {\"color\": \"#2a3f5f\"}, \"geo\": {\"bgcolor\": \"white\", \"lakecolor\": \"white\", \"landcolor\": \"#E5ECF6\", \"showlakes\": true, \"showland\": true, \"subunitcolor\": \"white\"}, \"hoverlabel\": {\"align\": \"left\"}, \"hovermode\": \"closest\", \"mapbox\": {\"style\": \"light\"}, \"paper_bgcolor\": \"white\", \"plot_bgcolor\": \"#E5ECF6\", \"polar\": {\"angularaxis\": {\"gridcolor\": \"white\", \"linecolor\": \"white\", \"ticks\": \"\"}, \"bgcolor\": \"#E5ECF6\", \"radialaxis\": {\"gridcolor\": \"white\", \"linecolor\": \"white\", \"ticks\": \"\"}}, \"scene\": {\"xaxis\": {\"backgroundcolor\": \"#E5ECF6\", \"gridcolor\": \"white\", \"gridwidth\": 2, \"linecolor\": \"white\", \"showbackground\": true, \"ticks\": \"\", \"zerolinecolor\": \"white\"}, \"yaxis\": {\"backgroundcolor\": \"#E5ECF6\", \"gridcolor\": \"white\", \"gridwidth\": 2, \"linecolor\": \"white\", \"showbackground\": true, \"ticks\": \"\", \"zerolinecolor\": \"white\"}, \"zaxis\": {\"backgroundcolor\": \"#E5ECF6\", \"gridcolor\": \"white\", \"gridwidth\": 2, \"linecolor\": \"white\", \"showbackground\": true, \"ticks\": \"\", \"zerolinecolor\": \"white\"}}, \"shapedefaults\": {\"line\": {\"color\": \"#2a3f5f\"}}, \"ternary\": {\"aaxis\": {\"gridcolor\": \"white\", \"linecolor\": \"white\", \"ticks\": \"\"}, \"baxis\": {\"gridcolor\": \"white\", \"linecolor\": \"white\", \"ticks\": \"\"}, \"bgcolor\": \"#E5ECF6\", \"caxis\": {\"gridcolor\": \"white\", \"linecolor\": \"white\", \"ticks\": \"\"}}, \"title\": {\"x\": 0.05}, \"xaxis\": {\"automargin\": true, \"gridcolor\": \"white\", \"linecolor\": \"white\", \"ticks\": \"\", \"title\": {\"standoff\": 15}, \"zerolinecolor\": \"white\", \"zerolinewidth\": 2}, \"yaxis\": {\"automargin\": true, \"gridcolor\": \"white\", \"linecolor\": \"white\", \"ticks\": \"\", \"title\": {\"standoff\": 15}, \"zerolinecolor\": \"white\", \"zerolinewidth\": 2}}}, \"title\": {\"text\": \"doc2vec sections\"}, \"xaxis\": {\"anchor\": \"y\", \"domain\": [0.0, 1.0], \"title\": {\"text\": \"score\"}}, \"yaxis\": {\"anchor\": \"x\", \"domain\": [0.0, 1.0], \"title\": {\"text\": \"count\"}}},\n",
              "                        {\"responsive\": true}\n",
              "                    ).then(function(){\n",
              "                            \n",
              "var gd = document.getElementById('2de7c5c7-0df7-4c2b-8cb9-45d8f4a424dd');\n",
              "var x = new MutationObserver(function (mutations, observer) {{\n",
              "        var display = window.getComputedStyle(gd).display;\n",
              "        if (!display || display === 'none') {{\n",
              "            console.log([gd, 'removed!']);\n",
              "            Plotly.purge(gd);\n",
              "            observer.disconnect();\n",
              "        }}\n",
              "}});\n",
              "\n",
              "// Listen for the removal of the full notebook cells\n",
              "var notebookContainer = gd.closest('#notebook-container');\n",
              "if (notebookContainer) {{\n",
              "    x.observe(notebookContainer, {childList: true});\n",
              "}}\n",
              "\n",
              "// Listen for the clearing of the current output cell\n",
              "var outputEl = gd.closest('.output');\n",
              "if (outputEl) {{\n",
              "    x.observe(outputEl, {childList: true});\n",
              "}}\n",
              "\n",
              "                        })\n",
              "                };\n",
              "                \n",
              "            </script>\n",
              "        </div>\n",
              "</body>\n",
              "</html>"
            ]
          },
          "metadata": {}
        }
      ]
    },
    {
      "cell_type": "code",
      "metadata": {
        "id": "OKeaqYxGPMZj"
      },
      "source": [
        "if use_wandb:\n",
        "  wandb.log({\"scores_hist\": fig})"
      ],
      "execution_count": 87,
      "outputs": []
    },
    {
      "cell_type": "code",
      "metadata": {
        "colab": {
          "base_uri": "https://localhost:8080/",
          "height": 1000
        },
        "id": "DgV3ccDr5Ux4",
        "outputId": "44e24534-d8b9-4b52-eacd-fa34575c5c21"
      },
      "source": [
        "result, details = recommend_tune(df_section_sim, 'Perdido')\n",
        "result.head(50)"
      ],
      "execution_count": 88,
      "outputs": [
        {
          "output_type": "execute_result",
          "data": {
            "text/html": [
              "<div>\n",
              "<style scoped>\n",
              "    .dataframe tbody tr th:only-of-type {\n",
              "        vertical-align: middle;\n",
              "    }\n",
              "\n",
              "    .dataframe tbody tr th {\n",
              "        vertical-align: top;\n",
              "    }\n",
              "\n",
              "    .dataframe thead th {\n",
              "        text-align: right;\n",
              "    }\n",
              "</style>\n",
              "<table border=\"1\" class=\"dataframe\">\n",
              "  <thead>\n",
              "    <tr style=\"text-align: right;\">\n",
              "      <th></th>\n",
              "      <th>index</th>\n",
              "      <th>reference</th>\n",
              "      <th>similar_title</th>\n",
              "      <th>score</th>\n",
              "      <th>max</th>\n",
              "      <th>score_div_max</th>\n",
              "    </tr>\n",
              "  </thead>\n",
              "  <tbody>\n",
              "    <tr>\n",
              "      <th>0</th>\n",
              "      <td>0</td>\n",
              "      <td>Perdido</td>\n",
              "      <td>A Tisket A Tasket</td>\n",
              "      <td>0.945694</td>\n",
              "      <td>0.945694</td>\n",
              "      <td>1.000000</td>\n",
              "    </tr>\n",
              "    <tr>\n",
              "      <th>1</th>\n",
              "      <td>1</td>\n",
              "      <td>Perdido</td>\n",
              "      <td>Flintstones</td>\n",
              "      <td>0.948498</td>\n",
              "      <td>0.948498</td>\n",
              "      <td>1.000000</td>\n",
              "    </tr>\n",
              "    <tr>\n",
              "      <th>2</th>\n",
              "      <td>2</td>\n",
              "      <td>Perdido</td>\n",
              "      <td>Stars Fell On Alabama</td>\n",
              "      <td>0.944612</td>\n",
              "      <td>0.944612</td>\n",
              "      <td>1.000000</td>\n",
              "    </tr>\n",
              "    <tr>\n",
              "      <th>3</th>\n",
              "      <td>3</td>\n",
              "      <td>Perdido</td>\n",
              "      <td>Moose The Mooche</td>\n",
              "      <td>0.948116</td>\n",
              "      <td>0.948498</td>\n",
              "      <td>0.999597</td>\n",
              "    </tr>\n",
              "    <tr>\n",
              "      <th>4</th>\n",
              "      <td>4</td>\n",
              "      <td>Perdido</td>\n",
              "      <td>Passport</td>\n",
              "      <td>0.947823</td>\n",
              "      <td>0.948498</td>\n",
              "      <td>0.999289</td>\n",
              "    </tr>\n",
              "    <tr>\n",
              "      <th>5</th>\n",
              "      <td>5</td>\n",
              "      <td>Perdido</td>\n",
              "      <td>Salt Peanuts</td>\n",
              "      <td>0.946370</td>\n",
              "      <td>0.948498</td>\n",
              "      <td>0.997757</td>\n",
              "    </tr>\n",
              "    <tr>\n",
              "      <th>6</th>\n",
              "      <td>6</td>\n",
              "      <td>Perdido</td>\n",
              "      <td>Happy Days And Lonely Nights</td>\n",
              "      <td>0.919735</td>\n",
              "      <td>0.948498</td>\n",
              "      <td>0.995986</td>\n",
              "    </tr>\n",
              "    <tr>\n",
              "      <th>7</th>\n",
              "      <td>7</td>\n",
              "      <td>Perdido</td>\n",
              "      <td>Under A Blanket Of Blue</td>\n",
              "      <td>0.923720</td>\n",
              "      <td>0.945694</td>\n",
              "      <td>0.992905</td>\n",
              "    </tr>\n",
              "    <tr>\n",
              "      <th>8</th>\n",
              "      <td>8</td>\n",
              "      <td>Perdido</td>\n",
              "      <td>Crazy He Calls Me</td>\n",
              "      <td>0.936786</td>\n",
              "      <td>0.945694</td>\n",
              "      <td>0.990581</td>\n",
              "    </tr>\n",
              "    <tr>\n",
              "      <th>9</th>\n",
              "      <td>9</td>\n",
              "      <td>Perdido</td>\n",
              "      <td>Dexterity</td>\n",
              "      <td>0.938398</td>\n",
              "      <td>0.948498</td>\n",
              "      <td>0.989351</td>\n",
              "    </tr>\n",
              "    <tr>\n",
              "      <th>10</th>\n",
              "      <td>10</td>\n",
              "      <td>Perdido</td>\n",
              "      <td>No Moe</td>\n",
              "      <td>0.932315</td>\n",
              "      <td>0.948498</td>\n",
              "      <td>0.982939</td>\n",
              "    </tr>\n",
              "    <tr>\n",
              "      <th>11</th>\n",
              "      <td>11</td>\n",
              "      <td>Perdido</td>\n",
              "      <td>Just Squeeze Me</td>\n",
              "      <td>0.921079</td>\n",
              "      <td>0.945694</td>\n",
              "      <td>0.982466</td>\n",
              "    </tr>\n",
              "    <tr>\n",
              "      <th>12</th>\n",
              "      <td>12</td>\n",
              "      <td>Perdido</td>\n",
              "      <td>Two Not One</td>\n",
              "      <td>0.931572</td>\n",
              "      <td>0.948498</td>\n",
              "      <td>0.982155</td>\n",
              "    </tr>\n",
              "    <tr>\n",
              "      <th>13</th>\n",
              "      <td>13</td>\n",
              "      <td>Perdido</td>\n",
              "      <td>You Belong To Me</td>\n",
              "      <td>0.906277</td>\n",
              "      <td>0.923441</td>\n",
              "      <td>0.981412</td>\n",
              "    </tr>\n",
              "    <tr>\n",
              "      <th>14</th>\n",
              "      <td>14</td>\n",
              "      <td>Perdido</td>\n",
              "      <td>Cool One, The</td>\n",
              "      <td>0.918701</td>\n",
              "      <td>0.945694</td>\n",
              "      <td>0.979558</td>\n",
              "    </tr>\n",
              "    <tr>\n",
              "      <th>15</th>\n",
              "      <td>15</td>\n",
              "      <td>Perdido</td>\n",
              "      <td>Oleo</td>\n",
              "      <td>0.927728</td>\n",
              "      <td>0.948498</td>\n",
              "      <td>0.978102</td>\n",
              "    </tr>\n",
              "    <tr>\n",
              "      <th>16</th>\n",
              "      <td>16</td>\n",
              "      <td>Perdido</td>\n",
              "      <td>Shaw 'Nuff</td>\n",
              "      <td>0.925045</td>\n",
              "      <td>0.948498</td>\n",
              "      <td>0.975274</td>\n",
              "    </tr>\n",
              "    <tr>\n",
              "      <th>17</th>\n",
              "      <td>17</td>\n",
              "      <td>Perdido</td>\n",
              "      <td>A Fine Romance</td>\n",
              "      <td>0.918046</td>\n",
              "      <td>0.944612</td>\n",
              "      <td>0.971877</td>\n",
              "    </tr>\n",
              "    <tr>\n",
              "      <th>18</th>\n",
              "      <td>18</td>\n",
              "      <td>Perdido</td>\n",
              "      <td>Forever Sonny</td>\n",
              "      <td>0.920227</td>\n",
              "      <td>0.948498</td>\n",
              "      <td>0.970194</td>\n",
              "    </tr>\n",
              "    <tr>\n",
              "      <th>19</th>\n",
              "      <td>19</td>\n",
              "      <td>Perdido</td>\n",
              "      <td>Sunday</td>\n",
              "      <td>0.917295</td>\n",
              "      <td>0.948498</td>\n",
              "      <td>0.967103</td>\n",
              "    </tr>\n",
              "    <tr>\n",
              "      <th>20</th>\n",
              "      <td>20</td>\n",
              "      <td>Perdido</td>\n",
              "      <td>Don't Take Your Love From Me</td>\n",
              "      <td>0.913660</td>\n",
              "      <td>0.945694</td>\n",
              "      <td>0.966126</td>\n",
              "    </tr>\n",
              "    <tr>\n",
              "      <th>21</th>\n",
              "      <td>21</td>\n",
              "      <td>Perdido</td>\n",
              "      <td>Love Is Just Around The Corner</td>\n",
              "      <td>0.912467</td>\n",
              "      <td>0.944612</td>\n",
              "      <td>0.965970</td>\n",
              "    </tr>\n",
              "    <tr>\n",
              "      <th>22</th>\n",
              "      <td>22</td>\n",
              "      <td>Perdido</td>\n",
              "      <td>There'll Be Some Changes Made</td>\n",
              "      <td>0.914444</td>\n",
              "      <td>0.948498</td>\n",
              "      <td>0.964097</td>\n",
              "    </tr>\n",
              "    <tr>\n",
              "      <th>23</th>\n",
              "      <td>23</td>\n",
              "      <td>Perdido</td>\n",
              "      <td>Them There Eyes</td>\n",
              "      <td>0.914182</td>\n",
              "      <td>0.948498</td>\n",
              "      <td>0.963820</td>\n",
              "    </tr>\n",
              "    <tr>\n",
              "      <th>24</th>\n",
              "      <td>24</td>\n",
              "      <td>Perdido</td>\n",
              "      <td>Confessin' (That I Love You)</td>\n",
              "      <td>0.908976</td>\n",
              "      <td>0.945694</td>\n",
              "      <td>0.962275</td>\n",
              "    </tr>\n",
              "    <tr>\n",
              "      <th>25</th>\n",
              "      <td>25</td>\n",
              "      <td>Perdido</td>\n",
              "      <td>Four Brothers</td>\n",
              "      <td>0.909928</td>\n",
              "      <td>0.945694</td>\n",
              "      <td>0.962180</td>\n",
              "    </tr>\n",
              "    <tr>\n",
              "      <th>26</th>\n",
              "      <td>26</td>\n",
              "      <td>Perdido</td>\n",
              "      <td>Mambo Inn</td>\n",
              "      <td>0.908555</td>\n",
              "      <td>0.944612</td>\n",
              "      <td>0.961829</td>\n",
              "    </tr>\n",
              "    <tr>\n",
              "      <th>27</th>\n",
              "      <td>27</td>\n",
              "      <td>Perdido</td>\n",
              "      <td>Sometimes I'm Happy</td>\n",
              "      <td>0.908326</td>\n",
              "      <td>0.945694</td>\n",
              "      <td>0.961587</td>\n",
              "    </tr>\n",
              "    <tr>\n",
              "      <th>28</th>\n",
              "      <td>28</td>\n",
              "      <td>Perdido</td>\n",
              "      <td>At Long Last Love</td>\n",
              "      <td>0.908261</td>\n",
              "      <td>0.945694</td>\n",
              "      <td>0.960417</td>\n",
              "    </tr>\n",
              "    <tr>\n",
              "      <th>29</th>\n",
              "      <td>29</td>\n",
              "      <td>Perdido</td>\n",
              "      <td>Valse Hot</td>\n",
              "      <td>0.906309</td>\n",
              "      <td>0.944612</td>\n",
              "      <td>0.959452</td>\n",
              "    </tr>\n",
              "    <tr>\n",
              "      <th>30</th>\n",
              "      <td>30</td>\n",
              "      <td>Perdido</td>\n",
              "      <td>I Got Rhythm</td>\n",
              "      <td>0.909939</td>\n",
              "      <td>0.948498</td>\n",
              "      <td>0.959348</td>\n",
              "    </tr>\n",
              "    <tr>\n",
              "      <th>31</th>\n",
              "      <td>31</td>\n",
              "      <td>Perdido</td>\n",
              "      <td>How Are Things In Glocca Morra</td>\n",
              "      <td>0.904255</td>\n",
              "      <td>0.945694</td>\n",
              "      <td>0.956181</td>\n",
              "    </tr>\n",
              "    <tr>\n",
              "      <th>32</th>\n",
              "      <td>32</td>\n",
              "      <td>Perdido</td>\n",
              "      <td>Day In, Day Out</td>\n",
              "      <td>0.903929</td>\n",
              "      <td>0.945694</td>\n",
              "      <td>0.955836</td>\n",
              "    </tr>\n",
              "    <tr>\n",
              "      <th>33</th>\n",
              "      <td>33</td>\n",
              "      <td>Perdido</td>\n",
              "      <td>Cottontail</td>\n",
              "      <td>0.906539</td>\n",
              "      <td>0.948498</td>\n",
              "      <td>0.955763</td>\n",
              "    </tr>\n",
              "    <tr>\n",
              "      <th>34</th>\n",
              "      <td>34</td>\n",
              "      <td>Perdido</td>\n",
              "      <td>I Love Being Here With You</td>\n",
              "      <td>0.906203</td>\n",
              "      <td>0.948498</td>\n",
              "      <td>0.955408</td>\n",
              "    </tr>\n",
              "    <tr>\n",
              "      <th>35</th>\n",
              "      <td>35</td>\n",
              "      <td>Perdido</td>\n",
              "      <td>As Time Goes By</td>\n",
              "      <td>0.902110</td>\n",
              "      <td>0.945694</td>\n",
              "      <td>0.953913</td>\n",
              "    </tr>\n",
              "    <tr>\n",
              "      <th>36</th>\n",
              "      <td>36</td>\n",
              "      <td>Perdido</td>\n",
              "      <td>Theme, The</td>\n",
              "      <td>0.902603</td>\n",
              "      <td>0.948498</td>\n",
              "      <td>0.951613</td>\n",
              "    </tr>\n",
              "    <tr>\n",
              "      <th>37</th>\n",
              "      <td>37</td>\n",
              "      <td>Perdido</td>\n",
              "      <td>Our Love is Here to Stay</td>\n",
              "      <td>0.898523</td>\n",
              "      <td>0.945694</td>\n",
              "      <td>0.951209</td>\n",
              "    </tr>\n",
              "    <tr>\n",
              "      <th>38</th>\n",
              "      <td>38</td>\n",
              "      <td>Perdido</td>\n",
              "      <td>Lady is a Tramp, The</td>\n",
              "      <td>0.899274</td>\n",
              "      <td>0.945694</td>\n",
              "      <td>0.950915</td>\n",
              "    </tr>\n",
              "    <tr>\n",
              "      <th>39</th>\n",
              "      <td>39</td>\n",
              "      <td>Perdido</td>\n",
              "      <td>Irresistable You</td>\n",
              "      <td>0.898573</td>\n",
              "      <td>0.945694</td>\n",
              "      <td>0.950173</td>\n",
              "    </tr>\n",
              "    <tr>\n",
              "      <th>40</th>\n",
              "      <td>40</td>\n",
              "      <td>Perdido</td>\n",
              "      <td>Always</td>\n",
              "      <td>0.898065</td>\n",
              "      <td>0.945694</td>\n",
              "      <td>0.949636</td>\n",
              "    </tr>\n",
              "    <tr>\n",
              "      <th>41</th>\n",
              "      <td>41</td>\n",
              "      <td>Perdido</td>\n",
              "      <td>I Get A Kick Out Of You</td>\n",
              "      <td>0.896293</td>\n",
              "      <td>0.944612</td>\n",
              "      <td>0.948848</td>\n",
              "    </tr>\n",
              "    <tr>\n",
              "      <th>42</th>\n",
              "      <td>42</td>\n",
              "      <td>Perdido</td>\n",
              "      <td>My Little Suede Shoes</td>\n",
              "      <td>0.897228</td>\n",
              "      <td>0.945694</td>\n",
              "      <td>0.948751</td>\n",
              "    </tr>\n",
              "    <tr>\n",
              "      <th>43</th>\n",
              "      <td>43</td>\n",
              "      <td>Perdido</td>\n",
              "      <td>Rhythm-a-ning</td>\n",
              "      <td>0.899524</td>\n",
              "      <td>0.948498</td>\n",
              "      <td>0.948366</td>\n",
              "    </tr>\n",
              "    <tr>\n",
              "      <th>44</th>\n",
              "      <td>44</td>\n",
              "      <td>Perdido</td>\n",
              "      <td>Little Peace In C For You</td>\n",
              "      <td>0.898801</td>\n",
              "      <td>0.948498</td>\n",
              "      <td>0.947605</td>\n",
              "    </tr>\n",
              "    <tr>\n",
              "      <th>45</th>\n",
              "      <td>45</td>\n",
              "      <td>Perdido</td>\n",
              "      <td>Chicago</td>\n",
              "      <td>0.895753</td>\n",
              "      <td>0.945694</td>\n",
              "      <td>0.947191</td>\n",
              "    </tr>\n",
              "    <tr>\n",
              "      <th>46</th>\n",
              "      <td>46</td>\n",
              "      <td>Perdido</td>\n",
              "      <td>Robbin's Nest</td>\n",
              "      <td>0.897653</td>\n",
              "      <td>0.948498</td>\n",
              "      <td>0.946394</td>\n",
              "    </tr>\n",
              "    <tr>\n",
              "      <th>47</th>\n",
              "      <td>47</td>\n",
              "      <td>Perdido</td>\n",
              "      <td>I've Found A New Baby</td>\n",
              "      <td>0.897097</td>\n",
              "      <td>0.948498</td>\n",
              "      <td>0.945808</td>\n",
              "    </tr>\n",
              "    <tr>\n",
              "      <th>48</th>\n",
              "      <td>48</td>\n",
              "      <td>Perdido</td>\n",
              "      <td>Cynthia's In Love</td>\n",
              "      <td>0.893254</td>\n",
              "      <td>0.945694</td>\n",
              "      <td>0.944548</td>\n",
              "    </tr>\n",
              "    <tr>\n",
              "      <th>49</th>\n",
              "      <td>49</td>\n",
              "      <td>Perdido</td>\n",
              "      <td>On A Clear Day</td>\n",
              "      <td>0.890078</td>\n",
              "      <td>0.945694</td>\n",
              "      <td>0.941190</td>\n",
              "    </tr>\n",
              "  </tbody>\n",
              "</table>\n",
              "</div>"
            ],
            "text/plain": [
              "    index reference  ...       max  score_div_max\n",
              "0       0   Perdido  ...  0.945694       1.000000\n",
              "1       1   Perdido  ...  0.948498       1.000000\n",
              "2       2   Perdido  ...  0.944612       1.000000\n",
              "3       3   Perdido  ...  0.948498       0.999597\n",
              "4       4   Perdido  ...  0.948498       0.999289\n",
              "5       5   Perdido  ...  0.948498       0.997757\n",
              "6       6   Perdido  ...  0.948498       0.995986\n",
              "7       7   Perdido  ...  0.945694       0.992905\n",
              "8       8   Perdido  ...  0.945694       0.990581\n",
              "9       9   Perdido  ...  0.948498       0.989351\n",
              "10     10   Perdido  ...  0.948498       0.982939\n",
              "11     11   Perdido  ...  0.945694       0.982466\n",
              "12     12   Perdido  ...  0.948498       0.982155\n",
              "13     13   Perdido  ...  0.923441       0.981412\n",
              "14     14   Perdido  ...  0.945694       0.979558\n",
              "15     15   Perdido  ...  0.948498       0.978102\n",
              "16     16   Perdido  ...  0.948498       0.975274\n",
              "17     17   Perdido  ...  0.944612       0.971877\n",
              "18     18   Perdido  ...  0.948498       0.970194\n",
              "19     19   Perdido  ...  0.948498       0.967103\n",
              "20     20   Perdido  ...  0.945694       0.966126\n",
              "21     21   Perdido  ...  0.944612       0.965970\n",
              "22     22   Perdido  ...  0.948498       0.964097\n",
              "23     23   Perdido  ...  0.948498       0.963820\n",
              "24     24   Perdido  ...  0.945694       0.962275\n",
              "25     25   Perdido  ...  0.945694       0.962180\n",
              "26     26   Perdido  ...  0.944612       0.961829\n",
              "27     27   Perdido  ...  0.945694       0.961587\n",
              "28     28   Perdido  ...  0.945694       0.960417\n",
              "29     29   Perdido  ...  0.944612       0.959452\n",
              "30     30   Perdido  ...  0.948498       0.959348\n",
              "31     31   Perdido  ...  0.945694       0.956181\n",
              "32     32   Perdido  ...  0.945694       0.955836\n",
              "33     33   Perdido  ...  0.948498       0.955763\n",
              "34     34   Perdido  ...  0.948498       0.955408\n",
              "35     35   Perdido  ...  0.945694       0.953913\n",
              "36     36   Perdido  ...  0.948498       0.951613\n",
              "37     37   Perdido  ...  0.945694       0.951209\n",
              "38     38   Perdido  ...  0.945694       0.950915\n",
              "39     39   Perdido  ...  0.945694       0.950173\n",
              "40     40   Perdido  ...  0.945694       0.949636\n",
              "41     41   Perdido  ...  0.944612       0.948848\n",
              "42     42   Perdido  ...  0.945694       0.948751\n",
              "43     43   Perdido  ...  0.948498       0.948366\n",
              "44     44   Perdido  ...  0.948498       0.947605\n",
              "45     45   Perdido  ...  0.945694       0.947191\n",
              "46     46   Perdido  ...  0.948498       0.946394\n",
              "47     47   Perdido  ...  0.948498       0.945808\n",
              "48     48   Perdido  ...  0.945694       0.944548\n",
              "49     49   Perdido  ...  0.945694       0.941190\n",
              "\n",
              "[50 rows x 6 columns]"
            ]
          },
          "metadata": {},
          "execution_count": 88
        }
      ]
    },
    {
      "cell_type": "code",
      "metadata": {
        "id": "hLFaFo62XlMS",
        "colab": {
          "base_uri": "https://localhost:8080/"
        },
        "outputId": "d6be1334-b57a-433a-c8f4-eac2cfdae25e"
      },
      "source": [
        "dd = pd.DataFrame(columns = recommender_results_cols)\n",
        "\n",
        "for tune in tunes_eval_list:\n",
        "  result, details = recommend_tune(df_sim, tune)\n",
        "  dd['id'] = result['index']\n",
        "  dd['reference'] = tune\n",
        "  dd['method'] = 'doc2vec'\n",
        "  dd['similar'] = result['similar_title']\n",
        "  dd['score_div_max'] = result['score_div_max']\n",
        "  dd['score'] = result['score']\n",
        "\n",
        "recommender_results = recommender_results.append(dd)\n",
        "len(recommender_results)"
      ],
      "execution_count": 89,
      "outputs": [
        {
          "output_type": "execute_result",
          "data": {
            "text/plain": [
              "211"
            ]
          },
          "metadata": {},
          "execution_count": 89
        }
      ]
    },
    {
      "cell_type": "markdown",
      "metadata": {
        "id": "aosPKEWljlm0"
      },
      "source": [
        "### Contrafacts"
      ]
    },
    {
      "cell_type": "code",
      "metadata": {
        "id": "SaYSqTJokGc5"
      },
      "source": [
        "def test_doc2vec_contrafacts(tunes, N=15):\n",
        "  matches = 0\n",
        "  number_of_sections = 0\n",
        "  results = {}\n",
        "\n",
        "  for tune, similar_tune in contrafacts.items():\n",
        "    \n",
        "    # loop over all sections of the tune\n",
        "    sub_match = 0\n",
        "    for s1 in title_to_sectionid[tune]:\n",
        "      sims = model.dv.similar_by_key(s1, topn=N)\n",
        "      # check if the section matches the expected title; consider only the first 15 recommendations\n",
        "      i = 0\n",
        "      for match, value in sims:\n",
        "        # tune match\n",
        "        if (type(match) == str):\n",
        "          titleid = int(match.replace('titleid_', ''))\n",
        "          if titleid_to_title[titleid] == similar_tune:\n",
        "            sub_match += 1\n",
        "\n",
        "        # section match\n",
        "        else:\n",
        "          if sectionid_to_title[match] == similar_tune:\n",
        "            sub_match += 1\n",
        "\n",
        "    # for each title, increase matches if at least one of the section matched the expected title\n",
        "    if sub_match > 0:\n",
        "      matches += 1  \n",
        "      results[tune] = 1\n",
        "    else:\n",
        "      results[tune] = 0\n",
        "  \n",
        "  return matches, results"
      ],
      "execution_count": 90,
      "outputs": []
    },
    {
      "cell_type": "code",
      "metadata": {
        "colab": {
          "base_uri": "https://localhost:8080/"
        },
        "id": "eAjM3lU4ltzP",
        "outputId": "48603d1c-16a7-4eba-b137-b7873bf964b5"
      },
      "source": [
        "topN = 15\n",
        "matches, results = test_doc2vec_contrafacts(contrafacts, topN)\n",
        "\n",
        "[print(f\"{val}: {rr}\") for rr, val in results.items()] \n",
        "print() \n",
        "print(f\"Found matches: {matches} out of {len(contrafacts)}: {100*matches/len(contrafacts):.3f}%\")"
      ],
      "execution_count": 91,
      "outputs": [
        {
          "output_type": "stream",
          "name": "stdout",
          "text": [
            "0: 26-2\n",
            "0: 52nd Street Theme\n",
            "1: Ablution\n",
            "1: Anthropology\n",
            "1: Ballade\n",
            "1: Bright Mississippi\n",
            "1: C.T.A.\n",
            "1: Cottontail\n",
            "0: Countdown\n",
            "0: Dewey Square\n",
            "0: Dexterity\n",
            "1: Dig\n",
            "1: Donna Lee\n",
            "0: Don't Be That Way\n",
            "0: Evidence\n",
            "1: Flintstones\n",
            "0: Four On Six\n",
            "1: Freight Train\n",
            "0: Good Bait\n",
            "1: Hackensack\n",
            "1: Half Nelson\n",
            "1: Hot House\n",
            "1: Impressions\n",
            "0: In A Mellow Tone (In A Mellotone)\n",
            "1: In Walked Bud\n",
            "1: Ko Ko\n",
            "0: Lennie's Pennies\n",
            "0: Little Rootie Tootie\n",
            "0: Little Willie Leaps\n",
            "0: Lullaby Of Birdland\n",
            "0: My Little Suede Shoes\n",
            "1: Ornithology\n",
            "0: Quasimodo (Theme)\n",
            "0: Room 608\n",
            "1: Satellite\n",
            "0: Scrapple From The Apple\n",
            "0: Tour De Force\n",
            "1: Wow\n",
            "1: Yardbird Suite\n",
            "0: Sweet Sue, Just You\n",
            "0: These Foolish Things\n",
            "1: Misty\n",
            "\n",
            "Found matches: 21 out of 42: 50.000%\n"
          ]
        }
      ]
    },
    {
      "cell_type": "code",
      "metadata": {
        "id": "8C0kzj0Jp425"
      },
      "source": [
        "model_name = 'doc2vec'\n",
        "if use_wandb:\n",
        "  wandb.log(\n",
        "      {model_name: {\n",
        "                'contrafacts': {\n",
        "                    'topN': topN,\n",
        "                    'success': matches/len(contrafacts),\n",
        "                    #'results': results\n",
        "                    }\n",
        "                   },\n",
        "       'all_models': {\n",
        "           model_name: wandb.Table(\n",
        "               columns=[\"Title\", \"Match\"],\n",
        "               data=[[key, value] for key, value in results.items()]),\n",
        "       }\n",
        "       })"
      ],
      "execution_count": 92,
      "outputs": []
    },
    {
      "cell_type": "markdown",
      "metadata": {
        "id": "ryEvGZqYDsMb"
      },
      "source": [
        "## Document Similarity\n"
      ]
    },
    {
      "cell_type": "markdown",
      "metadata": {
        "id": "aHHyAjtljQon"
      },
      "source": [
        "### Single Tunes"
      ]
    },
    {
      "cell_type": "markdown",
      "metadata": {
        "id": "o-eOM9DiFdAt"
      },
      "source": [
        "The TitleId is tagged with the prefix `title_id`, so that it can be distinguished from the sectionid tags, which are numeric."
      ]
    },
    {
      "cell_type": "code",
      "metadata": {
        "colab": {
          "base_uri": "https://localhost:8080/"
        },
        "id": "KRd6qAdY5Z4g",
        "outputId": "09a3921a-6911-4229-86bd-911ebf64ca01"
      },
      "source": [
        "tunes_eval_list"
      ],
      "execution_count": 93,
      "outputs": [
        {
          "output_type": "execute_result",
          "data": {
            "text/plain": [
              "[\"After You've Gone\",\n",
              " \"All God's Chillun Got Rhythm\",\n",
              " 'All Of Me',\n",
              " 'Blood Count',\n",
              " 'Blue Moon',\n",
              " 'But Beautiful',\n",
              " 'Bye Bye Blackbird',\n",
              " 'Call Me Irresponsible',\n",
              " 'Corcovado',\n",
              " 'Dinah',\n",
              " 'East Of The Sun',\n",
              " 'Footprints',\n",
              " 'Giant Steps',\n",
              " 'Honeysuckle Rose',\n",
              " 'I Got Rhythm',\n",
              " 'Misty',\n",
              " 'Naima',\n",
              " 'Old Fashioned Love',\n",
              " 'Perdido',\n",
              " \"Rockin' Chair\",\n",
              " 'Sophisticated Lady',\n",
              " 'Sweet Sue, Just You',\n",
              " 'These Foolish Things',\n",
              " \"We'll Be Together Again\"]"
            ]
          },
          "metadata": {},
          "execution_count": 93
        }
      ]
    },
    {
      "cell_type": "code",
      "metadata": {
        "colab": {
          "base_uri": "https://localhost:8080/"
        },
        "id": "sHWTJtJ_HyoJ",
        "outputId": "6f34c786-189e-41ce-e5c1-acf31faa590c"
      },
      "source": [
        "# convert titles to titleid; if multiple tunes with same title, takes the first one. \n",
        "titleid_eval = []\n",
        "for title in tunes_eval_list:\n",
        "  titleid_eval.append(titles.query(f'title == \"{title}\"').reset_index().loc[0,'tune_id'])\n",
        "titleid_eval"
      ],
      "execution_count": 94,
      "outputs": [
        {
          "output_type": "execute_result",
          "data": {
            "text/plain": [
              "[38,\n",
              " 57,\n",
              " 60,\n",
              " 149,\n",
              " 159,\n",
              " 199,\n",
              " 206,\n",
              " 213,\n",
              " 257,\n",
              " 308,\n",
              " 341,\n",
              " 392,\n",
              " 425,\n",
              " 472,\n",
              " 505,\n",
              " 805,\n",
              " 859,\n",
              " 1639,\n",
              " 949,\n",
              " 993,\n",
              " 1080,\n",
              " 1136,\n",
              " 1168,\n",
              " 1257]"
            ]
          },
          "metadata": {},
          "execution_count": 94
        }
      ]
    },
    {
      "cell_type": "code",
      "metadata": {
        "colab": {
          "base_uri": "https://localhost:8080/"
        },
        "id": "XKO9wonAHsch",
        "outputId": "92d4198c-2519-4ebe-a4d2-816cbfc9a827"
      },
      "source": [
        "for titleid in titleid_eval:\n",
        "  print()\n",
        "  print(titleid_to_title[titleid])\n",
        "  sims = model.dv.similar_by_key(f'titleid_{titleid}', topn=30)\n",
        "  for key, value in sims:\n",
        "    if type(key) == str:  # only display document similarities, skip all section similarities\n",
        "      print(f\"{value:.3f} {titleid_to_title[int(key.replace('titleid_', ''))]}\")\n"
      ],
      "execution_count": 95,
      "outputs": [
        {
          "output_type": "stream",
          "name": "stdout",
          "text": [
            "\n",
            "After You've Gone\n",
            "0.866 Deed I Do\n",
            "0.859 What'll I Do\n",
            "0.850 Easy Street\n",
            "0.848 I Want To Talk About You\n",
            "0.833 Dewey Square\n",
            "0.827 I Didn't Know About You\n",
            "0.805 All Too Soon\n",
            "0.801 September In The Rain\n",
            "0.797 Dexterity\n",
            "0.797 Scotch And Soda\n",
            "0.794 Just You, Just Me\n",
            "0.790 It's Easy To Remember\n",
            "0.790 Straight Life\n",
            "0.789 I Can't Believe...You're In Love...\n",
            "0.788 You Are Too Beautiful\n",
            "\n",
            "All God's Chillun Got Rhythm\n",
            "0.956 Let's Get Lost\n",
            "0.948 Come Back To Me\n",
            "0.938 But Beautiful\n",
            "0.900 I'm Getting Sentimental Over You\n",
            "0.894 Too Young To Go Steady\n",
            "0.889 Lullaby Of Birdland\n",
            "0.889 This Is All I Ask\n",
            "0.888 Cool One, The\n",
            "0.882 I've Got My Love To Keep Me Warm\n",
            "0.869 I've Grown Accustomed To Her Face\n",
            "\n",
            "All Of Me\n",
            "0.906 I'll Be Seeing You\n",
            "0.861 Roses Of Picardy\n",
            "0.857 Martha (Maizie)\n",
            "0.857 As Long As I Live\n",
            "0.854 Nice 'n Easy\n",
            "0.849 Shine\n",
            "0.848 Shine\n",
            "0.846 Let's Fall In Love\n",
            "0.835 Lazy Afternoon\n",
            "0.833 Donna Lee\n",
            "\n",
            "Blood Count\n",
            "0.836 Naima\n",
            "0.803 Sweet And Lovely\n",
            "0.795 Pensativa\n",
            "0.770 Sweet Georgia Bright\n",
            "0.760 Epistrophy\n",
            "0.757 Maiden Voyage\n",
            "0.747 Recordame\n",
            "0.737 Midnight Sun\n",
            "\n",
            "Blue Moon\n",
            "0.775 It's Just Talk\n",
            "0.774 Jody Grind, The\n",
            "0.762 Friday The 13th\n",
            "0.754 Criss Cross\n",
            "0.735 Will You Still Be Mine\n",
            "0.734 My Ideal\n",
            "0.733 East Of The Sun\n",
            "0.732 Everything I Have Is Yours\n",
            "0.731 Jersey Bounce\n",
            "0.720 Black And Blue\n",
            "0.718 Bye Bye Blues\n",
            "\n",
            "But Beautiful\n",
            "0.942 Let's Get Lost\n",
            "0.938 All God's Chillun Got Rhythm\n",
            "0.912 San Francisco Holiday\n",
            "0.902 Lullaby Of Birdland\n",
            "0.890 Try A Little Tenderness\n",
            "0.869 One I Love (Belongs To Somebody Else), The\n",
            "0.869 I'm Getting Sentimental Over You\n",
            "0.866 This Is All I Ask\n",
            "0.860 Besame Mucho\n",
            "\n",
            "Bye Bye Blackbird\n",
            "0.915 Sometime Ago\n",
            "0.896 In The Wee Small Hours Of The Morning\n",
            "0.886 You Can Depend On Me\n",
            "0.885 You're Lucky To Me\n",
            "0.882 Try A Little Tenderness\n",
            "0.880 For All We Know\n",
            "0.878 Young At Heart\n",
            "0.865 It's Been A Long Long Time\n",
            "\n",
            "Call Me Irresponsible\n",
            "0.930 It Could Happen To You\n",
            "0.878 In A Little Spanish Town\n",
            "0.868 Sheik Of Araby\n",
            "0.862 You Made Me Love You\n",
            "0.856 Imagination\n",
            "0.853 Young And Foolish\n",
            "0.850 Second Time Around, The\n",
            "0.846 Young At Heart\n",
            "0.843 You Can Depend On Me\n",
            "\n",
            "Corcovado\n",
            "0.882 Portrait Of Jennie\n",
            "0.823 Misty\n",
            "0.818 Nearness Of You, The\n",
            "0.796 It's A Big Wide Wonderful World\n",
            "0.784 A Lovely Way To Spend An Evening\n",
            "0.776 Beautiful Ohio\n",
            "0.774 Make Someone Happy\n",
            "0.773 My One And Only Love\n",
            "0.754 Alligator Crawl\n",
            "0.746 Struttin' With Some Barbecue\n",
            "\n",
            "Dinah\n",
            "0.931 Why Do I Love You\n",
            "0.902 52nd Street Theme\n",
            "0.900 I Like The Likes Of You\n",
            "0.899 Where Or When\n",
            "0.863 Let's Fall In Love\n",
            "0.862 My Shining Hour\n",
            "0.853 Big House Blues\n",
            "0.849 On The Sunny Side Of The Street\n",
            "0.847 It's A Lovely Day Today\n",
            "0.844 Blue Skies\n",
            "\n",
            "East Of The Sun\n",
            "0.814 All Through The Day\n",
            "0.806 Everything I Have Is Yours\n",
            "0.799 Just Friends\n",
            "0.792 Two Sleepy People\n",
            "0.784 Blues For Alice\n",
            "0.781 Day By Day\n",
            "0.779 Don't Worry 'Bout Me\n",
            "0.770 A Weaver Of Dreams\n",
            "0.764 That Old Black Magic\n",
            "0.759 Days Of Wine And Roses\n",
            "0.759 Dearly Beloved\n",
            "\n",
            "Footprints\n",
            "0.903 Minnie The Moocher\n",
            "0.890 Bags and Trane\n",
            "0.888 Catch Me\n",
            "0.884 Mr. P.C.\n",
            "0.882 Impressions\n",
            "0.881 So What\n",
            "0.867 Equinox\n",
            "0.858 Milestones (New)\n",
            "\n",
            "Giant Steps\n",
            "0.845 Countdown\n",
            "0.813 Baubles, Bangles and Beads\n",
            "0.753 Up With The Lark\n",
            "0.737 Little Boat (O Barquinho)\n",
            "0.737 26-2\n",
            "\n",
            "Honeysuckle Rose\n",
            "0.960 Honeysuckle Rose\n",
            "0.914 Bring Me Sunshine\n",
            "0.910 How Are Things In Glocca Morra\n",
            "0.898 I Want To Be Happy\n",
            "0.890 At Long Last Love\n",
            "0.883 Postman's Lament\n",
            "0.881 Are You Lonesome Tonight\n",
            "0.878 Ladies Of Calcutta, The\n",
            "0.874 Relaxin' At Camarillo\n",
            "0.856 Someday My Prince Will Come\n",
            "0.855 Oh! Lady Be Good\n",
            "0.851 But Not For Me\n",
            "0.851 Just Squeeze Me\n",
            "0.851 Sometimes I'm Happy\n",
            "0.849 On A Clear Day\n",
            "0.846 Best Things In Life Are Free, The\n",
            "0.841 I Can't Give You Anything But Love\n",
            "0.840 I Guess I'll Have To Change My Plan\n",
            "\n",
            "I Got Rhythm\n",
            "0.974 I Got Rhythm\n",
            "0.912 Preacher, The\n",
            "0.906 Cottontail\n",
            "0.872 Barbados\n",
            "0.861 Now's The Time\n",
            "0.858 Miss Otis Regrets\n",
            "0.853 Opus De Funk\n",
            "\n",
            "Misty\n",
            "0.883 It's A Blue World\n",
            "0.847 September In The Rain\n",
            "0.830 Make Someone Happy\n",
            "0.823 Corcovado\n",
            "0.804 Pent Up House\n",
            "0.802 Star Dust\n",
            "0.795 Portrait Of Jennie\n",
            "\n",
            "Naima\n",
            "0.848 Epistrophy\n",
            "0.836 Blood Count\n",
            "0.833 Sweet Georgia Bright\n",
            "0.820 One Note Samba\n",
            "0.804 Litha\n",
            "0.790 Five Brothers\n",
            "0.771 Ev'ry Time We Say Goodbye\n",
            "0.771 Pensativa\n",
            "\n",
            "Old Fashioned Love\n",
            "0.920 White Cliffs Of Dover, The\n",
            "0.912 Hallelujah I Just Love Him So\n",
            "0.900 Preacher, The\n",
            "0.896 Beg Your Pardon\n",
            "0.884 Rent Party Blues\n",
            "0.884 Nobody's Fault But Mine\n",
            "0.881 My Life Will Be Sweeter Someday\n",
            "\n",
            "Perdido\n",
            "0.913 Avalon\n",
            "0.904 Winin' Boy Blues\n",
            "0.901 Valse Hot\n",
            "0.898 Walkin' My Baby Back Home\n",
            "0.892 You're Nobody Till Somebody Loves You\n",
            "0.880 My Little Suede Shoes\n",
            "\n",
            "Rockin' Chair\n",
            "0.889 Thou Swell\n",
            "0.858 Yardbird Suite\n",
            "0.848 Stairway To The Stars\n",
            "0.836 Rosetta\n",
            "0.832 Rosetta\n",
            "0.810 Am I Blue\n",
            "0.797 Forever Sonny\n",
            "0.791 I've Grown Accustomed To Her Face\n",
            "0.779 Stella By Starlight\n",
            "0.772 All Too Soon\n",
            "0.770 Without A Song\n",
            "0.764 Isn't It A Pity\n",
            "\n",
            "Sophisticated Lady\n",
            "0.765 A Beautiful Friendship\n",
            "0.752 Monk's Mood\n",
            "0.746 Stablemates\n",
            "0.735 I Don't Know Enough About You\n",
            "0.727 Stardust\n",
            "0.711 El Cajon\n",
            "0.703 Skippy\n",
            "0.696 You've Changed\n",
            "\n",
            "Sweet Sue, Just You\n",
            "0.969 Sweet Sue\n",
            "0.962 I Want To Be Happy\n",
            "0.934 Don't Give Up The Ship\n",
            "0.919 Under A Blanket Of Blue\n",
            "0.913 Mack The Knife\n",
            "0.909 Smile\n",
            "0.897 Best Things In Life Are Free, The\n",
            "0.896 Get Me To The Church On Time\n",
            "0.891 Cherry Pink And Apple Blossom White\n",
            "0.890 New York, New York\n",
            "\n",
            "These Foolish Things\n",
            "0.797 You're The Top\n",
            "0.771 They Can't Take That Away From Me\n",
            "0.761 My One And Only Love\n",
            "0.761 Wouldn't It Be Loverly\n",
            "0.756 For Once In My Life\n",
            "0.734 I May Be Wrong\n",
            "0.733 Jeepers Creepers\n",
            "0.731 It's All Right With Me\n",
            "0.727 Very Thought Of You, The\n",
            "0.724 Object Of My Affection, The\n",
            "0.720 Eclypso\n",
            "0.719 My Melancholy Baby\n",
            "0.710 I've Got A Feeling I'm Falling\n",
            "0.707 Apple Blossom Time\n",
            "0.707 Mountain Greenery\n",
            "0.698 Sugar (That Sugar Baby Of Mine)\n",
            "0.696 You Took Advantage Of Me\n",
            "0.696 Who Can I Turn To\n",
            "0.695 Blame It On My Youth\n",
            "0.694 Surrey With The Fringe On The Top\n",
            "0.693 Hundred Years From Today, A\n",
            "\n",
            "We'll Be Together Again\n",
            "0.868 What's New\n",
            "0.835 You Stepped Out Of A Dream\n",
            "0.761 Daahoud\n",
            "0.752 What Is This Thing Called Love\n",
            "0.747 Just One More Chance\n",
            "0.745 Let's Face The Music And Dance\n",
            "0.744 Hot House\n",
            "0.725 Dream A Little Dream Of Me\n"
          ]
        }
      ]
    },
    {
      "cell_type": "markdown",
      "metadata": {
        "id": "XmDZT5t7gjgV"
      },
      "source": [
        "# Venn diagrams for Results"
      ]
    },
    {
      "cell_type": "code",
      "metadata": {
        "id": "1YJ5FLt-2WS4"
      },
      "source": [
        "import matplotlib.pyplot as plt\n",
        "from matplotlib_venn import venn3"
      ],
      "execution_count": 96,
      "outputs": []
    },
    {
      "cell_type": "code",
      "metadata": {
        "id": "U6WrsBcc00ar",
        "colab": {
          "base_uri": "https://localhost:8080/",
          "height": 1000
        },
        "outputId": "163cac98-d62a-4054-f1f8-d5fbd8bd070a"
      },
      "source": [
        "for tune in tunes_eval_list:\n",
        "  df, details = recommend_tune(df_tfidf, tune)\n",
        "  tfidf_tunes = list(df.head(30).loc[:,'similar_title'])\n",
        "\n",
        "  df, details = recommend_tune(df_lsi, tune)\n",
        "  lsi_tunes = list(df.head(30).loc[:,'similar_title'])\n",
        "\n",
        "  df, details = recommend_tune(df_word2vec, tune)\n",
        "  word2vec_tunes = list(df.head(30).loc[:,'similar_title'])\n",
        "\n",
        "  set_tfidf = set(tfidf_tunes)\n",
        "  set_lsi = set(lsi_tunes)\n",
        "  set_word2vec = set(word2vec_tunes)\n",
        "\n",
        "  venn3([set_tfidf, set_lsi, set_word2vec], \n",
        "        set_labels=('TF-IDF', 'LSI', 'Doc2Vec'),\n",
        "        )\n",
        "  plt.title(f\"{tune}\")\n",
        "  plt.savefig('plot.png')\n",
        "  \n",
        "  if use_wandb:\n",
        "    wandb.log({\"venn_methods\": wandb.Image('plot.png')})\n",
        "  \n",
        "  plt.show()"
      ],
      "execution_count": 97,
      "outputs": [
        {
          "output_type": "display_data",
          "data": {
            "image/png": "[encoded data removed]",
            "text/plain": [
              "<Figure size 432x288 with 1 Axes>"
            ]
          },
          "metadata": {}
        },
        {
          "output_type": "display_data",
          "data": {
            "image/png": "[encoded data removed]",
            "text/plain": [
              "<Figure size 432x288 with 1 Axes>"
            ]
          },
          "metadata": {}
        },
        {
          "output_type": "display_data",
          "data": {
            "image/png": "[encoded data removed]",
            "text/plain": [
              "<Figure size 432x288 with 1 Axes>"
            ]
          },
          "metadata": {}
        },
        {
          "output_type": "display_data",
          "data": {
            "image/png": "[encoded data removed]",
            "text/plain": [
              "<Figure size 432x288 with 1 Axes>"
            ]
          },
          "metadata": {}
        },
        {
          "output_type": "display_data",
          "data": {
            "image/png": "[encoded data removed]",
            "text/plain": [
              "<Figure size 432x288 with 1 Axes>"
            ]
          },
          "metadata": {}
        },
        {
          "output_type": "display_data",
          "data": {
            "image/png": "[encoded data removed]",
            "text/plain": [
              "<Figure size 432x288 with 1 Axes>"
            ]
          },
          "metadata": {}
        },
        {
          "output_type": "display_data",
          "data": {
            "image/png": "[encoded data removed]",
            "text/plain": [
              "<Figure size 432x288 with 1 Axes>"
            ]
          },
          "metadata": {}
        },
        {
          "output_type": "display_data",
          "data": {
            "image/png": "[encoded data removed]",
            "text/plain": [
              "<Figure size 432x288 with 1 Axes>"
            ]
          },
          "metadata": {}
        },
        {
          "output_type": "display_data",
          "data": {
            "image/png": "[encoded data removed]",
            "text/plain": [
              "<Figure size 432x288 with 1 Axes>"
            ]
          },
          "metadata": {}
        },
        {
          "output_type": "display_data",
          "data": {
            "image/png": "[encoded data removed]",
            "text/plain": [
              "<Figure size 432x288 with 1 Axes>"
            ]
          },
          "metadata": {}
        },
        {
          "output_type": "display_data",
          "data": {
            "image/png": "[encoded data removed]",
            "text/plain": [
              "<Figure size 432x288 with 1 Axes>"
            ]
          },
          "metadata": {}
        },
        {
          "output_type": "display_data",
          "data": {
            "image/png": "[encoded data removed]",
            "text/plain": [
              "<Figure size 432x288 with 1 Axes>"
            ]
          },
          "metadata": {}
        },
        {
          "output_type": "display_data",
          "data": {
            "image/png": "[encoded data removed]",
            "text/plain": [
              "<Figure size 432x288 with 1 Axes>"
            ]
          },
          "metadata": {}
        },
        {
          "output_type": "display_data",
          "data": {
            "image/png": "[encoded data removed]",
            "text/plain": [
              "<Figure size 432x288 with 1 Axes>"
            ]
          },
          "metadata": {}
        },
        {
          "output_type": "display_data",
          "data": {
            "image/png": "[encoded data removed]",
            "text/plain": [
              "<Figure size 432x288 with 1 Axes>"
            ]
          },
          "metadata": {}
        },
        {
          "output_type": "display_data",
          "data": {
            "image/png": "[encoded data removed]",
            "text/plain": [
              "<Figure size 432x288 with 1 Axes>"
            ]
          },
          "metadata": {}
        },
        {
          "output_type": "display_data",
          "data": {
            "image/png": "[encoded data removed]",
            "text/plain": [
              "<Figure size 432x288 with 1 Axes>"
            ]
          },
          "metadata": {}
        },
        {
          "output_type": "display_data",
          "data": {
            "image/png": "[encoded data removed]",
            "text/plain": [
              "<Figure size 432x288 with 1 Axes>"
            ]
          },
          "metadata": {}
        },
        {
          "output_type": "display_data",
          "data": {
            "image/png": "[encoded data removed]",
            "text/plain": [
              "<Figure size 432x288 with 1 Axes>"
            ]
          },
          "metadata": {}
        },
        {
          "output_type": "display_data",
          "data": {
            "image/png": "[encoded data removed]",
            "text/plain": [
              "<Figure size 432x288 with 1 Axes>"
            ]
          },
          "metadata": {}
        },
        {
          "output_type": "display_data",
          "data": {
            "image/png": "[encoded data removed]",
            "text/plain": [
              "<Figure size 432x288 with 1 Axes>"
            ]
          },
          "metadata": {}
        },
        {
          "output_type": "display_data",
          "data": {
            "image/png": "[encoded data removed]",
            "text/plain": [
              "<Figure size 432x288 with 1 Axes>"
            ]
          },
          "metadata": {}
        },
        {
          "output_type": "display_data",
          "data": {
            "image/png": "[encoded data removed]",
            "text/plain": [
              "<Figure size 432x288 with 1 Axes>"
            ]
          },
          "metadata": {}
        },
        {
          "output_type": "display_data",
          "data": {
            "image/png": "[encoded data removed]",
            "text/plain": [
              "<Figure size 432x288 with 1 Axes>"
            ]
          },
          "metadata": {}
        }
      ]
    },
    {
      "cell_type": "code",
      "metadata": {
        "colab": {
          "base_uri": "https://localhost:8080/"
        },
        "id": "BVRU3r-0axgN",
        "outputId": "d15502c8-48a9-48a4-e163-463f81ad98b9"
      },
      "source": [
        "# Number of tunes tested\n",
        "len(contrafacts)"
      ],
      "execution_count": 98,
      "outputs": [
        {
          "output_type": "execute_result",
          "data": {
            "text/plain": [
              "42"
            ]
          },
          "metadata": {},
          "execution_count": 98
        }
      ]
    },
    {
      "cell_type": "code",
      "metadata": {
        "colab": {
          "base_uri": "https://localhost:8080/"
        },
        "id": "KRtvi6aea1Fc",
        "outputId": "6481197f-3262-4d1e-90a9-63d73e1baf5b"
      },
      "source": [
        "# number of sections in the tunes\n",
        "contrafacts_sections = [title_to_sectionid[contrafacts[cc]] for cc in contrafacts.keys()]\n",
        "len([val for tune in contrafacts_sections for val in tune])\n"
      ],
      "execution_count": 99,
      "outputs": [
        {
          "output_type": "execute_result",
          "data": {
            "text/plain": [
              "209"
            ]
          },
          "metadata": {},
          "execution_count": 99
        }
      ]
    },
    {
      "cell_type": "markdown",
      "metadata": {
        "id": "RhOWHSEU0DQH"
      },
      "source": [
        "# W&B Logging and Finish"
      ]
    },
    {
      "cell_type": "code",
      "metadata": {
        "colab": {
          "base_uri": "https://localhost:8080/",
          "height": 424
        },
        "id": "9yt-cob54ZzN",
        "outputId": "e7240d16-a056-4adf-a610-6a21f4b6c9d9"
      },
      "source": [
        "recommender_results"
      ],
      "execution_count": 100,
      "outputs": [
        {
          "output_type": "execute_result",
          "data": {
            "text/html": [
              "<div>\n",
              "<style scoped>\n",
              "    .dataframe tbody tr th:only-of-type {\n",
              "        vertical-align: middle;\n",
              "    }\n",
              "\n",
              "    .dataframe tbody tr th {\n",
              "        vertical-align: top;\n",
              "    }\n",
              "\n",
              "    .dataframe thead th {\n",
              "        text-align: right;\n",
              "    }\n",
              "</style>\n",
              "<table border=\"1\" class=\"dataframe\">\n",
              "  <thead>\n",
              "    <tr style=\"text-align: right;\">\n",
              "      <th></th>\n",
              "      <th>reference</th>\n",
              "      <th>id</th>\n",
              "      <th>method</th>\n",
              "      <th>similar</th>\n",
              "      <th>score_div_max</th>\n",
              "      <th>score</th>\n",
              "    </tr>\n",
              "  </thead>\n",
              "  <tbody>\n",
              "    <tr>\n",
              "      <th>0</th>\n",
              "      <td>We'll Be Together Again</td>\n",
              "      <td>0.0</td>\n",
              "      <td>tfidf</td>\n",
              "      <td>You Stepped Out Of A Dream</td>\n",
              "      <td>1.000000</td>\n",
              "      <td>0.789605</td>\n",
              "    </tr>\n",
              "    <tr>\n",
              "      <th>1</th>\n",
              "      <td>We'll Be Together Again</td>\n",
              "      <td>1.0</td>\n",
              "      <td>tfidf</td>\n",
              "      <td>Lazy Bird</td>\n",
              "      <td>1.000000</td>\n",
              "      <td>0.729080</td>\n",
              "    </tr>\n",
              "    <tr>\n",
              "      <th>2</th>\n",
              "      <td>We'll Be Together Again</td>\n",
              "      <td>2.0</td>\n",
              "      <td>tfidf</td>\n",
              "      <td>Goodbye</td>\n",
              "      <td>1.000000</td>\n",
              "      <td>0.856327</td>\n",
              "    </tr>\n",
              "    <tr>\n",
              "      <th>3</th>\n",
              "      <td>We'll Be Together Again</td>\n",
              "      <td>3.0</td>\n",
              "      <td>tfidf</td>\n",
              "      <td>Tones For Joan's Bones</td>\n",
              "      <td>0.965223</td>\n",
              "      <td>0.756416</td>\n",
              "    </tr>\n",
              "    <tr>\n",
              "      <th>4</th>\n",
              "      <td>We'll Be Together Again</td>\n",
              "      <td>4.0</td>\n",
              "      <td>tfidf</td>\n",
              "      <td>It's A Raggy Waltz</td>\n",
              "      <td>0.947116</td>\n",
              "      <td>0.690523</td>\n",
              "    </tr>\n",
              "    <tr>\n",
              "      <th>...</th>\n",
              "      <td>...</td>\n",
              "      <td>...</td>\n",
              "      <td>...</td>\n",
              "      <td>...</td>\n",
              "      <td>...</td>\n",
              "      <td>...</td>\n",
              "    </tr>\n",
              "    <tr>\n",
              "      <th>66</th>\n",
              "      <td>We'll Be Together Again</td>\n",
              "      <td>NaN</td>\n",
              "      <td>doc2vec</td>\n",
              "      <td>NaN</td>\n",
              "      <td>NaN</td>\n",
              "      <td>NaN</td>\n",
              "    </tr>\n",
              "    <tr>\n",
              "      <th>67</th>\n",
              "      <td>We'll Be Together Again</td>\n",
              "      <td>NaN</td>\n",
              "      <td>doc2vec</td>\n",
              "      <td>NaN</td>\n",
              "      <td>NaN</td>\n",
              "      <td>NaN</td>\n",
              "    </tr>\n",
              "    <tr>\n",
              "      <th>68</th>\n",
              "      <td>We'll Be Together Again</td>\n",
              "      <td>NaN</td>\n",
              "      <td>doc2vec</td>\n",
              "      <td>NaN</td>\n",
              "      <td>NaN</td>\n",
              "      <td>NaN</td>\n",
              "    </tr>\n",
              "    <tr>\n",
              "      <th>69</th>\n",
              "      <td>We'll Be Together Again</td>\n",
              "      <td>NaN</td>\n",
              "      <td>doc2vec</td>\n",
              "      <td>NaN</td>\n",
              "      <td>NaN</td>\n",
              "      <td>NaN</td>\n",
              "    </tr>\n",
              "    <tr>\n",
              "      <th>70</th>\n",
              "      <td>We'll Be Together Again</td>\n",
              "      <td>NaN</td>\n",
              "      <td>doc2vec</td>\n",
              "      <td>NaN</td>\n",
              "      <td>NaN</td>\n",
              "      <td>NaN</td>\n",
              "    </tr>\n",
              "  </tbody>\n",
              "</table>\n",
              "<p>211 rows × 6 columns</p>\n",
              "</div>"
            ],
            "text/plain": [
              "                  reference   id  ... score_div_max     score\n",
              "0   We'll Be Together Again  0.0  ...      1.000000  0.789605\n",
              "1   We'll Be Together Again  1.0  ...      1.000000  0.729080\n",
              "2   We'll Be Together Again  2.0  ...      1.000000  0.856327\n",
              "3   We'll Be Together Again  3.0  ...      0.965223  0.756416\n",
              "4   We'll Be Together Again  4.0  ...      0.947116  0.690523\n",
              "..                      ...  ...  ...           ...       ...\n",
              "66  We'll Be Together Again  NaN  ...           NaN       NaN\n",
              "67  We'll Be Together Again  NaN  ...           NaN       NaN\n",
              "68  We'll Be Together Again  NaN  ...           NaN       NaN\n",
              "69  We'll Be Together Again  NaN  ...           NaN       NaN\n",
              "70  We'll Be Together Again  NaN  ...           NaN       NaN\n",
              "\n",
              "[211 rows x 6 columns]"
            ]
          },
          "metadata": {},
          "execution_count": 100
        }
      ]
    },
    {
      "cell_type": "code",
      "metadata": {
        "id": "Qm7BPMM_ihop",
        "colab": {
          "base_uri": "https://localhost:8080/",
          "height": 808
        },
        "outputId": "29f66097-e469-4e8a-f356-520928819651"
      },
      "source": [
        "recommender_results = recommender_results.reset_index()\n",
        "\n",
        "results = recommender_results.pivot(index=['index', 'reference', 'similar'], columns='method', values=['id', 'score', 'score_div_max'])\n",
        "results.columns = ['_'.join(col) for col in results.columns]\n",
        "results = results.reset_index()\n",
        "results"
      ],
      "execution_count": 101,
      "outputs": [
        {
          "output_type": "execute_result",
          "data": {
            "text/html": [
              "<div>\n",
              "<style scoped>\n",
              "    .dataframe tbody tr th:only-of-type {\n",
              "        vertical-align: middle;\n",
              "    }\n",
              "\n",
              "    .dataframe tbody tr th {\n",
              "        vertical-align: top;\n",
              "    }\n",
              "\n",
              "    .dataframe thead th {\n",
              "        text-align: right;\n",
              "    }\n",
              "</style>\n",
              "<table border=\"1\" class=\"dataframe\">\n",
              "  <thead>\n",
              "    <tr style=\"text-align: right;\">\n",
              "      <th></th>\n",
              "      <th>index</th>\n",
              "      <th>reference</th>\n",
              "      <th>similar</th>\n",
              "      <th>id_doc2vec</th>\n",
              "      <th>id_lsi</th>\n",
              "      <th>id_tfidf</th>\n",
              "      <th>score_doc2vec</th>\n",
              "      <th>score_lsi</th>\n",
              "      <th>score_tfidf</th>\n",
              "      <th>score_div_max_doc2vec</th>\n",
              "      <th>score_div_max_lsi</th>\n",
              "      <th>score_div_max_tfidf</th>\n",
              "    </tr>\n",
              "  </thead>\n",
              "  <tbody>\n",
              "    <tr>\n",
              "      <th>0</th>\n",
              "      <td>0</td>\n",
              "      <td>We'll Be Together Again</td>\n",
              "      <td>Summer Serenade</td>\n",
              "      <td>0.0</td>\n",
              "      <td>0.0</td>\n",
              "      <td>NaN</td>\n",
              "      <td>0.810163</td>\n",
              "      <td>0.810163</td>\n",
              "      <td>NaN</td>\n",
              "      <td>1.0</td>\n",
              "      <td>1.0</td>\n",
              "      <td>NaN</td>\n",
              "    </tr>\n",
              "    <tr>\n",
              "      <th>1</th>\n",
              "      <td>0</td>\n",
              "      <td>We'll Be Together Again</td>\n",
              "      <td>You Stepped Out Of A Dream</td>\n",
              "      <td>NaN</td>\n",
              "      <td>NaN</td>\n",
              "      <td>0.0</td>\n",
              "      <td>NaN</td>\n",
              "      <td>NaN</td>\n",
              "      <td>0.789605</td>\n",
              "      <td>NaN</td>\n",
              "      <td>NaN</td>\n",
              "      <td>1.0</td>\n",
              "    </tr>\n",
              "    <tr>\n",
              "      <th>2</th>\n",
              "      <td>1</td>\n",
              "      <td>We'll Be Together Again</td>\n",
              "      <td>Lazy Bird</td>\n",
              "      <td>NaN</td>\n",
              "      <td>NaN</td>\n",
              "      <td>1.0</td>\n",
              "      <td>NaN</td>\n",
              "      <td>NaN</td>\n",
              "      <td>0.729080</td>\n",
              "      <td>NaN</td>\n",
              "      <td>NaN</td>\n",
              "      <td>1.0</td>\n",
              "    </tr>\n",
              "    <tr>\n",
              "      <th>3</th>\n",
              "      <td>1</td>\n",
              "      <td>We'll Be Together Again</td>\n",
              "      <td>What's New</td>\n",
              "      <td>1.0</td>\n",
              "      <td>1.0</td>\n",
              "      <td>NaN</td>\n",
              "      <td>0.841625</td>\n",
              "      <td>0.841625</td>\n",
              "      <td>NaN</td>\n",
              "      <td>1.0</td>\n",
              "      <td>1.0</td>\n",
              "      <td>NaN</td>\n",
              "    </tr>\n",
              "    <tr>\n",
              "      <th>4</th>\n",
              "      <td>2</td>\n",
              "      <td>We'll Be Together Again</td>\n",
              "      <td>Goodbye</td>\n",
              "      <td>2.0</td>\n",
              "      <td>2.0</td>\n",
              "      <td>2.0</td>\n",
              "      <td>0.922972</td>\n",
              "      <td>0.922972</td>\n",
              "      <td>0.856327</td>\n",
              "      <td>1.0</td>\n",
              "      <td>1.0</td>\n",
              "      <td>1.0</td>\n",
              "    </tr>\n",
              "    <tr>\n",
              "      <th>...</th>\n",
              "      <td>...</td>\n",
              "      <td>...</td>\n",
              "      <td>...</td>\n",
              "      <td>...</td>\n",
              "      <td>...</td>\n",
              "      <td>...</td>\n",
              "      <td>...</td>\n",
              "      <td>...</td>\n",
              "      <td>...</td>\n",
              "      <td>...</td>\n",
              "      <td>...</td>\n",
              "      <td>...</td>\n",
              "    </tr>\n",
              "    <tr>\n",
              "      <th>119</th>\n",
              "      <td>66</td>\n",
              "      <td>We'll Be Together Again</td>\n",
              "      <td>NaN</td>\n",
              "      <td>NaN</td>\n",
              "      <td>NaN</td>\n",
              "      <td>NaN</td>\n",
              "      <td>NaN</td>\n",
              "      <td>NaN</td>\n",
              "      <td>NaN</td>\n",
              "      <td>NaN</td>\n",
              "      <td>NaN</td>\n",
              "      <td>NaN</td>\n",
              "    </tr>\n",
              "    <tr>\n",
              "      <th>120</th>\n",
              "      <td>67</td>\n",
              "      <td>We'll Be Together Again</td>\n",
              "      <td>NaN</td>\n",
              "      <td>NaN</td>\n",
              "      <td>NaN</td>\n",
              "      <td>NaN</td>\n",
              "      <td>NaN</td>\n",
              "      <td>NaN</td>\n",
              "      <td>NaN</td>\n",
              "      <td>NaN</td>\n",
              "      <td>NaN</td>\n",
              "      <td>NaN</td>\n",
              "    </tr>\n",
              "    <tr>\n",
              "      <th>121</th>\n",
              "      <td>68</td>\n",
              "      <td>We'll Be Together Again</td>\n",
              "      <td>NaN</td>\n",
              "      <td>NaN</td>\n",
              "      <td>NaN</td>\n",
              "      <td>NaN</td>\n",
              "      <td>NaN</td>\n",
              "      <td>NaN</td>\n",
              "      <td>NaN</td>\n",
              "      <td>NaN</td>\n",
              "      <td>NaN</td>\n",
              "      <td>NaN</td>\n",
              "    </tr>\n",
              "    <tr>\n",
              "      <th>122</th>\n",
              "      <td>69</td>\n",
              "      <td>We'll Be Together Again</td>\n",
              "      <td>NaN</td>\n",
              "      <td>NaN</td>\n",
              "      <td>NaN</td>\n",
              "      <td>NaN</td>\n",
              "      <td>NaN</td>\n",
              "      <td>NaN</td>\n",
              "      <td>NaN</td>\n",
              "      <td>NaN</td>\n",
              "      <td>NaN</td>\n",
              "      <td>NaN</td>\n",
              "    </tr>\n",
              "    <tr>\n",
              "      <th>123</th>\n",
              "      <td>70</td>\n",
              "      <td>We'll Be Together Again</td>\n",
              "      <td>NaN</td>\n",
              "      <td>NaN</td>\n",
              "      <td>NaN</td>\n",
              "      <td>NaN</td>\n",
              "      <td>NaN</td>\n",
              "      <td>NaN</td>\n",
              "      <td>NaN</td>\n",
              "      <td>NaN</td>\n",
              "      <td>NaN</td>\n",
              "      <td>NaN</td>\n",
              "    </tr>\n",
              "  </tbody>\n",
              "</table>\n",
              "<p>124 rows × 12 columns</p>\n",
              "</div>"
            ],
            "text/plain": [
              "     index                reference  ... score_div_max_lsi  score_div_max_tfidf\n",
              "0        0  We'll Be Together Again  ...               1.0                  NaN\n",
              "1        0  We'll Be Together Again  ...               NaN                  1.0\n",
              "2        1  We'll Be Together Again  ...               NaN                  1.0\n",
              "3        1  We'll Be Together Again  ...               1.0                  NaN\n",
              "4        2  We'll Be Together Again  ...               1.0                  1.0\n",
              "..     ...                      ...  ...               ...                  ...\n",
              "119     66  We'll Be Together Again  ...               NaN                  NaN\n",
              "120     67  We'll Be Together Again  ...               NaN                  NaN\n",
              "121     68  We'll Be Together Again  ...               NaN                  NaN\n",
              "122     69  We'll Be Together Again  ...               NaN                  NaN\n",
              "123     70  We'll Be Together Again  ...               NaN                  NaN\n",
              "\n",
              "[124 rows x 12 columns]"
            ]
          },
          "metadata": {},
          "execution_count": 101
        }
      ]
    },
    {
      "cell_type": "code",
      "metadata": {
        "id": "ziq-dZ16Sdgg"
      },
      "source": [
        "if use_wandb:\n",
        "  table = wandb.Table(dataframe=results)\n",
        "  wandb.log({\"recommender results\": results})"
      ],
      "execution_count": 102,
      "outputs": []
    },
    {
      "cell_type": "code",
      "metadata": {
        "id": "YMUDRHkm0aMV",
        "colab": {
          "base_uri": "https://localhost:8080/",
          "height": 125,
          "referenced_widgets": [
            "b0f9d7a0201a461c8c650e8b7c8c2ea9",
            "4514c8d4941149e6b9935b3a2cd41704",
            "6fe42a542ffd4409abb8c0b67ae53d48",
            "d31f37da34864d328186770735a5bee6",
            "e8a4c694fe414ce19428c5e83a1df61d",
            "ba863ee5eb984a8f84680420450c20f1",
            "edcc533f1e704e3f98ebe3df6a93e9ef",
            "72ddcdc8d81442db89a4fef04bd7c37c"
          ]
        },
        "outputId": "f4e994ed-dcf1-4764-98ac-6234181359a0"
      },
      "source": [
        "if use_wandb:\n",
        "  wandb.finish()"
      ],
      "execution_count": 103,
      "outputs": [
        {
          "output_type": "display_data",
          "data": {
            "text/html": [
              "<br/>Waiting for W&B process to finish, PID 9121... <strong style=\"color:green\">(success).</strong>"
            ],
            "text/plain": [
              "<IPython.core.display.HTML object>"
            ]
          },
          "metadata": {}
        },
        {
          "output_type": "display_data",
          "data": {
            "application/vnd.jupyter.widget-view+json": {
              "model_id": "b0f9d7a0201a461c8c650e8b7c8c2ea9",
              "version_minor": 0,
              "version_major": 2
            },
            "text/plain": [
              "VBox(children=(Label(value=' 3.93MB of 3.93MB uploaded (0.00MB deduped)\\r'), FloatProgress(value=1.0, max=1.0)…"
            ]
          },
          "metadata": {}
        },
        {
          "output_type": "display_data",
          "data": {
            "text/html": [
              "<style>\n",
              "    table.wandb td:nth-child(1) { padding: 0 10px; text-align: right }\n",
              "    .wandb-row { display: flex; flex-direction: row; flex-wrap: wrap; width: 100% }\n",
              "    .wandb-col { display: flex; flex-direction: column; flex-basis: 100%; flex: 1; padding: 10px; }\n",
              "    </style>\n",
              "<div class=\"wandb-row\"><div class=\"wandb-col\">\n",
              "</div><div class=\"wandb-col\">\n",
              "</div></div>\n",
              "Synced 5 W&B file(s), 32 media file(s), 10 artifact file(s) and 0 other file(s)\n",
              "<br/>Synced <strong style=\"color:#cdcd00\">visionary-sun-9</strong>: <a href=\"https://wandb.ai/doris/jazztunes/runs/m3i8cpaw\" target=\"_blank\">https://wandb.ai/doris/jazztunes/runs/m3i8cpaw</a><br/>\n",
              "Find logs at: <code>./wandb/run-20211125_111043-m3i8cpaw/logs</code><br/>\n"
            ],
            "text/plain": [
              "<IPython.core.display.HTML object>"
            ]
          },
          "metadata": {}
        }
      ]
    },
    {
      "cell_type": "code",
      "metadata": {
        "id": "Vn_SFyKt0bYx"
      },
      "source": [
        ""
      ],
      "execution_count": 103,
      "outputs": []
    }
  ]
}