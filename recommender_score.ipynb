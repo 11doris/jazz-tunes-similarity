{
  "nbformat": 4,
  "nbformat_minor": 0,
  "metadata": {
    "colab": {
      "name": "recommender_score",
      "provenance": [],
      "toc_visible": true,
      "authorship_tag": "ABX9TyNb7dHGfh+u0Ls8dzsq6hIc",
      "include_colab_link": true
    },
    "kernelspec": {
      "name": "python3",
      "display_name": "Python 3"
    },
    "language_info": {
      "name": "python"
    }
  },
  "cells": [
    {
      "cell_type": "markdown",
      "metadata": {
        "id": "view-in-github",
        "colab_type": "text"
      },
      "source": [
        "<a href=\"https://colab.research.google.com/github/11doris/jazz-maestro/blob/colab_word_embeddings/recommender_score.ipynb\" target=\"_parent\"><img src=\"https://colab.research.google.com/assets/colab-badge.svg\" alt=\"Open In Colab\"/></a>"
      ]
    },
    {
      "cell_type": "markdown",
      "metadata": {
        "id": "YGhakKpa8Dtf"
      },
      "source": [
        "# Sections as Input"
      ]
    },
    {
      "cell_type": "code",
      "metadata": {
        "colab": {
          "base_uri": "https://localhost:8080/"
        },
        "id": "MUy1ta4_782n",
        "outputId": "e27a5230-8cd0-427d-f342-bd1006d7e24d"
      },
      "source": [
        "!pip uninstall gensim -y"
      ],
      "execution_count": 1,
      "outputs": [
        {
          "output_type": "stream",
          "name": "stdout",
          "text": [
            "Found existing installation: gensim 3.6.0\n",
            "Uninstalling gensim-3.6.0:\n",
            "  Successfully uninstalled gensim-3.6.0\n"
          ]
        }
      ]
    },
    {
      "cell_type": "code",
      "metadata": {
        "colab": {
          "base_uri": "https://localhost:8080/"
        },
        "id": "oAroxmvO8GQj",
        "outputId": "c18841a5-25fd-4194-de22-077965d2394a"
      },
      "source": [
        "!pip install gensim"
      ],
      "execution_count": 2,
      "outputs": [
        {
          "output_type": "stream",
          "name": "stdout",
          "text": [
            "Collecting gensim\n",
            "  Downloading gensim-4.1.2-cp37-cp37m-manylinux_2_12_x86_64.manylinux2010_x86_64.whl (24.1 MB)\n",
            "\u001b[K     |████████████████████████████████| 24.1 MB 2.8 kB/s \n",
            "\u001b[?25hRequirement already satisfied: numpy>=1.17.0 in /usr/local/lib/python3.7/dist-packages (from gensim) (1.19.5)\n",
            "Requirement already satisfied: scipy>=0.18.1 in /usr/local/lib/python3.7/dist-packages (from gensim) (1.4.1)\n",
            "Requirement already satisfied: smart-open>=1.8.1 in /usr/local/lib/python3.7/dist-packages (from gensim) (5.2.1)\n",
            "Installing collected packages: gensim\n",
            "Successfully installed gensim-4.1.2\n"
          ]
        }
      ]
    },
    {
      "cell_type": "code",
      "metadata": {
        "id": "6SZ0zrKX8H-D"
      },
      "source": [
        "import gensim\n",
        "from sklearn.manifold import TSNE\n",
        "import matplotlib.pyplot as plt\n",
        "import pprint\n",
        "import pandas as pd\n",
        "import numpy as np\n",
        "from collections import Counter\n",
        "import plotly.express as px\n",
        "from tqdm import tqdm \n",
        "from gensim.models.doc2vec import Doc2Vec\n",
        "import pickle\n",
        "import os"
      ],
      "execution_count": 1,
      "outputs": []
    },
    {
      "cell_type": "code",
      "metadata": {
        "id": "znWar-PK8KHT"
      },
      "source": [
        "import logging\n",
        "logging.basicConfig(format='%(asctime)s : %(levelname)s : %(message)s', level=logging.INFO)"
      ],
      "execution_count": 2,
      "outputs": []
    },
    {
      "cell_type": "code",
      "metadata": {
        "colab": {
          "base_uri": "https://localhost:8080/"
        },
        "id": "kjCf_Abf8MCc",
        "outputId": "1be9624c-1a1f-45b4-d094-2afdd19703a9"
      },
      "source": [
        "print(gensim.__version__)"
      ],
      "execution_count": 3,
      "outputs": [
        {
          "output_type": "stream",
          "name": "stdout",
          "text": [
            "4.1.2\n"
          ]
        }
      ]
    },
    {
      "cell_type": "markdown",
      "metadata": {
        "id": "gcexO7zK8Pn6"
      },
      "source": [
        "# Initialization\n",
        "\n",
        "## Download the Data"
      ]
    },
    {
      "cell_type": "markdown",
      "metadata": {
        "id": "u_RrQ2vA8Uel"
      },
      "source": [
        "### Basic Plus Chords\n",
        "M7 and 6 reduced to major triad, m7 reduced to m, dominant 7, m7b5, diminished, and all (b5) left as they are."
      ]
    },
    {
      "cell_type": "code",
      "metadata": {
        "colab": {
          "base_uri": "https://localhost:8080/"
        },
        "id": "NoAMCPT78Nc_",
        "outputId": "d0f3c2b1-171c-417f-9286-ed416ba6168d"
      },
      "source": [
        "!wget --no-check-certificate 'https://docs.google.com/uc?export=download&id=17djlZRWFSUCviOxRTOF-nwbbZqU5gUP9' -O data.csv"
      ],
      "execution_count": 4,
      "outputs": [
        {
          "output_type": "stream",
          "name": "stdout",
          "text": [
            "--2021-11-19 16:40:25--  https://docs.google.com/uc?export=download&id=17djlZRWFSUCviOxRTOF-nwbbZqU5gUP9\n",
            "Resolving docs.google.com (docs.google.com)... 74.125.70.101, 74.125.70.138, 74.125.70.139, ...\n",
            "Connecting to docs.google.com (docs.google.com)|74.125.70.101|:443... connected.\n",
            "HTTP request sent, awaiting response... 302 Moved Temporarily\n",
            "Location: https://doc-0s-4c-docs.googleusercontent.com/docs/securesc/ha0ro937gcuc7l7deffksulhg5h7mbp1/j5pe1gtod62ia97p1dglmm9b16hbijv7/1637340000000/14329102864480165501/*/17djlZRWFSUCviOxRTOF-nwbbZqU5gUP9?e=download [following]\n",
            "Warning: wildcards not supported in HTTP.\n",
            "--2021-11-19 16:40:26--  https://doc-0s-4c-docs.googleusercontent.com/docs/securesc/ha0ro937gcuc7l7deffksulhg5h7mbp1/j5pe1gtod62ia97p1dglmm9b16hbijv7/1637340000000/14329102864480165501/*/17djlZRWFSUCviOxRTOF-nwbbZqU5gUP9?e=download\n",
            "Resolving doc-0s-4c-docs.googleusercontent.com (doc-0s-4c-docs.googleusercontent.com)... 108.177.111.132, 2607:f8b0:4001:c07::84\n",
            "Connecting to doc-0s-4c-docs.googleusercontent.com (doc-0s-4c-docs.googleusercontent.com)|108.177.111.132|:443... connected.\n",
            "HTTP request sent, awaiting response... 200 OK\n",
            "Length: 665462 (650K) [text/csv]\n",
            "Saving to: ‘data.csv’\n",
            "\n",
            "data.csv            100%[===================>] 649.87K  --.-KB/s    in 0.006s  \n",
            "\n",
            "2021-11-19 16:40:27 (108 MB/s) - ‘data.csv’ saved [665462/665462]\n",
            "\n"
          ]
        }
      ]
    },
    {
      "cell_type": "markdown",
      "metadata": {
        "id": "Ljs21B7h8YvC"
      },
      "source": [
        "### Read Chords Input Data"
      ]
    },
    {
      "cell_type": "code",
      "metadata": {
        "colab": {
          "base_uri": "https://localhost:8080/",
          "height": 241
        },
        "id": "B7kK418L8aac",
        "outputId": "225081f0-47f5-4465-a936-d99f4fcf715c"
      },
      "source": [
        "path_to_file = '/content/data.csv'\n",
        "df = pd.read_csv(path_to_file, sep='\\t', index_col=\"id\")\n",
        "df = df.reset_index()\n",
        "df.head(5)"
      ],
      "execution_count": 5,
      "outputs": [
        {
          "output_type": "execute_result",
          "data": {
            "text/html": [
              "<div>\n",
              "<style scoped>\n",
              "    .dataframe tbody tr th:only-of-type {\n",
              "        vertical-align: middle;\n",
              "    }\n",
              "\n",
              "    .dataframe tbody tr th {\n",
              "        vertical-align: top;\n",
              "    }\n",
              "\n",
              "    .dataframe thead th {\n",
              "        text-align: right;\n",
              "    }\n",
              "</style>\n",
              "<table border=\"1\" class=\"dataframe\">\n",
              "  <thead>\n",
              "    <tr style=\"text-align: right;\">\n",
              "      <th></th>\n",
              "      <th>id</th>\n",
              "      <th>file_name</th>\n",
              "      <th>title</th>\n",
              "      <th>tune_mode</th>\n",
              "      <th>tune_id</th>\n",
              "      <th>section_name</th>\n",
              "      <th>section_id</th>\n",
              "      <th>chords</th>\n",
              "    </tr>\n",
              "  </thead>\n",
              "  <tbody>\n",
              "    <tr>\n",
              "      <th>0</th>\n",
              "      <td>0</td>\n",
              "      <td>dataset/jazz1350/26-2.xml</td>\n",
              "      <td>26-2</td>\n",
              "      <td>major</td>\n",
              "      <td>0</td>\n",
              "      <td>A</td>\n",
              "      <td>1</td>\n",
              "      <td>C Eb7 G# B7 E G7 Gm C7 F G#7 C# E7 Am D7 Dm G7</td>\n",
              "    </tr>\n",
              "    <tr>\n",
              "      <th>1</th>\n",
              "      <td>1</td>\n",
              "      <td>dataset/jazz1350/26-2.xml</td>\n",
              "      <td>26-2</td>\n",
              "      <td>major</td>\n",
              "      <td>0</td>\n",
              "      <td>A</td>\n",
              "      <td>2</td>\n",
              "      <td>C Eb7 G# B7 E G7 Gm C7 F Eb7 G# B7 E G7 C</td>\n",
              "    </tr>\n",
              "    <tr>\n",
              "      <th>2</th>\n",
              "      <td>2</td>\n",
              "      <td>dataset/jazz1350/26-2.xml</td>\n",
              "      <td>26-2</td>\n",
              "      <td>major</td>\n",
              "      <td>0</td>\n",
              "      <td>B</td>\n",
              "      <td>3</td>\n",
              "      <td>Gm C7 Bm E7 A C7 F Bbm Eb7 G# Dm G7</td>\n",
              "    </tr>\n",
              "    <tr>\n",
              "      <th>3</th>\n",
              "      <td>3</td>\n",
              "      <td>dataset/jazz1350/26-2.xml</td>\n",
              "      <td>26-2</td>\n",
              "      <td>major</td>\n",
              "      <td>0</td>\n",
              "      <td>A</td>\n",
              "      <td>4</td>\n",
              "      <td>C Eb7 G# B7 E G7 Gm C7 F Eb7 G# B7 E G7 C</td>\n",
              "    </tr>\n",
              "    <tr>\n",
              "      <th>4</th>\n",
              "      <td>4</td>\n",
              "      <td>dataset/jazz1350/500 Miles High.xml</td>\n",
              "      <td>500 Miles High</td>\n",
              "      <td>minor</td>\n",
              "      <td>1</td>\n",
              "      <td>NaN</td>\n",
              "      <td>0</td>\n",
              "      <td>Am Am Cm Cm Eb Eb Em7b5 A7 Dm Dm Bm7b5 Bm7b5 B...</td>\n",
              "    </tr>\n",
              "  </tbody>\n",
              "</table>\n",
              "</div>"
            ],
            "text/plain": [
              "   id  ...                                             chords\n",
              "0   0  ...     C Eb7 G# B7 E G7 Gm C7 F G#7 C# E7 Am D7 Dm G7\n",
              "1   1  ...          C Eb7 G# B7 E G7 Gm C7 F Eb7 G# B7 E G7 C\n",
              "2   2  ...                Gm C7 Bm E7 A C7 F Bbm Eb7 G# Dm G7\n",
              "3   3  ...          C Eb7 G# B7 E G7 Gm C7 F Eb7 G# B7 E G7 C\n",
              "4   4  ...  Am Am Cm Cm Eb Eb Em7b5 A7 Dm Dm Bm7b5 Bm7b5 B...\n",
              "\n",
              "[5 rows x 8 columns]"
            ]
          },
          "metadata": {},
          "execution_count": 5
        }
      ]
    },
    {
      "cell_type": "markdown",
      "metadata": {
        "id": "OsPcEFbg8gu6"
      },
      "source": [
        "### Meta Data"
      ]
    },
    {
      "cell_type": "code",
      "metadata": {
        "colab": {
          "base_uri": "https://localhost:8080/",
          "height": 363
        },
        "id": "KdS8QLnJ8bI6",
        "outputId": "11cf1257-e8d5-47f8-8394-44e1fe8876c6"
      },
      "source": [
        "titles = df.loc[:, ['id', 'tune_id', 'section_id', 'section_name', 'title', 'tune_mode']]\n",
        "titles[:10]"
      ],
      "execution_count": 6,
      "outputs": [
        {
          "output_type": "execute_result",
          "data": {
            "text/html": [
              "<div>\n",
              "<style scoped>\n",
              "    .dataframe tbody tr th:only-of-type {\n",
              "        vertical-align: middle;\n",
              "    }\n",
              "\n",
              "    .dataframe tbody tr th {\n",
              "        vertical-align: top;\n",
              "    }\n",
              "\n",
              "    .dataframe thead th {\n",
              "        text-align: right;\n",
              "    }\n",
              "</style>\n",
              "<table border=\"1\" class=\"dataframe\">\n",
              "  <thead>\n",
              "    <tr style=\"text-align: right;\">\n",
              "      <th></th>\n",
              "      <th>id</th>\n",
              "      <th>tune_id</th>\n",
              "      <th>section_id</th>\n",
              "      <th>section_name</th>\n",
              "      <th>title</th>\n",
              "      <th>tune_mode</th>\n",
              "    </tr>\n",
              "  </thead>\n",
              "  <tbody>\n",
              "    <tr>\n",
              "      <th>0</th>\n",
              "      <td>0</td>\n",
              "      <td>0</td>\n",
              "      <td>1</td>\n",
              "      <td>A</td>\n",
              "      <td>26-2</td>\n",
              "      <td>major</td>\n",
              "    </tr>\n",
              "    <tr>\n",
              "      <th>1</th>\n",
              "      <td>1</td>\n",
              "      <td>0</td>\n",
              "      <td>2</td>\n",
              "      <td>A</td>\n",
              "      <td>26-2</td>\n",
              "      <td>major</td>\n",
              "    </tr>\n",
              "    <tr>\n",
              "      <th>2</th>\n",
              "      <td>2</td>\n",
              "      <td>0</td>\n",
              "      <td>3</td>\n",
              "      <td>B</td>\n",
              "      <td>26-2</td>\n",
              "      <td>major</td>\n",
              "    </tr>\n",
              "    <tr>\n",
              "      <th>3</th>\n",
              "      <td>3</td>\n",
              "      <td>0</td>\n",
              "      <td>4</td>\n",
              "      <td>A</td>\n",
              "      <td>26-2</td>\n",
              "      <td>major</td>\n",
              "    </tr>\n",
              "    <tr>\n",
              "      <th>4</th>\n",
              "      <td>4</td>\n",
              "      <td>1</td>\n",
              "      <td>0</td>\n",
              "      <td>NaN</td>\n",
              "      <td>500 Miles High</td>\n",
              "      <td>minor</td>\n",
              "    </tr>\n",
              "    <tr>\n",
              "      <th>5</th>\n",
              "      <td>5</td>\n",
              "      <td>2</td>\n",
              "      <td>0</td>\n",
              "      <td>NaN</td>\n",
              "      <td>502 Blues</td>\n",
              "      <td>minor</td>\n",
              "    </tr>\n",
              "    <tr>\n",
              "      <th>6</th>\n",
              "      <td>6</td>\n",
              "      <td>3</td>\n",
              "      <td>1</td>\n",
              "      <td>A</td>\n",
              "      <td>52nd Street Theme</td>\n",
              "      <td>major</td>\n",
              "    </tr>\n",
              "    <tr>\n",
              "      <th>7</th>\n",
              "      <td>7</td>\n",
              "      <td>3</td>\n",
              "      <td>2</td>\n",
              "      <td>A</td>\n",
              "      <td>52nd Street Theme</td>\n",
              "      <td>major</td>\n",
              "    </tr>\n",
              "    <tr>\n",
              "      <th>8</th>\n",
              "      <td>8</td>\n",
              "      <td>3</td>\n",
              "      <td>3</td>\n",
              "      <td>B</td>\n",
              "      <td>52nd Street Theme</td>\n",
              "      <td>major</td>\n",
              "    </tr>\n",
              "    <tr>\n",
              "      <th>9</th>\n",
              "      <td>9</td>\n",
              "      <td>3</td>\n",
              "      <td>4</td>\n",
              "      <td>A</td>\n",
              "      <td>52nd Street Theme</td>\n",
              "      <td>major</td>\n",
              "    </tr>\n",
              "  </tbody>\n",
              "</table>\n",
              "</div>"
            ],
            "text/plain": [
              "   id  tune_id  section_id section_name              title tune_mode\n",
              "0   0        0           1            A               26-2     major\n",
              "1   1        0           2            A               26-2     major\n",
              "2   2        0           3            B               26-2     major\n",
              "3   3        0           4            A               26-2     major\n",
              "4   4        1           0          NaN     500 Miles High     minor\n",
              "5   5        2           0          NaN          502 Blues     minor\n",
              "6   6        3           1            A  52nd Street Theme     major\n",
              "7   7        3           2            A  52nd Street Theme     major\n",
              "8   8        3           3            B  52nd Street Theme     major\n",
              "9   9        3           4            A  52nd Street Theme     major"
            ]
          },
          "metadata": {},
          "execution_count": 6
        }
      ]
    },
    {
      "cell_type": "code",
      "metadata": {
        "id": "0vEOjvwt8jUu"
      },
      "source": [
        "titles_dict = titles.to_dict()\n",
        "\n",
        "sectionid_to_title = titles_dict['title']\n",
        "sectionid_to_title_id = titles_dict['tune_id']\n"
      ],
      "execution_count": 7,
      "outputs": []
    },
    {
      "cell_type": "code",
      "metadata": {
        "id": "1H72Y3_d8uNu"
      },
      "source": [
        "titles_rows = titles.to_dict(orient='records')\n",
        "sectionid_to_section = []\n",
        "for i, row in enumerate(titles_rows):\n",
        "  name = f\"{row['title']}, section{row['section_id']} ({row['section_name']})\"\n",
        "  sectionid_to_section.append(name)\n",
        "  "
      ],
      "execution_count": 8,
      "outputs": []
    },
    {
      "cell_type": "code",
      "metadata": {
        "id": "HCeGUk818y8V"
      },
      "source": [
        "title_to_sectionid = {}\n",
        "\n",
        "for row in titles.iterrows():\n",
        "  title = row[1]['title']\n",
        "  if title not in title_to_sectionid:\n",
        "    title_to_sectionid[title] = [row[1]['id']]\n",
        "  else:\n",
        "    title_to_sectionid[title].append(row[1]['id'])"
      ],
      "execution_count": 9,
      "outputs": []
    },
    {
      "cell_type": "markdown",
      "metadata": {
        "id": "wox-dMcz84Bt"
      },
      "source": [
        "## Helpers for N-Grams"
      ]
    },
    {
      "cell_type": "code",
      "metadata": {
        "id": "2964REdr80Gd"
      },
      "source": [
        "def ngrams(tokens, n=2, sep='-'):\n",
        "    return [sep.join(ngram) for ngram in zip(*[tokens[i:] for i in range(n)])]"
      ],
      "execution_count": 10,
      "outputs": []
    },
    {
      "cell_type": "markdown",
      "metadata": {
        "id": "LeRGFeTn89Uc"
      },
      "source": [
        "# TF-IDF"
      ]
    },
    {
      "cell_type": "code",
      "metadata": {
        "id": "zVXqq4pk9IyT"
      },
      "source": [
        "from gensim import corpora\n",
        "from gensim import similarities\n"
      ],
      "execution_count": 11,
      "outputs": []
    },
    {
      "cell_type": "code",
      "metadata": {
        "id": "iiDF1EK89CBu"
      },
      "source": [
        "ngrams_for_input = [1, 3]"
      ],
      "execution_count": 12,
      "outputs": []
    },
    {
      "cell_type": "code",
      "metadata": {
        "colab": {
          "base_uri": "https://localhost:8080/"
        },
        "id": "phHzmDpl9BhJ",
        "outputId": "128c510e-919b-4635-d634-f5c2f2f7b938"
      },
      "source": [
        "lines = df.loc[:, 'chords'].tolist()\n",
        "data = [line.split(' ') for line in lines]\n",
        "\n",
        "processed_corpus = []\n",
        "for line in data:\n",
        "  tune_n = []\n",
        "  for n in ngrams_for_input:\n",
        "    tune_n.extend(ngrams(line, n=n))\n",
        "  processed_corpus.append(tune_n)\n",
        "\n",
        "for line in processed_corpus[:5]:\n",
        "  print(line)"
      ],
      "execution_count": 13,
      "outputs": [
        {
          "output_type": "stream",
          "name": "stdout",
          "text": [
            "['C', 'Eb7', 'G#', 'B7', 'E', 'G7', 'Gm', 'C7', 'F', 'G#7', 'C#', 'E7', 'Am', 'D7', 'Dm', 'G7', 'C-Eb7-G#', 'Eb7-G#-B7', 'G#-B7-E', 'B7-E-G7', 'E-G7-Gm', 'G7-Gm-C7', 'Gm-C7-F', 'C7-F-G#7', 'F-G#7-C#', 'G#7-C#-E7', 'C#-E7-Am', 'E7-Am-D7', 'Am-D7-Dm', 'D7-Dm-G7']\n",
            "['C', 'Eb7', 'G#', 'B7', 'E', 'G7', 'Gm', 'C7', 'F', 'Eb7', 'G#', 'B7', 'E', 'G7', 'C', 'C-Eb7-G#', 'Eb7-G#-B7', 'G#-B7-E', 'B7-E-G7', 'E-G7-Gm', 'G7-Gm-C7', 'Gm-C7-F', 'C7-F-Eb7', 'F-Eb7-G#', 'Eb7-G#-B7', 'G#-B7-E', 'B7-E-G7', 'E-G7-C']\n",
            "['Gm', 'C7', 'Bm', 'E7', 'A', 'C7', 'F', 'Bbm', 'Eb7', 'G#', 'Dm', 'G7', 'Gm-C7-Bm', 'C7-Bm-E7', 'Bm-E7-A', 'E7-A-C7', 'A-C7-F', 'C7-F-Bbm', 'F-Bbm-Eb7', 'Bbm-Eb7-G#', 'Eb7-G#-Dm', 'G#-Dm-G7']\n",
            "['C', 'Eb7', 'G#', 'B7', 'E', 'G7', 'Gm', 'C7', 'F', 'Eb7', 'G#', 'B7', 'E', 'G7', 'C', 'C-Eb7-G#', 'Eb7-G#-B7', 'G#-B7-E', 'B7-E-G7', 'E-G7-Gm', 'G7-Gm-C7', 'Gm-C7-F', 'C7-F-Eb7', 'F-Eb7-G#', 'Eb7-G#-B7', 'G#-B7-E', 'B7-E-G7', 'E-G7-C']\n",
            "['Am', 'Am', 'Cm', 'Cm', 'Eb', 'Eb', 'Em7b5', 'A7', 'Dm', 'Dm', 'Bm7b5', 'Bm7b5', 'Bbm', 'Bbm', 'Fm', 'Fm', 'E7', 'E7', 'Fm', 'Fm', 'C#', 'C#', 'Fm', 'Fm', 'C#', 'C#', 'Am-Am-Cm', 'Am-Cm-Cm', 'Cm-Cm-Eb', 'Cm-Eb-Eb', 'Eb-Eb-Em7b5', 'Eb-Em7b5-A7', 'Em7b5-A7-Dm', 'A7-Dm-Dm', 'Dm-Dm-Bm7b5', 'Dm-Bm7b5-Bm7b5', 'Bm7b5-Bm7b5-Bbm', 'Bm7b5-Bbm-Bbm', 'Bbm-Bbm-Fm', 'Bbm-Fm-Fm', 'Fm-Fm-E7', 'Fm-E7-E7', 'E7-E7-Fm', 'E7-Fm-Fm', 'Fm-Fm-C#', 'Fm-C#-C#', 'C#-C#-Fm', 'C#-Fm-Fm', 'Fm-Fm-C#', 'Fm-C#-C#']\n"
          ]
        }
      ]
    },
    {
      "cell_type": "code",
      "metadata": {
        "colab": {
          "base_uri": "https://localhost:8080/"
        },
        "id": "pBdUdBNr9Gmu",
        "outputId": "2cbcf4f7-92c5-4979-a2de-387b6a8fe510"
      },
      "source": [
        "dictionary = corpora.Dictionary(processed_corpus)"
      ],
      "execution_count": 14,
      "outputs": [
        {
          "output_type": "stream",
          "name": "stderr",
          "text": [
            "2021-11-19 16:40:31,976 : INFO : adding document #0 to Dictionary(0 unique tokens: [])\n",
            "2021-11-19 16:40:32,241 : INFO : built Dictionary(8375 unique tokens: ['Am', 'Am-D7-Dm', 'B7', 'B7-E-G7', 'C']...) from 5403 documents (total 154774 corpus positions)\n",
            "2021-11-19 16:40:32,243 : INFO : Dictionary lifecycle event {'msg': \"built Dictionary(8375 unique tokens: ['Am', 'Am-D7-Dm', 'B7', 'B7-E-G7', 'C']...) from 5403 documents (total 154774 corpus positions)\", 'datetime': '2021-11-19T16:40:32.243777', 'gensim': '4.1.2', 'python': '3.7.12 (default, Sep 10 2021, 00:21:48) \\n[GCC 7.5.0]', 'platform': 'Linux-5.4.104+-x86_64-with-Ubuntu-18.04-bionic', 'event': 'created'}\n"
          ]
        }
      ]
    },
    {
      "cell_type": "code",
      "metadata": {
        "id": "9NK-cuax9Kqk"
      },
      "source": [
        "# dictionary.token2id"
      ],
      "execution_count": 15,
      "outputs": []
    },
    {
      "cell_type": "code",
      "metadata": {
        "id": "vWOBtwEU9OKl"
      },
      "source": [
        "bow_corpus = [dictionary.doc2bow(text) for text in processed_corpus]"
      ],
      "execution_count": 16,
      "outputs": []
    },
    {
      "cell_type": "code",
      "metadata": {
        "id": "til5xlce_y1m"
      },
      "source": [
        "!rm -R index_tfidf\n",
        "!mkdir index_tfidf"
      ],
      "execution_count": 17,
      "outputs": []
    },
    {
      "cell_type": "code",
      "metadata": {
        "colab": {
          "base_uri": "https://localhost:8080/"
        },
        "id": "tn_fz2M090IM",
        "outputId": "87bb7713-01a6-4c18-d88c-49858d806423"
      },
      "source": [
        "# Note: SparseMatrixSimilarity crashes due to lacking memory\n",
        "\n",
        "index_tfidf = similarities.Similarity('/content/index_tfidf', bow_corpus, num_features=len(dictionary))"
      ],
      "execution_count": 25,
      "outputs": [
        {
          "output_type": "stream",
          "name": "stderr",
          "text": [
            "2021-11-19 16:41:51,195 : INFO : starting similarity index under /content/index_tfidf\n"
          ]
        }
      ]
    },
    {
      "cell_type": "markdown",
      "metadata": {
        "id": "ZLK0coIu9Tv5"
      },
      "source": [
        "## Test for single tunes"
      ]
    },
    {
      "cell_type": "code",
      "metadata": {
        "id": "Fzrj1qxwDpJT"
      },
      "source": [
        "def get_sim_scores(tunes, index):\n",
        "\n",
        "    df_sim = pd.DataFrame(columns=['reference_title',\n",
        "                                  'similar_title',\n",
        "                                  'ref_section', \n",
        "                                  'similar_section', \n",
        "                                  'score', \n",
        "                                  ])\n",
        "\n",
        "    for tune in tunes:\n",
        "      print()\n",
        "      print(\"-\"*50)\n",
        "      for s1 in title_to_sectionid[tune]:\n",
        "      \n",
        "          query = processed_corpus[s1]\n",
        "          query_bow = dictionary.doc2bow(query)\n",
        "\n",
        "          # perform a similarity query against the corpus\n",
        "          similarities = index[query_bow]\n",
        "          sims = sorted(enumerate(similarities), key=lambda item: -item[1])\n",
        "          \n",
        "          print(s1, sectionid_to_section[s1])\n",
        "          n = 0\n",
        "          for s2, s2_score in sims:\n",
        "            \n",
        "            # store the top N best results\n",
        "            if n > 40:\n",
        "                break\n",
        "            # don't count self-similarity between sections of the same tune\n",
        "            if s2 not in title_to_sectionid[tune]:\n",
        "                n += 1\n",
        "            \n",
        "                # print(f\"\\t{s2_score:.3f} {sectionid_to_section[s2]}\")\n",
        "\n",
        "                df_sim.loc[len(df_sim)] = [tune,\n",
        "                                sectionid_to_title[s2],\n",
        "                                sectionid_to_section[s1], \n",
        "                                sectionid_to_section[s2], \n",
        "                                s2_score, \n",
        "                                ]\n",
        "    return df_sim"
      ],
      "execution_count": 26,
      "outputs": []
    },
    {
      "cell_type": "code",
      "metadata": {
        "id": "DsQO6iJl9VjQ"
      },
      "source": [
        "tunes_eval_list = [\n",
        "  'Sweet Sue, Just You',\n",
        "  'These Foolish Things', \n",
        "  'Blue Moon',\n",
        "  'All Of Me',\n",
        "  \"All God's Chillun Got Rhythm\",\n",
        "  'I Got Rhythm',\n",
        "  'Bye Bye Blackbird',\n",
        "  'Old Fashioned Love',\n",
        "  'Dinah',\n",
        "  'Honeysuckle Rose',\n",
        "  'Misty'\n",
        "]"
      ],
      "execution_count": 27,
      "outputs": []
    },
    {
      "cell_type": "code",
      "metadata": {
        "colab": {
          "base_uri": "https://localhost:8080/"
        },
        "id": "5Wz4ZQk_EKZy",
        "outputId": "cd0aa565-afe5-4c85-8c88-f4e0a2d0f801"
      },
      "source": [
        "df_sim = get_sim_scores(tunes_eval_list, index_tfidf)"
      ],
      "execution_count": 28,
      "outputs": [
        {
          "output_type": "stream",
          "name": "stderr",
          "text": [
            "2021-11-19 16:42:13,644 : INFO : creating sparse index\n",
            "2021-11-19 16:42:13,646 : INFO : creating sparse matrix from corpus\n",
            "2021-11-19 16:42:13,648 : INFO : PROGRESS: at document #0/5403\n"
          ]
        },
        {
          "output_type": "stream",
          "name": "stdout",
          "text": [
            "\n",
            "--------------------------------------------------\n"
          ]
        },
        {
          "output_type": "stream",
          "name": "stderr",
          "text": [
            "2021-11-19 16:42:13,969 : INFO : created <5403x8375 sparse matrix of type '<class 'numpy.float32'>'\n",
            "\twith 101771 stored elements in Compressed Sparse Row format>\n",
            "2021-11-19 16:42:13,971 : INFO : creating sparse shard #0\n",
            "2021-11-19 16:42:13,973 : INFO : saving index shard to /content/index_tfidf.0\n",
            "2021-11-19 16:42:13,975 : INFO : SparseMatrixSimilarity lifecycle event {'fname_or_handle': '/content/index_tfidf.0', 'separately': 'None', 'sep_limit': 10485760, 'ignore': frozenset(), 'datetime': '2021-11-19T16:42:13.975042', 'gensim': '4.1.2', 'python': '3.7.12 (default, Sep 10 2021, 00:21:48) \\n[GCC 7.5.0]', 'platform': 'Linux-5.4.104+-x86_64-with-Ubuntu-18.04-bionic', 'event': 'saving'}\n",
            "2021-11-19 16:42:13,983 : INFO : saved /content/index_tfidf.0\n",
            "2021-11-19 16:42:13,985 : INFO : loading SparseMatrixSimilarity object from /content/index_tfidf.0\n",
            "2021-11-19 16:42:13,988 : INFO : SparseMatrixSimilarity lifecycle event {'fname': '/content/index_tfidf.0', 'datetime': '2021-11-19T16:42:13.988601', 'gensim': '4.1.2', 'python': '3.7.12 (default, Sep 10 2021, 00:21:48) \\n[GCC 7.5.0]', 'platform': 'Linux-5.4.104+-x86_64-with-Ubuntu-18.04-bionic', 'event': 'loaded'}\n"
          ]
        },
        {
          "output_type": "stream",
          "name": "stdout",
          "text": [
            "3752 Sweet Sue, Just You, section1 (A)\n",
            "3753 Sweet Sue, Just You, section2 (A)\n",
            "3754 Sweet Sue, Just You, section3 (B)\n",
            "3755 Sweet Sue, Just You, section4 (A)\n",
            "\n",
            "--------------------------------------------------\n",
            "3866 These Foolish Things, section1 (A)\n",
            "3867 These Foolish Things, section2 (A)\n",
            "3868 These Foolish Things, section3 (B)\n",
            "3869 These Foolish Things, section4 (A)\n",
            "\n",
            "--------------------------------------------------\n",
            "496 Blue Moon, section1 (A)\n",
            "497 Blue Moon, section2 (A)\n",
            "498 Blue Moon, section3 (B)\n",
            "499 Blue Moon, section4 (A)\n",
            "\n",
            "--------------------------------------------------\n",
            "198 All Of Me, section1 (A)\n",
            "199 All Of Me, section2 (B)\n",
            "200 All Of Me, section3 (A)\n",
            "201 All Of Me, section4 (C)\n",
            "\n",
            "--------------------------------------------------\n",
            "188 All God's Chillun Got Rhythm, section1 (A)\n",
            "189 All God's Chillun Got Rhythm, section2 (B)\n",
            "190 All God's Chillun Got Rhythm, section3 (A)\n",
            "191 All God's Chillun Got Rhythm, section4 (C)\n",
            "\n",
            "--------------------------------------------------\n",
            "1647 I Got Rhythm, section1 (A)\n",
            "1648 I Got Rhythm, section2 (A)\n",
            "1649 I Got Rhythm, section3 (B)\n",
            "1650 I Got Rhythm, section4 (A)\n",
            "4821 I Got Rhythm, section1 (A)\n",
            "4822 I Got Rhythm, section2 (A)\n",
            "4823 I Got Rhythm, section3 (B)\n",
            "4824 I Got Rhythm, section4 (A)\n",
            "\n",
            "--------------------------------------------------\n",
            "653 Bye Bye Blackbird, section1 (A)\n",
            "654 Bye Bye Blackbird, section2 (B)\n",
            "4569 Bye Bye Blackbird, section1 (A)\n",
            "4570 Bye Bye Blackbird, section2 (B)\n",
            "4571 Bye Bye Blackbird, section3 (C)\n",
            "\n",
            "--------------------------------------------------\n",
            "5056 Old Fashioned Love, section0 (nan)\n",
            "\n",
            "--------------------------------------------------\n",
            "997 Dinah, section1 (A)\n",
            "998 Dinah, section2 (A)\n",
            "999 Dinah, section3 (B)\n",
            "1000 Dinah, section4 (A)\n",
            "\n",
            "--------------------------------------------------\n",
            "1538 Honeysuckle Rose, section1 (A)\n",
            "1539 Honeysuckle Rose, section2 (A)\n",
            "1540 Honeysuckle Rose, section3 (B)\n",
            "1541 Honeysuckle Rose, section4 (A)\n",
            "4793 Honeysuckle Rose, section1 (A)\n",
            "4794 Honeysuckle Rose, section2 (A)\n",
            "4795 Honeysuckle Rose, section3 (B)\n",
            "4796 Honeysuckle Rose, section4 (A)\n",
            "\n",
            "--------------------------------------------------\n",
            "2676 Misty, section1 (A)\n",
            "2677 Misty, section2 (A)\n",
            "2678 Misty, section3 (B)\n",
            "2679 Misty, section4 (A)\n"
          ]
        }
      ]
    },
    {
      "cell_type": "code",
      "metadata": {
        "colab": {
          "base_uri": "https://localhost:8080/",
          "height": 542
        },
        "id": "yzRuIKVh9c8g",
        "outputId": "d5c6cf78-4003-443e-c4d6-5f0c2ac5a3b4"
      },
      "source": [
        "import plotly.express as px\n",
        "fig = px.histogram(df_sim, x=\"score\", nbins=100)\n",
        "fig.show()"
      ],
      "execution_count": 29,
      "outputs": [
        {
          "output_type": "display_data",
          "data": {
            "text/html": [
              "<html>\n",
              "<head><meta charset=\"utf-8\" /></head>\n",
              "<body>\n",
              "    <div>\n",
              "            <script src=\"https://cdnjs.cloudflare.com/ajax/libs/mathjax/2.7.5/MathJax.js?config=TeX-AMS-MML_SVG\"></script><script type=\"text/javascript\">if (window.MathJax) {MathJax.Hub.Config({SVG: {font: \"STIX-Web\"}});}</script>\n",
              "                <script type=\"text/javascript\">window.PlotlyConfig = {MathJaxConfig: 'local'};</script>\n",
              "        <script src=\"https://cdn.plot.ly/plotly-latest.min.js\"></script>    \n",
              "            <div id=\"40019180-b54f-4489-b122-7037d449625c\" class=\"plotly-graph-div\" style=\"height:525px; width:100%;\"></div>\n",
              "            <script type=\"text/javascript\">\n",
              "                \n",
              "                    window.PLOTLYENV=window.PLOTLYENV || {};\n",
              "                    \n",
              "                if (document.getElementById(\"40019180-b54f-4489-b122-7037d449625c\")) {\n",
              "                    Plotly.newPlot(\n",
              "                        '40019180-b54f-4489-b122-7037d449625c',\n",
              "                        [{\"alignmentgroup\": \"True\", \"bingroup\": \"x\", \"hoverlabel\": {\"namelength\": 0}, \"hovertemplate\": \"score=%{x}<br>count=%{y}\", \"legendgroup\": \"\", \"marker\": {\"color\": \"#636efa\"}, \"name\": \"\", \"nbinsx\": 100, \"offsetgroup\": \"\", \"orientation\": \"v\", \"showlegend\": false, \"type\": \"histogram\", \"x\": [0.9630867838859558, 0.9604372382164001, 0.9604372382164001, 0.9602859616279602, 0.9438695907592773, 0.9298893213272095, 0.9216358065605164, 0.9198336005210876, 0.9141378402709961, 0.9133461713790894, 0.9133461713790894, 0.9133461713790894, 0.90625, 0.9061030149459839, 0.9061030149459839, 0.9061030149459839, 0.90598064661026, 0.90598064661026, 0.9052647352218628, 0.9048758745193481, 0.9048758745193481, 0.9048758745193481, 0.9036960005760193, 0.9036960005760193, 0.9015963077545166, 0.9015482664108276, 0.8976655602455139, 0.8976655602455139, 0.8968881964683533, 0.8948929309844971, 0.8940593004226685, 0.8940593004226685, 0.8911327719688416, 0.8889859914779663, 0.8889859914779663, 0.8889859914779663, 0.8878456354141235, 0.8878456354141235, 0.88755863904953, 0.8872442841529846, 0.8866241574287415, 0.9630867838859558, 0.9604372382164001, 0.9604372382164001, 0.9602859616279602, 0.9438695907592773, 0.9298893213272095, 0.9216358065605164, 0.9198336005210876, 0.9141378402709961, 0.9133461713790894, 0.9133461713790894, 0.9133461713790894, 0.90625, 0.9061030149459839, 0.9061030149459839, 0.9061030149459839, 0.90598064661026, 0.90598064661026, 0.9052647352218628, 0.9048758745193481, 0.9048758745193481, 0.9048758745193481, 0.9036960005760193, 0.9036960005760193, 0.9015963077545166, 0.9015482664108276, 0.8976655602455139, 0.8976655602455139, 0.8968881964683533, 0.8948929309844971, 0.8940593004226685, 0.8940593004226685, 0.8911327719688416, 0.8889859914779663, 0.8889859914779663, 0.8889859914779663, 0.8878456354141235, 0.8878456354141235, 0.88755863904953, 0.8872442841529846, 0.8866241574287415, 0.8838834762573242, 0.6666667461395264, 0.6666667461395264, 0.6499337553977966, 0.6499337553977966, 0.6285393834114075, 0.625, 0.625, 0.6182841062545776, 0.6111111640930176, 0.6009252071380615, 0.589255690574646, 0.589255690574646, 0.5892556309700012, 0.577350378036499, 0.5773502588272095, 0.5773502588272095, 0.5677749514579773, 0.5666667222976685, 0.5666666626930237, 0.5634362101554871, 0.5601120591163635, 0.5555555820465088, 0.5555555820465088, 0.5555555820465088, 0.5555555820465088, 0.5527707934379578, 0.5424889922142029, 0.5406205058097839, 0.5402224063873291, 0.5345224738121033, 0.5345224738121033, 0.5345224738121033, 0.5333333611488342, 0.5292377471923828, 0.527046263217926, 0.525493860244751, 0.525493860244751, 0.525493860244751, 0.523809552192688, 0.5217491984367371, 0.9630867838859558, 0.9604372382164001, 0.9604372382164001, 0.9602859616279602, 0.9438695907592773, 0.9298893213272095, 0.9216358065605164, 0.9198336005210876, 0.9141378402709961, 0.9133461713790894, 0.9133461713790894, 0.9133461713790894, 0.90625, 0.9061030149459839, 0.9061030149459839, 0.9061030149459839, 0.90598064661026, 0.90598064661026, 0.9052647352218628, 0.9048758745193481, 0.9048758745193481, 0.9048758745193481, 0.9036960005760193, 0.9036960005760193, 0.9015963077545166, 0.9015482664108276, 0.8976655602455139, 0.8976655602455139, 0.8968881964683533, 0.8948929309844971, 0.8940593004226685, 0.8940593004226685, 0.8911327719688416, 0.8889859914779663, 0.8889859914779663, 0.8889859914779663, 0.8878456354141235, 0.8878456354141235, 0.88755863904953, 0.8872442841529846, 0.8866241574287415, 0.8852847218513489, 0.8460170030593872, 0.8374999761581421, 0.8332091569900513, 0.8308504819869995, 0.8283250331878662, 0.8277209997177124, 0.8275354504585266, 0.8273452520370483, 0.8262365460395813, 0.8256749510765076, 0.8256749510765076, 0.8212100863456726, 0.8181650638580322, 0.8181650638580322, 0.8168439865112305, 0.8168439865112305, 0.8168439865112305, 0.816496729850769, 0.8109307289123535, 0.8083333969116211, 0.8082239627838135, 0.8061017990112305, 0.8061017990112305, 0.8055551052093506, 0.8055551052093506, 0.805554986000061, 0.805554986000061, 0.8049845099449158, 0.8040761351585388, 0.8033264875411987, 0.8029550909996033, 0.8000000715255737, 0.8000000715255737, 0.800000011920929, 0.7999999523162842, 0.7999999523162842, 0.798159658908844, 0.796691358089447, 0.7961865067481995, 0.7961865067481995, 0.839337944984436, 0.8179128766059875, 0.8148148059844971, 0.8148148059844971, 0.8140802979469299, 0.8122788667678833, 0.8068715333938599, 0.8018754124641418, 0.8018754124641418, 0.7994862198829651, 0.7950465083122253, 0.7947193384170532, 0.7945061326026917, 0.7945061326026917, 0.7945061326026917, 0.7945061326026917, 0.7945061326026917, 0.7909650802612305, 0.7909650802612305, 0.7902098298072815, 0.7890454530715942, 0.7874259948730469, 0.7873360514640808, 0.7872796654701233, 0.7872796654701233, 0.7860084772109985, 0.7827592492103577, 0.7814470529556274, 0.780318558216095, 0.7798340916633606, 0.7795795798301697, 0.7777316570281982, 0.7769269347190857, 0.7767009735107422, 0.775885820388794, 0.7757911086082458, 0.7756717801094055, 0.7756717801094055, 0.7751457691192627, 0.7751457691192627, 0.7745966911315918, 0.7570332884788513, 0.7456012964248657, 0.7233394384384155, 0.7233394384384155, 0.6882473230361938, 0.643796443939209, 0.6257827877998352, 0.6190104484558105, 0.6177208423614502, 0.6120564341545105, 0.611775279045105, 0.600751519203186, 0.5960395336151123, 0.5879572629928589, 0.5879572629928589, 0.5869391560554504, 0.5824823975563049, 0.5790742635726929, 0.5751193165779114, 0.5740379095077515, 0.5735393762588501, 0.5726562142372131, 0.5629262328147888, 0.5624833703041077, 0.5564149022102356, 0.5538185834884644, 0.5533715486526489, 0.5518254041671753, 0.5518254041671753, 0.5514717102050781, 0.5445100665092468, 0.5419436693191528, 0.5408420562744141, 0.5408419966697693, 0.539634108543396, 0.539634108543396, 0.5386385917663574, 0.5357154011726379, 0.535655677318573, 0.533113956451416, 0.5318785309791565, 0.8860529065132141, 0.8696263432502747, 0.8691520690917969, 0.8691520690917969, 0.8571429252624512, 0.8509225845336914, 0.8486685752868652, 0.84375, 0.8432739973068237, 0.8427953720092773, 0.839689314365387, 0.8351913690567017, 0.8340575695037842, 0.8340575695037842, 0.8335068225860596, 0.8333332538604736, 0.8292486071586609, 0.8285171389579773, 0.8282364010810852, 0.8255007863044739, 0.8249578475952148, 0.8240554332733154, 0.8210254311561584, 0.8210254311561584, 0.8210254311561584, 0.8210254311561584, 0.8195126056671143, 0.8154810667037964, 0.8154810667037964, 0.8147159814834595, 0.8137334585189819, 0.8137334585189819, 0.8137334585189819, 0.8137334585189819, 0.8134519457817078, 0.8131726980209351, 0.8125, 0.8125, 0.8125, 0.8125, 0.812244176864624, 0.9254449605941772, 0.91578209400177, 0.91578209400177, 0.9114557504653931, 0.9112421274185181, 0.9112421274185181, 0.9089739322662354, 0.9089739322662354, 0.8992520570755005, 0.898922860622406, 0.8968542814254761, 0.8968542814254761, 0.8968542814254761, 0.8968542814254761, 0.895106852054596, 0.895106852054596, 0.8939194679260254, 0.8881170749664307, 0.8872621059417725, 0.877519965171814, 0.877471387386322, 0.8767946362495422, 0.8767946362495422, 0.8704352974891663, 0.8648647665977478, 0.8648647665977478, 0.857326328754425, 0.8567808270454407, 0.8562809824943542, 0.8562447428703308, 0.8552504777908325, 0.8548747301101685, 0.8546870946884155, 0.854394257068634, 0.854242205619812, 0.8524007797241211, 0.8489526510238647, 0.8468226790428162, 0.8454967737197876, 0.8442366719245911, 0.8427953720092773, 0.8364162445068359, 0.8364162445068359, 0.8323543071746826, 0.8240988254547119, 0.8240988254547119, 0.8152846693992615, 0.8124207258224487, 0.8116471767425537, 0.8096408843994141, 0.8096408843994141, 0.8096408843994141, 0.8072074055671692, 0.8052626848220825, 0.8011927008628845, 0.8009814023971558, 0.8006407022476196, 0.8006407022476196, 0.8003154397010803, 0.7967217564582825, 0.7951830625534058, 0.7925468683242798, 0.7914965152740479, 0.7914964556694031, 0.7904478311538696, 0.7904478311538696, 0.7884617447853088, 0.7884616255760193, 0.7877264022827148, 0.7877262830734253, 0.78667813539505, 0.78667813539505, 0.7852070331573486, 0.7848730683326721, 0.7844645977020264, 0.7844645380973816, 0.7844645380973816, 0.7844645380973816, 0.783488929271698, 0.779017448425293, 0.7784068584442139, 0.7783118486404419, 0.7860831618309021, 0.7839294672012329, 0.7839294672012329, 0.7834789156913757, 0.7803072929382324, 0.7789041996002197, 0.776205837726593, 0.7728525996208191, 0.770150899887085, 0.770150899887085, 0.770150899887085, 0.7639691829681396, 0.7639691829681396, 0.7633002400398254, 0.7627701163291931, 0.7619138360023499, 0.7619138360023499, 0.7619137763977051, 0.7544335722923279, 0.7544335722923279, 0.7544335722923279, 0.753778338432312, 0.753778338432312, 0.7491679787635803, 0.7483368515968323, 0.7477944493293762, 0.7468790411949158, 0.7462024092674255, 0.7462024092674255, 0.7443873286247253, 0.741619884967804, 0.739829957485199, 0.7395739555358887, 0.7389335036277771, 0.7355437874794006, 0.7348094582557678, 0.7336739301681519, 0.7328774929046631, 0.731711745262146, 0.7312724590301514, 0.7308152914047241, 0.9254449605941772, 0.91578209400177, 0.91578209400177, 0.9114557504653931, 0.9112421274185181, 0.9112421274185181, 0.9089739322662354, 0.9089739322662354, 0.8992520570755005, 0.898922860622406, 0.8968542814254761, 0.8968542814254761, 0.8968542814254761, 0.8968542814254761, 0.895106852054596, 0.895106852054596, 0.8939194679260254, 0.8881170749664307, 0.8872621059417725, 0.877519965171814, 0.877471387386322, 0.8767946362495422, 0.8767946362495422, 0.8704352974891663, 0.8648647665977478, 0.8648647665977478, 0.857326328754425, 0.8567808270454407, 0.8562809824943542, 0.8562447428703308, 0.8552504777908325, 0.8548747301101685, 0.8546870946884155, 0.854394257068634, 0.854242205619812, 0.8524007797241211, 0.8489526510238647, 0.8468226790428162, 0.8454967737197876, 0.8442366719245911, 0.8427953720092773, 0.8257229328155518, 0.8172693252563477, 0.8123623132705688, 0.7944299578666687, 0.7543364763259888, 0.72865229845047, 0.7272727489471436, 0.7231773734092712, 0.7135060429573059, 0.6963106393814087, 0.6963106393814087, 0.684949517250061, 0.684949517250061, 0.6722140312194824, 0.6666666269302368, 0.6662522554397583, 0.663374662399292, 0.662541389465332, 0.6617240905761719, 0.6603065729141235, 0.6603065729141235, 0.6544104814529419, 0.6532745957374573, 0.6404898762702942, 0.6396021842956543, 0.6396021842956543, 0.636363685131073, 0.636363685131073, 0.636363685131073, 0.6362981796264648, 0.633760929107666, 0.6271815299987793, 0.6271814703941345, 0.6271814703941345, 0.6227991580963135, 0.6227991580963135, 0.6197506785392761, 0.613636314868927, 0.6092718839645386, 0.6092718839645386, 0.6092718243598938, 0.905789315700531, 0.8672275543212891, 0.8581162691116333, 0.8581162095069885, 0.8581162095069885, 0.8581162095069885, 0.8581162095069885, 0.8500000834465027, 0.8215839266777039, 0.8028965592384338, 0.800000011920929, 0.7905694246292114, 0.7905694246292114, 0.7759403586387634, 0.7756717801094055, 0.7161040306091309, 0.7150968909263611, 0.7131996750831604, 0.6948792338371277, 0.688309907913208, 0.6863516569137573, 0.6761234402656555, 0.6761234402656555, 0.6719839572906494, 0.6719839572906494, 0.6717513799667358, 0.6717513799667358, 0.6688445210456848, 0.663738489151001, 0.657375693321228, 0.6573448181152344, 0.6567673087120056, 0.6531972885131836, 0.6529286503791809, 0.6519201993942261, 0.6511822938919067, 0.6508220434188843, 0.6390095949172974, 0.636396050453186, 0.6343349814414978, 0.6338657736778259, 0.8257229328155518, 0.8172693252563477, 0.8123623132705688, 0.7944299578666687, 0.7543364763259888, 0.72865229845047, 0.7272727489471436, 0.7231773734092712, 0.7135060429573059, 0.6963106393814087, 0.6963106393814087, 0.684949517250061, 0.684949517250061, 0.6722140312194824, 0.6666666269302368, 0.6662522554397583, 0.663374662399292, 0.662541389465332, 0.6617240905761719, 0.6603065729141235, 0.6603065729141235, 0.6544104814529419, 0.6532745957374573, 0.6404898762702942, 0.6396021842956543, 0.6396021842956543, 0.636363685131073, 0.636363685131073, 0.636363685131073, 0.6362981796264648, 0.633760929107666, 0.6271815299987793, 0.6271814703941345, 0.6271814703941345, 0.6227991580963135, 0.6227991580963135, 0.6197506785392761, 0.613636314868927, 0.6092718839645386, 0.6092718839645386, 0.6092718243598938, 0.8118442296981812, 0.8070412874221802, 0.7858681082725525, 0.7852190136909485, 0.7838495969772339, 0.7838495969772339, 0.7769545912742615, 0.7746883034706116, 0.7693217396736145, 0.7544333934783936, 0.7543365359306335, 0.753778338432312, 0.753778338432312, 0.7526177763938904, 0.7526177763938904, 0.7526176571846008, 0.7497771978378296, 0.7491679787635803, 0.7462024092674255, 0.7454838156700134, 0.741619884967804, 0.7392479181289673, 0.7391406297683716, 0.7391406297683716, 0.7391405701637268, 0.7391405701637268, 0.7387687563896179, 0.7385488748550415, 0.7356807589530945, 0.734809398651123, 0.7311956882476807, 0.7284356355667114, 0.7272728085517883, 0.7272728085517883, 0.7272728085517883, 0.7272728085517883, 0.7263001203536987, 0.7263001203536987, 0.7263001203536987, 0.725669264793396, 0.7253235578536987, 0.9404255747795105, 0.9355689287185669, 0.910181999206543, 0.9061028957366943, 0.9061028957366943, 0.9035254716873169, 0.8932369351387024, 0.892147958278656, 0.8902523517608643, 0.888336181640625, 0.8807047605514526, 0.8757933378219604, 0.8727973699569702, 0.8727973699569702, 0.8642417788505554, 0.8634623289108276, 0.8634623289108276, 0.8615517020225525, 0.8606887459754944, 0.8573215007781982, 0.857159435749054, 0.8552837371826172, 0.85442054271698, 0.85442054271698, 0.8541666865348816, 0.8539973497390747, 0.8528602123260498, 0.8503903150558472, 0.8486684560775757, 0.8486684560775757, 0.8479832410812378, 0.8455942869186401, 0.8455942869186401, 0.8444056510925293, 0.8432208299636841, 0.8419690728187561, 0.8419690728187561, 0.8419690728187561, 0.8411583304405212, 0.8389450311660767, 0.8389450311660767, 0.836242139339447, 0.7537782788276672, 0.743150532245636, 0.7398301959037781, 0.7395739555358887, 0.7392479181289673, 0.7312724590301514, 0.7278603911399841, 0.7272728681564331, 0.7247759699821472, 0.7229986786842346, 0.7229986786842346, 0.7229986786842346, 0.7108058333396912, 0.7085662484169006, 0.7039895057678223, 0.7035265564918518, 0.6963106989860535, 0.6934760808944702, 0.6908493638038635, 0.6908493638038635, 0.6908493638038635, 0.6881024241447449, 0.684949517250061, 0.6847622990608215, 0.6818183064460754, 0.6800093650817871, 0.6800093650817871, 0.6784005165100098, 0.6784005165100098, 0.6784005165100098, 0.678400456905365, 0.678400456905365, 0.678400456905365, 0.6751355528831482, 0.674965500831604, 0.6741999387741089, 0.6718710660934448, 0.6689937114715576, 0.6689937114715576, 0.6681615710258484, 0.9404255747795105, 0.9355689287185669, 0.910181999206543, 0.9061028957366943, 0.9061028957366943, 0.9035254716873169, 0.8932369351387024, 0.892147958278656, 0.8902523517608643, 0.888336181640625, 0.8807047605514526, 0.8757933378219604, 0.8727973699569702, 0.8727973699569702, 0.8642417788505554, 0.8634623289108276, 0.8634623289108276, 0.8615517020225525, 0.8606887459754944, 0.8573215007781982, 0.857159435749054, 0.8552837371826172, 0.85442054271698, 0.85442054271698, 0.8541666865348816, 0.8539973497390747, 0.8528602123260498, 0.8503903150558472, 0.8486684560775757, 0.8486684560775757, 0.8479832410812378, 0.8455942869186401, 0.8455942869186401, 0.8444056510925293, 0.8432208299636841, 0.8419690728187561, 0.8419690728187561, 0.8419690728187561, 0.8411583304405212, 0.8389450311660767, 0.8389450311660767, 0.9354141354560852, 0.8944270014762878, 0.8660255074501038, 0.8580079674720764, 0.8526787757873535, 0.8333334922790527, 0.8320502042770386, 0.8320502042770386, 0.8261526226997375, 0.8124999403953552, 0.8089789748191833, 0.8048830032348633, 0.7987621426582336, 0.793856680393219, 0.7914672493934631, 0.7908294200897217, 0.7905694246292114, 0.7905694246292114, 0.784464418888092, 0.7819289565086365, 0.7819289565086365, 0.7819289565086365, 0.7817675471305847, 0.7812499403953552, 0.7768985629081726, 0.7759403586387634, 0.7759403586387634, 0.7759403586387634, 0.7745965719223022, 0.7726531624794006, 0.7717437148094177, 0.7715167999267578, 0.7708052396774292, 0.7705517411231995, 0.7683759927749634, 0.7683759331703186, 0.7660322189331055, 0.7660321593284607, 0.7659931778907776, 0.7639899253845215, 0.7639899253845215, 0.8035712838172913, 0.8035712838172913, 0.8017838001251221, 0.7976420521736145, 0.7976420521736145, 0.7888106107711792, 0.78269362449646, 0.7768985033035278, 0.7768985033035278, 0.7718448638916016, 0.7718448638916016, 0.7683760523796082, 0.7655319571495056, 0.7637627124786377, 0.7637627124786377, 0.7637627124786377, 0.7637627124786377, 0.7637626528739929, 0.7627051472663879, 0.758061945438385, 0.7523255348205566, 0.7523255348205566, 0.7523255348205566, 0.7516722083091736, 0.7467286586761475, 0.7465529441833496, 0.7456436157226562, 0.7418204545974731, 0.7412493228912354, 0.7412493228912354, 0.7412493228912354, 0.7412493228912354, 0.7401804327964783, 0.7378517389297485, 0.7370308041572571, 0.7349684238433838, 0.7348978519439697, 0.7329409718513489, 0.7323606014251709, 0.7323604822158813, 0.730109453201294, 0.791154682636261, 0.774596631526947, 0.774596631526947, 0.7741387486457825, 0.7741387486457825, 0.7715168595314026, 0.7715168595314026, 0.7698972225189209, 0.7698972225189209, 0.7660325169563293, 0.7660325169563293, 0.7660324573516846, 0.7660324573516846, 0.7660324573516846, 0.7577723264694214, 0.7577722668647766, 0.7577722668647766, 0.7573789954185486, 0.755050539970398, 0.7526172995567322, 0.7515664100646973, 0.7405926585197449, 0.7405926585197449, 0.7405926585197449, 0.7405926585197449, 0.739829957485199, 0.7397300004959106, 0.7382716536521912, 0.7373632788658142, 0.7373632788658142, 0.7373632788658142, 0.7364853620529175, 0.7348469495773315, 0.7332131862640381, 0.7315230965614319, 0.7314448356628418, 0.7302967309951782, 0.729166567325592, 0.7284356951713562, 0.7271922826766968, 0.7267487645149231, 1.0000001192092896, 1.0000001192092896, 1.0000001192092896, 1.0000001192092896, 1.0000001192092896, 1.0000001192092896, 1.0000001192092896, 1.0000001192092896, 1.0000001192092896, 1.0000001192092896, 1.0000001192092896, 1.0000001192092896, 1.0000001192092896, 1.0000001192092896, 1.0000001192092896, 1.0000001192092896, 1.0000001192092896, 1.0000001192092896, 1.0000001192092896, 1.0000001192092896, 1.0000001192092896, 1.0000001192092896, 0.9669874310493469, 0.9574272632598877, 0.9574272632598877, 0.9341986775398254, 0.905789315700531, 0.8629550337791443, 0.8581162691116333, 0.8334434032440186, 0.8193174600601196, 0.8181818723678589, 0.8181818723678589, 0.7993266582489014, 0.7981988191604614, 0.7833495736122131, 0.7817359566688538, 0.778904139995575, 0.7762138843536377, 0.7762138843536377, 0.7724873423576355, 0.8600410223007202, 0.8600410223007202, 0.835913896560669, 0.8251228928565979, 0.821926474571228, 0.821926474571228, 0.8150826692581177, 0.8150826692581177, 0.8086204528808594, 0.8086204528808594, 0.8053132891654968, 0.8044948577880859, 0.8003266453742981, 0.7970534563064575, 0.7970534563064575, 0.7965822815895081, 0.7963908910751343, 0.7963908910751343, 0.7963908910751343, 0.7949780225753784, 0.7932174205780029, 0.7932174205780029, 0.7921181321144104, 0.7859053611755371, 0.7826600670814514, 0.7818230986595154, 0.7815037369728088, 0.7800239324569702, 0.7797477841377258, 0.7796430587768555, 0.7796429991722107, 0.7796429991722107, 0.7773342728614807, 0.7762057781219482, 0.7762057781219482, 0.7747790217399597, 0.774225115776062, 0.774225115776062, 0.774225115776062, 0.7742249965667725, 0.7705156207084656, 0.8035712838172913, 0.8035712838172913, 0.8017838001251221, 0.7976420521736145, 0.7976420521736145, 0.7888106107711792, 0.78269362449646, 0.7768985033035278, 0.7768985033035278, 0.7718448638916016, 0.7718448638916016, 0.7683760523796082, 0.7655319571495056, 0.7637627124786377, 0.7637627124786377, 0.7637627124786377, 0.7637627124786377, 0.7637626528739929, 0.7627051472663879, 0.758061945438385, 0.7523255348205566, 0.7523255348205566, 0.7523255348205566, 0.7516722083091736, 0.7467286586761475, 0.7465529441833496, 0.7456436157226562, 0.7418204545974731, 0.7412493228912354, 0.7412493228912354, 0.7412493228912354, 0.7412493228912354, 0.7401804327964783, 0.7378517389297485, 0.7370308041572571, 0.7349684238433838, 0.7348978519439697, 0.7329409718513489, 0.7323606014251709, 0.7323604822158813, 0.730109453201294, 0.791154682636261, 0.774596631526947, 0.774596631526947, 0.7741387486457825, 0.7741387486457825, 0.7715168595314026, 0.7715168595314026, 0.7698972225189209, 0.7698972225189209, 0.7660325169563293, 0.7660325169563293, 0.7660324573516846, 0.7660324573516846, 0.7660324573516846, 0.7577723264694214, 0.7577722668647766, 0.7577722668647766, 0.7573789954185486, 0.755050539970398, 0.7526172995567322, 0.7515664100646973, 0.7405926585197449, 0.7405926585197449, 0.7405926585197449, 0.7405926585197449, 0.739829957485199, 0.7397300004959106, 0.7382716536521912, 0.7373632788658142, 0.7373632788658142, 0.7373632788658142, 0.7364853620529175, 0.7348469495773315, 0.7332131862640381, 0.7315230965614319, 0.7314448356628418, 0.7302967309951782, 0.729166567325592, 0.7284356951713562, 0.7271922826766968, 0.7267487645149231, 1.0000001192092896, 1.0000001192092896, 1.0000001192092896, 1.0000001192092896, 1.0000001192092896, 1.0000001192092896, 1.0000001192092896, 1.0000001192092896, 1.0000001192092896, 1.0000001192092896, 1.0000001192092896, 1.0000001192092896, 1.0000001192092896, 1.0000001192092896, 1.0000001192092896, 1.0000001192092896, 1.0000001192092896, 1.0000001192092896, 1.0000001192092896, 1.0000001192092896, 1.0000001192092896, 1.0000001192092896, 0.9669874310493469, 0.9574272632598877, 0.9574272632598877, 0.9341986775398254, 0.905789315700531, 0.8629550337791443, 0.8581162691116333, 0.8334434032440186, 0.8193174600601196, 0.8181818723678589, 0.8181818723678589, 0.7993266582489014, 0.7981988191604614, 0.7833495736122131, 0.7817359566688538, 0.778904139995575, 0.7762138843536377, 0.7762138843536377, 0.7724873423576355, 0.8600410223007202, 0.8600410223007202, 0.835913896560669, 0.8251228928565979, 0.821926474571228, 0.821926474571228, 0.8150826692581177, 0.8150826692581177, 0.8086204528808594, 0.8086204528808594, 0.8053132891654968, 0.8044948577880859, 0.8003266453742981, 0.7970534563064575, 0.7970534563064575, 0.7965822815895081, 0.7963908910751343, 0.7963908910751343, 0.7963908910751343, 0.7949780225753784, 0.7932174205780029, 0.7932174205780029, 0.7921181321144104, 0.7859053611755371, 0.7826600670814514, 0.7818230986595154, 0.7815037369728088, 0.7800239324569702, 0.7797477841377258, 0.7796430587768555, 0.7796429991722107, 0.7796429991722107, 0.7773342728614807, 0.7762057781219482, 0.7762057781219482, 0.7747790217399597, 0.774225115776062, 0.774225115776062, 0.774225115776062, 0.7742249965667725, 0.7705156207084656, 0.9036960601806641, 0.9031588435173035, 0.8976563811302185, 0.8976563811302185, 0.8951435089111328, 0.8948928713798523, 0.8900492191314697, 0.8900492191314697, 0.8900492191314697, 0.8864611983299255, 0.8864611983299255, 0.8864611983299255, 0.8861470818519592, 0.8855424523353577, 0.8821794986724854, 0.8811038136482239, 0.8786383867263794, 0.8786383867263794, 0.8772406578063965, 0.8764598965644836, 0.8701775074005127, 0.8682893514633179, 0.8682892918586731, 0.8682892918586731, 0.8670090436935425, 0.8666666150093079, 0.8665406703948975, 0.8661112189292908, 0.8563835620880127, 0.855283796787262, 0.8520582318305969, 0.8520128130912781, 0.8520128130912781, 0.8500000238418579, 0.8500000238418579, 0.8489527702331543, 0.8489527702331543, 0.8483676910400391, 0.8479514122009277, 0.8470431566238403, 0.8463234901428223, 0.8589556217193604, 0.8558443188667297, 0.8558443188667297, 0.8558443188667297, 0.8558443188667297, 0.8558443188667297, 0.8446388244628906, 0.8434348106384277, 0.8340444564819336, 0.8329267501831055, 0.8229812979698181, 0.8183436393737793, 0.8174430131912231, 0.8157606720924377, 0.8141120076179504, 0.8116472363471985, 0.8098312616348267, 0.8098312020301819, 0.8098312020301819, 0.8087565898895264, 0.8087565898895264, 0.8087565898895264, 0.8067178726196289, 0.8004986643791199, 0.8003904223442078, 0.7969708442687988, 0.7969708442687988, 0.7963331341743469, 0.7933192253112793, 0.7930448055267334, 0.7906295657157898, 0.7889609336853027, 0.7881701588630676, 0.7857341170310974, 0.7848010659217834, 0.7838379740715027, 0.7838379740715027, 0.7838379144668579, 0.7831894755363464, 0.7831894755363464, 0.782464325428009, 0.8952786922454834, 0.8906940221786499, 0.8764620423316956, 0.8764620423316956, 0.859785258769989, 0.8566855788230896, 0.8530145287513733, 0.848169207572937, 0.8446570634841919, 0.8430772423744202, 0.8430772423744202, 0.8430772423744202, 0.8387083411216736, 0.8369175791740417, 0.8345229625701904, 0.8334935307502747, 0.8334935307502747, 0.8334935307502747, 0.8320502638816833, 0.8320502638816833, 0.8235320448875427, 0.8235320448875427, 0.8223004341125488, 0.8174980878829956, 0.8171504735946655, 0.8139846920967102, 0.8139846920967102, 0.8098583221435547, 0.8098583221435547, 0.8096409440040588, 0.8089379072189331, 0.807692289352417, 0.807692289352417, 0.8072072863578796, 0.8072072863578796, 0.8072072863578796, 0.8072072863578796, 0.8058632612228394, 0.8056291937828064, 0.8056291937828064, 0.8056291937828064, 0.7071067690849304, 0.6111111640930176, 0.5986843109130859, 0.5797508955001831, 0.5781515836715698, 0.5781515836715698, 0.5781515836715698, 0.5781515836715698, 0.5781515836715698, 0.5773502588272095, 0.5669467449188232, 0.5651941895484924, 0.5597928762435913, 0.5570860505104065, 0.5570860505104065, 0.5570860505104065, 0.5556623339653015, 0.5471101403236389, 0.5455447435379028, 0.5455447435379028, 0.5455447435379028, 0.5452753305435181, 0.5430788993835449, 0.5430788993835449, 0.5388159155845642, 0.5388159155845642, 0.5345224738121033, 0.5337449908256531, 0.5303300619125366, 0.5303300619125366, 0.5303300619125366, 0.5231143832206726, 0.5163977742195129, 0.5144957900047302, 0.5144957304000854, 0.5144957304000854, 0.5106882452964783, 0.5106882452964783, 0.5106882452964783, 0.5103104114532471, 0.5103104114532471, 0.8744747042655945, 0.8461540341377258, 0.8461540341377258, 0.8461540341377258, 0.8461540341377258, 0.8461540341377258, 0.8461540341377258, 0.8321983814239502, 0.8320503830909729, 0.8320503830909729, 0.8236200213432312, 0.8236200213432312, 0.8153742551803589, 0.8131250143051147, 0.81312495470047, 0.8107413649559021, 0.8072074055671692, 0.8072074055671692, 0.8072074055671692, 0.8072074055671692, 0.8040761947631836, 0.8040543794631958, 0.8000363111495972, 0.8000363111495972, 0.7989984154701233, 0.7982717752456665, 0.7974143028259277, 0.7970167994499207, 0.7968429327011108, 0.7966275811195374, 0.7957103252410889, 0.7953559160232544, 0.7944299578666687, 0.7944299578666687, 0.7925938367843628, 0.7924289107322693, 0.7893523573875427, 0.7886959910392761, 0.7886959910392761, 0.7877264618873596, 0.7877263426780701, 0.8816727995872498, 0.8569071888923645, 0.8429040908813477, 0.8411262035369873, 0.8352746963500977, 0.8324252963066101, 0.8320515155792236, 0.8259601593017578, 0.8231517672538757, 0.8224887847900391, 0.8214291930198669, 0.8196796774864197, 0.8183931708335876, 0.8182384371757507, 0.8180469274520874, 0.8180469274520874, 0.8176859021186829, 0.8136993646621704, 0.8114546537399292, 0.811346173286438, 0.8104990720748901, 0.8096711039543152, 0.8096711039543152, 0.8096710443496704, 0.8096710443496704, 0.8096710443496704, 0.8096710443496704, 0.8091800212860107, 0.808914303779602, 0.808914303779602, 0.808914303779602, 0.808745801448822, 0.8081352710723877, 0.8070266246795654, 0.8052442073822021, 0.8034816980361938, 0.8023162484169006, 0.8022554516792297, 0.7997597455978394, 0.799074113368988, 0.7989684343338013, 0.9308955669403076, 0.8898266553878784, 0.8898266553878784, 0.8898266553878784, 0.8803097009658813, 0.8778664469718933, 0.877328097820282, 0.8761370182037354, 0.8761370182037354, 0.8740283846855164, 0.8719775676727295, 0.8704469203948975, 0.8700516223907471, 0.8700516223907471, 0.8666225075721741, 0.8666225075721741, 0.8626689910888672, 0.8626689910888672, 0.8608582019805908, 0.858229398727417, 0.8581366539001465, 0.8534917831420898, 0.8511037230491638, 0.8511037230491638, 0.8450828194618225, 0.8444719910621643, 0.8422349691390991, 0.8417381048202515, 0.8410214185714722, 0.8404605984687805, 0.8404605984687805, 0.8404605984687805, 0.8396799564361572, 0.8396799564361572, 0.8390608429908752, 0.8370785117149353, 0.8356291055679321, 0.8356291055679321, 0.8356290459632874, 0.8356289863586426, 0.8339078426361084, 0.8727973699569702, 0.8727973699569702, 0.8727973699569702, 0.871601939201355, 0.8634624481201172, 0.8557238578796387, 0.8557238578796387, 0.854769766330719, 0.8486684560775757, 0.8479831218719482, 0.8429271578788757, 0.8427008390426636, 0.8427008390426636, 0.8427008390426636, 0.8411583304405212, 0.8406727313995361, 0.8381440043449402, 0.8371579647064209, 0.8371579647064209, 0.8369089961051941, 0.8329947590827942, 0.8289098739624023, 0.8277636766433716, 0.8268688321113586, 0.8229511380195618, 0.8215838670730591, 0.8195125460624695, 0.8195124864578247, 0.8172693848609924, 0.8172693848609924, 0.8172693848609924, 0.816541850566864, 0.8164966106414795, 0.8164966106414795, 0.8164966106414795, 0.8164965510368347, 0.8164965510368347, 0.812919557094574, 0.8118987679481506, 0.8105282783508301, 0.8101913928985596, 0.8685988783836365, 0.8583325743675232, 0.8551623225212097, 0.8451541662216187, 0.8417937755584717, 0.8366599082946777, 0.8366599082946777, 0.8366599082946777, 0.8366599082946777, 0.8366599082946777, 0.8366599082946777, 0.8366599082946777, 0.8309490084648132, 0.8309490084648132, 0.8309490084648132, 0.8214284181594849, 0.8189229965209961, 0.8139142990112305, 0.8081220984458923, 0.8058228492736816, 0.8003104329109192, 0.7930446863174438, 0.7874259948730469, 0.7664242386817932, 0.7655590176582336, 0.7637625932693481, 0.7629271745681763, 0.7610917091369629, 0.7606388330459595, 0.7606388330459595, 0.7606388330459595, 0.7606388330459595, 0.7606388330459595, 0.7606388330459595, 0.7581753730773926, 0.7576143145561218, 0.7513055801391602, 0.7513055801391602, 0.7494734525680542, 0.7480612397193909, 0.7457994818687439, 0.9166666865348816, 0.9085408449172974, 0.9065321087837219, 0.9055769443511963, 0.9055769443511963, 0.9055769443511963, 0.9014978408813477, 0.8994686007499695, 0.8976655602455139, 0.8976655602455139, 0.895891547203064, 0.8934051394462585, 0.891645073890686, 0.891645073890686, 0.891645073890686, 0.8894991874694824, 0.8865039348602295, 0.885854184627533, 0.8854518532752991, 0.8854518532752991, 0.8832922577857971, 0.8825960159301758, 0.8819621205329895, 0.8819621205329895, 0.8809523582458496, 0.8760958313941956, 0.8734202980995178, 0.8709679841995239, 0.8685991168022156, 0.8685991168022156, 0.8685991168022156, 0.8648350238800049, 0.8648350238800049, 0.860697865486145, 0.8590540885925293, 0.8559080362319946, 0.8553372621536255, 0.8553372621536255, 0.8553372621536255, 0.8545427322387695, 0.8545427322387695, 0.9048645496368408, 0.9032105803489685, 0.8972638845443726, 0.8940592408180237, 0.8897565007209778, 0.8890519738197327, 0.8886114358901978, 0.8886114358901978, 0.8886114358901978, 0.8759957551956177, 0.8759957551956177, 0.8759957551956177, 0.874891459941864, 0.8711361885070801, 0.8613808155059814, 0.8534795045852661, 0.8534795045852661, 0.8524345755577087, 0.8495908975601196, 0.8459705114364624, 0.8440971374511719, 0.8381440043449402, 0.8381440043449402, 0.8381440043449402, 0.8381440043449402, 0.8381440043449402, 0.8342977166175842, 0.8301132917404175, 0.8284034729003906, 0.8284034729003906, 0.8284034729003906, 0.8277381062507629, 0.827236533164978, 0.8220731019973755, 0.8220728635787964, 0.8220728635787964, 0.8220728039741516, 0.8161608576774597, 0.8141912221908569, 0.8141912221908569, 0.8112760782241821, 0.9386740922927856, 0.9386740922927856, 0.9386740922927856, 0.9293203353881836, 0.919979453086853, 0.8885233402252197, 0.8871203660964966, 0.8830215334892273, 0.8782179951667786, 0.8782179951667786, 0.8780492544174194, 0.8759957551956177, 0.8759957551956177, 0.8759957551956177, 0.8748915195465088, 0.8740747570991516, 0.873723566532135, 0.8735891580581665, 0.8735891580581665, 0.8705715537071228, 0.8672906160354614, 0.8672906160354614, 0.8672906160354614, 0.8609460592269897, 0.8586505651473999, 0.854709267616272, 0.8473501205444336, 0.8459705114364624, 0.8459060788154602, 0.8342977166175842, 0.8316320776939392, 0.8316320776939392, 0.8312199115753174, 0.8284034729003906, 0.8272399306297302, 0.8220731019973755, 0.8220729827880859, 0.8220729827880859, 0.8220729827880859, 0.8220729827880859, 0.8212459087371826, 1.0000001192092896, 1.0000001192092896, 1.0000001192092896, 1.0000001192092896, 1.0000001192092896, 1.0000001192092896, 1.0000001192092896, 1.0000001192092896, 1.0000001192092896, 0.905789315700531, 0.905789315700531, 0.905789315700531, 0.905789315700531, 0.870388388633728, 0.870388388633728, 0.8058229088783264, 0.7537783980369568, 0.7537783980369568, 0.7537783980369568, 0.7521804571151733, 0.7398301362991333, 0.7252406477928162, 0.7239229083061218, 0.7150968313217163, 0.7150968313217163, 0.7115626931190491, 0.703526496887207, 0.697518527507782, 0.6897006034851074, 0.6715191006660461, 0.6674237251281738, 0.6674237251281738, 0.6674237251281738, 0.6674237251281738, 0.6674237251281738, 0.6674237251281738, 0.6674237251281738, 0.6638122797012329, 0.6633249521255493, 0.6581451892852783, 0.6581451892852783, 0.9048645496368408, 0.9032105803489685, 0.8972638845443726, 0.8940592408180237, 0.8897565007209778, 0.8890519738197327, 0.8886114358901978, 0.8886114358901978, 0.8886114358901978, 0.8759957551956177, 0.8759957551956177, 0.8759957551956177, 0.874891459941864, 0.8711361885070801, 0.8613808155059814, 0.8534795045852661, 0.8534795045852661, 0.8524345755577087, 0.8495908975601196, 0.8459705114364624, 0.8440971374511719, 0.8381440043449402, 0.8381440043449402, 0.8381440043449402, 0.8381440043449402, 0.8381440043449402, 0.8342977166175842, 0.8301132917404175, 0.8284034729003906, 0.8284034729003906, 0.8284034729003906, 0.8277381062507629, 0.827236533164978, 0.8220731019973755, 0.8220728635787964, 0.8220728635787964, 0.8220728039741516, 0.8161608576774597, 0.8141912221908569, 0.8141912221908569, 0.8112760782241821, 0.9048645496368408, 0.9032105803489685, 0.8972638845443726, 0.8940592408180237, 0.8897565007209778, 0.8890519738197327, 0.8886114358901978, 0.8886114358901978, 0.8886114358901978, 0.8759957551956177, 0.8759957551956177, 0.8759957551956177, 0.874891459941864, 0.8711361885070801, 0.8613808155059814, 0.8534795045852661, 0.8534795045852661, 0.8524345755577087, 0.8495908975601196, 0.8459705114364624, 0.8440971374511719, 0.8381440043449402, 0.8381440043449402, 0.8381440043449402, 0.8381440043449402, 0.8381440043449402, 0.8342977166175842, 0.8301132917404175, 0.8284034729003906, 0.8284034729003906, 0.8284034729003906, 0.8277381062507629, 0.827236533164978, 0.8220731019973755, 0.8220728635787964, 0.8220728635787964, 0.8220728039741516, 0.8161608576774597, 0.8141912221908569, 0.8141912221908569, 0.8112760782241821, 0.9386740922927856, 0.9386740922927856, 0.9386740922927856, 0.9293203353881836, 0.919979453086853, 0.8885233402252197, 0.8871203660964966, 0.8830215334892273, 0.8782179951667786, 0.8782179951667786, 0.8780492544174194, 0.8759957551956177, 0.8759957551956177, 0.8759957551956177, 0.8748915195465088, 0.8740747570991516, 0.873723566532135, 0.8735891580581665, 0.8735891580581665, 0.8705715537071228, 0.8672906160354614, 0.8672906160354614, 0.8672906160354614, 0.8609460592269897, 0.8586505651473999, 0.854709267616272, 0.8473501205444336, 0.8459705114364624, 0.8459060788154602, 0.8342977166175842, 0.8316320776939392, 0.8316320776939392, 0.8312199115753174, 0.8284034729003906, 0.8272399306297302, 0.8220731019973755, 0.8220729827880859, 0.8220729827880859, 0.8220729827880859, 0.8220729827880859, 0.8212459087371826, 1.0000001192092896, 1.0000001192092896, 1.0000001192092896, 1.0000001192092896, 1.0000001192092896, 1.0000001192092896, 1.0000001192092896, 1.0000001192092896, 1.0000001192092896, 0.905789315700531, 0.905789315700531, 0.905789315700531, 0.905789315700531, 0.870388388633728, 0.870388388633728, 0.8058229088783264, 0.7537783980369568, 0.7537783980369568, 0.7537783980369568, 0.7521804571151733, 0.7398301362991333, 0.7252406477928162, 0.7239229083061218, 0.7150968313217163, 0.7150968313217163, 0.7115626931190491, 0.703526496887207, 0.697518527507782, 0.6897006034851074, 0.6715191006660461, 0.6674237251281738, 0.6674237251281738, 0.6674237251281738, 0.6674237251281738, 0.6674237251281738, 0.6674237251281738, 0.6674237251281738, 0.6638122797012329, 0.6633249521255493, 0.6581451892852783, 0.6581451892852783, 0.9048645496368408, 0.9032105803489685, 0.8972638845443726, 0.8940592408180237, 0.8897565007209778, 0.8890519738197327, 0.8886114358901978, 0.8886114358901978, 0.8886114358901978, 0.8759957551956177, 0.8759957551956177, 0.8759957551956177, 0.874891459941864, 0.8711361885070801, 0.8613808155059814, 0.8534795045852661, 0.8534795045852661, 0.8524345755577087, 0.8495908975601196, 0.8459705114364624, 0.8440971374511719, 0.8381440043449402, 0.8381440043449402, 0.8381440043449402, 0.8381440043449402, 0.8381440043449402, 0.8342977166175842, 0.8301132917404175, 0.8284034729003906, 0.8284034729003906, 0.8284034729003906, 0.8277381062507629, 0.827236533164978, 0.8220731019973755, 0.8220728635787964, 0.8220728635787964, 0.8220728039741516, 0.8161608576774597, 0.8141912221908569, 0.8141912221908569, 0.8112760782241821, 0.8660253286361694, 0.8340573310852051, 0.8068713545799255, 0.7882407307624817, 0.7844644784927368, 0.7844644784927368, 0.784464418888092, 0.7819289565086365, 0.7795514464378357, 0.7749998569488525, 0.7698003053665161, 0.7698003053665161, 0.7637625932693481, 0.7558646202087402, 0.7558646202087402, 0.7502740621566772, 0.75, 0.7499999403953552, 0.7482879757881165, 0.7457440495491028, 0.7456011772155762, 0.7408718466758728, 0.7399499416351318, 0.7399499416351318, 0.7399499416351318, 0.7399499416351318, 0.7399498820304871, 0.739829957485199, 0.7395098805427551, 0.7365694642066956, 0.7364853620529175, 0.7354353666305542, 0.7354353666305542, 0.7349681854248047, 0.7349339723587036, 0.7323060035705566, 0.7323060035705566, 0.7323059439659119, 0.7323059439659119, 0.73127681016922, 0.73127681016922, 0.806059718132019, 0.796154260635376, 0.7947717308998108, 0.79411780834198, 0.79411780834198, 0.7938840389251709, 0.7931810021400452, 0.7881604433059692, 0.782898485660553, 0.7827803492546082, 0.7811208963394165, 0.7811208963394165, 0.7778444886207581, 0.7773343324661255, 0.7773343324661255, 0.7761140465736389, 0.7735737562179565, 0.7735737562179565, 0.7735737562179565, 0.7717437148094177, 0.7685322165489197, 0.7680292725563049, 0.7678361535072327, 0.7671931982040405, 0.764046847820282, 0.7622547745704651, 0.7599604725837708, 0.7599604725837708, 0.7585824728012085, 0.7579237818717957, 0.7579237818717957, 0.7579237818717957, 0.7551982402801514, 0.7537024021148682, 0.7527728080749512, 0.7514691352844238, 0.7514691352844238, 0.7511601448059082, 0.7497773170471191, 0.7497773170471191, 0.7497772574424744, 0.6227990388870239, 0.6040686368942261, 0.6030227541923523, 0.6030226945877075, 0.6030226945877075, 0.6030226945877075, 0.6030226349830627, 0.5909368395805359, 0.5863019824028015, 0.5863019824028015, 0.5863019824028015, 0.5720775127410889, 0.5720775127410889, 0.5720775127410889, 0.5720775127410889, 0.5720775127410889, 0.5720775127410889, 0.5698028802871704, 0.5657524466514587, 0.5533714890480042, 0.5527708530426025, 0.5527707934379578, 0.5449492335319519, 0.5449492335319519, 0.5330017805099487, 0.5276448130607605, 0.5276448130607605, 0.5276448130607605, 0.5248638391494751, 0.5244044065475464, 0.5244044065475464, 0.5244044065475464, 0.5244044065475464, 0.5237849950790405, 0.5237849950790405, 0.5237849354743958, 0.5222330093383789, 0.5222330093383789, 0.5222329497337341, 0.5211617350578308, 0.5187857747077942, 0.8468096256256104, 0.8426650166511536, 0.8235296010971069, 0.8235296010971069, 0.8203468322753906, 0.818557620048523, 0.818557620048523, 0.8173885345458984, 0.8134891390800476, 0.8106793165206909, 0.8102547526359558, 0.8091546297073364, 0.8086074590682983, 0.8060597777366638, 0.8033992052078247, 0.802111029624939, 0.8014860153198242, 0.8014860153198242, 0.7981017827987671, 0.7961542010307312, 0.7954116463661194, 0.7931809425354004, 0.7921180129051208, 0.7903903722763062, 0.7903903722763062, 0.7882406711578369, 0.7859053611755371, 0.7854523062705994, 0.784837007522583, 0.7840923070907593, 0.782898485660553, 0.7811208963394165, 0.7791935801506042, 0.7789808511734009, 0.7783041596412659, 0.7783041000366211, 0.7775158882141113, 0.7773342132568359, 0.7773342132568359, 0.7767131328582764, 0.7761140465736389], \"xaxis\": \"x\", \"yaxis\": \"y\"}],\n",
              "                        {\"barmode\": \"relative\", \"legend\": {\"tracegroupgap\": 0}, \"margin\": {\"t\": 60}, \"template\": {\"data\": {\"bar\": [{\"error_x\": {\"color\": \"#2a3f5f\"}, \"error_y\": {\"color\": \"#2a3f5f\"}, \"marker\": {\"line\": {\"color\": \"#E5ECF6\", \"width\": 0.5}}, \"type\": \"bar\"}], \"barpolar\": [{\"marker\": {\"line\": {\"color\": \"#E5ECF6\", \"width\": 0.5}}, \"type\": \"barpolar\"}], \"carpet\": [{\"aaxis\": {\"endlinecolor\": \"#2a3f5f\", \"gridcolor\": \"white\", \"linecolor\": \"white\", \"minorgridcolor\": \"white\", \"startlinecolor\": \"#2a3f5f\"}, \"baxis\": {\"endlinecolor\": \"#2a3f5f\", \"gridcolor\": \"white\", \"linecolor\": \"white\", \"minorgridcolor\": \"white\", \"startlinecolor\": \"#2a3f5f\"}, \"type\": \"carpet\"}], \"choropleth\": [{\"colorbar\": {\"outlinewidth\": 0, \"ticks\": \"\"}, \"type\": \"choropleth\"}], \"contour\": [{\"colorbar\": {\"outlinewidth\": 0, \"ticks\": \"\"}, \"colorscale\": [[0.0, \"#0d0887\"], [0.1111111111111111, \"#46039f\"], [0.2222222222222222, \"#7201a8\"], [0.3333333333333333, \"#9c179e\"], [0.4444444444444444, \"#bd3786\"], [0.5555555555555556, \"#d8576b\"], [0.6666666666666666, \"#ed7953\"], [0.7777777777777778, \"#fb9f3a\"], [0.8888888888888888, \"#fdca26\"], [1.0, \"#f0f921\"]], \"type\": \"contour\"}], \"contourcarpet\": [{\"colorbar\": {\"outlinewidth\": 0, \"ticks\": \"\"}, \"type\": \"contourcarpet\"}], \"heatmap\": [{\"colorbar\": {\"outlinewidth\": 0, \"ticks\": \"\"}, \"colorscale\": [[0.0, \"#0d0887\"], [0.1111111111111111, \"#46039f\"], [0.2222222222222222, \"#7201a8\"], [0.3333333333333333, \"#9c179e\"], [0.4444444444444444, \"#bd3786\"], [0.5555555555555556, \"#d8576b\"], [0.6666666666666666, \"#ed7953\"], [0.7777777777777778, \"#fb9f3a\"], [0.8888888888888888, \"#fdca26\"], [1.0, \"#f0f921\"]], \"type\": \"heatmap\"}], \"heatmapgl\": [{\"colorbar\": {\"outlinewidth\": 0, \"ticks\": \"\"}, \"colorscale\": [[0.0, \"#0d0887\"], [0.1111111111111111, \"#46039f\"], [0.2222222222222222, \"#7201a8\"], [0.3333333333333333, \"#9c179e\"], [0.4444444444444444, \"#bd3786\"], [0.5555555555555556, \"#d8576b\"], [0.6666666666666666, \"#ed7953\"], [0.7777777777777778, \"#fb9f3a\"], [0.8888888888888888, \"#fdca26\"], [1.0, \"#f0f921\"]], \"type\": \"heatmapgl\"}], \"histogram\": [{\"marker\": {\"colorbar\": {\"outlinewidth\": 0, \"ticks\": \"\"}}, \"type\": \"histogram\"}], \"histogram2d\": [{\"colorbar\": {\"outlinewidth\": 0, \"ticks\": \"\"}, \"colorscale\": [[0.0, \"#0d0887\"], [0.1111111111111111, \"#46039f\"], [0.2222222222222222, \"#7201a8\"], [0.3333333333333333, \"#9c179e\"], [0.4444444444444444, \"#bd3786\"], [0.5555555555555556, \"#d8576b\"], [0.6666666666666666, \"#ed7953\"], [0.7777777777777778, \"#fb9f3a\"], [0.8888888888888888, \"#fdca26\"], [1.0, \"#f0f921\"]], \"type\": \"histogram2d\"}], \"histogram2dcontour\": [{\"colorbar\": {\"outlinewidth\": 0, \"ticks\": \"\"}, \"colorscale\": [[0.0, \"#0d0887\"], [0.1111111111111111, \"#46039f\"], [0.2222222222222222, \"#7201a8\"], [0.3333333333333333, \"#9c179e\"], [0.4444444444444444, \"#bd3786\"], [0.5555555555555556, \"#d8576b\"], [0.6666666666666666, \"#ed7953\"], [0.7777777777777778, \"#fb9f3a\"], [0.8888888888888888, \"#fdca26\"], [1.0, \"#f0f921\"]], \"type\": \"histogram2dcontour\"}], \"mesh3d\": [{\"colorbar\": {\"outlinewidth\": 0, \"ticks\": \"\"}, \"type\": \"mesh3d\"}], \"parcoords\": [{\"line\": {\"colorbar\": {\"outlinewidth\": 0, \"ticks\": \"\"}}, \"type\": \"parcoords\"}], \"pie\": [{\"automargin\": true, \"type\": \"pie\"}], \"scatter\": [{\"marker\": {\"colorbar\": {\"outlinewidth\": 0, \"ticks\": \"\"}}, \"type\": \"scatter\"}], \"scatter3d\": [{\"line\": {\"colorbar\": {\"outlinewidth\": 0, \"ticks\": \"\"}}, \"marker\": {\"colorbar\": {\"outlinewidth\": 0, \"ticks\": \"\"}}, \"type\": \"scatter3d\"}], \"scattercarpet\": [{\"marker\": {\"colorbar\": {\"outlinewidth\": 0, \"ticks\": \"\"}}, \"type\": \"scattercarpet\"}], \"scattergeo\": [{\"marker\": {\"colorbar\": {\"outlinewidth\": 0, \"ticks\": \"\"}}, \"type\": \"scattergeo\"}], \"scattergl\": [{\"marker\": {\"colorbar\": {\"outlinewidth\": 0, \"ticks\": \"\"}}, \"type\": \"scattergl\"}], \"scattermapbox\": [{\"marker\": {\"colorbar\": {\"outlinewidth\": 0, \"ticks\": \"\"}}, \"type\": \"scattermapbox\"}], \"scatterpolar\": [{\"marker\": {\"colorbar\": {\"outlinewidth\": 0, \"ticks\": \"\"}}, \"type\": \"scatterpolar\"}], \"scatterpolargl\": [{\"marker\": {\"colorbar\": {\"outlinewidth\": 0, \"ticks\": \"\"}}, \"type\": \"scatterpolargl\"}], \"scatterternary\": [{\"marker\": {\"colorbar\": {\"outlinewidth\": 0, \"ticks\": \"\"}}, \"type\": \"scatterternary\"}], \"surface\": [{\"colorbar\": {\"outlinewidth\": 0, \"ticks\": \"\"}, \"colorscale\": [[0.0, \"#0d0887\"], [0.1111111111111111, \"#46039f\"], [0.2222222222222222, \"#7201a8\"], [0.3333333333333333, \"#9c179e\"], [0.4444444444444444, \"#bd3786\"], [0.5555555555555556, \"#d8576b\"], [0.6666666666666666, \"#ed7953\"], [0.7777777777777778, \"#fb9f3a\"], [0.8888888888888888, \"#fdca26\"], [1.0, \"#f0f921\"]], \"type\": \"surface\"}], \"table\": [{\"cells\": {\"fill\": {\"color\": \"#EBF0F8\"}, \"line\": {\"color\": \"white\"}}, \"header\": {\"fill\": {\"color\": \"#C8D4E3\"}, \"line\": {\"color\": \"white\"}}, \"type\": \"table\"}]}, \"layout\": {\"annotationdefaults\": {\"arrowcolor\": \"#2a3f5f\", \"arrowhead\": 0, \"arrowwidth\": 1}, \"coloraxis\": {\"colorbar\": {\"outlinewidth\": 0, \"ticks\": \"\"}}, \"colorscale\": {\"diverging\": [[0, \"#8e0152\"], [0.1, \"#c51b7d\"], [0.2, \"#de77ae\"], [0.3, \"#f1b6da\"], [0.4, \"#fde0ef\"], [0.5, \"#f7f7f7\"], [0.6, \"#e6f5d0\"], [0.7, \"#b8e186\"], [0.8, \"#7fbc41\"], [0.9, \"#4d9221\"], [1, \"#276419\"]], \"sequential\": [[0.0, \"#0d0887\"], [0.1111111111111111, \"#46039f\"], [0.2222222222222222, \"#7201a8\"], [0.3333333333333333, \"#9c179e\"], [0.4444444444444444, \"#bd3786\"], [0.5555555555555556, \"#d8576b\"], [0.6666666666666666, \"#ed7953\"], [0.7777777777777778, \"#fb9f3a\"], [0.8888888888888888, \"#fdca26\"], [1.0, \"#f0f921\"]], \"sequentialminus\": [[0.0, \"#0d0887\"], [0.1111111111111111, \"#46039f\"], [0.2222222222222222, \"#7201a8\"], [0.3333333333333333, \"#9c179e\"], [0.4444444444444444, \"#bd3786\"], [0.5555555555555556, \"#d8576b\"], [0.6666666666666666, \"#ed7953\"], [0.7777777777777778, \"#fb9f3a\"], [0.8888888888888888, \"#fdca26\"], [1.0, \"#f0f921\"]]}, \"colorway\": [\"#636efa\", \"#EF553B\", \"#00cc96\", \"#ab63fa\", \"#FFA15A\", \"#19d3f3\", \"#FF6692\", \"#B6E880\", \"#FF97FF\", \"#FECB52\"], \"font\": {\"color\": \"#2a3f5f\"}, \"geo\": {\"bgcolor\": \"white\", \"lakecolor\": \"white\", \"landcolor\": \"#E5ECF6\", \"showlakes\": true, \"showland\": true, \"subunitcolor\": \"white\"}, \"hoverlabel\": {\"align\": \"left\"}, \"hovermode\": \"closest\", \"mapbox\": {\"style\": \"light\"}, \"paper_bgcolor\": \"white\", \"plot_bgcolor\": \"#E5ECF6\", \"polar\": {\"angularaxis\": {\"gridcolor\": \"white\", \"linecolor\": \"white\", \"ticks\": \"\"}, \"bgcolor\": \"#E5ECF6\", \"radialaxis\": {\"gridcolor\": \"white\", \"linecolor\": \"white\", \"ticks\": \"\"}}, \"scene\": {\"xaxis\": {\"backgroundcolor\": \"#E5ECF6\", \"gridcolor\": \"white\", \"gridwidth\": 2, \"linecolor\": \"white\", \"showbackground\": true, \"ticks\": \"\", \"zerolinecolor\": \"white\"}, \"yaxis\": {\"backgroundcolor\": \"#E5ECF6\", \"gridcolor\": \"white\", \"gridwidth\": 2, \"linecolor\": \"white\", \"showbackground\": true, \"ticks\": \"\", \"zerolinecolor\": \"white\"}, \"zaxis\": {\"backgroundcolor\": \"#E5ECF6\", \"gridcolor\": \"white\", \"gridwidth\": 2, \"linecolor\": \"white\", \"showbackground\": true, \"ticks\": \"\", \"zerolinecolor\": \"white\"}}, \"shapedefaults\": {\"line\": {\"color\": \"#2a3f5f\"}}, \"ternary\": {\"aaxis\": {\"gridcolor\": \"white\", \"linecolor\": \"white\", \"ticks\": \"\"}, \"baxis\": {\"gridcolor\": \"white\", \"linecolor\": \"white\", \"ticks\": \"\"}, \"bgcolor\": \"#E5ECF6\", \"caxis\": {\"gridcolor\": \"white\", \"linecolor\": \"white\", \"ticks\": \"\"}}, \"title\": {\"x\": 0.05}, \"xaxis\": {\"automargin\": true, \"gridcolor\": \"white\", \"linecolor\": \"white\", \"ticks\": \"\", \"title\": {\"standoff\": 15}, \"zerolinecolor\": \"white\", \"zerolinewidth\": 2}, \"yaxis\": {\"automargin\": true, \"gridcolor\": \"white\", \"linecolor\": \"white\", \"ticks\": \"\", \"title\": {\"standoff\": 15}, \"zerolinecolor\": \"white\", \"zerolinewidth\": 2}}}, \"xaxis\": {\"anchor\": \"y\", \"domain\": [0.0, 1.0], \"title\": {\"text\": \"score\"}}, \"yaxis\": {\"anchor\": \"x\", \"domain\": [0.0, 1.0], \"title\": {\"text\": \"count\"}}},\n",
              "                        {\"responsive\": true}\n",
              "                    ).then(function(){\n",
              "                            \n",
              "var gd = document.getElementById('40019180-b54f-4489-b122-7037d449625c');\n",
              "var x = new MutationObserver(function (mutations, observer) {{\n",
              "        var display = window.getComputedStyle(gd).display;\n",
              "        if (!display || display === 'none') {{\n",
              "            console.log([gd, 'removed!']);\n",
              "            Plotly.purge(gd);\n",
              "            observer.disconnect();\n",
              "        }}\n",
              "}});\n",
              "\n",
              "// Listen for the removal of the full notebook cells\n",
              "var notebookContainer = gd.closest('#notebook-container');\n",
              "if (notebookContainer) {{\n",
              "    x.observe(notebookContainer, {childList: true});\n",
              "}}\n",
              "\n",
              "// Listen for the clearing of the current output cell\n",
              "var outputEl = gd.closest('.output');\n",
              "if (outputEl) {{\n",
              "    x.observe(outputEl, {childList: true});\n",
              "}}\n",
              "\n",
              "                        })\n",
              "                };\n",
              "                \n",
              "            </script>\n",
              "        </div>\n",
              "</body>\n",
              "</html>"
            ]
          },
          "metadata": {}
        }
      ]
    },
    {
      "cell_type": "code",
      "metadata": {
        "id": "OZ0YfkIO9g5V"
      },
      "source": [
        "def recommend_tune(df, tune_name):\n",
        "\n",
        "  df_tune = df.query(f\"reference_title == '{tune_name}'\")\n",
        "  ff = df_tune.iloc[:]\n",
        "\n",
        "  # get the maximum similarity score for each section and store in new column\n",
        "  ff['max'] = ff.groupby('ref_section')['score'].transform('max')\n",
        "\n",
        "  # scale the score with the maxmum value of each section\n",
        "  ff['score_div_max'] = ff['score'] / ff['max']\n",
        "\n",
        "  # consider only the top N tunes for each group\n",
        "  ff = ff.sort_values(['ref_section', 'score_div_max'], ascending=[True, False])\n",
        "  result = ff.groupby('ref_section').head(30)\n",
        "  \n",
        "  # if multiple rows from the same similar tune, keep only the similar_title with the highest score_div_max\n",
        "  result = result.groupby('similar_title').max('score_div_max').sort_values('score_div_max', ascending=False)\n",
        "\n",
        "  return result, ff"
      ],
      "execution_count": 30,
      "outputs": []
    },
    {
      "cell_type": "code",
      "metadata": {
        "colab": {
          "base_uri": "https://localhost:8080/",
          "height": 927
        },
        "id": "ohaxVQ6d9iiD",
        "outputId": "c4e11207-db2e-4a1c-8c71-2c5968352168"
      },
      "source": [
        "result, details = recommend_tune(df_sim, 'Blue Moon')\n",
        "result.head(30)"
      ],
      "execution_count": 31,
      "outputs": [
        {
          "output_type": "execute_result",
          "data": {
            "text/html": [
              "<div>\n",
              "<style scoped>\n",
              "    .dataframe tbody tr th:only-of-type {\n",
              "        vertical-align: middle;\n",
              "    }\n",
              "\n",
              "    .dataframe tbody tr th {\n",
              "        vertical-align: top;\n",
              "    }\n",
              "\n",
              "    .dataframe thead th {\n",
              "        text-align: right;\n",
              "    }\n",
              "</style>\n",
              "<table border=\"1\" class=\"dataframe\">\n",
              "  <thead>\n",
              "    <tr style=\"text-align: right;\">\n",
              "      <th></th>\n",
              "      <th>score</th>\n",
              "      <th>max</th>\n",
              "      <th>score_div_max</th>\n",
              "    </tr>\n",
              "    <tr>\n",
              "      <th>similar_title</th>\n",
              "      <th></th>\n",
              "      <th></th>\n",
              "      <th></th>\n",
              "    </tr>\n",
              "  </thead>\n",
              "  <tbody>\n",
              "    <tr>\n",
              "      <th>Touch Of Your Lips, The</th>\n",
              "      <td>0.915782</td>\n",
              "      <td>0.925445</td>\n",
              "      <td>1.000000</td>\n",
              "    </tr>\n",
              "    <tr>\n",
              "      <th>They All Laughed</th>\n",
              "      <td>0.801193</td>\n",
              "      <td>0.836416</td>\n",
              "      <td>1.000000</td>\n",
              "    </tr>\n",
              "    <tr>\n",
              "      <th>Mountain Greenery</th>\n",
              "      <td>0.925445</td>\n",
              "      <td>0.925445</td>\n",
              "      <td>1.000000</td>\n",
              "    </tr>\n",
              "    <tr>\n",
              "      <th>Jeepers Creepers</th>\n",
              "      <td>0.895107</td>\n",
              "      <td>0.925445</td>\n",
              "      <td>0.997260</td>\n",
              "    </tr>\n",
              "    <tr>\n",
              "      <th>It Could Happen To You</th>\n",
              "      <td>0.832354</td>\n",
              "      <td>0.836416</td>\n",
              "      <td>0.995144</td>\n",
              "    </tr>\n",
              "    <tr>\n",
              "      <th>Fools Rush In</th>\n",
              "      <td>0.887262</td>\n",
              "      <td>0.925445</td>\n",
              "      <td>0.992652</td>\n",
              "    </tr>\n",
              "    <tr>\n",
              "      <th>All Through The Day</th>\n",
              "      <td>0.778904</td>\n",
              "      <td>0.786083</td>\n",
              "      <td>0.990867</td>\n",
              "    </tr>\n",
              "    <tr>\n",
              "      <th>It's A Lovely Day Today</th>\n",
              "      <td>0.776206</td>\n",
              "      <td>0.786083</td>\n",
              "      <td>0.987435</td>\n",
              "    </tr>\n",
              "    <tr>\n",
              "      <th>Long Ago And Far Away</th>\n",
              "      <td>0.908974</td>\n",
              "      <td>0.925445</td>\n",
              "      <td>0.985274</td>\n",
              "    </tr>\n",
              "    <tr>\n",
              "      <th>At Last</th>\n",
              "      <td>0.911456</td>\n",
              "      <td>0.925445</td>\n",
              "      <td>0.984884</td>\n",
              "    </tr>\n",
              "    <tr>\n",
              "      <th>Heart And Soul</th>\n",
              "      <td>0.911242</td>\n",
              "      <td>0.925445</td>\n",
              "      <td>0.984653</td>\n",
              "    </tr>\n",
              "    <tr>\n",
              "      <th>Let's Fall In Love</th>\n",
              "      <td>0.911242</td>\n",
              "      <td>0.925445</td>\n",
              "      <td>0.984653</td>\n",
              "    </tr>\n",
              "    <tr>\n",
              "      <th>Over The Rainbow (Somewhere)</th>\n",
              "      <td>0.856245</td>\n",
              "      <td>0.925445</td>\n",
              "      <td>0.983169</td>\n",
              "    </tr>\n",
              "    <tr>\n",
              "      <th>Don't Be That Way</th>\n",
              "      <td>0.899252</td>\n",
              "      <td>0.925445</td>\n",
              "      <td>0.979732</td>\n",
              "    </tr>\n",
              "    <tr>\n",
              "      <th>I Like The Likes Of You</th>\n",
              "      <td>0.876795</td>\n",
              "      <td>0.925445</td>\n",
              "      <td>0.971868</td>\n",
              "    </tr>\n",
              "    <tr>\n",
              "      <th>Way You Look Tonight, The</th>\n",
              "      <td>0.877520</td>\n",
              "      <td>0.925445</td>\n",
              "      <td>0.971017</td>\n",
              "    </tr>\n",
              "    <tr>\n",
              "      <th>Party's Over, The</th>\n",
              "      <td>0.800315</td>\n",
              "      <td>0.836416</td>\n",
              "      <td>0.970343</td>\n",
              "    </tr>\n",
              "    <tr>\n",
              "      <th>52nd Street Theme</th>\n",
              "      <td>0.896854</td>\n",
              "      <td>0.925445</td>\n",
              "      <td>0.969106</td>\n",
              "    </tr>\n",
              "    <tr>\n",
              "      <th>I Won't Dance</th>\n",
              "      <td>0.893919</td>\n",
              "      <td>0.925445</td>\n",
              "      <td>0.965935</td>\n",
              "    </tr>\n",
              "    <tr>\n",
              "      <th>I Want To Be Happy</th>\n",
              "      <td>0.753778</td>\n",
              "      <td>0.786083</td>\n",
              "      <td>0.958904</td>\n",
              "    </tr>\n",
              "    <tr>\n",
              "      <th>All God's Chillun Got Rhythm</th>\n",
              "      <td>0.800641</td>\n",
              "      <td>0.836416</td>\n",
              "      <td>0.957228</td>\n",
              "    </tr>\n",
              "    <tr>\n",
              "      <th>Moonlight In Vermont</th>\n",
              "      <td>0.746202</td>\n",
              "      <td>0.786083</td>\n",
              "      <td>0.949266</td>\n",
              "    </tr>\n",
              "    <tr>\n",
              "      <th>Things We Did Last Summer, The</th>\n",
              "      <td>0.788462</td>\n",
              "      <td>0.836416</td>\n",
              "      <td>0.942667</td>\n",
              "    </tr>\n",
              "    <tr>\n",
              "      <th>Haunted Heart</th>\n",
              "      <td>0.788462</td>\n",
              "      <td>0.836416</td>\n",
              "      <td>0.942667</td>\n",
              "    </tr>\n",
              "    <tr>\n",
              "      <th>I've Got My Fingers Crossed</th>\n",
              "      <td>0.864865</td>\n",
              "      <td>0.925445</td>\n",
              "      <td>0.934539</td>\n",
              "    </tr>\n",
              "    <tr>\n",
              "      <th>Bewitched</th>\n",
              "      <td>0.864865</td>\n",
              "      <td>0.925445</td>\n",
              "      <td>0.934539</td>\n",
              "    </tr>\n",
              "    <tr>\n",
              "      <th>It's Magic</th>\n",
              "      <td>0.856281</td>\n",
              "      <td>0.925445</td>\n",
              "      <td>0.925264</td>\n",
              "    </tr>\n",
              "  </tbody>\n",
              "</table>\n",
              "</div>"
            ],
            "text/plain": [
              "                                   score       max  score_div_max\n",
              "similar_title                                                    \n",
              "Touch Of Your Lips, The         0.915782  0.925445       1.000000\n",
              "They All Laughed                0.801193  0.836416       1.000000\n",
              "Mountain Greenery               0.925445  0.925445       1.000000\n",
              "Jeepers Creepers                0.895107  0.925445       0.997260\n",
              "It Could Happen To You          0.832354  0.836416       0.995144\n",
              "Fools Rush In                   0.887262  0.925445       0.992652\n",
              "All Through The Day             0.778904  0.786083       0.990867\n",
              "It's A Lovely Day Today         0.776206  0.786083       0.987435\n",
              "Long Ago And Far Away           0.908974  0.925445       0.985274\n",
              "At Last                         0.911456  0.925445       0.984884\n",
              "Heart And Soul                  0.911242  0.925445       0.984653\n",
              "Let's Fall In Love              0.911242  0.925445       0.984653\n",
              "Over The Rainbow (Somewhere)    0.856245  0.925445       0.983169\n",
              "Don't Be That Way               0.899252  0.925445       0.979732\n",
              "I Like The Likes Of You         0.876795  0.925445       0.971868\n",
              "Way You Look Tonight, The       0.877520  0.925445       0.971017\n",
              "Party's Over, The               0.800315  0.836416       0.970343\n",
              "52nd Street Theme               0.896854  0.925445       0.969106\n",
              "I Won't Dance                   0.893919  0.925445       0.965935\n",
              "I Want To Be Happy              0.753778  0.786083       0.958904\n",
              "All God's Chillun Got Rhythm    0.800641  0.836416       0.957228\n",
              "Moonlight In Vermont            0.746202  0.786083       0.949266\n",
              "Things We Did Last Summer, The  0.788462  0.836416       0.942667\n",
              "Haunted Heart                   0.788462  0.836416       0.942667\n",
              "I've Got My Fingers Crossed     0.864865  0.925445       0.934539\n",
              "Bewitched                       0.864865  0.925445       0.934539\n",
              "It's Magic                      0.856281  0.925445       0.925264"
            ]
          },
          "metadata": {},
          "execution_count": 31
        }
      ]
    },
    {
      "cell_type": "code",
      "metadata": {
        "colab": {
          "base_uri": "https://localhost:8080/",
          "height": 49
        },
        "id": "FwjwvgO9-B5G",
        "outputId": "fee9c7cf-a4b7-4327-f478-83465a1f76ed"
      },
      "source": [
        "details.query('ref_section == \"These Foolish Things, section3 (B)\"').head(10)"
      ],
      "execution_count": 32,
      "outputs": [
        {
          "output_type": "execute_result",
          "data": {
            "text/html": [
              "<div>\n",
              "<style scoped>\n",
              "    .dataframe tbody tr th:only-of-type {\n",
              "        vertical-align: middle;\n",
              "    }\n",
              "\n",
              "    .dataframe tbody tr th {\n",
              "        vertical-align: top;\n",
              "    }\n",
              "\n",
              "    .dataframe thead th {\n",
              "        text-align: right;\n",
              "    }\n",
              "</style>\n",
              "<table border=\"1\" class=\"dataframe\">\n",
              "  <thead>\n",
              "    <tr style=\"text-align: right;\">\n",
              "      <th></th>\n",
              "      <th>reference_title</th>\n",
              "      <th>similar_title</th>\n",
              "      <th>ref_section</th>\n",
              "      <th>similar_section</th>\n",
              "      <th>score</th>\n",
              "      <th>max</th>\n",
              "      <th>score_div_max</th>\n",
              "    </tr>\n",
              "  </thead>\n",
              "  <tbody>\n",
              "  </tbody>\n",
              "</table>\n",
              "</div>"
            ],
            "text/plain": [
              "Empty DataFrame\n",
              "Columns: [reference_title, similar_title, ref_section, similar_section, score, max, score_div_max]\n",
              "Index: []"
            ]
          },
          "metadata": {},
          "execution_count": 32
        }
      ]
    },
    {
      "cell_type": "code",
      "metadata": {
        "id": "WJ6HEmJv-Upe"
      },
      "source": [
        ""
      ],
      "execution_count": 32,
      "outputs": []
    },
    {
      "cell_type": "markdown",
      "metadata": {
        "id": "99xHBRsd--OB"
      },
      "source": [
        "# SVD based LSI"
      ]
    },
    {
      "cell_type": "code",
      "metadata": {
        "id": "adsW9Uh9_JXs"
      },
      "source": [
        "from gensim import corpora, models, similarities\n",
        "from collections import defaultdict"
      ],
      "execution_count": 33,
      "outputs": []
    },
    {
      "cell_type": "code",
      "metadata": {
        "colab": {
          "base_uri": "https://localhost:8080/"
        },
        "id": "gHuqxUzG_ATi",
        "outputId": "85e6f598-51f1-4cb3-dfac-c6986f7a149c"
      },
      "source": [
        "ngrams_for_input = [1, 2]\n",
        "\n",
        "data_ngrams = []\n",
        "for line in data:\n",
        "  tune_n = []\n",
        "  for n in ngrams_for_input:\n",
        "    tune_n.extend(ngrams(line, n=n))\n",
        "  data_ngrams.append(tune_n)\n",
        "\n",
        "for line in data_ngrams[:5]:\n",
        "  print(line)"
      ],
      "execution_count": 34,
      "outputs": [
        {
          "output_type": "stream",
          "name": "stdout",
          "text": [
            "['C', 'Eb7', 'G#', 'B7', 'E', 'G7', 'Gm', 'C7', 'F', 'G#7', 'C#', 'E7', 'Am', 'D7', 'Dm', 'G7', 'C-Eb7', 'Eb7-G#', 'G#-B7', 'B7-E', 'E-G7', 'G7-Gm', 'Gm-C7', 'C7-F', 'F-G#7', 'G#7-C#', 'C#-E7', 'E7-Am', 'Am-D7', 'D7-Dm', 'Dm-G7']\n",
            "['C', 'Eb7', 'G#', 'B7', 'E', 'G7', 'Gm', 'C7', 'F', 'Eb7', 'G#', 'B7', 'E', 'G7', 'C', 'C-Eb7', 'Eb7-G#', 'G#-B7', 'B7-E', 'E-G7', 'G7-Gm', 'Gm-C7', 'C7-F', 'F-Eb7', 'Eb7-G#', 'G#-B7', 'B7-E', 'E-G7', 'G7-C']\n",
            "['Gm', 'C7', 'Bm', 'E7', 'A', 'C7', 'F', 'Bbm', 'Eb7', 'G#', 'Dm', 'G7', 'Gm-C7', 'C7-Bm', 'Bm-E7', 'E7-A', 'A-C7', 'C7-F', 'F-Bbm', 'Bbm-Eb7', 'Eb7-G#', 'G#-Dm', 'Dm-G7']\n",
            "['C', 'Eb7', 'G#', 'B7', 'E', 'G7', 'Gm', 'C7', 'F', 'Eb7', 'G#', 'B7', 'E', 'G7', 'C', 'C-Eb7', 'Eb7-G#', 'G#-B7', 'B7-E', 'E-G7', 'G7-Gm', 'Gm-C7', 'C7-F', 'F-Eb7', 'Eb7-G#', 'G#-B7', 'B7-E', 'E-G7', 'G7-C']\n",
            "['Am', 'Am', 'Cm', 'Cm', 'Eb', 'Eb', 'Em7b5', 'A7', 'Dm', 'Dm', 'Bm7b5', 'Bm7b5', 'Bbm', 'Bbm', 'Fm', 'Fm', 'E7', 'E7', 'Fm', 'Fm', 'C#', 'C#', 'Fm', 'Fm', 'C#', 'C#', 'Am-Am', 'Am-Cm', 'Cm-Cm', 'Cm-Eb', 'Eb-Eb', 'Eb-Em7b5', 'Em7b5-A7', 'A7-Dm', 'Dm-Dm', 'Dm-Bm7b5', 'Bm7b5-Bm7b5', 'Bm7b5-Bbm', 'Bbm-Bbm', 'Bbm-Fm', 'Fm-Fm', 'Fm-E7', 'E7-E7', 'E7-Fm', 'Fm-Fm', 'Fm-C#', 'C#-C#', 'C#-Fm', 'Fm-Fm', 'Fm-C#', 'C#-C#']\n"
          ]
        }
      ]
    },
    {
      "cell_type": "code",
      "metadata": {
        "colab": {
          "base_uri": "https://localhost:8080/"
        },
        "id": "s3AJZGRD_IHW",
        "outputId": "a5dca0ff-ffba-4207-be85-e2417d3dd0a7"
      },
      "source": [
        "frequency = defaultdict(int)\n",
        "for text in data_ngrams:\n",
        "    for token in text:\n",
        "        frequency[token] += 1\n",
        "\n",
        "data_ngrams = [[token for token in text if frequency[token] > 1] for text in data_ngrams]\n",
        "dictionary = corpora.Dictionary(data_ngrams)\n",
        "\n",
        "# doc2bow counts the number of occurences of each distinct word,\n",
        "# converts the word to its integer word id and returns the result\n",
        "# as a sparse vector\n",
        "\n",
        "bow_corpus = [dictionary.doc2bow(text) for text in data_ngrams]\n",
        "lsi = models.LsiModel(bow_corpus, id2word=dictionary, num_topics=200)  # num_topics can be maximum the size of the number of unique tokens"
      ],
      "execution_count": 38,
      "outputs": [
        {
          "output_type": "stream",
          "name": "stderr",
          "text": [
            "2021-11-19 16:43:43,971 : INFO : adding document #0 to Dictionary(0 unique tokens: [])\n",
            "2021-11-19 16:43:44,203 : INFO : built Dictionary(1602 unique tokens: ['Am', 'Am-D7', 'B7', 'B7-E', 'C']...) from 5403 documents (total 159684 corpus positions)\n",
            "2021-11-19 16:43:44,204 : INFO : Dictionary lifecycle event {'msg': \"built Dictionary(1602 unique tokens: ['Am', 'Am-D7', 'B7', 'B7-E', 'C']...) from 5403 documents (total 159684 corpus positions)\", 'datetime': '2021-11-19T16:43:44.204611', 'gensim': '4.1.2', 'python': '3.7.12 (default, Sep 10 2021, 00:21:48) \\n[GCC 7.5.0]', 'platform': 'Linux-5.4.104+-x86_64-with-Ubuntu-18.04-bionic', 'event': 'created'}\n",
            "2021-11-19 16:43:44,322 : INFO : using serial LSI version on this node\n",
            "2021-11-19 16:43:44,323 : INFO : updating model with new documents\n",
            "2021-11-19 16:43:44,325 : INFO : preparing a new chunk of documents\n",
            "2021-11-19 16:43:44,387 : INFO : using 100 extra samples and 2 power iterations\n",
            "2021-11-19 16:43:44,394 : INFO : 1st phase: constructing (1602, 300) action matrix\n",
            "2021-11-19 16:43:44,492 : INFO : orthonormalizing (1602, 300) action matrix\n",
            "2021-11-19 16:43:44,842 : INFO : 2nd phase: running dense svd on (300, 5403) matrix\n",
            "2021-11-19 16:43:45,248 : INFO : computing the final decomposition\n",
            "2021-11-19 16:43:45,250 : INFO : keeping 200 factors (discarding 1.235% of energy spectrum)\n",
            "2021-11-19 16:43:45,275 : INFO : processed documents up to #5403\n",
            "2021-11-19 16:43:45,279 : INFO : topic #0(439.102): 0.648*\"C\" + 0.462*\"G7\" + 0.260*\"Dm\" + 0.242*\"G7-C\" + 0.196*\"C-C\" + 0.179*\"Dm-G7\" + 0.159*\"D7\" + 0.152*\"A7\" + 0.143*\"F\" + 0.134*\"Am\"\n",
            "2021-11-19 16:43:45,282 : INFO : topic #1(190.698): 0.640*\"Am\" + -0.354*\"C\" + 0.317*\"Dm\" + 0.270*\"E7\" + -0.243*\"C-C\" + 0.224*\"Am-Am\" + 0.189*\"Dm-G7\" + 0.171*\"E7-Am\" + 0.111*\"Em\" + 0.103*\"A7\"\n",
            "2021-11-19 16:43:45,286 : INFO : topic #2(160.280): -0.471*\"Dm\" + 0.433*\"Am\" + -0.397*\"Dm-G7\" + 0.227*\"E7\" + 0.199*\"Am-Am\" + 0.198*\"C\" + 0.188*\"C-C\" + 0.178*\"D7\" + -0.166*\"A7-Dm\" + -0.163*\"Em\"\n",
            "2021-11-19 16:43:45,290 : INFO : topic #3(128.642): 0.488*\"C7\" + 0.391*\"D7\" + -0.331*\"C\" + 0.311*\"G7\" + -0.267*\"C-C\" + -0.213*\"Dm\" + -0.192*\"Am\" + 0.190*\"A7\" + 0.177*\"D7-G7\" + 0.171*\"C7-C7\"\n",
            "2021-11-19 16:43:45,294 : INFO : topic #4(119.870): -0.558*\"C7\" + -0.389*\"F\" + 0.364*\"D7\" + 0.270*\"A7\" + -0.182*\"C7-C7\" + -0.171*\"C7-F\" + 0.170*\"D7-G7\" + 0.158*\"G7\" + 0.153*\"A7-D7\" + 0.132*\"D7-D7\"\n",
            "2021-11-19 16:43:45,297 : INFO : LsiModel lifecycle event {'msg': 'trained LsiModel(num_terms=1602, num_topics=200, decay=1.0, chunksize=20000) in 0.97s', 'datetime': '2021-11-19T16:43:45.297495', 'gensim': '4.1.2', 'python': '3.7.12 (default, Sep 10 2021, 00:21:48) \\n[GCC 7.5.0]', 'platform': 'Linux-5.4.104+-x86_64-with-Ubuntu-18.04-bionic', 'event': 'created'}\n"
          ]
        }
      ]
    },
    {
      "cell_type": "code",
      "metadata": {
        "id": "G9yuuw5VBKqG"
      },
      "source": [
        "!rm -R index_lsi\n",
        "!mkdir index_lsi"
      ],
      "execution_count": 39,
      "outputs": []
    },
    {
      "cell_type": "code",
      "metadata": {
        "colab": {
          "base_uri": "https://localhost:8080/"
        },
        "id": "EvxSQFfBBNMJ",
        "outputId": "ec01c50b-c4c6-45ab-e561-99bf601ab65a"
      },
      "source": [
        "index_lsi = similarities.Similarity('/content/index_lsi', bow_corpus, num_features=len(dictionary))"
      ],
      "execution_count": 40,
      "outputs": [
        {
          "output_type": "stream",
          "name": "stderr",
          "text": [
            "2021-11-19 16:43:51,527 : INFO : starting similarity index under /content/index_lsi\n"
          ]
        }
      ]
    },
    {
      "cell_type": "code",
      "metadata": {
        "colab": {
          "base_uri": "https://localhost:8080/"
        },
        "id": "khASSJ1eEuf5",
        "outputId": "af2b4761-6379-4376-c51a-01c01081faa8"
      },
      "source": [
        "df_sim = get_sim_scores(tunes_eval_list, index_lsi)"
      ],
      "execution_count": 41,
      "outputs": [
        {
          "output_type": "stream",
          "name": "stderr",
          "text": [
            "2021-11-19 16:43:56,150 : INFO : creating sparse index\n",
            "2021-11-19 16:43:56,152 : INFO : creating sparse matrix from corpus\n",
            "2021-11-19 16:43:56,161 : INFO : PROGRESS: at document #0/5403\n"
          ]
        },
        {
          "output_type": "stream",
          "name": "stdout",
          "text": [
            "\n",
            "--------------------------------------------------\n"
          ]
        },
        {
          "output_type": "stream",
          "name": "stderr",
          "text": [
            "2021-11-19 16:43:56,443 : INFO : created <5403x1602 sparse matrix of type '<class 'numpy.float32'>'\n",
            "\twith 97814 stored elements in Compressed Sparse Row format>\n",
            "2021-11-19 16:43:56,445 : INFO : creating sparse shard #0\n",
            "2021-11-19 16:43:56,447 : INFO : saving index shard to /content/index_lsi.0\n",
            "2021-11-19 16:43:56,450 : INFO : SparseMatrixSimilarity lifecycle event {'fname_or_handle': '/content/index_lsi.0', 'separately': 'None', 'sep_limit': 10485760, 'ignore': frozenset(), 'datetime': '2021-11-19T16:43:56.450235', 'gensim': '4.1.2', 'python': '3.7.12 (default, Sep 10 2021, 00:21:48) \\n[GCC 7.5.0]', 'platform': 'Linux-5.4.104+-x86_64-with-Ubuntu-18.04-bionic', 'event': 'saving'}\n",
            "2021-11-19 16:43:56,456 : INFO : saved /content/index_lsi.0\n",
            "2021-11-19 16:43:56,458 : INFO : loading SparseMatrixSimilarity object from /content/index_lsi.0\n",
            "2021-11-19 16:43:56,461 : INFO : SparseMatrixSimilarity lifecycle event {'fname': '/content/index_lsi.0', 'datetime': '2021-11-19T16:43:56.461370', 'gensim': '4.1.2', 'python': '3.7.12 (default, Sep 10 2021, 00:21:48) \\n[GCC 7.5.0]', 'platform': 'Linux-5.4.104+-x86_64-with-Ubuntu-18.04-bionic', 'event': 'loaded'}\n"
          ]
        },
        {
          "output_type": "stream",
          "name": "stdout",
          "text": [
            "3752 Sweet Sue, Just You, section1 (A)\n",
            "3753 Sweet Sue, Just You, section2 (A)\n",
            "3754 Sweet Sue, Just You, section3 (B)\n",
            "3755 Sweet Sue, Just You, section4 (A)\n",
            "\n",
            "--------------------------------------------------\n",
            "3866 These Foolish Things, section1 (A)\n",
            "3867 These Foolish Things, section2 (A)\n",
            "3868 These Foolish Things, section3 (B)\n",
            "3869 These Foolish Things, section4 (A)\n",
            "\n",
            "--------------------------------------------------\n",
            "496 Blue Moon, section1 (A)\n",
            "497 Blue Moon, section2 (A)\n",
            "498 Blue Moon, section3 (B)\n",
            "499 Blue Moon, section4 (A)\n",
            "\n",
            "--------------------------------------------------\n",
            "198 All Of Me, section1 (A)\n",
            "199 All Of Me, section2 (B)\n",
            "200 All Of Me, section3 (A)\n",
            "201 All Of Me, section4 (C)\n",
            "\n",
            "--------------------------------------------------\n",
            "188 All God's Chillun Got Rhythm, section1 (A)\n",
            "189 All God's Chillun Got Rhythm, section2 (B)\n",
            "190 All God's Chillun Got Rhythm, section3 (A)\n",
            "191 All God's Chillun Got Rhythm, section4 (C)\n",
            "\n",
            "--------------------------------------------------\n",
            "1647 I Got Rhythm, section1 (A)\n",
            "1648 I Got Rhythm, section2 (A)\n",
            "1649 I Got Rhythm, section3 (B)\n",
            "1650 I Got Rhythm, section4 (A)\n",
            "4821 I Got Rhythm, section1 (A)\n",
            "4822 I Got Rhythm, section2 (A)\n",
            "4823 I Got Rhythm, section3 (B)\n",
            "4824 I Got Rhythm, section4 (A)\n",
            "\n",
            "--------------------------------------------------\n",
            "653 Bye Bye Blackbird, section1 (A)\n",
            "654 Bye Bye Blackbird, section2 (B)\n",
            "4569 Bye Bye Blackbird, section1 (A)\n",
            "4570 Bye Bye Blackbird, section2 (B)\n",
            "4571 Bye Bye Blackbird, section3 (C)\n",
            "\n",
            "--------------------------------------------------\n",
            "5056 Old Fashioned Love, section0 (nan)\n",
            "\n",
            "--------------------------------------------------\n",
            "997 Dinah, section1 (A)\n",
            "998 Dinah, section2 (A)\n",
            "999 Dinah, section3 (B)\n",
            "1000 Dinah, section4 (A)\n",
            "\n",
            "--------------------------------------------------\n",
            "1538 Honeysuckle Rose, section1 (A)\n",
            "1539 Honeysuckle Rose, section2 (A)\n",
            "1540 Honeysuckle Rose, section3 (B)\n",
            "1541 Honeysuckle Rose, section4 (A)\n",
            "4793 Honeysuckle Rose, section1 (A)\n",
            "4794 Honeysuckle Rose, section2 (A)\n",
            "4795 Honeysuckle Rose, section3 (B)\n",
            "4796 Honeysuckle Rose, section4 (A)\n",
            "\n",
            "--------------------------------------------------\n",
            "2676 Misty, section1 (A)\n",
            "2677 Misty, section2 (A)\n",
            "2678 Misty, section3 (B)\n",
            "2679 Misty, section4 (A)\n"
          ]
        }
      ]
    },
    {
      "cell_type": "code",
      "metadata": {
        "colab": {
          "base_uri": "https://localhost:8080/",
          "height": 424
        },
        "id": "FL1pBuor_YDw",
        "outputId": "cf684d1f-8f65-41ee-e9f5-2697c9be55d1"
      },
      "source": [
        "df_sim"
      ],
      "execution_count": 42,
      "outputs": [
        {
          "output_type": "execute_result",
          "data": {
            "text/html": [
              "<div>\n",
              "<style scoped>\n",
              "    .dataframe tbody tr th:only-of-type {\n",
              "        vertical-align: middle;\n",
              "    }\n",
              "\n",
              "    .dataframe tbody tr th {\n",
              "        vertical-align: top;\n",
              "    }\n",
              "\n",
              "    .dataframe thead th {\n",
              "        text-align: right;\n",
              "    }\n",
              "</style>\n",
              "<table border=\"1\" class=\"dataframe\">\n",
              "  <thead>\n",
              "    <tr style=\"text-align: right;\">\n",
              "      <th></th>\n",
              "      <th>reference_title</th>\n",
              "      <th>similar_title</th>\n",
              "      <th>ref_section</th>\n",
              "      <th>similar_section</th>\n",
              "      <th>score</th>\n",
              "    </tr>\n",
              "  </thead>\n",
              "  <tbody>\n",
              "    <tr>\n",
              "      <th>0</th>\n",
              "      <td>Sweet Sue, Just You</td>\n",
              "      <td>Roll Along Prarie Moon</td>\n",
              "      <td>Sweet Sue, Just You, section1 (A)</td>\n",
              "      <td>Roll Along Prarie Moon, section1 (A)</td>\n",
              "      <td>0.852803</td>\n",
              "    </tr>\n",
              "    <tr>\n",
              "      <th>1</th>\n",
              "      <td>Sweet Sue, Just You</td>\n",
              "      <td>Roll Along Prarie Moon</td>\n",
              "      <td>Sweet Sue, Just You, section1 (A)</td>\n",
              "      <td>Roll Along Prarie Moon, section2 (A)</td>\n",
              "      <td>0.852803</td>\n",
              "    </tr>\n",
              "    <tr>\n",
              "      <th>2</th>\n",
              "      <td>Sweet Sue, Just You</td>\n",
              "      <td>You Broke Your Promise</td>\n",
              "      <td>Sweet Sue, Just You, section1 (A)</td>\n",
              "      <td>You Broke Your Promise, section1 (A)</td>\n",
              "      <td>0.852803</td>\n",
              "    </tr>\n",
              "    <tr>\n",
              "      <th>3</th>\n",
              "      <td>Sweet Sue, Just You</td>\n",
              "      <td>Oh, What A Beautiful Mornin'</td>\n",
              "      <td>Sweet Sue, Just You, section1 (A)</td>\n",
              "      <td>Oh, What A Beautiful Mornin', section4 (B)</td>\n",
              "      <td>0.838041</td>\n",
              "    </tr>\n",
              "    <tr>\n",
              "      <th>4</th>\n",
              "      <td>Sweet Sue, Just You</td>\n",
              "      <td>Breeze And I, The</td>\n",
              "      <td>Sweet Sue, Just You, section1 (A)</td>\n",
              "      <td>Breeze And I, The, section4 (C)</td>\n",
              "      <td>0.836334</td>\n",
              "    </tr>\n",
              "    <tr>\n",
              "      <th>...</th>\n",
              "      <td>...</td>\n",
              "      <td>...</td>\n",
              "      <td>...</td>\n",
              "      <td>...</td>\n",
              "      <td>...</td>\n",
              "    </tr>\n",
              "    <tr>\n",
              "      <th>2045</th>\n",
              "      <td>Misty</td>\n",
              "      <td>All Too Soon</td>\n",
              "      <td>Misty, section4 (A)</td>\n",
              "      <td>All Too Soon, section2 (A)</td>\n",
              "      <td>0.745697</td>\n",
              "    </tr>\n",
              "    <tr>\n",
              "      <th>2046</th>\n",
              "      <td>Misty</td>\n",
              "      <td>Young At Heart</td>\n",
              "      <td>Misty, section4 (A)</td>\n",
              "      <td>Young At Heart, section2 (A)</td>\n",
              "      <td>0.745166</td>\n",
              "    </tr>\n",
              "    <tr>\n",
              "      <th>2047</th>\n",
              "      <td>Misty</td>\n",
              "      <td>While We're Young</td>\n",
              "      <td>Misty, section4 (A)</td>\n",
              "      <td>While We're Young, section4 (C)</td>\n",
              "      <td>0.744694</td>\n",
              "    </tr>\n",
              "    <tr>\n",
              "      <th>2048</th>\n",
              "      <td>Misty</td>\n",
              "      <td>Glory Of Love, The</td>\n",
              "      <td>Misty, section4 (A)</td>\n",
              "      <td>Glory Of Love, The, section2 (A)</td>\n",
              "      <td>0.744683</td>\n",
              "    </tr>\n",
              "    <tr>\n",
              "      <th>2049</th>\n",
              "      <td>Misty</td>\n",
              "      <td>Pent Up House</td>\n",
              "      <td>Misty, section4 (A)</td>\n",
              "      <td>Pent Up House, section0 (nan)</td>\n",
              "      <td>0.743181</td>\n",
              "    </tr>\n",
              "  </tbody>\n",
              "</table>\n",
              "<p>2050 rows × 5 columns</p>\n",
              "</div>"
            ],
            "text/plain": [
              "          reference_title  ...     score\n",
              "0     Sweet Sue, Just You  ...  0.852803\n",
              "1     Sweet Sue, Just You  ...  0.852803\n",
              "2     Sweet Sue, Just You  ...  0.852803\n",
              "3     Sweet Sue, Just You  ...  0.838041\n",
              "4     Sweet Sue, Just You  ...  0.836334\n",
              "...                   ...  ...       ...\n",
              "2045                Misty  ...  0.745697\n",
              "2046                Misty  ...  0.745166\n",
              "2047                Misty  ...  0.744694\n",
              "2048                Misty  ...  0.744683\n",
              "2049                Misty  ...  0.743181\n",
              "\n",
              "[2050 rows x 5 columns]"
            ]
          },
          "metadata": {},
          "execution_count": 42
        }
      ]
    },
    {
      "cell_type": "code",
      "metadata": {
        "colab": {
          "base_uri": "https://localhost:8080/",
          "height": 542
        },
        "id": "X31lkvUsDAsU",
        "outputId": "0ec4009f-07d4-42d2-d5b2-bc214f69181e"
      },
      "source": [
        "import plotly.express as px\n",
        "fig = px.histogram(df_sim, x=\"score\", nbins=100)\n",
        "fig.show()"
      ],
      "execution_count": 43,
      "outputs": [
        {
          "output_type": "display_data",
          "data": {
            "text/html": [
              "<html>\n",
              "<head><meta charset=\"utf-8\" /></head>\n",
              "<body>\n",
              "    <div>\n",
              "            <script src=\"https://cdnjs.cloudflare.com/ajax/libs/mathjax/2.7.5/MathJax.js?config=TeX-AMS-MML_SVG\"></script><script type=\"text/javascript\">if (window.MathJax) {MathJax.Hub.Config({SVG: {font: \"STIX-Web\"}});}</script>\n",
              "                <script type=\"text/javascript\">window.PlotlyConfig = {MathJaxConfig: 'local'};</script>\n",
              "        <script src=\"https://cdn.plot.ly/plotly-latest.min.js\"></script>    \n",
              "            <div id=\"523eb346-3068-4f1b-aa9d-50d4a2d55d33\" class=\"plotly-graph-div\" style=\"height:525px; width:100%;\"></div>\n",
              "            <script type=\"text/javascript\">\n",
              "                \n",
              "                    window.PLOTLYENV=window.PLOTLYENV || {};\n",
              "                    \n",
              "                if (document.getElementById(\"523eb346-3068-4f1b-aa9d-50d4a2d55d33\")) {\n",
              "                    Plotly.newPlot(\n",
              "                        '523eb346-3068-4f1b-aa9d-50d4a2d55d33',\n",
              "                        [{\"alignmentgroup\": \"True\", \"bingroup\": \"x\", \"hoverlabel\": {\"namelength\": 0}, \"hovertemplate\": \"score=%{x}<br>count=%{y}\", \"legendgroup\": \"\", \"marker\": {\"color\": \"#636efa\"}, \"name\": \"\", \"nbinsx\": 100, \"offsetgroup\": \"\", \"orientation\": \"v\", \"showlegend\": false, \"type\": \"histogram\", \"x\": [0.8528029322624207, 0.8528029322624207, 0.8528029322624207, 0.8380407094955444, 0.8363335132598877, 0.8336879014968872, 0.8336879014968872, 0.8288497924804688, 0.8288497924804688, 0.8288497924804688, 0.828849732875824, 0.828849732875824, 0.8280786871910095, 0.8280786871910095, 0.825722873210907, 0.8164966106414795, 0.8164966106414795, 0.8164966106414795, 0.8164966106414795, 0.8164966106414795, 0.8164966106414795, 0.8164966106414795, 0.81312495470047, 0.8114408254623413, 0.8114408254623413, 0.81114661693573, 0.8111071586608887, 0.8098312616348267, 0.8093447089195251, 0.8093447089195251, 0.8093447089195251, 0.8065592050552368, 0.8059021234512329, 0.8053873181343079, 0.8053872585296631, 0.8053872585296631, 0.8053872585296631, 0.8053872585296631, 0.8053872585296631, 0.8053872585296631, 0.8053872585296631, 0.8528029322624207, 0.8528029322624207, 0.8528029322624207, 0.8380407094955444, 0.8363335132598877, 0.8336879014968872, 0.8336879014968872, 0.8288497924804688, 0.8288497924804688, 0.8288497924804688, 0.828849732875824, 0.828849732875824, 0.8280786871910095, 0.8280786871910095, 0.825722873210907, 0.8164966106414795, 0.8164966106414795, 0.8164966106414795, 0.8164966106414795, 0.8164966106414795, 0.8164966106414795, 0.8164966106414795, 0.81312495470047, 0.8114408254623413, 0.8114408254623413, 0.81114661693573, 0.8111071586608887, 0.8098312616348267, 0.8093447089195251, 0.8093447089195251, 0.8093447089195251, 0.8065592050552368, 0.8059021234512329, 0.8053873181343079, 0.8053872585296631, 0.8053872585296631, 0.8053872585296631, 0.8053872585296631, 0.8053872585296631, 0.8053872585296631, 0.8053872585296631, 0.7001399993896484, 0.6666666269302368, 0.6644105315208435, 0.6622661352157593, 0.6622661352157593, 0.6617240309715271, 0.6603381633758545, 0.6575354337692261, 0.6546536684036255, 0.6546536684036255, 0.6532745957374573, 0.6532745957374573, 0.6495697498321533, 0.6432674527168274, 0.6432674527168274, 0.6359513998031616, 0.634334921836853, 0.6319334506988525, 0.6255432367324829, 0.625054121017456, 0.625054121017456, 0.625054121017456, 0.6227990984916687, 0.6221710443496704, 0.6221709847450256, 0.616952657699585, 0.616952657699585, 0.6163157224655151, 0.611775279045105, 0.6111111640930176, 0.6104910969734192, 0.6043978333473206, 0.6030226945877075, 0.6024640798568726, 0.6024640798568726, 0.6020380258560181, 0.601929247379303, 0.601929247379303, 0.601929247379303, 0.6013168692588806, 0.6013168692588806, 0.8528029322624207, 0.8528029322624207, 0.8528029322624207, 0.8380407094955444, 0.8363335132598877, 0.8336879014968872, 0.8336879014968872, 0.8288497924804688, 0.8288497924804688, 0.8288497924804688, 0.828849732875824, 0.828849732875824, 0.8280786871910095, 0.8280786871910095, 0.825722873210907, 0.8164966106414795, 0.8164966106414795, 0.8164966106414795, 0.8164966106414795, 0.8164966106414795, 0.8164966106414795, 0.8164966106414795, 0.81312495470047, 0.8114408254623413, 0.8114408254623413, 0.81114661693573, 0.8111071586608887, 0.8098312616348267, 0.8093447089195251, 0.8093447089195251, 0.8093447089195251, 0.8065592050552368, 0.8059021234512329, 0.8053873181343079, 0.8053872585296631, 0.8053872585296631, 0.8053872585296631, 0.8053872585296631, 0.8053872585296631, 0.8053872585296631, 0.8053872585296631, 0.7690341472625732, 0.761542022228241, 0.7597805261611938, 0.7594740390777588, 0.7589465975761414, 0.7576143741607666, 0.7576143741607666, 0.7553185224533081, 0.7529885768890381, 0.7517784237861633, 0.7489879727363586, 0.7477803826332092, 0.7476958632469177, 0.7462024688720703, 0.7457994818687439, 0.7454342842102051, 0.7443873286247253, 0.7436131834983826, 0.7389333844184875, 0.7385876774787903, 0.7385489344596863, 0.7378647923469543, 0.7378647327423096, 0.7378647327423096, 0.7364596724510193, 0.7359799742698669, 0.7350766658782959, 0.7348468899726868, 0.7342881560325623, 0.7323895692825317, 0.7296905517578125, 0.7296062707901001, 0.7296062707901001, 0.729476809501648, 0.7292038798332214, 0.7284643650054932, 0.728435754776001, 0.7267486453056335, 0.7267100811004639, 0.7265477180480957, 0.7265477180480957, 0.7795390486717224, 0.7771342992782593, 0.7648608088493347, 0.7618803977966309, 0.7594937086105347, 0.7594937086105347, 0.7591252326965332, 0.7591252326965332, 0.7576996088027954, 0.7535842061042786, 0.7504692673683167, 0.7503063678741455, 0.7487844228744507, 0.7479744553565979, 0.747587263584137, 0.747587263584137, 0.7460727095603943, 0.7451873421669006, 0.7428103089332581, 0.7420621514320374, 0.7414672374725342, 0.7408041954040527, 0.7393485307693481, 0.738898754119873, 0.7370953559875488, 0.7367191910743713, 0.7362863421440125, 0.7355512380599976, 0.7344390153884888, 0.7334456443786621, 0.7327091693878174, 0.7326323390007019, 0.7320562601089478, 0.7319381237030029, 0.7314130067825317, 0.730290949344635, 0.7291266322135925, 0.7289074063301086, 0.727480947971344, 0.7273906469345093, 0.7267848253250122, 0.7311261892318726, 0.728135883808136, 0.6904757022857666, 0.6904757022857666, 0.6666667461395264, 0.6465791463851929, 0.644444465637207, 0.6405126452445984, 0.6405126452445984, 0.6400757431983948, 0.638046145439148, 0.6313641667366028, 0.6266795992851257, 0.6260990500450134, 0.6249067783355713, 0.6247161030769348, 0.6235383152961731, 0.6201736927032471, 0.6161233186721802, 0.6161233186721802, 0.6158403158187866, 0.6110100746154785, 0.6106581091880798, 0.6101702451705933, 0.6043865084648132, 0.6030226945877075, 0.6000000834465027, 0.6000000834465027, 0.6000000834465027, 0.599643349647522, 0.596284806728363, 0.5925949811935425, 0.5889696478843689, 0.5864133238792419, 0.5842373967170715, 0.5842373967170715, 0.5838403701782227, 0.5838403105735779, 0.5834599733352661, 0.5804184675216675, 0.5773502588272095, 0.7948935627937317, 0.785610020160675, 0.7850687503814697, 0.7820718288421631, 0.7804925441741943, 0.779334306716919, 0.7760151028633118, 0.7760151028633118, 0.7753149271011353, 0.7753149271011353, 0.7743709683418274, 0.7726228833198547, 0.7724286317825317, 0.7724273204803467, 0.7696491479873657, 0.7659416794776917, 0.7657239437103271, 0.7640045285224915, 0.7637625932693481, 0.7619795799255371, 0.7610526084899902, 0.7610526084899902, 0.7600862383842468, 0.7587185502052307, 0.7586326003074646, 0.7584812045097351, 0.7549566030502319, 0.7548508048057556, 0.7508682608604431, 0.7507625222206116, 0.75048828125, 0.7498668432235718, 0.7496556043624878, 0.7489474415779114, 0.7488780617713928, 0.7479186058044434, 0.7476592659950256, 0.7471660375595093, 0.7454837560653687, 0.7451010942459106, 0.7450761198997498, 0.7831559181213379, 0.7767307758331299, 0.7704110145568848, 0.7699905037879944, 0.7699905037879944, 0.7648813128471375, 0.7622039914131165, 0.76097172498703, 0.7607550621032715, 0.7592981457710266, 0.7583786845207214, 0.7566755414009094, 0.7561156749725342, 0.7561156153678894, 0.7559153437614441, 0.7556400299072266, 0.7547415494918823, 0.752112627029419, 0.7514185905456543, 0.7514184713363647, 0.750737726688385, 0.7488927841186523, 0.7482981085777283, 0.7476670742034912, 0.7464831471443176, 0.7424477338790894, 0.7421082258224487, 0.7419947385787964, 0.7419947385787964, 0.7418935894966125, 0.7409237623214722, 0.7385289669036865, 0.7383620142936707, 0.7382586002349854, 0.7372097969055176, 0.7362422943115234, 0.7356470227241516, 0.7356469631195068, 0.7356469631195068, 0.7355995178222656, 0.7318978309631348, 0.7488775253295898, 0.7487844228744507, 0.7463517785072327, 0.7446346282958984, 0.743523359298706, 0.7379614114761353, 0.7370954155921936, 0.7333159446716309, 0.7327667474746704, 0.7325066328048706, 0.7314130067825317, 0.7288689613342285, 0.727480947971344, 0.7253714203834534, 0.7231566905975342, 0.7231308221817017, 0.7227697372436523, 0.7226101160049438, 0.7218748927116394, 0.7204381227493286, 0.7177069783210754, 0.7170765399932861, 0.716719388961792, 0.7165352702140808, 0.7164976596832275, 0.7164976596832275, 0.7158340215682983, 0.7157750725746155, 0.7157750725746155, 0.7151985168457031, 0.7148494124412537, 0.7144708633422852, 0.7144707441329956, 0.7140055298805237, 0.7140055298805237, 0.7137930989265442, 0.7130240797996521, 0.7129061818122864, 0.7117741703987122, 0.7097267508506775, 0.7093681693077087, 0.7632030844688416, 0.7492913007736206, 0.7318841218948364, 0.7252577543258667, 0.7241379618644714, 0.7229702472686768, 0.7221485376358032, 0.7219294905662537, 0.7210366725921631, 0.7195062041282654, 0.7172218561172485, 0.7162534594535828, 0.7162534594535828, 0.716253399848938, 0.7149994373321533, 0.714747428894043, 0.714747428894043, 0.7141911387443542, 0.7132824659347534, 0.7111589908599854, 0.7111589908599854, 0.710340142250061, 0.7092188000679016, 0.7086356282234192, 0.7079567909240723, 0.7079567909240723, 0.7059077620506287, 0.7056422829627991, 0.7052153944969177, 0.7050169110298157, 0.7042476534843445, 0.7038691639900208, 0.7038691639900208, 0.7027539610862732, 0.7021468281745911, 0.7020688056945801, 0.7020687460899353, 0.7018623352050781, 0.7010586261749268, 0.7007817625999451, 0.7003891468048096, 0.7831559181213379, 0.7767307758331299, 0.7704110145568848, 0.7699905037879944, 0.7699905037879944, 0.7648813128471375, 0.7622039914131165, 0.76097172498703, 0.7607550621032715, 0.7592981457710266, 0.7583786845207214, 0.7566755414009094, 0.7561156749725342, 0.7561156153678894, 0.7559153437614441, 0.7556400299072266, 0.7547415494918823, 0.752112627029419, 0.7514185905456543, 0.7514184713363647, 0.750737726688385, 0.7488927841186523, 0.7482981085777283, 0.7476670742034912, 0.7464831471443176, 0.7424477338790894, 0.7421082258224487, 0.7419947385787964, 0.7419947385787964, 0.7418935894966125, 0.7409237623214722, 0.7385289669036865, 0.7383620142936707, 0.7382586002349854, 0.7372097969055176, 0.7362422943115234, 0.7356470227241516, 0.7356469631195068, 0.7356469631195068, 0.7355995178222656, 0.7318978309631348, 0.7808688879013062, 0.7559289932250977, 0.7427813410758972, 0.7427813410758972, 0.7427813410758972, 0.739544153213501, 0.7298004031181335, 0.7237468957901001, 0.7237468361854553, 0.718421220779419, 0.7071067690849304, 0.705024003982544, 0.705024003982544, 0.7022601962089539, 0.699999988079071, 0.6963106393814087, 0.6939778923988342, 0.6928203105926514, 0.6837635040283203, 0.6735753417015076, 0.6735753417015076, 0.6735753417015076, 0.6735752820968628, 0.670820415019989, 0.668099045753479, 0.6668859124183655, 0.6666666865348816, 0.6622661352157593, 0.6621221899986267, 0.659974992275238, 0.6585527062416077, 0.6575959324836731, 0.6546536684036255, 0.6546536684036255, 0.6546536684036255, 0.6546536684036255, 0.6540069580078125, 0.6538821458816528, 0.6533715128898621, 0.6527533531188965, 0.6499336957931519, 0.8017837405204773, 0.7801895141601562, 0.7801894545555115, 0.7801894545555115, 0.7801894545555115, 0.7680245637893677, 0.7483314871788025, 0.7483314871788025, 0.7443873286247253, 0.7357671856880188, 0.7348570227622986, 0.7345600724220276, 0.7342230677604675, 0.7342230677604675, 0.7336252331733704, 0.7244616150856018, 0.7200823426246643, 0.7102847695350647, 0.703586757183075, 0.7029995918273926, 0.7029995918273926, 0.7029995918273926, 0.6998541951179504, 0.6998541951179504, 0.6978631019592285, 0.6928682327270508, 0.6900655627250671, 0.6894451975822449, 0.6843858957290649, 0.6843858957290649, 0.6843858957290649, 0.6843858957290649, 0.6799112558364868, 0.6776309609413147, 0.6776308417320251, 0.6744532585144043, 0.6744532585144043, 0.6744532585144043, 0.6744532585144043, 0.6736330986022949, 0.6736330986022949, 0.7808688879013062, 0.7559289932250977, 0.7427813410758972, 0.7427813410758972, 0.7427813410758972, 0.739544153213501, 0.7298004031181335, 0.7237468957901001, 0.7237468361854553, 0.718421220779419, 0.7071067690849304, 0.705024003982544, 0.705024003982544, 0.7022601962089539, 0.699999988079071, 0.6963106393814087, 0.6939778923988342, 0.6928203105926514, 0.6837635040283203, 0.6735753417015076, 0.6735753417015076, 0.6735753417015076, 0.6735752820968628, 0.670820415019989, 0.668099045753479, 0.6668859124183655, 0.6666666865348816, 0.6622661352157593, 0.6621221899986267, 0.659974992275238, 0.6585527062416077, 0.6575959324836731, 0.6546536684036255, 0.6546536684036255, 0.6546536684036255, 0.6546536684036255, 0.6540069580078125, 0.6538821458816528, 0.6533715128898621, 0.6527533531188965, 0.6499336957931519, 0.7709342241287231, 0.7469369173049927, 0.7469369173049927, 0.7443874478340149, 0.7407784461975098, 0.7407784461975098, 0.7373529672622681, 0.7295157313346863, 0.7294622659683228, 0.7292928695678711, 0.7275327444076538, 0.7273929715156555, 0.7228063344955444, 0.7228062152862549, 0.7207499742507935, 0.7186052799224854, 0.7186052799224854, 0.7186051607131958, 0.7186051607131958, 0.7186051607131958, 0.7183254957199097, 0.7183254361152649, 0.7171371579170227, 0.7167714834213257, 0.7134436964988708, 0.7126966714859009, 0.7117395401000977, 0.711057186126709, 0.711057186126709, 0.709795355796814, 0.7082408666610718, 0.708240807056427, 0.7079923152923584, 0.7079923152923584, 0.7078436613082886, 0.7078384160995483, 0.7078384160995483, 0.7053866982460022, 0.7040575742721558, 0.7040575742721558, 0.7040575742721558, 0.775388240814209, 0.7730697393417358, 0.767551839351654, 0.7642868757247925, 0.7642170786857605, 0.7586581110954285, 0.7558848857879639, 0.7503907680511475, 0.74977707862854, 0.7477908134460449, 0.7436131238937378, 0.7431352138519287, 0.7426106929779053, 0.7424640655517578, 0.7412493228912354, 0.7389334440231323, 0.7389334440231323, 0.738548994064331, 0.7385489344596863, 0.7385489344596863, 0.7382716536521912, 0.7372097373008728, 0.7364596724510193, 0.7364596724510193, 0.7349684238433838, 0.7349684238433838, 0.7349684238433838, 0.734968364238739, 0.734846830368042, 0.7342880964279175, 0.7341226935386658, 0.7329408526420593, 0.7327562570571899, 0.7323606014251709, 0.7323606014251709, 0.7308042049407959, 0.7307559251785278, 0.7302507162094116, 0.7284644246101379, 0.7284643650054932, 0.728435754776001, 0.7301465272903442, 0.7087885737419128, 0.7059820890426636, 0.7031028270721436, 0.6990620493888855, 0.696607768535614, 0.6939778327941895, 0.693888783454895, 0.6938887238502502, 0.6934385895729065, 0.6912362575531006, 0.6899341344833374, 0.6880209445953369, 0.686050295829773, 0.685745358467102, 0.685745358467102, 0.685745358467102, 0.685745358467102, 0.685745358467102, 0.683941125869751, 0.6839410662651062, 0.6839410662651062, 0.6839061975479126, 0.6779669523239136, 0.6776741743087769, 0.6767279505729675, 0.6759264469146729, 0.675855278968811, 0.6735645532608032, 0.6735645532608032, 0.6735645532608032, 0.6735645532608032, 0.6731617450714111, 0.6731617450714111, 0.6725382208824158, 0.6725382208824158, 0.6711665391921997, 0.6698469519615173, 0.6695341467857361, 0.6688137054443359, 0.6688137054443359, 0.775388240814209, 0.7730697393417358, 0.767551839351654, 0.7642868757247925, 0.7642170786857605, 0.7586581110954285, 0.7558848857879639, 0.7503907680511475, 0.74977707862854, 0.7477908134460449, 0.7436131238937378, 0.7431352138519287, 0.7426106929779053, 0.7424640655517578, 0.7412493228912354, 0.7389334440231323, 0.7389334440231323, 0.738548994064331, 0.7385489344596863, 0.7385489344596863, 0.7382716536521912, 0.7372097373008728, 0.7364596724510193, 0.7364596724510193, 0.7349684238433838, 0.7349684238433838, 0.7349684238433838, 0.734968364238739, 0.734846830368042, 0.7342880964279175, 0.7341226935386658, 0.7329408526420593, 0.7327562570571899, 0.7323606014251709, 0.7323606014251709, 0.7308042049407959, 0.7307559251785278, 0.7302507162094116, 0.7284644246101379, 0.7284643650054932, 0.728435754776001, 0.7584726810455322, 0.7496176362037659, 0.7488452196121216, 0.7431681156158447, 0.74283367395401, 0.7404360771179199, 0.7395739555358887, 0.7395739555358887, 0.7389883995056152, 0.7377917170524597, 0.7371541261672974, 0.7363210320472717, 0.732466995716095, 0.732466995716095, 0.7315635085105896, 0.7315635085105896, 0.7295742034912109, 0.7277781367301941, 0.7268155217170715, 0.7268155217170715, 0.7268155217170715, 0.7264114022254944, 0.7231960892677307, 0.7228973507881165, 0.7216252684593201, 0.7216098308563232, 0.7209434509277344, 0.7205107808113098, 0.7201579213142395, 0.7192683219909668, 0.7191949486732483, 0.7191949486732483, 0.718132495880127, 0.7175608277320862, 0.7175608277320862, 0.7161149382591248, 0.7161149382591248, 0.7157479524612427, 0.7157479524612427, 0.7155417799949646, 0.7143082618713379, 0.7706746459007263, 0.7706746459007263, 0.7654904127120972, 0.7572281360626221, 0.7569780349731445, 0.7569780349731445, 0.7538190484046936, 0.7495332360267639, 0.7433377504348755, 0.7410483360290527, 0.7410483360290527, 0.7410483360290527, 0.7410483360290527, 0.7402331829071045, 0.7399957180023193, 0.7340340614318848, 0.732204020023346, 0.7306816577911377, 0.7302967309951782, 0.7293573021888733, 0.7284022569656372, 0.7282190918922424, 0.725959300994873, 0.7248824238777161, 0.7248824238777161, 0.7233176231384277, 0.7233176231384277, 0.7228063344955444, 0.7228063344955444, 0.7216053009033203, 0.7214084267616272, 0.7210673689842224, 0.7204636335372925, 0.7204636335372925, 0.7204636335372925, 0.719990074634552, 0.7194095849990845, 0.7186994552612305, 0.7171371579170227, 0.7171371579170227, 0.7171370983123779, 0.7575757503509521, 0.7575757503509521, 0.7478784322738647, 0.7478784322738647, 0.7478784322738647, 0.7478784322738647, 0.7456785440444946, 0.7456785440444946, 0.7340317964553833, 0.7336390614509583, 0.7322418689727783, 0.7317890524864197, 0.7265990376472473, 0.7252153754234314, 0.7236272096633911, 0.7216165065765381, 0.7211788892745972, 0.7211788892745972, 0.7191011905670166, 0.7184650301933289, 0.7173139452934265, 0.7167580127716064, 0.716313362121582, 0.7154548168182373, 0.7153414487838745, 0.7132275700569153, 0.7132275104522705, 0.7132275104522705, 0.7130987048149109, 0.7128698825836182, 0.7125205993652344, 0.7125205993652344, 0.7111589908599854, 0.7111589908599854, 0.7110832333564758, 0.7109714150428772, 0.7101150155067444, 0.7092556953430176, 0.7090103626251221, 0.7068967223167419, 0.7061878442764282, 0.8356290459632874, 0.834057629108429, 0.834057629108429, 0.834057629108429, 0.834057629108429, 0.834057629108429, 0.834057629108429, 0.834057629108429, 0.834057629108429, 0.834057629108429, 0.834057629108429, 0.834057629108429, 0.834057629108429, 0.834057629108429, 0.834057629108429, 0.834057629108429, 0.834057629108429, 0.834057629108429, 0.834057629108429, 0.834057629108429, 0.834057629108429, 0.834057629108429, 0.834057629108429, 0.8082239031791687, 0.800000011920929, 0.800000011920929, 0.7637626528739929, 0.7637626528739929, 0.7602631449699402, 0.7427813410758972, 0.742321789264679, 0.7378516793251038, 0.7313071489334106, 0.7298004031181335, 0.7222222685813904, 0.7214946746826172, 0.7205766439437866, 0.7157478928565979, 0.699999988079071, 0.699999988079071, 0.6976819634437561, 0.7935196161270142, 0.7935196161270142, 0.7753149271011353, 0.7753149271011353, 0.7640810012817383, 0.7601717710494995, 0.7566565871238708, 0.7566565871238708, 0.7566565871238708, 0.7566565871238708, 0.7566565275192261, 0.7538435459136963, 0.7521398067474365, 0.7521398067474365, 0.7494001388549805, 0.7488837838172913, 0.7475013732910156, 0.746599555015564, 0.7444754242897034, 0.7441490292549133, 0.7441489696502686, 0.744084894657135, 0.7436507940292358, 0.742545485496521, 0.7422774434089661, 0.7418201565742493, 0.7416924238204956, 0.7416923642158508, 0.7405403852462769, 0.7402423024177551, 0.7398713231086731, 0.7398713231086731, 0.7391148209571838, 0.7383951544761658, 0.7382027506828308, 0.7378925681114197, 0.7375891208648682, 0.7375891208648682, 0.7368453145027161, 0.7368452548980713, 0.7366350889205933, 0.7706746459007263, 0.7706746459007263, 0.7654904127120972, 0.7572281360626221, 0.7569780349731445, 0.7569780349731445, 0.7538190484046936, 0.7495332360267639, 0.7433377504348755, 0.7410483360290527, 0.7410483360290527, 0.7410483360290527, 0.7410483360290527, 0.7402331829071045, 0.7399957180023193, 0.7340340614318848, 0.732204020023346, 0.7306816577911377, 0.7302967309951782, 0.7293573021888733, 0.7284022569656372, 0.7282190918922424, 0.725959300994873, 0.7248824238777161, 0.7248824238777161, 0.7233176231384277, 0.7233176231384277, 0.7228063344955444, 0.7228063344955444, 0.7216053009033203, 0.7214084267616272, 0.7210673689842224, 0.7204636335372925, 0.7204636335372925, 0.7204636335372925, 0.719990074634552, 0.7194095849990845, 0.7186994552612305, 0.7171371579170227, 0.7171371579170227, 0.7171370983123779, 0.7575757503509521, 0.7575757503509521, 0.7478784322738647, 0.7478784322738647, 0.7478784322738647, 0.7478784322738647, 0.7456785440444946, 0.7456785440444946, 0.7340317964553833, 0.7336390614509583, 0.7322418689727783, 0.7317890524864197, 0.7265990376472473, 0.7252153754234314, 0.7236272096633911, 0.7216165065765381, 0.7211788892745972, 0.7211788892745972, 0.7191011905670166, 0.7184650301933289, 0.7173139452934265, 0.7167580127716064, 0.716313362121582, 0.7154548168182373, 0.7153414487838745, 0.7132275700569153, 0.7132275104522705, 0.7132275104522705, 0.7130987048149109, 0.7128698825836182, 0.7125205993652344, 0.7125205993652344, 0.7111589908599854, 0.7111589908599854, 0.7110832333564758, 0.7109714150428772, 0.7101150155067444, 0.7092556953430176, 0.7090103626251221, 0.7068967223167419, 0.7061878442764282, 0.8356290459632874, 0.834057629108429, 0.834057629108429, 0.834057629108429, 0.834057629108429, 0.834057629108429, 0.834057629108429, 0.834057629108429, 0.834057629108429, 0.834057629108429, 0.834057629108429, 0.834057629108429, 0.834057629108429, 0.834057629108429, 0.834057629108429, 0.834057629108429, 0.834057629108429, 0.834057629108429, 0.834057629108429, 0.834057629108429, 0.834057629108429, 0.834057629108429, 0.834057629108429, 0.8082239031791687, 0.800000011920929, 0.800000011920929, 0.7637626528739929, 0.7637626528739929, 0.7602631449699402, 0.7427813410758972, 0.742321789264679, 0.7378516793251038, 0.7313071489334106, 0.7298004031181335, 0.7222222685813904, 0.7214946746826172, 0.7205766439437866, 0.7157478928565979, 0.699999988079071, 0.699999988079071, 0.6976819634437561, 0.7935196161270142, 0.7935196161270142, 0.7753149271011353, 0.7753149271011353, 0.7640810012817383, 0.7601717710494995, 0.7566565871238708, 0.7566565871238708, 0.7566565871238708, 0.7566565871238708, 0.7566565275192261, 0.7538435459136963, 0.7521398067474365, 0.7521398067474365, 0.7494001388549805, 0.7488837838172913, 0.7475013732910156, 0.746599555015564, 0.7444754242897034, 0.7441490292549133, 0.7441489696502686, 0.744084894657135, 0.7436507940292358, 0.742545485496521, 0.7422774434089661, 0.7418201565742493, 0.7416924238204956, 0.7416923642158508, 0.7405403852462769, 0.7402423024177551, 0.7398713231086731, 0.7398713231086731, 0.7391148209571838, 0.7383951544761658, 0.7382027506828308, 0.7378925681114197, 0.7375891208648682, 0.7375891208648682, 0.7368453145027161, 0.7368452548980713, 0.7366350889205933, 0.8150853514671326, 0.7962145805358887, 0.7953374981880188, 0.7937014102935791, 0.7924288511276245, 0.7924288511276245, 0.7919614315032959, 0.7873322367668152, 0.7871800065040588, 0.7860405445098877, 0.7858300805091858, 0.7858300805091858, 0.7858300805091858, 0.784546971321106, 0.784546971321106, 0.7814974188804626, 0.779221773147583, 0.779221773147583, 0.7790533304214478, 0.7786464691162109, 0.7784742712974548, 0.7784709334373474, 0.778219997882843, 0.7779830098152161, 0.7775527834892273, 0.7771835327148438, 0.77651047706604, 0.7757308483123779, 0.7757308483123779, 0.7753117680549622, 0.7753117680549622, 0.7746793627738953, 0.7729625105857849, 0.772185742855072, 0.7720679640769958, 0.7718810439109802, 0.7694586515426636, 0.7694586515426636, 0.769230842590332, 0.7689793705940247, 0.7689133882522583, 0.7908470630645752, 0.7825015187263489, 0.775977373123169, 0.770207941532135, 0.7689613699913025, 0.7628374695777893, 0.7606599926948547, 0.760577380657196, 0.7600953578948975, 0.7589535117149353, 0.7570784091949463, 0.7568892240524292, 0.7545039653778076, 0.7544376850128174, 0.7534909844398499, 0.7531501650810242, 0.7513483166694641, 0.7513482570648193, 0.7501041293144226, 0.7482437491416931, 0.7482020258903503, 0.7482020258903503, 0.7474337816238403, 0.7466355562210083, 0.746584415435791, 0.7439366579055786, 0.7439366579055786, 0.7438082098960876, 0.7418201565742493, 0.7414894700050354, 0.7414190769195557, 0.7406101822853088, 0.7406101822853088, 0.7395404577255249, 0.7381017804145813, 0.7381017804145813, 0.7381017208099365, 0.7381017208099365, 0.7374818921089172, 0.7374818921089172, 0.7374818325042725, 0.8278323411941528, 0.8278323411941528, 0.8278323411941528, 0.8103048205375671, 0.8073937892913818, 0.8073937892913818, 0.8073937892913818, 0.8073087930679321, 0.8065392971038818, 0.8059405088424683, 0.8054298162460327, 0.8013924956321716, 0.7963330149650574, 0.7963330149650574, 0.7957437634468079, 0.7951070070266724, 0.7947266697883606, 0.790546715259552, 0.790546715259552, 0.7898420691490173, 0.7839860320091248, 0.7839860320091248, 0.7839860320091248, 0.7832900881767273, 0.7830884456634521, 0.7830884456634521, 0.7830884456634521, 0.7830884456634521, 0.78194659948349, 0.7815089225769043, 0.7806577086448669, 0.7776618599891663, 0.7776618599891663, 0.7760928273200989, 0.7760928273200989, 0.7760928273200989, 0.7737374305725098, 0.7737374305725098, 0.7736709117889404, 0.7736157774925232, 0.7736157774925232, 0.6950480937957764, 0.6803091168403625, 0.6803091168403625, 0.6803091168403625, 0.6803091168403625, 0.6803091168403625, 0.6764813661575317, 0.6546536684036255, 0.6546536087989807, 0.6542121171951294, 0.6509292721748352, 0.6500112414360046, 0.6445033550262451, 0.6350852847099304, 0.6333333253860474, 0.6333333253860474, 0.6320257186889648, 0.6316139698028564, 0.631144106388092, 0.6255432367324829, 0.6255432367324829, 0.6221709847450256, 0.6166698336601257, 0.6166698336601257, 0.6166698336601257, 0.6166698336601257, 0.6111111044883728, 0.6063390970230103, 0.6024640202522278, 0.6024640202522278, 0.601929247379303, 0.6009252071380615, 0.594788670539856, 0.5913770198822021, 0.5913770198822021, 0.5896618366241455, 0.5878803133964539, 0.5855399966239929, 0.5846128463745117, 0.5846128463745117, 0.5846127867698669, 0.8222222328186035, 0.8222222328186035, 0.8176297545433044, 0.8160244822502136, 0.8154100775718689, 0.8082903623580933, 0.8031948804855347, 0.7993360161781311, 0.7889320254325867, 0.7889320254325867, 0.7889320254325867, 0.7889320254325867, 0.7889320254325867, 0.7889320254325867, 0.7889320254325867, 0.7877264022827148, 0.7877264022827148, 0.7852813005447388, 0.7833495140075684, 0.7827937006950378, 0.7827803492546082, 0.7794442772865295, 0.7784988880157471, 0.7784988880157471, 0.7784988880157471, 0.7782078385353088, 0.7782077789306641, 0.7765929102897644, 0.7761139869689941, 0.774596631526947, 0.774596631526947, 0.774596631526947, 0.774596631526947, 0.7742393016815186, 0.7730077505111694, 0.7719753980636597, 0.7719753384590149, 0.7719753384590149, 0.7719753384590149, 0.7711420655250549, 0.7709386348724365, 0.8381533026695251, 0.8380941152572632, 0.8351476192474365, 0.8332005143165588, 0.8324309587478638, 0.8270257115364075, 0.8253727555274963, 0.823155403137207, 0.8196544647216797, 0.8194450736045837, 0.8162927627563477, 0.8158645629882812, 0.8155723810195923, 0.8155723810195923, 0.8155723810195923, 0.8147460222244263, 0.8134449124336243, 0.8134449124336243, 0.8134449124336243, 0.8131165504455566, 0.8129768967628479, 0.8110281229019165, 0.8107720017433167, 0.810287356376648, 0.810287356376648, 0.808441162109375, 0.808441162109375, 0.808441162109375, 0.8083970546722412, 0.8036585450172424, 0.8026909828186035, 0.801813006401062, 0.8006407022476196, 0.8006407022476196, 0.7993350028991699, 0.7993350028991699, 0.7991564273834229, 0.798004686832428, 0.7974317669868469, 0.7974317669868469, 0.7973060607910156, 0.8108437061309814, 0.8097763061523438, 0.803326427936554, 0.7981987595558167, 0.7981987595558167, 0.797595739364624, 0.7956831455230713, 0.7905694246292114, 0.7893521785736084, 0.7893521785736084, 0.786647617816925, 0.7841156721115112, 0.7837893962860107, 0.781442403793335, 0.7804216742515564, 0.7778174877166748, 0.7768985033035278, 0.7761505246162415, 0.775665819644928, 0.7750575542449951, 0.7748797535896301, 0.7735260725021362, 0.7723727226257324, 0.771668553352356, 0.7715885639190674, 0.7715885639190674, 0.7706746459007263, 0.7706746459007263, 0.7706746459007263, 0.7706746459007263, 0.76941978931427, 0.769355297088623, 0.7692875266075134, 0.7692875266075134, 0.767981767654419, 0.767981767654419, 0.7675225734710693, 0.7668845653533936, 0.7654904723167419, 0.7654904723167419, 0.7654904723167419, 0.7899221181869507, 0.7883444428443909, 0.7871692180633545, 0.781867504119873, 0.7783898115158081, 0.7783428430557251, 0.7742974758148193, 0.7719377279281616, 0.7718676924705505, 0.771090567111969, 0.7694166898727417, 0.7673442363739014, 0.7673442363739014, 0.7672358155250549, 0.7661241888999939, 0.7659185528755188, 0.761371374130249, 0.7612577676773071, 0.7609725594520569, 0.7606812715530396, 0.7604312300682068, 0.7597456574440002, 0.7597455978393555, 0.7589709758758545, 0.7588713765144348, 0.7588713765144348, 0.7585960626602173, 0.7585960626602173, 0.7582170963287354, 0.7578579187393188, 0.7574280500411987, 0.7574280500411987, 0.7573401927947998, 0.7553449869155884, 0.7543423175811768, 0.754199743270874, 0.7532249689102173, 0.7524694204330444, 0.7512790560722351, 0.7512776851654053, 0.7509675025939941, 0.8135722875595093, 0.7852070331573486, 0.7795390486717224, 0.7713330984115601, 0.7710995674133301, 0.7637134790420532, 0.7627700567245483, 0.7583953142166138, 0.7521015405654907, 0.7510148286819458, 0.7422696352005005, 0.7399957180023193, 0.7366331219673157, 0.7366331219673157, 0.7366331219673157, 0.7360495924949646, 0.7343580722808838, 0.7325198650360107, 0.7325198650360107, 0.7282190918922424, 0.7238735556602478, 0.7218397259712219, 0.721665620803833, 0.7212849855422974, 0.7212849855422974, 0.7186994552612305, 0.7168708443641663, 0.7157185077667236, 0.7152817249298096, 0.7142479419708252, 0.7106691002845764, 0.7095748782157898, 0.7095748782157898, 0.7095748782157898, 0.7095748782157898, 0.7095748782157898, 0.7095748782157898, 0.7095748782157898, 0.7082142233848572, 0.7022302150726318, 0.6999658346176147, 0.8200923800468445, 0.8135603070259094, 0.8083672523498535, 0.8083672523498535, 0.8077564835548401, 0.8029249906539917, 0.8006408214569092, 0.7966689467430115, 0.7941411137580872, 0.794104814529419, 0.793774425983429, 0.7913975119590759, 0.7903636693954468, 0.7860382199287415, 0.7855472564697266, 0.7849313020706177, 0.7847511768341064, 0.7846041917800903, 0.7846041917800903, 0.7833802700042725, 0.7822122573852539, 0.7814180254936218, 0.7814180254936218, 0.7804925441741943, 0.7804925441741943, 0.7804925441741943, 0.7792216539382935, 0.7791562676429749, 0.7790877819061279, 0.7790877819061279, 0.7777653932571411, 0.7777653932571411, 0.7773003578186035, 0.7766541242599487, 0.7752423286437988, 0.7752423286437988, 0.775242269039154, 0.775242269039154, 0.775242269039154, 0.774596631526947, 0.774596631526947, 0.8127554655075073, 0.805614173412323, 0.79427570104599, 0.7842457294464111, 0.7839663624763489, 0.7723150849342346, 0.7718111276626587, 0.7718111276626587, 0.7718111276626587, 0.7677159309387207, 0.7672343254089355, 0.7661489248275757, 0.7661489248275757, 0.7661488056182861, 0.7661488056182861, 0.7656161785125732, 0.7649462819099426, 0.7643113732337952, 0.763675332069397, 0.7627701163291931, 0.7620635032653809, 0.7606275677680969, 0.7606275081634521, 0.7602041959762573, 0.7602041959762573, 0.759885311126709, 0.7580981254577637, 0.7580981254577637, 0.7570719718933105, 0.7483315467834473, 0.7483314871788025, 0.7480659484863281, 0.7470874190330505, 0.746676504611969, 0.746676504611969, 0.7462975978851318, 0.7462975978851318, 0.7448452711105347, 0.7437008023262024, 0.7423931956291199, 0.7423931360244751, 0.8228850364685059, 0.8204126358032227, 0.8122395873069763, 0.8084245920181274, 0.8061794638633728, 0.8043153285980225, 0.8036850690841675, 0.7961540222167969, 0.7912240624427795, 0.7912240624427795, 0.789965033531189, 0.7881898880004883, 0.7862136363983154, 0.7862136363983154, 0.7812429070472717, 0.7793252468109131, 0.7765803337097168, 0.7765164375305176, 0.776299774646759, 0.7751332521438599, 0.7731113433837891, 0.7731113433837891, 0.7724872827529907, 0.7724872827529907, 0.7724872827529907, 0.7720029354095459, 0.7690161466598511, 0.7687422037124634, 0.7687422037124634, 0.7648661136627197, 0.764505922794342, 0.7634873390197754, 0.7634873390197754, 0.7623834609985352, 0.761939287185669, 0.7613189220428467, 0.7613189220428467, 0.7613189220428467, 0.7613189220428467, 0.7603371739387512, 0.7603371739387512, 0.834057629108429, 0.834057629108429, 0.834057629108429, 0.834057629108429, 0.834057629108429, 0.834057629108429, 0.834057629108429, 0.834057629108429, 0.834057629108429, 0.800000011920929, 0.800000011920929, 0.7637626528739929, 0.7637626528739929, 0.7637626528739929, 0.7637625932693481, 0.7427813410758972, 0.7427813410758972, 0.7060630917549133, 0.699999988079071, 0.6882472038269043, 0.6882472038269043, 0.6882472038269043, 0.6882472038269043, 0.6868028044700623, 0.6862435340881348, 0.6848150491714478, 0.6758453845977783, 0.6741998195648193, 0.6735753417015076, 0.6634887456893921, 0.6622661352157593, 0.6575959324836731, 0.6546536684036255, 0.6546536684036255, 0.6546536684036255, 0.6546536684036255, 0.6546536684036255, 0.6546536684036255, 0.6546536684036255, 0.6546536684036255, 0.6546536684036255, 0.8127554655075073, 0.805614173412323, 0.79427570104599, 0.7842457294464111, 0.7839663624763489, 0.7723150849342346, 0.7718111276626587, 0.7718111276626587, 0.7718111276626587, 0.7677159309387207, 0.7672343254089355, 0.7661489248275757, 0.7661489248275757, 0.7661488056182861, 0.7661488056182861, 0.7656161785125732, 0.7649462819099426, 0.7643113732337952, 0.763675332069397, 0.7627701163291931, 0.7620635032653809, 0.7606275677680969, 0.7606275081634521, 0.7602041959762573, 0.7602041959762573, 0.759885311126709, 0.7580981254577637, 0.7580981254577637, 0.7570719718933105, 0.7483315467834473, 0.7483314871788025, 0.7480659484863281, 0.7470874190330505, 0.746676504611969, 0.746676504611969, 0.7462975978851318, 0.7462975978851318, 0.7448452711105347, 0.7437008023262024, 0.7423931956291199, 0.7423931360244751, 0.8127554655075073, 0.805614173412323, 0.79427570104599, 0.7842457294464111, 0.7839663624763489, 0.7723150849342346, 0.7718111276626587, 0.7718111276626587, 0.7718111276626587, 0.7677159309387207, 0.7672343254089355, 0.7661489248275757, 0.7661489248275757, 0.7661488056182861, 0.7661488056182861, 0.7656161785125732, 0.7649462819099426, 0.7643113732337952, 0.763675332069397, 0.7627701163291931, 0.7620635032653809, 0.7606275677680969, 0.7606275081634521, 0.7602041959762573, 0.7602041959762573, 0.759885311126709, 0.7580981254577637, 0.7580981254577637, 0.7570719718933105, 0.7483315467834473, 0.7483314871788025, 0.7480659484863281, 0.7470874190330505, 0.746676504611969, 0.746676504611969, 0.7462975978851318, 0.7462975978851318, 0.7448452711105347, 0.7437008023262024, 0.7423931956291199, 0.7423931360244751, 0.8228850364685059, 0.8204126358032227, 0.8122395873069763, 0.8084245920181274, 0.8061794638633728, 0.8043153285980225, 0.8036850690841675, 0.7961540222167969, 0.7912240624427795, 0.7912240624427795, 0.789965033531189, 0.7881898880004883, 0.7862136363983154, 0.7862136363983154, 0.7812429070472717, 0.7793252468109131, 0.7765803337097168, 0.7765164375305176, 0.776299774646759, 0.7751332521438599, 0.7731113433837891, 0.7731113433837891, 0.7724872827529907, 0.7724872827529907, 0.7724872827529907, 0.7720029354095459, 0.7690161466598511, 0.7687422037124634, 0.7687422037124634, 0.7648661136627197, 0.764505922794342, 0.7634873390197754, 0.7634873390197754, 0.7623834609985352, 0.761939287185669, 0.7613189220428467, 0.7613189220428467, 0.7613189220428467, 0.7613189220428467, 0.7603371739387512, 0.7603371739387512, 0.834057629108429, 0.834057629108429, 0.834057629108429, 0.834057629108429, 0.834057629108429, 0.834057629108429, 0.834057629108429, 0.834057629108429, 0.834057629108429, 0.800000011920929, 0.800000011920929, 0.7637626528739929, 0.7637626528739929, 0.7637626528739929, 0.7637625932693481, 0.7427813410758972, 0.7427813410758972, 0.7060630917549133, 0.699999988079071, 0.6882472038269043, 0.6882472038269043, 0.6882472038269043, 0.6882472038269043, 0.6868028044700623, 0.6862435340881348, 0.6848150491714478, 0.6758453845977783, 0.6741998195648193, 0.6735753417015076, 0.6634887456893921, 0.6622661352157593, 0.6575959324836731, 0.6546536684036255, 0.6546536684036255, 0.6546536684036255, 0.6546536684036255, 0.6546536684036255, 0.6546536684036255, 0.6546536684036255, 0.6546536684036255, 0.6546536684036255, 0.8127554655075073, 0.805614173412323, 0.79427570104599, 0.7842457294464111, 0.7839663624763489, 0.7723150849342346, 0.7718111276626587, 0.7718111276626587, 0.7718111276626587, 0.7677159309387207, 0.7672343254089355, 0.7661489248275757, 0.7661489248275757, 0.7661488056182861, 0.7661488056182861, 0.7656161785125732, 0.7649462819099426, 0.7643113732337952, 0.763675332069397, 0.7627701163291931, 0.7620635032653809, 0.7606275677680969, 0.7606275081634521, 0.7602041959762573, 0.7602041959762573, 0.759885311126709, 0.7580981254577637, 0.7580981254577637, 0.7570719718933105, 0.7483315467834473, 0.7483314871788025, 0.7480659484863281, 0.7470874190330505, 0.746676504611969, 0.746676504611969, 0.7462975978851318, 0.7462975978851318, 0.7448452711105347, 0.7437008023262024, 0.7423931956291199, 0.7423931360244751, 0.7531120777130127, 0.7491094470024109, 0.7470974326133728, 0.7459920048713684, 0.7404359579086304, 0.7400000095367432, 0.7395739555358887, 0.7371541261672974, 0.7367883324623108, 0.7363210320472717, 0.7352145910263062, 0.7349740862846375, 0.7347080707550049, 0.7347079515457153, 0.7347079515457153, 0.7333334684371948, 0.73333340883255, 0.7324669361114502, 0.7295741438865662, 0.7281999588012695, 0.7281998991966248, 0.7277781367301941, 0.7268154621124268, 0.7268154621124268, 0.7265225648880005, 0.7264114022254944, 0.7242117524147034, 0.7236272096633911, 0.7235358953475952, 0.7229568958282471, 0.7228973507881165, 0.7228973507881165, 0.7216098308563232, 0.7201579213142395, 0.7201579213142395, 0.7201579213142395, 0.7201579213142395, 0.7201579213142395, 0.7199999690055847, 0.7194769382476807, 0.719268262386322, 0.8111071586608887, 0.7943589091300964, 0.7859053611755371, 0.7856741547584534, 0.7856741547584534, 0.7844644784927368, 0.7844644784927368, 0.7817358374595642, 0.78127121925354, 0.7787916660308838, 0.7749843001365662, 0.7749130725860596, 0.7749130725860596, 0.7749130725860596, 0.7718294858932495, 0.7717437148094177, 0.7714020013809204, 0.7706663608551025, 0.7702012062072754, 0.7698974609375, 0.7698974609375, 0.7696036696434021, 0.7661309838294983, 0.7659541964530945, 0.7645094990730286, 0.7645094990730286, 0.7645094990730286, 0.7627244591712952, 0.7617883086204529, 0.7613871097564697, 0.7609606385231018, 0.7607256770133972, 0.7607256770133972, 0.7604443430900574, 0.7590721249580383, 0.7580981254577637, 0.7580981254577637, 0.7580981254577637, 0.7580981254577637, 0.7578702569007874, 0.7578702569007874, 0.6759263277053833, 0.6383450031280518, 0.6362847685813904, 0.6362847685813904, 0.6362847685813904, 0.6362847685813904, 0.6276063919067383, 0.6217617988586426, 0.6101702451705933, 0.6054055094718933, 0.6054055094718933, 0.6054055094718933, 0.605227530002594, 0.605227530002594, 0.605227530002594, 0.605227530002594, 0.605227530002594, 0.605227530002594, 0.605227530002594, 0.605227530002594, 0.5977626442909241, 0.5943216681480408, 0.5943216681480408, 0.5943216681480408, 0.5927489399909973, 0.5921369194984436, 0.5877746939659119, 0.5871366262435913, 0.5871366262435913, 0.5871365666389465, 0.5848177671432495, 0.5783149003982544, 0.5783149003982544, 0.5783149003982544, 0.5783149003982544, 0.5783149003982544, 0.5783149003982544, 0.5783149003982544, 0.5783149003982544, 0.5783149003982544, 0.5783149003982544, 0.7784133553504944, 0.7744821310043335, 0.7744821310043335, 0.7733154296875, 0.77186119556427, 0.7708455920219421, 0.7686974406242371, 0.7659982442855835, 0.7650001049041748, 0.7649731040000916, 0.7645793557167053, 0.7618399858474731, 0.7583186626434326, 0.7541502714157104, 0.7541502714157104, 0.7541502118110657, 0.7520698308944702, 0.7520444393157959, 0.7518094182014465, 0.7506518959999084, 0.7501524686813354, 0.7500278353691101, 0.7500278353691101, 0.7495254278182983, 0.749005913734436, 0.749005913734436, 0.7482126355171204, 0.747530996799469, 0.7475309371948242, 0.7475309371948242, 0.7475309371948242, 0.7469265460968018, 0.7463465929031372, 0.7460037469863892, 0.7458404302597046, 0.7458403706550598, 0.745697021484375, 0.7451663017272949, 0.7446943521499634, 0.744683027267456, 0.7431805729866028], \"xaxis\": \"x\", \"yaxis\": \"y\"}],\n",
              "                        {\"barmode\": \"relative\", \"legend\": {\"tracegroupgap\": 0}, \"margin\": {\"t\": 60}, \"template\": {\"data\": {\"bar\": [{\"error_x\": {\"color\": \"#2a3f5f\"}, \"error_y\": {\"color\": \"#2a3f5f\"}, \"marker\": {\"line\": {\"color\": \"#E5ECF6\", \"width\": 0.5}}, \"type\": \"bar\"}], \"barpolar\": [{\"marker\": {\"line\": {\"color\": \"#E5ECF6\", \"width\": 0.5}}, \"type\": \"barpolar\"}], \"carpet\": [{\"aaxis\": {\"endlinecolor\": \"#2a3f5f\", \"gridcolor\": \"white\", \"linecolor\": \"white\", \"minorgridcolor\": \"white\", \"startlinecolor\": \"#2a3f5f\"}, \"baxis\": {\"endlinecolor\": \"#2a3f5f\", \"gridcolor\": \"white\", \"linecolor\": \"white\", \"minorgridcolor\": \"white\", \"startlinecolor\": \"#2a3f5f\"}, \"type\": \"carpet\"}], \"choropleth\": [{\"colorbar\": {\"outlinewidth\": 0, \"ticks\": \"\"}, \"type\": \"choropleth\"}], \"contour\": [{\"colorbar\": {\"outlinewidth\": 0, \"ticks\": \"\"}, \"colorscale\": [[0.0, \"#0d0887\"], [0.1111111111111111, \"#46039f\"], [0.2222222222222222, \"#7201a8\"], [0.3333333333333333, \"#9c179e\"], [0.4444444444444444, \"#bd3786\"], [0.5555555555555556, \"#d8576b\"], [0.6666666666666666, \"#ed7953\"], [0.7777777777777778, \"#fb9f3a\"], [0.8888888888888888, \"#fdca26\"], [1.0, \"#f0f921\"]], \"type\": \"contour\"}], \"contourcarpet\": [{\"colorbar\": {\"outlinewidth\": 0, \"ticks\": \"\"}, \"type\": \"contourcarpet\"}], \"heatmap\": [{\"colorbar\": {\"outlinewidth\": 0, \"ticks\": \"\"}, \"colorscale\": [[0.0, \"#0d0887\"], [0.1111111111111111, \"#46039f\"], [0.2222222222222222, \"#7201a8\"], [0.3333333333333333, \"#9c179e\"], [0.4444444444444444, \"#bd3786\"], [0.5555555555555556, \"#d8576b\"], [0.6666666666666666, \"#ed7953\"], [0.7777777777777778, \"#fb9f3a\"], [0.8888888888888888, \"#fdca26\"], [1.0, \"#f0f921\"]], \"type\": \"heatmap\"}], \"heatmapgl\": [{\"colorbar\": {\"outlinewidth\": 0, \"ticks\": \"\"}, \"colorscale\": [[0.0, \"#0d0887\"], [0.1111111111111111, \"#46039f\"], [0.2222222222222222, \"#7201a8\"], [0.3333333333333333, \"#9c179e\"], [0.4444444444444444, \"#bd3786\"], [0.5555555555555556, \"#d8576b\"], [0.6666666666666666, \"#ed7953\"], [0.7777777777777778, \"#fb9f3a\"], [0.8888888888888888, \"#fdca26\"], [1.0, \"#f0f921\"]], \"type\": \"heatmapgl\"}], \"histogram\": [{\"marker\": {\"colorbar\": {\"outlinewidth\": 0, \"ticks\": \"\"}}, \"type\": \"histogram\"}], \"histogram2d\": [{\"colorbar\": {\"outlinewidth\": 0, \"ticks\": \"\"}, \"colorscale\": [[0.0, \"#0d0887\"], [0.1111111111111111, \"#46039f\"], [0.2222222222222222, \"#7201a8\"], [0.3333333333333333, \"#9c179e\"], [0.4444444444444444, \"#bd3786\"], [0.5555555555555556, \"#d8576b\"], [0.6666666666666666, \"#ed7953\"], [0.7777777777777778, \"#fb9f3a\"], [0.8888888888888888, \"#fdca26\"], [1.0, \"#f0f921\"]], \"type\": \"histogram2d\"}], \"histogram2dcontour\": [{\"colorbar\": {\"outlinewidth\": 0, \"ticks\": \"\"}, \"colorscale\": [[0.0, \"#0d0887\"], [0.1111111111111111, \"#46039f\"], [0.2222222222222222, \"#7201a8\"], [0.3333333333333333, \"#9c179e\"], [0.4444444444444444, \"#bd3786\"], [0.5555555555555556, \"#d8576b\"], [0.6666666666666666, \"#ed7953\"], [0.7777777777777778, \"#fb9f3a\"], [0.8888888888888888, \"#fdca26\"], [1.0, \"#f0f921\"]], \"type\": \"histogram2dcontour\"}], \"mesh3d\": [{\"colorbar\": {\"outlinewidth\": 0, \"ticks\": \"\"}, \"type\": \"mesh3d\"}], \"parcoords\": [{\"line\": {\"colorbar\": {\"outlinewidth\": 0, \"ticks\": \"\"}}, \"type\": \"parcoords\"}], \"pie\": [{\"automargin\": true, \"type\": \"pie\"}], \"scatter\": [{\"marker\": {\"colorbar\": {\"outlinewidth\": 0, \"ticks\": \"\"}}, \"type\": \"scatter\"}], \"scatter3d\": [{\"line\": {\"colorbar\": {\"outlinewidth\": 0, \"ticks\": \"\"}}, \"marker\": {\"colorbar\": {\"outlinewidth\": 0, \"ticks\": \"\"}}, \"type\": \"scatter3d\"}], \"scattercarpet\": [{\"marker\": {\"colorbar\": {\"outlinewidth\": 0, \"ticks\": \"\"}}, \"type\": \"scattercarpet\"}], \"scattergeo\": [{\"marker\": {\"colorbar\": {\"outlinewidth\": 0, \"ticks\": \"\"}}, \"type\": \"scattergeo\"}], \"scattergl\": [{\"marker\": {\"colorbar\": {\"outlinewidth\": 0, \"ticks\": \"\"}}, \"type\": \"scattergl\"}], \"scattermapbox\": [{\"marker\": {\"colorbar\": {\"outlinewidth\": 0, \"ticks\": \"\"}}, \"type\": \"scattermapbox\"}], \"scatterpolar\": [{\"marker\": {\"colorbar\": {\"outlinewidth\": 0, \"ticks\": \"\"}}, \"type\": \"scatterpolar\"}], \"scatterpolargl\": [{\"marker\": {\"colorbar\": {\"outlinewidth\": 0, \"ticks\": \"\"}}, \"type\": \"scatterpolargl\"}], \"scatterternary\": [{\"marker\": {\"colorbar\": {\"outlinewidth\": 0, \"ticks\": \"\"}}, \"type\": \"scatterternary\"}], \"surface\": [{\"colorbar\": {\"outlinewidth\": 0, \"ticks\": \"\"}, \"colorscale\": [[0.0, \"#0d0887\"], [0.1111111111111111, \"#46039f\"], [0.2222222222222222, \"#7201a8\"], [0.3333333333333333, \"#9c179e\"], [0.4444444444444444, \"#bd3786\"], [0.5555555555555556, \"#d8576b\"], [0.6666666666666666, \"#ed7953\"], [0.7777777777777778, \"#fb9f3a\"], [0.8888888888888888, \"#fdca26\"], [1.0, \"#f0f921\"]], \"type\": \"surface\"}], \"table\": [{\"cells\": {\"fill\": {\"color\": \"#EBF0F8\"}, \"line\": {\"color\": \"white\"}}, \"header\": {\"fill\": {\"color\": \"#C8D4E3\"}, \"line\": {\"color\": \"white\"}}, \"type\": \"table\"}]}, \"layout\": {\"annotationdefaults\": {\"arrowcolor\": \"#2a3f5f\", \"arrowhead\": 0, \"arrowwidth\": 1}, \"coloraxis\": {\"colorbar\": {\"outlinewidth\": 0, \"ticks\": \"\"}}, \"colorscale\": {\"diverging\": [[0, \"#8e0152\"], [0.1, \"#c51b7d\"], [0.2, \"#de77ae\"], [0.3, \"#f1b6da\"], [0.4, \"#fde0ef\"], [0.5, \"#f7f7f7\"], [0.6, \"#e6f5d0\"], [0.7, \"#b8e186\"], [0.8, \"#7fbc41\"], [0.9, \"#4d9221\"], [1, \"#276419\"]], \"sequential\": [[0.0, \"#0d0887\"], [0.1111111111111111, \"#46039f\"], [0.2222222222222222, \"#7201a8\"], [0.3333333333333333, \"#9c179e\"], [0.4444444444444444, \"#bd3786\"], [0.5555555555555556, \"#d8576b\"], [0.6666666666666666, \"#ed7953\"], [0.7777777777777778, \"#fb9f3a\"], [0.8888888888888888, \"#fdca26\"], [1.0, \"#f0f921\"]], \"sequentialminus\": [[0.0, \"#0d0887\"], [0.1111111111111111, \"#46039f\"], [0.2222222222222222, \"#7201a8\"], [0.3333333333333333, \"#9c179e\"], [0.4444444444444444, \"#bd3786\"], [0.5555555555555556, \"#d8576b\"], [0.6666666666666666, \"#ed7953\"], [0.7777777777777778, \"#fb9f3a\"], [0.8888888888888888, \"#fdca26\"], [1.0, \"#f0f921\"]]}, \"colorway\": [\"#636efa\", \"#EF553B\", \"#00cc96\", \"#ab63fa\", \"#FFA15A\", \"#19d3f3\", \"#FF6692\", \"#B6E880\", \"#FF97FF\", \"#FECB52\"], \"font\": {\"color\": \"#2a3f5f\"}, \"geo\": {\"bgcolor\": \"white\", \"lakecolor\": \"white\", \"landcolor\": \"#E5ECF6\", \"showlakes\": true, \"showland\": true, \"subunitcolor\": \"white\"}, \"hoverlabel\": {\"align\": \"left\"}, \"hovermode\": \"closest\", \"mapbox\": {\"style\": \"light\"}, \"paper_bgcolor\": \"white\", \"plot_bgcolor\": \"#E5ECF6\", \"polar\": {\"angularaxis\": {\"gridcolor\": \"white\", \"linecolor\": \"white\", \"ticks\": \"\"}, \"bgcolor\": \"#E5ECF6\", \"radialaxis\": {\"gridcolor\": \"white\", \"linecolor\": \"white\", \"ticks\": \"\"}}, \"scene\": {\"xaxis\": {\"backgroundcolor\": \"#E5ECF6\", \"gridcolor\": \"white\", \"gridwidth\": 2, \"linecolor\": \"white\", \"showbackground\": true, \"ticks\": \"\", \"zerolinecolor\": \"white\"}, \"yaxis\": {\"backgroundcolor\": \"#E5ECF6\", \"gridcolor\": \"white\", \"gridwidth\": 2, \"linecolor\": \"white\", \"showbackground\": true, \"ticks\": \"\", \"zerolinecolor\": \"white\"}, \"zaxis\": {\"backgroundcolor\": \"#E5ECF6\", \"gridcolor\": \"white\", \"gridwidth\": 2, \"linecolor\": \"white\", \"showbackground\": true, \"ticks\": \"\", \"zerolinecolor\": \"white\"}}, \"shapedefaults\": {\"line\": {\"color\": \"#2a3f5f\"}}, \"ternary\": {\"aaxis\": {\"gridcolor\": \"white\", \"linecolor\": \"white\", \"ticks\": \"\"}, \"baxis\": {\"gridcolor\": \"white\", \"linecolor\": \"white\", \"ticks\": \"\"}, \"bgcolor\": \"#E5ECF6\", \"caxis\": {\"gridcolor\": \"white\", \"linecolor\": \"white\", \"ticks\": \"\"}}, \"title\": {\"x\": 0.05}, \"xaxis\": {\"automargin\": true, \"gridcolor\": \"white\", \"linecolor\": \"white\", \"ticks\": \"\", \"title\": {\"standoff\": 15}, \"zerolinecolor\": \"white\", \"zerolinewidth\": 2}, \"yaxis\": {\"automargin\": true, \"gridcolor\": \"white\", \"linecolor\": \"white\", \"ticks\": \"\", \"title\": {\"standoff\": 15}, \"zerolinecolor\": \"white\", \"zerolinewidth\": 2}}}, \"xaxis\": {\"anchor\": \"y\", \"domain\": [0.0, 1.0], \"title\": {\"text\": \"score\"}}, \"yaxis\": {\"anchor\": \"x\", \"domain\": [0.0, 1.0], \"title\": {\"text\": \"count\"}}},\n",
              "                        {\"responsive\": true}\n",
              "                    ).then(function(){\n",
              "                            \n",
              "var gd = document.getElementById('523eb346-3068-4f1b-aa9d-50d4a2d55d33');\n",
              "var x = new MutationObserver(function (mutations, observer) {{\n",
              "        var display = window.getComputedStyle(gd).display;\n",
              "        if (!display || display === 'none') {{\n",
              "            console.log([gd, 'removed!']);\n",
              "            Plotly.purge(gd);\n",
              "            observer.disconnect();\n",
              "        }}\n",
              "}});\n",
              "\n",
              "// Listen for the removal of the full notebook cells\n",
              "var notebookContainer = gd.closest('#notebook-container');\n",
              "if (notebookContainer) {{\n",
              "    x.observe(notebookContainer, {childList: true});\n",
              "}}\n",
              "\n",
              "// Listen for the clearing of the current output cell\n",
              "var outputEl = gd.closest('.output');\n",
              "if (outputEl) {{\n",
              "    x.observe(outputEl, {childList: true});\n",
              "}}\n",
              "\n",
              "                        })\n",
              "                };\n",
              "                \n",
              "            </script>\n",
              "        </div>\n",
              "</body>\n",
              "</html>"
            ]
          },
          "metadata": {}
        }
      ]
    },
    {
      "cell_type": "code",
      "metadata": {
        "colab": {
          "base_uri": "https://localhost:8080/",
          "height": 1000
        },
        "id": "7N81-XfdDFKV",
        "outputId": "eb81c92a-8dea-4c95-ad6f-8b1a85675ce3"
      },
      "source": [
        "result, details = recommend_tune(df_sim, 'These Foolish Things')\n",
        "result.head(30)"
      ],
      "execution_count": 44,
      "outputs": [
        {
          "output_type": "execute_result",
          "data": {
            "text/html": [
              "<div>\n",
              "<style scoped>\n",
              "    .dataframe tbody tr th:only-of-type {\n",
              "        vertical-align: middle;\n",
              "    }\n",
              "\n",
              "    .dataframe tbody tr th {\n",
              "        vertical-align: top;\n",
              "    }\n",
              "\n",
              "    .dataframe thead th {\n",
              "        text-align: right;\n",
              "    }\n",
              "</style>\n",
              "<table border=\"1\" class=\"dataframe\">\n",
              "  <thead>\n",
              "    <tr style=\"text-align: right;\">\n",
              "      <th></th>\n",
              "      <th>score</th>\n",
              "      <th>max</th>\n",
              "      <th>score_div_max</th>\n",
              "    </tr>\n",
              "    <tr>\n",
              "      <th>similar_title</th>\n",
              "      <th></th>\n",
              "      <th></th>\n",
              "      <th></th>\n",
              "    </tr>\n",
              "  </thead>\n",
              "  <tbody>\n",
              "    <tr>\n",
              "      <th>More Than You Know</th>\n",
              "      <td>0.731126</td>\n",
              "      <td>0.731126</td>\n",
              "      <td>1.000000</td>\n",
              "    </tr>\n",
              "    <tr>\n",
              "      <th>All The Way</th>\n",
              "      <td>0.794894</td>\n",
              "      <td>0.794894</td>\n",
              "      <td>1.000000</td>\n",
              "    </tr>\n",
              "    <tr>\n",
              "      <th>Some Enchanted Evening</th>\n",
              "      <td>0.772427</td>\n",
              "      <td>0.794894</td>\n",
              "      <td>1.000000</td>\n",
              "    </tr>\n",
              "    <tr>\n",
              "      <th>Dreaming The Hours Away</th>\n",
              "      <td>0.785610</td>\n",
              "      <td>0.794894</td>\n",
              "      <td>0.996915</td>\n",
              "    </tr>\n",
              "    <tr>\n",
              "      <th>Folks Who Live On The Hill, The</th>\n",
              "      <td>0.782072</td>\n",
              "      <td>0.794894</td>\n",
              "      <td>0.995910</td>\n",
              "    </tr>\n",
              "    <tr>\n",
              "      <th>Second Time Around, The</th>\n",
              "      <td>0.774371</td>\n",
              "      <td>0.794894</td>\n",
              "      <td>0.987967</td>\n",
              "    </tr>\n",
              "    <tr>\n",
              "      <th>I Don't Want To Miss Mississippi</th>\n",
              "      <td>0.785069</td>\n",
              "      <td>0.794894</td>\n",
              "      <td>0.987640</td>\n",
              "    </tr>\n",
              "    <tr>\n",
              "      <th>I Loves You Porgy</th>\n",
              "      <td>0.775315</td>\n",
              "      <td>0.794894</td>\n",
              "      <td>0.985150</td>\n",
              "    </tr>\n",
              "    <tr>\n",
              "      <th>For You, For Me, For Evermore</th>\n",
              "      <td>0.780493</td>\n",
              "      <td>0.794894</td>\n",
              "      <td>0.981883</td>\n",
              "    </tr>\n",
              "    <tr>\n",
              "      <th>Fair And Square In Love</th>\n",
              "      <td>0.764861</td>\n",
              "      <td>0.779539</td>\n",
              "      <td>0.981171</td>\n",
              "    </tr>\n",
              "    <tr>\n",
              "      <th>Smiles (That Make Us Happy)</th>\n",
              "      <td>0.761880</td>\n",
              "      <td>0.794894</td>\n",
              "      <td>0.977347</td>\n",
              "    </tr>\n",
              "    <tr>\n",
              "      <th>If You Were The Only Girl In The World</th>\n",
              "      <td>0.776015</td>\n",
              "      <td>0.794894</td>\n",
              "      <td>0.976250</td>\n",
              "    </tr>\n",
              "    <tr>\n",
              "      <th>Hello Young Lovers</th>\n",
              "      <td>0.772429</td>\n",
              "      <td>0.794894</td>\n",
              "      <td>0.973933</td>\n",
              "    </tr>\n",
              "    <tr>\n",
              "      <th>Good Life, The</th>\n",
              "      <td>0.759125</td>\n",
              "      <td>0.779539</td>\n",
              "      <td>0.973813</td>\n",
              "    </tr>\n",
              "    <tr>\n",
              "      <th>And The Angels Sing</th>\n",
              "      <td>0.769649</td>\n",
              "      <td>0.794894</td>\n",
              "      <td>0.972363</td>\n",
              "    </tr>\n",
              "    <tr>\n",
              "      <th>It Might As Well Be Spring</th>\n",
              "      <td>0.747696</td>\n",
              "      <td>0.769034</td>\n",
              "      <td>0.972253</td>\n",
              "    </tr>\n",
              "    <tr>\n",
              "      <th>I've Got A Feeling I'm Falling</th>\n",
              "      <td>0.764005</td>\n",
              "      <td>0.794894</td>\n",
              "      <td>0.971984</td>\n",
              "    </tr>\n",
              "    <tr>\n",
              "      <th>Wouldn't It Be Loverly</th>\n",
              "      <td>0.772623</td>\n",
              "      <td>0.794894</td>\n",
              "      <td>0.971983</td>\n",
              "    </tr>\n",
              "    <tr>\n",
              "      <th>I'm Old Fashioned</th>\n",
              "      <td>0.746202</td>\n",
              "      <td>0.769034</td>\n",
              "      <td>0.970311</td>\n",
              "    </tr>\n",
              "    <tr>\n",
              "      <th>Feels So Good</th>\n",
              "      <td>0.745799</td>\n",
              "      <td>0.769034</td>\n",
              "      <td>0.969787</td>\n",
              "    </tr>\n",
              "    <tr>\n",
              "      <th>Beyond The Sea</th>\n",
              "      <td>0.760086</td>\n",
              "      <td>0.794894</td>\n",
              "      <td>0.969312</td>\n",
              "    </tr>\n",
              "    <tr>\n",
              "      <th>They All Laughed</th>\n",
              "      <td>0.763763</td>\n",
              "      <td>0.794894</td>\n",
              "      <td>0.967951</td>\n",
              "    </tr>\n",
              "    <tr>\n",
              "      <th>I'll Be Seeing You</th>\n",
              "      <td>0.743613</td>\n",
              "      <td>0.769034</td>\n",
              "      <td>0.966944</td>\n",
              "    </tr>\n",
              "    <tr>\n",
              "      <th>Louisiana</th>\n",
              "      <td>0.753584</td>\n",
              "      <td>0.794894</td>\n",
              "      <td>0.966705</td>\n",
              "    </tr>\n",
              "    <tr>\n",
              "      <th>Ol' Man River</th>\n",
              "      <td>0.765942</td>\n",
              "      <td>0.794894</td>\n",
              "      <td>0.963578</td>\n",
              "    </tr>\n",
              "    <tr>\n",
              "      <th>Young At Heart</th>\n",
              "      <td>0.765724</td>\n",
              "      <td>0.794894</td>\n",
              "      <td>0.963304</td>\n",
              "    </tr>\n",
              "    <tr>\n",
              "      <th>Easy Street</th>\n",
              "      <td>0.738933</td>\n",
              "      <td>0.769034</td>\n",
              "      <td>0.960859</td>\n",
              "    </tr>\n",
              "    <tr>\n",
              "      <th>Little Girl Blue</th>\n",
              "      <td>0.748784</td>\n",
              "      <td>0.779539</td>\n",
              "      <td>0.960548</td>\n",
              "    </tr>\n",
              "    <tr>\n",
              "      <th>Among My Souvenirs</th>\n",
              "      <td>0.738549</td>\n",
              "      <td>0.769034</td>\n",
              "      <td>0.960359</td>\n",
              "    </tr>\n",
              "    <tr>\n",
              "      <th>All Alone</th>\n",
              "      <td>0.747974</td>\n",
              "      <td>0.779539</td>\n",
              "      <td>0.959509</td>\n",
              "    </tr>\n",
              "  </tbody>\n",
              "</table>\n",
              "</div>"
            ],
            "text/plain": [
              "                                           score       max  score_div_max\n",
              "similar_title                                                            \n",
              "More Than You Know                      0.731126  0.731126       1.000000\n",
              "All The Way                             0.794894  0.794894       1.000000\n",
              "Some Enchanted Evening                  0.772427  0.794894       1.000000\n",
              "Dreaming The Hours Away                 0.785610  0.794894       0.996915\n",
              "Folks Who Live On The Hill, The         0.782072  0.794894       0.995910\n",
              "Second Time Around, The                 0.774371  0.794894       0.987967\n",
              "I Don't Want To Miss Mississippi        0.785069  0.794894       0.987640\n",
              "I Loves You Porgy                       0.775315  0.794894       0.985150\n",
              "For You, For Me, For Evermore           0.780493  0.794894       0.981883\n",
              "Fair And Square In Love                 0.764861  0.779539       0.981171\n",
              "Smiles (That Make Us Happy)             0.761880  0.794894       0.977347\n",
              "If You Were The Only Girl In The World  0.776015  0.794894       0.976250\n",
              "Hello Young Lovers                      0.772429  0.794894       0.973933\n",
              "Good Life, The                          0.759125  0.779539       0.973813\n",
              "And The Angels Sing                     0.769649  0.794894       0.972363\n",
              "It Might As Well Be Spring              0.747696  0.769034       0.972253\n",
              "I've Got A Feeling I'm Falling          0.764005  0.794894       0.971984\n",
              "Wouldn't It Be Loverly                  0.772623  0.794894       0.971983\n",
              "I'm Old Fashioned                       0.746202  0.769034       0.970311\n",
              "Feels So Good                           0.745799  0.769034       0.969787\n",
              "Beyond The Sea                          0.760086  0.794894       0.969312\n",
              "They All Laughed                        0.763763  0.794894       0.967951\n",
              "I'll Be Seeing You                      0.743613  0.769034       0.966944\n",
              "Louisiana                               0.753584  0.794894       0.966705\n",
              "Ol' Man River                           0.765942  0.794894       0.963578\n",
              "Young At Heart                          0.765724  0.794894       0.963304\n",
              "Easy Street                             0.738933  0.769034       0.960859\n",
              "Little Girl Blue                        0.748784  0.779539       0.960548\n",
              "Among My Souvenirs                      0.738549  0.769034       0.960359\n",
              "All Alone                               0.747974  0.779539       0.959509"
            ]
          },
          "metadata": {},
          "execution_count": 44
        }
      ]
    },
    {
      "cell_type": "code",
      "metadata": {
        "id": "ioI_a6e0DPF1"
      },
      "source": [
        ""
      ],
      "execution_count": null,
      "outputs": []
    }
  ]
}