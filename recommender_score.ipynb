{
  "nbformat": 4,
  "nbformat_minor": 0,
  "metadata": {
    "colab": {
      "name": "recommender_score",
      "provenance": [],
      "toc_visible": true,
      "authorship_tag": "ABX9TyOauIfx3lG8y1XxLdorSn05",
      "include_colab_link": true
    },
    "kernelspec": {
      "name": "python3",
      "display_name": "Python 3"
    },
    "language_info": {
      "name": "python"
    },
    "accelerator": "TPU",
    "widgets": {
      "application/vnd.jupyter.widget-state+json": {
        "960bbb2c86164c4b9c1affefc7491bac": {
          "model_module": "@jupyter-widgets/controls",
          "model_name": "VBoxModel",
          "model_module_version": "1.5.0",
          "state": {
            "_view_name": "VBoxView",
            "_dom_classes": [],
            "_model_name": "VBoxModel",
            "_view_module": "@jupyter-widgets/controls",
            "_model_module_version": "1.5.0",
            "_view_count": null,
            "_view_module_version": "1.5.0",
            "box_style": "",
            "layout": "IPY_MODEL_f2231bb7a2874dfe8c6defbcef92b006",
            "_model_module": "@jupyter-widgets/controls",
            "children": [
              "IPY_MODEL_63cad9c35961454496d0332398be6b99",
              "IPY_MODEL_15f2d46d36b6408585e472f3f8ef238c"
            ]
          }
        },
        "f2231bb7a2874dfe8c6defbcef92b006": {
          "model_module": "@jupyter-widgets/base",
          "model_name": "LayoutModel",
          "model_module_version": "1.2.0",
          "state": {
            "_view_name": "LayoutView",
            "grid_template_rows": null,
            "right": null,
            "justify_content": null,
            "_view_module": "@jupyter-widgets/base",
            "overflow": null,
            "_model_module_version": "1.2.0",
            "_view_count": null,
            "flex_flow": null,
            "width": null,
            "min_width": null,
            "border": null,
            "align_items": null,
            "bottom": null,
            "_model_module": "@jupyter-widgets/base",
            "top": null,
            "grid_column": null,
            "overflow_y": null,
            "overflow_x": null,
            "grid_auto_flow": null,
            "grid_area": null,
            "grid_template_columns": null,
            "flex": null,
            "_model_name": "LayoutModel",
            "justify_items": null,
            "grid_row": null,
            "max_height": null,
            "align_content": null,
            "visibility": null,
            "align_self": null,
            "height": null,
            "min_height": null,
            "padding": null,
            "grid_auto_rows": null,
            "grid_gap": null,
            "max_width": null,
            "order": null,
            "_view_module_version": "1.2.0",
            "grid_template_areas": null,
            "object_position": null,
            "object_fit": null,
            "grid_auto_columns": null,
            "margin": null,
            "display": null,
            "left": null
          }
        },
        "63cad9c35961454496d0332398be6b99": {
          "model_module": "@jupyter-widgets/controls",
          "model_name": "LabelModel",
          "model_module_version": "1.5.0",
          "state": {
            "_view_name": "LabelView",
            "style": "IPY_MODEL_0d9079278bd6404db3e4615832cc762b",
            "_dom_classes": [],
            "description": "",
            "_model_name": "LabelModel",
            "placeholder": "​",
            "_view_module": "@jupyter-widgets/controls",
            "_model_module_version": "1.5.0",
            "value": " 3.69MB of 3.69MB uploaded (0.00MB deduped)\r",
            "_view_count": null,
            "_view_module_version": "1.5.0",
            "description_tooltip": null,
            "_model_module": "@jupyter-widgets/controls",
            "layout": "IPY_MODEL_16f6b64a9c0a40178703377e3de49c06"
          }
        },
        "15f2d46d36b6408585e472f3f8ef238c": {
          "model_module": "@jupyter-widgets/controls",
          "model_name": "FloatProgressModel",
          "model_module_version": "1.5.0",
          "state": {
            "_view_name": "ProgressView",
            "style": "IPY_MODEL_83a77287a8964697984848bd00399295",
            "_dom_classes": [],
            "description": "",
            "_model_name": "FloatProgressModel",
            "bar_style": "",
            "max": 1,
            "_view_module": "@jupyter-widgets/controls",
            "_model_module_version": "1.5.0",
            "value": 1,
            "_view_count": null,
            "_view_module_version": "1.5.0",
            "orientation": "horizontal",
            "min": 0,
            "description_tooltip": null,
            "_model_module": "@jupyter-widgets/controls",
            "layout": "IPY_MODEL_cfd3ea17ce53406c9ec3080a5a496981"
          }
        },
        "0d9079278bd6404db3e4615832cc762b": {
          "model_module": "@jupyter-widgets/controls",
          "model_name": "DescriptionStyleModel",
          "model_module_version": "1.5.0",
          "state": {
            "_view_name": "StyleView",
            "_model_name": "DescriptionStyleModel",
            "description_width": "",
            "_view_module": "@jupyter-widgets/base",
            "_model_module_version": "1.5.0",
            "_view_count": null,
            "_view_module_version": "1.2.0",
            "_model_module": "@jupyter-widgets/controls"
          }
        },
        "16f6b64a9c0a40178703377e3de49c06": {
          "model_module": "@jupyter-widgets/base",
          "model_name": "LayoutModel",
          "model_module_version": "1.2.0",
          "state": {
            "_view_name": "LayoutView",
            "grid_template_rows": null,
            "right": null,
            "justify_content": null,
            "_view_module": "@jupyter-widgets/base",
            "overflow": null,
            "_model_module_version": "1.2.0",
            "_view_count": null,
            "flex_flow": null,
            "width": null,
            "min_width": null,
            "border": null,
            "align_items": null,
            "bottom": null,
            "_model_module": "@jupyter-widgets/base",
            "top": null,
            "grid_column": null,
            "overflow_y": null,
            "overflow_x": null,
            "grid_auto_flow": null,
            "grid_area": null,
            "grid_template_columns": null,
            "flex": null,
            "_model_name": "LayoutModel",
            "justify_items": null,
            "grid_row": null,
            "max_height": null,
            "align_content": null,
            "visibility": null,
            "align_self": null,
            "height": null,
            "min_height": null,
            "padding": null,
            "grid_auto_rows": null,
            "grid_gap": null,
            "max_width": null,
            "order": null,
            "_view_module_version": "1.2.0",
            "grid_template_areas": null,
            "object_position": null,
            "object_fit": null,
            "grid_auto_columns": null,
            "margin": null,
            "display": null,
            "left": null
          }
        },
        "83a77287a8964697984848bd00399295": {
          "model_module": "@jupyter-widgets/controls",
          "model_name": "ProgressStyleModel",
          "model_module_version": "1.5.0",
          "state": {
            "_view_name": "StyleView",
            "_model_name": "ProgressStyleModel",
            "description_width": "",
            "_view_module": "@jupyter-widgets/base",
            "_model_module_version": "1.5.0",
            "_view_count": null,
            "_view_module_version": "1.2.0",
            "bar_color": null,
            "_model_module": "@jupyter-widgets/controls"
          }
        },
        "cfd3ea17ce53406c9ec3080a5a496981": {
          "model_module": "@jupyter-widgets/base",
          "model_name": "LayoutModel",
          "model_module_version": "1.2.0",
          "state": {
            "_view_name": "LayoutView",
            "grid_template_rows": null,
            "right": null,
            "justify_content": null,
            "_view_module": "@jupyter-widgets/base",
            "overflow": null,
            "_model_module_version": "1.2.0",
            "_view_count": null,
            "flex_flow": null,
            "width": null,
            "min_width": null,
            "border": null,
            "align_items": null,
            "bottom": null,
            "_model_module": "@jupyter-widgets/base",
            "top": null,
            "grid_column": null,
            "overflow_y": null,
            "overflow_x": null,
            "grid_auto_flow": null,
            "grid_area": null,
            "grid_template_columns": null,
            "flex": null,
            "_model_name": "LayoutModel",
            "justify_items": null,
            "grid_row": null,
            "max_height": null,
            "align_content": null,
            "visibility": null,
            "align_self": null,
            "height": null,
            "min_height": null,
            "padding": null,
            "grid_auto_rows": null,
            "grid_gap": null,
            "max_width": null,
            "order": null,
            "_view_module_version": "1.2.0",
            "grid_template_areas": null,
            "object_position": null,
            "object_fit": null,
            "grid_auto_columns": null,
            "margin": null,
            "display": null,
            "left": null
          }
        }
      }
    }
  },
  "cells": [
    {
      "cell_type": "markdown",
      "metadata": {
        "id": "view-in-github",
        "colab_type": "text"
      },
      "source": [
        "<a href=\"https://colab.research.google.com/github/11doris/jazz-maestro/blob/colab_word_embeddings/recommender_score.ipynb\" target=\"_parent\"><img src=\"https://colab.research.google.com/assets/colab-badge.svg\" alt=\"Open In Colab\"/></a>"
      ]
    },
    {
      "cell_type": "markdown",
      "metadata": {
        "id": "YGhakKpa8Dtf"
      },
      "source": [
        "# Sections as Input"
      ]
    },
    {
      "cell_type": "code",
      "metadata": {
        "colab": {
          "base_uri": "https://localhost:8080/"
        },
        "id": "dm5QehpXxo31",
        "outputId": "2dd749cb-5e8b-4483-e249-7451980c71cc"
      },
      "source": [
        "pip install wandb"
      ],
      "execution_count": 375,
      "outputs": [
        {
          "output_type": "stream",
          "name": "stdout",
          "text": [
            "Requirement already satisfied: wandb in /usr/local/lib/python3.7/dist-packages (0.12.7)\n",
            "Requirement already satisfied: docker-pycreds>=0.4.0 in /usr/local/lib/python3.7/dist-packages (from wandb) (0.4.0)\n",
            "Requirement already satisfied: yaspin>=1.0.0 in /usr/local/lib/python3.7/dist-packages (from wandb) (2.1.0)\n",
            "Requirement already satisfied: GitPython>=1.0.0 in /usr/local/lib/python3.7/dist-packages (from wandb) (3.1.24)\n",
            "Requirement already satisfied: psutil>=5.0.0 in /usr/local/lib/python3.7/dist-packages (from wandb) (5.4.8)\n",
            "Requirement already satisfied: sentry-sdk>=1.0.0 in /usr/local/lib/python3.7/dist-packages (from wandb) (1.5.0)\n",
            "Requirement already satisfied: PyYAML in /usr/local/lib/python3.7/dist-packages (from wandb) (3.13)\n",
            "Requirement already satisfied: python-dateutil>=2.6.1 in /usr/local/lib/python3.7/dist-packages (from wandb) (2.8.2)\n",
            "Requirement already satisfied: subprocess32>=3.5.3 in /usr/local/lib/python3.7/dist-packages (from wandb) (3.5.4)\n",
            "Requirement already satisfied: shortuuid>=0.5.0 in /usr/local/lib/python3.7/dist-packages (from wandb) (1.0.8)\n",
            "Requirement already satisfied: configparser>=3.8.1 in /usr/local/lib/python3.7/dist-packages (from wandb) (5.1.0)\n",
            "Requirement already satisfied: protobuf>=3.12.0 in /usr/local/lib/python3.7/dist-packages (from wandb) (3.17.3)\n",
            "Requirement already satisfied: Click!=8.0.0,>=7.0 in /usr/local/lib/python3.7/dist-packages (from wandb) (7.1.2)\n",
            "Requirement already satisfied: promise<3,>=2.0 in /usr/local/lib/python3.7/dist-packages (from wandb) (2.3)\n",
            "Requirement already satisfied: pathtools in /usr/local/lib/python3.7/dist-packages (from wandb) (0.1.2)\n",
            "Requirement already satisfied: requests<3,>=2.0.0 in /usr/local/lib/python3.7/dist-packages (from wandb) (2.23.0)\n",
            "Requirement already satisfied: six>=1.13.0 in /usr/local/lib/python3.7/dist-packages (from wandb) (1.15.0)\n",
            "Requirement already satisfied: typing-extensions>=3.7.4.3 in /usr/local/lib/python3.7/dist-packages (from GitPython>=1.0.0->wandb) (3.10.0.2)\n",
            "Requirement already satisfied: gitdb<5,>=4.0.1 in /usr/local/lib/python3.7/dist-packages (from GitPython>=1.0.0->wandb) (4.0.9)\n",
            "Requirement already satisfied: smmap<6,>=3.0.1 in /usr/local/lib/python3.7/dist-packages (from gitdb<5,>=4.0.1->GitPython>=1.0.0->wandb) (5.0.0)\n",
            "Requirement already satisfied: certifi>=2017.4.17 in /usr/local/lib/python3.7/dist-packages (from requests<3,>=2.0.0->wandb) (2021.10.8)\n",
            "Requirement already satisfied: idna<3,>=2.5 in /usr/local/lib/python3.7/dist-packages (from requests<3,>=2.0.0->wandb) (2.10)\n",
            "Requirement already satisfied: urllib3!=1.25.0,!=1.25.1,<1.26,>=1.21.1 in /usr/local/lib/python3.7/dist-packages (from requests<3,>=2.0.0->wandb) (1.24.3)\n",
            "Requirement already satisfied: chardet<4,>=3.0.2 in /usr/local/lib/python3.7/dist-packages (from requests<3,>=2.0.0->wandb) (3.0.4)\n",
            "Requirement already satisfied: termcolor<2.0.0,>=1.1.0 in /usr/local/lib/python3.7/dist-packages (from yaspin>=1.0.0->wandb) (1.1.0)\n"
          ]
        }
      ]
    },
    {
      "cell_type": "code",
      "metadata": {
        "colab": {
          "base_uri": "https://localhost:8080/"
        },
        "id": "HZG8BDT-xrv3",
        "outputId": "3ca32299-264a-4c60-e30d-22af1bf8f16b"
      },
      "source": [
        "!!wandb login"
      ],
      "execution_count": 376,
      "outputs": [
        {
          "output_type": "execute_result",
          "data": {
            "text/plain": [
              "['\\x1b[34m\\x1b[1mwandb\\x1b[0m: Currently logged in as: \\x1b[33mdoris\\x1b[0m (use `wandb login --relogin` to force relogin)']"
            ]
          },
          "metadata": {},
          "execution_count": 376
        }
      ]
    },
    {
      "cell_type": "code",
      "metadata": {
        "id": "WHZBzAXjxz1J"
      },
      "source": [
        "import wandb"
      ],
      "execution_count": 377,
      "outputs": []
    },
    {
      "cell_type": "code",
      "metadata": {
        "colab": {
          "base_uri": "https://localhost:8080/"
        },
        "id": "MUy1ta4_782n",
        "outputId": "83de64b0-1bb2-4f73-aa6b-d726f7d2a4e2"
      },
      "source": [
        "!pip uninstall gensim -y"
      ],
      "execution_count": 378,
      "outputs": [
        {
          "output_type": "stream",
          "name": "stdout",
          "text": [
            "Found existing installation: gensim 4.1.2\n",
            "Uninstalling gensim-4.1.2:\n",
            "  Successfully uninstalled gensim-4.1.2\n"
          ]
        }
      ]
    },
    {
      "cell_type": "code",
      "metadata": {
        "colab": {
          "base_uri": "https://localhost:8080/",
          "height": 237
        },
        "id": "oAroxmvO8GQj",
        "outputId": "69a31953-5e66-483b-d16c-33a89d17f84e"
      },
      "source": [
        "!pip install gensim"
      ],
      "execution_count": 379,
      "outputs": [
        {
          "output_type": "stream",
          "name": "stdout",
          "text": [
            "Collecting gensim\n",
            "  Using cached gensim-4.1.2-cp37-cp37m-manylinux_2_12_x86_64.manylinux2010_x86_64.whl (24.1 MB)\n",
            "Requirement already satisfied: numpy>=1.17.0 in /usr/local/lib/python3.7/dist-packages (from gensim) (1.19.5)\n",
            "Requirement already satisfied: smart-open>=1.8.1 in /usr/local/lib/python3.7/dist-packages (from gensim) (5.2.1)\n",
            "Requirement already satisfied: scipy>=0.18.1 in /usr/local/lib/python3.7/dist-packages (from gensim) (1.4.1)\n",
            "Installing collected packages: gensim\n",
            "Successfully installed gensim-4.1.2\n"
          ]
        },
        {
          "output_type": "display_data",
          "data": {
            "application/vnd.colab-display-data+json": {
              "pip_warning": {
                "packages": [
                  "gensim"
                ]
              }
            }
          },
          "metadata": {}
        }
      ]
    },
    {
      "cell_type": "code",
      "metadata": {
        "id": "6SZ0zrKX8H-D"
      },
      "source": [
        "import gensim\n",
        "from sklearn.manifold import TSNE\n",
        "import matplotlib.pyplot as plt\n",
        "import pprint\n",
        "import pandas as pd\n",
        "import numpy as np\n",
        "from collections import Counter\n",
        "import plotly.express as px\n",
        "from tqdm import tqdm \n",
        "from gensim.models.doc2vec import Doc2Vec\n",
        "from gensim.models.tfidfmodel import TfidfModel\n",
        "from gensim.models.lsimodel import LsiModel\n",
        "from gensim.models import CoherenceModel\n",
        "from gensim import corpora\n",
        "from gensim import similarities\n",
        "import pickle\n",
        "import os"
      ],
      "execution_count": 380,
      "outputs": []
    },
    {
      "cell_type": "code",
      "metadata": {
        "id": "znWar-PK8KHT"
      },
      "source": [
        "import logging\n",
        "logging.basicConfig(format='%(asctime)s : %(levelname)s : %(message)s', level=logging.INFO)"
      ],
      "execution_count": 381,
      "outputs": []
    },
    {
      "cell_type": "code",
      "metadata": {
        "colab": {
          "base_uri": "https://localhost:8080/"
        },
        "id": "kjCf_Abf8MCc",
        "outputId": "dccd4f4d-f5c2-4338-8424-ffc99cb827f6"
      },
      "source": [
        "print(gensim.__version__)"
      ],
      "execution_count": 382,
      "outputs": [
        {
          "output_type": "stream",
          "name": "stdout",
          "text": [
            "4.1.2\n"
          ]
        }
      ]
    },
    {
      "cell_type": "markdown",
      "metadata": {
        "id": "gcexO7zK8Pn6"
      },
      "source": [
        "# Initialization\n",
        "\n",
        "## Download the Data"
      ]
    },
    {
      "cell_type": "markdown",
      "metadata": {
        "id": "u_RrQ2vA8Uel"
      },
      "source": [
        "### Basic Plus Chords\n",
        "M7 and 6 reduced to major triad, m7 reduced to m, dominant 7, m7b5, diminished, and all (b5) left as they are."
      ]
    },
    {
      "cell_type": "code",
      "metadata": {
        "colab": {
          "base_uri": "https://localhost:8080/"
        },
        "id": "NoAMCPT78Nc_",
        "outputId": "c84cebc3-a79b-433e-e124-1cbe130d3087"
      },
      "source": [
        "!wget --no-check-certificate 'https://docs.google.com/uc?export=download&id=17djlZRWFSUCviOxRTOF-nwbbZqU5gUP9' -O data.csv"
      ],
      "execution_count": 383,
      "outputs": [
        {
          "output_type": "stream",
          "name": "stdout",
          "text": [
            "--2021-11-20 17:42:32--  https://docs.google.com/uc?export=download&id=17djlZRWFSUCviOxRTOF-nwbbZqU5gUP9\n",
            "Resolving docs.google.com (docs.google.com)... 172.253.119.139, 172.253.119.102, 172.253.119.100, ...\n",
            "Connecting to docs.google.com (docs.google.com)|172.253.119.139|:443... connected.\n",
            "HTTP request sent, awaiting response... 302 Moved Temporarily\n",
            "Location: https://doc-0s-4c-docs.googleusercontent.com/docs/securesc/ha0ro937gcuc7l7deffksulhg5h7mbp1/u9024pkj5l78s4q96el900jnrjahf36c/1637430150000/14329102864480165501/*/17djlZRWFSUCviOxRTOF-nwbbZqU5gUP9?e=download [following]\n",
            "Warning: wildcards not supported in HTTP.\n",
            "--2021-11-20 17:42:33--  https://doc-0s-4c-docs.googleusercontent.com/docs/securesc/ha0ro937gcuc7l7deffksulhg5h7mbp1/u9024pkj5l78s4q96el900jnrjahf36c/1637430150000/14329102864480165501/*/17djlZRWFSUCviOxRTOF-nwbbZqU5gUP9?e=download\n",
            "Resolving doc-0s-4c-docs.googleusercontent.com (doc-0s-4c-docs.googleusercontent.com)... 142.251.6.132, 2607:f8b0:4001:c5a::84\n",
            "Connecting to doc-0s-4c-docs.googleusercontent.com (doc-0s-4c-docs.googleusercontent.com)|142.251.6.132|:443... connected.\n",
            "HTTP request sent, awaiting response... 200 OK\n",
            "Length: 664119 (649K) [text/csv]\n",
            "Saving to: ‘data.csv’\n",
            "\n",
            "data.csv            100%[===================>] 648.55K  --.-KB/s    in 0.006s  \n",
            "\n",
            "2021-11-20 17:42:33 (114 MB/s) - ‘data.csv’ saved [664119/664119]\n",
            "\n"
          ]
        }
      ]
    },
    {
      "cell_type": "markdown",
      "metadata": {
        "id": "Ljs21B7h8YvC"
      },
      "source": [
        "### Read Chords Input Data"
      ]
    },
    {
      "cell_type": "code",
      "metadata": {
        "colab": {
          "base_uri": "https://localhost:8080/",
          "height": 241
        },
        "id": "B7kK418L8aac",
        "outputId": "58ad422d-1371-426e-ff15-2d5418e7e875"
      },
      "source": [
        "path_to_file = '/content/data.csv'\n",
        "df = pd.read_csv(path_to_file, sep='\\t', index_col=\"id\")\n",
        "df = df.reset_index()\n",
        "df.head(5)"
      ],
      "execution_count": 384,
      "outputs": [
        {
          "output_type": "execute_result",
          "data": {
            "text/html": [
              "<div>\n",
              "<style scoped>\n",
              "    .dataframe tbody tr th:only-of-type {\n",
              "        vertical-align: middle;\n",
              "    }\n",
              "\n",
              "    .dataframe tbody tr th {\n",
              "        vertical-align: top;\n",
              "    }\n",
              "\n",
              "    .dataframe thead th {\n",
              "        text-align: right;\n",
              "    }\n",
              "</style>\n",
              "<table border=\"1\" class=\"dataframe\">\n",
              "  <thead>\n",
              "    <tr style=\"text-align: right;\">\n",
              "      <th></th>\n",
              "      <th>id</th>\n",
              "      <th>file_name</th>\n",
              "      <th>title</th>\n",
              "      <th>tune_mode</th>\n",
              "      <th>tune_id</th>\n",
              "      <th>section_name</th>\n",
              "      <th>section_id</th>\n",
              "      <th>chords</th>\n",
              "    </tr>\n",
              "  </thead>\n",
              "  <tbody>\n",
              "    <tr>\n",
              "      <th>0</th>\n",
              "      <td>0</td>\n",
              "      <td>dataset/jazz1350/26-2.xml</td>\n",
              "      <td>26-2</td>\n",
              "      <td>major</td>\n",
              "      <td>0</td>\n",
              "      <td>A</td>\n",
              "      <td>1</td>\n",
              "      <td>C Eb7 G# B7 E G7 Gm C7 F G#7 C# E7 Am D7 Dm G7</td>\n",
              "    </tr>\n",
              "    <tr>\n",
              "      <th>1</th>\n",
              "      <td>1</td>\n",
              "      <td>dataset/jazz1350/26-2.xml</td>\n",
              "      <td>26-2</td>\n",
              "      <td>major</td>\n",
              "      <td>0</td>\n",
              "      <td>A</td>\n",
              "      <td>2</td>\n",
              "      <td>C Eb7 G# B7 E G7 Gm C7 F Eb7 G# B7 E G7 C</td>\n",
              "    </tr>\n",
              "    <tr>\n",
              "      <th>2</th>\n",
              "      <td>2</td>\n",
              "      <td>dataset/jazz1350/26-2.xml</td>\n",
              "      <td>26-2</td>\n",
              "      <td>major</td>\n",
              "      <td>0</td>\n",
              "      <td>B</td>\n",
              "      <td>3</td>\n",
              "      <td>Gm C7 Bm E7 A C7 F Bbm Eb7 G# Dm G7</td>\n",
              "    </tr>\n",
              "    <tr>\n",
              "      <th>3</th>\n",
              "      <td>3</td>\n",
              "      <td>dataset/jazz1350/26-2.xml</td>\n",
              "      <td>26-2</td>\n",
              "      <td>major</td>\n",
              "      <td>0</td>\n",
              "      <td>A</td>\n",
              "      <td>4</td>\n",
              "      <td>C Eb7 G# B7 E G7 Gm C7 F Eb7 G# B7 E G7 C</td>\n",
              "    </tr>\n",
              "    <tr>\n",
              "      <th>4</th>\n",
              "      <td>4</td>\n",
              "      <td>dataset/jazz1350/500 Miles High.xml</td>\n",
              "      <td>500 Miles High</td>\n",
              "      <td>minor</td>\n",
              "      <td>1</td>\n",
              "      <td>NaN</td>\n",
              "      <td>0</td>\n",
              "      <td>Am Am Cm Cm Eb Eb Em7b5 A7 Dm Dm Bm7b5 Bm7b5 B...</td>\n",
              "    </tr>\n",
              "  </tbody>\n",
              "</table>\n",
              "</div>"
            ],
            "text/plain": [
              "   id  ...                                             chords\n",
              "0   0  ...     C Eb7 G# B7 E G7 Gm C7 F G#7 C# E7 Am D7 Dm G7\n",
              "1   1  ...          C Eb7 G# B7 E G7 Gm C7 F Eb7 G# B7 E G7 C\n",
              "2   2  ...                Gm C7 Bm E7 A C7 F Bbm Eb7 G# Dm G7\n",
              "3   3  ...          C Eb7 G# B7 E G7 Gm C7 F Eb7 G# B7 E G7 C\n",
              "4   4  ...  Am Am Cm Cm Eb Eb Em7b5 A7 Dm Dm Bm7b5 Bm7b5 B...\n",
              "\n",
              "[5 rows x 8 columns]"
            ]
          },
          "metadata": {},
          "execution_count": 384
        }
      ]
    },
    {
      "cell_type": "markdown",
      "metadata": {
        "id": "OsPcEFbg8gu6"
      },
      "source": [
        "### Meta Data"
      ]
    },
    {
      "cell_type": "code",
      "metadata": {
        "colab": {
          "base_uri": "https://localhost:8080/",
          "height": 363
        },
        "id": "KdS8QLnJ8bI6",
        "outputId": "1eb7748f-cff9-473f-cebe-8a589a9aec54"
      },
      "source": [
        "titles = df.loc[:, ['id', 'tune_id', 'section_id', 'section_name', 'title', 'tune_mode']]\n",
        "titles[:10]"
      ],
      "execution_count": 385,
      "outputs": [
        {
          "output_type": "execute_result",
          "data": {
            "text/html": [
              "<div>\n",
              "<style scoped>\n",
              "    .dataframe tbody tr th:only-of-type {\n",
              "        vertical-align: middle;\n",
              "    }\n",
              "\n",
              "    .dataframe tbody tr th {\n",
              "        vertical-align: top;\n",
              "    }\n",
              "\n",
              "    .dataframe thead th {\n",
              "        text-align: right;\n",
              "    }\n",
              "</style>\n",
              "<table border=\"1\" class=\"dataframe\">\n",
              "  <thead>\n",
              "    <tr style=\"text-align: right;\">\n",
              "      <th></th>\n",
              "      <th>id</th>\n",
              "      <th>tune_id</th>\n",
              "      <th>section_id</th>\n",
              "      <th>section_name</th>\n",
              "      <th>title</th>\n",
              "      <th>tune_mode</th>\n",
              "    </tr>\n",
              "  </thead>\n",
              "  <tbody>\n",
              "    <tr>\n",
              "      <th>0</th>\n",
              "      <td>0</td>\n",
              "      <td>0</td>\n",
              "      <td>1</td>\n",
              "      <td>A</td>\n",
              "      <td>26-2</td>\n",
              "      <td>major</td>\n",
              "    </tr>\n",
              "    <tr>\n",
              "      <th>1</th>\n",
              "      <td>1</td>\n",
              "      <td>0</td>\n",
              "      <td>2</td>\n",
              "      <td>A</td>\n",
              "      <td>26-2</td>\n",
              "      <td>major</td>\n",
              "    </tr>\n",
              "    <tr>\n",
              "      <th>2</th>\n",
              "      <td>2</td>\n",
              "      <td>0</td>\n",
              "      <td>3</td>\n",
              "      <td>B</td>\n",
              "      <td>26-2</td>\n",
              "      <td>major</td>\n",
              "    </tr>\n",
              "    <tr>\n",
              "      <th>3</th>\n",
              "      <td>3</td>\n",
              "      <td>0</td>\n",
              "      <td>4</td>\n",
              "      <td>A</td>\n",
              "      <td>26-2</td>\n",
              "      <td>major</td>\n",
              "    </tr>\n",
              "    <tr>\n",
              "      <th>4</th>\n",
              "      <td>4</td>\n",
              "      <td>1</td>\n",
              "      <td>0</td>\n",
              "      <td>NaN</td>\n",
              "      <td>500 Miles High</td>\n",
              "      <td>minor</td>\n",
              "    </tr>\n",
              "    <tr>\n",
              "      <th>5</th>\n",
              "      <td>5</td>\n",
              "      <td>2</td>\n",
              "      <td>0</td>\n",
              "      <td>NaN</td>\n",
              "      <td>502 Blues</td>\n",
              "      <td>minor</td>\n",
              "    </tr>\n",
              "    <tr>\n",
              "      <th>6</th>\n",
              "      <td>6</td>\n",
              "      <td>3</td>\n",
              "      <td>1</td>\n",
              "      <td>A</td>\n",
              "      <td>52nd Street Theme</td>\n",
              "      <td>major</td>\n",
              "    </tr>\n",
              "    <tr>\n",
              "      <th>7</th>\n",
              "      <td>7</td>\n",
              "      <td>3</td>\n",
              "      <td>2</td>\n",
              "      <td>A</td>\n",
              "      <td>52nd Street Theme</td>\n",
              "      <td>major</td>\n",
              "    </tr>\n",
              "    <tr>\n",
              "      <th>8</th>\n",
              "      <td>8</td>\n",
              "      <td>3</td>\n",
              "      <td>3</td>\n",
              "      <td>B</td>\n",
              "      <td>52nd Street Theme</td>\n",
              "      <td>major</td>\n",
              "    </tr>\n",
              "    <tr>\n",
              "      <th>9</th>\n",
              "      <td>9</td>\n",
              "      <td>3</td>\n",
              "      <td>4</td>\n",
              "      <td>A</td>\n",
              "      <td>52nd Street Theme</td>\n",
              "      <td>major</td>\n",
              "    </tr>\n",
              "  </tbody>\n",
              "</table>\n",
              "</div>"
            ],
            "text/plain": [
              "   id  tune_id  section_id section_name              title tune_mode\n",
              "0   0        0           1            A               26-2     major\n",
              "1   1        0           2            A               26-2     major\n",
              "2   2        0           3            B               26-2     major\n",
              "3   3        0           4            A               26-2     major\n",
              "4   4        1           0          NaN     500 Miles High     minor\n",
              "5   5        2           0          NaN          502 Blues     minor\n",
              "6   6        3           1            A  52nd Street Theme     major\n",
              "7   7        3           2            A  52nd Street Theme     major\n",
              "8   8        3           3            B  52nd Street Theme     major\n",
              "9   9        3           4            A  52nd Street Theme     major"
            ]
          },
          "metadata": {},
          "execution_count": 385
        }
      ]
    },
    {
      "cell_type": "code",
      "metadata": {
        "id": "0vEOjvwt8jUu"
      },
      "source": [
        "titles_dict = titles.to_dict()\n",
        "\n",
        "sectionid_to_title = titles_dict['title']\n",
        "sectionid_to_titleid = titles_dict['tune_id']\n"
      ],
      "execution_count": 386,
      "outputs": []
    },
    {
      "cell_type": "code",
      "metadata": {
        "id": "Om7pbfnNGO_I"
      },
      "source": [
        "tunes = df.loc[:, ['tune_id', 'title']].drop_duplicates()\n",
        "tunes = tunes.set_index('tune_id').to_dict()\n",
        "titleid_to_title = tunes['title']"
      ],
      "execution_count": 387,
      "outputs": []
    },
    {
      "cell_type": "code",
      "metadata": {
        "id": "1H72Y3_d8uNu"
      },
      "source": [
        "titles_rows = titles.to_dict(orient='records')\n",
        "sectionid_to_section = []\n",
        "for i, row in enumerate(titles_rows):\n",
        "  name = f\"{row['title']}, section{row['section_id']} ({row['section_name']})\"\n",
        "  sectionid_to_section.append(name)\n",
        "  "
      ],
      "execution_count": 388,
      "outputs": []
    },
    {
      "cell_type": "code",
      "metadata": {
        "id": "HCeGUk818y8V"
      },
      "source": [
        "title_to_sectionid = {}\n",
        "\n",
        "for row in titles.iterrows():\n",
        "  title = row[1]['title']\n",
        "  if title not in title_to_sectionid:\n",
        "    title_to_sectionid[title] = [row[1]['id']]\n",
        "  else:\n",
        "    title_to_sectionid[title].append(row[1]['id'])"
      ],
      "execution_count": 389,
      "outputs": []
    },
    {
      "cell_type": "markdown",
      "metadata": {
        "id": "wox-dMcz84Bt"
      },
      "source": [
        "## Helpers for N-Grams"
      ]
    },
    {
      "cell_type": "code",
      "metadata": {
        "id": "2964REdr80Gd"
      },
      "source": [
        "def ngrams(tokens, n=2, sep='-'):\n",
        "    return [sep.join(ngram) for ngram in zip(*[tokens[i:] for i in range(n)])]"
      ],
      "execution_count": 390,
      "outputs": []
    },
    {
      "cell_type": "markdown",
      "metadata": {
        "id": "umfsNtAdF0jM"
      },
      "source": [
        "# Data Preparation"
      ]
    },
    {
      "cell_type": "code",
      "metadata": {
        "id": "buoyWNl0F48Y"
      },
      "source": [
        "ngrams_for_input = [2]"
      ],
      "execution_count": 391,
      "outputs": []
    },
    {
      "cell_type": "code",
      "metadata": {
        "id": "dCLwnqoVGcMw"
      },
      "source": [
        "lines = df.loc[:, 'chords'].tolist()\n",
        "data = [line.split(' ') for line in lines]"
      ],
      "execution_count": 392,
      "outputs": []
    },
    {
      "cell_type": "code",
      "metadata": {
        "colab": {
          "base_uri": "https://localhost:8080/"
        },
        "id": "g7SmApW9F3K6",
        "outputId": "f47f76ca-47fc-4f48-ee07-511b1200eb51"
      },
      "source": [
        "processed_corpus = []\n",
        "for line in data:\n",
        "  tune_n = []\n",
        "  for n in ngrams_for_input:\n",
        "    tune_n.extend(ngrams(line, n=n))\n",
        "  processed_corpus.append(tune_n)\n",
        "\n",
        "for line in processed_corpus[:5]:\n",
        "  print(line)"
      ],
      "execution_count": 393,
      "outputs": [
        {
          "output_type": "stream",
          "name": "stdout",
          "text": [
            "['C-Eb7', 'Eb7-G#', 'G#-B7', 'B7-E', 'E-G7', 'G7-Gm', 'Gm-C7', 'C7-F', 'F-G#7', 'G#7-C#', 'C#-E7', 'E7-Am', 'Am-D7', 'D7-Dm', 'Dm-G7']\n",
            "['C-Eb7', 'Eb7-G#', 'G#-B7', 'B7-E', 'E-G7', 'G7-Gm', 'Gm-C7', 'C7-F', 'F-Eb7', 'Eb7-G#', 'G#-B7', 'B7-E', 'E-G7', 'G7-C']\n",
            "['Gm-C7', 'C7-Bm', 'Bm-E7', 'E7-A', 'A-C7', 'C7-F', 'F-Bbm', 'Bbm-Eb7', 'Eb7-G#', 'G#-Dm', 'Dm-G7']\n",
            "['C-Eb7', 'Eb7-G#', 'G#-B7', 'B7-E', 'E-G7', 'G7-Gm', 'Gm-C7', 'C7-F', 'F-Eb7', 'Eb7-G#', 'G#-B7', 'B7-E', 'E-G7', 'G7-C']\n",
            "['Am-Am', 'Am-Cm', 'Cm-Cm', 'Cm-Eb', 'Eb-Eb', 'Eb-Em7b5', 'Em7b5-A7', 'A7-Dm', 'Dm-Dm', 'Dm-Bm7b5', 'Bm7b5-Bm7b5', 'Bm7b5-Bbm', 'Bbm-Bbm', 'Bbm-Fm', 'Fm-Fm', 'Fm-E7', 'E7-E7', 'E7-Fm', 'Fm-Fm', 'Fm-C#', 'C#-C#', 'C#-Fm', 'Fm-Fm', 'Fm-C#', 'C#-C#']\n"
          ]
        }
      ]
    },
    {
      "cell_type": "markdown",
      "metadata": {
        "id": "LvQ60s_owm82"
      },
      "source": [
        "## Initialization for wandb variables"
      ]
    },
    {
      "cell_type": "code",
      "metadata": {
        "id": "fw7FHHXfwagL"
      },
      "source": [
        "result = {}\n",
        "result_details = {}"
      ],
      "execution_count": 394,
      "outputs": []
    },
    {
      "cell_type": "code",
      "metadata": {
        "colab": {
          "base_uri": "https://localhost:8080/",
          "height": 55
        },
        "id": "sxdJ97gdx70_",
        "outputId": "d74fd1db-6f20-442c-ffcb-cf65b18a27f6"
      },
      "source": [
        "  wandb.init(\n",
        "      # Set entity to specify your username or team name\n",
        "      # ex: entity=\"carey\",\n",
        "      # Set the project where this run will be logged\n",
        "      project=\"jazztunes\", \n",
        "      \n",
        "      # Track hyperparameters and run metadata\n",
        "      config={\n",
        "          \"input_data\": \"https://docs.google.com/uc?export=download&id=17djlZRWFSUCviOxRTOF-nwbbZqU5gUP9\",\n",
        "          \"ngrams_input\": ngrams_for_input,\n",
        "      }\n",
        "  )"
      ],
      "execution_count": 395,
      "outputs": [
        {
          "output_type": "display_data",
          "data": {
            "text/html": [
              "\n",
              "                    Syncing run <strong><a href=\"https://wandb.ai/doris/jazztunes/runs/114c0rmk\" target=\"_blank\">zesty-plant-7</a></strong> to <a href=\"https://wandb.ai/doris/jazztunes\" target=\"_blank\">Weights & Biases</a> (<a href=\"https://docs.wandb.com/integrations/jupyter.html\" target=\"_blank\">docs</a>).<br/>\n",
              "\n",
              "                "
            ],
            "text/plain": [
              "<IPython.core.display.HTML object>"
            ]
          },
          "metadata": {}
        },
        {
          "output_type": "execute_result",
          "data": {
            "text/plain": [
              "<wandb.sdk.wandb_run.Run at 0x7f8deb319a90>"
            ],
            "text/html": [
              "<button onClick=\"this.nextSibling.style.display='block';this.style.display='none';\">Display W&B run</button><iframe src=\"https://wandb.ai/doris/jazztunes/runs/114c0rmk?jupyter=true\" style=\"border:none;width:100%;height:420px;display:none;\"></iframe>"
            ]
          },
          "metadata": {},
          "execution_count": 395
        }
      ]
    },
    {
      "cell_type": "code",
      "metadata": {
        "colab": {
          "base_uri": "https://localhost:8080/"
        },
        "id": "xHOY4TKYVN-g",
        "outputId": "b0b001ba-85ca-4bef-8caf-7d66d26898f2"
      },
      "source": [
        "artifact = wandb.Artifact('chords', type='dataset')\n",
        "artifact.add_dir('index/')\n",
        "wandb.log_artifact(artifact)"
      ],
      "execution_count": 396,
      "outputs": [
        {
          "output_type": "stream",
          "name": "stderr",
          "text": [
            "\u001b[34m\u001b[1mwandb\u001b[0m: Adding directory to artifact (./index)... Done. 0.1s\n"
          ]
        },
        {
          "output_type": "execute_result",
          "data": {
            "text/plain": [
              "<wandb.sdk.wandb_artifacts.Artifact at 0x7f8deb332f50>"
            ]
          },
          "metadata": {},
          "execution_count": 396
        }
      ]
    },
    {
      "cell_type": "code",
      "metadata": {
        "colab": {
          "base_uri": "https://localhost:8080/"
        },
        "id": "H4iw1nTeV95t",
        "outputId": "61ce0d70-dc7d-4766-e41e-50e1eae1a01b"
      },
      "source": [
        "model_artifact = wandb.Artifact(\n",
        "    \"trained-model\", \n",
        "    type=\"model\",\n",
        "    description=\"LSI model\",\n",
        "    metadata=\"\")\n",
        "\n",
        "model_artifact.add_file(\"/content/index/lsi.model\")\n",
        "wandb.log_artifact(model_artifact)"
      ],
      "execution_count": 397,
      "outputs": [
        {
          "output_type": "execute_result",
          "data": {
            "text/plain": [
              "<wandb.sdk.wandb_artifacts.Artifact at 0x7f8deb33b8d0>"
            ]
          },
          "metadata": {},
          "execution_count": 397
        }
      ]
    },
    {
      "cell_type": "markdown",
      "metadata": {
        "id": "LeRGFeTn89Uc"
      },
      "source": [
        "# TF-IDF"
      ]
    },
    {
      "cell_type": "code",
      "metadata": {
        "colab": {
          "base_uri": "https://localhost:8080/"
        },
        "id": "pBdUdBNr9Gmu",
        "outputId": "fd7ae6ec-f046-41f1-d913-0ceed0712724"
      },
      "source": [
        "dictionary = corpora.Dictionary(processed_corpus)\n",
        "bow_corpus = [dictionary.doc2bow(text) for text in processed_corpus]\n",
        "tfidf = TfidfModel(bow_corpus)"
      ],
      "execution_count": 398,
      "outputs": [
        {
          "output_type": "stream",
          "name": "stderr",
          "text": [
            "2021-11-20 17:42:38,663 : INFO : adding document #0 to Dictionary(0 unique tokens: [])\n",
            "2021-11-20 17:42:38,834 : INFO : built Dictionary(1918 unique tokens: ['Am-D7', 'B7-E', 'C#-E7', 'C-Eb7', 'C7-F']...) from 5403 documents (total 77387 corpus positions)\n",
            "2021-11-20 17:42:38,836 : INFO : Dictionary lifecycle event {'msg': \"built Dictionary(1918 unique tokens: ['Am-D7', 'B7-E', 'C#-E7', 'C-Eb7', 'C7-F']...) from 5403 documents (total 77387 corpus positions)\", 'datetime': '2021-11-20T17:42:38.836246', 'gensim': '4.1.2', 'python': '3.7.12 (default, Sep 10 2021, 00:21:48) \\n[GCC 7.5.0]', 'platform': 'Linux-5.4.104+-x86_64-with-Ubuntu-18.04-bionic', 'event': 'created'}\n",
            "2021-11-20 17:42:38,922 : INFO : collecting document frequencies\n",
            "2021-11-20 17:42:38,925 : INFO : PROGRESS: processing document #0\n",
            "2021-11-20 17:42:38,949 : INFO : TfidfModel lifecycle event {'msg': 'calculated IDF weights for 5403 documents and 1918 features (56978 matrix non-zeros)', 'datetime': '2021-11-20T17:42:38.949562', 'gensim': '4.1.2', 'python': '3.7.12 (default, Sep 10 2021, 00:21:48) \\n[GCC 7.5.0]', 'platform': 'Linux-5.4.104+-x86_64-with-Ubuntu-18.04-bionic', 'event': 'initialize'}\n"
          ]
        }
      ]
    },
    {
      "cell_type": "code",
      "metadata": {
        "id": "9NK-cuax9Kqk"
      },
      "source": [
        "# dictionary.token2id"
      ],
      "execution_count": 399,
      "outputs": []
    },
    {
      "cell_type": "code",
      "metadata": {
        "id": "til5xlce_y1m"
      },
      "source": [
        "!rm -R index\n",
        "!mkdir index"
      ],
      "execution_count": 400,
      "outputs": []
    },
    {
      "cell_type": "code",
      "metadata": {
        "colab": {
          "base_uri": "https://localhost:8080/"
        },
        "id": "tn_fz2M090IM",
        "outputId": "d0c545e6-8fc0-4153-cf95-4d5df71a4ce3"
      },
      "source": [
        "# Note: SparseMatrixSimilarity crashes due to lacking memory\n",
        "#from gensim.test.utils import get_tmpfile\n",
        "#index_tmpfile = get_tmpfile(\"index\")\n",
        "#index_tfidf = similarities.Similarity('/content/index/index_tfidf', bow_corpus, num_features=len(dictionary))\n",
        "\n",
        "index_tfidf = similarities.SparseMatrixSimilarity(tfidf[bow_corpus], num_features = len(dictionary))"
      ],
      "execution_count": 401,
      "outputs": [
        {
          "output_type": "stream",
          "name": "stderr",
          "text": [
            "2021-11-20 17:42:39,240 : INFO : creating sparse index\n",
            "2021-11-20 17:42:39,243 : INFO : creating sparse matrix from corpus\n",
            "2021-11-20 17:42:39,246 : INFO : PROGRESS: at document #0\n",
            "2021-11-20 17:42:39,743 : INFO : created <5403x1918 sparse matrix of type '<class 'numpy.float32'>'\n",
            "\twith 56978 stored elements in Compressed Sparse Row format>\n"
          ]
        }
      ]
    },
    {
      "cell_type": "code",
      "metadata": {
        "colab": {
          "base_uri": "https://localhost:8080/"
        },
        "id": "VRSUXNPTewqv",
        "outputId": "4d07c216-cf3a-406b-ffe6-9575a7a8eba9"
      },
      "source": [
        "tfidf.save('/content/index/tfidf.model')  # save model\n",
        "index_tfidf.save('/content/index/tfidf.index') #save index"
      ],
      "execution_count": 402,
      "outputs": [
        {
          "output_type": "stream",
          "name": "stderr",
          "text": [
            "2021-11-20 17:42:39,756 : INFO : TfidfModel lifecycle event {'fname_or_handle': '/content/index/tfidf.model', 'separately': 'None', 'sep_limit': 10485760, 'ignore': frozenset(), 'datetime': '2021-11-20T17:42:39.756399', 'gensim': '4.1.2', 'python': '3.7.12 (default, Sep 10 2021, 00:21:48) \\n[GCC 7.5.0]', 'platform': 'Linux-5.4.104+-x86_64-with-Ubuntu-18.04-bionic', 'event': 'saving'}\n",
            "2021-11-20 17:42:39,770 : INFO : saved /content/index/tfidf.model\n",
            "2021-11-20 17:42:39,772 : INFO : SparseMatrixSimilarity lifecycle event {'fname_or_handle': '/content/index/tfidf.index', 'separately': 'None', 'sep_limit': 10485760, 'ignore': frozenset(), 'datetime': '2021-11-20T17:42:39.772559', 'gensim': '4.1.2', 'python': '3.7.12 (default, Sep 10 2021, 00:21:48) \\n[GCC 7.5.0]', 'platform': 'Linux-5.4.104+-x86_64-with-Ubuntu-18.04-bionic', 'event': 'saving'}\n",
            "2021-11-20 17:42:39,776 : INFO : saved /content/index/tfidf.index\n"
          ]
        }
      ]
    },
    {
      "cell_type": "markdown",
      "metadata": {
        "id": "ZLK0coIu9Tv5"
      },
      "source": [
        "## Test for single tunes"
      ]
    },
    {
      "cell_type": "code",
      "metadata": {
        "id": "Fzrj1qxwDpJT"
      },
      "source": [
        "def get_sim_scores(tunes, index, model):\n",
        "\n",
        "    df_sim = pd.DataFrame(columns=['reference_title',\n",
        "                                  'similar_title',\n",
        "                                  'ref_section', \n",
        "                                  'similar_section', \n",
        "                                  'score', \n",
        "                                  ])\n",
        "\n",
        "    for tune in tunes:\n",
        "      print()\n",
        "      print(\"-\"*50)\n",
        "      for s1 in title_to_sectionid[tune]:\n",
        "      \n",
        "          query = processed_corpus[s1]\n",
        "          query_bow = dictionary.doc2bow(query)\n",
        "\n",
        "          # perform a similarity query against the corpus\n",
        "          similarities = index[model[query_bow]]\n",
        "          sims = sorted(enumerate(similarities), key=lambda item: -item[1])\n",
        "          \n",
        "          print(s1, sectionid_to_section[s1])\n",
        "          n = 0\n",
        "          for s2, s2_score in sims:\n",
        "            \n",
        "            # store the top N best results\n",
        "            if n > 40:\n",
        "                break\n",
        "            # don't count self-similarity between sections of the same tune\n",
        "            if s2 not in title_to_sectionid[tune]:\n",
        "                n += 1\n",
        "            \n",
        "                # print(f\"\\t{s2_score:.3f} {sectionid_to_section[s2]}\")\n",
        "\n",
        "                df_sim.loc[len(df_sim)] = [tune,\n",
        "                                sectionid_to_title[s2],\n",
        "                                sectionid_to_section[s1], \n",
        "                                sectionid_to_section[s2], \n",
        "                                s2_score, \n",
        "                                ]\n",
        "    return df_sim"
      ],
      "execution_count": 403,
      "outputs": []
    },
    {
      "cell_type": "code",
      "metadata": {
        "id": "DsQO6iJl9VjQ"
      },
      "source": [
        "tunes_eval_list = [\n",
        "  \"Sweet Sue, Just You\",\n",
        "  \"These Foolish Things\", \n",
        "  \"Blue Moon\",\n",
        "  \"All Of Me\",\n",
        "  \"All God's Chillun Got Rhythm\",\n",
        "  \"I Got Rhythm\",\n",
        "  \"Bye Bye Blackbird\",\n",
        "  \"Old Fashioned Love\",\n",
        "  \"Dinah\",\n",
        "  \"Honeysuckle Rose\",\n",
        "  \"Misty\",\n",
        "  \"We'll Be Together Again\",\n",
        "  \"East Of The Sun\",\n",
        "  \"Sophisticated Lady\",\n",
        "  \"Perdido\",\n",
        "]"
      ],
      "execution_count": 404,
      "outputs": []
    },
    {
      "cell_type": "code",
      "metadata": {
        "colab": {
          "base_uri": "https://localhost:8080/"
        },
        "id": "5Wz4ZQk_EKZy",
        "outputId": "dd8ab060-bc10-4716-8d92-1a7c527e5cbb"
      },
      "source": [
        "%%time\n",
        "df_sim = get_sim_scores(tunes_eval_list, index_tfidf, tfidf)"
      ],
      "execution_count": 405,
      "outputs": [
        {
          "output_type": "stream",
          "name": "stdout",
          "text": [
            "\n",
            "--------------------------------------------------\n",
            "3752 Sweet Sue, Just You, section1 (A)\n",
            "3753 Sweet Sue, Just You, section2 (A)\n",
            "3754 Sweet Sue, Just You, section3 (B)\n",
            "3755 Sweet Sue, Just You, section4 (A)\n",
            "\n",
            "--------------------------------------------------\n",
            "3866 These Foolish Things, section1 (A)\n",
            "3867 These Foolish Things, section2 (A)\n",
            "3868 These Foolish Things, section3 (B)\n",
            "3869 These Foolish Things, section4 (A)\n",
            "\n",
            "--------------------------------------------------\n",
            "496 Blue Moon, section1 (A)\n",
            "497 Blue Moon, section2 (A)\n",
            "498 Blue Moon, section3 (B)\n",
            "499 Blue Moon, section4 (A)\n",
            "\n",
            "--------------------------------------------------\n",
            "198 All Of Me, section1 (A)\n",
            "199 All Of Me, section2 (B)\n",
            "200 All Of Me, section3 (A)\n",
            "201 All Of Me, section4 (C)\n",
            "\n",
            "--------------------------------------------------\n",
            "188 All God's Chillun Got Rhythm, section1 (A)\n",
            "189 All God's Chillun Got Rhythm, section2 (B)\n",
            "190 All God's Chillun Got Rhythm, section3 (A)\n",
            "191 All God's Chillun Got Rhythm, section4 (C)\n",
            "\n",
            "--------------------------------------------------\n",
            "1647 I Got Rhythm, section1 (A)\n",
            "1648 I Got Rhythm, section2 (A)\n",
            "1649 I Got Rhythm, section3 (B)\n",
            "1650 I Got Rhythm, section4 (A)\n",
            "4821 I Got Rhythm, section1 (A)\n",
            "4822 I Got Rhythm, section2 (A)\n",
            "4823 I Got Rhythm, section3 (B)\n",
            "4824 I Got Rhythm, section4 (A)\n",
            "\n",
            "--------------------------------------------------\n",
            "653 Bye Bye Blackbird, section1 (A)\n",
            "654 Bye Bye Blackbird, section2 (B)\n",
            "4569 Bye Bye Blackbird, section1 (A)\n",
            "4570 Bye Bye Blackbird, section2 (B)\n",
            "4571 Bye Bye Blackbird, section3 (C)\n",
            "\n",
            "--------------------------------------------------\n",
            "5056 Old Fashioned Love, section0 (nan)\n",
            "\n",
            "--------------------------------------------------\n",
            "997 Dinah, section1 (A)\n",
            "998 Dinah, section2 (A)\n",
            "999 Dinah, section3 (B)\n",
            "1000 Dinah, section4 (A)\n",
            "\n",
            "--------------------------------------------------\n",
            "1538 Honeysuckle Rose, section1 (A)\n",
            "1539 Honeysuckle Rose, section2 (A)\n",
            "1540 Honeysuckle Rose, section3 (B)\n",
            "1541 Honeysuckle Rose, section4 (A)\n",
            "4793 Honeysuckle Rose, section1 (A)\n",
            "4794 Honeysuckle Rose, section2 (A)\n",
            "4795 Honeysuckle Rose, section3 (B)\n",
            "4796 Honeysuckle Rose, section4 (A)\n",
            "\n",
            "--------------------------------------------------\n",
            "2676 Misty, section1 (A)\n",
            "2677 Misty, section2 (A)\n",
            "2678 Misty, section3 (B)\n",
            "2679 Misty, section4 (A)\n",
            "\n",
            "--------------------------------------------------\n",
            "4152 We'll Be Together Again, section1 (A)\n",
            "4153 We'll Be Together Again, section2 (A)\n",
            "4154 We'll Be Together Again, section3 (B)\n",
            "4155 We'll Be Together Again, section4 (A)\n",
            "\n",
            "--------------------------------------------------\n",
            "1125 East Of The Sun, section1 (A)\n",
            "1126 East Of The Sun, section2 (B)\n",
            "1127 East Of The Sun, section3 (A)\n",
            "1128 East Of The Sun, section4 (C)\n",
            "\n",
            "--------------------------------------------------\n",
            "3584 Sophisticated Lady, section1 (A)\n",
            "3585 Sophisticated Lady, section2 (A)\n",
            "3586 Sophisticated Lady, section3 (B)\n",
            "3587 Sophisticated Lady, section4 (A)\n",
            "\n",
            "--------------------------------------------------\n",
            "3148 Perdido, section1 (A)\n",
            "3149 Perdido, section2 (A)\n",
            "3150 Perdido, section3 (B)\n",
            "3151 Perdido, section4 (A)\n",
            "CPU times: user 11.4 s, sys: 278 ms, total: 11.7 s\n",
            "Wall time: 11.5 s\n"
          ]
        }
      ]
    },
    {
      "cell_type": "code",
      "metadata": {
        "colab": {
          "base_uri": "https://localhost:8080/",
          "height": 542
        },
        "id": "yzRuIKVh9c8g",
        "outputId": "c355d673-8df7-4a55-91df-8218a530c778"
      },
      "source": [
        "import plotly.express as px\n",
        "fig = px.histogram(df_sim, x=\"score\", nbins=50)\n",
        "fig.show()"
      ],
      "execution_count": 406,
      "outputs": [
        {
          "output_type": "display_data",
          "data": {
            "text/html": [
              "<html>\n",
              "<head><meta charset=\"utf-8\" /></head>\n",
              "<body>\n",
              "    <div>\n",
              "            <script src=\"https://cdnjs.cloudflare.com/ajax/libs/mathjax/2.7.5/MathJax.js?config=TeX-AMS-MML_SVG\"></script><script type=\"text/javascript\">if (window.MathJax) {MathJax.Hub.Config({SVG: {font: \"STIX-Web\"}});}</script>\n",
              "                <script type=\"text/javascript\">window.PlotlyConfig = {MathJaxConfig: 'local'};</script>\n",
              "        <script src=\"https://cdn.plot.ly/plotly-latest.min.js\"></script>    \n",
              "            <div id=\"f6649b73-c81e-471a-ac18-63154e9e0c6c\" class=\"plotly-graph-div\" style=\"height:525px; width:100%;\"></div>\n",
              "            <script type=\"text/javascript\">\n",
              "                \n",
              "                    window.PLOTLYENV=window.PLOTLYENV || {};\n",
              "                    \n",
              "                if (document.getElementById(\"f6649b73-c81e-471a-ac18-63154e9e0c6c\")) {\n",
              "                    Plotly.newPlot(\n",
              "                        'f6649b73-c81e-471a-ac18-63154e9e0c6c',\n",
              "                        [{\"alignmentgroup\": \"True\", \"bingroup\": \"x\", \"hoverlabel\": {\"namelength\": 0}, \"hovertemplate\": \"score=%{x}<br>count=%{y}\", \"legendgroup\": \"\", \"marker\": {\"color\": \"#636efa\"}, \"name\": \"\", \"nbinsx\": 50, \"offsetgroup\": \"\", \"orientation\": \"v\", \"showlegend\": false, \"type\": \"histogram\", \"x\": [0.9687741994857788, 0.9687741994857788, 0.9347820281982422, 0.895903468132019, 0.8853514194488525, 0.8758187294006348, 0.8682504296302795, 0.8682504296302795, 0.867529571056366, 0.867529571056366, 0.867529571056366, 0.8548572659492493, 0.8548572659492493, 0.8548572659492493, 0.8495601415634155, 0.7925300598144531, 0.7833383083343506, 0.7833383083343506, 0.7701540589332581, 0.7650553584098816, 0.7650553584098816, 0.7650553584098816, 0.7650553584098816, 0.7650553584098816, 0.7650553584098816, 0.7650553584098816, 0.7650553584098816, 0.7650553584098816, 0.7650553584098816, 0.755035400390625, 0.755035400390625, 0.755035400390625, 0.7480804920196533, 0.7428507804870605, 0.7428507804870605, 0.7352498769760132, 0.7351818084716797, 0.7351818084716797, 0.7240964770317078, 0.7207936644554138, 0.7207936644554138, 0.9687741994857788, 0.9687741994857788, 0.9347820281982422, 0.895903468132019, 0.8853514194488525, 0.8758187294006348, 0.8682504296302795, 0.8682504296302795, 0.867529571056366, 0.867529571056366, 0.867529571056366, 0.8548572659492493, 0.8548572659492493, 0.8548572659492493, 0.8495601415634155, 0.7925300598144531, 0.7833383083343506, 0.7833383083343506, 0.7701540589332581, 0.7650553584098816, 0.7650553584098816, 0.7650553584098816, 0.7650553584098816, 0.7650553584098816, 0.7650553584098816, 0.7650553584098816, 0.7650553584098816, 0.7650553584098816, 0.7650553584098816, 0.755035400390625, 0.755035400390625, 0.755035400390625, 0.7480804920196533, 0.7428507804870605, 0.7428507804870605, 0.7352498769760132, 0.7351818084716797, 0.7351818084716797, 0.7240964770317078, 0.7207936644554138, 0.7207936644554138, 0.8341835141181946, 0.47112521529197693, 0.47112521529197693, 0.4487711489200592, 0.4223945736885071, 0.4223945736885071, 0.41622394323349, 0.40909773111343384, 0.40909773111343384, 0.3739522695541382, 0.37131136655807495, 0.3600083887577057, 0.3502305746078491, 0.3250426650047302, 0.3052111268043518, 0.3044492304325104, 0.3025120496749878, 0.3016468286514282, 0.2965703010559082, 0.29598209261894226, 0.29598209261894226, 0.2938045263290405, 0.2934543192386627, 0.29332560300827026, 0.29332560300827026, 0.2889668941497803, 0.28845852613449097, 0.28845852613449097, 0.28823989629745483, 0.28680965304374695, 0.2844233214855194, 0.28415849804878235, 0.2834622859954834, 0.283325731754303, 0.283325731754303, 0.27740150690078735, 0.27561506628990173, 0.2748869061470032, 0.27430352568626404, 0.2722291648387909, 0.2686363458633423, 0.9687741994857788, 0.9687741994857788, 0.9347820281982422, 0.895903468132019, 0.8853514194488525, 0.8758187294006348, 0.8682504296302795, 0.8682504296302795, 0.867529571056366, 0.867529571056366, 0.867529571056366, 0.8548572659492493, 0.8548572659492493, 0.8548572659492493, 0.8495601415634155, 0.7925300598144531, 0.7833383083343506, 0.7833383083343506, 0.7701540589332581, 0.7650553584098816, 0.7650553584098816, 0.7650553584098816, 0.7650553584098816, 0.7650553584098816, 0.7650553584098816, 0.7650553584098816, 0.7650553584098816, 0.7650553584098816, 0.7650553584098816, 0.755035400390625, 0.755035400390625, 0.755035400390625, 0.7480804920196533, 0.7428507804870605, 0.7428507804870605, 0.7352498769760132, 0.7351818084716797, 0.7351818084716797, 0.7240964770317078, 0.7207936644554138, 0.7207936644554138, 0.7435612678527832, 0.7307434678077698, 0.6922649145126343, 0.6672757863998413, 0.6632325649261475, 0.6632325649261475, 0.6557685136795044, 0.6478621959686279, 0.6478621959686279, 0.6463475227355957, 0.6463475227355957, 0.6463475227355957, 0.638684093952179, 0.6323138475418091, 0.6273576021194458, 0.6267412900924683, 0.6241512894630432, 0.6241512894630432, 0.6163061857223511, 0.6138631105422974, 0.6132727861404419, 0.6093560457229614, 0.6083428859710693, 0.6083428859710693, 0.5992387533187866, 0.5988339781761169, 0.5934545397758484, 0.5934545397758484, 0.5909952521324158, 0.5886526107788086, 0.5886526107788086, 0.5879194736480713, 0.5819476246833801, 0.5799568891525269, 0.5795654654502869, 0.559215784072876, 0.5579001903533936, 0.5543315410614014, 0.5518409013748169, 0.5518125295639038, 0.5515267848968506, 0.7002871036529541, 0.6932725310325623, 0.6555126905441284, 0.6491353511810303, 0.621187686920166, 0.5955442190170288, 0.5940487384796143, 0.5940487384796143, 0.5855710506439209, 0.5827035903930664, 0.5826073884963989, 0.5826073884963989, 0.5826073884963989, 0.5770485401153564, 0.5770485401153564, 0.5725670456886292, 0.5725670456886292, 0.567368745803833, 0.5666796565055847, 0.5646795034408569, 0.5600090026855469, 0.559306800365448, 0.5589116811752319, 0.5562396049499512, 0.553799033164978, 0.553799033164978, 0.5462399125099182, 0.5432579517364502, 0.5367525219917297, 0.5331137776374817, 0.5323121547698975, 0.5288969278335571, 0.5288969278335571, 0.5216168165206909, 0.5167315006256104, 0.5157503485679626, 0.5082187652587891, 0.5008680820465088, 0.49656087160110474, 0.49125754833221436, 0.4879709780216217, 0.6833127737045288, 0.5185078382492065, 0.5166751146316528, 0.5066598653793335, 0.49331510066986084, 0.49331510066986084, 0.43310171365737915, 0.40612080693244934, 0.37232011556625366, 0.36633598804473877, 0.3318771719932556, 0.32357120513916016, 0.32320481538772583, 0.3169400691986084, 0.3166760802268982, 0.3088003098964691, 0.30707284808158875, 0.3016144037246704, 0.29669368267059326, 0.2921012043952942, 0.2921012043952942, 0.2921012043952942, 0.29146915674209595, 0.2722530663013458, 0.2697632908821106, 0.26869863271713257, 0.26292234659194946, 0.2627582848072052, 0.26247572898864746, 0.26243531703948975, 0.26243531703948975, 0.2594921588897705, 0.25751617550849915, 0.24649496376514435, 0.24360448122024536, 0.2435581088066101, 0.24345025420188904, 0.23273833096027374, 0.23076188564300537, 0.2306899130344391, 0.23020139336585999, 0.7678280472755432, 0.7280186414718628, 0.6903496384620667, 0.6903496384620667, 0.687293291091919, 0.6669537425041199, 0.6669537425041199, 0.6649309396743774, 0.6528390049934387, 0.6502430438995361, 0.6502430438995361, 0.6502430438995361, 0.6480451822280884, 0.6480451822280884, 0.6468368172645569, 0.6338422894477844, 0.6328000426292419, 0.6290857195854187, 0.6254973411560059, 0.6244285702705383, 0.6239880323410034, 0.6223350763320923, 0.6200933456420898, 0.6200933456420898, 0.6168419718742371, 0.6160833835601807, 0.6134459972381592, 0.6105931997299194, 0.6060832142829895, 0.5991921424865723, 0.594129204750061, 0.5935515761375427, 0.5905510187149048, 0.5905510187149048, 0.5822956562042236, 0.5764081478118896, 0.5739443302154541, 0.5602002143859863, 0.5583115816116333, 0.5548937916755676, 0.5513534545898438, 0.814895510673523, 0.7777798175811768, 0.7709975838661194, 0.7709975838661194, 0.7560039758682251, 0.7560039758682251, 0.7560039758682251, 0.7516390681266785, 0.7516390681266785, 0.7321289777755737, 0.7247192859649658, 0.7247192859649658, 0.7115089893341064, 0.7084399461746216, 0.7084399461746216, 0.7063007950782776, 0.6995710730552673, 0.6990492343902588, 0.6913860440254211, 0.6913860440254211, 0.6882379055023193, 0.6804150342941284, 0.6794973611831665, 0.6793369054794312, 0.6709880232810974, 0.6653035879135132, 0.6575092077255249, 0.6512651443481445, 0.6479816436767578, 0.6468454599380493, 0.6379498243331909, 0.6323995590209961, 0.6255020499229431, 0.6240605115890503, 0.622991681098938, 0.6167267560958862, 0.610459566116333, 0.6087133288383484, 0.6084393858909607, 0.606764018535614, 0.5862712860107422, 0.7187828421592712, 0.651243269443512, 0.6438340544700623, 0.6270718574523926, 0.5317153930664062, 0.5303801894187927, 0.5303801894187927, 0.5277413129806519, 0.5277413129806519, 0.5218744277954102, 0.5201650857925415, 0.5201650857925415, 0.5201650857925415, 0.5152020454406738, 0.5152020454406738, 0.4999888241291046, 0.4976332485675812, 0.4944443702697754, 0.4944443702697754, 0.4889397919178009, 0.4876953959465027, 0.48663294315338135, 0.48663294315338135, 0.4863974452018738, 0.48624467849731445, 0.48285001516342163, 0.47922483086586, 0.47780150175094604, 0.47678670287132263, 0.4727559983730316, 0.4657113254070282, 0.4641075134277344, 0.46409136056900024, 0.4610024392604828, 0.45531588792800903, 0.45531588792800903, 0.4538743495941162, 0.45322075486183167, 0.4497476816177368, 0.4464670717716217, 0.4440882205963135, 0.5110142827033997, 0.3444039821624756, 0.3444039821624756, 0.3444039821624756, 0.30506667494773865, 0.30506667494773865, 0.30506667494773865, 0.2745336890220642, 0.2745336890220642, 0.2709687352180481, 0.2655826508998871, 0.2653172016143799, 0.26445257663726807, 0.26445257663726807, 0.26368042826652527, 0.26368042826652527, 0.26368042826652527, 0.25712889432907104, 0.2544358968734741, 0.2537102699279785, 0.25188809633255005, 0.25033342838287354, 0.24876393377780914, 0.24876393377780914, 0.24799010157585144, 0.24799010157585144, 0.2448006570339203, 0.2448006570339203, 0.2448006570339203, 0.2447718232870102, 0.2416701316833496, 0.24093420803546906, 0.24077309668064117, 0.23973515629768372, 0.2392951101064682, 0.23786117136478424, 0.2372817099094391, 0.23717746138572693, 0.23507820069789886, 0.23507820069789886, 0.2339835911989212, 0.814895510673523, 0.7777798175811768, 0.7709975838661194, 0.7709975838661194, 0.7560039758682251, 0.7560039758682251, 0.7560039758682251, 0.7516390681266785, 0.7516390681266785, 0.7321289777755737, 0.7247192859649658, 0.7247192859649658, 0.7115089893341064, 0.7084399461746216, 0.7084399461746216, 0.7063007950782776, 0.6995710730552673, 0.6990492343902588, 0.6913860440254211, 0.6913860440254211, 0.6882379055023193, 0.6804150342941284, 0.6794973611831665, 0.6793369054794312, 0.6709880232810974, 0.6653035879135132, 0.6575092077255249, 0.6512651443481445, 0.6479816436767578, 0.6468454599380493, 0.6379498243331909, 0.6323995590209961, 0.6255020499229431, 0.6240605115890503, 0.622991681098938, 0.6167267560958862, 0.610459566116333, 0.6087133288383484, 0.6084393858909607, 0.606764018535614, 0.5862712860107422, 0.7866960763931274, 0.78432297706604, 0.7301554679870605, 0.686360776424408, 0.686360776424408, 0.686360776424408, 0.6755934357643127, 0.6731374263763428, 0.6725394129753113, 0.6725394129753113, 0.656042754650116, 0.620644211769104, 0.6188488602638245, 0.6065849661827087, 0.5996412634849548, 0.5996412634849548, 0.5996412634849548, 0.5996412634849548, 0.5996412634849548, 0.5996412634849548, 0.5996412634849548, 0.5996412634849548, 0.5996412634849548, 0.5996412634849548, 0.5996412634849548, 0.5996412634849548, 0.5996412634849548, 0.5996412634849548, 0.5996412634849548, 0.5996412634849548, 0.5996412634849548, 0.5996412634849548, 0.5996412634849548, 0.5996412634849548, 0.5996412634849548, 0.5996412634849548, 0.5996412634849548, 0.5996412634849548, 0.5868622660636902, 0.5868622660636902, 0.5862764120101929, 0.8631930351257324, 0.8151300549507141, 0.8151300549507141, 0.8151300549507141, 0.7191265225410461, 0.7036742568016052, 0.6850112676620483, 0.6346143484115601, 0.6172488331794739, 0.6172488331794739, 0.6054146885871887, 0.5724553465843201, 0.5682849884033203, 0.5657147169113159, 0.5521884560585022, 0.5521884560585022, 0.5414260029792786, 0.5375818610191345, 0.5357599854469299, 0.5301401019096375, 0.5195940136909485, 0.5159533023834229, 0.5120609998703003, 0.5120609998703003, 0.5051447749137878, 0.5038397312164307, 0.5004896521568298, 0.49590790271759033, 0.4954836368560791, 0.4917290210723877, 0.4869239330291748, 0.4869239330291748, 0.4860112965106964, 0.4852622151374817, 0.48419898748397827, 0.4768422544002533, 0.47527891397476196, 0.47408467531204224, 0.47250378131866455, 0.47250378131866455, 0.4596376121044159, 0.7866960763931274, 0.78432297706604, 0.7301554679870605, 0.686360776424408, 0.686360776424408, 0.686360776424408, 0.6755934357643127, 0.6731374263763428, 0.6725394129753113, 0.6725394129753113, 0.656042754650116, 0.620644211769104, 0.6188488602638245, 0.6065849661827087, 0.5996412634849548, 0.5996412634849548, 0.5996412634849548, 0.5996412634849548, 0.5996412634849548, 0.5996412634849548, 0.5996412634849548, 0.5996412634849548, 0.5996412634849548, 0.5996412634849548, 0.5996412634849548, 0.5996412634849548, 0.5996412634849548, 0.5996412634849548, 0.5996412634849548, 0.5996412634849548, 0.5996412634849548, 0.5996412634849548, 0.5996412634849548, 0.5996412634849548, 0.5996412634849548, 0.5996412634849548, 0.5996412634849548, 0.5996412634849548, 0.5868622660636902, 0.5868622660636902, 0.5862764120101929, 0.711015522480011, 0.6783948540687561, 0.6783948540687561, 0.6532198786735535, 0.6532198786735535, 0.6295267343521118, 0.6052882671356201, 0.594469428062439, 0.5858005285263062, 0.5856376886367798, 0.5847427248954773, 0.5807451009750366, 0.5731098651885986, 0.5614323019981384, 0.5554783940315247, 0.5546408891677856, 0.5546408891677856, 0.5432971715927124, 0.5432971715927124, 0.5421079397201538, 0.5371723771095276, 0.5359922051429749, 0.5319105982780457, 0.5213228464126587, 0.516139805316925, 0.516139805316925, 0.5114641189575195, 0.5114641189575195, 0.5114641189575195, 0.5090115070343018, 0.49996984004974365, 0.49996984004974365, 0.4878188371658325, 0.4861849546432495, 0.4845036268234253, 0.48178011178970337, 0.47400224208831787, 0.4728313088417053, 0.4713031053543091, 0.47097063064575195, 0.4650173485279083, 0.9053271412849426, 0.9053271412849426, 0.8523851037025452, 0.8212028741836548, 0.805368185043335, 0.7888438701629639, 0.7513763904571533, 0.7513763904571533, 0.7459414601325989, 0.7310147881507874, 0.7288945317268372, 0.7288945317268372, 0.7265852689743042, 0.7265852689743042, 0.7208646535873413, 0.7080874443054199, 0.7080874443054199, 0.7080874443054199, 0.7070814371109009, 0.7024475336074829, 0.6834548711776733, 0.672605574131012, 0.6718533635139465, 0.6694458723068237, 0.6664525270462036, 0.6664525270462036, 0.663833498954773, 0.6578387022018433, 0.6560353636741638, 0.6554432511329651, 0.6474478244781494, 0.6464058756828308, 0.6389626264572144, 0.6375359892845154, 0.6318248510360718, 0.6301987767219543, 0.6265350580215454, 0.6255674362182617, 0.6254059076309204, 0.6249617338180542, 0.623088002204895, 0.6247413158416748, 0.6013679504394531, 0.593253493309021, 0.5554438829421997, 0.540153443813324, 0.5361332893371582, 0.5329116582870483, 0.5304755568504333, 0.5255120992660522, 0.5184123516082764, 0.508578896522522, 0.5044257044792175, 0.5037780404090881, 0.5029933452606201, 0.49068769812583923, 0.4875395894050598, 0.4875395894050598, 0.4850158989429474, 0.48444250226020813, 0.4839038848876953, 0.47630542516708374, 0.4748193025588989, 0.4748193025588989, 0.4699955880641937, 0.46565577387809753, 0.4651472568511963, 0.4649542570114136, 0.46072331070899963, 0.4558843970298767, 0.4552594721317291, 0.45364102721214294, 0.45234671235084534, 0.4500735402107239, 0.4499935209751129, 0.4438648819923401, 0.4438648819923401, 0.44265225529670715, 0.4322664737701416, 0.43202078342437744, 0.4309726357460022, 0.4309726357460022, 0.9053271412849426, 0.9053271412849426, 0.8523851037025452, 0.8212028741836548, 0.805368185043335, 0.7888438701629639, 0.7513763904571533, 0.7513763904571533, 0.7459414601325989, 0.7310147881507874, 0.7288945317268372, 0.7288945317268372, 0.7265852689743042, 0.7265852689743042, 0.7208646535873413, 0.7080874443054199, 0.7080874443054199, 0.7080874443054199, 0.7070814371109009, 0.7024475336074829, 0.6834548711776733, 0.672605574131012, 0.6718533635139465, 0.6694458723068237, 0.6664525270462036, 0.6664525270462036, 0.663833498954773, 0.6578387022018433, 0.6560353636741638, 0.6554432511329651, 0.6474478244781494, 0.6464058756828308, 0.6389626264572144, 0.6375359892845154, 0.6318248510360718, 0.6301987767219543, 0.6265350580215454, 0.6255674362182617, 0.6254059076309204, 0.6249617338180542, 0.623088002204895, 0.8433142900466919, 0.7834488153457642, 0.7401492595672607, 0.6850106716156006, 0.6807146072387695, 0.6306613683700562, 0.6294316649436951, 0.6113819479942322, 0.576034426689148, 0.575589120388031, 0.5655195116996765, 0.5451862812042236, 0.5451532006263733, 0.5060468316078186, 0.5049525499343872, 0.4901219606399536, 0.48997366428375244, 0.48990029096603394, 0.48139023780822754, 0.47591227293014526, 0.47535645961761475, 0.47233396768569946, 0.4698702096939087, 0.4659513831138611, 0.45805543661117554, 0.4580519497394562, 0.4278891086578369, 0.4275646507740021, 0.4256543219089508, 0.42453691363334656, 0.42356544733047485, 0.42356544733047485, 0.42125269770622253, 0.42105787992477417, 0.41977131366729736, 0.4171046018600464, 0.4166216254234314, 0.41181719303131104, 0.410788893699646, 0.410788893699646, 0.4066254198551178, 0.6358855366706848, 0.5762847661972046, 0.5706254839897156, 0.5583388805389404, 0.5583388805389404, 0.5542510747909546, 0.5542510747909546, 0.5242700576782227, 0.5228464007377625, 0.5110359787940979, 0.5110359787940979, 0.5095860362052917, 0.5087244510650635, 0.5035786032676697, 0.5035786032676697, 0.5035786032676697, 0.4950261116027832, 0.4923081398010254, 0.48944056034088135, 0.479423463344574, 0.47063174843788147, 0.4705171585083008, 0.46644267439842224, 0.46643131971359253, 0.4654839038848877, 0.46045559644699097, 0.4574227035045624, 0.4574227035045624, 0.45735347270965576, 0.45735347270965576, 0.4571341276168823, 0.4571341276168823, 0.4530350863933563, 0.4486866593360901, 0.4452321529388428, 0.44354480504989624, 0.4419471025466919, 0.4408855438232422, 0.43957430124282837, 0.43824583292007446, 0.43824583292007446, 0.6259801387786865, 0.6032015085220337, 0.5858922004699707, 0.5858922004699707, 0.5541996955871582, 0.5526947975158691, 0.5402101278305054, 0.5402101278305054, 0.5377666354179382, 0.5232862830162048, 0.5204131007194519, 0.5173818469047546, 0.5085582733154297, 0.5067929029464722, 0.4974992871284485, 0.4973781704902649, 0.4953480660915375, 0.49340683221817017, 0.49340683221817017, 0.4930710792541504, 0.49205756187438965, 0.49199143052101135, 0.49199143052101135, 0.49199143052101135, 0.48674216866493225, 0.4832311272621155, 0.4832311272621155, 0.47430139780044556, 0.4706496596336365, 0.4688659906387329, 0.4671770930290222, 0.46466881036758423, 0.46326449513435364, 0.46326449513435364, 0.4625723361968994, 0.4625723361968994, 0.45650917291641235, 0.45650917291641235, 0.45650917291641235, 0.4556957483291626, 0.4544765055179596, 1.0, 1.0, 1.0, 1.0, 1.0, 1.0, 1.0, 1.0, 1.0, 1.0, 1.0, 1.0, 1.0, 1.0, 1.0, 1.0, 1.0, 1.0, 1.0, 1.0, 1.0, 1.0, 0.9112427234649658, 0.9032801985740662, 0.9032801985740662, 0.8539888858795166, 0.8391876220703125, 0.798491358757019, 0.7692317962646484, 0.7560149431228638, 0.7560149431228638, 0.7512326240539551, 0.7249768972396851, 0.6993587017059326, 0.6793212294578552, 0.6783581972122192, 0.6705713272094727, 0.6705713272094727, 0.6673831343650818, 0.6653451919555664, 0.6557391881942749, 0.5984992384910583, 0.5857508182525635, 0.5692225098609924, 0.5692225098609924, 0.548523485660553, 0.545130729675293, 0.5240092277526855, 0.5200105905532837, 0.5200105905532837, 0.5192115902900696, 0.5192115902900696, 0.5071725249290466, 0.5015034079551697, 0.5001437664031982, 0.49623870849609375, 0.4927959740161896, 0.4918556213378906, 0.49079662561416626, 0.4896192252635956, 0.4860440492630005, 0.4860440492630005, 0.4860440492630005, 0.4846990704536438, 0.4846990704536438, 0.4832642078399658, 0.4815762937068939, 0.478525310754776, 0.4771319031715393, 0.4771319031715393, 0.47491127252578735, 0.47491127252578735, 0.4612441062927246, 0.4601019620895386, 0.4583074450492859, 0.45808207988739014, 0.4561784863471985, 0.45491042733192444, 0.45209577679634094, 0.45184314250946045, 0.4505457878112793, 0.4491015672683716, 0.6358855366706848, 0.5762847661972046, 0.5706254839897156, 0.5583388805389404, 0.5583388805389404, 0.5542510747909546, 0.5542510747909546, 0.5242700576782227, 0.5228464007377625, 0.5110359787940979, 0.5110359787940979, 0.5095860362052917, 0.5087244510650635, 0.5035786032676697, 0.5035786032676697, 0.5035786032676697, 0.4950261116027832, 0.4923081398010254, 0.48944056034088135, 0.479423463344574, 0.47063174843788147, 0.4705171585083008, 0.46644267439842224, 0.46643131971359253, 0.4654839038848877, 0.46045559644699097, 0.4574227035045624, 0.4574227035045624, 0.45735347270965576, 0.45735347270965576, 0.4571341276168823, 0.4571341276168823, 0.4530350863933563, 0.4486866593360901, 0.4452321529388428, 0.44354480504989624, 0.4419471025466919, 0.4408855438232422, 0.43957430124282837, 0.43824583292007446, 0.43824583292007446, 0.6259801387786865, 0.6032015085220337, 0.5858922004699707, 0.5858922004699707, 0.5541996955871582, 0.5526947975158691, 0.5402101278305054, 0.5402101278305054, 0.5377666354179382, 0.5232862830162048, 0.5204131007194519, 0.5173818469047546, 0.5085582733154297, 0.5067929029464722, 0.4974992871284485, 0.4973781704902649, 0.4953480660915375, 0.49340683221817017, 0.49340683221817017, 0.4930710792541504, 0.49205756187438965, 0.49199143052101135, 0.49199143052101135, 0.49199143052101135, 0.48674216866493225, 0.4832311272621155, 0.4832311272621155, 0.47430139780044556, 0.4706496596336365, 0.4688659906387329, 0.4671770930290222, 0.46466881036758423, 0.46326449513435364, 0.46326449513435364, 0.4625723361968994, 0.4625723361968994, 0.45650917291641235, 0.45650917291641235, 0.45650917291641235, 0.4556957483291626, 0.4544765055179596, 1.0, 1.0, 1.0, 1.0, 1.0, 1.0, 1.0, 1.0, 1.0, 1.0, 1.0, 1.0, 1.0, 1.0, 1.0, 1.0, 1.0, 1.0, 1.0, 1.0, 1.0, 1.0, 0.9112427234649658, 0.9032801985740662, 0.9032801985740662, 0.8539888858795166, 0.8391876220703125, 0.798491358757019, 0.7692317962646484, 0.7560149431228638, 0.7560149431228638, 0.7512326240539551, 0.7249768972396851, 0.6993587017059326, 0.6793212294578552, 0.6783581972122192, 0.6705713272094727, 0.6705713272094727, 0.6673831343650818, 0.6653451919555664, 0.6557391881942749, 0.5984992384910583, 0.5857508182525635, 0.5692225098609924, 0.5692225098609924, 0.548523485660553, 0.545130729675293, 0.5240092277526855, 0.5200105905532837, 0.5200105905532837, 0.5192115902900696, 0.5192115902900696, 0.5071725249290466, 0.5015034079551697, 0.5001437664031982, 0.49623870849609375, 0.4927959740161896, 0.4918556213378906, 0.49079662561416626, 0.4896192252635956, 0.4860440492630005, 0.4860440492630005, 0.4860440492630005, 0.4846990704536438, 0.4846990704536438, 0.4832642078399658, 0.4815762937068939, 0.478525310754776, 0.4771319031715393, 0.4771319031715393, 0.47491127252578735, 0.47491127252578735, 0.4612441062927246, 0.4601019620895386, 0.4583074450492859, 0.45808207988739014, 0.4561784863471985, 0.45491042733192444, 0.45209577679634094, 0.45184314250946045, 0.4505457878112793, 0.4491015672683716, 0.7303915023803711, 0.7239495515823364, 0.7239495515823364, 0.7180448174476624, 0.7128770351409912, 0.7128770351409912, 0.7128770351409912, 0.7123414278030396, 0.6953161358833313, 0.6951512098312378, 0.6951512098312378, 0.6830883026123047, 0.6713324785232544, 0.6443511247634888, 0.6371053457260132, 0.634630560874939, 0.6091394424438477, 0.6091394424438477, 0.6045073866844177, 0.6045073866844177, 0.6045073866844177, 0.6043225526809692, 0.6043225526809692, 0.6043225526809692, 0.6019272208213806, 0.5992388129234314, 0.5911842584609985, 0.5863914489746094, 0.5689307451248169, 0.5628257989883423, 0.5628257989883423, 0.5621858835220337, 0.5607925653457642, 0.5598522424697876, 0.5596460700035095, 0.5576330423355103, 0.5576330423355103, 0.5561192035675049, 0.5522312521934509, 0.5509656071662903, 0.5494036078453064, 0.6085758209228516, 0.6085758209228516, 0.584174633026123, 0.515171229839325, 0.5026665925979614, 0.4902796745300293, 0.4859183132648468, 0.4784772992134094, 0.47589927911758423, 0.4751157760620117, 0.46856483817100525, 0.46856483817100525, 0.4642885625362396, 0.45385807752609253, 0.45062828063964844, 0.4457429349422455, 0.4401216506958008, 0.4394463300704956, 0.4379958510398865, 0.4379958510398865, 0.43566030263900757, 0.428707480430603, 0.4211174249649048, 0.4204314947128296, 0.4143806993961334, 0.4048439860343933, 0.4048439860343933, 0.3968774080276489, 0.3939815163612366, 0.3939815163612366, 0.3939815163612366, 0.3927561640739441, 0.3927476406097412, 0.39046183228492737, 0.38836434483528137, 0.38646578788757324, 0.3852575123310089, 0.38407111167907715, 0.37328219413757324, 0.36934274435043335, 0.3645211458206177, 0.8650396466255188, 0.8578159809112549, 0.8408434391021729, 0.8408434391021729, 0.832281231880188, 0.832281231880188, 0.8245469331741333, 0.780504047870636, 0.7624390721321106, 0.7616309523582458, 0.7148614525794983, 0.7148614525794983, 0.7148614525794983, 0.7075668573379517, 0.697603166103363, 0.6788545250892639, 0.6710120439529419, 0.670305609703064, 0.6697251200675964, 0.6689062118530273, 0.6682524085044861, 0.6477113366127014, 0.6477113366127014, 0.6477113366127014, 0.6354452967643738, 0.6347432136535645, 0.63096022605896, 0.6220869421958923, 0.6207327246665955, 0.6062778830528259, 0.605254590511322, 0.6038363575935364, 0.6010291576385498, 0.5969607830047607, 0.589002788066864, 0.5860267281532288, 0.5837141275405884, 0.5821311473846436, 0.5476468205451965, 0.5451847910881042, 0.5451847910881042, 0.6349137425422668, 0.5739696025848389, 0.5739696025848389, 0.5688180923461914, 0.5688180923461914, 0.49788811802864075, 0.4487711489200592, 0.4275815784931183, 0.4167228639125824, 0.41442781686782837, 0.3969561457633972, 0.38194987177848816, 0.38141950964927673, 0.38141950964927673, 0.3779633343219757, 0.3758474588394165, 0.3512287735939026, 0.3382774889469147, 0.3382774889469147, 0.33104464411735535, 0.3298781216144562, 0.3298781216144562, 0.3224033713340759, 0.3207274079322815, 0.3146775960922241, 0.3146775960922241, 0.3146775960922241, 0.3146775960922241, 0.3146775960922241, 0.3146775960922241, 0.3146775960922241, 0.3146775960922241, 0.3146775960922241, 0.3146775960922241, 0.3146775960922241, 0.3146775960922241, 0.3146775960922241, 0.3146775960922241, 0.3146775960922241, 0.3146775960922241, 0.3146775960922241, 0.7471625804901123, 0.6254370808601379, 0.6063241958618164, 0.5790421962738037, 0.5790421962738037, 0.5790352821350098, 0.577390193939209, 0.5738452076911926, 0.5738452076911926, 0.560970664024353, 0.5376648306846619, 0.5155141353607178, 0.5155141353607178, 0.5040034055709839, 0.48819369077682495, 0.4801786243915558, 0.4773503839969635, 0.4677538275718689, 0.4677538275718689, 0.4634143114089966, 0.4277375638484955, 0.4159093201160431, 0.4137100279331207, 0.40676385164260864, 0.40676385164260864, 0.39896270632743835, 0.39896270632743835, 0.39896270632743835, 0.39896270632743835, 0.39896270632743835, 0.39896270632743835, 0.39896270632743835, 0.39896270632743835, 0.39896270632743835, 0.39896270632743835, 0.3896757662296295, 0.3862321674823761, 0.3862321674823761, 0.3859008848667145, 0.3859008848667145, 0.383023738861084, 0.7704949378967285, 0.6869550943374634, 0.6827873587608337, 0.6738343834877014, 0.6573324203491211, 0.6573324203491211, 0.6483020186424255, 0.6466876268386841, 0.6348039507865906, 0.6226246953010559, 0.6214050054550171, 0.6214050054550171, 0.6194355487823486, 0.618562638759613, 0.6160601377487183, 0.6025300621986389, 0.5969923138618469, 0.5969923138618469, 0.5868949294090271, 0.5868949294090271, 0.5825850963592529, 0.5825850963592529, 0.581417441368103, 0.5799274444580078, 0.5799274444580078, 0.5776702761650085, 0.5769767761230469, 0.575416088104248, 0.574666440486908, 0.5715749263763428, 0.5715749263763428, 0.564717710018158, 0.5646188259124756, 0.562780499458313, 0.5626335740089417, 0.5626335740089417, 0.5578965544700623, 0.5577563047409058, 0.5567339658737183, 0.5523855090141296, 0.5481065511703491, 0.8887776732444763, 0.7565573453903198, 0.7565573453903198, 0.7542628049850464, 0.7376015186309814, 0.7376015186309814, 0.7376015186309814, 0.7351083755493164, 0.7351083755493164, 0.71360182762146, 0.7034013271331787, 0.7034013271331787, 0.6969244480133057, 0.6924825310707092, 0.6924825310707092, 0.6849450469017029, 0.6796920299530029, 0.67782062292099, 0.6727355718612671, 0.6698901057243347, 0.6698901057243347, 0.6605256199836731, 0.6603068709373474, 0.658371090888977, 0.6513001918792725, 0.6490325331687927, 0.6373288631439209, 0.6355313062667847, 0.6332312226295471, 0.6254264116287231, 0.6240081787109375, 0.6218060255050659, 0.6134527921676636, 0.6089361310005188, 0.6075806021690369, 0.6027897596359253, 0.6027897596359253, 0.6008936166763306, 0.5987191796302795, 0.5949039459228516, 0.5942920446395874, 0.7537903189659119, 0.7518974542617798, 0.7518974542617798, 0.7374160289764404, 0.7374160289764404, 0.7374160289764404, 0.7303800582885742, 0.7303800582885742, 0.7088128328323364, 0.7009527683258057, 0.7009527683258057, 0.6930165886878967, 0.69138503074646, 0.6898788213729858, 0.6898788213729858, 0.6845159530639648, 0.6793767213821411, 0.6773589253425598, 0.6702060699462891, 0.6694337725639343, 0.6694337725639343, 0.6602191925048828, 0.657922625541687, 0.6535435914993286, 0.6495636701583862, 0.6495636701583862, 0.643438458442688, 0.6375882029533386, 0.6329374313354492, 0.6295650005340576, 0.6261833310127258, 0.6254127621650696, 0.6176331043243408, 0.6143406629562378, 0.6090623140335083, 0.6066640615463257, 0.6064651012420654, 0.5994638800621033, 0.5976560115814209, 0.5976560115814209, 0.5948163866996765, 0.8188892602920532, 0.7492474913597107, 0.7492474913597107, 0.7492474913597107, 0.7492474913597107, 0.7492474913597107, 0.7492474913597107, 0.7492474913597107, 0.7489181756973267, 0.7489181756973267, 0.7489181756973267, 0.7216911315917969, 0.7021791338920593, 0.6953679323196411, 0.6698072552680969, 0.6648844480514526, 0.6524666547775269, 0.6385154724121094, 0.6328596472740173, 0.6283817291259766, 0.617933988571167, 0.6157978177070618, 0.6141182780265808, 0.6059592962265015, 0.5961049795150757, 0.5947304964065552, 0.5863859057426453, 0.5832275748252869, 0.5832275748252869, 0.5832275748252869, 0.5832275748252869, 0.5832275748252869, 0.5832275748252869, 0.5832275748252869, 0.5832275748252869, 0.5832275748252869, 0.5832275748252869, 0.5832275748252869, 0.5832275748252869, 0.5832275748252869, 0.5832275748252869, 0.8347256779670715, 0.8347256779670715, 0.8321940898895264, 0.8262914419174194, 0.8262914419174194, 0.8138113617897034, 0.8138113617897034, 0.8138113617897034, 0.8110605478286743, 0.8110605478286743, 0.7873319387435913, 0.7760775089263916, 0.7760775089263916, 0.7689313888549805, 0.7677580118179321, 0.7557142972946167, 0.7499185800552368, 0.7478537559509277, 0.7422432899475098, 0.7391038537025452, 0.7391038537025452, 0.7315505146980286, 0.7287718653678894, 0.7263946533203125, 0.7214033603668213, 0.7185932397842407, 0.7183197140693665, 0.7160912752151489, 0.7137107253074646, 0.7044225931167603, 0.7031784057617188, 0.7011950016021729, 0.6986573338508606, 0.6900461912155151, 0.688481330871582, 0.686051607131958, 0.6763663291931152, 0.6763663291931152, 0.6718520522117615, 0.6703565716743469, 0.6563700437545776, 0.8688879013061523, 0.7993376851081848, 0.7993376851081848, 0.7993376851081848, 0.7874171733856201, 0.7849569320678711, 0.7772811055183411, 0.7772811055183411, 0.7772811055183411, 0.7653331160545349, 0.757292628288269, 0.7504311800003052, 0.7445999383926392, 0.733319103717804, 0.7101036310195923, 0.7069650292396545, 0.6935089826583862, 0.6889317035675049, 0.6884689331054688, 0.6884689331054688, 0.6852160096168518, 0.684133768081665, 0.6711288690567017, 0.6669398546218872, 0.6545524001121521, 0.6545524001121521, 0.6545524001121521, 0.6545524001121521, 0.6526213884353638, 0.6526213884353638, 0.6416072249412537, 0.6385127902030945, 0.5991605520248413, 0.5925074219703674, 0.5925074219703674, 0.5831133723258972, 0.5629206895828247, 0.5629206895828247, 0.5590687394142151, 0.5580499768257141, 0.5580499768257141, 0.8739016056060791, 0.8739016056060791, 0.8739016056060791, 0.8660889863967896, 0.8660889863967896, 0.8660889863967896, 0.8581793308258057, 0.8105417490005493, 0.790526807308197, 0.7763436436653137, 0.7717214226722717, 0.770709753036499, 0.7397812604904175, 0.7220956087112427, 0.7160604596138, 0.7134993076324463, 0.7134993076324463, 0.7040347456932068, 0.7004458904266357, 0.676697850227356, 0.676697850227356, 0.676697850227356, 0.6742868423461914, 0.6742868423461914, 0.6661335229873657, 0.6661335229873657, 0.6565427780151367, 0.6565427780151367, 0.6565427780151367, 0.6560878157615662, 0.6550515294075012, 0.6446043848991394, 0.6371656656265259, 0.6371656656265259, 0.6368962526321411, 0.6264913082122803, 0.6053774356842041, 0.6014833450317383, 0.5951293706893921, 0.5941554307937622, 0.5863635540008545, 1.0, 1.0, 1.0, 1.0, 1.0, 1.0, 1.0, 1.0, 1.0, 0.9155227541923523, 0.8558973073959351, 0.8558973073959351, 0.8558973073959351, 0.8213160634040833, 0.7969061136245728, 0.7572205066680908, 0.7269374132156372, 0.719083309173584, 0.719083309173584, 0.719083309173584, 0.700941801071167, 0.677010178565979, 0.6650696992874146, 0.664374828338623, 0.6580183506011963, 0.6536365151405334, 0.6512911319732666, 0.6512911319732666, 0.6404126882553101, 0.6404126882553101, 0.6155237555503845, 0.5840123295783997, 0.5698146820068359, 0.5698146820068359, 0.5698146820068359, 0.5698146820068359, 0.5659312605857849, 0.5513801574707031, 0.5433297157287598, 0.541212797164917, 0.5405536890029907, 0.8688879013061523, 0.7993376851081848, 0.7993376851081848, 0.7993376851081848, 0.7874171733856201, 0.7849569320678711, 0.7772811055183411, 0.7772811055183411, 0.7772811055183411, 0.7653331160545349, 0.757292628288269, 0.7504311800003052, 0.7445999383926392, 0.733319103717804, 0.7101036310195923, 0.7069650292396545, 0.6935089826583862, 0.6889317035675049, 0.6884689331054688, 0.6884689331054688, 0.6852160096168518, 0.684133768081665, 0.6711288690567017, 0.6669398546218872, 0.6545524001121521, 0.6545524001121521, 0.6545524001121521, 0.6545524001121521, 0.6526213884353638, 0.6526213884353638, 0.6416072249412537, 0.6385127902030945, 0.5991605520248413, 0.5925074219703674, 0.5925074219703674, 0.5831133723258972, 0.5629206895828247, 0.5629206895828247, 0.5590687394142151, 0.5580499768257141, 0.5580499768257141, 0.8688879013061523, 0.7993376851081848, 0.7993376851081848, 0.7993376851081848, 0.7874171733856201, 0.7849569320678711, 0.7772811055183411, 0.7772811055183411, 0.7772811055183411, 0.7653331160545349, 0.757292628288269, 0.7504311800003052, 0.7445999383926392, 0.733319103717804, 0.7101036310195923, 0.7069650292396545, 0.6935089826583862, 0.6889317035675049, 0.6884689331054688, 0.6884689331054688, 0.6852160096168518, 0.684133768081665, 0.6711288690567017, 0.6669398546218872, 0.6545524001121521, 0.6545524001121521, 0.6545524001121521, 0.6545524001121521, 0.6526213884353638, 0.6526213884353638, 0.6416072249412537, 0.6385127902030945, 0.5991605520248413, 0.5925074219703674, 0.5925074219703674, 0.5831133723258972, 0.5629206895828247, 0.5629206895828247, 0.5590687394142151, 0.5580499768257141, 0.5580499768257141, 0.8739016056060791, 0.8739016056060791, 0.8739016056060791, 0.8660889863967896, 0.8660889863967896, 0.8660889863967896, 0.8581793308258057, 0.8105417490005493, 0.790526807308197, 0.7763436436653137, 0.7717214226722717, 0.770709753036499, 0.7397812604904175, 0.7220956087112427, 0.7160604596138, 0.7134993076324463, 0.7134993076324463, 0.7040347456932068, 0.7004458904266357, 0.676697850227356, 0.676697850227356, 0.676697850227356, 0.6742868423461914, 0.6742868423461914, 0.6661335229873657, 0.6661335229873657, 0.6565427780151367, 0.6565427780151367, 0.6565427780151367, 0.6560878157615662, 0.6550515294075012, 0.6446043848991394, 0.6371656656265259, 0.6371656656265259, 0.6368962526321411, 0.6264913082122803, 0.6053774356842041, 0.6014833450317383, 0.5951293706893921, 0.5941554307937622, 0.5863635540008545, 1.0, 1.0, 1.0, 1.0, 1.0, 1.0, 1.0, 1.0, 1.0, 0.9155227541923523, 0.8558973073959351, 0.8558973073959351, 0.8558973073959351, 0.8213160634040833, 0.7969061136245728, 0.7572205066680908, 0.7269374132156372, 0.719083309173584, 0.719083309173584, 0.719083309173584, 0.700941801071167, 0.677010178565979, 0.6650696992874146, 0.664374828338623, 0.6580183506011963, 0.6536365151405334, 0.6512911319732666, 0.6512911319732666, 0.6404126882553101, 0.6404126882553101, 0.6155237555503845, 0.5840123295783997, 0.5698146820068359, 0.5698146820068359, 0.5698146820068359, 0.5698146820068359, 0.5659312605857849, 0.5513801574707031, 0.5433297157287598, 0.541212797164917, 0.5405536890029907, 0.8688879013061523, 0.7993376851081848, 0.7993376851081848, 0.7993376851081848, 0.7874171733856201, 0.7849569320678711, 0.7772811055183411, 0.7772811055183411, 0.7772811055183411, 0.7653331160545349, 0.757292628288269, 0.7504311800003052, 0.7445999383926392, 0.733319103717804, 0.7101036310195923, 0.7069650292396545, 0.6935089826583862, 0.6889317035675049, 0.6884689331054688, 0.6884689331054688, 0.6852160096168518, 0.684133768081665, 0.6711288690567017, 0.6669398546218872, 0.6545524001121521, 0.6545524001121521, 0.6545524001121521, 0.6545524001121521, 0.6526213884353638, 0.6526213884353638, 0.6416072249412537, 0.6385127902030945, 0.5991605520248413, 0.5925074219703674, 0.5925074219703674, 0.5831133723258972, 0.5629206895828247, 0.5629206895828247, 0.5590687394142151, 0.5580499768257141, 0.5580499768257141, 0.7862480878829956, 0.7225171327590942, 0.7161262631416321, 0.6837217807769775, 0.6837217807769775, 0.6592608690261841, 0.6343352198600769, 0.6232119798660278, 0.6033526062965393, 0.6013227105140686, 0.594379723072052, 0.5925575494766235, 0.5838755369186401, 0.5813518166542053, 0.5773707032203674, 0.5712136626243591, 0.5690968036651611, 0.557842493057251, 0.557842493057251, 0.5546756386756897, 0.5533464550971985, 0.5500772595405579, 0.5487271547317505, 0.5484882593154907, 0.5385895371437073, 0.536769449710846, 0.536769449710846, 0.5357950925827026, 0.5318500399589539, 0.5289182066917419, 0.5255261659622192, 0.525085985660553, 0.5249165892601013, 0.5241609215736389, 0.5212411880493164, 0.5169879198074341, 0.513236403465271, 0.5117751359939575, 0.5065352916717529, 0.5065352916717529, 0.5054426789283752, 0.791391134262085, 0.7527154684066772, 0.7527154684066772, 0.6856963634490967, 0.6573647856712341, 0.6507196426391602, 0.6272958517074585, 0.6251822710037231, 0.623966634273529, 0.606692910194397, 0.606692910194397, 0.5973048210144043, 0.5960668325424194, 0.5907177329063416, 0.5907177329063416, 0.5903670787811279, 0.5896453857421875, 0.5831019878387451, 0.5830491781234741, 0.5749565362930298, 0.5601758360862732, 0.5588012337684631, 0.556857705116272, 0.5464369654655457, 0.5446315407752991, 0.5416326522827148, 0.5386419296264648, 0.5383887887001038, 0.5380722880363464, 0.5363434553146362, 0.5345667600631714, 0.5342833995819092, 0.5316001176834106, 0.5301119685173035, 0.5299230217933655, 0.5299230217933655, 0.5199284553527832, 0.5163812041282654, 0.5147688984870911, 0.5139060020446777, 0.5129244923591614, 0.3932720124721527, 0.3261730968952179, 0.3233063817024231, 0.31743335723876953, 0.314350426197052, 0.27370673418045044, 0.24955779314041138, 0.2474416196346283, 0.2273138165473938, 0.21161024272441864, 0.20707550644874573, 0.20707550644874573, 0.19557712972164154, 0.19506335258483887, 0.19151553511619568, 0.18615135550498962, 0.1792040467262268, 0.1792040467262268, 0.17612223327159882, 0.17227540910243988, 0.16820013523101807, 0.1669926643371582, 0.16377048194408417, 0.16361960768699646, 0.16238956153392792, 0.15903104841709137, 0.15621764957904816, 0.15439805388450623, 0.15383441746234894, 0.15261340141296387, 0.14978058636188507, 0.14960074424743652, 0.14960074424743652, 0.14920875430107117, 0.14920875430107117, 0.1486433893442154, 0.1486433893442154, 0.1486433893442154, 0.14610037207603455, 0.14610037207603455, 0.14610037207603455, 0.8115941286087036, 0.8115941286087036, 0.7666009068489075, 0.6698006987571716, 0.6686172485351562, 0.6644235253334045, 0.6480955481529236, 0.6388651728630066, 0.6166859269142151, 0.6114240288734436, 0.603819727897644, 0.598039984703064, 0.598039984703064, 0.5972956418991089, 0.5968834161758423, 0.5851286053657532, 0.5809614062309265, 0.5794686079025269, 0.5759987831115723, 0.5759987831115723, 0.5749531984329224, 0.5727658271789551, 0.5725628137588501, 0.5721347332000732, 0.561279833316803, 0.5534392595291138, 0.5532546043395996, 0.5506070852279663, 0.548720121383667, 0.5430006980895996, 0.5347769856452942, 0.5343138575553894, 0.5334128737449646, 0.5334128737449646, 0.5313438177108765, 0.5254881381988525, 0.5100455284118652, 0.509060800075531, 0.507887601852417, 0.5065813064575195, 0.5057855844497681, 0.30537864565849304, 0.3002988398075104, 0.28860652446746826, 0.2884104251861572, 0.28418973088264465, 0.2832035422325134, 0.28011947870254517, 0.27813202142715454, 0.2648831009864807, 0.2557165324687958, 0.24637478590011597, 0.2449045032262802, 0.23971839249134064, 0.23680579662322998, 0.2271897792816162, 0.22375734150409698, 0.22290831804275513, 0.22290831804275513, 0.21801352500915527, 0.2130882889032364, 0.21277981996536255, 0.21046148240566254, 0.21017098426818848, 0.20999875664710999, 0.20917293429374695, 0.20917293429374695, 0.20917293429374695, 0.2069253921508789, 0.20680084824562073, 0.20660021901130676, 0.20623530447483063, 0.20623530447483063, 0.2026444524526596, 0.20078814029693604, 0.19597399234771729, 0.1949361264705658, 0.19321602582931519, 0.19301331043243408, 0.19301331043243408, 0.1923753023147583, 0.19105136394500732, 0.30864226818084717, 0.3071552515029907, 0.29932335019111633, 0.28971147537231445, 0.2834627628326416, 0.2815570831298828, 0.27969658374786377, 0.27364933490753174, 0.2734726071357727, 0.26861709356307983, 0.25966113805770874, 0.25899118185043335, 0.25723588466644287, 0.24442234635353088, 0.24442234635353088, 0.240555077791214, 0.23331627249717712, 0.23222006857395172, 0.23222006857395172, 0.23222006857395172, 0.2304556667804718, 0.22975735366344452, 0.22320544719696045, 0.22320544719696045, 0.2215486764907837, 0.22014017403125763, 0.21769264340400696, 0.21652309596538544, 0.21562837064266205, 0.213750422000885, 0.21278175711631775, 0.21232843399047852, 0.21159161627292633, 0.21094241738319397, 0.20949071645736694, 0.2077789008617401, 0.20378370583057404, 0.20153450965881348, 0.19983245432376862, 0.19749799370765686, 0.19749799370765686, 0.6422385573387146, 0.6332002878189087, 0.38963058590888977, 0.3784765601158142, 0.3720874488353729, 0.3265186548233032, 0.2920352816581726, 0.2917936146259308, 0.29102617502212524, 0.2625182569026947, 0.2625182569026947, 0.2609565258026123, 0.26057109236717224, 0.2575060725212097, 0.2560316026210785, 0.2560316026210785, 0.2409142553806305, 0.23722735047340393, 0.23640412092208862, 0.23584310710430145, 0.23584310710430145, 0.2351704239845276, 0.23409241437911987, 0.23338018357753754, 0.233331561088562, 0.23254001140594482, 0.23254001140594482, 0.23251301050186157, 0.23251301050186157, 0.23217067122459412, 0.21666499972343445, 0.21666499972343445, 0.2142331898212433, 0.2137928009033203, 0.2087949812412262, 0.20811665058135986, 0.20770376920700073, 0.20205727219581604, 0.19363895058631897, 0.1919386088848114, 0.19159024953842163, 0.30864226818084717, 0.3071552515029907, 0.29932335019111633, 0.28971147537231445, 0.2834627628326416, 0.2815570831298828, 0.27969658374786377, 0.27364933490753174, 0.2734726071357727, 0.26861709356307983, 0.25966113805770874, 0.25899118185043335, 0.25723588466644287, 0.24442234635353088, 0.24442234635353088, 0.240555077791214, 0.23331627249717712, 0.23222006857395172, 0.23222006857395172, 0.23222006857395172, 0.2304556667804718, 0.22975735366344452, 0.22320544719696045, 0.22320544719696045, 0.2215486764907837, 0.22014017403125763, 0.21769264340400696, 0.21652309596538544, 0.21562837064266205, 0.213750422000885, 0.21278175711631775, 0.21232843399047852, 0.21159161627292633, 0.21094241738319397, 0.20949071645736694, 0.2077789008617401, 0.20378370583057404, 0.20153450965881348, 0.19983245432376862, 0.19749799370765686, 0.19749799370765686, 0.6608495712280273, 0.6594929695129395, 0.6385987401008606, 0.631566047668457, 0.5687777400016785, 0.563826322555542, 0.5608477592468262, 0.5597476363182068, 0.5597476363182068, 0.5586181879043579, 0.5437101125717163, 0.5437101125717163, 0.5340813994407654, 0.5321187973022461, 0.5292973518371582, 0.5257585048675537, 0.5200848579406738, 0.5021263957023621, 0.5014033317565918, 0.5014033317565918, 0.49489566683769226, 0.489714652299881, 0.48459362983703613, 0.4753573536872864, 0.4718706011772156, 0.47112521529197693, 0.4682515859603882, 0.4673989415168762, 0.46571046113967896, 0.4634140729904175, 0.45754826068878174, 0.45671695470809937, 0.4566399157047272, 0.4545969069004059, 0.4545969069004059, 0.4504951536655426, 0.4480530619621277, 0.4480530619621277, 0.44772017002105713, 0.44220179319381714, 0.44180017709732056, 0.844161331653595, 0.6702908873558044, 0.643463134765625, 0.594529390335083, 0.587578296661377, 0.48876798152923584, 0.4836145341396332, 0.47838157415390015, 0.4740304946899414, 0.4724157750606537, 0.4724157750606537, 0.47215497493743896, 0.46627897024154663, 0.4584372043609619, 0.4564623236656189, 0.4499465525150299, 0.43917280435562134, 0.4365438222885132, 0.43277525901794434, 0.429344117641449, 0.429344117641449, 0.429344117641449, 0.4251408278942108, 0.42405965924263, 0.42111361026763916, 0.41762831807136536, 0.4143885374069214, 0.41108831763267517, 0.4101210832595825, 0.40670493245124817, 0.4000477194786072, 0.3952457010746002, 0.3938671052455902, 0.3916929364204407, 0.3916929364204407, 0.3916929364204407, 0.3881007432937622, 0.3776450753211975, 0.37685859203338623, 0.37519770860671997, 0.36955103278160095, 0.6608495712280273, 0.6594929695129395, 0.6385987401008606, 0.631566047668457, 0.5687777400016785, 0.563826322555542, 0.5608477592468262, 0.5597476363182068, 0.5597476363182068, 0.5586181879043579, 0.5437101125717163, 0.5437101125717163, 0.5340813994407654, 0.5321187973022461, 0.5292973518371582, 0.5257585048675537, 0.5200848579406738, 0.5021263957023621, 0.5014033317565918, 0.5014033317565918, 0.49489566683769226, 0.489714652299881, 0.48459362983703613, 0.4753573536872864, 0.4718706011772156, 0.47112521529197693, 0.4682515859603882, 0.4673989415168762, 0.46571046113967896, 0.4634140729904175, 0.45754826068878174, 0.45671695470809937, 0.4566399157047272, 0.4545969069004059, 0.4545969069004059, 0.4504951536655426, 0.4480530619621277, 0.4480530619621277, 0.44772017002105713, 0.44220179319381714, 0.44180017709732056, 0.6268301606178284, 0.5536199808120728, 0.5283877849578857, 0.49555113911628723, 0.4945758581161499, 0.48752349615097046, 0.48423928022384644, 0.4580376148223877, 0.452152281999588, 0.45007067918777466, 0.44616663455963135, 0.4254208505153656, 0.4210324287414551, 0.4143347144126892, 0.4011538028717041, 0.4011538028717041, 0.38942840695381165, 0.38704854249954224, 0.3808934688568115, 0.3798232078552246, 0.3798232078552246, 0.3798232078552246, 0.3659154772758484, 0.363054484128952, 0.363054484128952, 0.36248287558555603, 0.36092451214790344, 0.35768118500709534, 0.35425329208374023, 0.3497292399406433, 0.3457756042480469, 0.34368738532066345, 0.3433629870414734, 0.33884942531585693, 0.33884942531585693, 0.33884942531585693, 0.3383294641971588, 0.33723220229148865, 0.3364350199699402, 0.33502522110939026, 0.3336789608001709, 0.6085758209228516, 0.5693076848983765, 0.5667515993118286, 0.5464562177658081, 0.5307798385620117, 0.510424792766571, 0.5094113945960999, 0.49371808767318726, 0.49207597970962524, 0.48795029520988464, 0.4629212021827698, 0.4629212021827698, 0.4560752213001251, 0.4560752213001251, 0.44636625051498413, 0.44636625051498413, 0.4435683488845825, 0.4285860061645508, 0.41770774126052856, 0.41047996282577515, 0.41047996282577515, 0.4101119041442871, 0.4082542359828949, 0.4000388979911804, 0.3968547582626343, 0.3963009715080261, 0.38733187317848206, 0.38471662998199463, 0.379519522190094, 0.37837541103363037, 0.3758952021598816, 0.3741176426410675, 0.3736639618873596, 0.3700113296508789, 0.3700113296508789, 0.3684089481830597, 0.36778348684310913, 0.3675805926322937, 0.3632417321205139, 0.36229458451271057, 0.35824212431907654, 0.4657512605190277, 0.4636601507663727, 0.4470564126968384, 0.43423160910606384, 0.41757911443710327, 0.4167500138282776, 0.4039113521575928, 0.40256789326667786, 0.3991926908493042, 0.3787163496017456, 0.3787163496017456, 0.373115599155426, 0.373115599155426, 0.36517274379730225, 0.36517274379730225, 0.36335060000419617, 0.3628837466239929, 0.350626677274704, 0.3417271375656128, 0.33581411838531494, 0.33581411838531494, 0.33551299571990967, 0.33399325609207153, 0.32727229595184326, 0.3246673345565796, 0.32421430945396423, 0.3168766498565674, 0.31473714113235474, 0.30954936146736145, 0.3075202703475952, 0.30606603622436523, 0.30569490790367126, 0.30270665884017944, 0.30270665884017944, 0.3013957440853119, 0.30088406801223755, 0.3007180988788605, 0.29639360308647156, 0.29307830333709717, 0.28465086221694946, 0.28465086221694946, 0.412318617105484, 0.398711234331131, 0.33830857276916504, 0.3144444227218628, 0.30864059925079346, 0.30084139108657837, 0.288246750831604, 0.26467329263687134, 0.26022642850875854, 0.25548386573791504, 0.24261191487312317, 0.2370654195547104, 0.23370811343193054, 0.23370811343193054, 0.22805216908454895, 0.22587978839874268, 0.21723903715610504, 0.2040279060602188, 0.20186425745487213, 0.20050960779190063, 0.19960997998714447, 0.1917390078306198, 0.19051162898540497, 0.19051162898540497, 0.19051162898540497, 0.18804296851158142, 0.18804296851158142, 0.186661958694458, 0.1864914894104004, 0.18228182196617126, 0.18137875199317932, 0.1776130199432373, 0.1776130199432373, 0.16946545243263245, 0.16946545243263245, 0.16426850855350494, 0.1617284119129181, 0.15701095759868622, 0.15356512367725372, 0.15266042947769165, 0.15131674706935883, 0.6085758209228516, 0.5693076848983765, 0.5667515993118286, 0.5464562177658081, 0.5307798385620117, 0.510424792766571, 0.5094113945960999, 0.49371808767318726, 0.49207597970962524, 0.48795029520988464, 0.4629212021827698, 0.4629212021827698, 0.4560752213001251, 0.4560752213001251, 0.44636625051498413, 0.44636625051498413, 0.4435683488845825, 0.4285860061645508, 0.41770774126052856, 0.41047996282577515, 0.41047996282577515, 0.4101119041442871, 0.4082542359828949, 0.4000388979911804, 0.3968547582626343, 0.3963009715080261, 0.38733187317848206, 0.38471662998199463, 0.379519522190094, 0.37837541103363037, 0.3758952021598816, 0.3741176426410675, 0.3736639618873596, 0.3700113296508789, 0.3700113296508789, 0.3684089481830597, 0.36778348684310913, 0.3675805926322937, 0.3632417321205139, 0.36229458451271057, 0.35824212431907654, 0.9093438386917114, 0.8666866421699524, 0.8155440092086792, 0.7528162002563477, 0.7350924015045166, 0.7061945199966431, 0.6909664273262024, 0.683053195476532, 0.6793375015258789, 0.6793375015258789, 0.6473233699798584, 0.6459915637969971, 0.6459915637969971, 0.6247813105583191, 0.6193690299987793, 0.6193690299987793, 0.6112483143806458, 0.6044119000434875, 0.6044119000434875, 0.6041538119316101, 0.5842046737670898, 0.5706732273101807, 0.5627319812774658, 0.5627319812774658, 0.5597476363182068, 0.5597476363182068, 0.5588180422782898, 0.555736780166626, 0.5520084500312805, 0.5519364476203918, 0.5519364476203918, 0.5497937202453613, 0.5404981970787048, 0.5326893925666809, 0.5275365710258484, 0.5245152115821838, 0.5190204381942749, 0.5190204381942749, 0.5167530179023743, 0.5151900053024292, 0.5149872899055481, 0.8716031312942505, 0.8574634790420532, 0.8518878221511841, 0.7997613549232483, 0.7695313692092896, 0.7695313692092896, 0.7486934661865234, 0.7215218544006348, 0.7146154046058655, 0.7018097043037415, 0.6524099111557007, 0.6391170024871826, 0.6391170024871826, 0.6363402605056763, 0.6123852133750916, 0.6100389957427979, 0.6021156311035156, 0.6021156311035156, 0.5858246088027954, 0.575087308883667, 0.575087308883667, 0.5745300054550171, 0.5716041326522827, 0.5654118657112122, 0.563826322555542, 0.563826322555542, 0.563282310962677, 0.563282310962677, 0.5567457675933838, 0.5554386377334595, 0.5547763705253601, 0.5530351400375366, 0.5477198362350464, 0.5432104468345642, 0.5317754745483398, 0.5311877131462097, 0.5232683420181274, 0.5214042067527771, 0.5214042067527771, 0.5206269025802612, 0.5206269025802612, 1.0, 1.0, 1.0, 1.0, 1.0, 1.0, 1.0, 1.0, 1.0, 1.0, 1.0, 1.0, 1.0, 1.0, 1.0, 1.0, 1.0, 1.0, 1.0, 1.0, 1.0, 1.0, 1.0, 0.9112427234649658, 0.9032801985740662, 0.9032801985740662, 0.8539888858795166, 0.8391876220703125, 0.798491358757019, 0.7692317962646484, 0.7560149431228638, 0.7560149431228638, 0.7512326240539551, 0.7249768972396851, 0.6993587017059326, 0.6793212294578552, 0.6783581972122192, 0.6705713272094727, 0.6705713272094727, 0.6673831343650818, 0.6653451919555664, 0.9093438386917114, 0.8666866421699524, 0.8155440092086792, 0.7528162002563477, 0.7350924015045166, 0.7061945199966431, 0.6909664273262024, 0.683053195476532, 0.6793375015258789, 0.6793375015258789, 0.6473233699798584, 0.6459915637969971, 0.6459915637969971, 0.6247813105583191, 0.6193690299987793, 0.6193690299987793, 0.6112483143806458, 0.6044119000434875, 0.6044119000434875, 0.6041538119316101, 0.5842046737670898, 0.5706732273101807, 0.5627319812774658, 0.5627319812774658, 0.5597476363182068, 0.5597476363182068, 0.5588180422782898, 0.555736780166626, 0.5520084500312805, 0.5519364476203918, 0.5519364476203918, 0.5497937202453613, 0.5404981970787048, 0.5326893925666809, 0.5275365710258484, 0.5245152115821838, 0.5190204381942749, 0.5190204381942749, 0.5167530179023743, 0.5151900053024292, 0.5149872899055481], \"xaxis\": \"x\", \"yaxis\": \"y\"}],\n",
              "                        {\"barmode\": \"relative\", \"legend\": {\"tracegroupgap\": 0}, \"margin\": {\"t\": 60}, \"template\": {\"data\": {\"bar\": [{\"error_x\": {\"color\": \"#2a3f5f\"}, \"error_y\": {\"color\": \"#2a3f5f\"}, \"marker\": {\"line\": {\"color\": \"#E5ECF6\", \"width\": 0.5}}, \"type\": \"bar\"}], \"barpolar\": [{\"marker\": {\"line\": {\"color\": \"#E5ECF6\", \"width\": 0.5}}, \"type\": \"barpolar\"}], \"carpet\": [{\"aaxis\": {\"endlinecolor\": \"#2a3f5f\", \"gridcolor\": \"white\", \"linecolor\": \"white\", \"minorgridcolor\": \"white\", \"startlinecolor\": \"#2a3f5f\"}, \"baxis\": {\"endlinecolor\": \"#2a3f5f\", \"gridcolor\": \"white\", \"linecolor\": \"white\", \"minorgridcolor\": \"white\", \"startlinecolor\": \"#2a3f5f\"}, \"type\": \"carpet\"}], \"choropleth\": [{\"colorbar\": {\"outlinewidth\": 0, \"ticks\": \"\"}, \"type\": \"choropleth\"}], \"contour\": [{\"colorbar\": {\"outlinewidth\": 0, \"ticks\": \"\"}, \"colorscale\": [[0.0, \"#0d0887\"], [0.1111111111111111, \"#46039f\"], [0.2222222222222222, \"#7201a8\"], [0.3333333333333333, \"#9c179e\"], [0.4444444444444444, \"#bd3786\"], [0.5555555555555556, \"#d8576b\"], [0.6666666666666666, \"#ed7953\"], [0.7777777777777778, \"#fb9f3a\"], [0.8888888888888888, \"#fdca26\"], [1.0, \"#f0f921\"]], \"type\": \"contour\"}], \"contourcarpet\": [{\"colorbar\": {\"outlinewidth\": 0, \"ticks\": \"\"}, \"type\": \"contourcarpet\"}], \"heatmap\": [{\"colorbar\": {\"outlinewidth\": 0, \"ticks\": \"\"}, \"colorscale\": [[0.0, \"#0d0887\"], [0.1111111111111111, \"#46039f\"], [0.2222222222222222, \"#7201a8\"], [0.3333333333333333, \"#9c179e\"], [0.4444444444444444, \"#bd3786\"], [0.5555555555555556, \"#d8576b\"], [0.6666666666666666, \"#ed7953\"], [0.7777777777777778, \"#fb9f3a\"], [0.8888888888888888, \"#fdca26\"], [1.0, \"#f0f921\"]], \"type\": \"heatmap\"}], \"heatmapgl\": [{\"colorbar\": {\"outlinewidth\": 0, \"ticks\": \"\"}, \"colorscale\": [[0.0, \"#0d0887\"], [0.1111111111111111, \"#46039f\"], [0.2222222222222222, \"#7201a8\"], [0.3333333333333333, \"#9c179e\"], [0.4444444444444444, \"#bd3786\"], [0.5555555555555556, \"#d8576b\"], [0.6666666666666666, \"#ed7953\"], [0.7777777777777778, \"#fb9f3a\"], [0.8888888888888888, \"#fdca26\"], [1.0, \"#f0f921\"]], \"type\": \"heatmapgl\"}], \"histogram\": [{\"marker\": {\"colorbar\": {\"outlinewidth\": 0, \"ticks\": \"\"}}, \"type\": \"histogram\"}], \"histogram2d\": [{\"colorbar\": {\"outlinewidth\": 0, \"ticks\": \"\"}, \"colorscale\": [[0.0, \"#0d0887\"], [0.1111111111111111, \"#46039f\"], [0.2222222222222222, \"#7201a8\"], [0.3333333333333333, \"#9c179e\"], [0.4444444444444444, \"#bd3786\"], [0.5555555555555556, \"#d8576b\"], [0.6666666666666666, \"#ed7953\"], [0.7777777777777778, \"#fb9f3a\"], [0.8888888888888888, \"#fdca26\"], [1.0, \"#f0f921\"]], \"type\": \"histogram2d\"}], \"histogram2dcontour\": [{\"colorbar\": {\"outlinewidth\": 0, \"ticks\": \"\"}, \"colorscale\": [[0.0, \"#0d0887\"], [0.1111111111111111, \"#46039f\"], [0.2222222222222222, \"#7201a8\"], [0.3333333333333333, \"#9c179e\"], [0.4444444444444444, \"#bd3786\"], [0.5555555555555556, \"#d8576b\"], [0.6666666666666666, \"#ed7953\"], [0.7777777777777778, \"#fb9f3a\"], [0.8888888888888888, \"#fdca26\"], [1.0, \"#f0f921\"]], \"type\": \"histogram2dcontour\"}], \"mesh3d\": [{\"colorbar\": {\"outlinewidth\": 0, \"ticks\": \"\"}, \"type\": \"mesh3d\"}], \"parcoords\": [{\"line\": {\"colorbar\": {\"outlinewidth\": 0, \"ticks\": \"\"}}, \"type\": \"parcoords\"}], \"pie\": [{\"automargin\": true, \"type\": \"pie\"}], \"scatter\": [{\"marker\": {\"colorbar\": {\"outlinewidth\": 0, \"ticks\": \"\"}}, \"type\": \"scatter\"}], \"scatter3d\": [{\"line\": {\"colorbar\": {\"outlinewidth\": 0, \"ticks\": \"\"}}, \"marker\": {\"colorbar\": {\"outlinewidth\": 0, \"ticks\": \"\"}}, \"type\": \"scatter3d\"}], \"scattercarpet\": [{\"marker\": {\"colorbar\": {\"outlinewidth\": 0, \"ticks\": \"\"}}, \"type\": \"scattercarpet\"}], \"scattergeo\": [{\"marker\": {\"colorbar\": {\"outlinewidth\": 0, \"ticks\": \"\"}}, \"type\": \"scattergeo\"}], \"scattergl\": [{\"marker\": {\"colorbar\": {\"outlinewidth\": 0, \"ticks\": \"\"}}, \"type\": \"scattergl\"}], \"scattermapbox\": [{\"marker\": {\"colorbar\": {\"outlinewidth\": 0, \"ticks\": \"\"}}, \"type\": \"scattermapbox\"}], \"scatterpolar\": [{\"marker\": {\"colorbar\": {\"outlinewidth\": 0, \"ticks\": \"\"}}, \"type\": \"scatterpolar\"}], \"scatterpolargl\": [{\"marker\": {\"colorbar\": {\"outlinewidth\": 0, \"ticks\": \"\"}}, \"type\": \"scatterpolargl\"}], \"scatterternary\": [{\"marker\": {\"colorbar\": {\"outlinewidth\": 0, \"ticks\": \"\"}}, \"type\": \"scatterternary\"}], \"surface\": [{\"colorbar\": {\"outlinewidth\": 0, \"ticks\": \"\"}, \"colorscale\": [[0.0, \"#0d0887\"], [0.1111111111111111, \"#46039f\"], [0.2222222222222222, \"#7201a8\"], [0.3333333333333333, \"#9c179e\"], [0.4444444444444444, \"#bd3786\"], [0.5555555555555556, \"#d8576b\"], [0.6666666666666666, \"#ed7953\"], [0.7777777777777778, \"#fb9f3a\"], [0.8888888888888888, \"#fdca26\"], [1.0, \"#f0f921\"]], \"type\": \"surface\"}], \"table\": [{\"cells\": {\"fill\": {\"color\": \"#EBF0F8\"}, \"line\": {\"color\": \"white\"}}, \"header\": {\"fill\": {\"color\": \"#C8D4E3\"}, \"line\": {\"color\": \"white\"}}, \"type\": \"table\"}]}, \"layout\": {\"annotationdefaults\": {\"arrowcolor\": \"#2a3f5f\", \"arrowhead\": 0, \"arrowwidth\": 1}, \"coloraxis\": {\"colorbar\": {\"outlinewidth\": 0, \"ticks\": \"\"}}, \"colorscale\": {\"diverging\": [[0, \"#8e0152\"], [0.1, \"#c51b7d\"], [0.2, \"#de77ae\"], [0.3, \"#f1b6da\"], [0.4, \"#fde0ef\"], [0.5, \"#f7f7f7\"], [0.6, \"#e6f5d0\"], [0.7, \"#b8e186\"], [0.8, \"#7fbc41\"], [0.9, \"#4d9221\"], [1, \"#276419\"]], \"sequential\": [[0.0, \"#0d0887\"], [0.1111111111111111, \"#46039f\"], [0.2222222222222222, \"#7201a8\"], [0.3333333333333333, \"#9c179e\"], [0.4444444444444444, \"#bd3786\"], [0.5555555555555556, \"#d8576b\"], [0.6666666666666666, \"#ed7953\"], [0.7777777777777778, \"#fb9f3a\"], [0.8888888888888888, \"#fdca26\"], [1.0, \"#f0f921\"]], \"sequentialminus\": [[0.0, \"#0d0887\"], [0.1111111111111111, \"#46039f\"], [0.2222222222222222, \"#7201a8\"], [0.3333333333333333, \"#9c179e\"], [0.4444444444444444, \"#bd3786\"], [0.5555555555555556, \"#d8576b\"], [0.6666666666666666, \"#ed7953\"], [0.7777777777777778, \"#fb9f3a\"], [0.8888888888888888, \"#fdca26\"], [1.0, \"#f0f921\"]]}, \"colorway\": [\"#636efa\", \"#EF553B\", \"#00cc96\", \"#ab63fa\", \"#FFA15A\", \"#19d3f3\", \"#FF6692\", \"#B6E880\", \"#FF97FF\", \"#FECB52\"], \"font\": {\"color\": \"#2a3f5f\"}, \"geo\": {\"bgcolor\": \"white\", \"lakecolor\": \"white\", \"landcolor\": \"#E5ECF6\", \"showlakes\": true, \"showland\": true, \"subunitcolor\": \"white\"}, \"hoverlabel\": {\"align\": \"left\"}, \"hovermode\": \"closest\", \"mapbox\": {\"style\": \"light\"}, \"paper_bgcolor\": \"white\", \"plot_bgcolor\": \"#E5ECF6\", \"polar\": {\"angularaxis\": {\"gridcolor\": \"white\", \"linecolor\": \"white\", \"ticks\": \"\"}, \"bgcolor\": \"#E5ECF6\", \"radialaxis\": {\"gridcolor\": \"white\", \"linecolor\": \"white\", \"ticks\": \"\"}}, \"scene\": {\"xaxis\": {\"backgroundcolor\": \"#E5ECF6\", \"gridcolor\": \"white\", \"gridwidth\": 2, \"linecolor\": \"white\", \"showbackground\": true, \"ticks\": \"\", \"zerolinecolor\": \"white\"}, \"yaxis\": {\"backgroundcolor\": \"#E5ECF6\", \"gridcolor\": \"white\", \"gridwidth\": 2, \"linecolor\": \"white\", \"showbackground\": true, \"ticks\": \"\", \"zerolinecolor\": \"white\"}, \"zaxis\": {\"backgroundcolor\": \"#E5ECF6\", \"gridcolor\": \"white\", \"gridwidth\": 2, \"linecolor\": \"white\", \"showbackground\": true, \"ticks\": \"\", \"zerolinecolor\": \"white\"}}, \"shapedefaults\": {\"line\": {\"color\": \"#2a3f5f\"}}, \"ternary\": {\"aaxis\": {\"gridcolor\": \"white\", \"linecolor\": \"white\", \"ticks\": \"\"}, \"baxis\": {\"gridcolor\": \"white\", \"linecolor\": \"white\", \"ticks\": \"\"}, \"bgcolor\": \"#E5ECF6\", \"caxis\": {\"gridcolor\": \"white\", \"linecolor\": \"white\", \"ticks\": \"\"}}, \"title\": {\"x\": 0.05}, \"xaxis\": {\"automargin\": true, \"gridcolor\": \"white\", \"linecolor\": \"white\", \"ticks\": \"\", \"title\": {\"standoff\": 15}, \"zerolinecolor\": \"white\", \"zerolinewidth\": 2}, \"yaxis\": {\"automargin\": true, \"gridcolor\": \"white\", \"linecolor\": \"white\", \"ticks\": \"\", \"title\": {\"standoff\": 15}, \"zerolinecolor\": \"white\", \"zerolinewidth\": 2}}}, \"xaxis\": {\"anchor\": \"y\", \"domain\": [0.0, 1.0], \"title\": {\"text\": \"score\"}}, \"yaxis\": {\"anchor\": \"x\", \"domain\": [0.0, 1.0], \"title\": {\"text\": \"count\"}}},\n",
              "                        {\"responsive\": true}\n",
              "                    ).then(function(){\n",
              "                            \n",
              "var gd = document.getElementById('f6649b73-c81e-471a-ac18-63154e9e0c6c');\n",
              "var x = new MutationObserver(function (mutations, observer) {{\n",
              "        var display = window.getComputedStyle(gd).display;\n",
              "        if (!display || display === 'none') {{\n",
              "            console.log([gd, 'removed!']);\n",
              "            Plotly.purge(gd);\n",
              "            observer.disconnect();\n",
              "        }}\n",
              "}});\n",
              "\n",
              "// Listen for the removal of the full notebook cells\n",
              "var notebookContainer = gd.closest('#notebook-container');\n",
              "if (notebookContainer) {{\n",
              "    x.observe(notebookContainer, {childList: true});\n",
              "}}\n",
              "\n",
              "// Listen for the clearing of the current output cell\n",
              "var outputEl = gd.closest('.output');\n",
              "if (outputEl) {{\n",
              "    x.observe(outputEl, {childList: true});\n",
              "}}\n",
              "\n",
              "                        })\n",
              "                };\n",
              "                \n",
              "            </script>\n",
              "        </div>\n",
              "</body>\n",
              "</html>"
            ]
          },
          "metadata": {}
        }
      ]
    },
    {
      "cell_type": "code",
      "metadata": {
        "id": "OZ0YfkIO9g5V"
      },
      "source": [
        "def recommend_tune(df, tune_name):\n",
        "\n",
        "  df_tune = df.query(f'reference_title == \"{tune_name}\"')\n",
        "  ff = df_tune.iloc[:]\n",
        "\n",
        "  # get the maximum similarity score for each section and store in new column\n",
        "  ff['max'] = ff.groupby('ref_section')['score'].transform('max')\n",
        "\n",
        "  # scale the score with the maxmum value of each section\n",
        "  ff['score_div_max'] = ff['score'] / ff['max']\n",
        "\n",
        "  # consider only the top N tunes for each group\n",
        "  ff = ff.sort_values(['ref_section', 'score_div_max'], ascending=[True, False])\n",
        "  result = ff.groupby('ref_section').head(30)\n",
        "  \n",
        "  # if multiple rows from the same similar tune, keep only the similar_title with the highest score_div_max\n",
        "  result = result.groupby('similar_title').max('score_div_max').sort_values('score_div_max', ascending=False)\n",
        "  \n",
        "  # add the name of the reference tune\n",
        "  result['reference'] = tune_name\n",
        "  result = result.reset_index()\n",
        "  result = result.loc[:, ['reference', 'similar_title', 'score', 'max', 'score_div_max']]\n",
        "  return result, ff"
      ],
      "execution_count": 407,
      "outputs": []
    },
    {
      "cell_type": "code",
      "metadata": {
        "colab": {
          "base_uri": "https://localhost:8080/",
          "height": 990
        },
        "id": "ohaxVQ6d9iiD",
        "outputId": "51142464-c2e4-40f2-b2f9-87bf5f9c044d"
      },
      "source": [
        "result['tfidf'], result_details['tfidf'] = recommend_tune(df_sim, \"These Foolish Things\")\n",
        "result['tfidf'].head(30)"
      ],
      "execution_count": 408,
      "outputs": [
        {
          "output_type": "execute_result",
          "data": {
            "text/html": [
              "<div>\n",
              "<style scoped>\n",
              "    .dataframe tbody tr th:only-of-type {\n",
              "        vertical-align: middle;\n",
              "    }\n",
              "\n",
              "    .dataframe tbody tr th {\n",
              "        vertical-align: top;\n",
              "    }\n",
              "\n",
              "    .dataframe thead th {\n",
              "        text-align: right;\n",
              "    }\n",
              "</style>\n",
              "<table border=\"1\" class=\"dataframe\">\n",
              "  <thead>\n",
              "    <tr style=\"text-align: right;\">\n",
              "      <th></th>\n",
              "      <th>reference</th>\n",
              "      <th>similar_title</th>\n",
              "      <th>score</th>\n",
              "      <th>max</th>\n",
              "      <th>score_div_max</th>\n",
              "    </tr>\n",
              "  </thead>\n",
              "  <tbody>\n",
              "    <tr>\n",
              "      <th>0</th>\n",
              "      <td>These Foolish Things</td>\n",
              "      <td>Too Young To Go Steady</td>\n",
              "      <td>0.700287</td>\n",
              "      <td>0.700287</td>\n",
              "      <td>1.000000</td>\n",
              "    </tr>\n",
              "    <tr>\n",
              "      <th>1</th>\n",
              "      <td>These Foolish Things</td>\n",
              "      <td>Mountain Greenery</td>\n",
              "      <td>0.767828</td>\n",
              "      <td>0.767828</td>\n",
              "      <td>1.000000</td>\n",
              "    </tr>\n",
              "    <tr>\n",
              "      <th>2</th>\n",
              "      <td>These Foolish Things</td>\n",
              "      <td>More Than You Know</td>\n",
              "      <td>0.683313</td>\n",
              "      <td>0.683313</td>\n",
              "      <td>1.000000</td>\n",
              "    </tr>\n",
              "    <tr>\n",
              "      <th>3</th>\n",
              "      <td>These Foolish Things</td>\n",
              "      <td>Way You Look Tonight, The</td>\n",
              "      <td>0.730743</td>\n",
              "      <td>0.767828</td>\n",
              "      <td>0.982762</td>\n",
              "    </tr>\n",
              "    <tr>\n",
              "      <th>4</th>\n",
              "      <td>These Foolish Things</td>\n",
              "      <td>This Is All I Ask</td>\n",
              "      <td>0.655513</td>\n",
              "      <td>0.700287</td>\n",
              "      <td>0.936063</td>\n",
              "    </tr>\n",
              "    <tr>\n",
              "      <th>5</th>\n",
              "      <td>These Foolish Things</td>\n",
              "      <td>Emily</td>\n",
              "      <td>0.692265</td>\n",
              "      <td>0.767828</td>\n",
              "      <td>0.931013</td>\n",
              "    </tr>\n",
              "    <tr>\n",
              "      <th>6</th>\n",
              "      <td>These Foolish Things</td>\n",
              "      <td>I Like The Likes Of You</td>\n",
              "      <td>0.690350</td>\n",
              "      <td>0.767828</td>\n",
              "      <td>0.899094</td>\n",
              "    </tr>\n",
              "    <tr>\n",
              "      <th>7</th>\n",
              "      <td>These Foolish Things</td>\n",
              "      <td>Jeepers Creepers</td>\n",
              "      <td>0.666954</td>\n",
              "      <td>0.767828</td>\n",
              "      <td>0.891968</td>\n",
              "    </tr>\n",
              "    <tr>\n",
              "      <th>8</th>\n",
              "      <td>These Foolish Things</td>\n",
              "      <td>I Won't Dance</td>\n",
              "      <td>0.655769</td>\n",
              "      <td>0.767828</td>\n",
              "      <td>0.881929</td>\n",
              "    </tr>\n",
              "    <tr>\n",
              "      <th>9</th>\n",
              "      <td>These Foolish Things</td>\n",
              "      <td>Long Ago And Far Away</td>\n",
              "      <td>0.648045</td>\n",
              "      <td>0.767828</td>\n",
              "      <td>0.871296</td>\n",
              "    </tr>\n",
              "    <tr>\n",
              "      <th>10</th>\n",
              "      <td>These Foolish Things</td>\n",
              "      <td>52nd Street Theme</td>\n",
              "      <td>0.650243</td>\n",
              "      <td>0.767828</td>\n",
              "      <td>0.869259</td>\n",
              "    </tr>\n",
              "    <tr>\n",
              "      <th>11</th>\n",
              "      <td>These Foolish Things</td>\n",
              "      <td>Heart And Soul</td>\n",
              "      <td>0.638684</td>\n",
              "      <td>0.767828</td>\n",
              "      <td>0.858953</td>\n",
              "    </tr>\n",
              "    <tr>\n",
              "      <th>12</th>\n",
              "      <td>These Foolish Things</td>\n",
              "      <td>At Last</td>\n",
              "      <td>0.632314</td>\n",
              "      <td>0.767828</td>\n",
              "      <td>0.850386</td>\n",
              "    </tr>\n",
              "    <tr>\n",
              "      <th>13</th>\n",
              "      <td>These Foolish Things</td>\n",
              "      <td>I've Got My Fingers Crossed</td>\n",
              "      <td>0.627358</td>\n",
              "      <td>0.767828</td>\n",
              "      <td>0.843720</td>\n",
              "    </tr>\n",
              "    <tr>\n",
              "      <th>14</th>\n",
              "      <td>These Foolish Things</td>\n",
              "      <td>Let's Fall In Love</td>\n",
              "      <td>0.632800</td>\n",
              "      <td>0.767828</td>\n",
              "      <td>0.839408</td>\n",
              "    </tr>\n",
              "    <tr>\n",
              "      <th>15</th>\n",
              "      <td>These Foolish Things</td>\n",
              "      <td>Don't Be That Way</td>\n",
              "      <td>0.613446</td>\n",
              "      <td>0.767828</td>\n",
              "      <td>0.824778</td>\n",
              "    </tr>\n",
              "    <tr>\n",
              "      <th>16</th>\n",
              "      <td>These Foolish Things</td>\n",
              "      <td>Bewitched</td>\n",
              "      <td>0.609356</td>\n",
              "      <td>0.767828</td>\n",
              "      <td>0.819510</td>\n",
              "    </tr>\n",
              "    <tr>\n",
              "      <th>17</th>\n",
              "      <td>These Foolish Things</td>\n",
              "      <td>Fools Rush In</td>\n",
              "      <td>0.622335</td>\n",
              "      <td>0.767828</td>\n",
              "      <td>0.810514</td>\n",
              "    </tr>\n",
              "    <tr>\n",
              "      <th>18</th>\n",
              "      <td>These Foolish Things</td>\n",
              "      <td>Time After Time</td>\n",
              "      <td>0.566680</td>\n",
              "      <td>0.700287</td>\n",
              "      <td>0.809210</td>\n",
              "    </tr>\n",
              "    <tr>\n",
              "      <th>19</th>\n",
              "      <td>These Foolish Things</td>\n",
              "      <td>I'm Old Fashioned</td>\n",
              "      <td>0.599239</td>\n",
              "      <td>0.743561</td>\n",
              "      <td>0.805904</td>\n",
              "    </tr>\n",
              "    <tr>\n",
              "      <th>20</th>\n",
              "      <td>These Foolish Things</td>\n",
              "      <td>Party's Over, The</td>\n",
              "      <td>0.616842</td>\n",
              "      <td>0.767828</td>\n",
              "      <td>0.803360</td>\n",
              "    </tr>\n",
              "    <tr>\n",
              "      <th>21</th>\n",
              "      <td>These Foolish Things</td>\n",
              "      <td>Dinah</td>\n",
              "      <td>0.616083</td>\n",
              "      <td>0.767828</td>\n",
              "      <td>0.802372</td>\n",
              "    </tr>\n",
              "    <tr>\n",
              "      <th>22</th>\n",
              "      <td>These Foolish Things</td>\n",
              "      <td>Touch Of Your Lips, The</td>\n",
              "      <td>0.593455</td>\n",
              "      <td>0.743561</td>\n",
              "      <td>0.798125</td>\n",
              "    </tr>\n",
              "    <tr>\n",
              "      <th>23</th>\n",
              "      <td>These Foolish Things</td>\n",
              "      <td>Why Do I Love You</td>\n",
              "      <td>0.610593</td>\n",
              "      <td>0.767828</td>\n",
              "      <td>0.795221</td>\n",
              "    </tr>\n",
              "    <tr>\n",
              "      <th>24</th>\n",
              "      <td>These Foolish Things</td>\n",
              "      <td>Blue Room, The</td>\n",
              "      <td>0.588653</td>\n",
              "      <td>0.743561</td>\n",
              "      <td>0.791667</td>\n",
              "    </tr>\n",
              "    <tr>\n",
              "      <th>25</th>\n",
              "      <td>These Foolish Things</td>\n",
              "      <td>Cry Me A River</td>\n",
              "      <td>0.518508</td>\n",
              "      <td>0.683313</td>\n",
              "      <td>0.758815</td>\n",
              "    </tr>\n",
              "    <tr>\n",
              "      <th>26</th>\n",
              "      <td>These Foolish Things</td>\n",
              "      <td>Embraceable You</td>\n",
              "      <td>0.516675</td>\n",
              "      <td>0.683313</td>\n",
              "      <td>0.756133</td>\n",
              "    </tr>\n",
              "    <tr>\n",
              "      <th>27</th>\n",
              "      <td>These Foolish Things</td>\n",
              "      <td>If I Had You</td>\n",
              "      <td>0.506660</td>\n",
              "      <td>0.683313</td>\n",
              "      <td>0.741476</td>\n",
              "    </tr>\n",
              "    <tr>\n",
              "      <th>28</th>\n",
              "      <td>These Foolish Things</td>\n",
              "      <td>Rosetta</td>\n",
              "      <td>0.493315</td>\n",
              "      <td>0.683313</td>\n",
              "      <td>0.721946</td>\n",
              "    </tr>\n",
              "    <tr>\n",
              "      <th>29</th>\n",
              "      <td>These Foolish Things</td>\n",
              "      <td>They Can't Take That Away From Me</td>\n",
              "      <td>0.433102</td>\n",
              "      <td>0.683313</td>\n",
              "      <td>0.633826</td>\n",
              "    </tr>\n",
              "  </tbody>\n",
              "</table>\n",
              "</div>"
            ],
            "text/plain": [
              "               reference  ... score_div_max\n",
              "0   These Foolish Things  ...      1.000000\n",
              "1   These Foolish Things  ...      1.000000\n",
              "2   These Foolish Things  ...      1.000000\n",
              "3   These Foolish Things  ...      0.982762\n",
              "4   These Foolish Things  ...      0.936063\n",
              "5   These Foolish Things  ...      0.931013\n",
              "6   These Foolish Things  ...      0.899094\n",
              "7   These Foolish Things  ...      0.891968\n",
              "8   These Foolish Things  ...      0.881929\n",
              "9   These Foolish Things  ...      0.871296\n",
              "10  These Foolish Things  ...      0.869259\n",
              "11  These Foolish Things  ...      0.858953\n",
              "12  These Foolish Things  ...      0.850386\n",
              "13  These Foolish Things  ...      0.843720\n",
              "14  These Foolish Things  ...      0.839408\n",
              "15  These Foolish Things  ...      0.824778\n",
              "16  These Foolish Things  ...      0.819510\n",
              "17  These Foolish Things  ...      0.810514\n",
              "18  These Foolish Things  ...      0.809210\n",
              "19  These Foolish Things  ...      0.805904\n",
              "20  These Foolish Things  ...      0.803360\n",
              "21  These Foolish Things  ...      0.802372\n",
              "22  These Foolish Things  ...      0.798125\n",
              "23  These Foolish Things  ...      0.795221\n",
              "24  These Foolish Things  ...      0.791667\n",
              "25  These Foolish Things  ...      0.758815\n",
              "26  These Foolish Things  ...      0.756133\n",
              "27  These Foolish Things  ...      0.741476\n",
              "28  These Foolish Things  ...      0.721946\n",
              "29  These Foolish Things  ...      0.633826\n",
              "\n",
              "[30 rows x 5 columns]"
            ]
          },
          "metadata": {},
          "execution_count": 408
        }
      ]
    },
    {
      "cell_type": "code",
      "metadata": {
        "id": "Uz_n9uCHyXOF"
      },
      "source": [
        "columns = [\"Reference\", \"Recommendation\", \"Score\", \"Score_Div_Max\"]\n",
        "table = wandb.Table(columns=columns)\n",
        "\n",
        "for tune in tunes_eval_list:\n",
        "  result, details = recommend_tune(df_sim, tune)\n",
        "\n",
        "  for index, row in result.iterrows():\n",
        "    table.add_data(tune, row['similar_title'], row['score'], row['score_div_max'])\n",
        "\n",
        "wandb.log({\"tfidf\": table})\n"
      ],
      "execution_count": 409,
      "outputs": []
    },
    {
      "cell_type": "markdown",
      "metadata": {
        "id": "99xHBRsd--OB"
      },
      "source": [
        "# LSA (Latent Semantic Analysis), aka LSI (Latent Semantic Index) "
      ]
    },
    {
      "cell_type": "code",
      "metadata": {
        "id": "adsW9Uh9_JXs"
      },
      "source": [
        "from collections import defaultdict"
      ],
      "execution_count": 410,
      "outputs": []
    },
    {
      "cell_type": "code",
      "metadata": {
        "colab": {
          "base_uri": "https://localhost:8080/"
        },
        "id": "s3AJZGRD_IHW",
        "outputId": "2b4482d3-c67b-4dcd-f831-689df044529d"
      },
      "source": [
        "num_topics = 100\n",
        "\n",
        "# remove words that appear only once\n",
        "frequency = defaultdict(int)\n",
        "for text in processed_corpus:\n",
        "    for token in text:\n",
        "        frequency[token] += 1\n",
        "\n",
        "data = [[token for token in text if frequency[token] > 1] for text in processed_corpus]\n",
        "dictionary = corpora.Dictionary(data)\n",
        "\n",
        "# doc2bow counts the number of occurences of each distinct word,\n",
        "# converts the word to its integer word id and returns the result\n",
        "# as a sparse vector\n",
        "\n",
        "bow_corpus = [dictionary.doc2bow(text) for text in data]\n",
        "lsi = LsiModel(bow_corpus, id2word=dictionary, num_topics=num_topics)  # num_topics can be maximum the size of the number of unique tokens"
      ],
      "execution_count": 411,
      "outputs": [
        {
          "output_type": "stream",
          "name": "stderr",
          "text": [
            "2021-11-20 17:42:52,851 : INFO : adding document #0 to Dictionary(0 unique tokens: [])\n",
            "2021-11-20 17:42:52,991 : INFO : built Dictionary(1466 unique tokens: ['Am-D7', 'B7-E', 'C#-E7', 'C-Eb7', 'C7-F']...) from 5403 documents (total 76935 corpus positions)\n",
            "2021-11-20 17:42:52,994 : INFO : Dictionary lifecycle event {'msg': \"built Dictionary(1466 unique tokens: ['Am-D7', 'B7-E', 'C#-E7', 'C-Eb7', 'C7-F']...) from 5403 documents (total 76935 corpus positions)\", 'datetime': '2021-11-20T17:42:52.994675', 'gensim': '4.1.2', 'python': '3.7.12 (default, Sep 10 2021, 00:21:48) \\n[GCC 7.5.0]', 'platform': 'Linux-5.4.104+-x86_64-with-Ubuntu-18.04-bionic', 'event': 'created'}\n",
            "2021-11-20 17:42:53,070 : INFO : using serial LSI version on this node\n",
            "2021-11-20 17:42:53,072 : INFO : updating model with new documents\n",
            "2021-11-20 17:42:53,075 : INFO : preparing a new chunk of documents\n",
            "2021-11-20 17:42:53,133 : INFO : using 100 extra samples and 2 power iterations\n",
            "2021-11-20 17:42:53,139 : INFO : 1st phase: constructing (1466, 200) action matrix\n",
            "2021-11-20 17:42:53,210 : INFO : orthonormalizing (1466, 200) action matrix\n",
            "2021-11-20 17:42:53,403 : INFO : 2nd phase: running dense svd on (200, 5403) matrix\n",
            "2021-11-20 17:42:53,685 : INFO : computing the final decomposition\n",
            "2021-11-20 17:42:53,690 : INFO : keeping 100 factors (discarding 7.517% of energy spectrum)\n",
            "2021-11-20 17:42:53,708 : INFO : processed documents up to #5403\n",
            "2021-11-20 17:42:53,712 : INFO : topic #0(189.503): 0.580*\"G7-C\" + 0.460*\"C-C\" + 0.449*\"Dm-G7\" + 0.198*\"G7-G7\" + 0.165*\"D7-G7\" + 0.159*\"A7-Dm\" + 0.139*\"C-G7\" + 0.122*\"C7-F\" + 0.109*\"C-A7\" + 0.108*\"A7-D7\"\n",
            "2021-11-20 17:42:53,715 : INFO : topic #1(115.745): -0.606*\"C-C\" + 0.604*\"Dm-G7\" + -0.288*\"G7-G7\" + 0.212*\"A7-Dm\" + 0.146*\"Em-A7\" + 0.114*\"Am-Dm\" + -0.113*\"C-G7\" + -0.113*\"D7-G7\" + 0.095*\"C-Am\" + -0.092*\"D7-D7\"\n",
            "2021-11-20 17:42:53,718 : INFO : topic #2(83.268): 0.527*\"Am-Am\" + -0.418*\"C-C\" + 0.366*\"E7-Am\" + 0.290*\"D7-G7\" + -0.288*\"Dm-G7\" + 0.216*\"G7-C\" + 0.200*\"A7-D7\" + 0.140*\"Bm7b5-E7\" + 0.118*\"Am-D7\" + 0.118*\"D7-D7\"\n",
            "2021-11-20 17:42:53,722 : INFO : topic #3(80.782): 0.600*\"Am-Am\" + -0.388*\"G7-C\" + 0.376*\"C-C\" + 0.266*\"E7-Am\" + -0.224*\"D7-G7\" + 0.182*\"Dm-G7\" + -0.168*\"A7-D7\" + 0.154*\"Bm7b5-E7\" + -0.147*\"C-G7\" + 0.120*\"Dm-Dm\"\n",
            "2021-11-20 17:42:53,727 : INFO : topic #4(62.316): -0.377*\"A7-Dm\" + -0.352*\"D7-G7\" + 0.321*\"C-G7\" + -0.318*\"A7-D7\" + -0.276*\"D7-D7\" + 0.260*\"G7-C\" + -0.240*\"C-A7\" + 0.216*\"C7-F\" + 0.181*\"C-Am\" + 0.180*\"Am-Am\"\n",
            "2021-11-20 17:42:53,734 : INFO : LsiModel lifecycle event {'msg': 'trained LsiModel(num_terms=1466, num_topics=100, decay=1.0, chunksize=20000) in 0.66s', 'datetime': '2021-11-20T17:42:53.733957', 'gensim': '4.1.2', 'python': '3.7.12 (default, Sep 10 2021, 00:21:48) \\n[GCC 7.5.0]', 'platform': 'Linux-5.4.104+-x86_64-with-Ubuntu-18.04-bionic', 'event': 'created'}\n"
          ]
        }
      ]
    },
    {
      "cell_type": "code",
      "metadata": {
        "id": "EvxSQFfBBNMJ"
      },
      "source": [
        "#index_lsi = similarities.Similarity('/content/index/index_lsi', bow_corpus, num_features=len(dictionary))"
      ],
      "execution_count": 412,
      "outputs": []
    },
    {
      "cell_type": "code",
      "metadata": {
        "colab": {
          "base_uri": "https://localhost:8080/"
        },
        "id": "3saA6NY5Tzer",
        "outputId": "23638584-3022-427e-ed3d-a2a276416a47"
      },
      "source": [
        "index_lsi = similarities.SparseMatrixSimilarity(lsi[bow_corpus], num_features = len(dictionary))\n",
        "#index_lsi = similarities.MatrixSimilarity(lsi[bow_corpus])  # transform corpus to LSI space and index it\n"
      ],
      "execution_count": 413,
      "outputs": [
        {
          "output_type": "stream",
          "name": "stderr",
          "text": [
            "2021-11-20 17:42:53,764 : INFO : creating sparse index\n",
            "2021-11-20 17:42:53,769 : INFO : creating sparse matrix from corpus\n",
            "2021-11-20 17:42:53,782 : INFO : PROGRESS: at document #0\n",
            "2021-11-20 17:42:54,856 : INFO : created <5403x1466 sparse matrix of type '<class 'numpy.float32'>'\n",
            "\twith 540299 stored elements in Compressed Sparse Row format>\n"
          ]
        }
      ]
    },
    {
      "cell_type": "code",
      "metadata": {
        "colab": {
          "base_uri": "https://localhost:8080/"
        },
        "id": "F5pbDMVyfEtS",
        "outputId": "e1c0443d-e6ad-4d28-8129-1bb38b9da048"
      },
      "source": [
        "lsi.save('/content/index/lsi.model')\n",
        "index_lsi.save('/content/index/lsi_matrixsim.index')\n"
      ],
      "execution_count": 414,
      "outputs": [
        {
          "output_type": "stream",
          "name": "stderr",
          "text": [
            "2021-11-20 17:42:54,871 : INFO : Projection lifecycle event {'fname_or_handle': '/content/index/lsi.model.projection', 'separately': 'None', 'sep_limit': 10485760, 'ignore': frozenset(), 'datetime': '2021-11-20T17:42:54.871028', 'gensim': '4.1.2', 'python': '3.7.12 (default, Sep 10 2021, 00:21:48) \\n[GCC 7.5.0]', 'platform': 'Linux-5.4.104+-x86_64-with-Ubuntu-18.04-bionic', 'event': 'saving'}\n",
            "2021-11-20 17:42:54,877 : INFO : saved /content/index/lsi.model.projection\n",
            "2021-11-20 17:42:54,881 : INFO : LsiModel lifecycle event {'fname_or_handle': '/content/index/lsi.model', 'separately': 'None', 'sep_limit': 10485760, 'ignore': ['projection', 'dispatcher'], 'datetime': '2021-11-20T17:42:54.881207', 'gensim': '4.1.2', 'python': '3.7.12 (default, Sep 10 2021, 00:21:48) \\n[GCC 7.5.0]', 'platform': 'Linux-5.4.104+-x86_64-with-Ubuntu-18.04-bionic', 'event': 'saving'}\n",
            "2021-11-20 17:42:54,884 : INFO : not storing attribute projection\n",
            "2021-11-20 17:42:54,886 : INFO : not storing attribute dispatcher\n",
            "2021-11-20 17:42:54,894 : INFO : saved /content/index/lsi.model\n",
            "2021-11-20 17:42:54,897 : INFO : SparseMatrixSimilarity lifecycle event {'fname_or_handle': '/content/index/lsi_matrixsim.index', 'separately': 'None', 'sep_limit': 10485760, 'ignore': frozenset(), 'datetime': '2021-11-20T17:42:54.897069', 'gensim': '4.1.2', 'python': '3.7.12 (default, Sep 10 2021, 00:21:48) \\n[GCC 7.5.0]', 'platform': 'Linux-5.4.104+-x86_64-with-Ubuntu-18.04-bionic', 'event': 'saving'}\n",
            "2021-11-20 17:42:54,909 : INFO : saved /content/index/lsi_matrixsim.index\n"
          ]
        }
      ]
    },
    {
      "cell_type": "code",
      "metadata": {
        "colab": {
          "base_uri": "https://localhost:8080/"
        },
        "id": "1udPIceqYk6S",
        "outputId": "217b56bb-4c76-4c55-cd90-1583ba6374bc"
      },
      "source": [
        "!ls -la /content/index"
      ],
      "execution_count": 415,
      "outputs": [
        {
          "output_type": "stream",
          "name": "stdout",
          "text": [
            "total 5964\n",
            "drwxr-xr-x 2 root root    4096 Nov 20 17:42 .\n",
            "drwxr-xr-x 1 root root    4096 Nov 20 17:42 ..\n",
            "-rw-r--r-- 1 root root 4344909 Nov 20 17:42 lsi_matrixsim.index\n",
            "-rw-r--r-- 1 root root   44030 Nov 20 17:42 lsi.model\n",
            "-rw-r--r-- 1 root root 1174291 Nov 20 17:42 lsi.model.projection\n",
            "-rw-r--r-- 1 root root  478329 Nov 20 17:42 tfidf.index\n",
            "-rw-r--r-- 1 root root   52277 Nov 20 17:42 tfidf.model\n"
          ]
        }
      ]
    },
    {
      "cell_type": "markdown",
      "metadata": {
        "id": "pDxTCAGv9MmZ"
      },
      "source": [
        "### Test for single tunes"
      ]
    },
    {
      "cell_type": "code",
      "metadata": {
        "colab": {
          "base_uri": "https://localhost:8080/"
        },
        "id": "khASSJ1eEuf5",
        "outputId": "0ff4cd9a-2da3-4bbf-95c8-172a8f7d848f"
      },
      "source": [
        "%%time\n",
        "df_sim = get_sim_scores(tunes_eval_list, index=index_lsi, model=lsi)"
      ],
      "execution_count": 416,
      "outputs": [
        {
          "output_type": "stream",
          "name": "stdout",
          "text": [
            "\n",
            "--------------------------------------------------\n",
            "3752 Sweet Sue, Just You, section1 (A)\n",
            "3753 Sweet Sue, Just You, section2 (A)\n",
            "3754 Sweet Sue, Just You, section3 (B)\n",
            "3755 Sweet Sue, Just You, section4 (A)\n",
            "\n",
            "--------------------------------------------------\n",
            "3866 These Foolish Things, section1 (A)\n",
            "3867 These Foolish Things, section2 (A)\n",
            "3868 These Foolish Things, section3 (B)\n",
            "3869 These Foolish Things, section4 (A)\n",
            "\n",
            "--------------------------------------------------\n",
            "496 Blue Moon, section1 (A)\n",
            "497 Blue Moon, section2 (A)\n",
            "498 Blue Moon, section3 (B)\n",
            "499 Blue Moon, section4 (A)\n",
            "\n",
            "--------------------------------------------------\n",
            "198 All Of Me, section1 (A)\n",
            "199 All Of Me, section2 (B)\n",
            "200 All Of Me, section3 (A)\n",
            "201 All Of Me, section4 (C)\n",
            "\n",
            "--------------------------------------------------\n",
            "188 All God's Chillun Got Rhythm, section1 (A)\n",
            "189 All God's Chillun Got Rhythm, section2 (B)\n",
            "190 All God's Chillun Got Rhythm, section3 (A)\n",
            "191 All God's Chillun Got Rhythm, section4 (C)\n",
            "\n",
            "--------------------------------------------------\n",
            "1647 I Got Rhythm, section1 (A)\n",
            "1648 I Got Rhythm, section2 (A)\n",
            "1649 I Got Rhythm, section3 (B)\n",
            "1650 I Got Rhythm, section4 (A)\n",
            "4821 I Got Rhythm, section1 (A)\n",
            "4822 I Got Rhythm, section2 (A)\n",
            "4823 I Got Rhythm, section3 (B)\n",
            "4824 I Got Rhythm, section4 (A)\n",
            "\n",
            "--------------------------------------------------\n",
            "653 Bye Bye Blackbird, section1 (A)\n",
            "654 Bye Bye Blackbird, section2 (B)\n",
            "4569 Bye Bye Blackbird, section1 (A)\n",
            "4570 Bye Bye Blackbird, section2 (B)\n",
            "4571 Bye Bye Blackbird, section3 (C)\n",
            "\n",
            "--------------------------------------------------\n",
            "5056 Old Fashioned Love, section0 (nan)\n",
            "\n",
            "--------------------------------------------------\n",
            "997 Dinah, section1 (A)\n",
            "998 Dinah, section2 (A)\n",
            "999 Dinah, section3 (B)\n",
            "1000 Dinah, section4 (A)\n",
            "\n",
            "--------------------------------------------------\n",
            "1538 Honeysuckle Rose, section1 (A)\n",
            "1539 Honeysuckle Rose, section2 (A)\n",
            "1540 Honeysuckle Rose, section3 (B)\n",
            "1541 Honeysuckle Rose, section4 (A)\n",
            "4793 Honeysuckle Rose, section1 (A)\n",
            "4794 Honeysuckle Rose, section2 (A)\n",
            "4795 Honeysuckle Rose, section3 (B)\n",
            "4796 Honeysuckle Rose, section4 (A)\n",
            "\n",
            "--------------------------------------------------\n",
            "2676 Misty, section1 (A)\n",
            "2677 Misty, section2 (A)\n",
            "2678 Misty, section3 (B)\n",
            "2679 Misty, section4 (A)\n",
            "\n",
            "--------------------------------------------------\n",
            "4152 We'll Be Together Again, section1 (A)\n",
            "4153 We'll Be Together Again, section2 (A)\n",
            "4154 We'll Be Together Again, section3 (B)\n",
            "4155 We'll Be Together Again, section4 (A)\n",
            "\n",
            "--------------------------------------------------\n",
            "1125 East Of The Sun, section1 (A)\n",
            "1126 East Of The Sun, section2 (B)\n",
            "1127 East Of The Sun, section3 (A)\n",
            "1128 East Of The Sun, section4 (C)\n",
            "\n",
            "--------------------------------------------------\n",
            "3584 Sophisticated Lady, section1 (A)\n",
            "3585 Sophisticated Lady, section2 (A)\n",
            "3586 Sophisticated Lady, section3 (B)\n",
            "3587 Sophisticated Lady, section4 (A)\n",
            "\n",
            "--------------------------------------------------\n",
            "3148 Perdido, section1 (A)\n",
            "3149 Perdido, section2 (A)\n",
            "3150 Perdido, section3 (B)\n",
            "3151 Perdido, section4 (A)\n",
            "CPU times: user 12.2 s, sys: 278 ms, total: 12.5 s\n",
            "Wall time: 12.3 s\n"
          ]
        }
      ]
    },
    {
      "cell_type": "code",
      "metadata": {
        "colab": {
          "base_uri": "https://localhost:8080/",
          "height": 424
        },
        "id": "FL1pBuor_YDw",
        "outputId": "29fd6361-fbe3-4d02-9575-d406807f87ba"
      },
      "source": [
        "df_sim"
      ],
      "execution_count": 417,
      "outputs": [
        {
          "output_type": "execute_result",
          "data": {
            "text/html": [
              "<div>\n",
              "<style scoped>\n",
              "    .dataframe tbody tr th:only-of-type {\n",
              "        vertical-align: middle;\n",
              "    }\n",
              "\n",
              "    .dataframe tbody tr th {\n",
              "        vertical-align: top;\n",
              "    }\n",
              "\n",
              "    .dataframe thead th {\n",
              "        text-align: right;\n",
              "    }\n",
              "</style>\n",
              "<table border=\"1\" class=\"dataframe\">\n",
              "  <thead>\n",
              "    <tr style=\"text-align: right;\">\n",
              "      <th></th>\n",
              "      <th>reference_title</th>\n",
              "      <th>similar_title</th>\n",
              "      <th>ref_section</th>\n",
              "      <th>similar_section</th>\n",
              "      <th>score</th>\n",
              "    </tr>\n",
              "  </thead>\n",
              "  <tbody>\n",
              "    <tr>\n",
              "      <th>0</th>\n",
              "      <td>Sweet Sue, Just You</td>\n",
              "      <td>Get Me To The Church On Time</td>\n",
              "      <td>Sweet Sue, Just You, section1 (A)</td>\n",
              "      <td>Get Me To The Church On Time, section1 (A)</td>\n",
              "      <td>0.960390</td>\n",
              "    </tr>\n",
              "    <tr>\n",
              "      <th>1</th>\n",
              "      <td>Sweet Sue, Just You</td>\n",
              "      <td>Get Me To The Church On Time</td>\n",
              "      <td>Sweet Sue, Just You, section1 (A)</td>\n",
              "      <td>Get Me To The Church On Time, section2 (A)</td>\n",
              "      <td>0.960390</td>\n",
              "    </tr>\n",
              "    <tr>\n",
              "      <th>2</th>\n",
              "      <td>Sweet Sue, Just You</td>\n",
              "      <td>My Secret Love</td>\n",
              "      <td>Sweet Sue, Just You, section1 (A)</td>\n",
              "      <td>My Secret Love, section2 (A)</td>\n",
              "      <td>0.959637</td>\n",
              "    </tr>\n",
              "    <tr>\n",
              "      <th>3</th>\n",
              "      <td>Sweet Sue, Just You</td>\n",
              "      <td>Just One More Chance</td>\n",
              "      <td>Sweet Sue, Just You, section1 (A)</td>\n",
              "      <td>Just One More Chance, section1 (A)</td>\n",
              "      <td>0.949098</td>\n",
              "    </tr>\n",
              "    <tr>\n",
              "      <th>4</th>\n",
              "      <td>Sweet Sue, Just You</td>\n",
              "      <td>It's De-lovely</td>\n",
              "      <td>Sweet Sue, Just You, section1 (A)</td>\n",
              "      <td>It's De-lovely, section3 (A)</td>\n",
              "      <td>0.948672</td>\n",
              "    </tr>\n",
              "    <tr>\n",
              "      <th>...</th>\n",
              "      <td>...</td>\n",
              "      <td>...</td>\n",
              "      <td>...</td>\n",
              "      <td>...</td>\n",
              "      <td>...</td>\n",
              "    </tr>\n",
              "    <tr>\n",
              "      <th>2701</th>\n",
              "      <td>Perdido</td>\n",
              "      <td>Once In A While (Ballad)</td>\n",
              "      <td>Perdido, section4 (A)</td>\n",
              "      <td>Once In A While (Ballad), section4 (A)</td>\n",
              "      <td>0.772617</td>\n",
              "    </tr>\n",
              "    <tr>\n",
              "      <th>2702</th>\n",
              "      <td>Perdido</td>\n",
              "      <td>I Wish I Knew</td>\n",
              "      <td>Perdido, section4 (A)</td>\n",
              "      <td>I Wish I Knew, section1 (A)</td>\n",
              "      <td>0.769545</td>\n",
              "    </tr>\n",
              "    <tr>\n",
              "      <th>2703</th>\n",
              "      <td>Perdido</td>\n",
              "      <td>I Wish I Knew</td>\n",
              "      <td>Perdido, section4 (A)</td>\n",
              "      <td>I Wish I Knew, section3 (A)</td>\n",
              "      <td>0.769545</td>\n",
              "    </tr>\n",
              "    <tr>\n",
              "      <th>2704</th>\n",
              "      <td>Perdido</td>\n",
              "      <td>I Cried For You</td>\n",
              "      <td>Perdido, section4 (A)</td>\n",
              "      <td>I Cried For You, section3 (A)</td>\n",
              "      <td>0.768925</td>\n",
              "    </tr>\n",
              "    <tr>\n",
              "      <th>2705</th>\n",
              "      <td>Perdido</td>\n",
              "      <td>If Ever I Would Leave You</td>\n",
              "      <td>Perdido, section4 (A)</td>\n",
              "      <td>If Ever I Would Leave You, section2 (A)</td>\n",
              "      <td>0.768477</td>\n",
              "    </tr>\n",
              "  </tbody>\n",
              "</table>\n",
              "<p>2706 rows × 5 columns</p>\n",
              "</div>"
            ],
            "text/plain": [
              "          reference_title  ...     score\n",
              "0     Sweet Sue, Just You  ...  0.960390\n",
              "1     Sweet Sue, Just You  ...  0.960390\n",
              "2     Sweet Sue, Just You  ...  0.959637\n",
              "3     Sweet Sue, Just You  ...  0.949098\n",
              "4     Sweet Sue, Just You  ...  0.948672\n",
              "...                   ...  ...       ...\n",
              "2701              Perdido  ...  0.772617\n",
              "2702              Perdido  ...  0.769545\n",
              "2703              Perdido  ...  0.769545\n",
              "2704              Perdido  ...  0.768925\n",
              "2705              Perdido  ...  0.768477\n",
              "\n",
              "[2706 rows x 5 columns]"
            ]
          },
          "metadata": {},
          "execution_count": 417
        }
      ]
    },
    {
      "cell_type": "code",
      "metadata": {
        "colab": {
          "base_uri": "https://localhost:8080/",
          "height": 542
        },
        "id": "X31lkvUsDAsU",
        "outputId": "e352bb83-58be-4d7e-966a-f1e151c44041"
      },
      "source": [
        "import plotly.express as px\n",
        "fig = px.histogram(df_sim, x=\"score\", nbins=50)\n",
        "fig.show()"
      ],
      "execution_count": 418,
      "outputs": [
        {
          "output_type": "display_data",
          "data": {
            "text/html": [
              "<html>\n",
              "<head><meta charset=\"utf-8\" /></head>\n",
              "<body>\n",
              "    <div>\n",
              "            <script src=\"https://cdnjs.cloudflare.com/ajax/libs/mathjax/2.7.5/MathJax.js?config=TeX-AMS-MML_SVG\"></script><script type=\"text/javascript\">if (window.MathJax) {MathJax.Hub.Config({SVG: {font: \"STIX-Web\"}});}</script>\n",
              "                <script type=\"text/javascript\">window.PlotlyConfig = {MathJaxConfig: 'local'};</script>\n",
              "        <script src=\"https://cdn.plot.ly/plotly-latest.min.js\"></script>    \n",
              "            <div id=\"b935600e-e5de-4250-908a-af8516b3b821\" class=\"plotly-graph-div\" style=\"height:525px; width:100%;\"></div>\n",
              "            <script type=\"text/javascript\">\n",
              "                \n",
              "                    window.PLOTLYENV=window.PLOTLYENV || {};\n",
              "                    \n",
              "                if (document.getElementById(\"b935600e-e5de-4250-908a-af8516b3b821\")) {\n",
              "                    Plotly.newPlot(\n",
              "                        'b935600e-e5de-4250-908a-af8516b3b821',\n",
              "                        [{\"alignmentgroup\": \"True\", \"bingroup\": \"x\", \"hoverlabel\": {\"namelength\": 0}, \"hovertemplate\": \"score=%{x}<br>count=%{y}\", \"legendgroup\": \"\", \"marker\": {\"color\": \"#636efa\"}, \"name\": \"\", \"nbinsx\": 50, \"offsetgroup\": \"\", \"orientation\": \"v\", \"showlegend\": false, \"type\": \"histogram\", \"x\": [0.9603897929191589, 0.9603897929191589, 0.9596368670463562, 0.9490982890129089, 0.9486720561981201, 0.9430131316184998, 0.9367349743843079, 0.9367349743843079, 0.9350928068161011, 0.9336555600166321, 0.9336555600166321, 0.9334015846252441, 0.9275630712509155, 0.9275630712509155, 0.9259862303733826, 0.9163550734519958, 0.9138359427452087, 0.9130266904830933, 0.9122647643089294, 0.9110797047615051, 0.9110797047615051, 0.9110797047615051, 0.9093136191368103, 0.9092849493026733, 0.9085386991500854, 0.9039859175682068, 0.9032535552978516, 0.8987628817558289, 0.8987628817558289, 0.8987628817558289, 0.8983058929443359, 0.897299587726593, 0.897299587726593, 0.897299587726593, 0.8969883918762207, 0.8969883918762207, 0.8969883918762207, 0.8966277837753296, 0.8966277837753296, 0.893672525882721, 0.8885243535041809, 0.9603897929191589, 0.9603897929191589, 0.9596368670463562, 0.9490982890129089, 0.9486720561981201, 0.9430131316184998, 0.9367349743843079, 0.9367349743843079, 0.9350928068161011, 0.9336555600166321, 0.9336555600166321, 0.9334015846252441, 0.9275630712509155, 0.9275630712509155, 0.9259862303733826, 0.9163550734519958, 0.9138359427452087, 0.9130266904830933, 0.9122647643089294, 0.9110797047615051, 0.9110797047615051, 0.9110797047615051, 0.9093136191368103, 0.9092849493026733, 0.9085386991500854, 0.9039859175682068, 0.9032535552978516, 0.8987628817558289, 0.8987628817558289, 0.8987628817558289, 0.8983058929443359, 0.897299587726593, 0.897299587726593, 0.897299587726593, 0.8969883918762207, 0.8969883918762207, 0.8969883918762207, 0.8966277837753296, 0.8966277837753296, 0.893672525882721, 0.8885243535041809, 0.9083908200263977, 0.6892822980880737, 0.6744970679283142, 0.6744970679283142, 0.6691686511039734, 0.6691686511039734, 0.6308889389038086, 0.6308889389038086, 0.6140512824058533, 0.6140512824058533, 0.6044451594352722, 0.6044451594352722, 0.5799993276596069, 0.5600227117538452, 0.5569868087768555, 0.5562173128128052, 0.541269063949585, 0.541269063949585, 0.5313282608985901, 0.5220966935157776, 0.5175834894180298, 0.501808226108551, 0.5017706155776978, 0.4975155293941498, 0.4950551986694336, 0.49384698271751404, 0.4895397126674652, 0.48584094643592834, 0.48584094643592834, 0.48420751094818115, 0.48420751094818115, 0.4827525317668915, 0.48232653737068176, 0.48136457800865173, 0.4788898229598999, 0.4780922830104828, 0.4780922830104828, 0.47774598002433777, 0.477601021528244, 0.4747925400733948, 0.46775850653648376, 0.9603897929191589, 0.9603897929191589, 0.9596368670463562, 0.9490982890129089, 0.9486720561981201, 0.9430131316184998, 0.9367349743843079, 0.9367349743843079, 0.9350928068161011, 0.9336555600166321, 0.9336555600166321, 0.9334015846252441, 0.9275630712509155, 0.9275630712509155, 0.9259862303733826, 0.9163550734519958, 0.9138359427452087, 0.9130266904830933, 0.9122647643089294, 0.9110797047615051, 0.9110797047615051, 0.9110797047615051, 0.9093136191368103, 0.9092849493026733, 0.9085386991500854, 0.9039859175682068, 0.9032535552978516, 0.8987628817558289, 0.8987628817558289, 0.8987628817558289, 0.8983058929443359, 0.897299587726593, 0.897299587726593, 0.897299587726593, 0.8969883918762207, 0.8969883918762207, 0.8969883918762207, 0.8966277837753296, 0.8966277837753296, 0.893672525882721, 0.8885243535041809, 0.8907955288887024, 0.8686787486076355, 0.8658530116081238, 0.8615575432777405, 0.8595842123031616, 0.8561537861824036, 0.8459426760673523, 0.8436112403869629, 0.8436112403869629, 0.8381664752960205, 0.8367019891738892, 0.8364675045013428, 0.8359368443489075, 0.833850085735321, 0.833850085735321, 0.8305734395980835, 0.8295788168907166, 0.8295788168907166, 0.8287803530693054, 0.8279054760932922, 0.8273970484733582, 0.8262144327163696, 0.8239368796348572, 0.8228485584259033, 0.8206513524055481, 0.8206513524055481, 0.8205836415290833, 0.8205836415290833, 0.8205567598342896, 0.8185685276985168, 0.817376434803009, 0.817376434803009, 0.8147853016853333, 0.8114624619483948, 0.8109846115112305, 0.8109846115112305, 0.8090009689331055, 0.8053622245788574, 0.8047543168067932, 0.8040045499801636, 0.8025395274162292, 0.866081953048706, 0.8502364158630371, 0.8455507755279541, 0.8403977751731873, 0.8394649624824524, 0.8316739797592163, 0.8304170966148376, 0.8287004232406616, 0.8264719843864441, 0.8264719843864441, 0.8256426453590393, 0.8256426453590393, 0.81730717420578, 0.81730717420578, 0.81730717420578, 0.8144709467887878, 0.814354419708252, 0.8115172982215881, 0.8112841844558716, 0.8101628422737122, 0.8097310662269592, 0.8093534708023071, 0.8085016012191772, 0.8085016012191772, 0.8079755902290344, 0.8054144978523254, 0.8050260543823242, 0.8050260543823242, 0.804474413394928, 0.804474413394928, 0.8036267757415771, 0.8029249906539917, 0.8006934523582458, 0.799274742603302, 0.7974520325660706, 0.79654860496521, 0.7964515686035156, 0.7953552007675171, 0.7945224642753601, 0.7945224642753601, 0.7928169369697571, 0.9137966632843018, 0.7486191391944885, 0.7413578629493713, 0.7226026058197021, 0.7226026058197021, 0.7119961977005005, 0.6724464893341064, 0.6371688842773438, 0.6279765963554382, 0.6269779205322266, 0.6242493987083435, 0.6235969662666321, 0.6088288426399231, 0.6079556941986084, 0.6078459024429321, 0.6071953177452087, 0.6047945618629456, 0.6010590195655823, 0.5997142195701599, 0.5954991579055786, 0.5921208262443542, 0.5887143611907959, 0.585565447807312, 0.5841023921966553, 0.5800876021385193, 0.5799058675765991, 0.5762414932250977, 0.5665117502212524, 0.5613124966621399, 0.5605133771896362, 0.5544919967651367, 0.5492888689041138, 0.5486665964126587, 0.5464122295379639, 0.5406039357185364, 0.5360281467437744, 0.5342859029769897, 0.5333437323570251, 0.5332705974578857, 0.5310524702072144, 0.5307227969169617, 0.8989863991737366, 0.8842965960502625, 0.8842965960502625, 0.8829227685928345, 0.8797041177749634, 0.873078465461731, 0.8729995489120483, 0.8684354424476624, 0.8665191531181335, 0.8634820580482483, 0.8634820580482483, 0.8591344952583313, 0.8577852845191956, 0.8553409576416016, 0.8548346757888794, 0.8531490564346313, 0.8521384596824646, 0.8521384596824646, 0.8514794111251831, 0.848381757736206, 0.8479813933372498, 0.8431314826011658, 0.8425573110580444, 0.8405499458312988, 0.839347243309021, 0.8390583992004395, 0.8390583992004395, 0.8382028341293335, 0.8377332091331482, 0.837397038936615, 0.8373827934265137, 0.8373827934265137, 0.8367195129394531, 0.8362216949462891, 0.8355523347854614, 0.8355523347854614, 0.834414541721344, 0.8340767025947571, 0.8330547213554382, 0.8330547213554382, 0.8330547213554382, 0.9639511704444885, 0.9454232454299927, 0.9454232454299927, 0.9359661936759949, 0.9359661936759949, 0.9320032596588135, 0.9320032596588135, 0.930902898311615, 0.9303133487701416, 0.9303133487701416, 0.9297633767127991, 0.9292515516281128, 0.9241241812705994, 0.9203572273254395, 0.9203508496284485, 0.9143587946891785, 0.9143587946891785, 0.9143587946891785, 0.9133769869804382, 0.909134566783905, 0.908494234085083, 0.9084905982017517, 0.9037083387374878, 0.8978613615036011, 0.8978613615036011, 0.8969534039497375, 0.8931939005851746, 0.8913031816482544, 0.8913031816482544, 0.8895377516746521, 0.8840441703796387, 0.8804712295532227, 0.8790454268455505, 0.8767859935760498, 0.8750954866409302, 0.8745644092559814, 0.872667670249939, 0.8710883259773254, 0.8708570599555969, 0.8689874410629272, 0.8685586452484131, 0.9069276452064514, 0.9069276452064514, 0.8894567489624023, 0.8867495656013489, 0.8867495656013489, 0.8778297901153564, 0.8768208622932434, 0.8768208622932434, 0.8768208622932434, 0.8739653825759888, 0.8726027607917786, 0.8679790496826172, 0.8679790496826172, 0.8673338294029236, 0.8622336387634277, 0.8526515960693359, 0.8526515960693359, 0.8521922826766968, 0.8497684001922607, 0.8497684001922607, 0.8494465351104736, 0.8434486985206604, 0.8434486985206604, 0.8399019241333008, 0.8396686911582947, 0.8392660617828369, 0.8356196284294128, 0.8344739675521851, 0.8343644738197327, 0.8327244520187378, 0.8318268656730652, 0.8298237919807434, 0.8260149359703064, 0.8218374848365784, 0.8216177821159363, 0.8213514685630798, 0.820934534072876, 0.818731427192688, 0.8182553052902222, 0.8172691464424133, 0.8152700662612915, 0.9124268889427185, 0.8724669814109802, 0.8724669814109802, 0.8711269497871399, 0.8676756620407104, 0.8665508031845093, 0.8623180985450745, 0.8525009155273438, 0.8506515622138977, 0.8499382734298706, 0.8495979905128479, 0.8495979905128479, 0.8494677543640137, 0.8449647426605225, 0.8449001312255859, 0.8448456525802612, 0.8424260020256042, 0.8424260020256042, 0.8406462073326111, 0.8396255373954773, 0.83377605676651, 0.8245497941970825, 0.8243478536605835, 0.823589026927948, 0.823589026927948, 0.823589026927948, 0.8210881352424622, 0.8189089894294739, 0.8180238604545593, 0.8163037896156311, 0.8155294060707092, 0.8155294060707092, 0.8140194416046143, 0.8133530616760254, 0.8130448460578918, 0.8080211281776428, 0.8078330755233765, 0.8078253865242004, 0.8074654340744019, 0.8071272373199463, 0.8064202666282654, 0.9639511704444885, 0.9454232454299927, 0.9454232454299927, 0.9359661936759949, 0.9359661936759949, 0.9320032596588135, 0.9320032596588135, 0.930902898311615, 0.9303133487701416, 0.9303133487701416, 0.9297633767127991, 0.9292515516281128, 0.9241241812705994, 0.9203572273254395, 0.9203508496284485, 0.9143587946891785, 0.9143587946891785, 0.9143587946891785, 0.9133769869804382, 0.909134566783905, 0.908494234085083, 0.9084905982017517, 0.9037083387374878, 0.8978613615036011, 0.8978613615036011, 0.8969534039497375, 0.8931939005851746, 0.8913031816482544, 0.8913031816482544, 0.8895377516746521, 0.8840441703796387, 0.8804712295532227, 0.8790454268455505, 0.8767859935760498, 0.8750954866409302, 0.8745644092559814, 0.872667670249939, 0.8710883259773254, 0.8708570599555969, 0.8689874410629272, 0.8685586452484131, 0.7597947120666504, 0.7592410445213318, 0.7348278760910034, 0.7220203280448914, 0.7152755260467529, 0.6910442113876343, 0.6849564909934998, 0.6512226462364197, 0.6436412334442139, 0.6436412334442139, 0.633464515209198, 0.6169988512992859, 0.6066805720329285, 0.6044322848320007, 0.5973392724990845, 0.5954530239105225, 0.5894150733947754, 0.5824142098426819, 0.5779548287391663, 0.5758692622184753, 0.5739321708679199, 0.5739321708679199, 0.5720873475074768, 0.5720873475074768, 0.5720873475074768, 0.570374071598053, 0.5603988170623779, 0.5590192079544067, 0.5590192079544067, 0.555704653263092, 0.5532355308532715, 0.540693461894989, 0.540165364742279, 0.540165364742279, 0.5387300252914429, 0.5382022857666016, 0.5351362228393555, 0.5283512473106384, 0.5283512473106384, 0.5264660716056824, 0.5263280868530273, 0.8810736536979675, 0.8557484745979309, 0.8538302779197693, 0.8285835981369019, 0.825713574886322, 0.7990244030952454, 0.7726912498474121, 0.7629945278167725, 0.7626705169677734, 0.7582248449325562, 0.7272623181343079, 0.7243239879608154, 0.7228139638900757, 0.7175064086914062, 0.7106215357780457, 0.7106215357780457, 0.7106215357780457, 0.7003605961799622, 0.6981807947158813, 0.696895956993103, 0.6942131519317627, 0.6920235753059387, 0.6916059851646423, 0.6844950318336487, 0.6761110424995422, 0.6753617525100708, 0.6747928261756897, 0.6744463443756104, 0.6711620092391968, 0.6683313846588135, 0.6610170602798462, 0.6579933762550354, 0.6545813083648682, 0.6525100469589233, 0.6446744799613953, 0.6442387700080872, 0.643355131149292, 0.6428331732749939, 0.6406041979789734, 0.636038064956665, 0.6349035501480103, 0.7597947120666504, 0.7592410445213318, 0.7348278760910034, 0.7220203280448914, 0.7152755260467529, 0.6910442113876343, 0.6849564909934998, 0.6512226462364197, 0.6436412334442139, 0.6436412334442139, 0.633464515209198, 0.6169988512992859, 0.6066805720329285, 0.6044322848320007, 0.5973392724990845, 0.5954530239105225, 0.5894150733947754, 0.5824142098426819, 0.5779548287391663, 0.5758692622184753, 0.5739321708679199, 0.5739321708679199, 0.5720873475074768, 0.5720873475074768, 0.5720873475074768, 0.570374071598053, 0.5603988170623779, 0.5590192079544067, 0.5590192079544067, 0.555704653263092, 0.5532355308532715, 0.540693461894989, 0.540165364742279, 0.540165364742279, 0.5387300252914429, 0.5382022857666016, 0.5351362228393555, 0.5283512473106384, 0.5283512473106384, 0.5264660716056824, 0.5263280868530273, 0.8283382654190063, 0.8184557557106018, 0.8156203031539917, 0.8149928450584412, 0.8147852420806885, 0.8142934441566467, 0.7973473072052002, 0.7953937649726868, 0.7950514554977417, 0.7900000214576721, 0.7848013043403625, 0.7833788990974426, 0.7822920083999634, 0.7792969346046448, 0.7791678309440613, 0.7754665613174438, 0.7754665613174438, 0.7754665613174438, 0.7724617719650269, 0.7724617719650269, 0.7722023129463196, 0.7718208432197571, 0.7712203860282898, 0.7704561948776245, 0.7649807929992676, 0.7644744515419006, 0.7601975202560425, 0.7585093975067139, 0.7585093975067139, 0.7576209902763367, 0.755286693572998, 0.7542029023170471, 0.7530081868171692, 0.7530081868171692, 0.7514850497245789, 0.748868465423584, 0.7476551532745361, 0.7473645210266113, 0.7465714812278748, 0.7460702657699585, 0.7460474371910095, 0.9604399800300598, 0.9321870803833008, 0.9308000802993774, 0.9279136061668396, 0.9244577884674072, 0.9165378212928772, 0.9165018200874329, 0.908553421497345, 0.9061680436134338, 0.9061680436134338, 0.8968114852905273, 0.8968114852905273, 0.8950813412666321, 0.8945716619491577, 0.8917559385299683, 0.8896804451942444, 0.8885776996612549, 0.8852490782737732, 0.8852490782737732, 0.8829011917114258, 0.876563310623169, 0.874367356300354, 0.8707394003868103, 0.868412971496582, 0.8649264574050903, 0.8641759753227234, 0.863922119140625, 0.8620896339416504, 0.8620896339416504, 0.8591016530990601, 0.8563835620880127, 0.8537299633026123, 0.8521324396133423, 0.8473411798477173, 0.8457589149475098, 0.8439750671386719, 0.8439750671386719, 0.8438048362731934, 0.8414424061775208, 0.8413196206092834, 0.8405988812446594, 0.8761179447174072, 0.7252712249755859, 0.7218485474586487, 0.7169108986854553, 0.7166244983673096, 0.713799774646759, 0.7131028771400452, 0.7010193467140198, 0.7003538608551025, 0.6994172930717468, 0.6994172930717468, 0.6907466053962708, 0.6821209192276001, 0.6813034415245056, 0.6774143576622009, 0.6751758456230164, 0.6734523177146912, 0.6694856286048889, 0.6677552461624146, 0.6603260040283203, 0.6601665019989014, 0.6564138531684875, 0.6555695533752441, 0.6551176309585571, 0.6532095074653625, 0.6505417227745056, 0.6505417227745056, 0.6487429738044739, 0.6446440815925598, 0.6434057354927063, 0.6416118144989014, 0.6416118144989014, 0.6415011882781982, 0.639880359172821, 0.639468789100647, 0.6375715136528015, 0.6371781229972839, 0.6369883418083191, 0.6363099813461304, 0.6313379406929016, 0.6307268738746643, 0.9604399800300598, 0.9321870803833008, 0.9308000802993774, 0.9279136061668396, 0.9244577884674072, 0.9165378212928772, 0.9165018200874329, 0.908553421497345, 0.9061680436134338, 0.9061680436134338, 0.8968114852905273, 0.8968114852905273, 0.8950813412666321, 0.8945716619491577, 0.8917559385299683, 0.8896804451942444, 0.8885776996612549, 0.8852490782737732, 0.8852490782737732, 0.8829011917114258, 0.876563310623169, 0.874367356300354, 0.8707394003868103, 0.868412971496582, 0.8649264574050903, 0.8641759753227234, 0.863922119140625, 0.8620896339416504, 0.8620896339416504, 0.8591016530990601, 0.8563835620880127, 0.8537299633026123, 0.8521324396133423, 0.8473411798477173, 0.8457589149475098, 0.8439750671386719, 0.8439750671386719, 0.8438048362731934, 0.8414424061775208, 0.8413196206092834, 0.8405988812446594, 0.9331321120262146, 0.9313850402832031, 0.9072948098182678, 0.9062875509262085, 0.8900806903839111, 0.8893141150474548, 0.845018208026886, 0.8442432284355164, 0.8355997800827026, 0.8332309126853943, 0.8315408825874329, 0.8311545848846436, 0.8303188681602478, 0.8295885920524597, 0.8281784057617188, 0.8265101909637451, 0.8204231858253479, 0.8165878653526306, 0.8162104487419128, 0.8162104487419128, 0.8162104487419128, 0.8118999600410461, 0.8088093996047974, 0.8078517913818359, 0.8070313930511475, 0.8044741749763489, 0.8007097840309143, 0.7956710457801819, 0.7901685237884521, 0.7897489666938782, 0.7863550782203674, 0.7860495448112488, 0.7852780222892761, 0.7837122082710266, 0.7829214334487915, 0.7808815836906433, 0.7776991128921509, 0.7774694561958313, 0.7766962051391602, 0.7757488489151001, 0.7738311886787415, 0.7884932160377502, 0.7607674598693848, 0.7607674598693848, 0.7456823587417603, 0.7456823587417603, 0.7443807125091553, 0.739758312702179, 0.7335494756698608, 0.7333390712738037, 0.7327175140380859, 0.7327175140380859, 0.7303758263587952, 0.7274379730224609, 0.7270560264587402, 0.7250372171401978, 0.7227769494056702, 0.7196875214576721, 0.7196875214576721, 0.7196875214576721, 0.7188829183578491, 0.7122454047203064, 0.7093544602394104, 0.7093244194984436, 0.7047343850135803, 0.703309178352356, 0.7012571096420288, 0.7012571096420288, 0.7002622485160828, 0.6995545625686646, 0.6980098485946655, 0.6929026246070862, 0.6925048828125, 0.6923073530197144, 0.685604453086853, 0.6833416819572449, 0.6833416819572449, 0.6829557418823242, 0.6827976703643799, 0.6808632016181946, 0.6808632016181946, 0.680467963218689, 0.828964114189148, 0.828964114189148, 0.8106318116188049, 0.798559844493866, 0.7921422719955444, 0.7921181321144104, 0.7898774147033691, 0.7834753394126892, 0.7742794156074524, 0.7730385065078735, 0.763067901134491, 0.763067901134491, 0.7627683281898499, 0.7615882754325867, 0.7611398696899414, 0.7602282762527466, 0.7584307193756104, 0.7550540566444397, 0.7547126412391663, 0.7533183693885803, 0.7481510639190674, 0.7481510639190674, 0.7470301389694214, 0.7469284534454346, 0.7462330460548401, 0.7462330460548401, 0.7462330460548401, 0.7440188527107239, 0.743915319442749, 0.7424039244651794, 0.7424039244651794, 0.7413790225982666, 0.7413790225982666, 0.7396807074546814, 0.7387313842773438, 0.7387313842773438, 0.73846036195755, 0.7354663014411926, 0.7354663014411926, 0.7346780300140381, 0.7332707643508911, 1.0, 1.0, 1.0, 1.0, 1.0, 1.0, 1.0, 1.0, 1.0, 1.0, 1.0, 1.0, 1.0, 1.0, 1.0, 1.0, 1.0, 1.0, 1.0, 1.0, 1.0, 1.0, 0.9930607676506042, 0.9512833952903748, 0.9512833952903748, 0.881088376045227, 0.8694307804107666, 0.8691405653953552, 0.8424138426780701, 0.8357648253440857, 0.8333508372306824, 0.830096960067749, 0.8250951170921326, 0.8024001717567444, 0.7997667193412781, 0.7922053933143616, 0.7568091154098511, 0.7456484436988831, 0.7445808053016663, 0.7421724796295166, 0.7311450839042664, 0.8540372252464294, 0.8355012536048889, 0.8355012536048889, 0.8166347146034241, 0.8154147863388062, 0.801537036895752, 0.8013865351676941, 0.8013865351676941, 0.8013865351676941, 0.8012166619300842, 0.8001090288162231, 0.7990748286247253, 0.7969451546669006, 0.7966528534889221, 0.7932279109954834, 0.7920735478401184, 0.7920286059379578, 0.7917686700820923, 0.7893564105033875, 0.7871708273887634, 0.7860250473022461, 0.7857347130775452, 0.7780419588088989, 0.7776354551315308, 0.7776052951812744, 0.7776052951812744, 0.7760064601898193, 0.7760064601898193, 0.77260422706604, 0.772490918636322, 0.7689809799194336, 0.7683244943618774, 0.7683244943618774, 0.7675663828849792, 0.7672690153121948, 0.7669827938079834, 0.7654768228530884, 0.7654768228530884, 0.7634904980659485, 0.7634904980659485, 0.762201726436615, 0.7884932160377502, 0.7607674598693848, 0.7607674598693848, 0.7456823587417603, 0.7456823587417603, 0.7443807125091553, 0.739758312702179, 0.7335494756698608, 0.7333390712738037, 0.7327175140380859, 0.7327175140380859, 0.7303758263587952, 0.7274379730224609, 0.7270560264587402, 0.7250372171401978, 0.7227769494056702, 0.7196875214576721, 0.7196875214576721, 0.7196875214576721, 0.7188829183578491, 0.7122454047203064, 0.7093544602394104, 0.7093244194984436, 0.7047343850135803, 0.703309178352356, 0.7012571096420288, 0.7012571096420288, 0.7002622485160828, 0.6995545625686646, 0.6980098485946655, 0.6929026246070862, 0.6925048828125, 0.6923073530197144, 0.685604453086853, 0.6833416819572449, 0.6833416819572449, 0.6829557418823242, 0.6827976703643799, 0.6808632016181946, 0.6808632016181946, 0.680467963218689, 0.828964114189148, 0.828964114189148, 0.8106318116188049, 0.798559844493866, 0.7921422719955444, 0.7921181321144104, 0.7898774147033691, 0.7834753394126892, 0.7742794156074524, 0.7730385065078735, 0.763067901134491, 0.763067901134491, 0.7627683281898499, 0.7615882754325867, 0.7611398696899414, 0.7602282762527466, 0.7584307193756104, 0.7550540566444397, 0.7547126412391663, 0.7533183693885803, 0.7481510639190674, 0.7481510639190674, 0.7470301389694214, 0.7469284534454346, 0.7462330460548401, 0.7462330460548401, 0.7462330460548401, 0.7440188527107239, 0.743915319442749, 0.7424039244651794, 0.7424039244651794, 0.7413790225982666, 0.7413790225982666, 0.7396807074546814, 0.7387313842773438, 0.7387313842773438, 0.73846036195755, 0.7354663014411926, 0.7354663014411926, 0.7346780300140381, 0.7332707643508911, 1.0, 1.0, 1.0, 1.0, 1.0, 1.0, 1.0, 1.0, 1.0, 1.0, 1.0, 1.0, 1.0, 1.0, 1.0, 1.0, 1.0, 1.0, 1.0, 1.0, 1.0, 1.0, 0.9930607676506042, 0.9512833952903748, 0.9512833952903748, 0.881088376045227, 0.8694307804107666, 0.8691405653953552, 0.8424138426780701, 0.8357648253440857, 0.8333508372306824, 0.830096960067749, 0.8250951170921326, 0.8024001717567444, 0.7997667193412781, 0.7922053933143616, 0.7568091154098511, 0.7456484436988831, 0.7445808053016663, 0.7421724796295166, 0.7311450839042664, 0.8540372252464294, 0.8355012536048889, 0.8355012536048889, 0.8166347146034241, 0.8154147863388062, 0.801537036895752, 0.8013865351676941, 0.8013865351676941, 0.8013865351676941, 0.8012166619300842, 0.8001090288162231, 0.7990748286247253, 0.7969451546669006, 0.7966528534889221, 0.7932279109954834, 0.7920735478401184, 0.7920286059379578, 0.7917686700820923, 0.7893564105033875, 0.7871708273887634, 0.7860250473022461, 0.7857347130775452, 0.7780419588088989, 0.7776354551315308, 0.7776052951812744, 0.7776052951812744, 0.7760064601898193, 0.7760064601898193, 0.77260422706604, 0.772490918636322, 0.7689809799194336, 0.7683244943618774, 0.7683244943618774, 0.7675663828849792, 0.7672690153121948, 0.7669827938079834, 0.7654768228530884, 0.7654768228530884, 0.7634904980659485, 0.7634904980659485, 0.762201726436615, 0.9244499802589417, 0.9222102165222168, 0.903511106967926, 0.9030922055244446, 0.9013394713401794, 0.9013394713401794, 0.9013394713401794, 0.8931571841239929, 0.8921013474464417, 0.8921013474464417, 0.8854107856750488, 0.8831866383552551, 0.8831866383552551, 0.8831866383552551, 0.8795711398124695, 0.8795711398124695, 0.8750289678573608, 0.872387170791626, 0.8698424696922302, 0.8636474013328552, 0.8615702986717224, 0.8600033521652222, 0.85947185754776, 0.8590003848075867, 0.8590003848075867, 0.8587881922721863, 0.8587881922721863, 0.8587678074836731, 0.8581762313842773, 0.8571097254753113, 0.8528764247894287, 0.8484057188034058, 0.8474990129470825, 0.8474990129470825, 0.8441436886787415, 0.8441336154937744, 0.8431145548820496, 0.8430061340332031, 0.8411142230033875, 0.8411142230033875, 0.8408699035644531, 0.8584231734275818, 0.8489144444465637, 0.8467710614204407, 0.8467710614204407, 0.8467710614204407, 0.8444327116012573, 0.8429468274116516, 0.8357905149459839, 0.8294714093208313, 0.8266414403915405, 0.8252177834510803, 0.8229398727416992, 0.8162345290184021, 0.8161055445671082, 0.8161055445671082, 0.8147223591804504, 0.8146662712097168, 0.8133314847946167, 0.8129004240036011, 0.811851978302002, 0.811851978302002, 0.7993378639221191, 0.7993378639221191, 0.7984092235565186, 0.7983134984970093, 0.7966817617416382, 0.7937571406364441, 0.7933546304702759, 0.7900099754333496, 0.7890126705169678, 0.7870966792106628, 0.7808470129966736, 0.7798142433166504, 0.7793060541152954, 0.777629554271698, 0.7744342088699341, 0.7723708748817444, 0.7715196013450623, 0.7707372307777405, 0.7694149613380432, 0.7694149613380432, 0.8804061412811279, 0.8803043365478516, 0.8780288100242615, 0.8727442026138306, 0.8704876899719238, 0.8704876899719238, 0.8397702574729919, 0.8167224526405334, 0.8077946901321411, 0.8077946901321411, 0.8077946901321411, 0.7990752458572388, 0.797078549861908, 0.7951599955558777, 0.7923904657363892, 0.7840534448623657, 0.780875027179718, 0.778717577457428, 0.7716891765594482, 0.7681935429573059, 0.7681935429573059, 0.7681935429573059, 0.7587254047393799, 0.7491539120674133, 0.7491539120674133, 0.7452064156532288, 0.743389904499054, 0.742366373538971, 0.7415597438812256, 0.7409068942070007, 0.7392130494117737, 0.737619161605835, 0.737619161605835, 0.730924665927887, 0.7276502251625061, 0.7247892022132874, 0.7229340672492981, 0.7188782095909119, 0.7188782095909119, 0.7184547781944275, 0.712630569934845, 0.7690297961235046, 0.6892822980880737, 0.6849258542060852, 0.6849258542060852, 0.6519783139228821, 0.6033898591995239, 0.6033898591995239, 0.5519827604293823, 0.5404351949691772, 0.5330489873886108, 0.5330489873886108, 0.5299420952796936, 0.5263708829879761, 0.5169411897659302, 0.5156474113464355, 0.5066996812820435, 0.5051963329315186, 0.5051963329315186, 0.4996655583381653, 0.4980049729347229, 0.4944586753845215, 0.4877868890762329, 0.48615163564682007, 0.48232460021972656, 0.48232460021972656, 0.48084819316864014, 0.48084819316864014, 0.4800317883491516, 0.4800317883491516, 0.4800317883491516, 0.4800317883491516, 0.4800317883491516, 0.4800317883491516, 0.4800317883491516, 0.4800317883491516, 0.4800317883491516, 0.4800317883491516, 0.4800317883491516, 0.4800317883491516, 0.4800317883491516, 0.4800317883491516, 0.9168993830680847, 0.9168993830680847, 0.8649289608001709, 0.8485247492790222, 0.8413569331169128, 0.8298776745796204, 0.8246727585792542, 0.8246727585792542, 0.8202930092811584, 0.8202930092811584, 0.8184799551963806, 0.8132238984107971, 0.8083646297454834, 0.8083646297454834, 0.8083328604698181, 0.8072936534881592, 0.8071296811103821, 0.8071296811103821, 0.8071296811103821, 0.7985987067222595, 0.7944489121437073, 0.7944164276123047, 0.7944164276123047, 0.7944164276123047, 0.7931552529335022, 0.7914696931838989, 0.7911853194236755, 0.7910568714141846, 0.7901300191879272, 0.7802587747573853, 0.7802587747573853, 0.7776087522506714, 0.7769320011138916, 0.7722501754760742, 0.7722501754760742, 0.7722501754760742, 0.7722501754760742, 0.7698374390602112, 0.7679711580276489, 0.7679711580276489, 0.7679711580276489, 0.8491408228874207, 0.8237550854682922, 0.8025810122489929, 0.7976487874984741, 0.7754456400871277, 0.770642101764679, 0.7642918229103088, 0.7632712125778198, 0.759701669216156, 0.759701669216156, 0.7588949203491211, 0.7581173777580261, 0.7539075016975403, 0.7433698177337646, 0.7427324652671814, 0.7409654259681702, 0.7409654259681702, 0.7396502494812012, 0.7311439514160156, 0.7289464473724365, 0.7282290458679199, 0.7259511351585388, 0.720152735710144, 0.717848539352417, 0.7158950567245483, 0.7122592329978943, 0.7122592329978943, 0.7120774984359741, 0.7104666233062744, 0.709376335144043, 0.709376335144043, 0.7065832614898682, 0.7061231732368469, 0.704443633556366, 0.7027792930603027, 0.7027792930603027, 0.7014465928077698, 0.7014465928077698, 0.7014465928077698, 0.7014465928077698, 0.7009276151657104, 0.95418781042099, 0.9068626761436462, 0.9068626761436462, 0.9011339545249939, 0.8971272110939026, 0.8949161171913147, 0.8949161171913147, 0.8847565054893494, 0.8846397995948792, 0.8811862468719482, 0.8811862468719482, 0.8784749507904053, 0.8781955242156982, 0.8764653205871582, 0.8764653205871582, 0.8753353953361511, 0.8753353953361511, 0.8753353953361511, 0.8753342628479004, 0.8742580413818359, 0.8742580413818359, 0.8725850582122803, 0.8724901080131531, 0.8662930727005005, 0.8662930727005005, 0.8657646775245667, 0.8655765652656555, 0.8647428750991821, 0.8643733859062195, 0.8616722226142883, 0.8599912524223328, 0.8590989708900452, 0.8590989708900452, 0.8586066365242004, 0.8574464321136475, 0.8571836352348328, 0.8568519949913025, 0.8551630973815918, 0.8526251912117004, 0.8518505096435547, 0.8497220277786255, 0.8994360566139221, 0.8974209427833557, 0.8974209427833557, 0.8877710700035095, 0.8877710700035095, 0.8877710700035095, 0.8833670020103455, 0.8790518641471863, 0.8776130080223083, 0.8772547841072083, 0.8772547841072083, 0.8757117986679077, 0.8757117986679077, 0.8708664178848267, 0.8680761456489563, 0.8658406734466553, 0.8658406734466553, 0.8635834455490112, 0.8635517358779907, 0.8631554245948792, 0.8623720407485962, 0.8623720407485962, 0.8593344688415527, 0.8593344688415527, 0.8575469851493835, 0.8574788570404053, 0.8558568358421326, 0.8558568358421326, 0.852112889289856, 0.8509920835494995, 0.8509920835494995, 0.8487238883972168, 0.8461259603500366, 0.8440120816230774, 0.8429073095321655, 0.8423302173614502, 0.8422737717628479, 0.8421434164047241, 0.8400657773017883, 0.8388674855232239, 0.8387008905410767, 0.9283667206764221, 0.8585985898971558, 0.8123668432235718, 0.8094428777694702, 0.8014084696769714, 0.7986087203025818, 0.7918331623077393, 0.7821729183197021, 0.7820682525634766, 0.7814491987228394, 0.7682321071624756, 0.7671671509742737, 0.764506995677948, 0.7549646496772766, 0.7487495541572571, 0.7454290390014648, 0.7391167879104614, 0.7353178262710571, 0.7345957159996033, 0.7339428663253784, 0.7336104512214661, 0.7241660952568054, 0.7237270474433899, 0.7187567949295044, 0.7176042199134827, 0.7127737998962402, 0.7117794752120972, 0.7020821571350098, 0.7020821571350098, 0.7020821571350098, 0.7004213929176331, 0.6997397541999817, 0.6916059851646423, 0.6894722580909729, 0.6883255243301392, 0.685002326965332, 0.6812344789505005, 0.6762673258781433, 0.6762673258781433, 0.6762673258781433, 0.6762673258781433, 0.9254183769226074, 0.9254183769226074, 0.9196393489837646, 0.9133949875831604, 0.9133154153823853, 0.9133154153823853, 0.9112566709518433, 0.9112566709518433, 0.9055713415145874, 0.9030885100364685, 0.8989424705505371, 0.8989424705505371, 0.8975679874420166, 0.8962897658348083, 0.8961045145988464, 0.895848274230957, 0.8943638205528259, 0.8943638205528259, 0.8937857151031494, 0.893312394618988, 0.8932182192802429, 0.8932182192802429, 0.8932182192802429, 0.8927901387214661, 0.8927901387214661, 0.8918483853340149, 0.8901448845863342, 0.889158308506012, 0.8873636722564697, 0.8840441703796387, 0.8840441703796387, 0.8839114308357239, 0.8830544948577881, 0.882462739944458, 0.8817673325538635, 0.8779289722442627, 0.8761760592460632, 0.8749266266822815, 0.8742720484733582, 0.8700181245803833, 0.8697832226753235, 0.914810061454773, 0.8933664560317993, 0.8932245969772339, 0.8871905207633972, 0.8871905207633972, 0.8871905207633972, 0.8829660415649414, 0.8701516389846802, 0.8701516389846802, 0.8701516389846802, 0.8701516389846802, 0.8620128631591797, 0.8615293502807617, 0.8573136925697327, 0.8573136925697327, 0.8567934632301331, 0.8561565279960632, 0.8510919213294983, 0.8501070737838745, 0.8501070737838745, 0.8501070737838745, 0.8496373295783997, 0.8491325378417969, 0.8485965132713318, 0.847202479839325, 0.8464798331260681, 0.8456118106842041, 0.8446698188781738, 0.8305230736732483, 0.8305230736732483, 0.8268999457359314, 0.8242831230163574, 0.8242831230163574, 0.8208091855049133, 0.8202018737792969, 0.8175799250602722, 0.8160120248794556, 0.8102431297302246, 0.8102431297302246, 0.8080594539642334, 0.8046690225601196, 0.9392730593681335, 0.9392730593681335, 0.9392730593681335, 0.9192039966583252, 0.8859584331512451, 0.879535973072052, 0.879535973072052, 0.8781858086585999, 0.8736225962638855, 0.8736225962638855, 0.8736225962638855, 0.8725430965423584, 0.8700332045555115, 0.8694407939910889, 0.8577612042427063, 0.8577612042427063, 0.8577367663383484, 0.8562977313995361, 0.8562977313995361, 0.8548627495765686, 0.8490273356437683, 0.8433811068534851, 0.8427681922912598, 0.8417767286300659, 0.8408234715461731, 0.8397030830383301, 0.8328689336776733, 0.8263892531394958, 0.821318507194519, 0.8209116458892822, 0.8203624486923218, 0.817261815071106, 0.816339373588562, 0.8153665065765381, 0.8152008056640625, 0.8150155544281006, 0.8136618137359619, 0.8136618137359619, 0.7997322678565979, 0.7997322678565979, 0.7958299517631531, 1.0, 1.0, 1.0, 1.0, 1.0, 1.0, 1.0, 1.0, 1.0, 0.9872213006019592, 0.9022877216339111, 0.8510525822639465, 0.8510525822639465, 0.8510525822639465, 0.7820848226547241, 0.7737464308738708, 0.7548484802246094, 0.7487319707870483, 0.742200493812561, 0.7241246104240417, 0.7129082679748535, 0.7053903937339783, 0.6796682476997375, 0.6739413142204285, 0.6739413142204285, 0.6722607612609863, 0.665985107421875, 0.6551839113235474, 0.6528732776641846, 0.6434508562088013, 0.636309802532196, 0.6358386874198914, 0.6239083409309387, 0.6223742961883545, 0.6180675029754639, 0.615868091583252, 0.6156027317047119, 0.6156027317047119, 0.6156027317047119, 0.612709641456604, 0.612709641456604, 0.914810061454773, 0.8933664560317993, 0.8932245969772339, 0.8871905207633972, 0.8871905207633972, 0.8871905207633972, 0.8829660415649414, 0.8701516389846802, 0.8701516389846802, 0.8701516389846802, 0.8701516389846802, 0.8620128631591797, 0.8615293502807617, 0.8573136925697327, 0.8573136925697327, 0.8567934632301331, 0.8561565279960632, 0.8510919213294983, 0.8501070737838745, 0.8501070737838745, 0.8501070737838745, 0.8496373295783997, 0.8491325378417969, 0.8485965132713318, 0.847202479839325, 0.8464798331260681, 0.8456118106842041, 0.8446698188781738, 0.8305230736732483, 0.8305230736732483, 0.8268999457359314, 0.8242831230163574, 0.8242831230163574, 0.8208091855049133, 0.8202018737792969, 0.8175799250602722, 0.8160120248794556, 0.8102431297302246, 0.8102431297302246, 0.8080594539642334, 0.8046690225601196, 0.914810061454773, 0.8933664560317993, 0.8932245969772339, 0.8871905207633972, 0.8871905207633972, 0.8871905207633972, 0.8829660415649414, 0.8701516389846802, 0.8701516389846802, 0.8701516389846802, 0.8701516389846802, 0.8620128631591797, 0.8615293502807617, 0.8573136925697327, 0.8573136925697327, 0.8567934632301331, 0.8561565279960632, 0.8510919213294983, 0.8501070737838745, 0.8501070737838745, 0.8501070737838745, 0.8496373295783997, 0.8491325378417969, 0.8485965132713318, 0.847202479839325, 0.8464798331260681, 0.8456118106842041, 0.8446698188781738, 0.8305230736732483, 0.8305230736732483, 0.8268999457359314, 0.8242831230163574, 0.8242831230163574, 0.8208091855049133, 0.8202018737792969, 0.8175799250602722, 0.8160120248794556, 0.8102431297302246, 0.8102431297302246, 0.8080594539642334, 0.8046690225601196, 0.9392730593681335, 0.9392730593681335, 0.9392730593681335, 0.9192039966583252, 0.8859584331512451, 0.879535973072052, 0.879535973072052, 0.8781858086585999, 0.8736225962638855, 0.8736225962638855, 0.8736225962638855, 0.8725430965423584, 0.8700332045555115, 0.8694407939910889, 0.8577612042427063, 0.8577612042427063, 0.8577367663383484, 0.8562977313995361, 0.8562977313995361, 0.8548627495765686, 0.8490273356437683, 0.8433811068534851, 0.8427681922912598, 0.8417767286300659, 0.8408234715461731, 0.8397030830383301, 0.8328689336776733, 0.8263892531394958, 0.821318507194519, 0.8209116458892822, 0.8203624486923218, 0.817261815071106, 0.816339373588562, 0.8153665065765381, 0.8152008056640625, 0.8150155544281006, 0.8136618137359619, 0.8136618137359619, 0.7997322678565979, 0.7997322678565979, 0.7958299517631531, 1.0, 1.0, 1.0, 1.0, 1.0, 1.0, 1.0, 1.0, 1.0, 0.9872213006019592, 0.9022877216339111, 0.8510525822639465, 0.8510525822639465, 0.8510525822639465, 0.7820848226547241, 0.7737464308738708, 0.7548484802246094, 0.7487319707870483, 0.742200493812561, 0.7241246104240417, 0.7129082679748535, 0.7053903937339783, 0.6796682476997375, 0.6739413142204285, 0.6739413142204285, 0.6722607612609863, 0.665985107421875, 0.6551839113235474, 0.6528732776641846, 0.6434508562088013, 0.636309802532196, 0.6358386874198914, 0.6239083409309387, 0.6223742961883545, 0.6180675029754639, 0.615868091583252, 0.6156027317047119, 0.6156027317047119, 0.6156027317047119, 0.612709641456604, 0.612709641456604, 0.914810061454773, 0.8933664560317993, 0.8932245969772339, 0.8871905207633972, 0.8871905207633972, 0.8871905207633972, 0.8829660415649414, 0.8701516389846802, 0.8701516389846802, 0.8701516389846802, 0.8701516389846802, 0.8620128631591797, 0.8615293502807617, 0.8573136925697327, 0.8573136925697327, 0.8567934632301331, 0.8561565279960632, 0.8510919213294983, 0.8501070737838745, 0.8501070737838745, 0.8501070737838745, 0.8496373295783997, 0.8491325378417969, 0.8485965132713318, 0.847202479839325, 0.8464798331260681, 0.8456118106842041, 0.8446698188781738, 0.8305230736732483, 0.8305230736732483, 0.8268999457359314, 0.8242831230163574, 0.8242831230163574, 0.8208091855049133, 0.8202018737792969, 0.8175799250602722, 0.8160120248794556, 0.8102431297302246, 0.8102431297302246, 0.8080594539642334, 0.8046690225601196, 0.8714224100112915, 0.8022918701171875, 0.7783383131027222, 0.7767287492752075, 0.7708426117897034, 0.7662717700004578, 0.754571795463562, 0.7477865219116211, 0.7444220185279846, 0.7403764724731445, 0.7402071952819824, 0.7402071952819824, 0.7309060096740723, 0.729979395866394, 0.7276652455329895, 0.7236349582672119, 0.7224514484405518, 0.7219621539115906, 0.7208127379417419, 0.7196136116981506, 0.7193633913993835, 0.7168130278587341, 0.7168130278587341, 0.7168056964874268, 0.7133690118789673, 0.7104784250259399, 0.7095630168914795, 0.7088708281517029, 0.7057498097419739, 0.7052098512649536, 0.7028432488441467, 0.7028168439865112, 0.7026138305664062, 0.7005161046981812, 0.6986539959907532, 0.6978335976600647, 0.6970894932746887, 0.6960148811340332, 0.695738673210144, 0.6944807767868042, 0.6944579482078552, 0.8110990524291992, 0.7751617431640625, 0.763087272644043, 0.7438449859619141, 0.7340582013130188, 0.7318980693817139, 0.7318980693817139, 0.7278434038162231, 0.7266927361488342, 0.7162225842475891, 0.7061939239501953, 0.7040762305259705, 0.7037128210067749, 0.6928138136863708, 0.6928138136863708, 0.6919676065444946, 0.6874604225158691, 0.6840450167655945, 0.6807664632797241, 0.6794835925102234, 0.675841748714447, 0.6735278367996216, 0.6726282238960266, 0.6726282238960266, 0.6718284487724304, 0.6699869632720947, 0.6694440245628357, 0.6683352589607239, 0.666477620601654, 0.6661609411239624, 0.6641775369644165, 0.6611763834953308, 0.6594990491867065, 0.6591686606407166, 0.6575777530670166, 0.6573037505149841, 0.6570342183113098, 0.655964195728302, 0.6532992720603943, 0.6510405540466309, 0.6509279012680054, 0.7400240302085876, 0.7065603733062744, 0.7050144672393799, 0.6829514503479004, 0.6829514503479004, 0.664703905582428, 0.6642492413520813, 0.6522505879402161, 0.6521492004394531, 0.6491001844406128, 0.6490388512611389, 0.6437415480613708, 0.6431654095649719, 0.6328001022338867, 0.630537211894989, 0.6296734809875488, 0.6296734809875488, 0.6296734809875488, 0.6294196248054504, 0.6281101107597351, 0.6274973154067993, 0.6274973154067993, 0.6274973154067993, 0.6251147985458374, 0.6244891881942749, 0.6244891881942749, 0.6234049797058105, 0.61974036693573, 0.61974036693573, 0.6185997724533081, 0.6102895140647888, 0.6099942326545715, 0.6091135740280151, 0.6088000535964966, 0.6083587408065796, 0.6081976294517517, 0.6053288578987122, 0.6039371490478516, 0.6039371490478516, 0.6008026599884033, 0.6008026599884033, 0.8439347743988037, 0.8263920545578003, 0.8183732032775879, 0.8180559873580933, 0.8045493960380554, 0.8009910583496094, 0.799153208732605, 0.7971232533454895, 0.790769636631012, 0.790769636631012, 0.786496639251709, 0.7864046692848206, 0.7799389362335205, 0.7764947414398193, 0.7738043069839478, 0.7737867832183838, 0.7703791260719299, 0.7680494785308838, 0.7680494785308838, 0.7636194825172424, 0.7602153420448303, 0.7552715539932251, 0.7502341866493225, 0.7502008080482483, 0.7492272257804871, 0.7479194402694702, 0.745879590511322, 0.745879590511322, 0.7418863773345947, 0.7417998909950256, 0.7412934899330139, 0.7412934899330139, 0.7395606637001038, 0.7337718605995178, 0.7334861755371094, 0.7331918478012085, 0.730518102645874, 0.7298508286476135, 0.7284635901451111, 0.7273436188697815, 0.7271156311035156, 0.6993178725242615, 0.6743050813674927, 0.6720729470252991, 0.6682273745536804, 0.6589659452438354, 0.6568928956985474, 0.6568928956985474, 0.6259652972221375, 0.6188385486602783, 0.6088002920150757, 0.5924086570739746, 0.5794332027435303, 0.5794332027435303, 0.568172812461853, 0.5667707920074463, 0.5630910396575928, 0.5503330230712891, 0.5464446544647217, 0.5298346877098083, 0.5296772122383118, 0.5285817384719849, 0.5275909900665283, 0.5159928798675537, 0.5151250958442688, 0.5134308934211731, 0.5104150772094727, 0.5078063607215881, 0.4982711672782898, 0.49820849299430847, 0.4975373148918152, 0.4959111511707306, 0.49578261375427246, 0.4884839653968811, 0.4877919554710388, 0.4864446818828583, 0.4864446818828583, 0.48456671833992004, 0.48208704590797424, 0.48169824481010437, 0.4784384071826935, 0.47826746106147766, 0.7089223265647888, 0.7076956033706665, 0.7076956033706665, 0.6992161870002747, 0.6992161870002747, 0.6974210143089294, 0.6940805912017822, 0.6889901757240295, 0.6847304105758667, 0.677054762840271, 0.6737771034240723, 0.6715904474258423, 0.6707153916358948, 0.6684626936912537, 0.6674736738204956, 0.6674736738204956, 0.6352158784866333, 0.629418134689331, 0.6291845440864563, 0.6277956366539001, 0.6247472763061523, 0.6240043640136719, 0.6224484443664551, 0.6177962422370911, 0.6177962422370911, 0.6177962422370911, 0.6127059459686279, 0.6097769141197205, 0.6066124439239502, 0.6047469973564148, 0.6035748720169067, 0.6035748720169067, 0.6027891635894775, 0.6027891635894775, 0.6027891635894775, 0.5996528267860413, 0.5967535972595215, 0.5926934480667114, 0.5902459621429443, 0.5899053812026978, 0.5888002514839172, 0.9374644756317139, 0.9057953953742981, 0.8958601951599121, 0.8222980499267578, 0.7655074596405029, 0.7290264964103699, 0.7132254838943481, 0.6524784564971924, 0.6496680974960327, 0.6442661881446838, 0.6317302584648132, 0.6222604513168335, 0.6213037371635437, 0.6183526515960693, 0.6059160232543945, 0.6012954711914062, 0.5988511443138123, 0.5976216793060303, 0.585231363773346, 0.5741219520568848, 0.561599612236023, 0.5557335615158081, 0.5557335615158081, 0.5544506311416626, 0.5544506311416626, 0.5511201620101929, 0.5499191284179688, 0.5456546545028687, 0.5421741604804993, 0.541187047958374, 0.5329049825668335, 0.5292253494262695, 0.5289424657821655, 0.5233347415924072, 0.5185664296150208, 0.5185664296150208, 0.514717161655426, 0.514717161655426, 0.514421820640564, 0.5077031254768372, 0.5053941607475281, 0.7089223265647888, 0.7076956033706665, 0.7076956033706665, 0.6992161870002747, 0.6992161870002747, 0.6974210143089294, 0.6940805912017822, 0.6889901757240295, 0.6847304105758667, 0.677054762840271, 0.6737771034240723, 0.6715904474258423, 0.6707153916358948, 0.6684626936912537, 0.6674736738204956, 0.6674736738204956, 0.6352158784866333, 0.629418134689331, 0.6291845440864563, 0.6277956366539001, 0.6247472763061523, 0.6240043640136719, 0.6224484443664551, 0.6177962422370911, 0.6177962422370911, 0.6177962422370911, 0.6127059459686279, 0.6097769141197205, 0.6066124439239502, 0.6047469973564148, 0.6035748720169067, 0.6035748720169067, 0.6027891635894775, 0.6027891635894775, 0.6027891635894775, 0.5996528267860413, 0.5967535972595215, 0.5926934480667114, 0.5902459621429443, 0.5899053812026978, 0.5888002514839172, 0.8365324139595032, 0.8113658428192139, 0.8001744747161865, 0.8001744747161865, 0.7151382565498352, 0.6936621069908142, 0.6936621069908142, 0.6936621069908142, 0.6744970679283142, 0.6740492582321167, 0.6721879243850708, 0.6663650274276733, 0.6460133790969849, 0.6430549025535583, 0.6430549025535583, 0.6414587497711182, 0.6414587497711182, 0.6373879313468933, 0.6203181147575378, 0.6203181147575378, 0.618314266204834, 0.6076160669326782, 0.6072956919670105, 0.6072956919670105, 0.6060609221458435, 0.6031644940376282, 0.6029766798019409, 0.6006966233253479, 0.5989871025085449, 0.5989871025085449, 0.5979970097541809, 0.590657114982605, 0.585623562335968, 0.585623562335968, 0.585623562335968, 0.585623562335968, 0.5849201083183289, 0.5775984525680542, 0.5733246803283691, 0.5692498087882996, 0.5679962635040283, 0.90666264295578, 0.8811331987380981, 0.8801396489143372, 0.8717795014381409, 0.8635371327400208, 0.8499878644943237, 0.8278989791870117, 0.8238891959190369, 0.8059313893318176, 0.8043901324272156, 0.8003861308097839, 0.7988091707229614, 0.7944502234458923, 0.793651819229126, 0.7889135479927063, 0.7877923250198364, 0.7874314188957214, 0.7840476036071777, 0.7741238474845886, 0.7713218927383423, 0.7698431015014648, 0.7661968469619751, 0.7638404965400696, 0.7626705169677734, 0.7600206732749939, 0.7598816156387329, 0.7548426389694214, 0.7548426389694214, 0.7545940279960632, 0.7535374760627747, 0.751033365726471, 0.751033365726471, 0.751033365726471, 0.7508435845375061, 0.7502114176750183, 0.749482274055481, 0.749482274055481, 0.7480390071868896, 0.7464044690132141, 0.7440086603164673, 0.7409165501594543, 0.8365324139595032, 0.8113658428192139, 0.8001744747161865, 0.8001744747161865, 0.7151382565498352, 0.6936621069908142, 0.6936621069908142, 0.6936621069908142, 0.6744970679283142, 0.6740492582321167, 0.6721879243850708, 0.6663650274276733, 0.6460133790969849, 0.6430549025535583, 0.6430549025535583, 0.6414587497711182, 0.6414587497711182, 0.6373879313468933, 0.6203181147575378, 0.6203181147575378, 0.618314266204834, 0.6076160669326782, 0.6072956919670105, 0.6072956919670105, 0.6060609221458435, 0.6031644940376282, 0.6029766798019409, 0.6006966233253479, 0.5989871025085449, 0.5989871025085449, 0.5979970097541809, 0.590657114982605, 0.585623562335968, 0.585623562335968, 0.585623562335968, 0.585623562335968, 0.5849201083183289, 0.5775984525680542, 0.5733246803283691, 0.5692498087882996, 0.5679962635040283, 0.7529424428939819, 0.737242579460144, 0.7234846353530884, 0.7185878157615662, 0.7103714346885681, 0.7071070075035095, 0.7037996053695679, 0.6674125790596008, 0.6663569808006287, 0.6584132313728333, 0.6502743363380432, 0.6452997922897339, 0.6429795622825623, 0.6397109031677246, 0.6394113898277283, 0.6392892003059387, 0.6392892003059387, 0.6364610195159912, 0.6324948072433472, 0.6324948072433472, 0.6311659812927246, 0.6310843229293823, 0.6288391351699829, 0.6281746029853821, 0.6276683211326599, 0.6269373297691345, 0.6259958744049072, 0.6253915429115295, 0.6250940561294556, 0.6250737309455872, 0.6240329742431641, 0.6207985877990723, 0.6200144290924072, 0.6196392178535461, 0.6194069385528564, 0.6192701458930969, 0.6185453534126282, 0.6185453534126282, 0.6185453534126282, 0.6168713569641113, 0.6111031770706177, 0.6672735214233398, 0.665529191493988, 0.6653886437416077, 0.652065098285675, 0.6452378630638123, 0.6418361067771912, 0.6395531892776489, 0.6382763981819153, 0.6382763981819153, 0.6363659501075745, 0.634405791759491, 0.6272462010383606, 0.6266151666641235, 0.6249438524246216, 0.6239835619926453, 0.6228204369544983, 0.622229814529419, 0.6155030131340027, 0.613925039768219, 0.6085317134857178, 0.6082320809364319, 0.6038058400154114, 0.5986633896827698, 0.5960367918014526, 0.5960367918014526, 0.591124951839447, 0.5909588932991028, 0.5898998379707336, 0.5881123542785645, 0.588079035282135, 0.5870987772941589, 0.5870987772941589, 0.5802516341209412, 0.5778101086616516, 0.5773182511329651, 0.5747994780540466, 0.5716832280158997, 0.5716832280158997, 0.5712800621986389, 0.5666998028755188, 0.5653122067451477, 0.6959723234176636, 0.6948425769805908, 0.6802060604095459, 0.670845091342926, 0.6666776537895203, 0.6666776537895203, 0.6655756831169128, 0.6644852757453918, 0.6642255187034607, 0.6601194143295288, 0.6575541496276855, 0.6558701395988464, 0.6510697603225708, 0.6502577066421509, 0.6476976871490479, 0.6402013301849365, 0.637391984462738, 0.635752260684967, 0.6317017674446106, 0.6298737525939941, 0.628646969795227, 0.6248969435691833, 0.6197961568832397, 0.6197961568832397, 0.6166422963142395, 0.6166422963142395, 0.6155903935432434, 0.6152912378311157, 0.613297164440155, 0.6116330027580261, 0.6113873720169067, 0.6062924861907959, 0.6060080528259277, 0.6038767695426941, 0.6010100841522217, 0.5980355143547058, 0.5980355143547058, 0.5970000624656677, 0.5899048447608948, 0.587173342704773, 0.5860448479652405, 0.8794706463813782, 0.8201020956039429, 0.7483013272285461, 0.7037668824195862, 0.558698832988739, 0.5532147884368896, 0.5439223647117615, 0.5319043397903442, 0.5185799598693848, 0.47448086738586426, 0.47448086738586426, 0.4488503932952881, 0.4345261752605438, 0.4207756817340851, 0.4171631336212158, 0.41213682293891907, 0.41095975041389465, 0.4078701436519623, 0.40280431509017944, 0.4017374813556671, 0.4002932012081146, 0.3903585374355316, 0.3903585374355316, 0.3903585374355316, 0.38514572381973267, 0.37695518136024475, 0.37583544850349426, 0.37440574169158936, 0.3712145984172821, 0.3712145984172821, 0.3696780204772949, 0.368980348110199, 0.35355979204177856, 0.3468029499053955, 0.32784849405288696, 0.32547834515571594, 0.3203218877315521, 0.3203218877315521, 0.3203218877315521, 0.31875622272491455, 0.30805954337120056, 0.6672735214233398, 0.665529191493988, 0.6653886437416077, 0.652065098285675, 0.6452378630638123, 0.6418361067771912, 0.6395531892776489, 0.6382763981819153, 0.6382763981819153, 0.6363659501075745, 0.634405791759491, 0.6272462010383606, 0.6266151666641235, 0.6249438524246216, 0.6239835619926453, 0.6228204369544983, 0.622229814529419, 0.6155030131340027, 0.613925039768219, 0.6085317134857178, 0.6082320809364319, 0.6038058400154114, 0.5986633896827698, 0.5960367918014526, 0.5960367918014526, 0.591124951839447, 0.5909588932991028, 0.5898998379707336, 0.5881123542785645, 0.588079035282135, 0.5870987772941589, 0.5870987772941589, 0.5802516341209412, 0.5778101086616516, 0.5773182511329651, 0.5747994780540466, 0.5716832280158997, 0.5716832280158997, 0.5712800621986389, 0.5666998028755188, 0.5653122067451477, 0.9637246131896973, 0.9136171936988831, 0.9109681844711304, 0.8810440301895142, 0.8810440301895142, 0.876305341720581, 0.876305341720581, 0.8755871057510376, 0.8584323525428772, 0.8464092016220093, 0.8463554382324219, 0.8402826189994812, 0.8301187753677368, 0.8301187753677368, 0.8237486481666565, 0.819001317024231, 0.8134743571281433, 0.8127140998840332, 0.8094689249992371, 0.8063026666641235, 0.8045586347579956, 0.8045586347579956, 0.8045586347579956, 0.7933578491210938, 0.7901212573051453, 0.7900805473327637, 0.7833992838859558, 0.7826323509216309, 0.7822954058647156, 0.7800725698471069, 0.7790612578392029, 0.778389573097229, 0.7770603895187378, 0.7770603895187378, 0.7762682437896729, 0.7757618427276611, 0.7726171016693115, 0.7695447206497192, 0.7695447206497192, 0.768925130367279, 0.7684774994850159, 0.9540078043937683, 0.9274325966835022, 0.9202647805213928, 0.9160704016685486, 0.9101584553718567, 0.8930913209915161, 0.8855282664299011, 0.8854595422744751, 0.8846991062164307, 0.8846991062164307, 0.8741050958633423, 0.872664749622345, 0.8693364858627319, 0.8688746094703674, 0.8687581419944763, 0.8687581419944763, 0.8686963319778442, 0.8666419386863708, 0.860089898109436, 0.8544684052467346, 0.8544684052467346, 0.852953314781189, 0.8446992039680481, 0.8446992039680481, 0.8440322279930115, 0.839719295501709, 0.8380470275878906, 0.837493360042572, 0.8373460173606873, 0.8373460173606873, 0.8364352583885193, 0.8364352583885193, 0.8339605927467346, 0.8326568603515625, 0.8324646949768066, 0.8291152715682983, 0.8291009068489075, 0.8290764093399048, 0.8266715407371521, 0.8264844417572021, 0.8238217234611511, 1.0, 1.0, 1.0, 1.0, 1.0, 1.0, 1.0, 1.0, 1.0, 1.0, 1.0, 1.0, 1.0, 1.0, 1.0, 1.0, 1.0, 1.0, 1.0, 1.0, 1.0, 1.0, 1.0, 0.9930607676506042, 0.9512833952903748, 0.9512833952903748, 0.881088376045227, 0.8694307804107666, 0.8691405653953552, 0.8424138426780701, 0.8357648253440857, 0.8333508372306824, 0.830096960067749, 0.8250951170921326, 0.8024001717567444, 0.7997667193412781, 0.7922053933143616, 0.7568091154098511, 0.7456484436988831, 0.7445808053016663, 0.7421724796295166, 0.9637246131896973, 0.9136171936988831, 0.9109681844711304, 0.8810440301895142, 0.8810440301895142, 0.876305341720581, 0.876305341720581, 0.8755871057510376, 0.8584323525428772, 0.8464092016220093, 0.8463554382324219, 0.8402826189994812, 0.8301187753677368, 0.8301187753677368, 0.8237486481666565, 0.819001317024231, 0.8134743571281433, 0.8127140998840332, 0.8094689249992371, 0.8063026666641235, 0.8045586347579956, 0.8045586347579956, 0.8045586347579956, 0.7933578491210938, 0.7901212573051453, 0.7900805473327637, 0.7833992838859558, 0.7826323509216309, 0.7822954058647156, 0.7800725698471069, 0.7790612578392029, 0.778389573097229, 0.7770603895187378, 0.7770603895187378, 0.7762682437896729, 0.7757618427276611, 0.7726171016693115, 0.7695447206497192, 0.7695447206497192, 0.768925130367279, 0.7684774994850159], \"xaxis\": \"x\", \"yaxis\": \"y\"}],\n",
              "                        {\"barmode\": \"relative\", \"legend\": {\"tracegroupgap\": 0}, \"margin\": {\"t\": 60}, \"template\": {\"data\": {\"bar\": [{\"error_x\": {\"color\": \"#2a3f5f\"}, \"error_y\": {\"color\": \"#2a3f5f\"}, \"marker\": {\"line\": {\"color\": \"#E5ECF6\", \"width\": 0.5}}, \"type\": \"bar\"}], \"barpolar\": [{\"marker\": {\"line\": {\"color\": \"#E5ECF6\", \"width\": 0.5}}, \"type\": \"barpolar\"}], \"carpet\": [{\"aaxis\": {\"endlinecolor\": \"#2a3f5f\", \"gridcolor\": \"white\", \"linecolor\": \"white\", \"minorgridcolor\": \"white\", \"startlinecolor\": \"#2a3f5f\"}, \"baxis\": {\"endlinecolor\": \"#2a3f5f\", \"gridcolor\": \"white\", \"linecolor\": \"white\", \"minorgridcolor\": \"white\", \"startlinecolor\": \"#2a3f5f\"}, \"type\": \"carpet\"}], \"choropleth\": [{\"colorbar\": {\"outlinewidth\": 0, \"ticks\": \"\"}, \"type\": \"choropleth\"}], \"contour\": [{\"colorbar\": {\"outlinewidth\": 0, \"ticks\": \"\"}, \"colorscale\": [[0.0, \"#0d0887\"], [0.1111111111111111, \"#46039f\"], [0.2222222222222222, \"#7201a8\"], [0.3333333333333333, \"#9c179e\"], [0.4444444444444444, \"#bd3786\"], [0.5555555555555556, \"#d8576b\"], [0.6666666666666666, \"#ed7953\"], [0.7777777777777778, \"#fb9f3a\"], [0.8888888888888888, \"#fdca26\"], [1.0, \"#f0f921\"]], \"type\": \"contour\"}], \"contourcarpet\": [{\"colorbar\": {\"outlinewidth\": 0, \"ticks\": \"\"}, \"type\": \"contourcarpet\"}], \"heatmap\": [{\"colorbar\": {\"outlinewidth\": 0, \"ticks\": \"\"}, \"colorscale\": [[0.0, \"#0d0887\"], [0.1111111111111111, \"#46039f\"], [0.2222222222222222, \"#7201a8\"], [0.3333333333333333, \"#9c179e\"], [0.4444444444444444, \"#bd3786\"], [0.5555555555555556, \"#d8576b\"], [0.6666666666666666, \"#ed7953\"], [0.7777777777777778, \"#fb9f3a\"], [0.8888888888888888, \"#fdca26\"], [1.0, \"#f0f921\"]], \"type\": \"heatmap\"}], \"heatmapgl\": [{\"colorbar\": {\"outlinewidth\": 0, \"ticks\": \"\"}, \"colorscale\": [[0.0, \"#0d0887\"], [0.1111111111111111, \"#46039f\"], [0.2222222222222222, \"#7201a8\"], [0.3333333333333333, \"#9c179e\"], [0.4444444444444444, \"#bd3786\"], [0.5555555555555556, \"#d8576b\"], [0.6666666666666666, \"#ed7953\"], [0.7777777777777778, \"#fb9f3a\"], [0.8888888888888888, \"#fdca26\"], [1.0, \"#f0f921\"]], \"type\": \"heatmapgl\"}], \"histogram\": [{\"marker\": {\"colorbar\": {\"outlinewidth\": 0, \"ticks\": \"\"}}, \"type\": \"histogram\"}], \"histogram2d\": [{\"colorbar\": {\"outlinewidth\": 0, \"ticks\": \"\"}, \"colorscale\": [[0.0, \"#0d0887\"], [0.1111111111111111, \"#46039f\"], [0.2222222222222222, \"#7201a8\"], [0.3333333333333333, \"#9c179e\"], [0.4444444444444444, \"#bd3786\"], [0.5555555555555556, \"#d8576b\"], [0.6666666666666666, \"#ed7953\"], [0.7777777777777778, \"#fb9f3a\"], [0.8888888888888888, \"#fdca26\"], [1.0, \"#f0f921\"]], \"type\": \"histogram2d\"}], \"histogram2dcontour\": [{\"colorbar\": {\"outlinewidth\": 0, \"ticks\": \"\"}, \"colorscale\": [[0.0, \"#0d0887\"], [0.1111111111111111, \"#46039f\"], [0.2222222222222222, \"#7201a8\"], [0.3333333333333333, \"#9c179e\"], [0.4444444444444444, \"#bd3786\"], [0.5555555555555556, \"#d8576b\"], [0.6666666666666666, \"#ed7953\"], [0.7777777777777778, \"#fb9f3a\"], [0.8888888888888888, \"#fdca26\"], [1.0, \"#f0f921\"]], \"type\": \"histogram2dcontour\"}], \"mesh3d\": [{\"colorbar\": {\"outlinewidth\": 0, \"ticks\": \"\"}, \"type\": \"mesh3d\"}], \"parcoords\": [{\"line\": {\"colorbar\": {\"outlinewidth\": 0, \"ticks\": \"\"}}, \"type\": \"parcoords\"}], \"pie\": [{\"automargin\": true, \"type\": \"pie\"}], \"scatter\": [{\"marker\": {\"colorbar\": {\"outlinewidth\": 0, \"ticks\": \"\"}}, \"type\": \"scatter\"}], \"scatter3d\": [{\"line\": {\"colorbar\": {\"outlinewidth\": 0, \"ticks\": \"\"}}, \"marker\": {\"colorbar\": {\"outlinewidth\": 0, \"ticks\": \"\"}}, \"type\": \"scatter3d\"}], \"scattercarpet\": [{\"marker\": {\"colorbar\": {\"outlinewidth\": 0, \"ticks\": \"\"}}, \"type\": \"scattercarpet\"}], \"scattergeo\": [{\"marker\": {\"colorbar\": {\"outlinewidth\": 0, \"ticks\": \"\"}}, \"type\": \"scattergeo\"}], \"scattergl\": [{\"marker\": {\"colorbar\": {\"outlinewidth\": 0, \"ticks\": \"\"}}, \"type\": \"scattergl\"}], \"scattermapbox\": [{\"marker\": {\"colorbar\": {\"outlinewidth\": 0, \"ticks\": \"\"}}, \"type\": \"scattermapbox\"}], \"scatterpolar\": [{\"marker\": {\"colorbar\": {\"outlinewidth\": 0, \"ticks\": \"\"}}, \"type\": \"scatterpolar\"}], \"scatterpolargl\": [{\"marker\": {\"colorbar\": {\"outlinewidth\": 0, \"ticks\": \"\"}}, \"type\": \"scatterpolargl\"}], \"scatterternary\": [{\"marker\": {\"colorbar\": {\"outlinewidth\": 0, \"ticks\": \"\"}}, \"type\": \"scatterternary\"}], \"surface\": [{\"colorbar\": {\"outlinewidth\": 0, \"ticks\": \"\"}, \"colorscale\": [[0.0, \"#0d0887\"], [0.1111111111111111, \"#46039f\"], [0.2222222222222222, \"#7201a8\"], [0.3333333333333333, \"#9c179e\"], [0.4444444444444444, \"#bd3786\"], [0.5555555555555556, \"#d8576b\"], [0.6666666666666666, \"#ed7953\"], [0.7777777777777778, \"#fb9f3a\"], [0.8888888888888888, \"#fdca26\"], [1.0, \"#f0f921\"]], \"type\": \"surface\"}], \"table\": [{\"cells\": {\"fill\": {\"color\": \"#EBF0F8\"}, \"line\": {\"color\": \"white\"}}, \"header\": {\"fill\": {\"color\": \"#C8D4E3\"}, \"line\": {\"color\": \"white\"}}, \"type\": \"table\"}]}, \"layout\": {\"annotationdefaults\": {\"arrowcolor\": \"#2a3f5f\", \"arrowhead\": 0, \"arrowwidth\": 1}, \"coloraxis\": {\"colorbar\": {\"outlinewidth\": 0, \"ticks\": \"\"}}, \"colorscale\": {\"diverging\": [[0, \"#8e0152\"], [0.1, \"#c51b7d\"], [0.2, \"#de77ae\"], [0.3, \"#f1b6da\"], [0.4, \"#fde0ef\"], [0.5, \"#f7f7f7\"], [0.6, \"#e6f5d0\"], [0.7, \"#b8e186\"], [0.8, \"#7fbc41\"], [0.9, \"#4d9221\"], [1, \"#276419\"]], \"sequential\": [[0.0, \"#0d0887\"], [0.1111111111111111, \"#46039f\"], [0.2222222222222222, \"#7201a8\"], [0.3333333333333333, \"#9c179e\"], [0.4444444444444444, \"#bd3786\"], [0.5555555555555556, \"#d8576b\"], [0.6666666666666666, \"#ed7953\"], [0.7777777777777778, \"#fb9f3a\"], [0.8888888888888888, \"#fdca26\"], [1.0, \"#f0f921\"]], \"sequentialminus\": [[0.0, \"#0d0887\"], [0.1111111111111111, \"#46039f\"], [0.2222222222222222, \"#7201a8\"], [0.3333333333333333, \"#9c179e\"], [0.4444444444444444, \"#bd3786\"], [0.5555555555555556, \"#d8576b\"], [0.6666666666666666, \"#ed7953\"], [0.7777777777777778, \"#fb9f3a\"], [0.8888888888888888, \"#fdca26\"], [1.0, \"#f0f921\"]]}, \"colorway\": [\"#636efa\", \"#EF553B\", \"#00cc96\", \"#ab63fa\", \"#FFA15A\", \"#19d3f3\", \"#FF6692\", \"#B6E880\", \"#FF97FF\", \"#FECB52\"], \"font\": {\"color\": \"#2a3f5f\"}, \"geo\": {\"bgcolor\": \"white\", \"lakecolor\": \"white\", \"landcolor\": \"#E5ECF6\", \"showlakes\": true, \"showland\": true, \"subunitcolor\": \"white\"}, \"hoverlabel\": {\"align\": \"left\"}, \"hovermode\": \"closest\", \"mapbox\": {\"style\": \"light\"}, \"paper_bgcolor\": \"white\", \"plot_bgcolor\": \"#E5ECF6\", \"polar\": {\"angularaxis\": {\"gridcolor\": \"white\", \"linecolor\": \"white\", \"ticks\": \"\"}, \"bgcolor\": \"#E5ECF6\", \"radialaxis\": {\"gridcolor\": \"white\", \"linecolor\": \"white\", \"ticks\": \"\"}}, \"scene\": {\"xaxis\": {\"backgroundcolor\": \"#E5ECF6\", \"gridcolor\": \"white\", \"gridwidth\": 2, \"linecolor\": \"white\", \"showbackground\": true, \"ticks\": \"\", \"zerolinecolor\": \"white\"}, \"yaxis\": {\"backgroundcolor\": \"#E5ECF6\", \"gridcolor\": \"white\", \"gridwidth\": 2, \"linecolor\": \"white\", \"showbackground\": true, \"ticks\": \"\", \"zerolinecolor\": \"white\"}, \"zaxis\": {\"backgroundcolor\": \"#E5ECF6\", \"gridcolor\": \"white\", \"gridwidth\": 2, \"linecolor\": \"white\", \"showbackground\": true, \"ticks\": \"\", \"zerolinecolor\": \"white\"}}, \"shapedefaults\": {\"line\": {\"color\": \"#2a3f5f\"}}, \"ternary\": {\"aaxis\": {\"gridcolor\": \"white\", \"linecolor\": \"white\", \"ticks\": \"\"}, \"baxis\": {\"gridcolor\": \"white\", \"linecolor\": \"white\", \"ticks\": \"\"}, \"bgcolor\": \"#E5ECF6\", \"caxis\": {\"gridcolor\": \"white\", \"linecolor\": \"white\", \"ticks\": \"\"}}, \"title\": {\"x\": 0.05}, \"xaxis\": {\"automargin\": true, \"gridcolor\": \"white\", \"linecolor\": \"white\", \"ticks\": \"\", \"title\": {\"standoff\": 15}, \"zerolinecolor\": \"white\", \"zerolinewidth\": 2}, \"yaxis\": {\"automargin\": true, \"gridcolor\": \"white\", \"linecolor\": \"white\", \"ticks\": \"\", \"title\": {\"standoff\": 15}, \"zerolinecolor\": \"white\", \"zerolinewidth\": 2}}}, \"xaxis\": {\"anchor\": \"y\", \"domain\": [0.0, 1.0], \"title\": {\"text\": \"score\"}}, \"yaxis\": {\"anchor\": \"x\", \"domain\": [0.0, 1.0], \"title\": {\"text\": \"count\"}}},\n",
              "                        {\"responsive\": true}\n",
              "                    ).then(function(){\n",
              "                            \n",
              "var gd = document.getElementById('b935600e-e5de-4250-908a-af8516b3b821');\n",
              "var x = new MutationObserver(function (mutations, observer) {{\n",
              "        var display = window.getComputedStyle(gd).display;\n",
              "        if (!display || display === 'none') {{\n",
              "            console.log([gd, 'removed!']);\n",
              "            Plotly.purge(gd);\n",
              "            observer.disconnect();\n",
              "        }}\n",
              "}});\n",
              "\n",
              "// Listen for the removal of the full notebook cells\n",
              "var notebookContainer = gd.closest('#notebook-container');\n",
              "if (notebookContainer) {{\n",
              "    x.observe(notebookContainer, {childList: true});\n",
              "}}\n",
              "\n",
              "// Listen for the clearing of the current output cell\n",
              "var outputEl = gd.closest('.output');\n",
              "if (outputEl) {{\n",
              "    x.observe(outputEl, {childList: true});\n",
              "}}\n",
              "\n",
              "                        })\n",
              "                };\n",
              "                \n",
              "            </script>\n",
              "        </div>\n",
              "</body>\n",
              "</html>"
            ]
          },
          "metadata": {}
        }
      ]
    },
    {
      "cell_type": "code",
      "metadata": {
        "colab": {
          "base_uri": "https://localhost:8080/",
          "height": 990
        },
        "id": "7N81-XfdDFKV",
        "outputId": "59c56300-16aa-42a6-c96b-ab6a4887d35d"
      },
      "source": [
        "result, details = recommend_tune(df_sim, 'These Foolish Things')\n",
        "result.head(30)"
      ],
      "execution_count": 419,
      "outputs": [
        {
          "output_type": "execute_result",
          "data": {
            "text/html": [
              "<div>\n",
              "<style scoped>\n",
              "    .dataframe tbody tr th:only-of-type {\n",
              "        vertical-align: middle;\n",
              "    }\n",
              "\n",
              "    .dataframe tbody tr th {\n",
              "        vertical-align: top;\n",
              "    }\n",
              "\n",
              "    .dataframe thead th {\n",
              "        text-align: right;\n",
              "    }\n",
              "</style>\n",
              "<table border=\"1\" class=\"dataframe\">\n",
              "  <thead>\n",
              "    <tr style=\"text-align: right;\">\n",
              "      <th></th>\n",
              "      <th>reference</th>\n",
              "      <th>similar_title</th>\n",
              "      <th>score</th>\n",
              "      <th>max</th>\n",
              "      <th>score_div_max</th>\n",
              "    </tr>\n",
              "  </thead>\n",
              "  <tbody>\n",
              "    <tr>\n",
              "      <th>0</th>\n",
              "      <td>These Foolish Things</td>\n",
              "      <td>Way You Look Tonight, The</td>\n",
              "      <td>0.898986</td>\n",
              "      <td>0.898986</td>\n",
              "      <td>1.000000</td>\n",
              "    </tr>\n",
              "    <tr>\n",
              "      <th>1</th>\n",
              "      <td>These Foolish Things</td>\n",
              "      <td>Isn't It A Pity</td>\n",
              "      <td>0.913797</td>\n",
              "      <td>0.913797</td>\n",
              "      <td>1.000000</td>\n",
              "    </tr>\n",
              "    <tr>\n",
              "      <th>2</th>\n",
              "      <td>These Foolish Things</td>\n",
              "      <td>Mountain Greenery</td>\n",
              "      <td>0.868435</td>\n",
              "      <td>0.898986</td>\n",
              "      <td>1.000000</td>\n",
              "    </tr>\n",
              "    <tr>\n",
              "      <th>3</th>\n",
              "      <td>These Foolish Things</td>\n",
              "      <td>I Like The Likes Of You</td>\n",
              "      <td>0.884297</td>\n",
              "      <td>0.898986</td>\n",
              "      <td>0.983660</td>\n",
              "    </tr>\n",
              "    <tr>\n",
              "      <th>4</th>\n",
              "      <td>These Foolish Things</td>\n",
              "      <td>I Won't Dance</td>\n",
              "      <td>0.873078</td>\n",
              "      <td>0.898986</td>\n",
              "      <td>0.981704</td>\n",
              "    </tr>\n",
              "    <tr>\n",
              "      <th>5</th>\n",
              "      <td>These Foolish Things</td>\n",
              "      <td>Party's Over, The</td>\n",
              "      <td>0.879704</td>\n",
              "      <td>0.898986</td>\n",
              "      <td>0.978551</td>\n",
              "    </tr>\n",
              "    <tr>\n",
              "      <th>6</th>\n",
              "      <td>These Foolish Things</td>\n",
              "      <td>Heart And Soul</td>\n",
              "      <td>0.873000</td>\n",
              "      <td>0.898986</td>\n",
              "      <td>0.975172</td>\n",
              "    </tr>\n",
              "    <tr>\n",
              "      <th>7</th>\n",
              "      <td>These Foolish Things</td>\n",
              "      <td>Let's Fall In Love</td>\n",
              "      <td>0.866519</td>\n",
              "      <td>0.898986</td>\n",
              "      <td>0.964962</td>\n",
              "    </tr>\n",
              "    <tr>\n",
              "      <th>8</th>\n",
              "      <td>These Foolish Things</td>\n",
              "      <td>I'm Old Fashioned</td>\n",
              "      <td>0.856154</td>\n",
              "      <td>0.898986</td>\n",
              "      <td>0.961111</td>\n",
              "    </tr>\n",
              "    <tr>\n",
              "      <th>9</th>\n",
              "      <td>These Foolish Things</td>\n",
              "      <td>Jeepers Creepers</td>\n",
              "      <td>0.863482</td>\n",
              "      <td>0.898986</td>\n",
              "      <td>0.960506</td>\n",
              "    </tr>\n",
              "    <tr>\n",
              "      <th>10</th>\n",
              "      <td>These Foolish Things</td>\n",
              "      <td>Time After Time</td>\n",
              "      <td>0.843131</td>\n",
              "      <td>0.898986</td>\n",
              "      <td>0.960272</td>\n",
              "    </tr>\n",
              "    <tr>\n",
              "      <th>11</th>\n",
              "      <td>These Foolish Things</td>\n",
              "      <td>For Once In My Life</td>\n",
              "      <td>0.859134</td>\n",
              "      <td>0.898986</td>\n",
              "      <td>0.955670</td>\n",
              "    </tr>\n",
              "    <tr>\n",
              "      <th>12</th>\n",
              "      <td>These Foolish Things</td>\n",
              "      <td>Dinah</td>\n",
              "      <td>0.855341</td>\n",
              "      <td>0.898986</td>\n",
              "      <td>0.951450</td>\n",
              "    </tr>\n",
              "    <tr>\n",
              "      <th>13</th>\n",
              "      <td>These Foolish Things</td>\n",
              "      <td>Try A Little Tenderness</td>\n",
              "      <td>0.854835</td>\n",
              "      <td>0.898986</td>\n",
              "      <td>0.950887</td>\n",
              "    </tr>\n",
              "    <tr>\n",
              "      <th>14</th>\n",
              "      <td>These Foolish Things</td>\n",
              "      <td>Long Ago And Far Away</td>\n",
              "      <td>0.852138</td>\n",
              "      <td>0.898986</td>\n",
              "      <td>0.947888</td>\n",
              "    </tr>\n",
              "    <tr>\n",
              "      <th>15</th>\n",
              "      <td>These Foolish Things</td>\n",
              "      <td>Don't Be That Way</td>\n",
              "      <td>0.851479</td>\n",
              "      <td>0.898986</td>\n",
              "      <td>0.947155</td>\n",
              "    </tr>\n",
              "    <tr>\n",
              "      <th>16</th>\n",
              "      <td>These Foolish Things</td>\n",
              "      <td>Wouldn't It Be Loverly</td>\n",
              "      <td>0.848382</td>\n",
              "      <td>0.898986</td>\n",
              "      <td>0.943709</td>\n",
              "    </tr>\n",
              "    <tr>\n",
              "      <th>17</th>\n",
              "      <td>These Foolish Things</td>\n",
              "      <td>52nd Street Theme</td>\n",
              "      <td>0.817307</td>\n",
              "      <td>0.866082</td>\n",
              "      <td>0.943683</td>\n",
              "    </tr>\n",
              "    <tr>\n",
              "      <th>18</th>\n",
              "      <td>These Foolish Things</td>\n",
              "      <td>They All Laughed</td>\n",
              "      <td>0.847981</td>\n",
              "      <td>0.898986</td>\n",
              "      <td>0.943264</td>\n",
              "    </tr>\n",
              "    <tr>\n",
              "      <th>19</th>\n",
              "      <td>These Foolish Things</td>\n",
              "      <td>At Last</td>\n",
              "      <td>0.838166</td>\n",
              "      <td>0.913797</td>\n",
              "      <td>0.940919</td>\n",
              "    </tr>\n",
              "    <tr>\n",
              "      <th>20</th>\n",
              "      <td>These Foolish Things</td>\n",
              "      <td>Fools Rush In</td>\n",
              "      <td>0.840550</td>\n",
              "      <td>0.898986</td>\n",
              "      <td>0.940274</td>\n",
              "    </tr>\n",
              "    <tr>\n",
              "      <th>21</th>\n",
              "      <td>These Foolish Things</td>\n",
              "      <td>Bewitched</td>\n",
              "      <td>0.838203</td>\n",
              "      <td>0.898986</td>\n",
              "      <td>0.939275</td>\n",
              "    </tr>\n",
              "    <tr>\n",
              "      <th>22</th>\n",
              "      <td>These Foolish Things</td>\n",
              "      <td>I've Got My Fingers Crossed</td>\n",
              "      <td>0.837733</td>\n",
              "      <td>0.898986</td>\n",
              "      <td>0.939012</td>\n",
              "    </tr>\n",
              "    <tr>\n",
              "      <th>23</th>\n",
              "      <td>These Foolish Things</td>\n",
              "      <td>Touch Of Your Lips, The</td>\n",
              "      <td>0.833850</td>\n",
              "      <td>0.890796</td>\n",
              "      <td>0.936073</td>\n",
              "    </tr>\n",
              "    <tr>\n",
              "      <th>24</th>\n",
              "      <td>These Foolish Things</td>\n",
              "      <td>And The Angels Sing</td>\n",
              "      <td>0.839347</td>\n",
              "      <td>0.898986</td>\n",
              "      <td>0.933660</td>\n",
              "    </tr>\n",
              "    <tr>\n",
              "      <th>25</th>\n",
              "      <td>These Foolish Things</td>\n",
              "      <td>Moonlight In Vermont</td>\n",
              "      <td>0.839058</td>\n",
              "      <td>0.898986</td>\n",
              "      <td>0.933338</td>\n",
              "    </tr>\n",
              "    <tr>\n",
              "      <th>26</th>\n",
              "      <td>These Foolish Things</td>\n",
              "      <td>Smoke Gets In Your Eyes</td>\n",
              "      <td>0.830573</td>\n",
              "      <td>0.890796</td>\n",
              "      <td>0.932395</td>\n",
              "    </tr>\n",
              "    <tr>\n",
              "      <th>27</th>\n",
              "      <td>These Foolish Things</td>\n",
              "      <td>Over The Rainbow (Somewhere)</td>\n",
              "      <td>0.837397</td>\n",
              "      <td>0.898986</td>\n",
              "      <td>0.931490</td>\n",
              "    </tr>\n",
              "    <tr>\n",
              "      <th>28</th>\n",
              "      <td>These Foolish Things</td>\n",
              "      <td>Too Young To Go Steady</td>\n",
              "      <td>0.805414</td>\n",
              "      <td>0.913797</td>\n",
              "      <td>0.929952</td>\n",
              "    </tr>\n",
              "    <tr>\n",
              "      <th>29</th>\n",
              "      <td>These Foolish Things</td>\n",
              "      <td>Glory Of Love, The</td>\n",
              "      <td>0.827397</td>\n",
              "      <td>0.890796</td>\n",
              "      <td>0.928829</td>\n",
              "    </tr>\n",
              "  </tbody>\n",
              "</table>\n",
              "</div>"
            ],
            "text/plain": [
              "               reference                 similar_title  ...       max  score_div_max\n",
              "0   These Foolish Things     Way You Look Tonight, The  ...  0.898986       1.000000\n",
              "1   These Foolish Things               Isn't It A Pity  ...  0.913797       1.000000\n",
              "2   These Foolish Things             Mountain Greenery  ...  0.898986       1.000000\n",
              "3   These Foolish Things       I Like The Likes Of You  ...  0.898986       0.983660\n",
              "4   These Foolish Things                 I Won't Dance  ...  0.898986       0.981704\n",
              "5   These Foolish Things             Party's Over, The  ...  0.898986       0.978551\n",
              "6   These Foolish Things                Heart And Soul  ...  0.898986       0.975172\n",
              "7   These Foolish Things            Let's Fall In Love  ...  0.898986       0.964962\n",
              "8   These Foolish Things             I'm Old Fashioned  ...  0.898986       0.961111\n",
              "9   These Foolish Things              Jeepers Creepers  ...  0.898986       0.960506\n",
              "10  These Foolish Things               Time After Time  ...  0.898986       0.960272\n",
              "11  These Foolish Things           For Once In My Life  ...  0.898986       0.955670\n",
              "12  These Foolish Things                         Dinah  ...  0.898986       0.951450\n",
              "13  These Foolish Things       Try A Little Tenderness  ...  0.898986       0.950887\n",
              "14  These Foolish Things         Long Ago And Far Away  ...  0.898986       0.947888\n",
              "15  These Foolish Things             Don't Be That Way  ...  0.898986       0.947155\n",
              "16  These Foolish Things        Wouldn't It Be Loverly  ...  0.898986       0.943709\n",
              "17  These Foolish Things             52nd Street Theme  ...  0.866082       0.943683\n",
              "18  These Foolish Things              They All Laughed  ...  0.898986       0.943264\n",
              "19  These Foolish Things                       At Last  ...  0.913797       0.940919\n",
              "20  These Foolish Things                 Fools Rush In  ...  0.898986       0.940274\n",
              "21  These Foolish Things                     Bewitched  ...  0.898986       0.939275\n",
              "22  These Foolish Things   I've Got My Fingers Crossed  ...  0.898986       0.939012\n",
              "23  These Foolish Things       Touch Of Your Lips, The  ...  0.890796       0.936073\n",
              "24  These Foolish Things           And The Angels Sing  ...  0.898986       0.933660\n",
              "25  These Foolish Things          Moonlight In Vermont  ...  0.898986       0.933338\n",
              "26  These Foolish Things       Smoke Gets In Your Eyes  ...  0.890796       0.932395\n",
              "27  These Foolish Things  Over The Rainbow (Somewhere)  ...  0.898986       0.931490\n",
              "28  These Foolish Things        Too Young To Go Steady  ...  0.913797       0.929952\n",
              "29  These Foolish Things            Glory Of Love, The  ...  0.890796       0.928829\n",
              "\n",
              "[30 rows x 5 columns]"
            ]
          },
          "metadata": {},
          "execution_count": 419
        }
      ]
    },
    {
      "cell_type": "code",
      "metadata": {
        "id": "15ZsHOQmyyah"
      },
      "source": [
        "columns = [\"Reference\", \"Recommendation\", \"Score\", \"Score_Div_Max\"]\n",
        "table = wandb.Table(columns=columns)\n",
        "\n",
        "for tune in tunes_eval_list:\n",
        "  result, details = recommend_tune(df_sim, tune)\n",
        "\n",
        "  for index, row in result.iterrows():\n",
        "    table.add_data(tune, row['similar_title'], row['score'], row['score_div_max'])\n",
        "\n",
        "wandb.log({\"lsi\": table})"
      ],
      "execution_count": 420,
      "outputs": []
    },
    {
      "cell_type": "markdown",
      "metadata": {
        "id": "asScIocQRMPA"
      },
      "source": [
        "## Determine Number of Topics for LSI Model\n",
        "\n",
        "This sample comes from Datacamp: \n",
        "\n",
        "https://www.datacamp.com/community/tutorials/discovering-hidden-topics-python\n"
      ]
    },
    {
      "cell_type": "markdown",
      "metadata": {
        "id": "1TPNWFEPSxZ-"
      },
      "source": [
        "What is the best way to determine k (number of topics) in topic modeling? Identify the optimum number of topics in the given corpus text is a challenging task. We can use the following options for determining the optimum number of topics:\n",
        "\n",
        "* One way to determine the optimum number of topics is to consider each topic as a cluster and find out the effectiveness of a cluster using the Silhouette coefficient.\n",
        "* Topic coherence measure is a realistic measure for identifying the number of topics.\n",
        "\n",
        "Topic Coherence measure is a widely used metric to evaluate topic models. It uses the latent variable models. Each generated topic has a list of words. In topic coherence measure, you will find average/median of pairwise word similarity scores of the words in a topic. The high value of topic coherence score model will be considered as a good topic model. "
      ]
    },
    {
      "cell_type": "code",
      "metadata": {
        "id": "umpCyQQzRLgv"
      },
      "source": [
        "def prepare_corpus(doc_clean):\n",
        "    \"\"\"\n",
        "    Input  : clean document\n",
        "    Purpose: create term dictionary of our courpus and Converting list of documents (corpus) into Document Term Matrix\n",
        "    Output : term dictionary and Document Term Matrix\n",
        "    \"\"\"\n",
        "    # Creating the term dictionary of our courpus, where every unique term is assigned an index. dictionary = corpora.Dictionary(doc_clean)\n",
        "    dictionary = corpora.Dictionary(doc_clean)\n",
        "    # Converting list of documents (corpus) into Document Term Matrix using dictionary prepared above.\n",
        "    doc_term_matrix = [dictionary.doc2bow(doc) for doc in doc_clean]\n",
        "    # generate LDA model\n",
        "    return dictionary, doc_term_matrix"
      ],
      "execution_count": 421,
      "outputs": []
    },
    {
      "cell_type": "code",
      "metadata": {
        "id": "aS2wxIEERcul"
      },
      "source": [
        "def compute_coherence_values(dictionary, doc_term_matrix, doc_clean, stop, start=2, step=3):\n",
        "    \"\"\"\n",
        "    Input   : dictionary : Gensim dictionary\n",
        "              corpus : Gensim corpus\n",
        "              texts : List of input texts\n",
        "              stop : Max num of topics\n",
        "    purpose : Compute c_v coherence for various number of topics\n",
        "    Output  : model_list : List of LSA topic models\n",
        "              coherence_values : Coherence values corresponding to the LDA model with respective number of topics\n",
        "    \"\"\"\n",
        "    coherence_values = []\n",
        "    model_list = []\n",
        "    for num_topics in range(start, stop, step):\n",
        "        # generate LSA model\n",
        "        model = LsiModel(doc_term_matrix, num_topics=num_topics, id2word = dictionary)  # train model\n",
        "        model_list.append(model)\n",
        "        coherencemodel = CoherenceModel(model=model, texts=doc_clean, dictionary=dictionary, coherence='c_v')\n",
        "        coherence_values.append(coherencemodel.get_coherence())\n",
        "    return model_list, coherence_values"
      ],
      "execution_count": 422,
      "outputs": []
    },
    {
      "cell_type": "code",
      "metadata": {
        "id": "DjyzAzWBRfrH"
      },
      "source": [
        "def plot_graph(doc_clean,start, stop, step):\n",
        "    dictionary, doc_term_matrix = prepare_corpus(doc_clean)\n",
        "    model_list, coherence_values = compute_coherence_values(dictionary, doc_term_matrix,doc_clean,\n",
        "                                                            stop, start, step)\n",
        "    # Show graph\n",
        "    x = range(start, stop, step)\n",
        "    plt.plot(x, coherence_values)\n",
        "    plt.xlabel(\"Number of Topics\")\n",
        "    plt.ylabel(\"Coherence score\")\n",
        "    plt.legend((\"coherence_values\"), loc='best')\n",
        "    plt.show()"
      ],
      "execution_count": 423,
      "outputs": []
    },
    {
      "cell_type": "code",
      "metadata": {
        "id": "qy9ZjdcmRhxs"
      },
      "source": [
        "# evaluate a good number of topics for the LSI Model. This takes some time.\n",
        "\n",
        "if False:\n",
        "\n",
        "  start, stop, step = 1, 500, 10\n",
        "  plot_graph(data, start, stop, step)"
      ],
      "execution_count": 424,
      "outputs": []
    },
    {
      "cell_type": "markdown",
      "metadata": {
        "id": "Qo5NgBHFlqgg"
      },
      "source": [
        "For unigrams, the best number of topics seems to be around 20.\n",
        "\n",
        "For unigrams plus bigrams, the coherence score drops down until 100 and then continuously rises until 500 and continues to rise. Same for bigrams-only."
      ]
    },
    {
      "cell_type": "markdown",
      "metadata": {
        "id": "rF_INicGhXKd"
      },
      "source": [
        "# Doc2Vec"
      ]
    },
    {
      "cell_type": "code",
      "metadata": {
        "id": "wflSccBshkIk"
      },
      "source": [
        "def get_tagged_documents(corpus):\n",
        "  for i, tokens in enumerate(corpus):\n",
        "    yield gensim.models.doc2vec.TaggedDocument(tokens, [i, f'titleid_{sectionid_to_titleid[i]}'])\n",
        "    yield gensim.models.doc2vec.TaggedDocument(tokens, [i])  # diatonic chord distance is a bit better"
      ],
      "execution_count": 425,
      "outputs": []
    },
    {
      "cell_type": "code",
      "metadata": {
        "colab": {
          "base_uri": "https://localhost:8080/"
        },
        "id": "_u0RdBI1kYD9",
        "outputId": "dbf3e441-bdb4-4a54-8189-edffc5e3dbbe"
      },
      "source": [
        "train_corpus = list(get_tagged_documents(processed_corpus))\n",
        "train_corpus[1000]"
      ],
      "execution_count": 426,
      "outputs": [
        {
          "output_type": "execute_result",
          "data": {
            "text/plain": [
              "TaggedDocument(words=['C-Am', 'Am-Dm', 'Dm-G7', 'G7-Em', 'Em-Am', 'Am-Dm', 'Dm-G7', 'G7-Gm', 'Gm-C7', 'C7-F', 'F-Bb7', 'Bb7-Am', 'Am-D7', 'D7-Dm', 'Dm-G7'], tags=[500, 'titleid_160'])"
            ]
          },
          "metadata": {},
          "execution_count": 426
        }
      ]
    },
    {
      "cell_type": "code",
      "metadata": {
        "colab": {
          "base_uri": "https://localhost:8080/"
        },
        "id": "M9adPoy9reaw",
        "outputId": "0d8cc504-c170-44cd-f9cf-dca2dfa736e9"
      },
      "source": [
        "import multiprocessing\n",
        "\n",
        "common_kwargs = dict(\n",
        "    epochs=40, \n",
        "    min_count=1,\n",
        "    workers=multiprocessing.cpu_count(), \n",
        "    negative=10, \n",
        ")\n",
        "\n",
        "print(f\"CPU Count: {multiprocessing.cpu_count()}\")\n",
        "\n",
        "dm = 0 # PV-DBOW\n",
        "dm = 1 # PV-DM\n",
        "sample = 0.001  # huge influence; 0.001 is best for a high value in the similarity of diatonic chords of the Cmaj scale\n",
        "window = 2  # 2 is best for diatonic chords\n",
        "negative = 10 # 10 is best for diatonic chords\n",
        "\n",
        "model = Doc2Vec(train_corpus,\n",
        "                dm=1, \n",
        "                vector_size=100, \n",
        "                window=window, \n",
        "                epochs=40,\n",
        "                workers=1,\n",
        "                min_count=1,\n",
        "                negative=negative,\n",
        "                sample=sample,\n",
        "                seed=42,\n",
        "                )"
      ],
      "execution_count": 427,
      "outputs": [
        {
          "output_type": "stream",
          "name": "stderr",
          "text": [
            "2021-11-20 17:43:08,613 : INFO : collecting all words and their counts\n",
            "2021-11-20 17:43:08,616 : INFO : PROGRESS: at example #0, processed 0 words (0/s), 0 word types, 0 tags\n",
            "2021-11-20 17:43:08,670 : INFO : PROGRESS: at example #10000, processed 139208 words (2686469/s), 1897 word types, 1619 tags\n",
            "2021-11-20 17:43:08,693 : INFO : collected 1918 word types and 7215 unique tags from a corpus of 10806 examples and 154774 words\n",
            "2021-11-20 17:43:08,701 : INFO : Creating a fresh vocabulary\n",
            "2021-11-20 17:43:08,717 : INFO : Doc2Vec lifecycle event {'msg': 'effective_min_count=1 retains 1918 unique words (100.0%% of original 1918, drops 0)', 'datetime': '2021-11-20T17:43:08.717794', 'gensim': '4.1.2', 'python': '3.7.12 (default, Sep 10 2021, 00:21:48) \\n[GCC 7.5.0]', 'platform': 'Linux-5.4.104+-x86_64-with-Ubuntu-18.04-bionic', 'event': 'prepare_vocab'}\n",
            "2021-11-20 17:43:08,720 : INFO : Doc2Vec lifecycle event {'msg': 'effective_min_count=1 leaves 154774 word corpus (100.0%% of original 154774, drops 0)', 'datetime': '2021-11-20T17:43:08.719969', 'gensim': '4.1.2', 'python': '3.7.12 (default, Sep 10 2021, 00:21:48) \\n[GCC 7.5.0]', 'platform': 'Linux-5.4.104+-x86_64-with-Ubuntu-18.04-bionic', 'event': 'prepare_vocab'}\n",
            "2021-11-20 17:43:08,742 : INFO : deleting the raw counts dictionary of 1918 items\n",
            "2021-11-20 17:43:08,744 : INFO : sample=0.001 downsamples 69 most-common words\n",
            "2021-11-20 17:43:08,751 : INFO : Doc2Vec lifecycle event {'msg': 'downsampling leaves estimated 91657.00796383987 word corpus (59.2%% of prior 154774)', 'datetime': '2021-11-20T17:43:08.751419', 'gensim': '4.1.2', 'python': '3.7.12 (default, Sep 10 2021, 00:21:48) \\n[GCC 7.5.0]', 'platform': 'Linux-5.4.104+-x86_64-with-Ubuntu-18.04-bionic', 'event': 'prepare_vocab'}\n",
            "2021-11-20 17:43:08,778 : INFO : estimated required memory for 1918 words and 100 dimensions: 6822400 bytes\n",
            "2021-11-20 17:43:08,783 : INFO : resetting layer weights\n",
            "2021-11-20 17:43:08,798 : INFO : Doc2Vec lifecycle event {'msg': 'training model with 1 workers on 1918 vocabulary and 100 features, using sg=0 hs=0 sample=0.001 negative=10 window=2 shrink_windows=True', 'datetime': '2021-11-20T17:43:08.798565', 'gensim': '4.1.2', 'python': '3.7.12 (default, Sep 10 2021, 00:21:48) \\n[GCC 7.5.0]', 'platform': 'Linux-5.4.104+-x86_64-with-Ubuntu-18.04-bionic', 'event': 'train'}\n"
          ]
        },
        {
          "output_type": "stream",
          "name": "stdout",
          "text": [
            "CPU Count: 2\n"
          ]
        },
        {
          "output_type": "stream",
          "name": "stderr",
          "text": [
            "2021-11-20 17:43:09,595 : INFO : worker thread finished; awaiting finish of 0 more threads\n",
            "2021-11-20 17:43:09,596 : INFO : EPOCH - 1 : training on 154774 raw words (107943 effective words) took 0.8s, 136847 effective words/s\n",
            "2021-11-20 17:43:10,349 : INFO : worker thread finished; awaiting finish of 0 more threads\n",
            "2021-11-20 17:43:10,353 : INFO : EPOCH - 2 : training on 154774 raw words (107997 effective words) took 0.7s, 144589 effective words/s\n",
            "2021-11-20 17:43:11,109 : INFO : worker thread finished; awaiting finish of 0 more threads\n",
            "2021-11-20 17:43:11,112 : INFO : EPOCH - 3 : training on 154774 raw words (107915 effective words) took 0.7s, 144139 effective words/s\n",
            "2021-11-20 17:43:11,821 : INFO : worker thread finished; awaiting finish of 0 more threads\n",
            "2021-11-20 17:43:11,824 : INFO : EPOCH - 4 : training on 154774 raw words (108272 effective words) took 0.7s, 153579 effective words/s\n",
            "2021-11-20 17:43:12,538 : INFO : worker thread finished; awaiting finish of 0 more threads\n",
            "2021-11-20 17:43:12,541 : INFO : EPOCH - 5 : training on 154774 raw words (107901 effective words) took 0.7s, 152308 effective words/s\n",
            "2021-11-20 17:43:13,221 : INFO : worker thread finished; awaiting finish of 0 more threads\n",
            "2021-11-20 17:43:13,224 : INFO : EPOCH - 6 : training on 154774 raw words (107925 effective words) took 0.7s, 160116 effective words/s\n",
            "2021-11-20 17:43:13,986 : INFO : worker thread finished; awaiting finish of 0 more threads\n",
            "2021-11-20 17:43:13,988 : INFO : EPOCH - 7 : training on 154774 raw words (107684 effective words) took 0.8s, 143432 effective words/s\n",
            "2021-11-20 17:43:14,698 : INFO : worker thread finished; awaiting finish of 0 more threads\n",
            "2021-11-20 17:43:14,700 : INFO : EPOCH - 8 : training on 154774 raw words (107862 effective words) took 0.7s, 154279 effective words/s\n",
            "2021-11-20 17:43:15,429 : INFO : worker thread finished; awaiting finish of 0 more threads\n",
            "2021-11-20 17:43:15,430 : INFO : EPOCH - 9 : training on 154774 raw words (107908 effective words) took 0.7s, 150339 effective words/s\n",
            "2021-11-20 17:43:16,149 : INFO : worker thread finished; awaiting finish of 0 more threads\n",
            "2021-11-20 17:43:16,152 : INFO : EPOCH - 10 : training on 154774 raw words (107718 effective words) took 0.7s, 152141 effective words/s\n",
            "2021-11-20 17:43:16,852 : INFO : worker thread finished; awaiting finish of 0 more threads\n",
            "2021-11-20 17:43:16,854 : INFO : EPOCH - 11 : training on 154774 raw words (107853 effective words) took 0.7s, 155835 effective words/s\n",
            "2021-11-20 17:43:17,541 : INFO : worker thread finished; awaiting finish of 0 more threads\n",
            "2021-11-20 17:43:17,543 : INFO : EPOCH - 12 : training on 154774 raw words (108176 effective words) took 0.7s, 159316 effective words/s\n",
            "2021-11-20 17:43:18,244 : INFO : worker thread finished; awaiting finish of 0 more threads\n",
            "2021-11-20 17:43:18,245 : INFO : EPOCH - 13 : training on 154774 raw words (107934 effective words) took 0.7s, 157553 effective words/s\n",
            "2021-11-20 17:43:18,925 : INFO : worker thread finished; awaiting finish of 0 more threads\n",
            "2021-11-20 17:43:18,926 : INFO : EPOCH - 14 : training on 154774 raw words (107679 effective words) took 0.7s, 160356 effective words/s\n",
            "2021-11-20 17:43:19,586 : INFO : worker thread finished; awaiting finish of 0 more threads\n",
            "2021-11-20 17:43:19,588 : INFO : EPOCH - 15 : training on 154774 raw words (107875 effective words) took 0.7s, 165830 effective words/s\n",
            "2021-11-20 17:43:20,271 : INFO : worker thread finished; awaiting finish of 0 more threads\n",
            "2021-11-20 17:43:20,273 : INFO : EPOCH - 16 : training on 154774 raw words (107890 effective words) took 0.7s, 160542 effective words/s\n",
            "2021-11-20 17:43:20,958 : INFO : worker thread finished; awaiting finish of 0 more threads\n",
            "2021-11-20 17:43:20,960 : INFO : EPOCH - 17 : training on 154774 raw words (107893 effective words) took 0.7s, 159356 effective words/s\n",
            "2021-11-20 17:43:21,623 : INFO : worker thread finished; awaiting finish of 0 more threads\n",
            "2021-11-20 17:43:21,624 : INFO : EPOCH - 18 : training on 154774 raw words (108034 effective words) took 0.7s, 164957 effective words/s\n",
            "2021-11-20 17:43:22,309 : INFO : worker thread finished; awaiting finish of 0 more threads\n",
            "2021-11-20 17:43:22,312 : INFO : EPOCH - 19 : training on 154774 raw words (107913 effective words) took 0.7s, 161352 effective words/s\n",
            "2021-11-20 17:43:22,985 : INFO : worker thread finished; awaiting finish of 0 more threads\n",
            "2021-11-20 17:43:22,987 : INFO : EPOCH - 20 : training on 154774 raw words (108052 effective words) took 0.7s, 162127 effective words/s\n",
            "2021-11-20 17:43:23,655 : INFO : worker thread finished; awaiting finish of 0 more threads\n",
            "2021-11-20 17:43:23,657 : INFO : EPOCH - 21 : training on 154774 raw words (107768 effective words) took 0.7s, 162988 effective words/s\n",
            "2021-11-20 17:43:24,342 : INFO : worker thread finished; awaiting finish of 0 more threads\n",
            "2021-11-20 17:43:24,344 : INFO : EPOCH - 22 : training on 154774 raw words (107972 effective words) took 0.7s, 162686 effective words/s\n",
            "2021-11-20 17:43:25,016 : INFO : worker thread finished; awaiting finish of 0 more threads\n",
            "2021-11-20 17:43:25,017 : INFO : EPOCH - 23 : training on 154774 raw words (107855 effective words) took 0.7s, 162475 effective words/s\n",
            "2021-11-20 17:43:25,690 : INFO : worker thread finished; awaiting finish of 0 more threads\n",
            "2021-11-20 17:43:25,692 : INFO : EPOCH - 24 : training on 154774 raw words (107756 effective words) took 0.7s, 161947 effective words/s\n",
            "2021-11-20 17:43:26,405 : INFO : worker thread finished; awaiting finish of 0 more threads\n",
            "2021-11-20 17:43:26,407 : INFO : EPOCH - 25 : training on 154774 raw words (107881 effective words) took 0.7s, 155695 effective words/s\n",
            "2021-11-20 17:43:27,191 : INFO : worker thread finished; awaiting finish of 0 more threads\n",
            "2021-11-20 17:43:27,193 : INFO : EPOCH - 26 : training on 154774 raw words (107803 effective words) took 0.8s, 139961 effective words/s\n",
            "2021-11-20 17:43:27,934 : INFO : worker thread finished; awaiting finish of 0 more threads\n",
            "2021-11-20 17:43:27,937 : INFO : EPOCH - 27 : training on 154774 raw words (107888 effective words) took 0.7s, 147271 effective words/s\n",
            "2021-11-20 17:43:28,633 : INFO : worker thread finished; awaiting finish of 0 more threads\n",
            "2021-11-20 17:43:28,634 : INFO : EPOCH - 28 : training on 154774 raw words (107988 effective words) took 0.7s, 158465 effective words/s\n",
            "2021-11-20 17:43:29,320 : INFO : worker thread finished; awaiting finish of 0 more threads\n",
            "2021-11-20 17:43:29,322 : INFO : EPOCH - 29 : training on 154774 raw words (107888 effective words) took 0.7s, 159414 effective words/s\n",
            "2021-11-20 17:43:29,995 : INFO : worker thread finished; awaiting finish of 0 more threads\n",
            "2021-11-20 17:43:29,997 : INFO : EPOCH - 30 : training on 154774 raw words (107720 effective words) took 0.7s, 163077 effective words/s\n",
            "2021-11-20 17:43:30,690 : INFO : worker thread finished; awaiting finish of 0 more threads\n",
            "2021-11-20 17:43:30,691 : INFO : EPOCH - 31 : training on 154774 raw words (107869 effective words) took 0.7s, 159120 effective words/s\n",
            "2021-11-20 17:43:31,360 : INFO : worker thread finished; awaiting finish of 0 more threads\n",
            "2021-11-20 17:43:31,362 : INFO : EPOCH - 32 : training on 154774 raw words (107777 effective words) took 0.7s, 163126 effective words/s\n",
            "2021-11-20 17:43:32,041 : INFO : worker thread finished; awaiting finish of 0 more threads\n",
            "2021-11-20 17:43:32,042 : INFO : EPOCH - 33 : training on 154774 raw words (107716 effective words) took 0.7s, 161103 effective words/s\n",
            "2021-11-20 17:43:32,702 : INFO : worker thread finished; awaiting finish of 0 more threads\n",
            "2021-11-20 17:43:32,704 : INFO : EPOCH - 34 : training on 154774 raw words (107963 effective words) took 0.6s, 166541 effective words/s\n",
            "2021-11-20 17:43:33,364 : INFO : worker thread finished; awaiting finish of 0 more threads\n",
            "2021-11-20 17:43:33,366 : INFO : EPOCH - 35 : training on 154774 raw words (107813 effective words) took 0.7s, 165338 effective words/s\n",
            "2021-11-20 17:43:34,032 : INFO : worker thread finished; awaiting finish of 0 more threads\n",
            "2021-11-20 17:43:34,034 : INFO : EPOCH - 36 : training on 154774 raw words (108102 effective words) took 0.7s, 164423 effective words/s\n",
            "2021-11-20 17:43:34,708 : INFO : worker thread finished; awaiting finish of 0 more threads\n",
            "2021-11-20 17:43:34,711 : INFO : EPOCH - 37 : training on 154774 raw words (107922 effective words) took 0.7s, 161627 effective words/s\n",
            "2021-11-20 17:43:35,381 : INFO : worker thread finished; awaiting finish of 0 more threads\n",
            "2021-11-20 17:43:35,383 : INFO : EPOCH - 38 : training on 154774 raw words (107877 effective words) took 0.7s, 162404 effective words/s\n",
            "2021-11-20 17:43:36,073 : INFO : worker thread finished; awaiting finish of 0 more threads\n",
            "2021-11-20 17:43:36,075 : INFO : EPOCH - 39 : training on 154774 raw words (107884 effective words) took 0.7s, 158390 effective words/s\n",
            "2021-11-20 17:43:36,741 : INFO : worker thread finished; awaiting finish of 0 more threads\n",
            "2021-11-20 17:43:36,744 : INFO : EPOCH - 40 : training on 154774 raw words (107883 effective words) took 0.7s, 163667 effective words/s\n",
            "2021-11-20 17:43:36,748 : INFO : Doc2Vec lifecycle event {'msg': 'training on 6190960 raw words (4315749 effective words) took 27.9s, 154431 effective words/s', 'datetime': '2021-11-20T17:43:36.748163', 'gensim': '4.1.2', 'python': '3.7.12 (default, Sep 10 2021, 00:21:48) \\n[GCC 7.5.0]', 'platform': 'Linux-5.4.104+-x86_64-with-Ubuntu-18.04-bionic', 'event': 'train'}\n",
            "2021-11-20 17:43:36,749 : INFO : Doc2Vec lifecycle event {'params': 'Doc2Vec(dm/m,d100,n10,w2,s0.001)', 'datetime': '2021-11-20T17:43:36.749550', 'gensim': '4.1.2', 'python': '3.7.12 (default, Sep 10 2021, 00:21:48) \\n[GCC 7.5.0]', 'platform': 'Linux-5.4.104+-x86_64-with-Ubuntu-18.04-bionic', 'event': 'created'}\n"
          ]
        }
      ]
    },
    {
      "cell_type": "markdown",
      "metadata": {
        "id": "jJvq2K93xAO5"
      },
      "source": [
        "### Test the distance between C and the diatonic chords\n",
        "\n",
        "Test if the model can capture that the diatonic chords are closer to the root.\n",
        "\n",
        "Do this only if the input corpus contains the unigrams. "
      ]
    },
    {
      "cell_type": "code",
      "metadata": {
        "id": "cH3TJxCfvoFm"
      },
      "source": [
        "test_tokens = ['C',\n",
        "              'Dm',\n",
        "              'Em',\n",
        "              'F',\n",
        "              'G7',\n",
        "              'Am',\n",
        "              'Bm7b5',\n",
        "              'F7',\n",
        "              'D7',\n",
        "              'A7',\n",
        "              'E7',\n",
        "              'B7',\n",
        "              'F#7',\n",
        "               'Cm',\n",
        "               'D']\n",
        "\n",
        "if 1 in ngrams_for_input:\n",
        "  ref = 'C'\n",
        "  for t in test_tokens:\n",
        "    print(f\"{model.wv.similarity(ref, t):.3f}: {ref} <-> {t}\")"
      ],
      "execution_count": 428,
      "outputs": []
    },
    {
      "cell_type": "code",
      "metadata": {
        "id": "IfIRoWL4kpcB"
      },
      "source": [
        "if 1 in ngrams_for_input:\n",
        "  model.wv.similar_by_word('C', topn=20)"
      ],
      "execution_count": 429,
      "outputs": []
    },
    {
      "cell_type": "markdown",
      "metadata": {
        "id": "ix4n9S3_xQzD"
      },
      "source": [
        "Plot the generated word vectors in 2D space"
      ]
    },
    {
      "cell_type": "code",
      "metadata": {
        "id": "JjT_uNh0wthj"
      },
      "source": [
        "from sklearn.manifold import TSNE\n",
        "\n",
        "# input data: vectors for all tokens\n",
        "weights = model.wv.vectors\n",
        "\n",
        "# only do this when the vocabulary is not too big....\n",
        "if len(weights) < 100:\n",
        "\n",
        "  # do T-SNE\n",
        "  tsne = TSNE(n_components=2, \n",
        "              random_state=42,\n",
        "              perplexity=30,\n",
        "              learning_rate='auto',\n",
        "              init='pca',\n",
        "              n_iter=2000\n",
        "              )\n",
        "  T = tsne.fit_transform(weights)\n",
        "\n",
        "  # plot\n",
        "  projected = pd.DataFrame(T)\n",
        "\n",
        "  fig = px.scatter(\n",
        "      projected, \n",
        "      x=0, y=1,\n",
        "      #color='mode',\n",
        "      text=model.wv.index_to_key,\n",
        "      width=800, height=600,\n",
        "      title=\"T-SNE applied to Chord Vectors for Tunes in Cmaj/Amin\"\n",
        "  )\n",
        "  fig.update_traces(textposition='top center')\n",
        "  fig.update_traces(textfont_size=12, selector=dict(type='scatter'))\n",
        "  fig.show()"
      ],
      "execution_count": 430,
      "outputs": []
    },
    {
      "cell_type": "markdown",
      "metadata": {
        "id": "PzabYlA89QpY"
      },
      "source": [
        "### Test for single tunes"
      ]
    },
    {
      "cell_type": "code",
      "metadata": {
        "colab": {
          "base_uri": "https://localhost:8080/"
        },
        "id": "wYI6NZimAn6a",
        "outputId": "74d7af39-7dbc-456c-b01a-608cb485672f"
      },
      "source": [
        "len(sectionid_to_section)"
      ],
      "execution_count": 431,
      "outputs": [
        {
          "output_type": "execute_result",
          "data": {
            "text/plain": [
              "5403"
            ]
          },
          "metadata": {},
          "execution_count": 431
        }
      ]
    },
    {
      "cell_type": "code",
      "metadata": {
        "colab": {
          "base_uri": "https://localhost:8080/"
        },
        "id": "8ho0HdILB4zq",
        "outputId": "cce0050e-f8d8-4b69-8261-d6f4a5b5fae6"
      },
      "source": [
        "len(model.dv)"
      ],
      "execution_count": 432,
      "outputs": [
        {
          "output_type": "execute_result",
          "data": {
            "text/plain": [
              "7215"
            ]
          },
          "metadata": {},
          "execution_count": 432
        }
      ]
    },
    {
      "cell_type": "code",
      "metadata": {
        "colab": {
          "base_uri": "https://localhost:8080/"
        },
        "id": "5Z2jZALS-7et",
        "outputId": "64d26640-1878-4cfc-dcf8-2c355ea340a9"
      },
      "source": [
        "title_to_sectionid['These Foolish Things']"
      ],
      "execution_count": 433,
      "outputs": [
        {
          "output_type": "execute_result",
          "data": {
            "text/plain": [
              "[3866, 3867, 3868, 3869]"
            ]
          },
          "metadata": {},
          "execution_count": 433
        }
      ]
    },
    {
      "cell_type": "code",
      "metadata": {
        "id": "Y1GQemnx_jYJ"
      },
      "source": [
        "section_key = 3868"
      ],
      "execution_count": 434,
      "outputs": []
    },
    {
      "cell_type": "code",
      "metadata": {
        "colab": {
          "base_uri": "https://localhost:8080/"
        },
        "id": "ac5NyHbS-_2l",
        "outputId": "5c1e808e-67c9-4ae9-d502-b31fecabb967"
      },
      "source": [
        "model.dv.similar_by_key(section_key, topn=20)"
      ],
      "execution_count": 435,
      "outputs": [
        {
          "output_type": "execute_result",
          "data": {
            "text/plain": [
              "[(43, 0.6782081723213196),\n",
              " (84, 0.6491435766220093),\n",
              " (45, 0.641556978225708),\n",
              " (3875, 0.6325454711914062),\n",
              " ('titleid_998', 0.5843778848648071),\n",
              " (1064, 0.5704977512359619),\n",
              " (2222, 0.569108784198761),\n",
              " (2347, 0.5604077577590942),\n",
              " (176, 0.5595685839653015),\n",
              " (512, 0.5560452342033386),\n",
              " (210, 0.5549530982971191),\n",
              " (5205, 0.5545634031295776),\n",
              " ('titleid_1448', 0.5518192648887634),\n",
              " (1579, 0.5422195196151733),\n",
              " (3694, 0.5413293838500977),\n",
              " (1889, 0.5366091132164001),\n",
              " ('titleid_13', 0.5322017073631287),\n",
              " (2603, 0.5283887982368469),\n",
              " (2967, 0.5152822732925415),\n",
              " (2600, 0.510577380657196)]"
            ]
          },
          "metadata": {},
          "execution_count": 435
        }
      ]
    },
    {
      "cell_type": "code",
      "metadata": {
        "colab": {
          "base_uri": "https://localhost:8080/",
          "height": 36
        },
        "id": "7rMyQRbdB_Iv",
        "outputId": "7ac97536-9d28-431a-87ad-970c0de00ecc"
      },
      "source": [
        "sectionid_to_section[1889]"
      ],
      "execution_count": 436,
      "outputs": [
        {
          "output_type": "execute_result",
          "data": {
            "application/vnd.google.colaboratory.intrinsic+json": {
              "type": "string"
            },
            "text/plain": [
              "\"I've Told Eve'ry Little Star, section3 (B)\""
            ]
          },
          "metadata": {},
          "execution_count": 436
        }
      ]
    },
    {
      "cell_type": "code",
      "metadata": {
        "colab": {
          "base_uri": "https://localhost:8080/",
          "height": 175
        },
        "id": "BfUVTfdKB9sZ",
        "outputId": "b2bad82b-30e8-4b29-d047-ff42e5b2e337"
      },
      "source": [
        "titles.query('title == \"These Foolish Things\"')"
      ],
      "execution_count": 437,
      "outputs": [
        {
          "output_type": "execute_result",
          "data": {
            "text/html": [
              "<div>\n",
              "<style scoped>\n",
              "    .dataframe tbody tr th:only-of-type {\n",
              "        vertical-align: middle;\n",
              "    }\n",
              "\n",
              "    .dataframe tbody tr th {\n",
              "        vertical-align: top;\n",
              "    }\n",
              "\n",
              "    .dataframe thead th {\n",
              "        text-align: right;\n",
              "    }\n",
              "</style>\n",
              "<table border=\"1\" class=\"dataframe\">\n",
              "  <thead>\n",
              "    <tr style=\"text-align: right;\">\n",
              "      <th></th>\n",
              "      <th>id</th>\n",
              "      <th>tune_id</th>\n",
              "      <th>section_id</th>\n",
              "      <th>section_name</th>\n",
              "      <th>title</th>\n",
              "      <th>tune_mode</th>\n",
              "    </tr>\n",
              "  </thead>\n",
              "  <tbody>\n",
              "    <tr>\n",
              "      <th>3866</th>\n",
              "      <td>3866</td>\n",
              "      <td>1170</td>\n",
              "      <td>1</td>\n",
              "      <td>A</td>\n",
              "      <td>These Foolish Things</td>\n",
              "      <td>major</td>\n",
              "    </tr>\n",
              "    <tr>\n",
              "      <th>3867</th>\n",
              "      <td>3867</td>\n",
              "      <td>1170</td>\n",
              "      <td>2</td>\n",
              "      <td>A</td>\n",
              "      <td>These Foolish Things</td>\n",
              "      <td>major</td>\n",
              "    </tr>\n",
              "    <tr>\n",
              "      <th>3868</th>\n",
              "      <td>3868</td>\n",
              "      <td>1170</td>\n",
              "      <td>3</td>\n",
              "      <td>B</td>\n",
              "      <td>These Foolish Things</td>\n",
              "      <td>major</td>\n",
              "    </tr>\n",
              "    <tr>\n",
              "      <th>3869</th>\n",
              "      <td>3869</td>\n",
              "      <td>1170</td>\n",
              "      <td>4</td>\n",
              "      <td>A</td>\n",
              "      <td>These Foolish Things</td>\n",
              "      <td>major</td>\n",
              "    </tr>\n",
              "  </tbody>\n",
              "</table>\n",
              "</div>"
            ],
            "text/plain": [
              "        id  tune_id  section_id section_name                 title tune_mode\n",
              "3866  3866     1170           1            A  These Foolish Things     major\n",
              "3867  3867     1170           2            A  These Foolish Things     major\n",
              "3868  3868     1170           3            B  These Foolish Things     major\n",
              "3869  3869     1170           4            A  These Foolish Things     major"
            ]
          },
          "metadata": {},
          "execution_count": 437
        }
      ]
    },
    {
      "cell_type": "code",
      "metadata": {
        "id": "vYKXvxxbBeIe"
      },
      "source": [
        "tune_key = 'titleid_1170'"
      ],
      "execution_count": 438,
      "outputs": []
    },
    {
      "cell_type": "code",
      "metadata": {
        "colab": {
          "base_uri": "https://localhost:8080/"
        },
        "id": "wfmnL7QrCFhz",
        "outputId": "7e4b7f50-47ea-4f95-8f15-c4404b1ddb09"
      },
      "source": [
        "model.dv.similar_by_key(tune_key, topn=20)"
      ],
      "execution_count": 439,
      "outputs": [
        {
          "output_type": "execute_result",
          "data": {
            "text/plain": [
              "[(3867, 0.8789698481559753),\n",
              " (3869, 0.8227396607398987),\n",
              " (3866, 0.8081152439117432),\n",
              " (1067, 0.6633501052856445),\n",
              " ('titleid_457', 0.6557653546333313),\n",
              " (4828, 0.6425423622131348),\n",
              " (3224, 0.6391641497612),\n",
              " (2341, 0.5959892868995667),\n",
              " (1688, 0.5954562425613403),\n",
              " (4025, 0.5945120453834534),\n",
              " (2774, 0.5896062254905701),\n",
              " (1171, 0.5866377949714661),\n",
              " (1068, 0.5787327289581299),\n",
              " ('titleid_974', 0.5777230262756348),\n",
              " (2967, 0.5767199397087097),\n",
              " (4027, 0.5741989612579346),\n",
              " (1066, 0.5724884271621704),\n",
              " (2086, 0.5693561434745789),\n",
              " (3381, 0.5653538107872009),\n",
              " (1088, 0.5653234124183655)]"
            ]
          },
          "metadata": {},
          "execution_count": 439
        }
      ]
    },
    {
      "cell_type": "code",
      "metadata": {
        "colab": {
          "base_uri": "https://localhost:8080/"
        },
        "id": "Cp0brM80CSK2",
        "outputId": "87b8c804-b7d6-4b1f-d757-e03d6213b220"
      },
      "source": [
        "titles.iloc[755]"
      ],
      "execution_count": 440,
      "outputs": [
        {
          "output_type": "execute_result",
          "data": {
            "text/plain": [
              "id                                           755\n",
              "tune_id                                      234\n",
              "section_id                                     5\n",
              "section_name                                   D\n",
              "title           Chega De Saudade (No More Blues)\n",
              "tune_mode                                  minor\n",
              "Name: 755, dtype: object"
            ]
          },
          "metadata": {},
          "execution_count": 440
        }
      ]
    },
    {
      "cell_type": "markdown",
      "metadata": {
        "id": "ajqb904KDwNV"
      },
      "source": [
        "#### Section Similarity\n"
      ]
    },
    {
      "cell_type": "code",
      "metadata": {
        "id": "mPnEPL_k4TZn"
      },
      "source": [
        "def get_section_scores_doc2vec(tunes):\n",
        "\n",
        "    df_sim = pd.DataFrame(columns=['reference_title',\n",
        "                                  'similar_title',\n",
        "                                  'ref_section', \n",
        "                                  'similar_section', \n",
        "                                  'score', \n",
        "                                  ])\n",
        "\n",
        "    for tune in tunes:\n",
        "      print()\n",
        "      print(\"-\"*50)\n",
        "      for s1 in title_to_sectionid[tune]:\n",
        "      \n",
        "          # sections are tagged with the numeric sectionid and can be used for querying\n",
        "          sims = model.dv.similar_by_key(s1, topn=40)\n",
        "          \n",
        "          print(s1, sectionid_to_section[s1])\n",
        "          n = 0\n",
        "          for s2, s2_score in sims:\n",
        "              if type(s2) == int:  # only consider similarities to sectionids; tuneids are strings\n",
        "                  # don't count self-similarity between sections of the same tune\n",
        "                  if s2 not in title_to_sectionid[tune]:\n",
        "                      n += 1\n",
        "                  \n",
        "                      # print(f\"\\t{s2_score:.3f} {sectionid_to_section[s2]}\")\n",
        "\n",
        "                      df_sim.loc[len(df_sim)] = [tune,\n",
        "                                      sectionid_to_title[s2],\n",
        "                                      sectionid_to_section[s1], \n",
        "                                      sectionid_to_section[s2], \n",
        "                                      s2_score, \n",
        "                                      ]\n",
        "    return df_sim"
      ],
      "execution_count": 441,
      "outputs": []
    },
    {
      "cell_type": "code",
      "metadata": {
        "colab": {
          "base_uri": "https://localhost:8080/"
        },
        "id": "i_d92il649O9",
        "outputId": "88710437-2708-4b07-a534-a4ff78b588b9"
      },
      "source": [
        "df_section_sim = get_section_scores_doc2vec(tunes_eval_list)"
      ],
      "execution_count": 442,
      "outputs": [
        {
          "output_type": "stream",
          "name": "stdout",
          "text": [
            "\n",
            "--------------------------------------------------\n",
            "3752 Sweet Sue, Just You, section1 (A)\n",
            "3753 Sweet Sue, Just You, section2 (A)\n",
            "3754 Sweet Sue, Just You, section3 (B)\n",
            "3755 Sweet Sue, Just You, section4 (A)\n",
            "\n",
            "--------------------------------------------------\n",
            "3866 These Foolish Things, section1 (A)\n",
            "3867 These Foolish Things, section2 (A)\n",
            "3868 These Foolish Things, section3 (B)\n",
            "3869 These Foolish Things, section4 (A)\n",
            "\n",
            "--------------------------------------------------\n",
            "496 Blue Moon, section1 (A)\n",
            "497 Blue Moon, section2 (A)\n",
            "498 Blue Moon, section3 (B)\n",
            "499 Blue Moon, section4 (A)\n",
            "\n",
            "--------------------------------------------------\n",
            "198 All Of Me, section1 (A)\n",
            "199 All Of Me, section2 (B)\n",
            "200 All Of Me, section3 (A)\n",
            "201 All Of Me, section4 (C)\n",
            "\n",
            "--------------------------------------------------\n",
            "188 All God's Chillun Got Rhythm, section1 (A)\n",
            "189 All God's Chillun Got Rhythm, section2 (B)\n",
            "190 All God's Chillun Got Rhythm, section3 (A)\n",
            "191 All God's Chillun Got Rhythm, section4 (C)\n",
            "\n",
            "--------------------------------------------------\n",
            "1647 I Got Rhythm, section1 (A)\n",
            "1648 I Got Rhythm, section2 (A)\n",
            "1649 I Got Rhythm, section3 (B)\n",
            "1650 I Got Rhythm, section4 (A)\n",
            "4821 I Got Rhythm, section1 (A)\n",
            "4822 I Got Rhythm, section2 (A)\n",
            "4823 I Got Rhythm, section3 (B)\n",
            "4824 I Got Rhythm, section4 (A)\n",
            "\n",
            "--------------------------------------------------\n",
            "653 Bye Bye Blackbird, section1 (A)\n",
            "654 Bye Bye Blackbird, section2 (B)\n",
            "4569 Bye Bye Blackbird, section1 (A)\n",
            "4570 Bye Bye Blackbird, section2 (B)\n",
            "4571 Bye Bye Blackbird, section3 (C)\n",
            "\n",
            "--------------------------------------------------\n",
            "5056 Old Fashioned Love, section0 (nan)\n",
            "\n",
            "--------------------------------------------------\n",
            "997 Dinah, section1 (A)\n",
            "998 Dinah, section2 (A)\n",
            "999 Dinah, section3 (B)\n",
            "1000 Dinah, section4 (A)\n",
            "\n",
            "--------------------------------------------------\n",
            "1538 Honeysuckle Rose, section1 (A)\n",
            "1539 Honeysuckle Rose, section2 (A)\n",
            "1540 Honeysuckle Rose, section3 (B)\n",
            "1541 Honeysuckle Rose, section4 (A)\n",
            "4793 Honeysuckle Rose, section1 (A)\n",
            "4794 Honeysuckle Rose, section2 (A)\n",
            "4795 Honeysuckle Rose, section3 (B)\n",
            "4796 Honeysuckle Rose, section4 (A)\n",
            "\n",
            "--------------------------------------------------\n",
            "2676 Misty, section1 (A)\n",
            "2677 Misty, section2 (A)\n",
            "2678 Misty, section3 (B)\n",
            "2679 Misty, section4 (A)\n",
            "\n",
            "--------------------------------------------------\n",
            "4152 We'll Be Together Again, section1 (A)\n",
            "4153 We'll Be Together Again, section2 (A)\n",
            "4154 We'll Be Together Again, section3 (B)\n",
            "4155 We'll Be Together Again, section4 (A)\n",
            "\n",
            "--------------------------------------------------\n",
            "1125 East Of The Sun, section1 (A)\n",
            "1126 East Of The Sun, section2 (B)\n",
            "1127 East Of The Sun, section3 (A)\n",
            "1128 East Of The Sun, section4 (C)\n",
            "\n",
            "--------------------------------------------------\n",
            "3584 Sophisticated Lady, section1 (A)\n",
            "3585 Sophisticated Lady, section2 (A)\n",
            "3586 Sophisticated Lady, section3 (B)\n",
            "3587 Sophisticated Lady, section4 (A)\n",
            "\n",
            "--------------------------------------------------\n",
            "3148 Perdido, section1 (A)\n",
            "3149 Perdido, section2 (A)\n",
            "3150 Perdido, section3 (B)\n",
            "3151 Perdido, section4 (A)\n"
          ]
        }
      ]
    },
    {
      "cell_type": "code",
      "metadata": {
        "id": "rxNLqH8g5lx2"
      },
      "source": [
        "#df_section_sim.head(50)"
      ],
      "execution_count": 443,
      "outputs": []
    },
    {
      "cell_type": "code",
      "metadata": {
        "colab": {
          "base_uri": "https://localhost:8080/",
          "height": 542
        },
        "id": "n4dv7VVe5NT4",
        "outputId": "98d89ba7-1f6b-48dd-adc9-beae5c782d9b"
      },
      "source": [
        "import plotly.express as px\n",
        "fig = px.histogram(df_section_sim, x=\"score\", nbins=50, title='Scores for Section Similarities')\n",
        "fig.show()"
      ],
      "execution_count": 444,
      "outputs": [
        {
          "output_type": "display_data",
          "data": {
            "text/html": [
              "<html>\n",
              "<head><meta charset=\"utf-8\" /></head>\n",
              "<body>\n",
              "    <div>\n",
              "            <script src=\"https://cdnjs.cloudflare.com/ajax/libs/mathjax/2.7.5/MathJax.js?config=TeX-AMS-MML_SVG\"></script><script type=\"text/javascript\">if (window.MathJax) {MathJax.Hub.Config({SVG: {font: \"STIX-Web\"}});}</script>\n",
              "                <script type=\"text/javascript\">window.PlotlyConfig = {MathJaxConfig: 'local'};</script>\n",
              "        <script src=\"https://cdn.plot.ly/plotly-latest.min.js\"></script>    \n",
              "            <div id=\"2cc0ad24-2bbd-4c82-b9ba-4a9bd6be8d80\" class=\"plotly-graph-div\" style=\"height:525px; width:100%;\"></div>\n",
              "            <script type=\"text/javascript\">\n",
              "                \n",
              "                    window.PLOTLYENV=window.PLOTLYENV || {};\n",
              "                    \n",
              "                if (document.getElementById(\"2cc0ad24-2bbd-4c82-b9ba-4a9bd6be8d80\")) {\n",
              "                    Plotly.newPlot(\n",
              "                        '2cc0ad24-2bbd-4c82-b9ba-4a9bd6be8d80',\n",
              "                        [{\"alignmentgroup\": \"True\", \"bingroup\": \"x\", \"hoverlabel\": {\"namelength\": 0}, \"hovertemplate\": \"score=%{x}<br>count=%{y}\", \"legendgroup\": \"\", \"marker\": {\"color\": \"#636efa\"}, \"name\": \"\", \"nbinsx\": 50, \"offsetgroup\": \"\", \"orientation\": \"v\", \"showlegend\": false, \"type\": \"histogram\", \"x\": [0.9471527338027954, 0.9390673041343689, 0.9238163828849792, 0.923698365688324, 0.908701479434967, 0.9054523706436157, 0.9023539423942566, 0.8956533670425415, 0.8922786712646484, 0.8904184699058533, 0.8889279961585999, 0.8801533579826355, 0.8775835037231445, 0.873039186000824, 0.8717361688613892, 0.8708676695823669, 0.8688556551933289, 0.868818998336792, 0.8627170324325562, 0.8603713512420654, 0.8553354144096375, 0.8538851737976074, 0.8532714247703552, 0.8508431911468506, 0.8508155941963196, 0.8489872813224792, 0.8475443124771118, 0.8470456600189209, 0.8468384742736816, 0.8351518511772156, 0.8336092829704285, 0.8298906087875366, 0.8290969729423523, 0.8278764486312866, 0.8268851637840271, 0.9354866743087769, 0.9194098114967346, 0.91643226146698, 0.9064142107963562, 0.8927103877067566, 0.8885349631309509, 0.8876360654830933, 0.8827202916145325, 0.8782705068588257, 0.8777241110801697, 0.8747679591178894, 0.8715617060661316, 0.8710211515426636, 0.8704512715339661, 0.8693413734436035, 0.8678438067436218, 0.8671792149543762, 0.8658243417739868, 0.8656260967254639, 0.8623878955841064, 0.8585055470466614, 0.857491672039032, 0.8507983088493347, 0.8477076292037964, 0.8450586199760437, 0.8405612707138062, 0.8390067219734192, 0.8365116715431213, 0.8286409974098206, 0.8284401297569275, 0.8280484080314636, 0.8261951208114624, 0.8251828551292419, 0.8243337273597717, 0.8220354914665222, 0.8208163380622864, 0.8196640014648438, 0.7564988136291504, 0.7488315105438232, 0.7375195622444153, 0.7211803197860718, 0.7152000069618225, 0.7112293839454651, 0.7071266174316406, 0.696283221244812, 0.6935340166091919, 0.6880834102630615, 0.6625871658325195, 0.6606530547142029, 0.6596115827560425, 0.6540125608444214, 0.6525288820266724, 0.6438121795654297, 0.641890287399292, 0.6363875269889832, 0.6279309988021851, 0.6193210482597351, 0.6191457509994507, 0.6159914135932922, 0.615084171295166, 0.6104527711868286, 0.6099114418029785, 0.6095139980316162, 0.6079992055892944, 0.6066181063652039, 0.6039131283760071, 0.6006162166595459, 0.5999714732170105, 0.5955864191055298, 0.5934287905693054, 0.5921981334686279, 0.931858241558075, 0.9276031255722046, 0.9189363121986389, 0.9005258083343506, 0.8933330178260803, 0.8856490850448608, 0.8796964287757874, 0.8795225024223328, 0.87071692943573, 0.870048999786377, 0.8699474930763245, 0.869110107421875, 0.8689963221549988, 0.8671830892562866, 0.8630616068840027, 0.8629345297813416, 0.859963595867157, 0.8594914078712463, 0.8591667413711548, 0.8562176823616028, 0.8547000288963318, 0.8539556860923767, 0.8508143424987793, 0.8504904508590698, 0.8488047122955322, 0.8468043208122253, 0.8466111421585083, 0.8392236828804016, 0.8348700404167175, 0.8336979150772095, 0.831293523311615, 0.8303127288818359, 0.8293914794921875, 0.8220238089561462, 0.82036292552948, 0.6962084174156189, 0.6931619048118591, 0.6927952766418457, 0.686781644821167, 0.6676155924797058, 0.6607412695884705, 0.652916669845581, 0.6462900042533875, 0.6447246670722961, 0.6441195607185364, 0.6441144347190857, 0.6424577236175537, 0.6380017399787903, 0.6358506083488464, 0.6336561441421509, 0.6302270889282227, 0.6293407678604126, 0.6258987188339233, 0.623481810092926, 0.6216147541999817, 0.6192805767059326, 0.6134272813796997, 0.6126495003700256, 0.6104736328125, 0.6103073358535767, 0.6093510985374451, 0.6082525253295898, 0.6077829003334045, 0.6069521307945251, 0.6068247556686401, 0.6058791279792786, 0.6042378544807434, 0.6038492321968079, 0.6030705571174622, 0.6837620139122009, 0.6683093905448914, 0.6670179963111877, 0.6341872811317444, 0.6294010877609253, 0.6270274519920349, 0.6244418025016785, 0.6208091378211975, 0.61668860912323, 0.6166707277297974, 0.6160420775413513, 0.6157039403915405, 0.6151659488677979, 0.6142697334289551, 0.6140024065971375, 0.6130322217941284, 0.6029512286186218, 0.597699761390686, 0.5971661806106567, 0.5967504978179932, 0.5965786576271057, 0.5952956080436707, 0.5897115468978882, 0.5894722938537598, 0.5882536172866821, 0.5859019160270691, 0.5856539607048035, 0.5830232501029968, 0.5781545042991638, 0.5753530859947205, 0.5753396153450012, 0.574995219707489, 0.6782081723213196, 0.6491435766220093, 0.641556978225708, 0.6325454711914062, 0.5704977512359619, 0.569108784198761, 0.5604077577590942, 0.5595685839653015, 0.5560452342033386, 0.5549530982971191, 0.5545634031295776, 0.5422195196151733, 0.5413293838500977, 0.5366091132164001, 0.5283887982368469, 0.5152822732925415, 0.510577380657196, 0.5093656182289124, 0.5080729126930237, 0.5080289840698242, 0.5047135949134827, 0.5010911822319031, 0.49970778822898865, 0.4985027015209198, 0.49450919032096863, 0.49415379762649536, 0.49279847741127014, 0.49131807684898376, 0.4878135025501251, 0.4868127107620239, 0.4850144386291504, 0.4840996265411377, 0.4835372269153595, 0.7594215869903564, 0.7205650806427002, 0.7137256860733032, 0.7022781372070312, 0.695191502571106, 0.6944884061813354, 0.6920005083084106, 0.6866337060928345, 0.6790663599967957, 0.6701686382293701, 0.6694950461387634, 0.6671741604804993, 0.663375973701477, 0.6626247763633728, 0.6554965376853943, 0.6528013348579407, 0.6497699022293091, 0.6495543718338013, 0.6494643092155457, 0.6480540633201599, 0.6478911638259888, 0.6429687142372131, 0.6387322545051575, 0.6379309296607971, 0.6353452205657959, 0.6269769072532654, 0.6257672309875488, 0.6255065202713013, 0.6237324476242065, 0.6223671436309814, 0.6193702220916748, 0.6159265041351318, 0.6147056221961975, 0.6133571267127991, 0.6133038997650146, 0.6124166250228882, 0.9008188843727112, 0.8890445828437805, 0.8685716986656189, 0.8664370179176331, 0.8653289079666138, 0.8643088340759277, 0.8611772656440735, 0.8549835085868835, 0.8515093922615051, 0.8511042594909668, 0.8502202033996582, 0.8466490507125854, 0.8438000082969666, 0.8416495323181152, 0.8377400040626526, 0.835594654083252, 0.834368884563446, 0.8320274353027344, 0.8314698338508606, 0.8292955756187439, 0.8238344788551331, 0.8236437439918518, 0.8139019012451172, 0.8125132322311401, 0.8114787340164185, 0.8111056685447693, 0.8094168305397034, 0.8074027299880981, 0.8071692585945129, 0.8037432432174683, 0.7960047721862793, 0.788379430770874, 0.7858142852783203, 0.7850877046585083, 0.782483696937561, 0.7822865843772888, 0.77913498878479, 0.7629497051239014, 0.7590302228927612, 0.7503066062927246, 0.7407445907592773, 0.736690878868103, 0.7357112765312195, 0.7346653938293457, 0.7314161062240601, 0.723362386226654, 0.7231186032295227, 0.7210556268692017, 0.7195185422897339, 0.7183031439781189, 0.7145957350730896, 0.7137868404388428, 0.7132550477981567, 0.7116178274154663, 0.7109113931655884, 0.7099018692970276, 0.7094662189483643, 0.7082862854003906, 0.7076232433319092, 0.7073079347610474, 0.7066425085067749, 0.7059357762336731, 0.7012233734130859, 0.699508011341095, 0.6990617513656616, 0.6985167860984802, 0.6982890367507935, 0.6982500553131104, 0.6958813667297363, 0.6928204298019409, 0.6873799562454224, 0.6873561143875122, 0.6860011219978333, 0.6850700378417969, 0.681408166885376, 0.550648033618927, 0.5295881628990173, 0.5162107944488525, 0.5149880647659302, 0.5128870010375977, 0.5114520192146301, 0.5109812021255493, 0.5106903314590454, 0.5084221363067627, 0.5021747946739197, 0.4975922107696533, 0.49560996890068054, 0.49523356556892395, 0.492153137922287, 0.4900956451892853, 0.4869476556777954, 0.48482197523117065, 0.48434486985206604, 0.4843147397041321, 0.4836180508136749, 0.4829476475715637, 0.48260748386383057, 0.4817172586917877, 0.4783543348312378, 0.470482736825943, 0.4677216708660126, 0.4662696123123169, 0.4660709500312805, 0.46588334441185, 0.4656658172607422, 0.46504366397857666, 0.4617321491241455, 0.46017274260520935, 0.9325220584869385, 0.9091154932975769, 0.89405357837677, 0.893189013004303, 0.892979085445404, 0.889999270439148, 0.8898617029190063, 0.8811570405960083, 0.8807299733161926, 0.8803319931030273, 0.8778703212738037, 0.8777928352355957, 0.8766160011291504, 0.8731127977371216, 0.8729234337806702, 0.8711339831352234, 0.8671999573707581, 0.8635419607162476, 0.8599028587341309, 0.8570714592933655, 0.8560405373573303, 0.8557553887367249, 0.8507639169692993, 0.8489258289337158, 0.8480812907218933, 0.8471413850784302, 0.8469437956809998, 0.8459319472312927, 0.8389551639556885, 0.8361993432044983, 0.8340184688568115, 0.824432909488678, 0.8238950371742249, 0.8205838203430176, 0.8145546317100525, 0.8140072822570801, 0.8121854662895203, 0.8117858171463013, 0.8631936311721802, 0.862407922744751, 0.8576871752738953, 0.8441588282585144, 0.8385468125343323, 0.8145636320114136, 0.8138619065284729, 0.8108409643173218, 0.8091723322868347, 0.8061937093734741, 0.8046109676361084, 0.8039164543151855, 0.7963864207267761, 0.7954618334770203, 0.7886702418327332, 0.78731369972229, 0.784663736820221, 0.780899703502655, 0.7780415415763855, 0.7666137218475342, 0.7661925554275513, 0.7649605870246887, 0.7609973549842834, 0.7583306431770325, 0.7570997476577759, 0.7563881874084473, 0.7553837895393372, 0.7493749260902405, 0.74473637342453, 0.7411065697669983, 0.73978590965271, 0.7396907210350037, 0.7365517616271973, 0.7332437634468079, 0.7328968048095703, 0.7309696078300476, 0.9031728506088257, 0.8828232884407043, 0.8643633723258972, 0.8178976774215698, 0.7907211780548096, 0.7694924473762512, 0.7338663339614868, 0.7255047559738159, 0.7181201577186584, 0.6989413499832153, 0.6869196891784668, 0.6813147068023682, 0.6711791753768921, 0.6656476855278015, 0.6654483675956726, 0.6649808883666992, 0.6640713810920715, 0.6563544869422913, 0.6559218764305115, 0.6555212736129761, 0.653747022151947, 0.6525933146476746, 0.6447093486785889, 0.6429426074028015, 0.6427886486053467, 0.6420241594314575, 0.6376184821128845, 0.6371637582778931, 0.632034957408905, 0.6320019364356995, 0.629031777381897, 0.6275817155838013, 0.623984694480896, 0.6191313862800598, 0.6184590458869934, 0.618187665939331, 0.6170667409896851, 0.6170253157615662, 0.8675180077552795, 0.8629148602485657, 0.8266721963882446, 0.8201035261154175, 0.8195286989212036, 0.7986006140708923, 0.7976133823394775, 0.7905682921409607, 0.7898250818252563, 0.789652407169342, 0.78214031457901, 0.7793148756027222, 0.7771884202957153, 0.7759668231010437, 0.7744484543800354, 0.7732638120651245, 0.7718825340270996, 0.7682949900627136, 0.7609588503837585, 0.7573568224906921, 0.7522844076156616, 0.7508361339569092, 0.7461400032043457, 0.7447311282157898, 0.7434142827987671, 0.7428393363952637, 0.7420783638954163, 0.7392858862876892, 0.7362918257713318, 0.7326186299324036, 0.7324186563491821, 0.7322112917900085, 0.7306835651397705, 0.727216362953186, 0.7270158529281616, 0.7254858016967773, 0.7264254093170166, 0.6865586638450623, 0.6774483919143677, 0.6670055985450745, 0.6615318059921265, 0.6603881120681763, 0.6387773752212524, 0.6330435872077942, 0.631396472454071, 0.625230073928833, 0.6193556785583496, 0.6162772178649902, 0.612890899181366, 0.6126601099967957, 0.6114511489868164, 0.6111039519309998, 0.6087371706962585, 0.6079127192497253, 0.5957331657409668, 0.5924345254898071, 0.5924016237258911, 0.5906083583831787, 0.5882869362831116, 0.5879098773002625, 0.5859606266021729, 0.5852920413017273, 0.582349419593811, 0.582298994064331, 0.5813954472541809, 0.5798024535179138, 0.5764832496643066, 0.5718733072280884, 0.5706138014793396, 0.5700923204421997, 0.5679474472999573, 0.5640898942947388, 0.5619522333145142, 0.5618945360183716, 0.8422723412513733, 0.8410415053367615, 0.8242031931877136, 0.7758724689483643, 0.7753344178199768, 0.7662572860717773, 0.7536495923995972, 0.7397846579551697, 0.734535276889801, 0.7294183373451233, 0.7278023362159729, 0.7243048548698425, 0.7225696444511414, 0.7190820574760437, 0.7184920907020569, 0.7170289158821106, 0.7144454717636108, 0.7114946246147156, 0.7091922163963318, 0.7086707949638367, 0.7072370648384094, 0.7066620588302612, 0.7063499093055725, 0.7040829658508301, 0.7036890387535095, 0.701244056224823, 0.7012249827384949, 0.7004238367080688, 0.7003520131111145, 0.6992414593696594, 0.6990155577659607, 0.6982412934303284, 0.6968701481819153, 0.6962382197380066, 0.6961127519607544, 0.6931771636009216, 0.6892455816268921, 0.6274493932723999, 0.6158690452575684, 0.6059436798095703, 0.6049824953079224, 0.5887973308563232, 0.5886421203613281, 0.5871888995170593, 0.578898549079895, 0.5764585733413696, 0.574087917804718, 0.572350025177002, 0.5676103234291077, 0.5592525005340576, 0.5582665205001831, 0.554473340511322, 0.5448985695838928, 0.5435850024223328, 0.5398582816123962, 0.5374104976654053, 0.5319641828536987, 0.5289063453674316, 0.526840090751648, 0.5252583622932434, 0.5208175778388977, 0.5202648639678955, 0.5193746089935303, 0.5192281007766724, 0.5190833210945129, 0.5187864303588867, 0.5185154676437378, 0.514163613319397, 0.5121613144874573, 0.5116605758666992, 0.5071136951446533, 0.5059337019920349, 0.8895541429519653, 0.8619738817214966, 0.8618929982185364, 0.7929609417915344, 0.788425624370575, 0.7741174101829529, 0.7702026963233948, 0.7695143818855286, 0.7678333520889282, 0.763386070728302, 0.7569035291671753, 0.7560693025588989, 0.7558605074882507, 0.7478259801864624, 0.7475965619087219, 0.7472869157791138, 0.7405962944030762, 0.7397670745849609, 0.7391842603683472, 0.7385996580123901, 0.7377768158912659, 0.7366334795951843, 0.7344416975975037, 0.732480525970459, 0.7321334481239319, 0.731120228767395, 0.7299679517745972, 0.7270237803459167, 0.7265871167182922, 0.7264548540115356, 0.7258465886116028, 0.7258086800575256, 0.7258073687553406, 0.7251373529434204, 0.7246053218841553, 0.7211072444915771, 0.7209542393684387, 0.7205689549446106, 0.7200531959533691, 0.7478724122047424, 0.7099732756614685, 0.7009941935539246, 0.6891999244689941, 0.6845118403434753, 0.6797153949737549, 0.678102433681488, 0.6752741932868958, 0.6463394165039062, 0.6430999636650085, 0.6425328254699707, 0.6377360224723816, 0.6364738941192627, 0.6322394013404846, 0.6314430236816406, 0.6271354556083679, 0.6217211484909058, 0.6211663484573364, 0.6152185201644897, 0.6148998141288757, 0.6134861707687378, 0.6130900979042053, 0.606763482093811, 0.603000283241272, 0.6026729345321655, 0.6022177934646606, 0.6021378636360168, 0.6005021929740906, 0.6001431345939636, 0.5993193984031677, 0.5975015163421631, 0.5919032692909241, 0.5885225534439087, 0.5836549997329712, 0.5802266597747803, 0.5800991058349609, 0.5766668319702148, 0.74924635887146, 0.7325090765953064, 0.7311464548110962, 0.7310575842857361, 0.7169904112815857, 0.7159875631332397, 0.7146725058555603, 0.7120984792709351, 0.7102167010307312, 0.7078734040260315, 0.7077654600143433, 0.6944984793663025, 0.6916521191596985, 0.6898788809776306, 0.6891211867332458, 0.6879400014877319, 0.6874237060546875, 0.6848232746124268, 0.6838857531547546, 0.6815911531448364, 0.6805510520935059, 0.6798725724220276, 0.6792771220207214, 0.678763210773468, 0.6755171418190002, 0.673785924911499, 0.672402560710907, 0.6722627878189087, 0.6705338358879089, 0.6704152822494507, 0.6698272228240967, 0.66956627368927, 0.8213192224502563, 0.8188159465789795, 0.7940425276756287, 0.7906129360198975, 0.7845547795295715, 0.7734124660491943, 0.7723941206932068, 0.7700037360191345, 0.7697066068649292, 0.7695731520652771, 0.7604305148124695, 0.7600424885749817, 0.7566657066345215, 0.7560833096504211, 0.7535479664802551, 0.7497069835662842, 0.7428343892097473, 0.7396612763404846, 0.7379221320152283, 0.7366335391998291, 0.7352973818778992, 0.7336046695709229, 0.731687068939209, 0.7313245534896851, 0.7305490970611572, 0.7275047898292542, 0.7260233759880066, 0.7251862287521362, 0.7237687706947327, 0.7216720581054688, 0.7204365730285645, 0.7199663519859314, 0.7188677787780762, 0.9775657653808594, 0.9721350073814392, 0.9702619314193726, 0.9696691632270813, 0.9661126732826233, 0.9651404619216919, 0.9641859531402588, 0.9615786075592041, 0.9604745507240295, 0.9604713320732117, 0.9596243500709534, 0.9595913290977478, 0.9578975439071655, 0.9561287760734558, 0.9478407502174377, 0.944573700428009, 0.9367027878761292, 0.9355835318565369, 0.9292041063308716, 0.9278894066810608, 0.9088696241378784, 0.9048125147819519, 0.8602027297019958, 0.855974555015564, 0.8096606135368347, 0.8089084625244141, 0.7781334519386292, 0.7763988971710205, 0.7761822938919067, 0.7685157060623169, 0.7662423253059387, 0.7619118094444275, 0.749871551990509, 0.7467186450958252, 0.7408379912376404, 0.7369869947433472, 0.7327147722244263, 0.7502314448356628, 0.7496225237846375, 0.7439560890197754, 0.7385833263397217, 0.7313935160636902, 0.7191014885902405, 0.7144608497619629, 0.7113386988639832, 0.7100306749343872, 0.7023014426231384, 0.70185786485672, 0.7006757855415344, 0.6901522278785706, 0.6875120401382446, 0.6824619174003601, 0.6819208264350891, 0.6721091270446777, 0.6714524030685425, 0.6701593995094299, 0.6585099101066589, 0.6579908132553101, 0.657407820224762, 0.6571844220161438, 0.6539609432220459, 0.6537271738052368, 0.652967095375061, 0.6520885229110718, 0.6498559713363647, 0.6494530439376831, 0.6479387879371643, 0.6473084688186646, 0.646647572517395, 0.7764549851417542, 0.7727919816970825, 0.7607674598693848, 0.760181188583374, 0.7581468820571899, 0.751204788684845, 0.7488424777984619, 0.74412602186203, 0.743173360824585, 0.7406901717185974, 0.7398917078971863, 0.734390377998352, 0.7341361045837402, 0.7337967157363892, 0.7284948229789734, 0.7263985276222229, 0.7241976261138916, 0.723160982131958, 0.7174600958824158, 0.715583086013794, 0.7135840058326721, 0.7135611772537231, 0.7134580612182617, 0.7043961882591248, 0.7031311988830566, 0.6999141573905945, 0.6996652483940125, 0.6981785893440247, 0.6958712339401245, 0.6938494443893433, 0.693315863609314, 0.8208448886871338, 0.8062734007835388, 0.7979766726493835, 0.7920606732368469, 0.7899177074432373, 0.7695144414901733, 0.7653680443763733, 0.7594853043556213, 0.7573275566101074, 0.7568885087966919, 0.7555498480796814, 0.7547648549079895, 0.7479753494262695, 0.7439886927604675, 0.7403033375740051, 0.7397847175598145, 0.7396050691604614, 0.7392488121986389, 0.7361144423484802, 0.7321709394454956, 0.7309525012969971, 0.7308873534202576, 0.7266837954521179, 0.7244292497634888, 0.7196673154830933, 0.7174179553985596, 0.7173036932945251, 0.7166643738746643, 0.7154963612556458, 0.71210777759552, 0.71205735206604, 0.7117331624031067, 0.7112743854522705, 0.9589250087738037, 0.9575886726379395, 0.9566347599029541, 0.9531004428863525, 0.9519070386886597, 0.9480113983154297, 0.9475589990615845, 0.9460983872413635, 0.9447973966598511, 0.9441449642181396, 0.941979706287384, 0.9340914487838745, 0.9326808452606201, 0.9321480393409729, 0.9318166375160217, 0.930726170539856, 0.9274482131004333, 0.9259480237960815, 0.9176490306854248, 0.9098246097564697, 0.9039233326911926, 0.8938592672348022, 0.8756162524223328, 0.8339966535568237, 0.827197253704071, 0.8123201131820679, 0.8103322386741638, 0.7831692099571228, 0.7815536856651306, 0.7774873971939087, 0.7747491598129272, 0.7679933309555054, 0.764884352684021, 0.7619407176971436, 0.7612107992172241, 0.7382013201713562, 0.7355233430862427, 0.7246893048286438, 0.7456821799278259, 0.7380838394165039, 0.7248350977897644, 0.720749020576477, 0.6927443146705627, 0.6866353154182434, 0.6727083921432495, 0.6690922975540161, 0.6600892543792725, 0.6587426662445068, 0.6484757661819458, 0.6457869410514832, 0.6449620127677917, 0.6445797085762024, 0.6416361927986145, 0.6388874650001526, 0.6388527750968933, 0.6369677186012268, 0.6359633803367615, 0.6339457631111145, 0.6308247447013855, 0.6269290447235107, 0.6253193616867065, 0.6188327074050903, 0.6150050163269043, 0.6139207482337952, 0.6125146746635437, 0.8208339810371399, 0.7826053500175476, 0.7745490074157715, 0.7730617523193359, 0.7706862092018127, 0.7688646912574768, 0.7618899345397949, 0.7602591514587402, 0.7501196265220642, 0.7407020926475525, 0.7397149205207825, 0.7184625267982483, 0.7167659401893616, 0.7151924967765808, 0.7144986391067505, 0.7130932211875916, 0.7118436694145203, 0.7102821469306946, 0.7096365690231323, 0.7091411352157593, 0.7029253840446472, 0.7025918960571289, 0.702545166015625, 0.6987708806991577, 0.6972588300704956, 0.6965430378913879, 0.6919960975646973, 0.690215528011322, 0.6899279356002808, 0.6897980570793152, 0.687664806842804, 0.686221182346344, 0.6843805313110352, 0.6842369437217712, 0.6840305924415588, 0.6824414134025574, 0.8120032548904419, 0.7781808972358704, 0.7616387605667114, 0.7416127920150757, 0.7414681911468506, 0.7164589166641235, 0.7099304795265198, 0.7075850963592529, 0.7038877606391907, 0.6960048675537109, 0.6912243366241455, 0.6782894134521484, 0.6754286885261536, 0.6745455861091614, 0.6737344861030579, 0.6726387143135071, 0.671090841293335, 0.670160174369812, 0.6692987084388733, 0.6689935922622681, 0.6686432957649231, 0.6657231450080872, 0.6630770564079285, 0.662874162197113, 0.6621952056884766, 0.6547961831092834, 0.6545782685279846, 0.6534373760223389, 0.6520557403564453, 0.6506845355033875, 0.6497412919998169, 0.6483207941055298, 0.6478950381278992, 0.6476073861122131, 0.6474607586860657, 0.647424578666687, 0.6447941660881042, 0.7849039435386658, 0.7754220962524414, 0.7742611765861511, 0.7708721160888672, 0.7571666836738586, 0.7542319297790527, 0.7483488321304321, 0.7468546032905579, 0.745713472366333, 0.7400415539741516, 0.7309959530830383, 0.7307812571525574, 0.7306257486343384, 0.7303780317306519, 0.7239353656768799, 0.7204871773719788, 0.7173442244529724, 0.7165518403053284, 0.7123892903327942, 0.7120929956436157, 0.7093387246131897, 0.7091569304466248, 0.7091401815414429, 0.7080444693565369, 0.707168459892273, 0.7067612409591675, 0.6920130252838135, 0.690390408039093, 0.6899302005767822, 0.6863695979118347, 0.6858064532279968, 0.6852741837501526, 0.6840122938156128, 0.6811037659645081, 0.6803984045982361, 0.7156910300254822, 0.7145792841911316, 0.6997324228286743, 0.6924988031387329, 0.6908207535743713, 0.685636043548584, 0.6856202483177185, 0.6841497421264648, 0.6812914609909058, 0.6786240935325623, 0.6785799264907837, 0.6785362958908081, 0.6768874526023865, 0.6721363067626953, 0.6684329509735107, 0.6672086119651794, 0.6652998924255371, 0.6632927060127258, 0.660668134689331, 0.6567378044128418, 0.655551552772522, 0.6554415822029114, 0.654227614402771, 0.6508402228355408, 0.6462547779083252, 0.6449463963508606, 0.6446515917778015, 0.6418309211730957, 0.6404640078544617, 0.6378670930862427, 0.6373153328895569, 0.6313503980636597, 0.6311075091362, 0.6307465434074402, 0.6306227445602417, 0.877460777759552, 0.8772289752960205, 0.875289797782898, 0.8687543272972107, 0.8654602766036987, 0.8619392514228821, 0.8560979962348938, 0.8549090623855591, 0.8543668985366821, 0.8524361252784729, 0.8522780537605286, 0.850834310054779, 0.8495311141014099, 0.8475046157836914, 0.8472700715065002, 0.8430782556533813, 0.8428934216499329, 0.8421922326087952, 0.8412420153617859, 0.8402097821235657, 0.8366225361824036, 0.8355453014373779, 0.8352682590484619, 0.8343775272369385, 0.8343231081962585, 0.8342511653900146, 0.8341439962387085, 0.8327828645706177, 0.8306261301040649, 0.8297051191329956, 0.8278919458389282, 0.8263513445854187, 0.8244650959968567, 0.8237765431404114, 0.8229477405548096, 0.822272539138794, 0.8214733004570007, 0.8201329112052917, 0.8201126456260681, 0.8198598027229309, 0.6512693762779236, 0.6491871476173401, 0.6416874527931213, 0.6394737958908081, 0.627281665802002, 0.6260409355163574, 0.61929851770401, 0.6189590692520142, 0.6178333163261414, 0.6164650321006775, 0.6163588762283325, 0.6059670448303223, 0.6055360436439514, 0.5960800051689148, 0.5926259160041809, 0.592498242855072, 0.5862835645675659, 0.5859927535057068, 0.585983395576477, 0.5824516415596008, 0.5813015103340149, 0.5784280896186829, 0.5702778100967407, 0.5689398646354675, 0.5659688711166382, 0.5576658844947815, 0.557651937007904, 0.556492805480957, 0.556364119052887, 0.5546321868896484, 0.5530151128768921, 0.5512767434120178, 0.5484042167663574, 0.5477217435836792, 0.5465554594993591, 0.5433935523033142, 0.8985679745674133, 0.7648912072181702, 0.7171388864517212, 0.6972560286521912, 0.6810646057128906, 0.6769839525222778, 0.6710244417190552, 0.6658713817596436, 0.6609305143356323, 0.6583569645881653, 0.657111406326294, 0.656740128993988, 0.6546706557273865, 0.6540161967277527, 0.6525284647941589, 0.6476923227310181, 0.6467639803886414, 0.6407051086425781, 0.6402246356010437, 0.6394615173339844, 0.6377356648445129, 0.6324275135993958, 0.6318702101707458, 0.6316105723381042, 0.6296072602272034, 0.6292039752006531, 0.6291422247886658, 0.6210142970085144, 0.6192142367362976, 0.6189146637916565, 0.6164267063140869, 0.6144365072250366, 0.6137893795967102, 0.6128650903701782, 0.610632061958313, 0.6103619337081909, 0.6069732308387756, 0.8472883701324463, 0.8327970504760742, 0.826204240322113, 0.8208622932434082, 0.8120652437210083, 0.8032385110855103, 0.7556168437004089, 0.7489458322525024, 0.7027409076690674, 0.6930979490280151, 0.6921892166137695, 0.6911566853523254, 0.6869152188301086, 0.6794974207878113, 0.6656317114830017, 0.6630987524986267, 0.6569654941558838, 0.6564129590988159, 0.6557480096817017, 0.6536718606948853, 0.6503881216049194, 0.6503753066062927, 0.6483498811721802, 0.6440562009811401, 0.6385310292243958, 0.6379561424255371, 0.6368366479873657, 0.6364555358886719, 0.633660078048706, 0.6315648555755615, 0.6306098103523254, 0.6300504207611084, 0.6289228200912476, 0.6264464855194092, 0.6249826550483704, 0.8900094628334045, 0.8628637790679932, 0.8487579822540283, 0.8480135202407837, 0.8464404344558716, 0.8449876308441162, 0.8363229036331177, 0.8350897431373596, 0.8345108032226562, 0.8098978400230408, 0.8074576258659363, 0.8073524832725525, 0.7986329197883606, 0.7965322136878967, 0.7737526297569275, 0.7693942785263062, 0.7690384984016418, 0.7675150632858276, 0.7640820741653442, 0.7635477781295776, 0.7626554369926453, 0.7497891187667847, 0.7481948733329773, 0.7476691007614136, 0.7465319037437439, 0.7442797422409058, 0.7435445785522461, 0.7418079972267151, 0.7401774525642395, 0.7400252819061279, 0.7398279309272766, 0.7371122241020203, 0.7366340160369873, 0.7365068793296814, 0.7358880639076233, 0.7355726361274719, 0.7352801561355591, 0.7349121570587158, 0.7341634631156921, 0.8484460115432739, 0.8343122601509094, 0.815567672252655, 0.7870909571647644, 0.7693870067596436, 0.7690181732177734, 0.7644259333610535, 0.7627066969871521, 0.7531734704971313, 0.7522962093353271, 0.7484467625617981, 0.7464979887008667, 0.7417410612106323, 0.7411811947822571, 0.7367205619812012, 0.734511137008667, 0.7304104566574097, 0.7289150357246399, 0.7277995347976685, 0.7236552238464355, 0.720309853553772, 0.7202722430229187, 0.7191042900085449, 0.7184745669364929, 0.717210054397583, 0.7161909937858582, 0.7159990668296814, 0.7068393230438232, 0.7033347487449646, 0.7017291188240051, 0.7003524303436279, 0.699263870716095, 0.6977661848068237, 0.6967899799346924, 0.6951596736907959, 0.6946315169334412, 0.694390594959259, 0.6937121152877808, 0.7649350762367249, 0.7620677351951599, 0.7335536479949951, 0.7244856953620911, 0.724113941192627, 0.7233429551124573, 0.7143697142601013, 0.7108002305030823, 0.7006245255470276, 0.6966853141784668, 0.6963655948638916, 0.6947759389877319, 0.6835087537765503, 0.6791530847549438, 0.6781585812568665, 0.6771417856216431, 0.6730096340179443, 0.6683682203292847, 0.6677299737930298, 0.667515218257904, 0.6660810112953186, 0.6640139818191528, 0.6610379219055176, 0.6587530374526978, 0.6563674807548523, 0.6525241732597351, 0.6488584876060486, 0.6473504900932312, 0.646187961101532, 0.6444603800773621, 0.6427809000015259, 0.6418439149856567, 0.8087818026542664, 0.802544116973877, 0.7984035015106201, 0.7966386079788208, 0.7930284738540649, 0.791717529296875, 0.784731388092041, 0.7839118838310242, 0.7826569080352783, 0.7805144786834717, 0.7785234451293945, 0.7747668623924255, 0.7744882106781006, 0.7727957367897034, 0.7721916437149048, 0.7701934576034546, 0.7701554894447327, 0.7694838643074036, 0.7687430381774902, 0.767789900302887, 0.7665293216705322, 0.7663546800613403, 0.7613797783851624, 0.7574260830879211, 0.751762330532074, 0.7449926733970642, 0.7394504547119141, 0.7360108494758606, 0.7346301674842834, 0.7308131456375122, 0.7248737812042236, 0.7226942777633667, 0.7221618294715881, 0.9393648505210876, 0.9346324801445007, 0.9235854148864746, 0.9199717044830322, 0.9024681448936462, 0.8975896835327148, 0.8958741426467896, 0.882703959941864, 0.8729909658432007, 0.8574507236480713, 0.8280695080757141, 0.818557620048523, 0.8109805583953857, 0.8074946999549866, 0.8045551776885986, 0.799607515335083, 0.7983307242393494, 0.7953811883926392, 0.7947933673858643, 0.7945285439491272, 0.7938740849494934, 0.7929323315620422, 0.7923557758331299, 0.79128497838974, 0.7888363003730774, 0.7876026630401611, 0.7866847515106201, 0.7860415577888489, 0.7858462333679199, 0.7844878435134888, 0.7835902571678162, 0.7818254232406616, 0.7783308029174805, 0.7760836482048035, 0.7760567665100098, 0.7751822471618652, 0.7751104831695557, 0.7737587094306946, 0.772139847278595, 0.762806236743927, 0.7249350547790527, 0.7207537889480591, 0.718320369720459, 0.7166124582290649, 0.716424822807312, 0.7118677496910095, 0.7078593373298645, 0.7057350277900696, 0.7033500671386719, 0.6999024748802185, 0.6991000175476074, 0.6985564231872559, 0.6949058771133423, 0.6886293888092041, 0.6870428323745728, 0.6846811175346375, 0.6838170886039734, 0.6806845664978027, 0.6786782741546631, 0.6717772483825684, 0.6710482835769653, 0.6709056496620178, 0.6657595038414001, 0.6637778878211975, 0.6633011698722839, 0.6588976383209229, 0.6566070318222046, 0.6565304398536682, 0.6509514451026917, 0.6493551135063171, 0.6482403874397278, 0.7651782035827637, 0.7545569539070129, 0.7309446930885315, 0.7142834663391113, 0.7089824676513672, 0.7041892409324646, 0.7034326791763306, 0.6988033056259155, 0.6804165244102478, 0.6798715591430664, 0.6751874089241028, 0.6747152209281921, 0.6706791520118713, 0.6669498085975647, 0.6668882966041565, 0.6660946607589722, 0.6653689742088318, 0.6649179458618164, 0.6645578145980835, 0.663994312286377, 0.6629348993301392, 0.6626007556915283, 0.661032497882843, 0.6575613617897034, 0.6573283076286316, 0.6556591987609863, 0.6547319889068604, 0.6516025066375732, 0.6514171361923218, 0.6489880084991455, 0.6461440920829773, 0.6456398367881775, 0.8224290013313293, 0.795112669467926, 0.7928763628005981, 0.7835145592689514, 0.7695265412330627, 0.7693343162536621, 0.7598749995231628, 0.7552388310432434, 0.7486501336097717, 0.7443675994873047, 0.7405620217323303, 0.7381888628005981, 0.7379798293113708, 0.7339255213737488, 0.7309234738349915, 0.7300559878349304, 0.7295423746109009, 0.7191416025161743, 0.7190222144126892, 0.7186893224716187, 0.7168844938278198, 0.7167732119560242, 0.7167529463768005, 0.716160774230957, 0.7145481109619141, 0.706614077091217, 0.7040460705757141, 0.6988459229469299, 0.6971901655197144, 0.6919688582420349, 0.6828789710998535, 0.9514651298522949, 0.9461822509765625, 0.9437418580055237, 0.9434613585472107, 0.9351590871810913, 0.9350056648254395, 0.9276106953620911, 0.9186532497406006, 0.9125493168830872, 0.8721862435340881, 0.8595687747001648, 0.8398928046226501, 0.825268566608429, 0.8160132169723511, 0.8133904337882996, 0.8131331205368042, 0.8097399473190308, 0.7927945256233215, 0.7911664843559265, 0.7879801392555237, 0.7872072458267212, 0.7855033874511719, 0.784392237663269, 0.774960994720459, 0.7715386748313904, 0.768752932548523, 0.7685931324958801, 0.7683197855949402, 0.767939031124115, 0.7656779289245605, 0.7627651691436768, 0.7610492706298828, 0.7589027881622314, 0.758623480796814, 0.7577492594718933, 0.7563930153846741, 0.7563083171844482, 0.7561455368995667, 0.7554333209991455, 0.7280820608139038, 0.7267733812332153, 0.7233233451843262, 0.7002677917480469, 0.696353018283844, 0.6959536075592041, 0.6919658780097961, 0.686479389667511, 0.6834571361541748, 0.6813141703605652, 0.6761114001274109, 0.6708332300186157, 0.6700754761695862, 0.6695894598960876, 0.6675568222999573, 0.6651709079742432, 0.6644726991653442, 0.6640723347663879, 0.6623372435569763, 0.6606591939926147, 0.6553938984870911, 0.6538144946098328, 0.6510739326477051, 0.6375579833984375, 0.6374400854110718, 0.6370908617973328, 0.6358695030212402, 0.6330407857894897, 0.6328179240226746, 0.6320564150810242, 0.6317479610443115, 0.8809114098548889, 0.8302059769630432, 0.8120051622390747, 0.7867048382759094, 0.7459844946861267, 0.7411251068115234, 0.7305735945701599, 0.724428117275238, 0.7214968204498291, 0.721481442451477, 0.714032769203186, 0.7068606615066528, 0.7068460583686829, 0.7063498497009277, 0.7030712366104126, 0.6911973357200623, 0.6904180645942688, 0.6852892637252808, 0.6792148351669312, 0.6749737858772278, 0.6685401797294617, 0.6682584285736084, 0.6639418005943298, 0.6634404063224792, 0.6617491841316223, 0.659083366394043, 0.6560347080230713, 0.6533441543579102, 0.6513732075691223, 0.6493244171142578, 0.6483713984489441, 0.6479081511497498, 0.8102470636367798, 0.80644291639328, 0.8048089146614075, 0.804671049118042, 0.799916684627533, 0.7740885615348816, 0.7677987217903137, 0.7647947669029236, 0.7544764280319214, 0.7369987964630127, 0.734495997428894, 0.7309786081314087, 0.7288580536842346, 0.7274371981620789, 0.7269285917282104, 0.7173089385032654, 0.7153084874153137, 0.7122269868850708, 0.7113809585571289, 0.7095077037811279, 0.7083113789558411, 0.7078407406806946, 0.706591010093689, 0.705869197845459, 0.7055245637893677, 0.7052484154701233, 0.7047173976898193, 0.7042075395584106, 0.7021359801292419, 0.7012271285057068, 0.7009344100952148, 0.6982531547546387, 0.696342408657074, 0.6961557865142822, 0.6947696805000305, 0.6941521167755127, 0.6933763027191162, 0.6928213834762573, 0.7183690071105957, 0.714667558670044, 0.6970634460449219, 0.6856417655944824, 0.6698764562606812, 0.664252758026123, 0.663308322429657, 0.6615220308303833, 0.6595346927642822, 0.6514778137207031, 0.6501837372779846, 0.6479281187057495, 0.647569477558136, 0.6434682011604309, 0.6424748301506042, 0.6384357213973999, 0.6370217800140381, 0.633943498134613, 0.6338596940040588, 0.6331483125686646, 0.6323493123054504, 0.6274811029434204, 0.6253371238708496, 0.6199362277984619, 0.6195991635322571, 0.614786684513092, 0.6126502752304077, 0.6092260479927063, 0.6079549789428711, 0.6066826581954956, 0.6041613221168518, 0.6024397015571594, 0.6004289984703064, 0.5966566205024719, 0.5957655906677246, 0.5955386757850647, 0.593292772769928, 0.5922531485557556, 0.5909342169761658, 0.8565549850463867, 0.8330923318862915, 0.8085379600524902, 0.7909862995147705, 0.7901309728622437, 0.7814182043075562, 0.7787438631057739, 0.7786643505096436, 0.7760064601898193, 0.7701297998428345, 0.7682565450668335, 0.7673625349998474, 0.7611192464828491, 0.759377658367157, 0.757606565952301, 0.7522081136703491, 0.7514244318008423, 0.7511011362075806, 0.7491903305053711, 0.7483676075935364, 0.7473017573356628, 0.7372589707374573, 0.7371199131011963, 0.7348102927207947, 0.7339220643043518, 0.732766330242157, 0.7323997020721436, 0.7321330308914185, 0.728922426700592, 0.7267255783081055, 0.7261328101158142, 0.7257693409919739, 0.723156213760376, 0.7214023470878601, 0.7193078398704529, 0.7184413075447083, 0.7182477712631226, 0.7172101140022278, 0.7879623174667358, 0.7827361822128296, 0.7674834132194519, 0.7563290596008301, 0.742315411567688, 0.7400649785995483, 0.7358031868934631, 0.7298935055732727, 0.7280548810958862, 0.7197657823562622, 0.719500720500946, 0.7183846235275269, 0.7175328731536865, 0.7172150015830994, 0.7139363288879395, 0.7108994722366333, 0.710040807723999, 0.7059736251831055, 0.703136146068573, 0.7016121745109558, 0.7004320621490479, 0.6988967061042786, 0.69753497838974, 0.6960561275482178, 0.6955590844154358, 0.6952384114265442, 0.6933375597000122, 0.6932749152183533, 0.6932467222213745, 0.6911948919296265, 0.6901838183403015, 0.6890712380409241, 0.6889966726303101, 0.6888214945793152, 0.6883800029754639, 0.6864030361175537, 0.841658890247345, 0.8360119462013245, 0.835380494594574, 0.8343138694763184, 0.8309071660041809, 0.8296864628791809, 0.8274650573730469, 0.8259229063987732, 0.8232576251029968, 0.8219872713088989, 0.820908784866333, 0.8204072713851929, 0.8197224140167236, 0.8195070028305054, 0.8194984793663025, 0.8185850977897644, 0.8185731172561646, 0.8183361291885376, 0.8181203007698059, 0.8150021433830261, 0.814285159111023, 0.813604474067688, 0.8133317828178406, 0.8123394250869751, 0.8115514516830444, 0.8093391060829163, 0.8076332807540894, 0.8059461712837219, 0.8054298758506775, 0.8042207360267639, 0.8036240339279175, 0.8027015328407288, 0.8014376759529114, 0.8013212084770203, 0.8006007671356201, 0.7994717359542847, 0.7983517050743103, 0.7979222536087036, 0.8729703426361084, 0.8358295559883118, 0.832912027835846, 0.8116151094436646, 0.7898276448249817, 0.7865344882011414, 0.777838945388794, 0.7635027170181274, 0.7594609260559082, 0.7518845200538635, 0.7447216510772705, 0.7435591220855713, 0.7404038906097412, 0.7351877689361572, 0.7320396900177002, 0.7310531735420227, 0.7305335998535156, 0.7290198802947998, 0.725657045841217, 0.7251978516578674, 0.7228983640670776, 0.7152044177055359, 0.7148776054382324, 0.714720606803894, 0.7114267945289612, 0.7099529504776001, 0.7087429165840149, 0.7070465683937073, 0.7041857838630676, 0.7015761733055115, 0.7007721662521362, 0.6976730227470398, 0.696901261806488, 0.6954199075698853, 0.6949047446250916, 0.8237789869308472, 0.8217112421989441, 0.819972038269043, 0.8189376592636108, 0.818845808506012, 0.8163408637046814, 0.8156676292419434, 0.8154212236404419, 0.8142872452735901, 0.8107883334159851, 0.8096057772636414, 0.8090333342552185, 0.8082236051559448, 0.8048024773597717, 0.8041008114814758, 0.8036419153213501, 0.8020840287208557, 0.8019048571586609, 0.8014747500419617, 0.8006084561347961, 0.7999195456504822, 0.7990365624427795, 0.7951840162277222, 0.7920600175857544, 0.790477454662323, 0.7899811863899231, 0.7897054553031921, 0.7871128916740417, 0.7864575386047363, 0.7853717803955078, 0.7849109768867493, 0.7847598195075989, 0.7837955355644226, 0.7834656238555908, 0.7829351425170898, 0.7816981673240662, 0.7815773487091064, 0.780316948890686, 0.8480919599533081, 0.8111430406570435, 0.8073049783706665, 0.8023235201835632, 0.797674298286438, 0.7893062829971313, 0.7891331911087036, 0.7706276178359985, 0.765193521976471, 0.7531425952911377, 0.749690592288971, 0.7461274862289429, 0.7439742684364319, 0.7431023120880127, 0.7315047979354858, 0.7237056493759155, 0.7186638116836548, 0.7122066617012024, 0.7112277150154114, 0.7082101702690125, 0.7074605226516724, 0.7030149698257446, 0.7020018696784973, 0.696281373500824, 0.6953707933425903, 0.6937462091445923, 0.6871668100357056, 0.686994731426239, 0.6867474317550659, 0.6836341023445129, 0.6835734248161316, 0.6782001256942749, 0.6780881881713867, 0.6761510968208313, 0.7683711647987366, 0.7404599189758301, 0.734819233417511, 0.7342764735221863, 0.731711208820343, 0.7297176718711853, 0.7287121415138245, 0.7249899506568909, 0.7237350344657898, 0.7133001089096069, 0.710096538066864, 0.7048562169075012, 0.7036608457565308, 0.7031728625297546, 0.6964355111122131, 0.695824921131134, 0.6947945952415466, 0.6891091465950012, 0.6851168870925903, 0.6836051344871521, 0.6810389757156372, 0.679733395576477, 0.6796579360961914, 0.6713913679122925, 0.6713178753852844, 0.6696763634681702, 0.6666056513786316, 0.6630741953849792, 0.6630673408508301, 0.6621110439300537, 0.6619794368743896, 0.6611526012420654, 0.6593374013900757, 0.657930850982666, 0.6567414999008179, 0.6563952565193176, 0.6561248302459717, 0.6553977131843567, 0.6531078219413757, 0.6528135538101196, 0.8810060024261475, 0.8517757654190063, 0.8393265008926392, 0.8319692611694336, 0.8265289664268494, 0.8111176490783691, 0.7952913641929626, 0.7720336318016052, 0.7694125175476074, 0.7653362154960632, 0.7645947933197021, 0.760229229927063, 0.7601268291473389, 0.7545496225357056, 0.7449018359184265, 0.7349043488502502, 0.7341048717498779, 0.7253514528274536, 0.7177932262420654, 0.7124254107475281, 0.7119457125663757, 0.7054051160812378, 0.7045702338218689, 0.7023852467536926, 0.6977880001068115, 0.6973189115524292, 0.6959629058837891, 0.6957929134368896, 0.6951389908790588, 0.693681001663208, 0.6916859149932861, 0.6888750791549683, 0.6861584186553955, 0.8789007067680359, 0.8712344765663147, 0.849132239818573, 0.7822735905647278, 0.7601568698883057, 0.7333845496177673, 0.7254766225814819, 0.7054450511932373, 0.6959629058837891, 0.6927937269210815, 0.6863977909088135, 0.681488573551178, 0.6811756491661072, 0.6752320528030396, 0.6751630306243896, 0.6715987920761108, 0.6704740524291992, 0.6677669882774353, 0.665339469909668, 0.6633108258247375, 0.661143958568573, 0.6608291268348694, 0.659096360206604, 0.6583132743835449, 0.6511717438697815, 0.6505278944969177, 0.6466081142425537, 0.6464468836784363, 0.6458004117012024, 0.6446082592010498, 0.6445761919021606, 0.6436261534690857, 0.6425204873085022, 0.6420456171035767, 0.6416115760803223, 0.6403532028198242, 0.6399962306022644, 0.7351515293121338, 0.7259819507598877, 0.7213077545166016, 0.7097645998001099, 0.7053011655807495, 0.7028563618659973, 0.6948056817054749, 0.6868641972541809, 0.6839756965637207, 0.6805493831634521, 0.6745843291282654, 0.6716099977493286, 0.6633040308952332, 0.6587001085281372, 0.6565704941749573, 0.655284583568573, 0.6551928520202637, 0.6550503373146057, 0.655039370059967, 0.6543357968330383, 0.6536706686019897, 0.6534481644630432, 0.6529449820518494, 0.6526678800582886, 0.6520847082138062, 0.6511722207069397, 0.6507346630096436, 0.6497023701667786, 0.6489847302436829, 0.6476497054100037, 0.647634744644165, 0.6461066007614136, 0.6460933089256287, 0.6455076932907104, 0.6452063322067261, 0.6440418362617493, 0.6425795555114746, 0.7399866580963135, 0.7365463972091675, 0.7321569323539734, 0.7035009264945984, 0.6664531230926514, 0.6459483504295349, 0.6457434892654419, 0.6454980969429016, 0.6407550573348999, 0.6346616148948669, 0.6332021355628967, 0.6331448554992676, 0.6321814656257629, 0.629706859588623, 0.6296758055686951, 0.6280190348625183, 0.6258611679077148, 0.618393063545227, 0.6177266836166382, 0.6154018044471741, 0.6151090860366821, 0.6143094897270203, 0.6141687631607056, 0.6128201484680176, 0.6124095916748047, 0.6120961308479309, 0.6101917624473572, 0.6094846725463867, 0.6092938780784607, 0.6085101962089539, 0.6082772016525269, 0.6080490350723267, 0.6074910163879395, 0.6070283651351929, 0.6065260767936707, 0.6060301065444946, 0.6056478023529053, 0.6040481925010681, 0.7610307335853577, 0.7336602807044983, 0.6980555057525635, 0.691413402557373, 0.6861978769302368, 0.6637733578681946, 0.6613363027572632, 0.6605511903762817, 0.6589111685752869, 0.6441946625709534, 0.6430145502090454, 0.6426135301589966, 0.6416049003601074, 0.6361463069915771, 0.6333975195884705, 0.6309639811515808, 0.6291751861572266, 0.6227923631668091, 0.620317280292511, 0.6201955676078796, 0.6198340654373169, 0.6163382530212402, 0.61455237865448, 0.613459050655365, 0.61183100938797, 0.610665500164032, 0.6103081107139587, 0.6079301238059998, 0.6048555970191956, 0.6019994020462036, 0.6018750071525574, 0.5991485118865967, 0.5972572565078735, 0.5971622467041016, 0.5952472686767578, 0.5949959754943848, 0.594222903251648, 0.7309210896492004, 0.7123368382453918, 0.7056796550750732, 0.705365777015686, 0.6967206001281738, 0.6948326826095581, 0.6900632381439209, 0.6831199526786804, 0.672228991985321, 0.6703545451164246, 0.6688607335090637, 0.6629469394683838, 0.6600463390350342, 0.6585164070129395, 0.6582713723182678, 0.6546090245246887, 0.6501899361610413, 0.6478958129882812, 0.6477016806602478, 0.6426001787185669, 0.640854001045227, 0.6398026943206787, 0.6382781863212585, 0.6375822424888611, 0.637426495552063, 0.6356520056724548, 0.6346195936203003, 0.6330757141113281, 0.6276992559432983, 0.6243394017219543, 0.622338056564331, 0.6195049285888672, 0.6189500093460083, 0.6187855005264282, 0.6184714436531067, 0.6178405284881592, 0.9639112949371338, 0.9307364821434021, 0.9147341251373291, 0.9058212637901306, 0.8997436761856079, 0.8385601043701172, 0.8368964791297913, 0.8317129611968994, 0.831570565700531, 0.8308397531509399, 0.8228635787963867, 0.8024426698684692, 0.801245391368866, 0.794377326965332, 0.7880603075027466, 0.7835021615028381, 0.776997983455658, 0.7749148011207581, 0.7742440700531006, 0.769279420375824, 0.7670638561248779, 0.7612944841384888, 0.7589750289916992, 0.7556014657020569, 0.7546583414077759, 0.7544101476669312, 0.7523162364959717, 0.7522704601287842, 0.7471766471862793, 0.7450941205024719, 0.7432284355163574, 0.7405673861503601, 0.7394078969955444, 0.7372474074363708, 0.735660970211029, 0.7339056134223938, 0.9284375309944153, 0.8970193862915039, 0.8840498924255371, 0.8567188382148743, 0.8475092649459839, 0.8365144729614258, 0.8349345922470093, 0.829677939414978, 0.8231743574142456, 0.8221005201339722, 0.8093786835670471, 0.803031325340271, 0.801611065864563, 0.8003594875335693, 0.7982444167137146, 0.7952470779418945, 0.7892022728919983, 0.7878034114837646, 0.786327600479126, 0.7817489504814148, 0.7810385823249817, 0.7804780602455139, 0.7800175547599792, 0.7707287669181824, 0.7661880850791931, 0.765336275100708, 0.7651935815811157, 0.7632503509521484, 0.7613722085952759, 0.758368730545044, 0.7568110823631287, 0.7564716339111328, 0.7560080885887146, 0.7516051530838013, 0.7501094341278076, 0.9777834415435791, 0.9775658249855042, 0.9764352440834045, 0.9732945561408997, 0.9720602035522461, 0.9704345464706421, 0.9698452353477478, 0.9688050746917725, 0.9679870009422302, 0.9670650959014893, 0.9637957811355591, 0.9622679948806763, 0.9618762731552124, 0.9608997702598572, 0.9563099145889282, 0.9448814392089844, 0.9433379769325256, 0.9419797658920288, 0.9403054714202881, 0.9402792453765869, 0.9284805059432983, 0.9238043427467346, 0.9202407002449036, 0.8667307496070862, 0.8607563376426697, 0.7913892269134521, 0.7895360589027405, 0.7835238575935364, 0.7749515175819397, 0.7693958878517151, 0.7554311752319336, 0.7544732093811035, 0.7506387829780579, 0.7460739612579346, 0.7449561953544617, 0.739844560623169, 0.7333373427391052, 0.7273513674736023, 0.9473437070846558, 0.9120287895202637, 0.9002452492713928, 0.8659009337425232, 0.8620431423187256, 0.8564109206199646, 0.841565728187561, 0.8319913744926453, 0.8225229978561401, 0.8009555339813232, 0.800601601600647, 0.793218731880188, 0.7928248643875122, 0.7759495973587036, 0.7739843130111694, 0.7697024941444397, 0.7694236040115356, 0.7675855755805969, 0.7627916932106018, 0.7592436075210571, 0.7540829181671143, 0.7536274790763855, 0.752423107624054, 0.7454400658607483, 0.7451236248016357, 0.7402420043945312, 0.7387549877166748, 0.7359191179275513, 0.7354841232299805, 0.7346107363700867, 0.7329555153846741, 0.727672278881073, 0.727577805519104, 0.7247859835624695, 0.7245480418205261, 0.7239185571670532], \"xaxis\": \"x\", \"yaxis\": \"y\"}],\n",
              "                        {\"barmode\": \"relative\", \"legend\": {\"tracegroupgap\": 0}, \"template\": {\"data\": {\"bar\": [{\"error_x\": {\"color\": \"#2a3f5f\"}, \"error_y\": {\"color\": \"#2a3f5f\"}, \"marker\": {\"line\": {\"color\": \"#E5ECF6\", \"width\": 0.5}}, \"type\": \"bar\"}], \"barpolar\": [{\"marker\": {\"line\": {\"color\": \"#E5ECF6\", \"width\": 0.5}}, \"type\": \"barpolar\"}], \"carpet\": [{\"aaxis\": {\"endlinecolor\": \"#2a3f5f\", \"gridcolor\": \"white\", \"linecolor\": \"white\", \"minorgridcolor\": \"white\", \"startlinecolor\": \"#2a3f5f\"}, \"baxis\": {\"endlinecolor\": \"#2a3f5f\", \"gridcolor\": \"white\", \"linecolor\": \"white\", \"minorgridcolor\": \"white\", \"startlinecolor\": \"#2a3f5f\"}, \"type\": \"carpet\"}], \"choropleth\": [{\"colorbar\": {\"outlinewidth\": 0, \"ticks\": \"\"}, \"type\": \"choropleth\"}], \"contour\": [{\"colorbar\": {\"outlinewidth\": 0, \"ticks\": \"\"}, \"colorscale\": [[0.0, \"#0d0887\"], [0.1111111111111111, \"#46039f\"], [0.2222222222222222, \"#7201a8\"], [0.3333333333333333, \"#9c179e\"], [0.4444444444444444, \"#bd3786\"], [0.5555555555555556, \"#d8576b\"], [0.6666666666666666, \"#ed7953\"], [0.7777777777777778, \"#fb9f3a\"], [0.8888888888888888, \"#fdca26\"], [1.0, \"#f0f921\"]], \"type\": \"contour\"}], \"contourcarpet\": [{\"colorbar\": {\"outlinewidth\": 0, \"ticks\": \"\"}, \"type\": \"contourcarpet\"}], \"heatmap\": [{\"colorbar\": {\"outlinewidth\": 0, \"ticks\": \"\"}, \"colorscale\": [[0.0, \"#0d0887\"], [0.1111111111111111, \"#46039f\"], [0.2222222222222222, \"#7201a8\"], [0.3333333333333333, \"#9c179e\"], [0.4444444444444444, \"#bd3786\"], [0.5555555555555556, \"#d8576b\"], [0.6666666666666666, \"#ed7953\"], [0.7777777777777778, \"#fb9f3a\"], [0.8888888888888888, \"#fdca26\"], [1.0, \"#f0f921\"]], \"type\": \"heatmap\"}], \"heatmapgl\": [{\"colorbar\": {\"outlinewidth\": 0, \"ticks\": \"\"}, \"colorscale\": [[0.0, \"#0d0887\"], [0.1111111111111111, \"#46039f\"], [0.2222222222222222, \"#7201a8\"], [0.3333333333333333, \"#9c179e\"], [0.4444444444444444, \"#bd3786\"], [0.5555555555555556, \"#d8576b\"], [0.6666666666666666, \"#ed7953\"], [0.7777777777777778, \"#fb9f3a\"], [0.8888888888888888, \"#fdca26\"], [1.0, \"#f0f921\"]], \"type\": \"heatmapgl\"}], \"histogram\": [{\"marker\": {\"colorbar\": {\"outlinewidth\": 0, \"ticks\": \"\"}}, \"type\": \"histogram\"}], \"histogram2d\": [{\"colorbar\": {\"outlinewidth\": 0, \"ticks\": \"\"}, \"colorscale\": [[0.0, \"#0d0887\"], [0.1111111111111111, \"#46039f\"], [0.2222222222222222, \"#7201a8\"], [0.3333333333333333, \"#9c179e\"], [0.4444444444444444, \"#bd3786\"], [0.5555555555555556, \"#d8576b\"], [0.6666666666666666, \"#ed7953\"], [0.7777777777777778, \"#fb9f3a\"], [0.8888888888888888, \"#fdca26\"], [1.0, \"#f0f921\"]], \"type\": \"histogram2d\"}], \"histogram2dcontour\": [{\"colorbar\": {\"outlinewidth\": 0, \"ticks\": \"\"}, \"colorscale\": [[0.0, \"#0d0887\"], [0.1111111111111111, \"#46039f\"], [0.2222222222222222, \"#7201a8\"], [0.3333333333333333, \"#9c179e\"], [0.4444444444444444, \"#bd3786\"], [0.5555555555555556, \"#d8576b\"], [0.6666666666666666, \"#ed7953\"], [0.7777777777777778, \"#fb9f3a\"], [0.8888888888888888, \"#fdca26\"], [1.0, \"#f0f921\"]], \"type\": \"histogram2dcontour\"}], \"mesh3d\": [{\"colorbar\": {\"outlinewidth\": 0, \"ticks\": \"\"}, \"type\": \"mesh3d\"}], \"parcoords\": [{\"line\": {\"colorbar\": {\"outlinewidth\": 0, \"ticks\": \"\"}}, \"type\": \"parcoords\"}], \"pie\": [{\"automargin\": true, \"type\": \"pie\"}], \"scatter\": [{\"marker\": {\"colorbar\": {\"outlinewidth\": 0, \"ticks\": \"\"}}, \"type\": \"scatter\"}], \"scatter3d\": [{\"line\": {\"colorbar\": {\"outlinewidth\": 0, \"ticks\": \"\"}}, \"marker\": {\"colorbar\": {\"outlinewidth\": 0, \"ticks\": \"\"}}, \"type\": \"scatter3d\"}], \"scattercarpet\": [{\"marker\": {\"colorbar\": {\"outlinewidth\": 0, \"ticks\": \"\"}}, \"type\": \"scattercarpet\"}], \"scattergeo\": [{\"marker\": {\"colorbar\": {\"outlinewidth\": 0, \"ticks\": \"\"}}, \"type\": \"scattergeo\"}], \"scattergl\": [{\"marker\": {\"colorbar\": {\"outlinewidth\": 0, \"ticks\": \"\"}}, \"type\": \"scattergl\"}], \"scattermapbox\": [{\"marker\": {\"colorbar\": {\"outlinewidth\": 0, \"ticks\": \"\"}}, \"type\": \"scattermapbox\"}], \"scatterpolar\": [{\"marker\": {\"colorbar\": {\"outlinewidth\": 0, \"ticks\": \"\"}}, \"type\": \"scatterpolar\"}], \"scatterpolargl\": [{\"marker\": {\"colorbar\": {\"outlinewidth\": 0, \"ticks\": \"\"}}, \"type\": \"scatterpolargl\"}], \"scatterternary\": [{\"marker\": {\"colorbar\": {\"outlinewidth\": 0, \"ticks\": \"\"}}, \"type\": \"scatterternary\"}], \"surface\": [{\"colorbar\": {\"outlinewidth\": 0, \"ticks\": \"\"}, \"colorscale\": [[0.0, \"#0d0887\"], [0.1111111111111111, \"#46039f\"], [0.2222222222222222, \"#7201a8\"], [0.3333333333333333, \"#9c179e\"], [0.4444444444444444, \"#bd3786\"], [0.5555555555555556, \"#d8576b\"], [0.6666666666666666, \"#ed7953\"], [0.7777777777777778, \"#fb9f3a\"], [0.8888888888888888, \"#fdca26\"], [1.0, \"#f0f921\"]], \"type\": \"surface\"}], \"table\": [{\"cells\": {\"fill\": {\"color\": \"#EBF0F8\"}, \"line\": {\"color\": \"white\"}}, \"header\": {\"fill\": {\"color\": \"#C8D4E3\"}, \"line\": {\"color\": \"white\"}}, \"type\": \"table\"}]}, \"layout\": {\"annotationdefaults\": {\"arrowcolor\": \"#2a3f5f\", \"arrowhead\": 0, \"arrowwidth\": 1}, \"coloraxis\": {\"colorbar\": {\"outlinewidth\": 0, \"ticks\": \"\"}}, \"colorscale\": {\"diverging\": [[0, \"#8e0152\"], [0.1, \"#c51b7d\"], [0.2, \"#de77ae\"], [0.3, \"#f1b6da\"], [0.4, \"#fde0ef\"], [0.5, \"#f7f7f7\"], [0.6, \"#e6f5d0\"], [0.7, \"#b8e186\"], [0.8, \"#7fbc41\"], [0.9, \"#4d9221\"], [1, \"#276419\"]], \"sequential\": [[0.0, \"#0d0887\"], [0.1111111111111111, \"#46039f\"], [0.2222222222222222, \"#7201a8\"], [0.3333333333333333, \"#9c179e\"], [0.4444444444444444, \"#bd3786\"], [0.5555555555555556, \"#d8576b\"], [0.6666666666666666, \"#ed7953\"], [0.7777777777777778, \"#fb9f3a\"], [0.8888888888888888, \"#fdca26\"], [1.0, \"#f0f921\"]], \"sequentialminus\": [[0.0, \"#0d0887\"], [0.1111111111111111, \"#46039f\"], [0.2222222222222222, \"#7201a8\"], [0.3333333333333333, \"#9c179e\"], [0.4444444444444444, \"#bd3786\"], [0.5555555555555556, \"#d8576b\"], [0.6666666666666666, \"#ed7953\"], [0.7777777777777778, \"#fb9f3a\"], [0.8888888888888888, \"#fdca26\"], [1.0, \"#f0f921\"]]}, \"colorway\": [\"#636efa\", \"#EF553B\", \"#00cc96\", \"#ab63fa\", \"#FFA15A\", \"#19d3f3\", \"#FF6692\", \"#B6E880\", \"#FF97FF\", \"#FECB52\"], \"font\": {\"color\": \"#2a3f5f\"}, \"geo\": {\"bgcolor\": \"white\", \"lakecolor\": \"white\", \"landcolor\": \"#E5ECF6\", \"showlakes\": true, \"showland\": true, \"subunitcolor\": \"white\"}, \"hoverlabel\": {\"align\": \"left\"}, \"hovermode\": \"closest\", \"mapbox\": {\"style\": \"light\"}, \"paper_bgcolor\": \"white\", \"plot_bgcolor\": \"#E5ECF6\", \"polar\": {\"angularaxis\": {\"gridcolor\": \"white\", \"linecolor\": \"white\", \"ticks\": \"\"}, \"bgcolor\": \"#E5ECF6\", \"radialaxis\": {\"gridcolor\": \"white\", \"linecolor\": \"white\", \"ticks\": \"\"}}, \"scene\": {\"xaxis\": {\"backgroundcolor\": \"#E5ECF6\", \"gridcolor\": \"white\", \"gridwidth\": 2, \"linecolor\": \"white\", \"showbackground\": true, \"ticks\": \"\", \"zerolinecolor\": \"white\"}, \"yaxis\": {\"backgroundcolor\": \"#E5ECF6\", \"gridcolor\": \"white\", \"gridwidth\": 2, \"linecolor\": \"white\", \"showbackground\": true, \"ticks\": \"\", \"zerolinecolor\": \"white\"}, \"zaxis\": {\"backgroundcolor\": \"#E5ECF6\", \"gridcolor\": \"white\", \"gridwidth\": 2, \"linecolor\": \"white\", \"showbackground\": true, \"ticks\": \"\", \"zerolinecolor\": \"white\"}}, \"shapedefaults\": {\"line\": {\"color\": \"#2a3f5f\"}}, \"ternary\": {\"aaxis\": {\"gridcolor\": \"white\", \"linecolor\": \"white\", \"ticks\": \"\"}, \"baxis\": {\"gridcolor\": \"white\", \"linecolor\": \"white\", \"ticks\": \"\"}, \"bgcolor\": \"#E5ECF6\", \"caxis\": {\"gridcolor\": \"white\", \"linecolor\": \"white\", \"ticks\": \"\"}}, \"title\": {\"x\": 0.05}, \"xaxis\": {\"automargin\": true, \"gridcolor\": \"white\", \"linecolor\": \"white\", \"ticks\": \"\", \"title\": {\"standoff\": 15}, \"zerolinecolor\": \"white\", \"zerolinewidth\": 2}, \"yaxis\": {\"automargin\": true, \"gridcolor\": \"white\", \"linecolor\": \"white\", \"ticks\": \"\", \"title\": {\"standoff\": 15}, \"zerolinecolor\": \"white\", \"zerolinewidth\": 2}}}, \"title\": {\"text\": \"Scores for Section Similarities\"}, \"xaxis\": {\"anchor\": \"y\", \"domain\": [0.0, 1.0], \"title\": {\"text\": \"score\"}}, \"yaxis\": {\"anchor\": \"x\", \"domain\": [0.0, 1.0], \"title\": {\"text\": \"count\"}}},\n",
              "                        {\"responsive\": true}\n",
              "                    ).then(function(){\n",
              "                            \n",
              "var gd = document.getElementById('2cc0ad24-2bbd-4c82-b9ba-4a9bd6be8d80');\n",
              "var x = new MutationObserver(function (mutations, observer) {{\n",
              "        var display = window.getComputedStyle(gd).display;\n",
              "        if (!display || display === 'none') {{\n",
              "            console.log([gd, 'removed!']);\n",
              "            Plotly.purge(gd);\n",
              "            observer.disconnect();\n",
              "        }}\n",
              "}});\n",
              "\n",
              "// Listen for the removal of the full notebook cells\n",
              "var notebookContainer = gd.closest('#notebook-container');\n",
              "if (notebookContainer) {{\n",
              "    x.observe(notebookContainer, {childList: true});\n",
              "}}\n",
              "\n",
              "// Listen for the clearing of the current output cell\n",
              "var outputEl = gd.closest('.output');\n",
              "if (outputEl) {{\n",
              "    x.observe(outputEl, {childList: true});\n",
              "}}\n",
              "\n",
              "                        })\n",
              "                };\n",
              "                \n",
              "            </script>\n",
              "        </div>\n",
              "</body>\n",
              "</html>"
            ]
          },
          "metadata": {}
        }
      ]
    },
    {
      "cell_type": "code",
      "metadata": {
        "colab": {
          "base_uri": "https://localhost:8080/",
          "height": 990
        },
        "id": "DgV3ccDr5Ux4",
        "outputId": "300f7494-1df1-404c-9c44-f35cd31b65e4"
      },
      "source": [
        "result, details = recommend_tune(df_section_sim, 'Perdido')\n",
        "result.head(30)"
      ],
      "execution_count": 445,
      "outputs": [
        {
          "output_type": "execute_result",
          "data": {
            "text/html": [
              "<div>\n",
              "<style scoped>\n",
              "    .dataframe tbody tr th:only-of-type {\n",
              "        vertical-align: middle;\n",
              "    }\n",
              "\n",
              "    .dataframe tbody tr th {\n",
              "        vertical-align: top;\n",
              "    }\n",
              "\n",
              "    .dataframe thead th {\n",
              "        text-align: right;\n",
              "    }\n",
              "</style>\n",
              "<table border=\"1\" class=\"dataframe\">\n",
              "  <thead>\n",
              "    <tr style=\"text-align: right;\">\n",
              "      <th></th>\n",
              "      <th>reference</th>\n",
              "      <th>similar_title</th>\n",
              "      <th>score</th>\n",
              "      <th>max</th>\n",
              "      <th>score_div_max</th>\n",
              "    </tr>\n",
              "  </thead>\n",
              "  <tbody>\n",
              "    <tr>\n",
              "      <th>0</th>\n",
              "      <td>Perdido</td>\n",
              "      <td>I Get A Kick Out Of You</td>\n",
              "      <td>0.963911</td>\n",
              "      <td>0.963911</td>\n",
              "      <td>1.000000</td>\n",
              "    </tr>\n",
              "    <tr>\n",
              "      <th>1</th>\n",
              "      <td>Perdido</td>\n",
              "      <td>Theme, The</td>\n",
              "      <td>0.977783</td>\n",
              "      <td>0.977783</td>\n",
              "      <td>1.000000</td>\n",
              "    </tr>\n",
              "    <tr>\n",
              "      <th>2</th>\n",
              "      <td>Perdido</td>\n",
              "      <td>I Got Rhythm</td>\n",
              "      <td>0.977566</td>\n",
              "      <td>0.977783</td>\n",
              "      <td>0.999777</td>\n",
              "    </tr>\n",
              "    <tr>\n",
              "      <th>3</th>\n",
              "      <td>Perdido</td>\n",
              "      <td>Two Not One</td>\n",
              "      <td>0.976435</td>\n",
              "      <td>0.977783</td>\n",
              "      <td>0.998621</td>\n",
              "    </tr>\n",
              "    <tr>\n",
              "      <th>4</th>\n",
              "      <td>Perdido</td>\n",
              "      <td>Scrapple From The Apple</td>\n",
              "      <td>0.973295</td>\n",
              "      <td>0.977783</td>\n",
              "      <td>0.995409</td>\n",
              "    </tr>\n",
              "    <tr>\n",
              "      <th>5</th>\n",
              "      <td>Perdido</td>\n",
              "      <td>Oleo</td>\n",
              "      <td>0.972060</td>\n",
              "      <td>0.977783</td>\n",
              "      <td>0.994147</td>\n",
              "    </tr>\n",
              "    <tr>\n",
              "      <th>6</th>\n",
              "      <td>Perdido</td>\n",
              "      <td>Dexterity</td>\n",
              "      <td>0.970435</td>\n",
              "      <td>0.977783</td>\n",
              "      <td>0.992484</td>\n",
              "    </tr>\n",
              "    <tr>\n",
              "      <th>7</th>\n",
              "      <td>Perdido</td>\n",
              "      <td>Moose The Mooche</td>\n",
              "      <td>0.969845</td>\n",
              "      <td>0.977783</td>\n",
              "      <td>0.991881</td>\n",
              "    </tr>\n",
              "    <tr>\n",
              "      <th>8</th>\n",
              "      <td>Perdido</td>\n",
              "      <td>Salt Peanuts</td>\n",
              "      <td>0.968805</td>\n",
              "      <td>0.977783</td>\n",
              "      <td>0.990818</td>\n",
              "    </tr>\n",
              "    <tr>\n",
              "      <th>9</th>\n",
              "      <td>Perdido</td>\n",
              "      <td>Thriving From A Riff</td>\n",
              "      <td>0.967987</td>\n",
              "      <td>0.977783</td>\n",
              "      <td>0.989981</td>\n",
              "    </tr>\n",
              "    <tr>\n",
              "      <th>10</th>\n",
              "      <td>Perdido</td>\n",
              "      <td>No Moe</td>\n",
              "      <td>0.967065</td>\n",
              "      <td>0.977783</td>\n",
              "      <td>0.989038</td>\n",
              "    </tr>\n",
              "    <tr>\n",
              "      <th>11</th>\n",
              "      <td>Perdido</td>\n",
              "      <td>I Love Being Here With You</td>\n",
              "      <td>0.963796</td>\n",
              "      <td>0.977783</td>\n",
              "      <td>0.985695</td>\n",
              "    </tr>\n",
              "    <tr>\n",
              "      <th>12</th>\n",
              "      <td>Perdido</td>\n",
              "      <td>Little Peace In C For You</td>\n",
              "      <td>0.962268</td>\n",
              "      <td>0.977783</td>\n",
              "      <td>0.984132</td>\n",
              "    </tr>\n",
              "    <tr>\n",
              "      <th>13</th>\n",
              "      <td>Perdido</td>\n",
              "      <td>Cottontail</td>\n",
              "      <td>0.961876</td>\n",
              "      <td>0.977783</td>\n",
              "      <td>0.983731</td>\n",
              "    </tr>\n",
              "    <tr>\n",
              "      <th>14</th>\n",
              "      <td>Perdido</td>\n",
              "      <td>Passport</td>\n",
              "      <td>0.960900</td>\n",
              "      <td>0.977783</td>\n",
              "      <td>0.982733</td>\n",
              "    </tr>\n",
              "    <tr>\n",
              "      <th>15</th>\n",
              "      <td>Perdido</td>\n",
              "      <td>Shaw 'Nuff</td>\n",
              "      <td>0.956310</td>\n",
              "      <td>0.977783</td>\n",
              "      <td>0.978039</td>\n",
              "    </tr>\n",
              "    <tr>\n",
              "      <th>16</th>\n",
              "      <td>Perdido</td>\n",
              "      <td>Rhythm-a-ning</td>\n",
              "      <td>0.944881</td>\n",
              "      <td>0.977783</td>\n",
              "      <td>0.966350</td>\n",
              "    </tr>\n",
              "    <tr>\n",
              "      <th>17</th>\n",
              "      <td>Perdido</td>\n",
              "      <td>Come Back To Me</td>\n",
              "      <td>0.930736</td>\n",
              "      <td>0.963911</td>\n",
              "      <td>0.965583</td>\n",
              "    </tr>\n",
              "    <tr>\n",
              "      <th>18</th>\n",
              "      <td>Perdido</td>\n",
              "      <td>Flintstones</td>\n",
              "      <td>0.943338</td>\n",
              "      <td>0.977783</td>\n",
              "      <td>0.964772</td>\n",
              "    </tr>\n",
              "    <tr>\n",
              "      <th>19</th>\n",
              "      <td>Perdido</td>\n",
              "      <td>C.T.A.</td>\n",
              "      <td>0.940305</td>\n",
              "      <td>0.977783</td>\n",
              "      <td>0.961670</td>\n",
              "    </tr>\n",
              "    <tr>\n",
              "      <th>20</th>\n",
              "      <td>Perdido</td>\n",
              "      <td>Anthropology</td>\n",
              "      <td>0.940279</td>\n",
              "      <td>0.977783</td>\n",
              "      <td>0.961644</td>\n",
              "    </tr>\n",
              "    <tr>\n",
              "      <th>21</th>\n",
              "      <td>Perdido</td>\n",
              "      <td>On A Clear Day</td>\n",
              "      <td>0.884050</td>\n",
              "      <td>0.963911</td>\n",
              "      <td>0.952191</td>\n",
              "    </tr>\n",
              "    <tr>\n",
              "      <th>22</th>\n",
              "      <td>Perdido</td>\n",
              "      <td>When I'm Cleaning Windows</td>\n",
              "      <td>0.928481</td>\n",
              "      <td>0.977783</td>\n",
              "      <td>0.949577</td>\n",
              "    </tr>\n",
              "    <tr>\n",
              "      <th>23</th>\n",
              "      <td>Perdido</td>\n",
              "      <td>All Of You</td>\n",
              "      <td>0.914734</td>\n",
              "      <td>0.963911</td>\n",
              "      <td>0.948982</td>\n",
              "    </tr>\n",
              "    <tr>\n",
              "      <th>24</th>\n",
              "      <td>Perdido</td>\n",
              "      <td>Ain't That A Grand And Glorious Feeling</td>\n",
              "      <td>0.923804</td>\n",
              "      <td>0.977783</td>\n",
              "      <td>0.944794</td>\n",
              "    </tr>\n",
              "    <tr>\n",
              "      <th>25</th>\n",
              "      <td>Perdido</td>\n",
              "      <td>Sunday</td>\n",
              "      <td>0.920241</td>\n",
              "      <td>0.977783</td>\n",
              "      <td>0.941150</td>\n",
              "    </tr>\n",
              "    <tr>\n",
              "      <th>26</th>\n",
              "      <td>Perdido</td>\n",
              "      <td>I Wish I Knew</td>\n",
              "      <td>0.905821</td>\n",
              "      <td>0.963911</td>\n",
              "      <td>0.939735</td>\n",
              "    </tr>\n",
              "    <tr>\n",
              "      <th>27</th>\n",
              "      <td>Perdido</td>\n",
              "      <td>Under A Blanket Of Blue</td>\n",
              "      <td>0.856719</td>\n",
              "      <td>0.963911</td>\n",
              "      <td>0.922753</td>\n",
              "    </tr>\n",
              "    <tr>\n",
              "      <th>28</th>\n",
              "      <td>Perdido</td>\n",
              "      <td>It's Been A Long Long Time</td>\n",
              "      <td>0.847509</td>\n",
              "      <td>0.963911</td>\n",
              "      <td>0.912834</td>\n",
              "    </tr>\n",
              "    <tr>\n",
              "      <th>29</th>\n",
              "      <td>Perdido</td>\n",
              "      <td>You Can Depend On Me</td>\n",
              "      <td>0.836514</td>\n",
              "      <td>0.928438</td>\n",
              "      <td>0.900992</td>\n",
              "    </tr>\n",
              "  </tbody>\n",
              "</table>\n",
              "</div>"
            ],
            "text/plain": [
              "   reference                            similar_title  ...       max  score_div_max\n",
              "0    Perdido                  I Get A Kick Out Of You  ...  0.963911       1.000000\n",
              "1    Perdido                               Theme, The  ...  0.977783       1.000000\n",
              "2    Perdido                             I Got Rhythm  ...  0.977783       0.999777\n",
              "3    Perdido                              Two Not One  ...  0.977783       0.998621\n",
              "4    Perdido                  Scrapple From The Apple  ...  0.977783       0.995409\n",
              "5    Perdido                                     Oleo  ...  0.977783       0.994147\n",
              "6    Perdido                                Dexterity  ...  0.977783       0.992484\n",
              "7    Perdido                         Moose The Mooche  ...  0.977783       0.991881\n",
              "8    Perdido                             Salt Peanuts  ...  0.977783       0.990818\n",
              "9    Perdido                     Thriving From A Riff  ...  0.977783       0.989981\n",
              "10   Perdido                                   No Moe  ...  0.977783       0.989038\n",
              "11   Perdido               I Love Being Here With You  ...  0.977783       0.985695\n",
              "12   Perdido                Little Peace In C For You  ...  0.977783       0.984132\n",
              "13   Perdido                               Cottontail  ...  0.977783       0.983731\n",
              "14   Perdido                                 Passport  ...  0.977783       0.982733\n",
              "15   Perdido                               Shaw 'Nuff  ...  0.977783       0.978039\n",
              "16   Perdido                            Rhythm-a-ning  ...  0.977783       0.966350\n",
              "17   Perdido                          Come Back To Me  ...  0.963911       0.965583\n",
              "18   Perdido                              Flintstones  ...  0.977783       0.964772\n",
              "19   Perdido                                   C.T.A.  ...  0.977783       0.961670\n",
              "20   Perdido                             Anthropology  ...  0.977783       0.961644\n",
              "21   Perdido                           On A Clear Day  ...  0.963911       0.952191\n",
              "22   Perdido                When I'm Cleaning Windows  ...  0.977783       0.949577\n",
              "23   Perdido                               All Of You  ...  0.963911       0.948982\n",
              "24   Perdido  Ain't That A Grand And Glorious Feeling  ...  0.977783       0.944794\n",
              "25   Perdido                                   Sunday  ...  0.977783       0.941150\n",
              "26   Perdido                            I Wish I Knew  ...  0.963911       0.939735\n",
              "27   Perdido                  Under A Blanket Of Blue  ...  0.963911       0.922753\n",
              "28   Perdido               It's Been A Long Long Time  ...  0.963911       0.912834\n",
              "29   Perdido                     You Can Depend On Me  ...  0.928438       0.900992\n",
              "\n",
              "[30 rows x 5 columns]"
            ]
          },
          "metadata": {},
          "execution_count": 445
        }
      ]
    },
    {
      "cell_type": "code",
      "metadata": {
        "id": "hLFaFo62XlMS"
      },
      "source": [
        "columns = [\"Reference\", \"Recommendation\", \"Score\", \"Score_Div_Max\"]\n",
        "table = wandb.Table(columns=columns)\n",
        "\n",
        "for tune in tunes_eval_list:\n",
        "  result, details = recommend_tune(df_sim, tune)\n",
        "\n",
        "  for index, row in result.iterrows():\n",
        "    table.add_data(tune, row['similar_title'], row['score'], row['score_div_max'])\n",
        "\n",
        "wandb.log({\"doc2vec\": table})\n",
        "\n"
      ],
      "execution_count": 446,
      "outputs": []
    },
    {
      "cell_type": "markdown",
      "metadata": {
        "id": "ryEvGZqYDsMb"
      },
      "source": [
        "#### Document Similarity\n"
      ]
    },
    {
      "cell_type": "markdown",
      "metadata": {
        "id": "o-eOM9DiFdAt"
      },
      "source": [
        "The TitleId is tagged with the prefix `title_id`, so that it can be distinguished from the sectionid tags, which are numeric."
      ]
    },
    {
      "cell_type": "code",
      "metadata": {
        "colab": {
          "base_uri": "https://localhost:8080/"
        },
        "id": "KRd6qAdY5Z4g",
        "outputId": "fb9befc2-8de3-4318-fb78-8d77e9803b53"
      },
      "source": [
        "tunes_eval_list"
      ],
      "execution_count": 447,
      "outputs": [
        {
          "output_type": "execute_result",
          "data": {
            "text/plain": [
              "['Sweet Sue, Just You',\n",
              " 'These Foolish Things',\n",
              " 'Blue Moon',\n",
              " 'All Of Me',\n",
              " \"All God's Chillun Got Rhythm\",\n",
              " 'I Got Rhythm',\n",
              " 'Bye Bye Blackbird',\n",
              " 'Old Fashioned Love',\n",
              " 'Dinah',\n",
              " 'Honeysuckle Rose',\n",
              " 'Misty',\n",
              " \"We'll Be Together Again\",\n",
              " 'East Of The Sun',\n",
              " 'Sophisticated Lady',\n",
              " 'Perdido']"
            ]
          },
          "metadata": {},
          "execution_count": 447
        }
      ]
    },
    {
      "cell_type": "code",
      "metadata": {
        "colab": {
          "base_uri": "https://localhost:8080/"
        },
        "id": "sHWTJtJ_HyoJ",
        "outputId": "cccd5b29-c799-46b5-83a9-64871b3babe1"
      },
      "source": [
        "# convert titles to titleid; if multiple tunes with same title, takes the first one. \n",
        "titleid_eval = []\n",
        "for title in tunes_eval_list:\n",
        "  titleid_eval.append(titles.query(f'title == \"{title}\"').reset_index().loc[0,'tune_id'])\n",
        "titleid_eval"
      ],
      "execution_count": 448,
      "outputs": [
        {
          "output_type": "execute_result",
          "data": {
            "text/plain": [
              "[1138, 1170, 159, 60, 57, 505, 206, 1642, 308, 472, 807, 1259, 341, 1082, 951]"
            ]
          },
          "metadata": {},
          "execution_count": 448
        }
      ]
    },
    {
      "cell_type": "code",
      "metadata": {
        "colab": {
          "base_uri": "https://localhost:8080/"
        },
        "id": "XKO9wonAHsch",
        "outputId": "b3207a97-0288-4847-a48a-2184ff6c681b"
      },
      "source": [
        "for titleid in titleid_eval:\n",
        "  print()\n",
        "  print(titleid_to_title[titleid])\n",
        "  sims = model.dv.similar_by_key(f'titleid_{titleid}', topn=30)\n",
        "  for key, value in sims:\n",
        "    if type(key) == str:  # only display document similarities, skip all section similarities\n",
        "      print(f\"{value:.3f} {titleid_to_title[int(key.replace('titleid_', ''))]}\")\n"
      ],
      "execution_count": 449,
      "outputs": [
        {
          "output_type": "stream",
          "name": "stdout",
          "text": [
            "\n",
            "Sweet Sue, Just You\n",
            "0.792 My Secret Love\n",
            "0.787 Sweet Sue\n",
            "\n",
            "These Foolish Things\n",
            "0.656 Heart And Soul\n",
            "0.578 Put On A Happy Face\n",
            "0.564 Rosetta\n",
            "0.562 New Orleans\n",
            "0.557 Breezin' Along With The Breeze\n",
            "0.554 Charleston, The\n",
            "0.553 Wouldn't It Be Loverly\n",
            "0.553 Don't Be That Way\n",
            "0.553 Mountain Greenery\n",
            "\n",
            "Blue Moon\n",
            "0.670 52nd Street Theme\n",
            "\n",
            "All Of Me\n",
            "0.618 I'm Through With Love\n",
            "0.617 Blue (And Broken Hearted)\n",
            "0.613 Into Each Life Some Rain Must Fall\n",
            "0.578 Martha (Maizie)\n",
            "0.573 Petit Fleur\n",
            "0.564 My Baby Just Cares For Me\n",
            "0.554 Everywhere You Go, Sunshine Follows You\n",
            "0.544 Spain\n",
            "\n",
            "All God's Chillun Got Rhythm\n",
            "0.577 Teach Me Tonight\n",
            "0.558 Bossa Antigua\n",
            "0.558 Too Young To Go Steady\n",
            "0.551 Diane\n",
            "0.547 Things We Did Last Summer, The\n",
            "0.546 At Last\n",
            "\n",
            "I Got Rhythm\n",
            "0.932 I Got Rhythm\n",
            "0.632 Cottontail\n",
            "0.608 Webb City\n",
            "0.590 Let's Fall In Love\n",
            "0.589 Lennie-Bird\n",
            "0.578 Forever Sonny\n",
            "\n",
            "Bye Bye Blackbird\n",
            "0.712 It's Been A Long Long Time\n",
            "0.665 Moten Swing\n",
            "0.658 Frenesi\n",
            "\n",
            "Old Fashioned Love\n",
            "0.636 Girl Of My Dreams\n",
            "0.631 Drifting And Dreaming\n",
            "0.628 Sweet As Bear Meat\n",
            "0.576 Bluebells Goodbye\n",
            "\n",
            "Dinah\n",
            "\n",
            "Honeysuckle Rose\n",
            "0.930 Honeysuckle Rose\n",
            "0.721 Are You Lonesome Tonight\n",
            "0.649 'Tain't What You Do (It's The Way That Cha Do It)\n",
            "0.602 Royal Garden Blues\n",
            "0.580 Brownskin Mama\n",
            "\n",
            "Misty\n",
            "0.686 Nearness Of You, The\n",
            "0.670 I Remember You\n",
            "0.626 Easy Living\n",
            "0.609 Again\n",
            "0.607 I Won't Dance\n",
            "0.606 Deed I Do\n",
            "0.551 Make Someone Happy\n",
            "0.544 I've Never Been In Love Before\n",
            "0.542 Soon\n",
            "\n",
            "We'll Be Together Again\n",
            "0.607 Goodbye\n",
            "0.573 Friday The 13th\n",
            "0.546 Daahoud\n",
            "0.546 What Is This Thing Called Love\n",
            "0.542 Goodbye Pork Pie Hat\n",
            "0.540 Pagan Love Song\n",
            "\n",
            "East Of The Sun\n",
            "0.700 Don't Worry 'Bout Me\n",
            "0.658 Four\n",
            "0.624 Gregory Is Here\n",
            "0.613 Eronel\n",
            "0.602 On The Trail\n",
            "0.592 Day By Day\n",
            "0.588 So Nice (Summer Samba)\n",
            "0.582 Out Of Nowhere\n",
            "\n",
            "Sophisticated Lady\n",
            "0.487 Soultrane\n",
            "0.485 Gypsy, The\n",
            "0.476 Moonglow\n",
            "0.456 It Could Happen To You\n",
            "\n",
            "Perdido\n",
            "0.775 I Get A Kick Out Of You\n",
            "0.714 I Cried For You\n"
          ]
        }
      ]
    },
    {
      "cell_type": "code",
      "metadata": {
        "id": "QyS-LqybQBwV",
        "colab": {
          "base_uri": "https://localhost:8080/",
          "height": 125,
          "referenced_widgets": [
            "960bbb2c86164c4b9c1affefc7491bac",
            "f2231bb7a2874dfe8c6defbcef92b006",
            "63cad9c35961454496d0332398be6b99",
            "15f2d46d36b6408585e472f3f8ef238c",
            "0d9079278bd6404db3e4615832cc762b",
            "16f6b64a9c0a40178703377e3de49c06",
            "83a77287a8964697984848bd00399295",
            "cfd3ea17ce53406c9ec3080a5a496981"
          ]
        },
        "outputId": "4ee0e151-92c3-4a5b-bdf5-8a0974fb08ab"
      },
      "source": [
        "wandb.finish()"
      ],
      "execution_count": 450,
      "outputs": [
        {
          "output_type": "display_data",
          "data": {
            "text/html": [
              "<br/>Waiting for W&B process to finish, PID 11801... <strong style=\"color:green\">(success).</strong>"
            ],
            "text/plain": [
              "<IPython.core.display.HTML object>"
            ]
          },
          "metadata": {}
        },
        {
          "output_type": "display_data",
          "data": {
            "application/vnd.jupyter.widget-view+json": {
              "model_id": "960bbb2c86164c4b9c1affefc7491bac",
              "version_minor": 0,
              "version_major": 2
            },
            "text/plain": [
              "VBox(children=(Label(value=' 3.65MB of 3.65MB uploaded (0.00MB deduped)\\r'), FloatProgress(value=1.0, max=1.0)…"
            ]
          },
          "metadata": {}
        },
        {
          "output_type": "display_data",
          "data": {
            "text/html": [
              "<style>\n",
              "    table.wandb td:nth-child(1) { padding: 0 10px; text-align: right }\n",
              "    .wandb-row { display: flex; flex-direction: row; flex-wrap: wrap; width: 100% }\n",
              "    .wandb-col { display: flex; flex-direction: column; flex-basis: 100%; flex: 1; padding: 10px; }\n",
              "    </style>\n",
              "<div class=\"wandb-row\"><div class=\"wandb-col\">\n",
              "</div><div class=\"wandb-col\">\n",
              "</div></div>\n",
              "Synced 5 W&B file(s), 3 media file(s), 7 artifact file(s) and 0 other file(s)\n",
              "<br/>Synced <strong style=\"color:#cdcd00\">zesty-plant-7</strong>: <a href=\"https://wandb.ai/doris/jazztunes/runs/114c0rmk\" target=\"_blank\">https://wandb.ai/doris/jazztunes/runs/114c0rmk</a><br/>\n",
              "Find logs at: <code>./wandb/run-20211120_174234-114c0rmk/logs</code><br/>\n"
            ],
            "text/plain": [
              "<IPython.core.display.HTML object>"
            ]
          },
          "metadata": {}
        }
      ]
    },
    {
      "cell_type": "code",
      "metadata": {
        "id": "U6WrsBcc00ar"
      },
      "source": [
        "\n"
      ],
      "execution_count": 450,
      "outputs": []
    }
  ]
}