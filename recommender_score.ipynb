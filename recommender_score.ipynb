{
  "nbformat": 4,
  "nbformat_minor": 0,
  "metadata": {
    "colab": {
      "name": "recommender_score",
      "provenance": [],
      "toc_visible": true,
      "authorship_tag": "ABX9TyPwsvoXOU4rfTe2EduWFTrZ",
      "include_colab_link": true
    },
    "kernelspec": {
      "name": "python3",
      "display_name": "Python 3"
    },
    "language_info": {
      "name": "python"
    },
    "accelerator": "TPU"
  },
  "cells": [
    {
      "cell_type": "markdown",
      "metadata": {
        "id": "view-in-github",
        "colab_type": "text"
      },
      "source": [
        "<a href=\"https://colab.research.google.com/github/11doris/jazz-maestro/blob/colab_word_embeddings/recommender_score.ipynb\" target=\"_parent\"><img src=\"https://colab.research.google.com/assets/colab-badge.svg\" alt=\"Open In Colab\"/></a>"
      ]
    },
    {
      "cell_type": "markdown",
      "metadata": {
        "id": "YGhakKpa8Dtf"
      },
      "source": [
        "# Sections as Input"
      ]
    },
    {
      "cell_type": "code",
      "metadata": {
        "colab": {
          "base_uri": "https://localhost:8080/"
        },
        "id": "dm5QehpXxo31",
        "outputId": "79f7b5af-4fbf-4e5a-cc28-c9566c691ffd"
      },
      "source": [
        "pip install wandb"
      ],
      "execution_count": 123,
      "outputs": [
        {
          "output_type": "stream",
          "name": "stdout",
          "text": [
            "Requirement already satisfied: wandb in /usr/local/lib/python3.7/dist-packages (0.12.7)\n",
            "Requirement already satisfied: requests<3,>=2.0.0 in /usr/local/lib/python3.7/dist-packages (from wandb) (2.23.0)\n",
            "Requirement already satisfied: shortuuid>=0.5.0 in /usr/local/lib/python3.7/dist-packages (from wandb) (1.0.8)\n",
            "Requirement already satisfied: docker-pycreds>=0.4.0 in /usr/local/lib/python3.7/dist-packages (from wandb) (0.4.0)\n",
            "Requirement already satisfied: sentry-sdk>=1.0.0 in /usr/local/lib/python3.7/dist-packages (from wandb) (1.5.0)\n",
            "Requirement already satisfied: subprocess32>=3.5.3 in /usr/local/lib/python3.7/dist-packages (from wandb) (3.5.4)\n",
            "Requirement already satisfied: psutil>=5.0.0 in /usr/local/lib/python3.7/dist-packages (from wandb) (5.4.8)\n",
            "Requirement already satisfied: configparser>=3.8.1 in /usr/local/lib/python3.7/dist-packages (from wandb) (5.1.0)\n",
            "Requirement already satisfied: python-dateutil>=2.6.1 in /usr/local/lib/python3.7/dist-packages (from wandb) (2.8.2)\n",
            "Requirement already satisfied: promise<3,>=2.0 in /usr/local/lib/python3.7/dist-packages (from wandb) (2.3)\n",
            "Requirement already satisfied: pathtools in /usr/local/lib/python3.7/dist-packages (from wandb) (0.1.2)\n",
            "Requirement already satisfied: yaspin>=1.0.0 in /usr/local/lib/python3.7/dist-packages (from wandb) (2.1.0)\n",
            "Requirement already satisfied: protobuf>=3.12.0 in /usr/local/lib/python3.7/dist-packages (from wandb) (3.17.3)\n",
            "Requirement already satisfied: PyYAML in /usr/local/lib/python3.7/dist-packages (from wandb) (3.13)\n",
            "Requirement already satisfied: GitPython>=1.0.0 in /usr/local/lib/python3.7/dist-packages (from wandb) (3.1.24)\n",
            "Requirement already satisfied: Click!=8.0.0,>=7.0 in /usr/local/lib/python3.7/dist-packages (from wandb) (7.1.2)\n",
            "Requirement already satisfied: six>=1.13.0 in /usr/local/lib/python3.7/dist-packages (from wandb) (1.15.0)\n",
            "Requirement already satisfied: gitdb<5,>=4.0.1 in /usr/local/lib/python3.7/dist-packages (from GitPython>=1.0.0->wandb) (4.0.9)\n",
            "Requirement already satisfied: typing-extensions>=3.7.4.3 in /usr/local/lib/python3.7/dist-packages (from GitPython>=1.0.0->wandb) (3.10.0.2)\n",
            "Requirement already satisfied: smmap<6,>=3.0.1 in /usr/local/lib/python3.7/dist-packages (from gitdb<5,>=4.0.1->GitPython>=1.0.0->wandb) (5.0.0)\n",
            "Requirement already satisfied: certifi>=2017.4.17 in /usr/local/lib/python3.7/dist-packages (from requests<3,>=2.0.0->wandb) (2021.10.8)\n",
            "Requirement already satisfied: idna<3,>=2.5 in /usr/local/lib/python3.7/dist-packages (from requests<3,>=2.0.0->wandb) (2.10)\n",
            "Requirement already satisfied: urllib3!=1.25.0,!=1.25.1,<1.26,>=1.21.1 in /usr/local/lib/python3.7/dist-packages (from requests<3,>=2.0.0->wandb) (1.24.3)\n",
            "Requirement already satisfied: chardet<4,>=3.0.2 in /usr/local/lib/python3.7/dist-packages (from requests<3,>=2.0.0->wandb) (3.0.4)\n",
            "Requirement already satisfied: termcolor<2.0.0,>=1.1.0 in /usr/local/lib/python3.7/dist-packages (from yaspin>=1.0.0->wandb) (1.1.0)\n"
          ]
        }
      ]
    },
    {
      "cell_type": "code",
      "metadata": {
        "colab": {
          "base_uri": "https://localhost:8080/"
        },
        "id": "HZG8BDT-xrv3",
        "outputId": "7b77918e-d8b6-4c2b-dcea-072d17e29cb4"
      },
      "source": [
        "!wandb login"
      ],
      "execution_count": 124,
      "outputs": [
        {
          "output_type": "stream",
          "name": "stdout",
          "text": [
            "\u001b[34m\u001b[1mwandb\u001b[0m: Currently logged in as: \u001b[33mdoris\u001b[0m (use `wandb login --relogin` to force relogin)\n"
          ]
        }
      ]
    },
    {
      "cell_type": "code",
      "metadata": {
        "id": "WHZBzAXjxz1J"
      },
      "source": [
        "import wandb"
      ],
      "execution_count": 125,
      "outputs": []
    },
    {
      "cell_type": "code",
      "metadata": {
        "colab": {
          "base_uri": "https://localhost:8080/"
        },
        "id": "MUy1ta4_782n",
        "outputId": "f3589fb6-9a19-488c-d668-fe8b232ac716"
      },
      "source": [
        "!pip uninstall gensim -y"
      ],
      "execution_count": 126,
      "outputs": [
        {
          "output_type": "stream",
          "name": "stdout",
          "text": [
            "Found existing installation: gensim 4.1.2\n",
            "Uninstalling gensim-4.1.2:\n",
            "  Successfully uninstalled gensim-4.1.2\n"
          ]
        }
      ]
    },
    {
      "cell_type": "code",
      "metadata": {
        "colab": {
          "base_uri": "https://localhost:8080/",
          "height": 237
        },
        "id": "oAroxmvO8GQj",
        "outputId": "ea761591-45f4-4860-c6eb-2919e2d13199"
      },
      "source": [
        "!pip install gensim"
      ],
      "execution_count": 127,
      "outputs": [
        {
          "output_type": "stream",
          "name": "stdout",
          "text": [
            "Collecting gensim\n",
            "  Using cached gensim-4.1.2-cp37-cp37m-manylinux_2_12_x86_64.manylinux2010_x86_64.whl (24.1 MB)\n",
            "Requirement already satisfied: scipy>=0.18.1 in /usr/local/lib/python3.7/dist-packages (from gensim) (1.4.1)\n",
            "Requirement already satisfied: smart-open>=1.8.1 in /usr/local/lib/python3.7/dist-packages (from gensim) (5.2.1)\n",
            "Requirement already satisfied: numpy>=1.17.0 in /usr/local/lib/python3.7/dist-packages (from gensim) (1.19.5)\n",
            "Installing collected packages: gensim\n",
            "Successfully installed gensim-4.1.2\n"
          ]
        },
        {
          "output_type": "display_data",
          "data": {
            "application/vnd.colab-display-data+json": {
              "pip_warning": {
                "packages": [
                  "gensim"
                ]
              }
            }
          },
          "metadata": {}
        }
      ]
    },
    {
      "cell_type": "code",
      "metadata": {
        "id": "6SZ0zrKX8H-D"
      },
      "source": [
        "import gensim\n",
        "from sklearn.manifold import TSNE\n",
        "import matplotlib.pyplot as plt\n",
        "import pprint\n",
        "import pandas as pd\n",
        "import numpy as np\n",
        "from collections import Counter\n",
        "import plotly.express as px\n",
        "from tqdm import tqdm \n",
        "from gensim.models.doc2vec import Doc2Vec\n",
        "from gensim.models.tfidfmodel import TfidfModel\n",
        "from gensim.models.lsimodel import LsiModel\n",
        "from gensim.models import CoherenceModel\n",
        "from gensim import corpora\n",
        "from gensim import similarities\n",
        "import pickle\n",
        "import os"
      ],
      "execution_count": 128,
      "outputs": []
    },
    {
      "cell_type": "code",
      "metadata": {
        "id": "znWar-PK8KHT"
      },
      "source": [
        "import logging\n",
        "logging.basicConfig(format='%(asctime)s : %(levelname)s : %(message)s', level=logging.INFO)"
      ],
      "execution_count": 129,
      "outputs": []
    },
    {
      "cell_type": "code",
      "metadata": {
        "colab": {
          "base_uri": "https://localhost:8080/"
        },
        "id": "kjCf_Abf8MCc",
        "outputId": "bf7f3b63-4d0b-46ff-ea4d-ebbbea3f8e82"
      },
      "source": [
        "print(gensim.__version__)"
      ],
      "execution_count": 130,
      "outputs": [
        {
          "output_type": "stream",
          "name": "stdout",
          "text": [
            "4.1.2\n"
          ]
        }
      ]
    },
    {
      "cell_type": "code",
      "metadata": {
        "id": "_aEonlx-CT6r"
      },
      "source": [
        "!rm data.csv"
      ],
      "execution_count": 131,
      "outputs": []
    },
    {
      "cell_type": "markdown",
      "metadata": {
        "id": "Nk5pPZqk0Pn7"
      },
      "source": [
        "# Configuration\n"
      ]
    },
    {
      "cell_type": "code",
      "metadata": {
        "id": "wcZ18xhgU7MZ"
      },
      "source": [
        "use_wandb = False"
      ],
      "execution_count": 132,
      "outputs": []
    },
    {
      "cell_type": "code",
      "metadata": {
        "id": "GfQbJQmexlxI"
      },
      "source": [
        "chords_repeated = 'rep' \n",
        "chords_preprocessing = 'rootAndDegreesSimplified'"
      ],
      "execution_count": 133,
      "outputs": []
    },
    {
      "cell_type": "code",
      "metadata": {
        "id": "buoyWNl0F48Y"
      },
      "source": [
        "ngrams_for_input = [2]"
      ],
      "execution_count": 134,
      "outputs": []
    },
    {
      "cell_type": "code",
      "metadata": {
        "id": "K7qB2_sBvKpB"
      },
      "source": [
        "input_files = {\n",
        "    'sections': {\n",
        "        'rep': {\n",
        "            # M7 and 6 reduced to major triad, m7 reduced to m, dominant 7, m7b5, diminished, and all (b5) left as they are.\n",
        "            'rootAndDegreesPlus': '17djlZRWFSUCviOxRTOF-nwbbZqU5gUP9',\n",
        "            'rootAndDegrees7': '1lQTBMYk7Ui_mbOopUTjOs4MV_4c1a8bO',\n",
        "            'rootAndDegreesSimplified': '1lVm6r0T3i1hbyZqPJXNKf90uh14MOKkb'\n",
        "        },\n",
        "    },\n",
        "    'tunes': {\n",
        "        'rep': {\n",
        "            'rootAndDegreesPlus': '',\n",
        "            'rootAndDegrees7': '',\n",
        "            'rootAndDegreesSimplified': '',\n",
        "        },\n",
        "        'norep': {\n",
        "            'rootAndDegreesPlus': '',\n",
        "            'rootAndDegrees7': '',\n",
        "            'rootAndDegreesSimplified': '',\n",
        "        }\n",
        "    }\n",
        "}"
      ],
      "execution_count": 135,
      "outputs": []
    },
    {
      "cell_type": "code",
      "metadata": {
        "colab": {
          "base_uri": "https://localhost:8080/"
        },
        "id": "lM6eaQwnyWD3",
        "outputId": "d2fd2a66-10e5-44d7-eddc-72a5d765361e"
      },
      "source": [
        "tunes_eval_list = [\n",
        "  \"Sweet Sue, Just You\",\n",
        "  \"These Foolish Things\", \n",
        "  \"Blue Moon\",\n",
        "  \"All Of Me\",\n",
        "  \"All God's Chillun Got Rhythm\",\n",
        "  \"I Got Rhythm\",\n",
        "  \"Bye Bye Blackbird\",\n",
        "  \"Old Fashioned Love\",\n",
        "  \"Dinah\",\n",
        "  \"Honeysuckle Rose\",\n",
        "  \"Misty\",\n",
        "  \"We'll Be Together Again\",\n",
        "  \"East Of The Sun\",\n",
        "  \"Sophisticated Lady\",\n",
        "  \"Perdido\",\n",
        "  \"Naima\",\n",
        "  \"Call Me Irresponsible\",\n",
        "  \"Corcovado\",\n",
        "  \"Footprints\",\n",
        "  \"Giant Steps\",\n",
        "  \"But Beautiful\",\n",
        "  \"Rockin' Chair\",\n",
        "  \"Blood Count\",\n",
        "  \"After You've Gone\",\n",
        "]\n",
        "\n",
        "tunes_eval_list = sorted(tunes_eval_list)\n",
        "tunes_eval_list"
      ],
      "execution_count": 136,
      "outputs": [
        {
          "output_type": "execute_result",
          "data": {
            "text/plain": [
              "[\"After You've Gone\",\n",
              " \"All God's Chillun Got Rhythm\",\n",
              " 'All Of Me',\n",
              " 'Blood Count',\n",
              " 'Blue Moon',\n",
              " 'But Beautiful',\n",
              " 'Bye Bye Blackbird',\n",
              " 'Call Me Irresponsible',\n",
              " 'Corcovado',\n",
              " 'Dinah',\n",
              " 'East Of The Sun',\n",
              " 'Footprints',\n",
              " 'Giant Steps',\n",
              " 'Honeysuckle Rose',\n",
              " 'I Got Rhythm',\n",
              " 'Misty',\n",
              " 'Naima',\n",
              " 'Old Fashioned Love',\n",
              " 'Perdido',\n",
              " \"Rockin' Chair\",\n",
              " 'Sophisticated Lady',\n",
              " 'Sweet Sue, Just You',\n",
              " 'These Foolish Things',\n",
              " \"We'll Be Together Again\"]"
            ]
          },
          "metadata": {},
          "execution_count": 136
        }
      ]
    },
    {
      "cell_type": "code",
      "metadata": {
        "id": "uiI0h4ef0PCD"
      },
      "source": [
        "contrafacts = {\n",
        "               \"26-2\": \"Confirmation\",\n",
        "               \"52nd Street Theme\": \"I Got Rhythm\",\n",
        "               \"Ablution\": \"All The Things You Are\",\n",
        "               \"Anthropology\": \"I Got Rhythm\",\n",
        "               \"Ballade\": \"As Long As I Live\",\n",
        "               \"Bright Mississippi\": \"Sweet Georgia Brown\",\n",
        "               \"C.T.A.\": \"I Got Rhythm\",\n",
        "               \"Celia\": \"I Got Rhythm\",\n",
        "               \"Cottontail\": \"I Got Rhythm\",\n",
        "               \"Countdown\": \"Tune Up\",\n",
        "               \"Dewey Square\": \"Oh, Lady Be Good\",\n",
        "               \"Dexterity\": \"I Got Rhythm\",\n",
        "               \"Dig\": \"Sweet Georgia Brown\",\n",
        "               \"Donna Lee\": \"Indiana (Back Home Again In)\",\n",
        "               \"Don't Be That Way\": \"I Got Rhythm\",\n",
        "               \"Eternal Triangle\": \"I Got Rhythm\",\n",
        "               \"Evidence\": \"Just You, Just Me\",\n",
        "               \"Flintstones\": \"I Got Rhythm\",\n",
        "               \"Four On Six\": \"Summertime\",\n",
        "               \"Freight Train\": \"Blues For Alice\",\n",
        "               \"Good Bait\": \"I Got Rhythm\",\n",
        "               \"Hackensack\": \"Oh, Lady Be Good\",\n",
        "               \"Half Nelson\": \"Lady Bird\",\n",
        "               \"Hot House\": \"What Is This Thing Called Love\",\n",
        "               \"Impressions\": \"So What\",\n",
        "               \"In A Mellow Tone (In A Mellotone)\": \"Rose Room\",\n",
        "               \"In Walked Bud\": \"Blue Skies\",\n",
        "               \"Ko Ko\": \"Cherokee\",\n",
        "               \"Lennie's Pennies\": \"Pennies From Heaven\",   ## Lennie's Pennies is in minor and therefore transposed to Amin... not possible to recognize like that\n",
        "               # \"Let's Call This\": \"Honeysuckle Rose\",\n",
        "               \"Little Rootie Tootie\": \"I Got Rhythm\",\n",
        "               \"Little Willie Leaps\": \"All God's Chillun Got Rhythm\",\n",
        "               \"Lullaby Of Birdland\": \"Love Me Or Leave Me\",\n",
        "               \"Moose The Mooche\": \"I Got Rhythm\",\n",
        "               \"My Little Suede Shoes\": \"Jeepers Creepers\",\n",
        "               \"Oleo\": \"I Got Rhythm\",\n",
        "               \"Ornithology\": \"How High The Moon\",\n",
        "               \"Passport\": \"I Got Rhythm\",\n",
        "               \"Quasimodo (Theme)\": \"Embraceable You\",\n",
        "               \"Rhythm-a-ning\": \"I Got Rhythm\",\n",
        "               \"Room 608\": \"I Got Rhythm\",\n",
        "               \"Salt Peanuts\": \"I Got Rhythm\",\n",
        "               \"Satellite\": \"How High The Moon\",\n",
        "               \"Scrapple From The Apple\": \"Honeysuckle Rose\", # A section\n",
        "               \"Scrapple From The Apple\": \"I Got Rhythm\", # B section\n",
        "               #\"Segment\": \"I Got Rhythm\",\n",
        "               \"Seven Come Eleven\": \"I Got Rhythm\",\n",
        "               \"Shaw 'Nuff\": \"I Got Rhythm\",\n",
        "               \"Theme, The\": \"I Got Rhythm\",\n",
        "               \"Tour De Force\": \"Jeepers Creepers\",\n",
        "               \"Wow\": \"You Can Depend On Me\",\n",
        "               \"Yardbird Suite\": \"Rosetta\",\n",
        "\n",
        "               # following tunes are not from wikipedia:\n",
        "               \"Sweet Sue, Just You\": \"Honeysuckle Rose\",  # A section\n",
        "               # \"All Of Me\": \"Pennies From Heaven\", # bars 25-28 of All of Me are same as bars 17-20 of Pennies From Heaven, but different key!\n",
        "               \"Sweet Sue, Just You\": \"Bye Bye Blackbird\", # Bridge same\n",
        "               \"These Foolish Things\": \"Blue Moon\", # first 8 bars same\n",
        "               \"Misty\": \"Portrait Of Jennie\",\n",
        "               \"Misty\": \"September In The Rain\",\n",
        "               \"Misty\": \"I May Be Wrong\",\n",
        "               \n",
        "               \n",
        "}"
      ],
      "execution_count": 137,
      "outputs": []
    },
    {
      "cell_type": "markdown",
      "metadata": {
        "id": "gcexO7zK8Pn6"
      },
      "source": [
        "# Initialization\n",
        "\n",
        "## Download the Data"
      ]
    },
    {
      "cell_type": "code",
      "metadata": {
        "id": "JwVJo3Vat8iF"
      },
      "source": [
        "input_data = input_files['sections'][chords_repeated][chords_preprocessing]\n",
        "\n",
        "input_path = f\"https://docs.google.com/uc?export=download&id={input_data}\"\n",
        "data_file_name = 'data.csv'\n"
      ],
      "execution_count": 138,
      "outputs": []
    },
    {
      "cell_type": "code",
      "metadata": {
        "colab": {
          "base_uri": "https://localhost:8080/",
          "height": 36
        },
        "id": "_Dp-fijjB-pU",
        "outputId": "de7e4747-083a-4e7d-cce6-f23d98eb7597"
      },
      "source": [
        "input_path"
      ],
      "execution_count": 139,
      "outputs": [
        {
          "output_type": "execute_result",
          "data": {
            "application/vnd.google.colaboratory.intrinsic+json": {
              "type": "string"
            },
            "text/plain": [
              "'https://docs.google.com/uc?export=download&id=1lVm6r0T3i1hbyZqPJXNKf90uh14MOKkb'"
            ]
          },
          "metadata": {},
          "execution_count": 139
        }
      ]
    },
    {
      "cell_type": "code",
      "metadata": {
        "colab": {
          "base_uri": "https://localhost:8080/"
        },
        "id": "1ZVAYUH5t9Li",
        "outputId": "8ed02781-21c9-467a-d3d9-64992fae4a7c"
      },
      "source": [
        "!wget --no-check-certificate \"$input_path\" -O \"$data_file_name\""
      ],
      "execution_count": 140,
      "outputs": [
        {
          "output_type": "stream",
          "name": "stdout",
          "text": [
            "--2021-11-23 19:48:50--  https://docs.google.com/uc?export=download&id=1lVm6r0T3i1hbyZqPJXNKf90uh14MOKkb\n",
            "Resolving docs.google.com (docs.google.com)... 74.125.202.113, 74.125.202.102, 74.125.202.138, ...\n",
            "Connecting to docs.google.com (docs.google.com)|74.125.202.113|:443... connected.\n",
            "HTTP request sent, awaiting response... 302 Moved Temporarily\n",
            "Location: https://doc-0c-4c-docs.googleusercontent.com/docs/securesc/ha0ro937gcuc7l7deffksulhg5h7mbp1/vqe58rhliqk3gdur1fdakh3o7ke0d16p/1637696925000/14329102864480165501/*/1lVm6r0T3i1hbyZqPJXNKf90uh14MOKkb?e=download [following]\n",
            "Warning: wildcards not supported in HTTP.\n",
            "--2021-11-23 19:48:50--  https://doc-0c-4c-docs.googleusercontent.com/docs/securesc/ha0ro937gcuc7l7deffksulhg5h7mbp1/vqe58rhliqk3gdur1fdakh3o7ke0d16p/1637696925000/14329102864480165501/*/1lVm6r0T3i1hbyZqPJXNKf90uh14MOKkb?e=download\n",
            "Resolving doc-0c-4c-docs.googleusercontent.com (doc-0c-4c-docs.googleusercontent.com)... 142.250.128.132, 2607:f8b0:4001:c32::84\n",
            "Connecting to doc-0c-4c-docs.googleusercontent.com (doc-0c-4c-docs.googleusercontent.com)|142.250.128.132|:443... connected.\n",
            "HTTP request sent, awaiting response... 200 OK\n",
            "Length: 705775 (689K) [text/csv]\n",
            "Saving to: ‘data.csv’\n",
            "\n",
            "data.csv            100%[===================>] 689.23K  --.-KB/s    in 0.007s  \n",
            "\n",
            "2021-11-23 19:48:50 (89.9 MB/s) - ‘data.csv’ saved [705775/705775]\n",
            "\n"
          ]
        }
      ]
    },
    {
      "cell_type": "markdown",
      "metadata": {
        "id": "Ljs21B7h8YvC"
      },
      "source": [
        "### Read Chords Input Data"
      ]
    },
    {
      "cell_type": "code",
      "metadata": {
        "colab": {
          "base_uri": "https://localhost:8080/",
          "height": 293
        },
        "id": "B7kK418L8aac",
        "outputId": "5ec85747-6aca-46b7-92ed-c3d5f8acbe41"
      },
      "source": [
        "df = pd.read_csv(data_file_name, sep='\\t', index_col=\"id\")\n",
        "df = df.reset_index()\n",
        "df.head(5)"
      ],
      "execution_count": 141,
      "outputs": [
        {
          "output_type": "execute_result",
          "data": {
            "text/html": [
              "<div>\n",
              "<style scoped>\n",
              "    .dataframe tbody tr th:only-of-type {\n",
              "        vertical-align: middle;\n",
              "    }\n",
              "\n",
              "    .dataframe tbody tr th {\n",
              "        vertical-align: top;\n",
              "    }\n",
              "\n",
              "    .dataframe thead th {\n",
              "        text-align: right;\n",
              "    }\n",
              "</style>\n",
              "<table border=\"1\" class=\"dataframe\">\n",
              "  <thead>\n",
              "    <tr style=\"text-align: right;\">\n",
              "      <th></th>\n",
              "      <th>id</th>\n",
              "      <th>file_name</th>\n",
              "      <th>title</th>\n",
              "      <th>tune_mode</th>\n",
              "      <th>tune_id</th>\n",
              "      <th>section_name</th>\n",
              "      <th>section_id</th>\n",
              "      <th>chords</th>\n",
              "    </tr>\n",
              "  </thead>\n",
              "  <tbody>\n",
              "    <tr>\n",
              "      <th>0</th>\n",
              "      <td>0</td>\n",
              "      <td>dataset/jazz1350/26-2.xml</td>\n",
              "      <td>26-2</td>\n",
              "      <td>major</td>\n",
              "      <td>0</td>\n",
              "      <td>A</td>\n",
              "      <td>1</td>\n",
              "      <td>CM7 Eb7 G#M7 B7 EM7 G7 Gm7 C7 FM7 G#7 C#M7 E7 ...</td>\n",
              "    </tr>\n",
              "    <tr>\n",
              "      <th>1</th>\n",
              "      <td>1</td>\n",
              "      <td>dataset/jazz1350/26-2.xml</td>\n",
              "      <td>26-2</td>\n",
              "      <td>major</td>\n",
              "      <td>0</td>\n",
              "      <td>A</td>\n",
              "      <td>2</td>\n",
              "      <td>CM7 Eb7 G#M7 B7 EM7 G7 Gm7 C7 FM7 Eb7 G#M7 B7 ...</td>\n",
              "    </tr>\n",
              "    <tr>\n",
              "      <th>2</th>\n",
              "      <td>2</td>\n",
              "      <td>dataset/jazz1350/26-2.xml</td>\n",
              "      <td>26-2</td>\n",
              "      <td>major</td>\n",
              "      <td>0</td>\n",
              "      <td>B</td>\n",
              "      <td>3</td>\n",
              "      <td>Gm7 C7 Bm7 E7 AM7 C7 FM7 Bbm7 Eb7 G#M7 Dm7 G7</td>\n",
              "    </tr>\n",
              "    <tr>\n",
              "      <th>3</th>\n",
              "      <td>3</td>\n",
              "      <td>dataset/jazz1350/26-2.xml</td>\n",
              "      <td>26-2</td>\n",
              "      <td>major</td>\n",
              "      <td>0</td>\n",
              "      <td>A</td>\n",
              "      <td>4</td>\n",
              "      <td>CM7 Eb7 G#M7 B7 EM7 G7 Gm7 C7 FM7 Eb7 G#M7 B7 ...</td>\n",
              "    </tr>\n",
              "    <tr>\n",
              "      <th>4</th>\n",
              "      <td>4</td>\n",
              "      <td>dataset/jazz1350/500 Miles High.xml</td>\n",
              "      <td>500 Miles High</td>\n",
              "      <td>minor</td>\n",
              "      <td>1</td>\n",
              "      <td>NaN</td>\n",
              "      <td>0</td>\n",
              "      <td>Am7 Am7 Cm7 Cm7 EbM7 EbM7 Em7b5 A7 Dm7 Dm7 Bm7...</td>\n",
              "    </tr>\n",
              "  </tbody>\n",
              "</table>\n",
              "</div>"
            ],
            "text/plain": [
              "   id  ...                                             chords\n",
              "0   0  ...  CM7 Eb7 G#M7 B7 EM7 G7 Gm7 C7 FM7 G#7 C#M7 E7 ...\n",
              "1   1  ...  CM7 Eb7 G#M7 B7 EM7 G7 Gm7 C7 FM7 Eb7 G#M7 B7 ...\n",
              "2   2  ...      Gm7 C7 Bm7 E7 AM7 C7 FM7 Bbm7 Eb7 G#M7 Dm7 G7\n",
              "3   3  ...  CM7 Eb7 G#M7 B7 EM7 G7 Gm7 C7 FM7 Eb7 G#M7 B7 ...\n",
              "4   4  ...  Am7 Am7 Cm7 Cm7 EbM7 EbM7 Em7b5 A7 Dm7 Dm7 Bm7...\n",
              "\n",
              "[5 rows x 8 columns]"
            ]
          },
          "metadata": {},
          "execution_count": 141
        }
      ]
    },
    {
      "cell_type": "markdown",
      "metadata": {
        "id": "OsPcEFbg8gu6"
      },
      "source": [
        "### Meta Data"
      ]
    },
    {
      "cell_type": "code",
      "metadata": {
        "colab": {
          "base_uri": "https://localhost:8080/",
          "height": 206
        },
        "id": "_62YlEVJXOCL",
        "outputId": "d454930d-b3a0-4c58-8374-f6f7304bc911"
      },
      "source": [
        "titles = df.loc[:, ['id', 'tune_id', 'section_id', 'section_name', 'title', 'tune_mode']]\n",
        "titles[:5]"
      ],
      "execution_count": 142,
      "outputs": [
        {
          "output_type": "execute_result",
          "data": {
            "text/html": [
              "<div>\n",
              "<style scoped>\n",
              "    .dataframe tbody tr th:only-of-type {\n",
              "        vertical-align: middle;\n",
              "    }\n",
              "\n",
              "    .dataframe tbody tr th {\n",
              "        vertical-align: top;\n",
              "    }\n",
              "\n",
              "    .dataframe thead th {\n",
              "        text-align: right;\n",
              "    }\n",
              "</style>\n",
              "<table border=\"1\" class=\"dataframe\">\n",
              "  <thead>\n",
              "    <tr style=\"text-align: right;\">\n",
              "      <th></th>\n",
              "      <th>id</th>\n",
              "      <th>tune_id</th>\n",
              "      <th>section_id</th>\n",
              "      <th>section_name</th>\n",
              "      <th>title</th>\n",
              "      <th>tune_mode</th>\n",
              "    </tr>\n",
              "  </thead>\n",
              "  <tbody>\n",
              "    <tr>\n",
              "      <th>0</th>\n",
              "      <td>0</td>\n",
              "      <td>0</td>\n",
              "      <td>1</td>\n",
              "      <td>A</td>\n",
              "      <td>26-2</td>\n",
              "      <td>major</td>\n",
              "    </tr>\n",
              "    <tr>\n",
              "      <th>1</th>\n",
              "      <td>1</td>\n",
              "      <td>0</td>\n",
              "      <td>2</td>\n",
              "      <td>A</td>\n",
              "      <td>26-2</td>\n",
              "      <td>major</td>\n",
              "    </tr>\n",
              "    <tr>\n",
              "      <th>2</th>\n",
              "      <td>2</td>\n",
              "      <td>0</td>\n",
              "      <td>3</td>\n",
              "      <td>B</td>\n",
              "      <td>26-2</td>\n",
              "      <td>major</td>\n",
              "    </tr>\n",
              "    <tr>\n",
              "      <th>3</th>\n",
              "      <td>3</td>\n",
              "      <td>0</td>\n",
              "      <td>4</td>\n",
              "      <td>A</td>\n",
              "      <td>26-2</td>\n",
              "      <td>major</td>\n",
              "    </tr>\n",
              "    <tr>\n",
              "      <th>4</th>\n",
              "      <td>4</td>\n",
              "      <td>1</td>\n",
              "      <td>0</td>\n",
              "      <td>NaN</td>\n",
              "      <td>500 Miles High</td>\n",
              "      <td>minor</td>\n",
              "    </tr>\n",
              "  </tbody>\n",
              "</table>\n",
              "</div>"
            ],
            "text/plain": [
              "   id  tune_id  section_id section_name           title tune_mode\n",
              "0   0        0           1            A            26-2     major\n",
              "1   1        0           2            A            26-2     major\n",
              "2   2        0           3            B            26-2     major\n",
              "3   3        0           4            A            26-2     major\n",
              "4   4        1           0          NaN  500 Miles High     minor"
            ]
          },
          "metadata": {},
          "execution_count": 142
        }
      ]
    },
    {
      "cell_type": "code",
      "metadata": {
        "id": "0vEOjvwt8jUu"
      },
      "source": [
        "titles_dict = titles.to_dict()\n",
        "\n",
        "sectionid_to_title = titles_dict['title']\n",
        "sectionid_to_titleid = titles_dict['tune_id']\n"
      ],
      "execution_count": 143,
      "outputs": []
    },
    {
      "cell_type": "code",
      "metadata": {
        "id": "Om7pbfnNGO_I"
      },
      "source": [
        "tunes = df.loc[:, ['tune_id', 'title']].drop_duplicates()\n",
        "tunes = tunes.set_index('tune_id').to_dict()\n",
        "titleid_to_title = tunes['title']"
      ],
      "execution_count": 144,
      "outputs": []
    },
    {
      "cell_type": "code",
      "metadata": {
        "id": "1H72Y3_d8uNu"
      },
      "source": [
        "titles_rows = titles.to_dict(orient='records')\n",
        "sectionid_to_section = []\n",
        "for i, row in enumerate(titles_rows):\n",
        "  name = f\"{row['title']}, section{row['section_id']} ({row['section_name']})\"\n",
        "  sectionid_to_section.append(name)\n",
        "  "
      ],
      "execution_count": 145,
      "outputs": []
    },
    {
      "cell_type": "code",
      "metadata": {
        "id": "HCeGUk818y8V"
      },
      "source": [
        "title_to_sectionid = {}\n",
        "\n",
        "for row in titles.iterrows():\n",
        "  title = row[1]['title']\n",
        "  if title not in title_to_sectionid:\n",
        "    title_to_sectionid[title] = [row[1]['id']]\n",
        "  else:\n",
        "    title_to_sectionid[title].append(row[1]['id'])"
      ],
      "execution_count": 146,
      "outputs": []
    },
    {
      "cell_type": "markdown",
      "metadata": {
        "id": "tHWe1mKVrF8O"
      },
      "source": [
        "### Test Data"
      ]
    },
    {
      "cell_type": "code",
      "metadata": {
        "id": "V0Bg0wJ7sBBk"
      },
      "source": [
        "tunes_eval_list = sorted(tunes_eval_list)"
      ],
      "execution_count": 147,
      "outputs": []
    },
    {
      "cell_type": "code",
      "metadata": {
        "id": "UE0AGDO_rFVo"
      },
      "source": [
        "contrafacts_test = []\n",
        "for reference, compare in contrafacts.items():\n",
        "  contrafacts_test.append([title_to_sectionid[reference], title_to_sectionid[compare]])"
      ],
      "execution_count": 148,
      "outputs": []
    },
    {
      "cell_type": "markdown",
      "metadata": {
        "id": "LvQ60s_owm82"
      },
      "source": [
        "## Initialization for wandb variables"
      ]
    },
    {
      "cell_type": "code",
      "metadata": {
        "id": "fw7FHHXfwagL"
      },
      "source": [
        "recommender_results_cols = ['reference', 'id', 'method', 'similar', 'score_div_max', 'score']\n",
        "recommender_results = pd.DataFrame(columns=recommender_results_cols)"
      ],
      "execution_count": 149,
      "outputs": []
    },
    {
      "cell_type": "code",
      "metadata": {
        "id": "PfvF20G1JZMa"
      },
      "source": [
        "lsi_config = {\n",
        "    'num_topics': 200,\n",
        "}"
      ],
      "execution_count": 150,
      "outputs": []
    },
    {
      "cell_type": "code",
      "metadata": {
        "id": "eW2f6BdAJl01"
      },
      "source": [
        "doc2vec_config = {\n",
        "    'general': {\n",
        "        'chords_preprocessing': chords_preprocessing,\n",
        "        'chords_repeated': chords_repeated,\n",
        "        'document_tags': 'SectionsTunes',\n",
        "    },\n",
        "    'model': {\n",
        "        'dm': 1,\n",
        "        'vector_size': 100,\n",
        "        'window': 4,\n",
        "        'epochs': 40,\n",
        "        #'workers': 1,\n",
        "        'min_count': 1,\n",
        "        'negative': 10,\n",
        "        'sample': 0.001,\n",
        "        'seed': 42\n",
        "    }\n",
        "}"
      ],
      "execution_count": 151,
      "outputs": []
    },
    {
      "cell_type": "code",
      "metadata": {
        "id": "sxdJ97gdx70_"
      },
      "source": [
        "if use_wandb:\n",
        "  wandb.init(\n",
        "        # Set entity to specify your username or team name\n",
        "        # ex: entity=\"carey\",\n",
        "        # Set the project where this run will be logged\n",
        "        project=\"jazztunes\", \n",
        "        \n",
        "        # Track hyperparameters and run metadata\n",
        "        config={\n",
        "            \"input_data\": \"https://docs.google.com/uc?export=download&id=17djlZRWFSUCviOxRTOF-nwbbZqU5gUP9\",\n",
        "            \"ngrams_input\": ngrams_for_input,\n",
        "            \"comparison\": \"sections\",\n",
        "            \"lsi\": lsi_config,\n",
        "            \"doc2vec\": doc2vec_config\n",
        "        }\n",
        "    )"
      ],
      "execution_count": 152,
      "outputs": []
    },
    {
      "cell_type": "code",
      "metadata": {
        "id": "xHOY4TKYVN-g"
      },
      "source": [
        "if use_wandb:\n",
        "  artifact = wandb.Artifact('input_data', type='dataset')\n",
        "  artifact.add_file('data.csv')\n",
        "  wandb.log_artifact(artifact)"
      ],
      "execution_count": 153,
      "outputs": []
    },
    {
      "cell_type": "markdown",
      "metadata": {
        "id": "wox-dMcz84Bt"
      },
      "source": [
        "## Helpers functions"
      ]
    },
    {
      "cell_type": "code",
      "metadata": {
        "id": "2964REdr80Gd"
      },
      "source": [
        "def ngrams(tokens, n=2, sep='-'):\n",
        "    return [sep.join(ngram) for ngram in zip(*[tokens[i:] for i in range(n)])]"
      ],
      "execution_count": 154,
      "outputs": []
    },
    {
      "cell_type": "code",
      "metadata": {
        "id": "W42rugQPNYVP"
      },
      "source": [
        "def raw_chords_to_df(tunes):\n",
        "  tunes_chords = [item for tune in tunes for item in tune]\n",
        "  counts = Counter(tunes_chords)\n",
        "  df = pd.DataFrame(counts.items(),\n",
        "                    columns=['chord', 'count']).sort_values(by='count', ascending=False)\n",
        "\n",
        "  return df"
      ],
      "execution_count": 155,
      "outputs": []
    },
    {
      "cell_type": "markdown",
      "metadata": {
        "id": "umfsNtAdF0jM"
      },
      "source": [
        "# Data Preparation"
      ]
    },
    {
      "cell_type": "code",
      "metadata": {
        "id": "dCLwnqoVGcMw"
      },
      "source": [
        "lines = df.loc[:, 'chords'].tolist()\n",
        "data = [line.split(' ') for line in lines]"
      ],
      "execution_count": 156,
      "outputs": []
    },
    {
      "cell_type": "code",
      "metadata": {
        "colab": {
          "base_uri": "https://localhost:8080/"
        },
        "id": "g7SmApW9F3K6",
        "outputId": "348806d0-030b-4646-f7ed-0cd806413221"
      },
      "source": [
        "processed_corpus = []\n",
        "for line in data:\n",
        "  tune_n = []\n",
        "  for n in ngrams_for_input:\n",
        "    tune_n.extend(ngrams(line, n=n))\n",
        "  processed_corpus.append(tune_n)\n",
        "\n",
        "for line in processed_corpus[:5]:\n",
        "  print(line)"
      ],
      "execution_count": 157,
      "outputs": [
        {
          "output_type": "stream",
          "name": "stdout",
          "text": [
            "['CM7-Eb7', 'Eb7-G#M7', 'G#M7-B7', 'B7-EM7', 'EM7-G7', 'G7-Gm7', 'Gm7-C7', 'C7-FM7', 'FM7-G#7', 'G#7-C#M7', 'C#M7-E7', 'E7-Am7', 'Am7-D7', 'D7-Dm7', 'Dm7-G7']\n",
            "['CM7-Eb7', 'Eb7-G#M7', 'G#M7-B7', 'B7-EM7', 'EM7-G7', 'G7-Gm7', 'Gm7-C7', 'C7-FM7', 'FM7-Eb7', 'Eb7-G#M7', 'G#M7-B7', 'B7-EM7', 'EM7-G7', 'G7-CM7']\n",
            "['Gm7-C7', 'C7-Bm7', 'Bm7-E7', 'E7-AM7', 'AM7-C7', 'C7-FM7', 'FM7-Bbm7', 'Bbm7-Eb7', 'Eb7-G#M7', 'G#M7-Dm7', 'Dm7-G7']\n",
            "['CM7-Eb7', 'Eb7-G#M7', 'G#M7-B7', 'B7-EM7', 'EM7-G7', 'G7-Gm7', 'Gm7-C7', 'C7-FM7', 'FM7-Eb7', 'Eb7-G#M7', 'G#M7-B7', 'B7-EM7', 'EM7-G7', 'G7-CM7']\n",
            "['Am7-Am7', 'Am7-Cm7', 'Cm7-Cm7', 'Cm7-EbM7', 'EbM7-EbM7', 'EbM7-Em7b5', 'Em7b5-A7', 'A7-Dm7', 'Dm7-Dm7', 'Dm7-Bm7b5', 'Bm7b5-Bm7b5', 'Bm7b5-Bbm7', 'Bbm7-Bbm7', 'Bbm7-Fm7', 'Fm7-Fm7', 'Fm7-E7', 'E7-E7', 'E7-Fm7', 'Fm7-Fm7', 'Fm7-C#M7', 'C#M7-C#M7', 'C#M7-Fm7', 'Fm7-Fm7', 'Fm7-C#M7', 'C#M7-C#M7']\n"
          ]
        }
      ]
    },
    {
      "cell_type": "markdown",
      "metadata": {
        "id": "Sri0K2DhNagp"
      },
      "source": [
        "#### Corpus Overview"
      ]
    },
    {
      "cell_type": "code",
      "metadata": {
        "colab": {
          "base_uri": "https://localhost:8080/"
        },
        "id": "X2ZqA7IF4ufg",
        "outputId": "0ee5e3b2-e132-46b6-82e2-b5d7db64d94c"
      },
      "source": [
        "tokens = [item for l in processed_corpus for item in l]\n",
        "total_tokens = len(tokens)\n",
        "vocab_size = len(set(tokens))\n",
        "vocab_prop = 100*vocab_size/total_tokens\n",
        "\n",
        "print(f\"Total Number of tokens: {total_tokens}\")\n",
        "print(f\"Size of vocabulary: {vocab_size}\")\n",
        "print(f\"Proportion of vocabulary in corpus: {vocab_prop:.02f}%\")"
      ],
      "execution_count": 158,
      "outputs": [
        {
          "output_type": "stream",
          "name": "stdout",
          "text": [
            "Total Number of tokens: 77231\n",
            "Size of vocabulary: 3750\n",
            "Proportion of vocabulary in corpus: 4.86%\n"
          ]
        }
      ]
    },
    {
      "cell_type": "code",
      "metadata": {
        "colab": {
          "base_uri": "https://localhost:8080/",
          "height": 424
        },
        "id": "rULq3jYVNh_x",
        "outputId": "dcbf300c-b7d4-4d24-d1df-a0fa519a6421"
      },
      "source": [
        "df_chords = raw_chords_to_df(processed_corpus)\n",
        "df_chords"
      ],
      "execution_count": 159,
      "outputs": [
        {
          "output_type": "execute_result",
          "data": {
            "text/html": [
              "<div>\n",
              "<style scoped>\n",
              "    .dataframe tbody tr th:only-of-type {\n",
              "        vertical-align: middle;\n",
              "    }\n",
              "\n",
              "    .dataframe tbody tr th {\n",
              "        vertical-align: top;\n",
              "    }\n",
              "\n",
              "    .dataframe thead th {\n",
              "        text-align: right;\n",
              "    }\n",
              "</style>\n",
              "<table border=\"1\" class=\"dataframe\">\n",
              "  <thead>\n",
              "    <tr style=\"text-align: right;\">\n",
              "      <th></th>\n",
              "      <th>chord</th>\n",
              "      <th>count</th>\n",
              "    </tr>\n",
              "  </thead>\n",
              "  <tbody>\n",
              "    <tr>\n",
              "      <th>14</th>\n",
              "      <td>Dm7-G7</td>\n",
              "      <td>5136</td>\n",
              "    </tr>\n",
              "    <tr>\n",
              "      <th>61</th>\n",
              "      <td>G7-C</td>\n",
              "      <td>2024</td>\n",
              "    </tr>\n",
              "    <tr>\n",
              "      <th>465</th>\n",
              "      <td>C-C</td>\n",
              "      <td>1916</td>\n",
              "    </tr>\n",
              "    <tr>\n",
              "      <th>31</th>\n",
              "      <td>A7-Dm7</td>\n",
              "      <td>1823</td>\n",
              "    </tr>\n",
              "    <tr>\n",
              "      <th>16</th>\n",
              "      <td>G7-CM7</td>\n",
              "      <td>1760</td>\n",
              "    </tr>\n",
              "    <tr>\n",
              "      <th>...</th>\n",
              "      <td>...</td>\n",
              "      <td>...</td>\n",
              "    </tr>\n",
              "    <tr>\n",
              "      <th>2500</th>\n",
              "      <td>G#M7-Cm7</td>\n",
              "      <td>1</td>\n",
              "    </tr>\n",
              "    <tr>\n",
              "      <th>2498</th>\n",
              "      <td>AM7-Ebdim7</td>\n",
              "      <td>1</td>\n",
              "    </tr>\n",
              "    <tr>\n",
              "      <th>2496</th>\n",
              "      <td>Gm7-D</td>\n",
              "      <td>1</td>\n",
              "    </tr>\n",
              "    <tr>\n",
              "      <th>2491</th>\n",
              "      <td>Edim7-G7</td>\n",
              "      <td>1</td>\n",
              "    </tr>\n",
              "    <tr>\n",
              "      <th>3749</th>\n",
              "      <td>Em7-Cdim</td>\n",
              "      <td>1</td>\n",
              "    </tr>\n",
              "  </tbody>\n",
              "</table>\n",
              "<p>3750 rows × 2 columns</p>\n",
              "</div>"
            ],
            "text/plain": [
              "           chord  count\n",
              "14        Dm7-G7   5136\n",
              "61          G7-C   2024\n",
              "465          C-C   1916\n",
              "31        A7-Dm7   1823\n",
              "16        G7-CM7   1760\n",
              "...          ...    ...\n",
              "2500    G#M7-Cm7      1\n",
              "2498  AM7-Ebdim7      1\n",
              "2496       Gm7-D      1\n",
              "2491    Edim7-G7      1\n",
              "3749    Em7-Cdim      1\n",
              "\n",
              "[3750 rows x 2 columns]"
            ]
          },
          "metadata": {},
          "execution_count": 159
        }
      ]
    },
    {
      "cell_type": "code",
      "metadata": {
        "colab": {
          "base_uri": "https://localhost:8080/",
          "height": 542
        },
        "id": "G9fknTouNmKm",
        "outputId": "34a72bbe-13af-4c28-9a18-ab8af4ec7be6"
      },
      "source": [
        "df_chords = pd.DataFrame.from_dict(df_chords)\n",
        "df_chords.sort_values(by=['count'], ascending=False, inplace=True)\n",
        "df_chords_top = df_chords.query('count > 100')\n",
        "\n",
        "fig = px.bar(df_chords_top, x='chord', y='count', log_y=True)\n",
        "fig.update_layout(barmode='stack', xaxis={'categoryorder':'total descending'})\n",
        "fig.show()"
      ],
      "execution_count": 160,
      "outputs": [
        {
          "output_type": "display_data",
          "data": {
            "text/html": [
              "<html>\n",
              "<head><meta charset=\"utf-8\" /></head>\n",
              "<body>\n",
              "    <div>\n",
              "            <script src=\"https://cdnjs.cloudflare.com/ajax/libs/mathjax/2.7.5/MathJax.js?config=TeX-AMS-MML_SVG\"></script><script type=\"text/javascript\">if (window.MathJax) {MathJax.Hub.Config({SVG: {font: \"STIX-Web\"}});}</script>\n",
              "                <script type=\"text/javascript\">window.PlotlyConfig = {MathJaxConfig: 'local'};</script>\n",
              "        <script src=\"https://cdn.plot.ly/plotly-latest.min.js\"></script>    \n",
              "            <div id=\"dc306294-e509-442d-b7cd-a94a0bf487a4\" class=\"plotly-graph-div\" style=\"height:525px; width:100%;\"></div>\n",
              "            <script type=\"text/javascript\">\n",
              "                \n",
              "                    window.PLOTLYENV=window.PLOTLYENV || {};\n",
              "                    \n",
              "                if (document.getElementById(\"dc306294-e509-442d-b7cd-a94a0bf487a4\")) {\n",
              "                    Plotly.newPlot(\n",
              "                        'dc306294-e509-442d-b7cd-a94a0bf487a4',\n",
              "                        [{\"alignmentgroup\": \"True\", \"hoverlabel\": {\"namelength\": 0}, \"hovertemplate\": \"chord=%{x}<br>count=%{y}\", \"legendgroup\": \"\", \"marker\": {\"color\": \"#636efa\"}, \"name\": \"\", \"offsetgroup\": \"\", \"orientation\": \"v\", \"showlegend\": false, \"textposition\": \"auto\", \"type\": \"bar\", \"x\": [\"Dm7-G7\", \"G7-C\", \"C-C\", \"A7-Dm7\", \"G7-CM7\", \"D7-G7\", \"G7-G7\", \"G7-C6\", \"Em7-A7\", \"A7-D7\", \"Am7-D7\", \"Gm7-C7\", \"E7-Am7\", \"CM7-CM7\", \"Bm7b5-E7\", \"Am7-Dm7\", \"D7-D7\", \"C-G7\", \"C7-FM7\", \"D7-Dm7\", \"Am7-Am7\", \"C7-C7\", \"C7-F\", \"E7-Am\", \"C6-C6\", \"Em7b5-A7\", \"G7-Dm7\", \"C-C7\", \"A7-A7\", \"C-A7\", \"Fm7-Bb7\", \"G7-Em7\", \"Am-Am\", \"CM7-Dm7\", \"F-C\", \"Dm7-Dm7\", \"E7-A7\", \"CM7-Am7\", \"E7-E7\", \"C-F\", \"F-F\", \"G#7-G7\", \"CM7-A7\", \"G7-C7\", \"F#m7b5-B7\", \"C6-Dm7\", \"Ebdim7-Dm7\", \"Fm-C\", \"C7-F7\", \"Bb7-A7\", \"F#m7-B7\", \"Em7-Am7\", \"CM7-F7\", \"FM7-FM7\", \"B7-Em7\", \"F7-F7\", \"F7-E7\", \"FM7-Bb7\", \"C6-Am7\", \"C-E7\", \"Dm7b5-G7\", \"F-Fm\", \"A7-Dm\", \"G-C\", \"Dm7-Em7\", \"F7-Em7\", \"Bm7-E7\", \"CM7-G7\", \"C#dim7-Dm7\", \"Bb7-Em7\", \"B7-E7\", \"C-D7\", \"Bb7-CM7\", \"Ebm7-G#7\", \"CM7-C7\", \"CM7-Gm7\", \"C6-G7\", \"C6-A7\", \"Cm7-F7\", \"CM7-FM7\", \"Em7-Ebdim7\", \"C7-F6\", \"G#7-Dm7\", \"Am-E7\", \"G7-Gm7\", \"Bbm7-Eb7\", \"Eb7-G#M7\", \"Am7-F#m7b5\", \"FM7-Em7\", \"Dm-Dm\", \"CM7-C#dim7\", \"CM7-Em7\", \"C-G\", \"CM7-Bm7b5\", \"C-Am\", \"Am-D7\", \"C-Dm7\", \"CM7-E7\", \"Bb7-EbM7\", \"B7-Bb7\", \"Am7-Bm7b5\", \"Dm7-A7\", \"C6-C7\", \"F-F#dim\", \"FM7-Fm7\", \"B7-EM7\", \"F#dim-C\", \"Bb7-Am7\", \"D7-Am7\", \"C-Ebdim\", \"B7-B7\", \"Am7-E7\", \"F7-C7\", \"Ebdim-Dm7\", \"C6-F7\", \"CM7-C6\", \"C-Am7\"], \"xaxis\": \"x\", \"y\": [5136, 2024, 1916, 1823, 1760, 1516, 1471, 1321, 1231, 1030, 889, 862, 861, 836, 813, 781, 776, 696, 634, 615, 610, 604, 523, 488, 479, 438, 437, 433, 428, 420, 413, 413, 412, 396, 395, 384, 381, 369, 357, 353, 352, 327, 320, 316, 311, 306, 304, 276, 271, 268, 266, 265, 260, 258, 248, 244, 241, 233, 229, 226, 224, 222, 222, 219, 215, 214, 214, 213, 212, 203, 202, 201, 197, 197, 195, 191, 189, 178, 173, 171, 162, 157, 156, 151, 151, 150, 145, 145, 144, 144, 143, 139, 137, 133, 131, 130, 129, 129, 122, 121, 121, 120, 117, 114, 113, 112, 112, 111, 110, 110, 106, 104, 104, 104, 103, 103, 102], \"yaxis\": \"y\"}],\n",
              "                        {\"barmode\": \"stack\", \"legend\": {\"tracegroupgap\": 0}, \"margin\": {\"t\": 60}, \"template\": {\"data\": {\"bar\": [{\"error_x\": {\"color\": \"#2a3f5f\"}, \"error_y\": {\"color\": \"#2a3f5f\"}, \"marker\": {\"line\": {\"color\": \"#E5ECF6\", \"width\": 0.5}}, \"type\": \"bar\"}], \"barpolar\": [{\"marker\": {\"line\": {\"color\": \"#E5ECF6\", \"width\": 0.5}}, \"type\": \"barpolar\"}], \"carpet\": [{\"aaxis\": {\"endlinecolor\": \"#2a3f5f\", \"gridcolor\": \"white\", \"linecolor\": \"white\", \"minorgridcolor\": \"white\", \"startlinecolor\": \"#2a3f5f\"}, \"baxis\": {\"endlinecolor\": \"#2a3f5f\", \"gridcolor\": \"white\", \"linecolor\": \"white\", \"minorgridcolor\": \"white\", \"startlinecolor\": \"#2a3f5f\"}, \"type\": \"carpet\"}], \"choropleth\": [{\"colorbar\": {\"outlinewidth\": 0, \"ticks\": \"\"}, \"type\": \"choropleth\"}], \"contour\": [{\"colorbar\": {\"outlinewidth\": 0, \"ticks\": \"\"}, \"colorscale\": [[0.0, \"#0d0887\"], [0.1111111111111111, \"#46039f\"], [0.2222222222222222, \"#7201a8\"], [0.3333333333333333, \"#9c179e\"], [0.4444444444444444, \"#bd3786\"], [0.5555555555555556, \"#d8576b\"], [0.6666666666666666, \"#ed7953\"], [0.7777777777777778, \"#fb9f3a\"], [0.8888888888888888, \"#fdca26\"], [1.0, \"#f0f921\"]], \"type\": \"contour\"}], \"contourcarpet\": [{\"colorbar\": {\"outlinewidth\": 0, \"ticks\": \"\"}, \"type\": \"contourcarpet\"}], \"heatmap\": [{\"colorbar\": {\"outlinewidth\": 0, \"ticks\": \"\"}, \"colorscale\": [[0.0, \"#0d0887\"], [0.1111111111111111, \"#46039f\"], [0.2222222222222222, \"#7201a8\"], [0.3333333333333333, \"#9c179e\"], [0.4444444444444444, \"#bd3786\"], [0.5555555555555556, \"#d8576b\"], [0.6666666666666666, \"#ed7953\"], [0.7777777777777778, \"#fb9f3a\"], [0.8888888888888888, \"#fdca26\"], [1.0, \"#f0f921\"]], \"type\": \"heatmap\"}], \"heatmapgl\": [{\"colorbar\": {\"outlinewidth\": 0, \"ticks\": \"\"}, \"colorscale\": [[0.0, \"#0d0887\"], [0.1111111111111111, \"#46039f\"], [0.2222222222222222, \"#7201a8\"], [0.3333333333333333, \"#9c179e\"], [0.4444444444444444, \"#bd3786\"], [0.5555555555555556, \"#d8576b\"], [0.6666666666666666, \"#ed7953\"], [0.7777777777777778, \"#fb9f3a\"], [0.8888888888888888, \"#fdca26\"], [1.0, \"#f0f921\"]], \"type\": \"heatmapgl\"}], \"histogram\": [{\"marker\": {\"colorbar\": {\"outlinewidth\": 0, \"ticks\": \"\"}}, \"type\": \"histogram\"}], \"histogram2d\": [{\"colorbar\": {\"outlinewidth\": 0, \"ticks\": \"\"}, \"colorscale\": [[0.0, \"#0d0887\"], [0.1111111111111111, \"#46039f\"], [0.2222222222222222, \"#7201a8\"], [0.3333333333333333, \"#9c179e\"], [0.4444444444444444, \"#bd3786\"], [0.5555555555555556, \"#d8576b\"], [0.6666666666666666, \"#ed7953\"], [0.7777777777777778, \"#fb9f3a\"], [0.8888888888888888, \"#fdca26\"], [1.0, \"#f0f921\"]], \"type\": \"histogram2d\"}], \"histogram2dcontour\": [{\"colorbar\": {\"outlinewidth\": 0, \"ticks\": \"\"}, \"colorscale\": [[0.0, \"#0d0887\"], [0.1111111111111111, \"#46039f\"], [0.2222222222222222, \"#7201a8\"], [0.3333333333333333, \"#9c179e\"], [0.4444444444444444, \"#bd3786\"], [0.5555555555555556, \"#d8576b\"], [0.6666666666666666, \"#ed7953\"], [0.7777777777777778, \"#fb9f3a\"], [0.8888888888888888, \"#fdca26\"], [1.0, \"#f0f921\"]], \"type\": \"histogram2dcontour\"}], \"mesh3d\": [{\"colorbar\": {\"outlinewidth\": 0, \"ticks\": \"\"}, \"type\": \"mesh3d\"}], \"parcoords\": [{\"line\": {\"colorbar\": {\"outlinewidth\": 0, \"ticks\": \"\"}}, \"type\": \"parcoords\"}], \"pie\": [{\"automargin\": true, \"type\": \"pie\"}], \"scatter\": [{\"marker\": {\"colorbar\": {\"outlinewidth\": 0, \"ticks\": \"\"}}, \"type\": \"scatter\"}], \"scatter3d\": [{\"line\": {\"colorbar\": {\"outlinewidth\": 0, \"ticks\": \"\"}}, \"marker\": {\"colorbar\": {\"outlinewidth\": 0, \"ticks\": \"\"}}, \"type\": \"scatter3d\"}], \"scattercarpet\": [{\"marker\": {\"colorbar\": {\"outlinewidth\": 0, \"ticks\": \"\"}}, \"type\": \"scattercarpet\"}], \"scattergeo\": [{\"marker\": {\"colorbar\": {\"outlinewidth\": 0, \"ticks\": \"\"}}, \"type\": \"scattergeo\"}], \"scattergl\": [{\"marker\": {\"colorbar\": {\"outlinewidth\": 0, \"ticks\": \"\"}}, \"type\": \"scattergl\"}], \"scattermapbox\": [{\"marker\": {\"colorbar\": {\"outlinewidth\": 0, \"ticks\": \"\"}}, \"type\": \"scattermapbox\"}], \"scatterpolar\": [{\"marker\": {\"colorbar\": {\"outlinewidth\": 0, \"ticks\": \"\"}}, \"type\": \"scatterpolar\"}], \"scatterpolargl\": [{\"marker\": {\"colorbar\": {\"outlinewidth\": 0, \"ticks\": \"\"}}, \"type\": \"scatterpolargl\"}], \"scatterternary\": [{\"marker\": {\"colorbar\": {\"outlinewidth\": 0, \"ticks\": \"\"}}, \"type\": \"scatterternary\"}], \"surface\": [{\"colorbar\": {\"outlinewidth\": 0, \"ticks\": \"\"}, \"colorscale\": [[0.0, \"#0d0887\"], [0.1111111111111111, \"#46039f\"], [0.2222222222222222, \"#7201a8\"], [0.3333333333333333, \"#9c179e\"], [0.4444444444444444, \"#bd3786\"], [0.5555555555555556, \"#d8576b\"], [0.6666666666666666, \"#ed7953\"], [0.7777777777777778, \"#fb9f3a\"], [0.8888888888888888, \"#fdca26\"], [1.0, \"#f0f921\"]], \"type\": \"surface\"}], \"table\": [{\"cells\": {\"fill\": {\"color\": \"#EBF0F8\"}, \"line\": {\"color\": \"white\"}}, \"header\": {\"fill\": {\"color\": \"#C8D4E3\"}, \"line\": {\"color\": \"white\"}}, \"type\": \"table\"}]}, \"layout\": {\"annotationdefaults\": {\"arrowcolor\": \"#2a3f5f\", \"arrowhead\": 0, \"arrowwidth\": 1}, \"coloraxis\": {\"colorbar\": {\"outlinewidth\": 0, \"ticks\": \"\"}}, \"colorscale\": {\"diverging\": [[0, \"#8e0152\"], [0.1, \"#c51b7d\"], [0.2, \"#de77ae\"], [0.3, \"#f1b6da\"], [0.4, \"#fde0ef\"], [0.5, \"#f7f7f7\"], [0.6, \"#e6f5d0\"], [0.7, \"#b8e186\"], [0.8, \"#7fbc41\"], [0.9, \"#4d9221\"], [1, \"#276419\"]], \"sequential\": [[0.0, \"#0d0887\"], [0.1111111111111111, \"#46039f\"], [0.2222222222222222, \"#7201a8\"], [0.3333333333333333, \"#9c179e\"], [0.4444444444444444, \"#bd3786\"], [0.5555555555555556, \"#d8576b\"], [0.6666666666666666, \"#ed7953\"], [0.7777777777777778, \"#fb9f3a\"], [0.8888888888888888, \"#fdca26\"], [1.0, \"#f0f921\"]], \"sequentialminus\": [[0.0, \"#0d0887\"], [0.1111111111111111, \"#46039f\"], [0.2222222222222222, \"#7201a8\"], [0.3333333333333333, \"#9c179e\"], [0.4444444444444444, \"#bd3786\"], [0.5555555555555556, \"#d8576b\"], [0.6666666666666666, \"#ed7953\"], [0.7777777777777778, \"#fb9f3a\"], [0.8888888888888888, \"#fdca26\"], [1.0, \"#f0f921\"]]}, \"colorway\": [\"#636efa\", \"#EF553B\", \"#00cc96\", \"#ab63fa\", \"#FFA15A\", \"#19d3f3\", \"#FF6692\", \"#B6E880\", \"#FF97FF\", \"#FECB52\"], \"font\": {\"color\": \"#2a3f5f\"}, \"geo\": {\"bgcolor\": \"white\", \"lakecolor\": \"white\", \"landcolor\": \"#E5ECF6\", \"showlakes\": true, \"showland\": true, \"subunitcolor\": \"white\"}, \"hoverlabel\": {\"align\": \"left\"}, \"hovermode\": \"closest\", \"mapbox\": {\"style\": \"light\"}, \"paper_bgcolor\": \"white\", \"plot_bgcolor\": \"#E5ECF6\", \"polar\": {\"angularaxis\": {\"gridcolor\": \"white\", \"linecolor\": \"white\", \"ticks\": \"\"}, \"bgcolor\": \"#E5ECF6\", \"radialaxis\": {\"gridcolor\": \"white\", \"linecolor\": \"white\", \"ticks\": \"\"}}, \"scene\": {\"xaxis\": {\"backgroundcolor\": \"#E5ECF6\", \"gridcolor\": \"white\", \"gridwidth\": 2, \"linecolor\": \"white\", \"showbackground\": true, \"ticks\": \"\", \"zerolinecolor\": \"white\"}, \"yaxis\": {\"backgroundcolor\": \"#E5ECF6\", \"gridcolor\": \"white\", \"gridwidth\": 2, \"linecolor\": \"white\", \"showbackground\": true, \"ticks\": \"\", \"zerolinecolor\": \"white\"}, \"zaxis\": {\"backgroundcolor\": \"#E5ECF6\", \"gridcolor\": \"white\", \"gridwidth\": 2, \"linecolor\": \"white\", \"showbackground\": true, \"ticks\": \"\", \"zerolinecolor\": \"white\"}}, \"shapedefaults\": {\"line\": {\"color\": \"#2a3f5f\"}}, \"ternary\": {\"aaxis\": {\"gridcolor\": \"white\", \"linecolor\": \"white\", \"ticks\": \"\"}, \"baxis\": {\"gridcolor\": \"white\", \"linecolor\": \"white\", \"ticks\": \"\"}, \"bgcolor\": \"#E5ECF6\", \"caxis\": {\"gridcolor\": \"white\", \"linecolor\": \"white\", \"ticks\": \"\"}}, \"title\": {\"x\": 0.05}, \"xaxis\": {\"automargin\": true, \"gridcolor\": \"white\", \"linecolor\": \"white\", \"ticks\": \"\", \"title\": {\"standoff\": 15}, \"zerolinecolor\": \"white\", \"zerolinewidth\": 2}, \"yaxis\": {\"automargin\": true, \"gridcolor\": \"white\", \"linecolor\": \"white\", \"ticks\": \"\", \"title\": {\"standoff\": 15}, \"zerolinecolor\": \"white\", \"zerolinewidth\": 2}}}, \"xaxis\": {\"anchor\": \"y\", \"categoryorder\": \"total descending\", \"domain\": [0.0, 1.0], \"title\": {\"text\": \"chord\"}}, \"yaxis\": {\"anchor\": \"x\", \"domain\": [0.0, 1.0], \"title\": {\"text\": \"count\"}, \"type\": \"log\"}},\n",
              "                        {\"responsive\": true}\n",
              "                    ).then(function(){\n",
              "                            \n",
              "var gd = document.getElementById('dc306294-e509-442d-b7cd-a94a0bf487a4');\n",
              "var x = new MutationObserver(function (mutations, observer) {{\n",
              "        var display = window.getComputedStyle(gd).display;\n",
              "        if (!display || display === 'none') {{\n",
              "            console.log([gd, 'removed!']);\n",
              "            Plotly.purge(gd);\n",
              "            observer.disconnect();\n",
              "        }}\n",
              "}});\n",
              "\n",
              "// Listen for the removal of the full notebook cells\n",
              "var notebookContainer = gd.closest('#notebook-container');\n",
              "if (notebookContainer) {{\n",
              "    x.observe(notebookContainer, {childList: true});\n",
              "}}\n",
              "\n",
              "// Listen for the clearing of the current output cell\n",
              "var outputEl = gd.closest('.output');\n",
              "if (outputEl) {{\n",
              "    x.observe(outputEl, {childList: true});\n",
              "}}\n",
              "\n",
              "                        })\n",
              "                };\n",
              "                \n",
              "            </script>\n",
              "        </div>\n",
              "</body>\n",
              "</html>"
            ]
          },
          "metadata": {}
        }
      ]
    },
    {
      "cell_type": "markdown",
      "metadata": {
        "id": "cG5dtDpkWwLE"
      },
      "source": [
        "Plot Distribution accoring to Zipf's Law\n",
        "\n",
        "source: https://stats.stackexchange.com/questions/331219/characterizing-fitting-word-count-data-into-zipf-power-law-lognormal"
      ]
    },
    {
      "cell_type": "code",
      "metadata": {
        "id": "tazf9QRST5NP"
      },
      "source": [
        "from collections import Counter\n",
        "\n",
        "counter_of_words = df_chords.set_index('chord').to_dict(orient='dict')\n",
        "counter_of_words = Counter(counter_of_words['count'])\n",
        "counter_of_counts = Counter(counter_of_words.values())\n",
        "\n",
        "word_counts = np.array(list(counter_of_counts.keys()))\n",
        "freq_of_word_counts = np.array(list(counter_of_counts.values()))"
      ],
      "execution_count": 161,
      "outputs": []
    },
    {
      "cell_type": "code",
      "metadata": {
        "colab": {
          "base_uri": "https://localhost:8080/",
          "height": 295
        },
        "id": "Jc80DSe7QlkV",
        "outputId": "a7100d70-d391-42eb-fce9-b4758606f704"
      },
      "source": [
        "plt.scatter(np.log(word_counts), np.log(freq_of_word_counts))\n",
        "plt.xlabel('Log of word frequency')\n",
        "plt.ylabel('Log of number of such words')\n",
        "plt.title('Power law for word frequencies')\n",
        "\n",
        "plt.savefig('plot.png')"
      ],
      "execution_count": 162,
      "outputs": [
        {
          "output_type": "display_data",
          "data": {
            "image/png": "[encoded data removed]",
            "text/plain": [
              "<Figure size 432x288 with 1 Axes>"
            ]
          },
          "metadata": {
            "needs_background": "light"
          }
        }
      ]
    },
    {
      "cell_type": "code",
      "metadata": {
        "colab": {
          "base_uri": "https://localhost:8080/"
        },
        "id": "TRQxnw3XXfit",
        "outputId": "d7ad8323-8869-4d19-8f05-cb578216dde3"
      },
      "source": [
        "def neg_zipf_likelihood(s):\n",
        "    n = sum(freq_of_word_counts)\n",
        "    # for each word count, find the probability that a random word has such word count\n",
        "    probas = word_counts ** (-s) / np.sum(np.arange(1, n+1) **(-s))\n",
        "    log_likelihood = sum(np.log(probas) * word_counts)\n",
        "    return -log_likelihood\n",
        "\n",
        "from scipy.optimize import minimize_scalar\n",
        "s_best = minimize_scalar(neg_zipf_likelihood, [0.1, 3.0] )\n",
        "print(s_best.x)"
      ],
      "execution_count": 163,
      "outputs": [
        {
          "output_type": "stream",
          "name": "stdout",
          "text": [
            "0.471675518523981\n"
          ]
        }
      ]
    },
    {
      "cell_type": "code",
      "metadata": {
        "id": "a1IvM4wh7zOv"
      },
      "source": [
        "if use_wandb:\n",
        "  wandb.log(\n",
        "      {\"corpus\": {\n",
        "              \"total_tokens\": total_tokens,\n",
        "              \"vocab_size\": vocab_size,\n",
        "              \"vocab_proportion_in_corpus\": vocab_prop,\n",
        "              \"zipf_plot\": wandb.Image('plot.png'),\n",
        "              }\n",
        "      }\n",
        "  )"
      ],
      "execution_count": 164,
      "outputs": []
    },
    {
      "cell_type": "markdown",
      "metadata": {
        "id": "LeRGFeTn89Uc"
      },
      "source": [
        "# TF-IDF"
      ]
    },
    {
      "cell_type": "code",
      "metadata": {
        "colab": {
          "base_uri": "https://localhost:8080/"
        },
        "id": "pBdUdBNr9Gmu",
        "outputId": "d3ca0075-b016-40b7-8483-63a12a161bd9"
      },
      "source": [
        "dictionary = corpora.Dictionary(processed_corpus)\n",
        "bow_corpus = [dictionary.doc2bow(text) for text in processed_corpus]\n",
        "tfidf = TfidfModel(bow_corpus)"
      ],
      "execution_count": 165,
      "outputs": [
        {
          "output_type": "stream",
          "name": "stderr",
          "text": [
            "2021-11-23 19:48:52,857 : INFO : adding document #0 to Dictionary(0 unique tokens: [])\n",
            "2021-11-23 19:48:53,027 : INFO : built Dictionary(3750 unique tokens: ['Am7-D7', 'B7-EM7', 'C#M7-E7', 'C7-FM7', 'CM7-Eb7']...) from 5391 documents (total 77231 corpus positions)\n",
            "2021-11-23 19:48:53,031 : INFO : Dictionary lifecycle event {'msg': \"built Dictionary(3750 unique tokens: ['Am7-D7', 'B7-EM7', 'C#M7-E7', 'C7-FM7', 'CM7-Eb7']...) from 5391 documents (total 77231 corpus positions)\", 'datetime': '2021-11-23T19:48:53.031184', 'gensim': '4.1.2', 'python': '3.7.12 (default, Sep 10 2021, 00:21:48) \\n[GCC 7.5.0]', 'platform': 'Linux-5.4.104+-x86_64-with-Ubuntu-18.04-bionic', 'event': 'created'}\n",
            "2021-11-23 19:48:53,102 : INFO : collecting document frequencies\n",
            "2021-11-23 19:48:53,104 : INFO : PROGRESS: processing document #0\n",
            "2021-11-23 19:48:53,138 : INFO : TfidfModel lifecycle event {'msg': 'calculated IDF weights for 5391 documents and 3750 features (58273 matrix non-zeros)', 'datetime': '2021-11-23T19:48:53.138347', 'gensim': '4.1.2', 'python': '3.7.12 (default, Sep 10 2021, 00:21:48) \\n[GCC 7.5.0]', 'platform': 'Linux-5.4.104+-x86_64-with-Ubuntu-18.04-bionic', 'event': 'initialize'}\n"
          ]
        }
      ]
    },
    {
      "cell_type": "code",
      "metadata": {
        "id": "9NK-cuax9Kqk"
      },
      "source": [
        "# dictionary.token2id"
      ],
      "execution_count": 166,
      "outputs": []
    },
    {
      "cell_type": "code",
      "metadata": {
        "id": "til5xlce_y1m"
      },
      "source": [
        "!rm -R index\n",
        "!mkdir index"
      ],
      "execution_count": 167,
      "outputs": []
    },
    {
      "cell_type": "code",
      "metadata": {
        "colab": {
          "base_uri": "https://localhost:8080/"
        },
        "id": "tn_fz2M090IM",
        "outputId": "89fa69f4-a8b3-44ab-9350-7f34451c299f"
      },
      "source": [
        "# Note: SparseMatrixSimilarity crashes due to lacking memory\n",
        "#from gensim.test.utils import get_tmpfile\n",
        "#index_tmpfile = get_tmpfile(\"index\")\n",
        "#index_tfidf = similarities.Similarity('/content/index/index_tfidf', bow_corpus, num_features=len(dictionary))\n",
        "\n",
        "index_tfidf = similarities.SparseMatrixSimilarity(tfidf[bow_corpus], num_features = len(dictionary))"
      ],
      "execution_count": 168,
      "outputs": [
        {
          "output_type": "stream",
          "name": "stderr",
          "text": [
            "2021-11-23 19:48:53,424 : INFO : creating sparse index\n",
            "2021-11-23 19:48:53,427 : INFO : creating sparse matrix from corpus\n",
            "2021-11-23 19:48:53,430 : INFO : PROGRESS: at document #0\n",
            "2021-11-23 19:48:53,906 : INFO : created <5391x3750 sparse matrix of type '<class 'numpy.float32'>'\n",
            "\twith 58273 stored elements in Compressed Sparse Row format>\n"
          ]
        }
      ]
    },
    {
      "cell_type": "code",
      "metadata": {
        "colab": {
          "base_uri": "https://localhost:8080/"
        },
        "id": "VRSUXNPTewqv",
        "outputId": "cdf5f71b-1f9e-40af-e2bf-512f0bddb28d"
      },
      "source": [
        "tfidf.save('/content/index/tfidf.model')  # save model\n",
        "index_tfidf.save('/content/index/tfidf.index') #save index"
      ],
      "execution_count": 169,
      "outputs": [
        {
          "output_type": "stream",
          "name": "stderr",
          "text": [
            "2021-11-23 19:48:53,917 : INFO : TfidfModel lifecycle event {'fname_or_handle': '/content/index/tfidf.model', 'separately': 'None', 'sep_limit': 10485760, 'ignore': frozenset(), 'datetime': '2021-11-23T19:48:53.917608', 'gensim': '4.1.2', 'python': '3.7.12 (default, Sep 10 2021, 00:21:48) \\n[GCC 7.5.0]', 'platform': 'Linux-5.4.104+-x86_64-with-Ubuntu-18.04-bionic', 'event': 'saving'}\n",
            "2021-11-23 19:48:53,940 : INFO : saved /content/index/tfidf.model\n",
            "2021-11-23 19:48:53,942 : INFO : SparseMatrixSimilarity lifecycle event {'fname_or_handle': '/content/index/tfidf.index', 'separately': 'None', 'sep_limit': 10485760, 'ignore': frozenset(), 'datetime': '2021-11-23T19:48:53.941974', 'gensim': '4.1.2', 'python': '3.7.12 (default, Sep 10 2021, 00:21:48) \\n[GCC 7.5.0]', 'platform': 'Linux-5.4.104+-x86_64-with-Ubuntu-18.04-bionic', 'event': 'saving'}\n",
            "2021-11-23 19:48:53,946 : INFO : saved /content/index/tfidf.index\n"
          ]
        }
      ]
    },
    {
      "cell_type": "markdown",
      "metadata": {
        "id": "ZLK0coIu9Tv5"
      },
      "source": [
        "## Test for single tunes"
      ]
    },
    {
      "cell_type": "code",
      "metadata": {
        "id": "Fzrj1qxwDpJT"
      },
      "source": [
        "def get_sim_scores(tunes, index, model):\n",
        "\n",
        "    df_sim = pd.DataFrame(columns=['reference_title',\n",
        "                                  'similar_title',\n",
        "                                  'ref_section', \n",
        "                                  'similar_section', \n",
        "                                  'score', \n",
        "                                  ])\n",
        "\n",
        "    for tune in tunes:\n",
        "      print()\n",
        "      print(\"-\"*50)\n",
        "      for s1 in title_to_sectionid[tune]:\n",
        "      \n",
        "          query = processed_corpus[s1]\n",
        "          query_bow = dictionary.doc2bow(query)\n",
        "\n",
        "          # perform a similarity query against the corpus\n",
        "          similarities = index[model[query_bow]]\n",
        "          sims = sorted(enumerate(similarities), key=lambda item: -item[1])\n",
        "          \n",
        "          print(s1, sectionid_to_section[s1])\n",
        "          n = 0\n",
        "          for s2, s2_score in sims:\n",
        "            \n",
        "            # store the top N best results\n",
        "            if n > 40:\n",
        "                break\n",
        "            # don't count self-similarity between sections of the same tune\n",
        "            if s2 not in title_to_sectionid[tune]:\n",
        "                n += 1\n",
        "            \n",
        "                # print(f\"\\t{s2_score:.3f} {sectionid_to_section[s2]}\")\n",
        "\n",
        "                df_sim.loc[len(df_sim)] = [tune,\n",
        "                                sectionid_to_title[s2],\n",
        "                                sectionid_to_section[s1], \n",
        "                                sectionid_to_section[s2], \n",
        "                                s2_score, \n",
        "                                ]\n",
        "    return df_sim"
      ],
      "execution_count": 170,
      "outputs": []
    },
    {
      "cell_type": "code",
      "metadata": {
        "colab": {
          "base_uri": "https://localhost:8080/"
        },
        "id": "5Wz4ZQk_EKZy",
        "outputId": "7ab47814-1f3b-42e4-f33e-514c3053135f"
      },
      "source": [
        "%%time\n",
        "df_sim = get_sim_scores(tunes_eval_list, index_tfidf, tfidf)\n",
        "df_tfidf = df_sim[:]"
      ],
      "execution_count": 171,
      "outputs": [
        {
          "output_type": "stream",
          "name": "stdout",
          "text": [
            "\n",
            "--------------------------------------------------\n",
            "125 After You've Gone, section1 (A)\n",
            "126 After You've Gone, section2 (B)\n",
            "127 After You've Gone, section3 (A)\n",
            "128 After You've Gone, section4 (C)\n",
            "\n",
            "--------------------------------------------------\n",
            "188 All God's Chillun Got Rhythm, section1 (A)\n",
            "189 All God's Chillun Got Rhythm, section2 (B)\n",
            "190 All God's Chillun Got Rhythm, section3 (A)\n",
            "191 All God's Chillun Got Rhythm, section4 (C)\n",
            "\n",
            "--------------------------------------------------\n",
            "198 All Of Me, section1 (A)\n",
            "199 All Of Me, section2 (B)\n",
            "200 All Of Me, section3 (A)\n",
            "201 All Of Me, section4 (C)\n",
            "\n",
            "--------------------------------------------------\n",
            "474 Blood Count, section1 (A)\n",
            "475 Blood Count, section2 (A)\n",
            "476 Blood Count, section3 (B)\n",
            "477 Blood Count, section4 (A)\n",
            "478 Blood Count, section5 (C)\n",
            "\n",
            "--------------------------------------------------\n",
            "496 Blue Moon, section1 (A)\n",
            "497 Blue Moon, section2 (A)\n",
            "498 Blue Moon, section3 (B)\n",
            "499 Blue Moon, section4 (A)\n",
            "\n",
            "--------------------------------------------------\n",
            "626 But Beautiful, section1 (A)\n",
            "627 But Beautiful, section2 (B)\n",
            "628 But Beautiful, section3 (A)\n",
            "629 But Beautiful, section4 (C)\n",
            "\n",
            "--------------------------------------------------\n",
            "653 Bye Bye Blackbird, section1 (A)\n",
            "654 Bye Bye Blackbird, section2 (B)\n",
            "4559 Bye Bye Blackbird, section1 (A)\n",
            "\n",
            "--------------------------------------------------\n",
            "676 Call Me Irresponsible, section1 (A)\n",
            "677 Call Me Irresponsible, section2 (B)\n",
            "678 Call Me Irresponsible, section3 (A)\n",
            "679 Call Me Irresponsible, section4 (B)\n",
            "\n",
            "--------------------------------------------------\n",
            "826 Corcovado, section1 (A)\n",
            "827 Corcovado, section2 (B)\n",
            "828 Corcovado, section3 (A)\n",
            "829 Corcovado, section4 (C)\n",
            "\n",
            "--------------------------------------------------\n",
            "997 Dinah, section1 (A)\n",
            "998 Dinah, section2 (A)\n",
            "999 Dinah, section3 (B)\n",
            "1000 Dinah, section4 (A)\n",
            "\n",
            "--------------------------------------------------\n",
            "1125 East Of The Sun, section1 (A)\n",
            "1126 East Of The Sun, section2 (B)\n",
            "1127 East Of The Sun, section3 (A)\n",
            "1128 East Of The Sun, section4 (C)\n",
            "\n",
            "--------------------------------------------------\n",
            "1287 Footprints, section0 (nan)\n",
            "\n",
            "--------------------------------------------------\n",
            "1379 Giant Steps, section0 (nan)\n",
            "\n",
            "--------------------------------------------------\n",
            "1538 Honeysuckle Rose, section1 (A)\n",
            "1539 Honeysuckle Rose, section2 (A)\n",
            "1540 Honeysuckle Rose, section3 (B)\n",
            "1541 Honeysuckle Rose, section4 (A)\n",
            "4781 Honeysuckle Rose, section1 (A)\n",
            "4782 Honeysuckle Rose, section2 (A)\n",
            "4783 Honeysuckle Rose, section3 (B)\n",
            "4784 Honeysuckle Rose, section4 (A)\n",
            "\n",
            "--------------------------------------------------\n",
            "1647 I Got Rhythm, section1 (A)\n",
            "1648 I Got Rhythm, section2 (A)\n",
            "1649 I Got Rhythm, section3 (B)\n",
            "1650 I Got Rhythm, section4 (A)\n",
            "4809 I Got Rhythm, section1 (A)\n",
            "4810 I Got Rhythm, section2 (A)\n",
            "4811 I Got Rhythm, section3 (B)\n",
            "4812 I Got Rhythm, section4 (A)\n",
            "\n",
            "--------------------------------------------------\n",
            "2670 Misty, section1 (A)\n",
            "2671 Misty, section2 (A)\n",
            "2672 Misty, section3 (B)\n",
            "2673 Misty, section4 (A)\n",
            "\n",
            "--------------------------------------------------\n",
            "2857 Naima, section1 (A)\n",
            "2858 Naima, section2 (A)\n",
            "2859 Naima, section3 (B)\n",
            "2860 Naima, section4 (A)\n",
            "\n",
            "--------------------------------------------------\n",
            "5044 Old Fashioned Love, section0 (nan)\n",
            "\n",
            "--------------------------------------------------\n",
            "3142 Perdido, section1 (A)\n",
            "3143 Perdido, section2 (A)\n",
            "3144 Perdido, section3 (B)\n",
            "3145 Perdido, section4 (A)\n",
            "\n",
            "--------------------------------------------------\n",
            "3276 Rockin' Chair, section1 (A)\n",
            "3277 Rockin' Chair, section2 (B)\n",
            "3278 Rockin' Chair, section3 (A)\n",
            "5110 Rockin' Chair, section1 (A)\n",
            "5111 Rockin' Chair, section2 (B)\n",
            "5112 Rockin' Chair, section3 (A)\n",
            "\n",
            "--------------------------------------------------\n",
            "3578 Sophisticated Lady, section1 (A)\n",
            "3579 Sophisticated Lady, section2 (A)\n",
            "3580 Sophisticated Lady, section3 (B)\n",
            "3581 Sophisticated Lady, section4 (A)\n",
            "\n",
            "--------------------------------------------------\n",
            "3746 Sweet Sue, Just You, section1 (A)\n",
            "3747 Sweet Sue, Just You, section2 (A)\n",
            "3748 Sweet Sue, Just You, section3 (B)\n",
            "3749 Sweet Sue, Just You, section4 (A)\n",
            "\n",
            "--------------------------------------------------\n",
            "3860 These Foolish Things, section1 (A)\n",
            "3861 These Foolish Things, section2 (A)\n",
            "3862 These Foolish Things, section3 (B)\n",
            "3863 These Foolish Things, section4 (A)\n",
            "\n",
            "--------------------------------------------------\n",
            "4146 We'll Be Together Again, section1 (A)\n",
            "4147 We'll Be Together Again, section2 (A)\n",
            "4148 We'll Be Together Again, section3 (B)\n",
            "4149 We'll Be Together Again, section4 (A)\n",
            "CPU times: user 15.6 s, sys: 354 ms, total: 16 s\n",
            "Wall time: 15.6 s\n"
          ]
        }
      ]
    },
    {
      "cell_type": "code",
      "metadata": {
        "colab": {
          "base_uri": "https://localhost:8080/",
          "height": 542
        },
        "id": "yzRuIKVh9c8g",
        "outputId": "92c12168-ddcd-40c1-8970-3d5a3deb3936"
      },
      "source": [
        "import plotly.express as px\n",
        "fig = px.histogram(df_sim, x=\"score\", nbins=50, title='Scores for TF-IDF')\n",
        "fig.show()"
      ],
      "execution_count": 172,
      "outputs": [
        {
          "output_type": "display_data",
          "data": {
            "text/html": [
              "<html>\n",
              "<head><meta charset=\"utf-8\" /></head>\n",
              "<body>\n",
              "    <div>\n",
              "            <script src=\"https://cdnjs.cloudflare.com/ajax/libs/mathjax/2.7.5/MathJax.js?config=TeX-AMS-MML_SVG\"></script><script type=\"text/javascript\">if (window.MathJax) {MathJax.Hub.Config({SVG: {font: \"STIX-Web\"}});}</script>\n",
              "                <script type=\"text/javascript\">window.PlotlyConfig = {MathJaxConfig: 'local'};</script>\n",
              "        <script src=\"https://cdn.plot.ly/plotly-latest.min.js\"></script>    \n",
              "            <div id=\"dcee334e-d9e7-4176-911e-b49955334dbb\" class=\"plotly-graph-div\" style=\"height:525px; width:100%;\"></div>\n",
              "            <script type=\"text/javascript\">\n",
              "                \n",
              "                    window.PLOTLYENV=window.PLOTLYENV || {};\n",
              "                    \n",
              "                if (document.getElementById(\"dcee334e-d9e7-4176-911e-b49955334dbb\")) {\n",
              "                    Plotly.newPlot(\n",
              "                        'dcee334e-d9e7-4176-911e-b49955334dbb',\n",
              "                        [{\"alignmentgroup\": \"True\", \"bingroup\": \"x\", \"hoverlabel\": {\"namelength\": 0}, \"hovertemplate\": \"score=%{x}<br>count=%{y}\", \"legendgroup\": \"\", \"marker\": {\"color\": \"#636efa\"}, \"name\": \"\", \"nbinsx\": 50, \"offsetgroup\": \"\", \"orientation\": \"v\", \"showlegend\": false, \"type\": \"histogram\", \"x\": [0.5378310680389404, 0.463489830493927, 0.4276049733161926, 0.3892480134963989, 0.35887569189071655, 0.35887569189071655, 0.3544420599937439, 0.3542771637439728, 0.3502046465873718, 0.3490324020385742, 0.3481365442276001, 0.3377043306827545, 0.32944798469543457, 0.326036274433136, 0.32566267251968384, 0.3245600163936615, 0.3198450207710266, 0.3197953701019287, 0.3143579959869385, 0.3130139708518982, 0.3128474950790405, 0.30930832028388977, 0.30930832028388977, 0.3085476756095886, 0.304656982421875, 0.3045658469200134, 0.30417874455451965, 0.2992006540298462, 0.29819029569625854, 0.29741260409355164, 0.29741260409355164, 0.2951694130897522, 0.2947445213794708, 0.2932663559913635, 0.29230308532714844, 0.29071539640426636, 0.2881951630115509, 0.2856231927871704, 0.2844073176383972, 0.28251707553863525, 0.28019124269485474, 0.7428930401802063, 0.7428930401802063, 0.7106659412384033, 0.6547183394432068, 0.6488162279129028, 0.6475112438201904, 0.581339418888092, 0.581339418888092, 0.5142974853515625, 0.5033087730407715, 0.5033087730407715, 0.4829723834991455, 0.48076242208480835, 0.4793834388256073, 0.4793834388256073, 0.4793834388256073, 0.4676739275455475, 0.46673133969306946, 0.46645379066467285, 0.46044641733169556, 0.4549875259399414, 0.44835329055786133, 0.44835329055786133, 0.44724148511886597, 0.44489574432373047, 0.44423583149909973, 0.4417954683303833, 0.42958498001098633, 0.4256269931793213, 0.42015713453292847, 0.42015713453292847, 0.42015713453292847, 0.41875705122947693, 0.41875705122947693, 0.41875705122947693, 0.4174354076385498, 0.4171961545944214, 0.416536420583725, 0.4151301980018616, 0.4089645743370056, 0.4089645743370056, 0.5378310680389404, 0.463489830493927, 0.4276049733161926, 0.3892480134963989, 0.35887569189071655, 0.35887569189071655, 0.3544420599937439, 0.3542771637439728, 0.3502046465873718, 0.3490324020385742, 0.3481365442276001, 0.3377043306827545, 0.32944798469543457, 0.326036274433136, 0.32566267251968384, 0.3245600163936615, 0.3198450207710266, 0.3197953701019287, 0.3143579959869385, 0.3130139708518982, 0.3128474950790405, 0.30930832028388977, 0.30930832028388977, 0.3085476756095886, 0.304656982421875, 0.3045658469200134, 0.30417874455451965, 0.2992006540298462, 0.29819029569625854, 0.29741260409355164, 0.29741260409355164, 0.2951694130897522, 0.2947445213794708, 0.2932663559913635, 0.29230308532714844, 0.29071539640426636, 0.2881951630115509, 0.2856231927871704, 0.2844073176383972, 0.28251707553863525, 0.28019124269485474, 0.30247628688812256, 0.2917579710483551, 0.2833389639854431, 0.2760950028896332, 0.26079702377319336, 0.25981876254081726, 0.25855833292007446, 0.25851988792419434, 0.25639092922210693, 0.2551282048225403, 0.2536655068397522, 0.2526833415031433, 0.2526833415031433, 0.2503810524940491, 0.2485356330871582, 0.245790034532547, 0.245790034532547, 0.24219410121440887, 0.24104131758213043, 0.2364409863948822, 0.23449277877807617, 0.23217299580574036, 0.23217299580574036, 0.23217299580574036, 0.22718407213687897, 0.2199600338935852, 0.21465720236301422, 0.21465720236301422, 0.2121858298778534, 0.21149832010269165, 0.20915013551712036, 0.2086016684770584, 0.20842204988002777, 0.206758052110672, 0.2060672640800476, 0.20534202456474304, 0.20504233241081238, 0.20440161228179932, 0.20440161228179932, 0.20339353382587433, 0.20310944318771362, 0.9204921126365662, 0.9204921126365662, 0.7985793352127075, 0.786278247833252, 0.7678537964820862, 0.7272862195968628, 0.7206747531890869, 0.7201738357543945, 0.7201738357543945, 0.7118957042694092, 0.7116209864616394, 0.7050056457519531, 0.6847276091575623, 0.6796215772628784, 0.6774415969848633, 0.6768386363983154, 0.6606014370918274, 0.6581088304519653, 0.6577036380767822, 0.6577036380767822, 0.6492258310317993, 0.6413235664367676, 0.6413235664367676, 0.618781328201294, 0.6170874834060669, 0.6104680299758911, 0.6095466613769531, 0.5930466651916504, 0.5828021168708801, 0.5796720385551453, 0.5794343948364258, 0.5689815282821655, 0.5553629994392395, 0.5551656484603882, 0.5537230968475342, 0.5485963821411133, 0.546863317489624, 0.541469395160675, 0.5351776480674744, 0.5335707664489746, 0.5275121927261353, 0.5790473818778992, 0.5728763937950134, 0.5638213157653809, 0.534866988658905, 0.49759066104888916, 0.49453434348106384, 0.48387444019317627, 0.4815652370452881, 0.481413871049881, 0.47823745012283325, 0.47823745012283325, 0.47822844982147217, 0.4718392789363861, 0.47107934951782227, 0.4674009382724762, 0.44790369272232056, 0.4471118748188019, 0.4430808424949646, 0.43945571780204773, 0.4376881718635559, 0.4376881718635559, 0.4365118145942688, 0.43008244037628174, 0.42879852652549744, 0.425327867269516, 0.422384113073349, 0.4212219715118408, 0.420375794172287, 0.41497212648391724, 0.4114990532398224, 0.40869957208633423, 0.40516284108161926, 0.4047674238681793, 0.4030992090702057, 0.40041059255599976, 0.40032902359962463, 0.39473089575767517, 0.3934650719165802, 0.3893822431564331, 0.3852156698703766, 0.3852156698703766, 0.9204921126365662, 0.9204921126365662, 0.7985793352127075, 0.786278247833252, 0.7678537964820862, 0.7272862195968628, 0.7206747531890869, 0.7201738357543945, 0.7201738357543945, 0.7118957042694092, 0.7116209864616394, 0.7050056457519531, 0.6847276091575623, 0.6796215772628784, 0.6774415969848633, 0.6768386363983154, 0.6606014370918274, 0.6581088304519653, 0.6577036380767822, 0.6577036380767822, 0.6492258310317993, 0.6413235664367676, 0.6413235664367676, 0.618781328201294, 0.6170874834060669, 0.6104680299758911, 0.6095466613769531, 0.5930466651916504, 0.5828021168708801, 0.5796720385551453, 0.5794343948364258, 0.5689815282821655, 0.5553629994392395, 0.5551656484603882, 0.5537230968475342, 0.5485963821411133, 0.546863317489624, 0.541469395160675, 0.5351776480674744, 0.5335707664489746, 0.5275121927261353, 0.8593145608901978, 0.6742010116577148, 0.67411208152771, 0.5799850225448608, 0.5798860788345337, 0.566950798034668, 0.5334177017211914, 0.5260733366012573, 0.520369827747345, 0.4960707128047943, 0.48392510414123535, 0.469679594039917, 0.4611021876335144, 0.4596351981163025, 0.45242685079574585, 0.4316443204879761, 0.430954247713089, 0.4296749532222748, 0.4242172837257385, 0.4156229794025421, 0.41206905245780945, 0.4119431972503662, 0.40919244289398193, 0.402654767036438, 0.40132656693458557, 0.3981991410255432, 0.3981991410255432, 0.3962857127189636, 0.39403235912323, 0.39165443181991577, 0.3909335136413574, 0.3909335136413574, 0.3905472755432129, 0.3875070810317993, 0.3869902491569519, 0.3861373960971832, 0.3859139680862427, 0.3855406939983368, 0.375962495803833, 0.3747824728488922, 0.37476614117622375, 0.7268497943878174, 0.6972393989562988, 0.6623745560646057, 0.5344562530517578, 0.5287858247756958, 0.5287858247756958, 0.5287858247756958, 0.5287858247756958, 0.5287858247756958, 0.5287858247756958, 0.5287858247756958, 0.5287858247756958, 0.5287858247756958, 0.5287858247756958, 0.5287858247756958, 0.5287858247756958, 0.5287858247756958, 0.5287858247756958, 0.5287858247756958, 0.5287858247756958, 0.5287858247756958, 0.5287858247756958, 0.5287858247756958, 0.5287858247756958, 0.5287858247756958, 0.5287858247756958, 0.5287858247756958, 0.5287858247756958, 0.51827073097229, 0.51827073097229, 0.5172765851020813, 0.5172765851020813, 0.4948599934577942, 0.48764586448669434, 0.48764586448669434, 0.48094841837882996, 0.47875261306762695, 0.47720178961753845, 0.4455036520957947, 0.44246283173561096, 0.4364168643951416, 0.8435494899749756, 0.7286987900733948, 0.6715258359909058, 0.6521804332733154, 0.652040421962738, 0.622220516204834, 0.5608949661254883, 0.5588552951812744, 0.5401228666305542, 0.5362141132354736, 0.523771345615387, 0.5118677020072937, 0.5095478892326355, 0.4989641010761261, 0.4979395270347595, 0.49765533208847046, 0.49765533208847046, 0.49765533208847046, 0.488423228263855, 0.4851297438144684, 0.47775787115097046, 0.47775787115097046, 0.47523823380470276, 0.47523823380470276, 0.47305500507354736, 0.4724493622779846, 0.4724493622779846, 0.4724493622779846, 0.4724493622779846, 0.4724493622779846, 0.4724493622779846, 0.4724493622779846, 0.4724493622779846, 0.4724493622779846, 0.4724493622779846, 0.4724493622779846, 0.4724493622779846, 0.4724493622779846, 0.45336610078811646, 0.45184051990509033, 0.44941750168800354, 0.7268497943878174, 0.6972393989562988, 0.6623745560646057, 0.5344562530517578, 0.5287858247756958, 0.5287858247756958, 0.5287858247756958, 0.5287858247756958, 0.5287858247756958, 0.5287858247756958, 0.5287858247756958, 0.5287858247756958, 0.5287858247756958, 0.5287858247756958, 0.5287858247756958, 0.5287858247756958, 0.5287858247756958, 0.5287858247756958, 0.5287858247756958, 0.5287858247756958, 0.5287858247756958, 0.5287858247756958, 0.5287858247756958, 0.5287858247756958, 0.5287858247756958, 0.5287858247756958, 0.5287858247756958, 0.5287858247756958, 0.51827073097229, 0.51827073097229, 0.5172765851020813, 0.5172765851020813, 0.4948599934577942, 0.48764586448669434, 0.48764586448669434, 0.48094841837882996, 0.47875261306762695, 0.47720178961753845, 0.4455036520957947, 0.44246283173561096, 0.4364168643951416, 0.6061959862709045, 0.5786483287811279, 0.5623118281364441, 0.5598239302635193, 0.5598239302635193, 0.5566125512123108, 0.500808596611023, 0.47128480672836304, 0.4626784324645996, 0.4626784324645996, 0.4552198648452759, 0.43087178468704224, 0.42955297231674194, 0.4273398518562317, 0.4053630232810974, 0.39893633127212524, 0.39893633127212524, 0.3857495188713074, 0.3761627674102783, 0.37539681792259216, 0.3701293468475342, 0.36415237188339233, 0.36415237188339233, 0.35649701952934265, 0.35423630475997925, 0.35327377915382385, 0.3519804775714874, 0.3372282385826111, 0.336216002702713, 0.33277010917663574, 0.33277010917663574, 0.33242160081863403, 0.33199113607406616, 0.33199113607406616, 0.3294135332107544, 0.3287271559238434, 0.32320085167884827, 0.321556955575943, 0.31761884689331055, 0.31761884689331055, 0.3174726963043213, 0.2827347218990326, 0.1987365186214447, 0.18903203308582306, 0.18886882066726685, 0.1509871929883957, 0.13723160326480865, 0.11375187337398529, 0.11172442138195038, 0.10601198673248291, 0.10487180948257446, 0.09974207729101181, 0.09080120176076889, 0.09080120176076889, 0.08902113139629364, 0.08799035102128983, 0.08215080201625824, 0.07762820273637772, 0.075727678835392, 0.07429702579975128, 0.07396228611469269, 0.07396228611469269, 0.07159559428691864, 0.07159559428691864, 0.07117418199777603, 0.0700877457857132, 0.06968942284584045, 0.06838593631982803, 0.06632580608129501, 0.06181051582098007, 0.06156338378787041, 0.059959422796964645, 0.0597095787525177, 0.05938803032040596, 0.05938803032040596, 0.058532025665044785, 0.05828636512160301, 0.05710553377866745, 0.056119002401828766, 0.055271267890930176, 0.05364374443888664, 0.051860511302948, 0.3175680637359619, 0.2923096716403961, 0.2787281274795532, 0.2665617763996124, 0.2556858956813812, 0.25382477045059204, 0.2393454611301422, 0.23293107748031616, 0.23293107748031616, 0.22531120479106903, 0.22359037399291992, 0.21753966808319092, 0.20825591683387756, 0.20825591683387756, 0.20429590344429016, 0.19809091091156006, 0.1960725337266922, 0.19425232708454132, 0.19414860010147095, 0.18566051125526428, 0.18550676107406616, 0.18550676107406616, 0.1848735511302948, 0.18295973539352417, 0.18259097635746002, 0.18248239159584045, 0.18132907152175903, 0.18032771348953247, 0.18004396557807922, 0.17550477385520935, 0.1751391738653183, 0.1751391738653183, 0.1747971773147583, 0.17379045486450195, 0.17283576726913452, 0.17239174246788025, 0.17239174246788025, 0.17168019711971283, 0.17168019711971283, 0.17053250968456268, 0.1664247214794159, 0.22795052826404572, 0.20860238373279572, 0.15745386481285095, 0.14186105132102966, 0.1339976042509079, 0.1255900114774704, 0.1123589277267456, 0.10514669120311737, 0.1010543704032898, 0.09867866337299347, 0.09698141366243362, 0.09698141366243362, 0.08585033565759659, 0.08295130729675293, 0.08284392207860947, 0.07815831154584885, 0.07780172675848007, 0.0758075937628746, 0.0745677798986435, 0.06152117997407913, 0.06100473925471306, 0.04259645938873291, 0.04093410074710846, 0.0, 0.0, 0.0, 0.0, 0.0, 0.0, 0.0, 0.0, 0.0, 0.0, 0.0, 0.0, 0.0, 0.0, 0.0, 0.0, 0.0, 0.0, 0.3175680637359619, 0.2923096716403961, 0.2787281274795532, 0.2665617763996124, 0.2556858956813812, 0.25382477045059204, 0.2393454611301422, 0.23293107748031616, 0.23293107748031616, 0.22531120479106903, 0.22359037399291992, 0.21753966808319092, 0.20825591683387756, 0.20825591683387756, 0.20429590344429016, 0.19809091091156006, 0.1960725337266922, 0.19425232708454132, 0.19414860010147095, 0.18566051125526428, 0.18550676107406616, 0.18550676107406616, 0.1848735511302948, 0.18295973539352417, 0.18259097635746002, 0.18248239159584045, 0.18132907152175903, 0.18032771348953247, 0.18004396557807922, 0.17550477385520935, 0.1751391738653183, 0.1751391738653183, 0.1747971773147583, 0.17379045486450195, 0.17283576726913452, 0.17239174246788025, 0.17239174246788025, 0.17168019711971283, 0.17168019711971283, 0.17053250968456268, 0.1664247214794159, 0.6071786880493164, 0.48811033368110657, 0.4444422125816345, 0.4025292694568634, 0.386354923248291, 0.3604292869567871, 0.34716153144836426, 0.3438590168952942, 0.3335590064525604, 0.331750750541687, 0.331750750541687, 0.3176950216293335, 0.30385854840278625, 0.30375972390174866, 0.2956753671169281, 0.2956615388393402, 0.29213747382164, 0.28086531162261963, 0.27840369939804077, 0.2704981863498688, 0.26496705412864685, 0.26149049401283264, 0.25775146484375, 0.25570619106292725, 0.25094738602638245, 0.2354661524295807, 0.2354661524295807, 0.23294273018836975, 0.23175251483917236, 0.22961720824241638, 0.22953763604164124, 0.22429391741752625, 0.21540632843971252, 0.2114885151386261, 0.20674504339694977, 0.20494210720062256, 0.20477686822414398, 0.2015710175037384, 0.19939637184143066, 0.19744136929512024, 0.19361136853694916, 0.7679554224014282, 0.7679554224014282, 0.7678974866867065, 0.7615619897842407, 0.7590591907501221, 0.7590591907501221, 0.7215249538421631, 0.7172646522521973, 0.7013320922851562, 0.6986857652664185, 0.6844941973686218, 0.6817723512649536, 0.6666742563247681, 0.6610997915267944, 0.6577036380767822, 0.6577036380767822, 0.6554909944534302, 0.6510870456695557, 0.6345010995864868, 0.6331675052642822, 0.6321707367897034, 0.6321707367897034, 0.6214909553527832, 0.6154758930206299, 0.5931565761566162, 0.5882426500320435, 0.5805812478065491, 0.5747162103652954, 0.5719053149223328, 0.5386621952056885, 0.5286586284637451, 0.5231298804283142, 0.519873857498169, 0.5188846588134766, 0.5188846588134766, 0.5172991752624512, 0.5061345100402832, 0.5050545930862427, 0.5027800798416138, 0.49966707825660706, 0.49966707825660706, 0.751338005065918, 0.66301429271698, 0.620664119720459, 0.605940580368042, 0.605940580368042, 0.5662403106689453, 0.5655336380004883, 0.5592315196990967, 0.5592315196990967, 0.554509162902832, 0.5366783142089844, 0.5335707664489746, 0.5335707664489746, 0.5328625440597534, 0.5286286473274231, 0.526063084602356, 0.5216585397720337, 0.5196902751922607, 0.5088418126106262, 0.5056626200675964, 0.49379193782806396, 0.48555803298950195, 0.48420676589012146, 0.47717440128326416, 0.4702155888080597, 0.4702155888080597, 0.4680950939655304, 0.45851027965545654, 0.4527909755706787, 0.44840866327285767, 0.4321478307247162, 0.43184277415275574, 0.43161049485206604, 0.42520034313201904, 0.41666504740715027, 0.40664994716644287, 0.40664994716644287, 0.4006841778755188, 0.3969329595565796, 0.3969329595565796, 0.39277634024620056, 0.351857453584671, 0.351857453584671, 0.3314064145088196, 0.3115271329879761, 0.3042582869529724, 0.3042582869529724, 0.301810085773468, 0.2993249297142029, 0.2989618182182312, 0.28831690549850464, 0.28822922706604004, 0.2867221236228943, 0.2856346368789673, 0.2846457064151764, 0.27465176582336426, 0.27345335483551025, 0.2712113857269287, 0.2683117389678955, 0.25903552770614624, 0.2589559555053711, 0.2589559555053711, 0.2589559555053711, 0.2576339840888977, 0.2576339840888977, 0.25709784030914307, 0.2544008493423462, 0.2498542070388794, 0.24365082383155823, 0.2388993799686432, 0.23527410626411438, 0.23527410626411438, 0.2331756055355072, 0.23272332549095154, 0.2326527237892151, 0.23211082816123962, 0.22593487799167633, 0.2258470356464386, 0.2253689169883728, 0.22522185742855072, 0.2250780165195465, 0.22323021292686462, 0.7679554224014282, 0.7679554224014282, 0.7678974866867065, 0.7615619897842407, 0.7590591907501221, 0.7590591907501221, 0.7215249538421631, 0.7172646522521973, 0.7013320922851562, 0.6986857652664185, 0.6844941973686218, 0.6817723512649536, 0.6666742563247681, 0.6610997915267944, 0.6577036380767822, 0.6577036380767822, 0.6554909944534302, 0.6510870456695557, 0.6345010995864868, 0.6331675052642822, 0.6321707367897034, 0.6321707367897034, 0.6214909553527832, 0.6154758930206299, 0.5931565761566162, 0.5882426500320435, 0.5805812478065491, 0.5747162103652954, 0.5719053149223328, 0.5386621952056885, 0.5286586284637451, 0.5231298804283142, 0.519873857498169, 0.5188846588134766, 0.5188846588134766, 0.5172991752624512, 0.5061345100402832, 0.5050545930862427, 0.5027800798416138, 0.49966707825660706, 0.49966707825660706, 0.5914112329483032, 0.5873799920082092, 0.5855448246002197, 0.5855448246002197, 0.5828404426574707, 0.513245701789856, 0.49639493227005005, 0.4784459173679352, 0.47661054134368896, 0.46429669857025146, 0.4383823275566101, 0.4383823275566101, 0.4237877130508423, 0.4237877130508423, 0.4235507845878601, 0.4218447208404541, 0.41023388504981995, 0.41023388504981995, 0.3872956931591034, 0.3872956931591034, 0.3872956931591034, 0.37090903520584106, 0.3700772523880005, 0.3673485517501831, 0.3631633222103119, 0.35886088013648987, 0.35143589973449707, 0.34650447964668274, 0.34650447964668274, 0.3433329463005066, 0.34051379561424255, 0.32097095251083374, 0.3181368112564087, 0.3181368112564087, 0.3117404580116272, 0.30517882108688354, 0.30003419518470764, 0.29864054918289185, 0.29850518703460693, 0.296435683965683, 0.2944053113460541, 0.7772100567817688, 0.7283581495285034, 0.6839131116867065, 0.6804191470146179, 0.676605761051178, 0.6707454919815063, 0.6707454919815063, 0.6488246917724609, 0.6480168700218201, 0.6342516541481018, 0.6275649070739746, 0.6275649070739746, 0.6188374757766724, 0.6021226644515991, 0.6021226644515991, 0.5917623043060303, 0.589209794998169, 0.5877159833908081, 0.5794343948364258, 0.5794343948364258, 0.5710654854774475, 0.5646206140518188, 0.5575200319290161, 0.5529166460037231, 0.5529166460037231, 0.5527286529541016, 0.5510393381118774, 0.5510393381118774, 0.5422318577766418, 0.5345885157585144, 0.5345885157585144, 0.5240854024887085, 0.5198885202407837, 0.5094181299209595, 0.5081449151039124, 0.49772465229034424, 0.4973454177379608, 0.4973454177379608, 0.49581119418144226, 0.4909122884273529, 0.48768526315689087, 0.5914112329483032, 0.5873799920082092, 0.5855448246002197, 0.5855448246002197, 0.5828404426574707, 0.513245701789856, 0.49639493227005005, 0.4784459173679352, 0.47661054134368896, 0.46429669857025146, 0.4383823275566101, 0.4383823275566101, 0.4237877130508423, 0.4237877130508423, 0.4235507845878601, 0.4218447208404541, 0.41023388504981995, 0.41023388504981995, 0.3872956931591034, 0.3872956931591034, 0.3872956931591034, 0.37090903520584106, 0.3700772523880005, 0.3673485517501831, 0.3631633222103119, 0.35886088013648987, 0.35143589973449707, 0.34650447964668274, 0.34650447964668274, 0.3433329463005066, 0.34051379561424255, 0.32097095251083374, 0.3181368112564087, 0.3181368112564087, 0.3117404580116272, 0.30517882108688354, 0.30003419518470764, 0.29864054918289185, 0.29850518703460693, 0.296435683965683, 0.2944053113460541, 0.6315505504608154, 0.6140819191932678, 0.6108705401420593, 0.5992801189422607, 0.5765126943588257, 0.569915771484375, 0.569915771484375, 0.5641289949417114, 0.561998188495636, 0.554793119430542, 0.5466092824935913, 0.5383347272872925, 0.5381056070327759, 0.5302953720092773, 0.5256766080856323, 0.525287926197052, 0.5121374130249023, 0.504474401473999, 0.504474401473999, 0.5014276504516602, 0.49812769889831543, 0.49812769889831543, 0.4955999553203583, 0.4951215982437134, 0.48857581615448, 0.4837801456451416, 0.47098255157470703, 0.46852007508277893, 0.46811240911483765, 0.4613630175590515, 0.4613630175590515, 0.4555765390396118, 0.4524235129356384, 0.4500657916069031, 0.445917546749115, 0.44572949409484863, 0.4443751573562622, 0.44314366579055786, 0.44018521904945374, 0.440166711807251, 0.43737637996673584, 0.704375147819519, 0.6805366277694702, 0.6773262619972229, 0.6773262619972229, 0.6773262619972229, 0.6574493050575256, 0.5925594568252563, 0.5764322280883789, 0.5764322280883789, 0.575053334236145, 0.5698552131652832, 0.5698552131652832, 0.5698552131652832, 0.5619821548461914, 0.5597466230392456, 0.5382659435272217, 0.5377350449562073, 0.5357972979545593, 0.5313236117362976, 0.5313236117362976, 0.5313236117362976, 0.5279549956321716, 0.5181275010108948, 0.49724557995796204, 0.4963350296020508, 0.491608589887619, 0.4872516691684723, 0.47574591636657715, 0.47502440214157104, 0.47300535440444946, 0.4663476347923279, 0.4663476347923279, 0.4531702995300293, 0.4508686661720276, 0.4444241523742676, 0.4444241523742676, 0.44062021374702454, 0.44062021374702454, 0.4350309371948242, 0.4334196448326111, 0.4313674569129944, 0.6217762231826782, 0.55302494764328, 0.542366623878479, 0.542366623878479, 0.542366623878479, 0.5286875367164612, 0.5286875367164612, 0.5229506492614746, 0.5072553157806396, 0.5072553157806396, 0.49151501059532166, 0.47313153743743896, 0.46541303396224976, 0.46511733531951904, 0.4446088373661041, 0.44411396980285645, 0.4307561218738556, 0.4307561218738556, 0.42156851291656494, 0.41997021436691284, 0.41583192348480225, 0.4122299253940582, 0.4110194742679596, 0.40699440240859985, 0.40699440240859985, 0.40554237365722656, 0.4043814241886139, 0.4030686616897583, 0.398825079202652, 0.3885379433631897, 0.387991726398468, 0.3855542242527008, 0.37372177839279175, 0.37372177839279175, 0.37281090021133423, 0.37201637029647827, 0.3708159327507019, 0.3706558048725128, 0.3706558048725128, 0.3706558048725128, 0.3706558048725128, 0.6853331923484802, 0.6410815715789795, 0.6295279860496521, 0.6226587891578674, 0.6056717038154602, 0.5991474986076355, 0.5743032097816467, 0.5743032097816467, 0.5499357581138611, 0.5245925188064575, 0.46164804697036743, 0.46164804697036743, 0.46164804697036743, 0.4580184519290924, 0.452443391084671, 0.44966214895248413, 0.44966214895248413, 0.4452100992202759, 0.4387693405151367, 0.4376067519187927, 0.4376067519187927, 0.4364021420478821, 0.43605780601501465, 0.4351975619792938, 0.4277181029319763, 0.42750000953674316, 0.4271255433559418, 0.4223599135875702, 0.41751644015312195, 0.41535016894340515, 0.41524580121040344, 0.41524580121040344, 0.4106059968471527, 0.4094930589199066, 0.4088175296783447, 0.4088175296783447, 0.40864264965057373, 0.40722012519836426, 0.40722012519836426, 0.4057537317276001, 0.4056963622570038, 0.38652166724205017, 0.38652166724205017, 0.3148207664489746, 0.31005340814590454, 0.3028903603553772, 0.29817888140678406, 0.27635645866394043, 0.27635645866394043, 0.2757601737976074, 0.27569571137428284, 0.2711386978626251, 0.2711386978626251, 0.2670159339904785, 0.26550185680389404, 0.2648279666900635, 0.2642296850681305, 0.26140373945236206, 0.26133546233177185, 0.26133546233177185, 0.26133546233177185, 0.2538816034793854, 0.24815154075622559, 0.24644923210144043, 0.24644923210144043, 0.23891788721084595, 0.2372567355632782, 0.2372567355632782, 0.23690730333328247, 0.23337319493293762, 0.22909845411777496, 0.22853663563728333, 0.22727477550506592, 0.22586268186569214, 0.22509638965129852, 0.2189616709947586, 0.21523213386535645, 0.21523213386535645, 0.21131667494773865, 0.20984652638435364, 0.20984652638435364, 0.2088523805141449, 0.5737910270690918, 0.5658402442932129, 0.500369668006897, 0.500369668006897, 0.4905884563922882, 0.48586946725845337, 0.4705598056316376, 0.46860501170158386, 0.46335822343826294, 0.46156179904937744, 0.45888206362724304, 0.4562852084636688, 0.4508470296859741, 0.4481971263885498, 0.44768503308296204, 0.4398350119590759, 0.42508721351623535, 0.42508721351623535, 0.4186907708644867, 0.41289955377578735, 0.4055931568145752, 0.4016757607460022, 0.400892436504364, 0.39524221420288086, 0.3882386386394501, 0.3881058096885681, 0.38110238313674927, 0.38110238313674927, 0.3748720586299896, 0.3729360103607178, 0.3684972822666168, 0.35778993368148804, 0.356970876455307, 0.3541482388973236, 0.35054081678390503, 0.35054081678390503, 0.350399374961853, 0.3468782305717468, 0.3427702784538269, 0.34096911549568176, 0.3347112536430359, 0.38652166724205017, 0.38652166724205017, 0.3148207664489746, 0.31005340814590454, 0.3028903603553772, 0.29817888140678406, 0.27635645866394043, 0.27635645866394043, 0.2757601737976074, 0.27569571137428284, 0.2711386978626251, 0.2711386978626251, 0.2670159339904785, 0.26550185680389404, 0.2648279666900635, 0.2642296850681305, 0.26140373945236206, 0.26133546233177185, 0.26133546233177185, 0.26133546233177185, 0.2538816034793854, 0.24815154075622559, 0.24644923210144043, 0.24644923210144043, 0.23891788721084595, 0.2372567355632782, 0.2372567355632782, 0.23690730333328247, 0.23337319493293762, 0.22909845411777496, 0.22853663563728333, 0.22727477550506592, 0.22586268186569214, 0.22509638965129852, 0.2189616709947586, 0.21523213386535645, 0.21523213386535645, 0.21131667494773865, 0.20984652638435364, 0.20984652638435364, 0.2088523805141449, 0.632817804813385, 0.5306787490844727, 0.5279891490936279, 0.512640118598938, 0.5115363001823425, 0.5058740377426147, 0.5012233257293701, 0.49357229471206665, 0.4933285415172577, 0.48037463426589966, 0.47997748851776123, 0.4598172903060913, 0.4595080018043518, 0.45064228773117065, 0.44211244583129883, 0.44211244583129883, 0.4353945255279541, 0.4353945255279541, 0.41989248991012573, 0.4196666479110718, 0.41803109645843506, 0.4115102291107178, 0.409170001745224, 0.4048146903514862, 0.4029153883457184, 0.3922632932662964, 0.3880920708179474, 0.38707369565963745, 0.38707369565963745, 0.3773045539855957, 0.3764393627643585, 0.3723970949649811, 0.3723970949649811, 0.3700260818004608, 0.369141548871994, 0.36867108941078186, 0.3684861660003662, 0.3654630780220032, 0.3597598075866699, 0.35843461751937866, 0.3561862111091614, 0.23057201504707336, 0.21107423305511475, 0.2052638828754425, 0.1866859793663025, 0.18546226620674133, 0.18463444709777832, 0.16820062696933746, 0.16340260207653046, 0.16218580305576324, 0.1619696319103241, 0.1619696319103241, 0.15916678309440613, 0.1584310084581375, 0.15681001543998718, 0.15630580484867096, 0.15536724030971527, 0.14805538952350616, 0.13905996084213257, 0.135489359498024, 0.135489359498024, 0.1349974274635315, 0.1349974274635315, 0.13495439291000366, 0.13204975426197052, 0.13052845001220703, 0.12778960168361664, 0.12778960168361664, 0.12778960168361664, 0.12738512456417084, 0.12276864796876907, 0.12184826284646988, 0.12184826284646988, 0.12126287072896957, 0.11922657489776611, 0.11922657489776611, 0.11835597455501556, 0.11835597455501556, 0.11781706660985947, 0.11677317321300507, 0.11649323999881744, 0.11649323999881744, 0.7629227638244629, 0.5203989744186401, 0.5198920965194702, 0.505437970161438, 0.505437970161438, 0.4924151599407196, 0.48265787959098816, 0.4667341709136963, 0.4667341709136963, 0.46279820799827576, 0.4598720073699951, 0.4445718824863434, 0.43425458669662476, 0.4154066741466522, 0.4107205867767334, 0.39951157569885254, 0.39951157569885254, 0.3953177332878113, 0.3942102789878845, 0.3878946900367737, 0.3826325237751007, 0.38153353333473206, 0.38153353333473206, 0.3811306953430176, 0.37646162509918213, 0.37556302547454834, 0.3690892457962036, 0.36769694089889526, 0.3665284812450409, 0.3665284812450409, 0.36214321851730347, 0.35469967126846313, 0.35429146885871887, 0.3526613712310791, 0.3526342511177063, 0.35182327032089233, 0.35083550214767456, 0.35063862800598145, 0.3491051495075226, 0.3469836115837097, 0.344601571559906, 0.23057201504707336, 0.21107423305511475, 0.2052638828754425, 0.1866859793663025, 0.18546226620674133, 0.18463444709777832, 0.16820062696933746, 0.16340260207653046, 0.16218580305576324, 0.1619696319103241, 0.1619696319103241, 0.15916678309440613, 0.1584310084581375, 0.15681001543998718, 0.15630580484867096, 0.15536724030971527, 0.14805538952350616, 0.13905996084213257, 0.135489359498024, 0.135489359498024, 0.1349974274635315, 0.1349974274635315, 0.13495439291000366, 0.13204975426197052, 0.13052845001220703, 0.12778960168361664, 0.12778960168361664, 0.12778960168361664, 0.12738512456417084, 0.12276864796876907, 0.12184826284646988, 0.12184826284646988, 0.12126287072896957, 0.11922657489776611, 0.11922657489776611, 0.11835597455501556, 0.11835597455501556, 0.11781706660985947, 0.11677317321300507, 0.11649323999881744, 0.11649323999881744, 0.7330782413482666, 0.691215991973877, 0.6883246898651123, 0.6203620433807373, 0.6027040481567383, 0.6027040481567383, 0.5992801189422607, 0.5822809934616089, 0.5701134204864502, 0.5639037489891052, 0.5639037489891052, 0.5554741024971008, 0.5549378395080566, 0.550744354724884, 0.5476187467575073, 0.5474739670753479, 0.5376518368721008, 0.5288659930229187, 0.5197804570198059, 0.519258975982666, 0.5163400769233704, 0.5163366794586182, 0.5163366794586182, 0.5156826376914978, 0.5146855711936951, 0.5046376585960388, 0.5033497214317322, 0.5015372037887573, 0.49945068359375, 0.49879783391952515, 0.4909122884273529, 0.48587945103645325, 0.47791969776153564, 0.4775412380695343, 0.4775412380695343, 0.4763772785663605, 0.4754546880722046, 0.47292834520339966, 0.4615379869937897, 0.4546552300453186, 0.45436614751815796, 0.5528984069824219, 0.5158248543739319, 0.4846458435058594, 0.47402292490005493, 0.4687025249004364, 0.46334028244018555, 0.46334028244018555, 0.46334028244018555, 0.45159557461738586, 0.4280449450016022, 0.4279196858406067, 0.4279196858406067, 0.42015326023101807, 0.42015326023101807, 0.4093722105026245, 0.40444639325141907, 0.40262675285339355, 0.39962130784988403, 0.39522311091423035, 0.392259806394577, 0.3913586735725403, 0.39011350274086, 0.38988196849823, 0.3862227201461792, 0.3862227201461792, 0.372132271528244, 0.372132271528244, 0.37192022800445557, 0.37192022800445557, 0.371565043926239, 0.37052565813064575, 0.3684772849082947, 0.36803770065307617, 0.36583757400512695, 0.36583757400512695, 0.36462026834487915, 0.35686641931533813, 0.3545861840248108, 0.3545861840248108, 0.35276514291763306, 0.35276514291763306, 0.5544646978378296, 0.5148324966430664, 0.4730624854564667, 0.46765032410621643, 0.46765032410621643, 0.46765032410621643, 0.4294411540031433, 0.4292469322681427, 0.4292469322681427, 0.42819511890411377, 0.4202917218208313, 0.4202917218208313, 0.4143385887145996, 0.4139348864555359, 0.40783584117889404, 0.40412771701812744, 0.3990303874015808, 0.395264595746994, 0.39375877380371094, 0.39375877380371094, 0.3928176164627075, 0.3924216330051422, 0.3922516703605652, 0.3913354277610779, 0.3893480896949768, 0.3874206244945526, 0.3874206244945526, 0.38736799359321594, 0.374500036239624, 0.3739723563194275, 0.3694559931755066, 0.3694559931755066, 0.3690302073955536, 0.368295818567276, 0.368295818567276, 0.36664915084838867, 0.363598495721817, 0.3599778115749359, 0.35376179218292236, 0.3505512475967407, 0.34069347381591797, 0.6987080574035645, 0.6987080574035645, 0.6987080574035645, 0.6987080574035645, 0.6987080574035645, 0.6987080574035645, 0.6987080574035645, 0.6987080574035645, 0.6987080574035645, 0.6939475536346436, 0.6505321860313416, 0.6350376605987549, 0.6350376605987549, 0.6296482086181641, 0.6028432250022888, 0.598733127117157, 0.5908045768737793, 0.5866604447364807, 0.5863635540008545, 0.5838742256164551, 0.5838742256164551, 0.5301421880722046, 0.5267322063446045, 0.5022441744804382, 0.4958440661430359, 0.4820404648780823, 0.4799078702926636, 0.4799078702926636, 0.4799078702926636, 0.4799078702926636, 0.4799078702926636, 0.4793094992637634, 0.47812461853027344, 0.4695015251636505, 0.46304166316986084, 0.4503413438796997, 0.42755818367004395, 0.42579683661460876, 0.41014665365219116, 0.40995025634765625, 0.4010009467601776, 0.6043860912322998, 0.5638601779937744, 0.530384361743927, 0.530384361743927, 0.5123496055603027, 0.506488025188446, 0.506488025188446, 0.506488025188446, 0.4787132143974304, 0.47139599919319153, 0.46916329860687256, 0.4679058790206909, 0.46776893734931946, 0.46776893734931946, 0.45182016491889954, 0.4474942982196808, 0.44551950693130493, 0.44210973381996155, 0.4401206970214844, 0.43202757835388184, 0.42878830432891846, 0.42848682403564453, 0.42780324816703796, 0.4261890649795532, 0.42218899726867676, 0.42218899726867676, 0.40678641200065613, 0.40678641200065613, 0.406554639339447, 0.406554639339447, 0.4061663746833801, 0.40503019094467163, 0.4044465124607086, 0.4027910530567169, 0.4023106098175049, 0.3985748589038849, 0.3856157660484314, 0.3856157660484314, 0.3841699957847595, 0.3796640634536743, 0.3720262050628662, 0.6704142689704895, 0.620211124420166, 0.6116882562637329, 0.592720627784729, 0.5541536211967468, 0.5124638080596924, 0.5124638080596924, 0.48956725001335144, 0.48588818311691284, 0.4608970880508423, 0.45938974618911743, 0.45938974618911743, 0.4568517208099365, 0.4503959119319916, 0.44701671600341797, 0.44376829266548157, 0.4328973591327667, 0.4319995045661926, 0.4315350353717804, 0.42734965682029724, 0.42414411902427673, 0.4191970229148865, 0.4175911247730255, 0.41193094849586487, 0.41193094849586487, 0.41147446632385254, 0.41147446632385254, 0.4103829562664032, 0.39917612075805664, 0.3973541259765625, 0.39721423387527466, 0.3933623731136322, 0.387462317943573, 0.38603124022483826, 0.38514402508735657, 0.3812623620033264, 0.3764461874961853, 0.3637545108795166, 0.36217278242111206, 0.3579818308353424, 0.3557586967945099, 0.7479240894317627, 0.6552239060401917, 0.6442965269088745, 0.5702835321426392, 0.552962064743042, 0.5396958589553833, 0.524148166179657, 0.4979395270347595, 0.49226510524749756, 0.4885646104812622, 0.4885646104812622, 0.4795994162559509, 0.47568199038505554, 0.4578816890716553, 0.4483136832714081, 0.439851313829422, 0.421216756105423, 0.41711050271987915, 0.41213637590408325, 0.4019167423248291, 0.4019167423248291, 0.4019167423248291, 0.3972519040107727, 0.397209495306015, 0.38912731409072876, 0.3883516788482666, 0.3847224712371826, 0.38346779346466064, 0.38155990839004517, 0.38155990839004517, 0.38155990839004517, 0.38155990839004517, 0.38155990839004517, 0.38155990839004517, 0.38155990839004517, 0.38155990839004517, 0.38155990839004517, 0.38155990839004517, 0.38155990839004517, 0.38155990839004517, 0.38155990839004517, 0.6704142689704895, 0.620211124420166, 0.6116882562637329, 0.592720627784729, 0.5541536211967468, 0.5124638080596924, 0.5124638080596924, 0.48956725001335144, 0.48588818311691284, 0.4608970880508423, 0.45938974618911743, 0.45938974618911743, 0.4568517208099365, 0.4503959119319916, 0.44701671600341797, 0.44376829266548157, 0.4328973591327667, 0.4319995045661926, 0.4315350353717804, 0.42734965682029724, 0.42414411902427673, 0.4191970229148865, 0.4175911247730255, 0.41193094849586487, 0.41193094849586487, 0.41147446632385254, 0.41147446632385254, 0.4103829562664032, 0.39917612075805664, 0.3973541259765625, 0.39721423387527466, 0.3933623731136322, 0.387462317943573, 0.38603124022483826, 0.38514402508735657, 0.3812623620033264, 0.3764461874961853, 0.3637545108795166, 0.36217278242111206, 0.3579818308353424, 0.3557586967945099, 0.5336573719978333, 0.43371129035949707, 0.4099513590335846, 0.4029468297958374, 0.387281596660614, 0.3747898042201996, 0.3725747764110565, 0.3701108694076538, 0.3609943985939026, 0.3552555441856384, 0.35513272881507874, 0.3510877192020416, 0.3345617651939392, 0.3340635597705841, 0.32976120710372925, 0.3274996876716614, 0.31434595584869385, 0.31092745065689087, 0.3056955933570862, 0.3023366630077362, 0.2984188199043274, 0.2984188199043274, 0.2981070280075073, 0.29671433568000793, 0.29466941952705383, 0.294634610414505, 0.29214900732040405, 0.2899084687232971, 0.28960615396499634, 0.2894390821456909, 0.2889665961265564, 0.286285936832428, 0.28522276878356934, 0.2850914001464844, 0.284909725189209, 0.2843834459781647, 0.2790578007698059, 0.27807846665382385, 0.27694857120513916, 0.27694857120513916, 0.27143579721450806, 0.8792834281921387, 0.8741194605827332, 0.8741194605827332, 0.8741194605827332, 0.8741194605827332, 0.8741194605827332, 0.8741194605827332, 0.8741194605827332, 0.8741194605827332, 0.8741194605827332, 0.8741194605827332, 0.8741194605827332, 0.8741194605827332, 0.8741194605827332, 0.8689475655555725, 0.8429816961288452, 0.8429816961288452, 0.8429816961288452, 0.8232541084289551, 0.8232541084289551, 0.8166604042053223, 0.7978775501251221, 0.7978775501251221, 0.782153844833374, 0.7516495585441589, 0.7021260261535645, 0.6653758883476257, 0.6308501362800598, 0.6175222992897034, 0.5974928736686707, 0.5883733034133911, 0.5733506679534912, 0.5608038306236267, 0.5406888723373413, 0.5257806777954102, 0.5104045867919922, 0.4960249662399292, 0.49390119314193726, 0.4918212592601776, 0.4918212592601776, 0.48640692234039307, 0.6191207766532898, 0.6191207766532898, 0.5065270662307739, 0.4428725242614746, 0.432294636964798, 0.4227655231952667, 0.3966551721096039, 0.3966551721096039, 0.3901820182800293, 0.3872745931148529, 0.3667151927947998, 0.3489834666252136, 0.33921343088150024, 0.3369881212711334, 0.3369881212711334, 0.33495745062828064, 0.3260155916213989, 0.32490041851997375, 0.32345709204673767, 0.3230076730251312, 0.3230076730251312, 0.31963348388671875, 0.31740617752075195, 0.31161463260650635, 0.30955755710601807, 0.3039615750312805, 0.29717838764190674, 0.29717838764190674, 0.2951403558254242, 0.2897181808948517, 0.28887951374053955, 0.28865477442741394, 0.28560635447502136, 0.27888208627700806, 0.27080002427101135, 0.2703847289085388, 0.26531898975372314, 0.25510621070861816, 0.25510621070861816, 0.25510621070861816, 0.24641680717468262, 0.671932578086853, 0.671932578086853, 0.671932578086853, 0.6393064260482788, 0.6171028017997742, 0.5966613292694092, 0.5966613292694092, 0.5966613292694092, 0.5858703851699829, 0.5769952535629272, 0.5735686421394348, 0.5536295175552368, 0.5489581227302551, 0.5456032752990723, 0.5447999238967896, 0.5268079042434692, 0.5261547565460205, 0.5179108381271362, 0.47979259490966797, 0.47979259490966797, 0.4671216607093811, 0.46554771065711975, 0.46402135491371155, 0.4612697958946228, 0.45204538106918335, 0.45204538106918335, 0.44794076681137085, 0.44396910071372986, 0.4434715509414673, 0.4307169020175934, 0.4307169020175934, 0.4307169020175934, 0.4307169020175934, 0.4283427596092224, 0.4262499213218689, 0.42581653594970703, 0.42314478754997253, 0.41892150044441223, 0.4122880697250366, 0.4118790030479431, 0.40779179334640503, 0.7182213664054871, 0.7182213664054871, 0.7182213664054871, 0.6871287822723389, 0.6377647519111633, 0.6377647519111633, 0.6377647519111633, 0.5917685031890869, 0.5858621001243591, 0.5624010562896729, 0.5434674620628357, 0.5434674620628357, 0.5401483774185181, 0.5196938514709473, 0.5103603601455688, 0.505449652671814, 0.5024617314338684, 0.5024584531784058, 0.4993012547492981, 0.49808192253112793, 0.49808192253112793, 0.49808192253112793, 0.49304625391960144, 0.48505493998527527, 0.4809921383857727, 0.47915318608283997, 0.4787634611129761, 0.474021852016449, 0.46792736649513245, 0.4663476347923279, 0.4551506042480469, 0.4477806091308594, 0.4375235438346863, 0.43588414788246155, 0.4347621500492096, 0.4347621500492096, 0.4328134059906006, 0.4328134059906006, 0.42639392614364624, 0.4261667728424072, 0.42098385095596313, 1.0, 0.8745996952056885, 0.8745996952056885, 0.8745996952056885, 0.4910793602466583, 0.41481471061706543, 0.4104619026184082, 0.40435054898262024, 0.40435054898262024, 0.4007968008518219, 0.3958413600921631, 0.3762838542461395, 0.3734525144100189, 0.3542892336845398, 0.351016104221344, 0.34303951263427734, 0.3029131293296814, 0.29492512345314026, 0.29492512345314026, 0.29492512345314026, 0.29492512345314026, 0.29492512345314026, 0.29492512345314026, 0.29492512345314026, 0.29492512345314026, 0.29492512345314026, 0.29492512345314026, 0.29492512345314026, 0.29492512345314026, 0.29492512345314026, 0.29492512345314026, 0.29492512345314026, 0.29492512345314026, 0.29492512345314026, 0.29492512345314026, 0.2942807078361511, 0.2908933162689209, 0.28423643112182617, 0.2730221450328827, 0.272922545671463, 0.2723504900932312, 0.671932578086853, 0.671932578086853, 0.671932578086853, 0.6393064260482788, 0.6171028017997742, 0.5966613292694092, 0.5966613292694092, 0.5966613292694092, 0.5858703851699829, 0.5769952535629272, 0.5735686421394348, 0.5536295175552368, 0.5489581227302551, 0.5456032752990723, 0.5447999238967896, 0.5268079042434692, 0.5261547565460205, 0.5179108381271362, 0.47979259490966797, 0.47979259490966797, 0.4671216607093811, 0.46554771065711975, 0.46402135491371155, 0.4612697958946228, 0.45204538106918335, 0.45204538106918335, 0.44794076681137085, 0.44396910071372986, 0.4434715509414673, 0.4307169020175934, 0.4307169020175934, 0.4307169020175934, 0.4307169020175934, 0.4283427596092224, 0.4262499213218689, 0.42581653594970703, 0.42314478754997253, 0.41892150044441223, 0.4122880697250366, 0.4118790030479431, 0.40779179334640503, 0.671932578086853, 0.671932578086853, 0.671932578086853, 0.6393064260482788, 0.6171028017997742, 0.5966613292694092, 0.5966613292694092, 0.5966613292694092, 0.5858703851699829, 0.5769952535629272, 0.5735686421394348, 0.5536295175552368, 0.5489581227302551, 0.5456032752990723, 0.5447999238967896, 0.5268079042434692, 0.5261547565460205, 0.5179108381271362, 0.47979259490966797, 0.47979259490966797, 0.4671216607093811, 0.46554771065711975, 0.46402135491371155, 0.4612697958946228, 0.45204538106918335, 0.45204538106918335, 0.44794076681137085, 0.44396910071372986, 0.4434715509414673, 0.4307169020175934, 0.4307169020175934, 0.4307169020175934, 0.4307169020175934, 0.4283427596092224, 0.4262499213218689, 0.42581653594970703, 0.42314478754997253, 0.41892150044441223, 0.4122880697250366, 0.4118790030479431, 0.40779179334640503, 0.7182213664054871, 0.7182213664054871, 0.7182213664054871, 0.6871287822723389, 0.6377647519111633, 0.6377647519111633, 0.6377647519111633, 0.5917685031890869, 0.5858621001243591, 0.5624010562896729, 0.5434674620628357, 0.5434674620628357, 0.5401483774185181, 0.5196938514709473, 0.5103603601455688, 0.505449652671814, 0.5024617314338684, 0.5024584531784058, 0.4993012547492981, 0.49808192253112793, 0.49808192253112793, 0.49808192253112793, 0.49304625391960144, 0.48505493998527527, 0.4809921383857727, 0.47915318608283997, 0.4787634611129761, 0.474021852016449, 0.46792736649513245, 0.4663476347923279, 0.4551506042480469, 0.4477806091308594, 0.4375235438346863, 0.43588414788246155, 0.4347621500492096, 0.4347621500492096, 0.4328134059906006, 0.4328134059906006, 0.42639392614364624, 0.4261667728424072, 0.42098385095596313, 1.0, 0.8745996952056885, 0.8745996952056885, 0.8745996952056885, 0.4910793602466583, 0.41481471061706543, 0.4104619026184082, 0.40435054898262024, 0.40435054898262024, 0.4007968008518219, 0.3958413600921631, 0.3762838542461395, 0.3734525144100189, 0.3542892336845398, 0.351016104221344, 0.34303951263427734, 0.3029131293296814, 0.29492512345314026, 0.29492512345314026, 0.29492512345314026, 0.29492512345314026, 0.29492512345314026, 0.29492512345314026, 0.29492512345314026, 0.29492512345314026, 0.29492512345314026, 0.29492512345314026, 0.29492512345314026, 0.29492512345314026, 0.29492512345314026, 0.29492512345314026, 0.29492512345314026, 0.29492512345314026, 0.29492512345314026, 0.29492512345314026, 0.2942807078361511, 0.2908933162689209, 0.28423643112182617, 0.2730221450328827, 0.272922545671463, 0.2723504900932312, 0.671932578086853, 0.671932578086853, 0.671932578086853, 0.6393064260482788, 0.6171028017997742, 0.5966613292694092, 0.5966613292694092, 0.5966613292694092, 0.5858703851699829, 0.5769952535629272, 0.5735686421394348, 0.5536295175552368, 0.5489581227302551, 0.5456032752990723, 0.5447999238967896, 0.5268079042434692, 0.5261547565460205, 0.5179108381271362, 0.47979259490966797, 0.47979259490966797, 0.4671216607093811, 0.46554771065711975, 0.46402135491371155, 0.4612697958946228, 0.45204538106918335, 0.45204538106918335, 0.44794076681137085, 0.44396910071372986, 0.4434715509414673, 0.4307169020175934, 0.4307169020175934, 0.4307169020175934, 0.4307169020175934, 0.4283427596092224, 0.4262499213218689, 0.42581653594970703, 0.42314478754997253, 0.41892150044441223, 0.4122880697250366, 0.4118790030479431, 0.40779179334640503, 0.6279834508895874, 0.6279834508895874, 0.5206419825553894, 0.5099194049835205, 0.5012468695640564, 0.47898828983306885, 0.47467702627182007, 0.47025254368782043, 0.47025254368782043, 0.4638475775718689, 0.4591386318206787, 0.45862483978271484, 0.44122403860092163, 0.4386751651763916, 0.4386751651763916, 0.4364922344684601, 0.4311050772666931, 0.42996108531951904, 0.42996108531951904, 0.4221450388431549, 0.41933345794677734, 0.4173918664455414, 0.41194748878479004, 0.41194748878479004, 0.40288183093070984, 0.39641278982162476, 0.3932174742221832, 0.3932174742221832, 0.3924599587917328, 0.3894571363925934, 0.38828566670417786, 0.38816213607788086, 0.38816213607788086, 0.3841068744659424, 0.38051754236221313, 0.37989306449890137, 0.37516772747039795, 0.3749164640903473, 0.37436434626579285, 0.3725411891937256, 0.372050940990448, 0.5862755179405212, 0.5433451533317566, 0.5433451533317566, 0.5393708348274231, 0.5345160961151123, 0.5223214626312256, 0.5170189142227173, 0.5164402723312378, 0.4915176033973694, 0.4841631352901459, 0.4841631352901459, 0.4721957743167877, 0.4700094163417816, 0.46387869119644165, 0.46387869119644165, 0.4536702036857605, 0.44971388578414917, 0.44971388578414917, 0.44638562202453613, 0.4427875280380249, 0.4427875280380249, 0.4419345259666443, 0.43723398447036743, 0.43709489703178406, 0.43709489703178406, 0.4352526366710663, 0.43252843618392944, 0.42778342962265015, 0.4248931407928467, 0.4224624037742615, 0.4215576946735382, 0.41950470209121704, 0.41895267367362976, 0.41895267367362976, 0.4176899492740631, 0.4176899492740631, 0.41468310356140137, 0.4142822027206421, 0.4142822027206421, 0.4128388464450836, 0.4109843969345093, 1.0, 1.0, 1.0, 1.0, 1.0, 1.0, 1.0, 1.0, 1.0, 1.0, 1.0, 1.0, 1.0, 1.0, 1.0, 1.0, 1.0, 1.0, 1.0, 1.0, 1.0, 1.0, 0.9095335006713867, 0.9024481177330017, 0.8536015152931213, 0.8425029516220093, 0.7670515179634094, 0.75681471824646, 0.748068630695343, 0.674162745475769, 0.674162745475769, 0.659228503704071, 0.6569257378578186, 0.6569257378578186, 0.64683598279953, 0.64683598279953, 0.6460682153701782, 0.634152889251709, 0.6250115633010864, 0.6217115521430969, 0.6034641265869141, 0.6306212544441223, 0.6306212544441223, 0.5253084897994995, 0.5095118880271912, 0.5075432062149048, 0.4908892512321472, 0.4908892512321472, 0.4794307053089142, 0.4794307053089142, 0.4719527065753937, 0.4693381190299988, 0.4692791998386383, 0.46351292729377747, 0.4529363811016083, 0.4473446011543274, 0.44630196690559387, 0.4387625753879547, 0.4386386275291443, 0.4386386275291443, 0.43800088763237, 0.4336804449558258, 0.4322941303253174, 0.43218550086021423, 0.43218550086021423, 0.43131303787231445, 0.42358505725860596, 0.4174671769142151, 0.4174671769142151, 0.41390344500541687, 0.41390344500541687, 0.41241684556007385, 0.4035681486129761, 0.40262770652770996, 0.40188026428222656, 0.40188026428222656, 0.4014492928981781, 0.40112799406051636, 0.39808446168899536, 0.3978121876716614, 0.3975904583930969, 0.39652612805366516, 0.6279834508895874, 0.6279834508895874, 0.5206419825553894, 0.5099194049835205, 0.5012468695640564, 0.47898828983306885, 0.47467702627182007, 0.47025254368782043, 0.47025254368782043, 0.4638475775718689, 0.4591386318206787, 0.45862483978271484, 0.44122403860092163, 0.4386751651763916, 0.4386751651763916, 0.4364922344684601, 0.4311050772666931, 0.42996108531951904, 0.42996108531951904, 0.4221450388431549, 0.41933345794677734, 0.4173918664455414, 0.41194748878479004, 0.41194748878479004, 0.40288183093070984, 0.39641278982162476, 0.3932174742221832, 0.3932174742221832, 0.3924599587917328, 0.3894571363925934, 0.38828566670417786, 0.38816213607788086, 0.38816213607788086, 0.3841068744659424, 0.38051754236221313, 0.37989306449890137, 0.37516772747039795, 0.3749164640903473, 0.37436434626579285, 0.3725411891937256, 0.372050940990448, 0.5862755179405212, 0.5433451533317566, 0.5433451533317566, 0.5393708348274231, 0.5345160961151123, 0.5223214626312256, 0.5170189142227173, 0.5164402723312378, 0.4915176033973694, 0.4841631352901459, 0.4841631352901459, 0.4721957743167877, 0.4700094163417816, 0.46387869119644165, 0.46387869119644165, 0.4536702036857605, 0.44971388578414917, 0.44971388578414917, 0.44638562202453613, 0.4427875280380249, 0.4427875280380249, 0.4419345259666443, 0.43723398447036743, 0.43709489703178406, 0.43709489703178406, 0.4352526366710663, 0.43252843618392944, 0.42778342962265015, 0.4248931407928467, 0.4224624037742615, 0.4215576946735382, 0.41950470209121704, 0.41895267367362976, 0.41895267367362976, 0.4176899492740631, 0.4176899492740631, 0.41468310356140137, 0.4142822027206421, 0.4142822027206421, 0.4128388464450836, 0.4109843969345093, 1.0, 1.0, 1.0, 1.0, 1.0, 1.0, 1.0, 1.0, 1.0, 1.0, 1.0, 1.0, 1.0, 1.0, 1.0, 1.0, 1.0, 1.0, 1.0, 1.0, 1.0, 1.0, 0.9095335006713867, 0.9024481177330017, 0.8536015152931213, 0.8425029516220093, 0.7670515179634094, 0.75681471824646, 0.748068630695343, 0.674162745475769, 0.674162745475769, 0.659228503704071, 0.6569257378578186, 0.6569257378578186, 0.64683598279953, 0.64683598279953, 0.6460682153701782, 0.634152889251709, 0.6250115633010864, 0.6217115521430969, 0.6034641265869141, 0.6306212544441223, 0.6306212544441223, 0.5253084897994995, 0.5095118880271912, 0.5075432062149048, 0.4908892512321472, 0.4908892512321472, 0.4794307053089142, 0.4794307053089142, 0.4719527065753937, 0.4693381190299988, 0.4692791998386383, 0.46351292729377747, 0.4529363811016083, 0.4473446011543274, 0.44630196690559387, 0.4387625753879547, 0.4386386275291443, 0.4386386275291443, 0.43800088763237, 0.4336804449558258, 0.4322941303253174, 0.43218550086021423, 0.43218550086021423, 0.43131303787231445, 0.42358505725860596, 0.4174671769142151, 0.4174671769142151, 0.41390344500541687, 0.41390344500541687, 0.41241684556007385, 0.4035681486129761, 0.40262770652770996, 0.40188026428222656, 0.40188026428222656, 0.4014492928981781, 0.40112799406051636, 0.39808446168899536, 0.3978121876716614, 0.3975904583930969, 0.39652612805366516, 0.737364649772644, 0.6856377124786377, 0.6807243824005127, 0.6258062124252319, 0.6197243928909302, 0.5986068844795227, 0.5887744426727295, 0.5844902396202087, 0.5658991932868958, 0.5608199834823608, 0.5578850507736206, 0.5504027605056763, 0.5504027605056763, 0.5456111431121826, 0.5434761047363281, 0.5396714806556702, 0.5316352844238281, 0.5292213559150696, 0.5292213559150696, 0.5280030965805054, 0.5274408459663391, 0.5147883892059326, 0.5088578462600708, 0.502236008644104, 0.49976325035095215, 0.49323323369026184, 0.4904083013534546, 0.4903082847595215, 0.48572662472724915, 0.48196130990982056, 0.4781475365161896, 0.47661256790161133, 0.47118818759918213, 0.46881192922592163, 0.46881192922592163, 0.4681583046913147, 0.45756080746650696, 0.4567776322364807, 0.45536768436431885, 0.4541735053062439, 0.44636300206184387, 0.7474547028541565, 0.7196893692016602, 0.6929893493652344, 0.6298415660858154, 0.6102272272109985, 0.6096609234809875, 0.5883573293685913, 0.5814591646194458, 0.5665484070777893, 0.5665484070777893, 0.5657106041908264, 0.5652443170547485, 0.5512853860855103, 0.551243007183075, 0.551243007183075, 0.5209566354751587, 0.5180035829544067, 0.51166832447052, 0.5110658407211304, 0.504466712474823, 0.5038484930992126, 0.4934786856174469, 0.4837649464607239, 0.4795965552330017, 0.46601027250289917, 0.4604248106479645, 0.4493599534034729, 0.44239121675491333, 0.4420662224292755, 0.43998798727989197, 0.4360671639442444, 0.435616135597229, 0.4314862787723541, 0.42800766229629517, 0.4155239462852478, 0.4140353798866272, 0.4140353798866272, 0.4106448292732239, 0.41032856702804565, 0.4016154408454895, 0.400574266910553, 0.3792485296726227, 0.31894826889038086, 0.3140823245048523, 0.29201796650886536, 0.26857075095176697, 0.25151771306991577, 0.23256291449069977, 0.2168668955564499, 0.2125067114830017, 0.21118904650211334, 0.20237432420253754, 0.20044584572315216, 0.19859611988067627, 0.19859611988067627, 0.19859611988067627, 0.19755256175994873, 0.19755256175994873, 0.1970614194869995, 0.19290316104888916, 0.18987980484962463, 0.18987980484962463, 0.1887873113155365, 0.18738681077957153, 0.18738681077957153, 0.18699100613594055, 0.1847667396068573, 0.1847667396068573, 0.1847667396068573, 0.18447482585906982, 0.1834850311279297, 0.182241290807724, 0.182241290807724, 0.1812528520822525, 0.1812528520822525, 0.17970117926597595, 0.1758720576763153, 0.17377859354019165, 0.17376768589019775, 0.17376768589019775, 0.17147210240364075, 0.1705714464187622, 0.8206833600997925, 0.7393083572387695, 0.7162809371948242, 0.6874449253082275, 0.6274558305740356, 0.6001847982406616, 0.5992171168327332, 0.5903264284133911, 0.5724213123321533, 0.5631599426269531, 0.5631599426269531, 0.5622982978820801, 0.5618636608123779, 0.554704487323761, 0.5532786250114441, 0.5518535375595093, 0.5518535375595093, 0.551203727722168, 0.5223746299743652, 0.5171048641204834, 0.5134316682815552, 0.5115529894828796, 0.5101991891860962, 0.503559947013855, 0.49240222573280334, 0.49170100688934326, 0.4916427731513977, 0.48717638850212097, 0.48717638850212097, 0.47786885499954224, 0.4688085913658142, 0.46170175075531006, 0.4587669372558594, 0.45189887285232544, 0.44668346643447876, 0.44336122274398804, 0.44307875633239746, 0.44218409061431885, 0.43709108233451843, 0.43302154541015625, 0.42646583914756775, 0.24456310272216797, 0.23146003484725952, 0.22680674493312836, 0.2264869213104248, 0.19128981232643127, 0.1868109405040741, 0.1863347440958023, 0.1800130009651184, 0.1753763109445572, 0.16536007821559906, 0.16278229653835297, 0.16173696517944336, 0.16103710234165192, 0.16008421778678894, 0.16006876528263092, 0.15826131403446198, 0.15705834329128265, 0.1550084948539734, 0.1519615650177002, 0.14757098257541656, 0.14757098257541656, 0.14701978862285614, 0.14646384119987488, 0.14633798599243164, 0.14515243470668793, 0.14515243470668793, 0.1430828720331192, 0.1430828720331192, 0.14139702916145325, 0.13983801007270813, 0.13526153564453125, 0.13249656558036804, 0.1310960352420807, 0.12376528233289719, 0.12336698919534683, 0.12336698919534683, 0.12336698919534683, 0.12245285511016846, 0.1218218058347702, 0.12062160670757294, 0.11728373169898987, 0.24456310272216797, 0.23146003484725952, 0.22680674493312836, 0.2264869213104248, 0.19128981232643127, 0.1868109405040741, 0.1863347440958023, 0.1800130009651184, 0.1753763109445572, 0.16536007821559906, 0.16278229653835297, 0.16173696517944336, 0.16103710234165192, 0.16008421778678894, 0.16006876528263092, 0.15826131403446198, 0.15705834329128265, 0.1550084948539734, 0.1519615650177002, 0.14757098257541656, 0.14757098257541656, 0.14701978862285614, 0.14646384119987488, 0.14633798599243164, 0.14515243470668793, 0.14515243470668793, 0.1430828720331192, 0.1430828720331192, 0.14139702916145325, 0.13983801007270813, 0.13526153564453125, 0.13249656558036804, 0.1310960352420807, 0.12376528233289719, 0.12336698919534683, 0.12336698919534683, 0.12336698919534683, 0.12245285511016846, 0.1218218058347702, 0.12062160670757294, 0.11728373169898987, 0.317653089761734, 0.24966378509998322, 0.24537532031536102, 0.23058687150478363, 0.22242861986160278, 0.2061278074979782, 0.20271210372447968, 0.190054789185524, 0.1879773586988449, 0.1723746359348297, 0.1701085865497589, 0.16428962349891663, 0.16369330883026123, 0.16064108908176422, 0.1562364250421524, 0.15405969321727753, 0.1365540623664856, 0.12434039264917374, 0.12133806943893433, 0.12111300975084305, 0.11724155396223068, 0.10528253018856049, 0.10166346281766891, 0.09988083690404892, 0.09955473989248276, 0.09676356613636017, 0.09662500023841858, 0.09280730038881302, 0.09150487184524536, 0.08704548329114914, 0.0826367512345314, 0.08026009798049927, 0.08004599809646606, 0.0783180445432663, 0.07315666228532791, 0.07296130806207657, 0.06920624524354935, 0.06920624524354935, 0.06920624524354935, 0.06734324991703033, 0.06558305025100708, 0.338773250579834, 0.338773250579834, 0.29357099533081055, 0.29105597734451294, 0.28378134965896606, 0.27970314025878906, 0.2735859453678131, 0.259429931640625, 0.2513759732246399, 0.2467629313468933, 0.2455277442932129, 0.24175947904586792, 0.23630474507808685, 0.23502139747142792, 0.22563976049423218, 0.22061868011951447, 0.21877525746822357, 0.2136528640985489, 0.21310824155807495, 0.20374876260757446, 0.20269396901130676, 0.19760841131210327, 0.1906907558441162, 0.18675276637077332, 0.18638651072978973, 0.18541952967643738, 0.182901069521904, 0.1796252578496933, 0.17791301012039185, 0.17710575461387634, 0.1733042448759079, 0.17271600663661957, 0.17271600663661957, 0.17040322721004486, 0.16951172053813934, 0.1681443303823471, 0.16663594543933868, 0.16600866615772247, 0.16600866615772247, 0.16596916317939758, 0.1632896214723587, 0.7866190671920776, 0.7133381962776184, 0.6981043815612793, 0.6733853220939636, 0.6666489839553833, 0.6545921564102173, 0.6539875268936157, 0.6490747332572937, 0.641728401184082, 0.6415983438491821, 0.639742374420166, 0.6388681530952454, 0.6260939240455627, 0.6260939240455627, 0.6126535534858704, 0.6126535534858704, 0.6118224263191223, 0.6079457402229309, 0.6026312708854675, 0.6016228795051575, 0.6012780070304871, 0.5873797535896301, 0.5866140723228455, 0.5853281617164612, 0.5853281617164612, 0.5842463374137878, 0.5808154344558716, 0.5756494402885437, 0.5746161937713623, 0.5746161937713623, 0.5742497444152832, 0.5742497444152832, 0.5742497444152832, 0.5742497444152832, 0.5736681818962097, 0.5736681818962097, 0.5711235404014587, 0.5709004402160645, 0.5709004402160645, 0.5643946528434753, 0.562434196472168, 0.7403305768966675, 0.6340477466583252, 0.6223862171173096, 0.621105432510376, 0.6084280610084534, 0.604028582572937, 0.604028582572937, 0.5875296592712402, 0.556082546710968, 0.5553728342056274, 0.5521036386489868, 0.5481326580047607, 0.5336582064628601, 0.5221640467643738, 0.5221640467643738, 0.5027503967285156, 0.5002155303955078, 0.49924135208129883, 0.4955741763114929, 0.4908908009529114, 0.48404181003570557, 0.4749619960784912, 0.4708971381187439, 0.463274747133255, 0.45481443405151367, 0.43160244822502136, 0.4270641505718231, 0.41762781143188477, 0.41647475957870483, 0.38684603571891785, 0.369444876909256, 0.3674931526184082, 0.3674931526184082, 0.359231173992157, 0.3445079028606415, 0.3425499200820923, 0.3419404625892639, 0.33851158618927, 0.33530449867248535, 0.3249567747116089, 0.3118324279785156, 0.7004281282424927, 0.6843189597129822, 0.6818827390670776, 0.6670782566070557, 0.6654332876205444, 0.6566680073738098, 0.6378693580627441, 0.6344571709632874, 0.5642497539520264, 0.5369308590888977, 0.5369308590888977, 0.5173803567886353, 0.509488582611084, 0.49795693159103394, 0.4933740794658661, 0.4876161813735962, 0.4850877523422241, 0.4850877523422241, 0.4850877523422241, 0.48472851514816284, 0.48472851514816284, 0.48472851514816284, 0.47777384519577026, 0.47157225012779236, 0.46945297718048096, 0.469338059425354, 0.469338059425354, 0.46872591972351074, 0.46181172132492065, 0.45532482862472534, 0.45532482862472534, 0.44467437267303467, 0.4446500539779663, 0.43706172704696655, 0.4360904395580292, 0.4320284128189087, 0.42231765389442444, 0.4194033145904541, 0.41858816146850586, 0.41753458976745605, 0.40510857105255127, 1.0, 1.0, 1.0, 1.0, 1.0, 1.0, 1.0, 1.0, 1.0, 1.0, 1.0, 1.0, 1.0, 1.0, 1.0, 1.0, 1.0, 1.0, 1.0, 1.0, 1.0, 1.0, 1.0, 0.9095335006713867, 0.9024481177330017, 0.8536015152931213, 0.8425029516220093, 0.7670515179634094, 0.75681471824646, 0.748068630695343, 0.674162745475769, 0.674162745475769, 0.659228503704071, 0.6569257378578186, 0.6569257378578186, 0.64683598279953, 0.64683598279953, 0.6460682153701782, 0.634152889251709, 0.6250115633010864, 0.6217115521430969, 0.7403305768966675, 0.6340477466583252, 0.6223862171173096, 0.621105432510376, 0.6084280610084534, 0.604028582572937, 0.604028582572937, 0.5875296592712402, 0.556082546710968, 0.5553728342056274, 0.5521036386489868, 0.5481326580047607, 0.5336582064628601, 0.5221640467643738, 0.5221640467643738, 0.5027503967285156, 0.5002155303955078, 0.49924135208129883, 0.4955741763114929, 0.4908908009529114, 0.48404181003570557, 0.4749619960784912, 0.4708971381187439, 0.463274747133255, 0.45481443405151367, 0.43160244822502136, 0.4270641505718231, 0.41762781143188477, 0.41647475957870483, 0.38684603571891785, 0.369444876909256, 0.3674931526184082, 0.3674931526184082, 0.359231173992157, 0.3445079028606415, 0.3425499200820923, 0.3419404625892639, 0.33851158618927, 0.33530449867248535, 0.3249567747116089, 0.3118324279785156, 0.5472879409790039, 0.5029743313789368, 0.45897984504699707, 0.4470560550689697, 0.40732860565185547, 0.4019492268562317, 0.3903850317001343, 0.35823553800582886, 0.3580029010772705, 0.3550705909729004, 0.35165396332740784, 0.33986297249794006, 0.3390129804611206, 0.325072318315506, 0.3240618109703064, 0.3240618109703064, 0.3186606764793396, 0.31679975986480713, 0.31679975986480713, 0.31679975986480713, 0.3149639964103699, 0.3124082386493683, 0.3124082386493683, 0.3100692629814148, 0.3051271438598633, 0.3034548759460449, 0.30093008279800415, 0.30093008279800415, 0.2963852286338806, 0.29158616065979004, 0.2901952862739563, 0.2886282205581665, 0.2886282205581665, 0.2865462303161621, 0.2820771038532257, 0.2816629409790039, 0.27893635630607605, 0.27778297662734985, 0.2769547998905182, 0.2756018042564392, 0.2734828591346741, 0.43974465131759644, 0.3709239363670349, 0.3639140725135803, 0.35350921750068665, 0.31712692975997925, 0.31712692975997925, 0.31671929359436035, 0.31671929359436035, 0.31671929359436035, 0.3005324900150299, 0.29998132586479187, 0.29796135425567627, 0.29796135425567627, 0.29796135425567627, 0.29796135425567627, 0.2899121642112732, 0.28430503606796265, 0.27739205956459045, 0.2702856659889221, 0.26888877153396606, 0.26888877153396606, 0.26888877153396606, 0.26810160279273987, 0.26630523800849915, 0.2636011242866516, 0.2604720890522003, 0.2596229612827301, 0.2586410343647003, 0.2586410343647003, 0.2583521008491516, 0.25710049271583557, 0.2545067071914673, 0.24948430061340332, 0.24751943349838257, 0.24107052385807037, 0.24036940932273865, 0.23937982320785522, 0.23937982320785522, 0.23838575184345245, 0.23675857484340668, 0.23504848778247833, 0.6588490009307861, 0.64605313539505, 0.6302794814109802, 0.6077615022659302, 0.5944291353225708, 0.5905712246894836, 0.5285802483558655, 0.5057331323623657, 0.4913831353187561, 0.48953554034233093, 0.4847176671028137, 0.4810890853404999, 0.47228699922561646, 0.4446846842765808, 0.43812286853790283, 0.43778014183044434, 0.42435163259506226, 0.4240347146987915, 0.42054057121276855, 0.4194543659687042, 0.4194502830505371, 0.40484827756881714, 0.3994390666484833, 0.39801639318466187, 0.39342576265335083, 0.3904569745063782, 0.37847772240638733, 0.3770502805709839, 0.37691277265548706, 0.3711276650428772, 0.3690354824066162, 0.36848413944244385, 0.36737000942230225, 0.36585891246795654, 0.3625752031803131, 0.3625752031803131, 0.3594712018966675, 0.35755982995033264, 0.35733744502067566, 0.35527175664901733, 0.3529278635978699, 0.4099956452846527, 0.3287358283996582, 0.3287358283996582, 0.314386785030365, 0.2886560559272766, 0.2734588384628296, 0.26434168219566345, 0.26434168219566345, 0.25494447350502014, 0.2494678795337677, 0.23947039246559143, 0.23206675052642822, 0.23107995092868805, 0.22932520508766174, 0.22476878762245178, 0.21992090344429016, 0.21815863251686096, 0.21689650416374207, 0.2159820795059204, 0.21586564183235168, 0.2150961458683014, 0.21434113383293152, 0.21246106922626495, 0.20957331359386444, 0.20941920578479767, 0.20807920396327972, 0.20725512504577637, 0.20725512504577637, 0.20637229084968567, 0.2049875259399414, 0.2049875259399414, 0.2049875259399414, 0.2049875259399414, 0.2041306495666504, 0.20402519404888153, 0.2038886845111847, 0.2038724273443222, 0.2027948498725891, 0.2027905285358429, 0.20175373554229736, 0.20172925293445587, 0.4314769208431244, 0.40755316615104675, 0.40755316615104675, 0.37506726384162903, 0.36884427070617676, 0.3191756308078766, 0.3163878321647644, 0.3163878321647644, 0.3163878321647644, 0.3163878321647644, 0.30384331941604614, 0.29474276304244995, 0.29383397102355957, 0.28658005595207214, 0.28429150581359863, 0.2756785452365875, 0.2746358811855316, 0.2746358811855316, 0.2688458561897278, 0.26461926102638245, 0.2644707262516022, 0.26365095376968384, 0.2578062415122986, 0.2555806338787079, 0.2534009516239166, 0.25312796235084534, 0.2514001727104187, 0.23950529098510742, 0.23950529098510742, 0.2391553670167923, 0.23690691590309143, 0.23185841739177704, 0.23176509141921997, 0.22815167903900146, 0.22801360487937927, 0.22737669944763184, 0.22136043012142181, 0.2190621942281723, 0.218071848154068, 0.21638451516628265, 0.2158140242099762, 0.5777548551559448, 0.5029345750808716, 0.48229795694351196, 0.4822429120540619, 0.4709867835044861, 0.4562682509422302, 0.4553653597831726, 0.4513205289840698, 0.4469163715839386, 0.44390803575515747, 0.44072529673576355, 0.44072529673576355, 0.43075674772262573, 0.4274151921272278, 0.4242461323738098, 0.4172886908054352, 0.4153132140636444, 0.4147357642650604, 0.4147357642650604, 0.4145772457122803, 0.4128830134868622, 0.40991854667663574, 0.39855945110321045, 0.39598459005355835, 0.3913096487522125, 0.38974621891975403, 0.38974621891975403, 0.38974621891975403, 0.3870215117931366, 0.38690733909606934, 0.3863242566585541, 0.3844192326068878, 0.3769562244415283, 0.3769562244415283, 0.37593477964401245, 0.37118658423423767, 0.3701058626174927, 0.3692697286605835, 0.3680422902107239, 0.3680422902107239, 0.3680422902107239, 0.5057730078697205, 0.4951644539833069, 0.49282339215278625, 0.4792898893356323, 0.46113523840904236, 0.4605558514595032, 0.4560645520687103, 0.4359719753265381, 0.4359719753265381, 0.4307561218738556, 0.41824132204055786, 0.40315544605255127, 0.3918156325817108, 0.389659583568573, 0.38385745882987976, 0.3821132481098175, 0.37675005197525024, 0.37573012709617615, 0.37454909086227417, 0.3654344081878662, 0.36261868476867676, 0.36146628856658936, 0.36146628856658936, 0.35923147201538086, 0.3543815016746521, 0.35062235593795776, 0.3476395308971405, 0.3421338200569153, 0.34089767932891846, 0.3381704092025757, 0.3381704092025757, 0.33814388513565063, 0.3317505121231079, 0.32817161083221436, 0.3274303078651428, 0.3274303078651428, 0.32322943210601807, 0.3217337727546692, 0.3208632171154022, 0.3193611800670624, 0.3162614703178406, 0.4354981482028961, 0.42636361718177795, 0.424347847700119, 0.4126947820186615, 0.39706259965896606, 0.39656370878219604, 0.39269644021987915, 0.37539568543434143, 0.37539568543434143, 0.36012861132621765, 0.3471388518810272, 0.3374931216239929, 0.3355181813240051, 0.33052220940589905, 0.3244023323059082, 0.32352414727211, 0.32250720262527466, 0.3146589398384094, 0.31223446130752563, 0.3112422227859497, 0.3112422227859497, 0.3051418364048004, 0.3019050061702728, 0.29933661222457886, 0.2945958971977234, 0.2911831736564636, 0.2911831736564636, 0.29116031527519226, 0.2825736701488495, 0.28193536400794983, 0.28193536400794983, 0.2783181965351105, 0.2770303189754486, 0.2762807309627533, 0.2749873995780945, 0.27231839299201965, 0.267220675945282, 0.26476919651031494, 0.2644500434398651, 0.2644500434398651, 0.2625240683555603, 0.40545573830604553, 0.3238741159439087, 0.3185555338859558, 0.29007992148399353, 0.2745935022830963, 0.2595444619655609, 0.2577629089355469, 0.25100478529930115, 0.24993294477462769, 0.23791134357452393, 0.23074522614479065, 0.22651442885398865, 0.22651442885398865, 0.2230226844549179, 0.21864160895347595, 0.2146993726491928, 0.19698703289031982, 0.19572898745536804, 0.1930176466703415, 0.18434655666351318, 0.18294791877269745, 0.18294791877269745, 0.18294791877269745, 0.18183594942092896, 0.181544229388237, 0.17480632662773132, 0.1721179038286209, 0.1721179038286209, 0.16693030297756195, 0.16693030297756195, 0.16276489198207855, 0.16276489198207855, 0.159671813249588, 0.15883216261863708, 0.1502830684185028, 0.14788615703582764, 0.14619408547878265, 0.14448708295822144, 0.14330241084098816, 0.1421421468257904, 0.1421421468257904, 0.5057730078697205, 0.4951644539833069, 0.49282339215278625, 0.4792898893356323, 0.46113523840904236, 0.4605558514595032, 0.4560645520687103, 0.4359719753265381, 0.4359719753265381, 0.4307561218738556, 0.41824132204055786, 0.40315544605255127, 0.3918156325817108, 0.389659583568573, 0.38385745882987976, 0.3821132481098175, 0.37675005197525024, 0.37573012709617615, 0.37454909086227417, 0.3654344081878662, 0.36261868476867676, 0.36146628856658936, 0.36146628856658936, 0.35923147201538086, 0.3543815016746521, 0.35062235593795776, 0.3476395308971405, 0.3421338200569153, 0.34089767932891846, 0.3381704092025757, 0.3381704092025757, 0.33814388513565063, 0.3317505121231079, 0.32817161083221436, 0.3274303078651428, 0.3274303078651428, 0.32322943210601807, 0.3217337727546692, 0.3208632171154022, 0.3193611800670624, 0.3162614703178406, 0.9198062419891357, 0.9198062419891357, 0.9198062419891357, 0.8617852926254272, 0.8248757719993591, 0.7512667775154114, 0.7177664041519165, 0.7177664041519165, 0.7177664041519165, 0.7022572755813599, 0.6327182650566101, 0.6279633045196533, 0.6181548833847046, 0.5918945074081421, 0.5784757137298584, 0.577090322971344, 0.577090322971344, 0.575839638710022, 0.5622116327285767, 0.5599520206451416, 0.5599520206451416, 0.544101357460022, 0.5409418940544128, 0.5409418940544128, 0.5392398834228516, 0.5392398834228516, 0.5322546362876892, 0.524082362651825, 0.5013011693954468, 0.5005691647529602, 0.49944016337394714, 0.49881982803344727, 0.49808192253112793, 0.49808192253112793, 0.4980747103691101, 0.4961908459663391, 0.4961908459663391, 0.4914979338645935, 0.48914793133735657, 0.4872303903102875, 0.4850877523422241, 0.9198062419891357, 0.9198062419891357, 0.9198062419891357, 0.8617852926254272, 0.8248757719993591, 0.7512667775154114, 0.7177664041519165, 0.7177664041519165, 0.7177664041519165, 0.7022572755813599, 0.6327182650566101, 0.6279633045196533, 0.6181548833847046, 0.5918945074081421, 0.5784757137298584, 0.577090322971344, 0.577090322971344, 0.575839638710022, 0.5622116327285767, 0.5599520206451416, 0.5599520206451416, 0.544101357460022, 0.5409418940544128, 0.5409418940544128, 0.5392398834228516, 0.5392398834228516, 0.5322546362876892, 0.524082362651825, 0.5013011693954468, 0.5005691647529602, 0.49944016337394714, 0.49881982803344727, 0.49808192253112793, 0.49808192253112793, 0.4980747103691101, 0.4961908459663391, 0.4961908459663391, 0.4914979338645935, 0.48914793133735657, 0.4872303903102875, 0.4850877523422241, 0.5075199604034424, 0.2793959081172943, 0.2573454976081848, 0.2573454976081848, 0.2537075877189636, 0.2537075877189636, 0.2454809993505478, 0.23605233430862427, 0.2340395301580429, 0.21837583184242249, 0.21478240191936493, 0.20960751175880432, 0.20960751175880432, 0.20786841213703156, 0.20786841213703156, 0.20170564949512482, 0.1969624012708664, 0.1939937174320221, 0.18676000833511353, 0.1863764375448227, 0.18556402623653412, 0.1804381012916565, 0.1804381012916565, 0.1748020052909851, 0.16668570041656494, 0.16371828317642212, 0.16312077641487122, 0.1615801602602005, 0.16085302829742432, 0.15990732610225677, 0.15990732610225677, 0.1540120542049408, 0.15068775415420532, 0.1504986733198166, 0.1503961682319641, 0.14911776781082153, 0.1479218304157257, 0.1474120318889618, 0.1469186544418335, 0.1469186544418335, 0.14688581228256226, 0.9198062419891357, 0.9198062419891357, 0.9198062419891357, 0.8617852926254272, 0.8248757719993591, 0.7512667775154114, 0.7177664041519165, 0.7177664041519165, 0.7177664041519165, 0.7022572755813599, 0.6327182650566101, 0.6279633045196533, 0.6181548833847046, 0.5918945074081421, 0.5784757137298584, 0.577090322971344, 0.577090322971344, 0.575839638710022, 0.5622116327285767, 0.5599520206451416, 0.5599520206451416, 0.544101357460022, 0.5409418940544128, 0.5409418940544128, 0.5392398834228516, 0.5392398834228516, 0.5322546362876892, 0.524082362651825, 0.5013011693954468, 0.5005691647529602, 0.49944016337394714, 0.49881982803344727, 0.49808192253112793, 0.49808192253112793, 0.4980747103691101, 0.4961908459663391, 0.4961908459663391, 0.4914979338645935, 0.48914793133735657, 0.4872303903102875, 0.4850877523422241, 0.7046223282814026, 0.6987661123275757, 0.6571943759918213, 0.6571943759918213, 0.6499477028846741, 0.6494959592819214, 0.6494959592819214, 0.6411373615264893, 0.6204731464385986, 0.6129235029220581, 0.6039168238639832, 0.595770001411438, 0.5940552353858948, 0.5935219526290894, 0.5931565761566162, 0.5931565761566162, 0.5913830399513245, 0.5913354158401489, 0.5855107307434082, 0.5823675394058228, 0.5806573629379272, 0.5689815282821655, 0.5689815282821655, 0.5620342493057251, 0.5433615446090698, 0.5370185375213623, 0.5370185375213623, 0.5324501395225525, 0.5309268832206726, 0.5271181464195251, 0.5111244916915894, 0.5002330541610718, 0.4971446096897125, 0.49581119418144226, 0.4935365319252014, 0.4931941628456116, 0.4725866913795471, 0.47018855810165405, 0.46585869789123535, 0.459981769323349, 0.4596633315086365, 0.7512118816375732, 0.6151677370071411, 0.6133589744567871, 0.6028932332992554, 0.6028932332992554, 0.5971591472625732, 0.5731472373008728, 0.5731472373008728, 0.5644962787628174, 0.5511810183525085, 0.5504456758499146, 0.5404291152954102, 0.5347095727920532, 0.5218568444252014, 0.5207781195640564, 0.5197449922561646, 0.5172991752624512, 0.5172991752624512, 0.5140934586524963, 0.5123341083526611, 0.5013622045516968, 0.49903833866119385, 0.4927501082420349, 0.4927501082420349, 0.49181973934173584, 0.48596471548080444, 0.47844088077545166, 0.4773566722869873, 0.47339296340942383, 0.46849074959754944, 0.46849074959754944, 0.4678932726383209, 0.46561962366104126, 0.4642382264137268, 0.45752447843551636, 0.4503084421157837, 0.4431343674659729, 0.4372617304325104, 0.43073874711990356, 0.4229903221130371, 0.4200310707092285, 0.677200198173523, 0.5058810710906982, 0.4863871932029724, 0.39222434163093567, 0.3868420422077179, 0.3849389851093292, 0.3568858504295349, 0.3568858504295349, 0.3568073511123657, 0.3265725076198578, 0.3014664649963379, 0.28449633717536926, 0.2818388342857361, 0.2774033546447754, 0.27511855959892273, 0.27127712965011597, 0.26972395181655884, 0.26331281661987305, 0.2631886899471283, 0.2612575888633728, 0.25527989864349365, 0.24549028277397156, 0.24455641210079193, 0.2422414869070053, 0.2414981573820114, 0.23990067839622498, 0.23431262373924255, 0.23281387984752655, 0.23281387984752655, 0.23126311600208282, 0.2273283451795578, 0.22647278010845184, 0.22344155609607697, 0.22022591531276703, 0.21943603456020355, 0.21807192265987396, 0.2170119285583496, 0.2150583565235138, 0.21268384158611298, 0.21136125922203064, 0.20901399850845337, 0.7360569834709167, 0.7360569834709167, 0.6793774366378784, 0.6737310290336609, 0.6636945009231567, 0.6572176218032837, 0.6336487531661987, 0.6336487531661987, 0.6266616582870483, 0.6114234924316406, 0.6104634404182434, 0.5969380140304565, 0.5909639596939087, 0.582988440990448, 0.5822799801826477, 0.5744249820709229, 0.5727716684341431, 0.5719053149223328, 0.5719053149223328, 0.570149302482605, 0.5581436157226562, 0.5485963821411133, 0.5485963821411133, 0.5440364480018616, 0.543280303478241, 0.5350346565246582, 0.5245307087898254, 0.5183910131454468, 0.5177785158157349, 0.5177785158157349, 0.5165412425994873, 0.5119050741195679, 0.5102693438529968, 0.5067514777183533, 0.5046164989471436, 0.49240222573280334, 0.482310950756073, 0.4758543372154236, 0.47281795740127563, 0.4677804112434387, 0.4666283130645752, 0.27065205574035645, 0.25157803297042847, 0.240928515791893, 0.21880850195884705, 0.21433845162391663, 0.202838733792305, 0.202838733792305, 0.20245690643787384, 0.19496698677539825, 0.19496698677539825, 0.1911318302154541, 0.19020536541938782, 0.18949036300182343, 0.18581584095954895, 0.18464295566082, 0.18453845381736755, 0.18453845381736755, 0.18453845381736755, 0.17391452193260193, 0.17209890484809875, 0.1702808439731598, 0.16930009424686432, 0.16839322447776794, 0.16499656438827515, 0.16399961709976196, 0.1610499620437622, 0.1610499620437622, 0.15961702167987823, 0.15961702167987823, 0.15943117439746857, 0.15718168020248413, 0.15718168020248413, 0.15542303025722504, 0.15371090173721313, 0.1536233127117157, 0.152162566781044, 0.152162566781044, 0.14749568700790405, 0.1469079703092575, 0.1462520956993103, 0.14558035135269165, 0.2816784083843231, 0.261827290058136, 0.2572479248046875, 0.2572479248046875, 0.25635477900505066, 0.25074392557144165, 0.22772273421287537, 0.22307057678699493, 0.21110235154628754, 0.21110235154628754, 0.19795429706573486, 0.1972101628780365, 0.1957860291004181, 0.19338595867156982, 0.1921652853488922, 0.19205652177333832, 0.19205652177333832, 0.19205652177333832, 0.1809997707605362, 0.17911019921302795, 0.176197350025177, 0.1731104701757431, 0.1706809401512146, 0.166119784116745, 0.166119784116745, 0.16592638194561005, 0.16358524560928345, 0.16358524560928345, 0.15997305512428284, 0.15988190472126007, 0.15890410542488098, 0.15836164355278015, 0.15836164355278015, 0.1546836942434311, 0.1546836942434311, 0.15289299190044403, 0.15221038460731506, 0.1515112817287445, 0.14937818050384521, 0.1468997597694397, 0.14681294560432434, 0.42256051301956177, 0.3469998836517334, 0.3431532382965088, 0.29008880257606506, 0.2558547258377075, 0.24586182832717896, 0.23241189122200012, 0.231449693441391, 0.2126539945602417, 0.19993072748184204, 0.19735121726989746, 0.19735121726989746, 0.1922752559185028, 0.1866929829120636, 0.1866929829120636, 0.17402952909469604, 0.1731722354888916, 0.17113663256168365, 0.16403548419475555, 0.15662403404712677, 0.15662403404712677, 0.15481962263584137, 0.15440890192985535, 0.14763566851615906, 0.14763566851615906, 0.14735063910484314, 0.14662641286849976, 0.14057135581970215, 0.1391867697238922, 0.13895688951015472, 0.13563814759254456, 0.13563814759254456, 0.1349715143442154, 0.13453489542007446, 0.13453489542007446, 0.13451354205608368, 0.13447143137454987, 0.13252609968185425, 0.13083668053150177, 0.126755028963089, 0.12653830647468567, 0.2816784083843231, 0.261827290058136, 0.2572479248046875, 0.2572479248046875, 0.25635477900505066, 0.25074392557144165, 0.22772273421287537, 0.22307057678699493, 0.21110235154628754, 0.21110235154628754, 0.19795429706573486, 0.1972101628780365, 0.1957860291004181, 0.19338595867156982, 0.1921652853488922, 0.19205652177333832, 0.19205652177333832, 0.19205652177333832, 0.1809997707605362, 0.17911019921302795, 0.176197350025177, 0.1731104701757431, 0.1706809401512146, 0.166119784116745, 0.166119784116745, 0.16592638194561005, 0.16358524560928345, 0.16358524560928345, 0.15997305512428284, 0.15988190472126007, 0.15890410542488098, 0.15836164355278015, 0.15836164355278015, 0.1546836942434311, 0.1546836942434311, 0.15289299190044403, 0.15221038460731506, 0.1515112817287445, 0.14937818050384521, 0.1468997597694397, 0.14681294560432434], \"xaxis\": \"x\", \"yaxis\": \"y\"}],\n",
              "                        {\"barmode\": \"relative\", \"legend\": {\"tracegroupgap\": 0}, \"template\": {\"data\": {\"bar\": [{\"error_x\": {\"color\": \"#2a3f5f\"}, \"error_y\": {\"color\": \"#2a3f5f\"}, \"marker\": {\"line\": {\"color\": \"#E5ECF6\", \"width\": 0.5}}, \"type\": \"bar\"}], \"barpolar\": [{\"marker\": {\"line\": {\"color\": \"#E5ECF6\", \"width\": 0.5}}, \"type\": \"barpolar\"}], \"carpet\": [{\"aaxis\": {\"endlinecolor\": \"#2a3f5f\", \"gridcolor\": \"white\", \"linecolor\": \"white\", \"minorgridcolor\": \"white\", \"startlinecolor\": \"#2a3f5f\"}, \"baxis\": {\"endlinecolor\": \"#2a3f5f\", \"gridcolor\": \"white\", \"linecolor\": \"white\", \"minorgridcolor\": \"white\", \"startlinecolor\": \"#2a3f5f\"}, \"type\": \"carpet\"}], \"choropleth\": [{\"colorbar\": {\"outlinewidth\": 0, \"ticks\": \"\"}, \"type\": \"choropleth\"}], \"contour\": [{\"colorbar\": {\"outlinewidth\": 0, \"ticks\": \"\"}, \"colorscale\": [[0.0, \"#0d0887\"], [0.1111111111111111, \"#46039f\"], [0.2222222222222222, \"#7201a8\"], [0.3333333333333333, \"#9c179e\"], [0.4444444444444444, \"#bd3786\"], [0.5555555555555556, \"#d8576b\"], [0.6666666666666666, \"#ed7953\"], [0.7777777777777778, \"#fb9f3a\"], [0.8888888888888888, \"#fdca26\"], [1.0, \"#f0f921\"]], \"type\": \"contour\"}], \"contourcarpet\": [{\"colorbar\": {\"outlinewidth\": 0, \"ticks\": \"\"}, \"type\": \"contourcarpet\"}], \"heatmap\": [{\"colorbar\": {\"outlinewidth\": 0, \"ticks\": \"\"}, \"colorscale\": [[0.0, \"#0d0887\"], [0.1111111111111111, \"#46039f\"], [0.2222222222222222, \"#7201a8\"], [0.3333333333333333, \"#9c179e\"], [0.4444444444444444, \"#bd3786\"], [0.5555555555555556, \"#d8576b\"], [0.6666666666666666, \"#ed7953\"], [0.7777777777777778, \"#fb9f3a\"], [0.8888888888888888, \"#fdca26\"], [1.0, \"#f0f921\"]], \"type\": \"heatmap\"}], \"heatmapgl\": [{\"colorbar\": {\"outlinewidth\": 0, \"ticks\": \"\"}, \"colorscale\": [[0.0, \"#0d0887\"], [0.1111111111111111, \"#46039f\"], [0.2222222222222222, \"#7201a8\"], [0.3333333333333333, \"#9c179e\"], [0.4444444444444444, \"#bd3786\"], [0.5555555555555556, \"#d8576b\"], [0.6666666666666666, \"#ed7953\"], [0.7777777777777778, \"#fb9f3a\"], [0.8888888888888888, \"#fdca26\"], [1.0, \"#f0f921\"]], \"type\": \"heatmapgl\"}], \"histogram\": [{\"marker\": {\"colorbar\": {\"outlinewidth\": 0, \"ticks\": \"\"}}, \"type\": \"histogram\"}], \"histogram2d\": [{\"colorbar\": {\"outlinewidth\": 0, \"ticks\": \"\"}, \"colorscale\": [[0.0, \"#0d0887\"], [0.1111111111111111, \"#46039f\"], [0.2222222222222222, \"#7201a8\"], [0.3333333333333333, \"#9c179e\"], [0.4444444444444444, \"#bd3786\"], [0.5555555555555556, \"#d8576b\"], [0.6666666666666666, \"#ed7953\"], [0.7777777777777778, \"#fb9f3a\"], [0.8888888888888888, \"#fdca26\"], [1.0, \"#f0f921\"]], \"type\": \"histogram2d\"}], \"histogram2dcontour\": [{\"colorbar\": {\"outlinewidth\": 0, \"ticks\": \"\"}, \"colorscale\": [[0.0, \"#0d0887\"], [0.1111111111111111, \"#46039f\"], [0.2222222222222222, \"#7201a8\"], [0.3333333333333333, \"#9c179e\"], [0.4444444444444444, \"#bd3786\"], [0.5555555555555556, \"#d8576b\"], [0.6666666666666666, \"#ed7953\"], [0.7777777777777778, \"#fb9f3a\"], [0.8888888888888888, \"#fdca26\"], [1.0, \"#f0f921\"]], \"type\": \"histogram2dcontour\"}], \"mesh3d\": [{\"colorbar\": {\"outlinewidth\": 0, \"ticks\": \"\"}, \"type\": \"mesh3d\"}], \"parcoords\": [{\"line\": {\"colorbar\": {\"outlinewidth\": 0, \"ticks\": \"\"}}, \"type\": \"parcoords\"}], \"pie\": [{\"automargin\": true, \"type\": \"pie\"}], \"scatter\": [{\"marker\": {\"colorbar\": {\"outlinewidth\": 0, \"ticks\": \"\"}}, \"type\": \"scatter\"}], \"scatter3d\": [{\"line\": {\"colorbar\": {\"outlinewidth\": 0, \"ticks\": \"\"}}, \"marker\": {\"colorbar\": {\"outlinewidth\": 0, \"ticks\": \"\"}}, \"type\": \"scatter3d\"}], \"scattercarpet\": [{\"marker\": {\"colorbar\": {\"outlinewidth\": 0, \"ticks\": \"\"}}, \"type\": \"scattercarpet\"}], \"scattergeo\": [{\"marker\": {\"colorbar\": {\"outlinewidth\": 0, \"ticks\": \"\"}}, \"type\": \"scattergeo\"}], \"scattergl\": [{\"marker\": {\"colorbar\": {\"outlinewidth\": 0, \"ticks\": \"\"}}, \"type\": \"scattergl\"}], \"scattermapbox\": [{\"marker\": {\"colorbar\": {\"outlinewidth\": 0, \"ticks\": \"\"}}, \"type\": \"scattermapbox\"}], \"scatterpolar\": [{\"marker\": {\"colorbar\": {\"outlinewidth\": 0, \"ticks\": \"\"}}, \"type\": \"scatterpolar\"}], \"scatterpolargl\": [{\"marker\": {\"colorbar\": {\"outlinewidth\": 0, \"ticks\": \"\"}}, \"type\": \"scatterpolargl\"}], \"scatterternary\": [{\"marker\": {\"colorbar\": {\"outlinewidth\": 0, \"ticks\": \"\"}}, \"type\": \"scatterternary\"}], \"surface\": [{\"colorbar\": {\"outlinewidth\": 0, \"ticks\": \"\"}, \"colorscale\": [[0.0, \"#0d0887\"], [0.1111111111111111, \"#46039f\"], [0.2222222222222222, \"#7201a8\"], [0.3333333333333333, \"#9c179e\"], [0.4444444444444444, \"#bd3786\"], [0.5555555555555556, \"#d8576b\"], [0.6666666666666666, \"#ed7953\"], [0.7777777777777778, \"#fb9f3a\"], [0.8888888888888888, \"#fdca26\"], [1.0, \"#f0f921\"]], \"type\": \"surface\"}], \"table\": [{\"cells\": {\"fill\": {\"color\": \"#EBF0F8\"}, \"line\": {\"color\": \"white\"}}, \"header\": {\"fill\": {\"color\": \"#C8D4E3\"}, \"line\": {\"color\": \"white\"}}, \"type\": \"table\"}]}, \"layout\": {\"annotationdefaults\": {\"arrowcolor\": \"#2a3f5f\", \"arrowhead\": 0, \"arrowwidth\": 1}, \"coloraxis\": {\"colorbar\": {\"outlinewidth\": 0, \"ticks\": \"\"}}, \"colorscale\": {\"diverging\": [[0, \"#8e0152\"], [0.1, \"#c51b7d\"], [0.2, \"#de77ae\"], [0.3, \"#f1b6da\"], [0.4, \"#fde0ef\"], [0.5, \"#f7f7f7\"], [0.6, \"#e6f5d0\"], [0.7, \"#b8e186\"], [0.8, \"#7fbc41\"], [0.9, \"#4d9221\"], [1, \"#276419\"]], \"sequential\": [[0.0, \"#0d0887\"], [0.1111111111111111, \"#46039f\"], [0.2222222222222222, \"#7201a8\"], [0.3333333333333333, \"#9c179e\"], [0.4444444444444444, \"#bd3786\"], [0.5555555555555556, \"#d8576b\"], [0.6666666666666666, \"#ed7953\"], [0.7777777777777778, \"#fb9f3a\"], [0.8888888888888888, \"#fdca26\"], [1.0, \"#f0f921\"]], \"sequentialminus\": [[0.0, \"#0d0887\"], [0.1111111111111111, \"#46039f\"], [0.2222222222222222, \"#7201a8\"], [0.3333333333333333, \"#9c179e\"], [0.4444444444444444, \"#bd3786\"], [0.5555555555555556, \"#d8576b\"], [0.6666666666666666, \"#ed7953\"], [0.7777777777777778, \"#fb9f3a\"], [0.8888888888888888, \"#fdca26\"], [1.0, \"#f0f921\"]]}, \"colorway\": [\"#636efa\", \"#EF553B\", \"#00cc96\", \"#ab63fa\", \"#FFA15A\", \"#19d3f3\", \"#FF6692\", \"#B6E880\", \"#FF97FF\", \"#FECB52\"], \"font\": {\"color\": \"#2a3f5f\"}, \"geo\": {\"bgcolor\": \"white\", \"lakecolor\": \"white\", \"landcolor\": \"#E5ECF6\", \"showlakes\": true, \"showland\": true, \"subunitcolor\": \"white\"}, \"hoverlabel\": {\"align\": \"left\"}, \"hovermode\": \"closest\", \"mapbox\": {\"style\": \"light\"}, \"paper_bgcolor\": \"white\", \"plot_bgcolor\": \"#E5ECF6\", \"polar\": {\"angularaxis\": {\"gridcolor\": \"white\", \"linecolor\": \"white\", \"ticks\": \"\"}, \"bgcolor\": \"#E5ECF6\", \"radialaxis\": {\"gridcolor\": \"white\", \"linecolor\": \"white\", \"ticks\": \"\"}}, \"scene\": {\"xaxis\": {\"backgroundcolor\": \"#E5ECF6\", \"gridcolor\": \"white\", \"gridwidth\": 2, \"linecolor\": \"white\", \"showbackground\": true, \"ticks\": \"\", \"zerolinecolor\": \"white\"}, \"yaxis\": {\"backgroundcolor\": \"#E5ECF6\", \"gridcolor\": \"white\", \"gridwidth\": 2, \"linecolor\": \"white\", \"showbackground\": true, \"ticks\": \"\", \"zerolinecolor\": \"white\"}, \"zaxis\": {\"backgroundcolor\": \"#E5ECF6\", \"gridcolor\": \"white\", \"gridwidth\": 2, \"linecolor\": \"white\", \"showbackground\": true, \"ticks\": \"\", \"zerolinecolor\": \"white\"}}, \"shapedefaults\": {\"line\": {\"color\": \"#2a3f5f\"}}, \"ternary\": {\"aaxis\": {\"gridcolor\": \"white\", \"linecolor\": \"white\", \"ticks\": \"\"}, \"baxis\": {\"gridcolor\": \"white\", \"linecolor\": \"white\", \"ticks\": \"\"}, \"bgcolor\": \"#E5ECF6\", \"caxis\": {\"gridcolor\": \"white\", \"linecolor\": \"white\", \"ticks\": \"\"}}, \"title\": {\"x\": 0.05}, \"xaxis\": {\"automargin\": true, \"gridcolor\": \"white\", \"linecolor\": \"white\", \"ticks\": \"\", \"title\": {\"standoff\": 15}, \"zerolinecolor\": \"white\", \"zerolinewidth\": 2}, \"yaxis\": {\"automargin\": true, \"gridcolor\": \"white\", \"linecolor\": \"white\", \"ticks\": \"\", \"title\": {\"standoff\": 15}, \"zerolinecolor\": \"white\", \"zerolinewidth\": 2}}}, \"title\": {\"text\": \"Scores for TF-IDF\"}, \"xaxis\": {\"anchor\": \"y\", \"domain\": [0.0, 1.0], \"title\": {\"text\": \"score\"}}, \"yaxis\": {\"anchor\": \"x\", \"domain\": [0.0, 1.0], \"title\": {\"text\": \"count\"}}},\n",
              "                        {\"responsive\": true}\n",
              "                    ).then(function(){\n",
              "                            \n",
              "var gd = document.getElementById('dcee334e-d9e7-4176-911e-b49955334dbb');\n",
              "var x = new MutationObserver(function (mutations, observer) {{\n",
              "        var display = window.getComputedStyle(gd).display;\n",
              "        if (!display || display === 'none') {{\n",
              "            console.log([gd, 'removed!']);\n",
              "            Plotly.purge(gd);\n",
              "            observer.disconnect();\n",
              "        }}\n",
              "}});\n",
              "\n",
              "// Listen for the removal of the full notebook cells\n",
              "var notebookContainer = gd.closest('#notebook-container');\n",
              "if (notebookContainer) {{\n",
              "    x.observe(notebookContainer, {childList: true});\n",
              "}}\n",
              "\n",
              "// Listen for the clearing of the current output cell\n",
              "var outputEl = gd.closest('.output');\n",
              "if (outputEl) {{\n",
              "    x.observe(outputEl, {childList: true});\n",
              "}}\n",
              "\n",
              "                        })\n",
              "                };\n",
              "                \n",
              "            </script>\n",
              "        </div>\n",
              "</body>\n",
              "</html>"
            ]
          },
          "metadata": {}
        }
      ]
    },
    {
      "cell_type": "code",
      "metadata": {
        "id": "QIBvHL1aOnOT"
      },
      "source": [
        "if use_wandb:\n",
        "  wandb.log({\"scores_hist\": fig})"
      ],
      "execution_count": 173,
      "outputs": []
    },
    {
      "cell_type": "code",
      "metadata": {
        "id": "OZ0YfkIO9g5V"
      },
      "source": [
        "def recommend_tune(df, tune_name):\n",
        "\n",
        "  df_tune = df.query(f'reference_title == \"{tune_name}\"')\n",
        "  ff = df_tune.iloc[:]\n",
        "\n",
        "  # get the maximum similarity score for each section and store in new column\n",
        "  ff['max'] = ff.groupby('ref_section')['score'].transform('max')\n",
        "\n",
        "  # scale the score with the maxmum value of each section\n",
        "  ff['score_div_max'] = ff['score'] / ff['max']\n",
        "\n",
        "  # consider only the top N tunes for each group\n",
        "  ff = ff.sort_values(['ref_section', 'score_div_max'], ascending=[True, False])\n",
        "  result = ff.groupby('ref_section').head(30)\n",
        "  \n",
        "  # if multiple rows from the same similar tune, keep only the similar_title with the highest score_div_max\n",
        "  result = result.groupby('similar_title').max('score_div_max').sort_values('score_div_max', ascending=False)\n",
        "  \n",
        "  # add the name of the reference tune\n",
        "  result['reference'] = tune_name\n",
        "  result = result.reset_index()\n",
        "  result = result.loc[:, ['reference', 'similar_title', 'score', 'max', 'score_div_max']]\n",
        "  result = result.reset_index()\n",
        "  return result, ff"
      ],
      "execution_count": 174,
      "outputs": []
    },
    {
      "cell_type": "code",
      "metadata": {
        "colab": {
          "base_uri": "https://localhost:8080/",
          "height": 206
        },
        "id": "ohaxVQ6d9iiD",
        "outputId": "a80bb657-dcd8-4e51-fbd0-b5f7021a3148"
      },
      "source": [
        "result, details = recommend_tune(df_sim, \"These Foolish Things\")\n",
        "result.head(5)"
      ],
      "execution_count": 175,
      "outputs": [
        {
          "output_type": "execute_result",
          "data": {
            "text/html": [
              "<div>\n",
              "<style scoped>\n",
              "    .dataframe tbody tr th:only-of-type {\n",
              "        vertical-align: middle;\n",
              "    }\n",
              "\n",
              "    .dataframe tbody tr th {\n",
              "        vertical-align: top;\n",
              "    }\n",
              "\n",
              "    .dataframe thead th {\n",
              "        text-align: right;\n",
              "    }\n",
              "</style>\n",
              "<table border=\"1\" class=\"dataframe\">\n",
              "  <thead>\n",
              "    <tr style=\"text-align: right;\">\n",
              "      <th></th>\n",
              "      <th>index</th>\n",
              "      <th>reference</th>\n",
              "      <th>similar_title</th>\n",
              "      <th>score</th>\n",
              "      <th>max</th>\n",
              "      <th>score_div_max</th>\n",
              "    </tr>\n",
              "  </thead>\n",
              "  <tbody>\n",
              "    <tr>\n",
              "      <th>0</th>\n",
              "      <td>0</td>\n",
              "      <td>These Foolish Things</td>\n",
              "      <td>More Than You Know</td>\n",
              "      <td>0.677200</td>\n",
              "      <td>0.677200</td>\n",
              "      <td>1.000000</td>\n",
              "    </tr>\n",
              "    <tr>\n",
              "      <th>1</th>\n",
              "      <td>1</td>\n",
              "      <td>These Foolish Things</td>\n",
              "      <td>Too Young To Go Steady</td>\n",
              "      <td>0.751212</td>\n",
              "      <td>0.751212</td>\n",
              "      <td>1.000000</td>\n",
              "    </tr>\n",
              "    <tr>\n",
              "      <th>2</th>\n",
              "      <td>2</td>\n",
              "      <td>These Foolish Things</td>\n",
              "      <td>I Won't Dance</td>\n",
              "      <td>0.704622</td>\n",
              "      <td>0.751212</td>\n",
              "      <td>1.000000</td>\n",
              "    </tr>\n",
              "    <tr>\n",
              "      <th>3</th>\n",
              "      <td>3</td>\n",
              "      <td>These Foolish Things</td>\n",
              "      <td>I Like The Likes Of You</td>\n",
              "      <td>0.736057</td>\n",
              "      <td>0.751212</td>\n",
              "      <td>1.000000</td>\n",
              "    </tr>\n",
              "    <tr>\n",
              "      <th>4</th>\n",
              "      <td>4</td>\n",
              "      <td>These Foolish Things</td>\n",
              "      <td>Emily</td>\n",
              "      <td>0.698766</td>\n",
              "      <td>0.751212</td>\n",
              "      <td>0.991689</td>\n",
              "    </tr>\n",
              "  </tbody>\n",
              "</table>\n",
              "</div>"
            ],
            "text/plain": [
              "   index             reference  ...       max  score_div_max\n",
              "0      0  These Foolish Things  ...  0.677200       1.000000\n",
              "1      1  These Foolish Things  ...  0.751212       1.000000\n",
              "2      2  These Foolish Things  ...  0.751212       1.000000\n",
              "3      3  These Foolish Things  ...  0.751212       1.000000\n",
              "4      4  These Foolish Things  ...  0.751212       0.991689\n",
              "\n",
              "[5 rows x 6 columns]"
            ]
          },
          "metadata": {},
          "execution_count": 175
        }
      ]
    },
    {
      "cell_type": "markdown",
      "metadata": {
        "id": "UveSDI6QWALe"
      },
      "source": [
        "Copy results into a dataframe for later logging to W&B"
      ]
    },
    {
      "cell_type": "code",
      "metadata": {
        "id": "AEEqdXBiT5bl"
      },
      "source": [
        "dd = pd.DataFrame(columns = recommender_results_cols)\n",
        "\n",
        "for tune in tunes_eval_list:\n",
        "  result, details = recommend_tune(df_sim, tune)\n",
        "  dd['id'] = result['index']\n",
        "  dd['method'] = 'tfidf'\n",
        "  dd['reference'] = tune\n",
        "  dd['similar'] = result['similar_title']\n",
        "  dd['score_div_max'] = result['score_div_max']\n",
        "  dd['score'] = result['score']\n",
        "\n",
        "recommender_results = recommender_results.append(dd)"
      ],
      "execution_count": 176,
      "outputs": []
    },
    {
      "cell_type": "markdown",
      "metadata": {
        "id": "Phw7fBDk0px7"
      },
      "source": [
        "Store TF-IDF Model to W&B"
      ]
    },
    {
      "cell_type": "code",
      "metadata": {
        "id": "KdYWJX-60pdd"
      },
      "source": [
        "if use_wandb:\n",
        "  model_artifact = wandb.Artifact(\n",
        "      \"tfidf-model\", \n",
        "      type=\"model\",\n",
        "      description=\"TF-IDF Model\",\n",
        "      metadata=\"\")\n",
        "\n",
        "  model_artifact.add_file(\"/content/index/tfidf.model\")\n",
        "  model_artifact.add_file(\"/content/index/tfidf.index\")\n",
        "  wandb.log_artifact(model_artifact)"
      ],
      "execution_count": 177,
      "outputs": []
    },
    {
      "cell_type": "markdown",
      "metadata": {
        "id": "99xHBRsd--OB"
      },
      "source": [
        "# LSA (Latent Semantic Analysis), aka LSI (Latent Semantic Index) "
      ]
    },
    {
      "cell_type": "code",
      "metadata": {
        "id": "adsW9Uh9_JXs"
      },
      "source": [
        "from collections import defaultdict"
      ],
      "execution_count": 178,
      "outputs": []
    },
    {
      "cell_type": "code",
      "metadata": {
        "colab": {
          "base_uri": "https://localhost:8080/"
        },
        "id": "s3AJZGRD_IHW",
        "outputId": "710f557a-5153-4ad6-95cf-c8569ff988e1"
      },
      "source": [
        "num_topics = lsi_config['num_topics']\n",
        "\n",
        "# remove words that appear only once\n",
        "frequency = defaultdict(int)\n",
        "for text in processed_corpus:\n",
        "    for token in text:\n",
        "        frequency[token] += 1\n",
        "\n",
        "data = [[token for token in text if frequency[token] > 1] for text in processed_corpus]\n",
        "dictionary = corpora.Dictionary(data)\n",
        "\n",
        "# doc2bow counts the number of occurences of each distinct word,\n",
        "# converts the word to its integer word id and returns the result\n",
        "# as a sparse vector\n",
        "\n",
        "bow_corpus = [dictionary.doc2bow(text) for text in data]\n",
        "lsi = LsiModel(bow_corpus, id2word=dictionary, num_topics=num_topics)  # num_topics can be maximum the size of the number of unique tokens"
      ],
      "execution_count": 179,
      "outputs": [
        {
          "output_type": "stream",
          "name": "stderr",
          "text": [
            "2021-11-23 19:49:10,428 : INFO : adding document #0 to Dictionary(0 unique tokens: [])\n",
            "2021-11-23 19:49:10,566 : INFO : built Dictionary(2505 unique tokens: ['Am7-D7', 'B7-EM7', 'C#M7-E7', 'C7-FM7', 'CM7-Eb7']...) from 5391 documents (total 75986 corpus positions)\n",
            "2021-11-23 19:49:10,568 : INFO : Dictionary lifecycle event {'msg': \"built Dictionary(2505 unique tokens: ['Am7-D7', 'B7-EM7', 'C#M7-E7', 'C7-FM7', 'CM7-Eb7']...) from 5391 documents (total 75986 corpus positions)\", 'datetime': '2021-11-23T19:49:10.568849', 'gensim': '4.1.2', 'python': '3.7.12 (default, Sep 10 2021, 00:21:48) \\n[GCC 7.5.0]', 'platform': 'Linux-5.4.104+-x86_64-with-Ubuntu-18.04-bionic', 'event': 'created'}\n",
            "2021-11-23 19:49:10,643 : INFO : using serial LSI version on this node\n",
            "2021-11-23 19:49:10,645 : INFO : updating model with new documents\n",
            "2021-11-23 19:49:10,648 : INFO : preparing a new chunk of documents\n",
            "2021-11-23 19:49:10,688 : INFO : using 100 extra samples and 2 power iterations\n",
            "2021-11-23 19:49:10,693 : INFO : 1st phase: constructing (2505, 300) action matrix\n",
            "2021-11-23 19:49:10,796 : INFO : orthonormalizing (2505, 300) action matrix\n",
            "2021-11-23 19:49:11,183 : INFO : 2nd phase: running dense svd on (300, 5391) matrix\n",
            "2021-11-23 19:49:11,592 : INFO : computing the final decomposition\n",
            "2021-11-23 19:49:11,599 : INFO : keeping 200 factors (discarding 4.465% of energy spectrum)\n",
            "2021-11-23 19:49:11,635 : INFO : processed documents up to #5391\n",
            "2021-11-23 19:49:11,642 : INFO : topic #0(154.130): 0.491*\"G7-C\" + 0.472*\"C-C\" + 0.441*\"Dm7-G7\" + 0.286*\"G7-G7\" + 0.227*\"D7-G7\" + 0.160*\"C-G7\" + 0.148*\"A7-D7\" + 0.130*\"A7-Dm7\" + 0.121*\"D7-D7\" + 0.115*\"C7-F\"\n",
            "2021-11-23 19:49:11,647 : INFO : topic #1(127.376): 0.690*\"Dm7-G7\" + -0.346*\"C-C\" + 0.254*\"A7-Dm7\" + -0.249*\"G7-C\" + 0.238*\"G7-CM7\" + -0.182*\"G7-G7\" + 0.168*\"Em7-A7\" + 0.158*\"G7-C6\" + -0.116*\"C-G7\" + 0.111*\"Am7-Dm7\"\n",
            "2021-11-23 19:49:11,650 : INFO : topic #2(69.251): -0.591*\"C-C\" + 0.414*\"D7-G7\" + 0.370*\"G7-C\" + 0.333*\"A7-D7\" + -0.269*\"G7-G7\" + 0.159*\"C-A7\" + 0.111*\"D7-D7\" + 0.102*\"E7-A7\" + 0.097*\"C-E7\" + 0.092*\"E7-Am\"\n",
            "2021-11-23 19:49:11,655 : INFO : topic #3(61.572): 0.415*\"G7-G7\" + -0.375*\"G7-C\" + 0.308*\"D7-D7\" + 0.288*\"D7-G7\" + 0.211*\"A7-D7\" + 0.210*\"C7-C7\" + 0.208*\"CM7-CM7\" + -0.191*\"Dm7-G7\" + 0.189*\"Am7-Am7\" + -0.180*\"C-G7\"\n",
            "2021-11-23 19:49:11,658 : INFO : topic #4(55.414): -0.597*\"Am7-Am7\" + -0.466*\"E7-Am7\" + -0.367*\"Bm7b5-E7\" + -0.206*\"Am7-D7\" + 0.170*\"A7-D7\" + 0.166*\"D7-G7\" + 0.134*\"D7-D7\" + 0.113*\"G7-G7\" + -0.111*\"G7-C\" + -0.110*\"C-G7\"\n",
            "2021-11-23 19:49:11,661 : INFO : LsiModel lifecycle event {'msg': 'trained LsiModel(num_terms=2505, num_topics=200, decay=1.0, chunksize=20000) in 1.02s', 'datetime': '2021-11-23T19:49:11.661902', 'gensim': '4.1.2', 'python': '3.7.12 (default, Sep 10 2021, 00:21:48) \\n[GCC 7.5.0]', 'platform': 'Linux-5.4.104+-x86_64-with-Ubuntu-18.04-bionic', 'event': 'created'}\n"
          ]
        }
      ]
    },
    {
      "cell_type": "code",
      "metadata": {
        "id": "EvxSQFfBBNMJ"
      },
      "source": [
        "#index_lsi = similarities.Similarity('/content/index/index_lsi', bow_corpus, num_features=len(dictionary))"
      ],
      "execution_count": 180,
      "outputs": []
    },
    {
      "cell_type": "code",
      "metadata": {
        "colab": {
          "base_uri": "https://localhost:8080/"
        },
        "id": "3saA6NY5Tzer",
        "outputId": "5001af40-24ed-473a-afbc-ae7d4bf4cd4a"
      },
      "source": [
        "index_lsi = similarities.SparseMatrixSimilarity(lsi[bow_corpus], num_features = len(dictionary))\n",
        "#index_lsi = similarities.MatrixSimilarity(lsi[bow_corpus])  # transform corpus to LSI space and index it\n"
      ],
      "execution_count": 181,
      "outputs": [
        {
          "output_type": "stream",
          "name": "stderr",
          "text": [
            "2021-11-23 19:49:11,687 : INFO : creating sparse index\n",
            "2021-11-23 19:49:11,691 : INFO : creating sparse matrix from corpus\n",
            "2021-11-23 19:49:11,707 : INFO : PROGRESS: at document #0\n",
            "2021-11-23 19:49:13,378 : INFO : created <5391x2505 sparse matrix of type '<class 'numpy.float32'>'\n",
            "\twith 1078198 stored elements in Compressed Sparse Row format>\n"
          ]
        }
      ]
    },
    {
      "cell_type": "code",
      "metadata": {
        "colab": {
          "base_uri": "https://localhost:8080/"
        },
        "id": "F5pbDMVyfEtS",
        "outputId": "0e9fc3ae-2e7e-4cb7-f388-c6a148346256"
      },
      "source": [
        "lsi.save('/content/index/lsi.model')\n",
        "index_lsi.save('/content/index/lsi_matrixsim.index')\n"
      ],
      "execution_count": 182,
      "outputs": [
        {
          "output_type": "stream",
          "name": "stderr",
          "text": [
            "2021-11-23 19:49:13,395 : INFO : Projection lifecycle event {'fname_or_handle': '/content/index/lsi.model.projection', 'separately': 'None', 'sep_limit': 10485760, 'ignore': frozenset(), 'datetime': '2021-11-23T19:49:13.395733', 'gensim': '4.1.2', 'python': '3.7.12 (default, Sep 10 2021, 00:21:48) \\n[GCC 7.5.0]', 'platform': 'Linux-5.4.104+-x86_64-with-Ubuntu-18.04-bionic', 'event': 'saving'}\n",
            "2021-11-23 19:49:13,404 : INFO : saved /content/index/lsi.model.projection\n",
            "2021-11-23 19:49:13,407 : INFO : LsiModel lifecycle event {'fname_or_handle': '/content/index/lsi.model', 'separately': 'None', 'sep_limit': 10485760, 'ignore': ['projection', 'dispatcher'], 'datetime': '2021-11-23T19:49:13.407024', 'gensim': '4.1.2', 'python': '3.7.12 (default, Sep 10 2021, 00:21:48) \\n[GCC 7.5.0]', 'platform': 'Linux-5.4.104+-x86_64-with-Ubuntu-18.04-bionic', 'event': 'saving'}\n",
            "2021-11-23 19:49:13,409 : INFO : not storing attribute projection\n",
            "2021-11-23 19:49:13,412 : INFO : not storing attribute dispatcher\n",
            "2021-11-23 19:49:13,417 : INFO : saved /content/index/lsi.model\n",
            "2021-11-23 19:49:13,420 : INFO : SparseMatrixSimilarity lifecycle event {'fname_or_handle': '/content/index/lsi_matrixsim.index', 'separately': 'None', 'sep_limit': 10485760, 'ignore': frozenset(), 'datetime': '2021-11-23T19:49:13.420107', 'gensim': '4.1.2', 'python': '3.7.12 (default, Sep 10 2021, 00:21:48) \\n[GCC 7.5.0]', 'platform': 'Linux-5.4.104+-x86_64-with-Ubuntu-18.04-bionic', 'event': 'saving'}\n",
            "2021-11-23 19:49:13,435 : INFO : saved /content/index/lsi_matrixsim.index\n"
          ]
        }
      ]
    },
    {
      "cell_type": "code",
      "metadata": {
        "colab": {
          "base_uri": "https://localhost:8080/"
        },
        "id": "1udPIceqYk6S",
        "outputId": "7db6933a-48d4-4cb8-e427-3981deeb10fe"
      },
      "source": [
        "!ls -la /content/index"
      ],
      "execution_count": 183,
      "outputs": [
        {
          "output_type": "stream",
          "name": "stdout",
          "text": [
            "total 13032\n",
            "drwxr-xr-x 2 root root    4096 Nov 23 19:49 .\n",
            "drwxr-xr-x 1 root root    4096 Nov 23 19:48 ..\n",
            "-rw-r--r-- 1 root root 8648053 Nov 23 19:49 lsi_matrixsim.index\n",
            "-rw-r--r-- 1 root root   77638 Nov 23 19:49 lsi.model\n",
            "-rw-r--r-- 1 root root 4010291 Nov 23 19:49 lsi.model.projection\n",
            "-rw-r--r-- 1 root root  488641 Nov 23 19:48 tfidf.index\n",
            "-rw-r--r-- 1 root root  101754 Nov 23 19:48 tfidf.model\n"
          ]
        }
      ]
    },
    {
      "cell_type": "markdown",
      "metadata": {
        "id": "pDxTCAGv9MmZ"
      },
      "source": [
        "### Test for single tunes"
      ]
    },
    {
      "cell_type": "code",
      "metadata": {
        "colab": {
          "base_uri": "https://localhost:8080/"
        },
        "id": "khASSJ1eEuf5",
        "outputId": "69e177a0-1ed9-4104-a91d-2c187fe1dfef"
      },
      "source": [
        "%%time\n",
        "df_sim = get_sim_scores(tunes_eval_list, index=index_lsi, model=lsi)\n",
        "df_lsi = df_sim[:]"
      ],
      "execution_count": 184,
      "outputs": [
        {
          "output_type": "stream",
          "name": "stdout",
          "text": [
            "\n",
            "--------------------------------------------------\n",
            "125 After You've Gone, section1 (A)\n",
            "126 After You've Gone, section2 (B)\n",
            "127 After You've Gone, section3 (A)\n",
            "128 After You've Gone, section4 (C)\n",
            "\n",
            "--------------------------------------------------\n",
            "188 All God's Chillun Got Rhythm, section1 (A)\n",
            "189 All God's Chillun Got Rhythm, section2 (B)\n",
            "190 All God's Chillun Got Rhythm, section3 (A)\n",
            "191 All God's Chillun Got Rhythm, section4 (C)\n",
            "\n",
            "--------------------------------------------------\n",
            "198 All Of Me, section1 (A)\n",
            "199 All Of Me, section2 (B)\n",
            "200 All Of Me, section3 (A)\n",
            "201 All Of Me, section4 (C)\n",
            "\n",
            "--------------------------------------------------\n",
            "474 Blood Count, section1 (A)\n",
            "475 Blood Count, section2 (A)\n",
            "476 Blood Count, section3 (B)\n",
            "477 Blood Count, section4 (A)\n",
            "478 Blood Count, section5 (C)\n",
            "\n",
            "--------------------------------------------------\n",
            "496 Blue Moon, section1 (A)\n",
            "497 Blue Moon, section2 (A)\n",
            "498 Blue Moon, section3 (B)\n",
            "499 Blue Moon, section4 (A)\n",
            "\n",
            "--------------------------------------------------\n",
            "626 But Beautiful, section1 (A)\n",
            "627 But Beautiful, section2 (B)\n",
            "628 But Beautiful, section3 (A)\n",
            "629 But Beautiful, section4 (C)\n",
            "\n",
            "--------------------------------------------------\n",
            "653 Bye Bye Blackbird, section1 (A)\n",
            "654 Bye Bye Blackbird, section2 (B)\n",
            "4559 Bye Bye Blackbird, section1 (A)\n",
            "\n",
            "--------------------------------------------------\n",
            "676 Call Me Irresponsible, section1 (A)\n",
            "677 Call Me Irresponsible, section2 (B)\n",
            "678 Call Me Irresponsible, section3 (A)\n",
            "679 Call Me Irresponsible, section4 (B)\n",
            "\n",
            "--------------------------------------------------\n",
            "826 Corcovado, section1 (A)\n",
            "827 Corcovado, section2 (B)\n",
            "828 Corcovado, section3 (A)\n",
            "829 Corcovado, section4 (C)\n",
            "\n",
            "--------------------------------------------------\n",
            "997 Dinah, section1 (A)\n",
            "998 Dinah, section2 (A)\n",
            "999 Dinah, section3 (B)\n",
            "1000 Dinah, section4 (A)\n",
            "\n",
            "--------------------------------------------------\n",
            "1125 East Of The Sun, section1 (A)\n",
            "1126 East Of The Sun, section2 (B)\n",
            "1127 East Of The Sun, section3 (A)\n",
            "1128 East Of The Sun, section4 (C)\n",
            "\n",
            "--------------------------------------------------\n",
            "1287 Footprints, section0 (nan)\n",
            "\n",
            "--------------------------------------------------\n",
            "1379 Giant Steps, section0 (nan)\n",
            "\n",
            "--------------------------------------------------\n",
            "1538 Honeysuckle Rose, section1 (A)\n",
            "1539 Honeysuckle Rose, section2 (A)\n",
            "1540 Honeysuckle Rose, section3 (B)\n",
            "1541 Honeysuckle Rose, section4 (A)\n",
            "4781 Honeysuckle Rose, section1 (A)\n",
            "4782 Honeysuckle Rose, section2 (A)\n",
            "4783 Honeysuckle Rose, section3 (B)\n",
            "4784 Honeysuckle Rose, section4 (A)\n",
            "\n",
            "--------------------------------------------------\n",
            "1647 I Got Rhythm, section1 (A)\n",
            "1648 I Got Rhythm, section2 (A)\n",
            "1649 I Got Rhythm, section3 (B)\n",
            "1650 I Got Rhythm, section4 (A)\n",
            "4809 I Got Rhythm, section1 (A)\n",
            "4810 I Got Rhythm, section2 (A)\n",
            "4811 I Got Rhythm, section3 (B)\n",
            "4812 I Got Rhythm, section4 (A)\n",
            "\n",
            "--------------------------------------------------\n",
            "2670 Misty, section1 (A)\n",
            "2671 Misty, section2 (A)\n",
            "2672 Misty, section3 (B)\n",
            "2673 Misty, section4 (A)\n",
            "\n",
            "--------------------------------------------------\n",
            "2857 Naima, section1 (A)\n",
            "2858 Naima, section2 (A)\n",
            "2859 Naima, section3 (B)\n",
            "2860 Naima, section4 (A)\n",
            "\n",
            "--------------------------------------------------\n",
            "5044 Old Fashioned Love, section0 (nan)\n",
            "\n",
            "--------------------------------------------------\n",
            "3142 Perdido, section1 (A)\n",
            "3143 Perdido, section2 (A)\n",
            "3144 Perdido, section3 (B)\n",
            "3145 Perdido, section4 (A)\n",
            "\n",
            "--------------------------------------------------\n",
            "3276 Rockin' Chair, section1 (A)\n",
            "3277 Rockin' Chair, section2 (B)\n",
            "3278 Rockin' Chair, section3 (A)\n",
            "5110 Rockin' Chair, section1 (A)\n",
            "5111 Rockin' Chair, section2 (B)\n",
            "5112 Rockin' Chair, section3 (A)\n",
            "\n",
            "--------------------------------------------------\n",
            "3578 Sophisticated Lady, section1 (A)\n",
            "3579 Sophisticated Lady, section2 (A)\n",
            "3580 Sophisticated Lady, section3 (B)\n",
            "3581 Sophisticated Lady, section4 (A)\n",
            "\n",
            "--------------------------------------------------\n",
            "3746 Sweet Sue, Just You, section1 (A)\n",
            "3747 Sweet Sue, Just You, section2 (A)\n",
            "3748 Sweet Sue, Just You, section3 (B)\n",
            "3749 Sweet Sue, Just You, section4 (A)\n",
            "\n",
            "--------------------------------------------------\n",
            "3860 These Foolish Things, section1 (A)\n",
            "3861 These Foolish Things, section2 (A)\n",
            "3862 These Foolish Things, section3 (B)\n",
            "3863 These Foolish Things, section4 (A)\n",
            "\n",
            "--------------------------------------------------\n",
            "4146 We'll Be Together Again, section1 (A)\n",
            "4147 We'll Be Together Again, section2 (A)\n",
            "4148 We'll Be Together Again, section3 (B)\n",
            "4149 We'll Be Together Again, section4 (A)\n",
            "CPU times: user 16 s, sys: 260 ms, total: 16.3 s\n",
            "Wall time: 16 s\n"
          ]
        }
      ]
    },
    {
      "cell_type": "code",
      "metadata": {
        "colab": {
          "base_uri": "https://localhost:8080/",
          "height": 542
        },
        "id": "X31lkvUsDAsU",
        "outputId": "98a04ce7-d4bc-4961-8b45-900470aa960a"
      },
      "source": [
        "import plotly.express as px\n",
        "fig = px.histogram(df_sim, x=\"score\", nbins=50, title='LSI Scores')\n",
        "fig.show()"
      ],
      "execution_count": 185,
      "outputs": [
        {
          "output_type": "display_data",
          "data": {
            "text/html": [
              "<html>\n",
              "<head><meta charset=\"utf-8\" /></head>\n",
              "<body>\n",
              "    <div>\n",
              "            <script src=\"https://cdnjs.cloudflare.com/ajax/libs/mathjax/2.7.5/MathJax.js?config=TeX-AMS-MML_SVG\"></script><script type=\"text/javascript\">if (window.MathJax) {MathJax.Hub.Config({SVG: {font: \"STIX-Web\"}});}</script>\n",
              "                <script type=\"text/javascript\">window.PlotlyConfig = {MathJaxConfig: 'local'};</script>\n",
              "        <script src=\"https://cdn.plot.ly/plotly-latest.min.js\"></script>    \n",
              "            <div id=\"48be92e2-1f7b-4cbb-9ced-e563c808dd31\" class=\"plotly-graph-div\" style=\"height:525px; width:100%;\"></div>\n",
              "            <script type=\"text/javascript\">\n",
              "                \n",
              "                    window.PLOTLYENV=window.PLOTLYENV || {};\n",
              "                    \n",
              "                if (document.getElementById(\"48be92e2-1f7b-4cbb-9ced-e563c808dd31\")) {\n",
              "                    Plotly.newPlot(\n",
              "                        '48be92e2-1f7b-4cbb-9ced-e563c808dd31',\n",
              "                        [{\"alignmentgroup\": \"True\", \"bingroup\": \"x\", \"hoverlabel\": {\"namelength\": 0}, \"hovertemplate\": \"score=%{x}<br>count=%{y}\", \"legendgroup\": \"\", \"marker\": {\"color\": \"#636efa\"}, \"name\": \"\", \"nbinsx\": 50, \"offsetgroup\": \"\", \"orientation\": \"v\", \"showlegend\": false, \"type\": \"histogram\", \"x\": [0.628160297870636, 0.628160297870636, 0.628160297870636, 0.628160297870636, 0.622661828994751, 0.5432108640670776, 0.541146993637085, 0.5208472609519958, 0.5208472609519958, 0.5171273350715637, 0.515044629573822, 0.515044629573822, 0.5117866396903992, 0.5043067336082458, 0.497728168964386, 0.497728168964386, 0.4891355335712433, 0.48262861371040344, 0.4803861379623413, 0.47909384965896606, 0.47816944122314453, 0.47635507583618164, 0.46507570147514343, 0.46012061834335327, 0.45839571952819824, 0.45339342951774597, 0.45339342951774597, 0.4458717107772827, 0.4440053403377533, 0.4440053403377533, 0.4390932023525238, 0.43680480122566223, 0.43680480122566223, 0.4330231845378876, 0.4316611588001251, 0.4264913499355316, 0.42629361152648926, 0.42629361152648926, 0.4236402213573456, 0.4197342097759247, 0.41931232810020447, 0.8224040269851685, 0.7887083292007446, 0.7502430081367493, 0.7502430081367493, 0.6971122622489929, 0.6971122622489929, 0.6874266266822815, 0.6774466633796692, 0.6439595818519592, 0.6439595818519592, 0.6439595818519592, 0.6404855847358704, 0.6174216270446777, 0.6165735125541687, 0.603843092918396, 0.5993325114250183, 0.5992767214775085, 0.5963446497917175, 0.5963446497917175, 0.5787751078605652, 0.5787751078605652, 0.5787751078605652, 0.5722939372062683, 0.5722939372062683, 0.5707594752311707, 0.5707594752311707, 0.5686166286468506, 0.5686166286468506, 0.5686166286468506, 0.5616341829299927, 0.561557948589325, 0.5549172163009644, 0.5545603632926941, 0.5528661012649536, 0.5480639338493347, 0.5463253259658813, 0.5461589097976685, 0.5430848598480225, 0.540640652179718, 0.5390238165855408, 0.5387659072875977, 0.628160297870636, 0.628160297870636, 0.628160297870636, 0.628160297870636, 0.622661828994751, 0.5432108640670776, 0.541146993637085, 0.5208472609519958, 0.5208472609519958, 0.5171273350715637, 0.515044629573822, 0.515044629573822, 0.5117866396903992, 0.5043067336082458, 0.497728168964386, 0.497728168964386, 0.4891355335712433, 0.48262861371040344, 0.4803861379623413, 0.47909384965896606, 0.47816944122314453, 0.47635507583618164, 0.46507570147514343, 0.46012061834335327, 0.45839571952819824, 0.45339342951774597, 0.45339342951774597, 0.4458717107772827, 0.4440053403377533, 0.4440053403377533, 0.4390932023525238, 0.43680480122566223, 0.43680480122566223, 0.4330231845378876, 0.4316611588001251, 0.4264913499355316, 0.42629361152648926, 0.42629361152648926, 0.4236402213573456, 0.4197342097759247, 0.41931232810020447, 0.6903586387634277, 0.645870566368103, 0.6433728933334351, 0.6316763162612915, 0.6295953392982483, 0.6199843287467957, 0.6102812886238098, 0.6085845828056335, 0.6068289875984192, 0.6061028838157654, 0.6008198857307434, 0.6005555987358093, 0.5988426208496094, 0.5954779386520386, 0.5954779386520386, 0.5948047041893005, 0.5903715491294861, 0.5866191387176514, 0.5866191387176514, 0.5826971530914307, 0.5826971530914307, 0.5826667547225952, 0.5810349583625793, 0.5771121382713318, 0.5771121382713318, 0.5771121382713318, 0.5767726898193359, 0.576349139213562, 0.5757272839546204, 0.5757272839546204, 0.574049174785614, 0.5727227330207825, 0.5722252726554871, 0.5705406069755554, 0.5680219531059265, 0.5607584118843079, 0.5607327222824097, 0.5607327222824097, 0.5605979561805725, 0.559154748916626, 0.5563836693763733, 0.9196016192436218, 0.9177994728088379, 0.9151742458343506, 0.9151742458343506, 0.9063956141471863, 0.9063956141471863, 0.9057410359382629, 0.8835805654525757, 0.880996823310852, 0.8771362900733948, 0.872978150844574, 0.872456431388855, 0.8631559014320374, 0.8615149259567261, 0.8572169542312622, 0.8564548492431641, 0.8553762435913086, 0.8497521877288818, 0.845852792263031, 0.8379011154174805, 0.8371150493621826, 0.8317345976829529, 0.8304568529129028, 0.8299148082733154, 0.829341471195221, 0.829341471195221, 0.8259953260421753, 0.8240781426429749, 0.8226814866065979, 0.8201900124549866, 0.8180707097053528, 0.8179033994674683, 0.8157369494438171, 0.8157369494438171, 0.8142026662826538, 0.8136575222015381, 0.8107340931892395, 0.8097543716430664, 0.8095455765724182, 0.8094106912612915, 0.8094106912612915, 0.8666059374809265, 0.7199732065200806, 0.7132342457771301, 0.7130988836288452, 0.7103859782218933, 0.7056605219841003, 0.6931622624397278, 0.6919110417366028, 0.6918274760246277, 0.6839237213134766, 0.6621291637420654, 0.6580802798271179, 0.6564242243766785, 0.6564098000526428, 0.6547659039497375, 0.6545587182044983, 0.6467597484588623, 0.6466522812843323, 0.6465455293655396, 0.6448728442192078, 0.6444443464279175, 0.6434014439582825, 0.6412143707275391, 0.6411941647529602, 0.6371620297431946, 0.6361849308013916, 0.635202944278717, 0.6330913305282593, 0.630079448223114, 0.6284980177879333, 0.6217511892318726, 0.6167907118797302, 0.6162377595901489, 0.6124094128608704, 0.6124094128608704, 0.6113268733024597, 0.6106888651847839, 0.6088472604751587, 0.6084598898887634, 0.6080174446105957, 0.6077978610992432, 0.9196016192436218, 0.9177994728088379, 0.9151742458343506, 0.9151742458343506, 0.9063956141471863, 0.9063956141471863, 0.9057410359382629, 0.8835805654525757, 0.880996823310852, 0.8771362900733948, 0.872978150844574, 0.872456431388855, 0.8631559014320374, 0.8615149259567261, 0.8572169542312622, 0.8564548492431641, 0.8553762435913086, 0.8497521877288818, 0.845852792263031, 0.8379011154174805, 0.8371150493621826, 0.8317345976829529, 0.8304568529129028, 0.8299148082733154, 0.829341471195221, 0.829341471195221, 0.8259953260421753, 0.8240781426429749, 0.8226814866065979, 0.8201900124549866, 0.8180707097053528, 0.8179033994674683, 0.8157369494438171, 0.8157369494438171, 0.8142026662826538, 0.8136575222015381, 0.8107340931892395, 0.8097543716430664, 0.8095455765724182, 0.8094106912612915, 0.8094106912612915, 0.9323729276657104, 0.885368824005127, 0.8740044832229614, 0.8337373733520508, 0.8297548294067383, 0.8214950561523438, 0.8183909058570862, 0.7991757392883301, 0.797073483467102, 0.7933183312416077, 0.7911996841430664, 0.7856823205947876, 0.7849371433258057, 0.783939778804779, 0.7814036011695862, 0.77548748254776, 0.7702957987785339, 0.7672742605209351, 0.7640742063522339, 0.7640742063522339, 0.7640742063522339, 0.7630255222320557, 0.7574735879898071, 0.7571638226509094, 0.7552515268325806, 0.7543033361434937, 0.7543033361434937, 0.7542323470115662, 0.7537916302680969, 0.7534746527671814, 0.7530580163002014, 0.7525221705436707, 0.7499402761459351, 0.749940037727356, 0.7497520446777344, 0.7482348084449768, 0.7481785416603088, 0.7478578686714172, 0.742094099521637, 0.7410554885864258, 0.7392761707305908, 0.7550886273384094, 0.6887161731719971, 0.6294445991516113, 0.5828959345817566, 0.5787919759750366, 0.5761529803276062, 0.5761529803276062, 0.5651264786720276, 0.5632646083831787, 0.5632646083831787, 0.5323024988174438, 0.5274945497512817, 0.5231565833091736, 0.5231565833091736, 0.5026745796203613, 0.4985343813896179, 0.4985343813896179, 0.49306222796440125, 0.4921611547470093, 0.4921611547470093, 0.4858938753604889, 0.48256102204322815, 0.48172879219055176, 0.4775576591491699, 0.47668614983558655, 0.4739212691783905, 0.47262445092201233, 0.4662418067455292, 0.46488696336746216, 0.4619271755218506, 0.4564281702041626, 0.4558189809322357, 0.45536860823631287, 0.45318588614463806, 0.45318588614463806, 0.4513972997665405, 0.4491783380508423, 0.4434289336204529, 0.4434289336204529, 0.4422055184841156, 0.43719741702079773, 0.9072475433349609, 0.830786406993866, 0.8087517023086548, 0.7975218296051025, 0.7584705352783203, 0.7564412355422974, 0.7312238216400146, 0.7281465530395508, 0.719366192817688, 0.7179970145225525, 0.7118350267410278, 0.6865182518959045, 0.6808556914329529, 0.678161084651947, 0.667395830154419, 0.6662972569465637, 0.6561177372932434, 0.6492062211036682, 0.6453603506088257, 0.6399235129356384, 0.6363637447357178, 0.6307144165039062, 0.6172007918357849, 0.6171461939811707, 0.6171461939811707, 0.6163111329078674, 0.612868070602417, 0.6127856373786926, 0.6127856373786926, 0.6099414229393005, 0.6095975637435913, 0.6063628792762756, 0.6056637167930603, 0.6041020750999451, 0.6014054417610168, 0.5937807559967041, 0.5896454453468323, 0.586526095867157, 0.5861282348632812, 0.585410475730896, 0.584105372428894, 0.7550886273384094, 0.6887161731719971, 0.6294445991516113, 0.5828959345817566, 0.5787919759750366, 0.5761529803276062, 0.5761529803276062, 0.5651264786720276, 0.5632646083831787, 0.5632646083831787, 0.5323024988174438, 0.5274945497512817, 0.5231565833091736, 0.5231565833091736, 0.5026745796203613, 0.4985343813896179, 0.4985343813896179, 0.49306222796440125, 0.4921611547470093, 0.4921611547470093, 0.4858938753604889, 0.48256102204322815, 0.48172879219055176, 0.4775576591491699, 0.47668614983558655, 0.4739212691783905, 0.47262445092201233, 0.4662418067455292, 0.46488696336746216, 0.4619271755218506, 0.4564281702041626, 0.4558189809322357, 0.45536860823631287, 0.45318588614463806, 0.45318588614463806, 0.4513972997665405, 0.4491783380508423, 0.4434289336204529, 0.4434289336204529, 0.4422055184841156, 0.43719741702079773, 0.874761700630188, 0.8171095848083496, 0.8171095848083496, 0.7968015670776367, 0.7942086458206177, 0.7942086458206177, 0.7915517687797546, 0.7910125851631165, 0.7861918210983276, 0.7855879068374634, 0.7846903204917908, 0.7846903204917908, 0.7839446067810059, 0.7792605757713318, 0.777917742729187, 0.7712212204933167, 0.7707321643829346, 0.7707321643829346, 0.7650296092033386, 0.7638998627662659, 0.7622908353805542, 0.7616285085678101, 0.7603929042816162, 0.7590252161026001, 0.7482560276985168, 0.7482560276985168, 0.745481014251709, 0.7437521815299988, 0.7429720759391785, 0.7416777014732361, 0.7397640943527222, 0.738309919834137, 0.7370103001594543, 0.736281156539917, 0.7356569170951843, 0.7344812154769897, 0.7344812154769897, 0.7317088842391968, 0.7314888834953308, 0.7302998900413513, 0.7298934459686279, 0.7252294421195984, 0.7252294421195984, 0.6347405314445496, 0.6213812828063965, 0.6142001152038574, 0.6030514240264893, 0.5942263603210449, 0.5496975779533386, 0.5496975779533386, 0.5463250875473022, 0.5436797142028809, 0.5436797142028809, 0.5436797142028809, 0.540303647518158, 0.5367001891136169, 0.5362228155136108, 0.531295895576477, 0.5215734243392944, 0.5214101672172546, 0.520500898361206, 0.505918562412262, 0.49675413966178894, 0.4937054216861725, 0.48875439167022705, 0.4876701831817627, 0.4857257306575775, 0.4821902811527252, 0.47024425864219666, 0.4689568877220154, 0.46818745136260986, 0.4669856131076813, 0.466016948223114, 0.46428221464157104, 0.463323175907135, 0.45747774839401245, 0.45624643564224243, 0.45462968945503235, 0.44692617654800415, 0.4403989017009735, 0.4402924180030823, 0.4402924180030823, 0.5869999527931213, 0.5851284265518188, 0.5851284265518188, 0.5766315460205078, 0.5614833831787109, 0.5614833831787109, 0.5053638815879822, 0.486118882894516, 0.4855724275112152, 0.4855724275112152, 0.47514352202415466, 0.47514352202415466, 0.47514352202415466, 0.4580228924751282, 0.45254746079444885, 0.45254746079444885, 0.4492313861846924, 0.4492313861846924, 0.4484758675098419, 0.4484758675098419, 0.4484758675098419, 0.4469785988330841, 0.4469785988330841, 0.4409632384777069, 0.43915292620658875, 0.4376614987850189, 0.4369798004627228, 0.4369798004627228, 0.436427503824234, 0.42787209153175354, 0.42647480964660645, 0.4258125424385071, 0.42231816053390503, 0.4200933277606964, 0.4199351370334625, 0.4180174767971039, 0.4173239469528198, 0.4166286885738373, 0.4166286885738373, 0.41630157828330994, 0.41630157828330994, 0.5285072326660156, 0.4707205295562744, 0.4707205295562744, 0.4477640390396118, 0.41950082778930664, 0.416389524936676, 0.416389524936676, 0.4044286012649536, 0.3661133944988251, 0.33436569571495056, 0.33436569571495056, 0.33436569571495056, 0.29159799218177795, 0.2542460262775421, 0.2501501142978668, 0.2500905990600586, 0.2414802610874176, 0.2414802610874176, 0.23928417265415192, 0.235507532954216, 0.22354136407375336, 0.21525201201438904, 0.20728984475135803, 0.20523779094219208, 0.20420387387275696, 0.20191548764705658, 0.20191548764705658, 0.20191548764705658, 0.19738589227199554, 0.19545181095600128, 0.19501660764217377, 0.19246363639831543, 0.19246363639831543, 0.1908000409603119, 0.1850515753030777, 0.18465809524059296, 0.18383176624774933, 0.1778506189584732, 0.1763841211795807, 0.17541436851024628, 0.17441995441913605, 0.5869999527931213, 0.5851284265518188, 0.5851284265518188, 0.5766315460205078, 0.5614833831787109, 0.5614833831787109, 0.5053638815879822, 0.486118882894516, 0.4855724275112152, 0.4855724275112152, 0.47514352202415466, 0.47514352202415466, 0.47514352202415466, 0.4580228924751282, 0.45254746079444885, 0.45254746079444885, 0.4492313861846924, 0.4492313861846924, 0.4484758675098419, 0.4484758675098419, 0.4484758675098419, 0.4469785988330841, 0.4469785988330841, 0.4409632384777069, 0.43915292620658875, 0.4376614987850189, 0.4369798004627228, 0.4369798004627228, 0.436427503824234, 0.42787209153175354, 0.42647480964660645, 0.4258125424385071, 0.42231816053390503, 0.4200933277606964, 0.4199351370334625, 0.4180174767971039, 0.4173239469528198, 0.4166286885738373, 0.4166286885738373, 0.41630157828330994, 0.41630157828330994, 0.8087607622146606, 0.7809029817581177, 0.6464704871177673, 0.6375623345375061, 0.636491596698761, 0.6272611021995544, 0.6176782250404358, 0.6169182658195496, 0.5897534489631653, 0.5601616501808167, 0.5531206727027893, 0.5330761075019836, 0.5218517184257507, 0.5143451690673828, 0.5143451690673828, 0.4832442104816437, 0.4821847677230835, 0.4444238841533661, 0.4286348223686218, 0.41345012187957764, 0.40782424807548523, 0.4066501259803772, 0.38061395287513733, 0.3728131353855133, 0.37070560455322266, 0.367824912071228, 0.3667844533920288, 0.35621997714042664, 0.35381484031677246, 0.3517400026321411, 0.34980496764183044, 0.3438982367515564, 0.32770395278930664, 0.3206278383731842, 0.30975252389907837, 0.30879637598991394, 0.292444109916687, 0.28889068961143494, 0.288718581199646, 0.288718581199646, 0.28527238965034485, 0.9300984144210815, 0.9300984144210815, 0.9196638464927673, 0.9187312722206116, 0.9131547212600708, 0.9094707369804382, 0.8982082605361938, 0.8805075287818909, 0.8753826022148132, 0.8753826022148132, 0.8694683313369751, 0.8558271527290344, 0.8553935289382935, 0.8513033390045166, 0.8484550714492798, 0.843718409538269, 0.8379068970680237, 0.8330594897270203, 0.8328995704650879, 0.829341471195221, 0.829341471195221, 0.8245616555213928, 0.8241472244262695, 0.8194645047187805, 0.8174946904182434, 0.8113614320755005, 0.8113614320755005, 0.8082513213157654, 0.8001484870910645, 0.8001484870910645, 0.7980658411979675, 0.7916589975357056, 0.7915485501289368, 0.7901424169540405, 0.7864047288894653, 0.7827103734016418, 0.7819012999534607, 0.7779667377471924, 0.7742006778717041, 0.7700717449188232, 0.7694872617721558, 0.8825480341911316, 0.8825480341911316, 0.85233074426651, 0.8453294634819031, 0.8431944847106934, 0.8311677575111389, 0.8212252855300903, 0.8128109574317932, 0.7994887232780457, 0.7965440154075623, 0.7965440154075623, 0.7887617349624634, 0.7850733995437622, 0.7850733995437622, 0.7830724120140076, 0.7816663384437561, 0.7801018953323364, 0.7779496312141418, 0.7747876048088074, 0.7733587026596069, 0.7725305557250977, 0.7699218392372131, 0.7691056728363037, 0.7551572322845459, 0.7515293955802917, 0.7515293955802917, 0.7502411007881165, 0.746204674243927, 0.7280232906341553, 0.7277101278305054, 0.7277101278305054, 0.7274143099784851, 0.7266184091567993, 0.7240339517593384, 0.7240339517593384, 0.7234846949577332, 0.7202509641647339, 0.7149159908294678, 0.7144477367401123, 0.7137677669525146, 0.7123737335205078, 0.8685617446899414, 0.8685617446899414, 0.8568341135978699, 0.8547535538673401, 0.8543635606765747, 0.8291862607002258, 0.8291862607002258, 0.8238324522972107, 0.8211429119110107, 0.8190227150917053, 0.8167819380760193, 0.8167819380760193, 0.8142049908638, 0.8057126402854919, 0.7991203665733337, 0.7976922988891602, 0.7976922988891602, 0.7971302270889282, 0.79448002576828, 0.7930198311805725, 0.7922390699386597, 0.7917386293411255, 0.7908444404602051, 0.7894006967544556, 0.7785749435424805, 0.775556206703186, 0.7750203013420105, 0.7667638659477234, 0.7613728642463684, 0.7593802809715271, 0.7592034339904785, 0.7573402523994446, 0.7555140256881714, 0.7526149153709412, 0.7526149153709412, 0.7493767142295837, 0.7474586367607117, 0.7457979917526245, 0.74570232629776, 0.74570232629776, 0.7433298230171204, 0.9300984144210815, 0.9300984144210815, 0.9196638464927673, 0.9187312722206116, 0.9131547212600708, 0.9094707369804382, 0.8982082605361938, 0.8805075287818909, 0.8753826022148132, 0.8753826022148132, 0.8694683313369751, 0.8558271527290344, 0.8553935289382935, 0.8513033390045166, 0.8484550714492798, 0.843718409538269, 0.8379068970680237, 0.8330594897270203, 0.8328995704650879, 0.829341471195221, 0.829341471195221, 0.8245616555213928, 0.8241472244262695, 0.8194645047187805, 0.8174946904182434, 0.8113614320755005, 0.8113614320755005, 0.8082513213157654, 0.8001484870910645, 0.8001484870910645, 0.7980658411979675, 0.7916589975357056, 0.7915485501289368, 0.7901424169540405, 0.7864047288894653, 0.7827103734016418, 0.7819012999534607, 0.7779667377471924, 0.7742006778717041, 0.7700717449188232, 0.7694872617721558, 0.7385404109954834, 0.7375192642211914, 0.7375192642211914, 0.6680313348770142, 0.6551569104194641, 0.6297648549079895, 0.625416100025177, 0.625416100025177, 0.624291718006134, 0.6208634376525879, 0.6208634376525879, 0.6185252666473389, 0.6161825656890869, 0.6161825656890869, 0.6161825656890869, 0.6106446385383606, 0.6080595850944519, 0.604395866394043, 0.6023863554000854, 0.6021148562431335, 0.6011418104171753, 0.5997203588485718, 0.5997203588485718, 0.5974292755126953, 0.5952144265174866, 0.5806418657302856, 0.5805694460868835, 0.5730756521224976, 0.5643923878669739, 0.5635402202606201, 0.5597079396247864, 0.5592470765113831, 0.5552617907524109, 0.5504594445228577, 0.5487805008888245, 0.5444759130477905, 0.54425448179245, 0.5414929389953613, 0.5414929389953613, 0.5383733510971069, 0.5383733510971069, 0.8333576917648315, 0.8041367530822754, 0.8009697794914246, 0.8009333610534668, 0.7913944721221924, 0.7896543145179749, 0.7896543145179749, 0.7804381847381592, 0.7731232047080994, 0.7731232047080994, 0.7713214755058289, 0.7711078524589539, 0.7675796747207642, 0.7593088150024414, 0.7547184824943542, 0.7505181431770325, 0.7400239109992981, 0.7400239109992981, 0.7370914220809937, 0.7370020747184753, 0.7366400361061096, 0.7365359663963318, 0.7332819700241089, 0.7332819700241089, 0.7326083779335022, 0.7325496673583984, 0.7325496673583984, 0.7228472232818604, 0.7163998484611511, 0.7161232233047485, 0.7158113121986389, 0.7154051065444946, 0.7142838835716248, 0.7127948999404907, 0.7127819657325745, 0.7127819657325745, 0.7121263146400452, 0.7121263146400452, 0.7090880274772644, 0.7065845131874084, 0.7058985233306885, 0.7385404109954834, 0.7375192642211914, 0.7375192642211914, 0.6680313348770142, 0.6551569104194641, 0.6297648549079895, 0.625416100025177, 0.625416100025177, 0.624291718006134, 0.6208634376525879, 0.6208634376525879, 0.6185252666473389, 0.6161825656890869, 0.6161825656890869, 0.6161825656890869, 0.6106446385383606, 0.6080595850944519, 0.604395866394043, 0.6023863554000854, 0.6021148562431335, 0.6011418104171753, 0.5997203588485718, 0.5997203588485718, 0.5974292755126953, 0.5952144265174866, 0.5806418657302856, 0.5805694460868835, 0.5730756521224976, 0.5643923878669739, 0.5635402202606201, 0.5597079396247864, 0.5592470765113831, 0.5552617907524109, 0.5504594445228577, 0.5487805008888245, 0.5444759130477905, 0.54425448179245, 0.5414929389953613, 0.5414929389953613, 0.5383733510971069, 0.5383733510971069, 0.8116086721420288, 0.8110479116439819, 0.7952933311462402, 0.7806386947631836, 0.7766439318656921, 0.7753613591194153, 0.7682478427886963, 0.76484614610672, 0.7637233138084412, 0.7537096738815308, 0.7529889345169067, 0.7489409446716309, 0.7475565075874329, 0.7411130666732788, 0.7399001717567444, 0.7392579913139343, 0.7380333542823792, 0.7366912961006165, 0.7323711514472961, 0.7314725518226624, 0.7261731028556824, 0.7253909707069397, 0.7243419885635376, 0.7172127962112427, 0.7164404988288879, 0.7164404988288879, 0.7130944728851318, 0.7094139456748962, 0.7086038589477539, 0.698289155960083, 0.6977571845054626, 0.6941115260124207, 0.694045901298523, 0.6932933330535889, 0.6932381987571716, 0.6914106011390686, 0.6896404027938843, 0.6892572045326233, 0.6886030435562134, 0.6874886155128479, 0.6856883764266968, 0.91839599609375, 0.8979454636573792, 0.8791770339012146, 0.8791770339012146, 0.8780400156974792, 0.87645423412323, 0.8712571263313293, 0.8712571263313293, 0.8712571263313293, 0.8575770258903503, 0.8546947240829468, 0.8492330312728882, 0.8454999327659607, 0.8445335626602173, 0.8441659808158875, 0.8431257009506226, 0.8431257009506226, 0.8431257009506226, 0.8424111008644104, 0.8424111008644104, 0.8394209742546082, 0.8366543650627136, 0.8329979181289673, 0.8329979181289673, 0.8314935564994812, 0.8247489333152771, 0.8181858062744141, 0.8149493932723999, 0.8147118091583252, 0.8113712668418884, 0.8108803629875183, 0.8106958866119385, 0.8087520003318787, 0.8078765869140625, 0.807261049747467, 0.8044816255569458, 0.8032084703445435, 0.7993671298027039, 0.7960752248764038, 0.7960177063941956, 0.7951135039329529, 0.8405306935310364, 0.8405306935310364, 0.8405306935310364, 0.8376256227493286, 0.8287963271141052, 0.8269316554069519, 0.8225329518318176, 0.8183045387268066, 0.8131270408630371, 0.811089813709259, 0.8094249367713928, 0.8094249367713928, 0.8052818775177002, 0.7820066213607788, 0.7631412148475647, 0.7615636587142944, 0.7610405087471008, 0.7596120834350586, 0.7596120834350586, 0.7551852464675903, 0.7551786303520203, 0.7550697922706604, 0.7530442476272583, 0.7506496906280518, 0.7486566305160522, 0.7484128475189209, 0.7442198991775513, 0.7402013540267944, 0.7394191026687622, 0.7394191026687622, 0.7390240430831909, 0.737566351890564, 0.7366654872894287, 0.7359822988510132, 0.7346690893173218, 0.7346690893173218, 0.7336444854736328, 0.7333912253379822, 0.7301278710365295, 0.7279453277587891, 0.7266867756843567, 0.8337877988815308, 0.7955582141876221, 0.786722719669342, 0.786722719669342, 0.7713757157325745, 0.7615198493003845, 0.7540960907936096, 0.7540960907936096, 0.7540960907936096, 0.7478129863739014, 0.7471622824668884, 0.7451882362365723, 0.7451882362365723, 0.7387077212333679, 0.7377954721450806, 0.7298538088798523, 0.7287164330482483, 0.7213282585144043, 0.7200401425361633, 0.7200401425361633, 0.7174199819564819, 0.7174199819564819, 0.7174199819564819, 0.716881275177002, 0.7163439393043518, 0.713944673538208, 0.7116045951843262, 0.7116045951843262, 0.7033644914627075, 0.7027289271354675, 0.7015014886856079, 0.7009214162826538, 0.6999006867408752, 0.6994868516921997, 0.6994868516921997, 0.6994868516921997, 0.6919223666191101, 0.6911938786506653, 0.6840128302574158, 0.6828848719596863, 0.6828848719596863, 0.5871487259864807, 0.5871487259864807, 0.5412842631340027, 0.5064833164215088, 0.4985343813896179, 0.4985343813896179, 0.47817352414131165, 0.4602876901626587, 0.4602876901626587, 0.4561382830142975, 0.4507507383823395, 0.44960257411003113, 0.44036829471588135, 0.44036829471588135, 0.4399584233760834, 0.42478105425834656, 0.4247007369995117, 0.40954211354255676, 0.3948570191860199, 0.3883780241012573, 0.3790895640850067, 0.37398746609687805, 0.37398746609687805, 0.37398746609687805, 0.36883464455604553, 0.36809176206588745, 0.36720603704452515, 0.361728310585022, 0.36023733019828796, 0.35331401228904724, 0.3509100675582886, 0.3509100675582886, 0.3503992259502411, 0.3477207124233246, 0.34700921177864075, 0.34643250703811646, 0.3452658951282501, 0.34525811672210693, 0.3433494567871094, 0.3424724042415619, 0.3416152596473694, 0.8825365304946899, 0.8825365304946899, 0.842134416103363, 0.8227615356445312, 0.8044130802154541, 0.7824068665504456, 0.777690589427948, 0.7748732566833496, 0.759169340133667, 0.7487902641296387, 0.7433054447174072, 0.7415931820869446, 0.7390121817588806, 0.7385616898536682, 0.738036036491394, 0.7289168834686279, 0.7273886799812317, 0.7273886799812317, 0.7199085354804993, 0.7174018621444702, 0.7165809273719788, 0.7135679125785828, 0.7080851197242737, 0.7080844044685364, 0.7078728675842285, 0.7078728675842285, 0.7068358659744263, 0.7036250829696655, 0.7012136578559875, 0.6994593143463135, 0.6983253955841064, 0.697066068649292, 0.6905427575111389, 0.6898600459098816, 0.6881146430969238, 0.6873834133148193, 0.6865811347961426, 0.6863446235656738, 0.6803687214851379, 0.6768476366996765, 0.6751884818077087, 0.5871487259864807, 0.5871487259864807, 0.5412842631340027, 0.5064833164215088, 0.4985343813896179, 0.4985343813896179, 0.47817352414131165, 0.4602876901626587, 0.4602876901626587, 0.4561382830142975, 0.4507507383823395, 0.44960257411003113, 0.44036829471588135, 0.44036829471588135, 0.4399584233760834, 0.42478105425834656, 0.4247007369995117, 0.40954211354255676, 0.3948570191860199, 0.3883780241012573, 0.3790895640850067, 0.37398746609687805, 0.37398746609687805, 0.37398746609687805, 0.36883464455604553, 0.36809176206588745, 0.36720603704452515, 0.361728310585022, 0.36023733019828796, 0.35331401228904724, 0.3509100675582886, 0.3509100675582886, 0.3503992259502411, 0.3477207124233246, 0.34700921177864075, 0.34643250703811646, 0.3452658951282501, 0.34525811672210693, 0.3433494567871094, 0.3424724042415619, 0.3416152596473694, 0.8639972805976868, 0.8630180358886719, 0.8535270690917969, 0.8508728742599487, 0.8472038507461548, 0.8298191428184509, 0.8203425407409668, 0.8202419281005859, 0.819121241569519, 0.8172187805175781, 0.8171308040618896, 0.8154866099357605, 0.814703106880188, 0.813963770866394, 0.8121593594551086, 0.811501145362854, 0.809132993221283, 0.809132993221283, 0.8083215951919556, 0.8083215951919556, 0.8071814179420471, 0.7997528910636902, 0.7936311364173889, 0.7897019386291504, 0.7892462015151978, 0.7891574501991272, 0.7882481217384338, 0.786308765411377, 0.786308765411377, 0.7829260230064392, 0.7781623005867004, 0.7765466570854187, 0.7763692140579224, 0.7763671278953552, 0.7758045196533203, 0.7755867838859558, 0.7747781872749329, 0.7739239931106567, 0.7739239931106567, 0.7718233466148376, 0.7713985443115234, 0.6481309533119202, 0.6256056427955627, 0.6153955459594727, 0.6131916642189026, 0.6020349860191345, 0.580280601978302, 0.580280601978302, 0.5694976449012756, 0.517745316028595, 0.5135809779167175, 0.50849449634552, 0.500137448310852, 0.49692708253860474, 0.4898151159286499, 0.4898151159286499, 0.48923370242118835, 0.4889110326766968, 0.4871968626976013, 0.4848700761795044, 0.4848700761795044, 0.4846731424331665, 0.4771772027015686, 0.4771772027015686, 0.4744548499584198, 0.47245803475379944, 0.47245803475379944, 0.47245803475379944, 0.4713907837867737, 0.47121426463127136, 0.47121426463127136, 0.47121426463127136, 0.4692564904689789, 0.46924108266830444, 0.4674738049507141, 0.4668232798576355, 0.4660423696041107, 0.46521833539009094, 0.4622018337249756, 0.45613646507263184, 0.45313364267349243, 0.45313364267349243, 0.8693418502807617, 0.7452601194381714, 0.722319483757019, 0.6968401074409485, 0.6802586317062378, 0.6778854131698608, 0.6731857061386108, 0.6544919610023499, 0.6544919610023499, 0.6452085971832275, 0.6379210352897644, 0.6379210352897644, 0.6360002756118774, 0.6239555478096008, 0.613386332988739, 0.6110479831695557, 0.6073343753814697, 0.6040336489677429, 0.5992905497550964, 0.5978578329086304, 0.5967756509780884, 0.5953980684280396, 0.5944529175758362, 0.5943539142608643, 0.5943539142608643, 0.5915751457214355, 0.5915751457214355, 0.5855521559715271, 0.5820201635360718, 0.581443190574646, 0.581429660320282, 0.581429660320282, 0.5800688862800598, 0.578753650188446, 0.576087236404419, 0.5731697082519531, 0.5731697082519531, 0.5712267756462097, 0.5675072073936462, 0.566797137260437, 0.5664642453193665, 0.6481309533119202, 0.6256056427955627, 0.6153955459594727, 0.6131916642189026, 0.6020349860191345, 0.580280601978302, 0.580280601978302, 0.5694976449012756, 0.517745316028595, 0.5135809779167175, 0.50849449634552, 0.500137448310852, 0.49692708253860474, 0.4898151159286499, 0.4898151159286499, 0.48923370242118835, 0.4889110326766968, 0.4871968626976013, 0.4848700761795044, 0.4848700761795044, 0.4846731424331665, 0.4771772027015686, 0.4771772027015686, 0.4744548499584198, 0.47245803475379944, 0.47245803475379944, 0.47245803475379944, 0.4713907837867737, 0.47121426463127136, 0.47121426463127136, 0.47121426463127136, 0.4692564904689789, 0.46924108266830444, 0.4674738049507141, 0.4668232798576355, 0.4660423696041107, 0.46521833539009094, 0.4622018337249756, 0.45613646507263184, 0.45313364267349243, 0.45313364267349243, 0.8496246933937073, 0.8038692474365234, 0.8038692474365234, 0.7976775765419006, 0.7952933311462402, 0.7928849458694458, 0.7908298969268799, 0.7881810665130615, 0.7843146920204163, 0.7763838171958923, 0.7727810740470886, 0.7725673913955688, 0.7720990180969238, 0.7715646624565125, 0.7683113813400269, 0.7656925916671753, 0.763007640838623, 0.7626205682754517, 0.7624289989471436, 0.7614452838897705, 0.761076807975769, 0.7604325413703918, 0.7598786354064941, 0.758901834487915, 0.757533609867096, 0.7574079036712646, 0.7565567493438721, 0.7565479278564453, 0.7561501264572144, 0.7528078556060791, 0.7528078556060791, 0.7522376775741577, 0.7491334080696106, 0.7474299669265747, 0.7464680671691895, 0.7461915016174316, 0.7453343868255615, 0.7448824048042297, 0.7440360188484192, 0.7419981956481934, 0.7411582469940186, 0.8687217235565186, 0.8644515872001648, 0.855722963809967, 0.8535290956497192, 0.8410272002220154, 0.8410272002220154, 0.8311591148376465, 0.8241409063339233, 0.8226388096809387, 0.8226326704025269, 0.8225718140602112, 0.8225718140602112, 0.8221139907836914, 0.8190757036209106, 0.8188933730125427, 0.8180570006370544, 0.8129541277885437, 0.8129541277885437, 0.8105812072753906, 0.805899441242218, 0.8044751882553101, 0.8041914105415344, 0.8030763864517212, 0.8030763864517212, 0.7997320294380188, 0.7949211597442627, 0.7946550846099854, 0.7924361228942871, 0.7903268933296204, 0.7901424169540405, 0.7901424169540405, 0.7898687124252319, 0.7895488739013672, 0.785592794418335, 0.782193124294281, 0.7816565632820129, 0.7816565632820129, 0.7799428701400757, 0.7776520848274231, 0.7743878364562988, 0.7729712724685669, 0.8372722864151001, 0.8108382225036621, 0.8099160194396973, 0.8057552576065063, 0.8031919598579407, 0.8031402826309204, 0.8031402826309204, 0.8003956079483032, 0.8003956079483032, 0.7968480587005615, 0.7943556308746338, 0.7886573076248169, 0.7886573076248169, 0.7883684635162354, 0.7869732975959778, 0.7863293290138245, 0.7853239178657532, 0.7837356328964233, 0.7823101878166199, 0.7819012999534607, 0.7819012999534607, 0.7809011340141296, 0.7790833115577698, 0.7782556414604187, 0.7763395309448242, 0.776199996471405, 0.7753103971481323, 0.7700747847557068, 0.7658174633979797, 0.7631056308746338, 0.761218786239624, 0.7600229978561401, 0.7596328258514404, 0.7565090656280518, 0.7541361451148987, 0.7541361451148987, 0.7525318264961243, 0.7508900165557861, 0.7502632141113281, 0.7499732375144958, 0.7455896139144897, 0.7744098901748657, 0.6807042956352234, 0.6807042956352234, 0.6807042956352234, 0.6807042956352234, 0.6807042956352234, 0.6807042956352234, 0.6807042956352234, 0.6807042956352234, 0.6807042956352234, 0.6784096360206604, 0.6475426554679871, 0.6465717554092407, 0.6440818309783936, 0.6252103447914124, 0.6243515610694885, 0.6243515610694885, 0.6242972016334534, 0.6240286827087402, 0.6199791431427002, 0.6148856282234192, 0.6137743592262268, 0.6057287454605103, 0.6047765612602234, 0.6047765612602234, 0.5944126844406128, 0.5937166213989258, 0.5932748317718506, 0.5912469625473022, 0.5815972089767456, 0.5625954270362854, 0.5558158755302429, 0.553672194480896, 0.5495557188987732, 0.5449773669242859, 0.5447530746459961, 0.5408917665481567, 0.5399487018585205, 0.539451003074646, 0.5394334197044373, 0.538138210773468, 0.8783676624298096, 0.8654308319091797, 0.8594542741775513, 0.8579065203666687, 0.8569033145904541, 0.851730465888977, 0.8489112854003906, 0.8457003235816956, 0.8457003235816956, 0.83933025598526, 0.83933025598526, 0.829990804195404, 0.8299059867858887, 0.8263379335403442, 0.8238973617553711, 0.8226526975631714, 0.822170615196228, 0.8193849325180054, 0.8191527128219604, 0.8177093863487244, 0.8122566342353821, 0.8122566342353821, 0.8100445866584778, 0.8085055947303772, 0.8063772320747375, 0.8038111925125122, 0.7957652807235718, 0.7944585680961609, 0.794369101524353, 0.7917954325675964, 0.7915485501289368, 0.7915485501289368, 0.7908895015716553, 0.7905706167221069, 0.7838868498802185, 0.7837546467781067, 0.7803276777267456, 0.7803276777267456, 0.7756491303443909, 0.7745410203933716, 0.7745410203933716, 0.838536262512207, 0.8045303821563721, 0.7101763486862183, 0.6977746486663818, 0.6977746486663818, 0.6977746486663818, 0.6716909408569336, 0.6716909408569336, 0.6484913229942322, 0.6484913229942322, 0.6282193064689636, 0.6014792919158936, 0.5994974374771118, 0.5924646854400635, 0.5891149044036865, 0.5798031091690063, 0.5798031091690063, 0.5798031091690063, 0.5798031091690063, 0.5693672299385071, 0.5693672299385071, 0.563124418258667, 0.5576680302619934, 0.5451319217681885, 0.5323929190635681, 0.5318211913108826, 0.530990719795227, 0.5242301225662231, 0.5240281224250793, 0.5215672254562378, 0.5197262167930603, 0.5123397707939148, 0.5123397707939148, 0.5079860091209412, 0.5048021078109741, 0.4998052418231964, 0.499574214220047, 0.49933597445487976, 0.497728168964386, 0.497728168964386, 0.4969184696674347, 0.8958960175514221, 0.8548239469528198, 0.8515482544898987, 0.8453900218009949, 0.8372615575790405, 0.8241227269172668, 0.81029212474823, 0.7959153652191162, 0.7947604060173035, 0.7811011075973511, 0.7741538882255554, 0.7691229581832886, 0.7679136395454407, 0.7629286050796509, 0.7604501843452454, 0.7597649693489075, 0.7584705352783203, 0.7513492703437805, 0.7507880330085754, 0.7461003065109253, 0.7459955811500549, 0.7459578514099121, 0.745126485824585, 0.7408447265625, 0.7402846813201904, 0.7391067147254944, 0.7373955845832825, 0.7371501326560974, 0.7369205951690674, 0.7289168834686279, 0.7251341938972473, 0.724918782711029, 0.7232182025909424, 0.7208465933799744, 0.717337429523468, 0.7172352075576782, 0.715666651725769, 0.7126908302307129, 0.7107124924659729, 0.7083633542060852, 0.7055660486221313, 0.838536262512207, 0.8045303821563721, 0.7101763486862183, 0.6977746486663818, 0.6977746486663818, 0.6977746486663818, 0.6716909408569336, 0.6716909408569336, 0.6484913229942322, 0.6484913229942322, 0.6282193064689636, 0.6014792919158936, 0.5994974374771118, 0.5924646854400635, 0.5891149044036865, 0.5798031091690063, 0.5798031091690063, 0.5798031091690063, 0.5798031091690063, 0.5693672299385071, 0.5693672299385071, 0.563124418258667, 0.5576680302619934, 0.5451319217681885, 0.5323929190635681, 0.5318211913108826, 0.530990719795227, 0.5242301225662231, 0.5240281224250793, 0.5215672254562378, 0.5197262167930603, 0.5123397707939148, 0.5123397707939148, 0.5079860091209412, 0.5048021078109741, 0.4998052418231964, 0.499574214220047, 0.49933597445487976, 0.497728168964386, 0.497728168964386, 0.4969184696674347, 0.7220185995101929, 0.7189904451370239, 0.6513195037841797, 0.6342069506645203, 0.6337321996688843, 0.6211413145065308, 0.6146658062934875, 0.6102824807167053, 0.6097704768180847, 0.6070976257324219, 0.6047399044036865, 0.6047399044036865, 0.6047073602676392, 0.5944730639457703, 0.5853210091590881, 0.5811921954154968, 0.580564022064209, 0.5789526700973511, 0.5757947564125061, 0.5746279954910278, 0.5695666074752808, 0.5680491328239441, 0.5680491328239441, 0.5638976693153381, 0.5635979175567627, 0.5602043867111206, 0.5600603818893433, 0.5598728060722351, 0.5588158369064331, 0.5527656078338623, 0.5497356653213501, 0.5469276905059814, 0.5459742546081543, 0.5453370809555054, 0.5442955493927002, 0.5421130657196045, 0.5415336489677429, 0.5415084362030029, 0.540927529335022, 0.5395863652229309, 0.5395863652229309, 0.994884192943573, 0.9882879853248596, 0.9695237278938293, 0.9695237278938293, 0.9695237278938293, 0.9695237278938293, 0.9695237278938293, 0.9695237278938293, 0.9695237278938293, 0.9695237278938293, 0.9695237278938293, 0.9695237278938293, 0.9695237278938293, 0.9695237278938293, 0.9695237278938293, 0.9671493768692017, 0.9625401496887207, 0.9625401496887207, 0.9621277451515198, 0.9567954540252686, 0.9553991556167603, 0.9502578973770142, 0.9502578973770142, 0.9449681043624878, 0.9449681043624878, 0.9449681043624878, 0.9446160793304443, 0.9446160793304443, 0.9446160793304443, 0.9167584180831909, 0.8978095054626465, 0.8963192105293274, 0.8823325634002686, 0.8790914416313171, 0.8592785000801086, 0.8503023982048035, 0.8479333519935608, 0.8309609889984131, 0.8309609889984131, 0.8254777789115906, 0.8000952005386353, 0.7802111506462097, 0.7444766163825989, 0.6913988590240479, 0.6890873312950134, 0.6890873312950134, 0.6854929327964783, 0.6785773038864136, 0.6767145395278931, 0.6719644069671631, 0.6719644069671631, 0.6501597166061401, 0.6488756537437439, 0.6291201114654541, 0.6259775757789612, 0.6236752867698669, 0.6096032857894897, 0.6096032857894897, 0.6096032857894897, 0.6053542494773865, 0.5996237397193909, 0.5924040675163269, 0.5918412208557129, 0.5787298679351807, 0.5787298679351807, 0.5781390070915222, 0.5773794651031494, 0.5773794651031494, 0.5773794651031494, 0.5731120705604553, 0.5716559886932373, 0.5693159699440002, 0.5641514658927917, 0.5634501576423645, 0.5630668997764587, 0.5627540946006775, 0.5627540946006775, 0.5559238195419312, 0.5555859208106995, 0.553030788898468, 0.55055171251297, 0.5476107597351074, 0.8758468627929688, 0.8623266816139221, 0.8623266816139221, 0.8623266816139221, 0.8614499568939209, 0.8587585687637329, 0.8516762852668762, 0.8482578992843628, 0.8482578992843628, 0.8474557995796204, 0.841968297958374, 0.8335137367248535, 0.8320119976997375, 0.8288760781288147, 0.8248289823532104, 0.8248289823532104, 0.824730634689331, 0.8232300877571106, 0.8110379576683044, 0.8070590496063232, 0.8057098984718323, 0.8030292987823486, 0.801516592502594, 0.7948396801948547, 0.7948396801948547, 0.7901044487953186, 0.7901044487953186, 0.7901044487953186, 0.7829986810684204, 0.7804855704307556, 0.7801185846328735, 0.7797426581382751, 0.7734849452972412, 0.7720991969108582, 0.7705439329147339, 0.769900381565094, 0.7698742151260376, 0.7689443826675415, 0.7664318084716797, 0.7595587372779846, 0.7595587372779846, 0.9004262685775757, 0.8987208008766174, 0.8861671090126038, 0.8861671090126038, 0.8861671090126038, 0.8829981684684753, 0.8829981684684753, 0.8825173377990723, 0.874312162399292, 0.874312162399292, 0.8724725842475891, 0.8505446910858154, 0.8489079475402832, 0.8343387842178345, 0.8329952955245972, 0.8284814953804016, 0.8247822523117065, 0.8233684301376343, 0.8121946454048157, 0.8121946454048157, 0.8121946454048157, 0.8017868399620056, 0.8011839985847473, 0.7976807951927185, 0.7938885688781738, 0.7928712368011475, 0.7921846508979797, 0.7912598252296448, 0.7894914746284485, 0.7894490361213684, 0.7861790060997009, 0.7813585996627808, 0.7813585996627808, 0.7756444811820984, 0.7719165682792664, 0.7687692642211914, 0.7685808539390564, 0.7635703682899475, 0.763410210609436, 0.7613034844398499, 0.7613034844398499, 0.9999998807907104, 0.940442681312561, 0.7141678929328918, 0.7141678929328918, 0.7026709914207458, 0.694521963596344, 0.694521963596344, 0.694521963596344, 0.694521963596344, 0.694521963596344, 0.694521963596344, 0.694521963596344, 0.6770644187927246, 0.6588821411132812, 0.6585642695426941, 0.6470693945884705, 0.5977420210838318, 0.5973637104034424, 0.5926061272621155, 0.5884454250335693, 0.5862628221511841, 0.5854657888412476, 0.584757924079895, 0.5830000638961792, 0.5815959572792053, 0.5804746150970459, 0.5762540698051453, 0.5682153701782227, 0.567027747631073, 0.5643736720085144, 0.5635234713554382, 0.5516745448112488, 0.5499197244644165, 0.5488306283950806, 0.5483421087265015, 0.5447681546211243, 0.5423845052719116, 0.54196697473526, 0.5390579104423523, 0.5342751741409302, 0.5336393117904663, 0.8758468627929688, 0.8623266816139221, 0.8623266816139221, 0.8623266816139221, 0.8614499568939209, 0.8587585687637329, 0.8516762852668762, 0.8482578992843628, 0.8482578992843628, 0.8474557995796204, 0.841968297958374, 0.8335137367248535, 0.8320119976997375, 0.8288760781288147, 0.8248289823532104, 0.8248289823532104, 0.824730634689331, 0.8232300877571106, 0.8110379576683044, 0.8070590496063232, 0.8057098984718323, 0.8030292987823486, 0.801516592502594, 0.7948396801948547, 0.7948396801948547, 0.7901044487953186, 0.7901044487953186, 0.7901044487953186, 0.7829986810684204, 0.7804855704307556, 0.7801185846328735, 0.7797426581382751, 0.7734849452972412, 0.7720991969108582, 0.7705439329147339, 0.769900381565094, 0.7698742151260376, 0.7689443826675415, 0.7664318084716797, 0.7595587372779846, 0.7595587372779846, 0.8758468627929688, 0.8623266816139221, 0.8623266816139221, 0.8623266816139221, 0.8614499568939209, 0.8587585687637329, 0.8516762852668762, 0.8482578992843628, 0.8482578992843628, 0.8474557995796204, 0.841968297958374, 0.8335137367248535, 0.8320119976997375, 0.8288760781288147, 0.8248289823532104, 0.8248289823532104, 0.824730634689331, 0.8232300877571106, 0.8110379576683044, 0.8070590496063232, 0.8057098984718323, 0.8030292987823486, 0.801516592502594, 0.7948396801948547, 0.7948396801948547, 0.7901044487953186, 0.7901044487953186, 0.7901044487953186, 0.7829986810684204, 0.7804855704307556, 0.7801185846328735, 0.7797426581382751, 0.7734849452972412, 0.7720991969108582, 0.7705439329147339, 0.769900381565094, 0.7698742151260376, 0.7689443826675415, 0.7664318084716797, 0.7595587372779846, 0.7595587372779846, 0.9004262685775757, 0.8987208008766174, 0.8861671090126038, 0.8861671090126038, 0.8861671090126038, 0.8829981684684753, 0.8829981684684753, 0.8825173377990723, 0.874312162399292, 0.874312162399292, 0.8724725842475891, 0.8505446910858154, 0.8489079475402832, 0.8343387842178345, 0.8329952955245972, 0.8284814953804016, 0.8247822523117065, 0.8233684301376343, 0.8121946454048157, 0.8121946454048157, 0.8121946454048157, 0.8017868399620056, 0.8011839985847473, 0.7976807951927185, 0.7938885688781738, 0.7928712368011475, 0.7921846508979797, 0.7912598252296448, 0.7894914746284485, 0.7894490361213684, 0.7861790060997009, 0.7813585996627808, 0.7813585996627808, 0.7756444811820984, 0.7719165682792664, 0.7687692642211914, 0.7685808539390564, 0.7635703682899475, 0.763410210609436, 0.7613034844398499, 0.7613034844398499, 0.9999998807907104, 0.940442681312561, 0.7141678929328918, 0.7141678929328918, 0.7026709914207458, 0.694521963596344, 0.694521963596344, 0.694521963596344, 0.694521963596344, 0.694521963596344, 0.694521963596344, 0.694521963596344, 0.6770644187927246, 0.6588821411132812, 0.6585642695426941, 0.6470693945884705, 0.5977420210838318, 0.5973637104034424, 0.5926061272621155, 0.5884454250335693, 0.5862628221511841, 0.5854657888412476, 0.584757924079895, 0.5830000638961792, 0.5815959572792053, 0.5804746150970459, 0.5762540698051453, 0.5682153701782227, 0.567027747631073, 0.5643736720085144, 0.5635234713554382, 0.5516745448112488, 0.5499197244644165, 0.5488306283950806, 0.5483421087265015, 0.5447681546211243, 0.5423845052719116, 0.54196697473526, 0.5390579104423523, 0.5342751741409302, 0.5336393117904663, 0.8758468627929688, 0.8623266816139221, 0.8623266816139221, 0.8623266816139221, 0.8614499568939209, 0.8587585687637329, 0.8516762852668762, 0.8482578992843628, 0.8482578992843628, 0.8474557995796204, 0.841968297958374, 0.8335137367248535, 0.8320119976997375, 0.8288760781288147, 0.8248289823532104, 0.8248289823532104, 0.824730634689331, 0.8232300877571106, 0.8110379576683044, 0.8070590496063232, 0.8057098984718323, 0.8030292987823486, 0.801516592502594, 0.7948396801948547, 0.7948396801948547, 0.7901044487953186, 0.7901044487953186, 0.7901044487953186, 0.7829986810684204, 0.7804855704307556, 0.7801185846328735, 0.7797426581382751, 0.7734849452972412, 0.7720991969108582, 0.7705439329147339, 0.769900381565094, 0.7698742151260376, 0.7689443826675415, 0.7664318084716797, 0.7595587372779846, 0.7595587372779846, 0.753746747970581, 0.753746747970581, 0.7495572566986084, 0.7350908517837524, 0.7349473834037781, 0.7349473834037781, 0.707951545715332, 0.7056247591972351, 0.6813203692436218, 0.679228663444519, 0.6787956357002258, 0.6782124042510986, 0.6782124042510986, 0.6733085513114929, 0.6730776429176331, 0.6671177744865417, 0.6648775935173035, 0.6648775935173035, 0.662213146686554, 0.662213146686554, 0.6585605144500732, 0.6573308706283569, 0.65702223777771, 0.6555379629135132, 0.6534069776535034, 0.6528159379959106, 0.6516144275665283, 0.6515823602676392, 0.645137369632721, 0.645137369632721, 0.6376680731773376, 0.6369228363037109, 0.636812150478363, 0.6360714435577393, 0.6347497701644897, 0.6314257979393005, 0.63091641664505, 0.6298919320106506, 0.6280890703201294, 0.6279465556144714, 0.6246757507324219, 0.8139375448226929, 0.7976087927818298, 0.7686192393302917, 0.766827404499054, 0.766827404499054, 0.7664282917976379, 0.7399385571479797, 0.7379119396209717, 0.736853301525116, 0.7315552830696106, 0.7315552830696106, 0.7282978296279907, 0.7244524359703064, 0.719846248626709, 0.719846248626709, 0.7198231220245361, 0.7198231220245361, 0.7146341800689697, 0.7131209969520569, 0.7110952734947205, 0.7087208032608032, 0.7079322338104248, 0.7063343524932861, 0.6923499703407288, 0.6923499703407288, 0.6919670701026917, 0.690033495426178, 0.6880355477333069, 0.6856706142425537, 0.6846522688865662, 0.684581458568573, 0.6814918518066406, 0.6814780235290527, 0.6793617010116577, 0.6748375296592712, 0.674649178981781, 0.6728585362434387, 0.6720558404922485, 0.6708682775497437, 0.6681289672851562, 0.6671208739280701, 1.000000238418579, 1.000000238418579, 1.000000238418579, 1.000000238418579, 1.000000238418579, 1.000000238418579, 1.000000238418579, 1.000000238418579, 1.000000238418579, 1.000000238418579, 1.000000238418579, 1.000000238418579, 1.000000238418579, 1.000000238418579, 1.000000238418579, 1.000000238418579, 1.000000238418579, 1.000000238418579, 1.000000238418579, 1.000000238418579, 1.000000238418579, 1.000000238418579, 0.9566225409507751, 0.9424757957458496, 0.88138347864151, 0.863652765750885, 0.863061785697937, 0.8319162726402283, 0.8281577229499817, 0.8238192796707153, 0.7992029190063477, 0.796901285648346, 0.7853519320487976, 0.7648894786834717, 0.7534275650978088, 0.750914454460144, 0.7397439479827881, 0.7378425598144531, 0.731751024723053, 0.7253555059432983, 0.7222533822059631, 0.8340075612068176, 0.8340075612068176, 0.7772236466407776, 0.7721887826919556, 0.7715731859207153, 0.7715731859207153, 0.7698759436607361, 0.7698759436607361, 0.7629024982452393, 0.7611843943595886, 0.7602361440658569, 0.758202075958252, 0.7539509534835815, 0.7460910081863403, 0.7447584867477417, 0.7439144849777222, 0.7439144849777222, 0.7377390265464783, 0.7334651350975037, 0.7334651350975037, 0.7294617295265198, 0.7291277050971985, 0.7291277050971985, 0.7279723286628723, 0.7245076298713684, 0.7224742770195007, 0.7221123576164246, 0.7218571305274963, 0.7216367721557617, 0.7209489345550537, 0.7209489345550537, 0.7199775576591492, 0.7186508178710938, 0.7170367240905762, 0.7168008685112, 0.7105932831764221, 0.7094016075134277, 0.7094016075134277, 0.706205427646637, 0.706205427646637, 0.7061324715614319, 0.753746747970581, 0.753746747970581, 0.7495572566986084, 0.7350908517837524, 0.7349473834037781, 0.7349473834037781, 0.707951545715332, 0.7056247591972351, 0.6813203692436218, 0.679228663444519, 0.6787956357002258, 0.6782124042510986, 0.6782124042510986, 0.6733085513114929, 0.6730776429176331, 0.6671177744865417, 0.6648775935173035, 0.6648775935173035, 0.662213146686554, 0.662213146686554, 0.6585605144500732, 0.6573308706283569, 0.65702223777771, 0.6555379629135132, 0.6534069776535034, 0.6528159379959106, 0.6516144275665283, 0.6515823602676392, 0.645137369632721, 0.645137369632721, 0.6376680731773376, 0.6369228363037109, 0.636812150478363, 0.6360714435577393, 0.6347497701644897, 0.6314257979393005, 0.63091641664505, 0.6298919320106506, 0.6280890703201294, 0.6279465556144714, 0.6246757507324219, 0.8139375448226929, 0.7976087927818298, 0.7686192393302917, 0.766827404499054, 0.766827404499054, 0.7664282917976379, 0.7399385571479797, 0.7379119396209717, 0.736853301525116, 0.7315552830696106, 0.7315552830696106, 0.7282978296279907, 0.7244524359703064, 0.719846248626709, 0.719846248626709, 0.7198231220245361, 0.7198231220245361, 0.7146341800689697, 0.7131209969520569, 0.7110952734947205, 0.7087208032608032, 0.7079322338104248, 0.7063343524932861, 0.6923499703407288, 0.6923499703407288, 0.6919670701026917, 0.690033495426178, 0.6880355477333069, 0.6856706142425537, 0.6846522688865662, 0.684581458568573, 0.6814918518066406, 0.6814780235290527, 0.6793617010116577, 0.6748375296592712, 0.674649178981781, 0.6728585362434387, 0.6720558404922485, 0.6708682775497437, 0.6681289672851562, 0.6671208739280701, 1.000000238418579, 1.000000238418579, 1.000000238418579, 1.000000238418579, 1.000000238418579, 1.000000238418579, 1.000000238418579, 1.000000238418579, 1.000000238418579, 1.000000238418579, 1.000000238418579, 1.000000238418579, 1.000000238418579, 1.000000238418579, 1.000000238418579, 1.000000238418579, 1.000000238418579, 1.000000238418579, 1.000000238418579, 1.000000238418579, 1.000000238418579, 1.000000238418579, 0.9566225409507751, 0.9424757957458496, 0.88138347864151, 0.863652765750885, 0.863061785697937, 0.8319162726402283, 0.8281577229499817, 0.8238192796707153, 0.7992029190063477, 0.796901285648346, 0.7853519320487976, 0.7648894786834717, 0.7534275650978088, 0.750914454460144, 0.7397439479827881, 0.7378425598144531, 0.731751024723053, 0.7253555059432983, 0.7222533822059631, 0.8340075612068176, 0.8340075612068176, 0.7772236466407776, 0.7721887826919556, 0.7715731859207153, 0.7715731859207153, 0.7698759436607361, 0.7698759436607361, 0.7629024982452393, 0.7611843943595886, 0.7602361440658569, 0.758202075958252, 0.7539509534835815, 0.7460910081863403, 0.7447584867477417, 0.7439144849777222, 0.7439144849777222, 0.7377390265464783, 0.7334651350975037, 0.7334651350975037, 0.7294617295265198, 0.7291277050971985, 0.7291277050971985, 0.7279723286628723, 0.7245076298713684, 0.7224742770195007, 0.7221123576164246, 0.7218571305274963, 0.7216367721557617, 0.7209489345550537, 0.7209489345550537, 0.7199775576591492, 0.7186508178710938, 0.7170367240905762, 0.7168008685112, 0.7105932831764221, 0.7094016075134277, 0.7094016075134277, 0.706205427646637, 0.706205427646637, 0.7061324715614319, 0.8247067928314209, 0.7815577983856201, 0.7731283903121948, 0.7708919048309326, 0.7499104738235474, 0.7482554912567139, 0.7339178919792175, 0.7321965098381042, 0.7294971942901611, 0.724862277507782, 0.7245473265647888, 0.7198817729949951, 0.7195027470588684, 0.7167577743530273, 0.7148271799087524, 0.7148271799087524, 0.7139369249343872, 0.7139369249343872, 0.7134237885475159, 0.7130196690559387, 0.7071526050567627, 0.7034818530082703, 0.703349232673645, 0.7029305696487427, 0.694194495677948, 0.6934602856636047, 0.6930643916130066, 0.6905837059020996, 0.6905837059020996, 0.6896483302116394, 0.6895215511322021, 0.6869911551475525, 0.6868064999580383, 0.6865310668945312, 0.6841848492622375, 0.6817725896835327, 0.6815906167030334, 0.6808218359947205, 0.679713249206543, 0.6794841885566711, 0.6784880757331848, 0.7316710948944092, 0.7133219242095947, 0.6936873197555542, 0.6855811476707458, 0.6786374449729919, 0.6754721999168396, 0.6708104014396667, 0.6708104014396667, 0.6677025556564331, 0.6623798608779907, 0.6502354741096497, 0.6481615304946899, 0.6481615304946899, 0.6411564350128174, 0.6392236948013306, 0.6392236948013306, 0.6366252303123474, 0.6318540573120117, 0.6310359835624695, 0.6243876814842224, 0.6190693378448486, 0.611294686794281, 0.6058244705200195, 0.6043451428413391, 0.5983941555023193, 0.5979910492897034, 0.5950474143028259, 0.5899127125740051, 0.585703432559967, 0.5853491425514221, 0.5850339531898499, 0.5753726363182068, 0.5727513432502747, 0.5722038745880127, 0.5722038745880127, 0.5722038745880127, 0.5712246894836426, 0.5696298480033875, 0.5676491856575012, 0.5676066279411316, 0.5659580826759338, 0.6748313307762146, 0.668202817440033, 0.6639958620071411, 0.6541503667831421, 0.6541503667831421, 0.65109783411026, 0.6435114741325378, 0.6407655477523804, 0.6329532861709595, 0.630418062210083, 0.618901789188385, 0.618901789188385, 0.618901789188385, 0.615016520023346, 0.6119730472564697, 0.6095716953277588, 0.6092977523803711, 0.6085654497146606, 0.6083719730377197, 0.6082410216331482, 0.6064650416374207, 0.603933572769165, 0.6032118201255798, 0.603151261806488, 0.5994608402252197, 0.5991542339324951, 0.5991542339324951, 0.5990273356437683, 0.5978989601135254, 0.5939142107963562, 0.59047532081604, 0.59047532081604, 0.5898032784461975, 0.5879932045936584, 0.5879932045936584, 0.5877892374992371, 0.5877892374992371, 0.5877892374992371, 0.586979866027832, 0.5825133919715881, 0.5825133919715881, 0.838617742061615, 0.7688350081443787, 0.7619931697845459, 0.7541919946670532, 0.7520973086357117, 0.7413551211357117, 0.7413551211357117, 0.731275737285614, 0.729992687702179, 0.7233905792236328, 0.713969349861145, 0.713469386100769, 0.709505558013916, 0.701887845993042, 0.7008925080299377, 0.6974788308143616, 0.6964366436004639, 0.696149468421936, 0.6892214417457581, 0.6855296492576599, 0.6841437816619873, 0.6841067671775818, 0.682657778263092, 0.6806606650352478, 0.6766543984413147, 0.6738216280937195, 0.6702989935874939, 0.6659721732139587, 0.6659721732139587, 0.6648806929588318, 0.6592150926589966, 0.6573338508605957, 0.6556910872459412, 0.6554388403892517, 0.6554388403892517, 0.6553564071655273, 0.6550431847572327, 0.6544970870018005, 0.6517459750175476, 0.6507387757301331, 0.6490055918693542, 0.859775960445404, 0.859775960445404, 0.859775960445404, 0.7524757981300354, 0.732058584690094, 0.6820237636566162, 0.5619299411773682, 0.5617601275444031, 0.5368908047676086, 0.5368908047676086, 0.5152419805526733, 0.46707627177238464, 0.4525907635688782, 0.4525907635688782, 0.4166286885738373, 0.4166286885738373, 0.41510510444641113, 0.41510510444641113, 0.3995034098625183, 0.39469653367996216, 0.35205307602882385, 0.34408605098724365, 0.3410568833351135, 0.3410568833351135, 0.3322213590145111, 0.3322213590145111, 0.318215012550354, 0.31533509492874146, 0.31102800369262695, 0.3101527690887451, 0.3101527690887451, 0.3101527690887451, 0.3085267245769501, 0.303608775138855, 0.30333712697029114, 0.30333712697029114, 0.30333712697029114, 0.2937585711479187, 0.29175877571105957, 0.2917395532131195, 0.2880081832408905, 0.859775960445404, 0.859775960445404, 0.859775960445404, 0.7524757981300354, 0.732058584690094, 0.6820237636566162, 0.5619299411773682, 0.5617601275444031, 0.5368908047676086, 0.5368908047676086, 0.5152419805526733, 0.46707627177238464, 0.4525907635688782, 0.4525907635688782, 0.4166286885738373, 0.4166286885738373, 0.41510510444641113, 0.41510510444641113, 0.3995034098625183, 0.39469653367996216, 0.35205307602882385, 0.34408605098724365, 0.3410568833351135, 0.3410568833351135, 0.3322213590145111, 0.3322213590145111, 0.318215012550354, 0.31533509492874146, 0.31102800369262695, 0.3101527690887451, 0.3101527690887451, 0.3101527690887451, 0.3085267245769501, 0.303608775138855, 0.30333712697029114, 0.30333712697029114, 0.30333712697029114, 0.2937585711479187, 0.29175877571105957, 0.2917395532131195, 0.2880081832408905, 0.45397669076919556, 0.43195468187332153, 0.3788412809371948, 0.34701523184776306, 0.34517455101013184, 0.34517455101013184, 0.34517455101013184, 0.3406163156032562, 0.3328201174736023, 0.33109545707702637, 0.3145509660243988, 0.3132016062736511, 0.31101518869400024, 0.2973300814628601, 0.29490572214126587, 0.2809462547302246, 0.2764323055744171, 0.26797816157341003, 0.26768216490745544, 0.26695188879966736, 0.2655867636203766, 0.2588855028152466, 0.2551945745944977, 0.2530975341796875, 0.2490955889225006, 0.2419709861278534, 0.23604141175746918, 0.2281758189201355, 0.22703978419303894, 0.22593429684638977, 0.22593429684638977, 0.22593429684638977, 0.22344718873500824, 0.22298870980739594, 0.2216089367866516, 0.2196163833141327, 0.21891343593597412, 0.21603672206401825, 0.20902712643146515, 0.2071804702281952, 0.20630039274692535, 0.7340570688247681, 0.7316619753837585, 0.5827745795249939, 0.5827745795249939, 0.5827745795249939, 0.5712913274765015, 0.5423054099082947, 0.5423054099082947, 0.5361109972000122, 0.5351222157478333, 0.5299365520477295, 0.5133020877838135, 0.5022670030593872, 0.4699277877807617, 0.457421213388443, 0.4519290328025818, 0.43882855772972107, 0.4056468904018402, 0.4002475440502167, 0.378605455160141, 0.3770526647567749, 0.3750442862510681, 0.3733225464820862, 0.3733225464820862, 0.3703853189945221, 0.366285115480423, 0.36535605788230896, 0.352030485868454, 0.34380626678466797, 0.34380626678466797, 0.34071311354637146, 0.3346898555755615, 0.3346898555755615, 0.3346898555755615, 0.3310562074184418, 0.3225426971912384, 0.31788119673728943, 0.3116929233074188, 0.3062238097190857, 0.3010624349117279, 0.29967811703681946, 0.8363091349601746, 0.8247295618057251, 0.8081915378570557, 0.7999976873397827, 0.7755215167999268, 0.7679150700569153, 0.7654004693031311, 0.7622206211090088, 0.7579103708267212, 0.7579103708267212, 0.7441094517707825, 0.7441094517707825, 0.7425163984298706, 0.7408398389816284, 0.7376725673675537, 0.7349913716316223, 0.7331209778785706, 0.7317371964454651, 0.7238483428955078, 0.7224463820457458, 0.7200536131858826, 0.7124397158622742, 0.7111422419548035, 0.7111422419548035, 0.710573136806488, 0.7088451385498047, 0.708073079586029, 0.7072687149047852, 0.7041498422622681, 0.7041498422622681, 0.7041498422622681, 0.7041498422622681, 0.7041351199150085, 0.7041351199150085, 0.7039220929145813, 0.6997500658035278, 0.6928623914718628, 0.6920601725578308, 0.6852806806564331, 0.6821504235267639, 0.6812989711761475, 0.8608576059341431, 0.8234854340553284, 0.8197339773178101, 0.8181142210960388, 0.8171095848083496, 0.8151430487632751, 0.809288501739502, 0.8088083863258362, 0.7957469820976257, 0.7951837182044983, 0.7936531901359558, 0.7904574275016785, 0.7896353006362915, 0.7861077785491943, 0.7851111888885498, 0.781651496887207, 0.7794778943061829, 0.77902752161026, 0.7787027955055237, 0.7773259878158569, 0.7773259878158569, 0.7773259878158569, 0.7764984369277954, 0.7758440375328064, 0.7754785418510437, 0.7714352011680603, 0.770443320274353, 0.770443320274353, 0.7677136659622192, 0.7670416831970215, 0.7669761180877686, 0.7669761180877686, 0.7656850814819336, 0.7654076218605042, 0.7654021382331848, 0.7654021382331848, 0.7627013921737671, 0.7625647187232971, 0.760941743850708, 0.7594824433326721, 0.7594824433326721, 0.9147943258285522, 0.8858458995819092, 0.8534331321716309, 0.8349480032920837, 0.8323183059692383, 0.8275638818740845, 0.8247689008712769, 0.8180175423622131, 0.816301167011261, 0.816301167011261, 0.816301167011261, 0.8127236366271973, 0.8111433386802673, 0.8077711462974548, 0.8065553903579712, 0.8057288527488708, 0.7999589443206787, 0.7990290522575378, 0.7973532676696777, 0.7971829771995544, 0.7933183312416077, 0.7923721671104431, 0.7922507524490356, 0.7915517687797546, 0.7897840738296509, 0.7897840738296509, 0.7897235751152039, 0.7879799008369446, 0.7846359610557556, 0.7834126949310303, 0.7788440585136414, 0.7771909236907959, 0.7714364528656006, 0.7712863087654114, 0.7709492444992065, 0.7706892490386963, 0.7688189148902893, 0.7673918604850769, 0.7670896053314209, 0.7668071985244751, 0.7637097239494324, 1.000000238418579, 1.000000238418579, 1.000000238418579, 1.000000238418579, 1.000000238418579, 1.000000238418579, 1.000000238418579, 1.000000238418579, 1.000000238418579, 1.000000238418579, 1.000000238418579, 1.000000238418579, 1.000000238418579, 1.000000238418579, 1.000000238418579, 1.000000238418579, 1.000000238418579, 1.000000238418579, 1.000000238418579, 1.000000238418579, 1.000000238418579, 1.000000238418579, 1.000000238418579, 0.9566225409507751, 0.9424757957458496, 0.88138347864151, 0.863652765750885, 0.863061785697937, 0.8319162726402283, 0.8281577229499817, 0.8238192796707153, 0.7992029190063477, 0.796901285648346, 0.7853519320487976, 0.7648894786834717, 0.7534275650978088, 0.750914454460144, 0.7397439479827881, 0.7378425598144531, 0.731751024723053, 0.7253555059432983, 0.8608576059341431, 0.8234854340553284, 0.8197339773178101, 0.8181142210960388, 0.8171095848083496, 0.8151430487632751, 0.809288501739502, 0.8088083863258362, 0.7957469820976257, 0.7951837182044983, 0.7936531901359558, 0.7904574275016785, 0.7896353006362915, 0.7861077785491943, 0.7851111888885498, 0.781651496887207, 0.7794778943061829, 0.77902752161026, 0.7787027955055237, 0.7773259878158569, 0.7773259878158569, 0.7773259878158569, 0.7764984369277954, 0.7758440375328064, 0.7754785418510437, 0.7714352011680603, 0.770443320274353, 0.770443320274353, 0.7677136659622192, 0.7670416831970215, 0.7669761180877686, 0.7669761180877686, 0.7656850814819336, 0.7654076218605042, 0.7654021382331848, 0.7654021382331848, 0.7627013921737671, 0.7625647187232971, 0.760941743850708, 0.7594824433326721, 0.7594824433326721, 0.7084162831306458, 0.6738861203193665, 0.63329017162323, 0.6290250420570374, 0.6248317956924438, 0.6107544898986816, 0.6082397103309631, 0.603358268737793, 0.6020408868789673, 0.6005518436431885, 0.5879797339439392, 0.5879797339439392, 0.5810185670852661, 0.5792674422264099, 0.5786029100418091, 0.5741134285926819, 0.5679277181625366, 0.5649383664131165, 0.5649383664131165, 0.5563358068466187, 0.5551758408546448, 0.553717851638794, 0.553717851638794, 0.5521726012229919, 0.5489270091056824, 0.5463352799415588, 0.5437137484550476, 0.5426839590072632, 0.5399918556213379, 0.5391659736633301, 0.5391659736633301, 0.5364572405815125, 0.5354973673820496, 0.5354973673820496, 0.5348098278045654, 0.5346280932426453, 0.5297467112541199, 0.5288965702056885, 0.5279636383056641, 0.5272611379623413, 0.5272611379623413, 0.5918418765068054, 0.5099868774414062, 0.5099868774414062, 0.49569645524024963, 0.46825355291366577, 0.4678860902786255, 0.4678860902786255, 0.4553924798965454, 0.4553924798965454, 0.4553924798965454, 0.45204076170921326, 0.45204076170921326, 0.44700032472610474, 0.44671860337257385, 0.44671860337257385, 0.44671860337257385, 0.44671860337257385, 0.44310176372528076, 0.44310176372528076, 0.44310176372528076, 0.44171541929244995, 0.4386735260486603, 0.43193140625953674, 0.43054139614105225, 0.4297010898590088, 0.42944541573524475, 0.42601433396339417, 0.4244946539402008, 0.42443153262138367, 0.42383483052253723, 0.42383483052253723, 0.42383483052253723, 0.4210813045501709, 0.4203135669231415, 0.4174848794937134, 0.40304017066955566, 0.39948731660842896, 0.39648255705833435, 0.39648255705833435, 0.39525067806243896, 0.39517390727996826, 0.8299956917762756, 0.7880831956863403, 0.7810594439506531, 0.7750895619392395, 0.7634238600730896, 0.7533034086227417, 0.7522822618484497, 0.7517006397247314, 0.7431973814964294, 0.7335561513900757, 0.7310590744018555, 0.7292402386665344, 0.7231035828590393, 0.7224056720733643, 0.7206751704216003, 0.7206751704216003, 0.7126137614250183, 0.7109211683273315, 0.7053641080856323, 0.699792206287384, 0.6988983154296875, 0.6988003849983215, 0.6985020041465759, 0.696495532989502, 0.6949247717857361, 0.694625973701477, 0.694625973701477, 0.6922773718833923, 0.6875098347663879, 0.6868458986282349, 0.6816080808639526, 0.6806898713111877, 0.6747496128082275, 0.6739127039909363, 0.6739127039909363, 0.672210156917572, 0.6717745065689087, 0.6689799427986145, 0.6689799427986145, 0.6661438345909119, 0.6661438345909119, 0.7380006909370422, 0.7329066395759583, 0.7197637557983398, 0.7128642797470093, 0.6968997120857239, 0.6950804591178894, 0.6851237416267395, 0.6811017990112305, 0.6684955954551697, 0.6684827208518982, 0.6652685403823853, 0.6639836430549622, 0.6617370843887329, 0.659864604473114, 0.654433012008667, 0.6460153460502625, 0.6406561732292175, 0.6379988789558411, 0.6350495219230652, 0.6349807977676392, 0.634005069732666, 0.6333982944488525, 0.6269804239273071, 0.6213906407356262, 0.6196882724761963, 0.6183406114578247, 0.617596447467804, 0.6174129843711853, 0.6143559217453003, 0.6121551394462585, 0.6117022633552551, 0.6117022633552551, 0.6105870008468628, 0.6079809665679932, 0.6069290041923523, 0.6069290041923523, 0.6060743927955627, 0.6060743927955627, 0.6060743927955627, 0.6060743927955627, 0.6059095859527588, 0.664813756942749, 0.615871787071228, 0.615871787071228, 0.5898662805557251, 0.5879448056221008, 0.5378168225288391, 0.5204572081565857, 0.504691481590271, 0.504691481590271, 0.49612918496131897, 0.4946056008338928, 0.4911641478538513, 0.49052608013153076, 0.4885001480579376, 0.4865587651729584, 0.4852001965045929, 0.48489758372306824, 0.4848572611808777, 0.48371317982673645, 0.48025962710380554, 0.47407710552215576, 0.47031617164611816, 0.46837958693504333, 0.4673171043395996, 0.46605050563812256, 0.46570324897766113, 0.46570324897766113, 0.4655935764312744, 0.4655935764312744, 0.45950064063072205, 0.45816323161125183, 0.45816323161125183, 0.45816323161125183, 0.45816323161125183, 0.4560738503932953, 0.4548827111721039, 0.45390233397483826, 0.4530206322669983, 0.4530206322669983, 0.4528900682926178, 0.4528900682926178, 0.8657675385475159, 0.7926738858222961, 0.7902040481567383, 0.7678061723709106, 0.7408151030540466, 0.729049026966095, 0.725445032119751, 0.705498456954956, 0.7028005123138428, 0.7004987001419067, 0.7001552581787109, 0.6962752342224121, 0.6940826773643494, 0.6940721869468689, 0.6921231746673584, 0.6799841523170471, 0.6737872958183289, 0.6737872958183289, 0.6706648468971252, 0.6620413064956665, 0.6523888111114502, 0.652163028717041, 0.6483026742935181, 0.6483026742935181, 0.6483026742935181, 0.6360597610473633, 0.6360597610473633, 0.6327292323112488, 0.6321729421615601, 0.6311218738555908, 0.6280705332756042, 0.6277856826782227, 0.6258678436279297, 0.6189915537834167, 0.618914008140564, 0.6152113080024719, 0.6150359511375427, 0.6145991086959839, 0.6134161949157715, 0.6108017563819885, 0.6050935387611389, 0.6608833074569702, 0.6487950086593628, 0.6133410334587097, 0.6027770638465881, 0.5969069600105286, 0.5969069600105286, 0.5923507213592529, 0.58624267578125, 0.5718961358070374, 0.5711580514907837, 0.5692520141601562, 0.5657302737236023, 0.56046062707901, 0.5598891377449036, 0.5561546087265015, 0.5556833744049072, 0.5538294315338135, 0.5535337924957275, 0.552696943283081, 0.5481433272361755, 0.5481433272361755, 0.5474813580513, 0.5461437702178955, 0.5451282262802124, 0.5451282262802124, 0.5424471497535706, 0.5413677096366882, 0.5363321900367737, 0.5342637300491333, 0.5338776111602783, 0.5328294634819031, 0.5328294634819031, 0.523287832736969, 0.5167099237442017, 0.5164307951927185, 0.511044442653656, 0.5109703540802002, 0.5109703540802002, 0.5084002614021301, 0.5070847868919373, 0.4986518621444702, 0.6886699199676514, 0.6724366545677185, 0.6356358528137207, 0.621218204498291, 0.618435263633728, 0.618435263633728, 0.6147280335426331, 0.6037212610244751, 0.5923948287963867, 0.5893306136131287, 0.5888420343399048, 0.5872400403022766, 0.5782302021980286, 0.5773101449012756, 0.5746574997901917, 0.5737418532371521, 0.5718324184417725, 0.568952202796936, 0.5663508772850037, 0.5663508772850037, 0.5647512674331665, 0.5642138719558716, 0.5636481046676636, 0.5636481046676636, 0.5630548000335693, 0.5628566741943359, 0.5531769394874573, 0.5519375205039978, 0.5519375205039978, 0.5469868183135986, 0.5457669496536255, 0.5408405661582947, 0.5287275910377502, 0.527583122253418, 0.5214343070983887, 0.5172526836395264, 0.5153857469558716, 0.5148049592971802, 0.508269727230072, 0.5078115463256836, 0.5046347975730896, 0.8117578625679016, 0.7499291896820068, 0.6775891184806824, 0.6467474102973938, 0.6015036106109619, 0.6011001467704773, 0.6011001467704773, 0.5793382525444031, 0.5729407668113708, 0.545634388923645, 0.503339946269989, 0.49930205941200256, 0.49502161145210266, 0.4944533407688141, 0.4898446202278137, 0.4898446202278137, 0.4856926202774048, 0.4835660755634308, 0.47150570154190063, 0.4652162790298462, 0.4617140591144562, 0.4567171037197113, 0.4550095498561859, 0.45359498262405396, 0.44116678833961487, 0.43748342990875244, 0.388614684343338, 0.37921833992004395, 0.364267498254776, 0.35747969150543213, 0.35290980339050293, 0.3484077453613281, 0.3452593982219696, 0.3355605900287628, 0.32146742939949036, 0.30991584062576294, 0.30991584062576294, 0.30991584062576294, 0.3085569441318512, 0.30533918738365173, 0.30401185154914856, 0.6608833074569702, 0.6487950086593628, 0.6133410334587097, 0.6027770638465881, 0.5969069600105286, 0.5969069600105286, 0.5923507213592529, 0.58624267578125, 0.5718961358070374, 0.5711580514907837, 0.5692520141601562, 0.5657302737236023, 0.56046062707901, 0.5598891377449036, 0.5561546087265015, 0.5556833744049072, 0.5538294315338135, 0.5535337924957275, 0.552696943283081, 0.5481433272361755, 0.5481433272361755, 0.5474813580513, 0.5461437702178955, 0.5451282262802124, 0.5451282262802124, 0.5424471497535706, 0.5413677096366882, 0.5363321900367737, 0.5342637300491333, 0.5338776111602783, 0.5328294634819031, 0.5328294634819031, 0.523287832736969, 0.5167099237442017, 0.5164307951927185, 0.511044442653656, 0.5109703540802002, 0.5109703540802002, 0.5084002614021301, 0.5070847868919373, 0.4986518621444702, 0.8784732818603516, 0.8784732818603516, 0.8721110820770264, 0.8618966937065125, 0.8378105759620667, 0.8272134065628052, 0.797450065612793, 0.7857649922370911, 0.7846394777297974, 0.7835217714309692, 0.7822567820549011, 0.7822567820549011, 0.7806016802787781, 0.7746096849441528, 0.7746096849441528, 0.7746096849441528, 0.7687413692474365, 0.7655819654464722, 0.7574297785758972, 0.7536019682884216, 0.7522967457771301, 0.7518007159233093, 0.7508553862571716, 0.7476008534431458, 0.7476008534431458, 0.7476008534431458, 0.7430670857429504, 0.7383561730384827, 0.73585444688797, 0.7336455583572388, 0.7316790223121643, 0.7304258942604065, 0.7304258942604065, 0.7253292202949524, 0.7253292202949524, 0.7163169384002686, 0.7116177678108215, 0.7099573612213135, 0.7040188312530518, 0.7040188312530518, 0.7040188312530518, 0.8784732818603516, 0.8784732818603516, 0.8721110820770264, 0.8618966937065125, 0.8378105759620667, 0.8272134065628052, 0.797450065612793, 0.7857649922370911, 0.7846394777297974, 0.7835217714309692, 0.7822567820549011, 0.7822567820549011, 0.7806016802787781, 0.7746096849441528, 0.7746096849441528, 0.7746096849441528, 0.7687413692474365, 0.7655819654464722, 0.7574297785758972, 0.7536019682884216, 0.7522967457771301, 0.7518007159233093, 0.7508553862571716, 0.7476008534431458, 0.7476008534431458, 0.7476008534431458, 0.7430670857429504, 0.7383561730384827, 0.73585444688797, 0.7336455583572388, 0.7316790223121643, 0.7304258942604065, 0.7304258942604065, 0.7253292202949524, 0.7253292202949524, 0.7163169384002686, 0.7116177678108215, 0.7099573612213135, 0.7040188312530518, 0.7040188312530518, 0.7040188312530518, 0.7364489436149597, 0.5714321136474609, 0.5649874806404114, 0.5649874806404114, 0.5602898001670837, 0.5375267863273621, 0.5323929190635681, 0.5323929190635681, 0.5259703993797302, 0.525748610496521, 0.5022183656692505, 0.5022183656692505, 0.5019028782844543, 0.4989728331565857, 0.4914095103740692, 0.4851383566856384, 0.47173425555229187, 0.46416372060775757, 0.4623061716556549, 0.4623061716556549, 0.4610094428062439, 0.4521607756614685, 0.45033717155456543, 0.4456824064254761, 0.4418323338031769, 0.44150102138519287, 0.4341282248497009, 0.4308173656463623, 0.42972487211227417, 0.42660900950431824, 0.42585620284080505, 0.42585620284080505, 0.4257234036922455, 0.41336506605148315, 0.40992218255996704, 0.40992218255996704, 0.40882495045661926, 0.40416455268859863, 0.40232574939727783, 0.40232574939727783, 0.4012753665447235, 0.8784732818603516, 0.8784732818603516, 0.8721110820770264, 0.8618966937065125, 0.8378105759620667, 0.8272134065628052, 0.797450065612793, 0.7857649922370911, 0.7846394777297974, 0.7835217714309692, 0.7822567820549011, 0.7822567820549011, 0.7806016802787781, 0.7746096849441528, 0.7746096849441528, 0.7746096849441528, 0.7687413692474365, 0.7655819654464722, 0.7574297785758972, 0.7536019682884216, 0.7522967457771301, 0.7518007159233093, 0.7508553862571716, 0.7476008534431458, 0.7476008534431458, 0.7476008534431458, 0.7430670857429504, 0.7383561730384827, 0.73585444688797, 0.7336455583572388, 0.7316790223121643, 0.7304258942604065, 0.7304258942604065, 0.7253292202949524, 0.7253292202949524, 0.7163169384002686, 0.7116177678108215, 0.7099573612213135, 0.7040188312530518, 0.7040188312530518, 0.7040188312530518, 0.8468704223632812, 0.8326720595359802, 0.8272240161895752, 0.8147467374801636, 0.8147467374801636, 0.8140217661857605, 0.8098154664039612, 0.8081792593002319, 0.806195855140686, 0.7953202128410339, 0.7916589975357056, 0.7916589975357056, 0.7900744080543518, 0.789299488067627, 0.7840455770492554, 0.7814486026763916, 0.7807462811470032, 0.7793775796890259, 0.7778974175453186, 0.7760356664657593, 0.7760356664657593, 0.7741383910179138, 0.7711778283119202, 0.7661250829696655, 0.7661250829696655, 0.7648170590400696, 0.7621380090713501, 0.7614974975585938, 0.7584121823310852, 0.7581512928009033, 0.7568293809890747, 0.7525201439857483, 0.7508711218833923, 0.7506417632102966, 0.7505270838737488, 0.7503419518470764, 0.7479485273361206, 0.7465984225273132, 0.7462025880813599, 0.743618905544281, 0.7424480319023132, 0.8109793663024902, 0.7906197905540466, 0.7848746180534363, 0.7848746180534363, 0.7748394012451172, 0.7686434984207153, 0.7662493586540222, 0.7512180209159851, 0.7512180209159851, 0.7446710467338562, 0.739351212978363, 0.7369459867477417, 0.7326546907424927, 0.7317160964012146, 0.7317160964012146, 0.7314601540565491, 0.7284533977508545, 0.7264499664306641, 0.7253098487854004, 0.7241150140762329, 0.7220465540885925, 0.7207808494567871, 0.719066321849823, 0.7177569270133972, 0.7114701271057129, 0.7111814618110657, 0.7100072503089905, 0.7078375816345215, 0.7051216959953308, 0.704356849193573, 0.702411949634552, 0.701299250125885, 0.6993017792701721, 0.6977013945579529, 0.6972354054450989, 0.696369469165802, 0.696369469165802, 0.6959410905838013, 0.695145845413208, 0.692743182182312, 0.6923714280128479, 0.8698331713676453, 0.6938931941986084, 0.6912332773208618, 0.6885120272636414, 0.674304723739624, 0.6182698607444763, 0.6110215187072754, 0.6101194620132446, 0.6084598898887634, 0.6075682640075684, 0.6075682640075684, 0.5997194051742554, 0.5949953198432922, 0.5893038511276245, 0.5884165167808533, 0.5759905576705933, 0.5759688019752502, 0.5754470825195312, 0.5731632709503174, 0.5731602311134338, 0.5715831518173218, 0.5666700005531311, 0.5656741857528687, 0.5654142498970032, 0.5617486238479614, 0.5557186007499695, 0.5547927021980286, 0.5487343072891235, 0.5407447218894958, 0.5373845100402832, 0.5345451235771179, 0.5345451235771179, 0.5271380543708801, 0.527028501033783, 0.5236712098121643, 0.5220056176185608, 0.5178343057632446, 0.5164988040924072, 0.5164374113082886, 0.511767566204071, 0.5114741921424866, 0.8515315055847168, 0.8515315055847168, 0.8445525765419006, 0.8142172694206238, 0.8097225427627563, 0.8085055947303772, 0.7999835014343262, 0.7967734336853027, 0.7964730858802795, 0.7928509712219238, 0.7862737774848938, 0.7859060764312744, 0.7830989360809326, 0.7830989360809326, 0.7830072045326233, 0.7828426957130432, 0.7818776965141296, 0.7785557508468628, 0.7783525586128235, 0.7772760987281799, 0.7708553075790405, 0.7696559429168701, 0.7689858078956604, 0.7679668664932251, 0.7638794779777527, 0.7633844614028931, 0.7610083222389221, 0.7610083222389221, 0.7599018812179565, 0.7588261961936951, 0.7553026080131531, 0.7538691163063049, 0.7509669661521912, 0.7436370849609375, 0.7430182099342346, 0.7416943311691284, 0.7363936305046082, 0.7363936305046082, 0.7356328368186951, 0.7356328368186951, 0.7354422807693481, 0.7221308350563049, 0.6987961530685425, 0.6157566905021667, 0.6157566905021667, 0.6154770255088806, 0.6084170937538147, 0.6041603088378906, 0.6041603088378906, 0.5979591608047485, 0.5963149070739746, 0.5942381024360657, 0.5820218920707703, 0.5688155293464661, 0.5625475645065308, 0.5556190609931946, 0.5540227890014648, 0.549446165561676, 0.5336694717407227, 0.5330294370651245, 0.5321637988090515, 0.530310869216919, 0.5275443196296692, 0.5270661115646362, 0.5263473987579346, 0.5248506665229797, 0.520413875579834, 0.5194177627563477, 0.5117847919464111, 0.5116342306137085, 0.5097668170928955, 0.5097668170928955, 0.5090264678001404, 0.5008534789085388, 0.4972679615020752, 0.4972679615020752, 0.4935220777988434, 0.49085256457328796, 0.486072301864624, 0.47468504309654236, 0.46810275316238403, 0.46655476093292236, 0.7804757356643677, 0.7472730278968811, 0.654496431350708, 0.654496431350708, 0.6485991477966309, 0.6457474827766418, 0.6390527486801147, 0.6352843046188354, 0.6311729550361633, 0.6058468222618103, 0.5977590680122375, 0.5969966650009155, 0.5844366550445557, 0.5638474822044373, 0.5631637573242188, 0.5596858859062195, 0.5595484375953674, 0.5585986375808716, 0.5561003088951111, 0.5554764866828918, 0.5542473196983337, 0.552678644657135, 0.5518335700035095, 0.5431222319602966, 0.5431222319602966, 0.5429551005363464, 0.5373010039329529, 0.5327711701393127, 0.5312214493751526, 0.5312214493751526, 0.5278969407081604, 0.5194809436798096, 0.5164809823036194, 0.5073521733283997, 0.5004777312278748, 0.4942290782928467, 0.4929594397544861, 0.49295297265052795, 0.49054771661758423, 0.48967301845550537, 0.4895778298377991, 0.9316030144691467, 0.8308584690093994, 0.8254319429397583, 0.7119834423065186, 0.7036750316619873, 0.7011048793792725, 0.670570433139801, 0.6647058129310608, 0.6523835062980652, 0.630912721157074, 0.6291125416755676, 0.6291125416755676, 0.6257346272468567, 0.6138768196105957, 0.5908752083778381, 0.5897420048713684, 0.5827618837356567, 0.5827618837356567, 0.5820707082748413, 0.5749706625938416, 0.5734987258911133, 0.5734987258911133, 0.5378971099853516, 0.5367701053619385, 0.5321329832077026, 0.5081307291984558, 0.5001776814460754, 0.4955805242061615, 0.4955805242061615, 0.4862450659275055, 0.4789753258228302, 0.478355348110199, 0.4754900336265564, 0.47293591499328613, 0.47293591499328613, 0.4725264012813568, 0.47032853960990906, 0.4693276584148407, 0.46541455388069153, 0.46187183260917664, 0.4617881178855896, 0.7804757356643677, 0.7472730278968811, 0.654496431350708, 0.654496431350708, 0.6485991477966309, 0.6457474827766418, 0.6390527486801147, 0.6352843046188354, 0.6311729550361633, 0.6058468222618103, 0.5977590680122375, 0.5969966650009155, 0.5844366550445557, 0.5638474822044373, 0.5631637573242188, 0.5596858859062195, 0.5595484375953674, 0.5585986375808716, 0.5561003088951111, 0.5554764866828918, 0.5542473196983337, 0.552678644657135, 0.5518335700035095, 0.5431222319602966, 0.5431222319602966, 0.5429551005363464, 0.5373010039329529, 0.5327711701393127, 0.5312214493751526, 0.5312214493751526, 0.5278969407081604, 0.5194809436798096, 0.5164809823036194, 0.5073521733283997, 0.5004777312278748, 0.4942290782928467, 0.4929594397544861, 0.49295297265052795, 0.49054771661758423, 0.48967301845550537, 0.4895778298377991], \"xaxis\": \"x\", \"yaxis\": \"y\"}],\n",
              "                        {\"barmode\": \"relative\", \"legend\": {\"tracegroupgap\": 0}, \"template\": {\"data\": {\"bar\": [{\"error_x\": {\"color\": \"#2a3f5f\"}, \"error_y\": {\"color\": \"#2a3f5f\"}, \"marker\": {\"line\": {\"color\": \"#E5ECF6\", \"width\": 0.5}}, \"type\": \"bar\"}], \"barpolar\": [{\"marker\": {\"line\": {\"color\": \"#E5ECF6\", \"width\": 0.5}}, \"type\": \"barpolar\"}], \"carpet\": [{\"aaxis\": {\"endlinecolor\": \"#2a3f5f\", \"gridcolor\": \"white\", \"linecolor\": \"white\", \"minorgridcolor\": \"white\", \"startlinecolor\": \"#2a3f5f\"}, \"baxis\": {\"endlinecolor\": \"#2a3f5f\", \"gridcolor\": \"white\", \"linecolor\": \"white\", \"minorgridcolor\": \"white\", \"startlinecolor\": \"#2a3f5f\"}, \"type\": \"carpet\"}], \"choropleth\": [{\"colorbar\": {\"outlinewidth\": 0, \"ticks\": \"\"}, \"type\": \"choropleth\"}], \"contour\": [{\"colorbar\": {\"outlinewidth\": 0, \"ticks\": \"\"}, \"colorscale\": [[0.0, \"#0d0887\"], [0.1111111111111111, \"#46039f\"], [0.2222222222222222, \"#7201a8\"], [0.3333333333333333, \"#9c179e\"], [0.4444444444444444, \"#bd3786\"], [0.5555555555555556, \"#d8576b\"], [0.6666666666666666, \"#ed7953\"], [0.7777777777777778, \"#fb9f3a\"], [0.8888888888888888, \"#fdca26\"], [1.0, \"#f0f921\"]], \"type\": \"contour\"}], \"contourcarpet\": [{\"colorbar\": {\"outlinewidth\": 0, \"ticks\": \"\"}, \"type\": \"contourcarpet\"}], \"heatmap\": [{\"colorbar\": {\"outlinewidth\": 0, \"ticks\": \"\"}, \"colorscale\": [[0.0, \"#0d0887\"], [0.1111111111111111, \"#46039f\"], [0.2222222222222222, \"#7201a8\"], [0.3333333333333333, \"#9c179e\"], [0.4444444444444444, \"#bd3786\"], [0.5555555555555556, \"#d8576b\"], [0.6666666666666666, \"#ed7953\"], [0.7777777777777778, \"#fb9f3a\"], [0.8888888888888888, \"#fdca26\"], [1.0, \"#f0f921\"]], \"type\": \"heatmap\"}], \"heatmapgl\": [{\"colorbar\": {\"outlinewidth\": 0, \"ticks\": \"\"}, \"colorscale\": [[0.0, \"#0d0887\"], [0.1111111111111111, \"#46039f\"], [0.2222222222222222, \"#7201a8\"], [0.3333333333333333, \"#9c179e\"], [0.4444444444444444, \"#bd3786\"], [0.5555555555555556, \"#d8576b\"], [0.6666666666666666, \"#ed7953\"], [0.7777777777777778, \"#fb9f3a\"], [0.8888888888888888, \"#fdca26\"], [1.0, \"#f0f921\"]], \"type\": \"heatmapgl\"}], \"histogram\": [{\"marker\": {\"colorbar\": {\"outlinewidth\": 0, \"ticks\": \"\"}}, \"type\": \"histogram\"}], \"histogram2d\": [{\"colorbar\": {\"outlinewidth\": 0, \"ticks\": \"\"}, \"colorscale\": [[0.0, \"#0d0887\"], [0.1111111111111111, \"#46039f\"], [0.2222222222222222, \"#7201a8\"], [0.3333333333333333, \"#9c179e\"], [0.4444444444444444, \"#bd3786\"], [0.5555555555555556, \"#d8576b\"], [0.6666666666666666, \"#ed7953\"], [0.7777777777777778, \"#fb9f3a\"], [0.8888888888888888, \"#fdca26\"], [1.0, \"#f0f921\"]], \"type\": \"histogram2d\"}], \"histogram2dcontour\": [{\"colorbar\": {\"outlinewidth\": 0, \"ticks\": \"\"}, \"colorscale\": [[0.0, \"#0d0887\"], [0.1111111111111111, \"#46039f\"], [0.2222222222222222, \"#7201a8\"], [0.3333333333333333, \"#9c179e\"], [0.4444444444444444, \"#bd3786\"], [0.5555555555555556, \"#d8576b\"], [0.6666666666666666, \"#ed7953\"], [0.7777777777777778, \"#fb9f3a\"], [0.8888888888888888, \"#fdca26\"], [1.0, \"#f0f921\"]], \"type\": \"histogram2dcontour\"}], \"mesh3d\": [{\"colorbar\": {\"outlinewidth\": 0, \"ticks\": \"\"}, \"type\": \"mesh3d\"}], \"parcoords\": [{\"line\": {\"colorbar\": {\"outlinewidth\": 0, \"ticks\": \"\"}}, \"type\": \"parcoords\"}], \"pie\": [{\"automargin\": true, \"type\": \"pie\"}], \"scatter\": [{\"marker\": {\"colorbar\": {\"outlinewidth\": 0, \"ticks\": \"\"}}, \"type\": \"scatter\"}], \"scatter3d\": [{\"line\": {\"colorbar\": {\"outlinewidth\": 0, \"ticks\": \"\"}}, \"marker\": {\"colorbar\": {\"outlinewidth\": 0, \"ticks\": \"\"}}, \"type\": \"scatter3d\"}], \"scattercarpet\": [{\"marker\": {\"colorbar\": {\"outlinewidth\": 0, \"ticks\": \"\"}}, \"type\": \"scattercarpet\"}], \"scattergeo\": [{\"marker\": {\"colorbar\": {\"outlinewidth\": 0, \"ticks\": \"\"}}, \"type\": \"scattergeo\"}], \"scattergl\": [{\"marker\": {\"colorbar\": {\"outlinewidth\": 0, \"ticks\": \"\"}}, \"type\": \"scattergl\"}], \"scattermapbox\": [{\"marker\": {\"colorbar\": {\"outlinewidth\": 0, \"ticks\": \"\"}}, \"type\": \"scattermapbox\"}], \"scatterpolar\": [{\"marker\": {\"colorbar\": {\"outlinewidth\": 0, \"ticks\": \"\"}}, \"type\": \"scatterpolar\"}], \"scatterpolargl\": [{\"marker\": {\"colorbar\": {\"outlinewidth\": 0, \"ticks\": \"\"}}, \"type\": \"scatterpolargl\"}], \"scatterternary\": [{\"marker\": {\"colorbar\": {\"outlinewidth\": 0, \"ticks\": \"\"}}, \"type\": \"scatterternary\"}], \"surface\": [{\"colorbar\": {\"outlinewidth\": 0, \"ticks\": \"\"}, \"colorscale\": [[0.0, \"#0d0887\"], [0.1111111111111111, \"#46039f\"], [0.2222222222222222, \"#7201a8\"], [0.3333333333333333, \"#9c179e\"], [0.4444444444444444, \"#bd3786\"], [0.5555555555555556, \"#d8576b\"], [0.6666666666666666, \"#ed7953\"], [0.7777777777777778, \"#fb9f3a\"], [0.8888888888888888, \"#fdca26\"], [1.0, \"#f0f921\"]], \"type\": \"surface\"}], \"table\": [{\"cells\": {\"fill\": {\"color\": \"#EBF0F8\"}, \"line\": {\"color\": \"white\"}}, \"header\": {\"fill\": {\"color\": \"#C8D4E3\"}, \"line\": {\"color\": \"white\"}}, \"type\": \"table\"}]}, \"layout\": {\"annotationdefaults\": {\"arrowcolor\": \"#2a3f5f\", \"arrowhead\": 0, \"arrowwidth\": 1}, \"coloraxis\": {\"colorbar\": {\"outlinewidth\": 0, \"ticks\": \"\"}}, \"colorscale\": {\"diverging\": [[0, \"#8e0152\"], [0.1, \"#c51b7d\"], [0.2, \"#de77ae\"], [0.3, \"#f1b6da\"], [0.4, \"#fde0ef\"], [0.5, \"#f7f7f7\"], [0.6, \"#e6f5d0\"], [0.7, \"#b8e186\"], [0.8, \"#7fbc41\"], [0.9, \"#4d9221\"], [1, \"#276419\"]], \"sequential\": [[0.0, \"#0d0887\"], [0.1111111111111111, \"#46039f\"], [0.2222222222222222, \"#7201a8\"], [0.3333333333333333, \"#9c179e\"], [0.4444444444444444, \"#bd3786\"], [0.5555555555555556, \"#d8576b\"], [0.6666666666666666, \"#ed7953\"], [0.7777777777777778, \"#fb9f3a\"], [0.8888888888888888, \"#fdca26\"], [1.0, \"#f0f921\"]], \"sequentialminus\": [[0.0, \"#0d0887\"], [0.1111111111111111, \"#46039f\"], [0.2222222222222222, \"#7201a8\"], [0.3333333333333333, \"#9c179e\"], [0.4444444444444444, \"#bd3786\"], [0.5555555555555556, \"#d8576b\"], [0.6666666666666666, \"#ed7953\"], [0.7777777777777778, \"#fb9f3a\"], [0.8888888888888888, \"#fdca26\"], [1.0, \"#f0f921\"]]}, \"colorway\": [\"#636efa\", \"#EF553B\", \"#00cc96\", \"#ab63fa\", \"#FFA15A\", \"#19d3f3\", \"#FF6692\", \"#B6E880\", \"#FF97FF\", \"#FECB52\"], \"font\": {\"color\": \"#2a3f5f\"}, \"geo\": {\"bgcolor\": \"white\", \"lakecolor\": \"white\", \"landcolor\": \"#E5ECF6\", \"showlakes\": true, \"showland\": true, \"subunitcolor\": \"white\"}, \"hoverlabel\": {\"align\": \"left\"}, \"hovermode\": \"closest\", \"mapbox\": {\"style\": \"light\"}, \"paper_bgcolor\": \"white\", \"plot_bgcolor\": \"#E5ECF6\", \"polar\": {\"angularaxis\": {\"gridcolor\": \"white\", \"linecolor\": \"white\", \"ticks\": \"\"}, \"bgcolor\": \"#E5ECF6\", \"radialaxis\": {\"gridcolor\": \"white\", \"linecolor\": \"white\", \"ticks\": \"\"}}, \"scene\": {\"xaxis\": {\"backgroundcolor\": \"#E5ECF6\", \"gridcolor\": \"white\", \"gridwidth\": 2, \"linecolor\": \"white\", \"showbackground\": true, \"ticks\": \"\", \"zerolinecolor\": \"white\"}, \"yaxis\": {\"backgroundcolor\": \"#E5ECF6\", \"gridcolor\": \"white\", \"gridwidth\": 2, \"linecolor\": \"white\", \"showbackground\": true, \"ticks\": \"\", \"zerolinecolor\": \"white\"}, \"zaxis\": {\"backgroundcolor\": \"#E5ECF6\", \"gridcolor\": \"white\", \"gridwidth\": 2, \"linecolor\": \"white\", \"showbackground\": true, \"ticks\": \"\", \"zerolinecolor\": \"white\"}}, \"shapedefaults\": {\"line\": {\"color\": \"#2a3f5f\"}}, \"ternary\": {\"aaxis\": {\"gridcolor\": \"white\", \"linecolor\": \"white\", \"ticks\": \"\"}, \"baxis\": {\"gridcolor\": \"white\", \"linecolor\": \"white\", \"ticks\": \"\"}, \"bgcolor\": \"#E5ECF6\", \"caxis\": {\"gridcolor\": \"white\", \"linecolor\": \"white\", \"ticks\": \"\"}}, \"title\": {\"x\": 0.05}, \"xaxis\": {\"automargin\": true, \"gridcolor\": \"white\", \"linecolor\": \"white\", \"ticks\": \"\", \"title\": {\"standoff\": 15}, \"zerolinecolor\": \"white\", \"zerolinewidth\": 2}, \"yaxis\": {\"automargin\": true, \"gridcolor\": \"white\", \"linecolor\": \"white\", \"ticks\": \"\", \"title\": {\"standoff\": 15}, \"zerolinecolor\": \"white\", \"zerolinewidth\": 2}}}, \"title\": {\"text\": \"LSI Scores\"}, \"xaxis\": {\"anchor\": \"y\", \"domain\": [0.0, 1.0], \"title\": {\"text\": \"score\"}}, \"yaxis\": {\"anchor\": \"x\", \"domain\": [0.0, 1.0], \"title\": {\"text\": \"count\"}}},\n",
              "                        {\"responsive\": true}\n",
              "                    ).then(function(){\n",
              "                            \n",
              "var gd = document.getElementById('48be92e2-1f7b-4cbb-9ced-e563c808dd31');\n",
              "var x = new MutationObserver(function (mutations, observer) {{\n",
              "        var display = window.getComputedStyle(gd).display;\n",
              "        if (!display || display === 'none') {{\n",
              "            console.log([gd, 'removed!']);\n",
              "            Plotly.purge(gd);\n",
              "            observer.disconnect();\n",
              "        }}\n",
              "}});\n",
              "\n",
              "// Listen for the removal of the full notebook cells\n",
              "var notebookContainer = gd.closest('#notebook-container');\n",
              "if (notebookContainer) {{\n",
              "    x.observe(notebookContainer, {childList: true});\n",
              "}}\n",
              "\n",
              "// Listen for the clearing of the current output cell\n",
              "var outputEl = gd.closest('.output');\n",
              "if (outputEl) {{\n",
              "    x.observe(outputEl, {childList: true});\n",
              "}}\n",
              "\n",
              "                        })\n",
              "                };\n",
              "                \n",
              "            </script>\n",
              "        </div>\n",
              "</body>\n",
              "</html>"
            ]
          },
          "metadata": {}
        }
      ]
    },
    {
      "cell_type": "code",
      "metadata": {
        "id": "RX2JvEEGPGgS"
      },
      "source": [
        "if use_wandb:\n",
        "  wandb.log({\"scores_hist\": fig})"
      ],
      "execution_count": 186,
      "outputs": []
    },
    {
      "cell_type": "code",
      "metadata": {
        "colab": {
          "base_uri": "https://localhost:8080/",
          "height": 990
        },
        "id": "7N81-XfdDFKV",
        "outputId": "78a95efb-08da-44a5-8f86-adc37f72883d"
      },
      "source": [
        "result, details = recommend_tune(df_sim, 'These Foolish Things')\n",
        "result.head(30)"
      ],
      "execution_count": 187,
      "outputs": [
        {
          "output_type": "execute_result",
          "data": {
            "text/html": [
              "<div>\n",
              "<style scoped>\n",
              "    .dataframe tbody tr th:only-of-type {\n",
              "        vertical-align: middle;\n",
              "    }\n",
              "\n",
              "    .dataframe tbody tr th {\n",
              "        vertical-align: top;\n",
              "    }\n",
              "\n",
              "    .dataframe thead th {\n",
              "        text-align: right;\n",
              "    }\n",
              "</style>\n",
              "<table border=\"1\" class=\"dataframe\">\n",
              "  <thead>\n",
              "    <tr style=\"text-align: right;\">\n",
              "      <th></th>\n",
              "      <th>index</th>\n",
              "      <th>reference</th>\n",
              "      <th>similar_title</th>\n",
              "      <th>score</th>\n",
              "      <th>max</th>\n",
              "      <th>score_div_max</th>\n",
              "    </tr>\n",
              "  </thead>\n",
              "  <tbody>\n",
              "    <tr>\n",
              "      <th>0</th>\n",
              "      <td>0</td>\n",
              "      <td>These Foolish Things</td>\n",
              "      <td>Isn't It A Pity</td>\n",
              "      <td>0.869833</td>\n",
              "      <td>0.869833</td>\n",
              "      <td>1.000000</td>\n",
              "    </tr>\n",
              "    <tr>\n",
              "      <th>1</th>\n",
              "      <td>1</td>\n",
              "      <td>These Foolish Things</td>\n",
              "      <td>I Won't Dance</td>\n",
              "      <td>0.846870</td>\n",
              "      <td>0.851532</td>\n",
              "      <td>1.000000</td>\n",
              "    </tr>\n",
              "    <tr>\n",
              "      <th>2</th>\n",
              "      <td>2</td>\n",
              "      <td>These Foolish Things</td>\n",
              "      <td>I Like The Likes Of You</td>\n",
              "      <td>0.851532</td>\n",
              "      <td>0.851532</td>\n",
              "      <td>1.000000</td>\n",
              "    </tr>\n",
              "    <tr>\n",
              "      <th>3</th>\n",
              "      <td>3</td>\n",
              "      <td>These Foolish Things</td>\n",
              "      <td>Party's Over, The</td>\n",
              "      <td>0.844553</td>\n",
              "      <td>0.851532</td>\n",
              "      <td>0.991804</td>\n",
              "    </tr>\n",
              "    <tr>\n",
              "      <th>4</th>\n",
              "      <td>4</td>\n",
              "      <td>These Foolish Things</td>\n",
              "      <td>People</td>\n",
              "      <td>0.832672</td>\n",
              "      <td>0.851532</td>\n",
              "      <td>0.983234</td>\n",
              "    </tr>\n",
              "    <tr>\n",
              "      <th>5</th>\n",
              "      <td>5</td>\n",
              "      <td>These Foolish Things</td>\n",
              "      <td>Touch Of Your Lips, The</td>\n",
              "      <td>0.814747</td>\n",
              "      <td>0.851532</td>\n",
              "      <td>0.962068</td>\n",
              "    </tr>\n",
              "    <tr>\n",
              "      <th>6</th>\n",
              "      <td>6</td>\n",
              "      <td>These Foolish Things</td>\n",
              "      <td>Don't Be That Way</td>\n",
              "      <td>0.814022</td>\n",
              "      <td>0.851532</td>\n",
              "      <td>0.961212</td>\n",
              "    </tr>\n",
              "    <tr>\n",
              "      <th>7</th>\n",
              "      <td>7</td>\n",
              "      <td>These Foolish Things</td>\n",
              "      <td>Heart And Soul</td>\n",
              "      <td>0.809815</td>\n",
              "      <td>0.851532</td>\n",
              "      <td>0.956245</td>\n",
              "    </tr>\n",
              "    <tr>\n",
              "      <th>8</th>\n",
              "      <td>8</td>\n",
              "      <td>These Foolish Things</td>\n",
              "      <td>They All Laughed</td>\n",
              "      <td>0.806196</td>\n",
              "      <td>0.846870</td>\n",
              "      <td>0.951971</td>\n",
              "    </tr>\n",
              "    <tr>\n",
              "      <th>9</th>\n",
              "      <td>9</td>\n",
              "      <td>These Foolish Things</td>\n",
              "      <td>Dinah</td>\n",
              "      <td>0.808506</td>\n",
              "      <td>0.851532</td>\n",
              "      <td>0.949472</td>\n",
              "    </tr>\n",
              "    <tr>\n",
              "      <th>10</th>\n",
              "      <td>10</td>\n",
              "      <td>These Foolish Things</td>\n",
              "      <td>Too Young To Go Steady</td>\n",
              "      <td>0.769656</td>\n",
              "      <td>0.869833</td>\n",
              "      <td>0.944844</td>\n",
              "    </tr>\n",
              "    <tr>\n",
              "      <th>11</th>\n",
              "      <td>11</td>\n",
              "      <td>These Foolish Things</td>\n",
              "      <td>Way You Look Tonight, The</td>\n",
              "      <td>0.796773</td>\n",
              "      <td>0.851532</td>\n",
              "      <td>0.935695</td>\n",
              "    </tr>\n",
              "    <tr>\n",
              "      <th>12</th>\n",
              "      <td>12</td>\n",
              "      <td>These Foolish Things</td>\n",
              "      <td>Glory Of Love, The</td>\n",
              "      <td>0.796473</td>\n",
              "      <td>0.851532</td>\n",
              "      <td>0.935342</td>\n",
              "    </tr>\n",
              "    <tr>\n",
              "      <th>13</th>\n",
              "      <td>13</td>\n",
              "      <td>These Foolish Things</td>\n",
              "      <td>Blue Moon</td>\n",
              "      <td>0.791659</td>\n",
              "      <td>0.851532</td>\n",
              "      <td>0.934805</td>\n",
              "    </tr>\n",
              "    <tr>\n",
              "      <th>14</th>\n",
              "      <td>14</td>\n",
              "      <td>These Foolish Things</td>\n",
              "      <td>Why Do I Love You</td>\n",
              "      <td>0.792851</td>\n",
              "      <td>0.851532</td>\n",
              "      <td>0.931088</td>\n",
              "    </tr>\n",
              "    <tr>\n",
              "      <th>15</th>\n",
              "      <td>15</td>\n",
              "      <td>These Foolish Things</td>\n",
              "      <td>It's A Lovely Day Today</td>\n",
              "      <td>0.786274</td>\n",
              "      <td>0.851532</td>\n",
              "      <td>0.925815</td>\n",
              "    </tr>\n",
              "    <tr>\n",
              "      <th>16</th>\n",
              "      <td>16</td>\n",
              "      <td>These Foolish Things</td>\n",
              "      <td>Fools Rush In</td>\n",
              "      <td>0.785906</td>\n",
              "      <td>0.851532</td>\n",
              "      <td>0.922932</td>\n",
              "    </tr>\n",
              "    <tr>\n",
              "      <th>17</th>\n",
              "      <td>17</td>\n",
              "      <td>These Foolish Things</td>\n",
              "      <td>As Long As I Live</td>\n",
              "      <td>0.781449</td>\n",
              "      <td>0.846870</td>\n",
              "      <td>0.922749</td>\n",
              "    </tr>\n",
              "    <tr>\n",
              "      <th>18</th>\n",
              "      <td>18</td>\n",
              "      <td>These Foolish Things</td>\n",
              "      <td>Mimi</td>\n",
              "      <td>0.783007</td>\n",
              "      <td>0.851532</td>\n",
              "      <td>0.919528</td>\n",
              "    </tr>\n",
              "    <tr>\n",
              "      <th>19</th>\n",
              "      <td>19</td>\n",
              "      <td>These Foolish Things</td>\n",
              "      <td>Nearness Of You, The</td>\n",
              "      <td>0.777897</td>\n",
              "      <td>0.846870</td>\n",
              "      <td>0.918555</td>\n",
              "    </tr>\n",
              "    <tr>\n",
              "      <th>20</th>\n",
              "      <td>20</td>\n",
              "      <td>These Foolish Things</td>\n",
              "      <td>Time After Time</td>\n",
              "      <td>0.774138</td>\n",
              "      <td>0.851532</td>\n",
              "      <td>0.914117</td>\n",
              "    </tr>\n",
              "    <tr>\n",
              "      <th>21</th>\n",
              "      <td>21</td>\n",
              "      <td>These Foolish Things</td>\n",
              "      <td>Try A Little Tenderness</td>\n",
              "      <td>0.778353</td>\n",
              "      <td>0.851532</td>\n",
              "      <td>0.914062</td>\n",
              "    </tr>\n",
              "    <tr>\n",
              "      <th>22</th>\n",
              "      <td>22</td>\n",
              "      <td>These Foolish Things</td>\n",
              "      <td>All God's Chillun Got Rhythm</td>\n",
              "      <td>0.766125</td>\n",
              "      <td>0.869833</td>\n",
              "      <td>0.904654</td>\n",
              "    </tr>\n",
              "    <tr>\n",
              "      <th>23</th>\n",
              "      <td>23</td>\n",
              "      <td>These Foolish Things</td>\n",
              "      <td>Bewitched</td>\n",
              "      <td>0.764817</td>\n",
              "      <td>0.846870</td>\n",
              "      <td>0.903110</td>\n",
              "    </tr>\n",
              "    <tr>\n",
              "      <th>24</th>\n",
              "      <td>24</td>\n",
              "      <td>These Foolish Things</td>\n",
              "      <td>Polkadots And Moonbeams</td>\n",
              "      <td>0.768986</td>\n",
              "      <td>0.851532</td>\n",
              "      <td>0.903062</td>\n",
              "    </tr>\n",
              "    <tr>\n",
              "      <th>25</th>\n",
              "      <td>25</td>\n",
              "      <td>These Foolish Things</td>\n",
              "      <td>Emily</td>\n",
              "      <td>0.761497</td>\n",
              "      <td>0.846870</td>\n",
              "      <td>0.899190</td>\n",
              "    </tr>\n",
              "    <tr>\n",
              "      <th>26</th>\n",
              "      <td>26</td>\n",
              "      <td>These Foolish Things</td>\n",
              "      <td>I'll Be Around</td>\n",
              "      <td>0.758412</td>\n",
              "      <td>0.846870</td>\n",
              "      <td>0.895547</td>\n",
              "    </tr>\n",
              "    <tr>\n",
              "      <th>27</th>\n",
              "      <td>27</td>\n",
              "      <td>These Foolish Things</td>\n",
              "      <td>I Can't Get Started</td>\n",
              "      <td>0.707838</td>\n",
              "      <td>0.810979</td>\n",
              "      <td>0.872818</td>\n",
              "    </tr>\n",
              "    <tr>\n",
              "      <th>28</th>\n",
              "      <td>28</td>\n",
              "      <td>These Foolish Things</td>\n",
              "      <td>I've Told Eve'ry Little Star</td>\n",
              "      <td>0.693893</td>\n",
              "      <td>0.869833</td>\n",
              "      <td>0.797731</td>\n",
              "    </tr>\n",
              "    <tr>\n",
              "      <th>29</th>\n",
              "      <td>29</td>\n",
              "      <td>These Foolish Things</td>\n",
              "      <td>More Than You Know</td>\n",
              "      <td>0.691233</td>\n",
              "      <td>0.869833</td>\n",
              "      <td>0.794673</td>\n",
              "    </tr>\n",
              "  </tbody>\n",
              "</table>\n",
              "</div>"
            ],
            "text/plain": [
              "    index             reference  ...       max  score_div_max\n",
              "0       0  These Foolish Things  ...  0.869833       1.000000\n",
              "1       1  These Foolish Things  ...  0.851532       1.000000\n",
              "2       2  These Foolish Things  ...  0.851532       1.000000\n",
              "3       3  These Foolish Things  ...  0.851532       0.991804\n",
              "4       4  These Foolish Things  ...  0.851532       0.983234\n",
              "5       5  These Foolish Things  ...  0.851532       0.962068\n",
              "6       6  These Foolish Things  ...  0.851532       0.961212\n",
              "7       7  These Foolish Things  ...  0.851532       0.956245\n",
              "8       8  These Foolish Things  ...  0.846870       0.951971\n",
              "9       9  These Foolish Things  ...  0.851532       0.949472\n",
              "10     10  These Foolish Things  ...  0.869833       0.944844\n",
              "11     11  These Foolish Things  ...  0.851532       0.935695\n",
              "12     12  These Foolish Things  ...  0.851532       0.935342\n",
              "13     13  These Foolish Things  ...  0.851532       0.934805\n",
              "14     14  These Foolish Things  ...  0.851532       0.931088\n",
              "15     15  These Foolish Things  ...  0.851532       0.925815\n",
              "16     16  These Foolish Things  ...  0.851532       0.922932\n",
              "17     17  These Foolish Things  ...  0.846870       0.922749\n",
              "18     18  These Foolish Things  ...  0.851532       0.919528\n",
              "19     19  These Foolish Things  ...  0.846870       0.918555\n",
              "20     20  These Foolish Things  ...  0.851532       0.914117\n",
              "21     21  These Foolish Things  ...  0.851532       0.914062\n",
              "22     22  These Foolish Things  ...  0.869833       0.904654\n",
              "23     23  These Foolish Things  ...  0.846870       0.903110\n",
              "24     24  These Foolish Things  ...  0.851532       0.903062\n",
              "25     25  These Foolish Things  ...  0.846870       0.899190\n",
              "26     26  These Foolish Things  ...  0.846870       0.895547\n",
              "27     27  These Foolish Things  ...  0.810979       0.872818\n",
              "28     28  These Foolish Things  ...  0.869833       0.797731\n",
              "29     29  These Foolish Things  ...  0.869833       0.794673\n",
              "\n",
              "[30 rows x 6 columns]"
            ]
          },
          "metadata": {},
          "execution_count": 187
        }
      ]
    },
    {
      "cell_type": "code",
      "metadata": {
        "id": "15ZsHOQmyyah"
      },
      "source": [
        "dd = pd.DataFrame(columns = recommender_results_cols)\n",
        "\n",
        "for tune in tunes_eval_list:\n",
        "  result, details = recommend_tune(df_sim, tune)\n",
        "  dd['id'] = result['index']\n",
        "  dd['reference'] = tune\n",
        "  dd['method'] = 'lsi'\n",
        "  dd['similar'] = result['similar_title']\n",
        "  dd['score_div_max'] = result['score_div_max']\n",
        "  dd['score'] = result['score']\n",
        "\n",
        "recommender_results = recommender_results.append(dd)"
      ],
      "execution_count": 188,
      "outputs": []
    },
    {
      "cell_type": "markdown",
      "metadata": {
        "id": "asScIocQRMPA"
      },
      "source": [
        "## Determine Number of Topics for LSI Model\n",
        "\n",
        "This sample comes from Datacamp: \n",
        "\n",
        "https://www.datacamp.com/community/tutorials/discovering-hidden-topics-python\n"
      ]
    },
    {
      "cell_type": "markdown",
      "metadata": {
        "id": "1TPNWFEPSxZ-"
      },
      "source": [
        "What is the best way to determine k (number of topics) in topic modeling? Identify the optimum number of topics in the given corpus text is a challenging task. We can use the following options for determining the optimum number of topics:\n",
        "\n",
        "* One way to determine the optimum number of topics is to consider each topic as a cluster and find out the effectiveness of a cluster using the Silhouette coefficient.\n",
        "* Topic coherence measure is a realistic measure for identifying the number of topics.\n",
        "\n",
        "Topic Coherence measure is a widely used metric to evaluate topic models. It uses the latent variable models. Each generated topic has a list of words. In topic coherence measure, you will find average/median of pairwise word similarity scores of the words in a topic. The high value of topic coherence score model will be considered as a good topic model. "
      ]
    },
    {
      "cell_type": "code",
      "metadata": {
        "id": "umpCyQQzRLgv"
      },
      "source": [
        "def prepare_corpus(doc_clean):\n",
        "    \"\"\"\n",
        "    Input  : clean document\n",
        "    Purpose: create term dictionary of our courpus and Converting list of documents (corpus) into Document Term Matrix\n",
        "    Output : term dictionary and Document Term Matrix\n",
        "    \"\"\"\n",
        "    # Creating the term dictionary of our courpus, where every unique term is assigned an index. dictionary = corpora.Dictionary(doc_clean)\n",
        "    dictionary = corpora.Dictionary(doc_clean)\n",
        "    # Converting list of documents (corpus) into Document Term Matrix using dictionary prepared above.\n",
        "    doc_term_matrix = [dictionary.doc2bow(doc) for doc in doc_clean]\n",
        "    # generate LDA model\n",
        "    return dictionary, doc_term_matrix"
      ],
      "execution_count": 189,
      "outputs": []
    },
    {
      "cell_type": "code",
      "metadata": {
        "id": "aS2wxIEERcul"
      },
      "source": [
        "def compute_coherence_values(dictionary, doc_term_matrix, doc_clean, stop, start=2, step=3):\n",
        "    \"\"\"\n",
        "    Input   : dictionary : Gensim dictionary\n",
        "              corpus : Gensim corpus\n",
        "              texts : List of input texts\n",
        "              stop : Max num of topics\n",
        "    purpose : Compute c_v coherence for various number of topics\n",
        "    Output  : model_list : List of LSA topic models\n",
        "              coherence_values : Coherence values corresponding to the LDA model with respective number of topics\n",
        "    \"\"\"\n",
        "    coherence_values = []\n",
        "    model_list = []\n",
        "    for num_topics in range(start, stop, step):\n",
        "        # generate LSA model\n",
        "        model = LsiModel(doc_term_matrix, num_topics=num_topics, id2word = dictionary)  # train model\n",
        "        model_list.append(model)\n",
        "        coherencemodel = CoherenceModel(model=model, texts=doc_clean, dictionary=dictionary, coherence='c_v')\n",
        "        coherence_values.append(coherencemodel.get_coherence())\n",
        "    return model_list, coherence_values"
      ],
      "execution_count": 190,
      "outputs": []
    },
    {
      "cell_type": "code",
      "metadata": {
        "id": "DjyzAzWBRfrH"
      },
      "source": [
        "def plot_graph(doc_clean,start, stop, step):\n",
        "    dictionary, doc_term_matrix = prepare_corpus(doc_clean)\n",
        "    model_list, coherence_values = compute_coherence_values(dictionary, doc_term_matrix,doc_clean,\n",
        "                                                            stop, start, step)\n",
        "    # Show graph\n",
        "    x = range(start, stop, step)\n",
        "    plt.plot(x, coherence_values)\n",
        "    plt.xlabel(\"Number of Topics\")\n",
        "    plt.ylabel(\"Coherence score\")\n",
        "    plt.legend((\"coherence_values\"), loc='best')\n",
        "    plt.show()"
      ],
      "execution_count": 191,
      "outputs": []
    },
    {
      "cell_type": "code",
      "metadata": {
        "id": "qy9ZjdcmRhxs"
      },
      "source": [
        "# evaluate a good number of topics for the LSI Model. This takes some time.\n",
        "\n",
        "if False:\n",
        "\n",
        "  start, stop, step = 1, 500, 10\n",
        "  plot_graph(data, start, stop, step)"
      ],
      "execution_count": 192,
      "outputs": []
    },
    {
      "cell_type": "markdown",
      "metadata": {
        "id": "Qo5NgBHFlqgg"
      },
      "source": [
        "For unigrams, the best number of topics seems to be around 20.\n",
        "\n",
        "For unigrams plus bigrams, the coherence score drops down until 100 and then continuously rises until 500 and continues to rise. Same for bigrams-only."
      ]
    },
    {
      "cell_type": "markdown",
      "metadata": {
        "id": "lTQKfd0xQQ65"
      },
      "source": [
        "Store Model to W&B"
      ]
    },
    {
      "cell_type": "code",
      "metadata": {
        "id": "RfAYF7ArQUXo"
      },
      "source": [
        "if use_wandb:\n",
        "  model_artifact = wandb.Artifact(\n",
        "      \"trained-model\", \n",
        "      type=\"model\",\n",
        "      description=\"LSI model\",\n",
        "      metadata=\"\")\n",
        "\n",
        "  model_artifact.add_file(\"/content/index/lsi.model\")\n",
        "  model_artifact.add_file(\"/content/index/lsi_matrixsim.index\")\n",
        "  model_artifact.add_file(\"/content/index/lsi.model.projection\")\n",
        "  wandb.log_artifact(model_artifact)"
      ],
      "execution_count": 193,
      "outputs": []
    },
    {
      "cell_type": "markdown",
      "metadata": {
        "id": "rF_INicGhXKd"
      },
      "source": [
        "# Doc2Vec"
      ]
    },
    {
      "cell_type": "code",
      "metadata": {
        "id": "wflSccBshkIk"
      },
      "source": [
        "def get_tagged_documents(corpus, tags=None):\n",
        "  if tags == 'SectionsTunes':\n",
        "    print('Tagging input data with both section and tune information.')\n",
        "  else:\n",
        "    print('Tagging input data with section informaiton only.')\n",
        "    \n",
        "  for i, tokens in enumerate(corpus):\n",
        "    if tags == 'SectionsTunes':\n",
        "      yield gensim.models.doc2vec.TaggedDocument(tokens, [i, f'titleid_{sectionid_to_titleid[i]}'])\n",
        "    else:\n",
        "      yield gensim.models.doc2vec.TaggedDocument(tokens, [i])  # diatonic chord distance is a bit better"
      ],
      "execution_count": 194,
      "outputs": []
    },
    {
      "cell_type": "code",
      "metadata": {
        "colab": {
          "base_uri": "https://localhost:8080/"
        },
        "id": "_u0RdBI1kYD9",
        "outputId": "2c37d1f3-cd60-4ee0-f1b2-19e4fabba912"
      },
      "source": [
        "train_corpus = list(get_tagged_documents(processed_corpus, doc2vec_config['general']['document_tags']))\n",
        "train_corpus[1000]"
      ],
      "execution_count": 195,
      "outputs": [
        {
          "output_type": "stream",
          "name": "stdout",
          "text": [
            "Tagging input data with both section and tune information.\n"
          ]
        },
        {
          "output_type": "execute_result",
          "data": {
            "text/plain": [
              "TaggedDocument(words=['CM7-Am7', 'Am7-Dm7', 'Dm7-G7', 'G7-CM7', 'CM7-FM7', 'FM7-C', 'C-Am7', 'Am7-Dm7', 'Dm7-G7', 'G7-C6', 'C6-Dm7', 'Dm7-G7'], tags=[1000, 'titleid_308'])"
            ]
          },
          "metadata": {},
          "execution_count": 195
        }
      ]
    },
    {
      "cell_type": "code",
      "metadata": {
        "colab": {
          "base_uri": "https://localhost:8080/"
        },
        "id": "M9adPoy9reaw",
        "outputId": "d21a9319-aaa0-4296-a1da-f344ac038068"
      },
      "source": [
        "import multiprocessing\n",
        "\n",
        "print(f\"CPU Count: {multiprocessing.cpu_count()}\")\n",
        "print(f\"Config:\")\n",
        "print(doc2vec_config['model'])\n",
        "\n",
        "model = Doc2Vec(train_corpus,\n",
        "                **doc2vec_config['model']\n",
        "                )"
      ],
      "execution_count": 196,
      "outputs": [
        {
          "output_type": "stream",
          "name": "stderr",
          "text": [
            "2021-11-23 19:49:30,824 : INFO : collecting all words and their counts\n",
            "2021-11-23 19:49:30,826 : INFO : PROGRESS: at example #0, processed 0 words (0/s), 0 word types, 0 tags\n",
            "2021-11-23 19:49:30,883 : INFO : collected 3750 word types and 7200 unique tags from a corpus of 5391 examples and 77231 words\n",
            "2021-11-23 19:49:30,885 : INFO : Creating a fresh vocabulary\n",
            "2021-11-23 19:49:30,910 : INFO : Doc2Vec lifecycle event {'msg': 'effective_min_count=1 retains 3750 unique words (100.0%% of original 3750, drops 0)', 'datetime': '2021-11-23T19:49:30.910359', 'gensim': '4.1.2', 'python': '3.7.12 (default, Sep 10 2021, 00:21:48) \\n[GCC 7.5.0]', 'platform': 'Linux-5.4.104+-x86_64-with-Ubuntu-18.04-bionic', 'event': 'prepare_vocab'}\n",
            "2021-11-23 19:49:30,911 : INFO : Doc2Vec lifecycle event {'msg': 'effective_min_count=1 leaves 77231 word corpus (100.0%% of original 77231, drops 0)', 'datetime': '2021-11-23T19:49:30.911815', 'gensim': '4.1.2', 'python': '3.7.12 (default, Sep 10 2021, 00:21:48) \\n[GCC 7.5.0]', 'platform': 'Linux-5.4.104+-x86_64-with-Ubuntu-18.04-bionic', 'event': 'prepare_vocab'}\n",
            "2021-11-23 19:49:30,943 : INFO : deleting the raw counts dictionary of 3750 items\n",
            "2021-11-23 19:49:30,945 : INFO : sample=0.001 downsamples 70 most-common words\n",
            "2021-11-23 19:49:30,952 : INFO : Doc2Vec lifecycle event {'msg': 'downsampling leaves estimated 53287.88837461548 word corpus (69.0%% of prior 77231)', 'datetime': '2021-11-23T19:49:30.952568', 'gensim': '4.1.2', 'python': '3.7.12 (default, Sep 10 2021, 00:21:48) \\n[GCC 7.5.0]', 'platform': 'Linux-5.4.104+-x86_64-with-Ubuntu-18.04-bionic', 'event': 'prepare_vocab'}\n"
          ]
        },
        {
          "output_type": "stream",
          "name": "stdout",
          "text": [
            "CPU Count: 2\n",
            "Config:\n",
            "{'dm': 1, 'vector_size': 100, 'window': 4, 'epochs': 40, 'min_count': 1, 'negative': 10, 'sample': 0.001, 'seed': 42}\n"
          ]
        },
        {
          "output_type": "stream",
          "name": "stderr",
          "text": [
            "2021-11-23 19:49:31,013 : INFO : estimated required memory for 3750 words and 100 dimensions: 9195000 bytes\n",
            "2021-11-23 19:49:31,015 : INFO : resetting layer weights\n",
            "2021-11-23 19:49:31,028 : INFO : Doc2Vec lifecycle event {'msg': 'training model with 3 workers on 3750 vocabulary and 100 features, using sg=0 hs=0 sample=0.001 negative=10 window=4 shrink_windows=True', 'datetime': '2021-11-23T19:49:31.028848', 'gensim': '4.1.2', 'python': '3.7.12 (default, Sep 10 2021, 00:21:48) \\n[GCC 7.5.0]', 'platform': 'Linux-5.4.104+-x86_64-with-Ubuntu-18.04-bionic', 'event': 'train'}\n",
            "2021-11-23 19:49:31,746 : INFO : worker thread finished; awaiting finish of 2 more threads\n",
            "2021-11-23 19:49:31,829 : INFO : worker thread finished; awaiting finish of 1 more threads\n",
            "2021-11-23 19:49:31,844 : INFO : worker thread finished; awaiting finish of 0 more threads\n",
            "2021-11-23 19:49:31,845 : INFO : EPOCH - 1 : training on 77231 raw words (64005 effective words) took 0.8s, 79721 effective words/s\n",
            "2021-11-23 19:49:32,549 : INFO : worker thread finished; awaiting finish of 2 more threads\n",
            "2021-11-23 19:49:32,635 : INFO : worker thread finished; awaiting finish of 1 more threads\n",
            "2021-11-23 19:49:32,652 : INFO : worker thread finished; awaiting finish of 0 more threads\n",
            "2021-11-23 19:49:32,654 : INFO : EPOCH - 2 : training on 77231 raw words (64155 effective words) took 0.8s, 80906 effective words/s\n",
            "2021-11-23 19:49:33,291 : INFO : worker thread finished; awaiting finish of 2 more threads\n",
            "2021-11-23 19:49:33,374 : INFO : worker thread finished; awaiting finish of 1 more threads\n",
            "2021-11-23 19:49:33,390 : INFO : worker thread finished; awaiting finish of 0 more threads\n",
            "2021-11-23 19:49:33,391 : INFO : EPOCH - 3 : training on 77231 raw words (64024 effective words) took 0.7s, 88183 effective words/s\n",
            "2021-11-23 19:49:34,027 : INFO : worker thread finished; awaiting finish of 2 more threads\n",
            "2021-11-23 19:49:34,108 : INFO : worker thread finished; awaiting finish of 1 more threads\n",
            "2021-11-23 19:49:34,129 : INFO : worker thread finished; awaiting finish of 0 more threads\n",
            "2021-11-23 19:49:34,130 : INFO : EPOCH - 4 : training on 77231 raw words (64145 effective words) took 0.7s, 88459 effective words/s\n",
            "2021-11-23 19:49:34,764 : INFO : worker thread finished; awaiting finish of 2 more threads\n",
            "2021-11-23 19:49:34,848 : INFO : worker thread finished; awaiting finish of 1 more threads\n",
            "2021-11-23 19:49:34,865 : INFO : worker thread finished; awaiting finish of 0 more threads\n",
            "2021-11-23 19:49:34,866 : INFO : EPOCH - 5 : training on 77231 raw words (63817 effective words) took 0.7s, 88369 effective words/s\n",
            "2021-11-23 19:49:35,517 : INFO : worker thread finished; awaiting finish of 2 more threads\n",
            "2021-11-23 19:49:35,593 : INFO : worker thread finished; awaiting finish of 1 more threads\n",
            "2021-11-23 19:49:35,620 : INFO : worker thread finished; awaiting finish of 0 more threads\n",
            "2021-11-23 19:49:35,621 : INFO : EPOCH - 6 : training on 77231 raw words (64177 effective words) took 0.7s, 86688 effective words/s\n",
            "2021-11-23 19:49:36,275 : INFO : worker thread finished; awaiting finish of 2 more threads\n",
            "2021-11-23 19:49:36,362 : INFO : worker thread finished; awaiting finish of 1 more threads\n",
            "2021-11-23 19:49:36,375 : INFO : worker thread finished; awaiting finish of 0 more threads\n",
            "2021-11-23 19:49:36,377 : INFO : EPOCH - 7 : training on 77231 raw words (64159 effective words) took 0.7s, 86329 effective words/s\n",
            "2021-11-23 19:49:37,043 : INFO : worker thread finished; awaiting finish of 2 more threads\n",
            "2021-11-23 19:49:37,118 : INFO : worker thread finished; awaiting finish of 1 more threads\n",
            "2021-11-23 19:49:37,136 : INFO : worker thread finished; awaiting finish of 0 more threads\n",
            "2021-11-23 19:49:37,139 : INFO : EPOCH - 8 : training on 77231 raw words (63991 effective words) took 0.7s, 85494 effective words/s\n",
            "2021-11-23 19:49:37,771 : INFO : worker thread finished; awaiting finish of 2 more threads\n",
            "2021-11-23 19:49:37,860 : INFO : worker thread finished; awaiting finish of 1 more threads\n",
            "2021-11-23 19:49:37,886 : INFO : worker thread finished; awaiting finish of 0 more threads\n",
            "2021-11-23 19:49:37,887 : INFO : EPOCH - 9 : training on 77231 raw words (63811 effective words) took 0.7s, 86760 effective words/s\n",
            "2021-11-23 19:49:38,517 : INFO : worker thread finished; awaiting finish of 2 more threads\n",
            "2021-11-23 19:49:38,598 : INFO : worker thread finished; awaiting finish of 1 more threads\n",
            "2021-11-23 19:49:38,615 : INFO : worker thread finished; awaiting finish of 0 more threads\n",
            "2021-11-23 19:49:38,617 : INFO : EPOCH - 10 : training on 77231 raw words (64043 effective words) took 0.7s, 89424 effective words/s\n",
            "2021-11-23 19:49:39,234 : INFO : worker thread finished; awaiting finish of 2 more threads\n",
            "2021-11-23 19:49:39,323 : INFO : worker thread finished; awaiting finish of 1 more threads\n",
            "2021-11-23 19:49:39,339 : INFO : worker thread finished; awaiting finish of 0 more threads\n",
            "2021-11-23 19:49:39,341 : INFO : EPOCH - 11 : training on 77231 raw words (64127 effective words) took 0.7s, 90085 effective words/s\n",
            "2021-11-23 19:49:39,963 : INFO : worker thread finished; awaiting finish of 2 more threads\n",
            "2021-11-23 19:49:40,046 : INFO : worker thread finished; awaiting finish of 1 more threads\n",
            "2021-11-23 19:49:40,065 : INFO : worker thread finished; awaiting finish of 0 more threads\n",
            "2021-11-23 19:49:40,068 : INFO : EPOCH - 12 : training on 77231 raw words (64202 effective words) took 0.7s, 89794 effective words/s\n",
            "2021-11-23 19:49:40,687 : INFO : worker thread finished; awaiting finish of 2 more threads\n",
            "2021-11-23 19:49:40,785 : INFO : worker thread finished; awaiting finish of 1 more threads\n",
            "2021-11-23 19:49:40,798 : INFO : worker thread finished; awaiting finish of 0 more threads\n",
            "2021-11-23 19:49:40,800 : INFO : EPOCH - 13 : training on 77231 raw words (64074 effective words) took 0.7s, 89010 effective words/s\n",
            "2021-11-23 19:49:41,488 : INFO : worker thread finished; awaiting finish of 2 more threads\n",
            "2021-11-23 19:49:41,580 : INFO : worker thread finished; awaiting finish of 1 more threads\n",
            "2021-11-23 19:49:41,596 : INFO : worker thread finished; awaiting finish of 0 more threads\n",
            "2021-11-23 19:49:41,598 : INFO : EPOCH - 14 : training on 77231 raw words (64044 effective words) took 0.8s, 81750 effective words/s\n",
            "2021-11-23 19:49:42,233 : INFO : worker thread finished; awaiting finish of 2 more threads\n",
            "2021-11-23 19:49:42,313 : INFO : worker thread finished; awaiting finish of 1 more threads\n",
            "2021-11-23 19:49:42,333 : INFO : worker thread finished; awaiting finish of 0 more threads\n",
            "2021-11-23 19:49:42,335 : INFO : EPOCH - 15 : training on 77231 raw words (64010 effective words) took 0.7s, 88650 effective words/s\n",
            "2021-11-23 19:49:43,053 : INFO : worker thread finished; awaiting finish of 2 more threads\n",
            "2021-11-23 19:49:43,134 : INFO : worker thread finished; awaiting finish of 1 more threads\n",
            "2021-11-23 19:49:43,147 : INFO : worker thread finished; awaiting finish of 0 more threads\n",
            "2021-11-23 19:49:43,149 : INFO : EPOCH - 16 : training on 77231 raw words (63981 effective words) took 0.8s, 80141 effective words/s\n",
            "2021-11-23 19:49:43,835 : INFO : worker thread finished; awaiting finish of 2 more threads\n",
            "2021-11-23 19:49:43,914 : INFO : worker thread finished; awaiting finish of 1 more threads\n",
            "2021-11-23 19:49:43,930 : INFO : worker thread finished; awaiting finish of 0 more threads\n",
            "2021-11-23 19:49:43,932 : INFO : EPOCH - 17 : training on 77231 raw words (64216 effective words) took 0.8s, 83569 effective words/s\n",
            "2021-11-23 19:49:44,609 : INFO : worker thread finished; awaiting finish of 2 more threads\n",
            "2021-11-23 19:49:44,702 : INFO : worker thread finished; awaiting finish of 1 more threads\n",
            "2021-11-23 19:49:44,722 : INFO : worker thread finished; awaiting finish of 0 more threads\n",
            "2021-11-23 19:49:44,724 : INFO : EPOCH - 18 : training on 77231 raw words (63950 effective words) took 0.8s, 82045 effective words/s\n",
            "2021-11-23 19:49:45,386 : INFO : worker thread finished; awaiting finish of 2 more threads\n",
            "2021-11-23 19:49:45,461 : INFO : worker thread finished; awaiting finish of 1 more threads\n",
            "2021-11-23 19:49:45,483 : INFO : worker thread finished; awaiting finish of 0 more threads\n",
            "2021-11-23 19:49:45,485 : INFO : EPOCH - 19 : training on 77231 raw words (64074 effective words) took 0.7s, 85500 effective words/s\n",
            "2021-11-23 19:49:46,118 : INFO : worker thread finished; awaiting finish of 2 more threads\n",
            "2021-11-23 19:49:46,208 : INFO : worker thread finished; awaiting finish of 1 more threads\n",
            "2021-11-23 19:49:46,221 : INFO : worker thread finished; awaiting finish of 0 more threads\n",
            "2021-11-23 19:49:46,223 : INFO : EPOCH - 20 : training on 77231 raw words (64115 effective words) took 0.7s, 88828 effective words/s\n",
            "2021-11-23 19:49:46,876 : INFO : worker thread finished; awaiting finish of 2 more threads\n",
            "2021-11-23 19:49:46,967 : INFO : worker thread finished; awaiting finish of 1 more threads\n",
            "2021-11-23 19:49:46,982 : INFO : worker thread finished; awaiting finish of 0 more threads\n",
            "2021-11-23 19:49:46,983 : INFO : EPOCH - 21 : training on 77231 raw words (64155 effective words) took 0.7s, 85792 effective words/s\n",
            "2021-11-23 19:49:47,611 : INFO : worker thread finished; awaiting finish of 2 more threads\n",
            "2021-11-23 19:49:47,695 : INFO : worker thread finished; awaiting finish of 1 more threads\n",
            "2021-11-23 19:49:47,712 : INFO : worker thread finished; awaiting finish of 0 more threads\n",
            "2021-11-23 19:49:47,713 : INFO : EPOCH - 22 : training on 77231 raw words (63978 effective words) took 0.7s, 89426 effective words/s\n",
            "2021-11-23 19:49:48,364 : INFO : worker thread finished; awaiting finish of 2 more threads\n",
            "2021-11-23 19:49:48,448 : INFO : worker thread finished; awaiting finish of 1 more threads\n",
            "2021-11-23 19:49:48,476 : INFO : worker thread finished; awaiting finish of 0 more threads\n",
            "2021-11-23 19:49:48,477 : INFO : EPOCH - 23 : training on 77231 raw words (64007 effective words) took 0.8s, 85235 effective words/s\n",
            "2021-11-23 19:49:49,146 : INFO : worker thread finished; awaiting finish of 2 more threads\n",
            "2021-11-23 19:49:49,225 : INFO : worker thread finished; awaiting finish of 1 more threads\n",
            "2021-11-23 19:49:49,242 : INFO : worker thread finished; awaiting finish of 0 more threads\n",
            "2021-11-23 19:49:49,243 : INFO : EPOCH - 24 : training on 77231 raw words (64016 effective words) took 0.8s, 84953 effective words/s\n",
            "2021-11-23 19:49:49,885 : INFO : worker thread finished; awaiting finish of 2 more threads\n",
            "2021-11-23 19:49:49,975 : INFO : worker thread finished; awaiting finish of 1 more threads\n",
            "2021-11-23 19:49:49,992 : INFO : worker thread finished; awaiting finish of 0 more threads\n",
            "2021-11-23 19:49:49,993 : INFO : EPOCH - 25 : training on 77231 raw words (64013 effective words) took 0.7s, 87176 effective words/s\n",
            "2021-11-23 19:49:50,635 : INFO : worker thread finished; awaiting finish of 2 more threads\n",
            "2021-11-23 19:49:50,716 : INFO : worker thread finished; awaiting finish of 1 more threads\n",
            "2021-11-23 19:49:50,733 : INFO : worker thread finished; awaiting finish of 0 more threads\n",
            "2021-11-23 19:49:50,735 : INFO : EPOCH - 26 : training on 77231 raw words (64081 effective words) took 0.7s, 87837 effective words/s\n",
            "2021-11-23 19:49:51,402 : INFO : worker thread finished; awaiting finish of 2 more threads\n",
            "2021-11-23 19:49:51,489 : INFO : worker thread finished; awaiting finish of 1 more threads\n",
            "2021-11-23 19:49:51,509 : INFO : worker thread finished; awaiting finish of 0 more threads\n",
            "2021-11-23 19:49:51,510 : INFO : EPOCH - 27 : training on 77231 raw words (64079 effective words) took 0.8s, 84312 effective words/s\n",
            "2021-11-23 19:49:52,161 : INFO : worker thread finished; awaiting finish of 2 more threads\n",
            "2021-11-23 19:49:52,248 : INFO : worker thread finished; awaiting finish of 1 more threads\n",
            "2021-11-23 19:49:52,268 : INFO : worker thread finished; awaiting finish of 0 more threads\n",
            "2021-11-23 19:49:52,270 : INFO : EPOCH - 28 : training on 77231 raw words (64176 effective words) took 0.7s, 86430 effective words/s\n",
            "2021-11-23 19:49:52,947 : INFO : worker thread finished; awaiting finish of 2 more threads\n",
            "2021-11-23 19:49:53,045 : INFO : worker thread finished; awaiting finish of 1 more threads\n",
            "2021-11-23 19:49:53,056 : INFO : worker thread finished; awaiting finish of 0 more threads\n",
            "2021-11-23 19:49:53,057 : INFO : EPOCH - 29 : training on 77231 raw words (64013 effective words) took 0.8s, 82864 effective words/s\n",
            "2021-11-23 19:49:53,717 : INFO : worker thread finished; awaiting finish of 2 more threads\n",
            "2021-11-23 19:49:53,797 : INFO : worker thread finished; awaiting finish of 1 more threads\n",
            "2021-11-23 19:49:53,818 : INFO : worker thread finished; awaiting finish of 0 more threads\n",
            "2021-11-23 19:49:53,819 : INFO : EPOCH - 30 : training on 77231 raw words (64005 effective words) took 0.7s, 85714 effective words/s\n",
            "2021-11-23 19:49:54,475 : INFO : worker thread finished; awaiting finish of 2 more threads\n",
            "2021-11-23 19:49:54,562 : INFO : worker thread finished; awaiting finish of 1 more threads\n",
            "2021-11-23 19:49:54,581 : INFO : worker thread finished; awaiting finish of 0 more threads\n",
            "2021-11-23 19:49:54,582 : INFO : EPOCH - 31 : training on 77231 raw words (64079 effective words) took 0.7s, 85672 effective words/s\n",
            "2021-11-23 19:49:55,251 : INFO : worker thread finished; awaiting finish of 2 more threads\n",
            "2021-11-23 19:49:55,323 : INFO : worker thread finished; awaiting finish of 1 more threads\n",
            "2021-11-23 19:49:55,342 : INFO : worker thread finished; awaiting finish of 0 more threads\n",
            "2021-11-23 19:49:55,343 : INFO : EPOCH - 32 : training on 77231 raw words (64040 effective words) took 0.7s, 85664 effective words/s\n",
            "2021-11-23 19:49:55,976 : INFO : worker thread finished; awaiting finish of 2 more threads\n",
            "2021-11-23 19:49:56,065 : INFO : worker thread finished; awaiting finish of 1 more threads\n",
            "2021-11-23 19:49:56,084 : INFO : worker thread finished; awaiting finish of 0 more threads\n",
            "2021-11-23 19:49:56,086 : INFO : EPOCH - 33 : training on 77231 raw words (64290 effective words) took 0.7s, 87929 effective words/s\n",
            "2021-11-23 19:49:56,727 : INFO : worker thread finished; awaiting finish of 2 more threads\n",
            "2021-11-23 19:49:56,803 : INFO : worker thread finished; awaiting finish of 1 more threads\n",
            "2021-11-23 19:49:56,819 : INFO : worker thread finished; awaiting finish of 0 more threads\n",
            "2021-11-23 19:49:56,821 : INFO : EPOCH - 34 : training on 77231 raw words (63978 effective words) took 0.7s, 88586 effective words/s\n",
            "2021-11-23 19:49:57,439 : INFO : worker thread finished; awaiting finish of 2 more threads\n",
            "2021-11-23 19:49:57,527 : INFO : worker thread finished; awaiting finish of 1 more threads\n",
            "2021-11-23 19:49:57,548 : INFO : worker thread finished; awaiting finish of 0 more threads\n",
            "2021-11-23 19:49:57,549 : INFO : EPOCH - 35 : training on 77231 raw words (64058 effective words) took 0.7s, 89879 effective words/s\n",
            "2021-11-23 19:49:58,223 : INFO : worker thread finished; awaiting finish of 2 more threads\n",
            "2021-11-23 19:49:58,281 : INFO : worker thread finished; awaiting finish of 1 more threads\n",
            "2021-11-23 19:49:58,298 : INFO : worker thread finished; awaiting finish of 0 more threads\n",
            "2021-11-23 19:49:58,300 : INFO : EPOCH - 36 : training on 77231 raw words (64161 effective words) took 0.7s, 86940 effective words/s\n",
            "2021-11-23 19:49:58,961 : INFO : worker thread finished; awaiting finish of 2 more threads\n",
            "2021-11-23 19:49:59,031 : INFO : worker thread finished; awaiting finish of 1 more threads\n",
            "2021-11-23 19:49:59,055 : INFO : worker thread finished; awaiting finish of 0 more threads\n",
            "2021-11-23 19:49:59,057 : INFO : EPOCH - 37 : training on 77231 raw words (64055 effective words) took 0.7s, 86179 effective words/s\n",
            "2021-11-23 19:49:59,676 : INFO : worker thread finished; awaiting finish of 2 more threads\n",
            "2021-11-23 19:49:59,753 : INFO : worker thread finished; awaiting finish of 1 more threads\n",
            "2021-11-23 19:49:59,775 : INFO : worker thread finished; awaiting finish of 0 more threads\n",
            "2021-11-23 19:49:59,776 : INFO : EPOCH - 38 : training on 77231 raw words (63991 effective words) took 0.7s, 90550 effective words/s\n",
            "2021-11-23 19:50:00,437 : INFO : worker thread finished; awaiting finish of 2 more threads\n",
            "2021-11-23 19:50:00,529 : INFO : worker thread finished; awaiting finish of 1 more threads\n",
            "2021-11-23 19:50:00,544 : INFO : worker thread finished; awaiting finish of 0 more threads\n",
            "2021-11-23 19:50:00,546 : INFO : EPOCH - 39 : training on 77231 raw words (64085 effective words) took 0.8s, 84843 effective words/s\n",
            "2021-11-23 19:50:01,188 : INFO : worker thread finished; awaiting finish of 2 more threads\n",
            "2021-11-23 19:50:01,281 : INFO : worker thread finished; awaiting finish of 1 more threads\n",
            "2021-11-23 19:50:01,298 : INFO : worker thread finished; awaiting finish of 0 more threads\n",
            "2021-11-23 19:50:01,299 : INFO : EPOCH - 40 : training on 77231 raw words (63942 effective words) took 0.7s, 86495 effective words/s\n",
            "2021-11-23 19:50:01,303 : INFO : Doc2Vec lifecycle event {'msg': 'training on 3089240 raw words (2562322 effective words) took 30.3s, 84642 effective words/s', 'datetime': '2021-11-23T19:50:01.303770', 'gensim': '4.1.2', 'python': '3.7.12 (default, Sep 10 2021, 00:21:48) \\n[GCC 7.5.0]', 'platform': 'Linux-5.4.104+-x86_64-with-Ubuntu-18.04-bionic', 'event': 'train'}\n",
            "2021-11-23 19:50:01,307 : INFO : Doc2Vec lifecycle event {'params': 'Doc2Vec(dm/m,d100,n10,w4,s0.001,t3)', 'datetime': '2021-11-23T19:50:01.307113', 'gensim': '4.1.2', 'python': '3.7.12 (default, Sep 10 2021, 00:21:48) \\n[GCC 7.5.0]', 'platform': 'Linux-5.4.104+-x86_64-with-Ubuntu-18.04-bionic', 'event': 'created'}\n"
          ]
        }
      ]
    },
    {
      "cell_type": "code",
      "metadata": {
        "id": "G-cE7gug1Ct5"
      },
      "source": [
        "if use_wandb:\n",
        "  model_artifact = wandb.Artifact(\n",
        "      \"trained-model\", \n",
        "      type=\"model\",\n",
        "      description=\"Doc2Vec model\",\n",
        "      metadata=\"\")\n",
        "\n",
        "  fname = 'doc2vec.model'\n",
        "  model.save(fname)\n",
        "\n",
        "  model_artifact.add_file(fname)\n",
        "  wandb.log_artifact(model_artifact)"
      ],
      "execution_count": 197,
      "outputs": []
    },
    {
      "cell_type": "markdown",
      "metadata": {
        "id": "jJvq2K93xAO5"
      },
      "source": [
        "### Test the distance between C and the diatonic chords\n",
        "\n",
        "Test if the model can capture that the diatonic chords are closer to the root.\n",
        "\n",
        "Do this only if the input corpus contains the unigrams. "
      ]
    },
    {
      "cell_type": "code",
      "metadata": {
        "id": "cH3TJxCfvoFm"
      },
      "source": [
        "test_tokens = ['C',\n",
        "              'Dm',\n",
        "              'Em',\n",
        "              'F',\n",
        "              'G7',\n",
        "              'Am',\n",
        "              'Bm7b5',\n",
        "              'F7',\n",
        "              'D7',\n",
        "              'A7',\n",
        "              'E7',\n",
        "              'B7',\n",
        "              'F#7',\n",
        "               'Cm',\n",
        "               'D']\n",
        "\n",
        "if 1 in ngrams_for_input:\n",
        "  ref = 'C'\n",
        "  for t in test_tokens:\n",
        "    print(f\"{model.wv.similarity(ref, t):.3f}: {ref} <-> {t}\")"
      ],
      "execution_count": 198,
      "outputs": []
    },
    {
      "cell_type": "code",
      "metadata": {
        "id": "IfIRoWL4kpcB"
      },
      "source": [
        "if 1 in ngrams_for_input:\n",
        "  model.wv.similar_by_word('C', topn=20)"
      ],
      "execution_count": 199,
      "outputs": []
    },
    {
      "cell_type": "markdown",
      "metadata": {
        "id": "ix4n9S3_xQzD"
      },
      "source": [
        "Plot the generated word vectors in 2D space"
      ]
    },
    {
      "cell_type": "code",
      "metadata": {
        "id": "JjT_uNh0wthj"
      },
      "source": [
        "from sklearn.manifold import TSNE\n",
        "\n",
        "# input data: vectors for all tokens\n",
        "weights = model.wv.vectors\n",
        "\n",
        "# only do this when the vocabulary is not too big....\n",
        "if len(weights) < 100:\n",
        "\n",
        "  # do T-SNE\n",
        "  tsne = TSNE(n_components=2, \n",
        "              random_state=42,\n",
        "              perplexity=30,\n",
        "              learning_rate='auto',\n",
        "              init='pca',\n",
        "              n_iter=2000\n",
        "              )\n",
        "  T = tsne.fit_transform(weights)\n",
        "\n",
        "  # plot\n",
        "  projected = pd.DataFrame(T)\n",
        "\n",
        "  fig = px.scatter(\n",
        "      projected, \n",
        "      x=0, y=1,\n",
        "      #color='mode',\n",
        "      text=model.wv.index_to_key,\n",
        "      width=800, height=600,\n",
        "      title=\"T-SNE applied to Chord Vectors for Tunes in Cmaj/Amin\"\n",
        "  )\n",
        "  fig.update_traces(textposition='top center')\n",
        "  fig.update_traces(textfont_size=12, selector=dict(type='scatter'))\n",
        "  fig.show()"
      ],
      "execution_count": 200,
      "outputs": []
    },
    {
      "cell_type": "markdown",
      "metadata": {
        "id": "PzabYlA89QpY"
      },
      "source": [
        "### Test for single tunes"
      ]
    },
    {
      "cell_type": "code",
      "metadata": {
        "colab": {
          "base_uri": "https://localhost:8080/"
        },
        "id": "wYI6NZimAn6a",
        "outputId": "4bee7422-bbd7-41da-9298-de17676d8518"
      },
      "source": [
        "len(sectionid_to_section)"
      ],
      "execution_count": 201,
      "outputs": [
        {
          "output_type": "execute_result",
          "data": {
            "text/plain": [
              "5391"
            ]
          },
          "metadata": {},
          "execution_count": 201
        }
      ]
    },
    {
      "cell_type": "code",
      "metadata": {
        "colab": {
          "base_uri": "https://localhost:8080/"
        },
        "id": "8ho0HdILB4zq",
        "outputId": "be891cec-fd56-4026-decf-ca430eccd71c"
      },
      "source": [
        "len(model.dv)"
      ],
      "execution_count": 202,
      "outputs": [
        {
          "output_type": "execute_result",
          "data": {
            "text/plain": [
              "7200"
            ]
          },
          "metadata": {},
          "execution_count": 202
        }
      ]
    },
    {
      "cell_type": "code",
      "metadata": {
        "colab": {
          "base_uri": "https://localhost:8080/"
        },
        "id": "5Z2jZALS-7et",
        "outputId": "763548c4-9641-4562-cf4f-91caf97b9795"
      },
      "source": [
        "title_to_sectionid['These Foolish Things']"
      ],
      "execution_count": 203,
      "outputs": [
        {
          "output_type": "execute_result",
          "data": {
            "text/plain": [
              "[3860, 3861, 3862, 3863]"
            ]
          },
          "metadata": {},
          "execution_count": 203
        }
      ]
    },
    {
      "cell_type": "code",
      "metadata": {
        "id": "Y1GQemnx_jYJ"
      },
      "source": [
        "section_key = 3868"
      ],
      "execution_count": 204,
      "outputs": []
    },
    {
      "cell_type": "code",
      "metadata": {
        "colab": {
          "base_uri": "https://localhost:8080/"
        },
        "id": "ac5NyHbS-_2l",
        "outputId": "ce4bf6f0-48c9-4f38-b7ee-3a55f89032f2"
      },
      "source": [
        "model.dv.similar_by_key(section_key, topn=20)"
      ],
      "execution_count": 205,
      "outputs": [
        {
          "output_type": "execute_result",
          "data": {
            "text/plain": [
              "[('titleid_1170', 0.8444345593452454),\n",
              " ('titleid_1017', 0.7335648536682129),\n",
              " (99, 0.7159379124641418),\n",
              " ('titleid_577', 0.713516116142273),\n",
              " (975, 0.7067441344261169),\n",
              " (4264, 0.7061198353767395),\n",
              " (2013, 0.7059102654457092),\n",
              " (3289, 0.7025319337844849),\n",
              " ('titleid_468', 0.6983935236930847),\n",
              " (3765, 0.6980558633804321),\n",
              " (1419, 0.6971219778060913),\n",
              " (1527, 0.6941344141960144),\n",
              " (2938, 0.6940698027610779),\n",
              " (3767, 0.6879803538322449),\n",
              " (3895, 0.6868296265602112),\n",
              " (974, 0.6849051713943481),\n",
              " (1493, 0.6832921504974365),\n",
              " ('titleid_438', 0.6816310286521912),\n",
              " (4928, 0.6795814633369446),\n",
              " (1421, 0.6791135668754578)]"
            ]
          },
          "metadata": {},
          "execution_count": 205
        }
      ]
    },
    {
      "cell_type": "code",
      "metadata": {
        "colab": {
          "base_uri": "https://localhost:8080/",
          "height": 36
        },
        "id": "7rMyQRbdB_Iv",
        "outputId": "7e5f6959-b554-48ab-d2f3-7165ada966a1"
      },
      "source": [
        "sectionid_to_section[1889]"
      ],
      "execution_count": 206,
      "outputs": [
        {
          "output_type": "execute_result",
          "data": {
            "application/vnd.google.colaboratory.intrinsic+json": {
              "type": "string"
            },
            "text/plain": [
              "\"I've Told Eve'ry Little Star, section3 (B)\""
            ]
          },
          "metadata": {},
          "execution_count": 206
        }
      ]
    },
    {
      "cell_type": "code",
      "metadata": {
        "colab": {
          "base_uri": "https://localhost:8080/",
          "height": 175
        },
        "id": "BfUVTfdKB9sZ",
        "outputId": "9526a7e4-c8ca-4dbd-d1f5-f4b72498f55c"
      },
      "source": [
        "titles.query('title == \"These Foolish Things\"')"
      ],
      "execution_count": 207,
      "outputs": [
        {
          "output_type": "execute_result",
          "data": {
            "text/html": [
              "<div>\n",
              "<style scoped>\n",
              "    .dataframe tbody tr th:only-of-type {\n",
              "        vertical-align: middle;\n",
              "    }\n",
              "\n",
              "    .dataframe tbody tr th {\n",
              "        vertical-align: top;\n",
              "    }\n",
              "\n",
              "    .dataframe thead th {\n",
              "        text-align: right;\n",
              "    }\n",
              "</style>\n",
              "<table border=\"1\" class=\"dataframe\">\n",
              "  <thead>\n",
              "    <tr style=\"text-align: right;\">\n",
              "      <th></th>\n",
              "      <th>id</th>\n",
              "      <th>tune_id</th>\n",
              "      <th>section_id</th>\n",
              "      <th>section_name</th>\n",
              "      <th>title</th>\n",
              "      <th>tune_mode</th>\n",
              "    </tr>\n",
              "  </thead>\n",
              "  <tbody>\n",
              "    <tr>\n",
              "      <th>3860</th>\n",
              "      <td>3860</td>\n",
              "      <td>1168</td>\n",
              "      <td>1</td>\n",
              "      <td>A</td>\n",
              "      <td>These Foolish Things</td>\n",
              "      <td>major</td>\n",
              "    </tr>\n",
              "    <tr>\n",
              "      <th>3861</th>\n",
              "      <td>3861</td>\n",
              "      <td>1168</td>\n",
              "      <td>2</td>\n",
              "      <td>A</td>\n",
              "      <td>These Foolish Things</td>\n",
              "      <td>major</td>\n",
              "    </tr>\n",
              "    <tr>\n",
              "      <th>3862</th>\n",
              "      <td>3862</td>\n",
              "      <td>1168</td>\n",
              "      <td>3</td>\n",
              "      <td>B</td>\n",
              "      <td>These Foolish Things</td>\n",
              "      <td>major</td>\n",
              "    </tr>\n",
              "    <tr>\n",
              "      <th>3863</th>\n",
              "      <td>3863</td>\n",
              "      <td>1168</td>\n",
              "      <td>4</td>\n",
              "      <td>A</td>\n",
              "      <td>These Foolish Things</td>\n",
              "      <td>major</td>\n",
              "    </tr>\n",
              "  </tbody>\n",
              "</table>\n",
              "</div>"
            ],
            "text/plain": [
              "        id  tune_id  section_id section_name                 title tune_mode\n",
              "3860  3860     1168           1            A  These Foolish Things     major\n",
              "3861  3861     1168           2            A  These Foolish Things     major\n",
              "3862  3862     1168           3            B  These Foolish Things     major\n",
              "3863  3863     1168           4            A  These Foolish Things     major"
            ]
          },
          "metadata": {},
          "execution_count": 207
        }
      ]
    },
    {
      "cell_type": "code",
      "metadata": {
        "id": "vYKXvxxbBeIe"
      },
      "source": [
        "tune_key = 'titleid_1170'"
      ],
      "execution_count": 208,
      "outputs": []
    },
    {
      "cell_type": "code",
      "metadata": {
        "colab": {
          "base_uri": "https://localhost:8080/"
        },
        "id": "wfmnL7QrCFhz",
        "outputId": "598f689f-8bb8-42cd-de01-a0c0cc6eaeb4"
      },
      "source": [
        "model.dv.similar_by_key(tune_key, topn=20)"
      ],
      "execution_count": 209,
      "outputs": [
        {
          "output_type": "execute_result",
          "data": {
            "text/plain": [
              "[(3868, 0.8444344401359558),\n",
              " ('titleid_577', 0.814603328704834),\n",
              " ('titleid_1676', 0.8064547181129456),\n",
              " (5123, 0.801396369934082),\n",
              " ('titleid_996', 0.7994445562362671),\n",
              " ('titleid_943', 0.7967305183410645),\n",
              " (1826, 0.7893922328948975),\n",
              " (3869, 0.7862112522125244),\n",
              " (3767, 0.7851780652999878),\n",
              " (3870, 0.7848400473594666),\n",
              " (3125, 0.7842620015144348),\n",
              " (1906, 0.7840202450752258),\n",
              " (3765, 0.7827842235565186),\n",
              " (1472, 0.7823441624641418),\n",
              " ('titleid_68', 0.7808766961097717),\n",
              " (1721, 0.7804058790206909),\n",
              " (725, 0.7767133116722107),\n",
              " ('titleid_972', 0.7749802470207214),\n",
              " (3503, 0.7732667326927185),\n",
              " (3289, 0.7728232741355896)]"
            ]
          },
          "metadata": {},
          "execution_count": 209
        }
      ]
    },
    {
      "cell_type": "code",
      "metadata": {
        "colab": {
          "base_uri": "https://localhost:8080/"
        },
        "id": "Cp0brM80CSK2",
        "outputId": "9b088d75-4cca-4bd4-a9b9-1a19db04cdd1"
      },
      "source": [
        "titles.iloc[755]"
      ],
      "execution_count": 210,
      "outputs": [
        {
          "output_type": "execute_result",
          "data": {
            "text/plain": [
              "id                                           755\n",
              "tune_id                                      234\n",
              "section_id                                     5\n",
              "section_name                                   D\n",
              "title           Chega De Saudade (No More Blues)\n",
              "tune_mode                                  minor\n",
              "Name: 755, dtype: object"
            ]
          },
          "metadata": {},
          "execution_count": 210
        }
      ]
    },
    {
      "cell_type": "markdown",
      "metadata": {
        "id": "ajqb904KDwNV"
      },
      "source": [
        "#### Section Similarity\n"
      ]
    },
    {
      "cell_type": "code",
      "metadata": {
        "id": "mPnEPL_k4TZn"
      },
      "source": [
        "def get_section_scores_doc2vec(tunes):\n",
        "\n",
        "    df_sim = pd.DataFrame(columns=['reference_title',\n",
        "                                  'similar_title',\n",
        "                                  'ref_section', \n",
        "                                  'similar_section', \n",
        "                                  'score', \n",
        "                                  ])\n",
        "\n",
        "    for tune in tunes:\n",
        "      print()\n",
        "      print(\"-\"*50)\n",
        "      for s1 in title_to_sectionid[tune]:\n",
        "      \n",
        "          # sections are tagged with the numeric sectionid and can be used for querying\n",
        "          sims = model.dv.similar_by_key(s1, topn=40)\n",
        "          \n",
        "          print(s1, sectionid_to_section[s1])\n",
        "          n = 0\n",
        "          for s2, s2_score in sims:\n",
        "              if type(s2) == int:  # only consider similarities to sectionids; tuneids are strings\n",
        "                  # don't count self-similarity between sections of the same tune\n",
        "                  if s2 not in title_to_sectionid[tune]:\n",
        "                      n += 1\n",
        "                  \n",
        "                      # print(f\"\\t{s2_score:.3f} {sectionid_to_section[s2]}\")\n",
        "\n",
        "                      df_sim.loc[len(df_sim)] = [tune,\n",
        "                                      sectionid_to_title[s2],\n",
        "                                      sectionid_to_section[s1], \n",
        "                                      sectionid_to_section[s2], \n",
        "                                      s2_score, \n",
        "                                      ]\n",
        "    return df_sim"
      ],
      "execution_count": 211,
      "outputs": []
    },
    {
      "cell_type": "code",
      "metadata": {
        "colab": {
          "base_uri": "https://localhost:8080/"
        },
        "id": "i_d92il649O9",
        "outputId": "220aa9aa-eb9b-448f-d2b0-d5b16c1e112c"
      },
      "source": [
        "df_section_sim = get_section_scores_doc2vec(tunes_eval_list)\n",
        "df_word2vec = df_section_sim[:]"
      ],
      "execution_count": 212,
      "outputs": [
        {
          "output_type": "stream",
          "name": "stdout",
          "text": [
            "\n",
            "--------------------------------------------------\n",
            "125 After You've Gone, section1 (A)\n",
            "126 After You've Gone, section2 (B)\n",
            "127 After You've Gone, section3 (A)\n",
            "128 After You've Gone, section4 (C)\n",
            "\n",
            "--------------------------------------------------\n",
            "188 All God's Chillun Got Rhythm, section1 (A)\n",
            "189 All God's Chillun Got Rhythm, section2 (B)\n",
            "190 All God's Chillun Got Rhythm, section3 (A)\n",
            "191 All God's Chillun Got Rhythm, section4 (C)\n",
            "\n",
            "--------------------------------------------------\n",
            "198 All Of Me, section1 (A)\n",
            "199 All Of Me, section2 (B)\n",
            "200 All Of Me, section3 (A)\n",
            "201 All Of Me, section4 (C)\n",
            "\n",
            "--------------------------------------------------\n",
            "474 Blood Count, section1 (A)\n",
            "475 Blood Count, section2 (A)\n",
            "476 Blood Count, section3 (B)\n",
            "477 Blood Count, section4 (A)\n",
            "478 Blood Count, section5 (C)\n",
            "\n",
            "--------------------------------------------------\n",
            "496 Blue Moon, section1 (A)\n",
            "497 Blue Moon, section2 (A)\n",
            "498 Blue Moon, section3 (B)\n",
            "499 Blue Moon, section4 (A)\n",
            "\n",
            "--------------------------------------------------\n",
            "626 But Beautiful, section1 (A)\n",
            "627 But Beautiful, section2 (B)\n",
            "628 But Beautiful, section3 (A)\n",
            "629 But Beautiful, section4 (C)\n",
            "\n",
            "--------------------------------------------------\n",
            "653 Bye Bye Blackbird, section1 (A)\n",
            "654 Bye Bye Blackbird, section2 (B)\n",
            "4559 Bye Bye Blackbird, section1 (A)\n",
            "\n",
            "--------------------------------------------------\n",
            "676 Call Me Irresponsible, section1 (A)\n",
            "677 Call Me Irresponsible, section2 (B)\n",
            "678 Call Me Irresponsible, section3 (A)\n",
            "679 Call Me Irresponsible, section4 (B)\n",
            "\n",
            "--------------------------------------------------\n",
            "826 Corcovado, section1 (A)\n",
            "827 Corcovado, section2 (B)\n",
            "828 Corcovado, section3 (A)\n",
            "829 Corcovado, section4 (C)\n",
            "\n",
            "--------------------------------------------------\n",
            "997 Dinah, section1 (A)\n",
            "998 Dinah, section2 (A)\n",
            "999 Dinah, section3 (B)\n",
            "1000 Dinah, section4 (A)\n",
            "\n",
            "--------------------------------------------------\n",
            "1125 East Of The Sun, section1 (A)\n",
            "1126 East Of The Sun, section2 (B)\n",
            "1127 East Of The Sun, section3 (A)\n",
            "1128 East Of The Sun, section4 (C)\n",
            "\n",
            "--------------------------------------------------\n",
            "1287 Footprints, section0 (nan)\n",
            "\n",
            "--------------------------------------------------\n",
            "1379 Giant Steps, section0 (nan)\n",
            "\n",
            "--------------------------------------------------\n",
            "1538 Honeysuckle Rose, section1 (A)\n",
            "1539 Honeysuckle Rose, section2 (A)\n",
            "1540 Honeysuckle Rose, section3 (B)\n",
            "1541 Honeysuckle Rose, section4 (A)\n",
            "4781 Honeysuckle Rose, section1 (A)\n",
            "4782 Honeysuckle Rose, section2 (A)\n",
            "4783 Honeysuckle Rose, section3 (B)\n",
            "4784 Honeysuckle Rose, section4 (A)\n",
            "\n",
            "--------------------------------------------------\n",
            "1647 I Got Rhythm, section1 (A)\n",
            "1648 I Got Rhythm, section2 (A)\n",
            "1649 I Got Rhythm, section3 (B)\n",
            "1650 I Got Rhythm, section4 (A)\n",
            "4809 I Got Rhythm, section1 (A)\n",
            "4810 I Got Rhythm, section2 (A)\n",
            "4811 I Got Rhythm, section3 (B)\n",
            "4812 I Got Rhythm, section4 (A)\n",
            "\n",
            "--------------------------------------------------\n",
            "2670 Misty, section1 (A)\n",
            "2671 Misty, section2 (A)\n",
            "2672 Misty, section3 (B)\n",
            "2673 Misty, section4 (A)\n",
            "\n",
            "--------------------------------------------------\n",
            "2857 Naima, section1 (A)\n",
            "2858 Naima, section2 (A)\n",
            "2859 Naima, section3 (B)\n",
            "2860 Naima, section4 (A)\n",
            "\n",
            "--------------------------------------------------\n",
            "5044 Old Fashioned Love, section0 (nan)\n",
            "\n",
            "--------------------------------------------------\n",
            "3142 Perdido, section1 (A)\n",
            "3143 Perdido, section2 (A)\n",
            "3144 Perdido, section3 (B)\n",
            "3145 Perdido, section4 (A)\n",
            "\n",
            "--------------------------------------------------\n",
            "3276 Rockin' Chair, section1 (A)\n",
            "3277 Rockin' Chair, section2 (B)\n",
            "3278 Rockin' Chair, section3 (A)\n",
            "5110 Rockin' Chair, section1 (A)\n",
            "5111 Rockin' Chair, section2 (B)\n",
            "5112 Rockin' Chair, section3 (A)\n",
            "\n",
            "--------------------------------------------------\n",
            "3578 Sophisticated Lady, section1 (A)\n",
            "3579 Sophisticated Lady, section2 (A)\n",
            "3580 Sophisticated Lady, section3 (B)\n",
            "3581 Sophisticated Lady, section4 (A)\n",
            "\n",
            "--------------------------------------------------\n",
            "3746 Sweet Sue, Just You, section1 (A)\n",
            "3747 Sweet Sue, Just You, section2 (A)\n",
            "3748 Sweet Sue, Just You, section3 (B)\n",
            "3749 Sweet Sue, Just You, section4 (A)\n",
            "\n",
            "--------------------------------------------------\n",
            "3860 These Foolish Things, section1 (A)\n",
            "3861 These Foolish Things, section2 (A)\n",
            "3862 These Foolish Things, section3 (B)\n",
            "3863 These Foolish Things, section4 (A)\n",
            "\n",
            "--------------------------------------------------\n",
            "4146 We'll Be Together Again, section1 (A)\n",
            "4147 We'll Be Together Again, section2 (A)\n",
            "4148 We'll Be Together Again, section3 (B)\n",
            "4149 We'll Be Together Again, section4 (A)\n"
          ]
        }
      ]
    },
    {
      "cell_type": "code",
      "metadata": {
        "colab": {
          "base_uri": "https://localhost:8080/",
          "height": 542
        },
        "id": "n4dv7VVe5NT4",
        "outputId": "b96ff6ff-135c-49a1-fd80-28b10f6a66e5"
      },
      "source": [
        "import plotly.express as px\n",
        "fig = px.histogram(df_section_sim, x=\"score\", nbins=50, title='doc2vec sections')\n",
        "fig.show()"
      ],
      "execution_count": 213,
      "outputs": [
        {
          "output_type": "display_data",
          "data": {
            "text/html": [
              "<html>\n",
              "<head><meta charset=\"utf-8\" /></head>\n",
              "<body>\n",
              "    <div>\n",
              "            <script src=\"https://cdnjs.cloudflare.com/ajax/libs/mathjax/2.7.5/MathJax.js?config=TeX-AMS-MML_SVG\"></script><script type=\"text/javascript\">if (window.MathJax) {MathJax.Hub.Config({SVG: {font: \"STIX-Web\"}});}</script>\n",
              "                <script type=\"text/javascript\">window.PlotlyConfig = {MathJaxConfig: 'local'};</script>\n",
              "        <script src=\"https://cdn.plot.ly/plotly-latest.min.js\"></script>    \n",
              "            <div id=\"603a6ded-8fb5-4bed-b744-71b8700a75f4\" class=\"plotly-graph-div\" style=\"height:525px; width:100%;\"></div>\n",
              "            <script type=\"text/javascript\">\n",
              "                \n",
              "                    window.PLOTLYENV=window.PLOTLYENV || {};\n",
              "                    \n",
              "                if (document.getElementById(\"603a6ded-8fb5-4bed-b744-71b8700a75f4\")) {\n",
              "                    Plotly.newPlot(\n",
              "                        '603a6ded-8fb5-4bed-b744-71b8700a75f4',\n",
              "                        [{\"alignmentgroup\": \"True\", \"bingroup\": \"x\", \"hoverlabel\": {\"namelength\": 0}, \"hovertemplate\": \"score=%{x}<br>count=%{y}\", \"legendgroup\": \"\", \"marker\": {\"color\": \"#636efa\"}, \"name\": \"\", \"nbinsx\": 50, \"offsetgroup\": \"\", \"orientation\": \"v\", \"showlegend\": false, \"type\": \"histogram\", \"x\": [0.9398974180221558, 0.9309767484664917, 0.9185125827789307, 0.9173458218574524, 0.9171775579452515, 0.9159809947013855, 0.9134752154350281, 0.9120624661445618, 0.9119504690170288, 0.9046019911766052, 0.9035142660140991, 0.9033374190330505, 0.9032570719718933, 0.8996888399124146, 0.8964439034461975, 0.8961697816848755, 0.895445704460144, 0.8945543766021729, 0.8943702578544617, 0.8911182880401611, 0.8901088237762451, 0.8898282051086426, 0.8895863890647888, 0.889286458492279, 0.8890954852104187, 0.8883364200592041, 0.8877238035202026, 0.8875520825386047, 0.8865777850151062, 0.8848364353179932, 0.8847725987434387, 0.8842887878417969, 0.8842230439186096, 0.7687304615974426, 0.7503665685653687, 0.7366539239883423, 0.7188515663146973, 0.6982750296592712, 0.6970570683479309, 0.6848405599594116, 0.6811496615409851, 0.6779220700263977, 0.6521955132484436, 0.6508593559265137, 0.6508008241653442, 0.6488622426986694, 0.6415644884109497, 0.6410413980484009, 0.6299185156822205, 0.6285311579704285, 0.6250894665718079, 0.617364227771759, 0.6140388250350952, 0.6135202646255493, 0.6118385791778564, 0.6084584593772888, 0.6082883477210999, 0.608024537563324, 0.604521632194519, 0.6030316352844238, 0.6022602319717407, 0.6017603278160095, 0.595475435256958, 0.5940126776695251, 0.5934374928474426, 0.5890313982963562, 0.5871174931526184, 0.5839812159538269, 0.5835794806480408, 0.5833269953727722, 0.5830697417259216, 0.9263426661491394, 0.9143561720848083, 0.9122934937477112, 0.9113695025444031, 0.9052913188934326, 0.9026011824607849, 0.8947275280952454, 0.893403947353363, 0.8873933553695679, 0.8872125744819641, 0.885992169380188, 0.8856536149978638, 0.8855178952217102, 0.8846875429153442, 0.8836406469345093, 0.881463348865509, 0.8805970549583435, 0.8797559142112732, 0.8770772814750671, 0.8736974000930786, 0.8721696734428406, 0.871207594871521, 0.8688328266143799, 0.8678641319274902, 0.8668451905250549, 0.8668068051338196, 0.8663235902786255, 0.8652945160865784, 0.8648725748062134, 0.8642585277557373, 0.8641735315322876, 0.8617480397224426, 0.8610002398490906, 0.5339075922966003, 0.5141302943229675, 0.49215224385261536, 0.47803038358688354, 0.4625842869281769, 0.46206724643707275, 0.46125519275665283, 0.4606442451477051, 0.43771445751190186, 0.43625408411026, 0.4358757436275482, 0.4300880432128906, 0.4289526343345642, 0.4251224994659424, 0.4237478971481323, 0.4229627847671509, 0.41872063279151917, 0.4161817133426666, 0.4153449237346649, 0.41369345784187317, 0.41157546639442444, 0.40643879771232605, 0.40333136916160583, 0.4026089608669281, 0.40156424045562744, 0.39898988604545593, 0.3947906196117401, 0.394256055355072, 0.3936501741409302, 0.39327433705329895, 0.3932158648967743, 0.3931310474872589, 0.39258769154548645, 0.9001032114028931, 0.8853761553764343, 0.8671236634254456, 0.8453083038330078, 0.8453010320663452, 0.842680811882019, 0.8394544124603271, 0.8321579694747925, 0.831714928150177, 0.8292893767356873, 0.8275712728500366, 0.8261626362800598, 0.8232070207595825, 0.8228403925895691, 0.8188533782958984, 0.8171154260635376, 0.8169945478439331, 0.8163463473320007, 0.8160976767539978, 0.8148820996284485, 0.814280092716217, 0.8130447864532471, 0.8125877976417542, 0.8112971186637878, 0.8111594915390015, 0.8082968592643738, 0.807025134563446, 0.8058444857597351, 0.805718719959259, 0.80550616979599, 0.8053687810897827, 0.6623565554618835, 0.6469857096672058, 0.6159009337425232, 0.6154382824897766, 0.5994227528572083, 0.5905768275260925, 0.582558810710907, 0.5486328601837158, 0.5472826957702637, 0.5436784625053406, 0.5396615266799927, 0.5250130891799927, 0.5177888870239258, 0.5092375874519348, 0.5054152011871338, 0.5021887421607971, 0.49668797850608826, 0.49599286913871765, 0.4822693169116974, 0.4821018874645233, 0.4769643247127533, 0.47523027658462524, 0.4721580743789673, 0.4683907926082611, 0.46369338035583496, 0.4547942876815796, 0.44611141085624695, 0.44428616762161255, 0.44416695833206177, 0.4438559114933014, 0.443276971578598, 0.43519625067710876, 0.4280625581741333, 0.42755821347236633, 0.4212414026260376, 0.42100661993026733, 0.8624431490898132, 0.8591257333755493, 0.8536382913589478, 0.8336153626441956, 0.8332839608192444, 0.8229154348373413, 0.8195254802703857, 0.8153109550476074, 0.8110777139663696, 0.8035474419593811, 0.8011842966079712, 0.7972919940948486, 0.7909263372421265, 0.7908185720443726, 0.7899705767631531, 0.7868759632110596, 0.7847313284873962, 0.7832424640655518, 0.7750119566917419, 0.7745203971862793, 0.7664540410041809, 0.7661364674568176, 0.7593841552734375, 0.7592076659202576, 0.7588233351707458, 0.7561206221580505, 0.754737913608551, 0.749897837638855, 0.7496993541717529, 0.7860054969787598, 0.777479350566864, 0.7582544088363647, 0.7407470941543579, 0.7355228662490845, 0.6975971460342407, 0.6906346082687378, 0.688902735710144, 0.6839823722839355, 0.6838697791099548, 0.681343674659729, 0.6797247529029846, 0.6773117184638977, 0.6762018203735352, 0.6753561496734619, 0.6737101674079895, 0.6643104553222656, 0.6612592935562134, 0.6609236598014832, 0.6571344137191772, 0.6568863987922668, 0.6497436761856079, 0.6462355256080627, 0.6409374475479126, 0.6406042575836182, 0.6386131048202515, 0.6353010535240173, 0.6348864436149597, 0.6346878409385681, 0.6322160959243774, 0.6313838362693787, 0.6294788122177124, 0.6279097199440002, 0.6267688870429993, 0.6267202496528625, 0.7908028960227966, 0.7902703881263733, 0.7766470909118652, 0.7455949187278748, 0.7343695759773254, 0.7125795483589172, 0.712242841720581, 0.7065092921257019, 0.6999692320823669, 0.6948381662368774, 0.6946377158164978, 0.6941219568252563, 0.6888508796691895, 0.6881274580955505, 0.680719792842865, 0.6801362037658691, 0.6799923181533813, 0.6789630651473999, 0.6783503890037537, 0.6714216470718384, 0.6697194576263428, 0.668626070022583, 0.6641718149185181, 0.6613497734069824, 0.6608781218528748, 0.8778533339500427, 0.8496178984642029, 0.7509368658065796, 0.7244574427604675, 0.7146088480949402, 0.7140217423439026, 0.7088693976402283, 0.7085732817649841, 0.7022976279258728, 0.6887622475624084, 0.6835845708847046, 0.6819623708724976, 0.6813151240348816, 0.6812828779220581, 0.6796269416809082, 0.6781399250030518, 0.670219898223877, 0.6625380516052246, 0.6606785655021667, 0.6571744084358215, 0.6547548174858093, 0.6478032469749451, 0.6468346118927002, 0.6326760053634644, 0.6290631890296936, 0.6172479391098022, 0.6160611510276794, 0.614295244216919, 0.6104476451873779, 0.6094487905502319, 0.6018712520599365, 0.5999739170074463, 0.599368155002594, 0.5968728065490723, 0.5932356715202332, 0.5921284556388855, 0.5917394161224365, 0.5910378694534302, 0.5897509455680847, 0.8243106603622437, 0.7976015210151672, 0.7837745547294617, 0.7770177721977234, 0.7704343199729919, 0.7653058767318726, 0.7462050914764404, 0.73268061876297, 0.732177197933197, 0.7295799255371094, 0.7291148900985718, 0.7246943712234497, 0.7233834862709045, 0.7162038683891296, 0.7154184579849243, 0.7132850289344788, 0.7110110521316528, 0.7097657322883606, 0.7092862129211426, 0.7092413306236267, 0.7035862803459167, 0.6960280537605286, 0.6933557391166687, 0.6927503943443298, 0.9050644040107727, 0.8875923752784729, 0.8853012323379517, 0.8835070729255676, 0.8803408741950989, 0.8802930116653442, 0.8786298632621765, 0.8758612275123596, 0.8754467368125916, 0.8747825622558594, 0.8746370673179626, 0.8738983273506165, 0.8735293745994568, 0.8734982013702393, 0.8730241656303406, 0.8727176785469055, 0.8723498582839966, 0.8689417839050293, 0.8685349822044373, 0.8674262762069702, 0.8672718405723572, 0.8670104742050171, 0.8663934469223022, 0.8660452961921692, 0.8651174902915955, 0.8647264242172241, 0.8645917773246765, 0.8645626902580261, 0.8644047379493713, 0.8640314340591431, 0.8636184334754944, 0.8635134696960449, 0.8613530397415161, 0.8607359528541565, 0.8593444228172302, 0.8592172861099243, 0.8584945797920227, 0.8582083582878113, 0.7693796157836914, 0.7613446116447449, 0.7520111799240112, 0.742072582244873, 0.7410136461257935, 0.7131145000457764, 0.7113208770751953, 0.7098165154457092, 0.7058556079864502, 0.6958218812942505, 0.6869695782661438, 0.6841282248497009, 0.6841006278991699, 0.6802544593811035, 0.6795697808265686, 0.6772195100784302, 0.6750397682189941, 0.6736230850219727, 0.6732891201972961, 0.671938955783844, 0.6674182415008545, 0.6671059727668762, 0.6660138368606567, 0.6659252047538757, 0.6644322276115417, 0.6642731428146362, 0.6623573303222656, 0.6495077013969421, 0.6082828044891357, 0.6019996404647827, 0.598008930683136, 0.5932977795600891, 0.5906803607940674, 0.5867217779159546, 0.5750139951705933, 0.5742851495742798, 0.571533739566803, 0.567328691482544, 0.5563340187072754, 0.5465231537818909, 0.5408690571784973, 0.5405276417732239, 0.5137227177619934, 0.5103787779808044, 0.5020186305046082, 0.496452659368515, 0.49367842078208923, 0.4933623671531677, 0.4870164096355438, 0.4859178960323334, 0.485660195350647, 0.4833477735519409, 0.4808046817779541, 0.48008057475090027, 0.4771820306777954, 0.4753431975841522, 0.4736268222332001, 0.47266626358032227, 0.47231850028038025, 0.4678958058357239, 0.46475309133529663, 0.463795930147171, 0.4634559452533722, 0.8871769309043884, 0.8765236735343933, 0.8724210858345032, 0.8704906702041626, 0.8691908717155457, 0.8661017417907715, 0.8599432706832886, 0.8593546152114868, 0.8585943579673767, 0.8572978377342224, 0.8553040027618408, 0.8544848561286926, 0.8538780212402344, 0.8538424372673035, 0.8525271415710449, 0.852386474609375, 0.850837767124176, 0.8503718376159668, 0.8479694128036499, 0.8473717570304871, 0.8454973697662354, 0.8450217247009277, 0.8445053100585938, 0.8420316576957703, 0.8415529131889343, 0.8403143882751465, 0.838165819644928, 0.8378652930259705, 0.8373234272003174, 0.8372040390968323, 0.7116197943687439, 0.7010970711708069, 0.6883499026298523, 0.6858894228935242, 0.658638596534729, 0.6548528671264648, 0.645759642124176, 0.6380153894424438, 0.6373050808906555, 0.6253018379211426, 0.6240583658218384, 0.6240274310112, 0.6168504953384399, 0.6157047152519226, 0.61063551902771, 0.6059547662734985, 0.576229989528656, 0.5744872689247131, 0.5718891620635986, 0.5665057897567749, 0.5662050247192383, 0.5661770105361938, 0.5629572868347168, 0.5608804225921631, 0.5602485537528992, 0.5593674182891846, 0.55411297082901, 0.5526127219200134, 0.5506690144538879, 0.5441125631332397, 0.5428610444068909, 0.7546848058700562, 0.7448657751083374, 0.7437724471092224, 0.740925133228302, 0.7293037176132202, 0.7249748110771179, 0.7224734425544739, 0.719413697719574, 0.7186465859413147, 0.7178997993469238, 0.716586709022522, 0.7163531184196472, 0.7134078741073608, 0.7119318842887878, 0.7095925807952881, 0.7083460092544556, 0.7029703855514526, 0.7025294303894043, 0.7005603909492493, 0.6995678544044495, 0.6985593438148499, 0.6980052590370178, 0.6977851390838623, 0.6973092555999756, 0.9007522463798523, 0.8965902924537659, 0.8790316581726074, 0.8624430894851685, 0.8610034584999084, 0.8546711802482605, 0.8522578477859497, 0.8477352857589722, 0.8471810221672058, 0.8422878384590149, 0.8404455184936523, 0.8383162617683411, 0.8367760181427002, 0.8337556719779968, 0.8183743953704834, 0.8126944303512573, 0.8123306035995483, 0.8105499744415283, 0.8071120977401733, 0.8045340776443481, 0.8038862347602844, 0.7984247207641602, 0.7979270815849304, 0.7936015129089355, 0.793438732624054, 0.793144702911377, 0.7924934029579163, 0.7919884920120239, 0.8415042161941528, 0.83304762840271, 0.8315282464027405, 0.8313336372375488, 0.8305251598358154, 0.8245583772659302, 0.8228403925895691, 0.8227665424346924, 0.8224625587463379, 0.8205033540725708, 0.819827139377594, 0.8197888135910034, 0.8136364221572876, 0.8125025629997253, 0.8123313784599304, 0.8104985356330872, 0.8103530406951904, 0.8101715445518494, 0.8096949458122253, 0.8086978197097778, 0.8086468577384949, 0.8071325421333313, 0.8068884611129761, 0.8057909607887268, 0.803371012210846, 0.8029418587684631, 0.8028923273086548, 0.8026727437973022, 0.8022475242614746, 0.8019886016845703, 0.5612920522689819, 0.5330942869186401, 0.5264745354652405, 0.48719537258148193, 0.48514121770858765, 0.48305782675743103, 0.4768373668193817, 0.46131205558776855, 0.4580094516277313, 0.44567275047302246, 0.4415452480316162, 0.4404498338699341, 0.42963898181915283, 0.42454400658607483, 0.4240838885307312, 0.41868358850479126, 0.4146054685115814, 0.40571314096450806, 0.40400007367134094, 0.4037863612174988, 0.4023568630218506, 0.3996412754058838, 0.39865270256996155, 0.39858242869377136, 0.3985096514225006, 0.39055800437927246, 0.3871583640575409, 0.3869592845439911, 0.3867371082305908, 0.3854895532131195, 0.38523751497268677, 0.38466086983680725, 0.38364773988723755, 0.38350290060043335, 0.3793623447418213, 0.3780580163002014, 0.3752559423446655, 0.9082476496696472, 0.9030055999755859, 0.9019713997840881, 0.8985043168067932, 0.890609622001648, 0.8757178783416748, 0.8696208596229553, 0.866310179233551, 0.8609544038772583, 0.8549792766571045, 0.8531740307807922, 0.8528016805648804, 0.8468790650367737, 0.846237063407898, 0.8461905121803284, 0.843052089214325, 0.8426806926727295, 0.8418317437171936, 0.8396404385566711, 0.8347840905189514, 0.8335590958595276, 0.8273621201515198, 0.8260422348976135, 0.8210183382034302, 0.820774495601654, 0.820000946521759, 0.819525420665741, 0.8127518892288208, 0.812442421913147, 0.7963025569915771, 0.7928420305252075, 0.7916713356971741, 0.778542697429657, 0.7666036486625671, 0.7647666335105896, 0.7644872665405273, 0.763604462146759, 0.7629299163818359, 0.7583075761795044, 0.7559312582015991, 0.7557252645492554, 0.7552027106285095, 0.7545229196548462, 0.7504884004592896, 0.7479401230812073, 0.7472044229507446, 0.746800422668457, 0.7460541129112244, 0.7459725141525269, 0.7416234612464905, 0.7408102750778198, 0.7829905152320862, 0.7824451327323914, 0.7429983019828796, 0.7402840256690979, 0.7203063368797302, 0.716720461845398, 0.7018043994903564, 0.6961720585823059, 0.6946489214897156, 0.6941653490066528, 0.6938740015029907, 0.6932448148727417, 0.6926844120025635, 0.6922397613525391, 0.6922065615653992, 0.6912328600883484, 0.6888754963874817, 0.6883307099342346, 0.6871589422225952, 0.6867701411247253, 0.6865049004554749, 0.685105562210083, 0.6825909614562988, 0.6825453042984009, 0.8286494612693787, 0.8226388096809387, 0.8182668685913086, 0.8142988085746765, 0.8113744854927063, 0.8075476288795471, 0.8037832379341125, 0.8013269305229187, 0.7977057099342346, 0.7911965250968933, 0.7894639372825623, 0.7863497734069824, 0.784970760345459, 0.7819134593009949, 0.7805989384651184, 0.7798928022384644, 0.7764788866043091, 0.7762148976325989, 0.7756665349006653, 0.7730118632316589, 0.7724775671958923, 0.770463228225708, 0.7687822580337524, 0.7666221261024475, 0.7659200429916382, 0.7657902836799622, 0.6273688077926636, 0.5357833504676819, 0.4903637170791626, 0.4859296679496765, 0.4603959023952484, 0.45774057507514954, 0.4476432204246521, 0.4268020689487457, 0.42193758487701416, 0.41848844289779663, 0.4067501723766327, 0.3995073735713959, 0.3993667960166931, 0.3967011272907257, 0.39333581924438477, 0.38899102807044983, 0.38319131731987, 0.38318687677383423, 0.38154494762420654, 0.380744069814682, 0.3801991939544678, 0.37435516715049744, 0.3713718354701996, 0.36626821756362915, 0.3662368059158325, 0.36395391821861267, 0.3558489978313446, 0.3513399064540863, 0.34932467341423035, 0.3481108248233795, 0.34735235571861267, 0.34583473205566406, 0.34435632824897766, 0.34417200088500977, 0.34256574511528015, 0.3403269052505493, 0.3401833176612854, 0.3394491672515869, 0.3370932638645172, 0.8774104118347168, 0.872714102268219, 0.842182457447052, 0.8031774759292603, 0.798011064529419, 0.7930994629859924, 0.7887423038482666, 0.7861431241035461, 0.7720385193824768, 0.771420955657959, 0.771382212638855, 0.7702018022537231, 0.7701319456100464, 0.7647122740745544, 0.7644144892692566, 0.7605385184288025, 0.7589821219444275, 0.7548666596412659, 0.7545109391212463, 0.7512493133544922, 0.7485854625701904, 0.7481735348701477, 0.7434856295585632, 0.7400296926498413, 0.7392006516456604, 0.737747311592102, 0.7335377335548401, 0.8521169424057007, 0.812397301197052, 0.8067813515663147, 0.8059700727462769, 0.8012649416923523, 0.7933624386787415, 0.7882112860679626, 0.7864589095115662, 0.7840299010276794, 0.7816509008407593, 0.7785635590553284, 0.768505871295929, 0.7660315036773682, 0.765102207660675, 0.7625174522399902, 0.7620906829833984, 0.7601745128631592, 0.759986162185669, 0.7572889924049377, 0.7555057406425476, 0.755246102809906, 0.7513703107833862, 0.7470549941062927, 0.7450491189956665, 0.744996190071106, 0.7433469295501709, 0.8830126523971558, 0.8611420392990112, 0.8546981811523438, 0.8518887162208557, 0.8517325520515442, 0.8511517643928528, 0.8491529822349548, 0.8459810614585876, 0.8448432087898254, 0.8431265950202942, 0.8416127562522888, 0.8383793830871582, 0.837988018989563, 0.8375936150550842, 0.8362895250320435, 0.8348109722137451, 0.8346832394599915, 0.8343151211738586, 0.8338767290115356, 0.8334962129592896, 0.8332293033599854, 0.8329487442970276, 0.8323171138763428, 0.8312652111053467, 0.8307909369468689, 0.830454409122467, 0.8301424384117126, 0.8289755582809448, 0.8286072015762329, 0.8284767866134644, 0.7984524369239807, 0.7862144708633423, 0.770352840423584, 0.7661137580871582, 0.7587957382202148, 0.7407374382019043, 0.7395732402801514, 0.7251221537590027, 0.7195860147476196, 0.7193423509597778, 0.7171234488487244, 0.7157458662986755, 0.7156112790107727, 0.712102472782135, 0.7088146805763245, 0.7084056735038757, 0.7049472332000732, 0.7046995759010315, 0.7020367980003357, 0.6967161297798157, 0.696476399898529, 0.6960529685020447, 0.6917416453361511, 0.6911913752555847, 0.6888419389724731, 0.688318133354187, 0.6876553893089294, 0.687592089176178, 0.7601415514945984, 0.7364235520362854, 0.7220016121864319, 0.7126564383506775, 0.7090155482292175, 0.7083821892738342, 0.7015061974525452, 0.6840540170669556, 0.6787911653518677, 0.6731091141700745, 0.6672957539558411, 0.6672590970993042, 0.6663121581077576, 0.6656191945075989, 0.6653003692626953, 0.6643094420433044, 0.663623571395874, 0.6629404425621033, 0.6625996232032776, 0.6609101295471191, 0.660338282585144, 0.6580779552459717, 0.6576343178749084, 0.6568419933319092, 0.6566314697265625, 0.8093963861465454, 0.773880660533905, 0.7607118487358093, 0.7520943880081177, 0.7505925893783569, 0.7407525181770325, 0.7387203574180603, 0.7283945083618164, 0.7255776524543762, 0.7249811887741089, 0.7219702005386353, 0.7187089920043945, 0.7183886170387268, 0.7182523012161255, 0.7101972699165344, 0.7081443071365356, 0.7057125568389893, 0.7043175101280212, 0.7024098634719849, 0.7018842697143555, 0.7010467052459717, 0.6997625231742859, 0.6976622939109802, 0.6975002288818359, 0.696058452129364, 0.6944904923439026, 0.6916577219963074, 0.6908824443817139, 0.7460313439369202, 0.7134811878204346, 0.7033096551895142, 0.7026184797286987, 0.7005250453948975, 0.6912837624549866, 0.687409520149231, 0.6859725117683411, 0.683975100517273, 0.6772100925445557, 0.6757787466049194, 0.6725045442581177, 0.6720829010009766, 0.6693997979164124, 0.6658554673194885, 0.6657467484474182, 0.6631593704223633, 0.6630067229270935, 0.6626816391944885, 0.6595001816749573, 0.6592448353767395, 0.6585347652435303, 0.6572513580322266, 0.6565911769866943, 0.6545585989952087, 0.653634250164032, 0.6522992253303528, 0.6514753103256226, 0.6514303088188171, 0.915354311466217, 0.8545764088630676, 0.8422999978065491, 0.8113783597946167, 0.810627818107605, 0.8078925609588623, 0.8069959282875061, 0.8057522773742676, 0.8048904538154602, 0.794379472732544, 0.7920025587081909, 0.7842752933502197, 0.7804290652275085, 0.7798998355865479, 0.775018572807312, 0.7742357850074768, 0.7729200720787048, 0.7717679738998413, 0.7709828019142151, 0.7636693716049194, 0.7612400054931641, 0.7571727633476257, 0.7565745711326599, 0.8639609813690186, 0.7089563608169556, 0.6949118375778198, 0.6652393937110901, 0.6297030448913574, 0.626123309135437, 0.617091178894043, 0.5996915698051453, 0.597152829170227, 0.5833051800727844, 0.5762518644332886, 0.5718876123428345, 0.5710412263870239, 0.5474507212638855, 0.5466281175613403, 0.5445277690887451, 0.5413184762001038, 0.540091872215271, 0.5391538739204407, 0.5383611917495728, 0.537148118019104, 0.5332881808280945, 0.52953040599823, 0.5292105078697205, 0.5281758308410645, 0.5276729464530945, 0.5273107886314392, 0.5262994170188904, 0.5178468823432922, 0.5136036276817322, 0.5107972621917725, 0.5103762745857239, 0.5028907060623169, 0.5008219480514526, 0.49003520607948303, 0.48878419399261475, 0.48719534277915955, 0.4862860441207886, 0.8997863531112671, 0.8475233912467957, 0.8142210245132446, 0.7983547449111938, 0.7927803993225098, 0.791542649269104, 0.7864346504211426, 0.7846110463142395, 0.783471941947937, 0.7805885672569275, 0.7770076990127563, 0.7691964507102966, 0.7666088938713074, 0.7665852904319763, 0.7662084698677063, 0.7570791840553284, 0.7551420331001282, 0.7550933957099915, 0.7545356750488281, 0.7523627281188965, 0.7518734931945801, 0.7514704465866089, 0.749430775642395, 0.747154712677002, 0.7469528913497925, 0.7441426515579224, 0.7434324622154236, 0.744224488735199, 0.723638653755188, 0.7232263684272766, 0.711161732673645, 0.7066335082054138, 0.7042165398597717, 0.7002944350242615, 0.6983665823936462, 0.6970357298851013, 0.696105420589447, 0.6938273310661316, 0.6903368830680847, 0.6837036609649658, 0.6829952597618103, 0.6828022599220276, 0.6783674359321594, 0.6778212189674377, 0.6776764392852783, 0.6667220592498779, 0.6648673415184021, 0.6615455746650696, 0.661171555519104, 0.6588024497032166, 0.6577826738357544, 0.6529180407524109, 0.6519091725349426, 0.6504405736923218, 0.6500607132911682, 0.6481500267982483, 0.6480628848075867, 0.6467189192771912, 0.6465643644332886, 0.6453805565834045, 0.7564355731010437, 0.7193918228149414, 0.7119361162185669, 0.709671139717102, 0.7081183195114136, 0.7038960456848145, 0.7011414170265198, 0.6964980363845825, 0.6954973936080933, 0.6919497847557068, 0.6889073252677917, 0.6865305304527283, 0.6863747835159302, 0.6826075911521912, 0.680742084980011, 0.6777826547622681, 0.6765074133872986, 0.670448362827301, 0.6640990376472473, 0.6593865752220154, 0.6593393087387085, 0.6567028760910034, 0.6548439264297485, 0.654613733291626, 0.6525688171386719, 0.6497141718864441, 0.6484841108322144, 0.6444790363311768, 0.7959296703338623, 0.7638918161392212, 0.7624269127845764, 0.7503582835197449, 0.7429659962654114, 0.7425238490104675, 0.7415876388549805, 0.7350504994392395, 0.7146561145782471, 0.7123811841011047, 0.7120557427406311, 0.7047500610351562, 0.6958903074264526, 0.6952794194221497, 0.6947523355484009, 0.6928195357322693, 0.6923608183860779, 0.6897464394569397, 0.6896741390228271, 0.6873694658279419, 0.6855377554893494, 0.6775133609771729, 0.6767211556434631, 0.6766348481178284, 0.6765104532241821, 0.6366963386535645, 0.6340797543525696, 0.6090506315231323, 0.6049327254295349, 0.5966423153877258, 0.5897217988967896, 0.5574297308921814, 0.5506895184516907, 0.5483092665672302, 0.5478988885879517, 0.5426004528999329, 0.5419527888298035, 0.5416479706764221, 0.5412548780441284, 0.5375087857246399, 0.5330283641815186, 0.5329872965812683, 0.5324981808662415, 0.5274613499641418, 0.5195828080177307, 0.519210696220398, 0.5184350609779358, 0.5166208148002625, 0.516055703163147, 0.5134912729263306, 0.5133859515190125, 0.5124132037162781, 0.5119909644126892, 0.5110681653022766, 0.5051179528236389, 0.5018136501312256, 0.5002586841583252, 0.499813973903656, 0.7804928421974182, 0.768521249294281, 0.7574462294578552, 0.753883421421051, 0.7521345019340515, 0.7431122064590454, 0.7415987849235535, 0.7371129393577576, 0.7330472469329834, 0.7325051426887512, 0.7324665188789368, 0.7319169044494629, 0.7303186655044556, 0.7288258075714111, 0.726757287979126, 0.7249109745025635, 0.7226073741912842, 0.7213454842567444, 0.7212489247322083, 0.7184107899665833, 0.7181161046028137, 0.7169457077980042, 0.7142163515090942, 0.7139078974723816, 0.7134208083152771, 0.7131588459014893, 0.7130177021026611, 0.7127721905708313, 0.7072862982749939, 0.7052562236785889, 0.8788407444953918, 0.8684955835342407, 0.8585095405578613, 0.8132430911064148, 0.7704343199729919, 0.765555739402771, 0.7647460103034973, 0.7542604804039001, 0.7477899193763733, 0.7455947995185852, 0.7397466897964478, 0.7386691570281982, 0.7345320582389832, 0.7337397336959839, 0.7334064841270447, 0.7326843738555908, 0.7324047088623047, 0.7318154573440552, 0.7302342057228088, 0.7290989756584167, 0.7282771468162537, 0.7265192270278931, 0.7265185117721558, 0.8476719260215759, 0.8171432018280029, 0.8076274991035461, 0.7847850322723389, 0.7827188968658447, 0.777764081954956, 0.7750789523124695, 0.7711812853813171, 0.7708380818367004, 0.7684129476547241, 0.7681032419204712, 0.7668401002883911, 0.765129029750824, 0.7642496228218079, 0.7630332708358765, 0.7620261907577515, 0.7610921859741211, 0.7579233050346375, 0.7577308416366577, 0.7559109926223755, 0.7532901763916016, 0.7529302835464478, 0.7508705258369446, 0.7493349313735962, 0.7478341460227966, 0.747826099395752, 0.7469387054443359, 0.7465782165527344, 0.7464909553527832, 0.7463487982749939, 0.7460062503814697, 0.7437193393707275, 0.8472676277160645, 0.8400970697402954, 0.8362069129943848, 0.7944285869598389, 0.7893133759498596, 0.7889536023139954, 0.7822490334510803, 0.7759953141212463, 0.7689939141273499, 0.7633826732635498, 0.7599976658821106, 0.7564088106155396, 0.7492697834968567, 0.7466214299201965, 0.7430717945098877, 0.7366207242012024, 0.7354249358177185, 0.7343812584877014, 0.7298400402069092, 0.7281537652015686, 0.7266557812690735, 0.7262657284736633, 0.7260597944259644, 0.7259601950645447, 0.71922367811203, 0.7085075378417969, 0.707233190536499, 0.6986778378486633, 0.6985258460044861, 0.6913794875144958, 0.6781406402587891, 0.6759227514266968, 0.6728193163871765, 0.6697838306427002, 0.667820394039154, 0.6669067740440369, 0.6633213758468628, 0.6613442897796631, 0.6592695116996765, 0.6575985550880432, 0.6559396386146545, 0.6554421186447144, 0.6548774242401123, 0.6545506715774536, 0.6536725163459778, 0.6520981192588806, 0.6519219875335693, 0.9648829698562622, 0.9590986967086792, 0.9565839171409607, 0.9485520720481873, 0.9409205317497253, 0.9374164938926697, 0.9337601065635681, 0.9335734248161316, 0.9322893619537354, 0.9288792610168457, 0.9259085655212402, 0.9217075705528259, 0.917227029800415, 0.9097416400909424, 0.9093998074531555, 0.9082475900650024, 0.9033441543579102, 0.9031753540039062, 0.9021332859992981, 0.8987067937850952, 0.8970982432365417, 0.8965185880661011, 0.8959726095199585, 0.8956040740013123, 0.8946203589439392, 0.892195999622345, 0.8918881416320801, 0.8911436796188354, 0.8903087377548218, 0.9184321761131287, 0.8865830302238464, 0.8859370350837708, 0.8858859539031982, 0.8717064261436462, 0.8714807033538818, 0.8662640452384949, 0.8589977025985718, 0.8583011031150818, 0.855498731136322, 0.8546701669692993, 0.8532079458236694, 0.8521610498428345, 0.8509384393692017, 0.8501299023628235, 0.8495882153511047, 0.8464722037315369, 0.8449129462242126, 0.8445016741752625, 0.8432500958442688, 0.8403230309486389, 0.8402944207191467, 0.8398312330245972, 0.8395172953605652, 0.8357247710227966, 0.8356852531433105, 0.8355764150619507, 0.8350173234939575, 0.8349287509918213, 0.8347752690315247, 0.8477404713630676, 0.841101348400116, 0.8369502425193787, 0.8272666335105896, 0.814462423324585, 0.8092113137245178, 0.7988268136978149, 0.7971530556678772, 0.7969708442687988, 0.7957202792167664, 0.7903805375099182, 0.7877321243286133, 0.7875109314918518, 0.7862922549247742, 0.7855942845344543, 0.7818504571914673, 0.7803663015365601, 0.779775083065033, 0.7781001925468445, 0.7755577564239502, 0.9140773415565491, 0.8857637643814087, 0.8710581660270691, 0.8651129603385925, 0.8568564653396606, 0.8508830070495605, 0.845008134841919, 0.8402434587478638, 0.8345836997032166, 0.8342894911766052, 0.8327193856239319, 0.8326606750488281, 0.8213946223258972, 0.8209357261657715, 0.8202439546585083, 0.8182239532470703, 0.8172929286956787, 0.8145744204521179, 0.8117437958717346, 0.8108382821083069, 0.8057281970977783, 0.7993480563163757, 0.7980289459228516, 0.7967806458473206, 0.7949939966201782, 0.7930994629859924, 0.7904879450798035, 0.7904336452484131, 0.7892001867294312, 0.7884842157363892, 0.7879136800765991, 0.7872953414916992, 0.8763723969459534, 0.7942345142364502, 0.7688042521476746, 0.7637765407562256, 0.7393049001693726, 0.7196291089057922, 0.698275089263916, 0.6980970501899719, 0.6967601180076599, 0.690704345703125, 0.6782437562942505, 0.6715370416641235, 0.6619833707809448, 0.6503201127052307, 0.6486971974372864, 0.6463407874107361, 0.6450185775756836, 0.6408453583717346, 0.6387243866920471, 0.6380735635757446, 0.6299096941947937, 0.6295621395111084, 0.6294320821762085, 0.6285426020622253, 0.6264533400535583, 0.6260177493095398, 0.6255568861961365, 0.6238287091255188, 0.6215859055519104, 0.6185511946678162, 0.6153037548065186, 0.6144570708274841, 0.6136005520820618, 0.6123653054237366, 0.6115349531173706, 0.6072505116462708, 0.6044459342956543, 0.6035177111625671, 0.8739418387413025, 0.8731903433799744, 0.8717348575592041, 0.8685364127159119, 0.8584039807319641, 0.8576440811157227, 0.8566374778747559, 0.8565836548805237, 0.8541257977485657, 0.8515697717666626, 0.8510916829109192, 0.8500664234161377, 0.8498261570930481, 0.8476981520652771, 0.84769207239151, 0.843944251537323, 0.8439017534255981, 0.8435882925987244, 0.843425989151001, 0.8412973880767822, 0.8397752642631531, 0.8375816941261292, 0.8371973633766174, 0.8608254194259644, 0.8401620388031006, 0.8326101303100586, 0.8285276889801025, 0.8216490149497986, 0.8206714987754822, 0.8101055026054382, 0.8094533681869507, 0.8085357546806335, 0.8072724342346191, 0.8061615228652954, 0.7991166114807129, 0.7927074432373047, 0.7912938594818115, 0.7905631065368652, 0.7901690602302551, 0.78980952501297, 0.7824218273162842, 0.781598687171936, 0.7810896635055542, 0.7810010313987732, 0.7802858948707581, 0.7697490453720093, 0.9324689507484436, 0.909461259841919, 0.9000842571258545, 0.8931892514228821, 0.8925212025642395, 0.8852337598800659, 0.8830669522285461, 0.882491946220398, 0.881467878818512, 0.873117208480835, 0.8688477873802185, 0.8670774698257446, 0.8669994473457336, 0.862420380115509, 0.861752450466156, 0.8614338636398315, 0.8594379425048828, 0.8580860495567322, 0.8529812097549438, 0.8519009351730347, 0.8498790860176086, 0.8490762114524841, 0.8481841683387756, 0.9169397354125977, 0.8368800282478333, 0.8186511397361755, 0.7772786021232605, 0.7681856751441956, 0.7404995560646057, 0.7338046431541443, 0.6864937543869019, 0.6807050108909607, 0.6733823418617249, 0.6466933488845825, 0.6461529731750488, 0.6459987163543701, 0.6380044221878052, 0.6373872756958008, 0.6370974779129028, 0.6304303407669067, 0.623047947883606, 0.6200769543647766, 0.6199204325675964, 0.6190427541732788, 0.6112356185913086, 0.6042931079864502, 0.60404372215271, 0.6009430885314941, 0.596018373966217, 0.5890586376190186, 0.5817945599555969, 0.580167829990387, 0.5791020393371582, 0.5772145986557007, 0.5758174657821655, 0.5747584700584412, 0.5725369453430176, 0.5721033811569214, 0.8906874656677246, 0.8868319988250732, 0.8751702308654785, 0.8708868622779846, 0.8623267412185669, 0.8597211837768555, 0.8574296832084656, 0.8570759296417236, 0.8547115921974182, 0.8542154431343079, 0.8534480333328247, 0.8530157208442688, 0.8496115207672119, 0.8482568860054016, 0.8463455438613892, 0.8456178903579712, 0.8386458158493042, 0.8372766375541687, 0.837019145488739, 0.8356303572654724, 0.8347709774971008, 0.8327120542526245, 0.8660642504692078, 0.8426852226257324, 0.8259150981903076, 0.8168615102767944, 0.8090705275535583, 0.7930000424385071, 0.7909758687019348, 0.7892311811447144, 0.7780855298042297, 0.7705817818641663, 0.7702879905700684, 0.7605540156364441, 0.7546426057815552, 0.7538843750953674, 0.7537100315093994, 0.7518212199211121, 0.7517015933990479, 0.7502532005310059, 0.7482414841651917, 0.7474172115325928, 0.7470636963844299, 0.7463898658752441, 0.745850145816803, 0.7718780636787415, 0.765150249004364, 0.7575348615646362, 0.7432447671890259, 0.7415428161621094, 0.7366476655006409, 0.7339949607849121, 0.7331744432449341, 0.7320216298103333, 0.7272953391075134, 0.7247229814529419, 0.7224371433258057, 0.7208481431007385, 0.7188802361488342, 0.7141741514205933, 0.7140342593193054, 0.7092897295951843, 0.7023469805717468, 0.6982177495956421, 0.6965939998626709, 0.6960650682449341, 0.6945410370826721, 0.6929360032081604, 0.9547935724258423, 0.9543395638465881, 0.951923131942749, 0.9458314776420593, 0.9447879195213318, 0.939487636089325, 0.9335172176361084, 0.9281589388847351, 0.9245324730873108, 0.9162654280662537, 0.9095215797424316, 0.9090891480445862, 0.8891561031341553, 0.8877371549606323, 0.8871003985404968, 0.8819052577018738, 0.8811055421829224, 0.8706400394439697, 0.8596634268760681, 0.8438886404037476, 0.8379449844360352, 0.7984234094619751, 0.7612375020980835, 0.7593733668327332, 0.7524030804634094, 0.7254546880722046, 0.706215500831604, 0.6955287456512451, 0.692339301109314, 0.6903504133224487, 0.6856290698051453, 0.6855816841125488, 0.6855359673500061, 0.6845014691352844, 0.6812896132469177, 0.6810846328735352, 0.6805747747421265, 0.8429786562919617, 0.8331854343414307, 0.8238612413406372, 0.8176149129867554, 0.8140064477920532, 0.8126494288444519, 0.8106233477592468, 0.8101181387901306, 0.8075307607650757, 0.8073157668113708, 0.8053461909294128, 0.804785966873169, 0.7951624989509583, 0.7943223118782043, 0.7918534874916077, 0.7917091250419617, 0.7899012565612793, 0.7842280864715576, 0.7805641293525696, 0.793164074420929, 0.7913064360618591, 0.7814440727233887, 0.7742192149162292, 0.7644349336624146, 0.7637236714363098, 0.7626355290412903, 0.7624258995056152, 0.7619641423225403, 0.7588639855384827, 0.7550117373466492, 0.7540572285652161, 0.7524266839027405, 0.750014066696167, 0.7477672100067139, 0.7472964525222778, 0.7459408640861511, 0.7442590594291687, 0.7421080470085144, 0.7400506138801575, 0.7373886704444885, 0.7368510961532593, 0.7356206178665161, 0.7354037165641785, 0.7914803624153137, 0.7869083285331726, 0.7833638191223145, 0.7800958156585693, 0.7750056982040405, 0.7746081948280334, 0.7708523273468018, 0.7660524845123291, 0.7660272717475891, 0.7574501037597656, 0.7565264105796814, 0.7529681921005249, 0.7508646249771118, 0.749961793422699, 0.7485466003417969, 0.7481189370155334, 0.7416547536849976, 0.7392486333847046, 0.7377873659133911, 0.7338432669639587, 0.7326000332832336, 0.7313024401664734, 0.7310466170310974, 0.9444109797477722, 0.9363090395927429, 0.9225668907165527, 0.9115745425224304, 0.9071733951568604, 0.9023874998092651, 0.8998953104019165, 0.8958323001861572, 0.8727022409439087, 0.8683293461799622, 0.8579424023628235, 0.8550155162811279, 0.8496419787406921, 0.8161769509315491, 0.8074065446853638, 0.8016027808189392, 0.7973793148994446, 0.7902275919914246, 0.7879520654678345, 0.7650001049041748, 0.7598316669464111, 0.7401212453842163, 0.7378541827201843, 0.716440737247467, 0.6842588186264038, 0.6819623112678528, 0.6673505306243896, 0.6383033990859985, 0.6293094158172607, 0.6206164956092834, 0.6204726696014404, 0.6178597807884216, 0.6061707735061646, 0.6050906181335449, 0.6035178303718567, 0.5924166440963745, 0.5908312201499939, 0.5903906226158142, 0.5876026153564453, 0.8595502972602844, 0.8489021062850952, 0.8371421098709106, 0.8362072110176086, 0.8360767364501953, 0.8349834680557251, 0.8306400775909424, 0.8304036259651184, 0.827479898929596, 0.8261955380439758, 0.8250731825828552, 0.8237168192863464, 0.8232932686805725, 0.8204793334007263, 0.819494366645813, 0.8151096701622009, 0.8145637512207031, 0.8137168288230896, 0.8130621314048767, 0.8120115995407104, 0.8298821449279785, 0.8268656134605408, 0.8089426755905151, 0.7970297336578369, 0.7833490371704102, 0.7712928652763367, 0.7501842379570007, 0.7500239014625549, 0.748755156993866, 0.7478768229484558, 0.743946373462677, 0.7429279088973999, 0.742295503616333, 0.7368555665016174, 0.7355216145515442, 0.7339937090873718, 0.7326598763465881, 0.732624351978302, 0.732466995716095, 0.7292429208755493, 0.7284689545631409, 0.7246021032333374, 0.7240042686462402, 0.7232263088226318, 0.7216680645942688, 0.7183167934417725, 0.7174277305603027, 0.7168545126914978, 0.8329665064811707, 0.8142112493515015, 0.7764478325843811, 0.7711519002914429, 0.7668878436088562, 0.765534520149231, 0.7634725570678711, 0.7595334053039551, 0.7549725770950317, 0.7520773410797119, 0.7509157657623291, 0.7421823740005493, 0.7394523024559021, 0.738592803478241, 0.7368061542510986, 0.7353541254997253, 0.7334953546524048, 0.730618953704834, 0.7256107926368713, 0.725045382976532, 0.724648118019104, 0.7241347432136536, 0.7236759066581726, 0.7190896272659302, 0.7189316153526306, 0.718580961227417, 0.7184163928031921, 0.7169415354728699, 0.7131680846214294, 0.7115974426269531, 0.7110998034477234, 0.7534535527229309, 0.7001211047172546, 0.6713164448738098, 0.6710065007209778, 0.6527302265167236, 0.6444482207298279, 0.6443707942962646, 0.6420294642448425, 0.631688117980957, 0.6315855383872986, 0.6279605627059937, 0.6250459551811218, 0.6249632239341736, 0.6229990720748901, 0.6225017309188843, 0.6202262043952942, 0.6189025640487671, 0.6185416579246521, 0.6174034476280212, 0.6143438816070557, 0.6129152178764343, 0.6119385361671448, 0.6112051606178284, 0.6076123714447021, 0.6054940819740295, 0.6042139530181885, 0.6018343567848206, 0.5998252630233765, 0.5997110605239868, 0.598498523235321, 0.5968837141990662, 0.5959325432777405, 0.5956171751022339, 0.5954206585884094, 0.5948773622512817, 0.5947414636611938, 0.7954251766204834, 0.7889752388000488, 0.7840571999549866, 0.7661958932876587, 0.7607079148292542, 0.7580947279930115, 0.7567832469940186, 0.7453823089599609, 0.7445412874221802, 0.7425407767295837, 0.7425023317337036, 0.7400169372558594, 0.736049234867096, 0.7331078052520752, 0.7322633266448975, 0.7290390133857727, 0.7284932732582092, 0.7283654808998108, 0.7271608710289001, 0.7266754508018494, 0.724246084690094, 0.7231563329696655, 0.7215268015861511, 0.7205888628959656, 0.7162719368934631, 0.7158408761024475, 0.7150248289108276, 0.7076295018196106, 0.7026185393333435, 0.7098103165626526, 0.6586385369300842, 0.6484119892120361, 0.6472833752632141, 0.6396535038948059, 0.6316491365432739, 0.6307779550552368, 0.6293466687202454, 0.6233797669410706, 0.6122699975967407, 0.6103555560112, 0.6100186109542847, 0.6053731441497803, 0.604282796382904, 0.598008930683136, 0.5966721177101135, 0.5935243964195251, 0.5857457518577576, 0.5766981840133667, 0.5747456550598145, 0.5744158029556274, 0.5731520056724548, 0.5715861916542053, 0.5698750019073486, 0.5681214928627014, 0.7515098452568054, 0.7218590378761292, 0.6910243630409241, 0.6873899698257446, 0.6752431988716125, 0.6732239723205566, 0.6727908849716187, 0.6638827323913574, 0.6610608696937561, 0.6542412638664246, 0.6534709334373474, 0.650888204574585, 0.6506585478782654, 0.6457597017288208, 0.6416296362876892, 0.6403698921203613, 0.6359241604804993, 0.6351407170295715, 0.6316142082214355, 0.6296538710594177, 0.6271148324012756, 0.6270347237586975, 0.6258314251899719, 0.6245952248573303, 0.6221086978912354, 0.7849048972129822, 0.7653877139091492, 0.7419059872627258, 0.7397016882896423, 0.7279876470565796, 0.7269935607910156, 0.725330114364624, 0.7224339246749878, 0.7217697501182556, 0.7211171984672546, 0.7131742835044861, 0.7062054872512817, 0.7035204172134399, 0.7005019187927246, 0.70003342628479, 0.6977030634880066, 0.6974487900733948, 0.6968273520469666, 0.6953628063201904, 0.6907793879508972, 0.6881822347640991, 0.687225878238678, 0.6842081546783447, 0.6823948621749878, 0.6813040971755981, 0.6765897870063782, 0.6756214499473572, 0.6745619177818298, 0.924112856388092, 0.9121312499046326, 0.9057998657226562, 0.8908069133758545, 0.8889142274856567, 0.8838318586349487, 0.8827536702156067, 0.880044162273407, 0.8782715797424316, 0.875037431716919, 0.8749496936798096, 0.8744909763336182, 0.8742166757583618, 0.8729223608970642, 0.8715648651123047, 0.8713369369506836, 0.8664981126785278, 0.8664800524711609, 0.8654797077178955, 0.8654127717018127, 0.8645177483558655, 0.8623319268226624, 0.860934317111969, 0.8606491088867188, 0.8604311943054199, 0.8600435853004456, 0.859679102897644, 0.8593170046806335, 0.8586678504943848, 0.8585990071296692, 0.8584864139556885, 0.7837992310523987, 0.7646855711936951, 0.7639297842979431, 0.7606810927391052, 0.7551630139350891, 0.752726674079895, 0.7455345392227173, 0.7451193928718567, 0.7414864301681519, 0.74076908826828, 0.7396516799926758, 0.7277457118034363, 0.7259317636489868, 0.7244638204574585, 0.7242209315299988, 0.7232507467269897, 0.719348132610321, 0.7146847248077393, 0.7070565819740295, 0.7058706879615784, 0.7054129838943481, 0.7028430104255676, 0.7022814750671387, 0.7022153735160828, 0.864241898059845, 0.8609964847564697, 0.8536161184310913, 0.8254240155220032, 0.8225523233413696, 0.791347324848175, 0.7851478457450867, 0.7836477756500244, 0.7759808897972107, 0.7753217220306396, 0.7660725712776184, 0.7632495164871216, 0.7612226009368896, 0.760467529296875, 0.7560961246490479, 0.7556589245796204, 0.7554685473442078, 0.7554276585578918, 0.90144944190979, 0.861763060092926, 0.8550851941108704, 0.8446592688560486, 0.8434799313545227, 0.8412799835205078, 0.8326606750488281, 0.8301147222518921, 0.809729278087616, 0.7998312711715698, 0.7991776466369629, 0.7966063022613525, 0.7960876822471619, 0.7942107319831848, 0.7918297052383423, 0.7875660061836243, 0.787329912185669, 0.786005437374115, 0.7826391458511353, 0.7825316786766052, 0.7803295254707336, 0.7795294523239136, 0.7779144048690796, 0.7758675217628479, 0.7721261978149414, 0.7700569033622742, 0.7607263326644897, 0.7592044472694397, 0.7575734853744507, 0.7550340294837952, 0.7503470182418823, 0.7487879395484924, 0.7466328144073486, 0.73735111951828, 0.7365437746047974, 0.961649477481842, 0.9592271447181702, 0.9401020407676697, 0.9351636171340942, 0.9316079616546631, 0.9312295913696289, 0.9292911887168884, 0.9276818037033081, 0.9271331429481506, 0.9247603416442871, 0.9186265468597412, 0.9162834286689758, 0.9135136008262634, 0.909407377243042, 0.8974857926368713, 0.8891561627388, 0.884074866771698, 0.8756126761436462, 0.868859589099884, 0.8533278107643127, 0.8461915254592896, 0.8453618288040161, 0.8074065446853638, 0.8039912581443787, 0.7997541427612305, 0.7949815988540649, 0.7869052886962891, 0.7736528515815735, 0.7716283202171326, 0.7571820616722107, 0.7334511280059814, 0.7274551391601562, 0.7238556146621704, 0.7208664417266846, 0.7204141616821289, 0.9091899991035461, 0.9022408723831177, 0.8952305912971497, 0.8889381885528564, 0.8799498081207275, 0.877155601978302, 0.8714706897735596, 0.870305597782135, 0.8701822757720947, 0.869812548160553, 0.865609884262085, 0.8641864657402039, 0.8638315796852112, 0.8619850873947144, 0.8590848445892334, 0.8588136434555054, 0.8573009967803955, 0.8560824394226074, 0.8560541868209839, 0.8559777140617371, 0.8552307486534119, 0.8534305095672607, 0.8525950312614441, 0.8518659472465515, 0.8517389893531799, 0.8496840000152588, 0.8485584855079651, 0.8484207391738892, 0.8480319380760193, 0.8471820950508118, 0.8471181392669678, 0.8461007475852966, 0.6671788096427917, 0.6140964031219482, 0.5947563052177429, 0.5917492508888245, 0.5888084769248962, 0.5773736238479614, 0.5734171271324158, 0.5661847591400146, 0.5652245283126831, 0.5634674429893494, 0.5556321740150452, 0.5554325580596924, 0.5546644330024719, 0.5518068075180054, 0.549087643623352, 0.5476272702217102, 0.5464275479316711, 0.5451042652130127, 0.5409762263298035, 0.5402390956878662, 0.5356306433677673, 0.5354797840118408, 0.5347700119018555, 0.533828616142273, 0.5334851741790771, 0.5319610238075256, 0.5310851335525513, 0.7564957737922668, 0.7438079118728638, 0.724770188331604, 0.7174641489982605, 0.7061060070991516, 0.7021750807762146, 0.6718950867652893, 0.6664168238639832, 0.6634936332702637, 0.6578059196472168, 0.6565965414047241, 0.6545565128326416, 0.647456705570221, 0.641797661781311, 0.640386164188385, 0.6369226574897766, 0.6334537863731384, 0.6305637359619141, 0.6300714612007141, 0.6267245411872864, 0.6263524889945984, 0.6259298324584961, 0.6246024966239929, 0.623145341873169, 0.62267005443573, 0.6223738789558411, 0.62054443359375, 0.6195738911628723, 0.6172278523445129, 0.6158745884895325, 0.9154336452484131, 0.9108148813247681, 0.9090529084205627, 0.9089808464050293, 0.9083049297332764, 0.882874608039856, 0.8807286620140076, 0.8786163330078125, 0.8722397089004517, 0.8706945180892944, 0.8704332113265991, 0.86142897605896, 0.8590050339698792, 0.8582890629768372, 0.8567806482315063, 0.851219654083252, 0.8509461283683777, 0.8401221632957458, 0.8390101790428162, 0.8389217853546143, 0.835706889629364, 0.8352227807044983, 0.8339026570320129, 0.8322470784187317, 0.8317000269889832, 0.8311498761177063, 0.8301097750663757, 0.828386127948761, 0.8274561762809753, 0.8264955878257751, 0.8263693451881409, 0.8261170983314514, 0.825354814529419, 0.8253178000450134, 0.8253135681152344, 0.7984037399291992, 0.7708252668380737, 0.7632831931114197, 0.7554682493209839, 0.7423881888389587, 0.7395856380462646, 0.7366690635681152, 0.7306870818138123, 0.7266662120819092, 0.724373459815979, 0.7241655588150024, 0.7196805477142334, 0.7192428708076477, 0.7120072245597839, 0.7062461376190186, 0.7019447088241577, 0.7004454731941223, 0.7002697587013245, 0.6997993588447571, 0.6981573104858398, 0.69588702917099, 0.6953269839286804, 0.8458540439605713, 0.8302645683288574, 0.804519534111023, 0.7946306467056274, 0.7754892110824585, 0.7692199349403381, 0.764433741569519, 0.7475770115852356, 0.7421174049377441, 0.7419540286064148, 0.7109049558639526, 0.7107670903205872, 0.7101793885231018, 0.707706868648529, 0.7042489647865295, 0.702899694442749, 0.6998453736305237, 0.6985257863998413, 0.6969814300537109, 0.6938018202781677, 0.6920872330665588, 0.6918054223060608, 0.6914796233177185, 0.6901336312294006, 0.6885809302330017, 0.6872850656509399, 0.6861079931259155, 0.6843628883361816, 0.6792164444923401, 0.8368138074874878, 0.8200004696846008, 0.7966131567955017, 0.7965711951255798, 0.7965670824050903, 0.7941728234291077, 0.7936778664588928, 0.7878952622413635, 0.7857547402381897, 0.7839211821556091, 0.7829581499099731, 0.7826499342918396, 0.7791778445243835, 0.7791011333465576, 0.7773450016975403, 0.7766987085342407, 0.7756224274635315, 0.7728213667869568, 0.7715557217597961, 0.7713043689727783, 0.7699827551841736, 0.7681543231010437, 0.7680798172950745, 0.7677966356277466, 0.7658291459083557, 0.7638905048370361, 0.7816259860992432, 0.7394545078277588, 0.7206310629844666, 0.7038838267326355, 0.7031368017196655, 0.694471538066864, 0.6924609541893005, 0.6848917007446289, 0.6841328740119934, 0.6836300492286682, 0.6828094124794006, 0.673552930355072, 0.6708016395568848, 0.6631200313568115, 0.6619150638580322, 0.6616966724395752, 0.659966230392456, 0.6590472459793091, 0.6572579741477966, 0.6560087203979492, 0.6546798348426819, 0.6539644598960876, 0.6516409516334534, 0.6481517553329468, 0.6474035978317261, 0.6458370089530945, 0.720685601234436, 0.6906024217605591, 0.685249388217926, 0.6815779805183411, 0.6773374080657959, 0.6768675446510315, 0.6761106848716736, 0.6731633543968201, 0.6693025827407837, 0.6660625338554382, 0.6651647686958313, 0.6616392135620117, 0.6524426341056824, 0.6480287313461304, 0.6473497748374939, 0.6463170647621155, 0.6450634598731995, 0.6443784832954407, 0.6438284516334534, 0.6434152722358704, 0.6429183483123779, 0.6423458456993103, 0.6415782570838928, 0.638992428779602, 0.6379419565200806, 0.63727205991745, 0.6368607878684998, 0.685751736164093, 0.6671332716941833, 0.6394408345222473, 0.6215869188308716, 0.611117422580719, 0.6087055206298828, 0.6069859862327576, 0.6062279939651489, 0.6056084632873535, 0.5991305708885193, 0.5976881384849548, 0.5946977138519287, 0.5942569971084595, 0.5939839482307434, 0.5936159491539001, 0.5930153131484985, 0.5892099738121033, 0.5870478749275208, 0.5839219093322754, 0.583415687084198, 0.5832204222679138, 0.5820452570915222, 0.5799204707145691, 0.5788634419441223, 0.5771946907043457, 0.5767090320587158, 0.5763753652572632, 0.575219452381134, 0.5740083456039429, 0.5737546682357788, 0.8240073919296265, 0.7988198399543762, 0.7865718007087708, 0.7738218903541565, 0.7726539969444275, 0.7699406743049622, 0.7693610787391663, 0.7626798748970032, 0.7580421566963196, 0.7556549906730652, 0.7513850927352905, 0.7513750791549683, 0.7480414509773254, 0.7449654340744019, 0.7433677911758423, 0.7424257397651672, 0.740360677242279, 0.7383484840393066, 0.7357825636863708, 0.7317091822624207, 0.7317011952400208, 0.7304539680480957, 0.728874683380127, 0.9000842571258545, 0.872714102268219, 0.8651129007339478, 0.8528934121131897, 0.8333565592765808, 0.8257880806922913, 0.8137193322181702, 0.8134185075759888, 0.7972951531410217, 0.7953088879585266, 0.7937961220741272, 0.7929111123085022, 0.7912939190864563, 0.7850395441055298, 0.7832054495811462, 0.7820926308631897, 0.7774432897567749, 0.7752351760864258, 0.7741490602493286, 0.7700973749160767, 0.7700151205062866, 0.7682240009307861, 0.7671095132827759, 0.8857637047767639, 0.8830667734146118, 0.8432772159576416, 0.8354794979095459, 0.818840503692627, 0.8104028701782227, 0.8084783554077148, 0.7982644438743591, 0.7980526089668274, 0.7966284155845642, 0.7894012928009033, 0.7886932492256165, 0.7882529497146606, 0.7864745259284973, 0.7863720655441284, 0.7839536070823669, 0.7825316786766052, 0.7792245745658875, 0.7774660587310791, 0.7773070335388184, 0.776624858379364, 0.7753534913063049, 0.7748897671699524, 0.7731255292892456, 0.771119236946106, 0.771096408367157, 0.7705934047698975, 0.7700328230857849, 0.7674703598022461, 0.7658548355102539, 0.8180190920829773, 0.7968030571937561, 0.790858805179596, 0.7767862677574158, 0.7723920941352844, 0.7471208572387695, 0.7112601399421692, 0.7039862275123596, 0.6976463198661804, 0.688590943813324, 0.6876861453056335, 0.6787009835243225, 0.6729211807250977, 0.6718500852584839, 0.6653510928153992, 0.6643542051315308, 0.6619753837585449, 0.6586458086967468, 0.6568214297294617, 0.6534776091575623, 0.6465386152267456, 0.6441442966461182, 0.6418261528015137, 0.6413995027542114, 0.6384980082511902, 0.6375812292098999, 0.6365447044372559, 0.9324689507484436, 0.9140774011611938, 0.9039621353149414, 0.8774104714393616, 0.8581607341766357, 0.8510727286338806, 0.8456070423126221, 0.8390276432037354, 0.8364323973655701, 0.8360427021980286, 0.8318004012107849, 0.8243370056152344, 0.8188430070877075, 0.8158515691757202, 0.81048583984375, 0.8072414994239807, 0.8059176802635193, 0.8050082325935364, 0.8039003610610962, 0.8030024766921997, 0.802253246307373, 0.7987787127494812, 0.7933570742607117, 0.7903156280517578, 0.7888225317001343, 0.7868292927742004, 0.807906985282898, 0.7796483039855957, 0.7774280309677124, 0.7627025246620178, 0.7552667856216431, 0.7534664869308472, 0.7441222667694092, 0.7373790740966797, 0.7346376180648804, 0.7311455011367798, 0.7306051850318909, 0.7261304259300232, 0.7233308553695679, 0.7227556109428406, 0.7215098142623901, 0.7209890484809875, 0.7195204496383667, 0.7179704904556274, 0.7140440344810486, 0.713535487651825, 0.7123226523399353, 0.712083637714386, 0.7104437947273254, 0.7095163464546204, 0.7068867087364197, 0.7066164612770081, 0.7016686797142029, 0.699044942855835, 0.6957060694694519, 0.6881504654884338, 0.6865584850311279, 0.6826145052909851, 0.6728543043136597, 0.6699751019477844, 0.6688603758811951, 0.664867103099823, 0.6641866564750671, 0.6641120910644531, 0.6632927656173706, 0.6614775061607361, 0.6610277891159058, 0.6569438576698303, 0.6550649404525757, 0.6546449661254883, 0.6536773443222046, 0.6536480188369751, 0.6535773277282715, 0.65195232629776, 0.651345431804657, 0.6513137221336365, 0.6496695876121521, 0.6165289878845215, 0.5961334109306335, 0.5837758183479309, 0.5436044335365295, 0.5365459322929382, 0.5085433721542358, 0.460786372423172, 0.46055394411087036, 0.4546603858470917, 0.4490564167499542, 0.4482631981372833, 0.4378700852394104, 0.42781373858451843, 0.4111573100090027, 0.41008105874061584, 0.4099806547164917, 0.4082779586315155, 0.40289121866226196, 0.40274345874786377, 0.4014798402786255, 0.39215439558029175, 0.39117538928985596, 0.3907356858253479, 0.38885170221328735, 0.38832658529281616, 0.3850747048854828, 0.3843207061290741, 0.3771340250968933, 0.36855849623680115, 0.3673071563243866, 0.36410632729530334, 0.35864320397377014, 0.35806867480278015, 0.35285764932632446, 0.3521215319633484, 0.3518296778202057, 0.35053837299346924, 0.34664592146873474, 0.6915751099586487, 0.6768261194229126, 0.6616786122322083, 0.6555372476577759, 0.6517834663391113, 0.6435559988021851, 0.6431937217712402, 0.6379706263542175, 0.6359423995018005, 0.634521484375, 0.634005606174469, 0.633790135383606, 0.6306800842285156, 0.6253243088722229, 0.6237706542015076, 0.6159591674804688, 0.6148303151130676, 0.6141009330749512, 0.6121459007263184, 0.6117886304855347, 0.6113004088401794, 0.6088399887084961, 0.6071293950080872, 0.7748746275901794, 0.7455663084983826, 0.7442408800125122, 0.7440442442893982, 0.7422053217887878, 0.7375742793083191, 0.7366905212402344, 0.7359625101089478, 0.7286935448646545, 0.7238933444023132, 0.7227595448493958, 0.720973789691925, 0.7174105644226074, 0.7168646454811096, 0.7147865295410156, 0.7119476795196533, 0.711693286895752, 0.7113495469093323, 0.7082106471061707, 0.7051419615745544, 0.7034216523170471, 0.7031116485595703, 0.7006362676620483, 0.6999579668045044, 0.6697054505348206, 0.6435801982879639, 0.6426347494125366, 0.6415740847587585, 0.6340517401695251, 0.6312856078147888, 0.6262850761413574, 0.6153987050056458, 0.6048187613487244, 0.6019046306610107, 0.5993543267250061, 0.5900669097900391, 0.5852216482162476, 0.5839102268218994, 0.5816318988800049, 0.5814414024353027, 0.5788984894752502, 0.5781950950622559, 0.5758392214775085, 0.5751606822013855, 0.5712548494338989, 0.5711038112640381, 0.5690070986747742, 0.5668324828147888, 0.5662662386894226, 0.5639612674713135, 0.5633582472801208, 0.9050174951553345, 0.8965879082679749, 0.8777754902839661, 0.8604387044906616, 0.8559097051620483, 0.8400958180427551, 0.8375571966171265, 0.8308503031730652, 0.8256717920303345, 0.8048178553581238, 0.7940980195999146, 0.7932589054107666, 0.7911132574081421, 0.7816505432128906, 0.7780343294143677, 0.7778587937355042, 0.7761190533638, 0.7696900963783264, 0.7662561535835266, 0.7645038366317749, 0.7613928914070129, 0.7606567144393921, 0.7599315047264099, 0.7597377896308899, 0.7578710913658142, 0.7572820782661438, 0.7241563200950623, 0.7190694808959961, 0.6694620251655579, 0.6497238874435425, 0.645439088344574, 0.642930269241333, 0.6425530314445496, 0.6306284070014954, 0.6300641298294067, 0.6225254535675049, 0.6216819286346436, 0.6165835857391357, 0.6139941811561584, 0.6137650609016418, 0.6100779175758362, 0.6075505018234253, 0.6031913757324219, 0.6029222011566162, 0.6023486852645874, 0.6009789109230042, 0.6008132696151733, 0.5996605753898621, 0.5980745553970337, 0.5962939262390137, 0.5949785113334656, 0.5940300822257996, 0.5911568403244019, 0.5907059907913208], \"xaxis\": \"x\", \"yaxis\": \"y\"}],\n",
              "                        {\"barmode\": \"relative\", \"legend\": {\"tracegroupgap\": 0}, \"template\": {\"data\": {\"bar\": [{\"error_x\": {\"color\": \"#2a3f5f\"}, \"error_y\": {\"color\": \"#2a3f5f\"}, \"marker\": {\"line\": {\"color\": \"#E5ECF6\", \"width\": 0.5}}, \"type\": \"bar\"}], \"barpolar\": [{\"marker\": {\"line\": {\"color\": \"#E5ECF6\", \"width\": 0.5}}, \"type\": \"barpolar\"}], \"carpet\": [{\"aaxis\": {\"endlinecolor\": \"#2a3f5f\", \"gridcolor\": \"white\", \"linecolor\": \"white\", \"minorgridcolor\": \"white\", \"startlinecolor\": \"#2a3f5f\"}, \"baxis\": {\"endlinecolor\": \"#2a3f5f\", \"gridcolor\": \"white\", \"linecolor\": \"white\", \"minorgridcolor\": \"white\", \"startlinecolor\": \"#2a3f5f\"}, \"type\": \"carpet\"}], \"choropleth\": [{\"colorbar\": {\"outlinewidth\": 0, \"ticks\": \"\"}, \"type\": \"choropleth\"}], \"contour\": [{\"colorbar\": {\"outlinewidth\": 0, \"ticks\": \"\"}, \"colorscale\": [[0.0, \"#0d0887\"], [0.1111111111111111, \"#46039f\"], [0.2222222222222222, \"#7201a8\"], [0.3333333333333333, \"#9c179e\"], [0.4444444444444444, \"#bd3786\"], [0.5555555555555556, \"#d8576b\"], [0.6666666666666666, \"#ed7953\"], [0.7777777777777778, \"#fb9f3a\"], [0.8888888888888888, \"#fdca26\"], [1.0, \"#f0f921\"]], \"type\": \"contour\"}], \"contourcarpet\": [{\"colorbar\": {\"outlinewidth\": 0, \"ticks\": \"\"}, \"type\": \"contourcarpet\"}], \"heatmap\": [{\"colorbar\": {\"outlinewidth\": 0, \"ticks\": \"\"}, \"colorscale\": [[0.0, \"#0d0887\"], [0.1111111111111111, \"#46039f\"], [0.2222222222222222, \"#7201a8\"], [0.3333333333333333, \"#9c179e\"], [0.4444444444444444, \"#bd3786\"], [0.5555555555555556, \"#d8576b\"], [0.6666666666666666, \"#ed7953\"], [0.7777777777777778, \"#fb9f3a\"], [0.8888888888888888, \"#fdca26\"], [1.0, \"#f0f921\"]], \"type\": \"heatmap\"}], \"heatmapgl\": [{\"colorbar\": {\"outlinewidth\": 0, \"ticks\": \"\"}, \"colorscale\": [[0.0, \"#0d0887\"], [0.1111111111111111, \"#46039f\"], [0.2222222222222222, \"#7201a8\"], [0.3333333333333333, \"#9c179e\"], [0.4444444444444444, \"#bd3786\"], [0.5555555555555556, \"#d8576b\"], [0.6666666666666666, \"#ed7953\"], [0.7777777777777778, \"#fb9f3a\"], [0.8888888888888888, \"#fdca26\"], [1.0, \"#f0f921\"]], \"type\": \"heatmapgl\"}], \"histogram\": [{\"marker\": {\"colorbar\": {\"outlinewidth\": 0, \"ticks\": \"\"}}, \"type\": \"histogram\"}], \"histogram2d\": [{\"colorbar\": {\"outlinewidth\": 0, \"ticks\": \"\"}, \"colorscale\": [[0.0, \"#0d0887\"], [0.1111111111111111, \"#46039f\"], [0.2222222222222222, \"#7201a8\"], [0.3333333333333333, \"#9c179e\"], [0.4444444444444444, \"#bd3786\"], [0.5555555555555556, \"#d8576b\"], [0.6666666666666666, \"#ed7953\"], [0.7777777777777778, \"#fb9f3a\"], [0.8888888888888888, \"#fdca26\"], [1.0, \"#f0f921\"]], \"type\": \"histogram2d\"}], \"histogram2dcontour\": [{\"colorbar\": {\"outlinewidth\": 0, \"ticks\": \"\"}, \"colorscale\": [[0.0, \"#0d0887\"], [0.1111111111111111, \"#46039f\"], [0.2222222222222222, \"#7201a8\"], [0.3333333333333333, \"#9c179e\"], [0.4444444444444444, \"#bd3786\"], [0.5555555555555556, \"#d8576b\"], [0.6666666666666666, \"#ed7953\"], [0.7777777777777778, \"#fb9f3a\"], [0.8888888888888888, \"#fdca26\"], [1.0, \"#f0f921\"]], \"type\": \"histogram2dcontour\"}], \"mesh3d\": [{\"colorbar\": {\"outlinewidth\": 0, \"ticks\": \"\"}, \"type\": \"mesh3d\"}], \"parcoords\": [{\"line\": {\"colorbar\": {\"outlinewidth\": 0, \"ticks\": \"\"}}, \"type\": \"parcoords\"}], \"pie\": [{\"automargin\": true, \"type\": \"pie\"}], \"scatter\": [{\"marker\": {\"colorbar\": {\"outlinewidth\": 0, \"ticks\": \"\"}}, \"type\": \"scatter\"}], \"scatter3d\": [{\"line\": {\"colorbar\": {\"outlinewidth\": 0, \"ticks\": \"\"}}, \"marker\": {\"colorbar\": {\"outlinewidth\": 0, \"ticks\": \"\"}}, \"type\": \"scatter3d\"}], \"scattercarpet\": [{\"marker\": {\"colorbar\": {\"outlinewidth\": 0, \"ticks\": \"\"}}, \"type\": \"scattercarpet\"}], \"scattergeo\": [{\"marker\": {\"colorbar\": {\"outlinewidth\": 0, \"ticks\": \"\"}}, \"type\": \"scattergeo\"}], \"scattergl\": [{\"marker\": {\"colorbar\": {\"outlinewidth\": 0, \"ticks\": \"\"}}, \"type\": \"scattergl\"}], \"scattermapbox\": [{\"marker\": {\"colorbar\": {\"outlinewidth\": 0, \"ticks\": \"\"}}, \"type\": \"scattermapbox\"}], \"scatterpolar\": [{\"marker\": {\"colorbar\": {\"outlinewidth\": 0, \"ticks\": \"\"}}, \"type\": \"scatterpolar\"}], \"scatterpolargl\": [{\"marker\": {\"colorbar\": {\"outlinewidth\": 0, \"ticks\": \"\"}}, \"type\": \"scatterpolargl\"}], \"scatterternary\": [{\"marker\": {\"colorbar\": {\"outlinewidth\": 0, \"ticks\": \"\"}}, \"type\": \"scatterternary\"}], \"surface\": [{\"colorbar\": {\"outlinewidth\": 0, \"ticks\": \"\"}, \"colorscale\": [[0.0, \"#0d0887\"], [0.1111111111111111, \"#46039f\"], [0.2222222222222222, \"#7201a8\"], [0.3333333333333333, \"#9c179e\"], [0.4444444444444444, \"#bd3786\"], [0.5555555555555556, \"#d8576b\"], [0.6666666666666666, \"#ed7953\"], [0.7777777777777778, \"#fb9f3a\"], [0.8888888888888888, \"#fdca26\"], [1.0, \"#f0f921\"]], \"type\": \"surface\"}], \"table\": [{\"cells\": {\"fill\": {\"color\": \"#EBF0F8\"}, \"line\": {\"color\": \"white\"}}, \"header\": {\"fill\": {\"color\": \"#C8D4E3\"}, \"line\": {\"color\": \"white\"}}, \"type\": \"table\"}]}, \"layout\": {\"annotationdefaults\": {\"arrowcolor\": \"#2a3f5f\", \"arrowhead\": 0, \"arrowwidth\": 1}, \"coloraxis\": {\"colorbar\": {\"outlinewidth\": 0, \"ticks\": \"\"}}, \"colorscale\": {\"diverging\": [[0, \"#8e0152\"], [0.1, \"#c51b7d\"], [0.2, \"#de77ae\"], [0.3, \"#f1b6da\"], [0.4, \"#fde0ef\"], [0.5, \"#f7f7f7\"], [0.6, \"#e6f5d0\"], [0.7, \"#b8e186\"], [0.8, \"#7fbc41\"], [0.9, \"#4d9221\"], [1, \"#276419\"]], \"sequential\": [[0.0, \"#0d0887\"], [0.1111111111111111, \"#46039f\"], [0.2222222222222222, \"#7201a8\"], [0.3333333333333333, \"#9c179e\"], [0.4444444444444444, \"#bd3786\"], [0.5555555555555556, \"#d8576b\"], [0.6666666666666666, \"#ed7953\"], [0.7777777777777778, \"#fb9f3a\"], [0.8888888888888888, \"#fdca26\"], [1.0, \"#f0f921\"]], \"sequentialminus\": [[0.0, \"#0d0887\"], [0.1111111111111111, \"#46039f\"], [0.2222222222222222, \"#7201a8\"], [0.3333333333333333, \"#9c179e\"], [0.4444444444444444, \"#bd3786\"], [0.5555555555555556, \"#d8576b\"], [0.6666666666666666, \"#ed7953\"], [0.7777777777777778, \"#fb9f3a\"], [0.8888888888888888, \"#fdca26\"], [1.0, \"#f0f921\"]]}, \"colorway\": [\"#636efa\", \"#EF553B\", \"#00cc96\", \"#ab63fa\", \"#FFA15A\", \"#19d3f3\", \"#FF6692\", \"#B6E880\", \"#FF97FF\", \"#FECB52\"], \"font\": {\"color\": \"#2a3f5f\"}, \"geo\": {\"bgcolor\": \"white\", \"lakecolor\": \"white\", \"landcolor\": \"#E5ECF6\", \"showlakes\": true, \"showland\": true, \"subunitcolor\": \"white\"}, \"hoverlabel\": {\"align\": \"left\"}, \"hovermode\": \"closest\", \"mapbox\": {\"style\": \"light\"}, \"paper_bgcolor\": \"white\", \"plot_bgcolor\": \"#E5ECF6\", \"polar\": {\"angularaxis\": {\"gridcolor\": \"white\", \"linecolor\": \"white\", \"ticks\": \"\"}, \"bgcolor\": \"#E5ECF6\", \"radialaxis\": {\"gridcolor\": \"white\", \"linecolor\": \"white\", \"ticks\": \"\"}}, \"scene\": {\"xaxis\": {\"backgroundcolor\": \"#E5ECF6\", \"gridcolor\": \"white\", \"gridwidth\": 2, \"linecolor\": \"white\", \"showbackground\": true, \"ticks\": \"\", \"zerolinecolor\": \"white\"}, \"yaxis\": {\"backgroundcolor\": \"#E5ECF6\", \"gridcolor\": \"white\", \"gridwidth\": 2, \"linecolor\": \"white\", \"showbackground\": true, \"ticks\": \"\", \"zerolinecolor\": \"white\"}, \"zaxis\": {\"backgroundcolor\": \"#E5ECF6\", \"gridcolor\": \"white\", \"gridwidth\": 2, \"linecolor\": \"white\", \"showbackground\": true, \"ticks\": \"\", \"zerolinecolor\": \"white\"}}, \"shapedefaults\": {\"line\": {\"color\": \"#2a3f5f\"}}, \"ternary\": {\"aaxis\": {\"gridcolor\": \"white\", \"linecolor\": \"white\", \"ticks\": \"\"}, \"baxis\": {\"gridcolor\": \"white\", \"linecolor\": \"white\", \"ticks\": \"\"}, \"bgcolor\": \"#E5ECF6\", \"caxis\": {\"gridcolor\": \"white\", \"linecolor\": \"white\", \"ticks\": \"\"}}, \"title\": {\"x\": 0.05}, \"xaxis\": {\"automargin\": true, \"gridcolor\": \"white\", \"linecolor\": \"white\", \"ticks\": \"\", \"title\": {\"standoff\": 15}, \"zerolinecolor\": \"white\", \"zerolinewidth\": 2}, \"yaxis\": {\"automargin\": true, \"gridcolor\": \"white\", \"linecolor\": \"white\", \"ticks\": \"\", \"title\": {\"standoff\": 15}, \"zerolinecolor\": \"white\", \"zerolinewidth\": 2}}}, \"title\": {\"text\": \"doc2vec sections\"}, \"xaxis\": {\"anchor\": \"y\", \"domain\": [0.0, 1.0], \"title\": {\"text\": \"score\"}}, \"yaxis\": {\"anchor\": \"x\", \"domain\": [0.0, 1.0], \"title\": {\"text\": \"count\"}}},\n",
              "                        {\"responsive\": true}\n",
              "                    ).then(function(){\n",
              "                            \n",
              "var gd = document.getElementById('603a6ded-8fb5-4bed-b744-71b8700a75f4');\n",
              "var x = new MutationObserver(function (mutations, observer) {{\n",
              "        var display = window.getComputedStyle(gd).display;\n",
              "        if (!display || display === 'none') {{\n",
              "            console.log([gd, 'removed!']);\n",
              "            Plotly.purge(gd);\n",
              "            observer.disconnect();\n",
              "        }}\n",
              "}});\n",
              "\n",
              "// Listen for the removal of the full notebook cells\n",
              "var notebookContainer = gd.closest('#notebook-container');\n",
              "if (notebookContainer) {{\n",
              "    x.observe(notebookContainer, {childList: true});\n",
              "}}\n",
              "\n",
              "// Listen for the clearing of the current output cell\n",
              "var outputEl = gd.closest('.output');\n",
              "if (outputEl) {{\n",
              "    x.observe(outputEl, {childList: true});\n",
              "}}\n",
              "\n",
              "                        })\n",
              "                };\n",
              "                \n",
              "            </script>\n",
              "        </div>\n",
              "</body>\n",
              "</html>"
            ]
          },
          "metadata": {}
        }
      ]
    },
    {
      "cell_type": "code",
      "metadata": {
        "id": "OKeaqYxGPMZj"
      },
      "source": [
        "if use_wandb:\n",
        "  wandb.log({\"scores_hist\": fig})"
      ],
      "execution_count": 214,
      "outputs": []
    },
    {
      "cell_type": "code",
      "metadata": {
        "colab": {
          "base_uri": "https://localhost:8080/",
          "height": 1000
        },
        "id": "DgV3ccDr5Ux4",
        "outputId": "3301ba3e-52fe-4166-8231-c79c64387883"
      },
      "source": [
        "result, details = recommend_tune(df_section_sim, 'Perdido')\n",
        "result.head(50)"
      ],
      "execution_count": 215,
      "outputs": [
        {
          "output_type": "execute_result",
          "data": {
            "text/html": [
              "<div>\n",
              "<style scoped>\n",
              "    .dataframe tbody tr th:only-of-type {\n",
              "        vertical-align: middle;\n",
              "    }\n",
              "\n",
              "    .dataframe tbody tr th {\n",
              "        vertical-align: top;\n",
              "    }\n",
              "\n",
              "    .dataframe thead th {\n",
              "        text-align: right;\n",
              "    }\n",
              "</style>\n",
              "<table border=\"1\" class=\"dataframe\">\n",
              "  <thead>\n",
              "    <tr style=\"text-align: right;\">\n",
              "      <th></th>\n",
              "      <th>index</th>\n",
              "      <th>reference</th>\n",
              "      <th>similar_title</th>\n",
              "      <th>score</th>\n",
              "      <th>max</th>\n",
              "      <th>score_div_max</th>\n",
              "    </tr>\n",
              "  </thead>\n",
              "  <tbody>\n",
              "    <tr>\n",
              "      <th>0</th>\n",
              "      <td>0</td>\n",
              "      <td>Perdido</td>\n",
              "      <td>You Can Depend On Me</td>\n",
              "      <td>0.901449</td>\n",
              "      <td>0.909190</td>\n",
              "      <td>1.000000</td>\n",
              "    </tr>\n",
              "    <tr>\n",
              "      <th>1</th>\n",
              "      <td>1</td>\n",
              "      <td>Perdido</td>\n",
              "      <td>Dearly Beloved</td>\n",
              "      <td>0.895231</td>\n",
              "      <td>0.909190</td>\n",
              "      <td>1.000000</td>\n",
              "    </tr>\n",
              "    <tr>\n",
              "      <th>2</th>\n",
              "      <td>2</td>\n",
              "      <td>Perdido</td>\n",
              "      <td>C.T.A.</td>\n",
              "      <td>0.961649</td>\n",
              "      <td>0.961649</td>\n",
              "      <td>1.000000</td>\n",
              "    </tr>\n",
              "    <tr>\n",
              "      <th>3</th>\n",
              "      <td>3</td>\n",
              "      <td>Perdido</td>\n",
              "      <td>I Wish I Knew</td>\n",
              "      <td>0.909190</td>\n",
              "      <td>0.909190</td>\n",
              "      <td>1.000000</td>\n",
              "    </tr>\n",
              "    <tr>\n",
              "      <th>4</th>\n",
              "      <td>4</td>\n",
              "      <td>Perdido</td>\n",
              "      <td>No Moe</td>\n",
              "      <td>0.959227</td>\n",
              "      <td>0.961649</td>\n",
              "      <td>0.997481</td>\n",
              "    </tr>\n",
              "    <tr>\n",
              "      <th>5</th>\n",
              "      <td>5</td>\n",
              "      <td>Perdido</td>\n",
              "      <td>Easy To Love</td>\n",
              "      <td>0.902241</td>\n",
              "      <td>0.909190</td>\n",
              "      <td>0.992357</td>\n",
              "    </tr>\n",
              "    <tr>\n",
              "      <th>6</th>\n",
              "      <td>6</td>\n",
              "      <td>Perdido</td>\n",
              "      <td>Suddenly It's Spring</td>\n",
              "      <td>0.888938</td>\n",
              "      <td>0.909190</td>\n",
              "      <td>0.977725</td>\n",
              "    </tr>\n",
              "    <tr>\n",
              "      <th>7</th>\n",
              "      <td>7</td>\n",
              "      <td>Perdido</td>\n",
              "      <td>Anthropology</td>\n",
              "      <td>0.940102</td>\n",
              "      <td>0.961649</td>\n",
              "      <td>0.977593</td>\n",
              "    </tr>\n",
              "    <tr>\n",
              "      <th>8</th>\n",
              "      <td>8</td>\n",
              "      <td>Perdido</td>\n",
              "      <td>When I'm Cleaning Windows</td>\n",
              "      <td>0.935164</td>\n",
              "      <td>0.961649</td>\n",
              "      <td>0.972458</td>\n",
              "    </tr>\n",
              "    <tr>\n",
              "      <th>9</th>\n",
              "      <td>9</td>\n",
              "      <td>Perdido</td>\n",
              "      <td>Moose The Mooche</td>\n",
              "      <td>0.931608</td>\n",
              "      <td>0.961649</td>\n",
              "      <td>0.968760</td>\n",
              "    </tr>\n",
              "    <tr>\n",
              "      <th>10</th>\n",
              "      <td>10</td>\n",
              "      <td>Perdido</td>\n",
              "      <td>Two Not One</td>\n",
              "      <td>0.931230</td>\n",
              "      <td>0.961649</td>\n",
              "      <td>0.968367</td>\n",
              "    </tr>\n",
              "    <tr>\n",
              "      <th>11</th>\n",
              "      <td>11</td>\n",
              "      <td>Perdido</td>\n",
              "      <td>So What</td>\n",
              "      <td>0.879950</td>\n",
              "      <td>0.909190</td>\n",
              "      <td>0.967839</td>\n",
              "    </tr>\n",
              "    <tr>\n",
              "      <th>12</th>\n",
              "      <td>12</td>\n",
              "      <td>Perdido</td>\n",
              "      <td>Rhythm-a-ning</td>\n",
              "      <td>0.929291</td>\n",
              "      <td>0.961649</td>\n",
              "      <td>0.966351</td>\n",
              "    </tr>\n",
              "    <tr>\n",
              "      <th>13</th>\n",
              "      <td>13</td>\n",
              "      <td>Perdido</td>\n",
              "      <td>Impressions</td>\n",
              "      <td>0.877156</td>\n",
              "      <td>0.909190</td>\n",
              "      <td>0.964766</td>\n",
              "    </tr>\n",
              "    <tr>\n",
              "      <th>14</th>\n",
              "      <td>14</td>\n",
              "      <td>Perdido</td>\n",
              "      <td>Scrapple From The Apple</td>\n",
              "      <td>0.927682</td>\n",
              "      <td>0.961649</td>\n",
              "      <td>0.964678</td>\n",
              "    </tr>\n",
              "    <tr>\n",
              "      <th>15</th>\n",
              "      <td>15</td>\n",
              "      <td>Perdido</td>\n",
              "      <td>Salt Peanuts</td>\n",
              "      <td>0.927133</td>\n",
              "      <td>0.961649</td>\n",
              "      <td>0.964107</td>\n",
              "    </tr>\n",
              "    <tr>\n",
              "      <th>16</th>\n",
              "      <td>16</td>\n",
              "      <td>Perdido</td>\n",
              "      <td>Dexterity</td>\n",
              "      <td>0.924760</td>\n",
              "      <td>0.961649</td>\n",
              "      <td>0.961640</td>\n",
              "    </tr>\n",
              "    <tr>\n",
              "      <th>17</th>\n",
              "      <td>17</td>\n",
              "      <td>Perdido</td>\n",
              "      <td>Well You Needn't</td>\n",
              "      <td>0.871471</td>\n",
              "      <td>0.909190</td>\n",
              "      <td>0.958513</td>\n",
              "    </tr>\n",
              "    <tr>\n",
              "      <th>18</th>\n",
              "      <td>18</td>\n",
              "      <td>Perdido</td>\n",
              "      <td>Tour De Force</td>\n",
              "      <td>0.870306</td>\n",
              "      <td>0.909190</td>\n",
              "      <td>0.957232</td>\n",
              "    </tr>\n",
              "    <tr>\n",
              "      <th>19</th>\n",
              "      <td>19</td>\n",
              "      <td>Perdido</td>\n",
              "      <td>Phase Dance</td>\n",
              "      <td>0.870182</td>\n",
              "      <td>0.909190</td>\n",
              "      <td>0.957096</td>\n",
              "    </tr>\n",
              "    <tr>\n",
              "      <th>20</th>\n",
              "      <td>20</td>\n",
              "      <td>Perdido</td>\n",
              "      <td>Saga Of Harrison Crabfeathers, The</td>\n",
              "      <td>0.869813</td>\n",
              "      <td>0.909190</td>\n",
              "      <td>0.956690</td>\n",
              "    </tr>\n",
              "    <tr>\n",
              "      <th>21</th>\n",
              "      <td>21</td>\n",
              "      <td>Perdido</td>\n",
              "      <td>I Love Being Here With You</td>\n",
              "      <td>0.918627</td>\n",
              "      <td>0.961649</td>\n",
              "      <td>0.955261</td>\n",
              "    </tr>\n",
              "    <tr>\n",
              "      <th>22</th>\n",
              "      <td>22</td>\n",
              "      <td>Perdido</td>\n",
              "      <td>P.S. I Love You</td>\n",
              "      <td>0.861985</td>\n",
              "      <td>0.909190</td>\n",
              "      <td>0.955084</td>\n",
              "    </tr>\n",
              "    <tr>\n",
              "      <th>23</th>\n",
              "      <td>23</td>\n",
              "      <td>Perdido</td>\n",
              "      <td>Flintstones</td>\n",
              "      <td>0.916283</td>\n",
              "      <td>0.961649</td>\n",
              "      <td>0.952825</td>\n",
              "    </tr>\n",
              "    <tr>\n",
              "      <th>24</th>\n",
              "      <td>24</td>\n",
              "      <td>Perdido</td>\n",
              "      <td>Deed I Do</td>\n",
              "      <td>0.865610</td>\n",
              "      <td>0.909190</td>\n",
              "      <td>0.952067</td>\n",
              "    </tr>\n",
              "    <tr>\n",
              "      <th>25</th>\n",
              "      <td>25</td>\n",
              "      <td>Perdido</td>\n",
              "      <td>It's You Or No One</td>\n",
              "      <td>0.855978</td>\n",
              "      <td>0.909190</td>\n",
              "      <td>0.951762</td>\n",
              "    </tr>\n",
              "    <tr>\n",
              "      <th>26</th>\n",
              "      <td>26</td>\n",
              "      <td>Perdido</td>\n",
              "      <td>Favela</td>\n",
              "      <td>0.863832</td>\n",
              "      <td>0.909190</td>\n",
              "      <td>0.950111</td>\n",
              "    </tr>\n",
              "    <tr>\n",
              "      <th>27</th>\n",
              "      <td>27</td>\n",
              "      <td>Perdido</td>\n",
              "      <td>Cottontail</td>\n",
              "      <td>0.913514</td>\n",
              "      <td>0.961649</td>\n",
              "      <td>0.949944</td>\n",
              "    </tr>\n",
              "    <tr>\n",
              "      <th>28</th>\n",
              "      <td>28</td>\n",
              "      <td>Perdido</td>\n",
              "      <td>Shiny Stockings</td>\n",
              "      <td>0.855085</td>\n",
              "      <td>0.901449</td>\n",
              "      <td>0.948567</td>\n",
              "    </tr>\n",
              "    <tr>\n",
              "      <th>29</th>\n",
              "      <td>29</td>\n",
              "      <td>Perdido</td>\n",
              "      <td>Shaw 'Nuff</td>\n",
              "      <td>0.909407</td>\n",
              "      <td>0.961649</td>\n",
              "      <td>0.945674</td>\n",
              "    </tr>\n",
              "    <tr>\n",
              "      <th>30</th>\n",
              "      <td>30</td>\n",
              "      <td>Perdido</td>\n",
              "      <td>C'est Si Bon</td>\n",
              "      <td>0.859085</td>\n",
              "      <td>0.909190</td>\n",
              "      <td>0.944890</td>\n",
              "    </tr>\n",
              "    <tr>\n",
              "      <th>31</th>\n",
              "      <td>31</td>\n",
              "      <td>Perdido</td>\n",
              "      <td>Celia</td>\n",
              "      <td>0.858814</td>\n",
              "      <td>0.909190</td>\n",
              "      <td>0.944592</td>\n",
              "    </tr>\n",
              "    <tr>\n",
              "      <th>32</th>\n",
              "      <td>32</td>\n",
              "      <td>Perdido</td>\n",
              "      <td>Killer Joe</td>\n",
              "      <td>0.857301</td>\n",
              "      <td>0.909190</td>\n",
              "      <td>0.942928</td>\n",
              "    </tr>\n",
              "    <tr>\n",
              "      <th>33</th>\n",
              "      <td>33</td>\n",
              "      <td>Perdido</td>\n",
              "      <td>Minor Strain</td>\n",
              "      <td>0.856082</td>\n",
              "      <td>0.909190</td>\n",
              "      <td>0.941588</td>\n",
              "    </tr>\n",
              "    <tr>\n",
              "      <th>34</th>\n",
              "      <td>34</td>\n",
              "      <td>Perdido</td>\n",
              "      <td>I Love Paris</td>\n",
              "      <td>0.855231</td>\n",
              "      <td>0.909190</td>\n",
              "      <td>0.940651</td>\n",
              "    </tr>\n",
              "    <tr>\n",
              "      <th>35</th>\n",
              "      <td>35</td>\n",
              "      <td>Perdido</td>\n",
              "      <td>Change Partners</td>\n",
              "      <td>0.853431</td>\n",
              "      <td>0.909190</td>\n",
              "      <td>0.938671</td>\n",
              "    </tr>\n",
              "    <tr>\n",
              "      <th>36</th>\n",
              "      <td>36</td>\n",
              "      <td>Perdido</td>\n",
              "      <td>Thou Swell</td>\n",
              "      <td>0.844659</td>\n",
              "      <td>0.901449</td>\n",
              "      <td>0.937001</td>\n",
              "    </tr>\n",
              "    <tr>\n",
              "      <th>37</th>\n",
              "      <td>37</td>\n",
              "      <td>Perdido</td>\n",
              "      <td>This Masquerade</td>\n",
              "      <td>0.851866</td>\n",
              "      <td>0.909190</td>\n",
              "      <td>0.936950</td>\n",
              "    </tr>\n",
              "    <tr>\n",
              "      <th>38</th>\n",
              "      <td>38</td>\n",
              "      <td>Perdido</td>\n",
              "      <td>But Not For Me</td>\n",
              "      <td>0.843480</td>\n",
              "      <td>0.901449</td>\n",
              "      <td>0.935693</td>\n",
              "    </tr>\n",
              "    <tr>\n",
              "      <th>39</th>\n",
              "      <td>39</td>\n",
              "      <td>Perdido</td>\n",
              "      <td>Tangerine</td>\n",
              "      <td>0.848558</td>\n",
              "      <td>0.909190</td>\n",
              "      <td>0.933313</td>\n",
              "    </tr>\n",
              "    <tr>\n",
              "      <th>40</th>\n",
              "      <td>40</td>\n",
              "      <td>Perdido</td>\n",
              "      <td>Little Peace In C For You</td>\n",
              "      <td>0.897486</td>\n",
              "      <td>0.961649</td>\n",
              "      <td>0.933277</td>\n",
              "    </tr>\n",
              "    <tr>\n",
              "      <th>41</th>\n",
              "      <td>41</td>\n",
              "      <td>Perdido</td>\n",
              "      <td>Undecided</td>\n",
              "      <td>0.841280</td>\n",
              "      <td>0.901449</td>\n",
              "      <td>0.933253</td>\n",
              "    </tr>\n",
              "    <tr>\n",
              "      <th>42</th>\n",
              "      <td>42</td>\n",
              "      <td>Perdido</td>\n",
              "      <td>My Melancholy Baby</td>\n",
              "      <td>0.848032</td>\n",
              "      <td>0.909190</td>\n",
              "      <td>0.932733</td>\n",
              "    </tr>\n",
              "    <tr>\n",
              "      <th>43</th>\n",
              "      <td>43</td>\n",
              "      <td>Perdido</td>\n",
              "      <td>I Got Rhythm</td>\n",
              "      <td>0.889156</td>\n",
              "      <td>0.961649</td>\n",
              "      <td>0.924616</td>\n",
              "    </tr>\n",
              "    <tr>\n",
              "      <th>44</th>\n",
              "      <td>44</td>\n",
              "      <td>Perdido</td>\n",
              "      <td>Honeysuckle Rose</td>\n",
              "      <td>0.832661</td>\n",
              "      <td>0.901449</td>\n",
              "      <td>0.923691</td>\n",
              "    </tr>\n",
              "    <tr>\n",
              "      <th>45</th>\n",
              "      <td>45</td>\n",
              "      <td>Perdido</td>\n",
              "      <td>Cherokee</td>\n",
              "      <td>0.830115</td>\n",
              "      <td>0.901449</td>\n",
              "      <td>0.920867</td>\n",
              "    </tr>\n",
              "    <tr>\n",
              "      <th>46</th>\n",
              "      <td>46</td>\n",
              "      <td>Perdido</td>\n",
              "      <td>Sunday</td>\n",
              "      <td>0.884075</td>\n",
              "      <td>0.961649</td>\n",
              "      <td>0.919332</td>\n",
              "    </tr>\n",
              "    <tr>\n",
              "      <th>47</th>\n",
              "      <td>47</td>\n",
              "      <td>Perdido</td>\n",
              "      <td>Thriving From A Riff</td>\n",
              "      <td>0.875613</td>\n",
              "      <td>0.961649</td>\n",
              "      <td>0.910532</td>\n",
              "    </tr>\n",
              "    <tr>\n",
              "      <th>48</th>\n",
              "      <td>48</td>\n",
              "      <td>Perdido</td>\n",
              "      <td>Passport</td>\n",
              "      <td>0.868860</td>\n",
              "      <td>0.961649</td>\n",
              "      <td>0.903510</td>\n",
              "    </tr>\n",
              "    <tr>\n",
              "      <th>49</th>\n",
              "      <td>49</td>\n",
              "      <td>Perdido</td>\n",
              "      <td>Blue Skies</td>\n",
              "      <td>0.809729</td>\n",
              "      <td>0.901449</td>\n",
              "      <td>0.898253</td>\n",
              "    </tr>\n",
              "  </tbody>\n",
              "</table>\n",
              "</div>"
            ],
            "text/plain": [
              "    index reference  ...       max  score_div_max\n",
              "0       0   Perdido  ...  0.909190       1.000000\n",
              "1       1   Perdido  ...  0.909190       1.000000\n",
              "2       2   Perdido  ...  0.961649       1.000000\n",
              "3       3   Perdido  ...  0.909190       1.000000\n",
              "4       4   Perdido  ...  0.961649       0.997481\n",
              "5       5   Perdido  ...  0.909190       0.992357\n",
              "6       6   Perdido  ...  0.909190       0.977725\n",
              "7       7   Perdido  ...  0.961649       0.977593\n",
              "8       8   Perdido  ...  0.961649       0.972458\n",
              "9       9   Perdido  ...  0.961649       0.968760\n",
              "10     10   Perdido  ...  0.961649       0.968367\n",
              "11     11   Perdido  ...  0.909190       0.967839\n",
              "12     12   Perdido  ...  0.961649       0.966351\n",
              "13     13   Perdido  ...  0.909190       0.964766\n",
              "14     14   Perdido  ...  0.961649       0.964678\n",
              "15     15   Perdido  ...  0.961649       0.964107\n",
              "16     16   Perdido  ...  0.961649       0.961640\n",
              "17     17   Perdido  ...  0.909190       0.958513\n",
              "18     18   Perdido  ...  0.909190       0.957232\n",
              "19     19   Perdido  ...  0.909190       0.957096\n",
              "20     20   Perdido  ...  0.909190       0.956690\n",
              "21     21   Perdido  ...  0.961649       0.955261\n",
              "22     22   Perdido  ...  0.909190       0.955084\n",
              "23     23   Perdido  ...  0.961649       0.952825\n",
              "24     24   Perdido  ...  0.909190       0.952067\n",
              "25     25   Perdido  ...  0.909190       0.951762\n",
              "26     26   Perdido  ...  0.909190       0.950111\n",
              "27     27   Perdido  ...  0.961649       0.949944\n",
              "28     28   Perdido  ...  0.901449       0.948567\n",
              "29     29   Perdido  ...  0.961649       0.945674\n",
              "30     30   Perdido  ...  0.909190       0.944890\n",
              "31     31   Perdido  ...  0.909190       0.944592\n",
              "32     32   Perdido  ...  0.909190       0.942928\n",
              "33     33   Perdido  ...  0.909190       0.941588\n",
              "34     34   Perdido  ...  0.909190       0.940651\n",
              "35     35   Perdido  ...  0.909190       0.938671\n",
              "36     36   Perdido  ...  0.901449       0.937001\n",
              "37     37   Perdido  ...  0.909190       0.936950\n",
              "38     38   Perdido  ...  0.901449       0.935693\n",
              "39     39   Perdido  ...  0.909190       0.933313\n",
              "40     40   Perdido  ...  0.961649       0.933277\n",
              "41     41   Perdido  ...  0.901449       0.933253\n",
              "42     42   Perdido  ...  0.909190       0.932733\n",
              "43     43   Perdido  ...  0.961649       0.924616\n",
              "44     44   Perdido  ...  0.901449       0.923691\n",
              "45     45   Perdido  ...  0.901449       0.920867\n",
              "46     46   Perdido  ...  0.961649       0.919332\n",
              "47     47   Perdido  ...  0.961649       0.910532\n",
              "48     48   Perdido  ...  0.961649       0.903510\n",
              "49     49   Perdido  ...  0.901449       0.898253\n",
              "\n",
              "[50 rows x 6 columns]"
            ]
          },
          "metadata": {},
          "execution_count": 215
        }
      ]
    },
    {
      "cell_type": "code",
      "metadata": {
        "id": "hLFaFo62XlMS",
        "colab": {
          "base_uri": "https://localhost:8080/"
        },
        "outputId": "700bcdce-8195-4a58-fe5d-a43688c74a63"
      },
      "source": [
        "dd = pd.DataFrame(columns = recommender_results_cols)\n",
        "\n",
        "for tune in tunes_eval_list:\n",
        "  result, details = recommend_tune(df_sim, tune)\n",
        "  dd['id'] = result['index']\n",
        "  dd['reference'] = tune\n",
        "  dd['method'] = 'doc2vec'\n",
        "  dd['similar'] = result['similar_title']\n",
        "  dd['score_div_max'] = result['score_div_max']\n",
        "  dd['score'] = result['score']\n",
        "\n",
        "recommender_results = recommender_results.append(dd)\n",
        "len(recommender_results)"
      ],
      "execution_count": 216,
      "outputs": [
        {
          "output_type": "execute_result",
          "data": {
            "text/plain": [
              "178"
            ]
          },
          "metadata": {},
          "execution_count": 216
        }
      ]
    },
    {
      "cell_type": "markdown",
      "metadata": {
        "id": "ryEvGZqYDsMb"
      },
      "source": [
        "#### Document Similarity\n"
      ]
    },
    {
      "cell_type": "markdown",
      "metadata": {
        "id": "o-eOM9DiFdAt"
      },
      "source": [
        "The TitleId is tagged with the prefix `title_id`, so that it can be distinguished from the sectionid tags, which are numeric."
      ]
    },
    {
      "cell_type": "code",
      "metadata": {
        "colab": {
          "base_uri": "https://localhost:8080/"
        },
        "id": "KRd6qAdY5Z4g",
        "outputId": "9a1ba737-a8c9-4c24-8a14-f7f89b0c8f91"
      },
      "source": [
        "tunes_eval_list"
      ],
      "execution_count": 217,
      "outputs": [
        {
          "output_type": "execute_result",
          "data": {
            "text/plain": [
              "[\"After You've Gone\",\n",
              " \"All God's Chillun Got Rhythm\",\n",
              " 'All Of Me',\n",
              " 'Blood Count',\n",
              " 'Blue Moon',\n",
              " 'But Beautiful',\n",
              " 'Bye Bye Blackbird',\n",
              " 'Call Me Irresponsible',\n",
              " 'Corcovado',\n",
              " 'Dinah',\n",
              " 'East Of The Sun',\n",
              " 'Footprints',\n",
              " 'Giant Steps',\n",
              " 'Honeysuckle Rose',\n",
              " 'I Got Rhythm',\n",
              " 'Misty',\n",
              " 'Naima',\n",
              " 'Old Fashioned Love',\n",
              " 'Perdido',\n",
              " \"Rockin' Chair\",\n",
              " 'Sophisticated Lady',\n",
              " 'Sweet Sue, Just You',\n",
              " 'These Foolish Things',\n",
              " \"We'll Be Together Again\"]"
            ]
          },
          "metadata": {},
          "execution_count": 217
        }
      ]
    },
    {
      "cell_type": "code",
      "metadata": {
        "colab": {
          "base_uri": "https://localhost:8080/"
        },
        "id": "sHWTJtJ_HyoJ",
        "outputId": "3fd5bde9-1a14-40a2-adf6-21b0cd0ad38f"
      },
      "source": [
        "# convert titles to titleid; if multiple tunes with same title, takes the first one. \n",
        "titleid_eval = []\n",
        "for title in tunes_eval_list:\n",
        "  titleid_eval.append(titles.query(f'title == \"{title}\"').reset_index().loc[0,'tune_id'])\n",
        "titleid_eval"
      ],
      "execution_count": 218,
      "outputs": [
        {
          "output_type": "execute_result",
          "data": {
            "text/plain": [
              "[38,\n",
              " 57,\n",
              " 60,\n",
              " 149,\n",
              " 159,\n",
              " 199,\n",
              " 206,\n",
              " 213,\n",
              " 257,\n",
              " 308,\n",
              " 341,\n",
              " 392,\n",
              " 425,\n",
              " 472,\n",
              " 505,\n",
              " 805,\n",
              " 859,\n",
              " 1639,\n",
              " 949,\n",
              " 993,\n",
              " 1080,\n",
              " 1136,\n",
              " 1168,\n",
              " 1257]"
            ]
          },
          "metadata": {},
          "execution_count": 218
        }
      ]
    },
    {
      "cell_type": "code",
      "metadata": {
        "colab": {
          "base_uri": "https://localhost:8080/"
        },
        "id": "XKO9wonAHsch",
        "outputId": "356fd29f-9c91-4168-f6cc-be26ec629277"
      },
      "source": [
        "for titleid in titleid_eval:\n",
        "  print()\n",
        "  print(titleid_to_title[titleid])\n",
        "  sims = model.dv.similar_by_key(f'titleid_{titleid}', topn=30)\n",
        "  for key, value in sims:\n",
        "    if type(key) == str:  # only display document similarities, skip all section similarities\n",
        "      print(f\"{value:.3f} {titleid_to_title[int(key.replace('titleid_', ''))]}\")\n"
      ],
      "execution_count": 219,
      "outputs": [
        {
          "output_type": "stream",
          "name": "stdout",
          "text": [
            "\n",
            "After You've Gone\n",
            "0.801 There Will Never Be Another You\n",
            "0.784 Deed I Do\n",
            "0.775 In A Mellow Tone (In A Mellotone)\n",
            "0.772 There'll Be Some Changes Made\n",
            "0.772 Dearly Beloved\n",
            "0.771 All Of You\n",
            "0.770 Cherokee\n",
            "0.767 Smile\n",
            "0.763 That Old Black Magic\n",
            "0.762 Song Of The Wanderer\n",
            "0.762 Bohemia After Dark\n",
            "\n",
            "All God's Chillun Got Rhythm\n",
            "0.827 Too Young To Go Steady\n",
            "0.798 Diane\n",
            "0.794 Emily\n",
            "0.791 Tune Up\n",
            "0.784 This Is All I Ask\n",
            "0.780 Minor Mishap\n",
            "0.780 Blue Moon\n",
            "0.770 At Last\n",
            "0.768 Again\n",
            "0.767 Teach Me Tonight\n",
            "0.767 They Didn't Believe Me\n",
            "0.767 Sometime Ago\n",
            "0.766 All Too Soon\n",
            "\n",
            "All Of Me\n",
            "0.844 You're Nobody Till Somebody Loves You\n",
            "0.826 Margie\n",
            "0.815 Litha\n",
            "0.806 Four\n",
            "0.799 Spain\n",
            "0.793 Smile\n",
            "0.786 East Of The Sun\n",
            "0.777 Blue (And Broken Hearted)\n",
            "0.774 Mr. P.C.\n",
            "0.771 When You're Smiling\n",
            "0.771 Equinox\n",
            "0.770 Bei Mir Bist Du Schon (Root Hog Or Die)\n",
            "\n",
            "Blood Count\n",
            "0.830 Played Twice\n",
            "0.789 Naima\n",
            "0.774 A Sound For Sore Ears\n",
            "0.763 Midnight Sun\n",
            "0.756 Sorcerer, The\n",
            "0.752 Weary Bules (AKA Shake It And Break It)\n",
            "0.739 Toys\n",
            "0.734 Pensativa\n",
            "0.728 Hesitating Blues\n",
            "\n",
            "Blue Moon\n",
            "0.852 Fools Rush In\n",
            "0.841 Touch Of Your Lips, The\n",
            "0.827 Emily\n",
            "0.822 I'm In The Mood For Love\n",
            "0.819 Too Young To Go Steady\n",
            "0.815 Don't Be That Way\n",
            "0.813 Why Do I Love You\n",
            "\n",
            "But Beautiful\n",
            "0.789 A Beautiful Friendship\n",
            "0.758 I'm Getting Sentimental Over You\n",
            "0.758 Sometime Ago\n",
            "0.752 Rosetta\n",
            "0.751 Too Young To Go Steady\n",
            "0.751 Rosetta\n",
            "0.750 Tadd's Delight\n",
            "0.750 Again\n",
            "0.746 P.S. I Love You\n",
            "0.744 It Could Happen To You\n",
            "0.743 On The Road To Home Sweet Home\n",
            "0.742 Twisted\n",
            "0.742 Misty\n",
            "0.741 I May Be Wrong\n",
            "\n",
            "Bye Bye Blackbird\n",
            "0.837 Afternoon In Paris\n",
            "0.821 One I Love (Belongs To Somebody Else), The\n",
            "0.812 Somebody Loves Me\n",
            "0.804 Ladies Of Calcutta, The\n",
            "0.803 Pretend\n",
            "0.802 Don't Take Your Love From Me\n",
            "0.799 Minor Strain\n",
            "0.796 Tea For Two\n",
            "0.795 I Could Have Danced All Night\n",
            "0.790 When You Wish Upon A Star\n",
            "\n",
            "Call Me Irresponsible\n",
            "0.884 Into Each Life Some Rain Must Fall\n",
            "0.809 Nevertheless\n",
            "0.806 Poor Butterfly\n",
            "0.783 My Buddy\n",
            "0.781 It's De-lovely\n",
            "0.781 You're Nobody Till Somebody Loves You\n",
            "0.779 You've Changed\n",
            "0.776 Someday You'll Be Sorry\n",
            "0.775 Fascination\n",
            "0.763 Sheik Of Araby\n",
            "0.761 You Do Something To Me\n",
            "\n",
            "Corcovado\n",
            "0.828 From This Moment On\n",
            "0.800 What Are You Doing The Rest Of Your Life\n",
            "0.793 Freight Train\n",
            "0.790 My Heart Belongs To Daddy\n",
            "0.781 Minoat\n",
            "0.778 Voyage\n",
            "0.776 O Grande Amor\n",
            "0.776 Serpent's Tooth\n",
            "\n",
            "Dinah\n",
            "0.773 Where Or When\n",
            "0.771 Blue Champagne\n",
            "0.764 Take Five\n",
            "0.760 It's Magic\n",
            "0.749 Flying Home\n",
            "0.739 Danny Boy\n",
            "0.734 Love Me Or Leave Me\n",
            "0.731 Ol' Man River\n",
            "\n",
            "East Of The Sun\n",
            "0.894 Four\n",
            "0.840 Sweet Sue, Just You\n",
            "0.839 Gregory Is Here\n",
            "0.839 Out Of Nowhere\n",
            "0.836 On A Clear Day\n",
            "0.832 Mr. P.C.\n",
            "0.832 My Monday Date\n",
            "0.831 Equinox\n",
            "0.828 Cherokee\n",
            "0.819 Minor Strain\n",
            "0.819 Bohemia After Dark\n",
            "0.817 Out Of Nowhere\n",
            "\n",
            "Footprints\n",
            "0.956 Phase Dance\n",
            "0.933 Cantaloupe Island\n",
            "0.932 Mr. P.C.\n",
            "0.929 Bags and Trane\n",
            "0.927 Little Sunflower\n",
            "0.926 Nutville\n",
            "0.909 Song For My Father\n",
            "0.906 Affirmation\n",
            "0.905 Afro Blue\n",
            "\n",
            "Giant Steps\n",
            "0.865 Satellite\n",
            "0.857 Minnie The Moocher\n",
            "0.851 Friday The 13th\n",
            "0.850 Baubles, Bangles and Beads\n",
            "0.847 Fever\n",
            "0.846 Lover\n",
            "\n",
            "Honeysuckle Rose\n",
            "0.986 Honeysuckle Rose\n",
            "0.860 Sonnymoon For Two\n",
            "0.848 Move\n",
            "0.848 I Want To Be Happy\n",
            "0.846 Thou Swell\n",
            "0.836 Barbados\n",
            "0.836 Eighty One\n",
            "\n",
            "I Got Rhythm\n",
            "0.976 I Got Rhythm\n",
            "0.846 Let's Fall In Love\n",
            "0.831 Cottontail\n",
            "0.827 At Last\n",
            "0.818 All Too Soon\n",
            "0.809 Bessie's Blues\n",
            "0.806 I Wish I Were In Love Again\n",
            "0.802 Get Happy\n",
            "0.791 Days And Nights Waiting\n",
            "\n",
            "Misty\n",
            "0.833 Too Young To Go Steady\n",
            "0.821 Again\n",
            "0.813 I Remember You\n",
            "0.808 Rosetta\n",
            "0.808 You Go To My Head\n",
            "0.808 You Can Depend On Me\n",
            "0.805 Jeepers Creepers\n",
            "0.803 Touch Of Your Lips, The\n",
            "0.802 Deed I Do\n",
            "0.800 Rosetta\n",
            "0.797 Lover\n",
            "0.797 What's New\n",
            "0.796 Teach Me Tonight\n",
            "0.795 Sonnymoon For Two\n",
            "0.795 Sometime Ago\n",
            "\n",
            "Naima\n",
            "0.851 Played Twice\n",
            "0.842 Pensativa\n",
            "0.814 Sorcerer, The\n",
            "0.814 Celia\n",
            "0.798 Minnie The Moocher\n",
            "0.792 Brazilian Suite\n",
            "0.789 Fever\n",
            "0.789 Blood Count\n",
            "\n",
            "Old Fashioned Love\n",
            "0.797 Louisiana Fairytale\n",
            "0.769 Little Waltz\n",
            "0.763 When I Grow Too Old To Dream\n",
            "0.743 I Wish I Knew How It Would Feel To Be Free\n",
            "0.736 Aged And Mellow Blues\n",
            "0.726 Memories Of Tomorrow\n",
            "0.719 We Shall Not Be Moved\n",
            "0.718 What A Wonderful World\n",
            "0.716 Second Star To The Right, The\n",
            "0.716 No Moon At All\n",
            "0.716 Rent Party Blues\n",
            "\n",
            "Perdido\n",
            "0.903 You Can Depend On Me\n",
            "0.895 You Can Depend On Me\n",
            "0.882 Cherokee\n",
            "0.870 Undecided\n",
            "0.861 Ko Ko\n",
            "0.853 Take The A Train\n",
            "0.852 Hungaria\n",
            "0.846 Jersey Bounce\n",
            "0.839 Well You Needn't\n",
            "\n",
            "Rockin' Chair\n",
            "0.779 Limehouse Blues\n",
            "0.776 You Do Something To Me\n",
            "0.769 A Smooth One\n",
            "0.766 Straighten Up And Fly Right\n",
            "0.761 Undecided\n",
            "0.759 Sentimental Journey\n",
            "0.755 Gee Baby, Ain't I Good To You\n",
            "0.754 Undecided\n",
            "0.752 Down For Double\n",
            "0.747 Só Danço Samba\n",
            "0.747 Jersey Bounce\n",
            "0.747 Exactly Like You\n",
            "0.740 Rosetta\n",
            "0.739 Ain't She Sweet\n",
            "0.739 Frim Fram Sauce, The\n",
            "\n",
            "Sophisticated Lady\n",
            "0.766 A Beautiful Friendship\n",
            "0.761 This Time The Dream's On Me\n",
            "0.758 It Could Happen To You\n",
            "0.754 Killer Joe\n",
            "0.749 Easy To Love\n",
            "0.745 Our Love is Here to Stay\n",
            "0.744 That's Life I Guess\n",
            "0.744 Don't Get Around Much Anymore\n",
            "\n",
            "Sweet Sue, Just You\n",
            "0.840 Four\n",
            "0.840 East Of The Sun\n",
            "0.835 Cherokee\n",
            "0.827 Shiny Stockings\n",
            "0.827 Happy Little Sunbeam\n",
            "0.827 Perdido\n",
            "0.825 Dearly Beloved\n",
            "0.821 Tea For Two\n",
            "0.817 When You're Smilin'\n",
            "0.816 I Wish I Knew\n",
            "0.813 Ladies Of Calcutta, The\n",
            "\n",
            "These Foolish Things\n",
            "0.742 Sunday\n",
            "0.734 Put On A Happy Face\n",
            "0.706 Fools Rush In\n",
            "0.706 As Long As I Live\n",
            "0.701 Blue Room, The\n",
            "0.700 New Orleans\n",
            "0.697 Try A Little Tenderness\n",
            "0.694 My One And Only Love\n",
            "0.690 They Can't Take That Away From Me\n",
            "0.689 Rosetta\n",
            "0.688 Darkness On The Delta\n",
            "0.683 I Loves You Porgy\n",
            "\n",
            "We'll Be Together Again\n",
            "0.779 Goodbye\n",
            "0.761 Street Of Dreams\n",
            "0.744 Dream A Little Dream Of Me\n",
            "0.740 Well You Needn't\n",
            "0.730 C'est Si Bon\n",
            "0.726 I May Be Wrong\n",
            "0.721 Let's Face The Music And Dance\n"
          ]
        }
      ]
    },
    {
      "cell_type": "markdown",
      "metadata": {
        "id": "XmDZT5t7gjgV"
      },
      "source": [
        "# Venn diagrams for Results"
      ]
    },
    {
      "cell_type": "code",
      "metadata": {
        "id": "1YJ5FLt-2WS4"
      },
      "source": [
        "import matplotlib.pyplot as plt\n",
        "from matplotlib_venn import venn3"
      ],
      "execution_count": 220,
      "outputs": []
    },
    {
      "cell_type": "code",
      "metadata": {
        "id": "U6WrsBcc00ar",
        "colab": {
          "base_uri": "https://localhost:8080/",
          "height": 1000
        },
        "outputId": "897a9d3e-9222-41e7-f8e4-9538868568fb"
      },
      "source": [
        "for tune in tunes_eval_list:\n",
        "  df, details = recommend_tune(df_tfidf, tune)\n",
        "  tfidf_tunes = list(df.head(30).loc[:,'similar_title'])\n",
        "\n",
        "  df, details = recommend_tune(df_lsi, tune)\n",
        "  lsi_tunes = list(df.head(30).loc[:,'similar_title'])\n",
        "\n",
        "  df, details = recommend_tune(df_word2vec, tune)\n",
        "  word2vec_tunes = list(df.head(30).loc[:,'similar_title'])\n",
        "\n",
        "  set_tfidf = set(tfidf_tunes)\n",
        "  set_lsi = set(lsi_tunes)\n",
        "  set_word2vec = set(word2vec_tunes)\n",
        "\n",
        "  venn3([set_tfidf, set_lsi, set_word2vec], \n",
        "        set_labels=('TF-IDF', 'LSI', 'Doc2Vec'),\n",
        "        )\n",
        "  plt.title(f\"{tune}\")\n",
        "  plt.savefig('plot.png')\n",
        "  \n",
        "  if use_wandb:\n",
        "    wandb.log({\"venn_methods\": wandb.Image('plot.png')})\n",
        "  \n",
        "  plt.show()"
      ],
      "execution_count": 221,
      "outputs": [
        {
          "output_type": "display_data",
          "data": {
            "image/png": "[encoded data removed]",
            "text/plain": [
              "<Figure size 432x288 with 1 Axes>"
            ]
          },
          "metadata": {}
        },
        {
          "output_type": "display_data",
          "data": {
            "image/png": "[encoded data removed]",
            "text/plain": [
              "<Figure size 432x288 with 1 Axes>"
            ]
          },
          "metadata": {}
        },
        {
          "output_type": "display_data",
          "data": {
            "image/png": "[encoded data removed]",
            "text/plain": [
              "<Figure size 432x288 with 1 Axes>"
            ]
          },
          "metadata": {}
        },
        {
          "output_type": "display_data",
          "data": {
            "image/png": "[encoded data removed]",
            "text/plain": [
              "<Figure size 432x288 with 1 Axes>"
            ]
          },
          "metadata": {}
        },
        {
          "output_type": "display_data",
          "data": {
            "image/png": "[encoded data removed]",
            "text/plain": [
              "<Figure size 432x288 with 1 Axes>"
            ]
          },
          "metadata": {}
        },
        {
          "output_type": "display_data",
          "data": {
            "image/png": "[encoded data removed]",
            "text/plain": [
              "<Figure size 432x288 with 1 Axes>"
            ]
          },
          "metadata": {}
        },
        {
          "output_type": "display_data",
          "data": {
            "image/png": "[encoded data removed]",
            "text/plain": [
              "<Figure size 432x288 with 1 Axes>"
            ]
          },
          "metadata": {}
        },
        {
          "output_type": "display_data",
          "data": {
            "image/png": "[encoded data removed]",
            "text/plain": [
              "<Figure size 432x288 with 1 Axes>"
            ]
          },
          "metadata": {}
        },
        {
          "output_type": "display_data",
          "data": {
            "image/png": "[encoded data removed]",
            "text/plain": [
              "<Figure size 432x288 with 1 Axes>"
            ]
          },
          "metadata": {}
        },
        {
          "output_type": "display_data",
          "data": {
            "image/png": "[encoded data removed]",
            "text/plain": [
              "<Figure size 432x288 with 1 Axes>"
            ]
          },
          "metadata": {}
        },
        {
          "output_type": "display_data",
          "data": {
            "image/png": "[encoded data removed]",
            "text/plain": [
              "<Figure size 432x288 with 1 Axes>"
            ]
          },
          "metadata": {}
        },
        {
          "output_type": "display_data",
          "data": {
            "image/png": "[encoded data removed]",
            "text/plain": [
              "<Figure size 432x288 with 1 Axes>"
            ]
          },
          "metadata": {}
        },
        {
          "output_type": "display_data",
          "data": {
            "image/png": "[encoded data removed]",
            "text/plain": [
              "<Figure size 432x288 with 1 Axes>"
            ]
          },
          "metadata": {}
        },
        {
          "output_type": "display_data",
          "data": {
            "image/png": "[encoded data removed]",
            "text/plain": [
              "<Figure size 432x288 with 1 Axes>"
            ]
          },
          "metadata": {}
        },
        {
          "output_type": "display_data",
          "data": {
            "image/png": "[encoded data removed]",
            "text/plain": [
              "<Figure size 432x288 with 1 Axes>"
            ]
          },
          "metadata": {}
        },
        {
          "output_type": "display_data",
          "data": {
            "image/png": "[encoded data removed]",
            "text/plain": [
              "<Figure size 432x288 with 1 Axes>"
            ]
          },
          "metadata": {}
        },
        {
          "output_type": "display_data",
          "data": {
            "image/png": "[encoded data removed]",
            "text/plain": [
              "<Figure size 432x288 with 1 Axes>"
            ]
          },
          "metadata": {}
        },
        {
          "output_type": "display_data",
          "data": {
            "image/png": "[encoded data removed]",
            "text/plain": [
              "<Figure size 432x288 with 1 Axes>"
            ]
          },
          "metadata": {}
        },
        {
          "output_type": "display_data",
          "data": {
            "image/png": "[encoded data removed]",
            "text/plain": [
              "<Figure size 432x288 with 1 Axes>"
            ]
          },
          "metadata": {}
        },
        {
          "output_type": "display_data",
          "data": {
            "image/png": "[encoded data removed]",
            "text/plain": [
              "<Figure size 432x288 with 1 Axes>"
            ]
          },
          "metadata": {}
        },
        {
          "output_type": "display_data",
          "data": {
            "image/png": "[encoded data removed]",
            "text/plain": [
              "<Figure size 432x288 with 1 Axes>"
            ]
          },
          "metadata": {}
        },
        {
          "output_type": "display_data",
          "data": {
            "image/png": "[encoded data removed]",
            "text/plain": [
              "<Figure size 432x288 with 1 Axes>"
            ]
          },
          "metadata": {}
        },
        {
          "output_type": "display_data",
          "data": {
            "image/png": "[encoded data removed]",
            "text/plain": [
              "<Figure size 432x288 with 1 Axes>"
            ]
          },
          "metadata": {}
        },
        {
          "output_type": "display_data",
          "data": {
            "image/png": "[encoded data removed]",
            "text/plain": [
              "<Figure size 432x288 with 1 Axes>"
            ]
          },
          "metadata": {}
        }
      ]
    },
    {
      "cell_type": "markdown",
      "metadata": {
        "id": "RhOWHSEU0DQH"
      },
      "source": [
        "# W&B Logging and Finish"
      ]
    },
    {
      "cell_type": "code",
      "metadata": {
        "colab": {
          "base_uri": "https://localhost:8080/",
          "height": 424
        },
        "id": "9yt-cob54ZzN",
        "outputId": "e7a287e1-e9db-407a-f38a-fefb206e0716"
      },
      "source": [
        "recommender_results"
      ],
      "execution_count": 222,
      "outputs": [
        {
          "output_type": "execute_result",
          "data": {
            "text/html": [
              "<div>\n",
              "<style scoped>\n",
              "    .dataframe tbody tr th:only-of-type {\n",
              "        vertical-align: middle;\n",
              "    }\n",
              "\n",
              "    .dataframe tbody tr th {\n",
              "        vertical-align: top;\n",
              "    }\n",
              "\n",
              "    .dataframe thead th {\n",
              "        text-align: right;\n",
              "    }\n",
              "</style>\n",
              "<table border=\"1\" class=\"dataframe\">\n",
              "  <thead>\n",
              "    <tr style=\"text-align: right;\">\n",
              "      <th></th>\n",
              "      <th>reference</th>\n",
              "      <th>id</th>\n",
              "      <th>method</th>\n",
              "      <th>similar</th>\n",
              "      <th>score_div_max</th>\n",
              "      <th>score</th>\n",
              "    </tr>\n",
              "  </thead>\n",
              "  <tbody>\n",
              "    <tr>\n",
              "      <th>0</th>\n",
              "      <td>We'll Be Together Again</td>\n",
              "      <td>0.0</td>\n",
              "      <td>tfidf</td>\n",
              "      <td>Don't Know Why</td>\n",
              "      <td>1.000000</td>\n",
              "      <td>0.281678</td>\n",
              "    </tr>\n",
              "    <tr>\n",
              "      <th>1</th>\n",
              "      <td>We'll Be Together Again</td>\n",
              "      <td>1.0</td>\n",
              "      <td>tfidf</td>\n",
              "      <td>Street Of Dreams</td>\n",
              "      <td>1.000000</td>\n",
              "      <td>0.422561</td>\n",
              "    </tr>\n",
              "    <tr>\n",
              "      <th>2</th>\n",
              "      <td>We'll Be Together Again</td>\n",
              "      <td>2.0</td>\n",
              "      <td>tfidf</td>\n",
              "      <td>Don't Blame Me</td>\n",
              "      <td>0.913268</td>\n",
              "      <td>0.257248</td>\n",
              "    </tr>\n",
              "    <tr>\n",
              "      <th>3</th>\n",
              "      <td>We'll Be Together Again</td>\n",
              "      <td>3.0</td>\n",
              "      <td>tfidf</td>\n",
              "      <td>Straight Street</td>\n",
              "      <td>0.890178</td>\n",
              "      <td>0.250744</td>\n",
              "    </tr>\n",
              "    <tr>\n",
              "      <th>4</th>\n",
              "      <td>We'll Be Together Again</td>\n",
              "      <td>4.0</td>\n",
              "      <td>tfidf</td>\n",
              "      <td>Goodbye</td>\n",
              "      <td>0.821184</td>\n",
              "      <td>0.347000</td>\n",
              "    </tr>\n",
              "    <tr>\n",
              "      <th>...</th>\n",
              "      <td>...</td>\n",
              "      <td>...</td>\n",
              "      <td>...</td>\n",
              "      <td>...</td>\n",
              "      <td>...</td>\n",
              "      <td>...</td>\n",
              "    </tr>\n",
              "    <tr>\n",
              "      <th>58</th>\n",
              "      <td>We'll Be Together Again</td>\n",
              "      <td>NaN</td>\n",
              "      <td>doc2vec</td>\n",
              "      <td>NaN</td>\n",
              "      <td>NaN</td>\n",
              "      <td>NaN</td>\n",
              "    </tr>\n",
              "    <tr>\n",
              "      <th>59</th>\n",
              "      <td>We'll Be Together Again</td>\n",
              "      <td>NaN</td>\n",
              "      <td>doc2vec</td>\n",
              "      <td>NaN</td>\n",
              "      <td>NaN</td>\n",
              "      <td>NaN</td>\n",
              "    </tr>\n",
              "    <tr>\n",
              "      <th>60</th>\n",
              "      <td>We'll Be Together Again</td>\n",
              "      <td>NaN</td>\n",
              "      <td>doc2vec</td>\n",
              "      <td>NaN</td>\n",
              "      <td>NaN</td>\n",
              "      <td>NaN</td>\n",
              "    </tr>\n",
              "    <tr>\n",
              "      <th>61</th>\n",
              "      <td>We'll Be Together Again</td>\n",
              "      <td>NaN</td>\n",
              "      <td>doc2vec</td>\n",
              "      <td>NaN</td>\n",
              "      <td>NaN</td>\n",
              "      <td>NaN</td>\n",
              "    </tr>\n",
              "    <tr>\n",
              "      <th>62</th>\n",
              "      <td>We'll Be Together Again</td>\n",
              "      <td>NaN</td>\n",
              "      <td>doc2vec</td>\n",
              "      <td>NaN</td>\n",
              "      <td>NaN</td>\n",
              "      <td>NaN</td>\n",
              "    </tr>\n",
              "  </tbody>\n",
              "</table>\n",
              "<p>178 rows × 6 columns</p>\n",
              "</div>"
            ],
            "text/plain": [
              "                  reference   id  ... score_div_max     score\n",
              "0   We'll Be Together Again  0.0  ...      1.000000  0.281678\n",
              "1   We'll Be Together Again  1.0  ...      1.000000  0.422561\n",
              "2   We'll Be Together Again  2.0  ...      0.913268  0.257248\n",
              "3   We'll Be Together Again  3.0  ...      0.890178  0.250744\n",
              "4   We'll Be Together Again  4.0  ...      0.821184  0.347000\n",
              "..                      ...  ...  ...           ...       ...\n",
              "58  We'll Be Together Again  NaN  ...           NaN       NaN\n",
              "59  We'll Be Together Again  NaN  ...           NaN       NaN\n",
              "60  We'll Be Together Again  NaN  ...           NaN       NaN\n",
              "61  We'll Be Together Again  NaN  ...           NaN       NaN\n",
              "62  We'll Be Together Again  NaN  ...           NaN       NaN\n",
              "\n",
              "[178 rows x 6 columns]"
            ]
          },
          "metadata": {},
          "execution_count": 222
        }
      ]
    },
    {
      "cell_type": "code",
      "metadata": {
        "id": "Qm7BPMM_ihop",
        "colab": {
          "base_uri": "https://localhost:8080/",
          "height": 791
        },
        "outputId": "1a11e19d-fed4-4d78-ac73-224e164f4c86"
      },
      "source": [
        "recommender_results = recommender_results.reset_index()\n",
        "\n",
        "results = recommender_results.pivot(index=['index', 'reference', 'similar'], columns='method', values=['id', 'score', 'score_div_max'])\n",
        "results.columns = ['_'.join(col) for col in results.columns]\n",
        "results = results.reset_index()\n",
        "results"
      ],
      "execution_count": 223,
      "outputs": [
        {
          "output_type": "execute_result",
          "data": {
            "text/html": [
              "<div>\n",
              "<style scoped>\n",
              "    .dataframe tbody tr th:only-of-type {\n",
              "        vertical-align: middle;\n",
              "    }\n",
              "\n",
              "    .dataframe tbody tr th {\n",
              "        vertical-align: top;\n",
              "    }\n",
              "\n",
              "    .dataframe thead th {\n",
              "        text-align: right;\n",
              "    }\n",
              "</style>\n",
              "<table border=\"1\" class=\"dataframe\">\n",
              "  <thead>\n",
              "    <tr style=\"text-align: right;\">\n",
              "      <th></th>\n",
              "      <th>index</th>\n",
              "      <th>reference</th>\n",
              "      <th>similar</th>\n",
              "      <th>id_doc2vec</th>\n",
              "      <th>id_lsi</th>\n",
              "      <th>id_tfidf</th>\n",
              "      <th>score_doc2vec</th>\n",
              "      <th>score_lsi</th>\n",
              "      <th>score_tfidf</th>\n",
              "      <th>score_div_max_doc2vec</th>\n",
              "      <th>score_div_max_lsi</th>\n",
              "      <th>score_div_max_tfidf</th>\n",
              "    </tr>\n",
              "  </thead>\n",
              "  <tbody>\n",
              "    <tr>\n",
              "      <th>0</th>\n",
              "      <td>0</td>\n",
              "      <td>We'll Be Together Again</td>\n",
              "      <td>Begin The Beguine</td>\n",
              "      <td>0.0</td>\n",
              "      <td>0.0</td>\n",
              "      <td>NaN</td>\n",
              "      <td>0.780476</td>\n",
              "      <td>0.780476</td>\n",
              "      <td>NaN</td>\n",
              "      <td>1.000000</td>\n",
              "      <td>1.000000</td>\n",
              "      <td>NaN</td>\n",
              "    </tr>\n",
              "    <tr>\n",
              "      <th>1</th>\n",
              "      <td>0</td>\n",
              "      <td>We'll Be Together Again</td>\n",
              "      <td>Don't Know Why</td>\n",
              "      <td>NaN</td>\n",
              "      <td>NaN</td>\n",
              "      <td>0.0</td>\n",
              "      <td>NaN</td>\n",
              "      <td>NaN</td>\n",
              "      <td>0.281678</td>\n",
              "      <td>NaN</td>\n",
              "      <td>NaN</td>\n",
              "      <td>1.000000</td>\n",
              "    </tr>\n",
              "    <tr>\n",
              "      <th>2</th>\n",
              "      <td>1</td>\n",
              "      <td>We'll Be Together Again</td>\n",
              "      <td>Street Of Dreams</td>\n",
              "      <td>1.0</td>\n",
              "      <td>1.0</td>\n",
              "      <td>1.0</td>\n",
              "      <td>0.931603</td>\n",
              "      <td>0.931603</td>\n",
              "      <td>0.422561</td>\n",
              "      <td>1.000000</td>\n",
              "      <td>1.000000</td>\n",
              "      <td>1.000000</td>\n",
              "    </tr>\n",
              "    <tr>\n",
              "      <th>3</th>\n",
              "      <td>2</td>\n",
              "      <td>We'll Be Together Again</td>\n",
              "      <td>Darn That Dream</td>\n",
              "      <td>2.0</td>\n",
              "      <td>2.0</td>\n",
              "      <td>NaN</td>\n",
              "      <td>0.747273</td>\n",
              "      <td>0.747273</td>\n",
              "      <td>NaN</td>\n",
              "      <td>0.967686</td>\n",
              "      <td>0.967686</td>\n",
              "      <td>NaN</td>\n",
              "    </tr>\n",
              "    <tr>\n",
              "      <th>4</th>\n",
              "      <td>2</td>\n",
              "      <td>We'll Be Together Again</td>\n",
              "      <td>Don't Blame Me</td>\n",
              "      <td>NaN</td>\n",
              "      <td>NaN</td>\n",
              "      <td>2.0</td>\n",
              "      <td>NaN</td>\n",
              "      <td>NaN</td>\n",
              "      <td>0.257248</td>\n",
              "      <td>NaN</td>\n",
              "      <td>NaN</td>\n",
              "      <td>0.913268</td>\n",
              "    </tr>\n",
              "    <tr>\n",
              "      <th>...</th>\n",
              "      <td>...</td>\n",
              "      <td>...</td>\n",
              "      <td>...</td>\n",
              "      <td>...</td>\n",
              "      <td>...</td>\n",
              "      <td>...</td>\n",
              "      <td>...</td>\n",
              "      <td>...</td>\n",
              "      <td>...</td>\n",
              "      <td>...</td>\n",
              "      <td>...</td>\n",
              "      <td>...</td>\n",
              "    </tr>\n",
              "    <tr>\n",
              "      <th>99</th>\n",
              "      <td>58</td>\n",
              "      <td>We'll Be Together Again</td>\n",
              "      <td>NaN</td>\n",
              "      <td>NaN</td>\n",
              "      <td>NaN</td>\n",
              "      <td>NaN</td>\n",
              "      <td>NaN</td>\n",
              "      <td>NaN</td>\n",
              "      <td>NaN</td>\n",
              "      <td>NaN</td>\n",
              "      <td>NaN</td>\n",
              "      <td>NaN</td>\n",
              "    </tr>\n",
              "    <tr>\n",
              "      <th>100</th>\n",
              "      <td>59</td>\n",
              "      <td>We'll Be Together Again</td>\n",
              "      <td>NaN</td>\n",
              "      <td>NaN</td>\n",
              "      <td>NaN</td>\n",
              "      <td>NaN</td>\n",
              "      <td>NaN</td>\n",
              "      <td>NaN</td>\n",
              "      <td>NaN</td>\n",
              "      <td>NaN</td>\n",
              "      <td>NaN</td>\n",
              "      <td>NaN</td>\n",
              "    </tr>\n",
              "    <tr>\n",
              "      <th>101</th>\n",
              "      <td>60</td>\n",
              "      <td>We'll Be Together Again</td>\n",
              "      <td>NaN</td>\n",
              "      <td>NaN</td>\n",
              "      <td>NaN</td>\n",
              "      <td>NaN</td>\n",
              "      <td>NaN</td>\n",
              "      <td>NaN</td>\n",
              "      <td>NaN</td>\n",
              "      <td>NaN</td>\n",
              "      <td>NaN</td>\n",
              "      <td>NaN</td>\n",
              "    </tr>\n",
              "    <tr>\n",
              "      <th>102</th>\n",
              "      <td>61</td>\n",
              "      <td>We'll Be Together Again</td>\n",
              "      <td>NaN</td>\n",
              "      <td>NaN</td>\n",
              "      <td>NaN</td>\n",
              "      <td>NaN</td>\n",
              "      <td>NaN</td>\n",
              "      <td>NaN</td>\n",
              "      <td>NaN</td>\n",
              "      <td>NaN</td>\n",
              "      <td>NaN</td>\n",
              "      <td>NaN</td>\n",
              "    </tr>\n",
              "    <tr>\n",
              "      <th>103</th>\n",
              "      <td>62</td>\n",
              "      <td>We'll Be Together Again</td>\n",
              "      <td>NaN</td>\n",
              "      <td>NaN</td>\n",
              "      <td>NaN</td>\n",
              "      <td>NaN</td>\n",
              "      <td>NaN</td>\n",
              "      <td>NaN</td>\n",
              "      <td>NaN</td>\n",
              "      <td>NaN</td>\n",
              "      <td>NaN</td>\n",
              "      <td>NaN</td>\n",
              "    </tr>\n",
              "  </tbody>\n",
              "</table>\n",
              "<p>104 rows × 12 columns</p>\n",
              "</div>"
            ],
            "text/plain": [
              "     index                reference  ... score_div_max_lsi  score_div_max_tfidf\n",
              "0        0  We'll Be Together Again  ...          1.000000                  NaN\n",
              "1        0  We'll Be Together Again  ...               NaN             1.000000\n",
              "2        1  We'll Be Together Again  ...          1.000000             1.000000\n",
              "3        2  We'll Be Together Again  ...          0.967686                  NaN\n",
              "4        2  We'll Be Together Again  ...               NaN             0.913268\n",
              "..     ...                      ...  ...               ...                  ...\n",
              "99      58  We'll Be Together Again  ...               NaN                  NaN\n",
              "100     59  We'll Be Together Again  ...               NaN                  NaN\n",
              "101     60  We'll Be Together Again  ...               NaN                  NaN\n",
              "102     61  We'll Be Together Again  ...               NaN                  NaN\n",
              "103     62  We'll Be Together Again  ...               NaN                  NaN\n",
              "\n",
              "[104 rows x 12 columns]"
            ]
          },
          "metadata": {},
          "execution_count": 223
        }
      ]
    },
    {
      "cell_type": "code",
      "metadata": {
        "id": "ziq-dZ16Sdgg"
      },
      "source": [
        "if use_wandb:\n",
        "  table = wandb.Table(dataframe=results)\n",
        "  wandb.log({\"recommender results\": results})"
      ],
      "execution_count": 224,
      "outputs": []
    },
    {
      "cell_type": "code",
      "metadata": {
        "id": "YMUDRHkm0aMV"
      },
      "source": [
        "if use_wandb:\n",
        "  wandb.finish()"
      ],
      "execution_count": 225,
      "outputs": []
    },
    {
      "cell_type": "code",
      "metadata": {
        "id": "Vn_SFyKt0bYx"
      },
      "source": [
        ""
      ],
      "execution_count": 225,
      "outputs": []
    }
  ]
}