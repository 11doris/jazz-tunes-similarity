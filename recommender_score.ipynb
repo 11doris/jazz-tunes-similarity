{
  "nbformat": 4,
  "nbformat_minor": 0,
  "metadata": {
    "colab": {
      "name": "recommender_score",
      "provenance": [],
      "authorship_tag": "ABX9TyPak3WfvyiLT+TJZaloxTVh",
      "include_colab_link": true
    },
    "kernelspec": {
      "name": "python3",
      "display_name": "Python 3"
    },
    "language_info": {
      "name": "python"
    },
    "accelerator": "TPU"
  },
  "cells": [
    {
      "cell_type": "markdown",
      "metadata": {
        "id": "view-in-github",
        "colab_type": "text"
      },
      "source": [
        "<a href=\"https://colab.research.google.com/github/11doris/jazz-maestro/blob/colab_word_embeddings/recommender_score.ipynb\" target=\"_parent\"><img src=\"https://colab.research.google.com/assets/colab-badge.svg\" alt=\"Open In Colab\"/></a>"
      ]
    },
    {
      "cell_type": "markdown",
      "metadata": {
        "id": "YGhakKpa8Dtf"
      },
      "source": [
        "# Sections as Input"
      ]
    },
    {
      "cell_type": "code",
      "metadata": {
        "colab": {
          "base_uri": "https://localhost:8080/"
        },
        "id": "dm5QehpXxo31",
        "outputId": "4044b73d-de47-46ce-d124-13f899dbc009"
      },
      "source": [
        "pip install wandb"
      ],
      "execution_count": 1,
      "outputs": [
        {
          "output_type": "stream",
          "name": "stdout",
          "text": [
            "Requirement already satisfied: wandb in /usr/local/lib/python3.7/dist-packages (0.12.7)\n",
            "Requirement already satisfied: pathtools in /usr/local/lib/python3.7/dist-packages (from wandb) (0.1.2)\n",
            "Requirement already satisfied: yaspin>=1.0.0 in /usr/local/lib/python3.7/dist-packages (from wandb) (2.1.0)\n",
            "Requirement already satisfied: configparser>=3.8.1 in /usr/local/lib/python3.7/dist-packages (from wandb) (5.1.0)\n",
            "Requirement already satisfied: sentry-sdk>=1.0.0 in /usr/local/lib/python3.7/dist-packages (from wandb) (1.5.0)\n",
            "Requirement already satisfied: docker-pycreds>=0.4.0 in /usr/local/lib/python3.7/dist-packages (from wandb) (0.4.0)\n",
            "Requirement already satisfied: GitPython>=1.0.0 in /usr/local/lib/python3.7/dist-packages (from wandb) (3.1.24)\n",
            "Requirement already satisfied: six>=1.13.0 in /usr/local/lib/python3.7/dist-packages (from wandb) (1.15.0)\n",
            "Requirement already satisfied: requests<3,>=2.0.0 in /usr/local/lib/python3.7/dist-packages (from wandb) (2.23.0)\n",
            "Requirement already satisfied: protobuf>=3.12.0 in /usr/local/lib/python3.7/dist-packages (from wandb) (3.17.3)\n",
            "Requirement already satisfied: PyYAML in /usr/local/lib/python3.7/dist-packages (from wandb) (3.13)\n",
            "Requirement already satisfied: shortuuid>=0.5.0 in /usr/local/lib/python3.7/dist-packages (from wandb) (1.0.8)\n",
            "Requirement already satisfied: subprocess32>=3.5.3 in /usr/local/lib/python3.7/dist-packages (from wandb) (3.5.4)\n",
            "Requirement already satisfied: psutil>=5.0.0 in /usr/local/lib/python3.7/dist-packages (from wandb) (5.4.8)\n",
            "Requirement already satisfied: promise<3,>=2.0 in /usr/local/lib/python3.7/dist-packages (from wandb) (2.3)\n",
            "Requirement already satisfied: python-dateutil>=2.6.1 in /usr/local/lib/python3.7/dist-packages (from wandb) (2.8.2)\n",
            "Requirement already satisfied: Click!=8.0.0,>=7.0 in /usr/local/lib/python3.7/dist-packages (from wandb) (7.1.2)\n",
            "Requirement already satisfied: gitdb<5,>=4.0.1 in /usr/local/lib/python3.7/dist-packages (from GitPython>=1.0.0->wandb) (4.0.9)\n",
            "Requirement already satisfied: typing-extensions>=3.7.4.3 in /usr/local/lib/python3.7/dist-packages (from GitPython>=1.0.0->wandb) (3.10.0.2)\n",
            "Requirement already satisfied: smmap<6,>=3.0.1 in /usr/local/lib/python3.7/dist-packages (from gitdb<5,>=4.0.1->GitPython>=1.0.0->wandb) (5.0.0)\n",
            "Requirement already satisfied: idna<3,>=2.5 in /usr/local/lib/python3.7/dist-packages (from requests<3,>=2.0.0->wandb) (2.10)\n",
            "Requirement already satisfied: certifi>=2017.4.17 in /usr/local/lib/python3.7/dist-packages (from requests<3,>=2.0.0->wandb) (2021.10.8)\n",
            "Requirement already satisfied: chardet<4,>=3.0.2 in /usr/local/lib/python3.7/dist-packages (from requests<3,>=2.0.0->wandb) (3.0.4)\n",
            "Requirement already satisfied: urllib3!=1.25.0,!=1.25.1,<1.26,>=1.21.1 in /usr/local/lib/python3.7/dist-packages (from requests<3,>=2.0.0->wandb) (1.24.3)\n",
            "Requirement already satisfied: termcolor<2.0.0,>=1.1.0 in /usr/local/lib/python3.7/dist-packages (from yaspin>=1.0.0->wandb) (1.1.0)\n"
          ]
        }
      ]
    },
    {
      "cell_type": "code",
      "metadata": {
        "colab": {
          "base_uri": "https://localhost:8080/"
        },
        "id": "HZG8BDT-xrv3",
        "outputId": "abbca25d-0a81-462c-bc2c-188e7935211d"
      },
      "source": [
        "!wandb login"
      ],
      "execution_count": 2,
      "outputs": [
        {
          "output_type": "stream",
          "name": "stdout",
          "text": [
            "\u001b[34m\u001b[1mwandb\u001b[0m: Currently logged in as: \u001b[33mdoris\u001b[0m (use `wandb login --relogin` to force relogin)\n"
          ]
        }
      ]
    },
    {
      "cell_type": "code",
      "metadata": {
        "id": "WHZBzAXjxz1J"
      },
      "source": [
        "import wandb"
      ],
      "execution_count": 3,
      "outputs": []
    },
    {
      "cell_type": "code",
      "metadata": {
        "colab": {
          "base_uri": "https://localhost:8080/"
        },
        "id": "MUy1ta4_782n",
        "outputId": "83255963-7e73-4a0c-8971-a2670fc3dce3"
      },
      "source": [
        "!pip uninstall gensim -y"
      ],
      "execution_count": 4,
      "outputs": [
        {
          "output_type": "stream",
          "name": "stdout",
          "text": [
            "Found existing installation: gensim 4.1.2\n",
            "Uninstalling gensim-4.1.2:\n",
            "  Successfully uninstalled gensim-4.1.2\n"
          ]
        }
      ]
    },
    {
      "cell_type": "code",
      "metadata": {
        "colab": {
          "base_uri": "https://localhost:8080/"
        },
        "id": "oAroxmvO8GQj",
        "outputId": "e62687e7-ad8e-46aa-ed75-11308d5fa129"
      },
      "source": [
        "!pip install gensim"
      ],
      "execution_count": 5,
      "outputs": [
        {
          "output_type": "stream",
          "name": "stdout",
          "text": [
            "Collecting gensim\n",
            "  Using cached gensim-4.1.2-cp37-cp37m-manylinux_2_12_x86_64.manylinux2010_x86_64.whl (24.1 MB)\n",
            "Requirement already satisfied: numpy>=1.17.0 in /usr/local/lib/python3.7/dist-packages (from gensim) (1.19.5)\n",
            "Requirement already satisfied: scipy>=0.18.1 in /usr/local/lib/python3.7/dist-packages (from gensim) (1.4.1)\n",
            "Requirement already satisfied: smart-open>=1.8.1 in /usr/local/lib/python3.7/dist-packages (from gensim) (5.2.1)\n",
            "Installing collected packages: gensim\n",
            "Successfully installed gensim-4.1.2\n"
          ]
        }
      ]
    },
    {
      "cell_type": "code",
      "metadata": {
        "id": "6SZ0zrKX8H-D"
      },
      "source": [
        "import gensim\n",
        "from sklearn.manifold import TSNE\n",
        "import matplotlib.pyplot as plt\n",
        "import pprint\n",
        "import pandas as pd\n",
        "import numpy as np\n",
        "from collections import Counter\n",
        "import plotly.express as px\n",
        "from tqdm import tqdm \n",
        "from gensim.models.doc2vec import Doc2Vec\n",
        "from gensim.models.tfidfmodel import TfidfModel\n",
        "from gensim.models.lsimodel import LsiModel\n",
        "from gensim.models import CoherenceModel\n",
        "from gensim import corpora\n",
        "from gensim import similarities\n",
        "import pickle\n",
        "import os"
      ],
      "execution_count": 6,
      "outputs": []
    },
    {
      "cell_type": "code",
      "metadata": {
        "id": "znWar-PK8KHT"
      },
      "source": [
        "import logging\n",
        "logging.basicConfig(format='%(asctime)s : %(levelname)s : %(message)s', level=logging.INFO)"
      ],
      "execution_count": 7,
      "outputs": []
    },
    {
      "cell_type": "code",
      "metadata": {
        "colab": {
          "base_uri": "https://localhost:8080/"
        },
        "id": "kjCf_Abf8MCc",
        "outputId": "30a68238-7a95-4e87-cd2c-b19a7599d1b5"
      },
      "source": [
        "print(gensim.__version__)"
      ],
      "execution_count": 8,
      "outputs": [
        {
          "output_type": "stream",
          "name": "stdout",
          "text": [
            "4.1.2\n"
          ]
        }
      ]
    },
    {
      "cell_type": "code",
      "metadata": {
        "id": "_aEonlx-CT6r"
      },
      "source": [
        "!rm data.csv"
      ],
      "execution_count": 9,
      "outputs": []
    },
    {
      "cell_type": "markdown",
      "metadata": {
        "id": "Nk5pPZqk0Pn7"
      },
      "source": [
        "# Configuration\n"
      ]
    },
    {
      "cell_type": "code",
      "metadata": {
        "id": "wcZ18xhgU7MZ"
      },
      "source": [
        "use_wandb = False"
      ],
      "execution_count": 10,
      "outputs": []
    },
    {
      "cell_type": "code",
      "metadata": {
        "id": "GfQbJQmexlxI"
      },
      "source": [
        "chords_repeated = 'rep' \n",
        "chords_preprocessing = 'rootAndDegreesPlus'"
      ],
      "execution_count": 11,
      "outputs": []
    },
    {
      "cell_type": "code",
      "metadata": {
        "id": "buoyWNl0F48Y"
      },
      "source": [
        "ngrams_for_input = [2]"
      ],
      "execution_count": 12,
      "outputs": []
    },
    {
      "cell_type": "code",
      "metadata": {
        "id": "K7qB2_sBvKpB"
      },
      "source": [
        "input_files = {\n",
        "    'sections': {\n",
        "        'rep': {\n",
        "            # M7 and 6 reduced to major triad, m7 reduced to m, dominant 7, m7b5, diminished, and all (b5) left as they are.\n",
        "            'rootAndDegreesPlus': '17djlZRWFSUCviOxRTOF-nwbbZqU5gUP9',\n",
        "            'rootAndDegrees7': '1lQTBMYk7Ui_mbOopUTjOs4MV_4c1a8bO',\n",
        "            'rootAndDegreesSimplified': '1lVm6r0T3i1hbyZqPJXNKf90uh14MOKkb'\n",
        "        },\n",
        "    },\n",
        "    'tunes': {\n",
        "        'rep': {\n",
        "            'rootAndDegreesPlus': '',\n",
        "            'rootAndDegrees7': '',\n",
        "            'rootAndDegreesSimplified': '',\n",
        "        },\n",
        "        'norep': {\n",
        "            'rootAndDegreesPlus': '',\n",
        "            'rootAndDegrees7': '',\n",
        "            'rootAndDegreesSimplified': '',\n",
        "        }\n",
        "    }\n",
        "}"
      ],
      "execution_count": 13,
      "outputs": []
    },
    {
      "cell_type": "code",
      "metadata": {
        "colab": {
          "base_uri": "https://localhost:8080/"
        },
        "id": "lM6eaQwnyWD3",
        "outputId": "7e35217c-bbae-4eec-8b7e-bcab1685b5b4"
      },
      "source": [
        "tunes_eval_list = [\n",
        "  \"Sweet Sue, Just You\",\n",
        "  \"These Foolish Things\", \n",
        "  \"Blue Moon\",\n",
        "  \"All Of Me\",\n",
        "  \"All God's Chillun Got Rhythm\",\n",
        "  \"I Got Rhythm\",\n",
        "  \"Bye Bye Blackbird\",\n",
        "  \"Old Fashioned Love\",\n",
        "  \"Dinah\",\n",
        "  \"Honeysuckle Rose\",\n",
        "  \"Misty\",\n",
        "  \"We'll Be Together Again\",\n",
        "  \"East Of The Sun\",\n",
        "  \"Sophisticated Lady\",\n",
        "  \"Perdido\",\n",
        "  \"Naima\",\n",
        "  \"Call Me Irresponsible\",\n",
        "  \"Corcovado\",\n",
        "  \"Footprints\",\n",
        "  \"Giant Steps\",\n",
        "  \"But Beautiful\",\n",
        "  \"Rockin' Chair\",\n",
        "  \"Blood Count\",\n",
        "  \"After You've Gone\",\n",
        "]\n",
        "\n",
        "tunes_eval_list = sorted(tunes_eval_list)\n",
        "tunes_eval_list"
      ],
      "execution_count": 14,
      "outputs": [
        {
          "output_type": "execute_result",
          "data": {
            "text/plain": [
              "[\"After You've Gone\",\n",
              " \"All God's Chillun Got Rhythm\",\n",
              " 'All Of Me',\n",
              " 'Blood Count',\n",
              " 'Blue Moon',\n",
              " 'But Beautiful',\n",
              " 'Bye Bye Blackbird',\n",
              " 'Call Me Irresponsible',\n",
              " 'Corcovado',\n",
              " 'Dinah',\n",
              " 'East Of The Sun',\n",
              " 'Footprints',\n",
              " 'Giant Steps',\n",
              " 'Honeysuckle Rose',\n",
              " 'I Got Rhythm',\n",
              " 'Misty',\n",
              " 'Naima',\n",
              " 'Old Fashioned Love',\n",
              " 'Perdido',\n",
              " \"Rockin' Chair\",\n",
              " 'Sophisticated Lady',\n",
              " 'Sweet Sue, Just You',\n",
              " 'These Foolish Things',\n",
              " \"We'll Be Together Again\"]"
            ]
          },
          "metadata": {},
          "execution_count": 14
        }
      ]
    },
    {
      "cell_type": "code",
      "metadata": {
        "id": "uiI0h4ef0PCD"
      },
      "source": [
        "contrafacts = {\n",
        "               \"26-2\": \"Confirmation\",\n",
        "               \"52nd Street Theme\": \"I Got Rhythm\",\n",
        "               \"Ablution\": \"All The Things You Are\",\n",
        "               \"Anthropology\": \"I Got Rhythm\",\n",
        "               \"Ballade\": \"As Long As I Live\",\n",
        "               \"Bright Mississippi\": \"Sweet Georgia Brown\",\n",
        "               \"C.T.A.\": \"I Got Rhythm\",\n",
        "               \"Celia\": \"I Got Rhythm\",\n",
        "               \"Cottontail\": \"I Got Rhythm\",\n",
        "               \"Countdown\": \"Tune Up\",\n",
        "               \"Dewey Square\": \"Oh, Lady Be Good\",\n",
        "               \"Dexterity\": \"I Got Rhythm\",\n",
        "               \"Dig\": \"Sweet Georgia Brown\",\n",
        "               \"Donna Lee\": \"Indiana (Back Home Again In)\",\n",
        "               \"Don't Be That Way\": \"I Got Rhythm\",\n",
        "               \"Eternal Triangle\": \"I Got Rhythm\",\n",
        "               \"Evidence\": \"Just You, Just Me\",\n",
        "               \"Flintstones\": \"I Got Rhythm\",\n",
        "               \"Four On Six\": \"Summertime\",\n",
        "               \"Freight Train\": \"Blues For Alice\",\n",
        "               \"Good Bait\": \"I Got Rhythm\",\n",
        "               \"Hackensack\": \"Oh, Lady Be Good\",\n",
        "               \"Half Nelson\": \"Lady Bird\",\n",
        "               \"Hot House\": \"What Is This Thing Called Love\",\n",
        "               \"Impressions\": \"So What\",\n",
        "               \"In A Mellow Tone (In A Mellotone)\": \"Rose Room\",\n",
        "               \"In Walked Bud\": \"Blue Skies\",\n",
        "               \"Ko Ko\": \"Cherokee\",\n",
        "               \"Lennie's Pennies\": \"Pennies From Heaven\",   ## Lennie's Pennies is in minor and therefore transposed to Amin... not possible to recognize like that\n",
        "               # \"Let's Call This\": \"Honeysuckle Rose\",\n",
        "               \"Little Rootie Tootie\": \"I Got Rhythm\",\n",
        "               \"Little Willie Leaps\": \"All God's Chillun Got Rhythm\",\n",
        "               \"Lullaby Of Birdland\": \"Love Me Or Leave Me\",\n",
        "               \"Moose The Mooche\": \"I Got Rhythm\",\n",
        "               \"My Little Suede Shoes\": \"Jeepers Creepers\",\n",
        "               \"Oleo\": \"I Got Rhythm\",\n",
        "               \"Ornithology\": \"How High The Moon\",\n",
        "               \"Passport\": \"I Got Rhythm\",\n",
        "               \"Quasimodo (Theme)\": \"Embraceable You\",\n",
        "               \"Rhythm-a-ning\": \"I Got Rhythm\",\n",
        "               \"Room 608\": \"I Got Rhythm\",\n",
        "               \"Salt Peanuts\": \"I Got Rhythm\",\n",
        "               \"Satellite\": \"How High The Moon\",\n",
        "               \"Scrapple From The Apple\": \"Honeysuckle Rose\", # A section\n",
        "               \"Scrapple From The Apple\": \"I Got Rhythm\", # B section\n",
        "               #\"Segment\": \"I Got Rhythm\",\n",
        "               \"Seven Come Eleven\": \"I Got Rhythm\",\n",
        "               \"Shaw 'Nuff\": \"I Got Rhythm\",\n",
        "               \"Theme, The\": \"I Got Rhythm\",\n",
        "               \"Tour De Force\": \"Jeepers Creepers\",\n",
        "               \"Wow\": \"You Can Depend On Me\",\n",
        "               \"Yardbird Suite\": \"Rosetta\",\n",
        "\n",
        "               # following tunes are not from wikipedia:\n",
        "               \"Sweet Sue, Just You\": \"Honeysuckle Rose\",  # A section\n",
        "               # \"All Of Me\": \"Pennies From Heaven\", # bars 25-28 of All of Me are same as bars 17-20 of Pennies From Heaven, but different key!\n",
        "               \"Sweet Sue, Just You\": \"Bye Bye Blackbird\", # Bridge same\n",
        "               \"These Foolish Things\": \"Blue Moon\", # first 8 bars same\n",
        "               \"Misty\": \"Portrait Of Jennie\",\n",
        "               \"Misty\": \"September In The Rain\",\n",
        "               \"Misty\": \"I May Be Wrong\",             \n",
        "               \n",
        "}"
      ],
      "execution_count": 15,
      "outputs": []
    },
    {
      "cell_type": "markdown",
      "metadata": {
        "id": "gcexO7zK8Pn6"
      },
      "source": [
        "# Initialization\n",
        "\n",
        "## Download the Data"
      ]
    },
    {
      "cell_type": "code",
      "metadata": {
        "id": "JwVJo3Vat8iF"
      },
      "source": [
        "input_data = input_files['sections'][chords_repeated][chords_preprocessing]\n",
        "\n",
        "input_path = f\"https://docs.google.com/uc?export=download&id={input_data}\"\n",
        "data_file_name = 'data.csv'\n"
      ],
      "execution_count": 16,
      "outputs": []
    },
    {
      "cell_type": "code",
      "metadata": {
        "colab": {
          "base_uri": "https://localhost:8080/",
          "height": 36
        },
        "id": "_Dp-fijjB-pU",
        "outputId": "e2c77fbb-9fc5-4ab3-af59-0034edbe8864"
      },
      "source": [
        "input_path"
      ],
      "execution_count": 17,
      "outputs": [
        {
          "output_type": "execute_result",
          "data": {
            "application/vnd.google.colaboratory.intrinsic+json": {
              "type": "string"
            },
            "text/plain": [
              "'https://docs.google.com/uc?export=download&id=17djlZRWFSUCviOxRTOF-nwbbZqU5gUP9'"
            ]
          },
          "metadata": {},
          "execution_count": 17
        }
      ]
    },
    {
      "cell_type": "code",
      "metadata": {
        "colab": {
          "base_uri": "https://localhost:8080/"
        },
        "id": "1ZVAYUH5t9Li",
        "outputId": "d3fdf1d8-9162-417d-986c-7ae7005c4835"
      },
      "source": [
        "!wget --no-check-certificate \"$input_path\" -O \"$data_file_name\""
      ],
      "execution_count": 18,
      "outputs": [
        {
          "output_type": "stream",
          "name": "stdout",
          "text": [
            "--2021-11-23 22:12:16--  https://docs.google.com/uc?export=download&id=17djlZRWFSUCviOxRTOF-nwbbZqU5gUP9\n",
            "Resolving docs.google.com (docs.google.com)... 209.85.200.138, 209.85.200.101, 209.85.200.113, ...\n",
            "Connecting to docs.google.com (docs.google.com)|209.85.200.138|:443... connected.\n",
            "HTTP request sent, awaiting response... 302 Moved Temporarily\n",
            "Location: https://doc-0s-4c-docs.googleusercontent.com/docs/securesc/ha0ro937gcuc7l7deffksulhg5h7mbp1/nh5kjh95858eug9js7h7j8micomj1o78/1637705475000/14329102864480165501/*/17djlZRWFSUCviOxRTOF-nwbbZqU5gUP9?e=download [following]\n",
            "Warning: wildcards not supported in HTTP.\n",
            "--2021-11-23 22:12:16--  https://doc-0s-4c-docs.googleusercontent.com/docs/securesc/ha0ro937gcuc7l7deffksulhg5h7mbp1/nh5kjh95858eug9js7h7j8micomj1o78/1637705475000/14329102864480165501/*/17djlZRWFSUCviOxRTOF-nwbbZqU5gUP9?e=download\n",
            "Resolving doc-0s-4c-docs.googleusercontent.com (doc-0s-4c-docs.googleusercontent.com)... 142.250.128.132, 2607:f8b0:4001:c32::84\n",
            "Connecting to doc-0s-4c-docs.googleusercontent.com (doc-0s-4c-docs.googleusercontent.com)|142.250.128.132|:443... connected.\n",
            "HTTP request sent, awaiting response... 200 OK\n",
            "Length: 662603 (647K) [text/csv]\n",
            "Saving to: ‘data.csv’\n",
            "\n",
            "data.csv            100%[===================>] 647.07K  --.-KB/s    in 0.006s  \n",
            "\n",
            "2021-11-23 22:12:16 (98.8 MB/s) - ‘data.csv’ saved [662603/662603]\n",
            "\n"
          ]
        }
      ]
    },
    {
      "cell_type": "markdown",
      "metadata": {
        "id": "Ljs21B7h8YvC"
      },
      "source": [
        "### Read Chords Input Data"
      ]
    },
    {
      "cell_type": "code",
      "metadata": {
        "colab": {
          "base_uri": "https://localhost:8080/",
          "height": 241
        },
        "id": "B7kK418L8aac",
        "outputId": "4446bcc9-da04-4cec-e0dd-baf49ad4647d"
      },
      "source": [
        "df = pd.read_csv(data_file_name, sep='\\t', index_col=\"id\")\n",
        "df = df.reset_index()\n",
        "df.head(5)"
      ],
      "execution_count": 19,
      "outputs": [
        {
          "output_type": "execute_result",
          "data": {
            "text/html": [
              "<div>\n",
              "<style scoped>\n",
              "    .dataframe tbody tr th:only-of-type {\n",
              "        vertical-align: middle;\n",
              "    }\n",
              "\n",
              "    .dataframe tbody tr th {\n",
              "        vertical-align: top;\n",
              "    }\n",
              "\n",
              "    .dataframe thead th {\n",
              "        text-align: right;\n",
              "    }\n",
              "</style>\n",
              "<table border=\"1\" class=\"dataframe\">\n",
              "  <thead>\n",
              "    <tr style=\"text-align: right;\">\n",
              "      <th></th>\n",
              "      <th>id</th>\n",
              "      <th>file_name</th>\n",
              "      <th>title</th>\n",
              "      <th>tune_mode</th>\n",
              "      <th>tune_id</th>\n",
              "      <th>section_name</th>\n",
              "      <th>section_id</th>\n",
              "      <th>chords</th>\n",
              "    </tr>\n",
              "  </thead>\n",
              "  <tbody>\n",
              "    <tr>\n",
              "      <th>0</th>\n",
              "      <td>0</td>\n",
              "      <td>dataset/jazz1350/26-2.xml</td>\n",
              "      <td>26-2</td>\n",
              "      <td>major</td>\n",
              "      <td>0</td>\n",
              "      <td>A</td>\n",
              "      <td>1</td>\n",
              "      <td>C Eb7 G# B7 E G7 Gm C7 F G#7 C# E7 Am D7 Dm G7</td>\n",
              "    </tr>\n",
              "    <tr>\n",
              "      <th>1</th>\n",
              "      <td>1</td>\n",
              "      <td>dataset/jazz1350/26-2.xml</td>\n",
              "      <td>26-2</td>\n",
              "      <td>major</td>\n",
              "      <td>0</td>\n",
              "      <td>A</td>\n",
              "      <td>2</td>\n",
              "      <td>C Eb7 G# B7 E G7 Gm C7 F Eb7 G# B7 E G7 C</td>\n",
              "    </tr>\n",
              "    <tr>\n",
              "      <th>2</th>\n",
              "      <td>2</td>\n",
              "      <td>dataset/jazz1350/26-2.xml</td>\n",
              "      <td>26-2</td>\n",
              "      <td>major</td>\n",
              "      <td>0</td>\n",
              "      <td>B</td>\n",
              "      <td>3</td>\n",
              "      <td>Gm C7 Bm E7 A C7 F Bbm Eb7 G# Dm G7</td>\n",
              "    </tr>\n",
              "    <tr>\n",
              "      <th>3</th>\n",
              "      <td>3</td>\n",
              "      <td>dataset/jazz1350/26-2.xml</td>\n",
              "      <td>26-2</td>\n",
              "      <td>major</td>\n",
              "      <td>0</td>\n",
              "      <td>A</td>\n",
              "      <td>4</td>\n",
              "      <td>C Eb7 G# B7 E G7 Gm C7 F Eb7 G# B7 E G7 C</td>\n",
              "    </tr>\n",
              "    <tr>\n",
              "      <th>4</th>\n",
              "      <td>4</td>\n",
              "      <td>dataset/jazz1350/500 Miles High.xml</td>\n",
              "      <td>500 Miles High</td>\n",
              "      <td>minor</td>\n",
              "      <td>1</td>\n",
              "      <td>NaN</td>\n",
              "      <td>0</td>\n",
              "      <td>Am Am Cm Cm Eb Eb Em7b5 A7 Dm Dm Bm7b5 Bm7b5 B...</td>\n",
              "    </tr>\n",
              "  </tbody>\n",
              "</table>\n",
              "</div>"
            ],
            "text/plain": [
              "   id  ...                                             chords\n",
              "0   0  ...     C Eb7 G# B7 E G7 Gm C7 F G#7 C# E7 Am D7 Dm G7\n",
              "1   1  ...          C Eb7 G# B7 E G7 Gm C7 F Eb7 G# B7 E G7 C\n",
              "2   2  ...                Gm C7 Bm E7 A C7 F Bbm Eb7 G# Dm G7\n",
              "3   3  ...          C Eb7 G# B7 E G7 Gm C7 F Eb7 G# B7 E G7 C\n",
              "4   4  ...  Am Am Cm Cm Eb Eb Em7b5 A7 Dm Dm Bm7b5 Bm7b5 B...\n",
              "\n",
              "[5 rows x 8 columns]"
            ]
          },
          "metadata": {},
          "execution_count": 19
        }
      ]
    },
    {
      "cell_type": "markdown",
      "metadata": {
        "id": "OsPcEFbg8gu6"
      },
      "source": [
        "### Meta Data"
      ]
    },
    {
      "cell_type": "code",
      "metadata": {
        "colab": {
          "base_uri": "https://localhost:8080/",
          "height": 206
        },
        "id": "_62YlEVJXOCL",
        "outputId": "8a44e3ad-c0e9-45a6-fbc9-8fb90c19c4be"
      },
      "source": [
        "titles = df.loc[:, ['id', 'tune_id', 'section_id', 'section_name', 'title', 'tune_mode']]\n",
        "titles[:5]"
      ],
      "execution_count": 20,
      "outputs": [
        {
          "output_type": "execute_result",
          "data": {
            "text/html": [
              "<div>\n",
              "<style scoped>\n",
              "    .dataframe tbody tr th:only-of-type {\n",
              "        vertical-align: middle;\n",
              "    }\n",
              "\n",
              "    .dataframe tbody tr th {\n",
              "        vertical-align: top;\n",
              "    }\n",
              "\n",
              "    .dataframe thead th {\n",
              "        text-align: right;\n",
              "    }\n",
              "</style>\n",
              "<table border=\"1\" class=\"dataframe\">\n",
              "  <thead>\n",
              "    <tr style=\"text-align: right;\">\n",
              "      <th></th>\n",
              "      <th>id</th>\n",
              "      <th>tune_id</th>\n",
              "      <th>section_id</th>\n",
              "      <th>section_name</th>\n",
              "      <th>title</th>\n",
              "      <th>tune_mode</th>\n",
              "    </tr>\n",
              "  </thead>\n",
              "  <tbody>\n",
              "    <tr>\n",
              "      <th>0</th>\n",
              "      <td>0</td>\n",
              "      <td>0</td>\n",
              "      <td>1</td>\n",
              "      <td>A</td>\n",
              "      <td>26-2</td>\n",
              "      <td>major</td>\n",
              "    </tr>\n",
              "    <tr>\n",
              "      <th>1</th>\n",
              "      <td>1</td>\n",
              "      <td>0</td>\n",
              "      <td>2</td>\n",
              "      <td>A</td>\n",
              "      <td>26-2</td>\n",
              "      <td>major</td>\n",
              "    </tr>\n",
              "    <tr>\n",
              "      <th>2</th>\n",
              "      <td>2</td>\n",
              "      <td>0</td>\n",
              "      <td>3</td>\n",
              "      <td>B</td>\n",
              "      <td>26-2</td>\n",
              "      <td>major</td>\n",
              "    </tr>\n",
              "    <tr>\n",
              "      <th>3</th>\n",
              "      <td>3</td>\n",
              "      <td>0</td>\n",
              "      <td>4</td>\n",
              "      <td>A</td>\n",
              "      <td>26-2</td>\n",
              "      <td>major</td>\n",
              "    </tr>\n",
              "    <tr>\n",
              "      <th>4</th>\n",
              "      <td>4</td>\n",
              "      <td>1</td>\n",
              "      <td>0</td>\n",
              "      <td>NaN</td>\n",
              "      <td>500 Miles High</td>\n",
              "      <td>minor</td>\n",
              "    </tr>\n",
              "  </tbody>\n",
              "</table>\n",
              "</div>"
            ],
            "text/plain": [
              "   id  tune_id  section_id section_name           title tune_mode\n",
              "0   0        0           1            A            26-2     major\n",
              "1   1        0           2            A            26-2     major\n",
              "2   2        0           3            B            26-2     major\n",
              "3   3        0           4            A            26-2     major\n",
              "4   4        1           0          NaN  500 Miles High     minor"
            ]
          },
          "metadata": {},
          "execution_count": 20
        }
      ]
    },
    {
      "cell_type": "code",
      "metadata": {
        "id": "0vEOjvwt8jUu"
      },
      "source": [
        "titles_dict = titles.to_dict()\n",
        "\n",
        "sectionid_to_title = titles_dict['title']\n",
        "sectionid_to_titleid = titles_dict['tune_id']\n"
      ],
      "execution_count": 21,
      "outputs": []
    },
    {
      "cell_type": "code",
      "metadata": {
        "id": "Om7pbfnNGO_I"
      },
      "source": [
        "tunes = df.loc[:, ['tune_id', 'title']].drop_duplicates()\n",
        "tunes = tunes.set_index('tune_id').to_dict()\n",
        "titleid_to_title = tunes['title']"
      ],
      "execution_count": 22,
      "outputs": []
    },
    {
      "cell_type": "code",
      "metadata": {
        "id": "1H72Y3_d8uNu"
      },
      "source": [
        "titles_rows = titles.to_dict(orient='records')\n",
        "sectionid_to_section = []\n",
        "for i, row in enumerate(titles_rows):\n",
        "  name = f\"{row['title']}, section{row['section_id']} ({row['section_name']})\"\n",
        "  sectionid_to_section.append(name)\n",
        "  "
      ],
      "execution_count": 23,
      "outputs": []
    },
    {
      "cell_type": "code",
      "metadata": {
        "id": "HCeGUk818y8V"
      },
      "source": [
        "title_to_sectionid = {}\n",
        "\n",
        "for row in titles.iterrows():\n",
        "  title = row[1]['title']\n",
        "  if title not in title_to_sectionid:\n",
        "    title_to_sectionid[title] = [row[1]['id']]\n",
        "  else:\n",
        "    title_to_sectionid[title].append(row[1]['id'])"
      ],
      "execution_count": 24,
      "outputs": []
    },
    {
      "cell_type": "markdown",
      "metadata": {
        "id": "tHWe1mKVrF8O"
      },
      "source": [
        "### Test Data"
      ]
    },
    {
      "cell_type": "code",
      "metadata": {
        "id": "V0Bg0wJ7sBBk"
      },
      "source": [
        "tunes_eval_list = sorted(tunes_eval_list)"
      ],
      "execution_count": 25,
      "outputs": []
    },
    {
      "cell_type": "code",
      "metadata": {
        "id": "UE0AGDO_rFVo"
      },
      "source": [
        "#contrafacts_test = []\n",
        "#for reference, compare in contrafacts.items():\n",
        "#  contrafacts_test.append([title_to_sectionid[reference], title_to_sectionid[compare]])"
      ],
      "execution_count": 26,
      "outputs": []
    },
    {
      "cell_type": "markdown",
      "metadata": {
        "id": "LvQ60s_owm82"
      },
      "source": [
        "## Initialization for wandb variables"
      ]
    },
    {
      "cell_type": "code",
      "metadata": {
        "id": "fw7FHHXfwagL"
      },
      "source": [
        "recommender_results_cols = ['reference', 'id', 'method', 'similar', 'score_div_max', 'score']\n",
        "recommender_results = pd.DataFrame(columns=recommender_results_cols)"
      ],
      "execution_count": 27,
      "outputs": []
    },
    {
      "cell_type": "code",
      "metadata": {
        "id": "PfvF20G1JZMa"
      },
      "source": [
        "lsi_config = {\n",
        "    'num_topics': 200,\n",
        "}"
      ],
      "execution_count": 28,
      "outputs": []
    },
    {
      "cell_type": "code",
      "metadata": {
        "id": "eW2f6BdAJl01"
      },
      "source": [
        "doc2vec_config = {\n",
        "    'general': {\n",
        "        'chords_preprocessing': chords_preprocessing,\n",
        "        'chords_repeated': chords_repeated,\n",
        "        'document_tags': 'SectionsTunes',\n",
        "    },\n",
        "    'model': {\n",
        "        'dm': 1,\n",
        "        'vector_size': 100,\n",
        "        'window': 4,\n",
        "        'epochs': 40,\n",
        "        #'workers': 1,\n",
        "        'min_count': 1,\n",
        "        'negative': 10,\n",
        "        'sample': 0.001,\n",
        "        'seed': 42\n",
        "    }\n",
        "}"
      ],
      "execution_count": 29,
      "outputs": []
    },
    {
      "cell_type": "code",
      "metadata": {
        "id": "sxdJ97gdx70_"
      },
      "source": [
        "if use_wandb:\n",
        "  wandb.init(\n",
        "        # Set entity to specify your username or team name\n",
        "        # ex: entity=\"carey\",\n",
        "        # Set the project where this run will be logged\n",
        "        project=\"jazztunes\", \n",
        "        \n",
        "        # Track hyperparameters and run metadata\n",
        "        config={\n",
        "            \"input_data\": \"https://docs.google.com/uc?export=download&id=17djlZRWFSUCviOxRTOF-nwbbZqU5gUP9\",\n",
        "            \"ngrams_input\": ngrams_for_input,\n",
        "            \"comparison\": \"sections\",\n",
        "            \"lsi\": lsi_config,\n",
        "            \"doc2vec\": doc2vec_config\n",
        "        }\n",
        "    )"
      ],
      "execution_count": 30,
      "outputs": []
    },
    {
      "cell_type": "code",
      "metadata": {
        "id": "xHOY4TKYVN-g"
      },
      "source": [
        "if use_wandb:\n",
        "  artifact = wandb.Artifact('input_data', type='dataset')\n",
        "  artifact.add_file('data.csv')\n",
        "  wandb.log_artifact(artifact)"
      ],
      "execution_count": 31,
      "outputs": []
    },
    {
      "cell_type": "markdown",
      "metadata": {
        "id": "wox-dMcz84Bt"
      },
      "source": [
        "## Helpers functions"
      ]
    },
    {
      "cell_type": "code",
      "metadata": {
        "id": "2964REdr80Gd"
      },
      "source": [
        "def ngrams(tokens, n=2, sep='-'):\n",
        "    return [sep.join(ngram) for ngram in zip(*[tokens[i:] for i in range(n)])]"
      ],
      "execution_count": 32,
      "outputs": []
    },
    {
      "cell_type": "code",
      "metadata": {
        "id": "W42rugQPNYVP"
      },
      "source": [
        "def raw_chords_to_df(tunes):\n",
        "  tunes_chords = [item for tune in tunes for item in tune]\n",
        "  counts = Counter(tunes_chords)\n",
        "  df = pd.DataFrame(counts.items(),\n",
        "                    columns=['chord', 'count']).sort_values(by='count', ascending=False)\n",
        "\n",
        "  return df"
      ],
      "execution_count": 33,
      "outputs": []
    },
    {
      "cell_type": "markdown",
      "metadata": {
        "id": "umfsNtAdF0jM"
      },
      "source": [
        "# Data Preparation"
      ]
    },
    {
      "cell_type": "code",
      "metadata": {
        "id": "dCLwnqoVGcMw"
      },
      "source": [
        "lines = df.loc[:, 'chords'].tolist()\n",
        "data = [line.split(' ') for line in lines]"
      ],
      "execution_count": 34,
      "outputs": []
    },
    {
      "cell_type": "code",
      "metadata": {
        "colab": {
          "base_uri": "https://localhost:8080/"
        },
        "id": "g7SmApW9F3K6",
        "outputId": "688f73fa-cf7c-4064-b904-1eba18e2d065"
      },
      "source": [
        "processed_corpus = []\n",
        "for line in data:\n",
        "  tune_n = []\n",
        "  for n in ngrams_for_input:\n",
        "    tune_n.extend(ngrams(line, n=n))\n",
        "  processed_corpus.append(tune_n)\n",
        "\n",
        "for line in processed_corpus[:5]:\n",
        "  print(line)"
      ],
      "execution_count": 35,
      "outputs": [
        {
          "output_type": "stream",
          "name": "stdout",
          "text": [
            "['C-Eb7', 'Eb7-G#', 'G#-B7', 'B7-E', 'E-G7', 'G7-Gm', 'Gm-C7', 'C7-F', 'F-G#7', 'G#7-C#', 'C#-E7', 'E7-Am', 'Am-D7', 'D7-Dm', 'Dm-G7']\n",
            "['C-Eb7', 'Eb7-G#', 'G#-B7', 'B7-E', 'E-G7', 'G7-Gm', 'Gm-C7', 'C7-F', 'F-Eb7', 'Eb7-G#', 'G#-B7', 'B7-E', 'E-G7', 'G7-C']\n",
            "['Gm-C7', 'C7-Bm', 'Bm-E7', 'E7-A', 'A-C7', 'C7-F', 'F-Bbm', 'Bbm-Eb7', 'Eb7-G#', 'G#-Dm', 'Dm-G7']\n",
            "['C-Eb7', 'Eb7-G#', 'G#-B7', 'B7-E', 'E-G7', 'G7-Gm', 'Gm-C7', 'C7-F', 'F-Eb7', 'Eb7-G#', 'G#-B7', 'B7-E', 'E-G7', 'G7-C']\n",
            "['Am-Am', 'Am-Cm', 'Cm-Cm', 'Cm-Eb', 'Eb-Eb', 'Eb-Em7b5', 'Em7b5-A7', 'A7-Dm', 'Dm-Dm', 'Dm-Bm7b5', 'Bm7b5-Bm7b5', 'Bm7b5-Bbm', 'Bbm-Bbm', 'Bbm-Fm', 'Fm-Fm', 'Fm-E7', 'E7-E7', 'E7-Fm', 'Fm-Fm', 'Fm-C#', 'C#-C#', 'C#-Fm', 'Fm-Fm', 'Fm-C#', 'C#-C#']\n"
          ]
        }
      ]
    },
    {
      "cell_type": "markdown",
      "metadata": {
        "id": "Sri0K2DhNagp"
      },
      "source": [
        "#### Corpus Overview"
      ]
    },
    {
      "cell_type": "code",
      "metadata": {
        "colab": {
          "base_uri": "https://localhost:8080/"
        },
        "id": "X2ZqA7IF4ufg",
        "outputId": "07de7907-ed60-4fd9-861a-4736190e2b39"
      },
      "source": [
        "tokens = [item for l in processed_corpus for item in l]\n",
        "total_tokens = len(tokens)\n",
        "vocab_size = len(set(tokens))\n",
        "vocab_prop = 100*vocab_size/total_tokens\n",
        "\n",
        "print(f\"Total Number of tokens: {total_tokens}\")\n",
        "print(f\"Size of vocabulary: {vocab_size}\")\n",
        "print(f\"Proportion of vocabulary in corpus: {vocab_prop:.02f}%\")"
      ],
      "execution_count": 36,
      "outputs": [
        {
          "output_type": "stream",
          "name": "stdout",
          "text": [
            "Total Number of tokens: 77231\n",
            "Size of vocabulary: 1918\n",
            "Proportion of vocabulary in corpus: 2.48%\n"
          ]
        }
      ]
    },
    {
      "cell_type": "code",
      "metadata": {
        "colab": {
          "base_uri": "https://localhost:8080/",
          "height": 424
        },
        "id": "rULq3jYVNh_x",
        "outputId": "2e7dd94b-ab6f-47d1-9bf5-9792247b612f"
      },
      "source": [
        "df_chords = raw_chords_to_df(processed_corpus)\n",
        "df_chords"
      ],
      "execution_count": 37,
      "outputs": [
        {
          "output_type": "execute_result",
          "data": {
            "text/html": [
              "<div>\n",
              "<style scoped>\n",
              "    .dataframe tbody tr th:only-of-type {\n",
              "        vertical-align: middle;\n",
              "    }\n",
              "\n",
              "    .dataframe tbody tr th {\n",
              "        vertical-align: top;\n",
              "    }\n",
              "\n",
              "    .dataframe thead th {\n",
              "        text-align: right;\n",
              "    }\n",
              "</style>\n",
              "<table border=\"1\" class=\"dataframe\">\n",
              "  <thead>\n",
              "    <tr style=\"text-align: right;\">\n",
              "      <th></th>\n",
              "      <th>chord</th>\n",
              "      <th>count</th>\n",
              "    </tr>\n",
              "  </thead>\n",
              "  <tbody>\n",
              "    <tr>\n",
              "      <th>14</th>\n",
              "      <td>Dm-G7</td>\n",
              "      <td>5319</td>\n",
              "    </tr>\n",
              "    <tr>\n",
              "      <th>16</th>\n",
              "      <td>G7-C</td>\n",
              "      <td>5176</td>\n",
              "    </tr>\n",
              "    <tr>\n",
              "      <th>136</th>\n",
              "      <td>C-C</td>\n",
              "      <td>3566</td>\n",
              "    </tr>\n",
              "    <tr>\n",
              "      <th>31</th>\n",
              "      <td>A7-Dm</td>\n",
              "      <td>2070</td>\n",
              "    </tr>\n",
              "    <tr>\n",
              "      <th>66</th>\n",
              "      <td>D7-G7</td>\n",
              "      <td>1543</td>\n",
              "    </tr>\n",
              "    <tr>\n",
              "      <th>...</th>\n",
              "      <td>...</td>\n",
              "      <td>...</td>\n",
              "    </tr>\n",
              "    <tr>\n",
              "      <th>1500</th>\n",
              "      <td>F-C#</td>\n",
              "      <td>1</td>\n",
              "    </tr>\n",
              "    <tr>\n",
              "      <th>1499</th>\n",
              "      <td>Bb-D</td>\n",
              "      <td>1</td>\n",
              "    </tr>\n",
              "    <tr>\n",
              "      <th>607</th>\n",
              "      <td>G7-C7(+b5)</td>\n",
              "      <td>1</td>\n",
              "    </tr>\n",
              "    <tr>\n",
              "      <th>1496</th>\n",
              "      <td>Cm-F#m7b5</td>\n",
              "      <td>1</td>\n",
              "    </tr>\n",
              "    <tr>\n",
              "      <th>1917</th>\n",
              "      <td>E-Adim</td>\n",
              "      <td>1</td>\n",
              "    </tr>\n",
              "  </tbody>\n",
              "</table>\n",
              "<p>1918 rows × 2 columns</p>\n",
              "</div>"
            ],
            "text/plain": [
              "           chord  count\n",
              "14         Dm-G7   5319\n",
              "16          G7-C   5176\n",
              "136          C-C   3566\n",
              "31         A7-Dm   2070\n",
              "66         D7-G7   1543\n",
              "...          ...    ...\n",
              "1500        F-C#      1\n",
              "1499        Bb-D      1\n",
              "607   G7-C7(+b5)      1\n",
              "1496   Cm-F#m7b5      1\n",
              "1917      E-Adim      1\n",
              "\n",
              "[1918 rows x 2 columns]"
            ]
          },
          "metadata": {},
          "execution_count": 37
        }
      ]
    },
    {
      "cell_type": "code",
      "metadata": {
        "colab": {
          "base_uri": "https://localhost:8080/",
          "height": 560
        },
        "id": "G9fknTouNmKm",
        "outputId": "20baa488-89b2-4275-87ad-e26bdffdfe6a"
      },
      "source": [
        "df_chords = pd.DataFrame.from_dict(df_chords)\n",
        "df_chords.sort_values(by=['count'], ascending=False, inplace=True)\n",
        "df_chords_top = df_chords.query('count > 100')\n",
        "\n",
        "fig = px.bar(df_chords_top, x='chord', y='count', log_y=True)\n",
        "fig.update_layout(barmode='stack', xaxis={'categoryorder':'total descending'})\n",
        "fig.show()"
      ],
      "execution_count": 38,
      "outputs": [
        {
          "output_type": "stream",
          "name": "stderr",
          "text": [
            "2021-11-23 22:12:17,737 : INFO : NumExpr defaulting to 2 threads.\n"
          ]
        },
        {
          "output_type": "display_data",
          "data": {
            "text/html": [
              "<html>\n",
              "<head><meta charset=\"utf-8\" /></head>\n",
              "<body>\n",
              "    <div>\n",
              "            <script src=\"https://cdnjs.cloudflare.com/ajax/libs/mathjax/2.7.5/MathJax.js?config=TeX-AMS-MML_SVG\"></script><script type=\"text/javascript\">if (window.MathJax) {MathJax.Hub.Config({SVG: {font: \"STIX-Web\"}});}</script>\n",
              "                <script type=\"text/javascript\">window.PlotlyConfig = {MathJaxConfig: 'local'};</script>\n",
              "        <script src=\"https://cdn.plot.ly/plotly-latest.min.js\"></script>    \n",
              "            <div id=\"9e3a0ea4-6e59-4aa0-aaf3-6bc6fd9e388f\" class=\"plotly-graph-div\" style=\"height:525px; width:100%;\"></div>\n",
              "            <script type=\"text/javascript\">\n",
              "                \n",
              "                    window.PLOTLYENV=window.PLOTLYENV || {};\n",
              "                    \n",
              "                if (document.getElementById(\"9e3a0ea4-6e59-4aa0-aaf3-6bc6fd9e388f\")) {\n",
              "                    Plotly.newPlot(\n",
              "                        '9e3a0ea4-6e59-4aa0-aaf3-6bc6fd9e388f',\n",
              "                        [{\"alignmentgroup\": \"True\", \"hoverlabel\": {\"namelength\": 0}, \"hovertemplate\": \"chord=%{x}<br>count=%{y}\", \"legendgroup\": \"\", \"marker\": {\"color\": \"#636efa\"}, \"name\": \"\", \"offsetgroup\": \"\", \"orientation\": \"v\", \"showlegend\": false, \"textposition\": \"auto\", \"type\": \"bar\", \"x\": [\"Dm-G7\", \"G7-C\", \"C-C\", \"A7-Dm\", \"D7-G7\", \"G7-G7\", \"E7-Am\", \"Am-Am\", \"C7-F\", \"Em-A7\", \"C-G7\", \"Am-D7\", \"A7-D7\", \"Am-Dm\", \"C-A7\", \"Gm-C7\", \"C-Dm\", \"C-Am\", \"Bm7b5-E7\", \"D7-D7\", \"C-C7\", \"F-F\", \"D7-Dm\", \"C7-C7\", \"Dm-Dm\", \"C-F\", \"F-C\", \"Fm-C\", \"F-Fm\", \"G7-Dm\", \"Fm-Bb7\", \"Em7b5-A7\", \"A7-A7\", \"C-F7\", \"Ebdim-Dm\", \"G7-Em\", \"C-E7\", \"E7-A7\", \"E7-E7\", \"G#7-G7\", \"G7-C7\", \"C-D7\", \"Em-Am\", \"B7-Em\", \"C-Gm\", \"F#m7b5-B7\", \"C-C#dim\", \"C-Ebdim\", \"C#dim-Dm\", \"Bb7-C\", \"F-F#dim\", \"Bb7-A7\", \"C7-F7\", \"F#dim-C\", \"F-Bb7\", \"F#m-B7\", \"C-Em\", \"Am-E7\", \"F7-F7\", \"F7-E7\", \"G-C\", \"Dm-Em\", \"Dm7b5-G7\", \"Am-Bm7b5\", \"Bm-E7\", \"F7-Em\", \"Ebm-G#7\", \"Bb7-Em\", \"B7-E7\", \"C-B7\", \"Am-F#m7b5\", \"Dm-A7\", \"Cm-F7\", \"C-Bm7b5\", \"B7-E\", \"D7-G\", \"F-G7\", \"F7-C\", \"Dm-Fm\", \"F-Em\", \"Em-Ebdim\", \"Eb7-G#\", \"G7-Gm\", \"Dm-C\", \"G#7-Dm\", \"Bbm-Eb7\", \"C-G\", \"C-Fm\", \"Fm-Fm\", \"Dm-Ebdim\", \"Bb7-Eb\", \"D7-Am\", \"Fm-Em\", \"Bb7-Am\", \"C-Bb7\", \"B7-Bb7\", \"C#7-C\", \"E7-F\", \"Cm-Cm\", \"Em-Em\", \"F-E7\", \"Em-F\", \"F-Dm\", \"C-Cdim\", \"Dm-E7\", \"Dm-Am\", \"G7-Cm\", \"Em-Dm\", \"F7-C7\", \"B7-B7\", \"Dm-Bm7b5\", \"Am-F7\", \"Eb7-D7\", \"Eb7-Dm\", \"C-F#m7b5\", \"F7-Bb7\", \"G7-E7\"], \"xaxis\": \"x\", \"y\": [5319, 5176, 3566, 2070, 1543, 1508, 1446, 1385, 1328, 1260, 1104, 1070, 1054, 926, 918, 883, 873, 844, 818, 790, 746, 680, 647, 637, 636, 604, 533, 508, 481, 470, 444, 440, 440, 429, 428, 425, 413, 391, 375, 350, 336, 331, 326, 324, 313, 313, 302, 293, 292, 291, 282, 281, 276, 274, 272, 271, 269, 265, 260, 250, 247, 241, 236, 225, 225, 217, 210, 209, 206, 200, 196, 194, 183, 182, 181, 181, 180, 180, 178, 176, 172, 169, 166, 164, 159, 158, 152, 151, 150, 149, 149, 147, 140, 140, 135, 132, 130, 129, 128, 127, 122, 121, 120, 119, 119, 116, 115, 113, 112, 112, 108, 106, 103, 102, 102, 102, 101], \"yaxis\": \"y\"}],\n",
              "                        {\"barmode\": \"stack\", \"legend\": {\"tracegroupgap\": 0}, \"margin\": {\"t\": 60}, \"template\": {\"data\": {\"bar\": [{\"error_x\": {\"color\": \"#2a3f5f\"}, \"error_y\": {\"color\": \"#2a3f5f\"}, \"marker\": {\"line\": {\"color\": \"#E5ECF6\", \"width\": 0.5}}, \"type\": \"bar\"}], \"barpolar\": [{\"marker\": {\"line\": {\"color\": \"#E5ECF6\", \"width\": 0.5}}, \"type\": \"barpolar\"}], \"carpet\": [{\"aaxis\": {\"endlinecolor\": \"#2a3f5f\", \"gridcolor\": \"white\", \"linecolor\": \"white\", \"minorgridcolor\": \"white\", \"startlinecolor\": \"#2a3f5f\"}, \"baxis\": {\"endlinecolor\": \"#2a3f5f\", \"gridcolor\": \"white\", \"linecolor\": \"white\", \"minorgridcolor\": \"white\", \"startlinecolor\": \"#2a3f5f\"}, \"type\": \"carpet\"}], \"choropleth\": [{\"colorbar\": {\"outlinewidth\": 0, \"ticks\": \"\"}, \"type\": \"choropleth\"}], \"contour\": [{\"colorbar\": {\"outlinewidth\": 0, \"ticks\": \"\"}, \"colorscale\": [[0.0, \"#0d0887\"], [0.1111111111111111, \"#46039f\"], [0.2222222222222222, \"#7201a8\"], [0.3333333333333333, \"#9c179e\"], [0.4444444444444444, \"#bd3786\"], [0.5555555555555556, \"#d8576b\"], [0.6666666666666666, \"#ed7953\"], [0.7777777777777778, \"#fb9f3a\"], [0.8888888888888888, \"#fdca26\"], [1.0, \"#f0f921\"]], \"type\": \"contour\"}], \"contourcarpet\": [{\"colorbar\": {\"outlinewidth\": 0, \"ticks\": \"\"}, \"type\": \"contourcarpet\"}], \"heatmap\": [{\"colorbar\": {\"outlinewidth\": 0, \"ticks\": \"\"}, \"colorscale\": [[0.0, \"#0d0887\"], [0.1111111111111111, \"#46039f\"], [0.2222222222222222, \"#7201a8\"], [0.3333333333333333, \"#9c179e\"], [0.4444444444444444, \"#bd3786\"], [0.5555555555555556, \"#d8576b\"], [0.6666666666666666, \"#ed7953\"], [0.7777777777777778, \"#fb9f3a\"], [0.8888888888888888, \"#fdca26\"], [1.0, \"#f0f921\"]], \"type\": \"heatmap\"}], \"heatmapgl\": [{\"colorbar\": {\"outlinewidth\": 0, \"ticks\": \"\"}, \"colorscale\": [[0.0, \"#0d0887\"], [0.1111111111111111, \"#46039f\"], [0.2222222222222222, \"#7201a8\"], [0.3333333333333333, \"#9c179e\"], [0.4444444444444444, \"#bd3786\"], [0.5555555555555556, \"#d8576b\"], [0.6666666666666666, \"#ed7953\"], [0.7777777777777778, \"#fb9f3a\"], [0.8888888888888888, \"#fdca26\"], [1.0, \"#f0f921\"]], \"type\": \"heatmapgl\"}], \"histogram\": [{\"marker\": {\"colorbar\": {\"outlinewidth\": 0, \"ticks\": \"\"}}, \"type\": \"histogram\"}], \"histogram2d\": [{\"colorbar\": {\"outlinewidth\": 0, \"ticks\": \"\"}, \"colorscale\": [[0.0, \"#0d0887\"], [0.1111111111111111, \"#46039f\"], [0.2222222222222222, \"#7201a8\"], [0.3333333333333333, \"#9c179e\"], [0.4444444444444444, \"#bd3786\"], [0.5555555555555556, \"#d8576b\"], [0.6666666666666666, \"#ed7953\"], [0.7777777777777778, \"#fb9f3a\"], [0.8888888888888888, \"#fdca26\"], [1.0, \"#f0f921\"]], \"type\": \"histogram2d\"}], \"histogram2dcontour\": [{\"colorbar\": {\"outlinewidth\": 0, \"ticks\": \"\"}, \"colorscale\": [[0.0, \"#0d0887\"], [0.1111111111111111, \"#46039f\"], [0.2222222222222222, \"#7201a8\"], [0.3333333333333333, \"#9c179e\"], [0.4444444444444444, \"#bd3786\"], [0.5555555555555556, \"#d8576b\"], [0.6666666666666666, \"#ed7953\"], [0.7777777777777778, \"#fb9f3a\"], [0.8888888888888888, \"#fdca26\"], [1.0, \"#f0f921\"]], \"type\": \"histogram2dcontour\"}], \"mesh3d\": [{\"colorbar\": {\"outlinewidth\": 0, \"ticks\": \"\"}, \"type\": \"mesh3d\"}], \"parcoords\": [{\"line\": {\"colorbar\": {\"outlinewidth\": 0, \"ticks\": \"\"}}, \"type\": \"parcoords\"}], \"pie\": [{\"automargin\": true, \"type\": \"pie\"}], \"scatter\": [{\"marker\": {\"colorbar\": {\"outlinewidth\": 0, \"ticks\": \"\"}}, \"type\": \"scatter\"}], \"scatter3d\": [{\"line\": {\"colorbar\": {\"outlinewidth\": 0, \"ticks\": \"\"}}, \"marker\": {\"colorbar\": {\"outlinewidth\": 0, \"ticks\": \"\"}}, \"type\": \"scatter3d\"}], \"scattercarpet\": [{\"marker\": {\"colorbar\": {\"outlinewidth\": 0, \"ticks\": \"\"}}, \"type\": \"scattercarpet\"}], \"scattergeo\": [{\"marker\": {\"colorbar\": {\"outlinewidth\": 0, \"ticks\": \"\"}}, \"type\": \"scattergeo\"}], \"scattergl\": [{\"marker\": {\"colorbar\": {\"outlinewidth\": 0, \"ticks\": \"\"}}, \"type\": \"scattergl\"}], \"scattermapbox\": [{\"marker\": {\"colorbar\": {\"outlinewidth\": 0, \"ticks\": \"\"}}, \"type\": \"scattermapbox\"}], \"scatterpolar\": [{\"marker\": {\"colorbar\": {\"outlinewidth\": 0, \"ticks\": \"\"}}, \"type\": \"scatterpolar\"}], \"scatterpolargl\": [{\"marker\": {\"colorbar\": {\"outlinewidth\": 0, \"ticks\": \"\"}}, \"type\": \"scatterpolargl\"}], \"scatterternary\": [{\"marker\": {\"colorbar\": {\"outlinewidth\": 0, \"ticks\": \"\"}}, \"type\": \"scatterternary\"}], \"surface\": [{\"colorbar\": {\"outlinewidth\": 0, \"ticks\": \"\"}, \"colorscale\": [[0.0, \"#0d0887\"], [0.1111111111111111, \"#46039f\"], [0.2222222222222222, \"#7201a8\"], [0.3333333333333333, \"#9c179e\"], [0.4444444444444444, \"#bd3786\"], [0.5555555555555556, \"#d8576b\"], [0.6666666666666666, \"#ed7953\"], [0.7777777777777778, \"#fb9f3a\"], [0.8888888888888888, \"#fdca26\"], [1.0, \"#f0f921\"]], \"type\": \"surface\"}], \"table\": [{\"cells\": {\"fill\": {\"color\": \"#EBF0F8\"}, \"line\": {\"color\": \"white\"}}, \"header\": {\"fill\": {\"color\": \"#C8D4E3\"}, \"line\": {\"color\": \"white\"}}, \"type\": \"table\"}]}, \"layout\": {\"annotationdefaults\": {\"arrowcolor\": \"#2a3f5f\", \"arrowhead\": 0, \"arrowwidth\": 1}, \"coloraxis\": {\"colorbar\": {\"outlinewidth\": 0, \"ticks\": \"\"}}, \"colorscale\": {\"diverging\": [[0, \"#8e0152\"], [0.1, \"#c51b7d\"], [0.2, \"#de77ae\"], [0.3, \"#f1b6da\"], [0.4, \"#fde0ef\"], [0.5, \"#f7f7f7\"], [0.6, \"#e6f5d0\"], [0.7, \"#b8e186\"], [0.8, \"#7fbc41\"], [0.9, \"#4d9221\"], [1, \"#276419\"]], \"sequential\": [[0.0, \"#0d0887\"], [0.1111111111111111, \"#46039f\"], [0.2222222222222222, \"#7201a8\"], [0.3333333333333333, \"#9c179e\"], [0.4444444444444444, \"#bd3786\"], [0.5555555555555556, \"#d8576b\"], [0.6666666666666666, \"#ed7953\"], [0.7777777777777778, \"#fb9f3a\"], [0.8888888888888888, \"#fdca26\"], [1.0, \"#f0f921\"]], \"sequentialminus\": [[0.0, \"#0d0887\"], [0.1111111111111111, \"#46039f\"], [0.2222222222222222, \"#7201a8\"], [0.3333333333333333, \"#9c179e\"], [0.4444444444444444, \"#bd3786\"], [0.5555555555555556, \"#d8576b\"], [0.6666666666666666, \"#ed7953\"], [0.7777777777777778, \"#fb9f3a\"], [0.8888888888888888, \"#fdca26\"], [1.0, \"#f0f921\"]]}, \"colorway\": [\"#636efa\", \"#EF553B\", \"#00cc96\", \"#ab63fa\", \"#FFA15A\", \"#19d3f3\", \"#FF6692\", \"#B6E880\", \"#FF97FF\", \"#FECB52\"], \"font\": {\"color\": \"#2a3f5f\"}, \"geo\": {\"bgcolor\": \"white\", \"lakecolor\": \"white\", \"landcolor\": \"#E5ECF6\", \"showlakes\": true, \"showland\": true, \"subunitcolor\": \"white\"}, \"hoverlabel\": {\"align\": \"left\"}, \"hovermode\": \"closest\", \"mapbox\": {\"style\": \"light\"}, \"paper_bgcolor\": \"white\", \"plot_bgcolor\": \"#E5ECF6\", \"polar\": {\"angularaxis\": {\"gridcolor\": \"white\", \"linecolor\": \"white\", \"ticks\": \"\"}, \"bgcolor\": \"#E5ECF6\", \"radialaxis\": {\"gridcolor\": \"white\", \"linecolor\": \"white\", \"ticks\": \"\"}}, \"scene\": {\"xaxis\": {\"backgroundcolor\": \"#E5ECF6\", \"gridcolor\": \"white\", \"gridwidth\": 2, \"linecolor\": \"white\", \"showbackground\": true, \"ticks\": \"\", \"zerolinecolor\": \"white\"}, \"yaxis\": {\"backgroundcolor\": \"#E5ECF6\", \"gridcolor\": \"white\", \"gridwidth\": 2, \"linecolor\": \"white\", \"showbackground\": true, \"ticks\": \"\", \"zerolinecolor\": \"white\"}, \"zaxis\": {\"backgroundcolor\": \"#E5ECF6\", \"gridcolor\": \"white\", \"gridwidth\": 2, \"linecolor\": \"white\", \"showbackground\": true, \"ticks\": \"\", \"zerolinecolor\": \"white\"}}, \"shapedefaults\": {\"line\": {\"color\": \"#2a3f5f\"}}, \"ternary\": {\"aaxis\": {\"gridcolor\": \"white\", \"linecolor\": \"white\", \"ticks\": \"\"}, \"baxis\": {\"gridcolor\": \"white\", \"linecolor\": \"white\", \"ticks\": \"\"}, \"bgcolor\": \"#E5ECF6\", \"caxis\": {\"gridcolor\": \"white\", \"linecolor\": \"white\", \"ticks\": \"\"}}, \"title\": {\"x\": 0.05}, \"xaxis\": {\"automargin\": true, \"gridcolor\": \"white\", \"linecolor\": \"white\", \"ticks\": \"\", \"title\": {\"standoff\": 15}, \"zerolinecolor\": \"white\", \"zerolinewidth\": 2}, \"yaxis\": {\"automargin\": true, \"gridcolor\": \"white\", \"linecolor\": \"white\", \"ticks\": \"\", \"title\": {\"standoff\": 15}, \"zerolinecolor\": \"white\", \"zerolinewidth\": 2}}}, \"xaxis\": {\"anchor\": \"y\", \"categoryorder\": \"total descending\", \"domain\": [0.0, 1.0], \"title\": {\"text\": \"chord\"}}, \"yaxis\": {\"anchor\": \"x\", \"domain\": [0.0, 1.0], \"title\": {\"text\": \"count\"}, \"type\": \"log\"}},\n",
              "                        {\"responsive\": true}\n",
              "                    ).then(function(){\n",
              "                            \n",
              "var gd = document.getElementById('9e3a0ea4-6e59-4aa0-aaf3-6bc6fd9e388f');\n",
              "var x = new MutationObserver(function (mutations, observer) {{\n",
              "        var display = window.getComputedStyle(gd).display;\n",
              "        if (!display || display === 'none') {{\n",
              "            console.log([gd, 'removed!']);\n",
              "            Plotly.purge(gd);\n",
              "            observer.disconnect();\n",
              "        }}\n",
              "}});\n",
              "\n",
              "// Listen for the removal of the full notebook cells\n",
              "var notebookContainer = gd.closest('#notebook-container');\n",
              "if (notebookContainer) {{\n",
              "    x.observe(notebookContainer, {childList: true});\n",
              "}}\n",
              "\n",
              "// Listen for the clearing of the current output cell\n",
              "var outputEl = gd.closest('.output');\n",
              "if (outputEl) {{\n",
              "    x.observe(outputEl, {childList: true});\n",
              "}}\n",
              "\n",
              "                        })\n",
              "                };\n",
              "                \n",
              "            </script>\n",
              "        </div>\n",
              "</body>\n",
              "</html>"
            ]
          },
          "metadata": {}
        }
      ]
    },
    {
      "cell_type": "markdown",
      "metadata": {
        "id": "cG5dtDpkWwLE"
      },
      "source": [
        "Plot Distribution accoring to Zipf's Law\n",
        "\n",
        "source: https://stats.stackexchange.com/questions/331219/characterizing-fitting-word-count-data-into-zipf-power-law-lognormal"
      ]
    },
    {
      "cell_type": "code",
      "metadata": {
        "id": "tazf9QRST5NP"
      },
      "source": [
        "from collections import Counter\n",
        "\n",
        "counter_of_words = df_chords.set_index('chord').to_dict(orient='dict')\n",
        "counter_of_words = Counter(counter_of_words['count'])\n",
        "counter_of_counts = Counter(counter_of_words.values())\n",
        "\n",
        "word_counts = np.array(list(counter_of_counts.keys()))\n",
        "freq_of_word_counts = np.array(list(counter_of_counts.values()))"
      ],
      "execution_count": 39,
      "outputs": []
    },
    {
      "cell_type": "code",
      "metadata": {
        "colab": {
          "base_uri": "https://localhost:8080/",
          "height": 295
        },
        "id": "Jc80DSe7QlkV",
        "outputId": "27205e1c-20e7-4eeb-950e-ba36c12f9dca"
      },
      "source": [
        "plt.scatter(np.log(word_counts), np.log(freq_of_word_counts))\n",
        "plt.xlabel('Log of word frequency')\n",
        "plt.ylabel('Log of number of such words')\n",
        "plt.title('Power law for word frequencies')\n",
        "\n",
        "plt.savefig('plot.png')"
      ],
      "execution_count": 40,
      "outputs": [
        {
          "output_type": "display_data",
          "data": {
            "image/png": "[encoded data removed]",
            "text/plain": [
              "<Figure size 432x288 with 1 Axes>"
            ]
          },
          "metadata": {
            "needs_background": "light"
          }
        }
      ]
    },
    {
      "cell_type": "code",
      "metadata": {
        "colab": {
          "base_uri": "https://localhost:8080/"
        },
        "id": "TRQxnw3XXfit",
        "outputId": "b2af581a-fb30-4883-dbc7-e72f08f0258d"
      },
      "source": [
        "def neg_zipf_likelihood(s):\n",
        "    n = sum(freq_of_word_counts)\n",
        "    # for each word count, find the probability that a random word has such word count\n",
        "    probas = word_counts ** (-s) / np.sum(np.arange(1, n+1) **(-s))\n",
        "    log_likelihood = sum(np.log(probas) * word_counts)\n",
        "    return -log_likelihood\n",
        "\n",
        "from scipy.optimize import minimize_scalar\n",
        "s_best = minimize_scalar(neg_zipf_likelihood, [0.1, 3.0] )\n",
        "print(s_best.x)"
      ],
      "execution_count": 41,
      "outputs": [
        {
          "output_type": "stream",
          "name": "stdout",
          "text": [
            "-0.1370625078779969\n"
          ]
        }
      ]
    },
    {
      "cell_type": "code",
      "metadata": {
        "id": "a1IvM4wh7zOv"
      },
      "source": [
        "if use_wandb:\n",
        "  wandb.log(\n",
        "      {\"corpus\": {\n",
        "              \"total_tokens\": total_tokens,\n",
        "              \"vocab_size\": vocab_size,\n",
        "              \"vocab_proportion_in_corpus\": vocab_prop,\n",
        "              \"zipf_plot\": wandb.Image('plot.png'),\n",
        "              }\n",
        "      }\n",
        "  )"
      ],
      "execution_count": 42,
      "outputs": []
    },
    {
      "cell_type": "markdown",
      "metadata": {
        "id": "LeRGFeTn89Uc"
      },
      "source": [
        "# TF-IDF"
      ]
    },
    {
      "cell_type": "code",
      "metadata": {
        "colab": {
          "base_uri": "https://localhost:8080/"
        },
        "id": "pBdUdBNr9Gmu",
        "outputId": "3ce966f3-3400-4930-fb80-74120d3459fc"
      },
      "source": [
        "dictionary = corpora.Dictionary(processed_corpus)\n",
        "bow_corpus = [dictionary.doc2bow(text) for text in processed_corpus]\n",
        "tfidf = TfidfModel(bow_corpus)"
      ],
      "execution_count": 43,
      "outputs": [
        {
          "output_type": "stream",
          "name": "stderr",
          "text": [
            "2021-11-23 22:12:18,903 : INFO : adding document #0 to Dictionary(0 unique tokens: [])\n",
            "2021-11-23 22:12:19,052 : INFO : built Dictionary(1918 unique tokens: ['Am-D7', 'B7-E', 'C#-E7', 'C-Eb7', 'C7-F']...) from 5391 documents (total 77231 corpus positions)\n",
            "2021-11-23 22:12:19,054 : INFO : Dictionary lifecycle event {'msg': \"built Dictionary(1918 unique tokens: ['Am-D7', 'B7-E', 'C#-E7', 'C-Eb7', 'C7-F']...) from 5391 documents (total 77231 corpus positions)\", 'datetime': '2021-11-23T22:12:19.054862', 'gensim': '4.1.2', 'python': '3.7.12 (default, Sep 10 2021, 00:21:48) \\n[GCC 7.5.0]', 'platform': 'Linux-5.4.104+-x86_64-with-Ubuntu-18.04-bionic', 'event': 'created'}\n",
            "2021-11-23 22:12:19,129 : INFO : collecting document frequencies\n",
            "2021-11-23 22:12:19,131 : INFO : PROGRESS: processing document #0\n",
            "2021-11-23 22:12:19,157 : INFO : TfidfModel lifecycle event {'msg': 'calculated IDF weights for 5391 documents and 1918 features (56866 matrix non-zeros)', 'datetime': '2021-11-23T22:12:19.157064', 'gensim': '4.1.2', 'python': '3.7.12 (default, Sep 10 2021, 00:21:48) \\n[GCC 7.5.0]', 'platform': 'Linux-5.4.104+-x86_64-with-Ubuntu-18.04-bionic', 'event': 'initialize'}\n"
          ]
        }
      ]
    },
    {
      "cell_type": "code",
      "metadata": {
        "id": "9NK-cuax9Kqk"
      },
      "source": [
        "# dictionary.token2id"
      ],
      "execution_count": 44,
      "outputs": []
    },
    {
      "cell_type": "code",
      "metadata": {
        "id": "til5xlce_y1m"
      },
      "source": [
        "!rm -R index\n",
        "!mkdir index"
      ],
      "execution_count": 45,
      "outputs": []
    },
    {
      "cell_type": "code",
      "metadata": {
        "colab": {
          "base_uri": "https://localhost:8080/"
        },
        "id": "tn_fz2M090IM",
        "outputId": "f24620c9-d6a3-453e-eb80-78aec361a968"
      },
      "source": [
        "# Note: SparseMatrixSimilarity crashes due to lacking memory\n",
        "#from gensim.test.utils import get_tmpfile\n",
        "#index_tmpfile = get_tmpfile(\"index\")\n",
        "#index_tfidf = similarities.Similarity('/content/index/index_tfidf', bow_corpus, num_features=len(dictionary))\n",
        "\n",
        "index_tfidf = similarities.SparseMatrixSimilarity(tfidf[bow_corpus], num_features = len(dictionary))"
      ],
      "execution_count": 46,
      "outputs": [
        {
          "output_type": "stream",
          "name": "stderr",
          "text": [
            "2021-11-23 22:12:19,434 : INFO : creating sparse index\n",
            "2021-11-23 22:12:19,438 : INFO : creating sparse matrix from corpus\n",
            "2021-11-23 22:12:19,439 : INFO : PROGRESS: at document #0\n",
            "2021-11-23 22:12:19,916 : INFO : created <5391x1918 sparse matrix of type '<class 'numpy.float32'>'\n",
            "\twith 56866 stored elements in Compressed Sparse Row format>\n"
          ]
        }
      ]
    },
    {
      "cell_type": "code",
      "metadata": {
        "colab": {
          "base_uri": "https://localhost:8080/"
        },
        "id": "VRSUXNPTewqv",
        "outputId": "481c309c-8bf1-4a62-c663-f49b1fe6631c"
      },
      "source": [
        "tfidf.save('/content/index/tfidf.model')  # save model\n",
        "index_tfidf.save('/content/index/tfidf.index') #save index"
      ],
      "execution_count": 47,
      "outputs": [
        {
          "output_type": "stream",
          "name": "stderr",
          "text": [
            "2021-11-23 22:12:19,929 : INFO : TfidfModel lifecycle event {'fname_or_handle': '/content/index/tfidf.model', 'separately': 'None', 'sep_limit': 10485760, 'ignore': frozenset(), 'datetime': '2021-11-23T22:12:19.929359', 'gensim': '4.1.2', 'python': '3.7.12 (default, Sep 10 2021, 00:21:48) \\n[GCC 7.5.0]', 'platform': 'Linux-5.4.104+-x86_64-with-Ubuntu-18.04-bionic', 'event': 'saving'}\n",
            "2021-11-23 22:12:19,943 : INFO : saved /content/index/tfidf.model\n",
            "2021-11-23 22:12:19,947 : INFO : SparseMatrixSimilarity lifecycle event {'fname_or_handle': '/content/index/tfidf.index', 'separately': 'None', 'sep_limit': 10485760, 'ignore': frozenset(), 'datetime': '2021-11-23T22:12:19.947097', 'gensim': '4.1.2', 'python': '3.7.12 (default, Sep 10 2021, 00:21:48) \\n[GCC 7.5.0]', 'platform': 'Linux-5.4.104+-x86_64-with-Ubuntu-18.04-bionic', 'event': 'saving'}\n",
            "2021-11-23 22:12:19,951 : INFO : saved /content/index/tfidf.index\n"
          ]
        }
      ]
    },
    {
      "cell_type": "markdown",
      "metadata": {
        "id": "ZLK0coIu9Tv5"
      },
      "source": [
        "## Tests"
      ]
    },
    {
      "cell_type": "markdown",
      "metadata": {
        "id": "S4RKQCihX02Q"
      },
      "source": [
        "### Single Tunes"
      ]
    },
    {
      "cell_type": "code",
      "metadata": {
        "id": "Fzrj1qxwDpJT"
      },
      "source": [
        "def get_sim_scores(tunes, index, model):\n",
        "\n",
        "    df_sim = pd.DataFrame(columns=['reference_title',\n",
        "                                  'similar_title',\n",
        "                                  'ref_section', \n",
        "                                  'similar_section', \n",
        "                                  'score', \n",
        "                                  ])\n",
        "\n",
        "    for tune in tunes:\n",
        "      print()\n",
        "      print(\"-\"*50)\n",
        "      for s1 in title_to_sectionid[tune]:\n",
        "      \n",
        "          query = processed_corpus[s1]\n",
        "          query_bow = dictionary.doc2bow(query)\n",
        "\n",
        "          # perform a similarity query against the corpus\n",
        "          similarities = index[model[query_bow]]\n",
        "          sims = sorted(enumerate(similarities), key=lambda item: -item[1])\n",
        "          \n",
        "          print(s1, sectionid_to_section[s1])\n",
        "          n = 0\n",
        "          for s2, s2_score in sims:\n",
        "            \n",
        "            # store the top N best results\n",
        "            if n > 40:\n",
        "                break\n",
        "            # don't count self-similarity between sections of the same tune\n",
        "            if s2 not in title_to_sectionid[tune]:\n",
        "                n += 1\n",
        "            \n",
        "                # print(f\"\\t{s2_score:.3f} {sectionid_to_section[s2]}\")\n",
        "\n",
        "                df_sim.loc[len(df_sim)] = [tune,\n",
        "                                sectionid_to_title[s2],\n",
        "                                sectionid_to_section[s1], \n",
        "                                sectionid_to_section[s2], \n",
        "                                s2_score, \n",
        "                                ]\n",
        "    return df_sim"
      ],
      "execution_count": 48,
      "outputs": []
    },
    {
      "cell_type": "code",
      "metadata": {
        "colab": {
          "base_uri": "https://localhost:8080/"
        },
        "id": "5Wz4ZQk_EKZy",
        "outputId": "4652e749-7eed-45e5-c0f5-bd89374e3242"
      },
      "source": [
        "%%time\n",
        "df_sim = get_sim_scores(tunes_eval_list, index_tfidf, tfidf)\n",
        "df_tfidf = df_sim[:]"
      ],
      "execution_count": 49,
      "outputs": [
        {
          "output_type": "stream",
          "name": "stdout",
          "text": [
            "\n",
            "--------------------------------------------------\n",
            "125 After You've Gone, section1 (A)\n",
            "126 After You've Gone, section2 (B)\n",
            "127 After You've Gone, section3 (A)\n",
            "128 After You've Gone, section4 (C)\n",
            "\n",
            "--------------------------------------------------\n",
            "188 All God's Chillun Got Rhythm, section1 (A)\n",
            "189 All God's Chillun Got Rhythm, section2 (B)\n",
            "190 All God's Chillun Got Rhythm, section3 (A)\n",
            "191 All God's Chillun Got Rhythm, section4 (C)\n",
            "\n",
            "--------------------------------------------------\n",
            "198 All Of Me, section1 (A)\n",
            "199 All Of Me, section2 (B)\n",
            "200 All Of Me, section3 (A)\n",
            "201 All Of Me, section4 (C)\n",
            "\n",
            "--------------------------------------------------\n",
            "474 Blood Count, section1 (A)\n",
            "475 Blood Count, section2 (A)\n",
            "476 Blood Count, section3 (B)\n",
            "477 Blood Count, section4 (A)\n",
            "478 Blood Count, section5 (C)\n",
            "\n",
            "--------------------------------------------------\n",
            "496 Blue Moon, section1 (A)\n",
            "497 Blue Moon, section2 (A)\n",
            "498 Blue Moon, section3 (B)\n",
            "499 Blue Moon, section4 (A)\n",
            "\n",
            "--------------------------------------------------\n",
            "626 But Beautiful, section1 (A)\n",
            "627 But Beautiful, section2 (B)\n",
            "628 But Beautiful, section3 (A)\n",
            "629 But Beautiful, section4 (C)\n",
            "\n",
            "--------------------------------------------------\n",
            "653 Bye Bye Blackbird, section1 (A)\n",
            "654 Bye Bye Blackbird, section2 (B)\n",
            "4559 Bye Bye Blackbird, section1 (A)\n",
            "\n",
            "--------------------------------------------------\n",
            "676 Call Me Irresponsible, section1 (A)\n",
            "677 Call Me Irresponsible, section2 (B)\n",
            "678 Call Me Irresponsible, section3 (A)\n",
            "679 Call Me Irresponsible, section4 (B)\n",
            "\n",
            "--------------------------------------------------\n",
            "826 Corcovado, section1 (A)\n",
            "827 Corcovado, section2 (B)\n",
            "828 Corcovado, section3 (A)\n",
            "829 Corcovado, section4 (C)\n",
            "\n",
            "--------------------------------------------------\n",
            "997 Dinah, section1 (A)\n",
            "998 Dinah, section2 (A)\n",
            "999 Dinah, section3 (B)\n",
            "1000 Dinah, section4 (A)\n",
            "\n",
            "--------------------------------------------------\n",
            "1125 East Of The Sun, section1 (A)\n",
            "1126 East Of The Sun, section2 (B)\n",
            "1127 East Of The Sun, section3 (A)\n",
            "1128 East Of The Sun, section4 (C)\n",
            "\n",
            "--------------------------------------------------\n",
            "1287 Footprints, section0 (nan)\n",
            "\n",
            "--------------------------------------------------\n",
            "1379 Giant Steps, section0 (nan)\n",
            "\n",
            "--------------------------------------------------\n",
            "1538 Honeysuckle Rose, section1 (A)\n",
            "1539 Honeysuckle Rose, section2 (A)\n",
            "1540 Honeysuckle Rose, section3 (B)\n",
            "1541 Honeysuckle Rose, section4 (A)\n",
            "4781 Honeysuckle Rose, section1 (A)\n",
            "4782 Honeysuckle Rose, section2 (A)\n",
            "4783 Honeysuckle Rose, section3 (B)\n",
            "4784 Honeysuckle Rose, section4 (A)\n",
            "\n",
            "--------------------------------------------------\n",
            "1647 I Got Rhythm, section1 (A)\n",
            "1648 I Got Rhythm, section2 (A)\n",
            "1649 I Got Rhythm, section3 (B)\n",
            "1650 I Got Rhythm, section4 (A)\n",
            "4809 I Got Rhythm, section1 (A)\n",
            "4810 I Got Rhythm, section2 (A)\n",
            "4811 I Got Rhythm, section3 (B)\n",
            "4812 I Got Rhythm, section4 (A)\n",
            "\n",
            "--------------------------------------------------\n",
            "2670 Misty, section1 (A)\n",
            "2671 Misty, section2 (A)\n",
            "2672 Misty, section3 (B)\n",
            "2673 Misty, section4 (A)\n",
            "\n",
            "--------------------------------------------------\n",
            "2857 Naima, section1 (A)\n",
            "2858 Naima, section2 (A)\n",
            "2859 Naima, section3 (B)\n",
            "2860 Naima, section4 (A)\n",
            "\n",
            "--------------------------------------------------\n",
            "5044 Old Fashioned Love, section0 (nan)\n",
            "\n",
            "--------------------------------------------------\n",
            "3142 Perdido, section1 (A)\n",
            "3143 Perdido, section2 (A)\n",
            "3144 Perdido, section3 (B)\n",
            "3145 Perdido, section4 (A)\n",
            "\n",
            "--------------------------------------------------\n",
            "3276 Rockin' Chair, section1 (A)\n",
            "3277 Rockin' Chair, section2 (B)\n",
            "3278 Rockin' Chair, section3 (A)\n",
            "5110 Rockin' Chair, section1 (A)\n",
            "5111 Rockin' Chair, section2 (B)\n",
            "5112 Rockin' Chair, section3 (A)\n",
            "\n",
            "--------------------------------------------------\n",
            "3578 Sophisticated Lady, section1 (A)\n",
            "3579 Sophisticated Lady, section2 (A)\n",
            "3580 Sophisticated Lady, section3 (B)\n",
            "3581 Sophisticated Lady, section4 (A)\n",
            "\n",
            "--------------------------------------------------\n",
            "3746 Sweet Sue, Just You, section1 (A)\n",
            "3747 Sweet Sue, Just You, section2 (A)\n",
            "3748 Sweet Sue, Just You, section3 (B)\n",
            "3749 Sweet Sue, Just You, section4 (A)\n",
            "\n",
            "--------------------------------------------------\n",
            "3860 These Foolish Things, section1 (A)\n",
            "3861 These Foolish Things, section2 (A)\n",
            "3862 These Foolish Things, section3 (B)\n",
            "3863 These Foolish Things, section4 (A)\n",
            "\n",
            "--------------------------------------------------\n",
            "4146 We'll Be Together Again, section1 (A)\n",
            "4147 We'll Be Together Again, section2 (A)\n",
            "4148 We'll Be Together Again, section3 (B)\n",
            "4149 We'll Be Together Again, section4 (A)\n",
            "CPU times: user 15.6 s, sys: 333 ms, total: 15.9 s\n",
            "Wall time: 15.6 s\n"
          ]
        }
      ]
    },
    {
      "cell_type": "code",
      "metadata": {
        "colab": {
          "base_uri": "https://localhost:8080/",
          "height": 542
        },
        "id": "yzRuIKVh9c8g",
        "outputId": "d0f62f7c-408f-420e-c8cb-9c11c03f5383"
      },
      "source": [
        "import plotly.express as px\n",
        "fig = px.histogram(df_sim, x=\"score\", nbins=50, title='Scores for TF-IDF')\n",
        "fig.show()"
      ],
      "execution_count": 50,
      "outputs": [
        {
          "output_type": "display_data",
          "data": {
            "text/html": [
              "<html>\n",
              "<head><meta charset=\"utf-8\" /></head>\n",
              "<body>\n",
              "    <div>\n",
              "            <script src=\"https://cdnjs.cloudflare.com/ajax/libs/mathjax/2.7.5/MathJax.js?config=TeX-AMS-MML_SVG\"></script><script type=\"text/javascript\">if (window.MathJax) {MathJax.Hub.Config({SVG: {font: \"STIX-Web\"}});}</script>\n",
              "                <script type=\"text/javascript\">window.PlotlyConfig = {MathJaxConfig: 'local'};</script>\n",
              "        <script src=\"https://cdn.plot.ly/plotly-latest.min.js\"></script>    \n",
              "            <div id=\"d7208cb5-3816-409e-b2da-58d8c64a47a6\" class=\"plotly-graph-div\" style=\"height:525px; width:100%;\"></div>\n",
              "            <script type=\"text/javascript\">\n",
              "                \n",
              "                    window.PLOTLYENV=window.PLOTLYENV || {};\n",
              "                    \n",
              "                if (document.getElementById(\"d7208cb5-3816-409e-b2da-58d8c64a47a6\")) {\n",
              "                    Plotly.newPlot(\n",
              "                        'd7208cb5-3816-409e-b2da-58d8c64a47a6',\n",
              "                        [{\"alignmentgroup\": \"True\", \"bingroup\": \"x\", \"hoverlabel\": {\"namelength\": 0}, \"hovertemplate\": \"score=%{x}<br>count=%{y}\", \"legendgroup\": \"\", \"marker\": {\"color\": \"#636efa\"}, \"name\": \"\", \"nbinsx\": 50, \"offsetgroup\": \"\", \"orientation\": \"v\", \"showlegend\": false, \"type\": \"histogram\", \"x\": [0.6775901317596436, 0.6692948937416077, 0.6362678408622742, 0.5954787731170654, 0.5863020420074463, 0.5863020420074463, 0.5805389285087585, 0.5802603960037231, 0.5695202350616455, 0.5543056130409241, 0.5450006723403931, 0.5341625213623047, 0.529538631439209, 0.5242002606391907, 0.5214698314666748, 0.5200327038764954, 0.5145902633666992, 0.5145902633666992, 0.505049467086792, 0.5007417798042297, 0.5007417798042297, 0.4985281229019165, 0.49406424164772034, 0.48900994658470154, 0.48306208848953247, 0.48095765709877014, 0.47822681069374084, 0.4780368506908417, 0.4780368506908417, 0.47372233867645264, 0.47195354104042053, 0.47194889187812805, 0.46642881631851196, 0.4603019952774048, 0.45263391733169556, 0.449772447347641, 0.4475286900997162, 0.4356040358543396, 0.4338409900665283, 0.4314625859260559, 0.4260138273239136, 0.6640005111694336, 0.6590577960014343, 0.6590577960014343, 0.6429489850997925, 0.6429489850997925, 0.6072671413421631, 0.6040108799934387, 0.5715171694755554, 0.5685113668441772, 0.5670554637908936, 0.5646693706512451, 0.562928318977356, 0.562928318977356, 0.5597118735313416, 0.5486329197883606, 0.5486329197883606, 0.5447086691856384, 0.5423334836959839, 0.5412091612815857, 0.538762092590332, 0.5294263362884521, 0.527886152267456, 0.5251752138137817, 0.5251752138137817, 0.5251752138137817, 0.5239887237548828, 0.5175812244415283, 0.5175812244415283, 0.5175111889839172, 0.5121632218360901, 0.5120543241500854, 0.5113928318023682, 0.5107338428497314, 0.5107338428497314, 0.5107338428497314, 0.5107338428497314, 0.5088605880737305, 0.5071249604225159, 0.5064908862113953, 0.5064908862113953, 0.5047265291213989, 0.6775901317596436, 0.6692948937416077, 0.6362678408622742, 0.5954787731170654, 0.5863020420074463, 0.5863020420074463, 0.5805389285087585, 0.5802603960037231, 0.5695202350616455, 0.5543056130409241, 0.5450006723403931, 0.5341625213623047, 0.529538631439209, 0.5242002606391907, 0.5214698314666748, 0.5200327038764954, 0.5145902633666992, 0.5145902633666992, 0.505049467086792, 0.5007417798042297, 0.5007417798042297, 0.4985281229019165, 0.49406424164772034, 0.48900994658470154, 0.48306208848953247, 0.48095765709877014, 0.47822681069374084, 0.4780368506908417, 0.4780368506908417, 0.47372233867645264, 0.47195354104042053, 0.47194889187812805, 0.46642881631851196, 0.4603019952774048, 0.45263391733169556, 0.449772447347641, 0.4475286900997162, 0.4356040358543396, 0.4338409900665283, 0.4314625859260559, 0.4260138273239136, 0.508995771408081, 0.46898961067199707, 0.46373844146728516, 0.43871009349823, 0.43492257595062256, 0.42195624113082886, 0.41057509183883667, 0.39272165298461914, 0.3808802366256714, 0.38015124201774597, 0.37737661600112915, 0.37449783086776733, 0.3732651174068451, 0.3727691173553467, 0.36732470989227295, 0.36455994844436646, 0.36455994844436646, 0.36449000239372253, 0.360365629196167, 0.3595719039440155, 0.35763728618621826, 0.3549478352069855, 0.3484986424446106, 0.3385782837867737, 0.3351389765739441, 0.33307576179504395, 0.33193734288215637, 0.3309737741947174, 0.33047330379486084, 0.3296353816986084, 0.3291637897491455, 0.3291637897491455, 0.3270390033721924, 0.3266253173351288, 0.32482439279556274, 0.32336148619651794, 0.3225748836994171, 0.31860554218292236, 0.314285546541214, 0.31418073177337646, 0.3138478696346283, 0.9053295850753784, 0.9053295850753784, 0.852336049079895, 0.8210657835006714, 0.805308997631073, 0.7887110710144043, 0.7512403726577759, 0.7512403726577759, 0.7458764910697937, 0.7308775186538696, 0.7287453413009644, 0.7287453413009644, 0.7264435887336731, 0.7264435887336731, 0.7206771373748779, 0.7079401016235352, 0.7079401016235352, 0.7079401016235352, 0.7067868113517761, 0.7020255327224731, 0.6831302046775818, 0.672370433807373, 0.6716737747192383, 0.6692847609519958, 0.6662744283676147, 0.6662744283676147, 0.6636703610420227, 0.6576626300811768, 0.6558578014373779, 0.6552544832229614, 0.6472207307815552, 0.6461693048477173, 0.6387678980827332, 0.6373411417007446, 0.6316037774085999, 0.6300164461135864, 0.6263742446899414, 0.6252241134643555, 0.6251431107521057, 0.6248184442520142, 0.6226919293403625, 0.6244341135025024, 0.6001524329185486, 0.5927633047103882, 0.5552034974098206, 0.5406488180160522, 0.5359219312667847, 0.5317471027374268, 0.5290142893791199, 0.5261367559432983, 0.5170804858207703, 0.5083015561103821, 0.5042215585708618, 0.5040724277496338, 0.5027643442153931, 0.49054276943206787, 0.48781538009643555, 0.48781538009643555, 0.4839756488800049, 0.48396992683410645, 0.48278215527534485, 0.47594326734542847, 0.47471606731414795, 0.47471606731414795, 0.46964797377586365, 0.4662434458732605, 0.46498754620552063, 0.46475470066070557, 0.4606736898422241, 0.4563278555870056, 0.45519939064979553, 0.4534958302974701, 0.45171794295310974, 0.44995367527008057, 0.44970136880874634, 0.44432634115219116, 0.44432634115219116, 0.4424744248390198, 0.4319830536842346, 0.43177324533462524, 0.43146562576293945, 0.43146562576293945, 0.9053295850753784, 0.9053295850753784, 0.852336049079895, 0.8210657835006714, 0.805308997631073, 0.7887110710144043, 0.7512403726577759, 0.7512403726577759, 0.7458764910697937, 0.7308775186538696, 0.7287453413009644, 0.7287453413009644, 0.7264435887336731, 0.7264435887336731, 0.7206771373748779, 0.7079401016235352, 0.7079401016235352, 0.7079401016235352, 0.7067868113517761, 0.7020255327224731, 0.6831302046775818, 0.672370433807373, 0.6716737747192383, 0.6692847609519958, 0.6662744283676147, 0.6662744283676147, 0.6636703610420227, 0.6576626300811768, 0.6558578014373779, 0.6552544832229614, 0.6472207307815552, 0.6461693048477173, 0.6387678980827332, 0.6373411417007446, 0.6316037774085999, 0.6300164461135864, 0.6263742446899414, 0.6252241134643555, 0.6251431107521057, 0.6248184442520142, 0.6226919293403625, 0.8431550860404968, 0.7833095192909241, 0.7399927377700806, 0.6848624348640442, 0.6805539727210999, 0.6305423974990845, 0.6292433142662048, 0.6109192967414856, 0.5759960412979126, 0.5755550265312195, 0.5654783248901367, 0.5451648235321045, 0.54506915807724, 0.5059071779251099, 0.5047865509986877, 0.49013552069664, 0.489124059677124, 0.4887895882129669, 0.48118847608566284, 0.4758647084236145, 0.47530341148376465, 0.47222083806991577, 0.46906518936157227, 0.4658268094062805, 0.4580009877681732, 0.45708632469177246, 0.4279034435749054, 0.426767498254776, 0.42545944452285767, 0.42428356409072876, 0.4235129952430725, 0.4235129952430725, 0.42120805382728577, 0.42094576358795166, 0.4198390245437622, 0.41713252663612366, 0.41652658581733704, 0.41168469190597534, 0.4106982350349426, 0.4106982350349426, 0.4067544937133789, 0.7857589721679688, 0.7851007580757141, 0.72977614402771, 0.685657262802124, 0.685657262802124, 0.685657262802124, 0.6751552224159241, 0.6740907430648804, 0.6726007461547852, 0.6726007461547852, 0.6557421088218689, 0.6202300786972046, 0.6195877194404602, 0.6076176166534424, 0.6005863547325134, 0.6005863547325134, 0.6005863547325134, 0.6005863547325134, 0.6005863547325134, 0.6005863547325134, 0.6005863547325134, 0.6005863547325134, 0.6005863547325134, 0.6005863547325134, 0.6005863547325134, 0.6005863547325134, 0.6005863547325134, 0.6005863547325134, 0.6005863547325134, 0.6005863547325134, 0.6005863547325134, 0.6005863547325134, 0.6005863547325134, 0.6005863547325134, 0.6005863547325134, 0.6005863547325134, 0.6005863547325134, 0.6005863547325134, 0.5881834626197815, 0.5881834626197815, 0.5878897905349731, 0.8635379076004028, 0.8160097599029541, 0.8160097599029541, 0.8160097599029541, 0.7203344702720642, 0.7045748829841614, 0.686257004737854, 0.6335508227348328, 0.6194545030593872, 0.6194545030593872, 0.6043946146965027, 0.5715320110321045, 0.5711342096328735, 0.5666934251785278, 0.5535881519317627, 0.5535881519317627, 0.5416617393493652, 0.5401440858840942, 0.5370884537696838, 0.5294913053512573, 0.518358051776886, 0.5154106616973877, 0.5144792199134827, 0.5144792199134827, 0.5053666234016418, 0.5046838521957397, 0.5015654563903809, 0.4972914457321167, 0.4969865679740906, 0.49439096450805664, 0.48848864436149597, 0.48848864436149597, 0.48733043670654297, 0.48646533489227295, 0.4840068221092224, 0.47856736183166504, 0.4763815999031067, 0.47495898604393005, 0.47495898604393005, 0.4721001386642456, 0.46055737137794495, 0.7857589721679688, 0.7851007580757141, 0.72977614402771, 0.685657262802124, 0.685657262802124, 0.685657262802124, 0.6751552224159241, 0.6740907430648804, 0.6726007461547852, 0.6726007461547852, 0.6557421088218689, 0.6202300786972046, 0.6195877194404602, 0.6076176166534424, 0.6005863547325134, 0.6005863547325134, 0.6005863547325134, 0.6005863547325134, 0.6005863547325134, 0.6005863547325134, 0.6005863547325134, 0.6005863547325134, 0.6005863547325134, 0.6005863547325134, 0.6005863547325134, 0.6005863547325134, 0.6005863547325134, 0.6005863547325134, 0.6005863547325134, 0.6005863547325134, 0.6005863547325134, 0.6005863547325134, 0.6005863547325134, 0.6005863547325134, 0.6005863547325134, 0.6005863547325134, 0.6005863547325134, 0.6005863547325134, 0.5881834626197815, 0.5881834626197815, 0.5878897905349731, 0.7108702063560486, 0.6783470511436462, 0.6783470511436462, 0.6531906127929688, 0.6531906127929688, 0.6294825077056885, 0.6052286624908447, 0.5944890975952148, 0.585440456867218, 0.5852651596069336, 0.5846287608146667, 0.5806605815887451, 0.5729124546051025, 0.5613179206848145, 0.5554190278053284, 0.5546331405639648, 0.5546331405639648, 0.5430718660354614, 0.5430718660354614, 0.5418791174888611, 0.5371496677398682, 0.5359429121017456, 0.5316717028617859, 0.5207135677337646, 0.5161005854606628, 0.5161005854606628, 0.5112829804420471, 0.5112829804420471, 0.5112829804420471, 0.5088298916816711, 0.49994757771492004, 0.49994757771492004, 0.4877247214317322, 0.48587751388549805, 0.4844185411930084, 0.4815980792045593, 0.4738141894340515, 0.472675621509552, 0.47099339962005615, 0.47082409262657166, 0.4648230969905853, 0.5180176496505737, 0.5128308534622192, 0.5128308534622192, 0.47797682881355286, 0.4763111174106598, 0.45104923844337463, 0.42248958349227905, 0.4224565029144287, 0.4224565029144287, 0.4213823676109314, 0.4149634540081024, 0.3901582956314087, 0.36453187465667725, 0.3562520146369934, 0.34589001536369324, 0.31325000524520874, 0.2688596844673157, 0.2619706690311432, 0.24507634341716766, 0.24437226355075836, 0.23119065165519714, 0.22334983944892883, 0.21810424327850342, 0.21704688668251038, 0.21704688668251038, 0.21435949206352234, 0.20677673816680908, 0.20677673816680908, 0.20404227077960968, 0.20280838012695312, 0.2016831934452057, 0.20000620186328888, 0.19805847108364105, 0.1941320151090622, 0.19362756609916687, 0.1891120970249176, 0.18799945712089539, 0.1878851056098938, 0.18777857720851898, 0.1835453361272812, 0.18323013186454773, 0.4895579218864441, 0.3569754362106323, 0.3493960499763489, 0.3493960499763489, 0.32559579610824585, 0.3217929005622864, 0.3217929005622864, 0.3080967962741852, 0.30692505836486816, 0.2997092604637146, 0.29457059502601624, 0.2682781219482422, 0.26068657636642456, 0.26068657636642456, 0.25987592339515686, 0.25858962535858154, 0.25858962535858154, 0.25834694504737854, 0.25697028636932373, 0.2558070421218872, 0.25197339057922363, 0.25169914960861206, 0.24522565305233002, 0.23871251940727234, 0.23841804265975952, 0.23507484793663025, 0.23489584028720856, 0.23377570509910583, 0.23292553424835205, 0.23256289958953857, 0.23256289958953857, 0.23244868218898773, 0.22692766785621643, 0.22658668458461761, 0.22492994368076324, 0.22405129671096802, 0.22104957699775696, 0.21894913911819458, 0.21612811088562012, 0.21612811088562012, 0.21489360928535461, 0.255862295627594, 0.24847589433193207, 0.24847589433193207, 0.23638814687728882, 0.23638814687728882, 0.23638814687728882, 0.23159022629261017, 0.19888836145401, 0.1852700412273407, 0.18459780514240265, 0.18185971677303314, 0.17954862117767334, 0.17112010717391968, 0.16621366143226624, 0.16171397268772125, 0.16032542288303375, 0.15497609972953796, 0.15398217737674713, 0.1537436991930008, 0.15216447412967682, 0.14986149966716766, 0.14610588550567627, 0.14072540402412415, 0.13942213356494904, 0.1388264298439026, 0.13705863058567047, 0.13705863058567047, 0.1367921531200409, 0.13405589759349823, 0.13198280334472656, 0.12962836027145386, 0.12789922952651978, 0.1239454597234726, 0.12235646694898605, 0.12207532674074173, 0.12193409353494644, 0.12148186564445496, 0.1195310428738594, 0.11920692771673203, 0.11920692771673203, 0.11692102998495102, 0.4895579218864441, 0.3569754362106323, 0.3493960499763489, 0.3493960499763489, 0.32559579610824585, 0.3217929005622864, 0.3217929005622864, 0.3080967962741852, 0.30692505836486816, 0.2997092604637146, 0.29457059502601624, 0.2682781219482422, 0.26068657636642456, 0.26068657636642456, 0.25987592339515686, 0.25858962535858154, 0.25858962535858154, 0.25834694504737854, 0.25697028636932373, 0.2558070421218872, 0.25197339057922363, 0.25169914960861206, 0.24522565305233002, 0.23871251940727234, 0.23841804265975952, 0.23507484793663025, 0.23489584028720856, 0.23377570509910583, 0.23292553424835205, 0.23256289958953857, 0.23256289958953857, 0.23244868218898773, 0.22692766785621643, 0.22658668458461761, 0.22492994368076324, 0.22405129671096802, 0.22104957699775696, 0.21894913911819458, 0.21612811088562012, 0.21612811088562012, 0.21489360928535461, 0.6568876504898071, 0.5581752061843872, 0.49429959058761597, 0.48319676518440247, 0.421935498714447, 0.412089467048645, 0.40491798520088196, 0.39063340425491333, 0.3817787170410156, 0.37746328115463257, 0.37668758630752563, 0.3723994493484497, 0.37103819847106934, 0.37103819847106934, 0.3702718913555145, 0.35905247926712036, 0.35905247926712036, 0.3489147424697876, 0.34414055943489075, 0.3431963324546814, 0.34107428789138794, 0.33833765983581543, 0.33104878664016724, 0.3238323926925659, 0.323289155960083, 0.3223576247692108, 0.3199070394039154, 0.3194226622581482, 0.31515616178512573, 0.31318116188049316, 0.3091448247432709, 0.2997662127017975, 0.29521042108535767, 0.29066649079322815, 0.2875247895717621, 0.2694248855113983, 0.2680020034313202, 0.2680020034313202, 0.26362594962120056, 0.2635127604007721, 0.2632403075695038, 0.8147239685058594, 0.7774440050125122, 0.7706730961799622, 0.7706730961799622, 0.7556595802307129, 0.7556595802307129, 0.7556595802307129, 0.7513176798820496, 0.7513176798820496, 0.7318055033683777, 0.7243766784667969, 0.7243766784667969, 0.7111595869064331, 0.7080849409103394, 0.7080849409103394, 0.705954909324646, 0.6992135047912598, 0.6986883878707886, 0.6910171508789062, 0.6910171508789062, 0.6878355145454407, 0.6803794503211975, 0.6791250109672546, 0.6789625883102417, 0.6706408262252808, 0.6648424863815308, 0.6571493148803711, 0.6506112813949585, 0.6476225256919861, 0.6464346647262573, 0.637579083442688, 0.6321128606796265, 0.6251600384712219, 0.6237713098526001, 0.6226564049720764, 0.6163793206214905, 0.610073447227478, 0.608345627784729, 0.6080623865127563, 0.6064023971557617, 0.5858626961708069, 0.7185842990875244, 0.6510592699050903, 0.6436883211135864, 0.6269159317016602, 0.5313820242881775, 0.5300511717796326, 0.5300511717796326, 0.527388334274292, 0.527388334274292, 0.5217911601066589, 0.5198239088058472, 0.5198239088058472, 0.5198239088058472, 0.5148804187774658, 0.5148804187774658, 0.49967092275619507, 0.49736517667770386, 0.49411505460739136, 0.49411505460739136, 0.48898860812187195, 0.4873599410057068, 0.48676833510398865, 0.4862923324108124, 0.4862923324108124, 0.48589861392974854, 0.4825192987918854, 0.47888290882110596, 0.4774644076824188, 0.47676536440849304, 0.4723856449127197, 0.4653627276420593, 0.46377015113830566, 0.4637468457221985, 0.4606718420982361, 0.45498836040496826, 0.45498836040496826, 0.45347222685813904, 0.45275095105171204, 0.44941338896751404, 0.44593068957328796, 0.44375497102737427, 0.5110396146774292, 0.3444494605064392, 0.3444494605064392, 0.3444494605064392, 0.30507469177246094, 0.30507469177246094, 0.30507469177246094, 0.2742738127708435, 0.2742738127708435, 0.27064207196235657, 0.2653433084487915, 0.2650829553604126, 0.2642010748386383, 0.2642010748386383, 0.26343926787376404, 0.26343926787376404, 0.26343926787376404, 0.2569124698638916, 0.2541908919811249, 0.2536088228225708, 0.2516622543334961, 0.2500794529914856, 0.24851548671722412, 0.24851548671722412, 0.2477535903453827, 0.2477535903453827, 0.24473565816879272, 0.24473565816879272, 0.24473565816879272, 0.24462176859378815, 0.24140861630439758, 0.24070751667022705, 0.24053935706615448, 0.23966385424137115, 0.23923957347869873, 0.23763258755207062, 0.23718497157096863, 0.236922949552536, 0.2348470240831375, 0.2348470240831375, 0.23374828696250916, 0.8147239685058594, 0.7774440050125122, 0.7706730961799622, 0.7706730961799622, 0.7556595802307129, 0.7556595802307129, 0.7556595802307129, 0.7513176798820496, 0.7513176798820496, 0.7318055033683777, 0.7243766784667969, 0.7243766784667969, 0.7111595869064331, 0.7080849409103394, 0.7080849409103394, 0.705954909324646, 0.6992135047912598, 0.6986883878707886, 0.6910171508789062, 0.6910171508789062, 0.6878355145454407, 0.6803794503211975, 0.6791250109672546, 0.6789625883102417, 0.6706408262252808, 0.6648424863815308, 0.6571493148803711, 0.6506112813949585, 0.6476225256919861, 0.6464346647262573, 0.637579083442688, 0.6321128606796265, 0.6251600384712219, 0.6237713098526001, 0.6226564049720764, 0.6163793206214905, 0.610073447227478, 0.608345627784729, 0.6080623865127563, 0.6064023971557617, 0.5858626961708069, 0.6534284353256226, 0.6491801738739014, 0.6402232646942139, 0.6088693141937256, 0.6088693141937256, 0.5957193970680237, 0.5626050233840942, 0.5463851690292358, 0.5304566621780396, 0.5241796970367432, 0.5215396881103516, 0.5175579786300659, 0.5131078362464905, 0.5131078362464905, 0.49469950795173645, 0.4877450168132782, 0.4838177263736725, 0.4773091673851013, 0.4773091673851013, 0.4773091673851013, 0.4773091673851013, 0.45855748653411865, 0.45645812153816223, 0.45187658071517944, 0.45187658071517944, 0.4483974575996399, 0.4313775300979614, 0.4233227074146271, 0.4155884385108948, 0.40462663769721985, 0.40462663769721985, 0.40435048937797546, 0.40435048937797546, 0.40435048937797546, 0.3949775695800781, 0.39408594369888306, 0.3895440399646759, 0.38692688941955566, 0.3852798342704773, 0.3774816691875458, 0.37165847420692444, 0.7417412996292114, 0.7303578853607178, 0.7295779585838318, 0.7295779585838318, 0.7278960347175598, 0.7074809074401855, 0.7074809074401855, 0.6837713122367859, 0.6836750507354736, 0.6644971370697021, 0.6642078161239624, 0.6623886227607727, 0.6623886227607727, 0.6525812149047852, 0.6525812149047852, 0.6516701579093933, 0.6420071125030518, 0.6390296816825867, 0.634543240070343, 0.6104956865310669, 0.5979504585266113, 0.5957265496253967, 0.5935600399971008, 0.5810034275054932, 0.5584566593170166, 0.556276798248291, 0.5553077459335327, 0.5483477115631104, 0.5483477115631104, 0.538063108921051, 0.5355623960494995, 0.5323818325996399, 0.5317240953445435, 0.530779242515564, 0.530779242515564, 0.5267099738121033, 0.5263805389404297, 0.5244415402412415, 0.5244415402412415, 0.524137556552887, 0.5182304382324219, 0.6534284353256226, 0.6491801738739014, 0.6402232646942139, 0.6088693141937256, 0.6088693141937256, 0.5957193970680237, 0.5626050233840942, 0.5463851690292358, 0.5304566621780396, 0.5241796970367432, 0.5215396881103516, 0.5175579786300659, 0.5131078362464905, 0.5131078362464905, 0.49469950795173645, 0.4877450168132782, 0.4838177263736725, 0.4773091673851013, 0.4773091673851013, 0.4773091673851013, 0.4773091673851013, 0.45855748653411865, 0.45645812153816223, 0.45187658071517944, 0.45187658071517944, 0.4483974575996399, 0.4313775300979614, 0.4233227074146271, 0.4155884385108948, 0.40462663769721985, 0.40462663769721985, 0.40435048937797546, 0.40435048937797546, 0.40435048937797546, 0.3949775695800781, 0.39408594369888306, 0.3895440399646759, 0.38692688941955566, 0.3852798342704773, 0.3774816691875458, 0.37165847420692444, 0.7194114327430725, 0.6876674890518188, 0.6354473233222961, 0.6102510094642639, 0.5912492275238037, 0.5912492275238037, 0.5769446492195129, 0.5769446492195129, 0.5655971169471741, 0.5496858358383179, 0.5468605756759644, 0.5442489385604858, 0.5418756604194641, 0.5413496494293213, 0.5330395698547363, 0.5319665670394897, 0.5319665670394897, 0.5297712683677673, 0.5190605521202087, 0.5183132886886597, 0.5170050263404846, 0.5170050263404846, 0.5167316198348999, 0.5167316198348999, 0.5166451930999756, 0.5162034034729004, 0.5152553915977478, 0.5149694681167603, 0.5149694681167603, 0.5114365220069885, 0.5092650651931763, 0.5059810280799866, 0.4845133423805237, 0.4815131425857544, 0.4758250117301941, 0.4758250117301941, 0.4751585125923157, 0.4707034230232239, 0.46843916177749634, 0.46843916177749634, 0.46736305952072144, 0.730207085609436, 0.7237727642059326, 0.7237727642059326, 0.7179723978042603, 0.7127077579498291, 0.7127077579498291, 0.7127077579498291, 0.7122378349304199, 0.6951118111610413, 0.6949711441993713, 0.6949711441993713, 0.6829220652580261, 0.671123743057251, 0.6440755128860474, 0.636947512626648, 0.6345568895339966, 0.6089366674423218, 0.6089366674423218, 0.6041882634162903, 0.6041882634162903, 0.6041882634162903, 0.603919267654419, 0.603919267654419, 0.603919267654419, 0.6017563939094543, 0.5990655422210693, 0.5910485982894897, 0.5862613916397095, 0.5689455270767212, 0.562645435333252, 0.562645435333252, 0.561940610408783, 0.5604785680770874, 0.5596302151679993, 0.5595341920852661, 0.556179404258728, 0.556179404258728, 0.5560334324836731, 0.5520451068878174, 0.5506335496902466, 0.5492696166038513, 0.6086691617965698, 0.6086691617965698, 0.5838061571121216, 0.5152521729469299, 0.5024826526641846, 0.49051517248153687, 0.48572468757629395, 0.47836288809776306, 0.4755810499191284, 0.4745538830757141, 0.46855443716049194, 0.46855443716049194, 0.4639160931110382, 0.4536014795303345, 0.45041024684906006, 0.44551795721054077, 0.440097838640213, 0.4392954111099243, 0.4376544952392578, 0.4376544952392578, 0.4353294372558594, 0.42844370007514954, 0.42134734988212585, 0.4206618070602417, 0.41396278142929077, 0.40442126989364624, 0.40442126989364624, 0.39659595489501953, 0.39354658126831055, 0.39354658126831055, 0.39354658126831055, 0.3931996822357178, 0.3926382064819336, 0.3901779055595398, 0.3884403705596924, 0.38604217767715454, 0.385011225938797, 0.3838121294975281, 0.37305206060409546, 0.3691557049751282, 0.3643091917037964, 0.6805105805397034, 0.6805105805397034, 0.671528160572052, 0.6652628183364868, 0.6602158546447754, 0.6470538377761841, 0.6411779522895813, 0.6387669444084167, 0.6364877820014954, 0.6364877820014954, 0.6074218153953552, 0.5953220725059509, 0.5860385894775391, 0.5825915336608887, 0.5789604783058167, 0.5780825018882751, 0.5732715129852295, 0.5732715129852295, 0.5732715129852295, 0.5694661736488342, 0.5658884048461914, 0.5562126636505127, 0.5450729131698608, 0.5442707538604736, 0.5442707538604736, 0.5442707538604736, 0.5393535494804382, 0.5382822751998901, 0.5348919630050659, 0.5176831483840942, 0.5172130465507507, 0.5169385671615601, 0.5166375637054443, 0.5127765536308289, 0.4993552565574646, 0.4993552565574646, 0.49752092361450195, 0.49118950963020325, 0.48814576864242554, 0.4830305874347687, 0.48112213611602783, 0.7051902413368225, 0.6968646049499512, 0.6787041425704956, 0.6714602708816528, 0.6697558164596558, 0.6464824676513672, 0.6185333132743835, 0.5985360741615295, 0.5985360741615295, 0.5478266477584839, 0.5313049554824829, 0.5313049554824829, 0.523382306098938, 0.5093405246734619, 0.499924898147583, 0.49451038241386414, 0.49451038241386414, 0.49105483293533325, 0.488762766122818, 0.4869643449783325, 0.4869643449783325, 0.4869643449783325, 0.4868823289871216, 0.48587411642074585, 0.4825790822505951, 0.4825790822505951, 0.47950559854507446, 0.47715455293655396, 0.47715455293655396, 0.476676344871521, 0.4761162996292114, 0.4761162996292114, 0.4739663302898407, 0.47079208493232727, 0.468703955411911, 0.46783989667892456, 0.46666112542152405, 0.4657180905342102, 0.4657137393951416, 0.4582885503768921, 0.45100393891334534, 0.6253251433372498, 0.5619691610336304, 0.5490467548370361, 0.5294010639190674, 0.5287030935287476, 0.5287030935287476, 0.5278303623199463, 0.5259783267974854, 0.5102247595787048, 0.5102247595787048, 0.497232049703598, 0.4963124990463257, 0.48300284147262573, 0.48189473152160645, 0.4802365005016327, 0.47954630851745605, 0.4684407114982605, 0.4684407114982605, 0.4583398401737213, 0.45252448320388794, 0.4485933780670166, 0.44346868991851807, 0.44346868991851807, 0.4330543577671051, 0.4313023090362549, 0.42732173204421997, 0.4201381206512451, 0.4189624488353729, 0.40565335750579834, 0.40304750204086304, 0.4006965756416321, 0.4006572365760803, 0.3985044062137604, 0.3985044062137604, 0.3927665948867798, 0.3927665948867798, 0.3888914883136749, 0.3886381983757019, 0.3875538408756256, 0.3859497606754303, 0.384373277425766, 0.7051902413368225, 0.6968646049499512, 0.6787041425704956, 0.6714602708816528, 0.6697558164596558, 0.6464824676513672, 0.6185333132743835, 0.5985360741615295, 0.5985360741615295, 0.5478266477584839, 0.5313049554824829, 0.5313049554824829, 0.523382306098938, 0.5093405246734619, 0.499924898147583, 0.49451038241386414, 0.49451038241386414, 0.49105483293533325, 0.488762766122818, 0.4869643449783325, 0.4869643449783325, 0.4869643449783325, 0.4868823289871216, 0.48587411642074585, 0.4825790822505951, 0.4825790822505951, 0.47950559854507446, 0.47715455293655396, 0.47715455293655396, 0.476676344871521, 0.4761162996292114, 0.4761162996292114, 0.4739663302898407, 0.47079208493232727, 0.468703955411911, 0.46783989667892456, 0.46666112542152405, 0.4657180905342102, 0.4657137393951416, 0.4582885503768921, 0.45100393891334534, 0.7128950953483582, 0.6815967559814453, 0.5966354608535767, 0.5966354608535767, 0.582050085067749, 0.548393726348877, 0.5428745746612549, 0.5411626100540161, 0.5365698337554932, 0.5340127348899841, 0.5189182758331299, 0.5071393251419067, 0.5069820880889893, 0.48617833852767944, 0.4836418330669403, 0.47629010677337646, 0.4642258584499359, 0.45873624086380005, 0.4521375298500061, 0.451930433511734, 0.451930433511734, 0.4513407349586487, 0.45030057430267334, 0.45030057430267334, 0.44802355766296387, 0.44793713092803955, 0.44294363260269165, 0.44259530305862427, 0.44259530305862427, 0.44062209129333496, 0.4399372637271881, 0.4388597011566162, 0.42942050099372864, 0.4217150807380676, 0.4217150807380676, 0.4187927842140198, 0.4147685766220093, 0.412305623292923, 0.4114055335521698, 0.4111282229423523, 0.40982407331466675, 0.4704166054725647, 0.39880871772766113, 0.3804534375667572, 0.3100714087486267, 0.30738338828086853, 0.21629291772842407, 0.20681247115135193, 0.20681247115135193, 0.20072275400161743, 0.17660033702850342, 0.16149312257766724, 0.15836669504642487, 0.15742427110671997, 0.1532343626022339, 0.14743469655513763, 0.14743469655513763, 0.14743469655513763, 0.14275656640529633, 0.14057505130767822, 0.13460618257522583, 0.13460618257522583, 0.13460618257522583, 0.13460618257522583, 0.13460618257522583, 0.13460618257522583, 0.13460618257522583, 0.13460618257522583, 0.13460618257522583, 0.13460618257522583, 0.13460618257522583, 0.13460618257522583, 0.13460618257522583, 0.13460618257522583, 0.13460618257522583, 0.13460618257522583, 0.13460618257522583, 0.13460618257522583, 0.13460618257522583, 0.13460618257522583, 0.13460618257522583, 0.13460618257522583, 0.7733625769615173, 0.612345814704895, 0.5536257028579712, 0.5529526472091675, 0.5425360202789307, 0.5238139629364014, 0.5210862755775452, 0.5210862755775452, 0.5198544859886169, 0.4943317770957947, 0.4888751804828644, 0.4888751804828644, 0.47475743293762207, 0.46678251028060913, 0.4655021131038666, 0.4548094868659973, 0.45239514112472534, 0.448619544506073, 0.44744259119033813, 0.44744259119033813, 0.4387824535369873, 0.430769145488739, 0.4298902153968811, 0.42920488119125366, 0.4285288453102112, 0.4149981141090393, 0.40716353058815, 0.40692460536956787, 0.40312454104423523, 0.3981592059135437, 0.3981592059135437, 0.3945379853248596, 0.38920697569847107, 0.38814395666122437, 0.38793233036994934, 0.3836156129837036, 0.38293349742889404, 0.38293349742889404, 0.3824118375778198, 0.3824118375778198, 0.3824118375778198, 0.4704166054725647, 0.39880871772766113, 0.3804534375667572, 0.3100714087486267, 0.30738338828086853, 0.21629291772842407, 0.20681247115135193, 0.20681247115135193, 0.20072275400161743, 0.17660033702850342, 0.16149312257766724, 0.15836669504642487, 0.15742427110671997, 0.1532343626022339, 0.14743469655513763, 0.14743469655513763, 0.14743469655513763, 0.14275656640529633, 0.14057505130767822, 0.13460618257522583, 0.13460618257522583, 0.13460618257522583, 0.13460618257522583, 0.13460618257522583, 0.13460618257522583, 0.13460618257522583, 0.13460618257522583, 0.13460618257522583, 0.13460618257522583, 0.13460618257522583, 0.13460618257522583, 0.13460618257522583, 0.13460618257522583, 0.13460618257522583, 0.13460618257522583, 0.13460618257522583, 0.13460618257522583, 0.13460618257522583, 0.13460618257522583, 0.13460618257522583, 0.13460618257522583, 0.7895399332046509, 0.740568995475769, 0.7007327675819397, 0.6824356317520142, 0.6824356317520142, 0.6685078144073486, 0.630980372428894, 0.6247086524963379, 0.6247086524963379, 0.6215600967407227, 0.6132733821868896, 0.6130043268203735, 0.6104141473770142, 0.6104141473770142, 0.6102510094642639, 0.5965479612350464, 0.5927785038948059, 0.583209753036499, 0.5809921622276306, 0.5705162882804871, 0.563483715057373, 0.5599163770675659, 0.5543541312217712, 0.5476446747779846, 0.5359917283058167, 0.5317240953445435, 0.5291934013366699, 0.5281306505203247, 0.5276871919631958, 0.523780882358551, 0.5226613283157349, 0.5220142602920532, 0.5220142602920532, 0.516325831413269, 0.5155960321426392, 0.513979971408844, 0.5116575956344604, 0.5086773037910461, 0.507057785987854, 0.507057785987854, 0.5068759918212891, 0.8886404633522034, 0.7563469409942627, 0.7563469409942627, 0.7540624737739563, 0.7373854517936707, 0.7373854517936707, 0.7373854517936707, 0.734900176525116, 0.734900176525116, 0.7133906483650208, 0.7031798362731934, 0.7031798362731934, 0.6966870427131653, 0.6922404766082764, 0.6922404766082764, 0.6847233772277832, 0.6794531345367432, 0.67758709192276, 0.672444224357605, 0.6696443557739258, 0.6696443557739258, 0.6602703332901001, 0.6601632833480835, 0.6581199765205383, 0.6510781049728394, 0.6486737728118896, 0.637055516242981, 0.6352971792221069, 0.6326996088027954, 0.625210165977478, 0.6232972145080566, 0.6215353012084961, 0.6132010221481323, 0.608696699142456, 0.6073094010353088, 0.602656364440918, 0.602656364440918, 0.6005563139915466, 0.5984366536140442, 0.5946407318115234, 0.5940074920654297, 0.7536032795906067, 0.7517158389091492, 0.7517158389091492, 0.7372115850448608, 0.7372115850448608, 0.7372115850448608, 0.7302007675170898, 0.7302007675170898, 0.7086307406425476, 0.7007514238357544, 0.7007514238357544, 0.6928054690361023, 0.6911712884902954, 0.6896572709083557, 0.6896572709083557, 0.6843063831329346, 0.6791492700576782, 0.6771374940872192, 0.669934868812561, 0.66920006275177, 0.66920006275177, 0.6599750518798828, 0.6576833724975586, 0.6533224582672119, 0.6476848125457764, 0.6476848125457764, 0.6431119441986084, 0.6373556852340698, 0.6324166059494019, 0.6293309926986694, 0.6255223751068115, 0.6247087717056274, 0.6173882484436035, 0.6141747832298279, 0.6087963581085205, 0.6064473390579224, 0.606244683265686, 0.5991460680961609, 0.5974186658859253, 0.5974186658859253, 0.5945624113082886, 0.8187159299850464, 0.7483824491500854, 0.7483824491500854, 0.7483824491500854, 0.7483824491500854, 0.7483824491500854, 0.7483824491500854, 0.7483824491500854, 0.7483701705932617, 0.7483701705932617, 0.7483701705932617, 0.722079873085022, 0.70209801197052, 0.694501519203186, 0.6694862842559814, 0.6653200387954712, 0.6517146825790405, 0.6395260095596313, 0.6338318586349487, 0.6293734312057495, 0.6183860301971436, 0.6150333881378174, 0.6133947372436523, 0.6069529056549072, 0.5953447222709656, 0.593861997127533, 0.5856946706771851, 0.5845826864242554, 0.5845826864242554, 0.5845826864242554, 0.5845826864242554, 0.5845826864242554, 0.5845826864242554, 0.5845826864242554, 0.5845826864242554, 0.5845826864242554, 0.5845826864242554, 0.5845826864242554, 0.5845826864242554, 0.5845826864242554, 0.5845826864242554, 0.8345451354980469, 0.8345451354980469, 0.8320244550704956, 0.8260665535926819, 0.8260665535926819, 0.8136232495307922, 0.8136232495307922, 0.8136232495307922, 0.8108810186386108, 0.8108810186386108, 0.7871476411819458, 0.7758811712265015, 0.7758811712265015, 0.7687171101570129, 0.7675392627716064, 0.755516529083252, 0.7497013807296753, 0.7476423978805542, 0.7419677972793579, 0.7388784885406494, 0.7388784885406494, 0.7313122749328613, 0.7285352945327759, 0.7261625528335571, 0.7211914658546448, 0.7183926105499268, 0.7181103825569153, 0.7157397270202637, 0.7133451104164124, 0.704147458076477, 0.7029201984405518, 0.7009801864624023, 0.6981140375137329, 0.6898502111434937, 0.6877394914627075, 0.6857954263687134, 0.6760977506637573, 0.6760977506637573, 0.6716294884681702, 0.6700987219810486, 0.6561203002929688, 0.6612094044685364, 0.6598371267318726, 0.6382883787155151, 0.6312721371650696, 0.5684056878089905, 0.5636641383171082, 0.5611699223518372, 0.5595018863677979, 0.5595018863677979, 0.5577481985092163, 0.543560266494751, 0.543560266494751, 0.5345216989517212, 0.5321739912033081, 0.5294714570045471, 0.525374710559845, 0.5198400616645813, 0.5018841028213501, 0.5007417798042297, 0.5007417798042297, 0.4945506453514099, 0.48950204253196716, 0.4847087860107422, 0.47521835565567017, 0.47162026166915894, 0.4709370732307434, 0.4680955410003662, 0.46779608726501465, 0.4653867483139038, 0.46324020624160767, 0.45745301246643066, 0.4565156102180481, 0.45638322830200195, 0.4548436403274536, 0.4548436403274536, 0.4501052498817444, 0.4483087956905365, 0.4483087956905365, 0.44749683141708374, 0.4429055154323578, 0.4414682686328888, 0.843933641910553, 0.6700151562690735, 0.6436451077461243, 0.5942835807800293, 0.5871957540512085, 0.4888092279434204, 0.48337382078170776, 0.47785091400146484, 0.4736056625843048, 0.47214943170547485, 0.4720863699913025, 0.4720863699913025, 0.46631401777267456, 0.4583728313446045, 0.4559764564037323, 0.4497576653957367, 0.4394937753677368, 0.43610715866088867, 0.4328787922859192, 0.42922085523605347, 0.42922085523605347, 0.42922085523605347, 0.4253300726413727, 0.4233124554157257, 0.4212076663970947, 0.41800546646118164, 0.41415971517562866, 0.4109407067298889, 0.41002345085144043, 0.4067005515098572, 0.39965105056762695, 0.39573660492897034, 0.39345911145210266, 0.3916324973106384, 0.3916324973106384, 0.3916324973106384, 0.3883804678916931, 0.3776138126850128, 0.3772137761116028, 0.37452465295791626, 0.3691752254962921, 0.6612094044685364, 0.6598371267318726, 0.6382883787155151, 0.6312721371650696, 0.5684056878089905, 0.5636641383171082, 0.5611699223518372, 0.5595018863677979, 0.5595018863677979, 0.5577481985092163, 0.543560266494751, 0.543560266494751, 0.5345216989517212, 0.5321739912033081, 0.5294714570045471, 0.525374710559845, 0.5198400616645813, 0.5018841028213501, 0.5007417798042297, 0.5007417798042297, 0.4945506453514099, 0.48950204253196716, 0.4847087860107422, 0.47521835565567017, 0.47162026166915894, 0.4709370732307434, 0.4680955410003662, 0.46779608726501465, 0.4653867483139038, 0.46324020624160767, 0.45745301246643066, 0.4565156102180481, 0.45638322830200195, 0.4548436403274536, 0.4548436403274536, 0.4501052498817444, 0.4483087956905365, 0.4483087956905365, 0.44749683141708374, 0.4429055154323578, 0.4414682686328888, 0.6268031597137451, 0.5537166595458984, 0.5281525254249573, 0.4953875243663788, 0.4946867823600769, 0.487317830324173, 0.4840409457683563, 0.45766353607177734, 0.45209717750549316, 0.44989049434661865, 0.44623759388923645, 0.42548155784606934, 0.4210340678691864, 0.4143281579017639, 0.4014040529727936, 0.4014040529727936, 0.3894290328025818, 0.3869522511959076, 0.3808373212814331, 0.37960800528526306, 0.37960800528526306, 0.37960800528526306, 0.3658062219619751, 0.362943559885025, 0.362943559885025, 0.3624517321586609, 0.3610481321811676, 0.3573605716228485, 0.35433173179626465, 0.34967541694641113, 0.3456917405128479, 0.34357738494873047, 0.3432536721229553, 0.3387722969055176, 0.3387722969055176, 0.3387722969055176, 0.33826181292533875, 0.33718812465667725, 0.3365249037742615, 0.33492982387542725, 0.333886981010437, 0.8097636699676514, 0.8083634972572327, 0.8083634972572327, 0.8083634972572327, 0.8083634972572327, 0.8083634972572327, 0.8083634972572327, 0.8083634972572327, 0.8083634972572327, 0.8083634972572327, 0.8083634972572327, 0.8083634972572327, 0.8083634972572327, 0.8083634972572327, 0.8083634972572327, 0.8083634972572327, 0.8083634972572327, 0.8083634972572327, 0.8083634972572327, 0.8083634972572327, 0.8083634972572327, 0.8083634972572327, 0.8083634972572327, 0.8083634972572327, 0.8083634972572327, 0.80564945936203, 0.796737551689148, 0.773634672164917, 0.773634672164917, 0.773634672164917, 0.7622615694999695, 0.7476430535316467, 0.7476430535316467, 0.728864312171936, 0.7282450199127197, 0.7197370529174805, 0.7194079160690308, 0.7194079160690308, 0.7013437747955322, 0.7013437747955322, 0.700165867805481, 0.5993760228157043, 0.5993760228157043, 0.48770514130592346, 0.47681722044944763, 0.43081557750701904, 0.41754573583602905, 0.4127514064311981, 0.4109874665737152, 0.40559887886047363, 0.39101916551589966, 0.3845387101173401, 0.3845387101173401, 0.3755844235420227, 0.3703869581222534, 0.35403406620025635, 0.3389739394187927, 0.3364194333553314, 0.33641672134399414, 0.3345770835876465, 0.3334786295890808, 0.33142784237861633, 0.33142784237861633, 0.3310346007347107, 0.3310346007347107, 0.3252873718738556, 0.3227819800376892, 0.3171907067298889, 0.31657588481903076, 0.31360065937042236, 0.3051410913467407, 0.3051410913467407, 0.303128182888031, 0.30195292830467224, 0.30195292830467224, 0.2997909188270569, 0.29752588272094727, 0.29572826623916626, 0.2945302426815033, 0.29029884934425354, 0.2897126078605652, 0.28815484046936035, 0.8688281178474426, 0.7992586493492126, 0.7992586493492126, 0.7992586493492126, 0.7873685956001282, 0.7849194407463074, 0.7771984338760376, 0.7771984338760376, 0.7771984338760376, 0.7652478814125061, 0.7572163939476013, 0.7503273487091064, 0.74446702003479, 0.7332425713539124, 0.7100344300270081, 0.7068408727645874, 0.6933727264404297, 0.6888056993484497, 0.6883918046951294, 0.6883918046951294, 0.6850490570068359, 0.6840398907661438, 0.6710233688354492, 0.6668241620063782, 0.654434084892273, 0.654434084892273, 0.654434084892273, 0.654434084892273, 0.6521766185760498, 0.6521766185760498, 0.6415024399757385, 0.6383853554725647, 0.5989834070205688, 0.5923628211021423, 0.5923628211021423, 0.5828884840011597, 0.5627996921539307, 0.5627996921539307, 0.5588703155517578, 0.5578537583351135, 0.5578537583351135, 0.8738265037536621, 0.8738265037536621, 0.8738265037536621, 0.866016149520874, 0.866016149520874, 0.866016149520874, 0.8581494688987732, 0.8104602694511414, 0.7904404401779175, 0.776278018951416, 0.7716167569160461, 0.7706220149993896, 0.739690899848938, 0.7219976186752319, 0.7159578204154968, 0.7130221724510193, 0.7130221724510193, 0.7039046287536621, 0.7002103924751282, 0.6765090227127075, 0.6765090227127075, 0.6765090227127075, 0.6741825342178345, 0.6741825342178345, 0.6659900546073914, 0.6659900546073914, 0.6563987135887146, 0.6563987135887146, 0.6563987135887146, 0.6559457182884216, 0.6548663377761841, 0.6444509625434875, 0.6367145776748657, 0.6355733871459961, 0.6355733871459961, 0.6263425350189209, 0.6051627397537231, 0.601364254951477, 0.5950205326080322, 0.5939847230911255, 0.5858542919158936, 0.9999999403953552, 0.9999999403953552, 0.9999999403953552, 0.9999999403953552, 0.9999999403953552, 0.9999999403953552, 0.9999999403953552, 0.9999999403953552, 0.9999999403953552, 0.9156635999679565, 0.8560506701469421, 0.8560506701469421, 0.8560506701469421, 0.821537971496582, 0.7972481846809387, 0.7574241757392883, 0.7270039916038513, 0.719454288482666, 0.719454288482666, 0.719454288482666, 0.70103919506073, 0.6773900985717773, 0.6644609570503235, 0.6634930968284607, 0.6582978367805481, 0.6540752053260803, 0.6517389416694641, 0.6517389416694641, 0.6398168206214905, 0.6398168206214905, 0.6155877113342285, 0.5843899846076965, 0.5708320140838623, 0.5708320140838623, 0.5708320140838623, 0.5708320140838623, 0.5655342936515808, 0.551834225654602, 0.5442792177200317, 0.5408108234405518, 0.540773332118988, 0.8688281178474426, 0.7992586493492126, 0.7992586493492126, 0.7992586493492126, 0.7873685956001282, 0.7849194407463074, 0.7771984338760376, 0.7771984338760376, 0.7771984338760376, 0.7652478814125061, 0.7572163939476013, 0.7503273487091064, 0.74446702003479, 0.7332425713539124, 0.7100344300270081, 0.7068408727645874, 0.6933727264404297, 0.6888056993484497, 0.6883918046951294, 0.6883918046951294, 0.6850490570068359, 0.6840398907661438, 0.6710233688354492, 0.6668241620063782, 0.654434084892273, 0.654434084892273, 0.654434084892273, 0.654434084892273, 0.6521766185760498, 0.6521766185760498, 0.6415024399757385, 0.6383853554725647, 0.5989834070205688, 0.5923628211021423, 0.5923628211021423, 0.5828884840011597, 0.5627996921539307, 0.5627996921539307, 0.5588703155517578, 0.5578537583351135, 0.5578537583351135, 0.8688281178474426, 0.7992586493492126, 0.7992586493492126, 0.7992586493492126, 0.7873685956001282, 0.7849194407463074, 0.7771984338760376, 0.7771984338760376, 0.7771984338760376, 0.7652478814125061, 0.7572163939476013, 0.7503273487091064, 0.74446702003479, 0.7332425713539124, 0.7100344300270081, 0.7068408727645874, 0.6933727264404297, 0.6888056993484497, 0.6883918046951294, 0.6883918046951294, 0.6850490570068359, 0.6840398907661438, 0.6710233688354492, 0.6668241620063782, 0.654434084892273, 0.654434084892273, 0.654434084892273, 0.654434084892273, 0.6521766185760498, 0.6521766185760498, 0.6415024399757385, 0.6383853554725647, 0.5989834070205688, 0.5923628211021423, 0.5923628211021423, 0.5828884840011597, 0.5627996921539307, 0.5627996921539307, 0.5588703155517578, 0.5578537583351135, 0.5578537583351135, 0.8738265037536621, 0.8738265037536621, 0.8738265037536621, 0.866016149520874, 0.866016149520874, 0.866016149520874, 0.8581494688987732, 0.8104602694511414, 0.7904404401779175, 0.776278018951416, 0.7716167569160461, 0.7706220149993896, 0.739690899848938, 0.7219976186752319, 0.7159578204154968, 0.7130221724510193, 0.7130221724510193, 0.7039046287536621, 0.7002103924751282, 0.6765090227127075, 0.6765090227127075, 0.6765090227127075, 0.6741825342178345, 0.6741825342178345, 0.6659900546073914, 0.6659900546073914, 0.6563987135887146, 0.6563987135887146, 0.6563987135887146, 0.6559457182884216, 0.6548663377761841, 0.6444509625434875, 0.6367145776748657, 0.6355733871459961, 0.6355733871459961, 0.6263425350189209, 0.6051627397537231, 0.601364254951477, 0.5950205326080322, 0.5939847230911255, 0.5858542919158936, 0.9999999403953552, 0.9999999403953552, 0.9999999403953552, 0.9999999403953552, 0.9999999403953552, 0.9999999403953552, 0.9999999403953552, 0.9999999403953552, 0.9999999403953552, 0.9156635999679565, 0.8560506701469421, 0.8560506701469421, 0.8560506701469421, 0.821537971496582, 0.7972481846809387, 0.7574241757392883, 0.7270039916038513, 0.719454288482666, 0.719454288482666, 0.719454288482666, 0.70103919506073, 0.6773900985717773, 0.6644609570503235, 0.6634930968284607, 0.6582978367805481, 0.6540752053260803, 0.6517389416694641, 0.6517389416694641, 0.6398168206214905, 0.6398168206214905, 0.6155877113342285, 0.5843899846076965, 0.5708320140838623, 0.5708320140838623, 0.5708320140838623, 0.5708320140838623, 0.5655342936515808, 0.551834225654602, 0.5442792177200317, 0.5408108234405518, 0.540773332118988, 0.8688281178474426, 0.7992586493492126, 0.7992586493492126, 0.7992586493492126, 0.7873685956001282, 0.7849194407463074, 0.7771984338760376, 0.7771984338760376, 0.7771984338760376, 0.7652478814125061, 0.7572163939476013, 0.7503273487091064, 0.74446702003479, 0.7332425713539124, 0.7100344300270081, 0.7068408727645874, 0.6933727264404297, 0.6888056993484497, 0.6883918046951294, 0.6883918046951294, 0.6850490570068359, 0.6840398907661438, 0.6710233688354492, 0.6668241620063782, 0.654434084892273, 0.654434084892273, 0.654434084892273, 0.654434084892273, 0.6521766185760498, 0.6521766185760498, 0.6415024399757385, 0.6383853554725647, 0.5989834070205688, 0.5923628211021423, 0.5923628211021423, 0.5828884840011597, 0.5627996921539307, 0.5627996921539307, 0.5588703155517578, 0.5578537583351135, 0.5578537583351135, 0.6360172033309937, 0.5762040615081787, 0.5707281827926636, 0.5582337379455566, 0.5582337379455566, 0.5540338158607483, 0.5540338158607483, 0.5243848562240601, 0.5226364731788635, 0.5108418464660645, 0.5108418464660645, 0.5096396207809448, 0.5084127187728882, 0.503415048122406, 0.503415048122406, 0.503415048122406, 0.49479421973228455, 0.4920904338359833, 0.48904186487197876, 0.4792035222053528, 0.47040802240371704, 0.47033238410949707, 0.46628618240356445, 0.4662126898765564, 0.46527302265167236, 0.4602978229522705, 0.45724213123321533, 0.45724213123321533, 0.4571852684020996, 0.4571852684020996, 0.45692968368530273, 0.45692968368530273, 0.4528447389602661, 0.4484401345252991, 0.4449995160102844, 0.4432983994483948, 0.44175198674201965, 0.4407399594783783, 0.439344197511673, 0.4382660686969757, 0.4382660686969757, 0.6261235475540161, 0.603326678276062, 0.5856786966323853, 0.5856786966323853, 0.5543362498283386, 0.5524880886077881, 0.5400197505950928, 0.5400197505950928, 0.5374518632888794, 0.5230555534362793, 0.5201972723007202, 0.5169745683670044, 0.508414089679718, 0.5065743327140808, 0.4972764551639557, 0.4971965253353119, 0.495397686958313, 0.49325260519981384, 0.49325260519981384, 0.4929192066192627, 0.4918481409549713, 0.491795152425766, 0.491795152425766, 0.491795152425766, 0.48658880591392517, 0.48302823305130005, 0.48302823305130005, 0.47405382990837097, 0.47041669487953186, 0.46861839294433594, 0.46698370575904846, 0.4644383490085602, 0.46329861879348755, 0.46329861879348755, 0.4623415470123291, 0.4623415470123291, 0.4563777446746826, 0.4563777446746826, 0.4563777446746826, 0.455459862947464, 0.4542801082134247, 1.0, 1.0, 1.0, 1.0, 1.0, 1.0, 1.0, 1.0, 1.0, 1.0, 1.0, 1.0, 1.0, 1.0, 1.0, 1.0, 1.0, 1.0, 1.0, 1.0, 1.0, 1.0, 0.9116687774658203, 0.9037113189697266, 0.9037113189697266, 0.8546549081802368, 0.8397822976112366, 0.7980639934539795, 0.7679545879364014, 0.7557038068771362, 0.7557038068771362, 0.7504517436027527, 0.7244763970375061, 0.6999751329421997, 0.6778573989868164, 0.6756912469863892, 0.6691780090332031, 0.6691780090332031, 0.6662133932113647, 0.665492594242096, 0.6571687459945679, 0.5986123085021973, 0.5855595469474792, 0.5690611600875854, 0.5690611600875854, 0.5483090877532959, 0.5450238585472107, 0.5241098403930664, 0.5197857022285461, 0.5197857022285461, 0.5189968347549438, 0.5189968347549438, 0.5072648525238037, 0.5012506246566772, 0.49991703033447266, 0.49602919816970825, 0.49244827032089233, 0.491599977016449, 0.4905366599559784, 0.4892992675304413, 0.48586225509643555, 0.48586225509643555, 0.48586225509643555, 0.4844871461391449, 0.4844871461391449, 0.4833061695098877, 0.481150358915329, 0.4783673882484436, 0.4768942594528198, 0.4768942594528198, 0.4747051000595093, 0.4747051000595093, 0.46096912026405334, 0.4598802626132965, 0.4581295847892761, 0.4578965902328491, 0.4559357762336731, 0.45453375577926636, 0.45183998346328735, 0.4516836404800415, 0.45049089193344116, 0.4489656686782837, 0.6360172033309937, 0.5762040615081787, 0.5707281827926636, 0.5582337379455566, 0.5582337379455566, 0.5540338158607483, 0.5540338158607483, 0.5243848562240601, 0.5226364731788635, 0.5108418464660645, 0.5108418464660645, 0.5096396207809448, 0.5084127187728882, 0.503415048122406, 0.503415048122406, 0.503415048122406, 0.49479421973228455, 0.4920904338359833, 0.48904186487197876, 0.4792035222053528, 0.47040802240371704, 0.47033238410949707, 0.46628618240356445, 0.4662126898765564, 0.46527302265167236, 0.4602978229522705, 0.45724213123321533, 0.45724213123321533, 0.4571852684020996, 0.4571852684020996, 0.45692968368530273, 0.45692968368530273, 0.4528447389602661, 0.4484401345252991, 0.4449995160102844, 0.4432983994483948, 0.44175198674201965, 0.4407399594783783, 0.439344197511673, 0.4382660686969757, 0.4382660686969757, 0.6261235475540161, 0.603326678276062, 0.5856786966323853, 0.5856786966323853, 0.5543362498283386, 0.5524880886077881, 0.5400197505950928, 0.5400197505950928, 0.5374518632888794, 0.5230555534362793, 0.5201972723007202, 0.5169745683670044, 0.508414089679718, 0.5065743327140808, 0.4972764551639557, 0.4971965253353119, 0.495397686958313, 0.49325260519981384, 0.49325260519981384, 0.4929192066192627, 0.4918481409549713, 0.491795152425766, 0.491795152425766, 0.491795152425766, 0.48658880591392517, 0.48302823305130005, 0.48302823305130005, 0.47405382990837097, 0.47041669487953186, 0.46861839294433594, 0.46698370575904846, 0.4644383490085602, 0.46329861879348755, 0.46329861879348755, 0.4623415470123291, 0.4623415470123291, 0.4563777446746826, 0.4563777446746826, 0.4563777446746826, 0.455459862947464, 0.4542801082134247, 1.0, 1.0, 1.0, 1.0, 1.0, 1.0, 1.0, 1.0, 1.0, 1.0, 1.0, 1.0, 1.0, 1.0, 1.0, 1.0, 1.0, 1.0, 1.0, 1.0, 1.0, 1.0, 0.9116687774658203, 0.9037113189697266, 0.9037113189697266, 0.8546549081802368, 0.8397822976112366, 0.7980639934539795, 0.7679545879364014, 0.7557038068771362, 0.7557038068771362, 0.7504517436027527, 0.7244763970375061, 0.6999751329421997, 0.6778573989868164, 0.6756912469863892, 0.6691780090332031, 0.6691780090332031, 0.6662133932113647, 0.665492594242096, 0.6571687459945679, 0.5986123085021973, 0.5855595469474792, 0.5690611600875854, 0.5690611600875854, 0.5483090877532959, 0.5450238585472107, 0.5241098403930664, 0.5197857022285461, 0.5197857022285461, 0.5189968347549438, 0.5189968347549438, 0.5072648525238037, 0.5012506246566772, 0.49991703033447266, 0.49602919816970825, 0.49244827032089233, 0.491599977016449, 0.4905366599559784, 0.4892992675304413, 0.48586225509643555, 0.48586225509643555, 0.48586225509643555, 0.4844871461391449, 0.4844871461391449, 0.4833061695098877, 0.481150358915329, 0.4783673882484436, 0.4768942594528198, 0.4768942594528198, 0.4747051000595093, 0.4747051000595093, 0.46096912026405334, 0.4598802626132965, 0.4581295847892761, 0.4578965902328491, 0.4559357762336731, 0.45453375577926636, 0.45183998346328735, 0.4516836404800415, 0.45049089193344116, 0.4489656686782837, 0.7861974239349365, 0.7225080728530884, 0.7160736918449402, 0.6836539506912231, 0.6836539506912231, 0.6591734290122986, 0.6341572999954224, 0.62314772605896, 0.6032911539077759, 0.6012762784957886, 0.5942850112915039, 0.5924919843673706, 0.5838020443916321, 0.5811936259269714, 0.5772386789321899, 0.5711179971694946, 0.5690866112709045, 0.5577574968338013, 0.5577574968338013, 0.5545969009399414, 0.5532183051109314, 0.5499228835105896, 0.5486759543418884, 0.5484575629234314, 0.538459837436676, 0.5367687344551086, 0.5367687344551086, 0.5358222723007202, 0.531723141670227, 0.5288780927658081, 0.5254408121109009, 0.5249008536338806, 0.5245587229728699, 0.524163544178009, 0.5210883617401123, 0.5169188976287842, 0.5131369233131409, 0.5117954015731812, 0.5064198970794678, 0.5064198970794678, 0.505049467086792, 0.791351318359375, 0.752615213394165, 0.752615213394165, 0.6856123208999634, 0.6573236584663391, 0.6506165862083435, 0.6272436380386353, 0.6251105070114136, 0.6239378452301025, 0.6066127419471741, 0.6066127419471741, 0.5972546339035034, 0.5960493683815002, 0.5907022953033447, 0.5907022953033447, 0.5902518033981323, 0.5896607041358948, 0.5830593109130859, 0.5829482674598694, 0.5748350024223328, 0.5600659847259521, 0.5587339401245117, 0.5568740963935852, 0.5459493398666382, 0.5445578694343567, 0.5415357351303101, 0.5386426448822021, 0.5383080840110779, 0.5379997491836548, 0.5362693071365356, 0.5345920324325562, 0.5342767238616943, 0.5313282012939453, 0.5300140380859375, 0.529538631439209, 0.529538631439209, 0.5199447870254517, 0.5162597298622131, 0.514654278755188, 0.5132156610488892, 0.5128847360610962, 0.3931417465209961, 0.3261045813560486, 0.32320505380630493, 0.3173026740550995, 0.3143341839313507, 0.27367568016052246, 0.24943330883979797, 0.24735160171985626, 0.22725333273410797, 0.21150365471839905, 0.20700408518314362, 0.20700408518314362, 0.1955137699842453, 0.19500690698623657, 0.19141247868537903, 0.18605123460292816, 0.17980048060417175, 0.17980048060417175, 0.17706558108329773, 0.1728266179561615, 0.16796547174453735, 0.16694709658622742, 0.1636246144771576, 0.1634446531534195, 0.1622650921344757, 0.1597222536802292, 0.1571534126996994, 0.15442520380020142, 0.15439437329769135, 0.15321700274944305, 0.15001371502876282, 0.15001371502876282, 0.14975637197494507, 0.14975637197494507, 0.14965687692165375, 0.14916867017745972, 0.14916867017745972, 0.14916867017745972, 0.1459195911884308, 0.14562563598155975, 0.14562563598155975, 0.8114712238311768, 0.8114712238311768, 0.7665907740592957, 0.6697211265563965, 0.6685521602630615, 0.6643147468566895, 0.6480350494384766, 0.6387541890144348, 0.6166554689407349, 0.6113895177841187, 0.6038084626197815, 0.5979418754577637, 0.5979418754577637, 0.5971627235412598, 0.5967766046524048, 0.5850574970245361, 0.5808190107345581, 0.5793349742889404, 0.5759893655776978, 0.5759893655776978, 0.5749737024307251, 0.5726578235626221, 0.5724043250083923, 0.5720431804656982, 0.5612750053405762, 0.5533579587936401, 0.5531615614891052, 0.5502594709396362, 0.5486087203025818, 0.5430217981338501, 0.5346954464912415, 0.5342816710472107, 0.5332221984863281, 0.5332221984863281, 0.5313008427619934, 0.5253652334213257, 0.5099070072174072, 0.5089439749717712, 0.5077698826789856, 0.5058860778808594, 0.5057048201560974, 0.3040418028831482, 0.2846616208553314, 0.2599848806858063, 0.2592080533504486, 0.2487250715494156, 0.2082871049642563, 0.20145641267299652, 0.20145641267299652, 0.20145641267299652, 0.19066736102104187, 0.18842408061027527, 0.1857990324497223, 0.18447445333003998, 0.18387268483638763, 0.18141432106494904, 0.18131989240646362, 0.1810828000307083, 0.1810050755739212, 0.18000482022762299, 0.17969565093517303, 0.17770826816558838, 0.17618367075920105, 0.17608651518821716, 0.17570234835147858, 0.17494867742061615, 0.17299537360668182, 0.17262664437294006, 0.1666100025177002, 0.16418279707431793, 0.16216209530830383, 0.1615024209022522, 0.1615024209022522, 0.15206311643123627, 0.15181995928287506, 0.15040656924247742, 0.15022194385528564, 0.15022194385528564, 0.14825862646102905, 0.14622612297534943, 0.14622612297534943, 0.14305242896080017, 0.3040418028831482, 0.2846616208553314, 0.2599848806858063, 0.2592080533504486, 0.2487250715494156, 0.2082871049642563, 0.20145641267299652, 0.20145641267299652, 0.20145641267299652, 0.19066736102104187, 0.18842408061027527, 0.1857990324497223, 0.18447445333003998, 0.18387268483638763, 0.18141432106494904, 0.18131989240646362, 0.1810828000307083, 0.1810050755739212, 0.18000482022762299, 0.17969565093517303, 0.17770826816558838, 0.17618367075920105, 0.17608651518821716, 0.17570234835147858, 0.17494867742061615, 0.17299537360668182, 0.17262664437294006, 0.1666100025177002, 0.16418279707431793, 0.16216209530830383, 0.1615024209022522, 0.1615024209022522, 0.15206311643123627, 0.15181995928287506, 0.15040656924247742, 0.15022194385528564, 0.15022194385528564, 0.14825862646102905, 0.14622612297534943, 0.14622612297534943, 0.14305242896080017, 0.350569486618042, 0.2961401343345642, 0.2913232743740082, 0.2762124538421631, 0.2735958993434906, 0.25853028893470764, 0.25109902024269104, 0.23840731382369995, 0.23271535336971283, 0.2315921038389206, 0.22915558516979218, 0.21307246387004852, 0.21127057075500488, 0.20796282589435577, 0.2054622620344162, 0.19826330244541168, 0.18850675225257874, 0.18850216269493103, 0.1845378428697586, 0.17342610657215118, 0.16301128268241882, 0.15164516866207123, 0.13776962459087372, 0.13555891811847687, 0.13453765213489532, 0.13068293035030365, 0.12885409593582153, 0.12751495838165283, 0.12737520039081573, 0.12424030900001526, 0.12298392504453659, 0.11866872012615204, 0.11658015847206116, 0.11422687023878098, 0.11362195014953613, 0.11136867105960846, 0.11124493926763535, 0.11096969991922379, 0.10904596745967865, 0.1083921268582344, 0.1074957549571991, 0.3493812084197998, 0.3190940320491791, 0.2929019331932068, 0.2929019331932068, 0.2929019331932068, 0.28547850251197815, 0.27559882402420044, 0.2735215723514557, 0.26866525411605835, 0.2662995755672455, 0.26402774453163147, 0.2577463388442993, 0.2550429105758667, 0.2546745836734772, 0.2472587525844574, 0.2472587525844574, 0.2472587525844574, 0.24647435545921326, 0.2414126694202423, 0.24060140550136566, 0.23682376742362976, 0.23568344116210938, 0.23305103182792664, 0.2324579358100891, 0.2306060492992401, 0.2287823110818863, 0.22851650416851044, 0.22802942991256714, 0.2256772667169571, 0.22473111748695374, 0.2244684398174286, 0.22403661906719208, 0.22225309908390045, 0.22215768694877625, 0.2202835977077484, 0.21703487634658813, 0.21624010801315308, 0.2161208838224411, 0.2130167931318283, 0.21232692897319794, 0.20752465724945068, 0.7699798941612244, 0.6868253946304321, 0.6828423142433167, 0.6737571954727173, 0.6572728157043457, 0.6572728157043457, 0.64810711145401, 0.6464861631393433, 0.6346157789230347, 0.6224086284637451, 0.6213240623474121, 0.6213240623474121, 0.6191003322601318, 0.618364155292511, 0.615850031375885, 0.6023262739181519, 0.5968130826950073, 0.5968130826950073, 0.5868600010871887, 0.5868600010871887, 0.5825139880180359, 0.5825139880180359, 0.5813522934913635, 0.5791972875595093, 0.5791972875595093, 0.5778310298919678, 0.5767873525619507, 0.5749527812004089, 0.574471116065979, 0.5708677768707275, 0.5708677768707275, 0.5644885301589966, 0.5642887353897095, 0.5627237558364868, 0.5625903606414795, 0.5625903606414795, 0.5576885342597961, 0.5576218366622925, 0.5566516518592834, 0.5523752570152283, 0.5481480360031128, 0.9093015789985657, 0.8667153716087341, 0.8154745101928711, 0.7528121471405029, 0.7350531816482544, 0.7060804963111877, 0.690751314163208, 0.6830330491065979, 0.679309070110321, 0.679309070110321, 0.6472938656806946, 0.6458512544631958, 0.6458512544631958, 0.6246823072433472, 0.6192166209220886, 0.6192166209220886, 0.6109415888786316, 0.6042930483818054, 0.6042930483818054, 0.60406494140625, 0.584021270275116, 0.5703579187393188, 0.5626186728477478, 0.5626186728477478, 0.5595018863677979, 0.5595018863677979, 0.5586949586868286, 0.555509090423584, 0.5518776178359985, 0.5516821146011353, 0.5516821146011353, 0.5496927499771118, 0.5403391122817993, 0.5326385498046875, 0.527370274066925, 0.5242793560028076, 0.5189889669418335, 0.5189889669418335, 0.5165063142776489, 0.515058696269989, 0.5145902633666992, 0.8715487718582153, 0.857427716255188, 0.8517833948135376, 0.799750804901123, 0.7695249319076538, 0.7695249319076538, 0.7486048340797424, 0.7213374376296997, 0.7145298719406128, 0.701838493347168, 0.6523429155349731, 0.6389303803443909, 0.6389303803443909, 0.6349549889564514, 0.6121184825897217, 0.6098814010620117, 0.6019275784492493, 0.6019275784492493, 0.5857366323471069, 0.5749808549880981, 0.5749808549880981, 0.5743653774261475, 0.571621298789978, 0.5652428865432739, 0.5636641383171082, 0.5636641383171082, 0.5631967782974243, 0.5631967782974243, 0.555756151676178, 0.5552314519882202, 0.5544331073760986, 0.5529407262802124, 0.5475683212280273, 0.5425949096679688, 0.5315353870391846, 0.5309173464775085, 0.5230990648269653, 0.5212613940238953, 0.5212613940238953, 0.5203797817230225, 0.5203797817230225, 1.0, 1.0, 1.0, 1.0, 1.0, 1.0, 1.0, 1.0, 1.0, 1.0, 1.0, 1.0, 1.0, 1.0, 1.0, 1.0, 1.0, 1.0, 1.0, 1.0, 1.0, 1.0, 1.0, 0.9116687774658203, 0.9037113189697266, 0.9037113189697266, 0.8546549081802368, 0.8397822976112366, 0.7980639934539795, 0.7679545879364014, 0.7557038068771362, 0.7557038068771362, 0.7504517436027527, 0.7244763970375061, 0.6999751329421997, 0.6778573989868164, 0.6756912469863892, 0.6691780090332031, 0.6691780090332031, 0.6662133932113647, 0.665492594242096, 0.9093015789985657, 0.8667153716087341, 0.8154745101928711, 0.7528121471405029, 0.7350531816482544, 0.7060804963111877, 0.690751314163208, 0.6830330491065979, 0.679309070110321, 0.679309070110321, 0.6472938656806946, 0.6458512544631958, 0.6458512544631958, 0.6246823072433472, 0.6192166209220886, 0.6192166209220886, 0.6109415888786316, 0.6042930483818054, 0.6042930483818054, 0.60406494140625, 0.584021270275116, 0.5703579187393188, 0.5626186728477478, 0.5626186728477478, 0.5595018863677979, 0.5595018863677979, 0.5586949586868286, 0.555509090423584, 0.5518776178359985, 0.5516821146011353, 0.5516821146011353, 0.5496927499771118, 0.5403391122817993, 0.5326385498046875, 0.527370274066925, 0.5242793560028076, 0.5189889669418335, 0.5189889669418335, 0.5165063142776489, 0.515058696269989, 0.5145902633666992, 0.5631696581840515, 0.5021650791168213, 0.47314855456352234, 0.46250954270362854, 0.4586923122406006, 0.4577944278717041, 0.4563278555870056, 0.4444100856781006, 0.4437025785446167, 0.4319237470626831, 0.4244493246078491, 0.4227876365184784, 0.4213528037071228, 0.4213220477104187, 0.4207673668861389, 0.4134628176689148, 0.40922319889068604, 0.4025120735168457, 0.4025120735168457, 0.40244969725608826, 0.39782291650772095, 0.3954280912876129, 0.3871101140975952, 0.386194109916687, 0.3852044343948364, 0.3847871720790863, 0.37445634603500366, 0.37371137738227844, 0.3629109859466553, 0.3622990548610687, 0.3612498641014099, 0.3576051890850067, 0.3549776077270508, 0.35408785939216614, 0.35395655035972595, 0.3539394736289978, 0.35190874338150024, 0.35129475593566895, 0.3484204411506653, 0.3484204411506653, 0.3482970595359802, 0.5438346862792969, 0.5110410451889038, 0.5110410451889038, 0.4932575821876526, 0.4921184778213501, 0.46043661236763, 0.44813424348831177, 0.44559192657470703, 0.4346102476119995, 0.4183359146118164, 0.41288042068481445, 0.41288042068481445, 0.4123174250125885, 0.4060100317001343, 0.40265804529190063, 0.39711976051330566, 0.3942408561706543, 0.3876512944698334, 0.3876512944698334, 0.3848878741264343, 0.3832896053791046, 0.376117467880249, 0.3586879372596741, 0.3569822907447815, 0.3553943336009979, 0.3553943336009979, 0.3546002209186554, 0.3520728349685669, 0.3506312966346741, 0.3506312966346741, 0.3506312966346741, 0.3506312966346741, 0.34342411160469055, 0.34190428256988525, 0.34009623527526855, 0.33460181951522827, 0.3341098427772522, 0.3341098427772522, 0.3341098427772522, 0.3322393298149109, 0.3322393298149109, 0.779558002948761, 0.7791506052017212, 0.7126854658126831, 0.7123521566390991, 0.6953185200691223, 0.6765698790550232, 0.6676663756370544, 0.6537957191467285, 0.6185321807861328, 0.6123150587081909, 0.6063652038574219, 0.5991055965423584, 0.592634379863739, 0.5810555815696716, 0.5810555815696716, 0.5798585414886475, 0.5791822671890259, 0.5787550210952759, 0.5787550210952759, 0.5662983655929565, 0.5659879446029663, 0.5655951499938965, 0.5655951499938965, 0.5655951499938965, 0.5655951499938965, 0.5584108829498291, 0.5584108829498291, 0.5362544059753418, 0.5362544059753418, 0.5304149389266968, 0.5236446857452393, 0.5232529640197754, 0.5188071131706238, 0.5182212591171265, 0.5147619843482971, 0.5147619843482971, 0.5147619843482971, 0.5128596425056458, 0.5107333660125732, 0.5048604011535645, 0.501607358455658, 0.43096923828125, 0.375806987285614, 0.375806987285614, 0.373815655708313, 0.3513796925544739, 0.3306223750114441, 0.3241756558418274, 0.29945990443229675, 0.2943671941757202, 0.2889767587184906, 0.2889767587184906, 0.28756627440452576, 0.2768079340457916, 0.2747582793235779, 0.2708995044231415, 0.26897743344306946, 0.2596132755279541, 0.25904589891433716, 0.25842568278312683, 0.2507188022136688, 0.24865809082984924, 0.24553167819976807, 0.24513757228851318, 0.24513757228851318, 0.24466967582702637, 0.23822979629039764, 0.23476342856884003, 0.2299976795911789, 0.22311973571777344, 0.22063350677490234, 0.21983981132507324, 0.21706458926200867, 0.21695482730865479, 0.21524755656719208, 0.21426068246364594, 0.21426068246364594, 0.2125687599182129, 0.21189051866531372, 0.21189051866531372, 0.21166858077049255, 0.21071948111057281, 0.7318629622459412, 0.49323850870132446, 0.44229429960250854, 0.44229429960250854, 0.4416912794113159, 0.43493449687957764, 0.4152679145336151, 0.4152679145336151, 0.3925267159938812, 0.37715476751327515, 0.3756105601787567, 0.3756105601787567, 0.3756105601787567, 0.3756105601787567, 0.367889940738678, 0.3662618398666382, 0.3579121232032776, 0.3579121232032776, 0.3579121232032776, 0.3502829670906067, 0.349995493888855, 0.349995493888855, 0.3350676894187927, 0.3315986394882202, 0.3315986394882202, 0.3315986394882202, 0.33117738366127014, 0.3215762972831726, 0.28341323137283325, 0.2822027802467346, 0.27985939383506775, 0.2793683707714081, 0.2778542935848236, 0.2729105055332184, 0.272571861743927, 0.272571861743927, 0.272571861743927, 0.2684725224971771, 0.26566821336746216, 0.26448631286621094, 0.25990036129951477, 0.7520356178283691, 0.6580736637115479, 0.6531323790550232, 0.6517160534858704, 0.6417262554168701, 0.6353133916854858, 0.626239538192749, 0.623214602470398, 0.6219682693481445, 0.6194628477096558, 0.6194628477096558, 0.6066436767578125, 0.6045588254928589, 0.6016401648521423, 0.59861820936203, 0.5952276587486267, 0.5929384231567383, 0.5872834324836731, 0.5728209614753723, 0.5727047920227051, 0.571336030960083, 0.569716215133667, 0.5686169862747192, 0.5647323727607727, 0.5611881017684937, 0.5596574544906616, 0.5572789907455444, 0.5552664399147034, 0.5261344909667969, 0.5261344909667969, 0.5162132382392883, 0.515507698059082, 0.51545649766922, 0.51545649766922, 0.51545649766922, 0.5105315446853638, 0.5078903436660767, 0.5035984516143799, 0.5009132623672485, 0.48963499069213867, 0.4875138998031616, 0.6086691617965698, 0.5692087411880493, 0.5670158267021179, 0.5457507967948914, 0.5306587219238281, 0.5101518630981445, 0.5092988610267639, 0.49364548921585083, 0.4921935796737671, 0.48815083503723145, 0.4628022313117981, 0.4628022313117981, 0.45573028922080994, 0.45573028922080994, 0.44626837968826294, 0.44626837968826294, 0.44339919090270996, 0.42841002345085144, 0.41797739267349243, 0.4104272723197937, 0.4104272723197937, 0.41006192564964294, 0.408162921667099, 0.399908185005188, 0.39702504873275757, 0.3965992331504822, 0.3872961401939392, 0.38498687744140625, 0.3794178366661072, 0.3784811198711395, 0.3758147358894348, 0.3739960193634033, 0.3735191822052002, 0.3698873817920685, 0.3698873817920685, 0.3683685064315796, 0.36770591139793396, 0.367692768573761, 0.3634546399116516, 0.3621898889541626, 0.3585380017757416, 0.46564167737960815, 0.4638477563858032, 0.44645190238952637, 0.434105783700943, 0.41733017563819885, 0.41663235425949097, 0.40382707118988037, 0.40263932943344116, 0.3993321657180786, 0.378595769405365, 0.378595769405365, 0.3728105425834656, 0.3728105425834656, 0.3650702238082886, 0.3650702238082886, 0.3634663224220276, 0.36272308230400085, 0.3504611849784851, 0.3419267237186432, 0.33575037121772766, 0.33575037121772766, 0.33545148372650146, 0.33389800786972046, 0.32714521884918213, 0.3247866630554199, 0.32443827390670776, 0.3168278932571411, 0.31493881344795227, 0.3096167743206024, 0.307435542345047, 0.30594775080680847, 0.3055576682090759, 0.3025866746902466, 0.3025866746902466, 0.3013441562652588, 0.300802081823349, 0.3007913827896118, 0.29628974199295044, 0.2933023273944855, 0.28477680683135986, 0.28477680683135986, 0.4122593104839325, 0.3986648619174957, 0.3383045196533203, 0.3144295811653137, 0.30862122774124146, 0.3008289337158203, 0.28825122117996216, 0.26464611291885376, 0.26021718978881836, 0.2554401755332947, 0.24256670475006104, 0.23702934384346008, 0.2336752563714981, 0.2336752563714981, 0.22802133858203888, 0.22587358951568604, 0.21727994084358215, 0.20399555563926697, 0.20189796388149261, 0.20046767592430115, 0.19961699843406677, 0.1917380541563034, 0.19048336148262024, 0.19048336148262024, 0.19048336148262024, 0.18801826238632202, 0.18801826238632202, 0.18661749362945557, 0.18645168840885162, 0.18207243084907532, 0.18138901889324188, 0.1776292324066162, 0.1776292324066162, 0.16947467625141144, 0.16947467625141144, 0.16425777971744537, 0.16173523664474487, 0.15701039135456085, 0.15353725850582123, 0.15267673134803772, 0.15127412974834442, 0.6086691617965698, 0.5692087411880493, 0.5670158267021179, 0.5457507967948914, 0.5306587219238281, 0.5101518630981445, 0.5092988610267639, 0.49364548921585083, 0.4921935796737671, 0.48815083503723145, 0.4628022313117981, 0.4628022313117981, 0.45573028922080994, 0.45573028922080994, 0.44626837968826294, 0.44626837968826294, 0.44339919090270996, 0.42841002345085144, 0.41797739267349243, 0.4104272723197937, 0.4104272723197937, 0.41006192564964294, 0.408162921667099, 0.399908185005188, 0.39702504873275757, 0.3965992331504822, 0.3872961401939392, 0.38498687744140625, 0.3794178366661072, 0.3784811198711395, 0.3758147358894348, 0.3739960193634033, 0.3735191822052002, 0.3698873817920685, 0.3698873817920685, 0.3683685064315796, 0.36770591139793396, 0.367692768573761, 0.3634546399116516, 0.3621898889541626, 0.3585380017757416, 0.9688014984130859, 0.9688014984130859, 0.9347843527793884, 0.8959062099456787, 0.8853405714035034, 0.8758015632629395, 0.8682584762573242, 0.8682584762573242, 0.8674315214157104, 0.8674315214157104, 0.8674315214157104, 0.8548052906990051, 0.8548052906990051, 0.8548052906990051, 0.8493732213973999, 0.7924703359603882, 0.7833091020584106, 0.7833091020584106, 0.770082950592041, 0.7651827931404114, 0.7651827931404114, 0.7651827931404114, 0.7651827931404114, 0.7651827931404114, 0.7651827931404114, 0.7651827931404114, 0.7651827931404114, 0.7651827931404114, 0.7651827931404114, 0.7545033097267151, 0.7545033097267151, 0.7545033097267151, 0.748116135597229, 0.7410751581192017, 0.7410751581192017, 0.735266923904419, 0.735266923904419, 0.7351616621017456, 0.7240592837333679, 0.7206951379776001, 0.7206951379776001, 0.9688014984130859, 0.9688014984130859, 0.9347843527793884, 0.8959062099456787, 0.8853405714035034, 0.8758015632629395, 0.8682584762573242, 0.8682584762573242, 0.8674315214157104, 0.8674315214157104, 0.8674315214157104, 0.8548052906990051, 0.8548052906990051, 0.8548052906990051, 0.8493732213973999, 0.7924703359603882, 0.7833091020584106, 0.7833091020584106, 0.770082950592041, 0.7651827931404114, 0.7651827931404114, 0.7651827931404114, 0.7651827931404114, 0.7651827931404114, 0.7651827931404114, 0.7651827931404114, 0.7651827931404114, 0.7651827931404114, 0.7651827931404114, 0.7545033097267151, 0.7545033097267151, 0.7545033097267151, 0.748116135597229, 0.7410751581192017, 0.7410751581192017, 0.735266923904419, 0.735266923904419, 0.7351616621017456, 0.7240592837333679, 0.7206951379776001, 0.7206951379776001, 0.8345171809196472, 0.4709370732307434, 0.4709370732307434, 0.455924391746521, 0.422167032957077, 0.422167032957077, 0.41601186990737915, 0.4087071120738983, 0.4087071120738983, 0.37357088923454285, 0.3599945306777954, 0.35069483518600464, 0.3250196874141693, 0.3048258423805237, 0.3041405975818634, 0.30217990279197693, 0.3017776310443878, 0.29812008142471313, 0.29747697710990906, 0.29747697710990906, 0.29481416940689087, 0.29481416940689087, 0.29356589913368225, 0.29348257184028625, 0.2886343002319336, 0.2884555160999298, 0.2881595194339752, 0.2881595194339752, 0.2868915796279907, 0.2841466963291168, 0.2837885022163391, 0.2832113802433014, 0.2832113802433014, 0.28309452533721924, 0.27752071619033813, 0.2754737138748169, 0.27525484561920166, 0.2746800184249878, 0.27193087339401245, 0.2683582603931427, 0.2666429579257965, 0.9688014984130859, 0.9688014984130859, 0.9347843527793884, 0.8959062099456787, 0.8853405714035034, 0.8758015632629395, 0.8682584762573242, 0.8682584762573242, 0.8674315214157104, 0.8674315214157104, 0.8674315214157104, 0.8548052906990051, 0.8548052906990051, 0.8548052906990051, 0.8493732213973999, 0.7924703359603882, 0.7833091020584106, 0.7833091020584106, 0.770082950592041, 0.7651827931404114, 0.7651827931404114, 0.7651827931404114, 0.7651827931404114, 0.7651827931404114, 0.7651827931404114, 0.7651827931404114, 0.7651827931404114, 0.7651827931404114, 0.7651827931404114, 0.7545033097267151, 0.7545033097267151, 0.7545033097267151, 0.748116135597229, 0.7410751581192017, 0.7410751581192017, 0.735266923904419, 0.735266923904419, 0.7351616621017456, 0.7240592837333679, 0.7206951379776001, 0.7206951379776001, 0.7417690753936768, 0.7289615273475647, 0.6933009028434753, 0.6656132936477661, 0.6615753173828125, 0.6615753173828125, 0.6541135311126709, 0.6462377309799194, 0.6462377309799194, 0.6447241306304932, 0.6447241306304932, 0.6447241306304932, 0.6373637914657593, 0.6307180523872375, 0.6257647275924683, 0.6251381635665894, 0.6225638389587402, 0.6225638389587402, 0.614728569984436, 0.6127166748046875, 0.6116961240768433, 0.6077864170074463, 0.6067789793014526, 0.6067789793014526, 0.5977059602737427, 0.5972924828529358, 0.5919153690338135, 0.5919153690338135, 0.5904684066772461, 0.5894266963005066, 0.5871635675430298, 0.5871635675430298, 0.5804293155670166, 0.5784211158752441, 0.5780470371246338, 0.5576920509338379, 0.5561925172805786, 0.5528838634490967, 0.5504258871078491, 0.5503494739532471, 0.5501080751419067, 0.6989976167678833, 0.6918603777885437, 0.6543411016464233, 0.6477288007736206, 0.6222634315490723, 0.5942115187644958, 0.5927232503890991, 0.5927232503890991, 0.58423912525177, 0.5814530849456787, 0.5812867283821106, 0.5812867283821106, 0.5812867283821106, 0.5757587552070618, 0.5757587552070618, 0.5713571310043335, 0.5713571310043335, 0.5665328502655029, 0.5654048919677734, 0.5636744499206543, 0.5587509870529175, 0.5580278635025024, 0.5576286315917969, 0.5550178289413452, 0.5525381565093994, 0.5525381565093994, 0.5449843406677246, 0.5419957041740417, 0.535504937171936, 0.5318845510482788, 0.5309473872184753, 0.5276601314544678, 0.5276601314544678, 0.5203862190246582, 0.515507698059082, 0.5145436525344849, 0.5108888149261475, 0.4996798038482666, 0.4953482747077942, 0.4900844395160675, 0.48680680990219116, 0.683350145816803, 0.5185270309448242, 0.5165889263153076, 0.5067101716995239, 0.49326711893081665, 0.49326711893081665, 0.4331679940223694, 0.4061771333217621, 0.372207373380661, 0.3664172887802124, 0.331856906414032, 0.32353371381759644, 0.3230985701084137, 0.3168487548828125, 0.31602299213409424, 0.3086875081062317, 0.3071327805519104, 0.30159881711006165, 0.2965569496154785, 0.29206663370132446, 0.29206663370132446, 0.29206663370132446, 0.2914390563964844, 0.2722730338573456, 0.26976606249809265, 0.2685474157333374, 0.2630356550216675, 0.26279202103614807, 0.26242128014564514, 0.2624037563800812, 0.2624037563800812, 0.25949686765670776, 0.25764814019203186, 0.24652640521526337, 0.24351292848587036, 0.24333906173706055, 0.24256214499473572, 0.2325737327337265, 0.2306358963251114, 0.23040467500686646, 0.23023486137390137, 0.766104519367218, 0.72625732421875, 0.6887221336364746, 0.6887221336364746, 0.6882779598236084, 0.6652970314025879, 0.6652970314025879, 0.6632875204086304, 0.6512047052383423, 0.6486181020736694, 0.6486181020736694, 0.6486181020736694, 0.6464320421218872, 0.6464320421218872, 0.645309567451477, 0.6325432062149048, 0.6317079663276672, 0.6275118589401245, 0.6239080429077148, 0.6228166818618774, 0.6224167346954346, 0.620815634727478, 0.6185302734375, 0.6185302734375, 0.6152282357215881, 0.6144316792488098, 0.6118800640106201, 0.6090930700302124, 0.6045346856117249, 0.5976598262786865, 0.5926229953765869, 0.5918914675712585, 0.5890317559242249, 0.5890317559242249, 0.5807862281799316, 0.5749317407608032, 0.5724755525588989, 0.5629853010177612, 0.5568596124649048, 0.5532389283180237, 0.5499466061592102, 0.30667227506637573, 0.3000156879425049, 0.28809407353401184, 0.2802788019180298, 0.27990975975990295, 0.2657625079154968, 0.25728774070739746, 0.2461555004119873, 0.24466310441493988, 0.23949822783470154, 0.23595447838306427, 0.2270205169916153, 0.2235061675310135, 0.22271546721458435, 0.22271546721458435, 0.2178056687116623, 0.21299727261066437, 0.21259401738643646, 0.21184173226356506, 0.211826354265213, 0.20992779731750488, 0.20898914337158203, 0.20898914337158203, 0.20898914337158203, 0.20896576344966888, 0.20827898383140564, 0.2080053687095642, 0.2080053687095642, 0.20661857724189758, 0.20254671573638916, 0.20059505105018616, 0.1962990164756775, 0.19494909048080444, 0.19494909048080444, 0.19473505020141602, 0.19353970885276794, 0.19219276309013367, 0.19087491929531097, 0.1879315823316574, 0.18488359451293945, 0.18488359451293945, 0.31014662981033325, 0.30693402886390686, 0.2991580069065094, 0.2894352078437805, 0.285178542137146, 0.2813907563686371, 0.2793818712234497, 0.27344080805778503, 0.27323105931282043, 0.2683680057525635, 0.2597627341747284, 0.2587350010871887, 0.25698578357696533, 0.24421782791614532, 0.24421782791614532, 0.24032974243164062, 0.2331191897392273, 0.23201748728752136, 0.23201748728752136, 0.23201748728752136, 0.2301955372095108, 0.22955572605133057, 0.22297032177448273, 0.22297032177448273, 0.22133931517601013, 0.21991530060768127, 0.21744847297668457, 0.21629348397254944, 0.21353599429130554, 0.2118428647518158, 0.21074827015399933, 0.20930320024490356, 0.20756247639656067, 0.20602703094482422, 0.20132975280284882, 0.19959190487861633, 0.19729146361351013, 0.19729146361351013, 0.1937936693429947, 0.19069696962833405, 0.18924088776111603, 0.6427572965621948, 0.6337223052978516, 0.39026975631713867, 0.37902605533599854, 0.3723483383655548, 0.32628488540649414, 0.29301342368125916, 0.29187294840812683, 0.2908264398574829, 0.26234304904937744, 0.26234304904937744, 0.2616049647331238, 0.26078101992607117, 0.2573354244232178, 0.2558606266975403, 0.2558606266975403, 0.23706193268299103, 0.23706193268299103, 0.2358471155166626, 0.23454512655735016, 0.23454374074935913, 0.23430609703063965, 0.23367704451084137, 0.23367704451084137, 0.23321351408958435, 0.23321351408958435, 0.2323867529630661, 0.21717873215675354, 0.21717873215675354, 0.21528784930706024, 0.2148464322090149, 0.2098914384841919, 0.2086176872253418, 0.20754596590995789, 0.20223963260650635, 0.1934971660375595, 0.19296422600746155, 0.19255049526691437, 0.19255049526691437, 0.18583694100379944, 0.18458957970142365, 0.31014662981033325, 0.30693402886390686, 0.2991580069065094, 0.2894352078437805, 0.285178542137146, 0.2813907563686371, 0.2793818712234497, 0.27344080805778503, 0.27323105931282043, 0.2683680057525635, 0.2597627341747284, 0.2587350010871887, 0.25698578357696533, 0.24421782791614532, 0.24421782791614532, 0.24032974243164062, 0.2331191897392273, 0.23201748728752136, 0.23201748728752136, 0.23201748728752136, 0.2301955372095108, 0.22955572605133057, 0.22297032177448273, 0.22297032177448273, 0.22133931517601013, 0.21991530060768127, 0.21744847297668457, 0.21629348397254944, 0.21353599429130554, 0.2118428647518158, 0.21074827015399933, 0.20930320024490356, 0.20756247639656067, 0.20602703094482422, 0.20132975280284882, 0.19959190487861633, 0.19729146361351013, 0.19729146361351013, 0.1937936693429947, 0.19069696962833405, 0.18924088776111603], \"xaxis\": \"x\", \"yaxis\": \"y\"}],\n",
              "                        {\"barmode\": \"relative\", \"legend\": {\"tracegroupgap\": 0}, \"template\": {\"data\": {\"bar\": [{\"error_x\": {\"color\": \"#2a3f5f\"}, \"error_y\": {\"color\": \"#2a3f5f\"}, \"marker\": {\"line\": {\"color\": \"#E5ECF6\", \"width\": 0.5}}, \"type\": \"bar\"}], \"barpolar\": [{\"marker\": {\"line\": {\"color\": \"#E5ECF6\", \"width\": 0.5}}, \"type\": \"barpolar\"}], \"carpet\": [{\"aaxis\": {\"endlinecolor\": \"#2a3f5f\", \"gridcolor\": \"white\", \"linecolor\": \"white\", \"minorgridcolor\": \"white\", \"startlinecolor\": \"#2a3f5f\"}, \"baxis\": {\"endlinecolor\": \"#2a3f5f\", \"gridcolor\": \"white\", \"linecolor\": \"white\", \"minorgridcolor\": \"white\", \"startlinecolor\": \"#2a3f5f\"}, \"type\": \"carpet\"}], \"choropleth\": [{\"colorbar\": {\"outlinewidth\": 0, \"ticks\": \"\"}, \"type\": \"choropleth\"}], \"contour\": [{\"colorbar\": {\"outlinewidth\": 0, \"ticks\": \"\"}, \"colorscale\": [[0.0, \"#0d0887\"], [0.1111111111111111, \"#46039f\"], [0.2222222222222222, \"#7201a8\"], [0.3333333333333333, \"#9c179e\"], [0.4444444444444444, \"#bd3786\"], [0.5555555555555556, \"#d8576b\"], [0.6666666666666666, \"#ed7953\"], [0.7777777777777778, \"#fb9f3a\"], [0.8888888888888888, \"#fdca26\"], [1.0, \"#f0f921\"]], \"type\": \"contour\"}], \"contourcarpet\": [{\"colorbar\": {\"outlinewidth\": 0, \"ticks\": \"\"}, \"type\": \"contourcarpet\"}], \"heatmap\": [{\"colorbar\": {\"outlinewidth\": 0, \"ticks\": \"\"}, \"colorscale\": [[0.0, \"#0d0887\"], [0.1111111111111111, \"#46039f\"], [0.2222222222222222, \"#7201a8\"], [0.3333333333333333, \"#9c179e\"], [0.4444444444444444, \"#bd3786\"], [0.5555555555555556, \"#d8576b\"], [0.6666666666666666, \"#ed7953\"], [0.7777777777777778, \"#fb9f3a\"], [0.8888888888888888, \"#fdca26\"], [1.0, \"#f0f921\"]], \"type\": \"heatmap\"}], \"heatmapgl\": [{\"colorbar\": {\"outlinewidth\": 0, \"ticks\": \"\"}, \"colorscale\": [[0.0, \"#0d0887\"], [0.1111111111111111, \"#46039f\"], [0.2222222222222222, \"#7201a8\"], [0.3333333333333333, \"#9c179e\"], [0.4444444444444444, \"#bd3786\"], [0.5555555555555556, \"#d8576b\"], [0.6666666666666666, \"#ed7953\"], [0.7777777777777778, \"#fb9f3a\"], [0.8888888888888888, \"#fdca26\"], [1.0, \"#f0f921\"]], \"type\": \"heatmapgl\"}], \"histogram\": [{\"marker\": {\"colorbar\": {\"outlinewidth\": 0, \"ticks\": \"\"}}, \"type\": \"histogram\"}], \"histogram2d\": [{\"colorbar\": {\"outlinewidth\": 0, \"ticks\": \"\"}, \"colorscale\": [[0.0, \"#0d0887\"], [0.1111111111111111, \"#46039f\"], [0.2222222222222222, \"#7201a8\"], [0.3333333333333333, \"#9c179e\"], [0.4444444444444444, \"#bd3786\"], [0.5555555555555556, \"#d8576b\"], [0.6666666666666666, \"#ed7953\"], [0.7777777777777778, \"#fb9f3a\"], [0.8888888888888888, \"#fdca26\"], [1.0, \"#f0f921\"]], \"type\": \"histogram2d\"}], \"histogram2dcontour\": [{\"colorbar\": {\"outlinewidth\": 0, \"ticks\": \"\"}, \"colorscale\": [[0.0, \"#0d0887\"], [0.1111111111111111, \"#46039f\"], [0.2222222222222222, \"#7201a8\"], [0.3333333333333333, \"#9c179e\"], [0.4444444444444444, \"#bd3786\"], [0.5555555555555556, \"#d8576b\"], [0.6666666666666666, \"#ed7953\"], [0.7777777777777778, \"#fb9f3a\"], [0.8888888888888888, \"#fdca26\"], [1.0, \"#f0f921\"]], \"type\": \"histogram2dcontour\"}], \"mesh3d\": [{\"colorbar\": {\"outlinewidth\": 0, \"ticks\": \"\"}, \"type\": \"mesh3d\"}], \"parcoords\": [{\"line\": {\"colorbar\": {\"outlinewidth\": 0, \"ticks\": \"\"}}, \"type\": \"parcoords\"}], \"pie\": [{\"automargin\": true, \"type\": \"pie\"}], \"scatter\": [{\"marker\": {\"colorbar\": {\"outlinewidth\": 0, \"ticks\": \"\"}}, \"type\": \"scatter\"}], \"scatter3d\": [{\"line\": {\"colorbar\": {\"outlinewidth\": 0, \"ticks\": \"\"}}, \"marker\": {\"colorbar\": {\"outlinewidth\": 0, \"ticks\": \"\"}}, \"type\": \"scatter3d\"}], \"scattercarpet\": [{\"marker\": {\"colorbar\": {\"outlinewidth\": 0, \"ticks\": \"\"}}, \"type\": \"scattercarpet\"}], \"scattergeo\": [{\"marker\": {\"colorbar\": {\"outlinewidth\": 0, \"ticks\": \"\"}}, \"type\": \"scattergeo\"}], \"scattergl\": [{\"marker\": {\"colorbar\": {\"outlinewidth\": 0, \"ticks\": \"\"}}, \"type\": \"scattergl\"}], \"scattermapbox\": [{\"marker\": {\"colorbar\": {\"outlinewidth\": 0, \"ticks\": \"\"}}, \"type\": \"scattermapbox\"}], \"scatterpolar\": [{\"marker\": {\"colorbar\": {\"outlinewidth\": 0, \"ticks\": \"\"}}, \"type\": \"scatterpolar\"}], \"scatterpolargl\": [{\"marker\": {\"colorbar\": {\"outlinewidth\": 0, \"ticks\": \"\"}}, \"type\": \"scatterpolargl\"}], \"scatterternary\": [{\"marker\": {\"colorbar\": {\"outlinewidth\": 0, \"ticks\": \"\"}}, \"type\": \"scatterternary\"}], \"surface\": [{\"colorbar\": {\"outlinewidth\": 0, \"ticks\": \"\"}, \"colorscale\": [[0.0, \"#0d0887\"], [0.1111111111111111, \"#46039f\"], [0.2222222222222222, \"#7201a8\"], [0.3333333333333333, \"#9c179e\"], [0.4444444444444444, \"#bd3786\"], [0.5555555555555556, \"#d8576b\"], [0.6666666666666666, \"#ed7953\"], [0.7777777777777778, \"#fb9f3a\"], [0.8888888888888888, \"#fdca26\"], [1.0, \"#f0f921\"]], \"type\": \"surface\"}], \"table\": [{\"cells\": {\"fill\": {\"color\": \"#EBF0F8\"}, \"line\": {\"color\": \"white\"}}, \"header\": {\"fill\": {\"color\": \"#C8D4E3\"}, \"line\": {\"color\": \"white\"}}, \"type\": \"table\"}]}, \"layout\": {\"annotationdefaults\": {\"arrowcolor\": \"#2a3f5f\", \"arrowhead\": 0, \"arrowwidth\": 1}, \"coloraxis\": {\"colorbar\": {\"outlinewidth\": 0, \"ticks\": \"\"}}, \"colorscale\": {\"diverging\": [[0, \"#8e0152\"], [0.1, \"#c51b7d\"], [0.2, \"#de77ae\"], [0.3, \"#f1b6da\"], [0.4, \"#fde0ef\"], [0.5, \"#f7f7f7\"], [0.6, \"#e6f5d0\"], [0.7, \"#b8e186\"], [0.8, \"#7fbc41\"], [0.9, \"#4d9221\"], [1, \"#276419\"]], \"sequential\": [[0.0, \"#0d0887\"], [0.1111111111111111, \"#46039f\"], [0.2222222222222222, \"#7201a8\"], [0.3333333333333333, \"#9c179e\"], [0.4444444444444444, \"#bd3786\"], [0.5555555555555556, \"#d8576b\"], [0.6666666666666666, \"#ed7953\"], [0.7777777777777778, \"#fb9f3a\"], [0.8888888888888888, \"#fdca26\"], [1.0, \"#f0f921\"]], \"sequentialminus\": [[0.0, \"#0d0887\"], [0.1111111111111111, \"#46039f\"], [0.2222222222222222, \"#7201a8\"], [0.3333333333333333, \"#9c179e\"], [0.4444444444444444, \"#bd3786\"], [0.5555555555555556, \"#d8576b\"], [0.6666666666666666, \"#ed7953\"], [0.7777777777777778, \"#fb9f3a\"], [0.8888888888888888, \"#fdca26\"], [1.0, \"#f0f921\"]]}, \"colorway\": [\"#636efa\", \"#EF553B\", \"#00cc96\", \"#ab63fa\", \"#FFA15A\", \"#19d3f3\", \"#FF6692\", \"#B6E880\", \"#FF97FF\", \"#FECB52\"], \"font\": {\"color\": \"#2a3f5f\"}, \"geo\": {\"bgcolor\": \"white\", \"lakecolor\": \"white\", \"landcolor\": \"#E5ECF6\", \"showlakes\": true, \"showland\": true, \"subunitcolor\": \"white\"}, \"hoverlabel\": {\"align\": \"left\"}, \"hovermode\": \"closest\", \"mapbox\": {\"style\": \"light\"}, \"paper_bgcolor\": \"white\", \"plot_bgcolor\": \"#E5ECF6\", \"polar\": {\"angularaxis\": {\"gridcolor\": \"white\", \"linecolor\": \"white\", \"ticks\": \"\"}, \"bgcolor\": \"#E5ECF6\", \"radialaxis\": {\"gridcolor\": \"white\", \"linecolor\": \"white\", \"ticks\": \"\"}}, \"scene\": {\"xaxis\": {\"backgroundcolor\": \"#E5ECF6\", \"gridcolor\": \"white\", \"gridwidth\": 2, \"linecolor\": \"white\", \"showbackground\": true, \"ticks\": \"\", \"zerolinecolor\": \"white\"}, \"yaxis\": {\"backgroundcolor\": \"#E5ECF6\", \"gridcolor\": \"white\", \"gridwidth\": 2, \"linecolor\": \"white\", \"showbackground\": true, \"ticks\": \"\", \"zerolinecolor\": \"white\"}, \"zaxis\": {\"backgroundcolor\": \"#E5ECF6\", \"gridcolor\": \"white\", \"gridwidth\": 2, \"linecolor\": \"white\", \"showbackground\": true, \"ticks\": \"\", \"zerolinecolor\": \"white\"}}, \"shapedefaults\": {\"line\": {\"color\": \"#2a3f5f\"}}, \"ternary\": {\"aaxis\": {\"gridcolor\": \"white\", \"linecolor\": \"white\", \"ticks\": \"\"}, \"baxis\": {\"gridcolor\": \"white\", \"linecolor\": \"white\", \"ticks\": \"\"}, \"bgcolor\": \"#E5ECF6\", \"caxis\": {\"gridcolor\": \"white\", \"linecolor\": \"white\", \"ticks\": \"\"}}, \"title\": {\"x\": 0.05}, \"xaxis\": {\"automargin\": true, \"gridcolor\": \"white\", \"linecolor\": \"white\", \"ticks\": \"\", \"title\": {\"standoff\": 15}, \"zerolinecolor\": \"white\", \"zerolinewidth\": 2}, \"yaxis\": {\"automargin\": true, \"gridcolor\": \"white\", \"linecolor\": \"white\", \"ticks\": \"\", \"title\": {\"standoff\": 15}, \"zerolinecolor\": \"white\", \"zerolinewidth\": 2}}}, \"title\": {\"text\": \"Scores for TF-IDF\"}, \"xaxis\": {\"anchor\": \"y\", \"domain\": [0.0, 1.0], \"title\": {\"text\": \"score\"}}, \"yaxis\": {\"anchor\": \"x\", \"domain\": [0.0, 1.0], \"title\": {\"text\": \"count\"}}},\n",
              "                        {\"responsive\": true}\n",
              "                    ).then(function(){\n",
              "                            \n",
              "var gd = document.getElementById('d7208cb5-3816-409e-b2da-58d8c64a47a6');\n",
              "var x = new MutationObserver(function (mutations, observer) {{\n",
              "        var display = window.getComputedStyle(gd).display;\n",
              "        if (!display || display === 'none') {{\n",
              "            console.log([gd, 'removed!']);\n",
              "            Plotly.purge(gd);\n",
              "            observer.disconnect();\n",
              "        }}\n",
              "}});\n",
              "\n",
              "// Listen for the removal of the full notebook cells\n",
              "var notebookContainer = gd.closest('#notebook-container');\n",
              "if (notebookContainer) {{\n",
              "    x.observe(notebookContainer, {childList: true});\n",
              "}}\n",
              "\n",
              "// Listen for the clearing of the current output cell\n",
              "var outputEl = gd.closest('.output');\n",
              "if (outputEl) {{\n",
              "    x.observe(outputEl, {childList: true});\n",
              "}}\n",
              "\n",
              "                        })\n",
              "                };\n",
              "                \n",
              "            </script>\n",
              "        </div>\n",
              "</body>\n",
              "</html>"
            ]
          },
          "metadata": {}
        }
      ]
    },
    {
      "cell_type": "code",
      "metadata": {
        "id": "QIBvHL1aOnOT"
      },
      "source": [
        "if use_wandb:\n",
        "  wandb.log({\"scores_hist\": fig})"
      ],
      "execution_count": 51,
      "outputs": []
    },
    {
      "cell_type": "code",
      "metadata": {
        "id": "OZ0YfkIO9g5V"
      },
      "source": [
        "def recommend_tune(df, tune_name):\n",
        "\n",
        "  df_tune = df.query(f'reference_title == \"{tune_name}\"')\n",
        "  ff = df_tune.iloc[:]\n",
        "\n",
        "  # get the maximum similarity score for each section and store in new column\n",
        "  ff['max'] = ff.groupby('ref_section')['score'].transform('max')\n",
        "\n",
        "  # scale the score with the maxmum value of each section\n",
        "  ff['score_div_max'] = ff['score'] / ff['max']\n",
        "\n",
        "  # consider only the top N tunes for each group\n",
        "  ff = ff.sort_values(['ref_section', 'score_div_max'], ascending=[True, False])\n",
        "  result = ff.groupby('ref_section').head(30)\n",
        "  \n",
        "  # if multiple rows from the same similar tune, keep only the similar_title with the highest score_div_max\n",
        "  result = result.groupby('similar_title').max('score_div_max').sort_values('score_div_max', ascending=False)\n",
        "  \n",
        "  # add the name of the reference tune\n",
        "  result['reference'] = tune_name\n",
        "  result = result.reset_index()\n",
        "  result = result.loc[:, ['reference', 'similar_title', 'score', 'max', 'score_div_max']]\n",
        "  result = result.reset_index()\n",
        "  return result, ff"
      ],
      "execution_count": 52,
      "outputs": []
    },
    {
      "cell_type": "code",
      "metadata": {
        "colab": {
          "base_uri": "https://localhost:8080/",
          "height": 206
        },
        "id": "ohaxVQ6d9iiD",
        "outputId": "b22e8d23-00db-4feb-83fa-ddcaaad00311"
      },
      "source": [
        "result, details = recommend_tune(df_sim, \"These Foolish Things\")\n",
        "result.head(5)"
      ],
      "execution_count": 53,
      "outputs": [
        {
          "output_type": "execute_result",
          "data": {
            "text/html": [
              "<div>\n",
              "<style scoped>\n",
              "    .dataframe tbody tr th:only-of-type {\n",
              "        vertical-align: middle;\n",
              "    }\n",
              "\n",
              "    .dataframe tbody tr th {\n",
              "        vertical-align: top;\n",
              "    }\n",
              "\n",
              "    .dataframe thead th {\n",
              "        text-align: right;\n",
              "    }\n",
              "</style>\n",
              "<table border=\"1\" class=\"dataframe\">\n",
              "  <thead>\n",
              "    <tr style=\"text-align: right;\">\n",
              "      <th></th>\n",
              "      <th>index</th>\n",
              "      <th>reference</th>\n",
              "      <th>similar_title</th>\n",
              "      <th>score</th>\n",
              "      <th>max</th>\n",
              "      <th>score_div_max</th>\n",
              "    </tr>\n",
              "  </thead>\n",
              "  <tbody>\n",
              "    <tr>\n",
              "      <th>0</th>\n",
              "      <td>0</td>\n",
              "      <td>These Foolish Things</td>\n",
              "      <td>Mountain Greenery</td>\n",
              "      <td>0.766105</td>\n",
              "      <td>0.766105</td>\n",
              "      <td>1.000000</td>\n",
              "    </tr>\n",
              "    <tr>\n",
              "      <th>1</th>\n",
              "      <td>1</td>\n",
              "      <td>These Foolish Things</td>\n",
              "      <td>Too Young To Go Steady</td>\n",
              "      <td>0.698998</td>\n",
              "      <td>0.698998</td>\n",
              "      <td>1.000000</td>\n",
              "    </tr>\n",
              "    <tr>\n",
              "      <th>2</th>\n",
              "      <td>2</td>\n",
              "      <td>These Foolish Things</td>\n",
              "      <td>More Than You Know</td>\n",
              "      <td>0.683350</td>\n",
              "      <td>0.683350</td>\n",
              "      <td>1.000000</td>\n",
              "    </tr>\n",
              "    <tr>\n",
              "      <th>3</th>\n",
              "      <td>3</td>\n",
              "      <td>These Foolish Things</td>\n",
              "      <td>Way You Look Tonight, The</td>\n",
              "      <td>0.728962</td>\n",
              "      <td>0.766105</td>\n",
              "      <td>0.982734</td>\n",
              "    </tr>\n",
              "    <tr>\n",
              "      <th>4</th>\n",
              "      <td>4</td>\n",
              "      <td>These Foolish Things</td>\n",
              "      <td>This Is All I Ask</td>\n",
              "      <td>0.654341</td>\n",
              "      <td>0.698998</td>\n",
              "      <td>0.936113</td>\n",
              "    </tr>\n",
              "  </tbody>\n",
              "</table>\n",
              "</div>"
            ],
            "text/plain": [
              "   index             reference  ...       max  score_div_max\n",
              "0      0  These Foolish Things  ...  0.766105       1.000000\n",
              "1      1  These Foolish Things  ...  0.698998       1.000000\n",
              "2      2  These Foolish Things  ...  0.683350       1.000000\n",
              "3      3  These Foolish Things  ...  0.766105       0.982734\n",
              "4      4  These Foolish Things  ...  0.698998       0.936113\n",
              "\n",
              "[5 rows x 6 columns]"
            ]
          },
          "metadata": {},
          "execution_count": 53
        }
      ]
    },
    {
      "cell_type": "markdown",
      "metadata": {
        "id": "UveSDI6QWALe"
      },
      "source": [
        "Copy results into a dataframe for later logging to W&B"
      ]
    },
    {
      "cell_type": "code",
      "metadata": {
        "id": "AEEqdXBiT5bl"
      },
      "source": [
        "dd = pd.DataFrame(columns = recommender_results_cols)\n",
        "\n",
        "for tune in tunes_eval_list:\n",
        "  result, details = recommend_tune(df_sim, tune)\n",
        "  dd['id'] = result['index']\n",
        "  dd['method'] = 'tfidf'\n",
        "  dd['reference'] = tune\n",
        "  dd['similar'] = result['similar_title']\n",
        "  dd['score_div_max'] = result['score_div_max']\n",
        "  dd['score'] = result['score']\n",
        "\n",
        "recommender_results = recommender_results.append(dd)"
      ],
      "execution_count": 54,
      "outputs": []
    },
    {
      "cell_type": "markdown",
      "metadata": {
        "id": "wqaUEFqxXZYB"
      },
      "source": [
        "### Test Contrafacts"
      ]
    },
    {
      "cell_type": "markdown",
      "metadata": {
        "id": "563ncYqAfIyN"
      },
      "source": [
        "With the model, query the top N highest matches for each section. For a tune, if at least one section receives the recommendation  for the expected title, increase the match counter."
      ]
    },
    {
      "cell_type": "code",
      "metadata": {
        "id": "RVPtraR-hg0G"
      },
      "source": [
        "def test_contrafacts(tunes, index, model, N=15):\n",
        "  matches = 0\n",
        "  number_of_sections = 0\n",
        "  results = {}\n",
        "\n",
        "  for tune, similar_tune in tunes.items():\n",
        "    \n",
        "    # loop over all sections of the tune\n",
        "    section_matches = 0\n",
        "    for s1 in title_to_sectionid[tune]:\n",
        "      query = processed_corpus[s1]\n",
        "      query_bow = dictionary.doc2bow(query)\n",
        "\n",
        "      # perform a similarity query against the corpus\n",
        "      similarities = index[model[query_bow]]\n",
        "      sims = sorted(enumerate(similarities), key=lambda item: -item[1])\n",
        "\n",
        "      # check if the section matches the expected title; consider only the first 15 recommendations\n",
        "      i = 0\n",
        "      for sectionid, value in sims:\n",
        "        if i >= N:\n",
        "          break\n",
        "        i += 1\n",
        "        if sectionid_to_title[sectionid] == similar_tune:\n",
        "          section_matches += 1\n",
        "\n",
        "    # for each title, increase matches if at least one of the section matched the expected title\n",
        "    if section_matches > 0:\n",
        "      matches += 1  \n",
        "      results[tune] = 1\n",
        "    else:\n",
        "      results[tune] = 0\n",
        "  \n",
        "  return matches, results\n"
      ],
      "execution_count": 55,
      "outputs": []
    },
    {
      "cell_type": "code",
      "metadata": {
        "colab": {
          "base_uri": "https://localhost:8080/"
        },
        "id": "Q628rO5DhxWD",
        "outputId": "e67aa64a-aa27-49ad-8b8b-f2eca5ef774d"
      },
      "source": [
        "topN = 15\n",
        "matches, results = test_contrafacts(contrafacts, index_tfidf, tfidf, topN)\n",
        "\n",
        "[print(f\"{val}: {rr}\") for rr, val in results.items()] \n",
        "print() \n",
        "print(f\"Found matches: {matches} out of {len(contrafacts)}: {100*matches/len(contrafacts):.3f}%\")"
      ],
      "execution_count": 56,
      "outputs": [
        {
          "output_type": "stream",
          "name": "stdout",
          "text": [
            "1: 26-2\n",
            "0: 52nd Street Theme\n",
            "1: Ablution\n",
            "1: Anthropology\n",
            "0: Ballade\n",
            "1: Bright Mississippi\n",
            "1: C.T.A.\n",
            "0: Celia\n",
            "1: Cottontail\n",
            "1: Countdown\n",
            "0: Dewey Square\n",
            "1: Dexterity\n",
            "1: Dig\n",
            "1: Donna Lee\n",
            "0: Don't Be That Way\n",
            "0: Eternal Triangle\n",
            "0: Evidence\n",
            "1: Flintstones\n",
            "0: Four On Six\n",
            "1: Freight Train\n",
            "0: Good Bait\n",
            "1: Hackensack\n",
            "1: Half Nelson\n",
            "1: Hot House\n",
            "1: Impressions\n",
            "0: In A Mellow Tone (In A Mellotone)\n",
            "1: In Walked Bud\n",
            "1: Ko Ko\n",
            "0: Lennie's Pennies\n",
            "0: Little Rootie Tootie\n",
            "0: Little Willie Leaps\n",
            "0: Lullaby Of Birdland\n",
            "1: Moose The Mooche\n",
            "0: My Little Suede Shoes\n",
            "1: Oleo\n",
            "1: Ornithology\n",
            "1: Passport\n",
            "0: Quasimodo (Theme)\n",
            "1: Rhythm-a-ning\n",
            "0: Room 608\n",
            "1: Salt Peanuts\n",
            "1: Satellite\n",
            "1: Scrapple From The Apple\n",
            "1: Seven Come Eleven\n",
            "1: Shaw 'Nuff\n",
            "1: Theme, The\n",
            "1: Tour De Force\n",
            "1: Wow\n",
            "0: Yardbird Suite\n",
            "1: Sweet Sue, Just You\n",
            "0: These Foolish Things\n",
            "0: Misty\n",
            "\n",
            "Found matches: 32 out of 52: 61.538%\n"
          ]
        }
      ]
    },
    {
      "cell_type": "code",
      "metadata": {
        "id": "8lKZukYybvMJ"
      },
      "source": [
        "if use_wandb:\n",
        "  wandb.log({'tfidf': {\n",
        "      'contrafacts': {\n",
        "          'topN': topN,\n",
        "          'success': matches/len(contrafacts),\n",
        "          #'results': results\n",
        "      }\n",
        "  }})"
      ],
      "execution_count": 57,
      "outputs": []
    },
    {
      "cell_type": "markdown",
      "metadata": {
        "id": "Phw7fBDk0px7"
      },
      "source": [
        "## Store TF-IDF Model to W&B"
      ]
    },
    {
      "cell_type": "code",
      "metadata": {
        "id": "KdYWJX-60pdd"
      },
      "source": [
        "if use_wandb:\n",
        "  model_artifact = wandb.Artifact(\n",
        "      \"tfidf-model\", \n",
        "      type=\"model\",\n",
        "      description=\"TF-IDF Model\",\n",
        "      metadata=\"\")\n",
        "\n",
        "  model_artifact.add_file(\"/content/index/tfidf.model\")\n",
        "  model_artifact.add_file(\"/content/index/tfidf.index\")\n",
        "  wandb.log_artifact(model_artifact)"
      ],
      "execution_count": 58,
      "outputs": []
    },
    {
      "cell_type": "markdown",
      "metadata": {
        "id": "99xHBRsd--OB"
      },
      "source": [
        "# LSA (Latent Semantic Analysis), aka LSI (Latent Semantic Index) "
      ]
    },
    {
      "cell_type": "code",
      "metadata": {
        "id": "adsW9Uh9_JXs"
      },
      "source": [
        "from collections import defaultdict"
      ],
      "execution_count": 59,
      "outputs": []
    },
    {
      "cell_type": "code",
      "metadata": {
        "colab": {
          "base_uri": "https://localhost:8080/"
        },
        "id": "s3AJZGRD_IHW",
        "outputId": "5c6988f6-c978-4c11-c33e-4516faae6780"
      },
      "source": [
        "num_topics = lsi_config['num_topics']\n",
        "\n",
        "# remove words that appear only once\n",
        "frequency = defaultdict(int)\n",
        "for text in processed_corpus:\n",
        "    for token in text:\n",
        "        frequency[token] += 1\n",
        "\n",
        "data = [[token for token in text if frequency[token] > 1] for text in processed_corpus]\n",
        "dictionary = corpora.Dictionary(data)\n",
        "\n",
        "# doc2bow counts the number of occurences of each distinct word,\n",
        "# converts the word to its integer word id and returns the result\n",
        "# as a sparse vector\n",
        "\n",
        "bow_corpus = [dictionary.doc2bow(text) for text in data]\n",
        "lsi = LsiModel(bow_corpus, id2word=dictionary, num_topics=num_topics)  # num_topics can be maximum the size of the number of unique tokens"
      ],
      "execution_count": 60,
      "outputs": [
        {
          "output_type": "stream",
          "name": "stderr",
          "text": [
            "2021-11-23 22:12:37,895 : INFO : adding document #0 to Dictionary(0 unique tokens: [])\n",
            "2021-11-23 22:12:38,037 : INFO : built Dictionary(1464 unique tokens: ['Am-D7', 'B7-E', 'C#-E7', 'C-Eb7', 'C7-F']...) from 5391 documents (total 76777 corpus positions)\n",
            "2021-11-23 22:12:38,038 : INFO : Dictionary lifecycle event {'msg': \"built Dictionary(1464 unique tokens: ['Am-D7', 'B7-E', 'C#-E7', 'C-Eb7', 'C7-F']...) from 5391 documents (total 76777 corpus positions)\", 'datetime': '2021-11-23T22:12:38.038877', 'gensim': '4.1.2', 'python': '3.7.12 (default, Sep 10 2021, 00:21:48) \\n[GCC 7.5.0]', 'platform': 'Linux-5.4.104+-x86_64-with-Ubuntu-18.04-bionic', 'event': 'created'}\n",
            "2021-11-23 22:12:38,110 : INFO : using serial LSI version on this node\n",
            "2021-11-23 22:12:38,113 : INFO : updating model with new documents\n",
            "2021-11-23 22:12:38,114 : INFO : preparing a new chunk of documents\n",
            "2021-11-23 22:12:38,159 : INFO : using 100 extra samples and 2 power iterations\n",
            "2021-11-23 22:12:38,164 : INFO : 1st phase: constructing (1464, 300) action matrix\n",
            "2021-11-23 22:12:38,260 : INFO : orthonormalizing (1464, 300) action matrix\n",
            "2021-11-23 22:12:38,537 : INFO : 2nd phase: running dense svd on (300, 5391) matrix\n",
            "2021-11-23 22:12:38,948 : INFO : computing the final decomposition\n",
            "2021-11-23 22:12:38,955 : INFO : keeping 200 factors (discarding 3.033% of energy spectrum)\n",
            "2021-11-23 22:12:38,981 : INFO : processed documents up to #5391\n",
            "2021-11-23 22:12:38,988 : INFO : topic #0(189.534): 0.580*\"G7-C\" + 0.461*\"C-C\" + 0.449*\"Dm-G7\" + 0.198*\"G7-G7\" + 0.165*\"D7-G7\" + 0.159*\"A7-Dm\" + 0.139*\"C-G7\" + 0.122*\"C7-F\" + 0.109*\"C-A7\" + 0.108*\"A7-D7\"\n",
            "2021-11-23 22:12:38,995 : INFO : topic #1(115.739): -0.607*\"C-C\" + 0.604*\"Dm-G7\" + -0.288*\"G7-G7\" + 0.212*\"A7-Dm\" + 0.146*\"Em-A7\" + 0.114*\"Am-Dm\" + -0.113*\"C-G7\" + -0.113*\"D7-G7\" + 0.095*\"C-Am\" + -0.092*\"D7-D7\"\n",
            "2021-11-23 22:12:39,002 : INFO : topic #2(83.101): -0.490*\"Am-Am\" + 0.436*\"C-C\" + -0.355*\"E7-Am\" + -0.302*\"D7-G7\" + 0.297*\"Dm-G7\" + -0.235*\"G7-C\" + -0.209*\"A7-D7\" + -0.134*\"Bm7b5-E7\" + -0.121*\"D7-D7\" + -0.117*\"Am-D7\"\n",
            "2021-11-23 22:12:39,009 : INFO : topic #3(80.499): 0.622*\"Am-Am\" + -0.376*\"G7-C\" + 0.355*\"C-C\" + 0.291*\"E7-Am\" + -0.208*\"D7-G7\" + 0.165*\"Dm-G7\" + 0.164*\"Bm7b5-E7\" + -0.157*\"A7-D7\" + -0.145*\"C-G7\" + 0.120*\"Dm-Dm\"\n",
            "2021-11-23 22:12:39,014 : INFO : topic #4(62.281): 0.377*\"A7-Dm\" + 0.353*\"D7-G7\" + -0.321*\"C-G7\" + 0.319*\"A7-D7\" + 0.276*\"D7-D7\" + -0.259*\"G7-C\" + 0.241*\"C-A7\" + -0.216*\"C7-F\" + -0.181*\"C-Am\" + -0.178*\"Am-Am\"\n",
            "2021-11-23 22:12:39,018 : INFO : LsiModel lifecycle event {'msg': 'trained LsiModel(num_terms=1464, num_topics=200, decay=1.0, chunksize=20000) in 0.90s', 'datetime': '2021-11-23T22:12:39.017948', 'gensim': '4.1.2', 'python': '3.7.12 (default, Sep 10 2021, 00:21:48) \\n[GCC 7.5.0]', 'platform': 'Linux-5.4.104+-x86_64-with-Ubuntu-18.04-bionic', 'event': 'created'}\n"
          ]
        }
      ]
    },
    {
      "cell_type": "code",
      "metadata": {
        "id": "EvxSQFfBBNMJ"
      },
      "source": [
        "#index_lsi = similarities.Similarity('/content/index/index_lsi', bow_corpus, num_features=len(dictionary))"
      ],
      "execution_count": 61,
      "outputs": []
    },
    {
      "cell_type": "code",
      "metadata": {
        "colab": {
          "base_uri": "https://localhost:8080/"
        },
        "id": "3saA6NY5Tzer",
        "outputId": "98c48410-530a-48b6-9f51-f537730b3cef"
      },
      "source": [
        "index_lsi = similarities.SparseMatrixSimilarity(lsi[bow_corpus], num_features = len(dictionary))\n",
        "#index_lsi = similarities.MatrixSimilarity(lsi[bow_corpus])  # transform corpus to LSI space and index it\n"
      ],
      "execution_count": 62,
      "outputs": [
        {
          "output_type": "stream",
          "name": "stderr",
          "text": [
            "2021-11-23 22:12:39,048 : INFO : creating sparse index\n",
            "2021-11-23 22:12:39,052 : INFO : creating sparse matrix from corpus\n",
            "2021-11-23 22:12:39,070 : INFO : PROGRESS: at document #0\n",
            "2021-11-23 22:12:40,809 : INFO : created <5391x1464 sparse matrix of type '<class 'numpy.float32'>'\n",
            "\twith 1078198 stored elements in Compressed Sparse Row format>\n"
          ]
        }
      ]
    },
    {
      "cell_type": "code",
      "metadata": {
        "colab": {
          "base_uri": "https://localhost:8080/"
        },
        "id": "F5pbDMVyfEtS",
        "outputId": "df7549df-bd05-4b8c-db3a-efe6418acc8c"
      },
      "source": [
        "lsi.save('/content/index/lsi.model')\n",
        "index_lsi.save('/content/index/lsi_matrixsim.index')\n"
      ],
      "execution_count": 63,
      "outputs": [
        {
          "output_type": "stream",
          "name": "stderr",
          "text": [
            "2021-11-23 22:12:40,821 : INFO : Projection lifecycle event {'fname_or_handle': '/content/index/lsi.model.projection', 'separately': 'None', 'sep_limit': 10485760, 'ignore': frozenset(), 'datetime': '2021-11-23T22:12:40.821535', 'gensim': '4.1.2', 'python': '3.7.12 (default, Sep 10 2021, 00:21:48) \\n[GCC 7.5.0]', 'platform': 'Linux-5.4.104+-x86_64-with-Ubuntu-18.04-bionic', 'event': 'saving'}\n",
            "2021-11-23 22:12:40,828 : INFO : saved /content/index/lsi.model.projection\n",
            "2021-11-23 22:12:40,831 : INFO : LsiModel lifecycle event {'fname_or_handle': '/content/index/lsi.model', 'separately': 'None', 'sep_limit': 10485760, 'ignore': ['projection', 'dispatcher'], 'datetime': '2021-11-23T22:12:40.831734', 'gensim': '4.1.2', 'python': '3.7.12 (default, Sep 10 2021, 00:21:48) \\n[GCC 7.5.0]', 'platform': 'Linux-5.4.104+-x86_64-with-Ubuntu-18.04-bionic', 'event': 'saving'}\n",
            "2021-11-23 22:12:40,834 : INFO : not storing attribute projection\n",
            "2021-11-23 22:12:40,837 : INFO : not storing attribute dispatcher\n",
            "2021-11-23 22:12:40,841 : INFO : saved /content/index/lsi.model\n",
            "2021-11-23 22:12:40,843 : INFO : SparseMatrixSimilarity lifecycle event {'fname_or_handle': '/content/index/lsi_matrixsim.index', 'separately': 'None', 'sep_limit': 10485760, 'ignore': frozenset(), 'datetime': '2021-11-23T22:12:40.843839', 'gensim': '4.1.2', 'python': '3.7.12 (default, Sep 10 2021, 00:21:48) \\n[GCC 7.5.0]', 'platform': 'Linux-5.4.104+-x86_64-with-Ubuntu-18.04-bionic', 'event': 'saving'}\n",
            "2021-11-23 22:12:40,859 : INFO : saved /content/index/lsi_matrixsim.index\n"
          ]
        }
      ]
    },
    {
      "cell_type": "code",
      "metadata": {
        "colab": {
          "base_uri": "https://localhost:8080/"
        },
        "id": "1udPIceqYk6S",
        "outputId": "9b9e2396-e049-4d2e-f158-68aff5b8fbf7"
      },
      "source": [
        "!ls -la /content/index"
      ],
      "execution_count": 64,
      "outputs": [
        {
          "output_type": "stream",
          "name": "stdout",
          "text": [
            "total 11312\n",
            "drwxr-xr-x 2 root root    4096 Nov 23 22:12 .\n",
            "drwxr-xr-x 1 root root    4096 Nov 23 22:12 ..\n",
            "-rw-r--r-- 1 root root 8648053 Nov 23 22:12 lsi_matrixsim.index\n",
            "-rw-r--r-- 1 root root   43973 Nov 23 22:12 lsi.model\n",
            "-rw-r--r-- 1 root root 2344691 Nov 23 22:12 lsi.model.projection\n",
            "-rw-r--r-- 1 root root  477385 Nov 23 22:12 tfidf.index\n",
            "-rw-r--r-- 1 root root   52277 Nov 23 22:12 tfidf.model\n"
          ]
        }
      ]
    },
    {
      "cell_type": "markdown",
      "metadata": {
        "id": "u05KD64Ai1uo"
      },
      "source": [
        "## Tests"
      ]
    },
    {
      "cell_type": "markdown",
      "metadata": {
        "id": "pDxTCAGv9MmZ"
      },
      "source": [
        "### Test for single tunes"
      ]
    },
    {
      "cell_type": "code",
      "metadata": {
        "colab": {
          "base_uri": "https://localhost:8080/"
        },
        "id": "khASSJ1eEuf5",
        "outputId": "483c6168-4d81-4479-92e3-389aebf5e1fe"
      },
      "source": [
        "%%time\n",
        "df_sim = get_sim_scores(tunes_eval_list, index=index_lsi, model=lsi)\n",
        "df_lsi = df_sim[:]"
      ],
      "execution_count": 65,
      "outputs": [
        {
          "output_type": "stream",
          "name": "stdout",
          "text": [
            "\n",
            "--------------------------------------------------\n",
            "125 After You've Gone, section1 (A)\n",
            "126 After You've Gone, section2 (B)\n",
            "127 After You've Gone, section3 (A)\n",
            "128 After You've Gone, section4 (C)\n",
            "\n",
            "--------------------------------------------------\n",
            "188 All God's Chillun Got Rhythm, section1 (A)\n",
            "189 All God's Chillun Got Rhythm, section2 (B)\n",
            "190 All God's Chillun Got Rhythm, section3 (A)\n",
            "191 All God's Chillun Got Rhythm, section4 (C)\n",
            "\n",
            "--------------------------------------------------\n",
            "198 All Of Me, section1 (A)\n",
            "199 All Of Me, section2 (B)\n",
            "200 All Of Me, section3 (A)\n",
            "201 All Of Me, section4 (C)\n",
            "\n",
            "--------------------------------------------------\n",
            "474 Blood Count, section1 (A)\n",
            "475 Blood Count, section2 (A)\n",
            "476 Blood Count, section3 (B)\n",
            "477 Blood Count, section4 (A)\n",
            "478 Blood Count, section5 (C)\n",
            "\n",
            "--------------------------------------------------\n",
            "496 Blue Moon, section1 (A)\n",
            "497 Blue Moon, section2 (A)\n",
            "498 Blue Moon, section3 (B)\n",
            "499 Blue Moon, section4 (A)\n",
            "\n",
            "--------------------------------------------------\n",
            "626 But Beautiful, section1 (A)\n",
            "627 But Beautiful, section2 (B)\n",
            "628 But Beautiful, section3 (A)\n",
            "629 But Beautiful, section4 (C)\n",
            "\n",
            "--------------------------------------------------\n",
            "653 Bye Bye Blackbird, section1 (A)\n",
            "654 Bye Bye Blackbird, section2 (B)\n",
            "4559 Bye Bye Blackbird, section1 (A)\n",
            "\n",
            "--------------------------------------------------\n",
            "676 Call Me Irresponsible, section1 (A)\n",
            "677 Call Me Irresponsible, section2 (B)\n",
            "678 Call Me Irresponsible, section3 (A)\n",
            "679 Call Me Irresponsible, section4 (B)\n",
            "\n",
            "--------------------------------------------------\n",
            "826 Corcovado, section1 (A)\n",
            "827 Corcovado, section2 (B)\n",
            "828 Corcovado, section3 (A)\n",
            "829 Corcovado, section4 (C)\n",
            "\n",
            "--------------------------------------------------\n",
            "997 Dinah, section1 (A)\n",
            "998 Dinah, section2 (A)\n",
            "999 Dinah, section3 (B)\n",
            "1000 Dinah, section4 (A)\n",
            "\n",
            "--------------------------------------------------\n",
            "1125 East Of The Sun, section1 (A)\n",
            "1126 East Of The Sun, section2 (B)\n",
            "1127 East Of The Sun, section3 (A)\n",
            "1128 East Of The Sun, section4 (C)\n",
            "\n",
            "--------------------------------------------------\n",
            "1287 Footprints, section0 (nan)\n",
            "\n",
            "--------------------------------------------------\n",
            "1379 Giant Steps, section0 (nan)\n",
            "\n",
            "--------------------------------------------------\n",
            "1538 Honeysuckle Rose, section1 (A)\n",
            "1539 Honeysuckle Rose, section2 (A)\n",
            "1540 Honeysuckle Rose, section3 (B)\n",
            "1541 Honeysuckle Rose, section4 (A)\n",
            "4781 Honeysuckle Rose, section1 (A)\n",
            "4782 Honeysuckle Rose, section2 (A)\n",
            "4783 Honeysuckle Rose, section3 (B)\n",
            "4784 Honeysuckle Rose, section4 (A)\n",
            "\n",
            "--------------------------------------------------\n",
            "1647 I Got Rhythm, section1 (A)\n",
            "1648 I Got Rhythm, section2 (A)\n",
            "1649 I Got Rhythm, section3 (B)\n",
            "1650 I Got Rhythm, section4 (A)\n",
            "4809 I Got Rhythm, section1 (A)\n",
            "4810 I Got Rhythm, section2 (A)\n",
            "4811 I Got Rhythm, section3 (B)\n",
            "4812 I Got Rhythm, section4 (A)\n",
            "\n",
            "--------------------------------------------------\n",
            "2670 Misty, section1 (A)\n",
            "2671 Misty, section2 (A)\n",
            "2672 Misty, section3 (B)\n",
            "2673 Misty, section4 (A)\n",
            "\n",
            "--------------------------------------------------\n",
            "2857 Naima, section1 (A)\n",
            "2858 Naima, section2 (A)\n",
            "2859 Naima, section3 (B)\n",
            "2860 Naima, section4 (A)\n",
            "\n",
            "--------------------------------------------------\n",
            "5044 Old Fashioned Love, section0 (nan)\n",
            "\n",
            "--------------------------------------------------\n",
            "3142 Perdido, section1 (A)\n",
            "3143 Perdido, section2 (A)\n",
            "3144 Perdido, section3 (B)\n",
            "3145 Perdido, section4 (A)\n",
            "\n",
            "--------------------------------------------------\n",
            "3276 Rockin' Chair, section1 (A)\n",
            "3277 Rockin' Chair, section2 (B)\n",
            "3278 Rockin' Chair, section3 (A)\n",
            "5110 Rockin' Chair, section1 (A)\n",
            "5111 Rockin' Chair, section2 (B)\n",
            "5112 Rockin' Chair, section3 (A)\n",
            "\n",
            "--------------------------------------------------\n",
            "3578 Sophisticated Lady, section1 (A)\n",
            "3579 Sophisticated Lady, section2 (A)\n",
            "3580 Sophisticated Lady, section3 (B)\n",
            "3581 Sophisticated Lady, section4 (A)\n",
            "\n",
            "--------------------------------------------------\n",
            "3746 Sweet Sue, Just You, section1 (A)\n",
            "3747 Sweet Sue, Just You, section2 (A)\n",
            "3748 Sweet Sue, Just You, section3 (B)\n",
            "3749 Sweet Sue, Just You, section4 (A)\n",
            "\n",
            "--------------------------------------------------\n",
            "3860 These Foolish Things, section1 (A)\n",
            "3861 These Foolish Things, section2 (A)\n",
            "3862 These Foolish Things, section3 (B)\n",
            "3863 These Foolish Things, section4 (A)\n",
            "\n",
            "--------------------------------------------------\n",
            "4146 We'll Be Together Again, section1 (A)\n",
            "4147 We'll Be Together Again, section2 (A)\n",
            "4148 We'll Be Together Again, section3 (B)\n",
            "4149 We'll Be Together Again, section4 (A)\n",
            "CPU times: user 16.1 s, sys: 249 ms, total: 16.4 s\n",
            "Wall time: 16.2 s\n"
          ]
        }
      ]
    },
    {
      "cell_type": "code",
      "metadata": {
        "colab": {
          "base_uri": "https://localhost:8080/",
          "height": 542
        },
        "id": "X31lkvUsDAsU",
        "outputId": "800d1cad-2982-4366-c348-a0f58c295122"
      },
      "source": [
        "import plotly.express as px\n",
        "fig = px.histogram(df_sim, x=\"score\", nbins=50, title='LSI Scores')\n",
        "fig.show()"
      ],
      "execution_count": 66,
      "outputs": [
        {
          "output_type": "display_data",
          "data": {
            "text/html": [
              "<html>\n",
              "<head><meta charset=\"utf-8\" /></head>\n",
              "<body>\n",
              "    <div>\n",
              "            <script src=\"https://cdnjs.cloudflare.com/ajax/libs/mathjax/2.7.5/MathJax.js?config=TeX-AMS-MML_SVG\"></script><script type=\"text/javascript\">if (window.MathJax) {MathJax.Hub.Config({SVG: {font: \"STIX-Web\"}});}</script>\n",
              "                <script type=\"text/javascript\">window.PlotlyConfig = {MathJaxConfig: 'local'};</script>\n",
              "        <script src=\"https://cdn.plot.ly/plotly-latest.min.js\"></script>    \n",
              "            <div id=\"4d45dd70-ab0f-47ab-90b5-45132cfaf99b\" class=\"plotly-graph-div\" style=\"height:525px; width:100%;\"></div>\n",
              "            <script type=\"text/javascript\">\n",
              "                \n",
              "                    window.PLOTLYENV=window.PLOTLYENV || {};\n",
              "                    \n",
              "                if (document.getElementById(\"4d45dd70-ab0f-47ab-90b5-45132cfaf99b\")) {\n",
              "                    Plotly.newPlot(\n",
              "                        '4d45dd70-ab0f-47ab-90b5-45132cfaf99b',\n",
              "                        [{\"alignmentgroup\": \"True\", \"bingroup\": \"x\", \"hoverlabel\": {\"namelength\": 0}, \"hovertemplate\": \"score=%{x}<br>count=%{y}\", \"legendgroup\": \"\", \"marker\": {\"color\": \"#636efa\"}, \"name\": \"\", \"nbinsx\": 50, \"offsetgroup\": \"\", \"orientation\": \"v\", \"showlegend\": false, \"type\": \"histogram\", \"x\": [0.7353606820106506, 0.7353606820106506, 0.7161505222320557, 0.6393444538116455, 0.6015419960021973, 0.5935426950454712, 0.5799729824066162, 0.5799729824066162, 0.5743587613105774, 0.564105749130249, 0.5420188903808594, 0.5380422472953796, 0.5345580577850342, 0.5345580577850342, 0.5345580577850342, 0.5345580577850342, 0.5341610312461853, 0.5280255675315857, 0.5275706648826599, 0.5119009613990784, 0.5068080425262451, 0.503614068031311, 0.5029956698417664, 0.502040445804596, 0.502040445804596, 0.5010070204734802, 0.5002045631408691, 0.49184247851371765, 0.4889015257358551, 0.4885650873184204, 0.4885650873184204, 0.4868774116039276, 0.48127153515815735, 0.4801517426967621, 0.47964274883270264, 0.47964274883270264, 0.47964274883270264, 0.4738296568393707, 0.4738296568393707, 0.4730033874511719, 0.4730033874511719, 0.7641298770904541, 0.7604008913040161, 0.7604008913040161, 0.7491600513458252, 0.7434791326522827, 0.7425935864448547, 0.7376795411109924, 0.7376795411109924, 0.7286768555641174, 0.7246285080909729, 0.7219366431236267, 0.7219366431236267, 0.7219366431236267, 0.720237672328949, 0.7194950580596924, 0.7194950580596924, 0.7194950580596924, 0.7194950580596924, 0.7176764011383057, 0.7176764011383057, 0.7176764011383057, 0.7164398431777954, 0.7164398431777954, 0.715028703212738, 0.7088056206703186, 0.7039750814437866, 0.7018327116966248, 0.7016556859016418, 0.7003703713417053, 0.6950886845588684, 0.6931452751159668, 0.6914193630218506, 0.6898263692855835, 0.6896363496780396, 0.6857691407203674, 0.6838405728340149, 0.6819931268692017, 0.6804710030555725, 0.6776318550109863, 0.67647784948349, 0.6747938990592957, 0.7353606820106506, 0.7353606820106506, 0.7161505222320557, 0.6393444538116455, 0.6015419960021973, 0.5935426950454712, 0.5799729824066162, 0.5799729824066162, 0.5743587613105774, 0.564105749130249, 0.5420188903808594, 0.5380422472953796, 0.5345580577850342, 0.5345580577850342, 0.5345580577850342, 0.5345580577850342, 0.5341610312461853, 0.5280255675315857, 0.5275706648826599, 0.5119009613990784, 0.5068080425262451, 0.503614068031311, 0.5029956698417664, 0.502040445804596, 0.502040445804596, 0.5010070204734802, 0.5002045631408691, 0.49184247851371765, 0.4889015257358551, 0.4885650873184204, 0.4885650873184204, 0.4868774116039276, 0.48127153515815735, 0.4801517426967621, 0.47964274883270264, 0.47964274883270264, 0.47964274883270264, 0.4738296568393707, 0.4738296568393707, 0.4730033874511719, 0.4730033874511719, 0.6637691259384155, 0.6564602255821228, 0.6514070630073547, 0.6457778811454773, 0.6453425288200378, 0.6269930601119995, 0.6269232034683228, 0.6268905997276306, 0.6252285242080688, 0.6248289346694946, 0.6196631789207458, 0.6143627762794495, 0.6136425137519836, 0.6088358163833618, 0.6086469888687134, 0.6075627207756042, 0.6072052717208862, 0.6056464910507202, 0.6056464910507202, 0.6023313403129578, 0.598150908946991, 0.594294548034668, 0.5941842794418335, 0.5921511650085449, 0.5893914103507996, 0.5887057781219482, 0.587536633014679, 0.5873923897743225, 0.5862351655960083, 0.5858227014541626, 0.5852747559547424, 0.5835089683532715, 0.5803844928741455, 0.5787559151649475, 0.5782260894775391, 0.5720045566558838, 0.5720045566558838, 0.5703656077384949, 0.5698649883270264, 0.568026602268219, 0.5679280161857605, 0.9484758973121643, 0.9241998791694641, 0.9205158948898315, 0.9070892930030823, 0.9070892930030823, 0.9048756957054138, 0.9039607644081116, 0.9035155177116394, 0.9001234769821167, 0.8946892619132996, 0.8857820630073547, 0.8857820630073547, 0.8808600306510925, 0.8800928592681885, 0.8769162893295288, 0.8742668032646179, 0.8742668032646179, 0.8655510544776917, 0.863109827041626, 0.8613252639770508, 0.8598927855491638, 0.859138548374176, 0.8532614707946777, 0.8525733947753906, 0.8478325009346008, 0.8478325009346008, 0.8451076745986938, 0.84423828125, 0.8431721329689026, 0.840930163860321, 0.8327910304069519, 0.8310741186141968, 0.8308064341545105, 0.830325186252594, 0.8302776217460632, 0.8296235203742981, 0.8296235203742981, 0.8247421979904175, 0.824683666229248, 0.8237279057502747, 0.823710024356842, 0.8561592102050781, 0.712602972984314, 0.7080242037773132, 0.7068566083908081, 0.6986128091812134, 0.6971217393875122, 0.6942510008811951, 0.6830938458442688, 0.6799220442771912, 0.6799220442771912, 0.6773653626441956, 0.6755578517913818, 0.6712329387664795, 0.666401743888855, 0.662365198135376, 0.6604558229446411, 0.6600188612937927, 0.656614363193512, 0.6527143716812134, 0.6517958641052246, 0.6497827768325806, 0.6481622457504272, 0.6481124758720398, 0.6445896029472351, 0.6411482095718384, 0.6376389861106873, 0.6376230120658875, 0.6376230120658875, 0.6367983818054199, 0.6367499232292175, 0.6367499232292175, 0.6365063190460205, 0.6360429525375366, 0.6285911202430725, 0.6257766485214233, 0.6214295625686646, 0.6210399270057678, 0.6208251118659973, 0.618600606918335, 0.6162959337234497, 0.6161020398139954, 0.9484758973121643, 0.9241998791694641, 0.9205158948898315, 0.9070892930030823, 0.9070892930030823, 0.9048756957054138, 0.9039607644081116, 0.9035155177116394, 0.9001234769821167, 0.8946892619132996, 0.8857820630073547, 0.8857820630073547, 0.8808600306510925, 0.8800928592681885, 0.8769162893295288, 0.8742668032646179, 0.8742668032646179, 0.8655510544776917, 0.863109827041626, 0.8613252639770508, 0.8598927855491638, 0.859138548374176, 0.8532614707946777, 0.8525733947753906, 0.8478325009346008, 0.8478325009346008, 0.8451076745986938, 0.84423828125, 0.8431721329689026, 0.840930163860321, 0.8327910304069519, 0.8310741186141968, 0.8308064341545105, 0.830325186252594, 0.8302776217460632, 0.8296235203742981, 0.8296235203742981, 0.8247421979904175, 0.824683666229248, 0.8237279057502747, 0.823710024356842, 0.9327141642570496, 0.912915825843811, 0.8894838690757751, 0.8859860897064209, 0.8825153708457947, 0.8666713833808899, 0.841291606426239, 0.8288627862930298, 0.82796311378479, 0.8270209431648254, 0.8153660893440247, 0.8143419623374939, 0.8130255341529846, 0.8129670023918152, 0.8004319071769714, 0.7955635190010071, 0.7915529012680054, 0.7915090322494507, 0.7915090322494507, 0.7915090322494507, 0.7881205081939697, 0.7871134281158447, 0.7828307151794434, 0.7801180481910706, 0.7749151587486267, 0.7706938982009888, 0.7695695161819458, 0.7671654224395752, 0.7666913270950317, 0.7662186026573181, 0.7639561295509338, 0.7638063430786133, 0.7623429298400879, 0.7619673609733582, 0.7615517973899841, 0.7567062377929688, 0.7506654262542725, 0.7505461573600769, 0.7503102421760559, 0.7493869066238403, 0.749310314655304, 0.7581549286842346, 0.7556859254837036, 0.7218406200408936, 0.7152382731437683, 0.713615357875824, 0.6699686050415039, 0.6378486156463623, 0.633958637714386, 0.633958637714386, 0.6260150074958801, 0.6137499809265137, 0.596650242805481, 0.5896216034889221, 0.5824330449104309, 0.5789337158203125, 0.5783687233924866, 0.5774187445640564, 0.5722286701202393, 0.5722286701202393, 0.5722286701202393, 0.5644340515136719, 0.5644340515136719, 0.5525633692741394, 0.5458406209945679, 0.5439807772636414, 0.5429343581199646, 0.5395692586898804, 0.5369014739990234, 0.531416118144989, 0.531416118144989, 0.5308566689491272, 0.5308566689491272, 0.5216152667999268, 0.5178776979446411, 0.5133965611457825, 0.5131781101226807, 0.5131781101226807, 0.5128917694091797, 0.5108426809310913, 0.5089346170425415, 0.5084499716758728, 0.8814591765403748, 0.8109520673751831, 0.8042590618133545, 0.80357825756073, 0.7987967133522034, 0.7573121786117554, 0.7382262945175171, 0.7367945313453674, 0.7279815673828125, 0.7203564047813416, 0.7179728150367737, 0.7120912075042725, 0.7120912075042725, 0.7120912075042725, 0.7109952569007874, 0.6881367564201355, 0.6860640048980713, 0.6830105185508728, 0.6816291809082031, 0.6795050501823425, 0.6744609475135803, 0.6695337891578674, 0.667982816696167, 0.6661538481712341, 0.6643646359443665, 0.6639913320541382, 0.6493470668792725, 0.6454747915267944, 0.6322720050811768, 0.6321118474006653, 0.6307748556137085, 0.6237549185752869, 0.6168273091316223, 0.6166672110557556, 0.6156825423240662, 0.6134782433509827, 0.610673725605011, 0.6096429228782654, 0.6078183054924011, 0.6055630445480347, 0.6043994426727295, 0.7581549286842346, 0.7556859254837036, 0.7218406200408936, 0.7152382731437683, 0.713615357875824, 0.6699686050415039, 0.6378486156463623, 0.633958637714386, 0.633958637714386, 0.6260150074958801, 0.6137499809265137, 0.596650242805481, 0.5896216034889221, 0.5824330449104309, 0.5789337158203125, 0.5783687233924866, 0.5774187445640564, 0.5722286701202393, 0.5722286701202393, 0.5722286701202393, 0.5644340515136719, 0.5644340515136719, 0.5525633692741394, 0.5458406209945679, 0.5439807772636414, 0.5429343581199646, 0.5395692586898804, 0.5369014739990234, 0.531416118144989, 0.531416118144989, 0.5308566689491272, 0.5308566689491272, 0.5216152667999268, 0.5178776979446411, 0.5133965611457825, 0.5131781101226807, 0.5131781101226807, 0.5128917694091797, 0.5108426809310913, 0.5089346170425415, 0.5084499716758728, 0.8100937604904175, 0.8056951761245728, 0.7954955697059631, 0.7931615114212036, 0.7927401065826416, 0.7739176154136658, 0.7731605768203735, 0.7655335068702698, 0.7649939060211182, 0.7638223171234131, 0.7634212970733643, 0.7608712315559387, 0.7577139139175415, 0.7567609548568726, 0.756702184677124, 0.756702184677124, 0.7524390816688538, 0.7505423426628113, 0.7463949918746948, 0.7457674741744995, 0.7452828884124756, 0.7452828288078308, 0.7431162595748901, 0.7431162595748901, 0.7415435314178467, 0.7397958636283875, 0.7370584011077881, 0.736862301826477, 0.7366019487380981, 0.7360143661499023, 0.7360143661499023, 0.7355107665061951, 0.7342851758003235, 0.7330639362335205, 0.7307968735694885, 0.7292661666870117, 0.7281234264373779, 0.7252612113952637, 0.7237284183502197, 0.7237284183502197, 0.7231166362762451, 0.7641028165817261, 0.7209029197692871, 0.7209029197692871, 0.7105029821395874, 0.6349430680274963, 0.6130920052528381, 0.6015631556510925, 0.5912269353866577, 0.4898662567138672, 0.45305442810058594, 0.4488658905029297, 0.40900829434394836, 0.4065563678741455, 0.39495253562927246, 0.3842741549015045, 0.3838931918144226, 0.3838931918144226, 0.38147595524787903, 0.38147595524787903, 0.36551547050476074, 0.36388999223709106, 0.35942450165748596, 0.356513112783432, 0.35608765482902527, 0.3432920277118683, 0.3432920277118683, 0.3393994867801666, 0.3393994867801666, 0.3393994867801666, 0.33647987246513367, 0.3336286246776581, 0.329495370388031, 0.329495370388031, 0.3255678117275238, 0.30893006920814514, 0.3049583435058594, 0.30355098843574524, 0.301975280046463, 0.2974182367324829, 0.2972922921180725, 0.29541462659835815, 0.7318899631500244, 0.7219308614730835, 0.667095959186554, 0.6582961678504944, 0.6582961678504944, 0.6582961678504944, 0.6582961678504944, 0.6582961678504944, 0.6582961678504944, 0.6582961678504944, 0.6582961678504944, 0.6582961678504944, 0.6582961678504944, 0.6582868695259094, 0.6582868695259094, 0.6481132507324219, 0.6450436115264893, 0.6441918015480042, 0.6386823654174805, 0.6376267075538635, 0.6333268284797668, 0.6333268284797668, 0.6307953596115112, 0.6228624582290649, 0.6161273121833801, 0.6152546405792236, 0.6145111322402954, 0.6142450571060181, 0.6137837767601013, 0.6058489680290222, 0.6051009893417358, 0.6051009893417358, 0.6045815944671631, 0.6041823625564575, 0.6039716005325317, 0.6039716005325317, 0.6039716005325317, 0.6033942699432373, 0.6018482446670532, 0.5932153463363647, 0.5932153463363647, 0.40946224331855774, 0.40946224331855774, 0.39974141120910645, 0.34658190608024597, 0.32830896973609924, 0.30572420358657837, 0.26938143372535706, 0.2646988332271576, 0.2646988332271576, 0.2646988332271576, 0.24033646285533905, 0.23117808997631073, 0.22761021554470062, 0.22761021554470062, 0.22746573388576508, 0.2168101668357849, 0.21608111262321472, 0.20672431588172913, 0.20376640558242798, 0.20323170721530914, 0.19249863922595978, 0.19209124147891998, 0.19087745249271393, 0.18800368905067444, 0.1865951269865036, 0.1832643300294876, 0.18077552318572998, 0.1789882630109787, 0.1789882630109787, 0.17851558327674866, 0.17851558327674866, 0.17843569815158844, 0.17835213243961334, 0.17835213243961334, 0.17644065618515015, 0.17642557621002197, 0.17623506486415863, 0.1734527349472046, 0.17302003502845764, 0.17302003502845764, 0.17120663821697235, 0.7318899631500244, 0.7219308614730835, 0.667095959186554, 0.6582961678504944, 0.6582961678504944, 0.6582961678504944, 0.6582961678504944, 0.6582961678504944, 0.6582961678504944, 0.6582961678504944, 0.6582961678504944, 0.6582961678504944, 0.6582961678504944, 0.6582868695259094, 0.6582868695259094, 0.6481132507324219, 0.6450436115264893, 0.6441918015480042, 0.6386823654174805, 0.6376267075538635, 0.6333268284797668, 0.6333268284797668, 0.6307953596115112, 0.6228624582290649, 0.6161273121833801, 0.6152546405792236, 0.6145111322402954, 0.6142450571060181, 0.6137837767601013, 0.6058489680290222, 0.6051009893417358, 0.6051009893417358, 0.6045815944671631, 0.6041823625564575, 0.6039716005325317, 0.6039716005325317, 0.6039716005325317, 0.6033942699432373, 0.6018482446670532, 0.5932153463363647, 0.5932153463363647, 0.7984299659729004, 0.7404406666755676, 0.6405549049377441, 0.6039878726005554, 0.5809613466262817, 0.5796064734458923, 0.5720783472061157, 0.5690675377845764, 0.5642386674880981, 0.5572129487991333, 0.5071547627449036, 0.4966529905796051, 0.4890187084674835, 0.4890187084674835, 0.4863117039203644, 0.4660000801086426, 0.45712342858314514, 0.40942996740341187, 0.40354466438293457, 0.39297592639923096, 0.39080294966697693, 0.3883730471134186, 0.37812089920043945, 0.3648805618286133, 0.34423238039016724, 0.3422450125217438, 0.341116726398468, 0.3409160375595093, 0.3395770788192749, 0.3219068646430969, 0.3195328712463379, 0.31928756833076477, 0.3180060386657715, 0.31201595067977905, 0.31201595067977905, 0.3046397864818573, 0.29285889863967896, 0.29187145829200745, 0.28535592555999756, 0.27968013286590576, 0.2789168357849121, 0.9494209289550781, 0.9236912727355957, 0.9236912727355957, 0.9211532473564148, 0.9211532473564148, 0.9173030257225037, 0.9173030257225037, 0.9159731268882751, 0.9158591032028198, 0.9158591032028198, 0.9136813282966614, 0.9105838537216187, 0.9061307907104492, 0.9021289348602295, 0.9004209637641907, 0.9004209637641907, 0.9004209637641907, 0.8945440649986267, 0.8944029211997986, 0.8909215331077576, 0.8895806670188904, 0.8866427540779114, 0.8865395784378052, 0.8779615163803101, 0.8779615163803101, 0.8746451139450073, 0.8709331154823303, 0.865454912185669, 0.8627604842185974, 0.860087513923645, 0.8591288924217224, 0.8586495518684387, 0.8558251261711121, 0.8544425368309021, 0.8542535901069641, 0.8538989424705505, 0.8538989424705505, 0.8535251617431641, 0.8518482446670532, 0.8495957851409912, 0.844585120677948, 0.8712154030799866, 0.8712154030799866, 0.8603395819664001, 0.857196033000946, 0.857196033000946, 0.848290205001831, 0.848290205001831, 0.848290205001831, 0.8425439596176147, 0.8391072750091553, 0.8391072750091553, 0.8391057252883911, 0.8312827348709106, 0.829754114151001, 0.8249200582504272, 0.821284830570221, 0.821284830570221, 0.8187695741653442, 0.8180935382843018, 0.8168595433235168, 0.8167098760604858, 0.8167098760604858, 0.8115235567092896, 0.8052873611450195, 0.8052654266357422, 0.8047451972961426, 0.8033890724182129, 0.8005293011665344, 0.7996291518211365, 0.7964634299278259, 0.7954965233802795, 0.7943444848060608, 0.7943444848060608, 0.7922270894050598, 0.790320634841919, 0.789980947971344, 0.7886682152748108, 0.7818921804428101, 0.780531644821167, 0.7797821760177612, 0.7795490026473999, 0.894131064414978, 0.8499364852905273, 0.8499364852905273, 0.8443185091018677, 0.8430787920951843, 0.8363043665885925, 0.8267672061920166, 0.8265052437782288, 0.8264118432998657, 0.8264118432998657, 0.824409544467926, 0.8205828070640564, 0.8152585625648499, 0.8151112794876099, 0.8130074739456177, 0.8110303282737732, 0.8017667531967163, 0.8016963005065918, 0.8016963005065918, 0.8016963005065918, 0.8014387488365173, 0.7982179522514343, 0.796473503112793, 0.7958930134773254, 0.7941933274269104, 0.79399573802948, 0.7939373254776001, 0.7928876876831055, 0.7928876876831055, 0.7917848825454712, 0.7917848825454712, 0.7879880666732788, 0.7866253852844238, 0.7857556939125061, 0.7855094075202942, 0.7853200435638428, 0.7852004170417786, 0.7828965783119202, 0.7809491753578186, 0.7804358005523682, 0.7771335244178772, 0.9494209289550781, 0.9236912727355957, 0.9236912727355957, 0.9211532473564148, 0.9211532473564148, 0.9173030257225037, 0.9173030257225037, 0.9159731268882751, 0.9158591032028198, 0.9158591032028198, 0.9136813282966614, 0.9105838537216187, 0.9061307907104492, 0.9021289348602295, 0.9004209637641907, 0.9004209637641907, 0.9004209637641907, 0.8945440649986267, 0.8944029211997986, 0.8909215331077576, 0.8895806670188904, 0.8866427540779114, 0.8865395784378052, 0.8779615163803101, 0.8779615163803101, 0.8746451139450073, 0.8709331154823303, 0.865454912185669, 0.8627604842185974, 0.860087513923645, 0.8591288924217224, 0.8586495518684387, 0.8558251261711121, 0.8544425368309021, 0.8542535901069641, 0.8538989424705505, 0.8538989424705505, 0.8535251617431641, 0.8518482446670532, 0.8495957851409912, 0.844585120677948, 0.6412763595581055, 0.6029272079467773, 0.5663589835166931, 0.5619253516197205, 0.5592180490493774, 0.5526431202888489, 0.5517399907112122, 0.547723114490509, 0.5430296063423157, 0.541503369808197, 0.5363665819168091, 0.5241200923919678, 0.5210807919502258, 0.5123600363731384, 0.5102723836898804, 0.4985172152519226, 0.4964233636856079, 0.4964233636856079, 0.49464377760887146, 0.494640588760376, 0.48509857058525085, 0.4830876588821411, 0.4772879183292389, 0.4772879183292389, 0.4770507514476776, 0.4770507514476776, 0.473764032125473, 0.47221770882606506, 0.47221770882606506, 0.47012197971343994, 0.46675240993499756, 0.4658137857913971, 0.46531543135643005, 0.4648159444332123, 0.4648159444332123, 0.4647156298160553, 0.4588795602321625, 0.4588795602321625, 0.4581466317176819, 0.45570439100265503, 0.45570439100265503, 0.8274280428886414, 0.825278639793396, 0.8009997010231018, 0.8009997010231018, 0.8006582856178284, 0.7978694438934326, 0.7957659959793091, 0.794220507144928, 0.7936425805091858, 0.7907142639160156, 0.7871358394622803, 0.7871358394622803, 0.7830264568328857, 0.7830264568328857, 0.7822827696800232, 0.776763916015625, 0.7716985940933228, 0.7716985940933228, 0.767949104309082, 0.7673234939575195, 0.7658195495605469, 0.7645465135574341, 0.7617378830909729, 0.7524629831314087, 0.7515309453010559, 0.7496128082275391, 0.7489255666732788, 0.7469266057014465, 0.7444797158241272, 0.7437562942504883, 0.7437562942504883, 0.7382715940475464, 0.7373270988464355, 0.7367873191833496, 0.7364625334739685, 0.7364625334739685, 0.7352796196937561, 0.7333360314369202, 0.7331046462059021, 0.7330502867698669, 0.7330291271209717, 0.6412763595581055, 0.6029272079467773, 0.5663589835166931, 0.5619253516197205, 0.5592180490493774, 0.5526431202888489, 0.5517399907112122, 0.547723114490509, 0.5430296063423157, 0.541503369808197, 0.5363665819168091, 0.5241200923919678, 0.5210807919502258, 0.5123600363731384, 0.5102723836898804, 0.4985172152519226, 0.4964233636856079, 0.4964233636856079, 0.49464377760887146, 0.494640588760376, 0.48509857058525085, 0.4830876588821411, 0.4772879183292389, 0.4772879183292389, 0.4770507514476776, 0.4770507514476776, 0.473764032125473, 0.47221770882606506, 0.47221770882606506, 0.47012197971343994, 0.46675240993499756, 0.4658137857913971, 0.46531543135643005, 0.4648159444332123, 0.4648159444332123, 0.4647156298160553, 0.4588795602321625, 0.4588795602321625, 0.4581466317176819, 0.45570439100265503, 0.45570439100265503, 0.8392282128334045, 0.8271991610527039, 0.8006526827812195, 0.7988647222518921, 0.7936407923698425, 0.7842175960540771, 0.7769678831100464, 0.7688652276992798, 0.7688652276992798, 0.7666994333267212, 0.7654226422309875, 0.7645257115364075, 0.7613093852996826, 0.7594044208526611, 0.7585083246231079, 0.7585083246231079, 0.7552440762519836, 0.7552440762519836, 0.7540417909622192, 0.7507011890411377, 0.7388671040534973, 0.7388671040534973, 0.7373989224433899, 0.7334699630737305, 0.7315012812614441, 0.7269753813743591, 0.7265574932098389, 0.7247904539108276, 0.7247629761695862, 0.7246270775794983, 0.7237456440925598, 0.7230640053749084, 0.7229964137077332, 0.7229964137077332, 0.7225172519683838, 0.7189351320266724, 0.7175891995429993, 0.7162423729896545, 0.7155147194862366, 0.714677095413208, 0.7133596539497375, 0.9156361818313599, 0.9121736884117126, 0.8964144587516785, 0.8960501551628113, 0.8956658840179443, 0.8956658840179443, 0.8956658840179443, 0.8860612511634827, 0.8850540518760681, 0.8850540518760681, 0.8782799243927002, 0.8765780329704285, 0.8765780329704285, 0.8765780329704285, 0.8684594035148621, 0.8653117418289185, 0.8653117418289185, 0.8536666631698608, 0.8524965643882751, 0.8511409163475037, 0.8511409163475037, 0.8510849475860596, 0.8502802848815918, 0.8476464748382568, 0.8476464748382568, 0.8431612253189087, 0.8428559899330139, 0.8417466878890991, 0.8410123586654663, 0.8410123586654663, 0.836675226688385, 0.8352149128913879, 0.8350011110305786, 0.8331651091575623, 0.8331651091575623, 0.8290367126464844, 0.8248782157897949, 0.8233491778373718, 0.8210961818695068, 0.8195547461509705, 0.8187606930732727, 0.8314616680145264, 0.8314616680145264, 0.8314616680145264, 0.8290607333183289, 0.8280683159828186, 0.825214684009552, 0.8139614462852478, 0.8087644577026367, 0.8077713251113892, 0.8001044988632202, 0.8001044988632202, 0.7986593246459961, 0.7979562878608704, 0.7966225743293762, 0.7966225743293762, 0.795569658279419, 0.7891445159912109, 0.7873630523681641, 0.7820174098014832, 0.7782782316207886, 0.7782782316207886, 0.7724282741546631, 0.7706332802772522, 0.7689461708068848, 0.7687275409698486, 0.7665161490440369, 0.7655441164970398, 0.7647008895874023, 0.7619792819023132, 0.7614302039146423, 0.7614302039146423, 0.7593280673027039, 0.7567839622497559, 0.7521147131919861, 0.7521147131919861, 0.7513321042060852, 0.7510479688644409, 0.7502443194389343, 0.7496384382247925, 0.7496120929718018, 0.7491890788078308, 0.8388959765434265, 0.8315877318382263, 0.8289715647697449, 0.8275090456008911, 0.8197929859161377, 0.8197929859161377, 0.8128816485404968, 0.809387743473053, 0.8040311336517334, 0.7980072498321533, 0.7975339889526367, 0.781383752822876, 0.781383752822876, 0.781383752822876, 0.7742934823036194, 0.770491898059845, 0.7634011507034302, 0.7634011507034302, 0.7634011507034302, 0.7616152763366699, 0.7574784755706787, 0.756744921207428, 0.7554291486740112, 0.7532932162284851, 0.7532932162284851, 0.7448113560676575, 0.7431975603103638, 0.7350968718528748, 0.7346012592315674, 0.7330067157745361, 0.7329080104827881, 0.7329080104827881, 0.7312568426132202, 0.7302595973014832, 0.7301360964775085, 0.7286034822463989, 0.7271976470947266, 0.7271976470947266, 0.7247399687767029, 0.7244765162467957, 0.7244765162467957, 0.633958637714386, 0.633958637714386, 0.5912184119224548, 0.5499650835990906, 0.5357677340507507, 0.5357677340507507, 0.5195452570915222, 0.5195452570915222, 0.5122812390327454, 0.5122812390327454, 0.5060122013092041, 0.5060122013092041, 0.5060122013092041, 0.5058460235595703, 0.5024875402450562, 0.5006029009819031, 0.5006029009819031, 0.4819435179233551, 0.4802892804145813, 0.47528305649757385, 0.4692997932434082, 0.4692997932434082, 0.46799758076667786, 0.4574599862098694, 0.44816628098487854, 0.4462590515613556, 0.4461257755756378, 0.4460775554180145, 0.44605082273483276, 0.4438881278038025, 0.442506343126297, 0.4414764642715454, 0.4366817772388458, 0.43573376536369324, 0.43455013632774353, 0.4340825378894806, 0.4340825378894806, 0.43267908692359924, 0.43115055561065674, 0.42575106024742126, 0.42430299520492554, 0.81330806016922, 0.7719712853431702, 0.7702486515045166, 0.7612738013267517, 0.7612738013267517, 0.7480956315994263, 0.7375476956367493, 0.7338883876800537, 0.7320160269737244, 0.7280169129371643, 0.7275636196136475, 0.7197825312614441, 0.7126572132110596, 0.7088326215744019, 0.7030749917030334, 0.6913355588912964, 0.6883000731468201, 0.6876760721206665, 0.687063455581665, 0.687063455581665, 0.6865920424461365, 0.6805024147033691, 0.6759238243103027, 0.6743080019950867, 0.6718592047691345, 0.6705443263053894, 0.6660569310188293, 0.6634408831596375, 0.6634408831596375, 0.6616387367248535, 0.6598227024078369, 0.6589080691337585, 0.6589080691337585, 0.6560071110725403, 0.6559169888496399, 0.6546996235847473, 0.6541184186935425, 0.6540521383285522, 0.6519107818603516, 0.6480517387390137, 0.646683931350708, 0.633958637714386, 0.633958637714386, 0.5912184119224548, 0.5499650835990906, 0.5357677340507507, 0.5357677340507507, 0.5195452570915222, 0.5195452570915222, 0.5122812390327454, 0.5122812390327454, 0.5060122013092041, 0.5060122013092041, 0.5060122013092041, 0.5058460235595703, 0.5024875402450562, 0.5006029009819031, 0.5006029009819031, 0.4819435179233551, 0.4802892804145813, 0.47528305649757385, 0.4692997932434082, 0.4692997932434082, 0.46799758076667786, 0.4574599862098694, 0.44816628098487854, 0.4462590515613556, 0.4461257755756378, 0.4460775554180145, 0.44605082273483276, 0.4438881278038025, 0.442506343126297, 0.4414764642715454, 0.4366817772388458, 0.43573376536369324, 0.43455013632774353, 0.4340825378894806, 0.4340825378894806, 0.43267908692359924, 0.43115055561065674, 0.42575106024742126, 0.42430299520492554, 0.9063060879707336, 0.882762610912323, 0.8510189056396484, 0.8505803346633911, 0.8379678130149841, 0.836675226688385, 0.8306050300598145, 0.8292160034179688, 0.8266175985336304, 0.8208000659942627, 0.815138041973114, 0.8128042221069336, 0.8090389966964722, 0.8083969354629517, 0.8083969354629517, 0.805083155632019, 0.8045980334281921, 0.8037563562393188, 0.8037563562393188, 0.8020521998405457, 0.8020521998405457, 0.8020477294921875, 0.8013932704925537, 0.8013932704925537, 0.8013932704925537, 0.7943814396858215, 0.7942025661468506, 0.7936064600944519, 0.7916564345359802, 0.7908399105072021, 0.7881237864494324, 0.7872841954231262, 0.7857776284217834, 0.7842826247215271, 0.7833036184310913, 0.7832664251327515, 0.7814041376113892, 0.7799592018127441, 0.7796052098274231, 0.7795562148094177, 0.7793822884559631, 0.8091390132904053, 0.6891561150550842, 0.6801055669784546, 0.6451939940452576, 0.6159160137176514, 0.5921262502670288, 0.5823844075202942, 0.5820318460464478, 0.5811983942985535, 0.5811983942985535, 0.5811983942985535, 0.5745760798454285, 0.5736847519874573, 0.5736847519874573, 0.5734468102455139, 0.570777952671051, 0.5682922601699829, 0.5682922601699829, 0.5682922601699829, 0.5682922601699829, 0.5682922601699829, 0.5682922601699829, 0.5682922601699829, 0.5682922601699829, 0.5682922601699829, 0.5682922601699829, 0.5682922601699829, 0.5682922601699829, 0.5682922601699829, 0.5682922601699829, 0.5682922601699829, 0.5682922601699829, 0.5682922601699829, 0.5682922601699829, 0.5682922601699829, 0.5682922601699829, 0.5682922601699829, 0.5682922601699829, 0.5682922601699829, 0.5682922601699829, 0.5670512318611145, 0.8636166453361511, 0.7336101531982422, 0.6719341278076172, 0.6614990830421448, 0.6508910059928894, 0.6421348452568054, 0.6353925466537476, 0.6353925466537476, 0.633938193321228, 0.6322544813156128, 0.6322544813156128, 0.6098225712776184, 0.5971717834472656, 0.5938325524330139, 0.5921084880828857, 0.5888393521308899, 0.5885260105133057, 0.5842818021774292, 0.584263801574707, 0.5833984017372131, 0.5806509852409363, 0.5798161029815674, 0.5798161029815674, 0.5786178112030029, 0.5775918364524841, 0.5767940282821655, 0.5722576379776001, 0.5719826221466064, 0.5708498358726501, 0.5675331950187683, 0.5675331950187683, 0.5574374198913574, 0.5540505051612854, 0.5519075393676758, 0.5513156056404114, 0.548446774482727, 0.5402410626411438, 0.5382021069526672, 0.5382021069526672, 0.5373744368553162, 0.5362589955329895, 0.8091390132904053, 0.6891561150550842, 0.6801055669784546, 0.6451939940452576, 0.6159160137176514, 0.5921262502670288, 0.5823844075202942, 0.5820318460464478, 0.5811983942985535, 0.5811983942985535, 0.5811983942985535, 0.5745760798454285, 0.5736847519874573, 0.5736847519874573, 0.5734468102455139, 0.570777952671051, 0.5682922601699829, 0.5682922601699829, 0.5682922601699829, 0.5682922601699829, 0.5682922601699829, 0.5682922601699829, 0.5682922601699829, 0.5682922601699829, 0.5682922601699829, 0.5682922601699829, 0.5682922601699829, 0.5682922601699829, 0.5682922601699829, 0.5682922601699829, 0.5682922601699829, 0.5682922601699829, 0.5682922601699829, 0.5682922601699829, 0.5682922601699829, 0.5682922601699829, 0.5682922601699829, 0.5682922601699829, 0.5682922601699829, 0.5682922601699829, 0.5670512318611145, 0.8468665480613708, 0.8401398658752441, 0.8180268406867981, 0.8172256946563721, 0.8131838440895081, 0.8131838440895081, 0.8002219200134277, 0.7968142032623291, 0.7958288788795471, 0.7925590872764587, 0.7920393347740173, 0.7889525890350342, 0.7888792753219604, 0.788139283657074, 0.788139283657074, 0.7879514694213867, 0.7877715229988098, 0.7854916453361511, 0.7854916453361511, 0.7854338884353638, 0.7851946949958801, 0.7842175960540771, 0.7811582088470459, 0.7786855101585388, 0.7746793627738953, 0.7735934853553772, 0.772800624370575, 0.772800624370575, 0.771598756313324, 0.7702879905700684, 0.7701611518859863, 0.7698095440864563, 0.7691477537155151, 0.7665916681289673, 0.7638897895812988, 0.7637529969215393, 0.7633060216903687, 0.7603030204772949, 0.7597717642784119, 0.7577378153800964, 0.7563976645469666, 0.95414137840271, 0.9059894680976868, 0.9059894680976868, 0.9008863568305969, 0.8946239352226257, 0.8946239352226257, 0.884229302406311, 0.8808816075325012, 0.8768022060394287, 0.8755673766136169, 0.8755673766136169, 0.8749032616615295, 0.8749032616615295, 0.8749032616615295, 0.8748124241828918, 0.873496949672699, 0.873496949672699, 0.868328332901001, 0.8661590218544006, 0.8653605580329895, 0.8640376925468445, 0.8603135347366333, 0.8580191731452942, 0.8580191731452942, 0.8578092455863953, 0.8566655516624451, 0.8550738096237183, 0.8539261221885681, 0.8535251617431641, 0.8535251617431641, 0.8525344729423523, 0.8521373867988586, 0.8504796624183655, 0.8486241102218628, 0.8466346263885498, 0.845944881439209, 0.8454988598823547, 0.8454792499542236, 0.8440196514129639, 0.8440196514129639, 0.8425000905990601, 0.8896587491035461, 0.8872084021568298, 0.8872084021568298, 0.8777207136154175, 0.8777207136154175, 0.8777207136154175, 0.8722139000892639, 0.8678221106529236, 0.8678221106529236, 0.8678151965141296, 0.8617072105407715, 0.8591545224189758, 0.8591545224189758, 0.853548526763916, 0.8532342910766602, 0.8514735698699951, 0.8492973446846008, 0.8492973446846008, 0.8449541330337524, 0.8449541330337524, 0.8408017158508301, 0.8408017158508301, 0.8391790390014648, 0.8359375, 0.8334892988204956, 0.8327882885932922, 0.8327865600585938, 0.8312209844589233, 0.8293319940567017, 0.8284597396850586, 0.827415943145752, 0.8250928521156311, 0.8250928521156311, 0.824414849281311, 0.8212364912033081, 0.8199217915534973, 0.8180890083312988, 0.8167586922645569, 0.8165301084518433, 0.8153895139694214, 0.8126990795135498, 0.903502345085144, 0.850817859172821, 0.8063570857048035, 0.7938055396080017, 0.7853180170059204, 0.7851340174674988, 0.7702805399894714, 0.7599148750305176, 0.758669912815094, 0.7530876398086548, 0.7368177771568298, 0.7353871464729309, 0.732133150100708, 0.7279059886932373, 0.7223026156425476, 0.7132827043533325, 0.7119317650794983, 0.7100315690040588, 0.7084747552871704, 0.7044668793678284, 0.704421877861023, 0.7039677500724792, 0.7038471698760986, 0.6978389620780945, 0.6978389620780945, 0.6978389620780945, 0.6959697604179382, 0.6957548260688782, 0.6860640048980713, 0.685364305973053, 0.6845111846923828, 0.6823684573173523, 0.6760469079017639, 0.6760469079017639, 0.6760469079017639, 0.6760469079017639, 0.6760469079017639, 0.6760469079017639, 0.6760469079017639, 0.6725722551345825, 0.6702821850776672, 0.9246340394020081, 0.9246340394020081, 0.9194267988204956, 0.9131388068199158, 0.9130541682243347, 0.9130541682243347, 0.9104563593864441, 0.9104563593864441, 0.9035990238189697, 0.899057924747467, 0.8947557806968689, 0.8940200209617615, 0.8936270475387573, 0.8936270475387573, 0.8928676247596741, 0.8928542137145996, 0.8928542137145996, 0.8928542137145996, 0.8924645781517029, 0.8911294937133789, 0.89105623960495, 0.89105623960495, 0.8860611319541931, 0.8840405941009521, 0.8819664716720581, 0.8818517327308655, 0.8780788779258728, 0.8740823268890381, 0.8713255524635315, 0.8709331154823303, 0.8709331154823303, 0.870006799697876, 0.8673389554023743, 0.866392195224762, 0.8634369969367981, 0.8633102774620056, 0.8629450798034668, 0.862804651260376, 0.8614067435264587, 0.8614067435264587, 0.8578177690505981, 0.7760211229324341, 0.7691456079483032, 0.7597202658653259, 0.7597202658653259, 0.6678633093833923, 0.6597487926483154, 0.6395716071128845, 0.6367091536521912, 0.6354620456695557, 0.6217023134231567, 0.6217023134231567, 0.6042658090591431, 0.6042658090591431, 0.6022485494613647, 0.6022263765335083, 0.6021704077720642, 0.5986090898513794, 0.5986090898513794, 0.5986090898513794, 0.5982233285903931, 0.5958680510520935, 0.5840792059898376, 0.5799729824066162, 0.5799729824066162, 0.5784309506416321, 0.5780493021011353, 0.5768689513206482, 0.575110673904419, 0.575110673904419, 0.5738208293914795, 0.5670388340950012, 0.5499482154846191, 0.5489357709884644, 0.5435800552368164, 0.54051274061203, 0.5401113033294678, 0.5392819046974182, 0.5348079800605774, 0.5313576459884644, 0.5313576459884644, 0.5313576459884644, 0.8575169444084167, 0.8468550443649292, 0.8412627577781677, 0.835033118724823, 0.830841064453125, 0.8058347105979919, 0.7877972722053528, 0.7786617279052734, 0.7766667604446411, 0.7758328914642334, 0.7706381678581238, 0.7703419327735901, 0.7692301273345947, 0.7616863250732422, 0.7611557841300964, 0.758316695690155, 0.757900059223175, 0.7573572397232056, 0.7573121786117554, 0.7530289888381958, 0.7390493154525757, 0.7365825772285461, 0.7357451915740967, 0.7334661483764648, 0.7241354584693909, 0.7234103083610535, 0.7181981801986694, 0.717356264591217, 0.7147614359855652, 0.7135133743286133, 0.7131761908531189, 0.712940514087677, 0.712940514087677, 0.7126600742340088, 0.7126572132110596, 0.7123448252677917, 0.7107283473014832, 0.7099174857139587, 0.7098824977874756, 0.707671046257019, 0.7039677500724792, 0.7760211229324341, 0.7691456079483032, 0.7597202658653259, 0.7597202658653259, 0.6678633093833923, 0.6597487926483154, 0.6395716071128845, 0.6367091536521912, 0.6354620456695557, 0.6217023134231567, 0.6217023134231567, 0.6042658090591431, 0.6042658090591431, 0.6022485494613647, 0.6022263765335083, 0.6021704077720642, 0.5986090898513794, 0.5986090898513794, 0.5986090898513794, 0.5982233285903931, 0.5958680510520935, 0.5840792059898376, 0.5799729824066162, 0.5799729824066162, 0.5784309506416321, 0.5780493021011353, 0.5768689513206482, 0.575110673904419, 0.575110673904419, 0.5738208293914795, 0.5670388340950012, 0.5499482154846191, 0.5489357709884644, 0.5435800552368164, 0.54051274061203, 0.5401113033294678, 0.5392819046974182, 0.5348079800605774, 0.5313576459884644, 0.5313576459884644, 0.5313576459884644, 0.6907745003700256, 0.6834781765937805, 0.6731234788894653, 0.6628892421722412, 0.6591853499412537, 0.6542965173721313, 0.642416775226593, 0.623588502407074, 0.6155872344970703, 0.61113440990448, 0.6043989658355713, 0.5951944589614868, 0.5949763655662537, 0.5949763655662537, 0.5917364358901978, 0.5890368819236755, 0.5858701467514038, 0.5858525037765503, 0.5852465629577637, 0.5847325325012207, 0.5771088600158691, 0.5764330625534058, 0.5747053623199463, 0.5731309652328491, 0.5699046850204468, 0.5679421424865723, 0.5661050081253052, 0.5620402693748474, 0.5620402693748474, 0.5616286396980286, 0.557090699672699, 0.5553961992263794, 0.5513812899589539, 0.548610508441925, 0.5478376150131226, 0.5474366545677185, 0.5460911989212036, 0.5441019535064697, 0.543850839138031, 0.5430396199226379, 0.5426923036575317, 0.9913313984870911, 0.9870998859405518, 0.9748407006263733, 0.9689081311225891, 0.9689081311225891, 0.9689081311225891, 0.9689081311225891, 0.9689081311225891, 0.9689081311225891, 0.9689081311225891, 0.9689081311225891, 0.9689081311225891, 0.9689081311225891, 0.9689081311225891, 0.9689081311225891, 0.9689081311225891, 0.9689081311225891, 0.9689081311225891, 0.9689081311225891, 0.9689081311225891, 0.9689081311225891, 0.9689081311225891, 0.9689081311225891, 0.9689081311225891, 0.9689081311225891, 0.9689081311225891, 0.9689081311225891, 0.9625777006149292, 0.9604591727256775, 0.9604591727256775, 0.9533900618553162, 0.9484360814094543, 0.9431205987930298, 0.9431205987930298, 0.9431205987930298, 0.9390779733657837, 0.9390779733657837, 0.9372097253799438, 0.9368451833724976, 0.9368451833724976, 0.9368451833724976, 0.7355902791023254, 0.7341411709785461, 0.6739563941955566, 0.6709051132202148, 0.6639375686645508, 0.6639375686645508, 0.653757631778717, 0.6503570675849915, 0.6503570675849915, 0.6157059669494629, 0.605950653553009, 0.6044228076934814, 0.6037741899490356, 0.5977097153663635, 0.5954562425613403, 0.5897077918052673, 0.5886235237121582, 0.5886235237121582, 0.5886235237121582, 0.5862191319465637, 0.5739993453025818, 0.5726639628410339, 0.5675213932991028, 0.5660825371742249, 0.5660825371742249, 0.5609248280525208, 0.5582330822944641, 0.5580312013626099, 0.5579114556312561, 0.5558300614356995, 0.5537248253822327, 0.5516951680183411, 0.5477204322814941, 0.5459309220314026, 0.5459309220314026, 0.5458991527557373, 0.5400347113609314, 0.5400347113609314, 0.5381267666816711, 0.5365620255470276, 0.5331963300704956, 0.9114046096801758, 0.8889731764793396, 0.8832082748413086, 0.8832082748413086, 0.8832082748413086, 0.8814421892166138, 0.8612020015716553, 0.8612020015716553, 0.8612020015716553, 0.8612020015716553, 0.8560909628868103, 0.8536401987075806, 0.8493697643280029, 0.8480280637741089, 0.8470005989074707, 0.8462749719619751, 0.8462749719619751, 0.8462749719619751, 0.8457028865814209, 0.8423675298690796, 0.8384153842926025, 0.836257815361023, 0.8356778025627136, 0.8353785276412964, 0.8353785276412964, 0.8326801657676697, 0.8318994641304016, 0.8313769698143005, 0.8211948871612549, 0.8211948871612549, 0.8168103694915771, 0.8086980581283569, 0.8086980581283569, 0.8041534423828125, 0.8041534423828125, 0.8020379543304443, 0.8010491132736206, 0.7988455891609192, 0.7970005869865417, 0.7970005869865417, 0.7955766320228577, 0.9364058971405029, 0.9364058971405029, 0.9364058971405029, 0.9152092933654785, 0.8812671303749084, 0.8737779259681702, 0.8709307909011841, 0.8709307909011841, 0.8709307909011841, 0.8672023415565491, 0.8621299266815186, 0.8605350255966187, 0.8602184057235718, 0.8602184057235718, 0.8547413945198059, 0.8547413945198059, 0.8414403796195984, 0.8414339423179626, 0.8372265100479126, 0.837067723274231, 0.8323214054107666, 0.8323214054107666, 0.8311741948127747, 0.8301394581794739, 0.8278380036354065, 0.8232771754264832, 0.8170179128646851, 0.8142282366752625, 0.810380756855011, 0.810380756855011, 0.8078660368919373, 0.802234947681427, 0.7994346022605896, 0.7979393601417542, 0.7979178428649902, 0.7938059568405151, 0.7931973338127136, 0.7917271256446838, 0.791425883769989, 0.791425883769989, 0.791425883769989, 1.0, 1.0, 1.0, 1.0, 1.0, 1.0, 1.0, 1.0, 1.0, 0.8863632678985596, 0.8775557279586792, 0.861854076385498, 0.861854076385498, 0.861854076385498, 0.8001465201377869, 0.7379985451698303, 0.7289792895317078, 0.7101971507072449, 0.7097055315971375, 0.6949785947799683, 0.6768542528152466, 0.661018431186676, 0.6495692133903503, 0.6323192715644836, 0.6276248097419739, 0.6276248097419739, 0.6162000298500061, 0.6088104844093323, 0.6085075736045837, 0.6063268780708313, 0.5951151847839355, 0.5950534343719482, 0.5929603576660156, 0.5822722315788269, 0.580907940864563, 0.580907940864563, 0.580907940864563, 0.580907940864563, 0.5785122513771057, 0.5769842267036438, 0.5761176347732544, 0.9114046096801758, 0.8889731764793396, 0.8832082748413086, 0.8832082748413086, 0.8832082748413086, 0.8814421892166138, 0.8612020015716553, 0.8612020015716553, 0.8612020015716553, 0.8612020015716553, 0.8560909628868103, 0.8536401987075806, 0.8493697643280029, 0.8480280637741089, 0.8470005989074707, 0.8462749719619751, 0.8462749719619751, 0.8462749719619751, 0.8457028865814209, 0.8423675298690796, 0.8384153842926025, 0.836257815361023, 0.8356778025627136, 0.8353785276412964, 0.8353785276412964, 0.8326801657676697, 0.8318994641304016, 0.8313769698143005, 0.8211948871612549, 0.8211948871612549, 0.8168103694915771, 0.8086980581283569, 0.8086980581283569, 0.8041534423828125, 0.8041534423828125, 0.8020379543304443, 0.8010491132736206, 0.7988455891609192, 0.7970005869865417, 0.7970005869865417, 0.7955766320228577, 0.9114046096801758, 0.8889731764793396, 0.8832082748413086, 0.8832082748413086, 0.8832082748413086, 0.8814421892166138, 0.8612020015716553, 0.8612020015716553, 0.8612020015716553, 0.8612020015716553, 0.8560909628868103, 0.8536401987075806, 0.8493697643280029, 0.8480280637741089, 0.8470005989074707, 0.8462749719619751, 0.8462749719619751, 0.8462749719619751, 0.8457028865814209, 0.8423675298690796, 0.8384153842926025, 0.836257815361023, 0.8356778025627136, 0.8353785276412964, 0.8353785276412964, 0.8326801657676697, 0.8318994641304016, 0.8313769698143005, 0.8211948871612549, 0.8211948871612549, 0.8168103694915771, 0.8086980581283569, 0.8086980581283569, 0.8041534423828125, 0.8041534423828125, 0.8020379543304443, 0.8010491132736206, 0.7988455891609192, 0.7970005869865417, 0.7970005869865417, 0.7955766320228577, 0.9364058971405029, 0.9364058971405029, 0.9364058971405029, 0.9152092933654785, 0.8812671303749084, 0.8737779259681702, 0.8709307909011841, 0.8709307909011841, 0.8709307909011841, 0.8672023415565491, 0.8621299266815186, 0.8605350255966187, 0.8602184057235718, 0.8602184057235718, 0.8547413945198059, 0.8547413945198059, 0.8414403796195984, 0.8414339423179626, 0.8372265100479126, 0.837067723274231, 0.8323214054107666, 0.8323214054107666, 0.8311741948127747, 0.8301394581794739, 0.8278380036354065, 0.8232771754264832, 0.8170179128646851, 0.8142282366752625, 0.810380756855011, 0.810380756855011, 0.8078660368919373, 0.802234947681427, 0.7994346022605896, 0.7979393601417542, 0.7979178428649902, 0.7938059568405151, 0.7931973338127136, 0.7917271256446838, 0.791425883769989, 0.791425883769989, 0.791425883769989, 1.0, 1.0, 1.0, 1.0, 1.0, 1.0, 1.0, 1.0, 1.0, 0.8863632678985596, 0.8775557279586792, 0.861854076385498, 0.861854076385498, 0.861854076385498, 0.8001465201377869, 0.7379985451698303, 0.7289792895317078, 0.7101971507072449, 0.7097055315971375, 0.6949785947799683, 0.6768542528152466, 0.661018431186676, 0.6495692133903503, 0.6323192715644836, 0.6276248097419739, 0.6276248097419739, 0.6162000298500061, 0.6088104844093323, 0.6085075736045837, 0.6063268780708313, 0.5951151847839355, 0.5950534343719482, 0.5929603576660156, 0.5822722315788269, 0.580907940864563, 0.580907940864563, 0.580907940864563, 0.580907940864563, 0.5785122513771057, 0.5769842267036438, 0.5761176347732544, 0.9114046096801758, 0.8889731764793396, 0.8832082748413086, 0.8832082748413086, 0.8832082748413086, 0.8814421892166138, 0.8612020015716553, 0.8612020015716553, 0.8612020015716553, 0.8612020015716553, 0.8560909628868103, 0.8536401987075806, 0.8493697643280029, 0.8480280637741089, 0.8470005989074707, 0.8462749719619751, 0.8462749719619751, 0.8462749719619751, 0.8457028865814209, 0.8423675298690796, 0.8384153842926025, 0.836257815361023, 0.8356778025627136, 0.8353785276412964, 0.8353785276412964, 0.8326801657676697, 0.8318994641304016, 0.8313769698143005, 0.8211948871612549, 0.8211948871612549, 0.8168103694915771, 0.8086980581283569, 0.8086980581283569, 0.8041534423828125, 0.8041534423828125, 0.8020379543304443, 0.8010491132736206, 0.7988455891609192, 0.7970005869865417, 0.7970005869865417, 0.7955766320228577, 0.7642410397529602, 0.7384548187255859, 0.7384548187255859, 0.7209249138832092, 0.7209249138832092, 0.7170248031616211, 0.7114786505699158, 0.7082483768463135, 0.7060030102729797, 0.7054234147071838, 0.7054234147071838, 0.7054035067558289, 0.6972337365150452, 0.6972337365150452, 0.6972337365150452, 0.6961479783058167, 0.692636251449585, 0.6901784539222717, 0.6875267028808594, 0.6825894117355347, 0.6817271113395691, 0.6763753294944763, 0.6746799945831299, 0.6732643246650696, 0.6730661392211914, 0.6719012260437012, 0.6719012260437012, 0.670775830745697, 0.670350193977356, 0.6689490675926208, 0.6653862595558167, 0.6633821725845337, 0.662559449672699, 0.6618582606315613, 0.6618582606315613, 0.6608211398124695, 0.660679280757904, 0.6563876271247864, 0.656282901763916, 0.656282901763916, 0.6543400287628174, 0.799022912979126, 0.799022912979126, 0.7755902409553528, 0.7660152912139893, 0.762860119342804, 0.7532408833503723, 0.7467408776283264, 0.7439699172973633, 0.7367278337478638, 0.7300974130630493, 0.7296762466430664, 0.728786051273346, 0.7279585599899292, 0.7264489531517029, 0.7264489531517029, 0.7258599996566772, 0.725818932056427, 0.7254036068916321, 0.7180910110473633, 0.7180910110473633, 0.7180910110473633, 0.7178218960762024, 0.7170800566673279, 0.7152419090270996, 0.7152419090270996, 0.715133786201477, 0.715085506439209, 0.715085506439209, 0.714553952217102, 0.7139782309532166, 0.7120869755744934, 0.7103008031845093, 0.7102111577987671, 0.7102111577987671, 0.7073055505752563, 0.7073055505752563, 0.7071509957313538, 0.7071509957313538, 0.7017709016799927, 0.6980640292167664, 0.6980640292167664, 0.9999999403953552, 0.9999999403953552, 0.9999999403953552, 0.9999999403953552, 0.9999999403953552, 0.9999999403953552, 0.9999999403953552, 0.9999999403953552, 0.9999999403953552, 0.9999999403953552, 0.9999999403953552, 0.9999999403953552, 0.9999999403953552, 0.9999999403953552, 0.9999999403953552, 0.9999999403953552, 0.9999999403953552, 0.9999999403953552, 0.9999999403953552, 0.9999999403953552, 0.9999999403953552, 0.9999999403953552, 0.9512733221054077, 0.9404303431510925, 0.9404303431510925, 0.8812332153320312, 0.8623879551887512, 0.8623325228691101, 0.8306447267532349, 0.8223254680633545, 0.8166744112968445, 0.8151161670684814, 0.7959809899330139, 0.7637361288070679, 0.7619599103927612, 0.7398620247840881, 0.726969301700592, 0.7241464257240295, 0.7239153981208801, 0.7231867909431458, 0.7179204821586609, 0.8328450322151184, 0.8190728425979614, 0.8190728425979614, 0.8024859428405762, 0.799758791923523, 0.7866062521934509, 0.7866062521934509, 0.7866062521934509, 0.7837437391281128, 0.7821452021598816, 0.7801092267036438, 0.7766422033309937, 0.7752707004547119, 0.7716973423957825, 0.7711818218231201, 0.7704293727874756, 0.7701342105865479, 0.7699012160301208, 0.7688723206520081, 0.7662515044212341, 0.7646574378013611, 0.7640455961227417, 0.7630952000617981, 0.7611472010612488, 0.7611472010612488, 0.7585866451263428, 0.755354642868042, 0.7540009617805481, 0.7537355422973633, 0.7537355422973633, 0.7526035308837891, 0.7517873644828796, 0.7517873644828796, 0.75155109167099, 0.7512661218643188, 0.7479263544082642, 0.7478209733963013, 0.7478209733963013, 0.7435299158096313, 0.7374464273452759, 0.7374464273452759, 0.7642410397529602, 0.7384548187255859, 0.7384548187255859, 0.7209249138832092, 0.7209249138832092, 0.7170248031616211, 0.7114786505699158, 0.7082483768463135, 0.7060030102729797, 0.7054234147071838, 0.7054234147071838, 0.7054035067558289, 0.6972337365150452, 0.6972337365150452, 0.6972337365150452, 0.6961479783058167, 0.692636251449585, 0.6901784539222717, 0.6875267028808594, 0.6825894117355347, 0.6817271113395691, 0.6763753294944763, 0.6746799945831299, 0.6732643246650696, 0.6730661392211914, 0.6719012260437012, 0.6719012260437012, 0.670775830745697, 0.670350193977356, 0.6689490675926208, 0.6653862595558167, 0.6633821725845337, 0.662559449672699, 0.6618582606315613, 0.6618582606315613, 0.6608211398124695, 0.660679280757904, 0.6563876271247864, 0.656282901763916, 0.656282901763916, 0.6543400287628174, 0.799022912979126, 0.799022912979126, 0.7755902409553528, 0.7660152912139893, 0.762860119342804, 0.7532408833503723, 0.7467408776283264, 0.7439699172973633, 0.7367278337478638, 0.7300974130630493, 0.7296762466430664, 0.728786051273346, 0.7279585599899292, 0.7264489531517029, 0.7264489531517029, 0.7258599996566772, 0.725818932056427, 0.7254036068916321, 0.7180910110473633, 0.7180910110473633, 0.7180910110473633, 0.7178218960762024, 0.7170800566673279, 0.7152419090270996, 0.7152419090270996, 0.715133786201477, 0.715085506439209, 0.715085506439209, 0.714553952217102, 0.7139782309532166, 0.7120869755744934, 0.7103008031845093, 0.7102111577987671, 0.7102111577987671, 0.7073055505752563, 0.7073055505752563, 0.7071509957313538, 0.7071509957313538, 0.7017709016799927, 0.6980640292167664, 0.6980640292167664, 0.9999999403953552, 0.9999999403953552, 0.9999999403953552, 0.9999999403953552, 0.9999999403953552, 0.9999999403953552, 0.9999999403953552, 0.9999999403953552, 0.9999999403953552, 0.9999999403953552, 0.9999999403953552, 0.9999999403953552, 0.9999999403953552, 0.9999999403953552, 0.9999999403953552, 0.9999999403953552, 0.9999999403953552, 0.9999999403953552, 0.9999999403953552, 0.9999999403953552, 0.9999999403953552, 0.9999999403953552, 0.9512733221054077, 0.9404303431510925, 0.9404303431510925, 0.8812332153320312, 0.8623879551887512, 0.8623325228691101, 0.8306447267532349, 0.8223254680633545, 0.8166744112968445, 0.8151161670684814, 0.7959809899330139, 0.7637361288070679, 0.7619599103927612, 0.7398620247840881, 0.726969301700592, 0.7241464257240295, 0.7239153981208801, 0.7231867909431458, 0.7179204821586609, 0.8328450322151184, 0.8190728425979614, 0.8190728425979614, 0.8024859428405762, 0.799758791923523, 0.7866062521934509, 0.7866062521934509, 0.7866062521934509, 0.7837437391281128, 0.7821452021598816, 0.7801092267036438, 0.7766422033309937, 0.7752707004547119, 0.7716973423957825, 0.7711818218231201, 0.7704293727874756, 0.7701342105865479, 0.7699012160301208, 0.7688723206520081, 0.7662515044212341, 0.7646574378013611, 0.7640455961227417, 0.7630952000617981, 0.7611472010612488, 0.7611472010612488, 0.7585866451263428, 0.755354642868042, 0.7540009617805481, 0.7537355422973633, 0.7537355422973633, 0.7526035308837891, 0.7517873644828796, 0.7517873644828796, 0.75155109167099, 0.7512661218643188, 0.7479263544082642, 0.7478209733963013, 0.7478209733963013, 0.7435299158096313, 0.7374464273452759, 0.7374464273452759, 0.8639501333236694, 0.7936762571334839, 0.7760970592498779, 0.7633634209632874, 0.7618811726570129, 0.7387368679046631, 0.737423837184906, 0.72620689868927, 0.7259259819984436, 0.7259259819984436, 0.7253169417381287, 0.7244375944137573, 0.7179827690124512, 0.7130187153816223, 0.7126756906509399, 0.7120833992958069, 0.7098894119262695, 0.7066681385040283, 0.705625593662262, 0.704307496547699, 0.704307496547699, 0.7028928399085999, 0.702685534954071, 0.7017055749893188, 0.7003570199012756, 0.6996912360191345, 0.6993283033370972, 0.6945657730102539, 0.6935303211212158, 0.690847635269165, 0.690847635269165, 0.6907797455787659, 0.6901605129241943, 0.6886993050575256, 0.6885247826576233, 0.6885247826576233, 0.6876341104507446, 0.6868596076965332, 0.6853528618812561, 0.6849219799041748, 0.6833235621452332, 0.7982654571533203, 0.7621049284934998, 0.7490528225898743, 0.7294179797172546, 0.7270512580871582, 0.7270512580871582, 0.7139624357223511, 0.7121508121490479, 0.710014820098877, 0.7091595530509949, 0.6968587040901184, 0.696365475654602, 0.695773184299469, 0.695773184299469, 0.692057192325592, 0.6760959625244141, 0.6747944355010986, 0.672254741191864, 0.6706077456474304, 0.6691862344741821, 0.6668672561645508, 0.6657023429870605, 0.6645234227180481, 0.6628475785255432, 0.6609594225883484, 0.6609594225883484, 0.6574047207832336, 0.6533612012863159, 0.6520146727561951, 0.6486878991127014, 0.6481392979621887, 0.6457449793815613, 0.6454484462738037, 0.6454484462738037, 0.6403443217277527, 0.6401366591453552, 0.6395397782325745, 0.6393105983734131, 0.6393105983734131, 0.6389822959899902, 0.6356921195983887, 0.6513403058052063, 0.650147557258606, 0.6425371766090393, 0.6425371766090393, 0.6119343638420105, 0.6066731810569763, 0.6040569543838501, 0.6018959283828735, 0.598539412021637, 0.598539412021637, 0.598539412021637, 0.5975666642189026, 0.5968897342681885, 0.594795823097229, 0.5925382375717163, 0.5846520662307739, 0.5846520662307739, 0.583835244178772, 0.583325207233429, 0.5832067131996155, 0.5832067131996155, 0.5832067131996155, 0.5786815881729126, 0.5782759189605713, 0.5780806541442871, 0.5774646401405334, 0.5768350958824158, 0.5762444138526917, 0.5762444138526917, 0.5754885673522949, 0.5754446387290955, 0.5754446387290955, 0.5752160549163818, 0.5735800862312317, 0.5726525187492371, 0.572445273399353, 0.5724398493766785, 0.5721139311790466, 0.5717489719390869, 0.5717489719390869, 0.5717489719390869, 0.8374797105789185, 0.8178086876869202, 0.813569962978363, 0.804196298122406, 0.7935382723808289, 0.7869642972946167, 0.7869642972946167, 0.782394289970398, 0.7799291014671326, 0.7769308686256409, 0.7765284180641174, 0.7705651521682739, 0.7705651521682739, 0.7672754526138306, 0.7594924569129944, 0.7586997747421265, 0.7469451427459717, 0.7444075345993042, 0.7439854741096497, 0.7431439757347107, 0.742952823638916, 0.7413583397865295, 0.7397115230560303, 0.7394376397132874, 0.7390738129615784, 0.736218273639679, 0.736218273639679, 0.7348536252975464, 0.7312024235725403, 0.7312024235725403, 0.7281262278556824, 0.7246882319450378, 0.724227786064148, 0.7231242656707764, 0.7205563187599182, 0.7185754179954529, 0.7172614932060242, 0.7163318395614624, 0.7132580876350403, 0.7132580876350403, 0.7118622660636902, 0.6961078643798828, 0.6961078643798828, 0.6961078643798828, 0.6426877379417419, 0.6290602087974548, 0.6152550578117371, 0.6004504561424255, 0.6004504561424255, 0.6004504561424255, 0.5883934497833252, 0.5135430097579956, 0.5135430097579956, 0.5053184032440186, 0.4331175684928894, 0.4331175684928894, 0.3787831962108612, 0.3746742904186249, 0.3746742904186249, 0.3452259600162506, 0.3402942717075348, 0.33160120248794556, 0.31923753023147583, 0.316480427980423, 0.316480427980423, 0.30209606885910034, 0.30209606885910034, 0.29853543639183044, 0.2965203523635864, 0.2939148545265198, 0.28532594442367554, 0.28162041306495667, 0.28162041306495667, 0.2803134024143219, 0.2790227234363556, 0.2790227234363556, 0.2784397304058075, 0.2753779888153076, 0.27394944429397583, 0.2689351737499237, 0.266410768032074, 0.26562952995300293, 0.6961078643798828, 0.6961078643798828, 0.6961078643798828, 0.6426877379417419, 0.6290602087974548, 0.6152550578117371, 0.6004504561424255, 0.6004504561424255, 0.6004504561424255, 0.5883934497833252, 0.5135430097579956, 0.5135430097579956, 0.5053184032440186, 0.4331175684928894, 0.4331175684928894, 0.3787831962108612, 0.3746742904186249, 0.3746742904186249, 0.3452259600162506, 0.3402942717075348, 0.33160120248794556, 0.31923753023147583, 0.316480427980423, 0.316480427980423, 0.30209606885910034, 0.30209606885910034, 0.29853543639183044, 0.2965203523635864, 0.2939148545265198, 0.28532594442367554, 0.28162041306495667, 0.28162041306495667, 0.2803134024143219, 0.2790227234363556, 0.2790227234363556, 0.2784397304058075, 0.2753779888153076, 0.27394944429397583, 0.2689351737499237, 0.266410768032074, 0.26562952995300293, 0.628694474697113, 0.6176706552505493, 0.5737594962120056, 0.5737594962120056, 0.44116976857185364, 0.4172404408454895, 0.4148271679878235, 0.40483155846595764, 0.3952203392982483, 0.3863987326622009, 0.3863987326622009, 0.37926506996154785, 0.36777225136756897, 0.34495261311531067, 0.34495261311531067, 0.34269481897354126, 0.34162378311157227, 0.34162378311157227, 0.3265344500541687, 0.32508584856987, 0.31891489028930664, 0.31891489028930664, 0.31891489028930664, 0.31883254647254944, 0.3185744285583496, 0.30775341391563416, 0.30775341391563416, 0.30726125836372375, 0.30726125836372375, 0.3036326467990875, 0.30258235335350037, 0.30245569348335266, 0.3023393452167511, 0.30207929015159607, 0.30207929015159607, 0.30163565278053284, 0.29923367500305176, 0.29618293046951294, 0.293651282787323, 0.2884608209133148, 0.2860833704471588, 0.6786814332008362, 0.6786814332008362, 0.6786814332008362, 0.6566761136054993, 0.6469400525093079, 0.6328466534614563, 0.6272683143615723, 0.6135113835334778, 0.5881096720695496, 0.5537749528884888, 0.5515848398208618, 0.5444878935813904, 0.5116864442825317, 0.5116864442825317, 0.5116864442825317, 0.4900982975959778, 0.4900982975959778, 0.4854365289211273, 0.4854365289211273, 0.4790748357772827, 0.47193118929862976, 0.4648728370666504, 0.46487027406692505, 0.46443161368370056, 0.46343347430229187, 0.46207207441329956, 0.4563499987125397, 0.4518454670906067, 0.4514560401439667, 0.4404395818710327, 0.4404395818710327, 0.4404395818710327, 0.43459799885749817, 0.4311234951019287, 0.4293082654476166, 0.42455029487609863, 0.42406630516052246, 0.41966986656188965, 0.4170769155025482, 0.4157300889492035, 0.4030263423919678, 0.8417060971260071, 0.8211661577224731, 0.7930261492729187, 0.7682067155838013, 0.7642344832420349, 0.7607300877571106, 0.7583582997322083, 0.7501155138015747, 0.7461472749710083, 0.7379903197288513, 0.7372124791145325, 0.7342604398727417, 0.7342604398727417, 0.7321900725364685, 0.7297481894493103, 0.7267899513244629, 0.7235220670700073, 0.7120465636253357, 0.7120465636253357, 0.7087599635124207, 0.7056770324707031, 0.7056770324707031, 0.7050827741622925, 0.7030289173126221, 0.7017819285392761, 0.6988863945007324, 0.6988863945007324, 0.6962603330612183, 0.6962603330612183, 0.6962603330612183, 0.6962603330612183, 0.6961797475814819, 0.6934850811958313, 0.6910114288330078, 0.6898654699325562, 0.6891376376152039, 0.6850486993789673, 0.6825697422027588, 0.6798495054244995, 0.6798495054244995, 0.6798168420791626, 0.9588953256607056, 0.910340428352356, 0.9070829153060913, 0.8765167593955994, 0.8765167593955994, 0.8623272180557251, 0.8510552048683167, 0.8510552048683167, 0.847999632358551, 0.8452800512313843, 0.837011456489563, 0.8199721574783325, 0.8187275528907776, 0.8117901682853699, 0.8117901682853699, 0.8093563318252563, 0.8056579232215881, 0.8039922118186951, 0.8032348155975342, 0.7912001609802246, 0.7824305891990662, 0.7824305891990662, 0.7824305891990662, 0.7810149788856506, 0.774063229560852, 0.774063229560852, 0.773610532283783, 0.7727807760238647, 0.7725344300270081, 0.7690829038619995, 0.7685891389846802, 0.7676727771759033, 0.7675161361694336, 0.7675161361694336, 0.7654342651367188, 0.7644264698028564, 0.7610582113265991, 0.7591384649276733, 0.7574127912521362, 0.7568724751472473, 0.7517766952514648, 0.9484803080558777, 0.9183332324028015, 0.9165793061256409, 0.9053264260292053, 0.9046710133552551, 0.8914468288421631, 0.8819174766540527, 0.8811038136482239, 0.8811038136482239, 0.8724362254142761, 0.867272138595581, 0.867272138595581, 0.8667348027229309, 0.8587910532951355, 0.8490224480628967, 0.8477238416671753, 0.8468853831291199, 0.8427414298057556, 0.8392367362976074, 0.834600031375885, 0.834600031375885, 0.833901047706604, 0.8336705565452576, 0.8336705565452576, 0.8300696611404419, 0.8297163248062134, 0.8292471766471863, 0.8292471766471863, 0.8291041851043701, 0.8267697095870972, 0.8267697095870972, 0.8264164328575134, 0.8239991068840027, 0.8222756385803223, 0.8219027519226074, 0.8209030032157898, 0.820084273815155, 0.8190536499023438, 0.8188248872756958, 0.818186342716217, 0.8174542784690857, 0.9999999403953552, 0.9999999403953552, 0.9999999403953552, 0.9999999403953552, 0.9999999403953552, 0.9999999403953552, 0.9999999403953552, 0.9999999403953552, 0.9999999403953552, 0.9999999403953552, 0.9999999403953552, 0.9999999403953552, 0.9999999403953552, 0.9999999403953552, 0.9999999403953552, 0.9999999403953552, 0.9999999403953552, 0.9999999403953552, 0.9999999403953552, 0.9999999403953552, 0.9999999403953552, 0.9999999403953552, 0.9999999403953552, 0.9512733221054077, 0.9404303431510925, 0.9404303431510925, 0.8812332153320312, 0.8623879551887512, 0.8623325228691101, 0.8306447267532349, 0.8223254680633545, 0.8166744112968445, 0.8151161670684814, 0.7959809899330139, 0.7637361288070679, 0.7619599103927612, 0.7398620247840881, 0.726969301700592, 0.7241464257240295, 0.7239153981208801, 0.7231867909431458, 0.9588953256607056, 0.910340428352356, 0.9070829153060913, 0.8765167593955994, 0.8765167593955994, 0.8623272180557251, 0.8510552048683167, 0.8510552048683167, 0.847999632358551, 0.8452800512313843, 0.837011456489563, 0.8199721574783325, 0.8187275528907776, 0.8117901682853699, 0.8117901682853699, 0.8093563318252563, 0.8056579232215881, 0.8039922118186951, 0.8032348155975342, 0.7912001609802246, 0.7824305891990662, 0.7824305891990662, 0.7824305891990662, 0.7810149788856506, 0.774063229560852, 0.774063229560852, 0.773610532283783, 0.7727807760238647, 0.7725344300270081, 0.7690829038619995, 0.7685891389846802, 0.7676727771759033, 0.7675161361694336, 0.7675161361694336, 0.7654342651367188, 0.7644264698028564, 0.7610582113265991, 0.7591384649276733, 0.7574127912521362, 0.7568724751472473, 0.7517766952514648, 0.7075733542442322, 0.678152859210968, 0.6691402196884155, 0.6651491522789001, 0.6507620215415955, 0.638713002204895, 0.6364307999610901, 0.6285264492034912, 0.6257907748222351, 0.6228736639022827, 0.6204638481140137, 0.6177899241447449, 0.6156310439109802, 0.6083607077598572, 0.6039465069770813, 0.6036567687988281, 0.6008558869361877, 0.5947861075401306, 0.5947861075401306, 0.5919822454452515, 0.5917143225669861, 0.5904706716537476, 0.5903587341308594, 0.5859322547912598, 0.5850682258605957, 0.5850682258605957, 0.5850682258605957, 0.5822035670280457, 0.5812378525733948, 0.5796303749084473, 0.5781204104423523, 0.5780807137489319, 0.5744475722312927, 0.5736373662948608, 0.5732437372207642, 0.5717780590057373, 0.5705652832984924, 0.5687977075576782, 0.567901611328125, 0.5678974986076355, 0.5668330192565918, 0.6481336355209351, 0.5670059323310852, 0.5497806668281555, 0.546557605266571, 0.53593909740448, 0.5282260775566101, 0.5282260775566101, 0.5166849493980408, 0.5108165144920349, 0.5108165144920349, 0.4943700432777405, 0.49421048164367676, 0.4885088801383972, 0.4860910475254059, 0.48028460144996643, 0.4772290587425232, 0.4669134318828583, 0.4573180377483368, 0.4521796703338623, 0.4521796703338623, 0.4473207890987396, 0.4404674470424652, 0.44045335054397583, 0.44026345014572144, 0.43988752365112305, 0.43898671865463257, 0.43251103162765503, 0.4280485212802887, 0.4211128354072571, 0.4195070266723633, 0.4195070266723633, 0.41924792528152466, 0.41753992438316345, 0.4160502552986145, 0.41552260518074036, 0.412383109331131, 0.4120662212371826, 0.41153591871261597, 0.4115106165409088, 0.4115106165409088, 0.4115106165409088, 0.8682148456573486, 0.8218926191329956, 0.816321611404419, 0.8148276805877686, 0.8148276805877686, 0.8130927681922913, 0.7907666563987732, 0.7852774858474731, 0.7852774858474731, 0.7752036452293396, 0.7734281420707703, 0.7700182795524597, 0.7654140591621399, 0.7634949088096619, 0.7634949088096619, 0.7628787755966187, 0.7612415552139282, 0.7580794095993042, 0.7559147477149963, 0.7543771266937256, 0.7539456486701965, 0.7510828971862793, 0.7482903599739075, 0.7482903599739075, 0.7463775873184204, 0.7463775873184204, 0.7452414631843567, 0.7449362874031067, 0.7423140406608582, 0.7388078570365906, 0.7385836839675903, 0.7385836839675903, 0.7372573614120483, 0.7372573614120483, 0.7372573614120483, 0.7368285059928894, 0.7348619103431702, 0.7311996221542358, 0.7303208708763123, 0.7274506688117981, 0.7274386882781982, 0.6785666942596436, 0.6756453514099121, 0.6756453514099121, 0.645539402961731, 0.6432850360870361, 0.6356622576713562, 0.6241888999938965, 0.6188920140266418, 0.6176463961601257, 0.6138249039649963, 0.6097927689552307, 0.6094474792480469, 0.609155535697937, 0.6078706979751587, 0.5969733595848083, 0.5903406143188477, 0.5893521308898926, 0.5890759825706482, 0.5828648209571838, 0.5822446942329407, 0.57869952917099, 0.57869952917099, 0.5765592455863953, 0.5763607621192932, 0.5722682476043701, 0.5700865387916565, 0.5668841600418091, 0.5661359429359436, 0.5595718622207642, 0.5568149089813232, 0.5559974908828735, 0.5555106997489929, 0.5555106997489929, 0.5548005104064941, 0.5530462265014648, 0.5526857376098633, 0.5515628457069397, 0.5509165525436401, 0.5503718256950378, 0.5503548383712769, 0.5488843321800232, 0.5929839015007019, 0.5751526355743408, 0.5751526355743408, 0.5687807202339172, 0.5529990196228027, 0.5529990196228027, 0.5363284349441528, 0.5289137363433838, 0.5116272568702698, 0.5056076049804688, 0.4959636926651001, 0.4942362606525421, 0.4942362606525421, 0.47457706928253174, 0.4688231348991394, 0.4612094759941101, 0.4612094759941101, 0.4593636095523834, 0.456251859664917, 0.4555199146270752, 0.4548149108886719, 0.4520278573036194, 0.4505695104598999, 0.4505695104598999, 0.4505695104598999, 0.4505695104598999, 0.4494662284851074, 0.44944170117378235, 0.4494374990463257, 0.44594019651412964, 0.445354700088501, 0.44426703453063965, 0.4388493299484253, 0.4386637508869171, 0.43738165497779846, 0.435971200466156, 0.4358835816383362, 0.43418917059898376, 0.43382614850997925, 0.4312627911567688, 0.4289247989654541, 0.7588058710098267, 0.7099469900131226, 0.6950391530990601, 0.6787376999855042, 0.6752319931983948, 0.6492035388946533, 0.6429999470710754, 0.6409481763839722, 0.63444584608078, 0.6337288022041321, 0.629965603351593, 0.6288565397262573, 0.6142067909240723, 0.6111185550689697, 0.6092607378959656, 0.6091486215591431, 0.6053540110588074, 0.6051477193832397, 0.6046534776687622, 0.6038210391998291, 0.5944682359695435, 0.5912590622901917, 0.5912590622901917, 0.5909396409988403, 0.5909396409988403, 0.5904289484024048, 0.5900235176086426, 0.5792939066886902, 0.5766810178756714, 0.5734001398086548, 0.5719603896141052, 0.5680922865867615, 0.567837119102478, 0.567837119102478, 0.567837119102478, 0.5669094920158386, 0.5586693286895752, 0.5572656989097595, 0.556731104850769, 0.556731104850769, 0.5559598207473755, 0.6550743579864502, 0.6141737699508667, 0.6040440797805786, 0.6000431180000305, 0.5950824022293091, 0.5913704633712769, 0.590724766254425, 0.5905131101608276, 0.5898440480232239, 0.5874895453453064, 0.5874895453453064, 0.5827640891075134, 0.5737640261650085, 0.5737349987030029, 0.572609543800354, 0.5696092844009399, 0.568615734577179, 0.5681528449058533, 0.5681067705154419, 0.5667792558670044, 0.5648786425590515, 0.5648590922355652, 0.5638572573661804, 0.5591481328010559, 0.55912184715271, 0.5513359308242798, 0.5510374903678894, 0.5510374903678894, 0.5475860238075256, 0.545459508895874, 0.5453489422798157, 0.5442085862159729, 0.5442085862159729, 0.538433313369751, 0.5376467704772949, 0.535788357257843, 0.5353013277053833, 0.5339014530181885, 0.5335142612457275, 0.5302603244781494, 0.5284497737884521, 0.6461418867111206, 0.6405254006385803, 0.6320608854293823, 0.6279779672622681, 0.6249644160270691, 0.6243168711662292, 0.6234347820281982, 0.6208818554878235, 0.6208818554878235, 0.6169214248657227, 0.6067119836807251, 0.6062378883361816, 0.6046106219291687, 0.6033787727355957, 0.5992717742919922, 0.5978136658668518, 0.5974124073982239, 0.5966405272483826, 0.5926439762115479, 0.5906510353088379, 0.5891614556312561, 0.5813506841659546, 0.5813506841659546, 0.5762642621994019, 0.5762642621994019, 0.5744324326515198, 0.5738998055458069, 0.5725756287574768, 0.5668419599533081, 0.5647544860839844, 0.5644379258155823, 0.5642354488372803, 0.5587382316589355, 0.5583323240280151, 0.558238685131073, 0.5580132603645325, 0.5509001612663269, 0.5460167527198792, 0.5454033613204956, 0.5437034964561462, 0.5421836972236633, 0.8003202676773071, 0.7176272869110107, 0.6733667254447937, 0.6140769720077515, 0.6033751368522644, 0.5474428534507751, 0.5200138688087463, 0.4914962649345398, 0.4769762456417084, 0.46440038084983826, 0.44755157828330994, 0.44755157828330994, 0.4277864098548889, 0.4277864098548889, 0.4224023222923279, 0.4129146635532379, 0.3942076861858368, 0.3935147225856781, 0.3836107552051544, 0.37952521443367004, 0.3758450746536255, 0.36450567841529846, 0.3500528335571289, 0.3462541401386261, 0.33170583844184875, 0.33084550499916077, 0.32836973667144775, 0.32542774081230164, 0.3245840072631836, 0.32129114866256714, 0.32129114866256714, 0.32129114866256714, 0.30888840556144714, 0.3082038462162018, 0.29143616557121277, 0.289944052696228, 0.28360047936439514, 0.2816093862056732, 0.2756611704826355, 0.2753014862537384, 0.27263933420181274, 0.6550743579864502, 0.6141737699508667, 0.6040440797805786, 0.6000431180000305, 0.5950824022293091, 0.5913704633712769, 0.590724766254425, 0.5905131101608276, 0.5898440480232239, 0.5874895453453064, 0.5874895453453064, 0.5827640891075134, 0.5737640261650085, 0.5737349987030029, 0.572609543800354, 0.5696092844009399, 0.568615734577179, 0.5681528449058533, 0.5681067705154419, 0.5667792558670044, 0.5648786425590515, 0.5648590922355652, 0.5638572573661804, 0.5591481328010559, 0.55912184715271, 0.5513359308242798, 0.5510374903678894, 0.5510374903678894, 0.5475860238075256, 0.545459508895874, 0.5453489422798157, 0.5442085862159729, 0.5442085862159729, 0.538433313369751, 0.5376467704772949, 0.535788357257843, 0.5353013277053833, 0.5339014530181885, 0.5335142612457275, 0.5302603244781494, 0.5284497737884521, 0.959543764591217, 0.959543764591217, 0.9586605429649353, 0.9413744807243347, 0.9413552284240723, 0.9353964328765869, 0.9353964328765869, 0.9327500462532043, 0.9324594736099243, 0.9324594736099243, 0.928279459476471, 0.9238533973693848, 0.9159147143363953, 0.9159147143363953, 0.9149547815322876, 0.912160336971283, 0.9092878103256226, 0.8998984098434448, 0.8998467326164246, 0.8985008597373962, 0.8980058431625366, 0.8980058431625366, 0.8980058431625366, 0.8969953656196594, 0.8969953656196594, 0.8969953656196594, 0.895759105682373, 0.895759105682373, 0.895759105682373, 0.8955777287483215, 0.8955777287483215, 0.8903580904006958, 0.8876113295555115, 0.8869480490684509, 0.8866867423057556, 0.8866867423057556, 0.8866867423057556, 0.8844923377037048, 0.8828724026679993, 0.8812739253044128, 0.8754796385765076, 0.959543764591217, 0.959543764591217, 0.9586605429649353, 0.9413744807243347, 0.9413552284240723, 0.9353964328765869, 0.9353964328765869, 0.9327500462532043, 0.9324594736099243, 0.9324594736099243, 0.928279459476471, 0.9238533973693848, 0.9159147143363953, 0.9159147143363953, 0.9149547815322876, 0.912160336971283, 0.9092878103256226, 0.8998984098434448, 0.8998467326164246, 0.8985008597373962, 0.8980058431625366, 0.8980058431625366, 0.8980058431625366, 0.8969953656196594, 0.8969953656196594, 0.8969953656196594, 0.895759105682373, 0.895759105682373, 0.895759105682373, 0.8955777287483215, 0.8955777287483215, 0.8903580904006958, 0.8876113295555115, 0.8869480490684509, 0.8866867423057556, 0.8866867423057556, 0.8866867423057556, 0.8844923377037048, 0.8828724026679993, 0.8812739253044128, 0.8754796385765076, 0.8417454957962036, 0.6367091536521912, 0.6367091536521912, 0.5610988140106201, 0.5610988140106201, 0.5436694025993347, 0.5436694025993347, 0.5239958763122559, 0.5239958763122559, 0.5170513391494751, 0.4962674081325531, 0.494331955909729, 0.4856278598308563, 0.4856278598308563, 0.48186179995536804, 0.48186179995536804, 0.46250203251838684, 0.4577453136444092, 0.4566444158554077, 0.44421514868736267, 0.43985459208488464, 0.4392971098423004, 0.43261417746543884, 0.43261417746543884, 0.4310191869735718, 0.4280048608779907, 0.42755722999572754, 0.42755722999572754, 0.4272930324077606, 0.4255635738372803, 0.4228341281414032, 0.41998112201690674, 0.41828712821006775, 0.40762853622436523, 0.40502339601516724, 0.4027348458766937, 0.39962872862815857, 0.39863261580467224, 0.3941556215286255, 0.39248624444007874, 0.38986149430274963, 0.959543764591217, 0.959543764591217, 0.9586605429649353, 0.9413744807243347, 0.9413552284240723, 0.9353964328765869, 0.9353964328765869, 0.9327500462532043, 0.9324594736099243, 0.9324594736099243, 0.928279459476471, 0.9238533973693848, 0.9159147143363953, 0.9159147143363953, 0.9149547815322876, 0.912160336971283, 0.9092878103256226, 0.8998984098434448, 0.8998467326164246, 0.8985008597373962, 0.8980058431625366, 0.8980058431625366, 0.8980058431625366, 0.8969953656196594, 0.8969953656196594, 0.8969953656196594, 0.895759105682373, 0.895759105682373, 0.895759105682373, 0.8955777287483215, 0.8955777287483215, 0.8903580904006958, 0.8876113295555115, 0.8869480490684509, 0.8866867423057556, 0.8866867423057556, 0.8866867423057556, 0.8844923377037048, 0.8828724026679993, 0.8812739253044128, 0.8754796385765076, 0.8685101866722107, 0.8407031893730164, 0.8358639478683472, 0.8345557451248169, 0.8254255652427673, 0.8235692381858826, 0.8203575611114502, 0.8194764852523804, 0.8194764852523804, 0.8179354667663574, 0.8144755363464355, 0.8138093948364258, 0.8137762546539307, 0.8074068427085876, 0.8072988390922546, 0.8072988390922546, 0.8057903051376343, 0.8057903051376343, 0.8036197423934937, 0.802470326423645, 0.7992666363716125, 0.7980499863624573, 0.7973635792732239, 0.7973635792732239, 0.7966338992118835, 0.7959343791007996, 0.7947565913200378, 0.7947565913200378, 0.7941240072250366, 0.7939296364784241, 0.792751669883728, 0.7874242067337036, 0.7874242067337036, 0.7871220111846924, 0.7830289602279663, 0.7811042666435242, 0.7782922983169556, 0.7782922983169556, 0.7780106663703918, 0.7729111909866333, 0.7729111909866333, 0.8434796929359436, 0.8171644806861877, 0.8166061639785767, 0.8073468804359436, 0.805950939655304, 0.7982713580131531, 0.7972086668014526, 0.7958894968032837, 0.7958894968032837, 0.7926138043403625, 0.7926138043403625, 0.7872976064682007, 0.7872976064682007, 0.7872976064682007, 0.7859895825386047, 0.7840891480445862, 0.782038688659668, 0.7820175290107727, 0.7812821269035339, 0.7812225222587585, 0.7799438238143921, 0.7787723541259766, 0.7786208391189575, 0.7786208391189575, 0.773977518081665, 0.7728675007820129, 0.7717376351356506, 0.7704759836196899, 0.7704759836196899, 0.767551839351654, 0.7659965753555298, 0.7644403576850891, 0.7620591521263123, 0.7620591521263123, 0.7616506218910217, 0.7611218690872192, 0.7589966058731079, 0.7584331631660461, 0.7535711526870728, 0.7535711526870728, 0.753139078617096, 0.8551887273788452, 0.7042466402053833, 0.7042466402053833, 0.6938351988792419, 0.6605016589164734, 0.6553808450698853, 0.6337603330612183, 0.6026579141616821, 0.5773931741714478, 0.5738238096237183, 0.5612878799438477, 0.5579989552497864, 0.5577850937843323, 0.5567774176597595, 0.5551047325134277, 0.5541529655456543, 0.5531317591667175, 0.5511525273323059, 0.5501678586006165, 0.5486919283866882, 0.5436481833457947, 0.5396618247032166, 0.5348358154296875, 0.5317110419273376, 0.5202842354774475, 0.5183687806129456, 0.5128714442253113, 0.5127233862876892, 0.5083269476890564, 0.5071770548820496, 0.49917566776275635, 0.48781150579452515, 0.48739030957221985, 0.48702263832092285, 0.4866161346435547, 0.4848514795303345, 0.4835476875305176, 0.4800671339035034, 0.479523241519928, 0.4774003028869629, 0.47464829683303833, 0.8794566988945007, 0.8622233867645264, 0.8622233867645264, 0.8587077856063843, 0.8577632904052734, 0.8563917279243469, 0.8521241545677185, 0.8511825203895569, 0.8428682088851929, 0.8428682088851929, 0.838344156742096, 0.8359755873680115, 0.8326708674430847, 0.8325304388999939, 0.8325304388999939, 0.8306621313095093, 0.8257691264152527, 0.8244673013687134, 0.82428377866745, 0.8190754055976868, 0.8189100027084351, 0.8182954788208008, 0.8182287216186523, 0.8163702487945557, 0.8156397342681885, 0.8155829906463623, 0.8155315518379211, 0.8148906826972961, 0.8148906826972961, 0.8141136765480042, 0.8138384819030762, 0.8138384819030762, 0.8138384819030762, 0.812535285949707, 0.812535285949707, 0.8107258677482605, 0.8093395829200745, 0.8070164918899536, 0.8059443235397339, 0.8041285872459412, 0.7999528050422668, 0.5688127875328064, 0.5607191920280457, 0.5345620512962341, 0.5064871311187744, 0.5005084276199341, 0.4954616129398346, 0.4749031364917755, 0.4678896367549896, 0.4666624069213867, 0.461847722530365, 0.461847722530365, 0.46082592010498047, 0.46082592010498047, 0.45231741666793823, 0.4502212703227997, 0.4476849436759949, 0.4393238127231598, 0.4391462504863739, 0.4370255768299103, 0.43640708923339844, 0.4347137212753296, 0.426908403635025, 0.4193136990070343, 0.418583482503891, 0.4172957241535187, 0.41721871495246887, 0.41577062010765076, 0.4146547317504883, 0.4140932857990265, 0.4130195081233978, 0.41280290484428406, 0.41253653168678284, 0.4116479158401489, 0.4114735722541809, 0.40659981966018677, 0.40653830766677856, 0.40461012721061707, 0.4041876494884491, 0.4041876494884491, 0.40400955080986023, 0.40149158239364624, 0.574193000793457, 0.574193000793457, 0.5714261531829834, 0.5619052052497864, 0.5619052052497864, 0.5583676695823669, 0.5558465123176575, 0.5459283590316772, 0.5416653156280518, 0.5360533595085144, 0.5353101491928101, 0.5242359638214111, 0.5142422318458557, 0.5119521021842957, 0.5118992924690247, 0.5114643573760986, 0.5079782009124756, 0.5034263730049133, 0.5031459331512451, 0.49998122453689575, 0.4978092312812805, 0.4936639070510864, 0.49136173725128174, 0.4896155297756195, 0.4894416630268097, 0.48620283603668213, 0.48620283603668213, 0.48600316047668457, 0.4775276184082031, 0.47726431488990784, 0.4704972803592682, 0.4704972803592682, 0.4704972803592682, 0.4703601896762848, 0.46665462851524353, 0.46665462851524353, 0.46665462851524353, 0.46495577692985535, 0.4631589651107788, 0.46183595061302185, 0.46127405762672424, 0.8608222007751465, 0.8588330745697021, 0.8508381843566895, 0.7229717969894409, 0.6247956156730652, 0.5851753354072571, 0.5824089050292969, 0.5814464688301086, 0.5752366781234741, 0.5654131174087524, 0.5607508420944214, 0.5525239109992981, 0.5489073991775513, 0.5238684415817261, 0.5238684415817261, 0.5090285539627075, 0.49852803349494934, 0.4972265660762787, 0.49124154448509216, 0.4895654022693634, 0.48868757486343384, 0.48868757486343384, 0.4883315861225128, 0.4760659635066986, 0.4759778082370758, 0.47108420729637146, 0.47108420729637146, 0.4666893184185028, 0.4665497839450836, 0.46096810698509216, 0.46096810698509216, 0.45214173197746277, 0.43908005952835083, 0.43902575969696045, 0.43902575969696045, 0.42659792304039, 0.41485440731048584, 0.41039347648620605, 0.4068676829338074, 0.4049481153488159, 0.4049404561519623, 0.574193000793457, 0.574193000793457, 0.5714261531829834, 0.5619052052497864, 0.5619052052497864, 0.5583676695823669, 0.5558465123176575, 0.5459283590316772, 0.5416653156280518, 0.5360533595085144, 0.5353101491928101, 0.5242359638214111, 0.5142422318458557, 0.5119521021842957, 0.5118992924690247, 0.5114643573760986, 0.5079782009124756, 0.5034263730049133, 0.5031459331512451, 0.49998122453689575, 0.4978092312812805, 0.4936639070510864, 0.49136173725128174, 0.4896155297756195, 0.4894416630268097, 0.48620283603668213, 0.48620283603668213, 0.48600316047668457, 0.4775276184082031, 0.47726431488990784, 0.4704972803592682, 0.4704972803592682, 0.4704972803592682, 0.4703601896762848, 0.46665462851524353, 0.46665462851524353, 0.46665462851524353, 0.46495577692985535, 0.4631589651107788, 0.46183595061302185, 0.46127405762672424], \"xaxis\": \"x\", \"yaxis\": \"y\"}],\n",
              "                        {\"barmode\": \"relative\", \"legend\": {\"tracegroupgap\": 0}, \"template\": {\"data\": {\"bar\": [{\"error_x\": {\"color\": \"#2a3f5f\"}, \"error_y\": {\"color\": \"#2a3f5f\"}, \"marker\": {\"line\": {\"color\": \"#E5ECF6\", \"width\": 0.5}}, \"type\": \"bar\"}], \"barpolar\": [{\"marker\": {\"line\": {\"color\": \"#E5ECF6\", \"width\": 0.5}}, \"type\": \"barpolar\"}], \"carpet\": [{\"aaxis\": {\"endlinecolor\": \"#2a3f5f\", \"gridcolor\": \"white\", \"linecolor\": \"white\", \"minorgridcolor\": \"white\", \"startlinecolor\": \"#2a3f5f\"}, \"baxis\": {\"endlinecolor\": \"#2a3f5f\", \"gridcolor\": \"white\", \"linecolor\": \"white\", \"minorgridcolor\": \"white\", \"startlinecolor\": \"#2a3f5f\"}, \"type\": \"carpet\"}], \"choropleth\": [{\"colorbar\": {\"outlinewidth\": 0, \"ticks\": \"\"}, \"type\": \"choropleth\"}], \"contour\": [{\"colorbar\": {\"outlinewidth\": 0, \"ticks\": \"\"}, \"colorscale\": [[0.0, \"#0d0887\"], [0.1111111111111111, \"#46039f\"], [0.2222222222222222, \"#7201a8\"], [0.3333333333333333, \"#9c179e\"], [0.4444444444444444, \"#bd3786\"], [0.5555555555555556, \"#d8576b\"], [0.6666666666666666, \"#ed7953\"], [0.7777777777777778, \"#fb9f3a\"], [0.8888888888888888, \"#fdca26\"], [1.0, \"#f0f921\"]], \"type\": \"contour\"}], \"contourcarpet\": [{\"colorbar\": {\"outlinewidth\": 0, \"ticks\": \"\"}, \"type\": \"contourcarpet\"}], \"heatmap\": [{\"colorbar\": {\"outlinewidth\": 0, \"ticks\": \"\"}, \"colorscale\": [[0.0, \"#0d0887\"], [0.1111111111111111, \"#46039f\"], [0.2222222222222222, \"#7201a8\"], [0.3333333333333333, \"#9c179e\"], [0.4444444444444444, \"#bd3786\"], [0.5555555555555556, \"#d8576b\"], [0.6666666666666666, \"#ed7953\"], [0.7777777777777778, \"#fb9f3a\"], [0.8888888888888888, \"#fdca26\"], [1.0, \"#f0f921\"]], \"type\": \"heatmap\"}], \"heatmapgl\": [{\"colorbar\": {\"outlinewidth\": 0, \"ticks\": \"\"}, \"colorscale\": [[0.0, \"#0d0887\"], [0.1111111111111111, \"#46039f\"], [0.2222222222222222, \"#7201a8\"], [0.3333333333333333, \"#9c179e\"], [0.4444444444444444, \"#bd3786\"], [0.5555555555555556, \"#d8576b\"], [0.6666666666666666, \"#ed7953\"], [0.7777777777777778, \"#fb9f3a\"], [0.8888888888888888, \"#fdca26\"], [1.0, \"#f0f921\"]], \"type\": \"heatmapgl\"}], \"histogram\": [{\"marker\": {\"colorbar\": {\"outlinewidth\": 0, \"ticks\": \"\"}}, \"type\": \"histogram\"}], \"histogram2d\": [{\"colorbar\": {\"outlinewidth\": 0, \"ticks\": \"\"}, \"colorscale\": [[0.0, \"#0d0887\"], [0.1111111111111111, \"#46039f\"], [0.2222222222222222, \"#7201a8\"], [0.3333333333333333, \"#9c179e\"], [0.4444444444444444, \"#bd3786\"], [0.5555555555555556, \"#d8576b\"], [0.6666666666666666, \"#ed7953\"], [0.7777777777777778, \"#fb9f3a\"], [0.8888888888888888, \"#fdca26\"], [1.0, \"#f0f921\"]], \"type\": \"histogram2d\"}], \"histogram2dcontour\": [{\"colorbar\": {\"outlinewidth\": 0, \"ticks\": \"\"}, \"colorscale\": [[0.0, \"#0d0887\"], [0.1111111111111111, \"#46039f\"], [0.2222222222222222, \"#7201a8\"], [0.3333333333333333, \"#9c179e\"], [0.4444444444444444, \"#bd3786\"], [0.5555555555555556, \"#d8576b\"], [0.6666666666666666, \"#ed7953\"], [0.7777777777777778, \"#fb9f3a\"], [0.8888888888888888, \"#fdca26\"], [1.0, \"#f0f921\"]], \"type\": \"histogram2dcontour\"}], \"mesh3d\": [{\"colorbar\": {\"outlinewidth\": 0, \"ticks\": \"\"}, \"type\": \"mesh3d\"}], \"parcoords\": [{\"line\": {\"colorbar\": {\"outlinewidth\": 0, \"ticks\": \"\"}}, \"type\": \"parcoords\"}], \"pie\": [{\"automargin\": true, \"type\": \"pie\"}], \"scatter\": [{\"marker\": {\"colorbar\": {\"outlinewidth\": 0, \"ticks\": \"\"}}, \"type\": \"scatter\"}], \"scatter3d\": [{\"line\": {\"colorbar\": {\"outlinewidth\": 0, \"ticks\": \"\"}}, \"marker\": {\"colorbar\": {\"outlinewidth\": 0, \"ticks\": \"\"}}, \"type\": \"scatter3d\"}], \"scattercarpet\": [{\"marker\": {\"colorbar\": {\"outlinewidth\": 0, \"ticks\": \"\"}}, \"type\": \"scattercarpet\"}], \"scattergeo\": [{\"marker\": {\"colorbar\": {\"outlinewidth\": 0, \"ticks\": \"\"}}, \"type\": \"scattergeo\"}], \"scattergl\": [{\"marker\": {\"colorbar\": {\"outlinewidth\": 0, \"ticks\": \"\"}}, \"type\": \"scattergl\"}], \"scattermapbox\": [{\"marker\": {\"colorbar\": {\"outlinewidth\": 0, \"ticks\": \"\"}}, \"type\": \"scattermapbox\"}], \"scatterpolar\": [{\"marker\": {\"colorbar\": {\"outlinewidth\": 0, \"ticks\": \"\"}}, \"type\": \"scatterpolar\"}], \"scatterpolargl\": [{\"marker\": {\"colorbar\": {\"outlinewidth\": 0, \"ticks\": \"\"}}, \"type\": \"scatterpolargl\"}], \"scatterternary\": [{\"marker\": {\"colorbar\": {\"outlinewidth\": 0, \"ticks\": \"\"}}, \"type\": \"scatterternary\"}], \"surface\": [{\"colorbar\": {\"outlinewidth\": 0, \"ticks\": \"\"}, \"colorscale\": [[0.0, \"#0d0887\"], [0.1111111111111111, \"#46039f\"], [0.2222222222222222, \"#7201a8\"], [0.3333333333333333, \"#9c179e\"], [0.4444444444444444, \"#bd3786\"], [0.5555555555555556, \"#d8576b\"], [0.6666666666666666, \"#ed7953\"], [0.7777777777777778, \"#fb9f3a\"], [0.8888888888888888, \"#fdca26\"], [1.0, \"#f0f921\"]], \"type\": \"surface\"}], \"table\": [{\"cells\": {\"fill\": {\"color\": \"#EBF0F8\"}, \"line\": {\"color\": \"white\"}}, \"header\": {\"fill\": {\"color\": \"#C8D4E3\"}, \"line\": {\"color\": \"white\"}}, \"type\": \"table\"}]}, \"layout\": {\"annotationdefaults\": {\"arrowcolor\": \"#2a3f5f\", \"arrowhead\": 0, \"arrowwidth\": 1}, \"coloraxis\": {\"colorbar\": {\"outlinewidth\": 0, \"ticks\": \"\"}}, \"colorscale\": {\"diverging\": [[0, \"#8e0152\"], [0.1, \"#c51b7d\"], [0.2, \"#de77ae\"], [0.3, \"#f1b6da\"], [0.4, \"#fde0ef\"], [0.5, \"#f7f7f7\"], [0.6, \"#e6f5d0\"], [0.7, \"#b8e186\"], [0.8, \"#7fbc41\"], [0.9, \"#4d9221\"], [1, \"#276419\"]], \"sequential\": [[0.0, \"#0d0887\"], [0.1111111111111111, \"#46039f\"], [0.2222222222222222, \"#7201a8\"], [0.3333333333333333, \"#9c179e\"], [0.4444444444444444, \"#bd3786\"], [0.5555555555555556, \"#d8576b\"], [0.6666666666666666, \"#ed7953\"], [0.7777777777777778, \"#fb9f3a\"], [0.8888888888888888, \"#fdca26\"], [1.0, \"#f0f921\"]], \"sequentialminus\": [[0.0, \"#0d0887\"], [0.1111111111111111, \"#46039f\"], [0.2222222222222222, \"#7201a8\"], [0.3333333333333333, \"#9c179e\"], [0.4444444444444444, \"#bd3786\"], [0.5555555555555556, \"#d8576b\"], [0.6666666666666666, \"#ed7953\"], [0.7777777777777778, \"#fb9f3a\"], [0.8888888888888888, \"#fdca26\"], [1.0, \"#f0f921\"]]}, \"colorway\": [\"#636efa\", \"#EF553B\", \"#00cc96\", \"#ab63fa\", \"#FFA15A\", \"#19d3f3\", \"#FF6692\", \"#B6E880\", \"#FF97FF\", \"#FECB52\"], \"font\": {\"color\": \"#2a3f5f\"}, \"geo\": {\"bgcolor\": \"white\", \"lakecolor\": \"white\", \"landcolor\": \"#E5ECF6\", \"showlakes\": true, \"showland\": true, \"subunitcolor\": \"white\"}, \"hoverlabel\": {\"align\": \"left\"}, \"hovermode\": \"closest\", \"mapbox\": {\"style\": \"light\"}, \"paper_bgcolor\": \"white\", \"plot_bgcolor\": \"#E5ECF6\", \"polar\": {\"angularaxis\": {\"gridcolor\": \"white\", \"linecolor\": \"white\", \"ticks\": \"\"}, \"bgcolor\": \"#E5ECF6\", \"radialaxis\": {\"gridcolor\": \"white\", \"linecolor\": \"white\", \"ticks\": \"\"}}, \"scene\": {\"xaxis\": {\"backgroundcolor\": \"#E5ECF6\", \"gridcolor\": \"white\", \"gridwidth\": 2, \"linecolor\": \"white\", \"showbackground\": true, \"ticks\": \"\", \"zerolinecolor\": \"white\"}, \"yaxis\": {\"backgroundcolor\": \"#E5ECF6\", \"gridcolor\": \"white\", \"gridwidth\": 2, \"linecolor\": \"white\", \"showbackground\": true, \"ticks\": \"\", \"zerolinecolor\": \"white\"}, \"zaxis\": {\"backgroundcolor\": \"#E5ECF6\", \"gridcolor\": \"white\", \"gridwidth\": 2, \"linecolor\": \"white\", \"showbackground\": true, \"ticks\": \"\", \"zerolinecolor\": \"white\"}}, \"shapedefaults\": {\"line\": {\"color\": \"#2a3f5f\"}}, \"ternary\": {\"aaxis\": {\"gridcolor\": \"white\", \"linecolor\": \"white\", \"ticks\": \"\"}, \"baxis\": {\"gridcolor\": \"white\", \"linecolor\": \"white\", \"ticks\": \"\"}, \"bgcolor\": \"#E5ECF6\", \"caxis\": {\"gridcolor\": \"white\", \"linecolor\": \"white\", \"ticks\": \"\"}}, \"title\": {\"x\": 0.05}, \"xaxis\": {\"automargin\": true, \"gridcolor\": \"white\", \"linecolor\": \"white\", \"ticks\": \"\", \"title\": {\"standoff\": 15}, \"zerolinecolor\": \"white\", \"zerolinewidth\": 2}, \"yaxis\": {\"automargin\": true, \"gridcolor\": \"white\", \"linecolor\": \"white\", \"ticks\": \"\", \"title\": {\"standoff\": 15}, \"zerolinecolor\": \"white\", \"zerolinewidth\": 2}}}, \"title\": {\"text\": \"LSI Scores\"}, \"xaxis\": {\"anchor\": \"y\", \"domain\": [0.0, 1.0], \"title\": {\"text\": \"score\"}}, \"yaxis\": {\"anchor\": \"x\", \"domain\": [0.0, 1.0], \"title\": {\"text\": \"count\"}}},\n",
              "                        {\"responsive\": true}\n",
              "                    ).then(function(){\n",
              "                            \n",
              "var gd = document.getElementById('4d45dd70-ab0f-47ab-90b5-45132cfaf99b');\n",
              "var x = new MutationObserver(function (mutations, observer) {{\n",
              "        var display = window.getComputedStyle(gd).display;\n",
              "        if (!display || display === 'none') {{\n",
              "            console.log([gd, 'removed!']);\n",
              "            Plotly.purge(gd);\n",
              "            observer.disconnect();\n",
              "        }}\n",
              "}});\n",
              "\n",
              "// Listen for the removal of the full notebook cells\n",
              "var notebookContainer = gd.closest('#notebook-container');\n",
              "if (notebookContainer) {{\n",
              "    x.observe(notebookContainer, {childList: true});\n",
              "}}\n",
              "\n",
              "// Listen for the clearing of the current output cell\n",
              "var outputEl = gd.closest('.output');\n",
              "if (outputEl) {{\n",
              "    x.observe(outputEl, {childList: true});\n",
              "}}\n",
              "\n",
              "                        })\n",
              "                };\n",
              "                \n",
              "            </script>\n",
              "        </div>\n",
              "</body>\n",
              "</html>"
            ]
          },
          "metadata": {}
        }
      ]
    },
    {
      "cell_type": "code",
      "metadata": {
        "id": "RX2JvEEGPGgS"
      },
      "source": [
        "if use_wandb:\n",
        "  wandb.log({\"scores_hist\": fig})"
      ],
      "execution_count": 67,
      "outputs": []
    },
    {
      "cell_type": "code",
      "metadata": {
        "colab": {
          "base_uri": "https://localhost:8080/",
          "height": 990
        },
        "id": "7N81-XfdDFKV",
        "outputId": "c65350c2-03ff-4b57-ce70-ee1843d272d8"
      },
      "source": [
        "result, details = recommend_tune(df_sim, 'These Foolish Things')\n",
        "result.head(30)"
      ],
      "execution_count": 68,
      "outputs": [
        {
          "output_type": "execute_result",
          "data": {
            "text/html": [
              "<div>\n",
              "<style scoped>\n",
              "    .dataframe tbody tr th:only-of-type {\n",
              "        vertical-align: middle;\n",
              "    }\n",
              "\n",
              "    .dataframe tbody tr th {\n",
              "        vertical-align: top;\n",
              "    }\n",
              "\n",
              "    .dataframe thead th {\n",
              "        text-align: right;\n",
              "    }\n",
              "</style>\n",
              "<table border=\"1\" class=\"dataframe\">\n",
              "  <thead>\n",
              "    <tr style=\"text-align: right;\">\n",
              "      <th></th>\n",
              "      <th>index</th>\n",
              "      <th>reference</th>\n",
              "      <th>similar_title</th>\n",
              "      <th>score</th>\n",
              "      <th>max</th>\n",
              "      <th>score_div_max</th>\n",
              "    </tr>\n",
              "  </thead>\n",
              "  <tbody>\n",
              "    <tr>\n",
              "      <th>0</th>\n",
              "      <td>0</td>\n",
              "      <td>These Foolish Things</td>\n",
              "      <td>Way You Look Tonight, The</td>\n",
              "      <td>0.879457</td>\n",
              "      <td>0.879457</td>\n",
              "      <td>1.000000</td>\n",
              "    </tr>\n",
              "    <tr>\n",
              "      <th>1</th>\n",
              "      <td>1</td>\n",
              "      <td>These Foolish Things</td>\n",
              "      <td>Isn't It A Pity</td>\n",
              "      <td>0.855189</td>\n",
              "      <td>0.855189</td>\n",
              "      <td>1.000000</td>\n",
              "    </tr>\n",
              "    <tr>\n",
              "      <th>2</th>\n",
              "      <td>2</td>\n",
              "      <td>These Foolish Things</td>\n",
              "      <td>Mountain Greenery</td>\n",
              "      <td>0.856392</td>\n",
              "      <td>0.879457</td>\n",
              "      <td>1.000000</td>\n",
              "    </tr>\n",
              "    <tr>\n",
              "      <th>3</th>\n",
              "      <td>3</td>\n",
              "      <td>These Foolish Things</td>\n",
              "      <td>I Like The Likes Of You</td>\n",
              "      <td>0.862223</td>\n",
              "      <td>0.879457</td>\n",
              "      <td>0.980405</td>\n",
              "    </tr>\n",
              "    <tr>\n",
              "      <th>4</th>\n",
              "      <td>4</td>\n",
              "      <td>These Foolish Things</td>\n",
              "      <td>Party's Over, The</td>\n",
              "      <td>0.858708</td>\n",
              "      <td>0.879457</td>\n",
              "      <td>0.976407</td>\n",
              "    </tr>\n",
              "    <tr>\n",
              "      <th>5</th>\n",
              "      <td>5</td>\n",
              "      <td>These Foolish Things</td>\n",
              "      <td>Heart And Soul</td>\n",
              "      <td>0.852124</td>\n",
              "      <td>0.879457</td>\n",
              "      <td>0.968921</td>\n",
              "    </tr>\n",
              "    <tr>\n",
              "      <th>6</th>\n",
              "      <td>6</td>\n",
              "      <td>These Foolish Things</td>\n",
              "      <td>I Won't Dance</td>\n",
              "      <td>0.851183</td>\n",
              "      <td>0.879457</td>\n",
              "      <td>0.968140</td>\n",
              "    </tr>\n",
              "    <tr>\n",
              "      <th>7</th>\n",
              "      <td>7</td>\n",
              "      <td>These Foolish Things</td>\n",
              "      <td>Jeepers Creepers</td>\n",
              "      <td>0.842868</td>\n",
              "      <td>0.879457</td>\n",
              "      <td>0.958396</td>\n",
              "    </tr>\n",
              "    <tr>\n",
              "      <th>8</th>\n",
              "      <td>8</td>\n",
              "      <td>These Foolish Things</td>\n",
              "      <td>Dinah</td>\n",
              "      <td>0.835976</td>\n",
              "      <td>0.879457</td>\n",
              "      <td>0.950559</td>\n",
              "    </tr>\n",
              "    <tr>\n",
              "      <th>9</th>\n",
              "      <td>9</td>\n",
              "      <td>These Foolish Things</td>\n",
              "      <td>I'm Old Fashioned</td>\n",
              "      <td>0.825426</td>\n",
              "      <td>0.879457</td>\n",
              "      <td>0.950392</td>\n",
              "    </tr>\n",
              "    <tr>\n",
              "      <th>10</th>\n",
              "      <td>10</td>\n",
              "      <td>These Foolish Things</td>\n",
              "      <td>Don't Be That Way</td>\n",
              "      <td>0.832671</td>\n",
              "      <td>0.879457</td>\n",
              "      <td>0.946801</td>\n",
              "    </tr>\n",
              "    <tr>\n",
              "      <th>11</th>\n",
              "      <td>11</td>\n",
              "      <td>These Foolish Things</td>\n",
              "      <td>Long Ago And Far Away</td>\n",
              "      <td>0.832530</td>\n",
              "      <td>0.879457</td>\n",
              "      <td>0.946642</td>\n",
              "    </tr>\n",
              "    <tr>\n",
              "      <th>12</th>\n",
              "      <td>12</td>\n",
              "      <td>These Foolish Things</td>\n",
              "      <td>Time After Time</td>\n",
              "      <td>0.797209</td>\n",
              "      <td>0.868510</td>\n",
              "      <td>0.945143</td>\n",
              "    </tr>\n",
              "    <tr>\n",
              "      <th>13</th>\n",
              "      <td>13</td>\n",
              "      <td>These Foolish Things</td>\n",
              "      <td>Let's Fall In Love</td>\n",
              "      <td>0.830662</td>\n",
              "      <td>0.879457</td>\n",
              "      <td>0.944557</td>\n",
              "    </tr>\n",
              "    <tr>\n",
              "      <th>14</th>\n",
              "      <td>14</td>\n",
              "      <td>These Foolish Things</td>\n",
              "      <td>Smoke Gets In Your Eyes</td>\n",
              "      <td>0.817935</td>\n",
              "      <td>0.868510</td>\n",
              "      <td>0.941768</td>\n",
              "    </tr>\n",
              "    <tr>\n",
              "      <th>15</th>\n",
              "      <td>15</td>\n",
              "      <td>These Foolish Things</td>\n",
              "      <td>Wouldn't It Be Loverly</td>\n",
              "      <td>0.825769</td>\n",
              "      <td>0.879457</td>\n",
              "      <td>0.938954</td>\n",
              "    </tr>\n",
              "    <tr>\n",
              "      <th>16</th>\n",
              "      <td>16</td>\n",
              "      <td>These Foolish Things</td>\n",
              "      <td>At Last</td>\n",
              "      <td>0.814476</td>\n",
              "      <td>0.879457</td>\n",
              "      <td>0.937785</td>\n",
              "    </tr>\n",
              "    <tr>\n",
              "      <th>17</th>\n",
              "      <td>17</td>\n",
              "      <td>These Foolish Things</td>\n",
              "      <td>They All Laughed</td>\n",
              "      <td>0.824467</td>\n",
              "      <td>0.879457</td>\n",
              "      <td>0.937473</td>\n",
              "    </tr>\n",
              "    <tr>\n",
              "      <th>18</th>\n",
              "      <td>18</td>\n",
              "      <td>These Foolish Things</td>\n",
              "      <td>I've Got My Fingers Crossed</td>\n",
              "      <td>0.818229</td>\n",
              "      <td>0.879457</td>\n",
              "      <td>0.937018</td>\n",
              "    </tr>\n",
              "    <tr>\n",
              "      <th>19</th>\n",
              "      <td>19</td>\n",
              "      <td>These Foolish Things</td>\n",
              "      <td>Bewitched</td>\n",
              "      <td>0.818295</td>\n",
              "      <td>0.879457</td>\n",
              "      <td>0.936980</td>\n",
              "    </tr>\n",
              "    <tr>\n",
              "      <th>20</th>\n",
              "      <td>20</td>\n",
              "      <td>These Foolish Things</td>\n",
              "      <td>52nd Street Theme</td>\n",
              "      <td>0.787298</td>\n",
              "      <td>0.843480</td>\n",
              "      <td>0.933392</td>\n",
              "    </tr>\n",
              "    <tr>\n",
              "      <th>21</th>\n",
              "      <td>21</td>\n",
              "      <td>These Foolish Things</td>\n",
              "      <td>Too Young To Go Steady</td>\n",
              "      <td>0.785990</td>\n",
              "      <td>0.855189</td>\n",
              "      <td>0.931842</td>\n",
              "    </tr>\n",
              "    <tr>\n",
              "      <th>22</th>\n",
              "      <td>22</td>\n",
              "      <td>These Foolish Things</td>\n",
              "      <td>Fools Rush In</td>\n",
              "      <td>0.819075</td>\n",
              "      <td>0.879457</td>\n",
              "      <td>0.931343</td>\n",
              "    </tr>\n",
              "    <tr>\n",
              "      <th>23</th>\n",
              "      <td>23</td>\n",
              "      <td>These Foolish Things</td>\n",
              "      <td>Try A Little Tenderness</td>\n",
              "      <td>0.818910</td>\n",
              "      <td>0.879457</td>\n",
              "      <td>0.931154</td>\n",
              "    </tr>\n",
              "    <tr>\n",
              "      <th>24</th>\n",
              "      <td>24</td>\n",
              "      <td>These Foolish Things</td>\n",
              "      <td>Touch Of Your Lips, The</td>\n",
              "      <td>0.805790</td>\n",
              "      <td>0.868510</td>\n",
              "      <td>0.927785</td>\n",
              "    </tr>\n",
              "    <tr>\n",
              "      <th>25</th>\n",
              "      <td>25</td>\n",
              "      <td>These Foolish Things</td>\n",
              "      <td>Over The Rainbow (Somewhere)</td>\n",
              "      <td>0.815583</td>\n",
              "      <td>0.879457</td>\n",
              "      <td>0.927371</td>\n",
              "    </tr>\n",
              "    <tr>\n",
              "      <th>26</th>\n",
              "      <td>26</td>\n",
              "      <td>These Foolish Things</td>\n",
              "      <td>Blue Room, The</td>\n",
              "      <td>0.797364</td>\n",
              "      <td>0.868510</td>\n",
              "      <td>0.918082</td>\n",
              "    </tr>\n",
              "    <tr>\n",
              "      <th>27</th>\n",
              "      <td>27</td>\n",
              "      <td>These Foolish Things</td>\n",
              "      <td>Glory Of Love, The</td>\n",
              "      <td>0.794124</td>\n",
              "      <td>0.868510</td>\n",
              "      <td>0.914352</td>\n",
              "    </tr>\n",
              "    <tr>\n",
              "      <th>28</th>\n",
              "      <td>28</td>\n",
              "      <td>These Foolish Things</td>\n",
              "      <td>Haunted Heart</td>\n",
              "      <td>0.767552</td>\n",
              "      <td>0.843480</td>\n",
              "      <td>0.909983</td>\n",
              "    </tr>\n",
              "    <tr>\n",
              "      <th>29</th>\n",
              "      <td>29</td>\n",
              "      <td>These Foolish Things</td>\n",
              "      <td>Rosetta</td>\n",
              "      <td>0.704247</td>\n",
              "      <td>0.855189</td>\n",
              "      <td>0.823499</td>\n",
              "    </tr>\n",
              "  </tbody>\n",
              "</table>\n",
              "</div>"
            ],
            "text/plain": [
              "    index             reference  ...       max  score_div_max\n",
              "0       0  These Foolish Things  ...  0.879457       1.000000\n",
              "1       1  These Foolish Things  ...  0.855189       1.000000\n",
              "2       2  These Foolish Things  ...  0.879457       1.000000\n",
              "3       3  These Foolish Things  ...  0.879457       0.980405\n",
              "4       4  These Foolish Things  ...  0.879457       0.976407\n",
              "5       5  These Foolish Things  ...  0.879457       0.968921\n",
              "6       6  These Foolish Things  ...  0.879457       0.968140\n",
              "7       7  These Foolish Things  ...  0.879457       0.958396\n",
              "8       8  These Foolish Things  ...  0.879457       0.950559\n",
              "9       9  These Foolish Things  ...  0.879457       0.950392\n",
              "10     10  These Foolish Things  ...  0.879457       0.946801\n",
              "11     11  These Foolish Things  ...  0.879457       0.946642\n",
              "12     12  These Foolish Things  ...  0.868510       0.945143\n",
              "13     13  These Foolish Things  ...  0.879457       0.944557\n",
              "14     14  These Foolish Things  ...  0.868510       0.941768\n",
              "15     15  These Foolish Things  ...  0.879457       0.938954\n",
              "16     16  These Foolish Things  ...  0.879457       0.937785\n",
              "17     17  These Foolish Things  ...  0.879457       0.937473\n",
              "18     18  These Foolish Things  ...  0.879457       0.937018\n",
              "19     19  These Foolish Things  ...  0.879457       0.936980\n",
              "20     20  These Foolish Things  ...  0.843480       0.933392\n",
              "21     21  These Foolish Things  ...  0.855189       0.931842\n",
              "22     22  These Foolish Things  ...  0.879457       0.931343\n",
              "23     23  These Foolish Things  ...  0.879457       0.931154\n",
              "24     24  These Foolish Things  ...  0.868510       0.927785\n",
              "25     25  These Foolish Things  ...  0.879457       0.927371\n",
              "26     26  These Foolish Things  ...  0.868510       0.918082\n",
              "27     27  These Foolish Things  ...  0.868510       0.914352\n",
              "28     28  These Foolish Things  ...  0.843480       0.909983\n",
              "29     29  These Foolish Things  ...  0.855189       0.823499\n",
              "\n",
              "[30 rows x 6 columns]"
            ]
          },
          "metadata": {},
          "execution_count": 68
        }
      ]
    },
    {
      "cell_type": "code",
      "metadata": {
        "id": "15ZsHOQmyyah"
      },
      "source": [
        "dd = pd.DataFrame(columns = recommender_results_cols)\n",
        "\n",
        "for tune in tunes_eval_list:\n",
        "  result, details = recommend_tune(df_sim, tune)\n",
        "  dd['id'] = result['index']\n",
        "  dd['reference'] = tune\n",
        "  dd['method'] = 'lsi'\n",
        "  dd['similar'] = result['similar_title']\n",
        "  dd['score_div_max'] = result['score_div_max']\n",
        "  dd['score'] = result['score']\n",
        "\n",
        "recommender_results = recommender_results.append(dd)"
      ],
      "execution_count": 69,
      "outputs": []
    },
    {
      "cell_type": "markdown",
      "metadata": {
        "id": "Ojrjp11ni6Pl"
      },
      "source": [
        "### Tests for Contrafacts"
      ]
    },
    {
      "cell_type": "code",
      "metadata": {
        "colab": {
          "base_uri": "https://localhost:8080/"
        },
        "id": "D0_7m1qji6A-",
        "outputId": "334ccb18-ca70-4828-d24f-2f250937b48b"
      },
      "source": [
        "topN = 15\n",
        "matches, results = test_contrafacts(contrafacts, index_lsi, lsi, topN)\n",
        "\n",
        "[print(f\"{val}: {rr}\") for rr, val in results.items()] \n",
        "print() \n",
        "print(f\"Found matches: {matches} out of {len(contrafacts)}: {100*matches/len(contrafacts):.3f}%\")"
      ],
      "execution_count": 70,
      "outputs": [
        {
          "output_type": "stream",
          "name": "stdout",
          "text": [
            "1: 26-2\n",
            "0: 52nd Street Theme\n",
            "1: Ablution\n",
            "1: Anthropology\n",
            "1: Ballade\n",
            "1: Bright Mississippi\n",
            "1: C.T.A.\n",
            "0: Celia\n",
            "1: Cottontail\n",
            "1: Countdown\n",
            "0: Dewey Square\n",
            "1: Dexterity\n",
            "1: Dig\n",
            "1: Donna Lee\n",
            "0: Don't Be That Way\n",
            "0: Eternal Triangle\n",
            "1: Evidence\n",
            "1: Flintstones\n",
            "0: Four On Six\n",
            "1: Freight Train\n",
            "0: Good Bait\n",
            "0: Hackensack\n",
            "1: Half Nelson\n",
            "1: Hot House\n",
            "1: Impressions\n",
            "1: In A Mellow Tone (In A Mellotone)\n",
            "1: In Walked Bud\n",
            "1: Ko Ko\n",
            "0: Lennie's Pennies\n",
            "0: Little Rootie Tootie\n",
            "0: Little Willie Leaps\n",
            "0: Lullaby Of Birdland\n",
            "1: Moose The Mooche\n",
            "0: My Little Suede Shoes\n",
            "1: Oleo\n",
            "1: Ornithology\n",
            "1: Passport\n",
            "0: Quasimodo (Theme)\n",
            "1: Rhythm-a-ning\n",
            "0: Room 608\n",
            "1: Salt Peanuts\n",
            "1: Satellite\n",
            "1: Scrapple From The Apple\n",
            "1: Seven Come Eleven\n",
            "1: Shaw 'Nuff\n",
            "1: Theme, The\n",
            "1: Tour De Force\n",
            "1: Wow\n",
            "1: Yardbird Suite\n",
            "0: Sweet Sue, Just You\n",
            "0: These Foolish Things\n",
            "0: Misty\n",
            "\n",
            "Found matches: 34 out of 52: 65.385%\n"
          ]
        }
      ]
    },
    {
      "cell_type": "code",
      "metadata": {
        "id": "RS7LsLASi5-f"
      },
      "source": [
        "if use_wandb:\n",
        "  wandb.log({'lsi': {\n",
        "      'contrafacts': {\n",
        "          'topN': topN,\n",
        "          'success': matches/len(contrafacts),\n",
        "          #'results': results\n",
        "      }\n",
        "  }})"
      ],
      "execution_count": 71,
      "outputs": []
    },
    {
      "cell_type": "markdown",
      "metadata": {
        "id": "asScIocQRMPA"
      },
      "source": [
        "## Determine Number of Topics for LSI Model\n",
        "\n",
        "This sample comes from Datacamp: \n",
        "\n",
        "https://www.datacamp.com/community/tutorials/discovering-hidden-topics-python\n"
      ]
    },
    {
      "cell_type": "markdown",
      "metadata": {
        "id": "1TPNWFEPSxZ-"
      },
      "source": [
        "What is the best way to determine k (number of topics) in topic modeling? Identify the optimum number of topics in the given corpus text is a challenging task. We can use the following options for determining the optimum number of topics:\n",
        "\n",
        "* One way to determine the optimum number of topics is to consider each topic as a cluster and find out the effectiveness of a cluster using the Silhouette coefficient.\n",
        "* Topic coherence measure is a realistic measure for identifying the number of topics.\n",
        "\n",
        "Topic Coherence measure is a widely used metric to evaluate topic models. It uses the latent variable models. Each generated topic has a list of words. In topic coherence measure, you will find average/median of pairwise word similarity scores of the words in a topic. The high value of topic coherence score model will be considered as a good topic model. "
      ]
    },
    {
      "cell_type": "code",
      "metadata": {
        "id": "umpCyQQzRLgv"
      },
      "source": [
        "def prepare_corpus(doc_clean):\n",
        "    \"\"\"\n",
        "    Input  : clean document\n",
        "    Purpose: create term dictionary of our courpus and Converting list of documents (corpus) into Document Term Matrix\n",
        "    Output : term dictionary and Document Term Matrix\n",
        "    \"\"\"\n",
        "    # Creating the term dictionary of our courpus, where every unique term is assigned an index. dictionary = corpora.Dictionary(doc_clean)\n",
        "    dictionary = corpora.Dictionary(doc_clean)\n",
        "    # Converting list of documents (corpus) into Document Term Matrix using dictionary prepared above.\n",
        "    doc_term_matrix = [dictionary.doc2bow(doc) for doc in doc_clean]\n",
        "    # generate LDA model\n",
        "    return dictionary, doc_term_matrix"
      ],
      "execution_count": 72,
      "outputs": []
    },
    {
      "cell_type": "code",
      "metadata": {
        "id": "aS2wxIEERcul"
      },
      "source": [
        "def compute_coherence_values(dictionary, doc_term_matrix, doc_clean, stop, start=2, step=3):\n",
        "    \"\"\"\n",
        "    Input   : dictionary : Gensim dictionary\n",
        "              corpus : Gensim corpus\n",
        "              texts : List of input texts\n",
        "              stop : Max num of topics\n",
        "    purpose : Compute c_v coherence for various number of topics\n",
        "    Output  : model_list : List of LSA topic models\n",
        "              coherence_values : Coherence values corresponding to the LDA model with respective number of topics\n",
        "    \"\"\"\n",
        "    coherence_values = []\n",
        "    model_list = []\n",
        "    for num_topics in range(start, stop, step):\n",
        "        # generate LSA model\n",
        "        model = LsiModel(doc_term_matrix, num_topics=num_topics, id2word = dictionary)  # train model\n",
        "        model_list.append(model)\n",
        "        coherencemodel = CoherenceModel(model=model, texts=doc_clean, dictionary=dictionary, coherence='c_v')\n",
        "        coherence_values.append(coherencemodel.get_coherence())\n",
        "    return model_list, coherence_values"
      ],
      "execution_count": 73,
      "outputs": []
    },
    {
      "cell_type": "code",
      "metadata": {
        "id": "DjyzAzWBRfrH"
      },
      "source": [
        "def plot_graph(doc_clean,start, stop, step):\n",
        "    dictionary, doc_term_matrix = prepare_corpus(doc_clean)\n",
        "    model_list, coherence_values = compute_coherence_values(dictionary, doc_term_matrix,doc_clean,\n",
        "                                                            stop, start, step)\n",
        "    # Show graph\n",
        "    x = range(start, stop, step)\n",
        "    plt.plot(x, coherence_values)\n",
        "    plt.xlabel(\"Number of Topics\")\n",
        "    plt.ylabel(\"Coherence score\")\n",
        "    plt.legend((\"coherence_values\"), loc='best')\n",
        "    plt.show()"
      ],
      "execution_count": 74,
      "outputs": []
    },
    {
      "cell_type": "code",
      "metadata": {
        "id": "qy9ZjdcmRhxs"
      },
      "source": [
        "# evaluate a good number of topics for the LSI Model. This takes some time.\n",
        "\n",
        "if False:\n",
        "\n",
        "  start, stop, step = 1, 500, 10\n",
        "  plot_graph(data, start, stop, step)"
      ],
      "execution_count": 75,
      "outputs": []
    },
    {
      "cell_type": "markdown",
      "metadata": {
        "id": "Qo5NgBHFlqgg"
      },
      "source": [
        "For unigrams, the best number of topics seems to be around 20.\n",
        "\n",
        "For unigrams plus bigrams, the coherence score drops down until 100 and then continuously rises until 500 and continues to rise. Same for bigrams-only."
      ]
    },
    {
      "cell_type": "markdown",
      "metadata": {
        "id": "lTQKfd0xQQ65"
      },
      "source": [
        "Store Model to W&B"
      ]
    },
    {
      "cell_type": "code",
      "metadata": {
        "id": "RfAYF7ArQUXo"
      },
      "source": [
        "if use_wandb:\n",
        "  model_artifact = wandb.Artifact(\n",
        "      \"trained-model\", \n",
        "      type=\"model\",\n",
        "      description=\"LSI model\",\n",
        "      metadata=\"\")\n",
        "\n",
        "  model_artifact.add_file(\"/content/index/lsi.model\")\n",
        "  model_artifact.add_file(\"/content/index/lsi_matrixsim.index\")\n",
        "  model_artifact.add_file(\"/content/index/lsi.model.projection\")\n",
        "  wandb.log_artifact(model_artifact)"
      ],
      "execution_count": 76,
      "outputs": []
    },
    {
      "cell_type": "markdown",
      "metadata": {
        "id": "rF_INicGhXKd"
      },
      "source": [
        "# Doc2Vec"
      ]
    },
    {
      "cell_type": "code",
      "metadata": {
        "id": "wflSccBshkIk"
      },
      "source": [
        "def get_tagged_documents(corpus, tags=None):\n",
        "  if tags == 'SectionsTunes':\n",
        "    print('Tagging input data with both section and tune information.')\n",
        "  else:\n",
        "    print('Tagging input data with section informaiton only.')\n",
        "    \n",
        "  for i, tokens in enumerate(corpus):\n",
        "    if tags == 'SectionsTunes':\n",
        "      yield gensim.models.doc2vec.TaggedDocument(tokens, [i, f'titleid_{sectionid_to_titleid[i]}'])\n",
        "    else:\n",
        "      yield gensim.models.doc2vec.TaggedDocument(tokens, [i])  # diatonic chord distance is a bit better"
      ],
      "execution_count": 77,
      "outputs": []
    },
    {
      "cell_type": "code",
      "metadata": {
        "colab": {
          "base_uri": "https://localhost:8080/"
        },
        "id": "_u0RdBI1kYD9",
        "outputId": "2d7e95db-e7d0-40b5-83de-6e05ae7e60d6"
      },
      "source": [
        "train_corpus = list(get_tagged_documents(processed_corpus, doc2vec_config['general']['document_tags']))\n",
        "train_corpus[1000]"
      ],
      "execution_count": 78,
      "outputs": [
        {
          "output_type": "stream",
          "name": "stdout",
          "text": [
            "Tagging input data with both section and tune information.\n"
          ]
        },
        {
          "output_type": "execute_result",
          "data": {
            "text/plain": [
              "TaggedDocument(words=['C-Am', 'Am-Dm', 'Dm-G7', 'G7-C', 'C-F', 'F-C', 'C-Am', 'Am-Dm', 'Dm-G7', 'G7-C', 'C-Dm', 'Dm-G7'], tags=[1000, 'titleid_308'])"
            ]
          },
          "metadata": {},
          "execution_count": 78
        }
      ]
    },
    {
      "cell_type": "code",
      "metadata": {
        "colab": {
          "base_uri": "https://localhost:8080/"
        },
        "id": "M9adPoy9reaw",
        "outputId": "8f367e2e-b1f5-4062-b3e1-e10351a2bbde"
      },
      "source": [
        "import multiprocessing\n",
        "\n",
        "print(f\"CPU Count: {multiprocessing.cpu_count()}\")\n",
        "print(f\"Config:\")\n",
        "print(doc2vec_config['model'])\n",
        "\n",
        "model = Doc2Vec(train_corpus,\n",
        "                **doc2vec_config['model']\n",
        "                )"
      ],
      "execution_count": 79,
      "outputs": [
        {
          "output_type": "stream",
          "name": "stderr",
          "text": [
            "2021-11-23 22:13:00,692 : INFO : collecting all words and their counts\n",
            "2021-11-23 22:13:00,694 : INFO : PROGRESS: at example #0, processed 0 words (0/s), 0 word types, 0 tags\n"
          ]
        },
        {
          "output_type": "stream",
          "name": "stdout",
          "text": [
            "CPU Count: 2\n",
            "Config:\n",
            "{'dm': 1, 'vector_size': 100, 'window': 4, 'epochs': 40, 'min_count': 1, 'negative': 10, 'sample': 0.001, 'seed': 42}\n"
          ]
        },
        {
          "output_type": "stream",
          "name": "stderr",
          "text": [
            "2021-11-23 22:13:00,743 : INFO : collected 1918 word types and 7200 unique tags from a corpus of 5391 examples and 77231 words\n",
            "2021-11-23 22:13:00,745 : INFO : Creating a fresh vocabulary\n",
            "2021-11-23 22:13:00,763 : INFO : Doc2Vec lifecycle event {'msg': 'effective_min_count=1 retains 1918 unique words (100.0%% of original 1918, drops 0)', 'datetime': '2021-11-23T22:13:00.763725', 'gensim': '4.1.2', 'python': '3.7.12 (default, Sep 10 2021, 00:21:48) \\n[GCC 7.5.0]', 'platform': 'Linux-5.4.104+-x86_64-with-Ubuntu-18.04-bionic', 'event': 'prepare_vocab'}\n",
            "2021-11-23 22:13:00,766 : INFO : Doc2Vec lifecycle event {'msg': 'effective_min_count=1 leaves 77231 word corpus (100.0%% of original 77231, drops 0)', 'datetime': '2021-11-23T22:13:00.766448', 'gensim': '4.1.2', 'python': '3.7.12 (default, Sep 10 2021, 00:21:48) \\n[GCC 7.5.0]', 'platform': 'Linux-5.4.104+-x86_64-with-Ubuntu-18.04-bionic', 'event': 'prepare_vocab'}\n",
            "2021-11-23 22:13:00,784 : INFO : deleting the raw counts dictionary of 1918 items\n",
            "2021-11-23 22:13:00,786 : INFO : sample=0.001 downsamples 69 most-common words\n",
            "2021-11-23 22:13:00,790 : INFO : Doc2Vec lifecycle event {'msg': 'downsampling leaves estimated 45716.81350168418 word corpus (59.2%% of prior 77231)', 'datetime': '2021-11-23T22:13:00.790093', 'gensim': '4.1.2', 'python': '3.7.12 (default, Sep 10 2021, 00:21:48) \\n[GCC 7.5.0]', 'platform': 'Linux-5.4.104+-x86_64-with-Ubuntu-18.04-bionic', 'event': 'prepare_vocab'}\n",
            "2021-11-23 22:13:00,821 : INFO : estimated required memory for 1918 words and 100 dimensions: 6813400 bytes\n",
            "2021-11-23 22:13:00,823 : INFO : resetting layer weights\n",
            "2021-11-23 22:13:00,833 : INFO : Doc2Vec lifecycle event {'msg': 'training model with 3 workers on 1918 vocabulary and 100 features, using sg=0 hs=0 sample=0.001 negative=10 window=4 shrink_windows=True', 'datetime': '2021-11-23T22:13:00.833642', 'gensim': '4.1.2', 'python': '3.7.12 (default, Sep 10 2021, 00:21:48) \\n[GCC 7.5.0]', 'platform': 'Linux-5.4.104+-x86_64-with-Ubuntu-18.04-bionic', 'event': 'train'}\n",
            "2021-11-23 22:13:01,517 : INFO : worker thread finished; awaiting finish of 2 more threads\n",
            "2021-11-23 22:13:01,605 : INFO : worker thread finished; awaiting finish of 1 more threads\n",
            "2021-11-23 22:13:01,614 : INFO : worker thread finished; awaiting finish of 0 more threads\n",
            "2021-11-23 22:13:01,615 : INFO : EPOCH - 1 : training on 77231 raw words (56617 effective words) took 0.8s, 73632 effective words/s\n",
            "2021-11-23 22:13:02,274 : INFO : worker thread finished; awaiting finish of 2 more threads\n",
            "2021-11-23 22:13:02,368 : INFO : worker thread finished; awaiting finish of 1 more threads\n",
            "2021-11-23 22:13:02,374 : INFO : worker thread finished; awaiting finish of 0 more threads\n",
            "2021-11-23 22:13:02,376 : INFO : EPOCH - 2 : training on 77231 raw words (56576 effective words) took 0.7s, 75834 effective words/s\n",
            "2021-11-23 22:13:03,083 : INFO : worker thread finished; awaiting finish of 2 more threads\n",
            "2021-11-23 22:13:03,146 : INFO : worker thread finished; awaiting finish of 1 more threads\n",
            "2021-11-23 22:13:03,162 : INFO : worker thread finished; awaiting finish of 0 more threads\n",
            "2021-11-23 22:13:03,163 : INFO : EPOCH - 3 : training on 77231 raw words (56412 effective words) took 0.8s, 72765 effective words/s\n",
            "2021-11-23 22:13:03,817 : INFO : worker thread finished; awaiting finish of 2 more threads\n",
            "2021-11-23 22:13:03,895 : INFO : worker thread finished; awaiting finish of 1 more threads\n",
            "2021-11-23 22:13:03,913 : INFO : worker thread finished; awaiting finish of 0 more threads\n",
            "2021-11-23 22:13:03,914 : INFO : EPOCH - 4 : training on 77231 raw words (56552 effective words) took 0.7s, 76567 effective words/s\n",
            "2021-11-23 22:13:04,597 : INFO : worker thread finished; awaiting finish of 2 more threads\n",
            "2021-11-23 22:13:04,692 : INFO : worker thread finished; awaiting finish of 1 more threads\n",
            "2021-11-23 22:13:04,705 : INFO : worker thread finished; awaiting finish of 0 more threads\n",
            "2021-11-23 22:13:04,706 : INFO : EPOCH - 5 : training on 77231 raw words (56466 effective words) took 0.8s, 72549 effective words/s\n",
            "2021-11-23 22:13:05,318 : INFO : worker thread finished; awaiting finish of 2 more threads\n",
            "2021-11-23 22:13:05,405 : INFO : worker thread finished; awaiting finish of 1 more threads\n",
            "2021-11-23 22:13:05,420 : INFO : worker thread finished; awaiting finish of 0 more threads\n",
            "2021-11-23 22:13:05,421 : INFO : EPOCH - 6 : training on 77231 raw words (56452 effective words) took 0.7s, 80386 effective words/s\n",
            "2021-11-23 22:13:06,059 : INFO : worker thread finished; awaiting finish of 2 more threads\n",
            "2021-11-23 22:13:06,157 : INFO : worker thread finished; awaiting finish of 1 more threads\n",
            "2021-11-23 22:13:06,173 : INFO : worker thread finished; awaiting finish of 0 more threads\n",
            "2021-11-23 22:13:06,175 : INFO : EPOCH - 7 : training on 77231 raw words (56679 effective words) took 0.7s, 76444 effective words/s\n",
            "2021-11-23 22:13:06,878 : INFO : worker thread finished; awaiting finish of 2 more threads\n",
            "2021-11-23 22:13:06,947 : INFO : worker thread finished; awaiting finish of 1 more threads\n",
            "2021-11-23 22:13:06,964 : INFO : worker thread finished; awaiting finish of 0 more threads\n",
            "2021-11-23 22:13:06,965 : INFO : EPOCH - 8 : training on 77231 raw words (56498 effective words) took 0.8s, 72435 effective words/s\n",
            "2021-11-23 22:13:07,640 : INFO : worker thread finished; awaiting finish of 2 more threads\n",
            "2021-11-23 22:13:07,712 : INFO : worker thread finished; awaiting finish of 1 more threads\n",
            "2021-11-23 22:13:07,730 : INFO : worker thread finished; awaiting finish of 0 more threads\n",
            "2021-11-23 22:13:07,731 : INFO : EPOCH - 9 : training on 77231 raw words (56530 effective words) took 0.8s, 75079 effective words/s\n",
            "2021-11-23 22:13:08,379 : INFO : worker thread finished; awaiting finish of 2 more threads\n",
            "2021-11-23 22:13:08,465 : INFO : worker thread finished; awaiting finish of 1 more threads\n",
            "2021-11-23 22:13:08,480 : INFO : worker thread finished; awaiting finish of 0 more threads\n",
            "2021-11-23 22:13:08,482 : INFO : EPOCH - 10 : training on 77231 raw words (56406 effective words) took 0.7s, 76585 effective words/s\n",
            "2021-11-23 22:13:09,147 : INFO : worker thread finished; awaiting finish of 2 more threads\n",
            "2021-11-23 22:13:09,219 : INFO : worker thread finished; awaiting finish of 1 more threads\n",
            "2021-11-23 22:13:09,233 : INFO : worker thread finished; awaiting finish of 0 more threads\n",
            "2021-11-23 22:13:09,234 : INFO : EPOCH - 11 : training on 77231 raw words (56298 effective words) took 0.7s, 76208 effective words/s\n",
            "2021-11-23 22:13:09,886 : INFO : worker thread finished; awaiting finish of 2 more threads\n",
            "2021-11-23 22:13:09,983 : INFO : worker thread finished; awaiting finish of 1 more threads\n",
            "2021-11-23 22:13:09,995 : INFO : worker thread finished; awaiting finish of 0 more threads\n",
            "2021-11-23 22:13:09,997 : INFO : EPOCH - 12 : training on 77231 raw words (56573 effective words) took 0.7s, 75662 effective words/s\n",
            "2021-11-23 22:13:10,656 : INFO : worker thread finished; awaiting finish of 2 more threads\n",
            "2021-11-23 22:13:10,741 : INFO : worker thread finished; awaiting finish of 1 more threads\n",
            "2021-11-23 22:13:10,757 : INFO : worker thread finished; awaiting finish of 0 more threads\n",
            "2021-11-23 22:13:10,758 : INFO : EPOCH - 13 : training on 77231 raw words (56361 effective words) took 0.8s, 75027 effective words/s\n",
            "2021-11-23 22:13:11,396 : INFO : worker thread finished; awaiting finish of 2 more threads\n",
            "2021-11-23 22:13:11,462 : INFO : worker thread finished; awaiting finish of 1 more threads\n",
            "2021-11-23 22:13:11,479 : INFO : worker thread finished; awaiting finish of 0 more threads\n",
            "2021-11-23 22:13:11,480 : INFO : EPOCH - 14 : training on 77231 raw words (56558 effective words) took 0.7s, 79803 effective words/s\n",
            "2021-11-23 22:13:12,125 : INFO : worker thread finished; awaiting finish of 2 more threads\n",
            "2021-11-23 22:13:12,211 : INFO : worker thread finished; awaiting finish of 1 more threads\n",
            "2021-11-23 22:13:12,226 : INFO : worker thread finished; awaiting finish of 0 more threads\n",
            "2021-11-23 22:13:12,228 : INFO : EPOCH - 15 : training on 77231 raw words (56349 effective words) took 0.7s, 76843 effective words/s\n",
            "2021-11-23 22:13:12,883 : INFO : worker thread finished; awaiting finish of 2 more threads\n",
            "2021-11-23 22:13:12,969 : INFO : worker thread finished; awaiting finish of 1 more threads\n",
            "2021-11-23 22:13:12,983 : INFO : worker thread finished; awaiting finish of 0 more threads\n",
            "2021-11-23 22:13:12,985 : INFO : EPOCH - 16 : training on 77231 raw words (56439 effective words) took 0.7s, 76001 effective words/s\n",
            "2021-11-23 22:13:13,656 : INFO : worker thread finished; awaiting finish of 2 more threads\n",
            "2021-11-23 22:13:13,743 : INFO : worker thread finished; awaiting finish of 1 more threads\n",
            "2021-11-23 22:13:13,756 : INFO : worker thread finished; awaiting finish of 0 more threads\n",
            "2021-11-23 22:13:13,757 : INFO : EPOCH - 17 : training on 77231 raw words (56484 effective words) took 0.8s, 75007 effective words/s\n",
            "2021-11-23 22:13:14,422 : INFO : worker thread finished; awaiting finish of 2 more threads\n",
            "2021-11-23 22:13:14,511 : INFO : worker thread finished; awaiting finish of 1 more threads\n",
            "2021-11-23 22:13:14,526 : INFO : worker thread finished; awaiting finish of 0 more threads\n",
            "2021-11-23 22:13:14,528 : INFO : EPOCH - 18 : training on 77231 raw words (56423 effective words) took 0.8s, 74451 effective words/s\n",
            "2021-11-23 22:13:15,160 : INFO : worker thread finished; awaiting finish of 2 more threads\n",
            "2021-11-23 22:13:15,244 : INFO : worker thread finished; awaiting finish of 1 more threads\n",
            "2021-11-23 22:13:15,251 : INFO : worker thread finished; awaiting finish of 0 more threads\n",
            "2021-11-23 22:13:15,253 : INFO : EPOCH - 19 : training on 77231 raw words (56326 effective words) took 0.7s, 78969 effective words/s\n",
            "2021-11-23 22:13:15,930 : INFO : worker thread finished; awaiting finish of 2 more threads\n",
            "2021-11-23 22:13:16,011 : INFO : worker thread finished; awaiting finish of 1 more threads\n",
            "2021-11-23 22:13:16,026 : INFO : worker thread finished; awaiting finish of 0 more threads\n",
            "2021-11-23 22:13:16,027 : INFO : EPOCH - 20 : training on 77231 raw words (56367 effective words) took 0.8s, 74118 effective words/s\n",
            "2021-11-23 22:13:16,702 : INFO : worker thread finished; awaiting finish of 2 more threads\n",
            "2021-11-23 22:13:16,794 : INFO : worker thread finished; awaiting finish of 1 more threads\n",
            "2021-11-23 22:13:16,812 : INFO : worker thread finished; awaiting finish of 0 more threads\n",
            "2021-11-23 22:13:16,814 : INFO : EPOCH - 21 : training on 77231 raw words (56646 effective words) took 0.8s, 73939 effective words/s\n",
            "2021-11-23 22:13:17,488 : INFO : worker thread finished; awaiting finish of 2 more threads\n",
            "2021-11-23 22:13:17,576 : INFO : worker thread finished; awaiting finish of 1 more threads\n",
            "2021-11-23 22:13:17,593 : INFO : worker thread finished; awaiting finish of 0 more threads\n",
            "2021-11-23 22:13:17,595 : INFO : EPOCH - 22 : training on 77231 raw words (56426 effective words) took 0.8s, 73598 effective words/s\n",
            "2021-11-23 22:13:18,240 : INFO : worker thread finished; awaiting finish of 2 more threads\n",
            "2021-11-23 22:13:18,319 : INFO : worker thread finished; awaiting finish of 1 more threads\n",
            "2021-11-23 22:13:18,335 : INFO : worker thread finished; awaiting finish of 0 more threads\n",
            "2021-11-23 22:13:18,337 : INFO : EPOCH - 23 : training on 77231 raw words (56414 effective words) took 0.7s, 77418 effective words/s\n",
            "2021-11-23 22:13:18,967 : INFO : worker thread finished; awaiting finish of 2 more threads\n",
            "2021-11-23 22:13:19,049 : INFO : worker thread finished; awaiting finish of 1 more threads\n",
            "2021-11-23 22:13:19,070 : INFO : worker thread finished; awaiting finish of 0 more threads\n",
            "2021-11-23 22:13:19,071 : INFO : EPOCH - 24 : training on 77231 raw words (56447 effective words) took 0.7s, 78324 effective words/s\n",
            "2021-11-23 22:13:19,730 : INFO : worker thread finished; awaiting finish of 2 more threads\n",
            "2021-11-23 22:13:19,819 : INFO : worker thread finished; awaiting finish of 1 more threads\n",
            "2021-11-23 22:13:19,836 : INFO : worker thread finished; awaiting finish of 0 more threads\n",
            "2021-11-23 22:13:19,837 : INFO : EPOCH - 25 : training on 77231 raw words (56541 effective words) took 0.7s, 75764 effective words/s\n",
            "2021-11-23 22:13:20,433 : INFO : worker thread finished; awaiting finish of 2 more threads\n",
            "2021-11-23 22:13:20,514 : INFO : worker thread finished; awaiting finish of 1 more threads\n",
            "2021-11-23 22:13:20,530 : INFO : worker thread finished; awaiting finish of 0 more threads\n",
            "2021-11-23 22:13:20,532 : INFO : EPOCH - 26 : training on 77231 raw words (56527 effective words) took 0.7s, 83380 effective words/s\n",
            "2021-11-23 22:13:21,159 : INFO : worker thread finished; awaiting finish of 2 more threads\n",
            "2021-11-23 22:13:21,250 : INFO : worker thread finished; awaiting finish of 1 more threads\n",
            "2021-11-23 22:13:21,263 : INFO : worker thread finished; awaiting finish of 0 more threads\n",
            "2021-11-23 22:13:21,265 : INFO : EPOCH - 27 : training on 77231 raw words (56549 effective words) took 0.7s, 78455 effective words/s\n",
            "2021-11-23 22:13:21,885 : INFO : worker thread finished; awaiting finish of 2 more threads\n",
            "2021-11-23 22:13:21,966 : INFO : worker thread finished; awaiting finish of 1 more threads\n",
            "2021-11-23 22:13:21,980 : INFO : worker thread finished; awaiting finish of 0 more threads\n",
            "2021-11-23 22:13:21,982 : INFO : EPOCH - 28 : training on 77231 raw words (56500 effective words) took 0.7s, 80362 effective words/s\n",
            "2021-11-23 22:13:22,657 : INFO : worker thread finished; awaiting finish of 2 more threads\n",
            "2021-11-23 22:13:22,750 : INFO : worker thread finished; awaiting finish of 1 more threads\n",
            "2021-11-23 22:13:22,768 : INFO : worker thread finished; awaiting finish of 0 more threads\n",
            "2021-11-23 22:13:22,769 : INFO : EPOCH - 29 : training on 77231 raw words (56529 effective words) took 0.8s, 73257 effective words/s\n",
            "2021-11-23 22:13:23,437 : INFO : worker thread finished; awaiting finish of 2 more threads\n",
            "2021-11-23 22:13:23,522 : INFO : worker thread finished; awaiting finish of 1 more threads\n",
            "2021-11-23 22:13:23,539 : INFO : worker thread finished; awaiting finish of 0 more threads\n",
            "2021-11-23 22:13:23,541 : INFO : EPOCH - 30 : training on 77231 raw words (56593 effective words) took 0.8s, 74673 effective words/s\n",
            "2021-11-23 22:13:24,219 : INFO : worker thread finished; awaiting finish of 2 more threads\n",
            "2021-11-23 22:13:24,308 : INFO : worker thread finished; awaiting finish of 1 more threads\n",
            "2021-11-23 22:13:24,322 : INFO : worker thread finished; awaiting finish of 0 more threads\n",
            "2021-11-23 22:13:24,323 : INFO : EPOCH - 31 : training on 77231 raw words (56509 effective words) took 0.8s, 74053 effective words/s\n",
            "2021-11-23 22:13:24,958 : INFO : worker thread finished; awaiting finish of 2 more threads\n",
            "2021-11-23 22:13:25,043 : INFO : worker thread finished; awaiting finish of 1 more threads\n",
            "2021-11-23 22:13:25,063 : INFO : worker thread finished; awaiting finish of 0 more threads\n",
            "2021-11-23 22:13:25,064 : INFO : EPOCH - 32 : training on 77231 raw words (56602 effective words) took 0.7s, 77770 effective words/s\n",
            "2021-11-23 22:13:25,686 : INFO : worker thread finished; awaiting finish of 2 more threads\n",
            "2021-11-23 22:13:25,780 : INFO : worker thread finished; awaiting finish of 1 more threads\n",
            "2021-11-23 22:13:25,794 : INFO : worker thread finished; awaiting finish of 0 more threads\n",
            "2021-11-23 22:13:25,796 : INFO : EPOCH - 33 : training on 77231 raw words (56506 effective words) took 0.7s, 78936 effective words/s\n",
            "2021-11-23 22:13:26,454 : INFO : worker thread finished; awaiting finish of 2 more threads\n",
            "2021-11-23 22:13:26,525 : INFO : worker thread finished; awaiting finish of 1 more threads\n",
            "2021-11-23 22:13:26,542 : INFO : worker thread finished; awaiting finish of 0 more threads\n",
            "2021-11-23 22:13:26,544 : INFO : EPOCH - 34 : training on 77231 raw words (56617 effective words) took 0.7s, 77082 effective words/s\n",
            "2021-11-23 22:13:27,200 : INFO : worker thread finished; awaiting finish of 2 more threads\n",
            "2021-11-23 22:13:27,283 : INFO : worker thread finished; awaiting finish of 1 more threads\n",
            "2021-11-23 22:13:27,293 : INFO : worker thread finished; awaiting finish of 0 more threads\n",
            "2021-11-23 22:13:27,294 : INFO : EPOCH - 35 : training on 77231 raw words (56505 effective words) took 0.7s, 76562 effective words/s\n",
            "2021-11-23 22:13:27,919 : INFO : worker thread finished; awaiting finish of 2 more threads\n",
            "2021-11-23 22:13:27,996 : INFO : worker thread finished; awaiting finish of 1 more threads\n",
            "2021-11-23 22:13:28,012 : INFO : worker thread finished; awaiting finish of 0 more threads\n",
            "2021-11-23 22:13:28,013 : INFO : EPOCH - 36 : training on 77231 raw words (56494 effective words) took 0.7s, 79814 effective words/s\n",
            "2021-11-23 22:13:28,619 : INFO : worker thread finished; awaiting finish of 2 more threads\n",
            "2021-11-23 22:13:28,702 : INFO : worker thread finished; awaiting finish of 1 more threads\n",
            "2021-11-23 22:13:28,714 : INFO : worker thread finished; awaiting finish of 0 more threads\n",
            "2021-11-23 22:13:28,715 : INFO : EPOCH - 37 : training on 77231 raw words (56569 effective words) took 0.7s, 82025 effective words/s\n",
            "2021-11-23 22:13:29,382 : INFO : worker thread finished; awaiting finish of 2 more threads\n",
            "2021-11-23 22:13:29,458 : INFO : worker thread finished; awaiting finish of 1 more threads\n",
            "2021-11-23 22:13:29,474 : INFO : worker thread finished; awaiting finish of 0 more threads\n",
            "2021-11-23 22:13:29,475 : INFO : EPOCH - 38 : training on 77231 raw words (56277 effective words) took 0.7s, 75221 effective words/s\n",
            "2021-11-23 22:13:30,130 : INFO : worker thread finished; awaiting finish of 2 more threads\n",
            "2021-11-23 22:13:30,210 : INFO : worker thread finished; awaiting finish of 1 more threads\n",
            "2021-11-23 22:13:30,230 : INFO : worker thread finished; awaiting finish of 0 more threads\n",
            "2021-11-23 22:13:30,231 : INFO : EPOCH - 39 : training on 77231 raw words (56540 effective words) took 0.7s, 76111 effective words/s\n",
            "2021-11-23 22:13:30,896 : INFO : worker thread finished; awaiting finish of 2 more threads\n",
            "2021-11-23 22:13:30,981 : INFO : worker thread finished; awaiting finish of 1 more threads\n",
            "2021-11-23 22:13:30,990 : INFO : worker thread finished; awaiting finish of 0 more threads\n",
            "2021-11-23 22:13:30,991 : INFO : EPOCH - 40 : training on 77231 raw words (56318 effective words) took 0.7s, 75771 effective words/s\n",
            "2021-11-23 22:13:30,995 : INFO : Doc2Vec lifecycle event {'msg': 'training on 3089240 raw words (2259475 effective words) took 30.2s, 74916 effective words/s', 'datetime': '2021-11-23T22:13:30.995836', 'gensim': '4.1.2', 'python': '3.7.12 (default, Sep 10 2021, 00:21:48) \\n[GCC 7.5.0]', 'platform': 'Linux-5.4.104+-x86_64-with-Ubuntu-18.04-bionic', 'event': 'train'}\n",
            "2021-11-23 22:13:30,999 : INFO : Doc2Vec lifecycle event {'params': 'Doc2Vec(dm/m,d100,n10,w4,s0.001,t3)', 'datetime': '2021-11-23T22:13:30.999544', 'gensim': '4.1.2', 'python': '3.7.12 (default, Sep 10 2021, 00:21:48) \\n[GCC 7.5.0]', 'platform': 'Linux-5.4.104+-x86_64-with-Ubuntu-18.04-bionic', 'event': 'created'}\n"
          ]
        }
      ]
    },
    {
      "cell_type": "code",
      "metadata": {
        "id": "G-cE7gug1Ct5"
      },
      "source": [
        "if use_wandb:\n",
        "  model_artifact = wandb.Artifact(\n",
        "      \"trained-model\", \n",
        "      type=\"model\",\n",
        "      description=\"Doc2Vec model\",\n",
        "      metadata=\"\")\n",
        "\n",
        "  fname = 'doc2vec.model'\n",
        "  model.save(fname)\n",
        "\n",
        "  model_artifact.add_file(fname)\n",
        "  wandb.log_artifact(model_artifact)"
      ],
      "execution_count": 80,
      "outputs": []
    },
    {
      "cell_type": "markdown",
      "metadata": {
        "id": "jJvq2K93xAO5"
      },
      "source": [
        "### Test the distance between C and the diatonic chords\n",
        "\n",
        "Test if the model can capture that the diatonic chords are closer to the root.\n",
        "\n",
        "Do this only if the input corpus contains the unigrams. "
      ]
    },
    {
      "cell_type": "code",
      "metadata": {
        "id": "cH3TJxCfvoFm"
      },
      "source": [
        "test_tokens = ['C',\n",
        "              'Dm',\n",
        "              'Em',\n",
        "              'F',\n",
        "              'G7',\n",
        "              'Am',\n",
        "              'Bm7b5',\n",
        "              'F7',\n",
        "              'D7',\n",
        "              'A7',\n",
        "              'E7',\n",
        "              'B7',\n",
        "              'F#7',\n",
        "               'Cm',\n",
        "               'D']\n",
        "\n",
        "if 1 in ngrams_for_input:\n",
        "  ref = 'C'\n",
        "  for t in test_tokens:\n",
        "    print(f\"{model.wv.similarity(ref, t):.3f}: {ref} <-> {t}\")"
      ],
      "execution_count": 81,
      "outputs": []
    },
    {
      "cell_type": "code",
      "metadata": {
        "id": "IfIRoWL4kpcB"
      },
      "source": [
        "if 1 in ngrams_for_input:\n",
        "  model.wv.similar_by_word('C', topn=20)"
      ],
      "execution_count": 82,
      "outputs": []
    },
    {
      "cell_type": "markdown",
      "metadata": {
        "id": "ix4n9S3_xQzD"
      },
      "source": [
        "Plot the generated word vectors in 2D space"
      ]
    },
    {
      "cell_type": "code",
      "metadata": {
        "id": "JjT_uNh0wthj"
      },
      "source": [
        "from sklearn.manifold import TSNE\n",
        "\n",
        "# input data: vectors for all tokens\n",
        "weights = model.wv.vectors\n",
        "\n",
        "# only do this when the vocabulary is not too big....\n",
        "if len(weights) < 100:\n",
        "\n",
        "  # do T-SNE\n",
        "  tsne = TSNE(n_components=2, \n",
        "              random_state=42,\n",
        "              perplexity=30,\n",
        "              learning_rate='auto',\n",
        "              init='pca',\n",
        "              n_iter=2000\n",
        "              )\n",
        "  T = tsne.fit_transform(weights)\n",
        "\n",
        "  # plot\n",
        "  projected = pd.DataFrame(T)\n",
        "\n",
        "  fig = px.scatter(\n",
        "      projected, \n",
        "      x=0, y=1,\n",
        "      #color='mode',\n",
        "      text=model.wv.index_to_key,\n",
        "      width=800, height=600,\n",
        "      title=\"T-SNE applied to Chord Vectors for Tunes in Cmaj/Amin\"\n",
        "  )\n",
        "  fig.update_traces(textposition='top center')\n",
        "  fig.update_traces(textfont_size=12, selector=dict(type='scatter'))\n",
        "  fig.show()"
      ],
      "execution_count": 83,
      "outputs": []
    },
    {
      "cell_type": "markdown",
      "metadata": {
        "id": "ajqb904KDwNV"
      },
      "source": [
        "## Section Similarity\n"
      ]
    },
    {
      "cell_type": "markdown",
      "metadata": {
        "id": "HS_k1g6ujjKP"
      },
      "source": [
        "### Single Tunes"
      ]
    },
    {
      "cell_type": "code",
      "metadata": {
        "id": "mPnEPL_k4TZn"
      },
      "source": [
        "def get_section_scores_doc2vec(tunes):\n",
        "\n",
        "    df_sim = pd.DataFrame(columns=['reference_title',\n",
        "                                  'similar_title',\n",
        "                                  'ref_section', \n",
        "                                  'similar_section', \n",
        "                                  'score', \n",
        "                                  ])\n",
        "\n",
        "    for tune in tunes:\n",
        "      print()\n",
        "      print(\"-\"*50)\n",
        "      for s1 in title_to_sectionid[tune]:\n",
        "      \n",
        "          # sections are tagged with the numeric sectionid and can be used for querying\n",
        "          sims = model.dv.similar_by_key(s1, topn=40)\n",
        "          \n",
        "          print(s1, sectionid_to_section[s1])\n",
        "          n = 0\n",
        "          for s2, s2_score in sims:\n",
        "              if type(s2) == int:  # only consider similarities to sectionids; tuneids are strings\n",
        "                  # don't count self-similarity between sections of the same tune\n",
        "                  if s2 not in title_to_sectionid[tune]:\n",
        "                      n += 1\n",
        "                  \n",
        "                      # print(f\"\\t{s2_score:.3f} {sectionid_to_section[s2]}\")\n",
        "\n",
        "                      df_sim.loc[len(df_sim)] = [tune,\n",
        "                                      sectionid_to_title[s2],\n",
        "                                      sectionid_to_section[s1], \n",
        "                                      sectionid_to_section[s2], \n",
        "                                      s2_score, \n",
        "                                      ]\n",
        "    return df_sim"
      ],
      "execution_count": 84,
      "outputs": []
    },
    {
      "cell_type": "code",
      "metadata": {
        "colab": {
          "base_uri": "https://localhost:8080/"
        },
        "id": "i_d92il649O9",
        "outputId": "d41e35a6-6935-40d4-cddd-362e4822baa1"
      },
      "source": [
        "df_section_sim = get_section_scores_doc2vec(tunes_eval_list)\n",
        "df_word2vec = df_section_sim[:]"
      ],
      "execution_count": 85,
      "outputs": [
        {
          "output_type": "stream",
          "name": "stdout",
          "text": [
            "\n",
            "--------------------------------------------------\n",
            "125 After You've Gone, section1 (A)\n",
            "126 After You've Gone, section2 (B)\n",
            "127 After You've Gone, section3 (A)\n",
            "128 After You've Gone, section4 (C)\n",
            "\n",
            "--------------------------------------------------\n",
            "188 All God's Chillun Got Rhythm, section1 (A)\n",
            "189 All God's Chillun Got Rhythm, section2 (B)\n",
            "190 All God's Chillun Got Rhythm, section3 (A)\n",
            "191 All God's Chillun Got Rhythm, section4 (C)\n",
            "\n",
            "--------------------------------------------------\n",
            "198 All Of Me, section1 (A)\n",
            "199 All Of Me, section2 (B)\n",
            "200 All Of Me, section3 (A)\n",
            "201 All Of Me, section4 (C)\n",
            "\n",
            "--------------------------------------------------\n",
            "474 Blood Count, section1 (A)\n",
            "475 Blood Count, section2 (A)\n",
            "476 Blood Count, section3 (B)\n",
            "477 Blood Count, section4 (A)\n",
            "478 Blood Count, section5 (C)\n",
            "\n",
            "--------------------------------------------------\n",
            "496 Blue Moon, section1 (A)\n",
            "497 Blue Moon, section2 (A)\n",
            "498 Blue Moon, section3 (B)\n",
            "499 Blue Moon, section4 (A)\n",
            "\n",
            "--------------------------------------------------\n",
            "626 But Beautiful, section1 (A)\n",
            "627 But Beautiful, section2 (B)\n",
            "628 But Beautiful, section3 (A)\n",
            "629 But Beautiful, section4 (C)\n",
            "\n",
            "--------------------------------------------------\n",
            "653 Bye Bye Blackbird, section1 (A)\n",
            "654 Bye Bye Blackbird, section2 (B)\n",
            "4559 Bye Bye Blackbird, section1 (A)\n",
            "\n",
            "--------------------------------------------------\n",
            "676 Call Me Irresponsible, section1 (A)\n",
            "677 Call Me Irresponsible, section2 (B)\n",
            "678 Call Me Irresponsible, section3 (A)\n",
            "679 Call Me Irresponsible, section4 (B)\n",
            "\n",
            "--------------------------------------------------\n",
            "826 Corcovado, section1 (A)\n",
            "827 Corcovado, section2 (B)\n",
            "828 Corcovado, section3 (A)\n",
            "829 Corcovado, section4 (C)\n",
            "\n",
            "--------------------------------------------------\n",
            "997 Dinah, section1 (A)\n",
            "998 Dinah, section2 (A)\n",
            "999 Dinah, section3 (B)\n",
            "1000 Dinah, section4 (A)\n",
            "\n",
            "--------------------------------------------------\n",
            "1125 East Of The Sun, section1 (A)\n",
            "1126 East Of The Sun, section2 (B)\n",
            "1127 East Of The Sun, section3 (A)\n",
            "1128 East Of The Sun, section4 (C)\n",
            "\n",
            "--------------------------------------------------\n",
            "1287 Footprints, section0 (nan)\n",
            "\n",
            "--------------------------------------------------\n",
            "1379 Giant Steps, section0 (nan)\n",
            "\n",
            "--------------------------------------------------\n",
            "1538 Honeysuckle Rose, section1 (A)\n",
            "1539 Honeysuckle Rose, section2 (A)\n",
            "1540 Honeysuckle Rose, section3 (B)\n",
            "1541 Honeysuckle Rose, section4 (A)\n",
            "4781 Honeysuckle Rose, section1 (A)\n",
            "4782 Honeysuckle Rose, section2 (A)\n",
            "4783 Honeysuckle Rose, section3 (B)\n",
            "4784 Honeysuckle Rose, section4 (A)\n",
            "\n",
            "--------------------------------------------------\n",
            "1647 I Got Rhythm, section1 (A)\n",
            "1648 I Got Rhythm, section2 (A)\n",
            "1649 I Got Rhythm, section3 (B)\n",
            "1650 I Got Rhythm, section4 (A)\n",
            "4809 I Got Rhythm, section1 (A)\n",
            "4810 I Got Rhythm, section2 (A)\n",
            "4811 I Got Rhythm, section3 (B)\n",
            "4812 I Got Rhythm, section4 (A)\n",
            "\n",
            "--------------------------------------------------\n",
            "2670 Misty, section1 (A)\n",
            "2671 Misty, section2 (A)\n",
            "2672 Misty, section3 (B)\n",
            "2673 Misty, section4 (A)\n",
            "\n",
            "--------------------------------------------------\n",
            "2857 Naima, section1 (A)\n",
            "2858 Naima, section2 (A)\n",
            "2859 Naima, section3 (B)\n",
            "2860 Naima, section4 (A)\n",
            "\n",
            "--------------------------------------------------\n",
            "5044 Old Fashioned Love, section0 (nan)\n",
            "\n",
            "--------------------------------------------------\n",
            "3142 Perdido, section1 (A)\n",
            "3143 Perdido, section2 (A)\n",
            "3144 Perdido, section3 (B)\n",
            "3145 Perdido, section4 (A)\n",
            "\n",
            "--------------------------------------------------\n",
            "3276 Rockin' Chair, section1 (A)\n",
            "3277 Rockin' Chair, section2 (B)\n",
            "3278 Rockin' Chair, section3 (A)\n",
            "5110 Rockin' Chair, section1 (A)\n",
            "5111 Rockin' Chair, section2 (B)\n",
            "5112 Rockin' Chair, section3 (A)\n",
            "\n",
            "--------------------------------------------------\n",
            "3578 Sophisticated Lady, section1 (A)\n",
            "3579 Sophisticated Lady, section2 (A)\n",
            "3580 Sophisticated Lady, section3 (B)\n",
            "3581 Sophisticated Lady, section4 (A)\n",
            "\n",
            "--------------------------------------------------\n",
            "3746 Sweet Sue, Just You, section1 (A)\n",
            "3747 Sweet Sue, Just You, section2 (A)\n",
            "3748 Sweet Sue, Just You, section3 (B)\n",
            "3749 Sweet Sue, Just You, section4 (A)\n",
            "\n",
            "--------------------------------------------------\n",
            "3860 These Foolish Things, section1 (A)\n",
            "3861 These Foolish Things, section2 (A)\n",
            "3862 These Foolish Things, section3 (B)\n",
            "3863 These Foolish Things, section4 (A)\n",
            "\n",
            "--------------------------------------------------\n",
            "4146 We'll Be Together Again, section1 (A)\n",
            "4147 We'll Be Together Again, section2 (A)\n",
            "4148 We'll Be Together Again, section3 (B)\n",
            "4149 We'll Be Together Again, section4 (A)\n"
          ]
        }
      ]
    },
    {
      "cell_type": "code",
      "metadata": {
        "colab": {
          "base_uri": "https://localhost:8080/",
          "height": 542
        },
        "id": "n4dv7VVe5NT4",
        "outputId": "e0d64e3d-7fa6-4aad-8ffe-4a481aef2b4c"
      },
      "source": [
        "import plotly.express as px\n",
        "fig = px.histogram(df_section_sim, x=\"score\", nbins=50, title='doc2vec sections')\n",
        "fig.show()"
      ],
      "execution_count": 86,
      "outputs": [
        {
          "output_type": "display_data",
          "data": {
            "text/html": [
              "<html>\n",
              "<head><meta charset=\"utf-8\" /></head>\n",
              "<body>\n",
              "    <div>\n",
              "            <script src=\"https://cdnjs.cloudflare.com/ajax/libs/mathjax/2.7.5/MathJax.js?config=TeX-AMS-MML_SVG\"></script><script type=\"text/javascript\">if (window.MathJax) {MathJax.Hub.Config({SVG: {font: \"STIX-Web\"}});}</script>\n",
              "                <script type=\"text/javascript\">window.PlotlyConfig = {MathJaxConfig: 'local'};</script>\n",
              "        <script src=\"https://cdn.plot.ly/plotly-latest.min.js\"></script>    \n",
              "            <div id=\"bcd4c892-a237-47d9-8b23-60bbc2660205\" class=\"plotly-graph-div\" style=\"height:525px; width:100%;\"></div>\n",
              "            <script type=\"text/javascript\">\n",
              "                \n",
              "                    window.PLOTLYENV=window.PLOTLYENV || {};\n",
              "                    \n",
              "                if (document.getElementById(\"bcd4c892-a237-47d9-8b23-60bbc2660205\")) {\n",
              "                    Plotly.newPlot(\n",
              "                        'bcd4c892-a237-47d9-8b23-60bbc2660205',\n",
              "                        [{\"alignmentgroup\": \"True\", \"bingroup\": \"x\", \"hoverlabel\": {\"namelength\": 0}, \"hovertemplate\": \"score=%{x}<br>count=%{y}\", \"legendgroup\": \"\", \"marker\": {\"color\": \"#636efa\"}, \"name\": \"\", \"nbinsx\": 50, \"offsetgroup\": \"\", \"orientation\": \"v\", \"showlegend\": false, \"type\": \"histogram\", \"x\": [0.8183333277702332, 0.8071955442428589, 0.8024521470069885, 0.802186131477356, 0.7983882427215576, 0.7888014316558838, 0.7849870920181274, 0.7800710797309875, 0.7751826047897339, 0.7724623084068298, 0.7720145583152771, 0.7717800736427307, 0.768143355846405, 0.7680051326751709, 0.7675713300704956, 0.7622251510620117, 0.7597095966339111, 0.7538678646087646, 0.7522768974304199, 0.752119243144989, 0.7506194710731506, 0.748901903629303, 0.746951699256897, 0.7382425665855408, 0.7370812296867371, 0.7369036078453064, 0.7366402745246887, 0.7501986026763916, 0.700680136680603, 0.676372766494751, 0.6472262740135193, 0.6444579362869263, 0.6400092840194702, 0.6398162245750427, 0.6397669315338135, 0.624530553817749, 0.623906135559082, 0.6231058239936829, 0.6209338903427124, 0.6205925941467285, 0.6094049215316772, 0.6085716485977173, 0.6065060496330261, 0.5981916785240173, 0.5973958969116211, 0.5972867608070374, 0.5967197418212891, 0.5958794951438904, 0.5946832299232483, 0.5925718545913696, 0.5913955569267273, 0.5910733938217163, 0.5885941982269287, 0.588224470615387, 0.5881252884864807, 0.5810120701789856, 0.5778390765190125, 0.5777473449707031, 0.5765355229377747, 0.5762037634849548, 0.8066699504852295, 0.7489539384841919, 0.7289883494377136, 0.7163035273551941, 0.7086261510848999, 0.7041625380516052, 0.6941373348236084, 0.6891049742698669, 0.6870590448379517, 0.6783971190452576, 0.672713577747345, 0.6676291227340698, 0.665114164352417, 0.6616820096969604, 0.6607640385627747, 0.6566348075866699, 0.6551952362060547, 0.654744029045105, 0.6540411114692688, 0.6530438661575317, 0.6520512104034424, 0.6504666209220886, 0.6491708159446716, 0.6487188935279846, 0.648639440536499, 0.6473025679588318, 0.6471012830734253, 0.6422635912895203, 0.6419938802719116, 0.6407553553581238, 0.6099015474319458, 0.5984210968017578, 0.5963175892829895, 0.5893250703811646, 0.5829480290412903, 0.5725510120391846, 0.5714287161827087, 0.566228985786438, 0.5643415451049805, 0.5595934987068176, 0.542217493057251, 0.541171133518219, 0.5371394157409668, 0.5330682396888733, 0.5295810699462891, 0.5295657515525818, 0.524115800857544, 0.5239354372024536, 0.518386960029602, 0.5119506120681763, 0.5078961253166199, 0.5076894164085388, 0.5066604614257812, 0.5039872527122498, 0.49971166253089905, 0.49825090169906616, 0.4968912601470947, 0.4967701733112335, 0.4942396581172943, 0.49344345927238464, 0.49089130759239197, 0.9292386770248413, 0.89324551820755, 0.8735870718955994, 0.8668529987335205, 0.8637728691101074, 0.8633185625076294, 0.8579530119895935, 0.8504785299301147, 0.8466780185699463, 0.8448112607002258, 0.8430277705192566, 0.8390524983406067, 0.8385199904441833, 0.8337618112564087, 0.8337474465370178, 0.8324708938598633, 0.8306159973144531, 0.830402672290802, 0.8252258896827698, 0.8231355547904968, 0.8211362957954407, 0.817581295967102, 0.8121539354324341, 0.8083633184432983, 0.6060791015625, 0.6015620231628418, 0.5356141328811646, 0.522179365158081, 0.509730875492096, 0.5027172565460205, 0.500791609287262, 0.49994146823883057, 0.4983735978603363, 0.4753471314907074, 0.47078949213027954, 0.4588389992713928, 0.4536797106266022, 0.4491807818412781, 0.4442315101623535, 0.43466365337371826, 0.4346368908882141, 0.4306182861328125, 0.4305068850517273, 0.4258376955986023, 0.42568281292915344, 0.4247642755508423, 0.4200696051120758, 0.41963595151901245, 0.4149698317050934, 0.40961897373199463, 0.40659692883491516, 0.4062820076942444, 0.4043237566947937, 0.4030879735946655, 0.3973793387413025, 0.3925860822200775, 0.38765740394592285, 0.38695621490478516, 0.37975940108299255, 0.3779754340648651, 0.3776206076145172, 0.37202680110931396, 0.3714025616645813, 0.8749353885650635, 0.8595252633094788, 0.8375675678253174, 0.8319796323776245, 0.8075516223907471, 0.8045540452003479, 0.7985137701034546, 0.7882993221282959, 0.7856646180152893, 0.7832040786743164, 0.7812633514404297, 0.7792674899101257, 0.777690589427948, 0.7774892449378967, 0.7691940069198608, 0.767940104007721, 0.7678360342979431, 0.7632764577865601, 0.7621106505393982, 0.754491925239563, 0.7508100271224976, 0.7503586411476135, 0.793488085269928, 0.7864253520965576, 0.757068932056427, 0.7257749438285828, 0.7059780359268188, 0.7043996453285217, 0.7029980421066284, 0.6970260143280029, 0.6951356530189514, 0.6899595856666565, 0.6809207797050476, 0.6797016859054565, 0.6790614128112793, 0.6672697067260742, 0.6644026637077332, 0.6593338251113892, 0.6575695276260376, 0.6506152153015137, 0.6504195928573608, 0.6455615758895874, 0.6443372368812561, 0.6428647637367249, 0.6421674489974976, 0.6387329697608948, 0.6322153806686401, 0.6271753311157227, 0.6264241337776184, 0.6261009573936462, 0.622197151184082, 0.6192351579666138, 0.8737479448318481, 0.8679701089859009, 0.847848653793335, 0.8419752717018127, 0.8371265530586243, 0.8206102252006531, 0.8149510622024536, 0.8127945065498352, 0.8072811961174011, 0.7938032150268555, 0.7915054559707642, 0.7903421521186829, 0.7866806387901306, 0.7856919169425964, 0.7845974564552307, 0.7778077125549316, 0.775322437286377, 0.7749568223953247, 0.7731443047523499, 0.7729941606521606, 0.7655954360961914, 0.7652225494384766, 0.7610134482383728, 0.7598450183868408, 0.757222592830658, 0.7561074495315552, 0.8534640669822693, 0.8373956084251404, 0.8221369385719299, 0.8105033040046692, 0.8084656000137329, 0.8072246313095093, 0.7990312576293945, 0.7615804672241211, 0.7235602736473083, 0.7130768299102783, 0.699034571647644, 0.6987490653991699, 0.6944483518600464, 0.69075608253479, 0.6898015141487122, 0.6851673126220703, 0.6824973821640015, 0.676181435585022, 0.673619270324707, 0.6697046160697937, 0.6571438312530518, 0.6498320698738098, 0.6482468247413635, 0.6464616656303406, 0.6450645327568054, 0.641171932220459, 0.6394070386886597, 0.6334695816040039, 0.6264073848724365, 0.6232312321662903, 0.622076153755188, 0.6168427467346191, 0.6159327030181885, 0.6136804223060608, 0.612063467502594, 0.6038306951522827, 0.597733736038208, 0.5925527811050415, 0.5869901180267334, 0.5860750675201416, 0.8898128867149353, 0.8647394180297852, 0.8458027839660645, 0.844892144203186, 0.8389759063720703, 0.8375888466835022, 0.834067165851593, 0.8278083801269531, 0.8189086318016052, 0.8103103041648865, 0.8093386888504028, 0.8077865839004517, 0.8067634701728821, 0.8042577505111694, 0.8042302131652832, 0.8010240793228149, 0.7996446490287781, 0.7950893640518188, 0.7942073941230774, 0.7890110611915588, 0.7861464023590088, 0.7855857610702515, 0.7844145894050598, 0.7842537760734558, 0.7820201516151428, 0.7814491391181946, 0.80987149477005, 0.7143999934196472, 0.6704463958740234, 0.6688138842582703, 0.6575037240982056, 0.6532772779464722, 0.6524257063865662, 0.6499778628349304, 0.6482429504394531, 0.6359016299247742, 0.6333008408546448, 0.627079427242279, 0.6221955418586731, 0.6167358756065369, 0.6162102818489075, 0.6141356825828552, 0.6113856434822083, 0.6049799919128418, 0.6009593605995178, 0.6005517840385437, 0.5923066735267639, 0.5835387706756592, 0.5834246873855591, 0.5821342468261719, 0.5816192626953125, 0.5810146331787109, 0.580552875995636, 0.5805115103721619, 0.5803649425506592, 0.5797573328018188, 0.6571774482727051, 0.6086660623550415, 0.5716270208358765, 0.5658887624740601, 0.5652778744697571, 0.5573175549507141, 0.5507754683494568, 0.5502784848213196, 0.5235900282859802, 0.5156003832817078, 0.5009922385215759, 0.495789110660553, 0.4927184581756592, 0.49268195033073425, 0.4918142259120941, 0.4915817677974701, 0.4914989173412323, 0.4913533926010132, 0.4863598644733429, 0.4826919734477997, 0.48030170798301697, 0.47316622734069824, 0.47188428044319153, 0.46888411045074463, 0.4662245512008667, 0.46605226397514343, 0.4650638997554779, 0.4648854434490204, 0.4636337459087372, 0.4628511369228363, 0.8991815447807312, 0.8348814845085144, 0.816114604473114, 0.8122586607933044, 0.788801372051239, 0.7758938074111938, 0.7701219320297241, 0.7646454572677612, 0.7641512155532837, 0.7553209662437439, 0.753578782081604, 0.750856876373291, 0.7426078915596008, 0.7422667145729065, 0.7413164973258972, 0.7378324270248413, 0.7331882119178772, 0.7328145503997803, 0.729871392250061, 0.7233400940895081, 0.72080397605896, 0.717710018157959, 0.717581033706665, 0.7169928550720215, 0.7166152000427246, 0.7130135893821716, 0.7108870148658752, 0.7107155919075012, 0.7085655927658081, 0.7065178155899048, 0.7047979831695557, 0.7031152844429016, 0.7024460434913635, 0.7016088962554932, 0.84305340051651, 0.8062404990196228, 0.8057959675788879, 0.7875115871429443, 0.7759790420532227, 0.7724402546882629, 0.7718216776847839, 0.7646110653877258, 0.7625435590744019, 0.7602877020835876, 0.7565488219261169, 0.7519775629043579, 0.7510966658592224, 0.7500342130661011, 0.7498360872268677, 0.7429444789886475, 0.7388074994087219, 0.7384575009346008, 0.7356736660003662, 0.7342746257781982, 0.7331279516220093, 0.7323683500289917, 0.7307735085487366, 0.7290429472923279, 0.7225251197814941, 0.7954663038253784, 0.7889205813407898, 0.7882011532783508, 0.785040557384491, 0.782930850982666, 0.7755658030509949, 0.7602558732032776, 0.7586245536804199, 0.7465259432792664, 0.7453530430793762, 0.7442775368690491, 0.7418033480644226, 0.740591287612915, 0.7355594038963318, 0.7328263521194458, 0.7164484858512878, 0.7141770720481873, 0.7125741243362427, 0.7096383571624756, 0.7068547606468201, 0.7042250037193298, 0.6980870366096497, 0.6952722668647766, 0.6933354735374451, 0.692541241645813, 0.6917598843574524, 0.6856374740600586, 0.6827880144119263, 0.6813981533050537, 0.6775815486907959, 0.6758946776390076, 0.6599559783935547, 0.6539522409439087, 0.641767680644989, 0.6376094222068787, 0.6368206739425659, 0.6272063255310059, 0.6269609928131104, 0.6235461831092834, 0.6235256195068359, 0.6229632496833801, 0.6226295828819275, 0.6204683184623718, 0.6202152371406555, 0.6185023188591003, 0.6157780289649963, 0.6142605543136597, 0.6120722889900208, 0.6110383868217468, 0.6083182692527771, 0.6066440343856812, 0.6058254837989807, 0.6053661108016968, 0.603834331035614, 0.6030694246292114, 0.600155770778656, 0.6000327467918396, 0.5984723567962646, 0.5983179211616516, 0.5955636501312256, 0.5946186780929565, 0.9233095645904541, 0.908851683139801, 0.9018568992614746, 0.9016969203948975, 0.8986888527870178, 0.8891311287879944, 0.8832224011421204, 0.8828717470169067, 0.8795030117034912, 0.8769671320915222, 0.8757065534591675, 0.8651938438415527, 0.8575835227966309, 0.8552799820899963, 0.8528447151184082, 0.850734531879425, 0.8482398986816406, 0.8473092913627625, 0.8391781449317932, 0.836347758769989, 0.8362155556678772, 0.8350499272346497, 0.8341102004051208, 0.831406831741333, 0.8306159973144531, 0.8265698552131653, 0.8262450695037842, 0.8477415442466736, 0.8140888810157776, 0.8103199005126953, 0.8078786134719849, 0.8000180721282959, 0.7983618974685669, 0.7937453389167786, 0.7915158867835999, 0.7908481359481812, 0.7905315160751343, 0.7888172268867493, 0.7874900698661804, 0.7870807647705078, 0.7866247892379761, 0.7851296663284302, 0.7849451303482056, 0.7807499766349792, 0.7783802151679993, 0.7774621248245239, 0.7770603895187378, 0.7762084007263184, 0.7760508060455322, 0.7756115794181824, 0.7750893235206604, 0.7741328477859497, 0.7731265425682068, 0.7729798555374146, 0.7727319002151489, 0.5826622247695923, 0.5046858787536621, 0.46120399236679077, 0.45472437143325806, 0.4476759433746338, 0.43390408158302307, 0.4172261953353882, 0.4139731228351593, 0.4086828827857971, 0.395511656999588, 0.38052117824554443, 0.37246182560920715, 0.3701205253601074, 0.36095231771469116, 0.3578244149684906, 0.35614505410194397, 0.34396201372146606, 0.34391558170318604, 0.3387714922428131, 0.3385600447654724, 0.3338104486465454, 0.3283221125602722, 0.316559374332428, 0.3146454095840454, 0.3092077076435089, 0.3034729063510895, 0.3025018572807312, 0.29789796471595764, 0.2974528670310974, 0.2951235771179199, 0.2946253716945648, 0.2927664518356323, 0.29098811745643616, 0.2906600534915924, 0.2875992953777313, 0.2813314199447632, 0.2797226309776306, 0.279636025428772, 0.27874237298965454, 0.276867151260376, 0.9249002933502197, 0.909191906452179, 0.896013617515564, 0.8948948979377747, 0.8869988918304443, 0.8862095475196838, 0.8843518495559692, 0.8758423328399658, 0.8756112456321716, 0.8711147308349609, 0.8632810115814209, 0.8604731559753418, 0.8593876361846924, 0.8579531311988831, 0.8559515476226807, 0.8505577445030212, 0.848015546798706, 0.840042769908905, 0.8391696214675903, 0.8387811779975891, 0.8384798169136047, 0.8355996608734131, 0.8342896103858948, 0.8275122046470642, 0.8261460661888123, 0.8260202407836914, 0.8286566734313965, 0.7780246138572693, 0.7531020641326904, 0.7495655417442322, 0.7490090131759644, 0.7440773844718933, 0.7439667582511902, 0.7425777316093445, 0.7392055988311768, 0.7285846471786499, 0.7244296669960022, 0.7226386666297913, 0.7218530774116516, 0.7209751009941101, 0.7195101976394653, 0.7156134843826294, 0.7155340909957886, 0.7120592594146729, 0.7096444964408875, 0.7088139653205872, 0.7061150074005127, 0.7049685120582581, 0.8353516459465027, 0.8049224019050598, 0.7776298522949219, 0.7620197534561157, 0.7555996775627136, 0.7547881007194519, 0.7536019086837769, 0.7505564093589783, 0.7325389981269836, 0.7238820195198059, 0.7182401418685913, 0.7161104083061218, 0.7111706137657166, 0.707878053188324, 0.7073140740394592, 0.7064142823219299, 0.7047415375709534, 0.7023394107818604, 0.70162034034729, 0.6984606385231018, 0.6959632039070129, 0.6947884559631348, 0.6930708289146423, 0.6891142129898071, 0.6875994801521301, 0.6863014101982117, 0.6862003803253174, 0.6830073595046997, 0.6821357011795044, 0.6819729804992676, 0.6814068555831909, 0.8282991051673889, 0.7751310467720032, 0.7636875510215759, 0.7588995695114136, 0.7519358992576599, 0.7354651689529419, 0.7339707612991333, 0.7307693362236023, 0.7286459803581238, 0.7281956672668457, 0.7280550599098206, 0.7275646924972534, 0.724132776260376, 0.7231128215789795, 0.7205738425254822, 0.718468964099884, 0.7177491188049316, 0.7129904627799988, 0.7126202583312988, 0.7100526094436646, 0.7099205255508423, 0.7095013856887817, 0.70750492811203, 0.7074743509292603, 0.7067686915397644, 0.5150653123855591, 0.49694666266441345, 0.49612629413604736, 0.49373576045036316, 0.4892357885837555, 0.48307204246520996, 0.4746704697608948, 0.4695464074611664, 0.4641956686973572, 0.4595258831977844, 0.43854251503944397, 0.4385334551334381, 0.42515894770622253, 0.4247124195098877, 0.41998055577278137, 0.414806991815567, 0.4042883515357971, 0.40072330832481384, 0.399118036031723, 0.39815112948417664, 0.39576196670532227, 0.3932304382324219, 0.3903505206108093, 0.3897623121738434, 0.3888113498687744, 0.38721081614494324, 0.3836403489112854, 0.38355791568756104, 0.37871232628822327, 0.37804052233695984, 0.37450024485588074, 0.37190309166908264, 0.3711692988872528, 0.37090492248535156, 0.37090444564819336, 0.3678686022758484, 0.36777228116989136, 0.36111828684806824, 0.8409730792045593, 0.8219670057296753, 0.8096675276756287, 0.786557674407959, 0.7806780338287354, 0.7748115062713623, 0.7746937870979309, 0.7643651366233826, 0.7613261342048645, 0.7540516257286072, 0.7458660006523132, 0.7449079751968384, 0.7422547936439514, 0.7403878569602966, 0.7400387525558472, 0.7390438318252563, 0.7381336092948914, 0.7358841300010681, 0.7343779802322388, 0.7318941950798035, 0.7294408082962036, 0.7279425263404846, 0.72648686170578, 0.725439727306366, 0.7248615622520447, 0.7228189706802368, 0.7198449969291687, 0.7169488072395325, 0.716262698173523, 0.7136893272399902, 0.7132985591888428, 0.8624523282051086, 0.8550739288330078, 0.8490815758705139, 0.840119481086731, 0.8367188572883606, 0.8359090685844421, 0.8342980742454529, 0.8282743096351624, 0.8277457356452942, 0.8271616101264954, 0.8187621235847473, 0.8163186311721802, 0.8138043284416199, 0.8134101629257202, 0.8120022416114807, 0.8100669384002686, 0.8088066577911377, 0.8083041906356812, 0.8078212141990662, 0.806836724281311, 0.8056990504264832, 0.8052068948745728, 0.8043121695518494, 0.802570641040802, 0.8019420504570007, 0.8017465472221375, 0.8016674518585205, 0.8015178442001343, 0.8000836968421936, 0.7997221350669861, 0.7996660470962524, 0.7959740161895752, 0.7857367992401123, 0.7763314843177795, 0.7755005359649658, 0.7729652523994446, 0.7722745537757874, 0.7697752118110657, 0.7610694169998169, 0.7609809637069702, 0.7607265114784241, 0.7604389190673828, 0.7545763254165649, 0.7537286281585693, 0.7480072379112244, 0.7470669746398926, 0.7463527321815491, 0.7447170615196228, 0.7436097264289856, 0.7423619627952576, 0.7420013546943665, 0.7418359518051147, 0.7402121424674988, 0.7397060394287109, 0.7396368980407715, 0.8461173176765442, 0.7935010194778442, 0.7827717065811157, 0.7803751230239868, 0.7671782374382019, 0.7660186290740967, 0.7572225332260132, 0.7557480335235596, 0.75390625, 0.7486331462860107, 0.7457504868507385, 0.7425182461738586, 0.7389826774597168, 0.7362896203994751, 0.7282997369766235, 0.7260579466819763, 0.721444308757782, 0.7209234833717346, 0.7175019383430481, 0.7173585891723633, 0.7168641686439514, 0.7141637206077576, 0.7135039567947388, 0.7133038640022278, 0.7132005095481873, 0.7124552130699158, 0.7123087048530579, 0.7121690511703491, 0.8535046577453613, 0.8183372616767883, 0.8152744174003601, 0.806665301322937, 0.806495726108551, 0.7918501496315002, 0.7906082272529602, 0.7877270579338074, 0.7792200446128845, 0.7744030356407166, 0.7705329656600952, 0.7669362425804138, 0.7651190161705017, 0.7627663612365723, 0.7589360475540161, 0.7587950825691223, 0.7582423090934753, 0.7551480531692505, 0.7546984553337097, 0.7481440305709839, 0.7458080053329468, 0.7454838156700134, 0.7437713742256165, 0.7429162263870239, 0.7357676029205322, 0.7313323020935059, 0.8279799818992615, 0.8103103041648865, 0.782197892665863, 0.7684154510498047, 0.7658565044403076, 0.7652225494384766, 0.7556333541870117, 0.7495625615119934, 0.748413622379303, 0.7471163272857666, 0.7416967749595642, 0.741509735584259, 0.737838864326477, 0.7327477335929871, 0.7311485409736633, 0.7301806807518005, 0.7297707200050354, 0.7295354008674622, 0.7255805730819702, 0.7251100540161133, 0.722451388835907, 0.7181774377822876, 0.7174348831176758, 0.7157830595970154, 0.7122607827186584, 0.7113080620765686, 0.7094213366508484, 0.7212229371070862, 0.7136796712875366, 0.7098216414451599, 0.7079952955245972, 0.7038834095001221, 0.6928544044494629, 0.6926568746566772, 0.6916001439094543, 0.6911013722419739, 0.6840615272521973, 0.6715755462646484, 0.6663475036621094, 0.6653734445571899, 0.6649873852729797, 0.6615993976593018, 0.6591439843177795, 0.6590766906738281, 0.6564037203788757, 0.6532989740371704, 0.6503981947898865, 0.6467835307121277, 0.646202027797699, 0.6460708379745483, 0.6389409899711609, 0.6386489272117615, 0.6375044584274292, 0.6372787356376648, 0.6371678113937378, 0.6326283812522888, 0.6325954794883728, 0.8289027214050293, 0.8263139724731445, 0.8234298229217529, 0.798656165599823, 0.7968462705612183, 0.7957186698913574, 0.7952477931976318, 0.7942327857017517, 0.7899783253669739, 0.7831911444664001, 0.7825362682342529, 0.780096173286438, 0.7798444032669067, 0.7710294723510742, 0.7613945603370667, 0.7555452585220337, 0.7542434930801392, 0.7531280517578125, 0.7462101578712463, 0.7429579496383667, 0.7413378357887268, 0.7409318685531616, 0.7385832071304321, 0.8835726976394653, 0.6203808188438416, 0.6106400489807129, 0.6045364737510681, 0.5895109176635742, 0.5820409059524536, 0.5721431374549866, 0.5616939067840576, 0.5609875321388245, 0.5579820871353149, 0.5562873482704163, 0.5555322766304016, 0.5546593070030212, 0.5474516749382019, 0.5472456216812134, 0.5451428890228271, 0.5426381230354309, 0.5213645100593567, 0.5158077478408813, 0.5150516033172607, 0.5134916305541992, 0.5126746296882629, 0.5081738233566284, 0.507144570350647, 0.5055249333381653, 0.5051023364067078, 0.4994194507598877, 0.4973740875720978, 0.4954832196235657, 0.49180683493614197, 0.4871814548969269, 0.48497486114501953, 0.4844709634780884, 0.48425576090812683, 0.8277392983436584, 0.8250328898429871, 0.7902359962463379, 0.7895740270614624, 0.7843249440193176, 0.7838139533996582, 0.7783200144767761, 0.7720025181770325, 0.7686603665351868, 0.763163685798645, 0.7606242299079895, 0.75421541929245, 0.7527077198028564, 0.7517830729484558, 0.7468448281288147, 0.7468242049217224, 0.7448940277099609, 0.7438312768936157, 0.742125928401947, 0.739147961139679, 0.7368313670158386, 0.7342099547386169, 0.73088538646698, 0.724479615688324, 0.7183243036270142, 0.7180702686309814, 0.7167572379112244, 0.7749000787734985, 0.7496939897537231, 0.7490053176879883, 0.7420481443405151, 0.7266218066215515, 0.7261943221092224, 0.7194731831550598, 0.7182712554931641, 0.717928409576416, 0.7151603698730469, 0.71187824010849, 0.7093179225921631, 0.7072975635528564, 0.7057547569274902, 0.6924599409103394, 0.6923474669456482, 0.6919274926185608, 0.6888614892959595, 0.6870343685150146, 0.6846625208854675, 0.6835407614707947, 0.6821821331977844, 0.6807737350463867, 0.677566409111023, 0.6773825287818909, 0.6740550994873047, 0.6739863753318787, 0.6721783876419067, 0.6706321835517883, 0.6706311106681824, 0.6689226627349854, 0.7826662659645081, 0.7068748474121094, 0.6981989741325378, 0.6689947843551636, 0.6575914621353149, 0.6486251354217529, 0.6338180899620056, 0.6212491989135742, 0.6163275837898254, 0.6073007583618164, 0.6058533191680908, 0.6007274389266968, 0.6007232666015625, 0.5997100472450256, 0.5995247960090637, 0.5992294549942017, 0.5945698618888855, 0.591840922832489, 0.5870131254196167, 0.5857895612716675, 0.5844101905822754, 0.5823323726654053, 0.5791519284248352, 0.5778010487556458, 0.5758368968963623, 0.575101375579834, 0.5717618465423584, 0.5665612816810608, 0.5624087452888489, 0.55697101354599, 0.5546215772628784, 0.5506342649459839, 0.5501762628555298, 0.5485483407974243, 0.8897005915641785, 0.8782050609588623, 0.850425660610199, 0.8486751914024353, 0.8357410430908203, 0.8071132898330688, 0.7887901663780212, 0.7686532139778137, 0.7581981420516968, 0.7495214939117432, 0.746545672416687, 0.7410337328910828, 0.7285717725753784, 0.7252447009086609, 0.7249407172203064, 0.7187442183494568, 0.7147188782691956, 0.7144802808761597, 0.714268147945404, 0.7135151028633118, 0.7117894887924194, 0.7097932696342468, 0.7067983746528625, 0.7034518122673035, 0.6983954310417175, 0.6980454921722412, 0.6973696351051331, 0.6968070864677429, 0.9011643528938293, 0.8947374820709229, 0.8879042267799377, 0.8858787417411804, 0.8855769634246826, 0.8814750909805298, 0.8779011964797974, 0.8706778883934021, 0.8689260482788086, 0.8538895845413208, 0.8538269996643066, 0.8421153426170349, 0.8363362550735474, 0.8304973244667053, 0.8304455876350403, 0.8298338055610657, 0.8227366209030151, 0.8219456672668457, 0.8135825991630554, 0.8072881102561951, 0.8022216558456421, 0.7981426119804382, 0.7960966229438782, 0.7952170372009277, 0.7933726906776428, 0.7893744111061096, 0.7886579036712646, 0.7870656251907349, 0.7817674875259399, 0.7794334292411804, 0.7777060270309448, 0.7774705290794373, 0.7771831750869751, 0.7765630483627319, 0.7756919264793396, 0.7724630832672119, 0.7723018527030945, 0.7716968655586243, 0.8524043560028076, 0.7976545691490173, 0.7962197065353394, 0.7759968638420105, 0.7720257639884949, 0.7715331315994263, 0.7644569277763367, 0.7615247368812561, 0.7554084062576294, 0.7415969371795654, 0.7377443313598633, 0.7343465089797974, 0.7341887950897217, 0.7319750189781189, 0.731687605381012, 0.7315824627876282, 0.7314815521240234, 0.7292155027389526, 0.7276268005371094, 0.7272701859474182, 0.7263264656066895, 0.7218581438064575, 0.72000652551651, 0.7191324830055237, 0.7170658111572266, 0.7158445119857788, 0.7139909267425537, 0.7128569483757019, 0.7097740173339844, 0.8374077677726746, 0.8230246305465698, 0.7777459025382996, 0.7728834748268127, 0.7548148036003113, 0.7528476119041443, 0.7378511428833008, 0.7313216328620911, 0.7308963537216187, 0.7209053635597229, 0.7163482904434204, 0.712739884853363, 0.7110409140586853, 0.7089499235153198, 0.7060841917991638, 0.7027856707572937, 0.7009726166725159, 0.6937161684036255, 0.693574070930481, 0.6919794082641602, 0.6901706457138062, 0.7448017001152039, 0.7110769748687744, 0.7033717036247253, 0.6891080141067505, 0.6860546469688416, 0.6813933253288269, 0.6776450872421265, 0.6737416386604309, 0.671150803565979, 0.6674896478652954, 0.666464626789093, 0.6596969962120056, 0.6593000888824463, 0.6412599682807922, 0.639575183391571, 0.6370134353637695, 0.6287516951560974, 0.6220760345458984, 0.6119951605796814, 0.6071742177009583, 0.6070536375045776, 0.6069736480712891, 0.6056089997291565, 0.604754626750946, 0.604442298412323, 0.603532075881958, 0.6028389930725098, 0.6023042798042297, 0.5997453927993774, 0.5972790122032166, 0.5946221947669983, 0.5937654972076416, 0.5932211875915527, 0.5902071595191956, 0.8906000852584839, 0.8785113096237183, 0.8393845558166504, 0.8335700035095215, 0.8334954977035522, 0.831037163734436, 0.8121985793113708, 0.803783118724823, 0.7999152541160583, 0.7835299968719482, 0.7781134247779846, 0.7754965424537659, 0.7744518518447876, 0.7742571234703064, 0.7738632559776306, 0.7738423347473145, 0.770786464214325, 0.770718514919281, 0.76580810546875, 0.7654911279678345, 0.764764666557312, 0.7613829970359802, 0.7604676485061646, 0.7603960037231445, 0.759861946105957, 0.8675585985183716, 0.8430254459381104, 0.8201122879981995, 0.8128038048744202, 0.8112531900405884, 0.7744266986846924, 0.7637580633163452, 0.761816680431366, 0.757090151309967, 0.756493091583252, 0.7501134872436523, 0.7466509342193604, 0.743658721446991, 0.7408632636070251, 0.7342740893363953, 0.7336938977241516, 0.7328611016273499, 0.7288743853569031, 0.7243080139160156, 0.7237348556518555, 0.717121958732605, 0.7167417407035828, 0.7137757539749146, 0.7135918736457825, 0.7117016315460205, 0.7115883827209473, 0.9426962733268738, 0.9347860217094421, 0.9321501851081848, 0.9282429218292236, 0.9252781867980957, 0.9221294522285461, 0.9209281802177429, 0.9192551374435425, 0.9178013801574707, 0.9172313213348389, 0.9165687561035156, 0.9149979948997498, 0.9146870970726013, 0.9108673930168152, 0.9099920988082886, 0.9056506156921387, 0.9039071798324585, 0.9007805585861206, 0.8993452191352844, 0.8958271741867065, 0.8886481523513794, 0.8877691626548767, 0.8810333013534546, 0.8790736198425293, 0.8790373802185059, 0.8787873387336731, 0.8777427673339844, 0.903365969657898, 0.891124427318573, 0.8906384706497192, 0.8843274116516113, 0.8803889751434326, 0.8750450611114502, 0.874394416809082, 0.872393012046814, 0.8699396252632141, 0.860916256904602, 0.8594756722450256, 0.8524429798126221, 0.8508355617523193, 0.8494935035705566, 0.8493679165840149, 0.8479921221733093, 0.8458808660507202, 0.8449729084968567, 0.8448570370674133, 0.8447712063789368, 0.8431305885314941, 0.8430011868476868, 0.8421575427055359, 0.8406358361244202, 0.8399738073348999, 0.8396080136299133, 0.8389759659767151, 0.8378519415855408, 0.837212860584259, 0.8369840979576111, 0.833945631980896, 0.831904947757721, 0.8318557739257812, 0.8315373063087463, 0.7560588717460632, 0.7097141742706299, 0.6840344667434692, 0.6711974143981934, 0.6681888103485107, 0.6646440029144287, 0.6635355353355408, 0.6629131436347961, 0.6556873917579651, 0.6499153971672058, 0.6467934250831604, 0.646272599697113, 0.6434860229492188, 0.6381758451461792, 0.6377297043800354, 0.6322597861289978, 0.6285388469696045, 0.6277588605880737, 0.6260290145874023, 0.8208644986152649, 0.8184252381324768, 0.808887243270874, 0.8083851337432861, 0.8060169219970703, 0.8036847114562988, 0.7983275055885315, 0.797616720199585, 0.7953311204910278, 0.790699303150177, 0.7882808446884155, 0.7871237397193909, 0.7822690606117249, 0.7780587077140808, 0.774696946144104, 0.7741411328315735, 0.772215723991394, 0.7705191969871521, 0.7670813202857971, 0.7666965126991272, 0.765434741973877, 0.7643263339996338, 0.7642751336097717, 0.7620666027069092, 0.7552647590637207, 0.7543661594390869, 0.9504138231277466, 0.9310204982757568, 0.9235613346099854, 0.9107924103736877, 0.90067458152771, 0.9000681042671204, 0.8873124718666077, 0.8772460222244263, 0.868503987789154, 0.8676595687866211, 0.8587422370910645, 0.858270525932312, 0.8546527624130249, 0.8509414792060852, 0.8501145839691162, 0.8466349244117737, 0.8463004231452942, 0.845988392829895, 0.8420342206954956, 0.841961681842804, 0.8419066071510315, 0.8411866426467896, 0.8409726023674011, 0.8401238322257996, 0.8387316465377808, 0.8363986611366272, 0.8331565260887146, 0.6791765093803406, 0.6775720119476318, 0.6707255244255066, 0.6623982787132263, 0.660340428352356, 0.6563342809677124, 0.6538975238800049, 0.6497714519500732, 0.6467131972312927, 0.6433965563774109, 0.6424924731254578, 0.6313003301620483, 0.6299383044242859, 0.6287209987640381, 0.6282964944839478, 0.6274183392524719, 0.6220057010650635, 0.6168477535247803, 0.6161347031593323, 0.6154159903526306, 0.6142500638961792, 0.6132012009620667, 0.6837676763534546, 0.6824409365653992, 0.6817194819450378, 0.6531400084495544, 0.6272367835044861, 0.6246017217636108, 0.6244701743125916, 0.622054398059845, 0.6216869354248047, 0.619772732257843, 0.6192713975906372, 0.615566074848175, 0.6132510900497437, 0.61236971616745, 0.6032649874687195, 0.5963849425315857, 0.595008134841919, 0.5907233357429504, 0.5887681841850281, 0.5874496698379517, 0.5866906046867371, 0.5821747183799744, 0.880652666091919, 0.8697946071624756, 0.8571603894233704, 0.8250246644020081, 0.8066272139549255, 0.8007243871688843, 0.7971470355987549, 0.7960039973258972, 0.7944826483726501, 0.7926160097122192, 0.7873352766036987, 0.7859181761741638, 0.782413899898529, 0.7823976874351501, 0.7823876738548279, 0.7814520597457886, 0.7769062519073486, 0.7762224078178406, 0.7761188745498657, 0.7753097414970398, 0.7731943130493164, 0.7726808190345764, 0.9473415613174438, 0.9418250322341919, 0.9385644793510437, 0.935689389705658, 0.9227403998374939, 0.8896061182022095, 0.876218855381012, 0.8649535179138184, 0.851693332195282, 0.8274061679840088, 0.8194409608840942, 0.8186224699020386, 0.815956711769104, 0.8058332204818726, 0.8048896789550781, 0.8041224479675293, 0.8037671446800232, 0.8032738566398621, 0.8019373416900635, 0.8017898797988892, 0.801343560218811, 0.8009461760520935, 0.792275607585907, 0.791618287563324, 0.7902758717536926, 0.7888688445091248, 0.6825915575027466, 0.6727612614631653, 0.6720413565635681, 0.6678479909896851, 0.6580864787101746, 0.646000325679779, 0.6403316259384155, 0.6374754309654236, 0.6338471174240112, 0.6312927603721619, 0.6260807514190674, 0.6233439445495605, 0.6228758096694946, 0.6200485825538635, 0.6127508282661438, 0.6087549924850464, 0.6085248589515686, 0.6077638864517212, 0.6077370047569275, 0.5962235331535339, 0.5960446000099182, 0.5953716039657593, 0.5952033400535583, 0.5921699404716492, 0.5905094742774963, 0.5902350544929504, 0.5832653045654297, 0.5785130262374878, 0.9002240300178528, 0.8478667140007019, 0.8310592770576477, 0.8253136873245239, 0.8248074650764465, 0.816726565361023, 0.8147121071815491, 0.8131219148635864, 0.810634434223175, 0.8105456233024597, 0.8089149594306946, 0.8082598447799683, 0.8045288324356079, 0.8031229376792908, 0.803012490272522, 0.7981804013252258, 0.7975888848304749, 0.7970512509346008, 0.7964411377906799, 0.7953276038169861, 0.7952659726142883, 0.7944181561470032, 0.7939689755439758, 0.7882993221282959, 0.8304052948951721, 0.8047929406166077, 0.8045539855957031, 0.8004845380783081, 0.7966375350952148, 0.7899907827377319, 0.789380669593811, 0.7889724969863892, 0.7769402861595154, 0.7576708197593689, 0.755255401134491, 0.7467783689498901, 0.7457736134529114, 0.7440980076789856, 0.742746114730835, 0.7425843477249146, 0.7425016164779663, 0.7422540783882141, 0.7411553263664246, 0.7410829067230225, 0.9535229206085205, 0.9440116286277771, 0.9439547061920166, 0.9296298623085022, 0.9286180734634399, 0.9279314279556274, 0.9157957434654236, 0.9118483662605286, 0.9097532629966736, 0.908510684967041, 0.9057090878486633, 0.9046396613121033, 0.9035851955413818, 0.9020867943763733, 0.900982677936554, 0.8962415456771851, 0.8841745853424072, 0.8837347030639648, 0.8808684945106506, 0.8524781465530396, 0.8159977197647095, 0.8122071027755737, 0.7907516360282898, 0.7356283068656921, 0.7285997867584229, 0.7234771251678467, 0.7201175093650818, 0.7133998870849609, 0.7019866704940796, 0.6880000829696655, 0.6823344230651855, 0.6823311448097229, 0.6791104674339294, 0.677893340587616, 0.6754680871963501, 0.6731237769126892, 0.7336097955703735, 0.7000985145568848, 0.698552131652832, 0.6677649021148682, 0.6454818248748779, 0.6430769562721252, 0.6386659145355225, 0.6374373435974121, 0.6338313817977905, 0.6304468512535095, 0.6273552179336548, 0.620387852191925, 0.6174973845481873, 0.616696834564209, 0.6151795983314514, 0.610744833946228, 0.6101285815238953, 0.6097031235694885, 0.6086774468421936, 0.6043559312820435, 0.6028253436088562, 0.5996788740158081, 0.5993450880050659, 0.596142590045929, 0.5956531763076782, 0.5948144197463989, 0.8000543713569641, 0.7947017550468445, 0.7937269806861877, 0.7830833792686462, 0.771479606628418, 0.7703002095222473, 0.7659925222396851, 0.7647291421890259, 0.7591680884361267, 0.7584115862846375, 0.7565726041793823, 0.7550948858261108, 0.7550768256187439, 0.7544852495193481, 0.7417091727256775, 0.7412499785423279, 0.7408920526504517, 0.7372187376022339, 0.7362945079803467, 0.7354224920272827, 0.7335624694824219, 0.7333717942237854, 0.8532809615135193, 0.851355254650116, 0.8125859498977661, 0.8119944334030151, 0.8000240325927734, 0.7992380261421204, 0.7948949337005615, 0.7925516963005066, 0.7898341417312622, 0.7887153625488281, 0.7885122895240784, 0.7846418619155884, 0.7842791676521301, 0.7842721343040466, 0.7784265279769897, 0.775570273399353, 0.7732448577880859, 0.7707383632659912, 0.767940104007721, 0.7669570446014404, 0.7647143602371216, 0.9600329995155334, 0.9496917128562927, 0.947047770023346, 0.9451637268066406, 0.942215621471405, 0.9355276226997375, 0.931003749370575, 0.9286369681358337, 0.9255689382553101, 0.9214091897010803, 0.9170024991035461, 0.9168599247932434, 0.9152944087982178, 0.9135697484016418, 0.913008451461792, 0.9124724268913269, 0.8992084264755249, 0.8918888568878174, 0.8801950812339783, 0.8776695728302002, 0.8410935401916504, 0.8250142335891724, 0.7909690141677856, 0.7882851362228394, 0.7679834961891174, 0.7485895752906799, 0.7476151585578918, 0.7470982670783997, 0.7267773747444153, 0.7250785827636719, 0.7135686278343201, 0.7127833962440491, 0.7080938220024109, 0.7038479447364807, 0.6981585621833801, 0.6966199278831482, 0.7472721934318542, 0.7222851514816284, 0.6818735599517822, 0.6753449440002441, 0.6665276885032654, 0.6655367016792297, 0.6542550325393677, 0.6524127721786499, 0.6236553192138672, 0.6235829591751099, 0.6186862587928772, 0.6179451942443848, 0.6144279837608337, 0.6121978759765625, 0.6076270341873169, 0.6008909344673157, 0.5996723771095276, 0.5980404615402222, 0.5967608094215393, 0.5931433439254761, 0.5923916101455688, 0.5898426175117493, 0.5894578695297241, 0.5860599875450134, 0.5853884220123291, 0.7749000787734985, 0.7089107036590576, 0.6726172566413879, 0.6593964099884033, 0.6460488438606262, 0.6364331841468811, 0.6251436471939087, 0.6241804361343384, 0.6195106506347656, 0.6184521913528442, 0.6169859170913696, 0.6158440709114075, 0.6065727472305298, 0.6044486165046692, 0.6035165190696716, 0.6017186641693115, 0.5957877039909363, 0.5947184562683105, 0.5935086011886597, 0.590936005115509, 0.5898808836936951, 0.5825666189193726, 0.57738196849823, 0.5757477283477783, 0.5751050114631653, 0.5734386444091797, 0.5729472041130066, 0.5717788338661194, 0.5716549158096313, 0.5709339380264282, 0.8494237661361694, 0.8423547744750977, 0.8391282558441162, 0.8299674987792969, 0.8275180459022522, 0.8240379691123962, 0.8143707513809204, 0.8140035271644592, 0.8103287220001221, 0.8097759485244751, 0.8074478507041931, 0.8025593757629395, 0.7918373942375183, 0.7859246134757996, 0.7845054864883423, 0.7844897508621216, 0.7842454314231873, 0.7819786071777344, 0.7800492644309998, 0.7795536518096924, 0.7774068117141724, 0.7770538330078125, 0.7758541703224182, 0.7732506990432739, 0.7690061926841736, 0.765653133392334, 0.7624168992042542, 0.7614091634750366, 0.7601364850997925, 0.7599931359291077, 0.7599655985832214, 0.6826391816139221, 0.6561318635940552, 0.6522963047027588, 0.6505626440048218, 0.6345557570457458, 0.6300098896026611, 0.6273856163024902, 0.6255393624305725, 0.6222218871116638, 0.6101520657539368, 0.6091697216033936, 0.607035219669342, 0.6048501133918762, 0.6036828756332397, 0.6032378077507019, 0.602451503276825, 0.6003586649894714, 0.5979424715042114, 0.5974405407905579, 0.597122073173523, 0.5940468311309814, 0.592853844165802, 0.5927321910858154, 0.5926778316497803, 0.5908606648445129, 0.5889170169830322, 0.5878167152404785, 0.587566077709198, 0.5872322916984558, 0.5865382552146912, 0.5862511992454529, 0.5853888988494873, 0.8196091651916504, 0.790583074092865, 0.7694711685180664, 0.7638075351715088, 0.7612226605415344, 0.7559771537780762, 0.750350832939148, 0.7435857057571411, 0.7418496012687683, 0.7282538414001465, 0.7248326539993286, 0.7149394750595093, 0.7135748863220215, 0.7121722102165222, 0.7085013389587402, 0.7022988200187683, 0.7018559575080872, 0.7011733651161194, 0.7009961605072021, 0.6928133964538574, 0.691638708114624, 0.69121915102005, 0.6835164427757263, 0.6834287047386169, 0.6790952086448669, 0.6787472367286682, 0.6786686778068542, 0.6784340739250183, 0.6782258749008179, 0.677318811416626, 0.6768881678581238, 0.7220532894134521, 0.7060877680778503, 0.6922726035118103, 0.680798351764679, 0.6789400577545166, 0.6680940985679626, 0.6607539653778076, 0.6590253114700317, 0.6522189378738403, 0.6516807079315186, 0.6480939388275146, 0.6455338001251221, 0.6406664848327637, 0.6400673389434814, 0.636412501335144, 0.6332321166992188, 0.6331620812416077, 0.6318227648735046, 0.6309599280357361, 0.6276561617851257, 0.6274824738502502, 0.6233328580856323, 0.6218775510787964, 0.6192821860313416, 0.6180239915847778, 0.6173173189163208, 0.6169829368591309, 0.6160363554954529, 0.7154080867767334, 0.6974779963493347, 0.692602276802063, 0.6917598843574524, 0.6836325526237488, 0.6733388304710388, 0.6707577109336853, 0.6658196449279785, 0.6631137728691101, 0.6607762575149536, 0.6522605419158936, 0.6521832346916199, 0.6521763801574707, 0.6519328951835632, 0.6518814563751221, 0.650844931602478, 0.64813631772995, 0.6428188681602478, 0.6349676251411438, 0.6328799724578857, 0.6324122548103333, 0.6318756937980652, 0.6294607520103455, 0.6283069252967834, 0.6276182532310486, 0.6267344355583191, 0.6257266998291016, 0.6251592040061951, 0.7836796045303345, 0.7759926319122314, 0.7570549845695496, 0.7516541481018066, 0.7480325102806091, 0.7477514147758484, 0.7388681769371033, 0.7202029228210449, 0.7172166705131531, 0.7153390645980835, 0.7121540904045105, 0.7113697528839111, 0.7033417820930481, 0.6992951035499573, 0.6945782899856567, 0.6912949681282043, 0.6880603432655334, 0.6873795390129089, 0.685748815536499, 0.6833951473236084, 0.6808962225914001, 0.6787699460983276, 0.6781182289123535, 0.6747417449951172, 0.6707983613014221, 0.6701493859291077, 0.6656416058540344, 0.6644280552864075, 0.7616726160049438, 0.7478899359703064, 0.746597409248352, 0.7393612265586853, 0.7325882315635681, 0.7266284823417664, 0.7233812808990479, 0.7197978496551514, 0.7149786949157715, 0.7133607268333435, 0.701909065246582, 0.7004260420799255, 0.6972405314445496, 0.6970770359039307, 0.6950194835662842, 0.6948637366294861, 0.694556713104248, 0.6861011385917664, 0.6860439777374268, 0.6834894418716431, 0.6804361343383789, 0.679324209690094, 0.6749513745307922, 0.6734986305236816, 0.669272780418396, 0.6678689122200012, 0.6664862632751465, 0.6644385457038879, 0.6639271378517151, 0.8297287821769714, 0.7664340138435364, 0.7464823722839355, 0.7389081120491028, 0.7345783710479736, 0.7340400815010071, 0.7335373759269714, 0.7329258322715759, 0.7304022908210754, 0.7286669611930847, 0.7281632423400879, 0.7280445098876953, 0.7229421138763428, 0.7176364660263062, 0.7164318561553955, 0.7162086963653564, 0.715695321559906, 0.7153480648994446, 0.7150023579597473, 0.7101978063583374, 0.7098977565765381, 0.7088371515274048, 0.7067548036575317, 0.7058271765708923, 0.933923065662384, 0.9091652035713196, 0.8836902379989624, 0.8700472712516785, 0.8611277937889099, 0.8452252745628357, 0.8451142311096191, 0.8383709192276001, 0.8380928635597229, 0.8317584991455078, 0.8174501061439514, 0.8120957612991333, 0.8091411590576172, 0.8061756491661072, 0.795107901096344, 0.7949660420417786, 0.7942132353782654, 0.7926810383796692, 0.7889212965965271, 0.7887426018714905, 0.7862911224365234, 0.7795477509498596, 0.7786853909492493, 0.7779861092567444, 0.7777663469314575, 0.776879608631134, 0.7764751315116882, 0.7758721709251404, 0.8552761673927307, 0.8091830015182495, 0.8052865266799927, 0.7955501675605774, 0.7909926176071167, 0.7889655232429504, 0.7856112122535706, 0.7848467230796814, 0.784319281578064, 0.7841109037399292, 0.7689990401268005, 0.764604389667511, 0.7638916373252869, 0.7617570757865906, 0.760836124420166, 0.7582958340644836, 0.7552328109741211, 0.7545528411865234, 0.7541915774345398, 0.7494686245918274, 0.7487024664878845, 0.748171865940094, 0.7449612617492676, 0.7391178011894226, 0.7379046082496643, 0.7372439503669739, 0.7334498167037964, 0.7333495616912842, 0.7310329675674438, 0.7302572131156921, 0.9606468081474304, 0.9605314135551453, 0.9575435519218445, 0.9531330466270447, 0.9312823414802551, 0.931003749370575, 0.9279316067695618, 0.9270330667495728, 0.9236392378807068, 0.9216669201850891, 0.9196510910987854, 0.9192909598350525, 0.919005274772644, 0.9103835225105286, 0.9073030948638916, 0.9050514101982117, 0.903101921081543, 0.8813822269439697, 0.8813502192497253, 0.8724550604820251, 0.8336743116378784, 0.8134177923202515, 0.8028078675270081, 0.7958772778511047, 0.7769880890846252, 0.7721586227416992, 0.7649958729743958, 0.7627553939819336, 0.759288489818573, 0.7581261992454529, 0.7553107142448425, 0.7493583559989929, 0.7441534996032715, 0.7434574961662292, 0.7416045665740967, 0.732024073600769, 0.7309064865112305, 0.9487966299057007, 0.8837709426879883, 0.8805832862854004, 0.8769603967666626, 0.8769069910049438, 0.8557721972465515, 0.8555559515953064, 0.8511319160461426, 0.848602831363678, 0.8427819013595581, 0.8371963500976562, 0.8250213861465454, 0.8228980302810669, 0.8132113814353943, 0.8060008883476257, 0.804370105266571, 0.8030217885971069, 0.8016881346702576, 0.8010656237602234, 0.8007603883743286, 0.8006624579429626, 0.8001287579536438, 0.7983882427215576, 0.7969373464584351, 0.7957866191864014, 0.7936865091323853, 0.7883849740028381, 0.7850160002708435, 0.6772347092628479, 0.6496980786323547, 0.6427956819534302, 0.5973841547966003, 0.5884901881217957, 0.5817446112632751, 0.5791089534759521, 0.5759668350219727, 0.566412627696991, 0.5636220574378967, 0.5622266530990601, 0.5592858791351318, 0.5510737299919128, 0.5500359535217285, 0.5492979288101196, 0.5456807613372803, 0.5445253849029541, 0.543342649936676, 0.5423698425292969, 0.5374572277069092, 0.535876452922821, 0.535804271697998, 0.5349055528640747, 0.5334521532058716, 0.530708909034729, 0.530480682849884, 0.529365062713623, 0.526040256023407, 0.8312296271324158, 0.8260002732276917, 0.8207732439041138, 0.8206057548522949, 0.8167699575424194, 0.8156084418296814, 0.8152296543121338, 0.8131115436553955, 0.811664879322052, 0.8061245083808899, 0.8051277995109558, 0.8047788143157959, 0.8046912550926208, 0.7972009181976318, 0.7919923663139343, 0.7913225889205933, 0.7866862416267395, 0.7853406071662903, 0.7850102782249451, 0.7834639549255371, 0.7725000381469727, 0.771769106388092, 0.769947350025177, 0.769760012626648, 0.7685604691505432, 0.7654800415039062, 0.8690961599349976, 0.8615719676017761, 0.854640781879425, 0.8518810272216797, 0.8491249084472656, 0.8400774598121643, 0.8391909599304199, 0.8379455208778381, 0.8349878787994385, 0.8349423408508301, 0.8270909786224365, 0.8263295292854309, 0.8241885900497437, 0.8230271339416504, 0.8218857645988464, 0.8154864311218262, 0.8100146651268005, 0.8099579811096191, 0.8042450547218323, 0.8033972978591919, 0.801941990852356, 0.7958770990371704, 0.7957310080528259, 0.7951842546463013, 0.7946944236755371, 0.7941230535507202, 0.7908173203468323, 0.6739194989204407, 0.6531544923782349, 0.6433365941047668, 0.6151946187019348, 0.6136635541915894, 0.6130233407020569, 0.6114562749862671, 0.6053815484046936, 0.6026740670204163, 0.6020848155021667, 0.600051760673523, 0.5905346870422363, 0.5860748887062073, 0.5786399841308594, 0.5760073065757751, 0.5718364715576172, 0.5692629814147949, 0.5686236619949341, 0.5679482817649841, 0.5677038431167603, 0.5657784938812256, 0.56451016664505, 0.5639362335205078, 0.5619921088218689, 0.5613423585891724, 0.5605992674827576, 0.6837751865386963, 0.6663263440132141, 0.6647854447364807, 0.6550182700157166, 0.6345210075378418, 0.6301717758178711, 0.6176438331604004, 0.6153563857078552, 0.614363431930542, 0.6068947315216064, 0.6039438843727112, 0.5986661911010742, 0.5982710123062134, 0.5883557200431824, 0.587157130241394, 0.5862956047058105, 0.5834863185882568, 0.583456814289093, 0.5822872519493103, 0.5807048082351685, 0.5799031257629395, 0.5775805115699768, 0.5768650770187378, 0.5768466591835022, 0.5740709900856018, 0.5737016797065735, 0.8635505437850952, 0.8585106730461121, 0.8557906150817871, 0.8476054668426514, 0.8458181619644165, 0.8356874585151672, 0.8351491093635559, 0.8350221514701843, 0.8341808319091797, 0.8327019810676575, 0.8265289068222046, 0.8234498500823975, 0.8214915990829468, 0.8182163834571838, 0.8175280094146729, 0.8158080577850342, 0.8136656880378723, 0.8122276663780212, 0.8108388185501099, 0.8106306791305542, 0.80987548828125, 0.8027593493461609, 0.8024395108222961, 0.800902783870697, 0.7945327758789062, 0.7939258217811584, 0.7828769087791443, 0.7820131778717041, 0.7612780332565308, 0.733379602432251, 0.6960521936416626, 0.6885942220687866, 0.6844358444213867, 0.6822037100791931, 0.6702336072921753, 0.6670689582824707, 0.6669281125068665, 0.6477853059768677, 0.645803689956665, 0.6446347236633301, 0.6432992815971375, 0.6391409635543823, 0.6389345526695251, 0.6351751089096069, 0.634458065032959, 0.6342394948005676, 0.6302450895309448, 0.6288814544677734, 0.628519594669342, 0.6259949207305908, 0.6200082898139954, 0.6189563870429993, 0.6183515787124634, 0.617109477519989, 0.6159487962722778, 0.786716103553772, 0.7832745313644409, 0.7816118597984314, 0.7771992087364197, 0.7756559252738953, 0.7753607630729675, 0.7753223776817322, 0.771306574344635, 0.7663815021514893, 0.7645785212516785, 0.7619881629943848, 0.7619137763977051, 0.7609877586364746, 0.7591371536254883, 0.7566848397254944, 0.7565513849258423, 0.7550543546676636, 0.7538344860076904, 0.7537438869476318, 0.7527909278869629, 0.7501837611198425, 0.7498789429664612, 0.7493420243263245, 0.7492446899414062, 0.749143123626709, 0.748542308807373, 0.7483504414558411, 0.7477929592132568, 0.7477848529815674, 0.7476030588150024, 0.7467613816261292, 0.7463577389717102, 0.7461827397346497, 0.7451136708259583, 0.7446037530899048, 0.7445015907287598, 0.6748238801956177, 0.6703314781188965, 0.652942955493927, 0.6360265016555786, 0.6203984618186951, 0.5967036485671997, 0.5953182578086853, 0.5793648362159729, 0.5778525471687317, 0.5775980949401855, 0.5682972073554993, 0.5661749243736267, 0.5545073747634888, 0.5537266135215759, 0.5501121878623962, 0.5499184727668762, 0.5496742129325867, 0.5490874648094177, 0.5488365292549133, 0.5485550761222839, 0.5437766313552856, 0.543170690536499, 0.5419886708259583, 0.5416017770767212, 0.5414440631866455, 0.5397236347198486, 0.5384578108787537, 0.5370893478393555, 0.7583569288253784, 0.707810640335083, 0.6979816555976868, 0.6848823428153992, 0.676636278629303, 0.672395646572113, 0.6705083847045898, 0.6689904928207397, 0.6664745211601257, 0.6581076383590698, 0.6570301055908203, 0.6559882760047913, 0.6549184918403625, 0.6517536640167236, 0.6446342468261719, 0.642954409122467, 0.633390486240387, 0.6255170106887817, 0.6233292818069458, 0.6216340661048889, 0.619131863117218, 0.6170692443847656, 0.6156575679779053, 0.6153287291526794, 0.6148744821548462, 0.9166176319122314, 0.9105108380317688, 0.9067928194999695, 0.906315803527832, 0.8824591040611267, 0.8807983994483948, 0.8806778192520142, 0.8788710236549377, 0.8758748769760132, 0.8732300996780396, 0.8698222041130066, 0.8697870969772339, 0.8679022789001465, 0.8620986342430115, 0.855749785900116, 0.8516041040420532, 0.8480976819992065, 0.8463168740272522, 0.8457849621772766, 0.8419471383094788, 0.8395747542381287, 0.8383274674415588, 0.8333518505096436, 0.83221036195755, 0.8318687081336975, 0.8301105499267578, 0.8270674347877502, 0.8188779950141907, 0.8180860877037048, 0.817571759223938, 0.8167320489883423, 0.8166983723640442, 0.8165138363838196, 0.9159578084945679, 0.9081963896751404, 0.8994858860969543, 0.8977651596069336, 0.8838376998901367, 0.8825107216835022, 0.8811944127082825, 0.8796542286872864, 0.8772817850112915, 0.8755622506141663, 0.8739532232284546, 0.8581445217132568, 0.8573035597801208, 0.838130533695221, 0.8363577127456665, 0.8331705927848816, 0.8326649069786072, 0.8301846385002136, 0.8294094800949097, 0.8292440176010132, 0.8286345601081848, 0.8225862383842468, 0.8208532929420471, 0.813912570476532, 0.812775731086731, 0.8115438222885132, 0.8110114932060242, 0.8107019662857056, 0.8078061938285828, 0.8070078492164612, 0.8065574169158936, 0.8054824471473694, 0.8044513463973999, 0.8044172525405884, 0.8159462213516235, 0.8126587867736816, 0.7803585529327393, 0.7637471556663513, 0.7318667769432068, 0.7282199263572693, 0.7234565615653992, 0.7089499831199646, 0.7000164985656738, 0.6975817084312439, 0.6932805180549622, 0.6913345456123352, 0.6895038485527039, 0.687504231929779, 0.6862950921058655, 0.6826901435852051, 0.6808578968048096, 0.6707309484481812, 0.6698812246322632, 0.6695022583007812, 0.6683394908905029, 0.6680936813354492, 0.6651567816734314, 0.6648653745651245, 0.6593655347824097, 0.6562147736549377, 0.6529261469841003, 0.6509364247322083, 0.9261476397514343, 0.9119563698768616, 0.9032660126686096, 0.9003618359565735, 0.8840653300285339, 0.8694871068000793, 0.8688936233520508, 0.8687578439712524, 0.8643643856048584, 0.8528571128845215, 0.8507107496261597, 0.8491856455802917, 0.8484579920768738, 0.8478776216506958, 0.8462962508201599, 0.8441446423530579, 0.8415533900260925, 0.8415362238883972, 0.8390160202980042, 0.8292313814163208, 0.8291836380958557, 0.8244288563728333, 0.8234200477600098, 0.8183292746543884, 0.8109613060951233, 0.8074386715888977, 0.8050132989883423, 0.8042704463005066, 0.8041114807128906, 0.8023097515106201, 0.8007711172103882, 0.7976414561271667, 0.7953779697418213, 0.7736958861351013, 0.7189891338348389, 0.7038149833679199, 0.6993419528007507, 0.6930185556411743, 0.6919115781784058, 0.680912971496582, 0.6804118752479553, 0.6758066415786743, 0.6616204380989075, 0.6615110039710999, 0.6614803075790405, 0.6603861451148987, 0.6600243449211121, 0.6582168340682983, 0.6570633053779602, 0.6569299697875977, 0.6562807559967041, 0.6550356149673462, 0.6918541193008423, 0.686168909072876, 0.6772410869598389, 0.6762223839759827, 0.6740933060646057, 0.6694559454917908, 0.6511351466178894, 0.6436235904693604, 0.6433872580528259, 0.6431768536567688, 0.6430594325065613, 0.6337372064590454, 0.6195126175880432, 0.6175153255462646, 0.6155600547790527, 0.6152370572090149, 0.610930860042572, 0.6100940704345703, 0.608320951461792, 0.6053704023361206, 0.6810993552207947, 0.6283313035964966, 0.6225902438163757, 0.5971021056175232, 0.5430914759635925, 0.5011515021324158, 0.49967342615127563, 0.493865042924881, 0.4849545359611511, 0.4822174608707428, 0.480048805475235, 0.4791480600833893, 0.4646235704421997, 0.4641211926937103, 0.4637855887413025, 0.46292978525161743, 0.4624544382095337, 0.45746445655822754, 0.455140084028244, 0.45284005999565125, 0.4483158588409424, 0.44547951221466064, 0.44117358326911926, 0.4376189112663269, 0.4344434142112732, 0.43133383989334106, 0.4306342303752899, 0.4226208031177521, 0.4219481945037842, 0.4209500253200531, 0.7248008847236633, 0.710231363773346, 0.7073749899864197, 0.7057517766952515, 0.6970651745796204, 0.6924362182617188, 0.6867013573646545, 0.6840655207633972, 0.6834555268287659, 0.6813575625419617, 0.6785508990287781, 0.6779313087463379, 0.6775156855583191, 0.6761603951454163, 0.6743354201316833, 0.6720786690711975, 0.6705631613731384, 0.6701942086219788, 0.6695742011070251, 0.6682227253913879, 0.6665173768997192, 0.6660462021827698, 0.7360389828681946, 0.729020893573761, 0.7262311577796936, 0.7234533429145813, 0.6946789026260376, 0.6899679899215698, 0.6878461241722107, 0.6820189952850342, 0.6707013249397278, 0.6628295183181763, 0.6615435481071472, 0.6608456969261169, 0.6551966071128845, 0.6530879735946655, 0.651174783706665, 0.6488460898399353, 0.6373874545097351, 0.6294209957122803, 0.6253514289855957, 0.6243817806243896, 0.623419463634491, 0.6194800734519958, 0.6187741160392761, 0.6168580055236816, 0.6152222752571106, 0.7019187808036804, 0.6933214664459229, 0.6908527612686157, 0.6834643483161926, 0.6819694638252258, 0.6803469657897949, 0.6797662973403931, 0.678741455078125, 0.6786512136459351, 0.6783893704414368, 0.6780720353126526, 0.6777809858322144, 0.677512526512146, 0.6756691336631775, 0.6751275658607483, 0.6739978790283203, 0.6724052429199219, 0.6704384088516235, 0.6662262082099915, 0.8828591108322144, 0.8684899806976318, 0.85347980260849, 0.842816948890686, 0.8390106558799744, 0.8288756608963013, 0.8207827806472778, 0.8134983777999878, 0.7974681854248047, 0.7832143306732178, 0.7805624604225159, 0.779248058795929, 0.7768210172653198, 0.7666430473327637, 0.7598319053649902, 0.7548376321792603, 0.7544011473655701, 0.7526983618736267, 0.7506552934646606, 0.7494944334030151, 0.7484463453292847, 0.7479610443115234, 0.7476878762245178, 0.741214394569397, 0.7388694882392883, 0.7374169230461121, 0.7363119125366211, 0.7853865027427673, 0.7608217000961304, 0.7599513530731201, 0.7516359090805054, 0.7414951324462891, 0.7407970428466797, 0.7383849024772644, 0.7376385927200317, 0.7371085286140442, 0.733863890171051, 0.7327751517295837, 0.7296721935272217, 0.7214693427085876, 0.7170718908309937, 0.7155634760856628, 0.7127259969711304, 0.7126185297966003, 0.7107466459274292, 0.7089197635650635, 0.7052032351493835, 0.7050885558128357], \"xaxis\": \"x\", \"yaxis\": \"y\"}],\n",
              "                        {\"barmode\": \"relative\", \"legend\": {\"tracegroupgap\": 0}, \"template\": {\"data\": {\"bar\": [{\"error_x\": {\"color\": \"#2a3f5f\"}, \"error_y\": {\"color\": \"#2a3f5f\"}, \"marker\": {\"line\": {\"color\": \"#E5ECF6\", \"width\": 0.5}}, \"type\": \"bar\"}], \"barpolar\": [{\"marker\": {\"line\": {\"color\": \"#E5ECF6\", \"width\": 0.5}}, \"type\": \"barpolar\"}], \"carpet\": [{\"aaxis\": {\"endlinecolor\": \"#2a3f5f\", \"gridcolor\": \"white\", \"linecolor\": \"white\", \"minorgridcolor\": \"white\", \"startlinecolor\": \"#2a3f5f\"}, \"baxis\": {\"endlinecolor\": \"#2a3f5f\", \"gridcolor\": \"white\", \"linecolor\": \"white\", \"minorgridcolor\": \"white\", \"startlinecolor\": \"#2a3f5f\"}, \"type\": \"carpet\"}], \"choropleth\": [{\"colorbar\": {\"outlinewidth\": 0, \"ticks\": \"\"}, \"type\": \"choropleth\"}], \"contour\": [{\"colorbar\": {\"outlinewidth\": 0, \"ticks\": \"\"}, \"colorscale\": [[0.0, \"#0d0887\"], [0.1111111111111111, \"#46039f\"], [0.2222222222222222, \"#7201a8\"], [0.3333333333333333, \"#9c179e\"], [0.4444444444444444, \"#bd3786\"], [0.5555555555555556, \"#d8576b\"], [0.6666666666666666, \"#ed7953\"], [0.7777777777777778, \"#fb9f3a\"], [0.8888888888888888, \"#fdca26\"], [1.0, \"#f0f921\"]], \"type\": \"contour\"}], \"contourcarpet\": [{\"colorbar\": {\"outlinewidth\": 0, \"ticks\": \"\"}, \"type\": \"contourcarpet\"}], \"heatmap\": [{\"colorbar\": {\"outlinewidth\": 0, \"ticks\": \"\"}, \"colorscale\": [[0.0, \"#0d0887\"], [0.1111111111111111, \"#46039f\"], [0.2222222222222222, \"#7201a8\"], [0.3333333333333333, \"#9c179e\"], [0.4444444444444444, \"#bd3786\"], [0.5555555555555556, \"#d8576b\"], [0.6666666666666666, \"#ed7953\"], [0.7777777777777778, \"#fb9f3a\"], [0.8888888888888888, \"#fdca26\"], [1.0, \"#f0f921\"]], \"type\": \"heatmap\"}], \"heatmapgl\": [{\"colorbar\": {\"outlinewidth\": 0, \"ticks\": \"\"}, \"colorscale\": [[0.0, \"#0d0887\"], [0.1111111111111111, \"#46039f\"], [0.2222222222222222, \"#7201a8\"], [0.3333333333333333, \"#9c179e\"], [0.4444444444444444, \"#bd3786\"], [0.5555555555555556, \"#d8576b\"], [0.6666666666666666, \"#ed7953\"], [0.7777777777777778, \"#fb9f3a\"], [0.8888888888888888, \"#fdca26\"], [1.0, \"#f0f921\"]], \"type\": \"heatmapgl\"}], \"histogram\": [{\"marker\": {\"colorbar\": {\"outlinewidth\": 0, \"ticks\": \"\"}}, \"type\": \"histogram\"}], \"histogram2d\": [{\"colorbar\": {\"outlinewidth\": 0, \"ticks\": \"\"}, \"colorscale\": [[0.0, \"#0d0887\"], [0.1111111111111111, \"#46039f\"], [0.2222222222222222, \"#7201a8\"], [0.3333333333333333, \"#9c179e\"], [0.4444444444444444, \"#bd3786\"], [0.5555555555555556, \"#d8576b\"], [0.6666666666666666, \"#ed7953\"], [0.7777777777777778, \"#fb9f3a\"], [0.8888888888888888, \"#fdca26\"], [1.0, \"#f0f921\"]], \"type\": \"histogram2d\"}], \"histogram2dcontour\": [{\"colorbar\": {\"outlinewidth\": 0, \"ticks\": \"\"}, \"colorscale\": [[0.0, \"#0d0887\"], [0.1111111111111111, \"#46039f\"], [0.2222222222222222, \"#7201a8\"], [0.3333333333333333, \"#9c179e\"], [0.4444444444444444, \"#bd3786\"], [0.5555555555555556, \"#d8576b\"], [0.6666666666666666, \"#ed7953\"], [0.7777777777777778, \"#fb9f3a\"], [0.8888888888888888, \"#fdca26\"], [1.0, \"#f0f921\"]], \"type\": \"histogram2dcontour\"}], \"mesh3d\": [{\"colorbar\": {\"outlinewidth\": 0, \"ticks\": \"\"}, \"type\": \"mesh3d\"}], \"parcoords\": [{\"line\": {\"colorbar\": {\"outlinewidth\": 0, \"ticks\": \"\"}}, \"type\": \"parcoords\"}], \"pie\": [{\"automargin\": true, \"type\": \"pie\"}], \"scatter\": [{\"marker\": {\"colorbar\": {\"outlinewidth\": 0, \"ticks\": \"\"}}, \"type\": \"scatter\"}], \"scatter3d\": [{\"line\": {\"colorbar\": {\"outlinewidth\": 0, \"ticks\": \"\"}}, \"marker\": {\"colorbar\": {\"outlinewidth\": 0, \"ticks\": \"\"}}, \"type\": \"scatter3d\"}], \"scattercarpet\": [{\"marker\": {\"colorbar\": {\"outlinewidth\": 0, \"ticks\": \"\"}}, \"type\": \"scattercarpet\"}], \"scattergeo\": [{\"marker\": {\"colorbar\": {\"outlinewidth\": 0, \"ticks\": \"\"}}, \"type\": \"scattergeo\"}], \"scattergl\": [{\"marker\": {\"colorbar\": {\"outlinewidth\": 0, \"ticks\": \"\"}}, \"type\": \"scattergl\"}], \"scattermapbox\": [{\"marker\": {\"colorbar\": {\"outlinewidth\": 0, \"ticks\": \"\"}}, \"type\": \"scattermapbox\"}], \"scatterpolar\": [{\"marker\": {\"colorbar\": {\"outlinewidth\": 0, \"ticks\": \"\"}}, \"type\": \"scatterpolar\"}], \"scatterpolargl\": [{\"marker\": {\"colorbar\": {\"outlinewidth\": 0, \"ticks\": \"\"}}, \"type\": \"scatterpolargl\"}], \"scatterternary\": [{\"marker\": {\"colorbar\": {\"outlinewidth\": 0, \"ticks\": \"\"}}, \"type\": \"scatterternary\"}], \"surface\": [{\"colorbar\": {\"outlinewidth\": 0, \"ticks\": \"\"}, \"colorscale\": [[0.0, \"#0d0887\"], [0.1111111111111111, \"#46039f\"], [0.2222222222222222, \"#7201a8\"], [0.3333333333333333, \"#9c179e\"], [0.4444444444444444, \"#bd3786\"], [0.5555555555555556, \"#d8576b\"], [0.6666666666666666, \"#ed7953\"], [0.7777777777777778, \"#fb9f3a\"], [0.8888888888888888, \"#fdca26\"], [1.0, \"#f0f921\"]], \"type\": \"surface\"}], \"table\": [{\"cells\": {\"fill\": {\"color\": \"#EBF0F8\"}, \"line\": {\"color\": \"white\"}}, \"header\": {\"fill\": {\"color\": \"#C8D4E3\"}, \"line\": {\"color\": \"white\"}}, \"type\": \"table\"}]}, \"layout\": {\"annotationdefaults\": {\"arrowcolor\": \"#2a3f5f\", \"arrowhead\": 0, \"arrowwidth\": 1}, \"coloraxis\": {\"colorbar\": {\"outlinewidth\": 0, \"ticks\": \"\"}}, \"colorscale\": {\"diverging\": [[0, \"#8e0152\"], [0.1, \"#c51b7d\"], [0.2, \"#de77ae\"], [0.3, \"#f1b6da\"], [0.4, \"#fde0ef\"], [0.5, \"#f7f7f7\"], [0.6, \"#e6f5d0\"], [0.7, \"#b8e186\"], [0.8, \"#7fbc41\"], [0.9, \"#4d9221\"], [1, \"#276419\"]], \"sequential\": [[0.0, \"#0d0887\"], [0.1111111111111111, \"#46039f\"], [0.2222222222222222, \"#7201a8\"], [0.3333333333333333, \"#9c179e\"], [0.4444444444444444, \"#bd3786\"], [0.5555555555555556, \"#d8576b\"], [0.6666666666666666, \"#ed7953\"], [0.7777777777777778, \"#fb9f3a\"], [0.8888888888888888, \"#fdca26\"], [1.0, \"#f0f921\"]], \"sequentialminus\": [[0.0, \"#0d0887\"], [0.1111111111111111, \"#46039f\"], [0.2222222222222222, \"#7201a8\"], [0.3333333333333333, \"#9c179e\"], [0.4444444444444444, \"#bd3786\"], [0.5555555555555556, \"#d8576b\"], [0.6666666666666666, \"#ed7953\"], [0.7777777777777778, \"#fb9f3a\"], [0.8888888888888888, \"#fdca26\"], [1.0, \"#f0f921\"]]}, \"colorway\": [\"#636efa\", \"#EF553B\", \"#00cc96\", \"#ab63fa\", \"#FFA15A\", \"#19d3f3\", \"#FF6692\", \"#B6E880\", \"#FF97FF\", \"#FECB52\"], \"font\": {\"color\": \"#2a3f5f\"}, \"geo\": {\"bgcolor\": \"white\", \"lakecolor\": \"white\", \"landcolor\": \"#E5ECF6\", \"showlakes\": true, \"showland\": true, \"subunitcolor\": \"white\"}, \"hoverlabel\": {\"align\": \"left\"}, \"hovermode\": \"closest\", \"mapbox\": {\"style\": \"light\"}, \"paper_bgcolor\": \"white\", \"plot_bgcolor\": \"#E5ECF6\", \"polar\": {\"angularaxis\": {\"gridcolor\": \"white\", \"linecolor\": \"white\", \"ticks\": \"\"}, \"bgcolor\": \"#E5ECF6\", \"radialaxis\": {\"gridcolor\": \"white\", \"linecolor\": \"white\", \"ticks\": \"\"}}, \"scene\": {\"xaxis\": {\"backgroundcolor\": \"#E5ECF6\", \"gridcolor\": \"white\", \"gridwidth\": 2, \"linecolor\": \"white\", \"showbackground\": true, \"ticks\": \"\", \"zerolinecolor\": \"white\"}, \"yaxis\": {\"backgroundcolor\": \"#E5ECF6\", \"gridcolor\": \"white\", \"gridwidth\": 2, \"linecolor\": \"white\", \"showbackground\": true, \"ticks\": \"\", \"zerolinecolor\": \"white\"}, \"zaxis\": {\"backgroundcolor\": \"#E5ECF6\", \"gridcolor\": \"white\", \"gridwidth\": 2, \"linecolor\": \"white\", \"showbackground\": true, \"ticks\": \"\", \"zerolinecolor\": \"white\"}}, \"shapedefaults\": {\"line\": {\"color\": \"#2a3f5f\"}}, \"ternary\": {\"aaxis\": {\"gridcolor\": \"white\", \"linecolor\": \"white\", \"ticks\": \"\"}, \"baxis\": {\"gridcolor\": \"white\", \"linecolor\": \"white\", \"ticks\": \"\"}, \"bgcolor\": \"#E5ECF6\", \"caxis\": {\"gridcolor\": \"white\", \"linecolor\": \"white\", \"ticks\": \"\"}}, \"title\": {\"x\": 0.05}, \"xaxis\": {\"automargin\": true, \"gridcolor\": \"white\", \"linecolor\": \"white\", \"ticks\": \"\", \"title\": {\"standoff\": 15}, \"zerolinecolor\": \"white\", \"zerolinewidth\": 2}, \"yaxis\": {\"automargin\": true, \"gridcolor\": \"white\", \"linecolor\": \"white\", \"ticks\": \"\", \"title\": {\"standoff\": 15}, \"zerolinecolor\": \"white\", \"zerolinewidth\": 2}}}, \"title\": {\"text\": \"doc2vec sections\"}, \"xaxis\": {\"anchor\": \"y\", \"domain\": [0.0, 1.0], \"title\": {\"text\": \"score\"}}, \"yaxis\": {\"anchor\": \"x\", \"domain\": [0.0, 1.0], \"title\": {\"text\": \"count\"}}},\n",
              "                        {\"responsive\": true}\n",
              "                    ).then(function(){\n",
              "                            \n",
              "var gd = document.getElementById('bcd4c892-a237-47d9-8b23-60bbc2660205');\n",
              "var x = new MutationObserver(function (mutations, observer) {{\n",
              "        var display = window.getComputedStyle(gd).display;\n",
              "        if (!display || display === 'none') {{\n",
              "            console.log([gd, 'removed!']);\n",
              "            Plotly.purge(gd);\n",
              "            observer.disconnect();\n",
              "        }}\n",
              "}});\n",
              "\n",
              "// Listen for the removal of the full notebook cells\n",
              "var notebookContainer = gd.closest('#notebook-container');\n",
              "if (notebookContainer) {{\n",
              "    x.observe(notebookContainer, {childList: true});\n",
              "}}\n",
              "\n",
              "// Listen for the clearing of the current output cell\n",
              "var outputEl = gd.closest('.output');\n",
              "if (outputEl) {{\n",
              "    x.observe(outputEl, {childList: true});\n",
              "}}\n",
              "\n",
              "                        })\n",
              "                };\n",
              "                \n",
              "            </script>\n",
              "        </div>\n",
              "</body>\n",
              "</html>"
            ]
          },
          "metadata": {}
        }
      ]
    },
    {
      "cell_type": "code",
      "metadata": {
        "id": "OKeaqYxGPMZj"
      },
      "source": [
        "if use_wandb:\n",
        "  wandb.log({\"scores_hist\": fig})"
      ],
      "execution_count": 87,
      "outputs": []
    },
    {
      "cell_type": "code",
      "metadata": {
        "colab": {
          "base_uri": "https://localhost:8080/",
          "height": 1000
        },
        "id": "DgV3ccDr5Ux4",
        "outputId": "9241e84a-a212-499e-8fa6-09e3906cd471"
      },
      "source": [
        "result, details = recommend_tune(df_section_sim, 'Perdido')\n",
        "result.head(50)"
      ],
      "execution_count": 88,
      "outputs": [
        {
          "output_type": "execute_result",
          "data": {
            "text/html": [
              "<div>\n",
              "<style scoped>\n",
              "    .dataframe tbody tr th:only-of-type {\n",
              "        vertical-align: middle;\n",
              "    }\n",
              "\n",
              "    .dataframe tbody tr th {\n",
              "        vertical-align: top;\n",
              "    }\n",
              "\n",
              "    .dataframe thead th {\n",
              "        text-align: right;\n",
              "    }\n",
              "</style>\n",
              "<table border=\"1\" class=\"dataframe\">\n",
              "  <thead>\n",
              "    <tr style=\"text-align: right;\">\n",
              "      <th></th>\n",
              "      <th>index</th>\n",
              "      <th>reference</th>\n",
              "      <th>similar_title</th>\n",
              "      <th>score</th>\n",
              "      <th>max</th>\n",
              "      <th>score_div_max</th>\n",
              "    </tr>\n",
              "  </thead>\n",
              "  <tbody>\n",
              "    <tr>\n",
              "      <th>0</th>\n",
              "      <td>0</td>\n",
              "      <td>Perdido</td>\n",
              "      <td>I Get A Kick Out Of You</td>\n",
              "      <td>0.948797</td>\n",
              "      <td>0.948797</td>\n",
              "      <td>1.000000</td>\n",
              "    </tr>\n",
              "    <tr>\n",
              "      <th>1</th>\n",
              "      <td>1</td>\n",
              "      <td>Perdido</td>\n",
              "      <td>Scrapple From The Apple</td>\n",
              "      <td>0.960647</td>\n",
              "      <td>0.960647</td>\n",
              "      <td>1.000000</td>\n",
              "    </tr>\n",
              "    <tr>\n",
              "      <th>2</th>\n",
              "      <td>2</td>\n",
              "      <td>Perdido</td>\n",
              "      <td>C.T.A.</td>\n",
              "      <td>0.960531</td>\n",
              "      <td>0.960647</td>\n",
              "      <td>0.999880</td>\n",
              "    </tr>\n",
              "    <tr>\n",
              "      <th>3</th>\n",
              "      <td>3</td>\n",
              "      <td>Perdido</td>\n",
              "      <td>Cottontail</td>\n",
              "      <td>0.957544</td>\n",
              "      <td>0.960647</td>\n",
              "      <td>0.996770</td>\n",
              "    </tr>\n",
              "    <tr>\n",
              "      <th>4</th>\n",
              "      <td>4</td>\n",
              "      <td>Perdido</td>\n",
              "      <td>Sunday</td>\n",
              "      <td>0.953133</td>\n",
              "      <td>0.960647</td>\n",
              "      <td>0.992178</td>\n",
              "    </tr>\n",
              "    <tr>\n",
              "      <th>5</th>\n",
              "      <td>5</td>\n",
              "      <td>Perdido</td>\n",
              "      <td>When I'm Cleaning Windows</td>\n",
              "      <td>0.931282</td>\n",
              "      <td>0.960647</td>\n",
              "      <td>0.969433</td>\n",
              "    </tr>\n",
              "    <tr>\n",
              "      <th>6</th>\n",
              "      <td>6</td>\n",
              "      <td>Perdido</td>\n",
              "      <td>I Got Rhythm</td>\n",
              "      <td>0.931004</td>\n",
              "      <td>0.960647</td>\n",
              "      <td>0.969143</td>\n",
              "    </tr>\n",
              "    <tr>\n",
              "      <th>7</th>\n",
              "      <td>7</td>\n",
              "      <td>Perdido</td>\n",
              "      <td>Thriving From A Riff</td>\n",
              "      <td>0.927033</td>\n",
              "      <td>0.960647</td>\n",
              "      <td>0.965009</td>\n",
              "    </tr>\n",
              "    <tr>\n",
              "      <th>8</th>\n",
              "      <td>8</td>\n",
              "      <td>Perdido</td>\n",
              "      <td>Little Peace In C For You</td>\n",
              "      <td>0.923639</td>\n",
              "      <td>0.960647</td>\n",
              "      <td>0.961476</td>\n",
              "    </tr>\n",
              "    <tr>\n",
              "      <th>9</th>\n",
              "      <td>9</td>\n",
              "      <td>Perdido</td>\n",
              "      <td>I Love Being Here With You</td>\n",
              "      <td>0.921667</td>\n",
              "      <td>0.960647</td>\n",
              "      <td>0.959423</td>\n",
              "    </tr>\n",
              "    <tr>\n",
              "      <th>10</th>\n",
              "      <td>10</td>\n",
              "      <td>Perdido</td>\n",
              "      <td>No Moe</td>\n",
              "      <td>0.919651</td>\n",
              "      <td>0.960647</td>\n",
              "      <td>0.957325</td>\n",
              "    </tr>\n",
              "    <tr>\n",
              "      <th>11</th>\n",
              "      <td>11</td>\n",
              "      <td>Perdido</td>\n",
              "      <td>Rhythm-a-ning</td>\n",
              "      <td>0.919291</td>\n",
              "      <td>0.960647</td>\n",
              "      <td>0.956950</td>\n",
              "    </tr>\n",
              "    <tr>\n",
              "      <th>12</th>\n",
              "      <td>12</td>\n",
              "      <td>Perdido</td>\n",
              "      <td>Oleo</td>\n",
              "      <td>0.919005</td>\n",
              "      <td>0.960647</td>\n",
              "      <td>0.956653</td>\n",
              "    </tr>\n",
              "    <tr>\n",
              "      <th>13</th>\n",
              "      <td>13</td>\n",
              "      <td>Perdido</td>\n",
              "      <td>Flintstones</td>\n",
              "      <td>0.910384</td>\n",
              "      <td>0.960647</td>\n",
              "      <td>0.947678</td>\n",
              "    </tr>\n",
              "    <tr>\n",
              "      <th>14</th>\n",
              "      <td>14</td>\n",
              "      <td>Perdido</td>\n",
              "      <td>Under A Blanket Of Blue</td>\n",
              "      <td>0.883771</td>\n",
              "      <td>0.948797</td>\n",
              "      <td>0.946213</td>\n",
              "    </tr>\n",
              "    <tr>\n",
              "      <th>15</th>\n",
              "      <td>15</td>\n",
              "      <td>Perdido</td>\n",
              "      <td>Jitterbug Waltz</td>\n",
              "      <td>0.809183</td>\n",
              "      <td>0.855276</td>\n",
              "      <td>0.946107</td>\n",
              "    </tr>\n",
              "    <tr>\n",
              "      <th>16</th>\n",
              "      <td>16</td>\n",
              "      <td>Perdido</td>\n",
              "      <td>Shaw 'Nuff</td>\n",
              "      <td>0.907303</td>\n",
              "      <td>0.960647</td>\n",
              "      <td>0.944471</td>\n",
              "    </tr>\n",
              "    <tr>\n",
              "      <th>17</th>\n",
              "      <td>17</td>\n",
              "      <td>Perdido</td>\n",
              "      <td>Salt Peanuts</td>\n",
              "      <td>0.905051</td>\n",
              "      <td>0.960647</td>\n",
              "      <td>0.942127</td>\n",
              "    </tr>\n",
              "    <tr>\n",
              "      <th>18</th>\n",
              "      <td>18</td>\n",
              "      <td>Perdido</td>\n",
              "      <td>Out Of Nowhere</td>\n",
              "      <td>0.825021</td>\n",
              "      <td>0.948797</td>\n",
              "      <td>0.941551</td>\n",
              "    </tr>\n",
              "    <tr>\n",
              "      <th>19</th>\n",
              "      <td>19</td>\n",
              "      <td>Perdido</td>\n",
              "      <td>Two Not One</td>\n",
              "      <td>0.903102</td>\n",
              "      <td>0.960647</td>\n",
              "      <td>0.940098</td>\n",
              "    </tr>\n",
              "    <tr>\n",
              "      <th>20</th>\n",
              "      <td>20</td>\n",
              "      <td>Perdido</td>\n",
              "      <td>Day By Day</td>\n",
              "      <td>0.876960</td>\n",
              "      <td>0.948797</td>\n",
              "      <td>0.931605</td>\n",
              "    </tr>\n",
              "    <tr>\n",
              "      <th>21</th>\n",
              "      <td>21</td>\n",
              "      <td>Perdido</td>\n",
              "      <td>It's Been A Long Long Time</td>\n",
              "      <td>0.880583</td>\n",
              "      <td>0.948797</td>\n",
              "      <td>0.928105</td>\n",
              "    </tr>\n",
              "    <tr>\n",
              "      <th>22</th>\n",
              "      <td>22</td>\n",
              "      <td>Perdido</td>\n",
              "      <td>Diane</td>\n",
              "      <td>0.845114</td>\n",
              "      <td>0.948797</td>\n",
              "      <td>0.924839</td>\n",
              "    </tr>\n",
              "    <tr>\n",
              "      <th>23</th>\n",
              "      <td>23</td>\n",
              "      <td>Perdido</td>\n",
              "      <td>I Wish I Knew</td>\n",
              "      <td>0.848603</td>\n",
              "      <td>0.948797</td>\n",
              "      <td>0.918547</td>\n",
              "    </tr>\n",
              "    <tr>\n",
              "      <th>24</th>\n",
              "      <td>24</td>\n",
              "      <td>Perdido</td>\n",
              "      <td>Passport</td>\n",
              "      <td>0.881382</td>\n",
              "      <td>0.960647</td>\n",
              "      <td>0.917488</td>\n",
              "    </tr>\n",
              "    <tr>\n",
              "      <th>25</th>\n",
              "      <td>25</td>\n",
              "      <td>Perdido</td>\n",
              "      <td>Moose The Mooche</td>\n",
              "      <td>0.881350</td>\n",
              "      <td>0.960647</td>\n",
              "      <td>0.917455</td>\n",
              "    </tr>\n",
              "    <tr>\n",
              "      <th>26</th>\n",
              "      <td>26</td>\n",
              "      <td>Perdido</td>\n",
              "      <td>Anthropology</td>\n",
              "      <td>0.872455</td>\n",
              "      <td>0.960647</td>\n",
              "      <td>0.908195</td>\n",
              "    </tr>\n",
              "    <tr>\n",
              "      <th>27</th>\n",
              "      <td>27</td>\n",
              "      <td>Perdido</td>\n",
              "      <td>Sometimes I'm Happy</td>\n",
              "      <td>0.855772</td>\n",
              "      <td>0.948797</td>\n",
              "      <td>0.901955</td>\n",
              "    </tr>\n",
              "    <tr>\n",
              "      <th>28</th>\n",
              "      <td>28</td>\n",
              "      <td>Perdido</td>\n",
              "      <td>All Of You</td>\n",
              "      <td>0.855556</td>\n",
              "      <td>0.948797</td>\n",
              "      <td>0.901727</td>\n",
              "    </tr>\n",
              "    <tr>\n",
              "      <th>29</th>\n",
              "      <td>29</td>\n",
              "      <td>Perdido</td>\n",
              "      <td>Someday You'll Be Sorry</td>\n",
              "      <td>0.851132</td>\n",
              "      <td>0.948797</td>\n",
              "      <td>0.897390</td>\n",
              "    </tr>\n",
              "    <tr>\n",
              "      <th>30</th>\n",
              "      <td>30</td>\n",
              "      <td>Perdido</td>\n",
              "      <td>How Are Things In Glocca Morra</td>\n",
              "      <td>0.764604</td>\n",
              "      <td>0.855276</td>\n",
              "      <td>0.893985</td>\n",
              "    </tr>\n",
              "    <tr>\n",
              "      <th>31</th>\n",
              "      <td>31</td>\n",
              "      <td>Perdido</td>\n",
              "      <td>Yearning</td>\n",
              "      <td>0.763892</td>\n",
              "      <td>0.855276</td>\n",
              "      <td>0.893152</td>\n",
              "    </tr>\n",
              "    <tr>\n",
              "      <th>32</th>\n",
              "      <td>32</td>\n",
              "      <td>Perdido</td>\n",
              "      <td>On The Trail</td>\n",
              "      <td>0.776475</td>\n",
              "      <td>0.933923</td>\n",
              "      <td>0.890656</td>\n",
              "    </tr>\n",
              "    <tr>\n",
              "      <th>33</th>\n",
              "      <td>33</td>\n",
              "      <td>Perdido</td>\n",
              "      <td>Don't Worry 'Bout Me</td>\n",
              "      <td>0.837196</td>\n",
              "      <td>0.948797</td>\n",
              "      <td>0.890607</td>\n",
              "    </tr>\n",
              "    <tr>\n",
              "      <th>34</th>\n",
              "      <td>34</td>\n",
              "      <td>Perdido</td>\n",
              "      <td>Hackensack</td>\n",
              "      <td>0.813211</td>\n",
              "      <td>0.948797</td>\n",
              "      <td>0.889579</td>\n",
              "    </tr>\n",
              "    <tr>\n",
              "      <th>35</th>\n",
              "      <td>35</td>\n",
              "      <td>Perdido</td>\n",
              "      <td>You Can Depend On Me</td>\n",
              "      <td>0.785016</td>\n",
              "      <td>0.948797</td>\n",
              "      <td>0.882233</td>\n",
              "    </tr>\n",
              "    <tr>\n",
              "      <th>36</th>\n",
              "      <td>36</td>\n",
              "      <td>Perdido</td>\n",
              "      <td>Confessin' (That I Love You)</td>\n",
              "      <td>0.796937</td>\n",
              "      <td>0.948797</td>\n",
              "      <td>0.881811</td>\n",
              "    </tr>\n",
              "    <tr>\n",
              "      <th>37</th>\n",
              "      <td>37</td>\n",
              "      <td>Perdido</td>\n",
              "      <td>You Are Too Beautiful</td>\n",
              "      <td>0.822898</td>\n",
              "      <td>0.948797</td>\n",
              "      <td>0.869553</td>\n",
              "    </tr>\n",
              "    <tr>\n",
              "      <th>38</th>\n",
              "      <td>38</td>\n",
              "      <td>Perdido</td>\n",
              "      <td>Dexterity</td>\n",
              "      <td>0.833674</td>\n",
              "      <td>0.960647</td>\n",
              "      <td>0.867826</td>\n",
              "    </tr>\n",
              "    <tr>\n",
              "      <th>39</th>\n",
              "      <td>39</td>\n",
              "      <td>Perdido</td>\n",
              "      <td>Wait Till You See Her</td>\n",
              "      <td>0.739118</td>\n",
              "      <td>0.855276</td>\n",
              "      <td>0.864186</td>\n",
              "    </tr>\n",
              "    <tr>\n",
              "      <th>40</th>\n",
              "      <td>40</td>\n",
              "      <td>Perdido</td>\n",
              "      <td>Same Old Love, The</td>\n",
              "      <td>0.737244</td>\n",
              "      <td>0.855276</td>\n",
              "      <td>0.861995</td>\n",
              "    </tr>\n",
              "    <tr>\n",
              "      <th>41</th>\n",
              "      <td>41</td>\n",
              "      <td>Perdido</td>\n",
              "      <td>Wish Me Luck As You Wave Me Goodbye</td>\n",
              "      <td>0.733350</td>\n",
              "      <td>0.855276</td>\n",
              "      <td>0.857442</td>\n",
              "    </tr>\n",
              "    <tr>\n",
              "      <th>42</th>\n",
              "      <td>42</td>\n",
              "      <td>Perdido</td>\n",
              "      <td>Once In A While (Ballad)</td>\n",
              "      <td>0.731033</td>\n",
              "      <td>0.855276</td>\n",
              "      <td>0.854733</td>\n",
              "    </tr>\n",
              "    <tr>\n",
              "      <th>43</th>\n",
              "      <td>43</td>\n",
              "      <td>Perdido</td>\n",
              "      <td>All My Tomorrows</td>\n",
              "      <td>0.800662</td>\n",
              "      <td>0.948797</td>\n",
              "      <td>0.850405</td>\n",
              "    </tr>\n",
              "    <tr>\n",
              "      <th>44</th>\n",
              "      <td>44</td>\n",
              "      <td>Perdido</td>\n",
              "      <td>Am I Blue</td>\n",
              "      <td>0.806001</td>\n",
              "      <td>0.948797</td>\n",
              "      <td>0.849498</td>\n",
              "    </tr>\n",
              "    <tr>\n",
              "      <th>45</th>\n",
              "      <td>45</td>\n",
              "      <td>Perdido</td>\n",
              "      <td>Out Of This World</td>\n",
              "      <td>0.813418</td>\n",
              "      <td>0.960647</td>\n",
              "      <td>0.846740</td>\n",
              "    </tr>\n",
              "    <tr>\n",
              "      <th>46</th>\n",
              "      <td>46</td>\n",
              "      <td>Perdido</td>\n",
              "      <td>They Didn't Believe Me</td>\n",
              "      <td>0.801688</td>\n",
              "      <td>0.948797</td>\n",
              "      <td>0.844953</td>\n",
              "    </tr>\n",
              "    <tr>\n",
              "      <th>47</th>\n",
              "      <td>47</td>\n",
              "      <td>Perdido</td>\n",
              "      <td>Come Back To Me</td>\n",
              "      <td>0.801066</td>\n",
              "      <td>0.948797</td>\n",
              "      <td>0.844739</td>\n",
              "    </tr>\n",
              "    <tr>\n",
              "      <th>48</th>\n",
              "      <td>48</td>\n",
              "      <td>Perdido</td>\n",
              "      <td>P.S. I Love You</td>\n",
              "      <td>0.800760</td>\n",
              "      <td>0.948797</td>\n",
              "      <td>0.843975</td>\n",
              "    </tr>\n",
              "    <tr>\n",
              "      <th>49</th>\n",
              "      <td>49</td>\n",
              "      <td>Perdido</td>\n",
              "      <td>After You've Gone</td>\n",
              "      <td>0.798388</td>\n",
              "      <td>0.948797</td>\n",
              "      <td>0.841475</td>\n",
              "    </tr>\n",
              "  </tbody>\n",
              "</table>\n",
              "</div>"
            ],
            "text/plain": [
              "    index reference  ...       max  score_div_max\n",
              "0       0   Perdido  ...  0.948797       1.000000\n",
              "1       1   Perdido  ...  0.960647       1.000000\n",
              "2       2   Perdido  ...  0.960647       0.999880\n",
              "3       3   Perdido  ...  0.960647       0.996770\n",
              "4       4   Perdido  ...  0.960647       0.992178\n",
              "5       5   Perdido  ...  0.960647       0.969433\n",
              "6       6   Perdido  ...  0.960647       0.969143\n",
              "7       7   Perdido  ...  0.960647       0.965009\n",
              "8       8   Perdido  ...  0.960647       0.961476\n",
              "9       9   Perdido  ...  0.960647       0.959423\n",
              "10     10   Perdido  ...  0.960647       0.957325\n",
              "11     11   Perdido  ...  0.960647       0.956950\n",
              "12     12   Perdido  ...  0.960647       0.956653\n",
              "13     13   Perdido  ...  0.960647       0.947678\n",
              "14     14   Perdido  ...  0.948797       0.946213\n",
              "15     15   Perdido  ...  0.855276       0.946107\n",
              "16     16   Perdido  ...  0.960647       0.944471\n",
              "17     17   Perdido  ...  0.960647       0.942127\n",
              "18     18   Perdido  ...  0.948797       0.941551\n",
              "19     19   Perdido  ...  0.960647       0.940098\n",
              "20     20   Perdido  ...  0.948797       0.931605\n",
              "21     21   Perdido  ...  0.948797       0.928105\n",
              "22     22   Perdido  ...  0.948797       0.924839\n",
              "23     23   Perdido  ...  0.948797       0.918547\n",
              "24     24   Perdido  ...  0.960647       0.917488\n",
              "25     25   Perdido  ...  0.960647       0.917455\n",
              "26     26   Perdido  ...  0.960647       0.908195\n",
              "27     27   Perdido  ...  0.948797       0.901955\n",
              "28     28   Perdido  ...  0.948797       0.901727\n",
              "29     29   Perdido  ...  0.948797       0.897390\n",
              "30     30   Perdido  ...  0.855276       0.893985\n",
              "31     31   Perdido  ...  0.855276       0.893152\n",
              "32     32   Perdido  ...  0.933923       0.890656\n",
              "33     33   Perdido  ...  0.948797       0.890607\n",
              "34     34   Perdido  ...  0.948797       0.889579\n",
              "35     35   Perdido  ...  0.948797       0.882233\n",
              "36     36   Perdido  ...  0.948797       0.881811\n",
              "37     37   Perdido  ...  0.948797       0.869553\n",
              "38     38   Perdido  ...  0.960647       0.867826\n",
              "39     39   Perdido  ...  0.855276       0.864186\n",
              "40     40   Perdido  ...  0.855276       0.861995\n",
              "41     41   Perdido  ...  0.855276       0.857442\n",
              "42     42   Perdido  ...  0.855276       0.854733\n",
              "43     43   Perdido  ...  0.948797       0.850405\n",
              "44     44   Perdido  ...  0.948797       0.849498\n",
              "45     45   Perdido  ...  0.960647       0.846740\n",
              "46     46   Perdido  ...  0.948797       0.844953\n",
              "47     47   Perdido  ...  0.948797       0.844739\n",
              "48     48   Perdido  ...  0.948797       0.843975\n",
              "49     49   Perdido  ...  0.948797       0.841475\n",
              "\n",
              "[50 rows x 6 columns]"
            ]
          },
          "metadata": {},
          "execution_count": 88
        }
      ]
    },
    {
      "cell_type": "code",
      "metadata": {
        "id": "hLFaFo62XlMS",
        "colab": {
          "base_uri": "https://localhost:8080/"
        },
        "outputId": "689e5d7d-c4f0-4021-c4bb-89a6c71d0aaf"
      },
      "source": [
        "dd = pd.DataFrame(columns = recommender_results_cols)\n",
        "\n",
        "for tune in tunes_eval_list:\n",
        "  result, details = recommend_tune(df_sim, tune)\n",
        "  dd['id'] = result['index']\n",
        "  dd['reference'] = tune\n",
        "  dd['method'] = 'doc2vec'\n",
        "  dd['similar'] = result['similar_title']\n",
        "  dd['score_div_max'] = result['score_div_max']\n",
        "  dd['score'] = result['score']\n",
        "\n",
        "recommender_results = recommender_results.append(dd)\n",
        "len(recommender_results)"
      ],
      "execution_count": 89,
      "outputs": [
        {
          "output_type": "execute_result",
          "data": {
            "text/plain": [
              "192"
            ]
          },
          "metadata": {},
          "execution_count": 89
        }
      ]
    },
    {
      "cell_type": "markdown",
      "metadata": {
        "id": "aosPKEWljlm0"
      },
      "source": [
        "### Contrafacts"
      ]
    },
    {
      "cell_type": "code",
      "metadata": {
        "id": "SaYSqTJokGc5"
      },
      "source": [
        "def test_doc2vec_contrafacts(tunes, N=15):\n",
        "  matches = 0\n",
        "  number_of_sections = 0\n",
        "  results = {}\n",
        "\n",
        "  for tune, similar_tune in contrafacts.items():\n",
        "    \n",
        "    # loop over all sections of the tune\n",
        "    sub_match = 0\n",
        "    for s1 in title_to_sectionid[tune]:\n",
        "      sims = model.dv.similar_by_key(s1, topn=N)\n",
        "      # check if the section matches the expected title; consider only the first 15 recommendations\n",
        "      i = 0\n",
        "      for match, value in sims:\n",
        "        # tune match\n",
        "        if (type(match) == str):\n",
        "          titleid = int(match.replace('titleid_', ''))\n",
        "          if titleid_to_title[titleid] == similar_tune:\n",
        "            sub_match += 1\n",
        "\n",
        "        # section match\n",
        "        else:\n",
        "          if sectionid_to_title[match] == similar_tune:\n",
        "            sub_match += 1\n",
        "\n",
        "    # for each title, increase matches if at least one of the section matched the expected title\n",
        "    if sub_match > 0:\n",
        "      matches += 1  \n",
        "      results[tune] = 1\n",
        "    else:\n",
        "      results[tune] = 0\n",
        "  \n",
        "  return matches, results"
      ],
      "execution_count": 90,
      "outputs": []
    },
    {
      "cell_type": "code",
      "metadata": {
        "colab": {
          "base_uri": "https://localhost:8080/"
        },
        "id": "eAjM3lU4ltzP",
        "outputId": "65d4dcc5-cfa4-40ad-d2e5-234920ef58fa"
      },
      "source": [
        "topN = 15\n",
        "matches, results = test_doc2vec_contrafacts(contrafacts, topN)\n",
        "\n",
        "[print(f\"{val}: {rr}\") for rr, val in results.items()] \n",
        "print() \n",
        "print(f\"Found matches: {matches} out of {len(contrafacts)}: {100*matches/len(contrafacts):.3f}%\")"
      ],
      "execution_count": 91,
      "outputs": [
        {
          "output_type": "stream",
          "name": "stdout",
          "text": [
            "0: 26-2\n",
            "1: 52nd Street Theme\n",
            "1: Ablution\n",
            "1: Anthropology\n",
            "0: Ballade\n",
            "0: Bright Mississippi\n",
            "1: C.T.A.\n",
            "0: Celia\n",
            "1: Cottontail\n",
            "0: Countdown\n",
            "0: Dewey Square\n",
            "1: Dexterity\n",
            "1: Dig\n",
            "1: Donna Lee\n",
            "0: Don't Be That Way\n",
            "0: Eternal Triangle\n",
            "1: Evidence\n",
            "1: Flintstones\n",
            "0: Four On Six\n",
            "1: Freight Train\n",
            "0: Good Bait\n",
            "0: Hackensack\n",
            "1: Half Nelson\n",
            "1: Hot House\n",
            "1: Impressions\n",
            "1: In A Mellow Tone (In A Mellotone)\n",
            "1: In Walked Bud\n",
            "1: Ko Ko\n",
            "0: Lennie's Pennies\n",
            "0: Little Rootie Tootie\n",
            "0: Little Willie Leaps\n",
            "1: Lullaby Of Birdland\n",
            "1: Moose The Mooche\n",
            "0: My Little Suede Shoes\n",
            "1: Oleo\n",
            "1: Ornithology\n",
            "1: Passport\n",
            "0: Quasimodo (Theme)\n",
            "1: Rhythm-a-ning\n",
            "0: Room 608\n",
            "1: Salt Peanuts\n",
            "0: Satellite\n",
            "1: Scrapple From The Apple\n",
            "0: Seven Come Eleven\n",
            "1: Shaw 'Nuff\n",
            "1: Theme, The\n",
            "0: Tour De Force\n",
            "0: Wow\n",
            "0: Yardbird Suite\n",
            "0: Sweet Sue, Just You\n",
            "0: These Foolish Things\n",
            "0: Misty\n",
            "\n",
            "Found matches: 27 out of 52: 51.923%\n"
          ]
        }
      ]
    },
    {
      "cell_type": "code",
      "metadata": {
        "id": "8C0kzj0Jp425"
      },
      "source": [
        "if use_wandb:\n",
        "  wandb.log({'doc2vec': {\n",
        "      'contrafacts': {\n",
        "          'topN': topN,\n",
        "          'success': matches/len(contrafacts),\n",
        "          #'results': results\n",
        "      }\n",
        "  }})"
      ],
      "execution_count": 92,
      "outputs": []
    },
    {
      "cell_type": "markdown",
      "metadata": {
        "id": "ryEvGZqYDsMb"
      },
      "source": [
        "## Document Similarity\n"
      ]
    },
    {
      "cell_type": "markdown",
      "metadata": {
        "id": "aHHyAjtljQon"
      },
      "source": [
        "### Single Tunes"
      ]
    },
    {
      "cell_type": "markdown",
      "metadata": {
        "id": "o-eOM9DiFdAt"
      },
      "source": [
        "The TitleId is tagged with the prefix `title_id`, so that it can be distinguished from the sectionid tags, which are numeric."
      ]
    },
    {
      "cell_type": "code",
      "metadata": {
        "colab": {
          "base_uri": "https://localhost:8080/"
        },
        "id": "KRd6qAdY5Z4g",
        "outputId": "607b843d-77d3-42f7-afe6-394ffffa5023"
      },
      "source": [
        "tunes_eval_list"
      ],
      "execution_count": 93,
      "outputs": [
        {
          "output_type": "execute_result",
          "data": {
            "text/plain": [
              "[\"After You've Gone\",\n",
              " \"All God's Chillun Got Rhythm\",\n",
              " 'All Of Me',\n",
              " 'Blood Count',\n",
              " 'Blue Moon',\n",
              " 'But Beautiful',\n",
              " 'Bye Bye Blackbird',\n",
              " 'Call Me Irresponsible',\n",
              " 'Corcovado',\n",
              " 'Dinah',\n",
              " 'East Of The Sun',\n",
              " 'Footprints',\n",
              " 'Giant Steps',\n",
              " 'Honeysuckle Rose',\n",
              " 'I Got Rhythm',\n",
              " 'Misty',\n",
              " 'Naima',\n",
              " 'Old Fashioned Love',\n",
              " 'Perdido',\n",
              " \"Rockin' Chair\",\n",
              " 'Sophisticated Lady',\n",
              " 'Sweet Sue, Just You',\n",
              " 'These Foolish Things',\n",
              " \"We'll Be Together Again\"]"
            ]
          },
          "metadata": {},
          "execution_count": 93
        }
      ]
    },
    {
      "cell_type": "code",
      "metadata": {
        "colab": {
          "base_uri": "https://localhost:8080/"
        },
        "id": "sHWTJtJ_HyoJ",
        "outputId": "05d6a5ff-a2e1-45be-ed8c-588cafd5b481"
      },
      "source": [
        "# convert titles to titleid; if multiple tunes with same title, takes the first one. \n",
        "titleid_eval = []\n",
        "for title in tunes_eval_list:\n",
        "  titleid_eval.append(titles.query(f'title == \"{title}\"').reset_index().loc[0,'tune_id'])\n",
        "titleid_eval"
      ],
      "execution_count": 94,
      "outputs": [
        {
          "output_type": "execute_result",
          "data": {
            "text/plain": [
              "[38,\n",
              " 57,\n",
              " 60,\n",
              " 149,\n",
              " 159,\n",
              " 199,\n",
              " 206,\n",
              " 213,\n",
              " 257,\n",
              " 308,\n",
              " 341,\n",
              " 392,\n",
              " 425,\n",
              " 472,\n",
              " 505,\n",
              " 805,\n",
              " 859,\n",
              " 1639,\n",
              " 949,\n",
              " 993,\n",
              " 1080,\n",
              " 1136,\n",
              " 1168,\n",
              " 1257]"
            ]
          },
          "metadata": {},
          "execution_count": 94
        }
      ]
    },
    {
      "cell_type": "code",
      "metadata": {
        "colab": {
          "base_uri": "https://localhost:8080/"
        },
        "id": "XKO9wonAHsch",
        "outputId": "e5a2c6bf-01ad-4a86-8cd4-210abbb526de"
      },
      "source": [
        "for titleid in titleid_eval:\n",
        "  print()\n",
        "  print(titleid_to_title[titleid])\n",
        "  sims = model.dv.similar_by_key(f'titleid_{titleid}', topn=30)\n",
        "  for key, value in sims:\n",
        "    if type(key) == str:  # only display document similarities, skip all section similarities\n",
        "      print(f\"{value:.3f} {titleid_to_title[int(key.replace('titleid_', ''))]}\")\n"
      ],
      "execution_count": 95,
      "outputs": [
        {
          "output_type": "stream",
          "name": "stdout",
          "text": [
            "\n",
            "After You've Gone\n",
            "0.756 Home At Last\n",
            "0.716 Make Someone Happy\n",
            "0.704 Remember\n",
            "0.702 September In The Rain\n",
            "0.699 Tadd's Delight\n",
            "0.693 All Of You\n",
            "0.691 Cherokee\n",
            "0.688 Deed I Do\n",
            "0.685 I'll Close My Eyes\n",
            "0.681 Weary Bules (AKA Shake It And Break It)\n",
            "0.679 There Will Never Be Another You\n",
            "0.677 I'll Remember April\n",
            "0.675 This I Dig Of You\n",
            "0.675 Don't Worry 'Bout Me\n",
            "0.673 I Want To Talk About You\n",
            "\n",
            "All God's Chillun Got Rhythm\n",
            "0.808 Too Young To Go Steady\n",
            "0.794 Diane\n",
            "0.782 Again\n",
            "0.779 They Didn't Believe Me\n",
            "0.757 Minor Mishap\n",
            "0.754 Teach Me Tonight\n",
            "0.748 My Heart Stood Still\n",
            "0.743 Blue Moon\n",
            "0.738 What's New\n",
            "0.738 Touch Of Your Lips, The\n",
            "\n",
            "All Of Me\n",
            "0.855 Martha (Maizie)\n",
            "0.815 Into Each Life Some Rain Must Fall\n",
            "0.803 When You Wish Upon A Star\n",
            "0.767 My Baby Just Cares For Me\n",
            "0.761 Litha\n",
            "0.759 Shout 'Em, Aunt Tillie\n",
            "0.748 I'm Through With Love\n",
            "0.747 Four\n",
            "0.745 You're Nobody Till Somebody Loves You\n",
            "0.744 Strangers In The Night\n",
            "0.743 Call Me Irresponsible\n",
            "0.742 Blue (And Broken Hearted)\n",
            "\n",
            "Blood Count\n",
            "0.803 Black Coffee\n",
            "0.790 Played Twice\n",
            "0.783 Ba-lue Bolivar Ba-lues-are\n",
            "0.781 A Sound For Sore Ears\n",
            "0.768 Epistrophy\n",
            "0.768 Pensativa\n",
            "0.761 This I Dig Of You\n",
            "0.760 Lyresto\n",
            "0.754 Born To Be Blue\n",
            "0.752 One Note Samba\n",
            "0.749 On Broadway\n",
            "0.748 Serene\n",
            "0.745 Sweet And Lovely\n",
            "\n",
            "Blue Moon\n",
            "0.878 Time After Time\n",
            "0.856 52nd Street Theme\n",
            "0.854 Jeepers Creepers\n",
            "0.850 At Last\n",
            "0.839 Mountain Greenery\n",
            "0.833 Don't Be That Way\n",
            "0.832 I'm In The Mood For Love\n",
            "0.832 Too Young To Go Steady\n",
            "0.822 Fools Rush In\n",
            "\n",
            "But Beautiful\n",
            "0.747 Stairway To The Stars\n",
            "0.743 Serenade To A Soul Sister\n",
            "0.729 A Beautiful Friendship\n",
            "0.724 There Will Never Be Another You\n",
            "0.712 Fools Rush In\n",
            "0.710 African Queen, The\n",
            "0.707 Too Young To Go Steady\n",
            "0.702 Blue Room, The\n",
            "0.701 Beautiful Love\n",
            "\n",
            "Bye Bye Blackbird\n",
            "0.874 Moten Swing\n",
            "0.872 Ladies Of Calcutta, The\n",
            "0.847 Somebody Loves Me\n",
            "0.840 Don't Take Your Love From Me\n",
            "0.837 True Love\n",
            "0.826 Just One More Chance\n",
            "0.823 Mimi\n",
            "0.820 I Never Knew\n",
            "0.820 Frenesi\n",
            "\n",
            "Call Me Irresponsible\n",
            "0.810 Five Foot Two\n",
            "0.810 Bye Bye Blues\n",
            "0.806 Twisted\n",
            "0.801 Someday You'll Be Sorry\n",
            "0.798 I'll Remember April\n",
            "0.790 In A Shanty In Old Shanty Town\n",
            "0.786 Dream\n",
            "0.782 Hungaria\n",
            "0.780 Please Don't Talk About Me When I'm Gone\n",
            "\n",
            "Corcovado\n",
            "0.805 Joshua\n",
            "0.788 Recordame\n",
            "0.779 Better Git It In Your Soul\n",
            "0.778 Beautiful Ohio\n",
            "0.766 Contemplation\n",
            "0.765 Weary Bules (AKA Shake It And Break It)\n",
            "0.759 A Weaver Of Dreams\n",
            "0.758 What Are You Doing The Rest Of Your Life\n",
            "\n",
            "Dinah\n",
            "0.799 Time After Time\n",
            "0.795 I'm Old Fashioned\n",
            "0.794 Danny Boy\n",
            "0.793 Jeepers Creepers\n",
            "0.792 Polkadots And Moonbeams\n",
            "0.792 Beautiful Love\n",
            "0.784 Blue Moon\n",
            "0.781 Way You Look Tonight, The\n",
            "0.780 Love Me Or Leave Me\n",
            "0.778 Good Bait\n",
            "\n",
            "East Of The Sun\n",
            "0.858 Four\n",
            "0.824 Don't Worry 'Bout Me\n",
            "0.808 Out Of Nowhere\n",
            "0.803 Someday You'll Be Sorry\n",
            "0.801 Embraceable You\n",
            "0.797 Out Of Nowhere\n",
            "0.785 Sweet Sue, Just You\n",
            "0.784 Kary's Trance\n",
            "0.783 On The Trail\n",
            "0.778 I Wonder Who's Kissing Her Now\n",
            "\n",
            "Footprints\n",
            "0.933 Little Sunflower\n",
            "0.925 Mr. P.C.\n",
            "0.921 Impressions\n",
            "0.920 Milestones (New)\n",
            "0.917 Shutterbug\n",
            "0.917 Equinox\n",
            "0.911 Nutville\n",
            "0.907 So What\n",
            "0.903 Green Chimneys\n",
            "0.900 Little Niles\n",
            "\n",
            "Giant Steps\n",
            "0.868 Swinging At The Haven\n",
            "0.861 Ornithology\n",
            "0.844 How High The Moon\n",
            "\n",
            "Honeysuckle Rose\n",
            "0.975 Honeysuckle Rose\n",
            "0.786 Sweet Sue\n",
            "0.777 Early Hours\n",
            "0.775 I Want To Be Happy\n",
            "0.767 Cielito Lindo\n",
            "0.767 C'est Si Bon\n",
            "0.765 Let The Good Times Roll\n",
            "0.763 Brownskin Mama\n",
            "0.754 Walkin'\n",
            "\n",
            "I Got Rhythm\n",
            "0.975 I Got Rhythm\n",
            "0.853 Cottontail\n",
            "0.841 Let's Fall In Love\n",
            "0.809 Forever Sonny\n",
            "0.806 52nd Street Theme\n",
            "0.799 All Too Soon\n",
            "0.786 Webb City\n",
            "0.771 Heart And Soul\n",
            "0.769 Milano\n",
            "0.766 My Heart Stood Still\n",
            "\n",
            "Misty\n",
            "0.831 Strollin'\n",
            "0.800 Deed I Do\n",
            "0.780 What's New\n",
            "0.780 I Remember You\n",
            "0.777 Nearness Of You, The\n",
            "0.776 Jeepers Creepers\n",
            "0.767 Again\n",
            "0.765 You Go To My Head\n",
            "0.762 Too Young To Go Steady\n",
            "0.761 I Won't Dance\n",
            "0.755 Way You Look Tonight, The\n",
            "0.746 Lennie-Bird\n",
            "0.742 52nd Street Theme\n",
            "0.742 Portrait Of Jennie\n",
            "\n",
            "Naima\n",
            "0.808 Bemsha Swing\n",
            "0.761 One Note Samba\n",
            "0.734 Sound Lee\n",
            "0.727 Celia\n",
            "0.724 Blood Count\n",
            "0.714 Elora\n",
            "0.713 Pensativa\n",
            "0.703 Here's That Sunny Day\n",
            "0.699 Saturday Night Function\n",
            "\n",
            "Old Fashioned Love\n",
            "0.773 Girl Of My Dreams\n",
            "0.751 Louisiana Fairytale\n",
            "0.739 You Brought A New Kind Of Love\n",
            "0.738 Lonesome Road  1, The\n",
            "0.734 Glory Of Love , The\n",
            "0.733 Davenport Blues\n",
            "0.728 Carolina Moon\n",
            "0.727 Drifting And Dreaming\n",
            "0.724 Song Of The Wanderer\n",
            "0.724 Sweet As Bear Meat\n",
            "0.721 She's Funny That Way\n",
            "\n",
            "Perdido\n",
            "0.871 Hackensack\n",
            "0.865 Under A Blanket Of Blue\n",
            "0.854 On The Trail\n",
            "0.852 I Get A Kick Out Of You\n",
            "0.831 Without A Song\n",
            "0.820 Someday You'll Be Sorry\n",
            "0.818 You Can Depend On Me\n",
            "0.814 Once In A While (Ballad)\n",
            "\n",
            "Rockin' Chair\n",
            "0.798 Rockin' Chair\n",
            "0.775 Bark For Barksdale\n",
            "0.762 Stealin' Apples\n",
            "0.758 Let's Cool One\n",
            "0.754 New Orleans\n",
            "0.752 Ain't That A Grand And Glorious Feeling\n",
            "0.751 Careless Love\n",
            "0.747 Get Out And Get Under The Moon\n",
            "0.745 San Francisco Bay Blues\n",
            "0.744 Só Danço Samba\n",
            "\n",
            "Sophisticated Lady\n",
            "0.815 It Could Happen To You\n",
            "0.784 One I Love (Belongs To Somebody Else), The\n",
            "0.770 You Can Depend On Me\n",
            "0.724 Hocus-Pocus\n",
            "0.724 You Can Depend On Me\n",
            "0.724 Decision\n",
            "\n",
            "Sweet Sue, Just You\n",
            "0.899 Sweet Sue\n",
            "0.853 My Secret Love\n",
            "0.845 Get Me To The Church On Time\n",
            "0.840 Samba De Orfeu\n",
            "0.839 Frenesi\n",
            "0.829 Seven Come Eleven\n",
            "0.823 Strangers In The Night\n",
            "0.823 Don't Roll Those Bloodshot Eyes At Me\n",
            "0.822 Cherry Pink And Apple Blossom White\n",
            "\n",
            "These Foolish Things\n",
            "0.771 Heart And Soul\n",
            "0.724 Mountain Greenery\n",
            "0.716 Wouldn't It Be Loverly\n",
            "0.711 I Loves You Porgy\n",
            "0.707 Blue Room, The\n",
            "0.706 Blue Room, The\n",
            "0.695 S' Wonderful\n",
            "0.694 Where Are You\n",
            "0.686 New Orleans\n",
            "0.685 Last Night When We Were Young\n",
            "0.681 A Fine Romance\n",
            "0.679 Don't Blame Me\n",
            "0.669 Charleston, The\n",
            "0.668 Don't Be That Way\n",
            "\n",
            "We'll Be Together Again\n",
            "0.799 Some Other Blues\n",
            "0.798 Diga Diga Doo\n",
            "0.782 This Could Be The Start Of Something Good\n",
            "0.774 Hot House\n",
            "0.767 Subconscious Lee\n",
            "0.754 Fine And Mellow\n",
            "0.749 What Is This Thing Called Love\n",
            "0.748 Do What Ory Say\n",
            "0.745 Giant Steps\n",
            "0.745 Do You Know What It Means\n",
            "0.740 Darn That Dream\n"
          ]
        }
      ]
    },
    {
      "cell_type": "markdown",
      "metadata": {
        "id": "XmDZT5t7gjgV"
      },
      "source": [
        "# Venn diagrams for Results"
      ]
    },
    {
      "cell_type": "code",
      "metadata": {
        "id": "1YJ5FLt-2WS4"
      },
      "source": [
        "import matplotlib.pyplot as plt\n",
        "from matplotlib_venn import venn3"
      ],
      "execution_count": 96,
      "outputs": []
    },
    {
      "cell_type": "code",
      "metadata": {
        "id": "U6WrsBcc00ar",
        "colab": {
          "base_uri": "https://localhost:8080/",
          "height": 1000
        },
        "outputId": "f3615d1e-213d-4e64-e4a4-f6898c23af8a"
      },
      "source": [
        "for tune in tunes_eval_list:\n",
        "  df, details = recommend_tune(df_tfidf, tune)\n",
        "  tfidf_tunes = list(df.head(30).loc[:,'similar_title'])\n",
        "\n",
        "  df, details = recommend_tune(df_lsi, tune)\n",
        "  lsi_tunes = list(df.head(30).loc[:,'similar_title'])\n",
        "\n",
        "  df, details = recommend_tune(df_word2vec, tune)\n",
        "  word2vec_tunes = list(df.head(30).loc[:,'similar_title'])\n",
        "\n",
        "  set_tfidf = set(tfidf_tunes)\n",
        "  set_lsi = set(lsi_tunes)\n",
        "  set_word2vec = set(word2vec_tunes)\n",
        "\n",
        "  venn3([set_tfidf, set_lsi, set_word2vec], \n",
        "        set_labels=('TF-IDF', 'LSI', 'Doc2Vec'),\n",
        "        )\n",
        "  plt.title(f\"{tune}\")\n",
        "  plt.savefig('plot.png')\n",
        "  \n",
        "  if use_wandb:\n",
        "    wandb.log({\"venn_methods\": wandb.Image('plot.png')})\n",
        "  \n",
        "  plt.show()"
      ],
      "execution_count": 97,
      "outputs": [
        {
          "output_type": "display_data",
          "data": {
            "image/png": "[encoded data removed]",
            "text/plain": [
              "<Figure size 432x288 with 1 Axes>"
            ]
          },
          "metadata": {}
        },
        {
          "output_type": "display_data",
          "data": {
            "image/png": "[encoded data removed]",
            "text/plain": [
              "<Figure size 432x288 with 1 Axes>"
            ]
          },
          "metadata": {}
        },
        {
          "output_type": "display_data",
          "data": {
            "image/png": "[encoded data removed]",
            "text/plain": [
              "<Figure size 432x288 with 1 Axes>"
            ]
          },
          "metadata": {}
        },
        {
          "output_type": "display_data",
          "data": {
            "image/png": "[encoded data removed]",
            "text/plain": [
              "<Figure size 432x288 with 1 Axes>"
            ]
          },
          "metadata": {}
        },
        {
          "output_type": "display_data",
          "data": {
            "image/png": "[encoded data removed]",
            "text/plain": [
              "<Figure size 432x288 with 1 Axes>"
            ]
          },
          "metadata": {}
        },
        {
          "output_type": "display_data",
          "data": {
            "image/png": "[encoded data removed]",
            "text/plain": [
              "<Figure size 432x288 with 1 Axes>"
            ]
          },
          "metadata": {}
        },
        {
          "output_type": "display_data",
          "data": {
            "image/png": "[encoded data removed]",
            "text/plain": [
              "<Figure size 432x288 with 1 Axes>"
            ]
          },
          "metadata": {}
        },
        {
          "output_type": "display_data",
          "data": {
            "image/png": "[encoded data removed]",
            "text/plain": [
              "<Figure size 432x288 with 1 Axes>"
            ]
          },
          "metadata": {}
        },
        {
          "output_type": "display_data",
          "data": {
            "image/png": "[encoded data removed]",
            "text/plain": [
              "<Figure size 432x288 with 1 Axes>"
            ]
          },
          "metadata": {}
        },
        {
          "output_type": "display_data",
          "data": {
            "image/png": "[encoded data removed]",
            "text/plain": [
              "<Figure size 432x288 with 1 Axes>"
            ]
          },
          "metadata": {}
        },
        {
          "output_type": "display_data",
          "data": {
            "image/png": "[encoded data removed]",
            "text/plain": [
              "<Figure size 432x288 with 1 Axes>"
            ]
          },
          "metadata": {}
        },
        {
          "output_type": "display_data",
          "data": {
            "image/png": "[encoded data removed]",
            "text/plain": [
              "<Figure size 432x288 with 1 Axes>"
            ]
          },
          "metadata": {}
        },
        {
          "output_type": "display_data",
          "data": {
            "image/png": "[encoded data removed]",
            "text/plain": [
              "<Figure size 432x288 with 1 Axes>"
            ]
          },
          "metadata": {}
        },
        {
          "output_type": "display_data",
          "data": {
            "image/png": "[encoded data removed]",
            "text/plain": [
              "<Figure size 432x288 with 1 Axes>"
            ]
          },
          "metadata": {}
        },
        {
          "output_type": "display_data",
          "data": {
            "image/png": "[encoded data removed]",
            "text/plain": [
              "<Figure size 432x288 with 1 Axes>"
            ]
          },
          "metadata": {}
        },
        {
          "output_type": "display_data",
          "data": {
            "image/png": "[encoded data removed]",
            "text/plain": [
              "<Figure size 432x288 with 1 Axes>"
            ]
          },
          "metadata": {}
        },
        {
          "output_type": "display_data",
          "data": {
            "image/png": "[encoded data removed]",
            "text/plain": [
              "<Figure size 432x288 with 1 Axes>"
            ]
          },
          "metadata": {}
        },
        {
          "output_type": "display_data",
          "data": {
            "image/png": "[encoded data removed]",
            "text/plain": [
              "<Figure size 432x288 with 1 Axes>"
            ]
          },
          "metadata": {}
        },
        {
          "output_type": "display_data",
          "data": {
            "image/png": "[encoded data removed]",
            "text/plain": [
              "<Figure size 432x288 with 1 Axes>"
            ]
          },
          "metadata": {}
        },
        {
          "output_type": "display_data",
          "data": {
            "image/png": "[encoded data removed]",
            "text/plain": [
              "<Figure size 432x288 with 1 Axes>"
            ]
          },
          "metadata": {}
        },
        {
          "output_type": "display_data",
          "data": {
            "image/png": "[encoded data removed]",
            "text/plain": [
              "<Figure size 432x288 with 1 Axes>"
            ]
          },
          "metadata": {}
        },
        {
          "output_type": "display_data",
          "data": {
            "image/png": "[encoded data removed]",
            "text/plain": [
              "<Figure size 432x288 with 1 Axes>"
            ]
          },
          "metadata": {}
        },
        {
          "output_type": "display_data",
          "data": {
            "image/png": "[encoded data removed]",
            "text/plain": [
              "<Figure size 432x288 with 1 Axes>"
            ]
          },
          "metadata": {}
        },
        {
          "output_type": "display_data",
          "data": {
            "image/png": "[encoded data removed]",
            "text/plain": [
              "<Figure size 432x288 with 1 Axes>"
            ]
          },
          "metadata": {}
        }
      ]
    },
    {
      "cell_type": "markdown",
      "metadata": {
        "id": "RhOWHSEU0DQH"
      },
      "source": [
        "# W&B Logging and Finish"
      ]
    },
    {
      "cell_type": "code",
      "metadata": {
        "colab": {
          "base_uri": "https://localhost:8080/",
          "height": 424
        },
        "id": "9yt-cob54ZzN",
        "outputId": "1c249620-15b4-48cb-8010-fee769927774"
      },
      "source": [
        "recommender_results"
      ],
      "execution_count": 98,
      "outputs": [
        {
          "output_type": "execute_result",
          "data": {
            "text/html": [
              "<div>\n",
              "<style scoped>\n",
              "    .dataframe tbody tr th:only-of-type {\n",
              "        vertical-align: middle;\n",
              "    }\n",
              "\n",
              "    .dataframe tbody tr th {\n",
              "        vertical-align: top;\n",
              "    }\n",
              "\n",
              "    .dataframe thead th {\n",
              "        text-align: right;\n",
              "    }\n",
              "</style>\n",
              "<table border=\"1\" class=\"dataframe\">\n",
              "  <thead>\n",
              "    <tr style=\"text-align: right;\">\n",
              "      <th></th>\n",
              "      <th>reference</th>\n",
              "      <th>id</th>\n",
              "      <th>method</th>\n",
              "      <th>similar</th>\n",
              "      <th>score_div_max</th>\n",
              "      <th>score</th>\n",
              "    </tr>\n",
              "  </thead>\n",
              "  <tbody>\n",
              "    <tr>\n",
              "      <th>0</th>\n",
              "      <td>We'll Be Together Again</td>\n",
              "      <td>0.0</td>\n",
              "      <td>tfidf</td>\n",
              "      <td>Poor Butterfly</td>\n",
              "      <td>1.000000</td>\n",
              "      <td>0.310147</td>\n",
              "    </tr>\n",
              "    <tr>\n",
              "      <th>1</th>\n",
              "      <td>We'll Be Together Again</td>\n",
              "      <td>1.0</td>\n",
              "      <td>tfidf</td>\n",
              "      <td>Goodbye</td>\n",
              "      <td>1.000000</td>\n",
              "      <td>0.642757</td>\n",
              "    </tr>\n",
              "    <tr>\n",
              "      <th>2</th>\n",
              "      <td>We'll Be Together Again</td>\n",
              "      <td>2.0</td>\n",
              "      <td>tfidf</td>\n",
              "      <td>Straight Street</td>\n",
              "      <td>0.989642</td>\n",
              "      <td>0.306934</td>\n",
              "    </tr>\n",
              "    <tr>\n",
              "      <th>3</th>\n",
              "      <td>We'll Be Together Again</td>\n",
              "      <td>3.0</td>\n",
              "      <td>tfidf</td>\n",
              "      <td>Don't Know Why</td>\n",
              "      <td>0.978294</td>\n",
              "      <td>0.300016</td>\n",
              "    </tr>\n",
              "    <tr>\n",
              "      <th>4</th>\n",
              "      <td>We'll Be Together Again</td>\n",
              "      <td>4.0</td>\n",
              "      <td>tfidf</td>\n",
              "      <td>My Little Brown Book</td>\n",
              "      <td>0.964570</td>\n",
              "      <td>0.299158</td>\n",
              "    </tr>\n",
              "    <tr>\n",
              "      <th>...</th>\n",
              "      <td>...</td>\n",
              "      <td>...</td>\n",
              "      <td>...</td>\n",
              "      <td>...</td>\n",
              "      <td>...</td>\n",
              "      <td>...</td>\n",
              "    </tr>\n",
              "    <tr>\n",
              "      <th>62</th>\n",
              "      <td>We'll Be Together Again</td>\n",
              "      <td>NaN</td>\n",
              "      <td>doc2vec</td>\n",
              "      <td>NaN</td>\n",
              "      <td>NaN</td>\n",
              "      <td>NaN</td>\n",
              "    </tr>\n",
              "    <tr>\n",
              "      <th>63</th>\n",
              "      <td>We'll Be Together Again</td>\n",
              "      <td>NaN</td>\n",
              "      <td>doc2vec</td>\n",
              "      <td>NaN</td>\n",
              "      <td>NaN</td>\n",
              "      <td>NaN</td>\n",
              "    </tr>\n",
              "    <tr>\n",
              "      <th>64</th>\n",
              "      <td>We'll Be Together Again</td>\n",
              "      <td>NaN</td>\n",
              "      <td>doc2vec</td>\n",
              "      <td>NaN</td>\n",
              "      <td>NaN</td>\n",
              "      <td>NaN</td>\n",
              "    </tr>\n",
              "    <tr>\n",
              "      <th>65</th>\n",
              "      <td>We'll Be Together Again</td>\n",
              "      <td>NaN</td>\n",
              "      <td>doc2vec</td>\n",
              "      <td>NaN</td>\n",
              "      <td>NaN</td>\n",
              "      <td>NaN</td>\n",
              "    </tr>\n",
              "    <tr>\n",
              "      <th>66</th>\n",
              "      <td>We'll Be Together Again</td>\n",
              "      <td>NaN</td>\n",
              "      <td>doc2vec</td>\n",
              "      <td>NaN</td>\n",
              "      <td>NaN</td>\n",
              "      <td>NaN</td>\n",
              "    </tr>\n",
              "  </tbody>\n",
              "</table>\n",
              "<p>192 rows × 6 columns</p>\n",
              "</div>"
            ],
            "text/plain": [
              "                  reference   id  ... score_div_max     score\n",
              "0   We'll Be Together Again  0.0  ...      1.000000  0.310147\n",
              "1   We'll Be Together Again  1.0  ...      1.000000  0.642757\n",
              "2   We'll Be Together Again  2.0  ...      0.989642  0.306934\n",
              "3   We'll Be Together Again  3.0  ...      0.978294  0.300016\n",
              "4   We'll Be Together Again  4.0  ...      0.964570  0.299158\n",
              "..                      ...  ...  ...           ...       ...\n",
              "62  We'll Be Together Again  NaN  ...           NaN       NaN\n",
              "63  We'll Be Together Again  NaN  ...           NaN       NaN\n",
              "64  We'll Be Together Again  NaN  ...           NaN       NaN\n",
              "65  We'll Be Together Again  NaN  ...           NaN       NaN\n",
              "66  We'll Be Together Again  NaN  ...           NaN       NaN\n",
              "\n",
              "[192 rows x 6 columns]"
            ]
          },
          "metadata": {},
          "execution_count": 98
        }
      ]
    },
    {
      "cell_type": "code",
      "metadata": {
        "id": "Qm7BPMM_ihop",
        "colab": {
          "base_uri": "https://localhost:8080/",
          "height": 808
        },
        "outputId": "1849632c-09a3-4e26-bc31-4476fc9447d7"
      },
      "source": [
        "recommender_results = recommender_results.reset_index()\n",
        "\n",
        "results = recommender_results.pivot(index=['index', 'reference', 'similar'], columns='method', values=['id', 'score', 'score_div_max'])\n",
        "results.columns = ['_'.join(col) for col in results.columns]\n",
        "results = results.reset_index()\n",
        "results"
      ],
      "execution_count": 99,
      "outputs": [
        {
          "output_type": "execute_result",
          "data": {
            "text/html": [
              "<div>\n",
              "<style scoped>\n",
              "    .dataframe tbody tr th:only-of-type {\n",
              "        vertical-align: middle;\n",
              "    }\n",
              "\n",
              "    .dataframe tbody tr th {\n",
              "        vertical-align: top;\n",
              "    }\n",
              "\n",
              "    .dataframe thead th {\n",
              "        text-align: right;\n",
              "    }\n",
              "</style>\n",
              "<table border=\"1\" class=\"dataframe\">\n",
              "  <thead>\n",
              "    <tr style=\"text-align: right;\">\n",
              "      <th></th>\n",
              "      <th>index</th>\n",
              "      <th>reference</th>\n",
              "      <th>similar</th>\n",
              "      <th>id_doc2vec</th>\n",
              "      <th>id_lsi</th>\n",
              "      <th>id_tfidf</th>\n",
              "      <th>score_doc2vec</th>\n",
              "      <th>score_lsi</th>\n",
              "      <th>score_tfidf</th>\n",
              "      <th>score_div_max_doc2vec</th>\n",
              "      <th>score_div_max_lsi</th>\n",
              "      <th>score_div_max_tfidf</th>\n",
              "    </tr>\n",
              "  </thead>\n",
              "  <tbody>\n",
              "    <tr>\n",
              "      <th>0</th>\n",
              "      <td>0</td>\n",
              "      <td>We'll Be Together Again</td>\n",
              "      <td>Do You Know What It Means</td>\n",
              "      <td>0.0</td>\n",
              "      <td>0.0</td>\n",
              "      <td>NaN</td>\n",
              "      <td>0.571426</td>\n",
              "      <td>0.571426</td>\n",
              "      <td>NaN</td>\n",
              "      <td>1.0</td>\n",
              "      <td>1.0</td>\n",
              "      <td>NaN</td>\n",
              "    </tr>\n",
              "    <tr>\n",
              "      <th>1</th>\n",
              "      <td>0</td>\n",
              "      <td>We'll Be Together Again</td>\n",
              "      <td>Poor Butterfly</td>\n",
              "      <td>NaN</td>\n",
              "      <td>NaN</td>\n",
              "      <td>0.0</td>\n",
              "      <td>NaN</td>\n",
              "      <td>NaN</td>\n",
              "      <td>0.310147</td>\n",
              "      <td>NaN</td>\n",
              "      <td>NaN</td>\n",
              "      <td>1.0</td>\n",
              "    </tr>\n",
              "    <tr>\n",
              "      <th>2</th>\n",
              "      <td>1</td>\n",
              "      <td>We'll Be Together Again</td>\n",
              "      <td>Goodbye</td>\n",
              "      <td>NaN</td>\n",
              "      <td>NaN</td>\n",
              "      <td>1.0</td>\n",
              "      <td>NaN</td>\n",
              "      <td>NaN</td>\n",
              "      <td>0.642757</td>\n",
              "      <td>NaN</td>\n",
              "      <td>NaN</td>\n",
              "      <td>1.0</td>\n",
              "    </tr>\n",
              "    <tr>\n",
              "      <th>3</th>\n",
              "      <td>1</td>\n",
              "      <td>We'll Be Together Again</td>\n",
              "      <td>What's New</td>\n",
              "      <td>1.0</td>\n",
              "      <td>1.0</td>\n",
              "      <td>NaN</td>\n",
              "      <td>0.574193</td>\n",
              "      <td>0.574193</td>\n",
              "      <td>NaN</td>\n",
              "      <td>1.0</td>\n",
              "      <td>1.0</td>\n",
              "      <td>NaN</td>\n",
              "    </tr>\n",
              "    <tr>\n",
              "      <th>4</th>\n",
              "      <td>2</td>\n",
              "      <td>We'll Be Together Again</td>\n",
              "      <td>Goodbye</td>\n",
              "      <td>2.0</td>\n",
              "      <td>2.0</td>\n",
              "      <td>NaN</td>\n",
              "      <td>0.860822</td>\n",
              "      <td>0.860822</td>\n",
              "      <td>NaN</td>\n",
              "      <td>1.0</td>\n",
              "      <td>1.0</td>\n",
              "      <td>NaN</td>\n",
              "    </tr>\n",
              "    <tr>\n",
              "      <th>...</th>\n",
              "      <td>...</td>\n",
              "      <td>...</td>\n",
              "      <td>...</td>\n",
              "      <td>...</td>\n",
              "      <td>...</td>\n",
              "      <td>...</td>\n",
              "      <td>...</td>\n",
              "      <td>...</td>\n",
              "      <td>...</td>\n",
              "      <td>...</td>\n",
              "      <td>...</td>\n",
              "      <td>...</td>\n",
              "    </tr>\n",
              "    <tr>\n",
              "      <th>110</th>\n",
              "      <td>62</td>\n",
              "      <td>We'll Be Together Again</td>\n",
              "      <td>NaN</td>\n",
              "      <td>NaN</td>\n",
              "      <td>NaN</td>\n",
              "      <td>NaN</td>\n",
              "      <td>NaN</td>\n",
              "      <td>NaN</td>\n",
              "      <td>NaN</td>\n",
              "      <td>NaN</td>\n",
              "      <td>NaN</td>\n",
              "      <td>NaN</td>\n",
              "    </tr>\n",
              "    <tr>\n",
              "      <th>111</th>\n",
              "      <td>63</td>\n",
              "      <td>We'll Be Together Again</td>\n",
              "      <td>NaN</td>\n",
              "      <td>NaN</td>\n",
              "      <td>NaN</td>\n",
              "      <td>NaN</td>\n",
              "      <td>NaN</td>\n",
              "      <td>NaN</td>\n",
              "      <td>NaN</td>\n",
              "      <td>NaN</td>\n",
              "      <td>NaN</td>\n",
              "      <td>NaN</td>\n",
              "    </tr>\n",
              "    <tr>\n",
              "      <th>112</th>\n",
              "      <td>64</td>\n",
              "      <td>We'll Be Together Again</td>\n",
              "      <td>NaN</td>\n",
              "      <td>NaN</td>\n",
              "      <td>NaN</td>\n",
              "      <td>NaN</td>\n",
              "      <td>NaN</td>\n",
              "      <td>NaN</td>\n",
              "      <td>NaN</td>\n",
              "      <td>NaN</td>\n",
              "      <td>NaN</td>\n",
              "      <td>NaN</td>\n",
              "    </tr>\n",
              "    <tr>\n",
              "      <th>113</th>\n",
              "      <td>65</td>\n",
              "      <td>We'll Be Together Again</td>\n",
              "      <td>NaN</td>\n",
              "      <td>NaN</td>\n",
              "      <td>NaN</td>\n",
              "      <td>NaN</td>\n",
              "      <td>NaN</td>\n",
              "      <td>NaN</td>\n",
              "      <td>NaN</td>\n",
              "      <td>NaN</td>\n",
              "      <td>NaN</td>\n",
              "      <td>NaN</td>\n",
              "    </tr>\n",
              "    <tr>\n",
              "      <th>114</th>\n",
              "      <td>66</td>\n",
              "      <td>We'll Be Together Again</td>\n",
              "      <td>NaN</td>\n",
              "      <td>NaN</td>\n",
              "      <td>NaN</td>\n",
              "      <td>NaN</td>\n",
              "      <td>NaN</td>\n",
              "      <td>NaN</td>\n",
              "      <td>NaN</td>\n",
              "      <td>NaN</td>\n",
              "      <td>NaN</td>\n",
              "      <td>NaN</td>\n",
              "    </tr>\n",
              "  </tbody>\n",
              "</table>\n",
              "<p>115 rows × 12 columns</p>\n",
              "</div>"
            ],
            "text/plain": [
              "     index                reference  ... score_div_max_lsi  score_div_max_tfidf\n",
              "0        0  We'll Be Together Again  ...               1.0                  NaN\n",
              "1        0  We'll Be Together Again  ...               NaN                  1.0\n",
              "2        1  We'll Be Together Again  ...               NaN                  1.0\n",
              "3        1  We'll Be Together Again  ...               1.0                  NaN\n",
              "4        2  We'll Be Together Again  ...               1.0                  NaN\n",
              "..     ...                      ...  ...               ...                  ...\n",
              "110     62  We'll Be Together Again  ...               NaN                  NaN\n",
              "111     63  We'll Be Together Again  ...               NaN                  NaN\n",
              "112     64  We'll Be Together Again  ...               NaN                  NaN\n",
              "113     65  We'll Be Together Again  ...               NaN                  NaN\n",
              "114     66  We'll Be Together Again  ...               NaN                  NaN\n",
              "\n",
              "[115 rows x 12 columns]"
            ]
          },
          "metadata": {},
          "execution_count": 99
        }
      ]
    },
    {
      "cell_type": "code",
      "metadata": {
        "id": "ziq-dZ16Sdgg"
      },
      "source": [
        "if use_wandb:\n",
        "  table = wandb.Table(dataframe=results)\n",
        "  wandb.log({\"recommender results\": results})"
      ],
      "execution_count": 100,
      "outputs": []
    },
    {
      "cell_type": "code",
      "metadata": {
        "id": "YMUDRHkm0aMV"
      },
      "source": [
        "if use_wandb:\n",
        "  wandb.finish()"
      ],
      "execution_count": 101,
      "outputs": []
    },
    {
      "cell_type": "code",
      "metadata": {
        "id": "Vn_SFyKt0bYx"
      },
      "source": [
        ""
      ],
      "execution_count": 101,
      "outputs": []
    }
  ]
}