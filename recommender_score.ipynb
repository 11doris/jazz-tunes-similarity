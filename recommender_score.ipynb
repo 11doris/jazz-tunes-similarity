{
  "nbformat": 4,
  "nbformat_minor": 0,
  "metadata": {
    "colab": {
      "name": "recommender_score",
      "provenance": [],
      "toc_visible": true,
      "authorship_tag": "ABX9TyOjsJcE86Q+rcrgFL2vivVW",
      "include_colab_link": true
    },
    "kernelspec": {
      "name": "python3",
      "display_name": "Python 3"
    },
    "language_info": {
      "name": "python"
    },
    "accelerator": "TPU",
    "widgets": {
      "application/vnd.jupyter.widget-state+json": {
        "49d570ad217642b4a17fbebd6c7648c0": {
          "model_module": "@jupyter-widgets/controls",
          "model_name": "VBoxModel",
          "model_module_version": "1.5.0",
          "state": {
            "_view_name": "VBoxView",
            "_dom_classes": [],
            "_model_name": "VBoxModel",
            "_view_module": "@jupyter-widgets/controls",
            "_model_module_version": "1.5.0",
            "_view_count": null,
            "_view_module_version": "1.5.0",
            "box_style": "",
            "layout": "IPY_MODEL_cb5dc40f954e423a9d19c988601c5a8b",
            "_model_module": "@jupyter-widgets/controls",
            "children": [
              "IPY_MODEL_98af574d122a45c0bfdca6cc2cadf5b6",
              "IPY_MODEL_2384cd4be9174154b1db8be89f3e25b2"
            ]
          }
        },
        "cb5dc40f954e423a9d19c988601c5a8b": {
          "model_module": "@jupyter-widgets/base",
          "model_name": "LayoutModel",
          "model_module_version": "1.2.0",
          "state": {
            "_view_name": "LayoutView",
            "grid_template_rows": null,
            "right": null,
            "justify_content": null,
            "_view_module": "@jupyter-widgets/base",
            "overflow": null,
            "_model_module_version": "1.2.0",
            "_view_count": null,
            "flex_flow": null,
            "width": null,
            "min_width": null,
            "border": null,
            "align_items": null,
            "bottom": null,
            "_model_module": "@jupyter-widgets/base",
            "top": null,
            "grid_column": null,
            "overflow_y": null,
            "overflow_x": null,
            "grid_auto_flow": null,
            "grid_area": null,
            "grid_template_columns": null,
            "flex": null,
            "_model_name": "LayoutModel",
            "justify_items": null,
            "grid_row": null,
            "max_height": null,
            "align_content": null,
            "visibility": null,
            "align_self": null,
            "height": null,
            "min_height": null,
            "padding": null,
            "grid_auto_rows": null,
            "grid_gap": null,
            "max_width": null,
            "order": null,
            "_view_module_version": "1.2.0",
            "grid_template_areas": null,
            "object_position": null,
            "object_fit": null,
            "grid_auto_columns": null,
            "margin": null,
            "display": null,
            "left": null
          }
        },
        "98af574d122a45c0bfdca6cc2cadf5b6": {
          "model_module": "@jupyter-widgets/controls",
          "model_name": "LabelModel",
          "model_module_version": "1.5.0",
          "state": {
            "_view_name": "LabelView",
            "style": "IPY_MODEL_a97988cfc7f6404c8ef94e2bc37589a4",
            "_dom_classes": [],
            "description": "",
            "_model_name": "LabelModel",
            "placeholder": "​",
            "_view_module": "@jupyter-widgets/controls",
            "_model_module_version": "1.5.0",
            "value": " 19.22MB of 19.22MB uploaded (0.00MB deduped)\r",
            "_view_count": null,
            "_view_module_version": "1.5.0",
            "description_tooltip": null,
            "_model_module": "@jupyter-widgets/controls",
            "layout": "IPY_MODEL_b0f0adcd5d3b409bb6a249f173ad9c77"
          }
        },
        "2384cd4be9174154b1db8be89f3e25b2": {
          "model_module": "@jupyter-widgets/controls",
          "model_name": "FloatProgressModel",
          "model_module_version": "1.5.0",
          "state": {
            "_view_name": "ProgressView",
            "style": "IPY_MODEL_aef4d06b26d94f85895929053acff1a5",
            "_dom_classes": [],
            "description": "",
            "_model_name": "FloatProgressModel",
            "bar_style": "",
            "max": 1,
            "_view_module": "@jupyter-widgets/controls",
            "_model_module_version": "1.5.0",
            "value": 1,
            "_view_count": null,
            "_view_module_version": "1.5.0",
            "orientation": "horizontal",
            "min": 0,
            "description_tooltip": null,
            "_model_module": "@jupyter-widgets/controls",
            "layout": "IPY_MODEL_e4cb28e31ff14bc38d3e9e1487cee1c2"
          }
        },
        "a97988cfc7f6404c8ef94e2bc37589a4": {
          "model_module": "@jupyter-widgets/controls",
          "model_name": "DescriptionStyleModel",
          "model_module_version": "1.5.0",
          "state": {
            "_view_name": "StyleView",
            "_model_name": "DescriptionStyleModel",
            "description_width": "",
            "_view_module": "@jupyter-widgets/base",
            "_model_module_version": "1.5.0",
            "_view_count": null,
            "_view_module_version": "1.2.0",
            "_model_module": "@jupyter-widgets/controls"
          }
        },
        "b0f0adcd5d3b409bb6a249f173ad9c77": {
          "model_module": "@jupyter-widgets/base",
          "model_name": "LayoutModel",
          "model_module_version": "1.2.0",
          "state": {
            "_view_name": "LayoutView",
            "grid_template_rows": null,
            "right": null,
            "justify_content": null,
            "_view_module": "@jupyter-widgets/base",
            "overflow": null,
            "_model_module_version": "1.2.0",
            "_view_count": null,
            "flex_flow": null,
            "width": null,
            "min_width": null,
            "border": null,
            "align_items": null,
            "bottom": null,
            "_model_module": "@jupyter-widgets/base",
            "top": null,
            "grid_column": null,
            "overflow_y": null,
            "overflow_x": null,
            "grid_auto_flow": null,
            "grid_area": null,
            "grid_template_columns": null,
            "flex": null,
            "_model_name": "LayoutModel",
            "justify_items": null,
            "grid_row": null,
            "max_height": null,
            "align_content": null,
            "visibility": null,
            "align_self": null,
            "height": null,
            "min_height": null,
            "padding": null,
            "grid_auto_rows": null,
            "grid_gap": null,
            "max_width": null,
            "order": null,
            "_view_module_version": "1.2.0",
            "grid_template_areas": null,
            "object_position": null,
            "object_fit": null,
            "grid_auto_columns": null,
            "margin": null,
            "display": null,
            "left": null
          }
        },
        "aef4d06b26d94f85895929053acff1a5": {
          "model_module": "@jupyter-widgets/controls",
          "model_name": "ProgressStyleModel",
          "model_module_version": "1.5.0",
          "state": {
            "_view_name": "StyleView",
            "_model_name": "ProgressStyleModel",
            "description_width": "",
            "_view_module": "@jupyter-widgets/base",
            "_model_module_version": "1.5.0",
            "_view_count": null,
            "_view_module_version": "1.2.0",
            "bar_color": null,
            "_model_module": "@jupyter-widgets/controls"
          }
        },
        "e4cb28e31ff14bc38d3e9e1487cee1c2": {
          "model_module": "@jupyter-widgets/base",
          "model_name": "LayoutModel",
          "model_module_version": "1.2.0",
          "state": {
            "_view_name": "LayoutView",
            "grid_template_rows": null,
            "right": null,
            "justify_content": null,
            "_view_module": "@jupyter-widgets/base",
            "overflow": null,
            "_model_module_version": "1.2.0",
            "_view_count": null,
            "flex_flow": null,
            "width": null,
            "min_width": null,
            "border": null,
            "align_items": null,
            "bottom": null,
            "_model_module": "@jupyter-widgets/base",
            "top": null,
            "grid_column": null,
            "overflow_y": null,
            "overflow_x": null,
            "grid_auto_flow": null,
            "grid_area": null,
            "grid_template_columns": null,
            "flex": null,
            "_model_name": "LayoutModel",
            "justify_items": null,
            "grid_row": null,
            "max_height": null,
            "align_content": null,
            "visibility": null,
            "align_self": null,
            "height": null,
            "min_height": null,
            "padding": null,
            "grid_auto_rows": null,
            "grid_gap": null,
            "max_width": null,
            "order": null,
            "_view_module_version": "1.2.0",
            "grid_template_areas": null,
            "object_position": null,
            "object_fit": null,
            "grid_auto_columns": null,
            "margin": null,
            "display": null,
            "left": null
          }
        }
      }
    }
  },
  "cells": [
    {
      "cell_type": "markdown",
      "metadata": {
        "id": "view-in-github",
        "colab_type": "text"
      },
      "source": [
        "<a href=\"https://colab.research.google.com/github/11doris/jazz-maestro/blob/colab_word_embeddings/recommender_score.ipynb\" target=\"_parent\"><img src=\"https://colab.research.google.com/assets/colab-badge.svg\" alt=\"Open In Colab\"/></a>"
      ]
    },
    {
      "cell_type": "markdown",
      "metadata": {
        "id": "YGhakKpa8Dtf"
      },
      "source": [
        "# Sections as Input"
      ]
    },
    {
      "cell_type": "code",
      "metadata": {
        "colab": {
          "base_uri": "https://localhost:8080/"
        },
        "id": "dm5QehpXxo31",
        "outputId": "926ae96a-4fcc-493e-f13a-5b1431942e65"
      },
      "source": [
        "pip install wandb"
      ],
      "execution_count": 1,
      "outputs": [
        {
          "output_type": "stream",
          "name": "stdout",
          "text": [
            "Requirement already satisfied: wandb in /usr/local/lib/python3.7/dist-packages (0.12.7)\n",
            "Requirement already satisfied: requests<3,>=2.0.0 in /usr/local/lib/python3.7/dist-packages (from wandb) (2.23.0)\n",
            "Requirement already satisfied: docker-pycreds>=0.4.0 in /usr/local/lib/python3.7/dist-packages (from wandb) (0.4.0)\n",
            "Requirement already satisfied: subprocess32>=3.5.3 in /usr/local/lib/python3.7/dist-packages (from wandb) (3.5.4)\n",
            "Requirement already satisfied: PyYAML in /usr/local/lib/python3.7/dist-packages (from wandb) (3.13)\n",
            "Requirement already satisfied: six>=1.13.0 in /usr/local/lib/python3.7/dist-packages (from wandb) (1.15.0)\n",
            "Requirement already satisfied: Click!=8.0.0,>=7.0 in /usr/local/lib/python3.7/dist-packages (from wandb) (7.1.2)\n",
            "Requirement already satisfied: shortuuid>=0.5.0 in /usr/local/lib/python3.7/dist-packages (from wandb) (1.0.8)\n",
            "Requirement already satisfied: protobuf>=3.12.0 in /usr/local/lib/python3.7/dist-packages (from wandb) (3.17.3)\n",
            "Requirement already satisfied: sentry-sdk>=1.0.0 in /usr/local/lib/python3.7/dist-packages (from wandb) (1.5.0)\n",
            "Requirement already satisfied: pathtools in /usr/local/lib/python3.7/dist-packages (from wandb) (0.1.2)\n",
            "Requirement already satisfied: GitPython>=1.0.0 in /usr/local/lib/python3.7/dist-packages (from wandb) (3.1.24)\n",
            "Requirement already satisfied: psutil>=5.0.0 in /usr/local/lib/python3.7/dist-packages (from wandb) (5.4.8)\n",
            "Requirement already satisfied: configparser>=3.8.1 in /usr/local/lib/python3.7/dist-packages (from wandb) (5.1.0)\n",
            "Requirement already satisfied: python-dateutil>=2.6.1 in /usr/local/lib/python3.7/dist-packages (from wandb) (2.8.2)\n",
            "Requirement already satisfied: promise<3,>=2.0 in /usr/local/lib/python3.7/dist-packages (from wandb) (2.3)\n",
            "Requirement already satisfied: yaspin>=1.0.0 in /usr/local/lib/python3.7/dist-packages (from wandb) (2.1.0)\n",
            "Requirement already satisfied: gitdb<5,>=4.0.1 in /usr/local/lib/python3.7/dist-packages (from GitPython>=1.0.0->wandb) (4.0.9)\n",
            "Requirement already satisfied: typing-extensions>=3.7.4.3 in /usr/local/lib/python3.7/dist-packages (from GitPython>=1.0.0->wandb) (3.10.0.2)\n",
            "Requirement already satisfied: smmap<6,>=3.0.1 in /usr/local/lib/python3.7/dist-packages (from gitdb<5,>=4.0.1->GitPython>=1.0.0->wandb) (5.0.0)\n",
            "Requirement already satisfied: idna<3,>=2.5 in /usr/local/lib/python3.7/dist-packages (from requests<3,>=2.0.0->wandb) (2.10)\n",
            "Requirement already satisfied: urllib3!=1.25.0,!=1.25.1,<1.26,>=1.21.1 in /usr/local/lib/python3.7/dist-packages (from requests<3,>=2.0.0->wandb) (1.24.3)\n",
            "Requirement already satisfied: chardet<4,>=3.0.2 in /usr/local/lib/python3.7/dist-packages (from requests<3,>=2.0.0->wandb) (3.0.4)\n",
            "Requirement already satisfied: certifi>=2017.4.17 in /usr/local/lib/python3.7/dist-packages (from requests<3,>=2.0.0->wandb) (2021.10.8)\n",
            "Requirement already satisfied: termcolor<2.0.0,>=1.1.0 in /usr/local/lib/python3.7/dist-packages (from yaspin>=1.0.0->wandb) (1.1.0)\n"
          ]
        }
      ]
    },
    {
      "cell_type": "code",
      "metadata": {
        "colab": {
          "base_uri": "https://localhost:8080/"
        },
        "id": "HZG8BDT-xrv3",
        "outputId": "56fa8da1-d15f-4ea5-b82e-a9a7630e4b46"
      },
      "source": [
        "!wandb login"
      ],
      "execution_count": 2,
      "outputs": [
        {
          "output_type": "stream",
          "name": "stdout",
          "text": [
            "\u001b[34m\u001b[1mwandb\u001b[0m: Currently logged in as: \u001b[33mdoris\u001b[0m (use `wandb login --relogin` to force relogin)\n"
          ]
        }
      ]
    },
    {
      "cell_type": "code",
      "metadata": {
        "id": "WHZBzAXjxz1J"
      },
      "source": [
        "import wandb"
      ],
      "execution_count": 3,
      "outputs": []
    },
    {
      "cell_type": "code",
      "metadata": {
        "colab": {
          "base_uri": "https://localhost:8080/"
        },
        "id": "MUy1ta4_782n",
        "outputId": "2087f32d-8471-4199-e9a3-ea16380c7d59"
      },
      "source": [
        "!pip uninstall gensim -y"
      ],
      "execution_count": 4,
      "outputs": [
        {
          "output_type": "stream",
          "name": "stdout",
          "text": [
            "Found existing installation: gensim 4.1.2\n",
            "Uninstalling gensim-4.1.2:\n",
            "  Successfully uninstalled gensim-4.1.2\n"
          ]
        }
      ]
    },
    {
      "cell_type": "code",
      "metadata": {
        "colab": {
          "base_uri": "https://localhost:8080/"
        },
        "id": "oAroxmvO8GQj",
        "outputId": "cbd91991-b0ac-44e2-86c7-1323c7f8ec5e"
      },
      "source": [
        "!pip install gensim"
      ],
      "execution_count": 5,
      "outputs": [
        {
          "output_type": "stream",
          "name": "stdout",
          "text": [
            "Collecting gensim\n",
            "  Using cached gensim-4.1.2-cp37-cp37m-manylinux_2_12_x86_64.manylinux2010_x86_64.whl (24.1 MB)\n",
            "Requirement already satisfied: numpy>=1.17.0 in /usr/local/lib/python3.7/dist-packages (from gensim) (1.19.5)\n",
            "Requirement already satisfied: smart-open>=1.8.1 in /usr/local/lib/python3.7/dist-packages (from gensim) (5.2.1)\n",
            "Requirement already satisfied: scipy>=0.18.1 in /usr/local/lib/python3.7/dist-packages (from gensim) (1.4.1)\n",
            "Installing collected packages: gensim\n",
            "Successfully installed gensim-4.1.2\n"
          ]
        }
      ]
    },
    {
      "cell_type": "code",
      "metadata": {
        "id": "6SZ0zrKX8H-D"
      },
      "source": [
        "import gensim\n",
        "from sklearn.manifold import TSNE\n",
        "import matplotlib.pyplot as plt\n",
        "import pprint\n",
        "import pandas as pd\n",
        "import numpy as np\n",
        "from collections import Counter\n",
        "import plotly.express as px\n",
        "from tqdm import tqdm \n",
        "from gensim.models.doc2vec import Doc2Vec\n",
        "from gensim.models.tfidfmodel import TfidfModel\n",
        "from gensim.models.lsimodel import LsiModel\n",
        "from gensim.models import CoherenceModel\n",
        "from gensim import corpora\n",
        "from gensim import similarities\n",
        "import pickle\n",
        "import os"
      ],
      "execution_count": 6,
      "outputs": []
    },
    {
      "cell_type": "code",
      "metadata": {
        "id": "znWar-PK8KHT"
      },
      "source": [
        "import logging\n",
        "logging.basicConfig(format='%(asctime)s : %(levelname)s : %(message)s', level=logging.INFO)"
      ],
      "execution_count": 7,
      "outputs": []
    },
    {
      "cell_type": "code",
      "metadata": {
        "colab": {
          "base_uri": "https://localhost:8080/"
        },
        "id": "kjCf_Abf8MCc",
        "outputId": "22d9e3cb-6f7d-434a-fe60-bd2e70b80922"
      },
      "source": [
        "print(gensim.__version__)"
      ],
      "execution_count": 8,
      "outputs": [
        {
          "output_type": "stream",
          "name": "stdout",
          "text": [
            "4.1.2\n"
          ]
        }
      ]
    },
    {
      "cell_type": "code",
      "metadata": {
        "id": "_aEonlx-CT6r"
      },
      "source": [
        "!rm data.csv"
      ],
      "execution_count": 9,
      "outputs": []
    },
    {
      "cell_type": "markdown",
      "metadata": {
        "id": "Nk5pPZqk0Pn7"
      },
      "source": [
        "# Configuration\n"
      ]
    },
    {
      "cell_type": "code",
      "metadata": {
        "id": "GfQbJQmexlxI"
      },
      "source": [
        "chords_repeated = 'rep' \n",
        "chords_preprocessing = 'rootAndDegreesSimplified'"
      ],
      "execution_count": 10,
      "outputs": []
    },
    {
      "cell_type": "code",
      "metadata": {
        "id": "buoyWNl0F48Y"
      },
      "source": [
        "ngrams_for_input = [2]"
      ],
      "execution_count": 11,
      "outputs": []
    },
    {
      "cell_type": "code",
      "metadata": {
        "id": "K7qB2_sBvKpB"
      },
      "source": [
        "input_files = {\n",
        "    'sections': {\n",
        "        'rep': {\n",
        "            # M7 and 6 reduced to major triad, m7 reduced to m, dominant 7, m7b5, diminished, and all (b5) left as they are.\n",
        "            'rootAndDegreesPlus': '17djlZRWFSUCviOxRTOF-nwbbZqU5gUP9',\n",
        "            'rootAndDegrees7': '1lQTBMYk7Ui_mbOopUTjOs4MV_4c1a8bO',\n",
        "            'rootAndDegreesSimplified': '1lVm6r0T3i1hbyZqPJXNKf90uh14MOKkb'\n",
        "        },\n",
        "    },\n",
        "    'tunes': {\n",
        "        'rep': {\n",
        "            'rootAndDegreesPlus': '',\n",
        "            'rootAndDegrees7': '',\n",
        "            'rootAndDegreesSimplified': '',\n",
        "        },\n",
        "        'norep': {\n",
        "            'rootAndDegreesPlus': '',\n",
        "            'rootAndDegrees7': '',\n",
        "            'rootAndDegreesSimplified': '',\n",
        "        }\n",
        "    }\n",
        "}"
      ],
      "execution_count": 12,
      "outputs": []
    },
    {
      "cell_type": "code",
      "metadata": {
        "colab": {
          "base_uri": "https://localhost:8080/"
        },
        "id": "lM6eaQwnyWD3",
        "outputId": "42b05e16-dbe2-456d-fe74-66590b12946a"
      },
      "source": [
        "tunes_eval_list = [\n",
        "  \"Sweet Sue, Just You\",\n",
        "  \"These Foolish Things\", \n",
        "  \"Blue Moon\",\n",
        "  \"All Of Me\",\n",
        "  \"All God's Chillun Got Rhythm\",\n",
        "  \"I Got Rhythm\",\n",
        "  \"Bye Bye Blackbird\",\n",
        "  \"Old Fashioned Love\",\n",
        "  \"Dinah\",\n",
        "  \"Honeysuckle Rose\",\n",
        "  \"Misty\",\n",
        "  \"We'll Be Together Again\",\n",
        "  \"East Of The Sun\",\n",
        "  \"Sophisticated Lady\",\n",
        "  \"Perdido\",\n",
        "  \"Naima\",\n",
        "  \"Call Me Irresponsible\",\n",
        "  \"Corcovado\",\n",
        "  \"Footprints\",\n",
        "  \"Giant Steps\",\n",
        "  \"But Beautiful\",\n",
        "  \"Rockin' Chair\",\n",
        "  \"Blood Count\",\n",
        "  \"After You've Gone\",\n",
        "]\n",
        "\n",
        "tunes_eval_list = sorted(tunes_eval_list)\n",
        "tunes_eval_list"
      ],
      "execution_count": 13,
      "outputs": [
        {
          "output_type": "execute_result",
          "data": {
            "text/plain": [
              "[\"After You've Gone\",\n",
              " \"All God's Chillun Got Rhythm\",\n",
              " 'All Of Me',\n",
              " 'Blood Count',\n",
              " 'Blue Moon',\n",
              " 'But Beautiful',\n",
              " 'Bye Bye Blackbird',\n",
              " 'Call Me Irresponsible',\n",
              " 'Corcovado',\n",
              " 'Dinah',\n",
              " 'East Of The Sun',\n",
              " 'Footprints',\n",
              " 'Giant Steps',\n",
              " 'Honeysuckle Rose',\n",
              " 'I Got Rhythm',\n",
              " 'Misty',\n",
              " 'Naima',\n",
              " 'Old Fashioned Love',\n",
              " 'Perdido',\n",
              " \"Rockin' Chair\",\n",
              " 'Sophisticated Lady',\n",
              " 'Sweet Sue, Just You',\n",
              " 'These Foolish Things',\n",
              " \"We'll Be Together Again\"]"
            ]
          },
          "metadata": {},
          "execution_count": 13
        }
      ]
    },
    {
      "cell_type": "code",
      "metadata": {
        "id": "uiI0h4ef0PCD"
      },
      "source": [
        ""
      ],
      "execution_count": 13,
      "outputs": []
    },
    {
      "cell_type": "markdown",
      "metadata": {
        "id": "gcexO7zK8Pn6"
      },
      "source": [
        "# Initialization\n",
        "\n",
        "## Download the Data"
      ]
    },
    {
      "cell_type": "code",
      "metadata": {
        "id": "JwVJo3Vat8iF"
      },
      "source": [
        "input_data = input_files['sections'][chords_repeated][chords_preprocessing]\n",
        "\n",
        "input_path = f\"https://docs.google.com/uc?export=download&id={input_data}\"\n",
        "data_file_name = 'data.csv'\n"
      ],
      "execution_count": 14,
      "outputs": []
    },
    {
      "cell_type": "code",
      "metadata": {
        "colab": {
          "base_uri": "https://localhost:8080/",
          "height": 36
        },
        "id": "_Dp-fijjB-pU",
        "outputId": "22ca42de-4a1b-4dc1-aa88-32d04f303438"
      },
      "source": [
        "input_path"
      ],
      "execution_count": 15,
      "outputs": [
        {
          "output_type": "execute_result",
          "data": {
            "application/vnd.google.colaboratory.intrinsic+json": {
              "type": "string"
            },
            "text/plain": [
              "'https://docs.google.com/uc?export=download&id=1lVm6r0T3i1hbyZqPJXNKf90uh14MOKkb'"
            ]
          },
          "metadata": {},
          "execution_count": 15
        }
      ]
    },
    {
      "cell_type": "code",
      "metadata": {
        "colab": {
          "base_uri": "https://localhost:8080/"
        },
        "id": "1ZVAYUH5t9Li",
        "outputId": "ddbf0160-b585-450e-9a1d-2c974339ceb2"
      },
      "source": [
        "!wget --no-check-certificate \"$input_path\" -O \"$data_file_name\""
      ],
      "execution_count": 16,
      "outputs": [
        {
          "output_type": "stream",
          "name": "stdout",
          "text": [
            "--2021-11-21 20:36:09--  https://docs.google.com/uc?export=download&id=1lVm6r0T3i1hbyZqPJXNKf90uh14MOKkb\n",
            "Resolving docs.google.com (docs.google.com)... 142.250.125.100, 142.250.125.102, 142.250.125.113, ...\n",
            "Connecting to docs.google.com (docs.google.com)|142.250.125.100|:443... connected.\n",
            "HTTP request sent, awaiting response... 302 Moved Temporarily\n",
            "Location: https://doc-0c-4c-docs.googleusercontent.com/docs/securesc/ha0ro937gcuc7l7deffksulhg5h7mbp1/rq7dq6ev8kdc0s8fgjkn1tl8gkf1bh12/1637526900000/14329102864480165501/*/1lVm6r0T3i1hbyZqPJXNKf90uh14MOKkb?e=download [following]\n",
            "Warning: wildcards not supported in HTTP.\n",
            "--2021-11-21 20:36:10--  https://doc-0c-4c-docs.googleusercontent.com/docs/securesc/ha0ro937gcuc7l7deffksulhg5h7mbp1/rq7dq6ev8kdc0s8fgjkn1tl8gkf1bh12/1637526900000/14329102864480165501/*/1lVm6r0T3i1hbyZqPJXNKf90uh14MOKkb?e=download\n",
            "Resolving doc-0c-4c-docs.googleusercontent.com (doc-0c-4c-docs.googleusercontent.com)... 142.250.152.132, 2607:f8b0:4001:c56::84\n",
            "Connecting to doc-0c-4c-docs.googleusercontent.com (doc-0c-4c-docs.googleusercontent.com)|142.250.152.132|:443... connected.\n",
            "HTTP request sent, awaiting response... 200 OK\n",
            "Length: 707406 (691K) [text/csv]\n",
            "Saving to: ‘data.csv’\n",
            "\n",
            "data.csv            100%[===================>] 690.83K  --.-KB/s    in 0.006s  \n",
            "\n",
            "2021-11-21 20:36:10 (112 MB/s) - ‘data.csv’ saved [707406/707406]\n",
            "\n"
          ]
        }
      ]
    },
    {
      "cell_type": "markdown",
      "metadata": {
        "id": "Ljs21B7h8YvC"
      },
      "source": [
        "### Read Chords Input Data"
      ]
    },
    {
      "cell_type": "code",
      "metadata": {
        "colab": {
          "base_uri": "https://localhost:8080/",
          "height": 293
        },
        "id": "B7kK418L8aac",
        "outputId": "f797a4aa-f935-4320-d343-8480a8a87275"
      },
      "source": [
        "df = pd.read_csv(data_file_name, sep='\\t', index_col=\"id\")\n",
        "df = df.reset_index()\n",
        "df.head(5)"
      ],
      "execution_count": 17,
      "outputs": [
        {
          "output_type": "execute_result",
          "data": {
            "text/html": [
              "<div>\n",
              "<style scoped>\n",
              "    .dataframe tbody tr th:only-of-type {\n",
              "        vertical-align: middle;\n",
              "    }\n",
              "\n",
              "    .dataframe tbody tr th {\n",
              "        vertical-align: top;\n",
              "    }\n",
              "\n",
              "    .dataframe thead th {\n",
              "        text-align: right;\n",
              "    }\n",
              "</style>\n",
              "<table border=\"1\" class=\"dataframe\">\n",
              "  <thead>\n",
              "    <tr style=\"text-align: right;\">\n",
              "      <th></th>\n",
              "      <th>id</th>\n",
              "      <th>file_name</th>\n",
              "      <th>title</th>\n",
              "      <th>tune_mode</th>\n",
              "      <th>tune_id</th>\n",
              "      <th>section_name</th>\n",
              "      <th>section_id</th>\n",
              "      <th>chords</th>\n",
              "    </tr>\n",
              "  </thead>\n",
              "  <tbody>\n",
              "    <tr>\n",
              "      <th>0</th>\n",
              "      <td>0</td>\n",
              "      <td>dataset/jazz1350/26-2.xml</td>\n",
              "      <td>26-2</td>\n",
              "      <td>major</td>\n",
              "      <td>0</td>\n",
              "      <td>A</td>\n",
              "      <td>1</td>\n",
              "      <td>CM7 Eb7 G#M7 B7 EM7 G7 Gm7 C7 FM7 G#7 C#M7 E7 ...</td>\n",
              "    </tr>\n",
              "    <tr>\n",
              "      <th>1</th>\n",
              "      <td>1</td>\n",
              "      <td>dataset/jazz1350/26-2.xml</td>\n",
              "      <td>26-2</td>\n",
              "      <td>major</td>\n",
              "      <td>0</td>\n",
              "      <td>A</td>\n",
              "      <td>2</td>\n",
              "      <td>CM7 Eb7 G#M7 B7 EM7 G7 Gm7 C7 FM7 Eb7 G#M7 B7 ...</td>\n",
              "    </tr>\n",
              "    <tr>\n",
              "      <th>2</th>\n",
              "      <td>2</td>\n",
              "      <td>dataset/jazz1350/26-2.xml</td>\n",
              "      <td>26-2</td>\n",
              "      <td>major</td>\n",
              "      <td>0</td>\n",
              "      <td>B</td>\n",
              "      <td>3</td>\n",
              "      <td>Gm7 C7 Bm7 E7 AM7 C7 FM7 Bbm7 Eb7 G#M7 Dm7 G7</td>\n",
              "    </tr>\n",
              "    <tr>\n",
              "      <th>3</th>\n",
              "      <td>3</td>\n",
              "      <td>dataset/jazz1350/26-2.xml</td>\n",
              "      <td>26-2</td>\n",
              "      <td>major</td>\n",
              "      <td>0</td>\n",
              "      <td>A</td>\n",
              "      <td>4</td>\n",
              "      <td>CM7 Eb7 G#M7 B7 EM7 G7 Gm7 C7 FM7 Eb7 G#M7 B7 ...</td>\n",
              "    </tr>\n",
              "    <tr>\n",
              "      <th>4</th>\n",
              "      <td>4</td>\n",
              "      <td>dataset/jazz1350/500 Miles High.xml</td>\n",
              "      <td>500 Miles High</td>\n",
              "      <td>minor</td>\n",
              "      <td>1</td>\n",
              "      <td>NaN</td>\n",
              "      <td>0</td>\n",
              "      <td>Am7 Am7 Cm7 Cm7 EbM7 EbM7 Em7b5 A7 Dm7 Dm7 Bm7...</td>\n",
              "    </tr>\n",
              "  </tbody>\n",
              "</table>\n",
              "</div>"
            ],
            "text/plain": [
              "   id  ...                                             chords\n",
              "0   0  ...  CM7 Eb7 G#M7 B7 EM7 G7 Gm7 C7 FM7 G#7 C#M7 E7 ...\n",
              "1   1  ...  CM7 Eb7 G#M7 B7 EM7 G7 Gm7 C7 FM7 Eb7 G#M7 B7 ...\n",
              "2   2  ...      Gm7 C7 Bm7 E7 AM7 C7 FM7 Bbm7 Eb7 G#M7 Dm7 G7\n",
              "3   3  ...  CM7 Eb7 G#M7 B7 EM7 G7 Gm7 C7 FM7 Eb7 G#M7 B7 ...\n",
              "4   4  ...  Am7 Am7 Cm7 Cm7 EbM7 EbM7 Em7b5 A7 Dm7 Dm7 Bm7...\n",
              "\n",
              "[5 rows x 8 columns]"
            ]
          },
          "metadata": {},
          "execution_count": 17
        }
      ]
    },
    {
      "cell_type": "markdown",
      "metadata": {
        "id": "OsPcEFbg8gu6"
      },
      "source": [
        "### Meta Data"
      ]
    },
    {
      "cell_type": "code",
      "metadata": {
        "colab": {
          "base_uri": "https://localhost:8080/",
          "height": 363
        },
        "id": "KdS8QLnJ8bI6",
        "outputId": "a7f3f811-196d-4112-b544-56b042dfd726"
      },
      "source": [
        "titles = df.loc[:, ['id', 'tune_id', 'section_id', 'section_name', 'title', 'tune_mode']]\n",
        "titles[:10]"
      ],
      "execution_count": 18,
      "outputs": [
        {
          "output_type": "execute_result",
          "data": {
            "text/html": [
              "<div>\n",
              "<style scoped>\n",
              "    .dataframe tbody tr th:only-of-type {\n",
              "        vertical-align: middle;\n",
              "    }\n",
              "\n",
              "    .dataframe tbody tr th {\n",
              "        vertical-align: top;\n",
              "    }\n",
              "\n",
              "    .dataframe thead th {\n",
              "        text-align: right;\n",
              "    }\n",
              "</style>\n",
              "<table border=\"1\" class=\"dataframe\">\n",
              "  <thead>\n",
              "    <tr style=\"text-align: right;\">\n",
              "      <th></th>\n",
              "      <th>id</th>\n",
              "      <th>tune_id</th>\n",
              "      <th>section_id</th>\n",
              "      <th>section_name</th>\n",
              "      <th>title</th>\n",
              "      <th>tune_mode</th>\n",
              "    </tr>\n",
              "  </thead>\n",
              "  <tbody>\n",
              "    <tr>\n",
              "      <th>0</th>\n",
              "      <td>0</td>\n",
              "      <td>0</td>\n",
              "      <td>1</td>\n",
              "      <td>A</td>\n",
              "      <td>26-2</td>\n",
              "      <td>major</td>\n",
              "    </tr>\n",
              "    <tr>\n",
              "      <th>1</th>\n",
              "      <td>1</td>\n",
              "      <td>0</td>\n",
              "      <td>2</td>\n",
              "      <td>A</td>\n",
              "      <td>26-2</td>\n",
              "      <td>major</td>\n",
              "    </tr>\n",
              "    <tr>\n",
              "      <th>2</th>\n",
              "      <td>2</td>\n",
              "      <td>0</td>\n",
              "      <td>3</td>\n",
              "      <td>B</td>\n",
              "      <td>26-2</td>\n",
              "      <td>major</td>\n",
              "    </tr>\n",
              "    <tr>\n",
              "      <th>3</th>\n",
              "      <td>3</td>\n",
              "      <td>0</td>\n",
              "      <td>4</td>\n",
              "      <td>A</td>\n",
              "      <td>26-2</td>\n",
              "      <td>major</td>\n",
              "    </tr>\n",
              "    <tr>\n",
              "      <th>4</th>\n",
              "      <td>4</td>\n",
              "      <td>1</td>\n",
              "      <td>0</td>\n",
              "      <td>NaN</td>\n",
              "      <td>500 Miles High</td>\n",
              "      <td>minor</td>\n",
              "    </tr>\n",
              "    <tr>\n",
              "      <th>5</th>\n",
              "      <td>5</td>\n",
              "      <td>2</td>\n",
              "      <td>0</td>\n",
              "      <td>NaN</td>\n",
              "      <td>502 Blues</td>\n",
              "      <td>minor</td>\n",
              "    </tr>\n",
              "    <tr>\n",
              "      <th>6</th>\n",
              "      <td>6</td>\n",
              "      <td>3</td>\n",
              "      <td>1</td>\n",
              "      <td>A</td>\n",
              "      <td>52nd Street Theme</td>\n",
              "      <td>major</td>\n",
              "    </tr>\n",
              "    <tr>\n",
              "      <th>7</th>\n",
              "      <td>7</td>\n",
              "      <td>3</td>\n",
              "      <td>2</td>\n",
              "      <td>A</td>\n",
              "      <td>52nd Street Theme</td>\n",
              "      <td>major</td>\n",
              "    </tr>\n",
              "    <tr>\n",
              "      <th>8</th>\n",
              "      <td>8</td>\n",
              "      <td>3</td>\n",
              "      <td>3</td>\n",
              "      <td>B</td>\n",
              "      <td>52nd Street Theme</td>\n",
              "      <td>major</td>\n",
              "    </tr>\n",
              "    <tr>\n",
              "      <th>9</th>\n",
              "      <td>9</td>\n",
              "      <td>3</td>\n",
              "      <td>4</td>\n",
              "      <td>A</td>\n",
              "      <td>52nd Street Theme</td>\n",
              "      <td>major</td>\n",
              "    </tr>\n",
              "  </tbody>\n",
              "</table>\n",
              "</div>"
            ],
            "text/plain": [
              "   id  tune_id  section_id section_name              title tune_mode\n",
              "0   0        0           1            A               26-2     major\n",
              "1   1        0           2            A               26-2     major\n",
              "2   2        0           3            B               26-2     major\n",
              "3   3        0           4            A               26-2     major\n",
              "4   4        1           0          NaN     500 Miles High     minor\n",
              "5   5        2           0          NaN          502 Blues     minor\n",
              "6   6        3           1            A  52nd Street Theme     major\n",
              "7   7        3           2            A  52nd Street Theme     major\n",
              "8   8        3           3            B  52nd Street Theme     major\n",
              "9   9        3           4            A  52nd Street Theme     major"
            ]
          },
          "metadata": {},
          "execution_count": 18
        }
      ]
    },
    {
      "cell_type": "code",
      "metadata": {
        "id": "0vEOjvwt8jUu"
      },
      "source": [
        "titles_dict = titles.to_dict()\n",
        "\n",
        "sectionid_to_title = titles_dict['title']\n",
        "sectionid_to_titleid = titles_dict['tune_id']\n"
      ],
      "execution_count": 19,
      "outputs": []
    },
    {
      "cell_type": "code",
      "metadata": {
        "id": "Om7pbfnNGO_I"
      },
      "source": [
        "tunes = df.loc[:, ['tune_id', 'title']].drop_duplicates()\n",
        "tunes = tunes.set_index('tune_id').to_dict()\n",
        "titleid_to_title = tunes['title']"
      ],
      "execution_count": 20,
      "outputs": []
    },
    {
      "cell_type": "code",
      "metadata": {
        "id": "1H72Y3_d8uNu"
      },
      "source": [
        "titles_rows = titles.to_dict(orient='records')\n",
        "sectionid_to_section = []\n",
        "for i, row in enumerate(titles_rows):\n",
        "  name = f\"{row['title']}, section{row['section_id']} ({row['section_name']})\"\n",
        "  sectionid_to_section.append(name)\n",
        "  "
      ],
      "execution_count": 21,
      "outputs": []
    },
    {
      "cell_type": "code",
      "metadata": {
        "id": "HCeGUk818y8V"
      },
      "source": [
        "title_to_sectionid = {}\n",
        "\n",
        "for row in titles.iterrows():\n",
        "  title = row[1]['title']\n",
        "  if title not in title_to_sectionid:\n",
        "    title_to_sectionid[title] = [row[1]['id']]\n",
        "  else:\n",
        "    title_to_sectionid[title].append(row[1]['id'])"
      ],
      "execution_count": 22,
      "outputs": []
    },
    {
      "cell_type": "markdown",
      "metadata": {
        "id": "wox-dMcz84Bt"
      },
      "source": [
        "## Helpers for N-Grams"
      ]
    },
    {
      "cell_type": "code",
      "metadata": {
        "id": "2964REdr80Gd"
      },
      "source": [
        "def ngrams(tokens, n=2, sep='-'):\n",
        "    return [sep.join(ngram) for ngram in zip(*[tokens[i:] for i in range(n)])]"
      ],
      "execution_count": 23,
      "outputs": []
    },
    {
      "cell_type": "markdown",
      "metadata": {
        "id": "umfsNtAdF0jM"
      },
      "source": [
        "# Data Preparation"
      ]
    },
    {
      "cell_type": "code",
      "metadata": {
        "id": "dCLwnqoVGcMw"
      },
      "source": [
        "lines = df.loc[:, 'chords'].tolist()\n",
        "data = [line.split(' ') for line in lines]"
      ],
      "execution_count": 24,
      "outputs": []
    },
    {
      "cell_type": "code",
      "metadata": {
        "colab": {
          "base_uri": "https://localhost:8080/"
        },
        "id": "g7SmApW9F3K6",
        "outputId": "e9e7eddb-6277-4c2d-8c88-6e173fd39146"
      },
      "source": [
        "processed_corpus = []\n",
        "for line in data:\n",
        "  tune_n = []\n",
        "  for n in ngrams_for_input:\n",
        "    tune_n.extend(ngrams(line, n=n))\n",
        "  processed_corpus.append(tune_n)\n",
        "\n",
        "for line in processed_corpus[:5]:\n",
        "  print(line)"
      ],
      "execution_count": 25,
      "outputs": [
        {
          "output_type": "stream",
          "name": "stdout",
          "text": [
            "['CM7-Eb7', 'Eb7-G#M7', 'G#M7-B7', 'B7-EM7', 'EM7-G7', 'G7-Gm7', 'Gm7-C7', 'C7-FM7', 'FM7-G#7', 'G#7-C#M7', 'C#M7-E7', 'E7-Am7', 'Am7-D7', 'D7-Dm7', 'Dm7-G7']\n",
            "['CM7-Eb7', 'Eb7-G#M7', 'G#M7-B7', 'B7-EM7', 'EM7-G7', 'G7-Gm7', 'Gm7-C7', 'C7-FM7', 'FM7-Eb7', 'Eb7-G#M7', 'G#M7-B7', 'B7-EM7', 'EM7-G7', 'G7-CM7']\n",
            "['Gm7-C7', 'C7-Bm7', 'Bm7-E7', 'E7-AM7', 'AM7-C7', 'C7-FM7', 'FM7-Bbm7', 'Bbm7-Eb7', 'Eb7-G#M7', 'G#M7-Dm7', 'Dm7-G7']\n",
            "['CM7-Eb7', 'Eb7-G#M7', 'G#M7-B7', 'B7-EM7', 'EM7-G7', 'G7-Gm7', 'Gm7-C7', 'C7-FM7', 'FM7-Eb7', 'Eb7-G#M7', 'G#M7-B7', 'B7-EM7', 'EM7-G7', 'G7-CM7']\n",
            "['Am7-Am7', 'Am7-Cm7', 'Cm7-Cm7', 'Cm7-EbM7', 'EbM7-EbM7', 'EbM7-Em7b5', 'Em7b5-A7', 'A7-Dm7', 'Dm7-Dm7', 'Dm7-Bm7b5', 'Bm7b5-Bm7b5', 'Bm7b5-Bbm7', 'Bbm7-Bbm7', 'Bbm7-Fm7', 'Fm7-Fm7', 'Fm7-E7', 'E7-E7', 'E7-Fm7', 'Fm7-Fm7', 'Fm7-C#M7', 'C#M7-C#M7', 'C#M7-Fm7', 'Fm7-Fm7', 'Fm7-C#M7', 'C#M7-C#M7']\n"
          ]
        }
      ]
    },
    {
      "cell_type": "markdown",
      "metadata": {
        "id": "LvQ60s_owm82"
      },
      "source": [
        "## Initialization for wandb variables"
      ]
    },
    {
      "cell_type": "code",
      "metadata": {
        "id": "fw7FHHXfwagL"
      },
      "source": [
        "recommender_results_cols = ['reference', 'id', 'method', 'similar', 'score_div_max', 'score']\n",
        "recommender_results = pd.DataFrame(columns=recommender_results_cols)"
      ],
      "execution_count": 26,
      "outputs": []
    },
    {
      "cell_type": "code",
      "metadata": {
        "id": "PfvF20G1JZMa"
      },
      "source": [
        "lsi_config = {\n",
        "    'num_topics': 200,\n",
        "}"
      ],
      "execution_count": 27,
      "outputs": []
    },
    {
      "cell_type": "code",
      "metadata": {
        "id": "eW2f6BdAJl01"
      },
      "source": [
        "doc2vec_config = {\n",
        "    'general': {\n",
        "        'chords_preprocessing': chords_preprocessing,\n",
        "        'chords_repeated': chords_repeated,\n",
        "        'document_tags': 'SectionsTunes',\n",
        "    },\n",
        "    'model': {\n",
        "        'dm': 1,\n",
        "        'vector_size': 100,\n",
        "        'window': 4,\n",
        "        'epochs': 40,\n",
        "        #'workers': 1,\n",
        "        'min_count': 1,\n",
        "        'negative': 10,\n",
        "        'sample': 0.001,\n",
        "        'seed': 42\n",
        "    }\n",
        "}"
      ],
      "execution_count": 28,
      "outputs": []
    },
    {
      "cell_type": "code",
      "metadata": {
        "colab": {
          "base_uri": "https://localhost:8080/",
          "height": 74
        },
        "id": "sxdJ97gdx70_",
        "outputId": "b6ef43b9-70f0-4e43-d839-ca5a95159662"
      },
      "source": [
        "wandb.init(\n",
        "      # Set entity to specify your username or team name\n",
        "      # ex: entity=\"carey\",\n",
        "      # Set the project where this run will be logged\n",
        "      project=\"jazztunes\", \n",
        "      \n",
        "      # Track hyperparameters and run metadata\n",
        "      config={\n",
        "          \"input_data\": \"https://docs.google.com/uc?export=download&id=17djlZRWFSUCviOxRTOF-nwbbZqU5gUP9\",\n",
        "          \"ngrams_input\": ngrams_for_input,\n",
        "          \"comparison\": \"sections\",\n",
        "          \"lsi\": lsi_config,\n",
        "          \"doc2vec\": doc2vec_config\n",
        "      }\n",
        "  )"
      ],
      "execution_count": 29,
      "outputs": [
        {
          "output_type": "stream",
          "name": "stderr",
          "text": [
            "\u001b[34m\u001b[1mwandb\u001b[0m: Currently logged in as: \u001b[33mdoris\u001b[0m (use `wandb login --relogin` to force relogin)\n"
          ]
        },
        {
          "output_type": "display_data",
          "data": {
            "text/html": [
              "\n",
              "                    Syncing run <strong><a href=\"https://wandb.ai/doris/jazztunes/runs/8qum42c0\" target=\"_blank\">toasty-dust-12</a></strong> to <a href=\"https://wandb.ai/doris/jazztunes\" target=\"_blank\">Weights & Biases</a> (<a href=\"https://docs.wandb.com/integrations/jupyter.html\" target=\"_blank\">docs</a>).<br/>\n",
              "\n",
              "                "
            ],
            "text/plain": [
              "<IPython.core.display.HTML object>"
            ]
          },
          "metadata": {}
        },
        {
          "output_type": "execute_result",
          "data": {
            "text/plain": [
              "<wandb.sdk.wandb_run.Run at 0x7f7f719212d0>"
            ],
            "text/html": [
              "<button onClick=\"this.nextSibling.style.display='block';this.style.display='none';\">Display W&B run</button><iframe src=\"https://wandb.ai/doris/jazztunes/runs/8qum42c0?jupyter=true\" style=\"border:none;width:100%;height:420px;display:none;\"></iframe>"
            ]
          },
          "metadata": {},
          "execution_count": 29
        }
      ]
    },
    {
      "cell_type": "code",
      "metadata": {
        "colab": {
          "base_uri": "https://localhost:8080/"
        },
        "id": "xHOY4TKYVN-g",
        "outputId": "ffe216f0-0f7a-41a5-bc38-60d6e144cb32"
      },
      "source": [
        "artifact = wandb.Artifact('input_data', type='dataset')\n",
        "artifact.add_file('data.csv')\n",
        "wandb.log_artifact(artifact)"
      ],
      "execution_count": 30,
      "outputs": [
        {
          "output_type": "execute_result",
          "data": {
            "text/plain": [
              "<wandb.sdk.wandb_artifacts.Artifact at 0x7f7f70fd15d0>"
            ]
          },
          "metadata": {},
          "execution_count": 30
        }
      ]
    },
    {
      "cell_type": "markdown",
      "metadata": {
        "id": "LeRGFeTn89Uc"
      },
      "source": [
        "# TF-IDF"
      ]
    },
    {
      "cell_type": "code",
      "metadata": {
        "colab": {
          "base_uri": "https://localhost:8080/"
        },
        "id": "pBdUdBNr9Gmu",
        "outputId": "f63e3f9b-520a-40fd-d269-daf52d76659d"
      },
      "source": [
        "dictionary = corpora.Dictionary(processed_corpus)\n",
        "bow_corpus = [dictionary.doc2bow(text) for text in processed_corpus]\n",
        "tfidf = TfidfModel(bow_corpus)"
      ],
      "execution_count": 31,
      "outputs": [
        {
          "output_type": "stream",
          "name": "stderr",
          "text": [
            "2021-11-21 20:36:17,337 : INFO : adding document #0 to Dictionary(0 unique tokens: [])\n",
            "2021-11-21 20:36:17,481 : INFO : built Dictionary(3756 unique tokens: ['Am7-D7', 'B7-EM7', 'C#M7-E7', 'C7-FM7', 'CM7-Eb7']...) from 5403 documents (total 77387 corpus positions)\n",
            "2021-11-21 20:36:17,483 : INFO : Dictionary lifecycle event {'msg': \"built Dictionary(3756 unique tokens: ['Am7-D7', 'B7-EM7', 'C#M7-E7', 'C7-FM7', 'CM7-Eb7']...) from 5403 documents (total 77387 corpus positions)\", 'datetime': '2021-11-21T20:36:17.483211', 'gensim': '4.1.2', 'python': '3.7.12 (default, Sep 10 2021, 00:21:48) \\n[GCC 7.5.0]', 'platform': 'Linux-5.4.104+-x86_64-with-Ubuntu-18.04-bionic', 'event': 'created'}\n",
            "2021-11-21 20:36:17,560 : INFO : collecting document frequencies\n",
            "2021-11-21 20:36:17,564 : INFO : PROGRESS: processing document #0\n",
            "2021-11-21 20:36:17,599 : INFO : TfidfModel lifecycle event {'msg': 'calculated IDF weights for 5403 documents and 3756 features (58387 matrix non-zeros)', 'datetime': '2021-11-21T20:36:17.599384', 'gensim': '4.1.2', 'python': '3.7.12 (default, Sep 10 2021, 00:21:48) \\n[GCC 7.5.0]', 'platform': 'Linux-5.4.104+-x86_64-with-Ubuntu-18.04-bionic', 'event': 'initialize'}\n"
          ]
        }
      ]
    },
    {
      "cell_type": "code",
      "metadata": {
        "id": "9NK-cuax9Kqk"
      },
      "source": [
        "# dictionary.token2id"
      ],
      "execution_count": 32,
      "outputs": []
    },
    {
      "cell_type": "code",
      "metadata": {
        "id": "til5xlce_y1m"
      },
      "source": [
        "!rm -R index\n",
        "!mkdir index"
      ],
      "execution_count": 33,
      "outputs": []
    },
    {
      "cell_type": "code",
      "metadata": {
        "colab": {
          "base_uri": "https://localhost:8080/"
        },
        "id": "tn_fz2M090IM",
        "outputId": "c1c05223-b7c4-4edf-94b6-73cd1e2aa1f2"
      },
      "source": [
        "# Note: SparseMatrixSimilarity crashes due to lacking memory\n",
        "#from gensim.test.utils import get_tmpfile\n",
        "#index_tmpfile = get_tmpfile(\"index\")\n",
        "#index_tfidf = similarities.Similarity('/content/index/index_tfidf', bow_corpus, num_features=len(dictionary))\n",
        "\n",
        "index_tfidf = similarities.SparseMatrixSimilarity(tfidf[bow_corpus], num_features = len(dictionary))"
      ],
      "execution_count": 34,
      "outputs": [
        {
          "output_type": "stream",
          "name": "stderr",
          "text": [
            "2021-11-21 20:36:17,888 : INFO : creating sparse index\n",
            "2021-11-21 20:36:17,893 : INFO : creating sparse matrix from corpus\n",
            "2021-11-21 20:36:17,895 : INFO : PROGRESS: at document #0\n",
            "2021-11-21 20:36:18,386 : INFO : created <5403x3756 sparse matrix of type '<class 'numpy.float32'>'\n",
            "\twith 58387 stored elements in Compressed Sparse Row format>\n"
          ]
        }
      ]
    },
    {
      "cell_type": "code",
      "metadata": {
        "colab": {
          "base_uri": "https://localhost:8080/"
        },
        "id": "VRSUXNPTewqv",
        "outputId": "bead4936-3c34-434c-f9b9-0a331ee02b61"
      },
      "source": [
        "tfidf.save('/content/index/tfidf.model')  # save model\n",
        "index_tfidf.save('/content/index/tfidf.index') #save index"
      ],
      "execution_count": 35,
      "outputs": [
        {
          "output_type": "stream",
          "name": "stderr",
          "text": [
            "2021-11-21 20:36:18,401 : INFO : TfidfModel lifecycle event {'fname_or_handle': '/content/index/tfidf.model', 'separately': 'None', 'sep_limit': 10485760, 'ignore': frozenset(), 'datetime': '2021-11-21T20:36:18.401830', 'gensim': '4.1.2', 'python': '3.7.12 (default, Sep 10 2021, 00:21:48) \\n[GCC 7.5.0]', 'platform': 'Linux-5.4.104+-x86_64-with-Ubuntu-18.04-bionic', 'event': 'saving'}\n",
            "2021-11-21 20:36:18,425 : INFO : saved /content/index/tfidf.model\n",
            "2021-11-21 20:36:18,428 : INFO : SparseMatrixSimilarity lifecycle event {'fname_or_handle': '/content/index/tfidf.index', 'separately': 'None', 'sep_limit': 10485760, 'ignore': frozenset(), 'datetime': '2021-11-21T20:36:18.428139', 'gensim': '4.1.2', 'python': '3.7.12 (default, Sep 10 2021, 00:21:48) \\n[GCC 7.5.0]', 'platform': 'Linux-5.4.104+-x86_64-with-Ubuntu-18.04-bionic', 'event': 'saving'}\n",
            "2021-11-21 20:36:18,435 : INFO : saved /content/index/tfidf.index\n"
          ]
        }
      ]
    },
    {
      "cell_type": "markdown",
      "metadata": {
        "id": "ZLK0coIu9Tv5"
      },
      "source": [
        "## Test for single tunes"
      ]
    },
    {
      "cell_type": "code",
      "metadata": {
        "id": "Fzrj1qxwDpJT"
      },
      "source": [
        "def get_sim_scores(tunes, index, model):\n",
        "\n",
        "    df_sim = pd.DataFrame(columns=['reference_title',\n",
        "                                  'similar_title',\n",
        "                                  'ref_section', \n",
        "                                  'similar_section', \n",
        "                                  'score', \n",
        "                                  ])\n",
        "\n",
        "    for tune in tunes:\n",
        "      print()\n",
        "      print(\"-\"*50)\n",
        "      for s1 in title_to_sectionid[tune]:\n",
        "      \n",
        "          query = processed_corpus[s1]\n",
        "          query_bow = dictionary.doc2bow(query)\n",
        "\n",
        "          # perform a similarity query against the corpus\n",
        "          similarities = index[model[query_bow]]\n",
        "          sims = sorted(enumerate(similarities), key=lambda item: -item[1])\n",
        "          \n",
        "          print(s1, sectionid_to_section[s1])\n",
        "          n = 0\n",
        "          for s2, s2_score in sims:\n",
        "            \n",
        "            # store the top N best results\n",
        "            if n > 40:\n",
        "                break\n",
        "            # don't count self-similarity between sections of the same tune\n",
        "            if s2 not in title_to_sectionid[tune]:\n",
        "                n += 1\n",
        "            \n",
        "                # print(f\"\\t{s2_score:.3f} {sectionid_to_section[s2]}\")\n",
        "\n",
        "                df_sim.loc[len(df_sim)] = [tune,\n",
        "                                sectionid_to_title[s2],\n",
        "                                sectionid_to_section[s1], \n",
        "                                sectionid_to_section[s2], \n",
        "                                s2_score, \n",
        "                                ]\n",
        "    return df_sim"
      ],
      "execution_count": 36,
      "outputs": []
    },
    {
      "cell_type": "code",
      "metadata": {
        "colab": {
          "base_uri": "https://localhost:8080/"
        },
        "id": "5Wz4ZQk_EKZy",
        "outputId": "75662784-70a7-4933-f770-7d308e965153"
      },
      "source": [
        "%%time\n",
        "df_sim = get_sim_scores(tunes_eval_list, index_tfidf, tfidf)\n",
        "df_tfidf = df_sim[:]"
      ],
      "execution_count": 37,
      "outputs": [
        {
          "output_type": "stream",
          "name": "stdout",
          "text": [
            "\n",
            "--------------------------------------------------\n",
            "125 After You've Gone, section1 (A)\n",
            "126 After You've Gone, section2 (B)\n",
            "127 After You've Gone, section3 (A)\n",
            "128 After You've Gone, section4 (C)\n",
            "\n",
            "--------------------------------------------------\n",
            "188 All God's Chillun Got Rhythm, section1 (A)\n",
            "189 All God's Chillun Got Rhythm, section2 (B)\n",
            "190 All God's Chillun Got Rhythm, section3 (A)\n",
            "191 All God's Chillun Got Rhythm, section4 (C)\n",
            "\n",
            "--------------------------------------------------\n",
            "198 All Of Me, section1 (A)\n",
            "199 All Of Me, section2 (B)\n",
            "200 All Of Me, section3 (A)\n",
            "201 All Of Me, section4 (C)\n",
            "\n",
            "--------------------------------------------------\n",
            "474 Blood Count, section1 (A)\n",
            "475 Blood Count, section2 (A)\n",
            "476 Blood Count, section3 (B)\n",
            "477 Blood Count, section4 (A)\n",
            "478 Blood Count, section5 (C)\n",
            "\n",
            "--------------------------------------------------\n",
            "496 Blue Moon, section1 (A)\n",
            "497 Blue Moon, section2 (A)\n",
            "498 Blue Moon, section3 (B)\n",
            "499 Blue Moon, section4 (A)\n",
            "\n",
            "--------------------------------------------------\n",
            "626 But Beautiful, section1 (A)\n",
            "627 But Beautiful, section2 (B)\n",
            "628 But Beautiful, section3 (A)\n",
            "629 But Beautiful, section4 (C)\n",
            "\n",
            "--------------------------------------------------\n",
            "653 Bye Bye Blackbird, section1 (A)\n",
            "654 Bye Bye Blackbird, section2 (B)\n",
            "4569 Bye Bye Blackbird, section1 (A)\n",
            "4570 Bye Bye Blackbird, section2 (B)\n",
            "4571 Bye Bye Blackbird, section3 (C)\n",
            "\n",
            "--------------------------------------------------\n",
            "676 Call Me Irresponsible, section1 (A)\n",
            "677 Call Me Irresponsible, section2 (B)\n",
            "678 Call Me Irresponsible, section3 (A)\n",
            "679 Call Me Irresponsible, section4 (B)\n",
            "\n",
            "--------------------------------------------------\n",
            "826 Corcovado, section1 (A)\n",
            "827 Corcovado, section2 (B)\n",
            "828 Corcovado, section3 (A)\n",
            "829 Corcovado, section4 (C)\n",
            "\n",
            "--------------------------------------------------\n",
            "997 Dinah, section1 (A)\n",
            "998 Dinah, section2 (A)\n",
            "999 Dinah, section3 (B)\n",
            "1000 Dinah, section4 (A)\n",
            "\n",
            "--------------------------------------------------\n",
            "1125 East Of The Sun, section1 (A)\n",
            "1126 East Of The Sun, section2 (B)\n",
            "1127 East Of The Sun, section3 (A)\n",
            "1128 East Of The Sun, section4 (C)\n",
            "\n",
            "--------------------------------------------------\n",
            "1287 Footprints, section0 (nan)\n",
            "\n",
            "--------------------------------------------------\n",
            "1379 Giant Steps, section0 (nan)\n",
            "\n",
            "--------------------------------------------------\n",
            "1538 Honeysuckle Rose, section1 (A)\n",
            "1539 Honeysuckle Rose, section2 (A)\n",
            "1540 Honeysuckle Rose, section3 (B)\n",
            "1541 Honeysuckle Rose, section4 (A)\n",
            "4793 Honeysuckle Rose, section1 (A)\n",
            "4794 Honeysuckle Rose, section2 (A)\n",
            "4795 Honeysuckle Rose, section3 (B)\n",
            "4796 Honeysuckle Rose, section4 (A)\n",
            "\n",
            "--------------------------------------------------\n",
            "1647 I Got Rhythm, section1 (A)\n",
            "1648 I Got Rhythm, section2 (A)\n",
            "1649 I Got Rhythm, section3 (B)\n",
            "1650 I Got Rhythm, section4 (A)\n",
            "4821 I Got Rhythm, section1 (A)\n",
            "4822 I Got Rhythm, section2 (A)\n",
            "4823 I Got Rhythm, section3 (B)\n",
            "4824 I Got Rhythm, section4 (A)\n",
            "\n",
            "--------------------------------------------------\n",
            "2676 Misty, section1 (A)\n",
            "2677 Misty, section2 (A)\n",
            "2678 Misty, section3 (B)\n",
            "2679 Misty, section4 (A)\n",
            "\n",
            "--------------------------------------------------\n",
            "2863 Naima, section1 (A)\n",
            "2864 Naima, section2 (A)\n",
            "2865 Naima, section3 (B)\n",
            "2866 Naima, section4 (A)\n",
            "\n",
            "--------------------------------------------------\n",
            "5056 Old Fashioned Love, section0 (nan)\n",
            "\n",
            "--------------------------------------------------\n",
            "3148 Perdido, section1 (A)\n",
            "3149 Perdido, section2 (A)\n",
            "3150 Perdido, section3 (B)\n",
            "3151 Perdido, section4 (A)\n",
            "\n",
            "--------------------------------------------------\n",
            "3282 Rockin' Chair, section1 (A)\n",
            "3283 Rockin' Chair, section2 (B)\n",
            "3284 Rockin' Chair, section3 (A)\n",
            "5122 Rockin' Chair, section1 (A)\n",
            "5123 Rockin' Chair, section2 (B)\n",
            "5124 Rockin' Chair, section3 (A)\n",
            "\n",
            "--------------------------------------------------\n",
            "3584 Sophisticated Lady, section1 (A)\n",
            "3585 Sophisticated Lady, section2 (A)\n",
            "3586 Sophisticated Lady, section3 (B)\n",
            "3587 Sophisticated Lady, section4 (A)\n",
            "\n",
            "--------------------------------------------------\n",
            "3752 Sweet Sue, Just You, section1 (A)\n",
            "3753 Sweet Sue, Just You, section2 (A)\n",
            "3754 Sweet Sue, Just You, section3 (B)\n",
            "3755 Sweet Sue, Just You, section4 (A)\n",
            "\n",
            "--------------------------------------------------\n",
            "3866 These Foolish Things, section1 (A)\n",
            "3867 These Foolish Things, section2 (A)\n",
            "3868 These Foolish Things, section3 (B)\n",
            "3869 These Foolish Things, section4 (A)\n",
            "\n",
            "--------------------------------------------------\n",
            "4152 We'll Be Together Again, section1 (A)\n",
            "4153 We'll Be Together Again, section2 (A)\n",
            "4154 We'll Be Together Again, section3 (B)\n",
            "4155 We'll Be Together Again, section4 (A)\n",
            "CPU times: user 15.9 s, sys: 281 ms, total: 16.1 s\n",
            "Wall time: 16 s\n"
          ]
        }
      ]
    },
    {
      "cell_type": "code",
      "metadata": {
        "colab": {
          "base_uri": "https://localhost:8080/",
          "height": 542
        },
        "id": "yzRuIKVh9c8g",
        "outputId": "5f1be3e2-1d3d-451a-ee32-206bcc958440"
      },
      "source": [
        "import plotly.express as px\n",
        "fig = px.histogram(df_sim, x=\"score\", nbins=50, title='Scores for TF-IDF')\n",
        "fig.show()"
      ],
      "execution_count": 38,
      "outputs": [
        {
          "output_type": "display_data",
          "data": {
            "text/html": [
              "<html>\n",
              "<head><meta charset=\"utf-8\" /></head>\n",
              "<body>\n",
              "    <div>\n",
              "            <script src=\"https://cdnjs.cloudflare.com/ajax/libs/mathjax/2.7.5/MathJax.js?config=TeX-AMS-MML_SVG\"></script><script type=\"text/javascript\">if (window.MathJax) {MathJax.Hub.Config({SVG: {font: \"STIX-Web\"}});}</script>\n",
              "                <script type=\"text/javascript\">window.PlotlyConfig = {MathJaxConfig: 'local'};</script>\n",
              "        <script src=\"https://cdn.plot.ly/plotly-latest.min.js\"></script>    \n",
              "            <div id=\"1ac5836b-d094-4c4f-9724-d31dec169868\" class=\"plotly-graph-div\" style=\"height:525px; width:100%;\"></div>\n",
              "            <script type=\"text/javascript\">\n",
              "                \n",
              "                    window.PLOTLYENV=window.PLOTLYENV || {};\n",
              "                    \n",
              "                if (document.getElementById(\"1ac5836b-d094-4c4f-9724-d31dec169868\")) {\n",
              "                    Plotly.newPlot(\n",
              "                        '1ac5836b-d094-4c4f-9724-d31dec169868',\n",
              "                        [{\"alignmentgroup\": \"True\", \"bingroup\": \"x\", \"hoverlabel\": {\"namelength\": 0}, \"hovertemplate\": \"score=%{x}<br>count=%{y}\", \"legendgroup\": \"\", \"marker\": {\"color\": \"#636efa\"}, \"name\": \"\", \"nbinsx\": 50, \"offsetgroup\": \"\", \"orientation\": \"v\", \"showlegend\": false, \"type\": \"histogram\", \"x\": [0.5383526086807251, 0.4638805687427521, 0.42673438787460327, 0.3896305561065674, 0.35915666818618774, 0.35915666818618774, 0.3547731935977936, 0.3546171486377716, 0.35061806440353394, 0.3466554582118988, 0.34653806686401367, 0.33802691102027893, 0.32979151606559753, 0.326314240694046, 0.32597821950912476, 0.3224269151687622, 0.3201808035373688, 0.31981319189071655, 0.31371426582336426, 0.31334590911865234, 0.3106238842010498, 0.30892881751060486, 0.30781614780426025, 0.30781614780426025, 0.3050125241279602, 0.3044986128807068, 0.30300477147102356, 0.2995977997779846, 0.29861289262771606, 0.29781657457351685, 0.29781657457351685, 0.29546529054641724, 0.29507994651794434, 0.29201510548591614, 0.2910422086715698, 0.2910104990005493, 0.2885131537914276, 0.2860117256641388, 0.2813986539840698, 0.2804664671421051, 0.2799524664878845, 0.7442778944969177, 0.7442778944969177, 0.7107024192810059, 0.6547058820724487, 0.6488149166107178, 0.6475331783294678, 0.58171147108078, 0.58171147108078, 0.5143168568611145, 0.5036943554878235, 0.5036943554878235, 0.4828842282295227, 0.4806611239910126, 0.4794858396053314, 0.4794858396053314, 0.4794858396053314, 0.4676007032394409, 0.4667159914970398, 0.466420441865921, 0.4606357514858246, 0.45499879121780396, 0.44817784428596497, 0.44817784428596497, 0.44720882177352905, 0.4447951018810272, 0.4442100524902344, 0.4417267441749573, 0.43072375655174255, 0.42547333240509033, 0.42019087076187134, 0.42019087076187134, 0.42019087076187134, 0.41881608963012695, 0.41881608963012695, 0.41881608963012695, 0.41749969124794006, 0.4172099828720093, 0.4165050685405731, 0.4151570796966553, 0.4091188609600067, 0.4091188609600067, 0.5383526086807251, 0.4638805687427521, 0.42673438787460327, 0.3896305561065674, 0.35915666818618774, 0.35915666818618774, 0.3547731935977936, 0.3546171486377716, 0.35061806440353394, 0.3466554582118988, 0.34653806686401367, 0.33802691102027893, 0.32979151606559753, 0.326314240694046, 0.32597821950912476, 0.3224269151687622, 0.3201808035373688, 0.31981319189071655, 0.31371426582336426, 0.31334590911865234, 0.3106238842010498, 0.30892881751060486, 0.30781614780426025, 0.30781614780426025, 0.3050125241279602, 0.3044986128807068, 0.30300477147102356, 0.2995977997779846, 0.29861289262771606, 0.29781657457351685, 0.29781657457351685, 0.29546529054641724, 0.29507994651794434, 0.29201510548591614, 0.2910422086715698, 0.2910104990005493, 0.2885131537914276, 0.2860117256641388, 0.2813986539840698, 0.2804664671421051, 0.2799524664878845, 0.30261358618736267, 0.29191768169403076, 0.28342318534851074, 0.27592799067497253, 0.26087212562561035, 0.2598939836025238, 0.25864875316619873, 0.2586379647254944, 0.2562037706375122, 0.255231648683548, 0.25360235571861267, 0.2532441318035126, 0.2532441318035126, 0.25051549077033997, 0.2486545592546463, 0.24606482684612274, 0.24606482684612274, 0.2422432005405426, 0.24112388491630554, 0.2365175485610962, 0.23457708954811096, 0.23225882649421692, 0.23225882649421692, 0.23225882649421692, 0.22726663947105408, 0.22006306052207947, 0.2147904634475708, 0.2147904634475708, 0.21227341890335083, 0.211631640791893, 0.2092534899711609, 0.2087295651435852, 0.20868955552577972, 0.20689187943935394, 0.20619529485702515, 0.20555733144283295, 0.2055119276046753, 0.20457178354263306, 0.20457178354263306, 0.20352356135845184, 0.2031860500574112, 0.9204671382904053, 0.9204671382904053, 0.7986510992050171, 0.7864178419113159, 0.7679661512374878, 0.7273529767990112, 0.72076416015625, 0.7202744483947754, 0.7202744483947754, 0.7120099067687988, 0.7117602229118347, 0.705272376537323, 0.6848779916763306, 0.6797219514846802, 0.677707850933075, 0.6769352555274963, 0.6607393026351929, 0.658214807510376, 0.6579378247261047, 0.6579378247261047, 0.6494029760360718, 0.6414581537246704, 0.6414581537246704, 0.6189443469047546, 0.617218554019928, 0.6106842160224915, 0.6097495555877686, 0.5933040380477905, 0.583487868309021, 0.5799865126609802, 0.5795379281044006, 0.5707176923751831, 0.5555499196052551, 0.5555388927459717, 0.5539184808731079, 0.550201416015625, 0.5470128059387207, 0.5416276454925537, 0.5353803634643555, 0.533832311630249, 0.5276827216148376, 0.580043375492096, 0.573028028011322, 0.5637626051902771, 0.5352603793144226, 0.49775230884552, 0.49448615312576294, 0.48509615659713745, 0.4823572337627411, 0.48156416416168213, 0.47848159074783325, 0.47848159074783325, 0.47830671072006226, 0.4719598889350891, 0.4715590476989746, 0.46737369894981384, 0.4479590952396393, 0.44697096943855286, 0.44478654861450195, 0.4395638406276703, 0.43751558661460876, 0.43751558661460876, 0.43664923310279846, 0.4301370680332184, 0.42881378531455994, 0.4253326654434204, 0.42227548360824585, 0.4214212894439697, 0.4206547439098358, 0.41475725173950195, 0.41194620728492737, 0.40856027603149414, 0.40545135736465454, 0.4052131772041321, 0.4031667113304138, 0.4005129039287567, 0.40049248933792114, 0.3947739005088806, 0.39332908391952515, 0.3896011412143707, 0.3858325779438019, 0.3858325779438019, 0.9204671382904053, 0.9204671382904053, 0.7986510992050171, 0.7864178419113159, 0.7679661512374878, 0.7273529767990112, 0.72076416015625, 0.7202744483947754, 0.7202744483947754, 0.7120099067687988, 0.7117602229118347, 0.705272376537323, 0.6848779916763306, 0.6797219514846802, 0.677707850933075, 0.6769352555274963, 0.6607393026351929, 0.658214807510376, 0.6579378247261047, 0.6579378247261047, 0.6494029760360718, 0.6414581537246704, 0.6414581537246704, 0.6189443469047546, 0.617218554019928, 0.6106842160224915, 0.6097495555877686, 0.5933040380477905, 0.583487868309021, 0.5799865126609802, 0.5795379281044006, 0.5707176923751831, 0.5555499196052551, 0.5555388927459717, 0.5539184808731079, 0.550201416015625, 0.5470128059387207, 0.5416276454925537, 0.5353803634643555, 0.533832311630249, 0.5276827216148376, 0.859458863735199, 0.6744535565376282, 0.6743919849395752, 0.5801860094070435, 0.5799880623817444, 0.5672268867492676, 0.5334393978118896, 0.5270535945892334, 0.520405113697052, 0.49642491340637207, 0.4840084910392761, 0.4707200527191162, 0.46128010749816895, 0.4597984552383423, 0.45251449942588806, 0.4317248463630676, 0.4315497577190399, 0.42976465821266174, 0.4244188368320465, 0.4159232974052429, 0.4131101965904236, 0.41225820779800415, 0.40927672386169434, 0.4028095602989197, 0.4014332592487335, 0.39819568395614624, 0.39819568395614624, 0.39637452363967896, 0.3942904472351074, 0.3917553126811981, 0.39096298813819885, 0.39096298813819885, 0.3904407322406769, 0.3881492018699646, 0.3869627118110657, 0.3861865997314453, 0.3859735429286957, 0.3855645954608917, 0.3760891556739807, 0.3747175633907318, 0.3747134506702423, 0.7274278402328491, 0.6979068517684937, 0.6631597280502319, 0.5329160690307617, 0.5273311138153076, 0.5273311138153076, 0.5273311138153076, 0.5273311138153076, 0.5273311138153076, 0.5273311138153076, 0.5273311138153076, 0.5273311138153076, 0.5273311138153076, 0.5273311138153076, 0.5273311138153076, 0.5273311138153076, 0.5273311138153076, 0.5273311138153076, 0.5273311138153076, 0.5273311138153076, 0.5273311138153076, 0.5273311138153076, 0.5273311138153076, 0.5273311138153076, 0.5273311138153076, 0.5273311138153076, 0.5273311138153076, 0.5273311138153076, 0.5173896551132202, 0.5173896551132202, 0.5154768824577332, 0.5154768824577332, 0.4943053126335144, 0.4881100058555603, 0.4881100058555603, 0.47938811779022217, 0.4781174063682556, 0.47565004229545593, 0.4439533054828644, 0.4427114725112915, 0.4364427924156189, 0.8426352739334106, 0.7273428440093994, 0.6720995903015137, 0.6527178287506104, 0.6509286165237427, 0.6226558089256287, 0.559628427028656, 0.558613657951355, 0.5384790897369385, 0.5366172194480896, 0.5230333209037781, 0.5114730596542358, 0.5071017742156982, 0.4981139302253723, 0.49671289324760437, 0.49668458104133606, 0.49668458104133606, 0.49668458104133606, 0.48731157183647156, 0.4829781651496887, 0.4752999544143677, 0.4752999544143677, 0.47335824370384216, 0.4731057584285736, 0.4731057584285736, 0.4712334871292114, 0.4712334871292114, 0.4712334871292114, 0.4712334871292114, 0.4712334871292114, 0.4712334871292114, 0.4712334871292114, 0.4712334871292114, 0.4712334871292114, 0.4712334871292114, 0.4712334871292114, 0.4712334871292114, 0.4712334871292114, 0.45211130380630493, 0.4505007863044739, 0.44816485047340393, 0.7274278402328491, 0.6979068517684937, 0.6631597280502319, 0.5329160690307617, 0.5273311138153076, 0.5273311138153076, 0.5273311138153076, 0.5273311138153076, 0.5273311138153076, 0.5273311138153076, 0.5273311138153076, 0.5273311138153076, 0.5273311138153076, 0.5273311138153076, 0.5273311138153076, 0.5273311138153076, 0.5273311138153076, 0.5273311138153076, 0.5273311138153076, 0.5273311138153076, 0.5273311138153076, 0.5273311138153076, 0.5273311138153076, 0.5273311138153076, 0.5273311138153076, 0.5273311138153076, 0.5273311138153076, 0.5273311138153076, 0.5173896551132202, 0.5173896551132202, 0.5154768824577332, 0.5154768824577332, 0.4943053126335144, 0.4881100058555603, 0.4881100058555603, 0.47938811779022217, 0.4781174063682556, 0.47565004229545593, 0.4439533054828644, 0.4427114725112915, 0.4364427924156189, 0.6061562299728394, 0.5787926912307739, 0.5628352761268616, 0.5598053932189941, 0.5598053932189941, 0.5565924644470215, 0.5008935928344727, 0.47128355503082275, 0.4627857804298401, 0.4627857804298401, 0.45514410734176636, 0.43089085817337036, 0.4296276569366455, 0.4274253249168396, 0.4052838981151581, 0.3989992141723633, 0.3989992141723633, 0.3870141804218292, 0.37619417905807495, 0.37562036514282227, 0.37017661333084106, 0.3642188012599945, 0.3642188012599945, 0.3565763831138611, 0.35421791672706604, 0.35336965322494507, 0.3519975543022156, 0.33738625049591064, 0.3362646996974945, 0.33284592628479004, 0.33284592628479004, 0.3324417471885681, 0.33220335841178894, 0.33220335841178894, 0.3295407295227051, 0.3288540244102478, 0.32327136397361755, 0.32161304354667664, 0.31787145137786865, 0.31787145137786865, 0.31750062108039856, 0.28273671865463257, 0.19874757528305054, 0.18903517723083496, 0.18898455798625946, 0.15099592506885529, 0.13724198937416077, 0.11382047832012177, 0.11174510419368744, 0.10604529082775116, 0.10489211976528168, 0.09980887919664383, 0.09081542491912842, 0.09081542491912842, 0.08902943134307861, 0.08799946308135986, 0.08219756186008453, 0.07763708382844925, 0.07576063275337219, 0.07431966811418533, 0.07400961220264435, 0.07400961220264435, 0.07159797102212906, 0.07159797102212906, 0.07121017575263977, 0.0701475664973259, 0.06969995051622391, 0.06839058548212051, 0.06634547561407089, 0.06188628822565079, 0.06157540902495384, 0.05997304245829582, 0.059724580496549606, 0.05940568447113037, 0.05940568447113037, 0.058545276522636414, 0.058295633643865585, 0.057117678225040436, 0.05613354593515396, 0.05528958886861801, 0.05365678295493126, 0.051869794726371765, 0.3176290988922119, 0.292381227016449, 0.27879616618156433, 0.2666102349758148, 0.25575852394104004, 0.25388434529304504, 0.23935562372207642, 0.23293381929397583, 0.23293381929397583, 0.22531281411647797, 0.22368131577968597, 0.2175355851650238, 0.2087130844593048, 0.2087130844593048, 0.2044401317834854, 0.19808891415596008, 0.19606100022792816, 0.19426389038562775, 0.194167822599411, 0.18593764305114746, 0.18593764305114746, 0.18582051992416382, 0.1849256157875061, 0.18297435343265533, 0.18262815475463867, 0.18251252174377441, 0.1813659518957138, 0.18034832179546356, 0.18004536628723145, 0.1754932701587677, 0.17513909935951233, 0.17513909935951233, 0.17481768131256104, 0.17382149398326874, 0.17284975945949554, 0.1724511981010437, 0.1724511981010437, 0.17238248884677887, 0.17238248884677887, 0.17058362066745758, 0.16645202040672302, 0.22798365354537964, 0.2085994929075241, 0.15745320916175842, 0.14193202555179596, 0.13398943841457367, 0.125581756234169, 0.11235809326171875, 0.10516858845949173, 0.10105591267347336, 0.09866303950548172, 0.09709282219409943, 0.09709282219409943, 0.08585263788700104, 0.08295343071222305, 0.08284591138362885, 0.0781979188323021, 0.07787826657295227, 0.0759243443608284, 0.07461632043123245, 0.06155245378613472, 0.06100878864526749, 0.04259805381298065, 0.04093696549534798, 0.0, 0.0, 0.0, 0.0, 0.0, 0.0, 0.0, 0.0, 0.0, 0.0, 0.0, 0.0, 0.0, 0.0, 0.0, 0.0, 0.0, 0.0, 0.3176290988922119, 0.292381227016449, 0.27879616618156433, 0.2666102349758148, 0.25575852394104004, 0.25388434529304504, 0.23935562372207642, 0.23293381929397583, 0.23293381929397583, 0.22531281411647797, 0.22368131577968597, 0.2175355851650238, 0.2087130844593048, 0.2087130844593048, 0.2044401317834854, 0.19808891415596008, 0.19606100022792816, 0.19426389038562775, 0.194167822599411, 0.18593764305114746, 0.18593764305114746, 0.18582051992416382, 0.1849256157875061, 0.18297435343265533, 0.18262815475463867, 0.18251252174377441, 0.1813659518957138, 0.18034832179546356, 0.18004536628723145, 0.1754932701587677, 0.17513909935951233, 0.17513909935951233, 0.17481768131256104, 0.17382149398326874, 0.17284975945949554, 0.1724511981010437, 0.1724511981010437, 0.17238248884677887, 0.17238248884677887, 0.17058362066745758, 0.16645202040672302, 0.6072653532028198, 0.48820003867149353, 0.44448283314704895, 0.40253946185112, 0.3864467740058899, 0.3603605628013611, 0.3470834195613861, 0.3439334034919739, 0.3336178958415985, 0.33178985118865967, 0.33178985118865967, 0.3177388608455658, 0.30424734950065613, 0.3038709759712219, 0.29574355483055115, 0.29552602767944336, 0.2926926016807556, 0.28085488080978394, 0.2783760726451874, 0.2705167829990387, 0.265034556388855, 0.26147326827049255, 0.25778788328170776, 0.2557154893875122, 0.2509568929672241, 0.23548828065395355, 0.23548828065395355, 0.23299452662467957, 0.23177118599414825, 0.2296842634677887, 0.229593425989151, 0.22433793544769287, 0.21528151631355286, 0.2115153819322586, 0.2065860629081726, 0.20501847565174103, 0.20479609072208405, 0.20162934064865112, 0.1994406282901764, 0.1974966824054718, 0.19364552199840546, 0.768215537071228, 0.768215537071228, 0.7681452035903931, 0.7618247270584106, 0.7593351006507874, 0.7593351006507874, 0.7218033075332642, 0.717542290687561, 0.7016453742980957, 0.698964536190033, 0.6848264932632446, 0.6820590496063232, 0.6668795347213745, 0.6613848805427551, 0.6579378247261047, 0.6579378247261047, 0.6557886600494385, 0.6513238549232483, 0.6347845792770386, 0.6335353851318359, 0.6324118375778198, 0.6324118375778198, 0.6216964721679688, 0.6158134937286377, 0.5950841903686523, 0.5885374546051025, 0.5808780789375305, 0.5747337341308594, 0.5736919641494751, 0.5389634966850281, 0.5289257764816284, 0.5233754515647888, 0.5201490521430969, 0.5188349485397339, 0.5188349485397339, 0.5187541246414185, 0.5063598155975342, 0.5053572058677673, 0.5030703544616699, 0.499983012676239, 0.499983012676239, 0.751518726348877, 0.6631373167037964, 0.620927095413208, 0.6062392592430115, 0.6062392592430115, 0.5665392875671387, 0.5658147931098938, 0.5595329999923706, 0.5595329999923706, 0.5545453429222107, 0.5369845032691956, 0.533832311630249, 0.533832311630249, 0.5331013202667236, 0.5289270281791687, 0.5263729691505432, 0.5219880938529968, 0.5199936628341675, 0.5091814994812012, 0.5056740045547485, 0.4940755367279053, 0.4857851266860962, 0.48451077938079834, 0.4774783253669739, 0.4704819321632385, 0.4704819321632385, 0.4683900773525238, 0.4588467478752136, 0.45301371812820435, 0.44872695207595825, 0.43362200260162354, 0.4321434199810028, 0.43208062648773193, 0.42484134435653687, 0.4180341064929962, 0.40656256675720215, 0.40656256675720215, 0.4009932577610016, 0.3971872925758362, 0.3971872925758362, 0.3930452764034271, 0.3519226610660553, 0.3519226610660553, 0.33148467540740967, 0.3116222620010376, 0.30434489250183105, 0.30434489250183105, 0.30186593532562256, 0.2992885112762451, 0.29902195930480957, 0.28839796781539917, 0.2881928086280823, 0.28683963418006897, 0.28557008504867554, 0.28477782011032104, 0.2747334837913513, 0.27355265617370605, 0.2713143229484558, 0.26844632625579834, 0.2590704560279846, 0.2589784860610962, 0.2589784860610962, 0.2589784860610962, 0.25769126415252686, 0.25769126415252686, 0.25727248191833496, 0.2545084059238434, 0.2500236928462982, 0.24376371502876282, 0.23902171850204468, 0.2353944033384323, 0.2353944033384323, 0.23337151110172272, 0.2328820824623108, 0.23278403282165527, 0.23219957947731018, 0.22599008679389954, 0.22591599822044373, 0.22559267282485962, 0.22540313005447388, 0.22519072890281677, 0.22331930696964264, 0.768215537071228, 0.768215537071228, 0.7681452035903931, 0.7618247270584106, 0.7593351006507874, 0.7593351006507874, 0.7218033075332642, 0.717542290687561, 0.7016453742980957, 0.698964536190033, 0.6848264932632446, 0.6820590496063232, 0.6668795347213745, 0.6613848805427551, 0.6579378247261047, 0.6579378247261047, 0.6557886600494385, 0.6513238549232483, 0.6347845792770386, 0.6335353851318359, 0.6324118375778198, 0.6324118375778198, 0.6216964721679688, 0.6158134937286377, 0.5950841903686523, 0.5885374546051025, 0.5808780789375305, 0.5747337341308594, 0.5736919641494751, 0.5389634966850281, 0.5289257764816284, 0.5233754515647888, 0.5201490521430969, 0.5188349485397339, 0.5188349485397339, 0.5187541246414185, 0.5063598155975342, 0.5053572058677673, 0.5030703544616699, 0.499983012676239, 0.499983012676239, 0.591544508934021, 0.5874500274658203, 0.5857882499694824, 0.5857882499694824, 0.5828831195831299, 0.5132099390029907, 0.49645084142684937, 0.47846394777297974, 0.47697991132736206, 0.4643435478210449, 0.43842417001724243, 0.43842417001724243, 0.4241483807563782, 0.4241483807563782, 0.4234655499458313, 0.42188650369644165, 0.41041553020477295, 0.41041553020477295, 0.3872826397418976, 0.3872826397418976, 0.3872826397418976, 0.37114694714546204, 0.37010347843170166, 0.3673814535140991, 0.3632316291332245, 0.35910725593566895, 0.3513965308666229, 0.3466009497642517, 0.3466009497642517, 0.34330636262893677, 0.34063005447387695, 0.32104605436325073, 0.31820935010910034, 0.31820935010910034, 0.31185245513916016, 0.30527669191360474, 0.30011916160583496, 0.29869866371154785, 0.2985692024230957, 0.29650408029556274, 0.29444050788879395, 0.77735435962677, 0.7284554243087769, 0.6840282678604126, 0.6805123686790466, 0.676715612411499, 0.6709033846855164, 0.6709033846855164, 0.6488300561904907, 0.6481342911720276, 0.6344488859176636, 0.6276847720146179, 0.6276847720146179, 0.6190193891525269, 0.6022753715515137, 0.6022753715515137, 0.5918549299240112, 0.5893839001655579, 0.5877459645271301, 0.5795379281044006, 0.5795379281044006, 0.5712252855300903, 0.5647619962692261, 0.5576539039611816, 0.55304354429245, 0.55304354429245, 0.5528308153152466, 0.5511486530303955, 0.5511486530303955, 0.5424331426620483, 0.5347323417663574, 0.5347323417663574, 0.5242185592651367, 0.520116925239563, 0.5095785856246948, 0.5081819295883179, 0.49786925315856934, 0.4975663423538208, 0.4975663423538208, 0.4973641037940979, 0.49098068475723267, 0.487856924533844, 0.591544508934021, 0.5874500274658203, 0.5857882499694824, 0.5857882499694824, 0.5828831195831299, 0.5132099390029907, 0.49645084142684937, 0.47846394777297974, 0.47697991132736206, 0.4643435478210449, 0.43842417001724243, 0.43842417001724243, 0.4241483807563782, 0.4241483807563782, 0.4234655499458313, 0.42188650369644165, 0.41041553020477295, 0.41041553020477295, 0.3872826397418976, 0.3872826397418976, 0.3872826397418976, 0.37114694714546204, 0.37010347843170166, 0.3673814535140991, 0.3632316291332245, 0.35910725593566895, 0.3513965308666229, 0.3466009497642517, 0.3466009497642517, 0.34330636262893677, 0.34063005447387695, 0.32104605436325073, 0.31820935010910034, 0.31820935010910034, 0.31185245513916016, 0.30527669191360474, 0.30011916160583496, 0.29869866371154785, 0.2985692024230957, 0.29650408029556274, 0.29444050788879395, 0.6316536664962769, 0.614184558391571, 0.6109461784362793, 0.5993802547454834, 0.5766282081604004, 0.5698806047439575, 0.5698806047439575, 0.5642502307891846, 0.5622298717498779, 0.5549427270889282, 0.5468406081199646, 0.5384178161621094, 0.5382140278816223, 0.5303926467895508, 0.5257753729820251, 0.5254276990890503, 0.5122050642967224, 0.5045578479766846, 0.5045578479766846, 0.5015684366226196, 0.49822214245796204, 0.49822214245796204, 0.49570417404174805, 0.49525186419487, 0.48883986473083496, 0.48388636112213135, 0.4711800217628479, 0.46867960691452026, 0.4684232473373413, 0.4615250527858734, 0.4615250527858734, 0.45568203926086426, 0.45253103971481323, 0.4502633512020111, 0.4460550546646118, 0.44586181640625, 0.4445115923881531, 0.4432426989078522, 0.4403313994407654, 0.4402306079864502, 0.43752503395080566, 0.7045869827270508, 0.6806967258453369, 0.6775197386741638, 0.6775197386741638, 0.6775197386741638, 0.6576681733131409, 0.5927579402923584, 0.5766535997390747, 0.5766535997390747, 0.5751972794532776, 0.5701074600219727, 0.5701074600219727, 0.5701074600219727, 0.5621787309646606, 0.5598517656326294, 0.5382750630378723, 0.5379830598831177, 0.5359390377998352, 0.5314745903015137, 0.5314745903015137, 0.5314745903015137, 0.528272807598114, 0.5184640884399414, 0.49750158190727234, 0.4966525435447693, 0.49169644713401794, 0.4875295162200928, 0.4760016202926636, 0.4753183126449585, 0.47321102023124695, 0.46647608280181885, 0.46647608280181885, 0.4534410238265991, 0.4510515332221985, 0.44468700885772705, 0.44468700885772705, 0.44296497106552124, 0.44296497106552124, 0.43517816066741943, 0.4337083101272583, 0.43154263496398926, 0.6221495866775513, 0.5534012913703918, 0.5427747368812561, 0.5427747368812561, 0.5427747368812561, 0.529058039188385, 0.529058039188385, 0.5230808258056641, 0.5073776245117188, 0.5073776245117188, 0.49196308851242065, 0.4732242226600647, 0.46559423208236694, 0.46522286534309387, 0.44482871890068054, 0.4444740414619446, 0.4306412935256958, 0.4306412935256958, 0.42197030782699585, 0.42021650075912476, 0.4155995845794678, 0.4125611186027527, 0.41104045510292053, 0.4073721468448639, 0.4073721468448639, 0.40594565868377686, 0.4046594202518463, 0.40339523553848267, 0.398811936378479, 0.38976192474365234, 0.3886337876319885, 0.3858317732810974, 0.3740144968032837, 0.3740144968032837, 0.3725492060184479, 0.3720705211162567, 0.37123820185661316, 0.37115511298179626, 0.37115511298179626, 0.37115511298179626, 0.37115511298179626, 0.7054861187934875, 0.7054861187934875, 0.6789385676383972, 0.6703811883926392, 0.6674311757087708, 0.6464871764183044, 0.6382603049278259, 0.5684154033660889, 0.5167617797851562, 0.5083737969398499, 0.5083737969398499, 0.5083737969398499, 0.48760080337524414, 0.4811718463897705, 0.48065266013145447, 0.4717082977294922, 0.4652206301689148, 0.46329739689826965, 0.45395880937576294, 0.4493895173072815, 0.44860801100730896, 0.4390232264995575, 0.4350751042366028, 0.4342209994792938, 0.42558348178863525, 0.4224291443824768, 0.41878971457481384, 0.4185387194156647, 0.41719022393226624, 0.41719022393226624, 0.4166069030761719, 0.4160695970058441, 0.41090089082717896, 0.41090089082717896, 0.41015273332595825, 0.41012972593307495, 0.4079841375350952, 0.4070013463497162, 0.4070013463497162, 0.4069325923919678, 0.4069325923919678, 0.42582809925079346, 0.42513927817344666, 0.4204992651939392, 0.4204992651939392, 0.4169917404651642, 0.4169917404651642, 0.3641631603240967, 0.35110777616500854, 0.35110777616500854, 0.34224098920822144, 0.31292349100112915, 0.3085419535636902, 0.3085419535636902, 0.29019683599472046, 0.27214503288269043, 0.270442932844162, 0.270442932844162, 0.26190322637557983, 0.25754570960998535, 0.25543761253356934, 0.2553793787956238, 0.25111785531044006, 0.2415655553340912, 0.2413168102502823, 0.235382080078125, 0.23112469911575317, 0.22969286143779755, 0.22161594033241272, 0.22161594033241272, 0.22161594033241272, 0.22161594033241272, 0.22161594033241272, 0.22161594033241272, 0.22161594033241272, 0.22161594033241272, 0.22161594033241272, 0.22161594033241272, 0.22161594033241272, 0.22161594033241272, 0.22161594033241272, 0.22161594033241272, 0.8075175881385803, 0.656549334526062, 0.6431319713592529, 0.5789144039154053, 0.5607175827026367, 0.548538327217102, 0.548538327217102, 0.5439627766609192, 0.5439627766609192, 0.5087826251983643, 0.4719468355178833, 0.4719468355178833, 0.4635864198207855, 0.4635864198207855, 0.45396560430526733, 0.4526042640209198, 0.4507969617843628, 0.4507969617843628, 0.45032554864883423, 0.45032554864883423, 0.45032554864883423, 0.4492965340614319, 0.4382894039154053, 0.4367501139640808, 0.429243266582489, 0.4195516109466553, 0.4195516109466553, 0.41212525963783264, 0.4114723801612854, 0.4045022428035736, 0.4011663794517517, 0.39821726083755493, 0.3967587351799011, 0.39662784337997437, 0.3963593542575836, 0.3956328332424164, 0.3956328332424164, 0.3956328332424164, 0.3956328332424164, 0.3956328332424164, 0.3916957974433899, 0.3865256607532501, 0.3865256607532501, 0.3145875930786133, 0.310053288936615, 0.30286604166030884, 0.29792720079421997, 0.2765701115131378, 0.2765701115131378, 0.2758404016494751, 0.2757098078727722, 0.2711624801158905, 0.2711624801158905, 0.26706546545028687, 0.2655048370361328, 0.2649112045764923, 0.26423513889312744, 0.2613886594772339, 0.2613886594772339, 0.2613886594772339, 0.2612263560295105, 0.25396040081977844, 0.24813354015350342, 0.24626092612743378, 0.24626092612743378, 0.23874865472316742, 0.23724058270454407, 0.23724058270454407, 0.23695063591003418, 0.2334476113319397, 0.22918912768363953, 0.22854608297348022, 0.2273232638835907, 0.22594034671783447, 0.22507520020008087, 0.21896225214004517, 0.21524427831172943, 0.21524427831172943, 0.2113460898399353, 0.20983386039733887, 0.20983386039733887, 0.2088770568370819, 0.5738372206687927, 0.5660661458969116, 0.5004627704620361, 0.5004627704620361, 0.4906100928783417, 0.48584967851638794, 0.47075164318084717, 0.46867263317108154, 0.4635846018791199, 0.46160122752189636, 0.45898282527923584, 0.4563037157058716, 0.4509408473968506, 0.4482923746109009, 0.4478158950805664, 0.4400480389595032, 0.4251774549484253, 0.4251774549484253, 0.41881000995635986, 0.413089781999588, 0.4056887924671173, 0.4018493592739105, 0.4010302722454071, 0.3955288529396057, 0.38829970359802246, 0.38815948367118835, 0.3812551200389862, 0.3812551200389862, 0.37485361099243164, 0.37301257252693176, 0.3686513304710388, 0.35784855484962463, 0.3570541739463806, 0.3543365001678467, 0.35057324171066284, 0.35057324171066284, 0.35030558705329895, 0.34687453508377075, 0.34289243817329407, 0.34098827838897705, 0.3347806930541992, 0.3865256607532501, 0.3865256607532501, 0.3145875930786133, 0.310053288936615, 0.30286604166030884, 0.29792720079421997, 0.2765701115131378, 0.2765701115131378, 0.2758404016494751, 0.2757098078727722, 0.2711624801158905, 0.2711624801158905, 0.26706546545028687, 0.2655048370361328, 0.2649112045764923, 0.26423513889312744, 0.2613886594772339, 0.2613886594772339, 0.2613886594772339, 0.2612263560295105, 0.25396040081977844, 0.24813354015350342, 0.24626092612743378, 0.24626092612743378, 0.23874865472316742, 0.23724058270454407, 0.23724058270454407, 0.23695063591003418, 0.2334476113319397, 0.22918912768363953, 0.22854608297348022, 0.2273232638835907, 0.22594034671783447, 0.22507520020008087, 0.21896225214004517, 0.21524427831172943, 0.21524427831172943, 0.2113460898399353, 0.20983386039733887, 0.20983386039733887, 0.2088770568370819, 0.6327118873596191, 0.5309965014457703, 0.5282849669456482, 0.5129813551902771, 0.5119240880012512, 0.5062637329101562, 0.5017462968826294, 0.49386605620384216, 0.4934470057487488, 0.48085159063339233, 0.47998476028442383, 0.4602847695350647, 0.4599512219429016, 0.45100316405296326, 0.4424373507499695, 0.4424373507499695, 0.4357420802116394, 0.4357420802116394, 0.42024725675582886, 0.4200308322906494, 0.41853582859039307, 0.41169536113739014, 0.40950891375541687, 0.40511277318000793, 0.4025033116340637, 0.3921275734901428, 0.38808944821357727, 0.38734716176986694, 0.38734716176986694, 0.3777365982532501, 0.37636882066726685, 0.37265169620513916, 0.37265169620513916, 0.36983925104141235, 0.36947351694107056, 0.36899077892303467, 0.36847350001335144, 0.36573198437690735, 0.3592992424964905, 0.35868048667907715, 0.35658004879951477, 0.23068475723266602, 0.2111702859401703, 0.20537340641021729, 0.1867663413286209, 0.1855423003435135, 0.18466506898403168, 0.16831175982952118, 0.16303513944149017, 0.16226033866405487, 0.16205377876758575, 0.16205377876758575, 0.15966878831386566, 0.15683923661708832, 0.15667083859443665, 0.15638886392116547, 0.15554200112819672, 0.14813366532325745, 0.1391323357820511, 0.1355564147233963, 0.1355564147233963, 0.1350468546152115, 0.1350468546152115, 0.13325785100460052, 0.1305457204580307, 0.13003113865852356, 0.12786145508289337, 0.12786145508289337, 0.12786145508289337, 0.12753547728061676, 0.12282153218984604, 0.12191485613584518, 0.12191485613584518, 0.11981857568025589, 0.11781497299671173, 0.11781497299671173, 0.11712244153022766, 0.11712244153022766, 0.11683674901723862, 0.116264708340168, 0.116264708340168, 0.116264708340168, 0.7628412246704102, 0.520410418510437, 0.5200641751289368, 0.5056267976760864, 0.5056267976760864, 0.4922334551811218, 0.48271462321281433, 0.46662211418151855, 0.46662211418151855, 0.46269580721855164, 0.46026551723480225, 0.4445992708206177, 0.43448400497436523, 0.415147602558136, 0.4106126129627228, 0.39961332082748413, 0.39961332082748413, 0.39549192786216736, 0.3944075107574463, 0.38857951760292053, 0.38242942094802856, 0.38174474239349365, 0.38174474239349365, 0.38129428029060364, 0.3766494691371918, 0.37555187940597534, 0.369231641292572, 0.36787813901901245, 0.3666988015174866, 0.3666988015174866, 0.3623305559158325, 0.3548881709575653, 0.35457539558410645, 0.3528437316417694, 0.35264065861701965, 0.3519808053970337, 0.3509726822376251, 0.3506544530391693, 0.3493051826953888, 0.3474220037460327, 0.34479373693466187, 0.23068475723266602, 0.2111702859401703, 0.20537340641021729, 0.1867663413286209, 0.1855423003435135, 0.18466506898403168, 0.16831175982952118, 0.16303513944149017, 0.16226033866405487, 0.16205377876758575, 0.16205377876758575, 0.15966878831386566, 0.15683923661708832, 0.15667083859443665, 0.15638886392116547, 0.15554200112819672, 0.14813366532325745, 0.1391323357820511, 0.1355564147233963, 0.1355564147233963, 0.1350468546152115, 0.1350468546152115, 0.13325785100460052, 0.1305457204580307, 0.13003113865852356, 0.12786145508289337, 0.12786145508289337, 0.12786145508289337, 0.12753547728061676, 0.12282153218984604, 0.12191485613584518, 0.12191485613584518, 0.11981857568025589, 0.11781497299671173, 0.11781497299671173, 0.11712244153022766, 0.11712244153022766, 0.11683674901723862, 0.116264708340168, 0.116264708340168, 0.116264708340168, 0.7331064939498901, 0.6913199424743652, 0.6883950233459473, 0.6205007433891296, 0.6028351783752441, 0.6028351783752441, 0.5993802547454834, 0.58237624168396, 0.5701143741607666, 0.5640014410018921, 0.5640014410018921, 0.5554933547973633, 0.5551357865333557, 0.5509408712387085, 0.5478091239929199, 0.547545313835144, 0.537802517414093, 0.5293163061141968, 0.5200098156929016, 0.5193520784378052, 0.5164717435836792, 0.5164717435836792, 0.5164089202880859, 0.5158222913742065, 0.514644980430603, 0.5048619508743286, 0.5034412741661072, 0.501788318157196, 0.4996662437915802, 0.4989497661590576, 0.49098068475723267, 0.48592063784599304, 0.47816890478134155, 0.47768139839172363, 0.47768139839172363, 0.4764362573623657, 0.4756477475166321, 0.4729386866092682, 0.46164655685424805, 0.4548000693321228, 0.45451754331588745, 0.5531105399131775, 0.5161146521568298, 0.4848964214324951, 0.47402942180633545, 0.46888449788093567, 0.4636075794696808, 0.4636075794696808, 0.4636075794696808, 0.4515797197818756, 0.4282769560813904, 0.4281589984893799, 0.4281589984893799, 0.4203600287437439, 0.4203600287437439, 0.4096173048019409, 0.4046376943588257, 0.4028691053390503, 0.3996903896331787, 0.3955041170120239, 0.39244452118873596, 0.39161813259124756, 0.39035096764564514, 0.39012181758880615, 0.38653364777565, 0.38653364777565, 0.37235069274902344, 0.37235069274902344, 0.37215501070022583, 0.37215501070022583, 0.3718031048774719, 0.3707711100578308, 0.36872297525405884, 0.36826762557029724, 0.3659830093383789, 0.3659830093383789, 0.36489373445510864, 0.35689544677734375, 0.35478806495666504, 0.35478806495666504, 0.3529759645462036, 0.3529759645462036, 0.5546496510505676, 0.5150871276855469, 0.4732317328453064, 0.46790581941604614, 0.46790581941604614, 0.46790581941604614, 0.4296547472476959, 0.42946743965148926, 0.42946743965148926, 0.4284226894378662, 0.420474112033844, 0.420474112033844, 0.4142923355102539, 0.413896381855011, 0.4080508053302765, 0.4043537378311157, 0.399176687002182, 0.39543819427490234, 0.3939761519432068, 0.3939761519432068, 0.3930613100528717, 0.39266979694366455, 0.3921901285648346, 0.39155951142311096, 0.3895511329174042, 0.3877148926258087, 0.3877148926258087, 0.38757216930389404, 0.3747115731239319, 0.3742086887359619, 0.36965999007225037, 0.36965999007225037, 0.3692362308502197, 0.3684762716293335, 0.3684762716293335, 0.36686521768569946, 0.3637896776199341, 0.36021333932876587, 0.3537766933441162, 0.3507366180419922, 0.3417717218399048, 0.6987162232398987, 0.6987162232398987, 0.6987162232398987, 0.6987162232398987, 0.6987162232398987, 0.6987162232398987, 0.6987162232398987, 0.6987162232398987, 0.6987162232398987, 0.6939975619316101, 0.6505512595176697, 0.6352719068527222, 0.6352719068527222, 0.629734218120575, 0.6028702855110168, 0.5988137125968933, 0.5910173058509827, 0.5868728756904602, 0.5865872502326965, 0.5840738415718079, 0.5840738415718079, 0.5301663875579834, 0.526759684085846, 0.5024725198745728, 0.49608370661735535, 0.48206639289855957, 0.47987884283065796, 0.47987884283065796, 0.47987884283065796, 0.47987884283065796, 0.47987884283065796, 0.479359894990921, 0.478322297334671, 0.47158873081207275, 0.46306949853897095, 0.4503539204597473, 0.4275556206703186, 0.42603766918182373, 0.41014423966407776, 0.409969687461853, 0.4010368287563324, 0.6045985221862793, 0.5641587972640991, 0.5305941700935364, 0.5305941700935364, 0.512532114982605, 0.5067639350891113, 0.5067639350891113, 0.5067639350891113, 0.4789556562900543, 0.4716132581233978, 0.469427227973938, 0.4681444764137268, 0.46801549196243286, 0.46801549196243286, 0.4517954885959625, 0.44774776697158813, 0.4469130337238312, 0.4423046410083771, 0.44037145376205444, 0.43232083320617676, 0.42897647619247437, 0.4284382462501526, 0.42807310819625854, 0.4264375567436218, 0.422515332698822, 0.422515332698822, 0.40701213479042053, 0.40701213479042053, 0.40679821372032166, 0.40679821372032166, 0.40641355514526367, 0.405285507440567, 0.40467941761016846, 0.40304672718048096, 0.40254896879196167, 0.3988610506057739, 0.38583385944366455, 0.38583385944366455, 0.3843904137611389, 0.3798641860485077, 0.37226027250289917, 0.6701022386550903, 0.6199029684066772, 0.6119393110275269, 0.5926342010498047, 0.5543870329856873, 0.512214720249176, 0.512214720249176, 0.4897848963737488, 0.4861808717250824, 0.4609368145465851, 0.45936673879623413, 0.45936673879623413, 0.4571383595466614, 0.4506727457046509, 0.4471786320209503, 0.44395923614501953, 0.4333222508430481, 0.43222475051879883, 0.4316510558128357, 0.42664361000061035, 0.4234779179096222, 0.41959232091903687, 0.4174650311470032, 0.4121142029762268, 0.4121142029762268, 0.41166800260543823, 0.41166800260543823, 0.4105982780456543, 0.39937376976013184, 0.39745986461639404, 0.39698272943496704, 0.3935915231704712, 0.3872354328632355, 0.3862285912036896, 0.3850248456001282, 0.38087737560272217, 0.3766515851020813, 0.3639272153377533, 0.36239928007125854, 0.3581576347351074, 0.35503941774368286, 0.7485971450805664, 0.6558349132537842, 0.6438555717468262, 0.5708236694335938, 0.5536118745803833, 0.5391280651092529, 0.5235809087753296, 0.4981139302253723, 0.49161767959594727, 0.4891167879104614, 0.4891167879104614, 0.47856348752975464, 0.47546714544296265, 0.45742306113243103, 0.4489724040031433, 0.43922603130340576, 0.4209213852882385, 0.4177529811859131, 0.41284823417663574, 0.4002166986465454, 0.4002166986465454, 0.4002166986465454, 0.397774338722229, 0.39694449305534363, 0.388706773519516, 0.388651967048645, 0.3838176131248474, 0.3829922080039978, 0.37970882654190063, 0.37970882654190063, 0.37970882654190063, 0.37970882654190063, 0.37970882654190063, 0.37970882654190063, 0.37970882654190063, 0.37970882654190063, 0.37970882654190063, 0.37970882654190063, 0.37970882654190063, 0.37970882654190063, 0.37970882654190063, 0.6701022386550903, 0.6199029684066772, 0.6119393110275269, 0.5926342010498047, 0.5543870329856873, 0.512214720249176, 0.512214720249176, 0.4897848963737488, 0.4861808717250824, 0.4609368145465851, 0.45936673879623413, 0.45936673879623413, 0.4571383595466614, 0.4506727457046509, 0.4471786320209503, 0.44395923614501953, 0.4333222508430481, 0.43222475051879883, 0.4316510558128357, 0.42664361000061035, 0.4234779179096222, 0.41959232091903687, 0.4174650311470032, 0.4121142029762268, 0.4121142029762268, 0.41166800260543823, 0.41166800260543823, 0.4105982780456543, 0.39937376976013184, 0.39745986461639404, 0.39698272943496704, 0.3935915231704712, 0.3872354328632355, 0.3862285912036896, 0.3850248456001282, 0.38087737560272217, 0.3766515851020813, 0.3639272153377533, 0.36239928007125854, 0.3581576347351074, 0.35503941774368286, 0.533626914024353, 0.4337931275367737, 0.4104766547679901, 0.40305352210998535, 0.3873688280582428, 0.3750094771385193, 0.3727608919143677, 0.3701244592666626, 0.36106714606285095, 0.3553449511528015, 0.35509243607521057, 0.3511146008968353, 0.33453741669654846, 0.3343183994293213, 0.329828679561615, 0.32749906182289124, 0.31441056728363037, 0.3111652433872223, 0.3057035207748413, 0.30235162377357483, 0.2985537648200989, 0.2985537648200989, 0.29817327857017517, 0.29669874906539917, 0.29469504952430725, 0.29466307163238525, 0.29216474294662476, 0.2901611924171448, 0.29001033306121826, 0.2896776795387268, 0.2890166640281677, 0.28641068935394287, 0.28522318601608276, 0.28515106439590454, 0.285035103559494, 0.284445196390152, 0.27923616766929626, 0.27804502844810486, 0.27699100971221924, 0.27699100971221924, 0.2715446949005127, 0.8782285451889038, 0.8731018900871277, 0.8731018900871277, 0.8731018900871277, 0.8731018900871277, 0.8731018900871277, 0.8731018900871277, 0.8731018900871277, 0.8731018900871277, 0.8731018900871277, 0.8731018900871277, 0.8731018900871277, 0.8731018900871277, 0.8731018900871277, 0.8678242564201355, 0.8416699171066284, 0.8416699171066284, 0.8416699171066284, 0.8218070864677429, 0.8218070864677429, 0.8151561617851257, 0.7962371110916138, 0.7962371110916138, 0.7804208993911743, 0.7517480850219727, 0.7024125456809998, 0.6631750464439392, 0.6285176277160645, 0.6157422065734863, 0.5951185822486877, 0.5869295597076416, 0.571205735206604, 0.5584867000579834, 0.5390203595161438, 0.5233651995658875, 0.5081945061683655, 0.4938395619392395, 0.49147650599479675, 0.49049806594848633, 0.49049806594848633, 0.48405417799949646, 0.6191173791885376, 0.6191173791885376, 0.5065378546714783, 0.44284629821777344, 0.4323993921279907, 0.42287173867225647, 0.39666256308555603, 0.39666256308555603, 0.3901863098144531, 0.3873535990715027, 0.36675170063972473, 0.3489909768104553, 0.3392508924007416, 0.3370930850505829, 0.3370930850505829, 0.33501625061035156, 0.3261197805404663, 0.32497256994247437, 0.3234435021877289, 0.3230739235877991, 0.3230739235877991, 0.3197270333766937, 0.31743955612182617, 0.3116840124130249, 0.30966055393218994, 0.3040599822998047, 0.29731008410453796, 0.29731008410453796, 0.29521670937538147, 0.28977182507514954, 0.2889544665813446, 0.28886252641677856, 0.2857282757759094, 0.278964102268219, 0.2708890438079834, 0.27041956782341003, 0.26541629433631897, 0.25518983602523804, 0.25518983602523804, 0.25518983602523804, 0.24650432169437408, 0.6721142530441284, 0.6721142530441284, 0.6721142530441284, 0.639346718788147, 0.6172552704811096, 0.5968360900878906, 0.5968360900878906, 0.5968360900878906, 0.5860380530357361, 0.5771400332450867, 0.5737062692642212, 0.5537944436073303, 0.5491597056388855, 0.5458038449287415, 0.5449098944664001, 0.5269530415534973, 0.5263137817382812, 0.5179752111434937, 0.47989505529403687, 0.47989505529403687, 0.46738746762275696, 0.4658445119857788, 0.46427005529403687, 0.461439311504364, 0.4522058665752411, 0.4522058665752411, 0.4482588768005371, 0.44412198662757874, 0.4434077739715576, 0.43087801337242126, 0.43087801337242126, 0.43087801337242126, 0.43087801337242126, 0.4285396337509155, 0.42644381523132324, 0.42580646276474, 0.42329370975494385, 0.4191790819168091, 0.41246849298477173, 0.41207629442214966, 0.40834373235702515, 0.7184092402458191, 0.7184092402458191, 0.7184092402458191, 0.6872705221176147, 0.6379458904266357, 0.6379458904266357, 0.6379458904266357, 0.5919396281242371, 0.5859764814376831, 0.5625661015510559, 0.543641984462738, 0.543641984462738, 0.5404266715049744, 0.5199037790298462, 0.5105289220809937, 0.5056408643722534, 0.5026464462280273, 0.5025739073753357, 0.499580979347229, 0.4981437623500824, 0.4981437623500824, 0.4981437623500824, 0.49322307109832764, 0.48519402742385864, 0.4810490906238556, 0.47935014963150024, 0.47892099618911743, 0.4739495515823364, 0.4681375026702881, 0.46647608280181885, 0.45513585209846497, 0.44805198907852173, 0.43770503997802734, 0.43647027015686035, 0.4348718523979187, 0.4348718523979187, 0.43312057852745056, 0.43312057852745056, 0.426583468914032, 0.4264579713344574, 0.421317994594574, 1.0, 0.8746293783187866, 0.8746293783187866, 0.8746293783187866, 0.49104660749435425, 0.41483184695243835, 0.4114700257778168, 0.40528398752212524, 0.40528398752212524, 0.4008166790008545, 0.3958786725997925, 0.3762480318546295, 0.3734340965747833, 0.35422709584236145, 0.3508772552013397, 0.3428955376148224, 0.30278635025024414, 0.294705867767334, 0.294705867767334, 0.294705867767334, 0.294705867767334, 0.294705867767334, 0.294705867767334, 0.294705867767334, 0.294705867767334, 0.294705867767334, 0.294705867767334, 0.294705867767334, 0.294705867767334, 0.294705867767334, 0.294705867767334, 0.294705867767334, 0.294705867767334, 0.294705867767334, 0.294705867767334, 0.29411548376083374, 0.2909182608127594, 0.28401029109954834, 0.27296149730682373, 0.27278557419776917, 0.2724965214729309, 0.6721142530441284, 0.6721142530441284, 0.6721142530441284, 0.639346718788147, 0.6172552704811096, 0.5968360900878906, 0.5968360900878906, 0.5968360900878906, 0.5860380530357361, 0.5771400332450867, 0.5737062692642212, 0.5537944436073303, 0.5491597056388855, 0.5458038449287415, 0.5449098944664001, 0.5269530415534973, 0.5263137817382812, 0.5179752111434937, 0.47989505529403687, 0.47989505529403687, 0.46738746762275696, 0.4658445119857788, 0.46427005529403687, 0.461439311504364, 0.4522058665752411, 0.4522058665752411, 0.4482588768005371, 0.44412198662757874, 0.4434077739715576, 0.43087801337242126, 0.43087801337242126, 0.43087801337242126, 0.43087801337242126, 0.4285396337509155, 0.42644381523132324, 0.42580646276474, 0.42329370975494385, 0.4191790819168091, 0.41246849298477173, 0.41207629442214966, 0.40834373235702515, 0.6721142530441284, 0.6721142530441284, 0.6721142530441284, 0.639346718788147, 0.6172552704811096, 0.5968360900878906, 0.5968360900878906, 0.5968360900878906, 0.5860380530357361, 0.5771400332450867, 0.5737062692642212, 0.5537944436073303, 0.5491597056388855, 0.5458038449287415, 0.5449098944664001, 0.5269530415534973, 0.5263137817382812, 0.5179752111434937, 0.47989505529403687, 0.47989505529403687, 0.46738746762275696, 0.4658445119857788, 0.46427005529403687, 0.461439311504364, 0.4522058665752411, 0.4522058665752411, 0.4482588768005371, 0.44412198662757874, 0.4434077739715576, 0.43087801337242126, 0.43087801337242126, 0.43087801337242126, 0.43087801337242126, 0.4285396337509155, 0.42644381523132324, 0.42580646276474, 0.42329370975494385, 0.4191790819168091, 0.41246849298477173, 0.41207629442214966, 0.40834373235702515, 0.7184092402458191, 0.7184092402458191, 0.7184092402458191, 0.6872705221176147, 0.6379458904266357, 0.6379458904266357, 0.6379458904266357, 0.5919396281242371, 0.5859764814376831, 0.5625661015510559, 0.543641984462738, 0.543641984462738, 0.5404266715049744, 0.5199037790298462, 0.5105289220809937, 0.5056408643722534, 0.5026464462280273, 0.5025739073753357, 0.499580979347229, 0.4981437623500824, 0.4981437623500824, 0.4981437623500824, 0.49322307109832764, 0.48519402742385864, 0.4810490906238556, 0.47935014963150024, 0.47892099618911743, 0.4739495515823364, 0.4681375026702881, 0.46647608280181885, 0.45513585209846497, 0.44805198907852173, 0.43770503997802734, 0.43647027015686035, 0.4348718523979187, 0.4348718523979187, 0.43312057852745056, 0.43312057852745056, 0.426583468914032, 0.4264579713344574, 0.421317994594574, 1.0, 0.8746293783187866, 0.8746293783187866, 0.8746293783187866, 0.49104660749435425, 0.41483184695243835, 0.4114700257778168, 0.40528398752212524, 0.40528398752212524, 0.4008166790008545, 0.3958786725997925, 0.3762480318546295, 0.3734340965747833, 0.35422709584236145, 0.3508772552013397, 0.3428955376148224, 0.30278635025024414, 0.294705867767334, 0.294705867767334, 0.294705867767334, 0.294705867767334, 0.294705867767334, 0.294705867767334, 0.294705867767334, 0.294705867767334, 0.294705867767334, 0.294705867767334, 0.294705867767334, 0.294705867767334, 0.294705867767334, 0.294705867767334, 0.294705867767334, 0.294705867767334, 0.294705867767334, 0.294705867767334, 0.29411548376083374, 0.2909182608127594, 0.28401029109954834, 0.27296149730682373, 0.27278557419776917, 0.2724965214729309, 0.6721142530441284, 0.6721142530441284, 0.6721142530441284, 0.639346718788147, 0.6172552704811096, 0.5968360900878906, 0.5968360900878906, 0.5968360900878906, 0.5860380530357361, 0.5771400332450867, 0.5737062692642212, 0.5537944436073303, 0.5491597056388855, 0.5458038449287415, 0.5449098944664001, 0.5269530415534973, 0.5263137817382812, 0.5179752111434937, 0.47989505529403687, 0.47989505529403687, 0.46738746762275696, 0.4658445119857788, 0.46427005529403687, 0.461439311504364, 0.4522058665752411, 0.4522058665752411, 0.4482588768005371, 0.44412198662757874, 0.4434077739715576, 0.43087801337242126, 0.43087801337242126, 0.43087801337242126, 0.43087801337242126, 0.4285396337509155, 0.42644381523132324, 0.42580646276474, 0.42329370975494385, 0.4191790819168091, 0.41246849298477173, 0.41207629442214966, 0.40834373235702515, 0.6276638507843018, 0.6276638507843018, 0.521017849445343, 0.5095444917678833, 0.5008888840675354, 0.47947239875793457, 0.47498539090156555, 0.47009971737861633, 0.47009971737861633, 0.46416300535202026, 0.45947253704071045, 0.4589915871620178, 0.4408567249774933, 0.438620924949646, 0.438620924949646, 0.4368109703063965, 0.43079185485839844, 0.4302894175052643, 0.4302894175052643, 0.4217956066131592, 0.41968241333961487, 0.4177033603191376, 0.4122537076473236, 0.4122537076473236, 0.40321415662765503, 0.3967389762401581, 0.3935908079147339, 0.3935908079147339, 0.39278942346572876, 0.38928478956222534, 0.3889077305793762, 0.3889077305793762, 0.38860785961151123, 0.3845091760158539, 0.3803328275680542, 0.38023310899734497, 0.3754308223724365, 0.3746858835220337, 0.3741908073425293, 0.37285804748535156, 0.3723782002925873, 0.586506724357605, 0.54319828748703, 0.54319828748703, 0.5397392511367798, 0.5346882343292236, 0.522505521774292, 0.5172255635261536, 0.5166841149330139, 0.49171555042266846, 0.4843742847442627, 0.4843742847442627, 0.47243404388427734, 0.47020623087882996, 0.4640715718269348, 0.4640715718269348, 0.45389580726623535, 0.4496155083179474, 0.4496155083179474, 0.44660672545433044, 0.44306284189224243, 0.44306284189224243, 0.4421607255935669, 0.4377911388874054, 0.4377911388874054, 0.43745356798171997, 0.43503040075302124, 0.4328397512435913, 0.4280261993408203, 0.42470860481262207, 0.4226202964782715, 0.4217816889286041, 0.4197241961956024, 0.4191839396953583, 0.4191839396953583, 0.4177083373069763, 0.4177083373069763, 0.4148702621459961, 0.41452139616012573, 0.41452139616012573, 0.4130253195762634, 0.4112693667411804, 1.0, 1.0, 1.0, 1.0, 1.0, 1.0, 1.0, 1.0, 1.0, 1.0, 1.0, 1.0, 1.0, 1.0, 1.0, 1.0, 1.0, 1.0, 1.0, 1.0, 1.0, 1.0, 0.9090837240219116, 0.901995062828064, 0.8529031276702881, 0.8418872356414795, 0.7675107717514038, 0.7582875490188599, 0.7489088177680969, 0.6747675538063049, 0.6747675538063049, 0.6595648527145386, 0.6554123759269714, 0.6554123759269714, 0.6482234001159668, 0.6482234001159668, 0.6457515954971313, 0.6353369355201721, 0.6241795420646667, 0.6223191022872925, 0.6057043075561523, 0.6303443312644958, 0.6303443312644958, 0.5249273777008057, 0.5091143250465393, 0.5078004002571106, 0.4907354414463043, 0.4907354414463043, 0.47959089279174805, 0.47959089279174805, 0.47155874967575073, 0.4695843756198883, 0.4691838026046753, 0.46380048990249634, 0.4533253312110901, 0.44757357239723206, 0.4464930295944214, 0.4390484094619751, 0.43885231018066406, 0.43885231018066406, 0.43770843744277954, 0.4339613914489746, 0.4324284791946411, 0.4324284791946411, 0.43191489577293396, 0.43146854639053345, 0.4239341616630554, 0.4181959927082062, 0.4181959927082062, 0.4138268530368805, 0.4138268530368805, 0.41216251254081726, 0.40374863147735596, 0.40197718143463135, 0.40183427929878235, 0.40153661370277405, 0.40153661370277405, 0.4009146988391876, 0.39831987023353577, 0.39803436398506165, 0.397264301776886, 0.3967958688735962, 0.6276638507843018, 0.6276638507843018, 0.521017849445343, 0.5095444917678833, 0.5008888840675354, 0.47947239875793457, 0.47498539090156555, 0.47009971737861633, 0.47009971737861633, 0.46416300535202026, 0.45947253704071045, 0.4589915871620178, 0.4408567249774933, 0.438620924949646, 0.438620924949646, 0.4368109703063965, 0.43079185485839844, 0.4302894175052643, 0.4302894175052643, 0.4217956066131592, 0.41968241333961487, 0.4177033603191376, 0.4122537076473236, 0.4122537076473236, 0.40321415662765503, 0.3967389762401581, 0.3935908079147339, 0.3935908079147339, 0.39278942346572876, 0.38928478956222534, 0.3889077305793762, 0.3889077305793762, 0.38860785961151123, 0.3845091760158539, 0.3803328275680542, 0.38023310899734497, 0.3754308223724365, 0.3746858835220337, 0.3741908073425293, 0.37285804748535156, 0.3723782002925873, 0.586506724357605, 0.54319828748703, 0.54319828748703, 0.5397392511367798, 0.5346882343292236, 0.522505521774292, 0.5172255635261536, 0.5166841149330139, 0.49171555042266846, 0.4843742847442627, 0.4843742847442627, 0.47243404388427734, 0.47020623087882996, 0.4640715718269348, 0.4640715718269348, 0.45389580726623535, 0.4496155083179474, 0.4496155083179474, 0.44660672545433044, 0.44306284189224243, 0.44306284189224243, 0.4421607255935669, 0.4377911388874054, 0.4377911388874054, 0.43745356798171997, 0.43503040075302124, 0.4328397512435913, 0.4280261993408203, 0.42470860481262207, 0.4226202964782715, 0.4217816889286041, 0.4197241961956024, 0.4191839396953583, 0.4191839396953583, 0.4177083373069763, 0.4177083373069763, 0.4148702621459961, 0.41452139616012573, 0.41452139616012573, 0.4130253195762634, 0.4112693667411804, 1.0, 1.0, 1.0, 1.0, 1.0, 1.0, 1.0, 1.0, 1.0, 1.0, 1.0, 1.0, 1.0, 1.0, 1.0, 1.0, 1.0, 1.0, 1.0, 1.0, 1.0, 1.0, 0.9090837240219116, 0.901995062828064, 0.8529031276702881, 0.8418872356414795, 0.7675107717514038, 0.7582875490188599, 0.7489088177680969, 0.6747675538063049, 0.6747675538063049, 0.6595648527145386, 0.6554123759269714, 0.6554123759269714, 0.6482234001159668, 0.6482234001159668, 0.6457515954971313, 0.6353369355201721, 0.6241795420646667, 0.6223191022872925, 0.6057043075561523, 0.6303443312644958, 0.6303443312644958, 0.5249273777008057, 0.5091143250465393, 0.5078004002571106, 0.4907354414463043, 0.4907354414463043, 0.47959089279174805, 0.47959089279174805, 0.47155874967575073, 0.4695843756198883, 0.4691838026046753, 0.46380048990249634, 0.4533253312110901, 0.44757357239723206, 0.4464930295944214, 0.4390484094619751, 0.43885231018066406, 0.43885231018066406, 0.43770843744277954, 0.4339613914489746, 0.4324284791946411, 0.4324284791946411, 0.43191489577293396, 0.43146854639053345, 0.4239341616630554, 0.4181959927082062, 0.4181959927082062, 0.4138268530368805, 0.4138268530368805, 0.41216251254081726, 0.40374863147735596, 0.40197718143463135, 0.40183427929878235, 0.40153661370277405, 0.40153661370277405, 0.4009146988391876, 0.39831987023353577, 0.39803436398506165, 0.397264301776886, 0.3967958688735962, 0.7373039722442627, 0.6856597065925598, 0.6807836294174194, 0.6258368492126465, 0.6197605729103088, 0.598602831363678, 0.5887892246246338, 0.5845457315444946, 0.5659850835800171, 0.5607737302780151, 0.5580263733863831, 0.5504699945449829, 0.5504699945449829, 0.5456669330596924, 0.5436362028121948, 0.5397306680679321, 0.5317232608795166, 0.5293872356414795, 0.5293872356414795, 0.5280226469039917, 0.5275102257728577, 0.514964759349823, 0.5089488625526428, 0.5023379921913147, 0.4999317526817322, 0.49345704913139343, 0.49042996764183044, 0.49038922786712646, 0.4858396649360657, 0.4820680618286133, 0.47825679183006287, 0.4765227735042572, 0.4714089035987854, 0.46896153688430786, 0.46896153688430786, 0.4684363603591919, 0.45813870429992676, 0.45711749792099, 0.45556560158729553, 0.4542267322540283, 0.4465130567550659, 0.7474594116210938, 0.7197397947311401, 0.6930645704269409, 0.6299105882644653, 0.6102207899093628, 0.6097231507301331, 0.5883916616439819, 0.5815281271934509, 0.5666901469230652, 0.5666901469230652, 0.5657026767730713, 0.5652294158935547, 0.5513436198234558, 0.5513323545455933, 0.5513323545455933, 0.5210232138633728, 0.5180423855781555, 0.511700451374054, 0.51118403673172, 0.5044233202934265, 0.5039737224578857, 0.4935282766819, 0.48380547761917114, 0.47953325510025024, 0.4666496515274048, 0.4605061411857605, 0.44953668117523193, 0.44241270422935486, 0.4423896074295044, 0.4400259554386139, 0.4361734986305237, 0.4356893301010132, 0.4314943552017212, 0.4280523657798767, 0.4156632423400879, 0.41450655460357666, 0.41450655460357666, 0.4109472930431366, 0.4106956720352173, 0.4018002450466156, 0.4011879563331604, 0.3794950246810913, 0.3191734254360199, 0.31433722376823425, 0.29217529296875, 0.2685092091560364, 0.2517429292201996, 0.23273047804832458, 0.21696873009204865, 0.212632417678833, 0.21137630939483643, 0.20105677843093872, 0.1989789605140686, 0.1989789605140686, 0.1989789605140686, 0.19829721748828888, 0.196197509765625, 0.196197509765625, 0.19549182057380676, 0.19321247935295105, 0.1900261640548706, 0.1900261640548706, 0.18747001886367798, 0.18715694546699524, 0.18607428669929504, 0.18607428669929504, 0.18459317088127136, 0.1835961639881134, 0.18347057700157166, 0.18347057700157166, 0.18347057700157166, 0.18135124444961548, 0.18135124444961548, 0.18013516068458557, 0.18013516068458557, 0.17839539051055908, 0.17429648339748383, 0.1725325882434845, 0.1725325882434845, 0.17251266539096832, 0.17023825645446777, 0.16933661699295044, 0.8207544088363647, 0.7393070459365845, 0.7163135409355164, 0.6875224113464355, 0.6275371313095093, 0.6002290844917297, 0.5992064476013184, 0.5903888940811157, 0.5724730491638184, 0.5633081197738647, 0.5633081197738647, 0.5622972249984741, 0.5618560910224915, 0.554783046245575, 0.5533491969108582, 0.5519654154777527, 0.5519654154777527, 0.5512810945510864, 0.5224487781524658, 0.5171746015548706, 0.513489842414856, 0.5116345882415771, 0.5103315114974976, 0.503702700138092, 0.4938367009162903, 0.49176234006881714, 0.49168699979782104, 0.48722392320632935, 0.48722392320632935, 0.4778173565864563, 0.4689389169216156, 0.4617761969566345, 0.4593833386898041, 0.4519163966178894, 0.4468647241592407, 0.4439193606376648, 0.44342803955078125, 0.4425243139266968, 0.437217116355896, 0.4330996572971344, 0.4265206456184387, 0.24454693496227264, 0.23147238790988922, 0.22678476572036743, 0.22650998830795288, 0.19127322733402252, 0.1868537813425064, 0.18637871742248535, 0.18010100722312927, 0.17537815868854523, 0.16534340381622314, 0.1627727895975113, 0.16171108186244965, 0.16105423867702484, 0.16009187698364258, 0.16006846725940704, 0.15826719999313354, 0.15710151195526123, 0.15499699115753174, 0.15209119021892548, 0.1475967913866043, 0.1475967913866043, 0.14703552424907684, 0.1467747539281845, 0.14636501669883728, 0.14518649876117706, 0.14518649876117706, 0.14306311309337616, 0.14306311309337616, 0.14141637086868286, 0.13987235724925995, 0.13525468111038208, 0.13249659538269043, 0.13108642399311066, 0.12376804649829865, 0.12340176850557327, 0.12340176850557327, 0.12340176850557327, 0.12249515950679779, 0.12184631079435349, 0.12065649032592773, 0.11728217452764511, 0.24454693496227264, 0.23147238790988922, 0.22678476572036743, 0.22650998830795288, 0.19127322733402252, 0.1868537813425064, 0.18637871742248535, 0.18010100722312927, 0.17537815868854523, 0.16534340381622314, 0.1627727895975113, 0.16171108186244965, 0.16105423867702484, 0.16009187698364258, 0.16006846725940704, 0.15826719999313354, 0.15710151195526123, 0.15499699115753174, 0.15209119021892548, 0.1475967913866043, 0.1475967913866043, 0.14703552424907684, 0.1467747539281845, 0.14636501669883728, 0.14518649876117706, 0.14518649876117706, 0.14306311309337616, 0.14306311309337616, 0.14141637086868286, 0.13987235724925995, 0.13525468111038208, 0.13249659538269043, 0.13108642399311066, 0.12376804649829865, 0.12340176850557327, 0.12340176850557327, 0.12340176850557327, 0.12249515950679779, 0.12184631079435349, 0.12065649032592773, 0.11728217452764511, 0.31762003898620605, 0.24962320923805237, 0.24537523090839386, 0.23056788742542267, 0.22249378263950348, 0.20612846314907074, 0.20276573300361633, 0.1900520622730255, 0.18798759579658508, 0.17236027121543884, 0.17033018171787262, 0.16429276764392853, 0.16366811096668243, 0.16102904081344604, 0.1562175303697586, 0.15403686463832855, 0.13656017184257507, 0.1243494525551796, 0.12144786864519119, 0.12122263759374619, 0.11726699769496918, 0.10531989485025406, 0.10167624056339264, 0.09989225119352341, 0.09987344592809677, 0.09677885472774506, 0.09665428847074509, 0.09282208234071732, 0.0915091410279274, 0.08707161992788315, 0.08264361321926117, 0.0802583247423172, 0.08006074279546738, 0.0783236175775528, 0.07318296283483505, 0.07299883663654327, 0.06922399252653122, 0.06922399252653122, 0.06922399252653122, 0.06735175848007202, 0.0656040608882904, 0.3396950364112854, 0.3396950364112854, 0.2936096489429474, 0.2911689579486847, 0.2838323414325714, 0.2796734869480133, 0.27365541458129883, 0.2594837546348572, 0.25133761763572693, 0.24679607152938843, 0.24548059701919556, 0.24178975820541382, 0.2363319993019104, 0.23504826426506042, 0.22560161352157593, 0.22086337208747864, 0.2187475711107254, 0.21369332075119019, 0.2131500244140625, 0.20385703444480896, 0.20284271240234375, 0.19757044315338135, 0.19083407521247864, 0.18669557571411133, 0.18648573756217957, 0.1855175793170929, 0.18306933343410492, 0.17966745793819427, 0.177946537733078, 0.17714406549930573, 0.17333947122097015, 0.17312416434288025, 0.17312416434288025, 0.17037366330623627, 0.1695575714111328, 0.16815559566020966, 0.1666865050792694, 0.16604097187519073, 0.16604097187519073, 0.16594919562339783, 0.16326069831848145, 0.7868018746376038, 0.713109016418457, 0.698116660118103, 0.6735726594924927, 0.6664396524429321, 0.6547545194625854, 0.6539260745048523, 0.6492435932159424, 0.6418807506561279, 0.6418049335479736, 0.6398528218269348, 0.6389573812484741, 0.6263911724090576, 0.6263911724090576, 0.6126073598861694, 0.6126073598861694, 0.6119308471679688, 0.6076847314834595, 0.6026778817176819, 0.6013141870498657, 0.6011102795600891, 0.5875648856163025, 0.5867022275924683, 0.5857112407684326, 0.5857112407684326, 0.5842808485031128, 0.5808231234550476, 0.57584547996521, 0.5745395421981812, 0.5745395421981812, 0.5742282867431641, 0.5742282867431641, 0.5742282867431641, 0.5742282867431641, 0.573592483997345, 0.573592483997345, 0.5707571506500244, 0.5707571506500244, 0.5706713795661926, 0.564202606678009, 0.562248706817627, 0.740318238735199, 0.6340237259864807, 0.6223899126052856, 0.6210812926292419, 0.6084107756614685, 0.6041998863220215, 0.6041998863220215, 0.587581992149353, 0.5561578273773193, 0.5553998351097107, 0.5520899295806885, 0.5481519103050232, 0.533620297908783, 0.5222197771072388, 0.5222197771072388, 0.5031579732894897, 0.5006734132766724, 0.4993070065975189, 0.495616614818573, 0.4922606945037842, 0.484039306640625, 0.47499918937683105, 0.47093313932418823, 0.4633578658103943, 0.45491138100624084, 0.4316359758377075, 0.4270611107349396, 0.4176301956176758, 0.4165835380554199, 0.3868856430053711, 0.3695092797279358, 0.3677457571029663, 0.3677457571029663, 0.35930579900741577, 0.3445708751678467, 0.34267497062683105, 0.34206175804138184, 0.3385388255119324, 0.33528557419776917, 0.32495155930519104, 0.3120356798171997, 0.7006838321685791, 0.684330403804779, 0.681943416595459, 0.6676981449127197, 0.6654465198516846, 0.6566851735115051, 0.6379777789115906, 0.6345598697662354, 0.564274787902832, 0.5370757579803467, 0.5370757579803467, 0.5175196528434753, 0.5095812082290649, 0.4980158507823944, 0.4934071898460388, 0.4876819849014282, 0.4851396381855011, 0.4851396381855011, 0.4851396381855011, 0.4847721457481384, 0.4847721457481384, 0.4847721457481384, 0.47772687673568726, 0.4717860817909241, 0.4694053530693054, 0.4694053530693054, 0.46940290927886963, 0.4688991904258728, 0.461745023727417, 0.45570820569992065, 0.45570820569992065, 0.44490793347358704, 0.4447396993637085, 0.43731552362442017, 0.43713095784187317, 0.43205350637435913, 0.42235663533210754, 0.41960737109184265, 0.41861435770988464, 0.41766828298568726, 0.40521809458732605, 1.0, 1.0, 1.0, 1.0, 1.0, 1.0, 1.0, 1.0, 1.0, 1.0, 1.0, 1.0, 1.0, 1.0, 1.0, 1.0, 1.0, 1.0, 1.0, 1.0, 1.0, 1.0, 1.0, 0.9090837240219116, 0.901995062828064, 0.8529031276702881, 0.8418872356414795, 0.7675107717514038, 0.7582875490188599, 0.7489088177680969, 0.6747675538063049, 0.6747675538063049, 0.6595648527145386, 0.6554123759269714, 0.6554123759269714, 0.6482234001159668, 0.6482234001159668, 0.6457515954971313, 0.6353369355201721, 0.6241795420646667, 0.6223191022872925, 0.740318238735199, 0.6340237259864807, 0.6223899126052856, 0.6210812926292419, 0.6084107756614685, 0.6041998863220215, 0.6041998863220215, 0.587581992149353, 0.5561578273773193, 0.5553998351097107, 0.5520899295806885, 0.5481519103050232, 0.533620297908783, 0.5222197771072388, 0.5222197771072388, 0.5031579732894897, 0.5006734132766724, 0.4993070065975189, 0.495616614818573, 0.4922606945037842, 0.484039306640625, 0.47499918937683105, 0.47093313932418823, 0.4633578658103943, 0.45491138100624084, 0.4316359758377075, 0.4270611107349396, 0.4176301956176758, 0.4165835380554199, 0.3868856430053711, 0.3695092797279358, 0.3677457571029663, 0.3677457571029663, 0.35930579900741577, 0.3445708751678467, 0.34267497062683105, 0.34206175804138184, 0.3385388255119324, 0.33528557419776917, 0.32495155930519104, 0.3120356798171997, 0.5474531650543213, 0.5031678676605225, 0.45930832624435425, 0.44708406925201416, 0.4079262316226959, 0.4019814431667328, 0.3903958797454834, 0.35819926857948303, 0.3578423261642456, 0.35498523712158203, 0.3514964282512665, 0.3398667573928833, 0.3390340805053711, 0.3250405788421631, 0.32428404688835144, 0.32428404688835144, 0.318494975566864, 0.3167498707771301, 0.3167498707771301, 0.3167498707771301, 0.3148828446865082, 0.31264546513557434, 0.31264546513557434, 0.3101131319999695, 0.3050718903541565, 0.30351725220680237, 0.3008207678794861, 0.3008207678794861, 0.296398401260376, 0.29166144132614136, 0.29014426469802856, 0.28885337710380554, 0.28885337710380554, 0.2867943048477173, 0.28205063939094543, 0.28161248564720154, 0.27888333797454834, 0.2777283191680908, 0.2769371569156647, 0.27558964490890503, 0.27351656556129456, 0.4397990107536316, 0.3708098530769348, 0.3638336658477783, 0.35334107279777527, 0.31699490547180176, 0.31699490547180176, 0.31680649518966675, 0.31680649518966675, 0.31680649518966675, 0.3003561198711395, 0.29984211921691895, 0.2980351448059082, 0.2980351448059082, 0.2980351448059082, 0.2980351448059082, 0.28972288966178894, 0.28435400128364563, 0.2772015631198883, 0.27046120166778564, 0.26894742250442505, 0.26894742250442505, 0.26894742250442505, 0.26798558235168457, 0.26719680428504944, 0.2634729743003845, 0.26041609048843384, 0.2597125470638275, 0.2587340474128723, 0.2587340474128723, 0.2582325339317322, 0.2569734454154968, 0.2548796236515045, 0.24937987327575684, 0.24753959476947784, 0.24101850390434265, 0.24029263854026794, 0.23948869109153748, 0.23948869109153748, 0.23842443525791168, 0.23683172464370728, 0.23499242961406708, 0.6598005890846252, 0.6460712552070618, 0.6303699016571045, 0.6081672310829163, 0.5945404171943665, 0.5906723141670227, 0.5288747549057007, 0.5058598518371582, 0.49145326018333435, 0.4904922842979431, 0.48489415645599365, 0.48115333914756775, 0.47234275937080383, 0.44468891620635986, 0.4382350444793701, 0.4378441572189331, 0.4244273900985718, 0.4240952730178833, 0.4205360412597656, 0.4198153018951416, 0.41952306032180786, 0.4048107862472534, 0.3995153307914734, 0.39810195565223694, 0.3936691880226135, 0.3905208110809326, 0.3784504532814026, 0.3770945370197296, 0.3768830895423889, 0.3711853623390198, 0.36906564235687256, 0.36861884593963623, 0.36733728647232056, 0.36585885286331177, 0.36267751455307007, 0.36267751455307007, 0.3602546453475952, 0.3577417731285095, 0.35757529735565186, 0.35555511713027954, 0.35315752029418945, 0.4098958373069763, 0.32860279083251953, 0.32860279083251953, 0.31429359316825867, 0.2885797321796417, 0.27340394258499146, 0.2643139958381653, 0.2643139958381653, 0.25480684638023376, 0.2493046224117279, 0.23933815956115723, 0.23191595077514648, 0.23093770444393158, 0.22923842072486877, 0.22458569705486298, 0.21993091702461243, 0.21806755661964417, 0.21689669787883759, 0.2158673107624054, 0.21579264104366302, 0.21493923664093018, 0.2142990529537201, 0.21235978603363037, 0.20956139266490936, 0.20930013060569763, 0.20790883898735046, 0.20707744359970093, 0.20707744359970093, 0.2061249166727066, 0.20482748746871948, 0.20482748746871948, 0.20482748746871948, 0.20482748746871948, 0.20389769971370697, 0.203811913728714, 0.2037837952375412, 0.203756645321846, 0.20262247323989868, 0.20255547761917114, 0.2016187310218811, 0.20154321193695068, 0.43154191970825195, 0.40755993127822876, 0.40755993127822876, 0.3751473128795624, 0.3688429892063141, 0.3193136751651764, 0.31645432114601135, 0.31645432114601135, 0.31645432114601135, 0.31645432114601135, 0.30385974049568176, 0.29478758573532104, 0.29423969984054565, 0.2865859568119049, 0.28428012132644653, 0.27576330304145813, 0.2747243344783783, 0.2747243344783783, 0.26885780692100525, 0.2646769881248474, 0.2646290063858032, 0.26460000872612, 0.2578064501285553, 0.25560444593429565, 0.2534435987472534, 0.2531595230102539, 0.25146839022636414, 0.23964345455169678, 0.23964345455169678, 0.23915013670921326, 0.23696494102478027, 0.23214615881443024, 0.2318551242351532, 0.22824423015117645, 0.22805756330490112, 0.22763071954250336, 0.22142718732357025, 0.21909251809120178, 0.21810930967330933, 0.21685408055782318, 0.2159935086965561, 0.577409565448761, 0.5026446580886841, 0.48207926750183105, 0.4819883704185486, 0.470619797706604, 0.4560704231262207, 0.45498284697532654, 0.45114195346832275, 0.4465034008026123, 0.4435027539730072, 0.44085031747817993, 0.44085031747817993, 0.4303434193134308, 0.42732593417167664, 0.4261057674884796, 0.4240693747997284, 0.4170483350753784, 0.4152381420135498, 0.41450223326683044, 0.41450223326683044, 0.41433459520339966, 0.4123959541320801, 0.40984538197517395, 0.3985447883605957, 0.39559924602508545, 0.39114418625831604, 0.38978129625320435, 0.38978129625320435, 0.38978129625320435, 0.38666632771492004, 0.3865138292312622, 0.3859306573867798, 0.3839396834373474, 0.3764360547065735, 0.3764360547065735, 0.37563076615333557, 0.37101197242736816, 0.3698427677154541, 0.36904197931289673, 0.3676261007785797, 0.3676261007785797, 0.5058950185775757, 0.4952808618545532, 0.4951861500740051, 0.4790332019329071, 0.4610130786895752, 0.4606810212135315, 0.4558614492416382, 0.43605655431747437, 0.43605655431747437, 0.4306412935256958, 0.41833436489105225, 0.40332120656967163, 0.3917684555053711, 0.3897644579410553, 0.3839408755302429, 0.38204139471054077, 0.3765733242034912, 0.37583956122398376, 0.3742830455303192, 0.365531861782074, 0.36234787106513977, 0.36152878403663635, 0.36152878403663635, 0.3591773509979248, 0.35449743270874023, 0.35068315267562866, 0.34751006960868835, 0.342242032289505, 0.3409024178981781, 0.33823275566101074, 0.33823275566101074, 0.33821043372154236, 0.3315725326538086, 0.3283206522464752, 0.3272550106048584, 0.3272550106048584, 0.32294562458992004, 0.32157784700393677, 0.3206368684768677, 0.31907591223716736, 0.3159865140914917, 0.43562325835227966, 0.4264834523200989, 0.42640188336372375, 0.4124927520751953, 0.39697566628456116, 0.3966897130012512, 0.3925396203994751, 0.37548574805259705, 0.37548574805259705, 0.36022529006004333, 0.3472975492477417, 0.3373829424381256, 0.3356238603591919, 0.3306092619895935, 0.3242650628089905, 0.32363325357437134, 0.3222929835319519, 0.314757376909256, 0.3120156228542328, 0.311310350894928, 0.311310350894928, 0.305255651473999, 0.3019711971282959, 0.2992388904094696, 0.2947026491165161, 0.2912502586841583, 0.2912502586841583, 0.2912310063838959, 0.2827150225639343, 0.2817973494529724, 0.2817973494529724, 0.2780865728855133, 0.276908814907074, 0.2760985493659973, 0.2747544050216675, 0.27209413051605225, 0.2673105001449585, 0.26480478048324585, 0.2645244598388672, 0.2645244598388672, 0.2625637352466583, 0.4055159091949463, 0.32388174533843994, 0.318561851978302, 0.29009631276130676, 0.27462464570999146, 0.2595708966255188, 0.2577664852142334, 0.25101709365844727, 0.24997743964195251, 0.23795706033706665, 0.23078301548957825, 0.22654901444911957, 0.22654901444911957, 0.2230536937713623, 0.21864980459213257, 0.21466077864170074, 0.19697092473506927, 0.1956997513771057, 0.19306111335754395, 0.18434639275074005, 0.18299242854118347, 0.18299242854118347, 0.18299242854118347, 0.18187835812568665, 0.18158146739006042, 0.17511692643165588, 0.17212797701358795, 0.17212797701358795, 0.16692250967025757, 0.16692250967025757, 0.16275013983249664, 0.16275013983249664, 0.15966670215129852, 0.1588439643383026, 0.15031221508979797, 0.14793094992637634, 0.14618998765945435, 0.14452508091926575, 0.1433344930410385, 0.1421753168106079, 0.1421753168106079, 0.5058950185775757, 0.4952808618545532, 0.4951861500740051, 0.4790332019329071, 0.4610130786895752, 0.4606810212135315, 0.4558614492416382, 0.43605655431747437, 0.43605655431747437, 0.4306412935256958, 0.41833436489105225, 0.40332120656967163, 0.3917684555053711, 0.3897644579410553, 0.3839408755302429, 0.38204139471054077, 0.3765733242034912, 0.37583956122398376, 0.3742830455303192, 0.365531861782074, 0.36234787106513977, 0.36152878403663635, 0.36152878403663635, 0.3591773509979248, 0.35449743270874023, 0.35068315267562866, 0.34751006960868835, 0.342242032289505, 0.3409024178981781, 0.33823275566101074, 0.33823275566101074, 0.33821043372154236, 0.3315725326538086, 0.3283206522464752, 0.3272550106048584, 0.3272550106048584, 0.32294562458992004, 0.32157784700393677, 0.3206368684768677, 0.31907591223716736, 0.3159865140914917, 0.919802188873291, 0.919802188873291, 0.919802188873291, 0.8617812395095825, 0.8251346945762634, 0.7513470649719238, 0.7180637121200562, 0.7180637121200562, 0.7180637121200562, 0.7025310397148132, 0.6328755021095276, 0.6280142068862915, 0.6183549165725708, 0.5920172929763794, 0.5784751772880554, 0.5774606466293335, 0.5774606466293335, 0.5758653283119202, 0.5624364614486694, 0.5600296854972839, 0.5600296854972839, 0.5442276000976562, 0.5423223376274109, 0.5423223376274109, 0.541138768196106, 0.541138768196106, 0.5331203937530518, 0.5248377323150635, 0.5014815330505371, 0.5006638765335083, 0.49964457750320435, 0.499494731426239, 0.4981437623500824, 0.4981437623500824, 0.4981238842010498, 0.4962739944458008, 0.4962739944458008, 0.49200379848480225, 0.4893270432949066, 0.48733824491500854, 0.4851396381855011, 0.919802188873291, 0.919802188873291, 0.919802188873291, 0.8617812395095825, 0.8251346945762634, 0.7513470649719238, 0.7180637121200562, 0.7180637121200562, 0.7180637121200562, 0.7025310397148132, 0.6328755021095276, 0.6280142068862915, 0.6183549165725708, 0.5920172929763794, 0.5784751772880554, 0.5774606466293335, 0.5774606466293335, 0.5758653283119202, 0.5624364614486694, 0.5600296854972839, 0.5600296854972839, 0.5442276000976562, 0.5423223376274109, 0.5423223376274109, 0.541138768196106, 0.541138768196106, 0.5331203937530518, 0.5248377323150635, 0.5014815330505371, 0.5006638765335083, 0.49964457750320435, 0.499494731426239, 0.4981437623500824, 0.4981437623500824, 0.4981238842010498, 0.4962739944458008, 0.4962739944458008, 0.49200379848480225, 0.4893270432949066, 0.48733824491500854, 0.4851396381855011, 0.5063269138336182, 0.27972713112831116, 0.2574380934238434, 0.2574380934238434, 0.25388699769973755, 0.25388699769973755, 0.24578063189983368, 0.23608309030532837, 0.23327168822288513, 0.2294950783252716, 0.21839739382266998, 0.21504326164722443, 0.207375168800354, 0.207375168800354, 0.2056453675031662, 0.2056453675031662, 0.1994483768939972, 0.196779265999794, 0.1941242516040802, 0.1866142451763153, 0.18657498061656952, 0.18580304086208344, 0.18045786023139954, 0.18045786023139954, 0.17503361403942108, 0.16708435118198395, 0.16376522183418274, 0.16336676478385925, 0.1617453396320343, 0.16119110584259033, 0.160271555185318, 0.160271555185318, 0.154214546084404, 0.15055161714553833, 0.15039998292922974, 0.14927339553833008, 0.14855213463306427, 0.1475488394498825, 0.14714959263801575, 0.14711710810661316, 0.14711710810661316, 0.919802188873291, 0.919802188873291, 0.919802188873291, 0.8617812395095825, 0.8251346945762634, 0.7513470649719238, 0.7180637121200562, 0.7180637121200562, 0.7180637121200562, 0.7025310397148132, 0.6328755021095276, 0.6280142068862915, 0.6183549165725708, 0.5920172929763794, 0.5784751772880554, 0.5774606466293335, 0.5774606466293335, 0.5758653283119202, 0.5624364614486694, 0.5600296854972839, 0.5600296854972839, 0.5442276000976562, 0.5423223376274109, 0.5423223376274109, 0.541138768196106, 0.541138768196106, 0.5331203937530518, 0.5248377323150635, 0.5014815330505371, 0.5006638765335083, 0.49964457750320435, 0.499494731426239, 0.4981437623500824, 0.4981437623500824, 0.4981238842010498, 0.4962739944458008, 0.4962739944458008, 0.49200379848480225, 0.4893270432949066, 0.48733824491500854, 0.4851396381855011, 0.7067334055900574, 0.6971086859703064, 0.659168004989624, 0.659168004989624, 0.6519085764884949, 0.6514655947685242, 0.6514655947685242, 0.6430954337120056, 0.6224113702774048, 0.614787220954895, 0.6055393218994141, 0.5976179838180542, 0.5959299802780151, 0.5953346490859985, 0.5950841903686523, 0.5950841903686523, 0.5931788682937622, 0.5931568145751953, 0.5873646140098572, 0.5841293334960938, 0.5824151039123535, 0.5707176923751831, 0.5707176923751831, 0.5585469603538513, 0.5451145172119141, 0.5386492013931274, 0.5386492013931274, 0.5341776013374329, 0.5325985550880432, 0.5287699699401855, 0.5127640962600708, 0.501786470413208, 0.49826520681381226, 0.4973641037940979, 0.49514055252075195, 0.49475592374801636, 0.474104106426239, 0.4717034101486206, 0.46737074851989746, 0.4614964723587036, 0.46104925870895386, 0.752845048904419, 0.6167448163032532, 0.6115976572036743, 0.6043355464935303, 0.6043355464935303, 0.5986186265945435, 0.5746181011199951, 0.5746181011199951, 0.5659446716308594, 0.5526138544082642, 0.5517960786819458, 0.5417582392692566, 0.5361027717590332, 0.5230069160461426, 0.5220458507537842, 0.5211309790611267, 0.5187541246414185, 0.5187541246414185, 0.5154777765274048, 0.5136957168579102, 0.5025182962417603, 0.5003232359886169, 0.49402570724487305, 0.49402570724487305, 0.49282199144363403, 0.4871896505355835, 0.4786052405834198, 0.4748620092868805, 0.4745861291885376, 0.4697093963623047, 0.4697093963623047, 0.469028115272522, 0.4668131470680237, 0.4655020833015442, 0.45873457193374634, 0.4530276656150818, 0.44399505853652954, 0.43843260407447815, 0.43195170164108276, 0.4241016209125519, 0.42116090655326843, 0.677169144153595, 0.5059093832969666, 0.4863463044166565, 0.39218437671661377, 0.38679760694503784, 0.3850369453430176, 0.35692062973976135, 0.35692062973976135, 0.35682204365730286, 0.32660672068595886, 0.3014131188392639, 0.28455841541290283, 0.2820495367050171, 0.2775467038154602, 0.2750445008277893, 0.27139800786972046, 0.2696976065635681, 0.2633618712425232, 0.26326340436935425, 0.26125720143318176, 0.2552478611469269, 0.24538569152355194, 0.24455739557743073, 0.2422419786453247, 0.24137410521507263, 0.23997077345848083, 0.23428624868392944, 0.2328169047832489, 0.2328169047832489, 0.2313319593667984, 0.22755903005599976, 0.22653457522392273, 0.22351086139678955, 0.22054892778396606, 0.21955937147140503, 0.21810667216777802, 0.21707090735435486, 0.21512284874916077, 0.2127193808555603, 0.2114187628030777, 0.2090679109096527, 0.7380365133285522, 0.7380365133285522, 0.6813276410102844, 0.6720489263534546, 0.6656160354614258, 0.6590185165405273, 0.6354721188545227, 0.6354721188545227, 0.6284736394882202, 0.6131267547607422, 0.612191915512085, 0.5985909700393677, 0.5926867723464966, 0.5846167802810669, 0.583771288394928, 0.5761346817016602, 0.5745073556900024, 0.5736919641494751, 0.5736919641494751, 0.5718551874160767, 0.5597795248031616, 0.550201416015625, 0.550201416015625, 0.5456178188323975, 0.5448415875434875, 0.5366458296775818, 0.5208122730255127, 0.519894540309906, 0.5192857384681702, 0.5192857384681702, 0.5179539322853088, 0.5134525895118713, 0.5117946863174438, 0.5082789659500122, 0.5059372186660767, 0.4938367009162903, 0.4837481379508972, 0.4773411750793457, 0.4742264747619629, 0.46918317675590515, 0.46803730726242065, 0.2991829216480255, 0.2927880883216858, 0.2911509871482849, 0.2712143659591675, 0.25215670466423035, 0.24140243232250214, 0.21923863887786865, 0.21481052041053772, 0.2032482773065567, 0.2032482773065567, 0.197566956281662, 0.19149386882781982, 0.19059380888938904, 0.1903018355369568, 0.1903018355369568, 0.18980643153190613, 0.18622161448001862, 0.1850256621837616, 0.1849181354045868, 0.1849181354045868, 0.1849181354045868, 0.1742938756942749, 0.1724683940410614, 0.17016646265983582, 0.16967953741550446, 0.16827788949012756, 0.16528664529323578, 0.16434913873672485, 0.1611536741256714, 0.1611536741256714, 0.15970869362354279, 0.15752840042114258, 0.15752840042114258, 0.155523419380188, 0.15455317497253418, 0.15455317497253418, 0.15412254631519318, 0.1540517807006836, 0.14758148789405823, 0.14727497100830078, 0.14727497100830078, 0.28227362036705017, 0.2624388337135315, 0.25770434737205505, 0.25770434737205505, 0.2568124532699585, 0.25124606490135193, 0.23289428651332855, 0.2281784862279892, 0.22791634500026703, 0.2266419529914856, 0.2235698252916336, 0.21153609454631805, 0.21153609454631805, 0.19836562871932983, 0.197546124458313, 0.1962234526872635, 0.19381512701511383, 0.19257041811943054, 0.19245851039886475, 0.19245851039886475, 0.19245851039886475, 0.18140104413032532, 0.17950110137462616, 0.17659851908683777, 0.17343375086784363, 0.1710507869720459, 0.16622108221054077, 0.16395191848278046, 0.16395191848278046, 0.16085536777973175, 0.16085536777973175, 0.160407155752182, 0.1603335291147232, 0.15379290282726288, 0.15328039228916168, 0.15328039228916168, 0.15323284268379211, 0.1498570591211319, 0.1498570591211319, 0.14972727000713348, 0.14757481217384338, 0.4220505356788635, 0.34617647528648376, 0.342334508895874, 0.2898113429546356, 0.2552530765533447, 0.24562926590442657, 0.23219241201877594, 0.23047415912151337, 0.2116999626159668, 0.19930477440357208, 0.19672857224941254, 0.19672857224941254, 0.19123809039592743, 0.1856938749551773, 0.1856938749551773, 0.17484281957149506, 0.17317120730876923, 0.17231595516204834, 0.17110568284988403, 0.17017070949077606, 0.17014895379543304, 0.16409991681575775, 0.15625916421413422, 0.15625916421413422, 0.15404802560806274, 0.1539236158132553, 0.14679886400699615, 0.14679886400699615, 0.14648815989494324, 0.14640352129936218, 0.13971400260925293, 0.13899420201778412, 0.13836203515529633, 0.13485336303710938, 0.13485336303710938, 0.1341719627380371, 0.13400030136108398, 0.13374163210391998, 0.13374163210391998, 0.13368947803974152, 0.1321781724691391, 0.28227362036705017, 0.2624388337135315, 0.25770434737205505, 0.25770434737205505, 0.2568124532699585, 0.25124606490135193, 0.23289428651332855, 0.2281784862279892, 0.22791634500026703, 0.2266419529914856, 0.2235698252916336, 0.21153609454631805, 0.21153609454631805, 0.19836562871932983, 0.197546124458313, 0.1962234526872635, 0.19381512701511383, 0.19257041811943054, 0.19245851039886475, 0.19245851039886475, 0.19245851039886475, 0.18140104413032532, 0.17950110137462616, 0.17659851908683777, 0.17343375086784363, 0.1710507869720459, 0.16622108221054077, 0.16395191848278046, 0.16395191848278046, 0.16085536777973175, 0.16085536777973175, 0.160407155752182, 0.1603335291147232, 0.15379290282726288, 0.15328039228916168, 0.15328039228916168, 0.15323284268379211, 0.1498570591211319, 0.1498570591211319, 0.14972727000713348, 0.14757481217384338], \"xaxis\": \"x\", \"yaxis\": \"y\"}],\n",
              "                        {\"barmode\": \"relative\", \"legend\": {\"tracegroupgap\": 0}, \"template\": {\"data\": {\"bar\": [{\"error_x\": {\"color\": \"#2a3f5f\"}, \"error_y\": {\"color\": \"#2a3f5f\"}, \"marker\": {\"line\": {\"color\": \"#E5ECF6\", \"width\": 0.5}}, \"type\": \"bar\"}], \"barpolar\": [{\"marker\": {\"line\": {\"color\": \"#E5ECF6\", \"width\": 0.5}}, \"type\": \"barpolar\"}], \"carpet\": [{\"aaxis\": {\"endlinecolor\": \"#2a3f5f\", \"gridcolor\": \"white\", \"linecolor\": \"white\", \"minorgridcolor\": \"white\", \"startlinecolor\": \"#2a3f5f\"}, \"baxis\": {\"endlinecolor\": \"#2a3f5f\", \"gridcolor\": \"white\", \"linecolor\": \"white\", \"minorgridcolor\": \"white\", \"startlinecolor\": \"#2a3f5f\"}, \"type\": \"carpet\"}], \"choropleth\": [{\"colorbar\": {\"outlinewidth\": 0, \"ticks\": \"\"}, \"type\": \"choropleth\"}], \"contour\": [{\"colorbar\": {\"outlinewidth\": 0, \"ticks\": \"\"}, \"colorscale\": [[0.0, \"#0d0887\"], [0.1111111111111111, \"#46039f\"], [0.2222222222222222, \"#7201a8\"], [0.3333333333333333, \"#9c179e\"], [0.4444444444444444, \"#bd3786\"], [0.5555555555555556, \"#d8576b\"], [0.6666666666666666, \"#ed7953\"], [0.7777777777777778, \"#fb9f3a\"], [0.8888888888888888, \"#fdca26\"], [1.0, \"#f0f921\"]], \"type\": \"contour\"}], \"contourcarpet\": [{\"colorbar\": {\"outlinewidth\": 0, \"ticks\": \"\"}, \"type\": \"contourcarpet\"}], \"heatmap\": [{\"colorbar\": {\"outlinewidth\": 0, \"ticks\": \"\"}, \"colorscale\": [[0.0, \"#0d0887\"], [0.1111111111111111, \"#46039f\"], [0.2222222222222222, \"#7201a8\"], [0.3333333333333333, \"#9c179e\"], [0.4444444444444444, \"#bd3786\"], [0.5555555555555556, \"#d8576b\"], [0.6666666666666666, \"#ed7953\"], [0.7777777777777778, \"#fb9f3a\"], [0.8888888888888888, \"#fdca26\"], [1.0, \"#f0f921\"]], \"type\": \"heatmap\"}], \"heatmapgl\": [{\"colorbar\": {\"outlinewidth\": 0, \"ticks\": \"\"}, \"colorscale\": [[0.0, \"#0d0887\"], [0.1111111111111111, \"#46039f\"], [0.2222222222222222, \"#7201a8\"], [0.3333333333333333, \"#9c179e\"], [0.4444444444444444, \"#bd3786\"], [0.5555555555555556, \"#d8576b\"], [0.6666666666666666, \"#ed7953\"], [0.7777777777777778, \"#fb9f3a\"], [0.8888888888888888, \"#fdca26\"], [1.0, \"#f0f921\"]], \"type\": \"heatmapgl\"}], \"histogram\": [{\"marker\": {\"colorbar\": {\"outlinewidth\": 0, \"ticks\": \"\"}}, \"type\": \"histogram\"}], \"histogram2d\": [{\"colorbar\": {\"outlinewidth\": 0, \"ticks\": \"\"}, \"colorscale\": [[0.0, \"#0d0887\"], [0.1111111111111111, \"#46039f\"], [0.2222222222222222, \"#7201a8\"], [0.3333333333333333, \"#9c179e\"], [0.4444444444444444, \"#bd3786\"], [0.5555555555555556, \"#d8576b\"], [0.6666666666666666, \"#ed7953\"], [0.7777777777777778, \"#fb9f3a\"], [0.8888888888888888, \"#fdca26\"], [1.0, \"#f0f921\"]], \"type\": \"histogram2d\"}], \"histogram2dcontour\": [{\"colorbar\": {\"outlinewidth\": 0, \"ticks\": \"\"}, \"colorscale\": [[0.0, \"#0d0887\"], [0.1111111111111111, \"#46039f\"], [0.2222222222222222, \"#7201a8\"], [0.3333333333333333, \"#9c179e\"], [0.4444444444444444, \"#bd3786\"], [0.5555555555555556, \"#d8576b\"], [0.6666666666666666, \"#ed7953\"], [0.7777777777777778, \"#fb9f3a\"], [0.8888888888888888, \"#fdca26\"], [1.0, \"#f0f921\"]], \"type\": \"histogram2dcontour\"}], \"mesh3d\": [{\"colorbar\": {\"outlinewidth\": 0, \"ticks\": \"\"}, \"type\": \"mesh3d\"}], \"parcoords\": [{\"line\": {\"colorbar\": {\"outlinewidth\": 0, \"ticks\": \"\"}}, \"type\": \"parcoords\"}], \"pie\": [{\"automargin\": true, \"type\": \"pie\"}], \"scatter\": [{\"marker\": {\"colorbar\": {\"outlinewidth\": 0, \"ticks\": \"\"}}, \"type\": \"scatter\"}], \"scatter3d\": [{\"line\": {\"colorbar\": {\"outlinewidth\": 0, \"ticks\": \"\"}}, \"marker\": {\"colorbar\": {\"outlinewidth\": 0, \"ticks\": \"\"}}, \"type\": \"scatter3d\"}], \"scattercarpet\": [{\"marker\": {\"colorbar\": {\"outlinewidth\": 0, \"ticks\": \"\"}}, \"type\": \"scattercarpet\"}], \"scattergeo\": [{\"marker\": {\"colorbar\": {\"outlinewidth\": 0, \"ticks\": \"\"}}, \"type\": \"scattergeo\"}], \"scattergl\": [{\"marker\": {\"colorbar\": {\"outlinewidth\": 0, \"ticks\": \"\"}}, \"type\": \"scattergl\"}], \"scattermapbox\": [{\"marker\": {\"colorbar\": {\"outlinewidth\": 0, \"ticks\": \"\"}}, \"type\": \"scattermapbox\"}], \"scatterpolar\": [{\"marker\": {\"colorbar\": {\"outlinewidth\": 0, \"ticks\": \"\"}}, \"type\": \"scatterpolar\"}], \"scatterpolargl\": [{\"marker\": {\"colorbar\": {\"outlinewidth\": 0, \"ticks\": \"\"}}, \"type\": \"scatterpolargl\"}], \"scatterternary\": [{\"marker\": {\"colorbar\": {\"outlinewidth\": 0, \"ticks\": \"\"}}, \"type\": \"scatterternary\"}], \"surface\": [{\"colorbar\": {\"outlinewidth\": 0, \"ticks\": \"\"}, \"colorscale\": [[0.0, \"#0d0887\"], [0.1111111111111111, \"#46039f\"], [0.2222222222222222, \"#7201a8\"], [0.3333333333333333, \"#9c179e\"], [0.4444444444444444, \"#bd3786\"], [0.5555555555555556, \"#d8576b\"], [0.6666666666666666, \"#ed7953\"], [0.7777777777777778, \"#fb9f3a\"], [0.8888888888888888, \"#fdca26\"], [1.0, \"#f0f921\"]], \"type\": \"surface\"}], \"table\": [{\"cells\": {\"fill\": {\"color\": \"#EBF0F8\"}, \"line\": {\"color\": \"white\"}}, \"header\": {\"fill\": {\"color\": \"#C8D4E3\"}, \"line\": {\"color\": \"white\"}}, \"type\": \"table\"}]}, \"layout\": {\"annotationdefaults\": {\"arrowcolor\": \"#2a3f5f\", \"arrowhead\": 0, \"arrowwidth\": 1}, \"coloraxis\": {\"colorbar\": {\"outlinewidth\": 0, \"ticks\": \"\"}}, \"colorscale\": {\"diverging\": [[0, \"#8e0152\"], [0.1, \"#c51b7d\"], [0.2, \"#de77ae\"], [0.3, \"#f1b6da\"], [0.4, \"#fde0ef\"], [0.5, \"#f7f7f7\"], [0.6, \"#e6f5d0\"], [0.7, \"#b8e186\"], [0.8, \"#7fbc41\"], [0.9, \"#4d9221\"], [1, \"#276419\"]], \"sequential\": [[0.0, \"#0d0887\"], [0.1111111111111111, \"#46039f\"], [0.2222222222222222, \"#7201a8\"], [0.3333333333333333, \"#9c179e\"], [0.4444444444444444, \"#bd3786\"], [0.5555555555555556, \"#d8576b\"], [0.6666666666666666, \"#ed7953\"], [0.7777777777777778, \"#fb9f3a\"], [0.8888888888888888, \"#fdca26\"], [1.0, \"#f0f921\"]], \"sequentialminus\": [[0.0, \"#0d0887\"], [0.1111111111111111, \"#46039f\"], [0.2222222222222222, \"#7201a8\"], [0.3333333333333333, \"#9c179e\"], [0.4444444444444444, \"#bd3786\"], [0.5555555555555556, \"#d8576b\"], [0.6666666666666666, \"#ed7953\"], [0.7777777777777778, \"#fb9f3a\"], [0.8888888888888888, \"#fdca26\"], [1.0, \"#f0f921\"]]}, \"colorway\": [\"#636efa\", \"#EF553B\", \"#00cc96\", \"#ab63fa\", \"#FFA15A\", \"#19d3f3\", \"#FF6692\", \"#B6E880\", \"#FF97FF\", \"#FECB52\"], \"font\": {\"color\": \"#2a3f5f\"}, \"geo\": {\"bgcolor\": \"white\", \"lakecolor\": \"white\", \"landcolor\": \"#E5ECF6\", \"showlakes\": true, \"showland\": true, \"subunitcolor\": \"white\"}, \"hoverlabel\": {\"align\": \"left\"}, \"hovermode\": \"closest\", \"mapbox\": {\"style\": \"light\"}, \"paper_bgcolor\": \"white\", \"plot_bgcolor\": \"#E5ECF6\", \"polar\": {\"angularaxis\": {\"gridcolor\": \"white\", \"linecolor\": \"white\", \"ticks\": \"\"}, \"bgcolor\": \"#E5ECF6\", \"radialaxis\": {\"gridcolor\": \"white\", \"linecolor\": \"white\", \"ticks\": \"\"}}, \"scene\": {\"xaxis\": {\"backgroundcolor\": \"#E5ECF6\", \"gridcolor\": \"white\", \"gridwidth\": 2, \"linecolor\": \"white\", \"showbackground\": true, \"ticks\": \"\", \"zerolinecolor\": \"white\"}, \"yaxis\": {\"backgroundcolor\": \"#E5ECF6\", \"gridcolor\": \"white\", \"gridwidth\": 2, \"linecolor\": \"white\", \"showbackground\": true, \"ticks\": \"\", \"zerolinecolor\": \"white\"}, \"zaxis\": {\"backgroundcolor\": \"#E5ECF6\", \"gridcolor\": \"white\", \"gridwidth\": 2, \"linecolor\": \"white\", \"showbackground\": true, \"ticks\": \"\", \"zerolinecolor\": \"white\"}}, \"shapedefaults\": {\"line\": {\"color\": \"#2a3f5f\"}}, \"ternary\": {\"aaxis\": {\"gridcolor\": \"white\", \"linecolor\": \"white\", \"ticks\": \"\"}, \"baxis\": {\"gridcolor\": \"white\", \"linecolor\": \"white\", \"ticks\": \"\"}, \"bgcolor\": \"#E5ECF6\", \"caxis\": {\"gridcolor\": \"white\", \"linecolor\": \"white\", \"ticks\": \"\"}}, \"title\": {\"x\": 0.05}, \"xaxis\": {\"automargin\": true, \"gridcolor\": \"white\", \"linecolor\": \"white\", \"ticks\": \"\", \"title\": {\"standoff\": 15}, \"zerolinecolor\": \"white\", \"zerolinewidth\": 2}, \"yaxis\": {\"automargin\": true, \"gridcolor\": \"white\", \"linecolor\": \"white\", \"ticks\": \"\", \"title\": {\"standoff\": 15}, \"zerolinecolor\": \"white\", \"zerolinewidth\": 2}}}, \"title\": {\"text\": \"Scores for TF-IDF\"}, \"xaxis\": {\"anchor\": \"y\", \"domain\": [0.0, 1.0], \"title\": {\"text\": \"score\"}}, \"yaxis\": {\"anchor\": \"x\", \"domain\": [0.0, 1.0], \"title\": {\"text\": \"count\"}}},\n",
              "                        {\"responsive\": true}\n",
              "                    ).then(function(){\n",
              "                            \n",
              "var gd = document.getElementById('1ac5836b-d094-4c4f-9724-d31dec169868');\n",
              "var x = new MutationObserver(function (mutations, observer) {{\n",
              "        var display = window.getComputedStyle(gd).display;\n",
              "        if (!display || display === 'none') {{\n",
              "            console.log([gd, 'removed!']);\n",
              "            Plotly.purge(gd);\n",
              "            observer.disconnect();\n",
              "        }}\n",
              "}});\n",
              "\n",
              "// Listen for the removal of the full notebook cells\n",
              "var notebookContainer = gd.closest('#notebook-container');\n",
              "if (notebookContainer) {{\n",
              "    x.observe(notebookContainer, {childList: true});\n",
              "}}\n",
              "\n",
              "// Listen for the clearing of the current output cell\n",
              "var outputEl = gd.closest('.output');\n",
              "if (outputEl) {{\n",
              "    x.observe(outputEl, {childList: true});\n",
              "}}\n",
              "\n",
              "                        })\n",
              "                };\n",
              "                \n",
              "            </script>\n",
              "        </div>\n",
              "</body>\n",
              "</html>"
            ]
          },
          "metadata": {}
        }
      ]
    },
    {
      "cell_type": "code",
      "metadata": {
        "id": "QIBvHL1aOnOT"
      },
      "source": [
        "wandb.log({\"scores_hist\": fig})"
      ],
      "execution_count": 39,
      "outputs": []
    },
    {
      "cell_type": "code",
      "metadata": {
        "id": "OZ0YfkIO9g5V"
      },
      "source": [
        "def recommend_tune(df, tune_name):\n",
        "\n",
        "  df_tune = df.query(f'reference_title == \"{tune_name}\"')\n",
        "  ff = df_tune.iloc[:]\n",
        "\n",
        "  # get the maximum similarity score for each section and store in new column\n",
        "  ff['max'] = ff.groupby('ref_section')['score'].transform('max')\n",
        "\n",
        "  # scale the score with the maxmum value of each section\n",
        "  ff['score_div_max'] = ff['score'] / ff['max']\n",
        "\n",
        "  # consider only the top N tunes for each group\n",
        "  ff = ff.sort_values(['ref_section', 'score_div_max'], ascending=[True, False])\n",
        "  result = ff.groupby('ref_section').head(30)\n",
        "  \n",
        "  # if multiple rows from the same similar tune, keep only the similar_title with the highest score_div_max\n",
        "  result = result.groupby('similar_title').max('score_div_max').sort_values('score_div_max', ascending=False)\n",
        "  \n",
        "  # add the name of the reference tune\n",
        "  result['reference'] = tune_name\n",
        "  result = result.reset_index()\n",
        "  result = result.loc[:, ['reference', 'similar_title', 'score', 'max', 'score_div_max']]\n",
        "  result = result.reset_index()\n",
        "  return result, ff"
      ],
      "execution_count": 40,
      "outputs": []
    },
    {
      "cell_type": "code",
      "metadata": {
        "colab": {
          "base_uri": "https://localhost:8080/",
          "height": 224
        },
        "id": "ohaxVQ6d9iiD",
        "outputId": "f3420c28-f1fa-43f1-f0a3-c1c987897485"
      },
      "source": [
        "result, details = recommend_tune(df_sim, \"These Foolish Things\")\n",
        "result.head(5)"
      ],
      "execution_count": 41,
      "outputs": [
        {
          "output_type": "stream",
          "name": "stderr",
          "text": [
            "2021-11-21 20:36:35,497 : INFO : NumExpr defaulting to 2 threads.\n"
          ]
        },
        {
          "output_type": "execute_result",
          "data": {
            "text/html": [
              "<div>\n",
              "<style scoped>\n",
              "    .dataframe tbody tr th:only-of-type {\n",
              "        vertical-align: middle;\n",
              "    }\n",
              "\n",
              "    .dataframe tbody tr th {\n",
              "        vertical-align: top;\n",
              "    }\n",
              "\n",
              "    .dataframe thead th {\n",
              "        text-align: right;\n",
              "    }\n",
              "</style>\n",
              "<table border=\"1\" class=\"dataframe\">\n",
              "  <thead>\n",
              "    <tr style=\"text-align: right;\">\n",
              "      <th></th>\n",
              "      <th>index</th>\n",
              "      <th>reference</th>\n",
              "      <th>similar_title</th>\n",
              "      <th>score</th>\n",
              "      <th>max</th>\n",
              "      <th>score_div_max</th>\n",
              "    </tr>\n",
              "  </thead>\n",
              "  <tbody>\n",
              "    <tr>\n",
              "      <th>0</th>\n",
              "      <td>0</td>\n",
              "      <td>These Foolish Things</td>\n",
              "      <td>More Than You Know</td>\n",
              "      <td>0.677169</td>\n",
              "      <td>0.677169</td>\n",
              "      <td>1.000000</td>\n",
              "    </tr>\n",
              "    <tr>\n",
              "      <th>1</th>\n",
              "      <td>1</td>\n",
              "      <td>These Foolish Things</td>\n",
              "      <td>Too Young To Go Steady</td>\n",
              "      <td>0.752845</td>\n",
              "      <td>0.752845</td>\n",
              "      <td>1.000000</td>\n",
              "    </tr>\n",
              "    <tr>\n",
              "      <th>2</th>\n",
              "      <td>2</td>\n",
              "      <td>These Foolish Things</td>\n",
              "      <td>I Won't Dance</td>\n",
              "      <td>0.706733</td>\n",
              "      <td>0.752845</td>\n",
              "      <td>1.000000</td>\n",
              "    </tr>\n",
              "    <tr>\n",
              "      <th>3</th>\n",
              "      <td>3</td>\n",
              "      <td>These Foolish Things</td>\n",
              "      <td>I Like The Likes Of You</td>\n",
              "      <td>0.738037</td>\n",
              "      <td>0.752845</td>\n",
              "      <td>1.000000</td>\n",
              "    </tr>\n",
              "    <tr>\n",
              "      <th>4</th>\n",
              "      <td>4</td>\n",
              "      <td>These Foolish Things</td>\n",
              "      <td>Emily</td>\n",
              "      <td>0.697109</td>\n",
              "      <td>0.752845</td>\n",
              "      <td>0.986381</td>\n",
              "    </tr>\n",
              "  </tbody>\n",
              "</table>\n",
              "</div>"
            ],
            "text/plain": [
              "   index             reference  ...       max  score_div_max\n",
              "0      0  These Foolish Things  ...  0.677169       1.000000\n",
              "1      1  These Foolish Things  ...  0.752845       1.000000\n",
              "2      2  These Foolish Things  ...  0.752845       1.000000\n",
              "3      3  These Foolish Things  ...  0.752845       1.000000\n",
              "4      4  These Foolish Things  ...  0.752845       0.986381\n",
              "\n",
              "[5 rows x 6 columns]"
            ]
          },
          "metadata": {},
          "execution_count": 41
        }
      ]
    },
    {
      "cell_type": "markdown",
      "metadata": {
        "id": "UveSDI6QWALe"
      },
      "source": [
        "Copy results into a dataframe for later logging to W&B"
      ]
    },
    {
      "cell_type": "code",
      "metadata": {
        "id": "AEEqdXBiT5bl"
      },
      "source": [
        "dd = pd.DataFrame(columns = recommender_results_cols)\n",
        "\n",
        "for tune in tunes_eval_list:\n",
        "  result, details = recommend_tune(df_sim, tune)\n",
        "  dd['id'] = result['index']\n",
        "  dd['method'] = 'tfidf'\n",
        "  dd['reference'] = tune\n",
        "  dd['similar'] = result['similar_title']\n",
        "  dd['score_div_max'] = result['score_div_max']\n",
        "  dd['score'] = result['score']\n",
        "\n",
        "recommender_results = recommender_results.append(dd)"
      ],
      "execution_count": 42,
      "outputs": []
    },
    {
      "cell_type": "markdown",
      "metadata": {
        "id": "Phw7fBDk0px7"
      },
      "source": [
        "Store TF-IDF Model to W&B"
      ]
    },
    {
      "cell_type": "code",
      "metadata": {
        "colab": {
          "base_uri": "https://localhost:8080/"
        },
        "id": "KdYWJX-60pdd",
        "outputId": "f5140838-bd47-4b1d-a1d3-74f58f65ff92"
      },
      "source": [
        "model_artifact = wandb.Artifact(\n",
        "    \"tfidf-model\", \n",
        "    type=\"model\",\n",
        "    description=\"TF-IDF Model\",\n",
        "    metadata=\"\")\n",
        "\n",
        "model_artifact.add_file(\"/content/index/tfidf.model\")\n",
        "model_artifact.add_file(\"/content/index/tfidf.index\")\n",
        "wandb.log_artifact(model_artifact)"
      ],
      "execution_count": 43,
      "outputs": [
        {
          "output_type": "execute_result",
          "data": {
            "text/plain": [
              "<wandb.sdk.wandb_artifacts.Artifact at 0x7f7f6a6d8150>"
            ]
          },
          "metadata": {},
          "execution_count": 43
        }
      ]
    },
    {
      "cell_type": "markdown",
      "metadata": {
        "id": "99xHBRsd--OB"
      },
      "source": [
        "# LSA (Latent Semantic Analysis), aka LSI (Latent Semantic Index) "
      ]
    },
    {
      "cell_type": "code",
      "metadata": {
        "id": "adsW9Uh9_JXs"
      },
      "source": [
        "from collections import defaultdict"
      ],
      "execution_count": 44,
      "outputs": []
    },
    {
      "cell_type": "code",
      "metadata": {
        "colab": {
          "base_uri": "https://localhost:8080/"
        },
        "id": "s3AJZGRD_IHW",
        "outputId": "7b1ee185-6c4f-4295-f898-a03c6b445e4b"
      },
      "source": [
        "num_topics = lsi_config['num_topics']\n",
        "\n",
        "# remove words that appear only once\n",
        "frequency = defaultdict(int)\n",
        "for text in processed_corpus:\n",
        "    for token in text:\n",
        "        frequency[token] += 1\n",
        "\n",
        "data = [[token for token in text if frequency[token] > 1] for text in processed_corpus]\n",
        "dictionary = corpora.Dictionary(data)\n",
        "\n",
        "# doc2bow counts the number of occurences of each distinct word,\n",
        "# converts the word to its integer word id and returns the result\n",
        "# as a sparse vector\n",
        "\n",
        "bow_corpus = [dictionary.doc2bow(text) for text in data]\n",
        "lsi = LsiModel(bow_corpus, id2word=dictionary, num_topics=num_topics)  # num_topics can be maximum the size of the number of unique tokens"
      ],
      "execution_count": 45,
      "outputs": [
        {
          "output_type": "stream",
          "name": "stderr",
          "text": [
            "2021-11-21 20:36:36,283 : INFO : adding document #0 to Dictionary(0 unique tokens: [])\n",
            "2021-11-21 20:36:36,430 : INFO : built Dictionary(2510 unique tokens: ['Am7-D7', 'B7-EM7', 'C#M7-E7', 'C7-FM7', 'CM7-Eb7']...) from 5403 documents (total 76141 corpus positions)\n",
            "2021-11-21 20:36:36,435 : INFO : Dictionary lifecycle event {'msg': \"built Dictionary(2510 unique tokens: ['Am7-D7', 'B7-EM7', 'C#M7-E7', 'C7-FM7', 'CM7-Eb7']...) from 5403 documents (total 76141 corpus positions)\", 'datetime': '2021-11-21T20:36:36.435259', 'gensim': '4.1.2', 'python': '3.7.12 (default, Sep 10 2021, 00:21:48) \\n[GCC 7.5.0]', 'platform': 'Linux-5.4.104+-x86_64-with-Ubuntu-18.04-bionic', 'event': 'created'}\n",
            "2021-11-21 20:36:36,515 : INFO : using serial LSI version on this node\n",
            "2021-11-21 20:36:36,518 : INFO : updating model with new documents\n",
            "2021-11-21 20:36:36,522 : INFO : preparing a new chunk of documents\n",
            "2021-11-21 20:36:36,558 : INFO : using 100 extra samples and 2 power iterations\n",
            "2021-11-21 20:36:36,569 : INFO : 1st phase: constructing (2510, 300) action matrix\n",
            "2021-11-21 20:36:36,700 : INFO : orthonormalizing (2510, 300) action matrix\n",
            "2021-11-21 20:36:37,063 : INFO : 2nd phase: running dense svd on (300, 5403) matrix\n",
            "2021-11-21 20:36:37,527 : INFO : computing the final decomposition\n",
            "2021-11-21 20:36:37,535 : INFO : keeping 200 factors (discarding 4.457% of energy spectrum)\n",
            "2021-11-21 20:36:37,576 : INFO : processed documents up to #5403\n",
            "2021-11-21 20:36:37,585 : INFO : topic #0(154.079): 0.491*\"G7-C\" + 0.472*\"C-C\" + 0.441*\"Dm7-G7\" + 0.286*\"G7-G7\" + 0.228*\"D7-G7\" + 0.160*\"C-G7\" + 0.148*\"A7-D7\" + 0.129*\"A7-Dm7\" + 0.121*\"D7-D7\" + 0.115*\"C7-F\"\n",
            "2021-11-21 20:36:37,593 : INFO : topic #1(127.377): 0.690*\"Dm7-G7\" + -0.346*\"C-C\" + 0.254*\"A7-Dm7\" + -0.249*\"G7-C\" + 0.238*\"G7-CM7\" + -0.182*\"G7-G7\" + 0.168*\"Em7-A7\" + 0.158*\"G7-C6\" + -0.116*\"C-G7\" + 0.111*\"Am7-Dm7\"\n",
            "2021-11-21 20:36:37,601 : INFO : topic #2(69.308): -0.591*\"C-C\" + 0.413*\"D7-G7\" + 0.370*\"G7-C\" + 0.333*\"A7-D7\" + -0.271*\"G7-G7\" + 0.158*\"C-A7\" + 0.110*\"D7-D7\" + 0.103*\"E7-A7\" + 0.098*\"C-E7\" + 0.091*\"E7-Am\"\n",
            "2021-11-21 20:36:37,608 : INFO : topic #3(61.623): 0.410*\"G7-G7\" + -0.371*\"G7-C\" + 0.305*\"D7-D7\" + 0.284*\"D7-G7\" + 0.212*\"Am7-Am7\" + 0.211*\"C7-C7\" + 0.208*\"CM7-CM7\" + 0.208*\"A7-D7\" + -0.192*\"Dm7-G7\" + -0.178*\"C-G7\"\n",
            "2021-11-21 20:36:37,613 : INFO : topic #4(55.727): 0.625*\"Am7-Am7\" + 0.444*\"E7-Am7\" + 0.347*\"Bm7b5-E7\" + 0.192*\"Am7-D7\" + -0.172*\"A7-D7\" + -0.172*\"D7-G7\" + -0.142*\"D7-D7\" + 0.124*\"G7-C\" + -0.120*\"G7-G7\" + 0.114*\"C-G7\"\n",
            "2021-11-21 20:36:37,617 : INFO : LsiModel lifecycle event {'msg': 'trained LsiModel(num_terms=2510, num_topics=200, decay=1.0, chunksize=20000) in 1.10s', 'datetime': '2021-11-21T20:36:37.617770', 'gensim': '4.1.2', 'python': '3.7.12 (default, Sep 10 2021, 00:21:48) \\n[GCC 7.5.0]', 'platform': 'Linux-5.4.104+-x86_64-with-Ubuntu-18.04-bionic', 'event': 'created'}\n"
          ]
        }
      ]
    },
    {
      "cell_type": "code",
      "metadata": {
        "id": "EvxSQFfBBNMJ"
      },
      "source": [
        "#index_lsi = similarities.Similarity('/content/index/index_lsi', bow_corpus, num_features=len(dictionary))"
      ],
      "execution_count": 46,
      "outputs": []
    },
    {
      "cell_type": "code",
      "metadata": {
        "colab": {
          "base_uri": "https://localhost:8080/"
        },
        "id": "3saA6NY5Tzer",
        "outputId": "b9f75496-8510-4aca-fd83-ed3c6d82fd13"
      },
      "source": [
        "index_lsi = similarities.SparseMatrixSimilarity(lsi[bow_corpus], num_features = len(dictionary))\n",
        "#index_lsi = similarities.MatrixSimilarity(lsi[bow_corpus])  # transform corpus to LSI space and index it\n"
      ],
      "execution_count": 47,
      "outputs": [
        {
          "output_type": "stream",
          "name": "stderr",
          "text": [
            "2021-11-21 20:36:37,658 : INFO : creating sparse index\n",
            "2021-11-21 20:36:37,664 : INFO : creating sparse matrix from corpus\n",
            "2021-11-21 20:36:37,681 : INFO : PROGRESS: at document #0\n",
            "2021-11-21 20:36:39,548 : INFO : created <5403x2510 sparse matrix of type '<class 'numpy.float32'>'\n",
            "\twith 1080599 stored elements in Compressed Sparse Row format>\n"
          ]
        }
      ]
    },
    {
      "cell_type": "code",
      "metadata": {
        "colab": {
          "base_uri": "https://localhost:8080/"
        },
        "id": "F5pbDMVyfEtS",
        "outputId": "4cae4872-8da5-4d81-9461-77d49543438f"
      },
      "source": [
        "lsi.save('/content/index/lsi.model')\n",
        "index_lsi.save('/content/index/lsi_matrixsim.index')\n"
      ],
      "execution_count": 48,
      "outputs": [
        {
          "output_type": "stream",
          "name": "stderr",
          "text": [
            "2021-11-21 20:36:39,562 : INFO : Projection lifecycle event {'fname_or_handle': '/content/index/lsi.model.projection', 'separately': 'None', 'sep_limit': 10485760, 'ignore': frozenset(), 'datetime': '2021-11-21T20:36:39.562450', 'gensim': '4.1.2', 'python': '3.7.12 (default, Sep 10 2021, 00:21:48) \\n[GCC 7.5.0]', 'platform': 'Linux-5.4.104+-x86_64-with-Ubuntu-18.04-bionic', 'event': 'saving'}\n",
            "2021-11-21 20:36:39,572 : INFO : saved /content/index/lsi.model.projection\n",
            "2021-11-21 20:36:39,575 : INFO : LsiModel lifecycle event {'fname_or_handle': '/content/index/lsi.model', 'separately': 'None', 'sep_limit': 10485760, 'ignore': ['projection', 'dispatcher'], 'datetime': '2021-11-21T20:36:39.575437', 'gensim': '4.1.2', 'python': '3.7.12 (default, Sep 10 2021, 00:21:48) \\n[GCC 7.5.0]', 'platform': 'Linux-5.4.104+-x86_64-with-Ubuntu-18.04-bionic', 'event': 'saving'}\n",
            "2021-11-21 20:36:39,577 : INFO : not storing attribute projection\n",
            "2021-11-21 20:36:39,579 : INFO : not storing attribute dispatcher\n",
            "2021-11-21 20:36:39,585 : INFO : saved /content/index/lsi.model\n",
            "2021-11-21 20:36:39,587 : INFO : SparseMatrixSimilarity lifecycle event {'fname_or_handle': '/content/index/lsi_matrixsim.index', 'separately': 'None', 'sep_limit': 10485760, 'ignore': frozenset(), 'datetime': '2021-11-21T20:36:39.587842', 'gensim': '4.1.2', 'python': '3.7.12 (default, Sep 10 2021, 00:21:48) \\n[GCC 7.5.0]', 'platform': 'Linux-5.4.104+-x86_64-with-Ubuntu-18.04-bionic', 'event': 'saving'}\n",
            "2021-11-21 20:36:39,604 : INFO : saved /content/index/lsi_matrixsim.index\n"
          ]
        }
      ]
    },
    {
      "cell_type": "code",
      "metadata": {
        "colab": {
          "base_uri": "https://localhost:8080/"
        },
        "id": "1udPIceqYk6S",
        "outputId": "fe790afd-cb68-4d6a-e218-2205f37a229c"
      },
      "source": [
        "!ls -la /content/index"
      ],
      "execution_count": 49,
      "outputs": [
        {
          "output_type": "stream",
          "name": "stdout",
          "text": [
            "total 13060\n",
            "drwxr-xr-x 2 root root    4096 Nov 21 20:36 .\n",
            "drwxr-xr-x 1 root root    4096 Nov 21 20:36 ..\n",
            "-rw-r--r-- 1 root root 8667309 Nov 21 20:36 lsi_matrixsim.index\n",
            "-rw-r--r-- 1 root root   77780 Nov 21 20:36 lsi.model\n",
            "-rw-r--r-- 1 root root 4018291 Nov 21 20:36 lsi.model.projection\n",
            "-rw-r--r-- 1 root root  489601 Nov 21 20:36 tfidf.index\n",
            "-rw-r--r-- 1 root root  101916 Nov 21 20:36 tfidf.model\n"
          ]
        }
      ]
    },
    {
      "cell_type": "markdown",
      "metadata": {
        "id": "pDxTCAGv9MmZ"
      },
      "source": [
        "### Test for single tunes"
      ]
    },
    {
      "cell_type": "code",
      "metadata": {
        "colab": {
          "base_uri": "https://localhost:8080/"
        },
        "id": "khASSJ1eEuf5",
        "outputId": "8578cc2a-622c-499f-d5f7-4dc147248e41"
      },
      "source": [
        "%%time\n",
        "df_sim = get_sim_scores(tunes_eval_list, index=index_lsi, model=lsi)\n",
        "df_lsi = df_sim[:]"
      ],
      "execution_count": 50,
      "outputs": [
        {
          "output_type": "stream",
          "name": "stdout",
          "text": [
            "\n",
            "--------------------------------------------------\n",
            "125 After You've Gone, section1 (A)\n",
            "126 After You've Gone, section2 (B)\n",
            "127 After You've Gone, section3 (A)\n",
            "128 After You've Gone, section4 (C)\n",
            "\n",
            "--------------------------------------------------\n",
            "188 All God's Chillun Got Rhythm, section1 (A)\n",
            "189 All God's Chillun Got Rhythm, section2 (B)\n",
            "190 All God's Chillun Got Rhythm, section3 (A)\n",
            "191 All God's Chillun Got Rhythm, section4 (C)\n",
            "\n",
            "--------------------------------------------------\n",
            "198 All Of Me, section1 (A)\n",
            "199 All Of Me, section2 (B)\n",
            "200 All Of Me, section3 (A)\n",
            "201 All Of Me, section4 (C)\n",
            "\n",
            "--------------------------------------------------\n",
            "474 Blood Count, section1 (A)\n",
            "475 Blood Count, section2 (A)\n",
            "476 Blood Count, section3 (B)\n",
            "477 Blood Count, section4 (A)\n",
            "478 Blood Count, section5 (C)\n",
            "\n",
            "--------------------------------------------------\n",
            "496 Blue Moon, section1 (A)\n",
            "497 Blue Moon, section2 (A)\n",
            "498 Blue Moon, section3 (B)\n",
            "499 Blue Moon, section4 (A)\n",
            "\n",
            "--------------------------------------------------\n",
            "626 But Beautiful, section1 (A)\n",
            "627 But Beautiful, section2 (B)\n",
            "628 But Beautiful, section3 (A)\n",
            "629 But Beautiful, section4 (C)\n",
            "\n",
            "--------------------------------------------------\n",
            "653 Bye Bye Blackbird, section1 (A)\n",
            "654 Bye Bye Blackbird, section2 (B)\n",
            "4569 Bye Bye Blackbird, section1 (A)\n",
            "4570 Bye Bye Blackbird, section2 (B)\n",
            "4571 Bye Bye Blackbird, section3 (C)\n",
            "\n",
            "--------------------------------------------------\n",
            "676 Call Me Irresponsible, section1 (A)\n",
            "677 Call Me Irresponsible, section2 (B)\n",
            "678 Call Me Irresponsible, section3 (A)\n",
            "679 Call Me Irresponsible, section4 (B)\n",
            "\n",
            "--------------------------------------------------\n",
            "826 Corcovado, section1 (A)\n",
            "827 Corcovado, section2 (B)\n",
            "828 Corcovado, section3 (A)\n",
            "829 Corcovado, section4 (C)\n",
            "\n",
            "--------------------------------------------------\n",
            "997 Dinah, section1 (A)\n",
            "998 Dinah, section2 (A)\n",
            "999 Dinah, section3 (B)\n",
            "1000 Dinah, section4 (A)\n",
            "\n",
            "--------------------------------------------------\n",
            "1125 East Of The Sun, section1 (A)\n",
            "1126 East Of The Sun, section2 (B)\n",
            "1127 East Of The Sun, section3 (A)\n",
            "1128 East Of The Sun, section4 (C)\n",
            "\n",
            "--------------------------------------------------\n",
            "1287 Footprints, section0 (nan)\n",
            "\n",
            "--------------------------------------------------\n",
            "1379 Giant Steps, section0 (nan)\n",
            "\n",
            "--------------------------------------------------\n",
            "1538 Honeysuckle Rose, section1 (A)\n",
            "1539 Honeysuckle Rose, section2 (A)\n",
            "1540 Honeysuckle Rose, section3 (B)\n",
            "1541 Honeysuckle Rose, section4 (A)\n",
            "4793 Honeysuckle Rose, section1 (A)\n",
            "4794 Honeysuckle Rose, section2 (A)\n",
            "4795 Honeysuckle Rose, section3 (B)\n",
            "4796 Honeysuckle Rose, section4 (A)\n",
            "\n",
            "--------------------------------------------------\n",
            "1647 I Got Rhythm, section1 (A)\n",
            "1648 I Got Rhythm, section2 (A)\n",
            "1649 I Got Rhythm, section3 (B)\n",
            "1650 I Got Rhythm, section4 (A)\n",
            "4821 I Got Rhythm, section1 (A)\n",
            "4822 I Got Rhythm, section2 (A)\n",
            "4823 I Got Rhythm, section3 (B)\n",
            "4824 I Got Rhythm, section4 (A)\n",
            "\n",
            "--------------------------------------------------\n",
            "2676 Misty, section1 (A)\n",
            "2677 Misty, section2 (A)\n",
            "2678 Misty, section3 (B)\n",
            "2679 Misty, section4 (A)\n",
            "\n",
            "--------------------------------------------------\n",
            "2863 Naima, section1 (A)\n",
            "2864 Naima, section2 (A)\n",
            "2865 Naima, section3 (B)\n",
            "2866 Naima, section4 (A)\n",
            "\n",
            "--------------------------------------------------\n",
            "5056 Old Fashioned Love, section0 (nan)\n",
            "\n",
            "--------------------------------------------------\n",
            "3148 Perdido, section1 (A)\n",
            "3149 Perdido, section2 (A)\n",
            "3150 Perdido, section3 (B)\n",
            "3151 Perdido, section4 (A)\n",
            "\n",
            "--------------------------------------------------\n",
            "3282 Rockin' Chair, section1 (A)\n",
            "3283 Rockin' Chair, section2 (B)\n",
            "3284 Rockin' Chair, section3 (A)\n",
            "5122 Rockin' Chair, section1 (A)\n",
            "5123 Rockin' Chair, section2 (B)\n",
            "5124 Rockin' Chair, section3 (A)\n",
            "\n",
            "--------------------------------------------------\n",
            "3584 Sophisticated Lady, section1 (A)\n",
            "3585 Sophisticated Lady, section2 (A)\n",
            "3586 Sophisticated Lady, section3 (B)\n",
            "3587 Sophisticated Lady, section4 (A)\n",
            "\n",
            "--------------------------------------------------\n",
            "3752 Sweet Sue, Just You, section1 (A)\n",
            "3753 Sweet Sue, Just You, section2 (A)\n",
            "3754 Sweet Sue, Just You, section3 (B)\n",
            "3755 Sweet Sue, Just You, section4 (A)\n",
            "\n",
            "--------------------------------------------------\n",
            "3866 These Foolish Things, section1 (A)\n",
            "3867 These Foolish Things, section2 (A)\n",
            "3868 These Foolish Things, section3 (B)\n",
            "3869 These Foolish Things, section4 (A)\n",
            "\n",
            "--------------------------------------------------\n",
            "4152 We'll Be Together Again, section1 (A)\n",
            "4153 We'll Be Together Again, section2 (A)\n",
            "4154 We'll Be Together Again, section3 (B)\n",
            "4155 We'll Be Together Again, section4 (A)\n",
            "CPU times: user 16.6 s, sys: 262 ms, total: 16.8 s\n",
            "Wall time: 16.6 s\n"
          ]
        }
      ]
    },
    {
      "cell_type": "code",
      "metadata": {
        "colab": {
          "base_uri": "https://localhost:8080/",
          "height": 542
        },
        "id": "X31lkvUsDAsU",
        "outputId": "6521ee50-f994-47ea-d907-97ae96e6d2eb"
      },
      "source": [
        "import plotly.express as px\n",
        "fig = px.histogram(df_sim, x=\"score\", nbins=50, title='LSI Scores')\n",
        "fig.show()"
      ],
      "execution_count": 51,
      "outputs": [
        {
          "output_type": "display_data",
          "data": {
            "text/html": [
              "<html>\n",
              "<head><meta charset=\"utf-8\" /></head>\n",
              "<body>\n",
              "    <div>\n",
              "            <script src=\"https://cdnjs.cloudflare.com/ajax/libs/mathjax/2.7.5/MathJax.js?config=TeX-AMS-MML_SVG\"></script><script type=\"text/javascript\">if (window.MathJax) {MathJax.Hub.Config({SVG: {font: \"STIX-Web\"}});}</script>\n",
              "                <script type=\"text/javascript\">window.PlotlyConfig = {MathJaxConfig: 'local'};</script>\n",
              "        <script src=\"https://cdn.plot.ly/plotly-latest.min.js\"></script>    \n",
              "            <div id=\"4235a5fc-25b2-4ad2-a9f0-9ee8e2bbf9c8\" class=\"plotly-graph-div\" style=\"height:525px; width:100%;\"></div>\n",
              "            <script type=\"text/javascript\">\n",
              "                \n",
              "                    window.PLOTLYENV=window.PLOTLYENV || {};\n",
              "                    \n",
              "                if (document.getElementById(\"4235a5fc-25b2-4ad2-a9f0-9ee8e2bbf9c8\")) {\n",
              "                    Plotly.newPlot(\n",
              "                        '4235a5fc-25b2-4ad2-a9f0-9ee8e2bbf9c8',\n",
              "                        [{\"alignmentgroup\": \"True\", \"bingroup\": \"x\", \"hoverlabel\": {\"namelength\": 0}, \"hovertemplate\": \"score=%{x}<br>count=%{y}\", \"legendgroup\": \"\", \"marker\": {\"color\": \"#636efa\"}, \"name\": \"\", \"nbinsx\": 50, \"offsetgroup\": \"\", \"orientation\": \"v\", \"showlegend\": false, \"type\": \"histogram\", \"x\": [0.6333112120628357, 0.6333112120628357, 0.6333112120628357, 0.6333112120628357, 0.6186203360557556, 0.5451877117156982, 0.5417932271957397, 0.522881269454956, 0.522881269454956, 0.5214576125144958, 0.5214576125144958, 0.5173736214637756, 0.5158264636993408, 0.4997207820415497, 0.4997207820415497, 0.4963613450527191, 0.4886007606983185, 0.48507964611053467, 0.4831116199493408, 0.4801892638206482, 0.48007872700691223, 0.4792942404747009, 0.4717869162559509, 0.46426135301589966, 0.4606528580188751, 0.45912256836891174, 0.45912256836891174, 0.4441547989845276, 0.44205376505851746, 0.44205376505851746, 0.4370156228542328, 0.43638238310813904, 0.43375664949417114, 0.43233421444892883, 0.43233421444892883, 0.4270274043083191, 0.42612648010253906, 0.42612648010253906, 0.4256903827190399, 0.4230376183986664, 0.4199313223361969, 0.8173404335975647, 0.7757939100265503, 0.7461385726928711, 0.7461385726928711, 0.6988130211830139, 0.6988130211830139, 0.6891555190086365, 0.6745859384536743, 0.6411818861961365, 0.6411818861961365, 0.6411818861961365, 0.638029158115387, 0.6195471882820129, 0.6162075996398926, 0.604637086391449, 0.5970628261566162, 0.5965576767921448, 0.5965576767921448, 0.589602530002594, 0.5826025009155273, 0.5826025009155273, 0.5826025009155273, 0.5744426250457764, 0.5744426250457764, 0.5669612288475037, 0.5669612288475037, 0.5669612288475037, 0.559140682220459, 0.5583364963531494, 0.5512819290161133, 0.5511900782585144, 0.5504075884819031, 0.5452923774719238, 0.5445016622543335, 0.5422840714454651, 0.5394969582557678, 0.5394969582557678, 0.5377012491226196, 0.5374211668968201, 0.5343062877655029, 0.5343062877655029, 0.6333112120628357, 0.6333112120628357, 0.6333112120628357, 0.6333112120628357, 0.6186203360557556, 0.5451877117156982, 0.5417932271957397, 0.522881269454956, 0.522881269454956, 0.5214576125144958, 0.5214576125144958, 0.5173736214637756, 0.5158264636993408, 0.4997207820415497, 0.4997207820415497, 0.4963613450527191, 0.4886007606983185, 0.48507964611053467, 0.4831116199493408, 0.4801892638206482, 0.48007872700691223, 0.4792942404747009, 0.4717869162559509, 0.46426135301589966, 0.4606528580188751, 0.45912256836891174, 0.45912256836891174, 0.4441547989845276, 0.44205376505851746, 0.44205376505851746, 0.4370156228542328, 0.43638238310813904, 0.43375664949417114, 0.43233421444892883, 0.43233421444892883, 0.4270274043083191, 0.42612648010253906, 0.42612648010253906, 0.4256903827190399, 0.4230376183986664, 0.4199313223361969, 0.688704788684845, 0.6455067992210388, 0.636909544467926, 0.6315245032310486, 0.6307950019836426, 0.6182572841644287, 0.6105848550796509, 0.6084926724433899, 0.6061593890190125, 0.6047033667564392, 0.6003353595733643, 0.5981224179267883, 0.597477912902832, 0.5949169993400574, 0.5949169993400574, 0.5933619737625122, 0.5905389189720154, 0.5869976878166199, 0.5869976878166199, 0.5825672149658203, 0.5805749893188477, 0.5805749893188477, 0.58021479845047, 0.5759251713752747, 0.5751349925994873, 0.5739021301269531, 0.5739021301269531, 0.5729952454566956, 0.5729952454566956, 0.5729952454566956, 0.572650134563446, 0.5718967914581299, 0.5705533623695374, 0.5703091025352478, 0.5688077807426453, 0.56135493516922, 0.5583231449127197, 0.5573126673698425, 0.5568124055862427, 0.5568124055862427, 0.5553426146507263, 0.919765293598175, 0.9178508520126343, 0.9160675406455994, 0.9160675406455994, 0.9063360095024109, 0.9063360095024109, 0.9055687189102173, 0.8839035034179688, 0.8809822797775269, 0.8772476315498352, 0.875360369682312, 0.8723050355911255, 0.8637758493423462, 0.8619635105133057, 0.8571392893791199, 0.8565514087677002, 0.8558356165885925, 0.8505058884620667, 0.8460150361061096, 0.8410689830780029, 0.8375394344329834, 0.8345973491668701, 0.8314539194107056, 0.8306093215942383, 0.8295997381210327, 0.8295997381210327, 0.8270570039749146, 0.82444828748703, 0.8235514760017395, 0.8209489583969116, 0.8181294202804565, 0.8181160688400269, 0.817777693271637, 0.817777693271637, 0.8146005272865295, 0.8142533898353577, 0.8115615248680115, 0.8099719882011414, 0.8099719882011414, 0.8093631863594055, 0.8093560934066772, 0.8647207021713257, 0.7188337445259094, 0.7135672569274902, 0.712682843208313, 0.7111834287643433, 0.7056018710136414, 0.6956878304481506, 0.691940188407898, 0.690998911857605, 0.6838815212249756, 0.6622189283370972, 0.6580061316490173, 0.6564505696296692, 0.6555540561676025, 0.654277503490448, 0.6536931395530701, 0.6481114625930786, 0.6466502547264099, 0.6451051831245422, 0.6444960832595825, 0.6443729400634766, 0.6422226428985596, 0.6417965292930603, 0.6412478089332581, 0.6364207863807678, 0.6357062458992004, 0.6347125768661499, 0.6331061720848083, 0.6302707195281982, 0.6289892792701721, 0.6212713718414307, 0.6173622012138367, 0.6166011691093445, 0.6124311685562134, 0.6124311685562134, 0.6121621131896973, 0.6112065315246582, 0.610609769821167, 0.6096285581588745, 0.6086331605911255, 0.6079251766204834, 0.919765293598175, 0.9178508520126343, 0.9160675406455994, 0.9160675406455994, 0.9063360095024109, 0.9063360095024109, 0.9055687189102173, 0.8839035034179688, 0.8809822797775269, 0.8772476315498352, 0.875360369682312, 0.8723050355911255, 0.8637758493423462, 0.8619635105133057, 0.8571392893791199, 0.8565514087677002, 0.8558356165885925, 0.8505058884620667, 0.8460150361061096, 0.8410689830780029, 0.8375394344329834, 0.8345973491668701, 0.8314539194107056, 0.8306093215942383, 0.8295997381210327, 0.8295997381210327, 0.8270570039749146, 0.82444828748703, 0.8235514760017395, 0.8209489583969116, 0.8181294202804565, 0.8181160688400269, 0.817777693271637, 0.817777693271637, 0.8146005272865295, 0.8142533898353577, 0.8115615248680115, 0.8099719882011414, 0.8099719882011414, 0.8093631863594055, 0.8093560934066772, 0.9324219822883606, 0.8857923746109009, 0.8731670379638672, 0.8330219388008118, 0.8298704624176025, 0.8219295144081116, 0.817511796951294, 0.7984156608581543, 0.7957753539085388, 0.7932840585708618, 0.7897796034812927, 0.786643385887146, 0.7857363224029541, 0.7835389971733093, 0.7821268439292908, 0.7728128433227539, 0.7705305814743042, 0.7673999667167664, 0.7631993293762207, 0.7631993293762207, 0.7631993293762207, 0.7631180882453918, 0.7573218941688538, 0.7571905851364136, 0.7562200427055359, 0.7547824382781982, 0.7543199062347412, 0.7537768483161926, 0.7537768483161926, 0.7530596256256104, 0.7529432773590088, 0.7528572678565979, 0.7505327463150024, 0.7502596974372864, 0.7495840191841125, 0.7486286759376526, 0.7476329207420349, 0.7469131350517273, 0.741998016834259, 0.7402641773223877, 0.7389435768127441, 0.7552982568740845, 0.691058337688446, 0.6302008032798767, 0.5832110047340393, 0.5809847116470337, 0.5758123397827148, 0.5758123397827148, 0.5661630034446716, 0.5661630034446716, 0.5654059648513794, 0.5330255627632141, 0.5281715989112854, 0.5225450396537781, 0.5225450396537781, 0.5025005340576172, 0.4993283450603485, 0.4993283450603485, 0.49417293071746826, 0.49417293071746826, 0.4941035807132721, 0.4850381910800934, 0.4838472604751587, 0.48250505328178406, 0.479388952255249, 0.4788740575313568, 0.47409066557884216, 0.4681025743484497, 0.4679860472679138, 0.4646168053150177, 0.4618999660015106, 0.45651280879974365, 0.4554446339607239, 0.4550713300704956, 0.45478367805480957, 0.45478367805480957, 0.4523589313030243, 0.4485096335411072, 0.4455929696559906, 0.44339701533317566, 0.44339701533317566, 0.44146785140037537, 0.9072624444961548, 0.8320748209953308, 0.8085026144981384, 0.7985454201698303, 0.7587783932685852, 0.7557451128959656, 0.7322595715522766, 0.72755366563797, 0.7198580503463745, 0.7179975509643555, 0.7116639018058777, 0.6864227652549744, 0.6773325204849243, 0.674392819404602, 0.6679205298423767, 0.6660698652267456, 0.6564272046089172, 0.6513611674308777, 0.6405453085899353, 0.6381389498710632, 0.6356143355369568, 0.6299213171005249, 0.6182138919830322, 0.6175681948661804, 0.6132665872573853, 0.6127580404281616, 0.6127580404281616, 0.6104608774185181, 0.6093961596488953, 0.6064160466194153, 0.605368971824646, 0.6050586104393005, 0.6050586104393005, 0.6018329858779907, 0.6013544797897339, 0.5962709784507751, 0.5916626453399658, 0.5884056687355042, 0.5868136286735535, 0.5856240391731262, 0.5841374397277832, 0.7552982568740845, 0.691058337688446, 0.6302008032798767, 0.5832110047340393, 0.5809847116470337, 0.5758123397827148, 0.5758123397827148, 0.5661630034446716, 0.5661630034446716, 0.5654059648513794, 0.5330255627632141, 0.5281715989112854, 0.5225450396537781, 0.5225450396537781, 0.5025005340576172, 0.4993283450603485, 0.4993283450603485, 0.49417293071746826, 0.49417293071746826, 0.4941035807132721, 0.4850381910800934, 0.4838472604751587, 0.48250505328178406, 0.479388952255249, 0.4788740575313568, 0.47409066557884216, 0.4681025743484497, 0.4679860472679138, 0.4646168053150177, 0.4618999660015106, 0.45651280879974365, 0.4554446339607239, 0.4550713300704956, 0.45478367805480957, 0.45478367805480957, 0.4523589313030243, 0.4485096335411072, 0.4455929696559906, 0.44339701533317566, 0.44339701533317566, 0.44146785140037537, 0.8762454986572266, 0.8211491703987122, 0.8211491703987122, 0.795235812664032, 0.795235812664032, 0.7951614856719971, 0.7950722575187683, 0.7941361665725708, 0.7906685471534729, 0.7902994751930237, 0.7879099249839783, 0.7855010032653809, 0.7855010032653809, 0.779916524887085, 0.7797822952270508, 0.7729120254516602, 0.770366907119751, 0.770366907119751, 0.7687174081802368, 0.7662568092346191, 0.7646111249923706, 0.7640602588653564, 0.7634506225585938, 0.762660562992096, 0.7522008419036865, 0.7500842809677124, 0.7500842809677124, 0.7461636662483215, 0.7458063960075378, 0.7435306906700134, 0.7434988617897034, 0.7432783842086792, 0.742093026638031, 0.7410067319869995, 0.739995002746582, 0.7370705604553223, 0.7370705604553223, 0.7350258827209473, 0.7349346876144409, 0.7347512245178223, 0.7323235273361206, 0.7237090468406677, 0.7237090468406677, 0.6532948017120361, 0.6224472522735596, 0.6149929165840149, 0.5961745977401733, 0.5918558835983276, 0.5511227250099182, 0.5511227250099182, 0.5511227250099182, 0.5473230481147766, 0.5473230481147766, 0.5447338223457336, 0.5438695549964905, 0.5405699014663696, 0.5398706197738647, 0.5388020873069763, 0.5204542279243469, 0.5193867683410645, 0.5152618288993835, 0.5081219673156738, 0.49941566586494446, 0.49379509687423706, 0.4908369481563568, 0.4885067641735077, 0.486576646566391, 0.4840226471424103, 0.4806300401687622, 0.47781166434288025, 0.473635196685791, 0.47197169065475464, 0.4717862010002136, 0.46897828578948975, 0.46451130509376526, 0.4639616906642914, 0.45703110098838806, 0.4533330798149109, 0.4473835825920105, 0.44494539499282837, 0.44471386075019836, 0.44471386075019836, 0.5868242979049683, 0.5787085890769958, 0.5756695866584778, 0.5756695866584778, 0.5610048770904541, 0.5610048770904541, 0.5043942332267761, 0.4851033389568329, 0.4851033389568329, 0.48220741748809814, 0.48142436146736145, 0.48142436146736145, 0.48142436146736145, 0.46002689003944397, 0.46002689003944397, 0.4594462811946869, 0.4499281346797943, 0.4499281346797943, 0.4499281346797943, 0.4441814124584198, 0.4441814124584198, 0.44387808442115784, 0.44387808442115784, 0.43943145871162415, 0.4393439292907715, 0.43908563256263733, 0.43662920594215393, 0.43662920594215393, 0.4315147399902344, 0.4294307231903076, 0.4288884997367859, 0.4288884997367859, 0.42631077766418457, 0.4258801341056824, 0.4227060079574585, 0.4227060079574585, 0.4227060079574585, 0.4216797649860382, 0.4216797649860382, 0.42163410782814026, 0.4209901690483093, 0.5569740533828735, 0.49224716424942017, 0.49224716424942017, 0.4787628650665283, 0.4204014241695404, 0.4193519651889801, 0.4193519651889801, 0.3879329264163971, 0.35909318923950195, 0.35909318923950195, 0.35909318923950195, 0.3554372191429138, 0.2644351124763489, 0.25456228852272034, 0.2521847188472748, 0.2185862958431244, 0.21653616428375244, 0.21077272295951843, 0.20718473196029663, 0.20627284049987793, 0.2053665667772293, 0.20056234300136566, 0.1979926973581314, 0.1979926973581314, 0.1979926973581314, 0.19581063091754913, 0.19505691528320312, 0.19308516383171082, 0.19288036227226257, 0.19262880086898804, 0.19093607366085052, 0.1900717318058014, 0.18975625932216644, 0.18421408534049988, 0.18144194781780243, 0.1806279569864273, 0.17962725460529327, 0.17805790901184082, 0.17595116794109344, 0.174783393740654, 0.1743086874485016, 0.5868242979049683, 0.5787085890769958, 0.5756695866584778, 0.5756695866584778, 0.5610048770904541, 0.5610048770904541, 0.5043942332267761, 0.4851033389568329, 0.4851033389568329, 0.48220741748809814, 0.48142436146736145, 0.48142436146736145, 0.48142436146736145, 0.46002689003944397, 0.46002689003944397, 0.4594462811946869, 0.4499281346797943, 0.4499281346797943, 0.4499281346797943, 0.4441814124584198, 0.4441814124584198, 0.44387808442115784, 0.44387808442115784, 0.43943145871162415, 0.4393439292907715, 0.43908563256263733, 0.43662920594215393, 0.43662920594215393, 0.4315147399902344, 0.4294307231903076, 0.4288884997367859, 0.4288884997367859, 0.42631077766418457, 0.4258801341056824, 0.4227060079574585, 0.4227060079574585, 0.4227060079574585, 0.4216797649860382, 0.4216797649860382, 0.42163410782814026, 0.4209901690483093, 0.8083559274673462, 0.7813995480537415, 0.6411202549934387, 0.635475218296051, 0.6340267658233643, 0.6265660524368286, 0.6208939552307129, 0.6148510575294495, 0.5762504935264587, 0.5586242079734802, 0.5542159676551819, 0.5329699516296387, 0.5274715423583984, 0.5146404504776001, 0.5146404504776001, 0.4862706661224365, 0.4789711833000183, 0.44301271438598633, 0.42607372999191284, 0.4224633276462555, 0.4084199368953705, 0.4029601514339447, 0.38313284516334534, 0.379936546087265, 0.3773597180843353, 0.37003594636917114, 0.36759334802627563, 0.3570578992366791, 0.3554088771343231, 0.3519824147224426, 0.3491877615451813, 0.3467622995376587, 0.33155524730682373, 0.3134377598762512, 0.31210631132125854, 0.3093549907207489, 0.29427701234817505, 0.29124677181243896, 0.29124677181243896, 0.28721529245376587, 0.2869609296321869, 0.9304872155189514, 0.9304872155189514, 0.9199255108833313, 0.9188202023506165, 0.9132320880889893, 0.9095704555511475, 0.8990854024887085, 0.8809857964515686, 0.8751438856124878, 0.8751438856124878, 0.8710806965827942, 0.8563640117645264, 0.8554462790489197, 0.8517665266990662, 0.8479016423225403, 0.8438358306884766, 0.8389217257499695, 0.8330134749412537, 0.8326612710952759, 0.8295997381210327, 0.8295997381210327, 0.8251086473464966, 0.8239683508872986, 0.8191251158714294, 0.8170531392097473, 0.8124255537986755, 0.8124255537986755, 0.8092837333679199, 0.8006362318992615, 0.8006362318992615, 0.7972065210342407, 0.7920695543289185, 0.7918832898139954, 0.7905236482620239, 0.7879874110221863, 0.7841992974281311, 0.7837054133415222, 0.7787252068519592, 0.7743028402328491, 0.770357608795166, 0.7692880630493164, 0.8823966383934021, 0.8823966383934021, 0.8524438738822937, 0.8449662327766418, 0.8429420590400696, 0.8309363722801208, 0.8213170170783997, 0.8125917315483093, 0.7995377779006958, 0.7960911989212036, 0.7960911989212036, 0.7906643152236938, 0.7847500443458557, 0.7847500443458557, 0.7831807732582092, 0.7818345427513123, 0.7793092131614685, 0.7779971361160278, 0.7750052809715271, 0.7731280326843262, 0.7725719213485718, 0.7699968814849854, 0.7692270278930664, 0.7548567056655884, 0.7526153922080994, 0.7526153922080994, 0.7504644989967346, 0.7456328272819519, 0.7283551692962646, 0.7283551692962646, 0.7267118096351624, 0.7257699966430664, 0.7256332635879517, 0.7246129512786865, 0.7225744128227234, 0.7225744128227234, 0.7208324670791626, 0.7150378227233887, 0.713699221611023, 0.7136003375053406, 0.7122273445129395, 0.8689603805541992, 0.8689603805541992, 0.8565606474876404, 0.855226457118988, 0.8549185991287231, 0.831403374671936, 0.831403374671936, 0.8250692486763, 0.8221021890640259, 0.8193296790122986, 0.8174009919166565, 0.8174009919166565, 0.8148232102394104, 0.8069183826446533, 0.7990303635597229, 0.7983635067939758, 0.7976553440093994, 0.7976553440093994, 0.796783447265625, 0.7942403554916382, 0.7934144139289856, 0.7918399572372437, 0.7918358445167542, 0.7905004620552063, 0.7787885665893555, 0.7756891846656799, 0.7744119763374329, 0.7674694061279297, 0.7612907886505127, 0.7596449851989746, 0.7590965032577515, 0.7569946646690369, 0.7543983459472656, 0.7537325024604797, 0.7537325024604797, 0.7500513792037964, 0.7484523057937622, 0.7462625503540039, 0.7462625503540039, 0.7461640238761902, 0.744101345539093, 0.9304872155189514, 0.9304872155189514, 0.9199255108833313, 0.9188202023506165, 0.9132320880889893, 0.9095704555511475, 0.8990854024887085, 0.8809857964515686, 0.8751438856124878, 0.8751438856124878, 0.8710806965827942, 0.8563640117645264, 0.8554462790489197, 0.8517665266990662, 0.8479016423225403, 0.8438358306884766, 0.8389217257499695, 0.8330134749412537, 0.8326612710952759, 0.8295997381210327, 0.8295997381210327, 0.8251086473464966, 0.8239683508872986, 0.8191251158714294, 0.8170531392097473, 0.8124255537986755, 0.8124255537986755, 0.8092837333679199, 0.8006362318992615, 0.8006362318992615, 0.7972065210342407, 0.7920695543289185, 0.7918832898139954, 0.7905236482620239, 0.7879874110221863, 0.7841992974281311, 0.7837054133415222, 0.7787252068519592, 0.7743028402328491, 0.770357608795166, 0.7692880630493164, 0.746841311454773, 0.746841311454773, 0.7384918928146362, 0.6670101284980774, 0.655950665473938, 0.6314778923988342, 0.6282836198806763, 0.6222583651542664, 0.6222583651542664, 0.6215236783027649, 0.6159836053848267, 0.6159836053848267, 0.6159836053848267, 0.6156893968582153, 0.6156893968582153, 0.6152717471122742, 0.6126365661621094, 0.6115225553512573, 0.6110934615135193, 0.6082495450973511, 0.6082495450973511, 0.6064106225967407, 0.6017810702323914, 0.600688099861145, 0.5967263579368591, 0.5868536829948425, 0.5802125930786133, 0.5711661577224731, 0.5667926669120789, 0.5667179822921753, 0.5615944266319275, 0.5610781908035278, 0.5537424087524414, 0.5531226396560669, 0.5509073138237, 0.5487543940544128, 0.5454782247543335, 0.5410284996032715, 0.5410284996032715, 0.5400576591491699, 0.5400576591491699, 0.8339452743530273, 0.8043836355209351, 0.8013151288032532, 0.8008126020431519, 0.7912647128105164, 0.7895721197128296, 0.7895721197128296, 0.7804197072982788, 0.7730512022972107, 0.7730512022972107, 0.7712234258651733, 0.769428014755249, 0.7674717903137207, 0.759333074092865, 0.7556291818618774, 0.7529096007347107, 0.7399998903274536, 0.7399998903274536, 0.7373586893081665, 0.7366850972175598, 0.7365537881851196, 0.7362821698188782, 0.7331727147102356, 0.7331727147102356, 0.7331050634384155, 0.7328616976737976, 0.7328616976737976, 0.7230346202850342, 0.716387927532196, 0.7161352038383484, 0.7160301208496094, 0.715632438659668, 0.7151156663894653, 0.714128851890564, 0.714128851890564, 0.7130194902420044, 0.7123589515686035, 0.7123589515686035, 0.7087857127189636, 0.7065809965133667, 0.7061474323272705, 0.746841311454773, 0.746841311454773, 0.7384918928146362, 0.6670101284980774, 0.655950665473938, 0.6314778923988342, 0.6282836198806763, 0.6222583651542664, 0.6222583651542664, 0.6215236783027649, 0.6159836053848267, 0.6159836053848267, 0.6159836053848267, 0.6156893968582153, 0.6156893968582153, 0.6152717471122742, 0.6126365661621094, 0.6115225553512573, 0.6110934615135193, 0.6082495450973511, 0.6082495450973511, 0.6064106225967407, 0.6017810702323914, 0.600688099861145, 0.5967263579368591, 0.5868536829948425, 0.5802125930786133, 0.5711661577224731, 0.5667926669120789, 0.5667179822921753, 0.5615944266319275, 0.5610781908035278, 0.5537424087524414, 0.5531226396560669, 0.5509073138237, 0.5487543940544128, 0.5454782247543335, 0.5410284996032715, 0.5410284996032715, 0.5400576591491699, 0.5400576591491699, 0.8117871284484863, 0.8106011152267456, 0.795745313167572, 0.7809267044067383, 0.7764290571212769, 0.7749747633934021, 0.767765462398529, 0.7638485431671143, 0.7612665295600891, 0.7532310485839844, 0.7478872537612915, 0.7471387386322021, 0.7435760498046875, 0.7430688738822937, 0.7413666248321533, 0.7395325303077698, 0.7389863729476929, 0.7363707423210144, 0.7327769994735718, 0.7321218848228455, 0.7256656289100647, 0.7252227663993835, 0.7250128388404846, 0.7174581289291382, 0.7162704467773438, 0.7162704467773438, 0.7120084762573242, 0.7116672396659851, 0.7083295583724976, 0.6978873610496521, 0.6973833441734314, 0.6941147446632385, 0.6936694383621216, 0.6923430562019348, 0.692093551158905, 0.6908735036849976, 0.6902260780334473, 0.6892486214637756, 0.6867572665214539, 0.6856109499931335, 0.6855618357658386, 0.9184786677360535, 0.8978646993637085, 0.8795928359031677, 0.8795928359031677, 0.8783301115036011, 0.8764689564704895, 0.8712712526321411, 0.8712712526321411, 0.8712712526321411, 0.8576812148094177, 0.8549397587776184, 0.8494986891746521, 0.8460224866867065, 0.8451904058456421, 0.8447577953338623, 0.8431251645088196, 0.8431251645088196, 0.8431251645088196, 0.8425582647323608, 0.8425582647323608, 0.8394054174423218, 0.8374727964401245, 0.8329848051071167, 0.8329848051071167, 0.831614077091217, 0.8235567212104797, 0.8183460831642151, 0.8158245086669922, 0.8149598240852356, 0.8117425441741943, 0.8115404844284058, 0.8105823397636414, 0.8093384504318237, 0.8079137206077576, 0.804706871509552, 0.8044140934944153, 0.8031240701675415, 0.799360454082489, 0.7963460087776184, 0.7961771488189697, 0.7956045269966125, 0.8400970101356506, 0.8400970101356506, 0.8400970101356506, 0.8372852206230164, 0.8289084434509277, 0.8272874355316162, 0.8222699165344238, 0.8174891471862793, 0.8114517331123352, 0.8104047179222107, 0.8091311454772949, 0.8091311454772949, 0.8056554198265076, 0.7818817496299744, 0.7627885341644287, 0.7626203894615173, 0.7601429224014282, 0.7597325444221497, 0.7597325444221497, 0.7546208500862122, 0.7545949816703796, 0.7545319199562073, 0.7529614567756653, 0.7522239685058594, 0.748354434967041, 0.7481406927108765, 0.7431936860084534, 0.7401576042175293, 0.7384724617004395, 0.73846435546875, 0.7381424307823181, 0.7381424307823181, 0.7373663783073425, 0.7357915639877319, 0.734735906124115, 0.734735906124115, 0.7330487966537476, 0.7303544878959656, 0.7301121354103088, 0.7284591794013977, 0.7279402613639832, 0.792766273021698, 0.7907173037528992, 0.7714350819587708, 0.7610352635383606, 0.7576355338096619, 0.7559565901756287, 0.7559565901756287, 0.7473127841949463, 0.7464896440505981, 0.7460323572158813, 0.7452958822250366, 0.7452958822250366, 0.7452958822250366, 0.7325933575630188, 0.7214183807373047, 0.7214183807373047, 0.7214183807373047, 0.7199190855026245, 0.719542920589447, 0.719542920589447, 0.7166987657546997, 0.7143567204475403, 0.7120411992073059, 0.7120411992073059, 0.7120411992073059, 0.7101588249206543, 0.7053110003471375, 0.702489972114563, 0.702489972114563, 0.6954984664916992, 0.6949617266654968, 0.6949617266654968, 0.6918585300445557, 0.6866607069969177, 0.6790936589241028, 0.6774104833602905, 0.6774104833602905, 0.6757988333702087, 0.6757988333702087, 0.6754886507987976, 0.6726400852203369, 0.6910784840583801, 0.6910784840583801, 0.6888327598571777, 0.6888327598571777, 0.5222010612487793, 0.5222010612487793, 0.5068162083625793, 0.4886079430580139, 0.4886079430580139, 0.4691470265388489, 0.4691470265388489, 0.4691470265388489, 0.4691470265388489, 0.4691470265388489, 0.4691470265388489, 0.4691470265388489, 0.4691470265388489, 0.4691470265388489, 0.4691470265388489, 0.4691470265388489, 0.4691470265388489, 0.4691470265388489, 0.4691470265388489, 0.4691470265388489, 0.4691470265388489, 0.4691470265388489, 0.4691470265388489, 0.46829742193222046, 0.4652491807937622, 0.4652491807937622, 0.4639284312725067, 0.4639284312725067, 0.45921996235847473, 0.4518071115016937, 0.4500022828578949, 0.4485922157764435, 0.44674012064933777, 0.4455128014087677, 0.4440184533596039, 0.43228721618652344, 0.42854782938957214, 0.813461184501648, 0.813461184501648, 0.8085951209068298, 0.8085951209068298, 0.7913585305213928, 0.7913585305213928, 0.75836580991745, 0.75836580991745, 0.75836580991745, 0.7545947432518005, 0.7543673515319824, 0.7508494257926941, 0.7508494257926941, 0.7508494257926941, 0.7504618763923645, 0.7443046569824219, 0.7443046569824219, 0.7409729361534119, 0.7406343221664429, 0.7399136424064636, 0.7399136424064636, 0.7356534004211426, 0.7356534004211426, 0.7356534004211426, 0.7339876294136047, 0.7330465912818909, 0.7251474261283875, 0.7250880002975464, 0.7245813608169556, 0.7237221002578735, 0.722297728061676, 0.722297728061676, 0.722297728061676, 0.7208495140075684, 0.7203913927078247, 0.7146927118301392, 0.7144144773483276, 0.7142715454101562, 0.7142376899719238, 0.7139091491699219, 0.7129008173942566, 0.5884336233139038, 0.5884336233139038, 0.5479454398155212, 0.50608229637146, 0.4993283450603485, 0.4993283450603485, 0.4713263213634491, 0.4622201919555664, 0.4622201919555664, 0.4609530568122864, 0.449002206325531, 0.44723019003868103, 0.4413212239742279, 0.4413212239742279, 0.4397953152656555, 0.4332599639892578, 0.4223752021789551, 0.41180211305618286, 0.3909885287284851, 0.38797527551651, 0.386870414018631, 0.3776349723339081, 0.37215596437454224, 0.3680180013179779, 0.3680180013179779, 0.3680180013179779, 0.36713477969169617, 0.36595290899276733, 0.3613910675048828, 0.3548397421836853, 0.3511500656604767, 0.35112297534942627, 0.35112297534942627, 0.3501685559749603, 0.34833016991615295, 0.34833016991615295, 0.3451765775680542, 0.3451201915740967, 0.34463512897491455, 0.34454360604286194, 0.34412699937820435, 0.8886817693710327, 0.8886817693710327, 0.8424705862998962, 0.8212798237800598, 0.8062727451324463, 0.78404301404953, 0.7778087258338928, 0.7768853902816772, 0.759593665599823, 0.7544946074485779, 0.7427734136581421, 0.7427095174789429, 0.7401778101921082, 0.7393814325332642, 0.7392151355743408, 0.7297780513763428, 0.725868821144104, 0.725868821144104, 0.7225133776664734, 0.7158463001251221, 0.714501142501831, 0.7093050479888916, 0.7081311941146851, 0.7078960537910461, 0.7076827883720398, 0.7076827883720398, 0.7069532871246338, 0.704898476600647, 0.6984491348266602, 0.6978549361228943, 0.6970577836036682, 0.6947316527366638, 0.6935054659843445, 0.6909433603286743, 0.6901514530181885, 0.6890815496444702, 0.6878572702407837, 0.6869188547134399, 0.6786774396896362, 0.6779547929763794, 0.6772717833518982, 0.5884336233139038, 0.5884336233139038, 0.5479454398155212, 0.50608229637146, 0.4993283450603485, 0.4993283450603485, 0.4713263213634491, 0.4622201919555664, 0.4622201919555664, 0.4609530568122864, 0.449002206325531, 0.44723019003868103, 0.4413212239742279, 0.4413212239742279, 0.4397953152656555, 0.4332599639892578, 0.4223752021789551, 0.41180211305618286, 0.3909885287284851, 0.38797527551651, 0.386870414018631, 0.3776349723339081, 0.37215596437454224, 0.3680180013179779, 0.3680180013179779, 0.3680180013179779, 0.36713477969169617, 0.36595290899276733, 0.3613910675048828, 0.3548397421836853, 0.3511500656604767, 0.35112297534942627, 0.35112297534942627, 0.3501685559749603, 0.34833016991615295, 0.34833016991615295, 0.3451765775680542, 0.3451201915740967, 0.34463512897491455, 0.34454360604286194, 0.34412699937820435, 0.8642546534538269, 0.8632065653800964, 0.855140745639801, 0.8512572050094604, 0.8459786772727966, 0.8316300511360168, 0.8255914449691772, 0.8209716081619263, 0.8194189071655273, 0.8177648782730103, 0.8171073794364929, 0.8169435858726501, 0.8142714500427246, 0.8140206933021545, 0.8138114809989929, 0.8115766048431396, 0.8115766048431396, 0.8089180588722229, 0.8089180588722229, 0.808434247970581, 0.8046363592147827, 0.7994927167892456, 0.7944642901420593, 0.7903967499732971, 0.7896336913108826, 0.7895447015762329, 0.7890166640281677, 0.7880750894546509, 0.7880750894546509, 0.7868953347206116, 0.7868953347206116, 0.781883180141449, 0.7801110148429871, 0.7770773768424988, 0.7767418026924133, 0.7766014933586121, 0.7765001058578491, 0.7763907313346863, 0.7755184173583984, 0.771365225315094, 0.7712814807891846, 0.6445658802986145, 0.625503420829773, 0.6185497045516968, 0.6122629642486572, 0.6050828099250793, 0.5798783302307129, 0.5798783302307129, 0.5741562247276306, 0.5172090530395508, 0.5139226913452148, 0.506694495677948, 0.4984842538833618, 0.49639517068862915, 0.4890395998954773, 0.48847272992134094, 0.4877433776855469, 0.4877433776855469, 0.48756715655326843, 0.4874139726161957, 0.4854249954223633, 0.4854249954223633, 0.4744451642036438, 0.4744451642036438, 0.47340303659439087, 0.47039467096328735, 0.47039467096328735, 0.47039467096328735, 0.46648499369621277, 0.4660388231277466, 0.4649524688720703, 0.4646419286727905, 0.46319615840911865, 0.46247807145118713, 0.4622412621974945, 0.4622412621974945, 0.4622412621974945, 0.46208012104034424, 0.45536577701568604, 0.4518372416496277, 0.4517624080181122, 0.4517624080181122, 0.8696308732032776, 0.745865523815155, 0.7206089496612549, 0.6938234567642212, 0.6800829172134399, 0.6769928932189941, 0.6735561490058899, 0.6550958156585693, 0.6550958156585693, 0.642979621887207, 0.6384795904159546, 0.6384795904159546, 0.634632408618927, 0.6229180693626404, 0.6133721470832825, 0.610721230506897, 0.6074989438056946, 0.6041572690010071, 0.5991122722625732, 0.5965272784233093, 0.5964564681053162, 0.5963801741600037, 0.5945234298706055, 0.5942529439926147, 0.5942529439926147, 0.591673731803894, 0.591673731803894, 0.583462655544281, 0.5826711654663086, 0.5826711654663086, 0.5820987820625305, 0.5818303823471069, 0.5788751244544983, 0.5781722068786621, 0.5755910277366638, 0.5730565786361694, 0.5678324699401855, 0.5678324699401855, 0.567033588886261, 0.5669772028923035, 0.5668513178825378, 0.6445658802986145, 0.625503420829773, 0.6185497045516968, 0.6122629642486572, 0.6050828099250793, 0.5798783302307129, 0.5798783302307129, 0.5741562247276306, 0.5172090530395508, 0.5139226913452148, 0.506694495677948, 0.4984842538833618, 0.49639517068862915, 0.4890395998954773, 0.48847272992134094, 0.4877433776855469, 0.4877433776855469, 0.48756715655326843, 0.4874139726161957, 0.4854249954223633, 0.4854249954223633, 0.4744451642036438, 0.4744451642036438, 0.47340303659439087, 0.47039467096328735, 0.47039467096328735, 0.47039467096328735, 0.46648499369621277, 0.4660388231277466, 0.4649524688720703, 0.4646419286727905, 0.46319615840911865, 0.46247807145118713, 0.4622412621974945, 0.4622412621974945, 0.4622412621974945, 0.46208012104034424, 0.45536577701568604, 0.4518372416496277, 0.4517624080181122, 0.4517624080181122, 0.8493067026138306, 0.8046092391014099, 0.8046092391014099, 0.7976803779602051, 0.795745313167572, 0.7933943867683411, 0.7907231450080872, 0.7875213027000427, 0.7846025228500366, 0.7761797308921814, 0.7735435366630554, 0.7726711630821228, 0.7718023061752319, 0.7715771198272705, 0.766927182674408, 0.7660160064697266, 0.7631754279136658, 0.7631751894950867, 0.7622159719467163, 0.761252224445343, 0.7610928416252136, 0.7601501941680908, 0.7600767612457275, 0.7582641243934631, 0.7573757767677307, 0.7572032809257507, 0.7570666670799255, 0.7560374140739441, 0.7550329566001892, 0.7527403831481934, 0.7527403831481934, 0.7519448399543762, 0.7493463158607483, 0.7480086088180542, 0.7462484240531921, 0.7461498975753784, 0.7452466487884521, 0.7445258498191833, 0.7436144351959229, 0.7425306439399719, 0.7412968873977661, 0.8698369264602661, 0.8642804026603699, 0.8561498522758484, 0.8545159697532654, 0.8411803841590881, 0.8411803841590881, 0.8309343457221985, 0.8246163725852966, 0.8226947784423828, 0.8226947784423828, 0.8222830295562744, 0.8222798705101013, 0.8216980695724487, 0.8194000720977783, 0.8184956908226013, 0.8184393644332886, 0.81305992603302, 0.81305992603302, 0.8100311160087585, 0.8060146570205688, 0.8049553632736206, 0.8048087358474731, 0.8037933111190796, 0.8037933111190796, 0.7986389994621277, 0.7953277826309204, 0.7946825623512268, 0.7929127216339111, 0.7911593317985535, 0.7905236482620239, 0.7905236482620239, 0.7890044450759888, 0.7878148555755615, 0.7855678796768188, 0.7823071479797363, 0.782251238822937, 0.7816994786262512, 0.7816994786262512, 0.7789678573608398, 0.7739155888557434, 0.7739155888557434, 0.8376277685165405, 0.8122795224189758, 0.8107621669769287, 0.8085459470748901, 0.8054426312446594, 0.8035168647766113, 0.8035168647766113, 0.8020302653312683, 0.8020302653312683, 0.7975642085075378, 0.7951059937477112, 0.7910044193267822, 0.790545642375946, 0.790545642375946, 0.7884881496429443, 0.787117600440979, 0.7870444059371948, 0.784679114818573, 0.7841992974281311, 0.7841992974281311, 0.7832005620002747, 0.7828509211540222, 0.7804087400436401, 0.7780760526657104, 0.7773607969284058, 0.7768189311027527, 0.7760180234909058, 0.7725080251693726, 0.7677693367004395, 0.7634792327880859, 0.7630812525749207, 0.760744571685791, 0.7598634958267212, 0.757699728012085, 0.757699728012085, 0.7567230463027954, 0.7544124126434326, 0.7528287768363953, 0.7521728873252869, 0.7511617541313171, 0.7483392357826233, 0.7732853889465332, 0.6808598637580872, 0.6808598637580872, 0.6808598637580872, 0.6808598637580872, 0.6808598637580872, 0.6808598637580872, 0.6808598637580872, 0.6808598637580872, 0.6808598637580872, 0.6787728071212769, 0.6472395658493042, 0.6469618082046509, 0.6442039608955383, 0.6256426572799683, 0.6248213052749634, 0.6248213052749634, 0.6247391104698181, 0.6244959831237793, 0.6201149225234985, 0.6154131889343262, 0.6145465970039368, 0.6063897609710693, 0.6045713424682617, 0.6045713424682617, 0.5952228307723999, 0.5948003530502319, 0.5945329666137695, 0.5938531160354614, 0.5808829665184021, 0.5613478422164917, 0.5552941560745239, 0.5532245635986328, 0.549266517162323, 0.5449761152267456, 0.5449145436286926, 0.5418837070465088, 0.5416456460952759, 0.5413773655891418, 0.538661003112793, 0.538638710975647, 0.878544270992279, 0.8654931783676147, 0.8596606254577637, 0.8583346605300903, 0.8582311272621155, 0.852840781211853, 0.8486001491546631, 0.8464884757995605, 0.8464884757995605, 0.840183436870575, 0.840183436870575, 0.8308914303779602, 0.8303717374801636, 0.8276643753051758, 0.8239425420761108, 0.8237043619155884, 0.8235310316085815, 0.8200045228004456, 0.8193305134773254, 0.8181408047676086, 0.8125181198120117, 0.8125181198120117, 0.8101407289505005, 0.808333158493042, 0.8068459630012512, 0.8047194480895996, 0.7969377636909485, 0.7948700785636902, 0.7936726808547974, 0.7929769158363342, 0.7918832898139954, 0.7918832898139954, 0.7915288805961609, 0.7897181510925293, 0.7844977378845215, 0.7837808132171631, 0.7805091142654419, 0.7805091142654419, 0.7760630249977112, 0.7757449150085449, 0.7757449150085449, 0.8393608331680298, 0.8046516180038452, 0.7086666822433472, 0.6995764374732971, 0.6995764374732971, 0.6995764374732971, 0.670915424823761, 0.670915424823761, 0.6461755633354187, 0.6461755633354187, 0.629622220993042, 0.6041296124458313, 0.6010394096374512, 0.5900114178657532, 0.5863663554191589, 0.5846721529960632, 0.5846721529960632, 0.5846721529960632, 0.5846721529960632, 0.5762876272201538, 0.5762876272201538, 0.5605723857879639, 0.5604605674743652, 0.5480740666389465, 0.5347836017608643, 0.5339066386222839, 0.5320990085601807, 0.5250950455665588, 0.5221195220947266, 0.5186970233917236, 0.5152992010116577, 0.5104888081550598, 0.5100615620613098, 0.5100615620613098, 0.5041606426239014, 0.5033763647079468, 0.5012408494949341, 0.4997207820415497, 0.4997207820415497, 0.49856600165367126, 0.4982362985610962, 0.886990487575531, 0.8565908074378967, 0.8510459661483765, 0.8465521931648254, 0.8368633389472961, 0.8236739635467529, 0.8010496497154236, 0.7958101630210876, 0.7907924056053162, 0.7807412147521973, 0.7735019326210022, 0.769537627696991, 0.7674827575683594, 0.7625340223312378, 0.7624793648719788, 0.760142982006073, 0.7587783932685852, 0.7522403597831726, 0.7512081861495972, 0.7494465112686157, 0.7470176219940186, 0.7460887432098389, 0.7445955276489258, 0.7418270111083984, 0.7379189133644104, 0.7374345660209656, 0.7369701266288757, 0.7343387007713318, 0.7339403629302979, 0.7297780513763428, 0.7253305315971375, 0.7249796390533447, 0.7231404185295105, 0.7207807898521423, 0.7183882594108582, 0.7171894907951355, 0.7155776619911194, 0.7135013341903687, 0.7101684212684631, 0.7089722752571106, 0.7050909399986267, 0.8393608331680298, 0.8046516180038452, 0.7086666822433472, 0.6995764374732971, 0.6995764374732971, 0.6995764374732971, 0.670915424823761, 0.670915424823761, 0.6461755633354187, 0.6461755633354187, 0.629622220993042, 0.6041296124458313, 0.6010394096374512, 0.5900114178657532, 0.5863663554191589, 0.5846721529960632, 0.5846721529960632, 0.5846721529960632, 0.5846721529960632, 0.5762876272201538, 0.5762876272201538, 0.5605723857879639, 0.5604605674743652, 0.5480740666389465, 0.5347836017608643, 0.5339066386222839, 0.5320990085601807, 0.5250950455665588, 0.5221195220947266, 0.5186970233917236, 0.5152992010116577, 0.5104888081550598, 0.5100615620613098, 0.5100615620613098, 0.5041606426239014, 0.5033763647079468, 0.5012408494949341, 0.4997207820415497, 0.4997207820415497, 0.49856600165367126, 0.4982362985610962, 0.7214202880859375, 0.7149609923362732, 0.652881383895874, 0.6369314789772034, 0.63557368516922, 0.6182386875152588, 0.615545928478241, 0.6092442870140076, 0.6075839400291443, 0.6044827103614807, 0.6009779572486877, 0.5962551236152649, 0.5879529118537903, 0.5879529118537903, 0.5824539065361023, 0.5798166990280151, 0.5796346068382263, 0.5792403221130371, 0.5790776014328003, 0.5758852958679199, 0.5732305645942688, 0.5682274103164673, 0.564883291721344, 0.5617957711219788, 0.5617228150367737, 0.5592517852783203, 0.5582666993141174, 0.5549113750457764, 0.5542286038398743, 0.5542286038398743, 0.5496731996536255, 0.5488358736038208, 0.5485457181930542, 0.5469194650650024, 0.546760082244873, 0.5441170334815979, 0.5438379049301147, 0.5437368154525757, 0.5429606437683105, 0.5423809885978699, 0.5417572259902954, 0.9948195815086365, 0.9882177114486694, 0.9694920778274536, 0.9694920778274536, 0.9694920778274536, 0.9694920778274536, 0.9694920778274536, 0.9694920778274536, 0.9694920778274536, 0.9694920778274536, 0.9694920778274536, 0.9694920778274536, 0.9694920778274536, 0.9694920778274536, 0.9694920778274536, 0.9670442938804626, 0.9627945423126221, 0.9625999331474304, 0.9625999331474304, 0.9568570852279663, 0.9560539722442627, 0.9504311084747314, 0.9504311084747314, 0.9450080990791321, 0.9450080990791321, 0.9450080990791321, 0.9447919130325317, 0.9447919130325317, 0.9447919130325317, 0.9167997241020203, 0.8964326977729797, 0.8878777027130127, 0.8821333050727844, 0.8751142621040344, 0.8578343987464905, 0.8529935479164124, 0.8510198593139648, 0.8281184434890747, 0.8281184434890747, 0.8213494420051575, 0.7995637655258179, 0.773362934589386, 0.7438488602638245, 0.6921137571334839, 0.6921137571334839, 0.691048264503479, 0.6837077736854553, 0.6834134459495544, 0.6794166564941406, 0.6701974868774414, 0.6701974868774414, 0.6503831744194031, 0.6438977122306824, 0.629943311214447, 0.6274006962776184, 0.6240859031677246, 0.6132039427757263, 0.6132039427757263, 0.6132039427757263, 0.6098625659942627, 0.6030005216598511, 0.5923022627830505, 0.5916365385055542, 0.5794265270233154, 0.5794265270233154, 0.5774062871932983, 0.5774062871932983, 0.5774062871932983, 0.5773248672485352, 0.5740647315979004, 0.5733789801597595, 0.5718035697937012, 0.5667552351951599, 0.5663275122642517, 0.5663275122642517, 0.5639997124671936, 0.5628538131713867, 0.5580779910087585, 0.5545604825019836, 0.5539641976356506, 0.5519827604293823, 0.5514458417892456, 0.8756417632102966, 0.8623540997505188, 0.8623540997505188, 0.8623540997505188, 0.8618385195732117, 0.8585571050643921, 0.8515293002128601, 0.8485722541809082, 0.8485722541809082, 0.8467166423797607, 0.839712917804718, 0.8353851437568665, 0.8316459655761719, 0.8285959959030151, 0.8260837197303772, 0.8260837197303772, 0.8248107433319092, 0.8232733607292175, 0.8095422387123108, 0.8071593642234802, 0.805488646030426, 0.8034884333610535, 0.801570475101471, 0.7948371767997742, 0.7948371767997742, 0.790182888507843, 0.790182888507843, 0.790182888507843, 0.7828450202941895, 0.7804998755455017, 0.7801264524459839, 0.7787123918533325, 0.7722560167312622, 0.7722315788269043, 0.7721821069717407, 0.7689379453659058, 0.7684951424598694, 0.7681795358657837, 0.766369640827179, 0.759120523929596, 0.759120523929596, 0.9004231691360474, 0.9000046849250793, 0.8858792781829834, 0.8858792781829834, 0.8858792781829834, 0.8840728998184204, 0.8840728998184204, 0.8819369673728943, 0.8748039603233337, 0.8748039603233337, 0.872684895992279, 0.850404679775238, 0.8489993810653687, 0.8326764106750488, 0.830371618270874, 0.8282787799835205, 0.8249013423919678, 0.8233880400657654, 0.812015950679779, 0.812015950679779, 0.812015950679779, 0.8029102087020874, 0.800196647644043, 0.7961644530296326, 0.7949808239936829, 0.7936379313468933, 0.7912036776542664, 0.7906679511070251, 0.7891167402267456, 0.7887590527534485, 0.7858113646507263, 0.7805688977241516, 0.7805688977241516, 0.7755371928215027, 0.7713723182678223, 0.7708758115768433, 0.7684817910194397, 0.7634850144386292, 0.76181960105896, 0.7607996463775635, 0.7607996463775635, 0.9999995827674866, 0.9407774209976196, 0.7160884141921997, 0.7160884141921997, 0.7033404111862183, 0.6951834559440613, 0.6951834559440613, 0.6951834559440613, 0.6951834559440613, 0.6951834559440613, 0.6951834559440613, 0.6951834559440613, 0.6773213148117065, 0.661085844039917, 0.6588058471679688, 0.6481462717056274, 0.5978006720542908, 0.5975258946418762, 0.5927204489707947, 0.5877601504325867, 0.5864050984382629, 0.5856069922447205, 0.5847715735435486, 0.5828484296798706, 0.5825911164283752, 0.5805723071098328, 0.5772159099578857, 0.5675588250160217, 0.566565215587616, 0.5649099946022034, 0.5646817088127136, 0.5583354830741882, 0.5510361790657043, 0.5489349961280823, 0.5487512350082397, 0.5469092130661011, 0.5428726673126221, 0.5407873392105103, 0.5389829277992249, 0.5348705649375916, 0.5346651673316956, 0.8756417632102966, 0.8623540997505188, 0.8623540997505188, 0.8623540997505188, 0.8618385195732117, 0.8585571050643921, 0.8515293002128601, 0.8485722541809082, 0.8485722541809082, 0.8467166423797607, 0.839712917804718, 0.8353851437568665, 0.8316459655761719, 0.8285959959030151, 0.8260837197303772, 0.8260837197303772, 0.8248107433319092, 0.8232733607292175, 0.8095422387123108, 0.8071593642234802, 0.805488646030426, 0.8034884333610535, 0.801570475101471, 0.7948371767997742, 0.7948371767997742, 0.790182888507843, 0.790182888507843, 0.790182888507843, 0.7828450202941895, 0.7804998755455017, 0.7801264524459839, 0.7787123918533325, 0.7722560167312622, 0.7722315788269043, 0.7721821069717407, 0.7689379453659058, 0.7684951424598694, 0.7681795358657837, 0.766369640827179, 0.759120523929596, 0.759120523929596, 0.8756417632102966, 0.8623540997505188, 0.8623540997505188, 0.8623540997505188, 0.8618385195732117, 0.8585571050643921, 0.8515293002128601, 0.8485722541809082, 0.8485722541809082, 0.8467166423797607, 0.839712917804718, 0.8353851437568665, 0.8316459655761719, 0.8285959959030151, 0.8260837197303772, 0.8260837197303772, 0.8248107433319092, 0.8232733607292175, 0.8095422387123108, 0.8071593642234802, 0.805488646030426, 0.8034884333610535, 0.801570475101471, 0.7948371767997742, 0.7948371767997742, 0.790182888507843, 0.790182888507843, 0.790182888507843, 0.7828450202941895, 0.7804998755455017, 0.7801264524459839, 0.7787123918533325, 0.7722560167312622, 0.7722315788269043, 0.7721821069717407, 0.7689379453659058, 0.7684951424598694, 0.7681795358657837, 0.766369640827179, 0.759120523929596, 0.759120523929596, 0.9004231691360474, 0.9000046849250793, 0.8858792781829834, 0.8858792781829834, 0.8858792781829834, 0.8840728998184204, 0.8840728998184204, 0.8819369673728943, 0.8748039603233337, 0.8748039603233337, 0.872684895992279, 0.850404679775238, 0.8489993810653687, 0.8326764106750488, 0.830371618270874, 0.8282787799835205, 0.8249013423919678, 0.8233880400657654, 0.812015950679779, 0.812015950679779, 0.812015950679779, 0.8029102087020874, 0.800196647644043, 0.7961644530296326, 0.7949808239936829, 0.7936379313468933, 0.7912036776542664, 0.7906679511070251, 0.7891167402267456, 0.7887590527534485, 0.7858113646507263, 0.7805688977241516, 0.7805688977241516, 0.7755371928215027, 0.7713723182678223, 0.7708758115768433, 0.7684817910194397, 0.7634850144386292, 0.76181960105896, 0.7607996463775635, 0.7607996463775635, 0.9999995827674866, 0.9407774209976196, 0.7160884141921997, 0.7160884141921997, 0.7033404111862183, 0.6951834559440613, 0.6951834559440613, 0.6951834559440613, 0.6951834559440613, 0.6951834559440613, 0.6951834559440613, 0.6951834559440613, 0.6773213148117065, 0.661085844039917, 0.6588058471679688, 0.6481462717056274, 0.5978006720542908, 0.5975258946418762, 0.5927204489707947, 0.5877601504325867, 0.5864050984382629, 0.5856069922447205, 0.5847715735435486, 0.5828484296798706, 0.5825911164283752, 0.5805723071098328, 0.5772159099578857, 0.5675588250160217, 0.566565215587616, 0.5649099946022034, 0.5646817088127136, 0.5583354830741882, 0.5510361790657043, 0.5489349961280823, 0.5487512350082397, 0.5469092130661011, 0.5428726673126221, 0.5407873392105103, 0.5389829277992249, 0.5348705649375916, 0.5346651673316956, 0.8756417632102966, 0.8623540997505188, 0.8623540997505188, 0.8623540997505188, 0.8618385195732117, 0.8585571050643921, 0.8515293002128601, 0.8485722541809082, 0.8485722541809082, 0.8467166423797607, 0.839712917804718, 0.8353851437568665, 0.8316459655761719, 0.8285959959030151, 0.8260837197303772, 0.8260837197303772, 0.8248107433319092, 0.8232733607292175, 0.8095422387123108, 0.8071593642234802, 0.805488646030426, 0.8034884333610535, 0.801570475101471, 0.7948371767997742, 0.7948371767997742, 0.790182888507843, 0.790182888507843, 0.790182888507843, 0.7828450202941895, 0.7804998755455017, 0.7801264524459839, 0.7787123918533325, 0.7722560167312622, 0.7722315788269043, 0.7721821069717407, 0.7689379453659058, 0.7684951424598694, 0.7681795358657837, 0.766369640827179, 0.759120523929596, 0.759120523929596, 0.7533055543899536, 0.7533055543899536, 0.7491326928138733, 0.736548125743866, 0.7346039414405823, 0.7346039414405823, 0.707893431186676, 0.7057046294212341, 0.680971622467041, 0.6791099905967712, 0.6778201460838318, 0.6775688529014587, 0.6775688529014587, 0.6732276082038879, 0.6724585890769958, 0.6658325791358948, 0.6643627285957336, 0.6643627285957336, 0.6618419289588928, 0.6618419289588928, 0.6612246036529541, 0.6575235724449158, 0.6567502617835999, 0.655975878238678, 0.6535472273826599, 0.6519136428833008, 0.6511067748069763, 0.6510323286056519, 0.6437728404998779, 0.6437728404998779, 0.6372485160827637, 0.636781632900238, 0.6366007924079895, 0.636588454246521, 0.6344957947731018, 0.6317353844642639, 0.6303755044937134, 0.6298338770866394, 0.6281261444091797, 0.6267490983009338, 0.6244826316833496, 0.813825786113739, 0.7992321252822876, 0.76915442943573, 0.7667057514190674, 0.7664312720298767, 0.7664312720298767, 0.7398751378059387, 0.7380320429801941, 0.7364605665206909, 0.7309140563011169, 0.7309140563011169, 0.7277894020080566, 0.7234346270561218, 0.7198164463043213, 0.7198164463043213, 0.7195601463317871, 0.7195601463317871, 0.7176854610443115, 0.7130732536315918, 0.7115659713745117, 0.7086379528045654, 0.7070481777191162, 0.7061645984649658, 0.6921746134757996, 0.6921746134757996, 0.6914579272270203, 0.6910332441329956, 0.6878567934036255, 0.6864813566207886, 0.6847121715545654, 0.6833536624908447, 0.6816806197166443, 0.6804296374320984, 0.6794286966323853, 0.6743348240852356, 0.6734315752983093, 0.6723083853721619, 0.672227680683136, 0.6691007614135742, 0.6675230860710144, 0.6672199964523315, 0.9999994039535522, 0.9999994039535522, 0.9999994039535522, 0.9999994039535522, 0.9999994039535522, 0.9999994039535522, 0.9999994039535522, 0.9999994039535522, 0.9999994039535522, 0.9999994039535522, 0.9999994039535522, 0.9999994039535522, 0.9999994039535522, 0.9999994039535522, 0.9999994039535522, 0.9999994039535522, 0.9999994039535522, 0.9999994039535522, 0.9999994039535522, 0.9999994039535522, 0.9999994039535522, 0.9999994039535522, 0.9571967720985413, 0.9426198601722717, 0.8813592195510864, 0.8638250827789307, 0.8632766604423523, 0.8321276903152466, 0.8282346129417419, 0.8240001797676086, 0.7998517155647278, 0.796906590461731, 0.7855132818222046, 0.7656077146530151, 0.7539743185043335, 0.7512431740760803, 0.7392998933792114, 0.7384540438652039, 0.7327673435211182, 0.7249982953071594, 0.7222352027893066, 0.833749532699585, 0.833749532699585, 0.7770432829856873, 0.7725663185119629, 0.7702624797821045, 0.7702624797821045, 0.7697312831878662, 0.7697312831878662, 0.7624813914299011, 0.7598680853843689, 0.7587870359420776, 0.7577314376831055, 0.7530144453048706, 0.7461327314376831, 0.7446881532669067, 0.7435499429702759, 0.7435499429702759, 0.738195538520813, 0.7335061430931091, 0.7335061430931091, 0.7295058369636536, 0.7276349663734436, 0.7275146245956421, 0.7275146245956421, 0.7246252298355103, 0.722242534160614, 0.7219533920288086, 0.7219424843788147, 0.7218438982963562, 0.7211142182350159, 0.7211142182350159, 0.7190980315208435, 0.7189737558364868, 0.7167589068412781, 0.7151389122009277, 0.7122107148170471, 0.7122107148170471, 0.710608959197998, 0.7065893411636353, 0.7065893411636353, 0.7058396935462952, 0.7533055543899536, 0.7533055543899536, 0.7491326928138733, 0.736548125743866, 0.7346039414405823, 0.7346039414405823, 0.707893431186676, 0.7057046294212341, 0.680971622467041, 0.6791099905967712, 0.6778201460838318, 0.6775688529014587, 0.6775688529014587, 0.6732276082038879, 0.6724585890769958, 0.6658325791358948, 0.6643627285957336, 0.6643627285957336, 0.6618419289588928, 0.6618419289588928, 0.6612246036529541, 0.6575235724449158, 0.6567502617835999, 0.655975878238678, 0.6535472273826599, 0.6519136428833008, 0.6511067748069763, 0.6510323286056519, 0.6437728404998779, 0.6437728404998779, 0.6372485160827637, 0.636781632900238, 0.6366007924079895, 0.636588454246521, 0.6344957947731018, 0.6317353844642639, 0.6303755044937134, 0.6298338770866394, 0.6281261444091797, 0.6267490983009338, 0.6244826316833496, 0.813825786113739, 0.7992321252822876, 0.76915442943573, 0.7667057514190674, 0.7664312720298767, 0.7664312720298767, 0.7398751378059387, 0.7380320429801941, 0.7364605665206909, 0.7309140563011169, 0.7309140563011169, 0.7277894020080566, 0.7234346270561218, 0.7198164463043213, 0.7198164463043213, 0.7195601463317871, 0.7195601463317871, 0.7176854610443115, 0.7130732536315918, 0.7115659713745117, 0.7086379528045654, 0.7070481777191162, 0.7061645984649658, 0.6921746134757996, 0.6921746134757996, 0.6914579272270203, 0.6910332441329956, 0.6878567934036255, 0.6864813566207886, 0.6847121715545654, 0.6833536624908447, 0.6816806197166443, 0.6804296374320984, 0.6794286966323853, 0.6743348240852356, 0.6734315752983093, 0.6723083853721619, 0.672227680683136, 0.6691007614135742, 0.6675230860710144, 0.6672199964523315, 0.9999994039535522, 0.9999994039535522, 0.9999994039535522, 0.9999994039535522, 0.9999994039535522, 0.9999994039535522, 0.9999994039535522, 0.9999994039535522, 0.9999994039535522, 0.9999994039535522, 0.9999994039535522, 0.9999994039535522, 0.9999994039535522, 0.9999994039535522, 0.9999994039535522, 0.9999994039535522, 0.9999994039535522, 0.9999994039535522, 0.9999994039535522, 0.9999994039535522, 0.9999994039535522, 0.9999994039535522, 0.9571967720985413, 0.9426198601722717, 0.8813592195510864, 0.8638250827789307, 0.8632766604423523, 0.8321276903152466, 0.8282346129417419, 0.8240001797676086, 0.7998517155647278, 0.796906590461731, 0.7855132818222046, 0.7656077146530151, 0.7539743185043335, 0.7512431740760803, 0.7392998933792114, 0.7384540438652039, 0.7327673435211182, 0.7249982953071594, 0.7222352027893066, 0.833749532699585, 0.833749532699585, 0.7770432829856873, 0.7725663185119629, 0.7702624797821045, 0.7702624797821045, 0.7697312831878662, 0.7697312831878662, 0.7624813914299011, 0.7598680853843689, 0.7587870359420776, 0.7577314376831055, 0.7530144453048706, 0.7461327314376831, 0.7446881532669067, 0.7435499429702759, 0.7435499429702759, 0.738195538520813, 0.7335061430931091, 0.7335061430931091, 0.7295058369636536, 0.7276349663734436, 0.7275146245956421, 0.7275146245956421, 0.7246252298355103, 0.722242534160614, 0.7219533920288086, 0.7219424843788147, 0.7218438982963562, 0.7211142182350159, 0.7211142182350159, 0.7190980315208435, 0.7189737558364868, 0.7167589068412781, 0.7151389122009277, 0.7122107148170471, 0.7122107148170471, 0.710608959197998, 0.7065893411636353, 0.7065893411636353, 0.7058396935462952, 0.8250863552093506, 0.7806944847106934, 0.7736730575561523, 0.7708535194396973, 0.7492259740829468, 0.748042106628418, 0.7333465218544006, 0.7314019203186035, 0.7297132611274719, 0.7246021032333374, 0.7243790030479431, 0.7191911935806274, 0.7190151810646057, 0.7166278958320618, 0.7156004905700684, 0.7156004905700684, 0.7144134640693665, 0.7144134640693665, 0.7135118246078491, 0.7129303812980652, 0.7077127695083618, 0.7035815119743347, 0.7031906843185425, 0.6974818110466003, 0.6943884491920471, 0.6932492256164551, 0.6922466158866882, 0.6909782886505127, 0.6909782886505127, 0.6900083422660828, 0.6894159317016602, 0.6869985461235046, 0.6869210004806519, 0.6857380270957947, 0.6847221255302429, 0.6816216111183167, 0.6815619468688965, 0.680441677570343, 0.6802951097488403, 0.6798124313354492, 0.6795471906661987, 0.7319587469100952, 0.7136741280555725, 0.6938953995704651, 0.6860698461532593, 0.6757330894470215, 0.675299346446991, 0.6713247895240784, 0.6713247895240784, 0.6682226657867432, 0.6622474789619446, 0.6497297883033752, 0.647325336933136, 0.647325336933136, 0.6397995352745056, 0.6371582746505737, 0.6361902356147766, 0.6361902356147766, 0.6315953731536865, 0.6293224692344666, 0.6246742010116577, 0.6189323663711548, 0.6120424270629883, 0.6063633561134338, 0.6043177843093872, 0.5981377363204956, 0.597877025604248, 0.5954796671867371, 0.5900059938430786, 0.5868897438049316, 0.5851073265075684, 0.5844902992248535, 0.5725980401039124, 0.571414053440094, 0.5713837146759033, 0.5713837146759033, 0.5713837146759033, 0.5709834098815918, 0.5695250630378723, 0.5684134364128113, 0.5681395530700684, 0.565897524356842, 0.6750234365463257, 0.6668757200241089, 0.6645818948745728, 0.6556581854820251, 0.6556581854820251, 0.6503828167915344, 0.6449095010757446, 0.641002357006073, 0.6344318985939026, 0.6301630139350891, 0.6121172308921814, 0.611070454120636, 0.6109766364097595, 0.6109739542007446, 0.6101518273353577, 0.6101518273353577, 0.6101518273353577, 0.6086824536323547, 0.6079953908920288, 0.6077216863632202, 0.6057862043380737, 0.605757474899292, 0.6055664420127869, 0.6044949293136597, 0.6037122011184692, 0.6037122011184692, 0.6003389954566956, 0.5978546142578125, 0.5977462530136108, 0.596712052822113, 0.5922105312347412, 0.5922105312347412, 0.5882308483123779, 0.5882308483123779, 0.5874437093734741, 0.5874437093734741, 0.5874437093734741, 0.5870295166969299, 0.5853697657585144, 0.5845063924789429, 0.5833026766777039, 0.8387773036956787, 0.7689544558525085, 0.7589623332023621, 0.7541519999504089, 0.7528571486473083, 0.7422923445701599, 0.7422923445701599, 0.7317410707473755, 0.7301545739173889, 0.722911536693573, 0.7145838737487793, 0.7140102386474609, 0.710273027420044, 0.701196551322937, 0.7009965777397156, 0.6978713870048523, 0.6966816782951355, 0.6959466934204102, 0.6897883415222168, 0.6858577728271484, 0.6842451095581055, 0.6841198801994324, 0.6823118329048157, 0.6812795400619507, 0.6771788001060486, 0.673210620880127, 0.6700770854949951, 0.6652832627296448, 0.6635529398918152, 0.6635529398918152, 0.659852147102356, 0.6572967767715454, 0.6569027304649353, 0.6559084057807922, 0.6554723381996155, 0.6545321941375732, 0.6545321941375732, 0.6537574529647827, 0.6518720984458923, 0.6496759057044983, 0.6494414210319519, 0.8624962568283081, 0.8624962568283081, 0.8624962568283081, 0.7541355490684509, 0.7298064231872559, 0.6880097389221191, 0.5700688362121582, 0.5629512071609497, 0.5409615635871887, 0.5409615635871887, 0.5236330032348633, 0.4784034788608551, 0.4470815062522888, 0.4470815062522888, 0.4288884997367859, 0.4288884997367859, 0.4153119921684265, 0.4153119921684265, 0.39881137013435364, 0.3952069878578186, 0.3603140115737915, 0.3603140115737915, 0.3599913716316223, 0.347891241312027, 0.3263319432735443, 0.3263319432735443, 0.32487186789512634, 0.32487186789512634, 0.32487186789512634, 0.3221728801727295, 0.32091981172561646, 0.3136809170246124, 0.3092202842235565, 0.3092202842235565, 0.3092202842235565, 0.3021148443222046, 0.30092936754226685, 0.2964399456977844, 0.2921522557735443, 0.291767954826355, 0.27981749176979065, 0.8624962568283081, 0.8624962568283081, 0.8624962568283081, 0.7541355490684509, 0.7298064231872559, 0.6880097389221191, 0.5700688362121582, 0.5629512071609497, 0.5409615635871887, 0.5409615635871887, 0.5236330032348633, 0.4784034788608551, 0.4470815062522888, 0.4470815062522888, 0.4288884997367859, 0.4288884997367859, 0.4153119921684265, 0.4153119921684265, 0.39881137013435364, 0.3952069878578186, 0.3603140115737915, 0.3603140115737915, 0.3599913716316223, 0.347891241312027, 0.3263319432735443, 0.3263319432735443, 0.32487186789512634, 0.32487186789512634, 0.32487186789512634, 0.3221728801727295, 0.32091981172561646, 0.3136809170246124, 0.3092202842235565, 0.3092202842235565, 0.3092202842235565, 0.3021148443222046, 0.30092936754226685, 0.2964399456977844, 0.2921522557735443, 0.291767954826355, 0.27981749176979065, 0.39967459440231323, 0.375087708234787, 0.34915345907211304, 0.3431414067745209, 0.3403342366218567, 0.3248226046562195, 0.3209747076034546, 0.30362027883529663, 0.29774239659309387, 0.2951502501964569, 0.2951502501964569, 0.2951502501964569, 0.2895946502685547, 0.2749735116958618, 0.26588451862335205, 0.26557374000549316, 0.2642422616481781, 0.2618419826030731, 0.2569114863872528, 0.2564677596092224, 0.2562914788722992, 0.2483510971069336, 0.24235548079013824, 0.24211694300174713, 0.2415524423122406, 0.2415524423122406, 0.2415524423122406, 0.2382328063249588, 0.23026005923748016, 0.22779718041419983, 0.22779718041419983, 0.22779718041419983, 0.22705039381980896, 0.22564660012722015, 0.21939103305339813, 0.21715980768203735, 0.21712011098861694, 0.21626344323158264, 0.20761996507644653, 0.2021992802619934, 0.19954520463943481, 0.7391732931137085, 0.7318083047866821, 0.5760766863822937, 0.5760766863822937, 0.5760766863822937, 0.5709999203681946, 0.5535514950752258, 0.5336382389068604, 0.5246223211288452, 0.5169181823730469, 0.5169181823730469, 0.5091493129730225, 0.5086976289749146, 0.4701482653617859, 0.4644010663032532, 0.4461422562599182, 0.44594213366508484, 0.41017258167266846, 0.39260318875312805, 0.38436299562454224, 0.3838871121406555, 0.37544623017311096, 0.3753671944141388, 0.3707036077976227, 0.3707036077976227, 0.3685208559036255, 0.3646473288536072, 0.3492218852043152, 0.34691235423088074, 0.34254610538482666, 0.34254610538482666, 0.33854052424430847, 0.33854052424430847, 0.33854052424430847, 0.32698819041252136, 0.3209112882614136, 0.3168245255947113, 0.3127441704273224, 0.3089553713798523, 0.3072319030761719, 0.3025375306606293, 0.8363782167434692, 0.8248075246810913, 0.8076363205909729, 0.8003626465797424, 0.7757909297943115, 0.7678084373474121, 0.7654613852500916, 0.7620993852615356, 0.7570481300354004, 0.7570481300354004, 0.7444196939468384, 0.7444196939468384, 0.7428022027015686, 0.7411560416221619, 0.7358390092849731, 0.7357701063156128, 0.7332874536514282, 0.7328246831893921, 0.723953902721405, 0.721777081489563, 0.7191567420959473, 0.7128148674964905, 0.711613655090332, 0.711613655090332, 0.7107606530189514, 0.7087613940238953, 0.7080331444740295, 0.7074061036109924, 0.7046172022819519, 0.7046172022819519, 0.7043473124504089, 0.7043473124504089, 0.7043473124504089, 0.7043473124504089, 0.7041217088699341, 0.6982622146606445, 0.6928678154945374, 0.6924493312835693, 0.6853190064430237, 0.6820765733718872, 0.6812986135482788, 0.8633288145065308, 0.8211491703987122, 0.821029782295227, 0.8203822374343872, 0.8141879439353943, 0.8118776679039001, 0.8071106672286987, 0.8069524168968201, 0.7959226369857788, 0.7932100892066956, 0.7931124567985535, 0.7891891598701477, 0.789036750793457, 0.7859231233596802, 0.7847174406051636, 0.77947998046875, 0.7790678143501282, 0.7777764201164246, 0.7769084572792053, 0.7769084572792053, 0.7769084572792053, 0.7763585448265076, 0.7760109901428223, 0.7752404808998108, 0.7748720049858093, 0.7738869190216064, 0.7731428146362305, 0.7731428146362305, 0.7700175046920776, 0.7684802412986755, 0.7684802412986755, 0.7665484547615051, 0.7659114599227905, 0.762358546257019, 0.7622640132904053, 0.7622640132904053, 0.7618789076805115, 0.7616510987281799, 0.7603446245193481, 0.7602049112319946, 0.7600363492965698, 0.9151092171669006, 0.8860577940940857, 0.8530758023262024, 0.8348355293273926, 0.8337080478668213, 0.8265240788459778, 0.8260456323623657, 0.816678524017334, 0.8131762146949768, 0.8111802339553833, 0.8109261989593506, 0.8109261989593506, 0.8109261989593506, 0.8069039583206177, 0.8052860498428345, 0.805061936378479, 0.8004740476608276, 0.7979554533958435, 0.7975101470947266, 0.796643078327179, 0.7950722575187683, 0.7938387989997864, 0.7932840585708618, 0.7928390502929688, 0.7909623980522156, 0.7900651097297668, 0.7900651097297668, 0.7878526449203491, 0.7837432622909546, 0.7815006375312805, 0.7804955840110779, 0.7772245407104492, 0.774618923664093, 0.7710633873939514, 0.769730806350708, 0.7688827514648438, 0.7686057686805725, 0.7680917382240295, 0.7674376368522644, 0.7670316696166992, 0.7636058926582336, 0.9999994039535522, 0.9999994039535522, 0.9999994039535522, 0.9999994039535522, 0.9999994039535522, 0.9999994039535522, 0.9999994039535522, 0.9999994039535522, 0.9999994039535522, 0.9999994039535522, 0.9999994039535522, 0.9999994039535522, 0.9999994039535522, 0.9999994039535522, 0.9999994039535522, 0.9999994039535522, 0.9999994039535522, 0.9999994039535522, 0.9999994039535522, 0.9999994039535522, 0.9999994039535522, 0.9999994039535522, 0.9999994039535522, 0.9571967720985413, 0.9426198601722717, 0.8813592195510864, 0.8638250827789307, 0.8632766604423523, 0.8321276903152466, 0.8282346129417419, 0.8240001797676086, 0.7998517155647278, 0.796906590461731, 0.7855132818222046, 0.7656077146530151, 0.7539743185043335, 0.7512431740760803, 0.7392998933792114, 0.7384540438652039, 0.7327673435211182, 0.7249982953071594, 0.8633288145065308, 0.8211491703987122, 0.821029782295227, 0.8203822374343872, 0.8141879439353943, 0.8118776679039001, 0.8071106672286987, 0.8069524168968201, 0.7959226369857788, 0.7932100892066956, 0.7931124567985535, 0.7891891598701477, 0.789036750793457, 0.7859231233596802, 0.7847174406051636, 0.77947998046875, 0.7790678143501282, 0.7777764201164246, 0.7769084572792053, 0.7769084572792053, 0.7769084572792053, 0.7763585448265076, 0.7760109901428223, 0.7752404808998108, 0.7748720049858093, 0.7738869190216064, 0.7731428146362305, 0.7731428146362305, 0.7700175046920776, 0.7684802412986755, 0.7684802412986755, 0.7665484547615051, 0.7659114599227905, 0.762358546257019, 0.7622640132904053, 0.7622640132904053, 0.7618789076805115, 0.7616510987281799, 0.7603446245193481, 0.7602049112319946, 0.7600363492965698, 0.711938202381134, 0.6748676300048828, 0.6300773620605469, 0.6281751990318298, 0.622541069984436, 0.6082257628440857, 0.6050971150398254, 0.6046143770217896, 0.6021696329116821, 0.5973186492919922, 0.584226131439209, 0.584226131439209, 0.5833025574684143, 0.5795558094978333, 0.5786562561988831, 0.5779796838760376, 0.5672796368598938, 0.5672796368598938, 0.5653855800628662, 0.5570665597915649, 0.5570665597915649, 0.5546805262565613, 0.554479718208313, 0.5538679361343384, 0.5449426174163818, 0.5435588359832764, 0.5427747368812561, 0.5412957072257996, 0.5372838377952576, 0.5361632704734802, 0.5353149771690369, 0.5353149771690369, 0.5347621440887451, 0.5326510071754456, 0.5320155024528503, 0.5304824113845825, 0.5296197533607483, 0.5296197533607483, 0.5289170145988464, 0.5249878168106079, 0.5249878168106079, 0.5929272174835205, 0.5088769197463989, 0.5088769197463989, 0.49678918719291687, 0.4742079973220825, 0.4742079973220825, 0.4690536558628082, 0.4537234306335449, 0.4514559507369995, 0.4514559507369995, 0.4514559507369995, 0.4504667818546295, 0.4504667818546295, 0.44790786504745483, 0.44790786504745483, 0.44790786504745483, 0.44790786504745483, 0.4477914273738861, 0.44333621859550476, 0.44333621859550476, 0.44333621859550476, 0.43884921073913574, 0.43413323163986206, 0.43334174156188965, 0.43291714787483215, 0.43067386746406555, 0.4297490417957306, 0.4252264201641083, 0.42459604144096375, 0.423915833234787, 0.423915833234787, 0.423915833234787, 0.4231085777282715, 0.41912785172462463, 0.4178111255168915, 0.39987513422966003, 0.3987266719341278, 0.3985229730606079, 0.39722973108291626, 0.39531174302101135, 0.39531174302101135, 0.8304684162139893, 0.7870633006095886, 0.7735922932624817, 0.7732433080673218, 0.764763355255127, 0.7509549856185913, 0.7508230805397034, 0.7497697472572327, 0.7406002283096313, 0.7313567399978638, 0.7293183207511902, 0.7275243997573853, 0.7207526564598083, 0.7200280427932739, 0.7157192230224609, 0.7157192230224609, 0.7114202976226807, 0.7066283822059631, 0.7050289511680603, 0.6989710927009583, 0.6967677474021912, 0.6964974403381348, 0.6963939666748047, 0.6954819560050964, 0.6954819560050964, 0.6940698623657227, 0.6899495720863342, 0.6891894936561584, 0.6882731318473816, 0.6849165558815002, 0.6825374364852905, 0.6779771447181702, 0.6730965375900269, 0.671613335609436, 0.6698498725891113, 0.6698498725891113, 0.6665189862251282, 0.6634441614151001, 0.6634441614151001, 0.6629725694656372, 0.6629725694656372, 0.7380526065826416, 0.733061671257019, 0.7194417119026184, 0.7124686241149902, 0.6983349919319153, 0.6943522691726685, 0.68567955493927, 0.6830523014068604, 0.6692020297050476, 0.6688361763954163, 0.6649350523948669, 0.6645687222480774, 0.6619436144828796, 0.659467875957489, 0.654586672782898, 0.6466284394264221, 0.6403024196624756, 0.6379154920578003, 0.6376155614852905, 0.636856734752655, 0.6344071626663208, 0.6337541341781616, 0.6280649304389954, 0.6279187202453613, 0.6206451654434204, 0.6183983683586121, 0.6173666715621948, 0.6156476736068726, 0.6156476736068726, 0.6137606501579285, 0.6137606501579285, 0.6137388944625854, 0.6129310727119446, 0.612252414226532, 0.6121881604194641, 0.6087070107460022, 0.6085296869277954, 0.6074279546737671, 0.6074279546737671, 0.6074279546737671, 0.6074279546737671, 0.6601911783218384, 0.6108577251434326, 0.6108577251434326, 0.5873447060585022, 0.5860857963562012, 0.5359499454498291, 0.5214406847953796, 0.504973828792572, 0.504973828792572, 0.49642646312713623, 0.49554339051246643, 0.49116045236587524, 0.49016866087913513, 0.48700258135795593, 0.4866560995578766, 0.48600682616233826, 0.48552510142326355, 0.48446664214134216, 0.4833264648914337, 0.48272112011909485, 0.47607481479644775, 0.4690287709236145, 0.46825146675109863, 0.4675873816013336, 0.46640127897262573, 0.465268075466156, 0.465268075466156, 0.46465179324150085, 0.46465179324150085, 0.4595908522605896, 0.4591008126735687, 0.4591008126735687, 0.4591008126735687, 0.4591008126735687, 0.45756685733795166, 0.45347368717193604, 0.4527114927768707, 0.4527114927768707, 0.4526744484901428, 0.4526744484901428, 0.4511678218841553, 0.8650184869766235, 0.7921826839447021, 0.7905654907226562, 0.7671782970428467, 0.7404706478118896, 0.7283668518066406, 0.7251552939414978, 0.7058146595954895, 0.7040063738822937, 0.7001329660415649, 0.6999533176422119, 0.6962946653366089, 0.6936313509941101, 0.6929661631584167, 0.6919058561325073, 0.6795285940170288, 0.673377275466919, 0.673377275466919, 0.6712323427200317, 0.670027494430542, 0.6609793305397034, 0.6523232460021973, 0.6519868969917297, 0.6478046774864197, 0.6478046774864197, 0.6478046774864197, 0.6355234384536743, 0.6355234384536743, 0.6323465704917908, 0.6314980387687683, 0.6309569478034973, 0.6275455355644226, 0.6273778676986694, 0.6251020431518555, 0.6182565093040466, 0.6153621077537537, 0.6153556704521179, 0.6151188611984253, 0.6144453287124634, 0.6125448942184448, 0.6105619072914124, 0.6635957956314087, 0.6535753607749939, 0.6144354939460754, 0.604858934879303, 0.5991275310516357, 0.5991275310516357, 0.5932280421257019, 0.5863748788833618, 0.5712094306945801, 0.5710659027099609, 0.5709800720214844, 0.5700827240943909, 0.5614023804664612, 0.5609800815582275, 0.5579566955566406, 0.5559890866279602, 0.5552351474761963, 0.5543431043624878, 0.5537378191947937, 0.5501711368560791, 0.5501711368560791, 0.5482630133628845, 0.547054648399353, 0.547054648399353, 0.5468326807022095, 0.5466116666793823, 0.5409687757492065, 0.535716712474823, 0.5350300073623657, 0.5350300073623657, 0.5317572951316833, 0.5302107334136963, 0.523134708404541, 0.5177760124206543, 0.5157405138015747, 0.5113196969032288, 0.5081924200057983, 0.5081924200057983, 0.5080118179321289, 0.5065361261367798, 0.4993976354598999, 0.6923167109489441, 0.6781717538833618, 0.6350979804992676, 0.6231874227523804, 0.6197524666786194, 0.6197524666786194, 0.6155153512954712, 0.602323055267334, 0.5939834713935852, 0.5926358103752136, 0.5922746658325195, 0.585817813873291, 0.577715277671814, 0.5762299299240112, 0.5757319331169128, 0.5741723775863647, 0.5740522742271423, 0.5728780627250671, 0.5685726404190063, 0.5685726404190063, 0.5674311518669128, 0.565108060836792, 0.5647486448287964, 0.5647486448287964, 0.5634923577308655, 0.5630910992622375, 0.5532430410385132, 0.5530603528022766, 0.5530603528022766, 0.5449451804161072, 0.5424730181694031, 0.539598822593689, 0.5278145670890808, 0.5264727473258972, 0.5220473408699036, 0.5209782123565674, 0.5150213241577148, 0.5130199790000916, 0.5097942352294922, 0.5084106922149658, 0.5061348080635071, 0.8068058490753174, 0.7419266104698181, 0.6752948760986328, 0.658364474773407, 0.6024863719940186, 0.6024863719940186, 0.5981292128562927, 0.5717563033103943, 0.5629134774208069, 0.5460479855537415, 0.5096863508224487, 0.4953259825706482, 0.4953259825706482, 0.49434444308280945, 0.49124133586883545, 0.48882877826690674, 0.48799821734428406, 0.4801052510738373, 0.46228447556495667, 0.4588225185871124, 0.45573461055755615, 0.45548781752586365, 0.4549388885498047, 0.4506736099720001, 0.44319990277290344, 0.43694448471069336, 0.40113958716392517, 0.3813222050666809, 0.35896551609039307, 0.3580860495567322, 0.34920912981033325, 0.34910663962364197, 0.341814249753952, 0.3411117196083069, 0.32689303159713745, 0.3161953091621399, 0.30914580821990967, 0.30854031443595886, 0.3038804531097412, 0.3021271228790283, 0.29958754777908325, 0.6635957956314087, 0.6535753607749939, 0.6144354939460754, 0.604858934879303, 0.5991275310516357, 0.5991275310516357, 0.5932280421257019, 0.5863748788833618, 0.5712094306945801, 0.5710659027099609, 0.5709800720214844, 0.5700827240943909, 0.5614023804664612, 0.5609800815582275, 0.5579566955566406, 0.5559890866279602, 0.5552351474761963, 0.5543431043624878, 0.5537378191947937, 0.5501711368560791, 0.5501711368560791, 0.5482630133628845, 0.547054648399353, 0.547054648399353, 0.5468326807022095, 0.5466116666793823, 0.5409687757492065, 0.535716712474823, 0.5350300073623657, 0.5350300073623657, 0.5317572951316833, 0.5302107334136963, 0.523134708404541, 0.5177760124206543, 0.5157405138015747, 0.5113196969032288, 0.5081924200057983, 0.5081924200057983, 0.5080118179321289, 0.5065361261367798, 0.4993976354598999, 0.8774906396865845, 0.8774906396865845, 0.8721829652786255, 0.8618447780609131, 0.8374815583229065, 0.827284038066864, 0.7975495457649231, 0.7857654690742493, 0.7827855944633484, 0.7819001078605652, 0.7819001078605652, 0.781844973564148, 0.7813103795051575, 0.7745565176010132, 0.7745565176010132, 0.7745565176010132, 0.768557608127594, 0.763839066028595, 0.7601044178009033, 0.753732442855835, 0.7527551651000977, 0.7520506978034973, 0.7509568929672241, 0.7477949857711792, 0.7477949857711792, 0.7477949857711792, 0.7397133111953735, 0.7375982999801636, 0.7357916831970215, 0.7338482737541199, 0.7325533628463745, 0.7301080226898193, 0.7301080226898193, 0.7253820896148682, 0.7253820896148682, 0.7162689566612244, 0.7120785117149353, 0.7099618911743164, 0.7037512063980103, 0.7035176157951355, 0.7035176157951355, 0.8774906396865845, 0.8774906396865845, 0.8721829652786255, 0.8618447780609131, 0.8374815583229065, 0.827284038066864, 0.7975495457649231, 0.7857654690742493, 0.7827855944633484, 0.7819001078605652, 0.7819001078605652, 0.781844973564148, 0.7813103795051575, 0.7745565176010132, 0.7745565176010132, 0.7745565176010132, 0.768557608127594, 0.763839066028595, 0.7601044178009033, 0.753732442855835, 0.7527551651000977, 0.7520506978034973, 0.7509568929672241, 0.7477949857711792, 0.7477949857711792, 0.7477949857711792, 0.7397133111953735, 0.7375982999801636, 0.7357916831970215, 0.7338482737541199, 0.7325533628463745, 0.7301080226898193, 0.7301080226898193, 0.7253820896148682, 0.7253820896148682, 0.7162689566612244, 0.7120785117149353, 0.7099618911743164, 0.7037512063980103, 0.7035176157951355, 0.7035176157951355, 0.742573082447052, 0.5810468196868896, 0.5634498596191406, 0.5562477111816406, 0.5562477111816406, 0.5478355884552002, 0.5356455445289612, 0.5339066386222839, 0.5339066386222839, 0.5318216681480408, 0.5087591409683228, 0.5066947340965271, 0.4913952946662903, 0.4913952946662903, 0.49075546860694885, 0.4790014624595642, 0.4761973023414612, 0.4740949273109436, 0.4662640392780304, 0.4662640392780304, 0.45781704783439636, 0.45760735869407654, 0.4553208649158478, 0.44584301114082336, 0.4442392587661743, 0.4428340196609497, 0.43567192554473877, 0.43552711606025696, 0.43552711606025696, 0.43425455689430237, 0.4335339665412903, 0.42419809103012085, 0.4221463203430176, 0.4221463203430176, 0.41096627712249756, 0.41096627712249756, 0.4088810682296753, 0.40834495425224304, 0.40800175070762634, 0.4062238931655884, 0.4062238931655884, 0.8774906396865845, 0.8774906396865845, 0.8721829652786255, 0.8618447780609131, 0.8374815583229065, 0.827284038066864, 0.7975495457649231, 0.7857654690742493, 0.7827855944633484, 0.7819001078605652, 0.7819001078605652, 0.781844973564148, 0.7813103795051575, 0.7745565176010132, 0.7745565176010132, 0.7745565176010132, 0.768557608127594, 0.763839066028595, 0.7601044178009033, 0.753732442855835, 0.7527551651000977, 0.7520506978034973, 0.7509568929672241, 0.7477949857711792, 0.7477949857711792, 0.7477949857711792, 0.7397133111953735, 0.7375982999801636, 0.7357916831970215, 0.7338482737541199, 0.7325533628463745, 0.7301080226898193, 0.7301080226898193, 0.7253820896148682, 0.7253820896148682, 0.7162689566612244, 0.7120785117149353, 0.7099618911743164, 0.7037512063980103, 0.7035176157951355, 0.7035176157951355, 0.8465291261672974, 0.8309966325759888, 0.826927125453949, 0.8149411082267761, 0.8149411082267761, 0.8133752346038818, 0.8096901774406433, 0.8077555298805237, 0.805941104888916, 0.7943188548088074, 0.7920695543289185, 0.7920695543289185, 0.7898570895195007, 0.7891727685928345, 0.7830070853233337, 0.7801027894020081, 0.7800301313400269, 0.779293954372406, 0.7776840329170227, 0.7752711772918701, 0.7752711772918701, 0.7743468880653381, 0.7722331881523132, 0.7664684653282166, 0.7664684653282166, 0.7629894018173218, 0.7620340585708618, 0.7593716979026794, 0.7572627067565918, 0.757164716720581, 0.756964921951294, 0.7538623213768005, 0.7519116997718811, 0.7504029273986816, 0.7502835392951965, 0.7498016357421875, 0.7478609681129456, 0.7472457885742188, 0.7452477216720581, 0.7440868616104126, 0.7431680560112, 0.8087131381034851, 0.7907403111457825, 0.7844497561454773, 0.7844497561454773, 0.7731893062591553, 0.7685418128967285, 0.7654465436935425, 0.7515025734901428, 0.7515025734901428, 0.7444732189178467, 0.7409315705299377, 0.7369623780250549, 0.7327712178230286, 0.7323006987571716, 0.7323006987571716, 0.7307956218719482, 0.7290639877319336, 0.7277132868766785, 0.725673258304596, 0.7227650880813599, 0.7224241495132446, 0.7202525734901428, 0.7195807099342346, 0.7179632782936096, 0.7136478424072266, 0.7112117409706116, 0.710660994052887, 0.7099627256393433, 0.705504834651947, 0.705361545085907, 0.7025910019874573, 0.7021022439002991, 0.699402391910553, 0.6992785930633545, 0.6972522139549255, 0.6972522139549255, 0.6953585743904114, 0.6950676441192627, 0.6947628259658813, 0.6912890076637268, 0.6908669471740723, 0.872153103351593, 0.705929696559906, 0.6929543614387512, 0.6877777576446533, 0.6743833422660828, 0.6194864511489868, 0.6142488121986389, 0.6112065315246582, 0.6097365021705627, 0.6066846251487732, 0.6066846251487732, 0.6019355058670044, 0.5978978872299194, 0.5926686525344849, 0.5895384550094604, 0.5822314620018005, 0.5773091316223145, 0.5760111808776855, 0.5759143233299255, 0.5748268365859985, 0.5700627565383911, 0.5693952441215515, 0.5687495470046997, 0.568132758140564, 0.5644240379333496, 0.5581421256065369, 0.5578674077987671, 0.5534836649894714, 0.5434330701828003, 0.5331054329872131, 0.5331054329872131, 0.5289918184280396, 0.5277320742607117, 0.5271163582801819, 0.5242244005203247, 0.5209370255470276, 0.5209122896194458, 0.517680287361145, 0.5165183544158936, 0.515632688999176, 0.5152732133865356, 0.8506714701652527, 0.8506714701652527, 0.8442249894142151, 0.8138322234153748, 0.808333158493042, 0.8071150183677673, 0.7983707189559937, 0.7978317737579346, 0.7976821064949036, 0.792715847492218, 0.7852919697761536, 0.7852463722229004, 0.7833316326141357, 0.7833316326141357, 0.7827694416046143, 0.7827326059341431, 0.7822628021240234, 0.7784454226493835, 0.7774950861930847, 0.7769752144813538, 0.7712669372558594, 0.7692904472351074, 0.7689628005027771, 0.768631100654602, 0.7629843354225159, 0.7619078159332275, 0.7613420486450195, 0.7613420486450195, 0.7597785592079163, 0.7586755156517029, 0.7567136287689209, 0.7537393569946289, 0.7502573728561401, 0.7436978220939636, 0.7431963086128235, 0.7401862144470215, 0.7367839217185974, 0.7367839217185974, 0.7353900074958801, 0.7353900074958801, 0.7337004542350769, 0.7180755138397217, 0.6947591304779053, 0.6191153526306152, 0.6155010461807251, 0.6155010461807251, 0.6142981648445129, 0.6142981648445129, 0.6093123555183411, 0.6026039123535156, 0.5954434871673584, 0.5910412669181824, 0.5869011282920837, 0.5748674273490906, 0.5698162913322449, 0.5593896508216858, 0.5538361668586731, 0.5528472661972046, 0.5467466711997986, 0.5305500626564026, 0.5305160284042358, 0.5304929614067078, 0.5287503004074097, 0.5251792669296265, 0.5232559442520142, 0.5190289616584778, 0.5174570679664612, 0.51738041639328, 0.5151659250259399, 0.5126368403434753, 0.5105000138282776, 0.5105000138282776, 0.5088648796081543, 0.5001369118690491, 0.4990401268005371, 0.4990401268005371, 0.487671822309494, 0.4865284860134125, 0.48295751214027405, 0.47594738006591797, 0.4645475447177887, 0.4632786810398102, 0.7839247584342957, 0.7532656788825989, 0.665068507194519, 0.665068507194519, 0.6576858162879944, 0.6570051312446594, 0.6485491394996643, 0.642433762550354, 0.6386905908584595, 0.6126960515975952, 0.6042146682739258, 0.5952116847038269, 0.5923253893852234, 0.5922099351882935, 0.567147970199585, 0.5655917525291443, 0.5654667019844055, 0.5643005967140198, 0.5626746416091919, 0.5603052973747253, 0.5554230213165283, 0.5522359609603882, 0.5495319962501526, 0.5495319962501526, 0.5495234131813049, 0.5485967397689819, 0.542508065700531, 0.5383018255233765, 0.5383018255233765, 0.5352498888969421, 0.5273371934890747, 0.5240147113800049, 0.5185098648071289, 0.5094632506370544, 0.49997586011886597, 0.49997586011886597, 0.4991227686405182, 0.49857231974601746, 0.4982962906360626, 0.4973624646663666, 0.49578067660331726, 0.9376791715621948, 0.8306571245193481, 0.8246340155601501, 0.7134000658988953, 0.7061312198638916, 0.6960521340370178, 0.6751595139503479, 0.6671393513679504, 0.6566078066825867, 0.6374477744102478, 0.6308523416519165, 0.6247608661651611, 0.6247608661651611, 0.618947446346283, 0.6112134456634521, 0.5922136306762695, 0.589427649974823, 0.5853506326675415, 0.5853506326675415, 0.5770542621612549, 0.5770542621612549, 0.5707178711891174, 0.5595649480819702, 0.5366670489311218, 0.5346220135688782, 0.533039927482605, 0.516040027141571, 0.5109915733337402, 0.5081518292427063, 0.5048311352729797, 0.5043256878852844, 0.5043256878852844, 0.49886375665664673, 0.48828354477882385, 0.4874558448791504, 0.48464179039001465, 0.47672030329704285, 0.47251656651496887, 0.4720180332660675, 0.47038349509239197, 0.47038349509239197, 0.7839247584342957, 0.7532656788825989, 0.665068507194519, 0.665068507194519, 0.6576858162879944, 0.6570051312446594, 0.6485491394996643, 0.642433762550354, 0.6386905908584595, 0.6126960515975952, 0.6042146682739258, 0.5952116847038269, 0.5923253893852234, 0.5922099351882935, 0.567147970199585, 0.5655917525291443, 0.5654667019844055, 0.5643005967140198, 0.5626746416091919, 0.5603052973747253, 0.5554230213165283, 0.5522359609603882, 0.5495319962501526, 0.5495319962501526, 0.5495234131813049, 0.5485967397689819, 0.542508065700531, 0.5383018255233765, 0.5383018255233765, 0.5352498888969421, 0.5273371934890747, 0.5240147113800049, 0.5185098648071289, 0.5094632506370544, 0.49997586011886597, 0.49997586011886597, 0.4991227686405182, 0.49857231974601746, 0.4982962906360626, 0.4973624646663666, 0.49578067660331726], \"xaxis\": \"x\", \"yaxis\": \"y\"}],\n",
              "                        {\"barmode\": \"relative\", \"legend\": {\"tracegroupgap\": 0}, \"template\": {\"data\": {\"bar\": [{\"error_x\": {\"color\": \"#2a3f5f\"}, \"error_y\": {\"color\": \"#2a3f5f\"}, \"marker\": {\"line\": {\"color\": \"#E5ECF6\", \"width\": 0.5}}, \"type\": \"bar\"}], \"barpolar\": [{\"marker\": {\"line\": {\"color\": \"#E5ECF6\", \"width\": 0.5}}, \"type\": \"barpolar\"}], \"carpet\": [{\"aaxis\": {\"endlinecolor\": \"#2a3f5f\", \"gridcolor\": \"white\", \"linecolor\": \"white\", \"minorgridcolor\": \"white\", \"startlinecolor\": \"#2a3f5f\"}, \"baxis\": {\"endlinecolor\": \"#2a3f5f\", \"gridcolor\": \"white\", \"linecolor\": \"white\", \"minorgridcolor\": \"white\", \"startlinecolor\": \"#2a3f5f\"}, \"type\": \"carpet\"}], \"choropleth\": [{\"colorbar\": {\"outlinewidth\": 0, \"ticks\": \"\"}, \"type\": \"choropleth\"}], \"contour\": [{\"colorbar\": {\"outlinewidth\": 0, \"ticks\": \"\"}, \"colorscale\": [[0.0, \"#0d0887\"], [0.1111111111111111, \"#46039f\"], [0.2222222222222222, \"#7201a8\"], [0.3333333333333333, \"#9c179e\"], [0.4444444444444444, \"#bd3786\"], [0.5555555555555556, \"#d8576b\"], [0.6666666666666666, \"#ed7953\"], [0.7777777777777778, \"#fb9f3a\"], [0.8888888888888888, \"#fdca26\"], [1.0, \"#f0f921\"]], \"type\": \"contour\"}], \"contourcarpet\": [{\"colorbar\": {\"outlinewidth\": 0, \"ticks\": \"\"}, \"type\": \"contourcarpet\"}], \"heatmap\": [{\"colorbar\": {\"outlinewidth\": 0, \"ticks\": \"\"}, \"colorscale\": [[0.0, \"#0d0887\"], [0.1111111111111111, \"#46039f\"], [0.2222222222222222, \"#7201a8\"], [0.3333333333333333, \"#9c179e\"], [0.4444444444444444, \"#bd3786\"], [0.5555555555555556, \"#d8576b\"], [0.6666666666666666, \"#ed7953\"], [0.7777777777777778, \"#fb9f3a\"], [0.8888888888888888, \"#fdca26\"], [1.0, \"#f0f921\"]], \"type\": \"heatmap\"}], \"heatmapgl\": [{\"colorbar\": {\"outlinewidth\": 0, \"ticks\": \"\"}, \"colorscale\": [[0.0, \"#0d0887\"], [0.1111111111111111, \"#46039f\"], [0.2222222222222222, \"#7201a8\"], [0.3333333333333333, \"#9c179e\"], [0.4444444444444444, \"#bd3786\"], [0.5555555555555556, \"#d8576b\"], [0.6666666666666666, \"#ed7953\"], [0.7777777777777778, \"#fb9f3a\"], [0.8888888888888888, \"#fdca26\"], [1.0, \"#f0f921\"]], \"type\": \"heatmapgl\"}], \"histogram\": [{\"marker\": {\"colorbar\": {\"outlinewidth\": 0, \"ticks\": \"\"}}, \"type\": \"histogram\"}], \"histogram2d\": [{\"colorbar\": {\"outlinewidth\": 0, \"ticks\": \"\"}, \"colorscale\": [[0.0, \"#0d0887\"], [0.1111111111111111, \"#46039f\"], [0.2222222222222222, \"#7201a8\"], [0.3333333333333333, \"#9c179e\"], [0.4444444444444444, \"#bd3786\"], [0.5555555555555556, \"#d8576b\"], [0.6666666666666666, \"#ed7953\"], [0.7777777777777778, \"#fb9f3a\"], [0.8888888888888888, \"#fdca26\"], [1.0, \"#f0f921\"]], \"type\": \"histogram2d\"}], \"histogram2dcontour\": [{\"colorbar\": {\"outlinewidth\": 0, \"ticks\": \"\"}, \"colorscale\": [[0.0, \"#0d0887\"], [0.1111111111111111, \"#46039f\"], [0.2222222222222222, \"#7201a8\"], [0.3333333333333333, \"#9c179e\"], [0.4444444444444444, \"#bd3786\"], [0.5555555555555556, \"#d8576b\"], [0.6666666666666666, \"#ed7953\"], [0.7777777777777778, \"#fb9f3a\"], [0.8888888888888888, \"#fdca26\"], [1.0, \"#f0f921\"]], \"type\": \"histogram2dcontour\"}], \"mesh3d\": [{\"colorbar\": {\"outlinewidth\": 0, \"ticks\": \"\"}, \"type\": \"mesh3d\"}], \"parcoords\": [{\"line\": {\"colorbar\": {\"outlinewidth\": 0, \"ticks\": \"\"}}, \"type\": \"parcoords\"}], \"pie\": [{\"automargin\": true, \"type\": \"pie\"}], \"scatter\": [{\"marker\": {\"colorbar\": {\"outlinewidth\": 0, \"ticks\": \"\"}}, \"type\": \"scatter\"}], \"scatter3d\": [{\"line\": {\"colorbar\": {\"outlinewidth\": 0, \"ticks\": \"\"}}, \"marker\": {\"colorbar\": {\"outlinewidth\": 0, \"ticks\": \"\"}}, \"type\": \"scatter3d\"}], \"scattercarpet\": [{\"marker\": {\"colorbar\": {\"outlinewidth\": 0, \"ticks\": \"\"}}, \"type\": \"scattercarpet\"}], \"scattergeo\": [{\"marker\": {\"colorbar\": {\"outlinewidth\": 0, \"ticks\": \"\"}}, \"type\": \"scattergeo\"}], \"scattergl\": [{\"marker\": {\"colorbar\": {\"outlinewidth\": 0, \"ticks\": \"\"}}, \"type\": \"scattergl\"}], \"scattermapbox\": [{\"marker\": {\"colorbar\": {\"outlinewidth\": 0, \"ticks\": \"\"}}, \"type\": \"scattermapbox\"}], \"scatterpolar\": [{\"marker\": {\"colorbar\": {\"outlinewidth\": 0, \"ticks\": \"\"}}, \"type\": \"scatterpolar\"}], \"scatterpolargl\": [{\"marker\": {\"colorbar\": {\"outlinewidth\": 0, \"ticks\": \"\"}}, \"type\": \"scatterpolargl\"}], \"scatterternary\": [{\"marker\": {\"colorbar\": {\"outlinewidth\": 0, \"ticks\": \"\"}}, \"type\": \"scatterternary\"}], \"surface\": [{\"colorbar\": {\"outlinewidth\": 0, \"ticks\": \"\"}, \"colorscale\": [[0.0, \"#0d0887\"], [0.1111111111111111, \"#46039f\"], [0.2222222222222222, \"#7201a8\"], [0.3333333333333333, \"#9c179e\"], [0.4444444444444444, \"#bd3786\"], [0.5555555555555556, \"#d8576b\"], [0.6666666666666666, \"#ed7953\"], [0.7777777777777778, \"#fb9f3a\"], [0.8888888888888888, \"#fdca26\"], [1.0, \"#f0f921\"]], \"type\": \"surface\"}], \"table\": [{\"cells\": {\"fill\": {\"color\": \"#EBF0F8\"}, \"line\": {\"color\": \"white\"}}, \"header\": {\"fill\": {\"color\": \"#C8D4E3\"}, \"line\": {\"color\": \"white\"}}, \"type\": \"table\"}]}, \"layout\": {\"annotationdefaults\": {\"arrowcolor\": \"#2a3f5f\", \"arrowhead\": 0, \"arrowwidth\": 1}, \"coloraxis\": {\"colorbar\": {\"outlinewidth\": 0, \"ticks\": \"\"}}, \"colorscale\": {\"diverging\": [[0, \"#8e0152\"], [0.1, \"#c51b7d\"], [0.2, \"#de77ae\"], [0.3, \"#f1b6da\"], [0.4, \"#fde0ef\"], [0.5, \"#f7f7f7\"], [0.6, \"#e6f5d0\"], [0.7, \"#b8e186\"], [0.8, \"#7fbc41\"], [0.9, \"#4d9221\"], [1, \"#276419\"]], \"sequential\": [[0.0, \"#0d0887\"], [0.1111111111111111, \"#46039f\"], [0.2222222222222222, \"#7201a8\"], [0.3333333333333333, \"#9c179e\"], [0.4444444444444444, \"#bd3786\"], [0.5555555555555556, \"#d8576b\"], [0.6666666666666666, \"#ed7953\"], [0.7777777777777778, \"#fb9f3a\"], [0.8888888888888888, \"#fdca26\"], [1.0, \"#f0f921\"]], \"sequentialminus\": [[0.0, \"#0d0887\"], [0.1111111111111111, \"#46039f\"], [0.2222222222222222, \"#7201a8\"], [0.3333333333333333, \"#9c179e\"], [0.4444444444444444, \"#bd3786\"], [0.5555555555555556, \"#d8576b\"], [0.6666666666666666, \"#ed7953\"], [0.7777777777777778, \"#fb9f3a\"], [0.8888888888888888, \"#fdca26\"], [1.0, \"#f0f921\"]]}, \"colorway\": [\"#636efa\", \"#EF553B\", \"#00cc96\", \"#ab63fa\", \"#FFA15A\", \"#19d3f3\", \"#FF6692\", \"#B6E880\", \"#FF97FF\", \"#FECB52\"], \"font\": {\"color\": \"#2a3f5f\"}, \"geo\": {\"bgcolor\": \"white\", \"lakecolor\": \"white\", \"landcolor\": \"#E5ECF6\", \"showlakes\": true, \"showland\": true, \"subunitcolor\": \"white\"}, \"hoverlabel\": {\"align\": \"left\"}, \"hovermode\": \"closest\", \"mapbox\": {\"style\": \"light\"}, \"paper_bgcolor\": \"white\", \"plot_bgcolor\": \"#E5ECF6\", \"polar\": {\"angularaxis\": {\"gridcolor\": \"white\", \"linecolor\": \"white\", \"ticks\": \"\"}, \"bgcolor\": \"#E5ECF6\", \"radialaxis\": {\"gridcolor\": \"white\", \"linecolor\": \"white\", \"ticks\": \"\"}}, \"scene\": {\"xaxis\": {\"backgroundcolor\": \"#E5ECF6\", \"gridcolor\": \"white\", \"gridwidth\": 2, \"linecolor\": \"white\", \"showbackground\": true, \"ticks\": \"\", \"zerolinecolor\": \"white\"}, \"yaxis\": {\"backgroundcolor\": \"#E5ECF6\", \"gridcolor\": \"white\", \"gridwidth\": 2, \"linecolor\": \"white\", \"showbackground\": true, \"ticks\": \"\", \"zerolinecolor\": \"white\"}, \"zaxis\": {\"backgroundcolor\": \"#E5ECF6\", \"gridcolor\": \"white\", \"gridwidth\": 2, \"linecolor\": \"white\", \"showbackground\": true, \"ticks\": \"\", \"zerolinecolor\": \"white\"}}, \"shapedefaults\": {\"line\": {\"color\": \"#2a3f5f\"}}, \"ternary\": {\"aaxis\": {\"gridcolor\": \"white\", \"linecolor\": \"white\", \"ticks\": \"\"}, \"baxis\": {\"gridcolor\": \"white\", \"linecolor\": \"white\", \"ticks\": \"\"}, \"bgcolor\": \"#E5ECF6\", \"caxis\": {\"gridcolor\": \"white\", \"linecolor\": \"white\", \"ticks\": \"\"}}, \"title\": {\"x\": 0.05}, \"xaxis\": {\"automargin\": true, \"gridcolor\": \"white\", \"linecolor\": \"white\", \"ticks\": \"\", \"title\": {\"standoff\": 15}, \"zerolinecolor\": \"white\", \"zerolinewidth\": 2}, \"yaxis\": {\"automargin\": true, \"gridcolor\": \"white\", \"linecolor\": \"white\", \"ticks\": \"\", \"title\": {\"standoff\": 15}, \"zerolinecolor\": \"white\", \"zerolinewidth\": 2}}}, \"title\": {\"text\": \"LSI Scores\"}, \"xaxis\": {\"anchor\": \"y\", \"domain\": [0.0, 1.0], \"title\": {\"text\": \"score\"}}, \"yaxis\": {\"anchor\": \"x\", \"domain\": [0.0, 1.0], \"title\": {\"text\": \"count\"}}},\n",
              "                        {\"responsive\": true}\n",
              "                    ).then(function(){\n",
              "                            \n",
              "var gd = document.getElementById('4235a5fc-25b2-4ad2-a9f0-9ee8e2bbf9c8');\n",
              "var x = new MutationObserver(function (mutations, observer) {{\n",
              "        var display = window.getComputedStyle(gd).display;\n",
              "        if (!display || display === 'none') {{\n",
              "            console.log([gd, 'removed!']);\n",
              "            Plotly.purge(gd);\n",
              "            observer.disconnect();\n",
              "        }}\n",
              "}});\n",
              "\n",
              "// Listen for the removal of the full notebook cells\n",
              "var notebookContainer = gd.closest('#notebook-container');\n",
              "if (notebookContainer) {{\n",
              "    x.observe(notebookContainer, {childList: true});\n",
              "}}\n",
              "\n",
              "// Listen for the clearing of the current output cell\n",
              "var outputEl = gd.closest('.output');\n",
              "if (outputEl) {{\n",
              "    x.observe(outputEl, {childList: true});\n",
              "}}\n",
              "\n",
              "                        })\n",
              "                };\n",
              "                \n",
              "            </script>\n",
              "        </div>\n",
              "</body>\n",
              "</html>"
            ]
          },
          "metadata": {}
        }
      ]
    },
    {
      "cell_type": "code",
      "metadata": {
        "id": "RX2JvEEGPGgS"
      },
      "source": [
        "wandb.log({\"scores_hist\": fig})"
      ],
      "execution_count": 52,
      "outputs": []
    },
    {
      "cell_type": "code",
      "metadata": {
        "colab": {
          "base_uri": "https://localhost:8080/",
          "height": 990
        },
        "id": "7N81-XfdDFKV",
        "outputId": "9c86028a-6558-41dc-a88d-182cb5cf21fc"
      },
      "source": [
        "result, details = recommend_tune(df_sim, 'These Foolish Things')\n",
        "result.head(30)"
      ],
      "execution_count": 53,
      "outputs": [
        {
          "output_type": "execute_result",
          "data": {
            "text/html": [
              "<div>\n",
              "<style scoped>\n",
              "    .dataframe tbody tr th:only-of-type {\n",
              "        vertical-align: middle;\n",
              "    }\n",
              "\n",
              "    .dataframe tbody tr th {\n",
              "        vertical-align: top;\n",
              "    }\n",
              "\n",
              "    .dataframe thead th {\n",
              "        text-align: right;\n",
              "    }\n",
              "</style>\n",
              "<table border=\"1\" class=\"dataframe\">\n",
              "  <thead>\n",
              "    <tr style=\"text-align: right;\">\n",
              "      <th></th>\n",
              "      <th>index</th>\n",
              "      <th>reference</th>\n",
              "      <th>similar_title</th>\n",
              "      <th>score</th>\n",
              "      <th>max</th>\n",
              "      <th>score_div_max</th>\n",
              "    </tr>\n",
              "  </thead>\n",
              "  <tbody>\n",
              "    <tr>\n",
              "      <th>0</th>\n",
              "      <td>0</td>\n",
              "      <td>These Foolish Things</td>\n",
              "      <td>I Won't Dance</td>\n",
              "      <td>0.846529</td>\n",
              "      <td>0.850671</td>\n",
              "      <td>1.000000</td>\n",
              "    </tr>\n",
              "    <tr>\n",
              "      <th>1</th>\n",
              "      <td>1</td>\n",
              "      <td>These Foolish Things</td>\n",
              "      <td>Isn't It A Pity</td>\n",
              "      <td>0.872153</td>\n",
              "      <td>0.872153</td>\n",
              "      <td>1.000000</td>\n",
              "    </tr>\n",
              "    <tr>\n",
              "      <th>2</th>\n",
              "      <td>2</td>\n",
              "      <td>These Foolish Things</td>\n",
              "      <td>I Like The Likes Of You</td>\n",
              "      <td>0.850671</td>\n",
              "      <td>0.850671</td>\n",
              "      <td>1.000000</td>\n",
              "    </tr>\n",
              "    <tr>\n",
              "      <th>3</th>\n",
              "      <td>3</td>\n",
              "      <td>These Foolish Things</td>\n",
              "      <td>Party's Over, The</td>\n",
              "      <td>0.844225</td>\n",
              "      <td>0.850671</td>\n",
              "      <td>0.992422</td>\n",
              "    </tr>\n",
              "    <tr>\n",
              "      <th>4</th>\n",
              "      <td>4</td>\n",
              "      <td>These Foolish Things</td>\n",
              "      <td>People</td>\n",
              "      <td>0.830997</td>\n",
              "      <td>0.850671</td>\n",
              "      <td>0.981652</td>\n",
              "    </tr>\n",
              "    <tr>\n",
              "      <th>5</th>\n",
              "      <td>5</td>\n",
              "      <td>These Foolish Things</td>\n",
              "      <td>Touch Of Your Lips, The</td>\n",
              "      <td>0.814941</td>\n",
              "      <td>0.850671</td>\n",
              "      <td>0.962685</td>\n",
              "    </tr>\n",
              "    <tr>\n",
              "      <th>6</th>\n",
              "      <td>6</td>\n",
              "      <td>These Foolish Things</td>\n",
              "      <td>Don't Be That Way</td>\n",
              "      <td>0.813375</td>\n",
              "      <td>0.850671</td>\n",
              "      <td>0.960835</td>\n",
              "    </tr>\n",
              "    <tr>\n",
              "      <th>7</th>\n",
              "      <td>7</td>\n",
              "      <td>These Foolish Things</td>\n",
              "      <td>Heart And Soul</td>\n",
              "      <td>0.809690</td>\n",
              "      <td>0.850671</td>\n",
              "      <td>0.956482</td>\n",
              "    </tr>\n",
              "    <tr>\n",
              "      <th>8</th>\n",
              "      <td>8</td>\n",
              "      <td>These Foolish Things</td>\n",
              "      <td>They All Laughed</td>\n",
              "      <td>0.805941</td>\n",
              "      <td>0.846529</td>\n",
              "      <td>0.952054</td>\n",
              "    </tr>\n",
              "    <tr>\n",
              "      <th>9</th>\n",
              "      <td>9</td>\n",
              "      <td>These Foolish Things</td>\n",
              "      <td>Dinah</td>\n",
              "      <td>0.808333</td>\n",
              "      <td>0.850671</td>\n",
              "      <td>0.950230</td>\n",
              "    </tr>\n",
              "    <tr>\n",
              "      <th>10</th>\n",
              "      <td>10</td>\n",
              "      <td>These Foolish Things</td>\n",
              "      <td>Too Young To Go Steady</td>\n",
              "      <td>0.768631</td>\n",
              "      <td>0.872153</td>\n",
              "      <td>0.946499</td>\n",
              "    </tr>\n",
              "    <tr>\n",
              "      <th>11</th>\n",
              "      <td>11</td>\n",
              "      <td>These Foolish Things</td>\n",
              "      <td>Way You Look Tonight, The</td>\n",
              "      <td>0.797832</td>\n",
              "      <td>0.850671</td>\n",
              "      <td>0.937885</td>\n",
              "    </tr>\n",
              "    <tr>\n",
              "      <th>12</th>\n",
              "      <td>12</td>\n",
              "      <td>These Foolish Things</td>\n",
              "      <td>Glory Of Love, The</td>\n",
              "      <td>0.797682</td>\n",
              "      <td>0.850671</td>\n",
              "      <td>0.937709</td>\n",
              "    </tr>\n",
              "    <tr>\n",
              "      <th>13</th>\n",
              "      <td>13</td>\n",
              "      <td>These Foolish Things</td>\n",
              "      <td>Blue Moon</td>\n",
              "      <td>0.792070</td>\n",
              "      <td>0.850671</td>\n",
              "      <td>0.935667</td>\n",
              "    </tr>\n",
              "    <tr>\n",
              "      <th>14</th>\n",
              "      <td>14</td>\n",
              "      <td>These Foolish Things</td>\n",
              "      <td>Why Do I Love You</td>\n",
              "      <td>0.792716</td>\n",
              "      <td>0.850671</td>\n",
              "      <td>0.931871</td>\n",
              "    </tr>\n",
              "    <tr>\n",
              "      <th>15</th>\n",
              "      <td>15</td>\n",
              "      <td>These Foolish Things</td>\n",
              "      <td>It's A Lovely Day Today</td>\n",
              "      <td>0.785292</td>\n",
              "      <td>0.850671</td>\n",
              "      <td>0.924962</td>\n",
              "    </tr>\n",
              "    <tr>\n",
              "      <th>16</th>\n",
              "      <td>16</td>\n",
              "      <td>These Foolish Things</td>\n",
              "      <td>Fools Rush In</td>\n",
              "      <td>0.785246</td>\n",
              "      <td>0.850671</td>\n",
              "      <td>0.923090</td>\n",
              "    </tr>\n",
              "    <tr>\n",
              "      <th>17</th>\n",
              "      <td>17</td>\n",
              "      <td>These Foolish Things</td>\n",
              "      <td>As Long As I Live</td>\n",
              "      <td>0.779294</td>\n",
              "      <td>0.846529</td>\n",
              "      <td>0.920575</td>\n",
              "    </tr>\n",
              "    <tr>\n",
              "      <th>18</th>\n",
              "      <td>18</td>\n",
              "      <td>These Foolish Things</td>\n",
              "      <td>Mimi</td>\n",
              "      <td>0.782733</td>\n",
              "      <td>0.850671</td>\n",
              "      <td>0.920135</td>\n",
              "    </tr>\n",
              "    <tr>\n",
              "      <th>19</th>\n",
              "      <td>19</td>\n",
              "      <td>These Foolish Things</td>\n",
              "      <td>Nearness Of You, The</td>\n",
              "      <td>0.777684</td>\n",
              "      <td>0.846529</td>\n",
              "      <td>0.918674</td>\n",
              "    </tr>\n",
              "    <tr>\n",
              "      <th>20</th>\n",
              "      <td>20</td>\n",
              "      <td>These Foolish Things</td>\n",
              "      <td>Time After Time</td>\n",
              "      <td>0.774347</td>\n",
              "      <td>0.850671</td>\n",
              "      <td>0.916186</td>\n",
              "    </tr>\n",
              "    <tr>\n",
              "      <th>21</th>\n",
              "      <td>21</td>\n",
              "      <td>These Foolish Things</td>\n",
              "      <td>Try A Little Tenderness</td>\n",
              "      <td>0.777495</td>\n",
              "      <td>0.850671</td>\n",
              "      <td>0.913978</td>\n",
              "    </tr>\n",
              "    <tr>\n",
              "      <th>22</th>\n",
              "      <td>22</td>\n",
              "      <td>These Foolish Things</td>\n",
              "      <td>All God's Chillun Got Rhythm</td>\n",
              "      <td>0.766468</td>\n",
              "      <td>0.872153</td>\n",
              "      <td>0.905425</td>\n",
              "    </tr>\n",
              "    <tr>\n",
              "      <th>23</th>\n",
              "      <td>23</td>\n",
              "      <td>These Foolish Things</td>\n",
              "      <td>Polkadots And Moonbeams</td>\n",
              "      <td>0.769290</td>\n",
              "      <td>0.850671</td>\n",
              "      <td>0.904333</td>\n",
              "    </tr>\n",
              "    <tr>\n",
              "      <th>24</th>\n",
              "      <td>24</td>\n",
              "      <td>These Foolish Things</td>\n",
              "      <td>Emily</td>\n",
              "      <td>0.762034</td>\n",
              "      <td>0.846529</td>\n",
              "      <td>0.901511</td>\n",
              "    </tr>\n",
              "    <tr>\n",
              "      <th>25</th>\n",
              "      <td>25</td>\n",
              "      <td>These Foolish Things</td>\n",
              "      <td>Bewitched</td>\n",
              "      <td>0.762989</td>\n",
              "      <td>0.846529</td>\n",
              "      <td>0.901315</td>\n",
              "    </tr>\n",
              "    <tr>\n",
              "      <th>26</th>\n",
              "      <td>26</td>\n",
              "      <td>These Foolish Things</td>\n",
              "      <td>I Can't Get Started</td>\n",
              "      <td>0.709963</td>\n",
              "      <td>0.808713</td>\n",
              "      <td>0.877892</td>\n",
              "    </tr>\n",
              "    <tr>\n",
              "      <th>27</th>\n",
              "      <td>27</td>\n",
              "      <td>These Foolish Things</td>\n",
              "      <td>Imagination</td>\n",
              "      <td>0.705930</td>\n",
              "      <td>0.872153</td>\n",
              "      <td>0.809410</td>\n",
              "    </tr>\n",
              "    <tr>\n",
              "      <th>28</th>\n",
              "      <td>28</td>\n",
              "      <td>These Foolish Things</td>\n",
              "      <td>I've Told Eve'ry Little Star</td>\n",
              "      <td>0.692954</td>\n",
              "      <td>0.872153</td>\n",
              "      <td>0.794533</td>\n",
              "    </tr>\n",
              "    <tr>\n",
              "      <th>29</th>\n",
              "      <td>29</td>\n",
              "      <td>These Foolish Things</td>\n",
              "      <td>More Than You Know</td>\n",
              "      <td>0.687778</td>\n",
              "      <td>0.872153</td>\n",
              "      <td>0.788598</td>\n",
              "    </tr>\n",
              "  </tbody>\n",
              "</table>\n",
              "</div>"
            ],
            "text/plain": [
              "    index             reference  ...       max  score_div_max\n",
              "0       0  These Foolish Things  ...  0.850671       1.000000\n",
              "1       1  These Foolish Things  ...  0.872153       1.000000\n",
              "2       2  These Foolish Things  ...  0.850671       1.000000\n",
              "3       3  These Foolish Things  ...  0.850671       0.992422\n",
              "4       4  These Foolish Things  ...  0.850671       0.981652\n",
              "5       5  These Foolish Things  ...  0.850671       0.962685\n",
              "6       6  These Foolish Things  ...  0.850671       0.960835\n",
              "7       7  These Foolish Things  ...  0.850671       0.956482\n",
              "8       8  These Foolish Things  ...  0.846529       0.952054\n",
              "9       9  These Foolish Things  ...  0.850671       0.950230\n",
              "10     10  These Foolish Things  ...  0.872153       0.946499\n",
              "11     11  These Foolish Things  ...  0.850671       0.937885\n",
              "12     12  These Foolish Things  ...  0.850671       0.937709\n",
              "13     13  These Foolish Things  ...  0.850671       0.935667\n",
              "14     14  These Foolish Things  ...  0.850671       0.931871\n",
              "15     15  These Foolish Things  ...  0.850671       0.924962\n",
              "16     16  These Foolish Things  ...  0.850671       0.923090\n",
              "17     17  These Foolish Things  ...  0.846529       0.920575\n",
              "18     18  These Foolish Things  ...  0.850671       0.920135\n",
              "19     19  These Foolish Things  ...  0.846529       0.918674\n",
              "20     20  These Foolish Things  ...  0.850671       0.916186\n",
              "21     21  These Foolish Things  ...  0.850671       0.913978\n",
              "22     22  These Foolish Things  ...  0.872153       0.905425\n",
              "23     23  These Foolish Things  ...  0.850671       0.904333\n",
              "24     24  These Foolish Things  ...  0.846529       0.901511\n",
              "25     25  These Foolish Things  ...  0.846529       0.901315\n",
              "26     26  These Foolish Things  ...  0.808713       0.877892\n",
              "27     27  These Foolish Things  ...  0.872153       0.809410\n",
              "28     28  These Foolish Things  ...  0.872153       0.794533\n",
              "29     29  These Foolish Things  ...  0.872153       0.788598\n",
              "\n",
              "[30 rows x 6 columns]"
            ]
          },
          "metadata": {},
          "execution_count": 53
        }
      ]
    },
    {
      "cell_type": "code",
      "metadata": {
        "id": "15ZsHOQmyyah"
      },
      "source": [
        "dd = pd.DataFrame(columns = recommender_results_cols)\n",
        "\n",
        "for tune in tunes_eval_list:\n",
        "  result, details = recommend_tune(df_sim, tune)\n",
        "  dd['id'] = result['index']\n",
        "  dd['reference'] = tune\n",
        "  dd['method'] = 'lsi'\n",
        "  dd['similar'] = result['similar_title']\n",
        "  dd['score_div_max'] = result['score_div_max']\n",
        "  dd['score'] = result['score']\n",
        "\n",
        "recommender_results = recommender_results.append(dd)"
      ],
      "execution_count": 54,
      "outputs": []
    },
    {
      "cell_type": "markdown",
      "metadata": {
        "id": "asScIocQRMPA"
      },
      "source": [
        "## Determine Number of Topics for LSI Model\n",
        "\n",
        "This sample comes from Datacamp: \n",
        "\n",
        "https://www.datacamp.com/community/tutorials/discovering-hidden-topics-python\n"
      ]
    },
    {
      "cell_type": "markdown",
      "metadata": {
        "id": "1TPNWFEPSxZ-"
      },
      "source": [
        "What is the best way to determine k (number of topics) in topic modeling? Identify the optimum number of topics in the given corpus text is a challenging task. We can use the following options for determining the optimum number of topics:\n",
        "\n",
        "* One way to determine the optimum number of topics is to consider each topic as a cluster and find out the effectiveness of a cluster using the Silhouette coefficient.\n",
        "* Topic coherence measure is a realistic measure for identifying the number of topics.\n",
        "\n",
        "Topic Coherence measure is a widely used metric to evaluate topic models. It uses the latent variable models. Each generated topic has a list of words. In topic coherence measure, you will find average/median of pairwise word similarity scores of the words in a topic. The high value of topic coherence score model will be considered as a good topic model. "
      ]
    },
    {
      "cell_type": "code",
      "metadata": {
        "id": "umpCyQQzRLgv"
      },
      "source": [
        "def prepare_corpus(doc_clean):\n",
        "    \"\"\"\n",
        "    Input  : clean document\n",
        "    Purpose: create term dictionary of our courpus and Converting list of documents (corpus) into Document Term Matrix\n",
        "    Output : term dictionary and Document Term Matrix\n",
        "    \"\"\"\n",
        "    # Creating the term dictionary of our courpus, where every unique term is assigned an index. dictionary = corpora.Dictionary(doc_clean)\n",
        "    dictionary = corpora.Dictionary(doc_clean)\n",
        "    # Converting list of documents (corpus) into Document Term Matrix using dictionary prepared above.\n",
        "    doc_term_matrix = [dictionary.doc2bow(doc) for doc in doc_clean]\n",
        "    # generate LDA model\n",
        "    return dictionary, doc_term_matrix"
      ],
      "execution_count": 55,
      "outputs": []
    },
    {
      "cell_type": "code",
      "metadata": {
        "id": "aS2wxIEERcul"
      },
      "source": [
        "def compute_coherence_values(dictionary, doc_term_matrix, doc_clean, stop, start=2, step=3):\n",
        "    \"\"\"\n",
        "    Input   : dictionary : Gensim dictionary\n",
        "              corpus : Gensim corpus\n",
        "              texts : List of input texts\n",
        "              stop : Max num of topics\n",
        "    purpose : Compute c_v coherence for various number of topics\n",
        "    Output  : model_list : List of LSA topic models\n",
        "              coherence_values : Coherence values corresponding to the LDA model with respective number of topics\n",
        "    \"\"\"\n",
        "    coherence_values = []\n",
        "    model_list = []\n",
        "    for num_topics in range(start, stop, step):\n",
        "        # generate LSA model\n",
        "        model = LsiModel(doc_term_matrix, num_topics=num_topics, id2word = dictionary)  # train model\n",
        "        model_list.append(model)\n",
        "        coherencemodel = CoherenceModel(model=model, texts=doc_clean, dictionary=dictionary, coherence='c_v')\n",
        "        coherence_values.append(coherencemodel.get_coherence())\n",
        "    return model_list, coherence_values"
      ],
      "execution_count": 56,
      "outputs": []
    },
    {
      "cell_type": "code",
      "metadata": {
        "id": "DjyzAzWBRfrH"
      },
      "source": [
        "def plot_graph(doc_clean,start, stop, step):\n",
        "    dictionary, doc_term_matrix = prepare_corpus(doc_clean)\n",
        "    model_list, coherence_values = compute_coherence_values(dictionary, doc_term_matrix,doc_clean,\n",
        "                                                            stop, start, step)\n",
        "    # Show graph\n",
        "    x = range(start, stop, step)\n",
        "    plt.plot(x, coherence_values)\n",
        "    plt.xlabel(\"Number of Topics\")\n",
        "    plt.ylabel(\"Coherence score\")\n",
        "    plt.legend((\"coherence_values\"), loc='best')\n",
        "    plt.show()"
      ],
      "execution_count": 57,
      "outputs": []
    },
    {
      "cell_type": "code",
      "metadata": {
        "id": "qy9ZjdcmRhxs"
      },
      "source": [
        "# evaluate a good number of topics for the LSI Model. This takes some time.\n",
        "\n",
        "if False:\n",
        "\n",
        "  start, stop, step = 1, 500, 10\n",
        "  plot_graph(data, start, stop, step)"
      ],
      "execution_count": 58,
      "outputs": []
    },
    {
      "cell_type": "markdown",
      "metadata": {
        "id": "Qo5NgBHFlqgg"
      },
      "source": [
        "For unigrams, the best number of topics seems to be around 20.\n",
        "\n",
        "For unigrams plus bigrams, the coherence score drops down until 100 and then continuously rises until 500 and continues to rise. Same for bigrams-only."
      ]
    },
    {
      "cell_type": "markdown",
      "metadata": {
        "id": "lTQKfd0xQQ65"
      },
      "source": [
        "Store Model to W&B"
      ]
    },
    {
      "cell_type": "code",
      "metadata": {
        "colab": {
          "base_uri": "https://localhost:8080/"
        },
        "id": "RfAYF7ArQUXo",
        "outputId": "0ae7fa76-4d39-4db9-d7b8-2cb0b51ba321"
      },
      "source": [
        "model_artifact = wandb.Artifact(\n",
        "    \"trained-model\", \n",
        "    type=\"model\",\n",
        "    description=\"LSI model\",\n",
        "    metadata=\"\")\n",
        "\n",
        "model_artifact.add_file(\"/content/index/lsi.model\")\n",
        "model_artifact.add_file(\"/content/index/lsi_matrixsim.index\")\n",
        "model_artifact.add_file(\"/content/index/lsi.model.projection\")\n",
        "wandb.log_artifact(model_artifact)"
      ],
      "execution_count": 59,
      "outputs": [
        {
          "output_type": "execute_result",
          "data": {
            "text/plain": [
              "<wandb.sdk.wandb_artifacts.Artifact at 0x7f7f6df67e10>"
            ]
          },
          "metadata": {},
          "execution_count": 59
        }
      ]
    },
    {
      "cell_type": "markdown",
      "metadata": {
        "id": "rF_INicGhXKd"
      },
      "source": [
        "# Doc2Vec"
      ]
    },
    {
      "cell_type": "code",
      "metadata": {
        "id": "wflSccBshkIk"
      },
      "source": [
        "def get_tagged_documents(corpus, tags=None):\n",
        "  if tags == 'SectionsTunes':\n",
        "    print('Tagging input data with both section and tune information.')\n",
        "  else:\n",
        "    print('Tagging input data with section informaiton only.')\n",
        "    \n",
        "  for i, tokens in enumerate(corpus):\n",
        "    if tags == 'SectionsTunes':\n",
        "      yield gensim.models.doc2vec.TaggedDocument(tokens, [i, f'titleid_{sectionid_to_titleid[i]}'])\n",
        "    else:\n",
        "      yield gensim.models.doc2vec.TaggedDocument(tokens, [i])  # diatonic chord distance is a bit better"
      ],
      "execution_count": 60,
      "outputs": []
    },
    {
      "cell_type": "code",
      "metadata": {
        "colab": {
          "base_uri": "https://localhost:8080/"
        },
        "id": "_u0RdBI1kYD9",
        "outputId": "2f2ed6a4-b183-4a36-ff35-2c789c5248e8"
      },
      "source": [
        "train_corpus = list(get_tagged_documents(processed_corpus, doc2vec_config['general']['document_tags']))\n",
        "train_corpus[1000]"
      ],
      "execution_count": 61,
      "outputs": [
        {
          "output_type": "stream",
          "name": "stdout",
          "text": [
            "Tagging input data with both section and tune information.\n"
          ]
        },
        {
          "output_type": "execute_result",
          "data": {
            "text/plain": [
              "TaggedDocument(words=['CM7-Am7', 'Am7-Dm7', 'Dm7-G7', 'G7-CM7', 'CM7-FM7', 'FM7-C', 'C-Am7', 'Am7-Dm7', 'Dm7-G7', 'G7-C6', 'C6-Dm7', 'Dm7-G7'], tags=[1000, 'titleid_308'])"
            ]
          },
          "metadata": {},
          "execution_count": 61
        }
      ]
    },
    {
      "cell_type": "code",
      "metadata": {
        "colab": {
          "base_uri": "https://localhost:8080/"
        },
        "id": "M9adPoy9reaw",
        "outputId": "b6057275-6797-489e-8ef2-001dc0d6bbbf"
      },
      "source": [
        "import multiprocessing\n",
        "\n",
        "print(f\"CPU Count: {multiprocessing.cpu_count()}\")\n",
        "print(f\"Config:\")\n",
        "print(doc2vec_config['model'])\n",
        "\n",
        "model = Doc2Vec(train_corpus,\n",
        "                **doc2vec_config['model']\n",
        "                )"
      ],
      "execution_count": 62,
      "outputs": [
        {
          "output_type": "stream",
          "name": "stderr",
          "text": [
            "2021-11-21 20:36:57,797 : INFO : collecting all words and their counts\n",
            "2021-11-21 20:36:57,798 : INFO : PROGRESS: at example #0, processed 0 words (0/s), 0 word types, 0 tags\n",
            "2021-11-21 20:36:57,853 : INFO : collected 3756 word types and 7215 unique tags from a corpus of 5403 examples and 77387 words\n",
            "2021-11-21 20:36:57,855 : INFO : Creating a fresh vocabulary\n",
            "2021-11-21 20:36:57,876 : INFO : Doc2Vec lifecycle event {'msg': 'effective_min_count=1 retains 3756 unique words (100.0%% of original 3756, drops 0)', 'datetime': '2021-11-21T20:36:57.875990', 'gensim': '4.1.2', 'python': '3.7.12 (default, Sep 10 2021, 00:21:48) \\n[GCC 7.5.0]', 'platform': 'Linux-5.4.104+-x86_64-with-Ubuntu-18.04-bionic', 'event': 'prepare_vocab'}\n",
            "2021-11-21 20:36:57,878 : INFO : Doc2Vec lifecycle event {'msg': 'effective_min_count=1 leaves 77387 word corpus (100.0%% of original 77387, drops 0)', 'datetime': '2021-11-21T20:36:57.878930', 'gensim': '4.1.2', 'python': '3.7.12 (default, Sep 10 2021, 00:21:48) \\n[GCC 7.5.0]', 'platform': 'Linux-5.4.104+-x86_64-with-Ubuntu-18.04-bionic', 'event': 'prepare_vocab'}\n",
            "2021-11-21 20:36:57,916 : INFO : deleting the raw counts dictionary of 3756 items\n",
            "2021-11-21 20:36:57,918 : INFO : sample=0.001 downsamples 70 most-common words\n",
            "2021-11-21 20:36:57,920 : INFO : Doc2Vec lifecycle event {'msg': 'downsampling leaves estimated 53404.286855651844 word corpus (69.0%% of prior 77387)', 'datetime': '2021-11-21T20:36:57.920130', 'gensim': '4.1.2', 'python': '3.7.12 (default, Sep 10 2021, 00:21:48) \\n[GCC 7.5.0]', 'platform': 'Linux-5.4.104+-x86_64-with-Ubuntu-18.04-bionic', 'event': 'prepare_vocab'}\n"
          ]
        },
        {
          "output_type": "stream",
          "name": "stdout",
          "text": [
            "CPU Count: 2\n",
            "Config:\n",
            "{'dm': 1, 'vector_size': 100, 'window': 4, 'epochs': 40, 'min_count': 1, 'negative': 10, 'sample': 0.001, 'seed': 42}\n"
          ]
        },
        {
          "output_type": "stream",
          "name": "stderr",
          "text": [
            "2021-11-21 20:36:57,982 : INFO : estimated required memory for 3756 words and 100 dimensions: 9211800 bytes\n",
            "2021-11-21 20:36:57,986 : INFO : resetting layer weights\n",
            "2021-11-21 20:36:57,998 : INFO : Doc2Vec lifecycle event {'msg': 'training model with 3 workers on 3756 vocabulary and 100 features, using sg=0 hs=0 sample=0.001 negative=10 window=4 shrink_windows=True', 'datetime': '2021-11-21T20:36:57.998273', 'gensim': '4.1.2', 'python': '3.7.12 (default, Sep 10 2021, 00:21:48) \\n[GCC 7.5.0]', 'platform': 'Linux-5.4.104+-x86_64-with-Ubuntu-18.04-bionic', 'event': 'train'}\n",
            "2021-11-21 20:36:58,697 : INFO : worker thread finished; awaiting finish of 2 more threads\n",
            "2021-11-21 20:36:58,771 : INFO : worker thread finished; awaiting finish of 1 more threads\n",
            "2021-11-21 20:36:58,788 : INFO : worker thread finished; awaiting finish of 0 more threads\n",
            "2021-11-21 20:36:58,790 : INFO : EPOCH - 1 : training on 77387 raw words (64333 effective words) took 0.8s, 82394 effective words/s\n",
            "2021-11-21 20:36:59,434 : INFO : worker thread finished; awaiting finish of 2 more threads\n",
            "2021-11-21 20:36:59,526 : INFO : worker thread finished; awaiting finish of 1 more threads\n",
            "2021-11-21 20:36:59,545 : INFO : worker thread finished; awaiting finish of 0 more threads\n",
            "2021-11-21 20:36:59,547 : INFO : EPOCH - 2 : training on 77387 raw words (64163 effective words) took 0.7s, 86458 effective words/s\n",
            "2021-11-21 20:37:00,234 : INFO : worker thread finished; awaiting finish of 2 more threads\n",
            "2021-11-21 20:37:00,314 : INFO : worker thread finished; awaiting finish of 1 more threads\n",
            "2021-11-21 20:37:00,331 : INFO : worker thread finished; awaiting finish of 0 more threads\n",
            "2021-11-21 20:37:00,336 : INFO : EPOCH - 3 : training on 77387 raw words (64227 effective words) took 0.8s, 82803 effective words/s\n",
            "2021-11-21 20:37:00,978 : INFO : worker thread finished; awaiting finish of 2 more threads\n",
            "2021-11-21 20:37:01,063 : INFO : worker thread finished; awaiting finish of 1 more threads\n",
            "2021-11-21 20:37:01,085 : INFO : worker thread finished; awaiting finish of 0 more threads\n",
            "2021-11-21 20:37:01,086 : INFO : EPOCH - 4 : training on 77387 raw words (63968 effective words) took 0.7s, 86900 effective words/s\n",
            "2021-11-21 20:37:01,745 : INFO : worker thread finished; awaiting finish of 2 more threads\n",
            "2021-11-21 20:37:01,834 : INFO : worker thread finished; awaiting finish of 1 more threads\n",
            "2021-11-21 20:37:01,855 : INFO : worker thread finished; awaiting finish of 0 more threads\n",
            "2021-11-21 20:37:01,858 : INFO : EPOCH - 5 : training on 77387 raw words (64177 effective words) took 0.8s, 84733 effective words/s\n",
            "2021-11-21 20:37:02,531 : INFO : worker thread finished; awaiting finish of 2 more threads\n",
            "2021-11-21 20:37:02,617 : INFO : worker thread finished; awaiting finish of 1 more threads\n",
            "2021-11-21 20:37:02,637 : INFO : worker thread finished; awaiting finish of 0 more threads\n",
            "2021-11-21 20:37:02,639 : INFO : EPOCH - 6 : training on 77387 raw words (64324 effective words) took 0.8s, 84027 effective words/s\n",
            "2021-11-21 20:37:03,347 : INFO : worker thread finished; awaiting finish of 2 more threads\n",
            "2021-11-21 20:37:03,440 : INFO : worker thread finished; awaiting finish of 1 more threads\n",
            "2021-11-21 20:37:03,451 : INFO : worker thread finished; awaiting finish of 0 more threads\n",
            "2021-11-21 20:37:03,453 : INFO : EPOCH - 7 : training on 77387 raw words (64341 effective words) took 0.8s, 80638 effective words/s\n",
            "2021-11-21 20:37:04,091 : INFO : worker thread finished; awaiting finish of 2 more threads\n",
            "2021-11-21 20:37:04,166 : INFO : worker thread finished; awaiting finish of 1 more threads\n",
            "2021-11-21 20:37:04,180 : INFO : worker thread finished; awaiting finish of 0 more threads\n",
            "2021-11-21 20:37:04,182 : INFO : EPOCH - 8 : training on 77387 raw words (64168 effective words) took 0.7s, 89695 effective words/s\n",
            "2021-11-21 20:37:04,769 : INFO : worker thread finished; awaiting finish of 2 more threads\n",
            "2021-11-21 20:37:04,860 : INFO : worker thread finished; awaiting finish of 1 more threads\n",
            "2021-11-21 20:37:04,879 : INFO : worker thread finished; awaiting finish of 0 more threads\n",
            "2021-11-21 20:37:04,881 : INFO : EPOCH - 9 : training on 77387 raw words (64328 effective words) took 0.7s, 93896 effective words/s\n",
            "2021-11-21 20:37:05,508 : INFO : worker thread finished; awaiting finish of 2 more threads\n",
            "2021-11-21 20:37:05,589 : INFO : worker thread finished; awaiting finish of 1 more threads\n",
            "2021-11-21 20:37:05,603 : INFO : worker thread finished; awaiting finish of 0 more threads\n",
            "2021-11-21 20:37:05,605 : INFO : EPOCH - 10 : training on 77387 raw words (64163 effective words) took 0.7s, 90381 effective words/s\n",
            "2021-11-21 20:37:06,237 : INFO : worker thread finished; awaiting finish of 2 more threads\n",
            "2021-11-21 20:37:06,330 : INFO : worker thread finished; awaiting finish of 1 more threads\n",
            "2021-11-21 20:37:06,345 : INFO : worker thread finished; awaiting finish of 0 more threads\n",
            "2021-11-21 20:37:06,347 : INFO : EPOCH - 11 : training on 77387 raw words (64121 effective words) took 0.7s, 88290 effective words/s\n",
            "2021-11-21 20:37:07,001 : INFO : worker thread finished; awaiting finish of 2 more threads\n",
            "2021-11-21 20:37:07,093 : INFO : worker thread finished; awaiting finish of 1 more threads\n",
            "2021-11-21 20:37:07,114 : INFO : worker thread finished; awaiting finish of 0 more threads\n",
            "2021-11-21 20:37:07,116 : INFO : EPOCH - 12 : training on 77387 raw words (64175 effective words) took 0.8s, 84595 effective words/s\n",
            "2021-11-21 20:37:07,802 : INFO : worker thread finished; awaiting finish of 2 more threads\n",
            "2021-11-21 20:37:07,901 : INFO : worker thread finished; awaiting finish of 1 more threads\n",
            "2021-11-21 20:37:07,913 : INFO : worker thread finished; awaiting finish of 0 more threads\n",
            "2021-11-21 20:37:07,914 : INFO : EPOCH - 13 : training on 77387 raw words (64072 effective words) took 0.8s, 81783 effective words/s\n",
            "2021-11-21 20:37:08,551 : INFO : worker thread finished; awaiting finish of 2 more threads\n",
            "2021-11-21 20:37:08,633 : INFO : worker thread finished; awaiting finish of 1 more threads\n",
            "2021-11-21 20:37:08,651 : INFO : worker thread finished; awaiting finish of 0 more threads\n",
            "2021-11-21 20:37:08,652 : INFO : EPOCH - 14 : training on 77387 raw words (64208 effective words) took 0.7s, 88668 effective words/s\n",
            "2021-11-21 20:37:09,315 : INFO : worker thread finished; awaiting finish of 2 more threads\n",
            "2021-11-21 20:37:09,412 : INFO : worker thread finished; awaiting finish of 1 more threads\n",
            "2021-11-21 20:37:09,428 : INFO : worker thread finished; awaiting finish of 0 more threads\n",
            "2021-11-21 20:37:09,429 : INFO : EPOCH - 15 : training on 77387 raw words (64291 effective words) took 0.8s, 84198 effective words/s\n",
            "2021-11-21 20:37:10,084 : INFO : worker thread finished; awaiting finish of 2 more threads\n",
            "2021-11-21 20:37:10,172 : INFO : worker thread finished; awaiting finish of 1 more threads\n",
            "2021-11-21 20:37:10,186 : INFO : worker thread finished; awaiting finish of 0 more threads\n",
            "2021-11-21 20:37:10,187 : INFO : EPOCH - 16 : training on 77387 raw words (64402 effective words) took 0.7s, 86434 effective words/s\n",
            "2021-11-21 20:37:10,838 : INFO : worker thread finished; awaiting finish of 2 more threads\n",
            "2021-11-21 20:37:10,922 : INFO : worker thread finished; awaiting finish of 1 more threads\n",
            "2021-11-21 20:37:10,941 : INFO : worker thread finished; awaiting finish of 0 more threads\n",
            "2021-11-21 20:37:10,945 : INFO : EPOCH - 17 : training on 77387 raw words (64270 effective words) took 0.7s, 86020 effective words/s\n",
            "2021-11-21 20:37:11,582 : INFO : worker thread finished; awaiting finish of 2 more threads\n",
            "2021-11-21 20:37:11,677 : INFO : worker thread finished; awaiting finish of 1 more threads\n",
            "2021-11-21 20:37:11,691 : INFO : worker thread finished; awaiting finish of 0 more threads\n",
            "2021-11-21 20:37:11,692 : INFO : EPOCH - 18 : training on 77387 raw words (64156 effective words) took 0.7s, 87275 effective words/s\n",
            "2021-11-21 20:37:12,318 : INFO : worker thread finished; awaiting finish of 2 more threads\n",
            "2021-11-21 20:37:12,401 : INFO : worker thread finished; awaiting finish of 1 more threads\n",
            "2021-11-21 20:37:12,426 : INFO : worker thread finished; awaiting finish of 0 more threads\n",
            "2021-11-21 20:37:12,427 : INFO : EPOCH - 19 : training on 77387 raw words (64076 effective words) took 0.7s, 88715 effective words/s\n",
            "2021-11-21 20:37:13,055 : INFO : worker thread finished; awaiting finish of 2 more threads\n",
            "2021-11-21 20:37:13,137 : INFO : worker thread finished; awaiting finish of 1 more threads\n",
            "2021-11-21 20:37:13,148 : INFO : worker thread finished; awaiting finish of 0 more threads\n",
            "2021-11-21 20:37:13,151 : INFO : EPOCH - 20 : training on 77387 raw words (64098 effective words) took 0.7s, 89773 effective words/s\n",
            "2021-11-21 20:37:13,786 : INFO : worker thread finished; awaiting finish of 2 more threads\n",
            "2021-11-21 20:37:13,876 : INFO : worker thread finished; awaiting finish of 1 more threads\n",
            "2021-11-21 20:37:13,901 : INFO : worker thread finished; awaiting finish of 0 more threads\n",
            "2021-11-21 20:37:13,902 : INFO : EPOCH - 21 : training on 77387 raw words (64191 effective words) took 0.7s, 86879 effective words/s\n",
            "2021-11-21 20:37:14,486 : INFO : worker thread finished; awaiting finish of 2 more threads\n",
            "2021-11-21 20:37:14,574 : INFO : worker thread finished; awaiting finish of 1 more threads\n",
            "2021-11-21 20:37:14,591 : INFO : worker thread finished; awaiting finish of 0 more threads\n",
            "2021-11-21 20:37:14,592 : INFO : EPOCH - 22 : training on 77387 raw words (64181 effective words) took 0.7s, 94988 effective words/s\n",
            "2021-11-21 20:37:15,216 : INFO : worker thread finished; awaiting finish of 2 more threads\n",
            "2021-11-21 20:37:15,295 : INFO : worker thread finished; awaiting finish of 1 more threads\n",
            "2021-11-21 20:37:15,313 : INFO : worker thread finished; awaiting finish of 0 more threads\n",
            "2021-11-21 20:37:15,316 : INFO : EPOCH - 23 : training on 77387 raw words (64128 effective words) took 0.7s, 89935 effective words/s\n",
            "2021-11-21 20:37:15,978 : INFO : worker thread finished; awaiting finish of 2 more threads\n",
            "2021-11-21 20:37:16,048 : INFO : worker thread finished; awaiting finish of 1 more threads\n",
            "2021-11-21 20:37:16,062 : INFO : worker thread finished; awaiting finish of 0 more threads\n",
            "2021-11-21 20:37:16,063 : INFO : EPOCH - 24 : training on 77387 raw words (64378 effective words) took 0.7s, 88303 effective words/s\n",
            "2021-11-21 20:37:16,675 : INFO : worker thread finished; awaiting finish of 2 more threads\n",
            "2021-11-21 20:37:16,765 : INFO : worker thread finished; awaiting finish of 1 more threads\n",
            "2021-11-21 20:37:16,781 : INFO : worker thread finished; awaiting finish of 0 more threads\n",
            "2021-11-21 20:37:16,782 : INFO : EPOCH - 25 : training on 77387 raw words (64192 effective words) took 0.7s, 91226 effective words/s\n",
            "2021-11-21 20:37:17,483 : INFO : worker thread finished; awaiting finish of 2 more threads\n",
            "2021-11-21 20:37:17,573 : INFO : worker thread finished; awaiting finish of 1 more threads\n",
            "2021-11-21 20:37:17,591 : INFO : worker thread finished; awaiting finish of 0 more threads\n",
            "2021-11-21 20:37:17,595 : INFO : EPOCH - 26 : training on 77387 raw words (64259 effective words) took 0.8s, 80903 effective words/s\n",
            "2021-11-21 20:37:18,204 : INFO : worker thread finished; awaiting finish of 2 more threads\n",
            "2021-11-21 20:37:18,287 : INFO : worker thread finished; awaiting finish of 1 more threads\n",
            "2021-11-21 20:37:18,303 : INFO : worker thread finished; awaiting finish of 0 more threads\n",
            "2021-11-21 20:37:18,305 : INFO : EPOCH - 27 : training on 77387 raw words (64097 effective words) took 0.7s, 91685 effective words/s\n",
            "2021-11-21 20:37:18,924 : INFO : worker thread finished; awaiting finish of 2 more threads\n",
            "2021-11-21 20:37:19,015 : INFO : worker thread finished; awaiting finish of 1 more threads\n",
            "2021-11-21 20:37:19,028 : INFO : worker thread finished; awaiting finish of 0 more threads\n",
            "2021-11-21 20:37:19,029 : INFO : EPOCH - 28 : training on 77387 raw words (64253 effective words) took 0.7s, 90550 effective words/s\n",
            "2021-11-21 20:37:19,659 : INFO : worker thread finished; awaiting finish of 2 more threads\n",
            "2021-11-21 20:37:19,766 : INFO : worker thread finished; awaiting finish of 1 more threads\n",
            "2021-11-21 20:37:19,779 : INFO : worker thread finished; awaiting finish of 0 more threads\n",
            "2021-11-21 20:37:19,781 : INFO : EPOCH - 29 : training on 77387 raw words (64266 effective words) took 0.7s, 87060 effective words/s\n",
            "2021-11-21 20:37:20,431 : INFO : worker thread finished; awaiting finish of 2 more threads\n",
            "2021-11-21 20:37:20,517 : INFO : worker thread finished; awaiting finish of 1 more threads\n",
            "2021-11-21 20:37:20,532 : INFO : worker thread finished; awaiting finish of 0 more threads\n",
            "2021-11-21 20:37:20,534 : INFO : EPOCH - 30 : training on 77387 raw words (64030 effective words) took 0.7s, 86731 effective words/s\n",
            "2021-11-21 20:37:21,167 : INFO : worker thread finished; awaiting finish of 2 more threads\n",
            "2021-11-21 20:37:21,257 : INFO : worker thread finished; awaiting finish of 1 more threads\n",
            "2021-11-21 20:37:21,274 : INFO : worker thread finished; awaiting finish of 0 more threads\n",
            "2021-11-21 20:37:21,275 : INFO : EPOCH - 31 : training on 77387 raw words (64321 effective words) took 0.7s, 88132 effective words/s\n",
            "2021-11-21 20:37:21,887 : INFO : worker thread finished; awaiting finish of 2 more threads\n",
            "2021-11-21 20:37:21,980 : INFO : worker thread finished; awaiting finish of 1 more threads\n",
            "2021-11-21 20:37:22,005 : INFO : worker thread finished; awaiting finish of 0 more threads\n",
            "2021-11-21 20:37:22,006 : INFO : EPOCH - 32 : training on 77387 raw words (64213 effective words) took 0.7s, 89525 effective words/s\n",
            "2021-11-21 20:37:22,645 : INFO : worker thread finished; awaiting finish of 2 more threads\n",
            "2021-11-21 20:37:22,724 : INFO : worker thread finished; awaiting finish of 1 more threads\n",
            "2021-11-21 20:37:22,743 : INFO : worker thread finished; awaiting finish of 0 more threads\n",
            "2021-11-21 20:37:22,745 : INFO : EPOCH - 33 : training on 77387 raw words (64300 effective words) took 0.7s, 89901 effective words/s\n",
            "2021-11-21 20:37:23,360 : INFO : worker thread finished; awaiting finish of 2 more threads\n",
            "2021-11-21 20:37:23,446 : INFO : worker thread finished; awaiting finish of 1 more threads\n",
            "2021-11-21 20:37:23,463 : INFO : worker thread finished; awaiting finish of 0 more threads\n",
            "2021-11-21 20:37:23,465 : INFO : EPOCH - 34 : training on 77387 raw words (64238 effective words) took 0.7s, 91199 effective words/s\n",
            "2021-11-21 20:37:24,116 : INFO : worker thread finished; awaiting finish of 2 more threads\n",
            "2021-11-21 20:37:24,197 : INFO : worker thread finished; awaiting finish of 1 more threads\n",
            "2021-11-21 20:37:24,212 : INFO : worker thread finished; awaiting finish of 0 more threads\n",
            "2021-11-21 20:37:24,213 : INFO : EPOCH - 35 : training on 77387 raw words (64139 effective words) took 0.7s, 87154 effective words/s\n",
            "2021-11-21 20:37:24,870 : INFO : worker thread finished; awaiting finish of 2 more threads\n",
            "2021-11-21 20:37:24,963 : INFO : worker thread finished; awaiting finish of 1 more threads\n",
            "2021-11-21 20:37:24,974 : INFO : worker thread finished; awaiting finish of 0 more threads\n",
            "2021-11-21 20:37:24,976 : INFO : EPOCH - 36 : training on 77387 raw words (64319 effective words) took 0.7s, 85837 effective words/s\n",
            "2021-11-21 20:37:25,619 : INFO : worker thread finished; awaiting finish of 2 more threads\n",
            "2021-11-21 20:37:25,713 : INFO : worker thread finished; awaiting finish of 1 more threads\n",
            "2021-11-21 20:37:25,723 : INFO : worker thread finished; awaiting finish of 0 more threads\n",
            "2021-11-21 20:37:25,725 : INFO : EPOCH - 37 : training on 77387 raw words (64238 effective words) took 0.7s, 87203 effective words/s\n",
            "2021-11-21 20:37:26,370 : INFO : worker thread finished; awaiting finish of 2 more threads\n",
            "2021-11-21 20:37:26,444 : INFO : worker thread finished; awaiting finish of 1 more threads\n",
            "2021-11-21 20:37:26,460 : INFO : worker thread finished; awaiting finish of 0 more threads\n",
            "2021-11-21 20:37:26,462 : INFO : EPOCH - 38 : training on 77387 raw words (64396 effective words) took 0.7s, 88958 effective words/s\n",
            "2021-11-21 20:37:27,076 : INFO : worker thread finished; awaiting finish of 2 more threads\n",
            "2021-11-21 20:37:27,178 : INFO : worker thread finished; awaiting finish of 1 more threads\n",
            "2021-11-21 20:37:27,190 : INFO : worker thread finished; awaiting finish of 0 more threads\n",
            "2021-11-21 20:37:27,192 : INFO : EPOCH - 39 : training on 77387 raw words (64250 effective words) took 0.7s, 89753 effective words/s\n",
            "2021-11-21 20:37:27,855 : INFO : worker thread finished; awaiting finish of 2 more threads\n",
            "2021-11-21 20:37:27,947 : INFO : worker thread finished; awaiting finish of 1 more threads\n",
            "2021-11-21 20:37:27,965 : INFO : worker thread finished; awaiting finish of 0 more threads\n",
            "2021-11-21 20:37:27,966 : INFO : EPOCH - 40 : training on 77387 raw words (64265 effective words) took 0.8s, 84572 effective words/s\n",
            "2021-11-21 20:37:27,968 : INFO : Doc2Vec lifecycle event {'msg': 'training on 3095480 raw words (2568715 effective words) took 30.0s, 85714 effective words/s', 'datetime': '2021-11-21T20:37:27.968301', 'gensim': '4.1.2', 'python': '3.7.12 (default, Sep 10 2021, 00:21:48) \\n[GCC 7.5.0]', 'platform': 'Linux-5.4.104+-x86_64-with-Ubuntu-18.04-bionic', 'event': 'train'}\n",
            "2021-11-21 20:37:27,972 : INFO : Doc2Vec lifecycle event {'params': 'Doc2Vec(dm/m,d100,n10,w4,s0.001,t3)', 'datetime': '2021-11-21T20:37:27.972005', 'gensim': '4.1.2', 'python': '3.7.12 (default, Sep 10 2021, 00:21:48) \\n[GCC 7.5.0]', 'platform': 'Linux-5.4.104+-x86_64-with-Ubuntu-18.04-bionic', 'event': 'created'}\n"
          ]
        }
      ]
    },
    {
      "cell_type": "code",
      "metadata": {
        "colab": {
          "base_uri": "https://localhost:8080/"
        },
        "id": "G-cE7gug1Ct5",
        "outputId": "986fdd13-7615-44a6-9ff1-60a96166ea39"
      },
      "source": [
        "model_artifact = wandb.Artifact(\n",
        "    \"trained-model\", \n",
        "    type=\"model\",\n",
        "    description=\"Doc2Vec model\",\n",
        "    metadata=\"\")\n",
        "\n",
        "fname = 'doc2vec.model'\n",
        "model.save(fname)\n",
        "\n",
        "model_artifact.add_file(fname)\n",
        "wandb.log_artifact(model_artifact)"
      ],
      "execution_count": 63,
      "outputs": [
        {
          "output_type": "stream",
          "name": "stderr",
          "text": [
            "2021-11-21 20:37:27,989 : INFO : Doc2Vec lifecycle event {'fname_or_handle': 'doc2vec.model', 'separately': 'None', 'sep_limit': 10485760, 'ignore': frozenset(), 'datetime': '2021-11-21T20:37:27.989519', 'gensim': '4.1.2', 'python': '3.7.12 (default, Sep 10 2021, 00:21:48) \\n[GCC 7.5.0]', 'platform': 'Linux-5.4.104+-x86_64-with-Ubuntu-18.04-bionic', 'event': 'saving'}\n",
            "2021-11-21 20:37:27,993 : INFO : not storing attribute cum_table\n",
            "2021-11-21 20:37:28,019 : INFO : saved doc2vec.model\n"
          ]
        },
        {
          "output_type": "execute_result",
          "data": {
            "text/plain": [
              "<wandb.sdk.wandb_artifacts.Artifact at 0x7f7f6dbf1990>"
            ]
          },
          "metadata": {},
          "execution_count": 63
        }
      ]
    },
    {
      "cell_type": "markdown",
      "metadata": {
        "id": "jJvq2K93xAO5"
      },
      "source": [
        "### Test the distance between C and the diatonic chords\n",
        "\n",
        "Test if the model can capture that the diatonic chords are closer to the root.\n",
        "\n",
        "Do this only if the input corpus contains the unigrams. "
      ]
    },
    {
      "cell_type": "code",
      "metadata": {
        "id": "cH3TJxCfvoFm"
      },
      "source": [
        "test_tokens = ['C',\n",
        "              'Dm',\n",
        "              'Em',\n",
        "              'F',\n",
        "              'G7',\n",
        "              'Am',\n",
        "              'Bm7b5',\n",
        "              'F7',\n",
        "              'D7',\n",
        "              'A7',\n",
        "              'E7',\n",
        "              'B7',\n",
        "              'F#7',\n",
        "               'Cm',\n",
        "               'D']\n",
        "\n",
        "if 1 in ngrams_for_input:\n",
        "  ref = 'C'\n",
        "  for t in test_tokens:\n",
        "    print(f\"{model.wv.similarity(ref, t):.3f}: {ref} <-> {t}\")"
      ],
      "execution_count": 64,
      "outputs": []
    },
    {
      "cell_type": "code",
      "metadata": {
        "id": "IfIRoWL4kpcB"
      },
      "source": [
        "if 1 in ngrams_for_input:\n",
        "  model.wv.similar_by_word('C', topn=20)"
      ],
      "execution_count": 65,
      "outputs": []
    },
    {
      "cell_type": "markdown",
      "metadata": {
        "id": "ix4n9S3_xQzD"
      },
      "source": [
        "Plot the generated word vectors in 2D space"
      ]
    },
    {
      "cell_type": "code",
      "metadata": {
        "id": "JjT_uNh0wthj"
      },
      "source": [
        "from sklearn.manifold import TSNE\n",
        "\n",
        "# input data: vectors for all tokens\n",
        "weights = model.wv.vectors\n",
        "\n",
        "# only do this when the vocabulary is not too big....\n",
        "if len(weights) < 100:\n",
        "\n",
        "  # do T-SNE\n",
        "  tsne = TSNE(n_components=2, \n",
        "              random_state=42,\n",
        "              perplexity=30,\n",
        "              learning_rate='auto',\n",
        "              init='pca',\n",
        "              n_iter=2000\n",
        "              )\n",
        "  T = tsne.fit_transform(weights)\n",
        "\n",
        "  # plot\n",
        "  projected = pd.DataFrame(T)\n",
        "\n",
        "  fig = px.scatter(\n",
        "      projected, \n",
        "      x=0, y=1,\n",
        "      #color='mode',\n",
        "      text=model.wv.index_to_key,\n",
        "      width=800, height=600,\n",
        "      title=\"T-SNE applied to Chord Vectors for Tunes in Cmaj/Amin\"\n",
        "  )\n",
        "  fig.update_traces(textposition='top center')\n",
        "  fig.update_traces(textfont_size=12, selector=dict(type='scatter'))\n",
        "  fig.show()"
      ],
      "execution_count": 66,
      "outputs": []
    },
    {
      "cell_type": "markdown",
      "metadata": {
        "id": "PzabYlA89QpY"
      },
      "source": [
        "### Test for single tunes"
      ]
    },
    {
      "cell_type": "code",
      "metadata": {
        "colab": {
          "base_uri": "https://localhost:8080/"
        },
        "id": "wYI6NZimAn6a",
        "outputId": "db4b87c4-3ba9-4e98-a887-7b753f800b66"
      },
      "source": [
        "len(sectionid_to_section)"
      ],
      "execution_count": 67,
      "outputs": [
        {
          "output_type": "execute_result",
          "data": {
            "text/plain": [
              "5403"
            ]
          },
          "metadata": {},
          "execution_count": 67
        }
      ]
    },
    {
      "cell_type": "code",
      "metadata": {
        "colab": {
          "base_uri": "https://localhost:8080/"
        },
        "id": "8ho0HdILB4zq",
        "outputId": "1d05fc1b-9eb5-453d-c0f0-8bd2f0faded7"
      },
      "source": [
        "len(model.dv)"
      ],
      "execution_count": 68,
      "outputs": [
        {
          "output_type": "execute_result",
          "data": {
            "text/plain": [
              "7215"
            ]
          },
          "metadata": {},
          "execution_count": 68
        }
      ]
    },
    {
      "cell_type": "code",
      "metadata": {
        "colab": {
          "base_uri": "https://localhost:8080/"
        },
        "id": "5Z2jZALS-7et",
        "outputId": "7c55df75-9b20-4d62-f75c-0f5f95e94d05"
      },
      "source": [
        "title_to_sectionid['These Foolish Things']"
      ],
      "execution_count": 69,
      "outputs": [
        {
          "output_type": "execute_result",
          "data": {
            "text/plain": [
              "[3866, 3867, 3868, 3869]"
            ]
          },
          "metadata": {},
          "execution_count": 69
        }
      ]
    },
    {
      "cell_type": "code",
      "metadata": {
        "id": "Y1GQemnx_jYJ"
      },
      "source": [
        "section_key = 3868"
      ],
      "execution_count": 70,
      "outputs": []
    },
    {
      "cell_type": "code",
      "metadata": {
        "colab": {
          "base_uri": "https://localhost:8080/"
        },
        "id": "ac5NyHbS-_2l",
        "outputId": "e5cb9a6a-c843-4ace-f980-258a032bef19"
      },
      "source": [
        "model.dv.similar_by_key(section_key, topn=20)"
      ],
      "execution_count": 71,
      "outputs": [
        {
          "output_type": "execute_result",
          "data": {
            "text/plain": [
              "[(84, 0.7429996728897095),\n",
              " (512, 0.6309351921081543),\n",
              " (1845, 0.6090511679649353),\n",
              " (2603, 0.5817906260490417),\n",
              " (3138, 0.5599222183227539),\n",
              " (3856, 0.551797091960907),\n",
              " (1523, 0.5333837270736694),\n",
              " (1842, 0.5323896408081055),\n",
              " (650, 0.5250977277755737),\n",
              " (43, 0.5220070481300354),\n",
              " (45, 0.5074602365493774),\n",
              " (428, 0.4999164938926697),\n",
              " (4176, 0.49499279260635376),\n",
              " (1515, 0.47417154908180237),\n",
              " (37, 0.47184547781944275),\n",
              " (4388, 0.4662368595600128),\n",
              " (1603, 0.4568871259689331),\n",
              " (4213, 0.45614099502563477),\n",
              " (2098, 0.4526861011981964),\n",
              " (3808, 0.4517979919910431)]"
            ]
          },
          "metadata": {},
          "execution_count": 71
        }
      ]
    },
    {
      "cell_type": "code",
      "metadata": {
        "colab": {
          "base_uri": "https://localhost:8080/",
          "height": 36
        },
        "id": "7rMyQRbdB_Iv",
        "outputId": "ac272e16-81b4-491d-973a-10fcba2acfbb"
      },
      "source": [
        "sectionid_to_section[1889]"
      ],
      "execution_count": 72,
      "outputs": [
        {
          "output_type": "execute_result",
          "data": {
            "application/vnd.google.colaboratory.intrinsic+json": {
              "type": "string"
            },
            "text/plain": [
              "\"I've Told Eve'ry Little Star, section3 (B)\""
            ]
          },
          "metadata": {},
          "execution_count": 72
        }
      ]
    },
    {
      "cell_type": "code",
      "metadata": {
        "colab": {
          "base_uri": "https://localhost:8080/",
          "height": 175
        },
        "id": "BfUVTfdKB9sZ",
        "outputId": "321cd573-23ee-411b-ffe0-4112ca9b57fd"
      },
      "source": [
        "titles.query('title == \"These Foolish Things\"')"
      ],
      "execution_count": 73,
      "outputs": [
        {
          "output_type": "execute_result",
          "data": {
            "text/html": [
              "<div>\n",
              "<style scoped>\n",
              "    .dataframe tbody tr th:only-of-type {\n",
              "        vertical-align: middle;\n",
              "    }\n",
              "\n",
              "    .dataframe tbody tr th {\n",
              "        vertical-align: top;\n",
              "    }\n",
              "\n",
              "    .dataframe thead th {\n",
              "        text-align: right;\n",
              "    }\n",
              "</style>\n",
              "<table border=\"1\" class=\"dataframe\">\n",
              "  <thead>\n",
              "    <tr style=\"text-align: right;\">\n",
              "      <th></th>\n",
              "      <th>id</th>\n",
              "      <th>tune_id</th>\n",
              "      <th>section_id</th>\n",
              "      <th>section_name</th>\n",
              "      <th>title</th>\n",
              "      <th>tune_mode</th>\n",
              "    </tr>\n",
              "  </thead>\n",
              "  <tbody>\n",
              "    <tr>\n",
              "      <th>3866</th>\n",
              "      <td>3866</td>\n",
              "      <td>1170</td>\n",
              "      <td>1</td>\n",
              "      <td>A</td>\n",
              "      <td>These Foolish Things</td>\n",
              "      <td>major</td>\n",
              "    </tr>\n",
              "    <tr>\n",
              "      <th>3867</th>\n",
              "      <td>3867</td>\n",
              "      <td>1170</td>\n",
              "      <td>2</td>\n",
              "      <td>A</td>\n",
              "      <td>These Foolish Things</td>\n",
              "      <td>major</td>\n",
              "    </tr>\n",
              "    <tr>\n",
              "      <th>3868</th>\n",
              "      <td>3868</td>\n",
              "      <td>1170</td>\n",
              "      <td>3</td>\n",
              "      <td>B</td>\n",
              "      <td>These Foolish Things</td>\n",
              "      <td>major</td>\n",
              "    </tr>\n",
              "    <tr>\n",
              "      <th>3869</th>\n",
              "      <td>3869</td>\n",
              "      <td>1170</td>\n",
              "      <td>4</td>\n",
              "      <td>A</td>\n",
              "      <td>These Foolish Things</td>\n",
              "      <td>major</td>\n",
              "    </tr>\n",
              "  </tbody>\n",
              "</table>\n",
              "</div>"
            ],
            "text/plain": [
              "        id  tune_id  section_id section_name                 title tune_mode\n",
              "3866  3866     1170           1            A  These Foolish Things     major\n",
              "3867  3867     1170           2            A  These Foolish Things     major\n",
              "3868  3868     1170           3            B  These Foolish Things     major\n",
              "3869  3869     1170           4            A  These Foolish Things     major"
            ]
          },
          "metadata": {},
          "execution_count": 73
        }
      ]
    },
    {
      "cell_type": "code",
      "metadata": {
        "id": "vYKXvxxbBeIe"
      },
      "source": [
        "tune_key = 'titleid_1170'"
      ],
      "execution_count": 74,
      "outputs": []
    },
    {
      "cell_type": "code",
      "metadata": {
        "colab": {
          "base_uri": "https://localhost:8080/"
        },
        "id": "wfmnL7QrCFhz",
        "outputId": "2f79c583-161c-4989-aac5-c68d2ff57a70"
      },
      "source": [
        "model.dv.similar_by_key(tune_key, topn=20)"
      ],
      "execution_count": 75,
      "outputs": [
        {
          "output_type": "execute_result",
          "data": {
            "text/plain": [
              "[(3867, 0.8584056496620178),\n",
              " (3866, 0.7927188277244568),\n",
              " (3869, 0.7595370411872864),\n",
              " (3946, 0.7519207000732422),\n",
              " (2341, 0.7406387329101562),\n",
              " (3224, 0.7384443283081055),\n",
              " ('titleid_974', 0.7360071539878845),\n",
              " (574, 0.7324600219726562),\n",
              " ('titleid_1218', 0.7296003103256226),\n",
              " (2839, 0.7215054631233215),\n",
              " ('titleid_353', 0.7211620807647705),\n",
              " (1688, 0.7196096181869507),\n",
              " (247, 0.7183676958084106),\n",
              " (1394, 0.7175804376602173),\n",
              " ('titleid_1193', 0.7150183320045471),\n",
              " (3251, 0.7142370343208313),\n",
              " ('titleid_318', 0.7128366827964783),\n",
              " (1397, 0.7118975520133972),\n",
              " (1777, 0.711876392364502),\n",
              " (1643, 0.7097184658050537)]"
            ]
          },
          "metadata": {},
          "execution_count": 75
        }
      ]
    },
    {
      "cell_type": "code",
      "metadata": {
        "colab": {
          "base_uri": "https://localhost:8080/"
        },
        "id": "Cp0brM80CSK2",
        "outputId": "abe02484-6e71-4d64-bd40-6a3d31704503"
      },
      "source": [
        "titles.iloc[755]"
      ],
      "execution_count": 76,
      "outputs": [
        {
          "output_type": "execute_result",
          "data": {
            "text/plain": [
              "id                                           755\n",
              "tune_id                                      234\n",
              "section_id                                     5\n",
              "section_name                                   D\n",
              "title           Chega De Saudade (No More Blues)\n",
              "tune_mode                                  minor\n",
              "Name: 755, dtype: object"
            ]
          },
          "metadata": {},
          "execution_count": 76
        }
      ]
    },
    {
      "cell_type": "markdown",
      "metadata": {
        "id": "ajqb904KDwNV"
      },
      "source": [
        "#### Section Similarity\n"
      ]
    },
    {
      "cell_type": "code",
      "metadata": {
        "id": "mPnEPL_k4TZn"
      },
      "source": [
        "def get_section_scores_doc2vec(tunes):\n",
        "\n",
        "    df_sim = pd.DataFrame(columns=['reference_title',\n",
        "                                  'similar_title',\n",
        "                                  'ref_section', \n",
        "                                  'similar_section', \n",
        "                                  'score', \n",
        "                                  ])\n",
        "\n",
        "    for tune in tunes:\n",
        "      print()\n",
        "      print(\"-\"*50)\n",
        "      for s1 in title_to_sectionid[tune]:\n",
        "      \n",
        "          # sections are tagged with the numeric sectionid and can be used for querying\n",
        "          sims = model.dv.similar_by_key(s1, topn=40)\n",
        "          \n",
        "          print(s1, sectionid_to_section[s1])\n",
        "          n = 0\n",
        "          for s2, s2_score in sims:\n",
        "              if type(s2) == int:  # only consider similarities to sectionids; tuneids are strings\n",
        "                  # don't count self-similarity between sections of the same tune\n",
        "                  if s2 not in title_to_sectionid[tune]:\n",
        "                      n += 1\n",
        "                  \n",
        "                      # print(f\"\\t{s2_score:.3f} {sectionid_to_section[s2]}\")\n",
        "\n",
        "                      df_sim.loc[len(df_sim)] = [tune,\n",
        "                                      sectionid_to_title[s2],\n",
        "                                      sectionid_to_section[s1], \n",
        "                                      sectionid_to_section[s2], \n",
        "                                      s2_score, \n",
        "                                      ]\n",
        "    return df_sim"
      ],
      "execution_count": 77,
      "outputs": []
    },
    {
      "cell_type": "code",
      "metadata": {
        "colab": {
          "base_uri": "https://localhost:8080/"
        },
        "id": "i_d92il649O9",
        "outputId": "a147eab3-31aa-4246-f739-9bd2edf46efc"
      },
      "source": [
        "df_section_sim = get_section_scores_doc2vec(tunes_eval_list)\n",
        "df_word2vec = df_section_sim[:]"
      ],
      "execution_count": 78,
      "outputs": [
        {
          "output_type": "stream",
          "name": "stdout",
          "text": [
            "\n",
            "--------------------------------------------------\n",
            "125 After You've Gone, section1 (A)\n",
            "126 After You've Gone, section2 (B)\n",
            "127 After You've Gone, section3 (A)\n",
            "128 After You've Gone, section4 (C)\n",
            "\n",
            "--------------------------------------------------\n",
            "188 All God's Chillun Got Rhythm, section1 (A)\n",
            "189 All God's Chillun Got Rhythm, section2 (B)\n",
            "190 All God's Chillun Got Rhythm, section3 (A)\n",
            "191 All God's Chillun Got Rhythm, section4 (C)\n",
            "\n",
            "--------------------------------------------------\n",
            "198 All Of Me, section1 (A)\n",
            "199 All Of Me, section2 (B)\n",
            "200 All Of Me, section3 (A)\n",
            "201 All Of Me, section4 (C)\n",
            "\n",
            "--------------------------------------------------\n",
            "474 Blood Count, section1 (A)\n",
            "475 Blood Count, section2 (A)\n",
            "476 Blood Count, section3 (B)\n",
            "477 Blood Count, section4 (A)\n",
            "478 Blood Count, section5 (C)\n",
            "\n",
            "--------------------------------------------------\n",
            "496 Blue Moon, section1 (A)\n",
            "497 Blue Moon, section2 (A)\n",
            "498 Blue Moon, section3 (B)\n",
            "499 Blue Moon, section4 (A)\n",
            "\n",
            "--------------------------------------------------\n",
            "626 But Beautiful, section1 (A)\n",
            "627 But Beautiful, section2 (B)\n",
            "628 But Beautiful, section3 (A)\n",
            "629 But Beautiful, section4 (C)\n",
            "\n",
            "--------------------------------------------------\n",
            "653 Bye Bye Blackbird, section1 (A)\n",
            "654 Bye Bye Blackbird, section2 (B)\n",
            "4569 Bye Bye Blackbird, section1 (A)\n",
            "4570 Bye Bye Blackbird, section2 (B)\n",
            "4571 Bye Bye Blackbird, section3 (C)\n",
            "\n",
            "--------------------------------------------------\n",
            "676 Call Me Irresponsible, section1 (A)\n",
            "677 Call Me Irresponsible, section2 (B)\n",
            "678 Call Me Irresponsible, section3 (A)\n",
            "679 Call Me Irresponsible, section4 (B)\n",
            "\n",
            "--------------------------------------------------\n",
            "826 Corcovado, section1 (A)\n",
            "827 Corcovado, section2 (B)\n",
            "828 Corcovado, section3 (A)\n",
            "829 Corcovado, section4 (C)\n",
            "\n",
            "--------------------------------------------------\n",
            "997 Dinah, section1 (A)\n",
            "998 Dinah, section2 (A)\n",
            "999 Dinah, section3 (B)\n",
            "1000 Dinah, section4 (A)\n",
            "\n",
            "--------------------------------------------------\n",
            "1125 East Of The Sun, section1 (A)\n",
            "1126 East Of The Sun, section2 (B)\n",
            "1127 East Of The Sun, section3 (A)\n",
            "1128 East Of The Sun, section4 (C)\n",
            "\n",
            "--------------------------------------------------\n",
            "1287 Footprints, section0 (nan)\n",
            "\n",
            "--------------------------------------------------\n",
            "1379 Giant Steps, section0 (nan)\n",
            "\n",
            "--------------------------------------------------\n",
            "1538 Honeysuckle Rose, section1 (A)\n",
            "1539 Honeysuckle Rose, section2 (A)\n",
            "1540 Honeysuckle Rose, section3 (B)\n",
            "1541 Honeysuckle Rose, section4 (A)\n",
            "4793 Honeysuckle Rose, section1 (A)\n",
            "4794 Honeysuckle Rose, section2 (A)\n",
            "4795 Honeysuckle Rose, section3 (B)\n",
            "4796 Honeysuckle Rose, section4 (A)\n",
            "\n",
            "--------------------------------------------------\n",
            "1647 I Got Rhythm, section1 (A)\n",
            "1648 I Got Rhythm, section2 (A)\n",
            "1649 I Got Rhythm, section3 (B)\n",
            "1650 I Got Rhythm, section4 (A)\n",
            "4821 I Got Rhythm, section1 (A)\n",
            "4822 I Got Rhythm, section2 (A)\n",
            "4823 I Got Rhythm, section3 (B)\n",
            "4824 I Got Rhythm, section4 (A)\n",
            "\n",
            "--------------------------------------------------\n",
            "2676 Misty, section1 (A)\n",
            "2677 Misty, section2 (A)\n",
            "2678 Misty, section3 (B)\n",
            "2679 Misty, section4 (A)\n",
            "\n",
            "--------------------------------------------------\n",
            "2863 Naima, section1 (A)\n",
            "2864 Naima, section2 (A)\n",
            "2865 Naima, section3 (B)\n",
            "2866 Naima, section4 (A)\n",
            "\n",
            "--------------------------------------------------\n",
            "5056 Old Fashioned Love, section0 (nan)\n",
            "\n",
            "--------------------------------------------------\n",
            "3148 Perdido, section1 (A)\n",
            "3149 Perdido, section2 (A)\n",
            "3150 Perdido, section3 (B)\n",
            "3151 Perdido, section4 (A)\n",
            "\n",
            "--------------------------------------------------\n",
            "3282 Rockin' Chair, section1 (A)\n",
            "3283 Rockin' Chair, section2 (B)\n",
            "3284 Rockin' Chair, section3 (A)\n",
            "5122 Rockin' Chair, section1 (A)\n",
            "5123 Rockin' Chair, section2 (B)\n",
            "5124 Rockin' Chair, section3 (A)\n",
            "\n",
            "--------------------------------------------------\n",
            "3584 Sophisticated Lady, section1 (A)\n",
            "3585 Sophisticated Lady, section2 (A)\n",
            "3586 Sophisticated Lady, section3 (B)\n",
            "3587 Sophisticated Lady, section4 (A)\n",
            "\n",
            "--------------------------------------------------\n",
            "3752 Sweet Sue, Just You, section1 (A)\n",
            "3753 Sweet Sue, Just You, section2 (A)\n",
            "3754 Sweet Sue, Just You, section3 (B)\n",
            "3755 Sweet Sue, Just You, section4 (A)\n",
            "\n",
            "--------------------------------------------------\n",
            "3866 These Foolish Things, section1 (A)\n",
            "3867 These Foolish Things, section2 (A)\n",
            "3868 These Foolish Things, section3 (B)\n",
            "3869 These Foolish Things, section4 (A)\n",
            "\n",
            "--------------------------------------------------\n",
            "4152 We'll Be Together Again, section1 (A)\n",
            "4153 We'll Be Together Again, section2 (A)\n",
            "4154 We'll Be Together Again, section3 (B)\n",
            "4155 We'll Be Together Again, section4 (A)\n"
          ]
        }
      ]
    },
    {
      "cell_type": "code",
      "metadata": {
        "colab": {
          "base_uri": "https://localhost:8080/",
          "height": 542
        },
        "id": "n4dv7VVe5NT4",
        "outputId": "4ceb1fd7-756a-4ecd-8bbb-81aaa8dfd62f"
      },
      "source": [
        "import plotly.express as px\n",
        "fig = px.histogram(df_section_sim, x=\"score\", nbins=50, title='doc2vec sections')\n",
        "fig.show()"
      ],
      "execution_count": 79,
      "outputs": [
        {
          "output_type": "display_data",
          "data": {
            "text/html": [
              "<html>\n",
              "<head><meta charset=\"utf-8\" /></head>\n",
              "<body>\n",
              "    <div>\n",
              "            <script src=\"https://cdnjs.cloudflare.com/ajax/libs/mathjax/2.7.5/MathJax.js?config=TeX-AMS-MML_SVG\"></script><script type=\"text/javascript\">if (window.MathJax) {MathJax.Hub.Config({SVG: {font: \"STIX-Web\"}});}</script>\n",
              "                <script type=\"text/javascript\">window.PlotlyConfig = {MathJaxConfig: 'local'};</script>\n",
              "        <script src=\"https://cdn.plot.ly/plotly-latest.min.js\"></script>    \n",
              "            <div id=\"35864156-b7f6-4ceb-bd7d-7f00051b6670\" class=\"plotly-graph-div\" style=\"height:525px; width:100%;\"></div>\n",
              "            <script type=\"text/javascript\">\n",
              "                \n",
              "                    window.PLOTLYENV=window.PLOTLYENV || {};\n",
              "                    \n",
              "                if (document.getElementById(\"35864156-b7f6-4ceb-bd7d-7f00051b6670\")) {\n",
              "                    Plotly.newPlot(\n",
              "                        '35864156-b7f6-4ceb-bd7d-7f00051b6670',\n",
              "                        [{\"alignmentgroup\": \"True\", \"bingroup\": \"x\", \"hoverlabel\": {\"namelength\": 0}, \"hovertemplate\": \"score=%{x}<br>count=%{y}\", \"legendgroup\": \"\", \"marker\": {\"color\": \"#636efa\"}, \"name\": \"\", \"nbinsx\": 50, \"offsetgroup\": \"\", \"orientation\": \"v\", \"showlegend\": false, \"type\": \"histogram\", \"x\": [0.9340463280677795, 0.9290016889572144, 0.9269591569900513, 0.9255727529525757, 0.9254212975502014, 0.9243088364601135, 0.9232916235923767, 0.919717013835907, 0.9181824326515198, 0.9157528281211853, 0.9146751761436462, 0.9142813682556152, 0.9128531217575073, 0.9127604961395264, 0.9125064015388489, 0.9120271801948547, 0.9114306569099426, 0.9090737700462341, 0.9084171056747437, 0.9083124995231628, 0.9082815647125244, 0.9081361889839172, 0.9073454737663269, 0.9073091745376587, 0.9072961807250977, 0.9067055583000183, 0.9067052006721497, 0.9063055515289307, 0.9060733914375305, 0.9058825373649597, 0.9058824181556702, 0.9051569104194641, 0.9048025012016296, 0.7518311142921448, 0.7272672057151794, 0.6718358397483826, 0.6672526597976685, 0.6666892766952515, 0.6506632566452026, 0.6362155675888062, 0.6323719024658203, 0.616464376449585, 0.6157458424568176, 0.6043141484260559, 0.6031029224395752, 0.593928873538971, 0.5923191905021667, 0.592112123966217, 0.5886673331260681, 0.5881163477897644, 0.5815508365631104, 0.581501841545105, 0.5808936953544617, 0.5782925486564636, 0.5767967104911804, 0.572486162185669, 0.5676125884056091, 0.5635974407196045, 0.5601535439491272, 0.5597928166389465, 0.5554839372634888, 0.5519914627075195, 0.5478403568267822, 0.5464908480644226, 0.5451134443283081, 0.5443117022514343, 0.5393685102462769, 0.5381264090538025, 0.5377865433692932, 0.5357795357704163, 0.534151554107666, 0.5316762924194336, 0.5307183861732483, 0.949600100517273, 0.9257723093032837, 0.9250627160072327, 0.9209494590759277, 0.9104244112968445, 0.9102794528007507, 0.9088026881217957, 0.9071245193481445, 0.9049696326255798, 0.9044860005378723, 0.901794970035553, 0.8973122835159302, 0.8945977687835693, 0.8909395933151245, 0.8909018635749817, 0.8889875411987305, 0.8875786066055298, 0.8858456611633301, 0.8847119808197021, 0.8819743990898132, 0.8807627558708191, 0.8804322481155396, 0.8793943524360657, 0.8777778148651123, 0.877387523651123, 0.876461923122406, 0.876054584980011, 0.8758190274238586, 0.875278115272522, 0.8751307725906372, 0.8751263618469238, 0.8751049637794495, 0.5436938405036926, 0.44978246092796326, 0.44933605194091797, 0.42841994762420654, 0.42549124360084534, 0.42435014247894287, 0.4180150032043457, 0.41702789068222046, 0.41586679220199585, 0.4098239243030548, 0.4087076783180237, 0.40184974670410156, 0.4003210663795471, 0.3969701826572418, 0.38888952136039734, 0.3853604793548584, 0.3849233090877533, 0.383451908826828, 0.38043269515037537, 0.3781324028968811, 0.37521764636039734, 0.37509703636169434, 0.3740597069263458, 0.3671831786632538, 0.36556974053382874, 0.3647555708885193, 0.3596004843711853, 0.35957878828048706, 0.3585759997367859, 0.3538804352283478, 0.35085391998291016, 0.35084202885627747, 0.35031113028526306, 0.34979933500289917, 0.855854332447052, 0.8411293029785156, 0.8149014115333557, 0.8134318590164185, 0.813326895236969, 0.8105625510215759, 0.8048959374427795, 0.8012611865997314, 0.7995566129684448, 0.7944509387016296, 0.7936258316040039, 0.7857922315597534, 0.783340334892273, 0.781598687171936, 0.7807695865631104, 0.7793805599212646, 0.7772732973098755, 0.776352047920227, 0.7757886648178101, 0.7739413976669312, 0.7672305107116699, 0.7601205110549927, 0.7598229050636292, 0.7590654492378235, 0.7555015087127686, 0.7543052434921265, 0.7499407529830933, 0.7482717037200928, 0.7465853691101074, 0.7110040187835693, 0.7059942483901978, 0.704218864440918, 0.6783735156059265, 0.6763298511505127, 0.668876051902771, 0.6591895222663879, 0.6536886096000671, 0.6417992115020752, 0.6306478381156921, 0.6190358996391296, 0.6006312966346741, 0.598944365978241, 0.5972184538841248, 0.5842252373695374, 0.5730319023132324, 0.5670023560523987, 0.5654649138450623, 0.5476096868515015, 0.5376244187355042, 0.53741854429245, 0.5299842357635498, 0.5291315317153931, 0.528791069984436, 0.5217341184616089, 0.5175041556358337, 0.5154239535331726, 0.5147780776023865, 0.5128220319747925, 0.49038857221603394, 0.48895829916000366, 0.4836072325706482, 0.4783802032470703, 0.47617122530937195, 0.879420280456543, 0.8603851199150085, 0.8592069149017334, 0.858426570892334, 0.8523148894309998, 0.8522240519523621, 0.8429156541824341, 0.8424572944641113, 0.838136613368988, 0.8374491930007935, 0.8331863284111023, 0.8328268527984619, 0.8307925462722778, 0.8260092735290527, 0.8240858912467957, 0.8186374306678772, 0.817823052406311, 0.8177749514579773, 0.8170028924942017, 0.8159322738647461, 0.8095743060112, 0.8083940148353577, 0.8078528642654419, 0.8040564060211182, 0.8038492798805237, 0.803114116191864, 0.802314817905426, 0.8011610507965088, 0.702528715133667, 0.6918215155601501, 0.6657653450965881, 0.6586142182350159, 0.6566863059997559, 0.655881941318512, 0.6529373526573181, 0.6527577042579651, 0.6475344896316528, 0.6390899419784546, 0.6353377103805542, 0.6346793174743652, 0.6302536725997925, 0.6283961534500122, 0.6221818327903748, 0.6179347038269043, 0.6163755655288696, 0.6145777702331543, 0.613932192325592, 0.6116888523101807, 0.6090099811553955, 0.6084556579589844, 0.6069952249526978, 0.6047126054763794, 0.6028838157653809, 0.6008071899414062, 0.5984216928482056, 0.5980522036552429, 0.5972602963447571, 0.591234564781189, 0.5910488367080688, 0.5895624160766602, 0.5891528129577637, 0.5856611728668213, 0.5846574306488037, 0.8490323424339294, 0.7578866481781006, 0.7530087232589722, 0.7519049644470215, 0.7517108917236328, 0.7477086782455444, 0.7436233758926392, 0.7401962280273438, 0.7315369844436646, 0.7276557087898254, 0.7132994532585144, 0.7075584530830383, 0.7063176035881042, 0.7028144598007202, 0.7000542283058167, 0.6980519890785217, 0.6978376507759094, 0.6951397657394409, 0.6934797763824463, 0.6927995681762695, 0.6926652193069458, 0.6907446384429932, 0.6907040476799011, 0.6844539642333984, 0.6826387047767639, 0.6816847324371338, 0.8572117686271667, 0.8525928258895874, 0.7788283228874207, 0.7572720050811768, 0.7341447472572327, 0.6963110566139221, 0.6700494885444641, 0.6510700583457947, 0.6349180936813354, 0.6326883435249329, 0.6321948170661926, 0.6144041419029236, 0.6115595102310181, 0.5990109443664551, 0.5976372361183167, 0.5864396095275879, 0.5826215147972107, 0.577282726764679, 0.5707986354827881, 0.5699331164360046, 0.5671647191047668, 0.5662986040115356, 0.5643280744552612, 0.5523349046707153, 0.5505284070968628, 0.549860954284668, 0.5415550470352173, 0.5389120578765869, 0.5368534922599792, 0.5355656743049622, 0.5335766077041626, 0.5293126106262207, 0.5283528566360474, 0.5265776515007019, 0.5261881947517395, 0.5194839835166931, 0.5184484124183655, 0.5180191397666931, 0.8014097213745117, 0.8005595803260803, 0.8003166913986206, 0.7944942712783813, 0.7882547974586487, 0.7855886220932007, 0.7784186005592346, 0.7744420170783997, 0.7719040513038635, 0.7716450691223145, 0.7659225463867188, 0.7558380365371704, 0.7552433013916016, 0.7544960975646973, 0.7523558735847473, 0.7520443201065063, 0.7484270930290222, 0.7467347383499146, 0.7410702109336853, 0.7408152222633362, 0.7394461631774902, 0.7376033663749695, 0.7352994084358215, 0.7342612147331238, 0.7292330861091614, 0.7291973829269409, 0.7273628115653992, 0.8910943269729614, 0.8530021905899048, 0.8526052832603455, 0.8494789004325867, 0.8487672209739685, 0.8454726338386536, 0.8428547382354736, 0.8355575203895569, 0.8328185677528381, 0.831876277923584, 0.8313372135162354, 0.831061601638794, 0.8307174444198608, 0.8303756713867188, 0.8303707838058472, 0.8298916816711426, 0.8297403454780579, 0.8287788033485413, 0.828107476234436, 0.825420081615448, 0.8251074552536011, 0.8249419927597046, 0.8248940706253052, 0.8241778016090393, 0.8234512209892273, 0.8232070803642273, 0.8228493332862854, 0.8227317333221436, 0.8221982717514038, 0.8213328123092651, 0.8209846019744873, 0.7057108283042908, 0.6997242569923401, 0.6513028740882874, 0.649608850479126, 0.642657995223999, 0.6408883333206177, 0.6381785273551941, 0.6356919407844543, 0.6355670094490051, 0.631805419921875, 0.6309199929237366, 0.6290324926376343, 0.6289189457893372, 0.6259423494338989, 0.6234719753265381, 0.6227066516876221, 0.6225811243057251, 0.6219079494476318, 0.6217197179794312, 0.6207787990570068, 0.6147158145904541, 0.6114028692245483, 0.6098120212554932, 0.6093807816505432, 0.6039735078811646, 0.6003696918487549, 0.5986815690994263, 0.5958825349807739, 0.5935335755348206, 0.7473567724227905, 0.6989697217941284, 0.6838080286979675, 0.6511794924736023, 0.6500121355056763, 0.6482693552970886, 0.646038293838501, 0.6395007967948914, 0.6387075185775757, 0.629766583442688, 0.6296444535255432, 0.6263848543167114, 0.6253616809844971, 0.6237314343452454, 0.6230502128601074, 0.6055148839950562, 0.6034815311431885, 0.597650945186615, 0.5908737778663635, 0.5908220410346985, 0.5871759653091431, 0.5813058614730835, 0.574267566204071, 0.5727691054344177, 0.5720817446708679, 0.5715157985687256, 0.5652811527252197, 0.5634455680847168, 0.5617432594299316, 0.5568283796310425, 0.5539348721504211, 0.5528435111045837, 0.5504117608070374, 0.8868594169616699, 0.8769688010215759, 0.8764022588729858, 0.8762416243553162, 0.8685228824615479, 0.865367591381073, 0.8616535067558289, 0.8600834012031555, 0.8589015007019043, 0.8572894334793091, 0.8558763861656189, 0.854834258556366, 0.8531681895256042, 0.8505298495292664, 0.8476293683052063, 0.8454668521881104, 0.843418538570404, 0.8422442674636841, 0.8422123789787292, 0.8419607877731323, 0.8404219746589661, 0.8402984738349915, 0.8398128747940063, 0.8388888835906982, 0.8369740843772888, 0.8367398381233215, 0.8365468382835388, 0.8356581330299377, 0.8335734605789185, 0.8325945138931274, 0.6674373745918274, 0.6545681953430176, 0.6495725512504578, 0.6445297598838806, 0.6427848935127258, 0.6408144235610962, 0.6153051257133484, 0.6044713854789734, 0.5963345170021057, 0.5848317742347717, 0.5823588967323303, 0.5780059695243835, 0.5774766802787781, 0.5716565847396851, 0.5676934719085693, 0.5652284026145935, 0.559950053691864, 0.5590922236442566, 0.553868293762207, 0.5518285036087036, 0.5484933257102966, 0.5448272824287415, 0.5430682301521301, 0.5424298048019409, 0.5400184988975525, 0.5378127098083496, 0.5365111231803894, 0.5360127091407776, 0.5358467698097229, 0.5289676189422607, 0.5269734859466553, 0.5251436233520508, 0.5222132205963135, 0.7790825366973877, 0.7571955919265747, 0.7532758116722107, 0.7520447373390198, 0.7514464259147644, 0.7439799308776855, 0.7340896725654602, 0.7317478656768799, 0.7314751148223877, 0.7307698726654053, 0.7286168336868286, 0.7275557518005371, 0.7260124683380127, 0.7202662825584412, 0.719502329826355, 0.718808114528656, 0.718218982219696, 0.71795654296875, 0.7175951600074768, 0.7168108820915222, 0.7159656286239624, 0.7145854830741882, 0.714430034160614, 0.7129448652267456, 0.7119368314743042, 0.9054974317550659, 0.8972087502479553, 0.8953802585601807, 0.8828362822532654, 0.8575582504272461, 0.8539567589759827, 0.8494740128517151, 0.8466212749481201, 0.8412169814109802, 0.8404226303100586, 0.837449312210083, 0.8365533351898193, 0.8360616564750671, 0.8358820080757141, 0.8350700736045837, 0.8343527317047119, 0.8282292485237122, 0.8267720937728882, 0.8241561651229858, 0.8216196298599243, 0.8187835216522217, 0.818509578704834, 0.8183539509773254, 0.8162349462509155, 0.8152663707733154, 0.8148307800292969, 0.8141705393791199, 0.8134318590164185, 0.8111972808837891, 0.8631247878074646, 0.8196940422058105, 0.818637490272522, 0.8105626106262207, 0.8077697157859802, 0.8074622750282288, 0.8043102025985718, 0.8028217554092407, 0.7988492846488953, 0.7986468076705933, 0.7974880933761597, 0.7957801818847656, 0.7860154509544373, 0.7836761474609375, 0.7826349139213562, 0.7824156284332275, 0.7816523313522339, 0.7806426882743835, 0.7790716290473938, 0.7753778696060181, 0.7743128538131714, 0.7718508839607239, 0.7689478993415833, 0.7685152292251587, 0.7680521011352539, 0.5011575818061829, 0.48867732286453247, 0.48777496814727783, 0.4868030250072479, 0.47389453649520874, 0.46914321184158325, 0.46611741185188293, 0.4610571265220642, 0.4314503073692322, 0.431441068649292, 0.42279496788978577, 0.40304622054100037, 0.3987978398799896, 0.39217713475227356, 0.387704074382782, 0.3793949782848358, 0.37862399220466614, 0.37591832876205444, 0.37071821093559265, 0.37014251947402954, 0.3690034747123718, 0.36562833189964294, 0.36212968826293945, 0.35287073254585266, 0.35179972648620605, 0.34993627667427063, 0.3498368263244629, 0.34807977080345154, 0.34436413645744324, 0.3366067111492157, 0.33475661277770996, 0.33461061120033264, 0.3333601653575897, 0.33260777592658997, 0.3323209583759308, 0.33225876092910767, 0.33022207021713257, 0.9323064684867859, 0.9272633790969849, 0.9165340065956116, 0.9056688547134399, 0.8956246972084045, 0.8915748000144958, 0.8830881118774414, 0.8788648247718811, 0.8786370754241943, 0.8764339685440063, 0.875326931476593, 0.8727163076400757, 0.8707564473152161, 0.8698290586471558, 0.8667280673980713, 0.8654673099517822, 0.8621533513069153, 0.8599004745483398, 0.8587068915367126, 0.8584265112876892, 0.8579719066619873, 0.8576667904853821, 0.8568437695503235, 0.8543438911437988, 0.8499445915222168, 0.8487119674682617, 0.8474294543266296, 0.8469918966293335, 0.8411292433738708, 0.8407810926437378, 0.8391885757446289, 0.7872059941291809, 0.7750071287155151, 0.768978476524353, 0.7660866975784302, 0.7614285349845886, 0.7427845597267151, 0.741741418838501, 0.7365299463272095, 0.7323092818260193, 0.7305508255958557, 0.7304569482803345, 0.7274726629257202, 0.7260199189186096, 0.7247081398963928, 0.7215480804443359, 0.7214577794075012, 0.7209159135818481, 0.7203300595283508, 0.7187535166740417, 0.7185394167900085, 0.7176209688186646, 0.8562957048416138, 0.8151029944419861, 0.7632267475128174, 0.7582550644874573, 0.7567762136459351, 0.749038815498352, 0.7472493052482605, 0.7412506341934204, 0.737318217754364, 0.7352764010429382, 0.7284349203109741, 0.7240511178970337, 0.7225367426872253, 0.71718430519104, 0.7169527411460876, 0.7168983817100525, 0.7168862223625183, 0.7132821679115295, 0.7129642367362976, 0.7115157842636108, 0.7109820246696472, 0.7085397243499756, 0.7084984183311462, 0.7084947228431702, 0.7081572413444519, 0.7052688598632812, 0.7037805914878845, 0.7023820281028748, 0.6998136043548584, 0.7976338863372803, 0.7942619323730469, 0.7922071218490601, 0.7912980318069458, 0.7854586243629456, 0.7854562997817993, 0.7787949442863464, 0.7751539349555969, 0.7737089991569519, 0.7703818082809448, 0.7661699652671814, 0.7650785446166992, 0.7632086277008057, 0.7609406113624573, 0.7595669031143188, 0.7592679262161255, 0.756417989730835, 0.7562249898910522, 0.7518343329429626, 0.750304102897644, 0.7499806880950928, 0.7483778595924377, 0.6144328117370605, 0.5966745018959045, 0.5641895532608032, 0.49679678678512573, 0.4728300869464874, 0.4661695957183838, 0.4559178948402405, 0.42892083525657654, 0.4257449805736542, 0.4255070984363556, 0.41646286845207214, 0.41518014669418335, 0.4111734926700592, 0.4093180298805237, 0.40354615449905396, 0.40240025520324707, 0.40184977650642395, 0.39672908186912537, 0.3943687081336975, 0.3930652439594269, 0.38786613941192627, 0.37905558943748474, 0.375986784696579, 0.3738524317741394, 0.37133798003196716, 0.3712722361087799, 0.35916662216186523, 0.3591146767139435, 0.35841670632362366, 0.3583252429962158, 0.3569878041744232, 0.35534992814064026, 0.35406213998794556, 0.34704822301864624, 0.34603047370910645, 0.3459396958351135, 0.34053462743759155, 0.3376774191856384, 0.33763018250465393, 0.7924497723579407, 0.769660472869873, 0.7643624544143677, 0.7620503306388855, 0.7595191597938538, 0.7551823258399963, 0.7510347366333008, 0.7444139122962952, 0.7385036945343018, 0.7377533912658691, 0.7367439270019531, 0.7309681177139282, 0.7308949828147888, 0.7287333607673645, 0.7261802554130554, 0.7240030765533447, 0.7239247560501099, 0.7216587662696838, 0.7186312675476074, 0.7153578996658325, 0.711081326007843, 0.7082561254501343, 0.7067621946334839, 0.7022892236709595, 0.7019442319869995, 0.6998519897460938, 0.6994484066963196, 0.8563637733459473, 0.8544555902481079, 0.828746497631073, 0.823932409286499, 0.8215774297714233, 0.8206231594085693, 0.8198434114456177, 0.8194994330406189, 0.817095935344696, 0.8157845139503479, 0.8120551705360413, 0.8027626872062683, 0.8007867336273193, 0.7971698641777039, 0.7957083582878113, 0.7901919484138489, 0.7891392111778259, 0.7851489186286926, 0.7845398187637329, 0.7837001085281372, 0.7821617722511292, 0.780771791934967, 0.7746200561523438, 0.7732067108154297, 0.772255539894104, 0.7719433307647705, 0.885930597782135, 0.8822508454322815, 0.8801751136779785, 0.8782467246055603, 0.8778353333473206, 0.8689607977867126, 0.8558758497238159, 0.8527885675430298, 0.8440390825271606, 0.8425957560539246, 0.8420279622077942, 0.8375268578529358, 0.8368368744850159, 0.8367743492126465, 0.835355281829834, 0.834779679775238, 0.8323947787284851, 0.8295313119888306, 0.828507125377655, 0.827121913433075, 0.8254610300064087, 0.8252613544464111, 0.8248961567878723, 0.8247438669204712, 0.8241459727287292, 0.9123128652572632, 0.897406280040741, 0.8953203558921814, 0.895244836807251, 0.8929406404495239, 0.8860610127449036, 0.884399950504303, 0.8782610297203064, 0.8733212947845459, 0.8725261092185974, 0.8721145987510681, 0.8695181608200073, 0.8672040104866028, 0.862511932849884, 0.8617311120033264, 0.8550522327423096, 0.845954954624176, 0.8454619646072388, 0.8447655439376831, 0.84367436170578, 0.8426142334938049, 0.8389521241188049, 0.8348947167396545, 0.832984447479248, 0.832517147064209, 0.8304356932640076, 0.8288810849189758, 0.6726269721984863, 0.6125268936157227, 0.5908677577972412, 0.5338122248649597, 0.526674211025238, 0.5195087194442749, 0.5103055238723755, 0.5098734498023987, 0.5068838000297546, 0.501865029335022, 0.501583993434906, 0.49882277846336365, 0.4954618513584137, 0.48671725392341614, 0.47876378893852234, 0.47585687041282654, 0.4756559431552887, 0.4754244387149811, 0.47170984745025635, 0.47029760479927063, 0.4664204716682434, 0.46458569169044495, 0.46193867921829224, 0.45785894989967346, 0.45220011472702026, 0.4520094394683838, 0.4480370879173279, 0.44499316811561584, 0.44403213262557983, 0.4337519705295563, 0.4335043430328369, 0.4292598366737366, 0.731619656085968, 0.7102699875831604, 0.7089237570762634, 0.7077161073684692, 0.705792248249054, 0.6972669959068298, 0.6972348093986511, 0.6891493201255798, 0.6737968921661377, 0.6730895638465881, 0.6719802618026733, 0.6621712446212769, 0.6567909717559814, 0.655913233757019, 0.6506356596946716, 0.6475724577903748, 0.6430501341819763, 0.641510546207428, 0.6396999359130859, 0.6380081176757812, 0.6375412940979004, 0.6363208293914795, 0.6320019364356995, 0.6307601928710938, 0.6298983693122864, 0.6291896104812622, 0.6275337934494019, 0.6226575374603271, 0.6220839619636536, 0.8265994191169739, 0.8116695880889893, 0.7729963064193726, 0.7725174427032471, 0.7717741131782532, 0.7698112726211548, 0.7694066166877747, 0.7682821750640869, 0.7678195238113403, 0.7645480632781982, 0.7643938064575195, 0.7629966735839844, 0.7595353126525879, 0.7552943825721741, 0.7542704343795776, 0.7542577981948853, 0.753278374671936, 0.7524827718734741, 0.7489215135574341, 0.7475456595420837, 0.7464841604232788, 0.7407075762748718, 0.7395803928375244, 0.7391545176506042, 0.7384423613548279, 0.7372081279754639, 0.7369902729988098, 0.7347933053970337, 0.7342983484268188, 0.7309358716011047, 0.7301585078239441, 0.7299116253852844, 0.7735082507133484, 0.7643566131591797, 0.7506086230278015, 0.7490317225456238, 0.7424831390380859, 0.7249891757965088, 0.7243176102638245, 0.7238576412200928, 0.7056918144226074, 0.7053095102310181, 0.7036800384521484, 0.7034850716590881, 0.6984208822250366, 0.6967549920082092, 0.6876101493835449, 0.6864698529243469, 0.6835832595825195, 0.6831195950508118, 0.6821228861808777, 0.6798433661460876, 0.6757411956787109, 0.6754714250564575, 0.6745486259460449, 0.6743748188018799, 0.6703934073448181, 0.6687552332878113, 0.817482590675354, 0.8089463710784912, 0.7827461361885071, 0.7820917367935181, 0.7807056903839111, 0.776374340057373, 0.7741386890411377, 0.7705537676811218, 0.7674111127853394, 0.7568455934524536, 0.7561107873916626, 0.7528282999992371, 0.7482982873916626, 0.7462367415428162, 0.7461230754852295, 0.7349165081977844, 0.7330096364021301, 0.732319176197052, 0.7316585779190063, 0.7314735651016235, 0.7309156060218811, 0.7268517017364502, 0.7241504788398743, 0.7181901931762695, 0.7151256203651428, 0.7148505449295044, 0.7125283479690552, 0.709235429763794, 0.7070839405059814, 0.7061710953712463, 0.7030312418937683, 0.7029545903205872, 0.7017964124679565, 0.852246105670929, 0.8427502512931824, 0.8260499835014343, 0.8223804831504822, 0.8209304809570312, 0.8187198638916016, 0.8142620325088501, 0.8082338571548462, 0.8063516020774841, 0.8030863404273987, 0.8023498058319092, 0.7995060682296753, 0.7853556871414185, 0.7780460119247437, 0.7778826951980591, 0.7732968926429749, 0.7704584002494812, 0.7701871991157532, 0.7695184350013733, 0.76866215467453, 0.7683261036872864, 0.7677732706069946, 0.766912579536438, 0.7663223147392273, 0.7902238368988037, 0.675703763961792, 0.6732829213142395, 0.6470030546188354, 0.6144612431526184, 0.6134357452392578, 0.6002055406570435, 0.5963923335075378, 0.5928202271461487, 0.586480438709259, 0.5803439021110535, 0.578466534614563, 0.5731779932975769, 0.5712528824806213, 0.5640792846679688, 0.5549731850624084, 0.5514505505561829, 0.5477653741836548, 0.5316763520240784, 0.531353771686554, 0.5285474061965942, 0.5282063484191895, 0.525058925151825, 0.5240036845207214, 0.5231205224990845, 0.5195035934448242, 0.5177006721496582, 0.5171661972999573, 0.5163460373878479, 0.515195906162262, 0.5151634812355042, 0.5122652649879456, 0.5121156573295593, 0.5108591318130493, 0.5104562044143677, 0.5100007057189941, 0.8160834908485413, 0.7978872060775757, 0.7971670627593994, 0.7949944138526917, 0.7873407006263733, 0.7834285497665405, 0.7773069739341736, 0.769995927810669, 0.7685108780860901, 0.7675569653511047, 0.7662568688392639, 0.7630250453948975, 0.7614184617996216, 0.7549480199813843, 0.752380907535553, 0.7482044696807861, 0.7456241250038147, 0.7446421384811401, 0.7403700351715088, 0.7366101145744324, 0.7365773916244507, 0.731079638004303, 0.7308962345123291, 0.7307829260826111, 0.7304561734199524, 0.7299789190292358, 0.7295787930488586, 0.7236570119857788, 0.8096370100975037, 0.8003769516944885, 0.7787734866142273, 0.7760686874389648, 0.7681543231010437, 0.7581338882446289, 0.7517892122268677, 0.7465192079544067, 0.7452179789543152, 0.7439413666725159, 0.7422608137130737, 0.7327588796615601, 0.7300096750259399, 0.7277547121047974, 0.7274582982063293, 0.725697934627533, 0.7229031920433044, 0.7227348685264587, 0.7184909582138062, 0.7116405367851257, 0.7107176184654236, 0.710290253162384, 0.7068101167678833, 0.7052779197692871, 0.7051037549972534, 0.7025518417358398, 0.7014448642730713, 0.6969992518424988, 0.6967804431915283, 0.6959686279296875, 0.695314347743988, 0.7398169636726379, 0.7187672853469849, 0.7180023789405823, 0.7155422568321228, 0.7038276791572571, 0.6975834369659424, 0.6953797936439514, 0.6720466613769531, 0.6706953048706055, 0.669858455657959, 0.666024923324585, 0.6641691327095032, 0.6637725234031677, 0.6618591547012329, 0.6549679040908813, 0.6520681381225586, 0.6498044729232788, 0.6454128623008728, 0.6452814340591431, 0.6438136100769043, 0.6410505175590515, 0.6398084759712219, 0.6390368938446045, 0.636961042881012, 0.6351207494735718, 0.6325346231460571, 0.8512125611305237, 0.825694739818573, 0.7784512042999268, 0.775963306427002, 0.7687117457389832, 0.7542853355407715, 0.7537291049957275, 0.7516068816184998, 0.7514997124671936, 0.7435393333435059, 0.7411003708839417, 0.7407608032226562, 0.7393417954444885, 0.7377769351005554, 0.7328985929489136, 0.7306418418884277, 0.7194424271583557, 0.7155613899230957, 0.7101573944091797, 0.7092219591140747, 0.6995182037353516, 0.6974810361862183, 0.6478331089019775, 0.6262688636779785, 0.6187272071838379, 0.5760903358459473, 0.566063404083252, 0.5553689002990723, 0.5439012050628662, 0.5311896204948425, 0.5299744606018066, 0.526135265827179, 0.5151161551475525, 0.5141615271568298, 0.5134093761444092, 0.5103669166564941, 0.5059663653373718, 0.4986098110675812, 0.48627427220344543, 0.4847964644432068, 0.48054051399230957, 0.47852739691734314, 0.476582407951355, 0.47473397850990295, 0.47457045316696167, 0.4732929766178131, 0.472475528717041, 0.4685284495353699, 0.46702080965042114, 0.4652198553085327, 0.46233177185058594, 0.4623178243637085, 0.46213579177856445, 0.4615095257759094, 0.461011677980423, 0.46091344952583313, 0.45946547389030457, 0.45780858397483826, 0.7807880640029907, 0.7625811696052551, 0.7607159614562988, 0.7607043385505676, 0.758101224899292, 0.7542120814323425, 0.7495532631874084, 0.741465151309967, 0.7292943596839905, 0.7239431738853455, 0.7196910381317139, 0.7161678075790405, 0.7143082618713379, 0.7121165990829468, 0.7117465734481812, 0.7105810046195984, 0.7099804282188416, 0.7098230123519897, 0.7091809511184692, 0.7075158953666687, 0.7041031122207642, 0.702651858329773, 0.6998023390769958, 0.6987200379371643, 0.6984823346138, 0.6969753503799438, 0.6962648630142212, 0.6959429383277893, 0.6934714913368225, 0.8031985759735107, 0.7980656623840332, 0.7969990372657776, 0.7966781854629517, 0.7924516797065735, 0.7896409034729004, 0.7869167923927307, 0.7844336628913879, 0.782640278339386, 0.7746787071228027, 0.7744420766830444, 0.7706984877586365, 0.759944498538971, 0.7558640241622925, 0.7474398016929626, 0.7424677014350891, 0.7415798306465149, 0.7386295199394226, 0.7373217344284058, 0.7315371036529541, 0.7291507720947266, 0.7247280478477478, 0.7226260900497437, 0.7209538221359253, 0.7177857160568237, 0.8065309524536133, 0.79334557056427, 0.7779067158699036, 0.777207612991333, 0.7723338603973389, 0.7669426798820496, 0.7647669911384583, 0.7615579962730408, 0.7605410814285278, 0.7591577172279358, 0.7578407526016235, 0.7519434690475464, 0.751185953617096, 0.7488096356391907, 0.7482500076293945, 0.7455715537071228, 0.7453420162200928, 0.7427130937576294, 0.7406869530677795, 0.7397728562355042, 0.7378266453742981, 0.737165629863739, 0.7370139956474304, 0.7369498610496521, 0.7368528246879578, 0.7352707982063293, 0.7341268062591553, 0.7314441800117493, 0.7284783720970154, 0.7272171378135681, 0.726201593875885, 0.8454480767250061, 0.8393116593360901, 0.7605637311935425, 0.7595288753509521, 0.7526663541793823, 0.7510132193565369, 0.749927282333374, 0.7467348575592041, 0.7429904341697693, 0.7392617464065552, 0.7333031296730042, 0.7332200407981873, 0.7269376516342163, 0.7249880433082581, 0.718363344669342, 0.717512845993042, 0.71746826171875, 0.7167450785636902, 0.7154746055603027, 0.7151431441307068, 0.7138367891311646, 0.712647020816803, 0.7121798396110535, 0.7108847498893738, 0.7069615721702576, 0.7066856026649475, 0.7059298753738403, 0.7357457876205444, 0.7175676226615906, 0.714238166809082, 0.6947688460350037, 0.6870103478431702, 0.6836335062980652, 0.6791801452636719, 0.6775042414665222, 0.6604395508766174, 0.6580336689949036, 0.6573137640953064, 0.6479214429855347, 0.6473661661148071, 0.6420459151268005, 0.6400936841964722, 0.6391612887382507, 0.6389220356941223, 0.6388742923736572, 0.6369020938873291, 0.6366850733757019, 0.6363257169723511, 0.6351335644721985, 0.6339064836502075, 0.6320004463195801, 0.9598593711853027, 0.9479290843009949, 0.9461269974708557, 0.9459072947502136, 0.9442285895347595, 0.9440411925315857, 0.943790853023529, 0.942654013633728, 0.942017138004303, 0.9399890303611755, 0.9378111362457275, 0.9351989030838013, 0.9342552423477173, 0.9332870841026306, 0.9323389530181885, 0.9302286505699158, 0.9294130802154541, 0.9254138469696045, 0.9225291609764099, 0.9213230013847351, 0.9179486036300659, 0.9178847074508667, 0.9173794984817505, 0.9167958498001099, 0.9167857766151428, 0.9116417765617371, 0.9097052812576294, 0.90958172082901, 0.9252652525901794, 0.9063113927841187, 0.8935061693191528, 0.8878532648086548, 0.8793700933456421, 0.8772625923156738, 0.8742915391921997, 0.8737902045249939, 0.8705486059188843, 0.8700099587440491, 0.8688231110572815, 0.867975115776062, 0.8679590821266174, 0.8659480810165405, 0.8657306432723999, 0.864029586315155, 0.8612164258956909, 0.8609317541122437, 0.8597245812416077, 0.8588113784790039, 0.8561951518058777, 0.85613614320755, 0.8558111786842346, 0.8555065989494324, 0.8547829985618591, 0.8543795943260193, 0.8540928363800049, 0.8538389205932617, 0.8529324531555176, 0.8519037365913391, 0.851375162601471, 0.8510583639144897, 0.8492615222930908, 0.8605256676673889, 0.8542121648788452, 0.8503212332725525, 0.8351212739944458, 0.829353392124176, 0.8261975049972534, 0.8258503675460815, 0.8225365877151489, 0.8219209313392639, 0.8211542963981628, 0.8199241757392883, 0.8188272714614868, 0.8187912702560425, 0.8168438673019409, 0.8159775137901306, 0.8158536553382874, 0.81565260887146, 0.8153936862945557, 0.8153539299964905, 0.8150744438171387, 0.8144754767417908, 0.8122848868370056, 0.812213122844696, 0.810712456703186, 0.8103922605514526, 0.8091079592704773, 0.9089580774307251, 0.8871203660964966, 0.8794599175453186, 0.8770438432693481, 0.8733346462249756, 0.8727923631668091, 0.8718823194503784, 0.8692277669906616, 0.8653146624565125, 0.8504884243011475, 0.8476122617721558, 0.8474152684211731, 0.8457548022270203, 0.844580352306366, 0.8386403322219849, 0.8385397791862488, 0.8293805122375488, 0.8283509612083435, 0.8278328776359558, 0.8257569074630737, 0.8233225345611572, 0.8220768570899963, 0.8219934105873108, 0.8213448524475098, 0.8194211721420288, 0.8170347213745117, 0.8163318037986755, 0.8140928745269775, 0.8128901720046997, 0.894200325012207, 0.8454665541648865, 0.8162403702735901, 0.8064042329788208, 0.7804135680198669, 0.766518235206604, 0.7649938464164734, 0.7621014714241028, 0.7555385828018188, 0.7549984455108643, 0.7390827536582947, 0.7355779409408569, 0.7348673939704895, 0.7304659485816956, 0.727919340133667, 0.7258912920951843, 0.7209724187850952, 0.7096142172813416, 0.7080990672111511, 0.699958086013794, 0.6973632574081421, 0.691510021686554, 0.6851692795753479, 0.6849801540374756, 0.6844346523284912, 0.6831610202789307, 0.6822110414505005, 0.6793909668922424, 0.6782453060150146, 0.6774261593818665, 0.6767027378082275, 0.6765132546424866, 0.6740438938140869, 0.8297184109687805, 0.8257479667663574, 0.8223723769187927, 0.8198597431182861, 0.8148072361946106, 0.8122903108596802, 0.8118784427642822, 0.8117797374725342, 0.8110288977622986, 0.8094394207000732, 0.8071150779724121, 0.8049306273460388, 0.8015376329421997, 0.7993658781051636, 0.7985722422599792, 0.798308253288269, 0.7919663786888123, 0.7904210090637207, 0.7902235984802246, 0.7865443825721741, 0.8554863929748535, 0.8431965112686157, 0.8399298787117004, 0.8359212279319763, 0.8345233201980591, 0.827812135219574, 0.8157541155815125, 0.8085716366767883, 0.8077956438064575, 0.8074744939804077, 0.8072466850280762, 0.805997371673584, 0.8052523732185364, 0.8049781322479248, 0.8041728138923645, 0.8023838996887207, 0.8007520437240601, 0.8007236123085022, 0.7998088002204895, 0.799362063407898, 0.7967987060546875, 0.7920190095901489, 0.7919297218322754, 0.7915892004966736, 0.790262758731842, 0.9072864651679993, 0.9047070741653442, 0.8957474827766418, 0.8901124000549316, 0.8805489540100098, 0.8592119216918945, 0.8556244373321533, 0.8496324419975281, 0.8401074409484863, 0.8383638262748718, 0.8377172946929932, 0.8284391760826111, 0.8226790428161621, 0.8173229098320007, 0.8097782135009766, 0.7996417284011841, 0.7977896332740784, 0.7977786064147949, 0.796619176864624, 0.7928881645202637, 0.7868671417236328, 0.7865233421325684, 0.7822941541671753, 0.7807851433753967, 0.7803982496261597, 0.9433530569076538, 0.8384798169136047, 0.830811083316803, 0.8211086392402649, 0.8066039085388184, 0.7696186900138855, 0.7613487243652344, 0.7404359579086304, 0.7347464561462402, 0.7321218252182007, 0.7265121340751648, 0.7239475250244141, 0.72385174036026, 0.7230542898178101, 0.719719648361206, 0.7183637022972107, 0.7134342193603516, 0.7099066376686096, 0.7075350284576416, 0.7071746587753296, 0.7018203735351562, 0.7001243233680725, 0.6991435885429382, 0.690625786781311, 0.6806070804595947, 0.6800097823143005, 0.6796466708183289, 0.6711785197257996, 0.6690862774848938, 0.6657134890556335, 0.6643965840339661, 0.6582772731781006, 0.8693752884864807, 0.8680281639099121, 0.8650046586990356, 0.8590355515480042, 0.8575114011764526, 0.8548987507820129, 0.8527280688285828, 0.8498275876045227, 0.8491145968437195, 0.8459198474884033, 0.8449236154556274, 0.8431985974311829, 0.8423222303390503, 0.8408301472663879, 0.8405042290687561, 0.8401358127593994, 0.8386810421943665, 0.8381004333496094, 0.8375680446624756, 0.8360230326652527, 0.8359834551811218, 0.8353728652000427, 0.8954451680183411, 0.8840321898460388, 0.8821302652359009, 0.8711159229278564, 0.8517385125160217, 0.8360133767127991, 0.8286972045898438, 0.8249366879463196, 0.8225889205932617, 0.8216682076454163, 0.8212659358978271, 0.8158657550811768, 0.8144310116767883, 0.8102823495864868, 0.8054474592208862, 0.8044048547744751, 0.8038929104804993, 0.8023908734321594, 0.8017381429672241, 0.7938129305839539, 0.7929937243461609, 0.7923965454101562, 0.7899183034896851, 0.7897575497627258, 0.7893885970115662, 0.8253462314605713, 0.7873895168304443, 0.7722276449203491, 0.7571929693222046, 0.7497556805610657, 0.7437930107116699, 0.7415136098861694, 0.723954439163208, 0.7169315218925476, 0.7029939889907837, 0.7004786729812622, 0.7002051472663879, 0.6983144879341125, 0.6911232471466064, 0.6899101138114929, 0.6830942034721375, 0.6826507449150085, 0.6786670088768005, 0.6724534630775452, 0.6721979975700378, 0.6721978187561035, 0.6700615286827087, 0.6695386171340942, 0.6665747165679932, 0.6651924252510071, 0.6643396615982056, 0.9376722574234009, 0.9310686588287354, 0.9018813371658325, 0.8845394849777222, 0.8810046911239624, 0.8780302405357361, 0.8722394704818726, 0.8698664307594299, 0.8582180142402649, 0.8576039671897888, 0.8500902652740479, 0.8495036959648132, 0.8488130569458008, 0.8410444259643555, 0.8148223757743835, 0.8089345693588257, 0.8063347339630127, 0.801048755645752, 0.7738485932350159, 0.7604050040245056, 0.7304284572601318, 0.6926771402359009, 0.6751520037651062, 0.6743257641792297, 0.6711848378181458, 0.6618770956993103, 0.6481930613517761, 0.6386033892631531, 0.613050103187561, 0.6092885732650757, 0.6056922078132629, 0.6037293672561646, 0.5981876254081726, 0.5931779146194458, 0.5864395499229431, 0.584940493106842, 0.5845807194709778, 0.5813065767288208, 0.580450713634491, 0.8745256066322327, 0.865733802318573, 0.8463349342346191, 0.8459546566009521, 0.8458088636398315, 0.8445405960083008, 0.8422372341156006, 0.8391225934028625, 0.83823162317276, 0.8354634642601013, 0.8341959118843079, 0.8334970474243164, 0.8315105438232422, 0.8295359015464783, 0.8262887001037598, 0.8262285590171814, 0.8254851698875427, 0.8251039385795593, 0.8247904777526855, 0.8236016035079956, 0.847102165222168, 0.8230043649673462, 0.82133549451828, 0.8170247673988342, 0.8107571601867676, 0.8055371046066284, 0.8032528162002563, 0.7926422953605652, 0.7916483879089355, 0.791601300239563, 0.7897343635559082, 0.7864750027656555, 0.7743673920631409, 0.773650050163269, 0.768714964389801, 0.7684358954429626, 0.7668821811676025, 0.7654474377632141, 0.7617791295051575, 0.7616739869117737, 0.7581984996795654, 0.757127583026886, 0.8172212839126587, 0.7785588502883911, 0.7516593337059021, 0.7407175898551941, 0.7246362566947937, 0.724281907081604, 0.7164192199707031, 0.7128214836120605, 0.7057486772537231, 0.7052185535430908, 0.7025223970413208, 0.6987718343734741, 0.6896488070487976, 0.6873793005943298, 0.6870247721672058, 0.6857473254203796, 0.6804857850074768, 0.6785923838615417, 0.6768783330917358, 0.676673173904419, 0.6764734387397766, 0.6763551831245422, 0.6751282811164856, 0.9273571372032166, 0.9214709401130676, 0.9157834053039551, 0.9146671891212463, 0.9135169386863708, 0.9063289165496826, 0.9043792486190796, 0.9003916382789612, 0.8965464234352112, 0.8942019939422607, 0.8897829055786133, 0.885530412197113, 0.8852073550224304, 0.879287600517273, 0.8764841556549072, 0.8610991835594177, 0.8507504463195801, 0.8497170805931091, 0.8411717414855957, 0.8227821588516235, 0.8202481865882874, 0.8182839751243591, 0.7462583184242249, 0.7064352631568909, 0.6801436543464661, 0.6789964437484741, 0.6785722970962524, 0.6770218014717102, 0.6761483550071716, 0.6726213693618774, 0.6601253747940063, 0.6584524512290955, 0.6494916081428528, 0.6483667492866516, 0.6479353904724121, 0.6465402841567993, 0.645902693271637, 0.6405802369117737, 0.8137444257736206, 0.7959758043289185, 0.7870032787322998, 0.7778720855712891, 0.7712724208831787, 0.7671335339546204, 0.7649968266487122, 0.7499321103096008, 0.7438483238220215, 0.7409275770187378, 0.7365681529045105, 0.7364983558654785, 0.7338618040084839, 0.7328724265098572, 0.7323789000511169, 0.73183274269104, 0.7302400469779968, 0.7289608120918274, 0.7253334522247314, 0.7248538732528687, 0.7243725657463074, 0.8796917200088501, 0.8599005341529846, 0.8575581908226013, 0.8541468381881714, 0.8522240519523621, 0.8494959473609924, 0.8462077975273132, 0.8456065058708191, 0.8339243531227112, 0.8289988040924072, 0.8239362835884094, 0.8220036029815674, 0.8219044208526611, 0.8214101791381836, 0.8193433284759521, 0.8164013028144836, 0.8162478804588318, 0.815298318862915, 0.8149014115333557, 0.8102261424064636, 0.8096775412559509, 0.8092608451843262, 0.8087401986122131, 0.806049644947052, 0.8058892488479614, 0.8043100833892822, 0.8037410974502563, 0.7907558083534241, 0.7833467125892639, 0.7783610224723816, 0.776472270488739, 0.7726391553878784, 0.7654606699943542, 0.7536114454269409, 0.7531341314315796, 0.7511823177337646, 0.7485724687576294, 0.7476404905319214, 0.7360928654670715, 0.7341178059577942, 0.7226120233535767, 0.7219042181968689, 0.718405544757843, 0.7069149613380432, 0.7012249231338501, 0.700411319732666, 0.6977893710136414, 0.6951693892478943, 0.6898772716522217, 0.6887689828872681, 0.688552737236023, 0.6882652640342712, 0.6876971125602722, 0.6875311136245728, 0.6869037747383118, 0.6853955984115601, 0.6826367378234863, 0.6820163726806641, 0.6819866299629211, 0.676964282989502, 0.6707903146743774, 0.6706563234329224, 0.6702125668525696, 0.6696155667304993, 0.6688485145568848, 0.653758704662323, 0.6489797830581665, 0.6465502977371216, 0.641165018081665, 0.6174003481864929, 0.6139399409294128, 0.5811144113540649, 0.5768575072288513, 0.5738452076911926, 0.5709993839263916, 0.5675933361053467, 0.566592276096344, 0.5658657550811768, 0.5645225048065186, 0.5634318590164185, 0.5623781681060791, 0.5623254776000977, 0.5575599074363708, 0.5531858801841736, 0.5504937767982483, 0.5504034757614136, 0.5468344688415527, 0.5457273125648499, 0.5429956912994385, 0.5403850078582764, 0.531779944896698, 0.5313753485679626, 0.5309084057807922, 0.5297930836677551, 0.5294976830482483, 0.5279322862625122, 0.5276270508766174, 0.5262773633003235, 0.526218593120575, 0.8507945537567139, 0.8150707483291626, 0.7894132733345032, 0.7888827919960022, 0.7716107964515686, 0.7616790533065796, 0.7580018043518066, 0.7568456530570984, 0.7515826225280762, 0.7414090037345886, 0.7398742437362671, 0.7394204139709473, 0.7355453968048096, 0.7180028557777405, 0.7146092057228088, 0.713516891002655, 0.7117284536361694, 0.7058218717575073, 0.7044520974159241, 0.7018803954124451, 0.7018155455589294, 0.6953838467597961, 0.6937607526779175, 0.6906476020812988, 0.6905660629272461, 0.6896780729293823, 0.6845998167991638, 0.6837601661682129, 0.6826429963111877, 0.680219829082489, 0.6793397068977356, 0.725875198841095, 0.6569964289665222, 0.6511793732643127, 0.6445298194885254, 0.6428411602973938, 0.6328811049461365, 0.6324807405471802, 0.6248937845230103, 0.6243200898170471, 0.6227142810821533, 0.6223188638687134, 0.6189566850662231, 0.6177834868431091, 0.617673397064209, 0.6163092851638794, 0.6148512959480286, 0.6131270527839661, 0.6119884848594666, 0.6112267374992371, 0.6104877591133118, 0.607354998588562, 0.6037635207176208, 0.5999254584312439, 0.5928233861923218, 0.5921174883842468, 0.5911508798599243, 0.5849424004554749, 0.7145912051200867, 0.6590980887413025, 0.649572491645813, 0.6460382342338562, 0.6393086910247803, 0.634894847869873, 0.6332632899284363, 0.6226073503494263, 0.6177152395248413, 0.6154962778091431, 0.6146736145019531, 0.6141664981842041, 0.6131536364555359, 0.6100556254386902, 0.6099502444267273, 0.6068168878555298, 0.604205310344696, 0.5990434885025024, 0.595102846622467, 0.5913148522377014, 0.5911385416984558, 0.5911104679107666, 0.5904586911201477, 0.5875723361968994, 0.5808213949203491, 0.579940140247345, 0.7592751979827881, 0.7547203898429871, 0.7207529544830322, 0.7101035118103027, 0.7017453908920288, 0.6987093091011047, 0.6967023015022278, 0.6953073740005493, 0.6929829120635986, 0.6902598738670349, 0.6873853206634521, 0.6858056783676147, 0.6855053305625916, 0.6850724816322327, 0.6846812963485718, 0.6836684346199036, 0.6829381585121155, 0.680298388004303, 0.6765612959861755, 0.6758155226707458, 0.6748174428939819, 0.6704644560813904, 0.6694032549858093, 0.6680270433425903, 0.6642411351203918, 0.9407890439033508, 0.9293732047080994, 0.9281924366950989, 0.9237618446350098, 0.9123303294181824, 0.910919189453125, 0.9102367758750916, 0.9041599631309509, 0.9041091203689575, 0.9036449193954468, 0.9032766819000244, 0.9014401435852051, 0.8930216431617737, 0.8926529288291931, 0.8914058208465576, 0.8911139369010925, 0.8898076415061951, 0.8857834935188293, 0.8849276304244995, 0.8845327496528625, 0.8811522722244263, 0.8798463344573975, 0.8797029852867126, 0.8790871500968933, 0.8782404065132141, 0.8777086138725281, 0.8775361776351929, 0.8770496845245361, 0.8760120868682861, 0.8759618997573853, 0.8755767345428467, 0.8753587603569031, 0.8748605847358704, 0.8047096729278564, 0.7947023510932922, 0.7927184104919434, 0.777330219745636, 0.777215301990509, 0.768937885761261, 0.7644800543785095, 0.763278067111969, 0.7619068026542664, 0.7506130933761597, 0.7498177289962769, 0.7405032515525818, 0.7393539547920227, 0.736384928226471, 0.7345284223556519, 0.7340224385261536, 0.7338133454322815, 0.7336484789848328, 0.7289469838142395, 0.7278153300285339, 0.7271665334701538, 0.7264958620071411, 0.7227453589439392, 0.8987892866134644, 0.8669841885566711, 0.852373480796814, 0.8440491557121277, 0.8427201509475708, 0.8391435146331787, 0.838421642780304, 0.8331589698791504, 0.8320797085762024, 0.8221802115440369, 0.8192178010940552, 0.817605197429657, 0.8134610056877136, 0.8131376504898071, 0.8130310773849487, 0.8087260723114014, 0.8085107207298279, 0.8065244555473328, 0.8035691976547241, 0.8033677935600281, 0.8002920746803284, 0.7995908856391907, 0.7988392114639282, 0.7979046702384949, 0.7977868914604187, 0.7970937490463257, 0.8620237708091736, 0.8609981536865234, 0.8594781756401062, 0.8524739742279053, 0.8428508639335632, 0.8177160024642944, 0.8148044943809509, 0.8077057600021362, 0.8075671792030334, 0.8063275218009949, 0.8034402132034302, 0.7994284629821777, 0.7976479530334473, 0.7936230301856995, 0.7875960469245911, 0.7821676135063171, 0.782029390335083, 0.7783202528953552, 0.7732632756233215, 0.771384060382843, 0.7708161473274231, 0.7681851983070374, 0.7574481964111328, 0.7573282718658447, 0.7561298608779907, 0.7552273869514465, 0.7548463940620422, 0.748752772808075, 0.7467347979545593, 0.7453657984733582, 0.7446674108505249, 0.7424923181533813, 0.7403641939163208, 0.7396572232246399, 0.9555047750473022, 0.9531981348991394, 0.9485563635826111, 0.945317268371582, 0.9419497847557068, 0.9373221397399902, 0.93513023853302, 0.9335615634918213, 0.9273571372032166, 0.9265183210372925, 0.9253784418106079, 0.9199578166007996, 0.9161527156829834, 0.9098359942436218, 0.9095744490623474, 0.894921600818634, 0.8923823833465576, 0.8913785219192505, 0.8886103630065918, 0.8839689493179321, 0.8833215832710266, 0.8489410877227783, 0.8101646900177002, 0.8089345693588257, 0.7992314696311951, 0.7913073301315308, 0.7875558733940125, 0.7847018241882324, 0.7438580393791199, 0.7426179647445679, 0.7260507941246033, 0.725712239742279, 0.7235459685325623, 0.7182026505470276, 0.7167688012123108, 0.9049842357635498, 0.8929670453071594, 0.8850657343864441, 0.8847217559814453, 0.8833505511283875, 0.8774895071983337, 0.873091459274292, 0.8685650825500488, 0.8661434650421143, 0.864882230758667, 0.8636592626571655, 0.8624600768089294, 0.8614453077316284, 0.8582251667976379, 0.8574159145355225, 0.8573859333992004, 0.8567057251930237, 0.8509727120399475, 0.8509632349014282, 0.8500558137893677, 0.8493492603302002, 0.8492633104324341, 0.8485296368598938, 0.8474323153495789, 0.8458178639411926, 0.845191478729248, 0.8450037240982056, 0.8444463014602661, 0.8436781167984009, 0.8433085680007935, 0.8430172801017761, 0.84297114610672, 0.7376691102981567, 0.6443213820457458, 0.6176780462265015, 0.5897688269615173, 0.587759256362915, 0.5800480842590332, 0.5749675035476685, 0.5616449117660522, 0.5558307766914368, 0.5547523498535156, 0.552862286567688, 0.5482516288757324, 0.5478259325027466, 0.5460495948791504, 0.5453481078147888, 0.5452598333358765, 0.5448971390724182, 0.5355176329612732, 0.5339648723602295, 0.5299404263496399, 0.5261490941047668, 0.525107204914093, 0.5248461961746216, 0.5233021974563599, 0.7451565265655518, 0.725101113319397, 0.7176311612129211, 0.7091023325920105, 0.6966125965118408, 0.6932240128517151, 0.6899111270904541, 0.6837064027786255, 0.6799227595329285, 0.6773672103881836, 0.6766578555107117, 0.6713147759437561, 0.6710199117660522, 0.6705341935157776, 0.6650169491767883, 0.6562906503677368, 0.6479019522666931, 0.6432363390922546, 0.6420965790748596, 0.6417558789253235, 0.6338034868240356, 0.6336488723754883, 0.6328616738319397, 0.6310157775878906, 0.6287649273872375, 0.6267691254615784, 0.9319217205047607, 0.9283173084259033, 0.9233675003051758, 0.9157737493515015, 0.91355299949646, 0.8894643187522888, 0.8885096311569214, 0.8879594206809998, 0.8755931258201599, 0.8750869035720825, 0.8706742525100708, 0.8669610619544983, 0.8594093918800354, 0.8546451330184937, 0.8514053821563721, 0.8490617275238037, 0.8488266468048096, 0.8488208651542664, 0.8427842855453491, 0.8377666473388672, 0.8333945870399475, 0.8325991630554199, 0.830234706401825, 0.8290147185325623, 0.8284008502960205, 0.8247399926185608, 0.8226195573806763, 0.8212016820907593, 0.8211318254470825, 0.8200974464416504, 0.8200201988220215, 0.8195309638977051, 0.8187023401260376, 0.8171433806419373, 0.7693851590156555, 0.7510857582092285, 0.7269690632820129, 0.7085996866226196, 0.6932811141014099, 0.690697193145752, 0.686042308807373, 0.6841131448745728, 0.6837790608406067, 0.681854248046875, 0.677804708480835, 0.6753091812133789, 0.6741673350334167, 0.6726179122924805, 0.6696075797080994, 0.6647036075592041, 0.6644012928009033, 0.6622711420059204, 0.6594147086143494, 0.6588247418403625, 0.6575965285301208, 0.6566181778907776, 0.7726041078567505, 0.7627958059310913, 0.7591376900672913, 0.7564473152160645, 0.7523050904273987, 0.7512830495834351, 0.7508193850517273, 0.7486368417739868, 0.7346422076225281, 0.7339144945144653, 0.7298526763916016, 0.7214170694351196, 0.7161940932273865, 0.7097150087356567, 0.7086782455444336, 0.7064907550811768, 0.7010214328765869, 0.6924747228622437, 0.6899881958961487, 0.6859225034713745, 0.6822942495346069, 0.6784277558326721, 0.6639986038208008, 0.6635298728942871, 0.6626732349395752, 0.6594722867012024, 0.6591663360595703, 0.6579974293708801, 0.6528560519218445, 0.8332298398017883, 0.8308303952217102, 0.8306581974029541, 0.8291115164756775, 0.8270485401153564, 0.8220339417457581, 0.8214815855026245, 0.820578932762146, 0.8201706409454346, 0.8174181580543518, 0.8156192302703857, 0.8145771622657776, 0.8138740658760071, 0.8136724233627319, 0.8098439574241638, 0.8088641166687012, 0.8086383938789368, 0.8065364360809326, 0.8063370585441589, 0.80462247133255, 0.8023244738578796, 0.8013455867767334, 0.8011096715927124, 0.8002354502677917, 0.7999206781387329, 0.7988088130950928, 0.7982449531555176, 0.7982254028320312, 0.7981639504432678, 0.7567965984344482, 0.7453100681304932, 0.7134162783622742, 0.702007532119751, 0.6954675912857056, 0.6935686469078064, 0.6883424520492554, 0.6865413784980774, 0.6860014200210571, 0.6852542757987976, 0.6847969889640808, 0.6835939288139343, 0.6824880838394165, 0.6772732138633728, 0.6757102608680725, 0.6682790517807007, 0.6636327505111694, 0.6593382358551025, 0.6583613157272339, 0.6566867828369141, 0.656595766544342, 0.6539406776428223, 0.6536866426467896, 0.6528105139732361, 0.7804970741271973, 0.7508254647254944, 0.730511486530304, 0.7220123410224915, 0.7180434465408325, 0.7062330842018127, 0.7052493095397949, 0.7017976641654968, 0.7011860013008118, 0.7003262042999268, 0.7000077366828918, 0.6992737650871277, 0.6979827880859375, 0.6979826092720032, 0.6977680325508118, 0.6976457834243774, 0.6963972449302673, 0.6935410499572754, 0.6920293569564819, 0.6902779340744019, 0.6893603801727295, 0.6868594884872437, 0.6853605508804321, 0.6850127577781677, 0.6847017407417297, 0.6845906972885132, 0.6840196847915649, 0.6837700605392456, 0.6832289099693298, 0.6822170615196228, 0.6559215784072876, 0.635549008846283, 0.6305719017982483, 0.6253459453582764, 0.6243535280227661, 0.6162925362586975, 0.6077953577041626, 0.6044522523880005, 0.602936327457428, 0.6022095680236816, 0.6000819802284241, 0.5888986587524414, 0.5828354954719543, 0.5812702775001526, 0.5764520764350891, 0.5749096274375916, 0.5727370977401733, 0.5710457563400269, 0.5693638324737549, 0.5665091276168823, 0.5663986802101135, 0.5651511549949646, 0.5646178126335144, 0.5645647644996643, 0.5607620477676392, 0.5600462555885315, 0.5595138072967529, 0.5566072463989258, 0.5561734437942505, 0.815102219581604, 0.8129939436912537, 0.7946375012397766, 0.7821773290634155, 0.7818557024002075, 0.7770602107048035, 0.7744271159172058, 0.7731851935386658, 0.7722750902175903, 0.7716822624206543, 0.7707539796829224, 0.76854407787323, 0.7670156955718994, 0.7638791799545288, 0.761419415473938, 0.7614170908927917, 0.7586627006530762, 0.7570430040359497, 0.7561695575714111, 0.7560309171676636, 0.7554906606674194, 0.7545610070228577, 0.7536113262176514, 0.7530966401100159, 0.7527718544006348, 0.9072864055633545, 0.9057350754737854, 0.8807775974273682, 0.8718823194503784, 0.820274829864502, 0.8186253309249878, 0.8087993264198303, 0.8078851103782654, 0.8047226667404175, 0.8010895252227783, 0.7997307777404785, 0.7882416844367981, 0.7879993319511414, 0.7875433564186096, 0.7808153629302979, 0.7792798280715942, 0.778190553188324, 0.7760442495346069, 0.7757893204689026, 0.7753852605819702, 0.7731726169586182, 0.7731407284736633, 0.7726057171821594, 0.7723854780197144, 0.7715349197387695, 0.922795832157135, 0.9047070741653442, 0.8881609439849854, 0.8794599175453186, 0.8547707796096802, 0.8350124359130859, 0.8070230484008789, 0.7984896898269653, 0.7840761542320251, 0.7806552648544312, 0.7771384716033936, 0.7771168947219849, 0.773670494556427, 0.7695615291595459, 0.769073486328125, 0.7688440084457397, 0.7649300694465637, 0.7648707032203674, 0.7643206715583801, 0.7621486186981201, 0.7595192193984985, 0.7580715417861938, 0.7533872127532959, 0.7493929266929626, 0.7476618885993958, 0.7599799036979675, 0.7566783428192139, 0.7551940083503723, 0.745721161365509, 0.7399588227272034, 0.7332510948181152, 0.7327186465263367, 0.731805145740509, 0.6797393560409546, 0.6682562232017517, 0.6471796631813049, 0.6464555263519287, 0.6454300880432129, 0.6440528631210327, 0.6436758637428284, 0.6432954668998718, 0.6299067735671997, 0.6252907514572144, 0.6232420206069946, 0.6189892292022705, 0.6167596578598022, 0.6127696633338928, 0.6120479106903076, 0.6110770106315613, 0.6093912124633789, 0.6091356873512268, 0.6079660654067993, 0.9302493333816528, 0.9089581370353699, 0.8973854184150696, 0.8964401483535767, 0.8957474827766418, 0.8954256176948547, 0.8941304683685303, 0.8929436206817627, 0.8744701147079468, 0.8702388405799866, 0.8632466197013855, 0.8631078600883484, 0.8580964803695679, 0.8548347353935242, 0.8532998561859131, 0.8527109622955322, 0.8483162522315979, 0.8478607535362244, 0.8470954298973083, 0.8468159437179565, 0.8466706275939941, 0.8461427688598633, 0.8436018228530884, 0.8432780504226685, 0.8430644273757935, 0.8409311175346375, 0.7188403010368347, 0.7075513601303101, 0.7020145058631897, 0.6995452046394348, 0.6983035802841187, 0.6900011301040649, 0.6850131750106812, 0.6788346171379089, 0.6786505579948425, 0.6758993864059448, 0.6734429001808167, 0.660892903804779, 0.6583478450775146, 0.6573536992073059, 0.6573380827903748, 0.6536177396774292, 0.6521466970443726, 0.6510345935821533, 0.6502808928489685, 0.6484506726264954, 0.6479650735855103, 0.6477952003479004, 0.6472545862197876, 0.6468520164489746, 0.6463298201560974, 0.642432689666748, 0.6413451433181763, 0.774583637714386, 0.7718887329101562, 0.7508023977279663, 0.7384568452835083, 0.7377861738204956, 0.730426013469696, 0.7281010746955872, 0.7279849648475647, 0.7213234305381775, 0.7210771441459656, 0.706691324710846, 0.7065210342407227, 0.7021781802177429, 0.6996273994445801, 0.6988535523414612, 0.6987939476966858, 0.6982271671295166, 0.6944220662117004, 0.6934798359870911, 0.6900553107261658, 0.6886175274848938, 0.6848641037940979, 0.6847044825553894, 0.6832564473152161, 0.6822847723960876, 0.7429996728897095, 0.6309351921081543, 0.6090511679649353, 0.5817906260490417, 0.5599222183227539, 0.551797091960907, 0.5333837270736694, 0.5323896408081055, 0.5250977277755737, 0.5220070481300354, 0.5074602365493774, 0.4999164938926697, 0.49499279260635376, 0.47417154908180237, 0.47184547781944275, 0.4662368595600128, 0.4568871259689331, 0.45614099502563477, 0.4526861011981964, 0.4517979919910431, 0.44903564453125, 0.44809165596961975, 0.4438261091709137, 0.42949342727661133, 0.42746198177337646, 0.4243728816509247, 0.42135748267173767, 0.4190995395183563, 0.4170367121696472, 0.4101833701133728, 0.4101202189922333, 0.40533968806266785, 0.40399885177612305, 0.40165480971336365, 0.7398743629455566, 0.7279080748558044, 0.7268518209457397, 0.6943634748458862, 0.6905988454818726, 0.678339421749115, 0.6768355965614319, 0.6596997976303101, 0.6500509977340698, 0.6495586633682251, 0.6489248275756836, 0.6463019251823425, 0.6450092196464539, 0.644939661026001, 0.641789436340332, 0.6348809003829956, 0.6304552555084229, 0.6270556449890137, 0.6270170211791992, 0.6252802610397339, 0.6251925230026245, 0.6156609058380127, 0.6125083565711975, 0.6124298572540283, 0.6123233437538147, 0.6107690334320068, 0.6081936359405518, 0.607761800289154, 0.6076400876045227, 0.6075432896614075, 0.7289606332778931, 0.7231378555297852, 0.721890389919281, 0.7189936637878418, 0.7155216336250305, 0.7133278846740723, 0.7129592299461365, 0.7111433148384094, 0.7085642218589783, 0.7083998918533325, 0.7081478834152222, 0.7067141532897949, 0.7064268589019775, 0.7014111280441284, 0.6992189884185791, 0.6986620426177979, 0.6975383758544922, 0.695385754108429, 0.6916115880012512, 0.6867653131484985, 0.6825101375579834, 0.680799663066864, 0.68060302734375, 0.7152655124664307, 0.6583600044250488, 0.6531170010566711, 0.6524962186813354, 0.6491689085960388, 0.6334899067878723, 0.6333295106887817, 0.6199871897697449, 0.6111668944358826, 0.6101268529891968, 0.6093060374259949, 0.6069636940956116, 0.604771077632904, 0.6017175912857056, 0.6006093621253967, 0.5976652503013611, 0.5942834615707397, 0.5920809507369995, 0.5896083116531372, 0.5886442065238953, 0.5885459184646606, 0.5877246260643005, 0.5836655497550964, 0.5826696753501892, 0.5821277499198914, 0.5812134742736816, 0.9170213937759399, 0.9143667221069336, 0.8625540733337402, 0.8509883284568787, 0.831461489200592, 0.8293905854225159, 0.8293544054031372, 0.8222559094429016, 0.8058836460113525, 0.8017134666442871, 0.7862461805343628, 0.7833077907562256, 0.7772668600082397, 0.767971396446228, 0.7557690143585205, 0.7557273507118225, 0.7549935579299927, 0.7542726397514343, 0.7536190152168274, 0.7508223056793213, 0.7479318380355835, 0.7458398938179016, 0.7450273633003235, 0.744735598564148, 0.7414757013320923, 0.6769394278526306, 0.6692867279052734, 0.6463413238525391, 0.6439728736877441, 0.6391886472702026, 0.6359034776687622, 0.6330193281173706, 0.6320346593856812, 0.6263021230697632, 0.6184602975845337, 0.6084230542182922, 0.6057857275009155, 0.6053974032402039, 0.6053712368011475, 0.6049404740333557, 0.604537308216095, 0.604079008102417, 0.5948200225830078, 0.5934843420982361, 0.5929083824157715, 0.5922744274139404, 0.5904104113578796, 0.5867320895195007, 0.5856870412826538, 0.5833910703659058, 0.5825461149215698], \"xaxis\": \"x\", \"yaxis\": \"y\"}],\n",
              "                        {\"barmode\": \"relative\", \"legend\": {\"tracegroupgap\": 0}, \"template\": {\"data\": {\"bar\": [{\"error_x\": {\"color\": \"#2a3f5f\"}, \"error_y\": {\"color\": \"#2a3f5f\"}, \"marker\": {\"line\": {\"color\": \"#E5ECF6\", \"width\": 0.5}}, \"type\": \"bar\"}], \"barpolar\": [{\"marker\": {\"line\": {\"color\": \"#E5ECF6\", \"width\": 0.5}}, \"type\": \"barpolar\"}], \"carpet\": [{\"aaxis\": {\"endlinecolor\": \"#2a3f5f\", \"gridcolor\": \"white\", \"linecolor\": \"white\", \"minorgridcolor\": \"white\", \"startlinecolor\": \"#2a3f5f\"}, \"baxis\": {\"endlinecolor\": \"#2a3f5f\", \"gridcolor\": \"white\", \"linecolor\": \"white\", \"minorgridcolor\": \"white\", \"startlinecolor\": \"#2a3f5f\"}, \"type\": \"carpet\"}], \"choropleth\": [{\"colorbar\": {\"outlinewidth\": 0, \"ticks\": \"\"}, \"type\": \"choropleth\"}], \"contour\": [{\"colorbar\": {\"outlinewidth\": 0, \"ticks\": \"\"}, \"colorscale\": [[0.0, \"#0d0887\"], [0.1111111111111111, \"#46039f\"], [0.2222222222222222, \"#7201a8\"], [0.3333333333333333, \"#9c179e\"], [0.4444444444444444, \"#bd3786\"], [0.5555555555555556, \"#d8576b\"], [0.6666666666666666, \"#ed7953\"], [0.7777777777777778, \"#fb9f3a\"], [0.8888888888888888, \"#fdca26\"], [1.0, \"#f0f921\"]], \"type\": \"contour\"}], \"contourcarpet\": [{\"colorbar\": {\"outlinewidth\": 0, \"ticks\": \"\"}, \"type\": \"contourcarpet\"}], \"heatmap\": [{\"colorbar\": {\"outlinewidth\": 0, \"ticks\": \"\"}, \"colorscale\": [[0.0, \"#0d0887\"], [0.1111111111111111, \"#46039f\"], [0.2222222222222222, \"#7201a8\"], [0.3333333333333333, \"#9c179e\"], [0.4444444444444444, \"#bd3786\"], [0.5555555555555556, \"#d8576b\"], [0.6666666666666666, \"#ed7953\"], [0.7777777777777778, \"#fb9f3a\"], [0.8888888888888888, \"#fdca26\"], [1.0, \"#f0f921\"]], \"type\": \"heatmap\"}], \"heatmapgl\": [{\"colorbar\": {\"outlinewidth\": 0, \"ticks\": \"\"}, \"colorscale\": [[0.0, \"#0d0887\"], [0.1111111111111111, \"#46039f\"], [0.2222222222222222, \"#7201a8\"], [0.3333333333333333, \"#9c179e\"], [0.4444444444444444, \"#bd3786\"], [0.5555555555555556, \"#d8576b\"], [0.6666666666666666, \"#ed7953\"], [0.7777777777777778, \"#fb9f3a\"], [0.8888888888888888, \"#fdca26\"], [1.0, \"#f0f921\"]], \"type\": \"heatmapgl\"}], \"histogram\": [{\"marker\": {\"colorbar\": {\"outlinewidth\": 0, \"ticks\": \"\"}}, \"type\": \"histogram\"}], \"histogram2d\": [{\"colorbar\": {\"outlinewidth\": 0, \"ticks\": \"\"}, \"colorscale\": [[0.0, \"#0d0887\"], [0.1111111111111111, \"#46039f\"], [0.2222222222222222, \"#7201a8\"], [0.3333333333333333, \"#9c179e\"], [0.4444444444444444, \"#bd3786\"], [0.5555555555555556, \"#d8576b\"], [0.6666666666666666, \"#ed7953\"], [0.7777777777777778, \"#fb9f3a\"], [0.8888888888888888, \"#fdca26\"], [1.0, \"#f0f921\"]], \"type\": \"histogram2d\"}], \"histogram2dcontour\": [{\"colorbar\": {\"outlinewidth\": 0, \"ticks\": \"\"}, \"colorscale\": [[0.0, \"#0d0887\"], [0.1111111111111111, \"#46039f\"], [0.2222222222222222, \"#7201a8\"], [0.3333333333333333, \"#9c179e\"], [0.4444444444444444, \"#bd3786\"], [0.5555555555555556, \"#d8576b\"], [0.6666666666666666, \"#ed7953\"], [0.7777777777777778, \"#fb9f3a\"], [0.8888888888888888, \"#fdca26\"], [1.0, \"#f0f921\"]], \"type\": \"histogram2dcontour\"}], \"mesh3d\": [{\"colorbar\": {\"outlinewidth\": 0, \"ticks\": \"\"}, \"type\": \"mesh3d\"}], \"parcoords\": [{\"line\": {\"colorbar\": {\"outlinewidth\": 0, \"ticks\": \"\"}}, \"type\": \"parcoords\"}], \"pie\": [{\"automargin\": true, \"type\": \"pie\"}], \"scatter\": [{\"marker\": {\"colorbar\": {\"outlinewidth\": 0, \"ticks\": \"\"}}, \"type\": \"scatter\"}], \"scatter3d\": [{\"line\": {\"colorbar\": {\"outlinewidth\": 0, \"ticks\": \"\"}}, \"marker\": {\"colorbar\": {\"outlinewidth\": 0, \"ticks\": \"\"}}, \"type\": \"scatter3d\"}], \"scattercarpet\": [{\"marker\": {\"colorbar\": {\"outlinewidth\": 0, \"ticks\": \"\"}}, \"type\": \"scattercarpet\"}], \"scattergeo\": [{\"marker\": {\"colorbar\": {\"outlinewidth\": 0, \"ticks\": \"\"}}, \"type\": \"scattergeo\"}], \"scattergl\": [{\"marker\": {\"colorbar\": {\"outlinewidth\": 0, \"ticks\": \"\"}}, \"type\": \"scattergl\"}], \"scattermapbox\": [{\"marker\": {\"colorbar\": {\"outlinewidth\": 0, \"ticks\": \"\"}}, \"type\": \"scattermapbox\"}], \"scatterpolar\": [{\"marker\": {\"colorbar\": {\"outlinewidth\": 0, \"ticks\": \"\"}}, \"type\": \"scatterpolar\"}], \"scatterpolargl\": [{\"marker\": {\"colorbar\": {\"outlinewidth\": 0, \"ticks\": \"\"}}, \"type\": \"scatterpolargl\"}], \"scatterternary\": [{\"marker\": {\"colorbar\": {\"outlinewidth\": 0, \"ticks\": \"\"}}, \"type\": \"scatterternary\"}], \"surface\": [{\"colorbar\": {\"outlinewidth\": 0, \"ticks\": \"\"}, \"colorscale\": [[0.0, \"#0d0887\"], [0.1111111111111111, \"#46039f\"], [0.2222222222222222, \"#7201a8\"], [0.3333333333333333, \"#9c179e\"], [0.4444444444444444, \"#bd3786\"], [0.5555555555555556, \"#d8576b\"], [0.6666666666666666, \"#ed7953\"], [0.7777777777777778, \"#fb9f3a\"], [0.8888888888888888, \"#fdca26\"], [1.0, \"#f0f921\"]], \"type\": \"surface\"}], \"table\": [{\"cells\": {\"fill\": {\"color\": \"#EBF0F8\"}, \"line\": {\"color\": \"white\"}}, \"header\": {\"fill\": {\"color\": \"#C8D4E3\"}, \"line\": {\"color\": \"white\"}}, \"type\": \"table\"}]}, \"layout\": {\"annotationdefaults\": {\"arrowcolor\": \"#2a3f5f\", \"arrowhead\": 0, \"arrowwidth\": 1}, \"coloraxis\": {\"colorbar\": {\"outlinewidth\": 0, \"ticks\": \"\"}}, \"colorscale\": {\"diverging\": [[0, \"#8e0152\"], [0.1, \"#c51b7d\"], [0.2, \"#de77ae\"], [0.3, \"#f1b6da\"], [0.4, \"#fde0ef\"], [0.5, \"#f7f7f7\"], [0.6, \"#e6f5d0\"], [0.7, \"#b8e186\"], [0.8, \"#7fbc41\"], [0.9, \"#4d9221\"], [1, \"#276419\"]], \"sequential\": [[0.0, \"#0d0887\"], [0.1111111111111111, \"#46039f\"], [0.2222222222222222, \"#7201a8\"], [0.3333333333333333, \"#9c179e\"], [0.4444444444444444, \"#bd3786\"], [0.5555555555555556, \"#d8576b\"], [0.6666666666666666, \"#ed7953\"], [0.7777777777777778, \"#fb9f3a\"], [0.8888888888888888, \"#fdca26\"], [1.0, \"#f0f921\"]], \"sequentialminus\": [[0.0, \"#0d0887\"], [0.1111111111111111, \"#46039f\"], [0.2222222222222222, \"#7201a8\"], [0.3333333333333333, \"#9c179e\"], [0.4444444444444444, \"#bd3786\"], [0.5555555555555556, \"#d8576b\"], [0.6666666666666666, \"#ed7953\"], [0.7777777777777778, \"#fb9f3a\"], [0.8888888888888888, \"#fdca26\"], [1.0, \"#f0f921\"]]}, \"colorway\": [\"#636efa\", \"#EF553B\", \"#00cc96\", \"#ab63fa\", \"#FFA15A\", \"#19d3f3\", \"#FF6692\", \"#B6E880\", \"#FF97FF\", \"#FECB52\"], \"font\": {\"color\": \"#2a3f5f\"}, \"geo\": {\"bgcolor\": \"white\", \"lakecolor\": \"white\", \"landcolor\": \"#E5ECF6\", \"showlakes\": true, \"showland\": true, \"subunitcolor\": \"white\"}, \"hoverlabel\": {\"align\": \"left\"}, \"hovermode\": \"closest\", \"mapbox\": {\"style\": \"light\"}, \"paper_bgcolor\": \"white\", \"plot_bgcolor\": \"#E5ECF6\", \"polar\": {\"angularaxis\": {\"gridcolor\": \"white\", \"linecolor\": \"white\", \"ticks\": \"\"}, \"bgcolor\": \"#E5ECF6\", \"radialaxis\": {\"gridcolor\": \"white\", \"linecolor\": \"white\", \"ticks\": \"\"}}, \"scene\": {\"xaxis\": {\"backgroundcolor\": \"#E5ECF6\", \"gridcolor\": \"white\", \"gridwidth\": 2, \"linecolor\": \"white\", \"showbackground\": true, \"ticks\": \"\", \"zerolinecolor\": \"white\"}, \"yaxis\": {\"backgroundcolor\": \"#E5ECF6\", \"gridcolor\": \"white\", \"gridwidth\": 2, \"linecolor\": \"white\", \"showbackground\": true, \"ticks\": \"\", \"zerolinecolor\": \"white\"}, \"zaxis\": {\"backgroundcolor\": \"#E5ECF6\", \"gridcolor\": \"white\", \"gridwidth\": 2, \"linecolor\": \"white\", \"showbackground\": true, \"ticks\": \"\", \"zerolinecolor\": \"white\"}}, \"shapedefaults\": {\"line\": {\"color\": \"#2a3f5f\"}}, \"ternary\": {\"aaxis\": {\"gridcolor\": \"white\", \"linecolor\": \"white\", \"ticks\": \"\"}, \"baxis\": {\"gridcolor\": \"white\", \"linecolor\": \"white\", \"ticks\": \"\"}, \"bgcolor\": \"#E5ECF6\", \"caxis\": {\"gridcolor\": \"white\", \"linecolor\": \"white\", \"ticks\": \"\"}}, \"title\": {\"x\": 0.05}, \"xaxis\": {\"automargin\": true, \"gridcolor\": \"white\", \"linecolor\": \"white\", \"ticks\": \"\", \"title\": {\"standoff\": 15}, \"zerolinecolor\": \"white\", \"zerolinewidth\": 2}, \"yaxis\": {\"automargin\": true, \"gridcolor\": \"white\", \"linecolor\": \"white\", \"ticks\": \"\", \"title\": {\"standoff\": 15}, \"zerolinecolor\": \"white\", \"zerolinewidth\": 2}}}, \"title\": {\"text\": \"doc2vec sections\"}, \"xaxis\": {\"anchor\": \"y\", \"domain\": [0.0, 1.0], \"title\": {\"text\": \"score\"}}, \"yaxis\": {\"anchor\": \"x\", \"domain\": [0.0, 1.0], \"title\": {\"text\": \"count\"}}},\n",
              "                        {\"responsive\": true}\n",
              "                    ).then(function(){\n",
              "                            \n",
              "var gd = document.getElementById('35864156-b7f6-4ceb-bd7d-7f00051b6670');\n",
              "var x = new MutationObserver(function (mutations, observer) {{\n",
              "        var display = window.getComputedStyle(gd).display;\n",
              "        if (!display || display === 'none') {{\n",
              "            console.log([gd, 'removed!']);\n",
              "            Plotly.purge(gd);\n",
              "            observer.disconnect();\n",
              "        }}\n",
              "}});\n",
              "\n",
              "// Listen for the removal of the full notebook cells\n",
              "var notebookContainer = gd.closest('#notebook-container');\n",
              "if (notebookContainer) {{\n",
              "    x.observe(notebookContainer, {childList: true});\n",
              "}}\n",
              "\n",
              "// Listen for the clearing of the current output cell\n",
              "var outputEl = gd.closest('.output');\n",
              "if (outputEl) {{\n",
              "    x.observe(outputEl, {childList: true});\n",
              "}}\n",
              "\n",
              "                        })\n",
              "                };\n",
              "                \n",
              "            </script>\n",
              "        </div>\n",
              "</body>\n",
              "</html>"
            ]
          },
          "metadata": {}
        }
      ]
    },
    {
      "cell_type": "code",
      "metadata": {
        "id": "OKeaqYxGPMZj"
      },
      "source": [
        "wandb.log({\"scores_hist\": fig})"
      ],
      "execution_count": 80,
      "outputs": []
    },
    {
      "cell_type": "code",
      "metadata": {
        "colab": {
          "base_uri": "https://localhost:8080/",
          "height": 1000
        },
        "id": "DgV3ccDr5Ux4",
        "outputId": "87bd8a67-2c44-41ec-fdc8-d60cd27ed6c4"
      },
      "source": [
        "result, details = recommend_tune(df_section_sim, 'Perdido')\n",
        "result.head(50)"
      ],
      "execution_count": 81,
      "outputs": [
        {
          "output_type": "execute_result",
          "data": {
            "text/html": [
              "<div>\n",
              "<style scoped>\n",
              "    .dataframe tbody tr th:only-of-type {\n",
              "        vertical-align: middle;\n",
              "    }\n",
              "\n",
              "    .dataframe tbody tr th {\n",
              "        vertical-align: top;\n",
              "    }\n",
              "\n",
              "    .dataframe thead th {\n",
              "        text-align: right;\n",
              "    }\n",
              "</style>\n",
              "<table border=\"1\" class=\"dataframe\">\n",
              "  <thead>\n",
              "    <tr style=\"text-align: right;\">\n",
              "      <th></th>\n",
              "      <th>index</th>\n",
              "      <th>reference</th>\n",
              "      <th>similar_title</th>\n",
              "      <th>score</th>\n",
              "      <th>max</th>\n",
              "      <th>score_div_max</th>\n",
              "    </tr>\n",
              "  </thead>\n",
              "  <tbody>\n",
              "    <tr>\n",
              "      <th>0</th>\n",
              "      <td>0</td>\n",
              "      <td>Perdido</td>\n",
              "      <td>Two Not One</td>\n",
              "      <td>0.955505</td>\n",
              "      <td>0.955505</td>\n",
              "      <td>1.000000</td>\n",
              "    </tr>\n",
              "    <tr>\n",
              "      <th>1</th>\n",
              "      <td>1</td>\n",
              "      <td>Perdido</td>\n",
              "      <td>I Wish I Knew</td>\n",
              "      <td>0.898789</td>\n",
              "      <td>0.904984</td>\n",
              "      <td>1.000000</td>\n",
              "    </tr>\n",
              "    <tr>\n",
              "      <th>2</th>\n",
              "      <td>2</td>\n",
              "      <td>Perdido</td>\n",
              "      <td>Thou Swell</td>\n",
              "      <td>0.862024</td>\n",
              "      <td>0.862024</td>\n",
              "      <td>1.000000</td>\n",
              "    </tr>\n",
              "    <tr>\n",
              "      <th>3</th>\n",
              "      <td>3</td>\n",
              "      <td>Perdido</td>\n",
              "      <td>Tour De Force</td>\n",
              "      <td>0.904984</td>\n",
              "      <td>0.904984</td>\n",
              "      <td>1.000000</td>\n",
              "    </tr>\n",
              "    <tr>\n",
              "      <th>4</th>\n",
              "      <td>4</td>\n",
              "      <td>Perdido</td>\n",
              "      <td>I Mean You</td>\n",
              "      <td>0.860998</td>\n",
              "      <td>0.862024</td>\n",
              "      <td>0.998810</td>\n",
              "    </tr>\n",
              "    <tr>\n",
              "      <th>5</th>\n",
              "      <td>5</td>\n",
              "      <td>Perdido</td>\n",
              "      <td>Thriving From A Riff</td>\n",
              "      <td>0.953198</td>\n",
              "      <td>0.955505</td>\n",
              "      <td>0.997586</td>\n",
              "    </tr>\n",
              "    <tr>\n",
              "      <th>6</th>\n",
              "      <td>6</td>\n",
              "      <td>Perdido</td>\n",
              "      <td>Little Peace In C For You</td>\n",
              "      <td>0.948556</td>\n",
              "      <td>0.955505</td>\n",
              "      <td>0.992728</td>\n",
              "    </tr>\n",
              "    <tr>\n",
              "      <th>7</th>\n",
              "      <td>7</td>\n",
              "      <td>Perdido</td>\n",
              "      <td>When I'm Cleaning Windows</td>\n",
              "      <td>0.945317</td>\n",
              "      <td>0.955505</td>\n",
              "      <td>0.989338</td>\n",
              "    </tr>\n",
              "    <tr>\n",
              "      <th>8</th>\n",
              "      <td>8</td>\n",
              "      <td>Perdido</td>\n",
              "      <td>So Many Stars</td>\n",
              "      <td>0.852474</td>\n",
              "      <td>0.862024</td>\n",
              "      <td>0.988922</td>\n",
              "    </tr>\n",
              "    <tr>\n",
              "      <th>9</th>\n",
              "      <td>9</td>\n",
              "      <td>Perdido</td>\n",
              "      <td>No Moe</td>\n",
              "      <td>0.941950</td>\n",
              "      <td>0.955505</td>\n",
              "      <td>0.985814</td>\n",
              "    </tr>\n",
              "    <tr>\n",
              "      <th>10</th>\n",
              "      <td>10</td>\n",
              "      <td>Perdido</td>\n",
              "      <td>Shaw 'Nuff</td>\n",
              "      <td>0.937322</td>\n",
              "      <td>0.955505</td>\n",
              "      <td>0.980971</td>\n",
              "    </tr>\n",
              "    <tr>\n",
              "      <th>11</th>\n",
              "      <td>11</td>\n",
              "      <td>Perdido</td>\n",
              "      <td>Rhythm-a-ning</td>\n",
              "      <td>0.935130</td>\n",
              "      <td>0.955505</td>\n",
              "      <td>0.978677</td>\n",
              "    </tr>\n",
              "    <tr>\n",
              "      <th>12</th>\n",
              "      <td>12</td>\n",
              "      <td>Perdido</td>\n",
              "      <td>I Get A Kick Out Of You</td>\n",
              "      <td>0.885066</td>\n",
              "      <td>0.904984</td>\n",
              "      <td>0.977990</td>\n",
              "    </tr>\n",
              "    <tr>\n",
              "      <th>13</th>\n",
              "      <td>13</td>\n",
              "      <td>Perdido</td>\n",
              "      <td>But Not For Me</td>\n",
              "      <td>0.842851</td>\n",
              "      <td>0.862024</td>\n",
              "      <td>0.977758</td>\n",
              "    </tr>\n",
              "    <tr>\n",
              "      <th>14</th>\n",
              "      <td>14</td>\n",
              "      <td>Perdido</td>\n",
              "      <td>You Can Depend On Me</td>\n",
              "      <td>0.884722</td>\n",
              "      <td>0.904984</td>\n",
              "      <td>0.977610</td>\n",
              "    </tr>\n",
              "    <tr>\n",
              "      <th>15</th>\n",
              "      <td>15</td>\n",
              "      <td>Perdido</td>\n",
              "      <td>Moose The Mooche</td>\n",
              "      <td>0.933562</td>\n",
              "      <td>0.955505</td>\n",
              "      <td>0.977035</td>\n",
              "    </tr>\n",
              "    <tr>\n",
              "      <th>16</th>\n",
              "      <td>16</td>\n",
              "      <td>Perdido</td>\n",
              "      <td>Easy To Love</td>\n",
              "      <td>0.883351</td>\n",
              "      <td>0.904984</td>\n",
              "      <td>0.976095</td>\n",
              "    </tr>\n",
              "    <tr>\n",
              "      <th>17</th>\n",
              "      <td>17</td>\n",
              "      <td>Perdido</td>\n",
              "      <td>I Got Rhythm</td>\n",
              "      <td>0.927357</td>\n",
              "      <td>0.955505</td>\n",
              "      <td>0.970542</td>\n",
              "    </tr>\n",
              "    <tr>\n",
              "      <th>18</th>\n",
              "      <td>18</td>\n",
              "      <td>Perdido</td>\n",
              "      <td>Anthropology</td>\n",
              "      <td>0.926518</td>\n",
              "      <td>0.955505</td>\n",
              "      <td>0.969664</td>\n",
              "    </tr>\n",
              "    <tr>\n",
              "      <th>19</th>\n",
              "      <td>19</td>\n",
              "      <td>Perdido</td>\n",
              "      <td>Cynthia's In Love</td>\n",
              "      <td>0.877490</td>\n",
              "      <td>0.904984</td>\n",
              "      <td>0.969619</td>\n",
              "    </tr>\n",
              "    <tr>\n",
              "      <th>20</th>\n",
              "      <td>20</td>\n",
              "      <td>Perdido</td>\n",
              "      <td>I Love Being Here With You</td>\n",
              "      <td>0.925378</td>\n",
              "      <td>0.955505</td>\n",
              "      <td>0.968471</td>\n",
              "    </tr>\n",
              "    <tr>\n",
              "      <th>21</th>\n",
              "      <td>21</td>\n",
              "      <td>Perdido</td>\n",
              "      <td>Hackensack</td>\n",
              "      <td>0.873091</td>\n",
              "      <td>0.904984</td>\n",
              "      <td>0.964759</td>\n",
              "    </tr>\n",
              "    <tr>\n",
              "      <th>22</th>\n",
              "      <td>22</td>\n",
              "      <td>Perdido</td>\n",
              "      <td>Oleo</td>\n",
              "      <td>0.919958</td>\n",
              "      <td>0.955505</td>\n",
              "      <td>0.962798</td>\n",
              "    </tr>\n",
              "    <tr>\n",
              "      <th>23</th>\n",
              "      <td>23</td>\n",
              "      <td>Perdido</td>\n",
              "      <td>Well You Needn't</td>\n",
              "      <td>0.868565</td>\n",
              "      <td>0.904984</td>\n",
              "      <td>0.959757</td>\n",
              "    </tr>\n",
              "    <tr>\n",
              "      <th>24</th>\n",
              "      <td>24</td>\n",
              "      <td>Perdido</td>\n",
              "      <td>Sunday</td>\n",
              "      <td>0.916153</td>\n",
              "      <td>0.955505</td>\n",
              "      <td>0.958815</td>\n",
              "    </tr>\n",
              "    <tr>\n",
              "      <th>25</th>\n",
              "      <td>25</td>\n",
              "      <td>Perdido</td>\n",
              "      <td>Celia</td>\n",
              "      <td>0.866143</td>\n",
              "      <td>0.904984</td>\n",
              "      <td>0.957081</td>\n",
              "    </tr>\n",
              "    <tr>\n",
              "      <th>26</th>\n",
              "      <td>26</td>\n",
              "      <td>Perdido</td>\n",
              "      <td>It's You Or No One</td>\n",
              "      <td>0.864882</td>\n",
              "      <td>0.904984</td>\n",
              "      <td>0.955688</td>\n",
              "    </tr>\n",
              "    <tr>\n",
              "      <th>27</th>\n",
              "      <td>27</td>\n",
              "      <td>Perdido</td>\n",
              "      <td>C'est Si Bon</td>\n",
              "      <td>0.863659</td>\n",
              "      <td>0.904984</td>\n",
              "      <td>0.954336</td>\n",
              "    </tr>\n",
              "    <tr>\n",
              "      <th>28</th>\n",
              "      <td>28</td>\n",
              "      <td>Perdido</td>\n",
              "      <td>So What</td>\n",
              "      <td>0.862460</td>\n",
              "      <td>0.904984</td>\n",
              "      <td>0.953011</td>\n",
              "    </tr>\n",
              "    <tr>\n",
              "      <th>29</th>\n",
              "      <td>29</td>\n",
              "      <td>Perdido</td>\n",
              "      <td>Dexterity</td>\n",
              "      <td>0.909836</td>\n",
              "      <td>0.955505</td>\n",
              "      <td>0.952205</td>\n",
              "    </tr>\n",
              "    <tr>\n",
              "      <th>30</th>\n",
              "      <td>30</td>\n",
              "      <td>Perdido</td>\n",
              "      <td>Scrapple From The Apple</td>\n",
              "      <td>0.909574</td>\n",
              "      <td>0.955505</td>\n",
              "      <td>0.951931</td>\n",
              "    </tr>\n",
              "    <tr>\n",
              "      <th>31</th>\n",
              "      <td>31</td>\n",
              "      <td>Perdido</td>\n",
              "      <td>You're Nobody Till Somebody Loves You</td>\n",
              "      <td>0.817716</td>\n",
              "      <td>0.862024</td>\n",
              "      <td>0.948600</td>\n",
              "    </tr>\n",
              "    <tr>\n",
              "      <th>32</th>\n",
              "      <td>32</td>\n",
              "      <td>Perdido</td>\n",
              "      <td>Minor Strain</td>\n",
              "      <td>0.858225</td>\n",
              "      <td>0.904984</td>\n",
              "      <td>0.948332</td>\n",
              "    </tr>\n",
              "    <tr>\n",
              "      <th>33</th>\n",
              "      <td>33</td>\n",
              "      <td>Perdido</td>\n",
              "      <td>I Go Out Walking After Midnight</td>\n",
              "      <td>0.857416</td>\n",
              "      <td>0.904984</td>\n",
              "      <td>0.947437</td>\n",
              "    </tr>\n",
              "    <tr>\n",
              "      <th>34</th>\n",
              "      <td>34</td>\n",
              "      <td>Perdido</td>\n",
              "      <td>Saga Of Harrison Crabfeathers, The</td>\n",
              "      <td>0.857386</td>\n",
              "      <td>0.904984</td>\n",
              "      <td>0.947404</td>\n",
              "    </tr>\n",
              "    <tr>\n",
              "      <th>35</th>\n",
              "      <td>35</td>\n",
              "      <td>Perdido</td>\n",
              "      <td>Suddenly It's Spring</td>\n",
              "      <td>0.856706</td>\n",
              "      <td>0.904984</td>\n",
              "      <td>0.946653</td>\n",
              "    </tr>\n",
              "    <tr>\n",
              "      <th>36</th>\n",
              "      <td>36</td>\n",
              "      <td>Perdido</td>\n",
              "      <td>Happy Little Sunbeam</td>\n",
              "      <td>0.814804</td>\n",
              "      <td>0.862024</td>\n",
              "      <td>0.945223</td>\n",
              "    </tr>\n",
              "    <tr>\n",
              "      <th>37</th>\n",
              "      <td>37</td>\n",
              "      <td>Perdido</td>\n",
              "      <td>Phase Dance</td>\n",
              "      <td>0.850973</td>\n",
              "      <td>0.904984</td>\n",
              "      <td>0.940318</td>\n",
              "    </tr>\n",
              "    <tr>\n",
              "      <th>38</th>\n",
              "      <td>38</td>\n",
              "      <td>Perdido</td>\n",
              "      <td>End Of A Love Affair, The</td>\n",
              "      <td>0.850963</td>\n",
              "      <td>0.904984</td>\n",
              "      <td>0.940307</td>\n",
              "    </tr>\n",
              "    <tr>\n",
              "      <th>39</th>\n",
              "      <td>39</td>\n",
              "      <td>Perdido</td>\n",
              "      <td>Why Don't You Do Right</td>\n",
              "      <td>0.850056</td>\n",
              "      <td>0.904984</td>\n",
              "      <td>0.939305</td>\n",
              "    </tr>\n",
              "    <tr>\n",
              "      <th>40</th>\n",
              "      <td>40</td>\n",
              "      <td>Perdido</td>\n",
              "      <td>Benny's Tune</td>\n",
              "      <td>0.849349</td>\n",
              "      <td>0.904984</td>\n",
              "      <td>0.938524</td>\n",
              "    </tr>\n",
              "    <tr>\n",
              "      <th>41</th>\n",
              "      <td>41</td>\n",
              "      <td>Perdido</td>\n",
              "      <td>Midnight Blue</td>\n",
              "      <td>0.849263</td>\n",
              "      <td>0.904984</td>\n",
              "      <td>0.938429</td>\n",
              "    </tr>\n",
              "    <tr>\n",
              "      <th>42</th>\n",
              "      <td>42</td>\n",
              "      <td>Perdido</td>\n",
              "      <td>Cheers</td>\n",
              "      <td>0.842720</td>\n",
              "      <td>0.898789</td>\n",
              "      <td>0.937617</td>\n",
              "    </tr>\n",
              "    <tr>\n",
              "      <th>43</th>\n",
              "      <td>43</td>\n",
              "      <td>Perdido</td>\n",
              "      <td>Blue Skies</td>\n",
              "      <td>0.807706</td>\n",
              "      <td>0.862024</td>\n",
              "      <td>0.936988</td>\n",
              "    </tr>\n",
              "    <tr>\n",
              "      <th>44</th>\n",
              "      <td>44</td>\n",
              "      <td>Perdido</td>\n",
              "      <td>Four In One</td>\n",
              "      <td>0.807567</td>\n",
              "      <td>0.862024</td>\n",
              "      <td>0.936827</td>\n",
              "    </tr>\n",
              "    <tr>\n",
              "      <th>45</th>\n",
              "      <td>45</td>\n",
              "      <td>Perdido</td>\n",
              "      <td>Salt Peanuts</td>\n",
              "      <td>0.894922</td>\n",
              "      <td>0.955505</td>\n",
              "      <td>0.936596</td>\n",
              "    </tr>\n",
              "    <tr>\n",
              "      <th>46</th>\n",
              "      <td>46</td>\n",
              "      <td>Perdido</td>\n",
              "      <td>Spain</td>\n",
              "      <td>0.847432</td>\n",
              "      <td>0.904984</td>\n",
              "      <td>0.936406</td>\n",
              "    </tr>\n",
              "    <tr>\n",
              "      <th>47</th>\n",
              "      <td>47</td>\n",
              "      <td>Perdido</td>\n",
              "      <td>All Of You</td>\n",
              "      <td>0.806328</td>\n",
              "      <td>0.862024</td>\n",
              "      <td>0.935389</td>\n",
              "    </tr>\n",
              "    <tr>\n",
              "      <th>48</th>\n",
              "      <td>48</td>\n",
              "      <td>Perdido</td>\n",
              "      <td>Flintstones</td>\n",
              "      <td>0.892382</td>\n",
              "      <td>0.955505</td>\n",
              "      <td>0.933938</td>\n",
              "    </tr>\n",
              "    <tr>\n",
              "      <th>49</th>\n",
              "      <td>49</td>\n",
              "      <td>Perdido</td>\n",
              "      <td>Deed I Do</td>\n",
              "      <td>0.845191</td>\n",
              "      <td>0.955505</td>\n",
              "      <td>0.933930</td>\n",
              "    </tr>\n",
              "  </tbody>\n",
              "</table>\n",
              "</div>"
            ],
            "text/plain": [
              "    index reference  ...       max  score_div_max\n",
              "0       0   Perdido  ...  0.955505       1.000000\n",
              "1       1   Perdido  ...  0.904984       1.000000\n",
              "2       2   Perdido  ...  0.862024       1.000000\n",
              "3       3   Perdido  ...  0.904984       1.000000\n",
              "4       4   Perdido  ...  0.862024       0.998810\n",
              "5       5   Perdido  ...  0.955505       0.997586\n",
              "6       6   Perdido  ...  0.955505       0.992728\n",
              "7       7   Perdido  ...  0.955505       0.989338\n",
              "8       8   Perdido  ...  0.862024       0.988922\n",
              "9       9   Perdido  ...  0.955505       0.985814\n",
              "10     10   Perdido  ...  0.955505       0.980971\n",
              "11     11   Perdido  ...  0.955505       0.978677\n",
              "12     12   Perdido  ...  0.904984       0.977990\n",
              "13     13   Perdido  ...  0.862024       0.977758\n",
              "14     14   Perdido  ...  0.904984       0.977610\n",
              "15     15   Perdido  ...  0.955505       0.977035\n",
              "16     16   Perdido  ...  0.904984       0.976095\n",
              "17     17   Perdido  ...  0.955505       0.970542\n",
              "18     18   Perdido  ...  0.955505       0.969664\n",
              "19     19   Perdido  ...  0.904984       0.969619\n",
              "20     20   Perdido  ...  0.955505       0.968471\n",
              "21     21   Perdido  ...  0.904984       0.964759\n",
              "22     22   Perdido  ...  0.955505       0.962798\n",
              "23     23   Perdido  ...  0.904984       0.959757\n",
              "24     24   Perdido  ...  0.955505       0.958815\n",
              "25     25   Perdido  ...  0.904984       0.957081\n",
              "26     26   Perdido  ...  0.904984       0.955688\n",
              "27     27   Perdido  ...  0.904984       0.954336\n",
              "28     28   Perdido  ...  0.904984       0.953011\n",
              "29     29   Perdido  ...  0.955505       0.952205\n",
              "30     30   Perdido  ...  0.955505       0.951931\n",
              "31     31   Perdido  ...  0.862024       0.948600\n",
              "32     32   Perdido  ...  0.904984       0.948332\n",
              "33     33   Perdido  ...  0.904984       0.947437\n",
              "34     34   Perdido  ...  0.904984       0.947404\n",
              "35     35   Perdido  ...  0.904984       0.946653\n",
              "36     36   Perdido  ...  0.862024       0.945223\n",
              "37     37   Perdido  ...  0.904984       0.940318\n",
              "38     38   Perdido  ...  0.904984       0.940307\n",
              "39     39   Perdido  ...  0.904984       0.939305\n",
              "40     40   Perdido  ...  0.904984       0.938524\n",
              "41     41   Perdido  ...  0.904984       0.938429\n",
              "42     42   Perdido  ...  0.898789       0.937617\n",
              "43     43   Perdido  ...  0.862024       0.936988\n",
              "44     44   Perdido  ...  0.862024       0.936827\n",
              "45     45   Perdido  ...  0.955505       0.936596\n",
              "46     46   Perdido  ...  0.904984       0.936406\n",
              "47     47   Perdido  ...  0.862024       0.935389\n",
              "48     48   Perdido  ...  0.955505       0.933938\n",
              "49     49   Perdido  ...  0.955505       0.933930\n",
              "\n",
              "[50 rows x 6 columns]"
            ]
          },
          "metadata": {},
          "execution_count": 81
        }
      ]
    },
    {
      "cell_type": "code",
      "metadata": {
        "id": "hLFaFo62XlMS",
        "colab": {
          "base_uri": "https://localhost:8080/"
        },
        "outputId": "f1b3159e-4702-4e73-9679-b2849bac8e3a"
      },
      "source": [
        "dd = pd.DataFrame(columns = recommender_results_cols)\n",
        "\n",
        "for tune in tunes_eval_list:\n",
        "  result, details = recommend_tune(df_sim, tune)\n",
        "  dd['id'] = result['index']\n",
        "  dd['reference'] = tune\n",
        "  dd['method'] = 'doc2vec'\n",
        "  dd['similar'] = result['similar_title']\n",
        "  dd['score_div_max'] = result['score_div_max']\n",
        "  dd['score'] = result['score']\n",
        "\n",
        "recommender_results = recommender_results.append(dd)\n",
        "len(recommender_results)"
      ],
      "execution_count": 82,
      "outputs": [
        {
          "output_type": "execute_result",
          "data": {
            "text/plain": [
              "176"
            ]
          },
          "metadata": {},
          "execution_count": 82
        }
      ]
    },
    {
      "cell_type": "markdown",
      "metadata": {
        "id": "ryEvGZqYDsMb"
      },
      "source": [
        "#### Document Similarity\n"
      ]
    },
    {
      "cell_type": "markdown",
      "metadata": {
        "id": "o-eOM9DiFdAt"
      },
      "source": [
        "The TitleId is tagged with the prefix `title_id`, so that it can be distinguished from the sectionid tags, which are numeric."
      ]
    },
    {
      "cell_type": "code",
      "metadata": {
        "colab": {
          "base_uri": "https://localhost:8080/"
        },
        "id": "KRd6qAdY5Z4g",
        "outputId": "5bc578e7-900d-4497-af13-13841a043a9e"
      },
      "source": [
        "tunes_eval_list"
      ],
      "execution_count": 83,
      "outputs": [
        {
          "output_type": "execute_result",
          "data": {
            "text/plain": [
              "[\"After You've Gone\",\n",
              " \"All God's Chillun Got Rhythm\",\n",
              " 'All Of Me',\n",
              " 'Blood Count',\n",
              " 'Blue Moon',\n",
              " 'But Beautiful',\n",
              " 'Bye Bye Blackbird',\n",
              " 'Call Me Irresponsible',\n",
              " 'Corcovado',\n",
              " 'Dinah',\n",
              " 'East Of The Sun',\n",
              " 'Footprints',\n",
              " 'Giant Steps',\n",
              " 'Honeysuckle Rose',\n",
              " 'I Got Rhythm',\n",
              " 'Misty',\n",
              " 'Naima',\n",
              " 'Old Fashioned Love',\n",
              " 'Perdido',\n",
              " \"Rockin' Chair\",\n",
              " 'Sophisticated Lady',\n",
              " 'Sweet Sue, Just You',\n",
              " 'These Foolish Things',\n",
              " \"We'll Be Together Again\"]"
            ]
          },
          "metadata": {},
          "execution_count": 83
        }
      ]
    },
    {
      "cell_type": "code",
      "metadata": {
        "colab": {
          "base_uri": "https://localhost:8080/"
        },
        "id": "sHWTJtJ_HyoJ",
        "outputId": "0dc9d423-8bbd-484f-8e50-6d79c654d10d"
      },
      "source": [
        "# convert titles to titleid; if multiple tunes with same title, takes the first one. \n",
        "titleid_eval = []\n",
        "for title in tunes_eval_list:\n",
        "  titleid_eval.append(titles.query(f'title == \"{title}\"').reset_index().loc[0,'tune_id'])\n",
        "titleid_eval"
      ],
      "execution_count": 84,
      "outputs": [
        {
          "output_type": "execute_result",
          "data": {
            "text/plain": [
              "[38,\n",
              " 57,\n",
              " 60,\n",
              " 149,\n",
              " 159,\n",
              " 199,\n",
              " 206,\n",
              " 213,\n",
              " 257,\n",
              " 308,\n",
              " 341,\n",
              " 392,\n",
              " 425,\n",
              " 472,\n",
              " 505,\n",
              " 807,\n",
              " 861,\n",
              " 1642,\n",
              " 951,\n",
              " 995,\n",
              " 1082,\n",
              " 1138,\n",
              " 1170,\n",
              " 1259]"
            ]
          },
          "metadata": {},
          "execution_count": 84
        }
      ]
    },
    {
      "cell_type": "code",
      "metadata": {
        "colab": {
          "base_uri": "https://localhost:8080/"
        },
        "id": "XKO9wonAHsch",
        "outputId": "e0d65730-a522-4320-f42b-05006e7e2740"
      },
      "source": [
        "for titleid in titleid_eval:\n",
        "  print()\n",
        "  print(titleid_to_title[titleid])\n",
        "  sims = model.dv.similar_by_key(f'titleid_{titleid}', topn=30)\n",
        "  for key, value in sims:\n",
        "    if type(key) == str:  # only display document similarities, skip all section similarities\n",
        "      print(f\"{value:.3f} {titleid_to_title[int(key.replace('titleid_', ''))]}\")\n"
      ],
      "execution_count": 85,
      "outputs": [
        {
          "output_type": "stream",
          "name": "stdout",
          "text": [
            "\n",
            "After You've Gone\n",
            "0.779 There'll Be Some Changes Made\n",
            "0.771 There Will Never Be Another You\n",
            "0.759 In A Mellow Tone (In A Mellotone)\n",
            "0.757 Sway\n",
            "0.750 Deed I Do\n",
            "0.748 September In The Rain\n",
            "0.744 Don't Worry 'Bout Me\n",
            "0.742 So What\n",
            "0.739 I'll Get By (As Long As I Have You)\n",
            "0.731 Cherokee\n",
            "\n",
            "All God's Chillun Got Rhythm\n",
            "0.812 Emily\n",
            "0.807 Time After Time\n",
            "0.799 Too Young To Go Steady\n",
            "0.789 Again\n",
            "0.787 This Is All I Ask\n",
            "0.781 They Didn't Believe Me\n",
            "0.781 Teach Me Tonight\n",
            "0.779 I'm In The Mood For Love\n",
            "0.775 All Too Soon\n",
            "0.770 Misty\n",
            "0.766 Diane\n",
            "0.763 Things We Did Last Summer, The\n",
            "0.761 Why Do I Love You\n",
            "\n",
            "All Of Me\n",
            "0.843 Four\n",
            "0.837 You're Nobody Till Somebody Loves You\n",
            "0.799 Equinox\n",
            "0.795 Litha\n",
            "0.789 Best Things In Life Are Free, The\n",
            "0.788 Dear Lord\n",
            "0.787 Phase Dance\n",
            "0.783 Look To The Sky\n",
            "0.780 Smile\n",
            "0.780 Shine\n",
            "0.778 Nutville\n",
            "0.775 Blue (And Broken Hearted)\n",
            "0.773 Fascination\n",
            "0.771 Mr. P.C.\n",
            "\n",
            "Blood Count\n",
            "0.876 Played Twice\n",
            "0.804 Naima\n",
            "0.777 Midnight Sun\n",
            "0.774 Sorcerer, The\n",
            "0.753 Pensativa\n",
            "0.750 A Sound For Sore Ears\n",
            "0.741 Sippin' At Bells\n",
            "0.732 Oliloqui Valley\n",
            "\n",
            "Blue Moon\n",
            "0.824 Time After Time\n",
            "0.815 Don't Be That Way\n",
            "0.811 Touch Of Your Lips, The\n",
            "0.807 Fools Rush In\n",
            "0.804 Why Do I Love You\n",
            "0.804 I'm In The Mood For Love\n",
            "\n",
            "But Beautiful\n",
            "0.768 Sometime Ago\n",
            "0.756 I've Told Eve'ry Little Star\n",
            "0.755 Rosetta\n",
            "0.753 Teach Me Tonight\n",
            "0.751 P.S. I Love You\n",
            "0.748 A Beautiful Friendship\n",
            "0.740 Rosetta\n",
            "0.734 There Will Never Be Another You\n",
            "0.730 Misty\n",
            "0.727 I'm Getting Sentimental Over You\n",
            "0.724 You Do Something To Me\n",
            "0.723 Twisted\n",
            "0.722 That Old Feeling\n",
            "0.722 All God's Chillun Got Rhythm\n",
            "0.720 Blue Room, The\n",
            "0.718 I May Be Wrong\n",
            "\n",
            "Bye Bye Blackbird\n",
            "0.877 Somebody Loves Me\n",
            "0.856 Afternoon In Paris\n",
            "0.821 Hocus-Pocus\n",
            "0.810 Minor Strain\n",
            "0.803 S'posin'\n",
            "\n",
            "Call Me Irresponsible\n",
            "0.802 Into Each Life Some Rain Must Fall\n",
            "0.796 You Took Advantage Of Me\n",
            "0.792 Young And Foolish\n",
            "0.768 In A Shanty In Old Shanty Town\n",
            "0.766 Straight No Chaser\n",
            "\n",
            "Corcovado\n",
            "0.813 We Will Meet Again\n",
            "0.808 Freight Train\n",
            "0.806 My Heart Belongs To Daddy\n",
            "0.802 What Are You Doing The Rest Of Your Life\n",
            "0.800 Idle Moments\n",
            "0.798 Minoat\n",
            "0.791 Voyage\n",
            "0.776 S.O.S.\n",
            "\n",
            "Dinah\n",
            "0.778 Take Five\n",
            "0.750 Blue Champagne\n",
            "0.745 Where Or When\n",
            "0.737 All The Things You Are\n",
            "0.735 Everything I Have Is Yours\n",
            "0.734 Love Me Or Leave Me\n",
            "0.730 Fools Rush In\n",
            "0.728 Flying Home\n",
            "0.727 Why Do I Love You\n",
            "0.726 Glory Of Love, The\n",
            "0.722 Bewitched\n",
            "\n",
            "East Of The Sun\n",
            "0.836 Four\n",
            "0.835 Out Of Nowhere\n",
            "0.834 Out Of Nowhere\n",
            "0.818 Sweet Sue, Just You\n",
            "0.810 On A Clear Day\n",
            "0.798 You're Nobody Till Somebody Loves You\n",
            "0.794 Best Things In Life Are Free, The\n",
            "0.793 Saga Of Harrison Crabfeathers, The\n",
            "0.790 Bohemia After Dark\n",
            "0.788 Phase Dance\n",
            "0.788 Zoltan\n",
            "0.787 Perdido\n",
            "0.787 So What\n",
            "\n",
            "Footprints\n",
            "0.960 Phase Dance\n",
            "0.950 Equinox\n",
            "0.948 Little Sunflower\n",
            "0.943 Nutville\n",
            "0.942 Cantaloupe Island\n",
            "0.933 Tokyo Blues\n",
            "0.930 Song For My Father\n",
            "0.928 Impressions\n",
            "0.926 Mr. P.C.\n",
            "0.923 So What\n",
            "\n",
            "Giant Steps\n",
            "0.866 Ornithology\n",
            "0.859 Friday The 13th\n",
            "0.858 Satellite\n",
            "0.857 26-2\n",
            "\n",
            "Honeysuckle Rose\n",
            "0.987 Honeysuckle Rose\n",
            "0.870 I Want To Be Happy\n",
            "0.858 Thou Swell\n",
            "0.852 Parker's Mood\n",
            "0.844 Green Chimneys\n",
            "0.843 Tenor Madness\n",
            "0.843 Jumpin With Symphony Sid\n",
            "\n",
            "I Got Rhythm\n",
            "0.962 I Got Rhythm\n",
            "0.887 Cottontail\n",
            "0.826 Get Happy\n",
            "0.820 All Too Soon\n",
            "0.820 Days And Nights Waiting\n",
            "0.818 At Last\n",
            "0.815 Let's Fall In Love\n",
            "0.807 Lennie-Bird\n",
            "0.803 I Wish I Were In Love Again\n",
            "0.803 Forever Sonny\n",
            "0.797 Doxy\n",
            "\n",
            "Misty\n",
            "0.842 Again\n",
            "0.829 You Go To My Head\n",
            "0.816 I Remember You\n",
            "0.815 Too Young To Go Steady\n",
            "0.799 Blue Moon\n",
            "0.797 Touch Of Your Lips, The\n",
            "0.788 What's New\n",
            "0.786 Lover\n",
            "0.781 Five Foot Two\n",
            "0.776 Portrait Of Jennie\n",
            "\n",
            "Naima\n",
            "0.859 Played Twice\n",
            "0.840 Pensativa\n",
            "0.820 Celia\n",
            "0.810 One Note Samba\n",
            "0.804 Blood Count\n",
            "0.790 Gregory Is Here\n",
            "\n",
            "Old Fashioned Love\n",
            "0.796 I Wish I Knew How It Would Feel To Be Free\n",
            "0.791 Black And Blue\n",
            "0.791 Louisiana Fairytale\n",
            "0.780 Aged And Mellow Blues\n",
            "0.773 What A Wonderful World\n",
            "0.773 Second Star To The Right, The\n",
            "0.766 Rent Party Blues\n",
            "0.759 Moondance\n",
            "0.755 Lonesome Road  1, The\n",
            "0.748 Little Waltz\n",
            "0.747 Georgia On My Mind\n",
            "\n",
            "Perdido\n",
            "0.919 You Can Depend On Me\n",
            "0.905 You Can Depend On Me\n",
            "0.887 Easy To Love\n",
            "0.869 Cherokee\n",
            "0.866 Well You Needn't\n",
            "0.858 Shiny Stockings\n",
            "0.856 Caravan\n",
            "0.856 Salt Peanuts\n",
            "0.854 I Get A Kick Out Of You\n",
            "0.854 Ko Ko\n",
            "0.852 What'll I Do\n",
            "\n",
            "Rockin' Chair\n",
            "0.794 You Do Something To Me\n",
            "0.782 A Smooth One\n",
            "0.782 Undecided\n",
            "0.773 Sentimental Journey\n",
            "0.765 Straighten Up And Fly Right\n",
            "0.765 Exactly Like You\n",
            "0.762 I'll See You In My Dreams\n",
            "0.761 Gee Baby, Ain't I Good To You\n",
            "0.751 Down For Double\n",
            "0.751 Hallucinations\n",
            "0.749 I'm Getting Sentimental Over You\n",
            "0.745 Rosetta\n",
            "0.743 Rosetta\n",
            "0.742 All About Ronnie\n",
            "\n",
            "Sophisticated Lady\n",
            "0.795 It Could Happen To You\n",
            "0.775 This Time The Dream's On Me\n",
            "0.775 Rosetta\n",
            "0.769 Killer Joe\n",
            "0.768 Decision\n",
            "0.767 Rosetta\n",
            "0.755 Easy To Love\n",
            "\n",
            "Sweet Sue, Just You\n",
            "0.832 Perdido\n",
            "0.831 Dearly Beloved\n",
            "0.828 Shiny Stockings\n",
            "0.828 Seven Come Eleven\n",
            "0.824 Ko Ko\n",
            "0.818 East Of The Sun\n",
            "0.817 Ladies Of Calcutta, The\n",
            "0.815 My Secret Love\n",
            "0.814 Get Me To The Church On Time\n",
            "0.812 Easy To Love\n",
            "0.811 Idaho\n",
            "0.808 Bye Bye Blackbird\n",
            "\n",
            "These Foolish Things\n",
            "0.736 Put On A Happy Face\n",
            "0.730 Try A Little Tenderness\n",
            "0.721 Emily\n",
            "0.715 Time After Time\n",
            "0.713 Don't Be That Way\n",
            "0.709 Charleston, The\n",
            "0.706 S' Wonderful\n",
            "0.699 All Too Soon\n",
            "0.696 Portrait Of Jennie\n",
            "0.694 Heart And Soul\n",
            "\n",
            "We'll Be Together Again\n",
            "0.784 Goodbye\n",
            "0.779 Street Of Dreams\n",
            "0.753 Dream A Little Dream Of Me\n",
            "0.737 Well You Needn't\n",
            "0.721 C'est Si Bon\n",
            "0.720 Bye-Ya\n",
            "0.718 Fine And Mellow\n",
            "0.710 Come Sunday\n"
          ]
        }
      ]
    },
    {
      "cell_type": "markdown",
      "metadata": {
        "id": "XmDZT5t7gjgV"
      },
      "source": [
        "# Venn diagrams for Results"
      ]
    },
    {
      "cell_type": "code",
      "metadata": {
        "id": "1YJ5FLt-2WS4"
      },
      "source": [
        "import matplotlib.pyplot as plt\n",
        "from matplotlib_venn import venn3"
      ],
      "execution_count": 86,
      "outputs": []
    },
    {
      "cell_type": "code",
      "metadata": {
        "id": "U6WrsBcc00ar",
        "colab": {
          "base_uri": "https://localhost:8080/",
          "height": 1000
        },
        "outputId": "c4fc4ef9-0bf6-4b0a-ddae-a5fff0960063"
      },
      "source": [
        "for tune in tunes_eval_list:\n",
        "  df, details = recommend_tune(df_tfidf, tune)\n",
        "  tfidf_tunes = list(df.head(30).loc[:,'similar_title'])\n",
        "\n",
        "  df, details = recommend_tune(df_lsi, tune)\n",
        "  lsi_tunes = list(df.head(30).loc[:,'similar_title'])\n",
        "\n",
        "  df, details = recommend_tune(df_word2vec, tune)\n",
        "  word2vec_tunes = list(df.head(30).loc[:,'similar_title'])\n",
        "\n",
        "  set_tfidf = set(tfidf_tunes)\n",
        "  set_lsi = set(lsi_tunes)\n",
        "  set_word2vec = set(word2vec_tunes)\n",
        "\n",
        "  venn3([set_tfidf, set_lsi, set_word2vec], \n",
        "        set_labels=('TF-IDF', 'LSI', 'Doc2Vec'),\n",
        "        )\n",
        "  plt.title(f\"{tune}\")\n",
        "  plt.savefig('plot.png')\n",
        "  wandb.log({\"venn_methods\": wandb.Image('plot.png')})\n",
        "  plt.show()"
      ],
      "execution_count": 87,
      "outputs": [
        {
          "output_type": "display_data",
          "data": {
            "image/png": "[encoded data removed]",
            "text/plain": [
              "<Figure size 432x288 with 1 Axes>"
            ]
          },
          "metadata": {}
        },
        {
          "output_type": "display_data",
          "data": {
            "image/png": "[encoded data removed]",
            "text/plain": [
              "<Figure size 432x288 with 1 Axes>"
            ]
          },
          "metadata": {}
        },
        {
          "output_type": "display_data",
          "data": {
            "image/png": "[encoded data removed]",
            "text/plain": [
              "<Figure size 432x288 with 1 Axes>"
            ]
          },
          "metadata": {}
        },
        {
          "output_type": "display_data",
          "data": {
            "image/png": "[encoded data removed]",
            "text/plain": [
              "<Figure size 432x288 with 1 Axes>"
            ]
          },
          "metadata": {}
        },
        {
          "output_type": "display_data",
          "data": {
            "image/png": "[encoded data removed]",
            "text/plain": [
              "<Figure size 432x288 with 1 Axes>"
            ]
          },
          "metadata": {}
        },
        {
          "output_type": "display_data",
          "data": {
            "image/png": "[encoded data removed]",
            "text/plain": [
              "<Figure size 432x288 with 1 Axes>"
            ]
          },
          "metadata": {}
        },
        {
          "output_type": "display_data",
          "data": {
            "image/png": "[encoded data removed]",
            "text/plain": [
              "<Figure size 432x288 with 1 Axes>"
            ]
          },
          "metadata": {}
        },
        {
          "output_type": "display_data",
          "data": {
            "image/png": "[encoded data removed]",
            "text/plain": [
              "<Figure size 432x288 with 1 Axes>"
            ]
          },
          "metadata": {}
        },
        {
          "output_type": "display_data",
          "data": {
            "image/png": "[encoded data removed]",
            "text/plain": [
              "<Figure size 432x288 with 1 Axes>"
            ]
          },
          "metadata": {}
        },
        {
          "output_type": "display_data",
          "data": {
            "image/png": "[encoded data removed]",
            "text/plain": [
              "<Figure size 432x288 with 1 Axes>"
            ]
          },
          "metadata": {}
        },
        {
          "output_type": "display_data",
          "data": {
            "image/png": "[encoded data removed]",
            "text/plain": [
              "<Figure size 432x288 with 1 Axes>"
            ]
          },
          "metadata": {}
        },
        {
          "output_type": "display_data",
          "data": {
            "image/png": "[encoded data removed]",
            "text/plain": [
              "<Figure size 432x288 with 1 Axes>"
            ]
          },
          "metadata": {}
        },
        {
          "output_type": "display_data",
          "data": {
            "image/png": "[encoded data removed]",
            "text/plain": [
              "<Figure size 432x288 with 1 Axes>"
            ]
          },
          "metadata": {}
        },
        {
          "output_type": "display_data",
          "data": {
            "image/png": "[encoded data removed]",
            "text/plain": [
              "<Figure size 432x288 with 1 Axes>"
            ]
          },
          "metadata": {}
        },
        {
          "output_type": "display_data",
          "data": {
            "image/png": "[encoded data removed]",
            "text/plain": [
              "<Figure size 432x288 with 1 Axes>"
            ]
          },
          "metadata": {}
        },
        {
          "output_type": "display_data",
          "data": {
            "image/png": "[encoded data removed]",
            "text/plain": [
              "<Figure size 432x288 with 1 Axes>"
            ]
          },
          "metadata": {}
        },
        {
          "output_type": "display_data",
          "data": {
            "image/png": "[encoded data removed]",
            "text/plain": [
              "<Figure size 432x288 with 1 Axes>"
            ]
          },
          "metadata": {}
        },
        {
          "output_type": "display_data",
          "data": {
            "image/png": "[encoded data removed]",
            "text/plain": [
              "<Figure size 432x288 with 1 Axes>"
            ]
          },
          "metadata": {}
        },
        {
          "output_type": "display_data",
          "data": {
            "image/png": "[encoded data removed]",
            "text/plain": [
              "<Figure size 432x288 with 1 Axes>"
            ]
          },
          "metadata": {}
        },
        {
          "output_type": "display_data",
          "data": {
            "image/png": "[encoded data removed]",
            "text/plain": [
              "<Figure size 432x288 with 1 Axes>"
            ]
          },
          "metadata": {}
        },
        {
          "output_type": "display_data",
          "data": {
            "image/png": "[encoded data removed]",
            "text/plain": [
              "<Figure size 432x288 with 1 Axes>"
            ]
          },
          "metadata": {}
        },
        {
          "output_type": "display_data",
          "data": {
            "image/png": "[encoded data removed]",
            "text/plain": [
              "<Figure size 432x288 with 1 Axes>"
            ]
          },
          "metadata": {}
        },
        {
          "output_type": "display_data",
          "data": {
            "image/png": "[encoded data removed]",
            "text/plain": [
              "<Figure size 432x288 with 1 Axes>"
            ]
          },
          "metadata": {}
        },
        {
          "output_type": "display_data",
          "data": {
            "image/png": "[encoded data removed]",
            "text/plain": [
              "<Figure size 432x288 with 1 Axes>"
            ]
          },
          "metadata": {}
        }
      ]
    },
    {
      "cell_type": "markdown",
      "metadata": {
        "id": "RhOWHSEU0DQH"
      },
      "source": [
        "# W&B Logging and Finish"
      ]
    },
    {
      "cell_type": "code",
      "metadata": {
        "colab": {
          "base_uri": "https://localhost:8080/",
          "height": 424
        },
        "id": "9yt-cob54ZzN",
        "outputId": "c0a9576d-123e-409d-95a5-8925aa6a1fa9"
      },
      "source": [
        "recommender_results"
      ],
      "execution_count": 88,
      "outputs": [
        {
          "output_type": "execute_result",
          "data": {
            "text/html": [
              "<div>\n",
              "<style scoped>\n",
              "    .dataframe tbody tr th:only-of-type {\n",
              "        vertical-align: middle;\n",
              "    }\n",
              "\n",
              "    .dataframe tbody tr th {\n",
              "        vertical-align: top;\n",
              "    }\n",
              "\n",
              "    .dataframe thead th {\n",
              "        text-align: right;\n",
              "    }\n",
              "</style>\n",
              "<table border=\"1\" class=\"dataframe\">\n",
              "  <thead>\n",
              "    <tr style=\"text-align: right;\">\n",
              "      <th></th>\n",
              "      <th>reference</th>\n",
              "      <th>id</th>\n",
              "      <th>method</th>\n",
              "      <th>similar</th>\n",
              "      <th>score_div_max</th>\n",
              "      <th>score</th>\n",
              "    </tr>\n",
              "  </thead>\n",
              "  <tbody>\n",
              "    <tr>\n",
              "      <th>0</th>\n",
              "      <td>We'll Be Together Again</td>\n",
              "      <td>0.0</td>\n",
              "      <td>tfidf</td>\n",
              "      <td>Ain't She Sweet</td>\n",
              "      <td>1.000000</td>\n",
              "      <td>0.299183</td>\n",
              "    </tr>\n",
              "    <tr>\n",
              "      <th>1</th>\n",
              "      <td>We'll Be Together Again</td>\n",
              "      <td>1.0</td>\n",
              "      <td>tfidf</td>\n",
              "      <td>Street Of Dreams</td>\n",
              "      <td>1.000000</td>\n",
              "      <td>0.422051</td>\n",
              "    </tr>\n",
              "    <tr>\n",
              "      <th>2</th>\n",
              "      <td>We'll Be Together Again</td>\n",
              "      <td>2.0</td>\n",
              "      <td>tfidf</td>\n",
              "      <td>Don't Know Why</td>\n",
              "      <td>1.000000</td>\n",
              "      <td>0.282274</td>\n",
              "    </tr>\n",
              "    <tr>\n",
              "      <th>3</th>\n",
              "      <td>We'll Be Together Again</td>\n",
              "      <td>3.0</td>\n",
              "      <td>tfidf</td>\n",
              "      <td>Don't Blame Me</td>\n",
              "      <td>0.912959</td>\n",
              "      <td>0.257704</td>\n",
              "    </tr>\n",
              "    <tr>\n",
              "      <th>4</th>\n",
              "      <td>We'll Be Together Again</td>\n",
              "      <td>4.0</td>\n",
              "      <td>tfidf</td>\n",
              "      <td>Straight Street</td>\n",
              "      <td>0.890080</td>\n",
              "      <td>0.251246</td>\n",
              "    </tr>\n",
              "    <tr>\n",
              "      <th>...</th>\n",
              "      <td>...</td>\n",
              "      <td>...</td>\n",
              "      <td>...</td>\n",
              "      <td>...</td>\n",
              "      <td>...</td>\n",
              "      <td>...</td>\n",
              "    </tr>\n",
              "    <tr>\n",
              "      <th>57</th>\n",
              "      <td>We'll Be Together Again</td>\n",
              "      <td>NaN</td>\n",
              "      <td>doc2vec</td>\n",
              "      <td>NaN</td>\n",
              "      <td>NaN</td>\n",
              "      <td>NaN</td>\n",
              "    </tr>\n",
              "    <tr>\n",
              "      <th>58</th>\n",
              "      <td>We'll Be Together Again</td>\n",
              "      <td>NaN</td>\n",
              "      <td>doc2vec</td>\n",
              "      <td>NaN</td>\n",
              "      <td>NaN</td>\n",
              "      <td>NaN</td>\n",
              "    </tr>\n",
              "    <tr>\n",
              "      <th>59</th>\n",
              "      <td>We'll Be Together Again</td>\n",
              "      <td>NaN</td>\n",
              "      <td>doc2vec</td>\n",
              "      <td>NaN</td>\n",
              "      <td>NaN</td>\n",
              "      <td>NaN</td>\n",
              "    </tr>\n",
              "    <tr>\n",
              "      <th>60</th>\n",
              "      <td>We'll Be Together Again</td>\n",
              "      <td>NaN</td>\n",
              "      <td>doc2vec</td>\n",
              "      <td>NaN</td>\n",
              "      <td>NaN</td>\n",
              "      <td>NaN</td>\n",
              "    </tr>\n",
              "    <tr>\n",
              "      <th>61</th>\n",
              "      <td>We'll Be Together Again</td>\n",
              "      <td>NaN</td>\n",
              "      <td>doc2vec</td>\n",
              "      <td>NaN</td>\n",
              "      <td>NaN</td>\n",
              "      <td>NaN</td>\n",
              "    </tr>\n",
              "  </tbody>\n",
              "</table>\n",
              "<p>176 rows × 6 columns</p>\n",
              "</div>"
            ],
            "text/plain": [
              "                  reference   id  ... score_div_max     score\n",
              "0   We'll Be Together Again  0.0  ...      1.000000  0.299183\n",
              "1   We'll Be Together Again  1.0  ...      1.000000  0.422051\n",
              "2   We'll Be Together Again  2.0  ...      1.000000  0.282274\n",
              "3   We'll Be Together Again  3.0  ...      0.912959  0.257704\n",
              "4   We'll Be Together Again  4.0  ...      0.890080  0.251246\n",
              "..                      ...  ...  ...           ...       ...\n",
              "57  We'll Be Together Again  NaN  ...           NaN       NaN\n",
              "58  We'll Be Together Again  NaN  ...           NaN       NaN\n",
              "59  We'll Be Together Again  NaN  ...           NaN       NaN\n",
              "60  We'll Be Together Again  NaN  ...           NaN       NaN\n",
              "61  We'll Be Together Again  NaN  ...           NaN       NaN\n",
              "\n",
              "[176 rows x 6 columns]"
            ]
          },
          "metadata": {},
          "execution_count": 88
        }
      ]
    },
    {
      "cell_type": "code",
      "metadata": {
        "id": "Qm7BPMM_ihop",
        "colab": {
          "base_uri": "https://localhost:8080/",
          "height": 791
        },
        "outputId": "6d063963-3906-4117-ee1f-b9542fcb0157"
      },
      "source": [
        "recommender_results = recommender_results.reset_index()\n",
        "\n",
        "results = recommender_results.pivot(index=['index', 'reference', 'similar'], columns='method', values=['id', 'score', 'score_div_max'])\n",
        "results.columns = ['_'.join(col) for col in results.columns]\n",
        "results = results.reset_index()\n",
        "results"
      ],
      "execution_count": 89,
      "outputs": [
        {
          "output_type": "execute_result",
          "data": {
            "text/html": [
              "<div>\n",
              "<style scoped>\n",
              "    .dataframe tbody tr th:only-of-type {\n",
              "        vertical-align: middle;\n",
              "    }\n",
              "\n",
              "    .dataframe tbody tr th {\n",
              "        vertical-align: top;\n",
              "    }\n",
              "\n",
              "    .dataframe thead th {\n",
              "        text-align: right;\n",
              "    }\n",
              "</style>\n",
              "<table border=\"1\" class=\"dataframe\">\n",
              "  <thead>\n",
              "    <tr style=\"text-align: right;\">\n",
              "      <th></th>\n",
              "      <th>index</th>\n",
              "      <th>reference</th>\n",
              "      <th>similar</th>\n",
              "      <th>id_doc2vec</th>\n",
              "      <th>id_lsi</th>\n",
              "      <th>id_tfidf</th>\n",
              "      <th>score_doc2vec</th>\n",
              "      <th>score_lsi</th>\n",
              "      <th>score_tfidf</th>\n",
              "      <th>score_div_max_doc2vec</th>\n",
              "      <th>score_div_max_lsi</th>\n",
              "      <th>score_div_max_tfidf</th>\n",
              "    </tr>\n",
              "  </thead>\n",
              "  <tbody>\n",
              "    <tr>\n",
              "      <th>0</th>\n",
              "      <td>0</td>\n",
              "      <td>We'll Be Together Again</td>\n",
              "      <td>Ain't She Sweet</td>\n",
              "      <td>NaN</td>\n",
              "      <td>NaN</td>\n",
              "      <td>0.0</td>\n",
              "      <td>NaN</td>\n",
              "      <td>NaN</td>\n",
              "      <td>0.299183</td>\n",
              "      <td>NaN</td>\n",
              "      <td>NaN</td>\n",
              "      <td>1.0</td>\n",
              "    </tr>\n",
              "    <tr>\n",
              "      <th>1</th>\n",
              "      <td>0</td>\n",
              "      <td>We'll Be Together Again</td>\n",
              "      <td>Street Of Dreams</td>\n",
              "      <td>0.0</td>\n",
              "      <td>0.0</td>\n",
              "      <td>NaN</td>\n",
              "      <td>0.937679</td>\n",
              "      <td>0.937679</td>\n",
              "      <td>NaN</td>\n",
              "      <td>1.000000</td>\n",
              "      <td>1.000000</td>\n",
              "      <td>NaN</td>\n",
              "    </tr>\n",
              "    <tr>\n",
              "      <th>2</th>\n",
              "      <td>1</td>\n",
              "      <td>We'll Be Together Again</td>\n",
              "      <td>Begin The Beguine</td>\n",
              "      <td>1.0</td>\n",
              "      <td>1.0</td>\n",
              "      <td>NaN</td>\n",
              "      <td>0.783925</td>\n",
              "      <td>0.783925</td>\n",
              "      <td>NaN</td>\n",
              "      <td>1.000000</td>\n",
              "      <td>1.000000</td>\n",
              "      <td>NaN</td>\n",
              "    </tr>\n",
              "    <tr>\n",
              "      <th>3</th>\n",
              "      <td>1</td>\n",
              "      <td>We'll Be Together Again</td>\n",
              "      <td>Street Of Dreams</td>\n",
              "      <td>NaN</td>\n",
              "      <td>NaN</td>\n",
              "      <td>1.0</td>\n",
              "      <td>NaN</td>\n",
              "      <td>NaN</td>\n",
              "      <td>0.422051</td>\n",
              "      <td>NaN</td>\n",
              "      <td>NaN</td>\n",
              "      <td>1.0</td>\n",
              "    </tr>\n",
              "    <tr>\n",
              "      <th>4</th>\n",
              "      <td>2</td>\n",
              "      <td>We'll Be Together Again</td>\n",
              "      <td>Darn That Dream</td>\n",
              "      <td>2.0</td>\n",
              "      <td>2.0</td>\n",
              "      <td>NaN</td>\n",
              "      <td>0.753266</td>\n",
              "      <td>0.753266</td>\n",
              "      <td>NaN</td>\n",
              "      <td>0.967529</td>\n",
              "      <td>0.967529</td>\n",
              "      <td>NaN</td>\n",
              "    </tr>\n",
              "    <tr>\n",
              "      <th>...</th>\n",
              "      <td>...</td>\n",
              "      <td>...</td>\n",
              "      <td>...</td>\n",
              "      <td>...</td>\n",
              "      <td>...</td>\n",
              "      <td>...</td>\n",
              "      <td>...</td>\n",
              "      <td>...</td>\n",
              "      <td>...</td>\n",
              "      <td>...</td>\n",
              "      <td>...</td>\n",
              "      <td>...</td>\n",
              "    </tr>\n",
              "    <tr>\n",
              "      <th>98</th>\n",
              "      <td>57</td>\n",
              "      <td>We'll Be Together Again</td>\n",
              "      <td>NaN</td>\n",
              "      <td>NaN</td>\n",
              "      <td>NaN</td>\n",
              "      <td>NaN</td>\n",
              "      <td>NaN</td>\n",
              "      <td>NaN</td>\n",
              "      <td>NaN</td>\n",
              "      <td>NaN</td>\n",
              "      <td>NaN</td>\n",
              "      <td>NaN</td>\n",
              "    </tr>\n",
              "    <tr>\n",
              "      <th>99</th>\n",
              "      <td>58</td>\n",
              "      <td>We'll Be Together Again</td>\n",
              "      <td>NaN</td>\n",
              "      <td>NaN</td>\n",
              "      <td>NaN</td>\n",
              "      <td>NaN</td>\n",
              "      <td>NaN</td>\n",
              "      <td>NaN</td>\n",
              "      <td>NaN</td>\n",
              "      <td>NaN</td>\n",
              "      <td>NaN</td>\n",
              "      <td>NaN</td>\n",
              "    </tr>\n",
              "    <tr>\n",
              "      <th>100</th>\n",
              "      <td>59</td>\n",
              "      <td>We'll Be Together Again</td>\n",
              "      <td>NaN</td>\n",
              "      <td>NaN</td>\n",
              "      <td>NaN</td>\n",
              "      <td>NaN</td>\n",
              "      <td>NaN</td>\n",
              "      <td>NaN</td>\n",
              "      <td>NaN</td>\n",
              "      <td>NaN</td>\n",
              "      <td>NaN</td>\n",
              "      <td>NaN</td>\n",
              "    </tr>\n",
              "    <tr>\n",
              "      <th>101</th>\n",
              "      <td>60</td>\n",
              "      <td>We'll Be Together Again</td>\n",
              "      <td>NaN</td>\n",
              "      <td>NaN</td>\n",
              "      <td>NaN</td>\n",
              "      <td>NaN</td>\n",
              "      <td>NaN</td>\n",
              "      <td>NaN</td>\n",
              "      <td>NaN</td>\n",
              "      <td>NaN</td>\n",
              "      <td>NaN</td>\n",
              "      <td>NaN</td>\n",
              "    </tr>\n",
              "    <tr>\n",
              "      <th>102</th>\n",
              "      <td>61</td>\n",
              "      <td>We'll Be Together Again</td>\n",
              "      <td>NaN</td>\n",
              "      <td>NaN</td>\n",
              "      <td>NaN</td>\n",
              "      <td>NaN</td>\n",
              "      <td>NaN</td>\n",
              "      <td>NaN</td>\n",
              "      <td>NaN</td>\n",
              "      <td>NaN</td>\n",
              "      <td>NaN</td>\n",
              "      <td>NaN</td>\n",
              "    </tr>\n",
              "  </tbody>\n",
              "</table>\n",
              "<p>103 rows × 12 columns</p>\n",
              "</div>"
            ],
            "text/plain": [
              "     index                reference  ... score_div_max_lsi  score_div_max_tfidf\n",
              "0        0  We'll Be Together Again  ...               NaN                  1.0\n",
              "1        0  We'll Be Together Again  ...          1.000000                  NaN\n",
              "2        1  We'll Be Together Again  ...          1.000000                  NaN\n",
              "3        1  We'll Be Together Again  ...               NaN                  1.0\n",
              "4        2  We'll Be Together Again  ...          0.967529                  NaN\n",
              "..     ...                      ...  ...               ...                  ...\n",
              "98      57  We'll Be Together Again  ...               NaN                  NaN\n",
              "99      58  We'll Be Together Again  ...               NaN                  NaN\n",
              "100     59  We'll Be Together Again  ...               NaN                  NaN\n",
              "101     60  We'll Be Together Again  ...               NaN                  NaN\n",
              "102     61  We'll Be Together Again  ...               NaN                  NaN\n",
              "\n",
              "[103 rows x 12 columns]"
            ]
          },
          "metadata": {},
          "execution_count": 89
        }
      ]
    },
    {
      "cell_type": "code",
      "metadata": {
        "id": "ziq-dZ16Sdgg"
      },
      "source": [
        "table = wandb.Table(dataframe=results)\n",
        "wandb.log({\"recommender results\": results})"
      ],
      "execution_count": 90,
      "outputs": []
    },
    {
      "cell_type": "code",
      "metadata": {
        "colab": {
          "base_uri": "https://localhost:8080/",
          "height": 125,
          "referenced_widgets": [
            "49d570ad217642b4a17fbebd6c7648c0",
            "cb5dc40f954e423a9d19c988601c5a8b",
            "98af574d122a45c0bfdca6cc2cadf5b6",
            "2384cd4be9174154b1db8be89f3e25b2",
            "a97988cfc7f6404c8ef94e2bc37589a4",
            "b0f0adcd5d3b409bb6a249f173ad9c77",
            "aef4d06b26d94f85895929053acff1a5",
            "e4cb28e31ff14bc38d3e9e1487cee1c2"
          ]
        },
        "id": "YMUDRHkm0aMV",
        "outputId": "5d1bb14e-184c-41f9-9830-f39a54d33221"
      },
      "source": [
        "wandb.finish()"
      ],
      "execution_count": 91,
      "outputs": [
        {
          "output_type": "display_data",
          "data": {
            "text/html": [
              "<br/>Waiting for W&B process to finish, PID 23655... <strong style=\"color:green\">(success).</strong>"
            ],
            "text/plain": [
              "<IPython.core.display.HTML object>"
            ]
          },
          "metadata": {}
        },
        {
          "output_type": "display_data",
          "data": {
            "application/vnd.jupyter.widget-view+json": {
              "model_id": "49d570ad217642b4a17fbebd6c7648c0",
              "version_minor": 0,
              "version_major": 2
            },
            "text/plain": [
              "VBox(children=(Label(value=' 19.17MB of 19.17MB uploaded (0.00MB deduped)\\r'), FloatProgress(value=1.0, max=1.…"
            ]
          },
          "metadata": {}
        },
        {
          "output_type": "display_data",
          "data": {
            "text/html": [
              "<style>\n",
              "    table.wandb td:nth-child(1) { padding: 0 10px; text-align: right }\n",
              "    .wandb-row { display: flex; flex-direction: row; flex-wrap: wrap; width: 100% }\n",
              "    .wandb-col { display: flex; flex-direction: column; flex-basis: 100%; flex: 1; padding: 10px; }\n",
              "    </style>\n",
              "<div class=\"wandb-row\"><div class=\"wandb-col\">\n",
              "</div><div class=\"wandb-col\">\n",
              "</div></div>\n",
              "Synced 5 W&B file(s), 28 media file(s), 7 artifact file(s) and 0 other file(s)\n",
              "<br/>Synced <strong style=\"color:#cdcd00\">toasty-dust-12</strong>: <a href=\"https://wandb.ai/doris/jazztunes/runs/8qum42c0\" target=\"_blank\">https://wandb.ai/doris/jazztunes/runs/8qum42c0</a><br/>\n",
              "Find logs at: <code>./wandb/run-20211121_203612-8qum42c0/logs</code><br/>\n"
            ],
            "text/plain": [
              "<IPython.core.display.HTML object>"
            ]
          },
          "metadata": {}
        }
      ]
    },
    {
      "cell_type": "code",
      "metadata": {
        "id": "Vn_SFyKt0bYx"
      },
      "source": [
        ""
      ],
      "execution_count": 91,
      "outputs": []
    }
  ]
}