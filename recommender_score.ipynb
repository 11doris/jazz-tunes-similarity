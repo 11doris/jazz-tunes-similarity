{
  "nbformat": 4,
  "nbformat_minor": 0,
  "metadata": {
    "colab": {
      "name": "recommender_score",
      "provenance": [],
      "toc_visible": true,
      "authorship_tag": "ABX9TyPo4LNeiV4K+8Qm6ZMmLAyr",
      "include_colab_link": true
    },
    "kernelspec": {
      "name": "python3",
      "display_name": "Python 3"
    },
    "language_info": {
      "name": "python"
    },
    "accelerator": "TPU",
    "widgets": {
      "application/vnd.jupyter.widget-state+json": {
        "f2cc2a0a8d0543d98b5ef92d1a9bc78c": {
          "model_module": "@jupyter-widgets/controls",
          "model_name": "VBoxModel",
          "model_module_version": "1.5.0",
          "state": {
            "_view_name": "VBoxView",
            "_dom_classes": [],
            "_model_name": "VBoxModel",
            "_view_module": "@jupyter-widgets/controls",
            "_model_module_version": "1.5.0",
            "_view_count": null,
            "_view_module_version": "1.5.0",
            "box_style": "",
            "layout": "IPY_MODEL_1f61415f0fa1492cb0c09c583540851d",
            "_model_module": "@jupyter-widgets/controls",
            "children": [
              "IPY_MODEL_25a83ab091984f2486891d5ee006f18b",
              "IPY_MODEL_04f3e5c328334c89952b729b56c439ec"
            ]
          }
        },
        "1f61415f0fa1492cb0c09c583540851d": {
          "model_module": "@jupyter-widgets/base",
          "model_name": "LayoutModel",
          "model_module_version": "1.2.0",
          "state": {
            "_view_name": "LayoutView",
            "grid_template_rows": null,
            "right": null,
            "justify_content": null,
            "_view_module": "@jupyter-widgets/base",
            "overflow": null,
            "_model_module_version": "1.2.0",
            "_view_count": null,
            "flex_flow": null,
            "width": null,
            "min_width": null,
            "border": null,
            "align_items": null,
            "bottom": null,
            "_model_module": "@jupyter-widgets/base",
            "top": null,
            "grid_column": null,
            "overflow_y": null,
            "overflow_x": null,
            "grid_auto_flow": null,
            "grid_area": null,
            "grid_template_columns": null,
            "flex": null,
            "_model_name": "LayoutModel",
            "justify_items": null,
            "grid_row": null,
            "max_height": null,
            "align_content": null,
            "visibility": null,
            "align_self": null,
            "height": null,
            "min_height": null,
            "padding": null,
            "grid_auto_rows": null,
            "grid_gap": null,
            "max_width": null,
            "order": null,
            "_view_module_version": "1.2.0",
            "grid_template_areas": null,
            "object_position": null,
            "object_fit": null,
            "grid_auto_columns": null,
            "margin": null,
            "display": null,
            "left": null
          }
        },
        "25a83ab091984f2486891d5ee006f18b": {
          "model_module": "@jupyter-widgets/controls",
          "model_name": "LabelModel",
          "model_module_version": "1.5.0",
          "state": {
            "_view_name": "LabelView",
            "style": "IPY_MODEL_9055fd681dd248eea8ea80b9e588f2f0",
            "_dom_classes": [],
            "description": "",
            "_model_name": "LabelModel",
            "placeholder": "​",
            "_view_module": "@jupyter-widgets/controls",
            "_model_module_version": "1.5.0",
            "value": " 25.86MB of 25.86MB uploaded (0.00MB deduped)\r",
            "_view_count": null,
            "_view_module_version": "1.5.0",
            "description_tooltip": null,
            "_model_module": "@jupyter-widgets/controls",
            "layout": "IPY_MODEL_be628329c1cc4b368de7a0fa94a42170"
          }
        },
        "04f3e5c328334c89952b729b56c439ec": {
          "model_module": "@jupyter-widgets/controls",
          "model_name": "FloatProgressModel",
          "model_module_version": "1.5.0",
          "state": {
            "_view_name": "ProgressView",
            "style": "IPY_MODEL_3c030b9c9e234fad96fd092b122b1767",
            "_dom_classes": [],
            "description": "",
            "_model_name": "FloatProgressModel",
            "bar_style": "",
            "max": 1,
            "_view_module": "@jupyter-widgets/controls",
            "_model_module_version": "1.5.0",
            "value": 1,
            "_view_count": null,
            "_view_module_version": "1.5.0",
            "orientation": "horizontal",
            "min": 0,
            "description_tooltip": null,
            "_model_module": "@jupyter-widgets/controls",
            "layout": "IPY_MODEL_8dfbef1ad2ec474b9b2fbb7d35a8a1d5"
          }
        },
        "9055fd681dd248eea8ea80b9e588f2f0": {
          "model_module": "@jupyter-widgets/controls",
          "model_name": "DescriptionStyleModel",
          "model_module_version": "1.5.0",
          "state": {
            "_view_name": "StyleView",
            "_model_name": "DescriptionStyleModel",
            "description_width": "",
            "_view_module": "@jupyter-widgets/base",
            "_model_module_version": "1.5.0",
            "_view_count": null,
            "_view_module_version": "1.2.0",
            "_model_module": "@jupyter-widgets/controls"
          }
        },
        "be628329c1cc4b368de7a0fa94a42170": {
          "model_module": "@jupyter-widgets/base",
          "model_name": "LayoutModel",
          "model_module_version": "1.2.0",
          "state": {
            "_view_name": "LayoutView",
            "grid_template_rows": null,
            "right": null,
            "justify_content": null,
            "_view_module": "@jupyter-widgets/base",
            "overflow": null,
            "_model_module_version": "1.2.0",
            "_view_count": null,
            "flex_flow": null,
            "width": null,
            "min_width": null,
            "border": null,
            "align_items": null,
            "bottom": null,
            "_model_module": "@jupyter-widgets/base",
            "top": null,
            "grid_column": null,
            "overflow_y": null,
            "overflow_x": null,
            "grid_auto_flow": null,
            "grid_area": null,
            "grid_template_columns": null,
            "flex": null,
            "_model_name": "LayoutModel",
            "justify_items": null,
            "grid_row": null,
            "max_height": null,
            "align_content": null,
            "visibility": null,
            "align_self": null,
            "height": null,
            "min_height": null,
            "padding": null,
            "grid_auto_rows": null,
            "grid_gap": null,
            "max_width": null,
            "order": null,
            "_view_module_version": "1.2.0",
            "grid_template_areas": null,
            "object_position": null,
            "object_fit": null,
            "grid_auto_columns": null,
            "margin": null,
            "display": null,
            "left": null
          }
        },
        "3c030b9c9e234fad96fd092b122b1767": {
          "model_module": "@jupyter-widgets/controls",
          "model_name": "ProgressStyleModel",
          "model_module_version": "1.5.0",
          "state": {
            "_view_name": "StyleView",
            "_model_name": "ProgressStyleModel",
            "description_width": "",
            "_view_module": "@jupyter-widgets/base",
            "_model_module_version": "1.5.0",
            "_view_count": null,
            "_view_module_version": "1.2.0",
            "bar_color": null,
            "_model_module": "@jupyter-widgets/controls"
          }
        },
        "8dfbef1ad2ec474b9b2fbb7d35a8a1d5": {
          "model_module": "@jupyter-widgets/base",
          "model_name": "LayoutModel",
          "model_module_version": "1.2.0",
          "state": {
            "_view_name": "LayoutView",
            "grid_template_rows": null,
            "right": null,
            "justify_content": null,
            "_view_module": "@jupyter-widgets/base",
            "overflow": null,
            "_model_module_version": "1.2.0",
            "_view_count": null,
            "flex_flow": null,
            "width": null,
            "min_width": null,
            "border": null,
            "align_items": null,
            "bottom": null,
            "_model_module": "@jupyter-widgets/base",
            "top": null,
            "grid_column": null,
            "overflow_y": null,
            "overflow_x": null,
            "grid_auto_flow": null,
            "grid_area": null,
            "grid_template_columns": null,
            "flex": null,
            "_model_name": "LayoutModel",
            "justify_items": null,
            "grid_row": null,
            "max_height": null,
            "align_content": null,
            "visibility": null,
            "align_self": null,
            "height": null,
            "min_height": null,
            "padding": null,
            "grid_auto_rows": null,
            "grid_gap": null,
            "max_width": null,
            "order": null,
            "_view_module_version": "1.2.0",
            "grid_template_areas": null,
            "object_position": null,
            "object_fit": null,
            "grid_auto_columns": null,
            "margin": null,
            "display": null,
            "left": null
          }
        }
      }
    }
  },
  "cells": [
    {
      "cell_type": "markdown",
      "metadata": {
        "id": "view-in-github",
        "colab_type": "text"
      },
      "source": [
        "<a href=\"https://colab.research.google.com/github/11doris/jazz-maestro/blob/colab_word_embeddings/recommender_score.ipynb\" target=\"_parent\"><img src=\"https://colab.research.google.com/assets/colab-badge.svg\" alt=\"Open In Colab\"/></a>"
      ]
    },
    {
      "cell_type": "markdown",
      "metadata": {
        "id": "YGhakKpa8Dtf"
      },
      "source": [
        "# Sections as Input"
      ]
    },
    {
      "cell_type": "code",
      "metadata": {
        "colab": {
          "base_uri": "https://localhost:8080/"
        },
        "id": "dm5QehpXxo31",
        "outputId": "0a6e2dfa-f122-4300-b9ec-cb67e5cc41d1"
      },
      "source": [
        "pip install wandb"
      ],
      "execution_count": 1,
      "outputs": [
        {
          "output_type": "stream",
          "name": "stdout",
          "text": [
            "Requirement already satisfied: wandb in /usr/local/lib/python3.7/dist-packages (0.12.7)\n",
            "Requirement already satisfied: configparser>=3.8.1 in /usr/local/lib/python3.7/dist-packages (from wandb) (5.1.0)\n",
            "Requirement already satisfied: GitPython>=1.0.0 in /usr/local/lib/python3.7/dist-packages (from wandb) (3.1.24)\n",
            "Requirement already satisfied: six>=1.13.0 in /usr/local/lib/python3.7/dist-packages (from wandb) (1.15.0)\n",
            "Requirement already satisfied: python-dateutil>=2.6.1 in /usr/local/lib/python3.7/dist-packages (from wandb) (2.8.2)\n",
            "Requirement already satisfied: psutil>=5.0.0 in /usr/local/lib/python3.7/dist-packages (from wandb) (5.4.8)\n",
            "Requirement already satisfied: pathtools in /usr/local/lib/python3.7/dist-packages (from wandb) (0.1.2)\n",
            "Requirement already satisfied: shortuuid>=0.5.0 in /usr/local/lib/python3.7/dist-packages (from wandb) (1.0.8)\n",
            "Requirement already satisfied: sentry-sdk>=1.0.0 in /usr/local/lib/python3.7/dist-packages (from wandb) (1.5.0)\n",
            "Requirement already satisfied: yaspin>=1.0.0 in /usr/local/lib/python3.7/dist-packages (from wandb) (2.1.0)\n",
            "Requirement already satisfied: docker-pycreds>=0.4.0 in /usr/local/lib/python3.7/dist-packages (from wandb) (0.4.0)\n",
            "Requirement already satisfied: Click!=8.0.0,>=7.0 in /usr/local/lib/python3.7/dist-packages (from wandb) (7.1.2)\n",
            "Requirement already satisfied: requests<3,>=2.0.0 in /usr/local/lib/python3.7/dist-packages (from wandb) (2.23.0)\n",
            "Requirement already satisfied: protobuf>=3.12.0 in /usr/local/lib/python3.7/dist-packages (from wandb) (3.17.3)\n",
            "Requirement already satisfied: PyYAML in /usr/local/lib/python3.7/dist-packages (from wandb) (3.13)\n",
            "Requirement already satisfied: promise<3,>=2.0 in /usr/local/lib/python3.7/dist-packages (from wandb) (2.3)\n",
            "Requirement already satisfied: subprocess32>=3.5.3 in /usr/local/lib/python3.7/dist-packages (from wandb) (3.5.4)\n",
            "Requirement already satisfied: gitdb<5,>=4.0.1 in /usr/local/lib/python3.7/dist-packages (from GitPython>=1.0.0->wandb) (4.0.9)\n",
            "Requirement already satisfied: typing-extensions>=3.7.4.3 in /usr/local/lib/python3.7/dist-packages (from GitPython>=1.0.0->wandb) (3.10.0.2)\n",
            "Requirement already satisfied: smmap<6,>=3.0.1 in /usr/local/lib/python3.7/dist-packages (from gitdb<5,>=4.0.1->GitPython>=1.0.0->wandb) (5.0.0)\n",
            "Requirement already satisfied: chardet<4,>=3.0.2 in /usr/local/lib/python3.7/dist-packages (from requests<3,>=2.0.0->wandb) (3.0.4)\n",
            "Requirement already satisfied: certifi>=2017.4.17 in /usr/local/lib/python3.7/dist-packages (from requests<3,>=2.0.0->wandb) (2021.10.8)\n",
            "Requirement already satisfied: idna<3,>=2.5 in /usr/local/lib/python3.7/dist-packages (from requests<3,>=2.0.0->wandb) (2.10)\n",
            "Requirement already satisfied: urllib3!=1.25.0,!=1.25.1,<1.26,>=1.21.1 in /usr/local/lib/python3.7/dist-packages (from requests<3,>=2.0.0->wandb) (1.24.3)\n",
            "Requirement already satisfied: termcolor<2.0.0,>=1.1.0 in /usr/local/lib/python3.7/dist-packages (from yaspin>=1.0.0->wandb) (1.1.0)\n"
          ]
        }
      ]
    },
    {
      "cell_type": "code",
      "metadata": {
        "colab": {
          "base_uri": "https://localhost:8080/"
        },
        "id": "HZG8BDT-xrv3",
        "outputId": "a50b3fd7-1c10-4533-ff8f-9c087d8cfe4e"
      },
      "source": [
        "!wandb login"
      ],
      "execution_count": 2,
      "outputs": [
        {
          "output_type": "stream",
          "name": "stdout",
          "text": [
            "\u001b[34m\u001b[1mwandb\u001b[0m: Currently logged in as: \u001b[33mdoris\u001b[0m (use `wandb login --relogin` to force relogin)\n"
          ]
        }
      ]
    },
    {
      "cell_type": "code",
      "metadata": {
        "id": "WHZBzAXjxz1J"
      },
      "source": [
        "import wandb"
      ],
      "execution_count": 3,
      "outputs": []
    },
    {
      "cell_type": "code",
      "metadata": {
        "colab": {
          "base_uri": "https://localhost:8080/"
        },
        "id": "MUy1ta4_782n",
        "outputId": "5c28a1cb-fbd9-4b6f-fb6a-1cec59a3c1cd"
      },
      "source": [
        "!pip uninstall gensim -y"
      ],
      "execution_count": 4,
      "outputs": [
        {
          "output_type": "stream",
          "name": "stdout",
          "text": [
            "Found existing installation: gensim 4.1.2\n",
            "Uninstalling gensim-4.1.2:\n",
            "  Successfully uninstalled gensim-4.1.2\n"
          ]
        }
      ]
    },
    {
      "cell_type": "code",
      "metadata": {
        "colab": {
          "base_uri": "https://localhost:8080/"
        },
        "id": "oAroxmvO8GQj",
        "outputId": "d7a28b5a-719e-43dc-ab4c-08b753d9db0b"
      },
      "source": [
        "!pip install gensim"
      ],
      "execution_count": 5,
      "outputs": [
        {
          "output_type": "stream",
          "name": "stdout",
          "text": [
            "Collecting gensim\n",
            "  Using cached gensim-4.1.2-cp37-cp37m-manylinux_2_12_x86_64.manylinux2010_x86_64.whl (24.1 MB)\n",
            "Requirement already satisfied: scipy>=0.18.1 in /usr/local/lib/python3.7/dist-packages (from gensim) (1.4.1)\n",
            "Requirement already satisfied: smart-open>=1.8.1 in /usr/local/lib/python3.7/dist-packages (from gensim) (5.2.1)\n",
            "Requirement already satisfied: numpy>=1.17.0 in /usr/local/lib/python3.7/dist-packages (from gensim) (1.19.5)\n",
            "Installing collected packages: gensim\n",
            "Successfully installed gensim-4.1.2\n"
          ]
        }
      ]
    },
    {
      "cell_type": "code",
      "metadata": {
        "id": "6SZ0zrKX8H-D"
      },
      "source": [
        "import gensim\n",
        "from sklearn.manifold import TSNE\n",
        "import matplotlib.pyplot as plt\n",
        "import pprint\n",
        "import pandas as pd\n",
        "import numpy as np\n",
        "from collections import Counter\n",
        "import plotly.express as px\n",
        "from tqdm import tqdm \n",
        "from gensim.models.doc2vec import Doc2Vec\n",
        "from gensim.models.tfidfmodel import TfidfModel\n",
        "from gensim.models.lsimodel import LsiModel\n",
        "from gensim.models import CoherenceModel\n",
        "from gensim import corpora\n",
        "from gensim import similarities\n",
        "import pickle\n",
        "import os"
      ],
      "execution_count": 6,
      "outputs": []
    },
    {
      "cell_type": "code",
      "metadata": {
        "id": "znWar-PK8KHT"
      },
      "source": [
        "import logging\n",
        "logging.basicConfig(format='%(asctime)s : %(levelname)s : %(message)s', level=logging.INFO)"
      ],
      "execution_count": 7,
      "outputs": []
    },
    {
      "cell_type": "code",
      "metadata": {
        "colab": {
          "base_uri": "https://localhost:8080/"
        },
        "id": "kjCf_Abf8MCc",
        "outputId": "7424e862-5f2c-458d-e327-afad9328f91d"
      },
      "source": [
        "print(gensim.__version__)"
      ],
      "execution_count": 8,
      "outputs": [
        {
          "output_type": "stream",
          "name": "stdout",
          "text": [
            "4.1.2\n"
          ]
        }
      ]
    },
    {
      "cell_type": "markdown",
      "metadata": {
        "id": "Nk5pPZqk0Pn7"
      },
      "source": [
        "# Configuration\n"
      ]
    },
    {
      "cell_type": "code",
      "metadata": {
        "id": "GfQbJQmexlxI"
      },
      "source": [
        "chords_repeated = 'rep' \n",
        "chords_preprocessing = 'rootAndDegreesPlus'"
      ],
      "execution_count": 9,
      "outputs": []
    },
    {
      "cell_type": "code",
      "metadata": {
        "id": "buoyWNl0F48Y"
      },
      "source": [
        "ngrams_for_input = [3]"
      ],
      "execution_count": 10,
      "outputs": []
    },
    {
      "cell_type": "code",
      "metadata": {
        "id": "K7qB2_sBvKpB"
      },
      "source": [
        "input_files = {\n",
        "    'sections': {\n",
        "        'rep': {\n",
        "            # M7 and 6 reduced to major triad, m7 reduced to m, dominant 7, m7b5, diminished, and all (b5) left as they are.\n",
        "            'rootAndDegreesPlus': '17djlZRWFSUCviOxRTOF-nwbbZqU5gUP9',\n",
        "            'rootAndDegrees7': '1lQTBMYk7Ui_mbOopUTjOs4MV_4c1a8bO',\n",
        "            'rootAndDegreesSimplified': '1lVm6r0T3i1hbyZqPJXNKf90uh14MOKkb'\n",
        "        },\n",
        "    },\n",
        "    'tunes': {\n",
        "        'rep': {\n",
        "            'rootAndDegreesPlus': '',\n",
        "            'rootAndDegrees7': '',\n",
        "            'rootAndDegreesSimplified': '',\n",
        "        },\n",
        "        'norep': {\n",
        "            'rootAndDegreesPlus': '',\n",
        "            'rootAndDegrees7': '',\n",
        "            'rootAndDegreesSimplified': '',\n",
        "        }\n",
        "    }\n",
        "}"
      ],
      "execution_count": 11,
      "outputs": []
    },
    {
      "cell_type": "code",
      "metadata": {
        "colab": {
          "base_uri": "https://localhost:8080/"
        },
        "id": "lM6eaQwnyWD3",
        "outputId": "eb4e2200-aafa-4269-e945-36f354731a35"
      },
      "source": [
        "tunes_eval_list = [\n",
        "  \"Sweet Sue, Just You\",\n",
        "  \"These Foolish Things\", \n",
        "  \"Blue Moon\",\n",
        "  \"All Of Me\",\n",
        "  \"All God's Chillun Got Rhythm\",\n",
        "  \"I Got Rhythm\",\n",
        "  \"Bye Bye Blackbird\",\n",
        "  \"Old Fashioned Love\",\n",
        "  \"Dinah\",\n",
        "  \"Honeysuckle Rose\",\n",
        "  \"Misty\",\n",
        "  \"We'll Be Together Again\",\n",
        "  \"East Of The Sun\",\n",
        "  \"Sophisticated Lady\",\n",
        "  \"Perdido\",\n",
        "  \"Naima\",\n",
        "  \"Call Me Irresponsible\",\n",
        "  \"Corcovado\",\n",
        "  \"Footprints\",\n",
        "  \"Giant Steps\",\n",
        "  \"But Beautiful\",\n",
        "  \"Rockin' Chair\",\n",
        "  \"Blood Count\",\n",
        "  \"After You've Gone\",\n",
        "]\n",
        "\n",
        "tunes_eval_list = sorted(tunes_eval_list)\n",
        "tunes_eval_list"
      ],
      "execution_count": 12,
      "outputs": [
        {
          "output_type": "execute_result",
          "data": {
            "text/plain": [
              "[\"After You've Gone\",\n",
              " \"All God's Chillun Got Rhythm\",\n",
              " 'All Of Me',\n",
              " 'Blood Count',\n",
              " 'Blue Moon',\n",
              " 'But Beautiful',\n",
              " 'Bye Bye Blackbird',\n",
              " 'Call Me Irresponsible',\n",
              " 'Corcovado',\n",
              " 'Dinah',\n",
              " 'East Of The Sun',\n",
              " 'Footprints',\n",
              " 'Giant Steps',\n",
              " 'Honeysuckle Rose',\n",
              " 'I Got Rhythm',\n",
              " 'Misty',\n",
              " 'Naima',\n",
              " 'Old Fashioned Love',\n",
              " 'Perdido',\n",
              " \"Rockin' Chair\",\n",
              " 'Sophisticated Lady',\n",
              " 'Sweet Sue, Just You',\n",
              " 'These Foolish Things',\n",
              " \"We'll Be Together Again\"]"
            ]
          },
          "metadata": {},
          "execution_count": 12
        }
      ]
    },
    {
      "cell_type": "code",
      "metadata": {
        "id": "uiI0h4ef0PCD"
      },
      "source": [
        ""
      ],
      "execution_count": 12,
      "outputs": []
    },
    {
      "cell_type": "markdown",
      "metadata": {
        "id": "gcexO7zK8Pn6"
      },
      "source": [
        "# Initialization\n",
        "\n",
        "## Download the Data"
      ]
    },
    {
      "cell_type": "code",
      "metadata": {
        "id": "JwVJo3Vat8iF"
      },
      "source": [
        "input_data = input_files['sections'][chords_repeated][chords_preprocessing]\n",
        "\n",
        "input_path = f\"https://docs.google.com/uc?export=download&id={input_data}\"\n",
        "data_file_name = 'data.csv'\n"
      ],
      "execution_count": 13,
      "outputs": []
    },
    {
      "cell_type": "code",
      "metadata": {
        "colab": {
          "base_uri": "https://localhost:8080/"
        },
        "id": "1ZVAYUH5t9Li",
        "outputId": "f556d98a-38f2-4d3b-d59a-b0f61d87d95d"
      },
      "source": [
        "!wget --no-check-certificate \"$data_path\" -O \"$data_file_name\""
      ],
      "execution_count": 14,
      "outputs": [
        {
          "output_type": "stream",
          "name": "stdout",
          "text": [
            "No such file or directory\n"
          ]
        }
      ]
    },
    {
      "cell_type": "markdown",
      "metadata": {
        "id": "Ljs21B7h8YvC"
      },
      "source": [
        "### Read Chords Input Data"
      ]
    },
    {
      "cell_type": "code",
      "metadata": {
        "colab": {
          "base_uri": "https://localhost:8080/",
          "height": 241
        },
        "id": "B7kK418L8aac",
        "outputId": "74f1d800-8a4c-4ec7-d0f8-c5952c31bc6e"
      },
      "source": [
        "df = pd.read_csv(data_file_name, sep='\\t', index_col=\"id\")\n",
        "df = df.reset_index()\n",
        "df.head(5)"
      ],
      "execution_count": 15,
      "outputs": [
        {
          "output_type": "execute_result",
          "data": {
            "text/html": [
              "<div>\n",
              "<style scoped>\n",
              "    .dataframe tbody tr th:only-of-type {\n",
              "        vertical-align: middle;\n",
              "    }\n",
              "\n",
              "    .dataframe tbody tr th {\n",
              "        vertical-align: top;\n",
              "    }\n",
              "\n",
              "    .dataframe thead th {\n",
              "        text-align: right;\n",
              "    }\n",
              "</style>\n",
              "<table border=\"1\" class=\"dataframe\">\n",
              "  <thead>\n",
              "    <tr style=\"text-align: right;\">\n",
              "      <th></th>\n",
              "      <th>id</th>\n",
              "      <th>file_name</th>\n",
              "      <th>title</th>\n",
              "      <th>tune_mode</th>\n",
              "      <th>tune_id</th>\n",
              "      <th>section_name</th>\n",
              "      <th>section_id</th>\n",
              "      <th>chords</th>\n",
              "    </tr>\n",
              "  </thead>\n",
              "  <tbody>\n",
              "    <tr>\n",
              "      <th>0</th>\n",
              "      <td>0</td>\n",
              "      <td>dataset/jazz1350/26-2.xml</td>\n",
              "      <td>26-2</td>\n",
              "      <td>major</td>\n",
              "      <td>0</td>\n",
              "      <td>A</td>\n",
              "      <td>1</td>\n",
              "      <td>C Eb7 G# B7 E G7 Gm C7 F G#7 C# E7 Am D7 Dm G7</td>\n",
              "    </tr>\n",
              "    <tr>\n",
              "      <th>1</th>\n",
              "      <td>1</td>\n",
              "      <td>dataset/jazz1350/26-2.xml</td>\n",
              "      <td>26-2</td>\n",
              "      <td>major</td>\n",
              "      <td>0</td>\n",
              "      <td>A</td>\n",
              "      <td>2</td>\n",
              "      <td>C Eb7 G# B7 E G7 Gm C7 F Eb7 G# B7 E G7 C</td>\n",
              "    </tr>\n",
              "    <tr>\n",
              "      <th>2</th>\n",
              "      <td>2</td>\n",
              "      <td>dataset/jazz1350/26-2.xml</td>\n",
              "      <td>26-2</td>\n",
              "      <td>major</td>\n",
              "      <td>0</td>\n",
              "      <td>B</td>\n",
              "      <td>3</td>\n",
              "      <td>Gm C7 Bm E7 A C7 F Bbm Eb7 G# Dm G7</td>\n",
              "    </tr>\n",
              "    <tr>\n",
              "      <th>3</th>\n",
              "      <td>3</td>\n",
              "      <td>dataset/jazz1350/26-2.xml</td>\n",
              "      <td>26-2</td>\n",
              "      <td>major</td>\n",
              "      <td>0</td>\n",
              "      <td>A</td>\n",
              "      <td>4</td>\n",
              "      <td>C Eb7 G# B7 E G7 Gm C7 F Eb7 G# B7 E G7 C</td>\n",
              "    </tr>\n",
              "    <tr>\n",
              "      <th>4</th>\n",
              "      <td>4</td>\n",
              "      <td>dataset/jazz1350/500 Miles High.xml</td>\n",
              "      <td>500 Miles High</td>\n",
              "      <td>minor</td>\n",
              "      <td>1</td>\n",
              "      <td>NaN</td>\n",
              "      <td>0</td>\n",
              "      <td>Am Am Cm Cm Eb Eb Em7b5 A7 Dm Dm Bm7b5 Bm7b5 B...</td>\n",
              "    </tr>\n",
              "  </tbody>\n",
              "</table>\n",
              "</div>"
            ],
            "text/plain": [
              "   id  ...                                             chords\n",
              "0   0  ...     C Eb7 G# B7 E G7 Gm C7 F G#7 C# E7 Am D7 Dm G7\n",
              "1   1  ...          C Eb7 G# B7 E G7 Gm C7 F Eb7 G# B7 E G7 C\n",
              "2   2  ...                Gm C7 Bm E7 A C7 F Bbm Eb7 G# Dm G7\n",
              "3   3  ...          C Eb7 G# B7 E G7 Gm C7 F Eb7 G# B7 E G7 C\n",
              "4   4  ...  Am Am Cm Cm Eb Eb Em7b5 A7 Dm Dm Bm7b5 Bm7b5 B...\n",
              "\n",
              "[5 rows x 8 columns]"
            ]
          },
          "metadata": {},
          "execution_count": 15
        }
      ]
    },
    {
      "cell_type": "markdown",
      "metadata": {
        "id": "OsPcEFbg8gu6"
      },
      "source": [
        "### Meta Data"
      ]
    },
    {
      "cell_type": "code",
      "metadata": {
        "colab": {
          "base_uri": "https://localhost:8080/",
          "height": 363
        },
        "id": "KdS8QLnJ8bI6",
        "outputId": "9a6489b1-021d-4d19-e07e-84c8e0c58fdd"
      },
      "source": [
        "titles = df.loc[:, ['id', 'tune_id', 'section_id', 'section_name', 'title', 'tune_mode']]\n",
        "titles[:10]"
      ],
      "execution_count": 16,
      "outputs": [
        {
          "output_type": "execute_result",
          "data": {
            "text/html": [
              "<div>\n",
              "<style scoped>\n",
              "    .dataframe tbody tr th:only-of-type {\n",
              "        vertical-align: middle;\n",
              "    }\n",
              "\n",
              "    .dataframe tbody tr th {\n",
              "        vertical-align: top;\n",
              "    }\n",
              "\n",
              "    .dataframe thead th {\n",
              "        text-align: right;\n",
              "    }\n",
              "</style>\n",
              "<table border=\"1\" class=\"dataframe\">\n",
              "  <thead>\n",
              "    <tr style=\"text-align: right;\">\n",
              "      <th></th>\n",
              "      <th>id</th>\n",
              "      <th>tune_id</th>\n",
              "      <th>section_id</th>\n",
              "      <th>section_name</th>\n",
              "      <th>title</th>\n",
              "      <th>tune_mode</th>\n",
              "    </tr>\n",
              "  </thead>\n",
              "  <tbody>\n",
              "    <tr>\n",
              "      <th>0</th>\n",
              "      <td>0</td>\n",
              "      <td>0</td>\n",
              "      <td>1</td>\n",
              "      <td>A</td>\n",
              "      <td>26-2</td>\n",
              "      <td>major</td>\n",
              "    </tr>\n",
              "    <tr>\n",
              "      <th>1</th>\n",
              "      <td>1</td>\n",
              "      <td>0</td>\n",
              "      <td>2</td>\n",
              "      <td>A</td>\n",
              "      <td>26-2</td>\n",
              "      <td>major</td>\n",
              "    </tr>\n",
              "    <tr>\n",
              "      <th>2</th>\n",
              "      <td>2</td>\n",
              "      <td>0</td>\n",
              "      <td>3</td>\n",
              "      <td>B</td>\n",
              "      <td>26-2</td>\n",
              "      <td>major</td>\n",
              "    </tr>\n",
              "    <tr>\n",
              "      <th>3</th>\n",
              "      <td>3</td>\n",
              "      <td>0</td>\n",
              "      <td>4</td>\n",
              "      <td>A</td>\n",
              "      <td>26-2</td>\n",
              "      <td>major</td>\n",
              "    </tr>\n",
              "    <tr>\n",
              "      <th>4</th>\n",
              "      <td>4</td>\n",
              "      <td>1</td>\n",
              "      <td>0</td>\n",
              "      <td>NaN</td>\n",
              "      <td>500 Miles High</td>\n",
              "      <td>minor</td>\n",
              "    </tr>\n",
              "    <tr>\n",
              "      <th>5</th>\n",
              "      <td>5</td>\n",
              "      <td>2</td>\n",
              "      <td>0</td>\n",
              "      <td>NaN</td>\n",
              "      <td>502 Blues</td>\n",
              "      <td>minor</td>\n",
              "    </tr>\n",
              "    <tr>\n",
              "      <th>6</th>\n",
              "      <td>6</td>\n",
              "      <td>3</td>\n",
              "      <td>1</td>\n",
              "      <td>A</td>\n",
              "      <td>52nd Street Theme</td>\n",
              "      <td>major</td>\n",
              "    </tr>\n",
              "    <tr>\n",
              "      <th>7</th>\n",
              "      <td>7</td>\n",
              "      <td>3</td>\n",
              "      <td>2</td>\n",
              "      <td>A</td>\n",
              "      <td>52nd Street Theme</td>\n",
              "      <td>major</td>\n",
              "    </tr>\n",
              "    <tr>\n",
              "      <th>8</th>\n",
              "      <td>8</td>\n",
              "      <td>3</td>\n",
              "      <td>3</td>\n",
              "      <td>B</td>\n",
              "      <td>52nd Street Theme</td>\n",
              "      <td>major</td>\n",
              "    </tr>\n",
              "    <tr>\n",
              "      <th>9</th>\n",
              "      <td>9</td>\n",
              "      <td>3</td>\n",
              "      <td>4</td>\n",
              "      <td>A</td>\n",
              "      <td>52nd Street Theme</td>\n",
              "      <td>major</td>\n",
              "    </tr>\n",
              "  </tbody>\n",
              "</table>\n",
              "</div>"
            ],
            "text/plain": [
              "   id  tune_id  section_id section_name              title tune_mode\n",
              "0   0        0           1            A               26-2     major\n",
              "1   1        0           2            A               26-2     major\n",
              "2   2        0           3            B               26-2     major\n",
              "3   3        0           4            A               26-2     major\n",
              "4   4        1           0          NaN     500 Miles High     minor\n",
              "5   5        2           0          NaN          502 Blues     minor\n",
              "6   6        3           1            A  52nd Street Theme     major\n",
              "7   7        3           2            A  52nd Street Theme     major\n",
              "8   8        3           3            B  52nd Street Theme     major\n",
              "9   9        3           4            A  52nd Street Theme     major"
            ]
          },
          "metadata": {},
          "execution_count": 16
        }
      ]
    },
    {
      "cell_type": "code",
      "metadata": {
        "id": "0vEOjvwt8jUu"
      },
      "source": [
        "titles_dict = titles.to_dict()\n",
        "\n",
        "sectionid_to_title = titles_dict['title']\n",
        "sectionid_to_titleid = titles_dict['tune_id']\n"
      ],
      "execution_count": 17,
      "outputs": []
    },
    {
      "cell_type": "code",
      "metadata": {
        "id": "Om7pbfnNGO_I"
      },
      "source": [
        "tunes = df.loc[:, ['tune_id', 'title']].drop_duplicates()\n",
        "tunes = tunes.set_index('tune_id').to_dict()\n",
        "titleid_to_title = tunes['title']"
      ],
      "execution_count": 18,
      "outputs": []
    },
    {
      "cell_type": "code",
      "metadata": {
        "id": "1H72Y3_d8uNu"
      },
      "source": [
        "titles_rows = titles.to_dict(orient='records')\n",
        "sectionid_to_section = []\n",
        "for i, row in enumerate(titles_rows):\n",
        "  name = f\"{row['title']}, section{row['section_id']} ({row['section_name']})\"\n",
        "  sectionid_to_section.append(name)\n",
        "  "
      ],
      "execution_count": 19,
      "outputs": []
    },
    {
      "cell_type": "code",
      "metadata": {
        "id": "HCeGUk818y8V"
      },
      "source": [
        "title_to_sectionid = {}\n",
        "\n",
        "for row in titles.iterrows():\n",
        "  title = row[1]['title']\n",
        "  if title not in title_to_sectionid:\n",
        "    title_to_sectionid[title] = [row[1]['id']]\n",
        "  else:\n",
        "    title_to_sectionid[title].append(row[1]['id'])"
      ],
      "execution_count": 20,
      "outputs": []
    },
    {
      "cell_type": "markdown",
      "metadata": {
        "id": "wox-dMcz84Bt"
      },
      "source": [
        "## Helpers for N-Grams"
      ]
    },
    {
      "cell_type": "code",
      "metadata": {
        "id": "2964REdr80Gd"
      },
      "source": [
        "def ngrams(tokens, n=2, sep='-'):\n",
        "    return [sep.join(ngram) for ngram in zip(*[tokens[i:] for i in range(n)])]"
      ],
      "execution_count": 21,
      "outputs": []
    },
    {
      "cell_type": "markdown",
      "metadata": {
        "id": "umfsNtAdF0jM"
      },
      "source": [
        "# Data Preparation"
      ]
    },
    {
      "cell_type": "code",
      "metadata": {
        "id": "dCLwnqoVGcMw"
      },
      "source": [
        "lines = df.loc[:, 'chords'].tolist()\n",
        "data = [line.split(' ') for line in lines]"
      ],
      "execution_count": 22,
      "outputs": []
    },
    {
      "cell_type": "code",
      "metadata": {
        "colab": {
          "base_uri": "https://localhost:8080/"
        },
        "id": "g7SmApW9F3K6",
        "outputId": "ac4d3329-3a54-430c-bb52-8683dd8f0166"
      },
      "source": [
        "processed_corpus = []\n",
        "for line in data:\n",
        "  tune_n = []\n",
        "  for n in ngrams_for_input:\n",
        "    tune_n.extend(ngrams(line, n=n))\n",
        "  processed_corpus.append(tune_n)\n",
        "\n",
        "for line in processed_corpus[:5]:\n",
        "  print(line)"
      ],
      "execution_count": 23,
      "outputs": [
        {
          "output_type": "stream",
          "name": "stdout",
          "text": [
            "['C-Eb7-G#', 'Eb7-G#-B7', 'G#-B7-E', 'B7-E-G7', 'E-G7-Gm', 'G7-Gm-C7', 'Gm-C7-F', 'C7-F-G#7', 'F-G#7-C#', 'G#7-C#-E7', 'C#-E7-Am', 'E7-Am-D7', 'Am-D7-Dm', 'D7-Dm-G7']\n",
            "['C-Eb7-G#', 'Eb7-G#-B7', 'G#-B7-E', 'B7-E-G7', 'E-G7-Gm', 'G7-Gm-C7', 'Gm-C7-F', 'C7-F-Eb7', 'F-Eb7-G#', 'Eb7-G#-B7', 'G#-B7-E', 'B7-E-G7', 'E-G7-C']\n",
            "['Gm-C7-Bm', 'C7-Bm-E7', 'Bm-E7-A', 'E7-A-C7', 'A-C7-F', 'C7-F-Bbm', 'F-Bbm-Eb7', 'Bbm-Eb7-G#', 'Eb7-G#-Dm', 'G#-Dm-G7']\n",
            "['C-Eb7-G#', 'Eb7-G#-B7', 'G#-B7-E', 'B7-E-G7', 'E-G7-Gm', 'G7-Gm-C7', 'Gm-C7-F', 'C7-F-Eb7', 'F-Eb7-G#', 'Eb7-G#-B7', 'G#-B7-E', 'B7-E-G7', 'E-G7-C']\n",
            "['Am-Am-Cm', 'Am-Cm-Cm', 'Cm-Cm-Eb', 'Cm-Eb-Eb', 'Eb-Eb-Em7b5', 'Eb-Em7b5-A7', 'Em7b5-A7-Dm', 'A7-Dm-Dm', 'Dm-Dm-Bm7b5', 'Dm-Bm7b5-Bm7b5', 'Bm7b5-Bm7b5-Bbm', 'Bm7b5-Bbm-Bbm', 'Bbm-Bbm-Fm', 'Bbm-Fm-Fm', 'Fm-Fm-E7', 'Fm-E7-E7', 'E7-E7-Fm', 'E7-Fm-Fm', 'Fm-Fm-C#', 'Fm-C#-C#', 'C#-C#-Fm', 'C#-Fm-Fm', 'Fm-Fm-C#', 'Fm-C#-C#']\n"
          ]
        }
      ]
    },
    {
      "cell_type": "markdown",
      "metadata": {
        "id": "LvQ60s_owm82"
      },
      "source": [
        "## Initialization for wandb variables"
      ]
    },
    {
      "cell_type": "code",
      "metadata": {
        "id": "fw7FHHXfwagL"
      },
      "source": [
        "recommender_results_cols = ['reference', 'id', 'method', 'similar', 'score_div_max', 'score']\n",
        "recommender_results = pd.DataFrame(columns=recommender_results_cols)"
      ],
      "execution_count": 24,
      "outputs": []
    },
    {
      "cell_type": "code",
      "metadata": {
        "id": "PfvF20G1JZMa"
      },
      "source": [
        "lsi_config = {\n",
        "    'num_topics': 200,\n",
        "}"
      ],
      "execution_count": 25,
      "outputs": []
    },
    {
      "cell_type": "code",
      "metadata": {
        "id": "eW2f6BdAJl01"
      },
      "source": [
        "doc2vec_config = {\n",
        "    'general': {\n",
        "        'chords_preprocessing': chords_preprocessing,\n",
        "        'chords_repeated': chords_repeated,\n",
        "        'document_tags': 'SectionsTunes',\n",
        "    },\n",
        "    'model': {\n",
        "        'dm': 1,\n",
        "        'vector_size': 100,\n",
        "        'window': 4,\n",
        "        'epochs': 40,\n",
        "        #'workers': 1,\n",
        "        'min_count': 1,\n",
        "        'negative': 10,\n",
        "        'sample': 0.001,\n",
        "        'seed': 42\n",
        "    }\n",
        "}"
      ],
      "execution_count": 26,
      "outputs": []
    },
    {
      "cell_type": "code",
      "metadata": {
        "colab": {
          "base_uri": "https://localhost:8080/",
          "height": 74
        },
        "id": "sxdJ97gdx70_",
        "outputId": "32e801bd-cfa4-4032-a5bf-b7f9685d7035"
      },
      "source": [
        "wandb.init(\n",
        "      # Set entity to specify your username or team name\n",
        "      # ex: entity=\"carey\",\n",
        "      # Set the project where this run will be logged\n",
        "      project=\"jazztunes\", \n",
        "      \n",
        "      # Track hyperparameters and run metadata\n",
        "      config={\n",
        "          \"input_data\": \"https://docs.google.com/uc?export=download&id=17djlZRWFSUCviOxRTOF-nwbbZqU5gUP9\",\n",
        "          \"ngrams_input\": ngrams_for_input,\n",
        "          \"comparison\": \"sections\",\n",
        "          \"lsi\": lsi_config,\n",
        "          \"doc2vec\": doc2vec_config\n",
        "      }\n",
        "  )"
      ],
      "execution_count": 27,
      "outputs": [
        {
          "output_type": "stream",
          "name": "stderr",
          "text": [
            "\u001b[34m\u001b[1mwandb\u001b[0m: Currently logged in as: \u001b[33mdoris\u001b[0m (use `wandb login --relogin` to force relogin)\n"
          ]
        },
        {
          "output_type": "display_data",
          "data": {
            "text/html": [
              "\n",
              "                    Syncing run <strong><a href=\"https://wandb.ai/doris/jazztunes/runs/1cmuhjpr\" target=\"_blank\">lyric-pond-6</a></strong> to <a href=\"https://wandb.ai/doris/jazztunes\" target=\"_blank\">Weights & Biases</a> (<a href=\"https://docs.wandb.com/integrations/jupyter.html\" target=\"_blank\">docs</a>).<br/>\n",
              "\n",
              "                "
            ],
            "text/plain": [
              "<IPython.core.display.HTML object>"
            ]
          },
          "metadata": {}
        },
        {
          "output_type": "execute_result",
          "data": {
            "text/plain": [
              "<wandb.sdk.wandb_run.Run at 0x7f01b63322d0>"
            ],
            "text/html": [
              "<button onClick=\"this.nextSibling.style.display='block';this.style.display='none';\">Display W&B run</button><iframe src=\"https://wandb.ai/doris/jazztunes/runs/1cmuhjpr?jupyter=true\" style=\"border:none;width:100%;height:420px;display:none;\"></iframe>"
            ]
          },
          "metadata": {},
          "execution_count": 27
        }
      ]
    },
    {
      "cell_type": "code",
      "metadata": {
        "colab": {
          "base_uri": "https://localhost:8080/"
        },
        "id": "xHOY4TKYVN-g",
        "outputId": "2505c422-2098-466b-ca2d-d44b17e46bc1"
      },
      "source": [
        "artifact = wandb.Artifact('input_data', type='dataset')\n",
        "artifact.add_file('data.csv')\n",
        "wandb.log_artifact(artifact)"
      ],
      "execution_count": 28,
      "outputs": [
        {
          "output_type": "execute_result",
          "data": {
            "text/plain": [
              "<wandb.sdk.wandb_artifacts.Artifact at 0x7f01b5889e90>"
            ]
          },
          "metadata": {},
          "execution_count": 28
        }
      ]
    },
    {
      "cell_type": "markdown",
      "metadata": {
        "id": "LeRGFeTn89Uc"
      },
      "source": [
        "# TF-IDF"
      ]
    },
    {
      "cell_type": "code",
      "metadata": {
        "colab": {
          "base_uri": "https://localhost:8080/"
        },
        "id": "pBdUdBNr9Gmu",
        "outputId": "e5780720-9d80-402b-f84a-4bd11448b1f7"
      },
      "source": [
        "dictionary = corpora.Dictionary(processed_corpus)\n",
        "bow_corpus = [dictionary.doc2bow(text) for text in processed_corpus]\n",
        "tfidf = TfidfModel(bow_corpus)"
      ],
      "execution_count": 29,
      "outputs": [
        {
          "output_type": "stream",
          "name": "stderr",
          "text": [
            "2021-11-21 19:26:28,855 : INFO : adding document #0 to Dictionary(0 unique tokens: [])\n",
            "2021-11-21 19:26:29,005 : INFO : built Dictionary(8108 unique tokens: ['Am-D7-Dm', 'B7-E-G7', 'C#-E7-Am', 'C-Eb7-G#', 'C7-F-G#7']...) from 5403 documents (total 71984 corpus positions)\n",
            "2021-11-21 19:26:29,008 : INFO : Dictionary lifecycle event {'msg': \"built Dictionary(8108 unique tokens: ['Am-D7-Dm', 'B7-E-G7', 'C#-E7-Am', 'C-Eb7-G#', 'C7-F-G#7']...) from 5403 documents (total 71984 corpus positions)\", 'datetime': '2021-11-21T19:26:29.007963', 'gensim': '4.1.2', 'python': '3.7.12 (default, Sep 10 2021, 00:21:48) \\n[GCC 7.5.0]', 'platform': 'Linux-5.4.104+-x86_64-with-Ubuntu-18.04-bionic', 'event': 'created'}\n",
            "2021-11-21 19:26:29,085 : INFO : collecting document frequencies\n",
            "2021-11-21 19:26:29,089 : INFO : PROGRESS: processing document #0\n",
            "2021-11-21 19:26:29,128 : INFO : TfidfModel lifecycle event {'msg': 'calculated IDF weights for 5403 documents and 8108 features (60449 matrix non-zeros)', 'datetime': '2021-11-21T19:26:29.128297', 'gensim': '4.1.2', 'python': '3.7.12 (default, Sep 10 2021, 00:21:48) \\n[GCC 7.5.0]', 'platform': 'Linux-5.4.104+-x86_64-with-Ubuntu-18.04-bionic', 'event': 'initialize'}\n"
          ]
        }
      ]
    },
    {
      "cell_type": "code",
      "metadata": {
        "id": "9NK-cuax9Kqk"
      },
      "source": [
        "# dictionary.token2id"
      ],
      "execution_count": 30,
      "outputs": []
    },
    {
      "cell_type": "code",
      "metadata": {
        "id": "til5xlce_y1m"
      },
      "source": [
        "!rm -R index\n",
        "!mkdir index"
      ],
      "execution_count": 31,
      "outputs": []
    },
    {
      "cell_type": "code",
      "metadata": {
        "colab": {
          "base_uri": "https://localhost:8080/"
        },
        "id": "tn_fz2M090IM",
        "outputId": "0a83fb56-cbcb-4348-912c-5db3bea4af7e"
      },
      "source": [
        "# Note: SparseMatrixSimilarity crashes due to lacking memory\n",
        "#from gensim.test.utils import get_tmpfile\n",
        "#index_tmpfile = get_tmpfile(\"index\")\n",
        "#index_tfidf = similarities.Similarity('/content/index/index_tfidf', bow_corpus, num_features=len(dictionary))\n",
        "\n",
        "index_tfidf = similarities.SparseMatrixSimilarity(tfidf[bow_corpus], num_features = len(dictionary))"
      ],
      "execution_count": 32,
      "outputs": [
        {
          "output_type": "stream",
          "name": "stderr",
          "text": [
            "2021-11-21 19:26:29,423 : INFO : creating sparse index\n",
            "2021-11-21 19:26:29,427 : INFO : creating sparse matrix from corpus\n",
            "2021-11-21 19:26:29,430 : INFO : PROGRESS: at document #0\n",
            "2021-11-21 19:26:29,906 : INFO : created <5403x8108 sparse matrix of type '<class 'numpy.float32'>'\n",
            "\twith 60449 stored elements in Compressed Sparse Row format>\n"
          ]
        }
      ]
    },
    {
      "cell_type": "code",
      "metadata": {
        "colab": {
          "base_uri": "https://localhost:8080/"
        },
        "id": "VRSUXNPTewqv",
        "outputId": "5cc27743-edb0-4f32-f6d6-a4bad75ade06"
      },
      "source": [
        "tfidf.save('/content/index/tfidf.model')  # save model\n",
        "index_tfidf.save('/content/index/tfidf.index') #save index"
      ],
      "execution_count": 33,
      "outputs": [
        {
          "output_type": "stream",
          "name": "stderr",
          "text": [
            "2021-11-21 19:26:29,921 : INFO : TfidfModel lifecycle event {'fname_or_handle': '/content/index/tfidf.model', 'separately': 'None', 'sep_limit': 10485760, 'ignore': frozenset(), 'datetime': '2021-11-21T19:26:29.921324', 'gensim': '4.1.2', 'python': '3.7.12 (default, Sep 10 2021, 00:21:48) \\n[GCC 7.5.0]', 'platform': 'Linux-5.4.104+-x86_64-with-Ubuntu-18.04-bionic', 'event': 'saving'}\n",
            "2021-11-21 19:26:29,953 : INFO : saved /content/index/tfidf.model\n",
            "2021-11-21 19:26:29,956 : INFO : SparseMatrixSimilarity lifecycle event {'fname_or_handle': '/content/index/tfidf.index', 'separately': 'None', 'sep_limit': 10485760, 'ignore': frozenset(), 'datetime': '2021-11-21T19:26:29.956303', 'gensim': '4.1.2', 'python': '3.7.12 (default, Sep 10 2021, 00:21:48) \\n[GCC 7.5.0]', 'platform': 'Linux-5.4.104+-x86_64-with-Ubuntu-18.04-bionic', 'event': 'saving'}\n",
            "2021-11-21 19:26:29,962 : INFO : saved /content/index/tfidf.index\n"
          ]
        }
      ]
    },
    {
      "cell_type": "markdown",
      "metadata": {
        "id": "ZLK0coIu9Tv5"
      },
      "source": [
        "## Test for single tunes"
      ]
    },
    {
      "cell_type": "code",
      "metadata": {
        "id": "Fzrj1qxwDpJT"
      },
      "source": [
        "def get_sim_scores(tunes, index, model):\n",
        "\n",
        "    df_sim = pd.DataFrame(columns=['reference_title',\n",
        "                                  'similar_title',\n",
        "                                  'ref_section', \n",
        "                                  'similar_section', \n",
        "                                  'score', \n",
        "                                  ])\n",
        "\n",
        "    for tune in tunes:\n",
        "      print()\n",
        "      print(\"-\"*50)\n",
        "      for s1 in title_to_sectionid[tune]:\n",
        "      \n",
        "          query = processed_corpus[s1]\n",
        "          query_bow = dictionary.doc2bow(query)\n",
        "\n",
        "          # perform a similarity query against the corpus\n",
        "          similarities = index[model[query_bow]]\n",
        "          sims = sorted(enumerate(similarities), key=lambda item: -item[1])\n",
        "          \n",
        "          print(s1, sectionid_to_section[s1])\n",
        "          n = 0\n",
        "          for s2, s2_score in sims:\n",
        "            \n",
        "            # store the top N best results\n",
        "            if n > 40:\n",
        "                break\n",
        "            # don't count self-similarity between sections of the same tune\n",
        "            if s2 not in title_to_sectionid[tune]:\n",
        "                n += 1\n",
        "            \n",
        "                # print(f\"\\t{s2_score:.3f} {sectionid_to_section[s2]}\")\n",
        "\n",
        "                df_sim.loc[len(df_sim)] = [tune,\n",
        "                                sectionid_to_title[s2],\n",
        "                                sectionid_to_section[s1], \n",
        "                                sectionid_to_section[s2], \n",
        "                                s2_score, \n",
        "                                ]\n",
        "    return df_sim"
      ],
      "execution_count": 34,
      "outputs": []
    },
    {
      "cell_type": "code",
      "metadata": {
        "colab": {
          "base_uri": "https://localhost:8080/"
        },
        "id": "5Wz4ZQk_EKZy",
        "outputId": "703e57dd-b562-458e-ab1c-a28a18cf9810"
      },
      "source": [
        "%%time\n",
        "df_sim = get_sim_scores(tunes_eval_list, index_tfidf, tfidf)\n",
        "df_tfidf = df_sim[:]"
      ],
      "execution_count": 35,
      "outputs": [
        {
          "output_type": "stream",
          "name": "stdout",
          "text": [
            "\n",
            "--------------------------------------------------\n",
            "125 After You've Gone, section1 (A)\n",
            "126 After You've Gone, section2 (B)\n",
            "127 After You've Gone, section3 (A)\n",
            "128 After You've Gone, section4 (C)\n",
            "\n",
            "--------------------------------------------------\n",
            "188 All God's Chillun Got Rhythm, section1 (A)\n",
            "189 All God's Chillun Got Rhythm, section2 (B)\n",
            "190 All God's Chillun Got Rhythm, section3 (A)\n",
            "191 All God's Chillun Got Rhythm, section4 (C)\n",
            "\n",
            "--------------------------------------------------\n",
            "198 All Of Me, section1 (A)\n",
            "199 All Of Me, section2 (B)\n",
            "200 All Of Me, section3 (A)\n",
            "201 All Of Me, section4 (C)\n",
            "\n",
            "--------------------------------------------------\n",
            "474 Blood Count, section1 (A)\n",
            "475 Blood Count, section2 (A)\n",
            "476 Blood Count, section3 (B)\n",
            "477 Blood Count, section4 (A)\n",
            "478 Blood Count, section5 (C)\n",
            "\n",
            "--------------------------------------------------\n",
            "496 Blue Moon, section1 (A)\n",
            "497 Blue Moon, section2 (A)\n",
            "498 Blue Moon, section3 (B)\n",
            "499 Blue Moon, section4 (A)\n",
            "\n",
            "--------------------------------------------------\n",
            "626 But Beautiful, section1 (A)\n",
            "627 But Beautiful, section2 (B)\n",
            "628 But Beautiful, section3 (A)\n",
            "629 But Beautiful, section4 (C)\n",
            "\n",
            "--------------------------------------------------\n",
            "653 Bye Bye Blackbird, section1 (A)\n",
            "654 Bye Bye Blackbird, section2 (B)\n",
            "4569 Bye Bye Blackbird, section1 (A)\n",
            "4570 Bye Bye Blackbird, section2 (B)\n",
            "4571 Bye Bye Blackbird, section3 (C)\n",
            "\n",
            "--------------------------------------------------\n",
            "676 Call Me Irresponsible, section1 (A)\n",
            "677 Call Me Irresponsible, section2 (B)\n",
            "678 Call Me Irresponsible, section3 (A)\n",
            "679 Call Me Irresponsible, section4 (B)\n",
            "\n",
            "--------------------------------------------------\n",
            "826 Corcovado, section1 (A)\n",
            "827 Corcovado, section2 (B)\n",
            "828 Corcovado, section3 (A)\n",
            "829 Corcovado, section4 (C)\n",
            "\n",
            "--------------------------------------------------\n",
            "997 Dinah, section1 (A)\n",
            "998 Dinah, section2 (A)\n",
            "999 Dinah, section3 (B)\n",
            "1000 Dinah, section4 (A)\n",
            "\n",
            "--------------------------------------------------\n",
            "1125 East Of The Sun, section1 (A)\n",
            "1126 East Of The Sun, section2 (B)\n",
            "1127 East Of The Sun, section3 (A)\n",
            "1128 East Of The Sun, section4 (C)\n",
            "\n",
            "--------------------------------------------------\n",
            "1287 Footprints, section0 (nan)\n",
            "\n",
            "--------------------------------------------------\n",
            "1379 Giant Steps, section0 (nan)\n",
            "\n",
            "--------------------------------------------------\n",
            "1538 Honeysuckle Rose, section1 (A)\n",
            "1539 Honeysuckle Rose, section2 (A)\n",
            "1540 Honeysuckle Rose, section3 (B)\n",
            "1541 Honeysuckle Rose, section4 (A)\n",
            "4793 Honeysuckle Rose, section1 (A)\n",
            "4794 Honeysuckle Rose, section2 (A)\n",
            "4795 Honeysuckle Rose, section3 (B)\n",
            "4796 Honeysuckle Rose, section4 (A)\n",
            "\n",
            "--------------------------------------------------\n",
            "1647 I Got Rhythm, section1 (A)\n",
            "1648 I Got Rhythm, section2 (A)\n",
            "1649 I Got Rhythm, section3 (B)\n",
            "1650 I Got Rhythm, section4 (A)\n",
            "4821 I Got Rhythm, section1 (A)\n",
            "4822 I Got Rhythm, section2 (A)\n",
            "4823 I Got Rhythm, section3 (B)\n",
            "4824 I Got Rhythm, section4 (A)\n",
            "\n",
            "--------------------------------------------------\n",
            "2676 Misty, section1 (A)\n",
            "2677 Misty, section2 (A)\n",
            "2678 Misty, section3 (B)\n",
            "2679 Misty, section4 (A)\n",
            "\n",
            "--------------------------------------------------\n",
            "2863 Naima, section1 (A)\n",
            "2864 Naima, section2 (A)\n",
            "2865 Naima, section3 (B)\n",
            "2866 Naima, section4 (A)\n",
            "\n",
            "--------------------------------------------------\n",
            "5056 Old Fashioned Love, section0 (nan)\n",
            "\n",
            "--------------------------------------------------\n",
            "3148 Perdido, section1 (A)\n",
            "3149 Perdido, section2 (A)\n",
            "3150 Perdido, section3 (B)\n",
            "3151 Perdido, section4 (A)\n",
            "\n",
            "--------------------------------------------------\n",
            "3282 Rockin' Chair, section1 (A)\n",
            "3283 Rockin' Chair, section2 (B)\n",
            "3284 Rockin' Chair, section3 (A)\n",
            "5122 Rockin' Chair, section1 (A)\n",
            "5123 Rockin' Chair, section2 (B)\n",
            "5124 Rockin' Chair, section3 (A)\n",
            "\n",
            "--------------------------------------------------\n",
            "3584 Sophisticated Lady, section1 (A)\n",
            "3585 Sophisticated Lady, section2 (A)\n",
            "3586 Sophisticated Lady, section3 (B)\n",
            "3587 Sophisticated Lady, section4 (A)\n",
            "\n",
            "--------------------------------------------------\n",
            "3752 Sweet Sue, Just You, section1 (A)\n",
            "3753 Sweet Sue, Just You, section2 (A)\n",
            "3754 Sweet Sue, Just You, section3 (B)\n",
            "3755 Sweet Sue, Just You, section4 (A)\n",
            "\n",
            "--------------------------------------------------\n",
            "3866 These Foolish Things, section1 (A)\n",
            "3867 These Foolish Things, section2 (A)\n",
            "3868 These Foolish Things, section3 (B)\n",
            "3869 These Foolish Things, section4 (A)\n",
            "\n",
            "--------------------------------------------------\n",
            "4152 We'll Be Together Again, section1 (A)\n",
            "4153 We'll Be Together Again, section2 (A)\n",
            "4154 We'll Be Together Again, section3 (B)\n",
            "4155 We'll Be Together Again, section4 (A)\n",
            "CPU times: user 15.3 s, sys: 354 ms, total: 15.6 s\n",
            "Wall time: 15.4 s\n"
          ]
        }
      ]
    },
    {
      "cell_type": "code",
      "metadata": {
        "colab": {
          "base_uri": "https://localhost:8080/",
          "height": 542
        },
        "id": "yzRuIKVh9c8g",
        "outputId": "252b51ae-baa3-4302-83ee-73f62609352d"
      },
      "source": [
        "import plotly.express as px\n",
        "fig = px.histogram(df_sim, x=\"score\", nbins=50, title='Scores for TF-IDF')\n",
        "fig.show()"
      ],
      "execution_count": 36,
      "outputs": [
        {
          "output_type": "display_data",
          "data": {
            "text/html": [
              "<html>\n",
              "<head><meta charset=\"utf-8\" /></head>\n",
              "<body>\n",
              "    <div>\n",
              "            <script src=\"https://cdnjs.cloudflare.com/ajax/libs/mathjax/2.7.5/MathJax.js?config=TeX-AMS-MML_SVG\"></script><script type=\"text/javascript\">if (window.MathJax) {MathJax.Hub.Config({SVG: {font: \"STIX-Web\"}});}</script>\n",
              "                <script type=\"text/javascript\">window.PlotlyConfig = {MathJaxConfig: 'local'};</script>\n",
              "        <script src=\"https://cdn.plot.ly/plotly-latest.min.js\"></script>    \n",
              "            <div id=\"7c7b800c-eed8-49d8-adcd-d443f9a422c0\" class=\"plotly-graph-div\" style=\"height:525px; width:100%;\"></div>\n",
              "            <script type=\"text/javascript\">\n",
              "                \n",
              "                    window.PLOTLYENV=window.PLOTLYENV || {};\n",
              "                    \n",
              "                if (document.getElementById(\"7c7b800c-eed8-49d8-adcd-d443f9a422c0\")) {\n",
              "                    Plotly.newPlot(\n",
              "                        '7c7b800c-eed8-49d8-adcd-d443f9a422c0',\n",
              "                        [{\"alignmentgroup\": \"True\", \"bingroup\": \"x\", \"hoverlabel\": {\"namelength\": 0}, \"hovertemplate\": \"score=%{x}<br>count=%{y}\", \"legendgroup\": \"\", \"marker\": {\"color\": \"#636efa\"}, \"name\": \"\", \"nbinsx\": 50, \"offsetgroup\": \"\", \"orientation\": \"v\", \"showlegend\": false, \"type\": \"histogram\", \"x\": [0.6839845180511475, 0.6483371257781982, 0.6483371257781982, 0.5216773152351379, 0.4673282504081726, 0.3998950719833374, 0.3983176350593567, 0.39486923813819885, 0.3897998631000519, 0.3822014033794403, 0.37704724073410034, 0.3731326162815094, 0.34523236751556396, 0.34523236751556396, 0.3272855877876282, 0.3272855877876282, 0.3249956965446472, 0.3241721987724304, 0.31859782338142395, 0.31393468379974365, 0.3114601671695709, 0.3090260624885559, 0.3041233718395233, 0.30045101046562195, 0.3000795245170593, 0.2998165786266327, 0.2985643446445465, 0.2985643446445465, 0.29674232006073, 0.2964594066143036, 0.295072078704834, 0.295072078704834, 0.295072078704834, 0.28987473249435425, 0.2896950840950012, 0.28589245676994324, 0.278621107339859, 0.26282501220703125, 0.2610347867012024, 0.25928717851638794, 0.2583922743797302, 0.6100307703018188, 0.6100307703018188, 0.6092480421066284, 0.6092480421066284, 0.46882039308547974, 0.4560509920120239, 0.4560509920120239, 0.4188442826271057, 0.4188442826271057, 0.4188442826271057, 0.41034042835235596, 0.4075765609741211, 0.40659385919570923, 0.4034428596496582, 0.3875834047794342, 0.3806553781032562, 0.3806553781032562, 0.3806553781032562, 0.3806553781032562, 0.3782781958580017, 0.3771892786026001, 0.3771892786026001, 0.3771892786026001, 0.3758412003517151, 0.3758412003517151, 0.3758412003517151, 0.37483441829681396, 0.37046754360198975, 0.36862361431121826, 0.3658992648124695, 0.3630014657974243, 0.3630014657974243, 0.3630014657974243, 0.359466552734375, 0.35572904348373413, 0.3552766740322113, 0.34105080366134644, 0.3390432894229889, 0.33508893847465515, 0.3348931670188904, 0.33265745639801025, 0.6839845180511475, 0.6483371257781982, 0.6483371257781982, 0.5216773152351379, 0.4673282504081726, 0.3998950719833374, 0.3983176350593567, 0.39486923813819885, 0.3897998631000519, 0.3822014033794403, 0.37704724073410034, 0.3731326162815094, 0.34523236751556396, 0.34523236751556396, 0.3272855877876282, 0.3272855877876282, 0.3249956965446472, 0.3241721987724304, 0.31859782338142395, 0.31393468379974365, 0.3114601671695709, 0.3090260624885559, 0.3041233718395233, 0.30045101046562195, 0.3000795245170593, 0.2998165786266327, 0.2985643446445465, 0.2985643446445465, 0.29674232006073, 0.2964594066143036, 0.295072078704834, 0.295072078704834, 0.295072078704834, 0.28987473249435425, 0.2896950840950012, 0.28589245676994324, 0.278621107339859, 0.26282501220703125, 0.2610347867012024, 0.25928717851638794, 0.2583922743797302, 0.2571934759616852, 0.25160473585128784, 0.24071598052978516, 0.24071598052978516, 0.23960652947425842, 0.23554082214832306, 0.23416776955127716, 0.23317570984363556, 0.23317570984363556, 0.22674842178821564, 0.22552615404129028, 0.22492918372154236, 0.22492918372154236, 0.21972814202308655, 0.2023925483226776, 0.20217111706733704, 0.2015555202960968, 0.2008684277534485, 0.19639821350574493, 0.18748623132705688, 0.18519312143325806, 0.18467599153518677, 0.1832401007413864, 0.18051424622535706, 0.17920002341270447, 0.17441825568675995, 0.1725858896970749, 0.17127545177936554, 0.17043006420135498, 0.16806456446647644, 0.16806456446647644, 0.16790266335010529, 0.16785988211631775, 0.1649170219898224, 0.16461758315563202, 0.16224873065948486, 0.16050413250923157, 0.15683406591415405, 0.15528273582458496, 0.15528273582458496, 0.15518207848072052, 0.8719599843025208, 0.8719599843025208, 0.8183274269104004, 0.759222686290741, 0.7386234998703003, 0.6987995505332947, 0.6980611085891724, 0.687606930732727, 0.6867852210998535, 0.6867852210998535, 0.6784173846244812, 0.6784173846244812, 0.6698343753814697, 0.6698343753814697, 0.6679415702819824, 0.6679415702819824, 0.6679415702819824, 0.6493139863014221, 0.6288080215454102, 0.6265106201171875, 0.618702232837677, 0.613543689250946, 0.6103195548057556, 0.599814236164093, 0.587888777256012, 0.5797206163406372, 0.5686724781990051, 0.5669782757759094, 0.5659877061843872, 0.5610356330871582, 0.5602699518203735, 0.5563203692436218, 0.55438631772995, 0.5527235865592957, 0.5476809740066528, 0.5476809740066528, 0.5431960225105286, 0.5431960225105286, 0.5360221862792969, 0.5335609316825867, 0.532235860824585, 0.5683561563491821, 0.5258949995040894, 0.5046412944793701, 0.48092472553253174, 0.4586731493473053, 0.4534980356693268, 0.4521077871322632, 0.4473344683647156, 0.44004830718040466, 0.4296723008155823, 0.4133802056312561, 0.39325928688049316, 0.39325928688049316, 0.39240238070487976, 0.3720955550670624, 0.364737868309021, 0.3608381748199463, 0.3594888150691986, 0.3511746823787689, 0.34951674938201904, 0.3460865318775177, 0.34598687291145325, 0.3445959985256195, 0.342350572347641, 0.342350572347641, 0.3377351462841034, 0.33514857292175293, 0.32705312967300415, 0.32625463604927063, 0.32133209705352783, 0.3183850646018982, 0.3167501986026764, 0.31419283151626587, 0.31134799122810364, 0.3070538640022278, 0.3040556311607361, 0.3039718568325043, 0.30311042070388794, 0.3012791872024536, 0.30058783292770386, 0.2974112629890442, 0.8719599843025208, 0.8719599843025208, 0.8183274269104004, 0.759222686290741, 0.7386234998703003, 0.6987995505332947, 0.6980611085891724, 0.687606930732727, 0.6867852210998535, 0.6867852210998535, 0.6784173846244812, 0.6784173846244812, 0.6698343753814697, 0.6698343753814697, 0.6679415702819824, 0.6679415702819824, 0.6679415702819824, 0.6493139863014221, 0.6288080215454102, 0.6265106201171875, 0.618702232837677, 0.613543689250946, 0.6103195548057556, 0.599814236164093, 0.587888777256012, 0.5797206163406372, 0.5686724781990051, 0.5669782757759094, 0.5659877061843872, 0.5610356330871582, 0.5602699518203735, 0.5563203692436218, 0.55438631772995, 0.5527235865592957, 0.5476809740066528, 0.5476809740066528, 0.5431960225105286, 0.5431960225105286, 0.5360221862792969, 0.5335609316825867, 0.532235860824585, 0.8679428100585938, 0.7921211123466492, 0.7471770644187927, 0.6988241076469421, 0.6245157718658447, 0.5971730947494507, 0.5481672286987305, 0.52805495262146, 0.49089422821998596, 0.48314231634140015, 0.47876518964767456, 0.4780363440513611, 0.44242435693740845, 0.42749232053756714, 0.41726234555244446, 0.4160551130771637, 0.40553754568099976, 0.3942117691040039, 0.3852784335613251, 0.3821396827697754, 0.3789063096046448, 0.3738113045692444, 0.35602161288261414, 0.3513104319572449, 0.33923402428627014, 0.33243122696876526, 0.3313539922237396, 0.3266192078590393, 0.3218868374824524, 0.3217941224575043, 0.3201119005680084, 0.3201119005680084, 0.31732359528541565, 0.3167060315608978, 0.31494733691215515, 0.3126159906387329, 0.31171369552612305, 0.31066763401031494, 0.3064756393432617, 0.30376189947128296, 0.30376189947128296, 0.7789633274078369, 0.6459721326828003, 0.4601350724697113, 0.4601350724697113, 0.45967915654182434, 0.4298650324344635, 0.42423394322395325, 0.3965819478034973, 0.38356637954711914, 0.3809480667114258, 0.37931686639785767, 0.35475409030914307, 0.35475409030914307, 0.35475409030914307, 0.35475409030914307, 0.35475409030914307, 0.35475409030914307, 0.35475409030914307, 0.35475409030914307, 0.35475409030914307, 0.35475409030914307, 0.35475409030914307, 0.35475409030914307, 0.35475409030914307, 0.35475409030914307, 0.35475409030914307, 0.35475409030914307, 0.35475409030914307, 0.35475409030914307, 0.35475409030914307, 0.35475409030914307, 0.35475409030914307, 0.35475409030914307, 0.35475409030914307, 0.35475409030914307, 0.3420361280441284, 0.34073370695114136, 0.3372795283794403, 0.3372795283794403, 0.33268430829048157, 0.32324641942977905, 0.7676811218261719, 0.7509766817092896, 0.7509766817092896, 0.7509766817092896, 0.7483768463134766, 0.6592175364494324, 0.649046003818512, 0.6416478753089905, 0.6259560585021973, 0.6153954267501831, 0.4884117841720581, 0.4742302894592285, 0.4315587878227234, 0.405430406332016, 0.3881675601005554, 0.3849722445011139, 0.3564329743385315, 0.3355872631072998, 0.3355872631072998, 0.3355872631072998, 0.32921725511550903, 0.3193497061729431, 0.3191266655921936, 0.316471129655838, 0.3162726163864136, 0.3084105849266052, 0.30632176995277405, 0.3020758628845215, 0.3020758628845215, 0.3013438880443573, 0.29939237236976624, 0.2969251275062561, 0.29637351632118225, 0.2919963002204895, 0.2908391058444977, 0.28959405422210693, 0.2873430848121643, 0.2840876579284668, 0.2806769609451294, 0.278225839138031, 0.27812227606773376, 0.7789633274078369, 0.6459721326828003, 0.4601350724697113, 0.4601350724697113, 0.45967915654182434, 0.4298650324344635, 0.42423394322395325, 0.3965819478034973, 0.38356637954711914, 0.3809480667114258, 0.37931686639785767, 0.35475409030914307, 0.35475409030914307, 0.35475409030914307, 0.35475409030914307, 0.35475409030914307, 0.35475409030914307, 0.35475409030914307, 0.35475409030914307, 0.35475409030914307, 0.35475409030914307, 0.35475409030914307, 0.35475409030914307, 0.35475409030914307, 0.35475409030914307, 0.35475409030914307, 0.35475409030914307, 0.35475409030914307, 0.35475409030914307, 0.35475409030914307, 0.35475409030914307, 0.35475409030914307, 0.35475409030914307, 0.35475409030914307, 0.35475409030914307, 0.3420361280441284, 0.34073370695114136, 0.3372795283794403, 0.3372795283794403, 0.33268430829048157, 0.32324641942977905, 0.6311022043228149, 0.6311022043228149, 0.5303972363471985, 0.5247139930725098, 0.5247139930725098, 0.5247139930725098, 0.5070927143096924, 0.5000414252281189, 0.49285104870796204, 0.49285104870796204, 0.48926231265068054, 0.46603333950042725, 0.4498407244682312, 0.4498407244682312, 0.44060587882995605, 0.4368898272514343, 0.43333765864372253, 0.4307895302772522, 0.42703837156295776, 0.42018836736679077, 0.42018836736679077, 0.42018836736679077, 0.42018836736679077, 0.4112127721309662, 0.407184362411499, 0.4055113196372986, 0.4054107964038849, 0.40532052516937256, 0.40025490522384644, 0.39321035146713257, 0.3854203224182129, 0.3787984549999237, 0.37859708070755005, 0.36626389622688293, 0.3561853766441345, 0.3553437292575836, 0.35215896368026733, 0.3495778739452362, 0.3495778739452362, 0.3451005816459656, 0.3343369960784912, 0.24604220688343048, 0.24604220688343048, 0.24465812742710114, 0.20259326696395874, 0.1982424557209015, 0.17893323302268982, 0.15634579956531525, 0.15487676858901978, 0.15378443896770477, 0.1535181701183319, 0.14832228422164917, 0.14832228422164917, 0.14494124054908752, 0.12511350214481354, 0.1158776804804802, 0.11422652006149292, 0.11391372233629227, 0.10657480359077454, 0.10045356303453445, 0.08281321078538895, 0.08182945102453232, 0.07639271765947342, 0.07551422715187073, 0.06927641481161118, 0.06927641481161118, 0.06098484992980957, 0.05397862568497658, 0.0507848858833313, 0.03927360475063324, 0.03443802893161774, 0.03375079110264778, 0.03197658061981201, 0.030720224604010582, 0.0, 0.0, 0.0, 0.0, 0.0, 0.0, 0.0, 0.0, 0.32693836092948914, 0.2580115795135498, 0.2580115795135498, 0.2576805353164673, 0.2576805353164673, 0.2565889060497284, 0.2416040301322937, 0.20856261253356934, 0.19773602485656738, 0.19535726308822632, 0.19535726308822632, 0.18648985028266907, 0.18648985028266907, 0.17516092956066132, 0.17151802778244019, 0.17151802778244019, 0.17151802778244019, 0.17151802778244019, 0.17151802778244019, 0.17151802778244019, 0.17151802778244019, 0.17151802778244019, 0.17151802778244019, 0.17151802778244019, 0.16629073023796082, 0.1639278084039688, 0.15854400396347046, 0.15711508691310883, 0.15576976537704468, 0.15457884967327118, 0.15300005674362183, 0.15178371965885162, 0.15175217390060425, 0.14966177940368652, 0.14966177940368652, 0.14670662581920624, 0.14640362560749054, 0.14640362560749054, 0.1462048441171646, 0.14575372636318207, 0.1449028104543686, 0.1217072606086731, 0.11363672465085983, 0.11363672465085983, 0.11363672465085983, 0.10499289631843567, 0.0953502357006073, 0.0851554423570633, 0.04834897071123123, 0.0, 0.0, 0.0, 0.0, 0.0, 0.0, 0.0, 0.0, 0.0, 0.0, 0.0, 0.0, 0.0, 0.0, 0.0, 0.0, 0.0, 0.0, 0.0, 0.0, 0.0, 0.0, 0.0, 0.0, 0.0, 0.0, 0.0, 0.0, 0.0, 0.0, 0.0, 0.0, 0.0, 0.32693836092948914, 0.2580115795135498, 0.2580115795135498, 0.2576805353164673, 0.2576805353164673, 0.2565889060497284, 0.2416040301322937, 0.20856261253356934, 0.19773602485656738, 0.19535726308822632, 0.19535726308822632, 0.18648985028266907, 0.18648985028266907, 0.17516092956066132, 0.17151802778244019, 0.17151802778244019, 0.17151802778244019, 0.17151802778244019, 0.17151802778244019, 0.17151802778244019, 0.17151802778244019, 0.17151802778244019, 0.17151802778244019, 0.17151802778244019, 0.16629073023796082, 0.1639278084039688, 0.15854400396347046, 0.15711508691310883, 0.15576976537704468, 0.15457884967327118, 0.15300005674362183, 0.15178371965885162, 0.15175217390060425, 0.14966177940368652, 0.14966177940368652, 0.14670662581920624, 0.14640362560749054, 0.14640362560749054, 0.1462048441171646, 0.14575372636318207, 0.1449028104543686, 0.5158600807189941, 0.4218387305736542, 0.3552241325378418, 0.30890828371047974, 0.27059516310691833, 0.26796573400497437, 0.26683682203292847, 0.23260797560214996, 0.23009932041168213, 0.23009932041168213, 0.22902493178844452, 0.21418121457099915, 0.21418121457099915, 0.21003377437591553, 0.19377833604812622, 0.19122076034545898, 0.1911296248435974, 0.1784689724445343, 0.17808151245117188, 0.17509880661964417, 0.16709476709365845, 0.15368179976940155, 0.15174202620983124, 0.1452558934688568, 0.13851484656333923, 0.1378535032272339, 0.13373684883117676, 0.12681010365486145, 0.1226075142621994, 0.12233652174472809, 0.1207253485918045, 0.11423134803771973, 0.10553546249866486, 0.10457555949687958, 0.10203243792057037, 0.09272029250860214, 0.09118138253688812, 0.08935852348804474, 0.0873270034790039, 0.08716873824596405, 0.085763119161129, 0.7526534199714661, 0.7286353707313538, 0.7286353707313538, 0.7258222103118896, 0.7138757705688477, 0.7138757705688477, 0.7138757705688477, 0.7059873342514038, 0.7059873342514038, 0.7013763785362244, 0.6814587116241455, 0.6814587116241455, 0.6784542798995972, 0.6784542798995972, 0.6720510721206665, 0.6612502336502075, 0.6496936082839966, 0.6061946153640747, 0.5980572700500488, 0.5980572700500488, 0.5974749326705933, 0.5945783853530884, 0.5921329259872437, 0.5889886617660522, 0.5858556628227234, 0.5770097374916077, 0.5747078657150269, 0.5592473149299622, 0.5554019808769226, 0.5338596701622009, 0.5330666303634644, 0.532235860824585, 0.532235860824585, 0.5274187326431274, 0.5256819128990173, 0.5250250101089478, 0.5229302644729614, 0.521925151348114, 0.5187824964523315, 0.5161163806915283, 0.5161163806915283, 0.6647648811340332, 0.5648529529571533, 0.553889811038971, 0.5493550896644592, 0.4887031316757202, 0.46894192695617676, 0.46894192695617676, 0.46865373849868774, 0.46761685609817505, 0.46761685609817505, 0.46761685609817505, 0.4624496102333069, 0.4624496102333069, 0.4616992175579071, 0.45754846930503845, 0.44841107726097107, 0.4468192458152771, 0.4468192458152771, 0.44259509444236755, 0.44259509444236755, 0.4402199685573578, 0.43314501643180847, 0.42953360080718994, 0.4131176471710205, 0.40585455298423767, 0.3922373652458191, 0.3894723653793335, 0.38825005292892456, 0.38581085205078125, 0.38342398405075073, 0.38342398405075073, 0.37997767329216003, 0.37997767329216003, 0.378510445356369, 0.37671709060668945, 0.3752618432044983, 0.37491530179977417, 0.37089860439300537, 0.36993008852005005, 0.3683483600616455, 0.3677816092967987, 0.2591920793056488, 0.2591920793056488, 0.2518051266670227, 0.24238502979278564, 0.24238502979278564, 0.24238502979278564, 0.24231429398059845, 0.24231429398059845, 0.24231429398059845, 0.23963668942451477, 0.23963668942451477, 0.2347133606672287, 0.2313377559185028, 0.22811752557754517, 0.22445136308670044, 0.22377727925777435, 0.22377727925777435, 0.22126363217830658, 0.22126363217830658, 0.21952074766159058, 0.2125958800315857, 0.20766673982143402, 0.20766673982143402, 0.20182062685489655, 0.2003582864999771, 0.19992326200008392, 0.19328387081623077, 0.19226032495498657, 0.18955819308757782, 0.18857236206531525, 0.18726791441440582, 0.1867988407611847, 0.18598027527332306, 0.18313854932785034, 0.1824501007795334, 0.18113458156585693, 0.18013973534107208, 0.17850114405155182, 0.1774412840604782, 0.17673057317733765, 0.17667770385742188, 0.7526534199714661, 0.7286353707313538, 0.7286353707313538, 0.7258222103118896, 0.7138757705688477, 0.7138757705688477, 0.7138757705688477, 0.7059873342514038, 0.7059873342514038, 0.7013763785362244, 0.6814587116241455, 0.6814587116241455, 0.6784542798995972, 0.6784542798995972, 0.6720510721206665, 0.6612502336502075, 0.6496936082839966, 0.6061946153640747, 0.5980572700500488, 0.5980572700500488, 0.5974749326705933, 0.5945783853530884, 0.5921329259872437, 0.5889886617660522, 0.5858556628227234, 0.5770097374916077, 0.5747078657150269, 0.5592473149299622, 0.5554019808769226, 0.5338596701622009, 0.5330666303634644, 0.532235860824585, 0.532235860824585, 0.5274187326431274, 0.5256819128990173, 0.5250250101089478, 0.5229302644729614, 0.521925151348114, 0.5187824964523315, 0.5161163806915283, 0.5161163806915283, 0.38703134655952454, 0.36064887046813965, 0.34557580947875977, 0.34557580947875977, 0.3437921404838562, 0.3168846070766449, 0.31251370906829834, 0.30223986506462097, 0.2907530963420868, 0.287230521440506, 0.27936840057373047, 0.2443663477897644, 0.2443663477897644, 0.24102777242660522, 0.23945648968219757, 0.2346750944852829, 0.2306000143289566, 0.22859063744544983, 0.22125928103923798, 0.21469669044017792, 0.21469669044017792, 0.2142433524131775, 0.2137308418750763, 0.204645574092865, 0.19915135204792023, 0.19676649570465088, 0.1854342222213745, 0.1847137212753296, 0.18220411241054535, 0.18220411241054535, 0.18220411241054535, 0.18220411241054535, 0.18016427755355835, 0.18016427755355835, 0.17910681664943695, 0.17599080502986908, 0.17578190565109253, 0.1748078316450119, 0.1748078316450119, 0.17320795357227325, 0.17284676432609558, 0.5689780712127686, 0.5266852378845215, 0.5266852378845215, 0.48534417152404785, 0.4636630117893219, 0.4636630117893219, 0.4509662985801697, 0.45002418756484985, 0.443519651889801, 0.4434715807437897, 0.4434715807437897, 0.44099003076553345, 0.4304761290550232, 0.4076021611690521, 0.40553078055381775, 0.4054003953933716, 0.40420299768447876, 0.40420299768447876, 0.40288597345352173, 0.3960215449333191, 0.3959885835647583, 0.39528533816337585, 0.3929007649421692, 0.38916903734207153, 0.38916903734207153, 0.38916903734207153, 0.38321632146835327, 0.380588173866272, 0.380588173866272, 0.37225255370140076, 0.36719411611557007, 0.3528653383255005, 0.35256335139274597, 0.3427160084247589, 0.3327622413635254, 0.3326547145843506, 0.3326547145843506, 0.32519441843032837, 0.32389187812805176, 0.32342004776000977, 0.3196732997894287, 0.38703134655952454, 0.36064887046813965, 0.34557580947875977, 0.34557580947875977, 0.3437921404838562, 0.3168846070766449, 0.31251370906829834, 0.30223986506462097, 0.2907530963420868, 0.287230521440506, 0.27936840057373047, 0.2443663477897644, 0.2443663477897644, 0.24102777242660522, 0.23945648968219757, 0.2346750944852829, 0.2306000143289566, 0.22859063744544983, 0.22125928103923798, 0.21469669044017792, 0.21469669044017792, 0.2142433524131775, 0.2137308418750763, 0.204645574092865, 0.19915135204792023, 0.19676649570465088, 0.1854342222213745, 0.1847137212753296, 0.18220411241054535, 0.18220411241054535, 0.18220411241054535, 0.18220411241054535, 0.18016427755355835, 0.18016427755355835, 0.17910681664943695, 0.17599080502986908, 0.17578190565109253, 0.1748078316450119, 0.1748078316450119, 0.17320795357227325, 0.17284676432609558, 0.5225112438201904, 0.3947678208351135, 0.3753485679626465, 0.3753485679626465, 0.3415372669696808, 0.336209237575531, 0.336209237575531, 0.33518755435943604, 0.32933753728866577, 0.32933753728866577, 0.3274790048599243, 0.32486021518707275, 0.3179587423801422, 0.31550124287605286, 0.3088993728160858, 0.2994750440120697, 0.29811808466911316, 0.29811808466911316, 0.2980594038963318, 0.29186028242111206, 0.2864881455898285, 0.2848549485206604, 0.2848549485206604, 0.28288060426712036, 0.28199031949043274, 0.27733367681503296, 0.27733367681503296, 0.27730387449264526, 0.27730387449264526, 0.2751392126083374, 0.2751392126083374, 0.27502456307411194, 0.27229398488998413, 0.27181556820869446, 0.268558144569397, 0.2683938145637512, 0.2683938145637512, 0.2683938145637512, 0.26075536012649536, 0.2605278789997101, 0.2560279071331024, 0.6229583621025085, 0.5607325434684753, 0.5607325434684753, 0.5607325434684753, 0.546765148639679, 0.546269416809082, 0.5310003161430359, 0.5310003161430359, 0.5142704248428345, 0.5114150643348694, 0.48627084493637085, 0.48627084493637085, 0.4683533310890198, 0.4598122835159302, 0.44694608449935913, 0.4400565028190613, 0.4400565028190613, 0.4400565028190613, 0.4340818524360657, 0.4322736859321594, 0.4311894178390503, 0.4257237911224365, 0.42407214641571045, 0.420776903629303, 0.4044087529182434, 0.40415942668914795, 0.40415942668914795, 0.40344470739364624, 0.4024852514266968, 0.4024852514266968, 0.401580274105072, 0.3993290066719055, 0.3955530524253845, 0.39324310421943665, 0.39324310421943665, 0.39324310421943665, 0.39080142974853516, 0.38826051354408264, 0.3829098343849182, 0.3804292380809784, 0.37996262311935425, 0.45457038283348083, 0.4275561273097992, 0.42162859439849854, 0.42162859439849854, 0.4157983660697937, 0.4121795892715454, 0.4121795892715454, 0.4121795892715454, 0.39409708976745605, 0.377028226852417, 0.377028226852417, 0.3525047302246094, 0.3525047302246094, 0.3510889708995819, 0.34811872243881226, 0.3453288674354553, 0.34468749165534973, 0.342560350894928, 0.3356950879096985, 0.32477468252182007, 0.31764233112335205, 0.31633567810058594, 0.31633567810058594, 0.31600436568260193, 0.31600436568260193, 0.3152328133583069, 0.3142765164375305, 0.3103533685207367, 0.3100373446941376, 0.3078592121601105, 0.30763930082321167, 0.30763930082321167, 0.30063655972480774, 0.2953736186027527, 0.2892014980316162, 0.2890677750110626, 0.2781003415584564, 0.27110689878463745, 0.2706860303878784, 0.26495280861854553, 0.25906288623809814, 0.8089170455932617, 0.7642662525177002, 0.7642662525177002, 0.6982390880584717, 0.6927042007446289, 0.6817110776901245, 0.6817110776901245, 0.6604925394058228, 0.6312814354896545, 0.6025272011756897, 0.5730332732200623, 0.5306909084320068, 0.5150288939476013, 0.5100969672203064, 0.48824530839920044, 0.48811087012290955, 0.48778200149536133, 0.47245317697525024, 0.4642605185508728, 0.4420120120048523, 0.43278101086616516, 0.4145321547985077, 0.4067962169647217, 0.3944612443447113, 0.3892156481742859, 0.38883131742477417, 0.38883131742477417, 0.3680778741836548, 0.3652677536010742, 0.36344778537750244, 0.35838475823402405, 0.3529101014137268, 0.35018134117126465, 0.34786751866340637, 0.3407713770866394, 0.3403290808200836, 0.3382258415222168, 0.3382258415222168, 0.3382258415222168, 0.33635714650154114, 0.3321038782596588, 0.4447813630104065, 0.30082470178604126, 0.2531326711177826, 0.2531326711177826, 0.19638735055923462, 0.19065889716148376, 0.16456106305122375, 0.1613503247499466, 0.15902313590049744, 0.1559232622385025, 0.15292057394981384, 0.14822237193584442, 0.14435389637947083, 0.1428767740726471, 0.1367979794740677, 0.13491767644882202, 0.13467949628829956, 0.1335623413324356, 0.1335623413324356, 0.13260839879512787, 0.13260839879512787, 0.13260839879512787, 0.1302104890346527, 0.12836122512817383, 0.12650376558303833, 0.12597225606441498, 0.12597225606441498, 0.12460464239120483, 0.12289070338010788, 0.11893311887979507, 0.11893311887979507, 0.11684086918830872, 0.11582385748624802, 0.11568322777748108, 0.11455212533473969, 0.11390294879674911, 0.11300815641880035, 0.11029072105884552, 0.10776732861995697, 0.10776732861995697, 0.1065489649772644, 0.5742658376693726, 0.43909940123558044, 0.3736054599285126, 0.3736054599285126, 0.3693816661834717, 0.3693816661834717, 0.3539334535598755, 0.3524407148361206, 0.3524407148361206, 0.3367500305175781, 0.3367500305175781, 0.3348931670188904, 0.32423603534698486, 0.2640899121761322, 0.2640899121761322, 0.2640899121761322, 0.24830657243728638, 0.2470933049917221, 0.23404370248317719, 0.22628074884414673, 0.22247539460659027, 0.22130362689495087, 0.22080256044864655, 0.22080256044864655, 0.21767424046993256, 0.21728022396564484, 0.21728022396564484, 0.214575856924057, 0.21395432949066162, 0.2123473882675171, 0.20885109901428223, 0.20814558863639832, 0.20655488967895508, 0.20392818748950958, 0.20392818748950958, 0.19930797815322876, 0.19382244348526, 0.19252131879329681, 0.19235371053218842, 0.19217872619628906, 0.19068597257137299, 0.4588071405887604, 0.4588071405887604, 0.4411155581474304, 0.4411155581474304, 0.3801276683807373, 0.3101164698600769, 0.29223644733428955, 0.2815313935279846, 0.2749558091163635, 0.2749558091163635, 0.2749558091163635, 0.2644496560096741, 0.2488040328025818, 0.24247074127197266, 0.241299569606781, 0.23863977193832397, 0.23863977193832397, 0.23863977193832397, 0.23773136734962463, 0.23773136734962463, 0.23611503839492798, 0.2353334277868271, 0.2353334277868271, 0.23089390993118286, 0.2300090491771698, 0.2298005223274231, 0.21706891059875488, 0.21706891059875488, 0.21706891059875488, 0.21706891059875488, 0.2152150720357895, 0.2152150720357895, 0.21520450711250305, 0.2114381194114685, 0.2114381194114685, 0.2109507918357849, 0.20773108303546906, 0.20419615507125854, 0.20306089520454407, 0.20122842490673065, 0.1984492987394333, 0.5395247936248779, 0.5395247936248779, 0.48450008034706116, 0.3732488751411438, 0.37176090478897095, 0.37176090478897095, 0.3706175684928894, 0.36399078369140625, 0.34697920083999634, 0.3408471345901489, 0.33392104506492615, 0.3294466435909271, 0.31985074281692505, 0.313671350479126, 0.313671350479126, 0.306896448135376, 0.3054063320159912, 0.3054063320159912, 0.3011625111103058, 0.3005855083465576, 0.2933429181575775, 0.29111745953559875, 0.28768086433410645, 0.28588107228279114, 0.2822248339653015, 0.2788783311843872, 0.2748662829399109, 0.27477598190307617, 0.2729310989379883, 0.27073368430137634, 0.2705334722995758, 0.2570035457611084, 0.2503708600997925, 0.2503708600997925, 0.2479783296585083, 0.24431756138801575, 0.24430103600025177, 0.24430103600025177, 0.24233117699623108, 0.23895682394504547, 0.23895682394504547, 0.4588071405887604, 0.4588071405887604, 0.4411155581474304, 0.4411155581474304, 0.3801276683807373, 0.3101164698600769, 0.29223644733428955, 0.2815313935279846, 0.2749558091163635, 0.2749558091163635, 0.2749558091163635, 0.2644496560096741, 0.2488040328025818, 0.24247074127197266, 0.241299569606781, 0.23863977193832397, 0.23863977193832397, 0.23863977193832397, 0.23773136734962463, 0.23773136734962463, 0.23611503839492798, 0.2353334277868271, 0.2353334277868271, 0.23089390993118286, 0.2300090491771698, 0.2298005223274231, 0.21706891059875488, 0.21706891059875488, 0.21706891059875488, 0.21706891059875488, 0.2152150720357895, 0.2152150720357895, 0.21520450711250305, 0.2114381194114685, 0.2114381194114685, 0.2109507918357849, 0.20773108303546906, 0.20419615507125854, 0.20306089520454407, 0.20122842490673065, 0.1984492987394333, 0.7002164721488953, 0.5297636389732361, 0.49610435962677, 0.4859706163406372, 0.4859706163406372, 0.48416173458099365, 0.45961302518844604, 0.45169374346733093, 0.4447498619556427, 0.4400203227996826, 0.43883752822875977, 0.41804733872413635, 0.40072306990623474, 0.3965408205986023, 0.3915855884552002, 0.38073116540908813, 0.3785725235939026, 0.3646697998046875, 0.36211782693862915, 0.36207279562950134, 0.3551865816116333, 0.3531058430671692, 0.3507322669029236, 0.347637414932251, 0.347637414932251, 0.3377186357975006, 0.3272879719734192, 0.3272879719734192, 0.3226849436759949, 0.3226849436759949, 0.3216053247451782, 0.3161489963531494, 0.3159150183200836, 0.3159150183200836, 0.3136940598487854, 0.3136940598487854, 0.3136940598487854, 0.31258606910705566, 0.3122617304325104, 0.310481458902359, 0.30734026432037354, 0.31586629152297974, 0.13068684935569763, 0.12709635496139526, 0.11928386241197586, 0.11284326016902924, 0.08623024076223373, 0.08623024076223373, 0.08623024076223373, 0.08255734294652939, 0.07040607929229736, 0.07040607929229736, 0.05046438053250313, 0.0, 0.0, 0.0, 0.0, 0.0, 0.0, 0.0, 0.0, 0.0, 0.0, 0.0, 0.0, 0.0, 0.0, 0.0, 0.0, 0.0, 0.0, 0.0, 0.0, 0.0, 0.0, 0.0, 0.0, 0.0, 0.0, 0.0, 0.0, 0.0, 0.7730515003204346, 0.4548061192035675, 0.4400356411933899, 0.4335366487503052, 0.42179441452026367, 0.42118895053863525, 0.41734009981155396, 0.4079579710960388, 0.39156675338745117, 0.39156675338745117, 0.37558507919311523, 0.3680563271045685, 0.3644014596939087, 0.3405381739139557, 0.3400084972381592, 0.3400084972381592, 0.33934468030929565, 0.33381640911102295, 0.33381640911102295, 0.33381640911102295, 0.3314180374145508, 0.3284420371055603, 0.3171696960926056, 0.31556910276412964, 0.3030126690864563, 0.30143505334854126, 0.30143505334854126, 0.3004818260669708, 0.3004818260669708, 0.2903149127960205, 0.28993338346481323, 0.2880658805370331, 0.28508469462394714, 0.2791958451271057, 0.27659904956817627, 0.2762528955936432, 0.2758042812347412, 0.2743721008300781, 0.2738918960094452, 0.2738918960094452, 0.2738918960094452, 0.31586629152297974, 0.13068684935569763, 0.12709635496139526, 0.11928386241197586, 0.11284326016902924, 0.08623024076223373, 0.08623024076223373, 0.08623024076223373, 0.08255734294652939, 0.07040607929229736, 0.07040607929229736, 0.05046438053250313, 0.0, 0.0, 0.0, 0.0, 0.0, 0.0, 0.0, 0.0, 0.0, 0.0, 0.0, 0.0, 0.0, 0.0, 0.0, 0.0, 0.0, 0.0, 0.0, 0.0, 0.0, 0.0, 0.0, 0.0, 0.0, 0.0, 0.0, 0.0, 0.0, 0.7018520832061768, 0.6996055841445923, 0.5880864858627319, 0.5363951921463013, 0.5256128907203674, 0.5254604816436768, 0.516150176525116, 0.5082630515098572, 0.5073792934417725, 0.504807710647583, 0.4993739724159241, 0.4978537857532501, 0.49580445885658264, 0.44426989555358887, 0.44426989555358887, 0.43158137798309326, 0.42867201566696167, 0.4216623604297638, 0.4216623604297638, 0.42161035537719727, 0.419064998626709, 0.4033471643924713, 0.39907339215278625, 0.3893870711326599, 0.3873784840106964, 0.3835209012031555, 0.3825348913669586, 0.3808590769767761, 0.37869977951049805, 0.3670041561126709, 0.3629368841648102, 0.3625344932079315, 0.3625344932079315, 0.3610420823097229, 0.3608938455581665, 0.3550418019294739, 0.3550418019294739, 0.3488100469112396, 0.3488100469112396, 0.3482179641723633, 0.3463059067726135, 0.7031930088996887, 0.522186279296875, 0.5162498354911804, 0.5162498354911804, 0.5162498354911804, 0.5105451345443726, 0.5105451345443726, 0.4975745379924774, 0.4950450360774994, 0.4950450360774994, 0.4901178777217865, 0.48806607723236084, 0.48806607723236084, 0.4841770529747009, 0.4841770529747009, 0.48332855105400085, 0.4829968810081482, 0.48131299018859863, 0.48131299018859863, 0.47819283604621887, 0.4671120047569275, 0.4327564835548401, 0.4313790202140808, 0.430154412984848, 0.4299781620502472, 0.42784038186073303, 0.42689841985702515, 0.425935834646225, 0.424898624420166, 0.4077126681804657, 0.4016593396663666, 0.3992879092693329, 0.3989093005657196, 0.3989093005657196, 0.39831870794296265, 0.39831870794296265, 0.39831870794296265, 0.3957786560058594, 0.3957786560058594, 0.39484402537345886, 0.39484402537345886, 0.5377734303474426, 0.5316597819328308, 0.5316597819328308, 0.5316597819328308, 0.5257849097251892, 0.5257849097251892, 0.5124270915985107, 0.5098220705986023, 0.5098220705986023, 0.5047478675842285, 0.5005107522010803, 0.49862974882125854, 0.49862974882125854, 0.49775588512420654, 0.4974142909049988, 0.49568018317222595, 0.49568018317222595, 0.49246689677238464, 0.48105525970458984, 0.44567424058914185, 0.44425565004348755, 0.44299447536468506, 0.4428129494190216, 0.44061142206192017, 0.4396412968635559, 0.438649982213974, 0.4375818073749542, 0.43217843770980835, 0.4198828637599945, 0.4136488735675812, 0.41120660305023193, 0.4108166992664337, 0.4108166992664337, 0.4075925946235657, 0.4075925946235657, 0.40663009881973267, 0.40663009881973267, 0.4053768217563629, 0.40146544575691223, 0.40146544575691223, 0.3967469036579132, 0.7142529487609863, 0.6864545941352844, 0.6864545941352844, 0.6864545941352844, 0.6864545941352844, 0.6864545941352844, 0.6864545941352844, 0.6864545941352844, 0.6421538591384888, 0.6357051134109497, 0.6357051134109497, 0.6357051134109497, 0.6329929828643799, 0.5698226690292358, 0.5627743601799011, 0.5412131547927856, 0.503075361251831, 0.5018571615219116, 0.5018571615219116, 0.5018571615219116, 0.499798446893692, 0.49469828605651855, 0.4913941025733948, 0.4882991313934326, 0.47299495339393616, 0.46965688467025757, 0.45225590467453003, 0.45018401741981506, 0.45018401741981506, 0.43690747022628784, 0.43392086029052734, 0.42940381169319153, 0.42710813879966736, 0.42275863885879517, 0.4147646427154541, 0.4088335633277893, 0.3966406583786011, 0.3959338665008545, 0.387499064207077, 0.387499064207077, 0.387499064207077, 0.5694127678871155, 0.5657469034194946, 0.5629394054412842, 0.5629394054412842, 0.5629394054412842, 0.5567188262939453, 0.5567188262939453, 0.5553543567657471, 0.5425751209259033, 0.5398168563842773, 0.5398168563842773, 0.5388187170028687, 0.5344441533088684, 0.5299577713012695, 0.5279660224914551, 0.5279660224914551, 0.5270407795906067, 0.5270252227783203, 0.5270252227783203, 0.5266790986061096, 0.5248429179191589, 0.5248429179191589, 0.5235163569450378, 0.5214405655860901, 0.5093575716018677, 0.4855480194091797, 0.4718949496746063, 0.469057559967041, 0.468865305185318, 0.46653422713279724, 0.4644574224948883, 0.4638744592666626, 0.46332642436027527, 0.46127820014953613, 0.4503026008605957, 0.4503026008605957, 0.4445861577987671, 0.44341182708740234, 0.4379854202270508, 0.43539947271347046, 0.43498659133911133, 0.50709068775177, 0.49122849106788635, 0.4892907738685608, 0.463162362575531, 0.44440537691116333, 0.44440537691116333, 0.43962761759757996, 0.431057870388031, 0.42275676131248474, 0.40212422609329224, 0.38441261649131775, 0.3758731484413147, 0.3758731484413147, 0.35585951805114746, 0.35118842124938965, 0.3501393496990204, 0.33751165866851807, 0.3287966847419739, 0.3287966847419739, 0.3272855877876282, 0.3272855877876282, 0.32394689321517944, 0.32394689321517944, 0.3216741681098938, 0.31871023774147034, 0.31241685152053833, 0.30764830112457275, 0.2928421199321747, 0.29195401072502136, 0.28808850049972534, 0.2837914228439331, 0.2805832624435425, 0.28046953678131104, 0.2778875231742859, 0.27186501026153564, 0.27186501026153564, 0.27006256580352783, 0.2689822316169739, 0.2687205970287323, 0.2687205970287323, 0.2687205970287323, 0.744832456111908, 0.46625325083732605, 0.44638490676879883, 0.4434501528739929, 0.40666794776916504, 0.40577226877212524, 0.40218961238861084, 0.3897705674171448, 0.38737863302230835, 0.3809380531311035, 0.3809380531311035, 0.3809380531311035, 0.3793759346008301, 0.3776375353336334, 0.362695574760437, 0.33126896619796753, 0.3276645541191101, 0.3213115334510803, 0.3193497061729431, 0.3150860369205475, 0.31437909603118896, 0.3100336194038391, 0.3014564514160156, 0.2876206338405609, 0.2868857979774475, 0.2860431671142578, 0.2841004729270935, 0.2671963572502136, 0.2651968002319336, 0.2651968002319336, 0.2651968002319336, 0.2644858956336975, 0.2608097195625305, 0.2564903497695923, 0.25623834133148193, 0.24969561398029327, 0.24022135138511658, 0.2285199761390686, 0.2265888750553131, 0.2210475504398346, 0.22083085775375366, 0.50709068775177, 0.49122849106788635, 0.4892907738685608, 0.463162362575531, 0.44440537691116333, 0.44440537691116333, 0.43962761759757996, 0.431057870388031, 0.42275676131248474, 0.40212422609329224, 0.38441261649131775, 0.3758731484413147, 0.3758731484413147, 0.35585951805114746, 0.35118842124938965, 0.3501393496990204, 0.33751165866851807, 0.3287966847419739, 0.3287966847419739, 0.3272855877876282, 0.3272855877876282, 0.32394689321517944, 0.32394689321517944, 0.3216741681098938, 0.31871023774147034, 0.31241685152053833, 0.30764830112457275, 0.2928421199321747, 0.29195401072502136, 0.28808850049972534, 0.2837914228439331, 0.2805832624435425, 0.28046953678131104, 0.2778875231742859, 0.27186501026153564, 0.27186501026153564, 0.27006256580352783, 0.2689822316169739, 0.2687205970287323, 0.2687205970287323, 0.2687205970287323, 0.5492260456085205, 0.36987778544425964, 0.33193129301071167, 0.32009607553482056, 0.3124608099460602, 0.2895636558532715, 0.2785189747810364, 0.2785189747810364, 0.2785189747810364, 0.2689008116722107, 0.2683113217353821, 0.26610639691352844, 0.2609947621822357, 0.2530983090400696, 0.24555306136608124, 0.23969152569770813, 0.23969152569770813, 0.23949450254440308, 0.23284654319286346, 0.22615300118923187, 0.22529195249080658, 0.22491931915283203, 0.22457778453826904, 0.22232145071029663, 0.22131668031215668, 0.21939456462860107, 0.21816954016685486, 0.20875173807144165, 0.20148001611232758, 0.20091736316680908, 0.19898702204227448, 0.198883056640625, 0.19594228267669678, 0.19313926994800568, 0.1920059770345688, 0.18955029547214508, 0.18521542847156525, 0.18508514761924744, 0.1848728060722351, 0.1848728060722351, 0.18404893577098846, 0.8064192533493042, 0.8064192533493042, 0.8064192533493042, 0.8064192533493042, 0.8064192533493042, 0.8064192533493042, 0.8064192533493042, 0.8064192533493042, 0.8064192533493042, 0.8064192533493042, 0.8064192533493042, 0.8064192533493042, 0.8064192533493042, 0.8064192533493042, 0.8064192533493042, 0.8064192533493042, 0.8064192533493042, 0.8064192533493042, 0.8064192533493042, 0.8064192533493042, 0.8064192533493042, 0.8064192533493042, 0.8064192533493042, 0.8064192533493042, 0.7887937426567078, 0.7885468602180481, 0.7566953301429749, 0.7566953301429749, 0.7566953301429749, 0.7290797829627991, 0.6817440986633301, 0.6703122854232788, 0.6703122854232788, 0.6633105278015137, 0.6508802771568298, 0.647031843662262, 0.6158549785614014, 0.614000678062439, 0.614000678062439, 0.6112171411514282, 0.6032538414001465, 0.3437983989715576, 0.3437983989715576, 0.3400347828865051, 0.3223724663257599, 0.2854727506637573, 0.2842068076133728, 0.28169408440589905, 0.2811746895313263, 0.2769187092781067, 0.2769187092781067, 0.27394822239875793, 0.2660289406776428, 0.26364627480506897, 0.26141560077667236, 0.2596387565135956, 0.2593027353286743, 0.24562710523605347, 0.24109768867492676, 0.2396179586648941, 0.23255014419555664, 0.23255014419555664, 0.2275412380695343, 0.22549760341644287, 0.22549760341644287, 0.22230565547943115, 0.22084005177021027, 0.2144765704870224, 0.21391995251178741, 0.210384801030159, 0.20023028552532196, 0.20023028552532196, 0.19020241498947144, 0.1756105273962021, 0.17386633157730103, 0.17101189494132996, 0.16483469307422638, 0.15429851412773132, 0.15403586626052856, 0.15210524201393127, 0.15166763961315155, 0.15134485065937042, 0.8247661590576172, 0.7899567484855652, 0.7899567484855652, 0.7899567484855652, 0.758630633354187, 0.7536980509757996, 0.7536980509757996, 0.7536980509757996, 0.7350487112998962, 0.7314069271087646, 0.7292656898498535, 0.6981116533279419, 0.6807022094726562, 0.6761840581893921, 0.6686330437660217, 0.6561328172683716, 0.634973406791687, 0.6324998140335083, 0.6214182376861572, 0.6202470064163208, 0.6120264530181885, 0.6067826747894287, 0.603085994720459, 0.6013787984848022, 0.6013787984848022, 0.6013787984848022, 0.6013787984848022, 0.5922524333000183, 0.5922524333000183, 0.5860775709152222, 0.5830168724060059, 0.5782900452613831, 0.5782900452613831, 0.5733327269554138, 0.5630155801773071, 0.5626028776168823, 0.542238712310791, 0.542153537273407, 0.5305886268615723, 0.5305886268615723, 0.517116367816925, 0.8489831686019897, 0.8489831686019897, 0.8489831686019897, 0.8253175616264343, 0.8253175616264343, 0.8253175616264343, 0.8153163194656372, 0.7949542999267578, 0.726709246635437, 0.7051597833633423, 0.6926878690719604, 0.6824191808700562, 0.6778683662414551, 0.6665924787521362, 0.6557852029800415, 0.6481491923332214, 0.6384961605072021, 0.6215004920959473, 0.6215004920959473, 0.605156421661377, 0.6050847172737122, 0.6046411395072937, 0.6023406982421875, 0.6023406982421875, 0.5999715328216553, 0.5871289968490601, 0.5871289968490601, 0.5871289968490601, 0.5860977172851562, 0.5831939578056335, 0.5827553272247314, 0.5726568102836609, 0.5723034143447876, 0.5557558536529541, 0.5557558536529541, 0.5451976656913757, 0.5451976656913757, 0.5451976656913757, 0.5348580479621887, 0.5319510698318481, 0.5319510698318481, 1.0, 1.0, 1.0, 1.0, 1.0, 1.0, 1.0, 1.0, 1.0, 0.8650765419006348, 0.8650765419006348, 0.8650765419006348, 0.8110589981079102, 0.7311080694198608, 0.6926707625389099, 0.6361710429191589, 0.6361710429191589, 0.6361710429191589, 0.6076708436012268, 0.5996043086051941, 0.5996043086051941, 0.5624416470527649, 0.5416826009750366, 0.5263386368751526, 0.46493494510650635, 0.4500586986541748, 0.44234082102775574, 0.4402045011520386, 0.3762965202331543, 0.3729515075683594, 0.3690500259399414, 0.3650825023651123, 0.356040894985199, 0.34943142533302307, 0.3360796570777893, 0.3263682723045349, 0.3263682723045349, 0.3263682723045349, 0.3263682723045349, 0.31666645407676697, 0.31029564142227173, 0.8247661590576172, 0.7899567484855652, 0.7899567484855652, 0.7899567484855652, 0.758630633354187, 0.7536980509757996, 0.7536980509757996, 0.7536980509757996, 0.7350487112998962, 0.7314069271087646, 0.7292656898498535, 0.6981116533279419, 0.6807022094726562, 0.6761840581893921, 0.6686330437660217, 0.6561328172683716, 0.634973406791687, 0.6324998140335083, 0.6214182376861572, 0.6202470064163208, 0.6120264530181885, 0.6067826747894287, 0.603085994720459, 0.6013787984848022, 0.6013787984848022, 0.6013787984848022, 0.6013787984848022, 0.5922524333000183, 0.5922524333000183, 0.5860775709152222, 0.5830168724060059, 0.5782900452613831, 0.5782900452613831, 0.5733327269554138, 0.5630155801773071, 0.5626028776168823, 0.542238712310791, 0.542153537273407, 0.5305886268615723, 0.5305886268615723, 0.517116367816925, 0.8247661590576172, 0.7899567484855652, 0.7899567484855652, 0.7899567484855652, 0.758630633354187, 0.7536980509757996, 0.7536980509757996, 0.7536980509757996, 0.7350487112998962, 0.7314069271087646, 0.7292656898498535, 0.6981116533279419, 0.6807022094726562, 0.6761840581893921, 0.6686330437660217, 0.6561328172683716, 0.634973406791687, 0.6324998140335083, 0.6214182376861572, 0.6202470064163208, 0.6120264530181885, 0.6067826747894287, 0.603085994720459, 0.6013787984848022, 0.6013787984848022, 0.6013787984848022, 0.6013787984848022, 0.5922524333000183, 0.5922524333000183, 0.5860775709152222, 0.5830168724060059, 0.5782900452613831, 0.5782900452613831, 0.5733327269554138, 0.5630155801773071, 0.5626028776168823, 0.542238712310791, 0.542153537273407, 0.5305886268615723, 0.5305886268615723, 0.517116367816925, 0.8489831686019897, 0.8489831686019897, 0.8489831686019897, 0.8253175616264343, 0.8253175616264343, 0.8253175616264343, 0.8153163194656372, 0.7949542999267578, 0.726709246635437, 0.7051597833633423, 0.6926878690719604, 0.6824191808700562, 0.6778683662414551, 0.6665924787521362, 0.6557852029800415, 0.6481491923332214, 0.6384961605072021, 0.6215004920959473, 0.6215004920959473, 0.605156421661377, 0.6050847172737122, 0.6046411395072937, 0.6023406982421875, 0.6023406982421875, 0.5999715328216553, 0.5871289968490601, 0.5871289968490601, 0.5871289968490601, 0.5860977172851562, 0.5831939578056335, 0.5827553272247314, 0.5726568102836609, 0.5723034143447876, 0.5557558536529541, 0.5557558536529541, 0.5451976656913757, 0.5451976656913757, 0.5451976656913757, 0.5348580479621887, 0.5319510698318481, 0.5319510698318481, 1.0, 1.0, 1.0, 1.0, 1.0, 1.0, 1.0, 1.0, 1.0, 0.8650765419006348, 0.8650765419006348, 0.8650765419006348, 0.8110589981079102, 0.7311080694198608, 0.6926707625389099, 0.6361710429191589, 0.6361710429191589, 0.6361710429191589, 0.6076708436012268, 0.5996043086051941, 0.5996043086051941, 0.5624416470527649, 0.5416826009750366, 0.5263386368751526, 0.46493494510650635, 0.4500586986541748, 0.44234082102775574, 0.4402045011520386, 0.3762965202331543, 0.3729515075683594, 0.3690500259399414, 0.3650825023651123, 0.356040894985199, 0.34943142533302307, 0.3360796570777893, 0.3263682723045349, 0.3263682723045349, 0.3263682723045349, 0.3263682723045349, 0.31666645407676697, 0.31029564142227173, 0.8247661590576172, 0.7899567484855652, 0.7899567484855652, 0.7899567484855652, 0.758630633354187, 0.7536980509757996, 0.7536980509757996, 0.7536980509757996, 0.7350487112998962, 0.7314069271087646, 0.7292656898498535, 0.6981116533279419, 0.6807022094726562, 0.6761840581893921, 0.6686330437660217, 0.6561328172683716, 0.634973406791687, 0.6324998140335083, 0.6214182376861572, 0.6202470064163208, 0.6120264530181885, 0.6067826747894287, 0.603085994720459, 0.6013787984848022, 0.6013787984848022, 0.6013787984848022, 0.6013787984848022, 0.5922524333000183, 0.5922524333000183, 0.5860775709152222, 0.5830168724060059, 0.5782900452613831, 0.5782900452613831, 0.5733327269554138, 0.5630155801773071, 0.5626028776168823, 0.542238712310791, 0.542153537273407, 0.5305886268615723, 0.5305886268615723, 0.517116367816925, 0.4946010708808899, 0.4946010708808899, 0.47673261165618896, 0.47673261165618896, 0.4690853953361511, 0.4550774395465851, 0.4544256627559662, 0.43639275431632996, 0.42746588587760925, 0.42746588587760925, 0.4239588975906372, 0.42349475622177124, 0.41645658016204834, 0.41645658016204834, 0.4142424166202545, 0.4129444658756256, 0.40907788276672363, 0.3986790180206299, 0.39443811774253845, 0.38086628913879395, 0.38034769892692566, 0.38034769892692566, 0.3774663507938385, 0.372836709022522, 0.3654620051383972, 0.3654620051383972, 0.3654620051383972, 0.36536598205566406, 0.36536598205566406, 0.36536598205566406, 0.35449326038360596, 0.35449326038360596, 0.349513977766037, 0.349513977766037, 0.34907233715057373, 0.34907233715057373, 0.33293288946151733, 0.33293288946151733, 0.33293288946151733, 0.32622256875038147, 0.3195832073688507, 0.503710925579071, 0.503710925579071, 0.4855134189128876, 0.4855134189128876, 0.4777252972126007, 0.463459312915802, 0.46279555559158325, 0.44443053007125854, 0.43176761269569397, 0.4312949776649475, 0.42412716150283813, 0.42412716150283813, 0.42187219858169556, 0.41661256551742554, 0.40602216124534607, 0.3871888518333435, 0.3871888518333435, 0.3844187259674072, 0.3797038793563843, 0.378725528717041, 0.3721933364868164, 0.3721933364868164, 0.3721933364868164, 0.3610225319862366, 0.3610225319862366, 0.3559515178203583, 0.3559515178203583, 0.35570627450942993, 0.35550177097320557, 0.35550177097320557, 0.34930554032325745, 0.3487411141395569, 0.3487411141395569, 0.3390650749206543, 0.3390650749206543, 0.3390650749206543, 0.3322311341762543, 0.3314991593360901, 0.3314991593360901, 0.3314991593360901, 0.3254694938659668, 0.9999999403953552, 0.9999999403953552, 0.9999999403953552, 0.9999999403953552, 0.9999999403953552, 0.9999999403953552, 0.9999999403953552, 0.9999999403953552, 0.9999999403953552, 0.9999999403953552, 0.9999999403953552, 0.9999999403953552, 0.9999999403953552, 0.9999999403953552, 0.9999999403953552, 0.9999999403953552, 0.9999999403953552, 0.9999999403953552, 0.9999999403953552, 0.9999999403953552, 0.9999999403953552, 0.9999999403953552, 0.848258912563324, 0.848258912563324, 0.8223407864570618, 0.8145934343338013, 0.7380948066711426, 0.7269574999809265, 0.6631920337677002, 0.5900091528892517, 0.5739843845367432, 0.5739843845367432, 0.5414232611656189, 0.5379271507263184, 0.5184714794158936, 0.5023096203804016, 0.49647989869117737, 0.4947487711906433, 0.4890570640563965, 0.4732253849506378, 0.450814425945282, 0.4807882010936737, 0.4543910026550293, 0.4543910026550293, 0.4490053057670593, 0.440185546875, 0.440185546875, 0.4297661781311035, 0.4239104986190796, 0.4239104986190796, 0.421781450510025, 0.4188746511936188, 0.4112478494644165, 0.39906856417655945, 0.39599981904029846, 0.38690948486328125, 0.3852667212486267, 0.3852667212486267, 0.38497787714004517, 0.37722253799438477, 0.3769022822380066, 0.3740088939666748, 0.3706384301185608, 0.3706384301185608, 0.36963626742362976, 0.36963626742362976, 0.36806830763816833, 0.36625874042510986, 0.36625874042510986, 0.36625874042510986, 0.3660998046398163, 0.3620995283126831, 0.3523510694503784, 0.3523510694503784, 0.33610817790031433, 0.33610817790031433, 0.3329940140247345, 0.33198583126068115, 0.3252542018890381, 0.3252542018890381, 0.3252542018890381, 0.3249008059501648, 0.4946010708808899, 0.4946010708808899, 0.47673261165618896, 0.47673261165618896, 0.4690853953361511, 0.4550774395465851, 0.4544256627559662, 0.43639275431632996, 0.42746588587760925, 0.42746588587760925, 0.4239588975906372, 0.42349475622177124, 0.41645658016204834, 0.41645658016204834, 0.4142424166202545, 0.4129444658756256, 0.40907788276672363, 0.3986790180206299, 0.39443811774253845, 0.38086628913879395, 0.38034769892692566, 0.38034769892692566, 0.3774663507938385, 0.372836709022522, 0.3654620051383972, 0.3654620051383972, 0.3654620051383972, 0.36536598205566406, 0.36536598205566406, 0.36536598205566406, 0.35449326038360596, 0.35449326038360596, 0.349513977766037, 0.349513977766037, 0.34907233715057373, 0.34907233715057373, 0.33293288946151733, 0.33293288946151733, 0.33293288946151733, 0.32622256875038147, 0.3195832073688507, 0.503710925579071, 0.503710925579071, 0.4855134189128876, 0.4855134189128876, 0.4777252972126007, 0.463459312915802, 0.46279555559158325, 0.44443053007125854, 0.43176761269569397, 0.4312949776649475, 0.42412716150283813, 0.42412716150283813, 0.42187219858169556, 0.41661256551742554, 0.40602216124534607, 0.3871888518333435, 0.3871888518333435, 0.3844187259674072, 0.3797038793563843, 0.378725528717041, 0.3721933364868164, 0.3721933364868164, 0.3721933364868164, 0.3610225319862366, 0.3610225319862366, 0.3559515178203583, 0.3559515178203583, 0.35570627450942993, 0.35550177097320557, 0.35550177097320557, 0.34930554032325745, 0.3487411141395569, 0.3487411141395569, 0.3390650749206543, 0.3390650749206543, 0.3390650749206543, 0.3322311341762543, 0.3314991593360901, 0.3314991593360901, 0.3314991593360901, 0.3254694938659668, 0.9999999403953552, 0.9999999403953552, 0.9999999403953552, 0.9999999403953552, 0.9999999403953552, 0.9999999403953552, 0.9999999403953552, 0.9999999403953552, 0.9999999403953552, 0.9999999403953552, 0.9999999403953552, 0.9999999403953552, 0.9999999403953552, 0.9999999403953552, 0.9999999403953552, 0.9999999403953552, 0.9999999403953552, 0.9999999403953552, 0.9999999403953552, 0.9999999403953552, 0.9999999403953552, 0.9999999403953552, 0.848258912563324, 0.848258912563324, 0.8223407864570618, 0.8145934343338013, 0.7380948066711426, 0.7269574999809265, 0.6631920337677002, 0.5900091528892517, 0.5739843845367432, 0.5739843845367432, 0.5414232611656189, 0.5379271507263184, 0.5184714794158936, 0.5023096203804016, 0.49647989869117737, 0.4947487711906433, 0.4890570640563965, 0.4732253849506378, 0.450814425945282, 0.4807882010936737, 0.4543910026550293, 0.4543910026550293, 0.4490053057670593, 0.440185546875, 0.440185546875, 0.4297661781311035, 0.4239104986190796, 0.4239104986190796, 0.421781450510025, 0.4188746511936188, 0.4112478494644165, 0.39906856417655945, 0.39599981904029846, 0.38690948486328125, 0.3852667212486267, 0.3852667212486267, 0.38497787714004517, 0.37722253799438477, 0.3769022822380066, 0.3740088939666748, 0.3706384301185608, 0.3706384301185608, 0.36963626742362976, 0.36963626742362976, 0.36806830763816833, 0.36625874042510986, 0.36625874042510986, 0.36625874042510986, 0.3660998046398163, 0.3620995283126831, 0.3523510694503784, 0.3523510694503784, 0.33610817790031433, 0.33610817790031433, 0.3329940140247345, 0.33198583126068115, 0.3252542018890381, 0.3252542018890381, 0.3252542018890381, 0.3249008059501648, 0.6550269722938538, 0.5347342491149902, 0.5168120861053467, 0.49793097376823425, 0.49793097376823425, 0.4734340310096741, 0.46324703097343445, 0.4570413827896118, 0.448039174079895, 0.4463261365890503, 0.44504454731941223, 0.4371799826622009, 0.42978474497795105, 0.4291183352470398, 0.42611703276634216, 0.4207301735877991, 0.4153830111026764, 0.4130837917327881, 0.4108006954193115, 0.40974462032318115, 0.40974462032318115, 0.40945369005203247, 0.4049859046936035, 0.40379753708839417, 0.3994411528110504, 0.39725297689437866, 0.3906441330909729, 0.38683363795280457, 0.3836853504180908, 0.37545281648635864, 0.37545281648635864, 0.37232980132102966, 0.3688959777355194, 0.364831805229187, 0.3629392683506012, 0.3629392683506012, 0.3619556128978729, 0.35994285345077515, 0.35524463653564453, 0.35524463653564453, 0.3546895980834961, 0.5651233196258545, 0.5444771647453308, 0.5444771647453308, 0.5338964462280273, 0.5175444483757019, 0.4699151813983917, 0.4674680233001709, 0.4516984820365906, 0.44284364581108093, 0.4361312985420227, 0.42716121673583984, 0.426464706659317, 0.4161873459815979, 0.4104039669036865, 0.3989354372024536, 0.3989354372024536, 0.3960896134376526, 0.3894864320755005, 0.3878456950187683, 0.3796055018901825, 0.36881962418556213, 0.3686447739601135, 0.3640647530555725, 0.3640647530555725, 0.3557700514793396, 0.34863805770874023, 0.3457241952419281, 0.3440684676170349, 0.34116533398628235, 0.33628618717193604, 0.33523622155189514, 0.33455902338027954, 0.332522451877594, 0.332522451877594, 0.3318710923194885, 0.33157283067703247, 0.3241721987724304, 0.3241721987724304, 0.3226253390312195, 0.32142654061317444, 0.31918400526046753, 0.19197586178779602, 0.17453190684318542, 0.1461866796016693, 0.14070826768875122, 0.1337900012731552, 0.12178961932659149, 0.11355961114168167, 0.11355961114168167, 0.11263742297887802, 0.1072421669960022, 0.1072421669960022, 0.09942558407783508, 0.09846307337284088, 0.09782597422599792, 0.09782597422599792, 0.09782597422599792, 0.09658119082450867, 0.09474406391382217, 0.09419857710599899, 0.09419857710599899, 0.09419857710599899, 0.09089503437280655, 0.09089503437280655, 0.09089503437280655, 0.08945606648921967, 0.08945606648921967, 0.08894671499729156, 0.0887840986251831, 0.0887840986251831, 0.08846549689769745, 0.08846549689769745, 0.08801428228616714, 0.08789592236280441, 0.08782228082418442, 0.08651474863290787, 0.08651474863290787, 0.08615542948246002, 0.0861431360244751, 0.08491294085979462, 0.08256294578313828, 0.08024223148822784, 0.6339724063873291, 0.6339724063873291, 0.5634773969650269, 0.5387194156646729, 0.5089515447616577, 0.5081222057342529, 0.5028477907180786, 0.49336349964141846, 0.44562676548957825, 0.4305940568447113, 0.42215293645858765, 0.4140012860298157, 0.4115743041038513, 0.4072032570838928, 0.4065392315387726, 0.39122891426086426, 0.387701153755188, 0.3845776319503784, 0.3845776319503784, 0.3802962303161621, 0.3802962303161621, 0.3775833547115326, 0.37394678592681885, 0.3712886869907379, 0.3697246313095093, 0.364837110042572, 0.3633798658847809, 0.362784206867218, 0.3618694543838501, 0.3515874743461609, 0.3514207899570465, 0.3483341932296753, 0.34705474972724915, 0.34705474972724915, 0.34529584646224976, 0.34522154927253723, 0.3391476273536682, 0.3372669816017151, 0.33424484729766846, 0.33424484729766846, 0.3323488235473633, 0.15088024735450745, 0.0, 0.0, 0.0, 0.0, 0.0, 0.0, 0.0, 0.0, 0.0, 0.0, 0.0, 0.0, 0.0, 0.0, 0.0, 0.0, 0.0, 0.0, 0.0, 0.0, 0.0, 0.0, 0.0, 0.0, 0.0, 0.0, 0.0, 0.0, 0.0, 0.0, 0.0, 0.0, 0.0, 0.0, 0.0, 0.0, 0.0, 0.0, 0.0, 0.0, 0.15088024735450745, 0.0, 0.0, 0.0, 0.0, 0.0, 0.0, 0.0, 0.0, 0.0, 0.0, 0.0, 0.0, 0.0, 0.0, 0.0, 0.0, 0.0, 0.0, 0.0, 0.0, 0.0, 0.0, 0.0, 0.0, 0.0, 0.0, 0.0, 0.0, 0.0, 0.0, 0.0, 0.0, 0.0, 0.0, 0.0, 0.0, 0.0, 0.0, 0.0, 0.0, 0.14499099552631378, 0.0, 0.0, 0.0, 0.0, 0.0, 0.0, 0.0, 0.0, 0.0, 0.0, 0.0, 0.0, 0.0, 0.0, 0.0, 0.0, 0.0, 0.0, 0.0, 0.0, 0.0, 0.0, 0.0, 0.0, 0.0, 0.0, 0.0, 0.0, 0.0, 0.0, 0.0, 0.0, 0.0, 0.0, 0.0, 0.0, 0.0, 0.0, 0.0, 0.0, 0.29018712043762207, 0.29018712043762207, 0.29018712043762207, 0.2732544243335724, 0.24939444661140442, 0.2135181427001953, 0.20901906490325928, 0.2016516923904419, 0.19890539348125458, 0.16770820319652557, 0.15858100354671478, 0.15779328346252441, 0.14354383945465088, 0.12888532876968384, 0.12888532876968384, 0.12396356463432312, 0.117435984313488, 0.11304423213005066, 0.10965023934841156, 0.10785683244466782, 0.10217016935348511, 0.09950906038284302, 0.09885600209236145, 0.0982179343700409, 0.0887073203921318, 0.08668018132448196, 0.08657781034708023, 0.08627097308635712, 0.08412621915340424, 0.08408254384994507, 0.08408254384994507, 0.084058977663517, 0.08350536972284317, 0.08309268951416016, 0.08289629220962524, 0.08288789540529251, 0.08226378262042999, 0.08101513981819153, 0.08101513981819153, 0.08101513981819153, 0.08083342760801315, 0.5691344738006592, 0.5101041793823242, 0.5101041793823242, 0.4563344717025757, 0.45549526810646057, 0.4310501217842102, 0.4121207296848297, 0.4054965376853943, 0.40063124895095825, 0.3894169330596924, 0.3894169330596924, 0.3884629011154175, 0.3881289064884186, 0.3881289064884186, 0.36923909187316895, 0.36923909187316895, 0.35725900530815125, 0.35634174942970276, 0.3554005026817322, 0.3554005026817322, 0.3406780958175659, 0.3316768705844879, 0.33082854747772217, 0.33082854747772217, 0.33082854747772217, 0.33082854747772217, 0.3296419084072113, 0.3295838534832001, 0.3275613486766815, 0.3255699872970581, 0.32350465655326843, 0.32350465655326843, 0.3191322088241577, 0.3191322088241577, 0.30927765369415283, 0.30845907330513, 0.30791833996772766, 0.30777066946029663, 0.30647045373916626, 0.3058136999607086, 0.3058136999607086, 0.9277697801589966, 0.8795771598815918, 0.8460137844085693, 0.7933058738708496, 0.6862483620643616, 0.6819273233413696, 0.6819273233413696, 0.6413127183914185, 0.6413127183914185, 0.6167025566101074, 0.5414952635765076, 0.5222370624542236, 0.5087032318115234, 0.49882739782333374, 0.49882739782333374, 0.47746312618255615, 0.47729480266571045, 0.4716700315475464, 0.4677448868751526, 0.4657342731952667, 0.4569340646266937, 0.4460815191268921, 0.42333465814590454, 0.41612496972084045, 0.4129149317741394, 0.40944600105285645, 0.3982411324977875, 0.39646780490875244, 0.39594873785972595, 0.39594873785972595, 0.38393503427505493, 0.38242053985595703, 0.3664407730102539, 0.35762739181518555, 0.35687071084976196, 0.35433822870254517, 0.34475070238113403, 0.33987900614738464, 0.33493417501449585, 0.33493417501449585, 0.32855507731437683, 0.8895167112350464, 0.8760209679603577, 0.874924898147583, 0.8316123485565186, 0.6791702508926392, 0.6791702508926392, 0.6683197021484375, 0.59428870677948, 0.59428870677948, 0.5516278743743896, 0.5393059849739075, 0.5098468065261841, 0.5066465139389038, 0.49654078483581543, 0.45934736728668213, 0.44450509548187256, 0.4431692957878113, 0.43344762921333313, 0.4318673014640808, 0.4318673014640808, 0.43079209327697754, 0.43079209327697754, 0.42923033237457275, 0.4265519380569458, 0.42044195532798767, 0.41688209772109985, 0.4152376651763916, 0.41337084770202637, 0.4077906012535095, 0.4002252221107483, 0.3990108072757721, 0.39486485719680786, 0.38457003235816956, 0.38457003235816956, 0.38028112053871155, 0.38028112053871155, 0.3698810935020447, 0.36904022097587585, 0.36459270119667053, 0.3636763095855713, 0.3636763095855713, 0.9999999403953552, 0.9999999403953552, 0.9999999403953552, 0.9999999403953552, 0.9999999403953552, 0.9999999403953552, 0.9999999403953552, 0.9999999403953552, 0.9999999403953552, 0.9999999403953552, 0.9999999403953552, 0.9999999403953552, 0.9999999403953552, 0.9999999403953552, 0.9999999403953552, 0.9999999403953552, 0.9999999403953552, 0.9999999403953552, 0.9999999403953552, 0.9999999403953552, 0.9999999403953552, 0.9999999403953552, 0.9999999403953552, 0.848258912563324, 0.848258912563324, 0.8223407864570618, 0.8145934343338013, 0.7380948066711426, 0.7269574999809265, 0.6631920337677002, 0.5900091528892517, 0.5739843845367432, 0.5739843845367432, 0.5414232611656189, 0.5379271507263184, 0.5184714794158936, 0.5023096203804016, 0.49647989869117737, 0.4947487711906433, 0.4890570640563965, 0.4732253849506378, 0.9277697801589966, 0.8795771598815918, 0.8460137844085693, 0.7933058738708496, 0.6862483620643616, 0.6819273233413696, 0.6819273233413696, 0.6413127183914185, 0.6413127183914185, 0.6167025566101074, 0.5414952635765076, 0.5222370624542236, 0.5087032318115234, 0.49882739782333374, 0.49882739782333374, 0.47746312618255615, 0.47729480266571045, 0.4716700315475464, 0.4677448868751526, 0.4657342731952667, 0.4569340646266937, 0.4460815191268921, 0.42333465814590454, 0.41612496972084045, 0.4129149317741394, 0.40944600105285645, 0.3982411324977875, 0.39646780490875244, 0.39594873785972595, 0.39594873785972595, 0.38393503427505493, 0.38242053985595703, 0.3664407730102539, 0.35762739181518555, 0.35687071084976196, 0.35433822870254517, 0.34475070238113403, 0.33987900614738464, 0.33493417501449585, 0.33493417501449585, 0.32855507731437683, 0.42363399267196655, 0.42077910900115967, 0.39278990030288696, 0.37102973461151123, 0.32144641876220703, 0.30666297674179077, 0.29761746525764465, 0.28960028290748596, 0.2776727080345154, 0.2746688723564148, 0.27386072278022766, 0.27020734548568726, 0.26386937499046326, 0.26386937499046326, 0.2589524984359741, 0.2546629309654236, 0.2546629309654236, 0.2546629309654236, 0.24900346994400024, 0.2465156465768814, 0.2465156465768814, 0.2440406084060669, 0.23938992619514465, 0.23580342531204224, 0.23508067429065704, 0.2340335100889206, 0.23206450045108795, 0.23193535208702087, 0.23052898049354553, 0.22773447632789612, 0.22655975818634033, 0.2260606586933136, 0.2238330841064453, 0.2224143147468567, 0.22036433219909668, 0.22005164623260498, 0.21736812591552734, 0.21493209898471832, 0.20943613350391388, 0.2069595456123352, 0.20583143830299377, 0.41402357816696167, 0.359745055437088, 0.35459062457084656, 0.3084504008293152, 0.29609042406082153, 0.2613002061843872, 0.24658186733722687, 0.2383025586605072, 0.23550167679786682, 0.23344504833221436, 0.22613847255706787, 0.22514775395393372, 0.207577645778656, 0.20370452105998993, 0.20327302813529968, 0.19855177402496338, 0.1974281221628189, 0.19301460683345795, 0.18753710389137268, 0.1861690729856491, 0.1861690729856491, 0.1813933402299881, 0.17293429374694824, 0.17026476562023163, 0.16680796444416046, 0.16638609766960144, 0.16564886271953583, 0.15483446419239044, 0.15129289031028748, 0.14803263545036316, 0.14803263545036316, 0.14781643450260162, 0.14631453156471252, 0.14631453156471252, 0.14604316651821136, 0.14172875881195068, 0.14172875881195068, 0.14172875881195068, 0.140349343419075, 0.13638822734355927, 0.13377141952514648, 0.7389421463012695, 0.564243495464325, 0.5240361094474792, 0.5172017812728882, 0.5056676864624023, 0.5056676864624023, 0.49652308225631714, 0.4594155550003052, 0.4539363384246826, 0.4539363384246826, 0.4539363384246826, 0.4445062279701233, 0.44346147775650024, 0.4335564076900482, 0.411843478679657, 0.411843478679657, 0.4096120297908783, 0.40580055117607117, 0.39648857712745667, 0.39512330293655396, 0.39245694875717163, 0.3922120928764343, 0.3873614966869354, 0.3873614966869354, 0.37859606742858887, 0.3710247278213501, 0.3680018186569214, 0.36091646552085876, 0.3594343960285187, 0.35559356212615967, 0.3547493815422058, 0.3547493815422058, 0.351190447807312, 0.3408511281013489, 0.3408511281013489, 0.3384231925010681, 0.3384231925010681, 0.3373650908470154, 0.33295464515686035, 0.32344040274620056, 0.31380102038383484, 0.21799945831298828, 0.2041286826133728, 0.2038867324590683, 0.20132356882095337, 0.20132356882095337, 0.18663379549980164, 0.17757177352905273, 0.15650615096092224, 0.1519499123096466, 0.15081650018692017, 0.15081650018692017, 0.14599336683750153, 0.14140784740447998, 0.13440033793449402, 0.1318313330411911, 0.12249952554702759, 0.12066604197025299, 0.11680059880018234, 0.11680059880018234, 0.11222085356712341, 0.10842786729335785, 0.10781888663768768, 0.10629863291978836, 0.10610661655664444, 0.10403211414813995, 0.10174041986465454, 0.10048297047615051, 0.09906723350286484, 0.09906723350286484, 0.09836053103208542, 0.09794850647449493, 0.09759177267551422, 0.09694939851760864, 0.09653953462839127, 0.0964263528585434, 0.09599123150110245, 0.09396671503782272, 0.09318879246711731, 0.09227194637060165, 0.09084466099739075, 0.09065812826156616, 0.41961947083473206, 0.30867278575897217, 0.24803300201892853, 0.23970498144626617, 0.2368876188993454, 0.2274693101644516, 0.20879924297332764, 0.20490331947803497, 0.20221301913261414, 0.19972024857997894, 0.1985899806022644, 0.19815915822982788, 0.19415050745010376, 0.18726468086242676, 0.18726468086242676, 0.1787097007036209, 0.16778963804244995, 0.16662372648715973, 0.15574567019939423, 0.147175595164299, 0.147175595164299, 0.1469026356935501, 0.14511582255363464, 0.1425628364086151, 0.1425628364086151, 0.1425628364086151, 0.13351872563362122, 0.13275253772735596, 0.13231495022773743, 0.13231495022773743, 0.13231495022773743, 0.1321629285812378, 0.13172779977321625, 0.12712031602859497, 0.12688705325126648, 0.12426432967185974, 0.12251921743154526, 0.12251921743154526, 0.11953854560852051, 0.11533825844526291, 0.11420740932226181, 0.6277296543121338, 0.6277296543121338, 0.618306040763855, 0.43835145235061646, 0.42003142833709717, 0.38287830352783203, 0.38083189725875854, 0.3780234456062317, 0.3780234456062317, 0.3780234456062317, 0.3743796646595001, 0.37225520610809326, 0.3655017912387848, 0.3607785701751709, 0.357662558555603, 0.35674935579299927, 0.3555639386177063, 0.33759957551956177, 0.3331044912338257, 0.32926130294799805, 0.3250883221626282, 0.3246120810508728, 0.3191884756088257, 0.3150843679904938, 0.30640172958374023, 0.30640172958374023, 0.30362972617149353, 0.30362972617149353, 0.2952798902988434, 0.29229605197906494, 0.2896829843521118, 0.2896829843521118, 0.2896829843521118, 0.27827101945877075, 0.27492478489875793, 0.272766649723053, 0.2693718671798706, 0.2664709985256195, 0.2656325101852417, 0.2623457610607147, 0.2603684961795807, 0.381001353263855, 0.381001353263855, 0.377028226852417, 0.3435211777687073, 0.326494038105011, 0.3160419166088104, 0.3020404577255249, 0.2932435870170593, 0.2919665277004242, 0.2868436574935913, 0.2779688835144043, 0.27458202838897705, 0.2692510485649109, 0.26401999592781067, 0.2628205120563507, 0.25675714015960693, 0.2542279362678528, 0.25238439440727234, 0.2510465383529663, 0.24680596590042114, 0.2434338927268982, 0.2434338927268982, 0.2434338927268982, 0.2434338927268982, 0.24299365282058716, 0.2424788475036621, 0.24136117100715637, 0.23642313480377197, 0.23642313480377197, 0.23523905873298645, 0.2344510853290558, 0.2344510853290558, 0.2304089069366455, 0.2303829789161682, 0.2303829789161682, 0.22624608874320984, 0.22624608874320984, 0.22624608874320984, 0.22412969172000885, 0.22360217571258545, 0.22199037671089172, 0.32303446531295776, 0.32303446531295776, 0.2912566661834717, 0.2768200635910034, 0.25608694553375244, 0.24862848222255707, 0.24754568934440613, 0.24320225417613983, 0.23567768931388855, 0.23280614614486694, 0.2282862663269043, 0.22385108470916748, 0.21769320964813232, 0.20925603806972504, 0.20602372288703918, 0.20045287907123566, 0.20045287907123566, 0.19944892823696136, 0.1987808644771576, 0.1987808644771576, 0.19533169269561768, 0.19533169269561768, 0.18958255648612976, 0.18952053785324097, 0.18778833746910095, 0.1825905293226242, 0.18114247918128967, 0.17921803891658783, 0.1766122579574585, 0.1753895878791809, 0.17477205395698547, 0.17206215858459473, 0.1718122810125351, 0.1718122810125351, 0.16893665492534637, 0.16893665492534637, 0.1681491881608963, 0.16774535179138184, 0.16774535179138184, 0.16580964624881744, 0.16573509573936462, 0.22891929745674133, 0.19580668210983276, 0.18831518292427063, 0.14140604436397552, 0.13855265080928802, 0.12055309861898422, 0.11600067466497421, 0.11600067466497421, 0.11600067466497421, 0.11576171219348907, 0.11504797637462616, 0.11276352405548096, 0.10781404376029968, 0.10519836843013763, 0.10519836843013763, 0.1050572544336319, 0.10385620594024658, 0.10382712632417679, 0.086218923330307, 0.08500158786773682, 0.08206460624933243, 0.08206460624933243, 0.0805332139134407, 0.08017594367265701, 0.07756069302558899, 0.07662370055913925, 0.07538329809904099, 0.07407709956169128, 0.06785568594932556, 0.06694541871547699, 0.06350044161081314, 0.062463898211717606, 0.0615159347653389, 0.06136571988463402, 0.057073209434747696, 0.053153153508901596, 0.0521184466779232, 0.045171432197093964, 0.04250611364841461, 0.041547805070877075, 0.034840039908885956, 0.381001353263855, 0.381001353263855, 0.377028226852417, 0.3435211777687073, 0.326494038105011, 0.3160419166088104, 0.3020404577255249, 0.2932435870170593, 0.2919665277004242, 0.2868436574935913, 0.2779688835144043, 0.27458202838897705, 0.2692510485649109, 0.26401999592781067, 0.2628205120563507, 0.25675714015960693, 0.2542279362678528, 0.25238439440727234, 0.2510465383529663, 0.24680596590042114, 0.2434338927268982, 0.2434338927268982, 0.2434338927268982, 0.2434338927268982, 0.24299365282058716, 0.2424788475036621, 0.24136117100715637, 0.23642313480377197, 0.23642313480377197, 0.23523905873298645, 0.2344510853290558, 0.2344510853290558, 0.2304089069366455, 0.2303829789161682, 0.2303829789161682, 0.22624608874320984, 0.22624608874320984, 0.22624608874320984, 0.22412969172000885, 0.22360217571258545, 0.22199037671089172, 0.9409307241439819, 0.9409307241439819, 0.8859024047851562, 0.8723505139350891, 0.8420433402061462, 0.8387061357498169, 0.816594660282135, 0.7498102784156799, 0.7498102784156799, 0.7498102784156799, 0.7498102784156799, 0.7498102784156799, 0.7498102784156799, 0.7498102784156799, 0.7498102784156799, 0.7498102784156799, 0.7498102784156799, 0.7409192323684692, 0.7197115421295166, 0.705538272857666, 0.7041445970535278, 0.7017441391944885, 0.7017441391944885, 0.6762586832046509, 0.663827121257782, 0.6615079641342163, 0.6391509175300598, 0.6371787786483765, 0.6368772387504578, 0.6334588527679443, 0.6331422328948975, 0.6266372203826904, 0.6158721446990967, 0.6158721446990967, 0.6158721446990967, 0.6086655259132385, 0.6086655259132385, 0.6086655259132385, 0.607464611530304, 0.5991539359092712, 0.5959922671318054, 0.9409307241439819, 0.9409307241439819, 0.8859024047851562, 0.8723505139350891, 0.8420433402061462, 0.8387061357498169, 0.816594660282135, 0.7498102784156799, 0.7498102784156799, 0.7498102784156799, 0.7498102784156799, 0.7498102784156799, 0.7498102784156799, 0.7498102784156799, 0.7498102784156799, 0.7498102784156799, 0.7498102784156799, 0.7409192323684692, 0.7197115421295166, 0.705538272857666, 0.7041445970535278, 0.7017441391944885, 0.7017441391944885, 0.6762586832046509, 0.663827121257782, 0.6615079641342163, 0.6391509175300598, 0.6371787786483765, 0.6368772387504578, 0.6334588527679443, 0.6331422328948975, 0.6266372203826904, 0.6158721446990967, 0.6158721446990967, 0.6158721446990967, 0.6086655259132385, 0.6086655259132385, 0.6086655259132385, 0.607464611530304, 0.5991539359092712, 0.5959922671318054, 0.8412847518920898, 0.30082470178604126, 0.2753068804740906, 0.2753068804740906, 0.26967853307724, 0.2638908624649048, 0.2638908624649048, 0.25928032398223877, 0.25928032398223877, 0.25330081582069397, 0.25330081582069397, 0.24869704246520996, 0.21767424046993256, 0.18749183416366577, 0.18112963438034058, 0.16288523375988007, 0.15971006453037262, 0.15848854184150696, 0.15663446485996246, 0.15182214975357056, 0.14634671807289124, 0.13819432258605957, 0.13582897186279297, 0.13582897186279297, 0.13582897186279297, 0.13337282836437225, 0.13147863745689392, 0.12957608699798584, 0.12903165817260742, 0.12903165817260742, 0.12587526440620422, 0.1218215674161911, 0.1218215674161911, 0.1184927448630333, 0.11666923016309738, 0.11575271189212799, 0.11517536640167236, 0.1129692792892456, 0.11038459837436676, 0.11038459837436676, 0.10913664102554321, 0.9409307241439819, 0.9409307241439819, 0.8859024047851562, 0.8723505139350891, 0.8420433402061462, 0.8387061357498169, 0.816594660282135, 0.7498102784156799, 0.7498102784156799, 0.7498102784156799, 0.7498102784156799, 0.7498102784156799, 0.7498102784156799, 0.7498102784156799, 0.7498102784156799, 0.7498102784156799, 0.7498102784156799, 0.7409192323684692, 0.7197115421295166, 0.705538272857666, 0.7041445970535278, 0.7017441391944885, 0.7017441391944885, 0.6762586832046509, 0.663827121257782, 0.6615079641342163, 0.6391509175300598, 0.6371787786483765, 0.6368772387504578, 0.6334588527679443, 0.6331422328948975, 0.6266372203826904, 0.6158721446990967, 0.6158721446990967, 0.6158721446990967, 0.6086655259132385, 0.6086655259132385, 0.6086655259132385, 0.607464611530304, 0.5991539359092712, 0.5959922671318054, 0.648097038269043, 0.5855304002761841, 0.5534502267837524, 0.53107088804245, 0.53107088804245, 0.5295702815055847, 0.5295702815055847, 0.5295702815055847, 0.5237184166908264, 0.5237184166908264, 0.5181679725646973, 0.5101128220558167, 0.5060172080993652, 0.5060172080993652, 0.5012333989143372, 0.5012333989143372, 0.5004037618637085, 0.4985436201095581, 0.490531325340271, 0.47894173860549927, 0.459625244140625, 0.45126640796661377, 0.44471678137779236, 0.4442039430141449, 0.44107258319854736, 0.4396883547306061, 0.4392690658569336, 0.43422290682792664, 0.43422290682792664, 0.4249793589115143, 0.4245868921279907, 0.42197737097740173, 0.42197737097740173, 0.42003801465034485, 0.4189411997795105, 0.4171499013900757, 0.4131959080696106, 0.4050547182559967, 0.40083518624305725, 0.40083518624305725, 0.4003743529319763, 0.6054784059524536, 0.5598307847976685, 0.5447172522544861, 0.5148731470108032, 0.49405375123023987, 0.49405375123023987, 0.49265772104263306, 0.49265772104263306, 0.49265772104263306, 0.48721376061439514, 0.48721376061439514, 0.48205021023750305, 0.4806400537490845, 0.474556565284729, 0.47074639797210693, 0.47074639797210693, 0.46629607677459717, 0.46629607677459717, 0.46552419662475586, 0.4637937545776367, 0.45633992552757263, 0.4455581307411194, 0.44247421622276306, 0.43469104170799255, 0.43469104170799255, 0.4275880753993988, 0.41981184482574463, 0.4193929135799408, 0.4132416844367981, 0.41032859683036804, 0.4090408384799957, 0.40865078568458557, 0.3953571319580078, 0.39499199390411377, 0.3925643861293793, 0.3925643861293793, 0.390760213136673, 0.3880733847618103, 0.3843950033187866, 0.37682127952575684, 0.37246713042259216, 0.4248597025871277, 0.40746182203292847, 0.3838156461715698, 0.3838156461715698, 0.37977302074432373, 0.3564773499965668, 0.3297765254974365, 0.3043921887874603, 0.28532159328460693, 0.27285218238830566, 0.25389745831489563, 0.2258596122264862, 0.2194058746099472, 0.21135947108268738, 0.20847134292125702, 0.20242106914520264, 0.19207732379436493, 0.19176682829856873, 0.19099445641040802, 0.18325914442539215, 0.18321992456912994, 0.18321992456912994, 0.18321992456912994, 0.18095222115516663, 0.1779206097126007, 0.17100247740745544, 0.16831356287002563, 0.16800208389759064, 0.16557636857032776, 0.16035133600234985, 0.15890218317508698, 0.15378516912460327, 0.1484435647726059, 0.14764489233493805, 0.14713984727859497, 0.14469467103481293, 0.14273324608802795, 0.1400042623281479, 0.1378314346075058, 0.13753777742385864, 0.1372358798980713, 0.5978946685791016, 0.5817536115646362, 0.54988032579422, 0.5463669300079346, 0.5463669300079346, 0.5276453495025635, 0.5276453495025635, 0.5261543989181519, 0.5261543989181519, 0.5261543989181519, 0.5203403234481812, 0.5203403234481812, 0.5148256421089172, 0.5068225860595703, 0.5027533173561096, 0.5027533173561096, 0.5004117488861084, 0.4980003237724304, 0.4980003237724304, 0.49717602133750916, 0.4953279197216034, 0.48736733198165894, 0.47585248947143555, 0.4748207926750183, 0.47412610054016113, 0.4725588262081146, 0.4632628858089447, 0.45666050910949707, 0.4541957974433899, 0.44835567474365234, 0.4479081928730011, 0.4413387179374695, 0.4382275938987732, 0.4368523061275482, 0.4364356994628906, 0.42479631304740906, 0.42223817110061646, 0.42184823751449585, 0.4192555546760559, 0.4192555546760559, 0.41732871532440186, 0.23753473162651062, 0.23158228397369385, 0.22351649403572083, 0.2149336338043213, 0.1742967963218689, 0.17398713529109955, 0.17068417370319366, 0.1655796766281128, 0.15885576605796814, 0.15568788349628448, 0.15043017268180847, 0.1407015323638916, 0.13290594518184662, 0.13051317632198334, 0.13051317632198334, 0.1270553171634674, 0.1261291801929474, 0.12227796763181686, 0.09975388646125793, 0.0963825210928917, 0.09187103062868118, 0.09081881493330002, 0.09066928923130035, 0.08882950246334076, 0.08820600062608719, 0.08475317060947418, 0.08455999940633774, 0.08370600640773773, 0.08292899280786514, 0.08126397430896759, 0.07830020785331726, 0.0779600515961647, 0.07686233520507812, 0.07588499039411545, 0.07529561966657639, 0.07461296766996384, 0.0743798092007637, 0.0743798092007637, 0.07379576563835144, 0.07370544224977493, 0.07365406304597855, 0.26154184341430664, 0.25498783588409424, 0.24610686302185059, 0.2366565465927124, 0.19191262125968933, 0.1915716528892517, 0.18793487548828125, 0.18231448531150818, 0.1749109923839569, 0.17142294347286224, 0.16563384234905243, 0.15811754763126373, 0.15731775760650635, 0.15492196381092072, 0.14633849263191223, 0.1437038779258728, 0.1437038779258728, 0.14213478565216064, 0.13989654183387756, 0.1388767957687378, 0.13491766154766083, 0.13463635742664337, 0.10983581095933914, 0.10612370073795319, 0.10565286129713058, 0.10115624219179153, 0.09999768435955048, 0.09983304142951965, 0.09780731797218323, 0.09712079912424088, 0.09331899881362915, 0.09310630708932877, 0.0921659991145134, 0.09177473187446594, 0.09131044894456863, 0.0912778377532959, 0.0912778377532959, 0.09096674621105194, 0.08947715908288956, 0.08684040606021881, 0.0862138420343399, 0.3077434301376343, 0.3056032359600067, 0.18592572212219238, 0.1504911631345749, 0.1504911631345749, 0.14997826516628265, 0.13921505212783813, 0.1388087272644043, 0.1388087272644043, 0.1384919434785843, 0.13808812201023102, 0.11609145253896713, 0.1085442304611206, 0.1085442304611206, 0.1085442304611206, 0.09452538192272186, 0.09433524310588837, 0.09433524310588837, 0.0908801406621933, 0.09018075466156006, 0.09018075466156006, 0.0896601527929306, 0.0800737515091896, 0.06551270931959152, 0.06194775551557541, 0.05321099981665611, 0.05254224315285683, 0.051176268607378006, 0.050133123993873596, 0.04952336102724075, 0.04952336102724075, 0.04913449287414551, 0.04904014617204666, 0.04904014617204666, 0.048513248562812805, 0.04718993604183197, 0.045834869146347046, 0.045721933245658875, 0.045307449996471405, 0.04517946019768715, 0.044977568089962006, 0.26154184341430664, 0.25498783588409424, 0.24610686302185059, 0.2366565465927124, 0.19191262125968933, 0.1915716528892517, 0.18793487548828125, 0.18231448531150818, 0.1749109923839569, 0.17142294347286224, 0.16563384234905243, 0.15811754763126373, 0.15731775760650635, 0.15492196381092072, 0.14633849263191223, 0.1437038779258728, 0.1437038779258728, 0.14213478565216064, 0.13989654183387756, 0.1388767957687378, 0.13491766154766083, 0.13463635742664337, 0.10983581095933914, 0.10612370073795319, 0.10565286129713058, 0.10115624219179153, 0.09999768435955048, 0.09983304142951965, 0.09780731797218323, 0.09712079912424088, 0.09331899881362915, 0.09310630708932877, 0.0921659991145134, 0.09177473187446594, 0.09131044894456863, 0.0912778377532959, 0.0912778377532959, 0.09096674621105194, 0.08947715908288956, 0.08684040606021881, 0.0862138420343399], \"xaxis\": \"x\", \"yaxis\": \"y\"}],\n",
              "                        {\"barmode\": \"relative\", \"legend\": {\"tracegroupgap\": 0}, \"template\": {\"data\": {\"bar\": [{\"error_x\": {\"color\": \"#2a3f5f\"}, \"error_y\": {\"color\": \"#2a3f5f\"}, \"marker\": {\"line\": {\"color\": \"#E5ECF6\", \"width\": 0.5}}, \"type\": \"bar\"}], \"barpolar\": [{\"marker\": {\"line\": {\"color\": \"#E5ECF6\", \"width\": 0.5}}, \"type\": \"barpolar\"}], \"carpet\": [{\"aaxis\": {\"endlinecolor\": \"#2a3f5f\", \"gridcolor\": \"white\", \"linecolor\": \"white\", \"minorgridcolor\": \"white\", \"startlinecolor\": \"#2a3f5f\"}, \"baxis\": {\"endlinecolor\": \"#2a3f5f\", \"gridcolor\": \"white\", \"linecolor\": \"white\", \"minorgridcolor\": \"white\", \"startlinecolor\": \"#2a3f5f\"}, \"type\": \"carpet\"}], \"choropleth\": [{\"colorbar\": {\"outlinewidth\": 0, \"ticks\": \"\"}, \"type\": \"choropleth\"}], \"contour\": [{\"colorbar\": {\"outlinewidth\": 0, \"ticks\": \"\"}, \"colorscale\": [[0.0, \"#0d0887\"], [0.1111111111111111, \"#46039f\"], [0.2222222222222222, \"#7201a8\"], [0.3333333333333333, \"#9c179e\"], [0.4444444444444444, \"#bd3786\"], [0.5555555555555556, \"#d8576b\"], [0.6666666666666666, \"#ed7953\"], [0.7777777777777778, \"#fb9f3a\"], [0.8888888888888888, \"#fdca26\"], [1.0, \"#f0f921\"]], \"type\": \"contour\"}], \"contourcarpet\": [{\"colorbar\": {\"outlinewidth\": 0, \"ticks\": \"\"}, \"type\": \"contourcarpet\"}], \"heatmap\": [{\"colorbar\": {\"outlinewidth\": 0, \"ticks\": \"\"}, \"colorscale\": [[0.0, \"#0d0887\"], [0.1111111111111111, \"#46039f\"], [0.2222222222222222, \"#7201a8\"], [0.3333333333333333, \"#9c179e\"], [0.4444444444444444, \"#bd3786\"], [0.5555555555555556, \"#d8576b\"], [0.6666666666666666, \"#ed7953\"], [0.7777777777777778, \"#fb9f3a\"], [0.8888888888888888, \"#fdca26\"], [1.0, \"#f0f921\"]], \"type\": \"heatmap\"}], \"heatmapgl\": [{\"colorbar\": {\"outlinewidth\": 0, \"ticks\": \"\"}, \"colorscale\": [[0.0, \"#0d0887\"], [0.1111111111111111, \"#46039f\"], [0.2222222222222222, \"#7201a8\"], [0.3333333333333333, \"#9c179e\"], [0.4444444444444444, \"#bd3786\"], [0.5555555555555556, \"#d8576b\"], [0.6666666666666666, \"#ed7953\"], [0.7777777777777778, \"#fb9f3a\"], [0.8888888888888888, \"#fdca26\"], [1.0, \"#f0f921\"]], \"type\": \"heatmapgl\"}], \"histogram\": [{\"marker\": {\"colorbar\": {\"outlinewidth\": 0, \"ticks\": \"\"}}, \"type\": \"histogram\"}], \"histogram2d\": [{\"colorbar\": {\"outlinewidth\": 0, \"ticks\": \"\"}, \"colorscale\": [[0.0, \"#0d0887\"], [0.1111111111111111, \"#46039f\"], [0.2222222222222222, \"#7201a8\"], [0.3333333333333333, \"#9c179e\"], [0.4444444444444444, \"#bd3786\"], [0.5555555555555556, \"#d8576b\"], [0.6666666666666666, \"#ed7953\"], [0.7777777777777778, \"#fb9f3a\"], [0.8888888888888888, \"#fdca26\"], [1.0, \"#f0f921\"]], \"type\": \"histogram2d\"}], \"histogram2dcontour\": [{\"colorbar\": {\"outlinewidth\": 0, \"ticks\": \"\"}, \"colorscale\": [[0.0, \"#0d0887\"], [0.1111111111111111, \"#46039f\"], [0.2222222222222222, \"#7201a8\"], [0.3333333333333333, \"#9c179e\"], [0.4444444444444444, \"#bd3786\"], [0.5555555555555556, \"#d8576b\"], [0.6666666666666666, \"#ed7953\"], [0.7777777777777778, \"#fb9f3a\"], [0.8888888888888888, \"#fdca26\"], [1.0, \"#f0f921\"]], \"type\": \"histogram2dcontour\"}], \"mesh3d\": [{\"colorbar\": {\"outlinewidth\": 0, \"ticks\": \"\"}, \"type\": \"mesh3d\"}], \"parcoords\": [{\"line\": {\"colorbar\": {\"outlinewidth\": 0, \"ticks\": \"\"}}, \"type\": \"parcoords\"}], \"pie\": [{\"automargin\": true, \"type\": \"pie\"}], \"scatter\": [{\"marker\": {\"colorbar\": {\"outlinewidth\": 0, \"ticks\": \"\"}}, \"type\": \"scatter\"}], \"scatter3d\": [{\"line\": {\"colorbar\": {\"outlinewidth\": 0, \"ticks\": \"\"}}, \"marker\": {\"colorbar\": {\"outlinewidth\": 0, \"ticks\": \"\"}}, \"type\": \"scatter3d\"}], \"scattercarpet\": [{\"marker\": {\"colorbar\": {\"outlinewidth\": 0, \"ticks\": \"\"}}, \"type\": \"scattercarpet\"}], \"scattergeo\": [{\"marker\": {\"colorbar\": {\"outlinewidth\": 0, \"ticks\": \"\"}}, \"type\": \"scattergeo\"}], \"scattergl\": [{\"marker\": {\"colorbar\": {\"outlinewidth\": 0, \"ticks\": \"\"}}, \"type\": \"scattergl\"}], \"scattermapbox\": [{\"marker\": {\"colorbar\": {\"outlinewidth\": 0, \"ticks\": \"\"}}, \"type\": \"scattermapbox\"}], \"scatterpolar\": [{\"marker\": {\"colorbar\": {\"outlinewidth\": 0, \"ticks\": \"\"}}, \"type\": \"scatterpolar\"}], \"scatterpolargl\": [{\"marker\": {\"colorbar\": {\"outlinewidth\": 0, \"ticks\": \"\"}}, \"type\": \"scatterpolargl\"}], \"scatterternary\": [{\"marker\": {\"colorbar\": {\"outlinewidth\": 0, \"ticks\": \"\"}}, \"type\": \"scatterternary\"}], \"surface\": [{\"colorbar\": {\"outlinewidth\": 0, \"ticks\": \"\"}, \"colorscale\": [[0.0, \"#0d0887\"], [0.1111111111111111, \"#46039f\"], [0.2222222222222222, \"#7201a8\"], [0.3333333333333333, \"#9c179e\"], [0.4444444444444444, \"#bd3786\"], [0.5555555555555556, \"#d8576b\"], [0.6666666666666666, \"#ed7953\"], [0.7777777777777778, \"#fb9f3a\"], [0.8888888888888888, \"#fdca26\"], [1.0, \"#f0f921\"]], \"type\": \"surface\"}], \"table\": [{\"cells\": {\"fill\": {\"color\": \"#EBF0F8\"}, \"line\": {\"color\": \"white\"}}, \"header\": {\"fill\": {\"color\": \"#C8D4E3\"}, \"line\": {\"color\": \"white\"}}, \"type\": \"table\"}]}, \"layout\": {\"annotationdefaults\": {\"arrowcolor\": \"#2a3f5f\", \"arrowhead\": 0, \"arrowwidth\": 1}, \"coloraxis\": {\"colorbar\": {\"outlinewidth\": 0, \"ticks\": \"\"}}, \"colorscale\": {\"diverging\": [[0, \"#8e0152\"], [0.1, \"#c51b7d\"], [0.2, \"#de77ae\"], [0.3, \"#f1b6da\"], [0.4, \"#fde0ef\"], [0.5, \"#f7f7f7\"], [0.6, \"#e6f5d0\"], [0.7, \"#b8e186\"], [0.8, \"#7fbc41\"], [0.9, \"#4d9221\"], [1, \"#276419\"]], \"sequential\": [[0.0, \"#0d0887\"], [0.1111111111111111, \"#46039f\"], [0.2222222222222222, \"#7201a8\"], [0.3333333333333333, \"#9c179e\"], [0.4444444444444444, \"#bd3786\"], [0.5555555555555556, \"#d8576b\"], [0.6666666666666666, \"#ed7953\"], [0.7777777777777778, \"#fb9f3a\"], [0.8888888888888888, \"#fdca26\"], [1.0, \"#f0f921\"]], \"sequentialminus\": [[0.0, \"#0d0887\"], [0.1111111111111111, \"#46039f\"], [0.2222222222222222, \"#7201a8\"], [0.3333333333333333, \"#9c179e\"], [0.4444444444444444, \"#bd3786\"], [0.5555555555555556, \"#d8576b\"], [0.6666666666666666, \"#ed7953\"], [0.7777777777777778, \"#fb9f3a\"], [0.8888888888888888, \"#fdca26\"], [1.0, \"#f0f921\"]]}, \"colorway\": [\"#636efa\", \"#EF553B\", \"#00cc96\", \"#ab63fa\", \"#FFA15A\", \"#19d3f3\", \"#FF6692\", \"#B6E880\", \"#FF97FF\", \"#FECB52\"], \"font\": {\"color\": \"#2a3f5f\"}, \"geo\": {\"bgcolor\": \"white\", \"lakecolor\": \"white\", \"landcolor\": \"#E5ECF6\", \"showlakes\": true, \"showland\": true, \"subunitcolor\": \"white\"}, \"hoverlabel\": {\"align\": \"left\"}, \"hovermode\": \"closest\", \"mapbox\": {\"style\": \"light\"}, \"paper_bgcolor\": \"white\", \"plot_bgcolor\": \"#E5ECF6\", \"polar\": {\"angularaxis\": {\"gridcolor\": \"white\", \"linecolor\": \"white\", \"ticks\": \"\"}, \"bgcolor\": \"#E5ECF6\", \"radialaxis\": {\"gridcolor\": \"white\", \"linecolor\": \"white\", \"ticks\": \"\"}}, \"scene\": {\"xaxis\": {\"backgroundcolor\": \"#E5ECF6\", \"gridcolor\": \"white\", \"gridwidth\": 2, \"linecolor\": \"white\", \"showbackground\": true, \"ticks\": \"\", \"zerolinecolor\": \"white\"}, \"yaxis\": {\"backgroundcolor\": \"#E5ECF6\", \"gridcolor\": \"white\", \"gridwidth\": 2, \"linecolor\": \"white\", \"showbackground\": true, \"ticks\": \"\", \"zerolinecolor\": \"white\"}, \"zaxis\": {\"backgroundcolor\": \"#E5ECF6\", \"gridcolor\": \"white\", \"gridwidth\": 2, \"linecolor\": \"white\", \"showbackground\": true, \"ticks\": \"\", \"zerolinecolor\": \"white\"}}, \"shapedefaults\": {\"line\": {\"color\": \"#2a3f5f\"}}, \"ternary\": {\"aaxis\": {\"gridcolor\": \"white\", \"linecolor\": \"white\", \"ticks\": \"\"}, \"baxis\": {\"gridcolor\": \"white\", \"linecolor\": \"white\", \"ticks\": \"\"}, \"bgcolor\": \"#E5ECF6\", \"caxis\": {\"gridcolor\": \"white\", \"linecolor\": \"white\", \"ticks\": \"\"}}, \"title\": {\"x\": 0.05}, \"xaxis\": {\"automargin\": true, \"gridcolor\": \"white\", \"linecolor\": \"white\", \"ticks\": \"\", \"title\": {\"standoff\": 15}, \"zerolinecolor\": \"white\", \"zerolinewidth\": 2}, \"yaxis\": {\"automargin\": true, \"gridcolor\": \"white\", \"linecolor\": \"white\", \"ticks\": \"\", \"title\": {\"standoff\": 15}, \"zerolinecolor\": \"white\", \"zerolinewidth\": 2}}}, \"title\": {\"text\": \"Scores for TF-IDF\"}, \"xaxis\": {\"anchor\": \"y\", \"domain\": [0.0, 1.0], \"title\": {\"text\": \"score\"}}, \"yaxis\": {\"anchor\": \"x\", \"domain\": [0.0, 1.0], \"title\": {\"text\": \"count\"}}},\n",
              "                        {\"responsive\": true}\n",
              "                    ).then(function(){\n",
              "                            \n",
              "var gd = document.getElementById('7c7b800c-eed8-49d8-adcd-d443f9a422c0');\n",
              "var x = new MutationObserver(function (mutations, observer) {{\n",
              "        var display = window.getComputedStyle(gd).display;\n",
              "        if (!display || display === 'none') {{\n",
              "            console.log([gd, 'removed!']);\n",
              "            Plotly.purge(gd);\n",
              "            observer.disconnect();\n",
              "        }}\n",
              "}});\n",
              "\n",
              "// Listen for the removal of the full notebook cells\n",
              "var notebookContainer = gd.closest('#notebook-container');\n",
              "if (notebookContainer) {{\n",
              "    x.observe(notebookContainer, {childList: true});\n",
              "}}\n",
              "\n",
              "// Listen for the clearing of the current output cell\n",
              "var outputEl = gd.closest('.output');\n",
              "if (outputEl) {{\n",
              "    x.observe(outputEl, {childList: true});\n",
              "}}\n",
              "\n",
              "                        })\n",
              "                };\n",
              "                \n",
              "            </script>\n",
              "        </div>\n",
              "</body>\n",
              "</html>"
            ]
          },
          "metadata": {}
        }
      ]
    },
    {
      "cell_type": "code",
      "metadata": {
        "id": "QIBvHL1aOnOT"
      },
      "source": [
        "wandb.log({\"scores_hist\": fig})"
      ],
      "execution_count": 37,
      "outputs": []
    },
    {
      "cell_type": "code",
      "metadata": {
        "id": "OZ0YfkIO9g5V"
      },
      "source": [
        "def recommend_tune(df, tune_name):\n",
        "\n",
        "  df_tune = df.query(f'reference_title == \"{tune_name}\"')\n",
        "  ff = df_tune.iloc[:]\n",
        "\n",
        "  # get the maximum similarity score for each section and store in new column\n",
        "  ff['max'] = ff.groupby('ref_section')['score'].transform('max')\n",
        "\n",
        "  # scale the score with the maxmum value of each section\n",
        "  ff['score_div_max'] = ff['score'] / ff['max']\n",
        "\n",
        "  # consider only the top N tunes for each group\n",
        "  ff = ff.sort_values(['ref_section', 'score_div_max'], ascending=[True, False])\n",
        "  result = ff.groupby('ref_section').head(30)\n",
        "  \n",
        "  # if multiple rows from the same similar tune, keep only the similar_title with the highest score_div_max\n",
        "  result = result.groupby('similar_title').max('score_div_max').sort_values('score_div_max', ascending=False)\n",
        "  \n",
        "  # add the name of the reference tune\n",
        "  result['reference'] = tune_name\n",
        "  result = result.reset_index()\n",
        "  result = result.loc[:, ['reference', 'similar_title', 'score', 'max', 'score_div_max']]\n",
        "  result = result.reset_index()\n",
        "  return result, ff"
      ],
      "execution_count": 38,
      "outputs": []
    },
    {
      "cell_type": "code",
      "metadata": {
        "colab": {
          "base_uri": "https://localhost:8080/",
          "height": 224
        },
        "id": "ohaxVQ6d9iiD",
        "outputId": "59d27284-89e3-4b3b-c989-842401e1d23c"
      },
      "source": [
        "result, details = recommend_tune(df_sim, \"These Foolish Things\")\n",
        "result.head(5)"
      ],
      "execution_count": 39,
      "outputs": [
        {
          "output_type": "stream",
          "name": "stderr",
          "text": [
            "2021-11-21 19:26:46,562 : INFO : NumExpr defaulting to 2 threads.\n"
          ]
        },
        {
          "output_type": "execute_result",
          "data": {
            "text/html": [
              "<div>\n",
              "<style scoped>\n",
              "    .dataframe tbody tr th:only-of-type {\n",
              "        vertical-align: middle;\n",
              "    }\n",
              "\n",
              "    .dataframe tbody tr th {\n",
              "        vertical-align: top;\n",
              "    }\n",
              "\n",
              "    .dataframe thead th {\n",
              "        text-align: right;\n",
              "    }\n",
              "</style>\n",
              "<table border=\"1\" class=\"dataframe\">\n",
              "  <thead>\n",
              "    <tr style=\"text-align: right;\">\n",
              "      <th></th>\n",
              "      <th>index</th>\n",
              "      <th>reference</th>\n",
              "      <th>similar_title</th>\n",
              "      <th>score</th>\n",
              "      <th>max</th>\n",
              "      <th>score_div_max</th>\n",
              "    </tr>\n",
              "  </thead>\n",
              "  <tbody>\n",
              "    <tr>\n",
              "      <th>0</th>\n",
              "      <td>0</td>\n",
              "      <td>These Foolish Things</td>\n",
              "      <td>Too Young To Go Steady</td>\n",
              "      <td>0.605478</td>\n",
              "      <td>0.605478</td>\n",
              "      <td>1.000000</td>\n",
              "    </tr>\n",
              "    <tr>\n",
              "      <th>1</th>\n",
              "      <td>1</td>\n",
              "      <td>These Foolish Things</td>\n",
              "      <td>Isn't It A Pity</td>\n",
              "      <td>0.424860</td>\n",
              "      <td>0.424860</td>\n",
              "      <td>1.000000</td>\n",
              "    </tr>\n",
              "    <tr>\n",
              "      <th>2</th>\n",
              "      <td>2</td>\n",
              "      <td>These Foolish Things</td>\n",
              "      <td>Put On A Happy Face</td>\n",
              "      <td>0.648097</td>\n",
              "      <td>0.648097</td>\n",
              "      <td>1.000000</td>\n",
              "    </tr>\n",
              "    <tr>\n",
              "      <th>3</th>\n",
              "      <td>3</td>\n",
              "      <td>These Foolish Things</td>\n",
              "      <td>Way You Look Tonight, The</td>\n",
              "      <td>0.585530</td>\n",
              "      <td>0.648097</td>\n",
              "      <td>0.973004</td>\n",
              "    </tr>\n",
              "    <tr>\n",
              "      <th>4</th>\n",
              "      <td>4</td>\n",
              "      <td>These Foolish Things</td>\n",
              "      <td>More Than You Know</td>\n",
              "      <td>0.407462</td>\n",
              "      <td>0.424860</td>\n",
              "      <td>0.959050</td>\n",
              "    </tr>\n",
              "  </tbody>\n",
              "</table>\n",
              "</div>"
            ],
            "text/plain": [
              "   index             reference  ...       max  score_div_max\n",
              "0      0  These Foolish Things  ...  0.605478       1.000000\n",
              "1      1  These Foolish Things  ...  0.424860       1.000000\n",
              "2      2  These Foolish Things  ...  0.648097       1.000000\n",
              "3      3  These Foolish Things  ...  0.648097       0.973004\n",
              "4      4  These Foolish Things  ...  0.424860       0.959050\n",
              "\n",
              "[5 rows x 6 columns]"
            ]
          },
          "metadata": {},
          "execution_count": 39
        }
      ]
    },
    {
      "cell_type": "markdown",
      "metadata": {
        "id": "UveSDI6QWALe"
      },
      "source": [
        "Copy results into a dataframe for later logging to W&B"
      ]
    },
    {
      "cell_type": "code",
      "metadata": {
        "id": "AEEqdXBiT5bl"
      },
      "source": [
        "dd = pd.DataFrame(columns = recommender_results_cols)\n",
        "\n",
        "for tune in tunes_eval_list:\n",
        "  result, details = recommend_tune(df_sim, tune)\n",
        "  dd['id'] = result['index']\n",
        "  dd['method'] = 'tfidf'\n",
        "  dd['reference'] = tune\n",
        "  dd['similar'] = result['similar_title']\n",
        "  dd['score_div_max'] = result['score_div_max']\n",
        "  dd['score'] = result['score']\n",
        "\n",
        "recommender_results = recommender_results.append(dd)"
      ],
      "execution_count": 40,
      "outputs": []
    },
    {
      "cell_type": "markdown",
      "metadata": {
        "id": "Phw7fBDk0px7"
      },
      "source": [
        "Store TF-IDF Model to W&B"
      ]
    },
    {
      "cell_type": "code",
      "metadata": {
        "colab": {
          "base_uri": "https://localhost:8080/"
        },
        "id": "KdYWJX-60pdd",
        "outputId": "bfcb62f0-e826-4ed5-e3f5-3a03f1ac670b"
      },
      "source": [
        "model_artifact = wandb.Artifact(\n",
        "    \"tfidf-model\", \n",
        "    type=\"model\",\n",
        "    description=\"TF-IDF Model\",\n",
        "    metadata=\"\")\n",
        "\n",
        "model_artifact.add_file(\"/content/index/tfidf.model\")\n",
        "model_artifact.add_file(\"/content/index/tfidf.index\")\n",
        "wandb.log_artifact(model_artifact)"
      ],
      "execution_count": 41,
      "outputs": [
        {
          "output_type": "execute_result",
          "data": {
            "text/plain": [
              "<wandb.sdk.wandb_artifacts.Artifact at 0x7f01b03d2f90>"
            ]
          },
          "metadata": {},
          "execution_count": 41
        }
      ]
    },
    {
      "cell_type": "markdown",
      "metadata": {
        "id": "99xHBRsd--OB"
      },
      "source": [
        "# LSA (Latent Semantic Analysis), aka LSI (Latent Semantic Index) "
      ]
    },
    {
      "cell_type": "code",
      "metadata": {
        "id": "adsW9Uh9_JXs"
      },
      "source": [
        "from collections import defaultdict"
      ],
      "execution_count": 42,
      "outputs": []
    },
    {
      "cell_type": "code",
      "metadata": {
        "colab": {
          "base_uri": "https://localhost:8080/"
        },
        "id": "s3AJZGRD_IHW",
        "outputId": "51fe106d-9647-4df4-908f-52dc125df0fd"
      },
      "source": [
        "num_topics = lsi_config['num_topics']\n",
        "\n",
        "# remove words that appear only once\n",
        "frequency = defaultdict(int)\n",
        "for text in processed_corpus:\n",
        "    for token in text:\n",
        "        frequency[token] += 1\n",
        "\n",
        "data = [[token for token in text if frequency[token] > 1] for text in processed_corpus]\n",
        "dictionary = corpora.Dictionary(data)\n",
        "\n",
        "# doc2bow counts the number of occurences of each distinct word,\n",
        "# converts the word to its integer word id and returns the result\n",
        "# as a sparse vector\n",
        "\n",
        "bow_corpus = [dictionary.doc2bow(text) for text in data]\n",
        "lsi = LsiModel(bow_corpus, id2word=dictionary, num_topics=num_topics)  # num_topics can be maximum the size of the number of unique tokens"
      ],
      "execution_count": 43,
      "outputs": [
        {
          "output_type": "stream",
          "name": "stderr",
          "text": [
            "2021-11-21 19:26:47,112 : INFO : adding document #0 to Dictionary(0 unique tokens: [])\n",
            "2021-11-21 19:26:47,258 : INFO : built Dictionary(4479 unique tokens: ['Am-D7-Dm', 'B7-E-G7', 'C-Eb7-G#', 'C7-F-G#7', 'D7-Dm-G7']...) from 5403 documents (total 68355 corpus positions)\n",
            "2021-11-21 19:26:47,262 : INFO : Dictionary lifecycle event {'msg': \"built Dictionary(4479 unique tokens: ['Am-D7-Dm', 'B7-E-G7', 'C-Eb7-G#', 'C7-F-G#7', 'D7-Dm-G7']...) from 5403 documents (total 68355 corpus positions)\", 'datetime': '2021-11-21T19:26:47.262197', 'gensim': '4.1.2', 'python': '3.7.12 (default, Sep 10 2021, 00:21:48) \\n[GCC 7.5.0]', 'platform': 'Linux-5.4.104+-x86_64-with-Ubuntu-18.04-bionic', 'event': 'created'}\n",
            "2021-11-21 19:26:47,329 : INFO : using serial LSI version on this node\n",
            "2021-11-21 19:26:47,331 : INFO : updating model with new documents\n",
            "2021-11-21 19:26:47,333 : INFO : preparing a new chunk of documents\n",
            "2021-11-21 19:26:47,373 : INFO : using 100 extra samples and 2 power iterations\n",
            "2021-11-21 19:26:47,382 : INFO : 1st phase: constructing (4479, 300) action matrix\n",
            "2021-11-21 19:26:47,486 : INFO : orthonormalizing (4479, 300) action matrix\n",
            "2021-11-21 19:26:48,132 : INFO : 2nd phase: running dense svd on (300, 5403) matrix\n",
            "2021-11-21 19:26:48,526 : INFO : computing the final decomposition\n",
            "2021-11-21 19:26:48,533 : INFO : keeping 200 factors (discarding 6.993% of energy spectrum)\n",
            "2021-11-21 19:26:48,598 : INFO : processed documents up to #5403\n",
            "2021-11-21 19:26:48,609 : INFO : topic #0(94.580): -0.602*\"Dm-G7-C\" + -0.349*\"G7-C-C\" + -0.280*\"C-C-C\" + -0.269*\"A7-Dm-G7\" + -0.185*\"G7-G7-C\" + -0.151*\"D7-G7-C\" + -0.142*\"Am-Dm-G7\" + -0.139*\"Em-A7-Dm\" + -0.119*\"C-Am-Dm\" + -0.118*\"C-Dm-G7\"\n",
            "2021-11-21 19:26:48,622 : INFO : topic #1(75.071): -0.461*\"C-C-C\" + 0.451*\"Dm-G7-C\" + -0.326*\"G7-C-C\" + -0.300*\"G7-G7-C\" + 0.261*\"A7-Dm-G7\" + -0.178*\"G7-G7-G7\" + 0.155*\"Am-Dm-G7\" + 0.154*\"Em-A7-Dm\" + -0.149*\"C-C-G7\" + -0.145*\"D7-G7-C\"\n",
            "2021-11-21 19:26:48,630 : INFO : topic #2(56.776): -0.654*\"C-C-C\" + 0.412*\"D7-G7-C\" + 0.338*\"A7-D7-G7\" + 0.246*\"C-A7-D7\" + -0.145*\"A7-Dm-G7\" + 0.118*\"Ebdim-Dm-G7\" + 0.117*\"C-Ebdim-Dm\" + 0.108*\"C-C7-F\" + 0.105*\"F-F#dim-C\" + -0.102*\"Em-A7-Dm\"\n",
            "2021-11-21 19:26:48,637 : INFO : topic #3(49.285): -0.588*\"A7-Dm-G7\" + 0.350*\"Am-Dm-G7\" + -0.343*\"Em-A7-Dm\" + 0.302*\"C-Am-Dm\" + 0.237*\"Dm-G7-C\" + -0.235*\"Am-Am-Am\" + 0.198*\"G7-C-Am\" + -0.195*\"C-A7-Dm\" + -0.143*\"G7-Em-A7\" + -0.119*\"Dm-G7-Em\"\n",
            "2021-11-21 19:26:48,644 : INFO : topic #4(48.833): 0.912*\"Am-Am-Am\" + -0.157*\"A7-Dm-G7\" + 0.134*\"E7-Am-Am\" + 0.101*\"Bm7b5-E7-Am\" + 0.100*\"Am-Dm-G7\" + 0.099*\"Am-E7-Am\" + 0.098*\"C-C-C\" + -0.094*\"Em-A7-Dm\" + 0.077*\"C-Am-Dm\" + -0.076*\"G7-G7-C\"\n",
            "2021-11-21 19:26:48,649 : INFO : LsiModel lifecycle event {'msg': 'trained LsiModel(num_terms=4479, num_topics=200, decay=1.0, chunksize=20000) in 1.32s', 'datetime': '2021-11-21T19:26:48.649418', 'gensim': '4.1.2', 'python': '3.7.12 (default, Sep 10 2021, 00:21:48) \\n[GCC 7.5.0]', 'platform': 'Linux-5.4.104+-x86_64-with-Ubuntu-18.04-bionic', 'event': 'created'}\n"
          ]
        }
      ]
    },
    {
      "cell_type": "code",
      "metadata": {
        "id": "EvxSQFfBBNMJ"
      },
      "source": [
        "#index_lsi = similarities.Similarity('/content/index/index_lsi', bow_corpus, num_features=len(dictionary))"
      ],
      "execution_count": 44,
      "outputs": []
    },
    {
      "cell_type": "code",
      "metadata": {
        "colab": {
          "base_uri": "https://localhost:8080/"
        },
        "id": "3saA6NY5Tzer",
        "outputId": "03ae971e-2160-4823-d905-7fcef37c120e"
      },
      "source": [
        "index_lsi = similarities.SparseMatrixSimilarity(lsi[bow_corpus], num_features = len(dictionary))\n",
        "#index_lsi = similarities.MatrixSimilarity(lsi[bow_corpus])  # transform corpus to LSI space and index it\n"
      ],
      "execution_count": 45,
      "outputs": [
        {
          "output_type": "stream",
          "name": "stderr",
          "text": [
            "2021-11-21 19:26:48,693 : INFO : creating sparse index\n",
            "2021-11-21 19:26:48,703 : INFO : creating sparse matrix from corpus\n",
            "2021-11-21 19:26:48,714 : INFO : PROGRESS: at document #0\n",
            "2021-11-21 19:26:50,485 : INFO : created <5403x4479 sparse matrix of type '<class 'numpy.float32'>'\n",
            "\twith 1078599 stored elements in Compressed Sparse Row format>\n"
          ]
        }
      ]
    },
    {
      "cell_type": "code",
      "metadata": {
        "colab": {
          "base_uri": "https://localhost:8080/"
        },
        "id": "F5pbDMVyfEtS",
        "outputId": "f28d3738-a656-4324-c664-69cfe1fb7ccc"
      },
      "source": [
        "lsi.save('/content/index/lsi.model')\n",
        "index_lsi.save('/content/index/lsi_matrixsim.index')\n"
      ],
      "execution_count": 46,
      "outputs": [
        {
          "output_type": "stream",
          "name": "stderr",
          "text": [
            "2021-11-21 19:26:50,501 : INFO : Projection lifecycle event {'fname_or_handle': '/content/index/lsi.model.projection', 'separately': 'None', 'sep_limit': 10485760, 'ignore': frozenset(), 'datetime': '2021-11-21T19:26:50.501224', 'gensim': '4.1.2', 'python': '3.7.12 (default, Sep 10 2021, 00:21:48) \\n[GCC 7.5.0]', 'platform': 'Linux-5.4.104+-x86_64-with-Ubuntu-18.04-bionic', 'event': 'saving'}\n",
            "2021-11-21 19:26:50,518 : INFO : saved /content/index/lsi.model.projection\n",
            "2021-11-21 19:26:50,520 : INFO : LsiModel lifecycle event {'fname_or_handle': '/content/index/lsi.model', 'separately': 'None', 'sep_limit': 10485760, 'ignore': ['projection', 'dispatcher'], 'datetime': '2021-11-21T19:26:50.520001', 'gensim': '4.1.2', 'python': '3.7.12 (default, Sep 10 2021, 00:21:48) \\n[GCC 7.5.0]', 'platform': 'Linux-5.4.104+-x86_64-with-Ubuntu-18.04-bionic', 'event': 'saving'}\n",
            "2021-11-21 19:26:50,524 : INFO : not storing attribute projection\n",
            "2021-11-21 19:26:50,528 : INFO : not storing attribute dispatcher\n",
            "2021-11-21 19:26:50,539 : INFO : saved /content/index/lsi.model\n",
            "2021-11-21 19:26:50,541 : INFO : SparseMatrixSimilarity lifecycle event {'fname_or_handle': '/content/index/lsi_matrixsim.index', 'separately': 'None', 'sep_limit': 10485760, 'ignore': frozenset(), 'datetime': '2021-11-21T19:26:50.541788', 'gensim': '4.1.2', 'python': '3.7.12 (default, Sep 10 2021, 00:21:48) \\n[GCC 7.5.0]', 'platform': 'Linux-5.4.104+-x86_64-with-Ubuntu-18.04-bionic', 'event': 'saving'}\n",
            "2021-11-21 19:26:50,558 : INFO : saved /content/index/lsi_matrixsim.index\n"
          ]
        }
      ]
    },
    {
      "cell_type": "code",
      "metadata": {
        "colab": {
          "base_uri": "https://localhost:8080/"
        },
        "id": "1udPIceqYk6S",
        "outputId": "3494c4d4-3be0-484f-fe14-de6cc9ba1ab9"
      },
      "source": [
        "!ls -la /content/index"
      ],
      "execution_count": 47,
      "outputs": [
        {
          "output_type": "stream",
          "name": "stdout",
          "text": [
            "total 16320\n",
            "drwxr-xr-x 2 root root    4096 Nov 21 19:26 .\n",
            "drwxr-xr-x 1 root root    4096 Nov 21 19:26 ..\n",
            "-rw-r--r-- 1 root root 8651309 Nov 21 19:26 lsi_matrixsim.index\n",
            "-rw-r--r-- 1 root root  147003 Nov 21 19:26 lsi.model\n",
            "-rw-r--r-- 1 root root 7168691 Nov 21 19:26 lsi.model.projection\n",
            "-rw-r--r-- 1 root root  506097 Nov 21 19:26 tfidf.index\n",
            "-rw-r--r-- 1 root root  219445 Nov 21 19:26 tfidf.model\n"
          ]
        }
      ]
    },
    {
      "cell_type": "markdown",
      "metadata": {
        "id": "pDxTCAGv9MmZ"
      },
      "source": [
        "### Test for single tunes"
      ]
    },
    {
      "cell_type": "code",
      "metadata": {
        "colab": {
          "base_uri": "https://localhost:8080/"
        },
        "id": "khASSJ1eEuf5",
        "outputId": "e3fc13c2-70bd-4802-9a99-796a7595c30f"
      },
      "source": [
        "%%time\n",
        "df_sim = get_sim_scores(tunes_eval_list, index=index_lsi, model=lsi)\n",
        "df_lsi = df_sim[:]"
      ],
      "execution_count": 48,
      "outputs": [
        {
          "output_type": "stream",
          "name": "stdout",
          "text": [
            "\n",
            "--------------------------------------------------\n",
            "125 After You've Gone, section1 (A)\n",
            "126 After You've Gone, section2 (B)\n",
            "127 After You've Gone, section3 (A)\n",
            "128 After You've Gone, section4 (C)\n",
            "\n",
            "--------------------------------------------------\n",
            "188 All God's Chillun Got Rhythm, section1 (A)\n",
            "189 All God's Chillun Got Rhythm, section2 (B)\n",
            "190 All God's Chillun Got Rhythm, section3 (A)\n",
            "191 All God's Chillun Got Rhythm, section4 (C)\n",
            "\n",
            "--------------------------------------------------\n",
            "198 All Of Me, section1 (A)\n",
            "199 All Of Me, section2 (B)\n",
            "200 All Of Me, section3 (A)\n",
            "201 All Of Me, section4 (C)\n",
            "\n",
            "--------------------------------------------------\n",
            "474 Blood Count, section1 (A)\n",
            "475 Blood Count, section2 (A)\n",
            "476 Blood Count, section3 (B)\n",
            "477 Blood Count, section4 (A)\n",
            "478 Blood Count, section5 (C)\n",
            "\n",
            "--------------------------------------------------\n",
            "496 Blue Moon, section1 (A)\n",
            "497 Blue Moon, section2 (A)\n",
            "498 Blue Moon, section3 (B)\n",
            "499 Blue Moon, section4 (A)\n",
            "\n",
            "--------------------------------------------------\n",
            "626 But Beautiful, section1 (A)\n",
            "627 But Beautiful, section2 (B)\n",
            "628 But Beautiful, section3 (A)\n",
            "629 But Beautiful, section4 (C)\n",
            "\n",
            "--------------------------------------------------\n",
            "653 Bye Bye Blackbird, section1 (A)\n",
            "654 Bye Bye Blackbird, section2 (B)\n",
            "4569 Bye Bye Blackbird, section1 (A)\n",
            "4570 Bye Bye Blackbird, section2 (B)\n",
            "4571 Bye Bye Blackbird, section3 (C)\n",
            "\n",
            "--------------------------------------------------\n",
            "676 Call Me Irresponsible, section1 (A)\n",
            "677 Call Me Irresponsible, section2 (B)\n",
            "678 Call Me Irresponsible, section3 (A)\n",
            "679 Call Me Irresponsible, section4 (B)\n",
            "\n",
            "--------------------------------------------------\n",
            "826 Corcovado, section1 (A)\n",
            "827 Corcovado, section2 (B)\n",
            "828 Corcovado, section3 (A)\n",
            "829 Corcovado, section4 (C)\n",
            "\n",
            "--------------------------------------------------\n",
            "997 Dinah, section1 (A)\n",
            "998 Dinah, section2 (A)\n",
            "999 Dinah, section3 (B)\n",
            "1000 Dinah, section4 (A)\n",
            "\n",
            "--------------------------------------------------\n",
            "1125 East Of The Sun, section1 (A)\n",
            "1126 East Of The Sun, section2 (B)\n",
            "1127 East Of The Sun, section3 (A)\n",
            "1128 East Of The Sun, section4 (C)\n",
            "\n",
            "--------------------------------------------------\n",
            "1287 Footprints, section0 (nan)\n",
            "\n",
            "--------------------------------------------------\n",
            "1379 Giant Steps, section0 (nan)\n",
            "\n",
            "--------------------------------------------------\n",
            "1538 Honeysuckle Rose, section1 (A)\n",
            "1539 Honeysuckle Rose, section2 (A)\n",
            "1540 Honeysuckle Rose, section3 (B)\n",
            "1541 Honeysuckle Rose, section4 (A)\n",
            "4793 Honeysuckle Rose, section1 (A)\n",
            "4794 Honeysuckle Rose, section2 (A)\n",
            "4795 Honeysuckle Rose, section3 (B)\n",
            "4796 Honeysuckle Rose, section4 (A)\n",
            "\n",
            "--------------------------------------------------\n",
            "1647 I Got Rhythm, section1 (A)\n",
            "1648 I Got Rhythm, section2 (A)\n",
            "1649 I Got Rhythm, section3 (B)\n",
            "1650 I Got Rhythm, section4 (A)\n",
            "4821 I Got Rhythm, section1 (A)\n",
            "4822 I Got Rhythm, section2 (A)\n",
            "4823 I Got Rhythm, section3 (B)\n",
            "4824 I Got Rhythm, section4 (A)\n",
            "\n",
            "--------------------------------------------------\n",
            "2676 Misty, section1 (A)\n",
            "2677 Misty, section2 (A)\n",
            "2678 Misty, section3 (B)\n",
            "2679 Misty, section4 (A)\n",
            "\n",
            "--------------------------------------------------\n",
            "2863 Naima, section1 (A)\n",
            "2864 Naima, section2 (A)\n",
            "2865 Naima, section3 (B)\n",
            "2866 Naima, section4 (A)\n",
            "\n",
            "--------------------------------------------------\n",
            "5056 Old Fashioned Love, section0 (nan)\n",
            "\n",
            "--------------------------------------------------\n",
            "3148 Perdido, section1 (A)\n",
            "3149 Perdido, section2 (A)\n",
            "3150 Perdido, section3 (B)\n",
            "3151 Perdido, section4 (A)\n",
            "\n",
            "--------------------------------------------------\n",
            "3282 Rockin' Chair, section1 (A)\n",
            "3283 Rockin' Chair, section2 (B)\n",
            "3284 Rockin' Chair, section3 (A)\n",
            "5122 Rockin' Chair, section1 (A)\n",
            "5123 Rockin' Chair, section2 (B)\n",
            "5124 Rockin' Chair, section3 (A)\n",
            "\n",
            "--------------------------------------------------\n",
            "3584 Sophisticated Lady, section1 (A)\n",
            "3585 Sophisticated Lady, section2 (A)\n",
            "3586 Sophisticated Lady, section3 (B)\n",
            "3587 Sophisticated Lady, section4 (A)\n",
            "\n",
            "--------------------------------------------------\n",
            "3752 Sweet Sue, Just You, section1 (A)\n",
            "3753 Sweet Sue, Just You, section2 (A)\n",
            "3754 Sweet Sue, Just You, section3 (B)\n",
            "3755 Sweet Sue, Just You, section4 (A)\n",
            "\n",
            "--------------------------------------------------\n",
            "3866 These Foolish Things, section1 (A)\n",
            "3867 These Foolish Things, section2 (A)\n",
            "3868 These Foolish Things, section3 (B)\n",
            "3869 These Foolish Things, section4 (A)\n",
            "\n",
            "--------------------------------------------------\n",
            "4152 We'll Be Together Again, section1 (A)\n",
            "4153 We'll Be Together Again, section2 (A)\n",
            "4154 We'll Be Together Again, section3 (B)\n",
            "4155 We'll Be Together Again, section4 (A)\n",
            "CPU times: user 16.3 s, sys: 333 ms, total: 16.6 s\n",
            "Wall time: 16.3 s\n"
          ]
        }
      ]
    },
    {
      "cell_type": "code",
      "metadata": {
        "colab": {
          "base_uri": "https://localhost:8080/",
          "height": 542
        },
        "id": "X31lkvUsDAsU",
        "outputId": "dc463fe2-423a-4dce-f5a2-0ea573920509"
      },
      "source": [
        "import plotly.express as px\n",
        "fig = px.histogram(df_sim, x=\"score\", nbins=50, title='LSI Scores')\n",
        "fig.show()"
      ],
      "execution_count": 49,
      "outputs": [
        {
          "output_type": "display_data",
          "data": {
            "text/html": [
              "<html>\n",
              "<head><meta charset=\"utf-8\" /></head>\n",
              "<body>\n",
              "    <div>\n",
              "            <script src=\"https://cdnjs.cloudflare.com/ajax/libs/mathjax/2.7.5/MathJax.js?config=TeX-AMS-MML_SVG\"></script><script type=\"text/javascript\">if (window.MathJax) {MathJax.Hub.Config({SVG: {font: \"STIX-Web\"}});}</script>\n",
              "                <script type=\"text/javascript\">window.PlotlyConfig = {MathJaxConfig: 'local'};</script>\n",
              "        <script src=\"https://cdn.plot.ly/plotly-latest.min.js\"></script>    \n",
              "            <div id=\"62cdd009-c8ad-42f3-8c45-2e647541b28d\" class=\"plotly-graph-div\" style=\"height:525px; width:100%;\"></div>\n",
              "            <script type=\"text/javascript\">\n",
              "                \n",
              "                    window.PLOTLYENV=window.PLOTLYENV || {};\n",
              "                    \n",
              "                if (document.getElementById(\"62cdd009-c8ad-42f3-8c45-2e647541b28d\")) {\n",
              "                    Plotly.newPlot(\n",
              "                        '62cdd009-c8ad-42f3-8c45-2e647541b28d',\n",
              "                        [{\"alignmentgroup\": \"True\", \"bingroup\": \"x\", \"hoverlabel\": {\"namelength\": 0}, \"hovertemplate\": \"score=%{x}<br>count=%{y}\", \"legendgroup\": \"\", \"marker\": {\"color\": \"#636efa\"}, \"name\": \"\", \"nbinsx\": 50, \"offsetgroup\": \"\", \"orientation\": \"v\", \"showlegend\": false, \"type\": \"histogram\", \"x\": [0.7907767295837402, 0.7907767295837402, 0.7025323510169983, 0.6607563495635986, 0.5832390785217285, 0.5832390785217285, 0.5832390785217285, 0.5832390785217285, 0.5757090449333191, 0.5267904996871948, 0.5151618719100952, 0.5046884417533875, 0.48529285192489624, 0.48529285192489624, 0.4767099618911743, 0.46524307131767273, 0.44333499670028687, 0.43795245885849, 0.43295368552207947, 0.4284631013870239, 0.4268481135368347, 0.4245838224887848, 0.42134785652160645, 0.421134889125824, 0.418194442987442, 0.418194442987442, 0.41778844594955444, 0.4176699221134186, 0.4176699221134186, 0.41725221276283264, 0.41524776816368103, 0.4139704704284668, 0.4124838709831238, 0.4047585725784302, 0.3998129069805145, 0.3969379961490631, 0.3949909508228302, 0.3949909508228302, 0.39355531334877014, 0.3866974413394928, 0.38318151235580444, 0.7105966806411743, 0.7105966806411743, 0.7081100940704346, 0.7066262364387512, 0.7066262364387512, 0.6688818335533142, 0.6683927774429321, 0.6632696390151978, 0.6627722978591919, 0.6625036597251892, 0.6625036597251892, 0.6625036597251892, 0.6608624458312988, 0.6602942943572998, 0.6545847654342651, 0.6502954363822937, 0.6439970135688782, 0.6289130449295044, 0.6255075931549072, 0.6236867904663086, 0.6149799227714539, 0.6104744672775269, 0.6035687327384949, 0.6017637848854065, 0.5999161005020142, 0.5975966453552246, 0.593125581741333, 0.5929516553878784, 0.5895557403564453, 0.5858197212219238, 0.5851554870605469, 0.5761085152626038, 0.5732582211494446, 0.5651260018348694, 0.5619795918464661, 0.5590007305145264, 0.552753746509552, 0.552753746509552, 0.5497888326644897, 0.5442690253257751, 0.5398980975151062, 0.7907767295837402, 0.7907767295837402, 0.7025323510169983, 0.6607563495635986, 0.5832390785217285, 0.5832390785217285, 0.5832390785217285, 0.5832390785217285, 0.5757090449333191, 0.5267904996871948, 0.5151618719100952, 0.5046884417533875, 0.48529285192489624, 0.48529285192489624, 0.4767099618911743, 0.46524307131767273, 0.44333499670028687, 0.43795245885849, 0.43295368552207947, 0.4284631013870239, 0.4268481135368347, 0.4245838224887848, 0.42134785652160645, 0.421134889125824, 0.418194442987442, 0.418194442987442, 0.41778844594955444, 0.4176699221134186, 0.4176699221134186, 0.41725221276283264, 0.41524776816368103, 0.4139704704284668, 0.4124838709831238, 0.4047585725784302, 0.3998129069805145, 0.3969379961490631, 0.3949909508228302, 0.3949909508228302, 0.39355531334877014, 0.3866974413394928, 0.38318151235580444, 0.5795865058898926, 0.5706400275230408, 0.5409789681434631, 0.5335079431533813, 0.5266961455345154, 0.516696572303772, 0.516696572303772, 0.5121384859085083, 0.5110036134719849, 0.5056257843971252, 0.5013532638549805, 0.5013532638549805, 0.5010146498680115, 0.49741363525390625, 0.493987500667572, 0.49388357996940613, 0.49020129442214966, 0.48592814803123474, 0.48316532373428345, 0.4807353913784027, 0.4805002510547638, 0.4779137969017029, 0.47735387086868286, 0.475762277841568, 0.4744051992893219, 0.4743695855140686, 0.4740507900714874, 0.4740507900714874, 0.4718688428401947, 0.4718688428401947, 0.4707193672657013, 0.4697858691215515, 0.4687412679195404, 0.46551713347435, 0.4648984372615814, 0.46399354934692383, 0.46289607882499695, 0.4619734585285187, 0.4619734585285187, 0.4609439969062805, 0.4609439969062805, 0.9255066514015198, 0.8893375992774963, 0.8801217675209045, 0.8798028230667114, 0.8643271923065186, 0.8626833558082581, 0.849414050579071, 0.849414050579071, 0.8220430612564087, 0.819579541683197, 0.8166341781616211, 0.8153880834579468, 0.8057346940040588, 0.8057346940040588, 0.8036994338035583, 0.7980526089668274, 0.7963399887084961, 0.7899004220962524, 0.7835723757743835, 0.7835723757743835, 0.7823898792266846, 0.7737687826156616, 0.7732287645339966, 0.7719005346298218, 0.7696926593780518, 0.7632939219474792, 0.7615727782249451, 0.7591155171394348, 0.7574383616447449, 0.7561490535736084, 0.7530895471572876, 0.7511592507362366, 0.7511592507362366, 0.7511592507362366, 0.7470770478248596, 0.7465655207633972, 0.7465655207633972, 0.7450182437896729, 0.742644190788269, 0.742644190788269, 0.7412428855895996, 0.7484508156776428, 0.6854535341262817, 0.6764292120933533, 0.6527993083000183, 0.6403216123580933, 0.6352131962776184, 0.6271844506263733, 0.6064303517341614, 0.6064303517341614, 0.6031899452209473, 0.6022636890411377, 0.601175844669342, 0.6010896563529968, 0.598645806312561, 0.5982884764671326, 0.5959292054176331, 0.5931656956672668, 0.5872743129730225, 0.5856004953384399, 0.5825181007385254, 0.5825181007385254, 0.5797704458236694, 0.5771339535713196, 0.5711885690689087, 0.5711885690689087, 0.5700820088386536, 0.566502571105957, 0.5624338388442993, 0.5605011582374573, 0.5597759485244751, 0.5568617582321167, 0.556079089641571, 0.5548251867294312, 0.5540077686309814, 0.5465051531791687, 0.5446888208389282, 0.5435526967048645, 0.5426123738288879, 0.5399818420410156, 0.5390490293502808, 0.5361133813858032, 0.9255066514015198, 0.8893375992774963, 0.8801217675209045, 0.8798028230667114, 0.8643271923065186, 0.8626833558082581, 0.849414050579071, 0.849414050579071, 0.8220430612564087, 0.819579541683197, 0.8166341781616211, 0.8153880834579468, 0.8057346940040588, 0.8057346940040588, 0.8036994338035583, 0.7980526089668274, 0.7963399887084961, 0.7899004220962524, 0.7835723757743835, 0.7835723757743835, 0.7823898792266846, 0.7737687826156616, 0.7732287645339966, 0.7719005346298218, 0.7696926593780518, 0.7632939219474792, 0.7615727782249451, 0.7591155171394348, 0.7574383616447449, 0.7561490535736084, 0.7530895471572876, 0.7511592507362366, 0.7511592507362366, 0.7511592507362366, 0.7470770478248596, 0.7465655207633972, 0.7465655207633972, 0.7450182437896729, 0.742644190788269, 0.742644190788269, 0.7412428855895996, 0.9197221398353577, 0.8577715754508972, 0.8549811840057373, 0.8521097302436829, 0.8296712040901184, 0.7896052002906799, 0.7563603520393372, 0.7515161037445068, 0.7414295077323914, 0.740119457244873, 0.7293834090232849, 0.7232901453971863, 0.7232901453971863, 0.7232901453971863, 0.718928873538971, 0.7188974618911743, 0.714637279510498, 0.7098114490509033, 0.7094919085502625, 0.7094919085502625, 0.7085791826248169, 0.7065425515174866, 0.7055125832557678, 0.7044483423233032, 0.698935329914093, 0.698060154914856, 0.6929511427879333, 0.6929511427879333, 0.6928136348724365, 0.6910356283187866, 0.6855013966560364, 0.679573118686676, 0.6781436204910278, 0.6769849061965942, 0.6748292446136475, 0.6745753288269043, 0.6733328700065613, 0.6687219142913818, 0.666759729385376, 0.664463460445404, 0.6574410796165466, 0.7204580307006836, 0.7158295512199402, 0.6388731598854065, 0.6362890005111694, 0.6306259632110596, 0.6280017495155334, 0.6238114237785339, 0.6195632815361023, 0.570294976234436, 0.5674964785575867, 0.5651935338973999, 0.5384573936462402, 0.5212165117263794, 0.5184916853904724, 0.5184916853904724, 0.5178369879722595, 0.5067839026451111, 0.5067839026451111, 0.49531933665275574, 0.4871927797794342, 0.4841393828392029, 0.46223148703575134, 0.45505809783935547, 0.42664340138435364, 0.42389586567878723, 0.4217051863670349, 0.41956520080566406, 0.4079161286354065, 0.3987475335597992, 0.39713433384895325, 0.3926693797111511, 0.3904937505722046, 0.3904937505722046, 0.3838071823120117, 0.3835042417049408, 0.37823623418807983, 0.3590882420539856, 0.35827237367630005, 0.35827237367630005, 0.3552722930908203, 0.3533576726913452, 0.9179602265357971, 0.843718409538269, 0.8335886001586914, 0.8242960572242737, 0.8169345259666443, 0.7775005102157593, 0.7335518002510071, 0.7211025357246399, 0.6714215278625488, 0.6545616388320923, 0.6531478762626648, 0.6531478762626648, 0.6531478762626648, 0.640977680683136, 0.6340562105178833, 0.6303765177726746, 0.6282927989959717, 0.589056134223938, 0.5678670406341553, 0.5105224251747131, 0.5068238377571106, 0.5065514445304871, 0.5045803189277649, 0.5024417042732239, 0.5006264448165894, 0.496990829706192, 0.4927467703819275, 0.48779329657554626, 0.48172527551651, 0.4797551929950714, 0.4768919050693512, 0.47049185633659363, 0.4577202796936035, 0.4550285041332245, 0.44740909337997437, 0.4450099766254425, 0.44480693340301514, 0.4382750988006592, 0.436440110206604, 0.4350953996181488, 0.43486732244491577, 0.7204580307006836, 0.7158295512199402, 0.6388731598854065, 0.6362890005111694, 0.6306259632110596, 0.6280017495155334, 0.6238114237785339, 0.6195632815361023, 0.570294976234436, 0.5674964785575867, 0.5651935338973999, 0.5384573936462402, 0.5212165117263794, 0.5184916853904724, 0.5184916853904724, 0.5178369879722595, 0.5067839026451111, 0.5067839026451111, 0.49531933665275574, 0.4871927797794342, 0.4841393828392029, 0.46223148703575134, 0.45505809783935547, 0.42664340138435364, 0.42389586567878723, 0.4217051863670349, 0.41956520080566406, 0.4079161286354065, 0.3987475335597992, 0.39713433384895325, 0.3926693797111511, 0.3904937505722046, 0.3904937505722046, 0.3838071823120117, 0.3835042417049408, 0.37823623418807983, 0.3590882420539856, 0.35827237367630005, 0.35827237367630005, 0.3552722930908203, 0.3533576726913452, 0.7710300087928772, 0.7189272046089172, 0.7189272046089172, 0.69130939245224, 0.6809336543083191, 0.6786777973175049, 0.671393632888794, 0.6638155579566956, 0.6537476778030396, 0.6527276635169983, 0.6526063680648804, 0.6518319249153137, 0.6499911546707153, 0.64219731092453, 0.6408054828643799, 0.6408054828643799, 0.6397810578346252, 0.6397810578346252, 0.6397810578346252, 0.6363147497177124, 0.6353399157524109, 0.6350518465042114, 0.6312026977539062, 0.6305739879608154, 0.6302788257598877, 0.6269925832748413, 0.6235155463218689, 0.6234912872314453, 0.6234912872314453, 0.6185579299926758, 0.6116941571235657, 0.6028717756271362, 0.6002823114395142, 0.5992506742477417, 0.5972564220428467, 0.5944816470146179, 0.589880108833313, 0.5863437652587891, 0.5845251083374023, 0.5809194445610046, 0.5800660848617554, 0.9841831922531128, 0.9575108885765076, 0.9575108885765076, 0.9488874673843384, 0.941510021686554, 0.8324134349822998, 0.8243905305862427, 0.7523713707923889, 0.6490601301193237, 0.596031665802002, 0.5932126045227051, 0.5900520086288452, 0.5887346863746643, 0.5722216963768005, 0.5717856884002686, 0.5717856884002686, 0.5328059196472168, 0.30818256735801697, 0.2686156928539276, 0.2655685842037201, 0.18215061724185944, 0.1709223985671997, 0.14514534175395966, 0.14514534175395966, 0.14152665436267853, 0.12968307733535767, 0.12164588272571564, 0.11453281342983246, 0.11453281342983246, 0.10074027627706528, 0.10035944730043411, 0.0908420979976654, 0.08271754533052444, 0.08119268715381622, 0.07627458870410919, 0.07514365017414093, 0.07234551757574081, 0.0720747783780098, 0.06901358813047409, 0.06877680867910385, 0.06770540773868561, 0.8010130524635315, 0.6761506199836731, 0.6761506199836731, 0.6273446083068848, 0.6251310706138611, 0.6068129539489746, 0.6062271595001221, 0.5971127152442932, 0.5920456647872925, 0.5920456647872925, 0.5920456647872925, 0.5920456647872925, 0.5920456647872925, 0.5920456647872925, 0.5920456647872925, 0.5920456647872925, 0.5920456647872925, 0.5920456647872925, 0.5914464592933655, 0.5894679427146912, 0.5894679427146912, 0.5894679427146912, 0.5878837704658508, 0.5878680348396301, 0.5878680348396301, 0.5878680348396301, 0.5859767198562622, 0.5859767198562622, 0.5648266673088074, 0.5625980496406555, 0.5616327524185181, 0.5612421631813049, 0.5598486661911011, 0.557985246181488, 0.5489190220832825, 0.5472140312194824, 0.5439996123313904, 0.5439386963844299, 0.5396842956542969, 0.5396842956542969, 0.5368923544883728, 0.8451942801475525, 0.8112196326255798, 0.8112196326255798, 0.8112196326255798, 0.8058223724365234, 0.8058223724365234, 0.8058223724365234, 0.7629392147064209, 0.6992753744125366, 0.6892231106758118, 0.6547327637672424, 0.3601158559322357, 0.3304134011268616, 0.29593533277511597, 0.29216447472572327, 0.2811756730079651, 0.2703011929988861, 0.268451064825058, 0.26664626598358154, 0.26664626598358154, 0.26610907912254333, 0.2550545930862427, 0.2510758340358734, 0.2457485944032669, 0.2365056723356247, 0.23280993103981018, 0.22362926602363586, 0.22362926602363586, 0.22193068265914917, 0.2144734114408493, 0.21170705556869507, 0.21170705556869507, 0.20685787498950958, 0.20315605401992798, 0.2015034258365631, 0.19574564695358276, 0.19488732516765594, 0.19488732516765594, 0.19488732516765594, 0.19488732516765594, 0.1911543905735016, 0.8010130524635315, 0.6761506199836731, 0.6761506199836731, 0.6273446083068848, 0.6251310706138611, 0.6068129539489746, 0.6062271595001221, 0.5971127152442932, 0.5920456647872925, 0.5920456647872925, 0.5920456647872925, 0.5920456647872925, 0.5920456647872925, 0.5920456647872925, 0.5920456647872925, 0.5920456647872925, 0.5920456647872925, 0.5920456647872925, 0.5914464592933655, 0.5894679427146912, 0.5894679427146912, 0.5894679427146912, 0.5878837704658508, 0.5878680348396301, 0.5878680348396301, 0.5878680348396301, 0.5859767198562622, 0.5859767198562622, 0.5648266673088074, 0.5625980496406555, 0.5616327524185181, 0.5612421631813049, 0.5598486661911011, 0.557985246181488, 0.5489190220832825, 0.5472140312194824, 0.5439996123313904, 0.5439386963844299, 0.5396842956542969, 0.5396842956542969, 0.5368923544883728, 0.8110085129737854, 0.7937253713607788, 0.7601361274719238, 0.6611378192901611, 0.6538572907447815, 0.6209036111831665, 0.6209036111831665, 0.5983012914657593, 0.5850638747215271, 0.5786257386207581, 0.5769098401069641, 0.5767181515693665, 0.5611099600791931, 0.5468197464942932, 0.5131939053535461, 0.5091246962547302, 0.5068100094795227, 0.46955958008766174, 0.4687473773956299, 0.4687473773956299, 0.45050308108329773, 0.4395448565483093, 0.4387517273426056, 0.43507927656173706, 0.4338715672492981, 0.42900222539901733, 0.4273870587348938, 0.42563241720199585, 0.4131415784358978, 0.4051818251609802, 0.4021446108818054, 0.39718252420425415, 0.38823553919792175, 0.36358824372291565, 0.36258673667907715, 0.36135250329971313, 0.3603355884552002, 0.35574978590011597, 0.35382091999053955, 0.3532738983631134, 0.3514721691608429, 0.9177488088607788, 0.9082186818122864, 0.8965608477592468, 0.8873134851455688, 0.8873134851455688, 0.8845616579055786, 0.8784515261650085, 0.8784515261650085, 0.8671659827232361, 0.8545019030570984, 0.8522974252700806, 0.8511601686477661, 0.8504738807678223, 0.8469176888465881, 0.8469176888465881, 0.8469176888465881, 0.844074010848999, 0.8428858518600464, 0.8391003012657166, 0.835343599319458, 0.8349796533584595, 0.8341162204742432, 0.8341162204742432, 0.8325775861740112, 0.8325775861740112, 0.8291695713996887, 0.8269273042678833, 0.8236039876937866, 0.8224766254425049, 0.8178659677505493, 0.8175482153892517, 0.808647871017456, 0.7992447018623352, 0.7891338467597961, 0.7858741283416748, 0.785825252532959, 0.7817187905311584, 0.7806807160377502, 0.7744516134262085, 0.7729169130325317, 0.7704318165779114, 0.8256111741065979, 0.8162624835968018, 0.7934785485267639, 0.7930038571357727, 0.791575014591217, 0.791575014591217, 0.788489580154419, 0.788489580154419, 0.7823068499565125, 0.7769672870635986, 0.7762508988380432, 0.7762508988380432, 0.7762508988380432, 0.7745532989501953, 0.7673081159591675, 0.7653064727783203, 0.7652588486671448, 0.7644949555397034, 0.7644949555397034, 0.7629484534263611, 0.7618630528450012, 0.7612417936325073, 0.7612417936325073, 0.7554923892021179, 0.7551002502441406, 0.7540829181671143, 0.752722978591919, 0.7483070492744446, 0.7417442798614502, 0.7371144890785217, 0.7328746318817139, 0.7300124764442444, 0.7289716601371765, 0.7283561825752258, 0.7276821732521057, 0.7242646217346191, 0.7195521593093872, 0.7158229351043701, 0.7078580856323242, 0.702233076095581, 0.7003923058509827, 0.8916809558868408, 0.8806306719779968, 0.8806306719779968, 0.8755955696105957, 0.8755955696105957, 0.8479312658309937, 0.8385926485061646, 0.8281811475753784, 0.8281811475753784, 0.8281811475753784, 0.8268968462944031, 0.8257083892822266, 0.8236511945724487, 0.8204200267791748, 0.8181193470954895, 0.8168073296546936, 0.8167166113853455, 0.8167166113853455, 0.8112673163414001, 0.7966509461402893, 0.7950055599212646, 0.7939081192016602, 0.7933326959609985, 0.7853187322616577, 0.7800525426864624, 0.7791533470153809, 0.776641845703125, 0.776641845703125, 0.775397777557373, 0.7694373726844788, 0.7689760327339172, 0.7660731673240662, 0.760190486907959, 0.7573326230049133, 0.7569782137870789, 0.7539584636688232, 0.7512972950935364, 0.7506507635116577, 0.7504782676696777, 0.7463711500167847, 0.7462606430053711, 0.9177488088607788, 0.9082186818122864, 0.8965608477592468, 0.8873134851455688, 0.8873134851455688, 0.8845616579055786, 0.8784515261650085, 0.8784515261650085, 0.8671659827232361, 0.8545019030570984, 0.8522974252700806, 0.8511601686477661, 0.8504738807678223, 0.8469176888465881, 0.8469176888465881, 0.8469176888465881, 0.844074010848999, 0.8428858518600464, 0.8391003012657166, 0.835343599319458, 0.8349796533584595, 0.8341162204742432, 0.8341162204742432, 0.8325775861740112, 0.8325775861740112, 0.8291695713996887, 0.8269273042678833, 0.8236039876937866, 0.8224766254425049, 0.8178659677505493, 0.8175482153892517, 0.808647871017456, 0.7992447018623352, 0.7891338467597961, 0.7858741283416748, 0.785825252532959, 0.7817187905311584, 0.7806807160377502, 0.7744516134262085, 0.7729169130325317, 0.7704318165779114, 0.7814451456069946, 0.7814451456069946, 0.7139067649841309, 0.6905327439308167, 0.6433175802230835, 0.6413738131523132, 0.6284682154655457, 0.6195613145828247, 0.5954258441925049, 0.5843180418014526, 0.5460697412490845, 0.544822633266449, 0.5376690626144409, 0.5188777446746826, 0.514037549495697, 0.5017457604408264, 0.5017457604408264, 0.4984865188598633, 0.49799221754074097, 0.49799221754074097, 0.49706360697746277, 0.4952094554901123, 0.4952094554901123, 0.49378639459609985, 0.49378639459609985, 0.49028080701828003, 0.47370705008506775, 0.4674757719039917, 0.4602299928665161, 0.45792102813720703, 0.45784321427345276, 0.4480801522731781, 0.4456814229488373, 0.4456814229488373, 0.44406601786613464, 0.4402419626712799, 0.43408098816871643, 0.4332899749279022, 0.4332899749279022, 0.430988073348999, 0.4275127053260803, 0.7669231295585632, 0.6801884174346924, 0.6744063496589661, 0.6411749720573425, 0.6377710700035095, 0.6377710700035095, 0.6377710700035095, 0.6368283629417419, 0.6284911036491394, 0.624222993850708, 0.624222993850708, 0.6202311515808105, 0.6180127859115601, 0.6180127859115601, 0.6180127859115601, 0.610098659992218, 0.6089205145835876, 0.6067469120025635, 0.6063292026519775, 0.6063292026519775, 0.6049114465713501, 0.5993204116821289, 0.5982146263122559, 0.5967643857002258, 0.5949538350105286, 0.5944292545318604, 0.5936436653137207, 0.5932101607322693, 0.5900198817253113, 0.5900198817253113, 0.5894609093666077, 0.585259199142456, 0.5850500464439392, 0.5829797983169556, 0.580441951751709, 0.5765226483345032, 0.5765226483345032, 0.57331383228302, 0.5721665024757385, 0.5703226327896118, 0.5647897720336914, 0.7814451456069946, 0.7814451456069946, 0.7139067649841309, 0.6905327439308167, 0.6433175802230835, 0.6413738131523132, 0.6284682154655457, 0.6195613145828247, 0.5954258441925049, 0.5843180418014526, 0.5460697412490845, 0.544822633266449, 0.5376690626144409, 0.5188777446746826, 0.514037549495697, 0.5017457604408264, 0.5017457604408264, 0.4984865188598633, 0.49799221754074097, 0.49799221754074097, 0.49706360697746277, 0.4952094554901123, 0.4952094554901123, 0.49378639459609985, 0.49378639459609985, 0.49028080701828003, 0.47370705008506775, 0.4674757719039917, 0.4602299928665161, 0.45792102813720703, 0.45784321427345276, 0.4480801522731781, 0.4456814229488373, 0.4456814229488373, 0.44406601786613464, 0.4402419626712799, 0.43408098816871643, 0.4332899749279022, 0.4332899749279022, 0.430988073348999, 0.4275127053260803, 0.7496414184570312, 0.7389435172080994, 0.7168455123901367, 0.7168455123901367, 0.7153594493865967, 0.7117592692375183, 0.7093328833580017, 0.7093328833580017, 0.7028589248657227, 0.7026888132095337, 0.7026447653770447, 0.6958777904510498, 0.6921481490135193, 0.691319465637207, 0.6884821057319641, 0.6884821057319641, 0.6873767375946045, 0.6860924363136292, 0.6854484677314758, 0.6852250099182129, 0.6852250099182129, 0.6824159026145935, 0.6788091063499451, 0.6766316890716553, 0.6743881106376648, 0.6706532835960388, 0.6660990118980408, 0.66319739818573, 0.6631028056144714, 0.6587135791778564, 0.6587135791778564, 0.6577366590499878, 0.6537472605705261, 0.6514338254928589, 0.6494340300559998, 0.6471912264823914, 0.6458669304847717, 0.6458669304847717, 0.6455767750740051, 0.6445590257644653, 0.6406047940254211, 0.811555027961731, 0.8114848136901855, 0.7713097333908081, 0.7628280520439148, 0.7576864361763, 0.7576864361763, 0.7378265857696533, 0.7378265857696533, 0.7378265857696533, 0.7336999177932739, 0.723151683807373, 0.723151683807373, 0.723151683807373, 0.7180913090705872, 0.7180913090705872, 0.7174080610275269, 0.7165585160255432, 0.7165585160255432, 0.7163373827934265, 0.713671088218689, 0.713475227355957, 0.7090659141540527, 0.709014892578125, 0.7085608243942261, 0.7070969939231873, 0.7070969939231873, 0.7056998610496521, 0.6974714994430542, 0.693120002746582, 0.692255973815918, 0.690456211566925, 0.6897965669631958, 0.6847391724586487, 0.6838423013687134, 0.6830310225486755, 0.6779749989509583, 0.6761929988861084, 0.6761929988861084, 0.6728410124778748, 0.6683127880096436, 0.6677183508872986, 0.8588778376579285, 0.813153862953186, 0.8015887141227722, 0.8015887141227722, 0.7805630564689636, 0.7643206715583801, 0.7504475116729736, 0.7472646236419678, 0.7472646236419678, 0.7452414631843567, 0.7452414631843567, 0.7452414631843567, 0.7450202107429504, 0.7151075005531311, 0.7066377401351929, 0.7052153944969177, 0.7011977434158325, 0.6936357617378235, 0.6847609281539917, 0.6815453767776489, 0.679655134677887, 0.6781479716300964, 0.6768965125083923, 0.6760826706886292, 0.6700519323348999, 0.6700519323348999, 0.6679776310920715, 0.6636888384819031, 0.662257194519043, 0.6593559980392456, 0.6593483686447144, 0.6546645164489746, 0.6533025503158569, 0.6532942056655884, 0.6518370509147644, 0.6480227708816528, 0.645863950252533, 0.64554363489151, 0.64554363489151, 0.6443696022033691, 0.6421979069709778, 0.8235797882080078, 0.7351293563842773, 0.677318811416626, 0.677318811416626, 0.6698743104934692, 0.6596918702125549, 0.6530836820602417, 0.6303935050964355, 0.6028369069099426, 0.5981478095054626, 0.5950011014938354, 0.5926953554153442, 0.5881574749946594, 0.5881574749946594, 0.5881574749946594, 0.5631455183029175, 0.5560788512229919, 0.5560788512229919, 0.5557974576950073, 0.5521314144134521, 0.5519171357154846, 0.5499650239944458, 0.5470726490020752, 0.534839391708374, 0.5247827172279358, 0.520807683467865, 0.5202376842498779, 0.5202376842498779, 0.5202376842498779, 0.5088144540786743, 0.5027627348899841, 0.49648162722587585, 0.4934852123260498, 0.4894551634788513, 0.4876168370246887, 0.4824751913547516, 0.4818388819694519, 0.4802790582180023, 0.47720715403556824, 0.4769308567047119, 0.4769006669521332, 0.999167799949646, 0.9892975091934204, 0.8258209824562073, 0.8258209824562073, 0.73126620054245, 0.7028636932373047, 0.6628314256668091, 0.6588079333305359, 0.631269097328186, 0.6268243193626404, 0.6132786870002747, 0.6132786870002747, 0.5901036858558655, 0.5728232860565186, 0.5728232860565186, 0.5702205896377563, 0.5702205896377563, 0.555523157119751, 0.555523157119751, 0.5280590057373047, 0.500217080116272, 0.49820318818092346, 0.4915114939212799, 0.4745980203151703, 0.4743032157421112, 0.466868132352829, 0.46408551931381226, 0.4626476764678955, 0.4539770185947418, 0.44401779770851135, 0.44034191966056824, 0.4367436170578003, 0.43182581663131714, 0.42524588108062744, 0.4244600534439087, 0.4244600534439087, 0.4206765294075012, 0.4108397662639618, 0.4051905572414398, 0.4051905572414398, 0.4051905572414398, 0.8344273567199707, 0.8344273567199707, 0.7928087115287781, 0.7928087115287781, 0.7928087115287781, 0.7436797022819519, 0.7436797022819519, 0.7070890665054321, 0.7006241679191589, 0.6947758793830872, 0.6947758793830872, 0.6881771683692932, 0.6782940030097961, 0.673437774181366, 0.6701096892356873, 0.6680647730827332, 0.66804039478302, 0.6680247187614441, 0.6646830439567566, 0.6594560146331787, 0.6594560146331787, 0.6584265828132629, 0.6584265828132629, 0.6562677621841431, 0.6551547646522522, 0.6537532806396484, 0.6536917090415955, 0.6516820788383484, 0.649108350276947, 0.6440278887748718, 0.6424527168273926, 0.6361680030822754, 0.6296668648719788, 0.6265339255332947, 0.6221528649330139, 0.6218684911727905, 0.6218684911727905, 0.6218684911727905, 0.6218684911727905, 0.6198760867118835, 0.6185633540153503, 0.62132328748703, 0.62132328748703, 0.5601072311401367, 0.5601072311401367, 0.524161696434021, 0.4942325949668884, 0.4908059537410736, 0.4902922213077545, 0.4746716022491455, 0.45021364092826843, 0.4316360354423523, 0.4211607575416565, 0.41864103078842163, 0.41011670231819153, 0.41011670231819153, 0.404229998588562, 0.40388166904449463, 0.4026432931423187, 0.3972097635269165, 0.3954748213291168, 0.3954748213291168, 0.3954748213291168, 0.39404207468032837, 0.3925252854824066, 0.3883243501186371, 0.38664689660072327, 0.386501669883728, 0.386501669883728, 0.38391628861427307, 0.38330671191215515, 0.38126295804977417, 0.3797208070755005, 0.3797208070755005, 0.37802422046661377, 0.37310200929641724, 0.3682856261730194, 0.3682856261730194, 0.3682856261730194, 0.3670998215675354, 0.3587346076965332, 0.3580484986305237, 0.7572330236434937, 0.7552227973937988, 0.7343528866767883, 0.7343528866767883, 0.7258183360099792, 0.7091572284698486, 0.708998441696167, 0.7081760168075562, 0.6982827186584473, 0.6859970092773438, 0.6634941101074219, 0.660659909248352, 0.6478502750396729, 0.6304125189781189, 0.6105108261108398, 0.6105108261108398, 0.6069205403327942, 0.5879898071289062, 0.5839512944221497, 0.5835751891136169, 0.5815799236297607, 0.5801621079444885, 0.5715934038162231, 0.5586025714874268, 0.5586025714874268, 0.5586025714874268, 0.5586025714874268, 0.5578521490097046, 0.5577453374862671, 0.5497771501541138, 0.5472697019577026, 0.5460385680198669, 0.5449145436286926, 0.5382983684539795, 0.5365594625473022, 0.5319614410400391, 0.5254053473472595, 0.5254053473472595, 0.5143522024154663, 0.5143522024154663, 0.5143522024154663, 0.62132328748703, 0.62132328748703, 0.5601072311401367, 0.5601072311401367, 0.524161696434021, 0.4942325949668884, 0.4908059537410736, 0.4902922213077545, 0.4746716022491455, 0.45021364092826843, 0.4316360354423523, 0.4211607575416565, 0.41864103078842163, 0.41011670231819153, 0.41011670231819153, 0.404229998588562, 0.40388166904449463, 0.4026432931423187, 0.3972097635269165, 0.3954748213291168, 0.3954748213291168, 0.3954748213291168, 0.39404207468032837, 0.3925252854824066, 0.3883243501186371, 0.38664689660072327, 0.386501669883728, 0.386501669883728, 0.38391628861427307, 0.38330671191215515, 0.38126295804977417, 0.3797208070755005, 0.3797208070755005, 0.37802422046661377, 0.37310200929641724, 0.3682856261730194, 0.3682856261730194, 0.3682856261730194, 0.3670998215675354, 0.3587346076965332, 0.3580484986305237, 0.8583102226257324, 0.7414975166320801, 0.7345614433288574, 0.7206339240074158, 0.7106457948684692, 0.708921492099762, 0.7076139450073242, 0.7018730044364929, 0.7018730044364929, 0.690730094909668, 0.6873243451118469, 0.684894859790802, 0.684894859790802, 0.6699349284172058, 0.6621723771095276, 0.6588028073310852, 0.6578338742256165, 0.656766951084137, 0.6544918417930603, 0.6543040871620178, 0.6523663401603699, 0.6472529768943787, 0.6463216543197632, 0.6435299515724182, 0.6425306797027588, 0.6423454880714417, 0.641470193862915, 0.641470193862915, 0.6411694288253784, 0.6382371783256531, 0.635285496711731, 0.6262840032577515, 0.6252674460411072, 0.6226902008056641, 0.6208186149597168, 0.6196646690368652, 0.6186428070068359, 0.6186428070068359, 0.6138768196105957, 0.6130126118659973, 0.6130126118659973, 0.5829920172691345, 0.5829920172691345, 0.5829920172691345, 0.46230530738830566, 0.4374507665634155, 0.42246943712234497, 0.4066706597805023, 0.4066706597805023, 0.396098792552948, 0.36557114124298096, 0.33984535932540894, 0.32697466015815735, 0.32659268379211426, 0.32414886355400085, 0.3131924271583557, 0.30895328521728516, 0.30832913517951965, 0.3077068328857422, 0.30355823040008545, 0.3019843101501465, 0.30010563135147095, 0.29240357875823975, 0.2883036434650421, 0.2883036434650421, 0.28242120146751404, 0.27686014771461487, 0.2722054719924927, 0.2683383524417877, 0.26672911643981934, 0.2629601061344147, 0.2593516409397125, 0.2569481134414673, 0.24730835855007172, 0.24730835855007172, 0.24730835855007172, 0.24580049514770508, 0.24373498558998108, 0.24111446738243103, 0.23668067157268524, 0.23381245136260986, 0.23261377215385437, 0.9122626781463623, 0.6656306385993958, 0.6364039182662964, 0.5958418250083923, 0.5849970579147339, 0.5685619115829468, 0.5650504231452942, 0.5523562431335449, 0.5438371896743774, 0.5306786894798279, 0.528076171875, 0.5063326358795166, 0.5055993795394897, 0.5046941041946411, 0.5043659210205078, 0.5042238831520081, 0.48776698112487793, 0.4811929762363434, 0.4732036888599396, 0.4641178250312805, 0.4595737159252167, 0.45044615864753723, 0.44894978404045105, 0.4431595206260681, 0.44138282537460327, 0.4399767518043518, 0.4370984137058258, 0.4370984137058258, 0.43198493123054504, 0.4246794581413269, 0.4239993095397949, 0.4239993095397949, 0.4207000136375427, 0.4207000136375427, 0.41874393820762634, 0.40855225920677185, 0.4076926112174988, 0.40471571683883667, 0.40471571683883667, 0.40042006969451904, 0.3998095393180847, 0.5829920172691345, 0.5829920172691345, 0.5829920172691345, 0.46230530738830566, 0.4374507665634155, 0.42246943712234497, 0.4066706597805023, 0.4066706597805023, 0.396098792552948, 0.36557114124298096, 0.33984535932540894, 0.32697466015815735, 0.32659268379211426, 0.32414886355400085, 0.3131924271583557, 0.30895328521728516, 0.30832913517951965, 0.3077068328857422, 0.30355823040008545, 0.3019843101501465, 0.30010563135147095, 0.29240357875823975, 0.2883036434650421, 0.2883036434650421, 0.28242120146751404, 0.27686014771461487, 0.2722054719924927, 0.2683383524417877, 0.26672911643981934, 0.2629601061344147, 0.2593516409397125, 0.2569481134414673, 0.24730835855007172, 0.24730835855007172, 0.24730835855007172, 0.24580049514770508, 0.24373498558998108, 0.24111446738243103, 0.23668067157268524, 0.23381245136260986, 0.23261377215385437, 0.7989264726638794, 0.7825398445129395, 0.7594816088676453, 0.755079448223114, 0.7476672530174255, 0.7446576952934265, 0.7432286143302917, 0.7429338097572327, 0.7423190474510193, 0.7423190474510193, 0.7423190474510193, 0.7355729341506958, 0.7325272560119629, 0.731641948223114, 0.7282469272613525, 0.7253871560096741, 0.7175655961036682, 0.716489851474762, 0.7132489681243896, 0.7132489681243896, 0.7028758525848389, 0.7027003765106201, 0.6997475028038025, 0.6953679323196411, 0.6947927474975586, 0.6942257285118103, 0.6942251324653625, 0.6882179975509644, 0.6881926655769348, 0.6879627108573914, 0.687394380569458, 0.6866271495819092, 0.6861260533332825, 0.6861260533332825, 0.6854483485221863, 0.6831039190292358, 0.6826913356781006, 0.6825613379478455, 0.681428849697113, 0.6800309419631958, 0.6757918000221252, 0.877648651599884, 0.8091412782669067, 0.7887822985649109, 0.7766411304473877, 0.7687739133834839, 0.7687739133834839, 0.7687739133834839, 0.767236053943634, 0.7641113996505737, 0.763461709022522, 0.7616370320320129, 0.7586750984191895, 0.756779670715332, 0.756779670715332, 0.7540203332901001, 0.7536487579345703, 0.7536487579345703, 0.7490463852882385, 0.7485129833221436, 0.7471775412559509, 0.7462649941444397, 0.7462649941444397, 0.7443221211433411, 0.7384760975837708, 0.7369927167892456, 0.7366317510604858, 0.7361682653427124, 0.7361682653427124, 0.7315091490745544, 0.7238739132881165, 0.7213680744171143, 0.7211580276489258, 0.7211580276489258, 0.718096137046814, 0.7177451848983765, 0.7166802287101746, 0.7141979932785034, 0.7135452032089233, 0.7123920917510986, 0.7108331322669983, 0.7016816139221191, 0.8329408764839172, 0.8129773736000061, 0.8002675771713257, 0.7931483387947083, 0.7931483387947083, 0.7931483387947083, 0.7918660044670105, 0.7879986763000488, 0.7870527505874634, 0.7851353287696838, 0.7825832962989807, 0.7818314433097839, 0.7807055711746216, 0.7807055711746216, 0.7782072424888611, 0.7765058279037476, 0.7765058279037476, 0.773461103439331, 0.7715252637863159, 0.7695625424385071, 0.7674499154090881, 0.7674499154090881, 0.766531229019165, 0.7664443850517273, 0.7609661221504211, 0.7609661221504211, 0.7603774070739746, 0.7546801567077637, 0.7477652430534363, 0.7455628514289856, 0.7455628514289856, 0.7414570450782776, 0.7393508553504944, 0.7393175959587097, 0.7388652563095093, 0.7385680079460144, 0.7372326850891113, 0.7353497743606567, 0.7344866394996643, 0.7212464213371277, 0.7181891798973083, 0.8001131415367126, 0.7546716928482056, 0.7491253614425659, 0.7453219294548035, 0.7298818230628967, 0.7175864577293396, 0.7170430421829224, 0.7124971747398376, 0.7069199681282043, 0.6885261535644531, 0.6603193879127502, 0.6553565263748169, 0.6471041440963745, 0.632614254951477, 0.6208633780479431, 0.6156811118125916, 0.6033819913864136, 0.6028459072113037, 0.6000735759735107, 0.5990972518920898, 0.598835289478302, 0.5961090922355652, 0.5961090922355652, 0.5889577865600586, 0.5882132053375244, 0.5882132053375244, 0.5882132053375244, 0.5882132053375244, 0.5882132053375244, 0.5882132053375244, 0.5882132053375244, 0.5806994438171387, 0.5806994438171387, 0.5806994438171387, 0.5804758071899414, 0.5804758071899414, 0.5795276165008545, 0.5774350762367249, 0.5747159123420715, 0.5721161961555481, 0.5666276812553406, 0.8517239689826965, 0.8508322834968567, 0.8298225402832031, 0.8285185694694519, 0.8116859793663025, 0.8097290992736816, 0.807700514793396, 0.8026961088180542, 0.7961553335189819, 0.7958738803863525, 0.7890746593475342, 0.7890746593475342, 0.7890746593475342, 0.7884189486503601, 0.7840494513511658, 0.7837985157966614, 0.7812855839729309, 0.7792674899101257, 0.7792674899101257, 0.7782241702079773, 0.7780272364616394, 0.7764320969581604, 0.7764320969581604, 0.7763406038284302, 0.7749872803688049, 0.7744573354721069, 0.7742498517036438, 0.7725752592086792, 0.7725752592086792, 0.7725116610527039, 0.7710286974906921, 0.7709504961967468, 0.7709504961967468, 0.7689520716667175, 0.7681706547737122, 0.7670897245407104, 0.7659692168235779, 0.7656046748161316, 0.7656046748161316, 0.7625574469566345, 0.7578533291816711, 0.8222188353538513, 0.8103540539741516, 0.7955116033554077, 0.7955116033554077, 0.6971497535705566, 0.6889761090278625, 0.6092691421508789, 0.6092691421508789, 0.6092691421508789, 0.6052734851837158, 0.5978535413742065, 0.5935925245285034, 0.5935925245285034, 0.5935925245285034, 0.5935925245285034, 0.5876765847206116, 0.5876765847206116, 0.5868034362792969, 0.5868034362792969, 0.5860994458198547, 0.5859307050704956, 0.5859307050704956, 0.5807076096534729, 0.5731938481330872, 0.5731938481330872, 0.5728232860565186, 0.5702670812606812, 0.5701541304588318, 0.5696802735328674, 0.5266399383544922, 0.5040242075920105, 0.5033597350120544, 0.49390679597854614, 0.4751599431037903, 0.47508126497268677, 0.4701007604598999, 0.46873700618743896, 0.4671992361545563, 0.4658264219760895, 0.4511139690876007, 0.45004144310951233, 0.8588108420372009, 0.836154580116272, 0.8315994739532471, 0.8238305449485779, 0.7555282711982727, 0.7518405914306641, 0.7493934035301208, 0.7225308418273926, 0.7197725176811218, 0.6762794852256775, 0.6658254861831665, 0.6515640616416931, 0.6507786512374878, 0.6407374739646912, 0.6394882798194885, 0.6392529010772705, 0.633470356464386, 0.6322306990623474, 0.6306657791137695, 0.6292099356651306, 0.6273128390312195, 0.6272255778312683, 0.6272255778312683, 0.6259584426879883, 0.6134230494499207, 0.6071212291717529, 0.6055601239204407, 0.6039082407951355, 0.6033323407173157, 0.601736307144165, 0.5969776511192322, 0.5955082178115845, 0.5953529477119446, 0.5951716899871826, 0.5942752361297607, 0.5942752361297607, 0.5942752361297607, 0.5934919714927673, 0.5934919714927673, 0.5905225276947021, 0.5891495943069458, 0.8222188353538513, 0.8103540539741516, 0.7955116033554077, 0.7955116033554077, 0.6971497535705566, 0.6889761090278625, 0.6092691421508789, 0.6092691421508789, 0.6092691421508789, 0.6052734851837158, 0.5978535413742065, 0.5935925245285034, 0.5935925245285034, 0.5935925245285034, 0.5935925245285034, 0.5876765847206116, 0.5876765847206116, 0.5868034362792969, 0.5868034362792969, 0.5860994458198547, 0.5859307050704956, 0.5859307050704956, 0.5807076096534729, 0.5731938481330872, 0.5731938481330872, 0.5728232860565186, 0.5702670812606812, 0.5701541304588318, 0.5696802735328674, 0.5266399383544922, 0.5040242075920105, 0.5033597350120544, 0.49390679597854614, 0.4751599431037903, 0.47508126497268677, 0.4701007604598999, 0.46873700618743896, 0.4671992361545563, 0.4658264219760895, 0.4511139690876007, 0.45004144310951233, 0.6854157447814941, 0.6854157447814941, 0.6854157447814941, 0.6699743866920471, 0.6618161201477051, 0.6434321403503418, 0.6335207223892212, 0.6219955086708069, 0.6050063967704773, 0.6050063967704773, 0.6041591763496399, 0.6029690504074097, 0.5991435647010803, 0.5939933657646179, 0.5915678143501282, 0.5826920866966248, 0.5819908380508423, 0.5744391083717346, 0.5710559487342834, 0.5697762966156006, 0.5695526599884033, 0.5642850399017334, 0.5642850399017334, 0.5544907450675964, 0.5533134937286377, 0.5523619651794434, 0.5488181114196777, 0.53504478931427, 0.5340639352798462, 0.5336059331893921, 0.5309036374092102, 0.5285195112228394, 0.5268988013267517, 0.5212646126747131, 0.5211565494537354, 0.5211565494537354, 0.5194979310035706, 0.5156968235969543, 0.5143930315971375, 0.507512629032135, 0.5058807730674744, 0.9962992668151855, 0.9833456873893738, 0.966991662979126, 0.966991662979126, 0.966991662979126, 0.966991662979126, 0.966991662979126, 0.966991662979126, 0.966991662979126, 0.966991662979126, 0.966991662979126, 0.966991662979126, 0.966991662979126, 0.966991662979126, 0.966991662979126, 0.966991662979126, 0.966991662979126, 0.966991662979126, 0.966991662979126, 0.966991662979126, 0.966991662979126, 0.966991662979126, 0.966991662979126, 0.966991662979126, 0.966991662979126, 0.966991662979126, 0.9666355848312378, 0.9661164879798889, 0.9661164879798889, 0.9633503556251526, 0.9613158702850342, 0.9600105881690979, 0.9599786996841431, 0.9575702548027039, 0.9508994817733765, 0.9508994817733765, 0.9508994817733765, 0.9423452019691467, 0.9423452019691467, 0.9423452019691467, 0.9387779831886292, 0.6419322490692139, 0.6112434267997742, 0.5948215126991272, 0.5827047228813171, 0.580923318862915, 0.580923318862915, 0.5733616948127747, 0.5681661367416382, 0.5677879452705383, 0.5656449198722839, 0.5656449198722839, 0.5528964996337891, 0.5486652851104736, 0.5310859680175781, 0.5310859680175781, 0.5121574401855469, 0.4999977946281433, 0.4979538321495056, 0.4886971712112427, 0.48205986618995667, 0.47192269563674927, 0.4574366509914398, 0.4565454125404358, 0.450490266084671, 0.4500811696052551, 0.4466821849346161, 0.4419948160648346, 0.4412786364555359, 0.4412786364555359, 0.44010594487190247, 0.4342135190963745, 0.4229694604873657, 0.4229694604873657, 0.4227868616580963, 0.42216596007347107, 0.414408802986145, 0.4139779508113861, 0.401058167219162, 0.401058167219162, 0.401058167219162, 0.4009578824043274, 0.8462433218955994, 0.8462433218955994, 0.8462433218955994, 0.8446910977363586, 0.8156446814537048, 0.8085445165634155, 0.808222234249115, 0.8064967393875122, 0.8059398531913757, 0.8053245544433594, 0.8007527589797974, 0.7996975183486938, 0.7996975183486938, 0.7996975183486938, 0.7996975183486938, 0.7977814078330994, 0.7977814078330994, 0.7977814078330994, 0.7954692840576172, 0.7862038612365723, 0.7862038612365723, 0.78337162733078, 0.7818171977996826, 0.7818171977996826, 0.7671520709991455, 0.7640693187713623, 0.7470824122428894, 0.7439370155334473, 0.724173367023468, 0.7202265858650208, 0.7132906317710876, 0.7120124697685242, 0.707024872303009, 0.7064282894134521, 0.7064282894134521, 0.706172525882721, 0.7059475779533386, 0.7057337164878845, 0.7022107839584351, 0.7017728090286255, 0.7017402648925781, 0.8783824443817139, 0.8783824443817139, 0.8783824443817139, 0.8770496845245361, 0.8706851601600647, 0.8682306408882141, 0.8682306408882141, 0.8682306408882141, 0.8393095135688782, 0.8368042707443237, 0.8320704698562622, 0.8182557821273804, 0.8182557821273804, 0.8115826845169067, 0.8115826845169067, 0.810074508190155, 0.776826024055481, 0.7755337953567505, 0.7748628258705139, 0.7703823447227478, 0.759337842464447, 0.742867112159729, 0.742867112159729, 0.7423145174980164, 0.7404791116714478, 0.740021288394928, 0.7364467978477478, 0.7347168326377869, 0.7343241572380066, 0.7339686751365662, 0.7338947057723999, 0.7298951148986816, 0.7286030650138855, 0.7266278862953186, 0.7247209548950195, 0.7246584892272949, 0.7236784100532532, 0.7236784100532532, 0.719199538230896, 0.71817946434021, 0.7125644683837891, 1.0000001192092896, 1.0000001192092896, 1.0000001192092896, 1.0000001192092896, 1.0000001192092896, 1.0000001192092896, 1.0000001192092896, 1.0000001192092896, 1.0000001192092896, 0.9012942314147949, 0.8947065472602844, 0.8621113896369934, 0.8621113896369934, 0.8621113896369934, 0.8103609681129456, 0.6838149428367615, 0.6799951195716858, 0.6466317176818848, 0.6264702677726746, 0.6239314675331116, 0.603707492351532, 0.5851368308067322, 0.5673587918281555, 0.5665871500968933, 0.5541296601295471, 0.5267260074615479, 0.5252143144607544, 0.5252143144607544, 0.5241341590881348, 0.5190540552139282, 0.5113229155540466, 0.5113229155540466, 0.5113229155540466, 0.5003860592842102, 0.49706515669822693, 0.49706515669822693, 0.4933193027973175, 0.48192715644836426, 0.47724491357803345, 0.4744846820831299, 0.4739959239959717, 0.8462433218955994, 0.8462433218955994, 0.8462433218955994, 0.8446910977363586, 0.8156446814537048, 0.8085445165634155, 0.808222234249115, 0.8064967393875122, 0.8059398531913757, 0.8053245544433594, 0.8007527589797974, 0.7996975183486938, 0.7996975183486938, 0.7996975183486938, 0.7996975183486938, 0.7977814078330994, 0.7977814078330994, 0.7977814078330994, 0.7954692840576172, 0.7862038612365723, 0.7862038612365723, 0.78337162733078, 0.7818171977996826, 0.7818171977996826, 0.7671520709991455, 0.7640693187713623, 0.7470824122428894, 0.7439370155334473, 0.724173367023468, 0.7202265858650208, 0.7132906317710876, 0.7120124697685242, 0.707024872303009, 0.7064282894134521, 0.7064282894134521, 0.706172525882721, 0.7059475779533386, 0.7057337164878845, 0.7022107839584351, 0.7017728090286255, 0.7017402648925781, 0.8462433218955994, 0.8462433218955994, 0.8462433218955994, 0.8446910977363586, 0.8156446814537048, 0.8085445165634155, 0.808222234249115, 0.8064967393875122, 0.8059398531913757, 0.8053245544433594, 0.8007527589797974, 0.7996975183486938, 0.7996975183486938, 0.7996975183486938, 0.7996975183486938, 0.7977814078330994, 0.7977814078330994, 0.7977814078330994, 0.7954692840576172, 0.7862038612365723, 0.7862038612365723, 0.78337162733078, 0.7818171977996826, 0.7818171977996826, 0.7671520709991455, 0.7640693187713623, 0.7470824122428894, 0.7439370155334473, 0.724173367023468, 0.7202265858650208, 0.7132906317710876, 0.7120124697685242, 0.707024872303009, 0.7064282894134521, 0.7064282894134521, 0.706172525882721, 0.7059475779533386, 0.7057337164878845, 0.7022107839584351, 0.7017728090286255, 0.7017402648925781, 0.8783824443817139, 0.8783824443817139, 0.8783824443817139, 0.8770496845245361, 0.8706851601600647, 0.8682306408882141, 0.8682306408882141, 0.8682306408882141, 0.8393095135688782, 0.8368042707443237, 0.8320704698562622, 0.8182557821273804, 0.8182557821273804, 0.8115826845169067, 0.8115826845169067, 0.810074508190155, 0.776826024055481, 0.7755337953567505, 0.7748628258705139, 0.7703823447227478, 0.759337842464447, 0.742867112159729, 0.742867112159729, 0.7423145174980164, 0.7404791116714478, 0.740021288394928, 0.7364467978477478, 0.7347168326377869, 0.7343241572380066, 0.7339686751365662, 0.7338947057723999, 0.7298951148986816, 0.7286030650138855, 0.7266278862953186, 0.7247209548950195, 0.7246584892272949, 0.7236784100532532, 0.7236784100532532, 0.719199538230896, 0.71817946434021, 0.7125644683837891, 1.0000001192092896, 1.0000001192092896, 1.0000001192092896, 1.0000001192092896, 1.0000001192092896, 1.0000001192092896, 1.0000001192092896, 1.0000001192092896, 1.0000001192092896, 0.9012942314147949, 0.8947065472602844, 0.8621113896369934, 0.8621113896369934, 0.8621113896369934, 0.8103609681129456, 0.6838149428367615, 0.6799951195716858, 0.6466317176818848, 0.6264702677726746, 0.6239314675331116, 0.603707492351532, 0.5851368308067322, 0.5673587918281555, 0.5665871500968933, 0.5541296601295471, 0.5267260074615479, 0.5252143144607544, 0.5252143144607544, 0.5241341590881348, 0.5190540552139282, 0.5113229155540466, 0.5113229155540466, 0.5113229155540466, 0.5003860592842102, 0.49706515669822693, 0.49706515669822693, 0.4933193027973175, 0.48192715644836426, 0.47724491357803345, 0.4744846820831299, 0.4739959239959717, 0.8462433218955994, 0.8462433218955994, 0.8462433218955994, 0.8446910977363586, 0.8156446814537048, 0.8085445165634155, 0.808222234249115, 0.8064967393875122, 0.8059398531913757, 0.8053245544433594, 0.8007527589797974, 0.7996975183486938, 0.7996975183486938, 0.7996975183486938, 0.7996975183486938, 0.7977814078330994, 0.7977814078330994, 0.7977814078330994, 0.7954692840576172, 0.7862038612365723, 0.7862038612365723, 0.78337162733078, 0.7818171977996826, 0.7818171977996826, 0.7671520709991455, 0.7640693187713623, 0.7470824122428894, 0.7439370155334473, 0.724173367023468, 0.7202265858650208, 0.7132906317710876, 0.7120124697685242, 0.707024872303009, 0.7064282894134521, 0.7064282894134521, 0.706172525882721, 0.7059475779533386, 0.7057337164878845, 0.7022107839584351, 0.7017728090286255, 0.7017402648925781, 0.7091893553733826, 0.6943431496620178, 0.6879656910896301, 0.661297619342804, 0.6585653424263, 0.6460829377174377, 0.6382989287376404, 0.6382989287376404, 0.6170884370803833, 0.6140458583831787, 0.6068089008331299, 0.604732871055603, 0.6008275151252747, 0.6008275151252747, 0.5995154976844788, 0.5995154976844788, 0.5926621556282043, 0.5900730490684509, 0.5897288918495178, 0.5809815526008606, 0.580254316329956, 0.577632486820221, 0.577632486820221, 0.577072024345398, 0.5693901777267456, 0.5693901777267456, 0.5545357465744019, 0.5545357465744019, 0.5514135956764221, 0.5422549843788147, 0.5422146320343018, 0.5334206223487854, 0.5325191020965576, 0.5265662670135498, 0.521571934223175, 0.521571934223175, 0.521571934223175, 0.5213553309440613, 0.5213553309440613, 0.5213553309440613, 0.5153945088386536, 0.7362847924232483, 0.7146985530853271, 0.6875260472297668, 0.6824125647544861, 0.6631639003753662, 0.6631639003753662, 0.6414636373519897, 0.6407693028450012, 0.6353829503059387, 0.6295820474624634, 0.6292248964309692, 0.6217426061630249, 0.6217426061630249, 0.6159619092941284, 0.6133348941802979, 0.6129016876220703, 0.6032342314720154, 0.6015177965164185, 0.6015177965164185, 0.6000451445579529, 0.5980344414710999, 0.5923334956169128, 0.5923334956169128, 0.5732051134109497, 0.5726451277732849, 0.5726451277732849, 0.5628324747085571, 0.5622056722640991, 0.5586795806884766, 0.5586795806884766, 0.5531595945358276, 0.5529865622520447, 0.5475398302078247, 0.5374280214309692, 0.5374280214309692, 0.5374280214309692, 0.5347324013710022, 0.5334085822105408, 0.5334085822105408, 0.5334085822105408, 0.5324802398681641, 0.9999998211860657, 0.9999998211860657, 0.9999998211860657, 0.9999998211860657, 0.9999998211860657, 0.9999998211860657, 0.9999998211860657, 0.9999998211860657, 0.9999998211860657, 0.9999998211860657, 0.9999998211860657, 0.9999998211860657, 0.9999998211860657, 0.9999998211860657, 0.9999998211860657, 0.9999998211860657, 0.9999998211860657, 0.9999998211860657, 0.9999998211860657, 0.9999998211860657, 0.9999998211860657, 0.9999998211860657, 0.9980924129486084, 0.9778621792793274, 0.9778621792793274, 0.968738317489624, 0.9361105561256409, 0.8586588501930237, 0.8523282408714294, 0.8452025651931763, 0.8233845829963684, 0.8054509162902832, 0.8006800413131714, 0.7916443943977356, 0.7734420895576477, 0.7260605096817017, 0.709591269493103, 0.7059707045555115, 0.6911816596984863, 0.6878090500831604, 0.6858126521110535, 0.6547504663467407, 0.6321622133255005, 0.6113823652267456, 0.6066844463348389, 0.6066844463348389, 0.5989461541175842, 0.5862458348274231, 0.5849857330322266, 0.5814293622970581, 0.5800114870071411, 0.5742731690406799, 0.5690797567367554, 0.5680651068687439, 0.567685067653656, 0.567685067653656, 0.5661539435386658, 0.5655537247657776, 0.5655537247657776, 0.5592185854911804, 0.5589596033096313, 0.556672215461731, 0.556672215461731, 0.5518328547477722, 0.5518328547477722, 0.550315260887146, 0.550315260887146, 0.550315260887146, 0.5483413338661194, 0.5450371503829956, 0.5429238677024841, 0.5410443544387817, 0.5403134822845459, 0.53998863697052, 0.5386213064193726, 0.5381038784980774, 0.5374996066093445, 0.5374996066093445, 0.5361158847808838, 0.5360605716705322, 0.5359605550765991, 0.5354844331741333, 0.7091893553733826, 0.6943431496620178, 0.6879656910896301, 0.661297619342804, 0.6585653424263, 0.6460829377174377, 0.6382989287376404, 0.6382989287376404, 0.6170884370803833, 0.6140458583831787, 0.6068089008331299, 0.604732871055603, 0.6008275151252747, 0.6008275151252747, 0.5995154976844788, 0.5995154976844788, 0.5926621556282043, 0.5900730490684509, 0.5897288918495178, 0.5809815526008606, 0.580254316329956, 0.577632486820221, 0.577632486820221, 0.577072024345398, 0.5693901777267456, 0.5693901777267456, 0.5545357465744019, 0.5545357465744019, 0.5514135956764221, 0.5422549843788147, 0.5422146320343018, 0.5334206223487854, 0.5325191020965576, 0.5265662670135498, 0.521571934223175, 0.521571934223175, 0.521571934223175, 0.5213553309440613, 0.5213553309440613, 0.5213553309440613, 0.5153945088386536, 0.7362847924232483, 0.7146985530853271, 0.6875260472297668, 0.6824125647544861, 0.6631639003753662, 0.6631639003753662, 0.6414636373519897, 0.6407693028450012, 0.6353829503059387, 0.6295820474624634, 0.6292248964309692, 0.6217426061630249, 0.6217426061630249, 0.6159619092941284, 0.6133348941802979, 0.6129016876220703, 0.6032342314720154, 0.6015177965164185, 0.6015177965164185, 0.6000451445579529, 0.5980344414710999, 0.5923334956169128, 0.5923334956169128, 0.5732051134109497, 0.5726451277732849, 0.5726451277732849, 0.5628324747085571, 0.5622056722640991, 0.5586795806884766, 0.5586795806884766, 0.5531595945358276, 0.5529865622520447, 0.5475398302078247, 0.5374280214309692, 0.5374280214309692, 0.5374280214309692, 0.5347324013710022, 0.5334085822105408, 0.5334085822105408, 0.5334085822105408, 0.5324802398681641, 0.9999998211860657, 0.9999998211860657, 0.9999998211860657, 0.9999998211860657, 0.9999998211860657, 0.9999998211860657, 0.9999998211860657, 0.9999998211860657, 0.9999998211860657, 0.9999998211860657, 0.9999998211860657, 0.9999998211860657, 0.9999998211860657, 0.9999998211860657, 0.9999998211860657, 0.9999998211860657, 0.9999998211860657, 0.9999998211860657, 0.9999998211860657, 0.9999998211860657, 0.9999998211860657, 0.9999998211860657, 0.9980924129486084, 0.9778621792793274, 0.9778621792793274, 0.968738317489624, 0.9361105561256409, 0.8586588501930237, 0.8523282408714294, 0.8452025651931763, 0.8233845829963684, 0.8054509162902832, 0.8006800413131714, 0.7916443943977356, 0.7734420895576477, 0.7260605096817017, 0.709591269493103, 0.7059707045555115, 0.6911816596984863, 0.6878090500831604, 0.6858126521110535, 0.6547504663467407, 0.6321622133255005, 0.6113823652267456, 0.6066844463348389, 0.6066844463348389, 0.5989461541175842, 0.5862458348274231, 0.5849857330322266, 0.5814293622970581, 0.5800114870071411, 0.5742731690406799, 0.5690797567367554, 0.5680651068687439, 0.567685067653656, 0.567685067653656, 0.5661539435386658, 0.5655537247657776, 0.5655537247657776, 0.5592185854911804, 0.5589596033096313, 0.556672215461731, 0.556672215461731, 0.5518328547477722, 0.5518328547477722, 0.550315260887146, 0.550315260887146, 0.550315260887146, 0.5483413338661194, 0.5450371503829956, 0.5429238677024841, 0.5410443544387817, 0.5403134822845459, 0.53998863697052, 0.5386213064193726, 0.5381038784980774, 0.5374996066093445, 0.5374996066093445, 0.5361158847808838, 0.5360605716705322, 0.5359605550765991, 0.5354844331741333, 0.7466603517532349, 0.7118472456932068, 0.7047967910766602, 0.700263500213623, 0.6906031966209412, 0.6569534540176392, 0.6469576358795166, 0.6387751698493958, 0.6353006958961487, 0.6202985644340515, 0.619823157787323, 0.6174588203430176, 0.6174588203430176, 0.6145143508911133, 0.6108530163764954, 0.6089770793914795, 0.5986253619194031, 0.5951138138771057, 0.5928698778152466, 0.5868505239486694, 0.5865662693977356, 0.5852744579315186, 0.5817299485206604, 0.5807380676269531, 0.5807380676269531, 0.5787031650543213, 0.5780185461044312, 0.5770962238311768, 0.5714576840400696, 0.5697377324104309, 0.5673682689666748, 0.5665335059165955, 0.5665101408958435, 0.5592580437660217, 0.5578259825706482, 0.5531790852546692, 0.5531790852546692, 0.5529634952545166, 0.5526052117347717, 0.5524021983146667, 0.5518696904182434, 0.756001889705658, 0.7085909247398376, 0.6876143217086792, 0.6730319261550903, 0.6730319261550903, 0.6532846689224243, 0.651382565498352, 0.6498000025749207, 0.6472254395484924, 0.6432259678840637, 0.6383981108665466, 0.6182578206062317, 0.6173239350318909, 0.6173239350318909, 0.6094392538070679, 0.6083263754844666, 0.60459965467453, 0.6039899587631226, 0.6039899587631226, 0.6037532091140747, 0.5888829231262207, 0.5850238800048828, 0.5850238800048828, 0.5832977294921875, 0.5814440250396729, 0.5798979997634888, 0.5784473419189453, 0.5739282965660095, 0.5692715644836426, 0.5671964287757874, 0.5649515986442566, 0.5645926594734192, 0.5611152648925781, 0.5598145723342896, 0.5589099526405334, 0.5583590269088745, 0.5563575029373169, 0.5560213327407837, 0.553768515586853, 0.5535340905189514, 0.5515834093093872, 0.7079659104347229, 0.6415555477142334, 0.6202075481414795, 0.6143684983253479, 0.6036278605461121, 0.6030737161636353, 0.6020851135253906, 0.5922196507453918, 0.5916188955307007, 0.5916188955307007, 0.5820409059524536, 0.5659684538841248, 0.5651839971542358, 0.5635135769844055, 0.5613902807235718, 0.5613902807235718, 0.5611268281936646, 0.556786298751831, 0.5541036128997803, 0.5537782311439514, 0.5507481098175049, 0.5507481098175049, 0.535499095916748, 0.5352421402931213, 0.5347843170166016, 0.531330406665802, 0.5308380722999573, 0.528168797492981, 0.5263140797615051, 0.5263140797615051, 0.5219109058380127, 0.5217088460922241, 0.5188186168670654, 0.5121194124221802, 0.512042224407196, 0.5115192532539368, 0.5092437267303467, 0.5092437267303467, 0.5043112635612488, 0.504116415977478, 0.5008749961853027, 0.7460536956787109, 0.7408291101455688, 0.74040287733078, 0.7138255834579468, 0.6889486908912659, 0.6871755123138428, 0.6871755123138428, 0.6859485507011414, 0.6738616824150085, 0.6638129353523254, 0.6590585708618164, 0.6549678444862366, 0.6542147397994995, 0.6537982821464539, 0.6461357474327087, 0.6453304886817932, 0.6408454775810242, 0.640075147151947, 0.6349503993988037, 0.6349503993988037, 0.6270725727081299, 0.620661735534668, 0.6180682182312012, 0.6167537569999695, 0.614547848701477, 0.6085326671600342, 0.6083623766899109, 0.6071797609329224, 0.6056138277053833, 0.6052059531211853, 0.5969508290290833, 0.5841255187988281, 0.5841255187988281, 0.5838524103164673, 0.5826939940452576, 0.5812661051750183, 0.5812661051750183, 0.5780560374259949, 0.5776921510696411, 0.575408399105072, 0.5732926726341248, 0.42558562755584717, 0.4096783399581909, 0.40619096159935, 0.4038332402706146, 0.39111319184303284, 0.39111319184303284, 0.39111319184303284, 0.33713003993034363, 0.336640328168869, 0.3314911127090454, 0.33045831322669983, 0.33045831322669983, 0.31178757548332214, 0.31178757548332214, 0.3071139454841614, 0.3071139454841614, 0.2949434518814087, 0.28844428062438965, 0.27456724643707275, 0.26770418882369995, 0.2618534564971924, 0.2611311972141266, 0.2576271593570709, 0.25189656019210815, 0.24994222819805145, 0.24994222819805145, 0.24803879857063293, 0.23892919719219208, 0.23710113763809204, 0.23691493272781372, 0.23437203466892242, 0.23413757979869843, 0.2309303879737854, 0.21752335131168365, 0.21752335131168365, 0.21752335131168365, 0.21602082252502441, 0.21424135565757751, 0.21316252648830414, 0.21273566782474518, 0.2109302282333374, 0.42558562755584717, 0.4096783399581909, 0.40619096159935, 0.4038332402706146, 0.39111319184303284, 0.39111319184303284, 0.39111319184303284, 0.33713003993034363, 0.336640328168869, 0.3314911127090454, 0.33045831322669983, 0.33045831322669983, 0.31178757548332214, 0.31178757548332214, 0.3071139454841614, 0.3071139454841614, 0.2949434518814087, 0.28844428062438965, 0.27456724643707275, 0.26770418882369995, 0.2618534564971924, 0.2611311972141266, 0.2576271593570709, 0.25189656019210815, 0.24994222819805145, 0.24994222819805145, 0.24803879857063293, 0.23892919719219208, 0.23710113763809204, 0.23691493272781372, 0.23437203466892242, 0.23413757979869843, 0.2309303879737854, 0.21752335131168365, 0.21752335131168365, 0.21752335131168365, 0.21602082252502441, 0.21424135565757751, 0.21316252648830414, 0.21273566782474518, 0.2109302282333374, 0.909285843372345, 0.5233160853385925, 0.5233160853385925, 0.5233160853385925, 0.5161097049713135, 0.5078241229057312, 0.49884629249572754, 0.49695464968681335, 0.4865352213382721, 0.45704007148742676, 0.45704007148742676, 0.44257187843322754, 0.435550332069397, 0.40003374218940735, 0.3917432725429535, 0.39076390862464905, 0.3870740234851837, 0.37771302461624146, 0.3748399317264557, 0.36662980914115906, 0.36282289028167725, 0.3582104742527008, 0.3545941710472107, 0.3516164720058441, 0.350291907787323, 0.350291907787323, 0.3461660146713257, 0.3461660146713257, 0.3461660146713257, 0.3449016511440277, 0.3449016511440277, 0.3449016511440277, 0.34172219038009644, 0.3377295434474945, 0.33424654603004456, 0.33125537633895874, 0.328554630279541, 0.32392504811286926, 0.31639188528060913, 0.31548652052879333, 0.3089738190174103, 0.9862328171730042, 0.9862328171730042, 0.9862328171730042, 0.9838877320289612, 0.9801034331321716, 0.9436787366867065, 0.9335008263587952, 0.8569105863571167, 0.8569105863571167, 0.8369694948196411, 0.8369694948196411, 0.8064780831336975, 0.7921773195266724, 0.7811676263809204, 0.7019446492195129, 0.6685243844985962, 0.6448141932487488, 0.5979501605033875, 0.5927848219871521, 0.5881056785583496, 0.5815609097480774, 0.543806791305542, 0.49792659282684326, 0.4960229694843292, 0.4925277531147003, 0.48978015780448914, 0.48865222930908203, 0.4822450280189514, 0.4761674106121063, 0.47098544239997864, 0.44651174545288086, 0.44442060589790344, 0.44016996026039124, 0.4093627631664276, 0.40786659717559814, 0.40574824810028076, 0.40574824810028076, 0.4036056101322174, 0.3922451138496399, 0.3813087046146393, 0.38008153438568115, 0.6566374897956848, 0.649049699306488, 0.644217848777771, 0.6356626152992249, 0.6156516075134277, 0.6121295094490051, 0.6096767783164978, 0.603443443775177, 0.5956708788871765, 0.5924934148788452, 0.5892555117607117, 0.5864580869674683, 0.5851401090621948, 0.5761415362358093, 0.5657292008399963, 0.5656977891921997, 0.5656977891921997, 0.565305769443512, 0.5546408891677856, 0.5536244511604309, 0.5505512952804565, 0.5505512952804565, 0.5505133271217346, 0.5504934787750244, 0.5504934787750244, 0.5464369058609009, 0.5416082739830017, 0.5354875326156616, 0.5306925773620605, 0.5301469564437866, 0.529308021068573, 0.5224077701568604, 0.5217269659042358, 0.52167147397995, 0.5163201689720154, 0.5138898491859436, 0.5135715007781982, 0.5135715007781982, 0.5135715007781982, 0.5135715007781982, 0.5097400546073914, 0.9391058087348938, 0.899425208568573, 0.8820881843566895, 0.8820881843566895, 0.8775930404663086, 0.8290582895278931, 0.8258404731750488, 0.8093897700309753, 0.8073897957801819, 0.7869531512260437, 0.7776504755020142, 0.7615229487419128, 0.7615229487419128, 0.7611846327781677, 0.7510091662406921, 0.7442598938941956, 0.7407819628715515, 0.7250359654426575, 0.7250359654426575, 0.7192198038101196, 0.7167587280273438, 0.7162274718284607, 0.7155932784080505, 0.7155932784080505, 0.7072005867958069, 0.7072005867958069, 0.7053707838058472, 0.682780921459198, 0.6815003752708435, 0.6810051202774048, 0.6797055602073669, 0.6731199622154236, 0.6731199622154236, 0.6731199622154236, 0.6585634350776672, 0.6443111300468445, 0.6421442627906799, 0.641414999961853, 0.6262202262878418, 0.6223925948143005, 0.602423369884491, 0.9168683886528015, 0.9049856662750244, 0.8934051394462585, 0.8737876415252686, 0.8737876415252686, 0.8661342263221741, 0.8531580567359924, 0.8164929151535034, 0.7984010577201843, 0.7851543426513672, 0.783595085144043, 0.781071126461029, 0.781071126461029, 0.7753419280052185, 0.7753419280052185, 0.7742384672164917, 0.7724277973175049, 0.7711510062217712, 0.7705380320549011, 0.7662635445594788, 0.7637662291526794, 0.7617780566215515, 0.7513098120689392, 0.7457917928695679, 0.7395193576812744, 0.7339441180229187, 0.731550931930542, 0.7255882024765015, 0.7233448028564453, 0.7233448028564453, 0.7224234342575073, 0.7206031680107117, 0.7173348665237427, 0.715944230556488, 0.715944230556488, 0.7157036066055298, 0.7157036066055298, 0.7151912450790405, 0.7151912450790405, 0.7096287608146667, 0.7046765089035034, 0.9999998211860657, 0.9999998211860657, 0.9999998211860657, 0.9999998211860657, 0.9999998211860657, 0.9999998211860657, 0.9999998211860657, 0.9999998211860657, 0.9999998211860657, 0.9999998211860657, 0.9999998211860657, 0.9999998211860657, 0.9999998211860657, 0.9999998211860657, 0.9999998211860657, 0.9999998211860657, 0.9999998211860657, 0.9999998211860657, 0.9999998211860657, 0.9999998211860657, 0.9999998211860657, 0.9999998211860657, 0.9999998211860657, 0.9980924129486084, 0.9778621792793274, 0.9778621792793274, 0.968738317489624, 0.9361105561256409, 0.8586588501930237, 0.8523282408714294, 0.8452025651931763, 0.8233845829963684, 0.8054509162902832, 0.8006800413131714, 0.7916443943977356, 0.7734420895576477, 0.7260605096817017, 0.709591269493103, 0.7059707045555115, 0.6911816596984863, 0.6878090500831604, 0.9391058087348938, 0.899425208568573, 0.8820881843566895, 0.8820881843566895, 0.8775930404663086, 0.8290582895278931, 0.8258404731750488, 0.8093897700309753, 0.8073897957801819, 0.7869531512260437, 0.7776504755020142, 0.7615229487419128, 0.7615229487419128, 0.7611846327781677, 0.7510091662406921, 0.7442598938941956, 0.7407819628715515, 0.7250359654426575, 0.7250359654426575, 0.7192198038101196, 0.7167587280273438, 0.7162274718284607, 0.7155932784080505, 0.7155932784080505, 0.7072005867958069, 0.7072005867958069, 0.7053707838058472, 0.682780921459198, 0.6815003752708435, 0.6810051202774048, 0.6797055602073669, 0.6731199622154236, 0.6731199622154236, 0.6731199622154236, 0.6585634350776672, 0.6443111300468445, 0.6421442627906799, 0.641414999961853, 0.6262202262878418, 0.6223925948143005, 0.602423369884491, 0.5612877607345581, 0.5478542447090149, 0.5341494679450989, 0.5172968506813049, 0.5051960349082947, 0.49733707308769226, 0.4967316687107086, 0.4846760630607605, 0.4846760630607605, 0.4846760630607605, 0.479141503572464, 0.4775448739528656, 0.47223350405693054, 0.46827778220176697, 0.46373122930526733, 0.45940589904785156, 0.45910364389419556, 0.45859697461128235, 0.45859697461128235, 0.45303383469581604, 0.4516749680042267, 0.4493815302848816, 0.4459790885448456, 0.4449861943721771, 0.442543625831604, 0.4381076991558075, 0.4363694190979004, 0.43616756796836853, 0.4335643947124481, 0.4335643947124481, 0.43297210335731506, 0.432675302028656, 0.42777496576309204, 0.4256976246833801, 0.4256976246833801, 0.4227568209171295, 0.4209743142127991, 0.4201744496822357, 0.41833990812301636, 0.41833990812301636, 0.41815635561943054, 0.8757330775260925, 0.6398864388465881, 0.6279670596122742, 0.6235170364379883, 0.5814388394355774, 0.5611111521720886, 0.5559752583503723, 0.5559752583503723, 0.5412335991859436, 0.5375362038612366, 0.5371710658073425, 0.5369767546653748, 0.5366979241371155, 0.5366009473800659, 0.5302572250366211, 0.5229567885398865, 0.5172535181045532, 0.5158771872520447, 0.5123793482780457, 0.4964969754219055, 0.4679586887359619, 0.4592605531215668, 0.45325854420661926, 0.4410236179828644, 0.4410236179828644, 0.44054079055786133, 0.4291552007198334, 0.4281153380870819, 0.42752620577812195, 0.427460253238678, 0.42205846309661865, 0.4138213098049164, 0.40823984146118164, 0.4072127938270569, 0.40274831652641296, 0.39045724272727966, 0.3885118365287781, 0.3826462924480438, 0.37766724824905396, 0.3584187626838684, 0.35733669996261597, 0.7968151569366455, 0.7468849420547485, 0.7445973753929138, 0.7439802885055542, 0.7349218130111694, 0.7349218130111694, 0.7279273271560669, 0.7237078547477722, 0.7156403660774231, 0.7127796411514282, 0.7127796411514282, 0.7100650072097778, 0.7065072059631348, 0.7016405463218689, 0.6999028921127319, 0.6997811794281006, 0.6964022517204285, 0.6963634490966797, 0.6928898096084595, 0.6851170659065247, 0.6851170659065247, 0.6790098547935486, 0.67034912109375, 0.669060468673706, 0.6679797172546387, 0.6679797172546387, 0.6679797172546387, 0.6655404567718506, 0.6655404567718506, 0.664279580116272, 0.6610280871391296, 0.6601234078407288, 0.6595062613487244, 0.6582738757133484, 0.6570792198181152, 0.6475601196289062, 0.6464757919311523, 0.6457163691520691, 0.6422907710075378, 0.6422907710075378, 0.6371816992759705, 0.627862274646759, 0.6202640533447266, 0.5987028479576111, 0.5987028479576111, 0.5959228873252869, 0.5870199799537659, 0.5867257118225098, 0.5186895728111267, 0.5186895728111267, 0.5128234624862671, 0.5108250975608826, 0.5099625587463379, 0.5063048601150513, 0.4968145787715912, 0.4968145787715912, 0.48286548256874084, 0.451075941324234, 0.4449814558029175, 0.43506771326065063, 0.43478715419769287, 0.43478715419769287, 0.4340260922908783, 0.43351444602012634, 0.43351444602012634, 0.4308754503726959, 0.4269939363002777, 0.424177885055542, 0.4208837151527405, 0.42011797428131104, 0.42011797428131104, 0.4158126711845398, 0.41425859928131104, 0.41243642568588257, 0.41104844212532043, 0.40760472416877747, 0.40262100100517273, 0.39729011058807373, 0.3963620066642761, 0.3963620066642761, 0.3963620066642761, 0.3963620066642761, 0.6639951467514038, 0.622968316078186, 0.6061465740203857, 0.5365462303161621, 0.5357190370559692, 0.5239284634590149, 0.5102202892303467, 0.5102202892303467, 0.5102202892303467, 0.5045793652534485, 0.4984821081161499, 0.49403560161590576, 0.48449262976646423, 0.4398418366909027, 0.4334648847579956, 0.4334648847579956, 0.4221009910106659, 0.4221009910106659, 0.4221009910106659, 0.4221009910106659, 0.4000679850578308, 0.37556973099708557, 0.36847123503685, 0.3668818473815918, 0.3668818473815918, 0.3591226041316986, 0.3582020401954651, 0.3431256413459778, 0.34248584508895874, 0.34248584508895874, 0.33820629119873047, 0.33215564489364624, 0.33215564489364624, 0.3318191170692444, 0.3318191170692444, 0.31971031427383423, 0.31971031427383423, 0.31003499031066895, 0.31003499031066895, 0.30275318026542664, 0.2961852550506592, 0.6227709650993347, 0.6010271906852722, 0.5658605098724365, 0.5418965816497803, 0.5349655747413635, 0.5306960344314575, 0.530642032623291, 0.5187880396842957, 0.5178809762001038, 0.5178809762001038, 0.5178809762001038, 0.5174576640129089, 0.5168465375900269, 0.5143489837646484, 0.5115979909896851, 0.50687575340271, 0.5040100812911987, 0.5016371011734009, 0.5006053447723389, 0.49909505248069763, 0.4974975883960724, 0.49733221530914307, 0.49733221530914307, 0.4948117733001709, 0.4944327771663666, 0.4925277829170227, 0.48343390226364136, 0.483186274766922, 0.48044291138648987, 0.4693959057331085, 0.4693959057331085, 0.46727508306503296, 0.46521511673927307, 0.4614407420158386, 0.44637396931648254, 0.4435407221317291, 0.44263407588005066, 0.44263407588005066, 0.4414200186729431, 0.44063735008239746, 0.4356825649738312, 0.6431518793106079, 0.596348762512207, 0.5884557366371155, 0.5791054368019104, 0.5687434077262878, 0.5674171447753906, 0.5387213826179504, 0.5385690927505493, 0.5293540358543396, 0.5263168215751648, 0.5251625776290894, 0.5060505867004395, 0.5040096044540405, 0.4880415201187134, 0.4776427149772644, 0.4776427149772644, 0.4756775200366974, 0.45794159173965454, 0.4464412033557892, 0.43830615282058716, 0.4372783303260803, 0.4365174472332001, 0.42821940779685974, 0.4272439181804657, 0.4260038137435913, 0.42181405425071716, 0.42084601521492004, 0.42039480805397034, 0.42007774114608765, 0.4177863299846649, 0.41328585147857666, 0.4071054458618164, 0.4071054458618164, 0.40429744124412537, 0.3974253535270691, 0.3947773575782776, 0.3935089111328125, 0.38881102204322815, 0.38881102204322815, 0.3861125707626343, 0.3824659585952759, 0.6926321983337402, 0.6413527131080627, 0.625857412815094, 0.6196187734603882, 0.6166173815727234, 0.6063578724861145, 0.5804334878921509, 0.5674097537994385, 0.5629200339317322, 0.5622869729995728, 0.5477100610733032, 0.5322986841201782, 0.5156062245368958, 0.5139409303665161, 0.5139409303665161, 0.4929831624031067, 0.4776257276535034, 0.468381404876709, 0.4659302234649658, 0.45848506689071655, 0.457842618227005, 0.4533129334449768, 0.44753649830818176, 0.4458385109901428, 0.4453918933868408, 0.4451092779636383, 0.4435786306858063, 0.4325930178165436, 0.426567941904068, 0.426369845867157, 0.426369845867157, 0.42408573627471924, 0.421579509973526, 0.41822350025177, 0.416227787733078, 0.41424399614334106, 0.41424399614334106, 0.4114486575126648, 0.40690547227859497, 0.40690547227859497, 0.4042673110961914, 0.9668710827827454, 0.9436665773391724, 0.8999856114387512, 0.6730619072914124, 0.6594516038894653, 0.6354019641876221, 0.5758804678916931, 0.4430995583534241, 0.4293346405029297, 0.4293346405029297, 0.42876550555229187, 0.40372055768966675, 0.39211055636405945, 0.38706156611442566, 0.38137611746788025, 0.37793734669685364, 0.3378700613975525, 0.29666373133659363, 0.29666373133659363, 0.2865931987762451, 0.2865931987762451, 0.2865931987762451, 0.27363887429237366, 0.2694980502128601, 0.26427146792411804, 0.24802424013614655, 0.22816842794418335, 0.2197139412164688, 0.21160045266151428, 0.21160045266151428, 0.20440299808979034, 0.17585201561450958, 0.17433011531829834, 0.1637672781944275, 0.16108086705207825, 0.15925578773021698, 0.15264122188091278, 0.14918152987957, 0.1437046378850937, 0.1396094560623169, 0.1373988389968872, 0.6431518793106079, 0.596348762512207, 0.5884557366371155, 0.5791054368019104, 0.5687434077262878, 0.5674171447753906, 0.5387213826179504, 0.5385690927505493, 0.5293540358543396, 0.5263168215751648, 0.5251625776290894, 0.5060505867004395, 0.5040096044540405, 0.4880415201187134, 0.4776427149772644, 0.4776427149772644, 0.4756775200366974, 0.45794159173965454, 0.4464412033557892, 0.43830615282058716, 0.4372783303260803, 0.4365174472332001, 0.42821940779685974, 0.4272439181804657, 0.4260038137435913, 0.42181405425071716, 0.42084601521492004, 0.42039480805397034, 0.42007774114608765, 0.4177863299846649, 0.41328585147857666, 0.4071054458618164, 0.4071054458618164, 0.40429744124412537, 0.3974253535270691, 0.3947773575782776, 0.3935089111328125, 0.38881102204322815, 0.38881102204322815, 0.3861125707626343, 0.3824659585952759, 0.9208505749702454, 0.9208505749702454, 0.8816797733306885, 0.8698232769966125, 0.8599609136581421, 0.8344889283180237, 0.8084021210670471, 0.8078917860984802, 0.804232656955719, 0.8039318323135376, 0.7974758744239807, 0.7962381839752197, 0.7891924381256104, 0.7871765494346619, 0.7871397733688354, 0.7871397733688354, 0.7870078682899475, 0.7749608159065247, 0.7713563442230225, 0.7713563442230225, 0.7713563442230225, 0.7547358870506287, 0.7547358870506287, 0.7544102072715759, 0.7539174556732178, 0.7539174556732178, 0.7539174556732178, 0.751318633556366, 0.74598228931427, 0.7449837327003479, 0.7393427491188049, 0.7370896339416504, 0.7370896339416504, 0.7365922927856445, 0.7285855412483215, 0.7220075130462646, 0.7193236351013184, 0.7193236351013184, 0.7180292010307312, 0.7180292010307312, 0.7180292010307312, 0.9208505749702454, 0.9208505749702454, 0.8816797733306885, 0.8698232769966125, 0.8599609136581421, 0.8344889283180237, 0.8084021210670471, 0.8078917860984802, 0.804232656955719, 0.8039318323135376, 0.7974758744239807, 0.7962381839752197, 0.7891924381256104, 0.7871765494346619, 0.7871397733688354, 0.7871397733688354, 0.7870078682899475, 0.7749608159065247, 0.7713563442230225, 0.7713563442230225, 0.7713563442230225, 0.7547358870506287, 0.7547358870506287, 0.7544102072715759, 0.7539174556732178, 0.7539174556732178, 0.7539174556732178, 0.751318633556366, 0.74598228931427, 0.7449837327003479, 0.7393427491188049, 0.7370896339416504, 0.7370896339416504, 0.7365922927856445, 0.7285855412483215, 0.7220075130462646, 0.7193236351013184, 0.7193236351013184, 0.7180292010307312, 0.7180292010307312, 0.7180292010307312, 0.9904003143310547, 0.9892975091934204, 0.8209900856018066, 0.8209900856018066, 0.7282559871673584, 0.6985486745834351, 0.6640840172767639, 0.656697154045105, 0.6326530575752258, 0.6278637647628784, 0.6056456565856934, 0.6056456565856934, 0.5812349915504456, 0.5807076096534729, 0.5807076096534729, 0.5670710206031799, 0.5670710206031799, 0.5572570562362671, 0.5572570562362671, 0.5339148640632629, 0.4924614727497101, 0.4920150935649872, 0.4907205402851105, 0.4729197025299072, 0.4704604744911194, 0.4669814705848694, 0.4610637128353119, 0.4471801519393921, 0.44199731945991516, 0.4416774809360504, 0.4413023591041565, 0.4382626712322235, 0.4382626712322235, 0.4349670112133026, 0.4345035254955292, 0.4331393241882324, 0.416709303855896, 0.40762290358543396, 0.407177597284317, 0.407177597284317, 0.407177597284317, 0.9208505749702454, 0.9208505749702454, 0.8816797733306885, 0.8698232769966125, 0.8599609136581421, 0.8344889283180237, 0.8084021210670471, 0.8078917860984802, 0.804232656955719, 0.8039318323135376, 0.7974758744239807, 0.7962381839752197, 0.7891924381256104, 0.7871765494346619, 0.7871397733688354, 0.7871397733688354, 0.7870078682899475, 0.7749608159065247, 0.7713563442230225, 0.7713563442230225, 0.7713563442230225, 0.7547358870506287, 0.7547358870506287, 0.7544102072715759, 0.7539174556732178, 0.7539174556732178, 0.7539174556732178, 0.751318633556366, 0.74598228931427, 0.7449837327003479, 0.7393427491188049, 0.7370896339416504, 0.7370896339416504, 0.7365922927856445, 0.7285855412483215, 0.7220075130462646, 0.7193236351013184, 0.7193236351013184, 0.7180292010307312, 0.7180292010307312, 0.7180292010307312, 0.8445751070976257, 0.8061641454696655, 0.7932248711585999, 0.7830120921134949, 0.7819838523864746, 0.7680200338363647, 0.767723023891449, 0.767723023891449, 0.7653374075889587, 0.7644109129905701, 0.7627438902854919, 0.760606586933136, 0.7562435269355774, 0.7562435269355774, 0.7527673244476318, 0.748449981212616, 0.7449297904968262, 0.7449297904968262, 0.7449297904968262, 0.7387254238128662, 0.7345461845397949, 0.7342599630355835, 0.7332761287689209, 0.7332761287689209, 0.7332743406295776, 0.7332743406295776, 0.7315050959587097, 0.7314116954803467, 0.7314116954803467, 0.7282694578170776, 0.7267476916313171, 0.7231858372688293, 0.7218319177627563, 0.7189484238624573, 0.7183080911636353, 0.7115346193313599, 0.7096875309944153, 0.7084373831748962, 0.7071905136108398, 0.7048859000205994, 0.7045301198959351, 0.8001434803009033, 0.7649124264717102, 0.7511147260665894, 0.7433230876922607, 0.7405373454093933, 0.7301189303398132, 0.7283886671066284, 0.7279565334320068, 0.7257587313652039, 0.7248128056526184, 0.7248128056526184, 0.7232773900032043, 0.7227326035499573, 0.7187542915344238, 0.7187542915344238, 0.7143707275390625, 0.7101598381996155, 0.7070679664611816, 0.7070679664611816, 0.7070679664611816, 0.7007099986076355, 0.700215220451355, 0.697502613067627, 0.6968742609024048, 0.6961105465888977, 0.6961105465888977, 0.69499272108078, 0.69499272108078, 0.6946349143981934, 0.6939395070075989, 0.6939395070075989, 0.6936212778091431, 0.6935937404632568, 0.6896814703941345, 0.688060998916626, 0.6841588616371155, 0.682746171951294, 0.6809220910072327, 0.6809220910072327, 0.6801247000694275, 0.6769458055496216, 0.9414678812026978, 0.7709439992904663, 0.5897595286369324, 0.5613791346549988, 0.5613791346549988, 0.5533052086830139, 0.5289849638938904, 0.5157430768013, 0.5053777098655701, 0.5043888092041016, 0.5035896897315979, 0.5018248558044434, 0.5013329982757568, 0.49315115809440613, 0.4903706908226013, 0.4762226343154907, 0.472555935382843, 0.472555935382843, 0.472555935382843, 0.46221092343330383, 0.4491797685623169, 0.44866687059402466, 0.44433626532554626, 0.43790027499198914, 0.4262702465057373, 0.42555880546569824, 0.425458699464798, 0.41688138246536255, 0.3993251621723175, 0.39770326018333435, 0.3931206464767456, 0.3859240412712097, 0.38287344574928284, 0.38032257556915283, 0.3792087137699127, 0.37384676933288574, 0.37247955799102783, 0.3680388033390045, 0.3677601218223572, 0.3667299747467041, 0.36659786105155945, 0.7922644019126892, 0.7745281457901001, 0.7745281457901001, 0.763080358505249, 0.7566859722137451, 0.745138943195343, 0.7338265776634216, 0.7335201501846313, 0.731234073638916, 0.7265828847885132, 0.7250791788101196, 0.7193349003791809, 0.7179337739944458, 0.7179337739944458, 0.7173663973808289, 0.7171441912651062, 0.7163580656051636, 0.7146965265274048, 0.7121902704238892, 0.7096090912818909, 0.7096090912818909, 0.7075210809707642, 0.7051122188568115, 0.7027376890182495, 0.7015185952186584, 0.6999195218086243, 0.6983024477958679, 0.6983024477958679, 0.6983024477958679, 0.6949105858802795, 0.6920018792152405, 0.6905776262283325, 0.68849778175354, 0.6884787082672119, 0.6872409582138062, 0.6872409582138062, 0.6857900619506836, 0.6857900619506836, 0.6852930188179016, 0.6852930188179016, 0.6849485039710999, 0.836292028427124, 0.7702791094779968, 0.707560122013092, 0.7047642469406128, 0.699091911315918, 0.6964492797851562, 0.6885615587234497, 0.6880472302436829, 0.6840015053749084, 0.6726234555244446, 0.6669996380805969, 0.6648846864700317, 0.6290543675422668, 0.6289232969284058, 0.6256482601165771, 0.6088903546333313, 0.5718503594398499, 0.567546010017395, 0.556422770023346, 0.5430609583854675, 0.5334646105766296, 0.5229161977767944, 0.5126435160636902, 0.5075259804725647, 0.5019317865371704, 0.5010420680046082, 0.50050288438797, 0.500321626663208, 0.49806246161460876, 0.4954873323440552, 0.4895714819431305, 0.4895714819431305, 0.4764304459095001, 0.474521279335022, 0.4725584387779236, 0.46515312790870667, 0.46515312790870667, 0.4607570171356201, 0.45970419049263, 0.45947325229644775, 0.45708391070365906, 0.7253850102424622, 0.6834617853164673, 0.663455605506897, 0.6620292067527771, 0.6477766633033752, 0.6452062129974365, 0.6240741014480591, 0.6227822303771973, 0.6196730732917786, 0.6174726486206055, 0.6061015129089355, 0.6009746789932251, 0.5998579263687134, 0.5991028547286987, 0.5820906162261963, 0.5804331302642822, 0.5771960616111755, 0.5771960616111755, 0.5587281584739685, 0.5586142539978027, 0.5374112129211426, 0.535060465335846, 0.5275881290435791, 0.523910641670227, 0.5184527039527893, 0.5122887492179871, 0.493452250957489, 0.4859617352485657, 0.48075905442237854, 0.4786332845687866, 0.4682791233062744, 0.46600839495658875, 0.45833930373191833, 0.45385831594467163, 0.44826996326446533, 0.44779035449028015, 0.4449043571949005, 0.44119158387184143, 0.4398479163646698, 0.438652366399765, 0.438652366399765, 0.8623205423355103, 0.8286298513412476, 0.8212726712226868, 0.8017950654029846, 0.6679621934890747, 0.6632546186447144, 0.5820561051368713, 0.5241847634315491, 0.5101171731948853, 0.5082740187644958, 0.5077309608459473, 0.4813281297683716, 0.4778810143470764, 0.4702189862728119, 0.4685444235801697, 0.46741411089897156, 0.46532168984413147, 0.46028006076812744, 0.46028006076812744, 0.4514218866825104, 0.42846307158470154, 0.42846307158470154, 0.4149226248264313, 0.4149226248264313, 0.38433024287223816, 0.3818013668060303, 0.3659214377403259, 0.365241676568985, 0.3505041301250458, 0.3471969962120056, 0.34629660844802856, 0.34341397881507874, 0.3423742353916168, 0.33973416686058044, 0.3367530107498169, 0.31543561816215515, 0.31320905685424805, 0.3091914653778076, 0.3091914653778076, 0.3091914653778076, 0.30730950832366943, 0.7253850102424622, 0.6834617853164673, 0.663455605506897, 0.6620292067527771, 0.6477766633033752, 0.6452062129974365, 0.6240741014480591, 0.6227822303771973, 0.6196730732917786, 0.6174726486206055, 0.6061015129089355, 0.6009746789932251, 0.5998579263687134, 0.5991028547286987, 0.5820906162261963, 0.5804331302642822, 0.5771960616111755, 0.5771960616111755, 0.5587281584739685, 0.5586142539978027, 0.5374112129211426, 0.535060465335846, 0.5275881290435791, 0.523910641670227, 0.5184527039527893, 0.5122887492179871, 0.493452250957489, 0.4859617352485657, 0.48075905442237854, 0.4786332845687866, 0.4682791233062744, 0.46600839495658875, 0.45833930373191833, 0.45385831594467163, 0.44826996326446533, 0.44779035449028015, 0.4449043571949005, 0.44119158387184143, 0.4398479163646698, 0.438652366399765, 0.438652366399765], \"xaxis\": \"x\", \"yaxis\": \"y\"}],\n",
              "                        {\"barmode\": \"relative\", \"legend\": {\"tracegroupgap\": 0}, \"template\": {\"data\": {\"bar\": [{\"error_x\": {\"color\": \"#2a3f5f\"}, \"error_y\": {\"color\": \"#2a3f5f\"}, \"marker\": {\"line\": {\"color\": \"#E5ECF6\", \"width\": 0.5}}, \"type\": \"bar\"}], \"barpolar\": [{\"marker\": {\"line\": {\"color\": \"#E5ECF6\", \"width\": 0.5}}, \"type\": \"barpolar\"}], \"carpet\": [{\"aaxis\": {\"endlinecolor\": \"#2a3f5f\", \"gridcolor\": \"white\", \"linecolor\": \"white\", \"minorgridcolor\": \"white\", \"startlinecolor\": \"#2a3f5f\"}, \"baxis\": {\"endlinecolor\": \"#2a3f5f\", \"gridcolor\": \"white\", \"linecolor\": \"white\", \"minorgridcolor\": \"white\", \"startlinecolor\": \"#2a3f5f\"}, \"type\": \"carpet\"}], \"choropleth\": [{\"colorbar\": {\"outlinewidth\": 0, \"ticks\": \"\"}, \"type\": \"choropleth\"}], \"contour\": [{\"colorbar\": {\"outlinewidth\": 0, \"ticks\": \"\"}, \"colorscale\": [[0.0, \"#0d0887\"], [0.1111111111111111, \"#46039f\"], [0.2222222222222222, \"#7201a8\"], [0.3333333333333333, \"#9c179e\"], [0.4444444444444444, \"#bd3786\"], [0.5555555555555556, \"#d8576b\"], [0.6666666666666666, \"#ed7953\"], [0.7777777777777778, \"#fb9f3a\"], [0.8888888888888888, \"#fdca26\"], [1.0, \"#f0f921\"]], \"type\": \"contour\"}], \"contourcarpet\": [{\"colorbar\": {\"outlinewidth\": 0, \"ticks\": \"\"}, \"type\": \"contourcarpet\"}], \"heatmap\": [{\"colorbar\": {\"outlinewidth\": 0, \"ticks\": \"\"}, \"colorscale\": [[0.0, \"#0d0887\"], [0.1111111111111111, \"#46039f\"], [0.2222222222222222, \"#7201a8\"], [0.3333333333333333, \"#9c179e\"], [0.4444444444444444, \"#bd3786\"], [0.5555555555555556, \"#d8576b\"], [0.6666666666666666, \"#ed7953\"], [0.7777777777777778, \"#fb9f3a\"], [0.8888888888888888, \"#fdca26\"], [1.0, \"#f0f921\"]], \"type\": \"heatmap\"}], \"heatmapgl\": [{\"colorbar\": {\"outlinewidth\": 0, \"ticks\": \"\"}, \"colorscale\": [[0.0, \"#0d0887\"], [0.1111111111111111, \"#46039f\"], [0.2222222222222222, \"#7201a8\"], [0.3333333333333333, \"#9c179e\"], [0.4444444444444444, \"#bd3786\"], [0.5555555555555556, \"#d8576b\"], [0.6666666666666666, \"#ed7953\"], [0.7777777777777778, \"#fb9f3a\"], [0.8888888888888888, \"#fdca26\"], [1.0, \"#f0f921\"]], \"type\": \"heatmapgl\"}], \"histogram\": [{\"marker\": {\"colorbar\": {\"outlinewidth\": 0, \"ticks\": \"\"}}, \"type\": \"histogram\"}], \"histogram2d\": [{\"colorbar\": {\"outlinewidth\": 0, \"ticks\": \"\"}, \"colorscale\": [[0.0, \"#0d0887\"], [0.1111111111111111, \"#46039f\"], [0.2222222222222222, \"#7201a8\"], [0.3333333333333333, \"#9c179e\"], [0.4444444444444444, \"#bd3786\"], [0.5555555555555556, \"#d8576b\"], [0.6666666666666666, \"#ed7953\"], [0.7777777777777778, \"#fb9f3a\"], [0.8888888888888888, \"#fdca26\"], [1.0, \"#f0f921\"]], \"type\": \"histogram2d\"}], \"histogram2dcontour\": [{\"colorbar\": {\"outlinewidth\": 0, \"ticks\": \"\"}, \"colorscale\": [[0.0, \"#0d0887\"], [0.1111111111111111, \"#46039f\"], [0.2222222222222222, \"#7201a8\"], [0.3333333333333333, \"#9c179e\"], [0.4444444444444444, \"#bd3786\"], [0.5555555555555556, \"#d8576b\"], [0.6666666666666666, \"#ed7953\"], [0.7777777777777778, \"#fb9f3a\"], [0.8888888888888888, \"#fdca26\"], [1.0, \"#f0f921\"]], \"type\": \"histogram2dcontour\"}], \"mesh3d\": [{\"colorbar\": {\"outlinewidth\": 0, \"ticks\": \"\"}, \"type\": \"mesh3d\"}], \"parcoords\": [{\"line\": {\"colorbar\": {\"outlinewidth\": 0, \"ticks\": \"\"}}, \"type\": \"parcoords\"}], \"pie\": [{\"automargin\": true, \"type\": \"pie\"}], \"scatter\": [{\"marker\": {\"colorbar\": {\"outlinewidth\": 0, \"ticks\": \"\"}}, \"type\": \"scatter\"}], \"scatter3d\": [{\"line\": {\"colorbar\": {\"outlinewidth\": 0, \"ticks\": \"\"}}, \"marker\": {\"colorbar\": {\"outlinewidth\": 0, \"ticks\": \"\"}}, \"type\": \"scatter3d\"}], \"scattercarpet\": [{\"marker\": {\"colorbar\": {\"outlinewidth\": 0, \"ticks\": \"\"}}, \"type\": \"scattercarpet\"}], \"scattergeo\": [{\"marker\": {\"colorbar\": {\"outlinewidth\": 0, \"ticks\": \"\"}}, \"type\": \"scattergeo\"}], \"scattergl\": [{\"marker\": {\"colorbar\": {\"outlinewidth\": 0, \"ticks\": \"\"}}, \"type\": \"scattergl\"}], \"scattermapbox\": [{\"marker\": {\"colorbar\": {\"outlinewidth\": 0, \"ticks\": \"\"}}, \"type\": \"scattermapbox\"}], \"scatterpolar\": [{\"marker\": {\"colorbar\": {\"outlinewidth\": 0, \"ticks\": \"\"}}, \"type\": \"scatterpolar\"}], \"scatterpolargl\": [{\"marker\": {\"colorbar\": {\"outlinewidth\": 0, \"ticks\": \"\"}}, \"type\": \"scatterpolargl\"}], \"scatterternary\": [{\"marker\": {\"colorbar\": {\"outlinewidth\": 0, \"ticks\": \"\"}}, \"type\": \"scatterternary\"}], \"surface\": [{\"colorbar\": {\"outlinewidth\": 0, \"ticks\": \"\"}, \"colorscale\": [[0.0, \"#0d0887\"], [0.1111111111111111, \"#46039f\"], [0.2222222222222222, \"#7201a8\"], [0.3333333333333333, \"#9c179e\"], [0.4444444444444444, \"#bd3786\"], [0.5555555555555556, \"#d8576b\"], [0.6666666666666666, \"#ed7953\"], [0.7777777777777778, \"#fb9f3a\"], [0.8888888888888888, \"#fdca26\"], [1.0, \"#f0f921\"]], \"type\": \"surface\"}], \"table\": [{\"cells\": {\"fill\": {\"color\": \"#EBF0F8\"}, \"line\": {\"color\": \"white\"}}, \"header\": {\"fill\": {\"color\": \"#C8D4E3\"}, \"line\": {\"color\": \"white\"}}, \"type\": \"table\"}]}, \"layout\": {\"annotationdefaults\": {\"arrowcolor\": \"#2a3f5f\", \"arrowhead\": 0, \"arrowwidth\": 1}, \"coloraxis\": {\"colorbar\": {\"outlinewidth\": 0, \"ticks\": \"\"}}, \"colorscale\": {\"diverging\": [[0, \"#8e0152\"], [0.1, \"#c51b7d\"], [0.2, \"#de77ae\"], [0.3, \"#f1b6da\"], [0.4, \"#fde0ef\"], [0.5, \"#f7f7f7\"], [0.6, \"#e6f5d0\"], [0.7, \"#b8e186\"], [0.8, \"#7fbc41\"], [0.9, \"#4d9221\"], [1, \"#276419\"]], \"sequential\": [[0.0, \"#0d0887\"], [0.1111111111111111, \"#46039f\"], [0.2222222222222222, \"#7201a8\"], [0.3333333333333333, \"#9c179e\"], [0.4444444444444444, \"#bd3786\"], [0.5555555555555556, \"#d8576b\"], [0.6666666666666666, \"#ed7953\"], [0.7777777777777778, \"#fb9f3a\"], [0.8888888888888888, \"#fdca26\"], [1.0, \"#f0f921\"]], \"sequentialminus\": [[0.0, \"#0d0887\"], [0.1111111111111111, \"#46039f\"], [0.2222222222222222, \"#7201a8\"], [0.3333333333333333, \"#9c179e\"], [0.4444444444444444, \"#bd3786\"], [0.5555555555555556, \"#d8576b\"], [0.6666666666666666, \"#ed7953\"], [0.7777777777777778, \"#fb9f3a\"], [0.8888888888888888, \"#fdca26\"], [1.0, \"#f0f921\"]]}, \"colorway\": [\"#636efa\", \"#EF553B\", \"#00cc96\", \"#ab63fa\", \"#FFA15A\", \"#19d3f3\", \"#FF6692\", \"#B6E880\", \"#FF97FF\", \"#FECB52\"], \"font\": {\"color\": \"#2a3f5f\"}, \"geo\": {\"bgcolor\": \"white\", \"lakecolor\": \"white\", \"landcolor\": \"#E5ECF6\", \"showlakes\": true, \"showland\": true, \"subunitcolor\": \"white\"}, \"hoverlabel\": {\"align\": \"left\"}, \"hovermode\": \"closest\", \"mapbox\": {\"style\": \"light\"}, \"paper_bgcolor\": \"white\", \"plot_bgcolor\": \"#E5ECF6\", \"polar\": {\"angularaxis\": {\"gridcolor\": \"white\", \"linecolor\": \"white\", \"ticks\": \"\"}, \"bgcolor\": \"#E5ECF6\", \"radialaxis\": {\"gridcolor\": \"white\", \"linecolor\": \"white\", \"ticks\": \"\"}}, \"scene\": {\"xaxis\": {\"backgroundcolor\": \"#E5ECF6\", \"gridcolor\": \"white\", \"gridwidth\": 2, \"linecolor\": \"white\", \"showbackground\": true, \"ticks\": \"\", \"zerolinecolor\": \"white\"}, \"yaxis\": {\"backgroundcolor\": \"#E5ECF6\", \"gridcolor\": \"white\", \"gridwidth\": 2, \"linecolor\": \"white\", \"showbackground\": true, \"ticks\": \"\", \"zerolinecolor\": \"white\"}, \"zaxis\": {\"backgroundcolor\": \"#E5ECF6\", \"gridcolor\": \"white\", \"gridwidth\": 2, \"linecolor\": \"white\", \"showbackground\": true, \"ticks\": \"\", \"zerolinecolor\": \"white\"}}, \"shapedefaults\": {\"line\": {\"color\": \"#2a3f5f\"}}, \"ternary\": {\"aaxis\": {\"gridcolor\": \"white\", \"linecolor\": \"white\", \"ticks\": \"\"}, \"baxis\": {\"gridcolor\": \"white\", \"linecolor\": \"white\", \"ticks\": \"\"}, \"bgcolor\": \"#E5ECF6\", \"caxis\": {\"gridcolor\": \"white\", \"linecolor\": \"white\", \"ticks\": \"\"}}, \"title\": {\"x\": 0.05}, \"xaxis\": {\"automargin\": true, \"gridcolor\": \"white\", \"linecolor\": \"white\", \"ticks\": \"\", \"title\": {\"standoff\": 15}, \"zerolinecolor\": \"white\", \"zerolinewidth\": 2}, \"yaxis\": {\"automargin\": true, \"gridcolor\": \"white\", \"linecolor\": \"white\", \"ticks\": \"\", \"title\": {\"standoff\": 15}, \"zerolinecolor\": \"white\", \"zerolinewidth\": 2}}}, \"title\": {\"text\": \"LSI Scores\"}, \"xaxis\": {\"anchor\": \"y\", \"domain\": [0.0, 1.0], \"title\": {\"text\": \"score\"}}, \"yaxis\": {\"anchor\": \"x\", \"domain\": [0.0, 1.0], \"title\": {\"text\": \"count\"}}},\n",
              "                        {\"responsive\": true}\n",
              "                    ).then(function(){\n",
              "                            \n",
              "var gd = document.getElementById('62cdd009-c8ad-42f3-8c45-2e647541b28d');\n",
              "var x = new MutationObserver(function (mutations, observer) {{\n",
              "        var display = window.getComputedStyle(gd).display;\n",
              "        if (!display || display === 'none') {{\n",
              "            console.log([gd, 'removed!']);\n",
              "            Plotly.purge(gd);\n",
              "            observer.disconnect();\n",
              "        }}\n",
              "}});\n",
              "\n",
              "// Listen for the removal of the full notebook cells\n",
              "var notebookContainer = gd.closest('#notebook-container');\n",
              "if (notebookContainer) {{\n",
              "    x.observe(notebookContainer, {childList: true});\n",
              "}}\n",
              "\n",
              "// Listen for the clearing of the current output cell\n",
              "var outputEl = gd.closest('.output');\n",
              "if (outputEl) {{\n",
              "    x.observe(outputEl, {childList: true});\n",
              "}}\n",
              "\n",
              "                        })\n",
              "                };\n",
              "                \n",
              "            </script>\n",
              "        </div>\n",
              "</body>\n",
              "</html>"
            ]
          },
          "metadata": {}
        }
      ]
    },
    {
      "cell_type": "code",
      "metadata": {
        "id": "RX2JvEEGPGgS"
      },
      "source": [
        "wandb.log({\"scores_hist\": fig})"
      ],
      "execution_count": 50,
      "outputs": []
    },
    {
      "cell_type": "code",
      "metadata": {
        "colab": {
          "base_uri": "https://localhost:8080/",
          "height": 990
        },
        "id": "7N81-XfdDFKV",
        "outputId": "bdad642c-4848-48f6-d3a8-d3a6f25a8057"
      },
      "source": [
        "result, details = recommend_tune(df_sim, 'These Foolish Things')\n",
        "result.head(30)"
      ],
      "execution_count": 51,
      "outputs": [
        {
          "output_type": "execute_result",
          "data": {
            "text/html": [
              "<div>\n",
              "<style scoped>\n",
              "    .dataframe tbody tr th:only-of-type {\n",
              "        vertical-align: middle;\n",
              "    }\n",
              "\n",
              "    .dataframe tbody tr th {\n",
              "        vertical-align: top;\n",
              "    }\n",
              "\n",
              "    .dataframe thead th {\n",
              "        text-align: right;\n",
              "    }\n",
              "</style>\n",
              "<table border=\"1\" class=\"dataframe\">\n",
              "  <thead>\n",
              "    <tr style=\"text-align: right;\">\n",
              "      <th></th>\n",
              "      <th>index</th>\n",
              "      <th>reference</th>\n",
              "      <th>similar_title</th>\n",
              "      <th>score</th>\n",
              "      <th>max</th>\n",
              "      <th>score_div_max</th>\n",
              "    </tr>\n",
              "  </thead>\n",
              "  <tbody>\n",
              "    <tr>\n",
              "      <th>0</th>\n",
              "      <td>0</td>\n",
              "      <td>These Foolish Things</td>\n",
              "      <td>Isn't It A Pity</td>\n",
              "      <td>0.941468</td>\n",
              "      <td>0.941468</td>\n",
              "      <td>1.000000</td>\n",
              "    </tr>\n",
              "    <tr>\n",
              "      <th>1</th>\n",
              "      <td>1</td>\n",
              "      <td>These Foolish Things</td>\n",
              "      <td>I'm Old Fashioned</td>\n",
              "      <td>0.844575</td>\n",
              "      <td>0.844575</td>\n",
              "      <td>1.000000</td>\n",
              "    </tr>\n",
              "    <tr>\n",
              "      <th>2</th>\n",
              "      <td>2</td>\n",
              "      <td>These Foolish Things</td>\n",
              "      <td>I Like The Likes Of You</td>\n",
              "      <td>0.774528</td>\n",
              "      <td>0.792264</td>\n",
              "      <td>0.977613</td>\n",
              "    </tr>\n",
              "    <tr>\n",
              "      <th>3</th>\n",
              "      <td>3</td>\n",
              "      <td>These Foolish Things</td>\n",
              "      <td>And The Angels Sing</td>\n",
              "      <td>0.763080</td>\n",
              "      <td>0.792264</td>\n",
              "      <td>0.963164</td>\n",
              "    </tr>\n",
              "    <tr>\n",
              "      <th>4</th>\n",
              "      <td>4</td>\n",
              "      <td>These Foolish Things</td>\n",
              "      <td>Way You Look Tonight, The</td>\n",
              "      <td>0.806164</td>\n",
              "      <td>0.844575</td>\n",
              "      <td>0.955969</td>\n",
              "    </tr>\n",
              "    <tr>\n",
              "      <th>5</th>\n",
              "      <td>5</td>\n",
              "      <td>These Foolish Things</td>\n",
              "      <td>People</td>\n",
              "      <td>0.793225</td>\n",
              "      <td>0.844575</td>\n",
              "      <td>0.940518</td>\n",
              "    </tr>\n",
              "    <tr>\n",
              "      <th>6</th>\n",
              "      <td>6</td>\n",
              "      <td>These Foolish Things</td>\n",
              "      <td>Mountain Greenery</td>\n",
              "      <td>0.783012</td>\n",
              "      <td>0.844575</td>\n",
              "      <td>0.928987</td>\n",
              "    </tr>\n",
              "    <tr>\n",
              "      <th>7</th>\n",
              "      <td>7</td>\n",
              "      <td>These Foolish Things</td>\n",
              "      <td>I Won't Dance</td>\n",
              "      <td>0.781984</td>\n",
              "      <td>0.844575</td>\n",
              "      <td>0.925890</td>\n",
              "    </tr>\n",
              "    <tr>\n",
              "      <th>8</th>\n",
              "      <td>8</td>\n",
              "      <td>These Foolish Things</td>\n",
              "      <td>For Once In My Life</td>\n",
              "      <td>0.733520</td>\n",
              "      <td>0.792264</td>\n",
              "      <td>0.925853</td>\n",
              "    </tr>\n",
              "    <tr>\n",
              "      <th>9</th>\n",
              "      <td>9</td>\n",
              "      <td>These Foolish Things</td>\n",
              "      <td>Let's Fall In Love</td>\n",
              "      <td>0.756244</td>\n",
              "      <td>0.844575</td>\n",
              "      <td>0.917096</td>\n",
              "    </tr>\n",
              "    <tr>\n",
              "      <th>10</th>\n",
              "      <td>10</td>\n",
              "      <td>These Foolish Things</td>\n",
              "      <td>Party's Over, The</td>\n",
              "      <td>0.725079</td>\n",
              "      <td>0.792264</td>\n",
              "      <td>0.915198</td>\n",
              "    </tr>\n",
              "    <tr>\n",
              "      <th>11</th>\n",
              "      <td>11</td>\n",
              "      <td>These Foolish Things</td>\n",
              "      <td>Smoke Gets In Your Eyes</td>\n",
              "      <td>0.765337</td>\n",
              "      <td>0.844575</td>\n",
              "      <td>0.910323</td>\n",
              "    </tr>\n",
              "    <tr>\n",
              "      <th>12</th>\n",
              "      <td>12</td>\n",
              "      <td>These Foolish Things</td>\n",
              "      <td>Time After Time</td>\n",
              "      <td>0.768020</td>\n",
              "      <td>0.844575</td>\n",
              "      <td>0.909782</td>\n",
              "    </tr>\n",
              "    <tr>\n",
              "      <th>13</th>\n",
              "      <td>13</td>\n",
              "      <td>These Foolish Things</td>\n",
              "      <td>Touch Of Your Lips, The</td>\n",
              "      <td>0.767723</td>\n",
              "      <td>0.844575</td>\n",
              "      <td>0.909005</td>\n",
              "    </tr>\n",
              "    <tr>\n",
              "      <th>14</th>\n",
              "      <td>14</td>\n",
              "      <td>These Foolish Things</td>\n",
              "      <td>Wouldn't It Be Loverly</td>\n",
              "      <td>0.716358</td>\n",
              "      <td>0.792264</td>\n",
              "      <td>0.904191</td>\n",
              "    </tr>\n",
              "    <tr>\n",
              "      <th>15</th>\n",
              "      <td>15</td>\n",
              "      <td>These Foolish Things</td>\n",
              "      <td>Don't Be That Way</td>\n",
              "      <td>0.760607</td>\n",
              "      <td>0.844575</td>\n",
              "      <td>0.903254</td>\n",
              "    </tr>\n",
              "    <tr>\n",
              "      <th>16</th>\n",
              "      <td>16</td>\n",
              "      <td>These Foolish Things</td>\n",
              "      <td>Heart And Soul</td>\n",
              "      <td>0.756244</td>\n",
              "      <td>0.844575</td>\n",
              "      <td>0.898282</td>\n",
              "    </tr>\n",
              "    <tr>\n",
              "      <th>17</th>\n",
              "      <td>17</td>\n",
              "      <td>These Foolish Things</td>\n",
              "      <td>Dinah</td>\n",
              "      <td>0.707521</td>\n",
              "      <td>0.792264</td>\n",
              "      <td>0.893037</td>\n",
              "    </tr>\n",
              "    <tr>\n",
              "      <th>18</th>\n",
              "      <td>18</td>\n",
              "      <td>These Foolish Things</td>\n",
              "      <td>I Can't Get Started</td>\n",
              "      <td>0.701519</td>\n",
              "      <td>0.800143</td>\n",
              "      <td>0.885460</td>\n",
              "    </tr>\n",
              "    <tr>\n",
              "      <th>19</th>\n",
              "      <td>19</td>\n",
              "      <td>These Foolish Things</td>\n",
              "      <td>52nd Street Theme</td>\n",
              "      <td>0.744930</td>\n",
              "      <td>0.844575</td>\n",
              "      <td>0.883676</td>\n",
              "    </tr>\n",
              "    <tr>\n",
              "      <th>20</th>\n",
              "      <td>20</td>\n",
              "      <td>These Foolish Things</td>\n",
              "      <td>Try A Little Tenderness</td>\n",
              "      <td>0.699920</td>\n",
              "      <td>0.792264</td>\n",
              "      <td>0.883442</td>\n",
              "    </tr>\n",
              "    <tr>\n",
              "      <th>21</th>\n",
              "      <td>21</td>\n",
              "      <td>These Foolish Things</td>\n",
              "      <td>Charleston, The</td>\n",
              "      <td>0.694911</td>\n",
              "      <td>0.792264</td>\n",
              "      <td>0.877120</td>\n",
              "    </tr>\n",
              "    <tr>\n",
              "      <th>22</th>\n",
              "      <td>22</td>\n",
              "      <td>These Foolish Things</td>\n",
              "      <td>At Last</td>\n",
              "      <td>0.734260</td>\n",
              "      <td>0.844575</td>\n",
              "      <td>0.871722</td>\n",
              "    </tr>\n",
              "    <tr>\n",
              "      <th>23</th>\n",
              "      <td>23</td>\n",
              "      <td>These Foolish Things</td>\n",
              "      <td>Long Ago And Far Away</td>\n",
              "      <td>0.733274</td>\n",
              "      <td>0.844575</td>\n",
              "      <td>0.869982</td>\n",
              "    </tr>\n",
              "    <tr>\n",
              "      <th>24</th>\n",
              "      <td>24</td>\n",
              "      <td>These Foolish Things</td>\n",
              "      <td>Blue Moon</td>\n",
              "      <td>0.733276</td>\n",
              "      <td>0.844575</td>\n",
              "      <td>0.868585</td>\n",
              "    </tr>\n",
              "    <tr>\n",
              "      <th>25</th>\n",
              "      <td>25</td>\n",
              "      <td>These Foolish Things</td>\n",
              "      <td>Too Young To Go Steady</td>\n",
              "      <td>0.694635</td>\n",
              "      <td>0.941468</td>\n",
              "      <td>0.868138</td>\n",
              "    </tr>\n",
              "    <tr>\n",
              "      <th>26</th>\n",
              "      <td>26</td>\n",
              "      <td>These Foolish Things</td>\n",
              "      <td>Jeepers Creepers</td>\n",
              "      <td>0.731412</td>\n",
              "      <td>0.844575</td>\n",
              "      <td>0.867269</td>\n",
              "    </tr>\n",
              "    <tr>\n",
              "      <th>27</th>\n",
              "      <td>27</td>\n",
              "      <td>These Foolish Things</td>\n",
              "      <td>Fools Rush In</td>\n",
              "      <td>0.731505</td>\n",
              "      <td>0.844575</td>\n",
              "      <td>0.866122</td>\n",
              "    </tr>\n",
              "    <tr>\n",
              "      <th>28</th>\n",
              "      <td>28</td>\n",
              "      <td>These Foolish Things</td>\n",
              "      <td>Bewitched</td>\n",
              "      <td>0.728269</td>\n",
              "      <td>0.844575</td>\n",
              "      <td>0.862291</td>\n",
              "    </tr>\n",
              "    <tr>\n",
              "      <th>29</th>\n",
              "      <td>29</td>\n",
              "      <td>These Foolish Things</td>\n",
              "      <td>Imagination</td>\n",
              "      <td>0.770944</td>\n",
              "      <td>0.941468</td>\n",
              "      <td>0.818874</td>\n",
              "    </tr>\n",
              "  </tbody>\n",
              "</table>\n",
              "</div>"
            ],
            "text/plain": [
              "    index             reference  ...       max  score_div_max\n",
              "0       0  These Foolish Things  ...  0.941468       1.000000\n",
              "1       1  These Foolish Things  ...  0.844575       1.000000\n",
              "2       2  These Foolish Things  ...  0.792264       0.977613\n",
              "3       3  These Foolish Things  ...  0.792264       0.963164\n",
              "4       4  These Foolish Things  ...  0.844575       0.955969\n",
              "5       5  These Foolish Things  ...  0.844575       0.940518\n",
              "6       6  These Foolish Things  ...  0.844575       0.928987\n",
              "7       7  These Foolish Things  ...  0.844575       0.925890\n",
              "8       8  These Foolish Things  ...  0.792264       0.925853\n",
              "9       9  These Foolish Things  ...  0.844575       0.917096\n",
              "10     10  These Foolish Things  ...  0.792264       0.915198\n",
              "11     11  These Foolish Things  ...  0.844575       0.910323\n",
              "12     12  These Foolish Things  ...  0.844575       0.909782\n",
              "13     13  These Foolish Things  ...  0.844575       0.909005\n",
              "14     14  These Foolish Things  ...  0.792264       0.904191\n",
              "15     15  These Foolish Things  ...  0.844575       0.903254\n",
              "16     16  These Foolish Things  ...  0.844575       0.898282\n",
              "17     17  These Foolish Things  ...  0.792264       0.893037\n",
              "18     18  These Foolish Things  ...  0.800143       0.885460\n",
              "19     19  These Foolish Things  ...  0.844575       0.883676\n",
              "20     20  These Foolish Things  ...  0.792264       0.883442\n",
              "21     21  These Foolish Things  ...  0.792264       0.877120\n",
              "22     22  These Foolish Things  ...  0.844575       0.871722\n",
              "23     23  These Foolish Things  ...  0.844575       0.869982\n",
              "24     24  These Foolish Things  ...  0.844575       0.868585\n",
              "25     25  These Foolish Things  ...  0.941468       0.868138\n",
              "26     26  These Foolish Things  ...  0.844575       0.867269\n",
              "27     27  These Foolish Things  ...  0.844575       0.866122\n",
              "28     28  These Foolish Things  ...  0.844575       0.862291\n",
              "29     29  These Foolish Things  ...  0.941468       0.818874\n",
              "\n",
              "[30 rows x 6 columns]"
            ]
          },
          "metadata": {},
          "execution_count": 51
        }
      ]
    },
    {
      "cell_type": "code",
      "metadata": {
        "id": "15ZsHOQmyyah"
      },
      "source": [
        "dd = pd.DataFrame(columns = recommender_results_cols)\n",
        "\n",
        "for tune in tunes_eval_list:\n",
        "  result, details = recommend_tune(df_sim, tune)\n",
        "  dd['id'] = result['index']\n",
        "  dd['reference'] = tune\n",
        "  dd['method'] = 'lsi'\n",
        "  dd['similar'] = result['similar_title']\n",
        "  dd['score_div_max'] = result['score_div_max']\n",
        "  dd['score'] = result['score']\n",
        "\n",
        "recommender_results = recommender_results.append(dd)"
      ],
      "execution_count": 52,
      "outputs": []
    },
    {
      "cell_type": "markdown",
      "metadata": {
        "id": "asScIocQRMPA"
      },
      "source": [
        "## Determine Number of Topics for LSI Model\n",
        "\n",
        "This sample comes from Datacamp: \n",
        "\n",
        "https://www.datacamp.com/community/tutorials/discovering-hidden-topics-python\n"
      ]
    },
    {
      "cell_type": "markdown",
      "metadata": {
        "id": "1TPNWFEPSxZ-"
      },
      "source": [
        "What is the best way to determine k (number of topics) in topic modeling? Identify the optimum number of topics in the given corpus text is a challenging task. We can use the following options for determining the optimum number of topics:\n",
        "\n",
        "* One way to determine the optimum number of topics is to consider each topic as a cluster and find out the effectiveness of a cluster using the Silhouette coefficient.\n",
        "* Topic coherence measure is a realistic measure for identifying the number of topics.\n",
        "\n",
        "Topic Coherence measure is a widely used metric to evaluate topic models. It uses the latent variable models. Each generated topic has a list of words. In topic coherence measure, you will find average/median of pairwise word similarity scores of the words in a topic. The high value of topic coherence score model will be considered as a good topic model. "
      ]
    },
    {
      "cell_type": "code",
      "metadata": {
        "id": "umpCyQQzRLgv"
      },
      "source": [
        "def prepare_corpus(doc_clean):\n",
        "    \"\"\"\n",
        "    Input  : clean document\n",
        "    Purpose: create term dictionary of our courpus and Converting list of documents (corpus) into Document Term Matrix\n",
        "    Output : term dictionary and Document Term Matrix\n",
        "    \"\"\"\n",
        "    # Creating the term dictionary of our courpus, where every unique term is assigned an index. dictionary = corpora.Dictionary(doc_clean)\n",
        "    dictionary = corpora.Dictionary(doc_clean)\n",
        "    # Converting list of documents (corpus) into Document Term Matrix using dictionary prepared above.\n",
        "    doc_term_matrix = [dictionary.doc2bow(doc) for doc in doc_clean]\n",
        "    # generate LDA model\n",
        "    return dictionary, doc_term_matrix"
      ],
      "execution_count": 53,
      "outputs": []
    },
    {
      "cell_type": "code",
      "metadata": {
        "id": "aS2wxIEERcul"
      },
      "source": [
        "def compute_coherence_values(dictionary, doc_term_matrix, doc_clean, stop, start=2, step=3):\n",
        "    \"\"\"\n",
        "    Input   : dictionary : Gensim dictionary\n",
        "              corpus : Gensim corpus\n",
        "              texts : List of input texts\n",
        "              stop : Max num of topics\n",
        "    purpose : Compute c_v coherence for various number of topics\n",
        "    Output  : model_list : List of LSA topic models\n",
        "              coherence_values : Coherence values corresponding to the LDA model with respective number of topics\n",
        "    \"\"\"\n",
        "    coherence_values = []\n",
        "    model_list = []\n",
        "    for num_topics in range(start, stop, step):\n",
        "        # generate LSA model\n",
        "        model = LsiModel(doc_term_matrix, num_topics=num_topics, id2word = dictionary)  # train model\n",
        "        model_list.append(model)\n",
        "        coherencemodel = CoherenceModel(model=model, texts=doc_clean, dictionary=dictionary, coherence='c_v')\n",
        "        coherence_values.append(coherencemodel.get_coherence())\n",
        "    return model_list, coherence_values"
      ],
      "execution_count": 54,
      "outputs": []
    },
    {
      "cell_type": "code",
      "metadata": {
        "id": "DjyzAzWBRfrH"
      },
      "source": [
        "def plot_graph(doc_clean,start, stop, step):\n",
        "    dictionary, doc_term_matrix = prepare_corpus(doc_clean)\n",
        "    model_list, coherence_values = compute_coherence_values(dictionary, doc_term_matrix,doc_clean,\n",
        "                                                            stop, start, step)\n",
        "    # Show graph\n",
        "    x = range(start, stop, step)\n",
        "    plt.plot(x, coherence_values)\n",
        "    plt.xlabel(\"Number of Topics\")\n",
        "    plt.ylabel(\"Coherence score\")\n",
        "    plt.legend((\"coherence_values\"), loc='best')\n",
        "    plt.show()"
      ],
      "execution_count": 55,
      "outputs": []
    },
    {
      "cell_type": "code",
      "metadata": {
        "id": "qy9ZjdcmRhxs"
      },
      "source": [
        "# evaluate a good number of topics for the LSI Model. This takes some time.\n",
        "\n",
        "if False:\n",
        "\n",
        "  start, stop, step = 1, 500, 10\n",
        "  plot_graph(data, start, stop, step)"
      ],
      "execution_count": 56,
      "outputs": []
    },
    {
      "cell_type": "markdown",
      "metadata": {
        "id": "Qo5NgBHFlqgg"
      },
      "source": [
        "For unigrams, the best number of topics seems to be around 20.\n",
        "\n",
        "For unigrams plus bigrams, the coherence score drops down until 100 and then continuously rises until 500 and continues to rise. Same for bigrams-only."
      ]
    },
    {
      "cell_type": "markdown",
      "metadata": {
        "id": "lTQKfd0xQQ65"
      },
      "source": [
        "Store Model to W&B"
      ]
    },
    {
      "cell_type": "code",
      "metadata": {
        "colab": {
          "base_uri": "https://localhost:8080/"
        },
        "id": "RfAYF7ArQUXo",
        "outputId": "2b0a3a52-4977-44dd-b230-64ee258a73f2"
      },
      "source": [
        "model_artifact = wandb.Artifact(\n",
        "    \"trained-model\", \n",
        "    type=\"model\",\n",
        "    description=\"LSI model\",\n",
        "    metadata=\"\")\n",
        "\n",
        "model_artifact.add_file(\"/content/index/lsi.model\")\n",
        "model_artifact.add_file(\"/content/index/lsi_matrixsim.index\")\n",
        "model_artifact.add_file(\"/content/index/lsi.model.projection\")\n",
        "wandb.log_artifact(model_artifact)"
      ],
      "execution_count": 57,
      "outputs": [
        {
          "output_type": "execute_result",
          "data": {
            "text/plain": [
              "<wandb.sdk.wandb_artifacts.Artifact at 0x7f01a2198c50>"
            ]
          },
          "metadata": {},
          "execution_count": 57
        }
      ]
    },
    {
      "cell_type": "markdown",
      "metadata": {
        "id": "rF_INicGhXKd"
      },
      "source": [
        "# Doc2Vec"
      ]
    },
    {
      "cell_type": "code",
      "metadata": {
        "id": "wflSccBshkIk"
      },
      "source": [
        "def get_tagged_documents(corpus, tags=None):\n",
        "  if tags == 'SectionsTunes':\n",
        "    print('Tagging input data with both section and tune information.')\n",
        "  else:\n",
        "    print('Tagging input data with section informaiton only.')\n",
        "    \n",
        "  for i, tokens in enumerate(corpus):\n",
        "    if tags == 'SectionsTunes':\n",
        "      yield gensim.models.doc2vec.TaggedDocument(tokens, [i, f'titleid_{sectionid_to_titleid[i]}'])\n",
        "    else:\n",
        "      yield gensim.models.doc2vec.TaggedDocument(tokens, [i])  # diatonic chord distance is a bit better"
      ],
      "execution_count": 58,
      "outputs": []
    },
    {
      "cell_type": "code",
      "metadata": {
        "colab": {
          "base_uri": "https://localhost:8080/"
        },
        "id": "_u0RdBI1kYD9",
        "outputId": "5d55b719-5488-4731-a2a6-a9f44c4d34a6"
      },
      "source": [
        "train_corpus = list(get_tagged_documents(processed_corpus, doc2vec_config['general']['document_tags']))\n",
        "train_corpus[1000]"
      ],
      "execution_count": 59,
      "outputs": [
        {
          "output_type": "stream",
          "name": "stdout",
          "text": [
            "Tagging input data with both section and tune information.\n"
          ]
        },
        {
          "output_type": "execute_result",
          "data": {
            "text/plain": [
              "TaggedDocument(words=['C-Am-Dm', 'Am-Dm-G7', 'Dm-G7-C', 'G7-C-F', 'C-F-C', 'F-C-Am', 'C-Am-Dm', 'Am-Dm-G7', 'Dm-G7-C', 'G7-C-Dm', 'C-Dm-G7'], tags=[1000, 'titleid_308'])"
            ]
          },
          "metadata": {},
          "execution_count": 59
        }
      ]
    },
    {
      "cell_type": "code",
      "metadata": {
        "colab": {
          "base_uri": "https://localhost:8080/"
        },
        "id": "M9adPoy9reaw",
        "outputId": "fe58b976-a637-41a5-a9dc-c1f58aa5ccd1"
      },
      "source": [
        "import multiprocessing\n",
        "\n",
        "print(f\"CPU Count: {multiprocessing.cpu_count()}\")\n",
        "print(f\"Config:\")\n",
        "print(doc2vec_config['model'])\n",
        "\n",
        "model = Doc2Vec(train_corpus,\n",
        "                **doc2vec_config['model']\n",
        "                )"
      ],
      "execution_count": 60,
      "outputs": [
        {
          "output_type": "stream",
          "name": "stderr",
          "text": [
            "2021-11-21 19:27:08,503 : INFO : collecting all words and their counts\n",
            "2021-11-21 19:27:08,506 : INFO : PROGRESS: at example #0, processed 0 words (0/s), 0 word types, 0 tags\n",
            "2021-11-21 19:27:08,553 : INFO : collected 8108 word types and 7215 unique tags from a corpus of 5403 examples and 71984 words\n",
            "2021-11-21 19:27:08,558 : INFO : Creating a fresh vocabulary\n",
            "2021-11-21 19:27:08,602 : INFO : Doc2Vec lifecycle event {'msg': 'effective_min_count=1 retains 8108 unique words (100.0%% of original 8108, drops 0)', 'datetime': '2021-11-21T19:27:08.602414', 'gensim': '4.1.2', 'python': '3.7.12 (default, Sep 10 2021, 00:21:48) \\n[GCC 7.5.0]', 'platform': 'Linux-5.4.104+-x86_64-with-Ubuntu-18.04-bionic', 'event': 'prepare_vocab'}\n",
            "2021-11-21 19:27:08,604 : INFO : Doc2Vec lifecycle event {'msg': 'effective_min_count=1 leaves 71984 word corpus (100.0%% of original 71984, drops 0)', 'datetime': '2021-11-21T19:27:08.604049', 'gensim': '4.1.2', 'python': '3.7.12 (default, Sep 10 2021, 00:21:48) \\n[GCC 7.5.0]', 'platform': 'Linux-5.4.104+-x86_64-with-Ubuntu-18.04-bionic', 'event': 'prepare_vocab'}\n"
          ]
        },
        {
          "output_type": "stream",
          "name": "stdout",
          "text": [
            "CPU Count: 2\n",
            "Config:\n",
            "{'dm': 1, 'vector_size': 100, 'window': 4, 'epochs': 40, 'min_count': 1, 'negative': 10, 'sample': 0.001, 'seed': 42}\n"
          ]
        },
        {
          "output_type": "stream",
          "name": "stderr",
          "text": [
            "2021-11-21 19:27:08,678 : INFO : deleting the raw counts dictionary of 8108 items\n",
            "2021-11-21 19:27:08,682 : INFO : sample=0.001 downsamples 55 most-common words\n",
            "2021-11-21 19:27:08,686 : INFO : Doc2Vec lifecycle event {'msg': 'downsampling leaves estimated 60248.66271992489 word corpus (83.7%% of prior 71984)', 'datetime': '2021-11-21T19:27:08.686467', 'gensim': '4.1.2', 'python': '3.7.12 (default, Sep 10 2021, 00:21:48) \\n[GCC 7.5.0]', 'platform': 'Linux-5.4.104+-x86_64-with-Ubuntu-18.04-bionic', 'event': 'prepare_vocab'}\n",
            "2021-11-21 19:27:08,799 : INFO : estimated required memory for 8108 words and 100 dimensions: 14869400 bytes\n",
            "2021-11-21 19:27:08,802 : INFO : resetting layer weights\n",
            "2021-11-21 19:27:08,817 : INFO : Doc2Vec lifecycle event {'msg': 'training model with 3 workers on 8108 vocabulary and 100 features, using sg=0 hs=0 sample=0.001 negative=10 window=4 shrink_windows=True', 'datetime': '2021-11-21T19:27:08.817314', 'gensim': '4.1.2', 'python': '3.7.12 (default, Sep 10 2021, 00:21:48) \\n[GCC 7.5.0]', 'platform': 'Linux-5.4.104+-x86_64-with-Ubuntu-18.04-bionic', 'event': 'train'}\n",
            "2021-11-21 19:27:09,508 : INFO : worker thread finished; awaiting finish of 2 more threads\n",
            "2021-11-21 19:27:09,527 : INFO : worker thread finished; awaiting finish of 1 more threads\n",
            "2021-11-21 19:27:09,570 : INFO : worker thread finished; awaiting finish of 0 more threads\n",
            "2021-11-21 19:27:09,572 : INFO : EPOCH - 1 : training on 71984 raw words (71079 effective words) took 0.7s, 95504 effective words/s\n",
            "2021-11-21 19:27:10,236 : INFO : worker thread finished; awaiting finish of 2 more threads\n",
            "2021-11-21 19:27:10,274 : INFO : worker thread finished; awaiting finish of 1 more threads\n",
            "2021-11-21 19:27:10,309 : INFO : worker thread finished; awaiting finish of 0 more threads\n",
            "2021-11-21 19:27:10,310 : INFO : EPOCH - 2 : training on 71984 raw words (71025 effective words) took 0.7s, 98084 effective words/s\n",
            "2021-11-21 19:27:10,992 : INFO : worker thread finished; awaiting finish of 2 more threads\n",
            "2021-11-21 19:27:11,004 : INFO : worker thread finished; awaiting finish of 1 more threads\n",
            "2021-11-21 19:27:11,050 : INFO : worker thread finished; awaiting finish of 0 more threads\n",
            "2021-11-21 19:27:11,051 : INFO : EPOCH - 3 : training on 71984 raw words (71022 effective words) took 0.7s, 97789 effective words/s\n",
            "2021-11-21 19:27:11,752 : INFO : worker thread finished; awaiting finish of 2 more threads\n",
            "2021-11-21 19:27:11,778 : INFO : worker thread finished; awaiting finish of 1 more threads\n",
            "2021-11-21 19:27:11,813 : INFO : worker thread finished; awaiting finish of 0 more threads\n",
            "2021-11-21 19:27:11,814 : INFO : EPOCH - 4 : training on 71984 raw words (71071 effective words) took 0.7s, 94776 effective words/s\n",
            "2021-11-21 19:27:12,444 : INFO : worker thread finished; awaiting finish of 2 more threads\n",
            "2021-11-21 19:27:12,476 : INFO : worker thread finished; awaiting finish of 1 more threads\n",
            "2021-11-21 19:27:12,536 : INFO : worker thread finished; awaiting finish of 0 more threads\n",
            "2021-11-21 19:27:12,537 : INFO : EPOCH - 5 : training on 71984 raw words (71032 effective words) took 0.7s, 100171 effective words/s\n",
            "2021-11-21 19:27:13,184 : INFO : worker thread finished; awaiting finish of 2 more threads\n",
            "2021-11-21 19:27:13,200 : INFO : worker thread finished; awaiting finish of 1 more threads\n",
            "2021-11-21 19:27:13,235 : INFO : worker thread finished; awaiting finish of 0 more threads\n",
            "2021-11-21 19:27:13,237 : INFO : EPOCH - 6 : training on 71984 raw words (70907 effective words) took 0.7s, 104297 effective words/s\n",
            "2021-11-21 19:27:13,855 : INFO : worker thread finished; awaiting finish of 2 more threads\n",
            "2021-11-21 19:27:13,873 : INFO : worker thread finished; awaiting finish of 1 more threads\n",
            "2021-11-21 19:27:13,908 : INFO : worker thread finished; awaiting finish of 0 more threads\n",
            "2021-11-21 19:27:13,910 : INFO : EPOCH - 7 : training on 71984 raw words (71072 effective words) took 0.7s, 107998 effective words/s\n",
            "2021-11-21 19:27:14,612 : INFO : worker thread finished; awaiting finish of 2 more threads\n",
            "2021-11-21 19:27:14,619 : INFO : worker thread finished; awaiting finish of 1 more threads\n",
            "2021-11-21 19:27:14,657 : INFO : worker thread finished; awaiting finish of 0 more threads\n",
            "2021-11-21 19:27:14,665 : INFO : EPOCH - 8 : training on 71984 raw words (71022 effective words) took 0.7s, 95667 effective words/s\n",
            "2021-11-21 19:27:15,377 : INFO : worker thread finished; awaiting finish of 2 more threads\n",
            "2021-11-21 19:27:15,382 : INFO : worker thread finished; awaiting finish of 1 more threads\n",
            "2021-11-21 19:27:15,422 : INFO : worker thread finished; awaiting finish of 0 more threads\n",
            "2021-11-21 19:27:15,424 : INFO : EPOCH - 9 : training on 71984 raw words (71012 effective words) took 0.7s, 96269 effective words/s\n",
            "2021-11-21 19:27:16,091 : INFO : worker thread finished; awaiting finish of 2 more threads\n",
            "2021-11-21 19:27:16,112 : INFO : worker thread finished; awaiting finish of 1 more threads\n",
            "2021-11-21 19:27:16,153 : INFO : worker thread finished; awaiting finish of 0 more threads\n",
            "2021-11-21 19:27:16,154 : INFO : EPOCH - 10 : training on 71984 raw words (71028 effective words) took 0.7s, 98930 effective words/s\n",
            "2021-11-21 19:27:16,781 : INFO : worker thread finished; awaiting finish of 2 more threads\n",
            "2021-11-21 19:27:16,817 : INFO : worker thread finished; awaiting finish of 1 more threads\n",
            "2021-11-21 19:27:16,853 : INFO : worker thread finished; awaiting finish of 0 more threads\n",
            "2021-11-21 19:27:16,855 : INFO : EPOCH - 11 : training on 71984 raw words (70909 effective words) took 0.7s, 103179 effective words/s\n",
            "2021-11-21 19:27:17,526 : INFO : worker thread finished; awaiting finish of 2 more threads\n",
            "2021-11-21 19:27:17,546 : INFO : worker thread finished; awaiting finish of 1 more threads\n",
            "2021-11-21 19:27:17,585 : INFO : worker thread finished; awaiting finish of 0 more threads\n",
            "2021-11-21 19:27:17,586 : INFO : EPOCH - 12 : training on 71984 raw words (71059 effective words) took 0.7s, 99036 effective words/s\n",
            "2021-11-21 19:27:18,255 : INFO : worker thread finished; awaiting finish of 2 more threads\n",
            "2021-11-21 19:27:18,270 : INFO : worker thread finished; awaiting finish of 1 more threads\n",
            "2021-11-21 19:27:18,315 : INFO : worker thread finished; awaiting finish of 0 more threads\n",
            "2021-11-21 19:27:18,316 : INFO : EPOCH - 13 : training on 71984 raw words (71048 effective words) took 0.7s, 99007 effective words/s\n",
            "2021-11-21 19:27:18,972 : INFO : worker thread finished; awaiting finish of 2 more threads\n",
            "2021-11-21 19:27:18,998 : INFO : worker thread finished; awaiting finish of 1 more threads\n",
            "2021-11-21 19:27:19,036 : INFO : worker thread finished; awaiting finish of 0 more threads\n",
            "2021-11-21 19:27:19,038 : INFO : EPOCH - 14 : training on 71984 raw words (71037 effective words) took 0.7s, 100188 effective words/s\n",
            "2021-11-21 19:27:19,690 : INFO : worker thread finished; awaiting finish of 2 more threads\n",
            "2021-11-21 19:27:19,712 : INFO : worker thread finished; awaiting finish of 1 more threads\n",
            "2021-11-21 19:27:19,752 : INFO : worker thread finished; awaiting finish of 0 more threads\n",
            "2021-11-21 19:27:19,754 : INFO : EPOCH - 15 : training on 71984 raw words (71070 effective words) took 0.7s, 101489 effective words/s\n",
            "2021-11-21 19:27:20,422 : INFO : worker thread finished; awaiting finish of 2 more threads\n",
            "2021-11-21 19:27:20,436 : INFO : worker thread finished; awaiting finish of 1 more threads\n",
            "2021-11-21 19:27:20,472 : INFO : worker thread finished; awaiting finish of 0 more threads\n",
            "2021-11-21 19:27:20,473 : INFO : EPOCH - 16 : training on 71984 raw words (71063 effective words) took 0.7s, 100541 effective words/s\n",
            "2021-11-21 19:27:21,140 : INFO : worker thread finished; awaiting finish of 2 more threads\n",
            "2021-11-21 19:27:21,165 : INFO : worker thread finished; awaiting finish of 1 more threads\n",
            "2021-11-21 19:27:21,206 : INFO : worker thread finished; awaiting finish of 0 more threads\n",
            "2021-11-21 19:27:21,207 : INFO : EPOCH - 17 : training on 71984 raw words (70990 effective words) took 0.7s, 98649 effective words/s\n",
            "2021-11-21 19:27:21,868 : INFO : worker thread finished; awaiting finish of 2 more threads\n",
            "2021-11-21 19:27:21,882 : INFO : worker thread finished; awaiting finish of 1 more threads\n",
            "2021-11-21 19:27:21,928 : INFO : worker thread finished; awaiting finish of 0 more threads\n",
            "2021-11-21 19:27:21,929 : INFO : EPOCH - 18 : training on 71984 raw words (71176 effective words) took 0.7s, 100507 effective words/s\n",
            "2021-11-21 19:27:22,594 : INFO : worker thread finished; awaiting finish of 2 more threads\n",
            "2021-11-21 19:27:22,608 : INFO : worker thread finished; awaiting finish of 1 more threads\n",
            "2021-11-21 19:27:22,647 : INFO : worker thread finished; awaiting finish of 0 more threads\n",
            "2021-11-21 19:27:22,649 : INFO : EPOCH - 19 : training on 71984 raw words (71050 effective words) took 0.7s, 100709 effective words/s\n",
            "2021-11-21 19:27:23,311 : INFO : worker thread finished; awaiting finish of 2 more threads\n",
            "2021-11-21 19:27:23,328 : INFO : worker thread finished; awaiting finish of 1 more threads\n",
            "2021-11-21 19:27:23,362 : INFO : worker thread finished; awaiting finish of 0 more threads\n",
            "2021-11-21 19:27:23,364 : INFO : EPOCH - 20 : training on 71984 raw words (71060 effective words) took 0.7s, 101117 effective words/s\n",
            "2021-11-21 19:27:24,001 : INFO : worker thread finished; awaiting finish of 2 more threads\n",
            "2021-11-21 19:27:24,033 : INFO : worker thread finished; awaiting finish of 1 more threads\n",
            "2021-11-21 19:27:24,073 : INFO : worker thread finished; awaiting finish of 0 more threads\n",
            "2021-11-21 19:27:24,074 : INFO : EPOCH - 21 : training on 71984 raw words (71006 effective words) took 0.7s, 101855 effective words/s\n",
            "2021-11-21 19:27:24,727 : INFO : worker thread finished; awaiting finish of 2 more threads\n",
            "2021-11-21 19:27:24,741 : INFO : worker thread finished; awaiting finish of 1 more threads\n",
            "2021-11-21 19:27:24,785 : INFO : worker thread finished; awaiting finish of 0 more threads\n",
            "2021-11-21 19:27:24,787 : INFO : EPOCH - 22 : training on 71984 raw words (71067 effective words) took 0.7s, 101713 effective words/s\n",
            "2021-11-21 19:27:25,447 : INFO : worker thread finished; awaiting finish of 2 more threads\n",
            "2021-11-21 19:27:25,465 : INFO : worker thread finished; awaiting finish of 1 more threads\n",
            "2021-11-21 19:27:25,502 : INFO : worker thread finished; awaiting finish of 0 more threads\n",
            "2021-11-21 19:27:25,504 : INFO : EPOCH - 23 : training on 71984 raw words (71085 effective words) took 0.7s, 100778 effective words/s\n",
            "2021-11-21 19:27:26,155 : INFO : worker thread finished; awaiting finish of 2 more threads\n",
            "2021-11-21 19:27:26,187 : INFO : worker thread finished; awaiting finish of 1 more threads\n",
            "2021-11-21 19:27:26,252 : INFO : worker thread finished; awaiting finish of 0 more threads\n",
            "2021-11-21 19:27:26,256 : INFO : EPOCH - 24 : training on 71984 raw words (70982 effective words) took 0.7s, 96028 effective words/s\n",
            "2021-11-21 19:27:27,016 : INFO : worker thread finished; awaiting finish of 2 more threads\n",
            "2021-11-21 19:27:27,038 : INFO : worker thread finished; awaiting finish of 1 more threads\n",
            "2021-11-21 19:27:27,081 : INFO : worker thread finished; awaiting finish of 0 more threads\n",
            "2021-11-21 19:27:27,082 : INFO : EPOCH - 25 : training on 71984 raw words (71017 effective words) took 0.8s, 86970 effective words/s\n",
            "2021-11-21 19:27:27,736 : INFO : worker thread finished; awaiting finish of 2 more threads\n",
            "2021-11-21 19:27:27,753 : INFO : worker thread finished; awaiting finish of 1 more threads\n",
            "2021-11-21 19:27:27,799 : INFO : worker thread finished; awaiting finish of 0 more threads\n",
            "2021-11-21 19:27:27,800 : INFO : EPOCH - 26 : training on 71984 raw words (70966 effective words) took 0.7s, 100839 effective words/s\n",
            "2021-11-21 19:27:28,487 : INFO : worker thread finished; awaiting finish of 2 more threads\n",
            "2021-11-21 19:27:28,502 : INFO : worker thread finished; awaiting finish of 1 more threads\n",
            "2021-11-21 19:27:28,538 : INFO : worker thread finished; awaiting finish of 0 more threads\n",
            "2021-11-21 19:27:28,540 : INFO : EPOCH - 27 : training on 71984 raw words (71019 effective words) took 0.7s, 97970 effective words/s\n",
            "2021-11-21 19:27:29,218 : INFO : worker thread finished; awaiting finish of 2 more threads\n",
            "2021-11-21 19:27:29,231 : INFO : worker thread finished; awaiting finish of 1 more threads\n",
            "2021-11-21 19:27:29,278 : INFO : worker thread finished; awaiting finish of 0 more threads\n",
            "2021-11-21 19:27:29,279 : INFO : EPOCH - 28 : training on 71984 raw words (70922 effective words) took 0.7s, 97719 effective words/s\n",
            "2021-11-21 19:27:29,943 : INFO : worker thread finished; awaiting finish of 2 more threads\n",
            "2021-11-21 19:27:29,956 : INFO : worker thread finished; awaiting finish of 1 more threads\n",
            "2021-11-21 19:27:29,995 : INFO : worker thread finished; awaiting finish of 0 more threads\n",
            "2021-11-21 19:27:29,997 : INFO : EPOCH - 29 : training on 71984 raw words (71029 effective words) took 0.7s, 100417 effective words/s\n",
            "2021-11-21 19:27:30,674 : INFO : worker thread finished; awaiting finish of 2 more threads\n",
            "2021-11-21 19:27:30,698 : INFO : worker thread finished; awaiting finish of 1 more threads\n",
            "2021-11-21 19:27:30,732 : INFO : worker thread finished; awaiting finish of 0 more threads\n",
            "2021-11-21 19:27:30,734 : INFO : EPOCH - 30 : training on 71984 raw words (71047 effective words) took 0.7s, 98227 effective words/s\n",
            "2021-11-21 19:27:31,410 : INFO : worker thread finished; awaiting finish of 2 more threads\n",
            "2021-11-21 19:27:31,424 : INFO : worker thread finished; awaiting finish of 1 more threads\n",
            "2021-11-21 19:27:31,463 : INFO : worker thread finished; awaiting finish of 0 more threads\n",
            "2021-11-21 19:27:31,464 : INFO : EPOCH - 31 : training on 71984 raw words (71132 effective words) took 0.7s, 99192 effective words/s\n",
            "2021-11-21 19:27:32,160 : INFO : worker thread finished; awaiting finish of 2 more threads\n",
            "2021-11-21 19:27:32,197 : INFO : worker thread finished; awaiting finish of 1 more threads\n",
            "2021-11-21 19:27:32,232 : INFO : worker thread finished; awaiting finish of 0 more threads\n",
            "2021-11-21 19:27:32,234 : INFO : EPOCH - 32 : training on 71984 raw words (71161 effective words) took 0.8s, 94610 effective words/s\n",
            "2021-11-21 19:27:32,918 : INFO : worker thread finished; awaiting finish of 2 more threads\n",
            "2021-11-21 19:27:32,923 : INFO : worker thread finished; awaiting finish of 1 more threads\n",
            "2021-11-21 19:27:32,967 : INFO : worker thread finished; awaiting finish of 0 more threads\n",
            "2021-11-21 19:27:32,968 : INFO : EPOCH - 33 : training on 71984 raw words (71007 effective words) took 0.7s, 98682 effective words/s\n",
            "2021-11-21 19:27:33,630 : INFO : worker thread finished; awaiting finish of 2 more threads\n",
            "2021-11-21 19:27:33,656 : INFO : worker thread finished; awaiting finish of 1 more threads\n",
            "2021-11-21 19:27:33,695 : INFO : worker thread finished; awaiting finish of 0 more threads\n",
            "2021-11-21 19:27:33,697 : INFO : EPOCH - 34 : training on 71984 raw words (70975 effective words) took 0.7s, 99381 effective words/s\n",
            "2021-11-21 19:27:34,326 : INFO : worker thread finished; awaiting finish of 2 more threads\n",
            "2021-11-21 19:27:34,342 : INFO : worker thread finished; awaiting finish of 1 more threads\n",
            "2021-11-21 19:27:34,385 : INFO : worker thread finished; awaiting finish of 0 more threads\n",
            "2021-11-21 19:27:34,388 : INFO : EPOCH - 35 : training on 71984 raw words (71213 effective words) took 0.7s, 105278 effective words/s\n",
            "2021-11-21 19:27:35,019 : INFO : worker thread finished; awaiting finish of 2 more threads\n",
            "2021-11-21 19:27:35,053 : INFO : worker thread finished; awaiting finish of 1 more threads\n",
            "2021-11-21 19:27:35,086 : INFO : worker thread finished; awaiting finish of 0 more threads\n",
            "2021-11-21 19:27:35,087 : INFO : EPOCH - 36 : training on 71984 raw words (70942 effective words) took 0.7s, 103097 effective words/s\n",
            "2021-11-21 19:27:35,726 : INFO : worker thread finished; awaiting finish of 2 more threads\n",
            "2021-11-21 19:27:35,743 : INFO : worker thread finished; awaiting finish of 1 more threads\n",
            "2021-11-21 19:27:35,782 : INFO : worker thread finished; awaiting finish of 0 more threads\n",
            "2021-11-21 19:27:35,783 : INFO : EPOCH - 37 : training on 71984 raw words (71117 effective words) took 0.7s, 104709 effective words/s\n",
            "2021-11-21 19:27:36,427 : INFO : worker thread finished; awaiting finish of 2 more threads\n",
            "2021-11-21 19:27:36,453 : INFO : worker thread finished; awaiting finish of 1 more threads\n",
            "2021-11-21 19:27:36,489 : INFO : worker thread finished; awaiting finish of 0 more threads\n",
            "2021-11-21 19:27:36,490 : INFO : EPOCH - 38 : training on 71984 raw words (70949 effective words) took 0.7s, 102266 effective words/s\n",
            "2021-11-21 19:27:37,148 : INFO : worker thread finished; awaiting finish of 2 more threads\n",
            "2021-11-21 19:27:37,165 : INFO : worker thread finished; awaiting finish of 1 more threads\n",
            "2021-11-21 19:27:37,199 : INFO : worker thread finished; awaiting finish of 0 more threads\n",
            "2021-11-21 19:27:37,201 : INFO : EPOCH - 39 : training on 71984 raw words (71007 effective words) took 0.7s, 101823 effective words/s\n",
            "2021-11-21 19:27:37,852 : INFO : worker thread finished; awaiting finish of 2 more threads\n",
            "2021-11-21 19:27:37,883 : INFO : worker thread finished; awaiting finish of 1 more threads\n",
            "2021-11-21 19:27:37,922 : INFO : worker thread finished; awaiting finish of 0 more threads\n",
            "2021-11-21 19:27:37,924 : INFO : EPOCH - 40 : training on 71984 raw words (70993 effective words) took 0.7s, 99962 effective words/s\n",
            "2021-11-21 19:27:37,929 : INFO : Doc2Vec lifecycle event {'msg': 'training on 2879360 raw words (2841368 effective words) took 29.1s, 97614 effective words/s', 'datetime': '2021-11-21T19:27:37.929082', 'gensim': '4.1.2', 'python': '3.7.12 (default, Sep 10 2021, 00:21:48) \\n[GCC 7.5.0]', 'platform': 'Linux-5.4.104+-x86_64-with-Ubuntu-18.04-bionic', 'event': 'train'}\n",
            "2021-11-21 19:27:37,930 : INFO : Doc2Vec lifecycle event {'params': 'Doc2Vec(dm/m,d100,n10,w4,s0.001,t3)', 'datetime': '2021-11-21T19:27:37.930524', 'gensim': '4.1.2', 'python': '3.7.12 (default, Sep 10 2021, 00:21:48) \\n[GCC 7.5.0]', 'platform': 'Linux-5.4.104+-x86_64-with-Ubuntu-18.04-bionic', 'event': 'created'}\n"
          ]
        }
      ]
    },
    {
      "cell_type": "code",
      "metadata": {
        "colab": {
          "base_uri": "https://localhost:8080/"
        },
        "id": "G-cE7gug1Ct5",
        "outputId": "c8a8e70a-ac4e-414f-9ed6-abde1f173973"
      },
      "source": [
        "model_artifact = wandb.Artifact(\n",
        "    \"trained-model\", \n",
        "    type=\"model\",\n",
        "    description=\"Doc2Vec model\",\n",
        "    metadata=\"\")\n",
        "\n",
        "fname = 'doc2vec.model'\n",
        "model.save(fname)\n",
        "\n",
        "model_artifact.add_file(fname)\n",
        "wandb.log_artifact(model_artifact)"
      ],
      "execution_count": 61,
      "outputs": [
        {
          "output_type": "stream",
          "name": "stderr",
          "text": [
            "2021-11-21 19:27:37,954 : INFO : Doc2Vec lifecycle event {'fname_or_handle': 'doc2vec.model', 'separately': 'None', 'sep_limit': 10485760, 'ignore': frozenset(), 'datetime': '2021-11-21T19:27:37.954420', 'gensim': '4.1.2', 'python': '3.7.12 (default, Sep 10 2021, 00:21:48) \\n[GCC 7.5.0]', 'platform': 'Linux-5.4.104+-x86_64-with-Ubuntu-18.04-bionic', 'event': 'saving'}\n",
            "2021-11-21 19:27:37,957 : INFO : not storing attribute cum_table\n",
            "2021-11-21 19:27:37,987 : INFO : saved doc2vec.model\n"
          ]
        },
        {
          "output_type": "execute_result",
          "data": {
            "text/plain": [
              "<wandb.sdk.wandb_artifacts.Artifact at 0x7f01a1f55490>"
            ]
          },
          "metadata": {},
          "execution_count": 61
        }
      ]
    },
    {
      "cell_type": "markdown",
      "metadata": {
        "id": "jJvq2K93xAO5"
      },
      "source": [
        "### Test the distance between C and the diatonic chords\n",
        "\n",
        "Test if the model can capture that the diatonic chords are closer to the root.\n",
        "\n",
        "Do this only if the input corpus contains the unigrams. "
      ]
    },
    {
      "cell_type": "code",
      "metadata": {
        "id": "cH3TJxCfvoFm"
      },
      "source": [
        "test_tokens = ['C',\n",
        "              'Dm',\n",
        "              'Em',\n",
        "              'F',\n",
        "              'G7',\n",
        "              'Am',\n",
        "              'Bm7b5',\n",
        "              'F7',\n",
        "              'D7',\n",
        "              'A7',\n",
        "              'E7',\n",
        "              'B7',\n",
        "              'F#7',\n",
        "               'Cm',\n",
        "               'D']\n",
        "\n",
        "if 1 in ngrams_for_input:\n",
        "  ref = 'C'\n",
        "  for t in test_tokens:\n",
        "    print(f\"{model.wv.similarity(ref, t):.3f}: {ref} <-> {t}\")"
      ],
      "execution_count": 62,
      "outputs": []
    },
    {
      "cell_type": "code",
      "metadata": {
        "id": "IfIRoWL4kpcB"
      },
      "source": [
        "if 1 in ngrams_for_input:\n",
        "  model.wv.similar_by_word('C', topn=20)"
      ],
      "execution_count": 63,
      "outputs": []
    },
    {
      "cell_type": "markdown",
      "metadata": {
        "id": "ix4n9S3_xQzD"
      },
      "source": [
        "Plot the generated word vectors in 2D space"
      ]
    },
    {
      "cell_type": "code",
      "metadata": {
        "id": "JjT_uNh0wthj"
      },
      "source": [
        "from sklearn.manifold import TSNE\n",
        "\n",
        "# input data: vectors for all tokens\n",
        "weights = model.wv.vectors\n",
        "\n",
        "# only do this when the vocabulary is not too big....\n",
        "if len(weights) < 100:\n",
        "\n",
        "  # do T-SNE\n",
        "  tsne = TSNE(n_components=2, \n",
        "              random_state=42,\n",
        "              perplexity=30,\n",
        "              learning_rate='auto',\n",
        "              init='pca',\n",
        "              n_iter=2000\n",
        "              )\n",
        "  T = tsne.fit_transform(weights)\n",
        "\n",
        "  # plot\n",
        "  projected = pd.DataFrame(T)\n",
        "\n",
        "  fig = px.scatter(\n",
        "      projected, \n",
        "      x=0, y=1,\n",
        "      #color='mode',\n",
        "      text=model.wv.index_to_key,\n",
        "      width=800, height=600,\n",
        "      title=\"T-SNE applied to Chord Vectors for Tunes in Cmaj/Amin\"\n",
        "  )\n",
        "  fig.update_traces(textposition='top center')\n",
        "  fig.update_traces(textfont_size=12, selector=dict(type='scatter'))\n",
        "  fig.show()"
      ],
      "execution_count": 64,
      "outputs": []
    },
    {
      "cell_type": "markdown",
      "metadata": {
        "id": "PzabYlA89QpY"
      },
      "source": [
        "### Test for single tunes"
      ]
    },
    {
      "cell_type": "code",
      "metadata": {
        "colab": {
          "base_uri": "https://localhost:8080/"
        },
        "id": "wYI6NZimAn6a",
        "outputId": "186df315-7633-482c-d489-9f4aa64bc9f7"
      },
      "source": [
        "len(sectionid_to_section)"
      ],
      "execution_count": 65,
      "outputs": [
        {
          "output_type": "execute_result",
          "data": {
            "text/plain": [
              "5403"
            ]
          },
          "metadata": {},
          "execution_count": 65
        }
      ]
    },
    {
      "cell_type": "code",
      "metadata": {
        "colab": {
          "base_uri": "https://localhost:8080/"
        },
        "id": "8ho0HdILB4zq",
        "outputId": "fb96ee41-7e09-4380-f3bb-61c5604efcdd"
      },
      "source": [
        "len(model.dv)"
      ],
      "execution_count": 66,
      "outputs": [
        {
          "output_type": "execute_result",
          "data": {
            "text/plain": [
              "7215"
            ]
          },
          "metadata": {},
          "execution_count": 66
        }
      ]
    },
    {
      "cell_type": "code",
      "metadata": {
        "colab": {
          "base_uri": "https://localhost:8080/"
        },
        "id": "5Z2jZALS-7et",
        "outputId": "20b19503-e19e-4be7-edfd-6c4a82f43f15"
      },
      "source": [
        "title_to_sectionid['These Foolish Things']"
      ],
      "execution_count": 67,
      "outputs": [
        {
          "output_type": "execute_result",
          "data": {
            "text/plain": [
              "[3866, 3867, 3868, 3869]"
            ]
          },
          "metadata": {},
          "execution_count": 67
        }
      ]
    },
    {
      "cell_type": "code",
      "metadata": {
        "id": "Y1GQemnx_jYJ"
      },
      "source": [
        "section_key = 3868"
      ],
      "execution_count": 68,
      "outputs": []
    },
    {
      "cell_type": "code",
      "metadata": {
        "colab": {
          "base_uri": "https://localhost:8080/"
        },
        "id": "ac5NyHbS-_2l",
        "outputId": "43ae9db9-9551-41a5-8a47-913e4b3750bd"
      },
      "source": [
        "model.dv.similar_by_key(section_key, topn=20)"
      ],
      "execution_count": 69,
      "outputs": [
        {
          "output_type": "execute_result",
          "data": {
            "text/plain": [
              "[(84, 0.8752164840698242),\n",
              " (43, 0.8365557193756104),\n",
              " (45, 0.8270561695098877),\n",
              " (3308, 0.8218416571617126),\n",
              " ('titleid_1604', 0.8177371621131897),\n",
              " ('titleid_1661', 0.8078844547271729),\n",
              " (5098, 0.8069295287132263),\n",
              " (3972, 0.8045324683189392),\n",
              " (1833, 0.8004657626152039),\n",
              " (4697, 0.7989818453788757),\n",
              " (493, 0.797171950340271),\n",
              " (2347, 0.7937332987785339),\n",
              " (1488, 0.7901676297187805),\n",
              " (4981, 0.7896555662155151),\n",
              " (4664, 0.7867518663406372),\n",
              " (1603, 0.7830038070678711),\n",
              " ('titleid_1002', 0.782054603099823),\n",
              " ('titleid_24', 0.7795805931091309),\n",
              " (4521, 0.7741715908050537),\n",
              " ('titleid_1398', 0.7727310061454773)]"
            ]
          },
          "metadata": {},
          "execution_count": 69
        }
      ]
    },
    {
      "cell_type": "code",
      "metadata": {
        "colab": {
          "base_uri": "https://localhost:8080/",
          "height": 36
        },
        "id": "7rMyQRbdB_Iv",
        "outputId": "3b995d8f-893f-49b5-ec03-b13c7bb80f95"
      },
      "source": [
        "sectionid_to_section[1889]"
      ],
      "execution_count": 70,
      "outputs": [
        {
          "output_type": "execute_result",
          "data": {
            "application/vnd.google.colaboratory.intrinsic+json": {
              "type": "string"
            },
            "text/plain": [
              "\"I've Told Eve'ry Little Star, section3 (B)\""
            ]
          },
          "metadata": {},
          "execution_count": 70
        }
      ]
    },
    {
      "cell_type": "code",
      "metadata": {
        "colab": {
          "base_uri": "https://localhost:8080/",
          "height": 175
        },
        "id": "BfUVTfdKB9sZ",
        "outputId": "be99159b-75d9-479b-b67e-c3c26bd50ee2"
      },
      "source": [
        "titles.query('title == \"These Foolish Things\"')"
      ],
      "execution_count": 71,
      "outputs": [
        {
          "output_type": "execute_result",
          "data": {
            "text/html": [
              "<div>\n",
              "<style scoped>\n",
              "    .dataframe tbody tr th:only-of-type {\n",
              "        vertical-align: middle;\n",
              "    }\n",
              "\n",
              "    .dataframe tbody tr th {\n",
              "        vertical-align: top;\n",
              "    }\n",
              "\n",
              "    .dataframe thead th {\n",
              "        text-align: right;\n",
              "    }\n",
              "</style>\n",
              "<table border=\"1\" class=\"dataframe\">\n",
              "  <thead>\n",
              "    <tr style=\"text-align: right;\">\n",
              "      <th></th>\n",
              "      <th>id</th>\n",
              "      <th>tune_id</th>\n",
              "      <th>section_id</th>\n",
              "      <th>section_name</th>\n",
              "      <th>title</th>\n",
              "      <th>tune_mode</th>\n",
              "    </tr>\n",
              "  </thead>\n",
              "  <tbody>\n",
              "    <tr>\n",
              "      <th>3866</th>\n",
              "      <td>3866</td>\n",
              "      <td>1170</td>\n",
              "      <td>1</td>\n",
              "      <td>A</td>\n",
              "      <td>These Foolish Things</td>\n",
              "      <td>major</td>\n",
              "    </tr>\n",
              "    <tr>\n",
              "      <th>3867</th>\n",
              "      <td>3867</td>\n",
              "      <td>1170</td>\n",
              "      <td>2</td>\n",
              "      <td>A</td>\n",
              "      <td>These Foolish Things</td>\n",
              "      <td>major</td>\n",
              "    </tr>\n",
              "    <tr>\n",
              "      <th>3868</th>\n",
              "      <td>3868</td>\n",
              "      <td>1170</td>\n",
              "      <td>3</td>\n",
              "      <td>B</td>\n",
              "      <td>These Foolish Things</td>\n",
              "      <td>major</td>\n",
              "    </tr>\n",
              "    <tr>\n",
              "      <th>3869</th>\n",
              "      <td>3869</td>\n",
              "      <td>1170</td>\n",
              "      <td>4</td>\n",
              "      <td>A</td>\n",
              "      <td>These Foolish Things</td>\n",
              "      <td>major</td>\n",
              "    </tr>\n",
              "  </tbody>\n",
              "</table>\n",
              "</div>"
            ],
            "text/plain": [
              "        id  tune_id  section_id section_name                 title tune_mode\n",
              "3866  3866     1170           1            A  These Foolish Things     major\n",
              "3867  3867     1170           2            A  These Foolish Things     major\n",
              "3868  3868     1170           3            B  These Foolish Things     major\n",
              "3869  3869     1170           4            A  These Foolish Things     major"
            ]
          },
          "metadata": {},
          "execution_count": 71
        }
      ]
    },
    {
      "cell_type": "code",
      "metadata": {
        "id": "vYKXvxxbBeIe"
      },
      "source": [
        "tune_key = 'titleid_1170'"
      ],
      "execution_count": 72,
      "outputs": []
    },
    {
      "cell_type": "code",
      "metadata": {
        "colab": {
          "base_uri": "https://localhost:8080/"
        },
        "id": "wfmnL7QrCFhz",
        "outputId": "01502805-9e89-4163-a45d-bf202e5e1655"
      },
      "source": [
        "model.dv.similar_by_key(tune_key, topn=20)"
      ],
      "execution_count": 73,
      "outputs": [
        {
          "output_type": "execute_result",
          "data": {
            "text/plain": [
              "[(3867, 0.9342482686042786),\n",
              " ('titleid_504', 0.8636974692344666),\n",
              " (1218, 0.863116979598999),\n",
              " (267, 0.8446125388145447),\n",
              " (3315, 0.8418964147567749),\n",
              " ('titleid_971', 0.8409684896469116),\n",
              " (2227, 0.8365181088447571),\n",
              " ('titleid_675', 0.8361669778823853),\n",
              " (1486, 0.835945188999176),\n",
              " (1488, 0.8340701460838318),\n",
              " ('titleid_1250', 0.8337730765342712),\n",
              " (2341, 0.8328047394752502),\n",
              " ('titleid_457', 0.831871747970581),\n",
              " (1491, 0.8268957734107971),\n",
              " (5031, 0.8265848755836487),\n",
              " (1646, 0.8265485167503357),\n",
              " ('titleid_1632', 0.8259879350662231),\n",
              " ('titleid_1349', 0.8239274621009827),\n",
              " (3224, 0.8237342238426208),\n",
              " ('titleid_67', 0.8229389190673828)]"
            ]
          },
          "metadata": {},
          "execution_count": 73
        }
      ]
    },
    {
      "cell_type": "code",
      "metadata": {
        "colab": {
          "base_uri": "https://localhost:8080/"
        },
        "id": "Cp0brM80CSK2",
        "outputId": "9356dc41-2fe4-435c-de1a-7eb16b0becb2"
      },
      "source": [
        "titles.iloc[755]"
      ],
      "execution_count": 74,
      "outputs": [
        {
          "output_type": "execute_result",
          "data": {
            "text/plain": [
              "id                                           755\n",
              "tune_id                                      234\n",
              "section_id                                     5\n",
              "section_name                                   D\n",
              "title           Chega De Saudade (No More Blues)\n",
              "tune_mode                                  minor\n",
              "Name: 755, dtype: object"
            ]
          },
          "metadata": {},
          "execution_count": 74
        }
      ]
    },
    {
      "cell_type": "markdown",
      "metadata": {
        "id": "ajqb904KDwNV"
      },
      "source": [
        "#### Section Similarity\n"
      ]
    },
    {
      "cell_type": "code",
      "metadata": {
        "id": "mPnEPL_k4TZn"
      },
      "source": [
        "def get_section_scores_doc2vec(tunes):\n",
        "\n",
        "    df_sim = pd.DataFrame(columns=['reference_title',\n",
        "                                  'similar_title',\n",
        "                                  'ref_section', \n",
        "                                  'similar_section', \n",
        "                                  'score', \n",
        "                                  ])\n",
        "\n",
        "    for tune in tunes:\n",
        "      print()\n",
        "      print(\"-\"*50)\n",
        "      for s1 in title_to_sectionid[tune]:\n",
        "      \n",
        "          # sections are tagged with the numeric sectionid and can be used for querying\n",
        "          sims = model.dv.similar_by_key(s1, topn=40)\n",
        "          \n",
        "          print(s1, sectionid_to_section[s1])\n",
        "          n = 0\n",
        "          for s2, s2_score in sims:\n",
        "              if type(s2) == int:  # only consider similarities to sectionids; tuneids are strings\n",
        "                  # don't count self-similarity between sections of the same tune\n",
        "                  if s2 not in title_to_sectionid[tune]:\n",
        "                      n += 1\n",
        "                  \n",
        "                      # print(f\"\\t{s2_score:.3f} {sectionid_to_section[s2]}\")\n",
        "\n",
        "                      df_sim.loc[len(df_sim)] = [tune,\n",
        "                                      sectionid_to_title[s2],\n",
        "                                      sectionid_to_section[s1], \n",
        "                                      sectionid_to_section[s2], \n",
        "                                      s2_score, \n",
        "                                      ]\n",
        "    return df_sim"
      ],
      "execution_count": 75,
      "outputs": []
    },
    {
      "cell_type": "code",
      "metadata": {
        "colab": {
          "base_uri": "https://localhost:8080/"
        },
        "id": "i_d92il649O9",
        "outputId": "e35533c3-9e4f-47f3-c754-1bfe0d365641"
      },
      "source": [
        "df_section_sim = get_section_scores_doc2vec(tunes_eval_list)\n",
        "df_word2vec = df_section_sim[:]"
      ],
      "execution_count": 76,
      "outputs": [
        {
          "output_type": "stream",
          "name": "stdout",
          "text": [
            "\n",
            "--------------------------------------------------\n",
            "125 After You've Gone, section1 (A)\n",
            "126 After You've Gone, section2 (B)\n",
            "127 After You've Gone, section3 (A)\n",
            "128 After You've Gone, section4 (C)\n",
            "\n",
            "--------------------------------------------------\n",
            "188 All God's Chillun Got Rhythm, section1 (A)\n",
            "189 All God's Chillun Got Rhythm, section2 (B)\n",
            "190 All God's Chillun Got Rhythm, section3 (A)\n",
            "191 All God's Chillun Got Rhythm, section4 (C)\n",
            "\n",
            "--------------------------------------------------\n",
            "198 All Of Me, section1 (A)\n",
            "199 All Of Me, section2 (B)\n",
            "200 All Of Me, section3 (A)\n",
            "201 All Of Me, section4 (C)\n",
            "\n",
            "--------------------------------------------------\n",
            "474 Blood Count, section1 (A)\n",
            "475 Blood Count, section2 (A)\n",
            "476 Blood Count, section3 (B)\n",
            "477 Blood Count, section4 (A)\n",
            "478 Blood Count, section5 (C)\n",
            "\n",
            "--------------------------------------------------\n",
            "496 Blue Moon, section1 (A)\n",
            "497 Blue Moon, section2 (A)\n",
            "498 Blue Moon, section3 (B)\n",
            "499 Blue Moon, section4 (A)\n",
            "\n",
            "--------------------------------------------------\n",
            "626 But Beautiful, section1 (A)\n",
            "627 But Beautiful, section2 (B)\n",
            "628 But Beautiful, section3 (A)\n",
            "629 But Beautiful, section4 (C)\n",
            "\n",
            "--------------------------------------------------\n",
            "653 Bye Bye Blackbird, section1 (A)\n",
            "654 Bye Bye Blackbird, section2 (B)\n",
            "4569 Bye Bye Blackbird, section1 (A)\n",
            "4570 Bye Bye Blackbird, section2 (B)\n",
            "4571 Bye Bye Blackbird, section3 (C)\n",
            "\n",
            "--------------------------------------------------\n",
            "676 Call Me Irresponsible, section1 (A)\n",
            "677 Call Me Irresponsible, section2 (B)\n",
            "678 Call Me Irresponsible, section3 (A)\n",
            "679 Call Me Irresponsible, section4 (B)\n",
            "\n",
            "--------------------------------------------------\n",
            "826 Corcovado, section1 (A)\n",
            "827 Corcovado, section2 (B)\n",
            "828 Corcovado, section3 (A)\n",
            "829 Corcovado, section4 (C)\n",
            "\n",
            "--------------------------------------------------\n",
            "997 Dinah, section1 (A)\n",
            "998 Dinah, section2 (A)\n",
            "999 Dinah, section3 (B)\n",
            "1000 Dinah, section4 (A)\n",
            "\n",
            "--------------------------------------------------\n",
            "1125 East Of The Sun, section1 (A)\n",
            "1126 East Of The Sun, section2 (B)\n",
            "1127 East Of The Sun, section3 (A)\n",
            "1128 East Of The Sun, section4 (C)\n",
            "\n",
            "--------------------------------------------------\n",
            "1287 Footprints, section0 (nan)\n",
            "\n",
            "--------------------------------------------------\n",
            "1379 Giant Steps, section0 (nan)\n",
            "\n",
            "--------------------------------------------------\n",
            "1538 Honeysuckle Rose, section1 (A)\n",
            "1539 Honeysuckle Rose, section2 (A)\n",
            "1540 Honeysuckle Rose, section3 (B)\n",
            "1541 Honeysuckle Rose, section4 (A)\n",
            "4793 Honeysuckle Rose, section1 (A)\n",
            "4794 Honeysuckle Rose, section2 (A)\n",
            "4795 Honeysuckle Rose, section3 (B)\n",
            "4796 Honeysuckle Rose, section4 (A)\n",
            "\n",
            "--------------------------------------------------\n",
            "1647 I Got Rhythm, section1 (A)\n",
            "1648 I Got Rhythm, section2 (A)\n",
            "1649 I Got Rhythm, section3 (B)\n",
            "1650 I Got Rhythm, section4 (A)\n",
            "4821 I Got Rhythm, section1 (A)\n",
            "4822 I Got Rhythm, section2 (A)\n",
            "4823 I Got Rhythm, section3 (B)\n",
            "4824 I Got Rhythm, section4 (A)\n",
            "\n",
            "--------------------------------------------------\n",
            "2676 Misty, section1 (A)\n",
            "2677 Misty, section2 (A)\n",
            "2678 Misty, section3 (B)\n",
            "2679 Misty, section4 (A)\n",
            "\n",
            "--------------------------------------------------\n",
            "2863 Naima, section1 (A)\n",
            "2864 Naima, section2 (A)\n",
            "2865 Naima, section3 (B)\n",
            "2866 Naima, section4 (A)\n",
            "\n",
            "--------------------------------------------------\n",
            "5056 Old Fashioned Love, section0 (nan)\n",
            "\n",
            "--------------------------------------------------\n",
            "3148 Perdido, section1 (A)\n",
            "3149 Perdido, section2 (A)\n",
            "3150 Perdido, section3 (B)\n",
            "3151 Perdido, section4 (A)\n",
            "\n",
            "--------------------------------------------------\n",
            "3282 Rockin' Chair, section1 (A)\n",
            "3283 Rockin' Chair, section2 (B)\n",
            "3284 Rockin' Chair, section3 (A)\n",
            "5122 Rockin' Chair, section1 (A)\n",
            "5123 Rockin' Chair, section2 (B)\n",
            "5124 Rockin' Chair, section3 (A)\n",
            "\n",
            "--------------------------------------------------\n",
            "3584 Sophisticated Lady, section1 (A)\n",
            "3585 Sophisticated Lady, section2 (A)\n",
            "3586 Sophisticated Lady, section3 (B)\n",
            "3587 Sophisticated Lady, section4 (A)\n",
            "\n",
            "--------------------------------------------------\n",
            "3752 Sweet Sue, Just You, section1 (A)\n",
            "3753 Sweet Sue, Just You, section2 (A)\n",
            "3754 Sweet Sue, Just You, section3 (B)\n",
            "3755 Sweet Sue, Just You, section4 (A)\n",
            "\n",
            "--------------------------------------------------\n",
            "3866 These Foolish Things, section1 (A)\n",
            "3867 These Foolish Things, section2 (A)\n",
            "3868 These Foolish Things, section3 (B)\n",
            "3869 These Foolish Things, section4 (A)\n",
            "\n",
            "--------------------------------------------------\n",
            "4152 We'll Be Together Again, section1 (A)\n",
            "4153 We'll Be Together Again, section2 (A)\n",
            "4154 We'll Be Together Again, section3 (B)\n",
            "4155 We'll Be Together Again, section4 (A)\n"
          ]
        }
      ]
    },
    {
      "cell_type": "code",
      "metadata": {
        "colab": {
          "base_uri": "https://localhost:8080/",
          "height": 542
        },
        "id": "n4dv7VVe5NT4",
        "outputId": "443b9272-ae01-4b8b-dae2-f8ebe95732f1"
      },
      "source": [
        "import plotly.express as px\n",
        "fig = px.histogram(df_section_sim, x=\"score\", nbins=50, title='doc2vec sections')\n",
        "fig.show()"
      ],
      "execution_count": 77,
      "outputs": [
        {
          "output_type": "display_data",
          "data": {
            "text/html": [
              "<html>\n",
              "<head><meta charset=\"utf-8\" /></head>\n",
              "<body>\n",
              "    <div>\n",
              "            <script src=\"https://cdnjs.cloudflare.com/ajax/libs/mathjax/2.7.5/MathJax.js?config=TeX-AMS-MML_SVG\"></script><script type=\"text/javascript\">if (window.MathJax) {MathJax.Hub.Config({SVG: {font: \"STIX-Web\"}});}</script>\n",
              "                <script type=\"text/javascript\">window.PlotlyConfig = {MathJaxConfig: 'local'};</script>\n",
              "        <script src=\"https://cdn.plot.ly/plotly-latest.min.js\"></script>    \n",
              "            <div id=\"b57b49de-1061-4f87-9c3b-4d018f1a9e07\" class=\"plotly-graph-div\" style=\"height:525px; width:100%;\"></div>\n",
              "            <script type=\"text/javascript\">\n",
              "                \n",
              "                    window.PLOTLYENV=window.PLOTLYENV || {};\n",
              "                    \n",
              "                if (document.getElementById(\"b57b49de-1061-4f87-9c3b-4d018f1a9e07\")) {\n",
              "                    Plotly.newPlot(\n",
              "                        'b57b49de-1061-4f87-9c3b-4d018f1a9e07',\n",
              "                        [{\"alignmentgroup\": \"True\", \"bingroup\": \"x\", \"hoverlabel\": {\"namelength\": 0}, \"hovertemplate\": \"score=%{x}<br>count=%{y}\", \"legendgroup\": \"\", \"marker\": {\"color\": \"#636efa\"}, \"name\": \"\", \"nbinsx\": 50, \"offsetgroup\": \"\", \"orientation\": \"v\", \"showlegend\": false, \"type\": \"histogram\", \"x\": [0.9777856469154358, 0.9731258749961853, 0.9730619788169861, 0.9726195931434631, 0.9722498655319214, 0.9714592099189758, 0.9714518189430237, 0.9700543284416199, 0.9700462222099304, 0.9696943759918213, 0.9696540236473083, 0.9691890478134155, 0.9689368605613708, 0.9688833355903625, 0.9684743285179138, 0.9682731628417969, 0.967589259147644, 0.9673903584480286, 0.9672800898551941, 0.9672778248786926, 0.966332733631134, 0.9654495716094971, 0.9654444456100464, 0.9644946455955505, 0.9637251496315002, 0.9629111289978027, 0.9626762866973877, 0.9612796306610107, 0.9611145853996277, 0.9607219696044922, 0.9599736928939819, 0.9599470496177673, 0.9597017168998718, 0.7329053282737732, 0.7169919610023499, 0.7129240036010742, 0.7086843848228455, 0.7019214034080505, 0.6774680018424988, 0.6729255318641663, 0.6689115166664124, 0.6511292457580566, 0.6469139456748962, 0.6399980783462524, 0.6378374099731445, 0.637580156326294, 0.6348041296005249, 0.6332166790962219, 0.6270288825035095, 0.6246651411056519, 0.6216005682945251, 0.6177762150764465, 0.6140568852424622, 0.6133838295936584, 0.6039755940437317, 0.5996484756469727, 0.5956324338912964, 0.5941635370254517, 0.5907125473022461, 0.5899776816368103, 0.5884486436843872, 0.5862940549850464, 0.5838846564292908, 0.5814703702926636, 0.9809741973876953, 0.9798712134361267, 0.979367196559906, 0.9782888293266296, 0.9776270389556885, 0.9773750305175781, 0.9767632484436035, 0.9765563011169434, 0.9760697484016418, 0.9759052395820618, 0.9753828644752502, 0.9740008115768433, 0.9732781648635864, 0.9720189571380615, 0.9720118045806885, 0.9715638160705566, 0.9700298309326172, 0.9695692658424377, 0.9694167375564575, 0.9688715934753418, 0.968849778175354, 0.9683938026428223, 0.968302845954895, 0.9679383635520935, 0.9677678346633911, 0.9674573540687561, 0.967022716999054, 0.9668145179748535, 0.9668074250221252, 0.9660574197769165, 0.964873731136322, 0.9644501209259033, 0.5890787839889526, 0.5829376578330994, 0.5221620798110962, 0.508115828037262, 0.49866554141044617, 0.4928395748138428, 0.4873391091823578, 0.48471492528915405, 0.48310190439224243, 0.4797007143497467, 0.4793664813041687, 0.4752509891986847, 0.4559047818183899, 0.4551980495452881, 0.45287781953811646, 0.4509524703025818, 0.4439028203487396, 0.44314849376678467, 0.44141271710395813, 0.43749499320983887, 0.4369725286960602, 0.43098118901252747, 0.427639901638031, 0.4237433671951294, 0.42299801111221313, 0.4222939610481262, 0.42075231671333313, 0.4190019965171814, 0.41560202836990356, 0.4137927293777466, 0.4128825068473816, 0.40802738070487976, 0.405217707157135, 0.8390439748764038, 0.8382192850112915, 0.8334782719612122, 0.826809823513031, 0.822165846824646, 0.8204011917114258, 0.8199991583824158, 0.8145413398742676, 0.8102784752845764, 0.8098046779632568, 0.8054014444351196, 0.8033850789070129, 0.8015015125274658, 0.8010247945785522, 0.7996480464935303, 0.795477569103241, 0.7951663732528687, 0.7934419512748718, 0.7930859923362732, 0.7901525497436523, 0.7891895174980164, 0.7878662347793579, 0.784966766834259, 0.7841448187828064, 0.7828908562660217, 0.8254915475845337, 0.8253092765808105, 0.8243381381034851, 0.8157139420509338, 0.7923116683959961, 0.7902798056602478, 0.7895127534866333, 0.7867802381515503, 0.7822878956794739, 0.7739637494087219, 0.772969126701355, 0.7706504464149475, 0.7675145864486694, 0.7669360041618347, 0.7664200067520142, 0.7632877230644226, 0.7626925110816956, 0.7574838399887085, 0.751757800579071, 0.7484433650970459, 0.7451381087303162, 0.7414524555206299, 0.7374202013015747, 0.736905574798584, 0.7339628338813782, 0.7299325466156006, 0.7265209555625916, 0.7260510325431824, 0.7254818081855774, 0.7254553437232971, 0.7203097343444824, 0.715691864490509, 0.7141794562339783, 0.8764355182647705, 0.8758519887924194, 0.8627296090126038, 0.8491913676261902, 0.8423238396644592, 0.8403815031051636, 0.8217235803604126, 0.8217199444770813, 0.8191773891448975, 0.81910640001297, 0.8168150782585144, 0.811019778251648, 0.8109932541847229, 0.8051959872245789, 0.8046802878379822, 0.804096519947052, 0.7989948391914368, 0.7989818453788757, 0.7976188063621521, 0.7969099283218384, 0.7962990999221802, 0.7960124611854553, 0.7951102256774902, 0.9251676797866821, 0.9143237471580505, 0.9138144850730896, 0.91270512342453, 0.9079189896583557, 0.9021075367927551, 0.8945673108100891, 0.8884767889976501, 0.8851578831672668, 0.8844487071037292, 0.8817437291145325, 0.8796125054359436, 0.8787403106689453, 0.8770712614059448, 0.8767142295837402, 0.8763476014137268, 0.876301646232605, 0.8762034773826599, 0.8751487135887146, 0.8743501901626587, 0.8740569949150085, 0.8735456466674805, 0.8731850385665894, 0.8725476264953613, 0.872486412525177, 0.872318685054779, 0.8715428113937378, 0.8709636330604553, 0.9802367687225342, 0.978643536567688, 0.9772238731384277, 0.9759660959243774, 0.9756942391395569, 0.9751307368278503, 0.9749773740768433, 0.9720637798309326, 0.9715306162834167, 0.9706751704216003, 0.9681183695793152, 0.9674323797225952, 0.9654918909072876, 0.9568098783493042, 0.9539825916290283, 0.9528483152389526, 0.9514030814170837, 0.9507074952125549, 0.9504607319831848, 0.9501132369041443, 0.9500890970230103, 0.9500308036804199, 0.9499714374542236, 0.9498655200004578, 0.9486501812934875, 0.9458188414573669, 0.9451624155044556, 0.9413132667541504, 0.9406690001487732, 0.9405031204223633, 0.9402910470962524, 0.9385715126991272, 0.9375765323638916, 0.9719698429107666, 0.9709452986717224, 0.9704061150550842, 0.9703649282455444, 0.9683607220649719, 0.968217670917511, 0.9678853750228882, 0.9678775072097778, 0.9673806428909302, 0.9673022627830505, 0.9666044116020203, 0.9652361273765564, 0.9647603034973145, 0.9638940095901489, 0.9627696871757507, 0.9627389311790466, 0.9617265462875366, 0.9610379338264465, 0.9608911275863647, 0.960752010345459, 0.9606214761734009, 0.9600411057472229, 0.9599514603614807, 0.959430456161499, 0.9591191411018372, 0.9589250683784485, 0.9586963653564453, 0.9575110077857971, 0.9573479294776917, 0.957301676273346, 0.9572334289550781, 0.9571242332458496, 0.9569406509399414, 0.9707456231117249, 0.9661597013473511, 0.9654619693756104, 0.9652494192123413, 0.9616494178771973, 0.9615103006362915, 0.9601633548736572, 0.9585021734237671, 0.9549887180328369, 0.9534514546394348, 0.9527407288551331, 0.9520134329795837, 0.9505079388618469, 0.9481460452079773, 0.9474045634269714, 0.9454264044761658, 0.9447548985481262, 0.9444928169250488, 0.9443373084068298, 0.9442925453186035, 0.943140983581543, 0.9429944157600403, 0.9403076171875, 0.9400816559791565, 0.9394274353981018, 0.9389152526855469, 0.9388236999511719, 0.9387768507003784, 0.9351168274879456, 0.933326780796051, 0.9329257011413574, 0.7117538452148438, 0.582426130771637, 0.5678539276123047, 0.5401697158813477, 0.5368608236312866, 0.5344527363777161, 0.531152069568634, 0.5191081166267395, 0.5112509727478027, 0.49990981817245483, 0.48715054988861084, 0.4785858392715454, 0.46680179238319397, 0.46553418040275574, 0.4422856271266937, 0.44190075993537903, 0.43832558393478394, 0.4380967915058136, 0.43730029463768005, 0.4280875325202942, 0.426670104265213, 0.4244494140148163, 0.42423659563064575, 0.42101630568504333, 0.41585397720336914, 0.4157255291938782, 0.41525208950042725, 0.41309869289398193, 0.4093117117881775, 0.40830931067466736, 0.4065319299697876, 0.40506190061569214, 0.3984009027481079, 0.39528679847717285, 0.39436882734298706, 0.39216893911361694, 0.39135420322418213, 0.3901142477989197, 0.8833463788032532, 0.881932258605957, 0.8808420300483704, 0.861922025680542, 0.8513937592506409, 0.8439034223556519, 0.8430880308151245, 0.8409848809242249, 0.840944230556488, 0.8354360461235046, 0.8336769938468933, 0.8324453234672546, 0.8272687792778015, 0.8259905576705933, 0.8232212066650391, 0.8178142309188843, 0.8167845010757446, 0.8077879548072815, 0.800791323184967, 0.8006165623664856, 0.7983754277229309, 0.7927515506744385, 0.7911968231201172, 0.789245069026947, 0.7865015864372253, 0.7859548330307007, 0.7854154706001282, 0.7832369208335876, 0.783181369304657, 0.7821688652038574, 0.7749851942062378, 0.7721750736236572, 0.7717828154563904, 0.7701037526130676, 0.7861470580101013, 0.7770371437072754, 0.7750522494316101, 0.7649469971656799, 0.7561202049255371, 0.7530606985092163, 0.7449700236320496, 0.7427957057952881, 0.7300354242324829, 0.7250484824180603, 0.7223809957504272, 0.714734673500061, 0.7123188972473145, 0.7107911705970764, 0.710492730140686, 0.7070188522338867, 0.6985355019569397, 0.692253053188324, 0.6881093382835388, 0.6848690509796143, 0.6847111582756042, 0.6822037100791931, 0.6817495822906494, 0.6798562407493591, 0.6798267364501953, 0.674162745475769, 0.6724825501441956, 0.671096682548523, 0.6703616380691528, 0.6657281517982483, 0.6630906462669373, 0.982208251953125, 0.977977454662323, 0.9774446487426758, 0.9770916700363159, 0.976108729839325, 0.9759376049041748, 0.9758061766624451, 0.9756342172622681, 0.975588321685791, 0.9746479392051697, 0.9744548797607422, 0.974097490310669, 0.9739733338356018, 0.9736510515213013, 0.973024308681488, 0.9728259444236755, 0.9715879559516907, 0.9701656699180603, 0.9698430299758911, 0.9698105454444885, 0.9697386622428894, 0.968803346157074, 0.9686719179153442, 0.9684696197509766, 0.9678458571434021, 0.9677789211273193, 0.9666361212730408, 0.9662871956825256, 0.9662821888923645, 0.9660980701446533, 0.9658730030059814, 0.9655060172080994, 0.9650519490242004, 0.9647172093391418, 0.8128685355186462, 0.8073960542678833, 0.8047398924827576, 0.803004801273346, 0.7907273769378662, 0.7901718616485596, 0.7832894325256348, 0.7826398611068726, 0.782228410243988, 0.779223620891571, 0.7732986807823181, 0.7725509405136108, 0.772167980670929, 0.7692152261734009, 0.7635009288787842, 0.761644184589386, 0.7593259215354919, 0.7570440173149109, 0.7562420964241028, 0.7551911473274231, 0.7470237016677856, 0.745239794254303, 0.7431009411811829, 0.7349451184272766, 0.7313551306724548, 0.7305448651313782, 0.7273967862129211, 0.7272152304649353, 0.8464582562446594, 0.7978411316871643, 0.7898648381233215, 0.7856424450874329, 0.7805595993995667, 0.7803121209144592, 0.7734065651893616, 0.7705883979797363, 0.7677974700927734, 0.7660608291625977, 0.7636628746986389, 0.759626567363739, 0.7591634392738342, 0.7575141191482544, 0.7539962530136108, 0.7513324618339539, 0.7476729154586792, 0.7469282746315002, 0.7460253238677979, 0.7448228001594543, 0.7445441484451294, 0.7429095506668091, 0.7363001108169556, 0.7342528104782104, 0.7319408655166626, 0.7309306859970093, 0.728449821472168, 0.7251710891723633, 0.724689245223999, 0.7186026573181152, 0.7173460125923157, 0.71632981300354, 0.7151426076889038, 0.7138398885726929, 0.7136192917823792, 0.9086130857467651, 0.8850668668746948, 0.8830219507217407, 0.8810446262359619, 0.8725160360336304, 0.871570348739624, 0.8707589507102966, 0.8603169322013855, 0.8580375909805298, 0.8563863635063171, 0.8563774228096008, 0.8537838459014893, 0.8488587737083435, 0.8486166000366211, 0.8485450148582458, 0.8466092348098755, 0.8453578352928162, 0.8445873260498047, 0.844188392162323, 0.8406956195831299, 0.8396785855293274, 0.8391546010971069, 0.8371351957321167, 0.8368068933486938, 0.9247755408287048, 0.9245898127555847, 0.9159691333770752, 0.9125157594680786, 0.9110246896743774, 0.908930778503418, 0.9056945443153381, 0.9053758978843689, 0.9048991203308105, 0.9043846130371094, 0.9024498462677002, 0.8966258764266968, 0.8961354494094849, 0.8922904133796692, 0.8920304179191589, 0.8909536004066467, 0.8907323479652405, 0.8904390931129456, 0.8901960253715515, 0.8896710276603699, 0.8878951072692871, 0.8875885009765625, 0.8864321708679199, 0.8855046629905701, 0.8850720524787903, 0.8847784399986267, 0.8839178681373596, 0.8833398818969727, 0.882879376411438, 0.8806772232055664, 0.880029022693634, 0.878655731678009, 0.6452401876449585, 0.6274383664131165, 0.619621992111206, 0.5998767614364624, 0.5983841419219971, 0.598362386226654, 0.5948421955108643, 0.5894672870635986, 0.5891425013542175, 0.5887657403945923, 0.586277961730957, 0.5848011374473572, 0.5841188430786133, 0.5832569003105164, 0.5821322202682495, 0.5762225985527039, 0.5756922364234924, 0.5731854438781738, 0.5730116963386536, 0.5729408264160156, 0.5711702108383179, 0.5665712356567383, 0.5659937858581543, 0.5641730427742004, 0.5635557174682617, 0.5613389015197754, 0.5599161386489868, 0.5588184595108032, 0.5572969317436218, 0.899021565914154, 0.8898589611053467, 0.8865872621536255, 0.8863260746002197, 0.8844512104988098, 0.8842202425003052, 0.8799246549606323, 0.8792111873626709, 0.8757606148719788, 0.8718153238296509, 0.8699663877487183, 0.86954265832901, 0.8685832619667053, 0.8680104613304138, 0.8650772571563721, 0.8617634773254395, 0.8598772883415222, 0.8563011884689331, 0.8559724688529968, 0.8545964956283569, 0.8513314723968506, 0.8507890701293945, 0.8779975771903992, 0.8392893075942993, 0.8352293968200684, 0.8324950337409973, 0.8297978043556213, 0.828264594078064, 0.8282461166381836, 0.8248329758644104, 0.8212119340896606, 0.8197980523109436, 0.8196572661399841, 0.8146618604660034, 0.8124700784683228, 0.8030179142951965, 0.8024566173553467, 0.8000048398971558, 0.7919708490371704, 0.7884189486503601, 0.7864016890525818, 0.7861245274543762, 0.7842258214950562, 0.7838171720504761, 0.7816659212112427, 0.7809323072433472, 0.7804697751998901, 0.7786940932273865, 0.7773147225379944, 0.7762738466262817, 0.8483573198318481, 0.8390814065933228, 0.823546290397644, 0.822097659111023, 0.8170499801635742, 0.8142921924591064, 0.8122705817222595, 0.8109403252601624, 0.8107061386108398, 0.8095448017120361, 0.808896541595459, 0.8076754808425903, 0.8027433753013611, 0.8022000789642334, 0.8013917803764343, 0.7988258600234985, 0.7975041270256042, 0.7962427139282227, 0.7952767014503479, 0.7920319437980652, 0.7913897633552551, 0.7909361720085144, 0.7889177203178406, 0.7848314642906189, 0.7836577892303467, 0.7836459875106812, 0.7834951281547546, 0.7816506624221802, 0.7796767950057983, 0.7784647941589355, 0.778187096118927, 0.7758779525756836, 0.7728332877159119, 0.7718571424484253, 0.8692736029624939, 0.8678165674209595, 0.8631279468536377, 0.8553237915039062, 0.8549103736877441, 0.8466140627861023, 0.843912661075592, 0.8424501419067383, 0.8413023948669434, 0.8402100801467896, 0.8342955112457275, 0.8334336876869202, 0.8324146866798401, 0.8301805257797241, 0.8265449404716492, 0.8241022229194641, 0.8218957185745239, 0.8217177987098694, 0.8179436922073364, 0.8170814514160156, 0.8162915110588074, 0.8149068355560303, 0.8109837770462036, 0.810542643070221, 0.6632468700408936, 0.6603641510009766, 0.6575679183006287, 0.6561133861541748, 0.6471667289733887, 0.6438677906990051, 0.6419997811317444, 0.6270461678504944, 0.6249920129776001, 0.6236885190010071, 0.6200891137123108, 0.6182966232299805, 0.617341160774231, 0.6098558902740479, 0.6083328127861023, 0.6073798537254333, 0.598215639591217, 0.5958407521247864, 0.5932513475418091, 0.5910677909851074, 0.5869884490966797, 0.5855690836906433, 0.5815030336380005, 0.5813945531845093, 0.5805741548538208, 0.5793730616569519, 0.5786024928092957, 0.5776709914207458, 0.5775408148765564, 0.5736881494522095, 0.5728698968887329, 0.5721249580383301, 0.8239217400550842, 0.7966324687004089, 0.7711085081100464, 0.7653417587280273, 0.7652367353439331, 0.761802077293396, 0.7593690752983093, 0.7588868737220764, 0.7578611969947815, 0.7474497556686401, 0.7472746968269348, 0.7455215454101562, 0.7446337342262268, 0.7443866729736328, 0.7432007789611816, 0.7430351376533508, 0.7408269643783569, 0.7394977807998657, 0.7382423281669617, 0.7368653416633606, 0.7362964153289795, 0.7360145449638367, 0.7354921102523804, 0.8666074872016907, 0.8184832334518433, 0.8069470524787903, 0.7833097577095032, 0.7820569276809692, 0.7817658185958862, 0.7791556715965271, 0.7715999484062195, 0.7715277075767517, 0.7713524103164673, 0.7627649307250977, 0.7565236687660217, 0.7537340521812439, 0.7536110281944275, 0.7526884078979492, 0.7518132925033569, 0.7505841851234436, 0.7491174340248108, 0.7475159168243408, 0.7472941279411316, 0.7458838224411011, 0.7456333041191101, 0.7452030181884766, 0.7450283169746399, 0.742151141166687, 0.7381967902183533, 0.73764568567276, 0.7369534969329834, 0.8509821891784668, 0.8312592506408691, 0.8306646943092346, 0.8164188265800476, 0.779693603515625, 0.7775941491127014, 0.7742697596549988, 0.7731430530548096, 0.7659033536911011, 0.7628611326217651, 0.7619588971138, 0.7617581486701965, 0.7552598118782043, 0.7543238997459412, 0.751273512840271, 0.7489535212516785, 0.7485489249229431, 0.747032880783081, 0.7435232400894165, 0.7351875305175781, 0.7339404225349426, 0.727837860584259, 0.7268854975700378, 0.7248803377151489, 0.9649103283882141, 0.9648737907409668, 0.9638895988464355, 0.9592718482017517, 0.9542899131774902, 0.9534515738487244, 0.9498090744018555, 0.9490006566047668, 0.9456948637962341, 0.9439862370491028, 0.9439749717712402, 0.9436582326889038, 0.9422525763511658, 0.9422357678413391, 0.9415618181228638, 0.9401835203170776, 0.9395368099212646, 0.9394773840904236, 0.938949704170227, 0.9383558034896851, 0.9381835460662842, 0.9372433423995972, 0.9368545413017273, 0.9365556240081787, 0.9363152384757996, 0.9360419511795044, 0.9348015189170837, 0.9347612857818604, 0.9328806400299072, 0.9326943755149841, 0.932202160358429, 0.8703337907791138, 0.8451882600784302, 0.8447220921516418, 0.8397599458694458, 0.8354177474975586, 0.8336842656135559, 0.8330975770950317, 0.8325650095939636, 0.8319870829582214, 0.8315660357475281, 0.8311060667037964, 0.8264493942260742, 0.8234731554985046, 0.8205241560935974, 0.8197676539421082, 0.8191489577293396, 0.8176526427268982, 0.817065417766571, 0.8154782652854919, 0.8135493993759155, 0.8099852204322815, 0.8081730008125305, 0.8078070878982544, 0.8077227473258972, 0.8060435056686401, 0.8060370087623596, 0.8038206100463867, 0.802869439125061, 0.8013096451759338, 0.8010324239730835, 0.8008318543434143, 0.7058686017990112, 0.6785857677459717, 0.6715255975723267, 0.669100284576416, 0.6604647040367126, 0.6600252985954285, 0.652775764465332, 0.6463095545768738, 0.6437272429466248, 0.6420817971229553, 0.63567715883255, 0.635613739490509, 0.6355241537094116, 0.6354292035102844, 0.6299051642417908, 0.6281013488769531, 0.6258272528648376, 0.6210757493972778, 0.6209762096405029, 0.6192417740821838, 0.6177948117256165, 0.6150402426719666, 0.607994556427002, 0.6059475541114807, 0.6041169762611389, 0.6016048192977905, 0.6006453037261963, 0.5994256734848022, 0.929434597492218, 0.9190802574157715, 0.918587863445282, 0.9140820503234863, 0.9137095808982849, 0.9116339683532715, 0.9091776013374329, 0.9069780707359314, 0.9060695767402649, 0.9030510783195496, 0.9023126363754272, 0.9015708565711975, 0.9011340737342834, 0.9009572863578796, 0.9005876183509827, 0.8963507413864136, 0.8960950374603271, 0.8957409262657166, 0.8954433798789978, 0.8948920369148254, 0.8943804502487183, 0.8942618370056152, 0.8934932947158813, 0.8929970264434814, 0.8926385641098022, 0.892230749130249, 0.8920738101005554, 0.8916545510292053, 0.8912740349769592, 0.8912445902824402, 0.7523043155670166, 0.6995811462402344, 0.6917796730995178, 0.6844552755355835, 0.6814277172088623, 0.6746329069137573, 0.6742671728134155, 0.6713334321975708, 0.6709644198417664, 0.6649658679962158, 0.6646085381507874, 0.6612546443939209, 0.6611648797988892, 0.660211443901062, 0.6593149304389954, 0.6546708941459656, 0.6544599533081055, 0.6537588238716125, 0.6501584053039551, 0.6500339508056641, 0.6469752788543701, 0.6456541419029236, 0.6432619094848633, 0.9119554758071899, 0.9088059067726135, 0.8979277014732361, 0.8956276774406433, 0.8924621343612671, 0.8842477202415466, 0.8832153677940369, 0.8826357126235962, 0.8820961713790894, 0.8815244436264038, 0.8810447454452515, 0.8802780508995056, 0.8800759315490723, 0.880074143409729, 0.8780477046966553, 0.8779884576797485, 0.8779362440109253, 0.8779179453849792, 0.8772855997085571, 0.877157986164093, 0.8759463429450989, 0.8758967518806458, 0.8755617737770081, 0.8735890984535217, 0.8731468319892883, 0.872275710105896, 0.8718711733818054, 0.9481450915336609, 0.9435304403305054, 0.9379858374595642, 0.935599148273468, 0.9330319762229919, 0.9316902756690979, 0.9278568029403687, 0.9270556569099426, 0.9209048748016357, 0.9201421141624451, 0.9190715551376343, 0.9180387854576111, 0.9155335426330566, 0.914833128452301, 0.9126797914505005, 0.9107635021209717, 0.9093788266181946, 0.9092344045639038, 0.9089741110801697, 0.9075138568878174, 0.9067397713661194, 0.9056820869445801, 0.9048857092857361, 0.9046623706817627, 0.9046174883842468, 0.9015337228775024, 0.9008830785751343, 0.9004423022270203, 0.900148332118988, 0.9001284241676331, 0.900024950504303, 0.5928085446357727, 0.5499024987220764, 0.524651288986206, 0.5214682221412659, 0.520465612411499, 0.5121216773986816, 0.4965454339981079, 0.4873645603656769, 0.4847584664821625, 0.47573691606521606, 0.4735164940357208, 0.47047552466392517, 0.46531033515930176, 0.4555830955505371, 0.44342127442359924, 0.44154953956604004, 0.42457884550094604, 0.4194158613681793, 0.4157639443874359, 0.41378188133239746, 0.4137146472930908, 0.41280266642570496, 0.41170451045036316, 0.41150879859924316, 0.4111061692237854, 0.40222564339637756, 0.4022122025489807, 0.3982934355735779, 0.3956521451473236, 0.3936413824558258, 0.3924463391304016, 0.39046090841293335, 0.3899940848350525, 0.38725823163986206, 0.38626936078071594, 0.3856792151927948, 0.3853972852230072, 0.38438278436660767, 0.9409924745559692, 0.9401070475578308, 0.9351751804351807, 0.9349859356880188, 0.9284506440162659, 0.921324610710144, 0.9198099970817566, 0.9187241196632385, 0.91655033826828, 0.9129207730293274, 0.9117791652679443, 0.911226749420166, 0.9111157655715942, 0.9100102186203003, 0.9096760153770447, 0.9092090129852295, 0.9078132510185242, 0.9077820181846619, 0.9064843058586121, 0.9049315452575684, 0.9045183658599854, 0.9015787839889526, 0.900101363658905, 0.8997601866722107, 0.8984585404396057, 0.8984250426292419, 0.8975085020065308, 0.8967947363853455, 0.8966141939163208, 0.8955659866333008, 0.8664512038230896, 0.8376710414886475, 0.8367237448692322, 0.8212084174156189, 0.8156760931015015, 0.8150264024734497, 0.8115814924240112, 0.807630181312561, 0.7998627424240112, 0.7996107935905457, 0.7992473244667053, 0.799228310585022, 0.7982754707336426, 0.7982094287872314, 0.797088623046875, 0.7963150143623352, 0.7937532067298889, 0.7933518886566162, 0.7906438112258911, 0.7892400622367859, 0.7882139086723328, 0.788173496723175, 0.7879999876022339, 0.7878627181053162, 0.787526547908783, 0.7607609629631042, 0.7034221887588501, 0.7023327946662903, 0.6852394938468933, 0.6738091111183167, 0.6708706617355347, 0.6706035733222961, 0.670181393623352, 0.6571391224861145, 0.6533303260803223, 0.6515923738479614, 0.6463077664375305, 0.6441621780395508, 0.6415338516235352, 0.641390860080719, 0.6357507705688477, 0.6349124908447266, 0.631546676158905, 0.6295056343078613, 0.6290095448493958, 0.6182241439819336, 0.6165099740028381, 0.6106976270675659, 0.6081655621528625, 0.6057254076004028, 0.6045160889625549, 0.6032770276069641, 0.5956203937530518, 0.5941445231437683, 0.592801034450531, 0.8891330361366272, 0.8855448961257935, 0.88441002368927, 0.8781756162643433, 0.8708184957504272, 0.8687998056411743, 0.8625286817550659, 0.8623892664909363, 0.858485758304596, 0.8583903908729553, 0.8581225872039795, 0.8579481840133667, 0.853998064994812, 0.8534841537475586, 0.8533620238304138, 0.852756679058075, 0.8489745259284973, 0.8488954901695251, 0.8482616543769836, 0.8479092717170715, 0.8477424383163452, 0.8472647666931152, 0.8992767930030823, 0.8989647626876831, 0.89729905128479, 0.8876773118972778, 0.879442036151886, 0.8771969079971313, 0.8730177879333496, 0.8679646849632263, 0.866398811340332, 0.8641204833984375, 0.8637443780899048, 0.8637006878852844, 0.8625423908233643, 0.8594025373458862, 0.8538727760314941, 0.8432800769805908, 0.8395776152610779, 0.8388474583625793, 0.8375957608222961, 0.8375617265701294, 0.8321473002433777, 0.8292582035064697, 0.8271826505661011, 0.8253493309020996, 0.820004940032959, 0.8169305324554443, 0.8167754411697388, 0.814022958278656, 0.8118598461151123, 0.8806725740432739, 0.8677787184715271, 0.8651359677314758, 0.8650041818618774, 0.8621090650558472, 0.8557409644126892, 0.8480010032653809, 0.8467003107070923, 0.8462557196617126, 0.8455310463905334, 0.8393320441246033, 0.8362231850624084, 0.8350058197975159, 0.8328465819358826, 0.830909252166748, 0.8305018544197083, 0.8297483325004578, 0.8294172286987305, 0.8250906467437744, 0.8242095112800598, 0.8240989446640015, 0.8238650560379028, 0.8215294480323792, 0.8209261298179626, 0.9676446318626404, 0.9577222466468811, 0.9569956064224243, 0.9565510153770447, 0.9560506343841553, 0.9539794921875, 0.9535905122756958, 0.9516990184783936, 0.9504237174987793, 0.9503043293952942, 0.949855625629425, 0.9492220878601074, 0.9471802115440369, 0.9455215930938721, 0.9454119801521301, 0.9452943801879883, 0.9452562928199768, 0.9449291825294495, 0.9446936249732971, 0.944233775138855, 0.9432534575462341, 0.9430627822875977, 0.9427105784416199, 0.9425942301750183, 0.9412742257118225, 0.9411802291870117, 0.9398919939994812, 0.9394882321357727, 0.9392697215080261, 0.9392371773719788, 0.9390925765037537, 0.8463504314422607, 0.8010815978050232, 0.7921513319015503, 0.7848302721977234, 0.7762419581413269, 0.7677765488624573, 0.7629804015159607, 0.7597089409828186, 0.7571070194244385, 0.7489166259765625, 0.7477788329124451, 0.74437016248703, 0.7440167665481567, 0.7349448800086975, 0.7342351675033569, 0.726164698600769, 0.7231432199478149, 0.7212085723876953, 0.7183221578598022, 0.7154794335365295, 0.7135068774223328, 0.7128999829292297, 0.7128980755805969, 0.7118471264839172, 0.7108235359191895, 0.7107692360877991, 0.7094642519950867, 0.7084363102912903, 0.7061274647712708, 0.7040822505950928, 0.9455209374427795, 0.9450727105140686, 0.9430577754974365, 0.9397994875907898, 0.9365079998970032, 0.9359086155891418, 0.9348188638687134, 0.9346888065338135, 0.9335864186286926, 0.9329334497451782, 0.9328782558441162, 0.9322566390037537, 0.9318755269050598, 0.931408166885376, 0.9306836724281311, 0.9304667711257935, 0.9303566813468933, 0.9300046563148499, 0.9297642707824707, 0.9295454025268555, 0.9291958808898926, 0.9290000200271606, 0.9289729595184326, 0.9287879467010498, 0.9276682138442993, 0.9275652766227722, 0.926983118057251, 0.9269798994064331, 0.9260151982307434, 0.9259814620018005, 0.9243945479393005, 0.9001662731170654, 0.8928695917129517, 0.8903930187225342, 0.8902172446250916, 0.8885704874992371, 0.8882485032081604, 0.882618248462677, 0.8808931112289429, 0.880748450756073, 0.8798050284385681, 0.8791120052337646, 0.8789531588554382, 0.8786547780036926, 0.8782838582992554, 0.8779669404029846, 0.8776191473007202, 0.8774780035018921, 0.8767486214637756, 0.875382125377655, 0.8735464215278625, 0.8730975389480591, 0.8728075623512268, 0.8727949261665344, 0.8710476160049438, 0.8702872395515442, 0.8696811199188232, 0.9801766872406006, 0.9758491516113281, 0.9614438414573669, 0.9608715176582336, 0.9573060870170593, 0.9572019577026367, 0.9504965543746948, 0.94800865650177, 0.9408814907073975, 0.9399670958518982, 0.9353644251823425, 0.9353191256523132, 0.9351680874824524, 0.9345312714576721, 0.9339369535446167, 0.9332505464553833, 0.9275306463241577, 0.9275084137916565, 0.9267567992210388, 0.9256601333618164, 0.9242813587188721, 0.9230579137802124, 0.9225382208824158, 0.9210755825042725, 0.9189502596855164, 0.9168513417243958, 0.9151652455329895, 0.9130809307098389, 0.9128414988517761, 0.9115659594535828, 0.9111367464065552, 0.902180016040802, 0.9014137983322144, 0.9007713794708252, 0.8998290300369263, 0.8998056054115295, 0.8990597128868103, 0.8988349437713623, 0.8982248306274414, 0.8966794610023499, 0.8966206312179565, 0.896076500415802, 0.8956000804901123, 0.8955371379852295, 0.8953884840011597, 0.8944852352142334, 0.8933330178260803, 0.8932773470878601, 0.8930251002311707, 0.892235279083252, 0.891775906085968, 0.8916345834732056, 0.8910784125328064, 0.8907172083854675, 0.8903977274894714, 0.8902730345726013, 0.8895801305770874, 0.8605085611343384, 0.843246340751648, 0.8387956023216248, 0.8094115257263184, 0.7980487942695618, 0.7912550568580627, 0.7889812588691711, 0.7883745431900024, 0.7861642837524414, 0.7843877673149109, 0.7843057513237, 0.7800800800323486, 0.7788585424423218, 0.7768099904060364, 0.7748745679855347, 0.7717956900596619, 0.770592212677002, 0.7700559496879578, 0.7681465744972229, 0.7670281529426575, 0.764276921749115, 0.7639296054840088, 0.7626148462295532, 0.7621438503265381, 0.8678030371665955, 0.8538230657577515, 0.8485652208328247, 0.8469095826148987, 0.8339821100234985, 0.8310548067092896, 0.8307018280029297, 0.8300113081932068, 0.8276758193969727, 0.8271381258964539, 0.8250365257263184, 0.8234659433364868, 0.8221204280853271, 0.8217709064483643, 0.8210607171058655, 0.8209092020988464, 0.8199859857559204, 0.9466649889945984, 0.9436392784118652, 0.9361811876296997, 0.9351475834846497, 0.9344315528869629, 0.9299798011779785, 0.9293809533119202, 0.9255779385566711, 0.925359845161438, 0.9227262139320374, 0.9206544160842896, 0.9199765920639038, 0.9196857810020447, 0.9196706414222717, 0.919213056564331, 0.9190258383750916, 0.9187344312667847, 0.9177939295768738, 0.917181134223938, 0.9165745377540588, 0.9157474637031555, 0.9157171845436096, 0.9150174856185913, 0.9148380756378174, 0.9148005843162537, 0.9146347045898438, 0.9137452244758606, 0.9135799407958984, 0.9133975505828857, 0.9133092761039734, 0.912314236164093, 0.9121314883232117, 0.9120269417762756, 0.8769099712371826, 0.8709602952003479, 0.8521074652671814, 0.8441150188446045, 0.841056227684021, 0.8404710292816162, 0.8391785025596619, 0.8363230228424072, 0.8362126350402832, 0.8330628275871277, 0.8323610424995422, 0.8321424126625061, 0.831940233707428, 0.8310149312019348, 0.8282976746559143, 0.828264594078064, 0.827867865562439, 0.8267861008644104, 0.8262853026390076, 0.8252747058868408, 0.8244074583053589, 0.8241137266159058, 0.823535680770874, 0.8233820796012878, 0.8233575820922852, 0.8212175369262695, 0.8504888415336609, 0.8218962550163269, 0.8166294693946838, 0.8138990998268127, 0.8133560419082642, 0.8012334704399109, 0.8007925748825073, 0.7989470958709717, 0.7977411150932312, 0.79588383436203, 0.7937695384025574, 0.7876718044281006, 0.7870116233825684, 0.7855478525161743, 0.7848725914955139, 0.7842261791229248, 0.7831215262413025, 0.7817608118057251, 0.7814813852310181, 0.780677318572998, 0.7796061635017395, 0.7795153856277466, 0.7776768803596497, 0.7754418253898621, 0.7749849557876587, 0.8523612022399902, 0.8488066792488098, 0.8462711572647095, 0.8432075381278992, 0.8416274785995483, 0.8291501998901367, 0.825026273727417, 0.8203765749931335, 0.8135456442832947, 0.8126807808876038, 0.8102507591247559, 0.8099054098129272, 0.809144914150238, 0.8082581162452698, 0.8074367642402649, 0.8068947196006775, 0.8064437508583069, 0.8063569664955139, 0.8030365109443665, 0.8026800751686096, 0.8023852109909058, 0.8019177317619324, 0.8003167510032654, 0.7988556623458862, 0.7986411452293396, 0.9865548610687256, 0.982254683971405, 0.9815481305122375, 0.9809903502464294, 0.9806469678878784, 0.9804714322090149, 0.9707056283950806, 0.9676737189292908, 0.9663012027740479, 0.9640906453132629, 0.963141918182373, 0.9629533290863037, 0.961742103099823, 0.9607642889022827, 0.9602080583572388, 0.9595583081245422, 0.9595389366149902, 0.9593321681022644, 0.9589455723762512, 0.9577310681343079, 0.9567240476608276, 0.9549014568328857, 0.9548249840736389, 0.9546981453895569, 0.9542014598846436, 0.9540883898735046, 0.9536181688308716, 0.9531171917915344, 0.9521734714508057, 0.9509882926940918, 0.9509055018424988, 0.9508689045906067, 0.8580003976821899, 0.8502210974693298, 0.848885715007782, 0.8424554467201233, 0.8389236330986023, 0.838032603263855, 0.8351874947547913, 0.8346632122993469, 0.8332008719444275, 0.8281645178794861, 0.8258261680603027, 0.8238004446029663, 0.8219779133796692, 0.8196608424186707, 0.8176276683807373, 0.8168251514434814, 0.8167169094085693, 0.8159424662590027, 0.8146458268165588, 0.8132624626159668, 0.8131824731826782, 0.8128111958503723, 0.8104842305183411, 0.809012234210968, 0.8082303404808044, 0.9170799255371094, 0.9167823195457458, 0.9143534302711487, 0.9127090573310852, 0.9106661677360535, 0.9093905091285706, 0.9092007875442505, 0.908194363117218, 0.9061352610588074, 0.903976559638977, 0.9033036828041077, 0.902411162853241, 0.9018600583076477, 0.8998289704322815, 0.8981349468231201, 0.8976020216941833, 0.8965574502944946, 0.8960700631141663, 0.8959464430809021, 0.8958675265312195, 0.8952339887619019, 0.895027756690979, 0.9538789391517639, 0.9506819844245911, 0.9445331692695618, 0.9437518119812012, 0.9428213238716125, 0.9421526789665222, 0.9402502179145813, 0.9394487142562866, 0.9387372732162476, 0.9386940002441406, 0.9386733174324036, 0.9381152391433716, 0.9363457560539246, 0.9357313513755798, 0.935046374797821, 0.9347429871559143, 0.9344089031219482, 0.9342930912971497, 0.9329368472099304, 0.9327389597892761, 0.9314857125282288, 0.9307650923728943, 0.9307345747947693, 0.9305264949798584, 0.9295340180397034, 0.9877870678901672, 0.9816882610321045, 0.9801197052001953, 0.9794846773147583, 0.9775322079658508, 0.9771096706390381, 0.9724813103675842, 0.9715307354927063, 0.9689592123031616, 0.9677481055259705, 0.9667060375213623, 0.9665156006813049, 0.9644296765327454, 0.9644181132316589, 0.9629226326942444, 0.9616302847862244, 0.9603129029273987, 0.9601258635520935, 0.9599847197532654, 0.9572460055351257, 0.9572190046310425, 0.9505078792572021, 0.9251132011413574, 0.9187806248664856, 0.9186183214187622, 0.9160199761390686, 0.9140990972518921, 0.9136853218078613, 0.9134582877159119, 0.9129891395568848, 0.9123451113700867, 0.9080504775047302, 0.9069952964782715, 0.830291211605072, 0.8060709238052368, 0.7934810519218445, 0.7835139036178589, 0.7782850861549377, 0.7742087244987488, 0.7706031203269958, 0.7701476812362671, 0.769026517868042, 0.7685520052909851, 0.7674417495727539, 0.7670801281929016, 0.7631323337554932, 0.7612672448158264, 0.7591777443885803, 0.7581677436828613, 0.7556052207946777, 0.755041241645813, 0.7547643780708313, 0.7542976140975952, 0.7540342807769775, 0.7531592845916748, 0.7509968876838684, 0.857209324836731, 0.8499746918678284, 0.8496750593185425, 0.8422079682350159, 0.841749370098114, 0.8381103873252869, 0.8378891348838806, 0.8375959992408752, 0.8364684581756592, 0.8340848088264465, 0.8322999477386475, 0.8322675228118896, 0.8307788968086243, 0.827095091342926, 0.8256060481071472, 0.8253622651100159, 0.8242971301078796, 0.9338626265525818, 0.9332553744316101, 0.9261116981506348, 0.9260725975036621, 0.9259698390960693, 0.9251421689987183, 0.923805832862854, 0.9209858775138855, 0.9207800626754761, 0.9199028611183167, 0.9195743203163147, 0.9190378785133362, 0.918907105922699, 0.9184283018112183, 0.9181399345397949, 0.917741596698761, 0.9164015054702759, 0.9141687750816345, 0.9132577776908875, 0.9131702184677124, 0.9129064083099365, 0.9118450284004211, 0.9110447764396667, 0.911018967628479, 0.9106783270835876, 0.9092883467674255, 0.9675685167312622, 0.965948760509491, 0.9659292697906494, 0.9627239108085632, 0.9598143696784973, 0.9577947854995728, 0.9557071328163147, 0.9556979537010193, 0.9549885392189026, 0.9540920257568359, 0.9535194635391235, 0.9524694085121155, 0.9501131772994995, 0.9484548568725586, 0.9463844299316406, 0.9457067847251892, 0.9455690979957581, 0.9416762590408325, 0.9400485157966614, 0.9337452054023743, 0.9267208576202393, 0.9255610108375549, 0.9255147576332092, 0.9226060509681702, 0.9211323261260986, 0.9176367521286011, 0.9176010489463806, 0.9171444773674011, 0.9161375164985657, 0.9152148365974426, 0.913760781288147, 0.9137368202209473, 0.8472647666931152, 0.8363012671470642, 0.8092895746231079, 0.8082684874534607, 0.8061089515686035, 0.8038288354873657, 0.7980978488922119, 0.7979156374931335, 0.7929881811141968, 0.7926337122917175, 0.7924811244010925, 0.7886573076248169, 0.7862952351570129, 0.7848093509674072, 0.7845574617385864, 0.7791878581047058, 0.7788136005401611, 0.7774298787117004, 0.7773348689079285, 0.8365812301635742, 0.8298676013946533, 0.8160342574119568, 0.8147079348564148, 0.8090147972106934, 0.8062925338745117, 0.8060859441757202, 0.8052204847335815, 0.8012428283691406, 0.7969080805778503, 0.7966073155403137, 0.7884874939918518, 0.7870494723320007, 0.785933256149292, 0.7845197319984436, 0.7831871509552002, 0.7830295562744141, 0.7829834818840027, 0.7822673320770264, 0.7802679538726807, 0.779819667339325, 0.7784594893455505, 0.8457626700401306, 0.8424331545829773, 0.8267523050308228, 0.8226220011711121, 0.8196954727172852, 0.8170386552810669, 0.8101539611816406, 0.8092433214187622, 0.8088721632957458, 0.8087560534477234, 0.8071738481521606, 0.8070593476295471, 0.8058034181594849, 0.8001688122749329, 0.7994356155395508, 0.797057032585144, 0.7964985370635986, 0.7947388291358948, 0.7930737137794495, 0.7909311056137085, 0.790779709815979, 0.7906023263931274, 0.7896023392677307, 0.7890980243682861, 0.7890341281890869, 0.7883465886116028, 0.7859293222427368, 0.8375388383865356, 0.7994565963745117, 0.7831109762191772, 0.7760924696922302, 0.7631616592407227, 0.7565741539001465, 0.7553058862686157, 0.7521080374717712, 0.7440485954284668, 0.7429236173629761, 0.7398130893707275, 0.7394697666168213, 0.7388484477996826, 0.733124852180481, 0.7304846048355103, 0.7296191453933716, 0.7279418110847473, 0.7251994609832764, 0.7241946458816528, 0.7238070964813232, 0.7235115766525269, 0.7219980955123901, 0.7218165397644043, 0.7217376232147217, 0.7179103493690491, 0.7173089385032654, 0.7172152996063232, 0.7172096371650696, 0.7159085869789124, 0.9212027192115784, 0.8564534187316895, 0.842829704284668, 0.8302922248840332, 0.8209259510040283, 0.8149880170822144, 0.809581995010376, 0.8071230053901672, 0.8006600737571716, 0.7959275841712952, 0.7875733375549316, 0.7852919101715088, 0.7794156074523926, 0.7785975337028503, 0.7747637033462524, 0.7732129693031311, 0.7724514007568359, 0.7673051357269287, 0.7659491896629333, 0.7632071375846863, 0.7630700469017029, 0.7608722448348999, 0.7552880048751831, 0.75177401304245, 0.750844419002533, 0.7476171255111694, 0.7440516352653503, 0.7428419589996338, 0.7426630854606628, 0.7420362234115601, 0.737262487411499, 0.9348525404930115, 0.9342890381813049, 0.9258731603622437, 0.9229243993759155, 0.9206590056419373, 0.9200693368911743, 0.9145638346672058, 0.9144968390464783, 0.914032518863678, 0.9132441282272339, 0.9127988219261169, 0.9105271100997925, 0.9094871282577515, 0.9055600166320801, 0.9055283665657043, 0.9046935439109802, 0.9042839407920837, 0.9040889143943787, 0.9036333560943604, 0.9030242562294006, 0.902559757232666, 0.9011856317520142, 0.9010580778121948, 0.899669885635376, 0.898991048336029, 0.8988869786262512, 0.8988580107688904, 0.898772656917572, 0.9467993974685669, 0.9407645463943481, 0.939388632774353, 0.9334825277328491, 0.9320180416107178, 0.9281833171844482, 0.9264353513717651, 0.9238225221633911, 0.9236261248588562, 0.9225094318389893, 0.9211987853050232, 0.9210876226425171, 0.9210440516471863, 0.9186172485351562, 0.9176166653633118, 0.9172641038894653, 0.9172491431236267, 0.9154537916183472, 0.9153713583946228, 0.9147509932518005, 0.9146130084991455, 0.9137054085731506, 0.9134983420372009, 0.9134961366653442, 0.9111396670341492, 0.9111108183860779, 0.9110110998153687, 0.99713134765625, 0.9964941740036011, 0.9955898523330688, 0.9943885207176208, 0.9938521385192871, 0.99379962682724, 0.9937596917152405, 0.9930570721626282, 0.9923617243766785, 0.9921507835388184, 0.9911856055259705, 0.9911718368530273, 0.9911457300186157, 0.9910084009170532, 0.9884905219078064, 0.9884393811225891, 0.9883757829666138, 0.9874191284179688, 0.9870813488960266, 0.9865999817848206, 0.9857180714607239, 0.9853237271308899, 0.9832630157470703, 0.9826128482818604, 0.9824357628822327, 0.9823925495147705, 0.9820691347122192, 0.9808967709541321, 0.9807853102684021, 0.98033607006073, 0.9802737832069397, 0.9800880551338196, 0.9800366759300232, 0.9793671369552612, 0.8695160746574402, 0.8643986582756042, 0.8613504767417908, 0.8427367210388184, 0.8407565951347351, 0.8263792395591736, 0.8256331086158752, 0.8159166574478149, 0.8078365921974182, 0.7988628149032593, 0.7897741794586182, 0.7896959781646729, 0.785789430141449, 0.7816241979598999, 0.7799610495567322, 0.7778813242912292, 0.7777058482170105, 0.7776261568069458, 0.7764285802841187, 0.7743686437606812, 0.7659790515899658, 0.7622395157814026, 0.7592360973358154, 0.7579460144042969, 0.7564056515693665, 0.7539958953857422, 0.7539034485816956, 0.7523500323295593, 0.7520114779472351, 0.7500075101852417, 0.9490751028060913, 0.8912752866744995, 0.8762502074241638, 0.863365650177002, 0.861666202545166, 0.8603897094726562, 0.858704686164856, 0.8573660850524902, 0.8558127880096436, 0.8550124764442444, 0.8526368737220764, 0.8522129058837891, 0.8468013405799866, 0.8446199297904968, 0.8411209583282471, 0.8410112261772156, 0.8370007872581482, 0.8365926146507263, 0.8332290649414062, 0.8330351710319519, 0.8323219418525696, 0.8322669267654419, 0.9653980135917664, 0.9648428559303284, 0.9613988399505615, 0.9553654789924622, 0.9533050656318665, 0.9523833394050598, 0.9520576596260071, 0.9504921436309814, 0.9498202204704285, 0.9498027563095093, 0.9492563009262085, 0.9487698078155518, 0.9486868381500244, 0.9484487175941467, 0.9483681917190552, 0.948134183883667, 0.9473028182983398, 0.9472970366477966, 0.9471395611763, 0.9466280341148376, 0.9465211629867554, 0.9462130069732666, 0.9460627436637878, 0.9457446336746216, 0.9456964135169983, 0.9455180168151855, 0.9453315138816833, 0.9445997476577759, 0.9444879293441772, 0.8758399486541748, 0.8754640817642212, 0.8516908884048462, 0.839969277381897, 0.822563648223877, 0.8071309328079224, 0.8067479729652405, 0.7978960871696472, 0.7966232299804688, 0.785962700843811, 0.780367374420166, 0.7803614139556885, 0.7773489356040955, 0.77635657787323, 0.7751140594482422, 0.7750200033187866, 0.7746191024780273, 0.7745785713195801, 0.7718545794487, 0.7651893496513367, 0.7615412473678589, 0.7589722871780396, 0.7556952834129333, 0.7546216249465942, 0.7537481188774109, 0.7518261075019836, 0.7509983777999878, 0.7491497993469238, 0.7466306686401367, 0.7442783117294312, 0.742518424987793, 0.7416645288467407, 0.7395235300064087, 0.7376109957695007, 0.7337595224380493, 0.9869773983955383, 0.9818884134292603, 0.9801196455955505, 0.9757682085037231, 0.9757155179977417, 0.9756943583488464, 0.9752867221832275, 0.9748066067695618, 0.9743117690086365, 0.9732160568237305, 0.9731667041778564, 0.9666780233383179, 0.9665764570236206, 0.9664539098739624, 0.9659306406974792, 0.961714506149292, 0.9592346549034119, 0.9589250683784485, 0.9588016271591187, 0.9585021138191223, 0.9584761261940002, 0.9543463587760925, 0.9458292126655579, 0.942720890045166, 0.9408262968063354, 0.9400486350059509, 0.9391002058982849, 0.9377569556236267, 0.937694251537323, 0.9374468326568604, 0.9367973804473877, 0.9360478520393372, 0.9354645609855652, 0.9338683485984802, 0.9327496290206909, 0.9321818351745605, 0.9315298199653625, 0.9688259959220886, 0.9625375866889954, 0.9597853422164917, 0.9569860100746155, 0.9552542567253113, 0.954503059387207, 0.9498152136802673, 0.9491401314735413, 0.9479994773864746, 0.9477525353431702, 0.9443317651748657, 0.9430531859397888, 0.9426343441009521, 0.942237377166748, 0.940007746219635, 0.939909815788269, 0.9389405250549316, 0.9387988448143005, 0.9386784434318542, 0.9385452270507812, 0.9381020665168762, 0.9377063512802124, 0.9376575350761414, 0.9374004602432251, 0.9372369647026062, 0.9366592764854431, 0.9366089105606079, 0.936498761177063, 0.9361267685890198, 0.6179066896438599, 0.6065253615379333, 0.6023799777030945, 0.6012402772903442, 0.6001090407371521, 0.5901533961296082, 0.5895749926567078, 0.5874573588371277, 0.5856592059135437, 0.5843995213508606, 0.5810373425483704, 0.5735047459602356, 0.5708746910095215, 0.5623074769973755, 0.5604177117347717, 0.5601922869682312, 0.5551241636276245, 0.5538074970245361, 0.5535407662391663, 0.5533588528633118, 0.5524027347564697, 0.5490168333053589, 0.547081470489502, 0.546730101108551, 0.5459728240966797, 0.5455703139305115, 0.5446638464927673, 0.5421736836433411, 0.5420544147491455, 0.5415168404579163, 0.5409405827522278, 0.5394466519355774, 0.5360121130943298, 0.5356878638267517, 0.781987190246582, 0.7744240164756775, 0.771105170249939, 0.7709831595420837, 0.7680317163467407, 0.7678211331367493, 0.7665529847145081, 0.7641378045082092, 0.7635530233383179, 0.7633578777313232, 0.7627115249633789, 0.7618760466575623, 0.7591190338134766, 0.7586028575897217, 0.7561398148536682, 0.7561019062995911, 0.7542009949684143, 0.7540757060050964, 0.7497151494026184, 0.7461246252059937, 0.7459738850593567, 0.7455484867095947, 0.7440087795257568, 0.7436423897743225, 0.7428800463676453, 0.9496360421180725, 0.9410194158554077, 0.9207991361618042, 0.919060468673706, 0.9088861346244812, 0.9036889672279358, 0.9036575555801392, 0.900973916053772, 0.8946563601493835, 0.892483115196228, 0.8884140849113464, 0.8866955041885376, 0.8839104175567627, 0.8833321928977966, 0.8832062482833862, 0.8829960823059082, 0.8826464414596558, 0.8817514181137085, 0.8812276124954224, 0.880974292755127, 0.8804429173469543, 0.8795616030693054, 0.8783933520317078, 0.8780340552330017, 0.877484142780304, 0.877157986164093, 0.8771401047706604, 0.8769654631614685, 0.8764784932136536, 0.8758134245872498, 0.8744245767593384, 0.8136562705039978, 0.8053264021873474, 0.8001289367675781, 0.793271005153656, 0.7811024188995361, 0.7808499932289124, 0.7781881093978882, 0.7777342200279236, 0.7692133784294128, 0.7668129801750183, 0.7635207176208496, 0.7521652579307556, 0.7500203251838684, 0.746178388595581, 0.7455753684043884, 0.7433531880378723, 0.7430949211120605, 0.7400069236755371, 0.7389224171638489, 0.7381625771522522, 0.7375280261039734, 0.7366207242012024, 0.7356495261192322, 0.734867513179779, 0.8591447472572327, 0.8257981538772583, 0.8220697641372681, 0.8211631774902344, 0.7963508367538452, 0.795637845993042, 0.7912790775299072, 0.7901881337165833, 0.7886806726455688, 0.7862973213195801, 0.7855834364891052, 0.7853118181228638, 0.7763433456420898, 0.7746155858039856, 0.7723686695098877, 0.7706543207168579, 0.7701658010482788, 0.7663276195526123, 0.7652040719985962, 0.7651007771492004, 0.7629338502883911, 0.762453556060791, 0.7610342502593994, 0.7609637379646301, 0.7600563168525696, 0.8468942046165466, 0.8454241752624512, 0.8423039317131042, 0.8399136662483215, 0.8313882946968079, 0.823783814907074, 0.8202197551727295, 0.8194706439971924, 0.818794310092926, 0.8165006041526794, 0.8163926601409912, 0.8128179907798767, 0.8125911951065063, 0.8124649524688721, 0.812063455581665, 0.8115437626838684, 0.811398446559906, 0.8096774816513062, 0.8085935711860657, 0.8081697225570679, 0.8064371943473816, 0.805805504322052, 0.805696427822113, 0.8045369982719421, 0.7864016890525818, 0.7689639925956726, 0.7671286463737488, 0.7660178542137146, 0.7558977007865906, 0.7452989816665649, 0.7378561496734619, 0.7290728092193604, 0.7169055938720703, 0.7154459357261658, 0.7108616232872009, 0.7053786516189575, 0.7041121125221252, 0.7038992643356323, 0.7034448981285095, 0.7021268606185913, 0.6984555721282959, 0.6978065967559814, 0.6963685750961304, 0.6913672089576721, 0.6837554574012756, 0.683131992816925, 0.6828201413154602, 0.6790836453437805, 0.6788331270217896, 0.6786819696426392, 0.9028051495552063, 0.8997804522514343, 0.897270143032074, 0.8938688635826111, 0.892808198928833, 0.8910508751869202, 0.8878122568130493, 0.8876265287399292, 0.8875047564506531, 0.8862015604972839, 0.8856807351112366, 0.8850316405296326, 0.8843364119529724, 0.8830689787864685, 0.8818126916885376, 0.8816074132919312, 0.8806390166282654, 0.8804203271865845, 0.8802261352539062, 0.8795685768127441, 0.8794170022010803, 0.8788712024688721, 0.8788093328475952, 0.8781049847602844, 0.8774077892303467, 0.8771425485610962, 0.8768535852432251, 0.8758911490440369, 0.8752924203872681, 0.8749565482139587, 0.8744102716445923, 0.8743094801902771, 0.8743081092834473, 0.9453568458557129, 0.9177806973457336, 0.8879778385162354, 0.8877054452896118, 0.887507975101471, 0.8865931034088135, 0.8800434470176697, 0.8797640800476074, 0.8791691064834595, 0.8761591911315918, 0.8761453032493591, 0.8744586706161499, 0.8708080649375916, 0.8693020343780518, 0.8676584362983704, 0.8662619590759277, 0.8658553957939148, 0.865291178226471, 0.8629389405250549, 0.8615120649337769, 0.8609952330589294, 0.8605936169624329, 0.8577622175216675, 0.8565094470977783, 0.8540917038917542, 0.8528202176094055, 0.8514797687530518, 0.8514430522918701, 0.850725531578064, 0.849373996257782, 0.8463460206985474, 0.8458085060119629, 0.8431349992752075, 0.8430168032646179, 0.7427313327789307, 0.7335389256477356, 0.7313616275787354, 0.730201005935669, 0.7218552231788635, 0.714005172252655, 0.7131885886192322, 0.7006915211677551, 0.698371946811676, 0.6955997347831726, 0.6888435482978821, 0.6846669316291809, 0.6843397617340088, 0.6784683465957642, 0.6768671870231628, 0.6691774129867554, 0.6654917001724243, 0.6646840572357178, 0.6632786989212036, 0.6608985662460327, 0.6581764221191406, 0.6576093435287476, 0.6541956663131714, 0.6541934609413147, 0.6537899971008301, 0.6504030823707581, 0.6498273611068726, 0.7657310962677002, 0.7525340914726257, 0.749066174030304, 0.7403894662857056, 0.7270406484603882, 0.721905529499054, 0.7124180197715759, 0.7049859762191772, 0.656754195690155, 0.6457799673080444, 0.6379361748695374, 0.6371436715126038, 0.636320948600769, 0.6208816766738892, 0.6152366399765015, 0.6123327612876892, 0.6098146438598633, 0.6024882197380066, 0.6006054878234863, 0.5969939827919006, 0.5913445949554443, 0.588158130645752, 0.5853145122528076, 0.578433632850647, 0.5774871110916138, 0.5738869905471802, 0.5682055354118347, 0.5607225894927979, 0.5524311661720276, 0.5508297681808472, 0.5493563413619995, 0.5483478903770447, 0.5480384826660156, 0.5460780262947083, 0.5457599759101868, 0.5431472063064575, 0.5421679019927979, 0.7908841967582703, 0.7662264704704285, 0.7612004280090332, 0.7602127194404602, 0.744175374507904, 0.7415909767150879, 0.7412410378456116, 0.7334969639778137, 0.7330532670021057, 0.7327806949615479, 0.7225939631462097, 0.716507077217102, 0.7142509818077087, 0.7042473554611206, 0.701920211315155, 0.7001262307167053, 0.6998607516288757, 0.699680745601654, 0.6937641501426697, 0.6820229887962341, 0.6791128516197205, 0.6748412251472473, 0.6722976565361023, 0.668554961681366, 0.661996066570282, 0.658449113368988, 0.6570330262184143, 0.6546183228492737, 0.6508082151412964, 0.6496138572692871, 0.6470040082931519, 0.6415718793869019, 0.640835165977478, 0.6407816410064697, 0.6358752250671387, 0.9800435900688171, 0.9770137071609497, 0.9733903408050537, 0.972966730594635, 0.971750795841217, 0.969683051109314, 0.9683734774589539, 0.9683338403701782, 0.9652592539787292, 0.9648739099502563, 0.9646594524383545, 0.9645863175392151, 0.9641724824905396, 0.9636760354042053, 0.963577389717102, 0.9630596041679382, 0.962532103061676, 0.9623717069625854, 0.9622259140014648, 0.9606949090957642, 0.9606848359107971, 0.9603393077850342, 0.96024489402771, 0.9598862528800964, 0.9590237736701965, 0.9578226208686829, 0.956614077091217, 0.9565547108650208, 0.9558256268501282, 0.9541595578193665, 0.9537959098815918, 0.9534886479377747, 0.8823753595352173, 0.8702591061592102, 0.8510256409645081, 0.8403689861297607, 0.8372246623039246, 0.8336263298988342, 0.8088001608848572, 0.8084632158279419, 0.8079412579536438, 0.8076968789100647, 0.7971146106719971, 0.7949084639549255, 0.7910525798797607, 0.787074863910675, 0.7848359942436218, 0.7830347418785095, 0.7779673337936401, 0.7763996124267578, 0.7736976146697998, 0.7683671712875366, 0.7673256993293762, 0.7665978074073792, 0.7646583318710327, 0.7625882029533386, 0.761102020740509, 0.761099100112915, 0.7575349807739258, 0.7530252933502197, 0.7468599677085876, 0.7465067505836487, 0.7426177263259888, 0.7360529899597168, 0.7334309816360474, 0.7332345843315125, 0.7327936291694641, 0.7824397087097168, 0.7324205636978149, 0.6989187002182007, 0.6850546002388, 0.682473361492157, 0.6773334741592407, 0.6717942357063293, 0.6648494005203247, 0.6636061072349548, 0.6604530811309814, 0.6542634963989258, 0.6463526487350464, 0.6462743282318115, 0.6444116830825806, 0.6432890892028809, 0.6399593353271484, 0.6318360567092896, 0.6302889585494995, 0.6240411400794983, 0.6233518719673157, 0.6224256157875061, 0.6189276576042175, 0.6183276772499084, 0.6158551573753357, 0.6155255436897278, 0.6130235195159912, 0.6127110123634338, 0.6105530858039856, 0.8699816465377808, 0.8524579405784607, 0.8498093485832214, 0.8384274840354919, 0.8364768624305725, 0.836115837097168, 0.8358417749404907, 0.8346428871154785, 0.8297876715660095, 0.8278851509094238, 0.8277410268783569, 0.8267245888710022, 0.8249386548995972, 0.8242531418800354, 0.8232667446136475, 0.8224241137504578, 0.8212817907333374, 0.8205610513687134, 0.8163692355155945, 0.8144917488098145, 0.814061164855957, 0.812076210975647, 0.8106740713119507, 0.8091015815734863, 0.8072571754455566, 0.8752164840698242, 0.8365557193756104, 0.8270561695098877, 0.8218416571617126, 0.8069295287132263, 0.8045324683189392, 0.8004657626152039, 0.7989818453788757, 0.797171950340271, 0.7937332987785339, 0.7901676297187805, 0.7896555662155151, 0.7867518663406372, 0.7830038070678711, 0.7741715908050537, 0.7707820534706116, 0.7700505256652832, 0.768644392490387, 0.7672680020332336, 0.7670041918754578, 0.7659676671028137, 0.7620399594306946, 0.7614166140556335, 0.7605316638946533, 0.7602357864379883, 0.7516867518424988, 0.7423418760299683, 0.7120298147201538, 0.6842215657234192, 0.6822357773780823, 0.6591960787773132, 0.6532278060913086, 0.6503643989562988, 0.6476917862892151, 0.6379551291465759, 0.637016773223877, 0.6368067264556885, 0.6320392489433289, 0.6311730742454529, 0.6303814649581909, 0.62890625, 0.6239405274391174, 0.6219272613525391, 0.6194649934768677, 0.6189735531806946, 0.6158804893493652, 0.6143175363540649, 0.6138551831245422, 0.6073851585388184, 0.6003220677375793, 0.5979869961738586, 0.5938549041748047, 0.5925127863883972, 0.5911937952041626, 0.8210286498069763, 0.8193603157997131, 0.8169403076171875, 0.8041969537734985, 0.8035898804664612, 0.7944874167442322, 0.7942439913749695, 0.7880200147628784, 0.786835253238678, 0.786617636680603, 0.7837967872619629, 0.7800283432006836, 0.7717148661613464, 0.771111011505127, 0.7710434198379517, 0.7704282999038696, 0.7701084613800049, 0.7670772671699524, 0.7649421095848083, 0.7648842930793762, 0.7613580226898193, 0.7612552642822266, 0.7591015100479126, 0.7586972713470459, 0.7578480839729309, 0.7551983594894409, 0.8440464735031128, 0.8277758359909058, 0.8252271413803101, 0.8199514746665955, 0.8144055604934692, 0.8117797374725342, 0.8096014261245728, 0.8084148168563843, 0.8082275390625, 0.8075534105300903, 0.8018602728843689, 0.798954427242279, 0.7985397577285767, 0.7979816794395447, 0.7925106287002563, 0.7878252863883972, 0.7877455949783325, 0.7872390151023865, 0.7862783670425415, 0.7832275629043579, 0.7831501364707947, 0.777657151222229, 0.7760775685310364, 0.9262486696243286, 0.9033820033073425, 0.901063084602356, 0.8848152160644531, 0.8815866112709045, 0.8787521719932556, 0.8557109236717224, 0.8517265319824219, 0.8510463833808899, 0.8484597206115723, 0.8429468274116516, 0.8417154550552368, 0.8353168964385986, 0.8280993103981018, 0.8222942352294922, 0.820611834526062, 0.81980961561203, 0.8186965584754944, 0.8094599843025208, 0.8090144991874695, 0.8022637963294983, 0.8020931482315063, 0.7976081967353821, 0.7967120409011841, 0.7945943474769592, 0.7935611605644226, 0.7924463748931885, 0.7918657660484314, 0.791669487953186, 0.7914759516716003, 0.7898563742637634, 0.7855731248855591, 0.8191114068031311, 0.8028737902641296, 0.7979902029037476, 0.7942771315574646, 0.789724588394165, 0.7865986824035645, 0.7863847017288208, 0.7752063274383545, 0.773303210735321, 0.76960688829422, 0.7661632299423218, 0.7656885981559753, 0.763190746307373, 0.7601463794708252, 0.7574779987335205, 0.7536032199859619, 0.7534835934638977, 0.749660074710846, 0.7491100430488586, 0.7481552958488464, 0.7479874491691589, 0.7465977072715759, 0.7449638247489929, 0.7444987297058105], \"xaxis\": \"x\", \"yaxis\": \"y\"}],\n",
              "                        {\"barmode\": \"relative\", \"legend\": {\"tracegroupgap\": 0}, \"template\": {\"data\": {\"bar\": [{\"error_x\": {\"color\": \"#2a3f5f\"}, \"error_y\": {\"color\": \"#2a3f5f\"}, \"marker\": {\"line\": {\"color\": \"#E5ECF6\", \"width\": 0.5}}, \"type\": \"bar\"}], \"barpolar\": [{\"marker\": {\"line\": {\"color\": \"#E5ECF6\", \"width\": 0.5}}, \"type\": \"barpolar\"}], \"carpet\": [{\"aaxis\": {\"endlinecolor\": \"#2a3f5f\", \"gridcolor\": \"white\", \"linecolor\": \"white\", \"minorgridcolor\": \"white\", \"startlinecolor\": \"#2a3f5f\"}, \"baxis\": {\"endlinecolor\": \"#2a3f5f\", \"gridcolor\": \"white\", \"linecolor\": \"white\", \"minorgridcolor\": \"white\", \"startlinecolor\": \"#2a3f5f\"}, \"type\": \"carpet\"}], \"choropleth\": [{\"colorbar\": {\"outlinewidth\": 0, \"ticks\": \"\"}, \"type\": \"choropleth\"}], \"contour\": [{\"colorbar\": {\"outlinewidth\": 0, \"ticks\": \"\"}, \"colorscale\": [[0.0, \"#0d0887\"], [0.1111111111111111, \"#46039f\"], [0.2222222222222222, \"#7201a8\"], [0.3333333333333333, \"#9c179e\"], [0.4444444444444444, \"#bd3786\"], [0.5555555555555556, \"#d8576b\"], [0.6666666666666666, \"#ed7953\"], [0.7777777777777778, \"#fb9f3a\"], [0.8888888888888888, \"#fdca26\"], [1.0, \"#f0f921\"]], \"type\": \"contour\"}], \"contourcarpet\": [{\"colorbar\": {\"outlinewidth\": 0, \"ticks\": \"\"}, \"type\": \"contourcarpet\"}], \"heatmap\": [{\"colorbar\": {\"outlinewidth\": 0, \"ticks\": \"\"}, \"colorscale\": [[0.0, \"#0d0887\"], [0.1111111111111111, \"#46039f\"], [0.2222222222222222, \"#7201a8\"], [0.3333333333333333, \"#9c179e\"], [0.4444444444444444, \"#bd3786\"], [0.5555555555555556, \"#d8576b\"], [0.6666666666666666, \"#ed7953\"], [0.7777777777777778, \"#fb9f3a\"], [0.8888888888888888, \"#fdca26\"], [1.0, \"#f0f921\"]], \"type\": \"heatmap\"}], \"heatmapgl\": [{\"colorbar\": {\"outlinewidth\": 0, \"ticks\": \"\"}, \"colorscale\": [[0.0, \"#0d0887\"], [0.1111111111111111, \"#46039f\"], [0.2222222222222222, \"#7201a8\"], [0.3333333333333333, \"#9c179e\"], [0.4444444444444444, \"#bd3786\"], [0.5555555555555556, \"#d8576b\"], [0.6666666666666666, \"#ed7953\"], [0.7777777777777778, \"#fb9f3a\"], [0.8888888888888888, \"#fdca26\"], [1.0, \"#f0f921\"]], \"type\": \"heatmapgl\"}], \"histogram\": [{\"marker\": {\"colorbar\": {\"outlinewidth\": 0, \"ticks\": \"\"}}, \"type\": \"histogram\"}], \"histogram2d\": [{\"colorbar\": {\"outlinewidth\": 0, \"ticks\": \"\"}, \"colorscale\": [[0.0, \"#0d0887\"], [0.1111111111111111, \"#46039f\"], [0.2222222222222222, \"#7201a8\"], [0.3333333333333333, \"#9c179e\"], [0.4444444444444444, \"#bd3786\"], [0.5555555555555556, \"#d8576b\"], [0.6666666666666666, \"#ed7953\"], [0.7777777777777778, \"#fb9f3a\"], [0.8888888888888888, \"#fdca26\"], [1.0, \"#f0f921\"]], \"type\": \"histogram2d\"}], \"histogram2dcontour\": [{\"colorbar\": {\"outlinewidth\": 0, \"ticks\": \"\"}, \"colorscale\": [[0.0, \"#0d0887\"], [0.1111111111111111, \"#46039f\"], [0.2222222222222222, \"#7201a8\"], [0.3333333333333333, \"#9c179e\"], [0.4444444444444444, \"#bd3786\"], [0.5555555555555556, \"#d8576b\"], [0.6666666666666666, \"#ed7953\"], [0.7777777777777778, \"#fb9f3a\"], [0.8888888888888888, \"#fdca26\"], [1.0, \"#f0f921\"]], \"type\": \"histogram2dcontour\"}], \"mesh3d\": [{\"colorbar\": {\"outlinewidth\": 0, \"ticks\": \"\"}, \"type\": \"mesh3d\"}], \"parcoords\": [{\"line\": {\"colorbar\": {\"outlinewidth\": 0, \"ticks\": \"\"}}, \"type\": \"parcoords\"}], \"pie\": [{\"automargin\": true, \"type\": \"pie\"}], \"scatter\": [{\"marker\": {\"colorbar\": {\"outlinewidth\": 0, \"ticks\": \"\"}}, \"type\": \"scatter\"}], \"scatter3d\": [{\"line\": {\"colorbar\": {\"outlinewidth\": 0, \"ticks\": \"\"}}, \"marker\": {\"colorbar\": {\"outlinewidth\": 0, \"ticks\": \"\"}}, \"type\": \"scatter3d\"}], \"scattercarpet\": [{\"marker\": {\"colorbar\": {\"outlinewidth\": 0, \"ticks\": \"\"}}, \"type\": \"scattercarpet\"}], \"scattergeo\": [{\"marker\": {\"colorbar\": {\"outlinewidth\": 0, \"ticks\": \"\"}}, \"type\": \"scattergeo\"}], \"scattergl\": [{\"marker\": {\"colorbar\": {\"outlinewidth\": 0, \"ticks\": \"\"}}, \"type\": \"scattergl\"}], \"scattermapbox\": [{\"marker\": {\"colorbar\": {\"outlinewidth\": 0, \"ticks\": \"\"}}, \"type\": \"scattermapbox\"}], \"scatterpolar\": [{\"marker\": {\"colorbar\": {\"outlinewidth\": 0, \"ticks\": \"\"}}, \"type\": \"scatterpolar\"}], \"scatterpolargl\": [{\"marker\": {\"colorbar\": {\"outlinewidth\": 0, \"ticks\": \"\"}}, \"type\": \"scatterpolargl\"}], \"scatterternary\": [{\"marker\": {\"colorbar\": {\"outlinewidth\": 0, \"ticks\": \"\"}}, \"type\": \"scatterternary\"}], \"surface\": [{\"colorbar\": {\"outlinewidth\": 0, \"ticks\": \"\"}, \"colorscale\": [[0.0, \"#0d0887\"], [0.1111111111111111, \"#46039f\"], [0.2222222222222222, \"#7201a8\"], [0.3333333333333333, \"#9c179e\"], [0.4444444444444444, \"#bd3786\"], [0.5555555555555556, \"#d8576b\"], [0.6666666666666666, \"#ed7953\"], [0.7777777777777778, \"#fb9f3a\"], [0.8888888888888888, \"#fdca26\"], [1.0, \"#f0f921\"]], \"type\": \"surface\"}], \"table\": [{\"cells\": {\"fill\": {\"color\": \"#EBF0F8\"}, \"line\": {\"color\": \"white\"}}, \"header\": {\"fill\": {\"color\": \"#C8D4E3\"}, \"line\": {\"color\": \"white\"}}, \"type\": \"table\"}]}, \"layout\": {\"annotationdefaults\": {\"arrowcolor\": \"#2a3f5f\", \"arrowhead\": 0, \"arrowwidth\": 1}, \"coloraxis\": {\"colorbar\": {\"outlinewidth\": 0, \"ticks\": \"\"}}, \"colorscale\": {\"diverging\": [[0, \"#8e0152\"], [0.1, \"#c51b7d\"], [0.2, \"#de77ae\"], [0.3, \"#f1b6da\"], [0.4, \"#fde0ef\"], [0.5, \"#f7f7f7\"], [0.6, \"#e6f5d0\"], [0.7, \"#b8e186\"], [0.8, \"#7fbc41\"], [0.9, \"#4d9221\"], [1, \"#276419\"]], \"sequential\": [[0.0, \"#0d0887\"], [0.1111111111111111, \"#46039f\"], [0.2222222222222222, \"#7201a8\"], [0.3333333333333333, \"#9c179e\"], [0.4444444444444444, \"#bd3786\"], [0.5555555555555556, \"#d8576b\"], [0.6666666666666666, \"#ed7953\"], [0.7777777777777778, \"#fb9f3a\"], [0.8888888888888888, \"#fdca26\"], [1.0, \"#f0f921\"]], \"sequentialminus\": [[0.0, \"#0d0887\"], [0.1111111111111111, \"#46039f\"], [0.2222222222222222, \"#7201a8\"], [0.3333333333333333, \"#9c179e\"], [0.4444444444444444, \"#bd3786\"], [0.5555555555555556, \"#d8576b\"], [0.6666666666666666, \"#ed7953\"], [0.7777777777777778, \"#fb9f3a\"], [0.8888888888888888, \"#fdca26\"], [1.0, \"#f0f921\"]]}, \"colorway\": [\"#636efa\", \"#EF553B\", \"#00cc96\", \"#ab63fa\", \"#FFA15A\", \"#19d3f3\", \"#FF6692\", \"#B6E880\", \"#FF97FF\", \"#FECB52\"], \"font\": {\"color\": \"#2a3f5f\"}, \"geo\": {\"bgcolor\": \"white\", \"lakecolor\": \"white\", \"landcolor\": \"#E5ECF6\", \"showlakes\": true, \"showland\": true, \"subunitcolor\": \"white\"}, \"hoverlabel\": {\"align\": \"left\"}, \"hovermode\": \"closest\", \"mapbox\": {\"style\": \"light\"}, \"paper_bgcolor\": \"white\", \"plot_bgcolor\": \"#E5ECF6\", \"polar\": {\"angularaxis\": {\"gridcolor\": \"white\", \"linecolor\": \"white\", \"ticks\": \"\"}, \"bgcolor\": \"#E5ECF6\", \"radialaxis\": {\"gridcolor\": \"white\", \"linecolor\": \"white\", \"ticks\": \"\"}}, \"scene\": {\"xaxis\": {\"backgroundcolor\": \"#E5ECF6\", \"gridcolor\": \"white\", \"gridwidth\": 2, \"linecolor\": \"white\", \"showbackground\": true, \"ticks\": \"\", \"zerolinecolor\": \"white\"}, \"yaxis\": {\"backgroundcolor\": \"#E5ECF6\", \"gridcolor\": \"white\", \"gridwidth\": 2, \"linecolor\": \"white\", \"showbackground\": true, \"ticks\": \"\", \"zerolinecolor\": \"white\"}, \"zaxis\": {\"backgroundcolor\": \"#E5ECF6\", \"gridcolor\": \"white\", \"gridwidth\": 2, \"linecolor\": \"white\", \"showbackground\": true, \"ticks\": \"\", \"zerolinecolor\": \"white\"}}, \"shapedefaults\": {\"line\": {\"color\": \"#2a3f5f\"}}, \"ternary\": {\"aaxis\": {\"gridcolor\": \"white\", \"linecolor\": \"white\", \"ticks\": \"\"}, \"baxis\": {\"gridcolor\": \"white\", \"linecolor\": \"white\", \"ticks\": \"\"}, \"bgcolor\": \"#E5ECF6\", \"caxis\": {\"gridcolor\": \"white\", \"linecolor\": \"white\", \"ticks\": \"\"}}, \"title\": {\"x\": 0.05}, \"xaxis\": {\"automargin\": true, \"gridcolor\": \"white\", \"linecolor\": \"white\", \"ticks\": \"\", \"title\": {\"standoff\": 15}, \"zerolinecolor\": \"white\", \"zerolinewidth\": 2}, \"yaxis\": {\"automargin\": true, \"gridcolor\": \"white\", \"linecolor\": \"white\", \"ticks\": \"\", \"title\": {\"standoff\": 15}, \"zerolinecolor\": \"white\", \"zerolinewidth\": 2}}}, \"title\": {\"text\": \"doc2vec sections\"}, \"xaxis\": {\"anchor\": \"y\", \"domain\": [0.0, 1.0], \"title\": {\"text\": \"score\"}}, \"yaxis\": {\"anchor\": \"x\", \"domain\": [0.0, 1.0], \"title\": {\"text\": \"count\"}}},\n",
              "                        {\"responsive\": true}\n",
              "                    ).then(function(){\n",
              "                            \n",
              "var gd = document.getElementById('b57b49de-1061-4f87-9c3b-4d018f1a9e07');\n",
              "var x = new MutationObserver(function (mutations, observer) {{\n",
              "        var display = window.getComputedStyle(gd).display;\n",
              "        if (!display || display === 'none') {{\n",
              "            console.log([gd, 'removed!']);\n",
              "            Plotly.purge(gd);\n",
              "            observer.disconnect();\n",
              "        }}\n",
              "}});\n",
              "\n",
              "// Listen for the removal of the full notebook cells\n",
              "var notebookContainer = gd.closest('#notebook-container');\n",
              "if (notebookContainer) {{\n",
              "    x.observe(notebookContainer, {childList: true});\n",
              "}}\n",
              "\n",
              "// Listen for the clearing of the current output cell\n",
              "var outputEl = gd.closest('.output');\n",
              "if (outputEl) {{\n",
              "    x.observe(outputEl, {childList: true});\n",
              "}}\n",
              "\n",
              "                        })\n",
              "                };\n",
              "                \n",
              "            </script>\n",
              "        </div>\n",
              "</body>\n",
              "</html>"
            ]
          },
          "metadata": {}
        }
      ]
    },
    {
      "cell_type": "code",
      "metadata": {
        "id": "OKeaqYxGPMZj"
      },
      "source": [
        "wandb.log({\"scores_hist\": fig})"
      ],
      "execution_count": 78,
      "outputs": []
    },
    {
      "cell_type": "code",
      "metadata": {
        "colab": {
          "base_uri": "https://localhost:8080/",
          "height": 1000
        },
        "id": "DgV3ccDr5Ux4",
        "outputId": "381b5fd4-819e-4007-d87b-de49a3f8af7d"
      },
      "source": [
        "result, details = recommend_tune(df_section_sim, 'Perdido')\n",
        "result.head(50)"
      ],
      "execution_count": 79,
      "outputs": [
        {
          "output_type": "execute_result",
          "data": {
            "text/html": [
              "<div>\n",
              "<style scoped>\n",
              "    .dataframe tbody tr th:only-of-type {\n",
              "        vertical-align: middle;\n",
              "    }\n",
              "\n",
              "    .dataframe tbody tr th {\n",
              "        vertical-align: top;\n",
              "    }\n",
              "\n",
              "    .dataframe thead th {\n",
              "        text-align: right;\n",
              "    }\n",
              "</style>\n",
              "<table border=\"1\" class=\"dataframe\">\n",
              "  <thead>\n",
              "    <tr style=\"text-align: right;\">\n",
              "      <th></th>\n",
              "      <th>index</th>\n",
              "      <th>reference</th>\n",
              "      <th>similar_title</th>\n",
              "      <th>score</th>\n",
              "      <th>max</th>\n",
              "      <th>score_div_max</th>\n",
              "    </tr>\n",
              "  </thead>\n",
              "  <tbody>\n",
              "    <tr>\n",
              "      <th>0</th>\n",
              "      <td>0</td>\n",
              "      <td>Perdido</td>\n",
              "      <td>Ladies In Mercedes</td>\n",
              "      <td>0.965398</td>\n",
              "      <td>0.968826</td>\n",
              "      <td>1.000000</td>\n",
              "    </tr>\n",
              "    <tr>\n",
              "      <th>1</th>\n",
              "      <td>1</td>\n",
              "      <td>Perdido</td>\n",
              "      <td>You're Nobody Till Somebody Loves You</td>\n",
              "      <td>0.968826</td>\n",
              "      <td>0.968826</td>\n",
              "      <td>1.000000</td>\n",
              "    </tr>\n",
              "    <tr>\n",
              "      <th>2</th>\n",
              "      <td>2</td>\n",
              "      <td>Perdido</td>\n",
              "      <td>Cherry Pink And Apple Blossom White</td>\n",
              "      <td>0.875840</td>\n",
              "      <td>0.875840</td>\n",
              "      <td>1.000000</td>\n",
              "    </tr>\n",
              "    <tr>\n",
              "      <th>3</th>\n",
              "      <td>3</td>\n",
              "      <td>Perdido</td>\n",
              "      <td>Theme, The</td>\n",
              "      <td>0.986977</td>\n",
              "      <td>0.986977</td>\n",
              "      <td>1.000000</td>\n",
              "    </tr>\n",
              "    <tr>\n",
              "      <th>4</th>\n",
              "      <td>4</td>\n",
              "      <td>Perdido</td>\n",
              "      <td>Same Old Love, The</td>\n",
              "      <td>0.875464</td>\n",
              "      <td>0.875840</td>\n",
              "      <td>0.999571</td>\n",
              "    </tr>\n",
              "    <tr>\n",
              "      <th>5</th>\n",
              "      <td>5</td>\n",
              "      <td>Perdido</td>\n",
              "      <td>Unrequited</td>\n",
              "      <td>0.962538</td>\n",
              "      <td>0.968826</td>\n",
              "      <td>0.995857</td>\n",
              "    </tr>\n",
              "    <tr>\n",
              "      <th>6</th>\n",
              "      <td>6</td>\n",
              "      <td>Perdido</td>\n",
              "      <td>Thriving From A Riff</td>\n",
              "      <td>0.981888</td>\n",
              "      <td>0.986977</td>\n",
              "      <td>0.994844</td>\n",
              "    </tr>\n",
              "    <tr>\n",
              "      <th>7</th>\n",
              "      <td>7</td>\n",
              "      <td>Perdido</td>\n",
              "      <td>I Got Rhythm</td>\n",
              "      <td>0.980120</td>\n",
              "      <td>0.986977</td>\n",
              "      <td>0.993052</td>\n",
              "    </tr>\n",
              "    <tr>\n",
              "      <th>8</th>\n",
              "      <td>8</td>\n",
              "      <td>Perdido</td>\n",
              "      <td>Come Back To Me</td>\n",
              "      <td>0.959785</td>\n",
              "      <td>0.968826</td>\n",
              "      <td>0.990668</td>\n",
              "    </tr>\n",
              "    <tr>\n",
              "      <th>9</th>\n",
              "      <td>9</td>\n",
              "      <td>Perdido</td>\n",
              "      <td>Quiet Now</td>\n",
              "      <td>0.955365</td>\n",
              "      <td>0.968826</td>\n",
              "      <td>0.989608</td>\n",
              "    </tr>\n",
              "    <tr>\n",
              "      <th>10</th>\n",
              "      <td>10</td>\n",
              "      <td>Perdido</td>\n",
              "      <td>Flintstones</td>\n",
              "      <td>0.975768</td>\n",
              "      <td>0.986977</td>\n",
              "      <td>0.988643</td>\n",
              "    </tr>\n",
              "    <tr>\n",
              "      <th>11</th>\n",
              "      <td>11</td>\n",
              "      <td>Perdido</td>\n",
              "      <td>Ain't That A Grand And Glorious Feeling</td>\n",
              "      <td>0.975716</td>\n",
              "      <td>0.986977</td>\n",
              "      <td>0.988590</td>\n",
              "    </tr>\n",
              "    <tr>\n",
              "      <th>12</th>\n",
              "      <td>12</td>\n",
              "      <td>Perdido</td>\n",
              "      <td>All Of Me</td>\n",
              "      <td>0.975694</td>\n",
              "      <td>0.986977</td>\n",
              "      <td>0.988568</td>\n",
              "    </tr>\n",
              "    <tr>\n",
              "      <th>13</th>\n",
              "      <td>13</td>\n",
              "      <td>Perdido</td>\n",
              "      <td>Scrapple From The Apple</td>\n",
              "      <td>0.975287</td>\n",
              "      <td>0.986977</td>\n",
              "      <td>0.988155</td>\n",
              "    </tr>\n",
              "    <tr>\n",
              "      <th>14</th>\n",
              "      <td>14</td>\n",
              "      <td>Perdido</td>\n",
              "      <td>I Wish I Knew</td>\n",
              "      <td>0.956986</td>\n",
              "      <td>0.968826</td>\n",
              "      <td>0.987779</td>\n",
              "    </tr>\n",
              "    <tr>\n",
              "      <th>15</th>\n",
              "      <td>15</td>\n",
              "      <td>Perdido</td>\n",
              "      <td>C.T.A.</td>\n",
              "      <td>0.974807</td>\n",
              "      <td>0.986977</td>\n",
              "      <td>0.987669</td>\n",
              "    </tr>\n",
              "    <tr>\n",
              "      <th>16</th>\n",
              "      <td>16</td>\n",
              "      <td>Perdido</td>\n",
              "      <td>Better Days Ahead</td>\n",
              "      <td>0.953305</td>\n",
              "      <td>0.968826</td>\n",
              "      <td>0.987474</td>\n",
              "    </tr>\n",
              "    <tr>\n",
              "      <th>17</th>\n",
              "      <td>17</td>\n",
              "      <td>Perdido</td>\n",
              "      <td>Two Not One</td>\n",
              "      <td>0.974312</td>\n",
              "      <td>0.986977</td>\n",
              "      <td>0.987167</td>\n",
              "    </tr>\n",
              "    <tr>\n",
              "      <th>18</th>\n",
              "      <td>18</td>\n",
              "      <td>Perdido</td>\n",
              "      <td>Somewhere</td>\n",
              "      <td>0.952383</td>\n",
              "      <td>0.986977</td>\n",
              "      <td>0.986519</td>\n",
              "    </tr>\n",
              "    <tr>\n",
              "      <th>19</th>\n",
              "      <td>19</td>\n",
              "      <td>Perdido</td>\n",
              "      <td>Infant Eyes</td>\n",
              "      <td>0.952058</td>\n",
              "      <td>0.968826</td>\n",
              "      <td>0.986181</td>\n",
              "    </tr>\n",
              "    <tr>\n",
              "      <th>20</th>\n",
              "      <td>20</td>\n",
              "      <td>Perdido</td>\n",
              "      <td>I Love Being Here With You</td>\n",
              "      <td>0.973216</td>\n",
              "      <td>0.986977</td>\n",
              "      <td>0.986057</td>\n",
              "    </tr>\n",
              "    <tr>\n",
              "      <th>21</th>\n",
              "      <td>21</td>\n",
              "      <td>Perdido</td>\n",
              "      <td>Cottontail</td>\n",
              "      <td>0.973167</td>\n",
              "      <td>0.986977</td>\n",
              "      <td>0.986007</td>\n",
              "    </tr>\n",
              "    <tr>\n",
              "      <th>22</th>\n",
              "      <td>22</td>\n",
              "      <td>Perdido</td>\n",
              "      <td>Lady is a Tramp, The</td>\n",
              "      <td>0.955254</td>\n",
              "      <td>0.968826</td>\n",
              "      <td>0.985992</td>\n",
              "    </tr>\n",
              "    <tr>\n",
              "      <th>23</th>\n",
              "      <td>23</td>\n",
              "      <td>Perdido</td>\n",
              "      <td>Say the Brother's Name</td>\n",
              "      <td>0.950492</td>\n",
              "      <td>0.968826</td>\n",
              "      <td>0.984560</td>\n",
              "    </tr>\n",
              "    <tr>\n",
              "      <th>24</th>\n",
              "      <td>24</td>\n",
              "      <td>Perdido</td>\n",
              "      <td>Ornithology</td>\n",
              "      <td>0.949820</td>\n",
              "      <td>0.968826</td>\n",
              "      <td>0.983864</td>\n",
              "    </tr>\n",
              "    <tr>\n",
              "      <th>25</th>\n",
              "      <td>25</td>\n",
              "      <td>Perdido</td>\n",
              "      <td>Unity Village</td>\n",
              "      <td>0.949256</td>\n",
              "      <td>0.965398</td>\n",
              "      <td>0.983280</td>\n",
              "    </tr>\n",
              "    <tr>\n",
              "      <th>26</th>\n",
              "      <td>26</td>\n",
              "      <td>Perdido</td>\n",
              "      <td>How High The Moon</td>\n",
              "      <td>0.948770</td>\n",
              "      <td>0.965398</td>\n",
              "      <td>0.982776</td>\n",
              "    </tr>\n",
              "    <tr>\n",
              "      <th>27</th>\n",
              "      <td>27</td>\n",
              "      <td>Perdido</td>\n",
              "      <td>Sorcerer, The</td>\n",
              "      <td>0.948449</td>\n",
              "      <td>0.965398</td>\n",
              "      <td>0.982443</td>\n",
              "    </tr>\n",
              "    <tr>\n",
              "      <th>28</th>\n",
              "      <td>28</td>\n",
              "      <td>Perdido</td>\n",
              "      <td>Dolphin, The</td>\n",
              "      <td>0.948368</td>\n",
              "      <td>0.986977</td>\n",
              "      <td>0.982360</td>\n",
              "    </tr>\n",
              "    <tr>\n",
              "      <th>29</th>\n",
              "      <td>29</td>\n",
              "      <td>Perdido</td>\n",
              "      <td>Arise, Her Eyes</td>\n",
              "      <td>0.948134</td>\n",
              "      <td>0.968826</td>\n",
              "      <td>0.982117</td>\n",
              "    </tr>\n",
              "    <tr>\n",
              "      <th>30</th>\n",
              "      <td>30</td>\n",
              "      <td>Perdido</td>\n",
              "      <td>Pee Wee</td>\n",
              "      <td>0.947303</td>\n",
              "      <td>0.968826</td>\n",
              "      <td>0.981256</td>\n",
              "    </tr>\n",
              "    <tr>\n",
              "      <th>31</th>\n",
              "      <td>31</td>\n",
              "      <td>Perdido</td>\n",
              "      <td>September Song</td>\n",
              "      <td>0.947297</td>\n",
              "      <td>0.968826</td>\n",
              "      <td>0.981250</td>\n",
              "    </tr>\n",
              "    <tr>\n",
              "      <th>32</th>\n",
              "      <td>32</td>\n",
              "      <td>Perdido</td>\n",
              "      <td>Zoltan</td>\n",
              "      <td>0.947140</td>\n",
              "      <td>0.968826</td>\n",
              "      <td>0.981087</td>\n",
              "    </tr>\n",
              "    <tr>\n",
              "      <th>33</th>\n",
              "      <td>33</td>\n",
              "      <td>Perdido</td>\n",
              "      <td>Travels</td>\n",
              "      <td>0.946628</td>\n",
              "      <td>0.968826</td>\n",
              "      <td>0.980557</td>\n",
              "    </tr>\n",
              "    <tr>\n",
              "      <th>34</th>\n",
              "      <td>34</td>\n",
              "      <td>Perdido</td>\n",
              "      <td>Let's Get Lost</td>\n",
              "      <td>0.949815</td>\n",
              "      <td>0.968826</td>\n",
              "      <td>0.980378</td>\n",
              "    </tr>\n",
              "    <tr>\n",
              "      <th>35</th>\n",
              "      <td>35</td>\n",
              "      <td>Perdido</td>\n",
              "      <td>Re Person I Knew</td>\n",
              "      <td>0.946063</td>\n",
              "      <td>0.965398</td>\n",
              "      <td>0.979972</td>\n",
              "    </tr>\n",
              "    <tr>\n",
              "      <th>36</th>\n",
              "      <td>36</td>\n",
              "      <td>Perdido</td>\n",
              "      <td>Jaco</td>\n",
              "      <td>0.949140</td>\n",
              "      <td>0.968826</td>\n",
              "      <td>0.979681</td>\n",
              "    </tr>\n",
              "    <tr>\n",
              "      <th>37</th>\n",
              "      <td>37</td>\n",
              "      <td>Perdido</td>\n",
              "      <td>Oleo</td>\n",
              "      <td>0.966678</td>\n",
              "      <td>0.986977</td>\n",
              "      <td>0.979433</td>\n",
              "    </tr>\n",
              "    <tr>\n",
              "      <th>38</th>\n",
              "      <td>38</td>\n",
              "      <td>Perdido</td>\n",
              "      <td>Aisha</td>\n",
              "      <td>0.945518</td>\n",
              "      <td>0.968826</td>\n",
              "      <td>0.979407</td>\n",
              "    </tr>\n",
              "    <tr>\n",
              "      <th>39</th>\n",
              "      <td>39</td>\n",
              "      <td>Perdido</td>\n",
              "      <td>No Moe</td>\n",
              "      <td>0.966576</td>\n",
              "      <td>0.986977</td>\n",
              "      <td>0.979330</td>\n",
              "    </tr>\n",
              "    <tr>\n",
              "      <th>40</th>\n",
              "      <td>40</td>\n",
              "      <td>Perdido</td>\n",
              "      <td>Dolphin Dance</td>\n",
              "      <td>0.945332</td>\n",
              "      <td>0.965398</td>\n",
              "      <td>0.979214</td>\n",
              "    </tr>\n",
              "    <tr>\n",
              "      <th>41</th>\n",
              "      <td>41</td>\n",
              "      <td>Perdido</td>\n",
              "      <td>Sunday</td>\n",
              "      <td>0.966454</td>\n",
              "      <td>0.986977</td>\n",
              "      <td>0.979206</td>\n",
              "    </tr>\n",
              "    <tr>\n",
              "      <th>42</th>\n",
              "      <td>42</td>\n",
              "      <td>Perdido</td>\n",
              "      <td>Passport</td>\n",
              "      <td>0.965931</td>\n",
              "      <td>0.986977</td>\n",
              "      <td>0.978676</td>\n",
              "    </tr>\n",
              "    <tr>\n",
              "      <th>43</th>\n",
              "      <td>43</td>\n",
              "      <td>Perdido</td>\n",
              "      <td>Easy To Love</td>\n",
              "      <td>0.944600</td>\n",
              "      <td>0.965398</td>\n",
              "      <td>0.978456</td>\n",
              "    </tr>\n",
              "    <tr>\n",
              "      <th>44</th>\n",
              "      <td>44</td>\n",
              "      <td>Perdido</td>\n",
              "      <td>Bags and Trane</td>\n",
              "      <td>0.944488</td>\n",
              "      <td>0.968826</td>\n",
              "      <td>0.978340</td>\n",
              "    </tr>\n",
              "    <tr>\n",
              "      <th>45</th>\n",
              "      <td>45</td>\n",
              "      <td>Perdido</td>\n",
              "      <td>Django</td>\n",
              "      <td>0.947753</td>\n",
              "      <td>0.968826</td>\n",
              "      <td>0.978248</td>\n",
              "    </tr>\n",
              "    <tr>\n",
              "      <th>46</th>\n",
              "      <td>46</td>\n",
              "      <td>Perdido</td>\n",
              "      <td>Dexterity</td>\n",
              "      <td>0.961715</td>\n",
              "      <td>0.986977</td>\n",
              "      <td>0.974404</td>\n",
              "    </tr>\n",
              "    <tr>\n",
              "      <th>47</th>\n",
              "      <td>47</td>\n",
              "      <td>Perdido</td>\n",
              "      <td>Onmo</td>\n",
              "      <td>0.942237</td>\n",
              "      <td>0.968826</td>\n",
              "      <td>0.972556</td>\n",
              "    </tr>\n",
              "    <tr>\n",
              "      <th>48</th>\n",
              "      <td>48</td>\n",
              "      <td>Perdido</td>\n",
              "      <td>Four In One</td>\n",
              "      <td>0.851691</td>\n",
              "      <td>0.875840</td>\n",
              "      <td>0.972428</td>\n",
              "    </tr>\n",
              "    <tr>\n",
              "      <th>49</th>\n",
              "      <td>49</td>\n",
              "      <td>Perdido</td>\n",
              "      <td>Anthropology</td>\n",
              "      <td>0.959235</td>\n",
              "      <td>0.986977</td>\n",
              "      <td>0.971891</td>\n",
              "    </tr>\n",
              "  </tbody>\n",
              "</table>\n",
              "</div>"
            ],
            "text/plain": [
              "    index reference  ...       max  score_div_max\n",
              "0       0   Perdido  ...  0.968826       1.000000\n",
              "1       1   Perdido  ...  0.968826       1.000000\n",
              "2       2   Perdido  ...  0.875840       1.000000\n",
              "3       3   Perdido  ...  0.986977       1.000000\n",
              "4       4   Perdido  ...  0.875840       0.999571\n",
              "5       5   Perdido  ...  0.968826       0.995857\n",
              "6       6   Perdido  ...  0.986977       0.994844\n",
              "7       7   Perdido  ...  0.986977       0.993052\n",
              "8       8   Perdido  ...  0.968826       0.990668\n",
              "9       9   Perdido  ...  0.968826       0.989608\n",
              "10     10   Perdido  ...  0.986977       0.988643\n",
              "11     11   Perdido  ...  0.986977       0.988590\n",
              "12     12   Perdido  ...  0.986977       0.988568\n",
              "13     13   Perdido  ...  0.986977       0.988155\n",
              "14     14   Perdido  ...  0.968826       0.987779\n",
              "15     15   Perdido  ...  0.986977       0.987669\n",
              "16     16   Perdido  ...  0.968826       0.987474\n",
              "17     17   Perdido  ...  0.986977       0.987167\n",
              "18     18   Perdido  ...  0.986977       0.986519\n",
              "19     19   Perdido  ...  0.968826       0.986181\n",
              "20     20   Perdido  ...  0.986977       0.986057\n",
              "21     21   Perdido  ...  0.986977       0.986007\n",
              "22     22   Perdido  ...  0.968826       0.985992\n",
              "23     23   Perdido  ...  0.968826       0.984560\n",
              "24     24   Perdido  ...  0.968826       0.983864\n",
              "25     25   Perdido  ...  0.965398       0.983280\n",
              "26     26   Perdido  ...  0.965398       0.982776\n",
              "27     27   Perdido  ...  0.965398       0.982443\n",
              "28     28   Perdido  ...  0.986977       0.982360\n",
              "29     29   Perdido  ...  0.968826       0.982117\n",
              "30     30   Perdido  ...  0.968826       0.981256\n",
              "31     31   Perdido  ...  0.968826       0.981250\n",
              "32     32   Perdido  ...  0.968826       0.981087\n",
              "33     33   Perdido  ...  0.968826       0.980557\n",
              "34     34   Perdido  ...  0.968826       0.980378\n",
              "35     35   Perdido  ...  0.965398       0.979972\n",
              "36     36   Perdido  ...  0.968826       0.979681\n",
              "37     37   Perdido  ...  0.986977       0.979433\n",
              "38     38   Perdido  ...  0.968826       0.979407\n",
              "39     39   Perdido  ...  0.986977       0.979330\n",
              "40     40   Perdido  ...  0.965398       0.979214\n",
              "41     41   Perdido  ...  0.986977       0.979206\n",
              "42     42   Perdido  ...  0.986977       0.978676\n",
              "43     43   Perdido  ...  0.965398       0.978456\n",
              "44     44   Perdido  ...  0.968826       0.978340\n",
              "45     45   Perdido  ...  0.968826       0.978248\n",
              "46     46   Perdido  ...  0.986977       0.974404\n",
              "47     47   Perdido  ...  0.968826       0.972556\n",
              "48     48   Perdido  ...  0.875840       0.972428\n",
              "49     49   Perdido  ...  0.986977       0.971891\n",
              "\n",
              "[50 rows x 6 columns]"
            ]
          },
          "metadata": {},
          "execution_count": 79
        }
      ]
    },
    {
      "cell_type": "code",
      "metadata": {
        "id": "hLFaFo62XlMS",
        "colab": {
          "base_uri": "https://localhost:8080/"
        },
        "outputId": "f070dada-6d05-4695-f6ca-66828a462926"
      },
      "source": [
        "dd = pd.DataFrame(columns = recommender_results_cols)\n",
        "\n",
        "for tune in tunes_eval_list:\n",
        "  result, details = recommend_tune(df_sim, tune)\n",
        "  dd['id'] = result['index']\n",
        "  dd['reference'] = tune\n",
        "  dd['method'] = 'doc2vec'\n",
        "  dd['similar'] = result['similar_title']\n",
        "  dd['score_div_max'] = result['score_div_max']\n",
        "  dd['score'] = result['score']\n",
        "\n",
        "recommender_results = recommender_results.append(dd)\n",
        "len(recommender_results)"
      ],
      "execution_count": 80,
      "outputs": [
        {
          "output_type": "execute_result",
          "data": {
            "text/plain": [
              "188"
            ]
          },
          "metadata": {},
          "execution_count": 80
        }
      ]
    },
    {
      "cell_type": "markdown",
      "metadata": {
        "id": "ryEvGZqYDsMb"
      },
      "source": [
        "#### Document Similarity\n"
      ]
    },
    {
      "cell_type": "markdown",
      "metadata": {
        "id": "o-eOM9DiFdAt"
      },
      "source": [
        "The TitleId is tagged with the prefix `title_id`, so that it can be distinguished from the sectionid tags, which are numeric."
      ]
    },
    {
      "cell_type": "code",
      "metadata": {
        "colab": {
          "base_uri": "https://localhost:8080/"
        },
        "id": "KRd6qAdY5Z4g",
        "outputId": "2bf36d96-8d76-4132-c873-02cf766ae50f"
      },
      "source": [
        "tunes_eval_list"
      ],
      "execution_count": 81,
      "outputs": [
        {
          "output_type": "execute_result",
          "data": {
            "text/plain": [
              "[\"After You've Gone\",\n",
              " \"All God's Chillun Got Rhythm\",\n",
              " 'All Of Me',\n",
              " 'Blood Count',\n",
              " 'Blue Moon',\n",
              " 'But Beautiful',\n",
              " 'Bye Bye Blackbird',\n",
              " 'Call Me Irresponsible',\n",
              " 'Corcovado',\n",
              " 'Dinah',\n",
              " 'East Of The Sun',\n",
              " 'Footprints',\n",
              " 'Giant Steps',\n",
              " 'Honeysuckle Rose',\n",
              " 'I Got Rhythm',\n",
              " 'Misty',\n",
              " 'Naima',\n",
              " 'Old Fashioned Love',\n",
              " 'Perdido',\n",
              " \"Rockin' Chair\",\n",
              " 'Sophisticated Lady',\n",
              " 'Sweet Sue, Just You',\n",
              " 'These Foolish Things',\n",
              " \"We'll Be Together Again\"]"
            ]
          },
          "metadata": {},
          "execution_count": 81
        }
      ]
    },
    {
      "cell_type": "code",
      "metadata": {
        "colab": {
          "base_uri": "https://localhost:8080/"
        },
        "id": "sHWTJtJ_HyoJ",
        "outputId": "8f08e2eb-3c7b-4947-b109-bc9b24fdcc4e"
      },
      "source": [
        "# convert titles to titleid; if multiple tunes with same title, takes the first one. \n",
        "titleid_eval = []\n",
        "for title in tunes_eval_list:\n",
        "  titleid_eval.append(titles.query(f'title == \"{title}\"').reset_index().loc[0,'tune_id'])\n",
        "titleid_eval"
      ],
      "execution_count": 82,
      "outputs": [
        {
          "output_type": "execute_result",
          "data": {
            "text/plain": [
              "[38,\n",
              " 57,\n",
              " 60,\n",
              " 149,\n",
              " 159,\n",
              " 199,\n",
              " 206,\n",
              " 213,\n",
              " 257,\n",
              " 308,\n",
              " 341,\n",
              " 392,\n",
              " 425,\n",
              " 472,\n",
              " 505,\n",
              " 807,\n",
              " 861,\n",
              " 1642,\n",
              " 951,\n",
              " 995,\n",
              " 1082,\n",
              " 1138,\n",
              " 1170,\n",
              " 1259]"
            ]
          },
          "metadata": {},
          "execution_count": 82
        }
      ]
    },
    {
      "cell_type": "code",
      "metadata": {
        "colab": {
          "base_uri": "https://localhost:8080/"
        },
        "id": "XKO9wonAHsch",
        "outputId": "ef933e71-b301-419b-e2f2-50c5d4df58ad"
      },
      "source": [
        "for titleid in titleid_eval:\n",
        "  print()\n",
        "  print(titleid_to_title[titleid])\n",
        "  sims = model.dv.similar_by_key(f'titleid_{titleid}', topn=30)\n",
        "  for key, value in sims:\n",
        "    if type(key) == str:  # only display document similarities, skip all section similarities\n",
        "      print(f\"{value:.3f} {titleid_to_title[int(key.replace('titleid_', ''))]}\")\n"
      ],
      "execution_count": 83,
      "outputs": [
        {
          "output_type": "stream",
          "name": "stdout",
          "text": [
            "\n",
            "After You've Gone\n",
            "0.907 You Broke Your Promise\n",
            "0.892 Ko Ko\n",
            "0.889 I Get A Kick Out Of You\n",
            "0.888 Cherokee\n",
            "0.888 Someday My Prince Will Come\n",
            "0.888 Diverse\n",
            "0.887 I Won't Dance\n",
            "0.887 Deed I Do\n",
            "0.887 Sometimes I'm Happy\n",
            "0.885 Old Cape Cod\n",
            "0.884 I Can't Give You Anything But Love\n",
            "0.882 Bohemia After Dark\n",
            "\n",
            "All God's Chillun Got Rhythm\n",
            "0.926 Rosetta\n",
            "0.919 Rosetta\n",
            "0.910 Too Young To Go Steady\n",
            "0.909 Sister Sadie\n",
            "0.903 Sonnymoon For Two\n",
            "0.899 If You Ever Should Leave\n",
            "0.898 Minor Mishap\n",
            "0.894 Emily\n",
            "\n",
            "All Of Me\n",
            "0.949 Sonnymoon For Two\n",
            "0.940 Trane’s Blues\n",
            "0.935 Played Twice\n",
            "0.935 Core, The\n",
            "0.935 Rosetta\n",
            "0.933 Chameleon\n",
            "0.932 Things Ain't What They Used To Be\n",
            "0.932 Bags' Groove\n",
            "\n",
            "Blood Count\n",
            "0.887 Little Sunflower\n",
            "0.884 Dolores\n",
            "0.882 Played Twice\n",
            "0.872 You Stepped Out Of A Dream\n",
            "0.865 Pensativa\n",
            "0.864 Re Person I Knew\n",
            "0.862 Inner Urge\n",
            "0.862 Butterfly Dreams\n",
            "\n",
            "Blue Moon\n",
            "0.895 Time After Time\n",
            "0.876 Blue Room, The\n",
            "0.868 Love Me Or Leave Me\n",
            "0.865 I Hear A Rhapsody\n",
            "0.859 Polkadots And Moonbeams\n",
            "0.858 Way You Look Tonight, The\n",
            "0.853 It's A Lovely Day Today\n",
            "0.847 All God's Chillun Got Rhythm\n",
            "0.844 Emily\n",
            "0.844 Waltz For Debby\n",
            "\n",
            "But Beautiful\n",
            "0.869 Easy To Love\n",
            "0.862 I Get A Kick Out Of You\n",
            "0.862 You're My Thrill\n",
            "0.842 You Can Depend On Me\n",
            "0.830 I'm Alone Because I Love You\n",
            "0.826 Touch Of Your Lips, The\n",
            "0.825 When Lights Are Low\n",
            "0.825 Soon\n",
            "0.824 Coral\n",
            "\n",
            "Bye Bye Blackbird\n",
            "0.871 Somebody Loves Me\n",
            "0.868 Bill Bailey\n",
            "0.864 Sheik Of Araby\n",
            "0.836 Out Of Nowhere\n",
            "0.834 Silver's Serenade\n",
            "0.831 Out Of Nowhere\n",
            "0.830 Cherry Pink And Apple Blossom White\n",
            "0.829 Smile\n",
            "0.826 It's Been A Long Long Time\n",
            "\n",
            "Call Me Irresponsible\n",
            "0.866 You Took Advantage Of Me\n",
            "0.829 Bei Mir Bist Du Schon (Root Hog Or Die)\n",
            "0.822 Sister Sadie\n",
            "0.821 Birth Of The Blues, The\n",
            "0.814 I Wonder Where My Baby Is Tonight\n",
            "0.812 Petite Fleur\n",
            "\n",
            "Corcovado\n",
            "0.912 A Sound For Sore Ears\n",
            "0.893 Nardis\n",
            "0.888 Lament\n",
            "0.884 Played Twice\n",
            "0.880 Chucho\n",
            "0.879 I Can't Give You Anything But Love\n",
            "0.878 Lyresto\n",
            "0.877 A Lovely Way To Spend An Evening\n",
            "0.873 Good Bait\n",
            "0.873 Dindi\n",
            "0.872 Mountain Greenery\n",
            "\n",
            "Dinah\n",
            "0.877 I've Got My Fingers Crossed\n",
            "0.870 Way You Look Tonight, The\n",
            "0.868 Working Man Blues\n",
            "0.865 My Heart Stood Still\n",
            "0.865 It's A Lovely Day Today\n",
            "0.864 Why Do I Love You\n",
            "0.859 Once In A While (Ballad)\n",
            "0.848 Take Five\n",
            "0.840 All The Things You Are\n",
            "0.839 Girl Of My Dreams\n",
            "0.839 Don't Sweetheart Me\n",
            "\n",
            "East Of The Sun\n",
            "0.953 Trane’s Blues\n",
            "0.945 Blues In The Closet\n",
            "0.939 It's You Or No One\n",
            "0.938 You Broke Your Promise\n",
            "0.936 You Can Depend On Me\n",
            "\n",
            "Footprints\n",
            "0.971 Phase Dance\n",
            "0.946 Nothing Personal\n",
            "0.945 Little Niles\n",
            "0.939 Pinocchio\n",
            "0.936 Nutville\n",
            "0.924 Shutterbug\n",
            "\n",
            "Giant Steps\n",
            "0.914 Baubles, Bangles and Beads\n",
            "0.912 City Of A Million Dreams (Years)\n",
            "0.905 Minnie The Moocher\n",
            "0.901 Bags and Trane\n",
            "0.901 Chameleon\n",
            "0.898 Swinging At The Haven\n",
            "0.897 Mr. P.C.\n",
            "0.893 Friday The 13th\n",
            "\n",
            "Honeysuckle Rose\n",
            "0.968 Honeysuckle Rose\n",
            "0.908 Sorcerer, The\n",
            "0.907 Perdido\n",
            "0.906 Pee Wee\n",
            "0.902 Arise, Her Eyes\n",
            "0.902 Creole Love Call\n",
            "\n",
            "I Got Rhythm\n",
            "0.987 I Got Rhythm\n",
            "0.928 C-Jam Blues\n",
            "0.925 Blue Sphere\n",
            "0.924 Things Ain't What They Used To Be\n",
            "0.923 Teach Me Tonight\n",
            "0.918 Sonnymoon For Two\n",
            "0.916 Trane’s Blues\n",
            "0.912 Misterioso\n",
            "0.912 Minnie The Moocher\n",
            "0.908 St. James Infirmary\n",
            "0.907 Mercy Mercy Mercy\n",
            "\n",
            "Misty\n",
            "0.864 Why Do I Love You\n",
            "0.862 A Certain Smile\n",
            "0.861 Too Young To Go Steady\n",
            "0.861 Soon\n",
            "0.853 Try A Little Tenderness\n",
            "0.852 It Could Happen To You\n",
            "0.849 Bring Me Sunshine\n",
            "0.847 I've Never Been In Love Before\n",
            "0.847 Trane’s Blues\n",
            "0.845 Party's Over, The\n",
            "0.844 You Broke Your Promise\n",
            "0.843 I Surrender Dear\n",
            "0.841 Who's Sorry Now\n",
            "0.841 Rosetta\n",
            "0.841 Way You Look Tonight, The\n",
            "0.841 I Get A Kick Out Of You\n",
            "0.841 Long Ago And Far Away\n",
            "0.840 My Shining Hour\n",
            "0.839 Things We Did Last Summer, The\n",
            "\n",
            "Naima\n",
            "0.933 Pee Wee\n",
            "0.932 Say the Brother's Name\n",
            "0.927 Darkness On The Delta\n",
            "0.909 Out Of The Gallion\n",
            "0.898 Re Person I Knew\n",
            "0.897 Come Back To Me\n",
            "0.897 Summer Band Camp\n",
            "\n",
            "Old Fashioned Love\n",
            "0.873 Gypsy Love Song\n",
            "0.868 Louisiana Fairytale\n",
            "0.863 Rent Party Blues\n",
            "0.860 I Got Rhythm\n",
            "0.860 My Wild Irish Rose\n",
            "0.858 52nd Street Theme\n",
            "0.856 Working Man Blues\n",
            "0.852 She's Funny That Way\n",
            "0.851 I Got Rhythm\n",
            "0.843 Ain't She Sweet\n",
            "0.842 Wooden Heart\n",
            "0.842 I'm Putting All My Eggs In One Basket\n",
            "0.837 Dixie\n",
            "\n",
            "Perdido\n",
            "0.969 Sorcerer, The\n",
            "0.965 Unrequited\n",
            "0.963 Arise, Her Eyes\n",
            "0.963 Gloria's Step\n",
            "0.962 Woody'n You\n",
            "\n",
            "Rockin' Chair\n",
            "0.881 Rockin' Chair\n",
            "0.853 Stella By Starlight\n",
            "0.837 There Will Never Be Another You\n",
            "0.820 I'm Getting Sentimental Over You\n",
            "0.815 Thou Swell\n",
            "0.811 Good Life, The\n",
            "0.810 Rosetta\n",
            "0.808 Too Young To Go Steady\n",
            "0.807 Ain't She Sweet\n",
            "0.806 Lulu's Back In Town\n",
            "0.805 Balance, The\n",
            "\n",
            "Sophisticated Lady\n",
            "0.867 Easy To Love\n",
            "0.867 Touch Of Your Lips, The\n",
            "0.853 Jeepers Creepers\n",
            "0.853 Tea For Two\n",
            "0.851 Don't Be That Way\n",
            "0.851 Lazy Afternoon\n",
            "0.849 That's Life I Guess\n",
            "0.849 Minnie The Moocher\n",
            "0.843 Watch What Happens\n",
            "0.841 Tenderly\n",
            "0.841 Someday You'll Be Sorry\n",
            "\n",
            "Sweet Sue, Just You\n",
            "0.867 Seven Come Eleven\n",
            "0.859 Sweet Sue\n",
            "0.857 Zoltan\n",
            "0.857 Marie\n",
            "0.851 Ting A Ling (Waltz Of The Bells)\n",
            "0.844 Don't Give Up The Ship\n",
            "0.839 Jackie-ing\n",
            "\n",
            "These Foolish Things\n",
            "0.864 I Got It Bad\n",
            "0.841 Progression\n",
            "0.836 Kids Are Pretty People\n",
            "0.834 Waltz For Debby\n",
            "0.832 Heart And Soul\n",
            "0.826 New Orleans\n",
            "0.824 Ain't She Sweet\n",
            "0.823 All Too Soon\n",
            "0.812 Put On A Happy Face\n",
            "0.811 Blue Room, The\n",
            "0.810 Good Bait\n",
            "\n",
            "We'll Be Together Again\n",
            "0.867 Daahoud\n",
            "0.855 Satellite\n",
            "0.844 Dolphin, The\n",
            "0.831 Ornithology\n",
            "0.823 Days And Nights Waiting\n",
            "0.820 Con Alma\n",
            "0.819 Moontrane, The\n"
          ]
        }
      ]
    },
    {
      "cell_type": "markdown",
      "metadata": {
        "id": "XmDZT5t7gjgV"
      },
      "source": [
        "# Venn diagrams for Results"
      ]
    },
    {
      "cell_type": "code",
      "metadata": {
        "id": "1YJ5FLt-2WS4"
      },
      "source": [
        "import matplotlib.pyplot as plt\n",
        "from matplotlib_venn import venn3"
      ],
      "execution_count": 84,
      "outputs": []
    },
    {
      "cell_type": "code",
      "metadata": {
        "id": "U6WrsBcc00ar",
        "colab": {
          "base_uri": "https://localhost:8080/",
          "height": 1000
        },
        "outputId": "d127739f-1ab6-4716-bf6d-c13470b04845"
      },
      "source": [
        "for tune in tunes_eval_list:\n",
        "  df, details = recommend_tune(df_tfidf, tune)\n",
        "  tfidf_tunes = list(df.head(30).loc[:,'similar_title'])\n",
        "\n",
        "  df, details = recommend_tune(df_lsi, tune)\n",
        "  lsi_tunes = list(df.head(30).loc[:,'similar_title'])\n",
        "\n",
        "  df, details = recommend_tune(df_word2vec, tune)\n",
        "  word2vec_tunes = list(df.head(30).loc[:,'similar_title'])\n",
        "\n",
        "  set_tfidf = set(tfidf_tunes)\n",
        "  set_lsi = set(lsi_tunes)\n",
        "  set_word2vec = set(word2vec_tunes)\n",
        "\n",
        "  venn3([set_tfidf, set_lsi, set_word2vec], \n",
        "        set_labels=('TF-IDF', 'LSI', 'Doc2Vec'),\n",
        "        )\n",
        "  plt.title(f\"{tune}\")\n",
        "  plt.savefig('plot.png')\n",
        "  wandb.log({\"venn_methods\": wandb.Image('plot.png')})\n",
        "  plt.show()"
      ],
      "execution_count": 85,
      "outputs": [
        {
          "output_type": "display_data",
          "data": {
            "image/png": "[encoded data removed]",
            "text/plain": [
              "<Figure size 432x288 with 1 Axes>"
            ]
          },
          "metadata": {}
        },
        {
          "output_type": "display_data",
          "data": {
            "image/png": "[encoded data removed]",
            "text/plain": [
              "<Figure size 432x288 with 1 Axes>"
            ]
          },
          "metadata": {}
        },
        {
          "output_type": "display_data",
          "data": {
            "image/png": "[encoded data removed]",
            "text/plain": [
              "<Figure size 432x288 with 1 Axes>"
            ]
          },
          "metadata": {}
        },
        {
          "output_type": "display_data",
          "data": {
            "image/png": "[encoded data removed]",
            "text/plain": [
              "<Figure size 432x288 with 1 Axes>"
            ]
          },
          "metadata": {}
        },
        {
          "output_type": "display_data",
          "data": {
            "image/png": "[encoded data removed]",
            "text/plain": [
              "<Figure size 432x288 with 1 Axes>"
            ]
          },
          "metadata": {}
        },
        {
          "output_type": "display_data",
          "data": {
            "image/png": "[encoded data removed]",
            "text/plain": [
              "<Figure size 432x288 with 1 Axes>"
            ]
          },
          "metadata": {}
        },
        {
          "output_type": "display_data",
          "data": {
            "image/png": "[encoded data removed]",
            "text/plain": [
              "<Figure size 432x288 with 1 Axes>"
            ]
          },
          "metadata": {}
        },
        {
          "output_type": "display_data",
          "data": {
            "image/png": "[encoded data removed]",
            "text/plain": [
              "<Figure size 432x288 with 1 Axes>"
            ]
          },
          "metadata": {}
        },
        {
          "output_type": "display_data",
          "data": {
            "image/png": "[encoded data removed]",
            "text/plain": [
              "<Figure size 432x288 with 1 Axes>"
            ]
          },
          "metadata": {}
        },
        {
          "output_type": "display_data",
          "data": {
            "image/png": "[encoded data removed]",
            "text/plain": [
              "<Figure size 432x288 with 1 Axes>"
            ]
          },
          "metadata": {}
        },
        {
          "output_type": "display_data",
          "data": {
            "image/png": "[encoded data removed]",
            "text/plain": [
              "<Figure size 432x288 with 1 Axes>"
            ]
          },
          "metadata": {}
        },
        {
          "output_type": "stream",
          "name": "stderr",
          "text": [
            "/usr/local/lib/python3.7/dist-packages/matplotlib_venn/_venn3.py:117: UserWarning:\n",
            "\n",
            "Bad circle positioning\n",
            "\n"
          ]
        },
        {
          "output_type": "display_data",
          "data": {
            "image/png": "[encoded data removed]",
            "text/plain": [
              "<Figure size 432x288 with 1 Axes>"
            ]
          },
          "metadata": {}
        },
        {
          "output_type": "display_data",
          "data": {
            "image/png": "[encoded data removed]",
            "text/plain": [
              "<Figure size 432x288 with 1 Axes>"
            ]
          },
          "metadata": {}
        },
        {
          "output_type": "display_data",
          "data": {
            "image/png": "[encoded data removed]",
            "text/plain": [
              "<Figure size 432x288 with 1 Axes>"
            ]
          },
          "metadata": {}
        },
        {
          "output_type": "display_data",
          "data": {
            "image/png": "[encoded data removed]",
            "text/plain": [
              "<Figure size 432x288 with 1 Axes>"
            ]
          },
          "metadata": {}
        },
        {
          "output_type": "display_data",
          "data": {
            "image/png": "[encoded data removed]",
            "text/plain": [
              "<Figure size 432x288 with 1 Axes>"
            ]
          },
          "metadata": {}
        },
        {
          "output_type": "display_data",
          "data": {
            "image/png": "[encoded data removed]",
            "text/plain": [
              "<Figure size 432x288 with 1 Axes>"
            ]
          },
          "metadata": {}
        },
        {
          "output_type": "display_data",
          "data": {
            "image/png": "[encoded data removed]",
            "text/plain": [
              "<Figure size 432x288 with 1 Axes>"
            ]
          },
          "metadata": {}
        },
        {
          "output_type": "display_data",
          "data": {
            "image/png": "[encoded data removed]",
            "text/plain": [
              "<Figure size 432x288 with 1 Axes>"
            ]
          },
          "metadata": {}
        },
        {
          "output_type": "display_data",
          "data": {
            "image/png": "[encoded data removed]",
            "text/plain": [
              "<Figure size 432x288 with 1 Axes>"
            ]
          },
          "metadata": {}
        },
        {
          "output_type": "display_data",
          "data": {
            "image/png": "[encoded data removed]",
            "text/plain": [
              "<Figure size 432x288 with 1 Axes>"
            ]
          },
          "metadata": {}
        },
        {
          "output_type": "display_data",
          "data": {
            "image/png": "[encoded data removed]",
            "text/plain": [
              "<Figure size 432x288 with 1 Axes>"
            ]
          },
          "metadata": {}
        },
        {
          "output_type": "display_data",
          "data": {
            "image/png": "[encoded data removed]",
            "text/plain": [
              "<Figure size 432x288 with 1 Axes>"
            ]
          },
          "metadata": {}
        },
        {
          "output_type": "display_data",
          "data": {
            "image/png": "[encoded data removed]",
            "text/plain": [
              "<Figure size 432x288 with 1 Axes>"
            ]
          },
          "metadata": {}
        }
      ]
    },
    {
      "cell_type": "markdown",
      "metadata": {
        "id": "RhOWHSEU0DQH"
      },
      "source": [
        "# W&B Logging and Finish"
      ]
    },
    {
      "cell_type": "code",
      "metadata": {
        "colab": {
          "base_uri": "https://localhost:8080/",
          "height": 424
        },
        "id": "9yt-cob54ZzN",
        "outputId": "2248de0b-78a9-4240-8b48-9e6b0e57d864"
      },
      "source": [
        "recommender_results"
      ],
      "execution_count": 86,
      "outputs": [
        {
          "output_type": "execute_result",
          "data": {
            "text/html": [
              "<div>\n",
              "<style scoped>\n",
              "    .dataframe tbody tr th:only-of-type {\n",
              "        vertical-align: middle;\n",
              "    }\n",
              "\n",
              "    .dataframe tbody tr th {\n",
              "        vertical-align: top;\n",
              "    }\n",
              "\n",
              "    .dataframe thead th {\n",
              "        text-align: right;\n",
              "    }\n",
              "</style>\n",
              "<table border=\"1\" class=\"dataframe\">\n",
              "  <thead>\n",
              "    <tr style=\"text-align: right;\">\n",
              "      <th></th>\n",
              "      <th>reference</th>\n",
              "      <th>id</th>\n",
              "      <th>method</th>\n",
              "      <th>similar</th>\n",
              "      <th>score_div_max</th>\n",
              "      <th>score</th>\n",
              "    </tr>\n",
              "  </thead>\n",
              "  <tbody>\n",
              "    <tr>\n",
              "      <th>0</th>\n",
              "      <td>We'll Be Together Again</td>\n",
              "      <td>0.0</td>\n",
              "      <td>tfidf</td>\n",
              "      <td>If There Is Someone Lovelier</td>\n",
              "      <td>1.000000</td>\n",
              "      <td>0.261542</td>\n",
              "    </tr>\n",
              "    <tr>\n",
              "      <th>1</th>\n",
              "      <td>We'll Be Together Again</td>\n",
              "      <td>1.0</td>\n",
              "      <td>tfidf</td>\n",
              "      <td>Goodbye</td>\n",
              "      <td>1.000000</td>\n",
              "      <td>0.307743</td>\n",
              "    </tr>\n",
              "    <tr>\n",
              "      <th>2</th>\n",
              "      <td>We'll Be Together Again</td>\n",
              "      <td>2.0</td>\n",
              "      <td>tfidf</td>\n",
              "      <td>Straight Street</td>\n",
              "      <td>0.974941</td>\n",
              "      <td>0.254988</td>\n",
              "    </tr>\n",
              "    <tr>\n",
              "      <th>3</th>\n",
              "      <td>We'll Be Together Again</td>\n",
              "      <td>3.0</td>\n",
              "      <td>tfidf</td>\n",
              "      <td>It's Magic</td>\n",
              "      <td>0.940985</td>\n",
              "      <td>0.246107</td>\n",
              "    </tr>\n",
              "    <tr>\n",
              "      <th>4</th>\n",
              "      <td>We'll Be Together Again</td>\n",
              "      <td>4.0</td>\n",
              "      <td>tfidf</td>\n",
              "      <td>Just One More Chance</td>\n",
              "      <td>0.904852</td>\n",
              "      <td>0.236657</td>\n",
              "    </tr>\n",
              "    <tr>\n",
              "      <th>...</th>\n",
              "      <td>...</td>\n",
              "      <td>...</td>\n",
              "      <td>...</td>\n",
              "      <td>...</td>\n",
              "      <td>...</td>\n",
              "      <td>...</td>\n",
              "    </tr>\n",
              "    <tr>\n",
              "      <th>61</th>\n",
              "      <td>We'll Be Together Again</td>\n",
              "      <td>NaN</td>\n",
              "      <td>doc2vec</td>\n",
              "      <td>NaN</td>\n",
              "      <td>NaN</td>\n",
              "      <td>NaN</td>\n",
              "    </tr>\n",
              "    <tr>\n",
              "      <th>62</th>\n",
              "      <td>We'll Be Together Again</td>\n",
              "      <td>NaN</td>\n",
              "      <td>doc2vec</td>\n",
              "      <td>NaN</td>\n",
              "      <td>NaN</td>\n",
              "      <td>NaN</td>\n",
              "    </tr>\n",
              "    <tr>\n",
              "      <th>63</th>\n",
              "      <td>We'll Be Together Again</td>\n",
              "      <td>NaN</td>\n",
              "      <td>doc2vec</td>\n",
              "      <td>NaN</td>\n",
              "      <td>NaN</td>\n",
              "      <td>NaN</td>\n",
              "    </tr>\n",
              "    <tr>\n",
              "      <th>64</th>\n",
              "      <td>We'll Be Together Again</td>\n",
              "      <td>NaN</td>\n",
              "      <td>doc2vec</td>\n",
              "      <td>NaN</td>\n",
              "      <td>NaN</td>\n",
              "      <td>NaN</td>\n",
              "    </tr>\n",
              "    <tr>\n",
              "      <th>65</th>\n",
              "      <td>We'll Be Together Again</td>\n",
              "      <td>NaN</td>\n",
              "      <td>doc2vec</td>\n",
              "      <td>NaN</td>\n",
              "      <td>NaN</td>\n",
              "      <td>NaN</td>\n",
              "    </tr>\n",
              "  </tbody>\n",
              "</table>\n",
              "<p>188 rows × 6 columns</p>\n",
              "</div>"
            ],
            "text/plain": [
              "                  reference   id  ... score_div_max     score\n",
              "0   We'll Be Together Again  0.0  ...      1.000000  0.261542\n",
              "1   We'll Be Together Again  1.0  ...      1.000000  0.307743\n",
              "2   We'll Be Together Again  2.0  ...      0.974941  0.254988\n",
              "3   We'll Be Together Again  3.0  ...      0.940985  0.246107\n",
              "4   We'll Be Together Again  4.0  ...      0.904852  0.236657\n",
              "..                      ...  ...  ...           ...       ...\n",
              "61  We'll Be Together Again  NaN  ...           NaN       NaN\n",
              "62  We'll Be Together Again  NaN  ...           NaN       NaN\n",
              "63  We'll Be Together Again  NaN  ...           NaN       NaN\n",
              "64  We'll Be Together Again  NaN  ...           NaN       NaN\n",
              "65  We'll Be Together Again  NaN  ...           NaN       NaN\n",
              "\n",
              "[188 rows x 6 columns]"
            ]
          },
          "metadata": {},
          "execution_count": 86
        }
      ]
    },
    {
      "cell_type": "code",
      "metadata": {
        "id": "Qm7BPMM_ihop",
        "colab": {
          "base_uri": "https://localhost:8080/",
          "height": 791
        },
        "outputId": "2ba1e008-9806-478d-da9a-48ce9f4fbd57"
      },
      "source": [
        "recommender_results = recommender_results.reset_index()\n",
        "\n",
        "results = recommender_results.pivot(index=['index', 'reference', 'similar'], columns='method', values=['id', 'score', 'score_div_max'])\n",
        "results.columns = ['_'.join(col) for col in results.columns]\n",
        "results = results.reset_index()\n",
        "results"
      ],
      "execution_count": 87,
      "outputs": [
        {
          "output_type": "execute_result",
          "data": {
            "text/html": [
              "<div>\n",
              "<style scoped>\n",
              "    .dataframe tbody tr th:only-of-type {\n",
              "        vertical-align: middle;\n",
              "    }\n",
              "\n",
              "    .dataframe tbody tr th {\n",
              "        vertical-align: top;\n",
              "    }\n",
              "\n",
              "    .dataframe thead th {\n",
              "        text-align: right;\n",
              "    }\n",
              "</style>\n",
              "<table border=\"1\" class=\"dataframe\">\n",
              "  <thead>\n",
              "    <tr style=\"text-align: right;\">\n",
              "      <th></th>\n",
              "      <th>index</th>\n",
              "      <th>reference</th>\n",
              "      <th>similar</th>\n",
              "      <th>id_doc2vec</th>\n",
              "      <th>id_lsi</th>\n",
              "      <th>id_tfidf</th>\n",
              "      <th>score_doc2vec</th>\n",
              "      <th>score_lsi</th>\n",
              "      <th>score_tfidf</th>\n",
              "      <th>score_div_max_doc2vec</th>\n",
              "      <th>score_div_max_lsi</th>\n",
              "      <th>score_div_max_tfidf</th>\n",
              "    </tr>\n",
              "  </thead>\n",
              "  <tbody>\n",
              "    <tr>\n",
              "      <th>0</th>\n",
              "      <td>0</td>\n",
              "      <td>We'll Be Together Again</td>\n",
              "      <td>Darn That Dream</td>\n",
              "      <td>0.0</td>\n",
              "      <td>0.0</td>\n",
              "      <td>NaN</td>\n",
              "      <td>0.836292</td>\n",
              "      <td>0.836292</td>\n",
              "      <td>NaN</td>\n",
              "      <td>1.00000</td>\n",
              "      <td>1.00000</td>\n",
              "      <td>NaN</td>\n",
              "    </tr>\n",
              "    <tr>\n",
              "      <th>1</th>\n",
              "      <td>0</td>\n",
              "      <td>We'll Be Together Again</td>\n",
              "      <td>If There Is Someone Lovelier</td>\n",
              "      <td>NaN</td>\n",
              "      <td>NaN</td>\n",
              "      <td>0.0</td>\n",
              "      <td>NaN</td>\n",
              "      <td>NaN</td>\n",
              "      <td>0.261542</td>\n",
              "      <td>NaN</td>\n",
              "      <td>NaN</td>\n",
              "      <td>1.000000</td>\n",
              "    </tr>\n",
              "    <tr>\n",
              "      <th>2</th>\n",
              "      <td>1</td>\n",
              "      <td>We'll Be Together Again</td>\n",
              "      <td>Goodbye</td>\n",
              "      <td>1.0</td>\n",
              "      <td>1.0</td>\n",
              "      <td>1.0</td>\n",
              "      <td>0.862321</td>\n",
              "      <td>0.862321</td>\n",
              "      <td>0.307743</td>\n",
              "      <td>1.00000</td>\n",
              "      <td>1.00000</td>\n",
              "      <td>1.000000</td>\n",
              "    </tr>\n",
              "    <tr>\n",
              "      <th>3</th>\n",
              "      <td>2</td>\n",
              "      <td>We'll Be Together Again</td>\n",
              "      <td>Straight Street</td>\n",
              "      <td>NaN</td>\n",
              "      <td>NaN</td>\n",
              "      <td>2.0</td>\n",
              "      <td>NaN</td>\n",
              "      <td>NaN</td>\n",
              "      <td>0.254988</td>\n",
              "      <td>NaN</td>\n",
              "      <td>NaN</td>\n",
              "      <td>0.974941</td>\n",
              "    </tr>\n",
              "    <tr>\n",
              "      <th>4</th>\n",
              "      <td>2</td>\n",
              "      <td>We'll Be Together Again</td>\n",
              "      <td>Street Of Dreams</td>\n",
              "      <td>2.0</td>\n",
              "      <td>2.0</td>\n",
              "      <td>NaN</td>\n",
              "      <td>0.828630</td>\n",
              "      <td>0.828630</td>\n",
              "      <td>NaN</td>\n",
              "      <td>0.96093</td>\n",
              "      <td>0.96093</td>\n",
              "      <td>NaN</td>\n",
              "    </tr>\n",
              "    <tr>\n",
              "      <th>...</th>\n",
              "      <td>...</td>\n",
              "      <td>...</td>\n",
              "      <td>...</td>\n",
              "      <td>...</td>\n",
              "      <td>...</td>\n",
              "      <td>...</td>\n",
              "      <td>...</td>\n",
              "      <td>...</td>\n",
              "      <td>...</td>\n",
              "      <td>...</td>\n",
              "      <td>...</td>\n",
              "      <td>...</td>\n",
              "    </tr>\n",
              "    <tr>\n",
              "      <th>116</th>\n",
              "      <td>61</td>\n",
              "      <td>We'll Be Together Again</td>\n",
              "      <td>NaN</td>\n",
              "      <td>NaN</td>\n",
              "      <td>NaN</td>\n",
              "      <td>NaN</td>\n",
              "      <td>NaN</td>\n",
              "      <td>NaN</td>\n",
              "      <td>NaN</td>\n",
              "      <td>NaN</td>\n",
              "      <td>NaN</td>\n",
              "      <td>NaN</td>\n",
              "    </tr>\n",
              "    <tr>\n",
              "      <th>117</th>\n",
              "      <td>62</td>\n",
              "      <td>We'll Be Together Again</td>\n",
              "      <td>NaN</td>\n",
              "      <td>NaN</td>\n",
              "      <td>NaN</td>\n",
              "      <td>NaN</td>\n",
              "      <td>NaN</td>\n",
              "      <td>NaN</td>\n",
              "      <td>NaN</td>\n",
              "      <td>NaN</td>\n",
              "      <td>NaN</td>\n",
              "      <td>NaN</td>\n",
              "    </tr>\n",
              "    <tr>\n",
              "      <th>118</th>\n",
              "      <td>63</td>\n",
              "      <td>We'll Be Together Again</td>\n",
              "      <td>NaN</td>\n",
              "      <td>NaN</td>\n",
              "      <td>NaN</td>\n",
              "      <td>NaN</td>\n",
              "      <td>NaN</td>\n",
              "      <td>NaN</td>\n",
              "      <td>NaN</td>\n",
              "      <td>NaN</td>\n",
              "      <td>NaN</td>\n",
              "      <td>NaN</td>\n",
              "    </tr>\n",
              "    <tr>\n",
              "      <th>119</th>\n",
              "      <td>64</td>\n",
              "      <td>We'll Be Together Again</td>\n",
              "      <td>NaN</td>\n",
              "      <td>NaN</td>\n",
              "      <td>NaN</td>\n",
              "      <td>NaN</td>\n",
              "      <td>NaN</td>\n",
              "      <td>NaN</td>\n",
              "      <td>NaN</td>\n",
              "      <td>NaN</td>\n",
              "      <td>NaN</td>\n",
              "      <td>NaN</td>\n",
              "    </tr>\n",
              "    <tr>\n",
              "      <th>120</th>\n",
              "      <td>65</td>\n",
              "      <td>We'll Be Together Again</td>\n",
              "      <td>NaN</td>\n",
              "      <td>NaN</td>\n",
              "      <td>NaN</td>\n",
              "      <td>NaN</td>\n",
              "      <td>NaN</td>\n",
              "      <td>NaN</td>\n",
              "      <td>NaN</td>\n",
              "      <td>NaN</td>\n",
              "      <td>NaN</td>\n",
              "      <td>NaN</td>\n",
              "    </tr>\n",
              "  </tbody>\n",
              "</table>\n",
              "<p>121 rows × 12 columns</p>\n",
              "</div>"
            ],
            "text/plain": [
              "     index                reference  ... score_div_max_lsi  score_div_max_tfidf\n",
              "0        0  We'll Be Together Again  ...           1.00000                  NaN\n",
              "1        0  We'll Be Together Again  ...               NaN             1.000000\n",
              "2        1  We'll Be Together Again  ...           1.00000             1.000000\n",
              "3        2  We'll Be Together Again  ...               NaN             0.974941\n",
              "4        2  We'll Be Together Again  ...           0.96093                  NaN\n",
              "..     ...                      ...  ...               ...                  ...\n",
              "116     61  We'll Be Together Again  ...               NaN                  NaN\n",
              "117     62  We'll Be Together Again  ...               NaN                  NaN\n",
              "118     63  We'll Be Together Again  ...               NaN                  NaN\n",
              "119     64  We'll Be Together Again  ...               NaN                  NaN\n",
              "120     65  We'll Be Together Again  ...               NaN                  NaN\n",
              "\n",
              "[121 rows x 12 columns]"
            ]
          },
          "metadata": {},
          "execution_count": 87
        }
      ]
    },
    {
      "cell_type": "code",
      "metadata": {
        "id": "ziq-dZ16Sdgg"
      },
      "source": [
        "table = wandb.Table(dataframe=results)\n",
        "wandb.log({\"recommender results\": results})"
      ],
      "execution_count": 88,
      "outputs": []
    },
    {
      "cell_type": "code",
      "metadata": {
        "colab": {
          "base_uri": "https://localhost:8080/",
          "height": 125,
          "referenced_widgets": [
            "f2cc2a0a8d0543d98b5ef92d1a9bc78c",
            "1f61415f0fa1492cb0c09c583540851d",
            "25a83ab091984f2486891d5ee006f18b",
            "04f3e5c328334c89952b729b56c439ec",
            "9055fd681dd248eea8ea80b9e588f2f0",
            "be628329c1cc4b368de7a0fa94a42170",
            "3c030b9c9e234fad96fd092b122b1767",
            "8dfbef1ad2ec474b9b2fbb7d35a8a1d5"
          ]
        },
        "id": "YMUDRHkm0aMV",
        "outputId": "910024e2-4bc4-4229-cb3c-cd15f2d9e3d6"
      },
      "source": [
        "wandb.finish()"
      ],
      "execution_count": 89,
      "outputs": [
        {
          "output_type": "display_data",
          "data": {
            "text/html": [
              "<br/>Waiting for W&B process to finish, PID 18186... <strong style=\"color:green\">(success).</strong>"
            ],
            "text/plain": [
              "<IPython.core.display.HTML object>"
            ]
          },
          "metadata": {}
        },
        {
          "output_type": "display_data",
          "data": {
            "application/vnd.jupyter.widget-view+json": {
              "model_id": "f2cc2a0a8d0543d98b5ef92d1a9bc78c",
              "version_minor": 0,
              "version_major": 2
            },
            "text/plain": [
              "VBox(children=(Label(value=' 25.81MB of 25.81MB uploaded (0.00MB deduped)\\r'), FloatProgress(value=1.0, max=1.…"
            ]
          },
          "metadata": {}
        },
        {
          "output_type": "display_data",
          "data": {
            "text/html": [
              "<style>\n",
              "    table.wandb td:nth-child(1) { padding: 0 10px; text-align: right }\n",
              "    .wandb-row { display: flex; flex-direction: row; flex-wrap: wrap; width: 100% }\n",
              "    .wandb-col { display: flex; flex-direction: column; flex-basis: 100%; flex: 1; padding: 10px; }\n",
              "    </style>\n",
              "<div class=\"wandb-row\"><div class=\"wandb-col\">\n",
              "</div><div class=\"wandb-col\">\n",
              "</div></div>\n",
              "Synced 5 W&B file(s), 28 media file(s), 7 artifact file(s) and 0 other file(s)\n",
              "<br/>Synced <strong style=\"color:#cdcd00\">lyric-pond-6</strong>: <a href=\"https://wandb.ai/doris/jazztunes/runs/1cmuhjpr\" target=\"_blank\">https://wandb.ai/doris/jazztunes/runs/1cmuhjpr</a><br/>\n",
              "Find logs at: <code>./wandb/run-20211121_192624-1cmuhjpr/logs</code><br/>\n"
            ],
            "text/plain": [
              "<IPython.core.display.HTML object>"
            ]
          },
          "metadata": {}
        }
      ]
    },
    {
      "cell_type": "code",
      "metadata": {
        "id": "Vn_SFyKt0bYx"
      },
      "source": [
        ""
      ],
      "execution_count": 89,
      "outputs": []
    }
  ]
}