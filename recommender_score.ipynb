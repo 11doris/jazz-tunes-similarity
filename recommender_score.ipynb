{
  "nbformat": 4,
  "nbformat_minor": 0,
  "metadata": {
    "colab": {
      "name": "recommender_score",
      "provenance": [],
      "toc_visible": true,
      "authorship_tag": "ABX9TyMl3kwHT9lQUhf7KdJL8GWT",
      "include_colab_link": true
    },
    "kernelspec": {
      "name": "python3",
      "display_name": "Python 3"
    },
    "language_info": {
      "name": "python"
    },
    "accelerator": "TPU",
    "widgets": {
      "application/vnd.jupyter.widget-state+json": {
        "77ad4fd9c006466e91691bfc35ab6b4e": {
          "model_module": "@jupyter-widgets/controls",
          "model_name": "VBoxModel",
          "model_module_version": "1.5.0",
          "state": {
            "_view_name": "VBoxView",
            "_dom_classes": [],
            "_model_name": "VBoxModel",
            "_view_module": "@jupyter-widgets/controls",
            "_model_module_version": "1.5.0",
            "_view_count": null,
            "_view_module_version": "1.5.0",
            "box_style": "",
            "layout": "IPY_MODEL_5371535df2d043058aa1e314aaea6b9e",
            "_model_module": "@jupyter-widgets/controls",
            "children": [
              "IPY_MODEL_24d0f867ae5f4a59bb9f46270e96a698",
              "IPY_MODEL_6910e8a0ebf14cdc990f86fb19840c2c"
            ]
          }
        },
        "5371535df2d043058aa1e314aaea6b9e": {
          "model_module": "@jupyter-widgets/base",
          "model_name": "LayoutModel",
          "model_module_version": "1.2.0",
          "state": {
            "_view_name": "LayoutView",
            "grid_template_rows": null,
            "right": null,
            "justify_content": null,
            "_view_module": "@jupyter-widgets/base",
            "overflow": null,
            "_model_module_version": "1.2.0",
            "_view_count": null,
            "flex_flow": null,
            "width": null,
            "min_width": null,
            "border": null,
            "align_items": null,
            "bottom": null,
            "_model_module": "@jupyter-widgets/base",
            "top": null,
            "grid_column": null,
            "overflow_y": null,
            "overflow_x": null,
            "grid_auto_flow": null,
            "grid_area": null,
            "grid_template_columns": null,
            "flex": null,
            "_model_name": "LayoutModel",
            "justify_items": null,
            "grid_row": null,
            "max_height": null,
            "align_content": null,
            "visibility": null,
            "align_self": null,
            "height": null,
            "min_height": null,
            "padding": null,
            "grid_auto_rows": null,
            "grid_gap": null,
            "max_width": null,
            "order": null,
            "_view_module_version": "1.2.0",
            "grid_template_areas": null,
            "object_position": null,
            "object_fit": null,
            "grid_auto_columns": null,
            "margin": null,
            "display": null,
            "left": null
          }
        },
        "24d0f867ae5f4a59bb9f46270e96a698": {
          "model_module": "@jupyter-widgets/controls",
          "model_name": "LabelModel",
          "model_module_version": "1.5.0",
          "state": {
            "_view_name": "LabelView",
            "style": "IPY_MODEL_1638b9877975486b8d47130684a35956",
            "_dom_classes": [],
            "description": "",
            "_model_name": "LabelModel",
            "placeholder": "​",
            "_view_module": "@jupyter-widgets/controls",
            "_model_module_version": "1.5.0",
            "value": " 19.20MB of 19.20MB uploaded (0.00MB deduped)\r",
            "_view_count": null,
            "_view_module_version": "1.5.0",
            "description_tooltip": null,
            "_model_module": "@jupyter-widgets/controls",
            "layout": "IPY_MODEL_19826c51f12144548e5852369d0b9b20"
          }
        },
        "6910e8a0ebf14cdc990f86fb19840c2c": {
          "model_module": "@jupyter-widgets/controls",
          "model_name": "FloatProgressModel",
          "model_module_version": "1.5.0",
          "state": {
            "_view_name": "ProgressView",
            "style": "IPY_MODEL_9742948dfbb5416abafc713347be95d5",
            "_dom_classes": [],
            "description": "",
            "_model_name": "FloatProgressModel",
            "bar_style": "",
            "max": 1,
            "_view_module": "@jupyter-widgets/controls",
            "_model_module_version": "1.5.0",
            "value": 1,
            "_view_count": null,
            "_view_module_version": "1.5.0",
            "orientation": "horizontal",
            "min": 0,
            "description_tooltip": null,
            "_model_module": "@jupyter-widgets/controls",
            "layout": "IPY_MODEL_b6884687190e466b9f7573d3d0b6f640"
          }
        },
        "1638b9877975486b8d47130684a35956": {
          "model_module": "@jupyter-widgets/controls",
          "model_name": "DescriptionStyleModel",
          "model_module_version": "1.5.0",
          "state": {
            "_view_name": "StyleView",
            "_model_name": "DescriptionStyleModel",
            "description_width": "",
            "_view_module": "@jupyter-widgets/base",
            "_model_module_version": "1.5.0",
            "_view_count": null,
            "_view_module_version": "1.2.0",
            "_model_module": "@jupyter-widgets/controls"
          }
        },
        "19826c51f12144548e5852369d0b9b20": {
          "model_module": "@jupyter-widgets/base",
          "model_name": "LayoutModel",
          "model_module_version": "1.2.0",
          "state": {
            "_view_name": "LayoutView",
            "grid_template_rows": null,
            "right": null,
            "justify_content": null,
            "_view_module": "@jupyter-widgets/base",
            "overflow": null,
            "_model_module_version": "1.2.0",
            "_view_count": null,
            "flex_flow": null,
            "width": null,
            "min_width": null,
            "border": null,
            "align_items": null,
            "bottom": null,
            "_model_module": "@jupyter-widgets/base",
            "top": null,
            "grid_column": null,
            "overflow_y": null,
            "overflow_x": null,
            "grid_auto_flow": null,
            "grid_area": null,
            "grid_template_columns": null,
            "flex": null,
            "_model_name": "LayoutModel",
            "justify_items": null,
            "grid_row": null,
            "max_height": null,
            "align_content": null,
            "visibility": null,
            "align_self": null,
            "height": null,
            "min_height": null,
            "padding": null,
            "grid_auto_rows": null,
            "grid_gap": null,
            "max_width": null,
            "order": null,
            "_view_module_version": "1.2.0",
            "grid_template_areas": null,
            "object_position": null,
            "object_fit": null,
            "grid_auto_columns": null,
            "margin": null,
            "display": null,
            "left": null
          }
        },
        "9742948dfbb5416abafc713347be95d5": {
          "model_module": "@jupyter-widgets/controls",
          "model_name": "ProgressStyleModel",
          "model_module_version": "1.5.0",
          "state": {
            "_view_name": "StyleView",
            "_model_name": "ProgressStyleModel",
            "description_width": "",
            "_view_module": "@jupyter-widgets/base",
            "_model_module_version": "1.5.0",
            "_view_count": null,
            "_view_module_version": "1.2.0",
            "bar_color": null,
            "_model_module": "@jupyter-widgets/controls"
          }
        },
        "b6884687190e466b9f7573d3d0b6f640": {
          "model_module": "@jupyter-widgets/base",
          "model_name": "LayoutModel",
          "model_module_version": "1.2.0",
          "state": {
            "_view_name": "LayoutView",
            "grid_template_rows": null,
            "right": null,
            "justify_content": null,
            "_view_module": "@jupyter-widgets/base",
            "overflow": null,
            "_model_module_version": "1.2.0",
            "_view_count": null,
            "flex_flow": null,
            "width": null,
            "min_width": null,
            "border": null,
            "align_items": null,
            "bottom": null,
            "_model_module": "@jupyter-widgets/base",
            "top": null,
            "grid_column": null,
            "overflow_y": null,
            "overflow_x": null,
            "grid_auto_flow": null,
            "grid_area": null,
            "grid_template_columns": null,
            "flex": null,
            "_model_name": "LayoutModel",
            "justify_items": null,
            "grid_row": null,
            "max_height": null,
            "align_content": null,
            "visibility": null,
            "align_self": null,
            "height": null,
            "min_height": null,
            "padding": null,
            "grid_auto_rows": null,
            "grid_gap": null,
            "max_width": null,
            "order": null,
            "_view_module_version": "1.2.0",
            "grid_template_areas": null,
            "object_position": null,
            "object_fit": null,
            "grid_auto_columns": null,
            "margin": null,
            "display": null,
            "left": null
          }
        }
      }
    }
  },
  "cells": [
    {
      "cell_type": "markdown",
      "metadata": {
        "id": "view-in-github",
        "colab_type": "text"
      },
      "source": [
        "<a href=\"https://colab.research.google.com/github/11doris/jazz-maestro/blob/colab_word_embeddings/recommender_score.ipynb\" target=\"_parent\"><img src=\"https://colab.research.google.com/assets/colab-badge.svg\" alt=\"Open In Colab\"/></a>"
      ]
    },
    {
      "cell_type": "markdown",
      "metadata": {
        "id": "YGhakKpa8Dtf"
      },
      "source": [
        "# Sections as Input"
      ]
    },
    {
      "cell_type": "code",
      "metadata": {
        "colab": {
          "base_uri": "https://localhost:8080/"
        },
        "id": "dm5QehpXxo31",
        "outputId": "4f1fe970-e167-48e5-a8a9-a2d097171dbf"
      },
      "source": [
        "pip install wandb"
      ],
      "execution_count": 1,
      "outputs": [
        {
          "output_type": "stream",
          "name": "stdout",
          "text": [
            "Requirement already satisfied: wandb in /usr/local/lib/python3.7/dist-packages (0.12.7)\n",
            "Requirement already satisfied: psutil>=5.0.0 in /usr/local/lib/python3.7/dist-packages (from wandb) (5.4.8)\n",
            "Requirement already satisfied: protobuf>=3.12.0 in /usr/local/lib/python3.7/dist-packages (from wandb) (3.17.3)\n",
            "Requirement already satisfied: six>=1.13.0 in /usr/local/lib/python3.7/dist-packages (from wandb) (1.15.0)\n",
            "Requirement already satisfied: docker-pycreds>=0.4.0 in /usr/local/lib/python3.7/dist-packages (from wandb) (0.4.0)\n",
            "Requirement already satisfied: pathtools in /usr/local/lib/python3.7/dist-packages (from wandb) (0.1.2)\n",
            "Requirement already satisfied: Click!=8.0.0,>=7.0 in /usr/local/lib/python3.7/dist-packages (from wandb) (7.1.2)\n",
            "Requirement already satisfied: shortuuid>=0.5.0 in /usr/local/lib/python3.7/dist-packages (from wandb) (1.0.8)\n",
            "Requirement already satisfied: yaspin>=1.0.0 in /usr/local/lib/python3.7/dist-packages (from wandb) (2.1.0)\n",
            "Requirement already satisfied: subprocess32>=3.5.3 in /usr/local/lib/python3.7/dist-packages (from wandb) (3.5.4)\n",
            "Requirement already satisfied: GitPython>=1.0.0 in /usr/local/lib/python3.7/dist-packages (from wandb) (3.1.24)\n",
            "Requirement already satisfied: python-dateutil>=2.6.1 in /usr/local/lib/python3.7/dist-packages (from wandb) (2.8.2)\n",
            "Requirement already satisfied: PyYAML in /usr/local/lib/python3.7/dist-packages (from wandb) (3.13)\n",
            "Requirement already satisfied: configparser>=3.8.1 in /usr/local/lib/python3.7/dist-packages (from wandb) (5.1.0)\n",
            "Requirement already satisfied: promise<3,>=2.0 in /usr/local/lib/python3.7/dist-packages (from wandb) (2.3)\n",
            "Requirement already satisfied: sentry-sdk>=1.0.0 in /usr/local/lib/python3.7/dist-packages (from wandb) (1.5.0)\n",
            "Requirement already satisfied: requests<3,>=2.0.0 in /usr/local/lib/python3.7/dist-packages (from wandb) (2.23.0)\n",
            "Requirement already satisfied: typing-extensions>=3.7.4.3 in /usr/local/lib/python3.7/dist-packages (from GitPython>=1.0.0->wandb) (3.10.0.2)\n",
            "Requirement already satisfied: gitdb<5,>=4.0.1 in /usr/local/lib/python3.7/dist-packages (from GitPython>=1.0.0->wandb) (4.0.9)\n",
            "Requirement already satisfied: smmap<6,>=3.0.1 in /usr/local/lib/python3.7/dist-packages (from gitdb<5,>=4.0.1->GitPython>=1.0.0->wandb) (5.0.0)\n",
            "Requirement already satisfied: certifi>=2017.4.17 in /usr/local/lib/python3.7/dist-packages (from requests<3,>=2.0.0->wandb) (2021.10.8)\n",
            "Requirement already satisfied: idna<3,>=2.5 in /usr/local/lib/python3.7/dist-packages (from requests<3,>=2.0.0->wandb) (2.10)\n",
            "Requirement already satisfied: urllib3!=1.25.0,!=1.25.1,<1.26,>=1.21.1 in /usr/local/lib/python3.7/dist-packages (from requests<3,>=2.0.0->wandb) (1.24.3)\n",
            "Requirement already satisfied: chardet<4,>=3.0.2 in /usr/local/lib/python3.7/dist-packages (from requests<3,>=2.0.0->wandb) (3.0.4)\n",
            "Requirement already satisfied: termcolor<2.0.0,>=1.1.0 in /usr/local/lib/python3.7/dist-packages (from yaspin>=1.0.0->wandb) (1.1.0)\n"
          ]
        }
      ]
    },
    {
      "cell_type": "code",
      "metadata": {
        "colab": {
          "base_uri": "https://localhost:8080/"
        },
        "id": "HZG8BDT-xrv3",
        "outputId": "6592ced9-88ee-4ae5-ac88-cc1655ca9506"
      },
      "source": [
        "!wandb login"
      ],
      "execution_count": 2,
      "outputs": [
        {
          "output_type": "stream",
          "name": "stdout",
          "text": [
            "\u001b[34m\u001b[1mwandb\u001b[0m: Currently logged in as: \u001b[33mdoris\u001b[0m (use `wandb login --relogin` to force relogin)\n"
          ]
        }
      ]
    },
    {
      "cell_type": "code",
      "metadata": {
        "id": "WHZBzAXjxz1J"
      },
      "source": [
        "import wandb"
      ],
      "execution_count": 3,
      "outputs": []
    },
    {
      "cell_type": "code",
      "metadata": {
        "colab": {
          "base_uri": "https://localhost:8080/"
        },
        "id": "MUy1ta4_782n",
        "outputId": "5a8cd986-5437-4f18-bd28-321163895ae2"
      },
      "source": [
        "!pip uninstall gensim -y"
      ],
      "execution_count": 4,
      "outputs": [
        {
          "output_type": "stream",
          "name": "stdout",
          "text": [
            "Found existing installation: gensim 4.1.2\n",
            "Uninstalling gensim-4.1.2:\n",
            "  Successfully uninstalled gensim-4.1.2\n"
          ]
        }
      ]
    },
    {
      "cell_type": "code",
      "metadata": {
        "colab": {
          "base_uri": "https://localhost:8080/"
        },
        "id": "oAroxmvO8GQj",
        "outputId": "741786e2-8ee3-4e83-b624-a7c4e3ca0b5d"
      },
      "source": [
        "!pip install gensim"
      ],
      "execution_count": 5,
      "outputs": [
        {
          "output_type": "stream",
          "name": "stdout",
          "text": [
            "Collecting gensim\n",
            "  Using cached gensim-4.1.2-cp37-cp37m-manylinux_2_12_x86_64.manylinux2010_x86_64.whl (24.1 MB)\n",
            "Requirement already satisfied: smart-open>=1.8.1 in /usr/local/lib/python3.7/dist-packages (from gensim) (5.2.1)\n",
            "Requirement already satisfied: scipy>=0.18.1 in /usr/local/lib/python3.7/dist-packages (from gensim) (1.4.1)\n",
            "Requirement already satisfied: numpy>=1.17.0 in /usr/local/lib/python3.7/dist-packages (from gensim) (1.19.5)\n",
            "Installing collected packages: gensim\n",
            "Successfully installed gensim-4.1.2\n"
          ]
        }
      ]
    },
    {
      "cell_type": "code",
      "metadata": {
        "id": "6SZ0zrKX8H-D"
      },
      "source": [
        "import gensim\n",
        "from sklearn.manifold import TSNE\n",
        "import matplotlib.pyplot as plt\n",
        "import pprint\n",
        "import pandas as pd\n",
        "import numpy as np\n",
        "from collections import Counter\n",
        "import plotly.express as px\n",
        "from tqdm import tqdm \n",
        "from gensim.models.doc2vec import Doc2Vec\n",
        "from gensim.models.tfidfmodel import TfidfModel\n",
        "from gensim.models.lsimodel import LsiModel\n",
        "from gensim.models import CoherenceModel\n",
        "from gensim import corpora\n",
        "from gensim import similarities\n",
        "import pickle\n",
        "import os"
      ],
      "execution_count": 6,
      "outputs": []
    },
    {
      "cell_type": "code",
      "metadata": {
        "id": "znWar-PK8KHT"
      },
      "source": [
        "import logging\n",
        "logging.basicConfig(format='%(asctime)s : %(levelname)s : %(message)s', level=logging.INFO)"
      ],
      "execution_count": 7,
      "outputs": []
    },
    {
      "cell_type": "code",
      "metadata": {
        "colab": {
          "base_uri": "https://localhost:8080/"
        },
        "id": "kjCf_Abf8MCc",
        "outputId": "f75e3a08-b237-4b77-b717-d4ee0411e355"
      },
      "source": [
        "print(gensim.__version__)"
      ],
      "execution_count": 8,
      "outputs": [
        {
          "output_type": "stream",
          "name": "stdout",
          "text": [
            "4.1.2\n"
          ]
        }
      ]
    },
    {
      "cell_type": "code",
      "metadata": {
        "id": "_aEonlx-CT6r"
      },
      "source": [
        "!rm data.csv"
      ],
      "execution_count": 9,
      "outputs": []
    },
    {
      "cell_type": "markdown",
      "metadata": {
        "id": "Nk5pPZqk0Pn7"
      },
      "source": [
        "# Configuration\n"
      ]
    },
    {
      "cell_type": "code",
      "metadata": {
        "id": "wcZ18xhgU7MZ"
      },
      "source": [
        "use_wandb = True"
      ],
      "execution_count": 10,
      "outputs": []
    },
    {
      "cell_type": "code",
      "metadata": {
        "id": "GfQbJQmexlxI"
      },
      "source": [
        "chords_repeated = 'rep' \n",
        "chords_preprocessing = 'rootAndDegreesSimplified'"
      ],
      "execution_count": 11,
      "outputs": []
    },
    {
      "cell_type": "code",
      "metadata": {
        "id": "buoyWNl0F48Y"
      },
      "source": [
        "ngrams_for_input = [2]"
      ],
      "execution_count": 12,
      "outputs": []
    },
    {
      "cell_type": "code",
      "metadata": {
        "id": "K7qB2_sBvKpB"
      },
      "source": [
        "input_files = {\n",
        "    'sections': {\n",
        "        'rep': {\n",
        "            # M7 and 6 reduced to major triad, m7 reduced to m, dominant 7, m7b5, diminished, and all (b5) left as they are.\n",
        "            'rootAndDegreesPlus': '17djlZRWFSUCviOxRTOF-nwbbZqU5gUP9',\n",
        "            'rootAndDegrees7': '1lQTBMYk7Ui_mbOopUTjOs4MV_4c1a8bO',\n",
        "            'rootAndDegreesSimplified': '1lVm6r0T3i1hbyZqPJXNKf90uh14MOKkb'\n",
        "        },\n",
        "    },\n",
        "    'tunes': {\n",
        "        'rep': {\n",
        "            'rootAndDegreesPlus': '',\n",
        "            'rootAndDegrees7': '',\n",
        "            'rootAndDegreesSimplified': '',\n",
        "        },\n",
        "        'norep': {\n",
        "            'rootAndDegreesPlus': '',\n",
        "            'rootAndDegrees7': '',\n",
        "            'rootAndDegreesSimplified': '',\n",
        "        }\n",
        "    }\n",
        "}"
      ],
      "execution_count": 13,
      "outputs": []
    },
    {
      "cell_type": "code",
      "metadata": {
        "colab": {
          "base_uri": "https://localhost:8080/"
        },
        "id": "lM6eaQwnyWD3",
        "outputId": "651064b5-e694-425b-c422-e26efad040d4"
      },
      "source": [
        "tunes_eval_list = [\n",
        "  \"Sweet Sue, Just You\",\n",
        "  \"These Foolish Things\", \n",
        "  \"Blue Moon\",\n",
        "  \"All Of Me\",\n",
        "  \"All God's Chillun Got Rhythm\",\n",
        "  \"I Got Rhythm\",\n",
        "  \"Bye Bye Blackbird\",\n",
        "  \"Old Fashioned Love\",\n",
        "  \"Dinah\",\n",
        "  \"Honeysuckle Rose\",\n",
        "  \"Misty\",\n",
        "  \"We'll Be Together Again\",\n",
        "  \"East Of The Sun\",\n",
        "  \"Sophisticated Lady\",\n",
        "  \"Perdido\",\n",
        "  \"Naima\",\n",
        "  \"Call Me Irresponsible\",\n",
        "  \"Corcovado\",\n",
        "  \"Footprints\",\n",
        "  \"Giant Steps\",\n",
        "  \"But Beautiful\",\n",
        "  \"Rockin' Chair\",\n",
        "  \"Blood Count\",\n",
        "  \"After You've Gone\",\n",
        "]\n",
        "\n",
        "tunes_eval_list = sorted(tunes_eval_list)\n",
        "tunes_eval_list"
      ],
      "execution_count": 14,
      "outputs": [
        {
          "output_type": "execute_result",
          "data": {
            "text/plain": [
              "[\"After You've Gone\",\n",
              " \"All God's Chillun Got Rhythm\",\n",
              " 'All Of Me',\n",
              " 'Blood Count',\n",
              " 'Blue Moon',\n",
              " 'But Beautiful',\n",
              " 'Bye Bye Blackbird',\n",
              " 'Call Me Irresponsible',\n",
              " 'Corcovado',\n",
              " 'Dinah',\n",
              " 'East Of The Sun',\n",
              " 'Footprints',\n",
              " 'Giant Steps',\n",
              " 'Honeysuckle Rose',\n",
              " 'I Got Rhythm',\n",
              " 'Misty',\n",
              " 'Naima',\n",
              " 'Old Fashioned Love',\n",
              " 'Perdido',\n",
              " \"Rockin' Chair\",\n",
              " 'Sophisticated Lady',\n",
              " 'Sweet Sue, Just You',\n",
              " 'These Foolish Things',\n",
              " \"We'll Be Together Again\"]"
            ]
          },
          "metadata": {},
          "execution_count": 14
        }
      ]
    },
    {
      "cell_type": "code",
      "metadata": {
        "id": "uiI0h4ef0PCD"
      },
      "source": [
        "contrafacts = {\n",
        "               \"26-2\": \"Confirmation\",\n",
        "               \"52nd Street Theme\": \"I Got Rhythm\",\n",
        "               \"Ablution\": \"All The Things You Are\",\n",
        "               \"Anthropology\": \"I Got Rhythm\",\n",
        "               \"Ballade\": \"As Long As I Live\",\n",
        "               \"Bright Mississippi\": \"Sweet Georgia Brown\",\n",
        "               \"C.T.A.\": \"I Got Rhythm\",\n",
        "               \"Celia\": \"I Got Rhythm\",\n",
        "               \"Cottontail\": \"I Got Rhythm\",\n",
        "               \"Countdown\": \"Tune Up\",\n",
        "               \"Dewey Square\": \"Oh, Lady Be Good\",\n",
        "               \"Dexterity\": \"I Got Rhythm\",\n",
        "               \"Dig\": \"Sweet Georgia Brown\",\n",
        "               \"Donna Lee\": \"Indiana (Back Home Again In)\",\n",
        "               \"Don't Be That Way\": \"I Got Rhythm\",\n",
        "               \"Eternal Triangle\": \"I Got Rhythm\",\n",
        "               \"Evidence\": \"Just You, Just Me\",\n",
        "               \"Flintstones\": \"I Got Rhythm\",\n",
        "               \"Four On Six\": \"Summertime\",\n",
        "               \"Freight Train\": \"Blues For Alice\",\n",
        "               \"Good Bait\": \"I Got Rhythm\",\n",
        "               \"Hackensack\": \"Oh, Lady Be Good\",\n",
        "               \"Half Nelson\": \"Lady Bird\",\n",
        "               \"Hot House\": \"What Is This Thing Called Love\",\n",
        "               \"Impressions\": \"So What\",\n",
        "               \"In A Mellow Tone (In A Mellotone)\": \"Rose Room\",\n",
        "               \"In Walked Bud\": \"Blue Skies\",\n",
        "               \"Ko Ko\": \"Cherokee\",\n",
        "               \"Lennie's Pennies\": \"Pennies From Heaven\",   ## Lennie's Pennies is in minor and therefore transposed to Amin... not possible to recognize like that\n",
        "               # \"Let's Call This\": \"Honeysuckle Rose\",\n",
        "               \"Little Rootie Tootie\": \"I Got Rhythm\",\n",
        "               \"Little Willie Leaps\": \"All God's Chillun Got Rhythm\",\n",
        "               \"Lullaby Of Birdland\": \"Love Me Or Leave Me\",\n",
        "               \"Moose The Mooche\": \"I Got Rhythm\",\n",
        "               \"My Little Suede Shoes\": \"Jeepers Creepers\",\n",
        "               \"Oleo\": \"I Got Rhythm\",\n",
        "               \"Ornithology\": \"How High The Moon\",\n",
        "               \"Passport\": \"I Got Rhythm\",\n",
        "               \"Quasimodo (Theme)\": \"Embraceable You\",\n",
        "               \"Rhythm-a-ning\": \"I Got Rhythm\",\n",
        "               \"Room 608\": \"I Got Rhythm\",\n",
        "               \"Salt Peanuts\": \"I Got Rhythm\",\n",
        "               \"Satellite\": \"How High The Moon\",\n",
        "               \"Scrapple From The Apple\": \"Honeysuckle Rose\", # A section\n",
        "               \"Scrapple From The Apple\": \"I Got Rhythm\", # B section\n",
        "               #\"Segment\": \"I Got Rhythm\",\n",
        "               \"Seven Come Eleven\": \"I Got Rhythm\",\n",
        "               \"Shaw 'Nuff\": \"I Got Rhythm\",\n",
        "               \"Theme, The\": \"I Got Rhythm\",\n",
        "               \"Tour De Force\": \"Jeepers Creepers\",\n",
        "               \"Wow\": \"You Can Depend On Me\",\n",
        "               \"Yardbird Suite\": \"Rosetta\",\n",
        "\n",
        "               # following tunes are not from wikipedia:\n",
        "               \"Sweet Sue, Just You\": \"Honeysuckle Rose\",  # A section\n",
        "               # \"All Of Me\": \"Pennies From Heaven\", # bars 25-28 of All of Me are same as bars 17-20 of Pennies From Heaven, but different key!\n",
        "               \"Sweet Sue, Just You\": \"Bye Bye Blackbird\", # Bridge same\n",
        "               \"These Foolish Things\": \"Blue Moon\", # first 8 bars same\n",
        "               \"Misty\": \"Portrait Of Jennie\",\n",
        "               \"Misty\": \"September In The Rain\",\n",
        "               \"Misty\": \"I May Be Wrong\",             \n",
        "               \n",
        "}"
      ],
      "execution_count": 15,
      "outputs": []
    },
    {
      "cell_type": "markdown",
      "metadata": {
        "id": "gcexO7zK8Pn6"
      },
      "source": [
        "# Initialization\n",
        "\n",
        "## Download the Data"
      ]
    },
    {
      "cell_type": "code",
      "metadata": {
        "id": "JwVJo3Vat8iF"
      },
      "source": [
        "input_data = input_files['sections'][chords_repeated][chords_preprocessing]\n",
        "\n",
        "input_path = f\"https://docs.google.com/uc?export=download&id={input_data}\"\n",
        "data_file_name = 'data.csv'\n"
      ],
      "execution_count": 16,
      "outputs": []
    },
    {
      "cell_type": "code",
      "metadata": {
        "colab": {
          "base_uri": "https://localhost:8080/",
          "height": 36
        },
        "id": "_Dp-fijjB-pU",
        "outputId": "45ad26b8-b9b6-4ef9-d5f1-15e5928d6935"
      },
      "source": [
        "input_path"
      ],
      "execution_count": 17,
      "outputs": [
        {
          "output_type": "execute_result",
          "data": {
            "application/vnd.google.colaboratory.intrinsic+json": {
              "type": "string"
            },
            "text/plain": [
              "'https://docs.google.com/uc?export=download&id=1lVm6r0T3i1hbyZqPJXNKf90uh14MOKkb'"
            ]
          },
          "metadata": {},
          "execution_count": 17
        }
      ]
    },
    {
      "cell_type": "code",
      "metadata": {
        "colab": {
          "base_uri": "https://localhost:8080/"
        },
        "id": "1ZVAYUH5t9Li",
        "outputId": "878dd427-3859-4d84-c635-1da681ea8dee"
      },
      "source": [
        "!wget --no-check-certificate \"$input_path\" -O \"$data_file_name\""
      ],
      "execution_count": 18,
      "outputs": [
        {
          "output_type": "stream",
          "name": "stdout",
          "text": [
            "--2021-11-23 21:36:07--  https://docs.google.com/uc?export=download&id=1lVm6r0T3i1hbyZqPJXNKf90uh14MOKkb\n",
            "Resolving docs.google.com (docs.google.com)... 74.125.124.102, 74.125.124.100, 74.125.124.101, ...\n",
            "Connecting to docs.google.com (docs.google.com)|74.125.124.102|:443... connected.\n",
            "HTTP request sent, awaiting response... 302 Moved Temporarily\n",
            "Location: https://doc-0c-4c-docs.googleusercontent.com/docs/securesc/ha0ro937gcuc7l7deffksulhg5h7mbp1/l76scaolgt9riaohe9dfjqjo507qmrn2/1637703300000/14329102864480165501/*/1lVm6r0T3i1hbyZqPJXNKf90uh14MOKkb?e=download [following]\n",
            "Warning: wildcards not supported in HTTP.\n",
            "--2021-11-23 21:36:07--  https://doc-0c-4c-docs.googleusercontent.com/docs/securesc/ha0ro937gcuc7l7deffksulhg5h7mbp1/l76scaolgt9riaohe9dfjqjo507qmrn2/1637703300000/14329102864480165501/*/1lVm6r0T3i1hbyZqPJXNKf90uh14MOKkb?e=download\n",
            "Resolving doc-0c-4c-docs.googleusercontent.com (doc-0c-4c-docs.googleusercontent.com)... 142.250.128.132, 2607:f8b0:4001:c32::84\n",
            "Connecting to doc-0c-4c-docs.googleusercontent.com (doc-0c-4c-docs.googleusercontent.com)|142.250.128.132|:443... connected.\n",
            "HTTP request sent, awaiting response... 200 OK\n",
            "Length: 705775 (689K) [text/csv]\n",
            "Saving to: ‘data.csv’\n",
            "\n",
            "data.csv            100%[===================>] 689.23K  --.-KB/s    in 0.006s  \n",
            "\n",
            "2021-11-23 21:36:07 (108 MB/s) - ‘data.csv’ saved [705775/705775]\n",
            "\n"
          ]
        }
      ]
    },
    {
      "cell_type": "markdown",
      "metadata": {
        "id": "Ljs21B7h8YvC"
      },
      "source": [
        "### Read Chords Input Data"
      ]
    },
    {
      "cell_type": "code",
      "metadata": {
        "colab": {
          "base_uri": "https://localhost:8080/",
          "height": 293
        },
        "id": "B7kK418L8aac",
        "outputId": "4260b1d5-6f13-42d7-974f-ceab62a00134"
      },
      "source": [
        "df = pd.read_csv(data_file_name, sep='\\t', index_col=\"id\")\n",
        "df = df.reset_index()\n",
        "df.head(5)"
      ],
      "execution_count": 19,
      "outputs": [
        {
          "output_type": "execute_result",
          "data": {
            "text/html": [
              "<div>\n",
              "<style scoped>\n",
              "    .dataframe tbody tr th:only-of-type {\n",
              "        vertical-align: middle;\n",
              "    }\n",
              "\n",
              "    .dataframe tbody tr th {\n",
              "        vertical-align: top;\n",
              "    }\n",
              "\n",
              "    .dataframe thead th {\n",
              "        text-align: right;\n",
              "    }\n",
              "</style>\n",
              "<table border=\"1\" class=\"dataframe\">\n",
              "  <thead>\n",
              "    <tr style=\"text-align: right;\">\n",
              "      <th></th>\n",
              "      <th>id</th>\n",
              "      <th>file_name</th>\n",
              "      <th>title</th>\n",
              "      <th>tune_mode</th>\n",
              "      <th>tune_id</th>\n",
              "      <th>section_name</th>\n",
              "      <th>section_id</th>\n",
              "      <th>chords</th>\n",
              "    </tr>\n",
              "  </thead>\n",
              "  <tbody>\n",
              "    <tr>\n",
              "      <th>0</th>\n",
              "      <td>0</td>\n",
              "      <td>dataset/jazz1350/26-2.xml</td>\n",
              "      <td>26-2</td>\n",
              "      <td>major</td>\n",
              "      <td>0</td>\n",
              "      <td>A</td>\n",
              "      <td>1</td>\n",
              "      <td>CM7 Eb7 G#M7 B7 EM7 G7 Gm7 C7 FM7 G#7 C#M7 E7 ...</td>\n",
              "    </tr>\n",
              "    <tr>\n",
              "      <th>1</th>\n",
              "      <td>1</td>\n",
              "      <td>dataset/jazz1350/26-2.xml</td>\n",
              "      <td>26-2</td>\n",
              "      <td>major</td>\n",
              "      <td>0</td>\n",
              "      <td>A</td>\n",
              "      <td>2</td>\n",
              "      <td>CM7 Eb7 G#M7 B7 EM7 G7 Gm7 C7 FM7 Eb7 G#M7 B7 ...</td>\n",
              "    </tr>\n",
              "    <tr>\n",
              "      <th>2</th>\n",
              "      <td>2</td>\n",
              "      <td>dataset/jazz1350/26-2.xml</td>\n",
              "      <td>26-2</td>\n",
              "      <td>major</td>\n",
              "      <td>0</td>\n",
              "      <td>B</td>\n",
              "      <td>3</td>\n",
              "      <td>Gm7 C7 Bm7 E7 AM7 C7 FM7 Bbm7 Eb7 G#M7 Dm7 G7</td>\n",
              "    </tr>\n",
              "    <tr>\n",
              "      <th>3</th>\n",
              "      <td>3</td>\n",
              "      <td>dataset/jazz1350/26-2.xml</td>\n",
              "      <td>26-2</td>\n",
              "      <td>major</td>\n",
              "      <td>0</td>\n",
              "      <td>A</td>\n",
              "      <td>4</td>\n",
              "      <td>CM7 Eb7 G#M7 B7 EM7 G7 Gm7 C7 FM7 Eb7 G#M7 B7 ...</td>\n",
              "    </tr>\n",
              "    <tr>\n",
              "      <th>4</th>\n",
              "      <td>4</td>\n",
              "      <td>dataset/jazz1350/500 Miles High.xml</td>\n",
              "      <td>500 Miles High</td>\n",
              "      <td>minor</td>\n",
              "      <td>1</td>\n",
              "      <td>NaN</td>\n",
              "      <td>0</td>\n",
              "      <td>Am7 Am7 Cm7 Cm7 EbM7 EbM7 Em7b5 A7 Dm7 Dm7 Bm7...</td>\n",
              "    </tr>\n",
              "  </tbody>\n",
              "</table>\n",
              "</div>"
            ],
            "text/plain": [
              "   id  ...                                             chords\n",
              "0   0  ...  CM7 Eb7 G#M7 B7 EM7 G7 Gm7 C7 FM7 G#7 C#M7 E7 ...\n",
              "1   1  ...  CM7 Eb7 G#M7 B7 EM7 G7 Gm7 C7 FM7 Eb7 G#M7 B7 ...\n",
              "2   2  ...      Gm7 C7 Bm7 E7 AM7 C7 FM7 Bbm7 Eb7 G#M7 Dm7 G7\n",
              "3   3  ...  CM7 Eb7 G#M7 B7 EM7 G7 Gm7 C7 FM7 Eb7 G#M7 B7 ...\n",
              "4   4  ...  Am7 Am7 Cm7 Cm7 EbM7 EbM7 Em7b5 A7 Dm7 Dm7 Bm7...\n",
              "\n",
              "[5 rows x 8 columns]"
            ]
          },
          "metadata": {},
          "execution_count": 19
        }
      ]
    },
    {
      "cell_type": "markdown",
      "metadata": {
        "id": "OsPcEFbg8gu6"
      },
      "source": [
        "### Meta Data"
      ]
    },
    {
      "cell_type": "code",
      "metadata": {
        "colab": {
          "base_uri": "https://localhost:8080/",
          "height": 206
        },
        "id": "_62YlEVJXOCL",
        "outputId": "2a60db3e-04fd-4cc2-b784-ef20f23618c2"
      },
      "source": [
        "titles = df.loc[:, ['id', 'tune_id', 'section_id', 'section_name', 'title', 'tune_mode']]\n",
        "titles[:5]"
      ],
      "execution_count": 20,
      "outputs": [
        {
          "output_type": "execute_result",
          "data": {
            "text/html": [
              "<div>\n",
              "<style scoped>\n",
              "    .dataframe tbody tr th:only-of-type {\n",
              "        vertical-align: middle;\n",
              "    }\n",
              "\n",
              "    .dataframe tbody tr th {\n",
              "        vertical-align: top;\n",
              "    }\n",
              "\n",
              "    .dataframe thead th {\n",
              "        text-align: right;\n",
              "    }\n",
              "</style>\n",
              "<table border=\"1\" class=\"dataframe\">\n",
              "  <thead>\n",
              "    <tr style=\"text-align: right;\">\n",
              "      <th></th>\n",
              "      <th>id</th>\n",
              "      <th>tune_id</th>\n",
              "      <th>section_id</th>\n",
              "      <th>section_name</th>\n",
              "      <th>title</th>\n",
              "      <th>tune_mode</th>\n",
              "    </tr>\n",
              "  </thead>\n",
              "  <tbody>\n",
              "    <tr>\n",
              "      <th>0</th>\n",
              "      <td>0</td>\n",
              "      <td>0</td>\n",
              "      <td>1</td>\n",
              "      <td>A</td>\n",
              "      <td>26-2</td>\n",
              "      <td>major</td>\n",
              "    </tr>\n",
              "    <tr>\n",
              "      <th>1</th>\n",
              "      <td>1</td>\n",
              "      <td>0</td>\n",
              "      <td>2</td>\n",
              "      <td>A</td>\n",
              "      <td>26-2</td>\n",
              "      <td>major</td>\n",
              "    </tr>\n",
              "    <tr>\n",
              "      <th>2</th>\n",
              "      <td>2</td>\n",
              "      <td>0</td>\n",
              "      <td>3</td>\n",
              "      <td>B</td>\n",
              "      <td>26-2</td>\n",
              "      <td>major</td>\n",
              "    </tr>\n",
              "    <tr>\n",
              "      <th>3</th>\n",
              "      <td>3</td>\n",
              "      <td>0</td>\n",
              "      <td>4</td>\n",
              "      <td>A</td>\n",
              "      <td>26-2</td>\n",
              "      <td>major</td>\n",
              "    </tr>\n",
              "    <tr>\n",
              "      <th>4</th>\n",
              "      <td>4</td>\n",
              "      <td>1</td>\n",
              "      <td>0</td>\n",
              "      <td>NaN</td>\n",
              "      <td>500 Miles High</td>\n",
              "      <td>minor</td>\n",
              "    </tr>\n",
              "  </tbody>\n",
              "</table>\n",
              "</div>"
            ],
            "text/plain": [
              "   id  tune_id  section_id section_name           title tune_mode\n",
              "0   0        0           1            A            26-2     major\n",
              "1   1        0           2            A            26-2     major\n",
              "2   2        0           3            B            26-2     major\n",
              "3   3        0           4            A            26-2     major\n",
              "4   4        1           0          NaN  500 Miles High     minor"
            ]
          },
          "metadata": {},
          "execution_count": 20
        }
      ]
    },
    {
      "cell_type": "code",
      "metadata": {
        "id": "0vEOjvwt8jUu"
      },
      "source": [
        "titles_dict = titles.to_dict()\n",
        "\n",
        "sectionid_to_title = titles_dict['title']\n",
        "sectionid_to_titleid = titles_dict['tune_id']\n"
      ],
      "execution_count": 21,
      "outputs": []
    },
    {
      "cell_type": "code",
      "metadata": {
        "id": "Om7pbfnNGO_I"
      },
      "source": [
        "tunes = df.loc[:, ['tune_id', 'title']].drop_duplicates()\n",
        "tunes = tunes.set_index('tune_id').to_dict()\n",
        "titleid_to_title = tunes['title']"
      ],
      "execution_count": 22,
      "outputs": []
    },
    {
      "cell_type": "code",
      "metadata": {
        "id": "1H72Y3_d8uNu"
      },
      "source": [
        "titles_rows = titles.to_dict(orient='records')\n",
        "sectionid_to_section = []\n",
        "for i, row in enumerate(titles_rows):\n",
        "  name = f\"{row['title']}, section{row['section_id']} ({row['section_name']})\"\n",
        "  sectionid_to_section.append(name)\n",
        "  "
      ],
      "execution_count": 23,
      "outputs": []
    },
    {
      "cell_type": "code",
      "metadata": {
        "id": "HCeGUk818y8V"
      },
      "source": [
        "title_to_sectionid = {}\n",
        "\n",
        "for row in titles.iterrows():\n",
        "  title = row[1]['title']\n",
        "  if title not in title_to_sectionid:\n",
        "    title_to_sectionid[title] = [row[1]['id']]\n",
        "  else:\n",
        "    title_to_sectionid[title].append(row[1]['id'])"
      ],
      "execution_count": 24,
      "outputs": []
    },
    {
      "cell_type": "markdown",
      "metadata": {
        "id": "tHWe1mKVrF8O"
      },
      "source": [
        "### Test Data"
      ]
    },
    {
      "cell_type": "code",
      "metadata": {
        "id": "V0Bg0wJ7sBBk"
      },
      "source": [
        "tunes_eval_list = sorted(tunes_eval_list)"
      ],
      "execution_count": 25,
      "outputs": []
    },
    {
      "cell_type": "code",
      "metadata": {
        "id": "UE0AGDO_rFVo"
      },
      "source": [
        "#contrafacts_test = []\n",
        "#for reference, compare in contrafacts.items():\n",
        "#  contrafacts_test.append([title_to_sectionid[reference], title_to_sectionid[compare]])"
      ],
      "execution_count": 26,
      "outputs": []
    },
    {
      "cell_type": "markdown",
      "metadata": {
        "id": "LvQ60s_owm82"
      },
      "source": [
        "## Initialization for wandb variables"
      ]
    },
    {
      "cell_type": "code",
      "metadata": {
        "id": "fw7FHHXfwagL"
      },
      "source": [
        "recommender_results_cols = ['reference', 'id', 'method', 'similar', 'score_div_max', 'score']\n",
        "recommender_results = pd.DataFrame(columns=recommender_results_cols)"
      ],
      "execution_count": 27,
      "outputs": []
    },
    {
      "cell_type": "code",
      "metadata": {
        "id": "PfvF20G1JZMa"
      },
      "source": [
        "lsi_config = {\n",
        "    'num_topics': 200,\n",
        "}"
      ],
      "execution_count": 28,
      "outputs": []
    },
    {
      "cell_type": "code",
      "metadata": {
        "id": "eW2f6BdAJl01"
      },
      "source": [
        "doc2vec_config = {\n",
        "    'general': {\n",
        "        'chords_preprocessing': chords_preprocessing,\n",
        "        'chords_repeated': chords_repeated,\n",
        "        'document_tags': 'SectionsTunes',\n",
        "    },\n",
        "    'model': {\n",
        "        'dm': 1,\n",
        "        'vector_size': 100,\n",
        "        'window': 4,\n",
        "        'epochs': 40,\n",
        "        #'workers': 1,\n",
        "        'min_count': 1,\n",
        "        'negative': 10,\n",
        "        'sample': 0.001,\n",
        "        'seed': 42\n",
        "    }\n",
        "}"
      ],
      "execution_count": 29,
      "outputs": []
    },
    {
      "cell_type": "code",
      "metadata": {
        "colab": {
          "base_uri": "https://localhost:8080/",
          "height": 53
        },
        "id": "sxdJ97gdx70_",
        "outputId": "12cab441-d62c-4432-f60c-b14142c3f59a"
      },
      "source": [
        "if use_wandb:\n",
        "  wandb.init(\n",
        "        # Set entity to specify your username or team name\n",
        "        # ex: entity=\"carey\",\n",
        "        # Set the project where this run will be logged\n",
        "        project=\"jazztunes\", \n",
        "        \n",
        "        # Track hyperparameters and run metadata\n",
        "        config={\n",
        "            \"input_data\": \"https://docs.google.com/uc?export=download&id=17djlZRWFSUCviOxRTOF-nwbbZqU5gUP9\",\n",
        "            \"ngrams_input\": ngrams_for_input,\n",
        "            \"comparison\": \"sections\",\n",
        "            \"lsi\": lsi_config,\n",
        "            \"doc2vec\": doc2vec_config\n",
        "        }\n",
        "    )"
      ],
      "execution_count": 30,
      "outputs": [
        {
          "output_type": "stream",
          "name": "stderr",
          "text": [
            "\u001b[34m\u001b[1mwandb\u001b[0m: Currently logged in as: \u001b[33mdoris\u001b[0m (use `wandb login --relogin` to force relogin)\n"
          ]
        },
        {
          "output_type": "display_data",
          "data": {
            "text/html": [
              "\n",
              "                    Syncing run <strong><a href=\"https://wandb.ai/doris/jazztunes/runs/39mw1vb3\" target=\"_blank\">fine-universe-19</a></strong> to <a href=\"https://wandb.ai/doris/jazztunes\" target=\"_blank\">Weights & Biases</a> (<a href=\"https://docs.wandb.com/integrations/jupyter.html\" target=\"_blank\">docs</a>).<br/>\n",
              "\n",
              "                "
            ],
            "text/plain": [
              "<IPython.core.display.HTML object>"
            ]
          },
          "metadata": {}
        }
      ]
    },
    {
      "cell_type": "code",
      "metadata": {
        "id": "xHOY4TKYVN-g"
      },
      "source": [
        "if use_wandb:\n",
        "  artifact = wandb.Artifact('input_data', type='dataset')\n",
        "  artifact.add_file('data.csv')\n",
        "  wandb.log_artifact(artifact)"
      ],
      "execution_count": 31,
      "outputs": []
    },
    {
      "cell_type": "markdown",
      "metadata": {
        "id": "wox-dMcz84Bt"
      },
      "source": [
        "## Helpers functions"
      ]
    },
    {
      "cell_type": "code",
      "metadata": {
        "id": "2964REdr80Gd"
      },
      "source": [
        "def ngrams(tokens, n=2, sep='-'):\n",
        "    return [sep.join(ngram) for ngram in zip(*[tokens[i:] for i in range(n)])]"
      ],
      "execution_count": 32,
      "outputs": []
    },
    {
      "cell_type": "code",
      "metadata": {
        "id": "W42rugQPNYVP"
      },
      "source": [
        "def raw_chords_to_df(tunes):\n",
        "  tunes_chords = [item for tune in tunes for item in tune]\n",
        "  counts = Counter(tunes_chords)\n",
        "  df = pd.DataFrame(counts.items(),\n",
        "                    columns=['chord', 'count']).sort_values(by='count', ascending=False)\n",
        "\n",
        "  return df"
      ],
      "execution_count": 33,
      "outputs": []
    },
    {
      "cell_type": "markdown",
      "metadata": {
        "id": "umfsNtAdF0jM"
      },
      "source": [
        "# Data Preparation"
      ]
    },
    {
      "cell_type": "code",
      "metadata": {
        "id": "dCLwnqoVGcMw"
      },
      "source": [
        "lines = df.loc[:, 'chords'].tolist()\n",
        "data = [line.split(' ') for line in lines]"
      ],
      "execution_count": 34,
      "outputs": []
    },
    {
      "cell_type": "code",
      "metadata": {
        "colab": {
          "base_uri": "https://localhost:8080/"
        },
        "id": "g7SmApW9F3K6",
        "outputId": "e7a0b0b7-5e87-49c2-f785-5972395d0d61"
      },
      "source": [
        "processed_corpus = []\n",
        "for line in data:\n",
        "  tune_n = []\n",
        "  for n in ngrams_for_input:\n",
        "    tune_n.extend(ngrams(line, n=n))\n",
        "  processed_corpus.append(tune_n)\n",
        "\n",
        "for line in processed_corpus[:5]:\n",
        "  print(line)"
      ],
      "execution_count": 35,
      "outputs": [
        {
          "output_type": "stream",
          "name": "stdout",
          "text": [
            "['CM7-Eb7', 'Eb7-G#M7', 'G#M7-B7', 'B7-EM7', 'EM7-G7', 'G7-Gm7', 'Gm7-C7', 'C7-FM7', 'FM7-G#7', 'G#7-C#M7', 'C#M7-E7', 'E7-Am7', 'Am7-D7', 'D7-Dm7', 'Dm7-G7']\n",
            "['CM7-Eb7', 'Eb7-G#M7', 'G#M7-B7', 'B7-EM7', 'EM7-G7', 'G7-Gm7', 'Gm7-C7', 'C7-FM7', 'FM7-Eb7', 'Eb7-G#M7', 'G#M7-B7', 'B7-EM7', 'EM7-G7', 'G7-CM7']\n",
            "['Gm7-C7', 'C7-Bm7', 'Bm7-E7', 'E7-AM7', 'AM7-C7', 'C7-FM7', 'FM7-Bbm7', 'Bbm7-Eb7', 'Eb7-G#M7', 'G#M7-Dm7', 'Dm7-G7']\n",
            "['CM7-Eb7', 'Eb7-G#M7', 'G#M7-B7', 'B7-EM7', 'EM7-G7', 'G7-Gm7', 'Gm7-C7', 'C7-FM7', 'FM7-Eb7', 'Eb7-G#M7', 'G#M7-B7', 'B7-EM7', 'EM7-G7', 'G7-CM7']\n",
            "['Am7-Am7', 'Am7-Cm7', 'Cm7-Cm7', 'Cm7-EbM7', 'EbM7-EbM7', 'EbM7-Em7b5', 'Em7b5-A7', 'A7-Dm7', 'Dm7-Dm7', 'Dm7-Bm7b5', 'Bm7b5-Bm7b5', 'Bm7b5-Bbm7', 'Bbm7-Bbm7', 'Bbm7-Fm7', 'Fm7-Fm7', 'Fm7-E7', 'E7-E7', 'E7-Fm7', 'Fm7-Fm7', 'Fm7-C#M7', 'C#M7-C#M7', 'C#M7-Fm7', 'Fm7-Fm7', 'Fm7-C#M7', 'C#M7-C#M7']\n"
          ]
        }
      ]
    },
    {
      "cell_type": "markdown",
      "metadata": {
        "id": "Sri0K2DhNagp"
      },
      "source": [
        "#### Corpus Overview"
      ]
    },
    {
      "cell_type": "code",
      "metadata": {
        "colab": {
          "base_uri": "https://localhost:8080/"
        },
        "id": "X2ZqA7IF4ufg",
        "outputId": "f23dec28-e38e-4e70-d42e-730752dcc29d"
      },
      "source": [
        "tokens = [item for l in processed_corpus for item in l]\n",
        "total_tokens = len(tokens)\n",
        "vocab_size = len(set(tokens))\n",
        "vocab_prop = 100*vocab_size/total_tokens\n",
        "\n",
        "print(f\"Total Number of tokens: {total_tokens}\")\n",
        "print(f\"Size of vocabulary: {vocab_size}\")\n",
        "print(f\"Proportion of vocabulary in corpus: {vocab_prop:.02f}%\")"
      ],
      "execution_count": 36,
      "outputs": [
        {
          "output_type": "stream",
          "name": "stdout",
          "text": [
            "Total Number of tokens: 77231\n",
            "Size of vocabulary: 3750\n",
            "Proportion of vocabulary in corpus: 4.86%\n"
          ]
        }
      ]
    },
    {
      "cell_type": "code",
      "metadata": {
        "colab": {
          "base_uri": "https://localhost:8080/",
          "height": 424
        },
        "id": "rULq3jYVNh_x",
        "outputId": "0bdacd64-b4bc-4d8f-8439-4f09f6eebc42"
      },
      "source": [
        "df_chords = raw_chords_to_df(processed_corpus)\n",
        "df_chords"
      ],
      "execution_count": 37,
      "outputs": [
        {
          "output_type": "execute_result",
          "data": {
            "text/html": [
              "<div>\n",
              "<style scoped>\n",
              "    .dataframe tbody tr th:only-of-type {\n",
              "        vertical-align: middle;\n",
              "    }\n",
              "\n",
              "    .dataframe tbody tr th {\n",
              "        vertical-align: top;\n",
              "    }\n",
              "\n",
              "    .dataframe thead th {\n",
              "        text-align: right;\n",
              "    }\n",
              "</style>\n",
              "<table border=\"1\" class=\"dataframe\">\n",
              "  <thead>\n",
              "    <tr style=\"text-align: right;\">\n",
              "      <th></th>\n",
              "      <th>chord</th>\n",
              "      <th>count</th>\n",
              "    </tr>\n",
              "  </thead>\n",
              "  <tbody>\n",
              "    <tr>\n",
              "      <th>14</th>\n",
              "      <td>Dm7-G7</td>\n",
              "      <td>5136</td>\n",
              "    </tr>\n",
              "    <tr>\n",
              "      <th>61</th>\n",
              "      <td>G7-C</td>\n",
              "      <td>2024</td>\n",
              "    </tr>\n",
              "    <tr>\n",
              "      <th>465</th>\n",
              "      <td>C-C</td>\n",
              "      <td>1916</td>\n",
              "    </tr>\n",
              "    <tr>\n",
              "      <th>31</th>\n",
              "      <td>A7-Dm7</td>\n",
              "      <td>1823</td>\n",
              "    </tr>\n",
              "    <tr>\n",
              "      <th>16</th>\n",
              "      <td>G7-CM7</td>\n",
              "      <td>1760</td>\n",
              "    </tr>\n",
              "    <tr>\n",
              "      <th>...</th>\n",
              "      <td>...</td>\n",
              "      <td>...</td>\n",
              "    </tr>\n",
              "    <tr>\n",
              "      <th>2500</th>\n",
              "      <td>G#M7-Cm7</td>\n",
              "      <td>1</td>\n",
              "    </tr>\n",
              "    <tr>\n",
              "      <th>2498</th>\n",
              "      <td>AM7-Ebdim7</td>\n",
              "      <td>1</td>\n",
              "    </tr>\n",
              "    <tr>\n",
              "      <th>2496</th>\n",
              "      <td>Gm7-D</td>\n",
              "      <td>1</td>\n",
              "    </tr>\n",
              "    <tr>\n",
              "      <th>2491</th>\n",
              "      <td>Edim7-G7</td>\n",
              "      <td>1</td>\n",
              "    </tr>\n",
              "    <tr>\n",
              "      <th>3749</th>\n",
              "      <td>Em7-Cdim</td>\n",
              "      <td>1</td>\n",
              "    </tr>\n",
              "  </tbody>\n",
              "</table>\n",
              "<p>3750 rows × 2 columns</p>\n",
              "</div>"
            ],
            "text/plain": [
              "           chord  count\n",
              "14        Dm7-G7   5136\n",
              "61          G7-C   2024\n",
              "465          C-C   1916\n",
              "31        A7-Dm7   1823\n",
              "16        G7-CM7   1760\n",
              "...          ...    ...\n",
              "2500    G#M7-Cm7      1\n",
              "2498  AM7-Ebdim7      1\n",
              "2496       Gm7-D      1\n",
              "2491    Edim7-G7      1\n",
              "3749    Em7-Cdim      1\n",
              "\n",
              "[3750 rows x 2 columns]"
            ]
          },
          "metadata": {},
          "execution_count": 37
        }
      ]
    },
    {
      "cell_type": "code",
      "metadata": {
        "colab": {
          "base_uri": "https://localhost:8080/",
          "height": 560
        },
        "id": "G9fknTouNmKm",
        "outputId": "f88ca5d4-a49c-4c40-e648-bb1ee70ba4d7"
      },
      "source": [
        "df_chords = pd.DataFrame.from_dict(df_chords)\n",
        "df_chords.sort_values(by=['count'], ascending=False, inplace=True)\n",
        "df_chords_top = df_chords.query('count > 100')\n",
        "\n",
        "fig = px.bar(df_chords_top, x='chord', y='count', log_y=True)\n",
        "fig.update_layout(barmode='stack', xaxis={'categoryorder':'total descending'})\n",
        "fig.show()"
      ],
      "execution_count": 38,
      "outputs": [
        {
          "output_type": "stream",
          "name": "stderr",
          "text": [
            "2021-11-23 21:36:14,439 : INFO : NumExpr defaulting to 2 threads.\n"
          ]
        },
        {
          "output_type": "display_data",
          "data": {
            "text/html": [
              "<html>\n",
              "<head><meta charset=\"utf-8\" /></head>\n",
              "<body>\n",
              "    <div>\n",
              "            <script src=\"https://cdnjs.cloudflare.com/ajax/libs/mathjax/2.7.5/MathJax.js?config=TeX-AMS-MML_SVG\"></script><script type=\"text/javascript\">if (window.MathJax) {MathJax.Hub.Config({SVG: {font: \"STIX-Web\"}});}</script>\n",
              "                <script type=\"text/javascript\">window.PlotlyConfig = {MathJaxConfig: 'local'};</script>\n",
              "        <script src=\"https://cdn.plot.ly/plotly-latest.min.js\"></script>    \n",
              "            <div id=\"0d2d5d06-61ec-4d9b-a4c1-44d82261fdd7\" class=\"plotly-graph-div\" style=\"height:525px; width:100%;\"></div>\n",
              "            <script type=\"text/javascript\">\n",
              "                \n",
              "                    window.PLOTLYENV=window.PLOTLYENV || {};\n",
              "                    \n",
              "                if (document.getElementById(\"0d2d5d06-61ec-4d9b-a4c1-44d82261fdd7\")) {\n",
              "                    Plotly.newPlot(\n",
              "                        '0d2d5d06-61ec-4d9b-a4c1-44d82261fdd7',\n",
              "                        [{\"alignmentgroup\": \"True\", \"hoverlabel\": {\"namelength\": 0}, \"hovertemplate\": \"chord=%{x}<br>count=%{y}\", \"legendgroup\": \"\", \"marker\": {\"color\": \"#636efa\"}, \"name\": \"\", \"offsetgroup\": \"\", \"orientation\": \"v\", \"showlegend\": false, \"textposition\": \"auto\", \"type\": \"bar\", \"x\": [\"Dm7-G7\", \"G7-C\", \"C-C\", \"A7-Dm7\", \"G7-CM7\", \"D7-G7\", \"G7-G7\", \"G7-C6\", \"Em7-A7\", \"A7-D7\", \"Am7-D7\", \"Gm7-C7\", \"E7-Am7\", \"CM7-CM7\", \"Bm7b5-E7\", \"Am7-Dm7\", \"D7-D7\", \"C-G7\", \"C7-FM7\", \"D7-Dm7\", \"Am7-Am7\", \"C7-C7\", \"C7-F\", \"E7-Am\", \"C6-C6\", \"Em7b5-A7\", \"G7-Dm7\", \"C-C7\", \"A7-A7\", \"C-A7\", \"Fm7-Bb7\", \"G7-Em7\", \"Am-Am\", \"CM7-Dm7\", \"F-C\", \"Dm7-Dm7\", \"E7-A7\", \"CM7-Am7\", \"E7-E7\", \"C-F\", \"F-F\", \"G#7-G7\", \"CM7-A7\", \"G7-C7\", \"F#m7b5-B7\", \"C6-Dm7\", \"Ebdim7-Dm7\", \"Fm-C\", \"C7-F7\", \"Bb7-A7\", \"F#m7-B7\", \"Em7-Am7\", \"CM7-F7\", \"FM7-FM7\", \"B7-Em7\", \"F7-F7\", \"F7-E7\", \"FM7-Bb7\", \"C6-Am7\", \"C-E7\", \"Dm7b5-G7\", \"F-Fm\", \"A7-Dm\", \"G-C\", \"Dm7-Em7\", \"F7-Em7\", \"Bm7-E7\", \"CM7-G7\", \"C#dim7-Dm7\", \"Bb7-Em7\", \"B7-E7\", \"C-D7\", \"Bb7-CM7\", \"Ebm7-G#7\", \"CM7-C7\", \"CM7-Gm7\", \"C6-G7\", \"C6-A7\", \"Cm7-F7\", \"CM7-FM7\", \"Em7-Ebdim7\", \"C7-F6\", \"G#7-Dm7\", \"Am-E7\", \"G7-Gm7\", \"Bbm7-Eb7\", \"Eb7-G#M7\", \"Am7-F#m7b5\", \"FM7-Em7\", \"Dm-Dm\", \"CM7-C#dim7\", \"CM7-Em7\", \"C-G\", \"CM7-Bm7b5\", \"C-Am\", \"Am-D7\", \"C-Dm7\", \"CM7-E7\", \"Bb7-EbM7\", \"B7-Bb7\", \"Am7-Bm7b5\", \"Dm7-A7\", \"C6-C7\", \"F-F#dim\", \"FM7-Fm7\", \"B7-EM7\", \"F#dim-C\", \"Bb7-Am7\", \"D7-Am7\", \"C-Ebdim\", \"B7-B7\", \"Am7-E7\", \"F7-C7\", \"Ebdim-Dm7\", \"C6-F7\", \"CM7-C6\", \"C-Am7\"], \"xaxis\": \"x\", \"y\": [5136, 2024, 1916, 1823, 1760, 1516, 1471, 1321, 1231, 1030, 889, 862, 861, 836, 813, 781, 776, 696, 634, 615, 610, 604, 523, 488, 479, 438, 437, 433, 428, 420, 413, 413, 412, 396, 395, 384, 381, 369, 357, 353, 352, 327, 320, 316, 311, 306, 304, 276, 271, 268, 266, 265, 260, 258, 248, 244, 241, 233, 229, 226, 224, 222, 222, 219, 215, 214, 214, 213, 212, 203, 202, 201, 197, 197, 195, 191, 189, 178, 173, 171, 162, 157, 156, 151, 151, 150, 145, 145, 144, 144, 143, 139, 137, 133, 131, 130, 129, 129, 122, 121, 121, 120, 117, 114, 113, 112, 112, 111, 110, 110, 106, 104, 104, 104, 103, 103, 102], \"yaxis\": \"y\"}],\n",
              "                        {\"barmode\": \"stack\", \"legend\": {\"tracegroupgap\": 0}, \"margin\": {\"t\": 60}, \"template\": {\"data\": {\"bar\": [{\"error_x\": {\"color\": \"#2a3f5f\"}, \"error_y\": {\"color\": \"#2a3f5f\"}, \"marker\": {\"line\": {\"color\": \"#E5ECF6\", \"width\": 0.5}}, \"type\": \"bar\"}], \"barpolar\": [{\"marker\": {\"line\": {\"color\": \"#E5ECF6\", \"width\": 0.5}}, \"type\": \"barpolar\"}], \"carpet\": [{\"aaxis\": {\"endlinecolor\": \"#2a3f5f\", \"gridcolor\": \"white\", \"linecolor\": \"white\", \"minorgridcolor\": \"white\", \"startlinecolor\": \"#2a3f5f\"}, \"baxis\": {\"endlinecolor\": \"#2a3f5f\", \"gridcolor\": \"white\", \"linecolor\": \"white\", \"minorgridcolor\": \"white\", \"startlinecolor\": \"#2a3f5f\"}, \"type\": \"carpet\"}], \"choropleth\": [{\"colorbar\": {\"outlinewidth\": 0, \"ticks\": \"\"}, \"type\": \"choropleth\"}], \"contour\": [{\"colorbar\": {\"outlinewidth\": 0, \"ticks\": \"\"}, \"colorscale\": [[0.0, \"#0d0887\"], [0.1111111111111111, \"#46039f\"], [0.2222222222222222, \"#7201a8\"], [0.3333333333333333, \"#9c179e\"], [0.4444444444444444, \"#bd3786\"], [0.5555555555555556, \"#d8576b\"], [0.6666666666666666, \"#ed7953\"], [0.7777777777777778, \"#fb9f3a\"], [0.8888888888888888, \"#fdca26\"], [1.0, \"#f0f921\"]], \"type\": \"contour\"}], \"contourcarpet\": [{\"colorbar\": {\"outlinewidth\": 0, \"ticks\": \"\"}, \"type\": \"contourcarpet\"}], \"heatmap\": [{\"colorbar\": {\"outlinewidth\": 0, \"ticks\": \"\"}, \"colorscale\": [[0.0, \"#0d0887\"], [0.1111111111111111, \"#46039f\"], [0.2222222222222222, \"#7201a8\"], [0.3333333333333333, \"#9c179e\"], [0.4444444444444444, \"#bd3786\"], [0.5555555555555556, \"#d8576b\"], [0.6666666666666666, \"#ed7953\"], [0.7777777777777778, \"#fb9f3a\"], [0.8888888888888888, \"#fdca26\"], [1.0, \"#f0f921\"]], \"type\": \"heatmap\"}], \"heatmapgl\": [{\"colorbar\": {\"outlinewidth\": 0, \"ticks\": \"\"}, \"colorscale\": [[0.0, \"#0d0887\"], [0.1111111111111111, \"#46039f\"], [0.2222222222222222, \"#7201a8\"], [0.3333333333333333, \"#9c179e\"], [0.4444444444444444, \"#bd3786\"], [0.5555555555555556, \"#d8576b\"], [0.6666666666666666, \"#ed7953\"], [0.7777777777777778, \"#fb9f3a\"], [0.8888888888888888, \"#fdca26\"], [1.0, \"#f0f921\"]], \"type\": \"heatmapgl\"}], \"histogram\": [{\"marker\": {\"colorbar\": {\"outlinewidth\": 0, \"ticks\": \"\"}}, \"type\": \"histogram\"}], \"histogram2d\": [{\"colorbar\": {\"outlinewidth\": 0, \"ticks\": \"\"}, \"colorscale\": [[0.0, \"#0d0887\"], [0.1111111111111111, \"#46039f\"], [0.2222222222222222, \"#7201a8\"], [0.3333333333333333, \"#9c179e\"], [0.4444444444444444, \"#bd3786\"], [0.5555555555555556, \"#d8576b\"], [0.6666666666666666, \"#ed7953\"], [0.7777777777777778, \"#fb9f3a\"], [0.8888888888888888, \"#fdca26\"], [1.0, \"#f0f921\"]], \"type\": \"histogram2d\"}], \"histogram2dcontour\": [{\"colorbar\": {\"outlinewidth\": 0, \"ticks\": \"\"}, \"colorscale\": [[0.0, \"#0d0887\"], [0.1111111111111111, \"#46039f\"], [0.2222222222222222, \"#7201a8\"], [0.3333333333333333, \"#9c179e\"], [0.4444444444444444, \"#bd3786\"], [0.5555555555555556, \"#d8576b\"], [0.6666666666666666, \"#ed7953\"], [0.7777777777777778, \"#fb9f3a\"], [0.8888888888888888, \"#fdca26\"], [1.0, \"#f0f921\"]], \"type\": \"histogram2dcontour\"}], \"mesh3d\": [{\"colorbar\": {\"outlinewidth\": 0, \"ticks\": \"\"}, \"type\": \"mesh3d\"}], \"parcoords\": [{\"line\": {\"colorbar\": {\"outlinewidth\": 0, \"ticks\": \"\"}}, \"type\": \"parcoords\"}], \"pie\": [{\"automargin\": true, \"type\": \"pie\"}], \"scatter\": [{\"marker\": {\"colorbar\": {\"outlinewidth\": 0, \"ticks\": \"\"}}, \"type\": \"scatter\"}], \"scatter3d\": [{\"line\": {\"colorbar\": {\"outlinewidth\": 0, \"ticks\": \"\"}}, \"marker\": {\"colorbar\": {\"outlinewidth\": 0, \"ticks\": \"\"}}, \"type\": \"scatter3d\"}], \"scattercarpet\": [{\"marker\": {\"colorbar\": {\"outlinewidth\": 0, \"ticks\": \"\"}}, \"type\": \"scattercarpet\"}], \"scattergeo\": [{\"marker\": {\"colorbar\": {\"outlinewidth\": 0, \"ticks\": \"\"}}, \"type\": \"scattergeo\"}], \"scattergl\": [{\"marker\": {\"colorbar\": {\"outlinewidth\": 0, \"ticks\": \"\"}}, \"type\": \"scattergl\"}], \"scattermapbox\": [{\"marker\": {\"colorbar\": {\"outlinewidth\": 0, \"ticks\": \"\"}}, \"type\": \"scattermapbox\"}], \"scatterpolar\": [{\"marker\": {\"colorbar\": {\"outlinewidth\": 0, \"ticks\": \"\"}}, \"type\": \"scatterpolar\"}], \"scatterpolargl\": [{\"marker\": {\"colorbar\": {\"outlinewidth\": 0, \"ticks\": \"\"}}, \"type\": \"scatterpolargl\"}], \"scatterternary\": [{\"marker\": {\"colorbar\": {\"outlinewidth\": 0, \"ticks\": \"\"}}, \"type\": \"scatterternary\"}], \"surface\": [{\"colorbar\": {\"outlinewidth\": 0, \"ticks\": \"\"}, \"colorscale\": [[0.0, \"#0d0887\"], [0.1111111111111111, \"#46039f\"], [0.2222222222222222, \"#7201a8\"], [0.3333333333333333, \"#9c179e\"], [0.4444444444444444, \"#bd3786\"], [0.5555555555555556, \"#d8576b\"], [0.6666666666666666, \"#ed7953\"], [0.7777777777777778, \"#fb9f3a\"], [0.8888888888888888, \"#fdca26\"], [1.0, \"#f0f921\"]], \"type\": \"surface\"}], \"table\": [{\"cells\": {\"fill\": {\"color\": \"#EBF0F8\"}, \"line\": {\"color\": \"white\"}}, \"header\": {\"fill\": {\"color\": \"#C8D4E3\"}, \"line\": {\"color\": \"white\"}}, \"type\": \"table\"}]}, \"layout\": {\"annotationdefaults\": {\"arrowcolor\": \"#2a3f5f\", \"arrowhead\": 0, \"arrowwidth\": 1}, \"coloraxis\": {\"colorbar\": {\"outlinewidth\": 0, \"ticks\": \"\"}}, \"colorscale\": {\"diverging\": [[0, \"#8e0152\"], [0.1, \"#c51b7d\"], [0.2, \"#de77ae\"], [0.3, \"#f1b6da\"], [0.4, \"#fde0ef\"], [0.5, \"#f7f7f7\"], [0.6, \"#e6f5d0\"], [0.7, \"#b8e186\"], [0.8, \"#7fbc41\"], [0.9, \"#4d9221\"], [1, \"#276419\"]], \"sequential\": [[0.0, \"#0d0887\"], [0.1111111111111111, \"#46039f\"], [0.2222222222222222, \"#7201a8\"], [0.3333333333333333, \"#9c179e\"], [0.4444444444444444, \"#bd3786\"], [0.5555555555555556, \"#d8576b\"], [0.6666666666666666, \"#ed7953\"], [0.7777777777777778, \"#fb9f3a\"], [0.8888888888888888, \"#fdca26\"], [1.0, \"#f0f921\"]], \"sequentialminus\": [[0.0, \"#0d0887\"], [0.1111111111111111, \"#46039f\"], [0.2222222222222222, \"#7201a8\"], [0.3333333333333333, \"#9c179e\"], [0.4444444444444444, \"#bd3786\"], [0.5555555555555556, \"#d8576b\"], [0.6666666666666666, \"#ed7953\"], [0.7777777777777778, \"#fb9f3a\"], [0.8888888888888888, \"#fdca26\"], [1.0, \"#f0f921\"]]}, \"colorway\": [\"#636efa\", \"#EF553B\", \"#00cc96\", \"#ab63fa\", \"#FFA15A\", \"#19d3f3\", \"#FF6692\", \"#B6E880\", \"#FF97FF\", \"#FECB52\"], \"font\": {\"color\": \"#2a3f5f\"}, \"geo\": {\"bgcolor\": \"white\", \"lakecolor\": \"white\", \"landcolor\": \"#E5ECF6\", \"showlakes\": true, \"showland\": true, \"subunitcolor\": \"white\"}, \"hoverlabel\": {\"align\": \"left\"}, \"hovermode\": \"closest\", \"mapbox\": {\"style\": \"light\"}, \"paper_bgcolor\": \"white\", \"plot_bgcolor\": \"#E5ECF6\", \"polar\": {\"angularaxis\": {\"gridcolor\": \"white\", \"linecolor\": \"white\", \"ticks\": \"\"}, \"bgcolor\": \"#E5ECF6\", \"radialaxis\": {\"gridcolor\": \"white\", \"linecolor\": \"white\", \"ticks\": \"\"}}, \"scene\": {\"xaxis\": {\"backgroundcolor\": \"#E5ECF6\", \"gridcolor\": \"white\", \"gridwidth\": 2, \"linecolor\": \"white\", \"showbackground\": true, \"ticks\": \"\", \"zerolinecolor\": \"white\"}, \"yaxis\": {\"backgroundcolor\": \"#E5ECF6\", \"gridcolor\": \"white\", \"gridwidth\": 2, \"linecolor\": \"white\", \"showbackground\": true, \"ticks\": \"\", \"zerolinecolor\": \"white\"}, \"zaxis\": {\"backgroundcolor\": \"#E5ECF6\", \"gridcolor\": \"white\", \"gridwidth\": 2, \"linecolor\": \"white\", \"showbackground\": true, \"ticks\": \"\", \"zerolinecolor\": \"white\"}}, \"shapedefaults\": {\"line\": {\"color\": \"#2a3f5f\"}}, \"ternary\": {\"aaxis\": {\"gridcolor\": \"white\", \"linecolor\": \"white\", \"ticks\": \"\"}, \"baxis\": {\"gridcolor\": \"white\", \"linecolor\": \"white\", \"ticks\": \"\"}, \"bgcolor\": \"#E5ECF6\", \"caxis\": {\"gridcolor\": \"white\", \"linecolor\": \"white\", \"ticks\": \"\"}}, \"title\": {\"x\": 0.05}, \"xaxis\": {\"automargin\": true, \"gridcolor\": \"white\", \"linecolor\": \"white\", \"ticks\": \"\", \"title\": {\"standoff\": 15}, \"zerolinecolor\": \"white\", \"zerolinewidth\": 2}, \"yaxis\": {\"automargin\": true, \"gridcolor\": \"white\", \"linecolor\": \"white\", \"ticks\": \"\", \"title\": {\"standoff\": 15}, \"zerolinecolor\": \"white\", \"zerolinewidth\": 2}}}, \"xaxis\": {\"anchor\": \"y\", \"categoryorder\": \"total descending\", \"domain\": [0.0, 1.0], \"title\": {\"text\": \"chord\"}}, \"yaxis\": {\"anchor\": \"x\", \"domain\": [0.0, 1.0], \"title\": {\"text\": \"count\"}, \"type\": \"log\"}},\n",
              "                        {\"responsive\": true}\n",
              "                    ).then(function(){\n",
              "                            \n",
              "var gd = document.getElementById('0d2d5d06-61ec-4d9b-a4c1-44d82261fdd7');\n",
              "var x = new MutationObserver(function (mutations, observer) {{\n",
              "        var display = window.getComputedStyle(gd).display;\n",
              "        if (!display || display === 'none') {{\n",
              "            console.log([gd, 'removed!']);\n",
              "            Plotly.purge(gd);\n",
              "            observer.disconnect();\n",
              "        }}\n",
              "}});\n",
              "\n",
              "// Listen for the removal of the full notebook cells\n",
              "var notebookContainer = gd.closest('#notebook-container');\n",
              "if (notebookContainer) {{\n",
              "    x.observe(notebookContainer, {childList: true});\n",
              "}}\n",
              "\n",
              "// Listen for the clearing of the current output cell\n",
              "var outputEl = gd.closest('.output');\n",
              "if (outputEl) {{\n",
              "    x.observe(outputEl, {childList: true});\n",
              "}}\n",
              "\n",
              "                        })\n",
              "                };\n",
              "                \n",
              "            </script>\n",
              "        </div>\n",
              "</body>\n",
              "</html>"
            ]
          },
          "metadata": {}
        }
      ]
    },
    {
      "cell_type": "markdown",
      "metadata": {
        "id": "cG5dtDpkWwLE"
      },
      "source": [
        "Plot Distribution accoring to Zipf's Law\n",
        "\n",
        "source: https://stats.stackexchange.com/questions/331219/characterizing-fitting-word-count-data-into-zipf-power-law-lognormal"
      ]
    },
    {
      "cell_type": "code",
      "metadata": {
        "id": "tazf9QRST5NP"
      },
      "source": [
        "from collections import Counter\n",
        "\n",
        "counter_of_words = df_chords.set_index('chord').to_dict(orient='dict')\n",
        "counter_of_words = Counter(counter_of_words['count'])\n",
        "counter_of_counts = Counter(counter_of_words.values())\n",
        "\n",
        "word_counts = np.array(list(counter_of_counts.keys()))\n",
        "freq_of_word_counts = np.array(list(counter_of_counts.values()))"
      ],
      "execution_count": 39,
      "outputs": []
    },
    {
      "cell_type": "code",
      "metadata": {
        "colab": {
          "base_uri": "https://localhost:8080/",
          "height": 295
        },
        "id": "Jc80DSe7QlkV",
        "outputId": "d029ca34-3948-4f9f-d562-96725327c382"
      },
      "source": [
        "plt.scatter(np.log(word_counts), np.log(freq_of_word_counts))\n",
        "plt.xlabel('Log of word frequency')\n",
        "plt.ylabel('Log of number of such words')\n",
        "plt.title('Power law for word frequencies')\n",
        "\n",
        "plt.savefig('plot.png')"
      ],
      "execution_count": 40,
      "outputs": [
        {
          "output_type": "display_data",
          "data": {
            "image/png": "[encoded data removed]",
            "text/plain": [
              "<Figure size 432x288 with 1 Axes>"
            ]
          },
          "metadata": {
            "needs_background": "light"
          }
        }
      ]
    },
    {
      "cell_type": "code",
      "metadata": {
        "colab": {
          "base_uri": "https://localhost:8080/"
        },
        "id": "TRQxnw3XXfit",
        "outputId": "021c3a10-eed4-4325-efbd-ed077117dfb7"
      },
      "source": [
        "def neg_zipf_likelihood(s):\n",
        "    n = sum(freq_of_word_counts)\n",
        "    # for each word count, find the probability that a random word has such word count\n",
        "    probas = word_counts ** (-s) / np.sum(np.arange(1, n+1) **(-s))\n",
        "    log_likelihood = sum(np.log(probas) * word_counts)\n",
        "    return -log_likelihood\n",
        "\n",
        "from scipy.optimize import minimize_scalar\n",
        "s_best = minimize_scalar(neg_zipf_likelihood, [0.1, 3.0] )\n",
        "print(s_best.x)"
      ],
      "execution_count": 41,
      "outputs": [
        {
          "output_type": "stream",
          "name": "stdout",
          "text": [
            "0.471675518523981\n"
          ]
        }
      ]
    },
    {
      "cell_type": "code",
      "metadata": {
        "id": "a1IvM4wh7zOv"
      },
      "source": [
        "if use_wandb:\n",
        "  wandb.log(\n",
        "      {\"corpus\": {\n",
        "              \"total_tokens\": total_tokens,\n",
        "              \"vocab_size\": vocab_size,\n",
        "              \"vocab_proportion_in_corpus\": vocab_prop,\n",
        "              \"zipf_plot\": wandb.Image('plot.png'),\n",
        "              }\n",
        "      }\n",
        "  )"
      ],
      "execution_count": 42,
      "outputs": []
    },
    {
      "cell_type": "markdown",
      "metadata": {
        "id": "LeRGFeTn89Uc"
      },
      "source": [
        "# TF-IDF"
      ]
    },
    {
      "cell_type": "code",
      "metadata": {
        "colab": {
          "base_uri": "https://localhost:8080/"
        },
        "id": "pBdUdBNr9Gmu",
        "outputId": "63cf9e8a-90bc-4d73-abc7-2e89eecf15a3"
      },
      "source": [
        "dictionary = corpora.Dictionary(processed_corpus)\n",
        "bow_corpus = [dictionary.doc2bow(text) for text in processed_corpus]\n",
        "tfidf = TfidfModel(bow_corpus)"
      ],
      "execution_count": 43,
      "outputs": [
        {
          "output_type": "stream",
          "name": "stderr",
          "text": [
            "2021-11-23 21:36:15,653 : INFO : adding document #0 to Dictionary(0 unique tokens: [])\n",
            "2021-11-23 21:36:15,818 : INFO : built Dictionary(3750 unique tokens: ['Am7-D7', 'B7-EM7', 'C#M7-E7', 'C7-FM7', 'CM7-Eb7']...) from 5391 documents (total 77231 corpus positions)\n",
            "2021-11-23 21:36:15,820 : INFO : Dictionary lifecycle event {'msg': \"built Dictionary(3750 unique tokens: ['Am7-D7', 'B7-EM7', 'C#M7-E7', 'C7-FM7', 'CM7-Eb7']...) from 5391 documents (total 77231 corpus positions)\", 'datetime': '2021-11-23T21:36:15.820533', 'gensim': '4.1.2', 'python': '3.7.12 (default, Sep 10 2021, 00:21:48) \\n[GCC 7.5.0]', 'platform': 'Linux-5.4.104+-x86_64-with-Ubuntu-18.04-bionic', 'event': 'created'}\n",
            "2021-11-23 21:36:15,891 : INFO : collecting document frequencies\n",
            "2021-11-23 21:36:15,893 : INFO : PROGRESS: processing document #0\n",
            "2021-11-23 21:36:15,921 : INFO : TfidfModel lifecycle event {'msg': 'calculated IDF weights for 5391 documents and 3750 features (58273 matrix non-zeros)', 'datetime': '2021-11-23T21:36:15.921754', 'gensim': '4.1.2', 'python': '3.7.12 (default, Sep 10 2021, 00:21:48) \\n[GCC 7.5.0]', 'platform': 'Linux-5.4.104+-x86_64-with-Ubuntu-18.04-bionic', 'event': 'initialize'}\n"
          ]
        }
      ]
    },
    {
      "cell_type": "code",
      "metadata": {
        "id": "9NK-cuax9Kqk"
      },
      "source": [
        "# dictionary.token2id"
      ],
      "execution_count": 44,
      "outputs": []
    },
    {
      "cell_type": "code",
      "metadata": {
        "id": "til5xlce_y1m"
      },
      "source": [
        "!rm -R index\n",
        "!mkdir index"
      ],
      "execution_count": 45,
      "outputs": []
    },
    {
      "cell_type": "code",
      "metadata": {
        "colab": {
          "base_uri": "https://localhost:8080/"
        },
        "id": "tn_fz2M090IM",
        "outputId": "79075d35-38dc-431a-8b5c-96ee58073c2b"
      },
      "source": [
        "# Note: SparseMatrixSimilarity crashes due to lacking memory\n",
        "#from gensim.test.utils import get_tmpfile\n",
        "#index_tmpfile = get_tmpfile(\"index\")\n",
        "#index_tfidf = similarities.Similarity('/content/index/index_tfidf', bow_corpus, num_features=len(dictionary))\n",
        "\n",
        "index_tfidf = similarities.SparseMatrixSimilarity(tfidf[bow_corpus], num_features = len(dictionary))"
      ],
      "execution_count": 46,
      "outputs": [
        {
          "output_type": "stream",
          "name": "stderr",
          "text": [
            "2021-11-23 21:36:16,216 : INFO : creating sparse index\n",
            "2021-11-23 21:36:16,218 : INFO : creating sparse matrix from corpus\n",
            "2021-11-23 21:36:16,222 : INFO : PROGRESS: at document #0\n",
            "2021-11-23 21:36:16,736 : INFO : created <5391x3750 sparse matrix of type '<class 'numpy.float32'>'\n",
            "\twith 58273 stored elements in Compressed Sparse Row format>\n"
          ]
        }
      ]
    },
    {
      "cell_type": "code",
      "metadata": {
        "colab": {
          "base_uri": "https://localhost:8080/"
        },
        "id": "VRSUXNPTewqv",
        "outputId": "c73f82a7-bee9-4c1c-8eba-fc02bf1d0a89"
      },
      "source": [
        "tfidf.save('/content/index/tfidf.model')  # save model\n",
        "index_tfidf.save('/content/index/tfidf.index') #save index"
      ],
      "execution_count": 47,
      "outputs": [
        {
          "output_type": "stream",
          "name": "stderr",
          "text": [
            "2021-11-23 21:36:16,754 : INFO : TfidfModel lifecycle event {'fname_or_handle': '/content/index/tfidf.model', 'separately': 'None', 'sep_limit': 10485760, 'ignore': frozenset(), 'datetime': '2021-11-23T21:36:16.754822', 'gensim': '4.1.2', 'python': '3.7.12 (default, Sep 10 2021, 00:21:48) \\n[GCC 7.5.0]', 'platform': 'Linux-5.4.104+-x86_64-with-Ubuntu-18.04-bionic', 'event': 'saving'}\n",
            "2021-11-23 21:36:16,773 : INFO : saved /content/index/tfidf.model\n",
            "2021-11-23 21:36:16,776 : INFO : SparseMatrixSimilarity lifecycle event {'fname_or_handle': '/content/index/tfidf.index', 'separately': 'None', 'sep_limit': 10485760, 'ignore': frozenset(), 'datetime': '2021-11-23T21:36:16.775953', 'gensim': '4.1.2', 'python': '3.7.12 (default, Sep 10 2021, 00:21:48) \\n[GCC 7.5.0]', 'platform': 'Linux-5.4.104+-x86_64-with-Ubuntu-18.04-bionic', 'event': 'saving'}\n",
            "2021-11-23 21:36:16,781 : INFO : saved /content/index/tfidf.index\n"
          ]
        }
      ]
    },
    {
      "cell_type": "markdown",
      "metadata": {
        "id": "ZLK0coIu9Tv5"
      },
      "source": [
        "## Tests"
      ]
    },
    {
      "cell_type": "markdown",
      "metadata": {
        "id": "S4RKQCihX02Q"
      },
      "source": [
        "### Single Tunes"
      ]
    },
    {
      "cell_type": "code",
      "metadata": {
        "id": "Fzrj1qxwDpJT"
      },
      "source": [
        "def get_sim_scores(tunes, index, model):\n",
        "\n",
        "    df_sim = pd.DataFrame(columns=['reference_title',\n",
        "                                  'similar_title',\n",
        "                                  'ref_section', \n",
        "                                  'similar_section', \n",
        "                                  'score', \n",
        "                                  ])\n",
        "\n",
        "    for tune in tunes:\n",
        "      print()\n",
        "      print(\"-\"*50)\n",
        "      for s1 in title_to_sectionid[tune]:\n",
        "      \n",
        "          query = processed_corpus[s1]\n",
        "          query_bow = dictionary.doc2bow(query)\n",
        "\n",
        "          # perform a similarity query against the corpus\n",
        "          similarities = index[model[query_bow]]\n",
        "          sims = sorted(enumerate(similarities), key=lambda item: -item[1])\n",
        "          \n",
        "          print(s1, sectionid_to_section[s1])\n",
        "          n = 0\n",
        "          for s2, s2_score in sims:\n",
        "            \n",
        "            # store the top N best results\n",
        "            if n > 40:\n",
        "                break\n",
        "            # don't count self-similarity between sections of the same tune\n",
        "            if s2 not in title_to_sectionid[tune]:\n",
        "                n += 1\n",
        "            \n",
        "                # print(f\"\\t{s2_score:.3f} {sectionid_to_section[s2]}\")\n",
        "\n",
        "                df_sim.loc[len(df_sim)] = [tune,\n",
        "                                sectionid_to_title[s2],\n",
        "                                sectionid_to_section[s1], \n",
        "                                sectionid_to_section[s2], \n",
        "                                s2_score, \n",
        "                                ]\n",
        "    return df_sim"
      ],
      "execution_count": 48,
      "outputs": []
    },
    {
      "cell_type": "code",
      "metadata": {
        "colab": {
          "base_uri": "https://localhost:8080/"
        },
        "id": "5Wz4ZQk_EKZy",
        "outputId": "185ae872-a305-42dc-f73e-c0b51f103aa3"
      },
      "source": [
        "%%time\n",
        "df_sim = get_sim_scores(tunes_eval_list, index_tfidf, tfidf)\n",
        "df_tfidf = df_sim[:]"
      ],
      "execution_count": 49,
      "outputs": [
        {
          "output_type": "stream",
          "name": "stdout",
          "text": [
            "\n",
            "--------------------------------------------------\n",
            "125 After You've Gone, section1 (A)\n",
            "126 After You've Gone, section2 (B)\n",
            "127 After You've Gone, section3 (A)\n",
            "128 After You've Gone, section4 (C)\n",
            "\n",
            "--------------------------------------------------\n",
            "188 All God's Chillun Got Rhythm, section1 (A)\n",
            "189 All God's Chillun Got Rhythm, section2 (B)\n",
            "190 All God's Chillun Got Rhythm, section3 (A)\n",
            "191 All God's Chillun Got Rhythm, section4 (C)\n",
            "\n",
            "--------------------------------------------------\n",
            "198 All Of Me, section1 (A)\n",
            "199 All Of Me, section2 (B)\n",
            "200 All Of Me, section3 (A)\n",
            "201 All Of Me, section4 (C)\n",
            "\n",
            "--------------------------------------------------\n",
            "474 Blood Count, section1 (A)\n",
            "475 Blood Count, section2 (A)\n",
            "476 Blood Count, section3 (B)\n",
            "477 Blood Count, section4 (A)\n",
            "478 Blood Count, section5 (C)\n",
            "\n",
            "--------------------------------------------------\n",
            "496 Blue Moon, section1 (A)\n",
            "497 Blue Moon, section2 (A)\n",
            "498 Blue Moon, section3 (B)\n",
            "499 Blue Moon, section4 (A)\n",
            "\n",
            "--------------------------------------------------\n",
            "626 But Beautiful, section1 (A)\n",
            "627 But Beautiful, section2 (B)\n",
            "628 But Beautiful, section3 (A)\n",
            "629 But Beautiful, section4 (C)\n",
            "\n",
            "--------------------------------------------------\n",
            "653 Bye Bye Blackbird, section1 (A)\n",
            "654 Bye Bye Blackbird, section2 (B)\n",
            "4559 Bye Bye Blackbird, section1 (A)\n",
            "\n",
            "--------------------------------------------------\n",
            "676 Call Me Irresponsible, section1 (A)\n",
            "677 Call Me Irresponsible, section2 (B)\n",
            "678 Call Me Irresponsible, section3 (A)\n",
            "679 Call Me Irresponsible, section4 (B)\n",
            "\n",
            "--------------------------------------------------\n",
            "826 Corcovado, section1 (A)\n",
            "827 Corcovado, section2 (B)\n",
            "828 Corcovado, section3 (A)\n",
            "829 Corcovado, section4 (C)\n",
            "\n",
            "--------------------------------------------------\n",
            "997 Dinah, section1 (A)\n",
            "998 Dinah, section2 (A)\n",
            "999 Dinah, section3 (B)\n",
            "1000 Dinah, section4 (A)\n",
            "\n",
            "--------------------------------------------------\n",
            "1125 East Of The Sun, section1 (A)\n",
            "1126 East Of The Sun, section2 (B)\n",
            "1127 East Of The Sun, section3 (A)\n",
            "1128 East Of The Sun, section4 (C)\n",
            "\n",
            "--------------------------------------------------\n",
            "1287 Footprints, section0 (nan)\n",
            "\n",
            "--------------------------------------------------\n",
            "1379 Giant Steps, section0 (nan)\n",
            "\n",
            "--------------------------------------------------\n",
            "1538 Honeysuckle Rose, section1 (A)\n",
            "1539 Honeysuckle Rose, section2 (A)\n",
            "1540 Honeysuckle Rose, section3 (B)\n",
            "1541 Honeysuckle Rose, section4 (A)\n",
            "4781 Honeysuckle Rose, section1 (A)\n",
            "4782 Honeysuckle Rose, section2 (A)\n",
            "4783 Honeysuckle Rose, section3 (B)\n",
            "4784 Honeysuckle Rose, section4 (A)\n",
            "\n",
            "--------------------------------------------------\n",
            "1647 I Got Rhythm, section1 (A)\n",
            "1648 I Got Rhythm, section2 (A)\n",
            "1649 I Got Rhythm, section3 (B)\n",
            "1650 I Got Rhythm, section4 (A)\n",
            "4809 I Got Rhythm, section1 (A)\n",
            "4810 I Got Rhythm, section2 (A)\n",
            "4811 I Got Rhythm, section3 (B)\n",
            "4812 I Got Rhythm, section4 (A)\n",
            "\n",
            "--------------------------------------------------\n",
            "2670 Misty, section1 (A)\n",
            "2671 Misty, section2 (A)\n",
            "2672 Misty, section3 (B)\n",
            "2673 Misty, section4 (A)\n",
            "\n",
            "--------------------------------------------------\n",
            "2857 Naima, section1 (A)\n",
            "2858 Naima, section2 (A)\n",
            "2859 Naima, section3 (B)\n",
            "2860 Naima, section4 (A)\n",
            "\n",
            "--------------------------------------------------\n",
            "5044 Old Fashioned Love, section0 (nan)\n",
            "\n",
            "--------------------------------------------------\n",
            "3142 Perdido, section1 (A)\n",
            "3143 Perdido, section2 (A)\n",
            "3144 Perdido, section3 (B)\n",
            "3145 Perdido, section4 (A)\n",
            "\n",
            "--------------------------------------------------\n",
            "3276 Rockin' Chair, section1 (A)\n",
            "3277 Rockin' Chair, section2 (B)\n",
            "3278 Rockin' Chair, section3 (A)\n",
            "5110 Rockin' Chair, section1 (A)\n",
            "5111 Rockin' Chair, section2 (B)\n",
            "5112 Rockin' Chair, section3 (A)\n",
            "\n",
            "--------------------------------------------------\n",
            "3578 Sophisticated Lady, section1 (A)\n",
            "3579 Sophisticated Lady, section2 (A)\n",
            "3580 Sophisticated Lady, section3 (B)\n",
            "3581 Sophisticated Lady, section4 (A)\n",
            "\n",
            "--------------------------------------------------\n",
            "3746 Sweet Sue, Just You, section1 (A)\n",
            "3747 Sweet Sue, Just You, section2 (A)\n",
            "3748 Sweet Sue, Just You, section3 (B)\n",
            "3749 Sweet Sue, Just You, section4 (A)\n",
            "\n",
            "--------------------------------------------------\n",
            "3860 These Foolish Things, section1 (A)\n",
            "3861 These Foolish Things, section2 (A)\n",
            "3862 These Foolish Things, section3 (B)\n",
            "3863 These Foolish Things, section4 (A)\n",
            "\n",
            "--------------------------------------------------\n",
            "4146 We'll Be Together Again, section1 (A)\n",
            "4147 We'll Be Together Again, section2 (A)\n",
            "4148 We'll Be Together Again, section3 (B)\n",
            "4149 We'll Be Together Again, section4 (A)\n",
            "CPU times: user 16.3 s, sys: 377 ms, total: 16.7 s\n",
            "Wall time: 16.4 s\n"
          ]
        }
      ]
    },
    {
      "cell_type": "code",
      "metadata": {
        "colab": {
          "base_uri": "https://localhost:8080/",
          "height": 542
        },
        "id": "yzRuIKVh9c8g",
        "outputId": "0327b552-7b8f-4e37-f672-fe68d19a380d"
      },
      "source": [
        "import plotly.express as px\n",
        "fig = px.histogram(df_sim, x=\"score\", nbins=50, title='Scores for TF-IDF')\n",
        "fig.show()"
      ],
      "execution_count": 50,
      "outputs": [
        {
          "output_type": "display_data",
          "data": {
            "text/html": [
              "<html>\n",
              "<head><meta charset=\"utf-8\" /></head>\n",
              "<body>\n",
              "    <div>\n",
              "            <script src=\"https://cdnjs.cloudflare.com/ajax/libs/mathjax/2.7.5/MathJax.js?config=TeX-AMS-MML_SVG\"></script><script type=\"text/javascript\">if (window.MathJax) {MathJax.Hub.Config({SVG: {font: \"STIX-Web\"}});}</script>\n",
              "                <script type=\"text/javascript\">window.PlotlyConfig = {MathJaxConfig: 'local'};</script>\n",
              "        <script src=\"https://cdn.plot.ly/plotly-latest.min.js\"></script>    \n",
              "            <div id=\"c828dbfe-892d-455a-9ea6-cc17eade2e1f\" class=\"plotly-graph-div\" style=\"height:525px; width:100%;\"></div>\n",
              "            <script type=\"text/javascript\">\n",
              "                \n",
              "                    window.PLOTLYENV=window.PLOTLYENV || {};\n",
              "                    \n",
              "                if (document.getElementById(\"c828dbfe-892d-455a-9ea6-cc17eade2e1f\")) {\n",
              "                    Plotly.newPlot(\n",
              "                        'c828dbfe-892d-455a-9ea6-cc17eade2e1f',\n",
              "                        [{\"alignmentgroup\": \"True\", \"bingroup\": \"x\", \"hoverlabel\": {\"namelength\": 0}, \"hovertemplate\": \"score=%{x}<br>count=%{y}\", \"legendgroup\": \"\", \"marker\": {\"color\": \"#636efa\"}, \"name\": \"\", \"nbinsx\": 50, \"offsetgroup\": \"\", \"orientation\": \"v\", \"showlegend\": false, \"type\": \"histogram\", \"x\": [0.5378310680389404, 0.463489830493927, 0.4276049733161926, 0.3892480134963989, 0.35887569189071655, 0.35887569189071655, 0.3544420599937439, 0.3542771637439728, 0.3502046465873718, 0.3490324020385742, 0.3481365442276001, 0.3377043306827545, 0.32944798469543457, 0.326036274433136, 0.32566267251968384, 0.3245600163936615, 0.3198450207710266, 0.3197953701019287, 0.3143579959869385, 0.3130139708518982, 0.3128474950790405, 0.30930832028388977, 0.30930832028388977, 0.3085476756095886, 0.304656982421875, 0.3045658469200134, 0.30417874455451965, 0.2992006540298462, 0.29819029569625854, 0.29741260409355164, 0.29741260409355164, 0.2951694130897522, 0.2947445213794708, 0.2932663559913635, 0.29230308532714844, 0.29071539640426636, 0.2881951630115509, 0.2856231927871704, 0.2844073176383972, 0.28251707553863525, 0.28019124269485474, 0.7428930401802063, 0.7428930401802063, 0.7106659412384033, 0.6547183394432068, 0.6488162279129028, 0.6475112438201904, 0.581339418888092, 0.581339418888092, 0.5142974853515625, 0.5033087730407715, 0.5033087730407715, 0.4829723834991455, 0.48076242208480835, 0.4793834388256073, 0.4793834388256073, 0.4793834388256073, 0.4676739275455475, 0.46673133969306946, 0.46645379066467285, 0.46044641733169556, 0.4549875259399414, 0.44835329055786133, 0.44835329055786133, 0.44724148511886597, 0.44489574432373047, 0.44423583149909973, 0.4417954683303833, 0.42958498001098633, 0.4256269931793213, 0.42015713453292847, 0.42015713453292847, 0.42015713453292847, 0.41875705122947693, 0.41875705122947693, 0.41875705122947693, 0.4174354076385498, 0.4171961545944214, 0.416536420583725, 0.4151301980018616, 0.4089645743370056, 0.4089645743370056, 0.5378310680389404, 0.463489830493927, 0.4276049733161926, 0.3892480134963989, 0.35887569189071655, 0.35887569189071655, 0.3544420599937439, 0.3542771637439728, 0.3502046465873718, 0.3490324020385742, 0.3481365442276001, 0.3377043306827545, 0.32944798469543457, 0.326036274433136, 0.32566267251968384, 0.3245600163936615, 0.3198450207710266, 0.3197953701019287, 0.3143579959869385, 0.3130139708518982, 0.3128474950790405, 0.30930832028388977, 0.30930832028388977, 0.3085476756095886, 0.304656982421875, 0.3045658469200134, 0.30417874455451965, 0.2992006540298462, 0.29819029569625854, 0.29741260409355164, 0.29741260409355164, 0.2951694130897522, 0.2947445213794708, 0.2932663559913635, 0.29230308532714844, 0.29071539640426636, 0.2881951630115509, 0.2856231927871704, 0.2844073176383972, 0.28251707553863525, 0.28019124269485474, 0.30247628688812256, 0.2917579710483551, 0.2833389639854431, 0.2760950028896332, 0.26079702377319336, 0.25981876254081726, 0.25855833292007446, 0.25851988792419434, 0.25639092922210693, 0.2551282048225403, 0.2536655068397522, 0.2526833415031433, 0.2526833415031433, 0.2503810524940491, 0.2485356330871582, 0.245790034532547, 0.245790034532547, 0.24219410121440887, 0.24104131758213043, 0.2364409863948822, 0.23449277877807617, 0.23217299580574036, 0.23217299580574036, 0.23217299580574036, 0.22718407213687897, 0.2199600338935852, 0.21465720236301422, 0.21465720236301422, 0.2121858298778534, 0.21149832010269165, 0.20915013551712036, 0.2086016684770584, 0.20842204988002777, 0.206758052110672, 0.2060672640800476, 0.20534202456474304, 0.20504233241081238, 0.20440161228179932, 0.20440161228179932, 0.20339353382587433, 0.20310944318771362, 0.9204921126365662, 0.9204921126365662, 0.7985793352127075, 0.786278247833252, 0.7678537964820862, 0.7272862195968628, 0.7206747531890869, 0.7201738357543945, 0.7201738357543945, 0.7118957042694092, 0.7116209864616394, 0.7050056457519531, 0.6847276091575623, 0.6796215772628784, 0.6774415969848633, 0.6768386363983154, 0.6606014370918274, 0.6581088304519653, 0.6577036380767822, 0.6577036380767822, 0.6492258310317993, 0.6413235664367676, 0.6413235664367676, 0.618781328201294, 0.6170874834060669, 0.6104680299758911, 0.6095466613769531, 0.5930466651916504, 0.5828021168708801, 0.5796720385551453, 0.5794343948364258, 0.5689815282821655, 0.5553629994392395, 0.5551656484603882, 0.5537230968475342, 0.5485963821411133, 0.546863317489624, 0.541469395160675, 0.5351776480674744, 0.5335707664489746, 0.5275121927261353, 0.5790473818778992, 0.5728763937950134, 0.5638213157653809, 0.534866988658905, 0.49759066104888916, 0.49453434348106384, 0.48387444019317627, 0.4815652370452881, 0.481413871049881, 0.47823745012283325, 0.47823745012283325, 0.47822844982147217, 0.4718392789363861, 0.47107934951782227, 0.4674009382724762, 0.44790369272232056, 0.4471118748188019, 0.4430808424949646, 0.43945571780204773, 0.4376881718635559, 0.4376881718635559, 0.4365118145942688, 0.43008244037628174, 0.42879852652549744, 0.425327867269516, 0.422384113073349, 0.4212219715118408, 0.420375794172287, 0.41497212648391724, 0.4114990532398224, 0.40869957208633423, 0.40516284108161926, 0.4047674238681793, 0.4030992090702057, 0.40041059255599976, 0.40032902359962463, 0.39473089575767517, 0.3934650719165802, 0.3893822431564331, 0.3852156698703766, 0.3852156698703766, 0.9204921126365662, 0.9204921126365662, 0.7985793352127075, 0.786278247833252, 0.7678537964820862, 0.7272862195968628, 0.7206747531890869, 0.7201738357543945, 0.7201738357543945, 0.7118957042694092, 0.7116209864616394, 0.7050056457519531, 0.6847276091575623, 0.6796215772628784, 0.6774415969848633, 0.6768386363983154, 0.6606014370918274, 0.6581088304519653, 0.6577036380767822, 0.6577036380767822, 0.6492258310317993, 0.6413235664367676, 0.6413235664367676, 0.618781328201294, 0.6170874834060669, 0.6104680299758911, 0.6095466613769531, 0.5930466651916504, 0.5828021168708801, 0.5796720385551453, 0.5794343948364258, 0.5689815282821655, 0.5553629994392395, 0.5551656484603882, 0.5537230968475342, 0.5485963821411133, 0.546863317489624, 0.541469395160675, 0.5351776480674744, 0.5335707664489746, 0.5275121927261353, 0.8593145608901978, 0.6742010116577148, 0.67411208152771, 0.5799850225448608, 0.5798860788345337, 0.566950798034668, 0.5334177017211914, 0.5260733366012573, 0.520369827747345, 0.4960707128047943, 0.48392510414123535, 0.469679594039917, 0.4611021876335144, 0.4596351981163025, 0.45242685079574585, 0.4316443204879761, 0.430954247713089, 0.4296749532222748, 0.4242172837257385, 0.4156229794025421, 0.41206905245780945, 0.4119431972503662, 0.40919244289398193, 0.402654767036438, 0.40132656693458557, 0.3981991410255432, 0.3981991410255432, 0.3962857127189636, 0.39403235912323, 0.39165443181991577, 0.3909335136413574, 0.3909335136413574, 0.3905472755432129, 0.3875070810317993, 0.3869902491569519, 0.3861373960971832, 0.3859139680862427, 0.3855406939983368, 0.375962495803833, 0.3747824728488922, 0.37476614117622375, 0.7268497943878174, 0.6972393989562988, 0.6623745560646057, 0.5344562530517578, 0.5287858247756958, 0.5287858247756958, 0.5287858247756958, 0.5287858247756958, 0.5287858247756958, 0.5287858247756958, 0.5287858247756958, 0.5287858247756958, 0.5287858247756958, 0.5287858247756958, 0.5287858247756958, 0.5287858247756958, 0.5287858247756958, 0.5287858247756958, 0.5287858247756958, 0.5287858247756958, 0.5287858247756958, 0.5287858247756958, 0.5287858247756958, 0.5287858247756958, 0.5287858247756958, 0.5287858247756958, 0.5287858247756958, 0.5287858247756958, 0.51827073097229, 0.51827073097229, 0.5172765851020813, 0.5172765851020813, 0.4948599934577942, 0.48764586448669434, 0.48764586448669434, 0.48094841837882996, 0.47875261306762695, 0.47720178961753845, 0.4455036520957947, 0.44246283173561096, 0.4364168643951416, 0.8435494899749756, 0.7286987900733948, 0.6715258359909058, 0.6521804332733154, 0.652040421962738, 0.622220516204834, 0.5608949661254883, 0.5588552951812744, 0.5401228666305542, 0.5362141132354736, 0.523771345615387, 0.5118677020072937, 0.5095478892326355, 0.4989641010761261, 0.4979395270347595, 0.49765533208847046, 0.49765533208847046, 0.49765533208847046, 0.488423228263855, 0.4851297438144684, 0.47775787115097046, 0.47775787115097046, 0.47523823380470276, 0.47523823380470276, 0.47305500507354736, 0.4724493622779846, 0.4724493622779846, 0.4724493622779846, 0.4724493622779846, 0.4724493622779846, 0.4724493622779846, 0.4724493622779846, 0.4724493622779846, 0.4724493622779846, 0.4724493622779846, 0.4724493622779846, 0.4724493622779846, 0.4724493622779846, 0.45336610078811646, 0.45184051990509033, 0.44941750168800354, 0.7268497943878174, 0.6972393989562988, 0.6623745560646057, 0.5344562530517578, 0.5287858247756958, 0.5287858247756958, 0.5287858247756958, 0.5287858247756958, 0.5287858247756958, 0.5287858247756958, 0.5287858247756958, 0.5287858247756958, 0.5287858247756958, 0.5287858247756958, 0.5287858247756958, 0.5287858247756958, 0.5287858247756958, 0.5287858247756958, 0.5287858247756958, 0.5287858247756958, 0.5287858247756958, 0.5287858247756958, 0.5287858247756958, 0.5287858247756958, 0.5287858247756958, 0.5287858247756958, 0.5287858247756958, 0.5287858247756958, 0.51827073097229, 0.51827073097229, 0.5172765851020813, 0.5172765851020813, 0.4948599934577942, 0.48764586448669434, 0.48764586448669434, 0.48094841837882996, 0.47875261306762695, 0.47720178961753845, 0.4455036520957947, 0.44246283173561096, 0.4364168643951416, 0.6061959862709045, 0.5786483287811279, 0.5623118281364441, 0.5598239302635193, 0.5598239302635193, 0.5566125512123108, 0.500808596611023, 0.47128480672836304, 0.4626784324645996, 0.4626784324645996, 0.4552198648452759, 0.43087178468704224, 0.42955297231674194, 0.4273398518562317, 0.4053630232810974, 0.39893633127212524, 0.39893633127212524, 0.3857495188713074, 0.3761627674102783, 0.37539681792259216, 0.3701293468475342, 0.36415237188339233, 0.36415237188339233, 0.35649701952934265, 0.35423630475997925, 0.35327377915382385, 0.3519804775714874, 0.3372282385826111, 0.336216002702713, 0.33277010917663574, 0.33277010917663574, 0.33242160081863403, 0.33199113607406616, 0.33199113607406616, 0.3294135332107544, 0.3287271559238434, 0.32320085167884827, 0.321556955575943, 0.31761884689331055, 0.31761884689331055, 0.3174726963043213, 0.2827347218990326, 0.1987365186214447, 0.18903203308582306, 0.18886882066726685, 0.1509871929883957, 0.13723160326480865, 0.11375187337398529, 0.11172442138195038, 0.10601198673248291, 0.10487180948257446, 0.09974207729101181, 0.09080120176076889, 0.09080120176076889, 0.08902113139629364, 0.08799035102128983, 0.08215080201625824, 0.07762820273637772, 0.075727678835392, 0.07429702579975128, 0.07396228611469269, 0.07396228611469269, 0.07159559428691864, 0.07159559428691864, 0.07117418199777603, 0.0700877457857132, 0.06968942284584045, 0.06838593631982803, 0.06632580608129501, 0.06181051582098007, 0.06156338378787041, 0.059959422796964645, 0.0597095787525177, 0.05938803032040596, 0.05938803032040596, 0.058532025665044785, 0.05828636512160301, 0.05710553377866745, 0.056119002401828766, 0.055271267890930176, 0.05364374443888664, 0.051860511302948, 0.3175680637359619, 0.2923096716403961, 0.2787281274795532, 0.2665617763996124, 0.2556858956813812, 0.25382477045059204, 0.2393454611301422, 0.23293107748031616, 0.23293107748031616, 0.22531120479106903, 0.22359037399291992, 0.21753966808319092, 0.20825591683387756, 0.20825591683387756, 0.20429590344429016, 0.19809091091156006, 0.1960725337266922, 0.19425232708454132, 0.19414860010147095, 0.18566051125526428, 0.18550676107406616, 0.18550676107406616, 0.1848735511302948, 0.18295973539352417, 0.18259097635746002, 0.18248239159584045, 0.18132907152175903, 0.18032771348953247, 0.18004396557807922, 0.17550477385520935, 0.1751391738653183, 0.1751391738653183, 0.1747971773147583, 0.17379045486450195, 0.17283576726913452, 0.17239174246788025, 0.17239174246788025, 0.17168019711971283, 0.17168019711971283, 0.17053250968456268, 0.1664247214794159, 0.22795052826404572, 0.20860238373279572, 0.15745386481285095, 0.14186105132102966, 0.1339976042509079, 0.1255900114774704, 0.1123589277267456, 0.10514669120311737, 0.1010543704032898, 0.09867866337299347, 0.09698141366243362, 0.09698141366243362, 0.08585033565759659, 0.08295130729675293, 0.08284392207860947, 0.07815831154584885, 0.07780172675848007, 0.0758075937628746, 0.0745677798986435, 0.06152117997407913, 0.06100473925471306, 0.04259645938873291, 0.04093410074710846, 0.0, 0.0, 0.0, 0.0, 0.0, 0.0, 0.0, 0.0, 0.0, 0.0, 0.0, 0.0, 0.0, 0.0, 0.0, 0.0, 0.0, 0.0, 0.3175680637359619, 0.2923096716403961, 0.2787281274795532, 0.2665617763996124, 0.2556858956813812, 0.25382477045059204, 0.2393454611301422, 0.23293107748031616, 0.23293107748031616, 0.22531120479106903, 0.22359037399291992, 0.21753966808319092, 0.20825591683387756, 0.20825591683387756, 0.20429590344429016, 0.19809091091156006, 0.1960725337266922, 0.19425232708454132, 0.19414860010147095, 0.18566051125526428, 0.18550676107406616, 0.18550676107406616, 0.1848735511302948, 0.18295973539352417, 0.18259097635746002, 0.18248239159584045, 0.18132907152175903, 0.18032771348953247, 0.18004396557807922, 0.17550477385520935, 0.1751391738653183, 0.1751391738653183, 0.1747971773147583, 0.17379045486450195, 0.17283576726913452, 0.17239174246788025, 0.17239174246788025, 0.17168019711971283, 0.17168019711971283, 0.17053250968456268, 0.1664247214794159, 0.6071786880493164, 0.48811033368110657, 0.4444422125816345, 0.4025292694568634, 0.386354923248291, 0.3604292869567871, 0.34716153144836426, 0.3438590168952942, 0.3335590064525604, 0.331750750541687, 0.331750750541687, 0.3176950216293335, 0.30385854840278625, 0.30375972390174866, 0.2956753671169281, 0.2956615388393402, 0.29213747382164, 0.28086531162261963, 0.27840369939804077, 0.2704981863498688, 0.26496705412864685, 0.26149049401283264, 0.25775146484375, 0.25570619106292725, 0.25094738602638245, 0.2354661524295807, 0.2354661524295807, 0.23294273018836975, 0.23175251483917236, 0.22961720824241638, 0.22953763604164124, 0.22429391741752625, 0.21540632843971252, 0.2114885151386261, 0.20674504339694977, 0.20494210720062256, 0.20477686822414398, 0.2015710175037384, 0.19939637184143066, 0.19744136929512024, 0.19361136853694916, 0.7679554224014282, 0.7679554224014282, 0.7678974866867065, 0.7615619897842407, 0.7590591907501221, 0.7590591907501221, 0.7215249538421631, 0.7172646522521973, 0.7013320922851562, 0.6986857652664185, 0.6844941973686218, 0.6817723512649536, 0.6666742563247681, 0.6610997915267944, 0.6577036380767822, 0.6577036380767822, 0.6554909944534302, 0.6510870456695557, 0.6345010995864868, 0.6331675052642822, 0.6321707367897034, 0.6321707367897034, 0.6214909553527832, 0.6154758930206299, 0.5931565761566162, 0.5882426500320435, 0.5805812478065491, 0.5747162103652954, 0.5719053149223328, 0.5386621952056885, 0.5286586284637451, 0.5231298804283142, 0.519873857498169, 0.5188846588134766, 0.5188846588134766, 0.5172991752624512, 0.5061345100402832, 0.5050545930862427, 0.5027800798416138, 0.49966707825660706, 0.49966707825660706, 0.751338005065918, 0.66301429271698, 0.620664119720459, 0.605940580368042, 0.605940580368042, 0.5662403106689453, 0.5655336380004883, 0.5592315196990967, 0.5592315196990967, 0.554509162902832, 0.5366783142089844, 0.5335707664489746, 0.5335707664489746, 0.5328625440597534, 0.5286286473274231, 0.526063084602356, 0.5216585397720337, 0.5196902751922607, 0.5088418126106262, 0.5056626200675964, 0.49379193782806396, 0.48555803298950195, 0.48420676589012146, 0.47717440128326416, 0.4702155888080597, 0.4702155888080597, 0.4680950939655304, 0.45851027965545654, 0.4527909755706787, 0.44840866327285767, 0.4321478307247162, 0.43184277415275574, 0.43161049485206604, 0.42520034313201904, 0.41666504740715027, 0.40664994716644287, 0.40664994716644287, 0.4006841778755188, 0.3969329595565796, 0.3969329595565796, 0.39277634024620056, 0.351857453584671, 0.351857453584671, 0.3314064145088196, 0.3115271329879761, 0.3042582869529724, 0.3042582869529724, 0.301810085773468, 0.2993249297142029, 0.2989618182182312, 0.28831690549850464, 0.28822922706604004, 0.2867221236228943, 0.2856346368789673, 0.2846457064151764, 0.27465176582336426, 0.27345335483551025, 0.2712113857269287, 0.2683117389678955, 0.25903552770614624, 0.2589559555053711, 0.2589559555053711, 0.2589559555053711, 0.2576339840888977, 0.2576339840888977, 0.25709784030914307, 0.2544008493423462, 0.2498542070388794, 0.24365082383155823, 0.2388993799686432, 0.23527410626411438, 0.23527410626411438, 0.2331756055355072, 0.23272332549095154, 0.2326527237892151, 0.23211082816123962, 0.22593487799167633, 0.2258470356464386, 0.2253689169883728, 0.22522185742855072, 0.2250780165195465, 0.22323021292686462, 0.7679554224014282, 0.7679554224014282, 0.7678974866867065, 0.7615619897842407, 0.7590591907501221, 0.7590591907501221, 0.7215249538421631, 0.7172646522521973, 0.7013320922851562, 0.6986857652664185, 0.6844941973686218, 0.6817723512649536, 0.6666742563247681, 0.6610997915267944, 0.6577036380767822, 0.6577036380767822, 0.6554909944534302, 0.6510870456695557, 0.6345010995864868, 0.6331675052642822, 0.6321707367897034, 0.6321707367897034, 0.6214909553527832, 0.6154758930206299, 0.5931565761566162, 0.5882426500320435, 0.5805812478065491, 0.5747162103652954, 0.5719053149223328, 0.5386621952056885, 0.5286586284637451, 0.5231298804283142, 0.519873857498169, 0.5188846588134766, 0.5188846588134766, 0.5172991752624512, 0.5061345100402832, 0.5050545930862427, 0.5027800798416138, 0.49966707825660706, 0.49966707825660706, 0.5914112329483032, 0.5873799920082092, 0.5855448246002197, 0.5855448246002197, 0.5828404426574707, 0.513245701789856, 0.49639493227005005, 0.4784459173679352, 0.47661054134368896, 0.46429669857025146, 0.4383823275566101, 0.4383823275566101, 0.4237877130508423, 0.4237877130508423, 0.4235507845878601, 0.4218447208404541, 0.41023388504981995, 0.41023388504981995, 0.3872956931591034, 0.3872956931591034, 0.3872956931591034, 0.37090903520584106, 0.3700772523880005, 0.3673485517501831, 0.3631633222103119, 0.35886088013648987, 0.35143589973449707, 0.34650447964668274, 0.34650447964668274, 0.3433329463005066, 0.34051379561424255, 0.32097095251083374, 0.3181368112564087, 0.3181368112564087, 0.3117404580116272, 0.30517882108688354, 0.30003419518470764, 0.29864054918289185, 0.29850518703460693, 0.296435683965683, 0.2944053113460541, 0.7772100567817688, 0.7283581495285034, 0.6839131116867065, 0.6804191470146179, 0.676605761051178, 0.6707454919815063, 0.6707454919815063, 0.6488246917724609, 0.6480168700218201, 0.6342516541481018, 0.6275649070739746, 0.6275649070739746, 0.6188374757766724, 0.6021226644515991, 0.6021226644515991, 0.5917623043060303, 0.589209794998169, 0.5877159833908081, 0.5794343948364258, 0.5794343948364258, 0.5710654854774475, 0.5646206140518188, 0.5575200319290161, 0.5529166460037231, 0.5529166460037231, 0.5527286529541016, 0.5510393381118774, 0.5510393381118774, 0.5422318577766418, 0.5345885157585144, 0.5345885157585144, 0.5240854024887085, 0.5198885202407837, 0.5094181299209595, 0.5081449151039124, 0.49772465229034424, 0.4973454177379608, 0.4973454177379608, 0.49581119418144226, 0.4909122884273529, 0.48768526315689087, 0.5914112329483032, 0.5873799920082092, 0.5855448246002197, 0.5855448246002197, 0.5828404426574707, 0.513245701789856, 0.49639493227005005, 0.4784459173679352, 0.47661054134368896, 0.46429669857025146, 0.4383823275566101, 0.4383823275566101, 0.4237877130508423, 0.4237877130508423, 0.4235507845878601, 0.4218447208404541, 0.41023388504981995, 0.41023388504981995, 0.3872956931591034, 0.3872956931591034, 0.3872956931591034, 0.37090903520584106, 0.3700772523880005, 0.3673485517501831, 0.3631633222103119, 0.35886088013648987, 0.35143589973449707, 0.34650447964668274, 0.34650447964668274, 0.3433329463005066, 0.34051379561424255, 0.32097095251083374, 0.3181368112564087, 0.3181368112564087, 0.3117404580116272, 0.30517882108688354, 0.30003419518470764, 0.29864054918289185, 0.29850518703460693, 0.296435683965683, 0.2944053113460541, 0.6315505504608154, 0.6140819191932678, 0.6108705401420593, 0.5992801189422607, 0.5765126943588257, 0.569915771484375, 0.569915771484375, 0.5641289949417114, 0.561998188495636, 0.554793119430542, 0.5466092824935913, 0.5383347272872925, 0.5381056070327759, 0.5302953720092773, 0.5256766080856323, 0.525287926197052, 0.5121374130249023, 0.504474401473999, 0.504474401473999, 0.5014276504516602, 0.49812769889831543, 0.49812769889831543, 0.4955999553203583, 0.4951215982437134, 0.48857581615448, 0.4837801456451416, 0.47098255157470703, 0.46852007508277893, 0.46811240911483765, 0.4613630175590515, 0.4613630175590515, 0.4555765390396118, 0.4524235129356384, 0.4500657916069031, 0.445917546749115, 0.44572949409484863, 0.4443751573562622, 0.44314366579055786, 0.44018521904945374, 0.440166711807251, 0.43737637996673584, 0.704375147819519, 0.6805366277694702, 0.6773262619972229, 0.6773262619972229, 0.6773262619972229, 0.6574493050575256, 0.5925594568252563, 0.5764322280883789, 0.5764322280883789, 0.575053334236145, 0.5698552131652832, 0.5698552131652832, 0.5698552131652832, 0.5619821548461914, 0.5597466230392456, 0.5382659435272217, 0.5377350449562073, 0.5357972979545593, 0.5313236117362976, 0.5313236117362976, 0.5313236117362976, 0.5279549956321716, 0.5181275010108948, 0.49724557995796204, 0.4963350296020508, 0.491608589887619, 0.4872516691684723, 0.47574591636657715, 0.47502440214157104, 0.47300535440444946, 0.4663476347923279, 0.4663476347923279, 0.4531702995300293, 0.4508686661720276, 0.4444241523742676, 0.4444241523742676, 0.44062021374702454, 0.44062021374702454, 0.4350309371948242, 0.4334196448326111, 0.4313674569129944, 0.6217762231826782, 0.55302494764328, 0.542366623878479, 0.542366623878479, 0.542366623878479, 0.5286875367164612, 0.5286875367164612, 0.5229506492614746, 0.5072553157806396, 0.5072553157806396, 0.49151501059532166, 0.47313153743743896, 0.46541303396224976, 0.46511733531951904, 0.4446088373661041, 0.44411396980285645, 0.4307561218738556, 0.4307561218738556, 0.42156851291656494, 0.41997021436691284, 0.41583192348480225, 0.4122299253940582, 0.4110194742679596, 0.40699440240859985, 0.40699440240859985, 0.40554237365722656, 0.4043814241886139, 0.4030686616897583, 0.398825079202652, 0.3885379433631897, 0.387991726398468, 0.3855542242527008, 0.37372177839279175, 0.37372177839279175, 0.37281090021133423, 0.37201637029647827, 0.3708159327507019, 0.3706558048725128, 0.3706558048725128, 0.3706558048725128, 0.3706558048725128, 0.6853331923484802, 0.6410815715789795, 0.6295279860496521, 0.6226587891578674, 0.6056717038154602, 0.5991474986076355, 0.5743032097816467, 0.5743032097816467, 0.5499357581138611, 0.5245925188064575, 0.46164804697036743, 0.46164804697036743, 0.46164804697036743, 0.4580184519290924, 0.452443391084671, 0.44966214895248413, 0.44966214895248413, 0.4452100992202759, 0.4387693405151367, 0.4376067519187927, 0.4376067519187927, 0.4364021420478821, 0.43605780601501465, 0.4351975619792938, 0.4277181029319763, 0.42750000953674316, 0.4271255433559418, 0.4223599135875702, 0.41751644015312195, 0.41535016894340515, 0.41524580121040344, 0.41524580121040344, 0.4106059968471527, 0.4094930589199066, 0.4088175296783447, 0.4088175296783447, 0.40864264965057373, 0.40722012519836426, 0.40722012519836426, 0.4057537317276001, 0.4056963622570038, 0.38652166724205017, 0.38652166724205017, 0.3148207664489746, 0.31005340814590454, 0.3028903603553772, 0.29817888140678406, 0.27635645866394043, 0.27635645866394043, 0.2757601737976074, 0.27569571137428284, 0.2711386978626251, 0.2711386978626251, 0.2670159339904785, 0.26550185680389404, 0.2648279666900635, 0.2642296850681305, 0.26140373945236206, 0.26133546233177185, 0.26133546233177185, 0.26133546233177185, 0.2538816034793854, 0.24815154075622559, 0.24644923210144043, 0.24644923210144043, 0.23891788721084595, 0.2372567355632782, 0.2372567355632782, 0.23690730333328247, 0.23337319493293762, 0.22909845411777496, 0.22853663563728333, 0.22727477550506592, 0.22586268186569214, 0.22509638965129852, 0.2189616709947586, 0.21523213386535645, 0.21523213386535645, 0.21131667494773865, 0.20984652638435364, 0.20984652638435364, 0.2088523805141449, 0.5737910270690918, 0.5658402442932129, 0.500369668006897, 0.500369668006897, 0.4905884563922882, 0.48586946725845337, 0.4705598056316376, 0.46860501170158386, 0.46335822343826294, 0.46156179904937744, 0.45888206362724304, 0.4562852084636688, 0.4508470296859741, 0.4481971263885498, 0.44768503308296204, 0.4398350119590759, 0.42508721351623535, 0.42508721351623535, 0.4186907708644867, 0.41289955377578735, 0.4055931568145752, 0.4016757607460022, 0.400892436504364, 0.39524221420288086, 0.3882386386394501, 0.3881058096885681, 0.38110238313674927, 0.38110238313674927, 0.3748720586299896, 0.3729360103607178, 0.3684972822666168, 0.35778993368148804, 0.356970876455307, 0.3541482388973236, 0.35054081678390503, 0.35054081678390503, 0.350399374961853, 0.3468782305717468, 0.3427702784538269, 0.34096911549568176, 0.3347112536430359, 0.38652166724205017, 0.38652166724205017, 0.3148207664489746, 0.31005340814590454, 0.3028903603553772, 0.29817888140678406, 0.27635645866394043, 0.27635645866394043, 0.2757601737976074, 0.27569571137428284, 0.2711386978626251, 0.2711386978626251, 0.2670159339904785, 0.26550185680389404, 0.2648279666900635, 0.2642296850681305, 0.26140373945236206, 0.26133546233177185, 0.26133546233177185, 0.26133546233177185, 0.2538816034793854, 0.24815154075622559, 0.24644923210144043, 0.24644923210144043, 0.23891788721084595, 0.2372567355632782, 0.2372567355632782, 0.23690730333328247, 0.23337319493293762, 0.22909845411777496, 0.22853663563728333, 0.22727477550506592, 0.22586268186569214, 0.22509638965129852, 0.2189616709947586, 0.21523213386535645, 0.21523213386535645, 0.21131667494773865, 0.20984652638435364, 0.20984652638435364, 0.2088523805141449, 0.632817804813385, 0.5306787490844727, 0.5279891490936279, 0.512640118598938, 0.5115363001823425, 0.5058740377426147, 0.5012233257293701, 0.49357229471206665, 0.4933285415172577, 0.48037463426589966, 0.47997748851776123, 0.4598172903060913, 0.4595080018043518, 0.45064228773117065, 0.44211244583129883, 0.44211244583129883, 0.4353945255279541, 0.4353945255279541, 0.41989248991012573, 0.4196666479110718, 0.41803109645843506, 0.4115102291107178, 0.409170001745224, 0.4048146903514862, 0.4029153883457184, 0.3922632932662964, 0.3880920708179474, 0.38707369565963745, 0.38707369565963745, 0.3773045539855957, 0.3764393627643585, 0.3723970949649811, 0.3723970949649811, 0.3700260818004608, 0.369141548871994, 0.36867108941078186, 0.3684861660003662, 0.3654630780220032, 0.3597598075866699, 0.35843461751937866, 0.3561862111091614, 0.23057201504707336, 0.21107423305511475, 0.2052638828754425, 0.1866859793663025, 0.18546226620674133, 0.18463444709777832, 0.16820062696933746, 0.16340260207653046, 0.16218580305576324, 0.1619696319103241, 0.1619696319103241, 0.15916678309440613, 0.1584310084581375, 0.15681001543998718, 0.15630580484867096, 0.15536724030971527, 0.14805538952350616, 0.13905996084213257, 0.135489359498024, 0.135489359498024, 0.1349974274635315, 0.1349974274635315, 0.13495439291000366, 0.13204975426197052, 0.13052845001220703, 0.12778960168361664, 0.12778960168361664, 0.12778960168361664, 0.12738512456417084, 0.12276864796876907, 0.12184826284646988, 0.12184826284646988, 0.12126287072896957, 0.11922657489776611, 0.11922657489776611, 0.11835597455501556, 0.11835597455501556, 0.11781706660985947, 0.11677317321300507, 0.11649323999881744, 0.11649323999881744, 0.7629227638244629, 0.5203989744186401, 0.5198920965194702, 0.505437970161438, 0.505437970161438, 0.4924151599407196, 0.48265787959098816, 0.4667341709136963, 0.4667341709136963, 0.46279820799827576, 0.4598720073699951, 0.4445718824863434, 0.43425458669662476, 0.4154066741466522, 0.4107205867767334, 0.39951157569885254, 0.39951157569885254, 0.3953177332878113, 0.3942102789878845, 0.3878946900367737, 0.3826325237751007, 0.38153353333473206, 0.38153353333473206, 0.3811306953430176, 0.37646162509918213, 0.37556302547454834, 0.3690892457962036, 0.36769694089889526, 0.3665284812450409, 0.3665284812450409, 0.36214321851730347, 0.35469967126846313, 0.35429146885871887, 0.3526613712310791, 0.3526342511177063, 0.35182327032089233, 0.35083550214767456, 0.35063862800598145, 0.3491051495075226, 0.3469836115837097, 0.344601571559906, 0.23057201504707336, 0.21107423305511475, 0.2052638828754425, 0.1866859793663025, 0.18546226620674133, 0.18463444709777832, 0.16820062696933746, 0.16340260207653046, 0.16218580305576324, 0.1619696319103241, 0.1619696319103241, 0.15916678309440613, 0.1584310084581375, 0.15681001543998718, 0.15630580484867096, 0.15536724030971527, 0.14805538952350616, 0.13905996084213257, 0.135489359498024, 0.135489359498024, 0.1349974274635315, 0.1349974274635315, 0.13495439291000366, 0.13204975426197052, 0.13052845001220703, 0.12778960168361664, 0.12778960168361664, 0.12778960168361664, 0.12738512456417084, 0.12276864796876907, 0.12184826284646988, 0.12184826284646988, 0.12126287072896957, 0.11922657489776611, 0.11922657489776611, 0.11835597455501556, 0.11835597455501556, 0.11781706660985947, 0.11677317321300507, 0.11649323999881744, 0.11649323999881744, 0.7330782413482666, 0.691215991973877, 0.6883246898651123, 0.6203620433807373, 0.6027040481567383, 0.6027040481567383, 0.5992801189422607, 0.5822809934616089, 0.5701134204864502, 0.5639037489891052, 0.5639037489891052, 0.5554741024971008, 0.5549378395080566, 0.550744354724884, 0.5476187467575073, 0.5474739670753479, 0.5376518368721008, 0.5288659930229187, 0.5197804570198059, 0.519258975982666, 0.5163400769233704, 0.5163366794586182, 0.5163366794586182, 0.5156826376914978, 0.5146855711936951, 0.5046376585960388, 0.5033497214317322, 0.5015372037887573, 0.49945068359375, 0.49879783391952515, 0.4909122884273529, 0.48587945103645325, 0.47791969776153564, 0.4775412380695343, 0.4775412380695343, 0.4763772785663605, 0.4754546880722046, 0.47292834520339966, 0.4615379869937897, 0.4546552300453186, 0.45436614751815796, 0.5528984069824219, 0.5158248543739319, 0.4846458435058594, 0.47402292490005493, 0.4687025249004364, 0.46334028244018555, 0.46334028244018555, 0.46334028244018555, 0.45159557461738586, 0.4280449450016022, 0.4279196858406067, 0.4279196858406067, 0.42015326023101807, 0.42015326023101807, 0.4093722105026245, 0.40444639325141907, 0.40262675285339355, 0.39962130784988403, 0.39522311091423035, 0.392259806394577, 0.3913586735725403, 0.39011350274086, 0.38988196849823, 0.3862227201461792, 0.3862227201461792, 0.372132271528244, 0.372132271528244, 0.37192022800445557, 0.37192022800445557, 0.371565043926239, 0.37052565813064575, 0.3684772849082947, 0.36803770065307617, 0.36583757400512695, 0.36583757400512695, 0.36462026834487915, 0.35686641931533813, 0.3545861840248108, 0.3545861840248108, 0.35276514291763306, 0.35276514291763306, 0.5544646978378296, 0.5148324966430664, 0.4730624854564667, 0.46765032410621643, 0.46765032410621643, 0.46765032410621643, 0.4294411540031433, 0.4292469322681427, 0.4292469322681427, 0.42819511890411377, 0.4202917218208313, 0.4202917218208313, 0.4143385887145996, 0.4139348864555359, 0.40783584117889404, 0.40412771701812744, 0.3990303874015808, 0.395264595746994, 0.39375877380371094, 0.39375877380371094, 0.3928176164627075, 0.3924216330051422, 0.3922516703605652, 0.3913354277610779, 0.3893480896949768, 0.3874206244945526, 0.3874206244945526, 0.38736799359321594, 0.374500036239624, 0.3739723563194275, 0.3694559931755066, 0.3694559931755066, 0.3690302073955536, 0.368295818567276, 0.368295818567276, 0.36664915084838867, 0.363598495721817, 0.3599778115749359, 0.35376179218292236, 0.3505512475967407, 0.34069347381591797, 0.6987080574035645, 0.6987080574035645, 0.6987080574035645, 0.6987080574035645, 0.6987080574035645, 0.6987080574035645, 0.6987080574035645, 0.6987080574035645, 0.6987080574035645, 0.6939475536346436, 0.6505321860313416, 0.6350376605987549, 0.6350376605987549, 0.6296482086181641, 0.6028432250022888, 0.598733127117157, 0.5908045768737793, 0.5866604447364807, 0.5863635540008545, 0.5838742256164551, 0.5838742256164551, 0.5301421880722046, 0.5267322063446045, 0.5022441744804382, 0.4958440661430359, 0.4820404648780823, 0.4799078702926636, 0.4799078702926636, 0.4799078702926636, 0.4799078702926636, 0.4799078702926636, 0.4793094992637634, 0.47812461853027344, 0.4695015251636505, 0.46304166316986084, 0.4503413438796997, 0.42755818367004395, 0.42579683661460876, 0.41014665365219116, 0.40995025634765625, 0.4010009467601776, 0.6043860912322998, 0.5638601779937744, 0.530384361743927, 0.530384361743927, 0.5123496055603027, 0.506488025188446, 0.506488025188446, 0.506488025188446, 0.4787132143974304, 0.47139599919319153, 0.46916329860687256, 0.4679058790206909, 0.46776893734931946, 0.46776893734931946, 0.45182016491889954, 0.4474942982196808, 0.44551950693130493, 0.44210973381996155, 0.4401206970214844, 0.43202757835388184, 0.42878830432891846, 0.42848682403564453, 0.42780324816703796, 0.4261890649795532, 0.42218899726867676, 0.42218899726867676, 0.40678641200065613, 0.40678641200065613, 0.406554639339447, 0.406554639339447, 0.4061663746833801, 0.40503019094467163, 0.4044465124607086, 0.4027910530567169, 0.4023106098175049, 0.3985748589038849, 0.3856157660484314, 0.3856157660484314, 0.3841699957847595, 0.3796640634536743, 0.3720262050628662, 0.6704142689704895, 0.620211124420166, 0.6116882562637329, 0.592720627784729, 0.5541536211967468, 0.5124638080596924, 0.5124638080596924, 0.48956725001335144, 0.48588818311691284, 0.4608970880508423, 0.45938974618911743, 0.45938974618911743, 0.4568517208099365, 0.4503959119319916, 0.44701671600341797, 0.44376829266548157, 0.4328973591327667, 0.4319995045661926, 0.4315350353717804, 0.42734965682029724, 0.42414411902427673, 0.4191970229148865, 0.4175911247730255, 0.41193094849586487, 0.41193094849586487, 0.41147446632385254, 0.41147446632385254, 0.4103829562664032, 0.39917612075805664, 0.3973541259765625, 0.39721423387527466, 0.3933623731136322, 0.387462317943573, 0.38603124022483826, 0.38514402508735657, 0.3812623620033264, 0.3764461874961853, 0.3637545108795166, 0.36217278242111206, 0.3579818308353424, 0.3557586967945099, 0.7479240894317627, 0.6552239060401917, 0.6442965269088745, 0.5702835321426392, 0.552962064743042, 0.5396958589553833, 0.524148166179657, 0.4979395270347595, 0.49226510524749756, 0.4885646104812622, 0.4885646104812622, 0.4795994162559509, 0.47568199038505554, 0.4578816890716553, 0.4483136832714081, 0.439851313829422, 0.421216756105423, 0.41711050271987915, 0.41213637590408325, 0.4019167423248291, 0.4019167423248291, 0.4019167423248291, 0.3972519040107727, 0.397209495306015, 0.38912731409072876, 0.3883516788482666, 0.3847224712371826, 0.38346779346466064, 0.38155990839004517, 0.38155990839004517, 0.38155990839004517, 0.38155990839004517, 0.38155990839004517, 0.38155990839004517, 0.38155990839004517, 0.38155990839004517, 0.38155990839004517, 0.38155990839004517, 0.38155990839004517, 0.38155990839004517, 0.38155990839004517, 0.6704142689704895, 0.620211124420166, 0.6116882562637329, 0.592720627784729, 0.5541536211967468, 0.5124638080596924, 0.5124638080596924, 0.48956725001335144, 0.48588818311691284, 0.4608970880508423, 0.45938974618911743, 0.45938974618911743, 0.4568517208099365, 0.4503959119319916, 0.44701671600341797, 0.44376829266548157, 0.4328973591327667, 0.4319995045661926, 0.4315350353717804, 0.42734965682029724, 0.42414411902427673, 0.4191970229148865, 0.4175911247730255, 0.41193094849586487, 0.41193094849586487, 0.41147446632385254, 0.41147446632385254, 0.4103829562664032, 0.39917612075805664, 0.3973541259765625, 0.39721423387527466, 0.3933623731136322, 0.387462317943573, 0.38603124022483826, 0.38514402508735657, 0.3812623620033264, 0.3764461874961853, 0.3637545108795166, 0.36217278242111206, 0.3579818308353424, 0.3557586967945099, 0.5336573719978333, 0.43371129035949707, 0.4099513590335846, 0.4029468297958374, 0.387281596660614, 0.3747898042201996, 0.3725747764110565, 0.3701108694076538, 0.3609943985939026, 0.3552555441856384, 0.35513272881507874, 0.3510877192020416, 0.3345617651939392, 0.3340635597705841, 0.32976120710372925, 0.3274996876716614, 0.31434595584869385, 0.31092745065689087, 0.3056955933570862, 0.3023366630077362, 0.2984188199043274, 0.2984188199043274, 0.2981070280075073, 0.29671433568000793, 0.29466941952705383, 0.294634610414505, 0.29214900732040405, 0.2899084687232971, 0.28960615396499634, 0.2894390821456909, 0.2889665961265564, 0.286285936832428, 0.28522276878356934, 0.2850914001464844, 0.284909725189209, 0.2843834459781647, 0.2790578007698059, 0.27807846665382385, 0.27694857120513916, 0.27694857120513916, 0.27143579721450806, 0.8792834281921387, 0.8741194605827332, 0.8741194605827332, 0.8741194605827332, 0.8741194605827332, 0.8741194605827332, 0.8741194605827332, 0.8741194605827332, 0.8741194605827332, 0.8741194605827332, 0.8741194605827332, 0.8741194605827332, 0.8741194605827332, 0.8741194605827332, 0.8689475655555725, 0.8429816961288452, 0.8429816961288452, 0.8429816961288452, 0.8232541084289551, 0.8232541084289551, 0.8166604042053223, 0.7978775501251221, 0.7978775501251221, 0.782153844833374, 0.7516495585441589, 0.7021260261535645, 0.6653758883476257, 0.6308501362800598, 0.6175222992897034, 0.5974928736686707, 0.5883733034133911, 0.5733506679534912, 0.5608038306236267, 0.5406888723373413, 0.5257806777954102, 0.5104045867919922, 0.4960249662399292, 0.49390119314193726, 0.4918212592601776, 0.4918212592601776, 0.48640692234039307, 0.6191207766532898, 0.6191207766532898, 0.5065270662307739, 0.4428725242614746, 0.432294636964798, 0.4227655231952667, 0.3966551721096039, 0.3966551721096039, 0.3901820182800293, 0.3872745931148529, 0.3667151927947998, 0.3489834666252136, 0.33921343088150024, 0.3369881212711334, 0.3369881212711334, 0.33495745062828064, 0.3260155916213989, 0.32490041851997375, 0.32345709204673767, 0.3230076730251312, 0.3230076730251312, 0.31963348388671875, 0.31740617752075195, 0.31161463260650635, 0.30955755710601807, 0.3039615750312805, 0.29717838764190674, 0.29717838764190674, 0.2951403558254242, 0.2897181808948517, 0.28887951374053955, 0.28865477442741394, 0.28560635447502136, 0.27888208627700806, 0.27080002427101135, 0.2703847289085388, 0.26531898975372314, 0.25510621070861816, 0.25510621070861816, 0.25510621070861816, 0.24641680717468262, 0.671932578086853, 0.671932578086853, 0.671932578086853, 0.6393064260482788, 0.6171028017997742, 0.5966613292694092, 0.5966613292694092, 0.5966613292694092, 0.5858703851699829, 0.5769952535629272, 0.5735686421394348, 0.5536295175552368, 0.5489581227302551, 0.5456032752990723, 0.5447999238967896, 0.5268079042434692, 0.5261547565460205, 0.5179108381271362, 0.47979259490966797, 0.47979259490966797, 0.4671216607093811, 0.46554771065711975, 0.46402135491371155, 0.4612697958946228, 0.45204538106918335, 0.45204538106918335, 0.44794076681137085, 0.44396910071372986, 0.4434715509414673, 0.4307169020175934, 0.4307169020175934, 0.4307169020175934, 0.4307169020175934, 0.4283427596092224, 0.4262499213218689, 0.42581653594970703, 0.42314478754997253, 0.41892150044441223, 0.4122880697250366, 0.4118790030479431, 0.40779179334640503, 0.7182213664054871, 0.7182213664054871, 0.7182213664054871, 0.6871287822723389, 0.6377647519111633, 0.6377647519111633, 0.6377647519111633, 0.5917685031890869, 0.5858621001243591, 0.5624010562896729, 0.5434674620628357, 0.5434674620628357, 0.5401483774185181, 0.5196938514709473, 0.5103603601455688, 0.505449652671814, 0.5024617314338684, 0.5024584531784058, 0.4993012547492981, 0.49808192253112793, 0.49808192253112793, 0.49808192253112793, 0.49304625391960144, 0.48505493998527527, 0.4809921383857727, 0.47915318608283997, 0.4787634611129761, 0.474021852016449, 0.46792736649513245, 0.4663476347923279, 0.4551506042480469, 0.4477806091308594, 0.4375235438346863, 0.43588414788246155, 0.4347621500492096, 0.4347621500492096, 0.4328134059906006, 0.4328134059906006, 0.42639392614364624, 0.4261667728424072, 0.42098385095596313, 1.0, 0.8745996952056885, 0.8745996952056885, 0.8745996952056885, 0.4910793602466583, 0.41481471061706543, 0.4104619026184082, 0.40435054898262024, 0.40435054898262024, 0.4007968008518219, 0.3958413600921631, 0.3762838542461395, 0.3734525144100189, 0.3542892336845398, 0.351016104221344, 0.34303951263427734, 0.3029131293296814, 0.29492512345314026, 0.29492512345314026, 0.29492512345314026, 0.29492512345314026, 0.29492512345314026, 0.29492512345314026, 0.29492512345314026, 0.29492512345314026, 0.29492512345314026, 0.29492512345314026, 0.29492512345314026, 0.29492512345314026, 0.29492512345314026, 0.29492512345314026, 0.29492512345314026, 0.29492512345314026, 0.29492512345314026, 0.29492512345314026, 0.2942807078361511, 0.2908933162689209, 0.28423643112182617, 0.2730221450328827, 0.272922545671463, 0.2723504900932312, 0.671932578086853, 0.671932578086853, 0.671932578086853, 0.6393064260482788, 0.6171028017997742, 0.5966613292694092, 0.5966613292694092, 0.5966613292694092, 0.5858703851699829, 0.5769952535629272, 0.5735686421394348, 0.5536295175552368, 0.5489581227302551, 0.5456032752990723, 0.5447999238967896, 0.5268079042434692, 0.5261547565460205, 0.5179108381271362, 0.47979259490966797, 0.47979259490966797, 0.4671216607093811, 0.46554771065711975, 0.46402135491371155, 0.4612697958946228, 0.45204538106918335, 0.45204538106918335, 0.44794076681137085, 0.44396910071372986, 0.4434715509414673, 0.4307169020175934, 0.4307169020175934, 0.4307169020175934, 0.4307169020175934, 0.4283427596092224, 0.4262499213218689, 0.42581653594970703, 0.42314478754997253, 0.41892150044441223, 0.4122880697250366, 0.4118790030479431, 0.40779179334640503, 0.671932578086853, 0.671932578086853, 0.671932578086853, 0.6393064260482788, 0.6171028017997742, 0.5966613292694092, 0.5966613292694092, 0.5966613292694092, 0.5858703851699829, 0.5769952535629272, 0.5735686421394348, 0.5536295175552368, 0.5489581227302551, 0.5456032752990723, 0.5447999238967896, 0.5268079042434692, 0.5261547565460205, 0.5179108381271362, 0.47979259490966797, 0.47979259490966797, 0.4671216607093811, 0.46554771065711975, 0.46402135491371155, 0.4612697958946228, 0.45204538106918335, 0.45204538106918335, 0.44794076681137085, 0.44396910071372986, 0.4434715509414673, 0.4307169020175934, 0.4307169020175934, 0.4307169020175934, 0.4307169020175934, 0.4283427596092224, 0.4262499213218689, 0.42581653594970703, 0.42314478754997253, 0.41892150044441223, 0.4122880697250366, 0.4118790030479431, 0.40779179334640503, 0.7182213664054871, 0.7182213664054871, 0.7182213664054871, 0.6871287822723389, 0.6377647519111633, 0.6377647519111633, 0.6377647519111633, 0.5917685031890869, 0.5858621001243591, 0.5624010562896729, 0.5434674620628357, 0.5434674620628357, 0.5401483774185181, 0.5196938514709473, 0.5103603601455688, 0.505449652671814, 0.5024617314338684, 0.5024584531784058, 0.4993012547492981, 0.49808192253112793, 0.49808192253112793, 0.49808192253112793, 0.49304625391960144, 0.48505493998527527, 0.4809921383857727, 0.47915318608283997, 0.4787634611129761, 0.474021852016449, 0.46792736649513245, 0.4663476347923279, 0.4551506042480469, 0.4477806091308594, 0.4375235438346863, 0.43588414788246155, 0.4347621500492096, 0.4347621500492096, 0.4328134059906006, 0.4328134059906006, 0.42639392614364624, 0.4261667728424072, 0.42098385095596313, 1.0, 0.8745996952056885, 0.8745996952056885, 0.8745996952056885, 0.4910793602466583, 0.41481471061706543, 0.4104619026184082, 0.40435054898262024, 0.40435054898262024, 0.4007968008518219, 0.3958413600921631, 0.3762838542461395, 0.3734525144100189, 0.3542892336845398, 0.351016104221344, 0.34303951263427734, 0.3029131293296814, 0.29492512345314026, 0.29492512345314026, 0.29492512345314026, 0.29492512345314026, 0.29492512345314026, 0.29492512345314026, 0.29492512345314026, 0.29492512345314026, 0.29492512345314026, 0.29492512345314026, 0.29492512345314026, 0.29492512345314026, 0.29492512345314026, 0.29492512345314026, 0.29492512345314026, 0.29492512345314026, 0.29492512345314026, 0.29492512345314026, 0.2942807078361511, 0.2908933162689209, 0.28423643112182617, 0.2730221450328827, 0.272922545671463, 0.2723504900932312, 0.671932578086853, 0.671932578086853, 0.671932578086853, 0.6393064260482788, 0.6171028017997742, 0.5966613292694092, 0.5966613292694092, 0.5966613292694092, 0.5858703851699829, 0.5769952535629272, 0.5735686421394348, 0.5536295175552368, 0.5489581227302551, 0.5456032752990723, 0.5447999238967896, 0.5268079042434692, 0.5261547565460205, 0.5179108381271362, 0.47979259490966797, 0.47979259490966797, 0.4671216607093811, 0.46554771065711975, 0.46402135491371155, 0.4612697958946228, 0.45204538106918335, 0.45204538106918335, 0.44794076681137085, 0.44396910071372986, 0.4434715509414673, 0.4307169020175934, 0.4307169020175934, 0.4307169020175934, 0.4307169020175934, 0.4283427596092224, 0.4262499213218689, 0.42581653594970703, 0.42314478754997253, 0.41892150044441223, 0.4122880697250366, 0.4118790030479431, 0.40779179334640503, 0.6279834508895874, 0.6279834508895874, 0.5206419825553894, 0.5099194049835205, 0.5012468695640564, 0.47898828983306885, 0.47467702627182007, 0.47025254368782043, 0.47025254368782043, 0.4638475775718689, 0.4591386318206787, 0.45862483978271484, 0.44122403860092163, 0.4386751651763916, 0.4386751651763916, 0.4364922344684601, 0.4311050772666931, 0.42996108531951904, 0.42996108531951904, 0.4221450388431549, 0.41933345794677734, 0.4173918664455414, 0.41194748878479004, 0.41194748878479004, 0.40288183093070984, 0.39641278982162476, 0.3932174742221832, 0.3932174742221832, 0.3924599587917328, 0.3894571363925934, 0.38828566670417786, 0.38816213607788086, 0.38816213607788086, 0.3841068744659424, 0.38051754236221313, 0.37989306449890137, 0.37516772747039795, 0.3749164640903473, 0.37436434626579285, 0.3725411891937256, 0.372050940990448, 0.5862755179405212, 0.5433451533317566, 0.5433451533317566, 0.5393708348274231, 0.5345160961151123, 0.5223214626312256, 0.5170189142227173, 0.5164402723312378, 0.4915176033973694, 0.4841631352901459, 0.4841631352901459, 0.4721957743167877, 0.4700094163417816, 0.46387869119644165, 0.46387869119644165, 0.4536702036857605, 0.44971388578414917, 0.44971388578414917, 0.44638562202453613, 0.4427875280380249, 0.4427875280380249, 0.4419345259666443, 0.43723398447036743, 0.43709489703178406, 0.43709489703178406, 0.4352526366710663, 0.43252843618392944, 0.42778342962265015, 0.4248931407928467, 0.4224624037742615, 0.4215576946735382, 0.41950470209121704, 0.41895267367362976, 0.41895267367362976, 0.4176899492740631, 0.4176899492740631, 0.41468310356140137, 0.4142822027206421, 0.4142822027206421, 0.4128388464450836, 0.4109843969345093, 1.0, 1.0, 1.0, 1.0, 1.0, 1.0, 1.0, 1.0, 1.0, 1.0, 1.0, 1.0, 1.0, 1.0, 1.0, 1.0, 1.0, 1.0, 1.0, 1.0, 1.0, 1.0, 0.9095335006713867, 0.9024481177330017, 0.8536015152931213, 0.8425029516220093, 0.7670515179634094, 0.75681471824646, 0.748068630695343, 0.674162745475769, 0.674162745475769, 0.659228503704071, 0.6569257378578186, 0.6569257378578186, 0.64683598279953, 0.64683598279953, 0.6460682153701782, 0.634152889251709, 0.6250115633010864, 0.6217115521430969, 0.6034641265869141, 0.6306212544441223, 0.6306212544441223, 0.5253084897994995, 0.5095118880271912, 0.5075432062149048, 0.4908892512321472, 0.4908892512321472, 0.4794307053089142, 0.4794307053089142, 0.4719527065753937, 0.4693381190299988, 0.4692791998386383, 0.46351292729377747, 0.4529363811016083, 0.4473446011543274, 0.44630196690559387, 0.4387625753879547, 0.4386386275291443, 0.4386386275291443, 0.43800088763237, 0.4336804449558258, 0.4322941303253174, 0.43218550086021423, 0.43218550086021423, 0.43131303787231445, 0.42358505725860596, 0.4174671769142151, 0.4174671769142151, 0.41390344500541687, 0.41390344500541687, 0.41241684556007385, 0.4035681486129761, 0.40262770652770996, 0.40188026428222656, 0.40188026428222656, 0.4014492928981781, 0.40112799406051636, 0.39808446168899536, 0.3978121876716614, 0.3975904583930969, 0.39652612805366516, 0.6279834508895874, 0.6279834508895874, 0.5206419825553894, 0.5099194049835205, 0.5012468695640564, 0.47898828983306885, 0.47467702627182007, 0.47025254368782043, 0.47025254368782043, 0.4638475775718689, 0.4591386318206787, 0.45862483978271484, 0.44122403860092163, 0.4386751651763916, 0.4386751651763916, 0.4364922344684601, 0.4311050772666931, 0.42996108531951904, 0.42996108531951904, 0.4221450388431549, 0.41933345794677734, 0.4173918664455414, 0.41194748878479004, 0.41194748878479004, 0.40288183093070984, 0.39641278982162476, 0.3932174742221832, 0.3932174742221832, 0.3924599587917328, 0.3894571363925934, 0.38828566670417786, 0.38816213607788086, 0.38816213607788086, 0.3841068744659424, 0.38051754236221313, 0.37989306449890137, 0.37516772747039795, 0.3749164640903473, 0.37436434626579285, 0.3725411891937256, 0.372050940990448, 0.5862755179405212, 0.5433451533317566, 0.5433451533317566, 0.5393708348274231, 0.5345160961151123, 0.5223214626312256, 0.5170189142227173, 0.5164402723312378, 0.4915176033973694, 0.4841631352901459, 0.4841631352901459, 0.4721957743167877, 0.4700094163417816, 0.46387869119644165, 0.46387869119644165, 0.4536702036857605, 0.44971388578414917, 0.44971388578414917, 0.44638562202453613, 0.4427875280380249, 0.4427875280380249, 0.4419345259666443, 0.43723398447036743, 0.43709489703178406, 0.43709489703178406, 0.4352526366710663, 0.43252843618392944, 0.42778342962265015, 0.4248931407928467, 0.4224624037742615, 0.4215576946735382, 0.41950470209121704, 0.41895267367362976, 0.41895267367362976, 0.4176899492740631, 0.4176899492740631, 0.41468310356140137, 0.4142822027206421, 0.4142822027206421, 0.4128388464450836, 0.4109843969345093, 1.0, 1.0, 1.0, 1.0, 1.0, 1.0, 1.0, 1.0, 1.0, 1.0, 1.0, 1.0, 1.0, 1.0, 1.0, 1.0, 1.0, 1.0, 1.0, 1.0, 1.0, 1.0, 0.9095335006713867, 0.9024481177330017, 0.8536015152931213, 0.8425029516220093, 0.7670515179634094, 0.75681471824646, 0.748068630695343, 0.674162745475769, 0.674162745475769, 0.659228503704071, 0.6569257378578186, 0.6569257378578186, 0.64683598279953, 0.64683598279953, 0.6460682153701782, 0.634152889251709, 0.6250115633010864, 0.6217115521430969, 0.6034641265869141, 0.6306212544441223, 0.6306212544441223, 0.5253084897994995, 0.5095118880271912, 0.5075432062149048, 0.4908892512321472, 0.4908892512321472, 0.4794307053089142, 0.4794307053089142, 0.4719527065753937, 0.4693381190299988, 0.4692791998386383, 0.46351292729377747, 0.4529363811016083, 0.4473446011543274, 0.44630196690559387, 0.4387625753879547, 0.4386386275291443, 0.4386386275291443, 0.43800088763237, 0.4336804449558258, 0.4322941303253174, 0.43218550086021423, 0.43218550086021423, 0.43131303787231445, 0.42358505725860596, 0.4174671769142151, 0.4174671769142151, 0.41390344500541687, 0.41390344500541687, 0.41241684556007385, 0.4035681486129761, 0.40262770652770996, 0.40188026428222656, 0.40188026428222656, 0.4014492928981781, 0.40112799406051636, 0.39808446168899536, 0.3978121876716614, 0.3975904583930969, 0.39652612805366516, 0.737364649772644, 0.6856377124786377, 0.6807243824005127, 0.6258062124252319, 0.6197243928909302, 0.5986068844795227, 0.5887744426727295, 0.5844902396202087, 0.5658991932868958, 0.5608199834823608, 0.5578850507736206, 0.5504027605056763, 0.5504027605056763, 0.5456111431121826, 0.5434761047363281, 0.5396714806556702, 0.5316352844238281, 0.5292213559150696, 0.5292213559150696, 0.5280030965805054, 0.5274408459663391, 0.5147883892059326, 0.5088578462600708, 0.502236008644104, 0.49976325035095215, 0.49323323369026184, 0.4904083013534546, 0.4903082847595215, 0.48572662472724915, 0.48196130990982056, 0.4781475365161896, 0.47661256790161133, 0.47118818759918213, 0.46881192922592163, 0.46881192922592163, 0.4681583046913147, 0.45756080746650696, 0.4567776322364807, 0.45536768436431885, 0.4541735053062439, 0.44636300206184387, 0.7474547028541565, 0.7196893692016602, 0.6929893493652344, 0.6298415660858154, 0.6102272272109985, 0.6096609234809875, 0.5883573293685913, 0.5814591646194458, 0.5665484070777893, 0.5665484070777893, 0.5657106041908264, 0.5652443170547485, 0.5512853860855103, 0.551243007183075, 0.551243007183075, 0.5209566354751587, 0.5180035829544067, 0.51166832447052, 0.5110658407211304, 0.504466712474823, 0.5038484930992126, 0.4934786856174469, 0.4837649464607239, 0.4795965552330017, 0.46601027250289917, 0.4604248106479645, 0.4493599534034729, 0.44239121675491333, 0.4420662224292755, 0.43998798727989197, 0.4360671639442444, 0.435616135597229, 0.4314862787723541, 0.42800766229629517, 0.4155239462852478, 0.4140353798866272, 0.4140353798866272, 0.4106448292732239, 0.41032856702804565, 0.4016154408454895, 0.400574266910553, 0.3792485296726227, 0.31894826889038086, 0.3140823245048523, 0.29201796650886536, 0.26857075095176697, 0.25151771306991577, 0.23256291449069977, 0.2168668955564499, 0.2125067114830017, 0.21118904650211334, 0.20237432420253754, 0.20044584572315216, 0.19859611988067627, 0.19859611988067627, 0.19859611988067627, 0.19755256175994873, 0.19755256175994873, 0.1970614194869995, 0.19290316104888916, 0.18987980484962463, 0.18987980484962463, 0.1887873113155365, 0.18738681077957153, 0.18738681077957153, 0.18699100613594055, 0.1847667396068573, 0.1847667396068573, 0.1847667396068573, 0.18447482585906982, 0.1834850311279297, 0.182241290807724, 0.182241290807724, 0.1812528520822525, 0.1812528520822525, 0.17970117926597595, 0.1758720576763153, 0.17377859354019165, 0.17376768589019775, 0.17376768589019775, 0.17147210240364075, 0.1705714464187622, 0.8206833600997925, 0.7393083572387695, 0.7162809371948242, 0.6874449253082275, 0.6274558305740356, 0.6001847982406616, 0.5992171168327332, 0.5903264284133911, 0.5724213123321533, 0.5631599426269531, 0.5631599426269531, 0.5622982978820801, 0.5618636608123779, 0.554704487323761, 0.5532786250114441, 0.5518535375595093, 0.5518535375595093, 0.551203727722168, 0.5223746299743652, 0.5171048641204834, 0.5134316682815552, 0.5115529894828796, 0.5101991891860962, 0.503559947013855, 0.49240222573280334, 0.49170100688934326, 0.4916427731513977, 0.48717638850212097, 0.48717638850212097, 0.47786885499954224, 0.4688085913658142, 0.46170175075531006, 0.4587669372558594, 0.45189887285232544, 0.44668346643447876, 0.44336122274398804, 0.44307875633239746, 0.44218409061431885, 0.43709108233451843, 0.43302154541015625, 0.42646583914756775, 0.24456310272216797, 0.23146003484725952, 0.22680674493312836, 0.2264869213104248, 0.19128981232643127, 0.1868109405040741, 0.1863347440958023, 0.1800130009651184, 0.1753763109445572, 0.16536007821559906, 0.16278229653835297, 0.16173696517944336, 0.16103710234165192, 0.16008421778678894, 0.16006876528263092, 0.15826131403446198, 0.15705834329128265, 0.1550084948539734, 0.1519615650177002, 0.14757098257541656, 0.14757098257541656, 0.14701978862285614, 0.14646384119987488, 0.14633798599243164, 0.14515243470668793, 0.14515243470668793, 0.1430828720331192, 0.1430828720331192, 0.14139702916145325, 0.13983801007270813, 0.13526153564453125, 0.13249656558036804, 0.1310960352420807, 0.12376528233289719, 0.12336698919534683, 0.12336698919534683, 0.12336698919534683, 0.12245285511016846, 0.1218218058347702, 0.12062160670757294, 0.11728373169898987, 0.24456310272216797, 0.23146003484725952, 0.22680674493312836, 0.2264869213104248, 0.19128981232643127, 0.1868109405040741, 0.1863347440958023, 0.1800130009651184, 0.1753763109445572, 0.16536007821559906, 0.16278229653835297, 0.16173696517944336, 0.16103710234165192, 0.16008421778678894, 0.16006876528263092, 0.15826131403446198, 0.15705834329128265, 0.1550084948539734, 0.1519615650177002, 0.14757098257541656, 0.14757098257541656, 0.14701978862285614, 0.14646384119987488, 0.14633798599243164, 0.14515243470668793, 0.14515243470668793, 0.1430828720331192, 0.1430828720331192, 0.14139702916145325, 0.13983801007270813, 0.13526153564453125, 0.13249656558036804, 0.1310960352420807, 0.12376528233289719, 0.12336698919534683, 0.12336698919534683, 0.12336698919534683, 0.12245285511016846, 0.1218218058347702, 0.12062160670757294, 0.11728373169898987, 0.317653089761734, 0.24966378509998322, 0.24537532031536102, 0.23058687150478363, 0.22242861986160278, 0.2061278074979782, 0.20271210372447968, 0.190054789185524, 0.1879773586988449, 0.1723746359348297, 0.1701085865497589, 0.16428962349891663, 0.16369330883026123, 0.16064108908176422, 0.1562364250421524, 0.15405969321727753, 0.1365540623664856, 0.12434039264917374, 0.12133806943893433, 0.12111300975084305, 0.11724155396223068, 0.10528253018856049, 0.10166346281766891, 0.09988083690404892, 0.09955473989248276, 0.09676356613636017, 0.09662500023841858, 0.09280730038881302, 0.09150487184524536, 0.08704548329114914, 0.0826367512345314, 0.08026009798049927, 0.08004599809646606, 0.0783180445432663, 0.07315666228532791, 0.07296130806207657, 0.06920624524354935, 0.06920624524354935, 0.06920624524354935, 0.06734324991703033, 0.06558305025100708, 0.338773250579834, 0.338773250579834, 0.29357099533081055, 0.29105597734451294, 0.28378134965896606, 0.27970314025878906, 0.2735859453678131, 0.259429931640625, 0.2513759732246399, 0.2467629313468933, 0.2455277442932129, 0.24175947904586792, 0.23630474507808685, 0.23502139747142792, 0.22563976049423218, 0.22061868011951447, 0.21877525746822357, 0.2136528640985489, 0.21310824155807495, 0.20374876260757446, 0.20269396901130676, 0.19760841131210327, 0.1906907558441162, 0.18675276637077332, 0.18638651072978973, 0.18541952967643738, 0.182901069521904, 0.1796252578496933, 0.17791301012039185, 0.17710575461387634, 0.1733042448759079, 0.17271600663661957, 0.17271600663661957, 0.17040322721004486, 0.16951172053813934, 0.1681443303823471, 0.16663594543933868, 0.16600866615772247, 0.16600866615772247, 0.16596916317939758, 0.1632896214723587, 0.7866190671920776, 0.7133381962776184, 0.6981043815612793, 0.6733853220939636, 0.6666489839553833, 0.6545921564102173, 0.6539875268936157, 0.6490747332572937, 0.641728401184082, 0.6415983438491821, 0.639742374420166, 0.6388681530952454, 0.6260939240455627, 0.6260939240455627, 0.6126535534858704, 0.6126535534858704, 0.6118224263191223, 0.6079457402229309, 0.6026312708854675, 0.6016228795051575, 0.6012780070304871, 0.5873797535896301, 0.5866140723228455, 0.5853281617164612, 0.5853281617164612, 0.5842463374137878, 0.5808154344558716, 0.5756494402885437, 0.5746161937713623, 0.5746161937713623, 0.5742497444152832, 0.5742497444152832, 0.5742497444152832, 0.5742497444152832, 0.5736681818962097, 0.5736681818962097, 0.5711235404014587, 0.5709004402160645, 0.5709004402160645, 0.5643946528434753, 0.562434196472168, 0.7403305768966675, 0.6340477466583252, 0.6223862171173096, 0.621105432510376, 0.6084280610084534, 0.604028582572937, 0.604028582572937, 0.5875296592712402, 0.556082546710968, 0.5553728342056274, 0.5521036386489868, 0.5481326580047607, 0.5336582064628601, 0.5221640467643738, 0.5221640467643738, 0.5027503967285156, 0.5002155303955078, 0.49924135208129883, 0.4955741763114929, 0.4908908009529114, 0.48404181003570557, 0.4749619960784912, 0.4708971381187439, 0.463274747133255, 0.45481443405151367, 0.43160244822502136, 0.4270641505718231, 0.41762781143188477, 0.41647475957870483, 0.38684603571891785, 0.369444876909256, 0.3674931526184082, 0.3674931526184082, 0.359231173992157, 0.3445079028606415, 0.3425499200820923, 0.3419404625892639, 0.33851158618927, 0.33530449867248535, 0.3249567747116089, 0.3118324279785156, 0.7004281282424927, 0.6843189597129822, 0.6818827390670776, 0.6670782566070557, 0.6654332876205444, 0.6566680073738098, 0.6378693580627441, 0.6344571709632874, 0.5642497539520264, 0.5369308590888977, 0.5369308590888977, 0.5173803567886353, 0.509488582611084, 0.49795693159103394, 0.4933740794658661, 0.4876161813735962, 0.4850877523422241, 0.4850877523422241, 0.4850877523422241, 0.48472851514816284, 0.48472851514816284, 0.48472851514816284, 0.47777384519577026, 0.47157225012779236, 0.46945297718048096, 0.469338059425354, 0.469338059425354, 0.46872591972351074, 0.46181172132492065, 0.45532482862472534, 0.45532482862472534, 0.44467437267303467, 0.4446500539779663, 0.43706172704696655, 0.4360904395580292, 0.4320284128189087, 0.42231765389442444, 0.4194033145904541, 0.41858816146850586, 0.41753458976745605, 0.40510857105255127, 1.0, 1.0, 1.0, 1.0, 1.0, 1.0, 1.0, 1.0, 1.0, 1.0, 1.0, 1.0, 1.0, 1.0, 1.0, 1.0, 1.0, 1.0, 1.0, 1.0, 1.0, 1.0, 1.0, 0.9095335006713867, 0.9024481177330017, 0.8536015152931213, 0.8425029516220093, 0.7670515179634094, 0.75681471824646, 0.748068630695343, 0.674162745475769, 0.674162745475769, 0.659228503704071, 0.6569257378578186, 0.6569257378578186, 0.64683598279953, 0.64683598279953, 0.6460682153701782, 0.634152889251709, 0.6250115633010864, 0.6217115521430969, 0.7403305768966675, 0.6340477466583252, 0.6223862171173096, 0.621105432510376, 0.6084280610084534, 0.604028582572937, 0.604028582572937, 0.5875296592712402, 0.556082546710968, 0.5553728342056274, 0.5521036386489868, 0.5481326580047607, 0.5336582064628601, 0.5221640467643738, 0.5221640467643738, 0.5027503967285156, 0.5002155303955078, 0.49924135208129883, 0.4955741763114929, 0.4908908009529114, 0.48404181003570557, 0.4749619960784912, 0.4708971381187439, 0.463274747133255, 0.45481443405151367, 0.43160244822502136, 0.4270641505718231, 0.41762781143188477, 0.41647475957870483, 0.38684603571891785, 0.369444876909256, 0.3674931526184082, 0.3674931526184082, 0.359231173992157, 0.3445079028606415, 0.3425499200820923, 0.3419404625892639, 0.33851158618927, 0.33530449867248535, 0.3249567747116089, 0.3118324279785156, 0.5472879409790039, 0.5029743313789368, 0.45897984504699707, 0.4470560550689697, 0.40732860565185547, 0.4019492268562317, 0.3903850317001343, 0.35823553800582886, 0.3580029010772705, 0.3550705909729004, 0.35165396332740784, 0.33986297249794006, 0.3390129804611206, 0.325072318315506, 0.3240618109703064, 0.3240618109703064, 0.3186606764793396, 0.31679975986480713, 0.31679975986480713, 0.31679975986480713, 0.3149639964103699, 0.3124082386493683, 0.3124082386493683, 0.3100692629814148, 0.3051271438598633, 0.3034548759460449, 0.30093008279800415, 0.30093008279800415, 0.2963852286338806, 0.29158616065979004, 0.2901952862739563, 0.2886282205581665, 0.2886282205581665, 0.2865462303161621, 0.2820771038532257, 0.2816629409790039, 0.27893635630607605, 0.27778297662734985, 0.2769547998905182, 0.2756018042564392, 0.2734828591346741, 0.43974465131759644, 0.3709239363670349, 0.3639140725135803, 0.35350921750068665, 0.31712692975997925, 0.31712692975997925, 0.31671929359436035, 0.31671929359436035, 0.31671929359436035, 0.3005324900150299, 0.29998132586479187, 0.29796135425567627, 0.29796135425567627, 0.29796135425567627, 0.29796135425567627, 0.2899121642112732, 0.28430503606796265, 0.27739205956459045, 0.2702856659889221, 0.26888877153396606, 0.26888877153396606, 0.26888877153396606, 0.26810160279273987, 0.26630523800849915, 0.2636011242866516, 0.2604720890522003, 0.2596229612827301, 0.2586410343647003, 0.2586410343647003, 0.2583521008491516, 0.25710049271583557, 0.2545067071914673, 0.24948430061340332, 0.24751943349838257, 0.24107052385807037, 0.24036940932273865, 0.23937982320785522, 0.23937982320785522, 0.23838575184345245, 0.23675857484340668, 0.23504848778247833, 0.6588490009307861, 0.64605313539505, 0.6302794814109802, 0.6077615022659302, 0.5944291353225708, 0.5905712246894836, 0.5285802483558655, 0.5057331323623657, 0.4913831353187561, 0.48953554034233093, 0.4847176671028137, 0.4810890853404999, 0.47228699922561646, 0.4446846842765808, 0.43812286853790283, 0.43778014183044434, 0.42435163259506226, 0.4240347146987915, 0.42054057121276855, 0.4194543659687042, 0.4194502830505371, 0.40484827756881714, 0.3994390666484833, 0.39801639318466187, 0.39342576265335083, 0.3904569745063782, 0.37847772240638733, 0.3770502805709839, 0.37691277265548706, 0.3711276650428772, 0.3690354824066162, 0.36848413944244385, 0.36737000942230225, 0.36585891246795654, 0.3625752031803131, 0.3625752031803131, 0.3594712018966675, 0.35755982995033264, 0.35733744502067566, 0.35527175664901733, 0.3529278635978699, 0.4099956452846527, 0.3287358283996582, 0.3287358283996582, 0.314386785030365, 0.2886560559272766, 0.2734588384628296, 0.26434168219566345, 0.26434168219566345, 0.25494447350502014, 0.2494678795337677, 0.23947039246559143, 0.23206675052642822, 0.23107995092868805, 0.22932520508766174, 0.22476878762245178, 0.21992090344429016, 0.21815863251686096, 0.21689650416374207, 0.2159820795059204, 0.21586564183235168, 0.2150961458683014, 0.21434113383293152, 0.21246106922626495, 0.20957331359386444, 0.20941920578479767, 0.20807920396327972, 0.20725512504577637, 0.20725512504577637, 0.20637229084968567, 0.2049875259399414, 0.2049875259399414, 0.2049875259399414, 0.2049875259399414, 0.2041306495666504, 0.20402519404888153, 0.2038886845111847, 0.2038724273443222, 0.2027948498725891, 0.2027905285358429, 0.20175373554229736, 0.20172925293445587, 0.4314769208431244, 0.40755316615104675, 0.40755316615104675, 0.37506726384162903, 0.36884427070617676, 0.3191756308078766, 0.3163878321647644, 0.3163878321647644, 0.3163878321647644, 0.3163878321647644, 0.30384331941604614, 0.29474276304244995, 0.29383397102355957, 0.28658005595207214, 0.28429150581359863, 0.2756785452365875, 0.2746358811855316, 0.2746358811855316, 0.2688458561897278, 0.26461926102638245, 0.2644707262516022, 0.26365095376968384, 0.2578062415122986, 0.2555806338787079, 0.2534009516239166, 0.25312796235084534, 0.2514001727104187, 0.23950529098510742, 0.23950529098510742, 0.2391553670167923, 0.23690691590309143, 0.23185841739177704, 0.23176509141921997, 0.22815167903900146, 0.22801360487937927, 0.22737669944763184, 0.22136043012142181, 0.2190621942281723, 0.218071848154068, 0.21638451516628265, 0.2158140242099762, 0.5777548551559448, 0.5029345750808716, 0.48229795694351196, 0.4822429120540619, 0.4709867835044861, 0.4562682509422302, 0.4553653597831726, 0.4513205289840698, 0.4469163715839386, 0.44390803575515747, 0.44072529673576355, 0.44072529673576355, 0.43075674772262573, 0.4274151921272278, 0.4242461323738098, 0.4172886908054352, 0.4153132140636444, 0.4147357642650604, 0.4147357642650604, 0.4145772457122803, 0.4128830134868622, 0.40991854667663574, 0.39855945110321045, 0.39598459005355835, 0.3913096487522125, 0.38974621891975403, 0.38974621891975403, 0.38974621891975403, 0.3870215117931366, 0.38690733909606934, 0.3863242566585541, 0.3844192326068878, 0.3769562244415283, 0.3769562244415283, 0.37593477964401245, 0.37118658423423767, 0.3701058626174927, 0.3692697286605835, 0.3680422902107239, 0.3680422902107239, 0.3680422902107239, 0.5057730078697205, 0.4951644539833069, 0.49282339215278625, 0.4792898893356323, 0.46113523840904236, 0.4605558514595032, 0.4560645520687103, 0.4359719753265381, 0.4359719753265381, 0.4307561218738556, 0.41824132204055786, 0.40315544605255127, 0.3918156325817108, 0.389659583568573, 0.38385745882987976, 0.3821132481098175, 0.37675005197525024, 0.37573012709617615, 0.37454909086227417, 0.3654344081878662, 0.36261868476867676, 0.36146628856658936, 0.36146628856658936, 0.35923147201538086, 0.3543815016746521, 0.35062235593795776, 0.3476395308971405, 0.3421338200569153, 0.34089767932891846, 0.3381704092025757, 0.3381704092025757, 0.33814388513565063, 0.3317505121231079, 0.32817161083221436, 0.3274303078651428, 0.3274303078651428, 0.32322943210601807, 0.3217337727546692, 0.3208632171154022, 0.3193611800670624, 0.3162614703178406, 0.4354981482028961, 0.42636361718177795, 0.424347847700119, 0.4126947820186615, 0.39706259965896606, 0.39656370878219604, 0.39269644021987915, 0.37539568543434143, 0.37539568543434143, 0.36012861132621765, 0.3471388518810272, 0.3374931216239929, 0.3355181813240051, 0.33052220940589905, 0.3244023323059082, 0.32352414727211, 0.32250720262527466, 0.3146589398384094, 0.31223446130752563, 0.3112422227859497, 0.3112422227859497, 0.3051418364048004, 0.3019050061702728, 0.29933661222457886, 0.2945958971977234, 0.2911831736564636, 0.2911831736564636, 0.29116031527519226, 0.2825736701488495, 0.28193536400794983, 0.28193536400794983, 0.2783181965351105, 0.2770303189754486, 0.2762807309627533, 0.2749873995780945, 0.27231839299201965, 0.267220675945282, 0.26476919651031494, 0.2644500434398651, 0.2644500434398651, 0.2625240683555603, 0.40545573830604553, 0.3238741159439087, 0.3185555338859558, 0.29007992148399353, 0.2745935022830963, 0.2595444619655609, 0.2577629089355469, 0.25100478529930115, 0.24993294477462769, 0.23791134357452393, 0.23074522614479065, 0.22651442885398865, 0.22651442885398865, 0.2230226844549179, 0.21864160895347595, 0.2146993726491928, 0.19698703289031982, 0.19572898745536804, 0.1930176466703415, 0.18434655666351318, 0.18294791877269745, 0.18294791877269745, 0.18294791877269745, 0.18183594942092896, 0.181544229388237, 0.17480632662773132, 0.1721179038286209, 0.1721179038286209, 0.16693030297756195, 0.16693030297756195, 0.16276489198207855, 0.16276489198207855, 0.159671813249588, 0.15883216261863708, 0.1502830684185028, 0.14788615703582764, 0.14619408547878265, 0.14448708295822144, 0.14330241084098816, 0.1421421468257904, 0.1421421468257904, 0.5057730078697205, 0.4951644539833069, 0.49282339215278625, 0.4792898893356323, 0.46113523840904236, 0.4605558514595032, 0.4560645520687103, 0.4359719753265381, 0.4359719753265381, 0.4307561218738556, 0.41824132204055786, 0.40315544605255127, 0.3918156325817108, 0.389659583568573, 0.38385745882987976, 0.3821132481098175, 0.37675005197525024, 0.37573012709617615, 0.37454909086227417, 0.3654344081878662, 0.36261868476867676, 0.36146628856658936, 0.36146628856658936, 0.35923147201538086, 0.3543815016746521, 0.35062235593795776, 0.3476395308971405, 0.3421338200569153, 0.34089767932891846, 0.3381704092025757, 0.3381704092025757, 0.33814388513565063, 0.3317505121231079, 0.32817161083221436, 0.3274303078651428, 0.3274303078651428, 0.32322943210601807, 0.3217337727546692, 0.3208632171154022, 0.3193611800670624, 0.3162614703178406, 0.9198062419891357, 0.9198062419891357, 0.9198062419891357, 0.8617852926254272, 0.8248757719993591, 0.7512667775154114, 0.7177664041519165, 0.7177664041519165, 0.7177664041519165, 0.7022572755813599, 0.6327182650566101, 0.6279633045196533, 0.6181548833847046, 0.5918945074081421, 0.5784757137298584, 0.577090322971344, 0.577090322971344, 0.575839638710022, 0.5622116327285767, 0.5599520206451416, 0.5599520206451416, 0.544101357460022, 0.5409418940544128, 0.5409418940544128, 0.5392398834228516, 0.5392398834228516, 0.5322546362876892, 0.524082362651825, 0.5013011693954468, 0.5005691647529602, 0.49944016337394714, 0.49881982803344727, 0.49808192253112793, 0.49808192253112793, 0.4980747103691101, 0.4961908459663391, 0.4961908459663391, 0.4914979338645935, 0.48914793133735657, 0.4872303903102875, 0.4850877523422241, 0.9198062419891357, 0.9198062419891357, 0.9198062419891357, 0.8617852926254272, 0.8248757719993591, 0.7512667775154114, 0.7177664041519165, 0.7177664041519165, 0.7177664041519165, 0.7022572755813599, 0.6327182650566101, 0.6279633045196533, 0.6181548833847046, 0.5918945074081421, 0.5784757137298584, 0.577090322971344, 0.577090322971344, 0.575839638710022, 0.5622116327285767, 0.5599520206451416, 0.5599520206451416, 0.544101357460022, 0.5409418940544128, 0.5409418940544128, 0.5392398834228516, 0.5392398834228516, 0.5322546362876892, 0.524082362651825, 0.5013011693954468, 0.5005691647529602, 0.49944016337394714, 0.49881982803344727, 0.49808192253112793, 0.49808192253112793, 0.4980747103691101, 0.4961908459663391, 0.4961908459663391, 0.4914979338645935, 0.48914793133735657, 0.4872303903102875, 0.4850877523422241, 0.5075199604034424, 0.2793959081172943, 0.2573454976081848, 0.2573454976081848, 0.2537075877189636, 0.2537075877189636, 0.2454809993505478, 0.23605233430862427, 0.2340395301580429, 0.21837583184242249, 0.21478240191936493, 0.20960751175880432, 0.20960751175880432, 0.20786841213703156, 0.20786841213703156, 0.20170564949512482, 0.1969624012708664, 0.1939937174320221, 0.18676000833511353, 0.1863764375448227, 0.18556402623653412, 0.1804381012916565, 0.1804381012916565, 0.1748020052909851, 0.16668570041656494, 0.16371828317642212, 0.16312077641487122, 0.1615801602602005, 0.16085302829742432, 0.15990732610225677, 0.15990732610225677, 0.1540120542049408, 0.15068775415420532, 0.1504986733198166, 0.1503961682319641, 0.14911776781082153, 0.1479218304157257, 0.1474120318889618, 0.1469186544418335, 0.1469186544418335, 0.14688581228256226, 0.9198062419891357, 0.9198062419891357, 0.9198062419891357, 0.8617852926254272, 0.8248757719993591, 0.7512667775154114, 0.7177664041519165, 0.7177664041519165, 0.7177664041519165, 0.7022572755813599, 0.6327182650566101, 0.6279633045196533, 0.6181548833847046, 0.5918945074081421, 0.5784757137298584, 0.577090322971344, 0.577090322971344, 0.575839638710022, 0.5622116327285767, 0.5599520206451416, 0.5599520206451416, 0.544101357460022, 0.5409418940544128, 0.5409418940544128, 0.5392398834228516, 0.5392398834228516, 0.5322546362876892, 0.524082362651825, 0.5013011693954468, 0.5005691647529602, 0.49944016337394714, 0.49881982803344727, 0.49808192253112793, 0.49808192253112793, 0.4980747103691101, 0.4961908459663391, 0.4961908459663391, 0.4914979338645935, 0.48914793133735657, 0.4872303903102875, 0.4850877523422241, 0.7046223282814026, 0.6987661123275757, 0.6571943759918213, 0.6571943759918213, 0.6499477028846741, 0.6494959592819214, 0.6494959592819214, 0.6411373615264893, 0.6204731464385986, 0.6129235029220581, 0.6039168238639832, 0.595770001411438, 0.5940552353858948, 0.5935219526290894, 0.5931565761566162, 0.5931565761566162, 0.5913830399513245, 0.5913354158401489, 0.5855107307434082, 0.5823675394058228, 0.5806573629379272, 0.5689815282821655, 0.5689815282821655, 0.5620342493057251, 0.5433615446090698, 0.5370185375213623, 0.5370185375213623, 0.5324501395225525, 0.5309268832206726, 0.5271181464195251, 0.5111244916915894, 0.5002330541610718, 0.4971446096897125, 0.49581119418144226, 0.4935365319252014, 0.4931941628456116, 0.4725866913795471, 0.47018855810165405, 0.46585869789123535, 0.459981769323349, 0.4596633315086365, 0.7512118816375732, 0.6151677370071411, 0.6133589744567871, 0.6028932332992554, 0.6028932332992554, 0.5971591472625732, 0.5731472373008728, 0.5731472373008728, 0.5644962787628174, 0.5511810183525085, 0.5504456758499146, 0.5404291152954102, 0.5347095727920532, 0.5218568444252014, 0.5207781195640564, 0.5197449922561646, 0.5172991752624512, 0.5172991752624512, 0.5140934586524963, 0.5123341083526611, 0.5013622045516968, 0.49903833866119385, 0.4927501082420349, 0.4927501082420349, 0.49181973934173584, 0.48596471548080444, 0.47844088077545166, 0.4773566722869873, 0.47339296340942383, 0.46849074959754944, 0.46849074959754944, 0.4678932726383209, 0.46561962366104126, 0.4642382264137268, 0.45752447843551636, 0.4503084421157837, 0.4431343674659729, 0.4372617304325104, 0.43073874711990356, 0.4229903221130371, 0.4200310707092285, 0.677200198173523, 0.5058810710906982, 0.4863871932029724, 0.39222434163093567, 0.3868420422077179, 0.3849389851093292, 0.3568858504295349, 0.3568858504295349, 0.3568073511123657, 0.3265725076198578, 0.3014664649963379, 0.28449633717536926, 0.2818388342857361, 0.2774033546447754, 0.27511855959892273, 0.27127712965011597, 0.26972395181655884, 0.26331281661987305, 0.2631886899471283, 0.2612575888633728, 0.25527989864349365, 0.24549028277397156, 0.24455641210079193, 0.2422414869070053, 0.2414981573820114, 0.23990067839622498, 0.23431262373924255, 0.23281387984752655, 0.23281387984752655, 0.23126311600208282, 0.2273283451795578, 0.22647278010845184, 0.22344155609607697, 0.22022591531276703, 0.21943603456020355, 0.21807192265987396, 0.2170119285583496, 0.2150583565235138, 0.21268384158611298, 0.21136125922203064, 0.20901399850845337, 0.7360569834709167, 0.7360569834709167, 0.6793774366378784, 0.6737310290336609, 0.6636945009231567, 0.6572176218032837, 0.6336487531661987, 0.6336487531661987, 0.6266616582870483, 0.6114234924316406, 0.6104634404182434, 0.5969380140304565, 0.5909639596939087, 0.582988440990448, 0.5822799801826477, 0.5744249820709229, 0.5727716684341431, 0.5719053149223328, 0.5719053149223328, 0.570149302482605, 0.5581436157226562, 0.5485963821411133, 0.5485963821411133, 0.5440364480018616, 0.543280303478241, 0.5350346565246582, 0.5245307087898254, 0.5183910131454468, 0.5177785158157349, 0.5177785158157349, 0.5165412425994873, 0.5119050741195679, 0.5102693438529968, 0.5067514777183533, 0.5046164989471436, 0.49240222573280334, 0.482310950756073, 0.4758543372154236, 0.47281795740127563, 0.4677804112434387, 0.4666283130645752, 0.27065205574035645, 0.25157803297042847, 0.240928515791893, 0.21880850195884705, 0.21433845162391663, 0.202838733792305, 0.202838733792305, 0.20245690643787384, 0.19496698677539825, 0.19496698677539825, 0.1911318302154541, 0.19020536541938782, 0.18949036300182343, 0.18581584095954895, 0.18464295566082, 0.18453845381736755, 0.18453845381736755, 0.18453845381736755, 0.17391452193260193, 0.17209890484809875, 0.1702808439731598, 0.16930009424686432, 0.16839322447776794, 0.16499656438827515, 0.16399961709976196, 0.1610499620437622, 0.1610499620437622, 0.15961702167987823, 0.15961702167987823, 0.15943117439746857, 0.15718168020248413, 0.15718168020248413, 0.15542303025722504, 0.15371090173721313, 0.1536233127117157, 0.152162566781044, 0.152162566781044, 0.14749568700790405, 0.1469079703092575, 0.1462520956993103, 0.14558035135269165, 0.2816784083843231, 0.261827290058136, 0.2572479248046875, 0.2572479248046875, 0.25635477900505066, 0.25074392557144165, 0.22772273421287537, 0.22307057678699493, 0.21110235154628754, 0.21110235154628754, 0.19795429706573486, 0.1972101628780365, 0.1957860291004181, 0.19338595867156982, 0.1921652853488922, 0.19205652177333832, 0.19205652177333832, 0.19205652177333832, 0.1809997707605362, 0.17911019921302795, 0.176197350025177, 0.1731104701757431, 0.1706809401512146, 0.166119784116745, 0.166119784116745, 0.16592638194561005, 0.16358524560928345, 0.16358524560928345, 0.15997305512428284, 0.15988190472126007, 0.15890410542488098, 0.15836164355278015, 0.15836164355278015, 0.1546836942434311, 0.1546836942434311, 0.15289299190044403, 0.15221038460731506, 0.1515112817287445, 0.14937818050384521, 0.1468997597694397, 0.14681294560432434, 0.42256051301956177, 0.3469998836517334, 0.3431532382965088, 0.29008880257606506, 0.2558547258377075, 0.24586182832717896, 0.23241189122200012, 0.231449693441391, 0.2126539945602417, 0.19993072748184204, 0.19735121726989746, 0.19735121726989746, 0.1922752559185028, 0.1866929829120636, 0.1866929829120636, 0.17402952909469604, 0.1731722354888916, 0.17113663256168365, 0.16403548419475555, 0.15662403404712677, 0.15662403404712677, 0.15481962263584137, 0.15440890192985535, 0.14763566851615906, 0.14763566851615906, 0.14735063910484314, 0.14662641286849976, 0.14057135581970215, 0.1391867697238922, 0.13895688951015472, 0.13563814759254456, 0.13563814759254456, 0.1349715143442154, 0.13453489542007446, 0.13453489542007446, 0.13451354205608368, 0.13447143137454987, 0.13252609968185425, 0.13083668053150177, 0.126755028963089, 0.12653830647468567, 0.2816784083843231, 0.261827290058136, 0.2572479248046875, 0.2572479248046875, 0.25635477900505066, 0.25074392557144165, 0.22772273421287537, 0.22307057678699493, 0.21110235154628754, 0.21110235154628754, 0.19795429706573486, 0.1972101628780365, 0.1957860291004181, 0.19338595867156982, 0.1921652853488922, 0.19205652177333832, 0.19205652177333832, 0.19205652177333832, 0.1809997707605362, 0.17911019921302795, 0.176197350025177, 0.1731104701757431, 0.1706809401512146, 0.166119784116745, 0.166119784116745, 0.16592638194561005, 0.16358524560928345, 0.16358524560928345, 0.15997305512428284, 0.15988190472126007, 0.15890410542488098, 0.15836164355278015, 0.15836164355278015, 0.1546836942434311, 0.1546836942434311, 0.15289299190044403, 0.15221038460731506, 0.1515112817287445, 0.14937818050384521, 0.1468997597694397, 0.14681294560432434], \"xaxis\": \"x\", \"yaxis\": \"y\"}],\n",
              "                        {\"barmode\": \"relative\", \"legend\": {\"tracegroupgap\": 0}, \"template\": {\"data\": {\"bar\": [{\"error_x\": {\"color\": \"#2a3f5f\"}, \"error_y\": {\"color\": \"#2a3f5f\"}, \"marker\": {\"line\": {\"color\": \"#E5ECF6\", \"width\": 0.5}}, \"type\": \"bar\"}], \"barpolar\": [{\"marker\": {\"line\": {\"color\": \"#E5ECF6\", \"width\": 0.5}}, \"type\": \"barpolar\"}], \"carpet\": [{\"aaxis\": {\"endlinecolor\": \"#2a3f5f\", \"gridcolor\": \"white\", \"linecolor\": \"white\", \"minorgridcolor\": \"white\", \"startlinecolor\": \"#2a3f5f\"}, \"baxis\": {\"endlinecolor\": \"#2a3f5f\", \"gridcolor\": \"white\", \"linecolor\": \"white\", \"minorgridcolor\": \"white\", \"startlinecolor\": \"#2a3f5f\"}, \"type\": \"carpet\"}], \"choropleth\": [{\"colorbar\": {\"outlinewidth\": 0, \"ticks\": \"\"}, \"type\": \"choropleth\"}], \"contour\": [{\"colorbar\": {\"outlinewidth\": 0, \"ticks\": \"\"}, \"colorscale\": [[0.0, \"#0d0887\"], [0.1111111111111111, \"#46039f\"], [0.2222222222222222, \"#7201a8\"], [0.3333333333333333, \"#9c179e\"], [0.4444444444444444, \"#bd3786\"], [0.5555555555555556, \"#d8576b\"], [0.6666666666666666, \"#ed7953\"], [0.7777777777777778, \"#fb9f3a\"], [0.8888888888888888, \"#fdca26\"], [1.0, \"#f0f921\"]], \"type\": \"contour\"}], \"contourcarpet\": [{\"colorbar\": {\"outlinewidth\": 0, \"ticks\": \"\"}, \"type\": \"contourcarpet\"}], \"heatmap\": [{\"colorbar\": {\"outlinewidth\": 0, \"ticks\": \"\"}, \"colorscale\": [[0.0, \"#0d0887\"], [0.1111111111111111, \"#46039f\"], [0.2222222222222222, \"#7201a8\"], [0.3333333333333333, \"#9c179e\"], [0.4444444444444444, \"#bd3786\"], [0.5555555555555556, \"#d8576b\"], [0.6666666666666666, \"#ed7953\"], [0.7777777777777778, \"#fb9f3a\"], [0.8888888888888888, \"#fdca26\"], [1.0, \"#f0f921\"]], \"type\": \"heatmap\"}], \"heatmapgl\": [{\"colorbar\": {\"outlinewidth\": 0, \"ticks\": \"\"}, \"colorscale\": [[0.0, \"#0d0887\"], [0.1111111111111111, \"#46039f\"], [0.2222222222222222, \"#7201a8\"], [0.3333333333333333, \"#9c179e\"], [0.4444444444444444, \"#bd3786\"], [0.5555555555555556, \"#d8576b\"], [0.6666666666666666, \"#ed7953\"], [0.7777777777777778, \"#fb9f3a\"], [0.8888888888888888, \"#fdca26\"], [1.0, \"#f0f921\"]], \"type\": \"heatmapgl\"}], \"histogram\": [{\"marker\": {\"colorbar\": {\"outlinewidth\": 0, \"ticks\": \"\"}}, \"type\": \"histogram\"}], \"histogram2d\": [{\"colorbar\": {\"outlinewidth\": 0, \"ticks\": \"\"}, \"colorscale\": [[0.0, \"#0d0887\"], [0.1111111111111111, \"#46039f\"], [0.2222222222222222, \"#7201a8\"], [0.3333333333333333, \"#9c179e\"], [0.4444444444444444, \"#bd3786\"], [0.5555555555555556, \"#d8576b\"], [0.6666666666666666, \"#ed7953\"], [0.7777777777777778, \"#fb9f3a\"], [0.8888888888888888, \"#fdca26\"], [1.0, \"#f0f921\"]], \"type\": \"histogram2d\"}], \"histogram2dcontour\": [{\"colorbar\": {\"outlinewidth\": 0, \"ticks\": \"\"}, \"colorscale\": [[0.0, \"#0d0887\"], [0.1111111111111111, \"#46039f\"], [0.2222222222222222, \"#7201a8\"], [0.3333333333333333, \"#9c179e\"], [0.4444444444444444, \"#bd3786\"], [0.5555555555555556, \"#d8576b\"], [0.6666666666666666, \"#ed7953\"], [0.7777777777777778, \"#fb9f3a\"], [0.8888888888888888, \"#fdca26\"], [1.0, \"#f0f921\"]], \"type\": \"histogram2dcontour\"}], \"mesh3d\": [{\"colorbar\": {\"outlinewidth\": 0, \"ticks\": \"\"}, \"type\": \"mesh3d\"}], \"parcoords\": [{\"line\": {\"colorbar\": {\"outlinewidth\": 0, \"ticks\": \"\"}}, \"type\": \"parcoords\"}], \"pie\": [{\"automargin\": true, \"type\": \"pie\"}], \"scatter\": [{\"marker\": {\"colorbar\": {\"outlinewidth\": 0, \"ticks\": \"\"}}, \"type\": \"scatter\"}], \"scatter3d\": [{\"line\": {\"colorbar\": {\"outlinewidth\": 0, \"ticks\": \"\"}}, \"marker\": {\"colorbar\": {\"outlinewidth\": 0, \"ticks\": \"\"}}, \"type\": \"scatter3d\"}], \"scattercarpet\": [{\"marker\": {\"colorbar\": {\"outlinewidth\": 0, \"ticks\": \"\"}}, \"type\": \"scattercarpet\"}], \"scattergeo\": [{\"marker\": {\"colorbar\": {\"outlinewidth\": 0, \"ticks\": \"\"}}, \"type\": \"scattergeo\"}], \"scattergl\": [{\"marker\": {\"colorbar\": {\"outlinewidth\": 0, \"ticks\": \"\"}}, \"type\": \"scattergl\"}], \"scattermapbox\": [{\"marker\": {\"colorbar\": {\"outlinewidth\": 0, \"ticks\": \"\"}}, \"type\": \"scattermapbox\"}], \"scatterpolar\": [{\"marker\": {\"colorbar\": {\"outlinewidth\": 0, \"ticks\": \"\"}}, \"type\": \"scatterpolar\"}], \"scatterpolargl\": [{\"marker\": {\"colorbar\": {\"outlinewidth\": 0, \"ticks\": \"\"}}, \"type\": \"scatterpolargl\"}], \"scatterternary\": [{\"marker\": {\"colorbar\": {\"outlinewidth\": 0, \"ticks\": \"\"}}, \"type\": \"scatterternary\"}], \"surface\": [{\"colorbar\": {\"outlinewidth\": 0, \"ticks\": \"\"}, \"colorscale\": [[0.0, \"#0d0887\"], [0.1111111111111111, \"#46039f\"], [0.2222222222222222, \"#7201a8\"], [0.3333333333333333, \"#9c179e\"], [0.4444444444444444, \"#bd3786\"], [0.5555555555555556, \"#d8576b\"], [0.6666666666666666, \"#ed7953\"], [0.7777777777777778, \"#fb9f3a\"], [0.8888888888888888, \"#fdca26\"], [1.0, \"#f0f921\"]], \"type\": \"surface\"}], \"table\": [{\"cells\": {\"fill\": {\"color\": \"#EBF0F8\"}, \"line\": {\"color\": \"white\"}}, \"header\": {\"fill\": {\"color\": \"#C8D4E3\"}, \"line\": {\"color\": \"white\"}}, \"type\": \"table\"}]}, \"layout\": {\"annotationdefaults\": {\"arrowcolor\": \"#2a3f5f\", \"arrowhead\": 0, \"arrowwidth\": 1}, \"coloraxis\": {\"colorbar\": {\"outlinewidth\": 0, \"ticks\": \"\"}}, \"colorscale\": {\"diverging\": [[0, \"#8e0152\"], [0.1, \"#c51b7d\"], [0.2, \"#de77ae\"], [0.3, \"#f1b6da\"], [0.4, \"#fde0ef\"], [0.5, \"#f7f7f7\"], [0.6, \"#e6f5d0\"], [0.7, \"#b8e186\"], [0.8, \"#7fbc41\"], [0.9, \"#4d9221\"], [1, \"#276419\"]], \"sequential\": [[0.0, \"#0d0887\"], [0.1111111111111111, \"#46039f\"], [0.2222222222222222, \"#7201a8\"], [0.3333333333333333, \"#9c179e\"], [0.4444444444444444, \"#bd3786\"], [0.5555555555555556, \"#d8576b\"], [0.6666666666666666, \"#ed7953\"], [0.7777777777777778, \"#fb9f3a\"], [0.8888888888888888, \"#fdca26\"], [1.0, \"#f0f921\"]], \"sequentialminus\": [[0.0, \"#0d0887\"], [0.1111111111111111, \"#46039f\"], [0.2222222222222222, \"#7201a8\"], [0.3333333333333333, \"#9c179e\"], [0.4444444444444444, \"#bd3786\"], [0.5555555555555556, \"#d8576b\"], [0.6666666666666666, \"#ed7953\"], [0.7777777777777778, \"#fb9f3a\"], [0.8888888888888888, \"#fdca26\"], [1.0, \"#f0f921\"]]}, \"colorway\": [\"#636efa\", \"#EF553B\", \"#00cc96\", \"#ab63fa\", \"#FFA15A\", \"#19d3f3\", \"#FF6692\", \"#B6E880\", \"#FF97FF\", \"#FECB52\"], \"font\": {\"color\": \"#2a3f5f\"}, \"geo\": {\"bgcolor\": \"white\", \"lakecolor\": \"white\", \"landcolor\": \"#E5ECF6\", \"showlakes\": true, \"showland\": true, \"subunitcolor\": \"white\"}, \"hoverlabel\": {\"align\": \"left\"}, \"hovermode\": \"closest\", \"mapbox\": {\"style\": \"light\"}, \"paper_bgcolor\": \"white\", \"plot_bgcolor\": \"#E5ECF6\", \"polar\": {\"angularaxis\": {\"gridcolor\": \"white\", \"linecolor\": \"white\", \"ticks\": \"\"}, \"bgcolor\": \"#E5ECF6\", \"radialaxis\": {\"gridcolor\": \"white\", \"linecolor\": \"white\", \"ticks\": \"\"}}, \"scene\": {\"xaxis\": {\"backgroundcolor\": \"#E5ECF6\", \"gridcolor\": \"white\", \"gridwidth\": 2, \"linecolor\": \"white\", \"showbackground\": true, \"ticks\": \"\", \"zerolinecolor\": \"white\"}, \"yaxis\": {\"backgroundcolor\": \"#E5ECF6\", \"gridcolor\": \"white\", \"gridwidth\": 2, \"linecolor\": \"white\", \"showbackground\": true, \"ticks\": \"\", \"zerolinecolor\": \"white\"}, \"zaxis\": {\"backgroundcolor\": \"#E5ECF6\", \"gridcolor\": \"white\", \"gridwidth\": 2, \"linecolor\": \"white\", \"showbackground\": true, \"ticks\": \"\", \"zerolinecolor\": \"white\"}}, \"shapedefaults\": {\"line\": {\"color\": \"#2a3f5f\"}}, \"ternary\": {\"aaxis\": {\"gridcolor\": \"white\", \"linecolor\": \"white\", \"ticks\": \"\"}, \"baxis\": {\"gridcolor\": \"white\", \"linecolor\": \"white\", \"ticks\": \"\"}, \"bgcolor\": \"#E5ECF6\", \"caxis\": {\"gridcolor\": \"white\", \"linecolor\": \"white\", \"ticks\": \"\"}}, \"title\": {\"x\": 0.05}, \"xaxis\": {\"automargin\": true, \"gridcolor\": \"white\", \"linecolor\": \"white\", \"ticks\": \"\", \"title\": {\"standoff\": 15}, \"zerolinecolor\": \"white\", \"zerolinewidth\": 2}, \"yaxis\": {\"automargin\": true, \"gridcolor\": \"white\", \"linecolor\": \"white\", \"ticks\": \"\", \"title\": {\"standoff\": 15}, \"zerolinecolor\": \"white\", \"zerolinewidth\": 2}}}, \"title\": {\"text\": \"Scores for TF-IDF\"}, \"xaxis\": {\"anchor\": \"y\", \"domain\": [0.0, 1.0], \"title\": {\"text\": \"score\"}}, \"yaxis\": {\"anchor\": \"x\", \"domain\": [0.0, 1.0], \"title\": {\"text\": \"count\"}}},\n",
              "                        {\"responsive\": true}\n",
              "                    ).then(function(){\n",
              "                            \n",
              "var gd = document.getElementById('c828dbfe-892d-455a-9ea6-cc17eade2e1f');\n",
              "var x = new MutationObserver(function (mutations, observer) {{\n",
              "        var display = window.getComputedStyle(gd).display;\n",
              "        if (!display || display === 'none') {{\n",
              "            console.log([gd, 'removed!']);\n",
              "            Plotly.purge(gd);\n",
              "            observer.disconnect();\n",
              "        }}\n",
              "}});\n",
              "\n",
              "// Listen for the removal of the full notebook cells\n",
              "var notebookContainer = gd.closest('#notebook-container');\n",
              "if (notebookContainer) {{\n",
              "    x.observe(notebookContainer, {childList: true});\n",
              "}}\n",
              "\n",
              "// Listen for the clearing of the current output cell\n",
              "var outputEl = gd.closest('.output');\n",
              "if (outputEl) {{\n",
              "    x.observe(outputEl, {childList: true});\n",
              "}}\n",
              "\n",
              "                        })\n",
              "                };\n",
              "                \n",
              "            </script>\n",
              "        </div>\n",
              "</body>\n",
              "</html>"
            ]
          },
          "metadata": {}
        }
      ]
    },
    {
      "cell_type": "code",
      "metadata": {
        "id": "QIBvHL1aOnOT"
      },
      "source": [
        "if use_wandb:\n",
        "  wandb.log({\"scores_hist\": fig})"
      ],
      "execution_count": 51,
      "outputs": []
    },
    {
      "cell_type": "code",
      "metadata": {
        "id": "OZ0YfkIO9g5V"
      },
      "source": [
        "def recommend_tune(df, tune_name):\n",
        "\n",
        "  df_tune = df.query(f'reference_title == \"{tune_name}\"')\n",
        "  ff = df_tune.iloc[:]\n",
        "\n",
        "  # get the maximum similarity score for each section and store in new column\n",
        "  ff['max'] = ff.groupby('ref_section')['score'].transform('max')\n",
        "\n",
        "  # scale the score with the maxmum value of each section\n",
        "  ff['score_div_max'] = ff['score'] / ff['max']\n",
        "\n",
        "  # consider only the top N tunes for each group\n",
        "  ff = ff.sort_values(['ref_section', 'score_div_max'], ascending=[True, False])\n",
        "  result = ff.groupby('ref_section').head(30)\n",
        "  \n",
        "  # if multiple rows from the same similar tune, keep only the similar_title with the highest score_div_max\n",
        "  result = result.groupby('similar_title').max('score_div_max').sort_values('score_div_max', ascending=False)\n",
        "  \n",
        "  # add the name of the reference tune\n",
        "  result['reference'] = tune_name\n",
        "  result = result.reset_index()\n",
        "  result = result.loc[:, ['reference', 'similar_title', 'score', 'max', 'score_div_max']]\n",
        "  result = result.reset_index()\n",
        "  return result, ff"
      ],
      "execution_count": 52,
      "outputs": []
    },
    {
      "cell_type": "code",
      "metadata": {
        "colab": {
          "base_uri": "https://localhost:8080/",
          "height": 206
        },
        "id": "ohaxVQ6d9iiD",
        "outputId": "9117f7d7-c26f-493c-e3fc-bacd2065ed6f"
      },
      "source": [
        "result, details = recommend_tune(df_sim, \"These Foolish Things\")\n",
        "result.head(5)"
      ],
      "execution_count": 53,
      "outputs": [
        {
          "output_type": "execute_result",
          "data": {
            "text/html": [
              "<div>\n",
              "<style scoped>\n",
              "    .dataframe tbody tr th:only-of-type {\n",
              "        vertical-align: middle;\n",
              "    }\n",
              "\n",
              "    .dataframe tbody tr th {\n",
              "        vertical-align: top;\n",
              "    }\n",
              "\n",
              "    .dataframe thead th {\n",
              "        text-align: right;\n",
              "    }\n",
              "</style>\n",
              "<table border=\"1\" class=\"dataframe\">\n",
              "  <thead>\n",
              "    <tr style=\"text-align: right;\">\n",
              "      <th></th>\n",
              "      <th>index</th>\n",
              "      <th>reference</th>\n",
              "      <th>similar_title</th>\n",
              "      <th>score</th>\n",
              "      <th>max</th>\n",
              "      <th>score_div_max</th>\n",
              "    </tr>\n",
              "  </thead>\n",
              "  <tbody>\n",
              "    <tr>\n",
              "      <th>0</th>\n",
              "      <td>0</td>\n",
              "      <td>These Foolish Things</td>\n",
              "      <td>More Than You Know</td>\n",
              "      <td>0.677200</td>\n",
              "      <td>0.677200</td>\n",
              "      <td>1.000000</td>\n",
              "    </tr>\n",
              "    <tr>\n",
              "      <th>1</th>\n",
              "      <td>1</td>\n",
              "      <td>These Foolish Things</td>\n",
              "      <td>Too Young To Go Steady</td>\n",
              "      <td>0.751212</td>\n",
              "      <td>0.751212</td>\n",
              "      <td>1.000000</td>\n",
              "    </tr>\n",
              "    <tr>\n",
              "      <th>2</th>\n",
              "      <td>2</td>\n",
              "      <td>These Foolish Things</td>\n",
              "      <td>I Won't Dance</td>\n",
              "      <td>0.704622</td>\n",
              "      <td>0.751212</td>\n",
              "      <td>1.000000</td>\n",
              "    </tr>\n",
              "    <tr>\n",
              "      <th>3</th>\n",
              "      <td>3</td>\n",
              "      <td>These Foolish Things</td>\n",
              "      <td>I Like The Likes Of You</td>\n",
              "      <td>0.736057</td>\n",
              "      <td>0.751212</td>\n",
              "      <td>1.000000</td>\n",
              "    </tr>\n",
              "    <tr>\n",
              "      <th>4</th>\n",
              "      <td>4</td>\n",
              "      <td>These Foolish Things</td>\n",
              "      <td>Emily</td>\n",
              "      <td>0.698766</td>\n",
              "      <td>0.751212</td>\n",
              "      <td>0.991689</td>\n",
              "    </tr>\n",
              "  </tbody>\n",
              "</table>\n",
              "</div>"
            ],
            "text/plain": [
              "   index             reference  ...       max  score_div_max\n",
              "0      0  These Foolish Things  ...  0.677200       1.000000\n",
              "1      1  These Foolish Things  ...  0.751212       1.000000\n",
              "2      2  These Foolish Things  ...  0.751212       1.000000\n",
              "3      3  These Foolish Things  ...  0.751212       1.000000\n",
              "4      4  These Foolish Things  ...  0.751212       0.991689\n",
              "\n",
              "[5 rows x 6 columns]"
            ]
          },
          "metadata": {},
          "execution_count": 53
        }
      ]
    },
    {
      "cell_type": "markdown",
      "metadata": {
        "id": "UveSDI6QWALe"
      },
      "source": [
        "Copy results into a dataframe for later logging to W&B"
      ]
    },
    {
      "cell_type": "code",
      "metadata": {
        "id": "AEEqdXBiT5bl"
      },
      "source": [
        "dd = pd.DataFrame(columns = recommender_results_cols)\n",
        "\n",
        "for tune in tunes_eval_list:\n",
        "  result, details = recommend_tune(df_sim, tune)\n",
        "  dd['id'] = result['index']\n",
        "  dd['method'] = 'tfidf'\n",
        "  dd['reference'] = tune\n",
        "  dd['similar'] = result['similar_title']\n",
        "  dd['score_div_max'] = result['score_div_max']\n",
        "  dd['score'] = result['score']\n",
        "\n",
        "recommender_results = recommender_results.append(dd)"
      ],
      "execution_count": 54,
      "outputs": []
    },
    {
      "cell_type": "markdown",
      "metadata": {
        "id": "wqaUEFqxXZYB"
      },
      "source": [
        "### Test Contrafacts"
      ]
    },
    {
      "cell_type": "markdown",
      "metadata": {
        "id": "563ncYqAfIyN"
      },
      "source": [
        "With the model, query the top N highest matches for each section. For a tune, if at least one section receives the recommendation  for the expected title, increase the match counter."
      ]
    },
    {
      "cell_type": "code",
      "metadata": {
        "id": "RVPtraR-hg0G"
      },
      "source": [
        "def test_contrafacts(tunes, index, model, N=15):\n",
        "  matches = 0\n",
        "  number_of_sections = 0\n",
        "  results = {}\n",
        "\n",
        "  for tune, similar_tune in tunes.items():\n",
        "    \n",
        "    # loop over all sections of the tune\n",
        "    section_matches = 0\n",
        "    for s1 in title_to_sectionid[tune]:\n",
        "      query = processed_corpus[s1]\n",
        "      query_bow = dictionary.doc2bow(query)\n",
        "\n",
        "      # perform a similarity query against the corpus\n",
        "      similarities = index[model[query_bow]]\n",
        "      sims = sorted(enumerate(similarities), key=lambda item: -item[1])\n",
        "\n",
        "      # check if the section matches the expected title; consider only the first 15 recommendations\n",
        "      i = 0\n",
        "      for sectionid, value in sims:\n",
        "        if i >= N:\n",
        "          break\n",
        "        i += 1\n",
        "        if sectionid_to_title[sectionid] == similar_tune:\n",
        "          section_matches += 1\n",
        "\n",
        "    # for each title, increase matches if at least one of the section matched the expected title\n",
        "    if section_matches > 0:\n",
        "      matches += 1  \n",
        "      results[tune] = 1\n",
        "    else:\n",
        "      results[tune] = 0\n",
        "  \n",
        "  return matches, results\n"
      ],
      "execution_count": 55,
      "outputs": []
    },
    {
      "cell_type": "code",
      "metadata": {
        "colab": {
          "base_uri": "https://localhost:8080/"
        },
        "id": "Q628rO5DhxWD",
        "outputId": "ce7b7be1-17b2-4b6d-e1ce-5c807f6fa8c4"
      },
      "source": [
        "topN = 15\n",
        "matches, results = test_contrafacts(contrafacts, index_tfidf, tfidf, topN)\n",
        "\n",
        "[print(f\"{val}: {rr}\") for rr, val in results.items()] \n",
        "print() \n",
        "print(f\"Found matches: {matches} out of {len(contrafacts)}: {100*matches/len(contrafacts):.3f}%\")"
      ],
      "execution_count": 56,
      "outputs": [
        {
          "output_type": "stream",
          "name": "stdout",
          "text": [
            "1: 26-2\n",
            "0: 52nd Street Theme\n",
            "1: Ablution\n",
            "1: Anthropology\n",
            "1: Ballade\n",
            "1: Bright Mississippi\n",
            "1: C.T.A.\n",
            "0: Celia\n",
            "1: Cottontail\n",
            "1: Countdown\n",
            "0: Dewey Square\n",
            "1: Dexterity\n",
            "1: Dig\n",
            "1: Donna Lee\n",
            "0: Don't Be That Way\n",
            "0: Eternal Triangle\n",
            "0: Evidence\n",
            "1: Flintstones\n",
            "0: Four On Six\n",
            "1: Freight Train\n",
            "0: Good Bait\n",
            "0: Hackensack\n",
            "1: Half Nelson\n",
            "1: Hot House\n",
            "1: Impressions\n",
            "0: In A Mellow Tone (In A Mellotone)\n",
            "1: In Walked Bud\n",
            "1: Ko Ko\n",
            "0: Lennie's Pennies\n",
            "0: Little Rootie Tootie\n",
            "0: Little Willie Leaps\n",
            "0: Lullaby Of Birdland\n",
            "1: Moose The Mooche\n",
            "0: My Little Suede Shoes\n",
            "1: Oleo\n",
            "1: Ornithology\n",
            "1: Passport\n",
            "0: Quasimodo (Theme)\n",
            "1: Rhythm-a-ning\n",
            "0: Room 608\n",
            "1: Salt Peanuts\n",
            "1: Satellite\n",
            "1: Scrapple From The Apple\n",
            "1: Seven Come Eleven\n",
            "1: Shaw 'Nuff\n",
            "1: Theme, The\n",
            "0: Tour De Force\n",
            "0: Wow\n",
            "1: Yardbird Suite\n",
            "0: Sweet Sue, Just You\n",
            "0: These Foolish Things\n",
            "1: Misty\n",
            "\n",
            "Found matches: 31 out of 52: 59.615%\n"
          ]
        }
      ]
    },
    {
      "cell_type": "code",
      "metadata": {
        "id": "8lKZukYybvMJ"
      },
      "source": [
        "if use_wandb:\n",
        "  wandb.log({'tfidf': {\n",
        "      'contrafacts': {\n",
        "          'topN': topN,\n",
        "          'success': matches/len(contrafacts),\n",
        "          #'results': results\n",
        "      }\n",
        "  }})"
      ],
      "execution_count": 57,
      "outputs": []
    },
    {
      "cell_type": "markdown",
      "metadata": {
        "id": "Phw7fBDk0px7"
      },
      "source": [
        "## Store TF-IDF Model to W&B"
      ]
    },
    {
      "cell_type": "code",
      "metadata": {
        "id": "KdYWJX-60pdd"
      },
      "source": [
        "if use_wandb:\n",
        "  model_artifact = wandb.Artifact(\n",
        "      \"tfidf-model\", \n",
        "      type=\"model\",\n",
        "      description=\"TF-IDF Model\",\n",
        "      metadata=\"\")\n",
        "\n",
        "  model_artifact.add_file(\"/content/index/tfidf.model\")\n",
        "  model_artifact.add_file(\"/content/index/tfidf.index\")\n",
        "  wandb.log_artifact(model_artifact)"
      ],
      "execution_count": 58,
      "outputs": []
    },
    {
      "cell_type": "markdown",
      "metadata": {
        "id": "99xHBRsd--OB"
      },
      "source": [
        "# LSA (Latent Semantic Analysis), aka LSI (Latent Semantic Index) "
      ]
    },
    {
      "cell_type": "code",
      "metadata": {
        "id": "adsW9Uh9_JXs"
      },
      "source": [
        "from collections import defaultdict"
      ],
      "execution_count": 59,
      "outputs": []
    },
    {
      "cell_type": "code",
      "metadata": {
        "colab": {
          "base_uri": "https://localhost:8080/"
        },
        "id": "s3AJZGRD_IHW",
        "outputId": "830b57da-aa7a-4a48-c4e8-51f7bdc96e59"
      },
      "source": [
        "num_topics = lsi_config['num_topics']\n",
        "\n",
        "# remove words that appear only once\n",
        "frequency = defaultdict(int)\n",
        "for text in processed_corpus:\n",
        "    for token in text:\n",
        "        frequency[token] += 1\n",
        "\n",
        "data = [[token for token in text if frequency[token] > 1] for text in processed_corpus]\n",
        "dictionary = corpora.Dictionary(data)\n",
        "\n",
        "# doc2bow counts the number of occurences of each distinct word,\n",
        "# converts the word to its integer word id and returns the result\n",
        "# as a sparse vector\n",
        "\n",
        "bow_corpus = [dictionary.doc2bow(text) for text in data]\n",
        "lsi = LsiModel(bow_corpus, id2word=dictionary, num_topics=num_topics)  # num_topics can be maximum the size of the number of unique tokens"
      ],
      "execution_count": 60,
      "outputs": [
        {
          "output_type": "stream",
          "name": "stderr",
          "text": [
            "2021-11-23 21:36:35,459 : INFO : adding document #0 to Dictionary(0 unique tokens: [])\n",
            "2021-11-23 21:36:35,606 : INFO : built Dictionary(2505 unique tokens: ['Am7-D7', 'B7-EM7', 'C#M7-E7', 'C7-FM7', 'CM7-Eb7']...) from 5391 documents (total 75986 corpus positions)\n",
            "2021-11-23 21:36:35,610 : INFO : Dictionary lifecycle event {'msg': \"built Dictionary(2505 unique tokens: ['Am7-D7', 'B7-EM7', 'C#M7-E7', 'C7-FM7', 'CM7-Eb7']...) from 5391 documents (total 75986 corpus positions)\", 'datetime': '2021-11-23T21:36:35.610818', 'gensim': '4.1.2', 'python': '3.7.12 (default, Sep 10 2021, 00:21:48) \\n[GCC 7.5.0]', 'platform': 'Linux-5.4.104+-x86_64-with-Ubuntu-18.04-bionic', 'event': 'created'}\n",
            "2021-11-23 21:36:35,679 : INFO : using serial LSI version on this node\n",
            "2021-11-23 21:36:35,680 : INFO : updating model with new documents\n",
            "2021-11-23 21:36:35,682 : INFO : preparing a new chunk of documents\n",
            "2021-11-23 21:36:35,737 : INFO : using 100 extra samples and 2 power iterations\n",
            "2021-11-23 21:36:35,743 : INFO : 1st phase: constructing (2505, 300) action matrix\n",
            "2021-11-23 21:36:35,845 : INFO : orthonormalizing (2505, 300) action matrix\n",
            "2021-11-23 21:36:36,207 : INFO : 2nd phase: running dense svd on (300, 5391) matrix\n",
            "2021-11-23 21:36:36,622 : INFO : computing the final decomposition\n",
            "2021-11-23 21:36:36,631 : INFO : keeping 200 factors (discarding 4.462% of energy spectrum)\n",
            "2021-11-23 21:36:36,664 : INFO : processed documents up to #5391\n",
            "2021-11-23 21:36:36,671 : INFO : topic #0(154.130): 0.491*\"G7-C\" + 0.472*\"C-C\" + 0.441*\"Dm7-G7\" + 0.286*\"G7-G7\" + 0.227*\"D7-G7\" + 0.160*\"C-G7\" + 0.148*\"A7-D7\" + 0.130*\"A7-Dm7\" + 0.121*\"D7-D7\" + 0.115*\"C7-F\"\n",
            "2021-11-23 21:36:36,678 : INFO : topic #1(127.376): 0.690*\"Dm7-G7\" + -0.346*\"C-C\" + 0.254*\"A7-Dm7\" + -0.249*\"G7-C\" + 0.238*\"G7-CM7\" + -0.182*\"G7-G7\" + 0.168*\"Em7-A7\" + 0.158*\"G7-C6\" + -0.116*\"C-G7\" + 0.111*\"Am7-Dm7\"\n",
            "2021-11-23 21:36:36,686 : INFO : topic #2(69.251): -0.591*\"C-C\" + 0.414*\"D7-G7\" + 0.370*\"G7-C\" + 0.333*\"A7-D7\" + -0.269*\"G7-G7\" + 0.159*\"C-A7\" + 0.111*\"D7-D7\" + 0.102*\"E7-A7\" + 0.097*\"C-E7\" + 0.092*\"E7-Am\"\n",
            "2021-11-23 21:36:36,692 : INFO : topic #3(61.572): 0.415*\"G7-G7\" + -0.375*\"G7-C\" + 0.308*\"D7-D7\" + 0.288*\"D7-G7\" + 0.211*\"A7-D7\" + 0.210*\"C7-C7\" + 0.208*\"CM7-CM7\" + -0.191*\"Dm7-G7\" + 0.189*\"Am7-Am7\" + -0.180*\"C-G7\"\n",
            "2021-11-23 21:36:36,699 : INFO : topic #4(55.414): -0.597*\"Am7-Am7\" + -0.466*\"E7-Am7\" + -0.367*\"Bm7b5-E7\" + -0.206*\"Am7-D7\" + 0.170*\"A7-D7\" + 0.166*\"D7-G7\" + 0.134*\"D7-D7\" + 0.113*\"G7-G7\" + -0.111*\"G7-C\" + -0.110*\"C-G7\"\n",
            "2021-11-23 21:36:36,704 : INFO : LsiModel lifecycle event {'msg': 'trained LsiModel(num_terms=2505, num_topics=200, decay=1.0, chunksize=20000) in 1.02s', 'datetime': '2021-11-23T21:36:36.704566', 'gensim': '4.1.2', 'python': '3.7.12 (default, Sep 10 2021, 00:21:48) \\n[GCC 7.5.0]', 'platform': 'Linux-5.4.104+-x86_64-with-Ubuntu-18.04-bionic', 'event': 'created'}\n"
          ]
        }
      ]
    },
    {
      "cell_type": "code",
      "metadata": {
        "id": "EvxSQFfBBNMJ"
      },
      "source": [
        "#index_lsi = similarities.Similarity('/content/index/index_lsi', bow_corpus, num_features=len(dictionary))"
      ],
      "execution_count": 61,
      "outputs": []
    },
    {
      "cell_type": "code",
      "metadata": {
        "colab": {
          "base_uri": "https://localhost:8080/"
        },
        "id": "3saA6NY5Tzer",
        "outputId": "48872860-4732-4de4-ffce-e2f4fe7f8fb9"
      },
      "source": [
        "index_lsi = similarities.SparseMatrixSimilarity(lsi[bow_corpus], num_features = len(dictionary))\n",
        "#index_lsi = similarities.MatrixSimilarity(lsi[bow_corpus])  # transform corpus to LSI space and index it\n"
      ],
      "execution_count": 62,
      "outputs": [
        {
          "output_type": "stream",
          "name": "stderr",
          "text": [
            "2021-11-23 21:36:36,734 : INFO : creating sparse index\n",
            "2021-11-23 21:36:36,743 : INFO : creating sparse matrix from corpus\n",
            "2021-11-23 21:36:36,753 : INFO : PROGRESS: at document #0\n",
            "2021-11-23 21:36:38,534 : INFO : created <5391x2505 sparse matrix of type '<class 'numpy.float32'>'\n",
            "\twith 1078199 stored elements in Compressed Sparse Row format>\n"
          ]
        }
      ]
    },
    {
      "cell_type": "code",
      "metadata": {
        "colab": {
          "base_uri": "https://localhost:8080/"
        },
        "id": "F5pbDMVyfEtS",
        "outputId": "87eaf3de-c1a9-47fe-80a6-180920596ac2"
      },
      "source": [
        "lsi.save('/content/index/lsi.model')\n",
        "index_lsi.save('/content/index/lsi_matrixsim.index')\n"
      ],
      "execution_count": 63,
      "outputs": [
        {
          "output_type": "stream",
          "name": "stderr",
          "text": [
            "2021-11-23 21:36:38,549 : INFO : Projection lifecycle event {'fname_or_handle': '/content/index/lsi.model.projection', 'separately': 'None', 'sep_limit': 10485760, 'ignore': frozenset(), 'datetime': '2021-11-23T21:36:38.549470', 'gensim': '4.1.2', 'python': '3.7.12 (default, Sep 10 2021, 00:21:48) \\n[GCC 7.5.0]', 'platform': 'Linux-5.4.104+-x86_64-with-Ubuntu-18.04-bionic', 'event': 'saving'}\n",
            "2021-11-23 21:36:38,559 : INFO : saved /content/index/lsi.model.projection\n",
            "2021-11-23 21:36:38,561 : INFO : LsiModel lifecycle event {'fname_or_handle': '/content/index/lsi.model', 'separately': 'None', 'sep_limit': 10485760, 'ignore': ['projection', 'dispatcher'], 'datetime': '2021-11-23T21:36:38.561638', 'gensim': '4.1.2', 'python': '3.7.12 (default, Sep 10 2021, 00:21:48) \\n[GCC 7.5.0]', 'platform': 'Linux-5.4.104+-x86_64-with-Ubuntu-18.04-bionic', 'event': 'saving'}\n",
            "2021-11-23 21:36:38,564 : INFO : not storing attribute projection\n",
            "2021-11-23 21:36:38,566 : INFO : not storing attribute dispatcher\n",
            "2021-11-23 21:36:38,571 : INFO : saved /content/index/lsi.model\n",
            "2021-11-23 21:36:38,574 : INFO : SparseMatrixSimilarity lifecycle event {'fname_or_handle': '/content/index/lsi_matrixsim.index', 'separately': 'None', 'sep_limit': 10485760, 'ignore': frozenset(), 'datetime': '2021-11-23T21:36:38.574510', 'gensim': '4.1.2', 'python': '3.7.12 (default, Sep 10 2021, 00:21:48) \\n[GCC 7.5.0]', 'platform': 'Linux-5.4.104+-x86_64-with-Ubuntu-18.04-bionic', 'event': 'saving'}\n",
            "2021-11-23 21:36:38,590 : INFO : saved /content/index/lsi_matrixsim.index\n"
          ]
        }
      ]
    },
    {
      "cell_type": "code",
      "metadata": {
        "colab": {
          "base_uri": "https://localhost:8080/"
        },
        "id": "1udPIceqYk6S",
        "outputId": "bac51b81-557f-4075-a1cf-5fafbfccc159"
      },
      "source": [
        "!ls -la /content/index"
      ],
      "execution_count": 64,
      "outputs": [
        {
          "output_type": "stream",
          "name": "stdout",
          "text": [
            "total 13032\n",
            "drwxr-xr-x 2 root root    4096 Nov 23 21:36 .\n",
            "drwxr-xr-x 1 root root    4096 Nov 23 21:36 ..\n",
            "-rw-r--r-- 1 root root 8648061 Nov 23 21:36 lsi_matrixsim.index\n",
            "-rw-r--r-- 1 root root   77638 Nov 23 21:36 lsi.model\n",
            "-rw-r--r-- 1 root root 4010291 Nov 23 21:36 lsi.model.projection\n",
            "-rw-r--r-- 1 root root  488641 Nov 23 21:36 tfidf.index\n",
            "-rw-r--r-- 1 root root  101754 Nov 23 21:36 tfidf.model\n"
          ]
        }
      ]
    },
    {
      "cell_type": "markdown",
      "metadata": {
        "id": "u05KD64Ai1uo"
      },
      "source": [
        "## Tests"
      ]
    },
    {
      "cell_type": "markdown",
      "metadata": {
        "id": "pDxTCAGv9MmZ"
      },
      "source": [
        "### Test for single tunes"
      ]
    },
    {
      "cell_type": "code",
      "metadata": {
        "colab": {
          "base_uri": "https://localhost:8080/"
        },
        "id": "khASSJ1eEuf5",
        "outputId": "14e2cb1a-25b0-4209-8249-6c6e1e2064a6"
      },
      "source": [
        "%%time\n",
        "df_sim = get_sim_scores(tunes_eval_list, index=index_lsi, model=lsi)\n",
        "df_lsi = df_sim[:]"
      ],
      "execution_count": 65,
      "outputs": [
        {
          "output_type": "stream",
          "name": "stdout",
          "text": [
            "\n",
            "--------------------------------------------------\n",
            "125 After You've Gone, section1 (A)\n",
            "126 After You've Gone, section2 (B)\n",
            "127 After You've Gone, section3 (A)\n",
            "128 After You've Gone, section4 (C)\n",
            "\n",
            "--------------------------------------------------\n",
            "188 All God's Chillun Got Rhythm, section1 (A)\n",
            "189 All God's Chillun Got Rhythm, section2 (B)\n",
            "190 All God's Chillun Got Rhythm, section3 (A)\n",
            "191 All God's Chillun Got Rhythm, section4 (C)\n",
            "\n",
            "--------------------------------------------------\n",
            "198 All Of Me, section1 (A)\n",
            "199 All Of Me, section2 (B)\n",
            "200 All Of Me, section3 (A)\n",
            "201 All Of Me, section4 (C)\n",
            "\n",
            "--------------------------------------------------\n",
            "474 Blood Count, section1 (A)\n",
            "475 Blood Count, section2 (A)\n",
            "476 Blood Count, section3 (B)\n",
            "477 Blood Count, section4 (A)\n",
            "478 Blood Count, section5 (C)\n",
            "\n",
            "--------------------------------------------------\n",
            "496 Blue Moon, section1 (A)\n",
            "497 Blue Moon, section2 (A)\n",
            "498 Blue Moon, section3 (B)\n",
            "499 Blue Moon, section4 (A)\n",
            "\n",
            "--------------------------------------------------\n",
            "626 But Beautiful, section1 (A)\n",
            "627 But Beautiful, section2 (B)\n",
            "628 But Beautiful, section3 (A)\n",
            "629 But Beautiful, section4 (C)\n",
            "\n",
            "--------------------------------------------------\n",
            "653 Bye Bye Blackbird, section1 (A)\n",
            "654 Bye Bye Blackbird, section2 (B)\n",
            "4559 Bye Bye Blackbird, section1 (A)\n",
            "\n",
            "--------------------------------------------------\n",
            "676 Call Me Irresponsible, section1 (A)\n",
            "677 Call Me Irresponsible, section2 (B)\n",
            "678 Call Me Irresponsible, section3 (A)\n",
            "679 Call Me Irresponsible, section4 (B)\n",
            "\n",
            "--------------------------------------------------\n",
            "826 Corcovado, section1 (A)\n",
            "827 Corcovado, section2 (B)\n",
            "828 Corcovado, section3 (A)\n",
            "829 Corcovado, section4 (C)\n",
            "\n",
            "--------------------------------------------------\n",
            "997 Dinah, section1 (A)\n",
            "998 Dinah, section2 (A)\n",
            "999 Dinah, section3 (B)\n",
            "1000 Dinah, section4 (A)\n",
            "\n",
            "--------------------------------------------------\n",
            "1125 East Of The Sun, section1 (A)\n",
            "1126 East Of The Sun, section2 (B)\n",
            "1127 East Of The Sun, section3 (A)\n",
            "1128 East Of The Sun, section4 (C)\n",
            "\n",
            "--------------------------------------------------\n",
            "1287 Footprints, section0 (nan)\n",
            "\n",
            "--------------------------------------------------\n",
            "1379 Giant Steps, section0 (nan)\n",
            "\n",
            "--------------------------------------------------\n",
            "1538 Honeysuckle Rose, section1 (A)\n",
            "1539 Honeysuckle Rose, section2 (A)\n",
            "1540 Honeysuckle Rose, section3 (B)\n",
            "1541 Honeysuckle Rose, section4 (A)\n",
            "4781 Honeysuckle Rose, section1 (A)\n",
            "4782 Honeysuckle Rose, section2 (A)\n",
            "4783 Honeysuckle Rose, section3 (B)\n",
            "4784 Honeysuckle Rose, section4 (A)\n",
            "\n",
            "--------------------------------------------------\n",
            "1647 I Got Rhythm, section1 (A)\n",
            "1648 I Got Rhythm, section2 (A)\n",
            "1649 I Got Rhythm, section3 (B)\n",
            "1650 I Got Rhythm, section4 (A)\n",
            "4809 I Got Rhythm, section1 (A)\n",
            "4810 I Got Rhythm, section2 (A)\n",
            "4811 I Got Rhythm, section3 (B)\n",
            "4812 I Got Rhythm, section4 (A)\n",
            "\n",
            "--------------------------------------------------\n",
            "2670 Misty, section1 (A)\n",
            "2671 Misty, section2 (A)\n",
            "2672 Misty, section3 (B)\n",
            "2673 Misty, section4 (A)\n",
            "\n",
            "--------------------------------------------------\n",
            "2857 Naima, section1 (A)\n",
            "2858 Naima, section2 (A)\n",
            "2859 Naima, section3 (B)\n",
            "2860 Naima, section4 (A)\n",
            "\n",
            "--------------------------------------------------\n",
            "5044 Old Fashioned Love, section0 (nan)\n",
            "\n",
            "--------------------------------------------------\n",
            "3142 Perdido, section1 (A)\n",
            "3143 Perdido, section2 (A)\n",
            "3144 Perdido, section3 (B)\n",
            "3145 Perdido, section4 (A)\n",
            "\n",
            "--------------------------------------------------\n",
            "3276 Rockin' Chair, section1 (A)\n",
            "3277 Rockin' Chair, section2 (B)\n",
            "3278 Rockin' Chair, section3 (A)\n",
            "5110 Rockin' Chair, section1 (A)\n",
            "5111 Rockin' Chair, section2 (B)\n",
            "5112 Rockin' Chair, section3 (A)\n",
            "\n",
            "--------------------------------------------------\n",
            "3578 Sophisticated Lady, section1 (A)\n",
            "3579 Sophisticated Lady, section2 (A)\n",
            "3580 Sophisticated Lady, section3 (B)\n",
            "3581 Sophisticated Lady, section4 (A)\n",
            "\n",
            "--------------------------------------------------\n",
            "3746 Sweet Sue, Just You, section1 (A)\n",
            "3747 Sweet Sue, Just You, section2 (A)\n",
            "3748 Sweet Sue, Just You, section3 (B)\n",
            "3749 Sweet Sue, Just You, section4 (A)\n",
            "\n",
            "--------------------------------------------------\n",
            "3860 These Foolish Things, section1 (A)\n",
            "3861 These Foolish Things, section2 (A)\n",
            "3862 These Foolish Things, section3 (B)\n",
            "3863 These Foolish Things, section4 (A)\n",
            "\n",
            "--------------------------------------------------\n",
            "4146 We'll Be Together Again, section1 (A)\n",
            "4147 We'll Be Together Again, section2 (A)\n",
            "4148 We'll Be Together Again, section3 (B)\n",
            "4149 We'll Be Together Again, section4 (A)\n",
            "CPU times: user 16.6 s, sys: 409 ms, total: 17 s\n",
            "Wall time: 16.7 s\n"
          ]
        }
      ]
    },
    {
      "cell_type": "code",
      "metadata": {
        "colab": {
          "base_uri": "https://localhost:8080/",
          "height": 542
        },
        "id": "X31lkvUsDAsU",
        "outputId": "234200e4-05cd-44b4-ebba-18ebd852496f"
      },
      "source": [
        "import plotly.express as px\n",
        "fig = px.histogram(df_sim, x=\"score\", nbins=50, title='LSI Scores')\n",
        "fig.show()"
      ],
      "execution_count": 66,
      "outputs": [
        {
          "output_type": "display_data",
          "data": {
            "text/html": [
              "<html>\n",
              "<head><meta charset=\"utf-8\" /></head>\n",
              "<body>\n",
              "    <div>\n",
              "            <script src=\"https://cdnjs.cloudflare.com/ajax/libs/mathjax/2.7.5/MathJax.js?config=TeX-AMS-MML_SVG\"></script><script type=\"text/javascript\">if (window.MathJax) {MathJax.Hub.Config({SVG: {font: \"STIX-Web\"}});}</script>\n",
              "                <script type=\"text/javascript\">window.PlotlyConfig = {MathJaxConfig: 'local'};</script>\n",
              "        <script src=\"https://cdn.plot.ly/plotly-latest.min.js\"></script>    \n",
              "            <div id=\"27bdf5ff-1027-4b04-a943-29486edaa115\" class=\"plotly-graph-div\" style=\"height:525px; width:100%;\"></div>\n",
              "            <script type=\"text/javascript\">\n",
              "                \n",
              "                    window.PLOTLYENV=window.PLOTLYENV || {};\n",
              "                    \n",
              "                if (document.getElementById(\"27bdf5ff-1027-4b04-a943-29486edaa115\")) {\n",
              "                    Plotly.newPlot(\n",
              "                        '27bdf5ff-1027-4b04-a943-29486edaa115',\n",
              "                        [{\"alignmentgroup\": \"True\", \"bingroup\": \"x\", \"hoverlabel\": {\"namelength\": 0}, \"hovertemplate\": \"score=%{x}<br>count=%{y}\", \"legendgroup\": \"\", \"marker\": {\"color\": \"#636efa\"}, \"name\": \"\", \"nbinsx\": 50, \"offsetgroup\": \"\", \"orientation\": \"v\", \"showlegend\": false, \"type\": \"histogram\", \"x\": [0.6314992904663086, 0.6314992904663086, 0.6314992904663086, 0.6314992904663086, 0.6207394599914551, 0.5463481545448303, 0.5405101180076599, 0.5235272645950317, 0.5235272645950317, 0.5201428532600403, 0.5161343216896057, 0.5161343216896057, 0.5156604051589966, 0.49974435567855835, 0.49714353680610657, 0.49714353680610657, 0.49192991852760315, 0.49007099866867065, 0.48346105217933655, 0.4820792078971863, 0.4799254536628723, 0.4792957901954651, 0.46188637614250183, 0.4607531726360321, 0.45847171545028687, 0.45534172654151917, 0.45534172654151917, 0.4502256512641907, 0.4502256512641907, 0.4439585506916046, 0.435790091753006, 0.43428534269332886, 0.43280941247940063, 0.4327492117881775, 0.43227794766426086, 0.43227794766426086, 0.431265652179718, 0.431265652179718, 0.42457208037376404, 0.4218216836452484, 0.4209139049053192, 0.8174053430557251, 0.7835807800292969, 0.7486359477043152, 0.7486359477043152, 0.7007843852043152, 0.7007843852043152, 0.6914500594139099, 0.6688860654830933, 0.6429025530815125, 0.6429025530815125, 0.6429025530815125, 0.6376841068267822, 0.6206686496734619, 0.6109610199928284, 0.5981873869895935, 0.5978058576583862, 0.5973241329193115, 0.5973241329193115, 0.5831736922264099, 0.580439567565918, 0.580439567565918, 0.580439567565918, 0.573298990726471, 0.573298990726471, 0.5655535459518433, 0.5655535459518433, 0.5655535459518433, 0.5589037537574768, 0.5589037537574768, 0.5587731599807739, 0.5583141446113586, 0.5533227920532227, 0.5526525378227234, 0.55059415102005, 0.5495457649230957, 0.5458593368530273, 0.5398960113525391, 0.5397883653640747, 0.5397883653640747, 0.538703978061676, 0.5373631119728088, 0.6314992904663086, 0.6314992904663086, 0.6314992904663086, 0.6314992904663086, 0.6207394599914551, 0.5463481545448303, 0.5405101180076599, 0.5235272645950317, 0.5235272645950317, 0.5201428532600403, 0.5161343216896057, 0.5161343216896057, 0.5156604051589966, 0.49974435567855835, 0.49714353680610657, 0.49714353680610657, 0.49192991852760315, 0.49007099866867065, 0.48346105217933655, 0.4820792078971863, 0.4799254536628723, 0.4792957901954651, 0.46188637614250183, 0.4607531726360321, 0.45847171545028687, 0.45534172654151917, 0.45534172654151917, 0.4502256512641907, 0.4502256512641907, 0.4439585506916046, 0.435790091753006, 0.43428534269332886, 0.43280941247940063, 0.4327492117881775, 0.43227794766426086, 0.43227794766426086, 0.431265652179718, 0.431265652179718, 0.42457208037376404, 0.4218216836452484, 0.4209139049053192, 0.6857008337974548, 0.6434820890426636, 0.641809344291687, 0.6311483383178711, 0.6301961541175842, 0.6169485449790955, 0.6104439496994019, 0.606768786907196, 0.606259822845459, 0.605593740940094, 0.5983930230140686, 0.5972087383270264, 0.5932846665382385, 0.5932846665382385, 0.5929183959960938, 0.5925315022468567, 0.5884959697723389, 0.5819332599639893, 0.5819332599639893, 0.580387532711029, 0.580387532711029, 0.5799585580825806, 0.579404890537262, 0.575812816619873, 0.575812816619873, 0.575812816619873, 0.573758602142334, 0.5732729434967041, 0.5723358392715454, 0.5723358392715454, 0.5698638558387756, 0.5692843794822693, 0.5688092112541199, 0.5685803890228271, 0.5676446557044983, 0.5661125779151917, 0.5589722394943237, 0.557826578617096, 0.557826578617096, 0.5571059584617615, 0.5526286959648132, 0.9193154573440552, 0.916959822177887, 0.9134420156478882, 0.9134420156478882, 0.9064448475837708, 0.9064448475837708, 0.9057781100273132, 0.8829159140586853, 0.881203293800354, 0.8777047395706177, 0.8733698129653931, 0.8712044358253479, 0.8626354932785034, 0.860980749130249, 0.8565237522125244, 0.8557181358337402, 0.8550683259963989, 0.8491409420967102, 0.8453971743583679, 0.8395261168479919, 0.8368005156517029, 0.8334636688232422, 0.8298290371894836, 0.8296105265617371, 0.8281441330909729, 0.8281441330909729, 0.8248807787895203, 0.8231272101402283, 0.8218773603439331, 0.8193839192390442, 0.8176558613777161, 0.8162186145782471, 0.8158757090568542, 0.8158757090568542, 0.8135547041893005, 0.8129088282585144, 0.8100703358650208, 0.8092517852783203, 0.8091947436332703, 0.8089470267295837, 0.8089470267295837, 0.8652747869491577, 0.7188380360603333, 0.7129574418067932, 0.7123819589614868, 0.7100003361701965, 0.7053477764129639, 0.6925328373908997, 0.6921648383140564, 0.6900562047958374, 0.6834140419960022, 0.6618695855140686, 0.6577382683753967, 0.6558383703231812, 0.6557032465934753, 0.6555265784263611, 0.654484748840332, 0.646693766117096, 0.6466312408447266, 0.645707905292511, 0.6450872421264648, 0.6444678902626038, 0.6429679989814758, 0.6411329507827759, 0.641010046005249, 0.6376264095306396, 0.636881411075592, 0.6355991363525391, 0.6331893801689148, 0.6295297741889954, 0.6277512907981873, 0.6225968599319458, 0.6177876591682434, 0.6172803044319153, 0.612179696559906, 0.612179696559906, 0.6105525493621826, 0.6104404330253601, 0.6087486743927002, 0.6081357598304749, 0.6076475977897644, 0.6074877977371216, 0.9193154573440552, 0.916959822177887, 0.9134420156478882, 0.9134420156478882, 0.9064448475837708, 0.9064448475837708, 0.9057781100273132, 0.8829159140586853, 0.881203293800354, 0.8777047395706177, 0.8733698129653931, 0.8712044358253479, 0.8626354932785034, 0.860980749130249, 0.8565237522125244, 0.8557181358337402, 0.8550683259963989, 0.8491409420967102, 0.8453971743583679, 0.8395261168479919, 0.8368005156517029, 0.8334636688232422, 0.8298290371894836, 0.8296105265617371, 0.8281441330909729, 0.8281441330909729, 0.8248807787895203, 0.8231272101402283, 0.8218773603439331, 0.8193839192390442, 0.8176558613777161, 0.8162186145782471, 0.8158757090568542, 0.8158757090568542, 0.8135547041893005, 0.8129088282585144, 0.8100703358650208, 0.8092517852783203, 0.8091947436332703, 0.8089470267295837, 0.8089470267295837, 0.9323520660400391, 0.8857570290565491, 0.8735529780387878, 0.833347737789154, 0.8297302722930908, 0.821077823638916, 0.8178396821022034, 0.7993497848510742, 0.7964609265327454, 0.7942988872528076, 0.7913123965263367, 0.7858421802520752, 0.7841939926147461, 0.783905029296875, 0.7816123962402344, 0.7749471068382263, 0.7705032825469971, 0.7674068212509155, 0.7624655961990356, 0.7613689303398132, 0.7613689303398132, 0.7613689303398132, 0.756712794303894, 0.7566858530044556, 0.7565170526504517, 0.7543749213218689, 0.7536787390708923, 0.7536787390708923, 0.7536247968673706, 0.7528546452522278, 0.7525660991668701, 0.7525587677955627, 0.7507081031799316, 0.7501617074012756, 0.7497331500053406, 0.7491621375083923, 0.7476168274879456, 0.7471228241920471, 0.741794764995575, 0.7398232221603394, 0.7397886514663696, 0.7551521062850952, 0.6892993450164795, 0.6266451478004456, 0.5833802223205566, 0.57916659116745, 0.5738317966461182, 0.5738317966461182, 0.5654255151748657, 0.5642315745353699, 0.5642315745353699, 0.5334334969520569, 0.5270861983299255, 0.5230768918991089, 0.5230768918991089, 0.5036572217941284, 0.5036572217941284, 0.5025086402893066, 0.49352261424064636, 0.49352261424064636, 0.4923560917377472, 0.4854622185230255, 0.48396405577659607, 0.48085498809814453, 0.47906622290611267, 0.476229190826416, 0.47417259216308594, 0.46960726380348206, 0.46652352809906006, 0.46620720624923706, 0.4623464345932007, 0.45627841353416443, 0.45552998781204224, 0.4555171728134155, 0.4519869387149811, 0.4519869387149811, 0.45144715905189514, 0.4493507742881775, 0.44457536935806274, 0.44457536935806274, 0.44202426075935364, 0.4407205581665039, 0.9071696996688843, 0.8312522172927856, 0.8086693286895752, 0.7975651621818542, 0.7583177089691162, 0.7559199929237366, 0.7316257953643799, 0.7275986075401306, 0.7189728617668152, 0.7178405523300171, 0.7118073105812073, 0.6858992576599121, 0.6811865568161011, 0.6770492792129517, 0.6670394539833069, 0.6663082838058472, 0.6559432148933411, 0.6477587819099426, 0.6457205414772034, 0.6404247879981995, 0.636369526386261, 0.6302289962768555, 0.6163873672485352, 0.615653932094574, 0.6133850812911987, 0.6133850812911987, 0.6130590438842773, 0.6103662848472595, 0.6076639890670776, 0.6076639890670776, 0.6075645685195923, 0.606650710105896, 0.6057661175727844, 0.6052538156509399, 0.6012715697288513, 0.593170166015625, 0.5905135869979858, 0.585705578327179, 0.5851291418075562, 0.5844255685806274, 0.5839424729347229, 0.7551521062850952, 0.6892993450164795, 0.6266451478004456, 0.5833802223205566, 0.57916659116745, 0.5738317966461182, 0.5738317966461182, 0.5654255151748657, 0.5642315745353699, 0.5642315745353699, 0.5334334969520569, 0.5270861983299255, 0.5230768918991089, 0.5230768918991089, 0.5036572217941284, 0.5036572217941284, 0.5025086402893066, 0.49352261424064636, 0.49352261424064636, 0.4923560917377472, 0.4854622185230255, 0.48396405577659607, 0.48085498809814453, 0.47906622290611267, 0.476229190826416, 0.47417259216308594, 0.46960726380348206, 0.46652352809906006, 0.46620720624923706, 0.4623464345932007, 0.45627841353416443, 0.45552998781204224, 0.4555171728134155, 0.4519869387149811, 0.4519869387149811, 0.45144715905189514, 0.4493507742881775, 0.44457536935806274, 0.44457536935806274, 0.44202426075935364, 0.4407205581665039, 0.8751530051231384, 0.8293759226799011, 0.8293759226799011, 0.8013651371002197, 0.8009049892425537, 0.7973455190658569, 0.7973336577415466, 0.7973336577415466, 0.796839714050293, 0.7916935086250305, 0.7886008024215698, 0.7886008024215698, 0.7874563932418823, 0.783277690410614, 0.781080424785614, 0.7765199542045593, 0.7737013101577759, 0.7737013101577759, 0.7717265486717224, 0.7689833045005798, 0.7684264183044434, 0.767568051815033, 0.7640166282653809, 0.7632785439491272, 0.7552387118339539, 0.7552387118339539, 0.7526686787605286, 0.749852180480957, 0.7496846318244934, 0.7483323812484741, 0.7482464909553528, 0.7461803555488586, 0.7445038557052612, 0.7444368004798889, 0.7422448992729187, 0.7397118210792542, 0.7397118210792542, 0.7395676970481873, 0.7388221025466919, 0.7381837368011475, 0.7380950450897217, 0.7270673513412476, 0.7270673513412476, 0.6460239291191101, 0.6305111050605774, 0.6179044842720032, 0.6016601324081421, 0.5960772037506104, 0.563010036945343, 0.555137574672699, 0.5520020723342896, 0.5520020723342896, 0.5520020723342896, 0.547987699508667, 0.547987699508667, 0.5470125079154968, 0.5449893474578857, 0.5330507159233093, 0.5316510796546936, 0.5202987790107727, 0.5171716213226318, 0.5150266289710999, 0.491441011428833, 0.4853664040565491, 0.4782959520816803, 0.4775392413139343, 0.4763866662979126, 0.4717090427875519, 0.4710060656070709, 0.4625764489173889, 0.46237921714782715, 0.4619542062282562, 0.45986422896385193, 0.4589346647262573, 0.4566129148006439, 0.4551478624343872, 0.45076262950897217, 0.44889670610427856, 0.4448452889919281, 0.4403366148471832, 0.439544677734375, 0.4381542205810547, 0.5878511667251587, 0.5878511667251587, 0.5840501189231873, 0.5784688591957092, 0.554084300994873, 0.554084300994873, 0.5135340094566345, 0.4900718927383423, 0.48510074615478516, 0.48510074615478516, 0.4794943630695343, 0.4794943630695343, 0.4794943630695343, 0.46289539337158203, 0.46141761541366577, 0.46141761541366577, 0.4535748064517975, 0.4535748064517975, 0.4522584080696106, 0.4522584080696106, 0.45212364196777344, 0.45212364196777344, 0.45212364196777344, 0.444359689950943, 0.444359689950943, 0.444359689950943, 0.4385360777378082, 0.4373704791069031, 0.43177035450935364, 0.4313090741634369, 0.4313090741634369, 0.42850175499916077, 0.4283994436264038, 0.42672377824783325, 0.4238780438899994, 0.4233427345752716, 0.4233427345752716, 0.42137429118156433, 0.42026105523109436, 0.42026105523109436, 0.4197753667831421, 0.5034820437431335, 0.44766151905059814, 0.44766151905059814, 0.43360549211502075, 0.3719281554222107, 0.3701283037662506, 0.3701283037662506, 0.36991894245147705, 0.33998531103134155, 0.30680540204048157, 0.30680540204048157, 0.30680540204048157, 0.2573464810848236, 0.2534789741039276, 0.240872323513031, 0.23833446204662323, 0.22623729705810547, 0.22371375560760498, 0.22130705416202545, 0.21980032324790955, 0.21267728507518768, 0.20826438069343567, 0.2066919207572937, 0.19962704181671143, 0.19955313205718994, 0.19955313205718994, 0.19603125751018524, 0.1911076307296753, 0.18995296955108643, 0.18750381469726562, 0.18566755950450897, 0.18305844068527222, 0.1757989078760147, 0.1757989078760147, 0.17552492022514343, 0.17389997839927673, 0.17352913320064545, 0.17352913320064545, 0.17314527928829193, 0.17185550928115845, 0.16956830024719238, 0.5878511667251587, 0.5878511667251587, 0.5840501189231873, 0.5784688591957092, 0.554084300994873, 0.554084300994873, 0.5135340094566345, 0.4900718927383423, 0.48510074615478516, 0.48510074615478516, 0.4794943630695343, 0.4794943630695343, 0.4794943630695343, 0.46289539337158203, 0.46141761541366577, 0.46141761541366577, 0.4535748064517975, 0.4535748064517975, 0.4522584080696106, 0.4522584080696106, 0.45212364196777344, 0.45212364196777344, 0.45212364196777344, 0.444359689950943, 0.444359689950943, 0.444359689950943, 0.4385360777378082, 0.4373704791069031, 0.43177035450935364, 0.4313090741634369, 0.4313090741634369, 0.42850175499916077, 0.4283994436264038, 0.42672377824783325, 0.4238780438899994, 0.4233427345752716, 0.4233427345752716, 0.42137429118156433, 0.42026105523109436, 0.42026105523109436, 0.4197753667831421, 0.8110119104385376, 0.7827006578445435, 0.6381337642669678, 0.6369796395301819, 0.6353585720062256, 0.6301330327987671, 0.6216446757316589, 0.6195449829101562, 0.5867176651954651, 0.5625780820846558, 0.5526478290557861, 0.53555828332901, 0.52552330493927, 0.5163684487342834, 0.5163684487342834, 0.48461562395095825, 0.4795851707458496, 0.4441162347793579, 0.4268535375595093, 0.4157121479511261, 0.41039857268333435, 0.40786421298980713, 0.3826116919517517, 0.37734752893447876, 0.3762059509754181, 0.3722403943538666, 0.36751309037208557, 0.3536731004714966, 0.3495837450027466, 0.34923529624938965, 0.3465380072593689, 0.34473130106925964, 0.3305753171443939, 0.32438454031944275, 0.3168812394142151, 0.30283328890800476, 0.2957572937011719, 0.2913070619106293, 0.2898695468902588, 0.2898695468902588, 0.28635627031326294, 0.9291345477104187, 0.9291345477104187, 0.9196884036064148, 0.9187772274017334, 0.9132004976272583, 0.9097414612770081, 0.8983237147331238, 0.8807189464569092, 0.8751916289329529, 0.8751916289329529, 0.8705897331237793, 0.8562443852424622, 0.854455292224884, 0.8512596487998962, 0.8478207588195801, 0.843900740146637, 0.8395909667015076, 0.8335305452346802, 0.8312520980834961, 0.8281441330909729, 0.8281441330909729, 0.825413167476654, 0.8238340020179749, 0.819665253162384, 0.8170924186706543, 0.8124348521232605, 0.8124348521232605, 0.8085579872131348, 0.8004606366157532, 0.8004606366157532, 0.7972204089164734, 0.7921515703201294, 0.7918714880943298, 0.7907174825668335, 0.7849830985069275, 0.7832937836647034, 0.7828646898269653, 0.7785307168960571, 0.774198055267334, 0.7701995372772217, 0.7693326473236084, 0.8816794753074646, 0.8816794753074646, 0.8519569039344788, 0.8453350067138672, 0.8435534834861755, 0.8312272429466248, 0.8210952877998352, 0.8121116757392883, 0.7992985248565674, 0.7963310480117798, 0.7963310480117798, 0.7895727753639221, 0.783979058265686, 0.783979058265686, 0.7830936908721924, 0.7819130420684814, 0.7796817421913147, 0.7779549360275269, 0.7746694087982178, 0.7742422223091125, 0.7716984748840332, 0.7709609866142273, 0.7693032622337341, 0.7547019720077515, 0.7529916763305664, 0.7529916763305664, 0.7509299516677856, 0.7459493279457092, 0.7280372977256775, 0.7280372977256775, 0.7272801399230957, 0.7269938588142395, 0.7261885404586792, 0.7232205867767334, 0.7231699824333191, 0.7231699824333191, 0.7215644717216492, 0.7149758338928223, 0.714167594909668, 0.7133901119232178, 0.7119535803794861, 0.8689723610877991, 0.8689723610877991, 0.8569563031196594, 0.8546411395072937, 0.8539912700653076, 0.8289130330085754, 0.8289130330085754, 0.8237962126731873, 0.8216181397438049, 0.8196069002151489, 0.8175414204597473, 0.8175414204597473, 0.81486976146698, 0.8059414029121399, 0.7995830774307251, 0.7982079386711121, 0.7982079386711121, 0.7972249984741211, 0.7942613363265991, 0.7935624718666077, 0.7931444048881531, 0.792028546333313, 0.7916027903556824, 0.7898174524307251, 0.7779452800750732, 0.7752153873443604, 0.7751252055168152, 0.7677901983261108, 0.7616396546363831, 0.7598316073417664, 0.7596849799156189, 0.7574949264526367, 0.7566647529602051, 0.7533162236213684, 0.7533162236213684, 0.7478556036949158, 0.7474541068077087, 0.7461998462677002, 0.7461998462677002, 0.7459929585456848, 0.7437740564346313, 0.9291345477104187, 0.9291345477104187, 0.9196884036064148, 0.9187772274017334, 0.9132004976272583, 0.9097414612770081, 0.8983237147331238, 0.8807189464569092, 0.8751916289329529, 0.8751916289329529, 0.8705897331237793, 0.8562443852424622, 0.854455292224884, 0.8512596487998962, 0.8478207588195801, 0.843900740146637, 0.8395909667015076, 0.8335305452346802, 0.8312520980834961, 0.8281441330909729, 0.8281441330909729, 0.825413167476654, 0.8238340020179749, 0.819665253162384, 0.8170924186706543, 0.8124348521232605, 0.8124348521232605, 0.8085579872131348, 0.8004606366157532, 0.8004606366157532, 0.7972204089164734, 0.7921515703201294, 0.7918714880943298, 0.7907174825668335, 0.7849830985069275, 0.7832937836647034, 0.7828646898269653, 0.7785307168960571, 0.774198055267334, 0.7701995372772217, 0.7693326473236084, 0.7320693135261536, 0.7277653813362122, 0.7277653813362122, 0.6666983962059021, 0.6566035747528076, 0.6310397982597351, 0.627837598323822, 0.627837598323822, 0.6212437152862549, 0.6203318238258362, 0.6203318238258362, 0.6172806620597839, 0.6137387752532959, 0.6123287677764893, 0.6123287677764893, 0.6123287677764893, 0.6101412773132324, 0.6067001819610596, 0.6044005155563354, 0.6020048260688782, 0.5982614755630493, 0.5982614755630493, 0.595232367515564, 0.5944274663925171, 0.5853437185287476, 0.5819650292396545, 0.5783393383026123, 0.5762488842010498, 0.566714346408844, 0.5635778903961182, 0.5607850551605225, 0.5575444102287292, 0.5546202063560486, 0.5496923327445984, 0.546451210975647, 0.54408198595047, 0.5423493385314941, 0.5353924632072449, 0.5352941155433655, 0.5300766229629517, 0.5300766229629517, 0.8336766958236694, 0.8038884401321411, 0.8009274005889893, 0.8009002804756165, 0.7914204597473145, 0.7898380160331726, 0.7898380160331726, 0.7803705334663391, 0.7731780409812927, 0.7731780409812927, 0.7713969349861145, 0.7712531089782715, 0.767559289932251, 0.7594094276428223, 0.7529229521751404, 0.7505924701690674, 0.7399167418479919, 0.7399167418479919, 0.7374074459075928, 0.7364296317100525, 0.7363160848617554, 0.7362746000289917, 0.7331094145774841, 0.7331094145774841, 0.7329317927360535, 0.7324903011322021, 0.7324903011322021, 0.7229758501052856, 0.7168013453483582, 0.7158188223838806, 0.7156205773353577, 0.7148845791816711, 0.7139615416526794, 0.7126490473747253, 0.7121676802635193, 0.7121676802635193, 0.7115706205368042, 0.7115706205368042, 0.7086111307144165, 0.7065143585205078, 0.7061196565628052, 0.7320693135261536, 0.7277653813362122, 0.7277653813362122, 0.6666983962059021, 0.6566035747528076, 0.6310397982597351, 0.627837598323822, 0.627837598323822, 0.6212437152862549, 0.6203318238258362, 0.6203318238258362, 0.6172806620597839, 0.6137387752532959, 0.6123287677764893, 0.6123287677764893, 0.6123287677764893, 0.6101412773132324, 0.6067001819610596, 0.6044005155563354, 0.6020048260688782, 0.5982614755630493, 0.5982614755630493, 0.595232367515564, 0.5944274663925171, 0.5853437185287476, 0.5819650292396545, 0.5783393383026123, 0.5762488842010498, 0.566714346408844, 0.5635778903961182, 0.5607850551605225, 0.5575444102287292, 0.5546202063560486, 0.5496923327445984, 0.546451210975647, 0.54408198595047, 0.5423493385314941, 0.5353924632072449, 0.5352941155433655, 0.5300766229629517, 0.5300766229629517, 0.8126452565193176, 0.8120806217193604, 0.7958145141601562, 0.7820218801498413, 0.7766379117965698, 0.7763916254043579, 0.7693403959274292, 0.7652772665023804, 0.7621049880981445, 0.7542393803596497, 0.7539929151535034, 0.7494305968284607, 0.7481215596199036, 0.7447254657745361, 0.7425290942192078, 0.7394705414772034, 0.7388306856155396, 0.7364542484283447, 0.733041524887085, 0.732406497001648, 0.7276799082756042, 0.7267603874206543, 0.7258632779121399, 0.7176821827888489, 0.7176821827888489, 0.7175387740135193, 0.7122372388839722, 0.7121675610542297, 0.7082884907722473, 0.6994614005088806, 0.6971344351768494, 0.6953996419906616, 0.6924681663513184, 0.6922794580459595, 0.6919568777084351, 0.691683292388916, 0.6902530193328857, 0.6896854639053345, 0.687441349029541, 0.6863353252410889, 0.6856051087379456, 0.9183515906333923, 0.8979251384735107, 0.8784345984458923, 0.8784345984458923, 0.8776128888130188, 0.8767386674880981, 0.8713314533233643, 0.8713314533233643, 0.8713314533233643, 0.8574578762054443, 0.8542404174804688, 0.8490911722183228, 0.8452413082122803, 0.8446804285049438, 0.8431919813156128, 0.8431919813156128, 0.8431919813156128, 0.8428944945335388, 0.842410147190094, 0.842410147190094, 0.8394668102264404, 0.8368098139762878, 0.8329734802246094, 0.8329734802246094, 0.8318759202957153, 0.8242582678794861, 0.8182799220085144, 0.8152911067008972, 0.8143670558929443, 0.8116298317909241, 0.8105660080909729, 0.8104578852653503, 0.8090311288833618, 0.8079071640968323, 0.8054938316345215, 0.8045182824134827, 0.8021144270896912, 0.7996596097946167, 0.7962719798088074, 0.7960406541824341, 0.7949645519256592, 0.8401761651039124, 0.8401761651039124, 0.8401761651039124, 0.8371363282203674, 0.8275045156478882, 0.8246893882751465, 0.82206791639328, 0.8181918263435364, 0.8117281198501587, 0.8109304308891296, 0.8090648055076599, 0.8090648055076599, 0.8045055866241455, 0.7826750874519348, 0.7626946568489075, 0.7615098357200623, 0.7602161169052124, 0.7602161169052124, 0.7601443529129028, 0.7549379467964172, 0.7547308206558228, 0.7539869546890259, 0.7537426948547363, 0.7534396052360535, 0.7486017942428589, 0.7483126521110535, 0.7422448992729187, 0.7405272126197815, 0.7404272556304932, 0.7395356297492981, 0.7395356297492981, 0.7372147440910339, 0.7367532849311829, 0.7359175682067871, 0.7346203923225403, 0.7346203923225403, 0.7332352995872498, 0.7299862504005432, 0.728373110294342, 0.7279622554779053, 0.7271453738212585, 0.8339406847953796, 0.7976082563400269, 0.7855619192123413, 0.7855619192123413, 0.770444393157959, 0.7608941793441772, 0.7533210515975952, 0.7533210515975952, 0.7533210515975952, 0.7497919201850891, 0.7497919201850891, 0.7493333220481873, 0.7463011741638184, 0.7403382658958435, 0.7371519804000854, 0.7297771573066711, 0.7282251119613647, 0.7216231822967529, 0.7191365957260132, 0.7191365957260132, 0.716029703617096, 0.7158915996551514, 0.7156602740287781, 0.7156602740287781, 0.7156602740287781, 0.7135774493217468, 0.7109256386756897, 0.7109256386756897, 0.7031603455543518, 0.7028164863586426, 0.7012383937835693, 0.6998376250267029, 0.6981269121170044, 0.6970727443695068, 0.6970727443695068, 0.6970727443695068, 0.6914088129997253, 0.6897381544113159, 0.6833109855651855, 0.6822352409362793, 0.6822352409362793, 0.5918259620666504, 0.5918259620666504, 0.5467579364776611, 0.5114912390708923, 0.5036572217941284, 0.5036572217941284, 0.48958057165145874, 0.46776434779167175, 0.4633026421070099, 0.4633026421070099, 0.453911691904068, 0.453911691904068, 0.45148903131484985, 0.45141318440437317, 0.4447391927242279, 0.43448328971862793, 0.4288175106048584, 0.41497400403022766, 0.39936041831970215, 0.39655134081840515, 0.3804650902748108, 0.3803046643733978, 0.3746790885925293, 0.3746790885925293, 0.3746790885925293, 0.36986953020095825, 0.3682157099246979, 0.36336299777030945, 0.3633536398410797, 0.3593924939632416, 0.35683172941207886, 0.35183480381965637, 0.35081514716148376, 0.35081514716148376, 0.3480508327484131, 0.3466295599937439, 0.34627822041511536, 0.34627822041511536, 0.34565767645835876, 0.3450694978237152, 0.34435197710990906, 0.8854604959487915, 0.8854604959487915, 0.8393766283988953, 0.8205341696739197, 0.8057564496994019, 0.78192538022995, 0.7767906188964844, 0.7739971280097961, 0.7533257007598877, 0.7521748542785645, 0.7427202463150024, 0.7405370473861694, 0.7392029166221619, 0.7391800880432129, 0.7373507022857666, 0.7303354740142822, 0.7303354740142822, 0.7254371047019958, 0.7186928391456604, 0.7184159159660339, 0.7128406167030334, 0.7121803760528564, 0.7051647901535034, 0.70423424243927, 0.7036537528038025, 0.7033241391181946, 0.7033241391181946, 0.6986278891563416, 0.698373019695282, 0.6972094178199768, 0.6961321830749512, 0.6913034319877625, 0.6909837126731873, 0.6909153461456299, 0.6901875734329224, 0.6867939829826355, 0.6855263710021973, 0.6854228377342224, 0.6812465190887451, 0.6758995652198792, 0.6756314039230347, 0.5918259620666504, 0.5918259620666504, 0.5467579364776611, 0.5114912390708923, 0.5036572217941284, 0.5036572217941284, 0.48958057165145874, 0.46776434779167175, 0.4633026421070099, 0.4633026421070099, 0.453911691904068, 0.453911691904068, 0.45148903131484985, 0.45141318440437317, 0.4447391927242279, 0.43448328971862793, 0.4288175106048584, 0.41497400403022766, 0.39936041831970215, 0.39655134081840515, 0.3804650902748108, 0.3803046643733978, 0.3746790885925293, 0.3746790885925293, 0.3746790885925293, 0.36986953020095825, 0.3682157099246979, 0.36336299777030945, 0.3633536398410797, 0.3593924939632416, 0.35683172941207886, 0.35183480381965637, 0.35081514716148376, 0.35081514716148376, 0.3480508327484131, 0.3466295599937439, 0.34627822041511536, 0.34627822041511536, 0.34565767645835876, 0.3450694978237152, 0.34435197710990906, 0.8633100986480713, 0.8611851930618286, 0.854256808757782, 0.8505001068115234, 0.8457151055335999, 0.83102947473526, 0.8233287930488586, 0.8197628855705261, 0.8176565766334534, 0.8167914152145386, 0.8157731294631958, 0.8145930171012878, 0.8141485452651978, 0.8139670491218567, 0.8125520944595337, 0.808417558670044, 0.808417558670044, 0.8075944781303406, 0.8062637448310852, 0.804940938949585, 0.804940938949585, 0.7992419600486755, 0.7934251427650452, 0.7898620963096619, 0.7893820405006409, 0.7887334823608398, 0.7884997725486755, 0.7873783111572266, 0.7873783111572266, 0.7821159958839417, 0.781033456325531, 0.7775493264198303, 0.7770054936408997, 0.776614785194397, 0.7758670449256897, 0.7757420539855957, 0.7754024863243103, 0.7741196155548096, 0.7741196155548096, 0.772148609161377, 0.7715310454368591, 0.6450815796852112, 0.62666916847229, 0.6150566935539246, 0.6103591918945312, 0.6032283902168274, 0.579513669013977, 0.579513669013977, 0.579303503036499, 0.5121150612831116, 0.5107084512710571, 0.506667971611023, 0.5015871524810791, 0.49393367767333984, 0.4896780848503113, 0.4890505373477936, 0.4887523651123047, 0.4887523651123047, 0.48724886775016785, 0.48591047525405884, 0.48591047525405884, 0.4854743182659149, 0.4798356294631958, 0.4798356294631958, 0.47288915514945984, 0.47288915514945984, 0.47288915514945984, 0.4714350402355194, 0.4713347554206848, 0.4713347554206848, 0.4713347554206848, 0.4711708724498749, 0.469469279050827, 0.4691934883594513, 0.4690256416797638, 0.4681628942489624, 0.46716123819351196, 0.46606209874153137, 0.462126761674881, 0.4585500955581665, 0.4529953896999359, 0.4529953896999359, 0.869384229183197, 0.7448405027389526, 0.7236351370811462, 0.6982061862945557, 0.6798473000526428, 0.6771480441093445, 0.6737509369850159, 0.654339075088501, 0.654339075088501, 0.6438783407211304, 0.6381998062133789, 0.6381998062133789, 0.6350047588348389, 0.6215288043022156, 0.6134897470474243, 0.6112294793128967, 0.6065067648887634, 0.6048083901405334, 0.598891019821167, 0.5979580283164978, 0.5976580381393433, 0.5948253273963928, 0.5946357250213623, 0.5946357250213623, 0.5936863422393799, 0.591447651386261, 0.591447651386261, 0.5854759216308594, 0.5823444128036499, 0.5823444128036499, 0.5818665027618408, 0.5817468166351318, 0.5796741843223572, 0.5783621072769165, 0.575334370136261, 0.5725117921829224, 0.5700365304946899, 0.5700365304946899, 0.568551778793335, 0.565109133720398, 0.5650972127914429, 0.6450815796852112, 0.62666916847229, 0.6150566935539246, 0.6103591918945312, 0.6032283902168274, 0.579513669013977, 0.579513669013977, 0.579303503036499, 0.5121150612831116, 0.5107084512710571, 0.506667971611023, 0.5015871524810791, 0.49393367767333984, 0.4896780848503113, 0.4890505373477936, 0.4887523651123047, 0.4887523651123047, 0.48724886775016785, 0.48591047525405884, 0.48591047525405884, 0.4854743182659149, 0.4798356294631958, 0.4798356294631958, 0.47288915514945984, 0.47288915514945984, 0.47288915514945984, 0.4714350402355194, 0.4713347554206848, 0.4713347554206848, 0.4713347554206848, 0.4711708724498749, 0.469469279050827, 0.4691934883594513, 0.4690256416797638, 0.4681628942489624, 0.46716123819351196, 0.46606209874153137, 0.462126761674881, 0.4585500955581665, 0.4529953896999359, 0.4529953896999359, 0.8494598269462585, 0.8037567734718323, 0.8037567734718323, 0.7978196740150452, 0.7958145141601562, 0.7934157252311707, 0.7908601760864258, 0.7874788045883179, 0.7840450406074524, 0.7763317227363586, 0.7727783918380737, 0.7726525068283081, 0.7719486355781555, 0.7712545394897461, 0.7680568099021912, 0.7656164765357971, 0.7636237144470215, 0.7630252838134766, 0.7612704634666443, 0.7612375617027283, 0.7610718607902527, 0.7605389356613159, 0.7598560452461243, 0.7594853043556213, 0.7572649121284485, 0.757221519947052, 0.7562415599822998, 0.7561169862747192, 0.7547701597213745, 0.7544142007827759, 0.7509927153587341, 0.7509927153587341, 0.7491036653518677, 0.7472469806671143, 0.7464202046394348, 0.7462515234947205, 0.7456461787223816, 0.7447035908699036, 0.7436816692352295, 0.7414718270301819, 0.7413536906242371, 0.8690822124481201, 0.864597737789154, 0.8559417724609375, 0.8533974289894104, 0.8411402702331543, 0.8411402702331543, 0.8316632509231567, 0.8244239687919617, 0.8228995203971863, 0.8228995203971863, 0.8225297331809998, 0.8222957849502563, 0.8221005201339722, 0.8201313614845276, 0.8185468316078186, 0.8178707957267761, 0.8123711943626404, 0.8123655915260315, 0.8123655915260315, 0.8059127330780029, 0.8048685193061829, 0.8042578101158142, 0.8036854863166809, 0.8036854863166809, 0.8011804819107056, 0.7961447834968567, 0.7945438027381897, 0.7927002906799316, 0.7907174825668335, 0.7907174825668335, 0.7905928492546082, 0.7886817455291748, 0.7879774570465088, 0.7851516008377075, 0.7818362712860107, 0.7807593941688538, 0.7807593941688538, 0.7807294130325317, 0.7793349623680115, 0.7737325429916382, 0.7731525301933289, 0.837375819683075, 0.8113120198249817, 0.8101933002471924, 0.8089467883110046, 0.8046002984046936, 0.8026002645492554, 0.8026002645492554, 0.8019682765007019, 0.8019682765007019, 0.7960842847824097, 0.7949373126029968, 0.7898083925247192, 0.7898083925247192, 0.7891963720321655, 0.7890267372131348, 0.7878943085670471, 0.7874009609222412, 0.7839457392692566, 0.7832937836647034, 0.7832937836647034, 0.782263457775116, 0.7821211218833923, 0.7801439166069031, 0.7791951298713684, 0.7779338359832764, 0.7774954438209534, 0.7767187356948853, 0.7708168029785156, 0.767585813999176, 0.7635995745658875, 0.7622604966163635, 0.7592412233352661, 0.7591326236724854, 0.7589998841285706, 0.7559470534324646, 0.7559470534324646, 0.7545254826545715, 0.7508747577667236, 0.7506744861602783, 0.7506481409072876, 0.7479978799819946, 0.7728005051612854, 0.6812155842781067, 0.6812155842781067, 0.6812155842781067, 0.6812155842781067, 0.6812155842781067, 0.6812155842781067, 0.6812155842781067, 0.6812155842781067, 0.6812155842781067, 0.6792882680892944, 0.6476169228553772, 0.6470075845718384, 0.6445431709289551, 0.6249585747718811, 0.6247019171714783, 0.6247019171714783, 0.6244091391563416, 0.6243523359298706, 0.6203302145004272, 0.6157609224319458, 0.6155353784561157, 0.6071029305458069, 0.6041433215141296, 0.6041433215141296, 0.5938026309013367, 0.5924704670906067, 0.5922446846961975, 0.5904217958450317, 0.5806881189346313, 0.5644949674606323, 0.5559656620025635, 0.55410236120224, 0.5493068099021912, 0.544946014881134, 0.5446585416793823, 0.5413516759872437, 0.5411741733551025, 0.54012131690979, 0.5390247702598572, 0.5384364724159241, 0.8786596059799194, 0.8654659986495972, 0.8595619201660156, 0.8579684495925903, 0.8578609824180603, 0.8511877059936523, 0.8511529564857483, 0.8460291624069214, 0.8460291624069214, 0.8401035070419312, 0.8401035070419312, 0.8302719593048096, 0.8298414349555969, 0.8275736570358276, 0.823628842830658, 0.823336124420166, 0.8233348727226257, 0.8199077248573303, 0.8193179368972778, 0.818364143371582, 0.8125106692314148, 0.8116341829299927, 0.8116341829299927, 0.8092177510261536, 0.8066819906234741, 0.804328441619873, 0.796411395072937, 0.7948803901672363, 0.7944398522377014, 0.7922582030296326, 0.7918714880943298, 0.7918714880943298, 0.7910388708114624, 0.7895298004150391, 0.7838298082351685, 0.7836182117462158, 0.7793870568275452, 0.7793870568275452, 0.7762430310249329, 0.7751954197883606, 0.7751954197883606, 0.8358209133148193, 0.8032585382461548, 0.7072107195854187, 0.6929178833961487, 0.6929178833961487, 0.6929178833961487, 0.669445812702179, 0.669445812702179, 0.648383378982544, 0.648383378982544, 0.6264961957931519, 0.6026490330696106, 0.6019312143325806, 0.5918362736701965, 0.589572548866272, 0.5796484351158142, 0.5796484351158142, 0.5796484351158142, 0.5796484351158142, 0.5718761682510376, 0.5718761682510376, 0.5617262125015259, 0.5594699382781982, 0.5468874573707581, 0.5356400609016418, 0.5312259793281555, 0.5300683975219727, 0.5263204574584961, 0.5237323045730591, 0.5205150842666626, 0.5179588794708252, 0.512544572353363, 0.512544572353363, 0.5086084604263306, 0.5020270943641663, 0.502019464969635, 0.5000625848770142, 0.499340295791626, 0.4973791539669037, 0.49714353680610657, 0.49714353680610657, 0.8956180810928345, 0.8561501502990723, 0.851218044757843, 0.8460369110107422, 0.8368690609931946, 0.8218523859977722, 0.8101833462715149, 0.7953246235847473, 0.7934899926185608, 0.7795729041099548, 0.7735182046890259, 0.7688522338867188, 0.7678377032279968, 0.7622479200363159, 0.761613667011261, 0.7599429488182068, 0.7583177089691162, 0.7529073357582092, 0.7514999508857727, 0.7478561997413635, 0.7472555637359619, 0.7455044984817505, 0.7450737357139587, 0.7408415079116821, 0.7386983036994934, 0.7371103763580322, 0.7368829846382141, 0.7359586358070374, 0.733957052230835, 0.7259845733642578, 0.7254371047019958, 0.724603533744812, 0.7213783860206604, 0.7203346490859985, 0.7178601026535034, 0.7164953351020813, 0.7158727645874023, 0.7132705450057983, 0.7107467651367188, 0.7086858749389648, 0.7058939337730408, 0.8358209133148193, 0.8032585382461548, 0.7072107195854187, 0.6929178833961487, 0.6929178833961487, 0.6929178833961487, 0.669445812702179, 0.669445812702179, 0.648383378982544, 0.648383378982544, 0.6264961957931519, 0.6026490330696106, 0.6019312143325806, 0.5918362736701965, 0.589572548866272, 0.5796484351158142, 0.5796484351158142, 0.5796484351158142, 0.5796484351158142, 0.5718761682510376, 0.5718761682510376, 0.5617262125015259, 0.5594699382781982, 0.5468874573707581, 0.5356400609016418, 0.5312259793281555, 0.5300683975219727, 0.5263204574584961, 0.5237323045730591, 0.5205150842666626, 0.5179588794708252, 0.512544572353363, 0.512544572353363, 0.5086084604263306, 0.5020270943641663, 0.502019464969635, 0.5000625848770142, 0.499340295791626, 0.4973791539669037, 0.49714353680610657, 0.49714353680610657, 0.7209027409553528, 0.7204358577728271, 0.650270938873291, 0.6351733207702637, 0.6350172758102417, 0.6198546290397644, 0.618600606918335, 0.6097626686096191, 0.6091321110725403, 0.606779932975769, 0.6046242117881775, 0.5932072401046753, 0.5895888805389404, 0.5895888805389404, 0.586083173751831, 0.581118106842041, 0.5794199705123901, 0.5786795616149902, 0.5782647728919983, 0.5764206051826477, 0.5712113976478577, 0.5672200918197632, 0.5626264810562134, 0.5617123246192932, 0.5615202784538269, 0.5593183636665344, 0.5592742562294006, 0.554552435874939, 0.554552435874939, 0.5541427731513977, 0.5509824156761169, 0.5477558374404907, 0.5475470423698425, 0.5460394024848938, 0.5450153946876526, 0.5438021421432495, 0.5436537265777588, 0.542047917842865, 0.5398362874984741, 0.539421558380127, 0.5385938882827759, 0.9947525262832642, 0.9882826209068298, 0.96953946352005, 0.96953946352005, 0.96953946352005, 0.96953946352005, 0.96953946352005, 0.96953946352005, 0.96953946352005, 0.96953946352005, 0.96953946352005, 0.96953946352005, 0.96953946352005, 0.96953946352005, 0.96953946352005, 0.9672240018844604, 0.9627851843833923, 0.9627318978309631, 0.9627318978309631, 0.9569942355155945, 0.9551528692245483, 0.9501665830612183, 0.9501665830612183, 0.9463669061660767, 0.9463669061660767, 0.9463669061660767, 0.9448768496513367, 0.9448768496513367, 0.9448768496513367, 0.9168957471847534, 0.89668208360672, 0.8951907753944397, 0.8813474178314209, 0.8787853121757507, 0.8583069443702698, 0.8503492474555969, 0.8481901288032532, 0.8290970921516418, 0.8290970921516418, 0.8252280354499817, 0.7999690175056458, 0.780705451965332, 0.7447017431259155, 0.6907448768615723, 0.688259482383728, 0.688259482383728, 0.6817919015884399, 0.6768187880516052, 0.6743891835212708, 0.6715223789215088, 0.6715223789215088, 0.6513568758964539, 0.6424251198768616, 0.6274433732032776, 0.6268342137336731, 0.6260500550270081, 0.6130896806716919, 0.6130896806716919, 0.6130896806716919, 0.609075129032135, 0.6054348349571228, 0.5925241708755493, 0.5882452130317688, 0.5790415406227112, 0.5783708691596985, 0.5783708691596985, 0.5783708691596985, 0.5773850679397583, 0.5773850679397583, 0.5744061470031738, 0.5699878931045532, 0.5685138702392578, 0.5666105151176453, 0.5632616281509399, 0.5613812804222107, 0.5592576265335083, 0.5592576265335083, 0.558885395526886, 0.5562894344329834, 0.5502319931983948, 0.5478001832962036, 0.5457136631011963, 0.8759048581123352, 0.8623367547988892, 0.8623367547988892, 0.8623367547988892, 0.8617881536483765, 0.8585574626922607, 0.8513506054878235, 0.8476613759994507, 0.8441205620765686, 0.8441205620765686, 0.8404439687728882, 0.8356374502182007, 0.831949770450592, 0.827707052230835, 0.8262660503387451, 0.8262660503387451, 0.8243719339370728, 0.8231551051139832, 0.8095188140869141, 0.8081337213516235, 0.8050618767738342, 0.8027256727218628, 0.8017828464508057, 0.7948663234710693, 0.7948663234710693, 0.790154218673706, 0.790154218673706, 0.790154218673706, 0.7831841707229614, 0.7806299924850464, 0.7790403962135315, 0.7786884903907776, 0.7724953889846802, 0.7719837427139282, 0.7693001627922058, 0.7691571712493896, 0.7691165804862976, 0.7669411301612854, 0.7664427757263184, 0.7593585848808289, 0.7593585848808289, 0.9008120894432068, 0.8997592329978943, 0.8860170245170593, 0.8860170245170593, 0.8860170245170593, 0.8847879767417908, 0.8847879767417908, 0.8825385570526123, 0.8724870681762695, 0.8680917024612427, 0.8680917024612427, 0.8506637215614319, 0.8488972187042236, 0.8334125876426697, 0.8308966755867004, 0.8283358216285706, 0.826821506023407, 0.8224010467529297, 0.8122371435165405, 0.8122371435165405, 0.8122371435165405, 0.8005338311195374, 0.8004466891288757, 0.7971116900444031, 0.7937055826187134, 0.7910639047622681, 0.7900385856628418, 0.789971649646759, 0.7889921069145203, 0.788845956325531, 0.7866256833076477, 0.780891478061676, 0.780891478061676, 0.7758234739303589, 0.7717053294181824, 0.7702620029449463, 0.7679965496063232, 0.7641072869300842, 0.7623227834701538, 0.7617307305335999, 0.7617307305335999, 1.0, 0.9410606622695923, 0.7164247035980225, 0.7164247035980225, 0.7030882835388184, 0.6957261562347412, 0.6957261562347412, 0.6957261562347412, 0.6957261562347412, 0.6957261562347412, 0.6957261562347412, 0.6957261562347412, 0.6780831217765808, 0.6616855263710022, 0.6587250232696533, 0.6488296985626221, 0.5989548563957214, 0.5974541902542114, 0.5944460034370422, 0.587631344795227, 0.586097002029419, 0.5845335721969604, 0.5839058756828308, 0.5820048451423645, 0.581626296043396, 0.5811212658882141, 0.5779672265052795, 0.5676706433296204, 0.5670024156570435, 0.5653093457221985, 0.5625879764556885, 0.5543344616889954, 0.5507506132125854, 0.5492165088653564, 0.5485299825668335, 0.5484790205955505, 0.5435800552368164, 0.5410401225090027, 0.5381690859794617, 0.5357286930084229, 0.5357286930084229, 0.8759048581123352, 0.8623367547988892, 0.8623367547988892, 0.8623367547988892, 0.8617881536483765, 0.8585574626922607, 0.8513506054878235, 0.8476613759994507, 0.8441205620765686, 0.8441205620765686, 0.8404439687728882, 0.8356374502182007, 0.831949770450592, 0.827707052230835, 0.8262660503387451, 0.8262660503387451, 0.8243719339370728, 0.8231551051139832, 0.8095188140869141, 0.8081337213516235, 0.8050618767738342, 0.8027256727218628, 0.8017828464508057, 0.7948663234710693, 0.7948663234710693, 0.790154218673706, 0.790154218673706, 0.790154218673706, 0.7831841707229614, 0.7806299924850464, 0.7790403962135315, 0.7786884903907776, 0.7724953889846802, 0.7719837427139282, 0.7693001627922058, 0.7691571712493896, 0.7691165804862976, 0.7669411301612854, 0.7664427757263184, 0.7593585848808289, 0.7593585848808289, 0.8759048581123352, 0.8623367547988892, 0.8623367547988892, 0.8623367547988892, 0.8617881536483765, 0.8585574626922607, 0.8513506054878235, 0.8476613759994507, 0.8441205620765686, 0.8441205620765686, 0.8404439687728882, 0.8356374502182007, 0.831949770450592, 0.827707052230835, 0.8262660503387451, 0.8262660503387451, 0.8243719339370728, 0.8231551051139832, 0.8095188140869141, 0.8081337213516235, 0.8050618767738342, 0.8027256727218628, 0.8017828464508057, 0.7948663234710693, 0.7948663234710693, 0.790154218673706, 0.790154218673706, 0.790154218673706, 0.7831841707229614, 0.7806299924850464, 0.7790403962135315, 0.7786884903907776, 0.7724953889846802, 0.7719837427139282, 0.7693001627922058, 0.7691571712493896, 0.7691165804862976, 0.7669411301612854, 0.7664427757263184, 0.7593585848808289, 0.7593585848808289, 0.9008120894432068, 0.8997592329978943, 0.8860170245170593, 0.8860170245170593, 0.8860170245170593, 0.8847879767417908, 0.8847879767417908, 0.8825385570526123, 0.8724870681762695, 0.8680917024612427, 0.8680917024612427, 0.8506637215614319, 0.8488972187042236, 0.8334125876426697, 0.8308966755867004, 0.8283358216285706, 0.826821506023407, 0.8224010467529297, 0.8122371435165405, 0.8122371435165405, 0.8122371435165405, 0.8005338311195374, 0.8004466891288757, 0.7971116900444031, 0.7937055826187134, 0.7910639047622681, 0.7900385856628418, 0.789971649646759, 0.7889921069145203, 0.788845956325531, 0.7866256833076477, 0.780891478061676, 0.780891478061676, 0.7758234739303589, 0.7717053294181824, 0.7702620029449463, 0.7679965496063232, 0.7641072869300842, 0.7623227834701538, 0.7617307305335999, 0.7617307305335999, 1.0, 0.9410606622695923, 0.7164247035980225, 0.7164247035980225, 0.7030882835388184, 0.6957261562347412, 0.6957261562347412, 0.6957261562347412, 0.6957261562347412, 0.6957261562347412, 0.6957261562347412, 0.6957261562347412, 0.6780831217765808, 0.6616855263710022, 0.6587250232696533, 0.6488296985626221, 0.5989548563957214, 0.5974541902542114, 0.5944460034370422, 0.587631344795227, 0.586097002029419, 0.5845335721969604, 0.5839058756828308, 0.5820048451423645, 0.581626296043396, 0.5811212658882141, 0.5779672265052795, 0.5676706433296204, 0.5670024156570435, 0.5653093457221985, 0.5625879764556885, 0.5543344616889954, 0.5507506132125854, 0.5492165088653564, 0.5485299825668335, 0.5484790205955505, 0.5435800552368164, 0.5410401225090027, 0.5381690859794617, 0.5357286930084229, 0.5357286930084229, 0.8759048581123352, 0.8623367547988892, 0.8623367547988892, 0.8623367547988892, 0.8617881536483765, 0.8585574626922607, 0.8513506054878235, 0.8476613759994507, 0.8441205620765686, 0.8441205620765686, 0.8404439687728882, 0.8356374502182007, 0.831949770450592, 0.827707052230835, 0.8262660503387451, 0.8262660503387451, 0.8243719339370728, 0.8231551051139832, 0.8095188140869141, 0.8081337213516235, 0.8050618767738342, 0.8027256727218628, 0.8017828464508057, 0.7948663234710693, 0.7948663234710693, 0.790154218673706, 0.790154218673706, 0.790154218673706, 0.7831841707229614, 0.7806299924850464, 0.7790403962135315, 0.7786884903907776, 0.7724953889846802, 0.7719837427139282, 0.7693001627922058, 0.7691571712493896, 0.7691165804862976, 0.7669411301612854, 0.7664427757263184, 0.7593585848808289, 0.7593585848808289, 0.7532844543457031, 0.7532844543457031, 0.7493297457695007, 0.7368130683898926, 0.7333868145942688, 0.7333868145942688, 0.7071797847747803, 0.7054396271705627, 0.6809787750244141, 0.6792418360710144, 0.6775743365287781, 0.6775743365287781, 0.6769460439682007, 0.6726347804069519, 0.6716544032096863, 0.6667899489402771, 0.6643450260162354, 0.6643450260162354, 0.6620250344276428, 0.6620250344276428, 0.6603370308876038, 0.6575579643249512, 0.6567367315292358, 0.6554742455482483, 0.6533310413360596, 0.6521996855735779, 0.6521027088165283, 0.6518526673316956, 0.6424654722213745, 0.6424654722213745, 0.6365400552749634, 0.636430025100708, 0.6364105939865112, 0.6357742547988892, 0.6347169876098633, 0.6315176486968994, 0.6311646699905396, 0.6300579309463501, 0.6280316114425659, 0.6270443201065063, 0.624800980091095, 0.8137192130088806, 0.7994768619537354, 0.7680965662002563, 0.7666972875595093, 0.7666972875595093, 0.7661812901496887, 0.7395707368850708, 0.7378940582275391, 0.7352116107940674, 0.7312078475952148, 0.7312078475952148, 0.727081298828125, 0.7240800261497498, 0.719660222530365, 0.719660222530365, 0.7191867232322693, 0.7191867232322693, 0.7164109945297241, 0.7127299308776855, 0.7117243409156799, 0.7094101309776306, 0.7070834040641785, 0.7064695954322815, 0.6910220384597778, 0.6910220384597778, 0.6903756260871887, 0.689918577671051, 0.6877599954605103, 0.6861656904220581, 0.6847309470176697, 0.6841959953308105, 0.6813599467277527, 0.6803857684135437, 0.6794227957725525, 0.6735585331916809, 0.6731177568435669, 0.6730064153671265, 0.671356737613678, 0.6696702837944031, 0.6673755645751953, 0.6664499640464783, 0.9999996423721313, 0.9999996423721313, 0.9999996423721313, 0.9999996423721313, 0.9999996423721313, 0.9999996423721313, 0.9999996423721313, 0.9999996423721313, 0.9999996423721313, 0.9999996423721313, 0.9999996423721313, 0.9999996423721313, 0.9999996423721313, 0.9999996423721313, 0.9999996423721313, 0.9999996423721313, 0.9999996423721313, 0.9999996423721313, 0.9999996423721313, 0.9999996423721313, 0.9999996423721313, 0.9999996423721313, 0.9565150141716003, 0.9424443244934082, 0.8813587427139282, 0.8637230396270752, 0.8629756569862366, 0.8319199681282043, 0.8284863829612732, 0.8237301111221313, 0.7992501854896545, 0.7969262003898621, 0.7852653861045837, 0.765044093132019, 0.7547582983970642, 0.7510077953338623, 0.7397916913032532, 0.7372918128967285, 0.73137366771698, 0.7249566912651062, 0.7224287986755371, 0.8324189186096191, 0.8324189186096191, 0.7764503359794617, 0.7722613215446472, 0.7693147659301758, 0.7693147659301758, 0.7684680223464966, 0.7684680223464966, 0.7624276876449585, 0.7592770457267761, 0.7584885954856873, 0.7581599354743958, 0.7534126043319702, 0.746042788028717, 0.7443936467170715, 0.742000162601471, 0.742000162601471, 0.7381544709205627, 0.7334496974945068, 0.7334496974945068, 0.7282147407531738, 0.728005588054657, 0.728005588054657, 0.7270834445953369, 0.7245541214942932, 0.7224172949790955, 0.721839964389801, 0.7217219471931458, 0.7217081189155579, 0.7208703756332397, 0.7208703756332397, 0.7187485098838806, 0.7184907793998718, 0.716255784034729, 0.715061604976654, 0.7102805972099304, 0.7087015509605408, 0.7087015509605408, 0.705349326133728, 0.7049530148506165, 0.7049530148506165, 0.7532844543457031, 0.7532844543457031, 0.7493297457695007, 0.7368130683898926, 0.7333868145942688, 0.7333868145942688, 0.7071797847747803, 0.7054396271705627, 0.6809787750244141, 0.6792418360710144, 0.6775743365287781, 0.6775743365287781, 0.6769460439682007, 0.6726347804069519, 0.6716544032096863, 0.6667899489402771, 0.6643450260162354, 0.6643450260162354, 0.6620250344276428, 0.6620250344276428, 0.6603370308876038, 0.6575579643249512, 0.6567367315292358, 0.6554742455482483, 0.6533310413360596, 0.6521996855735779, 0.6521027088165283, 0.6518526673316956, 0.6424654722213745, 0.6424654722213745, 0.6365400552749634, 0.636430025100708, 0.6364105939865112, 0.6357742547988892, 0.6347169876098633, 0.6315176486968994, 0.6311646699905396, 0.6300579309463501, 0.6280316114425659, 0.6270443201065063, 0.624800980091095, 0.8137192130088806, 0.7994768619537354, 0.7680965662002563, 0.7666972875595093, 0.7666972875595093, 0.7661812901496887, 0.7395707368850708, 0.7378940582275391, 0.7352116107940674, 0.7312078475952148, 0.7312078475952148, 0.727081298828125, 0.7240800261497498, 0.719660222530365, 0.719660222530365, 0.7191867232322693, 0.7191867232322693, 0.7164109945297241, 0.7127299308776855, 0.7117243409156799, 0.7094101309776306, 0.7070834040641785, 0.7064695954322815, 0.6910220384597778, 0.6910220384597778, 0.6903756260871887, 0.689918577671051, 0.6877599954605103, 0.6861656904220581, 0.6847309470176697, 0.6841959953308105, 0.6813599467277527, 0.6803857684135437, 0.6794227957725525, 0.6735585331916809, 0.6731177568435669, 0.6730064153671265, 0.671356737613678, 0.6696702837944031, 0.6673755645751953, 0.6664499640464783, 0.9999996423721313, 0.9999996423721313, 0.9999996423721313, 0.9999996423721313, 0.9999996423721313, 0.9999996423721313, 0.9999996423721313, 0.9999996423721313, 0.9999996423721313, 0.9999996423721313, 0.9999996423721313, 0.9999996423721313, 0.9999996423721313, 0.9999996423721313, 0.9999996423721313, 0.9999996423721313, 0.9999996423721313, 0.9999996423721313, 0.9999996423721313, 0.9999996423721313, 0.9999996423721313, 0.9999996423721313, 0.9565150141716003, 0.9424443244934082, 0.8813587427139282, 0.8637230396270752, 0.8629756569862366, 0.8319199681282043, 0.8284863829612732, 0.8237301111221313, 0.7992501854896545, 0.7969262003898621, 0.7852653861045837, 0.765044093132019, 0.7547582983970642, 0.7510077953338623, 0.7397916913032532, 0.7372918128967285, 0.73137366771698, 0.7249566912651062, 0.7224287986755371, 0.8324189186096191, 0.8324189186096191, 0.7764503359794617, 0.7722613215446472, 0.7693147659301758, 0.7693147659301758, 0.7684680223464966, 0.7684680223464966, 0.7624276876449585, 0.7592770457267761, 0.7584885954856873, 0.7581599354743958, 0.7534126043319702, 0.746042788028717, 0.7443936467170715, 0.742000162601471, 0.742000162601471, 0.7381544709205627, 0.7334496974945068, 0.7334496974945068, 0.7282147407531738, 0.728005588054657, 0.728005588054657, 0.7270834445953369, 0.7245541214942932, 0.7224172949790955, 0.721839964389801, 0.7217219471931458, 0.7217081189155579, 0.7208703756332397, 0.7208703756332397, 0.7187485098838806, 0.7184907793998718, 0.716255784034729, 0.715061604976654, 0.7102805972099304, 0.7087015509605408, 0.7087015509605408, 0.705349326133728, 0.7049530148506165, 0.7049530148506165, 0.8250724673271179, 0.7815280556678772, 0.7723924517631531, 0.771373450756073, 0.7489809989929199, 0.7483382821083069, 0.7330191731452942, 0.7313557267189026, 0.7297233939170837, 0.7246266007423401, 0.7245659232139587, 0.7187567949295044, 0.718563973903656, 0.7165574431419373, 0.7140604853630066, 0.7140604853630066, 0.7135523557662964, 0.7129074335098267, 0.7128859162330627, 0.7128859162330627, 0.7066402435302734, 0.7037870287895203, 0.703665554523468, 0.7032091617584229, 0.6941556930541992, 0.6932673454284668, 0.6917997002601624, 0.6906689405441284, 0.6906689405441284, 0.6905666589736938, 0.6890161633491516, 0.6879363059997559, 0.6866456270217896, 0.6857296228408813, 0.6847759485244751, 0.681412935256958, 0.6812174320220947, 0.680428147315979, 0.680279552936554, 0.6795296669006348, 0.6783426403999329, 0.7316080927848816, 0.7135241627693176, 0.6941065192222595, 0.6867469549179077, 0.6805117726325989, 0.6752538084983826, 0.6695834994316101, 0.6695834994316101, 0.6680759787559509, 0.6627123951911926, 0.6504018902778625, 0.6481325030326843, 0.6481325030326843, 0.6389594674110413, 0.6371645331382751, 0.6360751390457153, 0.6360751390457153, 0.6304903030395508, 0.6299281716346741, 0.624066948890686, 0.6191632151603699, 0.6117340922355652, 0.6065430045127869, 0.6042545437812805, 0.5982951521873474, 0.5980328321456909, 0.5952574014663696, 0.5893779397010803, 0.5856366753578186, 0.5856207609176636, 0.5855212807655334, 0.5728236436843872, 0.5710279941558838, 0.5702291131019592, 0.569844126701355, 0.5696993470191956, 0.5696993470191956, 0.5696993470191956, 0.568494975566864, 0.5670973658561707, 0.5661495327949524, 0.6768465638160706, 0.6654594540596008, 0.6642504930496216, 0.6548667550086975, 0.6548667550086975, 0.6520623564720154, 0.6435773372650146, 0.6406978964805603, 0.6348361372947693, 0.6288581490516663, 0.6188293099403381, 0.6188293099403381, 0.6188293099403381, 0.6154669523239136, 0.6109359860420227, 0.6099908947944641, 0.6094323992729187, 0.6078340411186218, 0.6071937084197998, 0.6066168546676636, 0.6055029630661011, 0.6051890850067139, 0.6045820116996765, 0.6010075211524963, 0.6010075211524963, 0.5993486046791077, 0.5988248586654663, 0.5987103581428528, 0.5986897945404053, 0.5945595502853394, 0.5910594463348389, 0.5910594463348389, 0.5884233117103577, 0.588417112827301, 0.588417112827301, 0.588417112827301, 0.5874593257904053, 0.5865291953086853, 0.5865291953086853, 0.5835968852043152, 0.5835968852043152, 0.8385936617851257, 0.769026517868042, 0.7631098628044128, 0.7540769577026367, 0.7526328563690186, 0.7408518195152283, 0.7408518195152283, 0.7314905524253845, 0.7294708490371704, 0.7233860492706299, 0.7143699526786804, 0.7139021754264832, 0.7098410129547119, 0.7013081312179565, 0.7005729675292969, 0.6978480219841003, 0.6966527700424194, 0.6947358846664429, 0.689073920249939, 0.6850074529647827, 0.6842290759086609, 0.6840681433677673, 0.6816769242286682, 0.6804562211036682, 0.6767018437385559, 0.6737802624702454, 0.6702382564544678, 0.6652794480323792, 0.663429856300354, 0.663429856300354, 0.6594205498695374, 0.6571580171585083, 0.6548957824707031, 0.6548957824707031, 0.6546987295150757, 0.6539994478225708, 0.6537890434265137, 0.6537719368934631, 0.6512420773506165, 0.651142418384552, 0.6487119197845459, 0.8563585877418518, 0.8563585877418518, 0.8563585877418518, 0.7506507635116577, 0.7322555780410767, 0.6943197250366211, 0.5606388449668884, 0.5322348475456238, 0.5322348475456238, 0.5240574479103088, 0.5125167965888977, 0.4797550439834595, 0.4274514317512512, 0.4274514317512512, 0.4159046709537506, 0.4159046709537506, 0.391076922416687, 0.3877755105495453, 0.38606685400009155, 0.38606685400009155, 0.3669265806674957, 0.3669265806674957, 0.35914215445518494, 0.34121349453926086, 0.3368540406227112, 0.3368540406227112, 0.3259478211402893, 0.3259478211402893, 0.3259478211402893, 0.3253372609615326, 0.3221425414085388, 0.3135508894920349, 0.3102503716945648, 0.30786946415901184, 0.30786946415901184, 0.30786946415901184, 0.29867324233055115, 0.29536959528923035, 0.2953457236289978, 0.2787715792655945, 0.27149608731269836, 0.8563585877418518, 0.8563585877418518, 0.8563585877418518, 0.7506507635116577, 0.7322555780410767, 0.6943197250366211, 0.5606388449668884, 0.5322348475456238, 0.5322348475456238, 0.5240574479103088, 0.5125167965888977, 0.4797550439834595, 0.4274514317512512, 0.4274514317512512, 0.4159046709537506, 0.4159046709537506, 0.391076922416687, 0.3877755105495453, 0.38606685400009155, 0.38606685400009155, 0.3669265806674957, 0.3669265806674957, 0.35914215445518494, 0.34121349453926086, 0.3368540406227112, 0.3368540406227112, 0.3259478211402893, 0.3259478211402893, 0.3259478211402893, 0.3253372609615326, 0.3221425414085388, 0.3135508894920349, 0.3102503716945648, 0.30786946415901184, 0.30786946415901184, 0.30786946415901184, 0.29867324233055115, 0.29536959528923035, 0.2953457236289978, 0.2787715792655945, 0.27149608731269836, 0.40244266390800476, 0.38912060856819153, 0.36109521985054016, 0.36109521985054016, 0.36109521985054016, 0.3606228530406952, 0.3574494421482086, 0.349636971950531, 0.33868294954299927, 0.3125746548175812, 0.29738810658454895, 0.2931738495826721, 0.2876070737838745, 0.281851202249527, 0.27877530455589294, 0.2780212163925171, 0.2762177586555481, 0.2762177586555481, 0.2762177586555481, 0.2692992389202118, 0.2684594988822937, 0.2684594988822937, 0.2684594988822937, 0.26454198360443115, 0.2569016218185425, 0.25623634457588196, 0.2558068335056305, 0.2558068335056305, 0.24841056764125824, 0.24424239993095398, 0.24284248054027557, 0.24266710877418518, 0.23295024037361145, 0.2318449765443802, 0.23054037988185883, 0.2289109081029892, 0.22676292061805725, 0.22464793920516968, 0.22403842210769653, 0.22288136184215546, 0.22145676612854004, 0.7377866506576538, 0.7376418709754944, 0.5761505365371704, 0.5761505365371704, 0.5761505365371704, 0.5736588835716248, 0.5441415905952454, 0.5426063537597656, 0.5426063537597656, 0.5325510501861572, 0.5161358118057251, 0.5116584300994873, 0.4724726974964142, 0.4614463150501251, 0.45186832547187805, 0.44291260838508606, 0.4428645968437195, 0.3992415964603424, 0.3960310220718384, 0.3868892192840576, 0.3858565390110016, 0.3814117908477783, 0.37249141931533813, 0.36401066184043884, 0.36326462030410767, 0.36326462030410767, 0.36324429512023926, 0.346797913312912, 0.34349414706230164, 0.34349414706230164, 0.34349414706230164, 0.340437650680542, 0.3351479768753052, 0.3351479768753052, 0.32784348726272583, 0.32457512617111206, 0.323705792427063, 0.31125617027282715, 0.30949750542640686, 0.30577704310417175, 0.3038446009159088, 0.8367471694946289, 0.8246874809265137, 0.8080620169639587, 0.8004788160324097, 0.7756171226501465, 0.769134521484375, 0.7654458284378052, 0.762344479560852, 0.7555070519447327, 0.7555070519447327, 0.7444863319396973, 0.7444863319396973, 0.7427173852920532, 0.7416523098945618, 0.7379107475280762, 0.7357377409934998, 0.7331910729408264, 0.732786238193512, 0.7237902283668518, 0.7237368822097778, 0.7210112810134888, 0.7120986580848694, 0.7115051746368408, 0.7115051746368408, 0.7105773687362671, 0.7087469100952148, 0.7083184123039246, 0.7075802087783813, 0.7044878602027893, 0.7044878602027893, 0.7042078971862793, 0.7042078971862793, 0.7042078971862793, 0.7042078971862793, 0.7038742303848267, 0.7010011672973633, 0.6931702494621277, 0.6924579739570618, 0.6853101849555969, 0.6818853616714478, 0.681325376033783, 0.8609254360198975, 0.8293759226799011, 0.8205681443214417, 0.8193439841270447, 0.816961407661438, 0.8142006993293762, 0.8092072606086731, 0.80806964635849, 0.7971147298812866, 0.7960401773452759, 0.7928139567375183, 0.7889411449432373, 0.7863108515739441, 0.7860344648361206, 0.7836406230926514, 0.7827001214027405, 0.7786106467247009, 0.7778672575950623, 0.7778603434562683, 0.776532769203186, 0.776532769203186, 0.776532769203186, 0.7757418751716614, 0.7756363749504089, 0.7744836211204529, 0.7734773755073547, 0.7701974511146545, 0.7701974511146545, 0.7679547071456909, 0.7673683166503906, 0.7667077779769897, 0.765160083770752, 0.765160083770752, 0.7643077969551086, 0.7643077969551086, 0.7642549276351929, 0.7642549276351929, 0.7636302709579468, 0.7634703516960144, 0.7626404762268066, 0.7611978650093079, 0.9144981503486633, 0.886175274848938, 0.8539167046546936, 0.8351272344589233, 0.8305968046188354, 0.8270396590232849, 0.8258005976676941, 0.8176547884941101, 0.8161412477493286, 0.8161412477493286, 0.8161412477493286, 0.8134342432022095, 0.811347484588623, 0.806904673576355, 0.8065038919448853, 0.8057776093482971, 0.8009049892425537, 0.799323320388794, 0.7987692356109619, 0.7972583770751953, 0.7958195805549622, 0.7946869730949402, 0.7942988872528076, 0.792384147644043, 0.791868269443512, 0.7902852296829224, 0.7902852296829224, 0.7870209813117981, 0.7840549349784851, 0.782543957233429, 0.781235933303833, 0.7777978777885437, 0.7746295928955078, 0.7711554765701294, 0.7699412703514099, 0.7689947485923767, 0.7687696218490601, 0.7676889300346375, 0.7675385475158691, 0.7671629190444946, 0.7636540532112122, 0.9999996423721313, 0.9999996423721313, 0.9999996423721313, 0.9999996423721313, 0.9999996423721313, 0.9999996423721313, 0.9999996423721313, 0.9999996423721313, 0.9999996423721313, 0.9999996423721313, 0.9999996423721313, 0.9999996423721313, 0.9999996423721313, 0.9999996423721313, 0.9999996423721313, 0.9999996423721313, 0.9999996423721313, 0.9999996423721313, 0.9999996423721313, 0.9999996423721313, 0.9999996423721313, 0.9999996423721313, 0.9999996423721313, 0.9565150141716003, 0.9424443244934082, 0.8813587427139282, 0.8637230396270752, 0.8629756569862366, 0.8319199681282043, 0.8284863829612732, 0.8237301111221313, 0.7992501854896545, 0.7969262003898621, 0.7852653861045837, 0.765044093132019, 0.7547582983970642, 0.7510077953338623, 0.7397916913032532, 0.7372918128967285, 0.73137366771698, 0.7249566912651062, 0.8609254360198975, 0.8293759226799011, 0.8205681443214417, 0.8193439841270447, 0.816961407661438, 0.8142006993293762, 0.8092072606086731, 0.80806964635849, 0.7971147298812866, 0.7960401773452759, 0.7928139567375183, 0.7889411449432373, 0.7863108515739441, 0.7860344648361206, 0.7836406230926514, 0.7827001214027405, 0.7786106467247009, 0.7778672575950623, 0.7778603434562683, 0.776532769203186, 0.776532769203186, 0.776532769203186, 0.7757418751716614, 0.7756363749504089, 0.7744836211204529, 0.7734773755073547, 0.7701974511146545, 0.7701974511146545, 0.7679547071456909, 0.7673683166503906, 0.7667077779769897, 0.765160083770752, 0.765160083770752, 0.7643077969551086, 0.7643077969551086, 0.7642549276351929, 0.7642549276351929, 0.7636302709579468, 0.7634703516960144, 0.7626404762268066, 0.7611978650093079, 0.7123422026634216, 0.6754040718078613, 0.6290795207023621, 0.6273232102394104, 0.623099684715271, 0.6077432036399841, 0.6047770380973816, 0.6024776101112366, 0.6019313931465149, 0.5973087549209595, 0.5842594504356384, 0.5842594504356384, 0.5798348188400269, 0.5793682336807251, 0.577039361000061, 0.5736135840415955, 0.5667911171913147, 0.5667911171913147, 0.5627893209457397, 0.556352436542511, 0.556352436542511, 0.5555300116539001, 0.5547210574150085, 0.55353182554245, 0.5413444638252258, 0.5410405397415161, 0.5400558710098267, 0.5384215712547302, 0.5377936363220215, 0.5360589623451233, 0.534665584564209, 0.5339135527610779, 0.5322405695915222, 0.5322405695915222, 0.5318835973739624, 0.5318835973739624, 0.5296624898910522, 0.5283152461051941, 0.5276463627815247, 0.5267294049263, 0.5267294049263, 0.5928793549537659, 0.5087473392486572, 0.5087473392486572, 0.4929969906806946, 0.47014686465263367, 0.46279677748680115, 0.46279677748680115, 0.45148083567619324, 0.45148083567619324, 0.4509969651699066, 0.4509969651699066, 0.4509969651699066, 0.4488883316516876, 0.4488883316516876, 0.4488883316516876, 0.4488883316516876, 0.4445267915725708, 0.44357430934906006, 0.44357430934906006, 0.44357430934906006, 0.4415183663368225, 0.4395371675491333, 0.4330228865146637, 0.42939847707748413, 0.42923274636268616, 0.4282345175743103, 0.42705950140953064, 0.426865816116333, 0.42575427889823914, 0.42540255188941956, 0.42540255188941956, 0.42540255188941956, 0.4228225648403168, 0.4169863760471344, 0.4163734018802643, 0.4051744341850281, 0.4048580229282379, 0.3995469808578491, 0.3995469808578491, 0.397957980632782, 0.3942558467388153, 0.8325242400169373, 0.7821493148803711, 0.7749136090278625, 0.7715660333633423, 0.7674500346183777, 0.7506570219993591, 0.7496363520622253, 0.7450801730155945, 0.7408790588378906, 0.7321037650108337, 0.7286760210990906, 0.7278767824172974, 0.7209393978118896, 0.7206901907920837, 0.7140379548072815, 0.7140379548072815, 0.7109615802764893, 0.7050454616546631, 0.704410970211029, 0.7019429802894592, 0.6989073753356934, 0.6989073753356934, 0.6985654234886169, 0.6964721083641052, 0.6915000677108765, 0.6900677680969238, 0.6883555054664612, 0.6880295276641846, 0.687964677810669, 0.6826148629188538, 0.6778684854507446, 0.6753858923912048, 0.674869179725647, 0.6731548309326172, 0.6675156354904175, 0.6675156354904175, 0.6660029292106628, 0.6658453941345215, 0.6658453941345215, 0.6624952554702759, 0.6624952554702759, 0.7396520972251892, 0.7353343367576599, 0.7220419049263, 0.715225875377655, 0.700467586517334, 0.6976861357688904, 0.6880315542221069, 0.685295045375824, 0.6719027161598206, 0.6718670129776001, 0.6671512722969055, 0.6635253429412842, 0.6632214784622192, 0.6621748805046082, 0.6567356586456299, 0.6488441824913025, 0.6426518559455872, 0.6390051245689392, 0.6376616358757019, 0.6374536752700806, 0.6365649104118347, 0.6361355185508728, 0.6285927295684814, 0.6273755431175232, 0.6215258240699768, 0.6196748614311218, 0.6194484829902649, 0.6158976554870605, 0.6138923168182373, 0.6138923168182373, 0.6138293743133545, 0.6136560440063477, 0.6129881143569946, 0.6129881143569946, 0.610362708568573, 0.6089930534362793, 0.6089157462120056, 0.607431948184967, 0.607431948184967, 0.607431948184967, 0.607431948184967, 0.6588656306266785, 0.6130377650260925, 0.6130377650260925, 0.5866884589195251, 0.5864589214324951, 0.5357244610786438, 0.5235503911972046, 0.5040796399116516, 0.5040796399116516, 0.49495506286621094, 0.4940569996833801, 0.4895356297492981, 0.48943209648132324, 0.4861397445201874, 0.4843209981918335, 0.48425811529159546, 0.48381879925727844, 0.4826655089855194, 0.482185959815979, 0.47957098484039307, 0.4757421612739563, 0.46892040967941284, 0.46742892265319824, 0.46656399965286255, 0.4661729335784912, 0.46583113074302673, 0.46583113074302673, 0.4650147557258606, 0.4650147557258606, 0.45858296751976013, 0.4582056403160095, 0.45746105909347534, 0.45746105909347534, 0.45746105909347534, 0.45746105909347534, 0.45291393995285034, 0.4520854651927948, 0.4520854651927948, 0.4519643783569336, 0.4519643783569336, 0.4513726830482483, 0.8660722970962524, 0.7927234768867493, 0.7910641431808472, 0.7676608562469482, 0.7406964302062988, 0.7288469672203064, 0.7252920269966125, 0.7056134939193726, 0.7040717005729675, 0.7004932165145874, 0.7002887725830078, 0.6966947317123413, 0.6938073635101318, 0.6932434439659119, 0.6922139525413513, 0.6797947883605957, 0.673862636089325, 0.673862636089325, 0.6702150702476501, 0.6616342663764954, 0.6532087326049805, 0.6517720222473145, 0.6483068466186523, 0.6483068466186523, 0.6483068466186523, 0.6360476016998291, 0.6360476016998291, 0.6325607895851135, 0.6319010257720947, 0.630938708782196, 0.6276560425758362, 0.6276425719261169, 0.6256688833236694, 0.6176862120628357, 0.6173982620239258, 0.6157450675964355, 0.6149339079856873, 0.6147220134735107, 0.6134822964668274, 0.6108264923095703, 0.6064184904098511, 0.6608892679214478, 0.6490339636802673, 0.6151562929153442, 0.6026652455329895, 0.5977180004119873, 0.5977180004119873, 0.5921182036399841, 0.5868250727653503, 0.5729609727859497, 0.5699983239173889, 0.569607675075531, 0.5695261359214783, 0.5604653358459473, 0.558151364326477, 0.5579127669334412, 0.5567129850387573, 0.555889904499054, 0.5524010062217712, 0.5519232749938965, 0.5519232749938965, 0.5516494512557983, 0.5476395487785339, 0.5472959876060486, 0.5466701984405518, 0.5466701984405518, 0.5455170273780823, 0.5427164435386658, 0.5355889797210693, 0.5353140234947205, 0.5351759195327759, 0.5351759195327759, 0.5344142913818359, 0.5217256546020508, 0.5195395946502686, 0.5157073736190796, 0.5101430416107178, 0.5080506205558777, 0.507754921913147, 0.5069951415061951, 0.5069951415061951, 0.4995273947715759, 0.6882778406143188, 0.6749460101127625, 0.6375551223754883, 0.6226761937141418, 0.6201838850975037, 0.6201838850975037, 0.6143729090690613, 0.6043758988380432, 0.5933677554130554, 0.5929202437400818, 0.5901749730110168, 0.5862993001937866, 0.5786986351013184, 0.5784790515899658, 0.5762959122657776, 0.5757836699485779, 0.5736251473426819, 0.5732021331787109, 0.5711703300476074, 0.5711703300476074, 0.5674972534179688, 0.5655733942985535, 0.5647985935211182, 0.5638399720191956, 0.5630808472633362, 0.5630808472633362, 0.5550349354743958, 0.5550349354743958, 0.5523170232772827, 0.5482581853866577, 0.5472495555877686, 0.5388587117195129, 0.5300279259681702, 0.5270666480064392, 0.521516740322113, 0.5200977921485901, 0.5166643857955933, 0.5123148560523987, 0.5092979073524475, 0.508450984954834, 0.5070691704750061, 0.8081046938896179, 0.7416763305664062, 0.6735782027244568, 0.6581969857215881, 0.599280595779419, 0.5879806280136108, 0.5869488716125488, 0.5869488716125488, 0.5702757239341736, 0.5438755750656128, 0.5000975728034973, 0.49134203791618347, 0.490755170583725, 0.4859130382537842, 0.48258280754089355, 0.48166775703430176, 0.48166775703430176, 0.47684189677238464, 0.4758360683917999, 0.46362435817718506, 0.45685291290283203, 0.45256343483924866, 0.4453504681587219, 0.4371500015258789, 0.4367223381996155, 0.43555748462677, 0.3937474489212036, 0.3693343698978424, 0.3684106171131134, 0.3598722517490387, 0.35410645604133606, 0.34605684876441956, 0.33604180812835693, 0.3350255787372589, 0.3186098337173462, 0.3118988573551178, 0.3118988573551178, 0.3118988573551178, 0.30876049399375916, 0.30876049399375916, 0.3071773052215576, 0.6608892679214478, 0.6490339636802673, 0.6151562929153442, 0.6026652455329895, 0.5977180004119873, 0.5977180004119873, 0.5921182036399841, 0.5868250727653503, 0.5729609727859497, 0.5699983239173889, 0.569607675075531, 0.5695261359214783, 0.5604653358459473, 0.558151364326477, 0.5579127669334412, 0.5567129850387573, 0.555889904499054, 0.5524010062217712, 0.5519232749938965, 0.5519232749938965, 0.5516494512557983, 0.5476395487785339, 0.5472959876060486, 0.5466701984405518, 0.5466701984405518, 0.5455170273780823, 0.5427164435386658, 0.5355889797210693, 0.5353140234947205, 0.5351759195327759, 0.5351759195327759, 0.5344142913818359, 0.5217256546020508, 0.5195395946502686, 0.5157073736190796, 0.5101430416107178, 0.5080506205558777, 0.507754921913147, 0.5069951415061951, 0.5069951415061951, 0.4995273947715759, 0.8786430358886719, 0.8786430358886719, 0.8722423911094666, 0.861760675907135, 0.8383244872093201, 0.8271431922912598, 0.7974738478660583, 0.7858845591545105, 0.7833022475242615, 0.7819841504096985, 0.7819841504096985, 0.7808902263641357, 0.7806550860404968, 0.7746359705924988, 0.7746359705924988, 0.7746359705924988, 0.7684665322303772, 0.7650042176246643, 0.7579251527786255, 0.7535583972930908, 0.7521230578422546, 0.7512885928153992, 0.7497406005859375, 0.747475266456604, 0.747475266456604, 0.747475266456604, 0.7472643256187439, 0.7382144927978516, 0.7357035279273987, 0.7341268062591553, 0.7328183650970459, 0.7306393980979919, 0.7306393980979919, 0.7255972027778625, 0.7255972027778625, 0.7158320546150208, 0.7113849520683289, 0.7094392776489258, 0.704106867313385, 0.704106867313385, 0.704106867313385, 0.8786430358886719, 0.8786430358886719, 0.8722423911094666, 0.861760675907135, 0.8383244872093201, 0.8271431922912598, 0.7974738478660583, 0.7858845591545105, 0.7833022475242615, 0.7819841504096985, 0.7819841504096985, 0.7808902263641357, 0.7806550860404968, 0.7746359705924988, 0.7746359705924988, 0.7746359705924988, 0.7684665322303772, 0.7650042176246643, 0.7579251527786255, 0.7535583972930908, 0.7521230578422546, 0.7512885928153992, 0.7497406005859375, 0.747475266456604, 0.747475266456604, 0.747475266456604, 0.7472643256187439, 0.7382144927978516, 0.7357035279273987, 0.7341268062591553, 0.7328183650970459, 0.7306393980979919, 0.7306393980979919, 0.7255972027778625, 0.7255972027778625, 0.7158320546150208, 0.7113849520683289, 0.7094392776489258, 0.704106867313385, 0.704106867313385, 0.704106867313385, 0.7317031025886536, 0.5803588628768921, 0.5596904158592224, 0.5497967004776001, 0.5497967004776001, 0.5467615127563477, 0.5356400609016418, 0.5356400609016418, 0.5331639051437378, 0.5310141444206238, 0.5108931064605713, 0.5096738934516907, 0.5047616958618164, 0.4934083819389343, 0.4934083819389343, 0.4808416962623596, 0.47635334730148315, 0.47635334730148315, 0.4721665382385254, 0.4688692092895508, 0.45712292194366455, 0.4514079689979553, 0.4478358328342438, 0.4422203600406647, 0.4389150142669678, 0.43843314051628113, 0.43843314051628113, 0.437078595161438, 0.4366953670978546, 0.43325430154800415, 0.42475858330726624, 0.4212600588798523, 0.41763046383857727, 0.41739705204963684, 0.41739705204963684, 0.41593024134635925, 0.4068479835987091, 0.406547874212265, 0.406547874212265, 0.40591830015182495, 0.40494126081466675, 0.8786430358886719, 0.8786430358886719, 0.8722423911094666, 0.861760675907135, 0.8383244872093201, 0.8271431922912598, 0.7974738478660583, 0.7858845591545105, 0.7833022475242615, 0.7819841504096985, 0.7819841504096985, 0.7808902263641357, 0.7806550860404968, 0.7746359705924988, 0.7746359705924988, 0.7746359705924988, 0.7684665322303772, 0.7650042176246643, 0.7579251527786255, 0.7535583972930908, 0.7521230578422546, 0.7512885928153992, 0.7497406005859375, 0.747475266456604, 0.747475266456604, 0.747475266456604, 0.7472643256187439, 0.7382144927978516, 0.7357035279273987, 0.7341268062591553, 0.7328183650970459, 0.7306393980979919, 0.7306393980979919, 0.7255972027778625, 0.7255972027778625, 0.7158320546150208, 0.7113849520683289, 0.7094392776489258, 0.704106867313385, 0.704106867313385, 0.704106867313385, 0.8474039435386658, 0.8302767276763916, 0.8288677930831909, 0.8160061836242676, 0.8160061836242676, 0.8141488432884216, 0.8102506995201111, 0.8091797828674316, 0.8064399361610413, 0.7930887937545776, 0.7921515703201294, 0.7921515703201294, 0.7907907366752625, 0.7902935743331909, 0.7861207127571106, 0.78084397315979, 0.7807732820510864, 0.7806877493858337, 0.7784456610679626, 0.7764111161231995, 0.7764111161231995, 0.7749263644218445, 0.7725302577018738, 0.7673493027687073, 0.7673493027687073, 0.7643429636955261, 0.7617639303207397, 0.7596688270568848, 0.7595013976097107, 0.7590513825416565, 0.7571617960929871, 0.7534894347190857, 0.7533162832260132, 0.7514216899871826, 0.7513411641120911, 0.7510839104652405, 0.7488914132118225, 0.747660219669342, 0.7468780279159546, 0.7454961538314819, 0.7432199716567993, 0.807986319065094, 0.7906139492988586, 0.7848646640777588, 0.7848646640777588, 0.7719277739524841, 0.7702028155326843, 0.7663385272026062, 0.7524946928024292, 0.7524946928024292, 0.7444605827331543, 0.7408953309059143, 0.7366591095924377, 0.7331244349479675, 0.7315829992294312, 0.7315829992294312, 0.7292405962944031, 0.7286561727523804, 0.7275147438049316, 0.7248697876930237, 0.7241248488426208, 0.7222407460212708, 0.7208752036094666, 0.7208347320556641, 0.7183130979537964, 0.7125542163848877, 0.7115756869316101, 0.7109546065330505, 0.7097113728523254, 0.7059114575386047, 0.7055487632751465, 0.7025999426841736, 0.7012378573417664, 0.7001423239707947, 0.698431670665741, 0.6965166330337524, 0.6958493590354919, 0.6953296065330505, 0.6953296065330505, 0.692713737487793, 0.6924490332603455, 0.6923612356185913, 0.869655966758728, 0.6970062255859375, 0.6918779611587524, 0.6912333369255066, 0.67337566614151, 0.618086576461792, 0.6102051734924316, 0.6093977093696594, 0.6087486743927002, 0.6064302921295166, 0.6064302921295166, 0.6027265191078186, 0.5972391366958618, 0.5937817096710205, 0.5899363160133362, 0.5778772830963135, 0.5751007199287415, 0.5746848583221436, 0.5740734338760376, 0.5733941197395325, 0.5701892375946045, 0.5678221583366394, 0.5677527785301208, 0.5677371025085449, 0.5622180700302124, 0.5597023963928223, 0.5549213886260986, 0.5503098368644714, 0.5369424223899841, 0.5351222157478333, 0.5351222157478333, 0.5336146950721741, 0.5280842781066895, 0.5279335975646973, 0.526750922203064, 0.5210872888565063, 0.5183206796646118, 0.517860472202301, 0.5174576640129089, 0.5152035355567932, 0.512546718120575, 0.8516456484794617, 0.8516456484794617, 0.8459001779556274, 0.8144581913948059, 0.8092177510261536, 0.8069612383842468, 0.7985732555389404, 0.7980548143386841, 0.7974498867988586, 0.7933633327484131, 0.7881069779396057, 0.7860299944877625, 0.7841312885284424, 0.7841312885284424, 0.7832837104797363, 0.7832102179527283, 0.7826804518699646, 0.77876877784729, 0.7779791951179504, 0.7779253125190735, 0.7719464302062988, 0.770357608795166, 0.7694178819656372, 0.7693662047386169, 0.7634456157684326, 0.7616442441940308, 0.7611519694328308, 0.7611519694328308, 0.7604656219482422, 0.7595220804214478, 0.757402777671814, 0.7538819313049316, 0.7507394552230835, 0.7451470494270325, 0.7436316609382629, 0.7422648072242737, 0.7374120950698853, 0.7374120950698853, 0.735973596572876, 0.735973596572876, 0.7347034215927124, 0.723967969417572, 0.7027931213378906, 0.6243318319320679, 0.6199794411659241, 0.6199794411659241, 0.6106658577919006, 0.6072739362716675, 0.6072739362716675, 0.5989894866943359, 0.5988180637359619, 0.5974361896514893, 0.5821888446807861, 0.5724589228630066, 0.5676501989364624, 0.5532068610191345, 0.5511724352836609, 0.5510257482528687, 0.5473089218139648, 0.5336447954177856, 0.53031325340271, 0.5281628370285034, 0.5281263589859009, 0.526102602481842, 0.5237584114074707, 0.5219565033912659, 0.5207643508911133, 0.5172656178474426, 0.5136659145355225, 0.5105530023574829, 0.5105530023574829, 0.5087507367134094, 0.5072566270828247, 0.5018448233604431, 0.5005139112472534, 0.5005139112472534, 0.4929746091365814, 0.4903055429458618, 0.488436222076416, 0.4755447506904602, 0.4720757007598877, 0.465671181678772, 0.7872013449668884, 0.7581661939620972, 0.663089394569397, 0.6623067259788513, 0.6623067259788513, 0.658963680267334, 0.6443707942962646, 0.6424683928489685, 0.6394445300102234, 0.6127272248268127, 0.5991253852844238, 0.5945305228233337, 0.590798020362854, 0.5842630863189697, 0.5684040188789368, 0.5639871954917908, 0.563018798828125, 0.5623903274536133, 0.5592578649520874, 0.5568171739578247, 0.556518018245697, 0.5551804900169373, 0.5496636629104614, 0.548886775970459, 0.548886775970459, 0.5390531420707703, 0.5372459292411804, 0.5372459292411804, 0.5365591645240784, 0.5348882675170898, 0.5301153063774109, 0.5249245762825012, 0.5240570902824402, 0.5111864805221558, 0.5093001127243042, 0.5061472654342651, 0.497540682554245, 0.4957800507545471, 0.4948021471500397, 0.49328526854515076, 0.49328526854515076, 0.9359800815582275, 0.8305003643035889, 0.8252097964286804, 0.7129899859428406, 0.7079394459724426, 0.7050994634628296, 0.6725931167602539, 0.6663365364074707, 0.6535601019859314, 0.6319140195846558, 0.6299029588699341, 0.625113308429718, 0.625113308429718, 0.6179450154304504, 0.5952991247177124, 0.5907800197601318, 0.5819085240364075, 0.5819085240364075, 0.5764737725257874, 0.5764737725257874, 0.5725840926170349, 0.5550852417945862, 0.5393671989440918, 0.5353535413742065, 0.5353142023086548, 0.507132351398468, 0.5054701566696167, 0.49923986196517944, 0.49923986196517944, 0.48383256793022156, 0.47917571663856506, 0.47753673791885376, 0.477120965719223, 0.477120965719223, 0.4752400815486908, 0.4749230146408081, 0.4749027490615845, 0.4640309810638428, 0.4608406722545624, 0.46067559719085693, 0.4600890278816223, 0.7872013449668884, 0.7581661939620972, 0.663089394569397, 0.6623067259788513, 0.6623067259788513, 0.658963680267334, 0.6443707942962646, 0.6424683928489685, 0.6394445300102234, 0.6127272248268127, 0.5991253852844238, 0.5945305228233337, 0.590798020362854, 0.5842630863189697, 0.5684040188789368, 0.5639871954917908, 0.563018798828125, 0.5623903274536133, 0.5592578649520874, 0.5568171739578247, 0.556518018245697, 0.5551804900169373, 0.5496636629104614, 0.548886775970459, 0.548886775970459, 0.5390531420707703, 0.5372459292411804, 0.5372459292411804, 0.5365591645240784, 0.5348882675170898, 0.5301153063774109, 0.5249245762825012, 0.5240570902824402, 0.5111864805221558, 0.5093001127243042, 0.5061472654342651, 0.497540682554245, 0.4957800507545471, 0.4948021471500397, 0.49328526854515076, 0.49328526854515076], \"xaxis\": \"x\", \"yaxis\": \"y\"}],\n",
              "                        {\"barmode\": \"relative\", \"legend\": {\"tracegroupgap\": 0}, \"template\": {\"data\": {\"bar\": [{\"error_x\": {\"color\": \"#2a3f5f\"}, \"error_y\": {\"color\": \"#2a3f5f\"}, \"marker\": {\"line\": {\"color\": \"#E5ECF6\", \"width\": 0.5}}, \"type\": \"bar\"}], \"barpolar\": [{\"marker\": {\"line\": {\"color\": \"#E5ECF6\", \"width\": 0.5}}, \"type\": \"barpolar\"}], \"carpet\": [{\"aaxis\": {\"endlinecolor\": \"#2a3f5f\", \"gridcolor\": \"white\", \"linecolor\": \"white\", \"minorgridcolor\": \"white\", \"startlinecolor\": \"#2a3f5f\"}, \"baxis\": {\"endlinecolor\": \"#2a3f5f\", \"gridcolor\": \"white\", \"linecolor\": \"white\", \"minorgridcolor\": \"white\", \"startlinecolor\": \"#2a3f5f\"}, \"type\": \"carpet\"}], \"choropleth\": [{\"colorbar\": {\"outlinewidth\": 0, \"ticks\": \"\"}, \"type\": \"choropleth\"}], \"contour\": [{\"colorbar\": {\"outlinewidth\": 0, \"ticks\": \"\"}, \"colorscale\": [[0.0, \"#0d0887\"], [0.1111111111111111, \"#46039f\"], [0.2222222222222222, \"#7201a8\"], [0.3333333333333333, \"#9c179e\"], [0.4444444444444444, \"#bd3786\"], [0.5555555555555556, \"#d8576b\"], [0.6666666666666666, \"#ed7953\"], [0.7777777777777778, \"#fb9f3a\"], [0.8888888888888888, \"#fdca26\"], [1.0, \"#f0f921\"]], \"type\": \"contour\"}], \"contourcarpet\": [{\"colorbar\": {\"outlinewidth\": 0, \"ticks\": \"\"}, \"type\": \"contourcarpet\"}], \"heatmap\": [{\"colorbar\": {\"outlinewidth\": 0, \"ticks\": \"\"}, \"colorscale\": [[0.0, \"#0d0887\"], [0.1111111111111111, \"#46039f\"], [0.2222222222222222, \"#7201a8\"], [0.3333333333333333, \"#9c179e\"], [0.4444444444444444, \"#bd3786\"], [0.5555555555555556, \"#d8576b\"], [0.6666666666666666, \"#ed7953\"], [0.7777777777777778, \"#fb9f3a\"], [0.8888888888888888, \"#fdca26\"], [1.0, \"#f0f921\"]], \"type\": \"heatmap\"}], \"heatmapgl\": [{\"colorbar\": {\"outlinewidth\": 0, \"ticks\": \"\"}, \"colorscale\": [[0.0, \"#0d0887\"], [0.1111111111111111, \"#46039f\"], [0.2222222222222222, \"#7201a8\"], [0.3333333333333333, \"#9c179e\"], [0.4444444444444444, \"#bd3786\"], [0.5555555555555556, \"#d8576b\"], [0.6666666666666666, \"#ed7953\"], [0.7777777777777778, \"#fb9f3a\"], [0.8888888888888888, \"#fdca26\"], [1.0, \"#f0f921\"]], \"type\": \"heatmapgl\"}], \"histogram\": [{\"marker\": {\"colorbar\": {\"outlinewidth\": 0, \"ticks\": \"\"}}, \"type\": \"histogram\"}], \"histogram2d\": [{\"colorbar\": {\"outlinewidth\": 0, \"ticks\": \"\"}, \"colorscale\": [[0.0, \"#0d0887\"], [0.1111111111111111, \"#46039f\"], [0.2222222222222222, \"#7201a8\"], [0.3333333333333333, \"#9c179e\"], [0.4444444444444444, \"#bd3786\"], [0.5555555555555556, \"#d8576b\"], [0.6666666666666666, \"#ed7953\"], [0.7777777777777778, \"#fb9f3a\"], [0.8888888888888888, \"#fdca26\"], [1.0, \"#f0f921\"]], \"type\": \"histogram2d\"}], \"histogram2dcontour\": [{\"colorbar\": {\"outlinewidth\": 0, \"ticks\": \"\"}, \"colorscale\": [[0.0, \"#0d0887\"], [0.1111111111111111, \"#46039f\"], [0.2222222222222222, \"#7201a8\"], [0.3333333333333333, \"#9c179e\"], [0.4444444444444444, \"#bd3786\"], [0.5555555555555556, \"#d8576b\"], [0.6666666666666666, \"#ed7953\"], [0.7777777777777778, \"#fb9f3a\"], [0.8888888888888888, \"#fdca26\"], [1.0, \"#f0f921\"]], \"type\": \"histogram2dcontour\"}], \"mesh3d\": [{\"colorbar\": {\"outlinewidth\": 0, \"ticks\": \"\"}, \"type\": \"mesh3d\"}], \"parcoords\": [{\"line\": {\"colorbar\": {\"outlinewidth\": 0, \"ticks\": \"\"}}, \"type\": \"parcoords\"}], \"pie\": [{\"automargin\": true, \"type\": \"pie\"}], \"scatter\": [{\"marker\": {\"colorbar\": {\"outlinewidth\": 0, \"ticks\": \"\"}}, \"type\": \"scatter\"}], \"scatter3d\": [{\"line\": {\"colorbar\": {\"outlinewidth\": 0, \"ticks\": \"\"}}, \"marker\": {\"colorbar\": {\"outlinewidth\": 0, \"ticks\": \"\"}}, \"type\": \"scatter3d\"}], \"scattercarpet\": [{\"marker\": {\"colorbar\": {\"outlinewidth\": 0, \"ticks\": \"\"}}, \"type\": \"scattercarpet\"}], \"scattergeo\": [{\"marker\": {\"colorbar\": {\"outlinewidth\": 0, \"ticks\": \"\"}}, \"type\": \"scattergeo\"}], \"scattergl\": [{\"marker\": {\"colorbar\": {\"outlinewidth\": 0, \"ticks\": \"\"}}, \"type\": \"scattergl\"}], \"scattermapbox\": [{\"marker\": {\"colorbar\": {\"outlinewidth\": 0, \"ticks\": \"\"}}, \"type\": \"scattermapbox\"}], \"scatterpolar\": [{\"marker\": {\"colorbar\": {\"outlinewidth\": 0, \"ticks\": \"\"}}, \"type\": \"scatterpolar\"}], \"scatterpolargl\": [{\"marker\": {\"colorbar\": {\"outlinewidth\": 0, \"ticks\": \"\"}}, \"type\": \"scatterpolargl\"}], \"scatterternary\": [{\"marker\": {\"colorbar\": {\"outlinewidth\": 0, \"ticks\": \"\"}}, \"type\": \"scatterternary\"}], \"surface\": [{\"colorbar\": {\"outlinewidth\": 0, \"ticks\": \"\"}, \"colorscale\": [[0.0, \"#0d0887\"], [0.1111111111111111, \"#46039f\"], [0.2222222222222222, \"#7201a8\"], [0.3333333333333333, \"#9c179e\"], [0.4444444444444444, \"#bd3786\"], [0.5555555555555556, \"#d8576b\"], [0.6666666666666666, \"#ed7953\"], [0.7777777777777778, \"#fb9f3a\"], [0.8888888888888888, \"#fdca26\"], [1.0, \"#f0f921\"]], \"type\": \"surface\"}], \"table\": [{\"cells\": {\"fill\": {\"color\": \"#EBF0F8\"}, \"line\": {\"color\": \"white\"}}, \"header\": {\"fill\": {\"color\": \"#C8D4E3\"}, \"line\": {\"color\": \"white\"}}, \"type\": \"table\"}]}, \"layout\": {\"annotationdefaults\": {\"arrowcolor\": \"#2a3f5f\", \"arrowhead\": 0, \"arrowwidth\": 1}, \"coloraxis\": {\"colorbar\": {\"outlinewidth\": 0, \"ticks\": \"\"}}, \"colorscale\": {\"diverging\": [[0, \"#8e0152\"], [0.1, \"#c51b7d\"], [0.2, \"#de77ae\"], [0.3, \"#f1b6da\"], [0.4, \"#fde0ef\"], [0.5, \"#f7f7f7\"], [0.6, \"#e6f5d0\"], [0.7, \"#b8e186\"], [0.8, \"#7fbc41\"], [0.9, \"#4d9221\"], [1, \"#276419\"]], \"sequential\": [[0.0, \"#0d0887\"], [0.1111111111111111, \"#46039f\"], [0.2222222222222222, \"#7201a8\"], [0.3333333333333333, \"#9c179e\"], [0.4444444444444444, \"#bd3786\"], [0.5555555555555556, \"#d8576b\"], [0.6666666666666666, \"#ed7953\"], [0.7777777777777778, \"#fb9f3a\"], [0.8888888888888888, \"#fdca26\"], [1.0, \"#f0f921\"]], \"sequentialminus\": [[0.0, \"#0d0887\"], [0.1111111111111111, \"#46039f\"], [0.2222222222222222, \"#7201a8\"], [0.3333333333333333, \"#9c179e\"], [0.4444444444444444, \"#bd3786\"], [0.5555555555555556, \"#d8576b\"], [0.6666666666666666, \"#ed7953\"], [0.7777777777777778, \"#fb9f3a\"], [0.8888888888888888, \"#fdca26\"], [1.0, \"#f0f921\"]]}, \"colorway\": [\"#636efa\", \"#EF553B\", \"#00cc96\", \"#ab63fa\", \"#FFA15A\", \"#19d3f3\", \"#FF6692\", \"#B6E880\", \"#FF97FF\", \"#FECB52\"], \"font\": {\"color\": \"#2a3f5f\"}, \"geo\": {\"bgcolor\": \"white\", \"lakecolor\": \"white\", \"landcolor\": \"#E5ECF6\", \"showlakes\": true, \"showland\": true, \"subunitcolor\": \"white\"}, \"hoverlabel\": {\"align\": \"left\"}, \"hovermode\": \"closest\", \"mapbox\": {\"style\": \"light\"}, \"paper_bgcolor\": \"white\", \"plot_bgcolor\": \"#E5ECF6\", \"polar\": {\"angularaxis\": {\"gridcolor\": \"white\", \"linecolor\": \"white\", \"ticks\": \"\"}, \"bgcolor\": \"#E5ECF6\", \"radialaxis\": {\"gridcolor\": \"white\", \"linecolor\": \"white\", \"ticks\": \"\"}}, \"scene\": {\"xaxis\": {\"backgroundcolor\": \"#E5ECF6\", \"gridcolor\": \"white\", \"gridwidth\": 2, \"linecolor\": \"white\", \"showbackground\": true, \"ticks\": \"\", \"zerolinecolor\": \"white\"}, \"yaxis\": {\"backgroundcolor\": \"#E5ECF6\", \"gridcolor\": \"white\", \"gridwidth\": 2, \"linecolor\": \"white\", \"showbackground\": true, \"ticks\": \"\", \"zerolinecolor\": \"white\"}, \"zaxis\": {\"backgroundcolor\": \"#E5ECF6\", \"gridcolor\": \"white\", \"gridwidth\": 2, \"linecolor\": \"white\", \"showbackground\": true, \"ticks\": \"\", \"zerolinecolor\": \"white\"}}, \"shapedefaults\": {\"line\": {\"color\": \"#2a3f5f\"}}, \"ternary\": {\"aaxis\": {\"gridcolor\": \"white\", \"linecolor\": \"white\", \"ticks\": \"\"}, \"baxis\": {\"gridcolor\": \"white\", \"linecolor\": \"white\", \"ticks\": \"\"}, \"bgcolor\": \"#E5ECF6\", \"caxis\": {\"gridcolor\": \"white\", \"linecolor\": \"white\", \"ticks\": \"\"}}, \"title\": {\"x\": 0.05}, \"xaxis\": {\"automargin\": true, \"gridcolor\": \"white\", \"linecolor\": \"white\", \"ticks\": \"\", \"title\": {\"standoff\": 15}, \"zerolinecolor\": \"white\", \"zerolinewidth\": 2}, \"yaxis\": {\"automargin\": true, \"gridcolor\": \"white\", \"linecolor\": \"white\", \"ticks\": \"\", \"title\": {\"standoff\": 15}, \"zerolinecolor\": \"white\", \"zerolinewidth\": 2}}}, \"title\": {\"text\": \"LSI Scores\"}, \"xaxis\": {\"anchor\": \"y\", \"domain\": [0.0, 1.0], \"title\": {\"text\": \"score\"}}, \"yaxis\": {\"anchor\": \"x\", \"domain\": [0.0, 1.0], \"title\": {\"text\": \"count\"}}},\n",
              "                        {\"responsive\": true}\n",
              "                    ).then(function(){\n",
              "                            \n",
              "var gd = document.getElementById('27bdf5ff-1027-4b04-a943-29486edaa115');\n",
              "var x = new MutationObserver(function (mutations, observer) {{\n",
              "        var display = window.getComputedStyle(gd).display;\n",
              "        if (!display || display === 'none') {{\n",
              "            console.log([gd, 'removed!']);\n",
              "            Plotly.purge(gd);\n",
              "            observer.disconnect();\n",
              "        }}\n",
              "}});\n",
              "\n",
              "// Listen for the removal of the full notebook cells\n",
              "var notebookContainer = gd.closest('#notebook-container');\n",
              "if (notebookContainer) {{\n",
              "    x.observe(notebookContainer, {childList: true});\n",
              "}}\n",
              "\n",
              "// Listen for the clearing of the current output cell\n",
              "var outputEl = gd.closest('.output');\n",
              "if (outputEl) {{\n",
              "    x.observe(outputEl, {childList: true});\n",
              "}}\n",
              "\n",
              "                        })\n",
              "                };\n",
              "                \n",
              "            </script>\n",
              "        </div>\n",
              "</body>\n",
              "</html>"
            ]
          },
          "metadata": {}
        }
      ]
    },
    {
      "cell_type": "code",
      "metadata": {
        "id": "RX2JvEEGPGgS"
      },
      "source": [
        "if use_wandb:\n",
        "  wandb.log({\"scores_hist\": fig})"
      ],
      "execution_count": 67,
      "outputs": []
    },
    {
      "cell_type": "code",
      "metadata": {
        "colab": {
          "base_uri": "https://localhost:8080/",
          "height": 990
        },
        "id": "7N81-XfdDFKV",
        "outputId": "837f10d8-4b68-470a-a8bd-4e81334cb84c"
      },
      "source": [
        "result, details = recommend_tune(df_sim, 'These Foolish Things')\n",
        "result.head(30)"
      ],
      "execution_count": 68,
      "outputs": [
        {
          "output_type": "execute_result",
          "data": {
            "text/html": [
              "<div>\n",
              "<style scoped>\n",
              "    .dataframe tbody tr th:only-of-type {\n",
              "        vertical-align: middle;\n",
              "    }\n",
              "\n",
              "    .dataframe tbody tr th {\n",
              "        vertical-align: top;\n",
              "    }\n",
              "\n",
              "    .dataframe thead th {\n",
              "        text-align: right;\n",
              "    }\n",
              "</style>\n",
              "<table border=\"1\" class=\"dataframe\">\n",
              "  <thead>\n",
              "    <tr style=\"text-align: right;\">\n",
              "      <th></th>\n",
              "      <th>index</th>\n",
              "      <th>reference</th>\n",
              "      <th>similar_title</th>\n",
              "      <th>score</th>\n",
              "      <th>max</th>\n",
              "      <th>score_div_max</th>\n",
              "    </tr>\n",
              "  </thead>\n",
              "  <tbody>\n",
              "    <tr>\n",
              "      <th>0</th>\n",
              "      <td>0</td>\n",
              "      <td>These Foolish Things</td>\n",
              "      <td>I Like The Likes Of You</td>\n",
              "      <td>0.851646</td>\n",
              "      <td>0.851646</td>\n",
              "      <td>1.000000</td>\n",
              "    </tr>\n",
              "    <tr>\n",
              "      <th>1</th>\n",
              "      <td>1</td>\n",
              "      <td>These Foolish Things</td>\n",
              "      <td>I Won't Dance</td>\n",
              "      <td>0.847404</td>\n",
              "      <td>0.851646</td>\n",
              "      <td>1.000000</td>\n",
              "    </tr>\n",
              "    <tr>\n",
              "      <th>2</th>\n",
              "      <td>2</td>\n",
              "      <td>These Foolish Things</td>\n",
              "      <td>Isn't It A Pity</td>\n",
              "      <td>0.869656</td>\n",
              "      <td>0.869656</td>\n",
              "      <td>1.000000</td>\n",
              "    </tr>\n",
              "    <tr>\n",
              "      <th>3</th>\n",
              "      <td>3</td>\n",
              "      <td>These Foolish Things</td>\n",
              "      <td>Party's Over, The</td>\n",
              "      <td>0.845900</td>\n",
              "      <td>0.851646</td>\n",
              "      <td>0.993254</td>\n",
              "    </tr>\n",
              "    <tr>\n",
              "      <th>4</th>\n",
              "      <td>4</td>\n",
              "      <td>These Foolish Things</td>\n",
              "      <td>People</td>\n",
              "      <td>0.830277</td>\n",
              "      <td>0.851646</td>\n",
              "      <td>0.979789</td>\n",
              "    </tr>\n",
              "    <tr>\n",
              "      <th>5</th>\n",
              "      <td>5</td>\n",
              "      <td>These Foolish Things</td>\n",
              "      <td>Touch Of Your Lips, The</td>\n",
              "      <td>0.816006</td>\n",
              "      <td>0.851646</td>\n",
              "      <td>0.962948</td>\n",
              "    </tr>\n",
              "    <tr>\n",
              "      <th>6</th>\n",
              "      <td>6</td>\n",
              "      <td>These Foolish Things</td>\n",
              "      <td>Don't Be That Way</td>\n",
              "      <td>0.814149</td>\n",
              "      <td>0.851646</td>\n",
              "      <td>0.960756</td>\n",
              "    </tr>\n",
              "    <tr>\n",
              "      <th>7</th>\n",
              "      <td>7</td>\n",
              "      <td>These Foolish Things</td>\n",
              "      <td>Heart And Soul</td>\n",
              "      <td>0.810251</td>\n",
              "      <td>0.851646</td>\n",
              "      <td>0.956156</td>\n",
              "    </tr>\n",
              "    <tr>\n",
              "      <th>8</th>\n",
              "      <td>8</td>\n",
              "      <td>These Foolish Things</td>\n",
              "      <td>They All Laughed</td>\n",
              "      <td>0.806440</td>\n",
              "      <td>0.847404</td>\n",
              "      <td>0.951659</td>\n",
              "    </tr>\n",
              "    <tr>\n",
              "      <th>9</th>\n",
              "      <td>9</td>\n",
              "      <td>These Foolish Things</td>\n",
              "      <td>Dinah</td>\n",
              "      <td>0.809218</td>\n",
              "      <td>0.851646</td>\n",
              "      <td>0.950181</td>\n",
              "    </tr>\n",
              "    <tr>\n",
              "      <th>10</th>\n",
              "      <td>10</td>\n",
              "      <td>These Foolish Things</td>\n",
              "      <td>Too Young To Go Steady</td>\n",
              "      <td>0.770358</td>\n",
              "      <td>0.869656</td>\n",
              "      <td>0.948455</td>\n",
              "    </tr>\n",
              "    <tr>\n",
              "      <th>11</th>\n",
              "      <td>11</td>\n",
              "      <td>These Foolish Things</td>\n",
              "      <td>Glory Of Love, The</td>\n",
              "      <td>0.798573</td>\n",
              "      <td>0.851646</td>\n",
              "      <td>0.937683</td>\n",
              "    </tr>\n",
              "    <tr>\n",
              "      <th>12</th>\n",
              "      <td>12</td>\n",
              "      <td>These Foolish Things</td>\n",
              "      <td>Way You Look Tonight, The</td>\n",
              "      <td>0.798055</td>\n",
              "      <td>0.851646</td>\n",
              "      <td>0.937074</td>\n",
              "    </tr>\n",
              "    <tr>\n",
              "      <th>13</th>\n",
              "      <td>13</td>\n",
              "      <td>These Foolish Things</td>\n",
              "      <td>Blue Moon</td>\n",
              "      <td>0.792152</td>\n",
              "      <td>0.851646</td>\n",
              "      <td>0.934798</td>\n",
              "    </tr>\n",
              "    <tr>\n",
              "      <th>14</th>\n",
              "      <td>14</td>\n",
              "      <td>These Foolish Things</td>\n",
              "      <td>Why Do I Love You</td>\n",
              "      <td>0.793363</td>\n",
              "      <td>0.851646</td>\n",
              "      <td>0.931565</td>\n",
              "    </tr>\n",
              "    <tr>\n",
              "      <th>15</th>\n",
              "      <td>15</td>\n",
              "      <td>These Foolish Things</td>\n",
              "      <td>It's A Lovely Day Today</td>\n",
              "      <td>0.788107</td>\n",
              "      <td>0.851646</td>\n",
              "      <td>0.927681</td>\n",
              "    </tr>\n",
              "    <tr>\n",
              "      <th>16</th>\n",
              "      <td>16</td>\n",
              "      <td>These Foolish Things</td>\n",
              "      <td>Fools Rush In</td>\n",
              "      <td>0.786030</td>\n",
              "      <td>0.851646</td>\n",
              "      <td>0.922954</td>\n",
              "    </tr>\n",
              "    <tr>\n",
              "      <th>17</th>\n",
              "      <td>17</td>\n",
              "      <td>These Foolish Things</td>\n",
              "      <td>As Long As I Live</td>\n",
              "      <td>0.780773</td>\n",
              "      <td>0.847404</td>\n",
              "      <td>0.921371</td>\n",
              "    </tr>\n",
              "    <tr>\n",
              "      <th>18</th>\n",
              "      <td>18</td>\n",
              "      <td>These Foolish Things</td>\n",
              "      <td>Mimi</td>\n",
              "      <td>0.783284</td>\n",
              "      <td>0.851646</td>\n",
              "      <td>0.919730</td>\n",
              "    </tr>\n",
              "    <tr>\n",
              "      <th>19</th>\n",
              "      <td>19</td>\n",
              "      <td>These Foolish Things</td>\n",
              "      <td>Nearness Of You, The</td>\n",
              "      <td>0.778446</td>\n",
              "      <td>0.847404</td>\n",
              "      <td>0.918624</td>\n",
              "    </tr>\n",
              "    <tr>\n",
              "      <th>20</th>\n",
              "      <td>20</td>\n",
              "      <td>These Foolish Things</td>\n",
              "      <td>Time After Time</td>\n",
              "      <td>0.774926</td>\n",
              "      <td>0.851646</td>\n",
              "      <td>0.916965</td>\n",
              "    </tr>\n",
              "    <tr>\n",
              "      <th>21</th>\n",
              "      <td>21</td>\n",
              "      <td>These Foolish Things</td>\n",
              "      <td>Try A Little Tenderness</td>\n",
              "      <td>0.777925</td>\n",
              "      <td>0.851646</td>\n",
              "      <td>0.913438</td>\n",
              "    </tr>\n",
              "    <tr>\n",
              "      <th>22</th>\n",
              "      <td>22</td>\n",
              "      <td>These Foolish Things</td>\n",
              "      <td>All God's Chillun Got Rhythm</td>\n",
              "      <td>0.767349</td>\n",
              "      <td>0.869656</td>\n",
              "      <td>0.905530</td>\n",
              "    </tr>\n",
              "    <tr>\n",
              "      <th>23</th>\n",
              "      <td>23</td>\n",
              "      <td>These Foolish Things</td>\n",
              "      <td>Polkadots And Moonbeams</td>\n",
              "      <td>0.769418</td>\n",
              "      <td>0.851646</td>\n",
              "      <td>0.903448</td>\n",
              "    </tr>\n",
              "    <tr>\n",
              "      <th>24</th>\n",
              "      <td>24</td>\n",
              "      <td>These Foolish Things</td>\n",
              "      <td>Bewitched</td>\n",
              "      <td>0.764343</td>\n",
              "      <td>0.847404</td>\n",
              "      <td>0.901982</td>\n",
              "    </tr>\n",
              "    <tr>\n",
              "      <th>25</th>\n",
              "      <td>25</td>\n",
              "      <td>These Foolish Things</td>\n",
              "      <td>Emily</td>\n",
              "      <td>0.761764</td>\n",
              "      <td>0.847404</td>\n",
              "      <td>0.901817</td>\n",
              "    </tr>\n",
              "    <tr>\n",
              "      <th>26</th>\n",
              "      <td>26</td>\n",
              "      <td>These Foolish Things</td>\n",
              "      <td>I'll Be Around</td>\n",
              "      <td>0.759669</td>\n",
              "      <td>0.847404</td>\n",
              "      <td>0.896466</td>\n",
              "    </tr>\n",
              "    <tr>\n",
              "      <th>27</th>\n",
              "      <td>27</td>\n",
              "      <td>These Foolish Things</td>\n",
              "      <td>I Can't Get Started</td>\n",
              "      <td>0.709711</td>\n",
              "      <td>0.807986</td>\n",
              "      <td>0.878371</td>\n",
              "    </tr>\n",
              "    <tr>\n",
              "      <th>28</th>\n",
              "      <td>28</td>\n",
              "      <td>These Foolish Things</td>\n",
              "      <td>Imagination</td>\n",
              "      <td>0.697006</td>\n",
              "      <td>0.869656</td>\n",
              "      <td>0.801474</td>\n",
              "    </tr>\n",
              "    <tr>\n",
              "      <th>29</th>\n",
              "      <td>29</td>\n",
              "      <td>These Foolish Things</td>\n",
              "      <td>I've Told Eve'ry Little Star</td>\n",
              "      <td>0.691878</td>\n",
              "      <td>0.869656</td>\n",
              "      <td>0.795577</td>\n",
              "    </tr>\n",
              "  </tbody>\n",
              "</table>\n",
              "</div>"
            ],
            "text/plain": [
              "    index             reference  ...       max  score_div_max\n",
              "0       0  These Foolish Things  ...  0.851646       1.000000\n",
              "1       1  These Foolish Things  ...  0.851646       1.000000\n",
              "2       2  These Foolish Things  ...  0.869656       1.000000\n",
              "3       3  These Foolish Things  ...  0.851646       0.993254\n",
              "4       4  These Foolish Things  ...  0.851646       0.979789\n",
              "5       5  These Foolish Things  ...  0.851646       0.962948\n",
              "6       6  These Foolish Things  ...  0.851646       0.960756\n",
              "7       7  These Foolish Things  ...  0.851646       0.956156\n",
              "8       8  These Foolish Things  ...  0.847404       0.951659\n",
              "9       9  These Foolish Things  ...  0.851646       0.950181\n",
              "10     10  These Foolish Things  ...  0.869656       0.948455\n",
              "11     11  These Foolish Things  ...  0.851646       0.937683\n",
              "12     12  These Foolish Things  ...  0.851646       0.937074\n",
              "13     13  These Foolish Things  ...  0.851646       0.934798\n",
              "14     14  These Foolish Things  ...  0.851646       0.931565\n",
              "15     15  These Foolish Things  ...  0.851646       0.927681\n",
              "16     16  These Foolish Things  ...  0.851646       0.922954\n",
              "17     17  These Foolish Things  ...  0.847404       0.921371\n",
              "18     18  These Foolish Things  ...  0.851646       0.919730\n",
              "19     19  These Foolish Things  ...  0.847404       0.918624\n",
              "20     20  These Foolish Things  ...  0.851646       0.916965\n",
              "21     21  These Foolish Things  ...  0.851646       0.913438\n",
              "22     22  These Foolish Things  ...  0.869656       0.905530\n",
              "23     23  These Foolish Things  ...  0.851646       0.903448\n",
              "24     24  These Foolish Things  ...  0.847404       0.901982\n",
              "25     25  These Foolish Things  ...  0.847404       0.901817\n",
              "26     26  These Foolish Things  ...  0.847404       0.896466\n",
              "27     27  These Foolish Things  ...  0.807986       0.878371\n",
              "28     28  These Foolish Things  ...  0.869656       0.801474\n",
              "29     29  These Foolish Things  ...  0.869656       0.795577\n",
              "\n",
              "[30 rows x 6 columns]"
            ]
          },
          "metadata": {},
          "execution_count": 68
        }
      ]
    },
    {
      "cell_type": "code",
      "metadata": {
        "id": "15ZsHOQmyyah"
      },
      "source": [
        "dd = pd.DataFrame(columns = recommender_results_cols)\n",
        "\n",
        "for tune in tunes_eval_list:\n",
        "  result, details = recommend_tune(df_sim, tune)\n",
        "  dd['id'] = result['index']\n",
        "  dd['reference'] = tune\n",
        "  dd['method'] = 'lsi'\n",
        "  dd['similar'] = result['similar_title']\n",
        "  dd['score_div_max'] = result['score_div_max']\n",
        "  dd['score'] = result['score']\n",
        "\n",
        "recommender_results = recommender_results.append(dd)"
      ],
      "execution_count": 69,
      "outputs": []
    },
    {
      "cell_type": "markdown",
      "metadata": {
        "id": "Ojrjp11ni6Pl"
      },
      "source": [
        "### Tests for Contrafacts"
      ]
    },
    {
      "cell_type": "code",
      "metadata": {
        "colab": {
          "base_uri": "https://localhost:8080/"
        },
        "id": "D0_7m1qji6A-",
        "outputId": "f4c21f85-6157-49c3-c4a2-a5e2586423ff"
      },
      "source": [
        "topN = 15\n",
        "matches, results = test_contrafacts(contrafacts, index_lsi, lsi, topN)\n",
        "\n",
        "[print(f\"{val}: {rr}\") for rr, val in results.items()] \n",
        "print() \n",
        "print(f\"Found matches: {matches} out of {len(contrafacts)}: {100*matches/len(contrafacts):.3f}%\")"
      ],
      "execution_count": 70,
      "outputs": [
        {
          "output_type": "stream",
          "name": "stdout",
          "text": [
            "1: 26-2\n",
            "0: 52nd Street Theme\n",
            "1: Ablution\n",
            "1: Anthropology\n",
            "0: Ballade\n",
            "1: Bright Mississippi\n",
            "1: C.T.A.\n",
            "0: Celia\n",
            "1: Cottontail\n",
            "1: Countdown\n",
            "0: Dewey Square\n",
            "1: Dexterity\n",
            "1: Dig\n",
            "1: Donna Lee\n",
            "0: Don't Be That Way\n",
            "0: Eternal Triangle\n",
            "0: Evidence\n",
            "1: Flintstones\n",
            "0: Four On Six\n",
            "1: Freight Train\n",
            "0: Good Bait\n",
            "0: Hackensack\n",
            "1: Half Nelson\n",
            "1: Hot House\n",
            "1: Impressions\n",
            "1: In A Mellow Tone (In A Mellotone)\n",
            "1: In Walked Bud\n",
            "1: Ko Ko\n",
            "0: Lennie's Pennies\n",
            "0: Little Rootie Tootie\n",
            "0: Little Willie Leaps\n",
            "0: Lullaby Of Birdland\n",
            "1: Moose The Mooche\n",
            "0: My Little Suede Shoes\n",
            "1: Oleo\n",
            "1: Ornithology\n",
            "1: Passport\n",
            "0: Quasimodo (Theme)\n",
            "1: Rhythm-a-ning\n",
            "0: Room 608\n",
            "1: Salt Peanuts\n",
            "1: Satellite\n",
            "1: Scrapple From The Apple\n",
            "1: Seven Come Eleven\n",
            "1: Shaw 'Nuff\n",
            "1: Theme, The\n",
            "0: Tour De Force\n",
            "0: Wow\n",
            "1: Yardbird Suite\n",
            "0: Sweet Sue, Just You\n",
            "1: These Foolish Things\n",
            "1: Misty\n",
            "\n",
            "Found matches: 32 out of 52: 61.538%\n"
          ]
        }
      ]
    },
    {
      "cell_type": "code",
      "metadata": {
        "id": "RS7LsLASi5-f"
      },
      "source": [
        "if use_wandb:\n",
        "  wandb.log({'lsi': {\n",
        "      'contrafacts': {\n",
        "          'topN': topN,\n",
        "          'success': matches/len(contrafacts),\n",
        "          #'results': results\n",
        "      }\n",
        "  }})"
      ],
      "execution_count": 71,
      "outputs": []
    },
    {
      "cell_type": "markdown",
      "metadata": {
        "id": "asScIocQRMPA"
      },
      "source": [
        "## Determine Number of Topics for LSI Model\n",
        "\n",
        "This sample comes from Datacamp: \n",
        "\n",
        "https://www.datacamp.com/community/tutorials/discovering-hidden-topics-python\n"
      ]
    },
    {
      "cell_type": "markdown",
      "metadata": {
        "id": "1TPNWFEPSxZ-"
      },
      "source": [
        "What is the best way to determine k (number of topics) in topic modeling? Identify the optimum number of topics in the given corpus text is a challenging task. We can use the following options for determining the optimum number of topics:\n",
        "\n",
        "* One way to determine the optimum number of topics is to consider each topic as a cluster and find out the effectiveness of a cluster using the Silhouette coefficient.\n",
        "* Topic coherence measure is a realistic measure for identifying the number of topics.\n",
        "\n",
        "Topic Coherence measure is a widely used metric to evaluate topic models. It uses the latent variable models. Each generated topic has a list of words. In topic coherence measure, you will find average/median of pairwise word similarity scores of the words in a topic. The high value of topic coherence score model will be considered as a good topic model. "
      ]
    },
    {
      "cell_type": "code",
      "metadata": {
        "id": "umpCyQQzRLgv"
      },
      "source": [
        "def prepare_corpus(doc_clean):\n",
        "    \"\"\"\n",
        "    Input  : clean document\n",
        "    Purpose: create term dictionary of our courpus and Converting list of documents (corpus) into Document Term Matrix\n",
        "    Output : term dictionary and Document Term Matrix\n",
        "    \"\"\"\n",
        "    # Creating the term dictionary of our courpus, where every unique term is assigned an index. dictionary = corpora.Dictionary(doc_clean)\n",
        "    dictionary = corpora.Dictionary(doc_clean)\n",
        "    # Converting list of documents (corpus) into Document Term Matrix using dictionary prepared above.\n",
        "    doc_term_matrix = [dictionary.doc2bow(doc) for doc in doc_clean]\n",
        "    # generate LDA model\n",
        "    return dictionary, doc_term_matrix"
      ],
      "execution_count": 72,
      "outputs": []
    },
    {
      "cell_type": "code",
      "metadata": {
        "id": "aS2wxIEERcul"
      },
      "source": [
        "def compute_coherence_values(dictionary, doc_term_matrix, doc_clean, stop, start=2, step=3):\n",
        "    \"\"\"\n",
        "    Input   : dictionary : Gensim dictionary\n",
        "              corpus : Gensim corpus\n",
        "              texts : List of input texts\n",
        "              stop : Max num of topics\n",
        "    purpose : Compute c_v coherence for various number of topics\n",
        "    Output  : model_list : List of LSA topic models\n",
        "              coherence_values : Coherence values corresponding to the LDA model with respective number of topics\n",
        "    \"\"\"\n",
        "    coherence_values = []\n",
        "    model_list = []\n",
        "    for num_topics in range(start, stop, step):\n",
        "        # generate LSA model\n",
        "        model = LsiModel(doc_term_matrix, num_topics=num_topics, id2word = dictionary)  # train model\n",
        "        model_list.append(model)\n",
        "        coherencemodel = CoherenceModel(model=model, texts=doc_clean, dictionary=dictionary, coherence='c_v')\n",
        "        coherence_values.append(coherencemodel.get_coherence())\n",
        "    return model_list, coherence_values"
      ],
      "execution_count": 73,
      "outputs": []
    },
    {
      "cell_type": "code",
      "metadata": {
        "id": "DjyzAzWBRfrH"
      },
      "source": [
        "def plot_graph(doc_clean,start, stop, step):\n",
        "    dictionary, doc_term_matrix = prepare_corpus(doc_clean)\n",
        "    model_list, coherence_values = compute_coherence_values(dictionary, doc_term_matrix,doc_clean,\n",
        "                                                            stop, start, step)\n",
        "    # Show graph\n",
        "    x = range(start, stop, step)\n",
        "    plt.plot(x, coherence_values)\n",
        "    plt.xlabel(\"Number of Topics\")\n",
        "    plt.ylabel(\"Coherence score\")\n",
        "    plt.legend((\"coherence_values\"), loc='best')\n",
        "    plt.show()"
      ],
      "execution_count": 74,
      "outputs": []
    },
    {
      "cell_type": "code",
      "metadata": {
        "id": "qy9ZjdcmRhxs"
      },
      "source": [
        "# evaluate a good number of topics for the LSI Model. This takes some time.\n",
        "\n",
        "if False:\n",
        "\n",
        "  start, stop, step = 1, 500, 10\n",
        "  plot_graph(data, start, stop, step)"
      ],
      "execution_count": 75,
      "outputs": []
    },
    {
      "cell_type": "markdown",
      "metadata": {
        "id": "Qo5NgBHFlqgg"
      },
      "source": [
        "For unigrams, the best number of topics seems to be around 20.\n",
        "\n",
        "For unigrams plus bigrams, the coherence score drops down until 100 and then continuously rises until 500 and continues to rise. Same for bigrams-only."
      ]
    },
    {
      "cell_type": "markdown",
      "metadata": {
        "id": "lTQKfd0xQQ65"
      },
      "source": [
        "Store Model to W&B"
      ]
    },
    {
      "cell_type": "code",
      "metadata": {
        "id": "RfAYF7ArQUXo"
      },
      "source": [
        "if use_wandb:\n",
        "  model_artifact = wandb.Artifact(\n",
        "      \"trained-model\", \n",
        "      type=\"model\",\n",
        "      description=\"LSI model\",\n",
        "      metadata=\"\")\n",
        "\n",
        "  model_artifact.add_file(\"/content/index/lsi.model\")\n",
        "  model_artifact.add_file(\"/content/index/lsi_matrixsim.index\")\n",
        "  model_artifact.add_file(\"/content/index/lsi.model.projection\")\n",
        "  wandb.log_artifact(model_artifact)"
      ],
      "execution_count": 76,
      "outputs": []
    },
    {
      "cell_type": "markdown",
      "metadata": {
        "id": "rF_INicGhXKd"
      },
      "source": [
        "# Doc2Vec"
      ]
    },
    {
      "cell_type": "code",
      "metadata": {
        "id": "wflSccBshkIk"
      },
      "source": [
        "def get_tagged_documents(corpus, tags=None):\n",
        "  if tags == 'SectionsTunes':\n",
        "    print('Tagging input data with both section and tune information.')\n",
        "  else:\n",
        "    print('Tagging input data with section informaiton only.')\n",
        "    \n",
        "  for i, tokens in enumerate(corpus):\n",
        "    if tags == 'SectionsTunes':\n",
        "      yield gensim.models.doc2vec.TaggedDocument(tokens, [i, f'titleid_{sectionid_to_titleid[i]}'])\n",
        "    else:\n",
        "      yield gensim.models.doc2vec.TaggedDocument(tokens, [i])  # diatonic chord distance is a bit better"
      ],
      "execution_count": 77,
      "outputs": []
    },
    {
      "cell_type": "code",
      "metadata": {
        "colab": {
          "base_uri": "https://localhost:8080/"
        },
        "id": "_u0RdBI1kYD9",
        "outputId": "86f8c417-7bcb-4b46-f0b1-fbd798a8a348"
      },
      "source": [
        "train_corpus = list(get_tagged_documents(processed_corpus, doc2vec_config['general']['document_tags']))\n",
        "train_corpus[1000]"
      ],
      "execution_count": 78,
      "outputs": [
        {
          "output_type": "stream",
          "name": "stdout",
          "text": [
            "Tagging input data with both section and tune information.\n"
          ]
        },
        {
          "output_type": "execute_result",
          "data": {
            "text/plain": [
              "TaggedDocument(words=['CM7-Am7', 'Am7-Dm7', 'Dm7-G7', 'G7-CM7', 'CM7-FM7', 'FM7-C', 'C-Am7', 'Am7-Dm7', 'Dm7-G7', 'G7-C6', 'C6-Dm7', 'Dm7-G7'], tags=[1000, 'titleid_308'])"
            ]
          },
          "metadata": {},
          "execution_count": 78
        }
      ]
    },
    {
      "cell_type": "code",
      "metadata": {
        "colab": {
          "base_uri": "https://localhost:8080/"
        },
        "id": "M9adPoy9reaw",
        "outputId": "919edd31-9a19-4ee9-aa15-cea524b7d117"
      },
      "source": [
        "import multiprocessing\n",
        "\n",
        "print(f\"CPU Count: {multiprocessing.cpu_count()}\")\n",
        "print(f\"Config:\")\n",
        "print(doc2vec_config['model'])\n",
        "\n",
        "model = Doc2Vec(train_corpus,\n",
        "                **doc2vec_config['model']\n",
        "                )"
      ],
      "execution_count": 79,
      "outputs": [
        {
          "output_type": "stream",
          "name": "stderr",
          "text": [
            "2021-11-23 21:36:59,377 : INFO : collecting all words and their counts\n",
            "2021-11-23 21:36:59,379 : INFO : PROGRESS: at example #0, processed 0 words (0/s), 0 word types, 0 tags\n",
            "2021-11-23 21:36:59,424 : INFO : collected 3750 word types and 7200 unique tags from a corpus of 5391 examples and 77231 words\n",
            "2021-11-23 21:36:59,427 : INFO : Creating a fresh vocabulary\n",
            "2021-11-23 21:36:59,453 : INFO : Doc2Vec lifecycle event {'msg': 'effective_min_count=1 retains 3750 unique words (100.0%% of original 3750, drops 0)', 'datetime': '2021-11-23T21:36:59.453508', 'gensim': '4.1.2', 'python': '3.7.12 (default, Sep 10 2021, 00:21:48) \\n[GCC 7.5.0]', 'platform': 'Linux-5.4.104+-x86_64-with-Ubuntu-18.04-bionic', 'event': 'prepare_vocab'}\n",
            "2021-11-23 21:36:59,459 : INFO : Doc2Vec lifecycle event {'msg': 'effective_min_count=1 leaves 77231 word corpus (100.0%% of original 77231, drops 0)', 'datetime': '2021-11-23T21:36:59.459110', 'gensim': '4.1.2', 'python': '3.7.12 (default, Sep 10 2021, 00:21:48) \\n[GCC 7.5.0]', 'platform': 'Linux-5.4.104+-x86_64-with-Ubuntu-18.04-bionic', 'event': 'prepare_vocab'}\n",
            "2021-11-23 21:36:59,492 : INFO : deleting the raw counts dictionary of 3750 items\n",
            "2021-11-23 21:36:59,494 : INFO : sample=0.001 downsamples 70 most-common words\n",
            "2021-11-23 21:36:59,497 : INFO : Doc2Vec lifecycle event {'msg': 'downsampling leaves estimated 53287.88837461548 word corpus (69.0%% of prior 77231)', 'datetime': '2021-11-23T21:36:59.497064', 'gensim': '4.1.2', 'python': '3.7.12 (default, Sep 10 2021, 00:21:48) \\n[GCC 7.5.0]', 'platform': 'Linux-5.4.104+-x86_64-with-Ubuntu-18.04-bionic', 'event': 'prepare_vocab'}\n"
          ]
        },
        {
          "output_type": "stream",
          "name": "stdout",
          "text": [
            "CPU Count: 2\n",
            "Config:\n",
            "{'dm': 1, 'vector_size': 100, 'window': 4, 'epochs': 40, 'min_count': 1, 'negative': 10, 'sample': 0.001, 'seed': 42}\n"
          ]
        },
        {
          "output_type": "stream",
          "name": "stderr",
          "text": [
            "2021-11-23 21:36:59,565 : INFO : estimated required memory for 3750 words and 100 dimensions: 9195000 bytes\n",
            "2021-11-23 21:36:59,567 : INFO : resetting layer weights\n",
            "2021-11-23 21:36:59,580 : INFO : Doc2Vec lifecycle event {'msg': 'training model with 3 workers on 3750 vocabulary and 100 features, using sg=0 hs=0 sample=0.001 negative=10 window=4 shrink_windows=True', 'datetime': '2021-11-23T21:36:59.580409', 'gensim': '4.1.2', 'python': '3.7.12 (default, Sep 10 2021, 00:21:48) \\n[GCC 7.5.0]', 'platform': 'Linux-5.4.104+-x86_64-with-Ubuntu-18.04-bionic', 'event': 'train'}\n",
            "2021-11-23 21:37:00,231 : INFO : worker thread finished; awaiting finish of 2 more threads\n",
            "2021-11-23 21:37:00,308 : INFO : worker thread finished; awaiting finish of 1 more threads\n",
            "2021-11-23 21:37:00,332 : INFO : worker thread finished; awaiting finish of 0 more threads\n",
            "2021-11-23 21:37:00,335 : INFO : EPOCH - 1 : training on 77231 raw words (63897 effective words) took 0.7s, 85974 effective words/s\n",
            "2021-11-23 21:37:01,038 : INFO : worker thread finished; awaiting finish of 2 more threads\n",
            "2021-11-23 21:37:01,127 : INFO : worker thread finished; awaiting finish of 1 more threads\n",
            "2021-11-23 21:37:01,136 : INFO : worker thread finished; awaiting finish of 0 more threads\n",
            "2021-11-23 21:37:01,138 : INFO : EPOCH - 2 : training on 77231 raw words (64111 effective words) took 0.8s, 81060 effective words/s\n",
            "2021-11-23 21:37:01,813 : INFO : worker thread finished; awaiting finish of 2 more threads\n",
            "2021-11-23 21:37:01,868 : INFO : worker thread finished; awaiting finish of 1 more threads\n",
            "2021-11-23 21:37:01,887 : INFO : worker thread finished; awaiting finish of 0 more threads\n",
            "2021-11-23 21:37:01,888 : INFO : EPOCH - 3 : training on 77231 raw words (64128 effective words) took 0.7s, 87245 effective words/s\n",
            "2021-11-23 21:37:02,516 : INFO : worker thread finished; awaiting finish of 2 more threads\n",
            "2021-11-23 21:37:02,603 : INFO : worker thread finished; awaiting finish of 1 more threads\n",
            "2021-11-23 21:37:02,620 : INFO : worker thread finished; awaiting finish of 0 more threads\n",
            "2021-11-23 21:37:02,622 : INFO : EPOCH - 4 : training on 77231 raw words (63934 effective words) took 0.7s, 88752 effective words/s\n",
            "2021-11-23 21:37:03,271 : INFO : worker thread finished; awaiting finish of 2 more threads\n",
            "2021-11-23 21:37:03,361 : INFO : worker thread finished; awaiting finish of 1 more threads\n",
            "2021-11-23 21:37:03,381 : INFO : worker thread finished; awaiting finish of 0 more threads\n",
            "2021-11-23 21:37:03,384 : INFO : EPOCH - 5 : training on 77231 raw words (64044 effective words) took 0.7s, 85786 effective words/s\n",
            "2021-11-23 21:37:04,066 : INFO : worker thread finished; awaiting finish of 2 more threads\n",
            "2021-11-23 21:37:04,165 : INFO : worker thread finished; awaiting finish of 1 more threads\n",
            "2021-11-23 21:37:04,182 : INFO : worker thread finished; awaiting finish of 0 more threads\n",
            "2021-11-23 21:37:04,185 : INFO : EPOCH - 6 : training on 77231 raw words (64247 effective words) took 0.8s, 82584 effective words/s\n",
            "2021-11-23 21:37:04,824 : INFO : worker thread finished; awaiting finish of 2 more threads\n",
            "2021-11-23 21:37:04,910 : INFO : worker thread finished; awaiting finish of 1 more threads\n",
            "2021-11-23 21:37:04,928 : INFO : worker thread finished; awaiting finish of 0 more threads\n",
            "2021-11-23 21:37:04,931 : INFO : EPOCH - 7 : training on 77231 raw words (63925 effective words) took 0.7s, 87123 effective words/s\n",
            "2021-11-23 21:37:05,564 : INFO : worker thread finished; awaiting finish of 2 more threads\n",
            "2021-11-23 21:37:05,645 : INFO : worker thread finished; awaiting finish of 1 more threads\n",
            "2021-11-23 21:37:05,663 : INFO : worker thread finished; awaiting finish of 0 more threads\n",
            "2021-11-23 21:37:05,667 : INFO : EPOCH - 8 : training on 77231 raw words (63965 effective words) took 0.7s, 88265 effective words/s\n",
            "2021-11-23 21:37:06,310 : INFO : worker thread finished; awaiting finish of 2 more threads\n",
            "2021-11-23 21:37:06,400 : INFO : worker thread finished; awaiting finish of 1 more threads\n",
            "2021-11-23 21:37:06,414 : INFO : worker thread finished; awaiting finish of 0 more threads\n",
            "2021-11-23 21:37:06,419 : INFO : EPOCH - 9 : training on 77231 raw words (64141 effective words) took 0.7s, 86603 effective words/s\n",
            "2021-11-23 21:37:07,083 : INFO : worker thread finished; awaiting finish of 2 more threads\n",
            "2021-11-23 21:37:07,165 : INFO : worker thread finished; awaiting finish of 1 more threads\n",
            "2021-11-23 21:37:07,181 : INFO : worker thread finished; awaiting finish of 0 more threads\n",
            "2021-11-23 21:37:07,183 : INFO : EPOCH - 10 : training on 77231 raw words (64152 effective words) took 0.7s, 85622 effective words/s\n",
            "2021-11-23 21:37:07,840 : INFO : worker thread finished; awaiting finish of 2 more threads\n",
            "2021-11-23 21:37:07,929 : INFO : worker thread finished; awaiting finish of 1 more threads\n",
            "2021-11-23 21:37:07,947 : INFO : worker thread finished; awaiting finish of 0 more threads\n",
            "2021-11-23 21:37:07,949 : INFO : EPOCH - 11 : training on 77231 raw words (63960 effective words) took 0.8s, 85141 effective words/s\n",
            "2021-11-23 21:37:08,596 : INFO : worker thread finished; awaiting finish of 2 more threads\n",
            "2021-11-23 21:37:08,672 : INFO : worker thread finished; awaiting finish of 1 more threads\n",
            "2021-11-23 21:37:08,695 : INFO : worker thread finished; awaiting finish of 0 more threads\n",
            "2021-11-23 21:37:08,696 : INFO : EPOCH - 12 : training on 77231 raw words (64061 effective words) took 0.7s, 87239 effective words/s\n",
            "2021-11-23 21:37:09,313 : INFO : worker thread finished; awaiting finish of 2 more threads\n",
            "2021-11-23 21:37:09,407 : INFO : worker thread finished; awaiting finish of 1 more threads\n",
            "2021-11-23 21:37:09,424 : INFO : worker thread finished; awaiting finish of 0 more threads\n",
            "2021-11-23 21:37:09,426 : INFO : EPOCH - 13 : training on 77231 raw words (64062 effective words) took 0.7s, 89339 effective words/s\n",
            "2021-11-23 21:37:10,083 : INFO : worker thread finished; awaiting finish of 2 more threads\n",
            "2021-11-23 21:37:10,173 : INFO : worker thread finished; awaiting finish of 1 more threads\n",
            "2021-11-23 21:37:10,185 : INFO : worker thread finished; awaiting finish of 0 more threads\n",
            "2021-11-23 21:37:10,187 : INFO : EPOCH - 14 : training on 77231 raw words (64205 effective words) took 0.7s, 86587 effective words/s\n",
            "2021-11-23 21:37:10,816 : INFO : worker thread finished; awaiting finish of 2 more threads\n",
            "2021-11-23 21:37:10,913 : INFO : worker thread finished; awaiting finish of 1 more threads\n",
            "2021-11-23 21:37:10,925 : INFO : worker thread finished; awaiting finish of 0 more threads\n",
            "2021-11-23 21:37:10,926 : INFO : EPOCH - 15 : training on 77231 raw words (64066 effective words) took 0.7s, 88494 effective words/s\n",
            "2021-11-23 21:37:11,615 : INFO : worker thread finished; awaiting finish of 2 more threads\n",
            "2021-11-23 21:37:11,681 : INFO : worker thread finished; awaiting finish of 1 more threads\n",
            "2021-11-23 21:37:11,700 : INFO : worker thread finished; awaiting finish of 0 more threads\n",
            "2021-11-23 21:37:11,701 : INFO : EPOCH - 16 : training on 77231 raw words (63909 effective words) took 0.8s, 83920 effective words/s\n",
            "2021-11-23 21:37:12,339 : INFO : worker thread finished; awaiting finish of 2 more threads\n",
            "2021-11-23 21:37:12,424 : INFO : worker thread finished; awaiting finish of 1 more threads\n",
            "2021-11-23 21:37:12,443 : INFO : worker thread finished; awaiting finish of 0 more threads\n",
            "2021-11-23 21:37:12,445 : INFO : EPOCH - 17 : training on 77231 raw words (64059 effective words) took 0.7s, 87560 effective words/s\n",
            "2021-11-23 21:37:13,073 : INFO : worker thread finished; awaiting finish of 2 more threads\n",
            "2021-11-23 21:37:13,155 : INFO : worker thread finished; awaiting finish of 1 more threads\n",
            "2021-11-23 21:37:13,172 : INFO : worker thread finished; awaiting finish of 0 more threads\n",
            "2021-11-23 21:37:13,174 : INFO : EPOCH - 18 : training on 77231 raw words (64065 effective words) took 0.7s, 89841 effective words/s\n",
            "2021-11-23 21:37:13,778 : INFO : worker thread finished; awaiting finish of 2 more threads\n",
            "2021-11-23 21:37:13,863 : INFO : worker thread finished; awaiting finish of 1 more threads\n",
            "2021-11-23 21:37:13,881 : INFO : worker thread finished; awaiting finish of 0 more threads\n",
            "2021-11-23 21:37:13,883 : INFO : EPOCH - 19 : training on 77231 raw words (64043 effective words) took 0.7s, 92066 effective words/s\n",
            "2021-11-23 21:37:14,489 : INFO : worker thread finished; awaiting finish of 2 more threads\n",
            "2021-11-23 21:37:14,589 : INFO : worker thread finished; awaiting finish of 1 more threads\n",
            "2021-11-23 21:37:14,607 : INFO : worker thread finished; awaiting finish of 0 more threads\n",
            "2021-11-23 21:37:14,608 : INFO : EPOCH - 20 : training on 77231 raw words (64200 effective words) took 0.7s, 90278 effective words/s\n",
            "2021-11-23 21:37:15,279 : INFO : worker thread finished; awaiting finish of 2 more threads\n",
            "2021-11-23 21:37:15,360 : INFO : worker thread finished; awaiting finish of 1 more threads\n",
            "2021-11-23 21:37:15,372 : INFO : worker thread finished; awaiting finish of 0 more threads\n",
            "2021-11-23 21:37:15,374 : INFO : EPOCH - 21 : training on 77231 raw words (64162 effective words) took 0.8s, 85440 effective words/s\n",
            "2021-11-23 21:37:16,034 : INFO : worker thread finished; awaiting finish of 2 more threads\n",
            "2021-11-23 21:37:16,110 : INFO : worker thread finished; awaiting finish of 1 more threads\n",
            "2021-11-23 21:37:16,129 : INFO : worker thread finished; awaiting finish of 0 more threads\n",
            "2021-11-23 21:37:16,131 : INFO : EPOCH - 22 : training on 77231 raw words (64123 effective words) took 0.7s, 86197 effective words/s\n",
            "2021-11-23 21:37:16,738 : INFO : worker thread finished; awaiting finish of 2 more threads\n",
            "2021-11-23 21:37:16,824 : INFO : worker thread finished; awaiting finish of 1 more threads\n",
            "2021-11-23 21:37:16,850 : INFO : worker thread finished; awaiting finish of 0 more threads\n",
            "2021-11-23 21:37:16,851 : INFO : EPOCH - 23 : training on 77231 raw words (63914 effective words) took 0.7s, 90346 effective words/s\n",
            "2021-11-23 21:37:17,466 : INFO : worker thread finished; awaiting finish of 2 more threads\n",
            "2021-11-23 21:37:17,546 : INFO : worker thread finished; awaiting finish of 1 more threads\n",
            "2021-11-23 21:37:17,562 : INFO : worker thread finished; awaiting finish of 0 more threads\n",
            "2021-11-23 21:37:17,565 : INFO : EPOCH - 24 : training on 77231 raw words (64046 effective words) took 0.7s, 91442 effective words/s\n",
            "2021-11-23 21:37:18,255 : INFO : worker thread finished; awaiting finish of 2 more threads\n",
            "2021-11-23 21:37:18,323 : INFO : worker thread finished; awaiting finish of 1 more threads\n",
            "2021-11-23 21:37:18,340 : INFO : worker thread finished; awaiting finish of 0 more threads\n",
            "2021-11-23 21:37:18,341 : INFO : EPOCH - 25 : training on 77231 raw words (64001 effective words) took 0.8s, 83823 effective words/s\n",
            "2021-11-23 21:37:18,984 : INFO : worker thread finished; awaiting finish of 2 more threads\n",
            "2021-11-23 21:37:19,081 : INFO : worker thread finished; awaiting finish of 1 more threads\n",
            "2021-11-23 21:37:19,098 : INFO : worker thread finished; awaiting finish of 0 more threads\n",
            "2021-11-23 21:37:19,099 : INFO : EPOCH - 26 : training on 77231 raw words (64061 effective words) took 0.7s, 86193 effective words/s\n",
            "2021-11-23 21:37:19,750 : INFO : worker thread finished; awaiting finish of 2 more threads\n",
            "2021-11-23 21:37:19,844 : INFO : worker thread finished; awaiting finish of 1 more threads\n",
            "2021-11-23 21:37:19,860 : INFO : worker thread finished; awaiting finish of 0 more threads\n",
            "2021-11-23 21:37:19,862 : INFO : EPOCH - 27 : training on 77231 raw words (64067 effective words) took 0.7s, 85796 effective words/s\n",
            "2021-11-23 21:37:20,490 : INFO : worker thread finished; awaiting finish of 2 more threads\n",
            "2021-11-23 21:37:20,568 : INFO : worker thread finished; awaiting finish of 1 more threads\n",
            "2021-11-23 21:37:20,588 : INFO : worker thread finished; awaiting finish of 0 more threads\n",
            "2021-11-23 21:37:20,590 : INFO : EPOCH - 28 : training on 77231 raw words (64021 effective words) took 0.7s, 89309 effective words/s\n",
            "2021-11-23 21:37:21,239 : INFO : worker thread finished; awaiting finish of 2 more threads\n",
            "2021-11-23 21:37:21,321 : INFO : worker thread finished; awaiting finish of 1 more threads\n",
            "2021-11-23 21:37:21,336 : INFO : worker thread finished; awaiting finish of 0 more threads\n",
            "2021-11-23 21:37:21,338 : INFO : EPOCH - 29 : training on 77231 raw words (64134 effective words) took 0.7s, 87333 effective words/s\n",
            "2021-11-23 21:37:22,004 : INFO : worker thread finished; awaiting finish of 2 more threads\n",
            "2021-11-23 21:37:22,096 : INFO : worker thread finished; awaiting finish of 1 more threads\n",
            "2021-11-23 21:37:22,112 : INFO : worker thread finished; awaiting finish of 0 more threads\n",
            "2021-11-23 21:37:22,114 : INFO : EPOCH - 30 : training on 77231 raw words (64042 effective words) took 0.8s, 84077 effective words/s\n",
            "2021-11-23 21:37:22,785 : INFO : worker thread finished; awaiting finish of 2 more threads\n",
            "2021-11-23 21:37:22,866 : INFO : worker thread finished; awaiting finish of 1 more threads\n",
            "2021-11-23 21:37:22,884 : INFO : worker thread finished; awaiting finish of 0 more threads\n",
            "2021-11-23 21:37:22,885 : INFO : EPOCH - 31 : training on 77231 raw words (64103 effective words) took 0.8s, 84631 effective words/s\n",
            "2021-11-23 21:37:23,546 : INFO : worker thread finished; awaiting finish of 2 more threads\n",
            "2021-11-23 21:37:23,622 : INFO : worker thread finished; awaiting finish of 1 more threads\n",
            "2021-11-23 21:37:23,642 : INFO : worker thread finished; awaiting finish of 0 more threads\n",
            "2021-11-23 21:37:23,644 : INFO : EPOCH - 32 : training on 77231 raw words (63958 effective words) took 0.7s, 86228 effective words/s\n",
            "2021-11-23 21:37:24,239 : INFO : worker thread finished; awaiting finish of 2 more threads\n",
            "2021-11-23 21:37:24,317 : INFO : worker thread finished; awaiting finish of 1 more threads\n",
            "2021-11-23 21:37:24,331 : INFO : worker thread finished; awaiting finish of 0 more threads\n",
            "2021-11-23 21:37:24,333 : INFO : EPOCH - 33 : training on 77231 raw words (64278 effective words) took 0.7s, 95167 effective words/s\n",
            "2021-11-23 21:37:24,983 : INFO : worker thread finished; awaiting finish of 2 more threads\n",
            "2021-11-23 21:37:25,080 : INFO : worker thread finished; awaiting finish of 1 more threads\n",
            "2021-11-23 21:37:25,095 : INFO : worker thread finished; awaiting finish of 0 more threads\n",
            "2021-11-23 21:37:25,096 : INFO : EPOCH - 34 : training on 77231 raw words (63946 effective words) took 0.8s, 85216 effective words/s\n",
            "2021-11-23 21:37:25,728 : INFO : worker thread finished; awaiting finish of 2 more threads\n",
            "2021-11-23 21:37:25,818 : INFO : worker thread finished; awaiting finish of 1 more threads\n",
            "2021-11-23 21:37:25,832 : INFO : worker thread finished; awaiting finish of 0 more threads\n",
            "2021-11-23 21:37:25,833 : INFO : EPOCH - 35 : training on 77231 raw words (64258 effective words) took 0.7s, 88631 effective words/s\n",
            "2021-11-23 21:37:26,456 : INFO : worker thread finished; awaiting finish of 2 more threads\n",
            "2021-11-23 21:37:26,537 : INFO : worker thread finished; awaiting finish of 1 more threads\n",
            "2021-11-23 21:37:26,557 : INFO : worker thread finished; awaiting finish of 0 more threads\n",
            "2021-11-23 21:37:26,559 : INFO : EPOCH - 36 : training on 77231 raw words (64126 effective words) took 0.7s, 90095 effective words/s\n",
            "2021-11-23 21:37:27,185 : INFO : worker thread finished; awaiting finish of 2 more threads\n",
            "2021-11-23 21:37:27,277 : INFO : worker thread finished; awaiting finish of 1 more threads\n",
            "2021-11-23 21:37:27,295 : INFO : worker thread finished; awaiting finish of 0 more threads\n",
            "2021-11-23 21:37:27,296 : INFO : EPOCH - 37 : training on 77231 raw words (63984 effective words) took 0.7s, 88374 effective words/s\n",
            "2021-11-23 21:37:27,899 : INFO : worker thread finished; awaiting finish of 2 more threads\n",
            "2021-11-23 21:37:27,990 : INFO : worker thread finished; awaiting finish of 1 more threads\n",
            "2021-11-23 21:37:28,008 : INFO : worker thread finished; awaiting finish of 0 more threads\n",
            "2021-11-23 21:37:28,010 : INFO : EPOCH - 38 : training on 77231 raw words (64183 effective words) took 0.7s, 91851 effective words/s\n",
            "2021-11-23 21:37:28,658 : INFO : worker thread finished; awaiting finish of 2 more threads\n",
            "2021-11-23 21:37:28,740 : INFO : worker thread finished; awaiting finish of 1 more threads\n",
            "2021-11-23 21:37:28,760 : INFO : worker thread finished; awaiting finish of 0 more threads\n",
            "2021-11-23 21:37:28,761 : INFO : EPOCH - 39 : training on 77231 raw words (63991 effective words) took 0.7s, 86702 effective words/s\n",
            "2021-11-23 21:37:29,412 : INFO : worker thread finished; awaiting finish of 2 more threads\n",
            "2021-11-23 21:37:29,501 : INFO : worker thread finished; awaiting finish of 1 more threads\n",
            "2021-11-23 21:37:29,513 : INFO : worker thread finished; awaiting finish of 0 more threads\n",
            "2021-11-23 21:37:29,514 : INFO : EPOCH - 40 : training on 77231 raw words (63994 effective words) took 0.7s, 86530 effective words/s\n",
            "2021-11-23 21:37:29,517 : INFO : Doc2Vec lifecycle event {'msg': 'training on 3089240 raw words (2562566 effective words) took 29.9s, 85602 effective words/s', 'datetime': '2021-11-23T21:37:29.517760', 'gensim': '4.1.2', 'python': '3.7.12 (default, Sep 10 2021, 00:21:48) \\n[GCC 7.5.0]', 'platform': 'Linux-5.4.104+-x86_64-with-Ubuntu-18.04-bionic', 'event': 'train'}\n",
            "2021-11-23 21:37:29,519 : INFO : Doc2Vec lifecycle event {'params': 'Doc2Vec(dm/m,d100,n10,w4,s0.001,t3)', 'datetime': '2021-11-23T21:37:29.519396', 'gensim': '4.1.2', 'python': '3.7.12 (default, Sep 10 2021, 00:21:48) \\n[GCC 7.5.0]', 'platform': 'Linux-5.4.104+-x86_64-with-Ubuntu-18.04-bionic', 'event': 'created'}\n"
          ]
        }
      ]
    },
    {
      "cell_type": "code",
      "metadata": {
        "colab": {
          "base_uri": "https://localhost:8080/"
        },
        "id": "G-cE7gug1Ct5",
        "outputId": "e90f65e1-0e4f-48b0-8953-6d4e829a6ba7"
      },
      "source": [
        "if use_wandb:\n",
        "  model_artifact = wandb.Artifact(\n",
        "      \"trained-model\", \n",
        "      type=\"model\",\n",
        "      description=\"Doc2Vec model\",\n",
        "      metadata=\"\")\n",
        "\n",
        "  fname = 'doc2vec.model'\n",
        "  model.save(fname)\n",
        "\n",
        "  model_artifact.add_file(fname)\n",
        "  wandb.log_artifact(model_artifact)"
      ],
      "execution_count": 80,
      "outputs": [
        {
          "output_type": "stream",
          "name": "stderr",
          "text": [
            "2021-11-23 21:37:29,538 : INFO : Doc2Vec lifecycle event {'fname_or_handle': 'doc2vec.model', 'separately': 'None', 'sep_limit': 10485760, 'ignore': frozenset(), 'datetime': '2021-11-23T21:37:29.538793', 'gensim': '4.1.2', 'python': '3.7.12 (default, Sep 10 2021, 00:21:48) \\n[GCC 7.5.0]', 'platform': 'Linux-5.4.104+-x86_64-with-Ubuntu-18.04-bionic', 'event': 'saving'}\n",
            "2021-11-23 21:37:29,542 : INFO : not storing attribute cum_table\n",
            "2021-11-23 21:37:29,560 : INFO : saved doc2vec.model\n"
          ]
        }
      ]
    },
    {
      "cell_type": "markdown",
      "metadata": {
        "id": "jJvq2K93xAO5"
      },
      "source": [
        "### Test the distance between C and the diatonic chords\n",
        "\n",
        "Test if the model can capture that the diatonic chords are closer to the root.\n",
        "\n",
        "Do this only if the input corpus contains the unigrams. "
      ]
    },
    {
      "cell_type": "code",
      "metadata": {
        "id": "cH3TJxCfvoFm"
      },
      "source": [
        "test_tokens = ['C',\n",
        "              'Dm',\n",
        "              'Em',\n",
        "              'F',\n",
        "              'G7',\n",
        "              'Am',\n",
        "              'Bm7b5',\n",
        "              'F7',\n",
        "              'D7',\n",
        "              'A7',\n",
        "              'E7',\n",
        "              'B7',\n",
        "              'F#7',\n",
        "               'Cm',\n",
        "               'D']\n",
        "\n",
        "if 1 in ngrams_for_input:\n",
        "  ref = 'C'\n",
        "  for t in test_tokens:\n",
        "    print(f\"{model.wv.similarity(ref, t):.3f}: {ref} <-> {t}\")"
      ],
      "execution_count": 81,
      "outputs": []
    },
    {
      "cell_type": "code",
      "metadata": {
        "id": "IfIRoWL4kpcB"
      },
      "source": [
        "if 1 in ngrams_for_input:\n",
        "  model.wv.similar_by_word('C', topn=20)"
      ],
      "execution_count": 82,
      "outputs": []
    },
    {
      "cell_type": "markdown",
      "metadata": {
        "id": "ix4n9S3_xQzD"
      },
      "source": [
        "Plot the generated word vectors in 2D space"
      ]
    },
    {
      "cell_type": "code",
      "metadata": {
        "id": "JjT_uNh0wthj"
      },
      "source": [
        "from sklearn.manifold import TSNE\n",
        "\n",
        "# input data: vectors for all tokens\n",
        "weights = model.wv.vectors\n",
        "\n",
        "# only do this when the vocabulary is not too big....\n",
        "if len(weights) < 100:\n",
        "\n",
        "  # do T-SNE\n",
        "  tsne = TSNE(n_components=2, \n",
        "              random_state=42,\n",
        "              perplexity=30,\n",
        "              learning_rate='auto',\n",
        "              init='pca',\n",
        "              n_iter=2000\n",
        "              )\n",
        "  T = tsne.fit_transform(weights)\n",
        "\n",
        "  # plot\n",
        "  projected = pd.DataFrame(T)\n",
        "\n",
        "  fig = px.scatter(\n",
        "      projected, \n",
        "      x=0, y=1,\n",
        "      #color='mode',\n",
        "      text=model.wv.index_to_key,\n",
        "      width=800, height=600,\n",
        "      title=\"T-SNE applied to Chord Vectors for Tunes in Cmaj/Amin\"\n",
        "  )\n",
        "  fig.update_traces(textposition='top center')\n",
        "  fig.update_traces(textfont_size=12, selector=dict(type='scatter'))\n",
        "  fig.show()"
      ],
      "execution_count": 83,
      "outputs": []
    },
    {
      "cell_type": "markdown",
      "metadata": {
        "id": "ajqb904KDwNV"
      },
      "source": [
        "## Section Similarity\n"
      ]
    },
    {
      "cell_type": "markdown",
      "metadata": {
        "id": "HS_k1g6ujjKP"
      },
      "source": [
        "### Single Tunes"
      ]
    },
    {
      "cell_type": "code",
      "metadata": {
        "id": "mPnEPL_k4TZn"
      },
      "source": [
        "def get_section_scores_doc2vec(tunes):\n",
        "\n",
        "    df_sim = pd.DataFrame(columns=['reference_title',\n",
        "                                  'similar_title',\n",
        "                                  'ref_section', \n",
        "                                  'similar_section', \n",
        "                                  'score', \n",
        "                                  ])\n",
        "\n",
        "    for tune in tunes:\n",
        "      print()\n",
        "      print(\"-\"*50)\n",
        "      for s1 in title_to_sectionid[tune]:\n",
        "      \n",
        "          # sections are tagged with the numeric sectionid and can be used for querying\n",
        "          sims = model.dv.similar_by_key(s1, topn=40)\n",
        "          \n",
        "          print(s1, sectionid_to_section[s1])\n",
        "          n = 0\n",
        "          for s2, s2_score in sims:\n",
        "              if type(s2) == int:  # only consider similarities to sectionids; tuneids are strings\n",
        "                  # don't count self-similarity between sections of the same tune\n",
        "                  if s2 not in title_to_sectionid[tune]:\n",
        "                      n += 1\n",
        "                  \n",
        "                      # print(f\"\\t{s2_score:.3f} {sectionid_to_section[s2]}\")\n",
        "\n",
        "                      df_sim.loc[len(df_sim)] = [tune,\n",
        "                                      sectionid_to_title[s2],\n",
        "                                      sectionid_to_section[s1], \n",
        "                                      sectionid_to_section[s2], \n",
        "                                      s2_score, \n",
        "                                      ]\n",
        "    return df_sim"
      ],
      "execution_count": 84,
      "outputs": []
    },
    {
      "cell_type": "code",
      "metadata": {
        "colab": {
          "base_uri": "https://localhost:8080/"
        },
        "id": "i_d92il649O9",
        "outputId": "4e094f7e-2bfd-4882-fe8d-1392b35760a0"
      },
      "source": [
        "df_section_sim = get_section_scores_doc2vec(tunes_eval_list)\n",
        "df_word2vec = df_section_sim[:]"
      ],
      "execution_count": 85,
      "outputs": [
        {
          "output_type": "stream",
          "name": "stdout",
          "text": [
            "\n",
            "--------------------------------------------------\n",
            "125 After You've Gone, section1 (A)\n",
            "126 After You've Gone, section2 (B)\n",
            "127 After You've Gone, section3 (A)\n",
            "128 After You've Gone, section4 (C)\n",
            "\n",
            "--------------------------------------------------\n",
            "188 All God's Chillun Got Rhythm, section1 (A)\n",
            "189 All God's Chillun Got Rhythm, section2 (B)\n",
            "190 All God's Chillun Got Rhythm, section3 (A)\n",
            "191 All God's Chillun Got Rhythm, section4 (C)\n",
            "\n",
            "--------------------------------------------------\n",
            "198 All Of Me, section1 (A)\n",
            "199 All Of Me, section2 (B)\n",
            "200 All Of Me, section3 (A)\n",
            "201 All Of Me, section4 (C)\n",
            "\n",
            "--------------------------------------------------\n",
            "474 Blood Count, section1 (A)\n",
            "475 Blood Count, section2 (A)\n",
            "476 Blood Count, section3 (B)\n",
            "477 Blood Count, section4 (A)\n",
            "478 Blood Count, section5 (C)\n",
            "\n",
            "--------------------------------------------------\n",
            "496 Blue Moon, section1 (A)\n",
            "497 Blue Moon, section2 (A)\n",
            "498 Blue Moon, section3 (B)\n",
            "499 Blue Moon, section4 (A)\n",
            "\n",
            "--------------------------------------------------\n",
            "626 But Beautiful, section1 (A)\n",
            "627 But Beautiful, section2 (B)\n",
            "628 But Beautiful, section3 (A)\n",
            "629 But Beautiful, section4 (C)\n",
            "\n",
            "--------------------------------------------------\n",
            "653 Bye Bye Blackbird, section1 (A)\n",
            "654 Bye Bye Blackbird, section2 (B)\n",
            "4559 Bye Bye Blackbird, section1 (A)\n",
            "\n",
            "--------------------------------------------------\n",
            "676 Call Me Irresponsible, section1 (A)\n",
            "677 Call Me Irresponsible, section2 (B)\n",
            "678 Call Me Irresponsible, section3 (A)\n",
            "679 Call Me Irresponsible, section4 (B)\n",
            "\n",
            "--------------------------------------------------\n",
            "826 Corcovado, section1 (A)\n",
            "827 Corcovado, section2 (B)\n",
            "828 Corcovado, section3 (A)\n",
            "829 Corcovado, section4 (C)\n",
            "\n",
            "--------------------------------------------------\n",
            "997 Dinah, section1 (A)\n",
            "998 Dinah, section2 (A)\n",
            "999 Dinah, section3 (B)\n",
            "1000 Dinah, section4 (A)\n",
            "\n",
            "--------------------------------------------------\n",
            "1125 East Of The Sun, section1 (A)\n",
            "1126 East Of The Sun, section2 (B)\n",
            "1127 East Of The Sun, section3 (A)\n",
            "1128 East Of The Sun, section4 (C)\n",
            "\n",
            "--------------------------------------------------\n",
            "1287 Footprints, section0 (nan)\n",
            "\n",
            "--------------------------------------------------\n",
            "1379 Giant Steps, section0 (nan)\n",
            "\n",
            "--------------------------------------------------\n",
            "1538 Honeysuckle Rose, section1 (A)\n",
            "1539 Honeysuckle Rose, section2 (A)\n",
            "1540 Honeysuckle Rose, section3 (B)\n",
            "1541 Honeysuckle Rose, section4 (A)\n",
            "4781 Honeysuckle Rose, section1 (A)\n",
            "4782 Honeysuckle Rose, section2 (A)\n",
            "4783 Honeysuckle Rose, section3 (B)\n",
            "4784 Honeysuckle Rose, section4 (A)\n",
            "\n",
            "--------------------------------------------------\n",
            "1647 I Got Rhythm, section1 (A)\n",
            "1648 I Got Rhythm, section2 (A)\n",
            "1649 I Got Rhythm, section3 (B)\n",
            "1650 I Got Rhythm, section4 (A)\n",
            "4809 I Got Rhythm, section1 (A)\n",
            "4810 I Got Rhythm, section2 (A)\n",
            "4811 I Got Rhythm, section3 (B)\n",
            "4812 I Got Rhythm, section4 (A)\n",
            "\n",
            "--------------------------------------------------\n",
            "2670 Misty, section1 (A)\n",
            "2671 Misty, section2 (A)\n",
            "2672 Misty, section3 (B)\n",
            "2673 Misty, section4 (A)\n",
            "\n",
            "--------------------------------------------------\n",
            "2857 Naima, section1 (A)\n",
            "2858 Naima, section2 (A)\n",
            "2859 Naima, section3 (B)\n",
            "2860 Naima, section4 (A)\n",
            "\n",
            "--------------------------------------------------\n",
            "5044 Old Fashioned Love, section0 (nan)\n",
            "\n",
            "--------------------------------------------------\n",
            "3142 Perdido, section1 (A)\n",
            "3143 Perdido, section2 (A)\n",
            "3144 Perdido, section3 (B)\n",
            "3145 Perdido, section4 (A)\n",
            "\n",
            "--------------------------------------------------\n",
            "3276 Rockin' Chair, section1 (A)\n",
            "3277 Rockin' Chair, section2 (B)\n",
            "3278 Rockin' Chair, section3 (A)\n",
            "5110 Rockin' Chair, section1 (A)\n",
            "5111 Rockin' Chair, section2 (B)\n",
            "5112 Rockin' Chair, section3 (A)\n",
            "\n",
            "--------------------------------------------------\n",
            "3578 Sophisticated Lady, section1 (A)\n",
            "3579 Sophisticated Lady, section2 (A)\n",
            "3580 Sophisticated Lady, section3 (B)\n",
            "3581 Sophisticated Lady, section4 (A)\n",
            "\n",
            "--------------------------------------------------\n",
            "3746 Sweet Sue, Just You, section1 (A)\n",
            "3747 Sweet Sue, Just You, section2 (A)\n",
            "3748 Sweet Sue, Just You, section3 (B)\n",
            "3749 Sweet Sue, Just You, section4 (A)\n",
            "\n",
            "--------------------------------------------------\n",
            "3860 These Foolish Things, section1 (A)\n",
            "3861 These Foolish Things, section2 (A)\n",
            "3862 These Foolish Things, section3 (B)\n",
            "3863 These Foolish Things, section4 (A)\n",
            "\n",
            "--------------------------------------------------\n",
            "4146 We'll Be Together Again, section1 (A)\n",
            "4147 We'll Be Together Again, section2 (A)\n",
            "4148 We'll Be Together Again, section3 (B)\n",
            "4149 We'll Be Together Again, section4 (A)\n"
          ]
        }
      ]
    },
    {
      "cell_type": "code",
      "metadata": {
        "colab": {
          "base_uri": "https://localhost:8080/",
          "height": 542
        },
        "id": "n4dv7VVe5NT4",
        "outputId": "768e9d31-3e01-4bda-8194-8096dc5c6ecb"
      },
      "source": [
        "import plotly.express as px\n",
        "fig = px.histogram(df_section_sim, x=\"score\", nbins=50, title='doc2vec sections')\n",
        "fig.show()"
      ],
      "execution_count": 86,
      "outputs": [
        {
          "output_type": "display_data",
          "data": {
            "text/html": [
              "<html>\n",
              "<head><meta charset=\"utf-8\" /></head>\n",
              "<body>\n",
              "    <div>\n",
              "            <script src=\"https://cdnjs.cloudflare.com/ajax/libs/mathjax/2.7.5/MathJax.js?config=TeX-AMS-MML_SVG\"></script><script type=\"text/javascript\">if (window.MathJax) {MathJax.Hub.Config({SVG: {font: \"STIX-Web\"}});}</script>\n",
              "                <script type=\"text/javascript\">window.PlotlyConfig = {MathJaxConfig: 'local'};</script>\n",
              "        <script src=\"https://cdn.plot.ly/plotly-latest.min.js\"></script>    \n",
              "            <div id=\"d781efd3-f5a3-4ff8-8ccb-0659e55aecc1\" class=\"plotly-graph-div\" style=\"height:525px; width:100%;\"></div>\n",
              "            <script type=\"text/javascript\">\n",
              "                \n",
              "                    window.PLOTLYENV=window.PLOTLYENV || {};\n",
              "                    \n",
              "                if (document.getElementById(\"d781efd3-f5a3-4ff8-8ccb-0659e55aecc1\")) {\n",
              "                    Plotly.newPlot(\n",
              "                        'd781efd3-f5a3-4ff8-8ccb-0659e55aecc1',\n",
              "                        [{\"alignmentgroup\": \"True\", \"bingroup\": \"x\", \"hoverlabel\": {\"namelength\": 0}, \"hovertemplate\": \"score=%{x}<br>count=%{y}\", \"legendgroup\": \"\", \"marker\": {\"color\": \"#636efa\"}, \"name\": \"\", \"nbinsx\": 50, \"offsetgroup\": \"\", \"orientation\": \"v\", \"showlegend\": false, \"type\": \"histogram\", \"x\": [0.9184277057647705, 0.9151199460029602, 0.9130927920341492, 0.9075398445129395, 0.8999308347702026, 0.8991357088088989, 0.8975620269775391, 0.8950685262680054, 0.8947564363479614, 0.8937191963195801, 0.8929853439331055, 0.8917694091796875, 0.8913397192955017, 0.8912508487701416, 0.89021897315979, 0.8893020153045654, 0.8884513974189758, 0.8873893618583679, 0.8865117430686951, 0.8863344192504883, 0.8862850666046143, 0.885854184627533, 0.8841429948806763, 0.8830734491348267, 0.8829841613769531, 0.882756233215332, 0.8816623687744141, 0.8809311985969543, 0.8807426691055298, 0.8798998594284058, 0.879741907119751, 0.8793114423751831, 0.879239022731781, 0.7566019892692566, 0.6818269491195679, 0.6595168709754944, 0.6496128439903259, 0.6471595764160156, 0.6421578526496887, 0.640069305896759, 0.6233106851577759, 0.6223914623260498, 0.6056559681892395, 0.6007779240608215, 0.5972384810447693, 0.5972334146499634, 0.5962018966674805, 0.5945634841918945, 0.585142195224762, 0.5729646682739258, 0.5677302479743958, 0.5597924590110779, 0.5589587092399597, 0.5499315857887268, 0.5494664907455444, 0.549322247505188, 0.5457935333251953, 0.5421736240386963, 0.5382066965103149, 0.532189667224884, 0.5281292796134949, 0.5269002914428711, 0.5244057178497314, 0.5147078037261963, 0.5091314315795898, 0.5072489380836487, 0.5029361844062805, 0.5000275373458862, 0.4951496422290802, 0.49437087774276733, 0.49216780066490173, 0.4917292594909668, 0.4885696470737457, 0.9035755395889282, 0.8999758362770081, 0.8934592008590698, 0.8903276324272156, 0.8876429200172424, 0.886076033115387, 0.884414792060852, 0.8842591643333435, 0.8841996192932129, 0.8841817378997803, 0.8802228569984436, 0.8772876858711243, 0.8769285082817078, 0.8759262561798096, 0.8748387694358826, 0.873936653137207, 0.8736491203308105, 0.8721919655799866, 0.8709233403205872, 0.8700411915779114, 0.8690628409385681, 0.8667579889297485, 0.8659490942955017, 0.8658487200737, 0.8655565977096558, 0.8653472661972046, 0.8641660809516907, 0.863745927810669, 0.8632265329360962, 0.8626589775085449, 0.8618966937065125, 0.8615866899490356, 0.6105425953865051, 0.5721216797828674, 0.5269541144371033, 0.5254743695259094, 0.5253443121910095, 0.5126243829727173, 0.4814138412475586, 0.4758281111717224, 0.4742177128791809, 0.4719770550727844, 0.4674283266067505, 0.46684613823890686, 0.462963342666626, 0.4623023271560669, 0.45666730403900146, 0.45641934871673584, 0.45215079188346863, 0.4516936242580414, 0.4513908326625824, 0.4503457546234131, 0.44338399171829224, 0.43931588530540466, 0.438513845205307, 0.43724748492240906, 0.433974951505661, 0.4335225522518158, 0.4276186525821686, 0.4275379776954651, 0.4272487759590149, 0.426516056060791, 0.42309173941612244, 0.8579282164573669, 0.8530214428901672, 0.8504086136817932, 0.8422015905380249, 0.8358842134475708, 0.8260732889175415, 0.8222000598907471, 0.8114588856697083, 0.8055341243743896, 0.8050693273544312, 0.8031883239746094, 0.8030733466148376, 0.7976129651069641, 0.7910242676734924, 0.7843974232673645, 0.7834594249725342, 0.7831100821495056, 0.7816035747528076, 0.7808613181114197, 0.7808597087860107, 0.7758896946907043, 0.7727870345115662, 0.7727231383323669, 0.7661463618278503, 0.7651980519294739, 0.7640658617019653, 0.7607875466346741, 0.6456314921379089, 0.640907347202301, 0.636188805103302, 0.6360452175140381, 0.6259300112724304, 0.6213356256484985, 0.6081536412239075, 0.597291886806488, 0.596393883228302, 0.5952720642089844, 0.593544065952301, 0.5912376046180725, 0.5840880274772644, 0.578312873840332, 0.5781844854354858, 0.5768893957138062, 0.5717159509658813, 0.562662661075592, 0.5625119209289551, 0.5587834119796753, 0.5574672818183899, 0.55635005235672, 0.5545652508735657, 0.5518738031387329, 0.5469583868980408, 0.5369110107421875, 0.5362269282341003, 0.5283515453338623, 0.5254409313201904, 0.524190366268158, 0.8287303447723389, 0.819055438041687, 0.8070465922355652, 0.7965267300605774, 0.7927656173706055, 0.7862774133682251, 0.7858641743659973, 0.7740539908409119, 0.7739193439483643, 0.7709775567054749, 0.7687655091285706, 0.7677370309829712, 0.7610598802566528, 0.759028971195221, 0.753932774066925, 0.7534240484237671, 0.7510016560554504, 0.7497543692588806, 0.7496078014373779, 0.7475684285163879, 0.7474760413169861, 0.7446666359901428, 0.7435782551765442, 0.7409093379974365, 0.7325748801231384, 0.7291509509086609, 0.7291257381439209, 0.8284119963645935, 0.8112457990646362, 0.8025869131088257, 0.7883044481277466, 0.786187469959259, 0.7847345471382141, 0.7817961573600769, 0.7760188579559326, 0.7752904295921326, 0.765835702419281, 0.7626444101333618, 0.7594446539878845, 0.7576586604118347, 0.7522607445716858, 0.7453262805938721, 0.7447388172149658, 0.7446004152297974, 0.743696391582489, 0.7431291341781616, 0.7422226667404175, 0.7388696074485779, 0.7385540008544922, 0.7307544946670532, 0.730587363243103, 0.7301118969917297, 0.7274032235145569, 0.7269874811172485, 0.7265236377716064, 0.7254155278205872, 0.7195618152618408, 0.717285692691803, 0.7164751291275024, 0.7157354354858398, 0.7147764563560486, 0.7122491598129272, 0.7105023264884949, 0.7102785706520081, 0.8514621257781982, 0.7986739277839661, 0.7732099890708923, 0.7678489685058594, 0.7633534073829651, 0.7537979483604431, 0.7537238001823425, 0.7468505501747131, 0.7431257367134094, 0.7372487187385559, 0.7337452173233032, 0.7313137650489807, 0.7283641695976257, 0.721360445022583, 0.7195556163787842, 0.7168363332748413, 0.7124843597412109, 0.7123867869377136, 0.7108466625213623, 0.7103828191757202, 0.7094089984893799, 0.7040311098098755, 0.703745424747467, 0.7022616267204285, 0.7017109394073486, 0.6963371634483337, 0.8772451877593994, 0.8478091359138489, 0.7062435150146484, 0.704645574092865, 0.6989630460739136, 0.697476863861084, 0.6859492063522339, 0.67900550365448, 0.6713043451309204, 0.6535269021987915, 0.6422292590141296, 0.6384581923484802, 0.6372107863426208, 0.6290080547332764, 0.6284322142601013, 0.6269934177398682, 0.6239544749259949, 0.6198719143867493, 0.6151424050331116, 0.6102237105369568, 0.6075019240379333, 0.6019916534423828, 0.5985444188117981, 0.5982500910758972, 0.5968520045280457, 0.5963592529296875, 0.5894591808319092, 0.5886223316192627, 0.5763647556304932, 0.5757609605789185, 0.5754802823066711, 0.5745416283607483, 0.5701393485069275, 0.5688707828521729, 0.5638246536254883, 0.5633808970451355, 0.559814989566803, 0.5504505038261414, 0.8808979392051697, 0.821657657623291, 0.8186918497085571, 0.8084084987640381, 0.8080462217330933, 0.8044176697731018, 0.8019542098045349, 0.7956125140190125, 0.7921489477157593, 0.7916364073753357, 0.788524866104126, 0.7854588627815247, 0.7780088782310486, 0.7757533192634583, 0.7740215063095093, 0.7738505601882935, 0.7716895937919617, 0.770758867263794, 0.7681586146354675, 0.7656506896018982, 0.7637900710105896, 0.7591959238052368, 0.7586446404457092, 0.7567757368087769, 0.7560427784919739, 0.7547934651374817, 0.7527204751968384, 0.8776149749755859, 0.8746388554573059, 0.8738266229629517, 0.8726658225059509, 0.8605270385742188, 0.8597629070281982, 0.8585457801818848, 0.8575239181518555, 0.857099175453186, 0.857069194316864, 0.8566995859146118, 0.8557049632072449, 0.854716956615448, 0.8532739877700806, 0.8509966135025024, 0.8498338460922241, 0.8496928215026855, 0.849431037902832, 0.8493006229400635, 0.8477026224136353, 0.8476614952087402, 0.8464176654815674, 0.8463319540023804, 0.8462974429130554, 0.8462256193161011, 0.8455032706260681, 0.8441339135169983, 0.8436824679374695, 0.8434906005859375, 0.8434752821922302, 0.8432421684265137, 0.8422708511352539, 0.7251390218734741, 0.674879789352417, 0.6614655256271362, 0.6586630344390869, 0.6466483473777771, 0.6438401937484741, 0.6371988654136658, 0.627657949924469, 0.6269809603691101, 0.6251291036605835, 0.6207506060600281, 0.6197294592857361, 0.6165935397148132, 0.6156375408172607, 0.6085729598999023, 0.6048723459243774, 0.5999236106872559, 0.5998991131782532, 0.5914631485939026, 0.589970052242279, 0.5867910385131836, 0.5857489109039307, 0.5857332944869995, 0.5842393040657043, 0.5836723446846008, 0.581459641456604, 0.5811017751693726, 0.5797306299209595, 0.5782749056816101, 0.7055147886276245, 0.6719825267791748, 0.6403080821037292, 0.6384629011154175, 0.6379107236862183, 0.6372748613357544, 0.6306865811347961, 0.6196839213371277, 0.6136945486068726, 0.6103177070617676, 0.5868245959281921, 0.5812517404556274, 0.578427255153656, 0.5784096717834473, 0.5768238306045532, 0.5732861757278442, 0.5671159029006958, 0.566376805305481, 0.5651666522026062, 0.5620744824409485, 0.558232307434082, 0.5504339337348938, 0.5485334396362305, 0.5434214472770691, 0.5392798781394958, 0.5368385910987854, 0.5356303453445435, 0.5322912335395813, 0.5308324694633484, 0.5287691354751587, 0.5260236263275146, 0.5245398283004761, 0.5230062007904053, 0.8994373083114624, 0.8844878673553467, 0.8721729516983032, 0.8681696057319641, 0.8664641976356506, 0.866430938243866, 0.8646713495254517, 0.8623859882354736, 0.8610998392105103, 0.8608055114746094, 0.8603678941726685, 0.8590893745422363, 0.8552245497703552, 0.8538138270378113, 0.8534201383590698, 0.8484904766082764, 0.8472929000854492, 0.8465043306350708, 0.8430567979812622, 0.8402402997016907, 0.8391122817993164, 0.8378506302833557, 0.836977481842041, 0.8337002396583557, 0.8329864740371704, 0.8324537873268127, 0.8322963714599609, 0.8322145342826843, 0.8317210674285889, 0.8311675786972046, 0.8307912945747375, 0.8300855755805969, 0.702917754650116, 0.6649609208106995, 0.655480682849884, 0.6479605436325073, 0.6470550298690796, 0.6437047719955444, 0.6403470039367676, 0.6389445662498474, 0.6350197792053223, 0.6284437775611877, 0.6211047768592834, 0.6154215931892395, 0.6083304286003113, 0.6077041625976562, 0.588269054889679, 0.5771779417991638, 0.5761449337005615, 0.5745688676834106, 0.5728049874305725, 0.5696302652359009, 0.5694941878318787, 0.5669003129005432, 0.5606648921966553, 0.5487759113311768, 0.544609546661377, 0.5435032844543457, 0.5423713326454163, 0.5404554009437561, 0.5358035564422607, 0.5314064621925354, 0.5307846665382385, 0.783490777015686, 0.7491409778594971, 0.739392876625061, 0.7390949726104736, 0.737034022808075, 0.736814558506012, 0.7336865663528442, 0.732633113861084, 0.7304647564888, 0.7282974720001221, 0.7273702025413513, 0.7271732091903687, 0.7254141569137573, 0.7238330841064453, 0.7237739562988281, 0.7229519486427307, 0.7206738591194153, 0.7199700474739075, 0.7182888388633728, 0.7169838547706604, 0.7157320380210876, 0.7154273986816406, 0.7151097059249878, 0.7149102091789246, 0.7144562602043152, 0.7140013575553894, 0.7138713598251343, 0.7128629088401794, 0.8896222710609436, 0.8742425441741943, 0.8589845299720764, 0.8526206016540527, 0.8524442315101624, 0.8467007279396057, 0.8401046991348267, 0.8267267942428589, 0.8250112533569336, 0.8215019702911377, 0.8189492225646973, 0.817338764667511, 0.8167616128921509, 0.8107134103775024, 0.810228168964386, 0.8083656430244446, 0.8063263893127441, 0.8062108755111694, 0.8057892322540283, 0.8056220412254333, 0.8044089078903198, 0.8013113141059875, 0.7976130247116089, 0.7960609197616577, 0.7951087355613708, 0.79457026720047, 0.7937099933624268, 0.7906398773193359, 0.7860272526741028, 0.9051614999771118, 0.8749595880508423, 0.8530213832855225, 0.8344811201095581, 0.8274865746498108, 0.8204455375671387, 0.8200005888938904, 0.8179744482040405, 0.8167271018028259, 0.8162815570831299, 0.8153471946716309, 0.8121781349182129, 0.8113428354263306, 0.811037540435791, 0.8109830021858215, 0.808942437171936, 0.8081865310668945, 0.8076563477516174, 0.8042781352996826, 0.8025412559509277, 0.8024440407752991, 0.8017489910125732, 0.8016232848167419, 0.8010911345481873, 0.8001839518547058, 0.7996460795402527, 0.7990065813064575, 0.798784077167511, 0.7983288764953613, 0.7962226867675781, 0.7958651185035706, 0.7954110503196716, 0.5063803791999817, 0.5052990913391113, 0.5009298920631409, 0.49487313628196716, 0.46319395303726196, 0.45741987228393555, 0.4565909504890442, 0.4475550651550293, 0.4375821053981781, 0.4303130805492401, 0.42652592062950134, 0.4112154245376587, 0.4059375524520874, 0.40476173162460327, 0.4030739963054657, 0.397472083568573, 0.39608436822891235, 0.39324676990509033, 0.3927089273929596, 0.39012226462364197, 0.38344335556030273, 0.3824445605278015, 0.3811326324939728, 0.36476173996925354, 0.36427539587020874, 0.3603566288948059, 0.358917772769928, 0.3544067144393921, 0.351655513048172, 0.3515892028808594, 0.3453112542629242, 0.34381550550460815, 0.34091323614120483, 0.3408702611923218, 0.33827558159828186, 0.3378191292285919, 0.3370310664176941, 0.3361521363258362, 0.3349122703075409, 0.8876739740371704, 0.8652527928352356, 0.8540344834327698, 0.8537719249725342, 0.8344855308532715, 0.8320773839950562, 0.8303154110908508, 0.8301284313201904, 0.8297443985939026, 0.8159059882164001, 0.8064776062965393, 0.803948700428009, 0.8011428117752075, 0.7982380986213684, 0.7960595488548279, 0.7948289513587952, 0.7917835712432861, 0.7910241484642029, 0.7877949476242065, 0.7864450216293335, 0.7862772345542908, 0.7842786312103271, 0.78120356798172, 0.7804021239280701, 0.7801387310028076, 0.7781223654747009, 0.7761610150337219, 0.8230587244033813, 0.8187021613121033, 0.8061696290969849, 0.7974578142166138, 0.7973586320877075, 0.7951028347015381, 0.7926638126373291, 0.7924941778182983, 0.7869611978530884, 0.7847508788108826, 0.7835578918457031, 0.7833490967750549, 0.7797289490699768, 0.7784239649772644, 0.7722358703613281, 0.7718357443809509, 0.7706993818283081, 0.7661997675895691, 0.7660598158836365, 0.7657882571220398, 0.7657549381256104, 0.7610240578651428, 0.8261622190475464, 0.8167805075645447, 0.811296820640564, 0.7674945592880249, 0.7663881182670593, 0.7619128823280334, 0.7608659267425537, 0.7571299076080322, 0.7540677785873413, 0.7520185112953186, 0.7516835331916809, 0.7455118298530579, 0.7428185939788818, 0.7312859892845154, 0.7274163961410522, 0.7266709208488464, 0.7248739004135132, 0.7227312326431274, 0.719992995262146, 0.7179872989654541, 0.7171981334686279, 0.714212954044342, 0.7132850885391235, 0.7099906802177429, 0.7065639495849609, 0.7030062675476074, 0.7017175555229187, 0.6986185908317566, 0.6971226334571838, 0.6951239109039307, 0.6951056718826294, 0.6945338249206543, 0.6913710832595825, 0.8331520557403564, 0.8243257403373718, 0.8186352252960205, 0.81239253282547, 0.796299934387207, 0.795849621295929, 0.7954064011573792, 0.7946476340293884, 0.7878879904747009, 0.7873089909553528, 0.7854703664779663, 0.7844749689102173, 0.7776713967323303, 0.7761775255203247, 0.7748778462409973, 0.773491382598877, 0.7729471325874329, 0.7698297500610352, 0.7614541053771973, 0.7613906264305115, 0.7601069211959839, 0.758217453956604, 0.7581384778022766, 0.7561535835266113, 0.5396285653114319, 0.5027893781661987, 0.48531368374824524, 0.460984468460083, 0.4599808156490326, 0.44740819931030273, 0.4472070336341858, 0.4411240518093109, 0.4320455491542816, 0.4275379776954651, 0.4226977527141571, 0.4188879132270813, 0.4109419584274292, 0.4060375690460205, 0.40469688177108765, 0.4029267430305481, 0.39539292454719543, 0.39433199167251587, 0.39244648814201355, 0.3852517902851105, 0.382860004901886, 0.3766985535621643, 0.3750360310077667, 0.3741735816001892, 0.36884939670562744, 0.368233323097229, 0.3682006895542145, 0.3660570979118347, 0.3653683662414551, 0.36292633414268494, 0.35615068674087524, 0.3543560206890106, 0.35410255193710327, 0.35390961170196533, 0.3538497984409332, 0.35227614641189575, 0.35060954093933105, 0.3482242226600647, 0.3472084701061249, 0.341665655374527, 0.8029378652572632, 0.7963192462921143, 0.7862148880958557, 0.7853465676307678, 0.7824174761772156, 0.7792046070098877, 0.75603187084198, 0.7518326044082642, 0.7501720190048218, 0.7478595972061157, 0.7471514940261841, 0.7387983202934265, 0.7382015585899353, 0.7356403470039368, 0.7307456135749817, 0.7305886745452881, 0.7305466532707214, 0.727603018283844, 0.7274300456047058, 0.7208558320999146, 0.7200503349304199, 0.717812180519104, 0.7170494198799133, 0.716677725315094, 0.714634895324707, 0.7145945429801941, 0.7125694155693054, 0.8278287053108215, 0.825202226638794, 0.8172134757041931, 0.8100778460502625, 0.8100066184997559, 0.8087664246559143, 0.8025108575820923, 0.7977883219718933, 0.7974911332130432, 0.7973964214324951, 0.7916638255119324, 0.7906516790390015, 0.7884345650672913, 0.7833552956581116, 0.7794424891471863, 0.7778858542442322, 0.7727378010749817, 0.7634308338165283, 0.7607817649841309, 0.7602855563163757, 0.7590401768684387, 0.7548925876617432, 0.7496557235717773, 0.7490984797477722, 0.7428463101387024, 0.7410018444061279, 0.7400386333465576, 0.7396823763847351, 0.8463448882102966, 0.8416228890419006, 0.8409021496772766, 0.8382238745689392, 0.8381279110908508, 0.8366381525993347, 0.8333477973937988, 0.8306419253349304, 0.8296599984169006, 0.8289840221405029, 0.8272984027862549, 0.8267479538917542, 0.8253353834152222, 0.8235903382301331, 0.8230494260787964, 0.8227700591087341, 0.8216274976730347, 0.8210722208023071, 0.8208356499671936, 0.8202545046806335, 0.8201463222503662, 0.8194125890731812, 0.8192894458770752, 0.8188202381134033, 0.8184030055999756, 0.8183555603027344, 0.8182727098464966, 0.8180280327796936, 0.8173752427101135, 0.816318690776825, 0.7910637855529785, 0.7449331283569336, 0.7228395342826843, 0.710331916809082, 0.7078588008880615, 0.702751636505127, 0.7019532322883606, 0.6960355043411255, 0.6940275430679321, 0.6915649771690369, 0.6909145712852478, 0.690077543258667, 0.6856485605239868, 0.6832254528999329, 0.6822864413261414, 0.6745358109474182, 0.6732547283172607, 0.6723712682723999, 0.6714701652526855, 0.6684219837188721, 0.6621725559234619, 0.6614823937416077, 0.659868061542511, 0.6598188281059265, 0.6577478647232056, 0.6574952602386475, 0.6570112109184265, 0.7684499025344849, 0.7649043798446655, 0.7095260620117188, 0.7061544060707092, 0.7055867910385132, 0.6979547142982483, 0.6974689960479736, 0.692712664604187, 0.6918392181396484, 0.6916312575340271, 0.6904610395431519, 0.6883164048194885, 0.6828622221946716, 0.6827860474586487, 0.681498646736145, 0.6752654910087585, 0.6738134622573853, 0.6736451387405396, 0.6713646650314331, 0.6712455153465271, 0.670778751373291, 0.6673927307128906, 0.6672676205635071, 0.6662816405296326, 0.6662197709083557, 0.6622427105903625, 0.6609684228897095, 0.6588340997695923, 0.6576519012451172, 0.7817212343215942, 0.764443576335907, 0.745269775390625, 0.7442193627357483, 0.7263460159301758, 0.7258025407791138, 0.7246056199073792, 0.714800238609314, 0.7087488770484924, 0.7085355520248413, 0.7002525329589844, 0.697418212890625, 0.6960650086402893, 0.6951389908790588, 0.693965494632721, 0.692933976650238, 0.6925876140594482, 0.6905023455619812, 0.6887288093566895, 0.6870293021202087, 0.6841216087341309, 0.6827532649040222, 0.6808210015296936, 0.6789242625236511, 0.6788082718849182, 0.6774207353591919, 0.6770243644714355, 0.7438033223152161, 0.7282107472419739, 0.7106490135192871, 0.7085822820663452, 0.6921489238739014, 0.6802991628646851, 0.6745827794075012, 0.6742810010910034, 0.67227703332901, 0.6696258783340454, 0.6676099896430969, 0.6676068305969238, 0.6669197678565979, 0.6658371090888977, 0.6640796661376953, 0.6587551832199097, 0.6572349667549133, 0.6562620997428894, 0.656241774559021, 0.6549758911132812, 0.6548991799354553, 0.6543521285057068, 0.6531339287757874, 0.6524870991706848, 0.6519100069999695, 0.6516344547271729, 0.6510563492774963, 0.9239623546600342, 0.8453918695449829, 0.8351105451583862, 0.8331472873687744, 0.8227657079696655, 0.8070305585861206, 0.7946662306785583, 0.7923550009727478, 0.7879278659820557, 0.7833667993545532, 0.7830163836479187, 0.7829473614692688, 0.7808536291122437, 0.7798964977264404, 0.7790985107421875, 0.7781128883361816, 0.7770971059799194, 0.7737064957618713, 0.7722280025482178, 0.7704602479934692, 0.7689542770385742, 0.7665743231773376, 0.7662620544433594, 0.7644283771514893, 0.7641787528991699, 0.7629576921463013, 0.7983149290084839, 0.7166272401809692, 0.6899513006210327, 0.6817708611488342, 0.6716627478599548, 0.6562663316726685, 0.6518879532814026, 0.6483370065689087, 0.6359065771102905, 0.6219939589500427, 0.6175693273544312, 0.6131274700164795, 0.6126986742019653, 0.5931437611579895, 0.5880978107452393, 0.5842880606651306, 0.5758863091468811, 0.5745978355407715, 0.5640535950660706, 0.5632354617118835, 0.5540755391120911, 0.5494372248649597, 0.5470160841941833, 0.5465529561042786, 0.53868567943573, 0.5382066965103149, 0.5338978171348572, 0.5311548113822937, 0.5288103222846985, 0.5262341499328613, 0.5246018171310425, 0.5221299529075623, 0.5188447833061218, 0.5139691233634949, 0.5100437998771667, 0.5049843192100525, 0.5040218830108643, 0.5038959383964539, 0.9068306088447571, 0.8588149547576904, 0.8415517807006836, 0.8299163579940796, 0.8282170295715332, 0.8192098140716553, 0.807090163230896, 0.8035891056060791, 0.8022063970565796, 0.8011481165885925, 0.7952970266342163, 0.7945971488952637, 0.7915353178977966, 0.7878952622413635, 0.7864940166473389, 0.7862803339958191, 0.785359263420105, 0.7832929491996765, 0.7831870317459106, 0.7826389074325562, 0.7814611196517944, 0.7806069850921631, 0.7802313566207886, 0.7789097428321838, 0.7786344885826111, 0.7772628664970398, 0.776741623878479, 0.7157946825027466, 0.6813531517982483, 0.6748368740081787, 0.664649248123169, 0.6641989946365356, 0.6546509265899658, 0.6386891603469849, 0.6383512020111084, 0.6341668367385864, 0.6340044140815735, 0.6232588291168213, 0.6213998198509216, 0.6200420260429382, 0.6166899800300598, 0.6146895885467529, 0.6075116991996765, 0.6063100099563599, 0.6060893535614014, 0.6044096946716309, 0.5986999273300171, 0.5982786417007446, 0.5964893698692322, 0.5912541151046753, 0.5898856520652771, 0.5882209539413452, 0.5859089493751526, 0.5831725597381592, 0.582149088382721, 0.5819535851478577, 0.5783353447914124, 0.575101375579834, 0.5737641453742981, 0.5734495520591736, 0.5725851655006409, 0.820310115814209, 0.8004775643348694, 0.7942129373550415, 0.7786304354667664, 0.7438138723373413, 0.7193248271942139, 0.71483314037323, 0.7111318111419678, 0.696035623550415, 0.6913665533065796, 0.6900627017021179, 0.6767080426216125, 0.6764498353004456, 0.6760751605033875, 0.673343300819397, 0.6727884411811829, 0.6690348982810974, 0.664313554763794, 0.6501055359840393, 0.6489272713661194, 0.648157000541687, 0.6428762078285217, 0.6424927115440369, 0.641750693321228, 0.6386353373527527, 0.7935923337936401, 0.789052426815033, 0.7876970767974854, 0.7863467335700989, 0.7718897461891174, 0.7568340301513672, 0.7549159526824951, 0.7418651580810547, 0.7388342618942261, 0.7359090447425842, 0.7356921434402466, 0.7340287566184998, 0.725797176361084, 0.7240247130393982, 0.7125357389450073, 0.7037619352340698, 0.7002424001693726, 0.6999231576919556, 0.6997103691101074, 0.6983354091644287, 0.6977015137672424, 0.6924144625663757, 0.6920472383499146, 0.6885012984275818, 0.6377987265586853, 0.6248834133148193, 0.6167855262756348, 0.6133752465248108, 0.5986713767051697, 0.5923833847045898, 0.5732149481773376, 0.5699096322059631, 0.5576903820037842, 0.5570955276489258, 0.5472075939178467, 0.5456929802894592, 0.5421488881111145, 0.5407166481018066, 0.5388513803482056, 0.533364474773407, 0.5314769744873047, 0.5244706273078918, 0.5205131769180298, 0.5180283188819885, 0.5177072286605835, 0.5170205235481262, 0.515637218952179, 0.5082252025604248, 0.5052593350410461, 0.4899197518825531, 0.4896267056465149, 0.4848484992980957, 0.48042383790016174, 0.47936487197875977, 0.47853296995162964, 0.4753650724887848, 0.4748521149158478, 0.47269150614738464, 0.4722517430782318, 0.47015851736068726, 0.7762659192085266, 0.7653109431266785, 0.7625560760498047, 0.7523748874664307, 0.7418233752250671, 0.738762617111206, 0.7332791686058044, 0.7322437763214111, 0.7300910353660583, 0.722316563129425, 0.7216891050338745, 0.7138338685035706, 0.7128098607063293, 0.6964185237884521, 0.6933242082595825, 0.6906212568283081, 0.690322995185852, 0.6896799206733704, 0.6890251040458679, 0.688618004322052, 0.6873594522476196, 0.6857255697250366, 0.6850077509880066, 0.6842846274375916, 0.6810612678527832, 0.6808114051818848, 0.6807053089141846, 0.6787832379341125, 0.8508403897285461, 0.8374126553535461, 0.821657657623291, 0.8175309300422668, 0.813927412033081, 0.7989495992660522, 0.7850071787834167, 0.7845252156257629, 0.7831643223762512, 0.7769677639007568, 0.7710156440734863, 0.7643246650695801, 0.7639387249946594, 0.7627573013305664, 0.7617184519767761, 0.7583259344100952, 0.7570671439170837, 0.7564252018928528, 0.7537651062011719, 0.7534971833229065, 0.7534714341163635, 0.7512537240982056, 0.8255875706672668, 0.8179430365562439, 0.7883837223052979, 0.7813380360603333, 0.7755759358406067, 0.7710363268852234, 0.7708427906036377, 0.7701913118362427, 0.7614853978157043, 0.7552518248558044, 0.7502784729003906, 0.7473583221435547, 0.7465269565582275, 0.7460736632347107, 0.7457141280174255, 0.7353533506393433, 0.7278291583061218, 0.72723388671875, 0.7264239192008972, 0.7248236536979675, 0.7181762456893921, 0.7168337106704712, 0.7168179750442505, 0.7076572775840759, 0.704622209072113, 0.7012359499931335, 0.6978369951248169, 0.69679194688797, 0.6961602568626404, 0.6957696676254272, 0.6954730749130249, 0.6954694986343384, 0.6929225325584412, 0.6920436024665833, 0.6870878338813782, 0.8154664635658264, 0.806422233581543, 0.7800652980804443, 0.774934709072113, 0.7719347476959229, 0.7710028886795044, 0.7643686532974243, 0.758574366569519, 0.7576280236244202, 0.7574290633201599, 0.7560427188873291, 0.7559424042701721, 0.7512938380241394, 0.7509613633155823, 0.7475418448448181, 0.7434255480766296, 0.740726888179779, 0.7405521273612976, 0.7388774752616882, 0.7359488010406494, 0.7344641089439392, 0.7344503402709961, 0.7342870831489563, 0.7339031100273132, 0.7298793792724609, 0.7296132445335388, 0.7269977331161499, 0.6906526684761047, 0.665459394454956, 0.6582555174827576, 0.6449027061462402, 0.6418205499649048, 0.6384093165397644, 0.6382567882537842, 0.6251198053359985, 0.6244685649871826, 0.6230095624923706, 0.6226588487625122, 0.62123042345047, 0.6197988390922546, 0.6128717660903931, 0.6089160442352295, 0.6074526309967041, 0.6055819392204285, 0.6050500273704529, 0.605049192905426, 0.6034151315689087, 0.5996430516242981, 0.5949256420135498, 0.9663224220275879, 0.9580439925193787, 0.9576011300086975, 0.9546924233436584, 0.9526734352111816, 0.9511275887489319, 0.9473159313201904, 0.9457257986068726, 0.9405031800270081, 0.937670886516571, 0.9369732737541199, 0.9364866018295288, 0.9356544017791748, 0.9347483515739441, 0.933339536190033, 0.9330717325210571, 0.9322718381881714, 0.9288919568061829, 0.9277384281158447, 0.925041913986206, 0.9249502420425415, 0.9247088432312012, 0.9224163293838501, 0.9166877865791321, 0.9153662919998169, 0.9043317437171936, 0.9270460605621338, 0.894888699054718, 0.8930982351303101, 0.8891525268554688, 0.8871718049049377, 0.8849301338195801, 0.8837956786155701, 0.8774537444114685, 0.8758289217948914, 0.8725335001945496, 0.871692419052124, 0.8712062239646912, 0.8705296516418457, 0.8702463507652283, 0.8682108521461487, 0.8651136159896851, 0.8625311851501465, 0.8623272776603699, 0.8592245578765869, 0.8581866025924683, 0.8574698567390442, 0.854515790939331, 0.8545095324516296, 0.8533458113670349, 0.8529675006866455, 0.852364182472229, 0.8515939712524414, 0.8505836129188538, 0.8482100367546082, 0.8477188944816589, 0.8467307686805725, 0.8474168181419373, 0.8320344090461731, 0.8301125168800354, 0.826436460018158, 0.8263207674026489, 0.8248385190963745, 0.8246225118637085, 0.8220764994621277, 0.8190277218818665, 0.8166314363479614, 0.8143925666809082, 0.810320258140564, 0.8102995753288269, 0.8096165657043457, 0.808906614780426, 0.8075846433639526, 0.8074391484260559, 0.8060232996940613, 0.8023492097854614, 0.8020563125610352, 0.8007934093475342, 0.8006800413131714, 0.797771692276001, 0.9371999502182007, 0.8992790579795837, 0.895088791847229, 0.8832333087921143, 0.8665980696678162, 0.8557072877883911, 0.8521557450294495, 0.8517124056816101, 0.8465750217437744, 0.8449393510818481, 0.8385157585144043, 0.8379514217376709, 0.8347424864768982, 0.8343775868415833, 0.8326732516288757, 0.8307422399520874, 0.8306176662445068, 0.8292231559753418, 0.8275892734527588, 0.8247636556625366, 0.8237720131874084, 0.8227414488792419, 0.8167845010757446, 0.8137826919555664, 0.8126909732818604, 0.810950756072998, 0.9011205434799194, 0.8699213862419128, 0.8475014567375183, 0.8069698214530945, 0.7867209911346436, 0.7725479602813721, 0.7570764422416687, 0.7505860328674316, 0.7462022304534912, 0.745141863822937, 0.7297096252441406, 0.7196500301361084, 0.7192583084106445, 0.7179712653160095, 0.7167217135429382, 0.7128292918205261, 0.7082892656326294, 0.7032407522201538, 0.7013112306594849, 0.6993294358253479, 0.6979071497917175, 0.6978086829185486, 0.6971268653869629, 0.6965737342834473, 0.6944141387939453, 0.6943405866622925, 0.6938349008560181, 0.6921725869178772, 0.691989541053772, 0.6903014779090881, 0.6867373585700989, 0.8916200995445251, 0.8823400139808655, 0.8811631798744202, 0.8714386224746704, 0.8712995052337646, 0.866101086139679, 0.8633047342300415, 0.8595743775367737, 0.8576027154922485, 0.8559406995773315, 0.8556203842163086, 0.8483927249908447, 0.8482561111450195, 0.8364614248275757, 0.8329330086708069, 0.8231322765350342, 0.8227798342704773, 0.8213677406311035, 0.8211047053337097, 0.8207011818885803, 0.8202840685844421, 0.8201624155044556, 0.8195000290870667, 0.8047395348548889, 0.7811813354492188, 0.7796355485916138, 0.7709340453147888, 0.7671825289726257, 0.7627179622650146, 0.7616490125656128, 0.7571942210197449, 0.7561736702919006, 0.752899169921875, 0.7519978880882263, 0.7504000663757324, 0.7489806413650513, 0.7476004362106323, 0.7463143467903137, 0.7443193197250366, 0.7441285252571106, 0.7425905466079712, 0.7425552010536194, 0.7405878901481628, 0.7401717901229858, 0.8930860161781311, 0.8903809189796448, 0.8776122331619263, 0.8577528595924377, 0.8396536707878113, 0.8179761171340942, 0.8168277144432068, 0.8133053183555603, 0.7999038696289062, 0.7921633720397949, 0.7845995426177979, 0.7809225916862488, 0.7801949381828308, 0.7763205170631409, 0.7752656936645508, 0.7737535834312439, 0.7730994820594788, 0.7729315161705017, 0.7698700428009033, 0.767636239528656, 0.7665234804153442, 0.7660046815872192, 0.7634165287017822, 0.760826826095581, 0.7594447135925293, 0.8199551701545715, 0.817822277545929, 0.8010494709014893, 0.8001313805580139, 0.7907819747924805, 0.7902190685272217, 0.7816215753555298, 0.779774010181427, 0.7791401147842407, 0.7781248688697815, 0.7743244767189026, 0.7738585472106934, 0.7673048377037048, 0.7659459710121155, 0.7642443776130676, 0.7619882822036743, 0.7594543695449829, 0.7557023167610168, 0.7538520693778992, 0.751593828201294, 0.7501736879348755, 0.7436643838882446, 0.7420773506164551, 0.7418512105941772, 0.7416704893112183, 0.7392094135284424, 0.7373763918876648, 0.7314444184303284, 0.8552175164222717, 0.8381083607673645, 0.8315269947052002, 0.827709972858429, 0.8263996839523315, 0.81805020570755, 0.8126484155654907, 0.8098453879356384, 0.8097869157791138, 0.8093047142028809, 0.8089880347251892, 0.808892011642456, 0.8080223798751831, 0.8054938912391663, 0.8035234212875366, 0.8019312024116516, 0.80184406042099, 0.8013312220573425, 0.7977697849273682, 0.7976763248443604, 0.7973957657814026, 0.796629011631012, 0.7958043217658997, 0.7951380014419556, 0.7942283153533936, 0.8415201902389526, 0.8195158839225769, 0.8125077486038208, 0.8099810481071472, 0.7989623546600342, 0.7946664094924927, 0.791563868522644, 0.7907776236534119, 0.7896914482116699, 0.7865003347396851, 0.7847176194190979, 0.7792195081710815, 0.7784689664840698, 0.7775479555130005, 0.7746745347976685, 0.7703516483306885, 0.7655755281448364, 0.764055073261261, 0.7638925313949585, 0.76356440782547, 0.7622555494308472, 0.7615460157394409, 0.7601873874664307, 0.758393406867981, 0.7959479689598083, 0.793166995048523, 0.7921884059906006, 0.7701155543327332, 0.7664046287536621, 0.7597769498825073, 0.7583472728729248, 0.7554232478141785, 0.7544265389442444, 0.7507920861244202, 0.7495679259300232, 0.7493711113929749, 0.7462888360023499, 0.7456101775169373, 0.7455855011940002, 0.7448866963386536, 0.743294894695282, 0.7421878576278687, 0.7415045499801636, 0.7410113215446472, 0.7382715344429016, 0.9417882561683655, 0.9361932277679443, 0.9343969821929932, 0.9280011057853699, 0.9218356013298035, 0.9091892242431641, 0.9087340235710144, 0.9076867699623108, 0.9019161462783813, 0.9008852243423462, 0.8655951023101807, 0.852480411529541, 0.850057065486908, 0.8450183868408203, 0.8333966732025146, 0.830159604549408, 0.8275048732757568, 0.8184632658958435, 0.805063784122467, 0.798346221446991, 0.7607516050338745, 0.7454596757888794, 0.7408514618873596, 0.6928170919418335, 0.6859491467475891, 0.685833752155304, 0.6690385341644287, 0.6538434624671936, 0.6501514315605164, 0.6412578225135803, 0.6386918425559998, 0.6343339681625366, 0.623923122882843, 0.6213675737380981, 0.6206862926483154, 0.6120203733444214, 0.603602945804596, 0.6026890873908997, 0.6019843220710754, 0.8350658416748047, 0.8121731877326965, 0.8055300712585449, 0.7863374948501587, 0.7781783938407898, 0.7743106484413147, 0.7579163908958435, 0.7562209367752075, 0.7531904578208923, 0.7529033422470093, 0.7513442039489746, 0.7474334836006165, 0.7383654117584229, 0.7362014055252075, 0.7318335771560669, 0.7310087084770203, 0.7307891845703125, 0.7290063500404358, 0.7254238128662109, 0.7254180312156677, 0.7249765992164612, 0.7246256470680237, 0.7237548828125, 0.7229695916175842, 0.7224583625793457, 0.8256826996803284, 0.7622121572494507, 0.7343574166297913, 0.7234684824943542, 0.7175968289375305, 0.7079240679740906, 0.7076723575592041, 0.7043143510818481, 0.6986712217330933, 0.6978864669799805, 0.6969037055969238, 0.6928123831748962, 0.6905776262283325, 0.686948299407959, 0.6868501901626587, 0.6850479245185852, 0.6813980340957642, 0.6787618398666382, 0.677941620349884, 0.6766778826713562, 0.674489438533783, 0.6739088892936707, 0.672253429889679, 0.6705241799354553, 0.7864854335784912, 0.7692875862121582, 0.7595873475074768, 0.7534868717193604, 0.7507487535476685, 0.7407366037368774, 0.737542450428009, 0.7348867058753967, 0.729358971118927, 0.7267875671386719, 0.7246493697166443, 0.721469521522522, 0.7210829854011536, 0.7188110947608948, 0.7170097827911377, 0.7159189581871033, 0.7148569822311401, 0.713699460029602, 0.7125990986824036, 0.7068861126899719, 0.705131471157074, 0.7039331793785095, 0.7033895254135132, 0.7016434669494629, 0.9601857662200928, 0.9454595446586609, 0.9293242692947388, 0.9230135083198547, 0.9166452884674072, 0.9128520488739014, 0.9068072438240051, 0.9043478965759277, 0.9024068713188171, 0.9012990593910217, 0.8926162123680115, 0.8922940492630005, 0.8857088088989258, 0.8743277788162231, 0.8676849603652954, 0.8579501509666443, 0.8567700982093811, 0.846568763256073, 0.8382951021194458, 0.8324214220046997, 0.8146829009056091, 0.791072428226471, 0.7642330527305603, 0.7327576875686646, 0.7230227589607239, 0.7225842475891113, 0.7169793844223022, 0.7114830613136292, 0.7087862491607666, 0.6998913288116455, 0.6918622255325317, 0.6890864372253418, 0.6886270046234131, 0.6720876097679138, 0.6715390682220459, 0.6698659658432007, 0.664678156375885, 0.6636415719985962, 0.6617708802223206, 0.8263217806816101, 0.7879472374916077, 0.7805254459381104, 0.7733635902404785, 0.7707086801528931, 0.7705076932907104, 0.768999457359314, 0.7683033347129822, 0.7672064900398254, 0.766128659248352, 0.7657769918441772, 0.7652737498283386, 0.7642552256584167, 0.7634985446929932, 0.7631216049194336, 0.7623239755630493, 0.7618904113769531, 0.7617117166519165, 0.7606188058853149, 0.7574924826622009, 0.8571751713752747, 0.8216545581817627, 0.811875581741333, 0.8097591400146484, 0.7973379492759705, 0.7929214239120483, 0.7889890670776367, 0.788311243057251, 0.785429835319519, 0.7837803363800049, 0.7813484072685242, 0.7766202688217163, 0.7754482626914978, 0.7727870345115662, 0.7723469138145447, 0.7694010138511658, 0.7691066861152649, 0.768765389919281, 0.766372799873352, 0.7659515142440796, 0.7635180354118347, 0.7576653361320496, 0.7562381625175476, 0.779659628868103, 0.7266958355903625, 0.7131957411766052, 0.7127359509468079, 0.7122491002082825, 0.7101654410362244, 0.7072387337684631, 0.7053561210632324, 0.704044759273529, 0.7020452618598938, 0.6999958157539368, 0.6970037817955017, 0.6934801936149597, 0.6907458901405334, 0.6896433234214783, 0.6880196928977966, 0.6865826845169067, 0.6834108829498291, 0.6796473860740662, 0.6773574948310852, 0.6725268959999084, 0.6706604361534119, 0.6705582737922668, 0.665391206741333, 0.6585361957550049, 0.6577661037445068, 0.653357207775116, 0.6525411009788513, 0.651742696762085, 0.651131272315979, 0.646543025970459, 0.6415984034538269, 0.641383171081543, 0.6291260123252869, 0.627905547618866, 0.627862274646759, 0.6186667084693909, 0.736349880695343, 0.7099693417549133, 0.6891000270843506, 0.6837806701660156, 0.6755895614624023, 0.6710003614425659, 0.6693826913833618, 0.6691660284996033, 0.6676322817802429, 0.6674771904945374, 0.6635266542434692, 0.661709725856781, 0.6601424813270569, 0.654953122138977, 0.6531167030334473, 0.6525404453277588, 0.6486808061599731, 0.6472104787826538, 0.6471979022026062, 0.6454774737358093, 0.6454319357872009, 0.6442317366600037, 0.643670916557312, 0.6395891904830933, 0.6383509635925293, 0.638011634349823, 0.6380106210708618, 0.6368251442909241, 0.6352823376655579, 0.6342771053314209, 0.633939266204834, 0.6319616436958313, 0.6318963170051575, 0.6285567283630371, 0.8563427329063416, 0.8484944701194763, 0.8390846848487854, 0.8289793133735657, 0.8246121406555176, 0.8183299899101257, 0.8119791746139526, 0.7830657362937927, 0.7766580581665039, 0.7762233018875122, 0.7672224044799805, 0.7626411318778992, 0.7614326477050781, 0.7608882188796997, 0.7507492899894714, 0.7506096959114075, 0.7488200068473816, 0.7474486827850342, 0.7432857155799866, 0.739237368106842, 0.7374491095542908, 0.7373124957084656, 0.7359204292297363, 0.7348910570144653, 0.7339023947715759, 0.7299123406410217, 0.7293150424957275, 0.7295847535133362, 0.6843172907829285, 0.683009147644043, 0.679016649723053, 0.6727265119552612, 0.6564672589302063, 0.6476805210113525, 0.6470550298690796, 0.6448284387588501, 0.6317163109779358, 0.6240447759628296, 0.615637481212616, 0.6056561470031738, 0.6005077362060547, 0.5972279906272888, 0.5812517404556274, 0.5808137059211731, 0.5756221413612366, 0.5723010897636414, 0.5595765709877014, 0.5532436966896057, 0.5519509315490723, 0.5490561127662659, 0.5487000346183777, 0.5484545826911926, 0.546282172203064, 0.5458330512046814, 0.7909952998161316, 0.7275376915931702, 0.7115356922149658, 0.7081797122955322, 0.7015478014945984, 0.6965891122817993, 0.6942967772483826, 0.6818126440048218, 0.6814899444580078, 0.6753517389297485, 0.673233151435852, 0.6724002957344055, 0.6717507243156433, 0.6664445400238037, 0.6415122151374817, 0.6389446258544922, 0.6373972296714783, 0.6370010375976562, 0.6367747187614441, 0.6365719437599182, 0.6362177729606628, 0.6356679797172546, 0.6321846842765808, 0.629065752029419, 0.6249955892562866, 0.7566254734992981, 0.7522933483123779, 0.7509376406669617, 0.7456213235855103, 0.7375296950340271, 0.7363504767417908, 0.7245490550994873, 0.7245061993598938, 0.7142325639724731, 0.706196665763855, 0.7049291133880615, 0.6988591551780701, 0.6961973905563354, 0.6946308016777039, 0.690481960773468, 0.6869907379150391, 0.6865106821060181, 0.6811325550079346, 0.6799921989440918, 0.6786953210830688, 0.6781272292137146, 0.6778544187545776, 0.677400529384613, 0.6772680878639221, 0.6767324209213257, 0.675910234451294, 0.6725634932518005, 0.9252566695213318, 0.9195345640182495, 0.9116606712341309, 0.9093381762504578, 0.906231164932251, 0.9004750847816467, 0.8978137969970703, 0.8966866135597229, 0.8944097757339478, 0.8913857340812683, 0.8874309062957764, 0.8856910467147827, 0.880445122718811, 0.8795323371887207, 0.8779998421669006, 0.8764092326164246, 0.8761017322540283, 0.8759839534759521, 0.8746649622917175, 0.8744400143623352, 0.8739479184150696, 0.8707227110862732, 0.8703868985176086, 0.870327353477478, 0.8693249225616455, 0.8686081767082214, 0.8685587644577026, 0.8663972616195679, 0.8657739758491516, 0.865741491317749, 0.8647063374519348, 0.8644942045211792, 0.863373339176178, 0.8632898926734924, 0.8631950616836548, 0.7872284650802612, 0.774196982383728, 0.7741832137107849, 0.7644334435462952, 0.7644123435020447, 0.7581642866134644, 0.7561523914337158, 0.7553320527076721, 0.7517467141151428, 0.7460340857505798, 0.7447654604911804, 0.7373767495155334, 0.7348110675811768, 0.7342444658279419, 0.732761561870575, 0.7286284565925598, 0.7275761961936951, 0.7264245748519897, 0.7188127636909485, 0.7151783108711243, 0.7142192125320435, 0.7115926742553711, 0.7111127376556396, 0.7089150547981262, 0.7075852751731873, 0.8455294966697693, 0.8398790955543518, 0.8256994485855103, 0.8147468566894531, 0.8069377541542053, 0.8049421310424805, 0.8036196231842041, 0.7997278571128845, 0.7891069650650024, 0.7878766059875488, 0.7850197553634644, 0.7842738628387451, 0.7771822810173035, 0.7754234671592712, 0.7752816677093506, 0.7713298201560974, 0.7712468504905701, 0.7682240605354309, 0.7658243179321289, 0.7650627493858337, 0.7641234397888184, 0.8652287721633911, 0.8590072989463806, 0.8577529788017273, 0.8570089340209961, 0.8550446629524231, 0.8548009395599365, 0.852155864238739, 0.8471763134002686, 0.8387842774391174, 0.8374066948890686, 0.8348565697669983, 0.8307536840438843, 0.8286823034286499, 0.828411877155304, 0.8262619972229004, 0.8228694200515747, 0.8197526335716248, 0.8195105195045471, 0.8183061480522156, 0.8178722262382507, 0.8143009543418884, 0.8129555583000183, 0.8112099170684814, 0.8098758459091187, 0.8098248839378357, 0.8088181614875793, 0.8067036867141724, 0.8058868050575256, 0.8041276931762695, 0.9693202376365662, 0.9680086970329285, 0.964196503162384, 0.944291889667511, 0.940409243106842, 0.9381715655326843, 0.9373201131820679, 0.9352139830589294, 0.9275851249694824, 0.9168181419372559, 0.9166278839111328, 0.9150590896606445, 0.9143868684768677, 0.9126968383789062, 0.9058945178985596, 0.9003681540489197, 0.895706832408905, 0.892464816570282, 0.8842121362686157, 0.8579500913619995, 0.8385788798332214, 0.8333967328071594, 0.8201596140861511, 0.7944698929786682, 0.7591784596443176, 0.7567051649093628, 0.7536466717720032, 0.7470585703849792, 0.7351630330085754, 0.7349422574043274, 0.7312095165252686, 0.7282416224479675, 0.7267470955848694, 0.7257128953933716, 0.7252861857414246, 0.8814853429794312, 0.8794497847557068, 0.8765803575515747, 0.875981330871582, 0.8631727695465088, 0.8553658127784729, 0.8534700870513916, 0.8496370911598206, 0.8475452661514282, 0.8440191149711609, 0.8434535264968872, 0.8383045196533203, 0.8375492691993713, 0.8372517824172974, 0.8331253528594971, 0.8318591713905334, 0.8287346959114075, 0.8266511559486389, 0.8246420621871948, 0.8224211931228638, 0.8214183449745178, 0.8209953308105469, 0.8200652003288269, 0.6749503016471863, 0.6597166657447815, 0.6542296409606934, 0.6421011686325073, 0.6405508518218994, 0.6379413604736328, 0.6376363039016724, 0.6331723928451538, 0.6312641501426697, 0.6267613768577576, 0.6246119737625122, 0.6182749271392822, 0.6117663383483887, 0.6042309999465942, 0.6041781306266785, 0.6026540398597717, 0.5977776646614075, 0.5947452187538147, 0.5945761799812317, 0.5884361863136292, 0.5864821076393127, 0.5817018151283264, 0.5795392990112305, 0.5758903622627258, 0.6596449613571167, 0.6526186466217041, 0.6516065001487732, 0.6400281190872192, 0.62978196144104, 0.6239579319953918, 0.6218690872192383, 0.6138229966163635, 0.6013164520263672, 0.5977524518966675, 0.5893494486808777, 0.5840362310409546, 0.5838784575462341, 0.5832802057266235, 0.5740565657615662, 0.5737505555152893, 0.5693223476409912, 0.5672280192375183, 0.56546950340271, 0.5640450716018677, 0.5633307099342346, 0.559853196144104, 0.5572546124458313, 0.5551279783248901, 0.5547732710838318, 0.5494997501373291, 0.5477577447891235, 0.5460048913955688, 0.5405046939849854, 0.5402443408966064, 0.911098301410675, 0.8898148536682129, 0.8875136971473694, 0.8849590420722961, 0.8816491961479187, 0.8767130970954895, 0.8744817972183228, 0.8692560791969299, 0.8678646087646484, 0.8618221879005432, 0.8544549345970154, 0.8524259924888611, 0.8473648428916931, 0.8461743593215942, 0.8449438214302063, 0.8392210006713867, 0.8389910459518433, 0.8380244374275208, 0.8371225595474243, 0.8369567394256592, 0.8368996381759644, 0.8363709449768066, 0.8361510038375854, 0.8357939124107361, 0.8334634304046631, 0.8330777287483215, 0.8328484296798706, 0.8304420709609985, 0.8299298286437988, 0.8280143141746521, 0.8262761831283569, 0.82554692029953, 0.8245128989219666, 0.8231590986251831, 0.7408198714256287, 0.7257024645805359, 0.7225889563560486, 0.7189845442771912, 0.708516001701355, 0.6952095627784729, 0.694646954536438, 0.6918862462043762, 0.6881498694419861, 0.6847488880157471, 0.6806939244270325, 0.6792048811912537, 0.6775637865066528, 0.6724081635475159, 0.6720629930496216, 0.669765055179596, 0.6638897657394409, 0.6616258025169373, 0.659785270690918, 0.6558523178100586, 0.863844633102417, 0.8390009999275208, 0.794522225856781, 0.7938894629478455, 0.7911340594291687, 0.7788863778114319, 0.7679206728935242, 0.7621302604675293, 0.7616265416145325, 0.7598571181297302, 0.7472901940345764, 0.7462977766990662, 0.726371705532074, 0.7239180207252502, 0.7186158895492554, 0.7136943340301514, 0.7125459909439087, 0.702233076095581, 0.7017319798469543, 0.6996299624443054, 0.6985458135604858, 0.6951764225959778, 0.6933425664901733, 0.687964677810669, 0.6865866184234619, 0.6814957857131958, 0.6795026659965515, 0.8045414686203003, 0.8008402585983276, 0.8000050187110901, 0.7988848090171814, 0.7988297343254089, 0.7984655499458313, 0.7980635166168213, 0.7978911399841309, 0.7972205877304077, 0.7892482876777649, 0.7892138361930847, 0.7882314324378967, 0.7879236340522766, 0.7797644734382629, 0.7795490622520447, 0.7782641053199768, 0.7759650349617004, 0.7749013900756836, 0.7715133428573608, 0.7680221199989319, 0.7672212719917297, 0.7664979696273804, 0.7660398483276367, 0.7652670741081238, 0.734748899936676, 0.7239847183227539, 0.7221916317939758, 0.7139077186584473, 0.7109740972518921, 0.7107969522476196, 0.7057318687438965, 0.7029606699943542, 0.702909529209137, 0.7005240321159363, 0.6911840438842773, 0.6907578110694885, 0.6886230111122131, 0.6879897713661194, 0.6877012252807617, 0.6866770386695862, 0.6851812601089478, 0.6834315657615662, 0.6825257539749146, 0.6821344494819641, 0.681807279586792, 0.6816297769546509, 0.6786583065986633, 0.678541898727417, 0.6753413081169128, 0.6737672686576843, 0.7923708558082581, 0.7569037079811096, 0.7254213094711304, 0.7213606834411621, 0.7198290824890137, 0.7143453359603882, 0.7116793394088745, 0.7067719101905823, 0.7038512825965881, 0.7033975124359131, 0.6993712186813354, 0.6985676884651184, 0.6970936059951782, 0.6928708553314209, 0.6915065050125122, 0.6908100247383118, 0.6893237829208374, 0.688657283782959, 0.6880055069923401, 0.6868187785148621, 0.6866632699966431, 0.6864582300186157, 0.6836241483688354, 0.6827439069747925, 0.6842021346092224, 0.6697129011154175, 0.6604737043380737, 0.6547325253486633, 0.6456851959228516, 0.6325541734695435, 0.6285645365715027, 0.6244111061096191, 0.6240343451499939, 0.6201058626174927, 0.6188068985939026, 0.6187989711761475, 0.6162266135215759, 0.6152140498161316, 0.6141757369041443, 0.6140087842941284, 0.602350115776062, 0.6013005375862122, 0.600622832775116, 0.5998207926750183, 0.5983206033706665, 0.5980191230773926, 0.594260036945343, 0.5935805439949036, 0.593302845954895, 0.5923670530319214, 0.76450115442276, 0.7625776529312134, 0.7588422894477844, 0.7528426051139832, 0.7502046227455139, 0.7490174770355225, 0.7452989816665649, 0.7451474666595459, 0.7432202100753784, 0.7398937344551086, 0.7369940280914307, 0.7350140810012817, 0.7317435145378113, 0.7316787838935852, 0.7312224507331848, 0.7295190691947937, 0.72819584608078, 0.7281360030174255, 0.72770756483078, 0.7265124917030334, 0.7265110611915588, 0.7262807488441467, 0.7260015606880188, 0.7256557941436768, 0.7250498533248901, 0.9371998906135559, 0.9123262166976929, 0.8803852200508118, 0.8776122331619263, 0.8733407855033875, 0.8683338761329651, 0.8673861622810364, 0.8643224835395813, 0.8640921711921692, 0.8590072393417358, 0.8509461283683777, 0.8488181233406067, 0.8482590913772583, 0.8424381017684937, 0.8423758745193481, 0.8411199450492859, 0.8386721611022949, 0.838245153427124, 0.8377007246017456, 0.8373619914054871, 0.8360159397125244, 0.8343657851219177, 0.8333958983421326, 0.8308197259902954, 0.8292578458786011, 0.8287562727928162, 0.828204333782196, 0.8264806270599365, 0.8262277245521545, 0.8251346945762634, 0.899278998374939, 0.8930859565734863, 0.8835942149162292, 0.8709591627120972, 0.8336549401283264, 0.8234018683433533, 0.787855863571167, 0.7864677906036377, 0.7740568518638611, 0.7725391387939453, 0.7694632411003113, 0.7685861587524414, 0.7622687220573425, 0.7560317516326904, 0.7556086778640747, 0.7522904872894287, 0.7511385679244995, 0.7394260764122009, 0.7392436265945435, 0.7381467819213867, 0.7361480593681335, 0.7317231297492981, 0.7300967574119568, 0.7287371754646301, 0.7287024259567261, 0.7269925475120544, 0.7528044581413269, 0.7444268465042114, 0.7247835993766785, 0.7123309969902039, 0.693922758102417, 0.6808803677558899, 0.6780248880386353, 0.6704162955284119, 0.663528561592102, 0.6528816819190979, 0.6393619775772095, 0.6370600461959839, 0.6354284286499023, 0.6233888864517212, 0.6150697469711304, 0.6103467345237732, 0.6093484163284302, 0.6055862903594971, 0.6012537479400635, 0.6008977293968201, 0.5983183979988098, 0.5975234508514404, 0.5946808457374573, 0.5851771235466003, 0.5804060697555542, 0.5786453485488892, 0.5784494280815125, 0.5763124227523804, 0.8903809189796448, 0.883233368396759, 0.8717947602272034, 0.846592903137207, 0.8214228749275208, 0.8161218762397766, 0.8143237829208374, 0.813932478427887, 0.8132796287536621, 0.8129835724830627, 0.811285674571991, 0.8099660873413086, 0.8074451088905334, 0.80631422996521, 0.8055406808853149, 0.8033368587493896, 0.7989433407783508, 0.791195273399353, 0.7880634069442749, 0.7875093221664429, 0.7834255695343018, 0.7781293392181396, 0.77703458070755, 0.775461733341217, 0.6525573134422302, 0.6506189107894897, 0.647020161151886, 0.642938494682312, 0.6422346830368042, 0.6387975215911865, 0.6387254595756531, 0.6319689154624939, 0.6268901824951172, 0.6246623396873474, 0.6221814751625061, 0.621575653553009, 0.6192798614501953, 0.6121355891227722, 0.6106343865394592, 0.608645498752594, 0.6070312857627869, 0.6061749458312988, 0.6038632392883301, 0.6028358936309814, 0.601034939289093, 0.5996550917625427, 0.6831979155540466, 0.6578916907310486, 0.6547120809555054, 0.6497286558151245, 0.6488968729972839, 0.6441749930381775, 0.6387880444526672, 0.6374298334121704, 0.636936366558075, 0.6338289380073547, 0.631761372089386, 0.6314332485198975, 0.6273283362388611, 0.6263798475265503, 0.6241983771324158, 0.6235033869743347, 0.6225966215133667, 0.6217241287231445, 0.620557427406311, 0.6205244660377502, 0.6196712851524353, 0.6189302206039429, 0.7059956192970276, 0.680487871170044, 0.6446759700775146, 0.6315279006958008, 0.6260728240013123, 0.6160202622413635, 0.5953012704849243, 0.5381559729576111, 0.5189952254295349, 0.5069252252578735, 0.49734407663345337, 0.49689021706581116, 0.4954266846179962, 0.49038049578666687, 0.4799225628376007, 0.4794754981994629, 0.47681698203086853, 0.4762706160545349, 0.46963146328926086, 0.46953365206718445, 0.4581180512905121, 0.45203080773353577, 0.45042383670806885, 0.44755613803863525, 0.44375067949295044, 0.4388115406036377, 0.4371618330478668, 0.4299009144306183, 0.4297829270362854, 0.4251254200935364, 0.42219656705856323, 0.4216906726360321, 0.4200516939163208, 0.7578715682029724, 0.7438370585441589, 0.7114181518554688, 0.7106938362121582, 0.6908974647521973, 0.6841610074043274, 0.6839225888252258, 0.6834618449211121, 0.6825869679450989, 0.6817113757133484, 0.6795864701271057, 0.6741925477981567, 0.6713443994522095, 0.670441210269928, 0.6675925850868225, 0.6665725708007812, 0.663058340549469, 0.6626642942428589, 0.7681893706321716, 0.7657535672187805, 0.753770649433136, 0.745131254196167, 0.7369880080223083, 0.7315254807472229, 0.7309933304786682, 0.73090660572052, 0.7273920178413391, 0.7243801355361938, 0.713927686214447, 0.7113766670227051, 0.7113094925880432, 0.7100929617881775, 0.7084068655967712, 0.7081887722015381, 0.7072699666023254, 0.7031766176223755, 0.7008801698684692, 0.6997713446617126, 0.6910566687583923, 0.6900355815887451, 0.6888847351074219, 0.6886886358261108, 0.6880474090576172, 0.7071673274040222, 0.6911374926567078, 0.683650016784668, 0.6775069832801819, 0.6764782667160034, 0.6723729968070984, 0.66338711977005, 0.6550987958908081, 0.6449722051620483, 0.6437577605247498, 0.6388170719146729, 0.6381702423095703, 0.6356096863746643, 0.633548378944397, 0.6331881284713745, 0.6305261850357056, 0.629301130771637, 0.6268571615219116, 0.6255720853805542, 0.6224796175956726, 0.6168299317359924, 0.6159076690673828, 0.6157360076904297, 0.6144319772720337, 0.6133360266685486, 0.6123446226119995, 0.8838673233985901, 0.8802355527877808, 0.8654392957687378, 0.8562020659446716, 0.8356537222862244, 0.8346845507621765, 0.8294010758399963, 0.811862587928772, 0.7904811501502991, 0.7848219275474548, 0.7779116630554199, 0.7724366784095764, 0.7687482833862305, 0.7679262757301331, 0.7673866152763367, 0.7666164636611938, 0.7604454755783081, 0.7589558362960815, 0.7565876841545105, 0.7554758787155151, 0.7545773386955261, 0.7466194033622742, 0.7461706399917603, 0.7452917695045471, 0.7443557977676392, 0.7430819272994995, 0.7419041395187378, 0.740634024143219, 0.7390261292457581, 0.7379370927810669, 0.6996439099311829, 0.6965271234512329, 0.6895082592964172, 0.6879034638404846, 0.6860219240188599, 0.6822137236595154, 0.6777191162109375, 0.6728814244270325, 0.6707470417022705, 0.6647746562957764, 0.6511467099189758, 0.6500095725059509, 0.6497624516487122, 0.6489251255989075, 0.6437706351280212, 0.6436265110969543, 0.6394156813621521, 0.6392624974250793, 0.6383464336395264, 0.6355780959129333, 0.6334933042526245, 0.6318705677986145, 0.6301864385604858, 0.6279290318489075, 0.627328634262085], \"xaxis\": \"x\", \"yaxis\": \"y\"}],\n",
              "                        {\"barmode\": \"relative\", \"legend\": {\"tracegroupgap\": 0}, \"template\": {\"data\": {\"bar\": [{\"error_x\": {\"color\": \"#2a3f5f\"}, \"error_y\": {\"color\": \"#2a3f5f\"}, \"marker\": {\"line\": {\"color\": \"#E5ECF6\", \"width\": 0.5}}, \"type\": \"bar\"}], \"barpolar\": [{\"marker\": {\"line\": {\"color\": \"#E5ECF6\", \"width\": 0.5}}, \"type\": \"barpolar\"}], \"carpet\": [{\"aaxis\": {\"endlinecolor\": \"#2a3f5f\", \"gridcolor\": \"white\", \"linecolor\": \"white\", \"minorgridcolor\": \"white\", \"startlinecolor\": \"#2a3f5f\"}, \"baxis\": {\"endlinecolor\": \"#2a3f5f\", \"gridcolor\": \"white\", \"linecolor\": \"white\", \"minorgridcolor\": \"white\", \"startlinecolor\": \"#2a3f5f\"}, \"type\": \"carpet\"}], \"choropleth\": [{\"colorbar\": {\"outlinewidth\": 0, \"ticks\": \"\"}, \"type\": \"choropleth\"}], \"contour\": [{\"colorbar\": {\"outlinewidth\": 0, \"ticks\": \"\"}, \"colorscale\": [[0.0, \"#0d0887\"], [0.1111111111111111, \"#46039f\"], [0.2222222222222222, \"#7201a8\"], [0.3333333333333333, \"#9c179e\"], [0.4444444444444444, \"#bd3786\"], [0.5555555555555556, \"#d8576b\"], [0.6666666666666666, \"#ed7953\"], [0.7777777777777778, \"#fb9f3a\"], [0.8888888888888888, \"#fdca26\"], [1.0, \"#f0f921\"]], \"type\": \"contour\"}], \"contourcarpet\": [{\"colorbar\": {\"outlinewidth\": 0, \"ticks\": \"\"}, \"type\": \"contourcarpet\"}], \"heatmap\": [{\"colorbar\": {\"outlinewidth\": 0, \"ticks\": \"\"}, \"colorscale\": [[0.0, \"#0d0887\"], [0.1111111111111111, \"#46039f\"], [0.2222222222222222, \"#7201a8\"], [0.3333333333333333, \"#9c179e\"], [0.4444444444444444, \"#bd3786\"], [0.5555555555555556, \"#d8576b\"], [0.6666666666666666, \"#ed7953\"], [0.7777777777777778, \"#fb9f3a\"], [0.8888888888888888, \"#fdca26\"], [1.0, \"#f0f921\"]], \"type\": \"heatmap\"}], \"heatmapgl\": [{\"colorbar\": {\"outlinewidth\": 0, \"ticks\": \"\"}, \"colorscale\": [[0.0, \"#0d0887\"], [0.1111111111111111, \"#46039f\"], [0.2222222222222222, \"#7201a8\"], [0.3333333333333333, \"#9c179e\"], [0.4444444444444444, \"#bd3786\"], [0.5555555555555556, \"#d8576b\"], [0.6666666666666666, \"#ed7953\"], [0.7777777777777778, \"#fb9f3a\"], [0.8888888888888888, \"#fdca26\"], [1.0, \"#f0f921\"]], \"type\": \"heatmapgl\"}], \"histogram\": [{\"marker\": {\"colorbar\": {\"outlinewidth\": 0, \"ticks\": \"\"}}, \"type\": \"histogram\"}], \"histogram2d\": [{\"colorbar\": {\"outlinewidth\": 0, \"ticks\": \"\"}, \"colorscale\": [[0.0, \"#0d0887\"], [0.1111111111111111, \"#46039f\"], [0.2222222222222222, \"#7201a8\"], [0.3333333333333333, \"#9c179e\"], [0.4444444444444444, \"#bd3786\"], [0.5555555555555556, \"#d8576b\"], [0.6666666666666666, \"#ed7953\"], [0.7777777777777778, \"#fb9f3a\"], [0.8888888888888888, \"#fdca26\"], [1.0, \"#f0f921\"]], \"type\": \"histogram2d\"}], \"histogram2dcontour\": [{\"colorbar\": {\"outlinewidth\": 0, \"ticks\": \"\"}, \"colorscale\": [[0.0, \"#0d0887\"], [0.1111111111111111, \"#46039f\"], [0.2222222222222222, \"#7201a8\"], [0.3333333333333333, \"#9c179e\"], [0.4444444444444444, \"#bd3786\"], [0.5555555555555556, \"#d8576b\"], [0.6666666666666666, \"#ed7953\"], [0.7777777777777778, \"#fb9f3a\"], [0.8888888888888888, \"#fdca26\"], [1.0, \"#f0f921\"]], \"type\": \"histogram2dcontour\"}], \"mesh3d\": [{\"colorbar\": {\"outlinewidth\": 0, \"ticks\": \"\"}, \"type\": \"mesh3d\"}], \"parcoords\": [{\"line\": {\"colorbar\": {\"outlinewidth\": 0, \"ticks\": \"\"}}, \"type\": \"parcoords\"}], \"pie\": [{\"automargin\": true, \"type\": \"pie\"}], \"scatter\": [{\"marker\": {\"colorbar\": {\"outlinewidth\": 0, \"ticks\": \"\"}}, \"type\": \"scatter\"}], \"scatter3d\": [{\"line\": {\"colorbar\": {\"outlinewidth\": 0, \"ticks\": \"\"}}, \"marker\": {\"colorbar\": {\"outlinewidth\": 0, \"ticks\": \"\"}}, \"type\": \"scatter3d\"}], \"scattercarpet\": [{\"marker\": {\"colorbar\": {\"outlinewidth\": 0, \"ticks\": \"\"}}, \"type\": \"scattercarpet\"}], \"scattergeo\": [{\"marker\": {\"colorbar\": {\"outlinewidth\": 0, \"ticks\": \"\"}}, \"type\": \"scattergeo\"}], \"scattergl\": [{\"marker\": {\"colorbar\": {\"outlinewidth\": 0, \"ticks\": \"\"}}, \"type\": \"scattergl\"}], \"scattermapbox\": [{\"marker\": {\"colorbar\": {\"outlinewidth\": 0, \"ticks\": \"\"}}, \"type\": \"scattermapbox\"}], \"scatterpolar\": [{\"marker\": {\"colorbar\": {\"outlinewidth\": 0, \"ticks\": \"\"}}, \"type\": \"scatterpolar\"}], \"scatterpolargl\": [{\"marker\": {\"colorbar\": {\"outlinewidth\": 0, \"ticks\": \"\"}}, \"type\": \"scatterpolargl\"}], \"scatterternary\": [{\"marker\": {\"colorbar\": {\"outlinewidth\": 0, \"ticks\": \"\"}}, \"type\": \"scatterternary\"}], \"surface\": [{\"colorbar\": {\"outlinewidth\": 0, \"ticks\": \"\"}, \"colorscale\": [[0.0, \"#0d0887\"], [0.1111111111111111, \"#46039f\"], [0.2222222222222222, \"#7201a8\"], [0.3333333333333333, \"#9c179e\"], [0.4444444444444444, \"#bd3786\"], [0.5555555555555556, \"#d8576b\"], [0.6666666666666666, \"#ed7953\"], [0.7777777777777778, \"#fb9f3a\"], [0.8888888888888888, \"#fdca26\"], [1.0, \"#f0f921\"]], \"type\": \"surface\"}], \"table\": [{\"cells\": {\"fill\": {\"color\": \"#EBF0F8\"}, \"line\": {\"color\": \"white\"}}, \"header\": {\"fill\": {\"color\": \"#C8D4E3\"}, \"line\": {\"color\": \"white\"}}, \"type\": \"table\"}]}, \"layout\": {\"annotationdefaults\": {\"arrowcolor\": \"#2a3f5f\", \"arrowhead\": 0, \"arrowwidth\": 1}, \"coloraxis\": {\"colorbar\": {\"outlinewidth\": 0, \"ticks\": \"\"}}, \"colorscale\": {\"diverging\": [[0, \"#8e0152\"], [0.1, \"#c51b7d\"], [0.2, \"#de77ae\"], [0.3, \"#f1b6da\"], [0.4, \"#fde0ef\"], [0.5, \"#f7f7f7\"], [0.6, \"#e6f5d0\"], [0.7, \"#b8e186\"], [0.8, \"#7fbc41\"], [0.9, \"#4d9221\"], [1, \"#276419\"]], \"sequential\": [[0.0, \"#0d0887\"], [0.1111111111111111, \"#46039f\"], [0.2222222222222222, \"#7201a8\"], [0.3333333333333333, \"#9c179e\"], [0.4444444444444444, \"#bd3786\"], [0.5555555555555556, \"#d8576b\"], [0.6666666666666666, \"#ed7953\"], [0.7777777777777778, \"#fb9f3a\"], [0.8888888888888888, \"#fdca26\"], [1.0, \"#f0f921\"]], \"sequentialminus\": [[0.0, \"#0d0887\"], [0.1111111111111111, \"#46039f\"], [0.2222222222222222, \"#7201a8\"], [0.3333333333333333, \"#9c179e\"], [0.4444444444444444, \"#bd3786\"], [0.5555555555555556, \"#d8576b\"], [0.6666666666666666, \"#ed7953\"], [0.7777777777777778, \"#fb9f3a\"], [0.8888888888888888, \"#fdca26\"], [1.0, \"#f0f921\"]]}, \"colorway\": [\"#636efa\", \"#EF553B\", \"#00cc96\", \"#ab63fa\", \"#FFA15A\", \"#19d3f3\", \"#FF6692\", \"#B6E880\", \"#FF97FF\", \"#FECB52\"], \"font\": {\"color\": \"#2a3f5f\"}, \"geo\": {\"bgcolor\": \"white\", \"lakecolor\": \"white\", \"landcolor\": \"#E5ECF6\", \"showlakes\": true, \"showland\": true, \"subunitcolor\": \"white\"}, \"hoverlabel\": {\"align\": \"left\"}, \"hovermode\": \"closest\", \"mapbox\": {\"style\": \"light\"}, \"paper_bgcolor\": \"white\", \"plot_bgcolor\": \"#E5ECF6\", \"polar\": {\"angularaxis\": {\"gridcolor\": \"white\", \"linecolor\": \"white\", \"ticks\": \"\"}, \"bgcolor\": \"#E5ECF6\", \"radialaxis\": {\"gridcolor\": \"white\", \"linecolor\": \"white\", \"ticks\": \"\"}}, \"scene\": {\"xaxis\": {\"backgroundcolor\": \"#E5ECF6\", \"gridcolor\": \"white\", \"gridwidth\": 2, \"linecolor\": \"white\", \"showbackground\": true, \"ticks\": \"\", \"zerolinecolor\": \"white\"}, \"yaxis\": {\"backgroundcolor\": \"#E5ECF6\", \"gridcolor\": \"white\", \"gridwidth\": 2, \"linecolor\": \"white\", \"showbackground\": true, \"ticks\": \"\", \"zerolinecolor\": \"white\"}, \"zaxis\": {\"backgroundcolor\": \"#E5ECF6\", \"gridcolor\": \"white\", \"gridwidth\": 2, \"linecolor\": \"white\", \"showbackground\": true, \"ticks\": \"\", \"zerolinecolor\": \"white\"}}, \"shapedefaults\": {\"line\": {\"color\": \"#2a3f5f\"}}, \"ternary\": {\"aaxis\": {\"gridcolor\": \"white\", \"linecolor\": \"white\", \"ticks\": \"\"}, \"baxis\": {\"gridcolor\": \"white\", \"linecolor\": \"white\", \"ticks\": \"\"}, \"bgcolor\": \"#E5ECF6\", \"caxis\": {\"gridcolor\": \"white\", \"linecolor\": \"white\", \"ticks\": \"\"}}, \"title\": {\"x\": 0.05}, \"xaxis\": {\"automargin\": true, \"gridcolor\": \"white\", \"linecolor\": \"white\", \"ticks\": \"\", \"title\": {\"standoff\": 15}, \"zerolinecolor\": \"white\", \"zerolinewidth\": 2}, \"yaxis\": {\"automargin\": true, \"gridcolor\": \"white\", \"linecolor\": \"white\", \"ticks\": \"\", \"title\": {\"standoff\": 15}, \"zerolinecolor\": \"white\", \"zerolinewidth\": 2}}}, \"title\": {\"text\": \"doc2vec sections\"}, \"xaxis\": {\"anchor\": \"y\", \"domain\": [0.0, 1.0], \"title\": {\"text\": \"score\"}}, \"yaxis\": {\"anchor\": \"x\", \"domain\": [0.0, 1.0], \"title\": {\"text\": \"count\"}}},\n",
              "                        {\"responsive\": true}\n",
              "                    ).then(function(){\n",
              "                            \n",
              "var gd = document.getElementById('d781efd3-f5a3-4ff8-8ccb-0659e55aecc1');\n",
              "var x = new MutationObserver(function (mutations, observer) {{\n",
              "        var display = window.getComputedStyle(gd).display;\n",
              "        if (!display || display === 'none') {{\n",
              "            console.log([gd, 'removed!']);\n",
              "            Plotly.purge(gd);\n",
              "            observer.disconnect();\n",
              "        }}\n",
              "}});\n",
              "\n",
              "// Listen for the removal of the full notebook cells\n",
              "var notebookContainer = gd.closest('#notebook-container');\n",
              "if (notebookContainer) {{\n",
              "    x.observe(notebookContainer, {childList: true});\n",
              "}}\n",
              "\n",
              "// Listen for the clearing of the current output cell\n",
              "var outputEl = gd.closest('.output');\n",
              "if (outputEl) {{\n",
              "    x.observe(outputEl, {childList: true});\n",
              "}}\n",
              "\n",
              "                        })\n",
              "                };\n",
              "                \n",
              "            </script>\n",
              "        </div>\n",
              "</body>\n",
              "</html>"
            ]
          },
          "metadata": {}
        }
      ]
    },
    {
      "cell_type": "code",
      "metadata": {
        "id": "OKeaqYxGPMZj"
      },
      "source": [
        "if use_wandb:\n",
        "  wandb.log({\"scores_hist\": fig})"
      ],
      "execution_count": 87,
      "outputs": []
    },
    {
      "cell_type": "code",
      "metadata": {
        "colab": {
          "base_uri": "https://localhost:8080/",
          "height": 1000
        },
        "id": "DgV3ccDr5Ux4",
        "outputId": "1b16915e-f545-4d2b-e881-134f7c8c4bb9"
      },
      "source": [
        "result, details = recommend_tune(df_section_sim, 'Perdido')\n",
        "result.head(50)"
      ],
      "execution_count": 88,
      "outputs": [
        {
          "output_type": "execute_result",
          "data": {
            "text/html": [
              "<div>\n",
              "<style scoped>\n",
              "    .dataframe tbody tr th:only-of-type {\n",
              "        vertical-align: middle;\n",
              "    }\n",
              "\n",
              "    .dataframe tbody tr th {\n",
              "        vertical-align: top;\n",
              "    }\n",
              "\n",
              "    .dataframe thead th {\n",
              "        text-align: right;\n",
              "    }\n",
              "</style>\n",
              "<table border=\"1\" class=\"dataframe\">\n",
              "  <thead>\n",
              "    <tr style=\"text-align: right;\">\n",
              "      <th></th>\n",
              "      <th>index</th>\n",
              "      <th>reference</th>\n",
              "      <th>similar_title</th>\n",
              "      <th>score</th>\n",
              "      <th>max</th>\n",
              "      <th>score_div_max</th>\n",
              "    </tr>\n",
              "  </thead>\n",
              "  <tbody>\n",
              "    <tr>\n",
              "      <th>0</th>\n",
              "      <td>0</td>\n",
              "      <td>Perdido</td>\n",
              "      <td>Easy To Love</td>\n",
              "      <td>0.875981</td>\n",
              "      <td>0.881485</td>\n",
              "      <td>1.000000</td>\n",
              "    </tr>\n",
              "    <tr>\n",
              "      <th>1</th>\n",
              "      <td>1</td>\n",
              "      <td>Perdido</td>\n",
              "      <td>P.S. I Love You</td>\n",
              "      <td>0.881485</td>\n",
              "      <td>0.881485</td>\n",
              "      <td>1.000000</td>\n",
              "    </tr>\n",
              "    <tr>\n",
              "      <th>2</th>\n",
              "      <td>2</td>\n",
              "      <td>Perdido</td>\n",
              "      <td>No Moe</td>\n",
              "      <td>0.969320</td>\n",
              "      <td>0.969320</td>\n",
              "      <td>1.000000</td>\n",
              "    </tr>\n",
              "    <tr>\n",
              "      <th>3</th>\n",
              "      <td>3</td>\n",
              "      <td>Perdido</td>\n",
              "      <td>You Can Depend On Me</td>\n",
              "      <td>0.865229</td>\n",
              "      <td>0.881485</td>\n",
              "      <td>1.000000</td>\n",
              "    </tr>\n",
              "    <tr>\n",
              "      <th>4</th>\n",
              "      <td>4</td>\n",
              "      <td>Perdido</td>\n",
              "      <td>Thriving From A Riff</td>\n",
              "      <td>0.968009</td>\n",
              "      <td>0.969320</td>\n",
              "      <td>0.998647</td>\n",
              "    </tr>\n",
              "    <tr>\n",
              "      <th>5</th>\n",
              "      <td>5</td>\n",
              "      <td>Perdido</td>\n",
              "      <td>I Wish I Knew</td>\n",
              "      <td>0.879450</td>\n",
              "      <td>0.881485</td>\n",
              "      <td>0.997691</td>\n",
              "    </tr>\n",
              "    <tr>\n",
              "      <th>6</th>\n",
              "      <td>6</td>\n",
              "      <td>Perdido</td>\n",
              "      <td>Moose The Mooche</td>\n",
              "      <td>0.964197</td>\n",
              "      <td>0.969320</td>\n",
              "      <td>0.994714</td>\n",
              "    </tr>\n",
              "    <tr>\n",
              "      <th>7</th>\n",
              "      <td>7</td>\n",
              "      <td>Perdido</td>\n",
              "      <td>Dearly Beloved</td>\n",
              "      <td>0.844019</td>\n",
              "      <td>0.881485</td>\n",
              "      <td>0.993317</td>\n",
              "    </tr>\n",
              "    <tr>\n",
              "      <th>8</th>\n",
              "      <td>8</td>\n",
              "      <td>Perdido</td>\n",
              "      <td>Sweet Sue, Just You</td>\n",
              "      <td>0.859007</td>\n",
              "      <td>0.865229</td>\n",
              "      <td>0.992809</td>\n",
              "    </tr>\n",
              "    <tr>\n",
              "      <th>9</th>\n",
              "      <td>9</td>\n",
              "      <td>Perdido</td>\n",
              "      <td>Honeysuckle Rose</td>\n",
              "      <td>0.857753</td>\n",
              "      <td>0.865229</td>\n",
              "      <td>0.991360</td>\n",
              "    </tr>\n",
              "    <tr>\n",
              "      <th>10</th>\n",
              "      <td>10</td>\n",
              "      <td>Perdido</td>\n",
              "      <td>Cherokee</td>\n",
              "      <td>0.857009</td>\n",
              "      <td>0.881485</td>\n",
              "      <td>0.990500</td>\n",
              "    </tr>\n",
              "    <tr>\n",
              "      <th>11</th>\n",
              "      <td>11</td>\n",
              "      <td>Perdido</td>\n",
              "      <td>Thou Swell</td>\n",
              "      <td>0.855045</td>\n",
              "      <td>0.865229</td>\n",
              "      <td>0.988230</td>\n",
              "    </tr>\n",
              "    <tr>\n",
              "      <th>12</th>\n",
              "      <td>12</td>\n",
              "      <td>Perdido</td>\n",
              "      <td>Cheers</td>\n",
              "      <td>0.854801</td>\n",
              "      <td>0.865229</td>\n",
              "      <td>0.987948</td>\n",
              "    </tr>\n",
              "    <tr>\n",
              "      <th>13</th>\n",
              "      <td>13</td>\n",
              "      <td>Perdido</td>\n",
              "      <td>So What</td>\n",
              "      <td>0.863173</td>\n",
              "      <td>0.881485</td>\n",
              "      <td>0.979225</td>\n",
              "    </tr>\n",
              "    <tr>\n",
              "      <th>14</th>\n",
              "      <td>14</td>\n",
              "      <td>Perdido</td>\n",
              "      <td>Cynthia's In Love</td>\n",
              "      <td>0.849637</td>\n",
              "      <td>0.881485</td>\n",
              "      <td>0.976547</td>\n",
              "    </tr>\n",
              "    <tr>\n",
              "      <th>15</th>\n",
              "      <td>15</td>\n",
              "      <td>Perdido</td>\n",
              "      <td>Flintstones</td>\n",
              "      <td>0.944292</td>\n",
              "      <td>0.969320</td>\n",
              "      <td>0.974179</td>\n",
              "    </tr>\n",
              "    <tr>\n",
              "      <th>16</th>\n",
              "      <td>16</td>\n",
              "      <td>Perdido</td>\n",
              "      <td>Tour De Force</td>\n",
              "      <td>0.855366</td>\n",
              "      <td>0.881485</td>\n",
              "      <td>0.970369</td>\n",
              "    </tr>\n",
              "    <tr>\n",
              "      <th>17</th>\n",
              "      <td>17</td>\n",
              "      <td>Perdido</td>\n",
              "      <td>Two Not One</td>\n",
              "      <td>0.940409</td>\n",
              "      <td>0.969320</td>\n",
              "      <td>0.970174</td>\n",
              "    </tr>\n",
              "    <tr>\n",
              "      <th>18</th>\n",
              "      <td>18</td>\n",
              "      <td>Perdido</td>\n",
              "      <td>I Want To Be Happy</td>\n",
              "      <td>0.838784</td>\n",
              "      <td>0.865229</td>\n",
              "      <td>0.969436</td>\n",
              "    </tr>\n",
              "    <tr>\n",
              "      <th>19</th>\n",
              "      <td>19</td>\n",
              "      <td>Perdido</td>\n",
              "      <td>Hackensack</td>\n",
              "      <td>0.853470</td>\n",
              "      <td>0.881485</td>\n",
              "      <td>0.968218</td>\n",
              "    </tr>\n",
              "    <tr>\n",
              "      <th>20</th>\n",
              "      <td>20</td>\n",
              "      <td>Perdido</td>\n",
              "      <td>Salt Peanuts</td>\n",
              "      <td>0.938172</td>\n",
              "      <td>0.969320</td>\n",
              "      <td>0.967865</td>\n",
              "    </tr>\n",
              "    <tr>\n",
              "      <th>21</th>\n",
              "      <td>21</td>\n",
              "      <td>Perdido</td>\n",
              "      <td>Scrapple From The Apple</td>\n",
              "      <td>0.937320</td>\n",
              "      <td>0.969320</td>\n",
              "      <td>0.966987</td>\n",
              "    </tr>\n",
              "    <tr>\n",
              "      <th>22</th>\n",
              "      <td>22</td>\n",
              "      <td>Perdido</td>\n",
              "      <td>Undecided</td>\n",
              "      <td>0.834857</td>\n",
              "      <td>0.865229</td>\n",
              "      <td>0.964897</td>\n",
              "    </tr>\n",
              "    <tr>\n",
              "      <th>23</th>\n",
              "      <td>23</td>\n",
              "      <td>Perdido</td>\n",
              "      <td>Rhythm-a-ning</td>\n",
              "      <td>0.935214</td>\n",
              "      <td>0.969320</td>\n",
              "      <td>0.964814</td>\n",
              "    </tr>\n",
              "    <tr>\n",
              "      <th>24</th>\n",
              "      <td>24</td>\n",
              "      <td>Perdido</td>\n",
              "      <td>I Mean You</td>\n",
              "      <td>0.830754</td>\n",
              "      <td>0.881485</td>\n",
              "      <td>0.960155</td>\n",
              "    </tr>\n",
              "    <tr>\n",
              "      <th>25</th>\n",
              "      <td>25</td>\n",
              "      <td>Perdido</td>\n",
              "      <td>All God's Chillun Got Rhythm</td>\n",
              "      <td>0.828412</td>\n",
              "      <td>0.865229</td>\n",
              "      <td>0.957448</td>\n",
              "    </tr>\n",
              "    <tr>\n",
              "      <th>26</th>\n",
              "      <td>26</td>\n",
              "      <td>Perdido</td>\n",
              "      <td>I Love Being Here With You</td>\n",
              "      <td>0.927585</td>\n",
              "      <td>0.969320</td>\n",
              "      <td>0.956944</td>\n",
              "    </tr>\n",
              "    <tr>\n",
              "      <th>27</th>\n",
              "      <td>27</td>\n",
              "      <td>Perdido</td>\n",
              "      <td>Impressions</td>\n",
              "      <td>0.843454</td>\n",
              "      <td>0.881485</td>\n",
              "      <td>0.956855</td>\n",
              "    </tr>\n",
              "    <tr>\n",
              "      <th>28</th>\n",
              "      <td>28</td>\n",
              "      <td>Perdido</td>\n",
              "      <td>I Get A Kick Out Of You</td>\n",
              "      <td>0.811210</td>\n",
              "      <td>0.865229</td>\n",
              "      <td>0.954358</td>\n",
              "    </tr>\n",
              "    <tr>\n",
              "      <th>29</th>\n",
              "      <td>29</td>\n",
              "      <td>Perdido</td>\n",
              "      <td>All My Tomorrows</td>\n",
              "      <td>0.804942</td>\n",
              "      <td>0.845529</td>\n",
              "      <td>0.951998</td>\n",
              "    </tr>\n",
              "    <tr>\n",
              "      <th>30</th>\n",
              "      <td>30</td>\n",
              "      <td>Perdido</td>\n",
              "      <td>Well You Needn't</td>\n",
              "      <td>0.837549</td>\n",
              "      <td>0.881485</td>\n",
              "      <td>0.951043</td>\n",
              "    </tr>\n",
              "    <tr>\n",
              "      <th>31</th>\n",
              "      <td>31</td>\n",
              "      <td>Perdido</td>\n",
              "      <td>C'est Si Bon</td>\n",
              "      <td>0.803620</td>\n",
              "      <td>0.845529</td>\n",
              "      <td>0.950434</td>\n",
              "    </tr>\n",
              "    <tr>\n",
              "      <th>32</th>\n",
              "      <td>32</td>\n",
              "      <td>Perdido</td>\n",
              "      <td>Suddenly It's Spring</td>\n",
              "      <td>0.837252</td>\n",
              "      <td>0.881485</td>\n",
              "      <td>0.949819</td>\n",
              "    </tr>\n",
              "    <tr>\n",
              "      <th>33</th>\n",
              "      <td>33</td>\n",
              "      <td>Perdido</td>\n",
              "      <td>Dexterity</td>\n",
              "      <td>0.916818</td>\n",
              "      <td>0.969320</td>\n",
              "      <td>0.945836</td>\n",
              "    </tr>\n",
              "    <tr>\n",
              "      <th>34</th>\n",
              "      <td>34</td>\n",
              "      <td>Perdido</td>\n",
              "      <td>Don't Worry 'Bout Me</td>\n",
              "      <td>0.799728</td>\n",
              "      <td>0.845529</td>\n",
              "      <td>0.945831</td>\n",
              "    </tr>\n",
              "    <tr>\n",
              "      <th>35</th>\n",
              "      <td>35</td>\n",
              "      <td>Perdido</td>\n",
              "      <td>Four In One</td>\n",
              "      <td>0.818306</td>\n",
              "      <td>0.865229</td>\n",
              "      <td>0.945769</td>\n",
              "    </tr>\n",
              "    <tr>\n",
              "      <th>36</th>\n",
              "      <td>36</td>\n",
              "      <td>Perdido</td>\n",
              "      <td>Passport</td>\n",
              "      <td>0.916628</td>\n",
              "      <td>0.969320</td>\n",
              "      <td>0.945640</td>\n",
              "    </tr>\n",
              "    <tr>\n",
              "      <th>37</th>\n",
              "      <td>37</td>\n",
              "      <td>Perdido</td>\n",
              "      <td>Jersey Bounce</td>\n",
              "      <td>0.817872</td>\n",
              "      <td>0.865229</td>\n",
              "      <td>0.945267</td>\n",
              "    </tr>\n",
              "    <tr>\n",
              "      <th>38</th>\n",
              "      <td>38</td>\n",
              "      <td>Perdido</td>\n",
              "      <td>Candy</td>\n",
              "      <td>0.833125</td>\n",
              "      <td>0.881485</td>\n",
              "      <td>0.945138</td>\n",
              "    </tr>\n",
              "    <tr>\n",
              "      <th>39</th>\n",
              "      <td>39</td>\n",
              "      <td>Perdido</td>\n",
              "      <td>C.T.A.</td>\n",
              "      <td>0.915059</td>\n",
              "      <td>0.969320</td>\n",
              "      <td>0.944021</td>\n",
              "    </tr>\n",
              "    <tr>\n",
              "      <th>40</th>\n",
              "      <td>40</td>\n",
              "      <td>Perdido</td>\n",
              "      <td>Lakes</td>\n",
              "      <td>0.831859</td>\n",
              "      <td>0.881485</td>\n",
              "      <td>0.943702</td>\n",
              "    </tr>\n",
              "    <tr>\n",
              "      <th>41</th>\n",
              "      <td>41</td>\n",
              "      <td>Perdido</td>\n",
              "      <td>Shaw 'Nuff</td>\n",
              "      <td>0.914387</td>\n",
              "      <td>0.969320</td>\n",
              "      <td>0.943328</td>\n",
              "    </tr>\n",
              "    <tr>\n",
              "      <th>42</th>\n",
              "      <td>42</td>\n",
              "      <td>Perdido</td>\n",
              "      <td>Anthropology</td>\n",
              "      <td>0.912697</td>\n",
              "      <td>0.969320</td>\n",
              "      <td>0.941584</td>\n",
              "    </tr>\n",
              "    <tr>\n",
              "      <th>43</th>\n",
              "      <td>43</td>\n",
              "      <td>Perdido</td>\n",
              "      <td>So Many Stars</td>\n",
              "      <td>0.814301</td>\n",
              "      <td>0.865229</td>\n",
              "      <td>0.941139</td>\n",
              "    </tr>\n",
              "    <tr>\n",
              "      <th>44</th>\n",
              "      <td>44</td>\n",
              "      <td>Perdido</td>\n",
              "      <td>Deed I Do</td>\n",
              "      <td>0.828735</td>\n",
              "      <td>0.881485</td>\n",
              "      <td>0.940157</td>\n",
              "    </tr>\n",
              "    <tr>\n",
              "      <th>45</th>\n",
              "      <td>45</td>\n",
              "      <td>Perdido</td>\n",
              "      <td>You're Blasé</td>\n",
              "      <td>0.826651</td>\n",
              "      <td>0.881485</td>\n",
              "      <td>0.937793</td>\n",
              "    </tr>\n",
              "    <tr>\n",
              "      <th>46</th>\n",
              "      <td>46</td>\n",
              "      <td>Perdido</td>\n",
              "      <td>Down For Double</td>\n",
              "      <td>0.809876</td>\n",
              "      <td>0.865229</td>\n",
              "      <td>0.936025</td>\n",
              "    </tr>\n",
              "    <tr>\n",
              "      <th>47</th>\n",
              "      <td>47</td>\n",
              "      <td>Perdido</td>\n",
              "      <td>Mambo Inn</td>\n",
              "      <td>0.809825</td>\n",
              "      <td>0.865229</td>\n",
              "      <td>0.935966</td>\n",
              "    </tr>\n",
              "    <tr>\n",
              "      <th>48</th>\n",
              "      <td>48</td>\n",
              "      <td>Perdido</td>\n",
              "      <td>Broadway</td>\n",
              "      <td>0.808818</td>\n",
              "      <td>0.865229</td>\n",
              "      <td>0.934803</td>\n",
              "    </tr>\n",
              "    <tr>\n",
              "      <th>49</th>\n",
              "      <td>49</td>\n",
              "      <td>Perdido</td>\n",
              "      <td>Sunday</td>\n",
              "      <td>0.905895</td>\n",
              "      <td>0.969320</td>\n",
              "      <td>0.934567</td>\n",
              "    </tr>\n",
              "  </tbody>\n",
              "</table>\n",
              "</div>"
            ],
            "text/plain": [
              "    index reference  ...       max  score_div_max\n",
              "0       0   Perdido  ...  0.881485       1.000000\n",
              "1       1   Perdido  ...  0.881485       1.000000\n",
              "2       2   Perdido  ...  0.969320       1.000000\n",
              "3       3   Perdido  ...  0.881485       1.000000\n",
              "4       4   Perdido  ...  0.969320       0.998647\n",
              "5       5   Perdido  ...  0.881485       0.997691\n",
              "6       6   Perdido  ...  0.969320       0.994714\n",
              "7       7   Perdido  ...  0.881485       0.993317\n",
              "8       8   Perdido  ...  0.865229       0.992809\n",
              "9       9   Perdido  ...  0.865229       0.991360\n",
              "10     10   Perdido  ...  0.881485       0.990500\n",
              "11     11   Perdido  ...  0.865229       0.988230\n",
              "12     12   Perdido  ...  0.865229       0.987948\n",
              "13     13   Perdido  ...  0.881485       0.979225\n",
              "14     14   Perdido  ...  0.881485       0.976547\n",
              "15     15   Perdido  ...  0.969320       0.974179\n",
              "16     16   Perdido  ...  0.881485       0.970369\n",
              "17     17   Perdido  ...  0.969320       0.970174\n",
              "18     18   Perdido  ...  0.865229       0.969436\n",
              "19     19   Perdido  ...  0.881485       0.968218\n",
              "20     20   Perdido  ...  0.969320       0.967865\n",
              "21     21   Perdido  ...  0.969320       0.966987\n",
              "22     22   Perdido  ...  0.865229       0.964897\n",
              "23     23   Perdido  ...  0.969320       0.964814\n",
              "24     24   Perdido  ...  0.881485       0.960155\n",
              "25     25   Perdido  ...  0.865229       0.957448\n",
              "26     26   Perdido  ...  0.969320       0.956944\n",
              "27     27   Perdido  ...  0.881485       0.956855\n",
              "28     28   Perdido  ...  0.865229       0.954358\n",
              "29     29   Perdido  ...  0.845529       0.951998\n",
              "30     30   Perdido  ...  0.881485       0.951043\n",
              "31     31   Perdido  ...  0.845529       0.950434\n",
              "32     32   Perdido  ...  0.881485       0.949819\n",
              "33     33   Perdido  ...  0.969320       0.945836\n",
              "34     34   Perdido  ...  0.845529       0.945831\n",
              "35     35   Perdido  ...  0.865229       0.945769\n",
              "36     36   Perdido  ...  0.969320       0.945640\n",
              "37     37   Perdido  ...  0.865229       0.945267\n",
              "38     38   Perdido  ...  0.881485       0.945138\n",
              "39     39   Perdido  ...  0.969320       0.944021\n",
              "40     40   Perdido  ...  0.881485       0.943702\n",
              "41     41   Perdido  ...  0.969320       0.943328\n",
              "42     42   Perdido  ...  0.969320       0.941584\n",
              "43     43   Perdido  ...  0.865229       0.941139\n",
              "44     44   Perdido  ...  0.881485       0.940157\n",
              "45     45   Perdido  ...  0.881485       0.937793\n",
              "46     46   Perdido  ...  0.865229       0.936025\n",
              "47     47   Perdido  ...  0.865229       0.935966\n",
              "48     48   Perdido  ...  0.865229       0.934803\n",
              "49     49   Perdido  ...  0.969320       0.934567\n",
              "\n",
              "[50 rows x 6 columns]"
            ]
          },
          "metadata": {},
          "execution_count": 88
        }
      ]
    },
    {
      "cell_type": "code",
      "metadata": {
        "id": "hLFaFo62XlMS",
        "colab": {
          "base_uri": "https://localhost:8080/"
        },
        "outputId": "44626e9d-be62-4558-9e49-e22b6eb036c0"
      },
      "source": [
        "dd = pd.DataFrame(columns = recommender_results_cols)\n",
        "\n",
        "for tune in tunes_eval_list:\n",
        "  result, details = recommend_tune(df_sim, tune)\n",
        "  dd['id'] = result['index']\n",
        "  dd['reference'] = tune\n",
        "  dd['method'] = 'doc2vec'\n",
        "  dd['similar'] = result['similar_title']\n",
        "  dd['score_div_max'] = result['score_div_max']\n",
        "  dd['score'] = result['score']\n",
        "\n",
        "recommender_results = recommender_results.append(dd)\n",
        "len(recommender_results)"
      ],
      "execution_count": 89,
      "outputs": [
        {
          "output_type": "execute_result",
          "data": {
            "text/plain": [
              "178"
            ]
          },
          "metadata": {},
          "execution_count": 89
        }
      ]
    },
    {
      "cell_type": "markdown",
      "metadata": {
        "id": "aosPKEWljlm0"
      },
      "source": [
        "### Contrafacts"
      ]
    },
    {
      "cell_type": "code",
      "metadata": {
        "id": "SaYSqTJokGc5"
      },
      "source": [
        "def test_doc2vec_contrafacts(tunes, N=15):\n",
        "  matches = 0\n",
        "  number_of_sections = 0\n",
        "  results = {}\n",
        "\n",
        "  for tune, similar_tune in contrafacts.items():\n",
        "    \n",
        "    # loop over all sections of the tune\n",
        "    sub_match = 0\n",
        "    for s1 in title_to_sectionid[tune]:\n",
        "      sims = model.dv.similar_by_key(s1, topn=N)\n",
        "      # check if the section matches the expected title; consider only the first 15 recommendations\n",
        "      i = 0\n",
        "      for match, value in sims:\n",
        "        # tune match\n",
        "        if (type(match) == str):\n",
        "          titleid = int(match.replace('titleid_', ''))\n",
        "          if titleid_to_title[titleid] == similar_tune:\n",
        "            sub_match += 1\n",
        "\n",
        "        # section match\n",
        "        else:\n",
        "          if sectionid_to_title[match] == similar_tune:\n",
        "            sub_match += 1\n",
        "\n",
        "    # for each title, increase matches if at least one of the section matched the expected title\n",
        "    if sub_match > 0:\n",
        "      matches += 1  \n",
        "      results[tune] = 1\n",
        "    else:\n",
        "      results[tune] = 0\n",
        "  \n",
        "  return matches, results"
      ],
      "execution_count": 90,
      "outputs": []
    },
    {
      "cell_type": "code",
      "metadata": {
        "colab": {
          "base_uri": "https://localhost:8080/"
        },
        "id": "eAjM3lU4ltzP",
        "outputId": "6add5a00-0fb8-44f4-c7c1-38cb91ed337a"
      },
      "source": [
        "topN = 15\n",
        "matches, results = test_doc2vec_contrafacts(contrafacts, topN)\n",
        "\n",
        "[print(f\"{val}: {rr}\") for rr, val in results.items()] \n",
        "print() \n",
        "print(f\"Found matches: {matches} out of {len(contrafacts)}: {100*matches/len(contrafacts):.3f}%\")"
      ],
      "execution_count": 91,
      "outputs": [
        {
          "output_type": "stream",
          "name": "stdout",
          "text": [
            "0: 26-2\n",
            "0: 52nd Street Theme\n",
            "1: Ablution\n",
            "1: Anthropology\n",
            "1: Ballade\n",
            "1: Bright Mississippi\n",
            "1: C.T.A.\n",
            "0: Celia\n",
            "1: Cottontail\n",
            "1: Countdown\n",
            "0: Dewey Square\n",
            "1: Dexterity\n",
            "1: Dig\n",
            "1: Donna Lee\n",
            "0: Don't Be That Way\n",
            "0: Eternal Triangle\n",
            "1: Evidence\n",
            "0: Flintstones\n",
            "0: Four On Six\n",
            "0: Freight Train\n",
            "0: Good Bait\n",
            "0: Hackensack\n",
            "1: Half Nelson\n",
            "1: Hot House\n",
            "1: Impressions\n",
            "1: In A Mellow Tone (In A Mellotone)\n",
            "1: In Walked Bud\n",
            "1: Ko Ko\n",
            "0: Lennie's Pennies\n",
            "0: Little Rootie Tootie\n",
            "0: Little Willie Leaps\n",
            "0: Lullaby Of Birdland\n",
            "0: Moose The Mooche\n",
            "0: My Little Suede Shoes\n",
            "1: Oleo\n",
            "1: Ornithology\n",
            "0: Passport\n",
            "0: Quasimodo (Theme)\n",
            "0: Rhythm-a-ning\n",
            "0: Room 608\n",
            "1: Salt Peanuts\n",
            "0: Satellite\n",
            "0: Scrapple From The Apple\n",
            "0: Seven Come Eleven\n",
            "1: Shaw 'Nuff\n",
            "1: Theme, The\n",
            "1: Tour De Force\n",
            "1: Wow\n",
            "1: Yardbird Suite\n",
            "0: Sweet Sue, Just You\n",
            "0: These Foolish Things\n",
            "0: Misty\n",
            "\n",
            "Found matches: 25 out of 52: 48.077%\n"
          ]
        }
      ]
    },
    {
      "cell_type": "code",
      "metadata": {
        "id": "8C0kzj0Jp425"
      },
      "source": [
        "if use_wandb:\n",
        "  wandb.log({'doc2vec': {\n",
        "      'contrafacts': {\n",
        "          'topN': topN,\n",
        "          'success': matches/len(contrafacts),\n",
        "          #'results': results\n",
        "      }\n",
        "  }})"
      ],
      "execution_count": 92,
      "outputs": []
    },
    {
      "cell_type": "markdown",
      "metadata": {
        "id": "ryEvGZqYDsMb"
      },
      "source": [
        "## Document Similarity\n"
      ]
    },
    {
      "cell_type": "markdown",
      "metadata": {
        "id": "aHHyAjtljQon"
      },
      "source": [
        "### Single Tunes"
      ]
    },
    {
      "cell_type": "markdown",
      "metadata": {
        "id": "o-eOM9DiFdAt"
      },
      "source": [
        "The TitleId is tagged with the prefix `title_id`, so that it can be distinguished from the sectionid tags, which are numeric."
      ]
    },
    {
      "cell_type": "code",
      "metadata": {
        "colab": {
          "base_uri": "https://localhost:8080/"
        },
        "id": "KRd6qAdY5Z4g",
        "outputId": "3b99e1b6-9ef8-4bfd-bd6b-56afe1d904ee"
      },
      "source": [
        "tunes_eval_list"
      ],
      "execution_count": 93,
      "outputs": [
        {
          "output_type": "execute_result",
          "data": {
            "text/plain": [
              "[\"After You've Gone\",\n",
              " \"All God's Chillun Got Rhythm\",\n",
              " 'All Of Me',\n",
              " 'Blood Count',\n",
              " 'Blue Moon',\n",
              " 'But Beautiful',\n",
              " 'Bye Bye Blackbird',\n",
              " 'Call Me Irresponsible',\n",
              " 'Corcovado',\n",
              " 'Dinah',\n",
              " 'East Of The Sun',\n",
              " 'Footprints',\n",
              " 'Giant Steps',\n",
              " 'Honeysuckle Rose',\n",
              " 'I Got Rhythm',\n",
              " 'Misty',\n",
              " 'Naima',\n",
              " 'Old Fashioned Love',\n",
              " 'Perdido',\n",
              " \"Rockin' Chair\",\n",
              " 'Sophisticated Lady',\n",
              " 'Sweet Sue, Just You',\n",
              " 'These Foolish Things',\n",
              " \"We'll Be Together Again\"]"
            ]
          },
          "metadata": {},
          "execution_count": 93
        }
      ]
    },
    {
      "cell_type": "code",
      "metadata": {
        "colab": {
          "base_uri": "https://localhost:8080/"
        },
        "id": "sHWTJtJ_HyoJ",
        "outputId": "ab4c3fe8-0ff8-413c-88aa-457460e16a33"
      },
      "source": [
        "# convert titles to titleid; if multiple tunes with same title, takes the first one. \n",
        "titleid_eval = []\n",
        "for title in tunes_eval_list:\n",
        "  titleid_eval.append(titles.query(f'title == \"{title}\"').reset_index().loc[0,'tune_id'])\n",
        "titleid_eval"
      ],
      "execution_count": 94,
      "outputs": [
        {
          "output_type": "execute_result",
          "data": {
            "text/plain": [
              "[38,\n",
              " 57,\n",
              " 60,\n",
              " 149,\n",
              " 159,\n",
              " 199,\n",
              " 206,\n",
              " 213,\n",
              " 257,\n",
              " 308,\n",
              " 341,\n",
              " 392,\n",
              " 425,\n",
              " 472,\n",
              " 505,\n",
              " 805,\n",
              " 859,\n",
              " 1639,\n",
              " 949,\n",
              " 993,\n",
              " 1080,\n",
              " 1136,\n",
              " 1168,\n",
              " 1257]"
            ]
          },
          "metadata": {},
          "execution_count": 94
        }
      ]
    },
    {
      "cell_type": "code",
      "metadata": {
        "colab": {
          "base_uri": "https://localhost:8080/"
        },
        "id": "XKO9wonAHsch",
        "outputId": "698d12ab-3706-4463-9792-57b72e962069"
      },
      "source": [
        "for titleid in titleid_eval:\n",
        "  print()\n",
        "  print(titleid_to_title[titleid])\n",
        "  sims = model.dv.similar_by_key(f'titleid_{titleid}', topn=30)\n",
        "  for key, value in sims:\n",
        "    if type(key) == str:  # only display document similarities, skip all section similarities\n",
        "      print(f\"{value:.3f} {titleid_to_title[int(key.replace('titleid_', ''))]}\")\n"
      ],
      "execution_count": 95,
      "outputs": [
        {
          "output_type": "stream",
          "name": "stdout",
          "text": [
            "\n",
            "After You've Gone\n",
            "0.822 In A Mellow Tone (In A Mellotone)\n",
            "0.785 Deed I Do\n",
            "0.773 All Of You\n",
            "0.773 There'll Be Some Changes Made\n",
            "0.761 Ko Ko\n",
            "0.760 Good Life, The\n",
            "0.757 I've Heard That Song Before\n",
            "0.754 Cherokee\n",
            "0.751 Minnie The Moocher\n",
            "0.751 Out Of Nowhere\n",
            "0.748 Perdido\n",
            "0.747 I'll See You In My Dreams\n",
            "\n",
            "All God's Chillun Got Rhythm\n",
            "0.797 At Last\n",
            "0.795 Too Young To Go Steady\n",
            "0.781 Diane\n",
            "0.779 Bossa Antigua\n",
            "0.776 Jeepers Creepers\n",
            "0.771 Again\n",
            "0.766 Cottontail\n",
            "0.761 Blue Blood Blues\n",
            "0.758 You Go To My Head\n",
            "0.758 Minor Mishap\n",
            "0.757 Fools Rush In\n",
            "0.757 Emily\n",
            "\n",
            "All Of Me\n",
            "0.836 Four\n",
            "0.829 Dear Lord\n",
            "0.824 You're Nobody Till Somebody Loves You\n",
            "0.821 Litha\n",
            "0.813 Equinox\n",
            "0.805 Like Sonny\n",
            "0.803 Spain\n",
            "0.802 Best Things In Life Are Free, The\n",
            "0.799 Mr. P.C.\n",
            "0.788 Bei Mir Bist Du Schon (Root Hog Or Die)\n",
            "0.787 A Weaver Of Dreams\n",
            "\n",
            "Blood Count\n",
            "0.835 Played Twice\n",
            "0.817 Naima\n",
            "0.764 A Sound For Sore Ears\n",
            "0.733 Toys\n",
            "0.727 Hesitating Blues\n",
            "\n",
            "Blue Moon\n",
            "0.824 Fools Rush In\n",
            "0.799 Why Do I Love You\n",
            "0.793 Touch Of Your Lips, The\n",
            "0.792 Too Young To Go Steady\n",
            "0.790 Polkadots And Moonbeams\n",
            "\n",
            "But Beautiful\n",
            "0.791 A Beautiful Friendship\n",
            "0.781 Sometime Ago\n",
            "0.780 P.S. I Love You\n",
            "0.768 I May Be Wrong\n",
            "0.754 It Could Happen To You\n",
            "0.752 Blue Daniel\n",
            "0.744 Rosetta\n",
            "0.744 There'll Be Some Changes Made\n",
            "0.744 Too Young To Go Steady\n",
            "0.739 Work Song\n",
            "\n",
            "Bye Bye Blackbird\n",
            "0.887 Afternoon In Paris\n",
            "0.822 Somebody Loves Me\n",
            "0.819 One I Love (Belongs To Somebody Else), The\n",
            "0.816 Hocus-Pocus\n",
            "0.814 Pretend\n",
            "0.799 S'posin'\n",
            "\n",
            "Call Me Irresponsible\n",
            "0.827 Into Each Life Some Rain Must Fall\n",
            "0.793 Nevertheless\n",
            "0.785 Poor Butterfly\n",
            "0.781 It's De-lovely\n",
            "0.763 You Took Advantage Of Me\n",
            "0.763 Birth Of The Blues, The\n",
            "0.759 Birth Of The Blues, The\n",
            "\n",
            "Corcovado\n",
            "0.804 Minoat\n",
            "0.797 What Are You Doing The Rest Of Your Life\n",
            "0.791 From This Moment On\n",
            "0.782 My Heart Belongs To Daddy\n",
            "0.780 O Grande Amor\n",
            "0.778 Comes Love\n",
            "0.776 Close Your Eyes\n",
            "0.772 Idle Moments\n",
            "0.764 Serpent's Tooth\n",
            "\n",
            "Dinah\n",
            "0.788 Ol' Man River\n",
            "0.787 Where Or When\n",
            "0.760 Flying Home\n",
            "0.741 Take Five\n",
            "0.735 It's Magic\n",
            "0.735 Look To The Rainbow\n",
            "0.733 Blue Champagne\n",
            "0.732 I Like The Likes Of You\n",
            "0.725 When It Rains\n",
            "\n",
            "East Of The Sun\n",
            "0.857 Four\n",
            "0.830 Equinox\n",
            "0.830 Out Of Nowhere\n",
            "0.816 My Monday Date\n",
            "0.816 Day By Day\n",
            "0.810 Mr. P.C.\n",
            "0.806 On A Clear Day\n",
            "0.806 Out Of Nowhere\n",
            "0.804 When You're Smiling\n",
            "0.798 Bags and Trane\n",
            "0.798 Ko Ko\n",
            "0.797 Phase Dance\n",
            "0.797 Sweet Sue, Just You\n",
            "0.797 Bohemia After Dark\n",
            "0.794 You're Nobody Till Somebody Loves You\n",
            "0.794 Gregory Is Here\n",
            "\n",
            "Footprints\n",
            "0.959 Phase Dance\n",
            "0.955 Little Sunflower\n",
            "0.950 Nutville\n",
            "0.933 Song For My Father\n",
            "0.933 Bags and Trane\n",
            "0.929 Equinox\n",
            "0.929 So What\n",
            "0.927 Cantaloupe Island\n",
            "0.926 Milestones (New)\n",
            "\n",
            "Giant Steps\n",
            "0.879 Bossa Antigua\n",
            "0.868 Baubles, Bangles and Beads\n",
            "0.863 Minnie The Moocher\n",
            "0.862 Friday The 13th\n",
            "0.860 Lover\n",
            "0.859 Parker's Mood\n",
            "\n",
            "Honeysuckle Rose\n",
            "0.967 Honeysuckle Rose\n",
            "0.875 Pfrancing (No Blues)\n",
            "0.864 Thou Swell\n",
            "0.860 Move\n",
            "0.857 Barbados\n",
            "0.855 Fever\n",
            "\n",
            "I Got Rhythm\n",
            "0.976 I Got Rhythm\n",
            "0.839 Cottontail\n",
            "0.821 At Last\n",
            "0.796 I Wish I Were In Love Again\n",
            "0.795 All Too Soon\n",
            "0.795 Let's Fall In Love\n",
            "0.781 Get Happy\n",
            "0.773 Forever Sonny\n",
            "0.773 Jeepers Creepers\n",
            "0.766 Oh, Lady Be Good\n",
            "\n",
            "Misty\n",
            "0.841 I Remember You\n",
            "0.823 You Go To My Head\n",
            "0.820 Too Young To Go Steady\n",
            "0.818 Again\n",
            "0.814 Portrait Of Jennie\n",
            "0.808 Deed I Do\n",
            "0.804 I May Be Wrong\n",
            "0.804 Soon\n",
            "0.800 Rosetta\n",
            "0.793 Touch Of Your Lips, The\n",
            "0.792 Lover\n",
            "0.791 Sonnymoon For Two\n",
            "0.791 Take The A Train\n",
            "\n",
            "Naima\n",
            "0.881 Played Twice\n",
            "0.840 Pensativa\n",
            "0.820 One Note Samba\n",
            "0.817 Blood Count\n",
            "0.814 Sorcerer, The\n",
            "0.809 Minnie The Moocher\n",
            "0.798 Core, The\n",
            "0.796 Celia\n",
            "\n",
            "Old Fashioned Love\n",
            "0.786 Louisiana Fairytale\n",
            "0.772 We Shall Not Be Moved\n",
            "0.763 Rent Party Blues\n",
            "0.753 No Moon At All\n",
            "0.751 Indiana\n",
            "0.736 Aged And Mellow Blues\n",
            "0.732 Little Waltz\n",
            "0.726 Moondance\n",
            "0.722 Golden Earring\n",
            "0.722 What A Wonderful World\n",
            "\n",
            "Perdido\n",
            "0.898 You Can Depend On Me\n",
            "0.898 You Can Depend On Me\n",
            "0.886 Easy To Love\n",
            "0.877 I Get A Kick Out Of You\n",
            "0.875 Take The A Train\n",
            "0.863 Cherokee\n",
            "0.861 Ko Ko\n",
            "0.861 Well You Needn't\n",
            "0.852 There'll Be Some Changes Made\n",
            "0.852 All Of You\n",
            "0.850 Hungaria\n",
            "0.849 No Moe\n",
            "0.848 You Do Something To Me\n",
            "\n",
            "Rockin' Chair\n",
            "0.818 Undecided\n",
            "0.785 Limehouse Blues\n",
            "0.778 Straighten Up And Fly Right\n",
            "0.774 I'll See You In My Dreams\n",
            "0.770 Frim Fram Sauce, The\n",
            "0.768 Hallucinations\n",
            "0.766 You Do Something To Me\n",
            "0.765 A Smooth One\n",
            "0.758 Sentimental Journey\n",
            "0.751 Só Danço Samba\n",
            "0.750 Jersey Bounce\n",
            "0.749 Stormy Weather\n",
            "\n",
            "Sophisticated Lady\n",
            "0.798 Killer Joe\n",
            "0.786 It Could Happen To You\n",
            "0.778 Rosetta\n",
            "0.771 Decision\n",
            "0.770 Easy To Love\n",
            "0.768 If I Had You\n",
            "0.765 This Time The Dream's On Me\n",
            "0.765 A Beautiful Friendship\n",
            "\n",
            "Sweet Sue, Just You\n",
            "0.823 My Secret Love\n",
            "0.822 Dearly Beloved\n",
            "0.818 Get Me To The Church On Time\n",
            "0.813 Four\n",
            "0.812 Ko Ko\n",
            "0.808 Idaho\n",
            "0.805 Ladies Of Calcutta, The\n",
            "0.804 I Mean You\n",
            "0.800 Cherokee\n",
            "0.799 Rosalie\n",
            "\n",
            "These Foolish Things\n",
            "0.719 Where Are You\n",
            "0.716 Don't Be That Way\n",
            "0.712 Charleston, The\n",
            "0.710 You Took Advantage Of Me\n",
            "0.708 S' Wonderful\n",
            "0.707 If I Had You\n",
            "0.706 New Orleans\n",
            "0.704 Sunday\n",
            "0.698 Cheetah\n",
            "0.698 Put On A Happy Face\n",
            "0.697 Fools Rush In\n",
            "0.694 Heart And Soul\n",
            "\n",
            "We'll Be Together Again\n",
            "0.788 Street Of Dreams\n",
            "0.779 Goodbye\n",
            "0.734 My Ideal\n",
            "0.724 C'est Si Bon\n",
            "0.723 Blue Champagne\n",
            "0.720 Early Autumn\n",
            "0.719 Dream A Little Dream Of Me\n",
            "0.717 Be Careful It's My Heart\n",
            "0.712 Flamingo\n"
          ]
        }
      ]
    },
    {
      "cell_type": "markdown",
      "metadata": {
        "id": "XmDZT5t7gjgV"
      },
      "source": [
        "# Venn diagrams for Results"
      ]
    },
    {
      "cell_type": "code",
      "metadata": {
        "id": "1YJ5FLt-2WS4"
      },
      "source": [
        "import matplotlib.pyplot as plt\n",
        "from matplotlib_venn import venn3"
      ],
      "execution_count": 96,
      "outputs": []
    },
    {
      "cell_type": "code",
      "metadata": {
        "id": "U6WrsBcc00ar",
        "colab": {
          "base_uri": "https://localhost:8080/",
          "height": 1000
        },
        "outputId": "d3f848cb-2b62-4815-9234-5bc881466453"
      },
      "source": [
        "for tune in tunes_eval_list:\n",
        "  df, details = recommend_tune(df_tfidf, tune)\n",
        "  tfidf_tunes = list(df.head(30).loc[:,'similar_title'])\n",
        "\n",
        "  df, details = recommend_tune(df_lsi, tune)\n",
        "  lsi_tunes = list(df.head(30).loc[:,'similar_title'])\n",
        "\n",
        "  df, details = recommend_tune(df_word2vec, tune)\n",
        "  word2vec_tunes = list(df.head(30).loc[:,'similar_title'])\n",
        "\n",
        "  set_tfidf = set(tfidf_tunes)\n",
        "  set_lsi = set(lsi_tunes)\n",
        "  set_word2vec = set(word2vec_tunes)\n",
        "\n",
        "  venn3([set_tfidf, set_lsi, set_word2vec], \n",
        "        set_labels=('TF-IDF', 'LSI', 'Doc2Vec'),\n",
        "        )\n",
        "  plt.title(f\"{tune}\")\n",
        "  plt.savefig('plot.png')\n",
        "  \n",
        "  if use_wandb:\n",
        "    wandb.log({\"venn_methods\": wandb.Image('plot.png')})\n",
        "  \n",
        "  plt.show()"
      ],
      "execution_count": 97,
      "outputs": [
        {
          "output_type": "display_data",
          "data": {
            "image/png": "[encoded data removed]",
            "text/plain": [
              "<Figure size 432x288 with 1 Axes>"
            ]
          },
          "metadata": {}
        },
        {
          "output_type": "display_data",
          "data": {
            "image/png": "[encoded data removed]",
            "text/plain": [
              "<Figure size 432x288 with 1 Axes>"
            ]
          },
          "metadata": {}
        },
        {
          "output_type": "display_data",
          "data": {
            "image/png": "[encoded data removed]",
            "text/plain": [
              "<Figure size 432x288 with 1 Axes>"
            ]
          },
          "metadata": {}
        },
        {
          "output_type": "display_data",
          "data": {
            "image/png": "[encoded data removed]",
            "text/plain": [
              "<Figure size 432x288 with 1 Axes>"
            ]
          },
          "metadata": {}
        },
        {
          "output_type": "display_data",
          "data": {
            "image/png": "[encoded data removed]",
            "text/plain": [
              "<Figure size 432x288 with 1 Axes>"
            ]
          },
          "metadata": {}
        },
        {
          "output_type": "display_data",
          "data": {
            "image/png": "[encoded data removed]",
            "text/plain": [
              "<Figure size 432x288 with 1 Axes>"
            ]
          },
          "metadata": {}
        },
        {
          "output_type": "display_data",
          "data": {
            "image/png": "[encoded data removed]",
            "text/plain": [
              "<Figure size 432x288 with 1 Axes>"
            ]
          },
          "metadata": {}
        },
        {
          "output_type": "display_data",
          "data": {
            "image/png": "[encoded data removed]",
            "text/plain": [
              "<Figure size 432x288 with 1 Axes>"
            ]
          },
          "metadata": {}
        },
        {
          "output_type": "display_data",
          "data": {
            "image/png": "[encoded data removed]",
            "text/plain": [
              "<Figure size 432x288 with 1 Axes>"
            ]
          },
          "metadata": {}
        },
        {
          "output_type": "display_data",
          "data": {
            "image/png": "[encoded data removed]",
            "text/plain": [
              "<Figure size 432x288 with 1 Axes>"
            ]
          },
          "metadata": {}
        },
        {
          "output_type": "display_data",
          "data": {
            "image/png": "[encoded data removed]",
            "text/plain": [
              "<Figure size 432x288 with 1 Axes>"
            ]
          },
          "metadata": {}
        },
        {
          "output_type": "display_data",
          "data": {
            "image/png": "[encoded data removed]",
            "text/plain": [
              "<Figure size 432x288 with 1 Axes>"
            ]
          },
          "metadata": {}
        },
        {
          "output_type": "display_data",
          "data": {
            "image/png": "[encoded data removed]",
            "text/plain": [
              "<Figure size 432x288 with 1 Axes>"
            ]
          },
          "metadata": {}
        },
        {
          "output_type": "display_data",
          "data": {
            "image/png": "[encoded data removed]",
            "text/plain": [
              "<Figure size 432x288 with 1 Axes>"
            ]
          },
          "metadata": {}
        },
        {
          "output_type": "display_data",
          "data": {
            "image/png": "[encoded data removed]",
            "text/plain": [
              "<Figure size 432x288 with 1 Axes>"
            ]
          },
          "metadata": {}
        },
        {
          "output_type": "display_data",
          "data": {
            "image/png": "[encoded data removed]",
            "text/plain": [
              "<Figure size 432x288 with 1 Axes>"
            ]
          },
          "metadata": {}
        },
        {
          "output_type": "display_data",
          "data": {
            "image/png": "[encoded data removed]",
            "text/plain": [
              "<Figure size 432x288 with 1 Axes>"
            ]
          },
          "metadata": {}
        },
        {
          "output_type": "display_data",
          "data": {
            "image/png": "[encoded data removed]",
            "text/plain": [
              "<Figure size 432x288 with 1 Axes>"
            ]
          },
          "metadata": {}
        },
        {
          "output_type": "display_data",
          "data": {
            "image/png": "[encoded data removed]",
            "text/plain": [
              "<Figure size 432x288 with 1 Axes>"
            ]
          },
          "metadata": {}
        },
        {
          "output_type": "display_data",
          "data": {
            "image/png": "[encoded data removed]",
            "text/plain": [
              "<Figure size 432x288 with 1 Axes>"
            ]
          },
          "metadata": {}
        },
        {
          "output_type": "display_data",
          "data": {
            "image/png": "[encoded data removed]",
            "text/plain": [
              "<Figure size 432x288 with 1 Axes>"
            ]
          },
          "metadata": {}
        },
        {
          "output_type": "display_data",
          "data": {
            "image/png": "[encoded data removed]",
            "text/plain": [
              "<Figure size 432x288 with 1 Axes>"
            ]
          },
          "metadata": {}
        },
        {
          "output_type": "display_data",
          "data": {
            "image/png": "[encoded data removed]",
            "text/plain": [
              "<Figure size 432x288 with 1 Axes>"
            ]
          },
          "metadata": {}
        },
        {
          "output_type": "display_data",
          "data": {
            "image/png": "[encoded data removed]",
            "text/plain": [
              "<Figure size 432x288 with 1 Axes>"
            ]
          },
          "metadata": {}
        }
      ]
    },
    {
      "cell_type": "markdown",
      "metadata": {
        "id": "RhOWHSEU0DQH"
      },
      "source": [
        "# W&B Logging and Finish"
      ]
    },
    {
      "cell_type": "code",
      "metadata": {
        "colab": {
          "base_uri": "https://localhost:8080/",
          "height": 424
        },
        "id": "9yt-cob54ZzN",
        "outputId": "28d6033e-2756-48eb-d85d-80283c28f57a"
      },
      "source": [
        "recommender_results"
      ],
      "execution_count": 98,
      "outputs": [
        {
          "output_type": "execute_result",
          "data": {
            "text/html": [
              "<div>\n",
              "<style scoped>\n",
              "    .dataframe tbody tr th:only-of-type {\n",
              "        vertical-align: middle;\n",
              "    }\n",
              "\n",
              "    .dataframe tbody tr th {\n",
              "        vertical-align: top;\n",
              "    }\n",
              "\n",
              "    .dataframe thead th {\n",
              "        text-align: right;\n",
              "    }\n",
              "</style>\n",
              "<table border=\"1\" class=\"dataframe\">\n",
              "  <thead>\n",
              "    <tr style=\"text-align: right;\">\n",
              "      <th></th>\n",
              "      <th>reference</th>\n",
              "      <th>id</th>\n",
              "      <th>method</th>\n",
              "      <th>similar</th>\n",
              "      <th>score_div_max</th>\n",
              "      <th>score</th>\n",
              "    </tr>\n",
              "  </thead>\n",
              "  <tbody>\n",
              "    <tr>\n",
              "      <th>0</th>\n",
              "      <td>We'll Be Together Again</td>\n",
              "      <td>0.0</td>\n",
              "      <td>tfidf</td>\n",
              "      <td>Don't Know Why</td>\n",
              "      <td>1.000000</td>\n",
              "      <td>0.281678</td>\n",
              "    </tr>\n",
              "    <tr>\n",
              "      <th>1</th>\n",
              "      <td>We'll Be Together Again</td>\n",
              "      <td>1.0</td>\n",
              "      <td>tfidf</td>\n",
              "      <td>Street Of Dreams</td>\n",
              "      <td>1.000000</td>\n",
              "      <td>0.422561</td>\n",
              "    </tr>\n",
              "    <tr>\n",
              "      <th>2</th>\n",
              "      <td>We'll Be Together Again</td>\n",
              "      <td>2.0</td>\n",
              "      <td>tfidf</td>\n",
              "      <td>Don't Blame Me</td>\n",
              "      <td>0.913268</td>\n",
              "      <td>0.257248</td>\n",
              "    </tr>\n",
              "    <tr>\n",
              "      <th>3</th>\n",
              "      <td>We'll Be Together Again</td>\n",
              "      <td>3.0</td>\n",
              "      <td>tfidf</td>\n",
              "      <td>Straight Street</td>\n",
              "      <td>0.890178</td>\n",
              "      <td>0.250744</td>\n",
              "    </tr>\n",
              "    <tr>\n",
              "      <th>4</th>\n",
              "      <td>We'll Be Together Again</td>\n",
              "      <td>4.0</td>\n",
              "      <td>tfidf</td>\n",
              "      <td>Goodbye</td>\n",
              "      <td>0.821184</td>\n",
              "      <td>0.347000</td>\n",
              "    </tr>\n",
              "    <tr>\n",
              "      <th>...</th>\n",
              "      <td>...</td>\n",
              "      <td>...</td>\n",
              "      <td>...</td>\n",
              "      <td>...</td>\n",
              "      <td>...</td>\n",
              "      <td>...</td>\n",
              "    </tr>\n",
              "    <tr>\n",
              "      <th>58</th>\n",
              "      <td>We'll Be Together Again</td>\n",
              "      <td>NaN</td>\n",
              "      <td>doc2vec</td>\n",
              "      <td>NaN</td>\n",
              "      <td>NaN</td>\n",
              "      <td>NaN</td>\n",
              "    </tr>\n",
              "    <tr>\n",
              "      <th>59</th>\n",
              "      <td>We'll Be Together Again</td>\n",
              "      <td>NaN</td>\n",
              "      <td>doc2vec</td>\n",
              "      <td>NaN</td>\n",
              "      <td>NaN</td>\n",
              "      <td>NaN</td>\n",
              "    </tr>\n",
              "    <tr>\n",
              "      <th>60</th>\n",
              "      <td>We'll Be Together Again</td>\n",
              "      <td>NaN</td>\n",
              "      <td>doc2vec</td>\n",
              "      <td>NaN</td>\n",
              "      <td>NaN</td>\n",
              "      <td>NaN</td>\n",
              "    </tr>\n",
              "    <tr>\n",
              "      <th>61</th>\n",
              "      <td>We'll Be Together Again</td>\n",
              "      <td>NaN</td>\n",
              "      <td>doc2vec</td>\n",
              "      <td>NaN</td>\n",
              "      <td>NaN</td>\n",
              "      <td>NaN</td>\n",
              "    </tr>\n",
              "    <tr>\n",
              "      <th>62</th>\n",
              "      <td>We'll Be Together Again</td>\n",
              "      <td>NaN</td>\n",
              "      <td>doc2vec</td>\n",
              "      <td>NaN</td>\n",
              "      <td>NaN</td>\n",
              "      <td>NaN</td>\n",
              "    </tr>\n",
              "  </tbody>\n",
              "</table>\n",
              "<p>178 rows × 6 columns</p>\n",
              "</div>"
            ],
            "text/plain": [
              "                  reference   id  ... score_div_max     score\n",
              "0   We'll Be Together Again  0.0  ...      1.000000  0.281678\n",
              "1   We'll Be Together Again  1.0  ...      1.000000  0.422561\n",
              "2   We'll Be Together Again  2.0  ...      0.913268  0.257248\n",
              "3   We'll Be Together Again  3.0  ...      0.890178  0.250744\n",
              "4   We'll Be Together Again  4.0  ...      0.821184  0.347000\n",
              "..                      ...  ...  ...           ...       ...\n",
              "58  We'll Be Together Again  NaN  ...           NaN       NaN\n",
              "59  We'll Be Together Again  NaN  ...           NaN       NaN\n",
              "60  We'll Be Together Again  NaN  ...           NaN       NaN\n",
              "61  We'll Be Together Again  NaN  ...           NaN       NaN\n",
              "62  We'll Be Together Again  NaN  ...           NaN       NaN\n",
              "\n",
              "[178 rows x 6 columns]"
            ]
          },
          "metadata": {},
          "execution_count": 98
        }
      ]
    },
    {
      "cell_type": "code",
      "metadata": {
        "id": "Qm7BPMM_ihop",
        "colab": {
          "base_uri": "https://localhost:8080/",
          "height": 791
        },
        "outputId": "7d028401-e8d3-4987-cbd1-563b756c9ea3"
      },
      "source": [
        "recommender_results = recommender_results.reset_index()\n",
        "\n",
        "results = recommender_results.pivot(index=['index', 'reference', 'similar'], columns='method', values=['id', 'score', 'score_div_max'])\n",
        "results.columns = ['_'.join(col) for col in results.columns]\n",
        "results = results.reset_index()\n",
        "results"
      ],
      "execution_count": 99,
      "outputs": [
        {
          "output_type": "execute_result",
          "data": {
            "text/html": [
              "<div>\n",
              "<style scoped>\n",
              "    .dataframe tbody tr th:only-of-type {\n",
              "        vertical-align: middle;\n",
              "    }\n",
              "\n",
              "    .dataframe tbody tr th {\n",
              "        vertical-align: top;\n",
              "    }\n",
              "\n",
              "    .dataframe thead th {\n",
              "        text-align: right;\n",
              "    }\n",
              "</style>\n",
              "<table border=\"1\" class=\"dataframe\">\n",
              "  <thead>\n",
              "    <tr style=\"text-align: right;\">\n",
              "      <th></th>\n",
              "      <th>index</th>\n",
              "      <th>reference</th>\n",
              "      <th>similar</th>\n",
              "      <th>id_doc2vec</th>\n",
              "      <th>id_lsi</th>\n",
              "      <th>id_tfidf</th>\n",
              "      <th>score_doc2vec</th>\n",
              "      <th>score_lsi</th>\n",
              "      <th>score_tfidf</th>\n",
              "      <th>score_div_max_doc2vec</th>\n",
              "      <th>score_div_max_lsi</th>\n",
              "      <th>score_div_max_tfidf</th>\n",
              "    </tr>\n",
              "  </thead>\n",
              "  <tbody>\n",
              "    <tr>\n",
              "      <th>0</th>\n",
              "      <td>0</td>\n",
              "      <td>We'll Be Together Again</td>\n",
              "      <td>Don't Know Why</td>\n",
              "      <td>NaN</td>\n",
              "      <td>NaN</td>\n",
              "      <td>0.0</td>\n",
              "      <td>NaN</td>\n",
              "      <td>NaN</td>\n",
              "      <td>0.281678</td>\n",
              "      <td>NaN</td>\n",
              "      <td>NaN</td>\n",
              "      <td>1.0</td>\n",
              "    </tr>\n",
              "    <tr>\n",
              "      <th>1</th>\n",
              "      <td>0</td>\n",
              "      <td>We'll Be Together Again</td>\n",
              "      <td>Street Of Dreams</td>\n",
              "      <td>0.0</td>\n",
              "      <td>0.0</td>\n",
              "      <td>NaN</td>\n",
              "      <td>0.935980</td>\n",
              "      <td>0.935980</td>\n",
              "      <td>NaN</td>\n",
              "      <td>1.000000</td>\n",
              "      <td>1.000000</td>\n",
              "      <td>NaN</td>\n",
              "    </tr>\n",
              "    <tr>\n",
              "      <th>2</th>\n",
              "      <td>1</td>\n",
              "      <td>We'll Be Together Again</td>\n",
              "      <td>Begin The Beguine</td>\n",
              "      <td>1.0</td>\n",
              "      <td>1.0</td>\n",
              "      <td>NaN</td>\n",
              "      <td>0.787201</td>\n",
              "      <td>0.787201</td>\n",
              "      <td>NaN</td>\n",
              "      <td>1.000000</td>\n",
              "      <td>1.000000</td>\n",
              "      <td>NaN</td>\n",
              "    </tr>\n",
              "    <tr>\n",
              "      <th>3</th>\n",
              "      <td>1</td>\n",
              "      <td>We'll Be Together Again</td>\n",
              "      <td>Street Of Dreams</td>\n",
              "      <td>NaN</td>\n",
              "      <td>NaN</td>\n",
              "      <td>1.0</td>\n",
              "      <td>NaN</td>\n",
              "      <td>NaN</td>\n",
              "      <td>0.422561</td>\n",
              "      <td>NaN</td>\n",
              "      <td>NaN</td>\n",
              "      <td>1.0</td>\n",
              "    </tr>\n",
              "    <tr>\n",
              "      <th>4</th>\n",
              "      <td>2</td>\n",
              "      <td>We'll Be Together Again</td>\n",
              "      <td>Darn That Dream</td>\n",
              "      <td>2.0</td>\n",
              "      <td>2.0</td>\n",
              "      <td>NaN</td>\n",
              "      <td>0.758166</td>\n",
              "      <td>0.758166</td>\n",
              "      <td>NaN</td>\n",
              "      <td>0.970752</td>\n",
              "      <td>0.970752</td>\n",
              "      <td>NaN</td>\n",
              "    </tr>\n",
              "    <tr>\n",
              "      <th>...</th>\n",
              "      <td>...</td>\n",
              "      <td>...</td>\n",
              "      <td>...</td>\n",
              "      <td>...</td>\n",
              "      <td>...</td>\n",
              "      <td>...</td>\n",
              "      <td>...</td>\n",
              "      <td>...</td>\n",
              "      <td>...</td>\n",
              "      <td>...</td>\n",
              "      <td>...</td>\n",
              "      <td>...</td>\n",
              "    </tr>\n",
              "    <tr>\n",
              "      <th>100</th>\n",
              "      <td>58</td>\n",
              "      <td>We'll Be Together Again</td>\n",
              "      <td>NaN</td>\n",
              "      <td>NaN</td>\n",
              "      <td>NaN</td>\n",
              "      <td>NaN</td>\n",
              "      <td>NaN</td>\n",
              "      <td>NaN</td>\n",
              "      <td>NaN</td>\n",
              "      <td>NaN</td>\n",
              "      <td>NaN</td>\n",
              "      <td>NaN</td>\n",
              "    </tr>\n",
              "    <tr>\n",
              "      <th>101</th>\n",
              "      <td>59</td>\n",
              "      <td>We'll Be Together Again</td>\n",
              "      <td>NaN</td>\n",
              "      <td>NaN</td>\n",
              "      <td>NaN</td>\n",
              "      <td>NaN</td>\n",
              "      <td>NaN</td>\n",
              "      <td>NaN</td>\n",
              "      <td>NaN</td>\n",
              "      <td>NaN</td>\n",
              "      <td>NaN</td>\n",
              "      <td>NaN</td>\n",
              "    </tr>\n",
              "    <tr>\n",
              "      <th>102</th>\n",
              "      <td>60</td>\n",
              "      <td>We'll Be Together Again</td>\n",
              "      <td>NaN</td>\n",
              "      <td>NaN</td>\n",
              "      <td>NaN</td>\n",
              "      <td>NaN</td>\n",
              "      <td>NaN</td>\n",
              "      <td>NaN</td>\n",
              "      <td>NaN</td>\n",
              "      <td>NaN</td>\n",
              "      <td>NaN</td>\n",
              "      <td>NaN</td>\n",
              "    </tr>\n",
              "    <tr>\n",
              "      <th>103</th>\n",
              "      <td>61</td>\n",
              "      <td>We'll Be Together Again</td>\n",
              "      <td>NaN</td>\n",
              "      <td>NaN</td>\n",
              "      <td>NaN</td>\n",
              "      <td>NaN</td>\n",
              "      <td>NaN</td>\n",
              "      <td>NaN</td>\n",
              "      <td>NaN</td>\n",
              "      <td>NaN</td>\n",
              "      <td>NaN</td>\n",
              "      <td>NaN</td>\n",
              "    </tr>\n",
              "    <tr>\n",
              "      <th>104</th>\n",
              "      <td>62</td>\n",
              "      <td>We'll Be Together Again</td>\n",
              "      <td>NaN</td>\n",
              "      <td>NaN</td>\n",
              "      <td>NaN</td>\n",
              "      <td>NaN</td>\n",
              "      <td>NaN</td>\n",
              "      <td>NaN</td>\n",
              "      <td>NaN</td>\n",
              "      <td>NaN</td>\n",
              "      <td>NaN</td>\n",
              "      <td>NaN</td>\n",
              "    </tr>\n",
              "  </tbody>\n",
              "</table>\n",
              "<p>105 rows × 12 columns</p>\n",
              "</div>"
            ],
            "text/plain": [
              "     index                reference  ... score_div_max_lsi  score_div_max_tfidf\n",
              "0        0  We'll Be Together Again  ...               NaN                  1.0\n",
              "1        0  We'll Be Together Again  ...          1.000000                  NaN\n",
              "2        1  We'll Be Together Again  ...          1.000000                  NaN\n",
              "3        1  We'll Be Together Again  ...               NaN                  1.0\n",
              "4        2  We'll Be Together Again  ...          0.970752                  NaN\n",
              "..     ...                      ...  ...               ...                  ...\n",
              "100     58  We'll Be Together Again  ...               NaN                  NaN\n",
              "101     59  We'll Be Together Again  ...               NaN                  NaN\n",
              "102     60  We'll Be Together Again  ...               NaN                  NaN\n",
              "103     61  We'll Be Together Again  ...               NaN                  NaN\n",
              "104     62  We'll Be Together Again  ...               NaN                  NaN\n",
              "\n",
              "[105 rows x 12 columns]"
            ]
          },
          "metadata": {},
          "execution_count": 99
        }
      ]
    },
    {
      "cell_type": "code",
      "metadata": {
        "id": "ziq-dZ16Sdgg"
      },
      "source": [
        "if use_wandb:\n",
        "  table = wandb.Table(dataframe=results)\n",
        "  wandb.log({\"recommender results\": results})"
      ],
      "execution_count": 100,
      "outputs": []
    },
    {
      "cell_type": "code",
      "metadata": {
        "colab": {
          "base_uri": "https://localhost:8080/",
          "height": 125,
          "referenced_widgets": [
            "77ad4fd9c006466e91691bfc35ab6b4e",
            "5371535df2d043058aa1e314aaea6b9e",
            "24d0f867ae5f4a59bb9f46270e96a698",
            "6910e8a0ebf14cdc990f86fb19840c2c",
            "1638b9877975486b8d47130684a35956",
            "19826c51f12144548e5852369d0b9b20",
            "9742948dfbb5416abafc713347be95d5",
            "b6884687190e466b9f7573d3d0b6f640"
          ]
        },
        "id": "YMUDRHkm0aMV",
        "outputId": "a437ed1e-5245-442b-b511-3d66b70e34f3"
      },
      "source": [
        "if use_wandb:\n",
        "  wandb.finish()"
      ],
      "execution_count": 101,
      "outputs": [
        {
          "output_type": "display_data",
          "data": {
            "text/html": [
              "<br/>Waiting for W&B process to finish, PID 3971... <strong style=\"color:green\">(success).</strong>"
            ],
            "text/plain": [
              "<IPython.core.display.HTML object>"
            ]
          },
          "metadata": {}
        },
        {
          "output_type": "display_data",
          "data": {
            "application/vnd.jupyter.widget-view+json": {
              "model_id": "77ad4fd9c006466e91691bfc35ab6b4e",
              "version_minor": 0,
              "version_major": 2
            },
            "text/plain": [
              "VBox(children=(Label(value=' 19.14MB of 19.14MB uploaded (0.00MB deduped)\\r'), FloatProgress(value=1.0, max=1.…"
            ]
          },
          "metadata": {}
        },
        {
          "output_type": "display_data",
          "data": {
            "text/html": [
              "<style>\n",
              "    table.wandb td:nth-child(1) { padding: 0 10px; text-align: right }\n",
              "    .wandb-row { display: flex; flex-direction: row; flex-wrap: wrap; width: 100% }\n",
              "    .wandb-col { display: flex; flex-direction: column; flex-basis: 100%; flex: 1; padding: 10px; }\n",
              "    </style>\n",
              "<div class=\"wandb-row\"><div class=\"wandb-col\">\n",
              "</div><div class=\"wandb-col\">\n",
              "</div></div>\n",
              "Synced 5 W&B file(s), 29 media file(s), 7 artifact file(s) and 0 other file(s)\n",
              "<br/>Synced <strong style=\"color:#cdcd00\">fine-universe-19</strong>: <a href=\"https://wandb.ai/doris/jazztunes/runs/39mw1vb3\" target=\"_blank\">https://wandb.ai/doris/jazztunes/runs/39mw1vb3</a><br/>\n",
              "Find logs at: <code>./wandb/run-20211123_213609-39mw1vb3/logs</code><br/>\n"
            ],
            "text/plain": [
              "<IPython.core.display.HTML object>"
            ]
          },
          "metadata": {}
        }
      ]
    },
    {
      "cell_type": "code",
      "metadata": {
        "id": "Vn_SFyKt0bYx"
      },
      "source": [
        ""
      ],
      "execution_count": 101,
      "outputs": []
    }
  ]
}