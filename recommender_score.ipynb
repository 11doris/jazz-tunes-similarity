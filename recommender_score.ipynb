{
  "nbformat": 4,
  "nbformat_minor": 0,
  "metadata": {
    "colab": {
      "name": "recommender_score",
      "provenance": [],
      "authorship_tag": "ABX9TyPlj/h74MUazH0+dpwmG3YO",
      "include_colab_link": true
    },
    "kernelspec": {
      "name": "python3",
      "display_name": "Python 3"
    },
    "language_info": {
      "name": "python"
    }
  },
  "cells": [
    {
      "cell_type": "markdown",
      "metadata": {
        "id": "view-in-github",
        "colab_type": "text"
      },
      "source": [
        "<a href=\"https://colab.research.google.com/github/11doris/jazz-maestro/blob/colab_word_embeddings/recommender_score.ipynb\" target=\"_parent\"><img src=\"https://colab.research.google.com/assets/colab-badge.svg\" alt=\"Open In Colab\"/></a>"
      ]
    },
    {
      "cell_type": "markdown",
      "metadata": {
        "id": "YGhakKpa8Dtf"
      },
      "source": [
        "# Sections as Input"
      ]
    },
    {
      "cell_type": "code",
      "metadata": {
        "colab": {
          "base_uri": "https://localhost:8080/"
        },
        "id": "MUy1ta4_782n",
        "outputId": "2ad24aae-6e45-40ba-fd93-8979ee923154"
      },
      "source": [
        "!pip uninstall gensim -y"
      ],
      "execution_count": 1,
      "outputs": [
        {
          "output_type": "stream",
          "name": "stdout",
          "text": [
            "Found existing installation: gensim 4.1.2\n",
            "Uninstalling gensim-4.1.2:\n",
            "  Successfully uninstalled gensim-4.1.2\n"
          ]
        }
      ]
    },
    {
      "cell_type": "code",
      "metadata": {
        "colab": {
          "base_uri": "https://localhost:8080/"
        },
        "id": "oAroxmvO8GQj",
        "outputId": "fc8ea5f4-62f8-4976-baa3-3935bd9e1e4d"
      },
      "source": [
        "!pip install gensim"
      ],
      "execution_count": 2,
      "outputs": [
        {
          "output_type": "stream",
          "name": "stdout",
          "text": [
            "Collecting gensim\n",
            "  Using cached gensim-4.1.2-cp37-cp37m-manylinux_2_12_x86_64.manylinux2010_x86_64.whl (24.1 MB)\n",
            "Requirement already satisfied: scipy>=0.18.1 in /usr/local/lib/python3.7/dist-packages (from gensim) (1.4.1)\n",
            "Requirement already satisfied: smart-open>=1.8.1 in /usr/local/lib/python3.7/dist-packages (from gensim) (5.2.1)\n",
            "Requirement already satisfied: numpy>=1.17.0 in /usr/local/lib/python3.7/dist-packages (from gensim) (1.19.5)\n",
            "Installing collected packages: gensim\n",
            "Successfully installed gensim-4.1.2\n"
          ]
        }
      ]
    },
    {
      "cell_type": "code",
      "metadata": {
        "id": "6SZ0zrKX8H-D"
      },
      "source": [
        "import gensim\n",
        "from sklearn.manifold import TSNE\n",
        "import matplotlib.pyplot as plt\n",
        "import pprint\n",
        "import pandas as pd\n",
        "import numpy as np\n",
        "from collections import Counter\n",
        "import plotly.express as px\n",
        "from tqdm import tqdm \n",
        "from gensim.models.doc2vec import Doc2Vec\n",
        "import pickle\n",
        "import os"
      ],
      "execution_count": 38,
      "outputs": []
    },
    {
      "cell_type": "code",
      "metadata": {
        "id": "znWar-PK8KHT"
      },
      "source": [
        "import logging\n",
        "logging.basicConfig(format='%(asctime)s : %(levelname)s : %(message)s', level=logging.INFO)"
      ],
      "execution_count": 39,
      "outputs": []
    },
    {
      "cell_type": "code",
      "metadata": {
        "colab": {
          "base_uri": "https://localhost:8080/"
        },
        "id": "kjCf_Abf8MCc",
        "outputId": "46cc5877-e2fd-4010-b723-dbe056ac2901"
      },
      "source": [
        "print(gensim.__version__)"
      ],
      "execution_count": 40,
      "outputs": [
        {
          "output_type": "stream",
          "name": "stdout",
          "text": [
            "4.1.2\n"
          ]
        }
      ]
    },
    {
      "cell_type": "markdown",
      "metadata": {
        "id": "gcexO7zK8Pn6"
      },
      "source": [
        "# Initialization\n",
        "\n",
        "## Download the Data"
      ]
    },
    {
      "cell_type": "markdown",
      "metadata": {
        "id": "u_RrQ2vA8Uel"
      },
      "source": [
        "### Basic Plus Chords\n",
        "M7 and 6 reduced to major triad, m7 reduced to m, dominant 7, m7b5, diminished, and all (b5) left as they are."
      ]
    },
    {
      "cell_type": "code",
      "metadata": {
        "colab": {
          "base_uri": "https://localhost:8080/"
        },
        "id": "NoAMCPT78Nc_",
        "outputId": "cc51f68d-9ca5-4427-d2c4-c2cd896b0ad4"
      },
      "source": [
        "!wget --no-check-certificate 'https://docs.google.com/uc?export=download&id=17djlZRWFSUCviOxRTOF-nwbbZqU5gUP9' -O data.csv"
      ],
      "execution_count": 41,
      "outputs": [
        {
          "output_type": "stream",
          "name": "stdout",
          "text": [
            "--2021-11-19 18:07:00--  https://docs.google.com/uc?export=download&id=17djlZRWFSUCviOxRTOF-nwbbZqU5gUP9\n",
            "Resolving docs.google.com (docs.google.com)... 209.85.200.139, 209.85.200.101, 209.85.200.102, ...\n",
            "Connecting to docs.google.com (docs.google.com)|209.85.200.139|:443... connected.\n",
            "HTTP request sent, awaiting response... 302 Moved Temporarily\n",
            "Location: https://doc-0s-4c-docs.googleusercontent.com/docs/securesc/ha0ro937gcuc7l7deffksulhg5h7mbp1/mc55bl6bv8ah1v9tr3p2lm2409cfg5i4/1637345175000/14329102864480165501/*/17djlZRWFSUCviOxRTOF-nwbbZqU5gUP9?e=download [following]\n",
            "Warning: wildcards not supported in HTTP.\n",
            "--2021-11-19 18:07:00--  https://doc-0s-4c-docs.googleusercontent.com/docs/securesc/ha0ro937gcuc7l7deffksulhg5h7mbp1/mc55bl6bv8ah1v9tr3p2lm2409cfg5i4/1637345175000/14329102864480165501/*/17djlZRWFSUCviOxRTOF-nwbbZqU5gUP9?e=download\n",
            "Resolving doc-0s-4c-docs.googleusercontent.com (doc-0s-4c-docs.googleusercontent.com)... 108.177.111.132, 2607:f8b0:4001:c07::84\n",
            "Connecting to doc-0s-4c-docs.googleusercontent.com (doc-0s-4c-docs.googleusercontent.com)|108.177.111.132|:443... connected.\n",
            "HTTP request sent, awaiting response... 200 OK\n",
            "Length: 665462 (650K) [text/csv]\n",
            "Saving to: ‘data.csv’\n",
            "\n",
            "data.csv            100%[===================>] 649.87K  --.-KB/s    in 0.006s  \n",
            "\n",
            "2021-11-19 18:07:01 (98.4 MB/s) - ‘data.csv’ saved [665462/665462]\n",
            "\n"
          ]
        }
      ]
    },
    {
      "cell_type": "markdown",
      "metadata": {
        "id": "Ljs21B7h8YvC"
      },
      "source": [
        "### Read Chords Input Data"
      ]
    },
    {
      "cell_type": "code",
      "metadata": {
        "colab": {
          "base_uri": "https://localhost:8080/",
          "height": 241
        },
        "id": "B7kK418L8aac",
        "outputId": "a248f1d6-b523-44ab-da19-316eb689d800"
      },
      "source": [
        "path_to_file = '/content/data.csv'\n",
        "df = pd.read_csv(path_to_file, sep='\\t', index_col=\"id\")\n",
        "df = df.reset_index()\n",
        "df.head(5)"
      ],
      "execution_count": 42,
      "outputs": [
        {
          "output_type": "execute_result",
          "data": {
            "text/html": [
              "<div>\n",
              "<style scoped>\n",
              "    .dataframe tbody tr th:only-of-type {\n",
              "        vertical-align: middle;\n",
              "    }\n",
              "\n",
              "    .dataframe tbody tr th {\n",
              "        vertical-align: top;\n",
              "    }\n",
              "\n",
              "    .dataframe thead th {\n",
              "        text-align: right;\n",
              "    }\n",
              "</style>\n",
              "<table border=\"1\" class=\"dataframe\">\n",
              "  <thead>\n",
              "    <tr style=\"text-align: right;\">\n",
              "      <th></th>\n",
              "      <th>id</th>\n",
              "      <th>file_name</th>\n",
              "      <th>title</th>\n",
              "      <th>tune_mode</th>\n",
              "      <th>tune_id</th>\n",
              "      <th>section_name</th>\n",
              "      <th>section_id</th>\n",
              "      <th>chords</th>\n",
              "    </tr>\n",
              "  </thead>\n",
              "  <tbody>\n",
              "    <tr>\n",
              "      <th>0</th>\n",
              "      <td>0</td>\n",
              "      <td>dataset/jazz1350/26-2.xml</td>\n",
              "      <td>26-2</td>\n",
              "      <td>major</td>\n",
              "      <td>0</td>\n",
              "      <td>A</td>\n",
              "      <td>1</td>\n",
              "      <td>C Eb7 G# B7 E G7 Gm C7 F G#7 C# E7 Am D7 Dm G7</td>\n",
              "    </tr>\n",
              "    <tr>\n",
              "      <th>1</th>\n",
              "      <td>1</td>\n",
              "      <td>dataset/jazz1350/26-2.xml</td>\n",
              "      <td>26-2</td>\n",
              "      <td>major</td>\n",
              "      <td>0</td>\n",
              "      <td>A</td>\n",
              "      <td>2</td>\n",
              "      <td>C Eb7 G# B7 E G7 Gm C7 F Eb7 G# B7 E G7 C</td>\n",
              "    </tr>\n",
              "    <tr>\n",
              "      <th>2</th>\n",
              "      <td>2</td>\n",
              "      <td>dataset/jazz1350/26-2.xml</td>\n",
              "      <td>26-2</td>\n",
              "      <td>major</td>\n",
              "      <td>0</td>\n",
              "      <td>B</td>\n",
              "      <td>3</td>\n",
              "      <td>Gm C7 Bm E7 A C7 F Bbm Eb7 G# Dm G7</td>\n",
              "    </tr>\n",
              "    <tr>\n",
              "      <th>3</th>\n",
              "      <td>3</td>\n",
              "      <td>dataset/jazz1350/26-2.xml</td>\n",
              "      <td>26-2</td>\n",
              "      <td>major</td>\n",
              "      <td>0</td>\n",
              "      <td>A</td>\n",
              "      <td>4</td>\n",
              "      <td>C Eb7 G# B7 E G7 Gm C7 F Eb7 G# B7 E G7 C</td>\n",
              "    </tr>\n",
              "    <tr>\n",
              "      <th>4</th>\n",
              "      <td>4</td>\n",
              "      <td>dataset/jazz1350/500 Miles High.xml</td>\n",
              "      <td>500 Miles High</td>\n",
              "      <td>minor</td>\n",
              "      <td>1</td>\n",
              "      <td>NaN</td>\n",
              "      <td>0</td>\n",
              "      <td>Am Am Cm Cm Eb Eb Em7b5 A7 Dm Dm Bm7b5 Bm7b5 B...</td>\n",
              "    </tr>\n",
              "  </tbody>\n",
              "</table>\n",
              "</div>"
            ],
            "text/plain": [
              "   id  ...                                             chords\n",
              "0   0  ...     C Eb7 G# B7 E G7 Gm C7 F G#7 C# E7 Am D7 Dm G7\n",
              "1   1  ...          C Eb7 G# B7 E G7 Gm C7 F Eb7 G# B7 E G7 C\n",
              "2   2  ...                Gm C7 Bm E7 A C7 F Bbm Eb7 G# Dm G7\n",
              "3   3  ...          C Eb7 G# B7 E G7 Gm C7 F Eb7 G# B7 E G7 C\n",
              "4   4  ...  Am Am Cm Cm Eb Eb Em7b5 A7 Dm Dm Bm7b5 Bm7b5 B...\n",
              "\n",
              "[5 rows x 8 columns]"
            ]
          },
          "metadata": {},
          "execution_count": 42
        }
      ]
    },
    {
      "cell_type": "markdown",
      "metadata": {
        "id": "OsPcEFbg8gu6"
      },
      "source": [
        "### Meta Data"
      ]
    },
    {
      "cell_type": "code",
      "metadata": {
        "colab": {
          "base_uri": "https://localhost:8080/",
          "height": 363
        },
        "id": "KdS8QLnJ8bI6",
        "outputId": "d79cad54-41e1-4ec8-f40b-780c71d2bdfc"
      },
      "source": [
        "titles = df.loc[:, ['id', 'tune_id', 'section_id', 'section_name', 'title', 'tune_mode']]\n",
        "titles[:10]"
      ],
      "execution_count": 43,
      "outputs": [
        {
          "output_type": "execute_result",
          "data": {
            "text/html": [
              "<div>\n",
              "<style scoped>\n",
              "    .dataframe tbody tr th:only-of-type {\n",
              "        vertical-align: middle;\n",
              "    }\n",
              "\n",
              "    .dataframe tbody tr th {\n",
              "        vertical-align: top;\n",
              "    }\n",
              "\n",
              "    .dataframe thead th {\n",
              "        text-align: right;\n",
              "    }\n",
              "</style>\n",
              "<table border=\"1\" class=\"dataframe\">\n",
              "  <thead>\n",
              "    <tr style=\"text-align: right;\">\n",
              "      <th></th>\n",
              "      <th>id</th>\n",
              "      <th>tune_id</th>\n",
              "      <th>section_id</th>\n",
              "      <th>section_name</th>\n",
              "      <th>title</th>\n",
              "      <th>tune_mode</th>\n",
              "    </tr>\n",
              "  </thead>\n",
              "  <tbody>\n",
              "    <tr>\n",
              "      <th>0</th>\n",
              "      <td>0</td>\n",
              "      <td>0</td>\n",
              "      <td>1</td>\n",
              "      <td>A</td>\n",
              "      <td>26-2</td>\n",
              "      <td>major</td>\n",
              "    </tr>\n",
              "    <tr>\n",
              "      <th>1</th>\n",
              "      <td>1</td>\n",
              "      <td>0</td>\n",
              "      <td>2</td>\n",
              "      <td>A</td>\n",
              "      <td>26-2</td>\n",
              "      <td>major</td>\n",
              "    </tr>\n",
              "    <tr>\n",
              "      <th>2</th>\n",
              "      <td>2</td>\n",
              "      <td>0</td>\n",
              "      <td>3</td>\n",
              "      <td>B</td>\n",
              "      <td>26-2</td>\n",
              "      <td>major</td>\n",
              "    </tr>\n",
              "    <tr>\n",
              "      <th>3</th>\n",
              "      <td>3</td>\n",
              "      <td>0</td>\n",
              "      <td>4</td>\n",
              "      <td>A</td>\n",
              "      <td>26-2</td>\n",
              "      <td>major</td>\n",
              "    </tr>\n",
              "    <tr>\n",
              "      <th>4</th>\n",
              "      <td>4</td>\n",
              "      <td>1</td>\n",
              "      <td>0</td>\n",
              "      <td>NaN</td>\n",
              "      <td>500 Miles High</td>\n",
              "      <td>minor</td>\n",
              "    </tr>\n",
              "    <tr>\n",
              "      <th>5</th>\n",
              "      <td>5</td>\n",
              "      <td>2</td>\n",
              "      <td>0</td>\n",
              "      <td>NaN</td>\n",
              "      <td>502 Blues</td>\n",
              "      <td>minor</td>\n",
              "    </tr>\n",
              "    <tr>\n",
              "      <th>6</th>\n",
              "      <td>6</td>\n",
              "      <td>3</td>\n",
              "      <td>1</td>\n",
              "      <td>A</td>\n",
              "      <td>52nd Street Theme</td>\n",
              "      <td>major</td>\n",
              "    </tr>\n",
              "    <tr>\n",
              "      <th>7</th>\n",
              "      <td>7</td>\n",
              "      <td>3</td>\n",
              "      <td>2</td>\n",
              "      <td>A</td>\n",
              "      <td>52nd Street Theme</td>\n",
              "      <td>major</td>\n",
              "    </tr>\n",
              "    <tr>\n",
              "      <th>8</th>\n",
              "      <td>8</td>\n",
              "      <td>3</td>\n",
              "      <td>3</td>\n",
              "      <td>B</td>\n",
              "      <td>52nd Street Theme</td>\n",
              "      <td>major</td>\n",
              "    </tr>\n",
              "    <tr>\n",
              "      <th>9</th>\n",
              "      <td>9</td>\n",
              "      <td>3</td>\n",
              "      <td>4</td>\n",
              "      <td>A</td>\n",
              "      <td>52nd Street Theme</td>\n",
              "      <td>major</td>\n",
              "    </tr>\n",
              "  </tbody>\n",
              "</table>\n",
              "</div>"
            ],
            "text/plain": [
              "   id  tune_id  section_id section_name              title tune_mode\n",
              "0   0        0           1            A               26-2     major\n",
              "1   1        0           2            A               26-2     major\n",
              "2   2        0           3            B               26-2     major\n",
              "3   3        0           4            A               26-2     major\n",
              "4   4        1           0          NaN     500 Miles High     minor\n",
              "5   5        2           0          NaN          502 Blues     minor\n",
              "6   6        3           1            A  52nd Street Theme     major\n",
              "7   7        3           2            A  52nd Street Theme     major\n",
              "8   8        3           3            B  52nd Street Theme     major\n",
              "9   9        3           4            A  52nd Street Theme     major"
            ]
          },
          "metadata": {},
          "execution_count": 43
        }
      ]
    },
    {
      "cell_type": "code",
      "metadata": {
        "id": "0vEOjvwt8jUu"
      },
      "source": [
        "titles_dict = titles.to_dict()\n",
        "\n",
        "sectionid_to_title = titles_dict['title']\n",
        "sectionid_to_title_id = titles_dict['tune_id']\n"
      ],
      "execution_count": 44,
      "outputs": []
    },
    {
      "cell_type": "code",
      "metadata": {
        "id": "1H72Y3_d8uNu"
      },
      "source": [
        "titles_rows = titles.to_dict(orient='records')\n",
        "sectionid_to_section = []\n",
        "for i, row in enumerate(titles_rows):\n",
        "  name = f\"{row['title']}, section{row['section_id']} ({row['section_name']})\"\n",
        "  sectionid_to_section.append(name)\n",
        "  "
      ],
      "execution_count": 45,
      "outputs": []
    },
    {
      "cell_type": "code",
      "metadata": {
        "id": "HCeGUk818y8V"
      },
      "source": [
        "title_to_sectionid = {}\n",
        "\n",
        "for row in titles.iterrows():\n",
        "  title = row[1]['title']\n",
        "  if title not in title_to_sectionid:\n",
        "    title_to_sectionid[title] = [row[1]['id']]\n",
        "  else:\n",
        "    title_to_sectionid[title].append(row[1]['id'])"
      ],
      "execution_count": 46,
      "outputs": []
    },
    {
      "cell_type": "markdown",
      "metadata": {
        "id": "wox-dMcz84Bt"
      },
      "source": [
        "## Helpers for N-Grams"
      ]
    },
    {
      "cell_type": "code",
      "metadata": {
        "id": "2964REdr80Gd"
      },
      "source": [
        "def ngrams(tokens, n=2, sep='-'):\n",
        "    return [sep.join(ngram) for ngram in zip(*[tokens[i:] for i in range(n)])]"
      ],
      "execution_count": 47,
      "outputs": []
    },
    {
      "cell_type": "markdown",
      "metadata": {
        "id": "umfsNtAdF0jM"
      },
      "source": [
        "# Data Preparation"
      ]
    },
    {
      "cell_type": "code",
      "metadata": {
        "id": "buoyWNl0F48Y"
      },
      "source": [
        "ngrams_for_input = [1, 2]"
      ],
      "execution_count": 48,
      "outputs": []
    },
    {
      "cell_type": "code",
      "metadata": {
        "id": "dCLwnqoVGcMw"
      },
      "source": [
        "lines = df.loc[:, 'chords'].tolist()\n",
        "data = [line.split(' ') for line in lines]"
      ],
      "execution_count": 49,
      "outputs": []
    },
    {
      "cell_type": "code",
      "metadata": {
        "colab": {
          "base_uri": "https://localhost:8080/"
        },
        "id": "g7SmApW9F3K6",
        "outputId": "3b0cbb14-1cf8-495f-bb56-d1d96ea2ed3d"
      },
      "source": [
        "processed_corpus = []\n",
        "for line in data:\n",
        "  tune_n = []\n",
        "  for n in ngrams_for_input:\n",
        "    tune_n.extend(ngrams(line, n=n))\n",
        "  processed_corpus.append(tune_n)\n",
        "\n",
        "for line in processed_corpus[:5]:\n",
        "  print(line)"
      ],
      "execution_count": 50,
      "outputs": [
        {
          "output_type": "stream",
          "name": "stdout",
          "text": [
            "['C', 'Eb7', 'G#', 'B7', 'E', 'G7', 'Gm', 'C7', 'F', 'G#7', 'C#', 'E7', 'Am', 'D7', 'Dm', 'G7', 'C-Eb7', 'Eb7-G#', 'G#-B7', 'B7-E', 'E-G7', 'G7-Gm', 'Gm-C7', 'C7-F', 'F-G#7', 'G#7-C#', 'C#-E7', 'E7-Am', 'Am-D7', 'D7-Dm', 'Dm-G7']\n",
            "['C', 'Eb7', 'G#', 'B7', 'E', 'G7', 'Gm', 'C7', 'F', 'Eb7', 'G#', 'B7', 'E', 'G7', 'C', 'C-Eb7', 'Eb7-G#', 'G#-B7', 'B7-E', 'E-G7', 'G7-Gm', 'Gm-C7', 'C7-F', 'F-Eb7', 'Eb7-G#', 'G#-B7', 'B7-E', 'E-G7', 'G7-C']\n",
            "['Gm', 'C7', 'Bm', 'E7', 'A', 'C7', 'F', 'Bbm', 'Eb7', 'G#', 'Dm', 'G7', 'Gm-C7', 'C7-Bm', 'Bm-E7', 'E7-A', 'A-C7', 'C7-F', 'F-Bbm', 'Bbm-Eb7', 'Eb7-G#', 'G#-Dm', 'Dm-G7']\n",
            "['C', 'Eb7', 'G#', 'B7', 'E', 'G7', 'Gm', 'C7', 'F', 'Eb7', 'G#', 'B7', 'E', 'G7', 'C', 'C-Eb7', 'Eb7-G#', 'G#-B7', 'B7-E', 'E-G7', 'G7-Gm', 'Gm-C7', 'C7-F', 'F-Eb7', 'Eb7-G#', 'G#-B7', 'B7-E', 'E-G7', 'G7-C']\n",
            "['Am', 'Am', 'Cm', 'Cm', 'Eb', 'Eb', 'Em7b5', 'A7', 'Dm', 'Dm', 'Bm7b5', 'Bm7b5', 'Bbm', 'Bbm', 'Fm', 'Fm', 'E7', 'E7', 'Fm', 'Fm', 'C#', 'C#', 'Fm', 'Fm', 'C#', 'C#', 'Am-Am', 'Am-Cm', 'Cm-Cm', 'Cm-Eb', 'Eb-Eb', 'Eb-Em7b5', 'Em7b5-A7', 'A7-Dm', 'Dm-Dm', 'Dm-Bm7b5', 'Bm7b5-Bm7b5', 'Bm7b5-Bbm', 'Bbm-Bbm', 'Bbm-Fm', 'Fm-Fm', 'Fm-E7', 'E7-E7', 'E7-Fm', 'Fm-Fm', 'Fm-C#', 'C#-C#', 'C#-Fm', 'Fm-Fm', 'Fm-C#', 'C#-C#']\n"
          ]
        }
      ]
    },
    {
      "cell_type": "markdown",
      "metadata": {
        "id": "LeRGFeTn89Uc"
      },
      "source": [
        "# TF-IDF"
      ]
    },
    {
      "cell_type": "code",
      "metadata": {
        "id": "zVXqq4pk9IyT"
      },
      "source": [
        "from gensim import corpora\n",
        "from gensim import similarities\n"
      ],
      "execution_count": 51,
      "outputs": []
    },
    {
      "cell_type": "code",
      "metadata": {
        "colab": {
          "base_uri": "https://localhost:8080/"
        },
        "id": "pBdUdBNr9Gmu",
        "outputId": "0e8cf660-5ddf-435a-d912-e093857f10a9"
      },
      "source": [
        "dictionary = corpora.Dictionary(processed_corpus)"
      ],
      "execution_count": 52,
      "outputs": [
        {
          "output_type": "stream",
          "name": "stderr",
          "text": [
            "2021-11-19 18:07:05,150 : INFO : adding document #0 to Dictionary(0 unique tokens: [])\n",
            "2021-11-19 18:07:05,393 : INFO : built Dictionary(2095 unique tokens: ['Am', 'Am-D7', 'B7', 'B7-E', 'C']...) from 5403 documents (total 160177 corpus positions)\n",
            "2021-11-19 18:07:05,398 : INFO : Dictionary lifecycle event {'msg': \"built Dictionary(2095 unique tokens: ['Am', 'Am-D7', 'B7', 'B7-E', 'C']...) from 5403 documents (total 160177 corpus positions)\", 'datetime': '2021-11-19T18:07:05.397942', 'gensim': '4.1.2', 'python': '3.7.12 (default, Sep 10 2021, 00:21:48) \\n[GCC 7.5.0]', 'platform': 'Linux-5.4.104+-x86_64-with-Ubuntu-18.04-bionic', 'event': 'created'}\n"
          ]
        }
      ]
    },
    {
      "cell_type": "code",
      "metadata": {
        "id": "9NK-cuax9Kqk"
      },
      "source": [
        "# dictionary.token2id"
      ],
      "execution_count": 53,
      "outputs": []
    },
    {
      "cell_type": "code",
      "metadata": {
        "id": "vWOBtwEU9OKl"
      },
      "source": [
        "bow_corpus = [dictionary.doc2bow(text) for text in processed_corpus]"
      ],
      "execution_count": 54,
      "outputs": []
    },
    {
      "cell_type": "code",
      "metadata": {
        "id": "til5xlce_y1m"
      },
      "source": [
        "!rm -R index\n",
        "!mkdir index"
      ],
      "execution_count": 121,
      "outputs": []
    },
    {
      "cell_type": "code",
      "metadata": {
        "colab": {
          "base_uri": "https://localhost:8080/"
        },
        "id": "tn_fz2M090IM",
        "outputId": "e6966471-1009-4907-d139-8b48594b2bac"
      },
      "source": [
        "# Note: SparseMatrixSimilarity crashes due to lacking memory\n",
        "#from gensim.test.utils import get_tmpfile\n",
        "#index_tmpfile = get_tmpfile(\"index\")\n",
        "#index_tfidf = similarities.Similarity(index_tmpfile, bow_corpus, num_features=len(dictionary))\n",
        "\n",
        "index_tfidf = similarities.Similarity('/content/index/index_tfidf', bow_corpus, num_features=len(dictionary))"
      ],
      "execution_count": 122,
      "outputs": [
        {
          "output_type": "stream",
          "name": "stderr",
          "text": [
            "2021-11-19 18:22:43,228 : INFO : starting similarity index under /content/index/index_tfidf\n"
          ]
        }
      ]
    },
    {
      "cell_type": "code",
      "metadata": {
        "colab": {
          "base_uri": "https://localhost:8080/"
        },
        "id": "DCUOw0Mza86d",
        "outputId": "20bad966-e170-4d2e-ecb2-4420221cf424"
      },
      "source": [
        "ls -la /content/index"
      ],
      "execution_count": 123,
      "outputs": [
        {
          "output_type": "stream",
          "name": "stdout",
          "text": [
            "total 8\n",
            "drwxr-xr-x 2 root root 4096 Nov 19 18:22 \u001b[0m\u001b[01;34m.\u001b[0m/\n",
            "drwxr-xr-x 1 root root 4096 Nov 19 18:22 \u001b[01;34m..\u001b[0m/\n"
          ]
        }
      ]
    },
    {
      "cell_type": "markdown",
      "metadata": {
        "id": "ZLK0coIu9Tv5"
      },
      "source": [
        "## Test for single tunes"
      ]
    },
    {
      "cell_type": "code",
      "metadata": {
        "id": "Fzrj1qxwDpJT"
      },
      "source": [
        "def get_sim_scores(tunes, index):\n",
        "\n",
        "    df_sim = pd.DataFrame(columns=['reference_title',\n",
        "                                  'similar_title',\n",
        "                                  'ref_section', \n",
        "                                  'similar_section', \n",
        "                                  'score', \n",
        "                                  ])\n",
        "\n",
        "    for tune in tunes:\n",
        "      print()\n",
        "      print(\"-\"*50)\n",
        "      for s1 in title_to_sectionid[tune]:\n",
        "      \n",
        "          query = processed_corpus[s1]\n",
        "          query_bow = dictionary.doc2bow(query)\n",
        "\n",
        "          # perform a similarity query against the corpus\n",
        "          similarities = index[query_bow]\n",
        "          sims = sorted(enumerate(similarities), key=lambda item: -item[1])\n",
        "          \n",
        "          print(s1, sectionid_to_section[s1])\n",
        "          n = 0\n",
        "          for s2, s2_score in sims:\n",
        "            \n",
        "            # store the top N best results\n",
        "            if n > 40:\n",
        "                break\n",
        "            # don't count self-similarity between sections of the same tune\n",
        "            if s2 not in title_to_sectionid[tune]:\n",
        "                n += 1\n",
        "            \n",
        "                # print(f\"\\t{s2_score:.3f} {sectionid_to_section[s2]}\")\n",
        "\n",
        "                df_sim.loc[len(df_sim)] = [tune,\n",
        "                                sectionid_to_title[s2],\n",
        "                                sectionid_to_section[s1], \n",
        "                                sectionid_to_section[s2], \n",
        "                                s2_score, \n",
        "                                ]\n",
        "    return df_sim"
      ],
      "execution_count": 124,
      "outputs": []
    },
    {
      "cell_type": "code",
      "metadata": {
        "id": "DsQO6iJl9VjQ"
      },
      "source": [
        "tunes_eval_list = [\n",
        "  'Sweet Sue, Just You',\n",
        "  'These Foolish Things', \n",
        "  'Blue Moon',\n",
        "  'All Of Me',\n",
        "  \"All God's Chillun Got Rhythm\",\n",
        "  'I Got Rhythm',\n",
        "  'Bye Bye Blackbird',\n",
        "  'Old Fashioned Love',\n",
        "  'Dinah',\n",
        "  'Honeysuckle Rose',\n",
        "  'Misty'\n",
        "]"
      ],
      "execution_count": 125,
      "outputs": []
    },
    {
      "cell_type": "code",
      "metadata": {
        "colab": {
          "base_uri": "https://localhost:8080/"
        },
        "id": "5Wz4ZQk_EKZy",
        "outputId": "3368d3df-3c51-4857-83e3-b2e6c0289098"
      },
      "source": [
        "%%time\n",
        "df_sim = get_sim_scores(tunes_eval_list, index_tfidf)"
      ],
      "execution_count": 126,
      "outputs": [
        {
          "output_type": "stream",
          "name": "stderr",
          "text": [
            "2021-11-19 18:22:46,133 : INFO : creating sparse index\n",
            "2021-11-19 18:22:46,135 : INFO : creating sparse matrix from corpus\n",
            "2021-11-19 18:22:46,138 : INFO : PROGRESS: at document #0/5403\n"
          ]
        },
        {
          "output_type": "stream",
          "name": "stdout",
          "text": [
            "\n",
            "--------------------------------------------------\n"
          ]
        },
        {
          "output_type": "stream",
          "name": "stderr",
          "text": [
            "2021-11-19 18:22:46,452 : INFO : created <5403x1602 sparse matrix of type '<class 'numpy.float32'>'\n",
            "\twith 97814 stored elements in Compressed Sparse Row format>\n",
            "2021-11-19 18:22:46,455 : INFO : creating sparse shard #0\n",
            "2021-11-19 18:22:46,464 : INFO : saving index shard to /content/index/index_tfidf.0\n",
            "2021-11-19 18:22:46,468 : INFO : SparseMatrixSimilarity lifecycle event {'fname_or_handle': '/content/index/index_tfidf.0', 'separately': 'None', 'sep_limit': 10485760, 'ignore': frozenset(), 'datetime': '2021-11-19T18:22:46.468892', 'gensim': '4.1.2', 'python': '3.7.12 (default, Sep 10 2021, 00:21:48) \\n[GCC 7.5.0]', 'platform': 'Linux-5.4.104+-x86_64-with-Ubuntu-18.04-bionic', 'event': 'saving'}\n",
            "2021-11-19 18:22:46,474 : INFO : saved /content/index/index_tfidf.0\n",
            "2021-11-19 18:22:46,477 : INFO : loading SparseMatrixSimilarity object from /content/index/index_tfidf.0\n",
            "2021-11-19 18:22:46,487 : INFO : SparseMatrixSimilarity lifecycle event {'fname': '/content/index/index_tfidf.0', 'datetime': '2021-11-19T18:22:46.487779', 'gensim': '4.1.2', 'python': '3.7.12 (default, Sep 10 2021, 00:21:48) \\n[GCC 7.5.0]', 'platform': 'Linux-5.4.104+-x86_64-with-Ubuntu-18.04-bionic', 'event': 'loaded'}\n"
          ]
        },
        {
          "output_type": "stream",
          "name": "stdout",
          "text": [
            "3752 Sweet Sue, Just You, section1 (A)\n",
            "3753 Sweet Sue, Just You, section2 (A)\n",
            "3754 Sweet Sue, Just You, section3 (B)\n",
            "3755 Sweet Sue, Just You, section4 (A)\n",
            "\n",
            "--------------------------------------------------\n",
            "3866 These Foolish Things, section1 (A)\n",
            "3867 These Foolish Things, section2 (A)\n",
            "3868 These Foolish Things, section3 (B)\n",
            "3869 These Foolish Things, section4 (A)\n",
            "\n",
            "--------------------------------------------------\n",
            "496 Blue Moon, section1 (A)\n",
            "497 Blue Moon, section2 (A)\n",
            "498 Blue Moon, section3 (B)\n",
            "499 Blue Moon, section4 (A)\n",
            "\n",
            "--------------------------------------------------\n",
            "198 All Of Me, section1 (A)\n",
            "199 All Of Me, section2 (B)\n",
            "200 All Of Me, section3 (A)\n",
            "201 All Of Me, section4 (C)\n",
            "\n",
            "--------------------------------------------------\n",
            "188 All God's Chillun Got Rhythm, section1 (A)\n",
            "189 All God's Chillun Got Rhythm, section2 (B)\n",
            "190 All God's Chillun Got Rhythm, section3 (A)\n",
            "191 All God's Chillun Got Rhythm, section4 (C)\n",
            "\n",
            "--------------------------------------------------\n",
            "1647 I Got Rhythm, section1 (A)\n",
            "1648 I Got Rhythm, section2 (A)\n",
            "1649 I Got Rhythm, section3 (B)\n",
            "1650 I Got Rhythm, section4 (A)\n",
            "4821 I Got Rhythm, section1 (A)\n",
            "4822 I Got Rhythm, section2 (A)\n",
            "4823 I Got Rhythm, section3 (B)\n",
            "4824 I Got Rhythm, section4 (A)\n",
            "\n",
            "--------------------------------------------------\n",
            "653 Bye Bye Blackbird, section1 (A)\n",
            "654 Bye Bye Blackbird, section2 (B)\n",
            "4569 Bye Bye Blackbird, section1 (A)\n",
            "4570 Bye Bye Blackbird, section2 (B)\n",
            "4571 Bye Bye Blackbird, section3 (C)\n",
            "\n",
            "--------------------------------------------------\n",
            "5056 Old Fashioned Love, section0 (nan)\n",
            "\n",
            "--------------------------------------------------\n",
            "997 Dinah, section1 (A)\n",
            "998 Dinah, section2 (A)\n",
            "999 Dinah, section3 (B)\n",
            "1000 Dinah, section4 (A)\n",
            "\n",
            "--------------------------------------------------\n",
            "1538 Honeysuckle Rose, section1 (A)\n",
            "1539 Honeysuckle Rose, section2 (A)\n",
            "1540 Honeysuckle Rose, section3 (B)\n",
            "1541 Honeysuckle Rose, section4 (A)\n",
            "4793 Honeysuckle Rose, section1 (A)\n",
            "4794 Honeysuckle Rose, section2 (A)\n",
            "4795 Honeysuckle Rose, section3 (B)\n",
            "4796 Honeysuckle Rose, section4 (A)\n",
            "\n",
            "--------------------------------------------------\n",
            "2676 Misty, section1 (A)\n",
            "2677 Misty, section2 (A)\n",
            "2678 Misty, section3 (B)\n",
            "2679 Misty, section4 (A)\n",
            "CPU times: user 9.18 s, sys: 292 ms, total: 9.48 s\n",
            "Wall time: 9.23 s\n"
          ]
        }
      ]
    },
    {
      "cell_type": "code",
      "metadata": {
        "colab": {
          "base_uri": "https://localhost:8080/",
          "height": 542
        },
        "id": "yzRuIKVh9c8g",
        "outputId": "21bd60c4-f111-4ed2-9e90-7c44c7aefee3"
      },
      "source": [
        "import plotly.express as px\n",
        "fig = px.histogram(df_sim, x=\"score\", nbins=50)\n",
        "fig.show()"
      ],
      "execution_count": 127,
      "outputs": [
        {
          "output_type": "display_data",
          "data": {
            "text/html": [
              "<html>\n",
              "<head><meta charset=\"utf-8\" /></head>\n",
              "<body>\n",
              "    <div>\n",
              "            <script src=\"https://cdnjs.cloudflare.com/ajax/libs/mathjax/2.7.5/MathJax.js?config=TeX-AMS-MML_SVG\"></script><script type=\"text/javascript\">if (window.MathJax) {MathJax.Hub.Config({SVG: {font: \"STIX-Web\"}});}</script>\n",
              "                <script type=\"text/javascript\">window.PlotlyConfig = {MathJaxConfig: 'local'};</script>\n",
              "        <script src=\"https://cdn.plot.ly/plotly-latest.min.js\"></script>    \n",
              "            <div id=\"5f1f18a9-cc20-4d40-9cf1-8960628f2b1c\" class=\"plotly-graph-div\" style=\"height:525px; width:100%;\"></div>\n",
              "            <script type=\"text/javascript\">\n",
              "                \n",
              "                    window.PLOTLYENV=window.PLOTLYENV || {};\n",
              "                    \n",
              "                if (document.getElementById(\"5f1f18a9-cc20-4d40-9cf1-8960628f2b1c\")) {\n",
              "                    Plotly.newPlot(\n",
              "                        '5f1f18a9-cc20-4d40-9cf1-8960628f2b1c',\n",
              "                        [{\"alignmentgroup\": \"True\", \"bingroup\": \"x\", \"hoverlabel\": {\"namelength\": 0}, \"hovertemplate\": \"score=%{x}<br>count=%{y}\", \"legendgroup\": \"\", \"marker\": {\"color\": \"#636efa\"}, \"name\": \"\", \"nbinsx\": 50, \"offsetgroup\": \"\", \"orientation\": \"v\", \"showlegend\": false, \"type\": \"histogram\", \"x\": [0.9784961938858032, 0.9743973612785339, 0.9743973612785339, 0.9717296957969666, 0.9697359204292297, 0.9697359204292297, 0.96626216173172, 0.964314341545105, 0.9607688784599304, 0.9607688784599304, 0.9585756659507751, 0.9523531794548035, 0.9523531794548035, 0.9523531794548035, 0.9502970576286316, 0.9502970576286316, 0.9502970576286316, 0.9489113688468933, 0.9489113688468933, 0.9480928778648376, 0.9476965665817261, 0.9476965069770813, 0.9476965069770813, 0.9476965069770813, 0.9476965069770813, 0.9445242881774902, 0.9439663290977478, 0.9439663290977478, 0.9439656734466553, 0.939012885093689, 0.9382351636886597, 0.9378933906555176, 0.9378933906555176, 0.9378933906555176, 0.9373412728309631, 0.9373412728309631, 0.9373412728309631, 0.9334220886230469, 0.930949330329895, 0.930949330329895, 0.9304803609848022, 0.9784961938858032, 0.9743973612785339, 0.9743973612785339, 0.9717296957969666, 0.9697359204292297, 0.9697359204292297, 0.96626216173172, 0.964314341545105, 0.9607688784599304, 0.9607688784599304, 0.9585756659507751, 0.9523531794548035, 0.9523531794548035, 0.9523531794548035, 0.9502970576286316, 0.9502970576286316, 0.9502970576286316, 0.9489113688468933, 0.9489113688468933, 0.9480928778648376, 0.9476965665817261, 0.9476965069770813, 0.9476965069770813, 0.9476965069770813, 0.9476965069770813, 0.9445242881774902, 0.9439663290977478, 0.9439663290977478, 0.9439656734466553, 0.939012885093689, 0.9382351636886597, 0.9378933906555176, 0.9378933906555176, 0.9378933906555176, 0.9373412728309631, 0.9373412728309631, 0.9373412728309631, 0.9334220886230469, 0.930949330329895, 0.930949330329895, 0.9304803609848022, 0.8902636170387268, 0.7368420362472534, 0.7368420362472534, 0.6936879754066467, 0.6936879754066467, 0.6789146661758423, 0.6789146661758423, 0.678882896900177, 0.6718579530715942, 0.6452822089195251, 0.6315789222717285, 0.6297402381896973, 0.6245105862617493, 0.6245105862617493, 0.6181150674819946, 0.6163483262062073, 0.6078656911849976, 0.60760498046875, 0.5990424156188965, 0.598740816116333, 0.5964808464050293, 0.5964808464050293, 0.5964200496673584, 0.5964200496673584, 0.5964199900627136, 0.5944933891296387, 0.593299150466919, 0.5877537727355957, 0.5861515402793884, 0.5773502588272095, 0.5768598914146423, 0.5751757025718689, 0.5751757025718689, 0.5751757025718689, 0.5740378499031067, 0.5740378499031067, 0.5740378499031067, 0.57396399974823, 0.5713250637054443, 0.5698635578155518, 0.5688832402229309, 0.9784961938858032, 0.9743973612785339, 0.9743973612785339, 0.9717296957969666, 0.9697359204292297, 0.9697359204292297, 0.96626216173172, 0.964314341545105, 0.9607688784599304, 0.9607688784599304, 0.9585756659507751, 0.9523531794548035, 0.9523531794548035, 0.9523531794548035, 0.9502970576286316, 0.9502970576286316, 0.9502970576286316, 0.9489113688468933, 0.9489113688468933, 0.9480928778648376, 0.9476965665817261, 0.9476965069770813, 0.9476965069770813, 0.9476965069770813, 0.9476965069770813, 0.9445242881774902, 0.9439663290977478, 0.9439663290977478, 0.9439656734466553, 0.939012885093689, 0.9382351636886597, 0.9378933906555176, 0.9378933906555176, 0.9378933906555176, 0.9373412728309631, 0.9373412728309631, 0.9373412728309631, 0.9334220886230469, 0.930949330329895, 0.930949330329895, 0.9304803609848022, 0.9166156649589539, 0.8880703449249268, 0.8826669454574585, 0.8802810907363892, 0.8762938380241394, 0.8714783191680908, 0.8712018132209778, 0.8652898669242859, 0.8621970415115356, 0.8621969819068909, 0.8613663911819458, 0.8613663911819458, 0.8613663911819458, 0.8596490621566772, 0.8596490621566772, 0.8572795987129211, 0.8560707569122314, 0.8549255132675171, 0.8535874485969543, 0.8535874485969543, 0.8531233668327332, 0.8531233072280884, 0.8531233072280884, 0.8510645031929016, 0.8510645031929016, 0.8499012589454651, 0.8488425016403198, 0.8488425016403198, 0.8488425016403198, 0.8483153581619263, 0.848114550113678, 0.8479448556900024, 0.8479448556900024, 0.8479448556900024, 0.8451126217842102, 0.8451126217842102, 0.8451112508773804, 0.8451112508773804, 0.8451112508773804, 0.8451112508773804, 0.8449531197547913, 0.8813560009002686, 0.8675775527954102, 0.865232527256012, 0.8613133430480957, 0.8604187369346619, 0.8563082814216614, 0.8501179814338684, 0.8472582101821899, 0.8472582101821899, 0.8404926657676697, 0.8389951586723328, 0.8389951586723328, 0.8382947444915771, 0.8368467092514038, 0.8355602025985718, 0.8355600833892822, 0.8354079127311707, 0.8343314528465271, 0.8338131308555603, 0.8338131308555603, 0.8338131308555603, 0.8338131308555603, 0.8338131308555603, 0.8338130712509155, 0.8336158990859985, 0.8324979543685913, 0.8317468166351318, 0.8308826684951782, 0.8306652307510376, 0.8306652307510376, 0.8306639790534973, 0.8299543857574463, 0.8284749984741211, 0.8263806104660034, 0.8243221640586853, 0.8225446939468384, 0.8212428092956543, 0.8209852576255798, 0.8209615349769592, 0.8202233910560608, 0.8201130032539368, 0.8362417817115784, 0.7897472381591797, 0.7897472381591797, 0.773952841758728, 0.7341169118881226, 0.6922442317008972, 0.6844475865364075, 0.683906078338623, 0.6726728677749634, 0.6724110841751099, 0.6677805781364441, 0.6639137268066406, 0.6598588228225708, 0.6569388508796692, 0.6554279923439026, 0.6502504348754883, 0.6471502184867859, 0.6471502184867859, 0.6471502184867859, 0.6445032358169556, 0.6405126452445984, 0.6405126452445984, 0.6343914866447449, 0.6327170133590698, 0.6254072785377502, 0.6225317120552063, 0.6192068457603455, 0.616333544254303, 0.6157050728797913, 0.6150692105293274, 0.6132440567016602, 0.6110228300094604, 0.6104828119277954, 0.6084870100021362, 0.6084870100021362, 0.6062354445457458, 0.6039570569992065, 0.6035057306289673, 0.5971962213516235, 0.5967622995376587, 0.5954650640487671, 0.9299536347389221, 0.9185469150543213, 0.9080511927604675, 0.9013375639915466, 0.9013375639915466, 0.9009868502616882, 0.8995278477668762, 0.899010181427002, 0.8934570550918579, 0.890917181968689, 0.8889746069908142, 0.8879953622817993, 0.8879953622817993, 0.8877546787261963, 0.8847478628158569, 0.8835955262184143, 0.8833857774734497, 0.8825539350509644, 0.8825539350509644, 0.8799561262130737, 0.878458559513092, 0.8773804306983948, 0.8764629364013672, 0.8750843405723572, 0.8738353252410889, 0.8731315732002258, 0.8724886178970337, 0.8713063597679138, 0.8713063597679138, 0.8710851669311523, 0.8700020909309387, 0.8700020909309387, 0.8690606951713562, 0.8685352802276611, 0.8685352802276611, 0.8685352802276611, 0.8681492209434509, 0.8649305105209351, 0.8649305105209351, 0.8649305105209351, 0.8631784319877625, 0.9494949579238892, 0.9415369033813477, 0.9415369033813477, 0.9370092749595642, 0.9362388253211975, 0.9362388253211975, 0.9345120191574097, 0.9345120191574097, 0.9332565069198608, 0.9325267672538757, 0.9325267672538757, 0.9305887818336487, 0.9268683195114136, 0.9235835075378418, 0.9208076596260071, 0.9196406602859497, 0.9196406602859497, 0.9196406602859497, 0.9159286022186279, 0.9159286022186279, 0.9113147854804993, 0.9108401536941528, 0.9095820188522339, 0.9085134863853455, 0.9052091240882874, 0.9028274416923523, 0.90123450756073, 0.90123450756073, 0.8990222811698914, 0.8977444767951965, 0.8969221115112305, 0.896865963935852, 0.896856963634491, 0.8959158062934875, 0.8950611352920532, 0.8950611352920532, 0.8939712643623352, 0.8920525312423706, 0.8918901085853577, 0.8861419558525085, 0.8861252069473267, 0.8802810907363892, 0.8802810907363892, 0.8687784671783447, 0.8613662719726562, 0.8613662719726562, 0.8603835105895996, 0.8563644886016846, 0.8519712686538696, 0.8514017462730408, 0.8483152389526367, 0.8483152389526367, 0.8483152389526367, 0.845112681388855, 0.845112681388855, 0.8449530601501465, 0.8428842425346375, 0.8414502143859863, 0.8401972651481628, 0.8394196033477783, 0.8394196033477783, 0.8378204107284546, 0.8355264067649841, 0.835264265537262, 0.8332610130310059, 0.8332610130310059, 0.8330923318862915, 0.833092212677002, 0.8313556909561157, 0.8307221531867981, 0.8301945924758911, 0.8299746513366699, 0.8291657567024231, 0.8277091979980469, 0.8275390267372131, 0.8274567127227783, 0.8274567127227783, 0.8274288773536682, 0.8260856866836548, 0.8246367573738098, 0.8214401006698608, 0.8188944458961487, 0.8401680588722229, 0.8383981585502625, 0.8319326639175415, 0.8296298384666443, 0.8257580995559692, 0.8257580995559692, 0.8226338624954224, 0.8213699460029602, 0.8201640248298645, 0.8181472420692444, 0.8140447735786438, 0.8140447735786438, 0.8140447735786438, 0.8135111927986145, 0.8114547729492188, 0.8114547729492188, 0.8091419339179993, 0.8073408603668213, 0.8062547445297241, 0.8058962821960449, 0.8057162165641785, 0.8049729466438293, 0.8049729466438293, 0.803062915802002, 0.8015670776367188, 0.8002474308013916, 0.7986125349998474, 0.7944720983505249, 0.7938841581344604, 0.7932174205780029, 0.7930177450180054, 0.79229736328125, 0.79229736328125, 0.79229736328125, 0.79229736328125, 0.7903634905815125, 0.7901006937026978, 0.7901006937026978, 0.7897847890853882, 0.7896811962127686, 0.7896811962127686, 0.9494949579238892, 0.9415369033813477, 0.9415369033813477, 0.9370092749595642, 0.9362388253211975, 0.9362388253211975, 0.9345120191574097, 0.9345120191574097, 0.9332565069198608, 0.9325267672538757, 0.9325267672538757, 0.9305887818336487, 0.9268683195114136, 0.9235835075378418, 0.9208076596260071, 0.9196406602859497, 0.9196406602859497, 0.9196406602859497, 0.9159286022186279, 0.9159286022186279, 0.9113147854804993, 0.9108401536941528, 0.9095820188522339, 0.9085134863853455, 0.9052091240882874, 0.9028274416923523, 0.90123450756073, 0.90123450756073, 0.8990222811698914, 0.8977444767951965, 0.8969221115112305, 0.896865963935852, 0.896856963634491, 0.8959158062934875, 0.8950611352920532, 0.8950611352920532, 0.8939712643623352, 0.8920525312423706, 0.8918901085853577, 0.8861419558525085, 0.8861252069473267, 0.8792409300804138, 0.8518432974815369, 0.8406509757041931, 0.8260868787765503, 0.8131231069564819, 0.8131231069564819, 0.8094350695610046, 0.7828900814056396, 0.7819966077804565, 0.7706912755966187, 0.7506518363952637, 0.7476393580436707, 0.7463465929031372, 0.7463465929031372, 0.7372097373008728, 0.7279634475708008, 0.725953996181488, 0.7223151326179504, 0.7223150730133057, 0.7194305658340454, 0.7128726243972778, 0.7033815979957581, 0.7011695504188538, 0.7011695504188538, 0.6969627141952515, 0.6969626545906067, 0.6966718435287476, 0.6956521272659302, 0.6956521272659302, 0.6956521272659302, 0.6956521272659302, 0.6956521272659302, 0.6956520676612854, 0.6941141486167908, 0.6899076700210571, 0.6896562576293945, 0.6865886449813843, 0.6838367581367493, 0.6825236082077026, 0.6825236082077026, 0.6821865439414978, 0.9165152311325073, 0.9100316166877747, 0.8728716373443604, 0.864530086517334, 0.8645299673080444, 0.8645299673080444, 0.8645299673080444, 0.8622480034828186, 0.8571428656578064, 0.8510644435882568, 0.8399211168289185, 0.8357110023498535, 0.8292280435562134, 0.8095238208770752, 0.8010018467903137, 0.78924560546875, 0.78924560546875, 0.7855844497680664, 0.7823183536529541, 0.780398964881897, 0.7740282416343689, 0.7663559913635254, 0.7653921246528625, 0.7633246779441833, 0.7597372531890869, 0.7597371339797974, 0.7579052448272705, 0.7514953017234802, 0.7512482404708862, 0.7493632435798645, 0.7493632435798645, 0.74466872215271, 0.7419408559799194, 0.7372121810913086, 0.7321142554283142, 0.7293967604637146, 0.7280252575874329, 0.7280252575874329, 0.7280251979827881, 0.7258021235466003, 0.7174959182739258, 0.8792409300804138, 0.8518432974815369, 0.8406509757041931, 0.8260868787765503, 0.8131231069564819, 0.8131231069564819, 0.8094350695610046, 0.7828900814056396, 0.7819966077804565, 0.7706912755966187, 0.7506518363952637, 0.7476393580436707, 0.7463465929031372, 0.7463465929031372, 0.7372097373008728, 0.7279634475708008, 0.725953996181488, 0.7223151326179504, 0.7223150730133057, 0.7194305658340454, 0.7128726243972778, 0.7033815979957581, 0.7011695504188538, 0.7011695504188538, 0.6969627141952515, 0.6969626545906067, 0.6966718435287476, 0.6956521272659302, 0.6956521272659302, 0.6956521272659302, 0.6956521272659302, 0.6956521272659302, 0.6956520676612854, 0.6941141486167908, 0.6899076700210571, 0.6896562576293945, 0.6865886449813843, 0.6838367581367493, 0.6825236082077026, 0.6825236082077026, 0.6821865439414978, 0.9065799117088318, 0.8691982626914978, 0.8551861047744751, 0.8434363603591919, 0.8433082103729248, 0.8400001525878906, 0.8360078930854797, 0.8355728387832642, 0.8307472467422485, 0.827009916305542, 0.8267984390258789, 0.8234922289848328, 0.8219947218894958, 0.8219947218894958, 0.8194360733032227, 0.8194360733032227, 0.8194359540939331, 0.8194359540939331, 0.8186239004135132, 0.8164966106414795, 0.8163679838180542, 0.8159304857254028, 0.8159304857254028, 0.8146801590919495, 0.8106022477149963, 0.8090399503707886, 0.8090398907661438, 0.8088222742080688, 0.8082902431488037, 0.8079699873924255, 0.8049845099449158, 0.8049845099449158, 0.8049845099449158, 0.8045740723609924, 0.8000001311302185, 0.8000001311302185, 0.800000011920929, 0.800000011920929, 0.800000011920929, 0.7977240085601807, 0.7977240085601807, 0.9507932662963867, 0.950654149055481, 0.9342914819717407, 0.9281483888626099, 0.9281483888626099, 0.9251874089241028, 0.9219863414764404, 0.9216123819351196, 0.91501784324646, 0.9128426909446716, 0.9128426313400269, 0.909038245677948, 0.9068502187728882, 0.9066199064254761, 0.9060326814651489, 0.9046443700790405, 0.9034599661827087, 0.9034599661827087, 0.8977533578872681, 0.8948143720626831, 0.8948143720626831, 0.8928053975105286, 0.8909088373184204, 0.8870519399642944, 0.8869003057479858, 0.8864164352416992, 0.8844332098960876, 0.8842047452926636, 0.8842047452926636, 0.8835767507553101, 0.883388340473175, 0.883388340473175, 0.8822987079620361, 0.8822987079620361, 0.8801407814025879, 0.8766028881072998, 0.875139594078064, 0.8734533786773682, 0.8719189167022705, 0.8718469142913818, 0.8703306913375854, 0.8828293085098267, 0.8025722503662109, 0.8019663095474243, 0.7985492944717407, 0.7884299755096436, 0.7884297966957092, 0.788342297077179, 0.7744821310043335, 0.7744821310043335, 0.7710641026496887, 0.7642226815223694, 0.7624435424804688, 0.7591444253921509, 0.7541503310203552, 0.7541503310203552, 0.7506518363952637, 0.7506517767906189, 0.7506517767906189, 0.7475310564041138, 0.7469265460968018, 0.7463923692703247, 0.7460036873817444, 0.7401525974273682, 0.7391303777694702, 0.729958713054657, 0.7280252575874329, 0.7279634475708008, 0.7273662090301514, 0.7266019582748413, 0.725953996181488, 0.7232446670532227, 0.7223150730133057, 0.7198708057403564, 0.7198706865310669, 0.71807861328125, 0.7175472974777222, 0.716418445110321, 0.7160414457321167, 0.7160413265228271, 0.7160413265228271, 0.7160413265228271, 0.9507932662963867, 0.950654149055481, 0.9342914819717407, 0.9281483888626099, 0.9281483888626099, 0.9251874089241028, 0.9219863414764404, 0.9216123819351196, 0.91501784324646, 0.9128426909446716, 0.9128426313400269, 0.909038245677948, 0.9068502187728882, 0.9066199064254761, 0.9060326814651489, 0.9046443700790405, 0.9034599661827087, 0.9034599661827087, 0.8977533578872681, 0.8948143720626831, 0.8948143720626831, 0.8928053975105286, 0.8909088373184204, 0.8870519399642944, 0.8869003057479858, 0.8864164352416992, 0.8844332098960876, 0.8842047452926636, 0.8842047452926636, 0.8835767507553101, 0.883388340473175, 0.883388340473175, 0.8822987079620361, 0.8822987079620361, 0.8801407814025879, 0.8766028881072998, 0.875139594078064, 0.8734533786773682, 0.8719189167022705, 0.8718469142913818, 0.8703306913375854, 0.9411240220069885, 0.9122603535652161, 0.9108401536941528, 0.8840821385383606, 0.8802375793457031, 0.8788706064224243, 0.8788705468177795, 0.869656503200531, 0.8557855486869812, 0.8531231880187988, 0.8520859479904175, 0.8497231602668762, 0.8480263948440552, 0.8466665744781494, 0.8458887338638306, 0.8451541662216187, 0.8362258076667786, 0.8362257480621338, 0.835854172706604, 0.835854172706604, 0.835854172706604, 0.8349094986915588, 0.833655059337616, 0.8336123824119568, 0.8334107398986816, 0.8328046798706055, 0.8309096693992615, 0.827271044254303, 0.8260162472724915, 0.8260161876678467, 0.8260161876678467, 0.8257012963294983, 0.8256280422210693, 0.8248628973960876, 0.8246210217475891, 0.8241927623748779, 0.8241927623748779, 0.8241406679153442, 0.8241406679153442, 0.8241406679153442, 0.8238011002540588, 0.8549498319625854, 0.8549498319625854, 0.854178249835968, 0.8339323401451111, 0.8326460123062134, 0.8323467969894409, 0.8323467969894409, 0.8255724906921387, 0.8196720480918884, 0.8167800307273865, 0.8167800307273865, 0.8121828436851501, 0.8121828436851501, 0.8109002709388733, 0.810696005821228, 0.8074142932891846, 0.8074142932891846, 0.8074142932891846, 0.8053446412086487, 0.8048637509346008, 0.8009260296821594, 0.8009260296821594, 0.8001111745834351, 0.8001111745834351, 0.8001111149787903, 0.8001110553741455, 0.8001110553741455, 0.7985419034957886, 0.7978278398513794, 0.7966084480285645, 0.794303834438324, 0.7930627465248108, 0.7901495695114136, 0.7901495099067688, 0.789217472076416, 0.7879225015640259, 0.7876029014587402, 0.7868852019309998, 0.786885142326355, 0.786885142326355, 0.7865124344825745, 0.8554368615150452, 0.8426513671875, 0.8401680588722229, 0.8335853815078735, 0.8335853815078735, 0.8309134244918823, 0.8299424648284912, 0.8291679620742798, 0.8291679620742798, 0.826012134552002, 0.826012134552002, 0.8203542232513428, 0.820354163646698, 0.8203541040420532, 0.8203541040420532, 0.8203541040420532, 0.8203541040420532, 0.8199717998504639, 0.8194519281387329, 0.8175400495529175, 0.8175400495529175, 0.8162539601325989, 0.8140448331832886, 0.8140448331832886, 0.8140448331832886, 0.813511312007904, 0.8131328225135803, 0.8090507388114929, 0.8076373934745789, 0.8067938685417175, 0.8067938685417175, 0.8067938089370728, 0.8058962821960449, 0.8047349452972412, 0.8019787073135376, 0.8015478253364563, 0.8013699054718018, 0.8002474904060364, 0.8002474904060364, 0.8002474904060364, 0.7986841201782227, 0.9999998807907104, 0.9999998807907104, 0.9999998807907104, 0.9999998807907104, 0.9999998807907104, 0.9999998807907104, 0.9999998807907104, 0.9999998807907104, 0.9999998807907104, 0.9999998807907104, 0.9999998807907104, 0.9999998807907104, 0.9999998807907104, 0.9999998807907104, 0.9999998807907104, 0.9999998807907104, 0.9999998807907104, 0.9999998807907104, 0.9999998807907104, 0.9999998807907104, 0.9999998807907104, 0.9999998807907104, 0.9680036306381226, 0.9591661691665649, 0.9591661691665649, 0.936257541179657, 0.9100315570831299, 0.8952046632766724, 0.8738833069801331, 0.8645299673080444, 0.861410915851593, 0.8570637106895447, 0.8347256779670715, 0.8340575695037842, 0.8260868787765503, 0.823825478553772, 0.8210896253585815, 0.8143805861473083, 0.8091704249382019, 0.8091704249382019, 0.8030316233634949, 0.9046310186386108, 0.9046310186386108, 0.8879224061965942, 0.8809897303581238, 0.8772115707397461, 0.8740928173065186, 0.8740927577018738, 0.8740927577018738, 0.8663823008537292, 0.862217366695404, 0.8619526028633118, 0.8619526028633118, 0.8545066118240356, 0.853234052658081, 0.853234052658081, 0.8528248071670532, 0.8522558212280273, 0.8511256575584412, 0.8511256575584412, 0.8498124480247498, 0.8487492799758911, 0.8487492799758911, 0.8477046489715576, 0.8477046489715576, 0.8453183770179749, 0.8453183770179749, 0.8453183770179749, 0.8441070318222046, 0.8434823751449585, 0.8433540463447571, 0.841952919960022, 0.8403891324996948, 0.8394980430603027, 0.8383374810218811, 0.8376723527908325, 0.837672233581543, 0.8374141454696655, 0.8360949754714966, 0.8360949754714966, 0.8357651233673096, 0.8357651233673096, 0.8549498319625854, 0.8549498319625854, 0.854178249835968, 0.8339323401451111, 0.8326460123062134, 0.8323467969894409, 0.8323467969894409, 0.8255724906921387, 0.8196720480918884, 0.8167800307273865, 0.8167800307273865, 0.8121828436851501, 0.8121828436851501, 0.8109002709388733, 0.810696005821228, 0.8074142932891846, 0.8074142932891846, 0.8074142932891846, 0.8053446412086487, 0.8048637509346008, 0.8009260296821594, 0.8009260296821594, 0.8001111745834351, 0.8001111745834351, 0.8001111149787903, 0.8001110553741455, 0.8001110553741455, 0.7985419034957886, 0.7978278398513794, 0.7966084480285645, 0.794303834438324, 0.7930627465248108, 0.7901495695114136, 0.7901495099067688, 0.789217472076416, 0.7879225015640259, 0.7876029014587402, 0.7868852019309998, 0.786885142326355, 0.786885142326355, 0.7865124344825745, 0.8554368615150452, 0.8426513671875, 0.8401680588722229, 0.8335853815078735, 0.8335853815078735, 0.8309134244918823, 0.8299424648284912, 0.8291679620742798, 0.8291679620742798, 0.826012134552002, 0.826012134552002, 0.8203542232513428, 0.820354163646698, 0.8203541040420532, 0.8203541040420532, 0.8203541040420532, 0.8203541040420532, 0.8199717998504639, 0.8194519281387329, 0.8175400495529175, 0.8175400495529175, 0.8162539601325989, 0.8140448331832886, 0.8140448331832886, 0.8140448331832886, 0.813511312007904, 0.8131328225135803, 0.8090507388114929, 0.8076373934745789, 0.8067938685417175, 0.8067938685417175, 0.8067938089370728, 0.8058962821960449, 0.8047349452972412, 0.8019787073135376, 0.8015478253364563, 0.8013699054718018, 0.8002474904060364, 0.8002474904060364, 0.8002474904060364, 0.7986841201782227, 0.9999998807907104, 0.9999998807907104, 0.9999998807907104, 0.9999998807907104, 0.9999998807907104, 0.9999998807907104, 0.9999998807907104, 0.9999998807907104, 0.9999998807907104, 0.9999998807907104, 0.9999998807907104, 0.9999998807907104, 0.9999998807907104, 0.9999998807907104, 0.9999998807907104, 0.9999998807907104, 0.9999998807907104, 0.9999998807907104, 0.9999998807907104, 0.9999998807907104, 0.9999998807907104, 0.9999998807907104, 0.9680036306381226, 0.9591661691665649, 0.9591661691665649, 0.936257541179657, 0.9100315570831299, 0.8952046632766724, 0.8738833069801331, 0.8645299673080444, 0.861410915851593, 0.8570637106895447, 0.8347256779670715, 0.8340575695037842, 0.8260868787765503, 0.823825478553772, 0.8210896253585815, 0.8143805861473083, 0.8091704249382019, 0.8091704249382019, 0.8030316233634949, 0.9046310186386108, 0.9046310186386108, 0.8879224061965942, 0.8809897303581238, 0.8772115707397461, 0.8740928173065186, 0.8740927577018738, 0.8740927577018738, 0.8663823008537292, 0.862217366695404, 0.8619526028633118, 0.8619526028633118, 0.8545066118240356, 0.853234052658081, 0.853234052658081, 0.8528248071670532, 0.8522558212280273, 0.8511256575584412, 0.8511256575584412, 0.8498124480247498, 0.8487492799758911, 0.8487492799758911, 0.8477046489715576, 0.8477046489715576, 0.8453183770179749, 0.8453183770179749, 0.8453183770179749, 0.8441070318222046, 0.8434823751449585, 0.8433540463447571, 0.841952919960022, 0.8403891324996948, 0.8394980430603027, 0.8383374810218811, 0.8376723527908325, 0.837672233581543, 0.8374141454696655, 0.8360949754714966, 0.8360949754714966, 0.8357651233673096, 0.8357651233673096, 0.9446350336074829, 0.9439656734466553, 0.9383021593093872, 0.9376706480979919, 0.9375168681144714, 0.9375168681144714, 0.9335359334945679, 0.9335359334945679, 0.9335359334945679, 0.9310340285301208, 0.9310340285301208, 0.9310340285301208, 0.9300129413604736, 0.9265243411064148, 0.9252727031707764, 0.9238115549087524, 0.9238115549087524, 0.9230800867080688, 0.9226638078689575, 0.9189572334289551, 0.9188631772994995, 0.9148936867713928, 0.9124699831008911, 0.9118314385414124, 0.9118314385414124, 0.9114935994148254, 0.9080213308334351, 0.9050102233886719, 0.9045975208282471, 0.9031408429145813, 0.9031408429145813, 0.9028816819190979, 0.9028816819190979, 0.8983224034309387, 0.8970903754234314, 0.8955528736114502, 0.8951734304428101, 0.8946385383605957, 0.8925407528877258, 0.8907241225242615, 0.8895109295845032, 0.8966438174247742, 0.8873525857925415, 0.8860527276992798, 0.8860527276992798, 0.8860527276992798, 0.8763840794563293, 0.8740791082382202, 0.8740791082382202, 0.8665068745613098, 0.866506814956665, 0.8656460642814636, 0.8656460642814636, 0.8626527190208435, 0.8621148467063904, 0.8598693609237671, 0.8581143617630005, 0.8566934466362, 0.8560312390327454, 0.8546176552772522, 0.8532795906066895, 0.852917492389679, 0.8516296744346619, 0.8504976034164429, 0.8488789200782776, 0.8484850525856018, 0.8478761911392212, 0.8477123975753784, 0.8449139595031738, 0.8449139595031738, 0.844913899898529, 0.8432555794715881, 0.8423840403556824, 0.8420656323432922, 0.8413287401199341, 0.8413286805152893, 0.8410830497741699, 0.8389353156089783, 0.8389353156089783, 0.8387097120285034, 0.838158130645752, 0.8381083607673645, 0.9434522390365601, 0.9422776103019714, 0.9354945421218872, 0.9348799586296082, 0.9348799586296082, 0.930567741394043, 0.930567741394043, 0.930567741394043, 0.908784031867981, 0.9028432369232178, 0.8937128186225891, 0.8936296701431274, 0.8936296701431274, 0.8936296701431274, 0.8882281184196472, 0.8827715516090393, 0.8802840113639832, 0.8775268793106079, 0.8775268793106079, 0.8684197664260864, 0.866056501865387, 0.8650402426719666, 0.8650402426719666, 0.8649801015853882, 0.8620796203613281, 0.86150723695755, 0.86150723695755, 0.8607887029647827, 0.8555852770805359, 0.8555852770805359, 0.8527507781982422, 0.8527507781982422, 0.8527507781982422, 0.8525023460388184, 0.852226734161377, 0.852226734161377, 0.852226734161377, 0.8513774871826172, 0.8513774871826172, 0.8513774871826172, 0.8486835360527039, 0.7233392000198364, 0.6544769406318665, 0.6315789222717285, 0.6260213851928711, 0.6260213851928711, 0.6260213851928711, 0.6260213851928711, 0.6260213851928711, 0.6218743324279785, 0.607737123966217, 0.607737123966217, 0.6069769859313965, 0.6023469567298889, 0.598986029624939, 0.5989859700202942, 0.5989859700202942, 0.5989859700202942, 0.5973477363586426, 0.5964808464050293, 0.5877300500869751, 0.582794189453125, 0.582794189453125, 0.5818356871604919, 0.5813876986503601, 0.5813876986503601, 0.579986572265625, 0.579986572265625, 0.579986572265625, 0.5782433152198792, 0.5768598914146423, 0.57396399974823, 0.5672281384468079, 0.5602961778640747, 0.5568193793296814, 0.5560925006866455, 0.5510387420654297, 0.5510387420654297, 0.5510387420654297, 0.5501196384429932, 0.5478652119636536, 0.5478652119636536, 0.9280238151550293, 0.8965518474578857, 0.8965518474578857, 0.8965518474578857, 0.8965518474578857, 0.8965518474578857, 0.893852710723877, 0.8909062147140503, 0.8893193006515503, 0.8851315379142761, 0.8851315379142761, 0.8851315379142761, 0.8779094219207764, 0.8761546611785889, 0.8731961846351624, 0.8731961846351624, 0.8703169822692871, 0.8665783405303955, 0.8665783405303955, 0.866506814956665, 0.8660457730293274, 0.8656302690505981, 0.8656302690505981, 0.8636730313301086, 0.8636729121208191, 0.8630338907241821, 0.8623164296150208, 0.8623164296150208, 0.8623164296150208, 0.8620792627334595, 0.8620792627334595, 0.8616886138916016, 0.8612157702445984, 0.8612073659896851, 0.8595878481864929, 0.8581366539001465, 0.8576900959014893, 0.8568453788757324, 0.8565110564231873, 0.8556760549545288, 0.8547875285148621, 0.9349835515022278, 0.9123081564903259, 0.9049908518791199, 0.900283694267273, 0.8999646902084351, 0.8974308967590332, 0.8924731612205505, 0.8831770420074463, 0.8800090551376343, 0.8723686337471008, 0.8702199459075928, 0.870195209980011, 0.8660435676574707, 0.8655945658683777, 0.8650057315826416, 0.8650057315826416, 0.8641263246536255, 0.8641263246536255, 0.8636621236801147, 0.8636313080787659, 0.8602150678634644, 0.8602150678634644, 0.8598695397377014, 0.8578269481658936, 0.8545839786529541, 0.8545839190483093, 0.8504241704940796, 0.8501317501068115, 0.8501317501068115, 0.8501316905021667, 0.8501316905021667, 0.8501316905021667, 0.8501316905021667, 0.8488732576370239, 0.8480216860771179, 0.8478554487228394, 0.8478426933288574, 0.8478426933288574, 0.8460577130317688, 0.8452898859977722, 0.8451218008995056, 0.9654989242553711, 0.9352893829345703, 0.9352893829345703, 0.9288344383239746, 0.9288344383239746, 0.9288344383239746, 0.9288343787193298, 0.9288343787193298, 0.924622654914856, 0.9231685400009155, 0.9224810600280762, 0.9204329252243042, 0.9178082942962646, 0.9152824878692627, 0.9148349761962891, 0.9148349761962891, 0.9113421440124512, 0.9104889035224915, 0.909588098526001, 0.909588098526001, 0.9068502187728882, 0.904391348361969, 0.9027100205421448, 0.9023047089576721, 0.9003262519836426, 0.8979330658912659, 0.8979330658912659, 0.8972121477127075, 0.8972121477127075, 0.8959215879440308, 0.8957367539405823, 0.8957367539405823, 0.8944272398948669, 0.8944272398948669, 0.8941963315010071, 0.8910647034645081, 0.8910647034645081, 0.8910280466079712, 0.8906049728393555, 0.890509307384491, 0.8890106678009033, 0.9106265306472778, 0.9106265306472778, 0.9106265306472778, 0.910093367099762, 0.900693953037262, 0.8966168761253357, 0.8934432864189148, 0.8934432864189148, 0.891087532043457, 0.8907766342163086, 0.8868441581726074, 0.8868441581726074, 0.8830317854881287, 0.8830317854881287, 0.8830317854881287, 0.8809138536453247, 0.8809138536453247, 0.8807682394981384, 0.8777480721473694, 0.8750445246696472, 0.8748645782470703, 0.874777615070343, 0.874777615070343, 0.874748170375824, 0.8718371987342834, 0.868693470954895, 0.8665200471878052, 0.866044282913208, 0.8657256960868835, 0.8655447363853455, 0.8641499876976013, 0.8641499876976013, 0.8641499876976013, 0.8618069291114807, 0.8617143630981445, 0.8593963384628296, 0.8592131733894348, 0.8578578233718872, 0.8569592237472534, 0.856814444065094, 0.856814444065094, 0.9157821536064148, 0.9041575193405151, 0.8725473284721375, 0.868543267250061, 0.8553371429443359, 0.852066159248352, 0.852066159248352, 0.852066159248352, 0.8487473726272583, 0.8441622257232666, 0.8439198136329651, 0.8394196033477783, 0.8362420201301575, 0.8355728387832642, 0.8223168849945068, 0.8215596079826355, 0.8207677602767944, 0.8207677602767944, 0.8207677602767944, 0.8207677602767944, 0.8207677602767944, 0.8207677602767944, 0.8207677602767944, 0.8155909180641174, 0.8062458634376526, 0.796397864818573, 0.7950999736785889, 0.7884045839309692, 0.7878786325454712, 0.780875027179718, 0.7804925441741943, 0.7784989476203918, 0.7784988880157471, 0.7765678763389587, 0.7758097648620605, 0.7733853459358215, 0.7719842195510864, 0.7705413699150085, 0.7659416794776917, 0.7659416794776917, 0.7659416794776917, 0.9500192403793335, 0.9500192403793335, 0.943462610244751, 0.943462610244751, 0.943462610244751, 0.943462610244751, 0.943462610244751, 0.943462610244751, 0.9429079294204712, 0.9429079294204712, 0.9416797757148743, 0.9391845464706421, 0.9377074837684631, 0.9370092153549194, 0.9352195858955383, 0.934928834438324, 0.9343531131744385, 0.9310486316680908, 0.9296972155570984, 0.9256949424743652, 0.9251985549926758, 0.9239132404327393, 0.9239132404327393, 0.9237695336341858, 0.9222247004508972, 0.9222247004508972, 0.9165151715278625, 0.9163796305656433, 0.9145054817199707, 0.912074625492096, 0.912074625492096, 0.9113423228263855, 0.9113423228263855, 0.9113218188285828, 0.9098437428474426, 0.9098437428474426, 0.9082789421081543, 0.9060665965080261, 0.905098021030426, 0.905098021030426, 0.9050608277320862, 0.9394222497940063, 0.9298035502433777, 0.916260838508606, 0.9156979322433472, 0.9156979322433472, 0.9156979322433472, 0.9155774116516113, 0.9143283367156982, 0.9122583866119385, 0.9073290824890137, 0.9071636199951172, 0.9065862894058228, 0.9018129110336304, 0.8964279890060425, 0.8932026624679565, 0.8932026624679565, 0.8920510411262512, 0.8920510411262512, 0.8776139616966248, 0.8766618967056274, 0.8763607740402222, 0.8763607740402222, 0.8763607740402222, 0.8757550716400146, 0.8757550120353699, 0.8757550120353699, 0.8757550120353699, 0.8757550120353699, 0.8757550120353699, 0.8742115497589111, 0.8701704144477844, 0.8677220344543457, 0.8677219152450562, 0.8677219152450562, 0.8618068695068359, 0.8618068695068359, 0.8616965413093567, 0.8613793253898621, 0.8610211610794067, 0.8605232238769531, 0.8605232238769531, 0.959302544593811, 0.959302544593811, 0.959302544593811, 0.9511783123016357, 0.9265558123588562, 0.9210764169692993, 0.9140769839286804, 0.9140769839286804, 0.9140375852584839, 0.9140375852584839, 0.9140324592590332, 0.9118837118148804, 0.9019120931625366, 0.9019120931625366, 0.9013814926147461, 0.8956645131111145, 0.895173192024231, 0.8932027816772461, 0.8932027816772461, 0.8932027816772461, 0.8932027816772461, 0.8912870287895203, 0.8874427676200867, 0.8860387802124023, 0.8859916925430298, 0.8859916925430298, 0.8859916925430298, 0.8857851028442383, 0.8837806582450867, 0.8837806582450867, 0.883216917514801, 0.883216917514801, 0.8826774954795837, 0.8809138536453247, 0.8800305724143982, 0.8763607740402222, 0.8763607740402222, 0.8763607740402222, 0.8744747042655945, 0.865253210067749, 0.865253210067749, 0.9999998807907104, 0.9999998807907104, 0.9999998807907104, 0.9999998807907104, 0.9999998807907104, 0.9999998807907104, 0.9999998807907104, 0.9999998807907104, 0.9999998807907104, 0.9174633026123047, 0.9174633026123047, 0.9100315570831299, 0.9100315570831299, 0.9100315570831299, 0.9100315570831299, 0.8131231665611267, 0.804071307182312, 0.7744029760360718, 0.7735267281532288, 0.765383780002594, 0.765383780002594, 0.765383780002594, 0.765383780002594, 0.762030839920044, 0.7506518363952637, 0.7366349697113037, 0.7345585823059082, 0.7325942516326904, 0.7280252575874329, 0.7280251979827881, 0.7280251979827881, 0.7280251979827881, 0.7280251979827881, 0.7280251979827881, 0.7280251979827881, 0.7280251979827881, 0.7223151922225952, 0.7160413861274719, 0.7144421339035034, 0.714286744594574, 0.7106641530990601, 0.9394222497940063, 0.9298035502433777, 0.916260838508606, 0.9156979322433472, 0.9156979322433472, 0.9156979322433472, 0.9155774116516113, 0.9143283367156982, 0.9122583866119385, 0.9073290824890137, 0.9071636199951172, 0.9065862894058228, 0.9018129110336304, 0.8964279890060425, 0.8932026624679565, 0.8932026624679565, 0.8920510411262512, 0.8920510411262512, 0.8776139616966248, 0.8766618967056274, 0.8763607740402222, 0.8763607740402222, 0.8763607740402222, 0.8757550716400146, 0.8757550120353699, 0.8757550120353699, 0.8757550120353699, 0.8757550120353699, 0.8757550120353699, 0.8742115497589111, 0.8701704144477844, 0.8677220344543457, 0.8677219152450562, 0.8677219152450562, 0.8618068695068359, 0.8618068695068359, 0.8616965413093567, 0.8613793253898621, 0.8610211610794067, 0.8605232238769531, 0.8605232238769531, 0.9394222497940063, 0.9298035502433777, 0.916260838508606, 0.9156979322433472, 0.9156979322433472, 0.9156979322433472, 0.9155774116516113, 0.9143283367156982, 0.9122583866119385, 0.9073290824890137, 0.9071636199951172, 0.9065862894058228, 0.9018129110336304, 0.8964279890060425, 0.8932026624679565, 0.8932026624679565, 0.8920510411262512, 0.8920510411262512, 0.8776139616966248, 0.8766618967056274, 0.8763607740402222, 0.8763607740402222, 0.8763607740402222, 0.8757550716400146, 0.8757550120353699, 0.8757550120353699, 0.8757550120353699, 0.8757550120353699, 0.8757550120353699, 0.8742115497589111, 0.8701704144477844, 0.8677220344543457, 0.8677219152450562, 0.8677219152450562, 0.8618068695068359, 0.8618068695068359, 0.8616965413093567, 0.8613793253898621, 0.8610211610794067, 0.8605232238769531, 0.8605232238769531, 0.959302544593811, 0.959302544593811, 0.959302544593811, 0.9511783123016357, 0.9265558123588562, 0.9210764169692993, 0.9140769839286804, 0.9140769839286804, 0.9140375852584839, 0.9140375852584839, 0.9140324592590332, 0.9118837118148804, 0.9019120931625366, 0.9019120931625366, 0.9013814926147461, 0.8956645131111145, 0.895173192024231, 0.8932027816772461, 0.8932027816772461, 0.8932027816772461, 0.8932027816772461, 0.8912870287895203, 0.8874427676200867, 0.8860387802124023, 0.8859916925430298, 0.8859916925430298, 0.8859916925430298, 0.8857851028442383, 0.8837806582450867, 0.8837806582450867, 0.883216917514801, 0.883216917514801, 0.8826774954795837, 0.8809138536453247, 0.8800305724143982, 0.8763607740402222, 0.8763607740402222, 0.8763607740402222, 0.8744747042655945, 0.865253210067749, 0.865253210067749, 0.9999998807907104, 0.9999998807907104, 0.9999998807907104, 0.9999998807907104, 0.9999998807907104, 0.9999998807907104, 0.9999998807907104, 0.9999998807907104, 0.9999998807907104, 0.9174633026123047, 0.9174633026123047, 0.9100315570831299, 0.9100315570831299, 0.9100315570831299, 0.9100315570831299, 0.8131231665611267, 0.804071307182312, 0.7744029760360718, 0.7735267281532288, 0.765383780002594, 0.765383780002594, 0.765383780002594, 0.765383780002594, 0.762030839920044, 0.7506518363952637, 0.7366349697113037, 0.7345585823059082, 0.7325942516326904, 0.7280252575874329, 0.7280251979827881, 0.7280251979827881, 0.7280251979827881, 0.7280251979827881, 0.7280251979827881, 0.7280251979827881, 0.7280251979827881, 0.7223151922225952, 0.7160413861274719, 0.7144421339035034, 0.714286744594574, 0.7106641530990601, 0.9394222497940063, 0.9298035502433777, 0.916260838508606, 0.9156979322433472, 0.9156979322433472, 0.9156979322433472, 0.9155774116516113, 0.9143283367156982, 0.9122583866119385, 0.9073290824890137, 0.9071636199951172, 0.9065862894058228, 0.9018129110336304, 0.8964279890060425, 0.8932026624679565, 0.8932026624679565, 0.8920510411262512, 0.8920510411262512, 0.8776139616966248, 0.8766618967056274, 0.8763607740402222, 0.8763607740402222, 0.8763607740402222, 0.8757550716400146, 0.8757550120353699, 0.8757550120353699, 0.8757550120353699, 0.8757550120353699, 0.8757550120353699, 0.8742115497589111, 0.8701704144477844, 0.8677220344543457, 0.8677219152450562, 0.8677219152450562, 0.8618068695068359, 0.8618068695068359, 0.8616965413093567, 0.8613793253898621, 0.8610211610794067, 0.8605232238769531, 0.8605232238769531, 0.9089717864990234, 0.8827347755432129, 0.8693016171455383, 0.8614436388015747, 0.8451542854309082, 0.8440452814102173, 0.8362257480621338, 0.8362257480621338, 0.8362256288528442, 0.8283814191818237, 0.822403073310852, 0.822403073310852, 0.8224030137062073, 0.8224030137062073, 0.8210070729255676, 0.8196886777877808, 0.8183436989784241, 0.8163561224937439, 0.8139569163322449, 0.8139568567276001, 0.8139568567276001, 0.8139568567276001, 0.8126359581947327, 0.8126359581947327, 0.8126359581947327, 0.8114822506904602, 0.8095110654830933, 0.8092436790466309, 0.8092436790466309, 0.8086028099060059, 0.8066946864128113, 0.8059927225112915, 0.8058666586875916, 0.8058666586875916, 0.7999999523162842, 0.7999999523162842, 0.7999999523162842, 0.7977238297462463, 0.7977237701416016, 0.7973684668540955, 0.7973660826683044, 0.8745573163032532, 0.8533102869987488, 0.8458887338638306, 0.8433626294136047, 0.8358542323112488, 0.8342725038528442, 0.8336551189422607, 0.8336551189422607, 0.8305395841598511, 0.8251006603240967, 0.8238857388496399, 0.8238857388496399, 0.8224711418151855, 0.822403073310852, 0.8212368488311768, 0.8212075233459473, 0.8196887373924255, 0.8196887373924255, 0.8196348547935486, 0.8191182017326355, 0.8182289004325867, 0.8170415163040161, 0.8160941004753113, 0.8160941004753113, 0.8160939812660217, 0.8150855302810669, 0.8132501244544983, 0.8132501244544983, 0.8111260533332825, 0.8111260533332825, 0.8085734844207764, 0.8073214292526245, 0.8066366910934448, 0.8066366910934448, 0.8059927225112915, 0.8031576871871948, 0.8021851778030396, 0.8002380728721619, 0.799085795879364, 0.7987331748008728, 0.7987331748008728, 0.7011695504188538, 0.6896563768386841, 0.6697108149528503, 0.6697108149528503, 0.6697108149528503, 0.6697108149528503, 0.6574381589889526, 0.6574381589889526, 0.6574381589889526, 0.6513115167617798, 0.6420577764511108, 0.637022078037262, 0.637022078037262, 0.637022078037262, 0.6359629034996033, 0.6332594752311707, 0.6218743324279785, 0.6195223927497864, 0.6170608997344971, 0.6170608997344971, 0.6140433549880981, 0.6019291877746582, 0.6010024547576904, 0.6010024547576904, 0.5991712212562561, 0.596767008304596, 0.5958795547485352, 0.5957555174827576, 0.5957555174827576, 0.5957555174827576, 0.5957555174827576, 0.5957555174827576, 0.5950732231140137, 0.5922200679779053, 0.5915205478668213, 0.5915205478668213, 0.5915205478668213, 0.5915204882621765, 0.5915204882621765, 0.5915204882621765, 0.5864925384521484, 0.8924513459205627, 0.8924250602722168, 0.8918917179107666, 0.8918917179107666, 0.8858081102371216, 0.8812711238861084, 0.8737469911575317, 0.8724305629730225, 0.8689659237861633, 0.8689659237861633, 0.8660613894462585, 0.8645367622375488, 0.8630145788192749, 0.8614436388015747, 0.8601428866386414, 0.8585459589958191, 0.8585459589958191, 0.8581135869026184, 0.8577504754066467, 0.8562811613082886, 0.8561171293258667, 0.8517570495605469, 0.8506321907043457, 0.8492052555084229, 0.8472687602043152, 0.8426193594932556, 0.8423330187797546, 0.84196537733078, 0.84196537733078, 0.8402615785598755, 0.8389544486999512, 0.8355316519737244, 0.8346092700958252, 0.8346091508865356, 0.8346091508865356, 0.8312350511550903, 0.8312350511550903, 0.8302010893821716, 0.8299276828765869, 0.8299275636672974, 0.8298484683036804], \"xaxis\": \"x\", \"yaxis\": \"y\"}],\n",
              "                        {\"barmode\": \"relative\", \"legend\": {\"tracegroupgap\": 0}, \"margin\": {\"t\": 60}, \"template\": {\"data\": {\"bar\": [{\"error_x\": {\"color\": \"#2a3f5f\"}, \"error_y\": {\"color\": \"#2a3f5f\"}, \"marker\": {\"line\": {\"color\": \"#E5ECF6\", \"width\": 0.5}}, \"type\": \"bar\"}], \"barpolar\": [{\"marker\": {\"line\": {\"color\": \"#E5ECF6\", \"width\": 0.5}}, \"type\": \"barpolar\"}], \"carpet\": [{\"aaxis\": {\"endlinecolor\": \"#2a3f5f\", \"gridcolor\": \"white\", \"linecolor\": \"white\", \"minorgridcolor\": \"white\", \"startlinecolor\": \"#2a3f5f\"}, \"baxis\": {\"endlinecolor\": \"#2a3f5f\", \"gridcolor\": \"white\", \"linecolor\": \"white\", \"minorgridcolor\": \"white\", \"startlinecolor\": \"#2a3f5f\"}, \"type\": \"carpet\"}], \"choropleth\": [{\"colorbar\": {\"outlinewidth\": 0, \"ticks\": \"\"}, \"type\": \"choropleth\"}], \"contour\": [{\"colorbar\": {\"outlinewidth\": 0, \"ticks\": \"\"}, \"colorscale\": [[0.0, \"#0d0887\"], [0.1111111111111111, \"#46039f\"], [0.2222222222222222, \"#7201a8\"], [0.3333333333333333, \"#9c179e\"], [0.4444444444444444, \"#bd3786\"], [0.5555555555555556, \"#d8576b\"], [0.6666666666666666, \"#ed7953\"], [0.7777777777777778, \"#fb9f3a\"], [0.8888888888888888, \"#fdca26\"], [1.0, \"#f0f921\"]], \"type\": \"contour\"}], \"contourcarpet\": [{\"colorbar\": {\"outlinewidth\": 0, \"ticks\": \"\"}, \"type\": \"contourcarpet\"}], \"heatmap\": [{\"colorbar\": {\"outlinewidth\": 0, \"ticks\": \"\"}, \"colorscale\": [[0.0, \"#0d0887\"], [0.1111111111111111, \"#46039f\"], [0.2222222222222222, \"#7201a8\"], [0.3333333333333333, \"#9c179e\"], [0.4444444444444444, \"#bd3786\"], [0.5555555555555556, \"#d8576b\"], [0.6666666666666666, \"#ed7953\"], [0.7777777777777778, \"#fb9f3a\"], [0.8888888888888888, \"#fdca26\"], [1.0, \"#f0f921\"]], \"type\": \"heatmap\"}], \"heatmapgl\": [{\"colorbar\": {\"outlinewidth\": 0, \"ticks\": \"\"}, \"colorscale\": [[0.0, \"#0d0887\"], [0.1111111111111111, \"#46039f\"], [0.2222222222222222, \"#7201a8\"], [0.3333333333333333, \"#9c179e\"], [0.4444444444444444, \"#bd3786\"], [0.5555555555555556, \"#d8576b\"], [0.6666666666666666, \"#ed7953\"], [0.7777777777777778, \"#fb9f3a\"], [0.8888888888888888, \"#fdca26\"], [1.0, \"#f0f921\"]], \"type\": \"heatmapgl\"}], \"histogram\": [{\"marker\": {\"colorbar\": {\"outlinewidth\": 0, \"ticks\": \"\"}}, \"type\": \"histogram\"}], \"histogram2d\": [{\"colorbar\": {\"outlinewidth\": 0, \"ticks\": \"\"}, \"colorscale\": [[0.0, \"#0d0887\"], [0.1111111111111111, \"#46039f\"], [0.2222222222222222, \"#7201a8\"], [0.3333333333333333, \"#9c179e\"], [0.4444444444444444, \"#bd3786\"], [0.5555555555555556, \"#d8576b\"], [0.6666666666666666, \"#ed7953\"], [0.7777777777777778, \"#fb9f3a\"], [0.8888888888888888, \"#fdca26\"], [1.0, \"#f0f921\"]], \"type\": \"histogram2d\"}], \"histogram2dcontour\": [{\"colorbar\": {\"outlinewidth\": 0, \"ticks\": \"\"}, \"colorscale\": [[0.0, \"#0d0887\"], [0.1111111111111111, \"#46039f\"], [0.2222222222222222, \"#7201a8\"], [0.3333333333333333, \"#9c179e\"], [0.4444444444444444, \"#bd3786\"], [0.5555555555555556, \"#d8576b\"], [0.6666666666666666, \"#ed7953\"], [0.7777777777777778, \"#fb9f3a\"], [0.8888888888888888, \"#fdca26\"], [1.0, \"#f0f921\"]], \"type\": \"histogram2dcontour\"}], \"mesh3d\": [{\"colorbar\": {\"outlinewidth\": 0, \"ticks\": \"\"}, \"type\": \"mesh3d\"}], \"parcoords\": [{\"line\": {\"colorbar\": {\"outlinewidth\": 0, \"ticks\": \"\"}}, \"type\": \"parcoords\"}], \"pie\": [{\"automargin\": true, \"type\": \"pie\"}], \"scatter\": [{\"marker\": {\"colorbar\": {\"outlinewidth\": 0, \"ticks\": \"\"}}, \"type\": \"scatter\"}], \"scatter3d\": [{\"line\": {\"colorbar\": {\"outlinewidth\": 0, \"ticks\": \"\"}}, \"marker\": {\"colorbar\": {\"outlinewidth\": 0, \"ticks\": \"\"}}, \"type\": \"scatter3d\"}], \"scattercarpet\": [{\"marker\": {\"colorbar\": {\"outlinewidth\": 0, \"ticks\": \"\"}}, \"type\": \"scattercarpet\"}], \"scattergeo\": [{\"marker\": {\"colorbar\": {\"outlinewidth\": 0, \"ticks\": \"\"}}, \"type\": \"scattergeo\"}], \"scattergl\": [{\"marker\": {\"colorbar\": {\"outlinewidth\": 0, \"ticks\": \"\"}}, \"type\": \"scattergl\"}], \"scattermapbox\": [{\"marker\": {\"colorbar\": {\"outlinewidth\": 0, \"ticks\": \"\"}}, \"type\": \"scattermapbox\"}], \"scatterpolar\": [{\"marker\": {\"colorbar\": {\"outlinewidth\": 0, \"ticks\": \"\"}}, \"type\": \"scatterpolar\"}], \"scatterpolargl\": [{\"marker\": {\"colorbar\": {\"outlinewidth\": 0, \"ticks\": \"\"}}, \"type\": \"scatterpolargl\"}], \"scatterternary\": [{\"marker\": {\"colorbar\": {\"outlinewidth\": 0, \"ticks\": \"\"}}, \"type\": \"scatterternary\"}], \"surface\": [{\"colorbar\": {\"outlinewidth\": 0, \"ticks\": \"\"}, \"colorscale\": [[0.0, \"#0d0887\"], [0.1111111111111111, \"#46039f\"], [0.2222222222222222, \"#7201a8\"], [0.3333333333333333, \"#9c179e\"], [0.4444444444444444, \"#bd3786\"], [0.5555555555555556, \"#d8576b\"], [0.6666666666666666, \"#ed7953\"], [0.7777777777777778, \"#fb9f3a\"], [0.8888888888888888, \"#fdca26\"], [1.0, \"#f0f921\"]], \"type\": \"surface\"}], \"table\": [{\"cells\": {\"fill\": {\"color\": \"#EBF0F8\"}, \"line\": {\"color\": \"white\"}}, \"header\": {\"fill\": {\"color\": \"#C8D4E3\"}, \"line\": {\"color\": \"white\"}}, \"type\": \"table\"}]}, \"layout\": {\"annotationdefaults\": {\"arrowcolor\": \"#2a3f5f\", \"arrowhead\": 0, \"arrowwidth\": 1}, \"coloraxis\": {\"colorbar\": {\"outlinewidth\": 0, \"ticks\": \"\"}}, \"colorscale\": {\"diverging\": [[0, \"#8e0152\"], [0.1, \"#c51b7d\"], [0.2, \"#de77ae\"], [0.3, \"#f1b6da\"], [0.4, \"#fde0ef\"], [0.5, \"#f7f7f7\"], [0.6, \"#e6f5d0\"], [0.7, \"#b8e186\"], [0.8, \"#7fbc41\"], [0.9, \"#4d9221\"], [1, \"#276419\"]], \"sequential\": [[0.0, \"#0d0887\"], [0.1111111111111111, \"#46039f\"], [0.2222222222222222, \"#7201a8\"], [0.3333333333333333, \"#9c179e\"], [0.4444444444444444, \"#bd3786\"], [0.5555555555555556, \"#d8576b\"], [0.6666666666666666, \"#ed7953\"], [0.7777777777777778, \"#fb9f3a\"], [0.8888888888888888, \"#fdca26\"], [1.0, \"#f0f921\"]], \"sequentialminus\": [[0.0, \"#0d0887\"], [0.1111111111111111, \"#46039f\"], [0.2222222222222222, \"#7201a8\"], [0.3333333333333333, \"#9c179e\"], [0.4444444444444444, \"#bd3786\"], [0.5555555555555556, \"#d8576b\"], [0.6666666666666666, \"#ed7953\"], [0.7777777777777778, \"#fb9f3a\"], [0.8888888888888888, \"#fdca26\"], [1.0, \"#f0f921\"]]}, \"colorway\": [\"#636efa\", \"#EF553B\", \"#00cc96\", \"#ab63fa\", \"#FFA15A\", \"#19d3f3\", \"#FF6692\", \"#B6E880\", \"#FF97FF\", \"#FECB52\"], \"font\": {\"color\": \"#2a3f5f\"}, \"geo\": {\"bgcolor\": \"white\", \"lakecolor\": \"white\", \"landcolor\": \"#E5ECF6\", \"showlakes\": true, \"showland\": true, \"subunitcolor\": \"white\"}, \"hoverlabel\": {\"align\": \"left\"}, \"hovermode\": \"closest\", \"mapbox\": {\"style\": \"light\"}, \"paper_bgcolor\": \"white\", \"plot_bgcolor\": \"#E5ECF6\", \"polar\": {\"angularaxis\": {\"gridcolor\": \"white\", \"linecolor\": \"white\", \"ticks\": \"\"}, \"bgcolor\": \"#E5ECF6\", \"radialaxis\": {\"gridcolor\": \"white\", \"linecolor\": \"white\", \"ticks\": \"\"}}, \"scene\": {\"xaxis\": {\"backgroundcolor\": \"#E5ECF6\", \"gridcolor\": \"white\", \"gridwidth\": 2, \"linecolor\": \"white\", \"showbackground\": true, \"ticks\": \"\", \"zerolinecolor\": \"white\"}, \"yaxis\": {\"backgroundcolor\": \"#E5ECF6\", \"gridcolor\": \"white\", \"gridwidth\": 2, \"linecolor\": \"white\", \"showbackground\": true, \"ticks\": \"\", \"zerolinecolor\": \"white\"}, \"zaxis\": {\"backgroundcolor\": \"#E5ECF6\", \"gridcolor\": \"white\", \"gridwidth\": 2, \"linecolor\": \"white\", \"showbackground\": true, \"ticks\": \"\", \"zerolinecolor\": \"white\"}}, \"shapedefaults\": {\"line\": {\"color\": \"#2a3f5f\"}}, \"ternary\": {\"aaxis\": {\"gridcolor\": \"white\", \"linecolor\": \"white\", \"ticks\": \"\"}, \"baxis\": {\"gridcolor\": \"white\", \"linecolor\": \"white\", \"ticks\": \"\"}, \"bgcolor\": \"#E5ECF6\", \"caxis\": {\"gridcolor\": \"white\", \"linecolor\": \"white\", \"ticks\": \"\"}}, \"title\": {\"x\": 0.05}, \"xaxis\": {\"automargin\": true, \"gridcolor\": \"white\", \"linecolor\": \"white\", \"ticks\": \"\", \"title\": {\"standoff\": 15}, \"zerolinecolor\": \"white\", \"zerolinewidth\": 2}, \"yaxis\": {\"automargin\": true, \"gridcolor\": \"white\", \"linecolor\": \"white\", \"ticks\": \"\", \"title\": {\"standoff\": 15}, \"zerolinecolor\": \"white\", \"zerolinewidth\": 2}}}, \"xaxis\": {\"anchor\": \"y\", \"domain\": [0.0, 1.0], \"title\": {\"text\": \"score\"}}, \"yaxis\": {\"anchor\": \"x\", \"domain\": [0.0, 1.0], \"title\": {\"text\": \"count\"}}},\n",
              "                        {\"responsive\": true}\n",
              "                    ).then(function(){\n",
              "                            \n",
              "var gd = document.getElementById('5f1f18a9-cc20-4d40-9cf1-8960628f2b1c');\n",
              "var x = new MutationObserver(function (mutations, observer) {{\n",
              "        var display = window.getComputedStyle(gd).display;\n",
              "        if (!display || display === 'none') {{\n",
              "            console.log([gd, 'removed!']);\n",
              "            Plotly.purge(gd);\n",
              "            observer.disconnect();\n",
              "        }}\n",
              "}});\n",
              "\n",
              "// Listen for the removal of the full notebook cells\n",
              "var notebookContainer = gd.closest('#notebook-container');\n",
              "if (notebookContainer) {{\n",
              "    x.observe(notebookContainer, {childList: true});\n",
              "}}\n",
              "\n",
              "// Listen for the clearing of the current output cell\n",
              "var outputEl = gd.closest('.output');\n",
              "if (outputEl) {{\n",
              "    x.observe(outputEl, {childList: true});\n",
              "}}\n",
              "\n",
              "                        })\n",
              "                };\n",
              "                \n",
              "            </script>\n",
              "        </div>\n",
              "</body>\n",
              "</html>"
            ]
          },
          "metadata": {}
        }
      ]
    },
    {
      "cell_type": "code",
      "metadata": {
        "id": "OZ0YfkIO9g5V"
      },
      "source": [
        "def recommend_tune(df, tune_name):\n",
        "\n",
        "  df_tune = df.query(f\"reference_title == '{tune_name}'\")\n",
        "  ff = df_tune.iloc[:]\n",
        "\n",
        "  # get the maximum similarity score for each section and store in new column\n",
        "  ff['max'] = ff.groupby('ref_section')['score'].transform('max')\n",
        "\n",
        "  # scale the score with the maxmum value of each section\n",
        "  ff['score_div_max'] = ff['score'] / ff['max']\n",
        "\n",
        "  # consider only the top N tunes for each group\n",
        "  ff = ff.sort_values(['ref_section', 'score_div_max'], ascending=[True, False])\n",
        "  result = ff.groupby('ref_section').head(30)\n",
        "  \n",
        "  # if multiple rows from the same similar tune, keep only the similar_title with the highest score_div_max\n",
        "  result = result.groupby('similar_title').max('score_div_max').sort_values('score_div_max', ascending=False)\n",
        "\n",
        "  return result, ff"
      ],
      "execution_count": 128,
      "outputs": []
    },
    {
      "cell_type": "code",
      "metadata": {
        "colab": {
          "base_uri": "https://localhost:8080/",
          "height": 1000
        },
        "id": "ohaxVQ6d9iiD",
        "outputId": "3252447f-563b-42da-bbf9-ebf312c4e5b6"
      },
      "source": [
        "result, details = recommend_tune(df_sim, 'Blue Moon')\n",
        "result.head(30)"
      ],
      "execution_count": 129,
      "outputs": [
        {
          "output_type": "execute_result",
          "data": {
            "text/html": [
              "<div>\n",
              "<style scoped>\n",
              "    .dataframe tbody tr th:only-of-type {\n",
              "        vertical-align: middle;\n",
              "    }\n",
              "\n",
              "    .dataframe tbody tr th {\n",
              "        vertical-align: top;\n",
              "    }\n",
              "\n",
              "    .dataframe thead th {\n",
              "        text-align: right;\n",
              "    }\n",
              "</style>\n",
              "<table border=\"1\" class=\"dataframe\">\n",
              "  <thead>\n",
              "    <tr style=\"text-align: right;\">\n",
              "      <th></th>\n",
              "      <th>score</th>\n",
              "      <th>max</th>\n",
              "      <th>score_div_max</th>\n",
              "    </tr>\n",
              "    <tr>\n",
              "      <th>similar_title</th>\n",
              "      <th></th>\n",
              "      <th></th>\n",
              "      <th></th>\n",
              "    </tr>\n",
              "  </thead>\n",
              "  <tbody>\n",
              "    <tr>\n",
              "      <th>I've Heard That Song Before</th>\n",
              "      <td>0.840168</td>\n",
              "      <td>0.840168</td>\n",
              "      <td>1.000000</td>\n",
              "    </tr>\n",
              "    <tr>\n",
              "      <th>Touch Of Your Lips, The</th>\n",
              "      <td>0.936239</td>\n",
              "      <td>0.949495</td>\n",
              "      <td>1.000000</td>\n",
              "    </tr>\n",
              "    <tr>\n",
              "      <th>Mountain Greenery</th>\n",
              "      <td>0.949495</td>\n",
              "      <td>0.949495</td>\n",
              "      <td>1.000000</td>\n",
              "    </tr>\n",
              "    <tr>\n",
              "      <th>They All Laughed</th>\n",
              "      <td>0.838398</td>\n",
              "      <td>0.840168</td>\n",
              "      <td>0.997893</td>\n",
              "    </tr>\n",
              "    <tr>\n",
              "      <th>Long Ago And Far Away</th>\n",
              "      <td>0.941537</td>\n",
              "      <td>0.949495</td>\n",
              "      <td>0.991619</td>\n",
              "    </tr>\n",
              "    <tr>\n",
              "      <th>Jeepers Creepers</th>\n",
              "      <td>0.934512</td>\n",
              "      <td>0.949495</td>\n",
              "      <td>0.990198</td>\n",
              "    </tr>\n",
              "    <tr>\n",
              "      <th>All Through The Day</th>\n",
              "      <td>0.829630</td>\n",
              "      <td>0.840168</td>\n",
              "      <td>0.987457</td>\n",
              "    </tr>\n",
              "    <tr>\n",
              "      <th>It Could Happen To You</th>\n",
              "      <td>0.868778</td>\n",
              "      <td>0.880281</td>\n",
              "      <td>0.986933</td>\n",
              "    </tr>\n",
              "    <tr>\n",
              "      <th>At Last</th>\n",
              "      <td>0.937009</td>\n",
              "      <td>0.949495</td>\n",
              "      <td>0.986850</td>\n",
              "    </tr>\n",
              "    <tr>\n",
              "      <th>Heart And Soul</th>\n",
              "      <td>0.932527</td>\n",
              "      <td>0.949495</td>\n",
              "      <td>0.982129</td>\n",
              "    </tr>\n",
              "    <tr>\n",
              "      <th>Let's Fall In Love</th>\n",
              "      <td>0.932527</td>\n",
              "      <td>0.949495</td>\n",
              "      <td>0.982129</td>\n",
              "    </tr>\n",
              "    <tr>\n",
              "      <th>Don't Be That Way</th>\n",
              "      <td>0.930589</td>\n",
              "      <td>0.949495</td>\n",
              "      <td>0.980088</td>\n",
              "    </tr>\n",
              "    <tr>\n",
              "      <th>It's A Lovely Day Today</th>\n",
              "      <td>0.822634</td>\n",
              "      <td>0.840168</td>\n",
              "      <td>0.979130</td>\n",
              "    </tr>\n",
              "    <tr>\n",
              "      <th>Over The Rainbow (Somewhere)</th>\n",
              "      <td>0.905209</td>\n",
              "      <td>0.949495</td>\n",
              "      <td>0.977626</td>\n",
              "    </tr>\n",
              "    <tr>\n",
              "      <th>Way You Look Tonight, The</th>\n",
              "      <td>0.911315</td>\n",
              "      <td>0.949495</td>\n",
              "      <td>0.973790</td>\n",
              "    </tr>\n",
              "    <tr>\n",
              "      <th>I Won't Dance</th>\n",
              "      <td>0.923584</td>\n",
              "      <td>0.949495</td>\n",
              "      <td>0.972710</td>\n",
              "    </tr>\n",
              "    <tr>\n",
              "      <th>52nd Street Theme</th>\n",
              "      <td>0.919641</td>\n",
              "      <td>0.949495</td>\n",
              "      <td>0.968558</td>\n",
              "    </tr>\n",
              "    <tr>\n",
              "      <th>Party's Over, The</th>\n",
              "      <td>0.851402</td>\n",
              "      <td>0.880281</td>\n",
              "      <td>0.967193</td>\n",
              "    </tr>\n",
              "    <tr>\n",
              "      <th>I Want To Be Happy</th>\n",
              "      <td>0.811455</td>\n",
              "      <td>0.840168</td>\n",
              "      <td>0.965824</td>\n",
              "    </tr>\n",
              "    <tr>\n",
              "      <th>I Like The Likes Of You</th>\n",
              "      <td>0.915929</td>\n",
              "      <td>0.949495</td>\n",
              "      <td>0.964648</td>\n",
              "    </tr>\n",
              "    <tr>\n",
              "      <th>When You Wish Upon A Star</th>\n",
              "      <td>0.809142</td>\n",
              "      <td>0.840168</td>\n",
              "      <td>0.963072</td>\n",
              "    </tr>\n",
              "    <tr>\n",
              "      <th>Fools Rush In</th>\n",
              "      <td>0.910840</td>\n",
              "      <td>0.949495</td>\n",
              "      <td>0.960928</td>\n",
              "    </tr>\n",
              "    <tr>\n",
              "      <th>Things We Did Last Summer, The</th>\n",
              "      <td>0.844953</td>\n",
              "      <td>0.880281</td>\n",
              "      <td>0.959867</td>\n",
              "    </tr>\n",
              "    <tr>\n",
              "      <th>Be Careful It's My Heart</th>\n",
              "      <td>0.805716</td>\n",
              "      <td>0.840168</td>\n",
              "      <td>0.958994</td>\n",
              "    </tr>\n",
              "    <tr>\n",
              "      <th>I Guess I'll Have To Change My Plan</th>\n",
              "      <td>0.803063</td>\n",
              "      <td>0.840168</td>\n",
              "      <td>0.955836</td>\n",
              "    </tr>\n",
              "    <tr>\n",
              "      <th>On The Street Where You Live</th>\n",
              "      <td>0.801567</td>\n",
              "      <td>0.840168</td>\n",
              "      <td>0.954056</td>\n",
              "    </tr>\n",
              "    <tr>\n",
              "      <th>All God's Chillun Got Rhythm</th>\n",
              "      <td>0.839420</td>\n",
              "      <td>0.880281</td>\n",
              "      <td>0.953581</td>\n",
              "    </tr>\n",
              "    <tr>\n",
              "      <th>I've Got My Fingers Crossed</th>\n",
              "      <td>0.901235</td>\n",
              "      <td>0.949495</td>\n",
              "      <td>0.949173</td>\n",
              "    </tr>\n",
              "    <tr>\n",
              "      <th>Bewitched</th>\n",
              "      <td>0.901235</td>\n",
              "      <td>0.949495</td>\n",
              "      <td>0.949173</td>\n",
              "    </tr>\n",
              "    <tr>\n",
              "      <th>Beyond The Sea</th>\n",
              "      <td>0.835526</td>\n",
              "      <td>0.880281</td>\n",
              "      <td>0.949159</td>\n",
              "    </tr>\n",
              "  </tbody>\n",
              "</table>\n",
              "</div>"
            ],
            "text/plain": [
              "                                        score       max  score_div_max\n",
              "similar_title                                                         \n",
              "I've Heard That Song Before          0.840168  0.840168       1.000000\n",
              "Touch Of Your Lips, The              0.936239  0.949495       1.000000\n",
              "Mountain Greenery                    0.949495  0.949495       1.000000\n",
              "They All Laughed                     0.838398  0.840168       0.997893\n",
              "Long Ago And Far Away                0.941537  0.949495       0.991619\n",
              "Jeepers Creepers                     0.934512  0.949495       0.990198\n",
              "All Through The Day                  0.829630  0.840168       0.987457\n",
              "It Could Happen To You               0.868778  0.880281       0.986933\n",
              "At Last                              0.937009  0.949495       0.986850\n",
              "Heart And Soul                       0.932527  0.949495       0.982129\n",
              "Let's Fall In Love                   0.932527  0.949495       0.982129\n",
              "Don't Be That Way                    0.930589  0.949495       0.980088\n",
              "It's A Lovely Day Today              0.822634  0.840168       0.979130\n",
              "Over The Rainbow (Somewhere)         0.905209  0.949495       0.977626\n",
              "Way You Look Tonight, The            0.911315  0.949495       0.973790\n",
              "I Won't Dance                        0.923584  0.949495       0.972710\n",
              "52nd Street Theme                    0.919641  0.949495       0.968558\n",
              "Party's Over, The                    0.851402  0.880281       0.967193\n",
              "I Want To Be Happy                   0.811455  0.840168       0.965824\n",
              "I Like The Likes Of You              0.915929  0.949495       0.964648\n",
              "When You Wish Upon A Star            0.809142  0.840168       0.963072\n",
              "Fools Rush In                        0.910840  0.949495       0.960928\n",
              "Things We Did Last Summer, The       0.844953  0.880281       0.959867\n",
              "Be Careful It's My Heart             0.805716  0.840168       0.958994\n",
              "I Guess I'll Have To Change My Plan  0.803063  0.840168       0.955836\n",
              "On The Street Where You Live         0.801567  0.840168       0.954056\n",
              "All God's Chillun Got Rhythm         0.839420  0.880281       0.953581\n",
              "I've Got My Fingers Crossed          0.901235  0.949495       0.949173\n",
              "Bewitched                            0.901235  0.949495       0.949173\n",
              "Beyond The Sea                       0.835526  0.880281       0.949159"
            ]
          },
          "metadata": {},
          "execution_count": 129
        }
      ]
    },
    {
      "cell_type": "code",
      "metadata": {
        "colab": {
          "base_uri": "https://localhost:8080/",
          "height": 49
        },
        "id": "FwjwvgO9-B5G",
        "outputId": "2b0dc640-b264-4eae-9c32-aeafd57e1c72"
      },
      "source": [
        "details.query('ref_section == \"These Foolish Things, section3 (B)\"').head(10)"
      ],
      "execution_count": 130,
      "outputs": [
        {
          "output_type": "execute_result",
          "data": {
            "text/html": [
              "<div>\n",
              "<style scoped>\n",
              "    .dataframe tbody tr th:only-of-type {\n",
              "        vertical-align: middle;\n",
              "    }\n",
              "\n",
              "    .dataframe tbody tr th {\n",
              "        vertical-align: top;\n",
              "    }\n",
              "\n",
              "    .dataframe thead th {\n",
              "        text-align: right;\n",
              "    }\n",
              "</style>\n",
              "<table border=\"1\" class=\"dataframe\">\n",
              "  <thead>\n",
              "    <tr style=\"text-align: right;\">\n",
              "      <th></th>\n",
              "      <th>reference_title</th>\n",
              "      <th>similar_title</th>\n",
              "      <th>ref_section</th>\n",
              "      <th>similar_section</th>\n",
              "      <th>score</th>\n",
              "      <th>max</th>\n",
              "      <th>score_div_max</th>\n",
              "    </tr>\n",
              "  </thead>\n",
              "  <tbody>\n",
              "  </tbody>\n",
              "</table>\n",
              "</div>"
            ],
            "text/plain": [
              "Empty DataFrame\n",
              "Columns: [reference_title, similar_title, ref_section, similar_section, score, max, score_div_max]\n",
              "Index: []"
            ]
          },
          "metadata": {},
          "execution_count": 130
        }
      ]
    },
    {
      "cell_type": "code",
      "metadata": {
        "id": "WJ6HEmJv-Upe"
      },
      "source": [
        ""
      ],
      "execution_count": 130,
      "outputs": []
    },
    {
      "cell_type": "markdown",
      "metadata": {
        "id": "99xHBRsd--OB"
      },
      "source": [
        "# SVD based LSI"
      ]
    },
    {
      "cell_type": "code",
      "metadata": {
        "id": "adsW9Uh9_JXs"
      },
      "source": [
        "from gensim import corpora, models, similarities\n",
        "from collections import defaultdict"
      ],
      "execution_count": 131,
      "outputs": []
    },
    {
      "cell_type": "code",
      "metadata": {
        "colab": {
          "base_uri": "https://localhost:8080/"
        },
        "id": "s3AJZGRD_IHW",
        "outputId": "5a73f2e5-2876-4d39-9d6b-cf49404c818d"
      },
      "source": [
        "frequency = defaultdict(int)\n",
        "for text in processed_corpus:\n",
        "    for token in text:\n",
        "        frequency[token] += 1\n",
        "\n",
        "data_ngrams = [[token for token in text if frequency[token] > 1] for text in processed_corpus]\n",
        "dictionary = corpora.Dictionary(data_ngrams)\n",
        "\n",
        "# doc2bow counts the number of occurences of each distinct word,\n",
        "# converts the word to its integer word id and returns the result\n",
        "# as a sparse vector\n",
        "\n",
        "bow_corpus = [dictionary.doc2bow(text) for text in data_ngrams]\n",
        "lsi = models.LsiModel(bow_corpus, id2word=dictionary, num_topics=200)  # num_topics can be maximum the size of the number of unique tokens"
      ],
      "execution_count": 132,
      "outputs": [
        {
          "output_type": "stream",
          "name": "stderr",
          "text": [
            "2021-11-19 18:22:55,952 : INFO : adding document #0 to Dictionary(0 unique tokens: [])\n",
            "2021-11-19 18:22:56,183 : INFO : built Dictionary(1602 unique tokens: ['Am', 'Am-D7', 'B7', 'B7-E', 'C']...) from 5403 documents (total 159684 corpus positions)\n",
            "2021-11-19 18:22:56,186 : INFO : Dictionary lifecycle event {'msg': \"built Dictionary(1602 unique tokens: ['Am', 'Am-D7', 'B7', 'B7-E', 'C']...) from 5403 documents (total 159684 corpus positions)\", 'datetime': '2021-11-19T18:22:56.186693', 'gensim': '4.1.2', 'python': '3.7.12 (default, Sep 10 2021, 00:21:48) \\n[GCC 7.5.0]', 'platform': 'Linux-5.4.104+-x86_64-with-Ubuntu-18.04-bionic', 'event': 'created'}\n",
            "2021-11-19 18:22:56,319 : INFO : using serial LSI version on this node\n",
            "2021-11-19 18:22:56,331 : INFO : updating model with new documents\n",
            "2021-11-19 18:22:56,332 : INFO : preparing a new chunk of documents\n",
            "2021-11-19 18:22:56,391 : INFO : using 100 extra samples and 2 power iterations\n",
            "2021-11-19 18:22:56,397 : INFO : 1st phase: constructing (1602, 300) action matrix\n",
            "2021-11-19 18:22:56,504 : INFO : orthonormalizing (1602, 300) action matrix\n",
            "2021-11-19 18:22:56,864 : INFO : 2nd phase: running dense svd on (300, 5403) matrix\n",
            "2021-11-19 18:22:57,326 : INFO : computing the final decomposition\n",
            "2021-11-19 18:22:57,328 : INFO : keeping 200 factors (discarding 1.235% of energy spectrum)\n",
            "2021-11-19 18:22:57,356 : INFO : processed documents up to #5403\n",
            "2021-11-19 18:22:57,362 : INFO : topic #0(439.102): 0.648*\"C\" + 0.462*\"G7\" + 0.260*\"Dm\" + 0.242*\"G7-C\" + 0.196*\"C-C\" + 0.179*\"Dm-G7\" + 0.159*\"D7\" + 0.152*\"A7\" + 0.143*\"F\" + 0.134*\"Am\"\n",
            "2021-11-19 18:22:57,364 : INFO : topic #1(190.698): 0.640*\"Am\" + -0.354*\"C\" + 0.317*\"Dm\" + 0.270*\"E7\" + -0.243*\"C-C\" + 0.224*\"Am-Am\" + 0.189*\"Dm-G7\" + 0.171*\"E7-Am\" + 0.111*\"Em\" + 0.103*\"A7\"\n",
            "2021-11-19 18:22:57,371 : INFO : topic #2(160.280): 0.471*\"Dm\" + -0.433*\"Am\" + 0.397*\"Dm-G7\" + -0.227*\"E7\" + -0.199*\"Am-Am\" + -0.198*\"C\" + -0.188*\"C-C\" + -0.178*\"D7\" + 0.166*\"A7-Dm\" + 0.163*\"Em\"\n",
            "2021-11-19 18:22:57,374 : INFO : topic #3(128.642): 0.488*\"C7\" + 0.391*\"D7\" + -0.331*\"C\" + 0.311*\"G7\" + -0.267*\"C-C\" + -0.213*\"Dm\" + -0.192*\"Am\" + 0.190*\"A7\" + 0.177*\"D7-G7\" + 0.171*\"C7-C7\"\n",
            "2021-11-19 18:22:57,377 : INFO : topic #4(119.870): 0.558*\"C7\" + 0.389*\"F\" + -0.364*\"D7\" + -0.270*\"A7\" + 0.182*\"C7-C7\" + 0.171*\"C7-F\" + -0.170*\"D7-G7\" + -0.158*\"G7\" + -0.153*\"A7-D7\" + -0.132*\"D7-D7\"\n",
            "2021-11-19 18:22:57,381 : INFO : LsiModel lifecycle event {'msg': 'trained LsiModel(num_terms=1602, num_topics=200, decay=1.0, chunksize=20000) in 1.05s', 'datetime': '2021-11-19T18:22:57.381745', 'gensim': '4.1.2', 'python': '3.7.12 (default, Sep 10 2021, 00:21:48) \\n[GCC 7.5.0]', 'platform': 'Linux-5.4.104+-x86_64-with-Ubuntu-18.04-bionic', 'event': 'created'}\n"
          ]
        }
      ]
    },
    {
      "cell_type": "code",
      "metadata": {
        "colab": {
          "base_uri": "https://localhost:8080/"
        },
        "id": "EvxSQFfBBNMJ",
        "outputId": "652f4ec4-7074-47d1-ebfc-f1dcf35b1102"
      },
      "source": [
        "index_lsi = similarities.Similarity('/content/index/index_lsi', bow_corpus, num_features=len(dictionary))"
      ],
      "execution_count": 133,
      "outputs": [
        {
          "output_type": "stream",
          "name": "stderr",
          "text": [
            "2021-11-19 18:22:57,393 : INFO : starting similarity index under /content/index/index_lsi\n"
          ]
        }
      ]
    },
    {
      "cell_type": "code",
      "metadata": {
        "colab": {
          "base_uri": "https://localhost:8080/"
        },
        "id": "khASSJ1eEuf5",
        "outputId": "def0519d-b4d0-47e5-a199-5ff132ed556f"
      },
      "source": [
        "%%time\n",
        "df_sim = get_sim_scores(tunes_eval_list, index_lsi)"
      ],
      "execution_count": 139,
      "outputs": [
        {
          "output_type": "stream",
          "name": "stdout",
          "text": [
            "\n",
            "--------------------------------------------------\n",
            "3752 Sweet Sue, Just You, section1 (A)\n",
            "3753 Sweet Sue, Just You, section2 (A)\n",
            "3754 Sweet Sue, Just You, section3 (B)\n",
            "3755 Sweet Sue, Just You, section4 (A)\n",
            "\n",
            "--------------------------------------------------\n",
            "3866 These Foolish Things, section1 (A)\n",
            "3867 These Foolish Things, section2 (A)\n",
            "3868 These Foolish Things, section3 (B)\n",
            "3869 These Foolish Things, section4 (A)\n",
            "\n",
            "--------------------------------------------------\n",
            "496 Blue Moon, section1 (A)\n",
            "497 Blue Moon, section2 (A)\n",
            "498 Blue Moon, section3 (B)\n",
            "499 Blue Moon, section4 (A)\n",
            "\n",
            "--------------------------------------------------\n",
            "198 All Of Me, section1 (A)\n",
            "199 All Of Me, section2 (B)\n",
            "200 All Of Me, section3 (A)\n",
            "201 All Of Me, section4 (C)\n",
            "\n",
            "--------------------------------------------------\n",
            "188 All God's Chillun Got Rhythm, section1 (A)\n",
            "189 All God's Chillun Got Rhythm, section2 (B)\n",
            "190 All God's Chillun Got Rhythm, section3 (A)\n",
            "191 All God's Chillun Got Rhythm, section4 (C)\n",
            "\n",
            "--------------------------------------------------\n",
            "1647 I Got Rhythm, section1 (A)\n",
            "1648 I Got Rhythm, section2 (A)\n",
            "1649 I Got Rhythm, section3 (B)\n",
            "1650 I Got Rhythm, section4 (A)\n",
            "4821 I Got Rhythm, section1 (A)\n",
            "4822 I Got Rhythm, section2 (A)\n",
            "4823 I Got Rhythm, section3 (B)\n",
            "4824 I Got Rhythm, section4 (A)\n",
            "\n",
            "--------------------------------------------------\n",
            "653 Bye Bye Blackbird, section1 (A)\n",
            "654 Bye Bye Blackbird, section2 (B)\n",
            "4569 Bye Bye Blackbird, section1 (A)\n",
            "4570 Bye Bye Blackbird, section2 (B)\n",
            "4571 Bye Bye Blackbird, section3 (C)\n",
            "\n",
            "--------------------------------------------------\n",
            "5056 Old Fashioned Love, section0 (nan)\n",
            "\n",
            "--------------------------------------------------\n",
            "997 Dinah, section1 (A)\n",
            "998 Dinah, section2 (A)\n",
            "999 Dinah, section3 (B)\n",
            "1000 Dinah, section4 (A)\n",
            "\n",
            "--------------------------------------------------\n",
            "1538 Honeysuckle Rose, section1 (A)\n",
            "1539 Honeysuckle Rose, section2 (A)\n",
            "1540 Honeysuckle Rose, section3 (B)\n",
            "1541 Honeysuckle Rose, section4 (A)\n",
            "4793 Honeysuckle Rose, section1 (A)\n",
            "4794 Honeysuckle Rose, section2 (A)\n",
            "4795 Honeysuckle Rose, section3 (B)\n",
            "4796 Honeysuckle Rose, section4 (A)\n",
            "\n",
            "--------------------------------------------------\n",
            "2676 Misty, section1 (A)\n",
            "2677 Misty, section2 (A)\n",
            "2678 Misty, section3 (B)\n",
            "2679 Misty, section4 (A)\n",
            "CPU times: user 8.89 s, sys: 291 ms, total: 9.18 s\n",
            "Wall time: 8.79 s\n"
          ]
        }
      ]
    },
    {
      "cell_type": "code",
      "metadata": {
        "colab": {
          "base_uri": "https://localhost:8080/",
          "height": 424
        },
        "id": "FL1pBuor_YDw",
        "outputId": "2a452e9b-9ed1-45ef-85be-69e382612529"
      },
      "source": [
        "df_sim"
      ],
      "execution_count": 135,
      "outputs": [
        {
          "output_type": "execute_result",
          "data": {
            "text/html": [
              "<div>\n",
              "<style scoped>\n",
              "    .dataframe tbody tr th:only-of-type {\n",
              "        vertical-align: middle;\n",
              "    }\n",
              "\n",
              "    .dataframe tbody tr th {\n",
              "        vertical-align: top;\n",
              "    }\n",
              "\n",
              "    .dataframe thead th {\n",
              "        text-align: right;\n",
              "    }\n",
              "</style>\n",
              "<table border=\"1\" class=\"dataframe\">\n",
              "  <thead>\n",
              "    <tr style=\"text-align: right;\">\n",
              "      <th></th>\n",
              "      <th>reference_title</th>\n",
              "      <th>similar_title</th>\n",
              "      <th>ref_section</th>\n",
              "      <th>similar_section</th>\n",
              "      <th>score</th>\n",
              "    </tr>\n",
              "  </thead>\n",
              "  <tbody>\n",
              "    <tr>\n",
              "      <th>0</th>\n",
              "      <td>Sweet Sue, Just You</td>\n",
              "      <td>My Secret Love</td>\n",
              "      <td>Sweet Sue, Just You, section1 (A)</td>\n",
              "      <td>My Secret Love, section2 (A)</td>\n",
              "      <td>0.978496</td>\n",
              "    </tr>\n",
              "    <tr>\n",
              "      <th>1</th>\n",
              "      <td>Sweet Sue, Just You</td>\n",
              "      <td>I Want To Be Happy</td>\n",
              "      <td>Sweet Sue, Just You, section1 (A)</td>\n",
              "      <td>I Want To Be Happy, section2 (A)</td>\n",
              "      <td>0.974397</td>\n",
              "    </tr>\n",
              "    <tr>\n",
              "      <th>2</th>\n",
              "      <td>Sweet Sue, Just You</td>\n",
              "      <td>I Want To Be Happy</td>\n",
              "      <td>Sweet Sue, Just You, section1 (A)</td>\n",
              "      <td>I Want To Be Happy, section4 (A)</td>\n",
              "      <td>0.974397</td>\n",
              "    </tr>\n",
              "    <tr>\n",
              "      <th>3</th>\n",
              "      <td>Sweet Sue, Just You</td>\n",
              "      <td>Don't Fence Me In</td>\n",
              "      <td>Sweet Sue, Just You, section1 (A)</td>\n",
              "      <td>Don't Fence Me In, section1 (A)</td>\n",
              "      <td>0.971730</td>\n",
              "    </tr>\n",
              "    <tr>\n",
              "      <th>4</th>\n",
              "      <td>Sweet Sue, Just You</td>\n",
              "      <td>Get Me To The Church On Time</td>\n",
              "      <td>Sweet Sue, Just You, section1 (A)</td>\n",
              "      <td>Get Me To The Church On Time, section1 (A)</td>\n",
              "      <td>0.969736</td>\n",
              "    </tr>\n",
              "    <tr>\n",
              "      <th>...</th>\n",
              "      <td>...</td>\n",
              "      <td>...</td>\n",
              "      <td>...</td>\n",
              "      <td>...</td>\n",
              "      <td>...</td>\n",
              "    </tr>\n",
              "    <tr>\n",
              "      <th>2045</th>\n",
              "      <td>Misty</td>\n",
              "      <td>Blue Room, The</td>\n",
              "      <td>Misty, section4 (A)</td>\n",
              "      <td>Blue Room, The, section4 (C)</td>\n",
              "      <td>0.831235</td>\n",
              "    </tr>\n",
              "    <tr>\n",
              "      <th>2046</th>\n",
              "      <td>Misty</td>\n",
              "      <td>Stranger On The Shore</td>\n",
              "      <td>Misty, section4 (A)</td>\n",
              "      <td>Stranger On The Shore, section0 (nan)</td>\n",
              "      <td>0.830201</td>\n",
              "    </tr>\n",
              "    <tr>\n",
              "      <th>2047</th>\n",
              "      <td>Misty</td>\n",
              "      <td>Deed I Do</td>\n",
              "      <td>Misty, section4 (A)</td>\n",
              "      <td>Deed I Do, section1 (A)</td>\n",
              "      <td>0.829928</td>\n",
              "    </tr>\n",
              "    <tr>\n",
              "      <th>2048</th>\n",
              "      <td>Misty</td>\n",
              "      <td>Rockin' Chair</td>\n",
              "      <td>Misty, section4 (A)</td>\n",
              "      <td>Rockin' Chair, section3 (A)</td>\n",
              "      <td>0.829928</td>\n",
              "    </tr>\n",
              "    <tr>\n",
              "      <th>2049</th>\n",
              "      <td>Misty</td>\n",
              "      <td>I've Got My Fingers Crossed</td>\n",
              "      <td>Misty, section4 (A)</td>\n",
              "      <td>I've Got My Fingers Crossed, section2 (A)</td>\n",
              "      <td>0.829848</td>\n",
              "    </tr>\n",
              "  </tbody>\n",
              "</table>\n",
              "<p>2050 rows × 5 columns</p>\n",
              "</div>"
            ],
            "text/plain": [
              "          reference_title  ...     score\n",
              "0     Sweet Sue, Just You  ...  0.978496\n",
              "1     Sweet Sue, Just You  ...  0.974397\n",
              "2     Sweet Sue, Just You  ...  0.974397\n",
              "3     Sweet Sue, Just You  ...  0.971730\n",
              "4     Sweet Sue, Just You  ...  0.969736\n",
              "...                   ...  ...       ...\n",
              "2045                Misty  ...  0.831235\n",
              "2046                Misty  ...  0.830201\n",
              "2047                Misty  ...  0.829928\n",
              "2048                Misty  ...  0.829928\n",
              "2049                Misty  ...  0.829848\n",
              "\n",
              "[2050 rows x 5 columns]"
            ]
          },
          "metadata": {},
          "execution_count": 135
        }
      ]
    },
    {
      "cell_type": "code",
      "metadata": {
        "colab": {
          "base_uri": "https://localhost:8080/",
          "height": 542
        },
        "id": "X31lkvUsDAsU",
        "outputId": "7367b748-3b70-48b5-83aa-7ff1974eb566"
      },
      "source": [
        "import plotly.express as px\n",
        "fig = px.histogram(df_sim, x=\"score\", nbins=50)\n",
        "fig.show()"
      ],
      "execution_count": 138,
      "outputs": [
        {
          "output_type": "display_data",
          "data": {
            "text/html": [
              "<html>\n",
              "<head><meta charset=\"utf-8\" /></head>\n",
              "<body>\n",
              "    <div>\n",
              "            <script src=\"https://cdnjs.cloudflare.com/ajax/libs/mathjax/2.7.5/MathJax.js?config=TeX-AMS-MML_SVG\"></script><script type=\"text/javascript\">if (window.MathJax) {MathJax.Hub.Config({SVG: {font: \"STIX-Web\"}});}</script>\n",
              "                <script type=\"text/javascript\">window.PlotlyConfig = {MathJaxConfig: 'local'};</script>\n",
              "        <script src=\"https://cdn.plot.ly/plotly-latest.min.js\"></script>    \n",
              "            <div id=\"f3d056fc-be65-4d9d-b01a-9b457e8188e8\" class=\"plotly-graph-div\" style=\"height:525px; width:100%;\"></div>\n",
              "            <script type=\"text/javascript\">\n",
              "                \n",
              "                    window.PLOTLYENV=window.PLOTLYENV || {};\n",
              "                    \n",
              "                if (document.getElementById(\"f3d056fc-be65-4d9d-b01a-9b457e8188e8\")) {\n",
              "                    Plotly.newPlot(\n",
              "                        'f3d056fc-be65-4d9d-b01a-9b457e8188e8',\n",
              "                        [{\"alignmentgroup\": \"True\", \"bingroup\": \"x\", \"hoverlabel\": {\"namelength\": 0}, \"hovertemplate\": \"score=%{x}<br>count=%{y}\", \"legendgroup\": \"\", \"marker\": {\"color\": \"#636efa\"}, \"name\": \"\", \"nbinsx\": 50, \"offsetgroup\": \"\", \"orientation\": \"v\", \"showlegend\": false, \"type\": \"histogram\", \"x\": [0.9784961938858032, 0.9743973612785339, 0.9743973612785339, 0.9717296957969666, 0.9697359204292297, 0.9697359204292297, 0.96626216173172, 0.964314341545105, 0.9607688784599304, 0.9607688784599304, 0.9585756659507751, 0.9523531794548035, 0.9523531794548035, 0.9523531794548035, 0.9502970576286316, 0.9502970576286316, 0.9502970576286316, 0.9489113688468933, 0.9489113688468933, 0.9480928778648376, 0.9476965665817261, 0.9476965069770813, 0.9476965069770813, 0.9476965069770813, 0.9476965069770813, 0.9445242881774902, 0.9439663290977478, 0.9439663290977478, 0.9439656734466553, 0.939012885093689, 0.9382351636886597, 0.9378933906555176, 0.9378933906555176, 0.9378933906555176, 0.9373412728309631, 0.9373412728309631, 0.9373412728309631, 0.9334220886230469, 0.930949330329895, 0.930949330329895, 0.9304803609848022, 0.9784961938858032, 0.9743973612785339, 0.9743973612785339, 0.9717296957969666, 0.9697359204292297, 0.9697359204292297, 0.96626216173172, 0.964314341545105, 0.9607688784599304, 0.9607688784599304, 0.9585756659507751, 0.9523531794548035, 0.9523531794548035, 0.9523531794548035, 0.9502970576286316, 0.9502970576286316, 0.9502970576286316, 0.9489113688468933, 0.9489113688468933, 0.9480928778648376, 0.9476965665817261, 0.9476965069770813, 0.9476965069770813, 0.9476965069770813, 0.9476965069770813, 0.9445242881774902, 0.9439663290977478, 0.9439663290977478, 0.9439656734466553, 0.939012885093689, 0.9382351636886597, 0.9378933906555176, 0.9378933906555176, 0.9378933906555176, 0.9373412728309631, 0.9373412728309631, 0.9373412728309631, 0.9334220886230469, 0.930949330329895, 0.930949330329895, 0.9304803609848022, 0.8902636170387268, 0.7368420362472534, 0.7368420362472534, 0.6936879754066467, 0.6936879754066467, 0.6789146661758423, 0.6789146661758423, 0.678882896900177, 0.6718579530715942, 0.6452822089195251, 0.6315789222717285, 0.6297402381896973, 0.6245105862617493, 0.6245105862617493, 0.6181150674819946, 0.6163483262062073, 0.6078656911849976, 0.60760498046875, 0.5990424156188965, 0.598740816116333, 0.5964808464050293, 0.5964808464050293, 0.5964200496673584, 0.5964200496673584, 0.5964199900627136, 0.5944933891296387, 0.593299150466919, 0.5877537727355957, 0.5861515402793884, 0.5773502588272095, 0.5768598914146423, 0.5751757025718689, 0.5751757025718689, 0.5751757025718689, 0.5740378499031067, 0.5740378499031067, 0.5740378499031067, 0.57396399974823, 0.5713250637054443, 0.5698635578155518, 0.5688832402229309, 0.9784961938858032, 0.9743973612785339, 0.9743973612785339, 0.9717296957969666, 0.9697359204292297, 0.9697359204292297, 0.96626216173172, 0.964314341545105, 0.9607688784599304, 0.9607688784599304, 0.9585756659507751, 0.9523531794548035, 0.9523531794548035, 0.9523531794548035, 0.9502970576286316, 0.9502970576286316, 0.9502970576286316, 0.9489113688468933, 0.9489113688468933, 0.9480928778648376, 0.9476965665817261, 0.9476965069770813, 0.9476965069770813, 0.9476965069770813, 0.9476965069770813, 0.9445242881774902, 0.9439663290977478, 0.9439663290977478, 0.9439656734466553, 0.939012885093689, 0.9382351636886597, 0.9378933906555176, 0.9378933906555176, 0.9378933906555176, 0.9373412728309631, 0.9373412728309631, 0.9373412728309631, 0.9334220886230469, 0.930949330329895, 0.930949330329895, 0.9304803609848022, 0.9166156649589539, 0.8880703449249268, 0.8826669454574585, 0.8802810907363892, 0.8762938380241394, 0.8714783191680908, 0.8712018132209778, 0.8652898669242859, 0.8621970415115356, 0.8621969819068909, 0.8613663911819458, 0.8613663911819458, 0.8613663911819458, 0.8596490621566772, 0.8596490621566772, 0.8572795987129211, 0.8560707569122314, 0.8549255132675171, 0.8535874485969543, 0.8535874485969543, 0.8531233668327332, 0.8531233072280884, 0.8531233072280884, 0.8510645031929016, 0.8510645031929016, 0.8499012589454651, 0.8488425016403198, 0.8488425016403198, 0.8488425016403198, 0.8483153581619263, 0.848114550113678, 0.8479448556900024, 0.8479448556900024, 0.8479448556900024, 0.8451126217842102, 0.8451126217842102, 0.8451112508773804, 0.8451112508773804, 0.8451112508773804, 0.8451112508773804, 0.8449531197547913, 0.8813560009002686, 0.8675775527954102, 0.865232527256012, 0.8613133430480957, 0.8604187369346619, 0.8563082814216614, 0.8501179814338684, 0.8472582101821899, 0.8472582101821899, 0.8404926657676697, 0.8389951586723328, 0.8389951586723328, 0.8382947444915771, 0.8368467092514038, 0.8355602025985718, 0.8355600833892822, 0.8354079127311707, 0.8343314528465271, 0.8338131308555603, 0.8338131308555603, 0.8338131308555603, 0.8338131308555603, 0.8338131308555603, 0.8338130712509155, 0.8336158990859985, 0.8324979543685913, 0.8317468166351318, 0.8308826684951782, 0.8306652307510376, 0.8306652307510376, 0.8306639790534973, 0.8299543857574463, 0.8284749984741211, 0.8263806104660034, 0.8243221640586853, 0.8225446939468384, 0.8212428092956543, 0.8209852576255798, 0.8209615349769592, 0.8202233910560608, 0.8201130032539368, 0.8362417817115784, 0.7897472381591797, 0.7897472381591797, 0.773952841758728, 0.7341169118881226, 0.6922442317008972, 0.6844475865364075, 0.683906078338623, 0.6726728677749634, 0.6724110841751099, 0.6677805781364441, 0.6639137268066406, 0.6598588228225708, 0.6569388508796692, 0.6554279923439026, 0.6502504348754883, 0.6471502184867859, 0.6471502184867859, 0.6471502184867859, 0.6445032358169556, 0.6405126452445984, 0.6405126452445984, 0.6343914866447449, 0.6327170133590698, 0.6254072785377502, 0.6225317120552063, 0.6192068457603455, 0.616333544254303, 0.6157050728797913, 0.6150692105293274, 0.6132440567016602, 0.6110228300094604, 0.6104828119277954, 0.6084870100021362, 0.6084870100021362, 0.6062354445457458, 0.6039570569992065, 0.6035057306289673, 0.5971962213516235, 0.5967622995376587, 0.5954650640487671, 0.9299536347389221, 0.9185469150543213, 0.9080511927604675, 0.9013375639915466, 0.9013375639915466, 0.9009868502616882, 0.8995278477668762, 0.899010181427002, 0.8934570550918579, 0.890917181968689, 0.8889746069908142, 0.8879953622817993, 0.8879953622817993, 0.8877546787261963, 0.8847478628158569, 0.8835955262184143, 0.8833857774734497, 0.8825539350509644, 0.8825539350509644, 0.8799561262130737, 0.878458559513092, 0.8773804306983948, 0.8764629364013672, 0.8750843405723572, 0.8738353252410889, 0.8731315732002258, 0.8724886178970337, 0.8713063597679138, 0.8713063597679138, 0.8710851669311523, 0.8700020909309387, 0.8700020909309387, 0.8690606951713562, 0.8685352802276611, 0.8685352802276611, 0.8685352802276611, 0.8681492209434509, 0.8649305105209351, 0.8649305105209351, 0.8649305105209351, 0.8631784319877625, 0.9494949579238892, 0.9415369033813477, 0.9415369033813477, 0.9370092749595642, 0.9362388253211975, 0.9362388253211975, 0.9345120191574097, 0.9345120191574097, 0.9332565069198608, 0.9325267672538757, 0.9325267672538757, 0.9305887818336487, 0.9268683195114136, 0.9235835075378418, 0.9208076596260071, 0.9196406602859497, 0.9196406602859497, 0.9196406602859497, 0.9159286022186279, 0.9159286022186279, 0.9113147854804993, 0.9108401536941528, 0.9095820188522339, 0.9085134863853455, 0.9052091240882874, 0.9028274416923523, 0.90123450756073, 0.90123450756073, 0.8990222811698914, 0.8977444767951965, 0.8969221115112305, 0.896865963935852, 0.896856963634491, 0.8959158062934875, 0.8950611352920532, 0.8950611352920532, 0.8939712643623352, 0.8920525312423706, 0.8918901085853577, 0.8861419558525085, 0.8861252069473267, 0.8802810907363892, 0.8802810907363892, 0.8687784671783447, 0.8613662719726562, 0.8613662719726562, 0.8603835105895996, 0.8563644886016846, 0.8519712686538696, 0.8514017462730408, 0.8483152389526367, 0.8483152389526367, 0.8483152389526367, 0.845112681388855, 0.845112681388855, 0.8449530601501465, 0.8428842425346375, 0.8414502143859863, 0.8401972651481628, 0.8394196033477783, 0.8394196033477783, 0.8378204107284546, 0.8355264067649841, 0.835264265537262, 0.8332610130310059, 0.8332610130310059, 0.8330923318862915, 0.833092212677002, 0.8313556909561157, 0.8307221531867981, 0.8301945924758911, 0.8299746513366699, 0.8291657567024231, 0.8277091979980469, 0.8275390267372131, 0.8274567127227783, 0.8274567127227783, 0.8274288773536682, 0.8260856866836548, 0.8246367573738098, 0.8214401006698608, 0.8188944458961487, 0.8401680588722229, 0.8383981585502625, 0.8319326639175415, 0.8296298384666443, 0.8257580995559692, 0.8257580995559692, 0.8226338624954224, 0.8213699460029602, 0.8201640248298645, 0.8181472420692444, 0.8140447735786438, 0.8140447735786438, 0.8140447735786438, 0.8135111927986145, 0.8114547729492188, 0.8114547729492188, 0.8091419339179993, 0.8073408603668213, 0.8062547445297241, 0.8058962821960449, 0.8057162165641785, 0.8049729466438293, 0.8049729466438293, 0.803062915802002, 0.8015670776367188, 0.8002474308013916, 0.7986125349998474, 0.7944720983505249, 0.7938841581344604, 0.7932174205780029, 0.7930177450180054, 0.79229736328125, 0.79229736328125, 0.79229736328125, 0.79229736328125, 0.7903634905815125, 0.7901006937026978, 0.7901006937026978, 0.7897847890853882, 0.7896811962127686, 0.7896811962127686, 0.9494949579238892, 0.9415369033813477, 0.9415369033813477, 0.9370092749595642, 0.9362388253211975, 0.9362388253211975, 0.9345120191574097, 0.9345120191574097, 0.9332565069198608, 0.9325267672538757, 0.9325267672538757, 0.9305887818336487, 0.9268683195114136, 0.9235835075378418, 0.9208076596260071, 0.9196406602859497, 0.9196406602859497, 0.9196406602859497, 0.9159286022186279, 0.9159286022186279, 0.9113147854804993, 0.9108401536941528, 0.9095820188522339, 0.9085134863853455, 0.9052091240882874, 0.9028274416923523, 0.90123450756073, 0.90123450756073, 0.8990222811698914, 0.8977444767951965, 0.8969221115112305, 0.896865963935852, 0.896856963634491, 0.8959158062934875, 0.8950611352920532, 0.8950611352920532, 0.8939712643623352, 0.8920525312423706, 0.8918901085853577, 0.8861419558525085, 0.8861252069473267, 0.8792409300804138, 0.8518432974815369, 0.8406509757041931, 0.8260868787765503, 0.8131231069564819, 0.8131231069564819, 0.8094350695610046, 0.7828900814056396, 0.7819966077804565, 0.7706912755966187, 0.7506518363952637, 0.7476393580436707, 0.7463465929031372, 0.7463465929031372, 0.7372097373008728, 0.7279634475708008, 0.725953996181488, 0.7223151326179504, 0.7223150730133057, 0.7194305658340454, 0.7128726243972778, 0.7033815979957581, 0.7011695504188538, 0.7011695504188538, 0.6969627141952515, 0.6969626545906067, 0.6966718435287476, 0.6956521272659302, 0.6956521272659302, 0.6956521272659302, 0.6956521272659302, 0.6956521272659302, 0.6956520676612854, 0.6941141486167908, 0.6899076700210571, 0.6896562576293945, 0.6865886449813843, 0.6838367581367493, 0.6825236082077026, 0.6825236082077026, 0.6821865439414978, 0.9165152311325073, 0.9100316166877747, 0.8728716373443604, 0.864530086517334, 0.8645299673080444, 0.8645299673080444, 0.8645299673080444, 0.8622480034828186, 0.8571428656578064, 0.8510644435882568, 0.8399211168289185, 0.8357110023498535, 0.8292280435562134, 0.8095238208770752, 0.8010018467903137, 0.78924560546875, 0.78924560546875, 0.7855844497680664, 0.7823183536529541, 0.780398964881897, 0.7740282416343689, 0.7663559913635254, 0.7653921246528625, 0.7633246779441833, 0.7597372531890869, 0.7597371339797974, 0.7579052448272705, 0.7514953017234802, 0.7512482404708862, 0.7493632435798645, 0.7493632435798645, 0.74466872215271, 0.7419408559799194, 0.7372121810913086, 0.7321142554283142, 0.7293967604637146, 0.7280252575874329, 0.7280252575874329, 0.7280251979827881, 0.7258021235466003, 0.7174959182739258, 0.8792409300804138, 0.8518432974815369, 0.8406509757041931, 0.8260868787765503, 0.8131231069564819, 0.8131231069564819, 0.8094350695610046, 0.7828900814056396, 0.7819966077804565, 0.7706912755966187, 0.7506518363952637, 0.7476393580436707, 0.7463465929031372, 0.7463465929031372, 0.7372097373008728, 0.7279634475708008, 0.725953996181488, 0.7223151326179504, 0.7223150730133057, 0.7194305658340454, 0.7128726243972778, 0.7033815979957581, 0.7011695504188538, 0.7011695504188538, 0.6969627141952515, 0.6969626545906067, 0.6966718435287476, 0.6956521272659302, 0.6956521272659302, 0.6956521272659302, 0.6956521272659302, 0.6956521272659302, 0.6956520676612854, 0.6941141486167908, 0.6899076700210571, 0.6896562576293945, 0.6865886449813843, 0.6838367581367493, 0.6825236082077026, 0.6825236082077026, 0.6821865439414978, 0.9065799117088318, 0.8691982626914978, 0.8551861047744751, 0.8434363603591919, 0.8433082103729248, 0.8400001525878906, 0.8360078930854797, 0.8355728387832642, 0.8307472467422485, 0.827009916305542, 0.8267984390258789, 0.8234922289848328, 0.8219947218894958, 0.8219947218894958, 0.8194360733032227, 0.8194360733032227, 0.8194359540939331, 0.8194359540939331, 0.8186239004135132, 0.8164966106414795, 0.8163679838180542, 0.8159304857254028, 0.8159304857254028, 0.8146801590919495, 0.8106022477149963, 0.8090399503707886, 0.8090398907661438, 0.8088222742080688, 0.8082902431488037, 0.8079699873924255, 0.8049845099449158, 0.8049845099449158, 0.8049845099449158, 0.8045740723609924, 0.8000001311302185, 0.8000001311302185, 0.800000011920929, 0.800000011920929, 0.800000011920929, 0.7977240085601807, 0.7977240085601807, 0.9507932662963867, 0.950654149055481, 0.9342914819717407, 0.9281483888626099, 0.9281483888626099, 0.9251874089241028, 0.9219863414764404, 0.9216123819351196, 0.91501784324646, 0.9128426909446716, 0.9128426313400269, 0.909038245677948, 0.9068502187728882, 0.9066199064254761, 0.9060326814651489, 0.9046443700790405, 0.9034599661827087, 0.9034599661827087, 0.8977533578872681, 0.8948143720626831, 0.8948143720626831, 0.8928053975105286, 0.8909088373184204, 0.8870519399642944, 0.8869003057479858, 0.8864164352416992, 0.8844332098960876, 0.8842047452926636, 0.8842047452926636, 0.8835767507553101, 0.883388340473175, 0.883388340473175, 0.8822987079620361, 0.8822987079620361, 0.8801407814025879, 0.8766028881072998, 0.875139594078064, 0.8734533786773682, 0.8719189167022705, 0.8718469142913818, 0.8703306913375854, 0.8828293085098267, 0.8025722503662109, 0.8019663095474243, 0.7985492944717407, 0.7884299755096436, 0.7884297966957092, 0.788342297077179, 0.7744821310043335, 0.7744821310043335, 0.7710641026496887, 0.7642226815223694, 0.7624435424804688, 0.7591444253921509, 0.7541503310203552, 0.7541503310203552, 0.7506518363952637, 0.7506517767906189, 0.7506517767906189, 0.7475310564041138, 0.7469265460968018, 0.7463923692703247, 0.7460036873817444, 0.7401525974273682, 0.7391303777694702, 0.729958713054657, 0.7280252575874329, 0.7279634475708008, 0.7273662090301514, 0.7266019582748413, 0.725953996181488, 0.7232446670532227, 0.7223150730133057, 0.7198708057403564, 0.7198706865310669, 0.71807861328125, 0.7175472974777222, 0.716418445110321, 0.7160414457321167, 0.7160413265228271, 0.7160413265228271, 0.7160413265228271, 0.9507932662963867, 0.950654149055481, 0.9342914819717407, 0.9281483888626099, 0.9281483888626099, 0.9251874089241028, 0.9219863414764404, 0.9216123819351196, 0.91501784324646, 0.9128426909446716, 0.9128426313400269, 0.909038245677948, 0.9068502187728882, 0.9066199064254761, 0.9060326814651489, 0.9046443700790405, 0.9034599661827087, 0.9034599661827087, 0.8977533578872681, 0.8948143720626831, 0.8948143720626831, 0.8928053975105286, 0.8909088373184204, 0.8870519399642944, 0.8869003057479858, 0.8864164352416992, 0.8844332098960876, 0.8842047452926636, 0.8842047452926636, 0.8835767507553101, 0.883388340473175, 0.883388340473175, 0.8822987079620361, 0.8822987079620361, 0.8801407814025879, 0.8766028881072998, 0.875139594078064, 0.8734533786773682, 0.8719189167022705, 0.8718469142913818, 0.8703306913375854, 0.9411240220069885, 0.9122603535652161, 0.9108401536941528, 0.8840821385383606, 0.8802375793457031, 0.8788706064224243, 0.8788705468177795, 0.869656503200531, 0.8557855486869812, 0.8531231880187988, 0.8520859479904175, 0.8497231602668762, 0.8480263948440552, 0.8466665744781494, 0.8458887338638306, 0.8451541662216187, 0.8362258076667786, 0.8362257480621338, 0.835854172706604, 0.835854172706604, 0.835854172706604, 0.8349094986915588, 0.833655059337616, 0.8336123824119568, 0.8334107398986816, 0.8328046798706055, 0.8309096693992615, 0.827271044254303, 0.8260162472724915, 0.8260161876678467, 0.8260161876678467, 0.8257012963294983, 0.8256280422210693, 0.8248628973960876, 0.8246210217475891, 0.8241927623748779, 0.8241927623748779, 0.8241406679153442, 0.8241406679153442, 0.8241406679153442, 0.8238011002540588, 0.8549498319625854, 0.8549498319625854, 0.854178249835968, 0.8339323401451111, 0.8326460123062134, 0.8323467969894409, 0.8323467969894409, 0.8255724906921387, 0.8196720480918884, 0.8167800307273865, 0.8167800307273865, 0.8121828436851501, 0.8121828436851501, 0.8109002709388733, 0.810696005821228, 0.8074142932891846, 0.8074142932891846, 0.8074142932891846, 0.8053446412086487, 0.8048637509346008, 0.8009260296821594, 0.8009260296821594, 0.8001111745834351, 0.8001111745834351, 0.8001111149787903, 0.8001110553741455, 0.8001110553741455, 0.7985419034957886, 0.7978278398513794, 0.7966084480285645, 0.794303834438324, 0.7930627465248108, 0.7901495695114136, 0.7901495099067688, 0.789217472076416, 0.7879225015640259, 0.7876029014587402, 0.7868852019309998, 0.786885142326355, 0.786885142326355, 0.7865124344825745, 0.8554368615150452, 0.8426513671875, 0.8401680588722229, 0.8335853815078735, 0.8335853815078735, 0.8309134244918823, 0.8299424648284912, 0.8291679620742798, 0.8291679620742798, 0.826012134552002, 0.826012134552002, 0.8203542232513428, 0.820354163646698, 0.8203541040420532, 0.8203541040420532, 0.8203541040420532, 0.8203541040420532, 0.8199717998504639, 0.8194519281387329, 0.8175400495529175, 0.8175400495529175, 0.8162539601325989, 0.8140448331832886, 0.8140448331832886, 0.8140448331832886, 0.813511312007904, 0.8131328225135803, 0.8090507388114929, 0.8076373934745789, 0.8067938685417175, 0.8067938685417175, 0.8067938089370728, 0.8058962821960449, 0.8047349452972412, 0.8019787073135376, 0.8015478253364563, 0.8013699054718018, 0.8002474904060364, 0.8002474904060364, 0.8002474904060364, 0.7986841201782227, 0.9999998807907104, 0.9999998807907104, 0.9999998807907104, 0.9999998807907104, 0.9999998807907104, 0.9999998807907104, 0.9999998807907104, 0.9999998807907104, 0.9999998807907104, 0.9999998807907104, 0.9999998807907104, 0.9999998807907104, 0.9999998807907104, 0.9999998807907104, 0.9999998807907104, 0.9999998807907104, 0.9999998807907104, 0.9999998807907104, 0.9999998807907104, 0.9999998807907104, 0.9999998807907104, 0.9999998807907104, 0.9680036306381226, 0.9591661691665649, 0.9591661691665649, 0.936257541179657, 0.9100315570831299, 0.8952046632766724, 0.8738833069801331, 0.8645299673080444, 0.861410915851593, 0.8570637106895447, 0.8347256779670715, 0.8340575695037842, 0.8260868787765503, 0.823825478553772, 0.8210896253585815, 0.8143805861473083, 0.8091704249382019, 0.8091704249382019, 0.8030316233634949, 0.9046310186386108, 0.9046310186386108, 0.8879224061965942, 0.8809897303581238, 0.8772115707397461, 0.8740928173065186, 0.8740927577018738, 0.8740927577018738, 0.8663823008537292, 0.862217366695404, 0.8619526028633118, 0.8619526028633118, 0.8545066118240356, 0.853234052658081, 0.853234052658081, 0.8528248071670532, 0.8522558212280273, 0.8511256575584412, 0.8511256575584412, 0.8498124480247498, 0.8487492799758911, 0.8487492799758911, 0.8477046489715576, 0.8477046489715576, 0.8453183770179749, 0.8453183770179749, 0.8453183770179749, 0.8441070318222046, 0.8434823751449585, 0.8433540463447571, 0.841952919960022, 0.8403891324996948, 0.8394980430603027, 0.8383374810218811, 0.8376723527908325, 0.837672233581543, 0.8374141454696655, 0.8360949754714966, 0.8360949754714966, 0.8357651233673096, 0.8357651233673096, 0.8549498319625854, 0.8549498319625854, 0.854178249835968, 0.8339323401451111, 0.8326460123062134, 0.8323467969894409, 0.8323467969894409, 0.8255724906921387, 0.8196720480918884, 0.8167800307273865, 0.8167800307273865, 0.8121828436851501, 0.8121828436851501, 0.8109002709388733, 0.810696005821228, 0.8074142932891846, 0.8074142932891846, 0.8074142932891846, 0.8053446412086487, 0.8048637509346008, 0.8009260296821594, 0.8009260296821594, 0.8001111745834351, 0.8001111745834351, 0.8001111149787903, 0.8001110553741455, 0.8001110553741455, 0.7985419034957886, 0.7978278398513794, 0.7966084480285645, 0.794303834438324, 0.7930627465248108, 0.7901495695114136, 0.7901495099067688, 0.789217472076416, 0.7879225015640259, 0.7876029014587402, 0.7868852019309998, 0.786885142326355, 0.786885142326355, 0.7865124344825745, 0.8554368615150452, 0.8426513671875, 0.8401680588722229, 0.8335853815078735, 0.8335853815078735, 0.8309134244918823, 0.8299424648284912, 0.8291679620742798, 0.8291679620742798, 0.826012134552002, 0.826012134552002, 0.8203542232513428, 0.820354163646698, 0.8203541040420532, 0.8203541040420532, 0.8203541040420532, 0.8203541040420532, 0.8199717998504639, 0.8194519281387329, 0.8175400495529175, 0.8175400495529175, 0.8162539601325989, 0.8140448331832886, 0.8140448331832886, 0.8140448331832886, 0.813511312007904, 0.8131328225135803, 0.8090507388114929, 0.8076373934745789, 0.8067938685417175, 0.8067938685417175, 0.8067938089370728, 0.8058962821960449, 0.8047349452972412, 0.8019787073135376, 0.8015478253364563, 0.8013699054718018, 0.8002474904060364, 0.8002474904060364, 0.8002474904060364, 0.7986841201782227, 0.9999998807907104, 0.9999998807907104, 0.9999998807907104, 0.9999998807907104, 0.9999998807907104, 0.9999998807907104, 0.9999998807907104, 0.9999998807907104, 0.9999998807907104, 0.9999998807907104, 0.9999998807907104, 0.9999998807907104, 0.9999998807907104, 0.9999998807907104, 0.9999998807907104, 0.9999998807907104, 0.9999998807907104, 0.9999998807907104, 0.9999998807907104, 0.9999998807907104, 0.9999998807907104, 0.9999998807907104, 0.9680036306381226, 0.9591661691665649, 0.9591661691665649, 0.936257541179657, 0.9100315570831299, 0.8952046632766724, 0.8738833069801331, 0.8645299673080444, 0.861410915851593, 0.8570637106895447, 0.8347256779670715, 0.8340575695037842, 0.8260868787765503, 0.823825478553772, 0.8210896253585815, 0.8143805861473083, 0.8091704249382019, 0.8091704249382019, 0.8030316233634949, 0.9046310186386108, 0.9046310186386108, 0.8879224061965942, 0.8809897303581238, 0.8772115707397461, 0.8740928173065186, 0.8740927577018738, 0.8740927577018738, 0.8663823008537292, 0.862217366695404, 0.8619526028633118, 0.8619526028633118, 0.8545066118240356, 0.853234052658081, 0.853234052658081, 0.8528248071670532, 0.8522558212280273, 0.8511256575584412, 0.8511256575584412, 0.8498124480247498, 0.8487492799758911, 0.8487492799758911, 0.8477046489715576, 0.8477046489715576, 0.8453183770179749, 0.8453183770179749, 0.8453183770179749, 0.8441070318222046, 0.8434823751449585, 0.8433540463447571, 0.841952919960022, 0.8403891324996948, 0.8394980430603027, 0.8383374810218811, 0.8376723527908325, 0.837672233581543, 0.8374141454696655, 0.8360949754714966, 0.8360949754714966, 0.8357651233673096, 0.8357651233673096, 0.9446350336074829, 0.9439656734466553, 0.9383021593093872, 0.9376706480979919, 0.9375168681144714, 0.9375168681144714, 0.9335359334945679, 0.9335359334945679, 0.9335359334945679, 0.9310340285301208, 0.9310340285301208, 0.9310340285301208, 0.9300129413604736, 0.9265243411064148, 0.9252727031707764, 0.9238115549087524, 0.9238115549087524, 0.9230800867080688, 0.9226638078689575, 0.9189572334289551, 0.9188631772994995, 0.9148936867713928, 0.9124699831008911, 0.9118314385414124, 0.9118314385414124, 0.9114935994148254, 0.9080213308334351, 0.9050102233886719, 0.9045975208282471, 0.9031408429145813, 0.9031408429145813, 0.9028816819190979, 0.9028816819190979, 0.8983224034309387, 0.8970903754234314, 0.8955528736114502, 0.8951734304428101, 0.8946385383605957, 0.8925407528877258, 0.8907241225242615, 0.8895109295845032, 0.8966438174247742, 0.8873525857925415, 0.8860527276992798, 0.8860527276992798, 0.8860527276992798, 0.8763840794563293, 0.8740791082382202, 0.8740791082382202, 0.8665068745613098, 0.866506814956665, 0.8656460642814636, 0.8656460642814636, 0.8626527190208435, 0.8621148467063904, 0.8598693609237671, 0.8581143617630005, 0.8566934466362, 0.8560312390327454, 0.8546176552772522, 0.8532795906066895, 0.852917492389679, 0.8516296744346619, 0.8504976034164429, 0.8488789200782776, 0.8484850525856018, 0.8478761911392212, 0.8477123975753784, 0.8449139595031738, 0.8449139595031738, 0.844913899898529, 0.8432555794715881, 0.8423840403556824, 0.8420656323432922, 0.8413287401199341, 0.8413286805152893, 0.8410830497741699, 0.8389353156089783, 0.8389353156089783, 0.8387097120285034, 0.838158130645752, 0.8381083607673645, 0.9434522390365601, 0.9422776103019714, 0.9354945421218872, 0.9348799586296082, 0.9348799586296082, 0.930567741394043, 0.930567741394043, 0.930567741394043, 0.908784031867981, 0.9028432369232178, 0.8937128186225891, 0.8936296701431274, 0.8936296701431274, 0.8936296701431274, 0.8882281184196472, 0.8827715516090393, 0.8802840113639832, 0.8775268793106079, 0.8775268793106079, 0.8684197664260864, 0.866056501865387, 0.8650402426719666, 0.8650402426719666, 0.8649801015853882, 0.8620796203613281, 0.86150723695755, 0.86150723695755, 0.8607887029647827, 0.8555852770805359, 0.8555852770805359, 0.8527507781982422, 0.8527507781982422, 0.8527507781982422, 0.8525023460388184, 0.852226734161377, 0.852226734161377, 0.852226734161377, 0.8513774871826172, 0.8513774871826172, 0.8513774871826172, 0.8486835360527039, 0.7233392000198364, 0.6544769406318665, 0.6315789222717285, 0.6260213851928711, 0.6260213851928711, 0.6260213851928711, 0.6260213851928711, 0.6260213851928711, 0.6218743324279785, 0.607737123966217, 0.607737123966217, 0.6069769859313965, 0.6023469567298889, 0.598986029624939, 0.5989859700202942, 0.5989859700202942, 0.5989859700202942, 0.5973477363586426, 0.5964808464050293, 0.5877300500869751, 0.582794189453125, 0.582794189453125, 0.5818356871604919, 0.5813876986503601, 0.5813876986503601, 0.579986572265625, 0.579986572265625, 0.579986572265625, 0.5782433152198792, 0.5768598914146423, 0.57396399974823, 0.5672281384468079, 0.5602961778640747, 0.5568193793296814, 0.5560925006866455, 0.5510387420654297, 0.5510387420654297, 0.5510387420654297, 0.5501196384429932, 0.5478652119636536, 0.5478652119636536, 0.9280238151550293, 0.8965518474578857, 0.8965518474578857, 0.8965518474578857, 0.8965518474578857, 0.8965518474578857, 0.893852710723877, 0.8909062147140503, 0.8893193006515503, 0.8851315379142761, 0.8851315379142761, 0.8851315379142761, 0.8779094219207764, 0.8761546611785889, 0.8731961846351624, 0.8731961846351624, 0.8703169822692871, 0.8665783405303955, 0.8665783405303955, 0.866506814956665, 0.8660457730293274, 0.8656302690505981, 0.8656302690505981, 0.8636730313301086, 0.8636729121208191, 0.8630338907241821, 0.8623164296150208, 0.8623164296150208, 0.8623164296150208, 0.8620792627334595, 0.8620792627334595, 0.8616886138916016, 0.8612157702445984, 0.8612073659896851, 0.8595878481864929, 0.8581366539001465, 0.8576900959014893, 0.8568453788757324, 0.8565110564231873, 0.8556760549545288, 0.8547875285148621, 0.9349835515022278, 0.9123081564903259, 0.9049908518791199, 0.900283694267273, 0.8999646902084351, 0.8974308967590332, 0.8924731612205505, 0.8831770420074463, 0.8800090551376343, 0.8723686337471008, 0.8702199459075928, 0.870195209980011, 0.8660435676574707, 0.8655945658683777, 0.8650057315826416, 0.8650057315826416, 0.8641263246536255, 0.8641263246536255, 0.8636621236801147, 0.8636313080787659, 0.8602150678634644, 0.8602150678634644, 0.8598695397377014, 0.8578269481658936, 0.8545839786529541, 0.8545839190483093, 0.8504241704940796, 0.8501317501068115, 0.8501317501068115, 0.8501316905021667, 0.8501316905021667, 0.8501316905021667, 0.8501316905021667, 0.8488732576370239, 0.8480216860771179, 0.8478554487228394, 0.8478426933288574, 0.8478426933288574, 0.8460577130317688, 0.8452898859977722, 0.8451218008995056, 0.9654989242553711, 0.9352893829345703, 0.9352893829345703, 0.9288344383239746, 0.9288344383239746, 0.9288344383239746, 0.9288343787193298, 0.9288343787193298, 0.924622654914856, 0.9231685400009155, 0.9224810600280762, 0.9204329252243042, 0.9178082942962646, 0.9152824878692627, 0.9148349761962891, 0.9148349761962891, 0.9113421440124512, 0.9104889035224915, 0.909588098526001, 0.909588098526001, 0.9068502187728882, 0.904391348361969, 0.9027100205421448, 0.9023047089576721, 0.9003262519836426, 0.8979330658912659, 0.8979330658912659, 0.8972121477127075, 0.8972121477127075, 0.8959215879440308, 0.8957367539405823, 0.8957367539405823, 0.8944272398948669, 0.8944272398948669, 0.8941963315010071, 0.8910647034645081, 0.8910647034645081, 0.8910280466079712, 0.8906049728393555, 0.890509307384491, 0.8890106678009033, 0.9106265306472778, 0.9106265306472778, 0.9106265306472778, 0.910093367099762, 0.900693953037262, 0.8966168761253357, 0.8934432864189148, 0.8934432864189148, 0.891087532043457, 0.8907766342163086, 0.8868441581726074, 0.8868441581726074, 0.8830317854881287, 0.8830317854881287, 0.8830317854881287, 0.8809138536453247, 0.8809138536453247, 0.8807682394981384, 0.8777480721473694, 0.8750445246696472, 0.8748645782470703, 0.874777615070343, 0.874777615070343, 0.874748170375824, 0.8718371987342834, 0.868693470954895, 0.8665200471878052, 0.866044282913208, 0.8657256960868835, 0.8655447363853455, 0.8641499876976013, 0.8641499876976013, 0.8641499876976013, 0.8618069291114807, 0.8617143630981445, 0.8593963384628296, 0.8592131733894348, 0.8578578233718872, 0.8569592237472534, 0.856814444065094, 0.856814444065094, 0.9157821536064148, 0.9041575193405151, 0.8725473284721375, 0.868543267250061, 0.8553371429443359, 0.852066159248352, 0.852066159248352, 0.852066159248352, 0.8487473726272583, 0.8441622257232666, 0.8439198136329651, 0.8394196033477783, 0.8362420201301575, 0.8355728387832642, 0.8223168849945068, 0.8215596079826355, 0.8207677602767944, 0.8207677602767944, 0.8207677602767944, 0.8207677602767944, 0.8207677602767944, 0.8207677602767944, 0.8207677602767944, 0.8155909180641174, 0.8062458634376526, 0.796397864818573, 0.7950999736785889, 0.7884045839309692, 0.7878786325454712, 0.780875027179718, 0.7804925441741943, 0.7784989476203918, 0.7784988880157471, 0.7765678763389587, 0.7758097648620605, 0.7733853459358215, 0.7719842195510864, 0.7705413699150085, 0.7659416794776917, 0.7659416794776917, 0.7659416794776917, 0.9500192403793335, 0.9500192403793335, 0.943462610244751, 0.943462610244751, 0.943462610244751, 0.943462610244751, 0.943462610244751, 0.943462610244751, 0.9429079294204712, 0.9429079294204712, 0.9416797757148743, 0.9391845464706421, 0.9377074837684631, 0.9370092153549194, 0.9352195858955383, 0.934928834438324, 0.9343531131744385, 0.9310486316680908, 0.9296972155570984, 0.9256949424743652, 0.9251985549926758, 0.9239132404327393, 0.9239132404327393, 0.9237695336341858, 0.9222247004508972, 0.9222247004508972, 0.9165151715278625, 0.9163796305656433, 0.9145054817199707, 0.912074625492096, 0.912074625492096, 0.9113423228263855, 0.9113423228263855, 0.9113218188285828, 0.9098437428474426, 0.9098437428474426, 0.9082789421081543, 0.9060665965080261, 0.905098021030426, 0.905098021030426, 0.9050608277320862, 0.9394222497940063, 0.9298035502433777, 0.916260838508606, 0.9156979322433472, 0.9156979322433472, 0.9156979322433472, 0.9155774116516113, 0.9143283367156982, 0.9122583866119385, 0.9073290824890137, 0.9071636199951172, 0.9065862894058228, 0.9018129110336304, 0.8964279890060425, 0.8932026624679565, 0.8932026624679565, 0.8920510411262512, 0.8920510411262512, 0.8776139616966248, 0.8766618967056274, 0.8763607740402222, 0.8763607740402222, 0.8763607740402222, 0.8757550716400146, 0.8757550120353699, 0.8757550120353699, 0.8757550120353699, 0.8757550120353699, 0.8757550120353699, 0.8742115497589111, 0.8701704144477844, 0.8677220344543457, 0.8677219152450562, 0.8677219152450562, 0.8618068695068359, 0.8618068695068359, 0.8616965413093567, 0.8613793253898621, 0.8610211610794067, 0.8605232238769531, 0.8605232238769531, 0.959302544593811, 0.959302544593811, 0.959302544593811, 0.9511783123016357, 0.9265558123588562, 0.9210764169692993, 0.9140769839286804, 0.9140769839286804, 0.9140375852584839, 0.9140375852584839, 0.9140324592590332, 0.9118837118148804, 0.9019120931625366, 0.9019120931625366, 0.9013814926147461, 0.8956645131111145, 0.895173192024231, 0.8932027816772461, 0.8932027816772461, 0.8932027816772461, 0.8932027816772461, 0.8912870287895203, 0.8874427676200867, 0.8860387802124023, 0.8859916925430298, 0.8859916925430298, 0.8859916925430298, 0.8857851028442383, 0.8837806582450867, 0.8837806582450867, 0.883216917514801, 0.883216917514801, 0.8826774954795837, 0.8809138536453247, 0.8800305724143982, 0.8763607740402222, 0.8763607740402222, 0.8763607740402222, 0.8744747042655945, 0.865253210067749, 0.865253210067749, 0.9999998807907104, 0.9999998807907104, 0.9999998807907104, 0.9999998807907104, 0.9999998807907104, 0.9999998807907104, 0.9999998807907104, 0.9999998807907104, 0.9999998807907104, 0.9174633026123047, 0.9174633026123047, 0.9100315570831299, 0.9100315570831299, 0.9100315570831299, 0.9100315570831299, 0.8131231665611267, 0.804071307182312, 0.7744029760360718, 0.7735267281532288, 0.765383780002594, 0.765383780002594, 0.765383780002594, 0.765383780002594, 0.762030839920044, 0.7506518363952637, 0.7366349697113037, 0.7345585823059082, 0.7325942516326904, 0.7280252575874329, 0.7280251979827881, 0.7280251979827881, 0.7280251979827881, 0.7280251979827881, 0.7280251979827881, 0.7280251979827881, 0.7280251979827881, 0.7223151922225952, 0.7160413861274719, 0.7144421339035034, 0.714286744594574, 0.7106641530990601, 0.9394222497940063, 0.9298035502433777, 0.916260838508606, 0.9156979322433472, 0.9156979322433472, 0.9156979322433472, 0.9155774116516113, 0.9143283367156982, 0.9122583866119385, 0.9073290824890137, 0.9071636199951172, 0.9065862894058228, 0.9018129110336304, 0.8964279890060425, 0.8932026624679565, 0.8932026624679565, 0.8920510411262512, 0.8920510411262512, 0.8776139616966248, 0.8766618967056274, 0.8763607740402222, 0.8763607740402222, 0.8763607740402222, 0.8757550716400146, 0.8757550120353699, 0.8757550120353699, 0.8757550120353699, 0.8757550120353699, 0.8757550120353699, 0.8742115497589111, 0.8701704144477844, 0.8677220344543457, 0.8677219152450562, 0.8677219152450562, 0.8618068695068359, 0.8618068695068359, 0.8616965413093567, 0.8613793253898621, 0.8610211610794067, 0.8605232238769531, 0.8605232238769531, 0.9394222497940063, 0.9298035502433777, 0.916260838508606, 0.9156979322433472, 0.9156979322433472, 0.9156979322433472, 0.9155774116516113, 0.9143283367156982, 0.9122583866119385, 0.9073290824890137, 0.9071636199951172, 0.9065862894058228, 0.9018129110336304, 0.8964279890060425, 0.8932026624679565, 0.8932026624679565, 0.8920510411262512, 0.8920510411262512, 0.8776139616966248, 0.8766618967056274, 0.8763607740402222, 0.8763607740402222, 0.8763607740402222, 0.8757550716400146, 0.8757550120353699, 0.8757550120353699, 0.8757550120353699, 0.8757550120353699, 0.8757550120353699, 0.8742115497589111, 0.8701704144477844, 0.8677220344543457, 0.8677219152450562, 0.8677219152450562, 0.8618068695068359, 0.8618068695068359, 0.8616965413093567, 0.8613793253898621, 0.8610211610794067, 0.8605232238769531, 0.8605232238769531, 0.959302544593811, 0.959302544593811, 0.959302544593811, 0.9511783123016357, 0.9265558123588562, 0.9210764169692993, 0.9140769839286804, 0.9140769839286804, 0.9140375852584839, 0.9140375852584839, 0.9140324592590332, 0.9118837118148804, 0.9019120931625366, 0.9019120931625366, 0.9013814926147461, 0.8956645131111145, 0.895173192024231, 0.8932027816772461, 0.8932027816772461, 0.8932027816772461, 0.8932027816772461, 0.8912870287895203, 0.8874427676200867, 0.8860387802124023, 0.8859916925430298, 0.8859916925430298, 0.8859916925430298, 0.8857851028442383, 0.8837806582450867, 0.8837806582450867, 0.883216917514801, 0.883216917514801, 0.8826774954795837, 0.8809138536453247, 0.8800305724143982, 0.8763607740402222, 0.8763607740402222, 0.8763607740402222, 0.8744747042655945, 0.865253210067749, 0.865253210067749, 0.9999998807907104, 0.9999998807907104, 0.9999998807907104, 0.9999998807907104, 0.9999998807907104, 0.9999998807907104, 0.9999998807907104, 0.9999998807907104, 0.9999998807907104, 0.9174633026123047, 0.9174633026123047, 0.9100315570831299, 0.9100315570831299, 0.9100315570831299, 0.9100315570831299, 0.8131231665611267, 0.804071307182312, 0.7744029760360718, 0.7735267281532288, 0.765383780002594, 0.765383780002594, 0.765383780002594, 0.765383780002594, 0.762030839920044, 0.7506518363952637, 0.7366349697113037, 0.7345585823059082, 0.7325942516326904, 0.7280252575874329, 0.7280251979827881, 0.7280251979827881, 0.7280251979827881, 0.7280251979827881, 0.7280251979827881, 0.7280251979827881, 0.7280251979827881, 0.7223151922225952, 0.7160413861274719, 0.7144421339035034, 0.714286744594574, 0.7106641530990601, 0.9394222497940063, 0.9298035502433777, 0.916260838508606, 0.9156979322433472, 0.9156979322433472, 0.9156979322433472, 0.9155774116516113, 0.9143283367156982, 0.9122583866119385, 0.9073290824890137, 0.9071636199951172, 0.9065862894058228, 0.9018129110336304, 0.8964279890060425, 0.8932026624679565, 0.8932026624679565, 0.8920510411262512, 0.8920510411262512, 0.8776139616966248, 0.8766618967056274, 0.8763607740402222, 0.8763607740402222, 0.8763607740402222, 0.8757550716400146, 0.8757550120353699, 0.8757550120353699, 0.8757550120353699, 0.8757550120353699, 0.8757550120353699, 0.8742115497589111, 0.8701704144477844, 0.8677220344543457, 0.8677219152450562, 0.8677219152450562, 0.8618068695068359, 0.8618068695068359, 0.8616965413093567, 0.8613793253898621, 0.8610211610794067, 0.8605232238769531, 0.8605232238769531, 0.9089717864990234, 0.8827347755432129, 0.8693016171455383, 0.8614436388015747, 0.8451542854309082, 0.8440452814102173, 0.8362257480621338, 0.8362257480621338, 0.8362256288528442, 0.8283814191818237, 0.822403073310852, 0.822403073310852, 0.8224030137062073, 0.8224030137062073, 0.8210070729255676, 0.8196886777877808, 0.8183436989784241, 0.8163561224937439, 0.8139569163322449, 0.8139568567276001, 0.8139568567276001, 0.8139568567276001, 0.8126359581947327, 0.8126359581947327, 0.8126359581947327, 0.8114822506904602, 0.8095110654830933, 0.8092436790466309, 0.8092436790466309, 0.8086028099060059, 0.8066946864128113, 0.8059927225112915, 0.8058666586875916, 0.8058666586875916, 0.7999999523162842, 0.7999999523162842, 0.7999999523162842, 0.7977238297462463, 0.7977237701416016, 0.7973684668540955, 0.7973660826683044, 0.8745573163032532, 0.8533102869987488, 0.8458887338638306, 0.8433626294136047, 0.8358542323112488, 0.8342725038528442, 0.8336551189422607, 0.8336551189422607, 0.8305395841598511, 0.8251006603240967, 0.8238857388496399, 0.8238857388496399, 0.8224711418151855, 0.822403073310852, 0.8212368488311768, 0.8212075233459473, 0.8196887373924255, 0.8196887373924255, 0.8196348547935486, 0.8191182017326355, 0.8182289004325867, 0.8170415163040161, 0.8160941004753113, 0.8160941004753113, 0.8160939812660217, 0.8150855302810669, 0.8132501244544983, 0.8132501244544983, 0.8111260533332825, 0.8111260533332825, 0.8085734844207764, 0.8073214292526245, 0.8066366910934448, 0.8066366910934448, 0.8059927225112915, 0.8031576871871948, 0.8021851778030396, 0.8002380728721619, 0.799085795879364, 0.7987331748008728, 0.7987331748008728, 0.7011695504188538, 0.6896563768386841, 0.6697108149528503, 0.6697108149528503, 0.6697108149528503, 0.6697108149528503, 0.6574381589889526, 0.6574381589889526, 0.6574381589889526, 0.6513115167617798, 0.6420577764511108, 0.637022078037262, 0.637022078037262, 0.637022078037262, 0.6359629034996033, 0.6332594752311707, 0.6218743324279785, 0.6195223927497864, 0.6170608997344971, 0.6170608997344971, 0.6140433549880981, 0.6019291877746582, 0.6010024547576904, 0.6010024547576904, 0.5991712212562561, 0.596767008304596, 0.5958795547485352, 0.5957555174827576, 0.5957555174827576, 0.5957555174827576, 0.5957555174827576, 0.5957555174827576, 0.5950732231140137, 0.5922200679779053, 0.5915205478668213, 0.5915205478668213, 0.5915205478668213, 0.5915204882621765, 0.5915204882621765, 0.5915204882621765, 0.5864925384521484, 0.8924513459205627, 0.8924250602722168, 0.8918917179107666, 0.8918917179107666, 0.8858081102371216, 0.8812711238861084, 0.8737469911575317, 0.8724305629730225, 0.8689659237861633, 0.8689659237861633, 0.8660613894462585, 0.8645367622375488, 0.8630145788192749, 0.8614436388015747, 0.8601428866386414, 0.8585459589958191, 0.8585459589958191, 0.8581135869026184, 0.8577504754066467, 0.8562811613082886, 0.8561171293258667, 0.8517570495605469, 0.8506321907043457, 0.8492052555084229, 0.8472687602043152, 0.8426193594932556, 0.8423330187797546, 0.84196537733078, 0.84196537733078, 0.8402615785598755, 0.8389544486999512, 0.8355316519737244, 0.8346092700958252, 0.8346091508865356, 0.8346091508865356, 0.8312350511550903, 0.8312350511550903, 0.8302010893821716, 0.8299276828765869, 0.8299275636672974, 0.8298484683036804], \"xaxis\": \"x\", \"yaxis\": \"y\"}],\n",
              "                        {\"barmode\": \"relative\", \"legend\": {\"tracegroupgap\": 0}, \"margin\": {\"t\": 60}, \"template\": {\"data\": {\"bar\": [{\"error_x\": {\"color\": \"#2a3f5f\"}, \"error_y\": {\"color\": \"#2a3f5f\"}, \"marker\": {\"line\": {\"color\": \"#E5ECF6\", \"width\": 0.5}}, \"type\": \"bar\"}], \"barpolar\": [{\"marker\": {\"line\": {\"color\": \"#E5ECF6\", \"width\": 0.5}}, \"type\": \"barpolar\"}], \"carpet\": [{\"aaxis\": {\"endlinecolor\": \"#2a3f5f\", \"gridcolor\": \"white\", \"linecolor\": \"white\", \"minorgridcolor\": \"white\", \"startlinecolor\": \"#2a3f5f\"}, \"baxis\": {\"endlinecolor\": \"#2a3f5f\", \"gridcolor\": \"white\", \"linecolor\": \"white\", \"minorgridcolor\": \"white\", \"startlinecolor\": \"#2a3f5f\"}, \"type\": \"carpet\"}], \"choropleth\": [{\"colorbar\": {\"outlinewidth\": 0, \"ticks\": \"\"}, \"type\": \"choropleth\"}], \"contour\": [{\"colorbar\": {\"outlinewidth\": 0, \"ticks\": \"\"}, \"colorscale\": [[0.0, \"#0d0887\"], [0.1111111111111111, \"#46039f\"], [0.2222222222222222, \"#7201a8\"], [0.3333333333333333, \"#9c179e\"], [0.4444444444444444, \"#bd3786\"], [0.5555555555555556, \"#d8576b\"], [0.6666666666666666, \"#ed7953\"], [0.7777777777777778, \"#fb9f3a\"], [0.8888888888888888, \"#fdca26\"], [1.0, \"#f0f921\"]], \"type\": \"contour\"}], \"contourcarpet\": [{\"colorbar\": {\"outlinewidth\": 0, \"ticks\": \"\"}, \"type\": \"contourcarpet\"}], \"heatmap\": [{\"colorbar\": {\"outlinewidth\": 0, \"ticks\": \"\"}, \"colorscale\": [[0.0, \"#0d0887\"], [0.1111111111111111, \"#46039f\"], [0.2222222222222222, \"#7201a8\"], [0.3333333333333333, \"#9c179e\"], [0.4444444444444444, \"#bd3786\"], [0.5555555555555556, \"#d8576b\"], [0.6666666666666666, \"#ed7953\"], [0.7777777777777778, \"#fb9f3a\"], [0.8888888888888888, \"#fdca26\"], [1.0, \"#f0f921\"]], \"type\": \"heatmap\"}], \"heatmapgl\": [{\"colorbar\": {\"outlinewidth\": 0, \"ticks\": \"\"}, \"colorscale\": [[0.0, \"#0d0887\"], [0.1111111111111111, \"#46039f\"], [0.2222222222222222, \"#7201a8\"], [0.3333333333333333, \"#9c179e\"], [0.4444444444444444, \"#bd3786\"], [0.5555555555555556, \"#d8576b\"], [0.6666666666666666, \"#ed7953\"], [0.7777777777777778, \"#fb9f3a\"], [0.8888888888888888, \"#fdca26\"], [1.0, \"#f0f921\"]], \"type\": \"heatmapgl\"}], \"histogram\": [{\"marker\": {\"colorbar\": {\"outlinewidth\": 0, \"ticks\": \"\"}}, \"type\": \"histogram\"}], \"histogram2d\": [{\"colorbar\": {\"outlinewidth\": 0, \"ticks\": \"\"}, \"colorscale\": [[0.0, \"#0d0887\"], [0.1111111111111111, \"#46039f\"], [0.2222222222222222, \"#7201a8\"], [0.3333333333333333, \"#9c179e\"], [0.4444444444444444, \"#bd3786\"], [0.5555555555555556, \"#d8576b\"], [0.6666666666666666, \"#ed7953\"], [0.7777777777777778, \"#fb9f3a\"], [0.8888888888888888, \"#fdca26\"], [1.0, \"#f0f921\"]], \"type\": \"histogram2d\"}], \"histogram2dcontour\": [{\"colorbar\": {\"outlinewidth\": 0, \"ticks\": \"\"}, \"colorscale\": [[0.0, \"#0d0887\"], [0.1111111111111111, \"#46039f\"], [0.2222222222222222, \"#7201a8\"], [0.3333333333333333, \"#9c179e\"], [0.4444444444444444, \"#bd3786\"], [0.5555555555555556, \"#d8576b\"], [0.6666666666666666, \"#ed7953\"], [0.7777777777777778, \"#fb9f3a\"], [0.8888888888888888, \"#fdca26\"], [1.0, \"#f0f921\"]], \"type\": \"histogram2dcontour\"}], \"mesh3d\": [{\"colorbar\": {\"outlinewidth\": 0, \"ticks\": \"\"}, \"type\": \"mesh3d\"}], \"parcoords\": [{\"line\": {\"colorbar\": {\"outlinewidth\": 0, \"ticks\": \"\"}}, \"type\": \"parcoords\"}], \"pie\": [{\"automargin\": true, \"type\": \"pie\"}], \"scatter\": [{\"marker\": {\"colorbar\": {\"outlinewidth\": 0, \"ticks\": \"\"}}, \"type\": \"scatter\"}], \"scatter3d\": [{\"line\": {\"colorbar\": {\"outlinewidth\": 0, \"ticks\": \"\"}}, \"marker\": {\"colorbar\": {\"outlinewidth\": 0, \"ticks\": \"\"}}, \"type\": \"scatter3d\"}], \"scattercarpet\": [{\"marker\": {\"colorbar\": {\"outlinewidth\": 0, \"ticks\": \"\"}}, \"type\": \"scattercarpet\"}], \"scattergeo\": [{\"marker\": {\"colorbar\": {\"outlinewidth\": 0, \"ticks\": \"\"}}, \"type\": \"scattergeo\"}], \"scattergl\": [{\"marker\": {\"colorbar\": {\"outlinewidth\": 0, \"ticks\": \"\"}}, \"type\": \"scattergl\"}], \"scattermapbox\": [{\"marker\": {\"colorbar\": {\"outlinewidth\": 0, \"ticks\": \"\"}}, \"type\": \"scattermapbox\"}], \"scatterpolar\": [{\"marker\": {\"colorbar\": {\"outlinewidth\": 0, \"ticks\": \"\"}}, \"type\": \"scatterpolar\"}], \"scatterpolargl\": [{\"marker\": {\"colorbar\": {\"outlinewidth\": 0, \"ticks\": \"\"}}, \"type\": \"scatterpolargl\"}], \"scatterternary\": [{\"marker\": {\"colorbar\": {\"outlinewidth\": 0, \"ticks\": \"\"}}, \"type\": \"scatterternary\"}], \"surface\": [{\"colorbar\": {\"outlinewidth\": 0, \"ticks\": \"\"}, \"colorscale\": [[0.0, \"#0d0887\"], [0.1111111111111111, \"#46039f\"], [0.2222222222222222, \"#7201a8\"], [0.3333333333333333, \"#9c179e\"], [0.4444444444444444, \"#bd3786\"], [0.5555555555555556, \"#d8576b\"], [0.6666666666666666, \"#ed7953\"], [0.7777777777777778, \"#fb9f3a\"], [0.8888888888888888, \"#fdca26\"], [1.0, \"#f0f921\"]], \"type\": \"surface\"}], \"table\": [{\"cells\": {\"fill\": {\"color\": \"#EBF0F8\"}, \"line\": {\"color\": \"white\"}}, \"header\": {\"fill\": {\"color\": \"#C8D4E3\"}, \"line\": {\"color\": \"white\"}}, \"type\": \"table\"}]}, \"layout\": {\"annotationdefaults\": {\"arrowcolor\": \"#2a3f5f\", \"arrowhead\": 0, \"arrowwidth\": 1}, \"coloraxis\": {\"colorbar\": {\"outlinewidth\": 0, \"ticks\": \"\"}}, \"colorscale\": {\"diverging\": [[0, \"#8e0152\"], [0.1, \"#c51b7d\"], [0.2, \"#de77ae\"], [0.3, \"#f1b6da\"], [0.4, \"#fde0ef\"], [0.5, \"#f7f7f7\"], [0.6, \"#e6f5d0\"], [0.7, \"#b8e186\"], [0.8, \"#7fbc41\"], [0.9, \"#4d9221\"], [1, \"#276419\"]], \"sequential\": [[0.0, \"#0d0887\"], [0.1111111111111111, \"#46039f\"], [0.2222222222222222, \"#7201a8\"], [0.3333333333333333, \"#9c179e\"], [0.4444444444444444, \"#bd3786\"], [0.5555555555555556, \"#d8576b\"], [0.6666666666666666, \"#ed7953\"], [0.7777777777777778, \"#fb9f3a\"], [0.8888888888888888, \"#fdca26\"], [1.0, \"#f0f921\"]], \"sequentialminus\": [[0.0, \"#0d0887\"], [0.1111111111111111, \"#46039f\"], [0.2222222222222222, \"#7201a8\"], [0.3333333333333333, \"#9c179e\"], [0.4444444444444444, \"#bd3786\"], [0.5555555555555556, \"#d8576b\"], [0.6666666666666666, \"#ed7953\"], [0.7777777777777778, \"#fb9f3a\"], [0.8888888888888888, \"#fdca26\"], [1.0, \"#f0f921\"]]}, \"colorway\": [\"#636efa\", \"#EF553B\", \"#00cc96\", \"#ab63fa\", \"#FFA15A\", \"#19d3f3\", \"#FF6692\", \"#B6E880\", \"#FF97FF\", \"#FECB52\"], \"font\": {\"color\": \"#2a3f5f\"}, \"geo\": {\"bgcolor\": \"white\", \"lakecolor\": \"white\", \"landcolor\": \"#E5ECF6\", \"showlakes\": true, \"showland\": true, \"subunitcolor\": \"white\"}, \"hoverlabel\": {\"align\": \"left\"}, \"hovermode\": \"closest\", \"mapbox\": {\"style\": \"light\"}, \"paper_bgcolor\": \"white\", \"plot_bgcolor\": \"#E5ECF6\", \"polar\": {\"angularaxis\": {\"gridcolor\": \"white\", \"linecolor\": \"white\", \"ticks\": \"\"}, \"bgcolor\": \"#E5ECF6\", \"radialaxis\": {\"gridcolor\": \"white\", \"linecolor\": \"white\", \"ticks\": \"\"}}, \"scene\": {\"xaxis\": {\"backgroundcolor\": \"#E5ECF6\", \"gridcolor\": \"white\", \"gridwidth\": 2, \"linecolor\": \"white\", \"showbackground\": true, \"ticks\": \"\", \"zerolinecolor\": \"white\"}, \"yaxis\": {\"backgroundcolor\": \"#E5ECF6\", \"gridcolor\": \"white\", \"gridwidth\": 2, \"linecolor\": \"white\", \"showbackground\": true, \"ticks\": \"\", \"zerolinecolor\": \"white\"}, \"zaxis\": {\"backgroundcolor\": \"#E5ECF6\", \"gridcolor\": \"white\", \"gridwidth\": 2, \"linecolor\": \"white\", \"showbackground\": true, \"ticks\": \"\", \"zerolinecolor\": \"white\"}}, \"shapedefaults\": {\"line\": {\"color\": \"#2a3f5f\"}}, \"ternary\": {\"aaxis\": {\"gridcolor\": \"white\", \"linecolor\": \"white\", \"ticks\": \"\"}, \"baxis\": {\"gridcolor\": \"white\", \"linecolor\": \"white\", \"ticks\": \"\"}, \"bgcolor\": \"#E5ECF6\", \"caxis\": {\"gridcolor\": \"white\", \"linecolor\": \"white\", \"ticks\": \"\"}}, \"title\": {\"x\": 0.05}, \"xaxis\": {\"automargin\": true, \"gridcolor\": \"white\", \"linecolor\": \"white\", \"ticks\": \"\", \"title\": {\"standoff\": 15}, \"zerolinecolor\": \"white\", \"zerolinewidth\": 2}, \"yaxis\": {\"automargin\": true, \"gridcolor\": \"white\", \"linecolor\": \"white\", \"ticks\": \"\", \"title\": {\"standoff\": 15}, \"zerolinecolor\": \"white\", \"zerolinewidth\": 2}}}, \"xaxis\": {\"anchor\": \"y\", \"domain\": [0.0, 1.0], \"title\": {\"text\": \"score\"}}, \"yaxis\": {\"anchor\": \"x\", \"domain\": [0.0, 1.0], \"title\": {\"text\": \"count\"}}},\n",
              "                        {\"responsive\": true}\n",
              "                    ).then(function(){\n",
              "                            \n",
              "var gd = document.getElementById('f3d056fc-be65-4d9d-b01a-9b457e8188e8');\n",
              "var x = new MutationObserver(function (mutations, observer) {{\n",
              "        var display = window.getComputedStyle(gd).display;\n",
              "        if (!display || display === 'none') {{\n",
              "            console.log([gd, 'removed!']);\n",
              "            Plotly.purge(gd);\n",
              "            observer.disconnect();\n",
              "        }}\n",
              "}});\n",
              "\n",
              "// Listen for the removal of the full notebook cells\n",
              "var notebookContainer = gd.closest('#notebook-container');\n",
              "if (notebookContainer) {{\n",
              "    x.observe(notebookContainer, {childList: true});\n",
              "}}\n",
              "\n",
              "// Listen for the clearing of the current output cell\n",
              "var outputEl = gd.closest('.output');\n",
              "if (outputEl) {{\n",
              "    x.observe(outputEl, {childList: true});\n",
              "}}\n",
              "\n",
              "                        })\n",
              "                };\n",
              "                \n",
              "            </script>\n",
              "        </div>\n",
              "</body>\n",
              "</html>"
            ]
          },
          "metadata": {}
        }
      ]
    },
    {
      "cell_type": "code",
      "metadata": {
        "colab": {
          "base_uri": "https://localhost:8080/",
          "height": 1000
        },
        "id": "7N81-XfdDFKV",
        "outputId": "46c76bc4-b793-43e3-df81-c74241ebeb3a"
      },
      "source": [
        "result, details = recommend_tune(df_sim, 'These Foolish Things')\n",
        "result.head(30)"
      ],
      "execution_count": 137,
      "outputs": [
        {
          "output_type": "execute_result",
          "data": {
            "text/html": [
              "<div>\n",
              "<style scoped>\n",
              "    .dataframe tbody tr th:only-of-type {\n",
              "        vertical-align: middle;\n",
              "    }\n",
              "\n",
              "    .dataframe tbody tr th {\n",
              "        vertical-align: top;\n",
              "    }\n",
              "\n",
              "    .dataframe thead th {\n",
              "        text-align: right;\n",
              "    }\n",
              "</style>\n",
              "<table border=\"1\" class=\"dataframe\">\n",
              "  <thead>\n",
              "    <tr style=\"text-align: right;\">\n",
              "      <th></th>\n",
              "      <th>score</th>\n",
              "      <th>max</th>\n",
              "      <th>score_div_max</th>\n",
              "    </tr>\n",
              "    <tr>\n",
              "      <th>similar_title</th>\n",
              "      <th></th>\n",
              "      <th></th>\n",
              "      <th></th>\n",
              "    </tr>\n",
              "  </thead>\n",
              "  <tbody>\n",
              "    <tr>\n",
              "      <th>More Than You Know</th>\n",
              "      <td>0.836242</td>\n",
              "      <td>0.836242</td>\n",
              "      <td>1.000000</td>\n",
              "    </tr>\n",
              "    <tr>\n",
              "      <th>Way You Look Tonight, The</th>\n",
              "      <td>0.929954</td>\n",
              "      <td>0.929954</td>\n",
              "      <td>1.000000</td>\n",
              "    </tr>\n",
              "    <tr>\n",
              "      <th>Mountain Greenery</th>\n",
              "      <td>0.899010</td>\n",
              "      <td>0.929954</td>\n",
              "      <td>1.000000</td>\n",
              "    </tr>\n",
              "    <tr>\n",
              "      <th>Party's Over, The</th>\n",
              "      <td>0.918547</td>\n",
              "      <td>0.929954</td>\n",
              "      <td>0.987734</td>\n",
              "    </tr>\n",
              "    <tr>\n",
              "      <th>I Like The Likes Of You</th>\n",
              "      <td>0.901338</td>\n",
              "      <td>0.929954</td>\n",
              "      <td>0.981706</td>\n",
              "    </tr>\n",
              "    <tr>\n",
              "      <th>I Won't Dance</th>\n",
              "      <td>0.893457</td>\n",
              "      <td>0.929954</td>\n",
              "      <td>0.977259</td>\n",
              "    </tr>\n",
              "    <tr>\n",
              "      <th>They All Laughed</th>\n",
              "      <td>0.900987</td>\n",
              "      <td>0.929954</td>\n",
              "      <td>0.968851</td>\n",
              "    </tr>\n",
              "    <tr>\n",
              "      <th>Heart And Soul</th>\n",
              "      <td>0.899528</td>\n",
              "      <td>0.929954</td>\n",
              "      <td>0.967282</td>\n",
              "    </tr>\n",
              "    <tr>\n",
              "      <th>Too Young To Go Steady</th>\n",
              "      <td>0.850118</td>\n",
              "      <td>0.881356</td>\n",
              "      <td>0.964557</td>\n",
              "    </tr>\n",
              "    <tr>\n",
              "      <th>Let's Fall In Love</th>\n",
              "      <td>0.888975</td>\n",
              "      <td>0.929954</td>\n",
              "      <td>0.960360</td>\n",
              "    </tr>\n",
              "    <tr>\n",
              "      <th>Why Do I Love You</th>\n",
              "      <td>0.890917</td>\n",
              "      <td>0.929954</td>\n",
              "      <td>0.958023</td>\n",
              "    </tr>\n",
              "    <tr>\n",
              "      <th>Long Ago And Far Away</th>\n",
              "      <td>0.887995</td>\n",
              "      <td>0.929954</td>\n",
              "      <td>0.954881</td>\n",
              "    </tr>\n",
              "    <tr>\n",
              "      <th>And The Angels Sing</th>\n",
              "      <td>0.887755</td>\n",
              "      <td>0.929954</td>\n",
              "      <td>0.954623</td>\n",
              "    </tr>\n",
              "    <tr>\n",
              "      <th>It's A Lovely Day Today</th>\n",
              "      <td>0.873132</td>\n",
              "      <td>0.929954</td>\n",
              "      <td>0.953636</td>\n",
              "    </tr>\n",
              "    <tr>\n",
              "      <th>Bewitched</th>\n",
              "      <td>0.871306</td>\n",
              "      <td>0.929954</td>\n",
              "      <td>0.951937</td>\n",
              "    </tr>\n",
              "    <tr>\n",
              "      <th>I've Got My Fingers Crossed</th>\n",
              "      <td>0.871306</td>\n",
              "      <td>0.929954</td>\n",
              "      <td>0.951937</td>\n",
              "    </tr>\n",
              "    <tr>\n",
              "      <th>Dinah</th>\n",
              "      <td>0.884748</td>\n",
              "      <td>0.929954</td>\n",
              "      <td>0.951389</td>\n",
              "    </tr>\n",
              "    <tr>\n",
              "      <th>Wouldn't It Be Loverly</th>\n",
              "      <td>0.871085</td>\n",
              "      <td>0.929954</td>\n",
              "      <td>0.951142</td>\n",
              "    </tr>\n",
              "    <tr>\n",
              "      <th>Over The Rainbow (Somewhere)</th>\n",
              "      <td>0.883596</td>\n",
              "      <td>0.929954</td>\n",
              "      <td>0.950150</td>\n",
              "    </tr>\n",
              "    <tr>\n",
              "      <th>Fools Rush In</th>\n",
              "      <td>0.883386</td>\n",
              "      <td>0.929954</td>\n",
              "      <td>0.949925</td>\n",
              "    </tr>\n",
              "    <tr>\n",
              "      <th>Time After Time</th>\n",
              "      <td>0.836847</td>\n",
              "      <td>0.881356</td>\n",
              "      <td>0.949499</td>\n",
              "    </tr>\n",
              "    <tr>\n",
              "      <th>Jeepers Creepers</th>\n",
              "      <td>0.882554</td>\n",
              "      <td>0.929954</td>\n",
              "      <td>0.949030</td>\n",
              "    </tr>\n",
              "    <tr>\n",
              "      <th>Haunted Heart</th>\n",
              "      <td>0.835560</td>\n",
              "      <td>0.881356</td>\n",
              "      <td>0.948039</td>\n",
              "    </tr>\n",
              "    <tr>\n",
              "      <th>I Loves You Porgy</th>\n",
              "      <td>0.835560</td>\n",
              "      <td>0.881356</td>\n",
              "      <td>0.948039</td>\n",
              "    </tr>\n",
              "    <tr>\n",
              "      <th>Beyond The Sea</th>\n",
              "      <td>0.835408</td>\n",
              "      <td>0.881356</td>\n",
              "      <td>0.947867</td>\n",
              "    </tr>\n",
              "    <tr>\n",
              "      <th>52nd Street Theme</th>\n",
              "      <td>0.833813</td>\n",
              "      <td>0.881356</td>\n",
              "      <td>0.946057</td>\n",
              "    </tr>\n",
              "    <tr>\n",
              "      <th>People</th>\n",
              "      <td>0.833616</td>\n",
              "      <td>0.881356</td>\n",
              "      <td>0.945833</td>\n",
              "    </tr>\n",
              "    <tr>\n",
              "      <th>You Keep Coming Back Like A Song</th>\n",
              "      <td>0.878459</td>\n",
              "      <td>0.929954</td>\n",
              "      <td>0.944626</td>\n",
              "    </tr>\n",
              "    <tr>\n",
              "      <th>Rosetta</th>\n",
              "      <td>0.789747</td>\n",
              "      <td>0.836242</td>\n",
              "      <td>0.944401</td>\n",
              "    </tr>\n",
              "    <tr>\n",
              "      <th>At Last</th>\n",
              "      <td>0.873835</td>\n",
              "      <td>0.929954</td>\n",
              "      <td>0.944005</td>\n",
              "    </tr>\n",
              "  </tbody>\n",
              "</table>\n",
              "</div>"
            ],
            "text/plain": [
              "                                     score       max  score_div_max\n",
              "similar_title                                                      \n",
              "More Than You Know                0.836242  0.836242       1.000000\n",
              "Way You Look Tonight, The         0.929954  0.929954       1.000000\n",
              "Mountain Greenery                 0.899010  0.929954       1.000000\n",
              "Party's Over, The                 0.918547  0.929954       0.987734\n",
              "I Like The Likes Of You           0.901338  0.929954       0.981706\n",
              "I Won't Dance                     0.893457  0.929954       0.977259\n",
              "They All Laughed                  0.900987  0.929954       0.968851\n",
              "Heart And Soul                    0.899528  0.929954       0.967282\n",
              "Too Young To Go Steady            0.850118  0.881356       0.964557\n",
              "Let's Fall In Love                0.888975  0.929954       0.960360\n",
              "Why Do I Love You                 0.890917  0.929954       0.958023\n",
              "Long Ago And Far Away             0.887995  0.929954       0.954881\n",
              "And The Angels Sing               0.887755  0.929954       0.954623\n",
              "It's A Lovely Day Today           0.873132  0.929954       0.953636\n",
              "Bewitched                         0.871306  0.929954       0.951937\n",
              "I've Got My Fingers Crossed       0.871306  0.929954       0.951937\n",
              "Dinah                             0.884748  0.929954       0.951389\n",
              "Wouldn't It Be Loverly            0.871085  0.929954       0.951142\n",
              "Over The Rainbow (Somewhere)      0.883596  0.929954       0.950150\n",
              "Fools Rush In                     0.883386  0.929954       0.949925\n",
              "Time After Time                   0.836847  0.881356       0.949499\n",
              "Jeepers Creepers                  0.882554  0.929954       0.949030\n",
              "Haunted Heart                     0.835560  0.881356       0.948039\n",
              "I Loves You Porgy                 0.835560  0.881356       0.948039\n",
              "Beyond The Sea                    0.835408  0.881356       0.947867\n",
              "52nd Street Theme                 0.833813  0.881356       0.946057\n",
              "People                            0.833616  0.881356       0.945833\n",
              "You Keep Coming Back Like A Song  0.878459  0.929954       0.944626\n",
              "Rosetta                           0.789747  0.836242       0.944401\n",
              "At Last                           0.873835  0.929954       0.944005"
            ]
          },
          "metadata": {},
          "execution_count": 137
        }
      ]
    },
    {
      "cell_type": "code",
      "metadata": {
        "id": "ioI_a6e0DPF1"
      },
      "source": [
        ""
      ],
      "execution_count": 37,
      "outputs": []
    }
  ]
}