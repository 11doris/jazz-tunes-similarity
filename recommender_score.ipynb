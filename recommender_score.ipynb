{
  "nbformat": 4,
  "nbformat_minor": 0,
  "metadata": {
    "colab": {
      "name": "recommender_score",
      "provenance": [],
      "toc_visible": true,
      "authorship_tag": "ABX9TyMGOW/0b4Q2fgSIGl4X5bAJ",
      "include_colab_link": true
    },
    "kernelspec": {
      "name": "python3",
      "display_name": "Python 3"
    },
    "language_info": {
      "name": "python"
    },
    "accelerator": "TPU",
    "widgets": {
      "application/vnd.jupyter.widget-state+json": {
        "3d224c8d4bfb402191827ef655968681": {
          "model_module": "@jupyter-widgets/controls",
          "model_name": "VBoxModel",
          "model_module_version": "1.5.0",
          "state": {
            "_view_name": "VBoxView",
            "_dom_classes": [],
            "_model_name": "VBoxModel",
            "_view_module": "@jupyter-widgets/controls",
            "_model_module_version": "1.5.0",
            "_view_count": null,
            "_view_module_version": "1.5.0",
            "box_style": "",
            "layout": "IPY_MODEL_afcbd5d15001460da2b1ef42f4d345a8",
            "_model_module": "@jupyter-widgets/controls",
            "children": [
              "IPY_MODEL_9ef3407aa64c45639d3fa164333b8950",
              "IPY_MODEL_d2856fba434a43859d7f7bb3cfe62f36"
            ]
          }
        },
        "afcbd5d15001460da2b1ef42f4d345a8": {
          "model_module": "@jupyter-widgets/base",
          "model_name": "LayoutModel",
          "model_module_version": "1.2.0",
          "state": {
            "_view_name": "LayoutView",
            "grid_template_rows": null,
            "right": null,
            "justify_content": null,
            "_view_module": "@jupyter-widgets/base",
            "overflow": null,
            "_model_module_version": "1.2.0",
            "_view_count": null,
            "flex_flow": null,
            "width": null,
            "min_width": null,
            "border": null,
            "align_items": null,
            "bottom": null,
            "_model_module": "@jupyter-widgets/base",
            "top": null,
            "grid_column": null,
            "overflow_y": null,
            "overflow_x": null,
            "grid_auto_flow": null,
            "grid_area": null,
            "grid_template_columns": null,
            "flex": null,
            "_model_name": "LayoutModel",
            "justify_items": null,
            "grid_row": null,
            "max_height": null,
            "align_content": null,
            "visibility": null,
            "align_self": null,
            "height": null,
            "min_height": null,
            "padding": null,
            "grid_auto_rows": null,
            "grid_gap": null,
            "max_width": null,
            "order": null,
            "_view_module_version": "1.2.0",
            "grid_template_areas": null,
            "object_position": null,
            "object_fit": null,
            "grid_auto_columns": null,
            "margin": null,
            "display": null,
            "left": null
          }
        },
        "9ef3407aa64c45639d3fa164333b8950": {
          "model_module": "@jupyter-widgets/controls",
          "model_name": "LabelModel",
          "model_module_version": "1.5.0",
          "state": {
            "_view_name": "LabelView",
            "style": "IPY_MODEL_6052deca040444ce9f2dd4e0de9be7e4",
            "_dom_classes": [],
            "description": "",
            "_model_name": "LabelModel",
            "placeholder": "​",
            "_view_module": "@jupyter-widgets/controls",
            "_model_module_version": "1.5.0",
            "value": " 19.19MB of 19.19MB uploaded (0.00MB deduped)\r",
            "_view_count": null,
            "_view_module_version": "1.5.0",
            "description_tooltip": null,
            "_model_module": "@jupyter-widgets/controls",
            "layout": "IPY_MODEL_1abc8fdf1c9144b8b8a03c6a1c02b9b7"
          }
        },
        "d2856fba434a43859d7f7bb3cfe62f36": {
          "model_module": "@jupyter-widgets/controls",
          "model_name": "FloatProgressModel",
          "model_module_version": "1.5.0",
          "state": {
            "_view_name": "ProgressView",
            "style": "IPY_MODEL_4ee73a528c054189bf88809c5e50ea6b",
            "_dom_classes": [],
            "description": "",
            "_model_name": "FloatProgressModel",
            "bar_style": "",
            "max": 1,
            "_view_module": "@jupyter-widgets/controls",
            "_model_module_version": "1.5.0",
            "value": 1,
            "_view_count": null,
            "_view_module_version": "1.5.0",
            "orientation": "horizontal",
            "min": 0,
            "description_tooltip": null,
            "_model_module": "@jupyter-widgets/controls",
            "layout": "IPY_MODEL_66b6db714e174289a9b55c54673db438"
          }
        },
        "6052deca040444ce9f2dd4e0de9be7e4": {
          "model_module": "@jupyter-widgets/controls",
          "model_name": "DescriptionStyleModel",
          "model_module_version": "1.5.0",
          "state": {
            "_view_name": "StyleView",
            "_model_name": "DescriptionStyleModel",
            "description_width": "",
            "_view_module": "@jupyter-widgets/base",
            "_model_module_version": "1.5.0",
            "_view_count": null,
            "_view_module_version": "1.2.0",
            "_model_module": "@jupyter-widgets/controls"
          }
        },
        "1abc8fdf1c9144b8b8a03c6a1c02b9b7": {
          "model_module": "@jupyter-widgets/base",
          "model_name": "LayoutModel",
          "model_module_version": "1.2.0",
          "state": {
            "_view_name": "LayoutView",
            "grid_template_rows": null,
            "right": null,
            "justify_content": null,
            "_view_module": "@jupyter-widgets/base",
            "overflow": null,
            "_model_module_version": "1.2.0",
            "_view_count": null,
            "flex_flow": null,
            "width": null,
            "min_width": null,
            "border": null,
            "align_items": null,
            "bottom": null,
            "_model_module": "@jupyter-widgets/base",
            "top": null,
            "grid_column": null,
            "overflow_y": null,
            "overflow_x": null,
            "grid_auto_flow": null,
            "grid_area": null,
            "grid_template_columns": null,
            "flex": null,
            "_model_name": "LayoutModel",
            "justify_items": null,
            "grid_row": null,
            "max_height": null,
            "align_content": null,
            "visibility": null,
            "align_self": null,
            "height": null,
            "min_height": null,
            "padding": null,
            "grid_auto_rows": null,
            "grid_gap": null,
            "max_width": null,
            "order": null,
            "_view_module_version": "1.2.0",
            "grid_template_areas": null,
            "object_position": null,
            "object_fit": null,
            "grid_auto_columns": null,
            "margin": null,
            "display": null,
            "left": null
          }
        },
        "4ee73a528c054189bf88809c5e50ea6b": {
          "model_module": "@jupyter-widgets/controls",
          "model_name": "ProgressStyleModel",
          "model_module_version": "1.5.0",
          "state": {
            "_view_name": "StyleView",
            "_model_name": "ProgressStyleModel",
            "description_width": "",
            "_view_module": "@jupyter-widgets/base",
            "_model_module_version": "1.5.0",
            "_view_count": null,
            "_view_module_version": "1.2.0",
            "bar_color": null,
            "_model_module": "@jupyter-widgets/controls"
          }
        },
        "66b6db714e174289a9b55c54673db438": {
          "model_module": "@jupyter-widgets/base",
          "model_name": "LayoutModel",
          "model_module_version": "1.2.0",
          "state": {
            "_view_name": "LayoutView",
            "grid_template_rows": null,
            "right": null,
            "justify_content": null,
            "_view_module": "@jupyter-widgets/base",
            "overflow": null,
            "_model_module_version": "1.2.0",
            "_view_count": null,
            "flex_flow": null,
            "width": null,
            "min_width": null,
            "border": null,
            "align_items": null,
            "bottom": null,
            "_model_module": "@jupyter-widgets/base",
            "top": null,
            "grid_column": null,
            "overflow_y": null,
            "overflow_x": null,
            "grid_auto_flow": null,
            "grid_area": null,
            "grid_template_columns": null,
            "flex": null,
            "_model_name": "LayoutModel",
            "justify_items": null,
            "grid_row": null,
            "max_height": null,
            "align_content": null,
            "visibility": null,
            "align_self": null,
            "height": null,
            "min_height": null,
            "padding": null,
            "grid_auto_rows": null,
            "grid_gap": null,
            "max_width": null,
            "order": null,
            "_view_module_version": "1.2.0",
            "grid_template_areas": null,
            "object_position": null,
            "object_fit": null,
            "grid_auto_columns": null,
            "margin": null,
            "display": null,
            "left": null
          }
        }
      }
    }
  },
  "cells": [
    {
      "cell_type": "markdown",
      "metadata": {
        "id": "view-in-github",
        "colab_type": "text"
      },
      "source": [
        "<a href=\"https://colab.research.google.com/github/11doris/jazz-maestro/blob/colab_word_embeddings/recommender_score.ipynb\" target=\"_parent\"><img src=\"https://colab.research.google.com/assets/colab-badge.svg\" alt=\"Open In Colab\"/></a>"
      ]
    },
    {
      "cell_type": "markdown",
      "metadata": {
        "id": "YGhakKpa8Dtf"
      },
      "source": [
        "# Sections as Input"
      ]
    },
    {
      "cell_type": "code",
      "metadata": {
        "colab": {
          "base_uri": "https://localhost:8080/"
        },
        "id": "dm5QehpXxo31",
        "outputId": "81c1e9d0-0599-46d0-c033-6a4ac8662669"
      },
      "source": [
        "pip install wandb"
      ],
      "execution_count": 1,
      "outputs": [
        {
          "output_type": "stream",
          "name": "stdout",
          "text": [
            "Requirement already satisfied: wandb in /usr/local/lib/python3.7/dist-packages (0.12.7)\n",
            "Requirement already satisfied: shortuuid>=0.5.0 in /usr/local/lib/python3.7/dist-packages (from wandb) (1.0.8)\n",
            "Requirement already satisfied: pathtools in /usr/local/lib/python3.7/dist-packages (from wandb) (0.1.2)\n",
            "Requirement already satisfied: GitPython>=1.0.0 in /usr/local/lib/python3.7/dist-packages (from wandb) (3.1.24)\n",
            "Requirement already satisfied: python-dateutil>=2.6.1 in /usr/local/lib/python3.7/dist-packages (from wandb) (2.8.2)\n",
            "Requirement already satisfied: subprocess32>=3.5.3 in /usr/local/lib/python3.7/dist-packages (from wandb) (3.5.4)\n",
            "Requirement already satisfied: requests<3,>=2.0.0 in /usr/local/lib/python3.7/dist-packages (from wandb) (2.23.0)\n",
            "Requirement already satisfied: Click!=8.0.0,>=7.0 in /usr/local/lib/python3.7/dist-packages (from wandb) (7.1.2)\n",
            "Requirement already satisfied: docker-pycreds>=0.4.0 in /usr/local/lib/python3.7/dist-packages (from wandb) (0.4.0)\n",
            "Requirement already satisfied: PyYAML in /usr/local/lib/python3.7/dist-packages (from wandb) (3.13)\n",
            "Requirement already satisfied: promise<3,>=2.0 in /usr/local/lib/python3.7/dist-packages (from wandb) (2.3)\n",
            "Requirement already satisfied: six>=1.13.0 in /usr/local/lib/python3.7/dist-packages (from wandb) (1.15.0)\n",
            "Requirement already satisfied: yaspin>=1.0.0 in /usr/local/lib/python3.7/dist-packages (from wandb) (2.1.0)\n",
            "Requirement already satisfied: sentry-sdk>=1.0.0 in /usr/local/lib/python3.7/dist-packages (from wandb) (1.5.0)\n",
            "Requirement already satisfied: protobuf>=3.12.0 in /usr/local/lib/python3.7/dist-packages (from wandb) (3.17.3)\n",
            "Requirement already satisfied: configparser>=3.8.1 in /usr/local/lib/python3.7/dist-packages (from wandb) (5.1.0)\n",
            "Requirement already satisfied: psutil>=5.0.0 in /usr/local/lib/python3.7/dist-packages (from wandb) (5.4.8)\n",
            "Requirement already satisfied: gitdb<5,>=4.0.1 in /usr/local/lib/python3.7/dist-packages (from GitPython>=1.0.0->wandb) (4.0.9)\n",
            "Requirement already satisfied: typing-extensions>=3.7.4.3 in /usr/local/lib/python3.7/dist-packages (from GitPython>=1.0.0->wandb) (3.10.0.2)\n",
            "Requirement already satisfied: smmap<6,>=3.0.1 in /usr/local/lib/python3.7/dist-packages (from gitdb<5,>=4.0.1->GitPython>=1.0.0->wandb) (5.0.0)\n",
            "Requirement already satisfied: idna<3,>=2.5 in /usr/local/lib/python3.7/dist-packages (from requests<3,>=2.0.0->wandb) (2.10)\n",
            "Requirement already satisfied: certifi>=2017.4.17 in /usr/local/lib/python3.7/dist-packages (from requests<3,>=2.0.0->wandb) (2021.10.8)\n",
            "Requirement already satisfied: urllib3!=1.25.0,!=1.25.1,<1.26,>=1.21.1 in /usr/local/lib/python3.7/dist-packages (from requests<3,>=2.0.0->wandb) (1.24.3)\n",
            "Requirement already satisfied: chardet<4,>=3.0.2 in /usr/local/lib/python3.7/dist-packages (from requests<3,>=2.0.0->wandb) (3.0.4)\n",
            "Requirement already satisfied: termcolor<2.0.0,>=1.1.0 in /usr/local/lib/python3.7/dist-packages (from yaspin>=1.0.0->wandb) (1.1.0)\n"
          ]
        }
      ]
    },
    {
      "cell_type": "code",
      "metadata": {
        "colab": {
          "base_uri": "https://localhost:8080/"
        },
        "id": "HZG8BDT-xrv3",
        "outputId": "71e5a68d-9d95-48c2-b0a0-462cb1b89aa3"
      },
      "source": [
        "!wandb login"
      ],
      "execution_count": 2,
      "outputs": [
        {
          "output_type": "stream",
          "name": "stdout",
          "text": [
            "\u001b[34m\u001b[1mwandb\u001b[0m: Currently logged in as: \u001b[33mdoris\u001b[0m (use `wandb login --relogin` to force relogin)\n"
          ]
        }
      ]
    },
    {
      "cell_type": "code",
      "metadata": {
        "id": "WHZBzAXjxz1J"
      },
      "source": [
        "import wandb"
      ],
      "execution_count": 3,
      "outputs": []
    },
    {
      "cell_type": "code",
      "metadata": {
        "colab": {
          "base_uri": "https://localhost:8080/"
        },
        "id": "MUy1ta4_782n",
        "outputId": "f41a41c3-3800-46d4-ed60-756e2298b2ba"
      },
      "source": [
        "!pip uninstall gensim -y"
      ],
      "execution_count": 4,
      "outputs": [
        {
          "output_type": "stream",
          "name": "stdout",
          "text": [
            "Found existing installation: gensim 4.1.2\n",
            "Uninstalling gensim-4.1.2:\n",
            "  Successfully uninstalled gensim-4.1.2\n"
          ]
        }
      ]
    },
    {
      "cell_type": "code",
      "metadata": {
        "colab": {
          "base_uri": "https://localhost:8080/"
        },
        "id": "oAroxmvO8GQj",
        "outputId": "e1653267-c36f-4487-993e-a22e0dc87790"
      },
      "source": [
        "!pip install gensim"
      ],
      "execution_count": 5,
      "outputs": [
        {
          "output_type": "stream",
          "name": "stdout",
          "text": [
            "Collecting gensim\n",
            "  Using cached gensim-4.1.2-cp37-cp37m-manylinux_2_12_x86_64.manylinux2010_x86_64.whl (24.1 MB)\n",
            "Requirement already satisfied: smart-open>=1.8.1 in /usr/local/lib/python3.7/dist-packages (from gensim) (5.2.1)\n",
            "Requirement already satisfied: numpy>=1.17.0 in /usr/local/lib/python3.7/dist-packages (from gensim) (1.19.5)\n",
            "Requirement already satisfied: scipy>=0.18.1 in /usr/local/lib/python3.7/dist-packages (from gensim) (1.4.1)\n",
            "Installing collected packages: gensim\n",
            "Successfully installed gensim-4.1.2\n"
          ]
        }
      ]
    },
    {
      "cell_type": "code",
      "metadata": {
        "id": "6SZ0zrKX8H-D"
      },
      "source": [
        "import gensim\n",
        "from sklearn.manifold import TSNE\n",
        "import matplotlib.pyplot as plt\n",
        "import pprint\n",
        "import pandas as pd\n",
        "import numpy as np\n",
        "from collections import Counter\n",
        "import plotly.express as px\n",
        "from tqdm import tqdm \n",
        "from gensim.models.doc2vec import Doc2Vec\n",
        "from gensim.models.tfidfmodel import TfidfModel\n",
        "from gensim.models.lsimodel import LsiModel\n",
        "from gensim.models import CoherenceModel\n",
        "from gensim import corpora\n",
        "from gensim import similarities\n",
        "import pickle\n",
        "import os"
      ],
      "execution_count": 6,
      "outputs": []
    },
    {
      "cell_type": "code",
      "metadata": {
        "id": "znWar-PK8KHT"
      },
      "source": [
        "import logging\n",
        "logging.basicConfig(format='%(asctime)s : %(levelname)s : %(message)s', level=logging.INFO)"
      ],
      "execution_count": 7,
      "outputs": []
    },
    {
      "cell_type": "code",
      "metadata": {
        "colab": {
          "base_uri": "https://localhost:8080/"
        },
        "id": "kjCf_Abf8MCc",
        "outputId": "6a2eccf0-0c0b-4313-f6e5-8b43a3ec6e14"
      },
      "source": [
        "print(gensim.__version__)"
      ],
      "execution_count": 8,
      "outputs": [
        {
          "output_type": "stream",
          "name": "stdout",
          "text": [
            "4.1.2\n"
          ]
        }
      ]
    },
    {
      "cell_type": "code",
      "metadata": {
        "id": "_aEonlx-CT6r"
      },
      "source": [
        "!rm data.csv"
      ],
      "execution_count": 9,
      "outputs": []
    },
    {
      "cell_type": "markdown",
      "metadata": {
        "id": "Nk5pPZqk0Pn7"
      },
      "source": [
        "# Configuration\n"
      ]
    },
    {
      "cell_type": "code",
      "metadata": {
        "id": "GfQbJQmexlxI"
      },
      "source": [
        "chords_repeated = 'rep' \n",
        "chords_preprocessing = 'rootAndDegreesSimplified'"
      ],
      "execution_count": 10,
      "outputs": []
    },
    {
      "cell_type": "code",
      "metadata": {
        "id": "buoyWNl0F48Y"
      },
      "source": [
        "ngrams_for_input = [2]"
      ],
      "execution_count": 11,
      "outputs": []
    },
    {
      "cell_type": "code",
      "metadata": {
        "id": "K7qB2_sBvKpB"
      },
      "source": [
        "input_files = {\n",
        "    'sections': {\n",
        "        'rep': {\n",
        "            # M7 and 6 reduced to major triad, m7 reduced to m, dominant 7, m7b5, diminished, and all (b5) left as they are.\n",
        "            'rootAndDegreesPlus': '17djlZRWFSUCviOxRTOF-nwbbZqU5gUP9',\n",
        "            'rootAndDegrees7': '1lQTBMYk7Ui_mbOopUTjOs4MV_4c1a8bO',\n",
        "            'rootAndDegreesSimplified': '1lVm6r0T3i1hbyZqPJXNKf90uh14MOKkb'\n",
        "        },\n",
        "    },\n",
        "    'tunes': {\n",
        "        'rep': {\n",
        "            'rootAndDegreesPlus': '',\n",
        "            'rootAndDegrees7': '',\n",
        "            'rootAndDegreesSimplified': '',\n",
        "        },\n",
        "        'norep': {\n",
        "            'rootAndDegreesPlus': '',\n",
        "            'rootAndDegrees7': '',\n",
        "            'rootAndDegreesSimplified': '',\n",
        "        }\n",
        "    }\n",
        "}"
      ],
      "execution_count": 12,
      "outputs": []
    },
    {
      "cell_type": "code",
      "metadata": {
        "colab": {
          "base_uri": "https://localhost:8080/"
        },
        "id": "lM6eaQwnyWD3",
        "outputId": "6ddeb29d-e688-4099-ff79-a7ca0ce7ce48"
      },
      "source": [
        "tunes_eval_list = [\n",
        "  \"Sweet Sue, Just You\",\n",
        "  \"These Foolish Things\", \n",
        "  \"Blue Moon\",\n",
        "  \"All Of Me\",\n",
        "  \"All God's Chillun Got Rhythm\",\n",
        "  \"I Got Rhythm\",\n",
        "  \"Bye Bye Blackbird\",\n",
        "  \"Old Fashioned Love\",\n",
        "  \"Dinah\",\n",
        "  \"Honeysuckle Rose\",\n",
        "  \"Misty\",\n",
        "  \"We'll Be Together Again\",\n",
        "  \"East Of The Sun\",\n",
        "  \"Sophisticated Lady\",\n",
        "  \"Perdido\",\n",
        "  \"Naima\",\n",
        "  \"Call Me Irresponsible\",\n",
        "  \"Corcovado\",\n",
        "  \"Footprints\",\n",
        "  \"Giant Steps\",\n",
        "  \"But Beautiful\",\n",
        "  \"Rockin' Chair\",\n",
        "  \"Blood Count\",\n",
        "  \"After You've Gone\",\n",
        "]\n",
        "\n",
        "tunes_eval_list = sorted(tunes_eval_list)\n",
        "tunes_eval_list"
      ],
      "execution_count": 13,
      "outputs": [
        {
          "output_type": "execute_result",
          "data": {
            "text/plain": [
              "[\"After You've Gone\",\n",
              " \"All God's Chillun Got Rhythm\",\n",
              " 'All Of Me',\n",
              " 'Blood Count',\n",
              " 'Blue Moon',\n",
              " 'But Beautiful',\n",
              " 'Bye Bye Blackbird',\n",
              " 'Call Me Irresponsible',\n",
              " 'Corcovado',\n",
              " 'Dinah',\n",
              " 'East Of The Sun',\n",
              " 'Footprints',\n",
              " 'Giant Steps',\n",
              " 'Honeysuckle Rose',\n",
              " 'I Got Rhythm',\n",
              " 'Misty',\n",
              " 'Naima',\n",
              " 'Old Fashioned Love',\n",
              " 'Perdido',\n",
              " \"Rockin' Chair\",\n",
              " 'Sophisticated Lady',\n",
              " 'Sweet Sue, Just You',\n",
              " 'These Foolish Things',\n",
              " \"We'll Be Together Again\"]"
            ]
          },
          "metadata": {},
          "execution_count": 13
        }
      ]
    },
    {
      "cell_type": "code",
      "metadata": {
        "id": "uiI0h4ef0PCD"
      },
      "source": [
        ""
      ],
      "execution_count": 13,
      "outputs": []
    },
    {
      "cell_type": "markdown",
      "metadata": {
        "id": "gcexO7zK8Pn6"
      },
      "source": [
        "# Initialization\n",
        "\n",
        "## Download the Data"
      ]
    },
    {
      "cell_type": "code",
      "metadata": {
        "id": "JwVJo3Vat8iF"
      },
      "source": [
        "input_data = input_files['sections'][chords_repeated][chords_preprocessing]\n",
        "\n",
        "input_path = f\"https://docs.google.com/uc?export=download&id={input_data}\"\n",
        "data_file_name = 'data.csv'\n"
      ],
      "execution_count": 14,
      "outputs": []
    },
    {
      "cell_type": "code",
      "metadata": {
        "colab": {
          "base_uri": "https://localhost:8080/",
          "height": 36
        },
        "id": "_Dp-fijjB-pU",
        "outputId": "b7b1565c-530b-4efe-adff-7c9c1d9daccb"
      },
      "source": [
        "input_path"
      ],
      "execution_count": 15,
      "outputs": [
        {
          "output_type": "execute_result",
          "data": {
            "application/vnd.google.colaboratory.intrinsic+json": {
              "type": "string"
            },
            "text/plain": [
              "'https://docs.google.com/uc?export=download&id=1lVm6r0T3i1hbyZqPJXNKf90uh14MOKkb'"
            ]
          },
          "metadata": {},
          "execution_count": 15
        }
      ]
    },
    {
      "cell_type": "code",
      "metadata": {
        "colab": {
          "base_uri": "https://localhost:8080/"
        },
        "id": "1ZVAYUH5t9Li",
        "outputId": "89623816-817d-4d52-a0eb-87f350a2abb7"
      },
      "source": [
        "!wget --no-check-certificate \"$input_path\" -O \"$data_file_name\""
      ],
      "execution_count": 16,
      "outputs": [
        {
          "output_type": "stream",
          "name": "stdout",
          "text": [
            "--2021-11-22 20:41:06--  https://docs.google.com/uc?export=download&id=1lVm6r0T3i1hbyZqPJXNKf90uh14MOKkb\n",
            "Resolving docs.google.com (docs.google.com)... 142.250.136.113, 142.250.136.102, 142.250.136.100, ...\n",
            "Connecting to docs.google.com (docs.google.com)|142.250.136.113|:443... connected.\n",
            "HTTP request sent, awaiting response... 302 Moved Temporarily\n",
            "Location: https://doc-0c-4c-docs.googleusercontent.com/docs/securesc/ha0ro937gcuc7l7deffksulhg5h7mbp1/3em2h3hv4jm7jjro9ehuscn0e62ogpkk/1637613600000/14329102864480165501/*/1lVm6r0T3i1hbyZqPJXNKf90uh14MOKkb?e=download [following]\n",
            "Warning: wildcards not supported in HTTP.\n",
            "--2021-11-22 20:41:06--  https://doc-0c-4c-docs.googleusercontent.com/docs/securesc/ha0ro937gcuc7l7deffksulhg5h7mbp1/3em2h3hv4jm7jjro9ehuscn0e62ogpkk/1637613600000/14329102864480165501/*/1lVm6r0T3i1hbyZqPJXNKf90uh14MOKkb?e=download\n",
            "Resolving doc-0c-4c-docs.googleusercontent.com (doc-0c-4c-docs.googleusercontent.com)... 173.194.197.132, 2607:f8b0:4001:c1b::84\n",
            "Connecting to doc-0c-4c-docs.googleusercontent.com (doc-0c-4c-docs.googleusercontent.com)|173.194.197.132|:443... connected.\n",
            "HTTP request sent, awaiting response... 200 OK\n",
            "Length: 705775 (689K) [text/csv]\n",
            "Saving to: ‘data.csv’\n",
            "\n",
            "data.csv            100%[===================>] 689.23K  --.-KB/s    in 0.006s  \n",
            "\n",
            "2021-11-22 20:41:06 (109 MB/s) - ‘data.csv’ saved [705775/705775]\n",
            "\n"
          ]
        }
      ]
    },
    {
      "cell_type": "markdown",
      "metadata": {
        "id": "Ljs21B7h8YvC"
      },
      "source": [
        "### Read Chords Input Data"
      ]
    },
    {
      "cell_type": "code",
      "metadata": {
        "colab": {
          "base_uri": "https://localhost:8080/",
          "height": 293
        },
        "id": "B7kK418L8aac",
        "outputId": "acc8f3db-8b6e-49e7-9784-ec034c7bc8ba"
      },
      "source": [
        "df = pd.read_csv(data_file_name, sep='\\t', index_col=\"id\")\n",
        "df = df.reset_index()\n",
        "df.head(5)"
      ],
      "execution_count": 17,
      "outputs": [
        {
          "output_type": "execute_result",
          "data": {
            "text/html": [
              "<div>\n",
              "<style scoped>\n",
              "    .dataframe tbody tr th:only-of-type {\n",
              "        vertical-align: middle;\n",
              "    }\n",
              "\n",
              "    .dataframe tbody tr th {\n",
              "        vertical-align: top;\n",
              "    }\n",
              "\n",
              "    .dataframe thead th {\n",
              "        text-align: right;\n",
              "    }\n",
              "</style>\n",
              "<table border=\"1\" class=\"dataframe\">\n",
              "  <thead>\n",
              "    <tr style=\"text-align: right;\">\n",
              "      <th></th>\n",
              "      <th>id</th>\n",
              "      <th>file_name</th>\n",
              "      <th>title</th>\n",
              "      <th>tune_mode</th>\n",
              "      <th>tune_id</th>\n",
              "      <th>section_name</th>\n",
              "      <th>section_id</th>\n",
              "      <th>chords</th>\n",
              "    </tr>\n",
              "  </thead>\n",
              "  <tbody>\n",
              "    <tr>\n",
              "      <th>0</th>\n",
              "      <td>0</td>\n",
              "      <td>dataset/jazz1350/26-2.xml</td>\n",
              "      <td>26-2</td>\n",
              "      <td>major</td>\n",
              "      <td>0</td>\n",
              "      <td>A</td>\n",
              "      <td>1</td>\n",
              "      <td>CM7 Eb7 G#M7 B7 EM7 G7 Gm7 C7 FM7 G#7 C#M7 E7 ...</td>\n",
              "    </tr>\n",
              "    <tr>\n",
              "      <th>1</th>\n",
              "      <td>1</td>\n",
              "      <td>dataset/jazz1350/26-2.xml</td>\n",
              "      <td>26-2</td>\n",
              "      <td>major</td>\n",
              "      <td>0</td>\n",
              "      <td>A</td>\n",
              "      <td>2</td>\n",
              "      <td>CM7 Eb7 G#M7 B7 EM7 G7 Gm7 C7 FM7 Eb7 G#M7 B7 ...</td>\n",
              "    </tr>\n",
              "    <tr>\n",
              "      <th>2</th>\n",
              "      <td>2</td>\n",
              "      <td>dataset/jazz1350/26-2.xml</td>\n",
              "      <td>26-2</td>\n",
              "      <td>major</td>\n",
              "      <td>0</td>\n",
              "      <td>B</td>\n",
              "      <td>3</td>\n",
              "      <td>Gm7 C7 Bm7 E7 AM7 C7 FM7 Bbm7 Eb7 G#M7 Dm7 G7</td>\n",
              "    </tr>\n",
              "    <tr>\n",
              "      <th>3</th>\n",
              "      <td>3</td>\n",
              "      <td>dataset/jazz1350/26-2.xml</td>\n",
              "      <td>26-2</td>\n",
              "      <td>major</td>\n",
              "      <td>0</td>\n",
              "      <td>A</td>\n",
              "      <td>4</td>\n",
              "      <td>CM7 Eb7 G#M7 B7 EM7 G7 Gm7 C7 FM7 Eb7 G#M7 B7 ...</td>\n",
              "    </tr>\n",
              "    <tr>\n",
              "      <th>4</th>\n",
              "      <td>4</td>\n",
              "      <td>dataset/jazz1350/500 Miles High.xml</td>\n",
              "      <td>500 Miles High</td>\n",
              "      <td>minor</td>\n",
              "      <td>1</td>\n",
              "      <td>NaN</td>\n",
              "      <td>0</td>\n",
              "      <td>Am7 Am7 Cm7 Cm7 EbM7 EbM7 Em7b5 A7 Dm7 Dm7 Bm7...</td>\n",
              "    </tr>\n",
              "  </tbody>\n",
              "</table>\n",
              "</div>"
            ],
            "text/plain": [
              "   id  ...                                             chords\n",
              "0   0  ...  CM7 Eb7 G#M7 B7 EM7 G7 Gm7 C7 FM7 G#7 C#M7 E7 ...\n",
              "1   1  ...  CM7 Eb7 G#M7 B7 EM7 G7 Gm7 C7 FM7 Eb7 G#M7 B7 ...\n",
              "2   2  ...      Gm7 C7 Bm7 E7 AM7 C7 FM7 Bbm7 Eb7 G#M7 Dm7 G7\n",
              "3   3  ...  CM7 Eb7 G#M7 B7 EM7 G7 Gm7 C7 FM7 Eb7 G#M7 B7 ...\n",
              "4   4  ...  Am7 Am7 Cm7 Cm7 EbM7 EbM7 Em7b5 A7 Dm7 Dm7 Bm7...\n",
              "\n",
              "[5 rows x 8 columns]"
            ]
          },
          "metadata": {},
          "execution_count": 17
        }
      ]
    },
    {
      "cell_type": "markdown",
      "metadata": {
        "id": "OsPcEFbg8gu6"
      },
      "source": [
        "### Meta Data"
      ]
    },
    {
      "cell_type": "code",
      "metadata": {
        "colab": {
          "base_uri": "https://localhost:8080/",
          "height": 206
        },
        "id": "_62YlEVJXOCL",
        "outputId": "78530068-b9fd-4e29-a97a-5db817143c5a"
      },
      "source": [
        "titles = df.loc[:, ['id', 'tune_id', 'section_id', 'section_name', 'title', 'tune_mode']]\n",
        "titles[:5]"
      ],
      "execution_count": 18,
      "outputs": [
        {
          "output_type": "execute_result",
          "data": {
            "text/html": [
              "<div>\n",
              "<style scoped>\n",
              "    .dataframe tbody tr th:only-of-type {\n",
              "        vertical-align: middle;\n",
              "    }\n",
              "\n",
              "    .dataframe tbody tr th {\n",
              "        vertical-align: top;\n",
              "    }\n",
              "\n",
              "    .dataframe thead th {\n",
              "        text-align: right;\n",
              "    }\n",
              "</style>\n",
              "<table border=\"1\" class=\"dataframe\">\n",
              "  <thead>\n",
              "    <tr style=\"text-align: right;\">\n",
              "      <th></th>\n",
              "      <th>id</th>\n",
              "      <th>tune_id</th>\n",
              "      <th>section_id</th>\n",
              "      <th>section_name</th>\n",
              "      <th>title</th>\n",
              "      <th>tune_mode</th>\n",
              "    </tr>\n",
              "  </thead>\n",
              "  <tbody>\n",
              "    <tr>\n",
              "      <th>0</th>\n",
              "      <td>0</td>\n",
              "      <td>0</td>\n",
              "      <td>1</td>\n",
              "      <td>A</td>\n",
              "      <td>26-2</td>\n",
              "      <td>major</td>\n",
              "    </tr>\n",
              "    <tr>\n",
              "      <th>1</th>\n",
              "      <td>1</td>\n",
              "      <td>0</td>\n",
              "      <td>2</td>\n",
              "      <td>A</td>\n",
              "      <td>26-2</td>\n",
              "      <td>major</td>\n",
              "    </tr>\n",
              "    <tr>\n",
              "      <th>2</th>\n",
              "      <td>2</td>\n",
              "      <td>0</td>\n",
              "      <td>3</td>\n",
              "      <td>B</td>\n",
              "      <td>26-2</td>\n",
              "      <td>major</td>\n",
              "    </tr>\n",
              "    <tr>\n",
              "      <th>3</th>\n",
              "      <td>3</td>\n",
              "      <td>0</td>\n",
              "      <td>4</td>\n",
              "      <td>A</td>\n",
              "      <td>26-2</td>\n",
              "      <td>major</td>\n",
              "    </tr>\n",
              "    <tr>\n",
              "      <th>4</th>\n",
              "      <td>4</td>\n",
              "      <td>1</td>\n",
              "      <td>0</td>\n",
              "      <td>NaN</td>\n",
              "      <td>500 Miles High</td>\n",
              "      <td>minor</td>\n",
              "    </tr>\n",
              "  </tbody>\n",
              "</table>\n",
              "</div>"
            ],
            "text/plain": [
              "   id  tune_id  section_id section_name           title tune_mode\n",
              "0   0        0           1            A            26-2     major\n",
              "1   1        0           2            A            26-2     major\n",
              "2   2        0           3            B            26-2     major\n",
              "3   3        0           4            A            26-2     major\n",
              "4   4        1           0          NaN  500 Miles High     minor"
            ]
          },
          "metadata": {},
          "execution_count": 18
        }
      ]
    },
    {
      "cell_type": "code",
      "metadata": {
        "id": "0vEOjvwt8jUu"
      },
      "source": [
        "titles_dict = titles.to_dict()\n",
        "\n",
        "sectionid_to_title = titles_dict['title']\n",
        "sectionid_to_titleid = titles_dict['tune_id']\n"
      ],
      "execution_count": 19,
      "outputs": []
    },
    {
      "cell_type": "code",
      "metadata": {
        "id": "Om7pbfnNGO_I"
      },
      "source": [
        "tunes = df.loc[:, ['tune_id', 'title']].drop_duplicates()\n",
        "tunes = tunes.set_index('tune_id').to_dict()\n",
        "titleid_to_title = tunes['title']"
      ],
      "execution_count": 20,
      "outputs": []
    },
    {
      "cell_type": "code",
      "metadata": {
        "id": "1H72Y3_d8uNu"
      },
      "source": [
        "titles_rows = titles.to_dict(orient='records')\n",
        "sectionid_to_section = []\n",
        "for i, row in enumerate(titles_rows):\n",
        "  name = f\"{row['title']}, section{row['section_id']} ({row['section_name']})\"\n",
        "  sectionid_to_section.append(name)\n",
        "  "
      ],
      "execution_count": 21,
      "outputs": []
    },
    {
      "cell_type": "code",
      "metadata": {
        "id": "HCeGUk818y8V"
      },
      "source": [
        "title_to_sectionid = {}\n",
        "\n",
        "for row in titles.iterrows():\n",
        "  title = row[1]['title']\n",
        "  if title not in title_to_sectionid:\n",
        "    title_to_sectionid[title] = [row[1]['id']]\n",
        "  else:\n",
        "    title_to_sectionid[title].append(row[1]['id'])"
      ],
      "execution_count": 22,
      "outputs": []
    },
    {
      "cell_type": "markdown",
      "metadata": {
        "id": "LvQ60s_owm82"
      },
      "source": [
        "## Initialization for wandb variables"
      ]
    },
    {
      "cell_type": "code",
      "metadata": {
        "id": "fw7FHHXfwagL"
      },
      "source": [
        "recommender_results_cols = ['reference', 'id', 'method', 'similar', 'score_div_max', 'score']\n",
        "recommender_results = pd.DataFrame(columns=recommender_results_cols)"
      ],
      "execution_count": 23,
      "outputs": []
    },
    {
      "cell_type": "code",
      "metadata": {
        "id": "PfvF20G1JZMa"
      },
      "source": [
        "lsi_config = {\n",
        "    'num_topics': 200,\n",
        "}"
      ],
      "execution_count": 24,
      "outputs": []
    },
    {
      "cell_type": "code",
      "metadata": {
        "id": "eW2f6BdAJl01"
      },
      "source": [
        "doc2vec_config = {\n",
        "    'general': {\n",
        "        'chords_preprocessing': chords_preprocessing,\n",
        "        'chords_repeated': chords_repeated,\n",
        "        'document_tags': 'SectionsTunes',\n",
        "    },\n",
        "    'model': {\n",
        "        'dm': 1,\n",
        "        'vector_size': 100,\n",
        "        'window': 4,\n",
        "        'epochs': 40,\n",
        "        #'workers': 1,\n",
        "        'min_count': 1,\n",
        "        'negative': 10,\n",
        "        'sample': 0.001,\n",
        "        'seed': 42\n",
        "    }\n",
        "}"
      ],
      "execution_count": 25,
      "outputs": []
    },
    {
      "cell_type": "code",
      "metadata": {
        "colab": {
          "base_uri": "https://localhost:8080/",
          "height": 74
        },
        "id": "sxdJ97gdx70_",
        "outputId": "f1567e8a-e9c2-43cc-fd35-0adc5577414a"
      },
      "source": [
        "wandb.init(\n",
        "      # Set entity to specify your username or team name\n",
        "      # ex: entity=\"carey\",\n",
        "      # Set the project where this run will be logged\n",
        "      project=\"jazztunes\", \n",
        "      \n",
        "      # Track hyperparameters and run metadata\n",
        "      config={\n",
        "          \"input_data\": \"https://docs.google.com/uc?export=download&id=17djlZRWFSUCviOxRTOF-nwbbZqU5gUP9\",\n",
        "          \"ngrams_input\": ngrams_for_input,\n",
        "          \"comparison\": \"sections\",\n",
        "          \"lsi\": lsi_config,\n",
        "          \"doc2vec\": doc2vec_config\n",
        "      }\n",
        "  )"
      ],
      "execution_count": 26,
      "outputs": [
        {
          "output_type": "stream",
          "name": "stderr",
          "text": [
            "\u001b[34m\u001b[1mwandb\u001b[0m: Currently logged in as: \u001b[33mdoris\u001b[0m (use `wandb login --relogin` to force relogin)\n"
          ]
        },
        {
          "output_type": "display_data",
          "data": {
            "text/html": [
              "\n",
              "                    Syncing run <strong><a href=\"https://wandb.ai/doris/jazztunes/runs/3e1ic7cb\" target=\"_blank\">cerulean-sunset-15</a></strong> to <a href=\"https://wandb.ai/doris/jazztunes\" target=\"_blank\">Weights & Biases</a> (<a href=\"https://docs.wandb.com/integrations/jupyter.html\" target=\"_blank\">docs</a>).<br/>\n",
              "\n",
              "                "
            ],
            "text/plain": [
              "<IPython.core.display.HTML object>"
            ]
          },
          "metadata": {}
        },
        {
          "output_type": "execute_result",
          "data": {
            "text/plain": [
              "<wandb.sdk.wandb_run.Run at 0x7f295fbb8090>"
            ],
            "text/html": [
              "<button onClick=\"this.nextSibling.style.display='block';this.style.display='none';\">Display W&B run</button><iframe src=\"https://wandb.ai/doris/jazztunes/runs/3e1ic7cb?jupyter=true\" style=\"border:none;width:100%;height:420px;display:none;\"></iframe>"
            ]
          },
          "metadata": {},
          "execution_count": 26
        }
      ]
    },
    {
      "cell_type": "code",
      "metadata": {
        "colab": {
          "base_uri": "https://localhost:8080/"
        },
        "id": "xHOY4TKYVN-g",
        "outputId": "04e3c4f1-08b5-4607-b53a-a82a4babe13c"
      },
      "source": [
        "artifact = wandb.Artifact('input_data', type='dataset')\n",
        "artifact.add_file('data.csv')\n",
        "wandb.log_artifact(artifact)"
      ],
      "execution_count": 27,
      "outputs": [
        {
          "output_type": "execute_result",
          "data": {
            "text/plain": [
              "<wandb.sdk.wandb_artifacts.Artifact at 0x7f295f70d0d0>"
            ]
          },
          "metadata": {},
          "execution_count": 27
        }
      ]
    },
    {
      "cell_type": "markdown",
      "metadata": {
        "id": "wox-dMcz84Bt"
      },
      "source": [
        "## Helpers functions"
      ]
    },
    {
      "cell_type": "code",
      "metadata": {
        "id": "2964REdr80Gd"
      },
      "source": [
        "def ngrams(tokens, n=2, sep='-'):\n",
        "    return [sep.join(ngram) for ngram in zip(*[tokens[i:] for i in range(n)])]"
      ],
      "execution_count": 28,
      "outputs": []
    },
    {
      "cell_type": "code",
      "metadata": {
        "id": "W42rugQPNYVP"
      },
      "source": [
        "def raw_chords_to_df(tunes):\n",
        "  tunes_chords = [item for tune in tunes for item in tune]\n",
        "  counts = Counter(tunes_chords)\n",
        "  df = pd.DataFrame(counts.items(),\n",
        "                    columns=['chord', 'count']).sort_values(by='count', ascending=False)\n",
        "\n",
        "  return df"
      ],
      "execution_count": 29,
      "outputs": []
    },
    {
      "cell_type": "markdown",
      "metadata": {
        "id": "umfsNtAdF0jM"
      },
      "source": [
        "# Data Preparation"
      ]
    },
    {
      "cell_type": "code",
      "metadata": {
        "id": "dCLwnqoVGcMw"
      },
      "source": [
        "lines = df.loc[:, 'chords'].tolist()\n",
        "data = [line.split(' ') for line in lines]"
      ],
      "execution_count": 30,
      "outputs": []
    },
    {
      "cell_type": "code",
      "metadata": {
        "colab": {
          "base_uri": "https://localhost:8080/"
        },
        "id": "g7SmApW9F3K6",
        "outputId": "c6715e9c-6240-416f-cd2e-7aa80d430bf8"
      },
      "source": [
        "processed_corpus = []\n",
        "for line in data:\n",
        "  tune_n = []\n",
        "  for n in ngrams_for_input:\n",
        "    tune_n.extend(ngrams(line, n=n))\n",
        "  processed_corpus.append(tune_n)\n",
        "\n",
        "for line in processed_corpus[:5]:\n",
        "  print(line)"
      ],
      "execution_count": 31,
      "outputs": [
        {
          "output_type": "stream",
          "name": "stdout",
          "text": [
            "['CM7-Eb7', 'Eb7-G#M7', 'G#M7-B7', 'B7-EM7', 'EM7-G7', 'G7-Gm7', 'Gm7-C7', 'C7-FM7', 'FM7-G#7', 'G#7-C#M7', 'C#M7-E7', 'E7-Am7', 'Am7-D7', 'D7-Dm7', 'Dm7-G7']\n",
            "['CM7-Eb7', 'Eb7-G#M7', 'G#M7-B7', 'B7-EM7', 'EM7-G7', 'G7-Gm7', 'Gm7-C7', 'C7-FM7', 'FM7-Eb7', 'Eb7-G#M7', 'G#M7-B7', 'B7-EM7', 'EM7-G7', 'G7-CM7']\n",
            "['Gm7-C7', 'C7-Bm7', 'Bm7-E7', 'E7-AM7', 'AM7-C7', 'C7-FM7', 'FM7-Bbm7', 'Bbm7-Eb7', 'Eb7-G#M7', 'G#M7-Dm7', 'Dm7-G7']\n",
            "['CM7-Eb7', 'Eb7-G#M7', 'G#M7-B7', 'B7-EM7', 'EM7-G7', 'G7-Gm7', 'Gm7-C7', 'C7-FM7', 'FM7-Eb7', 'Eb7-G#M7', 'G#M7-B7', 'B7-EM7', 'EM7-G7', 'G7-CM7']\n",
            "['Am7-Am7', 'Am7-Cm7', 'Cm7-Cm7', 'Cm7-EbM7', 'EbM7-EbM7', 'EbM7-Em7b5', 'Em7b5-A7', 'A7-Dm7', 'Dm7-Dm7', 'Dm7-Bm7b5', 'Bm7b5-Bm7b5', 'Bm7b5-Bbm7', 'Bbm7-Bbm7', 'Bbm7-Fm7', 'Fm7-Fm7', 'Fm7-E7', 'E7-E7', 'E7-Fm7', 'Fm7-Fm7', 'Fm7-C#M7', 'C#M7-C#M7', 'C#M7-Fm7', 'Fm7-Fm7', 'Fm7-C#M7', 'C#M7-C#M7']\n"
          ]
        }
      ]
    },
    {
      "cell_type": "markdown",
      "metadata": {
        "id": "Sri0K2DhNagp"
      },
      "source": [
        "#### Corpus Overview"
      ]
    },
    {
      "cell_type": "code",
      "metadata": {
        "colab": {
          "base_uri": "https://localhost:8080/"
        },
        "id": "X2ZqA7IF4ufg",
        "outputId": "73ed13ef-84b6-4f3d-9745-bad9cfd6a7d2"
      },
      "source": [
        "tokens = [item for l in processed_corpus for item in l]\n",
        "total_tokens = len(tokens)\n",
        "vocab_size = len(set(tokens))\n",
        "vocab_prop = 100*vocab_size/total_tokens\n",
        "\n",
        "print(f\"Total Number of tokens: {total_tokens}\")\n",
        "print(f\"Size of vocabulary: {vocab_size}\")\n",
        "print(f\"Proportion of vocabulary in corpus: {vocab_prop:.02f}%\")"
      ],
      "execution_count": 32,
      "outputs": [
        {
          "output_type": "stream",
          "name": "stdout",
          "text": [
            "Total Number of tokens: 77231\n",
            "Size of vocabulary: 3750\n",
            "Proportion of vocabulary in corpus: 4.86%\n"
          ]
        }
      ]
    },
    {
      "cell_type": "code",
      "metadata": {
        "colab": {
          "base_uri": "https://localhost:8080/",
          "height": 424
        },
        "id": "rULq3jYVNh_x",
        "outputId": "68ad4257-fb07-45fe-a9d5-8673df41ee72"
      },
      "source": [
        "df_chords = raw_chords_to_df(processed_corpus)\n",
        "df_chords"
      ],
      "execution_count": 33,
      "outputs": [
        {
          "output_type": "execute_result",
          "data": {
            "text/html": [
              "<div>\n",
              "<style scoped>\n",
              "    .dataframe tbody tr th:only-of-type {\n",
              "        vertical-align: middle;\n",
              "    }\n",
              "\n",
              "    .dataframe tbody tr th {\n",
              "        vertical-align: top;\n",
              "    }\n",
              "\n",
              "    .dataframe thead th {\n",
              "        text-align: right;\n",
              "    }\n",
              "</style>\n",
              "<table border=\"1\" class=\"dataframe\">\n",
              "  <thead>\n",
              "    <tr style=\"text-align: right;\">\n",
              "      <th></th>\n",
              "      <th>chord</th>\n",
              "      <th>count</th>\n",
              "    </tr>\n",
              "  </thead>\n",
              "  <tbody>\n",
              "    <tr>\n",
              "      <th>14</th>\n",
              "      <td>Dm7-G7</td>\n",
              "      <td>5136</td>\n",
              "    </tr>\n",
              "    <tr>\n",
              "      <th>61</th>\n",
              "      <td>G7-C</td>\n",
              "      <td>2024</td>\n",
              "    </tr>\n",
              "    <tr>\n",
              "      <th>465</th>\n",
              "      <td>C-C</td>\n",
              "      <td>1916</td>\n",
              "    </tr>\n",
              "    <tr>\n",
              "      <th>31</th>\n",
              "      <td>A7-Dm7</td>\n",
              "      <td>1823</td>\n",
              "    </tr>\n",
              "    <tr>\n",
              "      <th>16</th>\n",
              "      <td>G7-CM7</td>\n",
              "      <td>1760</td>\n",
              "    </tr>\n",
              "    <tr>\n",
              "      <th>...</th>\n",
              "      <td>...</td>\n",
              "      <td>...</td>\n",
              "    </tr>\n",
              "    <tr>\n",
              "      <th>2500</th>\n",
              "      <td>G#M7-Cm7</td>\n",
              "      <td>1</td>\n",
              "    </tr>\n",
              "    <tr>\n",
              "      <th>2498</th>\n",
              "      <td>AM7-Ebdim7</td>\n",
              "      <td>1</td>\n",
              "    </tr>\n",
              "    <tr>\n",
              "      <th>2496</th>\n",
              "      <td>Gm7-D</td>\n",
              "      <td>1</td>\n",
              "    </tr>\n",
              "    <tr>\n",
              "      <th>2491</th>\n",
              "      <td>Edim7-G7</td>\n",
              "      <td>1</td>\n",
              "    </tr>\n",
              "    <tr>\n",
              "      <th>3749</th>\n",
              "      <td>Em7-Cdim</td>\n",
              "      <td>1</td>\n",
              "    </tr>\n",
              "  </tbody>\n",
              "</table>\n",
              "<p>3750 rows × 2 columns</p>\n",
              "</div>"
            ],
            "text/plain": [
              "           chord  count\n",
              "14        Dm7-G7   5136\n",
              "61          G7-C   2024\n",
              "465          C-C   1916\n",
              "31        A7-Dm7   1823\n",
              "16        G7-CM7   1760\n",
              "...          ...    ...\n",
              "2500    G#M7-Cm7      1\n",
              "2498  AM7-Ebdim7      1\n",
              "2496       Gm7-D      1\n",
              "2491    Edim7-G7      1\n",
              "3749    Em7-Cdim      1\n",
              "\n",
              "[3750 rows x 2 columns]"
            ]
          },
          "metadata": {},
          "execution_count": 33
        }
      ]
    },
    {
      "cell_type": "code",
      "metadata": {
        "colab": {
          "base_uri": "https://localhost:8080/",
          "height": 560
        },
        "id": "G9fknTouNmKm",
        "outputId": "4782e09d-fdc1-4267-82c2-d1af71ecec7d"
      },
      "source": [
        "df_chords = pd.DataFrame.from_dict(df_chords)\n",
        "df_chords.sort_values(by=['count'], ascending=False, inplace=True)\n",
        "df_chords_top = df_chords.query('count > 100')\n",
        "\n",
        "fig = px.bar(df_chords_top, x='chord', y='count', log_y=True)\n",
        "fig.update_layout(barmode='stack', xaxis={'categoryorder':'total descending'})\n",
        "fig.show()"
      ],
      "execution_count": 34,
      "outputs": [
        {
          "output_type": "stream",
          "name": "stderr",
          "text": [
            "2021-11-22 20:41:13,546 : INFO : NumExpr defaulting to 2 threads.\n"
          ]
        },
        {
          "output_type": "display_data",
          "data": {
            "text/html": [
              "<html>\n",
              "<head><meta charset=\"utf-8\" /></head>\n",
              "<body>\n",
              "    <div>\n",
              "            <script src=\"https://cdnjs.cloudflare.com/ajax/libs/mathjax/2.7.5/MathJax.js?config=TeX-AMS-MML_SVG\"></script><script type=\"text/javascript\">if (window.MathJax) {MathJax.Hub.Config({SVG: {font: \"STIX-Web\"}});}</script>\n",
              "                <script type=\"text/javascript\">window.PlotlyConfig = {MathJaxConfig: 'local'};</script>\n",
              "        <script src=\"https://cdn.plot.ly/plotly-latest.min.js\"></script>    \n",
              "            <div id=\"bcbfe775-a831-4f19-9571-c30ac2cd6a69\" class=\"plotly-graph-div\" style=\"height:525px; width:100%;\"></div>\n",
              "            <script type=\"text/javascript\">\n",
              "                \n",
              "                    window.PLOTLYENV=window.PLOTLYENV || {};\n",
              "                    \n",
              "                if (document.getElementById(\"bcbfe775-a831-4f19-9571-c30ac2cd6a69\")) {\n",
              "                    Plotly.newPlot(\n",
              "                        'bcbfe775-a831-4f19-9571-c30ac2cd6a69',\n",
              "                        [{\"alignmentgroup\": \"True\", \"hoverlabel\": {\"namelength\": 0}, \"hovertemplate\": \"chord=%{x}<br>count=%{y}\", \"legendgroup\": \"\", \"marker\": {\"color\": \"#636efa\"}, \"name\": \"\", \"offsetgroup\": \"\", \"orientation\": \"v\", \"showlegend\": false, \"textposition\": \"auto\", \"type\": \"bar\", \"x\": [\"Dm7-G7\", \"G7-C\", \"C-C\", \"A7-Dm7\", \"G7-CM7\", \"D7-G7\", \"G7-G7\", \"G7-C6\", \"Em7-A7\", \"A7-D7\", \"Am7-D7\", \"Gm7-C7\", \"E7-Am7\", \"CM7-CM7\", \"Bm7b5-E7\", \"Am7-Dm7\", \"D7-D7\", \"C-G7\", \"C7-FM7\", \"D7-Dm7\", \"Am7-Am7\", \"C7-C7\", \"C7-F\", \"E7-Am\", \"C6-C6\", \"Em7b5-A7\", \"G7-Dm7\", \"C-C7\", \"A7-A7\", \"C-A7\", \"Fm7-Bb7\", \"G7-Em7\", \"Am-Am\", \"CM7-Dm7\", \"F-C\", \"Dm7-Dm7\", \"E7-A7\", \"CM7-Am7\", \"E7-E7\", \"C-F\", \"F-F\", \"G#7-G7\", \"CM7-A7\", \"G7-C7\", \"F#m7b5-B7\", \"C6-Dm7\", \"Ebdim7-Dm7\", \"Fm-C\", \"C7-F7\", \"Bb7-A7\", \"F#m7-B7\", \"Em7-Am7\", \"CM7-F7\", \"FM7-FM7\", \"B7-Em7\", \"F7-F7\", \"F7-E7\", \"FM7-Bb7\", \"C6-Am7\", \"C-E7\", \"Dm7b5-G7\", \"F-Fm\", \"A7-Dm\", \"G-C\", \"Dm7-Em7\", \"F7-Em7\", \"Bm7-E7\", \"CM7-G7\", \"C#dim7-Dm7\", \"Bb7-Em7\", \"B7-E7\", \"C-D7\", \"Bb7-CM7\", \"Ebm7-G#7\", \"CM7-C7\", \"CM7-Gm7\", \"C6-G7\", \"C6-A7\", \"Cm7-F7\", \"CM7-FM7\", \"Em7-Ebdim7\", \"C7-F6\", \"G#7-Dm7\", \"Am-E7\", \"G7-Gm7\", \"Bbm7-Eb7\", \"Eb7-G#M7\", \"Am7-F#m7b5\", \"FM7-Em7\", \"Dm-Dm\", \"CM7-C#dim7\", \"CM7-Em7\", \"C-G\", \"CM7-Bm7b5\", \"C-Am\", \"Am-D7\", \"C-Dm7\", \"CM7-E7\", \"Bb7-EbM7\", \"B7-Bb7\", \"Am7-Bm7b5\", \"Dm7-A7\", \"C6-C7\", \"F-F#dim\", \"FM7-Fm7\", \"B7-EM7\", \"F#dim-C\", \"Bb7-Am7\", \"D7-Am7\", \"C-Ebdim\", \"B7-B7\", \"Am7-E7\", \"F7-C7\", \"Ebdim-Dm7\", \"C6-F7\", \"CM7-C6\", \"C-Am7\"], \"xaxis\": \"x\", \"y\": [5136, 2024, 1916, 1823, 1760, 1516, 1471, 1321, 1231, 1030, 889, 862, 861, 836, 813, 781, 776, 696, 634, 615, 610, 604, 523, 488, 479, 438, 437, 433, 428, 420, 413, 413, 412, 396, 395, 384, 381, 369, 357, 353, 352, 327, 320, 316, 311, 306, 304, 276, 271, 268, 266, 265, 260, 258, 248, 244, 241, 233, 229, 226, 224, 222, 222, 219, 215, 214, 214, 213, 212, 203, 202, 201, 197, 197, 195, 191, 189, 178, 173, 171, 162, 157, 156, 151, 151, 150, 145, 145, 144, 144, 143, 139, 137, 133, 131, 130, 129, 129, 122, 121, 121, 120, 117, 114, 113, 112, 112, 111, 110, 110, 106, 104, 104, 104, 103, 103, 102], \"yaxis\": \"y\"}],\n",
              "                        {\"barmode\": \"stack\", \"legend\": {\"tracegroupgap\": 0}, \"margin\": {\"t\": 60}, \"template\": {\"data\": {\"bar\": [{\"error_x\": {\"color\": \"#2a3f5f\"}, \"error_y\": {\"color\": \"#2a3f5f\"}, \"marker\": {\"line\": {\"color\": \"#E5ECF6\", \"width\": 0.5}}, \"type\": \"bar\"}], \"barpolar\": [{\"marker\": {\"line\": {\"color\": \"#E5ECF6\", \"width\": 0.5}}, \"type\": \"barpolar\"}], \"carpet\": [{\"aaxis\": {\"endlinecolor\": \"#2a3f5f\", \"gridcolor\": \"white\", \"linecolor\": \"white\", \"minorgridcolor\": \"white\", \"startlinecolor\": \"#2a3f5f\"}, \"baxis\": {\"endlinecolor\": \"#2a3f5f\", \"gridcolor\": \"white\", \"linecolor\": \"white\", \"minorgridcolor\": \"white\", \"startlinecolor\": \"#2a3f5f\"}, \"type\": \"carpet\"}], \"choropleth\": [{\"colorbar\": {\"outlinewidth\": 0, \"ticks\": \"\"}, \"type\": \"choropleth\"}], \"contour\": [{\"colorbar\": {\"outlinewidth\": 0, \"ticks\": \"\"}, \"colorscale\": [[0.0, \"#0d0887\"], [0.1111111111111111, \"#46039f\"], [0.2222222222222222, \"#7201a8\"], [0.3333333333333333, \"#9c179e\"], [0.4444444444444444, \"#bd3786\"], [0.5555555555555556, \"#d8576b\"], [0.6666666666666666, \"#ed7953\"], [0.7777777777777778, \"#fb9f3a\"], [0.8888888888888888, \"#fdca26\"], [1.0, \"#f0f921\"]], \"type\": \"contour\"}], \"contourcarpet\": [{\"colorbar\": {\"outlinewidth\": 0, \"ticks\": \"\"}, \"type\": \"contourcarpet\"}], \"heatmap\": [{\"colorbar\": {\"outlinewidth\": 0, \"ticks\": \"\"}, \"colorscale\": [[0.0, \"#0d0887\"], [0.1111111111111111, \"#46039f\"], [0.2222222222222222, \"#7201a8\"], [0.3333333333333333, \"#9c179e\"], [0.4444444444444444, \"#bd3786\"], [0.5555555555555556, \"#d8576b\"], [0.6666666666666666, \"#ed7953\"], [0.7777777777777778, \"#fb9f3a\"], [0.8888888888888888, \"#fdca26\"], [1.0, \"#f0f921\"]], \"type\": \"heatmap\"}], \"heatmapgl\": [{\"colorbar\": {\"outlinewidth\": 0, \"ticks\": \"\"}, \"colorscale\": [[0.0, \"#0d0887\"], [0.1111111111111111, \"#46039f\"], [0.2222222222222222, \"#7201a8\"], [0.3333333333333333, \"#9c179e\"], [0.4444444444444444, \"#bd3786\"], [0.5555555555555556, \"#d8576b\"], [0.6666666666666666, \"#ed7953\"], [0.7777777777777778, \"#fb9f3a\"], [0.8888888888888888, \"#fdca26\"], [1.0, \"#f0f921\"]], \"type\": \"heatmapgl\"}], \"histogram\": [{\"marker\": {\"colorbar\": {\"outlinewidth\": 0, \"ticks\": \"\"}}, \"type\": \"histogram\"}], \"histogram2d\": [{\"colorbar\": {\"outlinewidth\": 0, \"ticks\": \"\"}, \"colorscale\": [[0.0, \"#0d0887\"], [0.1111111111111111, \"#46039f\"], [0.2222222222222222, \"#7201a8\"], [0.3333333333333333, \"#9c179e\"], [0.4444444444444444, \"#bd3786\"], [0.5555555555555556, \"#d8576b\"], [0.6666666666666666, \"#ed7953\"], [0.7777777777777778, \"#fb9f3a\"], [0.8888888888888888, \"#fdca26\"], [1.0, \"#f0f921\"]], \"type\": \"histogram2d\"}], \"histogram2dcontour\": [{\"colorbar\": {\"outlinewidth\": 0, \"ticks\": \"\"}, \"colorscale\": [[0.0, \"#0d0887\"], [0.1111111111111111, \"#46039f\"], [0.2222222222222222, \"#7201a8\"], [0.3333333333333333, \"#9c179e\"], [0.4444444444444444, \"#bd3786\"], [0.5555555555555556, \"#d8576b\"], [0.6666666666666666, \"#ed7953\"], [0.7777777777777778, \"#fb9f3a\"], [0.8888888888888888, \"#fdca26\"], [1.0, \"#f0f921\"]], \"type\": \"histogram2dcontour\"}], \"mesh3d\": [{\"colorbar\": {\"outlinewidth\": 0, \"ticks\": \"\"}, \"type\": \"mesh3d\"}], \"parcoords\": [{\"line\": {\"colorbar\": {\"outlinewidth\": 0, \"ticks\": \"\"}}, \"type\": \"parcoords\"}], \"pie\": [{\"automargin\": true, \"type\": \"pie\"}], \"scatter\": [{\"marker\": {\"colorbar\": {\"outlinewidth\": 0, \"ticks\": \"\"}}, \"type\": \"scatter\"}], \"scatter3d\": [{\"line\": {\"colorbar\": {\"outlinewidth\": 0, \"ticks\": \"\"}}, \"marker\": {\"colorbar\": {\"outlinewidth\": 0, \"ticks\": \"\"}}, \"type\": \"scatter3d\"}], \"scattercarpet\": [{\"marker\": {\"colorbar\": {\"outlinewidth\": 0, \"ticks\": \"\"}}, \"type\": \"scattercarpet\"}], \"scattergeo\": [{\"marker\": {\"colorbar\": {\"outlinewidth\": 0, \"ticks\": \"\"}}, \"type\": \"scattergeo\"}], \"scattergl\": [{\"marker\": {\"colorbar\": {\"outlinewidth\": 0, \"ticks\": \"\"}}, \"type\": \"scattergl\"}], \"scattermapbox\": [{\"marker\": {\"colorbar\": {\"outlinewidth\": 0, \"ticks\": \"\"}}, \"type\": \"scattermapbox\"}], \"scatterpolar\": [{\"marker\": {\"colorbar\": {\"outlinewidth\": 0, \"ticks\": \"\"}}, \"type\": \"scatterpolar\"}], \"scatterpolargl\": [{\"marker\": {\"colorbar\": {\"outlinewidth\": 0, \"ticks\": \"\"}}, \"type\": \"scatterpolargl\"}], \"scatterternary\": [{\"marker\": {\"colorbar\": {\"outlinewidth\": 0, \"ticks\": \"\"}}, \"type\": \"scatterternary\"}], \"surface\": [{\"colorbar\": {\"outlinewidth\": 0, \"ticks\": \"\"}, \"colorscale\": [[0.0, \"#0d0887\"], [0.1111111111111111, \"#46039f\"], [0.2222222222222222, \"#7201a8\"], [0.3333333333333333, \"#9c179e\"], [0.4444444444444444, \"#bd3786\"], [0.5555555555555556, \"#d8576b\"], [0.6666666666666666, \"#ed7953\"], [0.7777777777777778, \"#fb9f3a\"], [0.8888888888888888, \"#fdca26\"], [1.0, \"#f0f921\"]], \"type\": \"surface\"}], \"table\": [{\"cells\": {\"fill\": {\"color\": \"#EBF0F8\"}, \"line\": {\"color\": \"white\"}}, \"header\": {\"fill\": {\"color\": \"#C8D4E3\"}, \"line\": {\"color\": \"white\"}}, \"type\": \"table\"}]}, \"layout\": {\"annotationdefaults\": {\"arrowcolor\": \"#2a3f5f\", \"arrowhead\": 0, \"arrowwidth\": 1}, \"coloraxis\": {\"colorbar\": {\"outlinewidth\": 0, \"ticks\": \"\"}}, \"colorscale\": {\"diverging\": [[0, \"#8e0152\"], [0.1, \"#c51b7d\"], [0.2, \"#de77ae\"], [0.3, \"#f1b6da\"], [0.4, \"#fde0ef\"], [0.5, \"#f7f7f7\"], [0.6, \"#e6f5d0\"], [0.7, \"#b8e186\"], [0.8, \"#7fbc41\"], [0.9, \"#4d9221\"], [1, \"#276419\"]], \"sequential\": [[0.0, \"#0d0887\"], [0.1111111111111111, \"#46039f\"], [0.2222222222222222, \"#7201a8\"], [0.3333333333333333, \"#9c179e\"], [0.4444444444444444, \"#bd3786\"], [0.5555555555555556, \"#d8576b\"], [0.6666666666666666, \"#ed7953\"], [0.7777777777777778, \"#fb9f3a\"], [0.8888888888888888, \"#fdca26\"], [1.0, \"#f0f921\"]], \"sequentialminus\": [[0.0, \"#0d0887\"], [0.1111111111111111, \"#46039f\"], [0.2222222222222222, \"#7201a8\"], [0.3333333333333333, \"#9c179e\"], [0.4444444444444444, \"#bd3786\"], [0.5555555555555556, \"#d8576b\"], [0.6666666666666666, \"#ed7953\"], [0.7777777777777778, \"#fb9f3a\"], [0.8888888888888888, \"#fdca26\"], [1.0, \"#f0f921\"]]}, \"colorway\": [\"#636efa\", \"#EF553B\", \"#00cc96\", \"#ab63fa\", \"#FFA15A\", \"#19d3f3\", \"#FF6692\", \"#B6E880\", \"#FF97FF\", \"#FECB52\"], \"font\": {\"color\": \"#2a3f5f\"}, \"geo\": {\"bgcolor\": \"white\", \"lakecolor\": \"white\", \"landcolor\": \"#E5ECF6\", \"showlakes\": true, \"showland\": true, \"subunitcolor\": \"white\"}, \"hoverlabel\": {\"align\": \"left\"}, \"hovermode\": \"closest\", \"mapbox\": {\"style\": \"light\"}, \"paper_bgcolor\": \"white\", \"plot_bgcolor\": \"#E5ECF6\", \"polar\": {\"angularaxis\": {\"gridcolor\": \"white\", \"linecolor\": \"white\", \"ticks\": \"\"}, \"bgcolor\": \"#E5ECF6\", \"radialaxis\": {\"gridcolor\": \"white\", \"linecolor\": \"white\", \"ticks\": \"\"}}, \"scene\": {\"xaxis\": {\"backgroundcolor\": \"#E5ECF6\", \"gridcolor\": \"white\", \"gridwidth\": 2, \"linecolor\": \"white\", \"showbackground\": true, \"ticks\": \"\", \"zerolinecolor\": \"white\"}, \"yaxis\": {\"backgroundcolor\": \"#E5ECF6\", \"gridcolor\": \"white\", \"gridwidth\": 2, \"linecolor\": \"white\", \"showbackground\": true, \"ticks\": \"\", \"zerolinecolor\": \"white\"}, \"zaxis\": {\"backgroundcolor\": \"#E5ECF6\", \"gridcolor\": \"white\", \"gridwidth\": 2, \"linecolor\": \"white\", \"showbackground\": true, \"ticks\": \"\", \"zerolinecolor\": \"white\"}}, \"shapedefaults\": {\"line\": {\"color\": \"#2a3f5f\"}}, \"ternary\": {\"aaxis\": {\"gridcolor\": \"white\", \"linecolor\": \"white\", \"ticks\": \"\"}, \"baxis\": {\"gridcolor\": \"white\", \"linecolor\": \"white\", \"ticks\": \"\"}, \"bgcolor\": \"#E5ECF6\", \"caxis\": {\"gridcolor\": \"white\", \"linecolor\": \"white\", \"ticks\": \"\"}}, \"title\": {\"x\": 0.05}, \"xaxis\": {\"automargin\": true, \"gridcolor\": \"white\", \"linecolor\": \"white\", \"ticks\": \"\", \"title\": {\"standoff\": 15}, \"zerolinecolor\": \"white\", \"zerolinewidth\": 2}, \"yaxis\": {\"automargin\": true, \"gridcolor\": \"white\", \"linecolor\": \"white\", \"ticks\": \"\", \"title\": {\"standoff\": 15}, \"zerolinecolor\": \"white\", \"zerolinewidth\": 2}}}, \"xaxis\": {\"anchor\": \"y\", \"categoryorder\": \"total descending\", \"domain\": [0.0, 1.0], \"title\": {\"text\": \"chord\"}}, \"yaxis\": {\"anchor\": \"x\", \"domain\": [0.0, 1.0], \"title\": {\"text\": \"count\"}, \"type\": \"log\"}},\n",
              "                        {\"responsive\": true}\n",
              "                    ).then(function(){\n",
              "                            \n",
              "var gd = document.getElementById('bcbfe775-a831-4f19-9571-c30ac2cd6a69');\n",
              "var x = new MutationObserver(function (mutations, observer) {{\n",
              "        var display = window.getComputedStyle(gd).display;\n",
              "        if (!display || display === 'none') {{\n",
              "            console.log([gd, 'removed!']);\n",
              "            Plotly.purge(gd);\n",
              "            observer.disconnect();\n",
              "        }}\n",
              "}});\n",
              "\n",
              "// Listen for the removal of the full notebook cells\n",
              "var notebookContainer = gd.closest('#notebook-container');\n",
              "if (notebookContainer) {{\n",
              "    x.observe(notebookContainer, {childList: true});\n",
              "}}\n",
              "\n",
              "// Listen for the clearing of the current output cell\n",
              "var outputEl = gd.closest('.output');\n",
              "if (outputEl) {{\n",
              "    x.observe(outputEl, {childList: true});\n",
              "}}\n",
              "\n",
              "                        })\n",
              "                };\n",
              "                \n",
              "            </script>\n",
              "        </div>\n",
              "</body>\n",
              "</html>"
            ]
          },
          "metadata": {}
        }
      ]
    },
    {
      "cell_type": "markdown",
      "metadata": {
        "id": "cG5dtDpkWwLE"
      },
      "source": [
        "Plot Distribution accoring to Zipf's Law\n",
        "\n",
        "source: https://stats.stackexchange.com/questions/331219/characterizing-fitting-word-count-data-into-zipf-power-law-lognormal"
      ]
    },
    {
      "cell_type": "code",
      "metadata": {
        "id": "tazf9QRST5NP"
      },
      "source": [
        "from collections import Counter\n",
        "\n",
        "counter_of_words = df_chords.set_index('chord').to_dict(orient='dict')\n",
        "counter_of_words = Counter(counter_of_words['count'])\n",
        "counter_of_counts = Counter(counter_of_words.values())\n",
        "\n",
        "word_counts = np.array(list(counter_of_counts.keys()))\n",
        "freq_of_word_counts = np.array(list(counter_of_counts.values()))"
      ],
      "execution_count": 35,
      "outputs": []
    },
    {
      "cell_type": "code",
      "metadata": {
        "colab": {
          "base_uri": "https://localhost:8080/",
          "height": 295
        },
        "id": "Jc80DSe7QlkV",
        "outputId": "64e775a5-55c6-4353-9476-c534b920f048"
      },
      "source": [
        "plt.scatter(np.log(word_counts), np.log(freq_of_word_counts))\n",
        "plt.xlabel('Log of word frequency')\n",
        "plt.ylabel('Log of number of such words')\n",
        "plt.title('Power law for word frequencies')\n",
        "\n",
        "plt.savefig('plot.png')"
      ],
      "execution_count": 36,
      "outputs": [
        {
          "output_type": "display_data",
          "data": {
            "image/png": "[encoded data removed]",
            "text/plain": [
              "<Figure size 432x288 with 1 Axes>"
            ]
          },
          "metadata": {
            "needs_background": "light"
          }
        }
      ]
    },
    {
      "cell_type": "code",
      "metadata": {
        "colab": {
          "base_uri": "https://localhost:8080/"
        },
        "id": "TRQxnw3XXfit",
        "outputId": "a804e3c8-4bbe-4b71-e2ed-0ea79794bec7"
      },
      "source": [
        "def neg_zipf_likelihood(s):\n",
        "    n = sum(freq_of_word_counts)\n",
        "    # for each word count, find the probability that a random word has such word count\n",
        "    probas = word_counts ** (-s) / np.sum(np.arange(1, n+1) **(-s))\n",
        "    log_likelihood = sum(np.log(probas) * word_counts)\n",
        "    return -log_likelihood\n",
        "\n",
        "from scipy.optimize import minimize_scalar\n",
        "s_best = minimize_scalar(neg_zipf_likelihood, [0.1, 3.0] )\n",
        "print(s_best.x)"
      ],
      "execution_count": 37,
      "outputs": [
        {
          "output_type": "stream",
          "name": "stdout",
          "text": [
            "0.471675518523981\n"
          ]
        }
      ]
    },
    {
      "cell_type": "code",
      "metadata": {
        "id": "a1IvM4wh7zOv"
      },
      "source": [
        "wandb.log(\n",
        "    {\"corpus\": {\n",
        "            \"total_tokens\": total_tokens,\n",
        "            \"vocab_size\": vocab_size,\n",
        "            \"vocab_proportion_in_corpus\": vocab_prop,\n",
        "            \"zipf_plot\": wandb.Image('plot.png'),\n",
        "            }\n",
        "     }\n",
        ")"
      ],
      "execution_count": 38,
      "outputs": []
    },
    {
      "cell_type": "markdown",
      "metadata": {
        "id": "LeRGFeTn89Uc"
      },
      "source": [
        "# TF-IDF"
      ]
    },
    {
      "cell_type": "code",
      "metadata": {
        "colab": {
          "base_uri": "https://localhost:8080/"
        },
        "id": "pBdUdBNr9Gmu",
        "outputId": "cca6fe6b-6d9c-4ef9-da12-8e6b32227087"
      },
      "source": [
        "dictionary = corpora.Dictionary(processed_corpus)\n",
        "bow_corpus = [dictionary.doc2bow(text) for text in processed_corpus]\n",
        "tfidf = TfidfModel(bow_corpus)"
      ],
      "execution_count": 39,
      "outputs": [
        {
          "output_type": "stream",
          "name": "stderr",
          "text": [
            "2021-11-22 20:41:14,795 : INFO : adding document #0 to Dictionary(0 unique tokens: [])\n",
            "2021-11-22 20:41:14,946 : INFO : built Dictionary(3750 unique tokens: ['Am7-D7', 'B7-EM7', 'C#M7-E7', 'C7-FM7', 'CM7-Eb7']...) from 5391 documents (total 77231 corpus positions)\n",
            "2021-11-22 20:41:14,948 : INFO : Dictionary lifecycle event {'msg': \"built Dictionary(3750 unique tokens: ['Am7-D7', 'B7-EM7', 'C#M7-E7', 'C7-FM7', 'CM7-Eb7']...) from 5391 documents (total 77231 corpus positions)\", 'datetime': '2021-11-22T20:41:14.948245', 'gensim': '4.1.2', 'python': '3.7.12 (default, Sep 10 2021, 00:21:48) \\n[GCC 7.5.0]', 'platform': 'Linux-5.4.104+-x86_64-with-Ubuntu-18.04-bionic', 'event': 'created'}\n",
            "2021-11-22 20:41:15,035 : INFO : collecting document frequencies\n",
            "2021-11-22 20:41:15,037 : INFO : PROGRESS: processing document #0\n",
            "2021-11-22 20:41:15,074 : INFO : TfidfModel lifecycle event {'msg': 'calculated IDF weights for 5391 documents and 3750 features (58273 matrix non-zeros)', 'datetime': '2021-11-22T20:41:15.074573', 'gensim': '4.1.2', 'python': '3.7.12 (default, Sep 10 2021, 00:21:48) \\n[GCC 7.5.0]', 'platform': 'Linux-5.4.104+-x86_64-with-Ubuntu-18.04-bionic', 'event': 'initialize'}\n"
          ]
        }
      ]
    },
    {
      "cell_type": "code",
      "metadata": {
        "id": "9NK-cuax9Kqk"
      },
      "source": [
        "# dictionary.token2id"
      ],
      "execution_count": 40,
      "outputs": []
    },
    {
      "cell_type": "code",
      "metadata": {
        "id": "til5xlce_y1m"
      },
      "source": [
        "!rm -R index\n",
        "!mkdir index"
      ],
      "execution_count": 41,
      "outputs": []
    },
    {
      "cell_type": "code",
      "metadata": {
        "colab": {
          "base_uri": "https://localhost:8080/"
        },
        "id": "tn_fz2M090IM",
        "outputId": "0c1219d2-7468-45ec-bb2e-47fafd099d8a"
      },
      "source": [
        "# Note: SparseMatrixSimilarity crashes due to lacking memory\n",
        "#from gensim.test.utils import get_tmpfile\n",
        "#index_tmpfile = get_tmpfile(\"index\")\n",
        "#index_tfidf = similarities.Similarity('/content/index/index_tfidf', bow_corpus, num_features=len(dictionary))\n",
        "\n",
        "index_tfidf = similarities.SparseMatrixSimilarity(tfidf[bow_corpus], num_features = len(dictionary))"
      ],
      "execution_count": 42,
      "outputs": [
        {
          "output_type": "stream",
          "name": "stderr",
          "text": [
            "2021-11-22 20:41:15,385 : INFO : creating sparse index\n",
            "2021-11-22 20:41:15,389 : INFO : creating sparse matrix from corpus\n",
            "2021-11-22 20:41:15,392 : INFO : PROGRESS: at document #0\n",
            "2021-11-22 20:41:15,874 : INFO : created <5391x3750 sparse matrix of type '<class 'numpy.float32'>'\n",
            "\twith 58273 stored elements in Compressed Sparse Row format>\n"
          ]
        }
      ]
    },
    {
      "cell_type": "code",
      "metadata": {
        "colab": {
          "base_uri": "https://localhost:8080/"
        },
        "id": "VRSUXNPTewqv",
        "outputId": "ff785d1f-9481-43da-daa4-1271ffdd2045"
      },
      "source": [
        "tfidf.save('/content/index/tfidf.model')  # save model\n",
        "index_tfidf.save('/content/index/tfidf.index') #save index"
      ],
      "execution_count": 43,
      "outputs": [
        {
          "output_type": "stream",
          "name": "stderr",
          "text": [
            "2021-11-22 20:41:15,892 : INFO : TfidfModel lifecycle event {'fname_or_handle': '/content/index/tfidf.model', 'separately': 'None', 'sep_limit': 10485760, 'ignore': frozenset(), 'datetime': '2021-11-22T20:41:15.892807', 'gensim': '4.1.2', 'python': '3.7.12 (default, Sep 10 2021, 00:21:48) \\n[GCC 7.5.0]', 'platform': 'Linux-5.4.104+-x86_64-with-Ubuntu-18.04-bionic', 'event': 'saving'}\n",
            "2021-11-22 20:41:15,912 : INFO : saved /content/index/tfidf.model\n",
            "2021-11-22 20:41:15,915 : INFO : SparseMatrixSimilarity lifecycle event {'fname_or_handle': '/content/index/tfidf.index', 'separately': 'None', 'sep_limit': 10485760, 'ignore': frozenset(), 'datetime': '2021-11-22T20:41:15.915544', 'gensim': '4.1.2', 'python': '3.7.12 (default, Sep 10 2021, 00:21:48) \\n[GCC 7.5.0]', 'platform': 'Linux-5.4.104+-x86_64-with-Ubuntu-18.04-bionic', 'event': 'saving'}\n",
            "2021-11-22 20:41:15,920 : INFO : saved /content/index/tfidf.index\n"
          ]
        }
      ]
    },
    {
      "cell_type": "markdown",
      "metadata": {
        "id": "ZLK0coIu9Tv5"
      },
      "source": [
        "## Test for single tunes"
      ]
    },
    {
      "cell_type": "code",
      "metadata": {
        "id": "Fzrj1qxwDpJT"
      },
      "source": [
        "def get_sim_scores(tunes, index, model):\n",
        "\n",
        "    df_sim = pd.DataFrame(columns=['reference_title',\n",
        "                                  'similar_title',\n",
        "                                  'ref_section', \n",
        "                                  'similar_section', \n",
        "                                  'score', \n",
        "                                  ])\n",
        "\n",
        "    for tune in tunes:\n",
        "      print()\n",
        "      print(\"-\"*50)\n",
        "      for s1 in title_to_sectionid[tune]:\n",
        "      \n",
        "          query = processed_corpus[s1]\n",
        "          query_bow = dictionary.doc2bow(query)\n",
        "\n",
        "          # perform a similarity query against the corpus\n",
        "          similarities = index[model[query_bow]]\n",
        "          sims = sorted(enumerate(similarities), key=lambda item: -item[1])\n",
        "          \n",
        "          print(s1, sectionid_to_section[s1])\n",
        "          n = 0\n",
        "          for s2, s2_score in sims:\n",
        "            \n",
        "            # store the top N best results\n",
        "            if n > 40:\n",
        "                break\n",
        "            # don't count self-similarity between sections of the same tune\n",
        "            if s2 not in title_to_sectionid[tune]:\n",
        "                n += 1\n",
        "            \n",
        "                # print(f\"\\t{s2_score:.3f} {sectionid_to_section[s2]}\")\n",
        "\n",
        "                df_sim.loc[len(df_sim)] = [tune,\n",
        "                                sectionid_to_title[s2],\n",
        "                                sectionid_to_section[s1], \n",
        "                                sectionid_to_section[s2], \n",
        "                                s2_score, \n",
        "                                ]\n",
        "    return df_sim"
      ],
      "execution_count": 44,
      "outputs": []
    },
    {
      "cell_type": "code",
      "metadata": {
        "colab": {
          "base_uri": "https://localhost:8080/"
        },
        "id": "5Wz4ZQk_EKZy",
        "outputId": "fce30689-5328-4b74-d447-7f9a73248a71"
      },
      "source": [
        "%%time\n",
        "df_sim = get_sim_scores(tunes_eval_list, index_tfidf, tfidf)\n",
        "df_tfidf = df_sim[:]"
      ],
      "execution_count": 45,
      "outputs": [
        {
          "output_type": "stream",
          "name": "stdout",
          "text": [
            "\n",
            "--------------------------------------------------\n",
            "125 After You've Gone, section1 (A)\n",
            "126 After You've Gone, section2 (B)\n",
            "127 After You've Gone, section3 (A)\n",
            "128 After You've Gone, section4 (C)\n",
            "\n",
            "--------------------------------------------------\n",
            "188 All God's Chillun Got Rhythm, section1 (A)\n",
            "189 All God's Chillun Got Rhythm, section2 (B)\n",
            "190 All God's Chillun Got Rhythm, section3 (A)\n",
            "191 All God's Chillun Got Rhythm, section4 (C)\n",
            "\n",
            "--------------------------------------------------\n",
            "198 All Of Me, section1 (A)\n",
            "199 All Of Me, section2 (B)\n",
            "200 All Of Me, section3 (A)\n",
            "201 All Of Me, section4 (C)\n",
            "\n",
            "--------------------------------------------------\n",
            "474 Blood Count, section1 (A)\n",
            "475 Blood Count, section2 (A)\n",
            "476 Blood Count, section3 (B)\n",
            "477 Blood Count, section4 (A)\n",
            "478 Blood Count, section5 (C)\n",
            "\n",
            "--------------------------------------------------\n",
            "496 Blue Moon, section1 (A)\n",
            "497 Blue Moon, section2 (A)\n",
            "498 Blue Moon, section3 (B)\n",
            "499 Blue Moon, section4 (A)\n",
            "\n",
            "--------------------------------------------------\n",
            "626 But Beautiful, section1 (A)\n",
            "627 But Beautiful, section2 (B)\n",
            "628 But Beautiful, section3 (A)\n",
            "629 But Beautiful, section4 (C)\n",
            "\n",
            "--------------------------------------------------\n",
            "653 Bye Bye Blackbird, section1 (A)\n",
            "654 Bye Bye Blackbird, section2 (B)\n",
            "4559 Bye Bye Blackbird, section1 (A)\n",
            "\n",
            "--------------------------------------------------\n",
            "676 Call Me Irresponsible, section1 (A)\n",
            "677 Call Me Irresponsible, section2 (B)\n",
            "678 Call Me Irresponsible, section3 (A)\n",
            "679 Call Me Irresponsible, section4 (B)\n",
            "\n",
            "--------------------------------------------------\n",
            "826 Corcovado, section1 (A)\n",
            "827 Corcovado, section2 (B)\n",
            "828 Corcovado, section3 (A)\n",
            "829 Corcovado, section4 (C)\n",
            "\n",
            "--------------------------------------------------\n",
            "997 Dinah, section1 (A)\n",
            "998 Dinah, section2 (A)\n",
            "999 Dinah, section3 (B)\n",
            "1000 Dinah, section4 (A)\n",
            "\n",
            "--------------------------------------------------\n",
            "1125 East Of The Sun, section1 (A)\n",
            "1126 East Of The Sun, section2 (B)\n",
            "1127 East Of The Sun, section3 (A)\n",
            "1128 East Of The Sun, section4 (C)\n",
            "\n",
            "--------------------------------------------------\n",
            "1287 Footprints, section0 (nan)\n",
            "\n",
            "--------------------------------------------------\n",
            "1379 Giant Steps, section0 (nan)\n",
            "\n",
            "--------------------------------------------------\n",
            "1538 Honeysuckle Rose, section1 (A)\n",
            "1539 Honeysuckle Rose, section2 (A)\n",
            "1540 Honeysuckle Rose, section3 (B)\n",
            "1541 Honeysuckle Rose, section4 (A)\n",
            "4781 Honeysuckle Rose, section1 (A)\n",
            "4782 Honeysuckle Rose, section2 (A)\n",
            "4783 Honeysuckle Rose, section3 (B)\n",
            "4784 Honeysuckle Rose, section4 (A)\n",
            "\n",
            "--------------------------------------------------\n",
            "1647 I Got Rhythm, section1 (A)\n",
            "1648 I Got Rhythm, section2 (A)\n",
            "1649 I Got Rhythm, section3 (B)\n",
            "1650 I Got Rhythm, section4 (A)\n",
            "4809 I Got Rhythm, section1 (A)\n",
            "4810 I Got Rhythm, section2 (A)\n",
            "4811 I Got Rhythm, section3 (B)\n",
            "4812 I Got Rhythm, section4 (A)\n",
            "\n",
            "--------------------------------------------------\n",
            "2670 Misty, section1 (A)\n",
            "2671 Misty, section2 (A)\n",
            "2672 Misty, section3 (B)\n",
            "2673 Misty, section4 (A)\n",
            "\n",
            "--------------------------------------------------\n",
            "2857 Naima, section1 (A)\n",
            "2858 Naima, section2 (A)\n",
            "2859 Naima, section3 (B)\n",
            "2860 Naima, section4 (A)\n",
            "\n",
            "--------------------------------------------------\n",
            "5044 Old Fashioned Love, section0 (nan)\n",
            "\n",
            "--------------------------------------------------\n",
            "3142 Perdido, section1 (A)\n",
            "3143 Perdido, section2 (A)\n",
            "3144 Perdido, section3 (B)\n",
            "3145 Perdido, section4 (A)\n",
            "\n",
            "--------------------------------------------------\n",
            "3276 Rockin' Chair, section1 (A)\n",
            "3277 Rockin' Chair, section2 (B)\n",
            "3278 Rockin' Chair, section3 (A)\n",
            "5110 Rockin' Chair, section1 (A)\n",
            "5111 Rockin' Chair, section2 (B)\n",
            "5112 Rockin' Chair, section3 (A)\n",
            "\n",
            "--------------------------------------------------\n",
            "3578 Sophisticated Lady, section1 (A)\n",
            "3579 Sophisticated Lady, section2 (A)\n",
            "3580 Sophisticated Lady, section3 (B)\n",
            "3581 Sophisticated Lady, section4 (A)\n",
            "\n",
            "--------------------------------------------------\n",
            "3746 Sweet Sue, Just You, section1 (A)\n",
            "3747 Sweet Sue, Just You, section2 (A)\n",
            "3748 Sweet Sue, Just You, section3 (B)\n",
            "3749 Sweet Sue, Just You, section4 (A)\n",
            "\n",
            "--------------------------------------------------\n",
            "3860 These Foolish Things, section1 (A)\n",
            "3861 These Foolish Things, section2 (A)\n",
            "3862 These Foolish Things, section3 (B)\n",
            "3863 These Foolish Things, section4 (A)\n",
            "\n",
            "--------------------------------------------------\n",
            "4146 We'll Be Together Again, section1 (A)\n",
            "4147 We'll Be Together Again, section2 (A)\n",
            "4148 We'll Be Together Again, section3 (B)\n",
            "4149 We'll Be Together Again, section4 (A)\n",
            "CPU times: user 16.2 s, sys: 415 ms, total: 16.6 s\n",
            "Wall time: 16.3 s\n"
          ]
        }
      ]
    },
    {
      "cell_type": "code",
      "metadata": {
        "colab": {
          "base_uri": "https://localhost:8080/",
          "height": 542
        },
        "id": "yzRuIKVh9c8g",
        "outputId": "93d2345f-5115-4895-dd2f-8d04bf0e5770"
      },
      "source": [
        "import plotly.express as px\n",
        "fig = px.histogram(df_sim, x=\"score\", nbins=50, title='Scores for TF-IDF')\n",
        "fig.show()"
      ],
      "execution_count": 46,
      "outputs": [
        {
          "output_type": "display_data",
          "data": {
            "text/html": [
              "<html>\n",
              "<head><meta charset=\"utf-8\" /></head>\n",
              "<body>\n",
              "    <div>\n",
              "            <script src=\"https://cdnjs.cloudflare.com/ajax/libs/mathjax/2.7.5/MathJax.js?config=TeX-AMS-MML_SVG\"></script><script type=\"text/javascript\">if (window.MathJax) {MathJax.Hub.Config({SVG: {font: \"STIX-Web\"}});}</script>\n",
              "                <script type=\"text/javascript\">window.PlotlyConfig = {MathJaxConfig: 'local'};</script>\n",
              "        <script src=\"https://cdn.plot.ly/plotly-latest.min.js\"></script>    \n",
              "            <div id=\"3553de58-7d5f-49de-89aa-702687cdd27e\" class=\"plotly-graph-div\" style=\"height:525px; width:100%;\"></div>\n",
              "            <script type=\"text/javascript\">\n",
              "                \n",
              "                    window.PLOTLYENV=window.PLOTLYENV || {};\n",
              "                    \n",
              "                if (document.getElementById(\"3553de58-7d5f-49de-89aa-702687cdd27e\")) {\n",
              "                    Plotly.newPlot(\n",
              "                        '3553de58-7d5f-49de-89aa-702687cdd27e',\n",
              "                        [{\"alignmentgroup\": \"True\", \"bingroup\": \"x\", \"hoverlabel\": {\"namelength\": 0}, \"hovertemplate\": \"score=%{x}<br>count=%{y}\", \"legendgroup\": \"\", \"marker\": {\"color\": \"#636efa\"}, \"name\": \"\", \"nbinsx\": 50, \"offsetgroup\": \"\", \"orientation\": \"v\", \"showlegend\": false, \"type\": \"histogram\", \"x\": [0.5378310680389404, 0.463489830493927, 0.4276049733161926, 0.3892480134963989, 0.35887569189071655, 0.35887569189071655, 0.3544420599937439, 0.3542771637439728, 0.3502046465873718, 0.3490324020385742, 0.3481365442276001, 0.3377043306827545, 0.32944798469543457, 0.326036274433136, 0.32566267251968384, 0.3245600163936615, 0.3198450207710266, 0.3197953701019287, 0.3143579959869385, 0.3130139708518982, 0.3128474950790405, 0.30930832028388977, 0.30930832028388977, 0.3085476756095886, 0.304656982421875, 0.3045658469200134, 0.30417874455451965, 0.2992006540298462, 0.29819029569625854, 0.29741260409355164, 0.29741260409355164, 0.2951694130897522, 0.2947445213794708, 0.2932663559913635, 0.29230308532714844, 0.29071539640426636, 0.2881951630115509, 0.2856231927871704, 0.2844073176383972, 0.28251707553863525, 0.28019124269485474, 0.7428930401802063, 0.7428930401802063, 0.7106659412384033, 0.6547183394432068, 0.6488162279129028, 0.6475112438201904, 0.581339418888092, 0.581339418888092, 0.5142974853515625, 0.5033087730407715, 0.5033087730407715, 0.4829723834991455, 0.48076242208480835, 0.4793834388256073, 0.4793834388256073, 0.4793834388256073, 0.4676739275455475, 0.46673133969306946, 0.46645379066467285, 0.46044641733169556, 0.4549875259399414, 0.44835329055786133, 0.44835329055786133, 0.44724148511886597, 0.44489574432373047, 0.44423583149909973, 0.4417954683303833, 0.42958498001098633, 0.4256269931793213, 0.42015713453292847, 0.42015713453292847, 0.42015713453292847, 0.41875705122947693, 0.41875705122947693, 0.41875705122947693, 0.4174354076385498, 0.4171961545944214, 0.416536420583725, 0.4151301980018616, 0.4089645743370056, 0.4089645743370056, 0.5378310680389404, 0.463489830493927, 0.4276049733161926, 0.3892480134963989, 0.35887569189071655, 0.35887569189071655, 0.3544420599937439, 0.3542771637439728, 0.3502046465873718, 0.3490324020385742, 0.3481365442276001, 0.3377043306827545, 0.32944798469543457, 0.326036274433136, 0.32566267251968384, 0.3245600163936615, 0.3198450207710266, 0.3197953701019287, 0.3143579959869385, 0.3130139708518982, 0.3128474950790405, 0.30930832028388977, 0.30930832028388977, 0.3085476756095886, 0.304656982421875, 0.3045658469200134, 0.30417874455451965, 0.2992006540298462, 0.29819029569625854, 0.29741260409355164, 0.29741260409355164, 0.2951694130897522, 0.2947445213794708, 0.2932663559913635, 0.29230308532714844, 0.29071539640426636, 0.2881951630115509, 0.2856231927871704, 0.2844073176383972, 0.28251707553863525, 0.28019124269485474, 0.30247628688812256, 0.2917579710483551, 0.2833389639854431, 0.2760950028896332, 0.26079702377319336, 0.25981876254081726, 0.25855833292007446, 0.25851988792419434, 0.25639092922210693, 0.2551282048225403, 0.2536655068397522, 0.2526833415031433, 0.2526833415031433, 0.2503810524940491, 0.2485356330871582, 0.245790034532547, 0.245790034532547, 0.24219410121440887, 0.24104131758213043, 0.2364409863948822, 0.23449277877807617, 0.23217299580574036, 0.23217299580574036, 0.23217299580574036, 0.22718407213687897, 0.2199600338935852, 0.21465720236301422, 0.21465720236301422, 0.2121858298778534, 0.21149832010269165, 0.20915013551712036, 0.2086016684770584, 0.20842204988002777, 0.206758052110672, 0.2060672640800476, 0.20534202456474304, 0.20504233241081238, 0.20440161228179932, 0.20440161228179932, 0.20339353382587433, 0.20310944318771362, 0.9204921126365662, 0.9204921126365662, 0.7985793352127075, 0.786278247833252, 0.7678537964820862, 0.7272862195968628, 0.7206747531890869, 0.7201738357543945, 0.7201738357543945, 0.7118957042694092, 0.7116209864616394, 0.7050056457519531, 0.6847276091575623, 0.6796215772628784, 0.6774415969848633, 0.6768386363983154, 0.6606014370918274, 0.6581088304519653, 0.6577036380767822, 0.6577036380767822, 0.6492258310317993, 0.6413235664367676, 0.6413235664367676, 0.618781328201294, 0.6170874834060669, 0.6104680299758911, 0.6095466613769531, 0.5930466651916504, 0.5828021168708801, 0.5796720385551453, 0.5794343948364258, 0.5689815282821655, 0.5553629994392395, 0.5551656484603882, 0.5537230968475342, 0.5485963821411133, 0.546863317489624, 0.541469395160675, 0.5351776480674744, 0.5335707664489746, 0.5275121927261353, 0.5790473818778992, 0.5728763937950134, 0.5638213157653809, 0.534866988658905, 0.49759066104888916, 0.49453434348106384, 0.48387444019317627, 0.4815652370452881, 0.481413871049881, 0.47823745012283325, 0.47823745012283325, 0.47822844982147217, 0.4718392789363861, 0.47107934951782227, 0.4674009382724762, 0.44790369272232056, 0.4471118748188019, 0.4430808424949646, 0.43945571780204773, 0.4376881718635559, 0.4376881718635559, 0.4365118145942688, 0.43008244037628174, 0.42879852652549744, 0.425327867269516, 0.422384113073349, 0.4212219715118408, 0.420375794172287, 0.41497212648391724, 0.4114990532398224, 0.40869957208633423, 0.40516284108161926, 0.4047674238681793, 0.4030992090702057, 0.40041059255599976, 0.40032902359962463, 0.39473089575767517, 0.3934650719165802, 0.3893822431564331, 0.3852156698703766, 0.3852156698703766, 0.9204921126365662, 0.9204921126365662, 0.7985793352127075, 0.786278247833252, 0.7678537964820862, 0.7272862195968628, 0.7206747531890869, 0.7201738357543945, 0.7201738357543945, 0.7118957042694092, 0.7116209864616394, 0.7050056457519531, 0.6847276091575623, 0.6796215772628784, 0.6774415969848633, 0.6768386363983154, 0.6606014370918274, 0.6581088304519653, 0.6577036380767822, 0.6577036380767822, 0.6492258310317993, 0.6413235664367676, 0.6413235664367676, 0.618781328201294, 0.6170874834060669, 0.6104680299758911, 0.6095466613769531, 0.5930466651916504, 0.5828021168708801, 0.5796720385551453, 0.5794343948364258, 0.5689815282821655, 0.5553629994392395, 0.5551656484603882, 0.5537230968475342, 0.5485963821411133, 0.546863317489624, 0.541469395160675, 0.5351776480674744, 0.5335707664489746, 0.5275121927261353, 0.8593145608901978, 0.6742010116577148, 0.67411208152771, 0.5799850225448608, 0.5798860788345337, 0.566950798034668, 0.5334177017211914, 0.5260733366012573, 0.520369827747345, 0.4960707128047943, 0.48392510414123535, 0.469679594039917, 0.4611021876335144, 0.4596351981163025, 0.45242685079574585, 0.4316443204879761, 0.430954247713089, 0.4296749532222748, 0.4242172837257385, 0.4156229794025421, 0.41206905245780945, 0.4119431972503662, 0.40919244289398193, 0.402654767036438, 0.40132656693458557, 0.3981991410255432, 0.3981991410255432, 0.3962857127189636, 0.39403235912323, 0.39165443181991577, 0.3909335136413574, 0.3909335136413574, 0.3905472755432129, 0.3875070810317993, 0.3869902491569519, 0.3861373960971832, 0.3859139680862427, 0.3855406939983368, 0.375962495803833, 0.3747824728488922, 0.37476614117622375, 0.7268497943878174, 0.6972393989562988, 0.6623745560646057, 0.5344562530517578, 0.5287858247756958, 0.5287858247756958, 0.5287858247756958, 0.5287858247756958, 0.5287858247756958, 0.5287858247756958, 0.5287858247756958, 0.5287858247756958, 0.5287858247756958, 0.5287858247756958, 0.5287858247756958, 0.5287858247756958, 0.5287858247756958, 0.5287858247756958, 0.5287858247756958, 0.5287858247756958, 0.5287858247756958, 0.5287858247756958, 0.5287858247756958, 0.5287858247756958, 0.5287858247756958, 0.5287858247756958, 0.5287858247756958, 0.5287858247756958, 0.51827073097229, 0.51827073097229, 0.5172765851020813, 0.5172765851020813, 0.4948599934577942, 0.48764586448669434, 0.48764586448669434, 0.48094841837882996, 0.47875261306762695, 0.47720178961753845, 0.4455036520957947, 0.44246283173561096, 0.4364168643951416, 0.8435494899749756, 0.7286987900733948, 0.6715258359909058, 0.6521804332733154, 0.652040421962738, 0.622220516204834, 0.5608949661254883, 0.5588552951812744, 0.5401228666305542, 0.5362141132354736, 0.523771345615387, 0.5118677020072937, 0.5095478892326355, 0.4989641010761261, 0.4979395270347595, 0.49765533208847046, 0.49765533208847046, 0.49765533208847046, 0.488423228263855, 0.4851297438144684, 0.47775787115097046, 0.47775787115097046, 0.47523823380470276, 0.47523823380470276, 0.47305500507354736, 0.4724493622779846, 0.4724493622779846, 0.4724493622779846, 0.4724493622779846, 0.4724493622779846, 0.4724493622779846, 0.4724493622779846, 0.4724493622779846, 0.4724493622779846, 0.4724493622779846, 0.4724493622779846, 0.4724493622779846, 0.4724493622779846, 0.45336610078811646, 0.45184051990509033, 0.44941750168800354, 0.7268497943878174, 0.6972393989562988, 0.6623745560646057, 0.5344562530517578, 0.5287858247756958, 0.5287858247756958, 0.5287858247756958, 0.5287858247756958, 0.5287858247756958, 0.5287858247756958, 0.5287858247756958, 0.5287858247756958, 0.5287858247756958, 0.5287858247756958, 0.5287858247756958, 0.5287858247756958, 0.5287858247756958, 0.5287858247756958, 0.5287858247756958, 0.5287858247756958, 0.5287858247756958, 0.5287858247756958, 0.5287858247756958, 0.5287858247756958, 0.5287858247756958, 0.5287858247756958, 0.5287858247756958, 0.5287858247756958, 0.51827073097229, 0.51827073097229, 0.5172765851020813, 0.5172765851020813, 0.4948599934577942, 0.48764586448669434, 0.48764586448669434, 0.48094841837882996, 0.47875261306762695, 0.47720178961753845, 0.4455036520957947, 0.44246283173561096, 0.4364168643951416, 0.6061959862709045, 0.5786483287811279, 0.5623118281364441, 0.5598239302635193, 0.5598239302635193, 0.5566125512123108, 0.500808596611023, 0.47128480672836304, 0.4626784324645996, 0.4626784324645996, 0.4552198648452759, 0.43087178468704224, 0.42955297231674194, 0.4273398518562317, 0.4053630232810974, 0.39893633127212524, 0.39893633127212524, 0.3857495188713074, 0.3761627674102783, 0.37539681792259216, 0.3701293468475342, 0.36415237188339233, 0.36415237188339233, 0.35649701952934265, 0.35423630475997925, 0.35327377915382385, 0.3519804775714874, 0.3372282385826111, 0.336216002702713, 0.33277010917663574, 0.33277010917663574, 0.33242160081863403, 0.33199113607406616, 0.33199113607406616, 0.3294135332107544, 0.3287271559238434, 0.32320085167884827, 0.321556955575943, 0.31761884689331055, 0.31761884689331055, 0.3174726963043213, 0.2827347218990326, 0.1987365186214447, 0.18903203308582306, 0.18886882066726685, 0.1509871929883957, 0.13723160326480865, 0.11375187337398529, 0.11172442138195038, 0.10601198673248291, 0.10487180948257446, 0.09974207729101181, 0.09080120176076889, 0.09080120176076889, 0.08902113139629364, 0.08799035102128983, 0.08215080201625824, 0.07762820273637772, 0.075727678835392, 0.07429702579975128, 0.07396228611469269, 0.07396228611469269, 0.07159559428691864, 0.07159559428691864, 0.07117418199777603, 0.0700877457857132, 0.06968942284584045, 0.06838593631982803, 0.06632580608129501, 0.06181051582098007, 0.06156338378787041, 0.059959422796964645, 0.0597095787525177, 0.05938803032040596, 0.05938803032040596, 0.058532025665044785, 0.05828636512160301, 0.05710553377866745, 0.056119002401828766, 0.055271267890930176, 0.05364374443888664, 0.051860511302948, 0.3175680637359619, 0.2923096716403961, 0.2787281274795532, 0.2665617763996124, 0.2556858956813812, 0.25382477045059204, 0.2393454611301422, 0.23293107748031616, 0.23293107748031616, 0.22531120479106903, 0.22359037399291992, 0.21753966808319092, 0.20825591683387756, 0.20825591683387756, 0.20429590344429016, 0.19809091091156006, 0.1960725337266922, 0.19425232708454132, 0.19414860010147095, 0.18566051125526428, 0.18550676107406616, 0.18550676107406616, 0.1848735511302948, 0.18295973539352417, 0.18259097635746002, 0.18248239159584045, 0.18132907152175903, 0.18032771348953247, 0.18004396557807922, 0.17550477385520935, 0.1751391738653183, 0.1751391738653183, 0.1747971773147583, 0.17379045486450195, 0.17283576726913452, 0.17239174246788025, 0.17239174246788025, 0.17168019711971283, 0.17168019711971283, 0.17053250968456268, 0.1664247214794159, 0.22795052826404572, 0.20860238373279572, 0.15745386481285095, 0.14186105132102966, 0.1339976042509079, 0.1255900114774704, 0.1123589277267456, 0.10514669120311737, 0.1010543704032898, 0.09867866337299347, 0.09698141366243362, 0.09698141366243362, 0.08585033565759659, 0.08295130729675293, 0.08284392207860947, 0.07815831154584885, 0.07780172675848007, 0.0758075937628746, 0.0745677798986435, 0.06152117997407913, 0.06100473925471306, 0.04259645938873291, 0.04093410074710846, 0.0, 0.0, 0.0, 0.0, 0.0, 0.0, 0.0, 0.0, 0.0, 0.0, 0.0, 0.0, 0.0, 0.0, 0.0, 0.0, 0.0, 0.0, 0.3175680637359619, 0.2923096716403961, 0.2787281274795532, 0.2665617763996124, 0.2556858956813812, 0.25382477045059204, 0.2393454611301422, 0.23293107748031616, 0.23293107748031616, 0.22531120479106903, 0.22359037399291992, 0.21753966808319092, 0.20825591683387756, 0.20825591683387756, 0.20429590344429016, 0.19809091091156006, 0.1960725337266922, 0.19425232708454132, 0.19414860010147095, 0.18566051125526428, 0.18550676107406616, 0.18550676107406616, 0.1848735511302948, 0.18295973539352417, 0.18259097635746002, 0.18248239159584045, 0.18132907152175903, 0.18032771348953247, 0.18004396557807922, 0.17550477385520935, 0.1751391738653183, 0.1751391738653183, 0.1747971773147583, 0.17379045486450195, 0.17283576726913452, 0.17239174246788025, 0.17239174246788025, 0.17168019711971283, 0.17168019711971283, 0.17053250968456268, 0.1664247214794159, 0.6071786880493164, 0.48811033368110657, 0.4444422125816345, 0.4025292694568634, 0.386354923248291, 0.3604292869567871, 0.34716153144836426, 0.3438590168952942, 0.3335590064525604, 0.331750750541687, 0.331750750541687, 0.3176950216293335, 0.30385854840278625, 0.30375972390174866, 0.2956753671169281, 0.2956615388393402, 0.29213747382164, 0.28086531162261963, 0.27840369939804077, 0.2704981863498688, 0.26496705412864685, 0.26149049401283264, 0.25775146484375, 0.25570619106292725, 0.25094738602638245, 0.2354661524295807, 0.2354661524295807, 0.23294273018836975, 0.23175251483917236, 0.22961720824241638, 0.22953763604164124, 0.22429391741752625, 0.21540632843971252, 0.2114885151386261, 0.20674504339694977, 0.20494210720062256, 0.20477686822414398, 0.2015710175037384, 0.19939637184143066, 0.19744136929512024, 0.19361136853694916, 0.7679554224014282, 0.7679554224014282, 0.7678974866867065, 0.7615619897842407, 0.7590591907501221, 0.7590591907501221, 0.7215249538421631, 0.7172646522521973, 0.7013320922851562, 0.6986857652664185, 0.6844941973686218, 0.6817723512649536, 0.6666742563247681, 0.6610997915267944, 0.6577036380767822, 0.6577036380767822, 0.6554909944534302, 0.6510870456695557, 0.6345010995864868, 0.6331675052642822, 0.6321707367897034, 0.6321707367897034, 0.6214909553527832, 0.6154758930206299, 0.5931565761566162, 0.5882426500320435, 0.5805812478065491, 0.5747162103652954, 0.5719053149223328, 0.5386621952056885, 0.5286586284637451, 0.5231298804283142, 0.519873857498169, 0.5188846588134766, 0.5188846588134766, 0.5172991752624512, 0.5061345100402832, 0.5050545930862427, 0.5027800798416138, 0.49966707825660706, 0.49966707825660706, 0.751338005065918, 0.66301429271698, 0.620664119720459, 0.605940580368042, 0.605940580368042, 0.5662403106689453, 0.5655336380004883, 0.5592315196990967, 0.5592315196990967, 0.554509162902832, 0.5366783142089844, 0.5335707664489746, 0.5335707664489746, 0.5328625440597534, 0.5286286473274231, 0.526063084602356, 0.5216585397720337, 0.5196902751922607, 0.5088418126106262, 0.5056626200675964, 0.49379193782806396, 0.48555803298950195, 0.48420676589012146, 0.47717440128326416, 0.4702155888080597, 0.4702155888080597, 0.4680950939655304, 0.45851027965545654, 0.4527909755706787, 0.44840866327285767, 0.4321478307247162, 0.43184277415275574, 0.43161049485206604, 0.42520034313201904, 0.41666504740715027, 0.40664994716644287, 0.40664994716644287, 0.4006841778755188, 0.3969329595565796, 0.3969329595565796, 0.39277634024620056, 0.351857453584671, 0.351857453584671, 0.3314064145088196, 0.3115271329879761, 0.3042582869529724, 0.3042582869529724, 0.301810085773468, 0.2993249297142029, 0.2989618182182312, 0.28831690549850464, 0.28822922706604004, 0.2867221236228943, 0.2856346368789673, 0.2846457064151764, 0.27465176582336426, 0.27345335483551025, 0.2712113857269287, 0.2683117389678955, 0.25903552770614624, 0.2589559555053711, 0.2589559555053711, 0.2589559555053711, 0.2576339840888977, 0.2576339840888977, 0.25709784030914307, 0.2544008493423462, 0.2498542070388794, 0.24365082383155823, 0.2388993799686432, 0.23527410626411438, 0.23527410626411438, 0.2331756055355072, 0.23272332549095154, 0.2326527237892151, 0.23211082816123962, 0.22593487799167633, 0.2258470356464386, 0.2253689169883728, 0.22522185742855072, 0.2250780165195465, 0.22323021292686462, 0.7679554224014282, 0.7679554224014282, 0.7678974866867065, 0.7615619897842407, 0.7590591907501221, 0.7590591907501221, 0.7215249538421631, 0.7172646522521973, 0.7013320922851562, 0.6986857652664185, 0.6844941973686218, 0.6817723512649536, 0.6666742563247681, 0.6610997915267944, 0.6577036380767822, 0.6577036380767822, 0.6554909944534302, 0.6510870456695557, 0.6345010995864868, 0.6331675052642822, 0.6321707367897034, 0.6321707367897034, 0.6214909553527832, 0.6154758930206299, 0.5931565761566162, 0.5882426500320435, 0.5805812478065491, 0.5747162103652954, 0.5719053149223328, 0.5386621952056885, 0.5286586284637451, 0.5231298804283142, 0.519873857498169, 0.5188846588134766, 0.5188846588134766, 0.5172991752624512, 0.5061345100402832, 0.5050545930862427, 0.5027800798416138, 0.49966707825660706, 0.49966707825660706, 0.5914112329483032, 0.5873799920082092, 0.5855448246002197, 0.5855448246002197, 0.5828404426574707, 0.513245701789856, 0.49639493227005005, 0.4784459173679352, 0.47661054134368896, 0.46429669857025146, 0.4383823275566101, 0.4383823275566101, 0.4237877130508423, 0.4237877130508423, 0.4235507845878601, 0.4218447208404541, 0.41023388504981995, 0.41023388504981995, 0.3872956931591034, 0.3872956931591034, 0.3872956931591034, 0.37090903520584106, 0.3700772523880005, 0.3673485517501831, 0.3631633222103119, 0.35886088013648987, 0.35143589973449707, 0.34650447964668274, 0.34650447964668274, 0.3433329463005066, 0.34051379561424255, 0.32097095251083374, 0.3181368112564087, 0.3181368112564087, 0.3117404580116272, 0.30517882108688354, 0.30003419518470764, 0.29864054918289185, 0.29850518703460693, 0.296435683965683, 0.2944053113460541, 0.7772100567817688, 0.7283581495285034, 0.6839131116867065, 0.6804191470146179, 0.676605761051178, 0.6707454919815063, 0.6707454919815063, 0.6488246917724609, 0.6480168700218201, 0.6342516541481018, 0.6275649070739746, 0.6275649070739746, 0.6188374757766724, 0.6021226644515991, 0.6021226644515991, 0.5917623043060303, 0.589209794998169, 0.5877159833908081, 0.5794343948364258, 0.5794343948364258, 0.5710654854774475, 0.5646206140518188, 0.5575200319290161, 0.5529166460037231, 0.5529166460037231, 0.5527286529541016, 0.5510393381118774, 0.5510393381118774, 0.5422318577766418, 0.5345885157585144, 0.5345885157585144, 0.5240854024887085, 0.5198885202407837, 0.5094181299209595, 0.5081449151039124, 0.49772465229034424, 0.4973454177379608, 0.4973454177379608, 0.49581119418144226, 0.4909122884273529, 0.48768526315689087, 0.5914112329483032, 0.5873799920082092, 0.5855448246002197, 0.5855448246002197, 0.5828404426574707, 0.513245701789856, 0.49639493227005005, 0.4784459173679352, 0.47661054134368896, 0.46429669857025146, 0.4383823275566101, 0.4383823275566101, 0.4237877130508423, 0.4237877130508423, 0.4235507845878601, 0.4218447208404541, 0.41023388504981995, 0.41023388504981995, 0.3872956931591034, 0.3872956931591034, 0.3872956931591034, 0.37090903520584106, 0.3700772523880005, 0.3673485517501831, 0.3631633222103119, 0.35886088013648987, 0.35143589973449707, 0.34650447964668274, 0.34650447964668274, 0.3433329463005066, 0.34051379561424255, 0.32097095251083374, 0.3181368112564087, 0.3181368112564087, 0.3117404580116272, 0.30517882108688354, 0.30003419518470764, 0.29864054918289185, 0.29850518703460693, 0.296435683965683, 0.2944053113460541, 0.6315505504608154, 0.6140819191932678, 0.6108705401420593, 0.5992801189422607, 0.5765126943588257, 0.569915771484375, 0.569915771484375, 0.5641289949417114, 0.561998188495636, 0.554793119430542, 0.5466092824935913, 0.5383347272872925, 0.5381056070327759, 0.5302953720092773, 0.5256766080856323, 0.525287926197052, 0.5121374130249023, 0.504474401473999, 0.504474401473999, 0.5014276504516602, 0.49812769889831543, 0.49812769889831543, 0.4955999553203583, 0.4951215982437134, 0.48857581615448, 0.4837801456451416, 0.47098255157470703, 0.46852007508277893, 0.46811240911483765, 0.4613630175590515, 0.4613630175590515, 0.4555765390396118, 0.4524235129356384, 0.4500657916069031, 0.445917546749115, 0.44572949409484863, 0.4443751573562622, 0.44314366579055786, 0.44018521904945374, 0.440166711807251, 0.43737637996673584, 0.704375147819519, 0.6805366277694702, 0.6773262619972229, 0.6773262619972229, 0.6773262619972229, 0.6574493050575256, 0.5925594568252563, 0.5764322280883789, 0.5764322280883789, 0.575053334236145, 0.5698552131652832, 0.5698552131652832, 0.5698552131652832, 0.5619821548461914, 0.5597466230392456, 0.5382659435272217, 0.5377350449562073, 0.5357972979545593, 0.5313236117362976, 0.5313236117362976, 0.5313236117362976, 0.5279549956321716, 0.5181275010108948, 0.49724557995796204, 0.4963350296020508, 0.491608589887619, 0.4872516691684723, 0.47574591636657715, 0.47502440214157104, 0.47300535440444946, 0.4663476347923279, 0.4663476347923279, 0.4531702995300293, 0.4508686661720276, 0.4444241523742676, 0.4444241523742676, 0.44062021374702454, 0.44062021374702454, 0.4350309371948242, 0.4334196448326111, 0.4313674569129944, 0.6217762231826782, 0.55302494764328, 0.542366623878479, 0.542366623878479, 0.542366623878479, 0.5286875367164612, 0.5286875367164612, 0.5229506492614746, 0.5072553157806396, 0.5072553157806396, 0.49151501059532166, 0.47313153743743896, 0.46541303396224976, 0.46511733531951904, 0.4446088373661041, 0.44411396980285645, 0.4307561218738556, 0.4307561218738556, 0.42156851291656494, 0.41997021436691284, 0.41583192348480225, 0.4122299253940582, 0.4110194742679596, 0.40699440240859985, 0.40699440240859985, 0.40554237365722656, 0.4043814241886139, 0.4030686616897583, 0.398825079202652, 0.3885379433631897, 0.387991726398468, 0.3855542242527008, 0.37372177839279175, 0.37372177839279175, 0.37281090021133423, 0.37201637029647827, 0.3708159327507019, 0.3706558048725128, 0.3706558048725128, 0.3706558048725128, 0.3706558048725128, 0.6853331923484802, 0.6410815715789795, 0.6295279860496521, 0.6226587891578674, 0.6056717038154602, 0.5991474986076355, 0.5743032097816467, 0.5743032097816467, 0.5499357581138611, 0.5245925188064575, 0.46164804697036743, 0.46164804697036743, 0.46164804697036743, 0.4580184519290924, 0.452443391084671, 0.44966214895248413, 0.44966214895248413, 0.4452100992202759, 0.4387693405151367, 0.4376067519187927, 0.4376067519187927, 0.4364021420478821, 0.43605780601501465, 0.4351975619792938, 0.4277181029319763, 0.42750000953674316, 0.4271255433559418, 0.4223599135875702, 0.41751644015312195, 0.41535016894340515, 0.41524580121040344, 0.41524580121040344, 0.4106059968471527, 0.4094930589199066, 0.4088175296783447, 0.4088175296783447, 0.40864264965057373, 0.40722012519836426, 0.40722012519836426, 0.4057537317276001, 0.4056963622570038, 0.38652166724205017, 0.38652166724205017, 0.3148207664489746, 0.31005340814590454, 0.3028903603553772, 0.29817888140678406, 0.27635645866394043, 0.27635645866394043, 0.2757601737976074, 0.27569571137428284, 0.2711386978626251, 0.2711386978626251, 0.2670159339904785, 0.26550185680389404, 0.2648279666900635, 0.2642296850681305, 0.26140373945236206, 0.26133546233177185, 0.26133546233177185, 0.26133546233177185, 0.2538816034793854, 0.24815154075622559, 0.24644923210144043, 0.24644923210144043, 0.23891788721084595, 0.2372567355632782, 0.2372567355632782, 0.23690730333328247, 0.23337319493293762, 0.22909845411777496, 0.22853663563728333, 0.22727477550506592, 0.22586268186569214, 0.22509638965129852, 0.2189616709947586, 0.21523213386535645, 0.21523213386535645, 0.21131667494773865, 0.20984652638435364, 0.20984652638435364, 0.2088523805141449, 0.5737910270690918, 0.5658402442932129, 0.500369668006897, 0.500369668006897, 0.4905884563922882, 0.48586946725845337, 0.4705598056316376, 0.46860501170158386, 0.46335822343826294, 0.46156179904937744, 0.45888206362724304, 0.4562852084636688, 0.4508470296859741, 0.4481971263885498, 0.44768503308296204, 0.4398350119590759, 0.42508721351623535, 0.42508721351623535, 0.4186907708644867, 0.41289955377578735, 0.4055931568145752, 0.4016757607460022, 0.400892436504364, 0.39524221420288086, 0.3882386386394501, 0.3881058096885681, 0.38110238313674927, 0.38110238313674927, 0.3748720586299896, 0.3729360103607178, 0.3684972822666168, 0.35778993368148804, 0.356970876455307, 0.3541482388973236, 0.35054081678390503, 0.35054081678390503, 0.350399374961853, 0.3468782305717468, 0.3427702784538269, 0.34096911549568176, 0.3347112536430359, 0.38652166724205017, 0.38652166724205017, 0.3148207664489746, 0.31005340814590454, 0.3028903603553772, 0.29817888140678406, 0.27635645866394043, 0.27635645866394043, 0.2757601737976074, 0.27569571137428284, 0.2711386978626251, 0.2711386978626251, 0.2670159339904785, 0.26550185680389404, 0.2648279666900635, 0.2642296850681305, 0.26140373945236206, 0.26133546233177185, 0.26133546233177185, 0.26133546233177185, 0.2538816034793854, 0.24815154075622559, 0.24644923210144043, 0.24644923210144043, 0.23891788721084595, 0.2372567355632782, 0.2372567355632782, 0.23690730333328247, 0.23337319493293762, 0.22909845411777496, 0.22853663563728333, 0.22727477550506592, 0.22586268186569214, 0.22509638965129852, 0.2189616709947586, 0.21523213386535645, 0.21523213386535645, 0.21131667494773865, 0.20984652638435364, 0.20984652638435364, 0.2088523805141449, 0.632817804813385, 0.5306787490844727, 0.5279891490936279, 0.512640118598938, 0.5115363001823425, 0.5058740377426147, 0.5012233257293701, 0.49357229471206665, 0.4933285415172577, 0.48037463426589966, 0.47997748851776123, 0.4598172903060913, 0.4595080018043518, 0.45064228773117065, 0.44211244583129883, 0.44211244583129883, 0.4353945255279541, 0.4353945255279541, 0.41989248991012573, 0.4196666479110718, 0.41803109645843506, 0.4115102291107178, 0.409170001745224, 0.4048146903514862, 0.4029153883457184, 0.3922632932662964, 0.3880920708179474, 0.38707369565963745, 0.38707369565963745, 0.3773045539855957, 0.3764393627643585, 0.3723970949649811, 0.3723970949649811, 0.3700260818004608, 0.369141548871994, 0.36867108941078186, 0.3684861660003662, 0.3654630780220032, 0.3597598075866699, 0.35843461751937866, 0.3561862111091614, 0.23057201504707336, 0.21107423305511475, 0.2052638828754425, 0.1866859793663025, 0.18546226620674133, 0.18463444709777832, 0.16820062696933746, 0.16340260207653046, 0.16218580305576324, 0.1619696319103241, 0.1619696319103241, 0.15916678309440613, 0.1584310084581375, 0.15681001543998718, 0.15630580484867096, 0.15536724030971527, 0.14805538952350616, 0.13905996084213257, 0.135489359498024, 0.135489359498024, 0.1349974274635315, 0.1349974274635315, 0.13495439291000366, 0.13204975426197052, 0.13052845001220703, 0.12778960168361664, 0.12778960168361664, 0.12778960168361664, 0.12738512456417084, 0.12276864796876907, 0.12184826284646988, 0.12184826284646988, 0.12126287072896957, 0.11922657489776611, 0.11922657489776611, 0.11835597455501556, 0.11835597455501556, 0.11781706660985947, 0.11677317321300507, 0.11649323999881744, 0.11649323999881744, 0.7629227638244629, 0.5203989744186401, 0.5198920965194702, 0.505437970161438, 0.505437970161438, 0.4924151599407196, 0.48265787959098816, 0.4667341709136963, 0.4667341709136963, 0.46279820799827576, 0.4598720073699951, 0.4445718824863434, 0.43425458669662476, 0.4154066741466522, 0.4107205867767334, 0.39951157569885254, 0.39951157569885254, 0.3953177332878113, 0.3942102789878845, 0.3878946900367737, 0.3826325237751007, 0.38153353333473206, 0.38153353333473206, 0.3811306953430176, 0.37646162509918213, 0.37556302547454834, 0.3690892457962036, 0.36769694089889526, 0.3665284812450409, 0.3665284812450409, 0.36214321851730347, 0.35469967126846313, 0.35429146885871887, 0.3526613712310791, 0.3526342511177063, 0.35182327032089233, 0.35083550214767456, 0.35063862800598145, 0.3491051495075226, 0.3469836115837097, 0.344601571559906, 0.23057201504707336, 0.21107423305511475, 0.2052638828754425, 0.1866859793663025, 0.18546226620674133, 0.18463444709777832, 0.16820062696933746, 0.16340260207653046, 0.16218580305576324, 0.1619696319103241, 0.1619696319103241, 0.15916678309440613, 0.1584310084581375, 0.15681001543998718, 0.15630580484867096, 0.15536724030971527, 0.14805538952350616, 0.13905996084213257, 0.135489359498024, 0.135489359498024, 0.1349974274635315, 0.1349974274635315, 0.13495439291000366, 0.13204975426197052, 0.13052845001220703, 0.12778960168361664, 0.12778960168361664, 0.12778960168361664, 0.12738512456417084, 0.12276864796876907, 0.12184826284646988, 0.12184826284646988, 0.12126287072896957, 0.11922657489776611, 0.11922657489776611, 0.11835597455501556, 0.11835597455501556, 0.11781706660985947, 0.11677317321300507, 0.11649323999881744, 0.11649323999881744, 0.7330782413482666, 0.691215991973877, 0.6883246898651123, 0.6203620433807373, 0.6027040481567383, 0.6027040481567383, 0.5992801189422607, 0.5822809934616089, 0.5701134204864502, 0.5639037489891052, 0.5639037489891052, 0.5554741024971008, 0.5549378395080566, 0.550744354724884, 0.5476187467575073, 0.5474739670753479, 0.5376518368721008, 0.5288659930229187, 0.5197804570198059, 0.519258975982666, 0.5163400769233704, 0.5163366794586182, 0.5163366794586182, 0.5156826376914978, 0.5146855711936951, 0.5046376585960388, 0.5033497214317322, 0.5015372037887573, 0.49945068359375, 0.49879783391952515, 0.4909122884273529, 0.48587945103645325, 0.47791969776153564, 0.4775412380695343, 0.4775412380695343, 0.4763772785663605, 0.4754546880722046, 0.47292834520339966, 0.4615379869937897, 0.4546552300453186, 0.45436614751815796, 0.5528984069824219, 0.5158248543739319, 0.4846458435058594, 0.47402292490005493, 0.4687025249004364, 0.46334028244018555, 0.46334028244018555, 0.46334028244018555, 0.45159557461738586, 0.4280449450016022, 0.4279196858406067, 0.4279196858406067, 0.42015326023101807, 0.42015326023101807, 0.4093722105026245, 0.40444639325141907, 0.40262675285339355, 0.39962130784988403, 0.39522311091423035, 0.392259806394577, 0.3913586735725403, 0.39011350274086, 0.38988196849823, 0.3862227201461792, 0.3862227201461792, 0.372132271528244, 0.372132271528244, 0.37192022800445557, 0.37192022800445557, 0.371565043926239, 0.37052565813064575, 0.3684772849082947, 0.36803770065307617, 0.36583757400512695, 0.36583757400512695, 0.36462026834487915, 0.35686641931533813, 0.3545861840248108, 0.3545861840248108, 0.35276514291763306, 0.35276514291763306, 0.5544646978378296, 0.5148324966430664, 0.4730624854564667, 0.46765032410621643, 0.46765032410621643, 0.46765032410621643, 0.4294411540031433, 0.4292469322681427, 0.4292469322681427, 0.42819511890411377, 0.4202917218208313, 0.4202917218208313, 0.4143385887145996, 0.4139348864555359, 0.40783584117889404, 0.40412771701812744, 0.3990303874015808, 0.395264595746994, 0.39375877380371094, 0.39375877380371094, 0.3928176164627075, 0.3924216330051422, 0.3922516703605652, 0.3913354277610779, 0.3893480896949768, 0.3874206244945526, 0.3874206244945526, 0.38736799359321594, 0.374500036239624, 0.3739723563194275, 0.3694559931755066, 0.3694559931755066, 0.3690302073955536, 0.368295818567276, 0.368295818567276, 0.36664915084838867, 0.363598495721817, 0.3599778115749359, 0.35376179218292236, 0.3505512475967407, 0.34069347381591797, 0.6987080574035645, 0.6987080574035645, 0.6987080574035645, 0.6987080574035645, 0.6987080574035645, 0.6987080574035645, 0.6987080574035645, 0.6987080574035645, 0.6987080574035645, 0.6939475536346436, 0.6505321860313416, 0.6350376605987549, 0.6350376605987549, 0.6296482086181641, 0.6028432250022888, 0.598733127117157, 0.5908045768737793, 0.5866604447364807, 0.5863635540008545, 0.5838742256164551, 0.5838742256164551, 0.5301421880722046, 0.5267322063446045, 0.5022441744804382, 0.4958440661430359, 0.4820404648780823, 0.4799078702926636, 0.4799078702926636, 0.4799078702926636, 0.4799078702926636, 0.4799078702926636, 0.4793094992637634, 0.47812461853027344, 0.4695015251636505, 0.46304166316986084, 0.4503413438796997, 0.42755818367004395, 0.42579683661460876, 0.41014665365219116, 0.40995025634765625, 0.4010009467601776, 0.6043860912322998, 0.5638601779937744, 0.530384361743927, 0.530384361743927, 0.5123496055603027, 0.506488025188446, 0.506488025188446, 0.506488025188446, 0.4787132143974304, 0.47139599919319153, 0.46916329860687256, 0.4679058790206909, 0.46776893734931946, 0.46776893734931946, 0.45182016491889954, 0.4474942982196808, 0.44551950693130493, 0.44210973381996155, 0.4401206970214844, 0.43202757835388184, 0.42878830432891846, 0.42848682403564453, 0.42780324816703796, 0.4261890649795532, 0.42218899726867676, 0.42218899726867676, 0.40678641200065613, 0.40678641200065613, 0.406554639339447, 0.406554639339447, 0.4061663746833801, 0.40503019094467163, 0.4044465124607086, 0.4027910530567169, 0.4023106098175049, 0.3985748589038849, 0.3856157660484314, 0.3856157660484314, 0.3841699957847595, 0.3796640634536743, 0.3720262050628662, 0.6704142689704895, 0.620211124420166, 0.6116882562637329, 0.592720627784729, 0.5541536211967468, 0.5124638080596924, 0.5124638080596924, 0.48956725001335144, 0.48588818311691284, 0.4608970880508423, 0.45938974618911743, 0.45938974618911743, 0.4568517208099365, 0.4503959119319916, 0.44701671600341797, 0.44376829266548157, 0.4328973591327667, 0.4319995045661926, 0.4315350353717804, 0.42734965682029724, 0.42414411902427673, 0.4191970229148865, 0.4175911247730255, 0.41193094849586487, 0.41193094849586487, 0.41147446632385254, 0.41147446632385254, 0.4103829562664032, 0.39917612075805664, 0.3973541259765625, 0.39721423387527466, 0.3933623731136322, 0.387462317943573, 0.38603124022483826, 0.38514402508735657, 0.3812623620033264, 0.3764461874961853, 0.3637545108795166, 0.36217278242111206, 0.3579818308353424, 0.3557586967945099, 0.7479240894317627, 0.6552239060401917, 0.6442965269088745, 0.5702835321426392, 0.552962064743042, 0.5396958589553833, 0.524148166179657, 0.4979395270347595, 0.49226510524749756, 0.4885646104812622, 0.4885646104812622, 0.4795994162559509, 0.47568199038505554, 0.4578816890716553, 0.4483136832714081, 0.439851313829422, 0.421216756105423, 0.41711050271987915, 0.41213637590408325, 0.4019167423248291, 0.4019167423248291, 0.4019167423248291, 0.3972519040107727, 0.397209495306015, 0.38912731409072876, 0.3883516788482666, 0.3847224712371826, 0.38346779346466064, 0.38155990839004517, 0.38155990839004517, 0.38155990839004517, 0.38155990839004517, 0.38155990839004517, 0.38155990839004517, 0.38155990839004517, 0.38155990839004517, 0.38155990839004517, 0.38155990839004517, 0.38155990839004517, 0.38155990839004517, 0.38155990839004517, 0.6704142689704895, 0.620211124420166, 0.6116882562637329, 0.592720627784729, 0.5541536211967468, 0.5124638080596924, 0.5124638080596924, 0.48956725001335144, 0.48588818311691284, 0.4608970880508423, 0.45938974618911743, 0.45938974618911743, 0.4568517208099365, 0.4503959119319916, 0.44701671600341797, 0.44376829266548157, 0.4328973591327667, 0.4319995045661926, 0.4315350353717804, 0.42734965682029724, 0.42414411902427673, 0.4191970229148865, 0.4175911247730255, 0.41193094849586487, 0.41193094849586487, 0.41147446632385254, 0.41147446632385254, 0.4103829562664032, 0.39917612075805664, 0.3973541259765625, 0.39721423387527466, 0.3933623731136322, 0.387462317943573, 0.38603124022483826, 0.38514402508735657, 0.3812623620033264, 0.3764461874961853, 0.3637545108795166, 0.36217278242111206, 0.3579818308353424, 0.3557586967945099, 0.5336573719978333, 0.43371129035949707, 0.4099513590335846, 0.4029468297958374, 0.387281596660614, 0.3747898042201996, 0.3725747764110565, 0.3701108694076538, 0.3609943985939026, 0.3552555441856384, 0.35513272881507874, 0.3510877192020416, 0.3345617651939392, 0.3340635597705841, 0.32976120710372925, 0.3274996876716614, 0.31434595584869385, 0.31092745065689087, 0.3056955933570862, 0.3023366630077362, 0.2984188199043274, 0.2984188199043274, 0.2981070280075073, 0.29671433568000793, 0.29466941952705383, 0.294634610414505, 0.29214900732040405, 0.2899084687232971, 0.28960615396499634, 0.2894390821456909, 0.2889665961265564, 0.286285936832428, 0.28522276878356934, 0.2850914001464844, 0.284909725189209, 0.2843834459781647, 0.2790578007698059, 0.27807846665382385, 0.27694857120513916, 0.27694857120513916, 0.27143579721450806, 0.8792834281921387, 0.8741194605827332, 0.8741194605827332, 0.8741194605827332, 0.8741194605827332, 0.8741194605827332, 0.8741194605827332, 0.8741194605827332, 0.8741194605827332, 0.8741194605827332, 0.8741194605827332, 0.8741194605827332, 0.8741194605827332, 0.8741194605827332, 0.8689475655555725, 0.8429816961288452, 0.8429816961288452, 0.8429816961288452, 0.8232541084289551, 0.8232541084289551, 0.8166604042053223, 0.7978775501251221, 0.7978775501251221, 0.782153844833374, 0.7516495585441589, 0.7021260261535645, 0.6653758883476257, 0.6308501362800598, 0.6175222992897034, 0.5974928736686707, 0.5883733034133911, 0.5733506679534912, 0.5608038306236267, 0.5406888723373413, 0.5257806777954102, 0.5104045867919922, 0.4960249662399292, 0.49390119314193726, 0.4918212592601776, 0.4918212592601776, 0.48640692234039307, 0.6191207766532898, 0.6191207766532898, 0.5065270662307739, 0.4428725242614746, 0.432294636964798, 0.4227655231952667, 0.3966551721096039, 0.3966551721096039, 0.3901820182800293, 0.3872745931148529, 0.3667151927947998, 0.3489834666252136, 0.33921343088150024, 0.3369881212711334, 0.3369881212711334, 0.33495745062828064, 0.3260155916213989, 0.32490041851997375, 0.32345709204673767, 0.3230076730251312, 0.3230076730251312, 0.31963348388671875, 0.31740617752075195, 0.31161463260650635, 0.30955755710601807, 0.3039615750312805, 0.29717838764190674, 0.29717838764190674, 0.2951403558254242, 0.2897181808948517, 0.28887951374053955, 0.28865477442741394, 0.28560635447502136, 0.27888208627700806, 0.27080002427101135, 0.2703847289085388, 0.26531898975372314, 0.25510621070861816, 0.25510621070861816, 0.25510621070861816, 0.24641680717468262, 0.671932578086853, 0.671932578086853, 0.671932578086853, 0.6393064260482788, 0.6171028017997742, 0.5966613292694092, 0.5966613292694092, 0.5966613292694092, 0.5858703851699829, 0.5769952535629272, 0.5735686421394348, 0.5536295175552368, 0.5489581227302551, 0.5456032752990723, 0.5447999238967896, 0.5268079042434692, 0.5261547565460205, 0.5179108381271362, 0.47979259490966797, 0.47979259490966797, 0.4671216607093811, 0.46554771065711975, 0.46402135491371155, 0.4612697958946228, 0.45204538106918335, 0.45204538106918335, 0.44794076681137085, 0.44396910071372986, 0.4434715509414673, 0.4307169020175934, 0.4307169020175934, 0.4307169020175934, 0.4307169020175934, 0.4283427596092224, 0.4262499213218689, 0.42581653594970703, 0.42314478754997253, 0.41892150044441223, 0.4122880697250366, 0.4118790030479431, 0.40779179334640503, 0.7182213664054871, 0.7182213664054871, 0.7182213664054871, 0.6871287822723389, 0.6377647519111633, 0.6377647519111633, 0.6377647519111633, 0.5917685031890869, 0.5858621001243591, 0.5624010562896729, 0.5434674620628357, 0.5434674620628357, 0.5401483774185181, 0.5196938514709473, 0.5103603601455688, 0.505449652671814, 0.5024617314338684, 0.5024584531784058, 0.4993012547492981, 0.49808192253112793, 0.49808192253112793, 0.49808192253112793, 0.49304625391960144, 0.48505493998527527, 0.4809921383857727, 0.47915318608283997, 0.4787634611129761, 0.474021852016449, 0.46792736649513245, 0.4663476347923279, 0.4551506042480469, 0.4477806091308594, 0.4375235438346863, 0.43588414788246155, 0.4347621500492096, 0.4347621500492096, 0.4328134059906006, 0.4328134059906006, 0.42639392614364624, 0.4261667728424072, 0.42098385095596313, 1.0, 0.8745996952056885, 0.8745996952056885, 0.8745996952056885, 0.4910793602466583, 0.41481471061706543, 0.4104619026184082, 0.40435054898262024, 0.40435054898262024, 0.4007968008518219, 0.3958413600921631, 0.3762838542461395, 0.3734525144100189, 0.3542892336845398, 0.351016104221344, 0.34303951263427734, 0.3029131293296814, 0.29492512345314026, 0.29492512345314026, 0.29492512345314026, 0.29492512345314026, 0.29492512345314026, 0.29492512345314026, 0.29492512345314026, 0.29492512345314026, 0.29492512345314026, 0.29492512345314026, 0.29492512345314026, 0.29492512345314026, 0.29492512345314026, 0.29492512345314026, 0.29492512345314026, 0.29492512345314026, 0.29492512345314026, 0.29492512345314026, 0.2942807078361511, 0.2908933162689209, 0.28423643112182617, 0.2730221450328827, 0.272922545671463, 0.2723504900932312, 0.671932578086853, 0.671932578086853, 0.671932578086853, 0.6393064260482788, 0.6171028017997742, 0.5966613292694092, 0.5966613292694092, 0.5966613292694092, 0.5858703851699829, 0.5769952535629272, 0.5735686421394348, 0.5536295175552368, 0.5489581227302551, 0.5456032752990723, 0.5447999238967896, 0.5268079042434692, 0.5261547565460205, 0.5179108381271362, 0.47979259490966797, 0.47979259490966797, 0.4671216607093811, 0.46554771065711975, 0.46402135491371155, 0.4612697958946228, 0.45204538106918335, 0.45204538106918335, 0.44794076681137085, 0.44396910071372986, 0.4434715509414673, 0.4307169020175934, 0.4307169020175934, 0.4307169020175934, 0.4307169020175934, 0.4283427596092224, 0.4262499213218689, 0.42581653594970703, 0.42314478754997253, 0.41892150044441223, 0.4122880697250366, 0.4118790030479431, 0.40779179334640503, 0.671932578086853, 0.671932578086853, 0.671932578086853, 0.6393064260482788, 0.6171028017997742, 0.5966613292694092, 0.5966613292694092, 0.5966613292694092, 0.5858703851699829, 0.5769952535629272, 0.5735686421394348, 0.5536295175552368, 0.5489581227302551, 0.5456032752990723, 0.5447999238967896, 0.5268079042434692, 0.5261547565460205, 0.5179108381271362, 0.47979259490966797, 0.47979259490966797, 0.4671216607093811, 0.46554771065711975, 0.46402135491371155, 0.4612697958946228, 0.45204538106918335, 0.45204538106918335, 0.44794076681137085, 0.44396910071372986, 0.4434715509414673, 0.4307169020175934, 0.4307169020175934, 0.4307169020175934, 0.4307169020175934, 0.4283427596092224, 0.4262499213218689, 0.42581653594970703, 0.42314478754997253, 0.41892150044441223, 0.4122880697250366, 0.4118790030479431, 0.40779179334640503, 0.7182213664054871, 0.7182213664054871, 0.7182213664054871, 0.6871287822723389, 0.6377647519111633, 0.6377647519111633, 0.6377647519111633, 0.5917685031890869, 0.5858621001243591, 0.5624010562896729, 0.5434674620628357, 0.5434674620628357, 0.5401483774185181, 0.5196938514709473, 0.5103603601455688, 0.505449652671814, 0.5024617314338684, 0.5024584531784058, 0.4993012547492981, 0.49808192253112793, 0.49808192253112793, 0.49808192253112793, 0.49304625391960144, 0.48505493998527527, 0.4809921383857727, 0.47915318608283997, 0.4787634611129761, 0.474021852016449, 0.46792736649513245, 0.4663476347923279, 0.4551506042480469, 0.4477806091308594, 0.4375235438346863, 0.43588414788246155, 0.4347621500492096, 0.4347621500492096, 0.4328134059906006, 0.4328134059906006, 0.42639392614364624, 0.4261667728424072, 0.42098385095596313, 1.0, 0.8745996952056885, 0.8745996952056885, 0.8745996952056885, 0.4910793602466583, 0.41481471061706543, 0.4104619026184082, 0.40435054898262024, 0.40435054898262024, 0.4007968008518219, 0.3958413600921631, 0.3762838542461395, 0.3734525144100189, 0.3542892336845398, 0.351016104221344, 0.34303951263427734, 0.3029131293296814, 0.29492512345314026, 0.29492512345314026, 0.29492512345314026, 0.29492512345314026, 0.29492512345314026, 0.29492512345314026, 0.29492512345314026, 0.29492512345314026, 0.29492512345314026, 0.29492512345314026, 0.29492512345314026, 0.29492512345314026, 0.29492512345314026, 0.29492512345314026, 0.29492512345314026, 0.29492512345314026, 0.29492512345314026, 0.29492512345314026, 0.2942807078361511, 0.2908933162689209, 0.28423643112182617, 0.2730221450328827, 0.272922545671463, 0.2723504900932312, 0.671932578086853, 0.671932578086853, 0.671932578086853, 0.6393064260482788, 0.6171028017997742, 0.5966613292694092, 0.5966613292694092, 0.5966613292694092, 0.5858703851699829, 0.5769952535629272, 0.5735686421394348, 0.5536295175552368, 0.5489581227302551, 0.5456032752990723, 0.5447999238967896, 0.5268079042434692, 0.5261547565460205, 0.5179108381271362, 0.47979259490966797, 0.47979259490966797, 0.4671216607093811, 0.46554771065711975, 0.46402135491371155, 0.4612697958946228, 0.45204538106918335, 0.45204538106918335, 0.44794076681137085, 0.44396910071372986, 0.4434715509414673, 0.4307169020175934, 0.4307169020175934, 0.4307169020175934, 0.4307169020175934, 0.4283427596092224, 0.4262499213218689, 0.42581653594970703, 0.42314478754997253, 0.41892150044441223, 0.4122880697250366, 0.4118790030479431, 0.40779179334640503, 0.6279834508895874, 0.6279834508895874, 0.5206419825553894, 0.5099194049835205, 0.5012468695640564, 0.47898828983306885, 0.47467702627182007, 0.47025254368782043, 0.47025254368782043, 0.4638475775718689, 0.4591386318206787, 0.45862483978271484, 0.44122403860092163, 0.4386751651763916, 0.4386751651763916, 0.4364922344684601, 0.4311050772666931, 0.42996108531951904, 0.42996108531951904, 0.4221450388431549, 0.41933345794677734, 0.4173918664455414, 0.41194748878479004, 0.41194748878479004, 0.40288183093070984, 0.39641278982162476, 0.3932174742221832, 0.3932174742221832, 0.3924599587917328, 0.3894571363925934, 0.38828566670417786, 0.38816213607788086, 0.38816213607788086, 0.3841068744659424, 0.38051754236221313, 0.37989306449890137, 0.37516772747039795, 0.3749164640903473, 0.37436434626579285, 0.3725411891937256, 0.372050940990448, 0.5862755179405212, 0.5433451533317566, 0.5433451533317566, 0.5393708348274231, 0.5345160961151123, 0.5223214626312256, 0.5170189142227173, 0.5164402723312378, 0.4915176033973694, 0.4841631352901459, 0.4841631352901459, 0.4721957743167877, 0.4700094163417816, 0.46387869119644165, 0.46387869119644165, 0.4536702036857605, 0.44971388578414917, 0.44971388578414917, 0.44638562202453613, 0.4427875280380249, 0.4427875280380249, 0.4419345259666443, 0.43723398447036743, 0.43709489703178406, 0.43709489703178406, 0.4352526366710663, 0.43252843618392944, 0.42778342962265015, 0.4248931407928467, 0.4224624037742615, 0.4215576946735382, 0.41950470209121704, 0.41895267367362976, 0.41895267367362976, 0.4176899492740631, 0.4176899492740631, 0.41468310356140137, 0.4142822027206421, 0.4142822027206421, 0.4128388464450836, 0.4109843969345093, 1.0, 1.0, 1.0, 1.0, 1.0, 1.0, 1.0, 1.0, 1.0, 1.0, 1.0, 1.0, 1.0, 1.0, 1.0, 1.0, 1.0, 1.0, 1.0, 1.0, 1.0, 1.0, 0.9095335006713867, 0.9024481177330017, 0.8536015152931213, 0.8425029516220093, 0.7670515179634094, 0.75681471824646, 0.748068630695343, 0.674162745475769, 0.674162745475769, 0.659228503704071, 0.6569257378578186, 0.6569257378578186, 0.64683598279953, 0.64683598279953, 0.6460682153701782, 0.634152889251709, 0.6250115633010864, 0.6217115521430969, 0.6034641265869141, 0.6306212544441223, 0.6306212544441223, 0.5253084897994995, 0.5095118880271912, 0.5075432062149048, 0.4908892512321472, 0.4908892512321472, 0.4794307053089142, 0.4794307053089142, 0.4719527065753937, 0.4693381190299988, 0.4692791998386383, 0.46351292729377747, 0.4529363811016083, 0.4473446011543274, 0.44630196690559387, 0.4387625753879547, 0.4386386275291443, 0.4386386275291443, 0.43800088763237, 0.4336804449558258, 0.4322941303253174, 0.43218550086021423, 0.43218550086021423, 0.43131303787231445, 0.42358505725860596, 0.4174671769142151, 0.4174671769142151, 0.41390344500541687, 0.41390344500541687, 0.41241684556007385, 0.4035681486129761, 0.40262770652770996, 0.40188026428222656, 0.40188026428222656, 0.4014492928981781, 0.40112799406051636, 0.39808446168899536, 0.3978121876716614, 0.3975904583930969, 0.39652612805366516, 0.6279834508895874, 0.6279834508895874, 0.5206419825553894, 0.5099194049835205, 0.5012468695640564, 0.47898828983306885, 0.47467702627182007, 0.47025254368782043, 0.47025254368782043, 0.4638475775718689, 0.4591386318206787, 0.45862483978271484, 0.44122403860092163, 0.4386751651763916, 0.4386751651763916, 0.4364922344684601, 0.4311050772666931, 0.42996108531951904, 0.42996108531951904, 0.4221450388431549, 0.41933345794677734, 0.4173918664455414, 0.41194748878479004, 0.41194748878479004, 0.40288183093070984, 0.39641278982162476, 0.3932174742221832, 0.3932174742221832, 0.3924599587917328, 0.3894571363925934, 0.38828566670417786, 0.38816213607788086, 0.38816213607788086, 0.3841068744659424, 0.38051754236221313, 0.37989306449890137, 0.37516772747039795, 0.3749164640903473, 0.37436434626579285, 0.3725411891937256, 0.372050940990448, 0.5862755179405212, 0.5433451533317566, 0.5433451533317566, 0.5393708348274231, 0.5345160961151123, 0.5223214626312256, 0.5170189142227173, 0.5164402723312378, 0.4915176033973694, 0.4841631352901459, 0.4841631352901459, 0.4721957743167877, 0.4700094163417816, 0.46387869119644165, 0.46387869119644165, 0.4536702036857605, 0.44971388578414917, 0.44971388578414917, 0.44638562202453613, 0.4427875280380249, 0.4427875280380249, 0.4419345259666443, 0.43723398447036743, 0.43709489703178406, 0.43709489703178406, 0.4352526366710663, 0.43252843618392944, 0.42778342962265015, 0.4248931407928467, 0.4224624037742615, 0.4215576946735382, 0.41950470209121704, 0.41895267367362976, 0.41895267367362976, 0.4176899492740631, 0.4176899492740631, 0.41468310356140137, 0.4142822027206421, 0.4142822027206421, 0.4128388464450836, 0.4109843969345093, 1.0, 1.0, 1.0, 1.0, 1.0, 1.0, 1.0, 1.0, 1.0, 1.0, 1.0, 1.0, 1.0, 1.0, 1.0, 1.0, 1.0, 1.0, 1.0, 1.0, 1.0, 1.0, 0.9095335006713867, 0.9024481177330017, 0.8536015152931213, 0.8425029516220093, 0.7670515179634094, 0.75681471824646, 0.748068630695343, 0.674162745475769, 0.674162745475769, 0.659228503704071, 0.6569257378578186, 0.6569257378578186, 0.64683598279953, 0.64683598279953, 0.6460682153701782, 0.634152889251709, 0.6250115633010864, 0.6217115521430969, 0.6034641265869141, 0.6306212544441223, 0.6306212544441223, 0.5253084897994995, 0.5095118880271912, 0.5075432062149048, 0.4908892512321472, 0.4908892512321472, 0.4794307053089142, 0.4794307053089142, 0.4719527065753937, 0.4693381190299988, 0.4692791998386383, 0.46351292729377747, 0.4529363811016083, 0.4473446011543274, 0.44630196690559387, 0.4387625753879547, 0.4386386275291443, 0.4386386275291443, 0.43800088763237, 0.4336804449558258, 0.4322941303253174, 0.43218550086021423, 0.43218550086021423, 0.43131303787231445, 0.42358505725860596, 0.4174671769142151, 0.4174671769142151, 0.41390344500541687, 0.41390344500541687, 0.41241684556007385, 0.4035681486129761, 0.40262770652770996, 0.40188026428222656, 0.40188026428222656, 0.4014492928981781, 0.40112799406051636, 0.39808446168899536, 0.3978121876716614, 0.3975904583930969, 0.39652612805366516, 0.737364649772644, 0.6856377124786377, 0.6807243824005127, 0.6258062124252319, 0.6197243928909302, 0.5986068844795227, 0.5887744426727295, 0.5844902396202087, 0.5658991932868958, 0.5608199834823608, 0.5578850507736206, 0.5504027605056763, 0.5504027605056763, 0.5456111431121826, 0.5434761047363281, 0.5396714806556702, 0.5316352844238281, 0.5292213559150696, 0.5292213559150696, 0.5280030965805054, 0.5274408459663391, 0.5147883892059326, 0.5088578462600708, 0.502236008644104, 0.49976325035095215, 0.49323323369026184, 0.4904083013534546, 0.4903082847595215, 0.48572662472724915, 0.48196130990982056, 0.4781475365161896, 0.47661256790161133, 0.47118818759918213, 0.46881192922592163, 0.46881192922592163, 0.4681583046913147, 0.45756080746650696, 0.4567776322364807, 0.45536768436431885, 0.4541735053062439, 0.44636300206184387, 0.7474547028541565, 0.7196893692016602, 0.6929893493652344, 0.6298415660858154, 0.6102272272109985, 0.6096609234809875, 0.5883573293685913, 0.5814591646194458, 0.5665484070777893, 0.5665484070777893, 0.5657106041908264, 0.5652443170547485, 0.5512853860855103, 0.551243007183075, 0.551243007183075, 0.5209566354751587, 0.5180035829544067, 0.51166832447052, 0.5110658407211304, 0.504466712474823, 0.5038484930992126, 0.4934786856174469, 0.4837649464607239, 0.4795965552330017, 0.46601027250289917, 0.4604248106479645, 0.4493599534034729, 0.44239121675491333, 0.4420662224292755, 0.43998798727989197, 0.4360671639442444, 0.435616135597229, 0.4314862787723541, 0.42800766229629517, 0.4155239462852478, 0.4140353798866272, 0.4140353798866272, 0.4106448292732239, 0.41032856702804565, 0.4016154408454895, 0.400574266910553, 0.3792485296726227, 0.31894826889038086, 0.3140823245048523, 0.29201796650886536, 0.26857075095176697, 0.25151771306991577, 0.23256291449069977, 0.2168668955564499, 0.2125067114830017, 0.21118904650211334, 0.20237432420253754, 0.20044584572315216, 0.19859611988067627, 0.19859611988067627, 0.19859611988067627, 0.19755256175994873, 0.19755256175994873, 0.1970614194869995, 0.19290316104888916, 0.18987980484962463, 0.18987980484962463, 0.1887873113155365, 0.18738681077957153, 0.18738681077957153, 0.18699100613594055, 0.1847667396068573, 0.1847667396068573, 0.1847667396068573, 0.18447482585906982, 0.1834850311279297, 0.182241290807724, 0.182241290807724, 0.1812528520822525, 0.1812528520822525, 0.17970117926597595, 0.1758720576763153, 0.17377859354019165, 0.17376768589019775, 0.17376768589019775, 0.17147210240364075, 0.1705714464187622, 0.8206833600997925, 0.7393083572387695, 0.7162809371948242, 0.6874449253082275, 0.6274558305740356, 0.6001847982406616, 0.5992171168327332, 0.5903264284133911, 0.5724213123321533, 0.5631599426269531, 0.5631599426269531, 0.5622982978820801, 0.5618636608123779, 0.554704487323761, 0.5532786250114441, 0.5518535375595093, 0.5518535375595093, 0.551203727722168, 0.5223746299743652, 0.5171048641204834, 0.5134316682815552, 0.5115529894828796, 0.5101991891860962, 0.503559947013855, 0.49240222573280334, 0.49170100688934326, 0.4916427731513977, 0.48717638850212097, 0.48717638850212097, 0.47786885499954224, 0.4688085913658142, 0.46170175075531006, 0.4587669372558594, 0.45189887285232544, 0.44668346643447876, 0.44336122274398804, 0.44307875633239746, 0.44218409061431885, 0.43709108233451843, 0.43302154541015625, 0.42646583914756775, 0.24456310272216797, 0.23146003484725952, 0.22680674493312836, 0.2264869213104248, 0.19128981232643127, 0.1868109405040741, 0.1863347440958023, 0.1800130009651184, 0.1753763109445572, 0.16536007821559906, 0.16278229653835297, 0.16173696517944336, 0.16103710234165192, 0.16008421778678894, 0.16006876528263092, 0.15826131403446198, 0.15705834329128265, 0.1550084948539734, 0.1519615650177002, 0.14757098257541656, 0.14757098257541656, 0.14701978862285614, 0.14646384119987488, 0.14633798599243164, 0.14515243470668793, 0.14515243470668793, 0.1430828720331192, 0.1430828720331192, 0.14139702916145325, 0.13983801007270813, 0.13526153564453125, 0.13249656558036804, 0.1310960352420807, 0.12376528233289719, 0.12336698919534683, 0.12336698919534683, 0.12336698919534683, 0.12245285511016846, 0.1218218058347702, 0.12062160670757294, 0.11728373169898987, 0.24456310272216797, 0.23146003484725952, 0.22680674493312836, 0.2264869213104248, 0.19128981232643127, 0.1868109405040741, 0.1863347440958023, 0.1800130009651184, 0.1753763109445572, 0.16536007821559906, 0.16278229653835297, 0.16173696517944336, 0.16103710234165192, 0.16008421778678894, 0.16006876528263092, 0.15826131403446198, 0.15705834329128265, 0.1550084948539734, 0.1519615650177002, 0.14757098257541656, 0.14757098257541656, 0.14701978862285614, 0.14646384119987488, 0.14633798599243164, 0.14515243470668793, 0.14515243470668793, 0.1430828720331192, 0.1430828720331192, 0.14139702916145325, 0.13983801007270813, 0.13526153564453125, 0.13249656558036804, 0.1310960352420807, 0.12376528233289719, 0.12336698919534683, 0.12336698919534683, 0.12336698919534683, 0.12245285511016846, 0.1218218058347702, 0.12062160670757294, 0.11728373169898987, 0.317653089761734, 0.24966378509998322, 0.24537532031536102, 0.23058687150478363, 0.22242861986160278, 0.2061278074979782, 0.20271210372447968, 0.190054789185524, 0.1879773586988449, 0.1723746359348297, 0.1701085865497589, 0.16428962349891663, 0.16369330883026123, 0.16064108908176422, 0.1562364250421524, 0.15405969321727753, 0.1365540623664856, 0.12434039264917374, 0.12133806943893433, 0.12111300975084305, 0.11724155396223068, 0.10528253018856049, 0.10166346281766891, 0.09988083690404892, 0.09955473989248276, 0.09676356613636017, 0.09662500023841858, 0.09280730038881302, 0.09150487184524536, 0.08704548329114914, 0.0826367512345314, 0.08026009798049927, 0.08004599809646606, 0.0783180445432663, 0.07315666228532791, 0.07296130806207657, 0.06920624524354935, 0.06920624524354935, 0.06920624524354935, 0.06734324991703033, 0.06558305025100708, 0.338773250579834, 0.338773250579834, 0.29357099533081055, 0.29105597734451294, 0.28378134965896606, 0.27970314025878906, 0.2735859453678131, 0.259429931640625, 0.2513759732246399, 0.2467629313468933, 0.2455277442932129, 0.24175947904586792, 0.23630474507808685, 0.23502139747142792, 0.22563976049423218, 0.22061868011951447, 0.21877525746822357, 0.2136528640985489, 0.21310824155807495, 0.20374876260757446, 0.20269396901130676, 0.19760841131210327, 0.1906907558441162, 0.18675276637077332, 0.18638651072978973, 0.18541952967643738, 0.182901069521904, 0.1796252578496933, 0.17791301012039185, 0.17710575461387634, 0.1733042448759079, 0.17271600663661957, 0.17271600663661957, 0.17040322721004486, 0.16951172053813934, 0.1681443303823471, 0.16663594543933868, 0.16600866615772247, 0.16600866615772247, 0.16596916317939758, 0.1632896214723587, 0.7866190671920776, 0.7133381962776184, 0.6981043815612793, 0.6733853220939636, 0.6666489839553833, 0.6545921564102173, 0.6539875268936157, 0.6490747332572937, 0.641728401184082, 0.6415983438491821, 0.639742374420166, 0.6388681530952454, 0.6260939240455627, 0.6260939240455627, 0.6126535534858704, 0.6126535534858704, 0.6118224263191223, 0.6079457402229309, 0.6026312708854675, 0.6016228795051575, 0.6012780070304871, 0.5873797535896301, 0.5866140723228455, 0.5853281617164612, 0.5853281617164612, 0.5842463374137878, 0.5808154344558716, 0.5756494402885437, 0.5746161937713623, 0.5746161937713623, 0.5742497444152832, 0.5742497444152832, 0.5742497444152832, 0.5742497444152832, 0.5736681818962097, 0.5736681818962097, 0.5711235404014587, 0.5709004402160645, 0.5709004402160645, 0.5643946528434753, 0.562434196472168, 0.7403305768966675, 0.6340477466583252, 0.6223862171173096, 0.621105432510376, 0.6084280610084534, 0.604028582572937, 0.604028582572937, 0.5875296592712402, 0.556082546710968, 0.5553728342056274, 0.5521036386489868, 0.5481326580047607, 0.5336582064628601, 0.5221640467643738, 0.5221640467643738, 0.5027503967285156, 0.5002155303955078, 0.49924135208129883, 0.4955741763114929, 0.4908908009529114, 0.48404181003570557, 0.4749619960784912, 0.4708971381187439, 0.463274747133255, 0.45481443405151367, 0.43160244822502136, 0.4270641505718231, 0.41762781143188477, 0.41647475957870483, 0.38684603571891785, 0.369444876909256, 0.3674931526184082, 0.3674931526184082, 0.359231173992157, 0.3445079028606415, 0.3425499200820923, 0.3419404625892639, 0.33851158618927, 0.33530449867248535, 0.3249567747116089, 0.3118324279785156, 0.7004281282424927, 0.6843189597129822, 0.6818827390670776, 0.6670782566070557, 0.6654332876205444, 0.6566680073738098, 0.6378693580627441, 0.6344571709632874, 0.5642497539520264, 0.5369308590888977, 0.5369308590888977, 0.5173803567886353, 0.509488582611084, 0.49795693159103394, 0.4933740794658661, 0.4876161813735962, 0.4850877523422241, 0.4850877523422241, 0.4850877523422241, 0.48472851514816284, 0.48472851514816284, 0.48472851514816284, 0.47777384519577026, 0.47157225012779236, 0.46945297718048096, 0.469338059425354, 0.469338059425354, 0.46872591972351074, 0.46181172132492065, 0.45532482862472534, 0.45532482862472534, 0.44467437267303467, 0.4446500539779663, 0.43706172704696655, 0.4360904395580292, 0.4320284128189087, 0.42231765389442444, 0.4194033145904541, 0.41858816146850586, 0.41753458976745605, 0.40510857105255127, 1.0, 1.0, 1.0, 1.0, 1.0, 1.0, 1.0, 1.0, 1.0, 1.0, 1.0, 1.0, 1.0, 1.0, 1.0, 1.0, 1.0, 1.0, 1.0, 1.0, 1.0, 1.0, 1.0, 0.9095335006713867, 0.9024481177330017, 0.8536015152931213, 0.8425029516220093, 0.7670515179634094, 0.75681471824646, 0.748068630695343, 0.674162745475769, 0.674162745475769, 0.659228503704071, 0.6569257378578186, 0.6569257378578186, 0.64683598279953, 0.64683598279953, 0.6460682153701782, 0.634152889251709, 0.6250115633010864, 0.6217115521430969, 0.7403305768966675, 0.6340477466583252, 0.6223862171173096, 0.621105432510376, 0.6084280610084534, 0.604028582572937, 0.604028582572937, 0.5875296592712402, 0.556082546710968, 0.5553728342056274, 0.5521036386489868, 0.5481326580047607, 0.5336582064628601, 0.5221640467643738, 0.5221640467643738, 0.5027503967285156, 0.5002155303955078, 0.49924135208129883, 0.4955741763114929, 0.4908908009529114, 0.48404181003570557, 0.4749619960784912, 0.4708971381187439, 0.463274747133255, 0.45481443405151367, 0.43160244822502136, 0.4270641505718231, 0.41762781143188477, 0.41647475957870483, 0.38684603571891785, 0.369444876909256, 0.3674931526184082, 0.3674931526184082, 0.359231173992157, 0.3445079028606415, 0.3425499200820923, 0.3419404625892639, 0.33851158618927, 0.33530449867248535, 0.3249567747116089, 0.3118324279785156, 0.5472879409790039, 0.5029743313789368, 0.45897984504699707, 0.4470560550689697, 0.40732860565185547, 0.4019492268562317, 0.3903850317001343, 0.35823553800582886, 0.3580029010772705, 0.3550705909729004, 0.35165396332740784, 0.33986297249794006, 0.3390129804611206, 0.325072318315506, 0.3240618109703064, 0.3240618109703064, 0.3186606764793396, 0.31679975986480713, 0.31679975986480713, 0.31679975986480713, 0.3149639964103699, 0.3124082386493683, 0.3124082386493683, 0.3100692629814148, 0.3051271438598633, 0.3034548759460449, 0.30093008279800415, 0.30093008279800415, 0.2963852286338806, 0.29158616065979004, 0.2901952862739563, 0.2886282205581665, 0.2886282205581665, 0.2865462303161621, 0.2820771038532257, 0.2816629409790039, 0.27893635630607605, 0.27778297662734985, 0.2769547998905182, 0.2756018042564392, 0.2734828591346741, 0.43974465131759644, 0.3709239363670349, 0.3639140725135803, 0.35350921750068665, 0.31712692975997925, 0.31712692975997925, 0.31671929359436035, 0.31671929359436035, 0.31671929359436035, 0.3005324900150299, 0.29998132586479187, 0.29796135425567627, 0.29796135425567627, 0.29796135425567627, 0.29796135425567627, 0.2899121642112732, 0.28430503606796265, 0.27739205956459045, 0.2702856659889221, 0.26888877153396606, 0.26888877153396606, 0.26888877153396606, 0.26810160279273987, 0.26630523800849915, 0.2636011242866516, 0.2604720890522003, 0.2596229612827301, 0.2586410343647003, 0.2586410343647003, 0.2583521008491516, 0.25710049271583557, 0.2545067071914673, 0.24948430061340332, 0.24751943349838257, 0.24107052385807037, 0.24036940932273865, 0.23937982320785522, 0.23937982320785522, 0.23838575184345245, 0.23675857484340668, 0.23504848778247833, 0.6588490009307861, 0.64605313539505, 0.6302794814109802, 0.6077615022659302, 0.5944291353225708, 0.5905712246894836, 0.5285802483558655, 0.5057331323623657, 0.4913831353187561, 0.48953554034233093, 0.4847176671028137, 0.4810890853404999, 0.47228699922561646, 0.4446846842765808, 0.43812286853790283, 0.43778014183044434, 0.42435163259506226, 0.4240347146987915, 0.42054057121276855, 0.4194543659687042, 0.4194502830505371, 0.40484827756881714, 0.3994390666484833, 0.39801639318466187, 0.39342576265335083, 0.3904569745063782, 0.37847772240638733, 0.3770502805709839, 0.37691277265548706, 0.3711276650428772, 0.3690354824066162, 0.36848413944244385, 0.36737000942230225, 0.36585891246795654, 0.3625752031803131, 0.3625752031803131, 0.3594712018966675, 0.35755982995033264, 0.35733744502067566, 0.35527175664901733, 0.3529278635978699, 0.4099956452846527, 0.3287358283996582, 0.3287358283996582, 0.314386785030365, 0.2886560559272766, 0.2734588384628296, 0.26434168219566345, 0.26434168219566345, 0.25494447350502014, 0.2494678795337677, 0.23947039246559143, 0.23206675052642822, 0.23107995092868805, 0.22932520508766174, 0.22476878762245178, 0.21992090344429016, 0.21815863251686096, 0.21689650416374207, 0.2159820795059204, 0.21586564183235168, 0.2150961458683014, 0.21434113383293152, 0.21246106922626495, 0.20957331359386444, 0.20941920578479767, 0.20807920396327972, 0.20725512504577637, 0.20725512504577637, 0.20637229084968567, 0.2049875259399414, 0.2049875259399414, 0.2049875259399414, 0.2049875259399414, 0.2041306495666504, 0.20402519404888153, 0.2038886845111847, 0.2038724273443222, 0.2027948498725891, 0.2027905285358429, 0.20175373554229736, 0.20172925293445587, 0.4314769208431244, 0.40755316615104675, 0.40755316615104675, 0.37506726384162903, 0.36884427070617676, 0.3191756308078766, 0.3163878321647644, 0.3163878321647644, 0.3163878321647644, 0.3163878321647644, 0.30384331941604614, 0.29474276304244995, 0.29383397102355957, 0.28658005595207214, 0.28429150581359863, 0.2756785452365875, 0.2746358811855316, 0.2746358811855316, 0.2688458561897278, 0.26461926102638245, 0.2644707262516022, 0.26365095376968384, 0.2578062415122986, 0.2555806338787079, 0.2534009516239166, 0.25312796235084534, 0.2514001727104187, 0.23950529098510742, 0.23950529098510742, 0.2391553670167923, 0.23690691590309143, 0.23185841739177704, 0.23176509141921997, 0.22815167903900146, 0.22801360487937927, 0.22737669944763184, 0.22136043012142181, 0.2190621942281723, 0.218071848154068, 0.21638451516628265, 0.2158140242099762, 0.5777548551559448, 0.5029345750808716, 0.48229795694351196, 0.4822429120540619, 0.4709867835044861, 0.4562682509422302, 0.4553653597831726, 0.4513205289840698, 0.4469163715839386, 0.44390803575515747, 0.44072529673576355, 0.44072529673576355, 0.43075674772262573, 0.4274151921272278, 0.4242461323738098, 0.4172886908054352, 0.4153132140636444, 0.4147357642650604, 0.4147357642650604, 0.4145772457122803, 0.4128830134868622, 0.40991854667663574, 0.39855945110321045, 0.39598459005355835, 0.3913096487522125, 0.38974621891975403, 0.38974621891975403, 0.38974621891975403, 0.3870215117931366, 0.38690733909606934, 0.3863242566585541, 0.3844192326068878, 0.3769562244415283, 0.3769562244415283, 0.37593477964401245, 0.37118658423423767, 0.3701058626174927, 0.3692697286605835, 0.3680422902107239, 0.3680422902107239, 0.3680422902107239, 0.5057730078697205, 0.4951644539833069, 0.49282339215278625, 0.4792898893356323, 0.46113523840904236, 0.4605558514595032, 0.4560645520687103, 0.4359719753265381, 0.4359719753265381, 0.4307561218738556, 0.41824132204055786, 0.40315544605255127, 0.3918156325817108, 0.389659583568573, 0.38385745882987976, 0.3821132481098175, 0.37675005197525024, 0.37573012709617615, 0.37454909086227417, 0.3654344081878662, 0.36261868476867676, 0.36146628856658936, 0.36146628856658936, 0.35923147201538086, 0.3543815016746521, 0.35062235593795776, 0.3476395308971405, 0.3421338200569153, 0.34089767932891846, 0.3381704092025757, 0.3381704092025757, 0.33814388513565063, 0.3317505121231079, 0.32817161083221436, 0.3274303078651428, 0.3274303078651428, 0.32322943210601807, 0.3217337727546692, 0.3208632171154022, 0.3193611800670624, 0.3162614703178406, 0.4354981482028961, 0.42636361718177795, 0.424347847700119, 0.4126947820186615, 0.39706259965896606, 0.39656370878219604, 0.39269644021987915, 0.37539568543434143, 0.37539568543434143, 0.36012861132621765, 0.3471388518810272, 0.3374931216239929, 0.3355181813240051, 0.33052220940589905, 0.3244023323059082, 0.32352414727211, 0.32250720262527466, 0.3146589398384094, 0.31223446130752563, 0.3112422227859497, 0.3112422227859497, 0.3051418364048004, 0.3019050061702728, 0.29933661222457886, 0.2945958971977234, 0.2911831736564636, 0.2911831736564636, 0.29116031527519226, 0.2825736701488495, 0.28193536400794983, 0.28193536400794983, 0.2783181965351105, 0.2770303189754486, 0.2762807309627533, 0.2749873995780945, 0.27231839299201965, 0.267220675945282, 0.26476919651031494, 0.2644500434398651, 0.2644500434398651, 0.2625240683555603, 0.40545573830604553, 0.3238741159439087, 0.3185555338859558, 0.29007992148399353, 0.2745935022830963, 0.2595444619655609, 0.2577629089355469, 0.25100478529930115, 0.24993294477462769, 0.23791134357452393, 0.23074522614479065, 0.22651442885398865, 0.22651442885398865, 0.2230226844549179, 0.21864160895347595, 0.2146993726491928, 0.19698703289031982, 0.19572898745536804, 0.1930176466703415, 0.18434655666351318, 0.18294791877269745, 0.18294791877269745, 0.18294791877269745, 0.18183594942092896, 0.181544229388237, 0.17480632662773132, 0.1721179038286209, 0.1721179038286209, 0.16693030297756195, 0.16693030297756195, 0.16276489198207855, 0.16276489198207855, 0.159671813249588, 0.15883216261863708, 0.1502830684185028, 0.14788615703582764, 0.14619408547878265, 0.14448708295822144, 0.14330241084098816, 0.1421421468257904, 0.1421421468257904, 0.5057730078697205, 0.4951644539833069, 0.49282339215278625, 0.4792898893356323, 0.46113523840904236, 0.4605558514595032, 0.4560645520687103, 0.4359719753265381, 0.4359719753265381, 0.4307561218738556, 0.41824132204055786, 0.40315544605255127, 0.3918156325817108, 0.389659583568573, 0.38385745882987976, 0.3821132481098175, 0.37675005197525024, 0.37573012709617615, 0.37454909086227417, 0.3654344081878662, 0.36261868476867676, 0.36146628856658936, 0.36146628856658936, 0.35923147201538086, 0.3543815016746521, 0.35062235593795776, 0.3476395308971405, 0.3421338200569153, 0.34089767932891846, 0.3381704092025757, 0.3381704092025757, 0.33814388513565063, 0.3317505121231079, 0.32817161083221436, 0.3274303078651428, 0.3274303078651428, 0.32322943210601807, 0.3217337727546692, 0.3208632171154022, 0.3193611800670624, 0.3162614703178406, 0.9198062419891357, 0.9198062419891357, 0.9198062419891357, 0.8617852926254272, 0.8248757719993591, 0.7512667775154114, 0.7177664041519165, 0.7177664041519165, 0.7177664041519165, 0.7022572755813599, 0.6327182650566101, 0.6279633045196533, 0.6181548833847046, 0.5918945074081421, 0.5784757137298584, 0.577090322971344, 0.577090322971344, 0.575839638710022, 0.5622116327285767, 0.5599520206451416, 0.5599520206451416, 0.544101357460022, 0.5409418940544128, 0.5409418940544128, 0.5392398834228516, 0.5392398834228516, 0.5322546362876892, 0.524082362651825, 0.5013011693954468, 0.5005691647529602, 0.49944016337394714, 0.49881982803344727, 0.49808192253112793, 0.49808192253112793, 0.4980747103691101, 0.4961908459663391, 0.4961908459663391, 0.4914979338645935, 0.48914793133735657, 0.4872303903102875, 0.4850877523422241, 0.9198062419891357, 0.9198062419891357, 0.9198062419891357, 0.8617852926254272, 0.8248757719993591, 0.7512667775154114, 0.7177664041519165, 0.7177664041519165, 0.7177664041519165, 0.7022572755813599, 0.6327182650566101, 0.6279633045196533, 0.6181548833847046, 0.5918945074081421, 0.5784757137298584, 0.577090322971344, 0.577090322971344, 0.575839638710022, 0.5622116327285767, 0.5599520206451416, 0.5599520206451416, 0.544101357460022, 0.5409418940544128, 0.5409418940544128, 0.5392398834228516, 0.5392398834228516, 0.5322546362876892, 0.524082362651825, 0.5013011693954468, 0.5005691647529602, 0.49944016337394714, 0.49881982803344727, 0.49808192253112793, 0.49808192253112793, 0.4980747103691101, 0.4961908459663391, 0.4961908459663391, 0.4914979338645935, 0.48914793133735657, 0.4872303903102875, 0.4850877523422241, 0.5075199604034424, 0.2793959081172943, 0.2573454976081848, 0.2573454976081848, 0.2537075877189636, 0.2537075877189636, 0.2454809993505478, 0.23605233430862427, 0.2340395301580429, 0.21837583184242249, 0.21478240191936493, 0.20960751175880432, 0.20960751175880432, 0.20786841213703156, 0.20786841213703156, 0.20170564949512482, 0.1969624012708664, 0.1939937174320221, 0.18676000833511353, 0.1863764375448227, 0.18556402623653412, 0.1804381012916565, 0.1804381012916565, 0.1748020052909851, 0.16668570041656494, 0.16371828317642212, 0.16312077641487122, 0.1615801602602005, 0.16085302829742432, 0.15990732610225677, 0.15990732610225677, 0.1540120542049408, 0.15068775415420532, 0.1504986733198166, 0.1503961682319641, 0.14911776781082153, 0.1479218304157257, 0.1474120318889618, 0.1469186544418335, 0.1469186544418335, 0.14688581228256226, 0.9198062419891357, 0.9198062419891357, 0.9198062419891357, 0.8617852926254272, 0.8248757719993591, 0.7512667775154114, 0.7177664041519165, 0.7177664041519165, 0.7177664041519165, 0.7022572755813599, 0.6327182650566101, 0.6279633045196533, 0.6181548833847046, 0.5918945074081421, 0.5784757137298584, 0.577090322971344, 0.577090322971344, 0.575839638710022, 0.5622116327285767, 0.5599520206451416, 0.5599520206451416, 0.544101357460022, 0.5409418940544128, 0.5409418940544128, 0.5392398834228516, 0.5392398834228516, 0.5322546362876892, 0.524082362651825, 0.5013011693954468, 0.5005691647529602, 0.49944016337394714, 0.49881982803344727, 0.49808192253112793, 0.49808192253112793, 0.4980747103691101, 0.4961908459663391, 0.4961908459663391, 0.4914979338645935, 0.48914793133735657, 0.4872303903102875, 0.4850877523422241, 0.7046223282814026, 0.6987661123275757, 0.6571943759918213, 0.6571943759918213, 0.6499477028846741, 0.6494959592819214, 0.6494959592819214, 0.6411373615264893, 0.6204731464385986, 0.6129235029220581, 0.6039168238639832, 0.595770001411438, 0.5940552353858948, 0.5935219526290894, 0.5931565761566162, 0.5931565761566162, 0.5913830399513245, 0.5913354158401489, 0.5855107307434082, 0.5823675394058228, 0.5806573629379272, 0.5689815282821655, 0.5689815282821655, 0.5620342493057251, 0.5433615446090698, 0.5370185375213623, 0.5370185375213623, 0.5324501395225525, 0.5309268832206726, 0.5271181464195251, 0.5111244916915894, 0.5002330541610718, 0.4971446096897125, 0.49581119418144226, 0.4935365319252014, 0.4931941628456116, 0.4725866913795471, 0.47018855810165405, 0.46585869789123535, 0.459981769323349, 0.4596633315086365, 0.7512118816375732, 0.6151677370071411, 0.6133589744567871, 0.6028932332992554, 0.6028932332992554, 0.5971591472625732, 0.5731472373008728, 0.5731472373008728, 0.5644962787628174, 0.5511810183525085, 0.5504456758499146, 0.5404291152954102, 0.5347095727920532, 0.5218568444252014, 0.5207781195640564, 0.5197449922561646, 0.5172991752624512, 0.5172991752624512, 0.5140934586524963, 0.5123341083526611, 0.5013622045516968, 0.49903833866119385, 0.4927501082420349, 0.4927501082420349, 0.49181973934173584, 0.48596471548080444, 0.47844088077545166, 0.4773566722869873, 0.47339296340942383, 0.46849074959754944, 0.46849074959754944, 0.4678932726383209, 0.46561962366104126, 0.4642382264137268, 0.45752447843551636, 0.4503084421157837, 0.4431343674659729, 0.4372617304325104, 0.43073874711990356, 0.4229903221130371, 0.4200310707092285, 0.677200198173523, 0.5058810710906982, 0.4863871932029724, 0.39222434163093567, 0.3868420422077179, 0.3849389851093292, 0.3568858504295349, 0.3568858504295349, 0.3568073511123657, 0.3265725076198578, 0.3014664649963379, 0.28449633717536926, 0.2818388342857361, 0.2774033546447754, 0.27511855959892273, 0.27127712965011597, 0.26972395181655884, 0.26331281661987305, 0.2631886899471283, 0.2612575888633728, 0.25527989864349365, 0.24549028277397156, 0.24455641210079193, 0.2422414869070053, 0.2414981573820114, 0.23990067839622498, 0.23431262373924255, 0.23281387984752655, 0.23281387984752655, 0.23126311600208282, 0.2273283451795578, 0.22647278010845184, 0.22344155609607697, 0.22022591531276703, 0.21943603456020355, 0.21807192265987396, 0.2170119285583496, 0.2150583565235138, 0.21268384158611298, 0.21136125922203064, 0.20901399850845337, 0.7360569834709167, 0.7360569834709167, 0.6793774366378784, 0.6737310290336609, 0.6636945009231567, 0.6572176218032837, 0.6336487531661987, 0.6336487531661987, 0.6266616582870483, 0.6114234924316406, 0.6104634404182434, 0.5969380140304565, 0.5909639596939087, 0.582988440990448, 0.5822799801826477, 0.5744249820709229, 0.5727716684341431, 0.5719053149223328, 0.5719053149223328, 0.570149302482605, 0.5581436157226562, 0.5485963821411133, 0.5485963821411133, 0.5440364480018616, 0.543280303478241, 0.5350346565246582, 0.5245307087898254, 0.5183910131454468, 0.5177785158157349, 0.5177785158157349, 0.5165412425994873, 0.5119050741195679, 0.5102693438529968, 0.5067514777183533, 0.5046164989471436, 0.49240222573280334, 0.482310950756073, 0.4758543372154236, 0.47281795740127563, 0.4677804112434387, 0.4666283130645752, 0.27065205574035645, 0.25157803297042847, 0.240928515791893, 0.21880850195884705, 0.21433845162391663, 0.202838733792305, 0.202838733792305, 0.20245690643787384, 0.19496698677539825, 0.19496698677539825, 0.1911318302154541, 0.19020536541938782, 0.18949036300182343, 0.18581584095954895, 0.18464295566082, 0.18453845381736755, 0.18453845381736755, 0.18453845381736755, 0.17391452193260193, 0.17209890484809875, 0.1702808439731598, 0.16930009424686432, 0.16839322447776794, 0.16499656438827515, 0.16399961709976196, 0.1610499620437622, 0.1610499620437622, 0.15961702167987823, 0.15961702167987823, 0.15943117439746857, 0.15718168020248413, 0.15718168020248413, 0.15542303025722504, 0.15371090173721313, 0.1536233127117157, 0.152162566781044, 0.152162566781044, 0.14749568700790405, 0.1469079703092575, 0.1462520956993103, 0.14558035135269165, 0.2816784083843231, 0.261827290058136, 0.2572479248046875, 0.2572479248046875, 0.25635477900505066, 0.25074392557144165, 0.22772273421287537, 0.22307057678699493, 0.21110235154628754, 0.21110235154628754, 0.19795429706573486, 0.1972101628780365, 0.1957860291004181, 0.19338595867156982, 0.1921652853488922, 0.19205652177333832, 0.19205652177333832, 0.19205652177333832, 0.1809997707605362, 0.17911019921302795, 0.176197350025177, 0.1731104701757431, 0.1706809401512146, 0.166119784116745, 0.166119784116745, 0.16592638194561005, 0.16358524560928345, 0.16358524560928345, 0.15997305512428284, 0.15988190472126007, 0.15890410542488098, 0.15836164355278015, 0.15836164355278015, 0.1546836942434311, 0.1546836942434311, 0.15289299190044403, 0.15221038460731506, 0.1515112817287445, 0.14937818050384521, 0.1468997597694397, 0.14681294560432434, 0.42256051301956177, 0.3469998836517334, 0.3431532382965088, 0.29008880257606506, 0.2558547258377075, 0.24586182832717896, 0.23241189122200012, 0.231449693441391, 0.2126539945602417, 0.19993072748184204, 0.19735121726989746, 0.19735121726989746, 0.1922752559185028, 0.1866929829120636, 0.1866929829120636, 0.17402952909469604, 0.1731722354888916, 0.17113663256168365, 0.16403548419475555, 0.15662403404712677, 0.15662403404712677, 0.15481962263584137, 0.15440890192985535, 0.14763566851615906, 0.14763566851615906, 0.14735063910484314, 0.14662641286849976, 0.14057135581970215, 0.1391867697238922, 0.13895688951015472, 0.13563814759254456, 0.13563814759254456, 0.1349715143442154, 0.13453489542007446, 0.13453489542007446, 0.13451354205608368, 0.13447143137454987, 0.13252609968185425, 0.13083668053150177, 0.126755028963089, 0.12653830647468567, 0.2816784083843231, 0.261827290058136, 0.2572479248046875, 0.2572479248046875, 0.25635477900505066, 0.25074392557144165, 0.22772273421287537, 0.22307057678699493, 0.21110235154628754, 0.21110235154628754, 0.19795429706573486, 0.1972101628780365, 0.1957860291004181, 0.19338595867156982, 0.1921652853488922, 0.19205652177333832, 0.19205652177333832, 0.19205652177333832, 0.1809997707605362, 0.17911019921302795, 0.176197350025177, 0.1731104701757431, 0.1706809401512146, 0.166119784116745, 0.166119784116745, 0.16592638194561005, 0.16358524560928345, 0.16358524560928345, 0.15997305512428284, 0.15988190472126007, 0.15890410542488098, 0.15836164355278015, 0.15836164355278015, 0.1546836942434311, 0.1546836942434311, 0.15289299190044403, 0.15221038460731506, 0.1515112817287445, 0.14937818050384521, 0.1468997597694397, 0.14681294560432434], \"xaxis\": \"x\", \"yaxis\": \"y\"}],\n",
              "                        {\"barmode\": \"relative\", \"legend\": {\"tracegroupgap\": 0}, \"template\": {\"data\": {\"bar\": [{\"error_x\": {\"color\": \"#2a3f5f\"}, \"error_y\": {\"color\": \"#2a3f5f\"}, \"marker\": {\"line\": {\"color\": \"#E5ECF6\", \"width\": 0.5}}, \"type\": \"bar\"}], \"barpolar\": [{\"marker\": {\"line\": {\"color\": \"#E5ECF6\", \"width\": 0.5}}, \"type\": \"barpolar\"}], \"carpet\": [{\"aaxis\": {\"endlinecolor\": \"#2a3f5f\", \"gridcolor\": \"white\", \"linecolor\": \"white\", \"minorgridcolor\": \"white\", \"startlinecolor\": \"#2a3f5f\"}, \"baxis\": {\"endlinecolor\": \"#2a3f5f\", \"gridcolor\": \"white\", \"linecolor\": \"white\", \"minorgridcolor\": \"white\", \"startlinecolor\": \"#2a3f5f\"}, \"type\": \"carpet\"}], \"choropleth\": [{\"colorbar\": {\"outlinewidth\": 0, \"ticks\": \"\"}, \"type\": \"choropleth\"}], \"contour\": [{\"colorbar\": {\"outlinewidth\": 0, \"ticks\": \"\"}, \"colorscale\": [[0.0, \"#0d0887\"], [0.1111111111111111, \"#46039f\"], [0.2222222222222222, \"#7201a8\"], [0.3333333333333333, \"#9c179e\"], [0.4444444444444444, \"#bd3786\"], [0.5555555555555556, \"#d8576b\"], [0.6666666666666666, \"#ed7953\"], [0.7777777777777778, \"#fb9f3a\"], [0.8888888888888888, \"#fdca26\"], [1.0, \"#f0f921\"]], \"type\": \"contour\"}], \"contourcarpet\": [{\"colorbar\": {\"outlinewidth\": 0, \"ticks\": \"\"}, \"type\": \"contourcarpet\"}], \"heatmap\": [{\"colorbar\": {\"outlinewidth\": 0, \"ticks\": \"\"}, \"colorscale\": [[0.0, \"#0d0887\"], [0.1111111111111111, \"#46039f\"], [0.2222222222222222, \"#7201a8\"], [0.3333333333333333, \"#9c179e\"], [0.4444444444444444, \"#bd3786\"], [0.5555555555555556, \"#d8576b\"], [0.6666666666666666, \"#ed7953\"], [0.7777777777777778, \"#fb9f3a\"], [0.8888888888888888, \"#fdca26\"], [1.0, \"#f0f921\"]], \"type\": \"heatmap\"}], \"heatmapgl\": [{\"colorbar\": {\"outlinewidth\": 0, \"ticks\": \"\"}, \"colorscale\": [[0.0, \"#0d0887\"], [0.1111111111111111, \"#46039f\"], [0.2222222222222222, \"#7201a8\"], [0.3333333333333333, \"#9c179e\"], [0.4444444444444444, \"#bd3786\"], [0.5555555555555556, \"#d8576b\"], [0.6666666666666666, \"#ed7953\"], [0.7777777777777778, \"#fb9f3a\"], [0.8888888888888888, \"#fdca26\"], [1.0, \"#f0f921\"]], \"type\": \"heatmapgl\"}], \"histogram\": [{\"marker\": {\"colorbar\": {\"outlinewidth\": 0, \"ticks\": \"\"}}, \"type\": \"histogram\"}], \"histogram2d\": [{\"colorbar\": {\"outlinewidth\": 0, \"ticks\": \"\"}, \"colorscale\": [[0.0, \"#0d0887\"], [0.1111111111111111, \"#46039f\"], [0.2222222222222222, \"#7201a8\"], [0.3333333333333333, \"#9c179e\"], [0.4444444444444444, \"#bd3786\"], [0.5555555555555556, \"#d8576b\"], [0.6666666666666666, \"#ed7953\"], [0.7777777777777778, \"#fb9f3a\"], [0.8888888888888888, \"#fdca26\"], [1.0, \"#f0f921\"]], \"type\": \"histogram2d\"}], \"histogram2dcontour\": [{\"colorbar\": {\"outlinewidth\": 0, \"ticks\": \"\"}, \"colorscale\": [[0.0, \"#0d0887\"], [0.1111111111111111, \"#46039f\"], [0.2222222222222222, \"#7201a8\"], [0.3333333333333333, \"#9c179e\"], [0.4444444444444444, \"#bd3786\"], [0.5555555555555556, \"#d8576b\"], [0.6666666666666666, \"#ed7953\"], [0.7777777777777778, \"#fb9f3a\"], [0.8888888888888888, \"#fdca26\"], [1.0, \"#f0f921\"]], \"type\": \"histogram2dcontour\"}], \"mesh3d\": [{\"colorbar\": {\"outlinewidth\": 0, \"ticks\": \"\"}, \"type\": \"mesh3d\"}], \"parcoords\": [{\"line\": {\"colorbar\": {\"outlinewidth\": 0, \"ticks\": \"\"}}, \"type\": \"parcoords\"}], \"pie\": [{\"automargin\": true, \"type\": \"pie\"}], \"scatter\": [{\"marker\": {\"colorbar\": {\"outlinewidth\": 0, \"ticks\": \"\"}}, \"type\": \"scatter\"}], \"scatter3d\": [{\"line\": {\"colorbar\": {\"outlinewidth\": 0, \"ticks\": \"\"}}, \"marker\": {\"colorbar\": {\"outlinewidth\": 0, \"ticks\": \"\"}}, \"type\": \"scatter3d\"}], \"scattercarpet\": [{\"marker\": {\"colorbar\": {\"outlinewidth\": 0, \"ticks\": \"\"}}, \"type\": \"scattercarpet\"}], \"scattergeo\": [{\"marker\": {\"colorbar\": {\"outlinewidth\": 0, \"ticks\": \"\"}}, \"type\": \"scattergeo\"}], \"scattergl\": [{\"marker\": {\"colorbar\": {\"outlinewidth\": 0, \"ticks\": \"\"}}, \"type\": \"scattergl\"}], \"scattermapbox\": [{\"marker\": {\"colorbar\": {\"outlinewidth\": 0, \"ticks\": \"\"}}, \"type\": \"scattermapbox\"}], \"scatterpolar\": [{\"marker\": {\"colorbar\": {\"outlinewidth\": 0, \"ticks\": \"\"}}, \"type\": \"scatterpolar\"}], \"scatterpolargl\": [{\"marker\": {\"colorbar\": {\"outlinewidth\": 0, \"ticks\": \"\"}}, \"type\": \"scatterpolargl\"}], \"scatterternary\": [{\"marker\": {\"colorbar\": {\"outlinewidth\": 0, \"ticks\": \"\"}}, \"type\": \"scatterternary\"}], \"surface\": [{\"colorbar\": {\"outlinewidth\": 0, \"ticks\": \"\"}, \"colorscale\": [[0.0, \"#0d0887\"], [0.1111111111111111, \"#46039f\"], [0.2222222222222222, \"#7201a8\"], [0.3333333333333333, \"#9c179e\"], [0.4444444444444444, \"#bd3786\"], [0.5555555555555556, \"#d8576b\"], [0.6666666666666666, \"#ed7953\"], [0.7777777777777778, \"#fb9f3a\"], [0.8888888888888888, \"#fdca26\"], [1.0, \"#f0f921\"]], \"type\": \"surface\"}], \"table\": [{\"cells\": {\"fill\": {\"color\": \"#EBF0F8\"}, \"line\": {\"color\": \"white\"}}, \"header\": {\"fill\": {\"color\": \"#C8D4E3\"}, \"line\": {\"color\": \"white\"}}, \"type\": \"table\"}]}, \"layout\": {\"annotationdefaults\": {\"arrowcolor\": \"#2a3f5f\", \"arrowhead\": 0, \"arrowwidth\": 1}, \"coloraxis\": {\"colorbar\": {\"outlinewidth\": 0, \"ticks\": \"\"}}, \"colorscale\": {\"diverging\": [[0, \"#8e0152\"], [0.1, \"#c51b7d\"], [0.2, \"#de77ae\"], [0.3, \"#f1b6da\"], [0.4, \"#fde0ef\"], [0.5, \"#f7f7f7\"], [0.6, \"#e6f5d0\"], [0.7, \"#b8e186\"], [0.8, \"#7fbc41\"], [0.9, \"#4d9221\"], [1, \"#276419\"]], \"sequential\": [[0.0, \"#0d0887\"], [0.1111111111111111, \"#46039f\"], [0.2222222222222222, \"#7201a8\"], [0.3333333333333333, \"#9c179e\"], [0.4444444444444444, \"#bd3786\"], [0.5555555555555556, \"#d8576b\"], [0.6666666666666666, \"#ed7953\"], [0.7777777777777778, \"#fb9f3a\"], [0.8888888888888888, \"#fdca26\"], [1.0, \"#f0f921\"]], \"sequentialminus\": [[0.0, \"#0d0887\"], [0.1111111111111111, \"#46039f\"], [0.2222222222222222, \"#7201a8\"], [0.3333333333333333, \"#9c179e\"], [0.4444444444444444, \"#bd3786\"], [0.5555555555555556, \"#d8576b\"], [0.6666666666666666, \"#ed7953\"], [0.7777777777777778, \"#fb9f3a\"], [0.8888888888888888, \"#fdca26\"], [1.0, \"#f0f921\"]]}, \"colorway\": [\"#636efa\", \"#EF553B\", \"#00cc96\", \"#ab63fa\", \"#FFA15A\", \"#19d3f3\", \"#FF6692\", \"#B6E880\", \"#FF97FF\", \"#FECB52\"], \"font\": {\"color\": \"#2a3f5f\"}, \"geo\": {\"bgcolor\": \"white\", \"lakecolor\": \"white\", \"landcolor\": \"#E5ECF6\", \"showlakes\": true, \"showland\": true, \"subunitcolor\": \"white\"}, \"hoverlabel\": {\"align\": \"left\"}, \"hovermode\": \"closest\", \"mapbox\": {\"style\": \"light\"}, \"paper_bgcolor\": \"white\", \"plot_bgcolor\": \"#E5ECF6\", \"polar\": {\"angularaxis\": {\"gridcolor\": \"white\", \"linecolor\": \"white\", \"ticks\": \"\"}, \"bgcolor\": \"#E5ECF6\", \"radialaxis\": {\"gridcolor\": \"white\", \"linecolor\": \"white\", \"ticks\": \"\"}}, \"scene\": {\"xaxis\": {\"backgroundcolor\": \"#E5ECF6\", \"gridcolor\": \"white\", \"gridwidth\": 2, \"linecolor\": \"white\", \"showbackground\": true, \"ticks\": \"\", \"zerolinecolor\": \"white\"}, \"yaxis\": {\"backgroundcolor\": \"#E5ECF6\", \"gridcolor\": \"white\", \"gridwidth\": 2, \"linecolor\": \"white\", \"showbackground\": true, \"ticks\": \"\", \"zerolinecolor\": \"white\"}, \"zaxis\": {\"backgroundcolor\": \"#E5ECF6\", \"gridcolor\": \"white\", \"gridwidth\": 2, \"linecolor\": \"white\", \"showbackground\": true, \"ticks\": \"\", \"zerolinecolor\": \"white\"}}, \"shapedefaults\": {\"line\": {\"color\": \"#2a3f5f\"}}, \"ternary\": {\"aaxis\": {\"gridcolor\": \"white\", \"linecolor\": \"white\", \"ticks\": \"\"}, \"baxis\": {\"gridcolor\": \"white\", \"linecolor\": \"white\", \"ticks\": \"\"}, \"bgcolor\": \"#E5ECF6\", \"caxis\": {\"gridcolor\": \"white\", \"linecolor\": \"white\", \"ticks\": \"\"}}, \"title\": {\"x\": 0.05}, \"xaxis\": {\"automargin\": true, \"gridcolor\": \"white\", \"linecolor\": \"white\", \"ticks\": \"\", \"title\": {\"standoff\": 15}, \"zerolinecolor\": \"white\", \"zerolinewidth\": 2}, \"yaxis\": {\"automargin\": true, \"gridcolor\": \"white\", \"linecolor\": \"white\", \"ticks\": \"\", \"title\": {\"standoff\": 15}, \"zerolinecolor\": \"white\", \"zerolinewidth\": 2}}}, \"title\": {\"text\": \"Scores for TF-IDF\"}, \"xaxis\": {\"anchor\": \"y\", \"domain\": [0.0, 1.0], \"title\": {\"text\": \"score\"}}, \"yaxis\": {\"anchor\": \"x\", \"domain\": [0.0, 1.0], \"title\": {\"text\": \"count\"}}},\n",
              "                        {\"responsive\": true}\n",
              "                    ).then(function(){\n",
              "                            \n",
              "var gd = document.getElementById('3553de58-7d5f-49de-89aa-702687cdd27e');\n",
              "var x = new MutationObserver(function (mutations, observer) {{\n",
              "        var display = window.getComputedStyle(gd).display;\n",
              "        if (!display || display === 'none') {{\n",
              "            console.log([gd, 'removed!']);\n",
              "            Plotly.purge(gd);\n",
              "            observer.disconnect();\n",
              "        }}\n",
              "}});\n",
              "\n",
              "// Listen for the removal of the full notebook cells\n",
              "var notebookContainer = gd.closest('#notebook-container');\n",
              "if (notebookContainer) {{\n",
              "    x.observe(notebookContainer, {childList: true});\n",
              "}}\n",
              "\n",
              "// Listen for the clearing of the current output cell\n",
              "var outputEl = gd.closest('.output');\n",
              "if (outputEl) {{\n",
              "    x.observe(outputEl, {childList: true});\n",
              "}}\n",
              "\n",
              "                        })\n",
              "                };\n",
              "                \n",
              "            </script>\n",
              "        </div>\n",
              "</body>\n",
              "</html>"
            ]
          },
          "metadata": {}
        }
      ]
    },
    {
      "cell_type": "code",
      "metadata": {
        "id": "QIBvHL1aOnOT"
      },
      "source": [
        "wandb.log({\"scores_hist\": fig})"
      ],
      "execution_count": 47,
      "outputs": []
    },
    {
      "cell_type": "code",
      "metadata": {
        "id": "OZ0YfkIO9g5V"
      },
      "source": [
        "def recommend_tune(df, tune_name):\n",
        "\n",
        "  df_tune = df.query(f'reference_title == \"{tune_name}\"')\n",
        "  ff = df_tune.iloc[:]\n",
        "\n",
        "  # get the maximum similarity score for each section and store in new column\n",
        "  ff['max'] = ff.groupby('ref_section')['score'].transform('max')\n",
        "\n",
        "  # scale the score with the maxmum value of each section\n",
        "  ff['score_div_max'] = ff['score'] / ff['max']\n",
        "\n",
        "  # consider only the top N tunes for each group\n",
        "  ff = ff.sort_values(['ref_section', 'score_div_max'], ascending=[True, False])\n",
        "  result = ff.groupby('ref_section').head(30)\n",
        "  \n",
        "  # if multiple rows from the same similar tune, keep only the similar_title with the highest score_div_max\n",
        "  result = result.groupby('similar_title').max('score_div_max').sort_values('score_div_max', ascending=False)\n",
        "  \n",
        "  # add the name of the reference tune\n",
        "  result['reference'] = tune_name\n",
        "  result = result.reset_index()\n",
        "  result = result.loc[:, ['reference', 'similar_title', 'score', 'max', 'score_div_max']]\n",
        "  result = result.reset_index()\n",
        "  return result, ff"
      ],
      "execution_count": 48,
      "outputs": []
    },
    {
      "cell_type": "code",
      "metadata": {
        "colab": {
          "base_uri": "https://localhost:8080/",
          "height": 206
        },
        "id": "ohaxVQ6d9iiD",
        "outputId": "04f70c74-ca2c-4c11-f53a-e860a0689e44"
      },
      "source": [
        "result, details = recommend_tune(df_sim, \"These Foolish Things\")\n",
        "result.head(5)"
      ],
      "execution_count": 49,
      "outputs": [
        {
          "output_type": "execute_result",
          "data": {
            "text/html": [
              "<div>\n",
              "<style scoped>\n",
              "    .dataframe tbody tr th:only-of-type {\n",
              "        vertical-align: middle;\n",
              "    }\n",
              "\n",
              "    .dataframe tbody tr th {\n",
              "        vertical-align: top;\n",
              "    }\n",
              "\n",
              "    .dataframe thead th {\n",
              "        text-align: right;\n",
              "    }\n",
              "</style>\n",
              "<table border=\"1\" class=\"dataframe\">\n",
              "  <thead>\n",
              "    <tr style=\"text-align: right;\">\n",
              "      <th></th>\n",
              "      <th>index</th>\n",
              "      <th>reference</th>\n",
              "      <th>similar_title</th>\n",
              "      <th>score</th>\n",
              "      <th>max</th>\n",
              "      <th>score_div_max</th>\n",
              "    </tr>\n",
              "  </thead>\n",
              "  <tbody>\n",
              "    <tr>\n",
              "      <th>0</th>\n",
              "      <td>0</td>\n",
              "      <td>These Foolish Things</td>\n",
              "      <td>More Than You Know</td>\n",
              "      <td>0.677200</td>\n",
              "      <td>0.677200</td>\n",
              "      <td>1.000000</td>\n",
              "    </tr>\n",
              "    <tr>\n",
              "      <th>1</th>\n",
              "      <td>1</td>\n",
              "      <td>These Foolish Things</td>\n",
              "      <td>Too Young To Go Steady</td>\n",
              "      <td>0.751212</td>\n",
              "      <td>0.751212</td>\n",
              "      <td>1.000000</td>\n",
              "    </tr>\n",
              "    <tr>\n",
              "      <th>2</th>\n",
              "      <td>2</td>\n",
              "      <td>These Foolish Things</td>\n",
              "      <td>I Won't Dance</td>\n",
              "      <td>0.704622</td>\n",
              "      <td>0.751212</td>\n",
              "      <td>1.000000</td>\n",
              "    </tr>\n",
              "    <tr>\n",
              "      <th>3</th>\n",
              "      <td>3</td>\n",
              "      <td>These Foolish Things</td>\n",
              "      <td>I Like The Likes Of You</td>\n",
              "      <td>0.736057</td>\n",
              "      <td>0.751212</td>\n",
              "      <td>1.000000</td>\n",
              "    </tr>\n",
              "    <tr>\n",
              "      <th>4</th>\n",
              "      <td>4</td>\n",
              "      <td>These Foolish Things</td>\n",
              "      <td>Emily</td>\n",
              "      <td>0.698766</td>\n",
              "      <td>0.751212</td>\n",
              "      <td>0.991689</td>\n",
              "    </tr>\n",
              "  </tbody>\n",
              "</table>\n",
              "</div>"
            ],
            "text/plain": [
              "   index             reference  ...       max  score_div_max\n",
              "0      0  These Foolish Things  ...  0.677200       1.000000\n",
              "1      1  These Foolish Things  ...  0.751212       1.000000\n",
              "2      2  These Foolish Things  ...  0.751212       1.000000\n",
              "3      3  These Foolish Things  ...  0.751212       1.000000\n",
              "4      4  These Foolish Things  ...  0.751212       0.991689\n",
              "\n",
              "[5 rows x 6 columns]"
            ]
          },
          "metadata": {},
          "execution_count": 49
        }
      ]
    },
    {
      "cell_type": "markdown",
      "metadata": {
        "id": "UveSDI6QWALe"
      },
      "source": [
        "Copy results into a dataframe for later logging to W&B"
      ]
    },
    {
      "cell_type": "code",
      "metadata": {
        "id": "AEEqdXBiT5bl"
      },
      "source": [
        "dd = pd.DataFrame(columns = recommender_results_cols)\n",
        "\n",
        "for tune in tunes_eval_list:\n",
        "  result, details = recommend_tune(df_sim, tune)\n",
        "  dd['id'] = result['index']\n",
        "  dd['method'] = 'tfidf'\n",
        "  dd['reference'] = tune\n",
        "  dd['similar'] = result['similar_title']\n",
        "  dd['score_div_max'] = result['score_div_max']\n",
        "  dd['score'] = result['score']\n",
        "\n",
        "recommender_results = recommender_results.append(dd)"
      ],
      "execution_count": 50,
      "outputs": []
    },
    {
      "cell_type": "markdown",
      "metadata": {
        "id": "Phw7fBDk0px7"
      },
      "source": [
        "Store TF-IDF Model to W&B"
      ]
    },
    {
      "cell_type": "code",
      "metadata": {
        "colab": {
          "base_uri": "https://localhost:8080/"
        },
        "id": "KdYWJX-60pdd",
        "outputId": "bf32cab0-ad59-4991-fec0-d36881b12f44"
      },
      "source": [
        "model_artifact = wandb.Artifact(\n",
        "    \"tfidf-model\", \n",
        "    type=\"model\",\n",
        "    description=\"TF-IDF Model\",\n",
        "    metadata=\"\")\n",
        "\n",
        "model_artifact.add_file(\"/content/index/tfidf.model\")\n",
        "model_artifact.add_file(\"/content/index/tfidf.index\")\n",
        "wandb.log_artifact(model_artifact)"
      ],
      "execution_count": 51,
      "outputs": [
        {
          "output_type": "execute_result",
          "data": {
            "text/plain": [
              "<wandb.sdk.wandb_artifacts.Artifact at 0x7f29600c0d50>"
            ]
          },
          "metadata": {},
          "execution_count": 51
        }
      ]
    },
    {
      "cell_type": "markdown",
      "metadata": {
        "id": "99xHBRsd--OB"
      },
      "source": [
        "# LSA (Latent Semantic Analysis), aka LSI (Latent Semantic Index) "
      ]
    },
    {
      "cell_type": "code",
      "metadata": {
        "id": "adsW9Uh9_JXs"
      },
      "source": [
        "from collections import defaultdict"
      ],
      "execution_count": 52,
      "outputs": []
    },
    {
      "cell_type": "code",
      "metadata": {
        "colab": {
          "base_uri": "https://localhost:8080/"
        },
        "id": "s3AJZGRD_IHW",
        "outputId": "46af99ab-aa68-48e4-911b-ee4b54caecb9"
      },
      "source": [
        "num_topics = lsi_config['num_topics']\n",
        "\n",
        "# remove words that appear only once\n",
        "frequency = defaultdict(int)\n",
        "for text in processed_corpus:\n",
        "    for token in text:\n",
        "        frequency[token] += 1\n",
        "\n",
        "data = [[token for token in text if frequency[token] > 1] for text in processed_corpus]\n",
        "dictionary = corpora.Dictionary(data)\n",
        "\n",
        "# doc2bow counts the number of occurences of each distinct word,\n",
        "# converts the word to its integer word id and returns the result\n",
        "# as a sparse vector\n",
        "\n",
        "bow_corpus = [dictionary.doc2bow(text) for text in data]\n",
        "lsi = LsiModel(bow_corpus, id2word=dictionary, num_topics=num_topics)  # num_topics can be maximum the size of the number of unique tokens"
      ],
      "execution_count": 53,
      "outputs": [
        {
          "output_type": "stream",
          "name": "stderr",
          "text": [
            "2021-11-22 20:41:33,298 : INFO : adding document #0 to Dictionary(0 unique tokens: [])\n",
            "2021-11-22 20:41:33,455 : INFO : built Dictionary(2505 unique tokens: ['Am7-D7', 'B7-EM7', 'C#M7-E7', 'C7-FM7', 'CM7-Eb7']...) from 5391 documents (total 75986 corpus positions)\n",
            "2021-11-22 20:41:33,459 : INFO : Dictionary lifecycle event {'msg': \"built Dictionary(2505 unique tokens: ['Am7-D7', 'B7-EM7', 'C#M7-E7', 'C7-FM7', 'CM7-Eb7']...) from 5391 documents (total 75986 corpus positions)\", 'datetime': '2021-11-22T20:41:33.459331', 'gensim': '4.1.2', 'python': '3.7.12 (default, Sep 10 2021, 00:21:48) \\n[GCC 7.5.0]', 'platform': 'Linux-5.4.104+-x86_64-with-Ubuntu-18.04-bionic', 'event': 'created'}\n",
            "2021-11-22 20:41:33,544 : INFO : using serial LSI version on this node\n",
            "2021-11-22 20:41:33,546 : INFO : updating model with new documents\n",
            "2021-11-22 20:41:33,553 : INFO : preparing a new chunk of documents\n",
            "2021-11-22 20:41:33,589 : INFO : using 100 extra samples and 2 power iterations\n",
            "2021-11-22 20:41:33,596 : INFO : 1st phase: constructing (2505, 300) action matrix\n",
            "2021-11-22 20:41:33,695 : INFO : orthonormalizing (2505, 300) action matrix\n",
            "2021-11-22 20:41:34,073 : INFO : 2nd phase: running dense svd on (300, 5391) matrix\n",
            "2021-11-22 20:41:34,502 : INFO : computing the final decomposition\n",
            "2021-11-22 20:41:34,505 : INFO : keeping 200 factors (discarding 4.455% of energy spectrum)\n",
            "2021-11-22 20:41:34,537 : INFO : processed documents up to #5391\n",
            "2021-11-22 20:41:34,541 : INFO : topic #0(154.130): 0.491*\"G7-C\" + 0.472*\"C-C\" + 0.441*\"Dm7-G7\" + 0.286*\"G7-G7\" + 0.227*\"D7-G7\" + 0.160*\"C-G7\" + 0.148*\"A7-D7\" + 0.130*\"A7-Dm7\" + 0.121*\"D7-D7\" + 0.115*\"C7-F\"\n",
            "2021-11-22 20:41:34,545 : INFO : topic #1(127.376): 0.690*\"Dm7-G7\" + -0.346*\"C-C\" + 0.254*\"A7-Dm7\" + -0.249*\"G7-C\" + 0.238*\"G7-CM7\" + -0.182*\"G7-G7\" + 0.168*\"Em7-A7\" + 0.158*\"G7-C6\" + -0.116*\"C-G7\" + 0.111*\"Am7-Dm7\"\n",
            "2021-11-22 20:41:34,551 : INFO : topic #2(69.251): 0.591*\"C-C\" + -0.414*\"D7-G7\" + -0.370*\"G7-C\" + -0.333*\"A7-D7\" + 0.269*\"G7-G7\" + -0.159*\"C-A7\" + -0.111*\"D7-D7\" + -0.102*\"E7-A7\" + -0.097*\"C-E7\" + -0.092*\"E7-Am\"\n",
            "2021-11-22 20:41:34,554 : INFO : topic #3(61.572): 0.415*\"G7-G7\" + -0.375*\"G7-C\" + 0.308*\"D7-D7\" + 0.288*\"D7-G7\" + 0.211*\"A7-D7\" + 0.210*\"C7-C7\" + 0.208*\"CM7-CM7\" + -0.191*\"Dm7-G7\" + 0.189*\"Am7-Am7\" + -0.180*\"C-G7\"\n",
            "2021-11-22 20:41:34,559 : INFO : topic #4(55.414): 0.597*\"Am7-Am7\" + 0.466*\"E7-Am7\" + 0.367*\"Bm7b5-E7\" + 0.206*\"Am7-D7\" + -0.170*\"A7-D7\" + -0.166*\"D7-G7\" + -0.134*\"D7-D7\" + -0.113*\"G7-G7\" + 0.111*\"G7-C\" + 0.110*\"C-G7\"\n",
            "2021-11-22 20:41:34,563 : INFO : LsiModel lifecycle event {'msg': 'trained LsiModel(num_terms=2505, num_topics=200, decay=1.0, chunksize=20000) in 1.02s', 'datetime': '2021-11-22T20:41:34.563423', 'gensim': '4.1.2', 'python': '3.7.12 (default, Sep 10 2021, 00:21:48) \\n[GCC 7.5.0]', 'platform': 'Linux-5.4.104+-x86_64-with-Ubuntu-18.04-bionic', 'event': 'created'}\n"
          ]
        }
      ]
    },
    {
      "cell_type": "code",
      "metadata": {
        "id": "EvxSQFfBBNMJ"
      },
      "source": [
        "#index_lsi = similarities.Similarity('/content/index/index_lsi', bow_corpus, num_features=len(dictionary))"
      ],
      "execution_count": 54,
      "outputs": []
    },
    {
      "cell_type": "code",
      "metadata": {
        "colab": {
          "base_uri": "https://localhost:8080/"
        },
        "id": "3saA6NY5Tzer",
        "outputId": "048e160d-1b77-46f5-a64e-fb715cfc278c"
      },
      "source": [
        "index_lsi = similarities.SparseMatrixSimilarity(lsi[bow_corpus], num_features = len(dictionary))\n",
        "#index_lsi = similarities.MatrixSimilarity(lsi[bow_corpus])  # transform corpus to LSI space and index it\n"
      ],
      "execution_count": 55,
      "outputs": [
        {
          "output_type": "stream",
          "name": "stderr",
          "text": [
            "2021-11-22 20:41:34,590 : INFO : creating sparse index\n",
            "2021-11-22 20:41:34,596 : INFO : creating sparse matrix from corpus\n",
            "2021-11-22 20:41:34,605 : INFO : PROGRESS: at document #0\n",
            "2021-11-22 20:41:36,357 : INFO : created <5391x2505 sparse matrix of type '<class 'numpy.float32'>'\n",
            "\twith 1078199 stored elements in Compressed Sparse Row format>\n"
          ]
        }
      ]
    },
    {
      "cell_type": "code",
      "metadata": {
        "colab": {
          "base_uri": "https://localhost:8080/"
        },
        "id": "F5pbDMVyfEtS",
        "outputId": "0adfa326-a9cb-470b-d0f7-2e1060262961"
      },
      "source": [
        "lsi.save('/content/index/lsi.model')\n",
        "index_lsi.save('/content/index/lsi_matrixsim.index')\n"
      ],
      "execution_count": 56,
      "outputs": [
        {
          "output_type": "stream",
          "name": "stderr",
          "text": [
            "2021-11-22 20:41:36,376 : INFO : Projection lifecycle event {'fname_or_handle': '/content/index/lsi.model.projection', 'separately': 'None', 'sep_limit': 10485760, 'ignore': frozenset(), 'datetime': '2021-11-22T20:41:36.376586', 'gensim': '4.1.2', 'python': '3.7.12 (default, Sep 10 2021, 00:21:48) \\n[GCC 7.5.0]', 'platform': 'Linux-5.4.104+-x86_64-with-Ubuntu-18.04-bionic', 'event': 'saving'}\n",
            "2021-11-22 20:41:36,385 : INFO : saved /content/index/lsi.model.projection\n",
            "2021-11-22 20:41:36,388 : INFO : LsiModel lifecycle event {'fname_or_handle': '/content/index/lsi.model', 'separately': 'None', 'sep_limit': 10485760, 'ignore': ['projection', 'dispatcher'], 'datetime': '2021-11-22T20:41:36.388424', 'gensim': '4.1.2', 'python': '3.7.12 (default, Sep 10 2021, 00:21:48) \\n[GCC 7.5.0]', 'platform': 'Linux-5.4.104+-x86_64-with-Ubuntu-18.04-bionic', 'event': 'saving'}\n",
            "2021-11-22 20:41:36,391 : INFO : not storing attribute projection\n",
            "2021-11-22 20:41:36,393 : INFO : not storing attribute dispatcher\n",
            "2021-11-22 20:41:36,399 : INFO : saved /content/index/lsi.model\n",
            "2021-11-22 20:41:36,401 : INFO : SparseMatrixSimilarity lifecycle event {'fname_or_handle': '/content/index/lsi_matrixsim.index', 'separately': 'None', 'sep_limit': 10485760, 'ignore': frozenset(), 'datetime': '2021-11-22T20:41:36.401664', 'gensim': '4.1.2', 'python': '3.7.12 (default, Sep 10 2021, 00:21:48) \\n[GCC 7.5.0]', 'platform': 'Linux-5.4.104+-x86_64-with-Ubuntu-18.04-bionic', 'event': 'saving'}\n",
            "2021-11-22 20:41:36,419 : INFO : saved /content/index/lsi_matrixsim.index\n"
          ]
        }
      ]
    },
    {
      "cell_type": "code",
      "metadata": {
        "colab": {
          "base_uri": "https://localhost:8080/"
        },
        "id": "1udPIceqYk6S",
        "outputId": "bacf54e8-0549-40a9-b313-cd77b0d8ba85"
      },
      "source": [
        "!ls -la /content/index"
      ],
      "execution_count": 57,
      "outputs": [
        {
          "output_type": "stream",
          "name": "stdout",
          "text": [
            "total 13032\n",
            "drwxr-xr-x 2 root root    4096 Nov 22 20:41 .\n",
            "drwxr-xr-x 1 root root    4096 Nov 22 20:41 ..\n",
            "-rw-r--r-- 1 root root 8648061 Nov 22 20:41 lsi_matrixsim.index\n",
            "-rw-r--r-- 1 root root   77638 Nov 22 20:41 lsi.model\n",
            "-rw-r--r-- 1 root root 4010291 Nov 22 20:41 lsi.model.projection\n",
            "-rw-r--r-- 1 root root  488641 Nov 22 20:41 tfidf.index\n",
            "-rw-r--r-- 1 root root  101754 Nov 22 20:41 tfidf.model\n"
          ]
        }
      ]
    },
    {
      "cell_type": "markdown",
      "metadata": {
        "id": "pDxTCAGv9MmZ"
      },
      "source": [
        "### Test for single tunes"
      ]
    },
    {
      "cell_type": "code",
      "metadata": {
        "colab": {
          "base_uri": "https://localhost:8080/"
        },
        "id": "khASSJ1eEuf5",
        "outputId": "f817458b-fa02-4edc-f899-931f0c71f4da"
      },
      "source": [
        "%%time\n",
        "df_sim = get_sim_scores(tunes_eval_list, index=index_lsi, model=lsi)\n",
        "df_lsi = df_sim[:]"
      ],
      "execution_count": 58,
      "outputs": [
        {
          "output_type": "stream",
          "name": "stdout",
          "text": [
            "\n",
            "--------------------------------------------------\n",
            "125 After You've Gone, section1 (A)\n",
            "126 After You've Gone, section2 (B)\n",
            "127 After You've Gone, section3 (A)\n",
            "128 After You've Gone, section4 (C)\n",
            "\n",
            "--------------------------------------------------\n",
            "188 All God's Chillun Got Rhythm, section1 (A)\n",
            "189 All God's Chillun Got Rhythm, section2 (B)\n",
            "190 All God's Chillun Got Rhythm, section3 (A)\n",
            "191 All God's Chillun Got Rhythm, section4 (C)\n",
            "\n",
            "--------------------------------------------------\n",
            "198 All Of Me, section1 (A)\n",
            "199 All Of Me, section2 (B)\n",
            "200 All Of Me, section3 (A)\n",
            "201 All Of Me, section4 (C)\n",
            "\n",
            "--------------------------------------------------\n",
            "474 Blood Count, section1 (A)\n",
            "475 Blood Count, section2 (A)\n",
            "476 Blood Count, section3 (B)\n",
            "477 Blood Count, section4 (A)\n",
            "478 Blood Count, section5 (C)\n",
            "\n",
            "--------------------------------------------------\n",
            "496 Blue Moon, section1 (A)\n",
            "497 Blue Moon, section2 (A)\n",
            "498 Blue Moon, section3 (B)\n",
            "499 Blue Moon, section4 (A)\n",
            "\n",
            "--------------------------------------------------\n",
            "626 But Beautiful, section1 (A)\n",
            "627 But Beautiful, section2 (B)\n",
            "628 But Beautiful, section3 (A)\n",
            "629 But Beautiful, section4 (C)\n",
            "\n",
            "--------------------------------------------------\n",
            "653 Bye Bye Blackbird, section1 (A)\n",
            "654 Bye Bye Blackbird, section2 (B)\n",
            "4559 Bye Bye Blackbird, section1 (A)\n",
            "\n",
            "--------------------------------------------------\n",
            "676 Call Me Irresponsible, section1 (A)\n",
            "677 Call Me Irresponsible, section2 (B)\n",
            "678 Call Me Irresponsible, section3 (A)\n",
            "679 Call Me Irresponsible, section4 (B)\n",
            "\n",
            "--------------------------------------------------\n",
            "826 Corcovado, section1 (A)\n",
            "827 Corcovado, section2 (B)\n",
            "828 Corcovado, section3 (A)\n",
            "829 Corcovado, section4 (C)\n",
            "\n",
            "--------------------------------------------------\n",
            "997 Dinah, section1 (A)\n",
            "998 Dinah, section2 (A)\n",
            "999 Dinah, section3 (B)\n",
            "1000 Dinah, section4 (A)\n",
            "\n",
            "--------------------------------------------------\n",
            "1125 East Of The Sun, section1 (A)\n",
            "1126 East Of The Sun, section2 (B)\n",
            "1127 East Of The Sun, section3 (A)\n",
            "1128 East Of The Sun, section4 (C)\n",
            "\n",
            "--------------------------------------------------\n",
            "1287 Footprints, section0 (nan)\n",
            "\n",
            "--------------------------------------------------\n",
            "1379 Giant Steps, section0 (nan)\n",
            "\n",
            "--------------------------------------------------\n",
            "1538 Honeysuckle Rose, section1 (A)\n",
            "1539 Honeysuckle Rose, section2 (A)\n",
            "1540 Honeysuckle Rose, section3 (B)\n",
            "1541 Honeysuckle Rose, section4 (A)\n",
            "4781 Honeysuckle Rose, section1 (A)\n",
            "4782 Honeysuckle Rose, section2 (A)\n",
            "4783 Honeysuckle Rose, section3 (B)\n",
            "4784 Honeysuckle Rose, section4 (A)\n",
            "\n",
            "--------------------------------------------------\n",
            "1647 I Got Rhythm, section1 (A)\n",
            "1648 I Got Rhythm, section2 (A)\n",
            "1649 I Got Rhythm, section3 (B)\n",
            "1650 I Got Rhythm, section4 (A)\n",
            "4809 I Got Rhythm, section1 (A)\n",
            "4810 I Got Rhythm, section2 (A)\n",
            "4811 I Got Rhythm, section3 (B)\n",
            "4812 I Got Rhythm, section4 (A)\n",
            "\n",
            "--------------------------------------------------\n",
            "2670 Misty, section1 (A)\n",
            "2671 Misty, section2 (A)\n",
            "2672 Misty, section3 (B)\n",
            "2673 Misty, section4 (A)\n",
            "\n",
            "--------------------------------------------------\n",
            "2857 Naima, section1 (A)\n",
            "2858 Naima, section2 (A)\n",
            "2859 Naima, section3 (B)\n",
            "2860 Naima, section4 (A)\n",
            "\n",
            "--------------------------------------------------\n",
            "5044 Old Fashioned Love, section0 (nan)\n",
            "\n",
            "--------------------------------------------------\n",
            "3142 Perdido, section1 (A)\n",
            "3143 Perdido, section2 (A)\n",
            "3144 Perdido, section3 (B)\n",
            "3145 Perdido, section4 (A)\n",
            "\n",
            "--------------------------------------------------\n",
            "3276 Rockin' Chair, section1 (A)\n",
            "3277 Rockin' Chair, section2 (B)\n",
            "3278 Rockin' Chair, section3 (A)\n",
            "5110 Rockin' Chair, section1 (A)\n",
            "5111 Rockin' Chair, section2 (B)\n",
            "5112 Rockin' Chair, section3 (A)\n",
            "\n",
            "--------------------------------------------------\n",
            "3578 Sophisticated Lady, section1 (A)\n",
            "3579 Sophisticated Lady, section2 (A)\n",
            "3580 Sophisticated Lady, section3 (B)\n",
            "3581 Sophisticated Lady, section4 (A)\n",
            "\n",
            "--------------------------------------------------\n",
            "3746 Sweet Sue, Just You, section1 (A)\n",
            "3747 Sweet Sue, Just You, section2 (A)\n",
            "3748 Sweet Sue, Just You, section3 (B)\n",
            "3749 Sweet Sue, Just You, section4 (A)\n",
            "\n",
            "--------------------------------------------------\n",
            "3860 These Foolish Things, section1 (A)\n",
            "3861 These Foolish Things, section2 (A)\n",
            "3862 These Foolish Things, section3 (B)\n",
            "3863 These Foolish Things, section4 (A)\n",
            "\n",
            "--------------------------------------------------\n",
            "4146 We'll Be Together Again, section1 (A)\n",
            "4147 We'll Be Together Again, section2 (A)\n",
            "4148 We'll Be Together Again, section3 (B)\n",
            "4149 We'll Be Together Again, section4 (A)\n",
            "CPU times: user 16.6 s, sys: 325 ms, total: 16.9 s\n",
            "Wall time: 16.7 s\n"
          ]
        }
      ]
    },
    {
      "cell_type": "code",
      "metadata": {
        "colab": {
          "base_uri": "https://localhost:8080/",
          "height": 542
        },
        "id": "X31lkvUsDAsU",
        "outputId": "a0e146b7-9206-4d28-a340-f6f276b9abe4"
      },
      "source": [
        "import plotly.express as px\n",
        "fig = px.histogram(df_sim, x=\"score\", nbins=50, title='LSI Scores')\n",
        "fig.show()"
      ],
      "execution_count": 59,
      "outputs": [
        {
          "output_type": "display_data",
          "data": {
            "text/html": [
              "<html>\n",
              "<head><meta charset=\"utf-8\" /></head>\n",
              "<body>\n",
              "    <div>\n",
              "            <script src=\"https://cdnjs.cloudflare.com/ajax/libs/mathjax/2.7.5/MathJax.js?config=TeX-AMS-MML_SVG\"></script><script type=\"text/javascript\">if (window.MathJax) {MathJax.Hub.Config({SVG: {font: \"STIX-Web\"}});}</script>\n",
              "                <script type=\"text/javascript\">window.PlotlyConfig = {MathJaxConfig: 'local'};</script>\n",
              "        <script src=\"https://cdn.plot.ly/plotly-latest.min.js\"></script>    \n",
              "            <div id=\"270e8c22-693c-4bf5-8c56-1ab940617605\" class=\"plotly-graph-div\" style=\"height:525px; width:100%;\"></div>\n",
              "            <script type=\"text/javascript\">\n",
              "                \n",
              "                    window.PLOTLYENV=window.PLOTLYENV || {};\n",
              "                    \n",
              "                if (document.getElementById(\"270e8c22-693c-4bf5-8c56-1ab940617605\")) {\n",
              "                    Plotly.newPlot(\n",
              "                        '270e8c22-693c-4bf5-8c56-1ab940617605',\n",
              "                        [{\"alignmentgroup\": \"True\", \"bingroup\": \"x\", \"hoverlabel\": {\"namelength\": 0}, \"hovertemplate\": \"score=%{x}<br>count=%{y}\", \"legendgroup\": \"\", \"marker\": {\"color\": \"#636efa\"}, \"name\": \"\", \"nbinsx\": 50, \"offsetgroup\": \"\", \"orientation\": \"v\", \"showlegend\": false, \"type\": \"histogram\", \"x\": [0.6293235421180725, 0.6293235421180725, 0.6293235421180725, 0.6293235421180725, 0.623157262802124, 0.5393458604812622, 0.5389878749847412, 0.5211086273193359, 0.5211086273193359, 0.516598641872406, 0.516164243221283, 0.516164243221283, 0.5109342336654663, 0.49769389629364014, 0.49769389629364014, 0.4944290220737457, 0.4875379800796509, 0.483110636472702, 0.47783079743385315, 0.4760393798351288, 0.473987340927124, 0.47117218375205994, 0.4676484167575836, 0.4606667459011078, 0.4579201638698578, 0.45456305146217346, 0.45456305146217346, 0.44429901242256165, 0.4441184997558594, 0.4441184997558594, 0.43675696849823, 0.43675696849823, 0.43539872765541077, 0.4338057339191437, 0.4298740029335022, 0.42961710691452026, 0.42961710691452026, 0.4262557029724121, 0.42366600036621094, 0.4205334484577179, 0.4181917607784271, 0.8152896761894226, 0.7844647169113159, 0.746525228023529, 0.746525228023529, 0.7010623812675476, 0.7010623812675476, 0.6920527219772339, 0.6697539687156677, 0.6392460465431213, 0.6392460465431213, 0.6392460465431213, 0.6364002823829651, 0.617643415927887, 0.6075466275215149, 0.6001796126365662, 0.5986306667327881, 0.5986306667327881, 0.5964647531509399, 0.5845338106155396, 0.578455924987793, 0.578455924987793, 0.578455924987793, 0.574482798576355, 0.574482798576355, 0.5721614956855774, 0.5721614956855774, 0.5645155310630798, 0.5645155310630798, 0.5645155310630798, 0.5581744313240051, 0.5572121143341064, 0.5568422079086304, 0.5542941093444824, 0.5523368120193481, 0.5473061203956604, 0.5470296740531921, 0.5450242757797241, 0.5393897891044617, 0.5376548171043396, 0.5376548171043396, 0.5369251370429993, 0.6293235421180725, 0.6293235421180725, 0.6293235421180725, 0.6293235421180725, 0.623157262802124, 0.5393458604812622, 0.5389878749847412, 0.5211086273193359, 0.5211086273193359, 0.516598641872406, 0.516164243221283, 0.516164243221283, 0.5109342336654663, 0.49769389629364014, 0.49769389629364014, 0.4944290220737457, 0.4875379800796509, 0.483110636472702, 0.47783079743385315, 0.4760393798351288, 0.473987340927124, 0.47117218375205994, 0.4676484167575836, 0.4606667459011078, 0.4579201638698578, 0.45456305146217346, 0.45456305146217346, 0.44429901242256165, 0.4441184997558594, 0.4441184997558594, 0.43675696849823, 0.43675696849823, 0.43539872765541077, 0.4338057339191437, 0.4298740029335022, 0.42961710691452026, 0.42961710691452026, 0.4262557029724121, 0.42366600036621094, 0.4205334484577179, 0.4181917607784271, 0.6863714456558228, 0.6423511505126953, 0.6407785415649414, 0.6301436424255371, 0.6300966143608093, 0.6175193190574646, 0.609691858291626, 0.605202853679657, 0.6044869422912598, 0.6032513380050659, 0.5990929007530212, 0.5958719849586487, 0.5918247699737549, 0.5918247699737549, 0.591435968875885, 0.5913093090057373, 0.587611198425293, 0.581755518913269, 0.581755518913269, 0.5805549025535583, 0.5797014236450195, 0.5797014236450195, 0.5794076323509216, 0.5794076323509216, 0.5794076323509216, 0.5769902467727661, 0.574373185634613, 0.5740295052528381, 0.5728620886802673, 0.5728620886802673, 0.5713467001914978, 0.5708318948745728, 0.5692061185836792, 0.5680407881736755, 0.5670687556266785, 0.5594080686569214, 0.5586646795272827, 0.5586646795272827, 0.5547640919685364, 0.5519793629646301, 0.5512972474098206, 0.9191844463348389, 0.9175916910171509, 0.9142280220985413, 0.9142280220985413, 0.9064199924468994, 0.9064199924468994, 0.9056589007377625, 0.8835231065750122, 0.8807498216629028, 0.8768396973609924, 0.8739457130432129, 0.8718215227127075, 0.8634424209594727, 0.8614813089370728, 0.8569411039352417, 0.8561195731163025, 0.855778157711029, 0.8498425483703613, 0.8457192182540894, 0.8384672999382019, 0.8369628190994263, 0.8331254720687866, 0.8311882615089417, 0.82997065782547, 0.8288621306419373, 0.8288621306419373, 0.8258329033851624, 0.8238611817359924, 0.8222913146018982, 0.8197429180145264, 0.8180879950523376, 0.8169965147972107, 0.8163690567016602, 0.8163690567016602, 0.8140889406204224, 0.8139297962188721, 0.8105428218841553, 0.8096943497657776, 0.8089261054992676, 0.8089261054992676, 0.808668315410614, 0.8654602766036987, 0.7194239497184753, 0.7132155895233154, 0.7127432823181152, 0.7112712264060974, 0.7058698534965515, 0.6938138008117676, 0.692356526851654, 0.6919438242912292, 0.6838822364807129, 0.662339985370636, 0.6580985188484192, 0.6566256284713745, 0.6566043496131897, 0.6550726890563965, 0.6541975736618042, 0.6474605202674866, 0.6462982892990112, 0.6451079249382019, 0.6447499394416809, 0.644545316696167, 0.6437472105026245, 0.641409158706665, 0.6413129568099976, 0.6373550891876221, 0.6350016593933105, 0.634712278842926, 0.6328000426292419, 0.6309609413146973, 0.6293882727622986, 0.6223773956298828, 0.618954062461853, 0.6176762580871582, 0.6119985580444336, 0.6111747622489929, 0.611062228679657, 0.611062228679657, 0.610279381275177, 0.6090229153633118, 0.6089288592338562, 0.6074585318565369, 0.9191844463348389, 0.9175916910171509, 0.9142280220985413, 0.9142280220985413, 0.9064199924468994, 0.9064199924468994, 0.9056589007377625, 0.8835231065750122, 0.8807498216629028, 0.8768396973609924, 0.8739457130432129, 0.8718215227127075, 0.8634424209594727, 0.8614813089370728, 0.8569411039352417, 0.8561195731163025, 0.855778157711029, 0.8498425483703613, 0.8457192182540894, 0.8384672999382019, 0.8369628190994263, 0.8331254720687866, 0.8311882615089417, 0.82997065782547, 0.8288621306419373, 0.8288621306419373, 0.8258329033851624, 0.8238611817359924, 0.8222913146018982, 0.8197429180145264, 0.8180879950523376, 0.8169965147972107, 0.8163690567016602, 0.8163690567016602, 0.8140889406204224, 0.8139297962188721, 0.8105428218841553, 0.8096943497657776, 0.8089261054992676, 0.8089261054992676, 0.808668315410614, 0.9324343800544739, 0.885615348815918, 0.8742370009422302, 0.8330191373825073, 0.8296568989753723, 0.8213669657707214, 0.8181613683700562, 0.798844039440155, 0.7961077094078064, 0.7933086156845093, 0.7895473837852478, 0.7859348058700562, 0.7855085134506226, 0.7836898565292358, 0.7797214984893799, 0.7751672863960266, 0.7697283625602722, 0.7673364877700806, 0.7627266645431519, 0.7627266645431519, 0.7627266645431519, 0.76223224401474, 0.7571739554405212, 0.7556161284446716, 0.7553297877311707, 0.7549704909324646, 0.7548991441726685, 0.7541483044624329, 0.7541483044624329, 0.7524908781051636, 0.7523362636566162, 0.7501623034477234, 0.7499268054962158, 0.7499082684516907, 0.7494116425514221, 0.7493929266929626, 0.748163640499115, 0.7475749254226685, 0.7422946691513062, 0.7401844263076782, 0.7400819063186646, 0.7548718452453613, 0.6896570920944214, 0.6297489404678345, 0.5841971635818481, 0.5786132216453552, 0.573788046836853, 0.573788046836853, 0.5651803016662598, 0.5641723871231079, 0.5641723871231079, 0.5344813466072083, 0.5258704423904419, 0.5225149393081665, 0.5225149393081665, 0.5024374127388, 0.4989376664161682, 0.4989376664161682, 0.49366143345832825, 0.49366143345832825, 0.4927869439125061, 0.4858987033367157, 0.48398128151893616, 0.48194220662117004, 0.4775370657444, 0.47721368074417114, 0.47388291358947754, 0.4705498516559601, 0.46751755475997925, 0.465318888425827, 0.4620489776134491, 0.4560452401638031, 0.4559912383556366, 0.45412856340408325, 0.4534280300140381, 0.4534280300140381, 0.45233020186424255, 0.44919952750205994, 0.44450417160987854, 0.44450417160987854, 0.44128742814064026, 0.43585142493247986, 0.9071385264396667, 0.8316717147827148, 0.8088152408599854, 0.7971875667572021, 0.7582163214683533, 0.7552177906036377, 0.7319484353065491, 0.7282687425613403, 0.7185575366020203, 0.7180752158164978, 0.7117072343826294, 0.6860728859901428, 0.6809436082839966, 0.6776999235153198, 0.6678513884544373, 0.6664110422134399, 0.6559595465660095, 0.6482124328613281, 0.6451565623283386, 0.6403030157089233, 0.6344934701919556, 0.6308391690254211, 0.617234468460083, 0.6169484257698059, 0.6144506335258484, 0.6123757362365723, 0.6123757362365723, 0.6115003824234009, 0.6090518236160278, 0.6068529486656189, 0.6060351729393005, 0.6048568487167358, 0.6013872027397156, 0.5982734560966492, 0.5982734560966492, 0.5964573621749878, 0.5903018116950989, 0.5859811902046204, 0.5850879549980164, 0.5845818519592285, 0.5837947726249695, 0.7548718452453613, 0.6896570920944214, 0.6297489404678345, 0.5841971635818481, 0.5786132216453552, 0.573788046836853, 0.573788046836853, 0.5651803016662598, 0.5641723871231079, 0.5641723871231079, 0.5344813466072083, 0.5258704423904419, 0.5225149393081665, 0.5225149393081665, 0.5024374127388, 0.4989376664161682, 0.4989376664161682, 0.49366143345832825, 0.49366143345832825, 0.4927869439125061, 0.4858987033367157, 0.48398128151893616, 0.48194220662117004, 0.4775370657444, 0.47721368074417114, 0.47388291358947754, 0.4705498516559601, 0.46751755475997925, 0.465318888425827, 0.4620489776134491, 0.4560452401638031, 0.4559912383556366, 0.45412856340408325, 0.4534280300140381, 0.4534280300140381, 0.45233020186424255, 0.44919952750205994, 0.44450417160987854, 0.44450417160987854, 0.44128742814064026, 0.43585142493247986, 0.8755213618278503, 0.8177028894424438, 0.8177028894424438, 0.7943708896636963, 0.7939074039459229, 0.7938982844352722, 0.7923870086669922, 0.7923870086669922, 0.7895483374595642, 0.7893613576889038, 0.7877634167671204, 0.7861349582672119, 0.7861349582672119, 0.7812315225601196, 0.7811716794967651, 0.7754042744636536, 0.7731510400772095, 0.7731510400772095, 0.768837571144104, 0.7668158411979675, 0.7667157053947449, 0.7659661769866943, 0.7638694643974304, 0.7637984156608582, 0.7545933127403259, 0.7520629167556763, 0.7520629167556763, 0.7491015195846558, 0.7471092939376831, 0.7469024658203125, 0.7431281208992004, 0.7425879836082458, 0.742412805557251, 0.7394710779190063, 0.7394523620605469, 0.7381200194358826, 0.7381200194358826, 0.7374498844146729, 0.7358978986740112, 0.7358962297439575, 0.7356407046318054, 0.7223567366600037, 0.7223567366600037, 0.6496524810791016, 0.6330968737602234, 0.6127710938453674, 0.596902072429657, 0.577380895614624, 0.5514721274375916, 0.5438403487205505, 0.5438403487205505, 0.5404455065727234, 0.536954402923584, 0.536954402923584, 0.536954402923584, 0.5365158915519714, 0.5355968475341797, 0.5316330194473267, 0.5177481770515442, 0.5092544555664062, 0.49922966957092285, 0.4901861846446991, 0.49013447761535645, 0.48675233125686646, 0.48329946398735046, 0.4700007140636444, 0.4675884544849396, 0.46650558710098267, 0.46567025780677795, 0.46308696269989014, 0.46059852838516235, 0.46051567792892456, 0.44983401894569397, 0.44899535179138184, 0.4485342502593994, 0.44422534108161926, 0.44410309195518494, 0.441415399312973, 0.43715593218803406, 0.4365450143814087, 0.43607017397880554, 0.4348185658454895, 0.5824880003929138, 0.5821799039840698, 0.5821799039840698, 0.5699151754379272, 0.5506453514099121, 0.5506453514099121, 0.4966682493686676, 0.4839479327201843, 0.4839479327201843, 0.48230692744255066, 0.4752032160758972, 0.4752032160758972, 0.4752032160758972, 0.4545731246471405, 0.4542432725429535, 0.4542432725429535, 0.44748973846435547, 0.44748973846435547, 0.44748973846435547, 0.4452706575393677, 0.4452706575393677, 0.44409021735191345, 0.44409021735191345, 0.43851685523986816, 0.4371568262577057, 0.4365437924861908, 0.4365437924861908, 0.4336371123790741, 0.43019866943359375, 0.42812129855155945, 0.4276711344718933, 0.4276711344718933, 0.4276711344718933, 0.4233669638633728, 0.4178957939147949, 0.4165971875190735, 0.4156758487224579, 0.4156758487224579, 0.41525694727897644, 0.4148712456226349, 0.4123114049434662, 0.5328183770179749, 0.4733099341392517, 0.4733099341392517, 0.46989256143569946, 0.4174157381057739, 0.41623735427856445, 0.41623735427856445, 0.37232986092567444, 0.3428057134151459, 0.33757132291793823, 0.33757132291793823, 0.33757132291793823, 0.3032287061214447, 0.29662320017814636, 0.27680152654647827, 0.2375122606754303, 0.2242460399866104, 0.21507273614406586, 0.2133122980594635, 0.19928334653377533, 0.19637753069400787, 0.19417911767959595, 0.1940849870443344, 0.19256745278835297, 0.19252225756645203, 0.18899166584014893, 0.18888399004936218, 0.1884704828262329, 0.1884312480688095, 0.18657849729061127, 0.18505029380321503, 0.18318389356136322, 0.18269850313663483, 0.1810004711151123, 0.17658323049545288, 0.17658323049545288, 0.17658323049545288, 0.17308121919631958, 0.17123331129550934, 0.17101876437664032, 0.16949725151062012, 0.5824880003929138, 0.5821799039840698, 0.5821799039840698, 0.5699151754379272, 0.5506453514099121, 0.5506453514099121, 0.4966682493686676, 0.4839479327201843, 0.4839479327201843, 0.48230692744255066, 0.4752032160758972, 0.4752032160758972, 0.4752032160758972, 0.4545731246471405, 0.4542432725429535, 0.4542432725429535, 0.44748973846435547, 0.44748973846435547, 0.44748973846435547, 0.4452706575393677, 0.4452706575393677, 0.44409021735191345, 0.44409021735191345, 0.43851685523986816, 0.4371568262577057, 0.4365437924861908, 0.4365437924861908, 0.4336371123790741, 0.43019866943359375, 0.42812129855155945, 0.4276711344718933, 0.4276711344718933, 0.4276711344718933, 0.4233669638633728, 0.4178957939147949, 0.4165971875190735, 0.4156758487224579, 0.4156758487224579, 0.41525694727897644, 0.4148712456226349, 0.4123114049434662, 0.8101152181625366, 0.7841189503669739, 0.6363450288772583, 0.6352996826171875, 0.6314812898635864, 0.6252812743186951, 0.6218537092208862, 0.6133591532707214, 0.5884031653404236, 0.5605901479721069, 0.5510715842247009, 0.532961368560791, 0.5216753482818604, 0.5116299390792847, 0.5116299390792847, 0.48291608691215515, 0.48288145661354065, 0.4405870735645294, 0.42226168513298035, 0.4070870280265808, 0.403054416179657, 0.4025106728076935, 0.3831230401992798, 0.3801019489765167, 0.37474268674850464, 0.3688009977340698, 0.3675616979598999, 0.3581538200378418, 0.3536152243614197, 0.353299617767334, 0.3454115688800812, 0.34425005316734314, 0.33281704783439636, 0.3282306492328644, 0.3127509355545044, 0.3103105127811432, 0.2906494736671448, 0.2866615056991577, 0.28663161396980286, 0.28663161396980286, 0.285445898771286, 0.9297945499420166, 0.9297945499420166, 0.9200876355171204, 0.918658435344696, 0.9132600426673889, 0.9095068573951721, 0.8999913334846497, 0.8800366520881653, 0.8752843737602234, 0.8752843737602234, 0.8693220019340515, 0.8561544418334961, 0.8549803495407104, 0.8515825867652893, 0.8474700450897217, 0.8437889218330383, 0.8395670652389526, 0.8334330320358276, 0.8325294256210327, 0.8288621306419373, 0.8288621306419373, 0.8251087069511414, 0.8240777850151062, 0.8196731805801392, 0.8178346157073975, 0.8126965165138245, 0.8126965165138245, 0.8095160126686096, 0.8002955913543701, 0.8002955913543701, 0.7975499033927917, 0.792204737663269, 0.7917851209640503, 0.7911412119865417, 0.7851012945175171, 0.7837355136871338, 0.7836630344390869, 0.7785884141921997, 0.7743021845817566, 0.7707070112228394, 0.7694534659385681, 0.882198691368103, 0.882198691368103, 0.8523950576782227, 0.8451240658760071, 0.843142032623291, 0.8310115933418274, 0.82120680809021, 0.8120864629745483, 0.8007610440254211, 0.7962583303451538, 0.7962583303451538, 0.787360429763794, 0.7846080660820007, 0.7846080660820007, 0.7822623252868652, 0.7814763188362122, 0.780337393283844, 0.7770045399665833, 0.7750698328018188, 0.7744483351707458, 0.7725995182991028, 0.7702317833900452, 0.769209623336792, 0.7547596096992493, 0.7534216046333313, 0.7534216046333313, 0.7503631711006165, 0.7455735802650452, 0.7277926802635193, 0.7277926802635193, 0.727500855922699, 0.7273220419883728, 0.7269908785820007, 0.7229741811752319, 0.7229741811752319, 0.7226097583770752, 0.7209883332252502, 0.7160331606864929, 0.71380615234375, 0.7129767537117004, 0.7124286890029907, 0.8689525127410889, 0.8689525127410889, 0.8567948937416077, 0.8541983366012573, 0.853681206703186, 0.8310553431510925, 0.8310553431510925, 0.8238288760185242, 0.8220720291137695, 0.8200941681861877, 0.8171266317367554, 0.8171266317367554, 0.8147334456443787, 0.8061000108718872, 0.799527108669281, 0.7985742092132568, 0.7982574701309204, 0.7982574701309204, 0.7956913709640503, 0.7933071255683899, 0.7932738661766052, 0.7920130491256714, 0.7908351421356201, 0.7901604175567627, 0.7798334956169128, 0.7760045528411865, 0.7750430107116699, 0.7678267955780029, 0.762703537940979, 0.7602656483650208, 0.7596986293792725, 0.7568444013595581, 0.7566099166870117, 0.7538824677467346, 0.7538824677467346, 0.7492589950561523, 0.7480870485305786, 0.7460027933120728, 0.7460027933120728, 0.7458281517028809, 0.7434850335121155, 0.9297945499420166, 0.9297945499420166, 0.9200876355171204, 0.918658435344696, 0.9132600426673889, 0.9095068573951721, 0.8999913334846497, 0.8800366520881653, 0.8752843737602234, 0.8752843737602234, 0.8693220019340515, 0.8561544418334961, 0.8549803495407104, 0.8515825867652893, 0.8474700450897217, 0.8437889218330383, 0.8395670652389526, 0.8334330320358276, 0.8325294256210327, 0.8288621306419373, 0.8288621306419373, 0.8251087069511414, 0.8240777850151062, 0.8196731805801392, 0.8178346157073975, 0.8126965165138245, 0.8126965165138245, 0.8095160126686096, 0.8002955913543701, 0.8002955913543701, 0.7975499033927917, 0.792204737663269, 0.7917851209640503, 0.7911412119865417, 0.7851012945175171, 0.7837355136871338, 0.7836630344390869, 0.7785884141921997, 0.7743021845817566, 0.7707070112228394, 0.7694534659385681, 0.740108847618103, 0.740108847618103, 0.7331603765487671, 0.6632623672485352, 0.6575616002082825, 0.6381726264953613, 0.6381726264953613, 0.6319500803947449, 0.6248811483383179, 0.6201664805412292, 0.6201664805412292, 0.609002947807312, 0.609002947807312, 0.609002947807312, 0.6063258051872253, 0.6059627532958984, 0.6045175194740295, 0.6039583086967468, 0.6033854484558105, 0.6027580499649048, 0.6000013947486877, 0.5931975245475769, 0.5882155299186707, 0.5845235586166382, 0.5845235586166382, 0.5809861421585083, 0.5784765481948853, 0.5678102374076843, 0.5635592937469482, 0.5624732375144958, 0.5576607584953308, 0.5565147399902344, 0.5564484596252441, 0.5514950752258301, 0.5496954321861267, 0.5484535098075867, 0.5407384634017944, 0.5364838242530823, 0.5364838242530823, 0.5362279415130615, 0.5317571759223938, 0.8335679769515991, 0.8038176894187927, 0.8008689880371094, 0.8008350729942322, 0.7914049625396729, 0.7897379994392395, 0.7897379994392395, 0.7803611755371094, 0.7731721997261047, 0.7731721997261047, 0.7711771130561829, 0.7699728012084961, 0.7674068808555603, 0.759114146232605, 0.7541041970252991, 0.7509653568267822, 0.7398703098297119, 0.7398703098297119, 0.7367540001869202, 0.7366606593132019, 0.7365670800209045, 0.7362546324729919, 0.7335169911384583, 0.7335169911384583, 0.7333406209945679, 0.7325007319450378, 0.7325007319450378, 0.7228708863258362, 0.7168430685997009, 0.7160484194755554, 0.7158039212226868, 0.71455317735672, 0.7141202092170715, 0.7127572298049927, 0.7123954892158508, 0.7123954892158508, 0.712022602558136, 0.712022602558136, 0.7088819146156311, 0.7065697312355042, 0.7060686349868774, 0.740108847618103, 0.740108847618103, 0.7331603765487671, 0.6632623672485352, 0.6575616002082825, 0.6381726264953613, 0.6381726264953613, 0.6319500803947449, 0.6248811483383179, 0.6201664805412292, 0.6201664805412292, 0.609002947807312, 0.609002947807312, 0.609002947807312, 0.6063258051872253, 0.6059627532958984, 0.6045175194740295, 0.6039583086967468, 0.6033854484558105, 0.6027580499649048, 0.6000013947486877, 0.5931975245475769, 0.5882155299186707, 0.5845235586166382, 0.5845235586166382, 0.5809861421585083, 0.5784765481948853, 0.5678102374076843, 0.5635592937469482, 0.5624732375144958, 0.5576607584953308, 0.5565147399902344, 0.5564484596252441, 0.5514950752258301, 0.5496954321861267, 0.5484535098075867, 0.5407384634017944, 0.5364838242530823, 0.5364838242530823, 0.5362279415130615, 0.5317571759223938, 0.8130764961242676, 0.8129224181175232, 0.796303927898407, 0.7814211845397949, 0.7765861749649048, 0.7763730883598328, 0.7690446376800537, 0.7644585967063904, 0.7598981261253357, 0.7546330690383911, 0.7531570792198181, 0.7503471970558167, 0.7491759061813354, 0.7423141002655029, 0.7406997680664062, 0.7403205037117004, 0.7392416000366211, 0.7364407181739807, 0.7333914637565613, 0.7325138449668884, 0.7269652485847473, 0.7263844013214111, 0.7233871817588806, 0.7185439467430115, 0.7172672748565674, 0.7172672748565674, 0.7124640941619873, 0.710597813129425, 0.7086053490638733, 0.6991310119628906, 0.697198748588562, 0.6953023076057434, 0.6925855875015259, 0.6922997236251831, 0.692049503326416, 0.6919363141059875, 0.6918898820877075, 0.6904813647270203, 0.6875404715538025, 0.6871997714042664, 0.6868137717247009, 0.9182724356651306, 0.8975472450256348, 0.8787047266960144, 0.8787047266960144, 0.8779292702674866, 0.8765450119972229, 0.8710393905639648, 0.8710393905639648, 0.8710393905639648, 0.8573892116546631, 0.8540941476821899, 0.8489974737167358, 0.845495343208313, 0.8446763157844543, 0.843058705329895, 0.843058705329895, 0.843058705329895, 0.8427602648735046, 0.842557430267334, 0.842557430267334, 0.8394647240638733, 0.8371281027793884, 0.8330665826797485, 0.8330665826797485, 0.8309558033943176, 0.8238562941551208, 0.8179967403411865, 0.814602255821228, 0.8128148317337036, 0.811594545841217, 0.8113149404525757, 0.8109158873558044, 0.8073283433914185, 0.8055439591407776, 0.8043503761291504, 0.8041149377822876, 0.8021681904792786, 0.7983459830284119, 0.795861542224884, 0.7957370281219482, 0.7950490713119507, 0.8398011922836304, 0.8398011922836304, 0.8398011922836304, 0.8368731737136841, 0.8275773525238037, 0.8262866139411926, 0.8218502402305603, 0.8177992701530457, 0.8106617331504822, 0.8103029131889343, 0.8086393475532532, 0.8086393475532532, 0.8039568662643433, 0.7825153470039368, 0.7629103064537048, 0.7604215145111084, 0.7604215145111084, 0.7594579458236694, 0.7588927745819092, 0.7544252872467041, 0.7537851333618164, 0.7534112334251404, 0.752419114112854, 0.7495669722557068, 0.7479610443115234, 0.7473207116127014, 0.7425166368484497, 0.7392247319221497, 0.7387482523918152, 0.7387482523918152, 0.7384265065193176, 0.7382073998451233, 0.7372214794158936, 0.7355377078056335, 0.7328457236289978, 0.7328457236289978, 0.73243647813797, 0.7297110557556152, 0.7288430333137512, 0.7282373309135437, 0.7279758453369141, 0.833791971206665, 0.796394944190979, 0.7860047817230225, 0.7860047817230225, 0.7711848616600037, 0.7608823776245117, 0.753488302230835, 0.753488302230835, 0.753488302230835, 0.7487056255340576, 0.7472406625747681, 0.7432874441146851, 0.7432874441146851, 0.738670825958252, 0.7378301620483398, 0.7297219634056091, 0.7277805209159851, 0.7207179665565491, 0.7199973464012146, 0.7199973464012146, 0.7162405848503113, 0.7160563468933105, 0.7160563468933105, 0.7160563468933105, 0.7158781886100769, 0.7134981751441956, 0.7116329669952393, 0.7116329669952393, 0.7042564749717712, 0.7032625079154968, 0.7011128664016724, 0.7002670764923096, 0.6980435252189636, 0.6976144313812256, 0.6976144313812256, 0.6976144313812256, 0.6923148036003113, 0.6917237639427185, 0.6836115717887878, 0.6826919317245483, 0.6826919317245483, 0.589834451675415, 0.589834451675415, 0.5426501631736755, 0.5064651370048523, 0.4989376664161682, 0.4989376664161682, 0.47963947057724, 0.46980372071266174, 0.45933884382247925, 0.45933884382247925, 0.4509531259536743, 0.44563958048820496, 0.44117656350135803, 0.4392075836658478, 0.4392075836658478, 0.4304964542388916, 0.42510679364204407, 0.4105372428894043, 0.3987816870212555, 0.39244407415390015, 0.37944167852401733, 0.37589263916015625, 0.37589263916015625, 0.37589263916015625, 0.3737981915473938, 0.3687400817871094, 0.3667372167110443, 0.36649659276008606, 0.36018142104148865, 0.35408860445022583, 0.3510696589946747, 0.3501065969467163, 0.3501065969467163, 0.34999364614486694, 0.3472311496734619, 0.3472311496734619, 0.34668001532554626, 0.3463718593120575, 0.346009224653244, 0.34559139609336853, 0.3450009226799011, 0.8702651858329773, 0.8702651858329773, 0.8412778973579407, 0.8185566663742065, 0.8061457872390747, 0.7813380360603333, 0.7779391407966614, 0.7724406719207764, 0.7535020112991333, 0.7428002953529358, 0.7418670654296875, 0.74076247215271, 0.7386108040809631, 0.7384103536605835, 0.7366421818733215, 0.7304778099060059, 0.7304778099060059, 0.7266295552253723, 0.7181456685066223, 0.716061532497406, 0.7115876078605652, 0.7079803347587585, 0.7079803347587585, 0.7077727913856506, 0.7067785859107971, 0.7050074934959412, 0.7032387852668762, 0.7004317045211792, 0.7003473043441772, 0.6964436173439026, 0.6961554288864136, 0.6955435276031494, 0.6932875514030457, 0.6930940747261047, 0.6880070567131042, 0.6877848505973816, 0.6849629878997803, 0.6841928362846375, 0.6800852417945862, 0.6759225130081177, 0.6748049855232239, 0.589834451675415, 0.589834451675415, 0.5426501631736755, 0.5064651370048523, 0.4989376664161682, 0.4989376664161682, 0.47963947057724, 0.46980372071266174, 0.45933884382247925, 0.45933884382247925, 0.4509531259536743, 0.44563958048820496, 0.44117656350135803, 0.4392075836658478, 0.4392075836658478, 0.4304964542388916, 0.42510679364204407, 0.4105372428894043, 0.3987816870212555, 0.39244407415390015, 0.37944167852401733, 0.37589263916015625, 0.37589263916015625, 0.37589263916015625, 0.3737981915473938, 0.3687400817871094, 0.3667372167110443, 0.36649659276008606, 0.36018142104148865, 0.35408860445022583, 0.3510696589946747, 0.3501065969467163, 0.3501065969467163, 0.34999364614486694, 0.3472311496734619, 0.3472311496734619, 0.34668001532554626, 0.3463718593120575, 0.346009224653244, 0.34559139609336853, 0.3450009226799011, 0.8638250827789307, 0.8597381114959717, 0.8542076945304871, 0.8508142828941345, 0.8445233106613159, 0.8295798897743225, 0.8232461810112, 0.8205651044845581, 0.8170862197875977, 0.8166198134422302, 0.8154175877571106, 0.8151765465736389, 0.8151000142097473, 0.8139041662216187, 0.8112300634384155, 0.8092693090438843, 0.8092693090438843, 0.8086994886398315, 0.8070728182792664, 0.8070728182792664, 0.8054420948028564, 0.799727201461792, 0.7933241724967957, 0.7897354960441589, 0.7896572351455688, 0.7889320254325867, 0.7888650298118591, 0.7877352237701416, 0.7877352237701416, 0.7838063836097717, 0.7791984677314758, 0.7772202491760254, 0.7765722870826721, 0.7758761644363403, 0.7758584022521973, 0.7755744457244873, 0.7744925022125244, 0.7720714807510376, 0.771888792514801, 0.771888792514801, 0.7713742852210999, 0.6469447016716003, 0.6237715482711792, 0.6146847009658813, 0.603539228439331, 0.5947681665420532, 0.5789937376976013, 0.5789937376976013, 0.5712448954582214, 0.5118466019630432, 0.5116221308708191, 0.5088282227516174, 0.5003235936164856, 0.4949883222579956, 0.4892963767051697, 0.48878204822540283, 0.48878204822540283, 0.488552063703537, 0.48652949929237366, 0.48523929715156555, 0.48523929715156555, 0.4823881983757019, 0.4765872359275818, 0.4765872359275818, 0.4720686376094818, 0.4720686376094818, 0.4720686376094818, 0.47061946988105774, 0.4699227511882782, 0.46919214725494385, 0.46919214725494385, 0.46919214725494385, 0.4689621329307556, 0.4668375849723816, 0.46650052070617676, 0.46535420417785645, 0.463974267244339, 0.46242761611938477, 0.45935946702957153, 0.4547489583492279, 0.4523405432701111, 0.4519415497779846, 0.8697506785392761, 0.7453018426895142, 0.7253910303115845, 0.7026721239089966, 0.6806302666664124, 0.6770593523979187, 0.6737773418426514, 0.6536723375320435, 0.6536723375320435, 0.6433054208755493, 0.6379513740539551, 0.6379513740539551, 0.6346374154090881, 0.6232991218566895, 0.6130477786064148, 0.6116148233413696, 0.6057249903678894, 0.6032726168632507, 0.5988749861717224, 0.5987612009048462, 0.59726482629776, 0.5947024822235107, 0.5947024822235107, 0.5940514206886292, 0.5940067768096924, 0.5920313596725464, 0.5920313596725464, 0.5852684378623962, 0.5833706855773926, 0.5833706855773926, 0.5819941759109497, 0.580976665019989, 0.5796307325363159, 0.5783453583717346, 0.5763343572616577, 0.5731985569000244, 0.5678495764732361, 0.5678495764732361, 0.5662385821342468, 0.5651525855064392, 0.5648860335350037, 0.6469447016716003, 0.6237715482711792, 0.6146847009658813, 0.603539228439331, 0.5947681665420532, 0.5789937376976013, 0.5789937376976013, 0.5712448954582214, 0.5118466019630432, 0.5116221308708191, 0.5088282227516174, 0.5003235936164856, 0.4949883222579956, 0.4892963767051697, 0.48878204822540283, 0.48878204822540283, 0.488552063703537, 0.48652949929237366, 0.48523929715156555, 0.48523929715156555, 0.4823881983757019, 0.4765872359275818, 0.4765872359275818, 0.4720686376094818, 0.4720686376094818, 0.4720686376094818, 0.47061946988105774, 0.4699227511882782, 0.46919214725494385, 0.46919214725494385, 0.46919214725494385, 0.4689621329307556, 0.4668375849723816, 0.46650052070617676, 0.46535420417785645, 0.463974267244339, 0.46242761611938477, 0.45935946702957153, 0.4547489583492279, 0.4523405432701111, 0.4519415497779846, 0.8492807745933533, 0.8049248456954956, 0.8049248456954956, 0.7982261776924133, 0.796303927898407, 0.7925276756286621, 0.7908222079277039, 0.787431001663208, 0.7848913669586182, 0.7762086391448975, 0.7743663787841797, 0.772599458694458, 0.7719559073448181, 0.7715310454368591, 0.7661048173904419, 0.7657903432846069, 0.7631475925445557, 0.7631012797355652, 0.7628963589668274, 0.7615849375724792, 0.7611016035079956, 0.7603710889816284, 0.7599456906318665, 0.7598598599433899, 0.7579643726348877, 0.7572118043899536, 0.7569151520729065, 0.7563032507896423, 0.7558974623680115, 0.7531076073646545, 0.7520252466201782, 0.7520252466201782, 0.7489843964576721, 0.7478184103965759, 0.7464145421981812, 0.7463929057121277, 0.7453857660293579, 0.7446267604827881, 0.7431557178497314, 0.7421225309371948, 0.741212785243988, 0.8696032762527466, 0.8642911314964294, 0.8557182550430298, 0.8544900417327881, 0.8413360714912415, 0.8413360714912415, 0.8301706910133362, 0.8245794773101807, 0.8228248953819275, 0.8227958679199219, 0.8226410150527954, 0.8226410150527954, 0.8204037547111511, 0.8196549415588379, 0.8185145854949951, 0.8184661865234375, 0.8127304911613464, 0.8127304911613464, 0.8104010224342346, 0.8064236044883728, 0.8054254651069641, 0.8050909042358398, 0.8039003014564514, 0.8039003014564514, 0.7987263798713684, 0.7954826951026917, 0.7944507598876953, 0.7925861477851868, 0.7911412119865417, 0.7911412119865417, 0.7911325693130493, 0.7908931374549866, 0.7891858816146851, 0.7856870889663696, 0.7816314101219177, 0.7814397215843201, 0.7814397215843201, 0.7809411883354187, 0.7785658836364746, 0.7737830877304077, 0.7737830877304077, 0.8375117182731628, 0.8119638562202454, 0.8102758526802063, 0.8091750741004944, 0.8047497272491455, 0.8031489849090576, 0.8031489849090576, 0.8016326427459717, 0.8016326427459717, 0.7974136471748352, 0.7937830686569214, 0.7899981141090393, 0.7899981141090393, 0.7898375391960144, 0.7883064150810242, 0.7880998849868774, 0.7870131731033325, 0.7850157618522644, 0.7836630344390869, 0.7836630344390869, 0.783130407333374, 0.7823737859725952, 0.7804296612739563, 0.7802079916000366, 0.7800961136817932, 0.7769807577133179, 0.7766731977462769, 0.7727250456809998, 0.7673115134239197, 0.764020562171936, 0.7620078325271606, 0.760489284992218, 0.7594525814056396, 0.7578886151313782, 0.7578886151313782, 0.7566859126091003, 0.7536128759384155, 0.7524785995483398, 0.7511493563652039, 0.7508118748664856, 0.7484874129295349, 0.7753028273582458, 0.6811169385910034, 0.6811169385910034, 0.6811169385910034, 0.6811169385910034, 0.6811169385910034, 0.6811169385910034, 0.6811169385910034, 0.6811169385910034, 0.6811169385910034, 0.6793510317802429, 0.6475103497505188, 0.6468022465705872, 0.6441972255706787, 0.6248106956481934, 0.6246647834777832, 0.6246647834777832, 0.6242321133613586, 0.6240596175193787, 0.619867742061615, 0.6156681180000305, 0.6154693365097046, 0.606901228427887, 0.6054015755653381, 0.6054015755653381, 0.5944195985794067, 0.5924610495567322, 0.5909181833267212, 0.5896833539009094, 0.5799671411514282, 0.5649186968803406, 0.5558075904846191, 0.5537235140800476, 0.549519956111908, 0.5445185303688049, 0.5438626408576965, 0.541466236114502, 0.5409862399101257, 0.5400543808937073, 0.5382266640663147, 0.5369452834129333, 0.8789336085319519, 0.8655989170074463, 0.8590267300605774, 0.8584936261177063, 0.8582810759544373, 0.8521261811256409, 0.8493621945381165, 0.8465336561203003, 0.8465336561203003, 0.8400191068649292, 0.8400191068649292, 0.8307878971099854, 0.8305587768554688, 0.8275384306907654, 0.8243314623832703, 0.8234199285507202, 0.823368489742279, 0.8197121620178223, 0.8193769454956055, 0.8183324933052063, 0.8119404911994934, 0.8119404911994934, 0.8107982277870178, 0.809737503528595, 0.8070871829986572, 0.8047168254852295, 0.7962938547134399, 0.794948935508728, 0.7947238683700562, 0.7926740646362305, 0.7919041514396667, 0.7917851209640503, 0.7917851209640503, 0.7910972833633423, 0.7844330072402954, 0.7838889956474304, 0.7798426151275635, 0.7798426151275635, 0.7763363718986511, 0.7754356861114502, 0.7754356861114502, 0.8373926281929016, 0.8026012778282166, 0.7064992785453796, 0.6970888376235962, 0.6970888376235962, 0.6970888376235962, 0.6698773503303528, 0.6698773503303528, 0.6480683088302612, 0.6480683088302612, 0.6296857595443726, 0.6020433902740479, 0.6010056734085083, 0.5919190645217896, 0.5890687108039856, 0.5806760787963867, 0.5806760787963867, 0.5806760787963867, 0.5806760787963867, 0.5694546103477478, 0.5694546103477478, 0.5630508661270142, 0.5598365664482117, 0.5479427576065063, 0.5333417057991028, 0.5318586826324463, 0.5314276814460754, 0.525181770324707, 0.5212928056716919, 0.5210803747177124, 0.5188342928886414, 0.5114685297012329, 0.5114685297012329, 0.5082615613937378, 0.5040379762649536, 0.4994761049747467, 0.4994487762451172, 0.49889349937438965, 0.49819207191467285, 0.49769389629364014, 0.49769389629364014, 0.8953332901000977, 0.8560794591903687, 0.8506974577903748, 0.8452363610267639, 0.8364517688751221, 0.8212844133377075, 0.8096596598625183, 0.7960432767868042, 0.7944777607917786, 0.7787317037582397, 0.7733598351478577, 0.7685729265213013, 0.7670568823814392, 0.7625449895858765, 0.7605354189872742, 0.759647011756897, 0.7582163214683533, 0.7510352730751038, 0.7510064244270325, 0.7464721202850342, 0.7460087537765503, 0.7451332211494446, 0.7450018525123596, 0.7428039312362671, 0.7409149408340454, 0.7390772700309753, 0.7382699251174927, 0.7381765246391296, 0.7334264516830444, 0.7266295552253723, 0.7249006628990173, 0.724827766418457, 0.7229792475700378, 0.7204620838165283, 0.7189084887504578, 0.7170497179031372, 0.7156930565834045, 0.7132373452186584, 0.7102066278457642, 0.708739161491394, 0.705182671546936, 0.8373926281929016, 0.8026012778282166, 0.7064992785453796, 0.6970888376235962, 0.6970888376235962, 0.6970888376235962, 0.6698773503303528, 0.6698773503303528, 0.6480683088302612, 0.6480683088302612, 0.6296857595443726, 0.6020433902740479, 0.6010056734085083, 0.5919190645217896, 0.5890687108039856, 0.5806760787963867, 0.5806760787963867, 0.5806760787963867, 0.5806760787963867, 0.5694546103477478, 0.5694546103477478, 0.5630508661270142, 0.5598365664482117, 0.5479427576065063, 0.5333417057991028, 0.5318586826324463, 0.5314276814460754, 0.525181770324707, 0.5212928056716919, 0.5210803747177124, 0.5188342928886414, 0.5114685297012329, 0.5114685297012329, 0.5082615613937378, 0.5040379762649536, 0.4994761049747467, 0.4994487762451172, 0.49889349937438965, 0.49819207191467285, 0.49769389629364014, 0.49769389629364014, 0.7224149107933044, 0.7219427227973938, 0.6519609689712524, 0.6364626288414001, 0.6363394260406494, 0.6196470260620117, 0.6160413026809692, 0.6111228466033936, 0.6105437278747559, 0.6090090870857239, 0.6042463183403015, 0.595284104347229, 0.5913745164871216, 0.5913745164871216, 0.5905308723449707, 0.5815715789794922, 0.5811017155647278, 0.5806384086608887, 0.5760414004325867, 0.5723912715911865, 0.5717014670372009, 0.5680742859840393, 0.5652364492416382, 0.5605782270431519, 0.5598455667495728, 0.5597156286239624, 0.5593950152397156, 0.5570511221885681, 0.5570511221885681, 0.5524604916572571, 0.5494007468223572, 0.5483768582344055, 0.54751056432724, 0.5469063520431519, 0.5467547178268433, 0.5463700294494629, 0.5447580814361572, 0.5445459485054016, 0.5444649457931519, 0.5419495105743408, 0.5408488512039185, 0.995103657245636, 0.9882224202156067, 0.9695971012115479, 0.9695971012115479, 0.9695971012115479, 0.9695971012115479, 0.9695971012115479, 0.9695971012115479, 0.9695971012115479, 0.9695971012115479, 0.9695971012115479, 0.9695971012115479, 0.9695971012115479, 0.9695971012115479, 0.9695971012115479, 0.967222273349762, 0.9628059267997742, 0.9628059267997742, 0.9620053172111511, 0.9572572112083435, 0.9550828337669373, 0.9502158761024475, 0.9502158761024475, 0.9449242353439331, 0.9449242353439331, 0.9449242353439331, 0.9447740316390991, 0.9447740316390991, 0.9447740316390991, 0.9170131087303162, 0.896367073059082, 0.8952874541282654, 0.8814314007759094, 0.8793439865112305, 0.8568904399871826, 0.851590633392334, 0.849469780921936, 0.8272497057914734, 0.8272497057914734, 0.825509250164032, 0.80111163854599, 0.7794236540794373, 0.7446156740188599, 0.6901437640190125, 0.6886746883392334, 0.6886746883392334, 0.6825100779533386, 0.6768870949745178, 0.6762244701385498, 0.6733437776565552, 0.6733437776565552, 0.6517015099525452, 0.6428746581077576, 0.627509593963623, 0.6262591481208801, 0.6254539489746094, 0.6078760623931885, 0.6078760623931885, 0.6078760623931885, 0.606662392616272, 0.6055465340614319, 0.5917295217514038, 0.5889610648155212, 0.5774831771850586, 0.5774831771850586, 0.5762989521026611, 0.5760819315910339, 0.5760819315910339, 0.5760819315910339, 0.573765218257904, 0.5714808106422424, 0.5686697959899902, 0.5665910243988037, 0.5649200677871704, 0.5649200677871704, 0.5632640719413757, 0.5609077215194702, 0.5576732754707336, 0.5562645196914673, 0.5549273490905762, 0.5504755973815918, 0.548102617263794, 0.8754492998123169, 0.8627831339836121, 0.8627831339836121, 0.8627831339836121, 0.8619174361228943, 0.8586335778236389, 0.8523067235946655, 0.8482574820518494, 0.8463531732559204, 0.8463531732559204, 0.8407964110374451, 0.8373569846153259, 0.8320798277854919, 0.8294845223426819, 0.8270795345306396, 0.8270795345306396, 0.8250486254692078, 0.8237274289131165, 0.8113619685173035, 0.8079160451889038, 0.8061844706535339, 0.8031936883926392, 0.8031585812568665, 0.7949473857879639, 0.7949473857879639, 0.7905248999595642, 0.7905248999595642, 0.7905248999595642, 0.7830708622932434, 0.7806396484375, 0.7798714637756348, 0.7792993187904358, 0.7738585472106934, 0.7728689312934875, 0.7703649401664734, 0.7689377069473267, 0.76883864402771, 0.7676762342453003, 0.7669655680656433, 0.7598503828048706, 0.7598503828048706, 0.9020983576774597, 0.8995406031608582, 0.8863942623138428, 0.8863942623138428, 0.8863942623138428, 0.8847934603691101, 0.8847934603691101, 0.8828895092010498, 0.8728939890861511, 0.8713505268096924, 0.8713505268096924, 0.8507580161094666, 0.8484933376312256, 0.8347888588905334, 0.8318445682525635, 0.8290795087814331, 0.8273774981498718, 0.8222151398658752, 0.8124930262565613, 0.8124930262565613, 0.8124930262565613, 0.801531970500946, 0.8011514544487, 0.7981782555580139, 0.7943962216377258, 0.7921597957611084, 0.7910872101783752, 0.7909475564956665, 0.7897350788116455, 0.7894291877746582, 0.7868921756744385, 0.7812328338623047, 0.7812328338623047, 0.7762058973312378, 0.7710598111152649, 0.770016610622406, 0.7683693766593933, 0.7639431953430176, 0.7618852257728577, 0.7617314457893372, 0.7617314457893372, 1.0000001192092896, 0.9396716356277466, 0.7168745398521423, 0.7168745398521423, 0.7052812576293945, 0.6939659714698792, 0.6939659714698792, 0.6939659714698792, 0.6939659714698792, 0.6939659714698792, 0.6939659714698792, 0.6939659714698792, 0.6778064370155334, 0.6596189737319946, 0.6562036275863647, 0.6488024592399597, 0.598789393901825, 0.5972840785980225, 0.5972244739532471, 0.5883336067199707, 0.5881837606430054, 0.5854077339172363, 0.5852097868919373, 0.5832822918891907, 0.5815601944923401, 0.5792528390884399, 0.5726391673088074, 0.5681071877479553, 0.5677922964096069, 0.5664589405059814, 0.5651786923408508, 0.5510072112083435, 0.5491139888763428, 0.5487120747566223, 0.5458993315696716, 0.5449384450912476, 0.5412366986274719, 0.5411067605018616, 0.5405007600784302, 0.5360850691795349, 0.5360850691795349, 0.8754492998123169, 0.8627831339836121, 0.8627831339836121, 0.8627831339836121, 0.8619174361228943, 0.8586335778236389, 0.8523067235946655, 0.8482574820518494, 0.8463531732559204, 0.8463531732559204, 0.8407964110374451, 0.8373569846153259, 0.8320798277854919, 0.8294845223426819, 0.8270795345306396, 0.8270795345306396, 0.8250486254692078, 0.8237274289131165, 0.8113619685173035, 0.8079160451889038, 0.8061844706535339, 0.8031936883926392, 0.8031585812568665, 0.7949473857879639, 0.7949473857879639, 0.7905248999595642, 0.7905248999595642, 0.7905248999595642, 0.7830708622932434, 0.7806396484375, 0.7798714637756348, 0.7792993187904358, 0.7738585472106934, 0.7728689312934875, 0.7703649401664734, 0.7689377069473267, 0.76883864402771, 0.7676762342453003, 0.7669655680656433, 0.7598503828048706, 0.7598503828048706, 0.8754492998123169, 0.8627831339836121, 0.8627831339836121, 0.8627831339836121, 0.8619174361228943, 0.8586335778236389, 0.8523067235946655, 0.8482574820518494, 0.8463531732559204, 0.8463531732559204, 0.8407964110374451, 0.8373569846153259, 0.8320798277854919, 0.8294845223426819, 0.8270795345306396, 0.8270795345306396, 0.8250486254692078, 0.8237274289131165, 0.8113619685173035, 0.8079160451889038, 0.8061844706535339, 0.8031936883926392, 0.8031585812568665, 0.7949473857879639, 0.7949473857879639, 0.7905248999595642, 0.7905248999595642, 0.7905248999595642, 0.7830708622932434, 0.7806396484375, 0.7798714637756348, 0.7792993187904358, 0.7738585472106934, 0.7728689312934875, 0.7703649401664734, 0.7689377069473267, 0.76883864402771, 0.7676762342453003, 0.7669655680656433, 0.7598503828048706, 0.7598503828048706, 0.9020983576774597, 0.8995406031608582, 0.8863942623138428, 0.8863942623138428, 0.8863942623138428, 0.8847934603691101, 0.8847934603691101, 0.8828895092010498, 0.8728939890861511, 0.8713505268096924, 0.8713505268096924, 0.8507580161094666, 0.8484933376312256, 0.8347888588905334, 0.8318445682525635, 0.8290795087814331, 0.8273774981498718, 0.8222151398658752, 0.8124930262565613, 0.8124930262565613, 0.8124930262565613, 0.801531970500946, 0.8011514544487, 0.7981782555580139, 0.7943962216377258, 0.7921597957611084, 0.7910872101783752, 0.7909475564956665, 0.7897350788116455, 0.7894291877746582, 0.7868921756744385, 0.7812328338623047, 0.7812328338623047, 0.7762058973312378, 0.7710598111152649, 0.770016610622406, 0.7683693766593933, 0.7639431953430176, 0.7618852257728577, 0.7617314457893372, 0.7617314457893372, 1.0000001192092896, 0.9396716356277466, 0.7168745398521423, 0.7168745398521423, 0.7052812576293945, 0.6939659714698792, 0.6939659714698792, 0.6939659714698792, 0.6939659714698792, 0.6939659714698792, 0.6939659714698792, 0.6939659714698792, 0.6778064370155334, 0.6596189737319946, 0.6562036275863647, 0.6488024592399597, 0.598789393901825, 0.5972840785980225, 0.5972244739532471, 0.5883336067199707, 0.5881837606430054, 0.5854077339172363, 0.5852097868919373, 0.5832822918891907, 0.5815601944923401, 0.5792528390884399, 0.5726391673088074, 0.5681071877479553, 0.5677922964096069, 0.5664589405059814, 0.5651786923408508, 0.5510072112083435, 0.5491139888763428, 0.5487120747566223, 0.5458993315696716, 0.5449384450912476, 0.5412366986274719, 0.5411067605018616, 0.5405007600784302, 0.5360850691795349, 0.5360850691795349, 0.8754492998123169, 0.8627831339836121, 0.8627831339836121, 0.8627831339836121, 0.8619174361228943, 0.8586335778236389, 0.8523067235946655, 0.8482574820518494, 0.8463531732559204, 0.8463531732559204, 0.8407964110374451, 0.8373569846153259, 0.8320798277854919, 0.8294845223426819, 0.8270795345306396, 0.8270795345306396, 0.8250486254692078, 0.8237274289131165, 0.8113619685173035, 0.8079160451889038, 0.8061844706535339, 0.8031936883926392, 0.8031585812568665, 0.7949473857879639, 0.7949473857879639, 0.7905248999595642, 0.7905248999595642, 0.7905248999595642, 0.7830708622932434, 0.7806396484375, 0.7798714637756348, 0.7792993187904358, 0.7738585472106934, 0.7728689312934875, 0.7703649401664734, 0.7689377069473267, 0.76883864402771, 0.7676762342453003, 0.7669655680656433, 0.7598503828048706, 0.7598503828048706, 0.7522067427635193, 0.7522067427635193, 0.7493024468421936, 0.73481684923172, 0.7332383990287781, 0.7332383990287781, 0.7074289917945862, 0.7048047780990601, 0.6811603307723999, 0.6791993379592896, 0.6775946021080017, 0.6762803792953491, 0.6762803792953491, 0.6735295057296753, 0.6714752912521362, 0.6656906604766846, 0.6646806597709656, 0.6646806597709656, 0.6624584794044495, 0.6624584794044495, 0.659399688243866, 0.657378613948822, 0.6567076444625854, 0.6559904217720032, 0.6542122960090637, 0.6522625684738159, 0.6515691876411438, 0.6508216857910156, 0.6426769495010376, 0.6426769495010376, 0.6373798847198486, 0.6370108127593994, 0.6369836330413818, 0.6364119648933411, 0.6345841884613037, 0.6312589049339294, 0.6301240921020508, 0.6290659308433533, 0.6277391314506531, 0.6277139186859131, 0.6247363090515137, 0.813559889793396, 0.7972663044929504, 0.76821368932724, 0.7656649947166443, 0.7656649947166443, 0.7656071782112122, 0.7395917177200317, 0.7377654314041138, 0.7357195019721985, 0.7300662994384766, 0.7300662994384766, 0.7266339063644409, 0.7225513458251953, 0.7199313044548035, 0.7199313044548035, 0.7195219397544861, 0.7195219397544861, 0.7155827283859253, 0.7126545906066895, 0.7113932371139526, 0.7086279392242432, 0.7071347832679749, 0.7051393389701843, 0.69093257188797, 0.6909163594245911, 0.6905885934829712, 0.6905885934829712, 0.687720537185669, 0.6846168637275696, 0.6844731569290161, 0.6834844350814819, 0.6810547113418579, 0.6809526085853577, 0.6791539788246155, 0.6740925312042236, 0.6733307242393494, 0.6725461483001709, 0.6720436811447144, 0.6693021655082703, 0.6678012013435364, 0.6664859056472778, 1.000000238418579, 1.000000238418579, 1.000000238418579, 1.000000238418579, 1.000000238418579, 1.000000238418579, 1.000000238418579, 1.000000238418579, 1.000000238418579, 1.000000238418579, 1.000000238418579, 1.000000238418579, 1.000000238418579, 1.000000238418579, 1.000000238418579, 1.000000238418579, 1.000000238418579, 1.000000238418579, 1.000000238418579, 1.000000238418579, 1.000000238418579, 1.000000238418579, 0.9574097990989685, 0.9426024556159973, 0.8813287615776062, 0.8635138273239136, 0.863373339176178, 0.8320502042770386, 0.8275708556175232, 0.8241726756095886, 0.8001569509506226, 0.7968288660049438, 0.7854692339897156, 0.7655314207077026, 0.7522910833358765, 0.7513349652290344, 0.739791989326477, 0.7379353046417236, 0.7329328656196594, 0.7250686883926392, 0.7223532199859619, 0.8327962756156921, 0.8327962756156921, 0.7769620418548584, 0.7735218405723572, 0.7699519991874695, 0.7699519991874695, 0.7699471116065979, 0.7699471116065979, 0.7624568343162537, 0.7593040466308594, 0.7586116790771484, 0.7580119371414185, 0.7531816959381104, 0.7460957169532776, 0.7445272207260132, 0.7436007261276245, 0.7436007261276245, 0.7383050322532654, 0.733790397644043, 0.733790397644043, 0.7288401126861572, 0.7277612090110779, 0.7266255021095276, 0.7266255021095276, 0.7246442437171936, 0.7220472693443298, 0.7219717502593994, 0.7219345569610596, 0.7216546535491943, 0.7211337685585022, 0.7211337685585022, 0.7207714915275574, 0.7199258208274841, 0.7167068719863892, 0.7138859033584595, 0.7120193839073181, 0.7120193839073181, 0.7115180492401123, 0.7059791088104248, 0.7053012847900391, 0.7053012847900391, 0.7522067427635193, 0.7522067427635193, 0.7493024468421936, 0.73481684923172, 0.7332383990287781, 0.7332383990287781, 0.7074289917945862, 0.7048047780990601, 0.6811603307723999, 0.6791993379592896, 0.6775946021080017, 0.6762803792953491, 0.6762803792953491, 0.6735295057296753, 0.6714752912521362, 0.6656906604766846, 0.6646806597709656, 0.6646806597709656, 0.6624584794044495, 0.6624584794044495, 0.659399688243866, 0.657378613948822, 0.6567076444625854, 0.6559904217720032, 0.6542122960090637, 0.6522625684738159, 0.6515691876411438, 0.6508216857910156, 0.6426769495010376, 0.6426769495010376, 0.6373798847198486, 0.6370108127593994, 0.6369836330413818, 0.6364119648933411, 0.6345841884613037, 0.6312589049339294, 0.6301240921020508, 0.6290659308433533, 0.6277391314506531, 0.6277139186859131, 0.6247363090515137, 0.813559889793396, 0.7972663044929504, 0.76821368932724, 0.7656649947166443, 0.7656649947166443, 0.7656071782112122, 0.7395917177200317, 0.7377654314041138, 0.7357195019721985, 0.7300662994384766, 0.7300662994384766, 0.7266339063644409, 0.7225513458251953, 0.7199313044548035, 0.7199313044548035, 0.7195219397544861, 0.7195219397544861, 0.7155827283859253, 0.7126545906066895, 0.7113932371139526, 0.7086279392242432, 0.7071347832679749, 0.7051393389701843, 0.69093257188797, 0.6909163594245911, 0.6905885934829712, 0.6905885934829712, 0.687720537185669, 0.6846168637275696, 0.6844731569290161, 0.6834844350814819, 0.6810547113418579, 0.6809526085853577, 0.6791539788246155, 0.6740925312042236, 0.6733307242393494, 0.6725461483001709, 0.6720436811447144, 0.6693021655082703, 0.6678012013435364, 0.6664859056472778, 1.000000238418579, 1.000000238418579, 1.000000238418579, 1.000000238418579, 1.000000238418579, 1.000000238418579, 1.000000238418579, 1.000000238418579, 1.000000238418579, 1.000000238418579, 1.000000238418579, 1.000000238418579, 1.000000238418579, 1.000000238418579, 1.000000238418579, 1.000000238418579, 1.000000238418579, 1.000000238418579, 1.000000238418579, 1.000000238418579, 1.000000238418579, 1.000000238418579, 0.9574097990989685, 0.9426024556159973, 0.8813287615776062, 0.8635138273239136, 0.863373339176178, 0.8320502042770386, 0.8275708556175232, 0.8241726756095886, 0.8001569509506226, 0.7968288660049438, 0.7854692339897156, 0.7655314207077026, 0.7522910833358765, 0.7513349652290344, 0.739791989326477, 0.7379353046417236, 0.7329328656196594, 0.7250686883926392, 0.7223532199859619, 0.8327962756156921, 0.8327962756156921, 0.7769620418548584, 0.7735218405723572, 0.7699519991874695, 0.7699519991874695, 0.7699471116065979, 0.7699471116065979, 0.7624568343162537, 0.7593040466308594, 0.7586116790771484, 0.7580119371414185, 0.7531816959381104, 0.7460957169532776, 0.7445272207260132, 0.7436007261276245, 0.7436007261276245, 0.7383050322532654, 0.733790397644043, 0.733790397644043, 0.7288401126861572, 0.7277612090110779, 0.7266255021095276, 0.7266255021095276, 0.7246442437171936, 0.7220472693443298, 0.7219717502593994, 0.7219345569610596, 0.7216546535491943, 0.7211337685585022, 0.7211337685585022, 0.7207714915275574, 0.7199258208274841, 0.7167068719863892, 0.7138859033584595, 0.7120193839073181, 0.7120193839073181, 0.7115180492401123, 0.7059791088104248, 0.7053012847900391, 0.7053012847900391, 0.8251964449882507, 0.781201183795929, 0.772207498550415, 0.769885241985321, 0.7501010894775391, 0.7487745881080627, 0.7331514358520508, 0.7313883900642395, 0.7291166186332703, 0.724255383014679, 0.7242347598075867, 0.7191292643547058, 0.7188978791236877, 0.7164438962936401, 0.7161656022071838, 0.7161656022071838, 0.7135186195373535, 0.7129958868026733, 0.7129958868026733, 0.7121682167053223, 0.7068905830383301, 0.7040784955024719, 0.7029563188552856, 0.7006073594093323, 0.6946238875389099, 0.6924777030944824, 0.6917902827262878, 0.6901097297668457, 0.6900209188461304, 0.6900209188461304, 0.6891098618507385, 0.6867449879646301, 0.6863712668418884, 0.6858835220336914, 0.6848045587539673, 0.6815003156661987, 0.6812673807144165, 0.6804323196411133, 0.6802194714546204, 0.6797618269920349, 0.6782474517822266, 0.7322713136672974, 0.7141726016998291, 0.6944764256477356, 0.6858162879943848, 0.6798250675201416, 0.6755474209785461, 0.6717861294746399, 0.6717861294746399, 0.6680859923362732, 0.662900447845459, 0.6499240398406982, 0.6477396488189697, 0.6477396488189697, 0.6395196914672852, 0.6373189091682434, 0.6363939046859741, 0.6363939046859741, 0.6305833458900452, 0.630218505859375, 0.6245408654212952, 0.6186469793319702, 0.6124340295791626, 0.6069892644882202, 0.6039431691169739, 0.5980857014656067, 0.5980821847915649, 0.5955130457878113, 0.5900957584381104, 0.5860657095909119, 0.5846195220947266, 0.5846148133277893, 0.572486937046051, 0.5718252658843994, 0.5705506801605225, 0.5703098177909851, 0.5703098177909851, 0.5703098177909851, 0.5690835118293762, 0.5686128735542297, 0.5674460530281067, 0.5650399923324585, 0.6727168560028076, 0.6669741272926331, 0.6656554341316223, 0.6551120281219482, 0.6551120281219482, 0.6516281366348267, 0.6450506448745728, 0.6414877772331238, 0.6331165432929993, 0.6287063360214233, 0.6191765666007996, 0.6191765666007996, 0.6191765666007996, 0.6155761480331421, 0.6110959053039551, 0.6097838878631592, 0.6093447208404541, 0.6087908148765564, 0.6084640622138977, 0.607988715171814, 0.6075024008750916, 0.60660719871521, 0.6048778295516968, 0.6018862128257751, 0.6018862128257751, 0.6011318564414978, 0.5991459488868713, 0.5989346504211426, 0.5949472784996033, 0.5917268991470337, 0.5909689664840698, 0.5909689664840698, 0.5887425541877747, 0.5877456665039062, 0.5874545574188232, 0.5874545574188232, 0.5874545574188232, 0.5851966738700867, 0.5851966738700867, 0.5836185812950134, 0.5826168060302734, 0.8388932347297668, 0.769249439239502, 0.7630764245986938, 0.7541507482528687, 0.752677857875824, 0.7425674200057983, 0.7425674200057983, 0.7319186925888062, 0.7298003435134888, 0.7227438688278198, 0.7137060165405273, 0.7136369943618774, 0.7096715569496155, 0.700957179069519, 0.7007185816764832, 0.696991503238678, 0.6969117522239685, 0.6949298977851868, 0.6889495849609375, 0.6841058731079102, 0.683800995349884, 0.6831369996070862, 0.6811822652816772, 0.6810445189476013, 0.6770415902137756, 0.6734586358070374, 0.6707171201705933, 0.6645355820655823, 0.6638567447662354, 0.6638567447662354, 0.6593244075775146, 0.6569529175758362, 0.6562584638595581, 0.6553429365158081, 0.6548158526420593, 0.6548158526420593, 0.654142439365387, 0.6534791588783264, 0.6514015197753906, 0.6501621007919312, 0.6484907269477844, 0.8491572737693787, 0.8491572737693787, 0.8491572737693787, 0.7528312802314758, 0.725037157535553, 0.6712453365325928, 0.5568163990974426, 0.5319565534591675, 0.5169399976730347, 0.5169399976730347, 0.490186482667923, 0.4688740074634552, 0.46190711855888367, 0.46190711855888367, 0.3992624282836914, 0.3992624282836914, 0.39433732628822327, 0.39433732628822327, 0.3883254826068878, 0.3879159986972809, 0.350501149892807, 0.350501149892807, 0.3465161919593811, 0.3299253582954407, 0.32705608010292053, 0.32705608010292053, 0.31720077991485596, 0.31720077991485596, 0.31720077991485596, 0.3146447539329529, 0.31419578194618225, 0.3140806257724762, 0.3049416244029999, 0.2984897196292877, 0.29476019740104675, 0.29476019740104675, 0.29476019740104675, 0.2902420163154602, 0.2898535132408142, 0.2872895896434784, 0.27367258071899414, 0.8491572737693787, 0.8491572737693787, 0.8491572737693787, 0.7528312802314758, 0.725037157535553, 0.6712453365325928, 0.5568163990974426, 0.5319565534591675, 0.5169399976730347, 0.5169399976730347, 0.490186482667923, 0.4688740074634552, 0.46190711855888367, 0.46190711855888367, 0.3992624282836914, 0.3992624282836914, 0.39433732628822327, 0.39433732628822327, 0.3883254826068878, 0.3879159986972809, 0.350501149892807, 0.350501149892807, 0.3465161919593811, 0.3299253582954407, 0.32705608010292053, 0.32705608010292053, 0.31720077991485596, 0.31720077991485596, 0.31720077991485596, 0.3146447539329529, 0.31419578194618225, 0.3140806257724762, 0.3049416244029999, 0.2984897196292877, 0.29476019740104675, 0.29476019740104675, 0.29476019740104675, 0.2902420163154602, 0.2898535132408142, 0.2872895896434784, 0.27367258071899414, 0.42929309606552124, 0.4287251830101013, 0.3519139587879181, 0.34866297245025635, 0.33395883440971375, 0.33219337463378906, 0.33209607005119324, 0.32506227493286133, 0.32046398520469666, 0.3164202570915222, 0.28658920526504517, 0.27532726526260376, 0.2696504294872284, 0.26807913184165955, 0.2634304165840149, 0.25807181000709534, 0.2567846179008484, 0.2567846179008484, 0.2567846179008484, 0.2542872428894043, 0.2531597316265106, 0.2516871690750122, 0.2445293813943863, 0.24402493238449097, 0.23613129556179047, 0.23344407975673676, 0.2325717955827713, 0.22905969619750977, 0.22887355089187622, 0.2253420352935791, 0.224648579955101, 0.2209620177745819, 0.22082221508026123, 0.2208084613084793, 0.21897931396961212, 0.21385620534420013, 0.209732323884964, 0.2077839970588684, 0.20556901395320892, 0.20425629615783691, 0.20134752988815308, 0.7238984704017639, 0.7159470915794373, 0.5754545331001282, 0.5754545331001282, 0.5754545331001282, 0.5679771304130554, 0.5462391376495361, 0.5339721441268921, 0.5315898060798645, 0.5315898060798645, 0.5104063749313354, 0.5092824101448059, 0.47433704137802124, 0.463435560464859, 0.45509102940559387, 0.4382215738296509, 0.4368516802787781, 0.398987352848053, 0.39264801144599915, 0.37597256898880005, 0.37514781951904297, 0.3737896978855133, 0.37027186155319214, 0.35852745175361633, 0.35717326402664185, 0.35717326402664185, 0.35331711173057556, 0.34993869066238403, 0.3408040702342987, 0.3408040702342987, 0.3408040702342987, 0.34080269932746887, 0.34080269932746887, 0.337348073720932, 0.3301374912261963, 0.3292439579963684, 0.3169099688529968, 0.3071150779724121, 0.3042342960834503, 0.3039253056049347, 0.29819679260253906, 0.8363062739372253, 0.8246235847473145, 0.8079874515533447, 0.8003316521644592, 0.7754809260368347, 0.7686134576797485, 0.7652873396873474, 0.762191891670227, 0.7565373778343201, 0.7565373778343201, 0.7442358732223511, 0.7442358732223511, 0.7425963282585144, 0.7410985827445984, 0.7378048300743103, 0.7352498769760132, 0.7331184148788452, 0.733069121837616, 0.7244324088096619, 0.7225451469421387, 0.7201148271560669, 0.7113271951675415, 0.7113271951675415, 0.7105525732040405, 0.7103567719459534, 0.7088105082511902, 0.7079614400863647, 0.7074366807937622, 0.7044164538383484, 0.7044164538383484, 0.7041590213775635, 0.7041590213775635, 0.7041590213775635, 0.7041590213775635, 0.7036654949188232, 0.6996872425079346, 0.69236820936203, 0.6921451091766357, 0.6848832964897156, 0.6820297241210938, 0.6813540458679199, 0.8615742921829224, 0.8187453150749207, 0.8177028894424438, 0.8162489533424377, 0.8126190304756165, 0.8092129230499268, 0.8059247732162476, 0.8042925596237183, 0.7936553359031677, 0.7909276485443115, 0.7892444729804993, 0.7890653610229492, 0.784942626953125, 0.7799583077430725, 0.7798384428024292, 0.7758666276931763, 0.7752118706703186, 0.7743491530418396, 0.7730444073677063, 0.7730444073677063, 0.7730444073677063, 0.7723564505577087, 0.7714577317237854, 0.7712177038192749, 0.7700902223587036, 0.769889235496521, 0.769889235496521, 0.7686909437179565, 0.7671940922737122, 0.7671940922737122, 0.7638404965400696, 0.7638404965400696, 0.7634592056274414, 0.7630296945571899, 0.7625856399536133, 0.7610564231872559, 0.7602868676185608, 0.7593422532081604, 0.7578312158584595, 0.7575810551643372, 0.7575810551643372, 0.9139083623886108, 0.8854528069496155, 0.8529958724975586, 0.8337037563323975, 0.8317569494247437, 0.8270021080970764, 0.8252052664756775, 0.816286563873291, 0.8128735423088074, 0.8128735423088074, 0.8128735423088074, 0.8117557764053345, 0.8112077116966248, 0.8062026500701904, 0.8050693273544312, 0.8043870329856873, 0.8007959127426147, 0.7970829606056213, 0.7957308292388916, 0.7946622371673584, 0.7939074039459229, 0.7933086156845093, 0.7927329540252686, 0.7924343347549438, 0.7882758975028992, 0.7882758975028992, 0.7879782319068909, 0.7860183715820312, 0.7827008962631226, 0.7818433046340942, 0.7778066396713257, 0.7769537568092346, 0.7727444171905518, 0.7700391411781311, 0.7680144309997559, 0.7679581642150879, 0.7674023509025574, 0.7652578949928284, 0.7630495429039001, 0.7607167959213257, 0.760528028011322, 1.000000238418579, 1.000000238418579, 1.000000238418579, 1.000000238418579, 1.000000238418579, 1.000000238418579, 1.000000238418579, 1.000000238418579, 1.000000238418579, 1.000000238418579, 1.000000238418579, 1.000000238418579, 1.000000238418579, 1.000000238418579, 1.000000238418579, 1.000000238418579, 1.000000238418579, 1.000000238418579, 1.000000238418579, 1.000000238418579, 1.000000238418579, 1.000000238418579, 1.000000238418579, 0.9574097990989685, 0.9426024556159973, 0.8813287615776062, 0.8635138273239136, 0.863373339176178, 0.8320502042770386, 0.8275708556175232, 0.8241726756095886, 0.8001569509506226, 0.7968288660049438, 0.7854692339897156, 0.7655314207077026, 0.7522910833358765, 0.7513349652290344, 0.739791989326477, 0.7379353046417236, 0.7329328656196594, 0.7250686883926392, 0.8615742921829224, 0.8187453150749207, 0.8177028894424438, 0.8162489533424377, 0.8126190304756165, 0.8092129230499268, 0.8059247732162476, 0.8042925596237183, 0.7936553359031677, 0.7909276485443115, 0.7892444729804993, 0.7890653610229492, 0.784942626953125, 0.7799583077430725, 0.7798384428024292, 0.7758666276931763, 0.7752118706703186, 0.7743491530418396, 0.7730444073677063, 0.7730444073677063, 0.7730444073677063, 0.7723564505577087, 0.7714577317237854, 0.7712177038192749, 0.7700902223587036, 0.769889235496521, 0.769889235496521, 0.7686909437179565, 0.7671940922737122, 0.7671940922737122, 0.7638404965400696, 0.7638404965400696, 0.7634592056274414, 0.7630296945571899, 0.7625856399536133, 0.7610564231872559, 0.7602868676185608, 0.7593422532081604, 0.7578312158584595, 0.7575810551643372, 0.7575810551643372, 0.706656277179718, 0.6734298467636108, 0.630685567855835, 0.6287075877189636, 0.6237692832946777, 0.6091969609260559, 0.6061185598373413, 0.6016429662704468, 0.6002506613731384, 0.5986839532852173, 0.5836369395256042, 0.5836369395256042, 0.5829930305480957, 0.5808872580528259, 0.5791544318199158, 0.5790152549743652, 0.5659999847412109, 0.5614722967147827, 0.5614722967147827, 0.5553833246231079, 0.5521743297576904, 0.5520612001419067, 0.548201322555542, 0.548201322555542, 0.543965756893158, 0.5429142713546753, 0.5424603223800659, 0.5407744646072388, 0.5369753837585449, 0.5364781022071838, 0.5363815426826477, 0.5363815426826477, 0.5345271825790405, 0.5345271825790405, 0.5317514538764954, 0.5312695503234863, 0.5304867029190063, 0.5291478633880615, 0.5277730822563171, 0.5254644751548767, 0.5254644751548767, 0.5910757184028625, 0.5095753073692322, 0.5095753073692322, 0.49533772468566895, 0.47797122597694397, 0.4573473334312439, 0.4573473334312439, 0.45466309785842896, 0.45466309785842896, 0.45466309785842896, 0.4508497714996338, 0.4508497714996338, 0.44804278016090393, 0.44804278016090393, 0.44804278016090393, 0.44804278016090393, 0.4438745677471161, 0.4438745677471161, 0.4438745677471161, 0.44068458676338196, 0.4366809129714966, 0.43642452359199524, 0.43418943881988525, 0.4297264516353607, 0.42866817116737366, 0.42801856994628906, 0.4268423318862915, 0.42650601267814636, 0.4250815510749817, 0.4245491921901703, 0.4226799011230469, 0.4226799011230469, 0.4226799011230469, 0.41815701127052307, 0.4160214066505432, 0.40465644001960754, 0.40348362922668457, 0.3974902331829071, 0.3974902331829071, 0.396332323551178, 0.39537474513053894, 0.8328049778938293, 0.7837122082710266, 0.7763669490814209, 0.773807168006897, 0.7630487680435181, 0.7520704865455627, 0.7505227327346802, 0.7481054663658142, 0.7447464466094971, 0.7346466779708862, 0.7277697920799255, 0.7277545928955078, 0.7222474813461304, 0.7220811247825623, 0.7168635725975037, 0.7168635725975037, 0.7113000750541687, 0.7084422707557678, 0.7055904865264893, 0.7001364231109619, 0.698269784450531, 0.6966954469680786, 0.6966888308525085, 0.6966888308525085, 0.6941402554512024, 0.693799614906311, 0.6874473094940186, 0.6873411536216736, 0.6859356760978699, 0.6829907298088074, 0.6804991960525513, 0.6787258386611938, 0.6733195781707764, 0.6720346808433533, 0.6720346808433533, 0.6717371940612793, 0.6702785491943359, 0.665474534034729, 0.665474534034729, 0.665070116519928, 0.665070116519928, 0.7400761842727661, 0.7353705763816833, 0.7211697697639465, 0.7142948508262634, 0.7003174424171448, 0.6992000341415405, 0.6882089376449585, 0.6840858459472656, 0.6710976362228394, 0.6692298650741577, 0.6659156680107117, 0.6641506552696228, 0.662782609462738, 0.6611188650131226, 0.6576283574104309, 0.6479569673538208, 0.6415255069732666, 0.6395836472511292, 0.6383207440376282, 0.6382203102111816, 0.6360836029052734, 0.6336303353309631, 0.6286388039588928, 0.6271412372589111, 0.621714174747467, 0.619110643863678, 0.6183191537857056, 0.6161747574806213, 0.6147215962409973, 0.6147215962409973, 0.6141253709793091, 0.6137913465499878, 0.6136395931243896, 0.6136395931243896, 0.6094149351119995, 0.6093833446502686, 0.6093055605888367, 0.608218252658844, 0.608218252658844, 0.608218252658844, 0.608218252658844, 0.6603997945785522, 0.6126014590263367, 0.6126014590263367, 0.5884041786193848, 0.585345983505249, 0.5362193584442139, 0.5210554003715515, 0.5046631097793579, 0.5046631097793579, 0.4947238564491272, 0.4938586354255676, 0.4892289638519287, 0.4891766309738159, 0.48702749609947205, 0.4852769374847412, 0.48467308282852173, 0.4845455586910248, 0.4836851954460144, 0.4825096130371094, 0.4821286201477051, 0.4742600917816162, 0.4674937427043915, 0.4668290615081787, 0.4668290615081787, 0.46677565574645996, 0.4667632579803467, 0.4667632579803467, 0.46605780720710754, 0.45996731519699097, 0.45841360092163086, 0.4575854539871216, 0.4575854539871216, 0.4575854539871216, 0.4575854539871216, 0.45547857880592346, 0.4529430866241455, 0.45272934436798096, 0.45198971033096313, 0.45198971033096313, 0.4517386257648468, 0.4517386257648468, 0.8655860424041748, 0.7927682995796204, 0.7925775051116943, 0.7674487233161926, 0.7404300570487976, 0.7286198735237122, 0.7249860763549805, 0.7055014967918396, 0.7033053636550903, 0.7004866003990173, 0.7000238299369812, 0.6966947913169861, 0.6929380297660828, 0.6929331421852112, 0.6920520067214966, 0.6796911954879761, 0.6736547946929932, 0.6736547946929932, 0.6700514554977417, 0.6613110303878784, 0.6524736881256104, 0.651773989200592, 0.6480699777603149, 0.6480699777603149, 0.6480699777603149, 0.6361544728279114, 0.6361544728279114, 0.6324060559272766, 0.6315911412239075, 0.6309443712234497, 0.6279314756393433, 0.627659022808075, 0.625472903251648, 0.6180000901222229, 0.6166895627975464, 0.6153919696807861, 0.6143187880516052, 0.6134689450263977, 0.6132122874259949, 0.610526442527771, 0.6051769256591797, 0.6625196933746338, 0.6575660109519958, 0.6138754487037659, 0.6019968390464783, 0.5986889600753784, 0.5986889600753784, 0.5922963619232178, 0.5859506726264954, 0.5721731185913086, 0.5707810521125793, 0.5696976184844971, 0.56827712059021, 0.5620824694633484, 0.5589463114738464, 0.5563225150108337, 0.5556904077529907, 0.5545950531959534, 0.5511302351951599, 0.5499551296234131, 0.5499551296234131, 0.5490607619285583, 0.5463626384735107, 0.5463626384735107, 0.5461246371269226, 0.5452395677566528, 0.5429683327674866, 0.5399702191352844, 0.5368344187736511, 0.5351648330688477, 0.5348389148712158, 0.5348389148712158, 0.5327366590499878, 0.5228899717330933, 0.5221645832061768, 0.5159885883331299, 0.5120371580123901, 0.5114312171936035, 0.5090035200119019, 0.5090035200119019, 0.5083948373794556, 0.5003363490104675, 0.6893790364265442, 0.683644711971283, 0.6347187161445618, 0.6204684972763062, 0.6201844811439514, 0.6201844811439514, 0.6148392558097839, 0.6020527482032776, 0.5937206745147705, 0.5935509204864502, 0.5884268879890442, 0.5882182121276855, 0.5793756246566772, 0.576340913772583, 0.5760455131530762, 0.573249876499176, 0.5709031820297241, 0.5688087940216064, 0.5688087940216064, 0.5652337074279785, 0.5647728443145752, 0.5640313625335693, 0.5640313625335693, 0.5636363625526428, 0.5633792877197266, 0.5629057288169861, 0.5546091198921204, 0.5546091198921204, 0.5535167455673218, 0.545644998550415, 0.5434490442276001, 0.5393030643463135, 0.5284848809242249, 0.5259554982185364, 0.5214912295341492, 0.5193474888801575, 0.5191957950592041, 0.5172287225723267, 0.5084657073020935, 0.5075005292892456, 0.5056880712509155, 0.8112088441848755, 0.7473428845405579, 0.6764650344848633, 0.6588032245635986, 0.605798065662384, 0.598029613494873, 0.598029613494873, 0.5743399262428284, 0.5735120177268982, 0.5461117625236511, 0.5185808539390564, 0.4983978569507599, 0.49786466360092163, 0.49105075001716614, 0.49105075001716614, 0.4822811782360077, 0.47774913907051086, 0.47284260392189026, 0.4695144593715668, 0.467544823884964, 0.457817941904068, 0.4491974115371704, 0.44090723991394043, 0.44057998061180115, 0.42524632811546326, 0.421199768781662, 0.3743264973163605, 0.3742946684360504, 0.35971757769584656, 0.35522255301475525, 0.34589892625808716, 0.3435041606426239, 0.338056743144989, 0.3323879539966583, 0.3238963484764099, 0.3090543746948242, 0.3066551089286804, 0.3065032362937927, 0.3065032362937927, 0.3065032362937927, 0.30421876907348633, 0.6625196933746338, 0.6575660109519958, 0.6138754487037659, 0.6019968390464783, 0.5986889600753784, 0.5986889600753784, 0.5922963619232178, 0.5859506726264954, 0.5721731185913086, 0.5707810521125793, 0.5696976184844971, 0.56827712059021, 0.5620824694633484, 0.5589463114738464, 0.5563225150108337, 0.5556904077529907, 0.5545950531959534, 0.5511302351951599, 0.5499551296234131, 0.5499551296234131, 0.5490607619285583, 0.5463626384735107, 0.5463626384735107, 0.5461246371269226, 0.5452395677566528, 0.5429683327674866, 0.5399702191352844, 0.5368344187736511, 0.5351648330688477, 0.5348389148712158, 0.5348389148712158, 0.5327366590499878, 0.5228899717330933, 0.5221645832061768, 0.5159885883331299, 0.5120371580123901, 0.5114312171936035, 0.5090035200119019, 0.5090035200119019, 0.5083948373794556, 0.5003363490104675, 0.8784281015396118, 0.8784281015396118, 0.8721763491630554, 0.861797034740448, 0.8376011848449707, 0.8271510004997253, 0.7974865436553955, 0.7857636213302612, 0.7851536870002747, 0.7820296883583069, 0.7820296883583069, 0.7809007167816162, 0.7805777192115784, 0.774585485458374, 0.774585485458374, 0.774585485458374, 0.7685977220535278, 0.7651576399803162, 0.756430447101593, 0.7544527649879456, 0.7531405091285706, 0.7521361708641052, 0.7518500089645386, 0.7507155537605286, 0.7476403117179871, 0.7476403117179871, 0.7476403117179871, 0.7367225289344788, 0.735775887966156, 0.7337955236434937, 0.7323068976402283, 0.7307423949241638, 0.7307423949241638, 0.7256972193717957, 0.7256972193717957, 0.7161983847618103, 0.7119563221931458, 0.7106608748435974, 0.7037450671195984, 0.7031737565994263, 0.7031737565994263, 0.8784281015396118, 0.8784281015396118, 0.8721763491630554, 0.861797034740448, 0.8376011848449707, 0.8271510004997253, 0.7974865436553955, 0.7857636213302612, 0.7851536870002747, 0.7820296883583069, 0.7820296883583069, 0.7809007167816162, 0.7805777192115784, 0.774585485458374, 0.774585485458374, 0.774585485458374, 0.7685977220535278, 0.7651576399803162, 0.756430447101593, 0.7544527649879456, 0.7531405091285706, 0.7521361708641052, 0.7518500089645386, 0.7507155537605286, 0.7476403117179871, 0.7476403117179871, 0.7476403117179871, 0.7367225289344788, 0.735775887966156, 0.7337955236434937, 0.7323068976402283, 0.7307423949241638, 0.7307423949241638, 0.7256972193717957, 0.7256972193717957, 0.7161983847618103, 0.7119563221931458, 0.7106608748435974, 0.7037450671195984, 0.7031737565994263, 0.7031737565994263, 0.7202072143554688, 0.5682531595230103, 0.5682531595230103, 0.5674481391906738, 0.5574126839637756, 0.5383691787719727, 0.5314276814460754, 0.5314276814460754, 0.5260478258132935, 0.5207796692848206, 0.5053988695144653, 0.5053988695144653, 0.49792972207069397, 0.49366191029548645, 0.48562657833099365, 0.4855101406574249, 0.4712497889995575, 0.46781155467033386, 0.46733471751213074, 0.46257710456848145, 0.46257710456848145, 0.45291104912757874, 0.4476882517337799, 0.4476737976074219, 0.44213178753852844, 0.43901681900024414, 0.43234387040138245, 0.4305167496204376, 0.4305167496204376, 0.4299773871898651, 0.42964303493499756, 0.42840296030044556, 0.420757532119751, 0.41263407468795776, 0.41096705198287964, 0.40990638732910156, 0.40990638732910156, 0.4071621894836426, 0.40629634261131287, 0.40343740582466125, 0.40343740582466125, 0.8784281015396118, 0.8784281015396118, 0.8721763491630554, 0.861797034740448, 0.8376011848449707, 0.8271510004997253, 0.7974865436553955, 0.7857636213302612, 0.7851536870002747, 0.7820296883583069, 0.7820296883583069, 0.7809007167816162, 0.7805777192115784, 0.774585485458374, 0.774585485458374, 0.774585485458374, 0.7685977220535278, 0.7651576399803162, 0.756430447101593, 0.7544527649879456, 0.7531405091285706, 0.7521361708641052, 0.7518500089645386, 0.7507155537605286, 0.7476403117179871, 0.7476403117179871, 0.7476403117179871, 0.7367225289344788, 0.735775887966156, 0.7337955236434937, 0.7323068976402283, 0.7307423949241638, 0.7307423949241638, 0.7256972193717957, 0.7256972193717957, 0.7161983847618103, 0.7119563221931458, 0.7106608748435974, 0.7037450671195984, 0.7031737565994263, 0.7031737565994263, 0.846997857093811, 0.8309693336486816, 0.8269738554954529, 0.8148272633552551, 0.8148272633552551, 0.8136173486709595, 0.8101015090942383, 0.8084312081336975, 0.8057294487953186, 0.7954193949699402, 0.792204737663269, 0.792204737663269, 0.7907330989837646, 0.7893903255462646, 0.7844914197921753, 0.7806562781333923, 0.7804706692695618, 0.7799720168113708, 0.7779349088668823, 0.7755681276321411, 0.7755681276321411, 0.7750093340873718, 0.7721860408782959, 0.7660824060440063, 0.7660824060440063, 0.7646601796150208, 0.7617502212524414, 0.7599788904190063, 0.7579928040504456, 0.7578732371330261, 0.7566544413566589, 0.7529565691947937, 0.7520358562469482, 0.7514950037002563, 0.751369833946228, 0.7508803009986877, 0.7492250800132751, 0.7482079267501831, 0.7477023601531982, 0.7442029714584351, 0.743716835975647, 0.808225691318512, 0.7908404469490051, 0.7844057083129883, 0.7844057083129883, 0.7728147506713867, 0.7680313587188721, 0.7658584713935852, 0.7511158585548401, 0.7511158585548401, 0.7445091009140015, 0.7408877015113831, 0.7364272475242615, 0.7325801253318787, 0.7321767210960388, 0.7321767210960388, 0.7315123677253723, 0.7286925315856934, 0.7279859781265259, 0.7250591516494751, 0.7242260575294495, 0.7224648594856262, 0.7210363149642944, 0.7195673584938049, 0.7172783017158508, 0.7134732007980347, 0.7128326892852783, 0.7103560566902161, 0.7092773914337158, 0.7061008810997009, 0.705838143825531, 0.7039859890937805, 0.7006365060806274, 0.6993038654327393, 0.6984488368034363, 0.6970618367195129, 0.6962127685546875, 0.6949016451835632, 0.6936014294624329, 0.6935051083564758, 0.6935051083564758, 0.6909662485122681, 0.8684146404266357, 0.6930500268936157, 0.690117597579956, 0.6857405304908752, 0.6739612817764282, 0.6192610263824463, 0.6108719706535339, 0.6104591488838196, 0.610279381275177, 0.6072601079940796, 0.6072601079940796, 0.6033663749694824, 0.5960193872451782, 0.5944011807441711, 0.5887088775634766, 0.5778655409812927, 0.5769078135490417, 0.5756261348724365, 0.5753211975097656, 0.5750475525856018, 0.5743470191955566, 0.5682104229927063, 0.5666530728340149, 0.566649317741394, 0.5619027018547058, 0.5559991598129272, 0.5553084015846252, 0.5491688847541809, 0.5381547808647156, 0.5368602275848389, 0.5368602275848389, 0.531963050365448, 0.5296614766120911, 0.5282204747200012, 0.5267826318740845, 0.5247561931610107, 0.517099916934967, 0.5158616900444031, 0.5150372982025146, 0.514205813407898, 0.5133211612701416, 0.8511621356010437, 0.8511621356010437, 0.8440501689910889, 0.8143845796585083, 0.809737503528595, 0.8074556589126587, 0.7986083030700684, 0.7984956502914429, 0.7979179620742798, 0.7933328151702881, 0.7868090271949768, 0.7857693433761597, 0.7830446362495422, 0.7830446362495422, 0.7825173139572144, 0.7824913859367371, 0.7823799252510071, 0.7788415551185608, 0.7785881757736206, 0.777637243270874, 0.7718816995620728, 0.7695782780647278, 0.7689608335494995, 0.7686112523078918, 0.7641696929931641, 0.764153778553009, 0.7613601684570312, 0.7613601684570312, 0.7606347799301147, 0.7590468525886536, 0.7575836181640625, 0.7534055113792419, 0.7509101629257202, 0.7436766624450684, 0.743287205696106, 0.7419249415397644, 0.7361604571342468, 0.7361604571342468, 0.735626757144928, 0.7351894378662109, 0.7351894378662109, 0.7241175770759583, 0.6973034739494324, 0.6195805668830872, 0.6150866746902466, 0.6150866746902466, 0.6082494258880615, 0.6082494258880615, 0.6066008806228638, 0.6014672517776489, 0.5958831310272217, 0.594118595123291, 0.5940378904342651, 0.5669510364532471, 0.5652194023132324, 0.5564681887626648, 0.5517644286155701, 0.5511756539344788, 0.5472349524497986, 0.5391066074371338, 0.5336846113204956, 0.5332652926445007, 0.5315237045288086, 0.5286433100700378, 0.5249350666999817, 0.521687924861908, 0.5216789841651917, 0.5163978934288025, 0.5159468054771423, 0.5159468054771423, 0.5153987407684326, 0.5100305080413818, 0.5050866007804871, 0.5032206177711487, 0.5032206177711487, 0.5011925101280212, 0.4929530918598175, 0.4889228641986847, 0.48245564103126526, 0.47537848353385925, 0.4700365662574768, 0.46712762117385864, 0.7855313420295715, 0.7493410706520081, 0.6571996808052063, 0.6571996808052063, 0.6523456573486328, 0.6452321410179138, 0.6414931416511536, 0.6374101638793945, 0.6334083676338196, 0.5991819500923157, 0.598305344581604, 0.5911538004875183, 0.5869430899620056, 0.5820881724357605, 0.567173957824707, 0.5663673877716064, 0.5644258856773376, 0.5628522634506226, 0.5600743889808655, 0.5568510890007019, 0.5554258823394775, 0.5519172549247742, 0.5501538515090942, 0.5501538515090942, 0.5472279191017151, 0.5398333668708801, 0.5389624238014221, 0.5389624238014221, 0.5357584357261658, 0.5335801243782043, 0.5307242274284363, 0.5190442800521851, 0.5117748975753784, 0.5077115893363953, 0.5052820444107056, 0.503516435623169, 0.49782252311706543, 0.49667567014694214, 0.49339497089385986, 0.49087151885032654, 0.49038809537887573, 0.9285803437232971, 0.8268881440162659, 0.8198495507240295, 0.7143964171409607, 0.7045652270317078, 0.7021196484565735, 0.6695048213005066, 0.6633327007293701, 0.6495848894119263, 0.6307970881462097, 0.6305392980575562, 0.6305392980575562, 0.6257068514823914, 0.6188226342201233, 0.6126726269721985, 0.5907837152481079, 0.5840626358985901, 0.5807613134384155, 0.5807613134384155, 0.573198676109314, 0.573198676109314, 0.5711126327514648, 0.5406947731971741, 0.5340529680252075, 0.5326206684112549, 0.5132496953010559, 0.5042259097099304, 0.49501925706863403, 0.49501925706863403, 0.48180150985717773, 0.4782162010669708, 0.4778900146484375, 0.4739546477794647, 0.47389835119247437, 0.4730807840824127, 0.4727095663547516, 0.47193342447280884, 0.47193342447280884, 0.4637199640274048, 0.46285322308540344, 0.45982393622398376, 0.7855313420295715, 0.7493410706520081, 0.6571996808052063, 0.6571996808052063, 0.6523456573486328, 0.6452321410179138, 0.6414931416511536, 0.6374101638793945, 0.6334083676338196, 0.5991819500923157, 0.598305344581604, 0.5911538004875183, 0.5869430899620056, 0.5820881724357605, 0.567173957824707, 0.5663673877716064, 0.5644258856773376, 0.5628522634506226, 0.5600743889808655, 0.5568510890007019, 0.5554258823394775, 0.5519172549247742, 0.5501538515090942, 0.5501538515090942, 0.5472279191017151, 0.5398333668708801, 0.5389624238014221, 0.5389624238014221, 0.5357584357261658, 0.5335801243782043, 0.5307242274284363, 0.5190442800521851, 0.5117748975753784, 0.5077115893363953, 0.5052820444107056, 0.503516435623169, 0.49782252311706543, 0.49667567014694214, 0.49339497089385986, 0.49087151885032654, 0.49038809537887573], \"xaxis\": \"x\", \"yaxis\": \"y\"}],\n",
              "                        {\"barmode\": \"relative\", \"legend\": {\"tracegroupgap\": 0}, \"template\": {\"data\": {\"bar\": [{\"error_x\": {\"color\": \"#2a3f5f\"}, \"error_y\": {\"color\": \"#2a3f5f\"}, \"marker\": {\"line\": {\"color\": \"#E5ECF6\", \"width\": 0.5}}, \"type\": \"bar\"}], \"barpolar\": [{\"marker\": {\"line\": {\"color\": \"#E5ECF6\", \"width\": 0.5}}, \"type\": \"barpolar\"}], \"carpet\": [{\"aaxis\": {\"endlinecolor\": \"#2a3f5f\", \"gridcolor\": \"white\", \"linecolor\": \"white\", \"minorgridcolor\": \"white\", \"startlinecolor\": \"#2a3f5f\"}, \"baxis\": {\"endlinecolor\": \"#2a3f5f\", \"gridcolor\": \"white\", \"linecolor\": \"white\", \"minorgridcolor\": \"white\", \"startlinecolor\": \"#2a3f5f\"}, \"type\": \"carpet\"}], \"choropleth\": [{\"colorbar\": {\"outlinewidth\": 0, \"ticks\": \"\"}, \"type\": \"choropleth\"}], \"contour\": [{\"colorbar\": {\"outlinewidth\": 0, \"ticks\": \"\"}, \"colorscale\": [[0.0, \"#0d0887\"], [0.1111111111111111, \"#46039f\"], [0.2222222222222222, \"#7201a8\"], [0.3333333333333333, \"#9c179e\"], [0.4444444444444444, \"#bd3786\"], [0.5555555555555556, \"#d8576b\"], [0.6666666666666666, \"#ed7953\"], [0.7777777777777778, \"#fb9f3a\"], [0.8888888888888888, \"#fdca26\"], [1.0, \"#f0f921\"]], \"type\": \"contour\"}], \"contourcarpet\": [{\"colorbar\": {\"outlinewidth\": 0, \"ticks\": \"\"}, \"type\": \"contourcarpet\"}], \"heatmap\": [{\"colorbar\": {\"outlinewidth\": 0, \"ticks\": \"\"}, \"colorscale\": [[0.0, \"#0d0887\"], [0.1111111111111111, \"#46039f\"], [0.2222222222222222, \"#7201a8\"], [0.3333333333333333, \"#9c179e\"], [0.4444444444444444, \"#bd3786\"], [0.5555555555555556, \"#d8576b\"], [0.6666666666666666, \"#ed7953\"], [0.7777777777777778, \"#fb9f3a\"], [0.8888888888888888, \"#fdca26\"], [1.0, \"#f0f921\"]], \"type\": \"heatmap\"}], \"heatmapgl\": [{\"colorbar\": {\"outlinewidth\": 0, \"ticks\": \"\"}, \"colorscale\": [[0.0, \"#0d0887\"], [0.1111111111111111, \"#46039f\"], [0.2222222222222222, \"#7201a8\"], [0.3333333333333333, \"#9c179e\"], [0.4444444444444444, \"#bd3786\"], [0.5555555555555556, \"#d8576b\"], [0.6666666666666666, \"#ed7953\"], [0.7777777777777778, \"#fb9f3a\"], [0.8888888888888888, \"#fdca26\"], [1.0, \"#f0f921\"]], \"type\": \"heatmapgl\"}], \"histogram\": [{\"marker\": {\"colorbar\": {\"outlinewidth\": 0, \"ticks\": \"\"}}, \"type\": \"histogram\"}], \"histogram2d\": [{\"colorbar\": {\"outlinewidth\": 0, \"ticks\": \"\"}, \"colorscale\": [[0.0, \"#0d0887\"], [0.1111111111111111, \"#46039f\"], [0.2222222222222222, \"#7201a8\"], [0.3333333333333333, \"#9c179e\"], [0.4444444444444444, \"#bd3786\"], [0.5555555555555556, \"#d8576b\"], [0.6666666666666666, \"#ed7953\"], [0.7777777777777778, \"#fb9f3a\"], [0.8888888888888888, \"#fdca26\"], [1.0, \"#f0f921\"]], \"type\": \"histogram2d\"}], \"histogram2dcontour\": [{\"colorbar\": {\"outlinewidth\": 0, \"ticks\": \"\"}, \"colorscale\": [[0.0, \"#0d0887\"], [0.1111111111111111, \"#46039f\"], [0.2222222222222222, \"#7201a8\"], [0.3333333333333333, \"#9c179e\"], [0.4444444444444444, \"#bd3786\"], [0.5555555555555556, \"#d8576b\"], [0.6666666666666666, \"#ed7953\"], [0.7777777777777778, \"#fb9f3a\"], [0.8888888888888888, \"#fdca26\"], [1.0, \"#f0f921\"]], \"type\": \"histogram2dcontour\"}], \"mesh3d\": [{\"colorbar\": {\"outlinewidth\": 0, \"ticks\": \"\"}, \"type\": \"mesh3d\"}], \"parcoords\": [{\"line\": {\"colorbar\": {\"outlinewidth\": 0, \"ticks\": \"\"}}, \"type\": \"parcoords\"}], \"pie\": [{\"automargin\": true, \"type\": \"pie\"}], \"scatter\": [{\"marker\": {\"colorbar\": {\"outlinewidth\": 0, \"ticks\": \"\"}}, \"type\": \"scatter\"}], \"scatter3d\": [{\"line\": {\"colorbar\": {\"outlinewidth\": 0, \"ticks\": \"\"}}, \"marker\": {\"colorbar\": {\"outlinewidth\": 0, \"ticks\": \"\"}}, \"type\": \"scatter3d\"}], \"scattercarpet\": [{\"marker\": {\"colorbar\": {\"outlinewidth\": 0, \"ticks\": \"\"}}, \"type\": \"scattercarpet\"}], \"scattergeo\": [{\"marker\": {\"colorbar\": {\"outlinewidth\": 0, \"ticks\": \"\"}}, \"type\": \"scattergeo\"}], \"scattergl\": [{\"marker\": {\"colorbar\": {\"outlinewidth\": 0, \"ticks\": \"\"}}, \"type\": \"scattergl\"}], \"scattermapbox\": [{\"marker\": {\"colorbar\": {\"outlinewidth\": 0, \"ticks\": \"\"}}, \"type\": \"scattermapbox\"}], \"scatterpolar\": [{\"marker\": {\"colorbar\": {\"outlinewidth\": 0, \"ticks\": \"\"}}, \"type\": \"scatterpolar\"}], \"scatterpolargl\": [{\"marker\": {\"colorbar\": {\"outlinewidth\": 0, \"ticks\": \"\"}}, \"type\": \"scatterpolargl\"}], \"scatterternary\": [{\"marker\": {\"colorbar\": {\"outlinewidth\": 0, \"ticks\": \"\"}}, \"type\": \"scatterternary\"}], \"surface\": [{\"colorbar\": {\"outlinewidth\": 0, \"ticks\": \"\"}, \"colorscale\": [[0.0, \"#0d0887\"], [0.1111111111111111, \"#46039f\"], [0.2222222222222222, \"#7201a8\"], [0.3333333333333333, \"#9c179e\"], [0.4444444444444444, \"#bd3786\"], [0.5555555555555556, \"#d8576b\"], [0.6666666666666666, \"#ed7953\"], [0.7777777777777778, \"#fb9f3a\"], [0.8888888888888888, \"#fdca26\"], [1.0, \"#f0f921\"]], \"type\": \"surface\"}], \"table\": [{\"cells\": {\"fill\": {\"color\": \"#EBF0F8\"}, \"line\": {\"color\": \"white\"}}, \"header\": {\"fill\": {\"color\": \"#C8D4E3\"}, \"line\": {\"color\": \"white\"}}, \"type\": \"table\"}]}, \"layout\": {\"annotationdefaults\": {\"arrowcolor\": \"#2a3f5f\", \"arrowhead\": 0, \"arrowwidth\": 1}, \"coloraxis\": {\"colorbar\": {\"outlinewidth\": 0, \"ticks\": \"\"}}, \"colorscale\": {\"diverging\": [[0, \"#8e0152\"], [0.1, \"#c51b7d\"], [0.2, \"#de77ae\"], [0.3, \"#f1b6da\"], [0.4, \"#fde0ef\"], [0.5, \"#f7f7f7\"], [0.6, \"#e6f5d0\"], [0.7, \"#b8e186\"], [0.8, \"#7fbc41\"], [0.9, \"#4d9221\"], [1, \"#276419\"]], \"sequential\": [[0.0, \"#0d0887\"], [0.1111111111111111, \"#46039f\"], [0.2222222222222222, \"#7201a8\"], [0.3333333333333333, \"#9c179e\"], [0.4444444444444444, \"#bd3786\"], [0.5555555555555556, \"#d8576b\"], [0.6666666666666666, \"#ed7953\"], [0.7777777777777778, \"#fb9f3a\"], [0.8888888888888888, \"#fdca26\"], [1.0, \"#f0f921\"]], \"sequentialminus\": [[0.0, \"#0d0887\"], [0.1111111111111111, \"#46039f\"], [0.2222222222222222, \"#7201a8\"], [0.3333333333333333, \"#9c179e\"], [0.4444444444444444, \"#bd3786\"], [0.5555555555555556, \"#d8576b\"], [0.6666666666666666, \"#ed7953\"], [0.7777777777777778, \"#fb9f3a\"], [0.8888888888888888, \"#fdca26\"], [1.0, \"#f0f921\"]]}, \"colorway\": [\"#636efa\", \"#EF553B\", \"#00cc96\", \"#ab63fa\", \"#FFA15A\", \"#19d3f3\", \"#FF6692\", \"#B6E880\", \"#FF97FF\", \"#FECB52\"], \"font\": {\"color\": \"#2a3f5f\"}, \"geo\": {\"bgcolor\": \"white\", \"lakecolor\": \"white\", \"landcolor\": \"#E5ECF6\", \"showlakes\": true, \"showland\": true, \"subunitcolor\": \"white\"}, \"hoverlabel\": {\"align\": \"left\"}, \"hovermode\": \"closest\", \"mapbox\": {\"style\": \"light\"}, \"paper_bgcolor\": \"white\", \"plot_bgcolor\": \"#E5ECF6\", \"polar\": {\"angularaxis\": {\"gridcolor\": \"white\", \"linecolor\": \"white\", \"ticks\": \"\"}, \"bgcolor\": \"#E5ECF6\", \"radialaxis\": {\"gridcolor\": \"white\", \"linecolor\": \"white\", \"ticks\": \"\"}}, \"scene\": {\"xaxis\": {\"backgroundcolor\": \"#E5ECF6\", \"gridcolor\": \"white\", \"gridwidth\": 2, \"linecolor\": \"white\", \"showbackground\": true, \"ticks\": \"\", \"zerolinecolor\": \"white\"}, \"yaxis\": {\"backgroundcolor\": \"#E5ECF6\", \"gridcolor\": \"white\", \"gridwidth\": 2, \"linecolor\": \"white\", \"showbackground\": true, \"ticks\": \"\", \"zerolinecolor\": \"white\"}, \"zaxis\": {\"backgroundcolor\": \"#E5ECF6\", \"gridcolor\": \"white\", \"gridwidth\": 2, \"linecolor\": \"white\", \"showbackground\": true, \"ticks\": \"\", \"zerolinecolor\": \"white\"}}, \"shapedefaults\": {\"line\": {\"color\": \"#2a3f5f\"}}, \"ternary\": {\"aaxis\": {\"gridcolor\": \"white\", \"linecolor\": \"white\", \"ticks\": \"\"}, \"baxis\": {\"gridcolor\": \"white\", \"linecolor\": \"white\", \"ticks\": \"\"}, \"bgcolor\": \"#E5ECF6\", \"caxis\": {\"gridcolor\": \"white\", \"linecolor\": \"white\", \"ticks\": \"\"}}, \"title\": {\"x\": 0.05}, \"xaxis\": {\"automargin\": true, \"gridcolor\": \"white\", \"linecolor\": \"white\", \"ticks\": \"\", \"title\": {\"standoff\": 15}, \"zerolinecolor\": \"white\", \"zerolinewidth\": 2}, \"yaxis\": {\"automargin\": true, \"gridcolor\": \"white\", \"linecolor\": \"white\", \"ticks\": \"\", \"title\": {\"standoff\": 15}, \"zerolinecolor\": \"white\", \"zerolinewidth\": 2}}}, \"title\": {\"text\": \"LSI Scores\"}, \"xaxis\": {\"anchor\": \"y\", \"domain\": [0.0, 1.0], \"title\": {\"text\": \"score\"}}, \"yaxis\": {\"anchor\": \"x\", \"domain\": [0.0, 1.0], \"title\": {\"text\": \"count\"}}},\n",
              "                        {\"responsive\": true}\n",
              "                    ).then(function(){\n",
              "                            \n",
              "var gd = document.getElementById('270e8c22-693c-4bf5-8c56-1ab940617605');\n",
              "var x = new MutationObserver(function (mutations, observer) {{\n",
              "        var display = window.getComputedStyle(gd).display;\n",
              "        if (!display || display === 'none') {{\n",
              "            console.log([gd, 'removed!']);\n",
              "            Plotly.purge(gd);\n",
              "            observer.disconnect();\n",
              "        }}\n",
              "}});\n",
              "\n",
              "// Listen for the removal of the full notebook cells\n",
              "var notebookContainer = gd.closest('#notebook-container');\n",
              "if (notebookContainer) {{\n",
              "    x.observe(notebookContainer, {childList: true});\n",
              "}}\n",
              "\n",
              "// Listen for the clearing of the current output cell\n",
              "var outputEl = gd.closest('.output');\n",
              "if (outputEl) {{\n",
              "    x.observe(outputEl, {childList: true});\n",
              "}}\n",
              "\n",
              "                        })\n",
              "                };\n",
              "                \n",
              "            </script>\n",
              "        </div>\n",
              "</body>\n",
              "</html>"
            ]
          },
          "metadata": {}
        }
      ]
    },
    {
      "cell_type": "code",
      "metadata": {
        "id": "RX2JvEEGPGgS"
      },
      "source": [
        "wandb.log({\"scores_hist\": fig})"
      ],
      "execution_count": 60,
      "outputs": []
    },
    {
      "cell_type": "code",
      "metadata": {
        "colab": {
          "base_uri": "https://localhost:8080/",
          "height": 990
        },
        "id": "7N81-XfdDFKV",
        "outputId": "803ad5b1-bc25-4c60-909d-70000e83c22f"
      },
      "source": [
        "result, details = recommend_tune(df_sim, 'These Foolish Things')\n",
        "result.head(30)"
      ],
      "execution_count": 61,
      "outputs": [
        {
          "output_type": "execute_result",
          "data": {
            "text/html": [
              "<div>\n",
              "<style scoped>\n",
              "    .dataframe tbody tr th:only-of-type {\n",
              "        vertical-align: middle;\n",
              "    }\n",
              "\n",
              "    .dataframe tbody tr th {\n",
              "        vertical-align: top;\n",
              "    }\n",
              "\n",
              "    .dataframe thead th {\n",
              "        text-align: right;\n",
              "    }\n",
              "</style>\n",
              "<table border=\"1\" class=\"dataframe\">\n",
              "  <thead>\n",
              "    <tr style=\"text-align: right;\">\n",
              "      <th></th>\n",
              "      <th>index</th>\n",
              "      <th>reference</th>\n",
              "      <th>similar_title</th>\n",
              "      <th>score</th>\n",
              "      <th>max</th>\n",
              "      <th>score_div_max</th>\n",
              "    </tr>\n",
              "  </thead>\n",
              "  <tbody>\n",
              "    <tr>\n",
              "      <th>0</th>\n",
              "      <td>0</td>\n",
              "      <td>These Foolish Things</td>\n",
              "      <td>I Like The Likes Of You</td>\n",
              "      <td>0.851162</td>\n",
              "      <td>0.851162</td>\n",
              "      <td>1.000000</td>\n",
              "    </tr>\n",
              "    <tr>\n",
              "      <th>1</th>\n",
              "      <td>1</td>\n",
              "      <td>These Foolish Things</td>\n",
              "      <td>I Won't Dance</td>\n",
              "      <td>0.846998</td>\n",
              "      <td>0.851162</td>\n",
              "      <td>1.000000</td>\n",
              "    </tr>\n",
              "    <tr>\n",
              "      <th>2</th>\n",
              "      <td>2</td>\n",
              "      <td>These Foolish Things</td>\n",
              "      <td>Isn't It A Pity</td>\n",
              "      <td>0.868415</td>\n",
              "      <td>0.868415</td>\n",
              "      <td>1.000000</td>\n",
              "    </tr>\n",
              "    <tr>\n",
              "      <th>3</th>\n",
              "      <td>3</td>\n",
              "      <td>These Foolish Things</td>\n",
              "      <td>Party's Over, The</td>\n",
              "      <td>0.844050</td>\n",
              "      <td>0.851162</td>\n",
              "      <td>0.991644</td>\n",
              "    </tr>\n",
              "    <tr>\n",
              "      <th>4</th>\n",
              "      <td>4</td>\n",
              "      <td>These Foolish Things</td>\n",
              "      <td>People</td>\n",
              "      <td>0.830969</td>\n",
              "      <td>0.851162</td>\n",
              "      <td>0.981076</td>\n",
              "    </tr>\n",
              "    <tr>\n",
              "      <th>5</th>\n",
              "      <td>5</td>\n",
              "      <td>These Foolish Things</td>\n",
              "      <td>Touch Of Your Lips, The</td>\n",
              "      <td>0.814827</td>\n",
              "      <td>0.851162</td>\n",
              "      <td>0.962018</td>\n",
              "    </tr>\n",
              "    <tr>\n",
              "      <th>6</th>\n",
              "      <td>6</td>\n",
              "      <td>These Foolish Things</td>\n",
              "      <td>Don't Be That Way</td>\n",
              "      <td>0.813617</td>\n",
              "      <td>0.851162</td>\n",
              "      <td>0.960590</td>\n",
              "    </tr>\n",
              "    <tr>\n",
              "      <th>7</th>\n",
              "      <td>7</td>\n",
              "      <td>These Foolish Things</td>\n",
              "      <td>Heart And Soul</td>\n",
              "      <td>0.810102</td>\n",
              "      <td>0.851162</td>\n",
              "      <td>0.956439</td>\n",
              "    </tr>\n",
              "    <tr>\n",
              "      <th>8</th>\n",
              "      <td>8</td>\n",
              "      <td>These Foolish Things</td>\n",
              "      <td>Dinah</td>\n",
              "      <td>0.809738</td>\n",
              "      <td>0.851162</td>\n",
              "      <td>0.951332</td>\n",
              "    </tr>\n",
              "    <tr>\n",
              "      <th>9</th>\n",
              "      <td>9</td>\n",
              "      <td>These Foolish Things</td>\n",
              "      <td>They All Laughed</td>\n",
              "      <td>0.805729</td>\n",
              "      <td>0.846998</td>\n",
              "      <td>0.951277</td>\n",
              "    </tr>\n",
              "    <tr>\n",
              "      <th>10</th>\n",
              "      <td>10</td>\n",
              "      <td>These Foolish Things</td>\n",
              "      <td>Too Young To Go Steady</td>\n",
              "      <td>0.769578</td>\n",
              "      <td>0.868415</td>\n",
              "      <td>0.947580</td>\n",
              "    </tr>\n",
              "    <tr>\n",
              "      <th>11</th>\n",
              "      <td>11</td>\n",
              "      <td>These Foolish Things</td>\n",
              "      <td>Glory Of Love, The</td>\n",
              "      <td>0.798608</td>\n",
              "      <td>0.851162</td>\n",
              "      <td>0.938256</td>\n",
              "    </tr>\n",
              "    <tr>\n",
              "      <th>12</th>\n",
              "      <td>12</td>\n",
              "      <td>These Foolish Things</td>\n",
              "      <td>Way You Look Tonight, The</td>\n",
              "      <td>0.797918</td>\n",
              "      <td>0.851162</td>\n",
              "      <td>0.937445</td>\n",
              "    </tr>\n",
              "    <tr>\n",
              "      <th>13</th>\n",
              "      <td>13</td>\n",
              "      <td>These Foolish Things</td>\n",
              "      <td>Blue Moon</td>\n",
              "      <td>0.792205</td>\n",
              "      <td>0.851162</td>\n",
              "      <td>0.935309</td>\n",
              "    </tr>\n",
              "    <tr>\n",
              "      <th>14</th>\n",
              "      <td>14</td>\n",
              "      <td>These Foolish Things</td>\n",
              "      <td>Why Do I Love You</td>\n",
              "      <td>0.793333</td>\n",
              "      <td>0.851162</td>\n",
              "      <td>0.932058</td>\n",
              "    </tr>\n",
              "    <tr>\n",
              "      <th>15</th>\n",
              "      <td>15</td>\n",
              "      <td>These Foolish Things</td>\n",
              "      <td>It's A Lovely Day Today</td>\n",
              "      <td>0.786809</td>\n",
              "      <td>0.851162</td>\n",
              "      <td>0.926202</td>\n",
              "    </tr>\n",
              "    <tr>\n",
              "      <th>16</th>\n",
              "      <td>16</td>\n",
              "      <td>These Foolish Things</td>\n",
              "      <td>Fools Rush In</td>\n",
              "      <td>0.785769</td>\n",
              "      <td>0.851162</td>\n",
              "      <td>0.923172</td>\n",
              "    </tr>\n",
              "    <tr>\n",
              "      <th>17</th>\n",
              "      <td>17</td>\n",
              "      <td>These Foolish Things</td>\n",
              "      <td>As Long As I Live</td>\n",
              "      <td>0.780471</td>\n",
              "      <td>0.846998</td>\n",
              "      <td>0.921455</td>\n",
              "    </tr>\n",
              "    <tr>\n",
              "      <th>18</th>\n",
              "      <td>18</td>\n",
              "      <td>These Foolish Things</td>\n",
              "      <td>Mimi</td>\n",
              "      <td>0.782517</td>\n",
              "      <td>0.851162</td>\n",
              "      <td>0.919352</td>\n",
              "    </tr>\n",
              "    <tr>\n",
              "      <th>19</th>\n",
              "      <td>19</td>\n",
              "      <td>These Foolish Things</td>\n",
              "      <td>Nearness Of You, The</td>\n",
              "      <td>0.777935</td>\n",
              "      <td>0.846998</td>\n",
              "      <td>0.918461</td>\n",
              "    </tr>\n",
              "    <tr>\n",
              "      <th>20</th>\n",
              "      <td>20</td>\n",
              "      <td>These Foolish Things</td>\n",
              "      <td>Time After Time</td>\n",
              "      <td>0.775009</td>\n",
              "      <td>0.851162</td>\n",
              "      <td>0.916684</td>\n",
              "    </tr>\n",
              "    <tr>\n",
              "      <th>21</th>\n",
              "      <td>21</td>\n",
              "      <td>These Foolish Things</td>\n",
              "      <td>Try A Little Tenderness</td>\n",
              "      <td>0.778588</td>\n",
              "      <td>0.851162</td>\n",
              "      <td>0.914735</td>\n",
              "    </tr>\n",
              "    <tr>\n",
              "      <th>22</th>\n",
              "      <td>22</td>\n",
              "      <td>These Foolish Things</td>\n",
              "      <td>All God's Chillun Got Rhythm</td>\n",
              "      <td>0.766082</td>\n",
              "      <td>0.868415</td>\n",
              "      <td>0.904468</td>\n",
              "    </tr>\n",
              "    <tr>\n",
              "      <th>23</th>\n",
              "      <td>23</td>\n",
              "      <td>These Foolish Things</td>\n",
              "      <td>Polkadots And Moonbeams</td>\n",
              "      <td>0.768611</td>\n",
              "      <td>0.851162</td>\n",
              "      <td>0.903014</td>\n",
              "    </tr>\n",
              "    <tr>\n",
              "      <th>24</th>\n",
              "      <td>24</td>\n",
              "      <td>These Foolish Things</td>\n",
              "      <td>Bewitched</td>\n",
              "      <td>0.764660</td>\n",
              "      <td>0.846998</td>\n",
              "      <td>0.902789</td>\n",
              "    </tr>\n",
              "    <tr>\n",
              "      <th>25</th>\n",
              "      <td>25</td>\n",
              "      <td>These Foolish Things</td>\n",
              "      <td>Emily</td>\n",
              "      <td>0.761750</td>\n",
              "      <td>0.846998</td>\n",
              "      <td>0.901595</td>\n",
              "    </tr>\n",
              "    <tr>\n",
              "      <th>26</th>\n",
              "      <td>26</td>\n",
              "      <td>These Foolish Things</td>\n",
              "      <td>I'll Be Around</td>\n",
              "      <td>0.757873</td>\n",
              "      <td>0.846998</td>\n",
              "      <td>0.894776</td>\n",
              "    </tr>\n",
              "    <tr>\n",
              "      <th>27</th>\n",
              "      <td>27</td>\n",
              "      <td>These Foolish Things</td>\n",
              "      <td>I Can't Get Started</td>\n",
              "      <td>0.709277</td>\n",
              "      <td>0.808226</td>\n",
              "      <td>0.877573</td>\n",
              "    </tr>\n",
              "    <tr>\n",
              "      <th>28</th>\n",
              "      <td>28</td>\n",
              "      <td>These Foolish Things</td>\n",
              "      <td>I've Told Eve'ry Little Star</td>\n",
              "      <td>0.693050</td>\n",
              "      <td>0.868415</td>\n",
              "      <td>0.798063</td>\n",
              "    </tr>\n",
              "    <tr>\n",
              "      <th>29</th>\n",
              "      <td>29</td>\n",
              "      <td>These Foolish Things</td>\n",
              "      <td>More Than You Know</td>\n",
              "      <td>0.690118</td>\n",
              "      <td>0.868415</td>\n",
              "      <td>0.794687</td>\n",
              "    </tr>\n",
              "  </tbody>\n",
              "</table>\n",
              "</div>"
            ],
            "text/plain": [
              "    index             reference  ...       max  score_div_max\n",
              "0       0  These Foolish Things  ...  0.851162       1.000000\n",
              "1       1  These Foolish Things  ...  0.851162       1.000000\n",
              "2       2  These Foolish Things  ...  0.868415       1.000000\n",
              "3       3  These Foolish Things  ...  0.851162       0.991644\n",
              "4       4  These Foolish Things  ...  0.851162       0.981076\n",
              "5       5  These Foolish Things  ...  0.851162       0.962018\n",
              "6       6  These Foolish Things  ...  0.851162       0.960590\n",
              "7       7  These Foolish Things  ...  0.851162       0.956439\n",
              "8       8  These Foolish Things  ...  0.851162       0.951332\n",
              "9       9  These Foolish Things  ...  0.846998       0.951277\n",
              "10     10  These Foolish Things  ...  0.868415       0.947580\n",
              "11     11  These Foolish Things  ...  0.851162       0.938256\n",
              "12     12  These Foolish Things  ...  0.851162       0.937445\n",
              "13     13  These Foolish Things  ...  0.851162       0.935309\n",
              "14     14  These Foolish Things  ...  0.851162       0.932058\n",
              "15     15  These Foolish Things  ...  0.851162       0.926202\n",
              "16     16  These Foolish Things  ...  0.851162       0.923172\n",
              "17     17  These Foolish Things  ...  0.846998       0.921455\n",
              "18     18  These Foolish Things  ...  0.851162       0.919352\n",
              "19     19  These Foolish Things  ...  0.846998       0.918461\n",
              "20     20  These Foolish Things  ...  0.851162       0.916684\n",
              "21     21  These Foolish Things  ...  0.851162       0.914735\n",
              "22     22  These Foolish Things  ...  0.868415       0.904468\n",
              "23     23  These Foolish Things  ...  0.851162       0.903014\n",
              "24     24  These Foolish Things  ...  0.846998       0.902789\n",
              "25     25  These Foolish Things  ...  0.846998       0.901595\n",
              "26     26  These Foolish Things  ...  0.846998       0.894776\n",
              "27     27  These Foolish Things  ...  0.808226       0.877573\n",
              "28     28  These Foolish Things  ...  0.868415       0.798063\n",
              "29     29  These Foolish Things  ...  0.868415       0.794687\n",
              "\n",
              "[30 rows x 6 columns]"
            ]
          },
          "metadata": {},
          "execution_count": 61
        }
      ]
    },
    {
      "cell_type": "code",
      "metadata": {
        "id": "15ZsHOQmyyah"
      },
      "source": [
        "dd = pd.DataFrame(columns = recommender_results_cols)\n",
        "\n",
        "for tune in tunes_eval_list:\n",
        "  result, details = recommend_tune(df_sim, tune)\n",
        "  dd['id'] = result['index']\n",
        "  dd['reference'] = tune\n",
        "  dd['method'] = 'lsi'\n",
        "  dd['similar'] = result['similar_title']\n",
        "  dd['score_div_max'] = result['score_div_max']\n",
        "  dd['score'] = result['score']\n",
        "\n",
        "recommender_results = recommender_results.append(dd)"
      ],
      "execution_count": 62,
      "outputs": []
    },
    {
      "cell_type": "markdown",
      "metadata": {
        "id": "asScIocQRMPA"
      },
      "source": [
        "## Determine Number of Topics for LSI Model\n",
        "\n",
        "This sample comes from Datacamp: \n",
        "\n",
        "https://www.datacamp.com/community/tutorials/discovering-hidden-topics-python\n"
      ]
    },
    {
      "cell_type": "markdown",
      "metadata": {
        "id": "1TPNWFEPSxZ-"
      },
      "source": [
        "What is the best way to determine k (number of topics) in topic modeling? Identify the optimum number of topics in the given corpus text is a challenging task. We can use the following options for determining the optimum number of topics:\n",
        "\n",
        "* One way to determine the optimum number of topics is to consider each topic as a cluster and find out the effectiveness of a cluster using the Silhouette coefficient.\n",
        "* Topic coherence measure is a realistic measure for identifying the number of topics.\n",
        "\n",
        "Topic Coherence measure is a widely used metric to evaluate topic models. It uses the latent variable models. Each generated topic has a list of words. In topic coherence measure, you will find average/median of pairwise word similarity scores of the words in a topic. The high value of topic coherence score model will be considered as a good topic model. "
      ]
    },
    {
      "cell_type": "code",
      "metadata": {
        "id": "umpCyQQzRLgv"
      },
      "source": [
        "def prepare_corpus(doc_clean):\n",
        "    \"\"\"\n",
        "    Input  : clean document\n",
        "    Purpose: create term dictionary of our courpus and Converting list of documents (corpus) into Document Term Matrix\n",
        "    Output : term dictionary and Document Term Matrix\n",
        "    \"\"\"\n",
        "    # Creating the term dictionary of our courpus, where every unique term is assigned an index. dictionary = corpora.Dictionary(doc_clean)\n",
        "    dictionary = corpora.Dictionary(doc_clean)\n",
        "    # Converting list of documents (corpus) into Document Term Matrix using dictionary prepared above.\n",
        "    doc_term_matrix = [dictionary.doc2bow(doc) for doc in doc_clean]\n",
        "    # generate LDA model\n",
        "    return dictionary, doc_term_matrix"
      ],
      "execution_count": 63,
      "outputs": []
    },
    {
      "cell_type": "code",
      "metadata": {
        "id": "aS2wxIEERcul"
      },
      "source": [
        "def compute_coherence_values(dictionary, doc_term_matrix, doc_clean, stop, start=2, step=3):\n",
        "    \"\"\"\n",
        "    Input   : dictionary : Gensim dictionary\n",
        "              corpus : Gensim corpus\n",
        "              texts : List of input texts\n",
        "              stop : Max num of topics\n",
        "    purpose : Compute c_v coherence for various number of topics\n",
        "    Output  : model_list : List of LSA topic models\n",
        "              coherence_values : Coherence values corresponding to the LDA model with respective number of topics\n",
        "    \"\"\"\n",
        "    coherence_values = []\n",
        "    model_list = []\n",
        "    for num_topics in range(start, stop, step):\n",
        "        # generate LSA model\n",
        "        model = LsiModel(doc_term_matrix, num_topics=num_topics, id2word = dictionary)  # train model\n",
        "        model_list.append(model)\n",
        "        coherencemodel = CoherenceModel(model=model, texts=doc_clean, dictionary=dictionary, coherence='c_v')\n",
        "        coherence_values.append(coherencemodel.get_coherence())\n",
        "    return model_list, coherence_values"
      ],
      "execution_count": 64,
      "outputs": []
    },
    {
      "cell_type": "code",
      "metadata": {
        "id": "DjyzAzWBRfrH"
      },
      "source": [
        "def plot_graph(doc_clean,start, stop, step):\n",
        "    dictionary, doc_term_matrix = prepare_corpus(doc_clean)\n",
        "    model_list, coherence_values = compute_coherence_values(dictionary, doc_term_matrix,doc_clean,\n",
        "                                                            stop, start, step)\n",
        "    # Show graph\n",
        "    x = range(start, stop, step)\n",
        "    plt.plot(x, coherence_values)\n",
        "    plt.xlabel(\"Number of Topics\")\n",
        "    plt.ylabel(\"Coherence score\")\n",
        "    plt.legend((\"coherence_values\"), loc='best')\n",
        "    plt.show()"
      ],
      "execution_count": 65,
      "outputs": []
    },
    {
      "cell_type": "code",
      "metadata": {
        "id": "qy9ZjdcmRhxs"
      },
      "source": [
        "# evaluate a good number of topics for the LSI Model. This takes some time.\n",
        "\n",
        "if False:\n",
        "\n",
        "  start, stop, step = 1, 500, 10\n",
        "  plot_graph(data, start, stop, step)"
      ],
      "execution_count": 66,
      "outputs": []
    },
    {
      "cell_type": "markdown",
      "metadata": {
        "id": "Qo5NgBHFlqgg"
      },
      "source": [
        "For unigrams, the best number of topics seems to be around 20.\n",
        "\n",
        "For unigrams plus bigrams, the coherence score drops down until 100 and then continuously rises until 500 and continues to rise. Same for bigrams-only."
      ]
    },
    {
      "cell_type": "markdown",
      "metadata": {
        "id": "lTQKfd0xQQ65"
      },
      "source": [
        "Store Model to W&B"
      ]
    },
    {
      "cell_type": "code",
      "metadata": {
        "colab": {
          "base_uri": "https://localhost:8080/"
        },
        "id": "RfAYF7ArQUXo",
        "outputId": "f6a06058-daa7-4dbc-9237-ed30cddba063"
      },
      "source": [
        "model_artifact = wandb.Artifact(\n",
        "    \"trained-model\", \n",
        "    type=\"model\",\n",
        "    description=\"LSI model\",\n",
        "    metadata=\"\")\n",
        "\n",
        "model_artifact.add_file(\"/content/index/lsi.model\")\n",
        "model_artifact.add_file(\"/content/index/lsi_matrixsim.index\")\n",
        "model_artifact.add_file(\"/content/index/lsi.model.projection\")\n",
        "wandb.log_artifact(model_artifact)"
      ],
      "execution_count": 67,
      "outputs": [
        {
          "output_type": "execute_result",
          "data": {
            "text/plain": [
              "<wandb.sdk.wandb_artifacts.Artifact at 0x7f2959e43c90>"
            ]
          },
          "metadata": {},
          "execution_count": 67
        }
      ]
    },
    {
      "cell_type": "markdown",
      "metadata": {
        "id": "rF_INicGhXKd"
      },
      "source": [
        "# Doc2Vec"
      ]
    },
    {
      "cell_type": "code",
      "metadata": {
        "id": "wflSccBshkIk"
      },
      "source": [
        "def get_tagged_documents(corpus, tags=None):\n",
        "  if tags == 'SectionsTunes':\n",
        "    print('Tagging input data with both section and tune information.')\n",
        "  else:\n",
        "    print('Tagging input data with section informaiton only.')\n",
        "    \n",
        "  for i, tokens in enumerate(corpus):\n",
        "    if tags == 'SectionsTunes':\n",
        "      yield gensim.models.doc2vec.TaggedDocument(tokens, [i, f'titleid_{sectionid_to_titleid[i]}'])\n",
        "    else:\n",
        "      yield gensim.models.doc2vec.TaggedDocument(tokens, [i])  # diatonic chord distance is a bit better"
      ],
      "execution_count": 68,
      "outputs": []
    },
    {
      "cell_type": "code",
      "metadata": {
        "colab": {
          "base_uri": "https://localhost:8080/"
        },
        "id": "_u0RdBI1kYD9",
        "outputId": "2a690882-156c-4d8b-e8e0-6ff824739c8e"
      },
      "source": [
        "train_corpus = list(get_tagged_documents(processed_corpus, doc2vec_config['general']['document_tags']))\n",
        "train_corpus[1000]"
      ],
      "execution_count": 69,
      "outputs": [
        {
          "output_type": "stream",
          "name": "stdout",
          "text": [
            "Tagging input data with both section and tune information.\n"
          ]
        },
        {
          "output_type": "execute_result",
          "data": {
            "text/plain": [
              "TaggedDocument(words=['CM7-Am7', 'Am7-Dm7', 'Dm7-G7', 'G7-CM7', 'CM7-FM7', 'FM7-C', 'C-Am7', 'Am7-Dm7', 'Dm7-G7', 'G7-C6', 'C6-Dm7', 'Dm7-G7'], tags=[1000, 'titleid_308'])"
            ]
          },
          "metadata": {},
          "execution_count": 69
        }
      ]
    },
    {
      "cell_type": "code",
      "metadata": {
        "colab": {
          "base_uri": "https://localhost:8080/"
        },
        "id": "M9adPoy9reaw",
        "outputId": "a2791c5e-b63f-4bdc-f234-4c97726c13ec"
      },
      "source": [
        "import multiprocessing\n",
        "\n",
        "print(f\"CPU Count: {multiprocessing.cpu_count()}\")\n",
        "print(f\"Config:\")\n",
        "print(doc2vec_config['model'])\n",
        "\n",
        "model = Doc2Vec(train_corpus,\n",
        "                **doc2vec_config['model']\n",
        "                )"
      ],
      "execution_count": 70,
      "outputs": [
        {
          "output_type": "stream",
          "name": "stderr",
          "text": [
            "2021-11-22 20:41:55,027 : INFO : collecting all words and their counts\n",
            "2021-11-22 20:41:55,029 : INFO : PROGRESS: at example #0, processed 0 words (0/s), 0 word types, 0 tags\n",
            "2021-11-22 20:41:55,090 : INFO : collected 3750 word types and 7200 unique tags from a corpus of 5391 examples and 77231 words\n",
            "2021-11-22 20:41:55,091 : INFO : Creating a fresh vocabulary\n",
            "2021-11-22 20:41:55,111 : INFO : Doc2Vec lifecycle event {'msg': 'effective_min_count=1 retains 3750 unique words (100.0%% of original 3750, drops 0)', 'datetime': '2021-11-22T20:41:55.111815', 'gensim': '4.1.2', 'python': '3.7.12 (default, Sep 10 2021, 00:21:48) \\n[GCC 7.5.0]', 'platform': 'Linux-5.4.104+-x86_64-with-Ubuntu-18.04-bionic', 'event': 'prepare_vocab'}\n",
            "2021-11-22 20:41:55,113 : INFO : Doc2Vec lifecycle event {'msg': 'effective_min_count=1 leaves 77231 word corpus (100.0%% of original 77231, drops 0)', 'datetime': '2021-11-22T20:41:55.113544', 'gensim': '4.1.2', 'python': '3.7.12 (default, Sep 10 2021, 00:21:48) \\n[GCC 7.5.0]', 'platform': 'Linux-5.4.104+-x86_64-with-Ubuntu-18.04-bionic', 'event': 'prepare_vocab'}\n",
            "2021-11-22 20:41:55,148 : INFO : deleting the raw counts dictionary of 3750 items\n",
            "2021-11-22 20:41:55,153 : INFO : sample=0.001 downsamples 70 most-common words\n",
            "2021-11-22 20:41:55,154 : INFO : Doc2Vec lifecycle event {'msg': 'downsampling leaves estimated 53287.88837461548 word corpus (69.0%% of prior 77231)', 'datetime': '2021-11-22T20:41:55.154781', 'gensim': '4.1.2', 'python': '3.7.12 (default, Sep 10 2021, 00:21:48) \\n[GCC 7.5.0]', 'platform': 'Linux-5.4.104+-x86_64-with-Ubuntu-18.04-bionic', 'event': 'prepare_vocab'}\n"
          ]
        },
        {
          "output_type": "stream",
          "name": "stdout",
          "text": [
            "CPU Count: 2\n",
            "Config:\n",
            "{'dm': 1, 'vector_size': 100, 'window': 4, 'epochs': 40, 'min_count': 1, 'negative': 10, 'sample': 0.001, 'seed': 42}\n"
          ]
        },
        {
          "output_type": "stream",
          "name": "stderr",
          "text": [
            "2021-11-22 20:41:55,211 : INFO : estimated required memory for 3750 words and 100 dimensions: 9195000 bytes\n",
            "2021-11-22 20:41:55,218 : INFO : resetting layer weights\n",
            "2021-11-22 20:41:55,229 : INFO : Doc2Vec lifecycle event {'msg': 'training model with 3 workers on 3750 vocabulary and 100 features, using sg=0 hs=0 sample=0.001 negative=10 window=4 shrink_windows=True', 'datetime': '2021-11-22T20:41:55.229559', 'gensim': '4.1.2', 'python': '3.7.12 (default, Sep 10 2021, 00:21:48) \\n[GCC 7.5.0]', 'platform': 'Linux-5.4.104+-x86_64-with-Ubuntu-18.04-bionic', 'event': 'train'}\n",
            "2021-11-22 20:41:55,928 : INFO : worker thread finished; awaiting finish of 2 more threads\n",
            "2021-11-22 20:41:56,022 : INFO : worker thread finished; awaiting finish of 1 more threads\n",
            "2021-11-22 20:41:56,032 : INFO : worker thread finished; awaiting finish of 0 more threads\n",
            "2021-11-22 20:41:56,034 : INFO : EPOCH - 1 : training on 77231 raw words (63876 effective words) took 0.8s, 80803 effective words/s\n",
            "2021-11-22 20:41:56,696 : INFO : worker thread finished; awaiting finish of 2 more threads\n",
            "2021-11-22 20:41:56,780 : INFO : worker thread finished; awaiting finish of 1 more threads\n",
            "2021-11-22 20:41:56,800 : INFO : worker thread finished; awaiting finish of 0 more threads\n",
            "2021-11-22 20:41:56,801 : INFO : EPOCH - 2 : training on 77231 raw words (63947 effective words) took 0.8s, 84566 effective words/s\n",
            "2021-11-22 20:41:57,406 : INFO : worker thread finished; awaiting finish of 2 more threads\n",
            "2021-11-22 20:41:57,489 : INFO : worker thread finished; awaiting finish of 1 more threads\n",
            "2021-11-22 20:41:57,510 : INFO : worker thread finished; awaiting finish of 0 more threads\n",
            "2021-11-22 20:41:57,512 : INFO : EPOCH - 3 : training on 77231 raw words (63979 effective words) took 0.7s, 91786 effective words/s\n",
            "2021-11-22 20:41:58,118 : INFO : worker thread finished; awaiting finish of 2 more threads\n",
            "2021-11-22 20:41:58,196 : INFO : worker thread finished; awaiting finish of 1 more threads\n",
            "2021-11-22 20:41:58,211 : INFO : worker thread finished; awaiting finish of 0 more threads\n",
            "2021-11-22 20:41:58,213 : INFO : EPOCH - 4 : training on 77231 raw words (64172 effective words) took 0.7s, 93320 effective words/s\n",
            "2021-11-22 20:41:58,862 : INFO : worker thread finished; awaiting finish of 2 more threads\n",
            "2021-11-22 20:41:58,940 : INFO : worker thread finished; awaiting finish of 1 more threads\n",
            "2021-11-22 20:41:58,960 : INFO : worker thread finished; awaiting finish of 0 more threads\n",
            "2021-11-22 20:41:58,961 : INFO : EPOCH - 5 : training on 77231 raw words (63964 effective words) took 0.7s, 87987 effective words/s\n",
            "2021-11-22 20:41:59,580 : INFO : worker thread finished; awaiting finish of 2 more threads\n",
            "2021-11-22 20:41:59,660 : INFO : worker thread finished; awaiting finish of 1 more threads\n",
            "2021-11-22 20:41:59,680 : INFO : worker thread finished; awaiting finish of 0 more threads\n",
            "2021-11-22 20:41:59,682 : INFO : EPOCH - 6 : training on 77231 raw words (64145 effective words) took 0.7s, 90859 effective words/s\n",
            "2021-11-22 20:42:00,316 : INFO : worker thread finished; awaiting finish of 2 more threads\n",
            "2021-11-22 20:42:00,390 : INFO : worker thread finished; awaiting finish of 1 more threads\n",
            "2021-11-22 20:42:00,415 : INFO : worker thread finished; awaiting finish of 0 more threads\n",
            "2021-11-22 20:42:00,417 : INFO : EPOCH - 7 : training on 77231 raw words (63870 effective words) took 0.7s, 88482 effective words/s\n",
            "2021-11-22 20:42:01,067 : INFO : worker thread finished; awaiting finish of 2 more threads\n",
            "2021-11-22 20:42:01,167 : INFO : worker thread finished; awaiting finish of 1 more threads\n",
            "2021-11-22 20:42:01,186 : INFO : worker thread finished; awaiting finish of 0 more threads\n",
            "2021-11-22 20:42:01,188 : INFO : EPOCH - 8 : training on 77231 raw words (64054 effective words) took 0.8s, 84964 effective words/s\n",
            "2021-11-22 20:42:01,860 : INFO : worker thread finished; awaiting finish of 2 more threads\n",
            "2021-11-22 20:42:01,945 : INFO : worker thread finished; awaiting finish of 1 more threads\n",
            "2021-11-22 20:42:01,966 : INFO : worker thread finished; awaiting finish of 0 more threads\n",
            "2021-11-22 20:42:01,968 : INFO : EPOCH - 9 : training on 77231 raw words (64004 effective words) took 0.8s, 83531 effective words/s\n",
            "2021-11-22 20:42:02,618 : INFO : worker thread finished; awaiting finish of 2 more threads\n",
            "2021-11-22 20:42:02,703 : INFO : worker thread finished; awaiting finish of 1 more threads\n",
            "2021-11-22 20:42:02,723 : INFO : worker thread finished; awaiting finish of 0 more threads\n",
            "2021-11-22 20:42:02,725 : INFO : EPOCH - 10 : training on 77231 raw words (64100 effective words) took 0.7s, 86287 effective words/s\n",
            "2021-11-22 20:42:03,377 : INFO : worker thread finished; awaiting finish of 2 more threads\n",
            "2021-11-22 20:42:03,476 : INFO : worker thread finished; awaiting finish of 1 more threads\n",
            "2021-11-22 20:42:03,490 : INFO : worker thread finished; awaiting finish of 0 more threads\n",
            "2021-11-22 20:42:03,491 : INFO : EPOCH - 11 : training on 77231 raw words (63935 effective words) took 0.8s, 84504 effective words/s\n",
            "2021-11-22 20:42:04,114 : INFO : worker thread finished; awaiting finish of 2 more threads\n",
            "2021-11-22 20:42:04,205 : INFO : worker thread finished; awaiting finish of 1 more threads\n",
            "2021-11-22 20:42:04,217 : INFO : worker thread finished; awaiting finish of 0 more threads\n",
            "2021-11-22 20:42:04,219 : INFO : EPOCH - 12 : training on 77231 raw words (64139 effective words) took 0.7s, 90027 effective words/s\n",
            "2021-11-22 20:42:04,844 : INFO : worker thread finished; awaiting finish of 2 more threads\n",
            "2021-11-22 20:42:04,936 : INFO : worker thread finished; awaiting finish of 1 more threads\n",
            "2021-11-22 20:42:04,963 : INFO : worker thread finished; awaiting finish of 0 more threads\n",
            "2021-11-22 20:42:04,967 : INFO : EPOCH - 13 : training on 77231 raw words (64073 effective words) took 0.7s, 87436 effective words/s\n",
            "2021-11-22 20:42:05,591 : INFO : worker thread finished; awaiting finish of 2 more threads\n",
            "2021-11-22 20:42:05,671 : INFO : worker thread finished; awaiting finish of 1 more threads\n",
            "2021-11-22 20:42:05,688 : INFO : worker thread finished; awaiting finish of 0 more threads\n",
            "2021-11-22 20:42:05,690 : INFO : EPOCH - 14 : training on 77231 raw words (64097 effective words) took 0.7s, 89749 effective words/s\n",
            "2021-11-22 20:42:06,323 : INFO : worker thread finished; awaiting finish of 2 more threads\n",
            "2021-11-22 20:42:06,417 : INFO : worker thread finished; awaiting finish of 1 more threads\n",
            "2021-11-22 20:42:06,431 : INFO : worker thread finished; awaiting finish of 0 more threads\n",
            "2021-11-22 20:42:06,432 : INFO : EPOCH - 15 : training on 77231 raw words (64081 effective words) took 0.7s, 88091 effective words/s\n",
            "2021-11-22 20:42:07,060 : INFO : worker thread finished; awaiting finish of 2 more threads\n",
            "2021-11-22 20:42:07,142 : INFO : worker thread finished; awaiting finish of 1 more threads\n",
            "2021-11-22 20:42:07,160 : INFO : worker thread finished; awaiting finish of 0 more threads\n",
            "2021-11-22 20:42:07,162 : INFO : EPOCH - 16 : training on 77231 raw words (64102 effective words) took 0.7s, 89717 effective words/s\n",
            "2021-11-22 20:42:07,786 : INFO : worker thread finished; awaiting finish of 2 more threads\n",
            "2021-11-22 20:42:07,874 : INFO : worker thread finished; awaiting finish of 1 more threads\n",
            "2021-11-22 20:42:07,888 : INFO : worker thread finished; awaiting finish of 0 more threads\n",
            "2021-11-22 20:42:07,890 : INFO : EPOCH - 17 : training on 77231 raw words (64065 effective words) took 0.7s, 89636 effective words/s\n",
            "2021-11-22 20:42:08,495 : INFO : worker thread finished; awaiting finish of 2 more threads\n",
            "2021-11-22 20:42:08,572 : INFO : worker thread finished; awaiting finish of 1 more threads\n",
            "2021-11-22 20:42:08,589 : INFO : worker thread finished; awaiting finish of 0 more threads\n",
            "2021-11-22 20:42:08,591 : INFO : EPOCH - 18 : training on 77231 raw words (64011 effective words) took 0.7s, 93116 effective words/s\n",
            "2021-11-22 20:42:09,229 : INFO : worker thread finished; awaiting finish of 2 more threads\n",
            "2021-11-22 20:42:09,306 : INFO : worker thread finished; awaiting finish of 1 more threads\n",
            "2021-11-22 20:42:09,321 : INFO : worker thread finished; awaiting finish of 0 more threads\n",
            "2021-11-22 20:42:09,322 : INFO : EPOCH - 19 : training on 77231 raw words (64064 effective words) took 0.7s, 89259 effective words/s\n",
            "2021-11-22 20:42:09,921 : INFO : worker thread finished; awaiting finish of 2 more threads\n",
            "2021-11-22 20:42:10,003 : INFO : worker thread finished; awaiting finish of 1 more threads\n",
            "2021-11-22 20:42:10,021 : INFO : worker thread finished; awaiting finish of 0 more threads\n",
            "2021-11-22 20:42:10,022 : INFO : EPOCH - 20 : training on 77231 raw words (64138 effective words) took 0.7s, 93386 effective words/s\n",
            "2021-11-22 20:42:10,631 : INFO : worker thread finished; awaiting finish of 2 more threads\n",
            "2021-11-22 20:42:10,709 : INFO : worker thread finished; awaiting finish of 1 more threads\n",
            "2021-11-22 20:42:10,726 : INFO : worker thread finished; awaiting finish of 0 more threads\n",
            "2021-11-22 20:42:10,727 : INFO : EPOCH - 21 : training on 77231 raw words (64064 effective words) took 0.7s, 92784 effective words/s\n",
            "2021-11-22 20:42:11,331 : INFO : worker thread finished; awaiting finish of 2 more threads\n",
            "2021-11-22 20:42:11,419 : INFO : worker thread finished; awaiting finish of 1 more threads\n",
            "2021-11-22 20:42:11,436 : INFO : worker thread finished; awaiting finish of 0 more threads\n",
            "2021-11-22 20:42:11,438 : INFO : EPOCH - 22 : training on 77231 raw words (63978 effective words) took 0.7s, 92031 effective words/s\n",
            "2021-11-22 20:42:12,047 : INFO : worker thread finished; awaiting finish of 2 more threads\n",
            "2021-11-22 20:42:12,147 : INFO : worker thread finished; awaiting finish of 1 more threads\n",
            "2021-11-22 20:42:12,154 : INFO : worker thread finished; awaiting finish of 0 more threads\n",
            "2021-11-22 20:42:12,156 : INFO : EPOCH - 23 : training on 77231 raw words (64137 effective words) took 0.7s, 91314 effective words/s\n",
            "2021-11-22 20:42:12,715 : INFO : worker thread finished; awaiting finish of 2 more threads\n",
            "2021-11-22 20:42:12,798 : INFO : worker thread finished; awaiting finish of 1 more threads\n",
            "2021-11-22 20:42:12,818 : INFO : worker thread finished; awaiting finish of 0 more threads\n",
            "2021-11-22 20:42:12,820 : INFO : EPOCH - 24 : training on 77231 raw words (64011 effective words) took 0.7s, 98424 effective words/s\n",
            "2021-11-22 20:42:13,421 : INFO : worker thread finished; awaiting finish of 2 more threads\n",
            "2021-11-22 20:42:13,513 : INFO : worker thread finished; awaiting finish of 1 more threads\n",
            "2021-11-22 20:42:13,539 : INFO : worker thread finished; awaiting finish of 0 more threads\n",
            "2021-11-22 20:42:13,540 : INFO : EPOCH - 25 : training on 77231 raw words (64093 effective words) took 0.7s, 90750 effective words/s\n",
            "2021-11-22 20:42:14,141 : INFO : worker thread finished; awaiting finish of 2 more threads\n",
            "2021-11-22 20:42:14,211 : INFO : worker thread finished; awaiting finish of 1 more threads\n",
            "2021-11-22 20:42:14,229 : INFO : worker thread finished; awaiting finish of 0 more threads\n",
            "2021-11-22 20:42:14,231 : INFO : EPOCH - 26 : training on 77231 raw words (63997 effective words) took 0.7s, 94580 effective words/s\n",
            "2021-11-22 20:42:14,820 : INFO : worker thread finished; awaiting finish of 2 more threads\n",
            "2021-11-22 20:42:14,897 : INFO : worker thread finished; awaiting finish of 1 more threads\n",
            "2021-11-22 20:42:14,919 : INFO : worker thread finished; awaiting finish of 0 more threads\n",
            "2021-11-22 20:42:14,920 : INFO : EPOCH - 27 : training on 77231 raw words (64081 effective words) took 0.7s, 94950 effective words/s\n",
            "2021-11-22 20:42:15,530 : INFO : worker thread finished; awaiting finish of 2 more threads\n",
            "2021-11-22 20:42:15,602 : INFO : worker thread finished; awaiting finish of 1 more threads\n",
            "2021-11-22 20:42:15,620 : INFO : worker thread finished; awaiting finish of 0 more threads\n",
            "2021-11-22 20:42:15,622 : INFO : EPOCH - 28 : training on 77231 raw words (64023 effective words) took 0.7s, 93273 effective words/s\n",
            "2021-11-22 20:42:16,206 : INFO : worker thread finished; awaiting finish of 2 more threads\n",
            "2021-11-22 20:42:16,288 : INFO : worker thread finished; awaiting finish of 1 more threads\n",
            "2021-11-22 20:42:16,298 : INFO : worker thread finished; awaiting finish of 0 more threads\n",
            "2021-11-22 20:42:16,300 : INFO : EPOCH - 29 : training on 77231 raw words (63998 effective words) took 0.7s, 96314 effective words/s\n",
            "2021-11-22 20:42:16,908 : INFO : worker thread finished; awaiting finish of 2 more threads\n",
            "2021-11-22 20:42:17,000 : INFO : worker thread finished; awaiting finish of 1 more threads\n",
            "2021-11-22 20:42:17,011 : INFO : worker thread finished; awaiting finish of 0 more threads\n",
            "2021-11-22 20:42:17,012 : INFO : EPOCH - 30 : training on 77231 raw words (64126 effective words) took 0.7s, 91914 effective words/s\n",
            "2021-11-22 20:42:17,614 : INFO : worker thread finished; awaiting finish of 2 more threads\n",
            "2021-11-22 20:42:17,703 : INFO : worker thread finished; awaiting finish of 1 more threads\n",
            "2021-11-22 20:42:17,720 : INFO : worker thread finished; awaiting finish of 0 more threads\n",
            "2021-11-22 20:42:17,722 : INFO : EPOCH - 31 : training on 77231 raw words (64149 effective words) took 0.7s, 92611 effective words/s\n",
            "2021-11-22 20:42:18,323 : INFO : worker thread finished; awaiting finish of 2 more threads\n",
            "2021-11-22 20:42:18,404 : INFO : worker thread finished; awaiting finish of 1 more threads\n",
            "2021-11-22 20:42:18,419 : INFO : worker thread finished; awaiting finish of 0 more threads\n",
            "2021-11-22 20:42:18,421 : INFO : EPOCH - 32 : training on 77231 raw words (64076 effective words) took 0.7s, 93652 effective words/s\n",
            "2021-11-22 20:42:19,016 : INFO : worker thread finished; awaiting finish of 2 more threads\n",
            "2021-11-22 20:42:19,095 : INFO : worker thread finished; awaiting finish of 1 more threads\n",
            "2021-11-22 20:42:19,119 : INFO : worker thread finished; awaiting finish of 0 more threads\n",
            "2021-11-22 20:42:19,120 : INFO : EPOCH - 33 : training on 77231 raw words (64035 effective words) took 0.7s, 93525 effective words/s\n",
            "2021-11-22 20:42:19,703 : INFO : worker thread finished; awaiting finish of 2 more threads\n",
            "2021-11-22 20:42:19,791 : INFO : worker thread finished; awaiting finish of 1 more threads\n",
            "2021-11-22 20:42:19,805 : INFO : worker thread finished; awaiting finish of 0 more threads\n",
            "2021-11-22 20:42:19,807 : INFO : EPOCH - 34 : training on 77231 raw words (63861 effective words) took 0.7s, 95068 effective words/s\n",
            "2021-11-22 20:42:20,393 : INFO : worker thread finished; awaiting finish of 2 more threads\n",
            "2021-11-22 20:42:20,485 : INFO : worker thread finished; awaiting finish of 1 more threads\n",
            "2021-11-22 20:42:20,503 : INFO : worker thread finished; awaiting finish of 0 more threads\n",
            "2021-11-22 20:42:20,504 : INFO : EPOCH - 35 : training on 77231 raw words (64244 effective words) took 0.7s, 94161 effective words/s\n",
            "2021-11-22 20:42:21,170 : INFO : worker thread finished; awaiting finish of 2 more threads\n",
            "2021-11-22 20:42:21,260 : INFO : worker thread finished; awaiting finish of 1 more threads\n",
            "2021-11-22 20:42:21,279 : INFO : worker thread finished; awaiting finish of 0 more threads\n",
            "2021-11-22 20:42:21,280 : INFO : EPOCH - 36 : training on 77231 raw words (64091 effective words) took 0.8s, 84173 effective words/s\n",
            "2021-11-22 20:42:21,904 : INFO : worker thread finished; awaiting finish of 2 more threads\n",
            "2021-11-22 20:42:21,988 : INFO : worker thread finished; awaiting finish of 1 more threads\n",
            "2021-11-22 20:42:22,004 : INFO : worker thread finished; awaiting finish of 0 more threads\n",
            "2021-11-22 20:42:22,006 : INFO : EPOCH - 37 : training on 77231 raw words (64072 effective words) took 0.7s, 89665 effective words/s\n",
            "2021-11-22 20:42:22,637 : INFO : worker thread finished; awaiting finish of 2 more threads\n",
            "2021-11-22 20:42:22,728 : INFO : worker thread finished; awaiting finish of 1 more threads\n",
            "2021-11-22 20:42:22,743 : INFO : worker thread finished; awaiting finish of 0 more threads\n",
            "2021-11-22 20:42:22,745 : INFO : EPOCH - 38 : training on 77231 raw words (64170 effective words) took 0.7s, 88654 effective words/s\n",
            "2021-11-22 20:42:23,340 : INFO : worker thread finished; awaiting finish of 2 more threads\n",
            "2021-11-22 20:42:23,407 : INFO : worker thread finished; awaiting finish of 1 more threads\n",
            "2021-11-22 20:42:23,432 : INFO : worker thread finished; awaiting finish of 0 more threads\n",
            "2021-11-22 20:42:23,433 : INFO : EPOCH - 39 : training on 77231 raw words (64029 effective words) took 0.7s, 94857 effective words/s\n",
            "2021-11-22 20:42:23,985 : INFO : worker thread finished; awaiting finish of 2 more threads\n",
            "2021-11-22 20:42:24,065 : INFO : worker thread finished; awaiting finish of 1 more threads\n",
            "2021-11-22 20:42:24,082 : INFO : worker thread finished; awaiting finish of 0 more threads\n",
            "2021-11-22 20:42:24,084 : INFO : EPOCH - 40 : training on 77231 raw words (64024 effective words) took 0.6s, 101085 effective words/s\n",
            "2021-11-22 20:42:24,086 : INFO : Doc2Vec lifecycle event {'msg': 'training on 3089240 raw words (2562075 effective words) took 28.9s, 88800 effective words/s', 'datetime': '2021-11-22T20:42:24.086028', 'gensim': '4.1.2', 'python': '3.7.12 (default, Sep 10 2021, 00:21:48) \\n[GCC 7.5.0]', 'platform': 'Linux-5.4.104+-x86_64-with-Ubuntu-18.04-bionic', 'event': 'train'}\n",
            "2021-11-22 20:42:24,088 : INFO : Doc2Vec lifecycle event {'params': 'Doc2Vec(dm/m,d100,n10,w4,s0.001,t3)', 'datetime': '2021-11-22T20:42:24.088375', 'gensim': '4.1.2', 'python': '3.7.12 (default, Sep 10 2021, 00:21:48) \\n[GCC 7.5.0]', 'platform': 'Linux-5.4.104+-x86_64-with-Ubuntu-18.04-bionic', 'event': 'created'}\n"
          ]
        }
      ]
    },
    {
      "cell_type": "code",
      "metadata": {
        "colab": {
          "base_uri": "https://localhost:8080/"
        },
        "id": "G-cE7gug1Ct5",
        "outputId": "ec25ae3c-5df6-465a-da1f-4a2989fc38da"
      },
      "source": [
        "model_artifact = wandb.Artifact(\n",
        "    \"trained-model\", \n",
        "    type=\"model\",\n",
        "    description=\"Doc2Vec model\",\n",
        "    metadata=\"\")\n",
        "\n",
        "fname = 'doc2vec.model'\n",
        "model.save(fname)\n",
        "\n",
        "model_artifact.add_file(fname)\n",
        "wandb.log_artifact(model_artifact)"
      ],
      "execution_count": 71,
      "outputs": [
        {
          "output_type": "stream",
          "name": "stderr",
          "text": [
            "2021-11-22 20:42:24,110 : INFO : Doc2Vec lifecycle event {'fname_or_handle': 'doc2vec.model', 'separately': 'None', 'sep_limit': 10485760, 'ignore': frozenset(), 'datetime': '2021-11-22T20:42:24.110163', 'gensim': '4.1.2', 'python': '3.7.12 (default, Sep 10 2021, 00:21:48) \\n[GCC 7.5.0]', 'platform': 'Linux-5.4.104+-x86_64-with-Ubuntu-18.04-bionic', 'event': 'saving'}\n",
            "2021-11-22 20:42:24,112 : INFO : not storing attribute cum_table\n",
            "2021-11-22 20:42:24,131 : INFO : saved doc2vec.model\n"
          ]
        },
        {
          "output_type": "execute_result",
          "data": {
            "text/plain": [
              "<wandb.sdk.wandb_artifacts.Artifact at 0x7f29580b3610>"
            ]
          },
          "metadata": {},
          "execution_count": 71
        }
      ]
    },
    {
      "cell_type": "markdown",
      "metadata": {
        "id": "jJvq2K93xAO5"
      },
      "source": [
        "### Test the distance between C and the diatonic chords\n",
        "\n",
        "Test if the model can capture that the diatonic chords are closer to the root.\n",
        "\n",
        "Do this only if the input corpus contains the unigrams. "
      ]
    },
    {
      "cell_type": "code",
      "metadata": {
        "id": "cH3TJxCfvoFm"
      },
      "source": [
        "test_tokens = ['C',\n",
        "              'Dm',\n",
        "              'Em',\n",
        "              'F',\n",
        "              'G7',\n",
        "              'Am',\n",
        "              'Bm7b5',\n",
        "              'F7',\n",
        "              'D7',\n",
        "              'A7',\n",
        "              'E7',\n",
        "              'B7',\n",
        "              'F#7',\n",
        "               'Cm',\n",
        "               'D']\n",
        "\n",
        "if 1 in ngrams_for_input:\n",
        "  ref = 'C'\n",
        "  for t in test_tokens:\n",
        "    print(f\"{model.wv.similarity(ref, t):.3f}: {ref} <-> {t}\")"
      ],
      "execution_count": 72,
      "outputs": []
    },
    {
      "cell_type": "code",
      "metadata": {
        "id": "IfIRoWL4kpcB"
      },
      "source": [
        "if 1 in ngrams_for_input:\n",
        "  model.wv.similar_by_word('C', topn=20)"
      ],
      "execution_count": 73,
      "outputs": []
    },
    {
      "cell_type": "markdown",
      "metadata": {
        "id": "ix4n9S3_xQzD"
      },
      "source": [
        "Plot the generated word vectors in 2D space"
      ]
    },
    {
      "cell_type": "code",
      "metadata": {
        "id": "JjT_uNh0wthj"
      },
      "source": [
        "from sklearn.manifold import TSNE\n",
        "\n",
        "# input data: vectors for all tokens\n",
        "weights = model.wv.vectors\n",
        "\n",
        "# only do this when the vocabulary is not too big....\n",
        "if len(weights) < 100:\n",
        "\n",
        "  # do T-SNE\n",
        "  tsne = TSNE(n_components=2, \n",
        "              random_state=42,\n",
        "              perplexity=30,\n",
        "              learning_rate='auto',\n",
        "              init='pca',\n",
        "              n_iter=2000\n",
        "              )\n",
        "  T = tsne.fit_transform(weights)\n",
        "\n",
        "  # plot\n",
        "  projected = pd.DataFrame(T)\n",
        "\n",
        "  fig = px.scatter(\n",
        "      projected, \n",
        "      x=0, y=1,\n",
        "      #color='mode',\n",
        "      text=model.wv.index_to_key,\n",
        "      width=800, height=600,\n",
        "      title=\"T-SNE applied to Chord Vectors for Tunes in Cmaj/Amin\"\n",
        "  )\n",
        "  fig.update_traces(textposition='top center')\n",
        "  fig.update_traces(textfont_size=12, selector=dict(type='scatter'))\n",
        "  fig.show()"
      ],
      "execution_count": 74,
      "outputs": []
    },
    {
      "cell_type": "markdown",
      "metadata": {
        "id": "PzabYlA89QpY"
      },
      "source": [
        "### Test for single tunes"
      ]
    },
    {
      "cell_type": "code",
      "metadata": {
        "colab": {
          "base_uri": "https://localhost:8080/"
        },
        "id": "wYI6NZimAn6a",
        "outputId": "4da69b0a-0b05-4f5e-b62c-c2bd5eba14a1"
      },
      "source": [
        "len(sectionid_to_section)"
      ],
      "execution_count": 75,
      "outputs": [
        {
          "output_type": "execute_result",
          "data": {
            "text/plain": [
              "5391"
            ]
          },
          "metadata": {},
          "execution_count": 75
        }
      ]
    },
    {
      "cell_type": "code",
      "metadata": {
        "colab": {
          "base_uri": "https://localhost:8080/"
        },
        "id": "8ho0HdILB4zq",
        "outputId": "fb250361-352e-4ef7-aefc-2f16f172ea3f"
      },
      "source": [
        "len(model.dv)"
      ],
      "execution_count": 76,
      "outputs": [
        {
          "output_type": "execute_result",
          "data": {
            "text/plain": [
              "7200"
            ]
          },
          "metadata": {},
          "execution_count": 76
        }
      ]
    },
    {
      "cell_type": "code",
      "metadata": {
        "colab": {
          "base_uri": "https://localhost:8080/"
        },
        "id": "5Z2jZALS-7et",
        "outputId": "df924d0e-6f4c-4fb4-f6f9-a582e9416ff7"
      },
      "source": [
        "title_to_sectionid['These Foolish Things']"
      ],
      "execution_count": 77,
      "outputs": [
        {
          "output_type": "execute_result",
          "data": {
            "text/plain": [
              "[3860, 3861, 3862, 3863]"
            ]
          },
          "metadata": {},
          "execution_count": 77
        }
      ]
    },
    {
      "cell_type": "code",
      "metadata": {
        "id": "Y1GQemnx_jYJ"
      },
      "source": [
        "section_key = 3868"
      ],
      "execution_count": 78,
      "outputs": []
    },
    {
      "cell_type": "code",
      "metadata": {
        "colab": {
          "base_uri": "https://localhost:8080/"
        },
        "id": "ac5NyHbS-_2l",
        "outputId": "9fa44748-90db-47db-c33c-1c496d6ff138"
      },
      "source": [
        "model.dv.similar_by_key(section_key, topn=20)"
      ],
      "execution_count": 79,
      "outputs": [
        {
          "output_type": "execute_result",
          "data": {
            "text/plain": [
              "[('titleid_1170', 0.8437082767486572),\n",
              " (3234, 0.7932174205780029),\n",
              " (1419, 0.7917358875274658),\n",
              " ('titleid_438', 0.774512529373169),\n",
              " (1418, 0.7604619264602661),\n",
              " (3232, 0.7577387690544128),\n",
              " (1421, 0.7443612813949585),\n",
              " (882, 0.7367048263549805),\n",
              " (2732, 0.7361575961112976),\n",
              " ('titleid_1017', 0.7343206405639648),\n",
              " ('titleid_977', 0.7341889142990112),\n",
              " (1493, 0.7274057269096375),\n",
              " (3231, 0.7240337133407593),\n",
              " ('titleid_301', 0.7229481935501099),\n",
              " (2011, 0.718967854976654),\n",
              " (3767, 0.7147155404090881),\n",
              " (4168, 0.7119916677474976),\n",
              " (4928, 0.7109835743904114),\n",
              " (1166, 0.7098314166069031),\n",
              " (1474, 0.7083835005760193)]"
            ]
          },
          "metadata": {},
          "execution_count": 79
        }
      ]
    },
    {
      "cell_type": "code",
      "metadata": {
        "colab": {
          "base_uri": "https://localhost:8080/",
          "height": 36
        },
        "id": "7rMyQRbdB_Iv",
        "outputId": "ae1455bc-9df8-4f35-affb-15f34fb66f4f"
      },
      "source": [
        "sectionid_to_section[1889]"
      ],
      "execution_count": 80,
      "outputs": [
        {
          "output_type": "execute_result",
          "data": {
            "application/vnd.google.colaboratory.intrinsic+json": {
              "type": "string"
            },
            "text/plain": [
              "\"I've Told Eve'ry Little Star, section3 (B)\""
            ]
          },
          "metadata": {},
          "execution_count": 80
        }
      ]
    },
    {
      "cell_type": "code",
      "metadata": {
        "colab": {
          "base_uri": "https://localhost:8080/",
          "height": 175
        },
        "id": "BfUVTfdKB9sZ",
        "outputId": "2180a564-0ab5-4877-f3fc-c33d5d5c7a3e"
      },
      "source": [
        "titles.query('title == \"These Foolish Things\"')"
      ],
      "execution_count": 81,
      "outputs": [
        {
          "output_type": "execute_result",
          "data": {
            "text/html": [
              "<div>\n",
              "<style scoped>\n",
              "    .dataframe tbody tr th:only-of-type {\n",
              "        vertical-align: middle;\n",
              "    }\n",
              "\n",
              "    .dataframe tbody tr th {\n",
              "        vertical-align: top;\n",
              "    }\n",
              "\n",
              "    .dataframe thead th {\n",
              "        text-align: right;\n",
              "    }\n",
              "</style>\n",
              "<table border=\"1\" class=\"dataframe\">\n",
              "  <thead>\n",
              "    <tr style=\"text-align: right;\">\n",
              "      <th></th>\n",
              "      <th>id</th>\n",
              "      <th>tune_id</th>\n",
              "      <th>section_id</th>\n",
              "      <th>section_name</th>\n",
              "      <th>title</th>\n",
              "      <th>tune_mode</th>\n",
              "    </tr>\n",
              "  </thead>\n",
              "  <tbody>\n",
              "    <tr>\n",
              "      <th>3860</th>\n",
              "      <td>3860</td>\n",
              "      <td>1168</td>\n",
              "      <td>1</td>\n",
              "      <td>A</td>\n",
              "      <td>These Foolish Things</td>\n",
              "      <td>major</td>\n",
              "    </tr>\n",
              "    <tr>\n",
              "      <th>3861</th>\n",
              "      <td>3861</td>\n",
              "      <td>1168</td>\n",
              "      <td>2</td>\n",
              "      <td>A</td>\n",
              "      <td>These Foolish Things</td>\n",
              "      <td>major</td>\n",
              "    </tr>\n",
              "    <tr>\n",
              "      <th>3862</th>\n",
              "      <td>3862</td>\n",
              "      <td>1168</td>\n",
              "      <td>3</td>\n",
              "      <td>B</td>\n",
              "      <td>These Foolish Things</td>\n",
              "      <td>major</td>\n",
              "    </tr>\n",
              "    <tr>\n",
              "      <th>3863</th>\n",
              "      <td>3863</td>\n",
              "      <td>1168</td>\n",
              "      <td>4</td>\n",
              "      <td>A</td>\n",
              "      <td>These Foolish Things</td>\n",
              "      <td>major</td>\n",
              "    </tr>\n",
              "  </tbody>\n",
              "</table>\n",
              "</div>"
            ],
            "text/plain": [
              "        id  tune_id  section_id section_name                 title tune_mode\n",
              "3860  3860     1168           1            A  These Foolish Things     major\n",
              "3861  3861     1168           2            A  These Foolish Things     major\n",
              "3862  3862     1168           3            B  These Foolish Things     major\n",
              "3863  3863     1168           4            A  These Foolish Things     major"
            ]
          },
          "metadata": {},
          "execution_count": 81
        }
      ]
    },
    {
      "cell_type": "code",
      "metadata": {
        "id": "vYKXvxxbBeIe"
      },
      "source": [
        "tune_key = 'titleid_1170'"
      ],
      "execution_count": 82,
      "outputs": []
    },
    {
      "cell_type": "code",
      "metadata": {
        "colab": {
          "base_uri": "https://localhost:8080/"
        },
        "id": "wfmnL7QrCFhz",
        "outputId": "f6f01da7-7a87-4f2a-b411-2505cd835f56"
      },
      "source": [
        "model.dv.similar_by_key(tune_key, topn=20)"
      ],
      "execution_count": 83,
      "outputs": [
        {
          "output_type": "execute_result",
          "data": {
            "text/plain": [
              "[(3868, 0.8437082171440125),\n",
              " ('titleid_68', 0.8007993102073669),\n",
              " ('titleid_972', 0.7963868975639343),\n",
              " ('titleid_577', 0.7955346703529358),\n",
              " (193, 0.7820360064506531),\n",
              " ('titleid_943', 0.7800194025039673),\n",
              " ('titleid_996', 0.7742235064506531),\n",
              " ('titleid_703', 0.7726591229438782),\n",
              " (725, 0.772078275680542),\n",
              " ('titleid_895', 0.7720518112182617),\n",
              " (436, 0.7713833451271057),\n",
              " (3765, 0.7702024579048157),\n",
              " (666, 0.7683050632476807),\n",
              " (2732, 0.768061637878418),\n",
              " ('titleid_1033', 0.7679063081741333),\n",
              " (464, 0.7658095955848694),\n",
              " (4934, 0.7637566328048706),\n",
              " (3767, 0.7631768584251404),\n",
              " (574, 0.7612174153327942),\n",
              " (3289, 0.7586702704429626)]"
            ]
          },
          "metadata": {},
          "execution_count": 83
        }
      ]
    },
    {
      "cell_type": "code",
      "metadata": {
        "colab": {
          "base_uri": "https://localhost:8080/"
        },
        "id": "Cp0brM80CSK2",
        "outputId": "bc38c52e-5c95-439d-f425-fa85411a2dd4"
      },
      "source": [
        "titles.iloc[755]"
      ],
      "execution_count": 84,
      "outputs": [
        {
          "output_type": "execute_result",
          "data": {
            "text/plain": [
              "id                                           755\n",
              "tune_id                                      234\n",
              "section_id                                     5\n",
              "section_name                                   D\n",
              "title           Chega De Saudade (No More Blues)\n",
              "tune_mode                                  minor\n",
              "Name: 755, dtype: object"
            ]
          },
          "metadata": {},
          "execution_count": 84
        }
      ]
    },
    {
      "cell_type": "markdown",
      "metadata": {
        "id": "ajqb904KDwNV"
      },
      "source": [
        "#### Section Similarity\n"
      ]
    },
    {
      "cell_type": "code",
      "metadata": {
        "id": "mPnEPL_k4TZn"
      },
      "source": [
        "def get_section_scores_doc2vec(tunes):\n",
        "\n",
        "    df_sim = pd.DataFrame(columns=['reference_title',\n",
        "                                  'similar_title',\n",
        "                                  'ref_section', \n",
        "                                  'similar_section', \n",
        "                                  'score', \n",
        "                                  ])\n",
        "\n",
        "    for tune in tunes:\n",
        "      print()\n",
        "      print(\"-\"*50)\n",
        "      for s1 in title_to_sectionid[tune]:\n",
        "      \n",
        "          # sections are tagged with the numeric sectionid and can be used for querying\n",
        "          sims = model.dv.similar_by_key(s1, topn=40)\n",
        "          \n",
        "          print(s1, sectionid_to_section[s1])\n",
        "          n = 0\n",
        "          for s2, s2_score in sims:\n",
        "              if type(s2) == int:  # only consider similarities to sectionids; tuneids are strings\n",
        "                  # don't count self-similarity between sections of the same tune\n",
        "                  if s2 not in title_to_sectionid[tune]:\n",
        "                      n += 1\n",
        "                  \n",
        "                      # print(f\"\\t{s2_score:.3f} {sectionid_to_section[s2]}\")\n",
        "\n",
        "                      df_sim.loc[len(df_sim)] = [tune,\n",
        "                                      sectionid_to_title[s2],\n",
        "                                      sectionid_to_section[s1], \n",
        "                                      sectionid_to_section[s2], \n",
        "                                      s2_score, \n",
        "                                      ]\n",
        "    return df_sim"
      ],
      "execution_count": 85,
      "outputs": []
    },
    {
      "cell_type": "code",
      "metadata": {
        "colab": {
          "base_uri": "https://localhost:8080/"
        },
        "id": "i_d92il649O9",
        "outputId": "1e35a57f-78bf-4d59-ed52-189f682caeba"
      },
      "source": [
        "df_section_sim = get_section_scores_doc2vec(tunes_eval_list)\n",
        "df_word2vec = df_section_sim[:]"
      ],
      "execution_count": 86,
      "outputs": [
        {
          "output_type": "stream",
          "name": "stdout",
          "text": [
            "\n",
            "--------------------------------------------------\n",
            "125 After You've Gone, section1 (A)\n",
            "126 After You've Gone, section2 (B)\n",
            "127 After You've Gone, section3 (A)\n",
            "128 After You've Gone, section4 (C)\n",
            "\n",
            "--------------------------------------------------\n",
            "188 All God's Chillun Got Rhythm, section1 (A)\n",
            "189 All God's Chillun Got Rhythm, section2 (B)\n",
            "190 All God's Chillun Got Rhythm, section3 (A)\n",
            "191 All God's Chillun Got Rhythm, section4 (C)\n",
            "\n",
            "--------------------------------------------------\n",
            "198 All Of Me, section1 (A)\n",
            "199 All Of Me, section2 (B)\n",
            "200 All Of Me, section3 (A)\n",
            "201 All Of Me, section4 (C)\n",
            "\n",
            "--------------------------------------------------\n",
            "474 Blood Count, section1 (A)\n",
            "475 Blood Count, section2 (A)\n",
            "476 Blood Count, section3 (B)\n",
            "477 Blood Count, section4 (A)\n",
            "478 Blood Count, section5 (C)\n",
            "\n",
            "--------------------------------------------------\n",
            "496 Blue Moon, section1 (A)\n",
            "497 Blue Moon, section2 (A)\n",
            "498 Blue Moon, section3 (B)\n",
            "499 Blue Moon, section4 (A)\n",
            "\n",
            "--------------------------------------------------\n",
            "626 But Beautiful, section1 (A)\n",
            "627 But Beautiful, section2 (B)\n",
            "628 But Beautiful, section3 (A)\n",
            "629 But Beautiful, section4 (C)\n",
            "\n",
            "--------------------------------------------------\n",
            "653 Bye Bye Blackbird, section1 (A)\n",
            "654 Bye Bye Blackbird, section2 (B)\n",
            "4559 Bye Bye Blackbird, section1 (A)\n",
            "\n",
            "--------------------------------------------------\n",
            "676 Call Me Irresponsible, section1 (A)\n",
            "677 Call Me Irresponsible, section2 (B)\n",
            "678 Call Me Irresponsible, section3 (A)\n",
            "679 Call Me Irresponsible, section4 (B)\n",
            "\n",
            "--------------------------------------------------\n",
            "826 Corcovado, section1 (A)\n",
            "827 Corcovado, section2 (B)\n",
            "828 Corcovado, section3 (A)\n",
            "829 Corcovado, section4 (C)\n",
            "\n",
            "--------------------------------------------------\n",
            "997 Dinah, section1 (A)\n",
            "998 Dinah, section2 (A)\n",
            "999 Dinah, section3 (B)\n",
            "1000 Dinah, section4 (A)\n",
            "\n",
            "--------------------------------------------------\n",
            "1125 East Of The Sun, section1 (A)\n",
            "1126 East Of The Sun, section2 (B)\n",
            "1127 East Of The Sun, section3 (A)\n",
            "1128 East Of The Sun, section4 (C)\n",
            "\n",
            "--------------------------------------------------\n",
            "1287 Footprints, section0 (nan)\n",
            "\n",
            "--------------------------------------------------\n",
            "1379 Giant Steps, section0 (nan)\n",
            "\n",
            "--------------------------------------------------\n",
            "1538 Honeysuckle Rose, section1 (A)\n",
            "1539 Honeysuckle Rose, section2 (A)\n",
            "1540 Honeysuckle Rose, section3 (B)\n",
            "1541 Honeysuckle Rose, section4 (A)\n",
            "4781 Honeysuckle Rose, section1 (A)\n",
            "4782 Honeysuckle Rose, section2 (A)\n",
            "4783 Honeysuckle Rose, section3 (B)\n",
            "4784 Honeysuckle Rose, section4 (A)\n",
            "\n",
            "--------------------------------------------------\n",
            "1647 I Got Rhythm, section1 (A)\n",
            "1648 I Got Rhythm, section2 (A)\n",
            "1649 I Got Rhythm, section3 (B)\n",
            "1650 I Got Rhythm, section4 (A)\n",
            "4809 I Got Rhythm, section1 (A)\n",
            "4810 I Got Rhythm, section2 (A)\n",
            "4811 I Got Rhythm, section3 (B)\n",
            "4812 I Got Rhythm, section4 (A)\n",
            "\n",
            "--------------------------------------------------\n",
            "2670 Misty, section1 (A)\n",
            "2671 Misty, section2 (A)\n",
            "2672 Misty, section3 (B)\n",
            "2673 Misty, section4 (A)\n",
            "\n",
            "--------------------------------------------------\n",
            "2857 Naima, section1 (A)\n",
            "2858 Naima, section2 (A)\n",
            "2859 Naima, section3 (B)\n",
            "2860 Naima, section4 (A)\n",
            "\n",
            "--------------------------------------------------\n",
            "5044 Old Fashioned Love, section0 (nan)\n",
            "\n",
            "--------------------------------------------------\n",
            "3142 Perdido, section1 (A)\n",
            "3143 Perdido, section2 (A)\n",
            "3144 Perdido, section3 (B)\n",
            "3145 Perdido, section4 (A)\n",
            "\n",
            "--------------------------------------------------\n",
            "3276 Rockin' Chair, section1 (A)\n",
            "3277 Rockin' Chair, section2 (B)\n",
            "3278 Rockin' Chair, section3 (A)\n",
            "5110 Rockin' Chair, section1 (A)\n",
            "5111 Rockin' Chair, section2 (B)\n",
            "5112 Rockin' Chair, section3 (A)\n",
            "\n",
            "--------------------------------------------------\n",
            "3578 Sophisticated Lady, section1 (A)\n",
            "3579 Sophisticated Lady, section2 (A)\n",
            "3580 Sophisticated Lady, section3 (B)\n",
            "3581 Sophisticated Lady, section4 (A)\n",
            "\n",
            "--------------------------------------------------\n",
            "3746 Sweet Sue, Just You, section1 (A)\n",
            "3747 Sweet Sue, Just You, section2 (A)\n",
            "3748 Sweet Sue, Just You, section3 (B)\n",
            "3749 Sweet Sue, Just You, section4 (A)\n",
            "\n",
            "--------------------------------------------------\n",
            "3860 These Foolish Things, section1 (A)\n",
            "3861 These Foolish Things, section2 (A)\n",
            "3862 These Foolish Things, section3 (B)\n",
            "3863 These Foolish Things, section4 (A)\n",
            "\n",
            "--------------------------------------------------\n",
            "4146 We'll Be Together Again, section1 (A)\n",
            "4147 We'll Be Together Again, section2 (A)\n",
            "4148 We'll Be Together Again, section3 (B)\n",
            "4149 We'll Be Together Again, section4 (A)\n"
          ]
        }
      ]
    },
    {
      "cell_type": "code",
      "metadata": {
        "colab": {
          "base_uri": "https://localhost:8080/",
          "height": 542
        },
        "id": "n4dv7VVe5NT4",
        "outputId": "76f24e17-705a-41f1-f6ca-5df847a44889"
      },
      "source": [
        "import plotly.express as px\n",
        "fig = px.histogram(df_section_sim, x=\"score\", nbins=50, title='doc2vec sections')\n",
        "fig.show()"
      ],
      "execution_count": 87,
      "outputs": [
        {
          "output_type": "display_data",
          "data": {
            "text/html": [
              "<html>\n",
              "<head><meta charset=\"utf-8\" /></head>\n",
              "<body>\n",
              "    <div>\n",
              "            <script src=\"https://cdnjs.cloudflare.com/ajax/libs/mathjax/2.7.5/MathJax.js?config=TeX-AMS-MML_SVG\"></script><script type=\"text/javascript\">if (window.MathJax) {MathJax.Hub.Config({SVG: {font: \"STIX-Web\"}});}</script>\n",
              "                <script type=\"text/javascript\">window.PlotlyConfig = {MathJaxConfig: 'local'};</script>\n",
              "        <script src=\"https://cdn.plot.ly/plotly-latest.min.js\"></script>    \n",
              "            <div id=\"e9c2aa6f-5673-4ce5-af06-137a8cc2b0af\" class=\"plotly-graph-div\" style=\"height:525px; width:100%;\"></div>\n",
              "            <script type=\"text/javascript\">\n",
              "                \n",
              "                    window.PLOTLYENV=window.PLOTLYENV || {};\n",
              "                    \n",
              "                if (document.getElementById(\"e9c2aa6f-5673-4ce5-af06-137a8cc2b0af\")) {\n",
              "                    Plotly.newPlot(\n",
              "                        'e9c2aa6f-5673-4ce5-af06-137a8cc2b0af',\n",
              "                        [{\"alignmentgroup\": \"True\", \"bingroup\": \"x\", \"hoverlabel\": {\"namelength\": 0}, \"hovertemplate\": \"score=%{x}<br>count=%{y}\", \"legendgroup\": \"\", \"marker\": {\"color\": \"#636efa\"}, \"name\": \"\", \"nbinsx\": 50, \"offsetgroup\": \"\", \"orientation\": \"v\", \"showlegend\": false, \"type\": \"histogram\", \"x\": [0.9048097133636475, 0.8885942101478577, 0.8884735107421875, 0.8855239152908325, 0.8851794600486755, 0.8849442601203918, 0.8840939402580261, 0.8801465034484863, 0.8792914748191833, 0.875655472278595, 0.8738296031951904, 0.8709734082221985, 0.8709712624549866, 0.8682402968406677, 0.8677240014076233, 0.8665646314620972, 0.866310715675354, 0.8658633828163147, 0.8646224141120911, 0.8641422986984253, 0.8634843230247498, 0.8627965450286865, 0.8618144392967224, 0.8613231182098389, 0.860525906085968, 0.8604692816734314, 0.8599080443382263, 0.8594074845314026, 0.8592571020126343, 0.8570141196250916, 0.8560599088668823, 0.7769151329994202, 0.7667643427848816, 0.7292329668998718, 0.7168800234794617, 0.7159773111343384, 0.713444709777832, 0.6968815922737122, 0.695834219455719, 0.6935804486274719, 0.6804073452949524, 0.6723766922950745, 0.6681342124938965, 0.6658138036727905, 0.6620357632637024, 0.6547344923019409, 0.649594247341156, 0.6439767479896545, 0.6406434178352356, 0.6404265761375427, 0.6399891972541809, 0.6381878852844238, 0.638070285320282, 0.6374197006225586, 0.6367000341415405, 0.6271488070487976, 0.6243138313293457, 0.6215174198150635, 0.620211124420166, 0.6128785014152527, 0.6028022170066833, 0.596514105796814, 0.5961495637893677, 0.5912982225418091, 0.5893595814704895, 0.586880087852478, 0.5802313685417175, 0.578690767288208, 0.5771855115890503, 0.5767340660095215, 0.899807870388031, 0.8992044925689697, 0.8920333981513977, 0.891551673412323, 0.889828085899353, 0.8870636224746704, 0.8867650628089905, 0.8861285448074341, 0.8855620622634888, 0.8845292925834656, 0.884185254573822, 0.8822238445281982, 0.8821246027946472, 0.8810699582099915, 0.8801220059394836, 0.8784584999084473, 0.8763496279716492, 0.8752609491348267, 0.8746309876441956, 0.874547004699707, 0.8743907809257507, 0.8736529350280762, 0.8733357191085815, 0.8712974786758423, 0.8711730241775513, 0.8705334663391113, 0.8694585561752319, 0.8689662218093872, 0.8687679767608643, 0.8682481050491333, 0.866664469242096, 0.5537729859352112, 0.5491191148757935, 0.5227892994880676, 0.5093728303909302, 0.5032904744148254, 0.4953314960002899, 0.4792928993701935, 0.4786197543144226, 0.47323644161224365, 0.47148820757865906, 0.4583781063556671, 0.4575687646865845, 0.4502444267272949, 0.4491555392742157, 0.44777700304985046, 0.44697305560112, 0.44626614451408386, 0.4405013918876648, 0.4393491744995117, 0.43520382046699524, 0.434495747089386, 0.432151734828949, 0.43178117275238037, 0.43171626329421997, 0.4306361675262451, 0.4298260807991028, 0.4293505549430847, 0.427722305059433, 0.4267479479312897, 0.42249777913093567, 0.42154720425605774, 0.42117980122566223, 0.4195822775363922, 0.8700839877128601, 0.8565208911895752, 0.8556213974952698, 0.8495186567306519, 0.8456790447235107, 0.843262791633606, 0.8430048823356628, 0.8355100154876709, 0.834491491317749, 0.833851158618927, 0.8254246711730957, 0.8252171277999878, 0.8251228332519531, 0.8176282048225403, 0.8116366267204285, 0.8101776838302612, 0.8098926544189453, 0.8086390495300293, 0.8063123226165771, 0.80007404088974, 0.7997750639915466, 0.7994213700294495, 0.7146371006965637, 0.6700568795204163, 0.6675811409950256, 0.6542596817016602, 0.6232327222824097, 0.6032524704933167, 0.6019180417060852, 0.5972806811332703, 0.5914528965950012, 0.5835021138191223, 0.5718833804130554, 0.5663841366767883, 0.5516852736473083, 0.5448602437973022, 0.5295670628547668, 0.5229358673095703, 0.5202924013137817, 0.5173748135566711, 0.5114087462425232, 0.5104849338531494, 0.508080780506134, 0.504060685634613, 0.5031707882881165, 0.49669918417930603, 0.4901290535926819, 0.4883819818496704, 0.4702966809272766, 0.4591692090034485, 0.45769697427749634, 0.4567737877368927, 0.45511096715927124, 0.45240315794944763, 0.4453067183494568, 0.44512835144996643, 0.4434289336204529, 0.44214585423469543, 0.8826978206634521, 0.8670527935028076, 0.8541728258132935, 0.8338364362716675, 0.8268787860870361, 0.8120344877243042, 0.8094030618667603, 0.8013457655906677, 0.7999780178070068, 0.7888169884681702, 0.7871765494346619, 0.7809182405471802, 0.7768999934196472, 0.7757560014724731, 0.7755834460258484, 0.7752388715744019, 0.7725831866264343, 0.7689996957778931, 0.766932487487793, 0.7660802006721497, 0.7628766298294067, 0.7626344561576843, 0.7620764970779419, 0.7607168555259705, 0.7583409547805786, 0.7697641253471375, 0.74237060546875, 0.7293950319290161, 0.706390917301178, 0.7027859687805176, 0.6945736408233643, 0.6900990009307861, 0.6848231554031372, 0.6764292120933533, 0.6734434366226196, 0.6733837723731995, 0.6693487167358398, 0.6690592765808105, 0.6667900681495667, 0.6631959676742554, 0.6630935072898865, 0.6610097885131836, 0.6580060720443726, 0.6574031710624695, 0.6517542004585266, 0.6509352326393127, 0.6503483653068542, 0.6479401588439941, 0.6475653648376465, 0.6470848321914673, 0.6463713049888611, 0.6462280750274658, 0.6412196159362793, 0.6390041708946228, 0.635836660861969, 0.635691225528717, 0.6355779767036438, 0.6344537138938904, 0.6335647106170654, 0.79091876745224, 0.7886293530464172, 0.7751210927963257, 0.7719332575798035, 0.7705689072608948, 0.7700719833374023, 0.7581731677055359, 0.7550694942474365, 0.7439342737197876, 0.7419522404670715, 0.7409879565238953, 0.7376056909561157, 0.7313611507415771, 0.7311124205589294, 0.7284727096557617, 0.7259047031402588, 0.7185739278793335, 0.7161158323287964, 0.7132431864738464, 0.7104193568229675, 0.7092627286911011, 0.7082840800285339, 0.7073603272438049, 0.703850269317627, 0.8485177159309387, 0.755992591381073, 0.7234179377555847, 0.6996685862541199, 0.6737425923347473, 0.6736799478530884, 0.6731581091880798, 0.6582435369491577, 0.6569337248802185, 0.6555855870246887, 0.6491646766662598, 0.641480565071106, 0.6271411180496216, 0.6265811920166016, 0.6172702312469482, 0.6136573553085327, 0.6109750270843506, 0.609038233757019, 0.6080020070075989, 0.607275664806366, 0.6070916056632996, 0.6047264933586121, 0.5963936448097229, 0.5920073986053467, 0.5888562798500061, 0.5875582695007324, 0.5865241885185242, 0.585711658000946, 0.5829284191131592, 0.5813091397285461, 0.5804224610328674, 0.5784764289855957, 0.5771303772926331, 0.5766415596008301, 0.5750163197517395, 0.5728930830955505, 0.5720034241676331, 0.5717482566833496, 0.8111720085144043, 0.7916554808616638, 0.7855494618415833, 0.782396674156189, 0.7773988246917725, 0.773094654083252, 0.7709335088729858, 0.7694368362426758, 0.7619956731796265, 0.7573450207710266, 0.7559073567390442, 0.7549445629119873, 0.7515878081321716, 0.7437734603881836, 0.741044819355011, 0.740149736404419, 0.7394821643829346, 0.7324898838996887, 0.7280781269073486, 0.7268387675285339, 0.7267884016036987, 0.7190371155738831, 0.7158060073852539, 0.7139741778373718, 0.7118632197380066, 0.7117573022842407, 0.9170213341712952, 0.9153203368186951, 0.9152631759643555, 0.9142406582832336, 0.910800039768219, 0.909545361995697, 0.9090603590011597, 0.9090276956558228, 0.9067298173904419, 0.9054937362670898, 0.9036533236503601, 0.9031894207000732, 0.9010010361671448, 0.9004414677619934, 0.8996219635009766, 0.8994693160057068, 0.8986845016479492, 0.8983671069145203, 0.8980076909065247, 0.8968851566314697, 0.8964471220970154, 0.8963212370872498, 0.8941285610198975, 0.8938097953796387, 0.893517255783081, 0.893310010433197, 0.8933063745498657, 0.8921035528182983, 0.8917567729949951, 0.890620231628418, 0.8903406858444214, 0.8903172016143799, 0.8900133371353149, 0.8896729350090027, 0.8896105289459229, 0.8891379237174988, 0.8881386518478394, 0.8878335952758789, 0.7302827835083008, 0.7188394665718079, 0.7126179337501526, 0.6884052753448486, 0.6859299540519714, 0.6752264499664307, 0.6635282635688782, 0.6483361721038818, 0.6209148168563843, 0.6060376763343811, 0.6003621220588684, 0.5980568528175354, 0.5968086123466492, 0.5912016034126282, 0.5911458134651184, 0.5904686450958252, 0.5891143083572388, 0.5888506174087524, 0.588503360748291, 0.5855857133865356, 0.5810204148292542, 0.5782259702682495, 0.574176013469696, 0.5720422863960266, 0.570903480052948, 0.569829523563385, 0.569159984588623, 0.5667521357536316, 0.5665892362594604, 0.6985312700271606, 0.6554667949676514, 0.6552477478981018, 0.6544134020805359, 0.6418322920799255, 0.6248252391815186, 0.6246316432952881, 0.621235728263855, 0.6182782649993896, 0.6128151416778564, 0.6117093563079834, 0.6110924482345581, 0.5962550044059753, 0.5944753885269165, 0.5929056406021118, 0.5914174318313599, 0.5862845778465271, 0.5858688354492188, 0.5834475755691528, 0.5786072611808777, 0.5773798227310181, 0.5749970078468323, 0.5748746395111084, 0.5707888603210449, 0.5618442893028259, 0.5604207515716553, 0.5603873133659363, 0.5584968328475952, 0.5576095581054688, 0.5550323128700256, 0.549977719783783, 0.5462629795074463, 0.5458077192306519, 0.5438244938850403, 0.9034255743026733, 0.9029150009155273, 0.8869251012802124, 0.8854454755783081, 0.8846481442451477, 0.8827927112579346, 0.8809450268745422, 0.8739178776741028, 0.8736045956611633, 0.8656752705574036, 0.8634570240974426, 0.8634152412414551, 0.8628658652305603, 0.8618808388710022, 0.8612045645713806, 0.8598324656486511, 0.8593613505363464, 0.8593290448188782, 0.8592347502708435, 0.8582780957221985, 0.85825115442276, 0.8572601079940796, 0.8565111756324768, 0.8551343083381653, 0.8520950078964233, 0.8509821891784668, 0.8482474088668823, 0.8472650647163391, 0.8467774987220764, 0.6716427803039551, 0.6574737429618835, 0.6438276767730713, 0.6424413323402405, 0.6336613297462463, 0.6311631798744202, 0.6282302737236023, 0.6178944706916809, 0.6172305941581726, 0.6016716957092285, 0.5977687239646912, 0.595520555973053, 0.5873274207115173, 0.586264431476593, 0.5842837691307068, 0.5810659527778625, 0.571070671081543, 0.5702598094940186, 0.5645320415496826, 0.5598235130310059, 0.5592559576034546, 0.5579837560653687, 0.5579004287719727, 0.5518133044242859, 0.5408597588539124, 0.5322874188423157, 0.5279722809791565, 0.52684086561203, 0.5254135727882385, 0.5230627059936523, 0.5212095379829407, 0.5182672142982483, 0.7799343466758728, 0.778738796710968, 0.7627893686294556, 0.754664957523346, 0.7385754585266113, 0.7354117035865784, 0.7351378202438354, 0.7345800399780273, 0.7327584624290466, 0.721640944480896, 0.7186855673789978, 0.7186270356178284, 0.7184066772460938, 0.718361496925354, 0.7182918787002563, 0.7169208526611328, 0.7148799896240234, 0.7136967182159424, 0.708530604839325, 0.7081381678581238, 0.7079629302024841, 0.7071812748908997, 0.7052524089813232, 0.704738974571228, 0.7042510509490967, 0.703717827796936, 0.7036172151565552, 0.8913164734840393, 0.890099048614502, 0.8789805769920349, 0.8570823073387146, 0.854398250579834, 0.8481786251068115, 0.8421808481216431, 0.833836555480957, 0.8336694240570068, 0.8252171277999878, 0.8229811191558838, 0.8210408091545105, 0.8183610439300537, 0.8122715353965759, 0.8088394999504089, 0.8040352463722229, 0.7935056686401367, 0.787539541721344, 0.7869430184364319, 0.7807314395904541, 0.7776199579238892, 0.7769629955291748, 0.7706598043441772, 0.7700418829917908, 0.7685033679008484, 0.7663725018501282, 0.7646784782409668, 0.764421284198761, 0.7637021541595459, 0.8726840615272522, 0.862307608127594, 0.8371360301971436, 0.8367322683334351, 0.8310124278068542, 0.8295297026634216, 0.8268406391143799, 0.8260404467582703, 0.8248146176338196, 0.8246867060661316, 0.8243768215179443, 0.8242874145507812, 0.8242296576499939, 0.8240901827812195, 0.8236957788467407, 0.8231318593025208, 0.8202084302902222, 0.8195843696594238, 0.8188877105712891, 0.8177127838134766, 0.8171144127845764, 0.8170862197875977, 0.8170363306999207, 0.8168895244598389, 0.8160879015922546, 0.5265922546386719, 0.5078068375587463, 0.5047982335090637, 0.4583877623081207, 0.4510076940059662, 0.4462348520755768, 0.38706687092781067, 0.3774319589138031, 0.37495478987693787, 0.3736277222633362, 0.36969253420829773, 0.3602103292942047, 0.35601410269737244, 0.3551007807254791, 0.35396578907966614, 0.35168972611427307, 0.34349942207336426, 0.34302228689193726, 0.33827874064445496, 0.3246869742870331, 0.32407474517822266, 0.3193483054637909, 0.3146238923072815, 0.31441405415534973, 0.3088219165802002, 0.30771178007125854, 0.3061828315258026, 0.30555135011672974, 0.3028431236743927, 0.3026081323623657, 0.3021920323371887, 0.29978933930397034, 0.2984847128391266, 0.29752784967422485, 0.2960492670536041, 0.29522523283958435, 0.2925351858139038, 0.2894608974456787, 0.9186485409736633, 0.9182038307189941, 0.9003236889839172, 0.8756353259086609, 0.8740306496620178, 0.8723692297935486, 0.8721888065338135, 0.8708586096763611, 0.8700838685035706, 0.8670896887779236, 0.8625425100326538, 0.86094731092453, 0.8544231057167053, 0.8541728854179382, 0.8528673052787781, 0.8492864370346069, 0.8402877449989319, 0.8377254605293274, 0.8355796933174133, 0.8299233317375183, 0.8289705514907837, 0.8279526829719543, 0.8266891837120056, 0.8211191892623901, 0.8184409737586975, 0.8157849907875061, 0.8170599341392517, 0.8122664093971252, 0.7930609583854675, 0.7928870916366577, 0.7914378046989441, 0.7842814922332764, 0.7828490138053894, 0.7828465104103088, 0.7803413271903992, 0.7781540751457214, 0.7776460647583008, 0.7748517990112305, 0.7727179527282715, 0.7725356221199036, 0.770460307598114, 0.7660306692123413, 0.7638462781906128, 0.7627196907997131, 0.7626087069511414, 0.762509822845459, 0.7600106596946716, 0.7597403526306152, 0.7587572932243347, 0.755664587020874, 0.8610663414001465, 0.8353986740112305, 0.8192123770713806, 0.7985307574272156, 0.7935207486152649, 0.7891982793807983, 0.7569060325622559, 0.7312895059585571, 0.7257996797561646, 0.7244223952293396, 0.7149856090545654, 0.714853823184967, 0.7133870124816895, 0.7118276357650757, 0.7114193439483643, 0.7107163071632385, 0.7085446119308472, 0.7047310471534729, 0.7013722658157349, 0.6942844986915588, 0.6941666603088379, 0.6933615207672119, 0.6917409896850586, 0.6917312145233154, 0.690396785736084, 0.6900420188903809, 0.6892373561859131, 0.8503983616828918, 0.8319271802902222, 0.7971869111061096, 0.7950385212898254, 0.7931758761405945, 0.7921426892280579, 0.789862334728241, 0.7811148762702942, 0.7800294160842896, 0.7798603773117065, 0.7755318284034729, 0.7718323469161987, 0.766883909702301, 0.7667135000228882, 0.7650778293609619, 0.7647436857223511, 0.7627623081207275, 0.7623818516731262, 0.7606613636016846, 0.7596297264099121, 0.7572880983352661, 0.7520898580551147, 0.751466691493988, 0.748489260673523, 0.7460489869117737, 0.5484345555305481, 0.5270674228668213, 0.5128994584083557, 0.47383150458335876, 0.46424517035484314, 0.45989713072776794, 0.453802227973938, 0.43827521800994873, 0.4381362199783325, 0.43680915236473083, 0.42863428592681885, 0.4247291386127472, 0.41974151134490967, 0.4067137837409973, 0.4042316973209381, 0.4037071466445923, 0.39991018176078796, 0.3998163640499115, 0.3982229232788086, 0.3929407000541687, 0.3922167718410492, 0.3909889757633209, 0.38737964630126953, 0.37814509868621826, 0.36900341510772705, 0.36450761556625366, 0.36125773191452026, 0.360363245010376, 0.35692426562309265, 0.35624638199806213, 0.3555641174316406, 0.35361936688423157, 0.3488067090511322, 0.3444713056087494, 0.3356236219406128, 0.33483585715293884, 0.33405277132987976, 0.3329787850379944, 0.33039790391921997, 0.8767616152763367, 0.8717638254165649, 0.8670302033424377, 0.8560917377471924, 0.8470858335494995, 0.8458370566368103, 0.8429826498031616, 0.8228070139884949, 0.8024583458900452, 0.792227029800415, 0.790439784526825, 0.779694676399231, 0.7795144319534302, 0.7780249714851379, 0.7766000032424927, 0.7741765975952148, 0.7670812010765076, 0.7647185921669006, 0.7585925459861755, 0.7580475807189941, 0.7575942277908325, 0.7548803091049194, 0.7535333037376404, 0.743822455406189, 0.7437172532081604, 0.7433826327323914, 0.7425310611724854, 0.849712610244751, 0.8345096707344055, 0.8242470622062683, 0.8030845522880554, 0.785841703414917, 0.778502881526947, 0.7747159004211426, 0.7719333171844482, 0.7694368362426758, 0.765937864780426, 0.7631521821022034, 0.7599826455116272, 0.756889820098877, 0.7497093677520752, 0.7462134957313538, 0.7438783645629883, 0.741912305355072, 0.7320671677589417, 0.7316093444824219, 0.7275147438049316, 0.7249141335487366, 0.7248567342758179, 0.722939670085907, 0.720827043056488, 0.7186169028282166, 0.7181788086891174, 0.7174246907234192, 0.8817018866539001, 0.8689098358154297, 0.8674640655517578, 0.8671606183052063, 0.867055356502533, 0.860913872718811, 0.8605870008468628, 0.8581546545028687, 0.857905924320221, 0.8578682541847229, 0.8568644523620605, 0.8567376136779785, 0.8563848733901978, 0.8553338050842285, 0.8537721633911133, 0.8503032922744751, 0.8499155640602112, 0.8492329120635986, 0.8491628170013428, 0.8491243720054626, 0.8478357791900635, 0.8476653099060059, 0.841573178768158, 0.841342031955719, 0.8400058746337891, 0.8399989604949951, 0.8382216691970825, 0.836926281452179, 0.8365210890769958, 0.8362817168235779, 0.8360670804977417, 0.8357862234115601, 0.8348143100738525, 0.8065887093544006, 0.795026421546936, 0.7780857682228088, 0.7521684169769287, 0.7449941039085388, 0.7383033633232117, 0.7346521615982056, 0.7343358993530273, 0.7320032715797424, 0.7289215326309204, 0.7128877639770508, 0.7126244306564331, 0.7112538814544678, 0.7104900479316711, 0.7078390717506409, 0.7077667713165283, 0.7062058448791504, 0.7056154012680054, 0.7048385739326477, 0.704073429107666, 0.7038750648498535, 0.7010644674301147, 0.6999949812889099, 0.699873149394989, 0.699820876121521, 0.6988560557365417, 0.6963919401168823, 0.8148231506347656, 0.7982887029647827, 0.7652270197868347, 0.7629899978637695, 0.747765839099884, 0.7426482439041138, 0.7408437132835388, 0.7403426170349121, 0.7370951771736145, 0.7355278730392456, 0.727881669998169, 0.7264416813850403, 0.7246996760368347, 0.7239394783973694, 0.72312331199646, 0.7228643298149109, 0.7200361490249634, 0.7172555923461914, 0.7116957306861877, 0.7108396291732788, 0.7062211036682129, 0.7060628533363342, 0.7055225372314453, 0.7054989337921143, 0.7050904631614685, 0.7036440372467041, 0.7033839225769043, 0.702667236328125, 0.702187716960907, 0.6981421113014221, 0.7858117818832397, 0.7634432315826416, 0.7551096081733704, 0.7514779567718506, 0.7396705150604248, 0.7269776463508606, 0.7233229875564575, 0.7209113240242004, 0.7198396325111389, 0.7125478982925415, 0.7100810408592224, 0.6990771293640137, 0.6942608952522278, 0.6928478479385376, 0.6920076608657837, 0.690574586391449, 0.689269483089447, 0.686056911945343, 0.6852765679359436, 0.6839560866355896, 0.682934045791626, 0.682502806186676, 0.6808255314826965, 0.6792845129966736, 0.6775179505348206, 0.6757383346557617, 0.6750416159629822, 0.7523598074913025, 0.7475639581680298, 0.7447014451026917, 0.7359102368354797, 0.7256838083267212, 0.7228496670722961, 0.7228120565414429, 0.7196096181869507, 0.7176308631896973, 0.715363085269928, 0.7082618474960327, 0.7076555490493774, 0.707531213760376, 0.7074418067932129, 0.7040297985076904, 0.7002317905426025, 0.6987317800521851, 0.6940615773200989, 0.6929147839546204, 0.6921989321708679, 0.6906101107597351, 0.6855268478393555, 0.6814722418785095, 0.6790083050727844, 0.6788799166679382, 0.6784099340438843, 0.6762489676475525, 0.6761666536331177, 0.8887129426002502, 0.8773483633995056, 0.8210858106613159, 0.8168579936027527, 0.8059548139572144, 0.7987340092658997, 0.7972961068153381, 0.7807764410972595, 0.7805859446525574, 0.7798507213592529, 0.7665700912475586, 0.7644870281219482, 0.7547034621238708, 0.7533423900604248, 0.7531905770301819, 0.7519797086715698, 0.7507681250572205, 0.7498555779457092, 0.7473860383033752, 0.7465546727180481, 0.7449359893798828, 0.7448423504829407, 0.7445902228355408, 0.7430266737937927, 0.7428188323974609, 0.7400104403495789, 0.738351047039032, 0.6730414628982544, 0.6359642148017883, 0.6254280209541321, 0.6243701577186584, 0.6209325194358826, 0.5962566137313843, 0.5921728610992432, 0.5868885517120361, 0.5862155556678772, 0.5835040211677551, 0.5575509071350098, 0.5566318035125732, 0.5540933012962341, 0.5466642379760742, 0.5438020825386047, 0.5382078289985657, 0.5339741706848145, 0.5279307961463928, 0.5173088312149048, 0.5132289528846741, 0.5132162570953369, 0.5067760944366455, 0.5054981708526611, 0.505161464214325, 0.5045387744903564, 0.49998894333839417, 0.49686896800994873, 0.49487751722335815, 0.49268752336502075, 0.4920835793018341, 0.4917859733104706, 0.49086254835128784, 0.4886831045150757, 0.488131046295166, 0.48423320055007935, 0.4832649827003479, 0.48317044973373413, 0.4817993640899658, 0.4817539155483246, 0.8806400895118713, 0.8687081933021545, 0.8172573447227478, 0.8167440295219421, 0.8151803612709045, 0.8122508525848389, 0.8044967651367188, 0.8000503778457642, 0.7777416110038757, 0.7767377495765686, 0.7673031091690063, 0.7661892771720886, 0.7646512985229492, 0.7625933885574341, 0.7622170448303223, 0.7603752017021179, 0.7601443529129028, 0.7576034665107727, 0.757208526134491, 0.7571288347244263, 0.7570337057113647, 0.7566124796867371, 0.7552400827407837, 0.7520815134048462, 0.7492954134941101, 0.8122947216033936, 0.7888614535331726, 0.7886218428611755, 0.7861357927322388, 0.7736337780952454, 0.7698478698730469, 0.7632389664649963, 0.7436658143997192, 0.7426820993423462, 0.7409408092498779, 0.7395018935203552, 0.7341876029968262, 0.7288878560066223, 0.7285376191139221, 0.7264158725738525, 0.7229945659637451, 0.7202005386352539, 0.7196364998817444, 0.7187018394470215, 0.7179414629936218, 0.7174270749092102, 0.7120844125747681, 0.7113046050071716, 0.7072626352310181, 0.7060984969139099, 0.7058841586112976, 0.7054498195648193, 0.7053864002227783, 0.7032345533370972, 0.7027294039726257, 0.702430248260498, 0.7011263370513916, 0.7007551193237305, 0.6995855569839478, 0.6979764103889465, 0.6973733901977539, 0.717658281326294, 0.7112521529197693, 0.7024231553077698, 0.7012927532196045, 0.6911929249763489, 0.6908750534057617, 0.6896178126335144, 0.6876624226570129, 0.6643089652061462, 0.6612253785133362, 0.6603794097900391, 0.6552569270133972, 0.6495251059532166, 0.64794921875, 0.6466995477676392, 0.6456049084663391, 0.6361771821975708, 0.635903537273407, 0.6356895565986633, 0.6345694065093994, 0.6332874894142151, 0.6330422163009644, 0.6287601590156555, 0.6285749673843384, 0.6273071765899658, 0.6268815994262695, 0.6268359422683716, 0.8480284810066223, 0.8369112610816956, 0.795516312122345, 0.7661093473434448, 0.7604406476020813, 0.7506858706474304, 0.744752824306488, 0.7424023747444153, 0.7390109300613403, 0.7368170619010925, 0.7367348074913025, 0.7352122068405151, 0.7344662547111511, 0.7332906723022461, 0.7303802967071533, 0.7258548140525818, 0.7241029143333435, 0.7229723334312439, 0.7210609912872314, 0.7198125720024109, 0.7196274995803833, 0.7178865075111389, 0.7154591083526611, 0.7153453230857849, 0.7136093378067017, 0.6659980416297913, 0.6391535401344299, 0.5769869685173035, 0.569056510925293, 0.5639219284057617, 0.5615573525428772, 0.5602076053619385, 0.559486448764801, 0.556990385055542, 0.5474430918693542, 0.5416350364685059, 0.5333407521247864, 0.5155470371246338, 0.5131716728210449, 0.5123989582061768, 0.5095444321632385, 0.502153754234314, 0.5005826354026794, 0.4988219738006592, 0.49633297324180603, 0.4920036196708679, 0.4884205758571625, 0.4784986972808838, 0.4781893789768219, 0.47207480669021606, 0.46783646941185, 0.46641626954078674, 0.4643542766571045, 0.46184685826301575, 0.45877963304519653, 0.45860928297042847, 0.45845094323158264, 0.4567621946334839, 0.4522143006324768, 0.772078812122345, 0.7626706957817078, 0.7580643892288208, 0.7538161873817444, 0.7508692741394043, 0.7497766613960266, 0.7461919784545898, 0.7436518669128418, 0.7427272796630859, 0.7375349402427673, 0.7218585014343262, 0.7205617427825928, 0.7194210886955261, 0.7184908986091614, 0.7167835831642151, 0.714959442615509, 0.7135107517242432, 0.7127121090888977, 0.7125841379165649, 0.7121418714523315, 0.7019880414009094, 0.6982031464576721, 0.6958805918693542, 0.6955114006996155, 0.6935134530067444, 0.6896690130233765, 0.6876257061958313, 0.8640913963317871, 0.8606477975845337, 0.8435669541358948, 0.8420339226722717, 0.82874596118927, 0.8136951923370361, 0.7994250655174255, 0.7916555404663086, 0.7890856266021729, 0.7886293530464172, 0.7841498255729675, 0.7791138291358948, 0.7621445655822754, 0.7617427706718445, 0.7610536217689514, 0.7562285661697388, 0.75497967004776, 0.7533273100852966, 0.7527536749839783, 0.7525555491447449, 0.7477747201919556, 0.7467674016952515, 0.744059681892395, 0.6974464654922485, 0.6808370351791382, 0.6789380311965942, 0.676742434501648, 0.6723572015762329, 0.6698007583618164, 0.6596532464027405, 0.6575421094894409, 0.6548756957054138, 0.6518290042877197, 0.6500928401947021, 0.647684633731842, 0.6435623168945312, 0.643250048160553, 0.639747679233551, 0.6335646510124207, 0.6303377747535706, 0.6298670172691345, 0.6297873854637146, 0.6279094815254211, 0.6268428564071655, 0.6266694664955139, 0.6265812516212463, 0.626282811164856, 0.6253407597541809, 0.6220738291740417, 0.6219517588615417, 0.6167982816696167, 0.6144909858703613, 0.6124763488769531, 0.6111881732940674, 0.608818531036377, 0.6078392267227173, 0.6067025065422058, 0.8187428116798401, 0.7992702126502991, 0.7814599871635437, 0.7773420810699463, 0.7769224643707275, 0.7741289138793945, 0.7734165787696838, 0.7711156606674194, 0.7683869004249573, 0.7622800469398499, 0.7582083940505981, 0.7543681859970093, 0.751520574092865, 0.7491142153739929, 0.7478988766670227, 0.747763991355896, 0.7477394938468933, 0.7450471520423889, 0.7431765198707581, 0.7428372502326965, 0.7425381541252136, 0.7392799854278564, 0.7372050285339355, 0.7371615767478943, 0.7353571653366089, 0.7128094434738159, 0.6827868223190308, 0.6814059019088745, 0.6803649067878723, 0.6709182858467102, 0.6686916351318359, 0.6651605367660522, 0.6604359149932861, 0.6592261791229248, 0.6586781740188599, 0.6583407521247864, 0.6509277820587158, 0.6477344632148743, 0.6462505459785461, 0.6444552540779114, 0.6439490914344788, 0.643639087677002, 0.6396741271018982, 0.6392059326171875, 0.6347262263298035, 0.6335630416870117, 0.632522702217102, 0.6318148374557495, 0.6316159963607788, 0.6315096616744995, 0.6303876042366028, 0.6300503611564636, 0.6285309791564941, 0.6239888668060303, 0.9547534584999084, 0.9547168016433716, 0.9471441507339478, 0.9421502351760864, 0.9403240084648132, 0.9381221532821655, 0.9368330836296082, 0.9364787936210632, 0.9334157705307007, 0.932492196559906, 0.9320703148841858, 0.930472731590271, 0.9266931414604187, 0.9202932715415955, 0.9182055592536926, 0.913512647151947, 0.9113267064094543, 0.9097386598587036, 0.9073898792266846, 0.9072386622428894, 0.9051722288131714, 0.9038680195808411, 0.9033256769180298, 0.9023846983909607, 0.9007607698440552, 0.9000768065452576, 0.8984712362289429, 0.8983202576637268, 0.9060309529304504, 0.9000173807144165, 0.8916882276535034, 0.8858888745307922, 0.8822261691093445, 0.8812336921691895, 0.8772462606430054, 0.8766417503356934, 0.8734526038169861, 0.8726219534873962, 0.8724491000175476, 0.8715974688529968, 0.8689656853675842, 0.8686025142669678, 0.8679890036582947, 0.8669535517692566, 0.8661261200904846, 0.8660929203033447, 0.8658910989761353, 0.8637741804122925, 0.8636370301246643, 0.863468587398529, 0.8608152270317078, 0.8606722354888916, 0.8598803877830505, 0.859572172164917, 0.8590625524520874, 0.8586711287498474, 0.8580299019813538, 0.8580265045166016, 0.8578949570655823, 0.8576233983039856, 0.857518196105957, 0.8564740419387817, 0.8561345934867859, 0.8801319003105164, 0.8758245706558228, 0.8729577660560608, 0.8704624176025391, 0.8704621195793152, 0.8699923157691956, 0.8667795062065125, 0.8665809035301208, 0.8653644919395447, 0.864292562007904, 0.8627924919128418, 0.8622539639472961, 0.8618446588516235, 0.8606774806976318, 0.8598917722702026, 0.8589200973510742, 0.8585663437843323, 0.8579952120780945, 0.8577823042869568, 0.8558082580566406, 0.8552876114845276, 0.8538938164710999, 0.853858470916748, 0.8534018993377686, 0.8936581611633301, 0.8925088047981262, 0.8718981742858887, 0.8624305725097656, 0.8492012619972229, 0.8401240110397339, 0.836039125919342, 0.8262317180633545, 0.8261797428131104, 0.8210411071777344, 0.8204755187034607, 0.8177695870399475, 0.8155470490455627, 0.8151885271072388, 0.8140119910240173, 0.8137108683586121, 0.8136235475540161, 0.8135958909988403, 0.8132724761962891, 0.8096912503242493, 0.8078771233558655, 0.806671679019928, 0.8054424524307251, 0.8052805066108704, 0.9082289338111877, 0.902001142501831, 0.8715400695800781, 0.8575728535652161, 0.8527959585189819, 0.8282373547554016, 0.8258703351020813, 0.797608494758606, 0.7966949939727783, 0.7953457832336426, 0.7821252346038818, 0.7819586992263794, 0.7729756236076355, 0.7728784084320068, 0.7686080932617188, 0.763656735420227, 0.7604097127914429, 0.7586575746536255, 0.7581682801246643, 0.7569155693054199, 0.7549512386322021, 0.7521491050720215, 0.7502536177635193, 0.7491597533226013, 0.7452036142349243, 0.7442770600318909, 0.7416720390319824, 0.7408307790756226, 0.7407040596008301, 0.7405195236206055, 0.7401604056358337, 0.7388806939125061, 0.852552056312561, 0.8300276398658752, 0.8294744491577148, 0.8265686631202698, 0.8239859342575073, 0.8172009587287903, 0.8142684102058411, 0.814093828201294, 0.8129879236221313, 0.8126515746116638, 0.8124678134918213, 0.8117413520812988, 0.8113051652908325, 0.8111035227775574, 0.8110471963882446, 0.8057726621627808, 0.8051048517227173, 0.8039698004722595, 0.8013194799423218, 0.8003095388412476, 0.8002716898918152, 0.7996722459793091, 0.8375734686851501, 0.8284546136856079, 0.8189989924430847, 0.8179381489753723, 0.8166735768318176, 0.8153486251831055, 0.8150602579116821, 0.8129584193229675, 0.8124563097953796, 0.8121451735496521, 0.8115182518959045, 0.8113723397254944, 0.809415340423584, 0.8081402778625488, 0.8070980906486511, 0.8049342036247253, 0.8044692873954773, 0.8041788935661316, 0.803932249546051, 0.8021231889724731, 0.8015213012695312, 0.8013836741447449, 0.7993656992912292, 0.7992252111434937, 0.798654317855835, 0.7977486252784729, 0.9310550689697266, 0.9220991730690002, 0.8962932229042053, 0.880923330783844, 0.8785956501960754, 0.8721339702606201, 0.8528869152069092, 0.850797712802887, 0.8479756712913513, 0.8470858335494995, 0.8463696837425232, 0.8455464839935303, 0.8451344966888428, 0.8442279696464539, 0.8412115573883057, 0.8409949541091919, 0.839480459690094, 0.8367442488670349, 0.8312423229217529, 0.8287274241447449, 0.8283219337463379, 0.8274505138397217, 0.9352681040763855, 0.832252025604248, 0.8287524580955505, 0.796265721321106, 0.7698286771774292, 0.7391992807388306, 0.7344856858253479, 0.7260891795158386, 0.7254225015640259, 0.7250213623046875, 0.7236819267272949, 0.7211642861366272, 0.7182562947273254, 0.7115954160690308, 0.7077219486236572, 0.706703245639801, 0.7057107090950012, 0.7056083679199219, 0.7042008638381958, 0.695834219455719, 0.6945160627365112, 0.6935492753982544, 0.6881781816482544, 0.6868540644645691, 0.683692216873169, 0.6824349761009216, 0.6796231269836426, 0.675490140914917, 0.6707667708396912, 0.6701747179031372, 0.6608800888061523, 0.6604291200637817, 0.6579798460006714, 0.8961895704269409, 0.8723267316818237, 0.8610427379608154, 0.8609828352928162, 0.8572501540184021, 0.8567388653755188, 0.8532000184059143, 0.8520124554634094, 0.8519833087921143, 0.8488367795944214, 0.8465952277183533, 0.8414004445075989, 0.8396934866905212, 0.8396739363670349, 0.8392840623855591, 0.8376672863960266, 0.8373339772224426, 0.8372759819030762, 0.8351650238037109, 0.834928035736084, 0.8301693201065063, 0.8294281959533691, 0.8283746838569641, 0.8579612374305725, 0.840056836605072, 0.837948203086853, 0.8321914672851562, 0.8311372399330139, 0.8239649534225464, 0.8156626224517822, 0.8110452890396118, 0.8006064295768738, 0.7964962720870972, 0.7963095903396606, 0.7942867875099182, 0.7940363883972168, 0.7936152815818787, 0.7935347557067871, 0.7908061146736145, 0.7905816435813904, 0.7897370457649231, 0.7793844938278198, 0.7782927751541138, 0.7771188616752625, 0.80549556016922, 0.8003557324409485, 0.7660265564918518, 0.7628880739212036, 0.761267364025116, 0.72800612449646, 0.7269385457038879, 0.7218418121337891, 0.7156786322593689, 0.7156215906143188, 0.710109531879425, 0.7077256441116333, 0.695814311504364, 0.6862253546714783, 0.6857905387878418, 0.6781445741653442, 0.6768872141838074, 0.6760373115539551, 0.6748064756393433, 0.6746525764465332, 0.6735694408416748, 0.6735482215881348, 0.6682522296905518, 0.970365047454834, 0.948036253452301, 0.9421367645263672, 0.9380845427513123, 0.9253306984901428, 0.9173191785812378, 0.9107994437217712, 0.9061195850372314, 0.8958022594451904, 0.8877100348472595, 0.8843720555305481, 0.8829576969146729, 0.8790477514266968, 0.8788095712661743, 0.8772101998329163, 0.8707851767539978, 0.8626888394355774, 0.8443385362625122, 0.8354648947715759, 0.8346306681632996, 0.8254536390304565, 0.776372492313385, 0.745128333568573, 0.7223719954490662, 0.7066381573677063, 0.6793992519378662, 0.6523314714431763, 0.6518310904502869, 0.641480565071106, 0.6256992816925049, 0.6213808059692383, 0.6202797889709473, 0.6202111840248108, 0.616443932056427, 0.6156013011932373, 0.6118137836456299, 0.6074891686439514, 0.6020180583000183, 0.5979477167129517, 0.8319871425628662, 0.8159163594245911, 0.8064008355140686, 0.8009031414985657, 0.7973102927207947, 0.7902117967605591, 0.7899723052978516, 0.786732017993927, 0.7796939611434937, 0.7735816836357117, 0.7722234129905701, 0.771584153175354, 0.7668600082397461, 0.7642844915390015, 0.7623674273490906, 0.7608407139778137, 0.7596316933631897, 0.7595523595809937, 0.7589596509933472, 0.7583740949630737, 0.7574887871742249, 0.7574294805526733, 0.8218741416931152, 0.8170230984687805, 0.7725250124931335, 0.7632766962051392, 0.756853461265564, 0.7542630434036255, 0.7521686553955078, 0.7508801817893982, 0.7499499320983887, 0.746029257774353, 0.743679404258728, 0.7423885464668274, 0.7410063147544861, 0.7388668656349182, 0.7307608723640442, 0.7299009561538696, 0.7273367047309875, 0.7267588973045349, 0.7239006161689758, 0.7236245274543762, 0.7188481688499451, 0.7160126566886902, 0.7436349987983704, 0.740999698638916, 0.7394979596138, 0.7290540337562561, 0.7092469930648804, 0.7089782357215881, 0.7063507437705994, 0.705993115901947, 0.7021642923355103, 0.6991536021232605, 0.6945610642433167, 0.6881318092346191, 0.687709391117096, 0.6851466298103333, 0.6818090677261353, 0.6790386438369751, 0.6738353371620178, 0.673786997795105, 0.6726941466331482, 0.6676557660102844, 0.6618581414222717, 0.6597207188606262, 0.6586721539497375, 0.9483373165130615, 0.9264180660247803, 0.9250362515449524, 0.9181831479072571, 0.9132403135299683, 0.9110227227210999, 0.8918015360832214, 0.8905199766159058, 0.8858303427696228, 0.8765193223953247, 0.8735120892524719, 0.8715426325798035, 0.8629206418991089, 0.8592328429222107, 0.8550626039505005, 0.8550254702568054, 0.8466100692749023, 0.8315147161483765, 0.8277193903923035, 0.81870037317276, 0.8138790726661682, 0.8052293062210083, 0.793190598487854, 0.738802433013916, 0.7302709221839905, 0.7101429104804993, 0.7051032185554504, 0.7006582617759705, 0.6807075142860413, 0.6749568581581116, 0.6676204800605774, 0.6659759879112244, 0.6642595529556274, 0.6611739993095398, 0.6573585867881775, 0.6474945545196533, 0.6466405987739563, 0.6439380645751953, 0.8137543201446533, 0.8060962557792664, 0.8028755187988281, 0.8026536107063293, 0.7943743467330933, 0.792542576789856, 0.7892596125602722, 0.7877340316772461, 0.7864792943000793, 0.785524845123291, 0.7842219471931458, 0.7809368968009949, 0.7784799933433533, 0.7771524786949158, 0.7765426635742188, 0.7764312028884888, 0.7704304456710815, 0.770021915435791, 0.7678152322769165, 0.7673802971839905, 0.765722393989563, 0.7645578384399414, 0.7628597021102905, 0.8693689703941345, 0.8455930352210999, 0.8344914317131042, 0.8228604793548584, 0.8191009759902954, 0.8098401427268982, 0.8029351234436035, 0.7972756624221802, 0.7952026724815369, 0.7921518683433533, 0.7804756164550781, 0.7785457968711853, 0.7767689228057861, 0.7752389907836914, 0.7691194415092468, 0.7687233090400696, 0.7610220313072205, 0.7605676054954529, 0.7566328048706055, 0.7553024291992188, 0.7546089887619019, 0.7545095086097717, 0.7541047930717468, 0.7540175914764404, 0.7531940340995789, 0.7509067058563232, 0.7497004270553589, 0.8691332340240479, 0.8203192949295044, 0.8176550269126892, 0.8111909031867981, 0.8107407093048096, 0.8057928681373596, 0.8051664233207703, 0.805104672908783, 0.8044500350952148, 0.8003861308097839, 0.7940793037414551, 0.7856045961380005, 0.7835738062858582, 0.7833608984947205, 0.7831958532333374, 0.7822098135948181, 0.7803959250450134, 0.7781693935394287, 0.7776943445205688, 0.7760273218154907, 0.7747005820274353, 0.7742792367935181, 0.7732482552528381, 0.7707312703132629, 0.7693127393722534, 0.767154335975647, 0.7666801810264587, 0.766555666923523, 0.7656685709953308, 0.7744848728179932, 0.6646109223365784, 0.6602960228919983, 0.6498546004295349, 0.6445918679237366, 0.6392174363136292, 0.6343290209770203, 0.632113516330719, 0.624349057674408, 0.6176387071609497, 0.6156660914421082, 0.6154292225837708, 0.6151661276817322, 0.6122859716415405, 0.6117172837257385, 0.6104322671890259, 0.6088787913322449, 0.6072021126747131, 0.6056716442108154, 0.603735625743866, 0.5983341932296753, 0.5980949997901917, 0.5975902676582336, 0.5969486236572266, 0.5950037837028503, 0.5929203629493713, 0.5920994877815247, 0.5866304636001587, 0.5865132808685303, 0.5864417552947998, 0.5851131677627563, 0.5837941765785217, 0.5814308524131775, 0.5795578956604004, 0.5750365257263184, 0.8240236639976501, 0.8201130628585815, 0.7928086519241333, 0.7852092385292053, 0.7827640771865845, 0.778634786605835, 0.7582051753997803, 0.7446914315223694, 0.7357237935066223, 0.7333429455757141, 0.7248352766036987, 0.7182155847549438, 0.716616153717041, 0.7083169221878052, 0.7001305818557739, 0.6971758604049683, 0.6965906620025635, 0.6952406764030457, 0.6947845220565796, 0.6853507161140442, 0.6822411417961121, 0.6790083050727844, 0.6784862875938416, 0.6780325770378113, 0.6777198910713196, 0.6750629544258118, 0.6730733513832092, 0.670341432094574, 0.7610958814620972, 0.6617266535758972, 0.6581311821937561, 0.6574737429618835, 0.6427996754646301, 0.6418323516845703, 0.6399663090705872, 0.6383036971092224, 0.636295735836029, 0.6181414127349854, 0.6100763082504272, 0.5999467968940735, 0.5975647568702698, 0.5923028588294983, 0.5902363657951355, 0.5901119709014893, 0.5870646238327026, 0.5852332711219788, 0.5847654342651367, 0.5842862725257874, 0.5814656019210815, 0.5796270370483398, 0.5794326663017273, 0.5775485038757324, 0.5697609186172485, 0.5695266127586365, 0.5673243999481201, 0.5656811594963074, 0.8012484908103943, 0.7250639796257019, 0.7219744920730591, 0.7149835824966431, 0.6976615786552429, 0.6850832104682922, 0.6830542087554932, 0.67235267162323, 0.6462578177452087, 0.6452330350875854, 0.6439641714096069, 0.6430838108062744, 0.641352117061615, 0.6387300491333008, 0.6361536979675293, 0.6349813342094421, 0.6331917643547058, 0.6326103210449219, 0.6321715116500854, 0.6313856244087219, 0.626976490020752, 0.6252110600471497, 0.6249145865440369, 0.624093234539032, 0.6240440607070923, 0.7813398838043213, 0.771386444568634, 0.7676190137863159, 0.7516728639602661, 0.75098717212677, 0.74526047706604, 0.7362139821052551, 0.7328900694847107, 0.7301064133644104, 0.729274570941925, 0.723548948764801, 0.7165979146957397, 0.7065431475639343, 0.7037743330001831, 0.7031577825546265, 0.7026961445808411, 0.6979488134384155, 0.6972854733467102, 0.6964392066001892, 0.690742015838623, 0.6906798481941223, 0.6895756125450134, 0.6892115473747253, 0.6891806125640869, 0.6873704195022583, 0.6853423714637756, 0.9152945280075073, 0.9112805128097534, 0.9066903591156006, 0.9051454067230225, 0.8998010754585266, 0.89614337682724, 0.8920615315437317, 0.8903298377990723, 0.8897737264633179, 0.8865445256233215, 0.8862414360046387, 0.8855639696121216, 0.8854100704193115, 0.8775721788406372, 0.8754287958145142, 0.8746320605278015, 0.8736165761947632, 0.8725376129150391, 0.8687763214111328, 0.8686636686325073, 0.8669152855873108, 0.8667181134223938, 0.8666269779205322, 0.8652694821357727, 0.8651655316352844, 0.8635768890380859, 0.8633226156234741, 0.8625561594963074, 0.8624236583709717, 0.8614670634269714, 0.8607356548309326, 0.8606346845626831, 0.8603576421737671, 0.8595236539840698, 0.8593615293502808, 0.8591722846031189, 0.8226102590560913, 0.8211800456047058, 0.8174506425857544, 0.817270815372467, 0.8092960119247437, 0.8089167475700378, 0.8071706295013428, 0.802727997303009, 0.8008111715316772, 0.797359824180603, 0.7858791947364807, 0.7858624458312988, 0.7674239873886108, 0.7666822671890259, 0.7656716108322144, 0.765203595161438, 0.7648369669914246, 0.7640111446380615, 0.762078583240509, 0.757942795753479, 0.7571120262145996, 0.7563315033912659, 0.7560520172119141, 0.7547337412834167, 0.7529022097587585, 0.8624894618988037, 0.8609238266944885, 0.8528459668159485, 0.8503864407539368, 0.8497704863548279, 0.8492704033851624, 0.8402376174926758, 0.8375001549720764, 0.835905909538269, 0.8354055881500244, 0.8341805934906006, 0.8312509059906006, 0.8311790823936462, 0.830564558506012, 0.8269558548927307, 0.82644122838974, 0.8241321444511414, 0.8241038918495178, 0.8234097957611084, 0.8228486776351929, 0.8200293779373169, 0.8193974494934082, 0.8191458582878113, 0.8177804350852966, 0.817126452922821, 0.816754937171936, 0.8157363533973694, 0.8155823945999146, 0.81535404920578, 0.8153463006019592, 0.8141266703605652, 0.8544304370880127, 0.8495298624038696, 0.8162813782691956, 0.8154909014701843, 0.8048981428146362, 0.7989307045936584, 0.798874020576477, 0.7962226271629333, 0.7915897965431213, 0.7894071340560913, 0.7876930236816406, 0.7830075025558472, 0.778436005115509, 0.7760981321334839, 0.7741332054138184, 0.7706069350242615, 0.7705397605895996, 0.7614220976829529, 0.7592927813529968, 0.7580382227897644, 0.7564839124679565, 0.7531194686889648, 0.7471070289611816, 0.7466616630554199, 0.746626615524292, 0.7445299029350281, 0.7413638234138489, 0.738517165184021, 0.7352613806724548, 0.7334145307540894, 0.7319650650024414, 0.7294604778289795, 0.724511444568634, 0.7231524586677551, 0.7220550775527954, 0.9628733396530151, 0.9619548320770264, 0.9495919942855835, 0.945736289024353, 0.940208911895752, 0.9394809603691101, 0.9316808581352234, 0.9301547408103943, 0.9171513319015503, 0.9118677377700806, 0.9114442467689514, 0.9105193018913269, 0.9091650247573853, 0.9056369066238403, 0.9047990441322327, 0.8995773196220398, 0.8923645615577698, 0.8918084502220154, 0.8908386826515198, 0.884373664855957, 0.8843719959259033, 0.8664871454238892, 0.8629206418991089, 0.8176238536834717, 0.8121435642242432, 0.7873002290725708, 0.7749793529510498, 0.7634615898132324, 0.7617128491401672, 0.7446876168251038, 0.7445570230484009, 0.7403599619865417, 0.7301462888717651, 0.721320390701294, 0.7186124920845032, 0.7170288562774658, 0.9002360701560974, 0.8964148759841919, 0.8951467871665955, 0.8877856731414795, 0.8828073740005493, 0.8819445967674255, 0.8816487193107605, 0.8798015713691711, 0.8796386122703552, 0.877109169960022, 0.8757458329200745, 0.875429630279541, 0.8749136328697205, 0.8741132020950317, 0.8740583658218384, 0.8719455003738403, 0.8711010217666626, 0.8705009818077087, 0.869820237159729, 0.8687179684638977, 0.8683713674545288, 0.8683445453643799, 0.868112325668335, 0.8674862384796143, 0.8654358386993408, 0.8649179339408875, 0.8629891276359558, 0.8621640801429749, 0.8607696294784546, 0.615019679069519, 0.6074382066726685, 0.5954805016517639, 0.5870802998542786, 0.576978862285614, 0.5768635869026184, 0.5625183582305908, 0.5538716316223145, 0.5465506911277771, 0.5455970764160156, 0.545059323310852, 0.5441571474075317, 0.544140636920929, 0.5418676733970642, 0.5398775935173035, 0.5398551225662231, 0.5382877588272095, 0.5354352593421936, 0.5353556871414185, 0.5345017313957214, 0.5325427651405334, 0.530519425868988, 0.5289821028709412, 0.5276203751564026, 0.5266727209091187, 0.5260159969329834, 0.5223671793937683, 0.7163645625114441, 0.7060075998306274, 0.6981064677238464, 0.696579098701477, 0.6664104461669922, 0.6631775498390198, 0.6485294699668884, 0.6309018135070801, 0.6278590559959412, 0.6133866906166077, 0.6009953618049622, 0.5981907844543457, 0.5972064137458801, 0.5969952344894409, 0.595440149307251, 0.5952262878417969, 0.5921198129653931, 0.589805543422699, 0.5801697969436646, 0.5757520198822021, 0.5743323564529419, 0.5740126967430115, 0.572304368019104, 0.5675609707832336, 0.5655118823051453, 0.5650272965431213, 0.5646769404411316, 0.5643697381019592, 0.5597460269927979, 0.5570894479751587, 0.5549933910369873, 0.5532627701759338, 0.918478786945343, 0.9007972478866577, 0.8808143138885498, 0.8781933784484863, 0.8746963739395142, 0.8741576671600342, 0.8709713220596313, 0.8696390986442566, 0.8659734725952148, 0.8658276796340942, 0.8635388612747192, 0.8632317185401917, 0.8619625568389893, 0.8617513179779053, 0.8615366220474243, 0.8605808019638062, 0.8601146936416626, 0.858500063419342, 0.8574264645576477, 0.8567265272140503, 0.8554964065551758, 0.8547015190124512, 0.8532893657684326, 0.853243887424469, 0.8509737253189087, 0.8503786325454712, 0.8502361178398132, 0.8499113321304321, 0.8491530418395996, 0.8477992415428162, 0.8462005257606506, 0.8451840877532959, 0.8445519804954529, 0.8444706201553345, 0.844379723072052, 0.8443600535392761, 0.7365960478782654, 0.7248307466506958, 0.7234930992126465, 0.7198126912117004, 0.7059594988822937, 0.7049866914749146, 0.6922252774238586, 0.6917928457260132, 0.6909752488136292, 0.6907880306243896, 0.6858693361282349, 0.6856094598770142, 0.6830939650535583, 0.6814700365066528, 0.6809106469154358, 0.6797763109207153, 0.6762434244155884, 0.6724975109100342, 0.6643118262290955, 0.6635414361953735, 0.6629124879837036, 0.6617841720581055, 0.7742371559143066, 0.7693735957145691, 0.7469895482063293, 0.7215089797973633, 0.7172637581825256, 0.6960777640342712, 0.6915456056594849, 0.6888493895530701, 0.6881071925163269, 0.6850532293319702, 0.6744018793106079, 0.6702436804771423, 0.6646936535835266, 0.6612213253974915, 0.6609623432159424, 0.6608821153640747, 0.6532546877861023, 0.6525658369064331, 0.6492090225219727, 0.6457926630973816, 0.6419087052345276, 0.6413050889968872, 0.6323360800743103, 0.6273360252380371, 0.6169231534004211, 0.6123849749565125, 0.605859100818634, 0.8043758869171143, 0.7998350262641907, 0.7971751093864441, 0.7965208888053894, 0.7861913442611694, 0.77897709608078, 0.771411657333374, 0.7712780833244324, 0.7681407332420349, 0.7636915445327759, 0.7623587846755981, 0.7608004808425903, 0.7603383660316467, 0.7595316171646118, 0.7589965462684631, 0.758450984954834, 0.7575560808181763, 0.7566468715667725, 0.7557398676872253, 0.7557347416877747, 0.7553812265396118, 0.7552810907363892, 0.7549046277999878, 0.7542663812637329, 0.6459349393844604, 0.644122302532196, 0.628990113735199, 0.6280675530433655, 0.6192894577980042, 0.6158833503723145, 0.6094523072242737, 0.604456901550293, 0.5993849039077759, 0.5969488024711609, 0.593963623046875, 0.5920877456665039, 0.5875796675682068, 0.5833376049995422, 0.5826493501663208, 0.5821765065193176, 0.5815033912658691, 0.5807041525840759, 0.5790793299674988, 0.5790509581565857, 0.5716303586959839, 0.5700750946998596, 0.799210250377655, 0.7413030862808228, 0.7322831749916077, 0.7316842079162598, 0.7296381592750549, 0.7247568964958191, 0.7124096751213074, 0.7100215554237366, 0.7066329121589661, 0.7064875960350037, 0.7060623168945312, 0.6998820304870605, 0.6962085962295532, 0.6949177980422974, 0.692007839679718, 0.6910340785980225, 0.6909672021865845, 0.6908264756202698, 0.6897810697555542, 0.6887543201446533, 0.6884170770645142, 0.6881851553916931, 0.6866028308868408, 0.6855838298797607, 0.6852533221244812, 0.6845905184745789, 0.6824555397033691, 0.6805137991905212, 0.6794153451919556, 0.6784482598304749, 0.6675757765769958, 0.6539686918258667, 0.6382259726524353, 0.6360107064247131, 0.6333805322647095, 0.6317528486251831, 0.6306988596916199, 0.6306602358818054, 0.6239604353904724, 0.6235197186470032, 0.6182323694229126, 0.6126178503036499, 0.6120151877403259, 0.6089709401130676, 0.6083124876022339, 0.6017307639122009, 0.6007228493690491, 0.6002500653266907, 0.5949007272720337, 0.5946680307388306, 0.5903677344322205, 0.589586079120636, 0.5874595642089844, 0.5874509811401367, 0.5847870111465454, 0.5846593379974365, 0.5810258388519287, 0.5797764658927917, 0.5796641111373901, 0.5773738622665405, 0.8106374144554138, 0.8001629114151001, 0.7975221872329712, 0.7971148490905762, 0.7935905456542969, 0.7927656769752502, 0.7924068570137024, 0.7912171483039856, 0.7892503142356873, 0.7890676259994507, 0.7883718013763428, 0.7880403995513916, 0.7851789593696594, 0.7828021049499512, 0.780665397644043, 0.7797760963439941, 0.77821946144104, 0.7780131697654724, 0.7760791182518005, 0.7760111689567566, 0.7757806777954102, 0.7747081518173218, 0.7735555171966553, 0.773138701915741, 0.7728479504585266, 0.770205557346344, 0.7667487859725952, 0.7667079567909241, 0.7664473056793213, 0.7661778926849365, 0.8970978260040283, 0.8925086855888367, 0.8809231519699097, 0.8706278800964355, 0.867519736289978, 0.8573852181434631, 0.8525233268737793, 0.8499820828437805, 0.8455696105957031, 0.8429827094078064, 0.8401130437850952, 0.8396775126457214, 0.8380343914031982, 0.8374716639518738, 0.8280587792396545, 0.8239855170249939, 0.8158434629440308, 0.8148860335350037, 0.8096683621406555, 0.8073706030845642, 0.8028595447540283, 0.8014059066772461, 0.8002076745033264, 0.931054949760437, 0.9103702902793884, 0.8936579823493958, 0.8767616152763367, 0.874648928642273, 0.8724132776260376, 0.8532731533050537, 0.8498932719230652, 0.8342869281768799, 0.8214537501335144, 0.8212554454803467, 0.8161430954933167, 0.8124678134918213, 0.8093422651290894, 0.804011344909668, 0.8032370209693909, 0.8011772036552429, 0.7991134524345398, 0.7982696890830994, 0.7966830134391785, 0.7925556898117065, 0.792214572429657, 0.7856621742248535, 0.7827235460281372, 0.7792768478393555, 0.7774644494056702, 0.7764372229576111, 0.7760571837425232, 0.7196761965751648, 0.7153692245483398, 0.7025039196014404, 0.6859776973724365, 0.6856586933135986, 0.6855239868164062, 0.6693317294120789, 0.6651365756988525, 0.6608103513717651, 0.6606302857398987, 0.6556583046913147, 0.6549878716468811, 0.6489289999008179, 0.6474544405937195, 0.6176581382751465, 0.6018058061599731, 0.5916281938552856, 0.5909284949302673, 0.5892695188522339, 0.5843994617462158, 0.5791296362876892, 0.5756866335868835, 0.5755914449691772, 0.572710394859314, 0.5720551013946533, 0.5712999701499939, 0.5693824887275696, 0.568518340587616, 0.5661318302154541, 0.9220991134643555, 0.8967180252075195, 0.8718981146812439, 0.8717637062072754, 0.8608120083808899, 0.8557012677192688, 0.8532298803329468, 0.8511055707931519, 0.8477972745895386, 0.8435722589492798, 0.840774655342102, 0.8339871764183044, 0.8208529353141785, 0.8200724124908447, 0.8167842030525208, 0.8165495991706848, 0.8113051056861877, 0.8056173324584961, 0.8036856651306152, 0.8005676865577698, 0.7966321706771851, 0.795963704586029, 0.7919207811355591, 0.789616584777832, 0.7876513004302979, 0.7788281440734863, 0.7534695863723755, 0.747460126876831, 0.7402273416519165, 0.7282291650772095, 0.7246644496917725, 0.7211539149284363, 0.7126078605651855, 0.7099894881248474, 0.7099301815032959, 0.7092829942703247, 0.6996626257896423, 0.6990757584571838, 0.6985935568809509, 0.698364794254303, 0.6973670125007629, 0.6948923468589783, 0.6926851272583008, 0.687985897064209, 0.6876776814460754, 0.6827626824378967, 0.6827532649040222, 0.7887693643569946, 0.7850185036659241, 0.757722020149231, 0.7569277286529541, 0.7551983594894409, 0.7466798424720764, 0.7443594932556152, 0.7416701912879944, 0.7372223734855652, 0.722172200679779, 0.7212100028991699, 0.7207627892494202, 0.719388484954834, 0.7163975834846497, 0.7107356190681458, 0.7102869749069214, 0.7099707126617432, 0.7096303105354309, 0.7078703045845032, 0.7076617479324341, 0.7066096067428589, 0.6377888917922974, 0.6104381084442139, 0.5663928985595703, 0.562972366809845, 0.5335981249809265, 0.5301796793937683, 0.5261696577072144, 0.5257648825645447, 0.5168986320495605, 0.5145578384399414, 0.48547953367233276, 0.4853421747684479, 0.4795950651168823, 0.46423885226249695, 0.4458909034729004, 0.4309961497783661, 0.4211257994174957, 0.4185926020145416, 0.4137609004974365, 0.413046658039093, 0.4081743359565735, 0.4052797257900238, 0.3982458710670471, 0.39731237292289734, 0.3963753879070282, 0.396036833524704, 0.3924098312854767, 0.39160630106925964, 0.3885667324066162, 0.38730233907699585, 0.3849576413631439, 0.3807324171066284, 0.3775579631328583, 0.3774489462375641, 0.3753344714641571, 0.3734148144721985, 0.6541721820831299, 0.6277418732643127, 0.6212223768234253, 0.6169305443763733, 0.6136668920516968, 0.612664520740509, 0.5980353355407715, 0.592751145362854, 0.5898720622062683, 0.5888270139694214, 0.579920768737793, 0.5765931606292725, 0.5760819911956787, 0.571633517742157, 0.5714762806892395, 0.569344699382782, 0.5664685368537903, 0.5647906064987183, 0.563188910484314, 0.5631375312805176, 0.5626969933509827, 0.5619305968284607, 0.5615164637565613, 0.5614174604415894, 0.558212399482727, 0.5533891916275024, 0.5505173206329346, 0.5495569109916687, 0.5478885173797607, 0.5475641489028931, 0.5463013052940369, 0.5454248189926147, 0.7771838903427124, 0.763510525226593, 0.7630017399787903, 0.7557224035263062, 0.7528911232948303, 0.7514951825141907, 0.7344868779182434, 0.7309106588363647, 0.7280900478363037, 0.7275996804237366, 0.7244044542312622, 0.7232944369316101, 0.7169066667556763, 0.7142223715782166, 0.7077389359474182, 0.7061917185783386, 0.705723762512207, 0.7016261219978333, 0.6981594562530518, 0.698067307472229, 0.6947071552276611, 0.6932373046875, 0.6925586462020874, 0.690671443939209, 0.6891288757324219, 0.7182399034500122, 0.6979568004608154, 0.6680718064308167, 0.6493580341339111, 0.6477369666099548, 0.6439428925514221, 0.6421974301338196, 0.6362334489822388, 0.6295362114906311, 0.6289597749710083, 0.6280187368392944, 0.6190317869186401, 0.6183199882507324, 0.6179618835449219, 0.616314709186554, 0.6152468919754028, 0.6140854954719543, 0.6123524308204651, 0.6110129356384277, 0.6096495389938354, 0.6013550758361816, 0.5966301560401917, 0.593481183052063, 0.5931086540222168, 0.8971691727638245, 0.8917194604873657, 0.8870789408683777, 0.8414509296417236, 0.835317075252533, 0.82789546251297, 0.8264042735099792, 0.7997561693191528, 0.7964685559272766, 0.7896758913993835, 0.7832848429679871, 0.7818500995635986, 0.7735521793365479, 0.7682669758796692, 0.7673060894012451, 0.7665959596633911, 0.7647307515144348, 0.7626108527183533, 0.7609531283378601, 0.7607501149177551, 0.7597574591636658, 0.7582369446754456, 0.7580199241638184, 0.7577296495437622, 0.750163197517395, 0.7472545504570007, 0.7472246885299683, 0.7442243695259094, 0.7373096942901611, 0.7023001313209534, 0.6811026930809021, 0.6791613101959229, 0.6677103042602539, 0.6663066744804382, 0.6643397212028503, 0.662420928478241, 0.6603159308433533, 0.6529402136802673, 0.6491141319274902, 0.6420649290084839, 0.6404515504837036, 0.6371678113937378, 0.6314381957054138, 0.6308580040931702, 0.6286789178848267, 0.6279920339584351, 0.6275602579116821, 0.6270405054092407, 0.6264953017234802, 0.6232285499572754], \"xaxis\": \"x\", \"yaxis\": \"y\"}],\n",
              "                        {\"barmode\": \"relative\", \"legend\": {\"tracegroupgap\": 0}, \"template\": {\"data\": {\"bar\": [{\"error_x\": {\"color\": \"#2a3f5f\"}, \"error_y\": {\"color\": \"#2a3f5f\"}, \"marker\": {\"line\": {\"color\": \"#E5ECF6\", \"width\": 0.5}}, \"type\": \"bar\"}], \"barpolar\": [{\"marker\": {\"line\": {\"color\": \"#E5ECF6\", \"width\": 0.5}}, \"type\": \"barpolar\"}], \"carpet\": [{\"aaxis\": {\"endlinecolor\": \"#2a3f5f\", \"gridcolor\": \"white\", \"linecolor\": \"white\", \"minorgridcolor\": \"white\", \"startlinecolor\": \"#2a3f5f\"}, \"baxis\": {\"endlinecolor\": \"#2a3f5f\", \"gridcolor\": \"white\", \"linecolor\": \"white\", \"minorgridcolor\": \"white\", \"startlinecolor\": \"#2a3f5f\"}, \"type\": \"carpet\"}], \"choropleth\": [{\"colorbar\": {\"outlinewidth\": 0, \"ticks\": \"\"}, \"type\": \"choropleth\"}], \"contour\": [{\"colorbar\": {\"outlinewidth\": 0, \"ticks\": \"\"}, \"colorscale\": [[0.0, \"#0d0887\"], [0.1111111111111111, \"#46039f\"], [0.2222222222222222, \"#7201a8\"], [0.3333333333333333, \"#9c179e\"], [0.4444444444444444, \"#bd3786\"], [0.5555555555555556, \"#d8576b\"], [0.6666666666666666, \"#ed7953\"], [0.7777777777777778, \"#fb9f3a\"], [0.8888888888888888, \"#fdca26\"], [1.0, \"#f0f921\"]], \"type\": \"contour\"}], \"contourcarpet\": [{\"colorbar\": {\"outlinewidth\": 0, \"ticks\": \"\"}, \"type\": \"contourcarpet\"}], \"heatmap\": [{\"colorbar\": {\"outlinewidth\": 0, \"ticks\": \"\"}, \"colorscale\": [[0.0, \"#0d0887\"], [0.1111111111111111, \"#46039f\"], [0.2222222222222222, \"#7201a8\"], [0.3333333333333333, \"#9c179e\"], [0.4444444444444444, \"#bd3786\"], [0.5555555555555556, \"#d8576b\"], [0.6666666666666666, \"#ed7953\"], [0.7777777777777778, \"#fb9f3a\"], [0.8888888888888888, \"#fdca26\"], [1.0, \"#f0f921\"]], \"type\": \"heatmap\"}], \"heatmapgl\": [{\"colorbar\": {\"outlinewidth\": 0, \"ticks\": \"\"}, \"colorscale\": [[0.0, \"#0d0887\"], [0.1111111111111111, \"#46039f\"], [0.2222222222222222, \"#7201a8\"], [0.3333333333333333, \"#9c179e\"], [0.4444444444444444, \"#bd3786\"], [0.5555555555555556, \"#d8576b\"], [0.6666666666666666, \"#ed7953\"], [0.7777777777777778, \"#fb9f3a\"], [0.8888888888888888, \"#fdca26\"], [1.0, \"#f0f921\"]], \"type\": \"heatmapgl\"}], \"histogram\": [{\"marker\": {\"colorbar\": {\"outlinewidth\": 0, \"ticks\": \"\"}}, \"type\": \"histogram\"}], \"histogram2d\": [{\"colorbar\": {\"outlinewidth\": 0, \"ticks\": \"\"}, \"colorscale\": [[0.0, \"#0d0887\"], [0.1111111111111111, \"#46039f\"], [0.2222222222222222, \"#7201a8\"], [0.3333333333333333, \"#9c179e\"], [0.4444444444444444, \"#bd3786\"], [0.5555555555555556, \"#d8576b\"], [0.6666666666666666, \"#ed7953\"], [0.7777777777777778, \"#fb9f3a\"], [0.8888888888888888, \"#fdca26\"], [1.0, \"#f0f921\"]], \"type\": \"histogram2d\"}], \"histogram2dcontour\": [{\"colorbar\": {\"outlinewidth\": 0, \"ticks\": \"\"}, \"colorscale\": [[0.0, \"#0d0887\"], [0.1111111111111111, \"#46039f\"], [0.2222222222222222, \"#7201a8\"], [0.3333333333333333, \"#9c179e\"], [0.4444444444444444, \"#bd3786\"], [0.5555555555555556, \"#d8576b\"], [0.6666666666666666, \"#ed7953\"], [0.7777777777777778, \"#fb9f3a\"], [0.8888888888888888, \"#fdca26\"], [1.0, \"#f0f921\"]], \"type\": \"histogram2dcontour\"}], \"mesh3d\": [{\"colorbar\": {\"outlinewidth\": 0, \"ticks\": \"\"}, \"type\": \"mesh3d\"}], \"parcoords\": [{\"line\": {\"colorbar\": {\"outlinewidth\": 0, \"ticks\": \"\"}}, \"type\": \"parcoords\"}], \"pie\": [{\"automargin\": true, \"type\": \"pie\"}], \"scatter\": [{\"marker\": {\"colorbar\": {\"outlinewidth\": 0, \"ticks\": \"\"}}, \"type\": \"scatter\"}], \"scatter3d\": [{\"line\": {\"colorbar\": {\"outlinewidth\": 0, \"ticks\": \"\"}}, \"marker\": {\"colorbar\": {\"outlinewidth\": 0, \"ticks\": \"\"}}, \"type\": \"scatter3d\"}], \"scattercarpet\": [{\"marker\": {\"colorbar\": {\"outlinewidth\": 0, \"ticks\": \"\"}}, \"type\": \"scattercarpet\"}], \"scattergeo\": [{\"marker\": {\"colorbar\": {\"outlinewidth\": 0, \"ticks\": \"\"}}, \"type\": \"scattergeo\"}], \"scattergl\": [{\"marker\": {\"colorbar\": {\"outlinewidth\": 0, \"ticks\": \"\"}}, \"type\": \"scattergl\"}], \"scattermapbox\": [{\"marker\": {\"colorbar\": {\"outlinewidth\": 0, \"ticks\": \"\"}}, \"type\": \"scattermapbox\"}], \"scatterpolar\": [{\"marker\": {\"colorbar\": {\"outlinewidth\": 0, \"ticks\": \"\"}}, \"type\": \"scatterpolar\"}], \"scatterpolargl\": [{\"marker\": {\"colorbar\": {\"outlinewidth\": 0, \"ticks\": \"\"}}, \"type\": \"scatterpolargl\"}], \"scatterternary\": [{\"marker\": {\"colorbar\": {\"outlinewidth\": 0, \"ticks\": \"\"}}, \"type\": \"scatterternary\"}], \"surface\": [{\"colorbar\": {\"outlinewidth\": 0, \"ticks\": \"\"}, \"colorscale\": [[0.0, \"#0d0887\"], [0.1111111111111111, \"#46039f\"], [0.2222222222222222, \"#7201a8\"], [0.3333333333333333, \"#9c179e\"], [0.4444444444444444, \"#bd3786\"], [0.5555555555555556, \"#d8576b\"], [0.6666666666666666, \"#ed7953\"], [0.7777777777777778, \"#fb9f3a\"], [0.8888888888888888, \"#fdca26\"], [1.0, \"#f0f921\"]], \"type\": \"surface\"}], \"table\": [{\"cells\": {\"fill\": {\"color\": \"#EBF0F8\"}, \"line\": {\"color\": \"white\"}}, \"header\": {\"fill\": {\"color\": \"#C8D4E3\"}, \"line\": {\"color\": \"white\"}}, \"type\": \"table\"}]}, \"layout\": {\"annotationdefaults\": {\"arrowcolor\": \"#2a3f5f\", \"arrowhead\": 0, \"arrowwidth\": 1}, \"coloraxis\": {\"colorbar\": {\"outlinewidth\": 0, \"ticks\": \"\"}}, \"colorscale\": {\"diverging\": [[0, \"#8e0152\"], [0.1, \"#c51b7d\"], [0.2, \"#de77ae\"], [0.3, \"#f1b6da\"], [0.4, \"#fde0ef\"], [0.5, \"#f7f7f7\"], [0.6, \"#e6f5d0\"], [0.7, \"#b8e186\"], [0.8, \"#7fbc41\"], [0.9, \"#4d9221\"], [1, \"#276419\"]], \"sequential\": [[0.0, \"#0d0887\"], [0.1111111111111111, \"#46039f\"], [0.2222222222222222, \"#7201a8\"], [0.3333333333333333, \"#9c179e\"], [0.4444444444444444, \"#bd3786\"], [0.5555555555555556, \"#d8576b\"], [0.6666666666666666, \"#ed7953\"], [0.7777777777777778, \"#fb9f3a\"], [0.8888888888888888, \"#fdca26\"], [1.0, \"#f0f921\"]], \"sequentialminus\": [[0.0, \"#0d0887\"], [0.1111111111111111, \"#46039f\"], [0.2222222222222222, \"#7201a8\"], [0.3333333333333333, \"#9c179e\"], [0.4444444444444444, \"#bd3786\"], [0.5555555555555556, \"#d8576b\"], [0.6666666666666666, \"#ed7953\"], [0.7777777777777778, \"#fb9f3a\"], [0.8888888888888888, \"#fdca26\"], [1.0, \"#f0f921\"]]}, \"colorway\": [\"#636efa\", \"#EF553B\", \"#00cc96\", \"#ab63fa\", \"#FFA15A\", \"#19d3f3\", \"#FF6692\", \"#B6E880\", \"#FF97FF\", \"#FECB52\"], \"font\": {\"color\": \"#2a3f5f\"}, \"geo\": {\"bgcolor\": \"white\", \"lakecolor\": \"white\", \"landcolor\": \"#E5ECF6\", \"showlakes\": true, \"showland\": true, \"subunitcolor\": \"white\"}, \"hoverlabel\": {\"align\": \"left\"}, \"hovermode\": \"closest\", \"mapbox\": {\"style\": \"light\"}, \"paper_bgcolor\": \"white\", \"plot_bgcolor\": \"#E5ECF6\", \"polar\": {\"angularaxis\": {\"gridcolor\": \"white\", \"linecolor\": \"white\", \"ticks\": \"\"}, \"bgcolor\": \"#E5ECF6\", \"radialaxis\": {\"gridcolor\": \"white\", \"linecolor\": \"white\", \"ticks\": \"\"}}, \"scene\": {\"xaxis\": {\"backgroundcolor\": \"#E5ECF6\", \"gridcolor\": \"white\", \"gridwidth\": 2, \"linecolor\": \"white\", \"showbackground\": true, \"ticks\": \"\", \"zerolinecolor\": \"white\"}, \"yaxis\": {\"backgroundcolor\": \"#E5ECF6\", \"gridcolor\": \"white\", \"gridwidth\": 2, \"linecolor\": \"white\", \"showbackground\": true, \"ticks\": \"\", \"zerolinecolor\": \"white\"}, \"zaxis\": {\"backgroundcolor\": \"#E5ECF6\", \"gridcolor\": \"white\", \"gridwidth\": 2, \"linecolor\": \"white\", \"showbackground\": true, \"ticks\": \"\", \"zerolinecolor\": \"white\"}}, \"shapedefaults\": {\"line\": {\"color\": \"#2a3f5f\"}}, \"ternary\": {\"aaxis\": {\"gridcolor\": \"white\", \"linecolor\": \"white\", \"ticks\": \"\"}, \"baxis\": {\"gridcolor\": \"white\", \"linecolor\": \"white\", \"ticks\": \"\"}, \"bgcolor\": \"#E5ECF6\", \"caxis\": {\"gridcolor\": \"white\", \"linecolor\": \"white\", \"ticks\": \"\"}}, \"title\": {\"x\": 0.05}, \"xaxis\": {\"automargin\": true, \"gridcolor\": \"white\", \"linecolor\": \"white\", \"ticks\": \"\", \"title\": {\"standoff\": 15}, \"zerolinecolor\": \"white\", \"zerolinewidth\": 2}, \"yaxis\": {\"automargin\": true, \"gridcolor\": \"white\", \"linecolor\": \"white\", \"ticks\": \"\", \"title\": {\"standoff\": 15}, \"zerolinecolor\": \"white\", \"zerolinewidth\": 2}}}, \"title\": {\"text\": \"doc2vec sections\"}, \"xaxis\": {\"anchor\": \"y\", \"domain\": [0.0, 1.0], \"title\": {\"text\": \"score\"}}, \"yaxis\": {\"anchor\": \"x\", \"domain\": [0.0, 1.0], \"title\": {\"text\": \"count\"}}},\n",
              "                        {\"responsive\": true}\n",
              "                    ).then(function(){\n",
              "                            \n",
              "var gd = document.getElementById('e9c2aa6f-5673-4ce5-af06-137a8cc2b0af');\n",
              "var x = new MutationObserver(function (mutations, observer) {{\n",
              "        var display = window.getComputedStyle(gd).display;\n",
              "        if (!display || display === 'none') {{\n",
              "            console.log([gd, 'removed!']);\n",
              "            Plotly.purge(gd);\n",
              "            observer.disconnect();\n",
              "        }}\n",
              "}});\n",
              "\n",
              "// Listen for the removal of the full notebook cells\n",
              "var notebookContainer = gd.closest('#notebook-container');\n",
              "if (notebookContainer) {{\n",
              "    x.observe(notebookContainer, {childList: true});\n",
              "}}\n",
              "\n",
              "// Listen for the clearing of the current output cell\n",
              "var outputEl = gd.closest('.output');\n",
              "if (outputEl) {{\n",
              "    x.observe(outputEl, {childList: true});\n",
              "}}\n",
              "\n",
              "                        })\n",
              "                };\n",
              "                \n",
              "            </script>\n",
              "        </div>\n",
              "</body>\n",
              "</html>"
            ]
          },
          "metadata": {}
        }
      ]
    },
    {
      "cell_type": "code",
      "metadata": {
        "id": "OKeaqYxGPMZj"
      },
      "source": [
        "wandb.log({\"scores_hist\": fig})"
      ],
      "execution_count": 88,
      "outputs": []
    },
    {
      "cell_type": "code",
      "metadata": {
        "colab": {
          "base_uri": "https://localhost:8080/",
          "height": 1000
        },
        "id": "DgV3ccDr5Ux4",
        "outputId": "8304b5d8-db49-40da-af29-bc041515d121"
      },
      "source": [
        "result, details = recommend_tune(df_section_sim, 'Perdido')\n",
        "result.head(50)"
      ],
      "execution_count": 89,
      "outputs": [
        {
          "output_type": "execute_result",
          "data": {
            "text/html": [
              "<div>\n",
              "<style scoped>\n",
              "    .dataframe tbody tr th:only-of-type {\n",
              "        vertical-align: middle;\n",
              "    }\n",
              "\n",
              "    .dataframe tbody tr th {\n",
              "        vertical-align: top;\n",
              "    }\n",
              "\n",
              "    .dataframe thead th {\n",
              "        text-align: right;\n",
              "    }\n",
              "</style>\n",
              "<table border=\"1\" class=\"dataframe\">\n",
              "  <thead>\n",
              "    <tr style=\"text-align: right;\">\n",
              "      <th></th>\n",
              "      <th>index</th>\n",
              "      <th>reference</th>\n",
              "      <th>similar_title</th>\n",
              "      <th>score</th>\n",
              "      <th>max</th>\n",
              "      <th>score_div_max</th>\n",
              "    </tr>\n",
              "  </thead>\n",
              "  <tbody>\n",
              "    <tr>\n",
              "      <th>0</th>\n",
              "      <td>0</td>\n",
              "      <td>Perdido</td>\n",
              "      <td>I Wish I Knew</td>\n",
              "      <td>0.862489</td>\n",
              "      <td>0.862489</td>\n",
              "      <td>1.000000</td>\n",
              "    </tr>\n",
              "    <tr>\n",
              "      <th>1</th>\n",
              "      <td>1</td>\n",
              "      <td>Perdido</td>\n",
              "      <td>Anthropology</td>\n",
              "      <td>0.962873</td>\n",
              "      <td>0.962873</td>\n",
              "      <td>1.000000</td>\n",
              "    </tr>\n",
              "    <tr>\n",
              "      <th>2</th>\n",
              "      <td>2</td>\n",
              "      <td>Perdido</td>\n",
              "      <td>Thou Swell</td>\n",
              "      <td>0.854430</td>\n",
              "      <td>0.854430</td>\n",
              "      <td>1.000000</td>\n",
              "    </tr>\n",
              "    <tr>\n",
              "      <th>3</th>\n",
              "      <td>3</td>\n",
              "      <td>Perdido</td>\n",
              "      <td>So Many Stars</td>\n",
              "      <td>0.900236</td>\n",
              "      <td>0.900236</td>\n",
              "      <td>1.000000</td>\n",
              "    </tr>\n",
              "    <tr>\n",
              "      <th>4</th>\n",
              "      <td>4</td>\n",
              "      <td>Perdido</td>\n",
              "      <td>No Moe</td>\n",
              "      <td>0.961955</td>\n",
              "      <td>0.962873</td>\n",
              "      <td>0.999046</td>\n",
              "    </tr>\n",
              "    <tr>\n",
              "      <th>5</th>\n",
              "      <td>5</td>\n",
              "      <td>Perdido</td>\n",
              "      <td>Easy To Love</td>\n",
              "      <td>0.860924</td>\n",
              "      <td>0.862489</td>\n",
              "      <td>0.998185</td>\n",
              "    </tr>\n",
              "    <tr>\n",
              "      <th>6</th>\n",
              "      <td>6</td>\n",
              "      <td>Perdido</td>\n",
              "      <td>Hackensack</td>\n",
              "      <td>0.896415</td>\n",
              "      <td>0.900236</td>\n",
              "      <td>0.995755</td>\n",
              "    </tr>\n",
              "    <tr>\n",
              "      <th>7</th>\n",
              "      <td>7</td>\n",
              "      <td>Perdido</td>\n",
              "      <td>Well You Needn't</td>\n",
              "      <td>0.895147</td>\n",
              "      <td>0.900236</td>\n",
              "      <td>0.994347</td>\n",
              "    </tr>\n",
              "    <tr>\n",
              "      <th>8</th>\n",
              "      <td>8</td>\n",
              "      <td>Perdido</td>\n",
              "      <td>I Mean You</td>\n",
              "      <td>0.868371</td>\n",
              "      <td>0.900236</td>\n",
              "      <td>0.994265</td>\n",
              "    </tr>\n",
              "    <tr>\n",
              "      <th>9</th>\n",
              "      <td>9</td>\n",
              "      <td>Perdido</td>\n",
              "      <td>Thriving From A Riff</td>\n",
              "      <td>0.949592</td>\n",
              "      <td>0.962873</td>\n",
              "      <td>0.986207</td>\n",
              "    </tr>\n",
              "    <tr>\n",
              "      <th>10</th>\n",
              "      <td>10</td>\n",
              "      <td>Perdido</td>\n",
              "      <td>Jersey Bounce</td>\n",
              "      <td>0.887786</td>\n",
              "      <td>0.900236</td>\n",
              "      <td>0.986170</td>\n",
              "    </tr>\n",
              "    <tr>\n",
              "      <th>11</th>\n",
              "      <td>11</td>\n",
              "      <td>Perdido</td>\n",
              "      <td>Dearly Beloved</td>\n",
              "      <td>0.882807</td>\n",
              "      <td>0.900236</td>\n",
              "      <td>0.985967</td>\n",
              "    </tr>\n",
              "    <tr>\n",
              "      <th>12</th>\n",
              "      <td>12</td>\n",
              "      <td>Perdido</td>\n",
              "      <td>C'est Si Bon</td>\n",
              "      <td>0.849770</td>\n",
              "      <td>0.862489</td>\n",
              "      <td>0.985253</td>\n",
              "    </tr>\n",
              "    <tr>\n",
              "      <th>13</th>\n",
              "      <td>13</td>\n",
              "      <td>Perdido</td>\n",
              "      <td>If I Didn't Care</td>\n",
              "      <td>0.849270</td>\n",
              "      <td>0.862489</td>\n",
              "      <td>0.984673</td>\n",
              "    </tr>\n",
              "    <tr>\n",
              "      <th>14</th>\n",
              "      <td>14</td>\n",
              "      <td>Perdido</td>\n",
              "      <td>Rhythm-a-ning</td>\n",
              "      <td>0.945736</td>\n",
              "      <td>0.962873</td>\n",
              "      <td>0.982202</td>\n",
              "    </tr>\n",
              "    <tr>\n",
              "      <th>15</th>\n",
              "      <td>15</td>\n",
              "      <td>Perdido</td>\n",
              "      <td>Cynthia's In Love</td>\n",
              "      <td>0.881649</td>\n",
              "      <td>0.900236</td>\n",
              "      <td>0.979353</td>\n",
              "    </tr>\n",
              "    <tr>\n",
              "      <th>16</th>\n",
              "      <td>16</td>\n",
              "      <td>Perdido</td>\n",
              "      <td>Killer Joe</td>\n",
              "      <td>0.879802</td>\n",
              "      <td>0.900236</td>\n",
              "      <td>0.977301</td>\n",
              "    </tr>\n",
              "    <tr>\n",
              "      <th>17</th>\n",
              "      <td>17</td>\n",
              "      <td>Perdido</td>\n",
              "      <td>Down For Double</td>\n",
              "      <td>0.879639</td>\n",
              "      <td>0.900236</td>\n",
              "      <td>0.977120</td>\n",
              "    </tr>\n",
              "    <tr>\n",
              "      <th>18</th>\n",
              "      <td>18</td>\n",
              "      <td>Perdido</td>\n",
              "      <td>Shaw 'Nuff</td>\n",
              "      <td>0.940209</td>\n",
              "      <td>0.962873</td>\n",
              "      <td>0.976462</td>\n",
              "    </tr>\n",
              "    <tr>\n",
              "      <th>19</th>\n",
              "      <td>19</td>\n",
              "      <td>Perdido</td>\n",
              "      <td>Two Not One</td>\n",
              "      <td>0.939481</td>\n",
              "      <td>0.962873</td>\n",
              "      <td>0.975706</td>\n",
              "    </tr>\n",
              "    <tr>\n",
              "      <th>20</th>\n",
              "      <td>20</td>\n",
              "      <td>Perdido</td>\n",
              "      <td>Saga Of Harrison Crabfeathers, The</td>\n",
              "      <td>0.877109</td>\n",
              "      <td>0.900236</td>\n",
              "      <td>0.974310</td>\n",
              "    </tr>\n",
              "    <tr>\n",
              "      <th>21</th>\n",
              "      <td>21</td>\n",
              "      <td>Perdido</td>\n",
              "      <td>Deed I Do</td>\n",
              "      <td>0.867486</td>\n",
              "      <td>0.900236</td>\n",
              "      <td>0.974200</td>\n",
              "    </tr>\n",
              "    <tr>\n",
              "      <th>22</th>\n",
              "      <td>22</td>\n",
              "      <td>Perdido</td>\n",
              "      <td>You Can Depend On Me</td>\n",
              "      <td>0.875746</td>\n",
              "      <td>0.900236</td>\n",
              "      <td>0.972796</td>\n",
              "    </tr>\n",
              "    <tr>\n",
              "      <th>23</th>\n",
              "      <td>23</td>\n",
              "      <td>Perdido</td>\n",
              "      <td>Benny's Tune</td>\n",
              "      <td>0.875430</td>\n",
              "      <td>0.900236</td>\n",
              "      <td>0.972445</td>\n",
              "    </tr>\n",
              "    <tr>\n",
              "      <th>24</th>\n",
              "      <td>24</td>\n",
              "      <td>Perdido</td>\n",
              "      <td>Impressions</td>\n",
              "      <td>0.874914</td>\n",
              "      <td>0.900236</td>\n",
              "      <td>0.971871</td>\n",
              "    </tr>\n",
              "    <tr>\n",
              "      <th>25</th>\n",
              "      <td>25</td>\n",
              "      <td>Perdido</td>\n",
              "      <td>I Get A Kick Out Of You</td>\n",
              "      <td>0.837500</td>\n",
              "      <td>0.862489</td>\n",
              "      <td>0.971027</td>\n",
              "    </tr>\n",
              "    <tr>\n",
              "      <th>26</th>\n",
              "      <td>26</td>\n",
              "      <td>Perdido</td>\n",
              "      <td>So What</td>\n",
              "      <td>0.874058</td>\n",
              "      <td>0.900236</td>\n",
              "      <td>0.970921</td>\n",
              "    </tr>\n",
              "    <tr>\n",
              "      <th>27</th>\n",
              "      <td>27</td>\n",
              "      <td>Perdido</td>\n",
              "      <td>P.S. I Love You</td>\n",
              "      <td>0.871946</td>\n",
              "      <td>0.900236</td>\n",
              "      <td>0.968574</td>\n",
              "    </tr>\n",
              "    <tr>\n",
              "      <th>28</th>\n",
              "      <td>28</td>\n",
              "      <td>Perdido</td>\n",
              "      <td>Midnight Blue</td>\n",
              "      <td>0.871101</td>\n",
              "      <td>0.900236</td>\n",
              "      <td>0.967636</td>\n",
              "    </tr>\n",
              "    <tr>\n",
              "      <th>29</th>\n",
              "      <td>29</td>\n",
              "      <td>Perdido</td>\n",
              "      <td>Little Peace In C For You</td>\n",
              "      <td>0.931681</td>\n",
              "      <td>0.962873</td>\n",
              "      <td>0.967605</td>\n",
              "    </tr>\n",
              "    <tr>\n",
              "      <th>30</th>\n",
              "      <td>30</td>\n",
              "      <td>Perdido</td>\n",
              "      <td>Song Is You, The</td>\n",
              "      <td>0.834181</td>\n",
              "      <td>0.862489</td>\n",
              "      <td>0.967178</td>\n",
              "    </tr>\n",
              "    <tr>\n",
              "      <th>31</th>\n",
              "      <td>31</td>\n",
              "      <td>Perdido</td>\n",
              "      <td>Phase Dance</td>\n",
              "      <td>0.870501</td>\n",
              "      <td>0.900236</td>\n",
              "      <td>0.966970</td>\n",
              "    </tr>\n",
              "    <tr>\n",
              "      <th>32</th>\n",
              "      <td>32</td>\n",
              "      <td>Perdido</td>\n",
              "      <td>Nothing Personal</td>\n",
              "      <td>0.869820</td>\n",
              "      <td>0.900236</td>\n",
              "      <td>0.966213</td>\n",
              "    </tr>\n",
              "    <tr>\n",
              "      <th>33</th>\n",
              "      <td>33</td>\n",
              "      <td>Perdido</td>\n",
              "      <td>Salt Peanuts</td>\n",
              "      <td>0.930155</td>\n",
              "      <td>0.962873</td>\n",
              "      <td>0.966020</td>\n",
              "    </tr>\n",
              "    <tr>\n",
              "      <th>34</th>\n",
              "      <td>34</td>\n",
              "      <td>Perdido</td>\n",
              "      <td>Can't We Be Friends</td>\n",
              "      <td>0.868345</td>\n",
              "      <td>0.900236</td>\n",
              "      <td>0.964574</td>\n",
              "    </tr>\n",
              "    <tr>\n",
              "      <th>35</th>\n",
              "      <td>35</td>\n",
              "      <td>Perdido</td>\n",
              "      <td>End Of A Love Affair, The</td>\n",
              "      <td>0.868112</td>\n",
              "      <td>0.900236</td>\n",
              "      <td>0.964316</td>\n",
              "    </tr>\n",
              "    <tr>\n",
              "      <th>36</th>\n",
              "      <td>36</td>\n",
              "      <td>Perdido</td>\n",
              "      <td>Straight Life</td>\n",
              "      <td>0.862989</td>\n",
              "      <td>0.900236</td>\n",
              "      <td>0.958625</td>\n",
              "    </tr>\n",
              "    <tr>\n",
              "      <th>37</th>\n",
              "      <td>37</td>\n",
              "      <td>Perdido</td>\n",
              "      <td>I Cried For You</td>\n",
              "      <td>0.826441</td>\n",
              "      <td>0.862489</td>\n",
              "      <td>0.958204</td>\n",
              "    </tr>\n",
              "    <tr>\n",
              "      <th>38</th>\n",
              "      <td>38</td>\n",
              "      <td>Perdido</td>\n",
              "      <td>Cheers</td>\n",
              "      <td>0.862164</td>\n",
              "      <td>0.900236</td>\n",
              "      <td>0.957709</td>\n",
              "    </tr>\n",
              "    <tr>\n",
              "      <th>39</th>\n",
              "      <td>39</td>\n",
              "      <td>Perdido</td>\n",
              "      <td>Lakes</td>\n",
              "      <td>0.860770</td>\n",
              "      <td>0.900236</td>\n",
              "      <td>0.956160</td>\n",
              "    </tr>\n",
              "    <tr>\n",
              "      <th>40</th>\n",
              "      <td>40</td>\n",
              "      <td>Perdido</td>\n",
              "      <td>Four In One</td>\n",
              "      <td>0.816281</td>\n",
              "      <td>0.854430</td>\n",
              "      <td>0.955351</td>\n",
              "    </tr>\n",
              "    <tr>\n",
              "      <th>41</th>\n",
              "      <td>41</td>\n",
              "      <td>Perdido</td>\n",
              "      <td>Ain't Misbehavin'</td>\n",
              "      <td>0.822849</td>\n",
              "      <td>0.862489</td>\n",
              "      <td>0.954039</td>\n",
              "    </tr>\n",
              "    <tr>\n",
              "      <th>42</th>\n",
              "      <td>42</td>\n",
              "      <td>Perdido</td>\n",
              "      <td>C.T.A.</td>\n",
              "      <td>0.917151</td>\n",
              "      <td>0.962873</td>\n",
              "      <td>0.952515</td>\n",
              "    </tr>\n",
              "    <tr>\n",
              "      <th>43</th>\n",
              "      <td>43</td>\n",
              "      <td>Perdido</td>\n",
              "      <td>That's Life I Guess</td>\n",
              "      <td>0.817126</td>\n",
              "      <td>0.862489</td>\n",
              "      <td>0.947405</td>\n",
              "    </tr>\n",
              "    <tr>\n",
              "      <th>44</th>\n",
              "      <td>44</td>\n",
              "      <td>Perdido</td>\n",
              "      <td>Moose The Mooche</td>\n",
              "      <td>0.911868</td>\n",
              "      <td>0.962873</td>\n",
              "      <td>0.947028</td>\n",
              "    </tr>\n",
              "    <tr>\n",
              "      <th>45</th>\n",
              "      <td>45</td>\n",
              "      <td>Perdido</td>\n",
              "      <td>Theme, The</td>\n",
              "      <td>0.911444</td>\n",
              "      <td>0.962873</td>\n",
              "      <td>0.946588</td>\n",
              "    </tr>\n",
              "    <tr>\n",
              "      <th>46</th>\n",
              "      <td>46</td>\n",
              "      <td>Perdido</td>\n",
              "      <td>Scrapple From The Apple</td>\n",
              "      <td>0.910519</td>\n",
              "      <td>0.962873</td>\n",
              "      <td>0.945627</td>\n",
              "    </tr>\n",
              "    <tr>\n",
              "      <th>47</th>\n",
              "      <td>47</td>\n",
              "      <td>Perdido</td>\n",
              "      <td>Now's The Time</td>\n",
              "      <td>0.815354</td>\n",
              "      <td>0.862489</td>\n",
              "      <td>0.945350</td>\n",
              "    </tr>\n",
              "    <tr>\n",
              "      <th>48</th>\n",
              "      <td>48</td>\n",
              "      <td>Perdido</td>\n",
              "      <td>Almost Like Being In Love</td>\n",
              "      <td>0.815346</td>\n",
              "      <td>0.862489</td>\n",
              "      <td>0.945341</td>\n",
              "    </tr>\n",
              "    <tr>\n",
              "      <th>49</th>\n",
              "      <td>49</td>\n",
              "      <td>Perdido</td>\n",
              "      <td>Dexterity</td>\n",
              "      <td>0.909165</td>\n",
              "      <td>0.962873</td>\n",
              "      <td>0.944221</td>\n",
              "    </tr>\n",
              "  </tbody>\n",
              "</table>\n",
              "</div>"
            ],
            "text/plain": [
              "    index reference  ...       max  score_div_max\n",
              "0       0   Perdido  ...  0.862489       1.000000\n",
              "1       1   Perdido  ...  0.962873       1.000000\n",
              "2       2   Perdido  ...  0.854430       1.000000\n",
              "3       3   Perdido  ...  0.900236       1.000000\n",
              "4       4   Perdido  ...  0.962873       0.999046\n",
              "5       5   Perdido  ...  0.862489       0.998185\n",
              "6       6   Perdido  ...  0.900236       0.995755\n",
              "7       7   Perdido  ...  0.900236       0.994347\n",
              "8       8   Perdido  ...  0.900236       0.994265\n",
              "9       9   Perdido  ...  0.962873       0.986207\n",
              "10     10   Perdido  ...  0.900236       0.986170\n",
              "11     11   Perdido  ...  0.900236       0.985967\n",
              "12     12   Perdido  ...  0.862489       0.985253\n",
              "13     13   Perdido  ...  0.862489       0.984673\n",
              "14     14   Perdido  ...  0.962873       0.982202\n",
              "15     15   Perdido  ...  0.900236       0.979353\n",
              "16     16   Perdido  ...  0.900236       0.977301\n",
              "17     17   Perdido  ...  0.900236       0.977120\n",
              "18     18   Perdido  ...  0.962873       0.976462\n",
              "19     19   Perdido  ...  0.962873       0.975706\n",
              "20     20   Perdido  ...  0.900236       0.974310\n",
              "21     21   Perdido  ...  0.900236       0.974200\n",
              "22     22   Perdido  ...  0.900236       0.972796\n",
              "23     23   Perdido  ...  0.900236       0.972445\n",
              "24     24   Perdido  ...  0.900236       0.971871\n",
              "25     25   Perdido  ...  0.862489       0.971027\n",
              "26     26   Perdido  ...  0.900236       0.970921\n",
              "27     27   Perdido  ...  0.900236       0.968574\n",
              "28     28   Perdido  ...  0.900236       0.967636\n",
              "29     29   Perdido  ...  0.962873       0.967605\n",
              "30     30   Perdido  ...  0.862489       0.967178\n",
              "31     31   Perdido  ...  0.900236       0.966970\n",
              "32     32   Perdido  ...  0.900236       0.966213\n",
              "33     33   Perdido  ...  0.962873       0.966020\n",
              "34     34   Perdido  ...  0.900236       0.964574\n",
              "35     35   Perdido  ...  0.900236       0.964316\n",
              "36     36   Perdido  ...  0.900236       0.958625\n",
              "37     37   Perdido  ...  0.862489       0.958204\n",
              "38     38   Perdido  ...  0.900236       0.957709\n",
              "39     39   Perdido  ...  0.900236       0.956160\n",
              "40     40   Perdido  ...  0.854430       0.955351\n",
              "41     41   Perdido  ...  0.862489       0.954039\n",
              "42     42   Perdido  ...  0.962873       0.952515\n",
              "43     43   Perdido  ...  0.862489       0.947405\n",
              "44     44   Perdido  ...  0.962873       0.947028\n",
              "45     45   Perdido  ...  0.962873       0.946588\n",
              "46     46   Perdido  ...  0.962873       0.945627\n",
              "47     47   Perdido  ...  0.862489       0.945350\n",
              "48     48   Perdido  ...  0.862489       0.945341\n",
              "49     49   Perdido  ...  0.962873       0.944221\n",
              "\n",
              "[50 rows x 6 columns]"
            ]
          },
          "metadata": {},
          "execution_count": 89
        }
      ]
    },
    {
      "cell_type": "code",
      "metadata": {
        "id": "hLFaFo62XlMS",
        "colab": {
          "base_uri": "https://localhost:8080/"
        },
        "outputId": "d4ade775-9c5d-4673-cfd0-16c88ea6c323"
      },
      "source": [
        "dd = pd.DataFrame(columns = recommender_results_cols)\n",
        "\n",
        "for tune in tunes_eval_list:\n",
        "  result, details = recommend_tune(df_sim, tune)\n",
        "  dd['id'] = result['index']\n",
        "  dd['reference'] = tune\n",
        "  dd['method'] = 'doc2vec'\n",
        "  dd['similar'] = result['similar_title']\n",
        "  dd['score_div_max'] = result['score_div_max']\n",
        "  dd['score'] = result['score']\n",
        "\n",
        "recommender_results = recommender_results.append(dd)\n",
        "len(recommender_results)"
      ],
      "execution_count": 90,
      "outputs": [
        {
          "output_type": "execute_result",
          "data": {
            "text/plain": [
              "178"
            ]
          },
          "metadata": {},
          "execution_count": 90
        }
      ]
    },
    {
      "cell_type": "markdown",
      "metadata": {
        "id": "ryEvGZqYDsMb"
      },
      "source": [
        "#### Document Similarity\n"
      ]
    },
    {
      "cell_type": "markdown",
      "metadata": {
        "id": "o-eOM9DiFdAt"
      },
      "source": [
        "The TitleId is tagged with the prefix `title_id`, so that it can be distinguished from the sectionid tags, which are numeric."
      ]
    },
    {
      "cell_type": "code",
      "metadata": {
        "colab": {
          "base_uri": "https://localhost:8080/"
        },
        "id": "KRd6qAdY5Z4g",
        "outputId": "bae99918-400e-4bb6-ab4f-e5a5e3d26a0f"
      },
      "source": [
        "tunes_eval_list"
      ],
      "execution_count": 91,
      "outputs": [
        {
          "output_type": "execute_result",
          "data": {
            "text/plain": [
              "[\"After You've Gone\",\n",
              " \"All God's Chillun Got Rhythm\",\n",
              " 'All Of Me',\n",
              " 'Blood Count',\n",
              " 'Blue Moon',\n",
              " 'But Beautiful',\n",
              " 'Bye Bye Blackbird',\n",
              " 'Call Me Irresponsible',\n",
              " 'Corcovado',\n",
              " 'Dinah',\n",
              " 'East Of The Sun',\n",
              " 'Footprints',\n",
              " 'Giant Steps',\n",
              " 'Honeysuckle Rose',\n",
              " 'I Got Rhythm',\n",
              " 'Misty',\n",
              " 'Naima',\n",
              " 'Old Fashioned Love',\n",
              " 'Perdido',\n",
              " \"Rockin' Chair\",\n",
              " 'Sophisticated Lady',\n",
              " 'Sweet Sue, Just You',\n",
              " 'These Foolish Things',\n",
              " \"We'll Be Together Again\"]"
            ]
          },
          "metadata": {},
          "execution_count": 91
        }
      ]
    },
    {
      "cell_type": "code",
      "metadata": {
        "colab": {
          "base_uri": "https://localhost:8080/"
        },
        "id": "sHWTJtJ_HyoJ",
        "outputId": "5197e71f-84db-429e-8962-231bc673b62e"
      },
      "source": [
        "# convert titles to titleid; if multiple tunes with same title, takes the first one. \n",
        "titleid_eval = []\n",
        "for title in tunes_eval_list:\n",
        "  titleid_eval.append(titles.query(f'title == \"{title}\"').reset_index().loc[0,'tune_id'])\n",
        "titleid_eval"
      ],
      "execution_count": 92,
      "outputs": [
        {
          "output_type": "execute_result",
          "data": {
            "text/plain": [
              "[38,\n",
              " 57,\n",
              " 60,\n",
              " 149,\n",
              " 159,\n",
              " 199,\n",
              " 206,\n",
              " 213,\n",
              " 257,\n",
              " 308,\n",
              " 341,\n",
              " 392,\n",
              " 425,\n",
              " 472,\n",
              " 505,\n",
              " 805,\n",
              " 859,\n",
              " 1639,\n",
              " 949,\n",
              " 993,\n",
              " 1080,\n",
              " 1136,\n",
              " 1168,\n",
              " 1257]"
            ]
          },
          "metadata": {},
          "execution_count": 92
        }
      ]
    },
    {
      "cell_type": "code",
      "metadata": {
        "colab": {
          "base_uri": "https://localhost:8080/"
        },
        "id": "XKO9wonAHsch",
        "outputId": "1f15093e-f15a-4dc3-d34e-f9ef879c6dfb"
      },
      "source": [
        "for titleid in titleid_eval:\n",
        "  print()\n",
        "  print(titleid_to_title[titleid])\n",
        "  sims = model.dv.similar_by_key(f'titleid_{titleid}', topn=30)\n",
        "  for key, value in sims:\n",
        "    if type(key) == str:  # only display document similarities, skip all section similarities\n",
        "      print(f\"{value:.3f} {titleid_to_title[int(key.replace('titleid_', ''))]}\")\n"
      ],
      "execution_count": 93,
      "outputs": [
        {
          "output_type": "stream",
          "name": "stdout",
          "text": [
            "\n",
            "After You've Gone\n",
            "0.786 Don't Worry 'Bout Me\n",
            "0.785 Deed I Do\n",
            "0.785 In A Mellow Tone (In A Mellotone)\n",
            "0.779 There'll Be Some Changes Made\n",
            "0.777 Cherokee\n",
            "0.776 Take The A Train\n",
            "0.773 Jumpin With Symphony Sid\n",
            "0.764 All Of You\n",
            "0.762 Perdido\n",
            "\n",
            "All God's Chillun Got Rhythm\n",
            "0.866 Too Young To Go Steady\n",
            "0.825 Emily\n",
            "0.820 Misty\n",
            "0.797 Again\n",
            "0.796 Diane\n",
            "0.794 Jeepers Creepers\n",
            "0.790 I'm In The Mood For Love\n",
            "0.789 Sometime Ago\n",
            "0.787 Cottontail\n",
            "0.786 Fools Rush In\n",
            "0.783 Teach Me Tonight\n",
            "0.783 Blue Moon\n",
            "0.781 At Last\n",
            "0.780 I May Be Wrong\n",
            "\n",
            "All Of Me\n",
            "0.861 Litha\n",
            "0.858 Four\n",
            "0.830 Look To The Sky\n",
            "0.827 Smile\n",
            "0.827 Shine\n",
            "0.815 Zoltan\n",
            "0.815 Spain\n",
            "0.811 Phase Dance\n",
            "0.811 A Weaver Of Dreams\n",
            "0.810 Bei Mir Bist Du Schon (Root Hog Or Die)\n",
            "0.807 Like Sonny\n",
            "0.800 Equinox\n",
            "\n",
            "Blood Count\n",
            "0.842 Played Twice\n",
            "0.795 Naima\n",
            "0.781 Midnight Sun\n",
            "0.772 A Sound For Sore Ears\n",
            "0.769 Sippin' At Bells\n",
            "0.737 One Note Samba\n",
            "\n",
            "Blue Moon\n",
            "0.888 Fools Rush In\n",
            "0.842 Why Do I Love You\n",
            "0.805 I'm In The Mood For Love\n",
            "0.803 Time After Time\n",
            "0.802 Misty\n",
            "0.800 Touch Of Your Lips, The\n",
            "0.796 Portrait Of Jennie\n",
            "\n",
            "But Beautiful\n",
            "0.757 Sugar Blues\n",
            "0.754 Do What Ory Say\n",
            "0.750 P.S. I Love You\n",
            "0.749 I May Be Wrong\n",
            "0.745 You Meet The Nicest People In Your Dreams\n",
            "0.743 There Will Never Be Another You\n",
            "0.738 All God's Chillun Got Rhythm\n",
            "0.729 I'm Alone Because I Love You\n",
            "0.729 Someday (You'll Want Me To Want You)\n",
            "0.728 C-Jam Blues\n",
            "\n",
            "Bye Bye Blackbird\n",
            "0.849 Afternoon In Paris\n",
            "0.827 Somebody Loves Me\n",
            "0.823 One I Love (Belongs To Somebody Else), The\n",
            "0.820 Pretend\n",
            "0.813 Smile\n",
            "0.799 Tin Roof Cafe Blues\n",
            "0.798 You're Foolin' Someone\n",
            "0.798 S'posin'\n",
            "0.797 Minor Strain\n",
            "\n",
            "Call Me Irresponsible\n",
            "0.844 Into Each Life Some Rain Must Fall\n",
            "0.793 Young And Foolish\n",
            "0.790 You Took Advantage Of Me\n",
            "0.789 Nevertheless\n",
            "0.787 Poor Butterfly\n",
            "0.783 Let There Be Love\n",
            "0.772 Paper Doll\n",
            "\n",
            "Corcovado\n",
            "0.822 Minoat\n",
            "0.820 From This Moment On\n",
            "0.815 What Are You Doing The Rest Of Your Life\n",
            "0.792 Freight Train\n",
            "0.782 My Heart Belongs To Daddy\n",
            "0.781 If I Should Lose You\n",
            "0.780 O Grande Amor\n",
            "0.768 Idle Moments\n",
            "\n",
            "Dinah\n",
            "0.783 Where Or When\n",
            "0.769 Blue Champagne\n",
            "0.758 It's Magic\n",
            "0.751 Take Five\n",
            "0.735 Everything I Have Is Yours\n",
            "0.727 Love Me Or Leave Me\n",
            "0.713 Autumn Leaves\n",
            "0.710 What A Wonderful World\n",
            "0.703 Way You Look Tonight, The\n",
            "0.701 Flying Home\n",
            "0.700 Blue Lou\n",
            "\n",
            "East Of The Sun\n",
            "0.859 Four\n",
            "0.831 Out Of Nowhere\n",
            "0.824 Gregory Is Here\n",
            "0.817 Out Of Nowhere\n",
            "0.816 Ko Ko\n",
            "0.802 Equinox\n",
            "0.800 Best Things In Life Are Free, The\n",
            "0.799 Sweet Sue, Just You\n",
            "0.796 All Of Me\n",
            "0.795 Blue Bossa\n",
            "0.794 Cherokee\n",
            "0.792 Nutville\n",
            "0.792 Saga Of Harrison Crabfeathers, The\n",
            "0.791 Little Sunflower\n",
            "0.790 Phase Dance\n",
            "0.786 Mr. P.C.\n",
            "\n",
            "Footprints\n",
            "0.949 Phase Dance\n",
            "0.938 Cantaloupe Island\n",
            "0.937 Nutville\n",
            "0.936 Song For My Father\n",
            "0.934 Little Sunflower\n",
            "0.931 Bags and Trane\n",
            "0.916 Afro Blue\n",
            "0.915 Saga Of Harrison Crabfeathers, The\n",
            "0.909 Equinox\n",
            "\n",
            "Giant Steps\n",
            "0.877 Minnie The Moocher\n",
            "0.876 Tenor Madness\n",
            "0.866 Lover\n",
            "0.863 Satellite\n",
            "\n",
            "Honeysuckle Rose\n",
            "0.977 Honeysuckle Rose\n",
            "0.882 Move\n",
            "0.878 Sonnymoon For Two\n",
            "0.856 Barbados\n",
            "0.856 Eighty One\n",
            "0.856 I Want To Be Happy\n",
            "\n",
            "I Got Rhythm\n",
            "0.985 I Got Rhythm\n",
            "0.840 Cottontail\n",
            "0.814 Let's Fall In Love\n",
            "0.812 At Last\n",
            "0.792 Get Happy\n",
            "0.785 Days And Nights Waiting\n",
            "0.784 Trane’s Blues\n",
            "0.784 Doxy\n",
            "\n",
            "Misty\n",
            "0.853 Too Young To Go Steady\n",
            "0.851 You Go To My Head\n",
            "0.842 I Remember You\n",
            "0.831 Portrait Of Jennie\n",
            "0.822 Lover\n",
            "0.820 Soon\n",
            "0.820 All God's Chillun Got Rhythm\n",
            "0.815 Again\n",
            "0.808 Fools Rush In\n",
            "0.802 Blue Moon\n",
            "0.798 What's New\n",
            "\n",
            "Naima\n",
            "0.880 Played Twice\n",
            "0.831 Pensativa\n",
            "0.809 Celia\n",
            "0.806 One Note Samba\n",
            "0.804 Minnie The Moocher\n",
            "0.801 Sorcerer, The\n",
            "\n",
            "Old Fashioned Love\n",
            "0.839 Louisiana Fairytale\n",
            "0.806 Aged And Mellow Blues\n",
            "0.799 When I Grow Too Old To Dream\n",
            "0.795 No Moon At All\n",
            "0.785 Tempus Fugit\n",
            "0.783 Little Waltz\n",
            "0.772 What A Wonderful World\n",
            "0.771 Moondance\n",
            "0.764 Lonesome Road  1, The\n",
            "0.761 Running Wild\n",
            "\n",
            "Perdido\n",
            "0.910 You Can Depend On Me\n",
            "0.890 You Do Something To Me\n",
            "0.890 Cherokee\n",
            "0.888 You Can Depend On Me\n",
            "0.885 Well You Needn't\n",
            "0.877 Cheers\n",
            "0.871 Ko Ko\n",
            "0.867 Take The A Train\n",
            "0.867 Caravan\n",
            "\n",
            "Rockin' Chair\n",
            "0.792 Undecided\n",
            "0.787 Limehouse Blues\n",
            "0.759 Rosetta\n",
            "0.757 All About Ronnie\n",
            "0.753 Gee Baby, Ain't I Good To You\n",
            "0.746 I'll See You In My Dreams\n",
            "0.744 Down For Double\n",
            "0.741 Perdido\n",
            "0.740 Rosetta\n",
            "0.740 Jersey Bounce\n",
            "0.739 If You Could See Me Now\n",
            "0.739 Hallucinations\n",
            "0.737 Exactly Like You\n",
            "0.736 Straighten Up And Fly Right\n",
            "\n",
            "Sophisticated Lady\n",
            "0.809 Killer Joe\n",
            "0.778 It Could Happen To You\n",
            "0.778 This Time The Dream's On Me\n",
            "0.773 Let's Get Lost\n",
            "0.763 Minnie The Moocher\n",
            "0.757 Bags' Groove\n",
            "0.756 Easy To Love\n",
            "\n",
            "Sweet Sue, Just You\n",
            "0.828 Get Me To The Church On Time\n",
            "0.828 Dearly Beloved\n",
            "0.819 My Secret Love\n",
            "0.818 Ladies Of Calcutta, The\n",
            "0.809 Honeysuckle Rose\n",
            "0.807 Shiny Stockings\n",
            "0.804 It's A Sin To Tell A Lie\n",
            "0.799 East Of The Sun\n",
            "0.794 My Melancholy Baby\n",
            "0.793 Perdido\n",
            "\n",
            "These Foolish Things\n",
            "0.746 New Orleans\n",
            "0.739 Sunday\n",
            "0.719 Emily\n",
            "0.688 Rosetta\n",
            "0.687 Portrait Of Jennie\n",
            "0.687 Rosetta\n",
            "0.685 Waltz For Debby\n",
            "0.685 Where Are You\n",
            "0.683 All God's Chillun Got Rhythm\n",
            "0.682 Heart And Soul\n",
            "0.677 Try A Little Tenderness\n",
            "\n",
            "We'll Be Together Again\n",
            "0.806 Street Of Dreams\n",
            "0.770 Goodbye\n",
            "0.745 Blue Champagne\n",
            "0.744 Fine And Mellow\n",
            "0.717 Dream A Little Dream Of Me\n",
            "0.717 Cynthia's In Love\n",
            "0.717 Making Whoopee\n"
          ]
        }
      ]
    },
    {
      "cell_type": "markdown",
      "metadata": {
        "id": "XmDZT5t7gjgV"
      },
      "source": [
        "# Venn diagrams for Results"
      ]
    },
    {
      "cell_type": "code",
      "metadata": {
        "id": "1YJ5FLt-2WS4"
      },
      "source": [
        "import matplotlib.pyplot as plt\n",
        "from matplotlib_venn import venn3"
      ],
      "execution_count": 94,
      "outputs": []
    },
    {
      "cell_type": "code",
      "metadata": {
        "id": "U6WrsBcc00ar",
        "colab": {
          "base_uri": "https://localhost:8080/",
          "height": 1000
        },
        "outputId": "f335213b-5f88-4b37-a25f-126b614ad996"
      },
      "source": [
        "for tune in tunes_eval_list:\n",
        "  df, details = recommend_tune(df_tfidf, tune)\n",
        "  tfidf_tunes = list(df.head(30).loc[:,'similar_title'])\n",
        "\n",
        "  df, details = recommend_tune(df_lsi, tune)\n",
        "  lsi_tunes = list(df.head(30).loc[:,'similar_title'])\n",
        "\n",
        "  df, details = recommend_tune(df_word2vec, tune)\n",
        "  word2vec_tunes = list(df.head(30).loc[:,'similar_title'])\n",
        "\n",
        "  set_tfidf = set(tfidf_tunes)\n",
        "  set_lsi = set(lsi_tunes)\n",
        "  set_word2vec = set(word2vec_tunes)\n",
        "\n",
        "  venn3([set_tfidf, set_lsi, set_word2vec], \n",
        "        set_labels=('TF-IDF', 'LSI', 'Doc2Vec'),\n",
        "        )\n",
        "  plt.title(f\"{tune}\")\n",
        "  plt.savefig('plot.png')\n",
        "  wandb.log({\"venn_methods\": wandb.Image('plot.png')})\n",
        "  plt.show()"
      ],
      "execution_count": 95,
      "outputs": [
        {
          "output_type": "display_data",
          "data": {
            "image/png": "[encoded data removed]",
            "text/plain": [
              "<Figure size 432x288 with 1 Axes>"
            ]
          },
          "metadata": {}
        },
        {
          "output_type": "display_data",
          "data": {
            "image/png": "[encoded data removed]",
            "text/plain": [
              "<Figure size 432x288 with 1 Axes>"
            ]
          },
          "metadata": {}
        },
        {
          "output_type": "display_data",
          "data": {
            "image/png": "[encoded data removed]",
            "text/plain": [
              "<Figure size 432x288 with 1 Axes>"
            ]
          },
          "metadata": {}
        },
        {
          "output_type": "display_data",
          "data": {
            "image/png": "[encoded data removed]",
            "text/plain": [
              "<Figure size 432x288 with 1 Axes>"
            ]
          },
          "metadata": {}
        },
        {
          "output_type": "display_data",
          "data": {
            "image/png": "[encoded data removed]",
            "text/plain": [
              "<Figure size 432x288 with 1 Axes>"
            ]
          },
          "metadata": {}
        },
        {
          "output_type": "display_data",
          "data": {
            "image/png": "[encoded data removed]",
            "text/plain": [
              "<Figure size 432x288 with 1 Axes>"
            ]
          },
          "metadata": {}
        },
        {
          "output_type": "display_data",
          "data": {
            "image/png": "[encoded data removed]",
            "text/plain": [
              "<Figure size 432x288 with 1 Axes>"
            ]
          },
          "metadata": {}
        },
        {
          "output_type": "display_data",
          "data": {
            "image/png": "[encoded data removed]",
            "text/plain": [
              "<Figure size 432x288 with 1 Axes>"
            ]
          },
          "metadata": {}
        },
        {
          "output_type": "display_data",
          "data": {
            "image/png": "[encoded data removed]",
            "text/plain": [
              "<Figure size 432x288 with 1 Axes>"
            ]
          },
          "metadata": {}
        },
        {
          "output_type": "display_data",
          "data": {
            "image/png": "[encoded data removed]",
            "text/plain": [
              "<Figure size 432x288 with 1 Axes>"
            ]
          },
          "metadata": {}
        },
        {
          "output_type": "display_data",
          "data": {
            "image/png": "[encoded data removed]",
            "text/plain": [
              "<Figure size 432x288 with 1 Axes>"
            ]
          },
          "metadata": {}
        },
        {
          "output_type": "display_data",
          "data": {
            "image/png": "[encoded data removed]",
            "text/plain": [
              "<Figure size 432x288 with 1 Axes>"
            ]
          },
          "metadata": {}
        },
        {
          "output_type": "display_data",
          "data": {
            "image/png": "[encoded data removed]",
            "text/plain": [
              "<Figure size 432x288 with 1 Axes>"
            ]
          },
          "metadata": {}
        },
        {
          "output_type": "display_data",
          "data": {
            "image/png": "[encoded data removed]",
            "text/plain": [
              "<Figure size 432x288 with 1 Axes>"
            ]
          },
          "metadata": {}
        },
        {
          "output_type": "display_data",
          "data": {
            "image/png": "[encoded data removed]",
            "text/plain": [
              "<Figure size 432x288 with 1 Axes>"
            ]
          },
          "metadata": {}
        },
        {
          "output_type": "display_data",
          "data": {
            "image/png": "[encoded data removed]",
            "text/plain": [
              "<Figure size 432x288 with 1 Axes>"
            ]
          },
          "metadata": {}
        },
        {
          "output_type": "display_data",
          "data": {
            "image/png": "[encoded data removed]",
            "text/plain": [
              "<Figure size 432x288 with 1 Axes>"
            ]
          },
          "metadata": {}
        },
        {
          "output_type": "display_data",
          "data": {
            "image/png": "[encoded data removed]",
            "text/plain": [
              "<Figure size 432x288 with 1 Axes>"
            ]
          },
          "metadata": {}
        },
        {
          "output_type": "display_data",
          "data": {
            "image/png": "[encoded data removed]",
            "text/plain": [
              "<Figure size 432x288 with 1 Axes>"
            ]
          },
          "metadata": {}
        },
        {
          "output_type": "display_data",
          "data": {
            "image/png": "[encoded data removed]",
            "text/plain": [
              "<Figure size 432x288 with 1 Axes>"
            ]
          },
          "metadata": {}
        },
        {
          "output_type": "display_data",
          "data": {
            "image/png": "[encoded data removed]",
            "text/plain": [
              "<Figure size 432x288 with 1 Axes>"
            ]
          },
          "metadata": {}
        },
        {
          "output_type": "display_data",
          "data": {
            "image/png": "[encoded data removed]",
            "text/plain": [
              "<Figure size 432x288 with 1 Axes>"
            ]
          },
          "metadata": {}
        },
        {
          "output_type": "display_data",
          "data": {
            "image/png": "[encoded data removed]",
            "text/plain": [
              "<Figure size 432x288 with 1 Axes>"
            ]
          },
          "metadata": {}
        },
        {
          "output_type": "display_data",
          "data": {
            "image/png": "[encoded data removed]",
            "text/plain": [
              "<Figure size 432x288 with 1 Axes>"
            ]
          },
          "metadata": {}
        }
      ]
    },
    {
      "cell_type": "markdown",
      "metadata": {
        "id": "RhOWHSEU0DQH"
      },
      "source": [
        "# W&B Logging and Finish"
      ]
    },
    {
      "cell_type": "code",
      "metadata": {
        "colab": {
          "base_uri": "https://localhost:8080/",
          "height": 424
        },
        "id": "9yt-cob54ZzN",
        "outputId": "8dbe0599-27d8-4ca2-9ca1-6aa1d1d083bd"
      },
      "source": [
        "recommender_results"
      ],
      "execution_count": 96,
      "outputs": [
        {
          "output_type": "execute_result",
          "data": {
            "text/html": [
              "<div>\n",
              "<style scoped>\n",
              "    .dataframe tbody tr th:only-of-type {\n",
              "        vertical-align: middle;\n",
              "    }\n",
              "\n",
              "    .dataframe tbody tr th {\n",
              "        vertical-align: top;\n",
              "    }\n",
              "\n",
              "    .dataframe thead th {\n",
              "        text-align: right;\n",
              "    }\n",
              "</style>\n",
              "<table border=\"1\" class=\"dataframe\">\n",
              "  <thead>\n",
              "    <tr style=\"text-align: right;\">\n",
              "      <th></th>\n",
              "      <th>reference</th>\n",
              "      <th>id</th>\n",
              "      <th>method</th>\n",
              "      <th>similar</th>\n",
              "      <th>score_div_max</th>\n",
              "      <th>score</th>\n",
              "    </tr>\n",
              "  </thead>\n",
              "  <tbody>\n",
              "    <tr>\n",
              "      <th>0</th>\n",
              "      <td>We'll Be Together Again</td>\n",
              "      <td>0.0</td>\n",
              "      <td>tfidf</td>\n",
              "      <td>Don't Know Why</td>\n",
              "      <td>1.000000</td>\n",
              "      <td>0.281678</td>\n",
              "    </tr>\n",
              "    <tr>\n",
              "      <th>1</th>\n",
              "      <td>We'll Be Together Again</td>\n",
              "      <td>1.0</td>\n",
              "      <td>tfidf</td>\n",
              "      <td>Street Of Dreams</td>\n",
              "      <td>1.000000</td>\n",
              "      <td>0.422561</td>\n",
              "    </tr>\n",
              "    <tr>\n",
              "      <th>2</th>\n",
              "      <td>We'll Be Together Again</td>\n",
              "      <td>2.0</td>\n",
              "      <td>tfidf</td>\n",
              "      <td>Don't Blame Me</td>\n",
              "      <td>0.913268</td>\n",
              "      <td>0.257248</td>\n",
              "    </tr>\n",
              "    <tr>\n",
              "      <th>3</th>\n",
              "      <td>We'll Be Together Again</td>\n",
              "      <td>3.0</td>\n",
              "      <td>tfidf</td>\n",
              "      <td>Straight Street</td>\n",
              "      <td>0.890178</td>\n",
              "      <td>0.250744</td>\n",
              "    </tr>\n",
              "    <tr>\n",
              "      <th>4</th>\n",
              "      <td>We'll Be Together Again</td>\n",
              "      <td>4.0</td>\n",
              "      <td>tfidf</td>\n",
              "      <td>Goodbye</td>\n",
              "      <td>0.821184</td>\n",
              "      <td>0.347000</td>\n",
              "    </tr>\n",
              "    <tr>\n",
              "      <th>...</th>\n",
              "      <td>...</td>\n",
              "      <td>...</td>\n",
              "      <td>...</td>\n",
              "      <td>...</td>\n",
              "      <td>...</td>\n",
              "      <td>...</td>\n",
              "    </tr>\n",
              "    <tr>\n",
              "      <th>58</th>\n",
              "      <td>We'll Be Together Again</td>\n",
              "      <td>NaN</td>\n",
              "      <td>doc2vec</td>\n",
              "      <td>NaN</td>\n",
              "      <td>NaN</td>\n",
              "      <td>NaN</td>\n",
              "    </tr>\n",
              "    <tr>\n",
              "      <th>59</th>\n",
              "      <td>We'll Be Together Again</td>\n",
              "      <td>NaN</td>\n",
              "      <td>doc2vec</td>\n",
              "      <td>NaN</td>\n",
              "      <td>NaN</td>\n",
              "      <td>NaN</td>\n",
              "    </tr>\n",
              "    <tr>\n",
              "      <th>60</th>\n",
              "      <td>We'll Be Together Again</td>\n",
              "      <td>NaN</td>\n",
              "      <td>doc2vec</td>\n",
              "      <td>NaN</td>\n",
              "      <td>NaN</td>\n",
              "      <td>NaN</td>\n",
              "    </tr>\n",
              "    <tr>\n",
              "      <th>61</th>\n",
              "      <td>We'll Be Together Again</td>\n",
              "      <td>NaN</td>\n",
              "      <td>doc2vec</td>\n",
              "      <td>NaN</td>\n",
              "      <td>NaN</td>\n",
              "      <td>NaN</td>\n",
              "    </tr>\n",
              "    <tr>\n",
              "      <th>62</th>\n",
              "      <td>We'll Be Together Again</td>\n",
              "      <td>NaN</td>\n",
              "      <td>doc2vec</td>\n",
              "      <td>NaN</td>\n",
              "      <td>NaN</td>\n",
              "      <td>NaN</td>\n",
              "    </tr>\n",
              "  </tbody>\n",
              "</table>\n",
              "<p>178 rows × 6 columns</p>\n",
              "</div>"
            ],
            "text/plain": [
              "                  reference   id  ... score_div_max     score\n",
              "0   We'll Be Together Again  0.0  ...      1.000000  0.281678\n",
              "1   We'll Be Together Again  1.0  ...      1.000000  0.422561\n",
              "2   We'll Be Together Again  2.0  ...      0.913268  0.257248\n",
              "3   We'll Be Together Again  3.0  ...      0.890178  0.250744\n",
              "4   We'll Be Together Again  4.0  ...      0.821184  0.347000\n",
              "..                      ...  ...  ...           ...       ...\n",
              "58  We'll Be Together Again  NaN  ...           NaN       NaN\n",
              "59  We'll Be Together Again  NaN  ...           NaN       NaN\n",
              "60  We'll Be Together Again  NaN  ...           NaN       NaN\n",
              "61  We'll Be Together Again  NaN  ...           NaN       NaN\n",
              "62  We'll Be Together Again  NaN  ...           NaN       NaN\n",
              "\n",
              "[178 rows x 6 columns]"
            ]
          },
          "metadata": {},
          "execution_count": 96
        }
      ]
    },
    {
      "cell_type": "code",
      "metadata": {
        "id": "Qm7BPMM_ihop",
        "colab": {
          "base_uri": "https://localhost:8080/",
          "height": 791
        },
        "outputId": "4e5db912-e73f-42b3-cc75-8613f88aef4f"
      },
      "source": [
        "recommender_results = recommender_results.reset_index()\n",
        "\n",
        "results = recommender_results.pivot(index=['index', 'reference', 'similar'], columns='method', values=['id', 'score', 'score_div_max'])\n",
        "results.columns = ['_'.join(col) for col in results.columns]\n",
        "results = results.reset_index()\n",
        "results"
      ],
      "execution_count": 97,
      "outputs": [
        {
          "output_type": "execute_result",
          "data": {
            "text/html": [
              "<div>\n",
              "<style scoped>\n",
              "    .dataframe tbody tr th:only-of-type {\n",
              "        vertical-align: middle;\n",
              "    }\n",
              "\n",
              "    .dataframe tbody tr th {\n",
              "        vertical-align: top;\n",
              "    }\n",
              "\n",
              "    .dataframe thead th {\n",
              "        text-align: right;\n",
              "    }\n",
              "</style>\n",
              "<table border=\"1\" class=\"dataframe\">\n",
              "  <thead>\n",
              "    <tr style=\"text-align: right;\">\n",
              "      <th></th>\n",
              "      <th>index</th>\n",
              "      <th>reference</th>\n",
              "      <th>similar</th>\n",
              "      <th>id_doc2vec</th>\n",
              "      <th>id_lsi</th>\n",
              "      <th>id_tfidf</th>\n",
              "      <th>score_doc2vec</th>\n",
              "      <th>score_lsi</th>\n",
              "      <th>score_tfidf</th>\n",
              "      <th>score_div_max_doc2vec</th>\n",
              "      <th>score_div_max_lsi</th>\n",
              "      <th>score_div_max_tfidf</th>\n",
              "    </tr>\n",
              "  </thead>\n",
              "  <tbody>\n",
              "    <tr>\n",
              "      <th>0</th>\n",
              "      <td>0</td>\n",
              "      <td>We'll Be Together Again</td>\n",
              "      <td>Begin The Beguine</td>\n",
              "      <td>0.0</td>\n",
              "      <td>0.0</td>\n",
              "      <td>NaN</td>\n",
              "      <td>0.785531</td>\n",
              "      <td>0.785531</td>\n",
              "      <td>NaN</td>\n",
              "      <td>1.00000</td>\n",
              "      <td>1.00000</td>\n",
              "      <td>NaN</td>\n",
              "    </tr>\n",
              "    <tr>\n",
              "      <th>1</th>\n",
              "      <td>0</td>\n",
              "      <td>We'll Be Together Again</td>\n",
              "      <td>Don't Know Why</td>\n",
              "      <td>NaN</td>\n",
              "      <td>NaN</td>\n",
              "      <td>0.0</td>\n",
              "      <td>NaN</td>\n",
              "      <td>NaN</td>\n",
              "      <td>0.281678</td>\n",
              "      <td>NaN</td>\n",
              "      <td>NaN</td>\n",
              "      <td>1.000000</td>\n",
              "    </tr>\n",
              "    <tr>\n",
              "      <th>2</th>\n",
              "      <td>1</td>\n",
              "      <td>We'll Be Together Again</td>\n",
              "      <td>Street Of Dreams</td>\n",
              "      <td>1.0</td>\n",
              "      <td>1.0</td>\n",
              "      <td>1.0</td>\n",
              "      <td>0.928580</td>\n",
              "      <td>0.928580</td>\n",
              "      <td>0.422561</td>\n",
              "      <td>1.00000</td>\n",
              "      <td>1.00000</td>\n",
              "      <td>1.000000</td>\n",
              "    </tr>\n",
              "    <tr>\n",
              "      <th>3</th>\n",
              "      <td>2</td>\n",
              "      <td>We'll Be Together Again</td>\n",
              "      <td>Darn That Dream</td>\n",
              "      <td>2.0</td>\n",
              "      <td>2.0</td>\n",
              "      <td>NaN</td>\n",
              "      <td>0.749341</td>\n",
              "      <td>0.749341</td>\n",
              "      <td>NaN</td>\n",
              "      <td>0.96297</td>\n",
              "      <td>0.96297</td>\n",
              "      <td>NaN</td>\n",
              "    </tr>\n",
              "    <tr>\n",
              "      <th>4</th>\n",
              "      <td>2</td>\n",
              "      <td>We'll Be Together Again</td>\n",
              "      <td>Don't Blame Me</td>\n",
              "      <td>NaN</td>\n",
              "      <td>NaN</td>\n",
              "      <td>2.0</td>\n",
              "      <td>NaN</td>\n",
              "      <td>NaN</td>\n",
              "      <td>0.257248</td>\n",
              "      <td>NaN</td>\n",
              "      <td>NaN</td>\n",
              "      <td>0.913268</td>\n",
              "    </tr>\n",
              "    <tr>\n",
              "      <th>...</th>\n",
              "      <td>...</td>\n",
              "      <td>...</td>\n",
              "      <td>...</td>\n",
              "      <td>...</td>\n",
              "      <td>...</td>\n",
              "      <td>...</td>\n",
              "      <td>...</td>\n",
              "      <td>...</td>\n",
              "      <td>...</td>\n",
              "      <td>...</td>\n",
              "      <td>...</td>\n",
              "      <td>...</td>\n",
              "    </tr>\n",
              "    <tr>\n",
              "      <th>99</th>\n",
              "      <td>58</td>\n",
              "      <td>We'll Be Together Again</td>\n",
              "      <td>NaN</td>\n",
              "      <td>NaN</td>\n",
              "      <td>NaN</td>\n",
              "      <td>NaN</td>\n",
              "      <td>NaN</td>\n",
              "      <td>NaN</td>\n",
              "      <td>NaN</td>\n",
              "      <td>NaN</td>\n",
              "      <td>NaN</td>\n",
              "      <td>NaN</td>\n",
              "    </tr>\n",
              "    <tr>\n",
              "      <th>100</th>\n",
              "      <td>59</td>\n",
              "      <td>We'll Be Together Again</td>\n",
              "      <td>NaN</td>\n",
              "      <td>NaN</td>\n",
              "      <td>NaN</td>\n",
              "      <td>NaN</td>\n",
              "      <td>NaN</td>\n",
              "      <td>NaN</td>\n",
              "      <td>NaN</td>\n",
              "      <td>NaN</td>\n",
              "      <td>NaN</td>\n",
              "      <td>NaN</td>\n",
              "    </tr>\n",
              "    <tr>\n",
              "      <th>101</th>\n",
              "      <td>60</td>\n",
              "      <td>We'll Be Together Again</td>\n",
              "      <td>NaN</td>\n",
              "      <td>NaN</td>\n",
              "      <td>NaN</td>\n",
              "      <td>NaN</td>\n",
              "      <td>NaN</td>\n",
              "      <td>NaN</td>\n",
              "      <td>NaN</td>\n",
              "      <td>NaN</td>\n",
              "      <td>NaN</td>\n",
              "      <td>NaN</td>\n",
              "    </tr>\n",
              "    <tr>\n",
              "      <th>102</th>\n",
              "      <td>61</td>\n",
              "      <td>We'll Be Together Again</td>\n",
              "      <td>NaN</td>\n",
              "      <td>NaN</td>\n",
              "      <td>NaN</td>\n",
              "      <td>NaN</td>\n",
              "      <td>NaN</td>\n",
              "      <td>NaN</td>\n",
              "      <td>NaN</td>\n",
              "      <td>NaN</td>\n",
              "      <td>NaN</td>\n",
              "      <td>NaN</td>\n",
              "    </tr>\n",
              "    <tr>\n",
              "      <th>103</th>\n",
              "      <td>62</td>\n",
              "      <td>We'll Be Together Again</td>\n",
              "      <td>NaN</td>\n",
              "      <td>NaN</td>\n",
              "      <td>NaN</td>\n",
              "      <td>NaN</td>\n",
              "      <td>NaN</td>\n",
              "      <td>NaN</td>\n",
              "      <td>NaN</td>\n",
              "      <td>NaN</td>\n",
              "      <td>NaN</td>\n",
              "      <td>NaN</td>\n",
              "    </tr>\n",
              "  </tbody>\n",
              "</table>\n",
              "<p>104 rows × 12 columns</p>\n",
              "</div>"
            ],
            "text/plain": [
              "     index                reference  ... score_div_max_lsi  score_div_max_tfidf\n",
              "0        0  We'll Be Together Again  ...           1.00000                  NaN\n",
              "1        0  We'll Be Together Again  ...               NaN             1.000000\n",
              "2        1  We'll Be Together Again  ...           1.00000             1.000000\n",
              "3        2  We'll Be Together Again  ...           0.96297                  NaN\n",
              "4        2  We'll Be Together Again  ...               NaN             0.913268\n",
              "..     ...                      ...  ...               ...                  ...\n",
              "99      58  We'll Be Together Again  ...               NaN                  NaN\n",
              "100     59  We'll Be Together Again  ...               NaN                  NaN\n",
              "101     60  We'll Be Together Again  ...               NaN                  NaN\n",
              "102     61  We'll Be Together Again  ...               NaN                  NaN\n",
              "103     62  We'll Be Together Again  ...               NaN                  NaN\n",
              "\n",
              "[104 rows x 12 columns]"
            ]
          },
          "metadata": {},
          "execution_count": 97
        }
      ]
    },
    {
      "cell_type": "code",
      "metadata": {
        "id": "ziq-dZ16Sdgg"
      },
      "source": [
        "table = wandb.Table(dataframe=results)\n",
        "wandb.log({\"recommender results\": results})"
      ],
      "execution_count": 98,
      "outputs": []
    },
    {
      "cell_type": "code",
      "metadata": {
        "colab": {
          "base_uri": "https://localhost:8080/",
          "height": 125,
          "referenced_widgets": [
            "3d224c8d4bfb402191827ef655968681",
            "afcbd5d15001460da2b1ef42f4d345a8",
            "9ef3407aa64c45639d3fa164333b8950",
            "d2856fba434a43859d7f7bb3cfe62f36",
            "6052deca040444ce9f2dd4e0de9be7e4",
            "1abc8fdf1c9144b8b8a03c6a1c02b9b7",
            "4ee73a528c054189bf88809c5e50ea6b",
            "66b6db714e174289a9b55c54673db438"
          ]
        },
        "id": "YMUDRHkm0aMV",
        "outputId": "d7b9872f-fcb9-4ef0-9dee-82de09d69b5c"
      },
      "source": [
        "wandb.finish()"
      ],
      "execution_count": 99,
      "outputs": [
        {
          "output_type": "display_data",
          "data": {
            "text/html": [
              "<br/>Waiting for W&B process to finish, PID 3022... <strong style=\"color:green\">(success).</strong>"
            ],
            "text/plain": [
              "<IPython.core.display.HTML object>"
            ]
          },
          "metadata": {}
        },
        {
          "output_type": "display_data",
          "data": {
            "application/vnd.jupyter.widget-view+json": {
              "model_id": "3d224c8d4bfb402191827ef655968681",
              "version_minor": 0,
              "version_major": 2
            },
            "text/plain": [
              "VBox(children=(Label(value=' 19.14MB of 19.14MB uploaded (0.00MB deduped)\\r'), FloatProgress(value=1.0, max=1.…"
            ]
          },
          "metadata": {}
        },
        {
          "output_type": "display_data",
          "data": {
            "text/html": [
              "<style>\n",
              "    table.wandb td:nth-child(1) { padding: 0 10px; text-align: right }\n",
              "    .wandb-row { display: flex; flex-direction: row; flex-wrap: wrap; width: 100% }\n",
              "    .wandb-col { display: flex; flex-direction: column; flex-basis: 100%; flex: 1; padding: 10px; }\n",
              "    </style>\n",
              "<div class=\"wandb-row\"><div class=\"wandb-col\">\n",
              "</div><div class=\"wandb-col\">\n",
              "</div></div>\n",
              "Synced 5 W&B file(s), 29 media file(s), 7 artifact file(s) and 0 other file(s)\n",
              "<br/>Synced <strong style=\"color:#cdcd00\">cerulean-sunset-15</strong>: <a href=\"https://wandb.ai/doris/jazztunes/runs/3e1ic7cb\" target=\"_blank\">https://wandb.ai/doris/jazztunes/runs/3e1ic7cb</a><br/>\n",
              "Find logs at: <code>./wandb/run-20211122_204109-3e1ic7cb/logs</code><br/>\n"
            ],
            "text/plain": [
              "<IPython.core.display.HTML object>"
            ]
          },
          "metadata": {}
        }
      ]
    },
    {
      "cell_type": "code",
      "metadata": {
        "id": "Vn_SFyKt0bYx"
      },
      "source": [
        ""
      ],
      "execution_count": 99,
      "outputs": []
    }
  ]
}