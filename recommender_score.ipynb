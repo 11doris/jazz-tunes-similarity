{
  "nbformat": 4,
  "nbformat_minor": 0,
  "metadata": {
    "colab": {
      "name": "recommender_score",
      "provenance": [],
      "toc_visible": true,
      "authorship_tag": "ABX9TyOT1FAVgBErsZSlw66YIiIN",
      "include_colab_link": true
    },
    "kernelspec": {
      "name": "python3",
      "display_name": "Python 3"
    },
    "language_info": {
      "name": "python"
    }
  },
  "cells": [
    {
      "cell_type": "markdown",
      "metadata": {
        "id": "view-in-github",
        "colab_type": "text"
      },
      "source": [
        "<a href=\"https://colab.research.google.com/github/11doris/jazz-maestro/blob/colab_word_embeddings/recommender_score.ipynb\" target=\"_parent\"><img src=\"https://colab.research.google.com/assets/colab-badge.svg\" alt=\"Open In Colab\"/></a>"
      ]
    },
    {
      "cell_type": "markdown",
      "metadata": {
        "id": "YGhakKpa8Dtf"
      },
      "source": [
        "# Sections as Input"
      ]
    },
    {
      "cell_type": "code",
      "metadata": {
        "colab": {
          "base_uri": "https://localhost:8080/"
        },
        "id": "MUy1ta4_782n",
        "outputId": "ebda82cd-f84d-4c12-e411-9874c2ace01f"
      },
      "source": [
        "!pip uninstall gensim -y"
      ],
      "execution_count": 1,
      "outputs": [
        {
          "output_type": "stream",
          "name": "stdout",
          "text": [
            "Found existing installation: gensim 4.1.2\n",
            "Uninstalling gensim-4.1.2:\n",
            "  Successfully uninstalled gensim-4.1.2\n"
          ]
        }
      ]
    },
    {
      "cell_type": "code",
      "metadata": {
        "colab": {
          "base_uri": "https://localhost:8080/"
        },
        "id": "oAroxmvO8GQj",
        "outputId": "33b87746-a225-484b-ed9c-0462438e228f"
      },
      "source": [
        "!pip install gensim"
      ],
      "execution_count": 2,
      "outputs": [
        {
          "output_type": "stream",
          "name": "stdout",
          "text": [
            "Collecting gensim\n",
            "  Using cached gensim-4.1.2-cp37-cp37m-manylinux_2_12_x86_64.manylinux2010_x86_64.whl (24.1 MB)\n",
            "Requirement already satisfied: scipy>=0.18.1 in /usr/local/lib/python3.7/dist-packages (from gensim) (1.4.1)\n",
            "Requirement already satisfied: smart-open>=1.8.1 in /usr/local/lib/python3.7/dist-packages (from gensim) (5.2.1)\n",
            "Requirement already satisfied: numpy>=1.17.0 in /usr/local/lib/python3.7/dist-packages (from gensim) (1.19.5)\n",
            "Installing collected packages: gensim\n",
            "Successfully installed gensim-4.1.2\n"
          ]
        }
      ]
    },
    {
      "cell_type": "code",
      "metadata": {
        "id": "6SZ0zrKX8H-D"
      },
      "source": [
        "import gensim\n",
        "from sklearn.manifold import TSNE\n",
        "import matplotlib.pyplot as plt\n",
        "import pprint\n",
        "import pandas as pd\n",
        "import numpy as np\n",
        "from collections import Counter\n",
        "import plotly.express as px\n",
        "from tqdm import tqdm \n",
        "from gensim.models.doc2vec import Doc2Vec\n",
        "import pickle\n",
        "import os"
      ],
      "execution_count": 3,
      "outputs": []
    },
    {
      "cell_type": "code",
      "metadata": {
        "id": "znWar-PK8KHT"
      },
      "source": [
        "import logging\n",
        "logging.basicConfig(format='%(asctime)s : %(levelname)s : %(message)s', level=logging.INFO)"
      ],
      "execution_count": 4,
      "outputs": []
    },
    {
      "cell_type": "code",
      "metadata": {
        "colab": {
          "base_uri": "https://localhost:8080/"
        },
        "id": "kjCf_Abf8MCc",
        "outputId": "bf39c164-8eee-445e-859d-d6ff42ca2483"
      },
      "source": [
        "print(gensim.__version__)"
      ],
      "execution_count": 5,
      "outputs": [
        {
          "output_type": "stream",
          "name": "stdout",
          "text": [
            "4.1.2\n"
          ]
        }
      ]
    },
    {
      "cell_type": "markdown",
      "metadata": {
        "id": "gcexO7zK8Pn6"
      },
      "source": [
        "# Initialization\n",
        "\n",
        "## Download the Data"
      ]
    },
    {
      "cell_type": "markdown",
      "metadata": {
        "id": "u_RrQ2vA8Uel"
      },
      "source": [
        "### Basic Plus Chords\n",
        "M7 and 6 reduced to major triad, m7 reduced to m, dominant 7, m7b5, diminished, and all (b5) left as they are."
      ]
    },
    {
      "cell_type": "code",
      "metadata": {
        "colab": {
          "base_uri": "https://localhost:8080/"
        },
        "id": "NoAMCPT78Nc_",
        "outputId": "46022df2-b901-45bf-f615-6473be1b31ef"
      },
      "source": [
        "!wget --no-check-certificate 'https://docs.google.com/uc?export=download&id=17djlZRWFSUCviOxRTOF-nwbbZqU5gUP9' -O data.csv"
      ],
      "execution_count": 6,
      "outputs": [
        {
          "output_type": "stream",
          "name": "stdout",
          "text": [
            "--2021-11-19 22:12:57--  https://docs.google.com/uc?export=download&id=17djlZRWFSUCviOxRTOF-nwbbZqU5gUP9\n",
            "Resolving docs.google.com (docs.google.com)... 74.125.70.138, 74.125.70.113, 74.125.70.101, ...\n",
            "Connecting to docs.google.com (docs.google.com)|74.125.70.138|:443... connected.\n",
            "HTTP request sent, awaiting response... 302 Moved Temporarily\n",
            "Location: https://doc-0s-4c-docs.googleusercontent.com/docs/securesc/ha0ro937gcuc7l7deffksulhg5h7mbp1/58lp8r0s32ccb2710dpde55birdrke3k/1637359950000/14329102864480165501/*/17djlZRWFSUCviOxRTOF-nwbbZqU5gUP9?e=download [following]\n",
            "Warning: wildcards not supported in HTTP.\n",
            "--2021-11-19 22:12:58--  https://doc-0s-4c-docs.googleusercontent.com/docs/securesc/ha0ro937gcuc7l7deffksulhg5h7mbp1/58lp8r0s32ccb2710dpde55birdrke3k/1637359950000/14329102864480165501/*/17djlZRWFSUCviOxRTOF-nwbbZqU5gUP9?e=download\n",
            "Resolving doc-0s-4c-docs.googleusercontent.com (doc-0s-4c-docs.googleusercontent.com)... 108.177.111.132, 2607:f8b0:4001:c07::84\n",
            "Connecting to doc-0s-4c-docs.googleusercontent.com (doc-0s-4c-docs.googleusercontent.com)|108.177.111.132|:443... connected.\n",
            "HTTP request sent, awaiting response... 200 OK\n",
            "Length: 664119 (649K) [text/csv]\n",
            "Saving to: ‘data.csv’\n",
            "\n",
            "data.csv            100%[===================>] 648.55K  --.-KB/s    in 0.006s  \n",
            "\n",
            "2021-11-19 22:12:58 (98.1 MB/s) - ‘data.csv’ saved [664119/664119]\n",
            "\n"
          ]
        }
      ]
    },
    {
      "cell_type": "markdown",
      "metadata": {
        "id": "Ljs21B7h8YvC"
      },
      "source": [
        "### Read Chords Input Data"
      ]
    },
    {
      "cell_type": "code",
      "metadata": {
        "colab": {
          "base_uri": "https://localhost:8080/",
          "height": 241
        },
        "id": "B7kK418L8aac",
        "outputId": "7d747c93-fe51-443b-ef78-e5e27b9c5679"
      },
      "source": [
        "path_to_file = '/content/data.csv'\n",
        "df = pd.read_csv(path_to_file, sep='\\t', index_col=\"id\")\n",
        "df = df.reset_index()\n",
        "df.head(5)"
      ],
      "execution_count": 7,
      "outputs": [
        {
          "output_type": "execute_result",
          "data": {
            "text/html": [
              "<div>\n",
              "<style scoped>\n",
              "    .dataframe tbody tr th:only-of-type {\n",
              "        vertical-align: middle;\n",
              "    }\n",
              "\n",
              "    .dataframe tbody tr th {\n",
              "        vertical-align: top;\n",
              "    }\n",
              "\n",
              "    .dataframe thead th {\n",
              "        text-align: right;\n",
              "    }\n",
              "</style>\n",
              "<table border=\"1\" class=\"dataframe\">\n",
              "  <thead>\n",
              "    <tr style=\"text-align: right;\">\n",
              "      <th></th>\n",
              "      <th>id</th>\n",
              "      <th>file_name</th>\n",
              "      <th>title</th>\n",
              "      <th>tune_mode</th>\n",
              "      <th>tune_id</th>\n",
              "      <th>section_name</th>\n",
              "      <th>section_id</th>\n",
              "      <th>chords</th>\n",
              "    </tr>\n",
              "  </thead>\n",
              "  <tbody>\n",
              "    <tr>\n",
              "      <th>0</th>\n",
              "      <td>0</td>\n",
              "      <td>dataset/jazz1350/26-2.xml</td>\n",
              "      <td>26-2</td>\n",
              "      <td>major</td>\n",
              "      <td>0</td>\n",
              "      <td>A</td>\n",
              "      <td>1</td>\n",
              "      <td>C Eb7 G# B7 E G7 Gm C7 F G#7 C# E7 Am D7 Dm G7</td>\n",
              "    </tr>\n",
              "    <tr>\n",
              "      <th>1</th>\n",
              "      <td>1</td>\n",
              "      <td>dataset/jazz1350/26-2.xml</td>\n",
              "      <td>26-2</td>\n",
              "      <td>major</td>\n",
              "      <td>0</td>\n",
              "      <td>A</td>\n",
              "      <td>2</td>\n",
              "      <td>C Eb7 G# B7 E G7 Gm C7 F Eb7 G# B7 E G7 C</td>\n",
              "    </tr>\n",
              "    <tr>\n",
              "      <th>2</th>\n",
              "      <td>2</td>\n",
              "      <td>dataset/jazz1350/26-2.xml</td>\n",
              "      <td>26-2</td>\n",
              "      <td>major</td>\n",
              "      <td>0</td>\n",
              "      <td>B</td>\n",
              "      <td>3</td>\n",
              "      <td>Gm C7 Bm E7 A C7 F Bbm Eb7 G# Dm G7</td>\n",
              "    </tr>\n",
              "    <tr>\n",
              "      <th>3</th>\n",
              "      <td>3</td>\n",
              "      <td>dataset/jazz1350/26-2.xml</td>\n",
              "      <td>26-2</td>\n",
              "      <td>major</td>\n",
              "      <td>0</td>\n",
              "      <td>A</td>\n",
              "      <td>4</td>\n",
              "      <td>C Eb7 G# B7 E G7 Gm C7 F Eb7 G# B7 E G7 C</td>\n",
              "    </tr>\n",
              "    <tr>\n",
              "      <th>4</th>\n",
              "      <td>4</td>\n",
              "      <td>dataset/jazz1350/500 Miles High.xml</td>\n",
              "      <td>500 Miles High</td>\n",
              "      <td>minor</td>\n",
              "      <td>1</td>\n",
              "      <td>NaN</td>\n",
              "      <td>0</td>\n",
              "      <td>Am Am Cm Cm Eb Eb Em7b5 A7 Dm Dm Bm7b5 Bm7b5 B...</td>\n",
              "    </tr>\n",
              "  </tbody>\n",
              "</table>\n",
              "</div>"
            ],
            "text/plain": [
              "   id  ...                                             chords\n",
              "0   0  ...     C Eb7 G# B7 E G7 Gm C7 F G#7 C# E7 Am D7 Dm G7\n",
              "1   1  ...          C Eb7 G# B7 E G7 Gm C7 F Eb7 G# B7 E G7 C\n",
              "2   2  ...                Gm C7 Bm E7 A C7 F Bbm Eb7 G# Dm G7\n",
              "3   3  ...          C Eb7 G# B7 E G7 Gm C7 F Eb7 G# B7 E G7 C\n",
              "4   4  ...  Am Am Cm Cm Eb Eb Em7b5 A7 Dm Dm Bm7b5 Bm7b5 B...\n",
              "\n",
              "[5 rows x 8 columns]"
            ]
          },
          "metadata": {},
          "execution_count": 7
        }
      ]
    },
    {
      "cell_type": "markdown",
      "metadata": {
        "id": "OsPcEFbg8gu6"
      },
      "source": [
        "### Meta Data"
      ]
    },
    {
      "cell_type": "code",
      "metadata": {
        "colab": {
          "base_uri": "https://localhost:8080/",
          "height": 363
        },
        "id": "KdS8QLnJ8bI6",
        "outputId": "6fa99d35-ff38-4fb6-88b5-7580e227ef39"
      },
      "source": [
        "titles = df.loc[:, ['id', 'tune_id', 'section_id', 'section_name', 'title', 'tune_mode']]\n",
        "titles[:10]"
      ],
      "execution_count": 8,
      "outputs": [
        {
          "output_type": "execute_result",
          "data": {
            "text/html": [
              "<div>\n",
              "<style scoped>\n",
              "    .dataframe tbody tr th:only-of-type {\n",
              "        vertical-align: middle;\n",
              "    }\n",
              "\n",
              "    .dataframe tbody tr th {\n",
              "        vertical-align: top;\n",
              "    }\n",
              "\n",
              "    .dataframe thead th {\n",
              "        text-align: right;\n",
              "    }\n",
              "</style>\n",
              "<table border=\"1\" class=\"dataframe\">\n",
              "  <thead>\n",
              "    <tr style=\"text-align: right;\">\n",
              "      <th></th>\n",
              "      <th>id</th>\n",
              "      <th>tune_id</th>\n",
              "      <th>section_id</th>\n",
              "      <th>section_name</th>\n",
              "      <th>title</th>\n",
              "      <th>tune_mode</th>\n",
              "    </tr>\n",
              "  </thead>\n",
              "  <tbody>\n",
              "    <tr>\n",
              "      <th>0</th>\n",
              "      <td>0</td>\n",
              "      <td>0</td>\n",
              "      <td>1</td>\n",
              "      <td>A</td>\n",
              "      <td>26-2</td>\n",
              "      <td>major</td>\n",
              "    </tr>\n",
              "    <tr>\n",
              "      <th>1</th>\n",
              "      <td>1</td>\n",
              "      <td>0</td>\n",
              "      <td>2</td>\n",
              "      <td>A</td>\n",
              "      <td>26-2</td>\n",
              "      <td>major</td>\n",
              "    </tr>\n",
              "    <tr>\n",
              "      <th>2</th>\n",
              "      <td>2</td>\n",
              "      <td>0</td>\n",
              "      <td>3</td>\n",
              "      <td>B</td>\n",
              "      <td>26-2</td>\n",
              "      <td>major</td>\n",
              "    </tr>\n",
              "    <tr>\n",
              "      <th>3</th>\n",
              "      <td>3</td>\n",
              "      <td>0</td>\n",
              "      <td>4</td>\n",
              "      <td>A</td>\n",
              "      <td>26-2</td>\n",
              "      <td>major</td>\n",
              "    </tr>\n",
              "    <tr>\n",
              "      <th>4</th>\n",
              "      <td>4</td>\n",
              "      <td>1</td>\n",
              "      <td>0</td>\n",
              "      <td>NaN</td>\n",
              "      <td>500 Miles High</td>\n",
              "      <td>minor</td>\n",
              "    </tr>\n",
              "    <tr>\n",
              "      <th>5</th>\n",
              "      <td>5</td>\n",
              "      <td>2</td>\n",
              "      <td>0</td>\n",
              "      <td>NaN</td>\n",
              "      <td>502 Blues</td>\n",
              "      <td>minor</td>\n",
              "    </tr>\n",
              "    <tr>\n",
              "      <th>6</th>\n",
              "      <td>6</td>\n",
              "      <td>3</td>\n",
              "      <td>1</td>\n",
              "      <td>A</td>\n",
              "      <td>52nd Street Theme</td>\n",
              "      <td>major</td>\n",
              "    </tr>\n",
              "    <tr>\n",
              "      <th>7</th>\n",
              "      <td>7</td>\n",
              "      <td>3</td>\n",
              "      <td>2</td>\n",
              "      <td>A</td>\n",
              "      <td>52nd Street Theme</td>\n",
              "      <td>major</td>\n",
              "    </tr>\n",
              "    <tr>\n",
              "      <th>8</th>\n",
              "      <td>8</td>\n",
              "      <td>3</td>\n",
              "      <td>3</td>\n",
              "      <td>B</td>\n",
              "      <td>52nd Street Theme</td>\n",
              "      <td>major</td>\n",
              "    </tr>\n",
              "    <tr>\n",
              "      <th>9</th>\n",
              "      <td>9</td>\n",
              "      <td>3</td>\n",
              "      <td>4</td>\n",
              "      <td>A</td>\n",
              "      <td>52nd Street Theme</td>\n",
              "      <td>major</td>\n",
              "    </tr>\n",
              "  </tbody>\n",
              "</table>\n",
              "</div>"
            ],
            "text/plain": [
              "   id  tune_id  section_id section_name              title tune_mode\n",
              "0   0        0           1            A               26-2     major\n",
              "1   1        0           2            A               26-2     major\n",
              "2   2        0           3            B               26-2     major\n",
              "3   3        0           4            A               26-2     major\n",
              "4   4        1           0          NaN     500 Miles High     minor\n",
              "5   5        2           0          NaN          502 Blues     minor\n",
              "6   6        3           1            A  52nd Street Theme     major\n",
              "7   7        3           2            A  52nd Street Theme     major\n",
              "8   8        3           3            B  52nd Street Theme     major\n",
              "9   9        3           4            A  52nd Street Theme     major"
            ]
          },
          "metadata": {},
          "execution_count": 8
        }
      ]
    },
    {
      "cell_type": "code",
      "metadata": {
        "id": "0vEOjvwt8jUu"
      },
      "source": [
        "titles_dict = titles.to_dict()\n",
        "\n",
        "sectionid_to_title = titles_dict['title']\n",
        "sectionid_to_titleid = titles_dict['tune_id']\n"
      ],
      "execution_count": 9,
      "outputs": []
    },
    {
      "cell_type": "code",
      "metadata": {
        "id": "Om7pbfnNGO_I"
      },
      "source": [
        "tunes = df.loc[:, ['tune_id', 'title']].drop_duplicates()\n",
        "tunes = tunes.set_index('tune_id').to_dict()\n",
        "titleid_to_title = tunes['title']"
      ],
      "execution_count": 10,
      "outputs": []
    },
    {
      "cell_type": "code",
      "metadata": {
        "id": "1H72Y3_d8uNu"
      },
      "source": [
        "titles_rows = titles.to_dict(orient='records')\n",
        "sectionid_to_section = []\n",
        "for i, row in enumerate(titles_rows):\n",
        "  name = f\"{row['title']}, section{row['section_id']} ({row['section_name']})\"\n",
        "  sectionid_to_section.append(name)\n",
        "  "
      ],
      "execution_count": 11,
      "outputs": []
    },
    {
      "cell_type": "code",
      "metadata": {
        "id": "HCeGUk818y8V"
      },
      "source": [
        "title_to_sectionid = {}\n",
        "\n",
        "for row in titles.iterrows():\n",
        "  title = row[1]['title']\n",
        "  if title not in title_to_sectionid:\n",
        "    title_to_sectionid[title] = [row[1]['id']]\n",
        "  else:\n",
        "    title_to_sectionid[title].append(row[1]['id'])"
      ],
      "execution_count": 12,
      "outputs": []
    },
    {
      "cell_type": "markdown",
      "metadata": {
        "id": "wox-dMcz84Bt"
      },
      "source": [
        "## Helpers for N-Grams"
      ]
    },
    {
      "cell_type": "code",
      "metadata": {
        "id": "2964REdr80Gd"
      },
      "source": [
        "def ngrams(tokens, n=2, sep='-'):\n",
        "    return [sep.join(ngram) for ngram in zip(*[tokens[i:] for i in range(n)])]"
      ],
      "execution_count": 13,
      "outputs": []
    },
    {
      "cell_type": "markdown",
      "metadata": {
        "id": "umfsNtAdF0jM"
      },
      "source": [
        "# Data Preparation"
      ]
    },
    {
      "cell_type": "code",
      "metadata": {
        "id": "buoyWNl0F48Y"
      },
      "source": [
        "ngrams_for_input = [1]"
      ],
      "execution_count": 14,
      "outputs": []
    },
    {
      "cell_type": "code",
      "metadata": {
        "id": "dCLwnqoVGcMw"
      },
      "source": [
        "lines = df.loc[:, 'chords'].tolist()\n",
        "data = [line.split(' ') for line in lines]"
      ],
      "execution_count": 15,
      "outputs": []
    },
    {
      "cell_type": "code",
      "metadata": {
        "colab": {
          "base_uri": "https://localhost:8080/"
        },
        "id": "g7SmApW9F3K6",
        "outputId": "f76e9c87-6c2b-4cdc-c1df-cbf756a11efd"
      },
      "source": [
        "processed_corpus = []\n",
        "for line in data:\n",
        "  tune_n = []\n",
        "  for n in ngrams_for_input:\n",
        "    tune_n.extend(ngrams(line, n=n))\n",
        "  processed_corpus.append(tune_n)\n",
        "\n",
        "for line in processed_corpus[:5]:\n",
        "  print(line)"
      ],
      "execution_count": 16,
      "outputs": [
        {
          "output_type": "stream",
          "name": "stdout",
          "text": [
            "['C', 'Eb7', 'G#', 'B7', 'E', 'G7', 'Gm', 'C7', 'F', 'G#7', 'C#', 'E7', 'Am', 'D7', 'Dm', 'G7']\n",
            "['C', 'Eb7', 'G#', 'B7', 'E', 'G7', 'Gm', 'C7', 'F', 'Eb7', 'G#', 'B7', 'E', 'G7', 'C']\n",
            "['Gm', 'C7', 'Bm', 'E7', 'A', 'C7', 'F', 'Bbm', 'Eb7', 'G#', 'Dm', 'G7']\n",
            "['C', 'Eb7', 'G#', 'B7', 'E', 'G7', 'Gm', 'C7', 'F', 'Eb7', 'G#', 'B7', 'E', 'G7', 'C']\n",
            "['Am', 'Am', 'Cm', 'Cm', 'Eb', 'Eb', 'Em7b5', 'A7', 'Dm', 'Dm', 'Bm7b5', 'Bm7b5', 'Bbm', 'Bbm', 'Fm', 'Fm', 'E7', 'E7', 'Fm', 'Fm', 'C#', 'C#', 'Fm', 'Fm', 'C#', 'C#']\n"
          ]
        }
      ]
    },
    {
      "cell_type": "markdown",
      "metadata": {
        "id": "LeRGFeTn89Uc"
      },
      "source": [
        "# TF-IDF"
      ]
    },
    {
      "cell_type": "code",
      "metadata": {
        "id": "zVXqq4pk9IyT"
      },
      "source": [
        "from gensim import corpora\n",
        "from gensim import similarities\n"
      ],
      "execution_count": 17,
      "outputs": []
    },
    {
      "cell_type": "code",
      "metadata": {
        "colab": {
          "base_uri": "https://localhost:8080/"
        },
        "id": "pBdUdBNr9Gmu",
        "outputId": "7118e87d-d1fd-4de8-cd68-e3f812b54dae"
      },
      "source": [
        "dictionary = corpora.Dictionary(processed_corpus)"
      ],
      "execution_count": 18,
      "outputs": [
        {
          "output_type": "stream",
          "name": "stderr",
          "text": [
            "2021-11-19 22:12:59,639 : INFO : adding document #0 to Dictionary(0 unique tokens: [])\n",
            "2021-11-19 22:12:59,756 : INFO : built Dictionary(72 unique tokens: ['Am', 'B7', 'C', 'C#', 'C7']...) from 5403 documents (total 82790 corpus positions)\n",
            "2021-11-19 22:12:59,759 : INFO : Dictionary lifecycle event {'msg': \"built Dictionary(72 unique tokens: ['Am', 'B7', 'C', 'C#', 'C7']...) from 5403 documents (total 82790 corpus positions)\", 'datetime': '2021-11-19T22:12:59.759047', 'gensim': '4.1.2', 'python': '3.7.12 (default, Sep 10 2021, 00:21:48) \\n[GCC 7.5.0]', 'platform': 'Linux-5.4.104+-x86_64-with-Ubuntu-18.04-bionic', 'event': 'created'}\n"
          ]
        }
      ]
    },
    {
      "cell_type": "code",
      "metadata": {
        "id": "9NK-cuax9Kqk"
      },
      "source": [
        "# dictionary.token2id"
      ],
      "execution_count": 19,
      "outputs": []
    },
    {
      "cell_type": "code",
      "metadata": {
        "id": "vWOBtwEU9OKl"
      },
      "source": [
        "bow_corpus = [dictionary.doc2bow(text) for text in processed_corpus]"
      ],
      "execution_count": 20,
      "outputs": []
    },
    {
      "cell_type": "code",
      "metadata": {
        "id": "til5xlce_y1m"
      },
      "source": [
        "!rm -R index\n",
        "!mkdir index"
      ],
      "execution_count": 21,
      "outputs": []
    },
    {
      "cell_type": "code",
      "metadata": {
        "colab": {
          "base_uri": "https://localhost:8080/"
        },
        "id": "tn_fz2M090IM",
        "outputId": "a47aed0c-780b-48f3-a405-29cc806e30da"
      },
      "source": [
        "# Note: SparseMatrixSimilarity crashes due to lacking memory\n",
        "#from gensim.test.utils import get_tmpfile\n",
        "#index_tmpfile = get_tmpfile(\"index\")\n",
        "#index_tfidf = similarities.Similarity(index_tmpfile, bow_corpus, num_features=len(dictionary))\n",
        "\n",
        "index_tfidf = similarities.Similarity('/content/index/index_tfidf', bow_corpus, num_features=len(dictionary))"
      ],
      "execution_count": 22,
      "outputs": [
        {
          "output_type": "stream",
          "name": "stderr",
          "text": [
            "2021-11-19 22:13:00,103 : INFO : starting similarity index under /content/index/index_tfidf\n"
          ]
        }
      ]
    },
    {
      "cell_type": "code",
      "metadata": {
        "colab": {
          "base_uri": "https://localhost:8080/"
        },
        "id": "DCUOw0Mza86d",
        "outputId": "7333bca7-7328-4f08-d540-6d8a72adc7b4"
      },
      "source": [
        "ls -la /content/index"
      ],
      "execution_count": 23,
      "outputs": [
        {
          "output_type": "stream",
          "name": "stdout",
          "text": [
            "total 8\n",
            "drwxr-xr-x 2 root root 4096 Nov 19 22:12 \u001b[0m\u001b[01;34m.\u001b[0m/\n",
            "drwxr-xr-x 1 root root 4096 Nov 19 22:12 \u001b[01;34m..\u001b[0m/\n"
          ]
        }
      ]
    },
    {
      "cell_type": "markdown",
      "metadata": {
        "id": "ZLK0coIu9Tv5"
      },
      "source": [
        "## Test for single tunes"
      ]
    },
    {
      "cell_type": "code",
      "metadata": {
        "id": "Fzrj1qxwDpJT"
      },
      "source": [
        "def get_sim_scores(tunes, index):\n",
        "\n",
        "    df_sim = pd.DataFrame(columns=['reference_title',\n",
        "                                  'similar_title',\n",
        "                                  'ref_section', \n",
        "                                  'similar_section', \n",
        "                                  'score', \n",
        "                                  ])\n",
        "\n",
        "    for tune in tunes:\n",
        "      print()\n",
        "      print(\"-\"*50)\n",
        "      for s1 in title_to_sectionid[tune]:\n",
        "      \n",
        "          query = processed_corpus[s1]\n",
        "          query_bow = dictionary.doc2bow(query)\n",
        "\n",
        "          # perform a similarity query against the corpus\n",
        "          similarities = index[query_bow]\n",
        "          sims = sorted(enumerate(similarities), key=lambda item: -item[1])\n",
        "          \n",
        "          print(s1, sectionid_to_section[s1])\n",
        "          n = 0\n",
        "          for s2, s2_score in sims:\n",
        "            \n",
        "            # store the top N best results\n",
        "            if n > 40:\n",
        "                break\n",
        "            # don't count self-similarity between sections of the same tune\n",
        "            if s2 not in title_to_sectionid[tune]:\n",
        "                n += 1\n",
        "            \n",
        "                # print(f\"\\t{s2_score:.3f} {sectionid_to_section[s2]}\")\n",
        "\n",
        "                df_sim.loc[len(df_sim)] = [tune,\n",
        "                                sectionid_to_title[s2],\n",
        "                                sectionid_to_section[s1], \n",
        "                                sectionid_to_section[s2], \n",
        "                                s2_score, \n",
        "                                ]\n",
        "    return df_sim"
      ],
      "execution_count": 24,
      "outputs": []
    },
    {
      "cell_type": "code",
      "metadata": {
        "id": "DsQO6iJl9VjQ"
      },
      "source": [
        "tunes_eval_list = [\n",
        "  'Sweet Sue, Just You',\n",
        "  'These Foolish Things', \n",
        "  'Blue Moon',\n",
        "  'All Of Me',\n",
        "  \"All God's Chillun Got Rhythm\",\n",
        "  'I Got Rhythm',\n",
        "  'Bye Bye Blackbird',\n",
        "  'Old Fashioned Love',\n",
        "  'Dinah',\n",
        "  'Honeysuckle Rose',\n",
        "  'Misty'\n",
        "]"
      ],
      "execution_count": 25,
      "outputs": []
    },
    {
      "cell_type": "code",
      "metadata": {
        "colab": {
          "base_uri": "https://localhost:8080/"
        },
        "id": "5Wz4ZQk_EKZy",
        "outputId": "e5833bbf-9ea6-4f80-881a-1d10cb6d4522"
      },
      "source": [
        "%%time\n",
        "df_sim = get_sim_scores(tunes_eval_list, index_tfidf)"
      ],
      "execution_count": 26,
      "outputs": [
        {
          "output_type": "stream",
          "name": "stderr",
          "text": [
            "2021-11-19 22:13:01,758 : INFO : creating sparse index\n",
            "2021-11-19 22:13:01,760 : INFO : creating sparse matrix from corpus\n",
            "2021-11-19 22:13:01,765 : INFO : PROGRESS: at document #0/5403\n"
          ]
        },
        {
          "output_type": "stream",
          "name": "stdout",
          "text": [
            "\n",
            "--------------------------------------------------\n"
          ]
        },
        {
          "output_type": "stream",
          "name": "stderr",
          "text": [
            "2021-11-19 22:13:01,922 : INFO : created <5403x72 sparse matrix of type '<class 'numpy.float32'>'\n",
            "\twith 41308 stored elements in Compressed Sparse Row format>\n",
            "2021-11-19 22:13:01,931 : INFO : creating sparse shard #0\n",
            "2021-11-19 22:13:01,933 : INFO : saving index shard to /content/index/index_tfidf.0\n",
            "2021-11-19 22:13:01,935 : INFO : SparseMatrixSimilarity lifecycle event {'fname_or_handle': '/content/index/index_tfidf.0', 'separately': 'None', 'sep_limit': 10485760, 'ignore': frozenset(), 'datetime': '2021-11-19T22:13:01.935564', 'gensim': '4.1.2', 'python': '3.7.12 (default, Sep 10 2021, 00:21:48) \\n[GCC 7.5.0]', 'platform': 'Linux-5.4.104+-x86_64-with-Ubuntu-18.04-bionic', 'event': 'saving'}\n",
            "2021-11-19 22:13:01,942 : INFO : saved /content/index/index_tfidf.0\n",
            "2021-11-19 22:13:01,951 : INFO : loading SparseMatrixSimilarity object from /content/index/index_tfidf.0\n",
            "2021-11-19 22:13:01,953 : INFO : SparseMatrixSimilarity lifecycle event {'fname': '/content/index/index_tfidf.0', 'datetime': '2021-11-19T22:13:01.953521', 'gensim': '4.1.2', 'python': '3.7.12 (default, Sep 10 2021, 00:21:48) \\n[GCC 7.5.0]', 'platform': 'Linux-5.4.104+-x86_64-with-Ubuntu-18.04-bionic', 'event': 'loaded'}\n"
          ]
        },
        {
          "output_type": "stream",
          "name": "stdout",
          "text": [
            "3752 Sweet Sue, Just You, section1 (A)\n",
            "3753 Sweet Sue, Just You, section2 (A)\n",
            "3754 Sweet Sue, Just You, section3 (B)\n",
            "3755 Sweet Sue, Just You, section4 (A)\n",
            "\n",
            "--------------------------------------------------\n",
            "3866 These Foolish Things, section1 (A)\n",
            "3867 These Foolish Things, section2 (A)\n",
            "3868 These Foolish Things, section3 (B)\n",
            "3869 These Foolish Things, section4 (A)\n",
            "\n",
            "--------------------------------------------------\n",
            "496 Blue Moon, section1 (A)\n",
            "497 Blue Moon, section2 (A)\n",
            "498 Blue Moon, section3 (B)\n",
            "499 Blue Moon, section4 (A)\n",
            "\n",
            "--------------------------------------------------\n",
            "198 All Of Me, section1 (A)\n",
            "199 All Of Me, section2 (B)\n",
            "200 All Of Me, section3 (A)\n",
            "201 All Of Me, section4 (C)\n",
            "\n",
            "--------------------------------------------------\n",
            "188 All God's Chillun Got Rhythm, section1 (A)\n",
            "189 All God's Chillun Got Rhythm, section2 (B)\n",
            "190 All God's Chillun Got Rhythm, section3 (A)\n",
            "191 All God's Chillun Got Rhythm, section4 (C)\n",
            "\n",
            "--------------------------------------------------\n",
            "1647 I Got Rhythm, section1 (A)\n",
            "1648 I Got Rhythm, section2 (A)\n",
            "1649 I Got Rhythm, section3 (B)\n",
            "1650 I Got Rhythm, section4 (A)\n",
            "4821 I Got Rhythm, section1 (A)\n",
            "4822 I Got Rhythm, section2 (A)\n",
            "4823 I Got Rhythm, section3 (B)\n",
            "4824 I Got Rhythm, section4 (A)\n",
            "\n",
            "--------------------------------------------------\n",
            "653 Bye Bye Blackbird, section1 (A)\n",
            "654 Bye Bye Blackbird, section2 (B)\n",
            "4569 Bye Bye Blackbird, section1 (A)\n",
            "4570 Bye Bye Blackbird, section2 (B)\n",
            "4571 Bye Bye Blackbird, section3 (C)\n",
            "\n",
            "--------------------------------------------------\n",
            "5056 Old Fashioned Love, section0 (nan)\n",
            "\n",
            "--------------------------------------------------\n",
            "997 Dinah, section1 (A)\n",
            "998 Dinah, section2 (A)\n",
            "999 Dinah, section3 (B)\n",
            "1000 Dinah, section4 (A)\n",
            "\n",
            "--------------------------------------------------\n",
            "1538 Honeysuckle Rose, section1 (A)\n",
            "1539 Honeysuckle Rose, section2 (A)\n",
            "1540 Honeysuckle Rose, section3 (B)\n",
            "1541 Honeysuckle Rose, section4 (A)\n",
            "4793 Honeysuckle Rose, section1 (A)\n",
            "4794 Honeysuckle Rose, section2 (A)\n",
            "4795 Honeysuckle Rose, section3 (B)\n",
            "4796 Honeysuckle Rose, section4 (A)\n",
            "\n",
            "--------------------------------------------------\n",
            "2676 Misty, section1 (A)\n",
            "2677 Misty, section2 (A)\n",
            "2678 Misty, section3 (B)\n",
            "2679 Misty, section4 (A)\n",
            "CPU times: user 8.89 s, sys: 308 ms, total: 9.2 s\n",
            "Wall time: 8.94 s\n"
          ]
        }
      ]
    },
    {
      "cell_type": "code",
      "metadata": {
        "colab": {
          "base_uri": "https://localhost:8080/",
          "height": 542
        },
        "id": "yzRuIKVh9c8g",
        "outputId": "1a6fdacc-fb70-49ce-ab33-0faf0eafc196"
      },
      "source": [
        "import plotly.express as px\n",
        "fig = px.histogram(df_sim, x=\"score\", nbins=50)\n",
        "fig.show()"
      ],
      "execution_count": 27,
      "outputs": [
        {
          "output_type": "display_data",
          "data": {
            "text/html": [
              "<html>\n",
              "<head><meta charset=\"utf-8\" /></head>\n",
              "<body>\n",
              "    <div>\n",
              "            <script src=\"https://cdnjs.cloudflare.com/ajax/libs/mathjax/2.7.5/MathJax.js?config=TeX-AMS-MML_SVG\"></script><script type=\"text/javascript\">if (window.MathJax) {MathJax.Hub.Config({SVG: {font: \"STIX-Web\"}});}</script>\n",
              "                <script type=\"text/javascript\">window.PlotlyConfig = {MathJaxConfig: 'local'};</script>\n",
              "        <script src=\"https://cdn.plot.ly/plotly-latest.min.js\"></script>    \n",
              "            <div id=\"620b152f-2c7d-48b8-a426-2f4b0720f226\" class=\"plotly-graph-div\" style=\"height:525px; width:100%;\"></div>\n",
              "            <script type=\"text/javascript\">\n",
              "                \n",
              "                    window.PLOTLYENV=window.PLOTLYENV || {};\n",
              "                    \n",
              "                if (document.getElementById(\"620b152f-2c7d-48b8-a426-2f4b0720f226\")) {\n",
              "                    Plotly.newPlot(\n",
              "                        '620b152f-2c7d-48b8-a426-2f4b0720f226',\n",
              "                        [{\"alignmentgroup\": \"True\", \"bingroup\": \"x\", \"hoverlabel\": {\"namelength\": 0}, \"hovertemplate\": \"score=%{x}<br>count=%{y}\", \"legendgroup\": \"\", \"marker\": {\"color\": \"#636efa\"}, \"name\": \"\", \"nbinsx\": 50, \"offsetgroup\": \"\", \"orientation\": \"v\", \"showlegend\": false, \"type\": \"histogram\", \"x\": [1.0, 1.0, 1.0, 1.0, 1.0, 1.0, 1.0, 1.0, 1.0, 1.0, 1.0, 1.0, 1.0, 1.0, 1.0, 1.0, 0.9960238337516785, 0.991836667060852, 0.991836667060852, 0.9855274558067322, 0.9855274558067322, 0.9855274558067322, 0.9855274558067322, 0.9855274558067322, 0.9855274558067322, 0.9855274558067322, 0.9855274558067322, 0.9847319722175598, 0.9847319722175598, 0.9847319722175598, 0.9841197729110718, 0.9829464554786682, 0.980580747127533, 0.9801960587501526, 0.9799578189849854, 0.9797959327697754, 0.9771398305892944, 0.9771398305892944, 0.9737290740013123, 0.9737290740013123, 0.9737290143966675, 1.0, 1.0, 1.0, 1.0, 1.0, 1.0, 1.0, 1.0, 1.0, 1.0, 1.0, 1.0, 1.0, 1.0, 1.0, 1.0, 0.9960238337516785, 0.991836667060852, 0.991836667060852, 0.9855274558067322, 0.9855274558067322, 0.9855274558067322, 0.9855274558067322, 0.9855274558067322, 0.9855274558067322, 0.9855274558067322, 0.9855274558067322, 0.9847319722175598, 0.9847319722175598, 0.9847319722175598, 0.9841197729110718, 0.9829464554786682, 0.980580747127533, 0.9801960587501526, 0.9799578189849854, 0.9797959327697754, 0.9771398305892944, 0.9771398305892944, 0.9737290740013123, 0.9737290740013123, 0.9737290143966675, 0.9128708243370056, 0.8406727910041809, 0.8333333134651184, 0.8333333134651184, 0.8198915719985962, 0.8179128766059875, 0.8164966106414795, 0.8017837405204773, 0.8017837405204773, 0.8006407022476196, 0.794719398021698, 0.7938565611839294, 0.7925938963890076, 0.7905694246292114, 0.7879670262336731, 0.7825080156326294, 0.7825080156326294, 0.7825079560279846, 0.7777777314186096, 0.774596631526947, 0.774596631526947, 0.774596631526947, 0.7715166807174683, 0.766032338142395, 0.7637625932693481, 0.7593263983726501, 0.7593263387680054, 0.7505553364753723, 0.7505553364753723, 0.7504786849021912, 0.7499999403953552, 0.7499999403953552, 0.7499999403953552, 0.7499999403953552, 0.7499998807907104, 0.7499998807907104, 0.7492685914039612, 0.7469136714935303, 0.7426106333732605, 0.7395739555358887, 0.7385489344596863, 1.0, 1.0, 1.0, 1.0, 1.0, 1.0, 1.0, 1.0, 1.0, 1.0, 1.0, 1.0, 1.0, 1.0, 1.0, 1.0, 0.9960238337516785, 0.991836667060852, 0.991836667060852, 0.9855274558067322, 0.9855274558067322, 0.9855274558067322, 0.9855274558067322, 0.9855274558067322, 0.9855274558067322, 0.9855274558067322, 0.9855274558067322, 0.9847319722175598, 0.9847319722175598, 0.9847319722175598, 0.9841197729110718, 0.9829464554786682, 0.980580747127533, 0.9801960587501526, 0.9799578189849854, 0.9797959327697754, 0.9771398305892944, 0.9771398305892944, 0.9737290740013123, 0.9737290740013123, 0.9737290143966675, 0.9546687006950378, 0.9525008797645569, 0.9525008797645569, 0.9519715309143066, 0.9519715309143066, 0.9422228336334229, 0.9354143142700195, 0.9274260401725769, 0.9268550872802734, 0.9263021349906921, 0.9263020157814026, 0.9258200526237488, 0.9228394627571106, 0.9207508563995361, 0.9207508563995361, 0.9207368493080139, 0.919238805770874, 0.919238805770874, 0.9191450476646423, 0.9191450476646423, 0.9187104105949402, 0.9181762933731079, 0.9176629185676575, 0.916666567325592, 0.916578471660614, 0.916578471660614, 0.9149913787841797, 0.9148908257484436, 0.9141378998756409, 0.9139076471328735, 0.9133461713790894, 0.9133461713790894, 0.9133461713790894, 0.9133461713790894, 0.9128708839416504, 0.9128708839416504, 0.912495493888855, 0.9120291471481323, 0.9095085263252258, 0.909508466720581, 0.909508466720581, 0.9723056554794312, 0.9548637270927429, 0.9548637270927429, 0.921954333782196, 0.9117647409439087, 0.9115637540817261, 0.9115046262741089, 0.9109355807304382, 0.9106417298316956, 0.9106417298316956, 0.9101821184158325, 0.9101820588111877, 0.910181999206543, 0.9095085263252258, 0.9081082344055176, 0.9074852466583252, 0.9068695902824402, 0.9068695902824402, 0.9049357771873474, 0.9049034714698792, 0.9038768410682678, 0.8997353315353394, 0.8991814851760864, 0.8990275263786316, 0.8986450433731079, 0.8986449837684631, 0.8981249928474426, 0.8978642821311951, 0.897364616394043, 0.8958086967468262, 0.8956220149993896, 0.8951712846755981, 0.8948380947113037, 0.8938431739807129, 0.8934147357940674, 0.8932596445083618, 0.8932596445083618, 0.893259584903717, 0.8930885195732117, 0.8930884599685669, 0.8926784992218018, 0.9165152311325073, 0.8954430818557739, 0.8954430818557739, 0.8759956955909729, 0.8246210813522339, 0.8164966106414795, 0.8082903623580933, 0.803326427936554, 0.800000011920929, 0.800000011920929, 0.7923547029495239, 0.7902633547782898, 0.7855844497680664, 0.7855844497680664, 0.7794228792190552, 0.7786628007888794, 0.77781742811203, 0.7765802145004272, 0.7761139869689941, 0.7745966911315918, 0.7724716067314148, 0.771516740322113, 0.7666981816291809, 0.7666981220245361, 0.7615773677825928, 0.7602631449699402, 0.7602631449699402, 0.7559289336204529, 0.7543423175811768, 0.75424724817276, 0.7521398663520813, 0.7500000596046448, 0.7500000596046448, 0.7500000596046448, 0.7483314871788025, 0.7483314871788025, 0.7483314871788025, 0.7462185621261597, 0.742781400680542, 0.742462158203125, 0.742462158203125, 0.9747546911239624, 0.9747546911239624, 0.9667962789535522, 0.9587093591690063, 0.9518172740936279, 0.9518172740936279, 0.9509797096252441, 0.9496715664863586, 0.9476781487464905, 0.9437015056610107, 0.9428712725639343, 0.9428473114967346, 0.942082405090332, 0.9416364431381226, 0.9401746988296509, 0.9364182353019714, 0.934685230255127, 0.9341987371444702, 0.9337221384048462, 0.9328736066818237, 0.9322980046272278, 0.9320952892303467, 0.9318181872367859, 0.9318181872367859, 0.9318181872367859, 0.9312905073165894, 0.9307578802108765, 0.9307578802108765, 0.9304842352867126, 0.9304841756820679, 0.9303739070892334, 0.9303739070892334, 0.9296599626541138, 0.9296599626541138, 0.9296599626541138, 0.9296599626541138, 0.9288407564163208, 0.9288407564163208, 0.928032398223877, 0.9277310371398926, 0.9266964793205261, 0.9782608151435852, 0.9680038690567017, 0.9680038690567017, 0.9609864950180054, 0.9583727121353149, 0.9569290280342102, 0.9569290280342102, 0.9567297697067261, 0.9567297697067261, 0.953407347202301, 0.953015148639679, 0.9517337679862976, 0.9515872597694397, 0.9508562088012695, 0.9497162103652954, 0.9497162103652954, 0.9486438035964966, 0.9486438035964966, 0.9486438035964966, 0.9480385184288025, 0.9473730325698853, 0.9455453753471375, 0.9455453753471375, 0.9443842768669128, 0.9430418610572815, 0.9430418610572815, 0.9421554207801819, 0.9418281316757202, 0.9409438371658325, 0.940570056438446, 0.940570056438446, 0.940570056438446, 0.9405399560928345, 0.9383149147033691, 0.9383147954940796, 0.9376362562179565, 0.9362573027610779, 0.9355851411819458, 0.9347826242446899, 0.9337990880012512, 0.9337990880012512, 0.9276335835456848, 0.9261981844902039, 0.9180845022201538, 0.9180845022201538, 0.9140904545783997, 0.9109357595443726, 0.9102990627288818, 0.9095085263252258, 0.9095085263252258, 0.9081082344055176, 0.9081082344055176, 0.9080252051353455, 0.9046624898910522, 0.9007546901702881, 0.9007546901702881, 0.9002839922904968, 0.8978642225265503, 0.8973818421363831, 0.8973645567893982, 0.895607590675354, 0.8952858448028564, 0.8951712846755981, 0.8932595252990723, 0.8926784992218018, 0.8926784992218018, 0.8917926549911499, 0.8911327719688416, 0.8911327719688416, 0.8911327719688416, 0.8892972469329834, 0.8892972469329834, 0.8885402679443359, 0.8877781629562378, 0.8875744938850403, 0.8868440389633179, 0.886076033115387, 0.886076033115387, 0.886076033115387, 0.8858784437179565, 0.8856148719787598, 0.8856148719787598, 0.9284766912460327, 0.9143006205558777, 0.9005004167556763, 0.8965517282485962, 0.894629955291748, 0.8938527703285217, 0.8913376331329346, 0.8858184218406677, 0.8844476938247681, 0.8823397755622864, 0.8820528984069824, 0.8820527791976929, 0.8817846775054932, 0.8791322112083435, 0.8778665065765381, 0.8778665065765381, 0.8773279190063477, 0.8773279190063477, 0.875420868396759, 0.8753761053085327, 0.8727859854698181, 0.8725832104682922, 0.8719775080680847, 0.8718127012252808, 0.8703169822692871, 0.8703169822692871, 0.8703169822692871, 0.8703169822692871, 0.8700222373008728, 0.868510365486145, 0.8671485185623169, 0.8671485185623169, 0.8671485185623169, 0.8656302690505981, 0.8630338907241821, 0.8630338907241821, 0.8630338907241821, 0.8620792627334595, 0.8620690107345581, 0.8620689511299133, 0.8620689511299133, 0.9782608151435852, 0.9680038690567017, 0.9680038690567017, 0.9609864950180054, 0.9583727121353149, 0.9569290280342102, 0.9569290280342102, 0.9567297697067261, 0.9567297697067261, 0.953407347202301, 0.953015148639679, 0.9517337679862976, 0.9515872597694397, 0.9508562088012695, 0.9497162103652954, 0.9497162103652954, 0.9486438035964966, 0.9486438035964966, 0.9486438035964966, 0.9480385184288025, 0.9473730325698853, 0.9455453753471375, 0.9455453753471375, 0.9443842768669128, 0.9430418610572815, 0.9430418610572815, 0.9421554207801819, 0.9418281316757202, 0.9409438371658325, 0.940570056438446, 0.940570056438446, 0.940570056438446, 0.9405399560928345, 0.9383149147033691, 0.9383147954940796, 0.9376362562179565, 0.9362573027610779, 0.9355851411819458, 0.9347826242446899, 0.9337990880012512, 0.9337990880012512, 0.9622504711151123, 0.8944271802902222, 0.8944271802902222, 0.8944271802902222, 0.884651780128479, 0.875, 0.8728715777397156, 0.8660253882408142, 0.8660253882408142, 0.8660253882408142, 0.8574929237365723, 0.8534917831420898, 0.851205587387085, 0.8488746881484985, 0.8488746881484985, 0.8488746881484985, 0.8486684560775757, 0.8463273048400879, 0.8461141586303711, 0.8401681184768677, 0.8391463756561279, 0.8391463756561279, 0.8360795974731445, 0.8356289863586426, 0.8320503234863281, 0.8320503234863281, 0.8249579071998596, 0.8249579071998596, 0.8249579071998596, 0.8249579071998596, 0.8164966106414795, 0.8164966106414795, 0.8164966106414795, 0.8111070990562439, 0.8111070990562439, 0.8111070990562439, 0.8111070990562439, 0.8111070990562439, 0.8111070990562439, 0.8084520101547241, 0.8082239031791687, 0.9660917520523071, 0.9561828374862671, 0.9449111819267273, 0.9354143738746643, 0.9354143142700195, 0.9354143142700195, 0.9354143142700195, 0.933138906955719, 0.933138906955719, 0.9258200526237488, 0.9116846323013306, 0.9083736538887024, 0.9074851870536804, 0.9074851870536804, 0.904106080532074, 0.8970852494239807, 0.8964214324951172, 0.8933249711990356, 0.8908707499504089, 0.8908707499504089, 0.8894991874694824, 0.8894991874694824, 0.867110013961792, 0.867110013961792, 0.8671098947525024, 0.8583950400352478, 0.8583950400352478, 0.8583324551582336, 0.8583324551582336, 0.8571428656578064, 0.8571428060531616, 0.8571428060531616, 0.8552359938621521, 0.8547042608261108, 0.8528028726577759, 0.8486683368682861, 0.8486683368682861, 0.8486683368682861, 0.8486683368682861, 0.8486683368682861, 0.8463273644447327, 0.9622504711151123, 0.8944271802902222, 0.8944271802902222, 0.8944271802902222, 0.884651780128479, 0.875, 0.8728715777397156, 0.8660253882408142, 0.8660253882408142, 0.8660253882408142, 0.8574929237365723, 0.8534917831420898, 0.851205587387085, 0.8488746881484985, 0.8488746881484985, 0.8488746881484985, 0.8486684560775757, 0.8463273048400879, 0.8461141586303711, 0.8401681184768677, 0.8391463756561279, 0.8391463756561279, 0.8360795974731445, 0.8356289863586426, 0.8320503234863281, 0.8320503234863281, 0.8249579071998596, 0.8249579071998596, 0.8249579071998596, 0.8249579071998596, 0.8164966106414795, 0.8164966106414795, 0.8164966106414795, 0.8111070990562439, 0.8111070990562439, 0.8111070990562439, 0.8111070990562439, 0.8111070990562439, 0.8111070990562439, 0.8084520101547241, 0.8082239031791687, 0.9770084023475647, 0.933138906955719, 0.928571343421936, 0.9265616536140442, 0.925819993019104, 0.9182623624801636, 0.9134140610694885, 0.9104654788970947, 0.9104654788970947, 0.9086882472038269, 0.9086882472038269, 0.9072647094726562, 0.9035078883171082, 0.898716926574707, 0.8986450433731079, 0.8976656198501587, 0.8976656198501587, 0.8970852494239807, 0.8970851898193359, 0.8966530561447144, 0.8966530561447144, 0.8966333866119385, 0.8966333866119385, 0.8966333866119385, 0.8966333866119385, 0.8950412273406982, 0.8934051394462585, 0.8933249115943909, 0.8916451334953308, 0.8916451334953308, 0.8910420536994934, 0.8910420536994934, 0.8910420536994934, 0.8908708095550537, 0.8908708095550537, 0.8908707499504089, 0.8890520334243774, 0.8872442245483398, 0.8872441649436951, 0.8864052295684814, 0.8864052295684814, 0.9750000238418579, 0.9695896506309509, 0.968245804309845, 0.9561827778816223, 0.9560661315917969, 0.9560661315917969, 0.9547032117843628, 0.9545941948890686, 0.9463399052619934, 0.9463399052619934, 0.9429277777671814, 0.9407528638839722, 0.9398254752159119, 0.9398254156112671, 0.9389710426330566, 0.9383147358894348, 0.9374998807907104, 0.9360566139221191, 0.9360566139221191, 0.9360566139221191, 0.9359709620475769, 0.9354143738746643, 0.9341285228729248, 0.93412846326828, 0.9327731132507324, 0.9284766912460327, 0.9284766912460327, 0.9282791018486023, 0.9280775785446167, 0.9280775785446167, 0.9280775785446167, 0.9274260401725769, 0.9263020753860474, 0.9263020157814026, 0.925000011920929, 0.925000011920929, 0.923186182975769, 0.9231711626052856, 0.9231711626052856, 0.9223309755325317, 0.9214785099029541, 0.9309492707252502, 0.9013878703117371, 0.896643877029419, 0.8894991874694824, 0.8894991874694824, 0.8882312178611755, 0.8869686126708984, 0.8825225830078125, 0.8744746446609497, 0.870285153388977, 0.8682432174682617, 0.8674723505973816, 0.8608284592628479, 0.8608283996582031, 0.8600261211395264, 0.8593377470970154, 0.8589843511581421, 0.8561727404594421, 0.8561727404594421, 0.8561726808547974, 0.8561726808547974, 0.8561726808547974, 0.8559210300445557, 0.8540168404579163, 0.8530422449111938, 0.8492078185081482, 0.8492078185081482, 0.8492078185081482, 0.8492078185081482, 0.8473185896873474, 0.8473185300827026, 0.8473185300827026, 0.8468303680419922, 0.8468303680419922, 0.8459098935127258, 0.8438529968261719, 0.8438196182250977, 0.8406727313995361, 0.838627815246582, 0.8383354544639587, 0.8376104831695557, 0.9750000238418579, 0.9695896506309509, 0.968245804309845, 0.9561827778816223, 0.9560661315917969, 0.9560661315917969, 0.9547032117843628, 0.9545941948890686, 0.9463399052619934, 0.9463399052619934, 0.9429277777671814, 0.9407528638839722, 0.9398254752159119, 0.9398254156112671, 0.9389710426330566, 0.9383147358894348, 0.9374998807907104, 0.9360566139221191, 0.9360566139221191, 0.9360566139221191, 0.9359709620475769, 0.9354143738746643, 0.9341285228729248, 0.93412846326828, 0.9327731132507324, 0.9284766912460327, 0.9284766912460327, 0.9282791018486023, 0.9280775785446167, 0.9280775785446167, 0.9280775785446167, 0.9274260401725769, 0.9263020753860474, 0.9263020157814026, 0.925000011920929, 0.925000011920929, 0.923186182975769, 0.9231711626052856, 0.9231711626052856, 0.9223309755325317, 0.9214785099029541, 0.9503289461135864, 0.9503289461135864, 0.9486833214759827, 0.9315559267997742, 0.9302604794502258, 0.9296696782112122, 0.9219543933868408, 0.9219543933868408, 0.921954333782196, 0.9203579425811768, 0.9203579425811768, 0.919238805770874, 0.9170604944229126, 0.9135002493858337, 0.9135002493858337, 0.9109802842140198, 0.9101912975311279, 0.9101912975311279, 0.9091548323631287, 0.9091548323631287, 0.9091548323631287, 0.9087389707565308, 0.9080252051353455, 0.9080252051353455, 0.9071146845817566, 0.9071146249771118, 0.9071146249771118, 0.9071146249771118, 0.9068453907966614, 0.9068453311920166, 0.9068453311920166, 0.9057894349098206, 0.9057894349098206, 0.9057894349098206, 0.9045339822769165, 0.9014912843704224, 0.9012491106987, 0.8999999761581421, 0.8999999761581421, 0.8999999761581421, 0.8999999761581421, 0.9271051287651062, 0.9271051287651062, 0.9233804941177368, 0.9233804941177368, 0.9233804941177368, 0.9233804941177368, 0.9223309755325317, 0.918558657169342, 0.9150798320770264, 0.9091922640800476, 0.9086881875991821, 0.9086881875991821, 0.9068453311920166, 0.9068453311920166, 0.9068453311920166, 0.9068453311920166, 0.9067235589027405, 0.9057894945144653, 0.9057894945144653, 0.9057256579399109, 0.9057255983352661, 0.9036961197853088, 0.9036961197853088, 0.903642475605011, 0.9035079479217529, 0.902707576751709, 0.9004503488540649, 0.9000000357627869, 0.8992517590522766, 0.8977310657501221, 0.8977310061454773, 0.8959786891937256, 0.8959786891937256, 0.8959786891937256, 0.8948380947113037, 0.8944271802902222, 0.8944271206855774, 0.8901636600494385, 0.8894600868225098, 0.8889566659927368, 0.8889342546463013, 0.931891143321991, 0.931891143321991, 0.931891143321991, 0.931891143321991, 0.9284141063690186, 0.9239886403083801, 0.9214065074920654, 0.9185315370559692, 0.9185315370559692, 0.9185315370559692, 0.9132660627365112, 0.9132660627365112, 0.912159264087677, 0.912159264087677, 0.9082951545715332, 0.9074424505233765, 0.903652012348175, 0.9014202952384949, 0.8994013071060181, 0.8994011878967285, 0.8994011878967285, 0.8994011878967285, 0.8983222842216492, 0.8971499800682068, 0.8956221342086792, 0.8927095532417297, 0.892413318157196, 0.8924132585525513, 0.8922685384750366, 0.8922685384750366, 0.8922268152236938, 0.8919914364814758, 0.891455352306366, 0.8898984789848328, 0.8897130489349365, 0.8883363008499146, 0.8883363008499146, 0.8883363008499146, 0.8882347941398621, 0.8876253366470337, 0.8871638774871826, 1.0, 1.0, 1.0, 1.0, 1.0, 1.0, 1.0, 1.0, 1.0, 1.0, 1.0, 1.0, 1.0, 1.0, 1.0, 1.0, 1.0, 1.0, 1.0, 1.0, 1.0, 1.0, 0.981980562210083, 0.9701424837112427, 0.9701424837112427, 0.9594031572341919, 0.9444444179534912, 0.9354143142700195, 0.9354143142700195, 0.9176629185676575, 0.9036960601806641, 0.8872442841529846, 0.8845379948616028, 0.883883535861969, 0.8816820383071899, 0.8757290840148926, 0.875, 0.875, 0.875, 0.875, 0.8660253882408142, 0.9504969120025635, 0.9495630264282227, 0.9495630264282227, 0.9428292512893677, 0.9428292512893677, 0.9428291916847229, 0.9428291320800781, 0.9428291320800781, 0.9415245652198792, 0.9306780695915222, 0.9306630492210388, 0.9304842352867126, 0.9304842352867126, 0.9304841756820679, 0.9304841756820679, 0.9243423342704773, 0.9210566282272339, 0.9210566282272339, 0.9187794923782349, 0.9186933636665344, 0.9173648953437805, 0.9173648953437805, 0.9173648953437805, 0.9163298010826111, 0.9163298010826111, 0.9154754281044006, 0.9150522351264954, 0.9150522351264954, 0.9150521755218506, 0.9143940210342407, 0.9143940210342407, 0.9141045808792114, 0.9137173891067505, 0.9137173891067505, 0.9121593236923218, 0.912159264087677, 0.912159264087677, 0.912159264087677, 0.912159264087677, 0.912159264087677, 0.912103533744812, 0.9271051287651062, 0.9271051287651062, 0.9233804941177368, 0.9233804941177368, 0.9233804941177368, 0.9233804941177368, 0.9223309755325317, 0.918558657169342, 0.9150798320770264, 0.9091922640800476, 0.9086881875991821, 0.9086881875991821, 0.9068453311920166, 0.9068453311920166, 0.9068453311920166, 0.9068453311920166, 0.9067235589027405, 0.9057894945144653, 0.9057894945144653, 0.9057256579399109, 0.9057255983352661, 0.9036961197853088, 0.9036961197853088, 0.903642475605011, 0.9035079479217529, 0.902707576751709, 0.9004503488540649, 0.9000000357627869, 0.8992517590522766, 0.8977310657501221, 0.8977310061454773, 0.8959786891937256, 0.8959786891937256, 0.8959786891937256, 0.8948380947113037, 0.8944271802902222, 0.8944271206855774, 0.8901636600494385, 0.8894600868225098, 0.8889566659927368, 0.8889342546463013, 0.931891143321991, 0.931891143321991, 0.931891143321991, 0.931891143321991, 0.9284141063690186, 0.9239886403083801, 0.9214065074920654, 0.9185315370559692, 0.9185315370559692, 0.9185315370559692, 0.9132660627365112, 0.9132660627365112, 0.912159264087677, 0.912159264087677, 0.9082951545715332, 0.9074424505233765, 0.903652012348175, 0.9014202952384949, 0.8994013071060181, 0.8994011878967285, 0.8994011878967285, 0.8994011878967285, 0.8983222842216492, 0.8971499800682068, 0.8956221342086792, 0.8927095532417297, 0.892413318157196, 0.8924132585525513, 0.8922685384750366, 0.8922685384750366, 0.8922268152236938, 0.8919914364814758, 0.891455352306366, 0.8898984789848328, 0.8897130489349365, 0.8883363008499146, 0.8883363008499146, 0.8883363008499146, 0.8882347941398621, 0.8876253366470337, 0.8871638774871826, 1.0, 1.0, 1.0, 1.0, 1.0, 1.0, 1.0, 1.0, 1.0, 1.0, 1.0, 1.0, 1.0, 1.0, 1.0, 1.0, 1.0, 1.0, 1.0, 1.0, 1.0, 1.0, 0.981980562210083, 0.9701424837112427, 0.9701424837112427, 0.9594031572341919, 0.9444444179534912, 0.9354143142700195, 0.9354143142700195, 0.9176629185676575, 0.9036960601806641, 0.8872442841529846, 0.8845379948616028, 0.883883535861969, 0.8816820383071899, 0.8757290840148926, 0.875, 0.875, 0.875, 0.875, 0.8660253882408142, 0.9504969120025635, 0.9495630264282227, 0.9495630264282227, 0.9428292512893677, 0.9428292512893677, 0.9428291916847229, 0.9428291320800781, 0.9428291320800781, 0.9415245652198792, 0.9306780695915222, 0.9306630492210388, 0.9304842352867126, 0.9304842352867126, 0.9304841756820679, 0.9304841756820679, 0.9243423342704773, 0.9210566282272339, 0.9210566282272339, 0.9187794923782349, 0.9186933636665344, 0.9173648953437805, 0.9173648953437805, 0.9173648953437805, 0.9163298010826111, 0.9163298010826111, 0.9154754281044006, 0.9150522351264954, 0.9150522351264954, 0.9150521755218506, 0.9143940210342407, 0.9143940210342407, 0.9141045808792114, 0.9137173891067505, 0.9137173891067505, 0.9121593236923218, 0.912159264087677, 0.912159264087677, 0.912159264087677, 0.912159264087677, 0.912159264087677, 0.912103533744812, 0.984309196472168, 0.9836212396621704, 0.9777750372886658, 0.9751579165458679, 0.9751579165458679, 0.9751579165458679, 0.9751579165458679, 0.9751579165458679, 0.9724151492118835, 0.9722036719322205, 0.9719410538673401, 0.9705232381820679, 0.9692704677581787, 0.9683640003204346, 0.9683640003204346, 0.9683640003204346, 0.9663776755332947, 0.9650870561599731, 0.9640128016471863, 0.961972177028656, 0.9608387351036072, 0.9569487571716309, 0.956259548664093, 0.9553254246711731, 0.9553254246711731, 0.9553254246711731, 0.9552974700927734, 0.9552974700927734, 0.9541301131248474, 0.9541301131248474, 0.9532414674758911, 0.9532414674758911, 0.9532333016395569, 0.9528306722640991, 0.9528306722640991, 0.9525641202926636, 0.9525641202926636, 0.9525641202926636, 0.9523038268089294, 0.9513515830039978, 0.9509146213531494, 0.9513311386108398, 0.950131893157959, 0.9501192569732666, 0.9417286515235901, 0.9412096738815308, 0.9377429485321045, 0.9377429485321045, 0.9374334216117859, 0.9373601675033569, 0.9349289536476135, 0.934928834438324, 0.934928834438324, 0.934928834438324, 0.9345024228096008, 0.934502363204956, 0.9331203103065491, 0.9331203103065491, 0.9331203103065491, 0.9331203103065491, 0.9331203103065491, 0.9320410490036011, 0.931555986404419, 0.9311728477478027, 0.9301145076751709, 0.9299208521842957, 0.9297347664833069, 0.9297347664833069, 0.9292548894882202, 0.9263103604316711, 0.9251285195350647, 0.924249529838562, 0.924249529838562, 0.924249529838562, 0.9236083626747131, 0.9229729771614075, 0.9224556684494019, 0.9224556684494019, 0.9212563037872314, 0.9207663536071777, 0.9207663536071777, 0.9207516312599182, 0.9945710301399231, 0.9843176603317261, 0.9843176603317261, 0.9843176603317261, 0.979218602180481, 0.9753829836845398, 0.9753829836845398, 0.975382924079895, 0.974583089351654, 0.9702163338661194, 0.9699311852455139, 0.9699311852455139, 0.9699311256408691, 0.96588134765625, 0.9630714654922485, 0.9589996337890625, 0.9589996337890625, 0.9589996337890625, 0.9570731520652771, 0.9563649892807007, 0.9563649892807007, 0.9563649892807007, 0.9535351991653442, 0.9519829750061035, 0.9512194395065308, 0.9512194395065308, 0.9503345489501953, 0.9489461779594421, 0.9489461779594421, 0.9489461779594421, 0.9467531442642212, 0.9467531442642212, 0.9467531442642212, 0.9467531442642212, 0.9467531442642212, 0.9467531442642212, 0.9467531442642212, 0.9467531442642212, 0.9467531442642212, 0.9467531442642212, 0.9467531442642212, 0.8660253286361694, 0.8542420864105225, 0.8512565493583679, 0.8268688321113586, 0.8268688321113586, 0.8268688321113586, 0.8268688321113586, 0.8268688321113586, 0.8211076855659485, 0.8183169960975647, 0.8164964914321899, 0.8164964914321899, 0.8067842125892639, 0.8017837405204773, 0.8017837405204773, 0.8017837405204773, 0.8017836809158325, 0.7924058437347412, 0.7924058437347412, 0.7916666269302368, 0.7825080752372742, 0.7770980000495911, 0.7745967507362366, 0.7715166807174683, 0.7654655575752258, 0.7637625336647034, 0.7637625336647034, 0.7637625336647034, 0.7579367160797119, 0.7579367160797119, 0.753778338432312, 0.7504786849021912, 0.7504786849021912, 0.75, 0.7484552264213562, 0.7484552264213562, 0.7484552264213562, 0.7484552264213562, 0.7484552264213562, 0.7463905215263367, 0.7463905215263367, 0.9719274044036865, 0.9719274044036865, 0.9585144519805908, 0.949999988079071, 0.949999988079071, 0.949999988079071, 0.949999988079071, 0.949999988079071, 0.949999988079071, 0.9488521814346313, 0.9468950629234314, 0.9468950629234314, 0.9455944299697876, 0.9455944299697876, 0.9455944299697876, 0.9449111223220825, 0.9441176056861877, 0.9431191682815552, 0.9421682357788086, 0.941357433795929, 0.9333332777023315, 0.9333332777023315, 0.9315885305404663, 0.9315885305404663, 0.9309493899345398, 0.9309493899345398, 0.9304653406143188, 0.9296697378158569, 0.9296696782112122, 0.9296696782112122, 0.9273412227630615, 0.9271050095558167, 0.9271050095558167, 0.9264487624168396, 0.9264487624168396, 0.9249998927116394, 0.9233804941177368, 0.9223780035972595, 0.9219543933868408, 0.9219543933868408, 0.9209109544754028, 0.9787957072257996, 0.9640346765518188, 0.9633798599243164, 0.9621023535728455, 0.9621023535728455, 0.9621023535728455, 0.9558526873588562, 0.955649733543396, 0.9537876844406128, 0.9511599540710449, 0.9508497714996338, 0.9507505297660828, 0.9501461982727051, 0.9501461982727051, 0.948979914188385, 0.9488521814346313, 0.9476815462112427, 0.9473464488983154, 0.9465925097465515, 0.9456576704978943, 0.9456576704978943, 0.9447560906410217, 0.9434393048286438, 0.9412351846694946, 0.9409592151641846, 0.940580427646637, 0.9405161738395691, 0.9399007558822632, 0.9399007558822632, 0.9399007558822632, 0.9385019540786743, 0.9379647970199585, 0.9378902316093445, 0.9378902316093445, 0.937635600566864, 0.9374701380729675, 0.9367507100105286, 0.9361647963523865, 0.9349468946456909, 0.9349468946456909, 0.9333308339118958, 0.9866902232170105, 0.975784420967102, 0.9674797058105469, 0.9674797058105469, 0.9674797058105469, 0.9655351042747498, 0.9633640050888062, 0.9633640050888062, 0.9621404409408569, 0.9607347846031189, 0.9604803323745728, 0.959383487701416, 0.9585145711898804, 0.9561828970909119, 0.9561828970909119, 0.955817461013794, 0.955817461013794, 0.9556189775466919, 0.9550230503082275, 0.9550230503082275, 0.954993724822998, 0.9545941948890686, 0.9545941948890686, 0.9534626007080078, 0.9534626007080078, 0.9520360231399536, 0.9520360231399536, 0.9515025615692139, 0.9503289461135864, 0.9490706920623779, 0.9486832618713379, 0.9471879005432129, 0.9468950629234314, 0.9465078115463257, 0.9455944895744324, 0.9455944895744324, 0.9438797831535339, 0.9438797831535339, 0.9438797831535339, 0.9432421922683716, 0.9428276419639587, 0.9532063007354736, 0.9374860525131226, 0.937089204788208, 0.9353047609329224, 0.9353047609329224, 0.9353047609329224, 0.9332565665245056, 0.9332565069198608, 0.932202160358429, 0.9313342571258545, 0.9313341975212097, 0.9284089207649231, 0.9279607534408569, 0.9274777770042419, 0.926847517490387, 0.926847517490387, 0.926847517490387, 0.9262908697128296, 0.9262436628341675, 0.9247311949729919, 0.9242740869522095, 0.9242740869522095, 0.92406165599823, 0.9236372709274292, 0.9215506911277771, 0.9213557839393616, 0.9210565686225891, 0.9207508563995361, 0.9206016063690186, 0.9206016063690186, 0.9205586314201355, 0.9202829599380493, 0.9190074801445007, 0.9190074801445007, 0.9190074801445007, 0.9165445566177368, 0.916544497013092, 0.916544497013092, 0.9164397120475769, 0.9133691787719727, 0.9133691191673279, 0.9594032764434814, 0.9574271440505981, 0.9534626007080078, 0.942082405090332, 0.942082405090332, 0.942082405090332, 0.9285405874252319, 0.9284141063690186, 0.9199353456497192, 0.9198662042617798, 0.9173649549484253, 0.9116846919059753, 0.9111469388008118, 0.910578727722168, 0.9103585481643677, 0.9090908765792847, 0.907442569732666, 0.9045340418815613, 0.9045340418815613, 0.9045340418815613, 0.9045340418815613, 0.9045340418815613, 0.9045340418815613, 0.9045340418815613, 0.8983222842216492, 0.8935251235961914, 0.8869686126708984, 0.8780540823936462, 0.8764598965644836, 0.8761903643608093, 0.8746731877326965, 0.8746731877326965, 0.8727860450744629, 0.8709883093833923, 0.8709882497787476, 0.8703882694244385, 0.8678334355354309, 0.8664002418518066, 0.8664002418518066, 0.865657389163971, 0.8624393343925476, 0.9798047542572021, 0.9798047542572021, 0.9798047542572021, 0.9770542979240417, 0.9756366014480591, 0.9756366014480591, 0.9743975400924683, 0.9729739427566528, 0.972716212272644, 0.9716053605079651, 0.9683640003204346, 0.9683640003204346, 0.9679938554763794, 0.9679938554763794, 0.9677928686141968, 0.9671894311904907, 0.9671894311904907, 0.9671894311904907, 0.9671597480773926, 0.965609073638916, 0.965609073638916, 0.9641643762588501, 0.9641643762588501, 0.9624354243278503, 0.9611612558364868, 0.9607688784599304, 0.9592545032501221, 0.958662211894989, 0.9559041857719421, 0.9559041857719421, 0.9552584886550903, 0.9548386335372925, 0.9548197388648987, 0.953349769115448, 0.953349769115448, 0.9528704881668091, 0.951762318611145, 0.951521635055542, 0.9512699246406555, 0.9509329199790955, 0.9488521814346313, 0.9767816662788391, 0.9675326347351074, 0.9635461568832397, 0.9621405601501465, 0.9603921175003052, 0.9596789479255676, 0.9594031572341919, 0.9534626007080078, 0.9534626007080078, 0.953230619430542, 0.9493857026100159, 0.9489284753799438, 0.9489284753799438, 0.9489284753799438, 0.9489284753799438, 0.9489284753799438, 0.9486833810806274, 0.9463773965835571, 0.9436284899711609, 0.9430055022239685, 0.9429903030395508, 0.9429903030395508, 0.9429903030395508, 0.9408842325210571, 0.9400193691253662, 0.9391485452651978, 0.93898606300354, 0.93898606300354, 0.93898606300354, 0.9389711618423462, 0.9389710426330566, 0.9354953765869141, 0.9354953765869141, 0.9354143142700195, 0.9339475631713867, 0.9339475631713867, 0.9339475631713867, 0.9336222410202026, 0.9333810210227966, 0.9311283230781555, 0.929516077041626, 0.9765536189079285, 0.9750854969024658, 0.974913477897644, 0.974913477897644, 0.974913477897644, 0.9723448753356934, 0.9723448753356934, 0.9716053605079651, 0.9707252979278564, 0.9673306941986084, 0.9673306941986084, 0.9609277844429016, 0.9607689380645752, 0.9607689380645752, 0.9607689380645752, 0.9578132629394531, 0.9575175046920776, 0.9553170800209045, 0.9542195796966553, 0.9534240365028381, 0.9529258012771606, 0.9518744945526123, 0.9516485929489136, 0.9516485929489136, 0.9516485929489136, 0.9516485929489136, 0.9516485929489136, 0.9516485929489136, 0.9516485929489136, 0.9516485929489136, 0.951034426689148, 0.951034426689148, 0.9509329199790955, 0.9509329199790955, 0.9487438201904297, 0.9478946328163147, 0.9476128816604614, 0.9464573860168457, 0.9460287094116211, 0.9448346495628357, 0.9448346495628357, 1.0, 1.0, 1.0, 1.0, 1.0, 1.0, 1.0, 1.0, 1.0, 0.9701424837112427, 0.9701424837112427, 0.9354143142700195, 0.9354143142700195, 0.9354143142700195, 0.9354143142700195, 0.9176629185676575, 0.8944271802902222, 0.875, 0.875, 0.8660253882408142, 0.8660253286361694, 0.8660253286361694, 0.8660253286361694, 0.8504200577735901, 0.8498365879058838, 0.8333333730697632, 0.8320502638816833, 0.8320502638816833, 0.8320502638816833, 0.8249579071998596, 0.8249579071998596, 0.8164966106414795, 0.8164966106414795, 0.812604546546936, 0.8111474514007568, 0.8111070990562439, 0.8082239031791687, 0.8082238435745239, 0.8017836809158325, 0.8017836809158325, 0.8017836809158325, 0.9767816662788391, 0.9675326347351074, 0.9635461568832397, 0.9621405601501465, 0.9603921175003052, 0.9596789479255676, 0.9594031572341919, 0.9534626007080078, 0.9534626007080078, 0.953230619430542, 0.9493857026100159, 0.9489284753799438, 0.9489284753799438, 0.9489284753799438, 0.9489284753799438, 0.9489284753799438, 0.9486833810806274, 0.9463773965835571, 0.9436284899711609, 0.9430055022239685, 0.9429903030395508, 0.9429903030395508, 0.9429903030395508, 0.9408842325210571, 0.9400193691253662, 0.9391485452651978, 0.93898606300354, 0.93898606300354, 0.93898606300354, 0.9389711618423462, 0.9389710426330566, 0.9354953765869141, 0.9354953765869141, 0.9354143142700195, 0.9339475631713867, 0.9339475631713867, 0.9339475631713867, 0.9336222410202026, 0.9333810210227966, 0.9311283230781555, 0.929516077041626, 0.9767816662788391, 0.9675326347351074, 0.9635461568832397, 0.9621405601501465, 0.9603921175003052, 0.9596789479255676, 0.9594031572341919, 0.9534626007080078, 0.9534626007080078, 0.953230619430542, 0.9493857026100159, 0.9489284753799438, 0.9489284753799438, 0.9489284753799438, 0.9489284753799438, 0.9489284753799438, 0.9486833810806274, 0.9463773965835571, 0.9436284899711609, 0.9430055022239685, 0.9429903030395508, 0.9429903030395508, 0.9429903030395508, 0.9408842325210571, 0.9400193691253662, 0.9391485452651978, 0.93898606300354, 0.93898606300354, 0.93898606300354, 0.9389711618423462, 0.9389710426330566, 0.9354953765869141, 0.9354953765869141, 0.9354143142700195, 0.9339475631713867, 0.9339475631713867, 0.9339475631713867, 0.9336222410202026, 0.9333810210227966, 0.9311283230781555, 0.929516077041626, 0.9765536189079285, 0.9750854969024658, 0.974913477897644, 0.974913477897644, 0.974913477897644, 0.9723448753356934, 0.9723448753356934, 0.9716053605079651, 0.9707252979278564, 0.9673306941986084, 0.9673306941986084, 0.9609277844429016, 0.9607689380645752, 0.9607689380645752, 0.9607689380645752, 0.9578132629394531, 0.9575175046920776, 0.9553170800209045, 0.9542195796966553, 0.9534240365028381, 0.9529258012771606, 0.9518744945526123, 0.9516485929489136, 0.9516485929489136, 0.9516485929489136, 0.9516485929489136, 0.9516485929489136, 0.9516485929489136, 0.9516485929489136, 0.9516485929489136, 0.951034426689148, 0.951034426689148, 0.9509329199790955, 0.9509329199790955, 0.9487438201904297, 0.9478946328163147, 0.9476128816604614, 0.9464573860168457, 0.9460287094116211, 0.9448346495628357, 0.9448346495628357, 1.0, 1.0, 1.0, 1.0, 1.0, 1.0, 1.0, 1.0, 1.0, 0.9701424837112427, 0.9701424837112427, 0.9354143142700195, 0.9354143142700195, 0.9354143142700195, 0.9354143142700195, 0.9176629185676575, 0.8944271802902222, 0.875, 0.875, 0.8660253882408142, 0.8660253286361694, 0.8660253286361694, 0.8660253286361694, 0.8504200577735901, 0.8498365879058838, 0.8333333730697632, 0.8320502638816833, 0.8320502638816833, 0.8320502638816833, 0.8249579071998596, 0.8249579071998596, 0.8164966106414795, 0.8164966106414795, 0.812604546546936, 0.8111474514007568, 0.8111070990562439, 0.8082239031791687, 0.8082238435745239, 0.8017836809158325, 0.8017836809158325, 0.8017836809158325, 0.9767816662788391, 0.9675326347351074, 0.9635461568832397, 0.9621405601501465, 0.9603921175003052, 0.9596789479255676, 0.9594031572341919, 0.9534626007080078, 0.9534626007080078, 0.953230619430542, 0.9493857026100159, 0.9489284753799438, 0.9489284753799438, 0.9489284753799438, 0.9489284753799438, 0.9489284753799438, 0.9486833810806274, 0.9463773965835571, 0.9436284899711609, 0.9430055022239685, 0.9429903030395508, 0.9429903030395508, 0.9429903030395508, 0.9408842325210571, 0.9400193691253662, 0.9391485452651978, 0.93898606300354, 0.93898606300354, 0.93898606300354, 0.9389711618423462, 0.9389710426330566, 0.9354953765869141, 0.9354953765869141, 0.9354143142700195, 0.9339475631713867, 0.9339475631713867, 0.9339475631713867, 0.9336222410202026, 0.9333810210227966, 0.9311283230781555, 0.929516077041626, 0.9746794104576111, 0.9550229907035828, 0.953462541103363, 0.9486833214759827, 0.9486833214759827, 0.9467291831970215, 0.9449110627174377, 0.9341986179351807, 0.9316949844360352, 0.9316949844360352, 0.9316949844360352, 0.9316949844360352, 0.9316949844360352, 0.9315561056137085, 0.9296694993972778, 0.9237021803855896, 0.9237021207809448, 0.9237021207809448, 0.9237021207809448, 0.9237021207809448, 0.9216352701187134, 0.9209109544754028, 0.9203580021858215, 0.9203580021858215, 0.9203580021858215, 0.9190182685852051, 0.9190182685852051, 0.9170604944229126, 0.9141740798950195, 0.9135002493858337, 0.9135002493858337, 0.9135002493858337, 0.9135002493858337, 0.9135002493858337, 0.9132592678070068, 0.9128710031509399, 0.9128708839416504, 0.9101698398590088, 0.9101698398590088, 0.9101698398590088, 0.9091922640800476, 0.9574272632598877, 0.9486833810806274, 0.9449112415313721, 0.9428089261054993, 0.9415963292121887, 0.9298989176750183, 0.9244735836982727, 0.9238697290420532, 0.922330915927887, 0.9185587763786316, 0.9185587167739868, 0.9141378402709961, 0.9141378402709961, 0.9141378402709961, 0.9138600826263428, 0.9131712913513184, 0.9128710627555847, 0.9128710627555847, 0.9128710627555847, 0.9128710627555847, 0.9128710627555847, 0.9128710627555847, 0.9128708243370056, 0.9112957715988159, 0.9103456735610962, 0.9097177386283875, 0.9097177386283875, 0.9082951545715332, 0.9082951545715332, 0.9072184562683105, 0.9060606956481934, 0.9058216214179993, 0.9058216214179993, 0.9058215022087097, 0.9056544899940491, 0.9036962389945984, 0.9036961793899536, 0.9036961793899536, 0.9035252928733826, 0.9035096764564514, 0.9027306437492371, 0.8682432174682617, 0.8362419605255127, 0.8278374075889587, 0.827837347984314, 0.8006407022476196, 0.8006407022476196, 0.8006407022476196, 0.8006407022476196, 0.7893521785736084, 0.7893521785736084, 0.7893521785736084, 0.7844645380973816, 0.7692307829856873, 0.7692307829856873, 0.7692307829856873, 0.762712836265564, 0.7627127766609192, 0.7614995241165161, 0.7526177763938904, 0.7518093585968018, 0.7518093585968018, 0.7472647428512573, 0.7433851361274719, 0.7412493228912354, 0.7412493228912354, 0.7412493228912354, 0.7412493228912354, 0.7399401068687439, 0.7399399876594543, 0.7396002411842346, 0.7354354858398438, 0.7354354858398438, 0.7354354858398438, 0.7282019853591919, 0.7275328636169434, 0.7242068648338318, 0.7238423228263855, 0.7211102843284607, 0.7211102843284607, 0.7211102843284607, 0.7205766439437866, 0.9565216302871704, 0.9565216302871704, 0.9498989582061768, 0.9457323551177979, 0.9451745748519897, 0.944369912147522, 0.9437401294708252, 0.9437401294708252, 0.9437401294708252, 0.9383845925331116, 0.9383149147033691, 0.9363822340965271, 0.9363821148872375, 0.9348927736282349, 0.9337990283966064, 0.9337990283966064, 0.933563768863678, 0.9325048327445984, 0.9325048327445984, 0.9325048327445984, 0.9325047135353088, 0.9308956265449524, 0.929283618927002, 0.9292835593223572, 0.9274376630783081, 0.9267343878746033, 0.9255480766296387, 0.9255480766296387, 0.9231327176094055, 0.9229581356048584, 0.9223131537437439, 0.9215121269226074, 0.9215121269226074, 0.9215121269226074, 0.9200671911239624, 0.9194621443748474, 0.9191833138465881, 0.9187147617340088, 0.9170672297477722, 0.9163795709609985, 0.915249228477478], \"xaxis\": \"x\", \"yaxis\": \"y\"}],\n",
              "                        {\"barmode\": \"relative\", \"legend\": {\"tracegroupgap\": 0}, \"margin\": {\"t\": 60}, \"template\": {\"data\": {\"bar\": [{\"error_x\": {\"color\": \"#2a3f5f\"}, \"error_y\": {\"color\": \"#2a3f5f\"}, \"marker\": {\"line\": {\"color\": \"#E5ECF6\", \"width\": 0.5}}, \"type\": \"bar\"}], \"barpolar\": [{\"marker\": {\"line\": {\"color\": \"#E5ECF6\", \"width\": 0.5}}, \"type\": \"barpolar\"}], \"carpet\": [{\"aaxis\": {\"endlinecolor\": \"#2a3f5f\", \"gridcolor\": \"white\", \"linecolor\": \"white\", \"minorgridcolor\": \"white\", \"startlinecolor\": \"#2a3f5f\"}, \"baxis\": {\"endlinecolor\": \"#2a3f5f\", \"gridcolor\": \"white\", \"linecolor\": \"white\", \"minorgridcolor\": \"white\", \"startlinecolor\": \"#2a3f5f\"}, \"type\": \"carpet\"}], \"choropleth\": [{\"colorbar\": {\"outlinewidth\": 0, \"ticks\": \"\"}, \"type\": \"choropleth\"}], \"contour\": [{\"colorbar\": {\"outlinewidth\": 0, \"ticks\": \"\"}, \"colorscale\": [[0.0, \"#0d0887\"], [0.1111111111111111, \"#46039f\"], [0.2222222222222222, \"#7201a8\"], [0.3333333333333333, \"#9c179e\"], [0.4444444444444444, \"#bd3786\"], [0.5555555555555556, \"#d8576b\"], [0.6666666666666666, \"#ed7953\"], [0.7777777777777778, \"#fb9f3a\"], [0.8888888888888888, \"#fdca26\"], [1.0, \"#f0f921\"]], \"type\": \"contour\"}], \"contourcarpet\": [{\"colorbar\": {\"outlinewidth\": 0, \"ticks\": \"\"}, \"type\": \"contourcarpet\"}], \"heatmap\": [{\"colorbar\": {\"outlinewidth\": 0, \"ticks\": \"\"}, \"colorscale\": [[0.0, \"#0d0887\"], [0.1111111111111111, \"#46039f\"], [0.2222222222222222, \"#7201a8\"], [0.3333333333333333, \"#9c179e\"], [0.4444444444444444, \"#bd3786\"], [0.5555555555555556, \"#d8576b\"], [0.6666666666666666, \"#ed7953\"], [0.7777777777777778, \"#fb9f3a\"], [0.8888888888888888, \"#fdca26\"], [1.0, \"#f0f921\"]], \"type\": \"heatmap\"}], \"heatmapgl\": [{\"colorbar\": {\"outlinewidth\": 0, \"ticks\": \"\"}, \"colorscale\": [[0.0, \"#0d0887\"], [0.1111111111111111, \"#46039f\"], [0.2222222222222222, \"#7201a8\"], [0.3333333333333333, \"#9c179e\"], [0.4444444444444444, \"#bd3786\"], [0.5555555555555556, \"#d8576b\"], [0.6666666666666666, \"#ed7953\"], [0.7777777777777778, \"#fb9f3a\"], [0.8888888888888888, \"#fdca26\"], [1.0, \"#f0f921\"]], \"type\": \"heatmapgl\"}], \"histogram\": [{\"marker\": {\"colorbar\": {\"outlinewidth\": 0, \"ticks\": \"\"}}, \"type\": \"histogram\"}], \"histogram2d\": [{\"colorbar\": {\"outlinewidth\": 0, \"ticks\": \"\"}, \"colorscale\": [[0.0, \"#0d0887\"], [0.1111111111111111, \"#46039f\"], [0.2222222222222222, \"#7201a8\"], [0.3333333333333333, \"#9c179e\"], [0.4444444444444444, \"#bd3786\"], [0.5555555555555556, \"#d8576b\"], [0.6666666666666666, \"#ed7953\"], [0.7777777777777778, \"#fb9f3a\"], [0.8888888888888888, \"#fdca26\"], [1.0, \"#f0f921\"]], \"type\": \"histogram2d\"}], \"histogram2dcontour\": [{\"colorbar\": {\"outlinewidth\": 0, \"ticks\": \"\"}, \"colorscale\": [[0.0, \"#0d0887\"], [0.1111111111111111, \"#46039f\"], [0.2222222222222222, \"#7201a8\"], [0.3333333333333333, \"#9c179e\"], [0.4444444444444444, \"#bd3786\"], [0.5555555555555556, \"#d8576b\"], [0.6666666666666666, \"#ed7953\"], [0.7777777777777778, \"#fb9f3a\"], [0.8888888888888888, \"#fdca26\"], [1.0, \"#f0f921\"]], \"type\": \"histogram2dcontour\"}], \"mesh3d\": [{\"colorbar\": {\"outlinewidth\": 0, \"ticks\": \"\"}, \"type\": \"mesh3d\"}], \"parcoords\": [{\"line\": {\"colorbar\": {\"outlinewidth\": 0, \"ticks\": \"\"}}, \"type\": \"parcoords\"}], \"pie\": [{\"automargin\": true, \"type\": \"pie\"}], \"scatter\": [{\"marker\": {\"colorbar\": {\"outlinewidth\": 0, \"ticks\": \"\"}}, \"type\": \"scatter\"}], \"scatter3d\": [{\"line\": {\"colorbar\": {\"outlinewidth\": 0, \"ticks\": \"\"}}, \"marker\": {\"colorbar\": {\"outlinewidth\": 0, \"ticks\": \"\"}}, \"type\": \"scatter3d\"}], \"scattercarpet\": [{\"marker\": {\"colorbar\": {\"outlinewidth\": 0, \"ticks\": \"\"}}, \"type\": \"scattercarpet\"}], \"scattergeo\": [{\"marker\": {\"colorbar\": {\"outlinewidth\": 0, \"ticks\": \"\"}}, \"type\": \"scattergeo\"}], \"scattergl\": [{\"marker\": {\"colorbar\": {\"outlinewidth\": 0, \"ticks\": \"\"}}, \"type\": \"scattergl\"}], \"scattermapbox\": [{\"marker\": {\"colorbar\": {\"outlinewidth\": 0, \"ticks\": \"\"}}, \"type\": \"scattermapbox\"}], \"scatterpolar\": [{\"marker\": {\"colorbar\": {\"outlinewidth\": 0, \"ticks\": \"\"}}, \"type\": \"scatterpolar\"}], \"scatterpolargl\": [{\"marker\": {\"colorbar\": {\"outlinewidth\": 0, \"ticks\": \"\"}}, \"type\": \"scatterpolargl\"}], \"scatterternary\": [{\"marker\": {\"colorbar\": {\"outlinewidth\": 0, \"ticks\": \"\"}}, \"type\": \"scatterternary\"}], \"surface\": [{\"colorbar\": {\"outlinewidth\": 0, \"ticks\": \"\"}, \"colorscale\": [[0.0, \"#0d0887\"], [0.1111111111111111, \"#46039f\"], [0.2222222222222222, \"#7201a8\"], [0.3333333333333333, \"#9c179e\"], [0.4444444444444444, \"#bd3786\"], [0.5555555555555556, \"#d8576b\"], [0.6666666666666666, \"#ed7953\"], [0.7777777777777778, \"#fb9f3a\"], [0.8888888888888888, \"#fdca26\"], [1.0, \"#f0f921\"]], \"type\": \"surface\"}], \"table\": [{\"cells\": {\"fill\": {\"color\": \"#EBF0F8\"}, \"line\": {\"color\": \"white\"}}, \"header\": {\"fill\": {\"color\": \"#C8D4E3\"}, \"line\": {\"color\": \"white\"}}, \"type\": \"table\"}]}, \"layout\": {\"annotationdefaults\": {\"arrowcolor\": \"#2a3f5f\", \"arrowhead\": 0, \"arrowwidth\": 1}, \"coloraxis\": {\"colorbar\": {\"outlinewidth\": 0, \"ticks\": \"\"}}, \"colorscale\": {\"diverging\": [[0, \"#8e0152\"], [0.1, \"#c51b7d\"], [0.2, \"#de77ae\"], [0.3, \"#f1b6da\"], [0.4, \"#fde0ef\"], [0.5, \"#f7f7f7\"], [0.6, \"#e6f5d0\"], [0.7, \"#b8e186\"], [0.8, \"#7fbc41\"], [0.9, \"#4d9221\"], [1, \"#276419\"]], \"sequential\": [[0.0, \"#0d0887\"], [0.1111111111111111, \"#46039f\"], [0.2222222222222222, \"#7201a8\"], [0.3333333333333333, \"#9c179e\"], [0.4444444444444444, \"#bd3786\"], [0.5555555555555556, \"#d8576b\"], [0.6666666666666666, \"#ed7953\"], [0.7777777777777778, \"#fb9f3a\"], [0.8888888888888888, \"#fdca26\"], [1.0, \"#f0f921\"]], \"sequentialminus\": [[0.0, \"#0d0887\"], [0.1111111111111111, \"#46039f\"], [0.2222222222222222, \"#7201a8\"], [0.3333333333333333, \"#9c179e\"], [0.4444444444444444, \"#bd3786\"], [0.5555555555555556, \"#d8576b\"], [0.6666666666666666, \"#ed7953\"], [0.7777777777777778, \"#fb9f3a\"], [0.8888888888888888, \"#fdca26\"], [1.0, \"#f0f921\"]]}, \"colorway\": [\"#636efa\", \"#EF553B\", \"#00cc96\", \"#ab63fa\", \"#FFA15A\", \"#19d3f3\", \"#FF6692\", \"#B6E880\", \"#FF97FF\", \"#FECB52\"], \"font\": {\"color\": \"#2a3f5f\"}, \"geo\": {\"bgcolor\": \"white\", \"lakecolor\": \"white\", \"landcolor\": \"#E5ECF6\", \"showlakes\": true, \"showland\": true, \"subunitcolor\": \"white\"}, \"hoverlabel\": {\"align\": \"left\"}, \"hovermode\": \"closest\", \"mapbox\": {\"style\": \"light\"}, \"paper_bgcolor\": \"white\", \"plot_bgcolor\": \"#E5ECF6\", \"polar\": {\"angularaxis\": {\"gridcolor\": \"white\", \"linecolor\": \"white\", \"ticks\": \"\"}, \"bgcolor\": \"#E5ECF6\", \"radialaxis\": {\"gridcolor\": \"white\", \"linecolor\": \"white\", \"ticks\": \"\"}}, \"scene\": {\"xaxis\": {\"backgroundcolor\": \"#E5ECF6\", \"gridcolor\": \"white\", \"gridwidth\": 2, \"linecolor\": \"white\", \"showbackground\": true, \"ticks\": \"\", \"zerolinecolor\": \"white\"}, \"yaxis\": {\"backgroundcolor\": \"#E5ECF6\", \"gridcolor\": \"white\", \"gridwidth\": 2, \"linecolor\": \"white\", \"showbackground\": true, \"ticks\": \"\", \"zerolinecolor\": \"white\"}, \"zaxis\": {\"backgroundcolor\": \"#E5ECF6\", \"gridcolor\": \"white\", \"gridwidth\": 2, \"linecolor\": \"white\", \"showbackground\": true, \"ticks\": \"\", \"zerolinecolor\": \"white\"}}, \"shapedefaults\": {\"line\": {\"color\": \"#2a3f5f\"}}, \"ternary\": {\"aaxis\": {\"gridcolor\": \"white\", \"linecolor\": \"white\", \"ticks\": \"\"}, \"baxis\": {\"gridcolor\": \"white\", \"linecolor\": \"white\", \"ticks\": \"\"}, \"bgcolor\": \"#E5ECF6\", \"caxis\": {\"gridcolor\": \"white\", \"linecolor\": \"white\", \"ticks\": \"\"}}, \"title\": {\"x\": 0.05}, \"xaxis\": {\"automargin\": true, \"gridcolor\": \"white\", \"linecolor\": \"white\", \"ticks\": \"\", \"title\": {\"standoff\": 15}, \"zerolinecolor\": \"white\", \"zerolinewidth\": 2}, \"yaxis\": {\"automargin\": true, \"gridcolor\": \"white\", \"linecolor\": \"white\", \"ticks\": \"\", \"title\": {\"standoff\": 15}, \"zerolinecolor\": \"white\", \"zerolinewidth\": 2}}}, \"xaxis\": {\"anchor\": \"y\", \"domain\": [0.0, 1.0], \"title\": {\"text\": \"score\"}}, \"yaxis\": {\"anchor\": \"x\", \"domain\": [0.0, 1.0], \"title\": {\"text\": \"count\"}}},\n",
              "                        {\"responsive\": true}\n",
              "                    ).then(function(){\n",
              "                            \n",
              "var gd = document.getElementById('620b152f-2c7d-48b8-a426-2f4b0720f226');\n",
              "var x = new MutationObserver(function (mutations, observer) {{\n",
              "        var display = window.getComputedStyle(gd).display;\n",
              "        if (!display || display === 'none') {{\n",
              "            console.log([gd, 'removed!']);\n",
              "            Plotly.purge(gd);\n",
              "            observer.disconnect();\n",
              "        }}\n",
              "}});\n",
              "\n",
              "// Listen for the removal of the full notebook cells\n",
              "var notebookContainer = gd.closest('#notebook-container');\n",
              "if (notebookContainer) {{\n",
              "    x.observe(notebookContainer, {childList: true});\n",
              "}}\n",
              "\n",
              "// Listen for the clearing of the current output cell\n",
              "var outputEl = gd.closest('.output');\n",
              "if (outputEl) {{\n",
              "    x.observe(outputEl, {childList: true});\n",
              "}}\n",
              "\n",
              "                        })\n",
              "                };\n",
              "                \n",
              "            </script>\n",
              "        </div>\n",
              "</body>\n",
              "</html>"
            ]
          },
          "metadata": {}
        }
      ]
    },
    {
      "cell_type": "code",
      "metadata": {
        "id": "OZ0YfkIO9g5V"
      },
      "source": [
        "def recommend_tune(df, tune_name):\n",
        "\n",
        "  df_tune = df.query(f\"reference_title == '{tune_name}'\")\n",
        "  ff = df_tune.iloc[:]\n",
        "\n",
        "  # get the maximum similarity score for each section and store in new column\n",
        "  ff['max'] = ff.groupby('ref_section')['score'].transform('max')\n",
        "\n",
        "  # scale the score with the maxmum value of each section\n",
        "  ff['score_div_max'] = ff['score'] / ff['max']\n",
        "\n",
        "  # consider only the top N tunes for each group\n",
        "  ff = ff.sort_values(['ref_section', 'score_div_max'], ascending=[True, False])\n",
        "  result = ff.groupby('ref_section').head(30)\n",
        "  \n",
        "  # if multiple rows from the same similar tune, keep only the similar_title with the highest score_div_max\n",
        "  result = result.groupby('similar_title').max('score_div_max').sort_values('score_div_max', ascending=False)\n",
        "\n",
        "  return result, ff"
      ],
      "execution_count": 28,
      "outputs": []
    },
    {
      "cell_type": "code",
      "metadata": {
        "colab": {
          "base_uri": "https://localhost:8080/",
          "height": 1000
        },
        "id": "ohaxVQ6d9iiD",
        "outputId": "f0245d9a-73e5-4252-a900-75bb6c0b898b"
      },
      "source": [
        "result, details = recommend_tune(df_sim, 'Blue Moon')\n",
        "result.head(30)"
      ],
      "execution_count": 29,
      "outputs": [
        {
          "output_type": "stream",
          "name": "stderr",
          "text": [
            "2021-11-19 22:13:11,660 : INFO : NumExpr defaulting to 2 threads.\n"
          ]
        },
        {
          "output_type": "execute_result",
          "data": {
            "text/html": [
              "<div>\n",
              "<style scoped>\n",
              "    .dataframe tbody tr th:only-of-type {\n",
              "        vertical-align: middle;\n",
              "    }\n",
              "\n",
              "    .dataframe tbody tr th {\n",
              "        vertical-align: top;\n",
              "    }\n",
              "\n",
              "    .dataframe thead th {\n",
              "        text-align: right;\n",
              "    }\n",
              "</style>\n",
              "<table border=\"1\" class=\"dataframe\">\n",
              "  <thead>\n",
              "    <tr style=\"text-align: right;\">\n",
              "      <th></th>\n",
              "      <th>score</th>\n",
              "      <th>max</th>\n",
              "      <th>score_div_max</th>\n",
              "    </tr>\n",
              "    <tr>\n",
              "      <th>similar_title</th>\n",
              "      <th></th>\n",
              "      <th></th>\n",
              "      <th></th>\n",
              "    </tr>\n",
              "  </thead>\n",
              "  <tbody>\n",
              "    <tr>\n",
              "      <th>Things We Did Last Summer, The</th>\n",
              "      <td>0.927634</td>\n",
              "      <td>0.927634</td>\n",
              "      <td>1.000000</td>\n",
              "    </tr>\n",
              "    <tr>\n",
              "      <th>At Last</th>\n",
              "      <td>0.978261</td>\n",
              "      <td>0.978261</td>\n",
              "      <td>1.000000</td>\n",
              "    </tr>\n",
              "    <tr>\n",
              "      <th>Be Careful It's My Heart</th>\n",
              "      <td>0.928477</td>\n",
              "      <td>0.928477</td>\n",
              "      <td>1.000000</td>\n",
              "    </tr>\n",
              "    <tr>\n",
              "      <th>Touch Of Your Lips, The</th>\n",
              "      <td>0.956730</td>\n",
              "      <td>0.978261</td>\n",
              "      <td>0.989706</td>\n",
              "    </tr>\n",
              "    <tr>\n",
              "      <th>Long Ago And Far Away</th>\n",
              "      <td>0.968004</td>\n",
              "      <td>0.978261</td>\n",
              "      <td>0.989515</td>\n",
              "    </tr>\n",
              "    <tr>\n",
              "      <th>Palo Alto</th>\n",
              "      <td>0.914090</td>\n",
              "      <td>0.927634</td>\n",
              "      <td>0.985400</td>\n",
              "    </tr>\n",
              "    <tr>\n",
              "      <th>Speak Low</th>\n",
              "      <td>0.914301</td>\n",
              "      <td>0.928477</td>\n",
              "      <td>0.984732</td>\n",
              "    </tr>\n",
              "    <tr>\n",
              "      <th>Jeepers Creepers</th>\n",
              "      <td>0.956929</td>\n",
              "      <td>0.978261</td>\n",
              "      <td>0.982000</td>\n",
              "    </tr>\n",
              "    <tr>\n",
              "      <th>All God's Chillun Got Rhythm</th>\n",
              "      <td>0.909509</td>\n",
              "      <td>0.927634</td>\n",
              "      <td>0.980461</td>\n",
              "    </tr>\n",
              "    <tr>\n",
              "      <th>Mountain Greenery</th>\n",
              "      <td>0.958373</td>\n",
              "      <td>0.978261</td>\n",
              "      <td>0.979670</td>\n",
              "    </tr>\n",
              "    <tr>\n",
              "      <th>It Could Happen To You</th>\n",
              "      <td>0.908108</td>\n",
              "      <td>0.927634</td>\n",
              "      <td>0.978951</td>\n",
              "    </tr>\n",
              "    <tr>\n",
              "      <th>Try A Little Tenderness</th>\n",
              "      <td>0.908108</td>\n",
              "      <td>0.927634</td>\n",
              "      <td>0.978951</td>\n",
              "    </tr>\n",
              "    <tr>\n",
              "      <th>Teach Me Tonight</th>\n",
              "      <td>0.908025</td>\n",
              "      <td>0.927634</td>\n",
              "      <td>0.978862</td>\n",
              "    </tr>\n",
              "    <tr>\n",
              "      <th>Shoe Shine Boy</th>\n",
              "      <td>0.904662</td>\n",
              "      <td>0.927634</td>\n",
              "      <td>0.975237</td>\n",
              "    </tr>\n",
              "    <tr>\n",
              "      <th>Beyond The Sea</th>\n",
              "      <td>0.953015</td>\n",
              "      <td>0.978261</td>\n",
              "      <td>0.974193</td>\n",
              "    </tr>\n",
              "    <tr>\n",
              "      <th>Don't Be That Way</th>\n",
              "      <td>0.951734</td>\n",
              "      <td>0.978261</td>\n",
              "      <td>0.972883</td>\n",
              "    </tr>\n",
              "    <tr>\n",
              "      <th>Heart And Soul</th>\n",
              "      <td>0.951587</td>\n",
              "      <td>0.978261</td>\n",
              "      <td>0.972734</td>\n",
              "    </tr>\n",
              "    <tr>\n",
              "      <th>Over The Rainbow (Somewhere)</th>\n",
              "      <td>0.950856</td>\n",
              "      <td>0.978261</td>\n",
              "      <td>0.971986</td>\n",
              "    </tr>\n",
              "    <tr>\n",
              "      <th>I Like The Likes Of You</th>\n",
              "      <td>0.949716</td>\n",
              "      <td>0.978261</td>\n",
              "      <td>0.970821</td>\n",
              "    </tr>\n",
              "    <tr>\n",
              "      <th>Time After Time</th>\n",
              "      <td>0.900284</td>\n",
              "      <td>0.927634</td>\n",
              "      <td>0.970517</td>\n",
              "    </tr>\n",
              "    <tr>\n",
              "      <th>I've Heard That Song Before</th>\n",
              "      <td>0.900500</td>\n",
              "      <td>0.928477</td>\n",
              "      <td>0.969869</td>\n",
              "    </tr>\n",
              "    <tr>\n",
              "      <th>Let's Fall In Love</th>\n",
              "      <td>0.948644</td>\n",
              "      <td>0.978261</td>\n",
              "      <td>0.969725</td>\n",
              "    </tr>\n",
              "    <tr>\n",
              "      <th>Way You Look Tonight, The</th>\n",
              "      <td>0.947373</td>\n",
              "      <td>0.978261</td>\n",
              "      <td>0.968426</td>\n",
              "    </tr>\n",
              "    <tr>\n",
              "      <th>Miss Otis Regrets</th>\n",
              "      <td>0.897864</td>\n",
              "      <td>0.927634</td>\n",
              "      <td>0.967908</td>\n",
              "    </tr>\n",
              "    <tr>\n",
              "      <th>Too Young To Go Steady</th>\n",
              "      <td>0.897382</td>\n",
              "      <td>0.927634</td>\n",
              "      <td>0.967388</td>\n",
              "    </tr>\n",
              "    <tr>\n",
              "      <th>All Through The Day</th>\n",
              "      <td>0.896552</td>\n",
              "      <td>0.928477</td>\n",
              "      <td>0.965616</td>\n",
              "    </tr>\n",
              "    <tr>\n",
              "      <th>Young At Heart</th>\n",
              "      <td>0.895608</td>\n",
              "      <td>0.927634</td>\n",
              "      <td>0.965476</td>\n",
              "    </tr>\n",
              "    <tr>\n",
              "      <th>Party's Over, The</th>\n",
              "      <td>0.895286</td>\n",
              "      <td>0.927634</td>\n",
              "      <td>0.965129</td>\n",
              "    </tr>\n",
              "    <tr>\n",
              "      <th>I've Got You Under My Skin</th>\n",
              "      <td>0.895171</td>\n",
              "      <td>0.927634</td>\n",
              "      <td>0.965005</td>\n",
              "    </tr>\n",
              "    <tr>\n",
              "      <th>Moonlight In Vermont</th>\n",
              "      <td>0.943042</td>\n",
              "      <td>0.978261</td>\n",
              "      <td>0.963998</td>\n",
              "    </tr>\n",
              "  </tbody>\n",
              "</table>\n",
              "</div>"
            ],
            "text/plain": [
              "                                   score       max  score_div_max\n",
              "similar_title                                                    \n",
              "Things We Did Last Summer, The  0.927634  0.927634       1.000000\n",
              "At Last                         0.978261  0.978261       1.000000\n",
              "Be Careful It's My Heart        0.928477  0.928477       1.000000\n",
              "Touch Of Your Lips, The         0.956730  0.978261       0.989706\n",
              "Long Ago And Far Away           0.968004  0.978261       0.989515\n",
              "Palo Alto                       0.914090  0.927634       0.985400\n",
              "Speak Low                       0.914301  0.928477       0.984732\n",
              "Jeepers Creepers                0.956929  0.978261       0.982000\n",
              "All God's Chillun Got Rhythm    0.909509  0.927634       0.980461\n",
              "Mountain Greenery               0.958373  0.978261       0.979670\n",
              "It Could Happen To You          0.908108  0.927634       0.978951\n",
              "Try A Little Tenderness         0.908108  0.927634       0.978951\n",
              "Teach Me Tonight                0.908025  0.927634       0.978862\n",
              "Shoe Shine Boy                  0.904662  0.927634       0.975237\n",
              "Beyond The Sea                  0.953015  0.978261       0.974193\n",
              "Don't Be That Way               0.951734  0.978261       0.972883\n",
              "Heart And Soul                  0.951587  0.978261       0.972734\n",
              "Over The Rainbow (Somewhere)    0.950856  0.978261       0.971986\n",
              "I Like The Likes Of You         0.949716  0.978261       0.970821\n",
              "Time After Time                 0.900284  0.927634       0.970517\n",
              "I've Heard That Song Before     0.900500  0.928477       0.969869\n",
              "Let's Fall In Love              0.948644  0.978261       0.969725\n",
              "Way You Look Tonight, The       0.947373  0.978261       0.968426\n",
              "Miss Otis Regrets               0.897864  0.927634       0.967908\n",
              "Too Young To Go Steady          0.897382  0.927634       0.967388\n",
              "All Through The Day             0.896552  0.928477       0.965616\n",
              "Young At Heart                  0.895608  0.927634       0.965476\n",
              "Party's Over, The               0.895286  0.927634       0.965129\n",
              "I've Got You Under My Skin      0.895171  0.927634       0.965005\n",
              "Moonlight In Vermont            0.943042  0.978261       0.963998"
            ]
          },
          "metadata": {},
          "execution_count": 29
        }
      ]
    },
    {
      "cell_type": "code",
      "metadata": {
        "colab": {
          "base_uri": "https://localhost:8080/",
          "height": 49
        },
        "id": "FwjwvgO9-B5G",
        "outputId": "cc2e70ae-0526-4d52-955d-6cdcb9b08017"
      },
      "source": [
        "details.query('ref_section == \"These Foolish Things, section3 (B)\"').head(10)"
      ],
      "execution_count": 30,
      "outputs": [
        {
          "output_type": "execute_result",
          "data": {
            "text/html": [
              "<div>\n",
              "<style scoped>\n",
              "    .dataframe tbody tr th:only-of-type {\n",
              "        vertical-align: middle;\n",
              "    }\n",
              "\n",
              "    .dataframe tbody tr th {\n",
              "        vertical-align: top;\n",
              "    }\n",
              "\n",
              "    .dataframe thead th {\n",
              "        text-align: right;\n",
              "    }\n",
              "</style>\n",
              "<table border=\"1\" class=\"dataframe\">\n",
              "  <thead>\n",
              "    <tr style=\"text-align: right;\">\n",
              "      <th></th>\n",
              "      <th>reference_title</th>\n",
              "      <th>similar_title</th>\n",
              "      <th>ref_section</th>\n",
              "      <th>similar_section</th>\n",
              "      <th>score</th>\n",
              "      <th>max</th>\n",
              "      <th>score_div_max</th>\n",
              "    </tr>\n",
              "  </thead>\n",
              "  <tbody>\n",
              "  </tbody>\n",
              "</table>\n",
              "</div>"
            ],
            "text/plain": [
              "Empty DataFrame\n",
              "Columns: [reference_title, similar_title, ref_section, similar_section, score, max, score_div_max]\n",
              "Index: []"
            ]
          },
          "metadata": {},
          "execution_count": 30
        }
      ]
    },
    {
      "cell_type": "code",
      "metadata": {
        "id": "WJ6HEmJv-Upe"
      },
      "source": [
        ""
      ],
      "execution_count": 30,
      "outputs": []
    },
    {
      "cell_type": "markdown",
      "metadata": {
        "id": "99xHBRsd--OB"
      },
      "source": [
        "# SVD based LSI"
      ]
    },
    {
      "cell_type": "code",
      "metadata": {
        "id": "adsW9Uh9_JXs"
      },
      "source": [
        "from gensim import corpora, models, similarities\n",
        "from collections import defaultdict"
      ],
      "execution_count": 31,
      "outputs": []
    },
    {
      "cell_type": "code",
      "metadata": {
        "colab": {
          "base_uri": "https://localhost:8080/"
        },
        "id": "s3AJZGRD_IHW",
        "outputId": "6a48217c-3ff7-4bee-f7f9-b2d1303c310e"
      },
      "source": [
        "frequency = defaultdict(int)\n",
        "for text in processed_corpus:\n",
        "    for token in text:\n",
        "        frequency[token] += 1\n",
        "\n",
        "data_ngrams = [[token for token in text if frequency[token] > 1] for text in processed_corpus]\n",
        "dictionary = corpora.Dictionary(data_ngrams)\n",
        "\n",
        "# doc2bow counts the number of occurences of each distinct word,\n",
        "# converts the word to its integer word id and returns the result\n",
        "# as a sparse vector\n",
        "\n",
        "bow_corpus = [dictionary.doc2bow(text) for text in data_ngrams]\n",
        "lsi = models.LsiModel(bow_corpus, id2word=dictionary, num_topics=200)  # num_topics can be maximum the size of the number of unique tokens"
      ],
      "execution_count": 32,
      "outputs": [
        {
          "output_type": "stream",
          "name": "stderr",
          "text": [
            "2021-11-19 22:13:11,779 : INFO : adding document #0 to Dictionary(0 unique tokens: [])\n",
            "2021-11-19 22:13:11,889 : INFO : built Dictionary(72 unique tokens: ['Am', 'B7', 'C', 'C#', 'C7']...) from 5403 documents (total 82790 corpus positions)\n",
            "2021-11-19 22:13:11,891 : INFO : Dictionary lifecycle event {'msg': \"built Dictionary(72 unique tokens: ['Am', 'B7', 'C', 'C#', 'C7']...) from 5403 documents (total 82790 corpus positions)\", 'datetime': '2021-11-19T22:13:11.891815', 'gensim': '4.1.2', 'python': '3.7.12 (default, Sep 10 2021, 00:21:48) \\n[GCC 7.5.0]', 'platform': 'Linux-5.4.104+-x86_64-with-Ubuntu-18.04-bionic', 'event': 'created'}\n",
            "2021-11-19 22:13:11,947 : INFO : using serial LSI version on this node\n",
            "2021-11-19 22:13:11,950 : INFO : updating model with new documents\n",
            "2021-11-19 22:13:11,953 : INFO : preparing a new chunk of documents\n",
            "2021-11-19 22:13:11,985 : INFO : using 100 extra samples and 2 power iterations\n",
            "2021-11-19 22:13:11,987 : INFO : 1st phase: constructing (72, 300) action matrix\n",
            "2021-11-19 22:13:12,072 : INFO : orthonormalizing (72, 300) action matrix\n",
            "2021-11-19 22:13:12,102 : INFO : 2nd phase: running dense svd on (72, 5403) matrix\n",
            "2021-11-19 22:13:12,192 : INFO : computing the final decomposition\n",
            "2021-11-19 22:13:12,195 : INFO : keeping 72 factors (discarding 0.000% of energy spectrum)\n",
            "2021-11-19 22:13:12,204 : INFO : processed documents up to #5403\n",
            "2021-11-19 22:13:12,208 : INFO : topic #0(398.382): 0.714*\"C\" + 0.508*\"G7\" + 0.286*\"Dm\" + 0.176*\"D7\" + 0.168*\"A7\" + 0.160*\"F\" + 0.151*\"Am\" + 0.115*\"C7\" + 0.093*\"E7\" + 0.080*\"Em\"\n",
            "2021-11-19 22:13:12,211 : INFO : topic #1(168.906): 0.785*\"Am\" + -0.375*\"C\" + 0.342*\"E7\" + 0.259*\"Dm\" + 0.113*\"Bm7b5\" + 0.094*\"Em\" + 0.085*\"A7\" + 0.079*\"D7\" + 0.070*\"F7\" + 0.065*\"B7\"\n",
            "2021-11-19 22:13:12,214 : INFO : topic #2(130.100): 0.652*\"Dm\" + -0.355*\"Am\" + -0.352*\"C\" + 0.272*\"A7\" + 0.265*\"G7\" + -0.241*\"F\" + 0.230*\"Em\" + -0.174*\"E7\" + -0.139*\"D7\" + -0.066*\"G\"\n",
            "2021-11-19 22:13:12,216 : INFO : topic #3(113.679): 0.725*\"C7\" + -0.340*\"C\" + 0.301*\"D7\" + 0.270*\"G7\" + -0.246*\"Dm\" + 0.219*\"F\" + -0.179*\"Am\" + 0.130*\"F7\" + 0.102*\"Gm\" + 0.093*\"Bb7\"\n",
            "2021-11-19 22:13:12,218 : INFO : topic #4(104.415): -0.581*\"D7\" + 0.409*\"C7\" + 0.361*\"F\" + -0.303*\"G7\" + -0.289*\"A7\" + 0.285*\"Dm\" + -0.164*\"E7\" + 0.140*\"Em\" + 0.137*\"C\" + 0.113*\"Gm\"\n",
            "2021-11-19 22:13:12,221 : INFO : LsiModel lifecycle event {'msg': 'trained LsiModel(num_terms=72, num_topics=200, decay=1.0, chunksize=20000) in 0.27s', 'datetime': '2021-11-19T22:13:12.221053', 'gensim': '4.1.2', 'python': '3.7.12 (default, Sep 10 2021, 00:21:48) \\n[GCC 7.5.0]', 'platform': 'Linux-5.4.104+-x86_64-with-Ubuntu-18.04-bionic', 'event': 'created'}\n"
          ]
        }
      ]
    },
    {
      "cell_type": "code",
      "metadata": {
        "colab": {
          "base_uri": "https://localhost:8080/"
        },
        "id": "EvxSQFfBBNMJ",
        "outputId": "160acd7c-7f9f-4501-d0d2-a13d1ed2178b"
      },
      "source": [
        "index_lsi = similarities.Similarity('/content/index/index_lsi', bow_corpus, num_features=len(dictionary))"
      ],
      "execution_count": 33,
      "outputs": [
        {
          "output_type": "stream",
          "name": "stderr",
          "text": [
            "2021-11-19 22:13:12,234 : INFO : starting similarity index under /content/index/index_lsi\n"
          ]
        }
      ]
    },
    {
      "cell_type": "markdown",
      "metadata": {
        "id": "pDxTCAGv9MmZ"
      },
      "source": [
        "### Test for single tunes"
      ]
    },
    {
      "cell_type": "code",
      "metadata": {
        "colab": {
          "base_uri": "https://localhost:8080/"
        },
        "id": "khASSJ1eEuf5",
        "outputId": "d702ec8d-84a3-481d-e085-4a803ee73885"
      },
      "source": [
        "%%time\n",
        "df_sim = get_sim_scores(tunes_eval_list, index_lsi)"
      ],
      "execution_count": 34,
      "outputs": [
        {
          "output_type": "stream",
          "name": "stderr",
          "text": [
            "2021-11-19 22:13:13,765 : INFO : creating sparse index\n",
            "2021-11-19 22:13:13,768 : INFO : creating sparse matrix from corpus\n",
            "2021-11-19 22:13:13,771 : INFO : PROGRESS: at document #0/5403\n",
            "2021-11-19 22:13:13,918 : INFO : created <5403x72 sparse matrix of type '<class 'numpy.float32'>'\n",
            "\twith 41308 stored elements in Compressed Sparse Row format>\n",
            "2021-11-19 22:13:13,920 : INFO : creating sparse shard #0\n",
            "2021-11-19 22:13:13,923 : INFO : saving index shard to /content/index/index_lsi.0\n",
            "2021-11-19 22:13:13,926 : INFO : SparseMatrixSimilarity lifecycle event {'fname_or_handle': '/content/index/index_lsi.0', 'separately': 'None', 'sep_limit': 10485760, 'ignore': frozenset(), 'datetime': '2021-11-19T22:13:13.926919', 'gensim': '4.1.2', 'python': '3.7.12 (default, Sep 10 2021, 00:21:48) \\n[GCC 7.5.0]', 'platform': 'Linux-5.4.104+-x86_64-with-Ubuntu-18.04-bionic', 'event': 'saving'}\n",
            "2021-11-19 22:13:13,931 : INFO : saved /content/index/index_lsi.0\n",
            "2021-11-19 22:13:13,933 : INFO : loading SparseMatrixSimilarity object from /content/index/index_lsi.0\n",
            "2021-11-19 22:13:13,936 : INFO : SparseMatrixSimilarity lifecycle event {'fname': '/content/index/index_lsi.0', 'datetime': '2021-11-19T22:13:13.936035', 'gensim': '4.1.2', 'python': '3.7.12 (default, Sep 10 2021, 00:21:48) \\n[GCC 7.5.0]', 'platform': 'Linux-5.4.104+-x86_64-with-Ubuntu-18.04-bionic', 'event': 'loaded'}\n"
          ]
        },
        {
          "output_type": "stream",
          "name": "stdout",
          "text": [
            "\n",
            "--------------------------------------------------\n",
            "3752 Sweet Sue, Just You, section1 (A)\n",
            "3753 Sweet Sue, Just You, section2 (A)\n",
            "3754 Sweet Sue, Just You, section3 (B)\n",
            "3755 Sweet Sue, Just You, section4 (A)\n",
            "\n",
            "--------------------------------------------------\n",
            "3866 These Foolish Things, section1 (A)\n",
            "3867 These Foolish Things, section2 (A)\n",
            "3868 These Foolish Things, section3 (B)\n",
            "3869 These Foolish Things, section4 (A)\n",
            "\n",
            "--------------------------------------------------\n",
            "496 Blue Moon, section1 (A)\n",
            "497 Blue Moon, section2 (A)\n",
            "498 Blue Moon, section3 (B)\n",
            "499 Blue Moon, section4 (A)\n",
            "\n",
            "--------------------------------------------------\n",
            "198 All Of Me, section1 (A)\n",
            "199 All Of Me, section2 (B)\n",
            "200 All Of Me, section3 (A)\n",
            "201 All Of Me, section4 (C)\n",
            "\n",
            "--------------------------------------------------\n",
            "188 All God's Chillun Got Rhythm, section1 (A)\n",
            "189 All God's Chillun Got Rhythm, section2 (B)\n",
            "190 All God's Chillun Got Rhythm, section3 (A)\n",
            "191 All God's Chillun Got Rhythm, section4 (C)\n",
            "\n",
            "--------------------------------------------------\n",
            "1647 I Got Rhythm, section1 (A)\n",
            "1648 I Got Rhythm, section2 (A)\n",
            "1649 I Got Rhythm, section3 (B)\n",
            "1650 I Got Rhythm, section4 (A)\n",
            "4821 I Got Rhythm, section1 (A)\n",
            "4822 I Got Rhythm, section2 (A)\n",
            "4823 I Got Rhythm, section3 (B)\n",
            "4824 I Got Rhythm, section4 (A)\n",
            "\n",
            "--------------------------------------------------\n",
            "653 Bye Bye Blackbird, section1 (A)\n",
            "654 Bye Bye Blackbird, section2 (B)\n",
            "4569 Bye Bye Blackbird, section1 (A)\n",
            "4570 Bye Bye Blackbird, section2 (B)\n",
            "4571 Bye Bye Blackbird, section3 (C)\n",
            "\n",
            "--------------------------------------------------\n",
            "5056 Old Fashioned Love, section0 (nan)\n",
            "\n",
            "--------------------------------------------------\n",
            "997 Dinah, section1 (A)\n",
            "998 Dinah, section2 (A)\n",
            "999 Dinah, section3 (B)\n",
            "1000 Dinah, section4 (A)\n",
            "\n",
            "--------------------------------------------------\n",
            "1538 Honeysuckle Rose, section1 (A)\n",
            "1539 Honeysuckle Rose, section2 (A)\n",
            "1540 Honeysuckle Rose, section3 (B)\n",
            "1541 Honeysuckle Rose, section4 (A)\n",
            "4793 Honeysuckle Rose, section1 (A)\n",
            "4794 Honeysuckle Rose, section2 (A)\n",
            "4795 Honeysuckle Rose, section3 (B)\n",
            "4796 Honeysuckle Rose, section4 (A)\n",
            "\n",
            "--------------------------------------------------\n",
            "2676 Misty, section1 (A)\n",
            "2677 Misty, section2 (A)\n",
            "2678 Misty, section3 (B)\n",
            "2679 Misty, section4 (A)\n",
            "CPU times: user 8.99 s, sys: 290 ms, total: 9.28 s\n",
            "Wall time: 8.88 s\n"
          ]
        }
      ]
    },
    {
      "cell_type": "code",
      "metadata": {
        "colab": {
          "base_uri": "https://localhost:8080/",
          "height": 424
        },
        "id": "FL1pBuor_YDw",
        "outputId": "2ac8c9c4-c6ae-4992-a27e-b46124f08d95"
      },
      "source": [
        "df_sim"
      ],
      "execution_count": 35,
      "outputs": [
        {
          "output_type": "execute_result",
          "data": {
            "text/html": [
              "<div>\n",
              "<style scoped>\n",
              "    .dataframe tbody tr th:only-of-type {\n",
              "        vertical-align: middle;\n",
              "    }\n",
              "\n",
              "    .dataframe tbody tr th {\n",
              "        vertical-align: top;\n",
              "    }\n",
              "\n",
              "    .dataframe thead th {\n",
              "        text-align: right;\n",
              "    }\n",
              "</style>\n",
              "<table border=\"1\" class=\"dataframe\">\n",
              "  <thead>\n",
              "    <tr style=\"text-align: right;\">\n",
              "      <th></th>\n",
              "      <th>reference_title</th>\n",
              "      <th>similar_title</th>\n",
              "      <th>ref_section</th>\n",
              "      <th>similar_section</th>\n",
              "      <th>score</th>\n",
              "    </tr>\n",
              "  </thead>\n",
              "  <tbody>\n",
              "    <tr>\n",
              "      <th>0</th>\n",
              "      <td>Sweet Sue, Just You</td>\n",
              "      <td>A Certain Smile</td>\n",
              "      <td>Sweet Sue, Just You, section1 (A)</td>\n",
              "      <td>A Certain Smile, section1 (A)</td>\n",
              "      <td>1.000000</td>\n",
              "    </tr>\n",
              "    <tr>\n",
              "      <th>1</th>\n",
              "      <td>Sweet Sue, Just You</td>\n",
              "      <td>A Certain Smile</td>\n",
              "      <td>Sweet Sue, Just You, section1 (A)</td>\n",
              "      <td>A Certain Smile, section3 (A)</td>\n",
              "      <td>1.000000</td>\n",
              "    </tr>\n",
              "    <tr>\n",
              "      <th>2</th>\n",
              "      <td>Sweet Sue, Just You</td>\n",
              "      <td>Brazil (Aquarela Do Brasil)</td>\n",
              "      <td>Sweet Sue, Just You, section1 (A)</td>\n",
              "      <td>Brazil (Aquarela Do Brasil), section5 (D)</td>\n",
              "      <td>1.000000</td>\n",
              "    </tr>\n",
              "    <tr>\n",
              "      <th>3</th>\n",
              "      <td>Sweet Sue, Just You</td>\n",
              "      <td>Little Girl Blue</td>\n",
              "      <td>Sweet Sue, Just You, section1 (A)</td>\n",
              "      <td>Little Girl Blue, section1 (verse)</td>\n",
              "      <td>1.000000</td>\n",
              "    </tr>\n",
              "    <tr>\n",
              "      <th>4</th>\n",
              "      <td>Sweet Sue, Just You</td>\n",
              "      <td>Mimi</td>\n",
              "      <td>Sweet Sue, Just You, section1 (A)</td>\n",
              "      <td>Mimi, section1 (A)</td>\n",
              "      <td>1.000000</td>\n",
              "    </tr>\n",
              "    <tr>\n",
              "      <th>...</th>\n",
              "      <td>...</td>\n",
              "      <td>...</td>\n",
              "      <td>...</td>\n",
              "      <td>...</td>\n",
              "      <td>...</td>\n",
              "    </tr>\n",
              "    <tr>\n",
              "      <th>2045</th>\n",
              "      <td>Misty</td>\n",
              "      <td>Chicken</td>\n",
              "      <td>Misty, section4 (A)</td>\n",
              "      <td>Chicken, section2 (A)</td>\n",
              "      <td>0.919183</td>\n",
              "    </tr>\n",
              "    <tr>\n",
              "      <th>2046</th>\n",
              "      <td>Misty</td>\n",
              "      <td>Time After Time</td>\n",
              "      <td>Misty, section4 (A)</td>\n",
              "      <td>Time After Time, section2 (B)</td>\n",
              "      <td>0.918715</td>\n",
              "    </tr>\n",
              "    <tr>\n",
              "      <th>2047</th>\n",
              "      <td>Misty</td>\n",
              "      <td>Could It Be You</td>\n",
              "      <td>Misty, section4 (A)</td>\n",
              "      <td>Could It Be You, section2 (A)</td>\n",
              "      <td>0.917067</td>\n",
              "    </tr>\n",
              "    <tr>\n",
              "      <th>2048</th>\n",
              "      <td>Misty</td>\n",
              "      <td>Glory Of Love, The</td>\n",
              "      <td>Misty, section4 (A)</td>\n",
              "      <td>Glory Of Love, The, section4 (A)</td>\n",
              "      <td>0.916380</td>\n",
              "    </tr>\n",
              "    <tr>\n",
              "      <th>2049</th>\n",
              "      <td>Misty</td>\n",
              "      <td>S'posin'</td>\n",
              "      <td>Misty, section4 (A)</td>\n",
              "      <td>S'posin', section3 (A)</td>\n",
              "      <td>0.915249</td>\n",
              "    </tr>\n",
              "  </tbody>\n",
              "</table>\n",
              "<p>2050 rows × 5 columns</p>\n",
              "</div>"
            ],
            "text/plain": [
              "          reference_title  ...     score\n",
              "0     Sweet Sue, Just You  ...  1.000000\n",
              "1     Sweet Sue, Just You  ...  1.000000\n",
              "2     Sweet Sue, Just You  ...  1.000000\n",
              "3     Sweet Sue, Just You  ...  1.000000\n",
              "4     Sweet Sue, Just You  ...  1.000000\n",
              "...                   ...  ...       ...\n",
              "2045                Misty  ...  0.919183\n",
              "2046                Misty  ...  0.918715\n",
              "2047                Misty  ...  0.917067\n",
              "2048                Misty  ...  0.916380\n",
              "2049                Misty  ...  0.915249\n",
              "\n",
              "[2050 rows x 5 columns]"
            ]
          },
          "metadata": {},
          "execution_count": 35
        }
      ]
    },
    {
      "cell_type": "code",
      "metadata": {
        "colab": {
          "base_uri": "https://localhost:8080/",
          "height": 542
        },
        "id": "X31lkvUsDAsU",
        "outputId": "2ddf9503-ebdc-43f3-8d10-3e331a921a5e"
      },
      "source": [
        "import plotly.express as px\n",
        "fig = px.histogram(df_sim, x=\"score\", nbins=50)\n",
        "fig.show()"
      ],
      "execution_count": 36,
      "outputs": [
        {
          "output_type": "display_data",
          "data": {
            "text/html": [
              "<html>\n",
              "<head><meta charset=\"utf-8\" /></head>\n",
              "<body>\n",
              "    <div>\n",
              "            <script src=\"https://cdnjs.cloudflare.com/ajax/libs/mathjax/2.7.5/MathJax.js?config=TeX-AMS-MML_SVG\"></script><script type=\"text/javascript\">if (window.MathJax) {MathJax.Hub.Config({SVG: {font: \"STIX-Web\"}});}</script>\n",
              "                <script type=\"text/javascript\">window.PlotlyConfig = {MathJaxConfig: 'local'};</script>\n",
              "        <script src=\"https://cdn.plot.ly/plotly-latest.min.js\"></script>    \n",
              "            <div id=\"d49df56b-1f31-4714-b9c5-ee3c6534a3c1\" class=\"plotly-graph-div\" style=\"height:525px; width:100%;\"></div>\n",
              "            <script type=\"text/javascript\">\n",
              "                \n",
              "                    window.PLOTLYENV=window.PLOTLYENV || {};\n",
              "                    \n",
              "                if (document.getElementById(\"d49df56b-1f31-4714-b9c5-ee3c6534a3c1\")) {\n",
              "                    Plotly.newPlot(\n",
              "                        'd49df56b-1f31-4714-b9c5-ee3c6534a3c1',\n",
              "                        [{\"alignmentgroup\": \"True\", \"bingroup\": \"x\", \"hoverlabel\": {\"namelength\": 0}, \"hovertemplate\": \"score=%{x}<br>count=%{y}\", \"legendgroup\": \"\", \"marker\": {\"color\": \"#636efa\"}, \"name\": \"\", \"nbinsx\": 50, \"offsetgroup\": \"\", \"orientation\": \"v\", \"showlegend\": false, \"type\": \"histogram\", \"x\": [1.0, 1.0, 1.0, 1.0, 1.0, 1.0, 1.0, 1.0, 1.0, 1.0, 1.0, 1.0, 1.0, 1.0, 1.0, 1.0, 0.9960238337516785, 0.991836667060852, 0.991836667060852, 0.9855274558067322, 0.9855274558067322, 0.9855274558067322, 0.9855274558067322, 0.9855274558067322, 0.9855274558067322, 0.9855274558067322, 0.9855274558067322, 0.9847319722175598, 0.9847319722175598, 0.9847319722175598, 0.9841197729110718, 0.9829464554786682, 0.980580747127533, 0.9801960587501526, 0.9799578189849854, 0.9797959327697754, 0.9771398305892944, 0.9771398305892944, 0.9737290740013123, 0.9737290740013123, 0.9737290143966675, 1.0, 1.0, 1.0, 1.0, 1.0, 1.0, 1.0, 1.0, 1.0, 1.0, 1.0, 1.0, 1.0, 1.0, 1.0, 1.0, 0.9960238337516785, 0.991836667060852, 0.991836667060852, 0.9855274558067322, 0.9855274558067322, 0.9855274558067322, 0.9855274558067322, 0.9855274558067322, 0.9855274558067322, 0.9855274558067322, 0.9855274558067322, 0.9847319722175598, 0.9847319722175598, 0.9847319722175598, 0.9841197729110718, 0.9829464554786682, 0.980580747127533, 0.9801960587501526, 0.9799578189849854, 0.9797959327697754, 0.9771398305892944, 0.9771398305892944, 0.9737290740013123, 0.9737290740013123, 0.9737290143966675, 0.9128708243370056, 0.8406727910041809, 0.8333333134651184, 0.8333333134651184, 0.8198915719985962, 0.8179128766059875, 0.8164966106414795, 0.8017837405204773, 0.8017837405204773, 0.8006407022476196, 0.794719398021698, 0.7938565611839294, 0.7925938963890076, 0.7905694246292114, 0.7879670262336731, 0.7825080156326294, 0.7825080156326294, 0.7825079560279846, 0.7777777314186096, 0.774596631526947, 0.774596631526947, 0.774596631526947, 0.7715166807174683, 0.766032338142395, 0.7637625932693481, 0.7593263983726501, 0.7593263387680054, 0.7505553364753723, 0.7505553364753723, 0.7504786849021912, 0.7499999403953552, 0.7499999403953552, 0.7499999403953552, 0.7499999403953552, 0.7499998807907104, 0.7499998807907104, 0.7492685914039612, 0.7469136714935303, 0.7426106333732605, 0.7395739555358887, 0.7385489344596863, 1.0, 1.0, 1.0, 1.0, 1.0, 1.0, 1.0, 1.0, 1.0, 1.0, 1.0, 1.0, 1.0, 1.0, 1.0, 1.0, 0.9960238337516785, 0.991836667060852, 0.991836667060852, 0.9855274558067322, 0.9855274558067322, 0.9855274558067322, 0.9855274558067322, 0.9855274558067322, 0.9855274558067322, 0.9855274558067322, 0.9855274558067322, 0.9847319722175598, 0.9847319722175598, 0.9847319722175598, 0.9841197729110718, 0.9829464554786682, 0.980580747127533, 0.9801960587501526, 0.9799578189849854, 0.9797959327697754, 0.9771398305892944, 0.9771398305892944, 0.9737290740013123, 0.9737290740013123, 0.9737290143966675, 0.9546687006950378, 0.9525008797645569, 0.9525008797645569, 0.9519715309143066, 0.9519715309143066, 0.9422228336334229, 0.9354143142700195, 0.9274260401725769, 0.9268550872802734, 0.9263021349906921, 0.9263020157814026, 0.9258200526237488, 0.9228394627571106, 0.9207508563995361, 0.9207508563995361, 0.9207368493080139, 0.919238805770874, 0.919238805770874, 0.9191450476646423, 0.9191450476646423, 0.9187104105949402, 0.9181762933731079, 0.9176629185676575, 0.916666567325592, 0.916578471660614, 0.916578471660614, 0.9149913787841797, 0.9148908257484436, 0.9141378998756409, 0.9139076471328735, 0.9133461713790894, 0.9133461713790894, 0.9133461713790894, 0.9133461713790894, 0.9128708839416504, 0.9128708839416504, 0.912495493888855, 0.9120291471481323, 0.9095085263252258, 0.909508466720581, 0.909508466720581, 0.9723056554794312, 0.9548637270927429, 0.9548637270927429, 0.921954333782196, 0.9117647409439087, 0.9115637540817261, 0.9115046262741089, 0.9109355807304382, 0.9106417298316956, 0.9106417298316956, 0.9101821184158325, 0.9101820588111877, 0.910181999206543, 0.9095085263252258, 0.9081082344055176, 0.9074852466583252, 0.9068695902824402, 0.9068695902824402, 0.9049357771873474, 0.9049034714698792, 0.9038768410682678, 0.8997353315353394, 0.8991814851760864, 0.8990275263786316, 0.8986450433731079, 0.8986449837684631, 0.8981249928474426, 0.8978642821311951, 0.897364616394043, 0.8958086967468262, 0.8956220149993896, 0.8951712846755981, 0.8948380947113037, 0.8938431739807129, 0.8934147357940674, 0.8932596445083618, 0.8932596445083618, 0.893259584903717, 0.8930885195732117, 0.8930884599685669, 0.8926784992218018, 0.9165152311325073, 0.8954430818557739, 0.8954430818557739, 0.8759956955909729, 0.8246210813522339, 0.8164966106414795, 0.8082903623580933, 0.803326427936554, 0.800000011920929, 0.800000011920929, 0.7923547029495239, 0.7902633547782898, 0.7855844497680664, 0.7855844497680664, 0.7794228792190552, 0.7786628007888794, 0.77781742811203, 0.7765802145004272, 0.7761139869689941, 0.7745966911315918, 0.7724716067314148, 0.771516740322113, 0.7666981816291809, 0.7666981220245361, 0.7615773677825928, 0.7602631449699402, 0.7602631449699402, 0.7559289336204529, 0.7543423175811768, 0.75424724817276, 0.7521398663520813, 0.7500000596046448, 0.7500000596046448, 0.7500000596046448, 0.7483314871788025, 0.7483314871788025, 0.7483314871788025, 0.7462185621261597, 0.742781400680542, 0.742462158203125, 0.742462158203125, 0.9747546911239624, 0.9747546911239624, 0.9667962789535522, 0.9587093591690063, 0.9518172740936279, 0.9518172740936279, 0.9509797096252441, 0.9496715664863586, 0.9476781487464905, 0.9437015056610107, 0.9428712725639343, 0.9428473114967346, 0.942082405090332, 0.9416364431381226, 0.9401746988296509, 0.9364182353019714, 0.934685230255127, 0.9341987371444702, 0.9337221384048462, 0.9328736066818237, 0.9322980046272278, 0.9320952892303467, 0.9318181872367859, 0.9318181872367859, 0.9318181872367859, 0.9312905073165894, 0.9307578802108765, 0.9307578802108765, 0.9304842352867126, 0.9304841756820679, 0.9303739070892334, 0.9303739070892334, 0.9296599626541138, 0.9296599626541138, 0.9296599626541138, 0.9296599626541138, 0.9288407564163208, 0.9288407564163208, 0.928032398223877, 0.9277310371398926, 0.9266964793205261, 0.9782608151435852, 0.9680038690567017, 0.9680038690567017, 0.9609864950180054, 0.9583727121353149, 0.9569290280342102, 0.9569290280342102, 0.9567297697067261, 0.9567297697067261, 0.953407347202301, 0.953015148639679, 0.9517337679862976, 0.9515872597694397, 0.9508562088012695, 0.9497162103652954, 0.9497162103652954, 0.9486438035964966, 0.9486438035964966, 0.9486438035964966, 0.9480385184288025, 0.9473730325698853, 0.9455453753471375, 0.9455453753471375, 0.9443842768669128, 0.9430418610572815, 0.9430418610572815, 0.9421554207801819, 0.9418281316757202, 0.9409438371658325, 0.940570056438446, 0.940570056438446, 0.940570056438446, 0.9405399560928345, 0.9383149147033691, 0.9383147954940796, 0.9376362562179565, 0.9362573027610779, 0.9355851411819458, 0.9347826242446899, 0.9337990880012512, 0.9337990880012512, 0.9276335835456848, 0.9261981844902039, 0.9180845022201538, 0.9180845022201538, 0.9140904545783997, 0.9109357595443726, 0.9102990627288818, 0.9095085263252258, 0.9095085263252258, 0.9081082344055176, 0.9081082344055176, 0.9080252051353455, 0.9046624898910522, 0.9007546901702881, 0.9007546901702881, 0.9002839922904968, 0.8978642225265503, 0.8973818421363831, 0.8973645567893982, 0.895607590675354, 0.8952858448028564, 0.8951712846755981, 0.8932595252990723, 0.8926784992218018, 0.8926784992218018, 0.8917926549911499, 0.8911327719688416, 0.8911327719688416, 0.8911327719688416, 0.8892972469329834, 0.8892972469329834, 0.8885402679443359, 0.8877781629562378, 0.8875744938850403, 0.8868440389633179, 0.886076033115387, 0.886076033115387, 0.886076033115387, 0.8858784437179565, 0.8856148719787598, 0.8856148719787598, 0.9284766912460327, 0.9143006205558777, 0.9005004167556763, 0.8965517282485962, 0.894629955291748, 0.8938527703285217, 0.8913376331329346, 0.8858184218406677, 0.8844476938247681, 0.8823397755622864, 0.8820528984069824, 0.8820527791976929, 0.8817846775054932, 0.8791322112083435, 0.8778665065765381, 0.8778665065765381, 0.8773279190063477, 0.8773279190063477, 0.875420868396759, 0.8753761053085327, 0.8727859854698181, 0.8725832104682922, 0.8719775080680847, 0.8718127012252808, 0.8703169822692871, 0.8703169822692871, 0.8703169822692871, 0.8703169822692871, 0.8700222373008728, 0.868510365486145, 0.8671485185623169, 0.8671485185623169, 0.8671485185623169, 0.8656302690505981, 0.8630338907241821, 0.8630338907241821, 0.8630338907241821, 0.8620792627334595, 0.8620690107345581, 0.8620689511299133, 0.8620689511299133, 0.9782608151435852, 0.9680038690567017, 0.9680038690567017, 0.9609864950180054, 0.9583727121353149, 0.9569290280342102, 0.9569290280342102, 0.9567297697067261, 0.9567297697067261, 0.953407347202301, 0.953015148639679, 0.9517337679862976, 0.9515872597694397, 0.9508562088012695, 0.9497162103652954, 0.9497162103652954, 0.9486438035964966, 0.9486438035964966, 0.9486438035964966, 0.9480385184288025, 0.9473730325698853, 0.9455453753471375, 0.9455453753471375, 0.9443842768669128, 0.9430418610572815, 0.9430418610572815, 0.9421554207801819, 0.9418281316757202, 0.9409438371658325, 0.940570056438446, 0.940570056438446, 0.940570056438446, 0.9405399560928345, 0.9383149147033691, 0.9383147954940796, 0.9376362562179565, 0.9362573027610779, 0.9355851411819458, 0.9347826242446899, 0.9337990880012512, 0.9337990880012512, 0.9622504711151123, 0.8944271802902222, 0.8944271802902222, 0.8944271802902222, 0.884651780128479, 0.875, 0.8728715777397156, 0.8660253882408142, 0.8660253882408142, 0.8660253882408142, 0.8574929237365723, 0.8534917831420898, 0.851205587387085, 0.8488746881484985, 0.8488746881484985, 0.8488746881484985, 0.8486684560775757, 0.8463273048400879, 0.8461141586303711, 0.8401681184768677, 0.8391463756561279, 0.8391463756561279, 0.8360795974731445, 0.8356289863586426, 0.8320503234863281, 0.8320503234863281, 0.8249579071998596, 0.8249579071998596, 0.8249579071998596, 0.8249579071998596, 0.8164966106414795, 0.8164966106414795, 0.8164966106414795, 0.8111070990562439, 0.8111070990562439, 0.8111070990562439, 0.8111070990562439, 0.8111070990562439, 0.8111070990562439, 0.8084520101547241, 0.8082239031791687, 0.9660917520523071, 0.9561828374862671, 0.9449111819267273, 0.9354143738746643, 0.9354143142700195, 0.9354143142700195, 0.9354143142700195, 0.933138906955719, 0.933138906955719, 0.9258200526237488, 0.9116846323013306, 0.9083736538887024, 0.9074851870536804, 0.9074851870536804, 0.904106080532074, 0.8970852494239807, 0.8964214324951172, 0.8933249711990356, 0.8908707499504089, 0.8908707499504089, 0.8894991874694824, 0.8894991874694824, 0.867110013961792, 0.867110013961792, 0.8671098947525024, 0.8583950400352478, 0.8583950400352478, 0.8583324551582336, 0.8583324551582336, 0.8571428656578064, 0.8571428060531616, 0.8571428060531616, 0.8552359938621521, 0.8547042608261108, 0.8528028726577759, 0.8486683368682861, 0.8486683368682861, 0.8486683368682861, 0.8486683368682861, 0.8486683368682861, 0.8463273644447327, 0.9622504711151123, 0.8944271802902222, 0.8944271802902222, 0.8944271802902222, 0.884651780128479, 0.875, 0.8728715777397156, 0.8660253882408142, 0.8660253882408142, 0.8660253882408142, 0.8574929237365723, 0.8534917831420898, 0.851205587387085, 0.8488746881484985, 0.8488746881484985, 0.8488746881484985, 0.8486684560775757, 0.8463273048400879, 0.8461141586303711, 0.8401681184768677, 0.8391463756561279, 0.8391463756561279, 0.8360795974731445, 0.8356289863586426, 0.8320503234863281, 0.8320503234863281, 0.8249579071998596, 0.8249579071998596, 0.8249579071998596, 0.8249579071998596, 0.8164966106414795, 0.8164966106414795, 0.8164966106414795, 0.8111070990562439, 0.8111070990562439, 0.8111070990562439, 0.8111070990562439, 0.8111070990562439, 0.8111070990562439, 0.8084520101547241, 0.8082239031791687, 0.9770084023475647, 0.933138906955719, 0.928571343421936, 0.9265616536140442, 0.925819993019104, 0.9182623624801636, 0.9134140610694885, 0.9104654788970947, 0.9104654788970947, 0.9086882472038269, 0.9086882472038269, 0.9072647094726562, 0.9035078883171082, 0.898716926574707, 0.8986450433731079, 0.8976656198501587, 0.8976656198501587, 0.8970852494239807, 0.8970851898193359, 0.8966530561447144, 0.8966530561447144, 0.8966333866119385, 0.8966333866119385, 0.8966333866119385, 0.8966333866119385, 0.8950412273406982, 0.8934051394462585, 0.8933249115943909, 0.8916451334953308, 0.8916451334953308, 0.8910420536994934, 0.8910420536994934, 0.8910420536994934, 0.8908708095550537, 0.8908708095550537, 0.8908707499504089, 0.8890520334243774, 0.8872442245483398, 0.8872441649436951, 0.8864052295684814, 0.8864052295684814, 0.9750000238418579, 0.9695896506309509, 0.968245804309845, 0.9561827778816223, 0.9560661315917969, 0.9560661315917969, 0.9547032117843628, 0.9545941948890686, 0.9463399052619934, 0.9463399052619934, 0.9429277777671814, 0.9407528638839722, 0.9398254752159119, 0.9398254156112671, 0.9389710426330566, 0.9383147358894348, 0.9374998807907104, 0.9360566139221191, 0.9360566139221191, 0.9360566139221191, 0.9359709620475769, 0.9354143738746643, 0.9341285228729248, 0.93412846326828, 0.9327731132507324, 0.9284766912460327, 0.9284766912460327, 0.9282791018486023, 0.9280775785446167, 0.9280775785446167, 0.9280775785446167, 0.9274260401725769, 0.9263020753860474, 0.9263020157814026, 0.925000011920929, 0.925000011920929, 0.923186182975769, 0.9231711626052856, 0.9231711626052856, 0.9223309755325317, 0.9214785099029541, 0.9309492707252502, 0.9013878703117371, 0.896643877029419, 0.8894991874694824, 0.8894991874694824, 0.8882312178611755, 0.8869686126708984, 0.8825225830078125, 0.8744746446609497, 0.870285153388977, 0.8682432174682617, 0.8674723505973816, 0.8608284592628479, 0.8608283996582031, 0.8600261211395264, 0.8593377470970154, 0.8589843511581421, 0.8561727404594421, 0.8561727404594421, 0.8561726808547974, 0.8561726808547974, 0.8561726808547974, 0.8559210300445557, 0.8540168404579163, 0.8530422449111938, 0.8492078185081482, 0.8492078185081482, 0.8492078185081482, 0.8492078185081482, 0.8473185896873474, 0.8473185300827026, 0.8473185300827026, 0.8468303680419922, 0.8468303680419922, 0.8459098935127258, 0.8438529968261719, 0.8438196182250977, 0.8406727313995361, 0.838627815246582, 0.8383354544639587, 0.8376104831695557, 0.9750000238418579, 0.9695896506309509, 0.968245804309845, 0.9561827778816223, 0.9560661315917969, 0.9560661315917969, 0.9547032117843628, 0.9545941948890686, 0.9463399052619934, 0.9463399052619934, 0.9429277777671814, 0.9407528638839722, 0.9398254752159119, 0.9398254156112671, 0.9389710426330566, 0.9383147358894348, 0.9374998807907104, 0.9360566139221191, 0.9360566139221191, 0.9360566139221191, 0.9359709620475769, 0.9354143738746643, 0.9341285228729248, 0.93412846326828, 0.9327731132507324, 0.9284766912460327, 0.9284766912460327, 0.9282791018486023, 0.9280775785446167, 0.9280775785446167, 0.9280775785446167, 0.9274260401725769, 0.9263020753860474, 0.9263020157814026, 0.925000011920929, 0.925000011920929, 0.923186182975769, 0.9231711626052856, 0.9231711626052856, 0.9223309755325317, 0.9214785099029541, 0.9503289461135864, 0.9503289461135864, 0.9486833214759827, 0.9315559267997742, 0.9302604794502258, 0.9296696782112122, 0.9219543933868408, 0.9219543933868408, 0.921954333782196, 0.9203579425811768, 0.9203579425811768, 0.919238805770874, 0.9170604944229126, 0.9135002493858337, 0.9135002493858337, 0.9109802842140198, 0.9101912975311279, 0.9101912975311279, 0.9091548323631287, 0.9091548323631287, 0.9091548323631287, 0.9087389707565308, 0.9080252051353455, 0.9080252051353455, 0.9071146845817566, 0.9071146249771118, 0.9071146249771118, 0.9071146249771118, 0.9068453907966614, 0.9068453311920166, 0.9068453311920166, 0.9057894349098206, 0.9057894349098206, 0.9057894349098206, 0.9045339822769165, 0.9014912843704224, 0.9012491106987, 0.8999999761581421, 0.8999999761581421, 0.8999999761581421, 0.8999999761581421, 0.9271051287651062, 0.9271051287651062, 0.9233804941177368, 0.9233804941177368, 0.9233804941177368, 0.9233804941177368, 0.9223309755325317, 0.918558657169342, 0.9150798320770264, 0.9091922640800476, 0.9086881875991821, 0.9086881875991821, 0.9068453311920166, 0.9068453311920166, 0.9068453311920166, 0.9068453311920166, 0.9067235589027405, 0.9057894945144653, 0.9057894945144653, 0.9057256579399109, 0.9057255983352661, 0.9036961197853088, 0.9036961197853088, 0.903642475605011, 0.9035079479217529, 0.902707576751709, 0.9004503488540649, 0.9000000357627869, 0.8992517590522766, 0.8977310657501221, 0.8977310061454773, 0.8959786891937256, 0.8959786891937256, 0.8959786891937256, 0.8948380947113037, 0.8944271802902222, 0.8944271206855774, 0.8901636600494385, 0.8894600868225098, 0.8889566659927368, 0.8889342546463013, 0.931891143321991, 0.931891143321991, 0.931891143321991, 0.931891143321991, 0.9284141063690186, 0.9239886403083801, 0.9214065074920654, 0.9185315370559692, 0.9185315370559692, 0.9185315370559692, 0.9132660627365112, 0.9132660627365112, 0.912159264087677, 0.912159264087677, 0.9082951545715332, 0.9074424505233765, 0.903652012348175, 0.9014202952384949, 0.8994013071060181, 0.8994011878967285, 0.8994011878967285, 0.8994011878967285, 0.8983222842216492, 0.8971499800682068, 0.8956221342086792, 0.8927095532417297, 0.892413318157196, 0.8924132585525513, 0.8922685384750366, 0.8922685384750366, 0.8922268152236938, 0.8919914364814758, 0.891455352306366, 0.8898984789848328, 0.8897130489349365, 0.8883363008499146, 0.8883363008499146, 0.8883363008499146, 0.8882347941398621, 0.8876253366470337, 0.8871638774871826, 1.0, 1.0, 1.0, 1.0, 1.0, 1.0, 1.0, 1.0, 1.0, 1.0, 1.0, 1.0, 1.0, 1.0, 1.0, 1.0, 1.0, 1.0, 1.0, 1.0, 1.0, 1.0, 0.981980562210083, 0.9701424837112427, 0.9701424837112427, 0.9594031572341919, 0.9444444179534912, 0.9354143142700195, 0.9354143142700195, 0.9176629185676575, 0.9036960601806641, 0.8872442841529846, 0.8845379948616028, 0.883883535861969, 0.8816820383071899, 0.8757290840148926, 0.875, 0.875, 0.875, 0.875, 0.8660253882408142, 0.9504969120025635, 0.9495630264282227, 0.9495630264282227, 0.9428292512893677, 0.9428292512893677, 0.9428291916847229, 0.9428291320800781, 0.9428291320800781, 0.9415245652198792, 0.9306780695915222, 0.9306630492210388, 0.9304842352867126, 0.9304842352867126, 0.9304841756820679, 0.9304841756820679, 0.9243423342704773, 0.9210566282272339, 0.9210566282272339, 0.9187794923782349, 0.9186933636665344, 0.9173648953437805, 0.9173648953437805, 0.9173648953437805, 0.9163298010826111, 0.9163298010826111, 0.9154754281044006, 0.9150522351264954, 0.9150522351264954, 0.9150521755218506, 0.9143940210342407, 0.9143940210342407, 0.9141045808792114, 0.9137173891067505, 0.9137173891067505, 0.9121593236923218, 0.912159264087677, 0.912159264087677, 0.912159264087677, 0.912159264087677, 0.912159264087677, 0.912103533744812, 0.9271051287651062, 0.9271051287651062, 0.9233804941177368, 0.9233804941177368, 0.9233804941177368, 0.9233804941177368, 0.9223309755325317, 0.918558657169342, 0.9150798320770264, 0.9091922640800476, 0.9086881875991821, 0.9086881875991821, 0.9068453311920166, 0.9068453311920166, 0.9068453311920166, 0.9068453311920166, 0.9067235589027405, 0.9057894945144653, 0.9057894945144653, 0.9057256579399109, 0.9057255983352661, 0.9036961197853088, 0.9036961197853088, 0.903642475605011, 0.9035079479217529, 0.902707576751709, 0.9004503488540649, 0.9000000357627869, 0.8992517590522766, 0.8977310657501221, 0.8977310061454773, 0.8959786891937256, 0.8959786891937256, 0.8959786891937256, 0.8948380947113037, 0.8944271802902222, 0.8944271206855774, 0.8901636600494385, 0.8894600868225098, 0.8889566659927368, 0.8889342546463013, 0.931891143321991, 0.931891143321991, 0.931891143321991, 0.931891143321991, 0.9284141063690186, 0.9239886403083801, 0.9214065074920654, 0.9185315370559692, 0.9185315370559692, 0.9185315370559692, 0.9132660627365112, 0.9132660627365112, 0.912159264087677, 0.912159264087677, 0.9082951545715332, 0.9074424505233765, 0.903652012348175, 0.9014202952384949, 0.8994013071060181, 0.8994011878967285, 0.8994011878967285, 0.8994011878967285, 0.8983222842216492, 0.8971499800682068, 0.8956221342086792, 0.8927095532417297, 0.892413318157196, 0.8924132585525513, 0.8922685384750366, 0.8922685384750366, 0.8922268152236938, 0.8919914364814758, 0.891455352306366, 0.8898984789848328, 0.8897130489349365, 0.8883363008499146, 0.8883363008499146, 0.8883363008499146, 0.8882347941398621, 0.8876253366470337, 0.8871638774871826, 1.0, 1.0, 1.0, 1.0, 1.0, 1.0, 1.0, 1.0, 1.0, 1.0, 1.0, 1.0, 1.0, 1.0, 1.0, 1.0, 1.0, 1.0, 1.0, 1.0, 1.0, 1.0, 0.981980562210083, 0.9701424837112427, 0.9701424837112427, 0.9594031572341919, 0.9444444179534912, 0.9354143142700195, 0.9354143142700195, 0.9176629185676575, 0.9036960601806641, 0.8872442841529846, 0.8845379948616028, 0.883883535861969, 0.8816820383071899, 0.8757290840148926, 0.875, 0.875, 0.875, 0.875, 0.8660253882408142, 0.9504969120025635, 0.9495630264282227, 0.9495630264282227, 0.9428292512893677, 0.9428292512893677, 0.9428291916847229, 0.9428291320800781, 0.9428291320800781, 0.9415245652198792, 0.9306780695915222, 0.9306630492210388, 0.9304842352867126, 0.9304842352867126, 0.9304841756820679, 0.9304841756820679, 0.9243423342704773, 0.9210566282272339, 0.9210566282272339, 0.9187794923782349, 0.9186933636665344, 0.9173648953437805, 0.9173648953437805, 0.9173648953437805, 0.9163298010826111, 0.9163298010826111, 0.9154754281044006, 0.9150522351264954, 0.9150522351264954, 0.9150521755218506, 0.9143940210342407, 0.9143940210342407, 0.9141045808792114, 0.9137173891067505, 0.9137173891067505, 0.9121593236923218, 0.912159264087677, 0.912159264087677, 0.912159264087677, 0.912159264087677, 0.912159264087677, 0.912103533744812, 0.984309196472168, 0.9836212396621704, 0.9777750372886658, 0.9751579165458679, 0.9751579165458679, 0.9751579165458679, 0.9751579165458679, 0.9751579165458679, 0.9724151492118835, 0.9722036719322205, 0.9719410538673401, 0.9705232381820679, 0.9692704677581787, 0.9683640003204346, 0.9683640003204346, 0.9683640003204346, 0.9663776755332947, 0.9650870561599731, 0.9640128016471863, 0.961972177028656, 0.9608387351036072, 0.9569487571716309, 0.956259548664093, 0.9553254246711731, 0.9553254246711731, 0.9553254246711731, 0.9552974700927734, 0.9552974700927734, 0.9541301131248474, 0.9541301131248474, 0.9532414674758911, 0.9532414674758911, 0.9532333016395569, 0.9528306722640991, 0.9528306722640991, 0.9525641202926636, 0.9525641202926636, 0.9525641202926636, 0.9523038268089294, 0.9513515830039978, 0.9509146213531494, 0.9513311386108398, 0.950131893157959, 0.9501192569732666, 0.9417286515235901, 0.9412096738815308, 0.9377429485321045, 0.9377429485321045, 0.9374334216117859, 0.9373601675033569, 0.9349289536476135, 0.934928834438324, 0.934928834438324, 0.934928834438324, 0.9345024228096008, 0.934502363204956, 0.9331203103065491, 0.9331203103065491, 0.9331203103065491, 0.9331203103065491, 0.9331203103065491, 0.9320410490036011, 0.931555986404419, 0.9311728477478027, 0.9301145076751709, 0.9299208521842957, 0.9297347664833069, 0.9297347664833069, 0.9292548894882202, 0.9263103604316711, 0.9251285195350647, 0.924249529838562, 0.924249529838562, 0.924249529838562, 0.9236083626747131, 0.9229729771614075, 0.9224556684494019, 0.9224556684494019, 0.9212563037872314, 0.9207663536071777, 0.9207663536071777, 0.9207516312599182, 0.9945710301399231, 0.9843176603317261, 0.9843176603317261, 0.9843176603317261, 0.979218602180481, 0.9753829836845398, 0.9753829836845398, 0.975382924079895, 0.974583089351654, 0.9702163338661194, 0.9699311852455139, 0.9699311852455139, 0.9699311256408691, 0.96588134765625, 0.9630714654922485, 0.9589996337890625, 0.9589996337890625, 0.9589996337890625, 0.9570731520652771, 0.9563649892807007, 0.9563649892807007, 0.9563649892807007, 0.9535351991653442, 0.9519829750061035, 0.9512194395065308, 0.9512194395065308, 0.9503345489501953, 0.9489461779594421, 0.9489461779594421, 0.9489461779594421, 0.9467531442642212, 0.9467531442642212, 0.9467531442642212, 0.9467531442642212, 0.9467531442642212, 0.9467531442642212, 0.9467531442642212, 0.9467531442642212, 0.9467531442642212, 0.9467531442642212, 0.9467531442642212, 0.8660253286361694, 0.8542420864105225, 0.8512565493583679, 0.8268688321113586, 0.8268688321113586, 0.8268688321113586, 0.8268688321113586, 0.8268688321113586, 0.8211076855659485, 0.8183169960975647, 0.8164964914321899, 0.8164964914321899, 0.8067842125892639, 0.8017837405204773, 0.8017837405204773, 0.8017837405204773, 0.8017836809158325, 0.7924058437347412, 0.7924058437347412, 0.7916666269302368, 0.7825080752372742, 0.7770980000495911, 0.7745967507362366, 0.7715166807174683, 0.7654655575752258, 0.7637625336647034, 0.7637625336647034, 0.7637625336647034, 0.7579367160797119, 0.7579367160797119, 0.753778338432312, 0.7504786849021912, 0.7504786849021912, 0.75, 0.7484552264213562, 0.7484552264213562, 0.7484552264213562, 0.7484552264213562, 0.7484552264213562, 0.7463905215263367, 0.7463905215263367, 0.9719274044036865, 0.9719274044036865, 0.9585144519805908, 0.949999988079071, 0.949999988079071, 0.949999988079071, 0.949999988079071, 0.949999988079071, 0.949999988079071, 0.9488521814346313, 0.9468950629234314, 0.9468950629234314, 0.9455944299697876, 0.9455944299697876, 0.9455944299697876, 0.9449111223220825, 0.9441176056861877, 0.9431191682815552, 0.9421682357788086, 0.941357433795929, 0.9333332777023315, 0.9333332777023315, 0.9315885305404663, 0.9315885305404663, 0.9309493899345398, 0.9309493899345398, 0.9304653406143188, 0.9296697378158569, 0.9296696782112122, 0.9296696782112122, 0.9273412227630615, 0.9271050095558167, 0.9271050095558167, 0.9264487624168396, 0.9264487624168396, 0.9249998927116394, 0.9233804941177368, 0.9223780035972595, 0.9219543933868408, 0.9219543933868408, 0.9209109544754028, 0.9787957072257996, 0.9640346765518188, 0.9633798599243164, 0.9621023535728455, 0.9621023535728455, 0.9621023535728455, 0.9558526873588562, 0.955649733543396, 0.9537876844406128, 0.9511599540710449, 0.9508497714996338, 0.9507505297660828, 0.9501461982727051, 0.9501461982727051, 0.948979914188385, 0.9488521814346313, 0.9476815462112427, 0.9473464488983154, 0.9465925097465515, 0.9456576704978943, 0.9456576704978943, 0.9447560906410217, 0.9434393048286438, 0.9412351846694946, 0.9409592151641846, 0.940580427646637, 0.9405161738395691, 0.9399007558822632, 0.9399007558822632, 0.9399007558822632, 0.9385019540786743, 0.9379647970199585, 0.9378902316093445, 0.9378902316093445, 0.937635600566864, 0.9374701380729675, 0.9367507100105286, 0.9361647963523865, 0.9349468946456909, 0.9349468946456909, 0.9333308339118958, 0.9866902232170105, 0.975784420967102, 0.9674797058105469, 0.9674797058105469, 0.9674797058105469, 0.9655351042747498, 0.9633640050888062, 0.9633640050888062, 0.9621404409408569, 0.9607347846031189, 0.9604803323745728, 0.959383487701416, 0.9585145711898804, 0.9561828970909119, 0.9561828970909119, 0.955817461013794, 0.955817461013794, 0.9556189775466919, 0.9550230503082275, 0.9550230503082275, 0.954993724822998, 0.9545941948890686, 0.9545941948890686, 0.9534626007080078, 0.9534626007080078, 0.9520360231399536, 0.9520360231399536, 0.9515025615692139, 0.9503289461135864, 0.9490706920623779, 0.9486832618713379, 0.9471879005432129, 0.9468950629234314, 0.9465078115463257, 0.9455944895744324, 0.9455944895744324, 0.9438797831535339, 0.9438797831535339, 0.9438797831535339, 0.9432421922683716, 0.9428276419639587, 0.9532063007354736, 0.9374860525131226, 0.937089204788208, 0.9353047609329224, 0.9353047609329224, 0.9353047609329224, 0.9332565665245056, 0.9332565069198608, 0.932202160358429, 0.9313342571258545, 0.9313341975212097, 0.9284089207649231, 0.9279607534408569, 0.9274777770042419, 0.926847517490387, 0.926847517490387, 0.926847517490387, 0.9262908697128296, 0.9262436628341675, 0.9247311949729919, 0.9242740869522095, 0.9242740869522095, 0.92406165599823, 0.9236372709274292, 0.9215506911277771, 0.9213557839393616, 0.9210565686225891, 0.9207508563995361, 0.9206016063690186, 0.9206016063690186, 0.9205586314201355, 0.9202829599380493, 0.9190074801445007, 0.9190074801445007, 0.9190074801445007, 0.9165445566177368, 0.916544497013092, 0.916544497013092, 0.9164397120475769, 0.9133691787719727, 0.9133691191673279, 0.9594032764434814, 0.9574271440505981, 0.9534626007080078, 0.942082405090332, 0.942082405090332, 0.942082405090332, 0.9285405874252319, 0.9284141063690186, 0.9199353456497192, 0.9198662042617798, 0.9173649549484253, 0.9116846919059753, 0.9111469388008118, 0.910578727722168, 0.9103585481643677, 0.9090908765792847, 0.907442569732666, 0.9045340418815613, 0.9045340418815613, 0.9045340418815613, 0.9045340418815613, 0.9045340418815613, 0.9045340418815613, 0.9045340418815613, 0.8983222842216492, 0.8935251235961914, 0.8869686126708984, 0.8780540823936462, 0.8764598965644836, 0.8761903643608093, 0.8746731877326965, 0.8746731877326965, 0.8727860450744629, 0.8709883093833923, 0.8709882497787476, 0.8703882694244385, 0.8678334355354309, 0.8664002418518066, 0.8664002418518066, 0.865657389163971, 0.8624393343925476, 0.9798047542572021, 0.9798047542572021, 0.9798047542572021, 0.9770542979240417, 0.9756366014480591, 0.9756366014480591, 0.9743975400924683, 0.9729739427566528, 0.972716212272644, 0.9716053605079651, 0.9683640003204346, 0.9683640003204346, 0.9679938554763794, 0.9679938554763794, 0.9677928686141968, 0.9671894311904907, 0.9671894311904907, 0.9671894311904907, 0.9671597480773926, 0.965609073638916, 0.965609073638916, 0.9641643762588501, 0.9641643762588501, 0.9624354243278503, 0.9611612558364868, 0.9607688784599304, 0.9592545032501221, 0.958662211894989, 0.9559041857719421, 0.9559041857719421, 0.9552584886550903, 0.9548386335372925, 0.9548197388648987, 0.953349769115448, 0.953349769115448, 0.9528704881668091, 0.951762318611145, 0.951521635055542, 0.9512699246406555, 0.9509329199790955, 0.9488521814346313, 0.9767816662788391, 0.9675326347351074, 0.9635461568832397, 0.9621405601501465, 0.9603921175003052, 0.9596789479255676, 0.9594031572341919, 0.9534626007080078, 0.9534626007080078, 0.953230619430542, 0.9493857026100159, 0.9489284753799438, 0.9489284753799438, 0.9489284753799438, 0.9489284753799438, 0.9489284753799438, 0.9486833810806274, 0.9463773965835571, 0.9436284899711609, 0.9430055022239685, 0.9429903030395508, 0.9429903030395508, 0.9429903030395508, 0.9408842325210571, 0.9400193691253662, 0.9391485452651978, 0.93898606300354, 0.93898606300354, 0.93898606300354, 0.9389711618423462, 0.9389710426330566, 0.9354953765869141, 0.9354953765869141, 0.9354143142700195, 0.9339475631713867, 0.9339475631713867, 0.9339475631713867, 0.9336222410202026, 0.9333810210227966, 0.9311283230781555, 0.929516077041626, 0.9765536189079285, 0.9750854969024658, 0.974913477897644, 0.974913477897644, 0.974913477897644, 0.9723448753356934, 0.9723448753356934, 0.9716053605079651, 0.9707252979278564, 0.9673306941986084, 0.9673306941986084, 0.9609277844429016, 0.9607689380645752, 0.9607689380645752, 0.9607689380645752, 0.9578132629394531, 0.9575175046920776, 0.9553170800209045, 0.9542195796966553, 0.9534240365028381, 0.9529258012771606, 0.9518744945526123, 0.9516485929489136, 0.9516485929489136, 0.9516485929489136, 0.9516485929489136, 0.9516485929489136, 0.9516485929489136, 0.9516485929489136, 0.9516485929489136, 0.951034426689148, 0.951034426689148, 0.9509329199790955, 0.9509329199790955, 0.9487438201904297, 0.9478946328163147, 0.9476128816604614, 0.9464573860168457, 0.9460287094116211, 0.9448346495628357, 0.9448346495628357, 1.0, 1.0, 1.0, 1.0, 1.0, 1.0, 1.0, 1.0, 1.0, 0.9701424837112427, 0.9701424837112427, 0.9354143142700195, 0.9354143142700195, 0.9354143142700195, 0.9354143142700195, 0.9176629185676575, 0.8944271802902222, 0.875, 0.875, 0.8660253882408142, 0.8660253286361694, 0.8660253286361694, 0.8660253286361694, 0.8504200577735901, 0.8498365879058838, 0.8333333730697632, 0.8320502638816833, 0.8320502638816833, 0.8320502638816833, 0.8249579071998596, 0.8249579071998596, 0.8164966106414795, 0.8164966106414795, 0.812604546546936, 0.8111474514007568, 0.8111070990562439, 0.8082239031791687, 0.8082238435745239, 0.8017836809158325, 0.8017836809158325, 0.8017836809158325, 0.9767816662788391, 0.9675326347351074, 0.9635461568832397, 0.9621405601501465, 0.9603921175003052, 0.9596789479255676, 0.9594031572341919, 0.9534626007080078, 0.9534626007080078, 0.953230619430542, 0.9493857026100159, 0.9489284753799438, 0.9489284753799438, 0.9489284753799438, 0.9489284753799438, 0.9489284753799438, 0.9486833810806274, 0.9463773965835571, 0.9436284899711609, 0.9430055022239685, 0.9429903030395508, 0.9429903030395508, 0.9429903030395508, 0.9408842325210571, 0.9400193691253662, 0.9391485452651978, 0.93898606300354, 0.93898606300354, 0.93898606300354, 0.9389711618423462, 0.9389710426330566, 0.9354953765869141, 0.9354953765869141, 0.9354143142700195, 0.9339475631713867, 0.9339475631713867, 0.9339475631713867, 0.9336222410202026, 0.9333810210227966, 0.9311283230781555, 0.929516077041626, 0.9767816662788391, 0.9675326347351074, 0.9635461568832397, 0.9621405601501465, 0.9603921175003052, 0.9596789479255676, 0.9594031572341919, 0.9534626007080078, 0.9534626007080078, 0.953230619430542, 0.9493857026100159, 0.9489284753799438, 0.9489284753799438, 0.9489284753799438, 0.9489284753799438, 0.9489284753799438, 0.9486833810806274, 0.9463773965835571, 0.9436284899711609, 0.9430055022239685, 0.9429903030395508, 0.9429903030395508, 0.9429903030395508, 0.9408842325210571, 0.9400193691253662, 0.9391485452651978, 0.93898606300354, 0.93898606300354, 0.93898606300354, 0.9389711618423462, 0.9389710426330566, 0.9354953765869141, 0.9354953765869141, 0.9354143142700195, 0.9339475631713867, 0.9339475631713867, 0.9339475631713867, 0.9336222410202026, 0.9333810210227966, 0.9311283230781555, 0.929516077041626, 0.9765536189079285, 0.9750854969024658, 0.974913477897644, 0.974913477897644, 0.974913477897644, 0.9723448753356934, 0.9723448753356934, 0.9716053605079651, 0.9707252979278564, 0.9673306941986084, 0.9673306941986084, 0.9609277844429016, 0.9607689380645752, 0.9607689380645752, 0.9607689380645752, 0.9578132629394531, 0.9575175046920776, 0.9553170800209045, 0.9542195796966553, 0.9534240365028381, 0.9529258012771606, 0.9518744945526123, 0.9516485929489136, 0.9516485929489136, 0.9516485929489136, 0.9516485929489136, 0.9516485929489136, 0.9516485929489136, 0.9516485929489136, 0.9516485929489136, 0.951034426689148, 0.951034426689148, 0.9509329199790955, 0.9509329199790955, 0.9487438201904297, 0.9478946328163147, 0.9476128816604614, 0.9464573860168457, 0.9460287094116211, 0.9448346495628357, 0.9448346495628357, 1.0, 1.0, 1.0, 1.0, 1.0, 1.0, 1.0, 1.0, 1.0, 0.9701424837112427, 0.9701424837112427, 0.9354143142700195, 0.9354143142700195, 0.9354143142700195, 0.9354143142700195, 0.9176629185676575, 0.8944271802902222, 0.875, 0.875, 0.8660253882408142, 0.8660253286361694, 0.8660253286361694, 0.8660253286361694, 0.8504200577735901, 0.8498365879058838, 0.8333333730697632, 0.8320502638816833, 0.8320502638816833, 0.8320502638816833, 0.8249579071998596, 0.8249579071998596, 0.8164966106414795, 0.8164966106414795, 0.812604546546936, 0.8111474514007568, 0.8111070990562439, 0.8082239031791687, 0.8082238435745239, 0.8017836809158325, 0.8017836809158325, 0.8017836809158325, 0.9767816662788391, 0.9675326347351074, 0.9635461568832397, 0.9621405601501465, 0.9603921175003052, 0.9596789479255676, 0.9594031572341919, 0.9534626007080078, 0.9534626007080078, 0.953230619430542, 0.9493857026100159, 0.9489284753799438, 0.9489284753799438, 0.9489284753799438, 0.9489284753799438, 0.9489284753799438, 0.9486833810806274, 0.9463773965835571, 0.9436284899711609, 0.9430055022239685, 0.9429903030395508, 0.9429903030395508, 0.9429903030395508, 0.9408842325210571, 0.9400193691253662, 0.9391485452651978, 0.93898606300354, 0.93898606300354, 0.93898606300354, 0.9389711618423462, 0.9389710426330566, 0.9354953765869141, 0.9354953765869141, 0.9354143142700195, 0.9339475631713867, 0.9339475631713867, 0.9339475631713867, 0.9336222410202026, 0.9333810210227966, 0.9311283230781555, 0.929516077041626, 0.9746794104576111, 0.9550229907035828, 0.953462541103363, 0.9486833214759827, 0.9486833214759827, 0.9467291831970215, 0.9449110627174377, 0.9341986179351807, 0.9316949844360352, 0.9316949844360352, 0.9316949844360352, 0.9316949844360352, 0.9316949844360352, 0.9315561056137085, 0.9296694993972778, 0.9237021803855896, 0.9237021207809448, 0.9237021207809448, 0.9237021207809448, 0.9237021207809448, 0.9216352701187134, 0.9209109544754028, 0.9203580021858215, 0.9203580021858215, 0.9203580021858215, 0.9190182685852051, 0.9190182685852051, 0.9170604944229126, 0.9141740798950195, 0.9135002493858337, 0.9135002493858337, 0.9135002493858337, 0.9135002493858337, 0.9135002493858337, 0.9132592678070068, 0.9128710031509399, 0.9128708839416504, 0.9101698398590088, 0.9101698398590088, 0.9101698398590088, 0.9091922640800476, 0.9574272632598877, 0.9486833810806274, 0.9449112415313721, 0.9428089261054993, 0.9415963292121887, 0.9298989176750183, 0.9244735836982727, 0.9238697290420532, 0.922330915927887, 0.9185587763786316, 0.9185587167739868, 0.9141378402709961, 0.9141378402709961, 0.9141378402709961, 0.9138600826263428, 0.9131712913513184, 0.9128710627555847, 0.9128710627555847, 0.9128710627555847, 0.9128710627555847, 0.9128710627555847, 0.9128710627555847, 0.9128708243370056, 0.9112957715988159, 0.9103456735610962, 0.9097177386283875, 0.9097177386283875, 0.9082951545715332, 0.9082951545715332, 0.9072184562683105, 0.9060606956481934, 0.9058216214179993, 0.9058216214179993, 0.9058215022087097, 0.9056544899940491, 0.9036962389945984, 0.9036961793899536, 0.9036961793899536, 0.9035252928733826, 0.9035096764564514, 0.9027306437492371, 0.8682432174682617, 0.8362419605255127, 0.8278374075889587, 0.827837347984314, 0.8006407022476196, 0.8006407022476196, 0.8006407022476196, 0.8006407022476196, 0.7893521785736084, 0.7893521785736084, 0.7893521785736084, 0.7844645380973816, 0.7692307829856873, 0.7692307829856873, 0.7692307829856873, 0.762712836265564, 0.7627127766609192, 0.7614995241165161, 0.7526177763938904, 0.7518093585968018, 0.7518093585968018, 0.7472647428512573, 0.7433851361274719, 0.7412493228912354, 0.7412493228912354, 0.7412493228912354, 0.7412493228912354, 0.7399401068687439, 0.7399399876594543, 0.7396002411842346, 0.7354354858398438, 0.7354354858398438, 0.7354354858398438, 0.7282019853591919, 0.7275328636169434, 0.7242068648338318, 0.7238423228263855, 0.7211102843284607, 0.7211102843284607, 0.7211102843284607, 0.7205766439437866, 0.9565216302871704, 0.9565216302871704, 0.9498989582061768, 0.9457323551177979, 0.9451745748519897, 0.944369912147522, 0.9437401294708252, 0.9437401294708252, 0.9437401294708252, 0.9383845925331116, 0.9383149147033691, 0.9363822340965271, 0.9363821148872375, 0.9348927736282349, 0.9337990283966064, 0.9337990283966064, 0.933563768863678, 0.9325048327445984, 0.9325048327445984, 0.9325048327445984, 0.9325047135353088, 0.9308956265449524, 0.929283618927002, 0.9292835593223572, 0.9274376630783081, 0.9267343878746033, 0.9255480766296387, 0.9255480766296387, 0.9231327176094055, 0.9229581356048584, 0.9223131537437439, 0.9215121269226074, 0.9215121269226074, 0.9215121269226074, 0.9200671911239624, 0.9194621443748474, 0.9191833138465881, 0.9187147617340088, 0.9170672297477722, 0.9163795709609985, 0.915249228477478], \"xaxis\": \"x\", \"yaxis\": \"y\"}],\n",
              "                        {\"barmode\": \"relative\", \"legend\": {\"tracegroupgap\": 0}, \"margin\": {\"t\": 60}, \"template\": {\"data\": {\"bar\": [{\"error_x\": {\"color\": \"#2a3f5f\"}, \"error_y\": {\"color\": \"#2a3f5f\"}, \"marker\": {\"line\": {\"color\": \"#E5ECF6\", \"width\": 0.5}}, \"type\": \"bar\"}], \"barpolar\": [{\"marker\": {\"line\": {\"color\": \"#E5ECF6\", \"width\": 0.5}}, \"type\": \"barpolar\"}], \"carpet\": [{\"aaxis\": {\"endlinecolor\": \"#2a3f5f\", \"gridcolor\": \"white\", \"linecolor\": \"white\", \"minorgridcolor\": \"white\", \"startlinecolor\": \"#2a3f5f\"}, \"baxis\": {\"endlinecolor\": \"#2a3f5f\", \"gridcolor\": \"white\", \"linecolor\": \"white\", \"minorgridcolor\": \"white\", \"startlinecolor\": \"#2a3f5f\"}, \"type\": \"carpet\"}], \"choropleth\": [{\"colorbar\": {\"outlinewidth\": 0, \"ticks\": \"\"}, \"type\": \"choropleth\"}], \"contour\": [{\"colorbar\": {\"outlinewidth\": 0, \"ticks\": \"\"}, \"colorscale\": [[0.0, \"#0d0887\"], [0.1111111111111111, \"#46039f\"], [0.2222222222222222, \"#7201a8\"], [0.3333333333333333, \"#9c179e\"], [0.4444444444444444, \"#bd3786\"], [0.5555555555555556, \"#d8576b\"], [0.6666666666666666, \"#ed7953\"], [0.7777777777777778, \"#fb9f3a\"], [0.8888888888888888, \"#fdca26\"], [1.0, \"#f0f921\"]], \"type\": \"contour\"}], \"contourcarpet\": [{\"colorbar\": {\"outlinewidth\": 0, \"ticks\": \"\"}, \"type\": \"contourcarpet\"}], \"heatmap\": [{\"colorbar\": {\"outlinewidth\": 0, \"ticks\": \"\"}, \"colorscale\": [[0.0, \"#0d0887\"], [0.1111111111111111, \"#46039f\"], [0.2222222222222222, \"#7201a8\"], [0.3333333333333333, \"#9c179e\"], [0.4444444444444444, \"#bd3786\"], [0.5555555555555556, \"#d8576b\"], [0.6666666666666666, \"#ed7953\"], [0.7777777777777778, \"#fb9f3a\"], [0.8888888888888888, \"#fdca26\"], [1.0, \"#f0f921\"]], \"type\": \"heatmap\"}], \"heatmapgl\": [{\"colorbar\": {\"outlinewidth\": 0, \"ticks\": \"\"}, \"colorscale\": [[0.0, \"#0d0887\"], [0.1111111111111111, \"#46039f\"], [0.2222222222222222, \"#7201a8\"], [0.3333333333333333, \"#9c179e\"], [0.4444444444444444, \"#bd3786\"], [0.5555555555555556, \"#d8576b\"], [0.6666666666666666, \"#ed7953\"], [0.7777777777777778, \"#fb9f3a\"], [0.8888888888888888, \"#fdca26\"], [1.0, \"#f0f921\"]], \"type\": \"heatmapgl\"}], \"histogram\": [{\"marker\": {\"colorbar\": {\"outlinewidth\": 0, \"ticks\": \"\"}}, \"type\": \"histogram\"}], \"histogram2d\": [{\"colorbar\": {\"outlinewidth\": 0, \"ticks\": \"\"}, \"colorscale\": [[0.0, \"#0d0887\"], [0.1111111111111111, \"#46039f\"], [0.2222222222222222, \"#7201a8\"], [0.3333333333333333, \"#9c179e\"], [0.4444444444444444, \"#bd3786\"], [0.5555555555555556, \"#d8576b\"], [0.6666666666666666, \"#ed7953\"], [0.7777777777777778, \"#fb9f3a\"], [0.8888888888888888, \"#fdca26\"], [1.0, \"#f0f921\"]], \"type\": \"histogram2d\"}], \"histogram2dcontour\": [{\"colorbar\": {\"outlinewidth\": 0, \"ticks\": \"\"}, \"colorscale\": [[0.0, \"#0d0887\"], [0.1111111111111111, \"#46039f\"], [0.2222222222222222, \"#7201a8\"], [0.3333333333333333, \"#9c179e\"], [0.4444444444444444, \"#bd3786\"], [0.5555555555555556, \"#d8576b\"], [0.6666666666666666, \"#ed7953\"], [0.7777777777777778, \"#fb9f3a\"], [0.8888888888888888, \"#fdca26\"], [1.0, \"#f0f921\"]], \"type\": \"histogram2dcontour\"}], \"mesh3d\": [{\"colorbar\": {\"outlinewidth\": 0, \"ticks\": \"\"}, \"type\": \"mesh3d\"}], \"parcoords\": [{\"line\": {\"colorbar\": {\"outlinewidth\": 0, \"ticks\": \"\"}}, \"type\": \"parcoords\"}], \"pie\": [{\"automargin\": true, \"type\": \"pie\"}], \"scatter\": [{\"marker\": {\"colorbar\": {\"outlinewidth\": 0, \"ticks\": \"\"}}, \"type\": \"scatter\"}], \"scatter3d\": [{\"line\": {\"colorbar\": {\"outlinewidth\": 0, \"ticks\": \"\"}}, \"marker\": {\"colorbar\": {\"outlinewidth\": 0, \"ticks\": \"\"}}, \"type\": \"scatter3d\"}], \"scattercarpet\": [{\"marker\": {\"colorbar\": {\"outlinewidth\": 0, \"ticks\": \"\"}}, \"type\": \"scattercarpet\"}], \"scattergeo\": [{\"marker\": {\"colorbar\": {\"outlinewidth\": 0, \"ticks\": \"\"}}, \"type\": \"scattergeo\"}], \"scattergl\": [{\"marker\": {\"colorbar\": {\"outlinewidth\": 0, \"ticks\": \"\"}}, \"type\": \"scattergl\"}], \"scattermapbox\": [{\"marker\": {\"colorbar\": {\"outlinewidth\": 0, \"ticks\": \"\"}}, \"type\": \"scattermapbox\"}], \"scatterpolar\": [{\"marker\": {\"colorbar\": {\"outlinewidth\": 0, \"ticks\": \"\"}}, \"type\": \"scatterpolar\"}], \"scatterpolargl\": [{\"marker\": {\"colorbar\": {\"outlinewidth\": 0, \"ticks\": \"\"}}, \"type\": \"scatterpolargl\"}], \"scatterternary\": [{\"marker\": {\"colorbar\": {\"outlinewidth\": 0, \"ticks\": \"\"}}, \"type\": \"scatterternary\"}], \"surface\": [{\"colorbar\": {\"outlinewidth\": 0, \"ticks\": \"\"}, \"colorscale\": [[0.0, \"#0d0887\"], [0.1111111111111111, \"#46039f\"], [0.2222222222222222, \"#7201a8\"], [0.3333333333333333, \"#9c179e\"], [0.4444444444444444, \"#bd3786\"], [0.5555555555555556, \"#d8576b\"], [0.6666666666666666, \"#ed7953\"], [0.7777777777777778, \"#fb9f3a\"], [0.8888888888888888, \"#fdca26\"], [1.0, \"#f0f921\"]], \"type\": \"surface\"}], \"table\": [{\"cells\": {\"fill\": {\"color\": \"#EBF0F8\"}, \"line\": {\"color\": \"white\"}}, \"header\": {\"fill\": {\"color\": \"#C8D4E3\"}, \"line\": {\"color\": \"white\"}}, \"type\": \"table\"}]}, \"layout\": {\"annotationdefaults\": {\"arrowcolor\": \"#2a3f5f\", \"arrowhead\": 0, \"arrowwidth\": 1}, \"coloraxis\": {\"colorbar\": {\"outlinewidth\": 0, \"ticks\": \"\"}}, \"colorscale\": {\"diverging\": [[0, \"#8e0152\"], [0.1, \"#c51b7d\"], [0.2, \"#de77ae\"], [0.3, \"#f1b6da\"], [0.4, \"#fde0ef\"], [0.5, \"#f7f7f7\"], [0.6, \"#e6f5d0\"], [0.7, \"#b8e186\"], [0.8, \"#7fbc41\"], [0.9, \"#4d9221\"], [1, \"#276419\"]], \"sequential\": [[0.0, \"#0d0887\"], [0.1111111111111111, \"#46039f\"], [0.2222222222222222, \"#7201a8\"], [0.3333333333333333, \"#9c179e\"], [0.4444444444444444, \"#bd3786\"], [0.5555555555555556, \"#d8576b\"], [0.6666666666666666, \"#ed7953\"], [0.7777777777777778, \"#fb9f3a\"], [0.8888888888888888, \"#fdca26\"], [1.0, \"#f0f921\"]], \"sequentialminus\": [[0.0, \"#0d0887\"], [0.1111111111111111, \"#46039f\"], [0.2222222222222222, \"#7201a8\"], [0.3333333333333333, \"#9c179e\"], [0.4444444444444444, \"#bd3786\"], [0.5555555555555556, \"#d8576b\"], [0.6666666666666666, \"#ed7953\"], [0.7777777777777778, \"#fb9f3a\"], [0.8888888888888888, \"#fdca26\"], [1.0, \"#f0f921\"]]}, \"colorway\": [\"#636efa\", \"#EF553B\", \"#00cc96\", \"#ab63fa\", \"#FFA15A\", \"#19d3f3\", \"#FF6692\", \"#B6E880\", \"#FF97FF\", \"#FECB52\"], \"font\": {\"color\": \"#2a3f5f\"}, \"geo\": {\"bgcolor\": \"white\", \"lakecolor\": \"white\", \"landcolor\": \"#E5ECF6\", \"showlakes\": true, \"showland\": true, \"subunitcolor\": \"white\"}, \"hoverlabel\": {\"align\": \"left\"}, \"hovermode\": \"closest\", \"mapbox\": {\"style\": \"light\"}, \"paper_bgcolor\": \"white\", \"plot_bgcolor\": \"#E5ECF6\", \"polar\": {\"angularaxis\": {\"gridcolor\": \"white\", \"linecolor\": \"white\", \"ticks\": \"\"}, \"bgcolor\": \"#E5ECF6\", \"radialaxis\": {\"gridcolor\": \"white\", \"linecolor\": \"white\", \"ticks\": \"\"}}, \"scene\": {\"xaxis\": {\"backgroundcolor\": \"#E5ECF6\", \"gridcolor\": \"white\", \"gridwidth\": 2, \"linecolor\": \"white\", \"showbackground\": true, \"ticks\": \"\", \"zerolinecolor\": \"white\"}, \"yaxis\": {\"backgroundcolor\": \"#E5ECF6\", \"gridcolor\": \"white\", \"gridwidth\": 2, \"linecolor\": \"white\", \"showbackground\": true, \"ticks\": \"\", \"zerolinecolor\": \"white\"}, \"zaxis\": {\"backgroundcolor\": \"#E5ECF6\", \"gridcolor\": \"white\", \"gridwidth\": 2, \"linecolor\": \"white\", \"showbackground\": true, \"ticks\": \"\", \"zerolinecolor\": \"white\"}}, \"shapedefaults\": {\"line\": {\"color\": \"#2a3f5f\"}}, \"ternary\": {\"aaxis\": {\"gridcolor\": \"white\", \"linecolor\": \"white\", \"ticks\": \"\"}, \"baxis\": {\"gridcolor\": \"white\", \"linecolor\": \"white\", \"ticks\": \"\"}, \"bgcolor\": \"#E5ECF6\", \"caxis\": {\"gridcolor\": \"white\", \"linecolor\": \"white\", \"ticks\": \"\"}}, \"title\": {\"x\": 0.05}, \"xaxis\": {\"automargin\": true, \"gridcolor\": \"white\", \"linecolor\": \"white\", \"ticks\": \"\", \"title\": {\"standoff\": 15}, \"zerolinecolor\": \"white\", \"zerolinewidth\": 2}, \"yaxis\": {\"automargin\": true, \"gridcolor\": \"white\", \"linecolor\": \"white\", \"ticks\": \"\", \"title\": {\"standoff\": 15}, \"zerolinecolor\": \"white\", \"zerolinewidth\": 2}}}, \"xaxis\": {\"anchor\": \"y\", \"domain\": [0.0, 1.0], \"title\": {\"text\": \"score\"}}, \"yaxis\": {\"anchor\": \"x\", \"domain\": [0.0, 1.0], \"title\": {\"text\": \"count\"}}},\n",
              "                        {\"responsive\": true}\n",
              "                    ).then(function(){\n",
              "                            \n",
              "var gd = document.getElementById('d49df56b-1f31-4714-b9c5-ee3c6534a3c1');\n",
              "var x = new MutationObserver(function (mutations, observer) {{\n",
              "        var display = window.getComputedStyle(gd).display;\n",
              "        if (!display || display === 'none') {{\n",
              "            console.log([gd, 'removed!']);\n",
              "            Plotly.purge(gd);\n",
              "            observer.disconnect();\n",
              "        }}\n",
              "}});\n",
              "\n",
              "// Listen for the removal of the full notebook cells\n",
              "var notebookContainer = gd.closest('#notebook-container');\n",
              "if (notebookContainer) {{\n",
              "    x.observe(notebookContainer, {childList: true});\n",
              "}}\n",
              "\n",
              "// Listen for the clearing of the current output cell\n",
              "var outputEl = gd.closest('.output');\n",
              "if (outputEl) {{\n",
              "    x.observe(outputEl, {childList: true});\n",
              "}}\n",
              "\n",
              "                        })\n",
              "                };\n",
              "                \n",
              "            </script>\n",
              "        </div>\n",
              "</body>\n",
              "</html>"
            ]
          },
          "metadata": {}
        }
      ]
    },
    {
      "cell_type": "code",
      "metadata": {
        "colab": {
          "base_uri": "https://localhost:8080/",
          "height": 1000
        },
        "id": "7N81-XfdDFKV",
        "outputId": "268792dd-27b9-45d1-b40d-95fc087511c4"
      },
      "source": [
        "result, details = recommend_tune(df_sim, 'These Foolish Things')\n",
        "result.head(30)"
      ],
      "execution_count": 37,
      "outputs": [
        {
          "output_type": "execute_result",
          "data": {
            "text/html": [
              "<div>\n",
              "<style scoped>\n",
              "    .dataframe tbody tr th:only-of-type {\n",
              "        vertical-align: middle;\n",
              "    }\n",
              "\n",
              "    .dataframe tbody tr th {\n",
              "        vertical-align: top;\n",
              "    }\n",
              "\n",
              "    .dataframe thead th {\n",
              "        text-align: right;\n",
              "    }\n",
              "</style>\n",
              "<table border=\"1\" class=\"dataframe\">\n",
              "  <thead>\n",
              "    <tr style=\"text-align: right;\">\n",
              "      <th></th>\n",
              "      <th>score</th>\n",
              "      <th>max</th>\n",
              "      <th>score_div_max</th>\n",
              "    </tr>\n",
              "    <tr>\n",
              "      <th>similar_title</th>\n",
              "      <th></th>\n",
              "      <th></th>\n",
              "      <th></th>\n",
              "    </tr>\n",
              "  </thead>\n",
              "  <tbody>\n",
              "    <tr>\n",
              "      <th>Way You Look Tonight, The</th>\n",
              "      <td>0.966796</td>\n",
              "      <td>0.974755</td>\n",
              "      <td>1.000000</td>\n",
              "    </tr>\n",
              "    <tr>\n",
              "      <th>I Loves You Porgy</th>\n",
              "      <td>0.974755</td>\n",
              "      <td>0.974755</td>\n",
              "      <td>1.000000</td>\n",
              "    </tr>\n",
              "    <tr>\n",
              "      <th>More Than You Know</th>\n",
              "      <td>0.916515</td>\n",
              "      <td>0.916515</td>\n",
              "      <td>1.000000</td>\n",
              "    </tr>\n",
              "    <tr>\n",
              "      <th>It's Easy To Remember</th>\n",
              "      <td>0.951972</td>\n",
              "      <td>0.974755</td>\n",
              "      <td>0.997175</td>\n",
              "    </tr>\n",
              "    <tr>\n",
              "      <th>Stairway To The Stars</th>\n",
              "      <td>0.942223</td>\n",
              "      <td>0.974755</td>\n",
              "      <td>0.986963</td>\n",
              "    </tr>\n",
              "    <tr>\n",
              "      <th>Party's Over, The</th>\n",
              "      <td>0.958709</td>\n",
              "      <td>0.974755</td>\n",
              "      <td>0.983539</td>\n",
              "    </tr>\n",
              "    <tr>\n",
              "      <th>Rosetta</th>\n",
              "      <td>0.895443</td>\n",
              "      <td>0.916515</td>\n",
              "      <td>0.977008</td>\n",
              "    </tr>\n",
              "    <tr>\n",
              "      <th>They All Laughed</th>\n",
              "      <td>0.950980</td>\n",
              "      <td>0.974755</td>\n",
              "      <td>0.975609</td>\n",
              "    </tr>\n",
              "    <tr>\n",
              "      <th>And The Angels Sing</th>\n",
              "      <td>0.947678</td>\n",
              "      <td>0.974755</td>\n",
              "      <td>0.972222</td>\n",
              "    </tr>\n",
              "    <tr>\n",
              "      <th>Let's Fall In Love</th>\n",
              "      <td>0.930484</td>\n",
              "      <td>0.974755</td>\n",
              "      <td>0.971464</td>\n",
              "    </tr>\n",
              "    <tr>\n",
              "      <th>Bewitched</th>\n",
              "      <td>0.942847</td>\n",
              "      <td>0.974755</td>\n",
              "      <td>0.970286</td>\n",
              "    </tr>\n",
              "    <tr>\n",
              "      <th>Easy Street</th>\n",
              "      <td>0.926302</td>\n",
              "      <td>0.954669</td>\n",
              "      <td>0.970286</td>\n",
              "    </tr>\n",
              "    <tr>\n",
              "      <th>Among My Souvenirs</th>\n",
              "      <td>0.925820</td>\n",
              "      <td>0.954669</td>\n",
              "      <td>0.969782</td>\n",
              "    </tr>\n",
              "    <tr>\n",
              "      <th>Why Do I Love You</th>\n",
              "      <td>0.943702</td>\n",
              "      <td>0.974755</td>\n",
              "      <td>0.968143</td>\n",
              "    </tr>\n",
              "    <tr>\n",
              "      <th>Folks Who Live On The Hill, The</th>\n",
              "      <td>0.942871</td>\n",
              "      <td>0.974755</td>\n",
              "      <td>0.967291</td>\n",
              "    </tr>\n",
              "    <tr>\n",
              "      <th>If There Is Someone Lovelier</th>\n",
              "      <td>0.942082</td>\n",
              "      <td>0.974755</td>\n",
              "      <td>0.966482</td>\n",
              "    </tr>\n",
              "    <tr>\n",
              "      <th>It's A Lovely Day Today</th>\n",
              "      <td>0.941636</td>\n",
              "      <td>0.974755</td>\n",
              "      <td>0.966024</td>\n",
              "    </tr>\n",
              "    <tr>\n",
              "      <th>Manhattan</th>\n",
              "      <td>0.920751</td>\n",
              "      <td>0.954669</td>\n",
              "      <td>0.964472</td>\n",
              "    </tr>\n",
              "    <tr>\n",
              "      <th>Heart And Soul</th>\n",
              "      <td>0.934199</td>\n",
              "      <td>0.974755</td>\n",
              "      <td>0.964457</td>\n",
              "    </tr>\n",
              "    <tr>\n",
              "      <th>Danny Boy</th>\n",
              "      <td>0.934685</td>\n",
              "      <td>0.974755</td>\n",
              "      <td>0.962888</td>\n",
              "    </tr>\n",
              "    <tr>\n",
              "      <th>For Once In My Life</th>\n",
              "      <td>0.919239</td>\n",
              "      <td>0.954669</td>\n",
              "      <td>0.962888</td>\n",
              "    </tr>\n",
              "    <tr>\n",
              "      <th>Taking A Chance On Love</th>\n",
              "      <td>0.919145</td>\n",
              "      <td>0.954669</td>\n",
              "      <td>0.962790</td>\n",
              "    </tr>\n",
              "    <tr>\n",
              "      <th>I Gotta Right To Sing The Blues</th>\n",
              "      <td>0.918176</td>\n",
              "      <td>0.954669</td>\n",
              "      <td>0.961775</td>\n",
              "    </tr>\n",
              "    <tr>\n",
              "      <th>Miss Otis Regrets</th>\n",
              "      <td>0.936418</td>\n",
              "      <td>0.974755</td>\n",
              "      <td>0.960671</td>\n",
              "    </tr>\n",
              "    <tr>\n",
              "      <th>Too Young To Go Steady</th>\n",
              "      <td>0.916578</td>\n",
              "      <td>0.972306</td>\n",
              "      <td>0.960101</td>\n",
              "    </tr>\n",
              "    <tr>\n",
              "      <th>Beyond The Sea</th>\n",
              "      <td>0.932874</td>\n",
              "      <td>0.974755</td>\n",
              "      <td>0.958333</td>\n",
              "    </tr>\n",
              "    <tr>\n",
              "      <th>You Keep Coming Back Like A Song</th>\n",
              "      <td>0.933722</td>\n",
              "      <td>0.974755</td>\n",
              "      <td>0.957905</td>\n",
              "    </tr>\n",
              "    <tr>\n",
              "      <th>I'm Old Fashioned</th>\n",
              "      <td>0.913908</td>\n",
              "      <td>0.954669</td>\n",
              "      <td>0.957303</td>\n",
              "    </tr>\n",
              "    <tr>\n",
              "      <th>For You, For Me, For Evermore</th>\n",
              "      <td>0.932298</td>\n",
              "      <td>0.974755</td>\n",
              "      <td>0.956444</td>\n",
              "    </tr>\n",
              "    <tr>\n",
              "      <th>Wouldn't It Be Loverly</th>\n",
              "      <td>0.931818</td>\n",
              "      <td>0.974755</td>\n",
              "      <td>0.955951</td>\n",
              "    </tr>\n",
              "  </tbody>\n",
              "</table>\n",
              "</div>"
            ],
            "text/plain": [
              "                                     score       max  score_div_max\n",
              "similar_title                                                      \n",
              "Way You Look Tonight, The         0.966796  0.974755       1.000000\n",
              "I Loves You Porgy                 0.974755  0.974755       1.000000\n",
              "More Than You Know                0.916515  0.916515       1.000000\n",
              "It's Easy To Remember             0.951972  0.974755       0.997175\n",
              "Stairway To The Stars             0.942223  0.974755       0.986963\n",
              "Party's Over, The                 0.958709  0.974755       0.983539\n",
              "Rosetta                           0.895443  0.916515       0.977008\n",
              "They All Laughed                  0.950980  0.974755       0.975609\n",
              "And The Angels Sing               0.947678  0.974755       0.972222\n",
              "Let's Fall In Love                0.930484  0.974755       0.971464\n",
              "Bewitched                         0.942847  0.974755       0.970286\n",
              "Easy Street                       0.926302  0.954669       0.970286\n",
              "Among My Souvenirs                0.925820  0.954669       0.969782\n",
              "Why Do I Love You                 0.943702  0.974755       0.968143\n",
              "Folks Who Live On The Hill, The   0.942871  0.974755       0.967291\n",
              "If There Is Someone Lovelier      0.942082  0.974755       0.966482\n",
              "It's A Lovely Day Today           0.941636  0.974755       0.966024\n",
              "Manhattan                         0.920751  0.954669       0.964472\n",
              "Heart And Soul                    0.934199  0.974755       0.964457\n",
              "Danny Boy                         0.934685  0.974755       0.962888\n",
              "For Once In My Life               0.919239  0.954669       0.962888\n",
              "Taking A Chance On Love           0.919145  0.954669       0.962790\n",
              "I Gotta Right To Sing The Blues   0.918176  0.954669       0.961775\n",
              "Miss Otis Regrets                 0.936418  0.974755       0.960671\n",
              "Too Young To Go Steady            0.916578  0.972306       0.960101\n",
              "Beyond The Sea                    0.932874  0.974755       0.958333\n",
              "You Keep Coming Back Like A Song  0.933722  0.974755       0.957905\n",
              "I'm Old Fashioned                 0.913908  0.954669       0.957303\n",
              "For You, For Me, For Evermore     0.932298  0.974755       0.956444\n",
              "Wouldn't It Be Loverly            0.931818  0.974755       0.955951"
            ]
          },
          "metadata": {},
          "execution_count": 37
        }
      ]
    },
    {
      "cell_type": "markdown",
      "metadata": {
        "id": "rF_INicGhXKd"
      },
      "source": [
        "# Doc2Vec"
      ]
    },
    {
      "cell_type": "code",
      "metadata": {
        "id": "wflSccBshkIk"
      },
      "source": [
        "def get_tagged_documents(corpus):\n",
        "  for i, tokens in enumerate(corpus):\n",
        "    yield gensim.models.doc2vec.TaggedDocument(tokens, [i, f'titleid_{sectionid_to_titleid[i]}'])\n",
        "    yield gensim.models.doc2vec.TaggedDocument(tokens, [i])  # diatonic chord distance is a bit better"
      ],
      "execution_count": 38,
      "outputs": []
    },
    {
      "cell_type": "code",
      "metadata": {
        "colab": {
          "base_uri": "https://localhost:8080/"
        },
        "id": "_u0RdBI1kYD9",
        "outputId": "439a93f4-2345-4eab-fc71-082ff12dc95b"
      },
      "source": [
        "train_corpus = list(get_tagged_documents(processed_corpus))\n",
        "train_corpus[1000]"
      ],
      "execution_count": 39,
      "outputs": [
        {
          "output_type": "execute_result",
          "data": {
            "text/plain": [
              "TaggedDocument(words=['C', 'Am', 'Dm', 'G7', 'Em', 'Am', 'Dm', 'G7', 'Gm', 'C7', 'F', 'Bb7', 'Am', 'D7', 'Dm', 'G7'], tags=[500, 'titleid_160'])"
            ]
          },
          "metadata": {},
          "execution_count": 39
        }
      ]
    },
    {
      "cell_type": "code",
      "metadata": {
        "colab": {
          "base_uri": "https://localhost:8080/"
        },
        "id": "M9adPoy9reaw",
        "outputId": "a578fab5-d199-49c0-fe55-1d8de0e0689b"
      },
      "source": [
        "import multiprocessing\n",
        "\n",
        "common_kwargs = dict(\n",
        "    epochs=40, \n",
        "    min_count=1,\n",
        "    workers=multiprocessing.cpu_count(), \n",
        "    negative=10, \n",
        ")\n",
        "\n",
        "print(f\"CPU Count: {multiprocessing.cpu_count()}\")\n",
        "\n",
        "dm = 0 # PV-DBOW\n",
        "dm = 1 # PV-DM\n",
        "sample = 0.001  # huge influence; 0.001 is best for a high value in the similarity of diatonic chords of the Cmaj scale\n",
        "window = 2  # 2 is best for diatonic chords\n",
        "negative = 10 # 10 is best for diatonic chords\n",
        "\n",
        "model = gensim.models.doc2vec.Doc2Vec(train_corpus,\n",
        "                                      dm=1, \n",
        "                                      vector_size=100, \n",
        "                                      window=window, \n",
        "                                      epochs=40,\n",
        "                                      workers=1,\n",
        "                                      min_count=1,\n",
        "                                      negative=negative,\n",
        "                                      sample=sample,\n",
        "                                      seed=42,\n",
        "                                      )"
      ],
      "execution_count": 40,
      "outputs": [
        {
          "output_type": "stream",
          "name": "stderr",
          "text": [
            "2021-11-19 22:13:23,275 : INFO : collecting all words and their counts\n",
            "2021-11-19 22:13:23,278 : INFO : PROGRESS: at example #0, processed 0 words (0/s), 0 word types, 0 tags\n",
            "2021-11-19 22:13:23,326 : INFO : PROGRESS: at example #10000, processed 149208 words (3364535/s), 72 word types, 1619 tags\n",
            "2021-11-19 22:13:23,361 : INFO : collected 72 word types and 7215 unique tags from a corpus of 10806 examples and 165580 words\n",
            "2021-11-19 22:13:23,364 : INFO : Creating a fresh vocabulary\n",
            "2021-11-19 22:13:23,369 : INFO : Doc2Vec lifecycle event {'msg': 'effective_min_count=1 retains 72 unique words (100.0%% of original 72, drops 0)', 'datetime': '2021-11-19T22:13:23.369297', 'gensim': '4.1.2', 'python': '3.7.12 (default, Sep 10 2021, 00:21:48) \\n[GCC 7.5.0]', 'platform': 'Linux-5.4.104+-x86_64-with-Ubuntu-18.04-bionic', 'event': 'prepare_vocab'}\n",
            "2021-11-19 22:13:23,378 : INFO : Doc2Vec lifecycle event {'msg': 'effective_min_count=1 leaves 165580 word corpus (100.0%% of original 165580, drops 0)', 'datetime': '2021-11-19T22:13:23.378051', 'gensim': '4.1.2', 'python': '3.7.12 (default, Sep 10 2021, 00:21:48) \\n[GCC 7.5.0]', 'platform': 'Linux-5.4.104+-x86_64-with-Ubuntu-18.04-bionic', 'event': 'prepare_vocab'}\n",
            "2021-11-19 22:13:23,381 : INFO : deleting the raw counts dictionary of 72 items\n",
            "2021-11-19 22:13:23,383 : INFO : sample=0.001 downsamples 40 most-common words\n",
            "2021-11-19 22:13:23,385 : INFO : Doc2Vec lifecycle event {'msg': 'downsampling leaves estimated 37137.44705265598 word corpus (22.4%% of prior 165580)', 'datetime': '2021-11-19T22:13:23.385861', 'gensim': '4.1.2', 'python': '3.7.12 (default, Sep 10 2021, 00:21:48) \\n[GCC 7.5.0]', 'platform': 'Linux-5.4.104+-x86_64-with-Ubuntu-18.04-bionic', 'event': 'prepare_vocab'}\n",
            "2021-11-19 22:13:23,391 : INFO : estimated required memory for 72 words and 100 dimensions: 4422600 bytes\n",
            "2021-11-19 22:13:23,393 : INFO : resetting layer weights\n",
            "2021-11-19 22:13:23,402 : INFO : Doc2Vec lifecycle event {'msg': 'training model with 1 workers on 72 vocabulary and 100 features, using sg=0 hs=0 sample=0.001 negative=10 window=2 shrink_windows=True', 'datetime': '2021-11-19T22:13:23.402057', 'gensim': '4.1.2', 'python': '3.7.12 (default, Sep 10 2021, 00:21:48) \\n[GCC 7.5.0]', 'platform': 'Linux-5.4.104+-x86_64-with-Ubuntu-18.04-bionic', 'event': 'train'}\n"
          ]
        },
        {
          "output_type": "stream",
          "name": "stdout",
          "text": [
            "CPU Count: 2\n"
          ]
        },
        {
          "output_type": "stream",
          "name": "stderr",
          "text": [
            "2021-11-19 22:13:24,015 : INFO : worker thread finished; awaiting finish of 0 more threads\n",
            "2021-11-19 22:13:24,017 : INFO : EPOCH - 1 : training on 165580 raw words (53265 effective words) took 0.6s, 87938 effective words/s\n",
            "2021-11-19 22:13:24,649 : INFO : worker thread finished; awaiting finish of 0 more threads\n",
            "2021-11-19 22:13:24,651 : INFO : EPOCH - 2 : training on 165580 raw words (53222 effective words) took 0.6s, 85472 effective words/s\n",
            "2021-11-19 22:13:25,247 : INFO : worker thread finished; awaiting finish of 0 more threads\n",
            "2021-11-19 22:13:25,248 : INFO : EPOCH - 3 : training on 165580 raw words (53152 effective words) took 0.6s, 90207 effective words/s\n",
            "2021-11-19 22:13:25,864 : INFO : worker thread finished; awaiting finish of 0 more threads\n",
            "2021-11-19 22:13:25,866 : INFO : EPOCH - 4 : training on 165580 raw words (53217 effective words) took 0.6s, 88758 effective words/s\n",
            "2021-11-19 22:13:26,469 : INFO : worker thread finished; awaiting finish of 0 more threads\n",
            "2021-11-19 22:13:26,472 : INFO : EPOCH - 5 : training on 165580 raw words (53378 effective words) took 0.6s, 89311 effective words/s\n",
            "2021-11-19 22:13:27,057 : INFO : worker thread finished; awaiting finish of 0 more threads\n",
            "2021-11-19 22:13:27,060 : INFO : EPOCH - 6 : training on 165580 raw words (53190 effective words) took 0.6s, 91967 effective words/s\n",
            "2021-11-19 22:13:27,651 : INFO : worker thread finished; awaiting finish of 0 more threads\n",
            "2021-11-19 22:13:27,652 : INFO : EPOCH - 7 : training on 165580 raw words (53520 effective words) took 0.6s, 91706 effective words/s\n",
            "2021-11-19 22:13:28,235 : INFO : worker thread finished; awaiting finish of 0 more threads\n",
            "2021-11-19 22:13:28,239 : INFO : EPOCH - 8 : training on 165580 raw words (53351 effective words) took 0.6s, 92615 effective words/s\n",
            "2021-11-19 22:13:28,828 : INFO : worker thread finished; awaiting finish of 0 more threads\n",
            "2021-11-19 22:13:28,830 : INFO : EPOCH - 9 : training on 165580 raw words (53177 effective words) took 0.6s, 91180 effective words/s\n",
            "2021-11-19 22:13:29,423 : INFO : worker thread finished; awaiting finish of 0 more threads\n",
            "2021-11-19 22:13:29,426 : INFO : EPOCH - 10 : training on 165580 raw words (53382 effective words) took 0.6s, 92257 effective words/s\n",
            "2021-11-19 22:13:30,001 : INFO : worker thread finished; awaiting finish of 0 more threads\n",
            "2021-11-19 22:13:30,003 : INFO : EPOCH - 11 : training on 165580 raw words (53360 effective words) took 0.6s, 93848 effective words/s\n",
            "2021-11-19 22:13:30,603 : INFO : worker thread finished; awaiting finish of 0 more threads\n",
            "2021-11-19 22:13:30,605 : INFO : EPOCH - 12 : training on 165580 raw words (53651 effective words) took 0.6s, 90499 effective words/s\n",
            "2021-11-19 22:13:31,188 : INFO : worker thread finished; awaiting finish of 0 more threads\n",
            "2021-11-19 22:13:31,190 : INFO : EPOCH - 13 : training on 165580 raw words (53319 effective words) took 0.6s, 92536 effective words/s\n",
            "2021-11-19 22:13:31,781 : INFO : worker thread finished; awaiting finish of 0 more threads\n",
            "2021-11-19 22:13:31,783 : INFO : EPOCH - 14 : training on 165580 raw words (53283 effective words) took 0.6s, 91417 effective words/s\n",
            "2021-11-19 22:13:32,352 : INFO : worker thread finished; awaiting finish of 0 more threads\n",
            "2021-11-19 22:13:32,355 : INFO : EPOCH - 15 : training on 165580 raw words (53017 effective words) took 0.6s, 94306 effective words/s\n",
            "2021-11-19 22:13:32,939 : INFO : worker thread finished; awaiting finish of 0 more threads\n",
            "2021-11-19 22:13:32,941 : INFO : EPOCH - 16 : training on 165580 raw words (53319 effective words) took 0.6s, 92337 effective words/s\n",
            "2021-11-19 22:13:33,524 : INFO : worker thread finished; awaiting finish of 0 more threads\n",
            "2021-11-19 22:13:33,526 : INFO : EPOCH - 17 : training on 165580 raw words (53524 effective words) took 0.6s, 92955 effective words/s\n",
            "2021-11-19 22:13:34,125 : INFO : worker thread finished; awaiting finish of 0 more threads\n",
            "2021-11-19 22:13:34,127 : INFO : EPOCH - 18 : training on 165580 raw words (53350 effective words) took 0.6s, 91568 effective words/s\n",
            "2021-11-19 22:13:34,720 : INFO : worker thread finished; awaiting finish of 0 more threads\n",
            "2021-11-19 22:13:34,724 : INFO : EPOCH - 19 : training on 165580 raw words (53205 effective words) took 0.6s, 90732 effective words/s\n",
            "2021-11-19 22:13:35,291 : INFO : worker thread finished; awaiting finish of 0 more threads\n",
            "2021-11-19 22:13:35,293 : INFO : EPOCH - 20 : training on 165580 raw words (53550 effective words) took 0.6s, 95316 effective words/s\n",
            "2021-11-19 22:13:35,877 : INFO : worker thread finished; awaiting finish of 0 more threads\n",
            "2021-11-19 22:13:35,879 : INFO : EPOCH - 21 : training on 165580 raw words (53399 effective words) took 0.6s, 92831 effective words/s\n",
            "2021-11-19 22:13:36,453 : INFO : worker thread finished; awaiting finish of 0 more threads\n",
            "2021-11-19 22:13:36,454 : INFO : EPOCH - 22 : training on 165580 raw words (53303 effective words) took 0.6s, 94354 effective words/s\n",
            "2021-11-19 22:13:37,027 : INFO : worker thread finished; awaiting finish of 0 more threads\n",
            "2021-11-19 22:13:37,029 : INFO : EPOCH - 23 : training on 165580 raw words (53383 effective words) took 0.6s, 94670 effective words/s\n",
            "2021-11-19 22:13:37,595 : INFO : worker thread finished; awaiting finish of 0 more threads\n",
            "2021-11-19 22:13:37,599 : INFO : EPOCH - 24 : training on 165580 raw words (53480 effective words) took 0.6s, 95540 effective words/s\n",
            "2021-11-19 22:13:38,173 : INFO : worker thread finished; awaiting finish of 0 more threads\n",
            "2021-11-19 22:13:38,175 : INFO : EPOCH - 25 : training on 165580 raw words (53357 effective words) took 0.6s, 94524 effective words/s\n",
            "2021-11-19 22:13:38,753 : INFO : worker thread finished; awaiting finish of 0 more threads\n",
            "2021-11-19 22:13:38,755 : INFO : EPOCH - 26 : training on 165580 raw words (53098 effective words) took 0.6s, 93091 effective words/s\n",
            "2021-11-19 22:13:39,317 : INFO : worker thread finished; awaiting finish of 0 more threads\n",
            "2021-11-19 22:13:39,321 : INFO : EPOCH - 27 : training on 165580 raw words (53337 effective words) took 0.6s, 96064 effective words/s\n",
            "2021-11-19 22:13:39,877 : INFO : worker thread finished; awaiting finish of 0 more threads\n",
            "2021-11-19 22:13:39,879 : INFO : EPOCH - 28 : training on 165580 raw words (53549 effective words) took 0.6s, 97268 effective words/s\n",
            "2021-11-19 22:13:40,449 : INFO : worker thread finished; awaiting finish of 0 more threads\n",
            "2021-11-19 22:13:40,450 : INFO : EPOCH - 29 : training on 165580 raw words (53526 effective words) took 0.6s, 94934 effective words/s\n",
            "2021-11-19 22:13:41,045 : INFO : worker thread finished; awaiting finish of 0 more threads\n",
            "2021-11-19 22:13:41,047 : INFO : EPOCH - 30 : training on 165580 raw words (53543 effective words) took 0.6s, 91440 effective words/s\n",
            "2021-11-19 22:13:41,606 : INFO : worker thread finished; awaiting finish of 0 more threads\n",
            "2021-11-19 22:13:41,608 : INFO : EPOCH - 31 : training on 165580 raw words (53127 effective words) took 0.6s, 96428 effective words/s\n",
            "2021-11-19 22:13:42,176 : INFO : worker thread finished; awaiting finish of 0 more threads\n",
            "2021-11-19 22:13:42,178 : INFO : EPOCH - 32 : training on 165580 raw words (53164 effective words) took 0.6s, 94711 effective words/s\n",
            "2021-11-19 22:13:42,755 : INFO : worker thread finished; awaiting finish of 0 more threads\n",
            "2021-11-19 22:13:42,757 : INFO : EPOCH - 33 : training on 165580 raw words (53248 effective words) took 0.6s, 94391 effective words/s\n",
            "2021-11-19 22:13:43,340 : INFO : worker thread finished; awaiting finish of 0 more threads\n",
            "2021-11-19 22:13:43,345 : INFO : EPOCH - 34 : training on 165580 raw words (52951 effective words) took 0.6s, 91941 effective words/s\n",
            "2021-11-19 22:13:43,914 : INFO : worker thread finished; awaiting finish of 0 more threads\n",
            "2021-11-19 22:13:43,915 : INFO : EPOCH - 35 : training on 165580 raw words (53429 effective words) took 0.6s, 94825 effective words/s\n",
            "2021-11-19 22:13:44,501 : INFO : worker thread finished; awaiting finish of 0 more threads\n",
            "2021-11-19 22:13:44,502 : INFO : EPOCH - 36 : training on 165580 raw words (53420 effective words) took 0.6s, 92709 effective words/s\n",
            "2021-11-19 22:13:45,082 : INFO : worker thread finished; awaiting finish of 0 more threads\n",
            "2021-11-19 22:13:45,084 : INFO : EPOCH - 37 : training on 165580 raw words (53338 effective words) took 0.6s, 93315 effective words/s\n",
            "2021-11-19 22:13:45,669 : INFO : worker thread finished; awaiting finish of 0 more threads\n",
            "2021-11-19 22:13:45,672 : INFO : EPOCH - 38 : training on 165580 raw words (53376 effective words) took 0.6s, 92276 effective words/s\n",
            "2021-11-19 22:13:46,246 : INFO : worker thread finished; awaiting finish of 0 more threads\n",
            "2021-11-19 22:13:46,248 : INFO : EPOCH - 39 : training on 165580 raw words (52904 effective words) took 0.6s, 93229 effective words/s\n",
            "2021-11-19 22:13:46,828 : INFO : worker thread finished; awaiting finish of 0 more threads\n",
            "2021-11-19 22:13:46,830 : INFO : EPOCH - 40 : training on 165580 raw words (53329 effective words) took 0.6s, 92963 effective words/s\n",
            "2021-11-19 22:13:46,832 : INFO : Doc2Vec lifecycle event {'msg': 'training on 6623200 raw words (2132693 effective words) took 23.4s, 91037 effective words/s', 'datetime': '2021-11-19T22:13:46.832040', 'gensim': '4.1.2', 'python': '3.7.12 (default, Sep 10 2021, 00:21:48) \\n[GCC 7.5.0]', 'platform': 'Linux-5.4.104+-x86_64-with-Ubuntu-18.04-bionic', 'event': 'train'}\n",
            "2021-11-19 22:13:46,833 : INFO : Doc2Vec lifecycle event {'params': 'Doc2Vec(dm/m,d100,n10,w2,s0.001)', 'datetime': '2021-11-19T22:13:46.833871', 'gensim': '4.1.2', 'python': '3.7.12 (default, Sep 10 2021, 00:21:48) \\n[GCC 7.5.0]', 'platform': 'Linux-5.4.104+-x86_64-with-Ubuntu-18.04-bionic', 'event': 'created'}\n"
          ]
        }
      ]
    },
    {
      "cell_type": "markdown",
      "metadata": {
        "id": "jJvq2K93xAO5"
      },
      "source": [
        "### Test the distance between C and the diatonic chords\n",
        "\n",
        "Test if the model can capture that the diatonic chords are closer to the root.\n",
        "\n",
        "Do this only if the input corpus contains the unigrams. "
      ]
    },
    {
      "cell_type": "code",
      "metadata": {
        "colab": {
          "base_uri": "https://localhost:8080/"
        },
        "id": "cH3TJxCfvoFm",
        "outputId": "1e829806-2ebd-478e-d510-3ef670d1a0a8"
      },
      "source": [
        "test_tokens = ['C',\n",
        "              'Dm',\n",
        "              'Em',\n",
        "              'F',\n",
        "              'G7',\n",
        "              'Am',\n",
        "              'Bm7b5',\n",
        "              'F7',\n",
        "              'D7',\n",
        "              'A7',\n",
        "              'E7',\n",
        "              'B7',\n",
        "              'F#7',\n",
        "               'Cm',\n",
        "               'D']\n",
        "\n",
        "if 1 in ngrams_for_input:\n",
        "  ref = 'C'\n",
        "  for t in test_tokens:\n",
        "    print(f\"{model.wv.similarity(ref, t):.3f}: {ref} <-> {t}\")"
      ],
      "execution_count": 41,
      "outputs": [
        {
          "output_type": "stream",
          "name": "stdout",
          "text": [
            "1.000: C <-> C\n",
            "0.746: C <-> Dm\n",
            "0.594: C <-> Em\n",
            "0.578: C <-> F\n",
            "0.629: C <-> G7\n",
            "0.632: C <-> Am\n",
            "0.588: C <-> Bm7b5\n",
            "0.463: C <-> F7\n",
            "0.598: C <-> D7\n",
            "0.732: C <-> A7\n",
            "0.678: C <-> E7\n",
            "0.597: C <-> B7\n",
            "0.247: C <-> F#7\n",
            "0.449: C <-> Cm\n",
            "0.428: C <-> D\n"
          ]
        }
      ]
    },
    {
      "cell_type": "code",
      "metadata": {
        "id": "IfIRoWL4kpcB"
      },
      "source": [
        "if 1 in ngrams_for_input:\n",
        "  model.wv.similar_by_word('C', topn=20)"
      ],
      "execution_count": 42,
      "outputs": []
    },
    {
      "cell_type": "markdown",
      "metadata": {
        "id": "ix4n9S3_xQzD"
      },
      "source": [
        "Plot the generated word vectors in 2D space"
      ]
    },
    {
      "cell_type": "code",
      "metadata": {
        "colab": {
          "base_uri": "https://localhost:8080/",
          "height": 711
        },
        "id": "JjT_uNh0wthj",
        "outputId": "d1b250e1-c8ba-448e-8516-708dd9096176"
      },
      "source": [
        "from sklearn.manifold import TSNE\n",
        "\n",
        "# input data: vectors for all tokens\n",
        "weights = model.wv.vectors\n",
        "\n",
        "# only do this when the vocabulary is not too big....\n",
        "if len(weights) < 100:\n",
        "\n",
        "  # do T-SNE\n",
        "  tsne = TSNE(n_components=2, \n",
        "              random_state=42,\n",
        "              perplexity=30,\n",
        "              learning_rate='auto',\n",
        "              init='pca',\n",
        "              n_iter=2000\n",
        "              )\n",
        "  T = tsne.fit_transform(weights)\n",
        "\n",
        "  # plot\n",
        "  projected = pd.DataFrame(T)\n",
        "\n",
        "  fig = px.scatter(\n",
        "      projected, \n",
        "      x=0, y=1,\n",
        "      #color='mode',\n",
        "      text=model.wv.index_to_key,\n",
        "      width=800, height=600,\n",
        "      title=\"T-SNE applied to Chord Vectors for Tunes in Cmaj/Amin\"\n",
        "  )\n",
        "  fig.update_traces(textposition='top center')\n",
        "  fig.update_traces(textfont_size=12, selector=dict(type='scatter'))\n",
        "  fig.show()"
      ],
      "execution_count": 43,
      "outputs": [
        {
          "output_type": "stream",
          "name": "stderr",
          "text": [
            "/usr/local/lib/python3.7/dist-packages/sklearn/manifold/_t_sne.py:986: FutureWarning:\n",
            "\n",
            "The PCA initialization in TSNE will change to have the standard deviation of PC1 equal to 1e-4 in 1.2. This will ensure better convergence.\n",
            "\n"
          ]
        },
        {
          "output_type": "display_data",
          "data": {
            "text/html": [
              "<html>\n",
              "<head><meta charset=\"utf-8\" /></head>\n",
              "<body>\n",
              "    <div>\n",
              "            <script src=\"https://cdnjs.cloudflare.com/ajax/libs/mathjax/2.7.5/MathJax.js?config=TeX-AMS-MML_SVG\"></script><script type=\"text/javascript\">if (window.MathJax) {MathJax.Hub.Config({SVG: {font: \"STIX-Web\"}});}</script>\n",
              "                <script type=\"text/javascript\">window.PlotlyConfig = {MathJaxConfig: 'local'};</script>\n",
              "        <script src=\"https://cdn.plot.ly/plotly-latest.min.js\"></script>    \n",
              "            <div id=\"ff25c314-d82c-4bf2-a1de-b536e57dd7a7\" class=\"plotly-graph-div\" style=\"height:600px; width:800px;\"></div>\n",
              "            <script type=\"text/javascript\">\n",
              "                \n",
              "                    window.PLOTLYENV=window.PLOTLYENV || {};\n",
              "                    \n",
              "                if (document.getElementById(\"ff25c314-d82c-4bf2-a1de-b536e57dd7a7\")) {\n",
              "                    Plotly.newPlot(\n",
              "                        'ff25c314-d82c-4bf2-a1de-b536e57dd7a7',\n",
              "                        [{\"hoverlabel\": {\"namelength\": 0}, \"hovertemplate\": \"0=%{x}<br>1=%{y}<br>text=%{text}\", \"legendgroup\": \"\", \"marker\": {\"color\": \"#636efa\", \"symbol\": \"circle\"}, \"mode\": \"markers+text\", \"name\": \"\", \"showlegend\": false, \"text\": [\"C\", \"G7\", \"Dm\", \"Am\", \"A7\", \"D7\", \"F\", \"C7\", \"E7\", \"Em\", \"F7\", \"Bb7\", \"Fm\", \"B7\", \"Gm\", \"G#7\", \"Bm7b5\", \"G\", \"Ebdim\", \"Eb7\", \"Cm\", \"F#m7b5\", \"G#\", \"Bm\", \"C#7\", \"Bb\", \"Em7b5\", \"E\", \"F#m\", \"F#7\", \"Eb\", \"F#dim\", \"C#dim\", \"Ebm\", \"C#\", \"A\", \"Dm7b5\", \"Bbm\", \"D\", \"C#m\", \"Cdim\", \"B\", \"G#m\", \"F#\", \"G#dim\", \"Am7b5\", \"Fdim\", \"Gdim\", \"G7(+b5)\", \"C#m7b5\", \"E7(+b5)\", \"Adim\", \"F#7(+b5)\", \"Gm7b5\", \"A7(+b5)\", \"B7(+b5)\", \"Edim\", \"G#m7b5\", \"C#7(+b5)\", \"Bb7(+b5)\", \"Fm7b5\", \"D7(+b5)\", \"Bbdim\", \"Bbm7b5\", \"C7(+b5)\", \"Bdim\", \"Ddim\", \"Ebm7b5\", \"G#7(+b5)\", \"F7(+b5)\", \"Cm7b5\", \"Eb7(+b5)\"], \"textfont\": {\"size\": 12}, \"textposition\": \"top center\", \"type\": \"scatter\", \"x\": [-4.362611770629883, -4.1332926750183105, -4.018264293670654, -4.296170711517334, -4.465369701385498, -4.040106296539307, -4.020880699157715, -4.388420104980469, -4.711346626281738, -4.78780460357666, -4.168992042541504, -4.421543121337891, -4.283977508544922, -4.059448719024658, -4.6149444580078125, -3.5619935989379883, -4.313222408294678, -4.082512378692627, -3.113600492477417, -5.4752888679504395, -5.301987648010254, -5.019647121429443, -5.018642902374268, -3.8075826168060303, -4.892946243286133, -4.751346588134766, -3.239539623260498, -4.5772175788879395, -3.911653757095337, -5.683029651641846, -5.656022071838379, -4.194397449493408, -4.246756076812744, -4.894686222076416, -5.111361503601074, -4.551064968109131, -3.656508445739746, -5.437687873840332, -4.594053268432617, -6.340364933013916, -4.0243449211120605, -4.402787685394287, -4.968337059020996, -6.030900478363037, -3.749478578567505, -2.963193893432617, -2.9218733310699463, -2.8799614906311035, -1.4001786708831787, -3.4921350479125977, -1.8206731081008911, -5.1125874519348145, -2.8220458030700684, -5.557826995849609, -1.7503840923309326, -2.0978469848632812, -3.476313352584839, -3.9010329246520996, -1.8731149435043335, -1.6252496242523193, -5.857386589050293, -2.041288375854492, -5.491980075836182, -3.1234054565429688, -1.7362889051437378, -5.53906774520874, -4.33626651763916, -2.160238742828369, -1.9577748775482178, -2.7132656574249268, -6.340374946594238, -2.949859142303467], \"xaxis\": \"x\", \"y\": [2.17197847366333, 2.209778070449829, 2.15348219871521, 2.1979024410247803, 2.2387020587921143, 2.1888062953948975, 2.165062427520752, 2.161160469055176, 2.1333465576171875, 2.0886130332946777, 2.4788968563079834, 2.4346728324890137, 2.1700801849365234, 2.8766372203826904, 2.137831926345825, 2.105355978012085, 2.217923164367676, 2.9915144443511963, 2.2958295345306396, 2.914553642272949, 2.891202211380005, 1.5730243921279907, 3.4180614948272705, 3.435407876968384, 3.7133779525756836, 3.031081438064575, 1.7209582328796387, 4.265109539031982, 3.644909143447876, 1.8903931379318237, 2.807786703109741, 1.4895144701004028, 1.383221983909607, 3.3547332286834717, 3.3153862953186035, 3.4083516597747803, 1.7589372396469116, 2.5644307136535645, 3.2511465549468994, 2.405611276626587, 1.0565202236175537, 4.582516193389893, 4.4907546043396, 3.374467372894287, 1.105657935142517, 2.6269266605377197, 2.125868320465088, 3.0668084621429443, 1.4591333866119385, 3.9720444679260254, 1.6115466356277466, 0.17306208610534668, 0.604938805103302, 4.185449600219727, 2.511211633682251, 3.6436257362365723, 0.5925653576850891, 4.886514663696289, 3.780378580093384, 1.7234166860580444, 4.588052749633789, 1.2436554431915283, 0.6839731931686401, 5.123192310333252, 1.6980724334716797, 0.8609412312507629, 0.23406252264976501, 4.121506690979004, 3.535304307937622, 4.807175159454346, 3.8707025051116943, 4.703593730926514], \"yaxis\": \"y\"}],\n",
              "                        {\"height\": 600, \"legend\": {\"tracegroupgap\": 0}, \"template\": {\"data\": {\"bar\": [{\"error_x\": {\"color\": \"#2a3f5f\"}, \"error_y\": {\"color\": \"#2a3f5f\"}, \"marker\": {\"line\": {\"color\": \"#E5ECF6\", \"width\": 0.5}}, \"type\": \"bar\"}], \"barpolar\": [{\"marker\": {\"line\": {\"color\": \"#E5ECF6\", \"width\": 0.5}}, \"type\": \"barpolar\"}], \"carpet\": [{\"aaxis\": {\"endlinecolor\": \"#2a3f5f\", \"gridcolor\": \"white\", \"linecolor\": \"white\", \"minorgridcolor\": \"white\", \"startlinecolor\": \"#2a3f5f\"}, \"baxis\": {\"endlinecolor\": \"#2a3f5f\", \"gridcolor\": \"white\", \"linecolor\": \"white\", \"minorgridcolor\": \"white\", \"startlinecolor\": \"#2a3f5f\"}, \"type\": \"carpet\"}], \"choropleth\": [{\"colorbar\": {\"outlinewidth\": 0, \"ticks\": \"\"}, \"type\": \"choropleth\"}], \"contour\": [{\"colorbar\": {\"outlinewidth\": 0, \"ticks\": \"\"}, \"colorscale\": [[0.0, \"#0d0887\"], [0.1111111111111111, \"#46039f\"], [0.2222222222222222, \"#7201a8\"], [0.3333333333333333, \"#9c179e\"], [0.4444444444444444, \"#bd3786\"], [0.5555555555555556, \"#d8576b\"], [0.6666666666666666, \"#ed7953\"], [0.7777777777777778, \"#fb9f3a\"], [0.8888888888888888, \"#fdca26\"], [1.0, \"#f0f921\"]], \"type\": \"contour\"}], \"contourcarpet\": [{\"colorbar\": {\"outlinewidth\": 0, \"ticks\": \"\"}, \"type\": \"contourcarpet\"}], \"heatmap\": [{\"colorbar\": {\"outlinewidth\": 0, \"ticks\": \"\"}, \"colorscale\": [[0.0, \"#0d0887\"], [0.1111111111111111, \"#46039f\"], [0.2222222222222222, \"#7201a8\"], [0.3333333333333333, \"#9c179e\"], [0.4444444444444444, \"#bd3786\"], [0.5555555555555556, \"#d8576b\"], [0.6666666666666666, \"#ed7953\"], [0.7777777777777778, \"#fb9f3a\"], [0.8888888888888888, \"#fdca26\"], [1.0, \"#f0f921\"]], \"type\": \"heatmap\"}], \"heatmapgl\": [{\"colorbar\": {\"outlinewidth\": 0, \"ticks\": \"\"}, \"colorscale\": [[0.0, \"#0d0887\"], [0.1111111111111111, \"#46039f\"], [0.2222222222222222, \"#7201a8\"], [0.3333333333333333, \"#9c179e\"], [0.4444444444444444, \"#bd3786\"], [0.5555555555555556, \"#d8576b\"], [0.6666666666666666, \"#ed7953\"], [0.7777777777777778, \"#fb9f3a\"], [0.8888888888888888, \"#fdca26\"], [1.0, \"#f0f921\"]], \"type\": \"heatmapgl\"}], \"histogram\": [{\"marker\": {\"colorbar\": {\"outlinewidth\": 0, \"ticks\": \"\"}}, \"type\": \"histogram\"}], \"histogram2d\": [{\"colorbar\": {\"outlinewidth\": 0, \"ticks\": \"\"}, \"colorscale\": [[0.0, \"#0d0887\"], [0.1111111111111111, \"#46039f\"], [0.2222222222222222, \"#7201a8\"], [0.3333333333333333, \"#9c179e\"], [0.4444444444444444, \"#bd3786\"], [0.5555555555555556, \"#d8576b\"], [0.6666666666666666, \"#ed7953\"], [0.7777777777777778, \"#fb9f3a\"], [0.8888888888888888, \"#fdca26\"], [1.0, \"#f0f921\"]], \"type\": \"histogram2d\"}], \"histogram2dcontour\": [{\"colorbar\": {\"outlinewidth\": 0, \"ticks\": \"\"}, \"colorscale\": [[0.0, \"#0d0887\"], [0.1111111111111111, \"#46039f\"], [0.2222222222222222, \"#7201a8\"], [0.3333333333333333, \"#9c179e\"], [0.4444444444444444, \"#bd3786\"], [0.5555555555555556, \"#d8576b\"], [0.6666666666666666, \"#ed7953\"], [0.7777777777777778, \"#fb9f3a\"], [0.8888888888888888, \"#fdca26\"], [1.0, \"#f0f921\"]], \"type\": \"histogram2dcontour\"}], \"mesh3d\": [{\"colorbar\": {\"outlinewidth\": 0, \"ticks\": \"\"}, \"type\": \"mesh3d\"}], \"parcoords\": [{\"line\": {\"colorbar\": {\"outlinewidth\": 0, \"ticks\": \"\"}}, \"type\": \"parcoords\"}], \"pie\": [{\"automargin\": true, \"type\": \"pie\"}], \"scatter\": [{\"marker\": {\"colorbar\": {\"outlinewidth\": 0, \"ticks\": \"\"}}, \"type\": \"scatter\"}], \"scatter3d\": [{\"line\": {\"colorbar\": {\"outlinewidth\": 0, \"ticks\": \"\"}}, \"marker\": {\"colorbar\": {\"outlinewidth\": 0, \"ticks\": \"\"}}, \"type\": \"scatter3d\"}], \"scattercarpet\": [{\"marker\": {\"colorbar\": {\"outlinewidth\": 0, \"ticks\": \"\"}}, \"type\": \"scattercarpet\"}], \"scattergeo\": [{\"marker\": {\"colorbar\": {\"outlinewidth\": 0, \"ticks\": \"\"}}, \"type\": \"scattergeo\"}], \"scattergl\": [{\"marker\": {\"colorbar\": {\"outlinewidth\": 0, \"ticks\": \"\"}}, \"type\": \"scattergl\"}], \"scattermapbox\": [{\"marker\": {\"colorbar\": {\"outlinewidth\": 0, \"ticks\": \"\"}}, \"type\": \"scattermapbox\"}], \"scatterpolar\": [{\"marker\": {\"colorbar\": {\"outlinewidth\": 0, \"ticks\": \"\"}}, \"type\": \"scatterpolar\"}], \"scatterpolargl\": [{\"marker\": {\"colorbar\": {\"outlinewidth\": 0, \"ticks\": \"\"}}, \"type\": \"scatterpolargl\"}], \"scatterternary\": [{\"marker\": {\"colorbar\": {\"outlinewidth\": 0, \"ticks\": \"\"}}, \"type\": \"scatterternary\"}], \"surface\": [{\"colorbar\": {\"outlinewidth\": 0, \"ticks\": \"\"}, \"colorscale\": [[0.0, \"#0d0887\"], [0.1111111111111111, \"#46039f\"], [0.2222222222222222, \"#7201a8\"], [0.3333333333333333, \"#9c179e\"], [0.4444444444444444, \"#bd3786\"], [0.5555555555555556, \"#d8576b\"], [0.6666666666666666, \"#ed7953\"], [0.7777777777777778, \"#fb9f3a\"], [0.8888888888888888, \"#fdca26\"], [1.0, \"#f0f921\"]], \"type\": \"surface\"}], \"table\": [{\"cells\": {\"fill\": {\"color\": \"#EBF0F8\"}, \"line\": {\"color\": \"white\"}}, \"header\": {\"fill\": {\"color\": \"#C8D4E3\"}, \"line\": {\"color\": \"white\"}}, \"type\": \"table\"}]}, \"layout\": {\"annotationdefaults\": {\"arrowcolor\": \"#2a3f5f\", \"arrowhead\": 0, \"arrowwidth\": 1}, \"coloraxis\": {\"colorbar\": {\"outlinewidth\": 0, \"ticks\": \"\"}}, \"colorscale\": {\"diverging\": [[0, \"#8e0152\"], [0.1, \"#c51b7d\"], [0.2, \"#de77ae\"], [0.3, \"#f1b6da\"], [0.4, \"#fde0ef\"], [0.5, \"#f7f7f7\"], [0.6, \"#e6f5d0\"], [0.7, \"#b8e186\"], [0.8, \"#7fbc41\"], [0.9, \"#4d9221\"], [1, \"#276419\"]], \"sequential\": [[0.0, \"#0d0887\"], [0.1111111111111111, \"#46039f\"], [0.2222222222222222, \"#7201a8\"], [0.3333333333333333, \"#9c179e\"], [0.4444444444444444, \"#bd3786\"], [0.5555555555555556, \"#d8576b\"], [0.6666666666666666, \"#ed7953\"], [0.7777777777777778, \"#fb9f3a\"], [0.8888888888888888, \"#fdca26\"], [1.0, \"#f0f921\"]], \"sequentialminus\": [[0.0, \"#0d0887\"], [0.1111111111111111, \"#46039f\"], [0.2222222222222222, \"#7201a8\"], [0.3333333333333333, \"#9c179e\"], [0.4444444444444444, \"#bd3786\"], [0.5555555555555556, \"#d8576b\"], [0.6666666666666666, \"#ed7953\"], [0.7777777777777778, \"#fb9f3a\"], [0.8888888888888888, \"#fdca26\"], [1.0, \"#f0f921\"]]}, \"colorway\": [\"#636efa\", \"#EF553B\", \"#00cc96\", \"#ab63fa\", \"#FFA15A\", \"#19d3f3\", \"#FF6692\", \"#B6E880\", \"#FF97FF\", \"#FECB52\"], \"font\": {\"color\": \"#2a3f5f\"}, \"geo\": {\"bgcolor\": \"white\", \"lakecolor\": \"white\", \"landcolor\": \"#E5ECF6\", \"showlakes\": true, \"showland\": true, \"subunitcolor\": \"white\"}, \"hoverlabel\": {\"align\": \"left\"}, \"hovermode\": \"closest\", \"mapbox\": {\"style\": \"light\"}, \"paper_bgcolor\": \"white\", \"plot_bgcolor\": \"#E5ECF6\", \"polar\": {\"angularaxis\": {\"gridcolor\": \"white\", \"linecolor\": \"white\", \"ticks\": \"\"}, \"bgcolor\": \"#E5ECF6\", \"radialaxis\": {\"gridcolor\": \"white\", \"linecolor\": \"white\", \"ticks\": \"\"}}, \"scene\": {\"xaxis\": {\"backgroundcolor\": \"#E5ECF6\", \"gridcolor\": \"white\", \"gridwidth\": 2, \"linecolor\": \"white\", \"showbackground\": true, \"ticks\": \"\", \"zerolinecolor\": \"white\"}, \"yaxis\": {\"backgroundcolor\": \"#E5ECF6\", \"gridcolor\": \"white\", \"gridwidth\": 2, \"linecolor\": \"white\", \"showbackground\": true, \"ticks\": \"\", \"zerolinecolor\": \"white\"}, \"zaxis\": {\"backgroundcolor\": \"#E5ECF6\", \"gridcolor\": \"white\", \"gridwidth\": 2, \"linecolor\": \"white\", \"showbackground\": true, \"ticks\": \"\", \"zerolinecolor\": \"white\"}}, \"shapedefaults\": {\"line\": {\"color\": \"#2a3f5f\"}}, \"ternary\": {\"aaxis\": {\"gridcolor\": \"white\", \"linecolor\": \"white\", \"ticks\": \"\"}, \"baxis\": {\"gridcolor\": \"white\", \"linecolor\": \"white\", \"ticks\": \"\"}, \"bgcolor\": \"#E5ECF6\", \"caxis\": {\"gridcolor\": \"white\", \"linecolor\": \"white\", \"ticks\": \"\"}}, \"title\": {\"x\": 0.05}, \"xaxis\": {\"automargin\": true, \"gridcolor\": \"white\", \"linecolor\": \"white\", \"ticks\": \"\", \"title\": {\"standoff\": 15}, \"zerolinecolor\": \"white\", \"zerolinewidth\": 2}, \"yaxis\": {\"automargin\": true, \"gridcolor\": \"white\", \"linecolor\": \"white\", \"ticks\": \"\", \"title\": {\"standoff\": 15}, \"zerolinecolor\": \"white\", \"zerolinewidth\": 2}}}, \"title\": {\"text\": \"T-SNE applied to Chord Vectors for Tunes in Cmaj/Amin\"}, \"width\": 800, \"xaxis\": {\"anchor\": \"y\", \"domain\": [0.0, 1.0], \"title\": {\"text\": \"0\"}}, \"yaxis\": {\"anchor\": \"x\", \"domain\": [0.0, 1.0], \"title\": {\"text\": \"1\"}}},\n",
              "                        {\"responsive\": true}\n",
              "                    ).then(function(){\n",
              "                            \n",
              "var gd = document.getElementById('ff25c314-d82c-4bf2-a1de-b536e57dd7a7');\n",
              "var x = new MutationObserver(function (mutations, observer) {{\n",
              "        var display = window.getComputedStyle(gd).display;\n",
              "        if (!display || display === 'none') {{\n",
              "            console.log([gd, 'removed!']);\n",
              "            Plotly.purge(gd);\n",
              "            observer.disconnect();\n",
              "        }}\n",
              "}});\n",
              "\n",
              "// Listen for the removal of the full notebook cells\n",
              "var notebookContainer = gd.closest('#notebook-container');\n",
              "if (notebookContainer) {{\n",
              "    x.observe(notebookContainer, {childList: true});\n",
              "}}\n",
              "\n",
              "// Listen for the clearing of the current output cell\n",
              "var outputEl = gd.closest('.output');\n",
              "if (outputEl) {{\n",
              "    x.observe(outputEl, {childList: true});\n",
              "}}\n",
              "\n",
              "                        })\n",
              "                };\n",
              "                \n",
              "            </script>\n",
              "        </div>\n",
              "</body>\n",
              "</html>"
            ]
          },
          "metadata": {}
        }
      ]
    },
    {
      "cell_type": "markdown",
      "metadata": {
        "id": "PzabYlA89QpY"
      },
      "source": [
        "### Test for single tunes"
      ]
    },
    {
      "cell_type": "code",
      "metadata": {
        "colab": {
          "base_uri": "https://localhost:8080/"
        },
        "id": "wYI6NZimAn6a",
        "outputId": "a44c7fa5-39ad-4a47-e087-22cd5dfa2239"
      },
      "source": [
        "len(sectionid_to_section)"
      ],
      "execution_count": 44,
      "outputs": [
        {
          "output_type": "execute_result",
          "data": {
            "text/plain": [
              "5403"
            ]
          },
          "metadata": {},
          "execution_count": 44
        }
      ]
    },
    {
      "cell_type": "code",
      "metadata": {
        "colab": {
          "base_uri": "https://localhost:8080/"
        },
        "id": "8ho0HdILB4zq",
        "outputId": "b64f65de-5577-4cee-869b-9514840aabcb"
      },
      "source": [
        "len(model.dv)"
      ],
      "execution_count": 45,
      "outputs": [
        {
          "output_type": "execute_result",
          "data": {
            "text/plain": [
              "7215"
            ]
          },
          "metadata": {},
          "execution_count": 45
        }
      ]
    },
    {
      "cell_type": "code",
      "metadata": {
        "colab": {
          "base_uri": "https://localhost:8080/"
        },
        "id": "5Z2jZALS-7et",
        "outputId": "812384aa-6486-4bd5-fff6-b542120252fc"
      },
      "source": [
        "title_to_sectionid['These Foolish Things']"
      ],
      "execution_count": 46,
      "outputs": [
        {
          "output_type": "execute_result",
          "data": {
            "text/plain": [
              "[3866, 3867, 3868, 3869]"
            ]
          },
          "metadata": {},
          "execution_count": 46
        }
      ]
    },
    {
      "cell_type": "code",
      "metadata": {
        "id": "Y1GQemnx_jYJ"
      },
      "source": [
        "section_key = 3868"
      ],
      "execution_count": 47,
      "outputs": []
    },
    {
      "cell_type": "code",
      "metadata": {
        "colab": {
          "base_uri": "https://localhost:8080/"
        },
        "id": "ac5NyHbS-_2l",
        "outputId": "906a9de7-9cf0-4319-db5a-60511eb7f53b"
      },
      "source": [
        "model.dv.similar_by_key(section_key, topn=20)"
      ],
      "execution_count": 48,
      "outputs": [
        {
          "output_type": "execute_result",
          "data": {
            "text/plain": [
              "[(1889, 0.8104585409164429),\n",
              " (2760, 0.7966096997261047),\n",
              " (1166, 0.7420021891593933),\n",
              " (1283, 0.7402357459068298),\n",
              " (1511, 0.7371323108673096),\n",
              " (5136, 0.7291520237922668),\n",
              " (3296, 0.7258016467094421),\n",
              " (3595, 0.7229234576225281),\n",
              " (5316, 0.7193516492843628),\n",
              " ('titleid_1170', 0.710716962814331),\n",
              " (5011, 0.7084869146347046),\n",
              " (1514, 0.7073755860328674),\n",
              " (1906, 0.7019268870353699),\n",
              " ('titleid_464', 0.699430525302887),\n",
              " (51, 0.6843920946121216),\n",
              " (311, 0.6798987984657288),\n",
              " (4799, 0.6794383525848389),\n",
              " (3875, 0.6720521450042725),\n",
              " (3234, 0.6661337614059448),\n",
              " ('titleid_1244', 0.665622889995575)]"
            ]
          },
          "metadata": {},
          "execution_count": 48
        }
      ]
    },
    {
      "cell_type": "code",
      "metadata": {
        "colab": {
          "base_uri": "https://localhost:8080/",
          "height": 36
        },
        "id": "7rMyQRbdB_Iv",
        "outputId": "889072c2-3763-46ba-bd0b-747da9eb095f"
      },
      "source": [
        "sectionid_to_section[1889]"
      ],
      "execution_count": 49,
      "outputs": [
        {
          "output_type": "execute_result",
          "data": {
            "application/vnd.google.colaboratory.intrinsic+json": {
              "type": "string"
            },
            "text/plain": [
              "\"I've Told Eve'ry Little Star, section3 (B)\""
            ]
          },
          "metadata": {},
          "execution_count": 49
        }
      ]
    },
    {
      "cell_type": "code",
      "metadata": {
        "colab": {
          "base_uri": "https://localhost:8080/",
          "height": 175
        },
        "id": "BfUVTfdKB9sZ",
        "outputId": "8a721e44-3a6e-42b6-e8b4-7b76d245fe04"
      },
      "source": [
        "titles.query('title == \"These Foolish Things\"')"
      ],
      "execution_count": 50,
      "outputs": [
        {
          "output_type": "execute_result",
          "data": {
            "text/html": [
              "<div>\n",
              "<style scoped>\n",
              "    .dataframe tbody tr th:only-of-type {\n",
              "        vertical-align: middle;\n",
              "    }\n",
              "\n",
              "    .dataframe tbody tr th {\n",
              "        vertical-align: top;\n",
              "    }\n",
              "\n",
              "    .dataframe thead th {\n",
              "        text-align: right;\n",
              "    }\n",
              "</style>\n",
              "<table border=\"1\" class=\"dataframe\">\n",
              "  <thead>\n",
              "    <tr style=\"text-align: right;\">\n",
              "      <th></th>\n",
              "      <th>id</th>\n",
              "      <th>tune_id</th>\n",
              "      <th>section_id</th>\n",
              "      <th>section_name</th>\n",
              "      <th>title</th>\n",
              "      <th>tune_mode</th>\n",
              "    </tr>\n",
              "  </thead>\n",
              "  <tbody>\n",
              "    <tr>\n",
              "      <th>3866</th>\n",
              "      <td>3866</td>\n",
              "      <td>1170</td>\n",
              "      <td>1</td>\n",
              "      <td>A</td>\n",
              "      <td>These Foolish Things</td>\n",
              "      <td>major</td>\n",
              "    </tr>\n",
              "    <tr>\n",
              "      <th>3867</th>\n",
              "      <td>3867</td>\n",
              "      <td>1170</td>\n",
              "      <td>2</td>\n",
              "      <td>A</td>\n",
              "      <td>These Foolish Things</td>\n",
              "      <td>major</td>\n",
              "    </tr>\n",
              "    <tr>\n",
              "      <th>3868</th>\n",
              "      <td>3868</td>\n",
              "      <td>1170</td>\n",
              "      <td>3</td>\n",
              "      <td>B</td>\n",
              "      <td>These Foolish Things</td>\n",
              "      <td>major</td>\n",
              "    </tr>\n",
              "    <tr>\n",
              "      <th>3869</th>\n",
              "      <td>3869</td>\n",
              "      <td>1170</td>\n",
              "      <td>4</td>\n",
              "      <td>A</td>\n",
              "      <td>These Foolish Things</td>\n",
              "      <td>major</td>\n",
              "    </tr>\n",
              "  </tbody>\n",
              "</table>\n",
              "</div>"
            ],
            "text/plain": [
              "        id  tune_id  section_id section_name                 title tune_mode\n",
              "3866  3866     1170           1            A  These Foolish Things     major\n",
              "3867  3867     1170           2            A  These Foolish Things     major\n",
              "3868  3868     1170           3            B  These Foolish Things     major\n",
              "3869  3869     1170           4            A  These Foolish Things     major"
            ]
          },
          "metadata": {},
          "execution_count": 50
        }
      ]
    },
    {
      "cell_type": "code",
      "metadata": {
        "id": "vYKXvxxbBeIe"
      },
      "source": [
        "tune_key = 'titleid_1170'"
      ],
      "execution_count": 51,
      "outputs": []
    },
    {
      "cell_type": "code",
      "metadata": {
        "colab": {
          "base_uri": "https://localhost:8080/"
        },
        "id": "wfmnL7QrCFhz",
        "outputId": "0c00236b-64a5-4bd3-c8b7-3e871cb57d4c"
      },
      "source": [
        "model.dv.similar_by_key(tune_key, topn=20)"
      ],
      "execution_count": 52,
      "outputs": [
        {
          "output_type": "execute_result",
          "data": {
            "text/plain": [
              "[('titleid_616', 0.7653118968009949),\n",
              " (3867, 0.7396513819694519),\n",
              " ('titleid_520', 0.7178188562393188),\n",
              " (1889, 0.7116326689720154),\n",
              " (3868, 0.7107169032096863),\n",
              " (1698, 0.6806668043136597),\n",
              " ('titleid_1240', 0.6595369577407837),\n",
              " (2031, 0.6540782451629639),\n",
              " (1511, 0.6465381383895874),\n",
              " (2033, 0.6448988318443298),\n",
              " ('titleid_521', 0.6437559723854065),\n",
              " ('titleid_1334', 0.6411613821983337),\n",
              " (311, 0.6371945142745972),\n",
              " (1166, 0.6207894086837769),\n",
              " ('titleid_164', 0.6198546886444092),\n",
              " ('titleid_1517', 0.6185333132743835),\n",
              " (4347, 0.6144623160362244),\n",
              " (1514, 0.6139699220657349),\n",
              " (3796, 0.613869845867157),\n",
              " (3282, 0.6052935123443604)]"
            ]
          },
          "metadata": {},
          "execution_count": 52
        }
      ]
    },
    {
      "cell_type": "code",
      "metadata": {
        "colab": {
          "base_uri": "https://localhost:8080/"
        },
        "id": "Cp0brM80CSK2",
        "outputId": "84948b0d-8864-43d4-cc4b-150629d16fd7"
      },
      "source": [
        "titles.iloc[755]"
      ],
      "execution_count": 53,
      "outputs": [
        {
          "output_type": "execute_result",
          "data": {
            "text/plain": [
              "id                                           755\n",
              "tune_id                                      234\n",
              "section_id                                     5\n",
              "section_name                                   D\n",
              "title           Chega De Saudade (No More Blues)\n",
              "tune_mode                                  minor\n",
              "Name: 755, dtype: object"
            ]
          },
          "metadata": {},
          "execution_count": 53
        }
      ]
    },
    {
      "cell_type": "markdown",
      "metadata": {
        "id": "ajqb904KDwNV"
      },
      "source": [
        "#### Section Similarity\n"
      ]
    },
    {
      "cell_type": "code",
      "metadata": {
        "id": "mPnEPL_k4TZn"
      },
      "source": [
        "def get_section_scores_doc2vec(tunes):\n",
        "\n",
        "    df_sim = pd.DataFrame(columns=['reference_title',\n",
        "                                  'similar_title',\n",
        "                                  'ref_section', \n",
        "                                  'similar_section', \n",
        "                                  'score', \n",
        "                                  ])\n",
        "\n",
        "    for tune in tunes:\n",
        "      print()\n",
        "      print(\"-\"*50)\n",
        "      for s1 in title_to_sectionid[tune]:\n",
        "      \n",
        "          # sections are tagged with the numeric sectionid and can be used for querying\n",
        "          sims = model.dv.similar_by_key(s1, topn=40)\n",
        "          \n",
        "          print(s1, sectionid_to_section[s1])\n",
        "          n = 0\n",
        "          for s2, s2_score in sims:\n",
        "              if type(s2) == int:  # only consider similarities to sectionids; tuneids are strings\n",
        "                  # don't count self-similarity between sections of the same tune\n",
        "                  if s2 not in title_to_sectionid[tune]:\n",
        "                      n += 1\n",
        "                  \n",
        "                      # print(f\"\\t{s2_score:.3f} {sectionid_to_section[s2]}\")\n",
        "\n",
        "                      df_sim.loc[len(df_sim)] = [tune,\n",
        "                                      sectionid_to_title[s2],\n",
        "                                      sectionid_to_section[s1], \n",
        "                                      sectionid_to_section[s2], \n",
        "                                      s2_score, \n",
        "                                      ]\n",
        "    return df_sim"
      ],
      "execution_count": 54,
      "outputs": []
    },
    {
      "cell_type": "code",
      "metadata": {
        "colab": {
          "base_uri": "https://localhost:8080/"
        },
        "id": "i_d92il649O9",
        "outputId": "915c3c2e-972c-4626-8594-0f3099ca821b"
      },
      "source": [
        "df_section_sim = get_section_scores_doc2vec(tunes_eval_list)"
      ],
      "execution_count": 55,
      "outputs": [
        {
          "output_type": "stream",
          "name": "stdout",
          "text": [
            "\n",
            "--------------------------------------------------\n",
            "3752 Sweet Sue, Just You, section1 (A)\n",
            "3753 Sweet Sue, Just You, section2 (A)\n",
            "3754 Sweet Sue, Just You, section3 (B)\n",
            "3755 Sweet Sue, Just You, section4 (A)\n",
            "\n",
            "--------------------------------------------------\n",
            "3866 These Foolish Things, section1 (A)\n",
            "3867 These Foolish Things, section2 (A)\n",
            "3868 These Foolish Things, section3 (B)\n",
            "3869 These Foolish Things, section4 (A)\n",
            "\n",
            "--------------------------------------------------\n",
            "496 Blue Moon, section1 (A)\n",
            "497 Blue Moon, section2 (A)\n",
            "498 Blue Moon, section3 (B)\n",
            "499 Blue Moon, section4 (A)\n",
            "\n",
            "--------------------------------------------------\n",
            "198 All Of Me, section1 (A)\n",
            "199 All Of Me, section2 (B)\n",
            "200 All Of Me, section3 (A)\n",
            "201 All Of Me, section4 (C)\n",
            "\n",
            "--------------------------------------------------\n",
            "188 All God's Chillun Got Rhythm, section1 (A)\n",
            "189 All God's Chillun Got Rhythm, section2 (B)\n",
            "190 All God's Chillun Got Rhythm, section3 (A)\n",
            "191 All God's Chillun Got Rhythm, section4 (C)\n",
            "\n",
            "--------------------------------------------------\n",
            "1647 I Got Rhythm, section1 (A)\n",
            "1648 I Got Rhythm, section2 (A)\n",
            "1649 I Got Rhythm, section3 (B)\n",
            "1650 I Got Rhythm, section4 (A)\n",
            "4821 I Got Rhythm, section1 (A)\n",
            "4822 I Got Rhythm, section2 (A)\n",
            "4823 I Got Rhythm, section3 (B)\n",
            "4824 I Got Rhythm, section4 (A)\n",
            "\n",
            "--------------------------------------------------\n",
            "653 Bye Bye Blackbird, section1 (A)\n",
            "654 Bye Bye Blackbird, section2 (B)\n",
            "4569 Bye Bye Blackbird, section1 (A)\n",
            "4570 Bye Bye Blackbird, section2 (B)\n",
            "4571 Bye Bye Blackbird, section3 (C)\n",
            "\n",
            "--------------------------------------------------\n",
            "5056 Old Fashioned Love, section0 (nan)\n",
            "\n",
            "--------------------------------------------------\n",
            "997 Dinah, section1 (A)\n",
            "998 Dinah, section2 (A)\n",
            "999 Dinah, section3 (B)\n",
            "1000 Dinah, section4 (A)\n",
            "\n",
            "--------------------------------------------------\n",
            "1538 Honeysuckle Rose, section1 (A)\n",
            "1539 Honeysuckle Rose, section2 (A)\n",
            "1540 Honeysuckle Rose, section3 (B)\n",
            "1541 Honeysuckle Rose, section4 (A)\n",
            "4793 Honeysuckle Rose, section1 (A)\n",
            "4794 Honeysuckle Rose, section2 (A)\n",
            "4795 Honeysuckle Rose, section3 (B)\n",
            "4796 Honeysuckle Rose, section4 (A)\n",
            "\n",
            "--------------------------------------------------\n",
            "2676 Misty, section1 (A)\n",
            "2677 Misty, section2 (A)\n",
            "2678 Misty, section3 (B)\n",
            "2679 Misty, section4 (A)\n"
          ]
        }
      ]
    },
    {
      "cell_type": "code",
      "metadata": {
        "id": "rxNLqH8g5lx2"
      },
      "source": [
        "#df_section_sim.head(50)"
      ],
      "execution_count": 56,
      "outputs": []
    },
    {
      "cell_type": "code",
      "metadata": {
        "colab": {
          "base_uri": "https://localhost:8080/",
          "height": 542
        },
        "id": "n4dv7VVe5NT4",
        "outputId": "a81a101e-2a98-4ad9-8b2f-cc10d40720e3"
      },
      "source": [
        "import plotly.express as px\n",
        "fig = px.histogram(df_section_sim, x=\"score\", nbins=50, title='Scores for Section Similarities')\n",
        "fig.show()"
      ],
      "execution_count": 57,
      "outputs": [
        {
          "output_type": "display_data",
          "data": {
            "text/html": [
              "<html>\n",
              "<head><meta charset=\"utf-8\" /></head>\n",
              "<body>\n",
              "    <div>\n",
              "            <script src=\"https://cdnjs.cloudflare.com/ajax/libs/mathjax/2.7.5/MathJax.js?config=TeX-AMS-MML_SVG\"></script><script type=\"text/javascript\">if (window.MathJax) {MathJax.Hub.Config({SVG: {font: \"STIX-Web\"}});}</script>\n",
              "                <script type=\"text/javascript\">window.PlotlyConfig = {MathJaxConfig: 'local'};</script>\n",
              "        <script src=\"https://cdn.plot.ly/plotly-latest.min.js\"></script>    \n",
              "            <div id=\"504569dc-f5cf-48f2-ad51-3ead547b2d93\" class=\"plotly-graph-div\" style=\"height:525px; width:100%;\"></div>\n",
              "            <script type=\"text/javascript\">\n",
              "                \n",
              "                    window.PLOTLYENV=window.PLOTLYENV || {};\n",
              "                    \n",
              "                if (document.getElementById(\"504569dc-f5cf-48f2-ad51-3ead547b2d93\")) {\n",
              "                    Plotly.newPlot(\n",
              "                        '504569dc-f5cf-48f2-ad51-3ead547b2d93',\n",
              "                        [{\"alignmentgroup\": \"True\", \"bingroup\": \"x\", \"hoverlabel\": {\"namelength\": 0}, \"hovertemplate\": \"score=%{x}<br>count=%{y}\", \"legendgroup\": \"\", \"marker\": {\"color\": \"#636efa\"}, \"name\": \"\", \"nbinsx\": 50, \"offsetgroup\": \"\", \"orientation\": \"v\", \"showlegend\": false, \"type\": \"histogram\", \"x\": [0.9813960194587708, 0.9777109622955322, 0.9741646647453308, 0.9738208055496216, 0.9737139344215393, 0.9692039489746094, 0.9688181281089783, 0.9683101773262024, 0.9656099677085876, 0.9651843905448914, 0.96453857421875, 0.963543713092804, 0.9610232710838318, 0.9579861760139465, 0.9570587277412415, 0.956814169883728, 0.9536731839179993, 0.9536378979682922, 0.9533639550209045, 0.9523637890815735, 0.9506070017814636, 0.949951708316803, 0.9484559893608093, 0.9437714219093323, 0.9432258605957031, 0.9428209066390991, 0.9405344128608704, 0.939670979976654, 0.9371339082717896, 0.9371262192726135, 0.9362100958824158, 0.9360094666481018, 0.9348116517066956, 0.9333339929580688, 0.9331321716308594, 0.932867705821991, 0.9295676946640015, 0.9818647503852844, 0.9790681004524231, 0.9777790307998657, 0.9751969575881958, 0.9749601483345032, 0.9743006825447083, 0.9739909768104553, 0.9737902283668518, 0.971173107624054, 0.9703269600868225, 0.9697296023368835, 0.9693441987037659, 0.9692494869232178, 0.9689541459083557, 0.9672800302505493, 0.9665346741676331, 0.965480625629425, 0.964352548122406, 0.964301347732544, 0.9638065099716187, 0.9630049467086792, 0.9627624750137329, 0.9626467823982239, 0.9625741839408875, 0.9622465372085571, 0.9620903730392456, 0.9620594382286072, 0.9618040919303894, 0.9601063132286072, 0.9592241048812866, 0.959218442440033, 0.9589473009109497, 0.9580013751983643, 0.9578294157981873, 0.9569867253303528, 0.9528907537460327, 0.9525398015975952, 0.9524862170219421, 0.9407464265823364, 0.8767785429954529, 0.8654621839523315, 0.8636329770088196, 0.8579384684562683, 0.8554177284240723, 0.8413519859313965, 0.8252487778663635, 0.8232967257499695, 0.8218794465065002, 0.8163459897041321, 0.8121845722198486, 0.8042646646499634, 0.8024383783340454, 0.7962320446968079, 0.7955095171928406, 0.793369710445404, 0.7920894026756287, 0.791694164276123, 0.7893733978271484, 0.7811031937599182, 0.7806276679039001, 0.7790265083312988, 0.7746880650520325, 0.7700167894363403, 0.7613786458969116, 0.7612993717193604, 0.7595875859260559, 0.7517604827880859, 0.7495476007461548, 0.7438691258430481, 0.7385570406913757, 0.736617922782898, 0.9703046679496765, 0.9702630639076233, 0.9644427299499512, 0.9616559147834778, 0.955213725566864, 0.9502727389335632, 0.9493330717086792, 0.9488521218299866, 0.9486610293388367, 0.9478449821472168, 0.9439274072647095, 0.9425910115242004, 0.9420386552810669, 0.9418978691101074, 0.941234290599823, 0.9393359422683716, 0.9376955032348633, 0.9373547434806824, 0.9361517429351807, 0.9354846477508545, 0.935132622718811, 0.9335364699363708, 0.9298421740531921, 0.9288065433502197, 0.9287981986999512, 0.9281253218650818, 0.9259571433067322, 0.9239521622657776, 0.9239064455032349, 0.9220823049545288, 0.9192715883255005, 0.9172683358192444, 0.917228639125824, 0.917123556137085, 0.9110684990882874, 0.9108901619911194, 0.9105942249298096, 0.9087202548980713, 0.9438495635986328, 0.8615038990974426, 0.8430330157279968, 0.8387691378593445, 0.8342815637588501, 0.8292170763015747, 0.825016438961029, 0.8243474364280701, 0.8203951716423035, 0.8130549788475037, 0.8124285340309143, 0.8095056414604187, 0.8084561824798584, 0.8049522638320923, 0.8023147583007812, 0.8022725582122803, 0.8018977046012878, 0.8000126481056213, 0.7992644309997559, 0.7992469072341919, 0.7954473495483398, 0.7952958345413208, 0.7947688102722168, 0.794630765914917, 0.7911683917045593, 0.7908134460449219, 0.787845253944397, 0.7875592708587646, 0.7851682901382446, 0.7832979559898376, 0.9119478464126587, 0.8703882098197937, 0.8638362884521484, 0.8150532245635986, 0.7819410562515259, 0.7795202136039734, 0.7769808173179626, 0.7753279209136963, 0.7745360136032104, 0.7745003700256348, 0.7694772481918335, 0.764631986618042, 0.7637333273887634, 0.7604383230209351, 0.760293185710907, 0.7584572434425354, 0.7563881278038025, 0.7545551061630249, 0.7529544830322266, 0.7517521381378174, 0.7492719888687134, 0.7463277578353882, 0.7393984198570251, 0.7375550866127014, 0.735630989074707, 0.7350707054138184, 0.733522355556488, 0.7318602204322815, 0.731818675994873, 0.731736958026886, 0.7305206060409546, 0.7281429767608643, 0.727187991142273, 0.8104585409164429, 0.7966096997261047, 0.7420021891593933, 0.7402357459068298, 0.7371323108673096, 0.7291520237922668, 0.7258016467094421, 0.7229234576225281, 0.7193516492843628, 0.7084869146347046, 0.7073755860328674, 0.7019268870353699, 0.6843920946121216, 0.6798987984657288, 0.6794383525848389, 0.6720521450042725, 0.6661337614059448, 0.6618818640708923, 0.65875244140625, 0.6515659689903259, 0.6487023234367371, 0.6479156613349915, 0.6435118913650513, 0.6387156844139099, 0.6377184391021729, 0.6375112533569336, 0.6370189189910889, 0.6360328197479248, 0.635252058506012, 0.625367283821106, 0.9393535256385803, 0.8428269624710083, 0.8419248461723328, 0.8332518339157104, 0.8325620889663696, 0.8289549946784973, 0.828524112701416, 0.8280774354934692, 0.8244979977607727, 0.8194444179534912, 0.819341778755188, 0.8183400630950928, 0.8164077997207642, 0.8129101395606995, 0.8088219165802002, 0.8009558320045471, 0.798054039478302, 0.7973824143409729, 0.7968747615814209, 0.7958481907844543, 0.7929758429527283, 0.7919959425926208, 0.7913590669631958, 0.7909870743751526, 0.7886062860488892, 0.7835633158683777, 0.9157556891441345, 0.8542167544364929, 0.8349708318710327, 0.8280970454216003, 0.8244091868400574, 0.8177439570426941, 0.7863686084747314, 0.7848620414733887, 0.7847501039505005, 0.7815455794334412, 0.7805370092391968, 0.7775900363922119, 0.7734788060188293, 0.773324191570282, 0.7696377038955688, 0.7655783295631409, 0.7642692923545837, 0.7638562917709351, 0.7625231146812439, 0.7618765830993652, 0.7606436610221863, 0.7596394419670105, 0.7591790556907654, 0.7579419612884521, 0.7519031763076782, 0.7480087876319885, 0.7471021413803101, 0.747002899646759, 0.746414303779602, 0.7440414428710938, 0.7415266633033752, 0.7389656901359558, 0.7367511987686157, 0.7363370656967163, 0.735607922077179, 0.9156919717788696, 0.8924345374107361, 0.8382847905158997, 0.8287333846092224, 0.7924178242683411, 0.7907112836837769, 0.7900696396827698, 0.7871072292327881, 0.7817497253417969, 0.7654467225074768, 0.7646024823188782, 0.7516738176345825, 0.7504197955131531, 0.7451346516609192, 0.7445523142814636, 0.7436533570289612, 0.7374575734138489, 0.7300665378570557, 0.7177677154541016, 0.716437816619873, 0.7152524590492249, 0.7138259410858154, 0.7135804891586304, 0.711393415927887, 0.7104983329772949, 0.7088611125946045, 0.7085533738136292, 0.7081177234649658, 0.7070531845092773, 0.703696608543396, 0.7013447284698486, 0.6960983872413635, 0.6953364014625549, 0.6943921446800232, 0.6884851455688477, 0.8007777333259583, 0.7730240225791931, 0.7606555819511414, 0.7441549897193909, 0.7328559160232544, 0.7273814082145691, 0.7171147465705872, 0.7064774036407471, 0.6972278952598572, 0.6798691749572754, 0.6789397597312927, 0.6508921980857849, 0.6471790671348572, 0.6390805840492249, 0.6384623646736145, 0.6263705492019653, 0.6208900213241577, 0.6208043694496155, 0.6167916655540466, 0.6156505346298218, 0.6072996258735657, 0.6054832339286804, 0.6034906506538391, 0.6027647852897644, 0.6025848984718323, 0.6003716588020325, 0.5991288423538208, 0.5989658832550049, 0.5984188914299011, 0.5984077453613281, 0.5982036590576172, 0.5958610773086548, 0.5946177244186401, 0.8971732258796692, 0.8716143369674683, 0.8453629612922668, 0.8140396475791931, 0.8135985732078552, 0.808696448802948, 0.801537275314331, 0.792809247970581, 0.7927107214927673, 0.7915825843811035, 0.7888124585151672, 0.7857187986373901, 0.7719677686691284, 0.7660978436470032, 0.7641326189041138, 0.7620376944541931, 0.7611021995544434, 0.7601607441902161, 0.7553873658180237, 0.7527043223381042, 0.7456395030021667, 0.7453722357749939, 0.7452402710914612, 0.7451301217079163, 0.7448322772979736, 0.7418412566184998, 0.7414002418518066, 0.7405073046684265, 0.7350249290466309, 0.7289837598800659, 0.7289279103279114, 0.7273007035255432, 0.941600501537323, 0.9324352145195007, 0.9045465588569641, 0.8888719081878662, 0.8728585839271545, 0.8665192127227783, 0.8570107221603394, 0.8476119637489319, 0.8467989563941956, 0.8458419442176819, 0.8428924679756165, 0.8405925631523132, 0.8388166427612305, 0.8316910266876221, 0.8292264342308044, 0.8292251825332642, 0.8242036700248718, 0.8203249573707581, 0.8182467222213745, 0.8145238757133484, 0.8129394054412842, 0.8037275075912476, 0.7985805869102478, 0.796686053276062, 0.7958669662475586, 0.7920353412628174, 0.7906806468963623, 0.7835707664489746, 0.7812773585319519, 0.7810553908348083, 0.7767361998558044, 0.7716983556747437, 0.7688609957695007, 0.7674565315246582, 0.7674553394317627, 0.9759917259216309, 0.9681957364082336, 0.9668442010879517, 0.9471800923347473, 0.9442872405052185, 0.9442592263221741, 0.9432348608970642, 0.9401941895484924, 0.9313820600509644, 0.9309107661247253, 0.930747926235199, 0.9279084205627441, 0.9245501756668091, 0.9213623404502869, 0.9127260446548462, 0.9119577407836914, 0.9106007218360901, 0.9103567600250244, 0.9005135893821716, 0.8966500163078308, 0.8853679299354553, 0.8848872184753418, 0.8788582682609558, 0.8771969079971313, 0.8680756092071533, 0.8633619546890259, 0.8621167540550232, 0.8612316250801086, 0.8597323894500732, 0.8585713505744934, 0.8584583401679993, 0.8554257750511169, 0.8509089946746826, 0.8504571914672852, 0.8502381443977356, 0.8493952751159668, 0.8450496792793274, 0.9324922561645508, 0.9272679090499878, 0.9225069880485535, 0.8945382833480835, 0.8844736814498901, 0.8807485699653625, 0.8731366991996765, 0.8686279654502869, 0.8457055687904358, 0.8353797793388367, 0.8336301445960999, 0.8280471563339233, 0.82734614610672, 0.824053943157196, 0.8191744089126587, 0.817038357257843, 0.8159071207046509, 0.8155960440635681, 0.8102437257766724, 0.8098305463790894, 0.8091702461242676, 0.8084089159965515, 0.803377091884613, 0.8031517267227173, 0.8017513155937195, 0.8009386658668518, 0.7995548844337463, 0.7988874316215515, 0.7985084056854248, 0.797899603843689, 0.7953004837036133, 0.784040093421936, 0.7821090817451477, 0.9652862548828125, 0.9215494394302368, 0.9157084822654724, 0.9064570069313049, 0.9063050746917725, 0.9034934043884277, 0.8936252593994141, 0.871160626411438, 0.8667842149734497, 0.8507635593414307, 0.8449517488479614, 0.8430609703063965, 0.8419009447097778, 0.8346396684646606, 0.8323651552200317, 0.8307605385780334, 0.8292474150657654, 0.8232001662254333, 0.8222689628601074, 0.8204235434532166, 0.8201456069946289, 0.8152758479118347, 0.8150278925895691, 0.8139958381652832, 0.8105058073997498, 0.8081094622612, 0.8068485856056213, 0.806290328502655, 0.8041359782218933, 0.800652801990509, 0.7996357083320618, 0.7986912131309509, 0.7957635521888733, 0.7957339882850647, 0.795504093170166, 0.7946342825889587, 0.790260374546051, 0.7902429103851318, 0.9161860346794128, 0.8924446702003479, 0.8867180943489075, 0.8787394762039185, 0.8773985505104065, 0.8740622401237488, 0.8726748824119568, 0.8651334047317505, 0.8630046844482422, 0.8601031303405762, 0.85920649766922, 0.8590319156646729, 0.858744204044342, 0.8538557291030884, 0.8525174856185913, 0.8418110609054565, 0.8397423028945923, 0.8270712494850159, 0.8246157765388489, 0.8242066502571106, 0.8196571469306946, 0.8144355416297913, 0.8125753998756409, 0.8095375299453735, 0.8060569167137146, 0.8024203181266785, 0.8020063638687134, 0.8012375235557556, 0.7994505763053894, 0.7951076626777649, 0.7940636873245239, 0.7931811809539795, 0.7926856875419617, 0.7910639047622681, 0.7903399467468262, 0.9154411554336548, 0.9011123776435852, 0.8848636150360107, 0.8788307309150696, 0.8772082328796387, 0.8642808198928833, 0.8493250608444214, 0.8484819531440735, 0.84699547290802, 0.8466095328330994, 0.8367018699645996, 0.8325093388557434, 0.8319387435913086, 0.8311387300491333, 0.8304989337921143, 0.829957902431488, 0.8259841203689575, 0.8251497745513916, 0.8243416547775269, 0.8238383531570435, 0.8231555819511414, 0.8223803639411926, 0.8178610801696777, 0.817735493183136, 0.8165081143379211, 0.8157212734222412, 0.8143280744552612, 0.813510000705719, 0.812855064868927, 0.812758207321167, 0.8097027540206909, 0.8031268119812012, 0.8014387488365173, 0.7975029349327087, 0.7973304390907288, 0.7911073565483093, 0.924547016620636, 0.9231919050216675, 0.9175155162811279, 0.9173128008842468, 0.9020681381225586, 0.8943415880203247, 0.8938985466957092, 0.891894519329071, 0.8917645215988159, 0.8915693163871765, 0.8850418329238892, 0.8797329664230347, 0.8752313256263733, 0.8743943572044373, 0.8719615340232849, 0.8697217106819153, 0.8635271787643433, 0.8632307052612305, 0.8630448579788208, 0.8590026497840881, 0.8526643514633179, 0.8504095077514648, 0.8491474986076355, 0.8483178615570068, 0.8471686840057373, 0.8464107513427734, 0.8450642228126526, 0.8438332676887512, 0.8329914212226868, 0.8308680057525635, 0.8298203349113464, 0.8297175765037537, 0.8248918056488037, 0.8248903751373291, 0.8215765953063965, 0.8206711411476135, 0.8199413418769836, 0.8174029588699341, 0.8956577181816101, 0.8928022980690002, 0.8819148540496826, 0.8736649751663208, 0.8697790503501892, 0.8691455721855164, 0.8656840324401855, 0.852861762046814, 0.8454813957214355, 0.8444698452949524, 0.8348783850669861, 0.8205941915512085, 0.8163229823112488, 0.8095573782920837, 0.8092228174209595, 0.8082634210586548, 0.8072311878204346, 0.8042871356010437, 0.7974891066551208, 0.7949331402778625, 0.7931327223777771, 0.7929560542106628, 0.7915545105934143, 0.7898891568183899, 0.7891425490379333, 0.7873867750167847, 0.7865762710571289, 0.7859857678413391, 0.784752368927002, 0.7828717231750488, 0.7813299298286438, 0.7793381214141846, 0.7746268510818481, 0.7738006711006165, 0.94080650806427, 0.8978179693222046, 0.8963668346405029, 0.8936833739280701, 0.8895313739776611, 0.8877296447753906, 0.8777891993522644, 0.8750633001327515, 0.8694716691970825, 0.868485152721405, 0.8580461740493774, 0.8556557297706604, 0.8472667932510376, 0.845368504524231, 0.8452668190002441, 0.8406304121017456, 0.8345880508422852, 0.8319676518440247, 0.8310713171958923, 0.8298153877258301, 0.8285823464393616, 0.8278889060020447, 0.8259385228157043, 0.8241457343101501, 0.8238979578018188, 0.8238956332206726, 0.822959840297699, 0.8221138119697571, 0.8149937391281128, 0.8105899095535278, 0.8092432618141174, 0.8828626275062561, 0.8814825415611267, 0.8702172636985779, 0.8676609992980957, 0.8633307814598083, 0.8633073568344116, 0.8601053953170776, 0.8566244840621948, 0.8507140278816223, 0.843720018863678, 0.8426216244697571, 0.8411526083946228, 0.8355550169944763, 0.8354734182357788, 0.8291664123535156, 0.8277572989463806, 0.8114016056060791, 0.8110669851303101, 0.7931972742080688, 0.7929194569587708, 0.791350245475769, 0.7859753370285034, 0.7825958132743835, 0.9715700149536133, 0.9704406261444092, 0.9691126942634583, 0.9654826521873474, 0.9653290510177612, 0.9631955623626709, 0.9602780938148499, 0.9556109309196472, 0.9551108479499817, 0.953052818775177, 0.9527179002761841, 0.9525701999664307, 0.9520630836486816, 0.9470068216323853, 0.9466301202774048, 0.9431911110877991, 0.9431039690971375, 0.9423015117645264, 0.9419737458229065, 0.9410042762756348, 0.9407986402511597, 0.9368925094604492, 0.9362288117408752, 0.9318740367889404, 0.9313243627548218, 0.9261980056762695, 0.925287663936615, 0.9127817153930664, 0.9110296964645386, 0.9104140996932983, 0.9083517789840698, 0.9027255177497864, 0.8936672210693359, 0.8922054767608643, 0.8873820900917053, 0.8873670697212219, 0.8837272524833679, 0.923794686794281, 0.9231973886489868, 0.9097248315811157, 0.9094477891921997, 0.903716504573822, 0.8929666876792908, 0.8909849524497986, 0.876526415348053, 0.8701720833778381, 0.8668579459190369, 0.8576344847679138, 0.8558270931243896, 0.852971613407135, 0.8444823026657104, 0.8376944661140442, 0.8371717929840088, 0.8362882733345032, 0.8354043364524841, 0.8331262469291687, 0.8311368227005005, 0.830420970916748, 0.8269116282463074, 0.8248110413551331, 0.8189957141876221, 0.8123277425765991, 0.8117576241493225, 0.8097095489501953, 0.8065367341041565, 0.8799095749855042, 0.86225825548172, 0.8580297827720642, 0.8546009659767151, 0.834926187992096, 0.8316519856452942, 0.8269224762916565, 0.7969302535057068, 0.7960286140441895, 0.7835374474525452, 0.7792893648147583, 0.771411657333374, 0.7709308862686157, 0.7702531814575195, 0.7702449560165405, 0.7695820927619934, 0.7649838328361511, 0.7631996273994446, 0.7566897869110107, 0.752479076385498, 0.7489066123962402, 0.7455087304115295, 0.743356466293335, 0.7420637607574463, 0.7357712388038635, 0.9029276371002197, 0.8838158249855042, 0.8778292536735535, 0.8753634691238403, 0.8750250935554504, 0.8579277992248535, 0.8186349272727966, 0.8156640529632568, 0.8062035441398621, 0.8004806637763977, 0.7989183664321899, 0.7897469997406006, 0.7891836166381836, 0.7754577994346619, 0.767143964767456, 0.7662807106971741, 0.7657526135444641, 0.7616491317749023, 0.736431896686554, 0.7280929684638977, 0.7216441035270691, 0.7202303409576416, 0.9810423851013184, 0.9809162616729736, 0.9787439703941345, 0.9778053164482117, 0.9773379564285278, 0.9772712588310242, 0.9746872186660767, 0.9745020866394043, 0.9726424217224121, 0.9705615639686584, 0.9700199365615845, 0.969968855381012, 0.9691097736358643, 0.9681077599525452, 0.9670844674110413, 0.9660032987594604, 0.9657494425773621, 0.963959276676178, 0.9637010097503662, 0.958661675453186, 0.95665442943573, 0.9451810717582703, 0.9412092566490173, 0.9385313987731934, 0.9369392395019531, 0.9308673143386841, 0.9270298480987549, 0.9264473915100098, 0.926306962966919, 0.9058420658111572, 0.9046913981437683, 0.8919175267219543, 0.880482017993927, 0.8799772262573242, 0.8699489831924438, 0.8660435676574707, 0.827739417552948, 0.8108540177345276, 0.8060767650604248, 0.7932693362236023, 0.7925968766212463, 0.7833561897277832, 0.7820380330085754, 0.7819236516952515, 0.7781733274459839, 0.778008222579956, 0.7762578129768372, 0.7725525498390198, 0.769405722618103, 0.7640054225921631, 0.7638941407203674, 0.7636492252349854, 0.7604683041572571, 0.7585130333900452, 0.7583487033843994, 0.7563038468360901, 0.7562742233276367, 0.7537617683410645, 0.753143310546875, 0.7511087656021118, 0.7455341815948486, 0.7388367652893066, 0.737483561038971, 0.7372535467147827, 0.7353517413139343, 0.732285737991333, 0.9466032385826111, 0.9372481107711792, 0.9220525622367859, 0.9168215990066528, 0.9165787696838379, 0.9124280214309692, 0.9098498225212097, 0.9037895798683167, 0.8929996490478516, 0.8806212544441223, 0.8797329068183899, 0.8761631846427917, 0.87033611536026, 0.8701346516609192, 0.8690619468688965, 0.8641861081123352, 0.8639185428619385, 0.8612403273582458, 0.8560522198677063, 0.8506361842155457, 0.8423686623573303, 0.8405452370643616, 0.8399764895439148, 0.8392698168754578, 0.8315145969390869, 0.8310473561286926, 0.8309207558631897, 0.8283928632736206, 0.8239554166793823, 0.8199464082717896, 0.8167502284049988, 0.8144356608390808, 0.8105154633522034, 0.8092581629753113, 0.8090459108352661, 0.808656632900238, 0.8077103495597839, 0.8066462874412537, 0.9068677425384521, 0.8781464099884033, 0.7920882105827332, 0.784296452999115, 0.7695081830024719, 0.7562353014945984, 0.7560257315635681, 0.7524078488349915, 0.7445524334907532, 0.7406274676322937, 0.7371898293495178, 0.7260459065437317, 0.7202448844909668, 0.718055009841919, 0.7174406051635742, 0.7138994336128235, 0.7135587930679321, 0.7087161540985107, 0.7084037661552429, 0.7057267427444458, 0.7022169232368469, 0.6971210241317749, 0.6966935396194458, 0.6941608786582947, 0.6932999491691589, 0.6929686665534973, 0.6906089782714844, 0.68851637840271, 0.6883189082145691, 0.6863861680030823, 0.6851697564125061, 0.683417022228241, 0.6832606196403503, 0.6826876401901245, 0.6811655163764954, 0.9237338304519653, 0.9237312078475952, 0.9162114858627319, 0.9153760671615601, 0.9112499952316284, 0.9094005823135376, 0.908406674861908, 0.9078804850578308, 0.9050507545471191, 0.9030951261520386, 0.9020697474479675, 0.8992772102355957, 0.8975089192390442, 0.8970721960067749, 0.8964503407478333, 0.8951658010482788, 0.8936710357666016, 0.8899984955787659, 0.8889549374580383, 0.8785650134086609, 0.8759963512420654, 0.8759713768959045, 0.8753442168235779, 0.8751488327980042, 0.8739399909973145, 0.8734033107757568, 0.8691489696502686, 0.867717444896698, 0.8651897311210632, 0.8650258779525757, 0.8633319139480591, 0.8632733821868896, 0.8627914190292358, 0.8619282841682434, 0.8617342114448547, 0.8601972460746765, 0.8565811514854431, 0.8563448786735535, 0.8561984300613403, 0.8278361558914185, 0.8201684355735779, 0.8162296414375305, 0.8087950348854065, 0.8066369891166687, 0.8060393929481506, 0.8041433691978455, 0.7945393919944763, 0.7870391607284546, 0.7790265083312988, 0.7789964079856873, 0.776238203048706, 0.7712815999984741, 0.764439582824707, 0.7629256844520569, 0.7581701278686523, 0.7554669976234436, 0.7550658583641052, 0.7546483278274536, 0.7534801363945007, 0.7510440945625305, 0.7483869194984436, 0.7460694909095764, 0.7459287643432617, 0.7449367642402649, 0.7430662512779236, 0.7400657534599304, 0.7399032711982727, 0.7373509407043457, 0.7311233282089233, 0.7289708256721497, 0.7289358377456665, 0.723214328289032, 0.7230405807495117, 0.7213375568389893, 0.7176738381385803, 0.7127858400344849, 0.7125294208526611, 0.9564759731292725, 0.9256993532180786, 0.8966655731201172, 0.8880959749221802, 0.8838445544242859, 0.8663843274116516, 0.8663319945335388, 0.8618590831756592, 0.8581839799880981, 0.8554576635360718, 0.8529403209686279, 0.8451773524284363, 0.8410850763320923, 0.8334318995475769, 0.8285702466964722, 0.8251118659973145, 0.8206541538238525, 0.8095518350601196, 0.8092491626739502, 0.80810546875, 0.8069940805435181, 0.8042599558830261, 0.8033595681190491, 0.7984504103660583, 0.7980431914329529, 0.7961501479148865, 0.7957545518875122, 0.7947150468826294, 0.7937254905700684, 0.7876031398773193, 0.78645259141922, 0.7837734818458557, 0.7770724892616272, 0.7740961313247681, 0.7718456387519836, 0.7718295454978943, 0.881837785243988, 0.8504678010940552, 0.8405618071556091, 0.8352571725845337, 0.8311062455177307, 0.820937991142273, 0.8166624903678894, 0.8155099749565125, 0.8135936856269836, 0.8075200319290161, 0.8069612383842468, 0.8050655722618103, 0.8033344149589539, 0.8032869100570679, 0.8014702200889587, 0.7984910607337952, 0.7977515459060669, 0.7847259044647217, 0.7832722663879395, 0.7832518219947815, 0.7825977206230164, 0.7814088463783264, 0.7759546041488647, 0.7750932574272156, 0.7724296450614929, 0.7698605060577393, 0.7659080028533936, 0.7624726295471191, 0.7615575790405273, 0.7604478001594543, 0.7561936974525452, 0.7501630187034607, 0.7448814511299133, 0.9417666792869568, 0.9259268045425415, 0.9141483306884766, 0.8853085041046143, 0.8844205737113953, 0.8828778862953186, 0.8785794973373413, 0.8634898066520691, 0.8602725267410278, 0.8547624945640564, 0.8495551347732544, 0.8422499895095825, 0.8397848010063171, 0.8366448283195496, 0.8293581008911133, 0.8291170001029968, 0.8243487477302551, 0.8241121172904968, 0.8235697150230408, 0.8218861222267151, 0.8189895153045654, 0.8174653053283691, 0.8135035634040833, 0.8066871166229248, 0.8060895204544067, 0.8053783774375916, 0.8038250207901001, 0.8037590384483337, 0.8035230040550232, 0.8017370700836182, 0.7995701432228088, 0.7994216680526733, 0.7988202571868896, 0.798239529132843, 0.7968420386314392, 0.9217768311500549, 0.8966293334960938, 0.8914868831634521, 0.8862288594245911, 0.8835173845291138, 0.876742959022522, 0.8691099286079407, 0.8543123602867126, 0.8497517108917236, 0.8356976509094238, 0.8297446370124817, 0.8289711475372314, 0.8277913928031921, 0.8259572982788086, 0.8222270607948303, 0.818995475769043, 0.8143085837364197, 0.8054361343383789, 0.8043308854103088, 0.803299069404602, 0.8006662726402283, 0.7991144061088562, 0.7956230640411377, 0.7949954867362976, 0.7909294962882996, 0.7902835011482239, 0.7896949052810669, 0.7886075377464294, 0.788059413433075, 0.7849978804588318, 0.7833650708198547, 0.7817721366882324, 0.7759481072425842, 0.7753772139549255, 0.9762550592422485, 0.9663423895835876, 0.9656270146369934, 0.9596825838088989, 0.9563632011413574, 0.9514614939689636, 0.9503892064094543, 0.9420755505561829, 0.9276174306869507, 0.9225282073020935, 0.9156079292297363, 0.9056901335716248, 0.902684211730957, 0.8999823927879333, 0.8984441161155701, 0.8926703929901123, 0.8868784308433533, 0.8761674761772156, 0.8663848638534546, 0.8646163940429688, 0.8559075593948364, 0.8400464653968811, 0.8317375779151917, 0.8256720304489136, 0.8249309659004211, 0.8236160278320312, 0.8183869123458862, 0.8176608085632324, 0.8172701001167297, 0.8149322867393494, 0.8146583437919617, 0.8093250393867493, 0.8092424869537354, 0.8085582852363586, 0.8083128929138184, 0.8073981404304504, 0.8067604899406433, 0.9276484847068787, 0.9271033406257629, 0.9228185415267944, 0.9207228422164917, 0.915108859539032, 0.9134604334831238, 0.912262499332428, 0.9050520062446594, 0.9033257365226746, 0.8978279232978821, 0.8946667909622192, 0.8932052850723267, 0.8907901048660278, 0.8892784714698792, 0.8862057328224182, 0.8825887441635132, 0.8772212862968445, 0.8768116235733032, 0.8765636086463928, 0.8762854933738708, 0.8714979290962219, 0.8614491820335388, 0.859939694404602, 0.8591240048408508, 0.8590592741966248, 0.8573979139328003, 0.8557953238487244, 0.8503918647766113, 0.8499295711517334, 0.8498984575271606, 0.8492177724838257, 0.8483639359474182, 0.8461040258407593, 0.8411988019943237, 0.8398897647857666, 0.9043592214584351, 0.8980610370635986, 0.8713923096656799, 0.8608425259590149, 0.8534773588180542, 0.8509353399276733, 0.8487709164619446, 0.847863495349884, 0.8461107015609741, 0.8390731811523438, 0.8351653218269348, 0.8343181014060974, 0.8295854330062866, 0.8215201497077942, 0.8188996911048889, 0.8140807747840881, 0.813823938369751, 0.8094372153282166, 0.805310070514679, 0.8047914505004883, 0.8047605752944946, 0.8038212656974792, 0.8033463358879089, 0.8030943870544434, 0.8010409474372864, 0.799883246421814, 0.7996566295623779, 0.798555314540863, 0.7946575880050659, 0.7945787906646729, 0.7940958738327026, 0.7910611629486084, 0.7888409495353699, 0.9237962365150452, 0.9221910834312439, 0.9171562790870667, 0.9141912460327148, 0.905585527420044, 0.8924893140792847, 0.8879101276397705, 0.8856488466262817, 0.8844271302223206, 0.8842012286186218, 0.8800296783447266, 0.8760983347892761, 0.8758395314216614, 0.8750029802322388, 0.8721280097961426, 0.8688449263572693, 0.868423581123352, 0.866752564907074, 0.8659337162971497, 0.8635339140892029, 0.861439049243927, 0.8613609075546265, 0.8603258728981018, 0.8599643111228943, 0.8599488735198975, 0.8596522808074951, 0.859184741973877, 0.8558654189109802, 0.8541214466094971, 0.8540628552436829, 0.8489236831665039, 0.8489171266555786, 0.8433618545532227, 0.8429086804389954, 0.8422124981880188, 0.9846448302268982, 0.970777690410614, 0.9598418474197388, 0.9509881138801575, 0.9486076235771179, 0.9458970427513123, 0.9455946683883667, 0.9454668164253235, 0.9447053074836731, 0.9418272376060486, 0.938152551651001, 0.9264478087425232, 0.9235407114028931, 0.922636091709137, 0.9184857606887817, 0.9138641357421875, 0.906356930732727, 0.9032915234565735, 0.9007815718650818, 0.8918052911758423, 0.8910212516784668, 0.8784978985786438, 0.8757547736167908, 0.8749048113822937, 0.8729093074798584, 0.8706997632980347, 0.8702128529548645, 0.869301438331604, 0.867633581161499, 0.862765908241272, 0.8619734644889832, 0.8608346581459045, 0.8571246862411499, 0.8569905757904053, 0.8559283018112183, 0.9493444561958313, 0.9154224991798401, 0.8923426270484924, 0.8912747502326965, 0.881260335445404, 0.8775181174278259, 0.8763743042945862, 0.8756148815155029, 0.8709596395492554, 0.8694252371788025, 0.8693366646766663, 0.8680533170700073, 0.8669634461402893, 0.860554575920105, 0.8605131506919861, 0.856818675994873, 0.8538373708724976, 0.8497965931892395, 0.8478012681007385, 0.8389005064964294, 0.8385579586029053, 0.8377495408058167, 0.8353815078735352, 0.833707869052887, 0.8324522376060486, 0.8313757181167603, 0.8292300701141357, 0.8267796039581299, 0.824102520942688, 0.8236770033836365, 0.8218584656715393, 0.8211392164230347, 0.9043448567390442, 0.8973177075386047, 0.8835617303848267, 0.878330409526825, 0.868411123752594, 0.8683227896690369, 0.8676751255989075, 0.861117422580719, 0.8563717007637024, 0.8558983206748962, 0.8477471470832825, 0.8447439074516296, 0.8434622287750244, 0.8433298468589783, 0.8413819670677185, 0.8379424810409546, 0.8376924991607666, 0.8312902450561523, 0.8306630849838257, 0.8277426958084106, 0.825765073299408, 0.8252620697021484, 0.8243443369865417, 0.823925793170929, 0.8234644532203674, 0.8217019438743591, 0.8194167017936707, 0.8184952139854431, 0.817086398601532, 0.8157974481582642, 0.815601646900177, 0.8151849508285522, 0.8149120807647705, 0.8144936561584473, 0.9129298329353333, 0.9059832096099854, 0.9046635031700134, 0.8860742449760437, 0.8847348093986511, 0.8837146162986755, 0.8781692981719971, 0.8744356632232666, 0.8721471428871155, 0.8696956634521484, 0.8673709630966187, 0.8673602938652039, 0.8633047342300415, 0.8631240129470825, 0.8626456260681152, 0.861188530921936, 0.8605855107307434, 0.8557231426239014, 0.8539352416992188, 0.8538208603858948, 0.8518996238708496, 0.8512604236602783, 0.8500455021858215, 0.8493181467056274, 0.8450955152511597, 0.8448454141616821, 0.8447583913803101, 0.8441417813301086, 0.843228816986084, 0.8410259485244751, 0.8407993316650391, 0.8347033262252808, 0.8343343734741211, 0.8335601687431335, 0.833234429359436, 0.8303502798080444, 0.9888346195220947, 0.9656176567077637, 0.9641836285591125, 0.9602974653244019, 0.9556673169136047, 0.9465983510017395, 0.9462342858314514, 0.9446346759796143, 0.9255569577217102, 0.9238486289978027, 0.9231535196304321, 0.9144969582557678, 0.9000949263572693, 0.8859016299247742, 0.8834569454193115, 0.8793562650680542, 0.8788670301437378, 0.8784618973731995, 0.8755524754524231, 0.8677667379379272, 0.865526556968689, 0.8632898926734924, 0.8573678135871887, 0.8532711863517761, 0.8415601849555969, 0.8412880301475525, 0.8377583622932434, 0.8362166881561279, 0.8349201083183289, 0.8278704285621643, 0.8276665210723877, 0.8267167806625366, 0.8212323784828186, 0.8204337358474731, 0.8191437721252441, 0.8172450661659241, 0.8171316981315613, 0.9546312689781189, 0.9419529438018799, 0.9298494458198547, 0.9239844083786011, 0.9154802560806274, 0.9154494404792786, 0.9136272668838501, 0.9109495878219604, 0.9107760787010193, 0.9100740551948547, 0.8975967168807983, 0.8973090648651123, 0.8971218466758728, 0.8969095945358276, 0.8878970146179199, 0.8858523964881897, 0.8826804161071777, 0.8793692588806152, 0.8792274594306946, 0.8755101561546326, 0.8747986555099487, 0.874642550945282, 0.8719475269317627, 0.8698149919509888, 0.8640466332435608, 0.8628426790237427, 0.862028181552887, 0.8501459360122681, 0.8466819524765015, 0.8450701236724854, 0.8449479937553406, 0.8362942934036255, 0.8289525508880615, 0.827120840549469, 0.8251804709434509, 0.8247919678688049, 0.8221963047981262, 0.9490066766738892, 0.9049999117851257, 0.8619205951690674, 0.8589953184127808, 0.8578419089317322, 0.856155276298523, 0.826930820941925, 0.8225598931312561, 0.8161327242851257, 0.8154088258743286, 0.8127255439758301, 0.8116926550865173, 0.80976402759552, 0.8062822222709656, 0.8058305978775024, 0.8035798668861389, 0.7946715950965881, 0.7933080196380615, 0.7848547697067261, 0.7847623229026794, 0.776086151599884, 0.7756564021110535, 0.7718808650970459, 0.7702046036720276, 0.767238199710846, 0.7660490870475769, 0.7656568288803101, 0.7653757929801941, 0.7645192742347717, 0.7644814252853394, 0.7615593671798706, 0.7615455389022827, 0.7594633102416992, 0.9372473359107971, 0.9091269373893738, 0.8861792087554932, 0.8678269982337952, 0.8665516972541809, 0.8519783020019531, 0.8472039699554443, 0.8451443314552307, 0.8446713089942932, 0.8431445360183716, 0.8411704301834106, 0.840143620967865, 0.8335626721382141, 0.8316087126731873, 0.8298628926277161, 0.8284847736358643, 0.8274555206298828, 0.8272194862365723, 0.827085554599762, 0.8246704936027527, 0.8211736679077148, 0.8202479481697083, 0.8124158978462219, 0.8087118268013, 0.8061665892601013, 0.8047714829444885, 0.8044984936714172, 0.804032564163208, 0.8016437292098999, 0.7999875545501709, 0.7979492545127869, 0.79659104347229, 0.7951990962028503, 0.7937624454498291, 0.7920737266540527, 0.7844832539558411, 0.7652433514595032, 0.7638885378837585, 0.7582276463508606, 0.714162290096283, 0.6943789124488831, 0.6886090636253357, 0.6727700233459473, 0.6670243144035339, 0.6661838889122009, 0.6657745242118835, 0.6609443426132202, 0.6576982140541077, 0.6560291647911072, 0.6551191806793213, 0.650516152381897, 0.6449906826019287, 0.6416886448860168, 0.6386255621910095, 0.636755645275116, 0.6342644095420837, 0.6336634159088135, 0.6329684257507324, 0.6322680115699768, 0.6290720701217651, 0.6287386417388916, 0.6280470490455627, 0.6271611452102661, 0.6241077780723572, 0.6218400597572327, 0.6207762360572815, 0.6181219220161438, 0.9482654929161072, 0.9059159755706787, 0.9056691527366638, 0.9043567180633545, 0.8699246644973755, 0.8583043217658997, 0.8560030460357666, 0.8506592512130737, 0.8474181294441223, 0.8425215482711792, 0.8283737897872925, 0.8222306966781616, 0.8204676508903503, 0.8115007877349854, 0.808897078037262, 0.8083015084266663, 0.8068862557411194, 0.8050927519798279, 0.8001769185066223, 0.7999595999717712, 0.797488272190094, 0.7967080473899841, 0.7957210540771484, 0.793777585029602, 0.7921266555786133, 0.7902094721794128, 0.7895386219024658, 0.7893725037574768, 0.7890486121177673, 0.7863026857376099, 0.7860516905784607, 0.7858336567878723, 0.7839706540107727, 0.7835100293159485, 0.7833200693130493], \"xaxis\": \"x\", \"yaxis\": \"y\"}],\n",
              "                        {\"barmode\": \"relative\", \"legend\": {\"tracegroupgap\": 0}, \"template\": {\"data\": {\"bar\": [{\"error_x\": {\"color\": \"#2a3f5f\"}, \"error_y\": {\"color\": \"#2a3f5f\"}, \"marker\": {\"line\": {\"color\": \"#E5ECF6\", \"width\": 0.5}}, \"type\": \"bar\"}], \"barpolar\": [{\"marker\": {\"line\": {\"color\": \"#E5ECF6\", \"width\": 0.5}}, \"type\": \"barpolar\"}], \"carpet\": [{\"aaxis\": {\"endlinecolor\": \"#2a3f5f\", \"gridcolor\": \"white\", \"linecolor\": \"white\", \"minorgridcolor\": \"white\", \"startlinecolor\": \"#2a3f5f\"}, \"baxis\": {\"endlinecolor\": \"#2a3f5f\", \"gridcolor\": \"white\", \"linecolor\": \"white\", \"minorgridcolor\": \"white\", \"startlinecolor\": \"#2a3f5f\"}, \"type\": \"carpet\"}], \"choropleth\": [{\"colorbar\": {\"outlinewidth\": 0, \"ticks\": \"\"}, \"type\": \"choropleth\"}], \"contour\": [{\"colorbar\": {\"outlinewidth\": 0, \"ticks\": \"\"}, \"colorscale\": [[0.0, \"#0d0887\"], [0.1111111111111111, \"#46039f\"], [0.2222222222222222, \"#7201a8\"], [0.3333333333333333, \"#9c179e\"], [0.4444444444444444, \"#bd3786\"], [0.5555555555555556, \"#d8576b\"], [0.6666666666666666, \"#ed7953\"], [0.7777777777777778, \"#fb9f3a\"], [0.8888888888888888, \"#fdca26\"], [1.0, \"#f0f921\"]], \"type\": \"contour\"}], \"contourcarpet\": [{\"colorbar\": {\"outlinewidth\": 0, \"ticks\": \"\"}, \"type\": \"contourcarpet\"}], \"heatmap\": [{\"colorbar\": {\"outlinewidth\": 0, \"ticks\": \"\"}, \"colorscale\": [[0.0, \"#0d0887\"], [0.1111111111111111, \"#46039f\"], [0.2222222222222222, \"#7201a8\"], [0.3333333333333333, \"#9c179e\"], [0.4444444444444444, \"#bd3786\"], [0.5555555555555556, \"#d8576b\"], [0.6666666666666666, \"#ed7953\"], [0.7777777777777778, \"#fb9f3a\"], [0.8888888888888888, \"#fdca26\"], [1.0, \"#f0f921\"]], \"type\": \"heatmap\"}], \"heatmapgl\": [{\"colorbar\": {\"outlinewidth\": 0, \"ticks\": \"\"}, \"colorscale\": [[0.0, \"#0d0887\"], [0.1111111111111111, \"#46039f\"], [0.2222222222222222, \"#7201a8\"], [0.3333333333333333, \"#9c179e\"], [0.4444444444444444, \"#bd3786\"], [0.5555555555555556, \"#d8576b\"], [0.6666666666666666, \"#ed7953\"], [0.7777777777777778, \"#fb9f3a\"], [0.8888888888888888, \"#fdca26\"], [1.0, \"#f0f921\"]], \"type\": \"heatmapgl\"}], \"histogram\": [{\"marker\": {\"colorbar\": {\"outlinewidth\": 0, \"ticks\": \"\"}}, \"type\": \"histogram\"}], \"histogram2d\": [{\"colorbar\": {\"outlinewidth\": 0, \"ticks\": \"\"}, \"colorscale\": [[0.0, \"#0d0887\"], [0.1111111111111111, \"#46039f\"], [0.2222222222222222, \"#7201a8\"], [0.3333333333333333, \"#9c179e\"], [0.4444444444444444, \"#bd3786\"], [0.5555555555555556, \"#d8576b\"], [0.6666666666666666, \"#ed7953\"], [0.7777777777777778, \"#fb9f3a\"], [0.8888888888888888, \"#fdca26\"], [1.0, \"#f0f921\"]], \"type\": \"histogram2d\"}], \"histogram2dcontour\": [{\"colorbar\": {\"outlinewidth\": 0, \"ticks\": \"\"}, \"colorscale\": [[0.0, \"#0d0887\"], [0.1111111111111111, \"#46039f\"], [0.2222222222222222, \"#7201a8\"], [0.3333333333333333, \"#9c179e\"], [0.4444444444444444, \"#bd3786\"], [0.5555555555555556, \"#d8576b\"], [0.6666666666666666, \"#ed7953\"], [0.7777777777777778, \"#fb9f3a\"], [0.8888888888888888, \"#fdca26\"], [1.0, \"#f0f921\"]], \"type\": \"histogram2dcontour\"}], \"mesh3d\": [{\"colorbar\": {\"outlinewidth\": 0, \"ticks\": \"\"}, \"type\": \"mesh3d\"}], \"parcoords\": [{\"line\": {\"colorbar\": {\"outlinewidth\": 0, \"ticks\": \"\"}}, \"type\": \"parcoords\"}], \"pie\": [{\"automargin\": true, \"type\": \"pie\"}], \"scatter\": [{\"marker\": {\"colorbar\": {\"outlinewidth\": 0, \"ticks\": \"\"}}, \"type\": \"scatter\"}], \"scatter3d\": [{\"line\": {\"colorbar\": {\"outlinewidth\": 0, \"ticks\": \"\"}}, \"marker\": {\"colorbar\": {\"outlinewidth\": 0, \"ticks\": \"\"}}, \"type\": \"scatter3d\"}], \"scattercarpet\": [{\"marker\": {\"colorbar\": {\"outlinewidth\": 0, \"ticks\": \"\"}}, \"type\": \"scattercarpet\"}], \"scattergeo\": [{\"marker\": {\"colorbar\": {\"outlinewidth\": 0, \"ticks\": \"\"}}, \"type\": \"scattergeo\"}], \"scattergl\": [{\"marker\": {\"colorbar\": {\"outlinewidth\": 0, \"ticks\": \"\"}}, \"type\": \"scattergl\"}], \"scattermapbox\": [{\"marker\": {\"colorbar\": {\"outlinewidth\": 0, \"ticks\": \"\"}}, \"type\": \"scattermapbox\"}], \"scatterpolar\": [{\"marker\": {\"colorbar\": {\"outlinewidth\": 0, \"ticks\": \"\"}}, \"type\": \"scatterpolar\"}], \"scatterpolargl\": [{\"marker\": {\"colorbar\": {\"outlinewidth\": 0, \"ticks\": \"\"}}, \"type\": \"scatterpolargl\"}], \"scatterternary\": [{\"marker\": {\"colorbar\": {\"outlinewidth\": 0, \"ticks\": \"\"}}, \"type\": \"scatterternary\"}], \"surface\": [{\"colorbar\": {\"outlinewidth\": 0, \"ticks\": \"\"}, \"colorscale\": [[0.0, \"#0d0887\"], [0.1111111111111111, \"#46039f\"], [0.2222222222222222, \"#7201a8\"], [0.3333333333333333, \"#9c179e\"], [0.4444444444444444, \"#bd3786\"], [0.5555555555555556, \"#d8576b\"], [0.6666666666666666, \"#ed7953\"], [0.7777777777777778, \"#fb9f3a\"], [0.8888888888888888, \"#fdca26\"], [1.0, \"#f0f921\"]], \"type\": \"surface\"}], \"table\": [{\"cells\": {\"fill\": {\"color\": \"#EBF0F8\"}, \"line\": {\"color\": \"white\"}}, \"header\": {\"fill\": {\"color\": \"#C8D4E3\"}, \"line\": {\"color\": \"white\"}}, \"type\": \"table\"}]}, \"layout\": {\"annotationdefaults\": {\"arrowcolor\": \"#2a3f5f\", \"arrowhead\": 0, \"arrowwidth\": 1}, \"coloraxis\": {\"colorbar\": {\"outlinewidth\": 0, \"ticks\": \"\"}}, \"colorscale\": {\"diverging\": [[0, \"#8e0152\"], [0.1, \"#c51b7d\"], [0.2, \"#de77ae\"], [0.3, \"#f1b6da\"], [0.4, \"#fde0ef\"], [0.5, \"#f7f7f7\"], [0.6, \"#e6f5d0\"], [0.7, \"#b8e186\"], [0.8, \"#7fbc41\"], [0.9, \"#4d9221\"], [1, \"#276419\"]], \"sequential\": [[0.0, \"#0d0887\"], [0.1111111111111111, \"#46039f\"], [0.2222222222222222, \"#7201a8\"], [0.3333333333333333, \"#9c179e\"], [0.4444444444444444, \"#bd3786\"], [0.5555555555555556, \"#d8576b\"], [0.6666666666666666, \"#ed7953\"], [0.7777777777777778, \"#fb9f3a\"], [0.8888888888888888, \"#fdca26\"], [1.0, \"#f0f921\"]], \"sequentialminus\": [[0.0, \"#0d0887\"], [0.1111111111111111, \"#46039f\"], [0.2222222222222222, \"#7201a8\"], [0.3333333333333333, \"#9c179e\"], [0.4444444444444444, \"#bd3786\"], [0.5555555555555556, \"#d8576b\"], [0.6666666666666666, \"#ed7953\"], [0.7777777777777778, \"#fb9f3a\"], [0.8888888888888888, \"#fdca26\"], [1.0, \"#f0f921\"]]}, \"colorway\": [\"#636efa\", \"#EF553B\", \"#00cc96\", \"#ab63fa\", \"#FFA15A\", \"#19d3f3\", \"#FF6692\", \"#B6E880\", \"#FF97FF\", \"#FECB52\"], \"font\": {\"color\": \"#2a3f5f\"}, \"geo\": {\"bgcolor\": \"white\", \"lakecolor\": \"white\", \"landcolor\": \"#E5ECF6\", \"showlakes\": true, \"showland\": true, \"subunitcolor\": \"white\"}, \"hoverlabel\": {\"align\": \"left\"}, \"hovermode\": \"closest\", \"mapbox\": {\"style\": \"light\"}, \"paper_bgcolor\": \"white\", \"plot_bgcolor\": \"#E5ECF6\", \"polar\": {\"angularaxis\": {\"gridcolor\": \"white\", \"linecolor\": \"white\", \"ticks\": \"\"}, \"bgcolor\": \"#E5ECF6\", \"radialaxis\": {\"gridcolor\": \"white\", \"linecolor\": \"white\", \"ticks\": \"\"}}, \"scene\": {\"xaxis\": {\"backgroundcolor\": \"#E5ECF6\", \"gridcolor\": \"white\", \"gridwidth\": 2, \"linecolor\": \"white\", \"showbackground\": true, \"ticks\": \"\", \"zerolinecolor\": \"white\"}, \"yaxis\": {\"backgroundcolor\": \"#E5ECF6\", \"gridcolor\": \"white\", \"gridwidth\": 2, \"linecolor\": \"white\", \"showbackground\": true, \"ticks\": \"\", \"zerolinecolor\": \"white\"}, \"zaxis\": {\"backgroundcolor\": \"#E5ECF6\", \"gridcolor\": \"white\", \"gridwidth\": 2, \"linecolor\": \"white\", \"showbackground\": true, \"ticks\": \"\", \"zerolinecolor\": \"white\"}}, \"shapedefaults\": {\"line\": {\"color\": \"#2a3f5f\"}}, \"ternary\": {\"aaxis\": {\"gridcolor\": \"white\", \"linecolor\": \"white\", \"ticks\": \"\"}, \"baxis\": {\"gridcolor\": \"white\", \"linecolor\": \"white\", \"ticks\": \"\"}, \"bgcolor\": \"#E5ECF6\", \"caxis\": {\"gridcolor\": \"white\", \"linecolor\": \"white\", \"ticks\": \"\"}}, \"title\": {\"x\": 0.05}, \"xaxis\": {\"automargin\": true, \"gridcolor\": \"white\", \"linecolor\": \"white\", \"ticks\": \"\", \"title\": {\"standoff\": 15}, \"zerolinecolor\": \"white\", \"zerolinewidth\": 2}, \"yaxis\": {\"automargin\": true, \"gridcolor\": \"white\", \"linecolor\": \"white\", \"ticks\": \"\", \"title\": {\"standoff\": 15}, \"zerolinecolor\": \"white\", \"zerolinewidth\": 2}}}, \"title\": {\"text\": \"Scores for Section Similarities\"}, \"xaxis\": {\"anchor\": \"y\", \"domain\": [0.0, 1.0], \"title\": {\"text\": \"score\"}}, \"yaxis\": {\"anchor\": \"x\", \"domain\": [0.0, 1.0], \"title\": {\"text\": \"count\"}}},\n",
              "                        {\"responsive\": true}\n",
              "                    ).then(function(){\n",
              "                            \n",
              "var gd = document.getElementById('504569dc-f5cf-48f2-ad51-3ead547b2d93');\n",
              "var x = new MutationObserver(function (mutations, observer) {{\n",
              "        var display = window.getComputedStyle(gd).display;\n",
              "        if (!display || display === 'none') {{\n",
              "            console.log([gd, 'removed!']);\n",
              "            Plotly.purge(gd);\n",
              "            observer.disconnect();\n",
              "        }}\n",
              "}});\n",
              "\n",
              "// Listen for the removal of the full notebook cells\n",
              "var notebookContainer = gd.closest('#notebook-container');\n",
              "if (notebookContainer) {{\n",
              "    x.observe(notebookContainer, {childList: true});\n",
              "}}\n",
              "\n",
              "// Listen for the clearing of the current output cell\n",
              "var outputEl = gd.closest('.output');\n",
              "if (outputEl) {{\n",
              "    x.observe(outputEl, {childList: true});\n",
              "}}\n",
              "\n",
              "                        })\n",
              "                };\n",
              "                \n",
              "            </script>\n",
              "        </div>\n",
              "</body>\n",
              "</html>"
            ]
          },
          "metadata": {}
        }
      ]
    },
    {
      "cell_type": "code",
      "metadata": {
        "colab": {
          "base_uri": "https://localhost:8080/",
          "height": 1000
        },
        "id": "DgV3ccDr5Ux4",
        "outputId": "31bd4d23-d0f9-40ce-8fa4-29b24b55168f"
      },
      "source": [
        "result, details = recommend_tune(df_section_sim, 'These Foolish Things')\n",
        "result.head(30)"
      ],
      "execution_count": 58,
      "outputs": [
        {
          "output_type": "execute_result",
          "data": {
            "text/html": [
              "<div>\n",
              "<style scoped>\n",
              "    .dataframe tbody tr th:only-of-type {\n",
              "        vertical-align: middle;\n",
              "    }\n",
              "\n",
              "    .dataframe tbody tr th {\n",
              "        vertical-align: top;\n",
              "    }\n",
              "\n",
              "    .dataframe thead th {\n",
              "        text-align: right;\n",
              "    }\n",
              "</style>\n",
              "<table border=\"1\" class=\"dataframe\">\n",
              "  <thead>\n",
              "    <tr style=\"text-align: right;\">\n",
              "      <th></th>\n",
              "      <th>score</th>\n",
              "      <th>max</th>\n",
              "      <th>score_div_max</th>\n",
              "    </tr>\n",
              "    <tr>\n",
              "      <th>similar_title</th>\n",
              "      <th></th>\n",
              "      <th></th>\n",
              "      <th></th>\n",
              "    </tr>\n",
              "  </thead>\n",
              "  <tbody>\n",
              "    <tr>\n",
              "      <th>I've Told Eve'ry Little Star</th>\n",
              "      <td>0.810459</td>\n",
              "      <td>0.810459</td>\n",
              "      <td>1.000000</td>\n",
              "    </tr>\n",
              "    <tr>\n",
              "      <th>I Loves You Porgy</th>\n",
              "      <td>0.943850</td>\n",
              "      <td>0.943850</td>\n",
              "      <td>1.000000</td>\n",
              "    </tr>\n",
              "    <tr>\n",
              "      <th>More Than You Know</th>\n",
              "      <td>0.796610</td>\n",
              "      <td>0.810459</td>\n",
              "      <td>0.982912</td>\n",
              "    </tr>\n",
              "    <tr>\n",
              "      <th>With A Song In My Heart</th>\n",
              "      <td>0.870388</td>\n",
              "      <td>0.911948</td>\n",
              "      <td>0.954428</td>\n",
              "    </tr>\n",
              "    <tr>\n",
              "      <th>Isn't It A Pity</th>\n",
              "      <td>0.863836</td>\n",
              "      <td>0.911948</td>\n",
              "      <td>0.947243</td>\n",
              "    </tr>\n",
              "    <tr>\n",
              "      <th>Embraceable You</th>\n",
              "      <td>0.742002</td>\n",
              "      <td>0.810459</td>\n",
              "      <td>0.915534</td>\n",
              "    </tr>\n",
              "    <tr>\n",
              "      <th>Folks Who Live On The Hill, The</th>\n",
              "      <td>0.740236</td>\n",
              "      <td>0.810459</td>\n",
              "      <td>0.913354</td>\n",
              "    </tr>\n",
              "    <tr>\n",
              "      <th>Here's To Life</th>\n",
              "      <td>0.737132</td>\n",
              "      <td>0.810459</td>\n",
              "      <td>0.909525</td>\n",
              "    </tr>\n",
              "    <tr>\n",
              "      <th>Rosetta</th>\n",
              "      <td>0.729152</td>\n",
              "      <td>0.810459</td>\n",
              "      <td>0.899678</td>\n",
              "    </tr>\n",
              "    <tr>\n",
              "      <th>Don't Know Why</th>\n",
              "      <td>0.841925</td>\n",
              "      <td>0.943850</td>\n",
              "      <td>0.896281</td>\n",
              "    </tr>\n",
              "    <tr>\n",
              "      <th>Moments To Remember</th>\n",
              "      <td>0.843033</td>\n",
              "      <td>0.943850</td>\n",
              "      <td>0.893186</td>\n",
              "    </tr>\n",
              "    <tr>\n",
              "      <th>Soultrane</th>\n",
              "      <td>0.722923</td>\n",
              "      <td>0.810459</td>\n",
              "      <td>0.891993</td>\n",
              "    </tr>\n",
              "    <tr>\n",
              "      <th>When Day Is Done</th>\n",
              "      <td>0.719352</td>\n",
              "      <td>0.810459</td>\n",
              "      <td>0.887586</td>\n",
              "    </tr>\n",
              "    <tr>\n",
              "      <th>I'm Gonna Sit Right Down and Write Myself A Letter</th>\n",
              "      <td>0.833252</td>\n",
              "      <td>0.943850</td>\n",
              "      <td>0.887048</td>\n",
              "    </tr>\n",
              "    <tr>\n",
              "      <th>People</th>\n",
              "      <td>0.834282</td>\n",
              "      <td>0.943850</td>\n",
              "      <td>0.883914</td>\n",
              "    </tr>\n",
              "    <tr>\n",
              "      <th>Tis Autumn</th>\n",
              "      <td>0.828524</td>\n",
              "      <td>0.943850</td>\n",
              "      <td>0.882015</td>\n",
              "    </tr>\n",
              "    <tr>\n",
              "      <th>September In The Rain</th>\n",
              "      <td>0.828077</td>\n",
              "      <td>0.943850</td>\n",
              "      <td>0.881540</td>\n",
              "    </tr>\n",
              "    <tr>\n",
              "      <th>L-O-V-E</th>\n",
              "      <td>0.829217</td>\n",
              "      <td>0.943850</td>\n",
              "      <td>0.878548</td>\n",
              "    </tr>\n",
              "    <tr>\n",
              "      <th>Stairway To The Stars</th>\n",
              "      <td>0.824498</td>\n",
              "      <td>0.943850</td>\n",
              "      <td>0.877729</td>\n",
              "    </tr>\n",
              "    <tr>\n",
              "      <th>My Blue Heaven</th>\n",
              "      <td>0.708487</td>\n",
              "      <td>0.810459</td>\n",
              "      <td>0.874180</td>\n",
              "    </tr>\n",
              "    <tr>\n",
              "      <th>Danny Boy</th>\n",
              "      <td>0.825016</td>\n",
              "      <td>0.943850</td>\n",
              "      <td>0.874097</td>\n",
              "    </tr>\n",
              "    <tr>\n",
              "      <th>'Tain't No Sin To Take Off Your Skin</th>\n",
              "      <td>0.819342</td>\n",
              "      <td>0.943850</td>\n",
              "      <td>0.872240</td>\n",
              "    </tr>\n",
              "    <tr>\n",
              "      <th>Bring Me Sunshine</th>\n",
              "      <td>0.820395</td>\n",
              "      <td>0.943850</td>\n",
              "      <td>0.869201</td>\n",
              "    </tr>\n",
              "    <tr>\n",
              "      <th>P.S. I Love You</th>\n",
              "      <td>0.816408</td>\n",
              "      <td>0.939354</td>\n",
              "      <td>0.869117</td>\n",
              "    </tr>\n",
              "    <tr>\n",
              "      <th>If I Had You</th>\n",
              "      <td>0.701927</td>\n",
              "      <td>0.810459</td>\n",
              "      <td>0.866086</td>\n",
              "    </tr>\n",
              "    <tr>\n",
              "      <th>If There Is Someone Lovelier</th>\n",
              "      <td>0.812910</td>\n",
              "      <td>0.939354</td>\n",
              "      <td>0.865393</td>\n",
              "    </tr>\n",
              "    <tr>\n",
              "      <th>It Don't Mean A Thing</th>\n",
              "      <td>0.809506</td>\n",
              "      <td>0.943850</td>\n",
              "      <td>0.857664</td>\n",
              "    </tr>\n",
              "    <tr>\n",
              "      <th>All God's Chillun Got Rhythm</th>\n",
              "      <td>0.781941</td>\n",
              "      <td>0.911948</td>\n",
              "      <td>0.857441</td>\n",
              "    </tr>\n",
              "    <tr>\n",
              "      <th>I Can't Give You Anything But Love</th>\n",
              "      <td>0.808456</td>\n",
              "      <td>0.943850</td>\n",
              "      <td>0.856552</td>\n",
              "    </tr>\n",
              "    <tr>\n",
              "      <th>Sea Journey</th>\n",
              "      <td>0.779520</td>\n",
              "      <td>0.911948</td>\n",
              "      <td>0.854786</td>\n",
              "    </tr>\n",
              "  </tbody>\n",
              "</table>\n",
              "</div>"
            ],
            "text/plain": [
              "                                                       score  ...  score_div_max\n",
              "similar_title                                                 ...               \n",
              "I've Told Eve'ry Little Star                        0.810459  ...       1.000000\n",
              "I Loves You Porgy                                   0.943850  ...       1.000000\n",
              "More Than You Know                                  0.796610  ...       0.982912\n",
              "With A Song In My Heart                             0.870388  ...       0.954428\n",
              "Isn't It A Pity                                     0.863836  ...       0.947243\n",
              "Embraceable You                                     0.742002  ...       0.915534\n",
              "Folks Who Live On The Hill, The                     0.740236  ...       0.913354\n",
              "Here's To Life                                      0.737132  ...       0.909525\n",
              "Rosetta                                             0.729152  ...       0.899678\n",
              "Don't Know Why                                      0.841925  ...       0.896281\n",
              "Moments To Remember                                 0.843033  ...       0.893186\n",
              "Soultrane                                           0.722923  ...       0.891993\n",
              "When Day Is Done                                    0.719352  ...       0.887586\n",
              "I'm Gonna Sit Right Down and Write Myself A Letter  0.833252  ...       0.887048\n",
              "People                                              0.834282  ...       0.883914\n",
              "Tis Autumn                                          0.828524  ...       0.882015\n",
              "September In The Rain                               0.828077  ...       0.881540\n",
              "L-O-V-E                                             0.829217  ...       0.878548\n",
              "Stairway To The Stars                               0.824498  ...       0.877729\n",
              "My Blue Heaven                                      0.708487  ...       0.874180\n",
              "Danny Boy                                           0.825016  ...       0.874097\n",
              "'Tain't No Sin To Take Off Your Skin                0.819342  ...       0.872240\n",
              "Bring Me Sunshine                                   0.820395  ...       0.869201\n",
              "P.S. I Love You                                     0.816408  ...       0.869117\n",
              "If I Had You                                        0.701927  ...       0.866086\n",
              "If There Is Someone Lovelier                        0.812910  ...       0.865393\n",
              "It Don't Mean A Thing                               0.809506  ...       0.857664\n",
              "All God's Chillun Got Rhythm                        0.781941  ...       0.857441\n",
              "I Can't Give You Anything But Love                  0.808456  ...       0.856552\n",
              "Sea Journey                                         0.779520  ...       0.854786\n",
              "\n",
              "[30 rows x 3 columns]"
            ]
          },
          "metadata": {},
          "execution_count": 58
        }
      ]
    },
    {
      "cell_type": "markdown",
      "metadata": {
        "id": "ryEvGZqYDsMb"
      },
      "source": [
        "#### Document Similarity\n"
      ]
    },
    {
      "cell_type": "markdown",
      "metadata": {
        "id": "o-eOM9DiFdAt"
      },
      "source": [
        "The TitleId is tagged with the prefix `title_id`, so that it can be distinguished from the sectionid tags, which are numeric."
      ]
    },
    {
      "cell_type": "code",
      "metadata": {
        "colab": {
          "base_uri": "https://localhost:8080/"
        },
        "id": "KRd6qAdY5Z4g",
        "outputId": "345a8b38-0042-432f-83c5-602bb1f9c58a"
      },
      "source": [
        "tunes_eval_list"
      ],
      "execution_count": 59,
      "outputs": [
        {
          "output_type": "execute_result",
          "data": {
            "text/plain": [
              "['Sweet Sue, Just You',\n",
              " 'These Foolish Things',\n",
              " 'Blue Moon',\n",
              " 'All Of Me',\n",
              " \"All God's Chillun Got Rhythm\",\n",
              " 'I Got Rhythm',\n",
              " 'Bye Bye Blackbird',\n",
              " 'Old Fashioned Love',\n",
              " 'Dinah',\n",
              " 'Honeysuckle Rose',\n",
              " 'Misty']"
            ]
          },
          "metadata": {},
          "execution_count": 59
        }
      ]
    },
    {
      "cell_type": "code",
      "metadata": {
        "colab": {
          "base_uri": "https://localhost:8080/"
        },
        "id": "sHWTJtJ_HyoJ",
        "outputId": "dc79c963-8c6d-43f9-ea3d-b9d8c1da84a7"
      },
      "source": [
        "# convert titles to titleid; if multiple tunes with same title, takes the first one. \n",
        "titleid_eval = []\n",
        "for title in tunes_eval_list:\n",
        "  titleid_eval.append(titles.query(f'title == \"{title}\"').reset_index().loc[0,'tune_id'])\n",
        "titleid_eval"
      ],
      "execution_count": 60,
      "outputs": [
        {
          "output_type": "execute_result",
          "data": {
            "text/plain": [
              "[1138, 1170, 159, 60, 57, 505, 206, 1642, 308, 472, 807]"
            ]
          },
          "metadata": {},
          "execution_count": 60
        }
      ]
    },
    {
      "cell_type": "code",
      "metadata": {
        "colab": {
          "base_uri": "https://localhost:8080/"
        },
        "id": "XKO9wonAHsch",
        "outputId": "15daabf2-600e-477e-f4b2-e12eb52158da"
      },
      "source": [
        "for titleid in titleid_eval:\n",
        "  print()\n",
        "  print(titleid_to_title[titleid])\n",
        "  sims = model.dv.similar_by_key(f'titleid_{titleid}', topn=30)\n",
        "  for key, value in sims:\n",
        "    if type(key) == str:  # only display document similarities, skip all section similarities\n",
        "      print(f\"{value:.3f} {titleid_to_title[int(key.replace('titleid_', ''))]}\")\n"
      ],
      "execution_count": 61,
      "outputs": [
        {
          "output_type": "stream",
          "name": "stdout",
          "text": [
            "\n",
            "Sweet Sue, Just You\n",
            "0.952 Sweet Sue\n",
            "0.900 I Want To Be Happy\n",
            "0.884 New York, New York\n",
            "0.867 Valse Hot\n",
            "0.837 Avalon\n",
            "\n",
            "These Foolish Things\n",
            "0.765 Isn't It A Pity\n",
            "0.718 I Loves You Porgy\n",
            "0.660 Very Thought Of You, The\n",
            "0.644 I May Be Wrong\n",
            "0.641 You're The Top\n",
            "0.620 Blue Turning Grey Over You\n",
            "0.619 Hundred Years From Today, A\n",
            "0.604 Woody'n You\n",
            "0.595 They Can't Take That Away From Me\n",
            "0.593 Eiderdown\n",
            "0.585 Apple Blossom Time\n",
            "0.579 Look To The Rainbow\n",
            "0.579 It Might As Well Be Spring\n",
            "\n",
            "Blue Moon\n",
            "0.737 Friday The 13th\n",
            "0.663 Sleepy Time Gal\n",
            "0.654 It's You Or No One\n",
            "0.647 Blue Daniel\n",
            "0.646 C.T.A.\n",
            "0.630 All Through The Day\n",
            "0.623 African Queen, The\n",
            "0.618 I Mean You\n",
            "\n",
            "All Of Me\n",
            "0.809 I'll Be Seeing You\n",
            "0.785 Shine\n",
            "0.763 Tempus Fugit\n",
            "\n",
            "All God's Chillun Got Rhythm\n",
            "0.917 But Beautiful\n",
            "0.890 Let's Get Lost\n",
            "0.850 Lullaby Of Birdland\n",
            "0.806 Teach Me Tonight\n",
            "0.801 Cry Me A River\n",
            "0.800 Besame Mucho\n",
            "0.799 Too Young To Go Steady\n",
            "0.796 Come Back To Me\n",
            "0.790 I'm Getting Sentimental Over You\n",
            "0.788 I've Got My Love To Keep Me Warm\n",
            "\n",
            "I Got Rhythm\n",
            "0.959 I Got Rhythm\n",
            "0.861 Cottontail\n",
            "0.796 Miss Otis Regrets\n",
            "0.796 Scrapple From The Apple\n",
            "0.778 Oh, Lady Be Good\n",
            "0.773 Heart And Soul\n",
            "\n",
            "Bye Bye Blackbird\n",
            "0.865 You're Lucky To Me\n",
            "0.805 St. Thomas\n",
            "\n",
            "Old Fashioned Love\n",
            "0.892 My Life Will Be Sweeter Someday\n",
            "0.867 Nobody's Fault But Mine\n",
            "0.838 Hallelujah I Just Love Him So\n",
            "0.834 Baby Face\n",
            "0.834 Davenport Blues\n",
            "0.825 That's My Weakness Now\n",
            "\n",
            "Dinah\n",
            "0.863 52nd Street Theme\n",
            "0.829 Ja-Da\n",
            "0.804 I Like The Likes Of You\n",
            "0.803 Shine\n",
            "0.791 Give Me Your Telephone Number\n",
            "\n",
            "Honeysuckle Rose\n",
            "0.913 Honeysuckle Rose\n",
            "0.883 Bring Me Sunshine\n",
            "0.819 When You're Smilin'\n",
            "0.816 Postman's Lament\n",
            "0.800 Just Squeeze Me\n",
            "0.790 Ladies Of Calcutta, The\n",
            "0.785 Best Things In Life Are Free, The\n",
            "0.777 How Are Things In Glocca Morra\n",
            "0.776 White Sport Coat And A Pink Carnation, A\n",
            "\n",
            "Misty\n",
            "0.725 It's A Blue World\n",
            "0.713 I Want To Talk About You\n",
            "0.696 Tadd's Delight\n",
            "0.694 Everything Happens To Me\n",
            "0.686 Nearness Of You, The\n",
            "0.672 For All We Know\n"
          ]
        }
      ]
    },
    {
      "cell_type": "code",
      "metadata": {
        "id": "QyS-LqybQBwV"
      },
      "source": [
        ""
      ],
      "execution_count": 61,
      "outputs": []
    }
  ]
}